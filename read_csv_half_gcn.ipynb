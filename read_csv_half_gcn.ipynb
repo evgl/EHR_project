{
 "cells": [
  {
   "cell_type": "markdown",
   "metadata": {},
   "source": [
    "### Data extraction\n",
    "Extract data from MIMIC-III"
   ]
  },
  {
   "cell_type": "code",
   "execution_count": 1,
   "metadata": {},
   "outputs": [
    {
     "data": {
      "text/html": [
       "        <script type=\"text/javascript\">\n",
       "        window.PlotlyConfig = {MathJaxConfig: 'local'};\n",
       "        if (window.MathJax) {MathJax.Hub.Config({SVG: {font: \"STIX-Web\"}});}\n",
       "        if (typeof require !== 'undefined') {\n",
       "        require.undef(\"plotly\");\n",
       "        requirejs.config({\n",
       "            paths: {\n",
       "                'plotly': ['https://cdn.plot.ly/plotly-latest.min']\n",
       "            }\n",
       "        });\n",
       "        require(['plotly'], function(Plotly) {\n",
       "            window._Plotly = Plotly;\n",
       "        });\n",
       "        }\n",
       "        </script>\n",
       "        "
      ]
     },
     "metadata": {},
     "output_type": "display_data"
    }
   ],
   "source": [
    "import time\n",
    "import numpy as np \n",
    "import pandas as pd\n",
    "import matplotlib.pyplot as plt\n",
    "import seaborn as sns\n",
    "from tqdm import tqdm\n",
    "\n",
    "# import re\n",
    "\n",
    "# import plotly.graph_objs as go\n",
    "# import plotly.plotly as py\n",
    "import cufflinks\n",
    "# from IPython.core.interactiveshell import InteractiveShell\n",
    "# import plotly.figure_factory as ff\n",
    "# InteractiveShell.ast_node_interactivity = 'all'\n",
    "# from plotly.offline import iplot\n",
    "cufflinks.go_offline()\n",
    "cufflinks.set_config_file(world_readable=True, theme='pearl')"
   ]
  },
  {
   "cell_type": "code",
   "execution_count": 2,
   "metadata": {},
   "outputs": [
    {
     "name": "stderr",
     "output_type": "stream",
     "text": [
      "/home/evan/anaconda3/lib/python3.7/site-packages/IPython/core/interactiveshell.py:3063: DtypeWarning:\n",
      "\n",
      "Columns (4,5) have mixed types.Specify dtype option on import or set low_memory=False.\n",
      "\n"
     ]
    },
    {
     "name": "stdout",
     "output_type": "stream",
     "text": [
      "39.51342821121216\n"
     ]
    }
   ],
   "source": [
    "# Import pandas \n",
    "import pandas as pd \n",
    "\n",
    "start = time.time()\n",
    "# reading csv file \n",
    "admissions_df = pd.read_csv(\"../datasets/mmc-3/ADMISSIONS.csv\")\n",
    "noteevents_df = pd.read_csv(\"../datasets/mmc-3/NOTEEVENTS.csv\") \n",
    "end = time.time()\n",
    "print(end - start)\n"
   ]
  },
  {
   "cell_type": "code",
   "execution_count": 3,
   "metadata": {},
   "outputs": [],
   "source": [
    "# diagnosis = df.DIAGNOSIS.unique()\n",
    "# #PNEUMONIA\n",
    "# for i in diagnosis:\n",
    "#     print(f\"[{i}]\")\n",
    "# data = df.copy()\n",
    "# data.info()\n",
    "\n",
    "# pneumonia_df = data.loc[df['DIAGNOSIS'] == 'PNEUMONIA']\n",
    "# pneumonia_df.info()"
   ]
  },
  {
   "cell_type": "code",
   "execution_count": 4,
   "metadata": {
    "scrolled": true
   },
   "outputs": [
    {
     "data": {
      "text/html": [
       "<div>\n",
       "<style scoped>\n",
       "    .dataframe tbody tr th:only-of-type {\n",
       "        vertical-align: middle;\n",
       "    }\n",
       "\n",
       "    .dataframe tbody tr th {\n",
       "        vertical-align: top;\n",
       "    }\n",
       "\n",
       "    .dataframe thead th {\n",
       "        text-align: right;\n",
       "    }\n",
       "</style>\n",
       "<table border=\"1\" class=\"dataframe\">\n",
       "  <thead>\n",
       "    <tr style=\"text-align: right;\">\n",
       "      <th></th>\n",
       "      <th>ROW_ID</th>\n",
       "      <th>SUBJECT_ID</th>\n",
       "      <th>HADM_ID</th>\n",
       "      <th>ADMITTIME</th>\n",
       "      <th>DISCHTIME</th>\n",
       "      <th>DEATHTIME</th>\n",
       "      <th>ADMISSION_TYPE</th>\n",
       "      <th>ADMISSION_LOCATION</th>\n",
       "      <th>DISCHARGE_LOCATION</th>\n",
       "      <th>INSURANCE</th>\n",
       "      <th>LANGUAGE</th>\n",
       "      <th>RELIGION</th>\n",
       "      <th>MARITAL_STATUS</th>\n",
       "      <th>ETHNICITY</th>\n",
       "      <th>EDREGTIME</th>\n",
       "      <th>EDOUTTIME</th>\n",
       "      <th>DIAGNOSIS</th>\n",
       "      <th>HOSPITAL_EXPIRE_FLAG</th>\n",
       "      <th>HAS_CHARTEVENTS_DATA</th>\n",
       "    </tr>\n",
       "  </thead>\n",
       "  <tbody>\n",
       "    <tr>\n",
       "      <th>0</th>\n",
       "      <td>21</td>\n",
       "      <td>22</td>\n",
       "      <td>165315</td>\n",
       "      <td>2196-04-09 12:26:00</td>\n",
       "      <td>2196-04-10 15:54:00</td>\n",
       "      <td>NaN</td>\n",
       "      <td>EMERGENCY</td>\n",
       "      <td>EMERGENCY ROOM ADMIT</td>\n",
       "      <td>DISC-TRAN CANCER/CHLDRN H</td>\n",
       "      <td>Private</td>\n",
       "      <td>NaN</td>\n",
       "      <td>UNOBTAINABLE</td>\n",
       "      <td>MARRIED</td>\n",
       "      <td>WHITE</td>\n",
       "      <td>2196-04-09 10:06:00</td>\n",
       "      <td>2196-04-09 13:24:00</td>\n",
       "      <td>BENZODIAZEPINE OVERDOSE</td>\n",
       "      <td>0</td>\n",
       "      <td>1</td>\n",
       "    </tr>\n",
       "    <tr>\n",
       "      <th>1</th>\n",
       "      <td>22</td>\n",
       "      <td>23</td>\n",
       "      <td>152223</td>\n",
       "      <td>2153-09-03 07:15:00</td>\n",
       "      <td>2153-09-08 19:10:00</td>\n",
       "      <td>NaN</td>\n",
       "      <td>ELECTIVE</td>\n",
       "      <td>PHYS REFERRAL/NORMAL DELI</td>\n",
       "      <td>HOME HEALTH CARE</td>\n",
       "      <td>Medicare</td>\n",
       "      <td>NaN</td>\n",
       "      <td>CATHOLIC</td>\n",
       "      <td>MARRIED</td>\n",
       "      <td>WHITE</td>\n",
       "      <td>NaN</td>\n",
       "      <td>NaN</td>\n",
       "      <td>CORONARY ARTERY DISEASE\\CORONARY ARTERY BYPASS...</td>\n",
       "      <td>0</td>\n",
       "      <td>1</td>\n",
       "    </tr>\n",
       "    <tr>\n",
       "      <th>2</th>\n",
       "      <td>23</td>\n",
       "      <td>23</td>\n",
       "      <td>124321</td>\n",
       "      <td>2157-10-18 19:34:00</td>\n",
       "      <td>2157-10-25 14:00:00</td>\n",
       "      <td>NaN</td>\n",
       "      <td>EMERGENCY</td>\n",
       "      <td>TRANSFER FROM HOSP/EXTRAM</td>\n",
       "      <td>HOME HEALTH CARE</td>\n",
       "      <td>Medicare</td>\n",
       "      <td>ENGL</td>\n",
       "      <td>CATHOLIC</td>\n",
       "      <td>MARRIED</td>\n",
       "      <td>WHITE</td>\n",
       "      <td>NaN</td>\n",
       "      <td>NaN</td>\n",
       "      <td>BRAIN MASS</td>\n",
       "      <td>0</td>\n",
       "      <td>1</td>\n",
       "    </tr>\n",
       "    <tr>\n",
       "      <th>3</th>\n",
       "      <td>24</td>\n",
       "      <td>24</td>\n",
       "      <td>161859</td>\n",
       "      <td>2139-06-06 16:14:00</td>\n",
       "      <td>2139-06-09 12:48:00</td>\n",
       "      <td>NaN</td>\n",
       "      <td>EMERGENCY</td>\n",
       "      <td>TRANSFER FROM HOSP/EXTRAM</td>\n",
       "      <td>HOME</td>\n",
       "      <td>Private</td>\n",
       "      <td>NaN</td>\n",
       "      <td>PROTESTANT QUAKER</td>\n",
       "      <td>SINGLE</td>\n",
       "      <td>WHITE</td>\n",
       "      <td>NaN</td>\n",
       "      <td>NaN</td>\n",
       "      <td>INTERIOR MYOCARDIAL INFARCTION</td>\n",
       "      <td>0</td>\n",
       "      <td>1</td>\n",
       "    </tr>\n",
       "    <tr>\n",
       "      <th>4</th>\n",
       "      <td>25</td>\n",
       "      <td>25</td>\n",
       "      <td>129635</td>\n",
       "      <td>2160-11-02 02:06:00</td>\n",
       "      <td>2160-11-05 14:55:00</td>\n",
       "      <td>NaN</td>\n",
       "      <td>EMERGENCY</td>\n",
       "      <td>EMERGENCY ROOM ADMIT</td>\n",
       "      <td>HOME</td>\n",
       "      <td>Private</td>\n",
       "      <td>NaN</td>\n",
       "      <td>UNOBTAINABLE</td>\n",
       "      <td>MARRIED</td>\n",
       "      <td>WHITE</td>\n",
       "      <td>2160-11-02 01:01:00</td>\n",
       "      <td>2160-11-02 04:27:00</td>\n",
       "      <td>ACUTE CORONARY SYNDROME</td>\n",
       "      <td>0</td>\n",
       "      <td>1</td>\n",
       "    </tr>\n",
       "    <tr>\n",
       "      <th>...</th>\n",
       "      <td>...</td>\n",
       "      <td>...</td>\n",
       "      <td>...</td>\n",
       "      <td>...</td>\n",
       "      <td>...</td>\n",
       "      <td>...</td>\n",
       "      <td>...</td>\n",
       "      <td>...</td>\n",
       "      <td>...</td>\n",
       "      <td>...</td>\n",
       "      <td>...</td>\n",
       "      <td>...</td>\n",
       "      <td>...</td>\n",
       "      <td>...</td>\n",
       "      <td>...</td>\n",
       "      <td>...</td>\n",
       "      <td>...</td>\n",
       "      <td>...</td>\n",
       "      <td>...</td>\n",
       "    </tr>\n",
       "    <tr>\n",
       "      <th>58971</th>\n",
       "      <td>58594</td>\n",
       "      <td>98800</td>\n",
       "      <td>191113</td>\n",
       "      <td>2131-03-30 21:13:00</td>\n",
       "      <td>2131-04-02 15:02:00</td>\n",
       "      <td>NaN</td>\n",
       "      <td>EMERGENCY</td>\n",
       "      <td>CLINIC REFERRAL/PREMATURE</td>\n",
       "      <td>HOME</td>\n",
       "      <td>Private</td>\n",
       "      <td>ENGL</td>\n",
       "      <td>NOT SPECIFIED</td>\n",
       "      <td>SINGLE</td>\n",
       "      <td>WHITE</td>\n",
       "      <td>2131-03-30 19:44:00</td>\n",
       "      <td>2131-03-30 22:41:00</td>\n",
       "      <td>TRAUMA</td>\n",
       "      <td>0</td>\n",
       "      <td>1</td>\n",
       "    </tr>\n",
       "    <tr>\n",
       "      <th>58972</th>\n",
       "      <td>58595</td>\n",
       "      <td>98802</td>\n",
       "      <td>101071</td>\n",
       "      <td>2151-03-05 20:00:00</td>\n",
       "      <td>2151-03-06 09:10:00</td>\n",
       "      <td>2151-03-06 09:10:00</td>\n",
       "      <td>EMERGENCY</td>\n",
       "      <td>CLINIC REFERRAL/PREMATURE</td>\n",
       "      <td>DEAD/EXPIRED</td>\n",
       "      <td>Medicare</td>\n",
       "      <td>ENGL</td>\n",
       "      <td>CATHOLIC</td>\n",
       "      <td>WIDOWED</td>\n",
       "      <td>WHITE</td>\n",
       "      <td>2151-03-05 17:23:00</td>\n",
       "      <td>2151-03-05 21:06:00</td>\n",
       "      <td>SAH</td>\n",
       "      <td>1</td>\n",
       "      <td>1</td>\n",
       "    </tr>\n",
       "    <tr>\n",
       "      <th>58973</th>\n",
       "      <td>58596</td>\n",
       "      <td>98805</td>\n",
       "      <td>122631</td>\n",
       "      <td>2200-09-12 07:15:00</td>\n",
       "      <td>2200-09-20 12:08:00</td>\n",
       "      <td>NaN</td>\n",
       "      <td>ELECTIVE</td>\n",
       "      <td>PHYS REFERRAL/NORMAL DELI</td>\n",
       "      <td>HOME HEALTH CARE</td>\n",
       "      <td>Private</td>\n",
       "      <td>ENGL</td>\n",
       "      <td>NOT SPECIFIED</td>\n",
       "      <td>MARRIED</td>\n",
       "      <td>WHITE</td>\n",
       "      <td>NaN</td>\n",
       "      <td>NaN</td>\n",
       "      <td>RENAL CANCER/SDA</td>\n",
       "      <td>0</td>\n",
       "      <td>1</td>\n",
       "    </tr>\n",
       "    <tr>\n",
       "      <th>58974</th>\n",
       "      <td>58597</td>\n",
       "      <td>98813</td>\n",
       "      <td>170407</td>\n",
       "      <td>2128-11-11 02:29:00</td>\n",
       "      <td>2128-12-22 13:11:00</td>\n",
       "      <td>NaN</td>\n",
       "      <td>EMERGENCY</td>\n",
       "      <td>EMERGENCY ROOM ADMIT</td>\n",
       "      <td>SNF</td>\n",
       "      <td>Private</td>\n",
       "      <td>ENGL</td>\n",
       "      <td>CATHOLIC</td>\n",
       "      <td>MARRIED</td>\n",
       "      <td>WHITE</td>\n",
       "      <td>2128-11-10 23:48:00</td>\n",
       "      <td>2128-11-11 03:16:00</td>\n",
       "      <td>S/P FALL</td>\n",
       "      <td>0</td>\n",
       "      <td>0</td>\n",
       "    </tr>\n",
       "    <tr>\n",
       "      <th>58975</th>\n",
       "      <td>58598</td>\n",
       "      <td>98813</td>\n",
       "      <td>190264</td>\n",
       "      <td>2131-10-25 03:09:00</td>\n",
       "      <td>2131-10-26 17:44:00</td>\n",
       "      <td>NaN</td>\n",
       "      <td>EMERGENCY</td>\n",
       "      <td>CLINIC REFERRAL/PREMATURE</td>\n",
       "      <td>HOME</td>\n",
       "      <td>Private</td>\n",
       "      <td>ENGL</td>\n",
       "      <td>CATHOLIC</td>\n",
       "      <td>MARRIED</td>\n",
       "      <td>WHITE</td>\n",
       "      <td>2131-10-25 00:08:00</td>\n",
       "      <td>2131-10-25 04:35:00</td>\n",
       "      <td>INTRACRANIAL HEMORRHAGE</td>\n",
       "      <td>0</td>\n",
       "      <td>1</td>\n",
       "    </tr>\n",
       "  </tbody>\n",
       "</table>\n",
       "<p>58976 rows × 19 columns</p>\n",
       "</div>"
      ],
      "text/plain": [
       "       ROW_ID  SUBJECT_ID  HADM_ID            ADMITTIME            DISCHTIME  \\\n",
       "0          21          22   165315  2196-04-09 12:26:00  2196-04-10 15:54:00   \n",
       "1          22          23   152223  2153-09-03 07:15:00  2153-09-08 19:10:00   \n",
       "2          23          23   124321  2157-10-18 19:34:00  2157-10-25 14:00:00   \n",
       "3          24          24   161859  2139-06-06 16:14:00  2139-06-09 12:48:00   \n",
       "4          25          25   129635  2160-11-02 02:06:00  2160-11-05 14:55:00   \n",
       "...       ...         ...      ...                  ...                  ...   \n",
       "58971   58594       98800   191113  2131-03-30 21:13:00  2131-04-02 15:02:00   \n",
       "58972   58595       98802   101071  2151-03-05 20:00:00  2151-03-06 09:10:00   \n",
       "58973   58596       98805   122631  2200-09-12 07:15:00  2200-09-20 12:08:00   \n",
       "58974   58597       98813   170407  2128-11-11 02:29:00  2128-12-22 13:11:00   \n",
       "58975   58598       98813   190264  2131-10-25 03:09:00  2131-10-26 17:44:00   \n",
       "\n",
       "                 DEATHTIME ADMISSION_TYPE         ADMISSION_LOCATION  \\\n",
       "0                      NaN      EMERGENCY       EMERGENCY ROOM ADMIT   \n",
       "1                      NaN       ELECTIVE  PHYS REFERRAL/NORMAL DELI   \n",
       "2                      NaN      EMERGENCY  TRANSFER FROM HOSP/EXTRAM   \n",
       "3                      NaN      EMERGENCY  TRANSFER FROM HOSP/EXTRAM   \n",
       "4                      NaN      EMERGENCY       EMERGENCY ROOM ADMIT   \n",
       "...                    ...            ...                        ...   \n",
       "58971                  NaN      EMERGENCY  CLINIC REFERRAL/PREMATURE   \n",
       "58972  2151-03-06 09:10:00      EMERGENCY  CLINIC REFERRAL/PREMATURE   \n",
       "58973                  NaN       ELECTIVE  PHYS REFERRAL/NORMAL DELI   \n",
       "58974                  NaN      EMERGENCY       EMERGENCY ROOM ADMIT   \n",
       "58975                  NaN      EMERGENCY  CLINIC REFERRAL/PREMATURE   \n",
       "\n",
       "              DISCHARGE_LOCATION INSURANCE LANGUAGE           RELIGION  \\\n",
       "0      DISC-TRAN CANCER/CHLDRN H   Private      NaN       UNOBTAINABLE   \n",
       "1               HOME HEALTH CARE  Medicare      NaN           CATHOLIC   \n",
       "2               HOME HEALTH CARE  Medicare     ENGL           CATHOLIC   \n",
       "3                           HOME   Private      NaN  PROTESTANT QUAKER   \n",
       "4                           HOME   Private      NaN       UNOBTAINABLE   \n",
       "...                          ...       ...      ...                ...   \n",
       "58971                       HOME   Private     ENGL      NOT SPECIFIED   \n",
       "58972               DEAD/EXPIRED  Medicare     ENGL           CATHOLIC   \n",
       "58973           HOME HEALTH CARE   Private     ENGL      NOT SPECIFIED   \n",
       "58974                        SNF   Private     ENGL           CATHOLIC   \n",
       "58975                       HOME   Private     ENGL           CATHOLIC   \n",
       "\n",
       "      MARITAL_STATUS ETHNICITY            EDREGTIME            EDOUTTIME  \\\n",
       "0            MARRIED     WHITE  2196-04-09 10:06:00  2196-04-09 13:24:00   \n",
       "1            MARRIED     WHITE                  NaN                  NaN   \n",
       "2            MARRIED     WHITE                  NaN                  NaN   \n",
       "3             SINGLE     WHITE                  NaN                  NaN   \n",
       "4            MARRIED     WHITE  2160-11-02 01:01:00  2160-11-02 04:27:00   \n",
       "...              ...       ...                  ...                  ...   \n",
       "58971         SINGLE     WHITE  2131-03-30 19:44:00  2131-03-30 22:41:00   \n",
       "58972        WIDOWED     WHITE  2151-03-05 17:23:00  2151-03-05 21:06:00   \n",
       "58973        MARRIED     WHITE                  NaN                  NaN   \n",
       "58974        MARRIED     WHITE  2128-11-10 23:48:00  2128-11-11 03:16:00   \n",
       "58975        MARRIED     WHITE  2131-10-25 00:08:00  2131-10-25 04:35:00   \n",
       "\n",
       "                                               DIAGNOSIS  \\\n",
       "0                                BENZODIAZEPINE OVERDOSE   \n",
       "1      CORONARY ARTERY DISEASE\\CORONARY ARTERY BYPASS...   \n",
       "2                                             BRAIN MASS   \n",
       "3                         INTERIOR MYOCARDIAL INFARCTION   \n",
       "4                                ACUTE CORONARY SYNDROME   \n",
       "...                                                  ...   \n",
       "58971                                             TRAUMA   \n",
       "58972                                                SAH   \n",
       "58973                                   RENAL CANCER/SDA   \n",
       "58974                                           S/P FALL   \n",
       "58975                            INTRACRANIAL HEMORRHAGE   \n",
       "\n",
       "       HOSPITAL_EXPIRE_FLAG  HAS_CHARTEVENTS_DATA  \n",
       "0                         0                     1  \n",
       "1                         0                     1  \n",
       "2                         0                     1  \n",
       "3                         0                     1  \n",
       "4                         0                     1  \n",
       "...                     ...                   ...  \n",
       "58971                     0                     1  \n",
       "58972                     1                     1  \n",
       "58973                     0                     1  \n",
       "58974                     0                     0  \n",
       "58975                     0                     1  \n",
       "\n",
       "[58976 rows x 19 columns]"
      ]
     },
     "execution_count": 4,
     "metadata": {},
     "output_type": "execute_result"
    }
   ],
   "source": [
    "admissions_df"
   ]
  },
  {
   "cell_type": "code",
   "execution_count": 5,
   "metadata": {
    "scrolled": true
   },
   "outputs": [
    {
     "name": "stdout",
     "output_type": "stream",
     "text": [
      "<class 'pandas.core.frame.DataFrame'>\n",
      "RangeIndex: 2083180 entries, 0 to 2083179\n",
      "Data columns (total 11 columns):\n",
      " #   Column       Dtype  \n",
      "---  ------       -----  \n",
      " 0   ROW_ID       int64  \n",
      " 1   SUBJECT_ID   int64  \n",
      " 2   HADM_ID      float64\n",
      " 3   CHARTDATE    object \n",
      " 4   CHARTTIME    object \n",
      " 5   STORETIME    object \n",
      " 6   CATEGORY     object \n",
      " 7   DESCRIPTION  object \n",
      " 8   CGID         float64\n",
      " 9   ISERROR      float64\n",
      " 10  TEXT         object \n",
      "dtypes: float64(3), int64(2), object(6)\n",
      "memory usage: 174.8+ MB\n"
     ]
    }
   ],
   "source": [
    "noteevents_df.info()"
   ]
  },
  {
   "cell_type": "code",
   "execution_count": 6,
   "metadata": {},
   "outputs": [
    {
     "name": "stdout",
     "output_type": "stream",
     "text": [
      "<class 'pandas.core.frame.DataFrame'>\n",
      "RangeIndex: 58976 entries, 0 to 58975\n",
      "Data columns (total 19 columns):\n",
      " #   Column                Non-Null Count  Dtype \n",
      "---  ------                --------------  ----- \n",
      " 0   ROW_ID                58976 non-null  int64 \n",
      " 1   SUBJECT_ID            58976 non-null  int64 \n",
      " 2   HADM_ID               58976 non-null  int64 \n",
      " 3   ADMITTIME             58976 non-null  object\n",
      " 4   DISCHTIME             58976 non-null  object\n",
      " 5   DEATHTIME             5854 non-null   object\n",
      " 6   ADMISSION_TYPE        58976 non-null  object\n",
      " 7   ADMISSION_LOCATION    58976 non-null  object\n",
      " 8   DISCHARGE_LOCATION    58976 non-null  object\n",
      " 9   INSURANCE             58976 non-null  object\n",
      " 10  LANGUAGE              33644 non-null  object\n",
      " 11  RELIGION              58518 non-null  object\n",
      " 12  MARITAL_STATUS        48848 non-null  object\n",
      " 13  ETHNICITY             58976 non-null  object\n",
      " 14  EDREGTIME             30877 non-null  object\n",
      " 15  EDOUTTIME             30877 non-null  object\n",
      " 16  DIAGNOSIS             58951 non-null  object\n",
      " 17  HOSPITAL_EXPIRE_FLAG  58976 non-null  int64 \n",
      " 18  HAS_CHARTEVENTS_DATA  58976 non-null  int64 \n",
      "dtypes: int64(5), object(14)\n",
      "memory usage: 8.5+ MB\n"
     ]
    }
   ],
   "source": [
    "admissions_df.info()"
   ]
  },
  {
   "cell_type": "code",
   "execution_count": 7,
   "metadata": {},
   "outputs": [
    {
     "data": {
      "text/plain": [
       "\"\\n>>> left\\n  transaction_id user_id     value\\n0              A   Peter  1.867558\\n1              B    John -0.977278\\n2              C    John  0.950088\\n3              D    Anna -0.151357\\n>>> right\\n  user_id favorite_color\\n0    Paul           blue\\n1    Mary           blue\\n2    John            red\\n3    Anna            NaN\\n\\n---------\\n>>> left.merge(right, on='user_id', how='left', indicator=True)\\n  transaction_id user_id     value favorite_color     _merge\\n0              A   Peter  1.867558            NaN  left_only\\n1              B    John -0.977278            red       both\\n2              C    John  0.950088            red       both\\n3              D    Anna -0.151357            NaN       both\\n\\n---------\\nleft.merge(right.rename({'user_id': 'user_id_r'}, axis=1),\\n               left_on='user_id', right_on='user_id_r', how='left')\\n               \\n  transaction_id user_id     value user_id_r favorite_color\\n0              A   Peter  1.867558       NaN            NaN\\n1              B    John -0.977278      John            red\\n2              C    John  0.950088      John            red\\n3              D    Anna -0.151357      Anna            NaN\\n---------\\nselect\\n    t.transaction_id\\n    , t.user_id\\n    , t.value\\n    , u.user_id as user_id_r\\n    , u.favorite_color\\nfrom\\n    transactions t\\n    left join\\n    users u\\n    on t.user_id = u.user_id\\n;\\n\""
      ]
     },
     "execution_count": 7,
     "metadata": {},
     "output_type": "execute_result"
    }
   ],
   "source": [
    "# https://towardsdatascience.com/left-join-with-pandas-data-frames-in-python-c29c85089ba4\n",
    "# left_join = noteevents_df.join(admissions_df.set_index('HADM_ID'), on='HADM_ID')\n",
    "# left_join = noteevents_df.set_index('HADM_ID').join(admissions_df.set_index('HADM_ID'))\n",
    "\"\"\"\n",
    ">>> left\n",
    "  transaction_id user_id     value\n",
    "0              A   Peter  1.867558\n",
    "1              B    John -0.977278\n",
    "2              C    John  0.950088\n",
    "3              D    Anna -0.151357\n",
    ">>> right\n",
    "  user_id favorite_color\n",
    "0    Paul           blue\n",
    "1    Mary           blue\n",
    "2    John            red\n",
    "3    Anna            NaN\n",
    "\n",
    "---------\n",
    ">>> left.merge(right, on='user_id', how='left', indicator=True)\n",
    "  transaction_id user_id     value favorite_color     _merge\n",
    "0              A   Peter  1.867558            NaN  left_only\n",
    "1              B    John -0.977278            red       both\n",
    "2              C    John  0.950088            red       both\n",
    "3              D    Anna -0.151357            NaN       both\n",
    "\n",
    "---------\n",
    "left.merge(right.rename({'user_id': 'user_id_r'}, axis=1),\n",
    "               left_on='user_id', right_on='user_id_r', how='left')\n",
    "               \n",
    "  transaction_id user_id     value user_id_r favorite_color\n",
    "0              A   Peter  1.867558       NaN            NaN\n",
    "1              B    John -0.977278      John            red\n",
    "2              C    John  0.950088      John            red\n",
    "3              D    Anna -0.151357      Anna            NaN\n",
    "---------\n",
    "select\n",
    "    t.transaction_id\n",
    "    , t.user_id\n",
    "    , t.value\n",
    "    , u.user_id as user_id_r\n",
    "    , u.favorite_color\n",
    "from\n",
    "    transactions t\n",
    "    left join\n",
    "    users u\n",
    "    on t.user_id = u.user_id\n",
    ";\n",
    "\"\"\""
   ]
  },
  {
   "cell_type": "code",
   "execution_count": 8,
   "metadata": {},
   "outputs": [
    {
     "name": "stdout",
     "output_type": "stream",
     "text": [
      "4.155212163925171\n"
     ]
    }
   ],
   "source": [
    "start = time.time()\n",
    "# Left join of two dataframes\n",
    "note_admiss_df_left = noteevents_df.merge(admissions_df, on='HADM_ID', how='left', indicator=True)\n",
    "end = time.time()\n",
    "print(end - start)"
   ]
  },
  {
   "cell_type": "code",
   "execution_count": 9,
   "metadata": {
    "scrolled": false
   },
   "outputs": [
    {
     "name": "stdout",
     "output_type": "stream",
     "text": [
      "<class 'pandas.core.frame.DataFrame'>\n",
      "Int64Index: 2083180 entries, 0 to 2083179\n",
      "Data columns (total 30 columns):\n",
      " #   Column                Dtype   \n",
      "---  ------                -----   \n",
      " 0   ROW_ID_x              int64   \n",
      " 1   SUBJECT_ID_x          int64   \n",
      " 2   HADM_ID               float64 \n",
      " 3   CHARTDATE             object  \n",
      " 4   CHARTTIME             object  \n",
      " 5   STORETIME             object  \n",
      " 6   CATEGORY              object  \n",
      " 7   DESCRIPTION           object  \n",
      " 8   CGID                  float64 \n",
      " 9   ISERROR               float64 \n",
      " 10  TEXT                  object  \n",
      " 11  ROW_ID_y              float64 \n",
      " 12  SUBJECT_ID_y          float64 \n",
      " 13  ADMITTIME             object  \n",
      " 14  DISCHTIME             object  \n",
      " 15  DEATHTIME             object  \n",
      " 16  ADMISSION_TYPE        object  \n",
      " 17  ADMISSION_LOCATION    object  \n",
      " 18  DISCHARGE_LOCATION    object  \n",
      " 19  INSURANCE             object  \n",
      " 20  LANGUAGE              object  \n",
      " 21  RELIGION              object  \n",
      " 22  MARITAL_STATUS        object  \n",
      " 23  ETHNICITY             object  \n",
      " 24  EDREGTIME             object  \n",
      " 25  EDOUTTIME             object  \n",
      " 26  DIAGNOSIS             object  \n",
      " 27  HOSPITAL_EXPIRE_FLAG  float64 \n",
      " 28  HAS_CHARTEVENTS_DATA  float64 \n",
      " 29  _merge                category\n",
      "dtypes: category(1), float64(7), int64(2), object(20)\n",
      "memory usage: 478.8+ MB\n"
     ]
    }
   ],
   "source": [
    "note_admiss_df_left.info()"
   ]
  },
  {
   "cell_type": "code",
   "execution_count": 10,
   "metadata": {},
   "outputs": [
    {
     "data": {
      "text/plain": [
       "(2083180, 30)"
      ]
     },
     "execution_count": 10,
     "metadata": {},
     "output_type": "execute_result"
    }
   ],
   "source": [
    "note_admiss_df_left.shape"
   ]
  },
  {
   "cell_type": "code",
   "execution_count": 11,
   "metadata": {
    "scrolled": false
   },
   "outputs": [
    {
     "data": {
      "text/html": [
       "<div>\n",
       "<style scoped>\n",
       "    .dataframe tbody tr th:only-of-type {\n",
       "        vertical-align: middle;\n",
       "    }\n",
       "\n",
       "    .dataframe tbody tr th {\n",
       "        vertical-align: top;\n",
       "    }\n",
       "\n",
       "    .dataframe thead th {\n",
       "        text-align: right;\n",
       "    }\n",
       "</style>\n",
       "<table border=\"1\" class=\"dataframe\">\n",
       "  <thead>\n",
       "    <tr style=\"text-align: right;\">\n",
       "      <th></th>\n",
       "      <th>DIAGNOSIS</th>\n",
       "      <th>SUBJECT_ID_x</th>\n",
       "      <th>SUBJECT_ID_y</th>\n",
       "      <th>DESCRIPTION</th>\n",
       "      <th>CATEGORY</th>\n",
       "    </tr>\n",
       "  </thead>\n",
       "  <tbody>\n",
       "    <tr>\n",
       "      <th>0</th>\n",
       "      <td>RT LOWER LOBE PNEUMONIA</td>\n",
       "      <td>22532</td>\n",
       "      <td>22532.0</td>\n",
       "      <td>Report</td>\n",
       "      <td>Discharge summary</td>\n",
       "    </tr>\n",
       "    <tr>\n",
       "      <th>1</th>\n",
       "      <td>CHRONIC OBSTRUCTIVE PULMONARY DISEASE</td>\n",
       "      <td>13702</td>\n",
       "      <td>13702.0</td>\n",
       "      <td>Report</td>\n",
       "      <td>Discharge summary</td>\n",
       "    </tr>\n",
       "    <tr>\n",
       "      <th>2</th>\n",
       "      <td>TRACHEALBRONCHEAL MALACEA/SDA</td>\n",
       "      <td>13702</td>\n",
       "      <td>13702.0</td>\n",
       "      <td>Report</td>\n",
       "      <td>Discharge summary</td>\n",
       "    </tr>\n",
       "    <tr>\n",
       "      <th>3</th>\n",
       "      <td>ASTHMA;COPD EXACERBATION</td>\n",
       "      <td>13702</td>\n",
       "      <td>13702.0</td>\n",
       "      <td>Report</td>\n",
       "      <td>Discharge summary</td>\n",
       "    </tr>\n",
       "    <tr>\n",
       "      <th>4</th>\n",
       "      <td>S/P FALL;TELEMETRY</td>\n",
       "      <td>26880</td>\n",
       "      <td>26880.0</td>\n",
       "      <td>Report</td>\n",
       "      <td>Discharge summary</td>\n",
       "    </tr>\n",
       "    <tr>\n",
       "      <th>...</th>\n",
       "      <td>...</td>\n",
       "      <td>...</td>\n",
       "      <td>...</td>\n",
       "      <td>...</td>\n",
       "      <td>...</td>\n",
       "    </tr>\n",
       "    <tr>\n",
       "      <th>2083175</th>\n",
       "      <td>NEWBORN</td>\n",
       "      <td>31097</td>\n",
       "      <td>31097.0</td>\n",
       "      <td>Report</td>\n",
       "      <td>Nursing/other</td>\n",
       "    </tr>\n",
       "    <tr>\n",
       "      <th>2083176</th>\n",
       "      <td>NEWBORN</td>\n",
       "      <td>31097</td>\n",
       "      <td>31097.0</td>\n",
       "      <td>Report</td>\n",
       "      <td>Nursing/other</td>\n",
       "    </tr>\n",
       "    <tr>\n",
       "      <th>2083177</th>\n",
       "      <td>NEWBORN</td>\n",
       "      <td>31097</td>\n",
       "      <td>31097.0</td>\n",
       "      <td>Report</td>\n",
       "      <td>Nursing/other</td>\n",
       "    </tr>\n",
       "    <tr>\n",
       "      <th>2083178</th>\n",
       "      <td>NEWBORN</td>\n",
       "      <td>31097</td>\n",
       "      <td>31097.0</td>\n",
       "      <td>Report</td>\n",
       "      <td>Nursing/other</td>\n",
       "    </tr>\n",
       "    <tr>\n",
       "      <th>2083179</th>\n",
       "      <td>NEWBORN</td>\n",
       "      <td>31097</td>\n",
       "      <td>31097.0</td>\n",
       "      <td>Report</td>\n",
       "      <td>Nursing/other</td>\n",
       "    </tr>\n",
       "  </tbody>\n",
       "</table>\n",
       "<p>2083180 rows × 5 columns</p>\n",
       "</div>"
      ],
      "text/plain": [
       "                                     DIAGNOSIS  SUBJECT_ID_x  SUBJECT_ID_y  \\\n",
       "0                      RT LOWER LOBE PNEUMONIA         22532       22532.0   \n",
       "1        CHRONIC OBSTRUCTIVE PULMONARY DISEASE         13702       13702.0   \n",
       "2                TRACHEALBRONCHEAL MALACEA/SDA         13702       13702.0   \n",
       "3                     ASTHMA;COPD EXACERBATION         13702       13702.0   \n",
       "4                           S/P FALL;TELEMETRY         26880       26880.0   \n",
       "...                                        ...           ...           ...   \n",
       "2083175                                NEWBORN         31097       31097.0   \n",
       "2083176                                NEWBORN         31097       31097.0   \n",
       "2083177                                NEWBORN         31097       31097.0   \n",
       "2083178                                NEWBORN         31097       31097.0   \n",
       "2083179                                NEWBORN         31097       31097.0   \n",
       "\n",
       "        DESCRIPTION           CATEGORY  \n",
       "0            Report  Discharge summary  \n",
       "1            Report  Discharge summary  \n",
       "2            Report  Discharge summary  \n",
       "3            Report  Discharge summary  \n",
       "4            Report  Discharge summary  \n",
       "...             ...                ...  \n",
       "2083175      Report      Nursing/other  \n",
       "2083176      Report      Nursing/other  \n",
       "2083177      Report      Nursing/other  \n",
       "2083178      Report      Nursing/other  \n",
       "2083179      Report      Nursing/other  \n",
       "\n",
       "[2083180 rows x 5 columns]"
      ]
     },
     "execution_count": 11,
     "metadata": {},
     "output_type": "execute_result"
    }
   ],
   "source": [
    "# df1 = df[['a','b']]\n",
    "note_admiss_df_left[['DIAGNOSIS', 'SUBJECT_ID_x', 'SUBJECT_ID_y','DESCRIPTION', 'CATEGORY']]"
   ]
  },
  {
   "cell_type": "code",
   "execution_count": 12,
   "metadata": {
    "scrolled": true
   },
   "outputs": [],
   "source": [
    "pneumonia_df = note_admiss_df_left.loc[note_admiss_df_left[\"DIAGNOSIS\"] == 'PNEUMONIA', ['ROW_ID_x', 'SUBJECT_ID_x', 'HADM_ID', 'CHARTDATE', 'CHARTTIME', 'STORETIME', 'CATEGORY', 'DESCRIPTION', 'CGID', 'ISERROR', 'TEXT', 'ADMITTIME', 'DISCHTIME', 'DEATHTIME', 'ADMISSION_TYPE', 'DIAGNOSIS', 'HAS_CHARTEVENTS_DATA']]"
   ]
  },
  {
   "cell_type": "code",
   "execution_count": null,
   "metadata": {
    "scrolled": false
   },
   "outputs": [],
   "source": []
  },
  {
   "cell_type": "code",
   "execution_count": 13,
   "metadata": {
    "scrolled": true
   },
   "outputs": [
    {
     "data": {
      "text/plain": [
       "(59727, 17)"
      ]
     },
     "execution_count": 13,
     "metadata": {},
     "output_type": "execute_result"
    }
   ],
   "source": [
    "pneumonia_df.shape"
   ]
  },
  {
   "cell_type": "code",
   "execution_count": 14,
   "metadata": {
    "scrolled": false
   },
   "outputs": [
    {
     "data": {
      "application/vnd.plotly.v1+json": {
       "config": {
        "linkText": "Export to plot.ly",
        "plotlyServerURL": "https://plot.ly",
        "showLink": true
       },
       "data": [
        {
         "marker": {
          "color": "rgba(255, 153, 51, 0.6)",
          "line": {
           "color": "rgba(255, 153, 51, 1.0)",
           "width": 1
          }
         },
         "name": "CATEGORY",
         "orientation": "v",
         "text": "",
         "type": "bar",
         "x": [
          "Nursing",
          "Nursing/other",
          "Radiology",
          "Physician ",
          "ECG",
          "Respiratory ",
          "Discharge summary",
          "Echo",
          "General",
          "Nutrition",
          "Rehab Services",
          "Social Work",
          "Case Management ",
          "Pharmacy",
          "Consult"
         ],
         "y": [
          13256,
          12693,
          11723,
          10643,
          4469,
          2454,
          1698,
          949,
          680,
          638,
          231,
          142,
          135,
          15,
          1
         ]
        }
       ],
       "layout": {
        "legend": {
         "bgcolor": "#F5F6F9",
         "font": {
          "color": "#4D5663"
         }
        },
        "paper_bgcolor": "#F5F6F9",
        "plot_bgcolor": "#F5F6F9",
        "template": {
         "data": {
          "bar": [
           {
            "error_x": {
             "color": "#2a3f5f"
            },
            "error_y": {
             "color": "#2a3f5f"
            },
            "marker": {
             "line": {
              "color": "#E5ECF6",
              "width": 0.5
             }
            },
            "type": "bar"
           }
          ],
          "barpolar": [
           {
            "marker": {
             "line": {
              "color": "#E5ECF6",
              "width": 0.5
             }
            },
            "type": "barpolar"
           }
          ],
          "carpet": [
           {
            "aaxis": {
             "endlinecolor": "#2a3f5f",
             "gridcolor": "white",
             "linecolor": "white",
             "minorgridcolor": "white",
             "startlinecolor": "#2a3f5f"
            },
            "baxis": {
             "endlinecolor": "#2a3f5f",
             "gridcolor": "white",
             "linecolor": "white",
             "minorgridcolor": "white",
             "startlinecolor": "#2a3f5f"
            },
            "type": "carpet"
           }
          ],
          "choropleth": [
           {
            "colorbar": {
             "outlinewidth": 0,
             "ticks": ""
            },
            "type": "choropleth"
           }
          ],
          "contour": [
           {
            "colorbar": {
             "outlinewidth": 0,
             "ticks": ""
            },
            "colorscale": [
             [
              0,
              "#0d0887"
             ],
             [
              0.1111111111111111,
              "#46039f"
             ],
             [
              0.2222222222222222,
              "#7201a8"
             ],
             [
              0.3333333333333333,
              "#9c179e"
             ],
             [
              0.4444444444444444,
              "#bd3786"
             ],
             [
              0.5555555555555556,
              "#d8576b"
             ],
             [
              0.6666666666666666,
              "#ed7953"
             ],
             [
              0.7777777777777778,
              "#fb9f3a"
             ],
             [
              0.8888888888888888,
              "#fdca26"
             ],
             [
              1,
              "#f0f921"
             ]
            ],
            "type": "contour"
           }
          ],
          "contourcarpet": [
           {
            "colorbar": {
             "outlinewidth": 0,
             "ticks": ""
            },
            "type": "contourcarpet"
           }
          ],
          "heatmap": [
           {
            "colorbar": {
             "outlinewidth": 0,
             "ticks": ""
            },
            "colorscale": [
             [
              0,
              "#0d0887"
             ],
             [
              0.1111111111111111,
              "#46039f"
             ],
             [
              0.2222222222222222,
              "#7201a8"
             ],
             [
              0.3333333333333333,
              "#9c179e"
             ],
             [
              0.4444444444444444,
              "#bd3786"
             ],
             [
              0.5555555555555556,
              "#d8576b"
             ],
             [
              0.6666666666666666,
              "#ed7953"
             ],
             [
              0.7777777777777778,
              "#fb9f3a"
             ],
             [
              0.8888888888888888,
              "#fdca26"
             ],
             [
              1,
              "#f0f921"
             ]
            ],
            "type": "heatmap"
           }
          ],
          "heatmapgl": [
           {
            "colorbar": {
             "outlinewidth": 0,
             "ticks": ""
            },
            "colorscale": [
             [
              0,
              "#0d0887"
             ],
             [
              0.1111111111111111,
              "#46039f"
             ],
             [
              0.2222222222222222,
              "#7201a8"
             ],
             [
              0.3333333333333333,
              "#9c179e"
             ],
             [
              0.4444444444444444,
              "#bd3786"
             ],
             [
              0.5555555555555556,
              "#d8576b"
             ],
             [
              0.6666666666666666,
              "#ed7953"
             ],
             [
              0.7777777777777778,
              "#fb9f3a"
             ],
             [
              0.8888888888888888,
              "#fdca26"
             ],
             [
              1,
              "#f0f921"
             ]
            ],
            "type": "heatmapgl"
           }
          ],
          "histogram": [
           {
            "marker": {
             "colorbar": {
              "outlinewidth": 0,
              "ticks": ""
             }
            },
            "type": "histogram"
           }
          ],
          "histogram2d": [
           {
            "colorbar": {
             "outlinewidth": 0,
             "ticks": ""
            },
            "colorscale": [
             [
              0,
              "#0d0887"
             ],
             [
              0.1111111111111111,
              "#46039f"
             ],
             [
              0.2222222222222222,
              "#7201a8"
             ],
             [
              0.3333333333333333,
              "#9c179e"
             ],
             [
              0.4444444444444444,
              "#bd3786"
             ],
             [
              0.5555555555555556,
              "#d8576b"
             ],
             [
              0.6666666666666666,
              "#ed7953"
             ],
             [
              0.7777777777777778,
              "#fb9f3a"
             ],
             [
              0.8888888888888888,
              "#fdca26"
             ],
             [
              1,
              "#f0f921"
             ]
            ],
            "type": "histogram2d"
           }
          ],
          "histogram2dcontour": [
           {
            "colorbar": {
             "outlinewidth": 0,
             "ticks": ""
            },
            "colorscale": [
             [
              0,
              "#0d0887"
             ],
             [
              0.1111111111111111,
              "#46039f"
             ],
             [
              0.2222222222222222,
              "#7201a8"
             ],
             [
              0.3333333333333333,
              "#9c179e"
             ],
             [
              0.4444444444444444,
              "#bd3786"
             ],
             [
              0.5555555555555556,
              "#d8576b"
             ],
             [
              0.6666666666666666,
              "#ed7953"
             ],
             [
              0.7777777777777778,
              "#fb9f3a"
             ],
             [
              0.8888888888888888,
              "#fdca26"
             ],
             [
              1,
              "#f0f921"
             ]
            ],
            "type": "histogram2dcontour"
           }
          ],
          "mesh3d": [
           {
            "colorbar": {
             "outlinewidth": 0,
             "ticks": ""
            },
            "type": "mesh3d"
           }
          ],
          "parcoords": [
           {
            "line": {
             "colorbar": {
              "outlinewidth": 0,
              "ticks": ""
             }
            },
            "type": "parcoords"
           }
          ],
          "pie": [
           {
            "automargin": true,
            "type": "pie"
           }
          ],
          "scatter": [
           {
            "marker": {
             "colorbar": {
              "outlinewidth": 0,
              "ticks": ""
             }
            },
            "type": "scatter"
           }
          ],
          "scatter3d": [
           {
            "line": {
             "colorbar": {
              "outlinewidth": 0,
              "ticks": ""
             }
            },
            "marker": {
             "colorbar": {
              "outlinewidth": 0,
              "ticks": ""
             }
            },
            "type": "scatter3d"
           }
          ],
          "scattercarpet": [
           {
            "marker": {
             "colorbar": {
              "outlinewidth": 0,
              "ticks": ""
             }
            },
            "type": "scattercarpet"
           }
          ],
          "scattergeo": [
           {
            "marker": {
             "colorbar": {
              "outlinewidth": 0,
              "ticks": ""
             }
            },
            "type": "scattergeo"
           }
          ],
          "scattergl": [
           {
            "marker": {
             "colorbar": {
              "outlinewidth": 0,
              "ticks": ""
             }
            },
            "type": "scattergl"
           }
          ],
          "scattermapbox": [
           {
            "marker": {
             "colorbar": {
              "outlinewidth": 0,
              "ticks": ""
             }
            },
            "type": "scattermapbox"
           }
          ],
          "scatterpolar": [
           {
            "marker": {
             "colorbar": {
              "outlinewidth": 0,
              "ticks": ""
             }
            },
            "type": "scatterpolar"
           }
          ],
          "scatterpolargl": [
           {
            "marker": {
             "colorbar": {
              "outlinewidth": 0,
              "ticks": ""
             }
            },
            "type": "scatterpolargl"
           }
          ],
          "scatterternary": [
           {
            "marker": {
             "colorbar": {
              "outlinewidth": 0,
              "ticks": ""
             }
            },
            "type": "scatterternary"
           }
          ],
          "surface": [
           {
            "colorbar": {
             "outlinewidth": 0,
             "ticks": ""
            },
            "colorscale": [
             [
              0,
              "#0d0887"
             ],
             [
              0.1111111111111111,
              "#46039f"
             ],
             [
              0.2222222222222222,
              "#7201a8"
             ],
             [
              0.3333333333333333,
              "#9c179e"
             ],
             [
              0.4444444444444444,
              "#bd3786"
             ],
             [
              0.5555555555555556,
              "#d8576b"
             ],
             [
              0.6666666666666666,
              "#ed7953"
             ],
             [
              0.7777777777777778,
              "#fb9f3a"
             ],
             [
              0.8888888888888888,
              "#fdca26"
             ],
             [
              1,
              "#f0f921"
             ]
            ],
            "type": "surface"
           }
          ],
          "table": [
           {
            "cells": {
             "fill": {
              "color": "#EBF0F8"
             },
             "line": {
              "color": "white"
             }
            },
            "header": {
             "fill": {
              "color": "#C8D4E3"
             },
             "line": {
              "color": "white"
             }
            },
            "type": "table"
           }
          ]
         },
         "layout": {
          "annotationdefaults": {
           "arrowcolor": "#2a3f5f",
           "arrowhead": 0,
           "arrowwidth": 1
          },
          "coloraxis": {
           "colorbar": {
            "outlinewidth": 0,
            "ticks": ""
           }
          },
          "colorscale": {
           "diverging": [
            [
             0,
             "#8e0152"
            ],
            [
             0.1,
             "#c51b7d"
            ],
            [
             0.2,
             "#de77ae"
            ],
            [
             0.3,
             "#f1b6da"
            ],
            [
             0.4,
             "#fde0ef"
            ],
            [
             0.5,
             "#f7f7f7"
            ],
            [
             0.6,
             "#e6f5d0"
            ],
            [
             0.7,
             "#b8e186"
            ],
            [
             0.8,
             "#7fbc41"
            ],
            [
             0.9,
             "#4d9221"
            ],
            [
             1,
             "#276419"
            ]
           ],
           "sequential": [
            [
             0,
             "#0d0887"
            ],
            [
             0.1111111111111111,
             "#46039f"
            ],
            [
             0.2222222222222222,
             "#7201a8"
            ],
            [
             0.3333333333333333,
             "#9c179e"
            ],
            [
             0.4444444444444444,
             "#bd3786"
            ],
            [
             0.5555555555555556,
             "#d8576b"
            ],
            [
             0.6666666666666666,
             "#ed7953"
            ],
            [
             0.7777777777777778,
             "#fb9f3a"
            ],
            [
             0.8888888888888888,
             "#fdca26"
            ],
            [
             1,
             "#f0f921"
            ]
           ],
           "sequentialminus": [
            [
             0,
             "#0d0887"
            ],
            [
             0.1111111111111111,
             "#46039f"
            ],
            [
             0.2222222222222222,
             "#7201a8"
            ],
            [
             0.3333333333333333,
             "#9c179e"
            ],
            [
             0.4444444444444444,
             "#bd3786"
            ],
            [
             0.5555555555555556,
             "#d8576b"
            ],
            [
             0.6666666666666666,
             "#ed7953"
            ],
            [
             0.7777777777777778,
             "#fb9f3a"
            ],
            [
             0.8888888888888888,
             "#fdca26"
            ],
            [
             1,
             "#f0f921"
            ]
           ]
          },
          "colorway": [
           "#636efa",
           "#EF553B",
           "#00cc96",
           "#ab63fa",
           "#FFA15A",
           "#19d3f3",
           "#FF6692",
           "#B6E880",
           "#FF97FF",
           "#FECB52"
          ],
          "font": {
           "color": "#2a3f5f"
          },
          "geo": {
           "bgcolor": "white",
           "lakecolor": "white",
           "landcolor": "#E5ECF6",
           "showlakes": true,
           "showland": true,
           "subunitcolor": "white"
          },
          "hoverlabel": {
           "align": "left"
          },
          "hovermode": "closest",
          "mapbox": {
           "style": "light"
          },
          "paper_bgcolor": "white",
          "plot_bgcolor": "#E5ECF6",
          "polar": {
           "angularaxis": {
            "gridcolor": "white",
            "linecolor": "white",
            "ticks": ""
           },
           "bgcolor": "#E5ECF6",
           "radialaxis": {
            "gridcolor": "white",
            "linecolor": "white",
            "ticks": ""
           }
          },
          "scene": {
           "xaxis": {
            "backgroundcolor": "#E5ECF6",
            "gridcolor": "white",
            "gridwidth": 2,
            "linecolor": "white",
            "showbackground": true,
            "ticks": "",
            "zerolinecolor": "white"
           },
           "yaxis": {
            "backgroundcolor": "#E5ECF6",
            "gridcolor": "white",
            "gridwidth": 2,
            "linecolor": "white",
            "showbackground": true,
            "ticks": "",
            "zerolinecolor": "white"
           },
           "zaxis": {
            "backgroundcolor": "#E5ECF6",
            "gridcolor": "white",
            "gridwidth": 2,
            "linecolor": "white",
            "showbackground": true,
            "ticks": "",
            "zerolinecolor": "white"
           }
          },
          "shapedefaults": {
           "line": {
            "color": "#2a3f5f"
           }
          },
          "ternary": {
           "aaxis": {
            "gridcolor": "white",
            "linecolor": "white",
            "ticks": ""
           },
           "baxis": {
            "gridcolor": "white",
            "linecolor": "white",
            "ticks": ""
           },
           "bgcolor": "#E5ECF6",
           "caxis": {
            "gridcolor": "white",
            "linecolor": "white",
            "ticks": ""
           }
          },
          "title": {
           "x": 0.05
          },
          "xaxis": {
           "automargin": true,
           "gridcolor": "white",
           "linecolor": "white",
           "ticks": "",
           "title": {
            "standoff": 15
           },
           "zerolinecolor": "white",
           "zerolinewidth": 2
          },
          "yaxis": {
           "automargin": true,
           "gridcolor": "white",
           "linecolor": "white",
           "ticks": "",
           "title": {
            "standoff": 15
           },
           "zerolinecolor": "white",
           "zerolinewidth": 2
          }
         }
        },
        "title": {
         "font": {
          "color": "#4D5663"
         },
         "text": "Number of category kinds in noteevents"
        },
        "xaxis": {
         "gridcolor": "#E1E5ED",
         "showgrid": true,
         "tickfont": {
          "color": "#4D5663"
         },
         "title": {
          "font": {
           "color": "#4D5663"
          },
          "text": ""
         },
         "zerolinecolor": "#E1E5ED"
        },
        "yaxis": {
         "gridcolor": "#E1E5ED",
         "showgrid": true,
         "tickfont": {
          "color": "#4D5663"
         },
         "title": {
          "font": {
           "color": "#4D5663"
          },
          "text": "Number of notes"
         },
         "zerolinecolor": "#E1E5ED"
        }
       }
      },
      "text/html": [
       "<div>\n",
       "        \n",
       "        \n",
       "            <div id=\"c257f724-e574-4a29-99ba-dbdbbb0176cc\" class=\"plotly-graph-div\" style=\"height:525px; width:100%;\"></div>\n",
       "            <script type=\"text/javascript\">\n",
       "                require([\"plotly\"], function(Plotly) {\n",
       "                    window.PLOTLYENV=window.PLOTLYENV || {};\n",
       "                    window.PLOTLYENV.BASE_URL='https://plot.ly';\n",
       "                    \n",
       "                if (document.getElementById(\"c257f724-e574-4a29-99ba-dbdbbb0176cc\")) {\n",
       "                    Plotly.newPlot(\n",
       "                        'c257f724-e574-4a29-99ba-dbdbbb0176cc',\n",
       "                        [{\"marker\": {\"color\": \"rgba(255, 153, 51, 0.6)\", \"line\": {\"color\": \"rgba(255, 153, 51, 1.0)\", \"width\": 1}}, \"name\": \"CATEGORY\", \"orientation\": \"v\", \"text\": \"\", \"type\": \"bar\", \"x\": [\"Nursing\", \"Nursing/other\", \"Radiology\", \"Physician \", \"ECG\", \"Respiratory \", \"Discharge summary\", \"Echo\", \"General\", \"Nutrition\", \"Rehab Services\", \"Social Work\", \"Case Management \", \"Pharmacy\", \"Consult\"], \"y\": [13256, 12693, 11723, 10643, 4469, 2454, 1698, 949, 680, 638, 231, 142, 135, 15, 1]}],\n",
       "                        {\"legend\": {\"bgcolor\": \"#F5F6F9\", \"font\": {\"color\": \"#4D5663\"}}, \"paper_bgcolor\": \"#F5F6F9\", \"plot_bgcolor\": \"#F5F6F9\", \"template\": {\"data\": {\"bar\": [{\"error_x\": {\"color\": \"#2a3f5f\"}, \"error_y\": {\"color\": \"#2a3f5f\"}, \"marker\": {\"line\": {\"color\": \"#E5ECF6\", \"width\": 0.5}}, \"type\": \"bar\"}], \"barpolar\": [{\"marker\": {\"line\": {\"color\": \"#E5ECF6\", \"width\": 0.5}}, \"type\": \"barpolar\"}], \"carpet\": [{\"aaxis\": {\"endlinecolor\": \"#2a3f5f\", \"gridcolor\": \"white\", \"linecolor\": \"white\", \"minorgridcolor\": \"white\", \"startlinecolor\": \"#2a3f5f\"}, \"baxis\": {\"endlinecolor\": \"#2a3f5f\", \"gridcolor\": \"white\", \"linecolor\": \"white\", \"minorgridcolor\": \"white\", \"startlinecolor\": \"#2a3f5f\"}, \"type\": \"carpet\"}], \"choropleth\": [{\"colorbar\": {\"outlinewidth\": 0, \"ticks\": \"\"}, \"type\": \"choropleth\"}], \"contour\": [{\"colorbar\": {\"outlinewidth\": 0, \"ticks\": \"\"}, \"colorscale\": [[0.0, \"#0d0887\"], [0.1111111111111111, \"#46039f\"], [0.2222222222222222, \"#7201a8\"], [0.3333333333333333, \"#9c179e\"], [0.4444444444444444, \"#bd3786\"], [0.5555555555555556, \"#d8576b\"], [0.6666666666666666, \"#ed7953\"], [0.7777777777777778, \"#fb9f3a\"], [0.8888888888888888, \"#fdca26\"], [1.0, \"#f0f921\"]], \"type\": \"contour\"}], \"contourcarpet\": [{\"colorbar\": {\"outlinewidth\": 0, \"ticks\": \"\"}, \"type\": \"contourcarpet\"}], \"heatmap\": [{\"colorbar\": {\"outlinewidth\": 0, \"ticks\": \"\"}, \"colorscale\": [[0.0, \"#0d0887\"], [0.1111111111111111, \"#46039f\"], [0.2222222222222222, \"#7201a8\"], [0.3333333333333333, \"#9c179e\"], [0.4444444444444444, \"#bd3786\"], [0.5555555555555556, \"#d8576b\"], [0.6666666666666666, \"#ed7953\"], [0.7777777777777778, \"#fb9f3a\"], [0.8888888888888888, \"#fdca26\"], [1.0, \"#f0f921\"]], \"type\": \"heatmap\"}], \"heatmapgl\": [{\"colorbar\": {\"outlinewidth\": 0, \"ticks\": \"\"}, \"colorscale\": [[0.0, \"#0d0887\"], [0.1111111111111111, \"#46039f\"], [0.2222222222222222, \"#7201a8\"], [0.3333333333333333, \"#9c179e\"], [0.4444444444444444, \"#bd3786\"], [0.5555555555555556, \"#d8576b\"], [0.6666666666666666, \"#ed7953\"], [0.7777777777777778, \"#fb9f3a\"], [0.8888888888888888, \"#fdca26\"], [1.0, \"#f0f921\"]], \"type\": \"heatmapgl\"}], \"histogram\": [{\"marker\": {\"colorbar\": {\"outlinewidth\": 0, \"ticks\": \"\"}}, \"type\": \"histogram\"}], \"histogram2d\": [{\"colorbar\": {\"outlinewidth\": 0, \"ticks\": \"\"}, \"colorscale\": [[0.0, \"#0d0887\"], [0.1111111111111111, \"#46039f\"], [0.2222222222222222, \"#7201a8\"], [0.3333333333333333, \"#9c179e\"], [0.4444444444444444, \"#bd3786\"], [0.5555555555555556, \"#d8576b\"], [0.6666666666666666, \"#ed7953\"], [0.7777777777777778, \"#fb9f3a\"], [0.8888888888888888, \"#fdca26\"], [1.0, \"#f0f921\"]], \"type\": \"histogram2d\"}], \"histogram2dcontour\": [{\"colorbar\": {\"outlinewidth\": 0, \"ticks\": \"\"}, \"colorscale\": [[0.0, \"#0d0887\"], [0.1111111111111111, \"#46039f\"], [0.2222222222222222, \"#7201a8\"], [0.3333333333333333, \"#9c179e\"], [0.4444444444444444, \"#bd3786\"], [0.5555555555555556, \"#d8576b\"], [0.6666666666666666, \"#ed7953\"], [0.7777777777777778, \"#fb9f3a\"], [0.8888888888888888, \"#fdca26\"], [1.0, \"#f0f921\"]], \"type\": \"histogram2dcontour\"}], \"mesh3d\": [{\"colorbar\": {\"outlinewidth\": 0, \"ticks\": \"\"}, \"type\": \"mesh3d\"}], \"parcoords\": [{\"line\": {\"colorbar\": {\"outlinewidth\": 0, \"ticks\": \"\"}}, \"type\": \"parcoords\"}], \"pie\": [{\"automargin\": true, \"type\": \"pie\"}], \"scatter\": [{\"marker\": {\"colorbar\": {\"outlinewidth\": 0, \"ticks\": \"\"}}, \"type\": \"scatter\"}], \"scatter3d\": [{\"line\": {\"colorbar\": {\"outlinewidth\": 0, \"ticks\": \"\"}}, \"marker\": {\"colorbar\": {\"outlinewidth\": 0, \"ticks\": \"\"}}, \"type\": \"scatter3d\"}], \"scattercarpet\": [{\"marker\": {\"colorbar\": {\"outlinewidth\": 0, \"ticks\": \"\"}}, \"type\": \"scattercarpet\"}], \"scattergeo\": [{\"marker\": {\"colorbar\": {\"outlinewidth\": 0, \"ticks\": \"\"}}, \"type\": \"scattergeo\"}], \"scattergl\": [{\"marker\": {\"colorbar\": {\"outlinewidth\": 0, \"ticks\": \"\"}}, \"type\": \"scattergl\"}], \"scattermapbox\": [{\"marker\": {\"colorbar\": {\"outlinewidth\": 0, \"ticks\": \"\"}}, \"type\": \"scattermapbox\"}], \"scatterpolar\": [{\"marker\": {\"colorbar\": {\"outlinewidth\": 0, \"ticks\": \"\"}}, \"type\": \"scatterpolar\"}], \"scatterpolargl\": [{\"marker\": {\"colorbar\": {\"outlinewidth\": 0, \"ticks\": \"\"}}, \"type\": \"scatterpolargl\"}], \"scatterternary\": [{\"marker\": {\"colorbar\": {\"outlinewidth\": 0, \"ticks\": \"\"}}, \"type\": \"scatterternary\"}], \"surface\": [{\"colorbar\": {\"outlinewidth\": 0, \"ticks\": \"\"}, \"colorscale\": [[0.0, \"#0d0887\"], [0.1111111111111111, \"#46039f\"], [0.2222222222222222, \"#7201a8\"], [0.3333333333333333, \"#9c179e\"], [0.4444444444444444, \"#bd3786\"], [0.5555555555555556, \"#d8576b\"], [0.6666666666666666, \"#ed7953\"], [0.7777777777777778, \"#fb9f3a\"], [0.8888888888888888, \"#fdca26\"], [1.0, \"#f0f921\"]], \"type\": \"surface\"}], \"table\": [{\"cells\": {\"fill\": {\"color\": \"#EBF0F8\"}, \"line\": {\"color\": \"white\"}}, \"header\": {\"fill\": {\"color\": \"#C8D4E3\"}, \"line\": {\"color\": \"white\"}}, \"type\": \"table\"}]}, \"layout\": {\"annotationdefaults\": {\"arrowcolor\": \"#2a3f5f\", \"arrowhead\": 0, \"arrowwidth\": 1}, \"coloraxis\": {\"colorbar\": {\"outlinewidth\": 0, \"ticks\": \"\"}}, \"colorscale\": {\"diverging\": [[0, \"#8e0152\"], [0.1, \"#c51b7d\"], [0.2, \"#de77ae\"], [0.3, \"#f1b6da\"], [0.4, \"#fde0ef\"], [0.5, \"#f7f7f7\"], [0.6, \"#e6f5d0\"], [0.7, \"#b8e186\"], [0.8, \"#7fbc41\"], [0.9, \"#4d9221\"], [1, \"#276419\"]], \"sequential\": [[0.0, \"#0d0887\"], [0.1111111111111111, \"#46039f\"], [0.2222222222222222, \"#7201a8\"], [0.3333333333333333, \"#9c179e\"], [0.4444444444444444, \"#bd3786\"], [0.5555555555555556, \"#d8576b\"], [0.6666666666666666, \"#ed7953\"], [0.7777777777777778, \"#fb9f3a\"], [0.8888888888888888, \"#fdca26\"], [1.0, \"#f0f921\"]], \"sequentialminus\": [[0.0, \"#0d0887\"], [0.1111111111111111, \"#46039f\"], [0.2222222222222222, \"#7201a8\"], [0.3333333333333333, \"#9c179e\"], [0.4444444444444444, \"#bd3786\"], [0.5555555555555556, \"#d8576b\"], [0.6666666666666666, \"#ed7953\"], [0.7777777777777778, \"#fb9f3a\"], [0.8888888888888888, \"#fdca26\"], [1.0, \"#f0f921\"]]}, \"colorway\": [\"#636efa\", \"#EF553B\", \"#00cc96\", \"#ab63fa\", \"#FFA15A\", \"#19d3f3\", \"#FF6692\", \"#B6E880\", \"#FF97FF\", \"#FECB52\"], \"font\": {\"color\": \"#2a3f5f\"}, \"geo\": {\"bgcolor\": \"white\", \"lakecolor\": \"white\", \"landcolor\": \"#E5ECF6\", \"showlakes\": true, \"showland\": true, \"subunitcolor\": \"white\"}, \"hoverlabel\": {\"align\": \"left\"}, \"hovermode\": \"closest\", \"mapbox\": {\"style\": \"light\"}, \"paper_bgcolor\": \"white\", \"plot_bgcolor\": \"#E5ECF6\", \"polar\": {\"angularaxis\": {\"gridcolor\": \"white\", \"linecolor\": \"white\", \"ticks\": \"\"}, \"bgcolor\": \"#E5ECF6\", \"radialaxis\": {\"gridcolor\": \"white\", \"linecolor\": \"white\", \"ticks\": \"\"}}, \"scene\": {\"xaxis\": {\"backgroundcolor\": \"#E5ECF6\", \"gridcolor\": \"white\", \"gridwidth\": 2, \"linecolor\": \"white\", \"showbackground\": true, \"ticks\": \"\", \"zerolinecolor\": \"white\"}, \"yaxis\": {\"backgroundcolor\": \"#E5ECF6\", \"gridcolor\": \"white\", \"gridwidth\": 2, \"linecolor\": \"white\", \"showbackground\": true, \"ticks\": \"\", \"zerolinecolor\": \"white\"}, \"zaxis\": {\"backgroundcolor\": \"#E5ECF6\", \"gridcolor\": \"white\", \"gridwidth\": 2, \"linecolor\": \"white\", \"showbackground\": true, \"ticks\": \"\", \"zerolinecolor\": \"white\"}}, \"shapedefaults\": {\"line\": {\"color\": \"#2a3f5f\"}}, \"ternary\": {\"aaxis\": {\"gridcolor\": \"white\", \"linecolor\": \"white\", \"ticks\": \"\"}, \"baxis\": {\"gridcolor\": \"white\", \"linecolor\": \"white\", \"ticks\": \"\"}, \"bgcolor\": \"#E5ECF6\", \"caxis\": {\"gridcolor\": \"white\", \"linecolor\": \"white\", \"ticks\": \"\"}}, \"title\": {\"x\": 0.05}, \"xaxis\": {\"automargin\": true, \"gridcolor\": \"white\", \"linecolor\": \"white\", \"ticks\": \"\", \"title\": {\"standoff\": 15}, \"zerolinecolor\": \"white\", \"zerolinewidth\": 2}, \"yaxis\": {\"automargin\": true, \"gridcolor\": \"white\", \"linecolor\": \"white\", \"ticks\": \"\", \"title\": {\"standoff\": 15}, \"zerolinecolor\": \"white\", \"zerolinewidth\": 2}}}, \"title\": {\"font\": {\"color\": \"#4D5663\"}, \"text\": \"Number of category kinds in noteevents\"}, \"xaxis\": {\"gridcolor\": \"#E1E5ED\", \"showgrid\": true, \"tickfont\": {\"color\": \"#4D5663\"}, \"title\": {\"font\": {\"color\": \"#4D5663\"}, \"text\": \"\"}, \"zerolinecolor\": \"#E1E5ED\"}, \"yaxis\": {\"gridcolor\": \"#E1E5ED\", \"showgrid\": true, \"tickfont\": {\"color\": \"#4D5663\"}, \"title\": {\"font\": {\"color\": \"#4D5663\"}, \"text\": \"Number of notes\"}, \"zerolinecolor\": \"#E1E5ED\"}},\n",
       "                        {\"showLink\": true, \"linkText\": \"Export to plot.ly\", \"plotlyServerURL\": \"https://plot.ly\", \"responsive\": true}\n",
       "                    ).then(function(){\n",
       "                            \n",
       "var gd = document.getElementById('c257f724-e574-4a29-99ba-dbdbbb0176cc');\n",
       "var x = new MutationObserver(function (mutations, observer) {{\n",
       "        var display = window.getComputedStyle(gd).display;\n",
       "        if (!display || display === 'none') {{\n",
       "            console.log([gd, 'removed!']);\n",
       "            Plotly.purge(gd);\n",
       "            observer.disconnect();\n",
       "        }}\n",
       "}});\n",
       "\n",
       "// Listen for the removal of the full notebook cells\n",
       "var notebookContainer = gd.closest('#notebook-container');\n",
       "if (notebookContainer) {{\n",
       "    x.observe(notebookContainer, {childList: true});\n",
       "}}\n",
       "\n",
       "// Listen for the clearing of the current output cell\n",
       "var outputEl = gd.closest('.output');\n",
       "if (outputEl) {{\n",
       "    x.observe(outputEl, {childList: true});\n",
       "}}\n",
       "\n",
       "                        })\n",
       "                };\n",
       "                });\n",
       "            </script>\n",
       "        </div>"
      ]
     },
     "metadata": {},
     "output_type": "display_data"
    }
   ],
   "source": [
    "pneumonia_df['CATEGORY'].value_counts().sort_values(ascending=False).iplot(kind='bar', yTitle='Number of notes', \n",
    "                                                                title='Number of category kinds in noteevents')"
   ]
  },
  {
   "cell_type": "code",
   "execution_count": 15,
   "metadata": {},
   "outputs": [],
   "source": [
    "#pneumonia_no_disch_df = pneumonia_df.loc[pneumonia_df[\"CATEGORY\"] != 'Discharge summary', ['ROW_ID_x', 'SUBJECT_ID_x', 'HADM_ID', 'CHARTDATE', 'CHARTTIME', 'STORETIME', 'CATEGORY', 'DESCRIPTION', 'CGID', 'ISERROR', 'TEXT', 'ADMITTIME', 'DISCHTIME', 'DEATHTIME', 'ADMISSION_TYPE', 'DIAGNOSIS', 'HAS_CHARTEVENTS_DATA']]\n",
    "pneumonia_no_disch_df = pneumonia_df.loc[pneumonia_df[\"CATEGORY\"] != 'Discharge summary', ['ROW_ID_x','SUBJECT_ID_x','CHARTDATE','STORETIME','CATEGORY','DESCRIPTION','TEXT', 'DEATHTIME']]"
   ]
  },
  {
   "cell_type": "code",
   "execution_count": 16,
   "metadata": {
    "scrolled": false
   },
   "outputs": [
    {
     "data": {
      "application/vnd.plotly.v1+json": {
       "config": {
        "linkText": "Export to plot.ly",
        "plotlyServerURL": "https://plot.ly",
        "showLink": true
       },
       "data": [
        {
         "marker": {
          "color": "rgba(255, 153, 51, 0.6)",
          "line": {
           "color": "rgba(255, 153, 51, 1.0)",
           "width": 1
          }
         },
         "name": "CATEGORY",
         "orientation": "v",
         "text": "",
         "type": "bar",
         "x": [
          "Nursing",
          "Nursing/other",
          "Radiology",
          "Physician ",
          "ECG",
          "Respiratory ",
          "Echo",
          "General",
          "Nutrition",
          "Rehab Services",
          "Social Work",
          "Case Management ",
          "Pharmacy",
          "Consult"
         ],
         "y": [
          13256,
          12693,
          11723,
          10643,
          4469,
          2454,
          949,
          680,
          638,
          231,
          142,
          135,
          15,
          1
         ]
        }
       ],
       "layout": {
        "legend": {
         "bgcolor": "#F5F6F9",
         "font": {
          "color": "#4D5663"
         }
        },
        "paper_bgcolor": "#F5F6F9",
        "plot_bgcolor": "#F5F6F9",
        "template": {
         "data": {
          "bar": [
           {
            "error_x": {
             "color": "#2a3f5f"
            },
            "error_y": {
             "color": "#2a3f5f"
            },
            "marker": {
             "line": {
              "color": "#E5ECF6",
              "width": 0.5
             }
            },
            "type": "bar"
           }
          ],
          "barpolar": [
           {
            "marker": {
             "line": {
              "color": "#E5ECF6",
              "width": 0.5
             }
            },
            "type": "barpolar"
           }
          ],
          "carpet": [
           {
            "aaxis": {
             "endlinecolor": "#2a3f5f",
             "gridcolor": "white",
             "linecolor": "white",
             "minorgridcolor": "white",
             "startlinecolor": "#2a3f5f"
            },
            "baxis": {
             "endlinecolor": "#2a3f5f",
             "gridcolor": "white",
             "linecolor": "white",
             "minorgridcolor": "white",
             "startlinecolor": "#2a3f5f"
            },
            "type": "carpet"
           }
          ],
          "choropleth": [
           {
            "colorbar": {
             "outlinewidth": 0,
             "ticks": ""
            },
            "type": "choropleth"
           }
          ],
          "contour": [
           {
            "colorbar": {
             "outlinewidth": 0,
             "ticks": ""
            },
            "colorscale": [
             [
              0,
              "#0d0887"
             ],
             [
              0.1111111111111111,
              "#46039f"
             ],
             [
              0.2222222222222222,
              "#7201a8"
             ],
             [
              0.3333333333333333,
              "#9c179e"
             ],
             [
              0.4444444444444444,
              "#bd3786"
             ],
             [
              0.5555555555555556,
              "#d8576b"
             ],
             [
              0.6666666666666666,
              "#ed7953"
             ],
             [
              0.7777777777777778,
              "#fb9f3a"
             ],
             [
              0.8888888888888888,
              "#fdca26"
             ],
             [
              1,
              "#f0f921"
             ]
            ],
            "type": "contour"
           }
          ],
          "contourcarpet": [
           {
            "colorbar": {
             "outlinewidth": 0,
             "ticks": ""
            },
            "type": "contourcarpet"
           }
          ],
          "heatmap": [
           {
            "colorbar": {
             "outlinewidth": 0,
             "ticks": ""
            },
            "colorscale": [
             [
              0,
              "#0d0887"
             ],
             [
              0.1111111111111111,
              "#46039f"
             ],
             [
              0.2222222222222222,
              "#7201a8"
             ],
             [
              0.3333333333333333,
              "#9c179e"
             ],
             [
              0.4444444444444444,
              "#bd3786"
             ],
             [
              0.5555555555555556,
              "#d8576b"
             ],
             [
              0.6666666666666666,
              "#ed7953"
             ],
             [
              0.7777777777777778,
              "#fb9f3a"
             ],
             [
              0.8888888888888888,
              "#fdca26"
             ],
             [
              1,
              "#f0f921"
             ]
            ],
            "type": "heatmap"
           }
          ],
          "heatmapgl": [
           {
            "colorbar": {
             "outlinewidth": 0,
             "ticks": ""
            },
            "colorscale": [
             [
              0,
              "#0d0887"
             ],
             [
              0.1111111111111111,
              "#46039f"
             ],
             [
              0.2222222222222222,
              "#7201a8"
             ],
             [
              0.3333333333333333,
              "#9c179e"
             ],
             [
              0.4444444444444444,
              "#bd3786"
             ],
             [
              0.5555555555555556,
              "#d8576b"
             ],
             [
              0.6666666666666666,
              "#ed7953"
             ],
             [
              0.7777777777777778,
              "#fb9f3a"
             ],
             [
              0.8888888888888888,
              "#fdca26"
             ],
             [
              1,
              "#f0f921"
             ]
            ],
            "type": "heatmapgl"
           }
          ],
          "histogram": [
           {
            "marker": {
             "colorbar": {
              "outlinewidth": 0,
              "ticks": ""
             }
            },
            "type": "histogram"
           }
          ],
          "histogram2d": [
           {
            "colorbar": {
             "outlinewidth": 0,
             "ticks": ""
            },
            "colorscale": [
             [
              0,
              "#0d0887"
             ],
             [
              0.1111111111111111,
              "#46039f"
             ],
             [
              0.2222222222222222,
              "#7201a8"
             ],
             [
              0.3333333333333333,
              "#9c179e"
             ],
             [
              0.4444444444444444,
              "#bd3786"
             ],
             [
              0.5555555555555556,
              "#d8576b"
             ],
             [
              0.6666666666666666,
              "#ed7953"
             ],
             [
              0.7777777777777778,
              "#fb9f3a"
             ],
             [
              0.8888888888888888,
              "#fdca26"
             ],
             [
              1,
              "#f0f921"
             ]
            ],
            "type": "histogram2d"
           }
          ],
          "histogram2dcontour": [
           {
            "colorbar": {
             "outlinewidth": 0,
             "ticks": ""
            },
            "colorscale": [
             [
              0,
              "#0d0887"
             ],
             [
              0.1111111111111111,
              "#46039f"
             ],
             [
              0.2222222222222222,
              "#7201a8"
             ],
             [
              0.3333333333333333,
              "#9c179e"
             ],
             [
              0.4444444444444444,
              "#bd3786"
             ],
             [
              0.5555555555555556,
              "#d8576b"
             ],
             [
              0.6666666666666666,
              "#ed7953"
             ],
             [
              0.7777777777777778,
              "#fb9f3a"
             ],
             [
              0.8888888888888888,
              "#fdca26"
             ],
             [
              1,
              "#f0f921"
             ]
            ],
            "type": "histogram2dcontour"
           }
          ],
          "mesh3d": [
           {
            "colorbar": {
             "outlinewidth": 0,
             "ticks": ""
            },
            "type": "mesh3d"
           }
          ],
          "parcoords": [
           {
            "line": {
             "colorbar": {
              "outlinewidth": 0,
              "ticks": ""
             }
            },
            "type": "parcoords"
           }
          ],
          "pie": [
           {
            "automargin": true,
            "type": "pie"
           }
          ],
          "scatter": [
           {
            "marker": {
             "colorbar": {
              "outlinewidth": 0,
              "ticks": ""
             }
            },
            "type": "scatter"
           }
          ],
          "scatter3d": [
           {
            "line": {
             "colorbar": {
              "outlinewidth": 0,
              "ticks": ""
             }
            },
            "marker": {
             "colorbar": {
              "outlinewidth": 0,
              "ticks": ""
             }
            },
            "type": "scatter3d"
           }
          ],
          "scattercarpet": [
           {
            "marker": {
             "colorbar": {
              "outlinewidth": 0,
              "ticks": ""
             }
            },
            "type": "scattercarpet"
           }
          ],
          "scattergeo": [
           {
            "marker": {
             "colorbar": {
              "outlinewidth": 0,
              "ticks": ""
             }
            },
            "type": "scattergeo"
           }
          ],
          "scattergl": [
           {
            "marker": {
             "colorbar": {
              "outlinewidth": 0,
              "ticks": ""
             }
            },
            "type": "scattergl"
           }
          ],
          "scattermapbox": [
           {
            "marker": {
             "colorbar": {
              "outlinewidth": 0,
              "ticks": ""
             }
            },
            "type": "scattermapbox"
           }
          ],
          "scatterpolar": [
           {
            "marker": {
             "colorbar": {
              "outlinewidth": 0,
              "ticks": ""
             }
            },
            "type": "scatterpolar"
           }
          ],
          "scatterpolargl": [
           {
            "marker": {
             "colorbar": {
              "outlinewidth": 0,
              "ticks": ""
             }
            },
            "type": "scatterpolargl"
           }
          ],
          "scatterternary": [
           {
            "marker": {
             "colorbar": {
              "outlinewidth": 0,
              "ticks": ""
             }
            },
            "type": "scatterternary"
           }
          ],
          "surface": [
           {
            "colorbar": {
             "outlinewidth": 0,
             "ticks": ""
            },
            "colorscale": [
             [
              0,
              "#0d0887"
             ],
             [
              0.1111111111111111,
              "#46039f"
             ],
             [
              0.2222222222222222,
              "#7201a8"
             ],
             [
              0.3333333333333333,
              "#9c179e"
             ],
             [
              0.4444444444444444,
              "#bd3786"
             ],
             [
              0.5555555555555556,
              "#d8576b"
             ],
             [
              0.6666666666666666,
              "#ed7953"
             ],
             [
              0.7777777777777778,
              "#fb9f3a"
             ],
             [
              0.8888888888888888,
              "#fdca26"
             ],
             [
              1,
              "#f0f921"
             ]
            ],
            "type": "surface"
           }
          ],
          "table": [
           {
            "cells": {
             "fill": {
              "color": "#EBF0F8"
             },
             "line": {
              "color": "white"
             }
            },
            "header": {
             "fill": {
              "color": "#C8D4E3"
             },
             "line": {
              "color": "white"
             }
            },
            "type": "table"
           }
          ]
         },
         "layout": {
          "annotationdefaults": {
           "arrowcolor": "#2a3f5f",
           "arrowhead": 0,
           "arrowwidth": 1
          },
          "coloraxis": {
           "colorbar": {
            "outlinewidth": 0,
            "ticks": ""
           }
          },
          "colorscale": {
           "diverging": [
            [
             0,
             "#8e0152"
            ],
            [
             0.1,
             "#c51b7d"
            ],
            [
             0.2,
             "#de77ae"
            ],
            [
             0.3,
             "#f1b6da"
            ],
            [
             0.4,
             "#fde0ef"
            ],
            [
             0.5,
             "#f7f7f7"
            ],
            [
             0.6,
             "#e6f5d0"
            ],
            [
             0.7,
             "#b8e186"
            ],
            [
             0.8,
             "#7fbc41"
            ],
            [
             0.9,
             "#4d9221"
            ],
            [
             1,
             "#276419"
            ]
           ],
           "sequential": [
            [
             0,
             "#0d0887"
            ],
            [
             0.1111111111111111,
             "#46039f"
            ],
            [
             0.2222222222222222,
             "#7201a8"
            ],
            [
             0.3333333333333333,
             "#9c179e"
            ],
            [
             0.4444444444444444,
             "#bd3786"
            ],
            [
             0.5555555555555556,
             "#d8576b"
            ],
            [
             0.6666666666666666,
             "#ed7953"
            ],
            [
             0.7777777777777778,
             "#fb9f3a"
            ],
            [
             0.8888888888888888,
             "#fdca26"
            ],
            [
             1,
             "#f0f921"
            ]
           ],
           "sequentialminus": [
            [
             0,
             "#0d0887"
            ],
            [
             0.1111111111111111,
             "#46039f"
            ],
            [
             0.2222222222222222,
             "#7201a8"
            ],
            [
             0.3333333333333333,
             "#9c179e"
            ],
            [
             0.4444444444444444,
             "#bd3786"
            ],
            [
             0.5555555555555556,
             "#d8576b"
            ],
            [
             0.6666666666666666,
             "#ed7953"
            ],
            [
             0.7777777777777778,
             "#fb9f3a"
            ],
            [
             0.8888888888888888,
             "#fdca26"
            ],
            [
             1,
             "#f0f921"
            ]
           ]
          },
          "colorway": [
           "#636efa",
           "#EF553B",
           "#00cc96",
           "#ab63fa",
           "#FFA15A",
           "#19d3f3",
           "#FF6692",
           "#B6E880",
           "#FF97FF",
           "#FECB52"
          ],
          "font": {
           "color": "#2a3f5f"
          },
          "geo": {
           "bgcolor": "white",
           "lakecolor": "white",
           "landcolor": "#E5ECF6",
           "showlakes": true,
           "showland": true,
           "subunitcolor": "white"
          },
          "hoverlabel": {
           "align": "left"
          },
          "hovermode": "closest",
          "mapbox": {
           "style": "light"
          },
          "paper_bgcolor": "white",
          "plot_bgcolor": "#E5ECF6",
          "polar": {
           "angularaxis": {
            "gridcolor": "white",
            "linecolor": "white",
            "ticks": ""
           },
           "bgcolor": "#E5ECF6",
           "radialaxis": {
            "gridcolor": "white",
            "linecolor": "white",
            "ticks": ""
           }
          },
          "scene": {
           "xaxis": {
            "backgroundcolor": "#E5ECF6",
            "gridcolor": "white",
            "gridwidth": 2,
            "linecolor": "white",
            "showbackground": true,
            "ticks": "",
            "zerolinecolor": "white"
           },
           "yaxis": {
            "backgroundcolor": "#E5ECF6",
            "gridcolor": "white",
            "gridwidth": 2,
            "linecolor": "white",
            "showbackground": true,
            "ticks": "",
            "zerolinecolor": "white"
           },
           "zaxis": {
            "backgroundcolor": "#E5ECF6",
            "gridcolor": "white",
            "gridwidth": 2,
            "linecolor": "white",
            "showbackground": true,
            "ticks": "",
            "zerolinecolor": "white"
           }
          },
          "shapedefaults": {
           "line": {
            "color": "#2a3f5f"
           }
          },
          "ternary": {
           "aaxis": {
            "gridcolor": "white",
            "linecolor": "white",
            "ticks": ""
           },
           "baxis": {
            "gridcolor": "white",
            "linecolor": "white",
            "ticks": ""
           },
           "bgcolor": "#E5ECF6",
           "caxis": {
            "gridcolor": "white",
            "linecolor": "white",
            "ticks": ""
           }
          },
          "title": {
           "x": 0.05
          },
          "xaxis": {
           "automargin": true,
           "gridcolor": "white",
           "linecolor": "white",
           "ticks": "",
           "title": {
            "standoff": 15
           },
           "zerolinecolor": "white",
           "zerolinewidth": 2
          },
          "yaxis": {
           "automargin": true,
           "gridcolor": "white",
           "linecolor": "white",
           "ticks": "",
           "title": {
            "standoff": 15
           },
           "zerolinecolor": "white",
           "zerolinewidth": 2
          }
         }
        },
        "title": {
         "font": {
          "color": "#4D5663"
         },
         "text": "Number of category kinds in noteevents"
        },
        "xaxis": {
         "gridcolor": "#E1E5ED",
         "showgrid": true,
         "tickfont": {
          "color": "#4D5663"
         },
         "title": {
          "font": {
           "color": "#4D5663"
          },
          "text": ""
         },
         "zerolinecolor": "#E1E5ED"
        },
        "yaxis": {
         "gridcolor": "#E1E5ED",
         "showgrid": true,
         "tickfont": {
          "color": "#4D5663"
         },
         "title": {
          "font": {
           "color": "#4D5663"
          },
          "text": "Number of notes"
         },
         "zerolinecolor": "#E1E5ED"
        }
       }
      },
      "text/html": [
       "<div>\n",
       "        \n",
       "        \n",
       "            <div id=\"b51d296b-721f-4fcf-9e7a-bf8fd2438ae5\" class=\"plotly-graph-div\" style=\"height:525px; width:100%;\"></div>\n",
       "            <script type=\"text/javascript\">\n",
       "                require([\"plotly\"], function(Plotly) {\n",
       "                    window.PLOTLYENV=window.PLOTLYENV || {};\n",
       "                    window.PLOTLYENV.BASE_URL='https://plot.ly';\n",
       "                    \n",
       "                if (document.getElementById(\"b51d296b-721f-4fcf-9e7a-bf8fd2438ae5\")) {\n",
       "                    Plotly.newPlot(\n",
       "                        'b51d296b-721f-4fcf-9e7a-bf8fd2438ae5',\n",
       "                        [{\"marker\": {\"color\": \"rgba(255, 153, 51, 0.6)\", \"line\": {\"color\": \"rgba(255, 153, 51, 1.0)\", \"width\": 1}}, \"name\": \"CATEGORY\", \"orientation\": \"v\", \"text\": \"\", \"type\": \"bar\", \"x\": [\"Nursing\", \"Nursing/other\", \"Radiology\", \"Physician \", \"ECG\", \"Respiratory \", \"Echo\", \"General\", \"Nutrition\", \"Rehab Services\", \"Social Work\", \"Case Management \", \"Pharmacy\", \"Consult\"], \"y\": [13256, 12693, 11723, 10643, 4469, 2454, 949, 680, 638, 231, 142, 135, 15, 1]}],\n",
       "                        {\"legend\": {\"bgcolor\": \"#F5F6F9\", \"font\": {\"color\": \"#4D5663\"}}, \"paper_bgcolor\": \"#F5F6F9\", \"plot_bgcolor\": \"#F5F6F9\", \"template\": {\"data\": {\"bar\": [{\"error_x\": {\"color\": \"#2a3f5f\"}, \"error_y\": {\"color\": \"#2a3f5f\"}, \"marker\": {\"line\": {\"color\": \"#E5ECF6\", \"width\": 0.5}}, \"type\": \"bar\"}], \"barpolar\": [{\"marker\": {\"line\": {\"color\": \"#E5ECF6\", \"width\": 0.5}}, \"type\": \"barpolar\"}], \"carpet\": [{\"aaxis\": {\"endlinecolor\": \"#2a3f5f\", \"gridcolor\": \"white\", \"linecolor\": \"white\", \"minorgridcolor\": \"white\", \"startlinecolor\": \"#2a3f5f\"}, \"baxis\": {\"endlinecolor\": \"#2a3f5f\", \"gridcolor\": \"white\", \"linecolor\": \"white\", \"minorgridcolor\": \"white\", \"startlinecolor\": \"#2a3f5f\"}, \"type\": \"carpet\"}], \"choropleth\": [{\"colorbar\": {\"outlinewidth\": 0, \"ticks\": \"\"}, \"type\": \"choropleth\"}], \"contour\": [{\"colorbar\": {\"outlinewidth\": 0, \"ticks\": \"\"}, \"colorscale\": [[0.0, \"#0d0887\"], [0.1111111111111111, \"#46039f\"], [0.2222222222222222, \"#7201a8\"], [0.3333333333333333, \"#9c179e\"], [0.4444444444444444, \"#bd3786\"], [0.5555555555555556, \"#d8576b\"], [0.6666666666666666, \"#ed7953\"], [0.7777777777777778, \"#fb9f3a\"], [0.8888888888888888, \"#fdca26\"], [1.0, \"#f0f921\"]], \"type\": \"contour\"}], \"contourcarpet\": [{\"colorbar\": {\"outlinewidth\": 0, \"ticks\": \"\"}, \"type\": \"contourcarpet\"}], \"heatmap\": [{\"colorbar\": {\"outlinewidth\": 0, \"ticks\": \"\"}, \"colorscale\": [[0.0, \"#0d0887\"], [0.1111111111111111, \"#46039f\"], [0.2222222222222222, \"#7201a8\"], [0.3333333333333333, \"#9c179e\"], [0.4444444444444444, \"#bd3786\"], [0.5555555555555556, \"#d8576b\"], [0.6666666666666666, \"#ed7953\"], [0.7777777777777778, \"#fb9f3a\"], [0.8888888888888888, \"#fdca26\"], [1.0, \"#f0f921\"]], \"type\": \"heatmap\"}], \"heatmapgl\": [{\"colorbar\": {\"outlinewidth\": 0, \"ticks\": \"\"}, \"colorscale\": [[0.0, \"#0d0887\"], [0.1111111111111111, \"#46039f\"], [0.2222222222222222, \"#7201a8\"], [0.3333333333333333, \"#9c179e\"], [0.4444444444444444, \"#bd3786\"], [0.5555555555555556, \"#d8576b\"], [0.6666666666666666, \"#ed7953\"], [0.7777777777777778, \"#fb9f3a\"], [0.8888888888888888, \"#fdca26\"], [1.0, \"#f0f921\"]], \"type\": \"heatmapgl\"}], \"histogram\": [{\"marker\": {\"colorbar\": {\"outlinewidth\": 0, \"ticks\": \"\"}}, \"type\": \"histogram\"}], \"histogram2d\": [{\"colorbar\": {\"outlinewidth\": 0, \"ticks\": \"\"}, \"colorscale\": [[0.0, \"#0d0887\"], [0.1111111111111111, \"#46039f\"], [0.2222222222222222, \"#7201a8\"], [0.3333333333333333, \"#9c179e\"], [0.4444444444444444, \"#bd3786\"], [0.5555555555555556, \"#d8576b\"], [0.6666666666666666, \"#ed7953\"], [0.7777777777777778, \"#fb9f3a\"], [0.8888888888888888, \"#fdca26\"], [1.0, \"#f0f921\"]], \"type\": \"histogram2d\"}], \"histogram2dcontour\": [{\"colorbar\": {\"outlinewidth\": 0, \"ticks\": \"\"}, \"colorscale\": [[0.0, \"#0d0887\"], [0.1111111111111111, \"#46039f\"], [0.2222222222222222, \"#7201a8\"], [0.3333333333333333, \"#9c179e\"], [0.4444444444444444, \"#bd3786\"], [0.5555555555555556, \"#d8576b\"], [0.6666666666666666, \"#ed7953\"], [0.7777777777777778, \"#fb9f3a\"], [0.8888888888888888, \"#fdca26\"], [1.0, \"#f0f921\"]], \"type\": \"histogram2dcontour\"}], \"mesh3d\": [{\"colorbar\": {\"outlinewidth\": 0, \"ticks\": \"\"}, \"type\": \"mesh3d\"}], \"parcoords\": [{\"line\": {\"colorbar\": {\"outlinewidth\": 0, \"ticks\": \"\"}}, \"type\": \"parcoords\"}], \"pie\": [{\"automargin\": true, \"type\": \"pie\"}], \"scatter\": [{\"marker\": {\"colorbar\": {\"outlinewidth\": 0, \"ticks\": \"\"}}, \"type\": \"scatter\"}], \"scatter3d\": [{\"line\": {\"colorbar\": {\"outlinewidth\": 0, \"ticks\": \"\"}}, \"marker\": {\"colorbar\": {\"outlinewidth\": 0, \"ticks\": \"\"}}, \"type\": \"scatter3d\"}], \"scattercarpet\": [{\"marker\": {\"colorbar\": {\"outlinewidth\": 0, \"ticks\": \"\"}}, \"type\": \"scattercarpet\"}], \"scattergeo\": [{\"marker\": {\"colorbar\": {\"outlinewidth\": 0, \"ticks\": \"\"}}, \"type\": \"scattergeo\"}], \"scattergl\": [{\"marker\": {\"colorbar\": {\"outlinewidth\": 0, \"ticks\": \"\"}}, \"type\": \"scattergl\"}], \"scattermapbox\": [{\"marker\": {\"colorbar\": {\"outlinewidth\": 0, \"ticks\": \"\"}}, \"type\": \"scattermapbox\"}], \"scatterpolar\": [{\"marker\": {\"colorbar\": {\"outlinewidth\": 0, \"ticks\": \"\"}}, \"type\": \"scatterpolar\"}], \"scatterpolargl\": [{\"marker\": {\"colorbar\": {\"outlinewidth\": 0, \"ticks\": \"\"}}, \"type\": \"scatterpolargl\"}], \"scatterternary\": [{\"marker\": {\"colorbar\": {\"outlinewidth\": 0, \"ticks\": \"\"}}, \"type\": \"scatterternary\"}], \"surface\": [{\"colorbar\": {\"outlinewidth\": 0, \"ticks\": \"\"}, \"colorscale\": [[0.0, \"#0d0887\"], [0.1111111111111111, \"#46039f\"], [0.2222222222222222, \"#7201a8\"], [0.3333333333333333, \"#9c179e\"], [0.4444444444444444, \"#bd3786\"], [0.5555555555555556, \"#d8576b\"], [0.6666666666666666, \"#ed7953\"], [0.7777777777777778, \"#fb9f3a\"], [0.8888888888888888, \"#fdca26\"], [1.0, \"#f0f921\"]], \"type\": \"surface\"}], \"table\": [{\"cells\": {\"fill\": {\"color\": \"#EBF0F8\"}, \"line\": {\"color\": \"white\"}}, \"header\": {\"fill\": {\"color\": \"#C8D4E3\"}, \"line\": {\"color\": \"white\"}}, \"type\": \"table\"}]}, \"layout\": {\"annotationdefaults\": {\"arrowcolor\": \"#2a3f5f\", \"arrowhead\": 0, \"arrowwidth\": 1}, \"coloraxis\": {\"colorbar\": {\"outlinewidth\": 0, \"ticks\": \"\"}}, \"colorscale\": {\"diverging\": [[0, \"#8e0152\"], [0.1, \"#c51b7d\"], [0.2, \"#de77ae\"], [0.3, \"#f1b6da\"], [0.4, \"#fde0ef\"], [0.5, \"#f7f7f7\"], [0.6, \"#e6f5d0\"], [0.7, \"#b8e186\"], [0.8, \"#7fbc41\"], [0.9, \"#4d9221\"], [1, \"#276419\"]], \"sequential\": [[0.0, \"#0d0887\"], [0.1111111111111111, \"#46039f\"], [0.2222222222222222, \"#7201a8\"], [0.3333333333333333, \"#9c179e\"], [0.4444444444444444, \"#bd3786\"], [0.5555555555555556, \"#d8576b\"], [0.6666666666666666, \"#ed7953\"], [0.7777777777777778, \"#fb9f3a\"], [0.8888888888888888, \"#fdca26\"], [1.0, \"#f0f921\"]], \"sequentialminus\": [[0.0, \"#0d0887\"], [0.1111111111111111, \"#46039f\"], [0.2222222222222222, \"#7201a8\"], [0.3333333333333333, \"#9c179e\"], [0.4444444444444444, \"#bd3786\"], [0.5555555555555556, \"#d8576b\"], [0.6666666666666666, \"#ed7953\"], [0.7777777777777778, \"#fb9f3a\"], [0.8888888888888888, \"#fdca26\"], [1.0, \"#f0f921\"]]}, \"colorway\": [\"#636efa\", \"#EF553B\", \"#00cc96\", \"#ab63fa\", \"#FFA15A\", \"#19d3f3\", \"#FF6692\", \"#B6E880\", \"#FF97FF\", \"#FECB52\"], \"font\": {\"color\": \"#2a3f5f\"}, \"geo\": {\"bgcolor\": \"white\", \"lakecolor\": \"white\", \"landcolor\": \"#E5ECF6\", \"showlakes\": true, \"showland\": true, \"subunitcolor\": \"white\"}, \"hoverlabel\": {\"align\": \"left\"}, \"hovermode\": \"closest\", \"mapbox\": {\"style\": \"light\"}, \"paper_bgcolor\": \"white\", \"plot_bgcolor\": \"#E5ECF6\", \"polar\": {\"angularaxis\": {\"gridcolor\": \"white\", \"linecolor\": \"white\", \"ticks\": \"\"}, \"bgcolor\": \"#E5ECF6\", \"radialaxis\": {\"gridcolor\": \"white\", \"linecolor\": \"white\", \"ticks\": \"\"}}, \"scene\": {\"xaxis\": {\"backgroundcolor\": \"#E5ECF6\", \"gridcolor\": \"white\", \"gridwidth\": 2, \"linecolor\": \"white\", \"showbackground\": true, \"ticks\": \"\", \"zerolinecolor\": \"white\"}, \"yaxis\": {\"backgroundcolor\": \"#E5ECF6\", \"gridcolor\": \"white\", \"gridwidth\": 2, \"linecolor\": \"white\", \"showbackground\": true, \"ticks\": \"\", \"zerolinecolor\": \"white\"}, \"zaxis\": {\"backgroundcolor\": \"#E5ECF6\", \"gridcolor\": \"white\", \"gridwidth\": 2, \"linecolor\": \"white\", \"showbackground\": true, \"ticks\": \"\", \"zerolinecolor\": \"white\"}}, \"shapedefaults\": {\"line\": {\"color\": \"#2a3f5f\"}}, \"ternary\": {\"aaxis\": {\"gridcolor\": \"white\", \"linecolor\": \"white\", \"ticks\": \"\"}, \"baxis\": {\"gridcolor\": \"white\", \"linecolor\": \"white\", \"ticks\": \"\"}, \"bgcolor\": \"#E5ECF6\", \"caxis\": {\"gridcolor\": \"white\", \"linecolor\": \"white\", \"ticks\": \"\"}}, \"title\": {\"x\": 0.05}, \"xaxis\": {\"automargin\": true, \"gridcolor\": \"white\", \"linecolor\": \"white\", \"ticks\": \"\", \"title\": {\"standoff\": 15}, \"zerolinecolor\": \"white\", \"zerolinewidth\": 2}, \"yaxis\": {\"automargin\": true, \"gridcolor\": \"white\", \"linecolor\": \"white\", \"ticks\": \"\", \"title\": {\"standoff\": 15}, \"zerolinecolor\": \"white\", \"zerolinewidth\": 2}}}, \"title\": {\"font\": {\"color\": \"#4D5663\"}, \"text\": \"Number of category kinds in noteevents\"}, \"xaxis\": {\"gridcolor\": \"#E1E5ED\", \"showgrid\": true, \"tickfont\": {\"color\": \"#4D5663\"}, \"title\": {\"font\": {\"color\": \"#4D5663\"}, \"text\": \"\"}, \"zerolinecolor\": \"#E1E5ED\"}, \"yaxis\": {\"gridcolor\": \"#E1E5ED\", \"showgrid\": true, \"tickfont\": {\"color\": \"#4D5663\"}, \"title\": {\"font\": {\"color\": \"#4D5663\"}, \"text\": \"Number of notes\"}, \"zerolinecolor\": \"#E1E5ED\"}},\n",
       "                        {\"showLink\": true, \"linkText\": \"Export to plot.ly\", \"plotlyServerURL\": \"https://plot.ly\", \"responsive\": true}\n",
       "                    ).then(function(){\n",
       "                            \n",
       "var gd = document.getElementById('b51d296b-721f-4fcf-9e7a-bf8fd2438ae5');\n",
       "var x = new MutationObserver(function (mutations, observer) {{\n",
       "        var display = window.getComputedStyle(gd).display;\n",
       "        if (!display || display === 'none') {{\n",
       "            console.log([gd, 'removed!']);\n",
       "            Plotly.purge(gd);\n",
       "            observer.disconnect();\n",
       "        }}\n",
       "}});\n",
       "\n",
       "// Listen for the removal of the full notebook cells\n",
       "var notebookContainer = gd.closest('#notebook-container');\n",
       "if (notebookContainer) {{\n",
       "    x.observe(notebookContainer, {childList: true});\n",
       "}}\n",
       "\n",
       "// Listen for the clearing of the current output cell\n",
       "var outputEl = gd.closest('.output');\n",
       "if (outputEl) {{\n",
       "    x.observe(outputEl, {childList: true});\n",
       "}}\n",
       "\n",
       "                        })\n",
       "                };\n",
       "                });\n",
       "            </script>\n",
       "        </div>"
      ]
     },
     "metadata": {},
     "output_type": "display_data"
    }
   ],
   "source": [
    "pneumonia_no_disch_df['CATEGORY'].value_counts().sort_values(ascending=False).iplot(kind='bar', yTitle='Number of notes', \n",
    "                                                                title='Number of category kinds in noteevents')"
   ]
  },
  {
   "cell_type": "code",
   "execution_count": 17,
   "metadata": {},
   "outputs": [
    {
     "name": "stdout",
     "output_type": "stream",
     "text": [
      "<class 'pandas.core.frame.DataFrame'>\n",
      "Int64Index: 58029 entries, 59103 to 2066669\n",
      "Data columns (total 8 columns):\n",
      " #   Column        Non-Null Count  Dtype \n",
      "---  ------        --------------  ----- \n",
      " 0   ROW_ID_x      58029 non-null  int64 \n",
      " 1   SUBJECT_ID_x  58029 non-null  int64 \n",
      " 2   CHARTDATE     58029 non-null  object\n",
      " 3   STORETIME     40888 non-null  object\n",
      " 4   CATEGORY      58029 non-null  object\n",
      " 5   DESCRIPTION   58029 non-null  object\n",
      " 6   TEXT          58029 non-null  object\n",
      " 7   DEATHTIME     11895 non-null  object\n",
      "dtypes: int64(2), object(6)\n",
      "memory usage: 4.0+ MB\n"
     ]
    }
   ],
   "source": [
    "pneumonia_no_disch_df.info()"
   ]
  },
  {
   "cell_type": "code",
   "execution_count": 18,
   "metadata": {},
   "outputs": [
    {
     "data": {
      "text/plain": [
       "(58029, 8)"
      ]
     },
     "execution_count": 18,
     "metadata": {},
     "output_type": "execute_result"
    }
   ],
   "source": [
    "pneumonia_no_disch_df.shape"
   ]
  },
  {
   "cell_type": "code",
   "execution_count": 19,
   "metadata": {},
   "outputs": [],
   "source": [
    "pneumonia_alive_no_disch = pneumonia_no_disch_df[pneumonia_no_disch_df.DEATHTIME.isnull()]\n",
    "pneumonia_dead_no_disch = pneumonia_no_disch_df[pneumonia_no_disch_df.DEATHTIME.notnull()]"
   ]
  },
  {
   "cell_type": "code",
   "execution_count": 20,
   "metadata": {},
   "outputs": [
    {
     "data": {
      "text/plain": [
       "(11895, 8)"
      ]
     },
     "execution_count": 20,
     "metadata": {},
     "output_type": "execute_result"
    }
   ],
   "source": [
    "pneumonia_dead_no_disch.shape"
   ]
  },
  {
   "cell_type": "code",
   "execution_count": 21,
   "metadata": {},
   "outputs": [
    {
     "data": {
      "text/plain": [
       "(46134, 8)"
      ]
     },
     "execution_count": 21,
     "metadata": {},
     "output_type": "execute_result"
    }
   ],
   "source": [
    "pneumonia_alive_no_disch.shape"
   ]
  },
  {
   "cell_type": "code",
   "execution_count": 22,
   "metadata": {},
   "outputs": [],
   "source": [
    "pneumonia_alive_no_disch = pneumonia_alive_no_disch.sort_values(by=['SUBJECT_ID_x','CHARTDATE', 'ROW_ID_x'])\n",
    "pneumonia_dead_no_disch = pneumonia_dead_no_disch.sort_values(by=['SUBJECT_ID_x','CHARTDATE', 'ROW_ID_x'])"
   ]
  },
  {
   "cell_type": "code",
   "execution_count": 23,
   "metadata": {},
   "outputs": [
    {
     "data": {
      "application/vnd.plotly.v1+json": {
       "config": {
        "linkText": "Export to plot.ly",
        "plotlyServerURL": "https://plot.ly",
        "showLink": true
       },
       "data": [
        {
         "marker": {
          "color": "rgba(255, 153, 51, 0.6)",
          "line": {
           "color": "rgba(255, 153, 51, 1.0)",
           "width": 1
          }
         },
         "name": "CATEGORY",
         "orientation": "v",
         "text": "",
         "type": "bar",
         "x": [
          "Nursing",
          "Nursing/other",
          "Radiology",
          "Physician ",
          "ECG",
          "Respiratory ",
          "Echo",
          "Nutrition",
          "General",
          "Rehab Services",
          "Case Management ",
          "Social Work",
          "Pharmacy"
         ],
         "y": [
          10574,
          10043,
          9448,
          8431,
          3623,
          1831,
          782,
          489,
          486,
          207,
          106,
          100,
          14
         ]
        }
       ],
       "layout": {
        "legend": {
         "bgcolor": "#F5F6F9",
         "font": {
          "color": "#4D5663"
         }
        },
        "paper_bgcolor": "#F5F6F9",
        "plot_bgcolor": "#F5F6F9",
        "template": {
         "data": {
          "bar": [
           {
            "error_x": {
             "color": "#2a3f5f"
            },
            "error_y": {
             "color": "#2a3f5f"
            },
            "marker": {
             "line": {
              "color": "#E5ECF6",
              "width": 0.5
             }
            },
            "type": "bar"
           }
          ],
          "barpolar": [
           {
            "marker": {
             "line": {
              "color": "#E5ECF6",
              "width": 0.5
             }
            },
            "type": "barpolar"
           }
          ],
          "carpet": [
           {
            "aaxis": {
             "endlinecolor": "#2a3f5f",
             "gridcolor": "white",
             "linecolor": "white",
             "minorgridcolor": "white",
             "startlinecolor": "#2a3f5f"
            },
            "baxis": {
             "endlinecolor": "#2a3f5f",
             "gridcolor": "white",
             "linecolor": "white",
             "minorgridcolor": "white",
             "startlinecolor": "#2a3f5f"
            },
            "type": "carpet"
           }
          ],
          "choropleth": [
           {
            "colorbar": {
             "outlinewidth": 0,
             "ticks": ""
            },
            "type": "choropleth"
           }
          ],
          "contour": [
           {
            "colorbar": {
             "outlinewidth": 0,
             "ticks": ""
            },
            "colorscale": [
             [
              0,
              "#0d0887"
             ],
             [
              0.1111111111111111,
              "#46039f"
             ],
             [
              0.2222222222222222,
              "#7201a8"
             ],
             [
              0.3333333333333333,
              "#9c179e"
             ],
             [
              0.4444444444444444,
              "#bd3786"
             ],
             [
              0.5555555555555556,
              "#d8576b"
             ],
             [
              0.6666666666666666,
              "#ed7953"
             ],
             [
              0.7777777777777778,
              "#fb9f3a"
             ],
             [
              0.8888888888888888,
              "#fdca26"
             ],
             [
              1,
              "#f0f921"
             ]
            ],
            "type": "contour"
           }
          ],
          "contourcarpet": [
           {
            "colorbar": {
             "outlinewidth": 0,
             "ticks": ""
            },
            "type": "contourcarpet"
           }
          ],
          "heatmap": [
           {
            "colorbar": {
             "outlinewidth": 0,
             "ticks": ""
            },
            "colorscale": [
             [
              0,
              "#0d0887"
             ],
             [
              0.1111111111111111,
              "#46039f"
             ],
             [
              0.2222222222222222,
              "#7201a8"
             ],
             [
              0.3333333333333333,
              "#9c179e"
             ],
             [
              0.4444444444444444,
              "#bd3786"
             ],
             [
              0.5555555555555556,
              "#d8576b"
             ],
             [
              0.6666666666666666,
              "#ed7953"
             ],
             [
              0.7777777777777778,
              "#fb9f3a"
             ],
             [
              0.8888888888888888,
              "#fdca26"
             ],
             [
              1,
              "#f0f921"
             ]
            ],
            "type": "heatmap"
           }
          ],
          "heatmapgl": [
           {
            "colorbar": {
             "outlinewidth": 0,
             "ticks": ""
            },
            "colorscale": [
             [
              0,
              "#0d0887"
             ],
             [
              0.1111111111111111,
              "#46039f"
             ],
             [
              0.2222222222222222,
              "#7201a8"
             ],
             [
              0.3333333333333333,
              "#9c179e"
             ],
             [
              0.4444444444444444,
              "#bd3786"
             ],
             [
              0.5555555555555556,
              "#d8576b"
             ],
             [
              0.6666666666666666,
              "#ed7953"
             ],
             [
              0.7777777777777778,
              "#fb9f3a"
             ],
             [
              0.8888888888888888,
              "#fdca26"
             ],
             [
              1,
              "#f0f921"
             ]
            ],
            "type": "heatmapgl"
           }
          ],
          "histogram": [
           {
            "marker": {
             "colorbar": {
              "outlinewidth": 0,
              "ticks": ""
             }
            },
            "type": "histogram"
           }
          ],
          "histogram2d": [
           {
            "colorbar": {
             "outlinewidth": 0,
             "ticks": ""
            },
            "colorscale": [
             [
              0,
              "#0d0887"
             ],
             [
              0.1111111111111111,
              "#46039f"
             ],
             [
              0.2222222222222222,
              "#7201a8"
             ],
             [
              0.3333333333333333,
              "#9c179e"
             ],
             [
              0.4444444444444444,
              "#bd3786"
             ],
             [
              0.5555555555555556,
              "#d8576b"
             ],
             [
              0.6666666666666666,
              "#ed7953"
             ],
             [
              0.7777777777777778,
              "#fb9f3a"
             ],
             [
              0.8888888888888888,
              "#fdca26"
             ],
             [
              1,
              "#f0f921"
             ]
            ],
            "type": "histogram2d"
           }
          ],
          "histogram2dcontour": [
           {
            "colorbar": {
             "outlinewidth": 0,
             "ticks": ""
            },
            "colorscale": [
             [
              0,
              "#0d0887"
             ],
             [
              0.1111111111111111,
              "#46039f"
             ],
             [
              0.2222222222222222,
              "#7201a8"
             ],
             [
              0.3333333333333333,
              "#9c179e"
             ],
             [
              0.4444444444444444,
              "#bd3786"
             ],
             [
              0.5555555555555556,
              "#d8576b"
             ],
             [
              0.6666666666666666,
              "#ed7953"
             ],
             [
              0.7777777777777778,
              "#fb9f3a"
             ],
             [
              0.8888888888888888,
              "#fdca26"
             ],
             [
              1,
              "#f0f921"
             ]
            ],
            "type": "histogram2dcontour"
           }
          ],
          "mesh3d": [
           {
            "colorbar": {
             "outlinewidth": 0,
             "ticks": ""
            },
            "type": "mesh3d"
           }
          ],
          "parcoords": [
           {
            "line": {
             "colorbar": {
              "outlinewidth": 0,
              "ticks": ""
             }
            },
            "type": "parcoords"
           }
          ],
          "pie": [
           {
            "automargin": true,
            "type": "pie"
           }
          ],
          "scatter": [
           {
            "marker": {
             "colorbar": {
              "outlinewidth": 0,
              "ticks": ""
             }
            },
            "type": "scatter"
           }
          ],
          "scatter3d": [
           {
            "line": {
             "colorbar": {
              "outlinewidth": 0,
              "ticks": ""
             }
            },
            "marker": {
             "colorbar": {
              "outlinewidth": 0,
              "ticks": ""
             }
            },
            "type": "scatter3d"
           }
          ],
          "scattercarpet": [
           {
            "marker": {
             "colorbar": {
              "outlinewidth": 0,
              "ticks": ""
             }
            },
            "type": "scattercarpet"
           }
          ],
          "scattergeo": [
           {
            "marker": {
             "colorbar": {
              "outlinewidth": 0,
              "ticks": ""
             }
            },
            "type": "scattergeo"
           }
          ],
          "scattergl": [
           {
            "marker": {
             "colorbar": {
              "outlinewidth": 0,
              "ticks": ""
             }
            },
            "type": "scattergl"
           }
          ],
          "scattermapbox": [
           {
            "marker": {
             "colorbar": {
              "outlinewidth": 0,
              "ticks": ""
             }
            },
            "type": "scattermapbox"
           }
          ],
          "scatterpolar": [
           {
            "marker": {
             "colorbar": {
              "outlinewidth": 0,
              "ticks": ""
             }
            },
            "type": "scatterpolar"
           }
          ],
          "scatterpolargl": [
           {
            "marker": {
             "colorbar": {
              "outlinewidth": 0,
              "ticks": ""
             }
            },
            "type": "scatterpolargl"
           }
          ],
          "scatterternary": [
           {
            "marker": {
             "colorbar": {
              "outlinewidth": 0,
              "ticks": ""
             }
            },
            "type": "scatterternary"
           }
          ],
          "surface": [
           {
            "colorbar": {
             "outlinewidth": 0,
             "ticks": ""
            },
            "colorscale": [
             [
              0,
              "#0d0887"
             ],
             [
              0.1111111111111111,
              "#46039f"
             ],
             [
              0.2222222222222222,
              "#7201a8"
             ],
             [
              0.3333333333333333,
              "#9c179e"
             ],
             [
              0.4444444444444444,
              "#bd3786"
             ],
             [
              0.5555555555555556,
              "#d8576b"
             ],
             [
              0.6666666666666666,
              "#ed7953"
             ],
             [
              0.7777777777777778,
              "#fb9f3a"
             ],
             [
              0.8888888888888888,
              "#fdca26"
             ],
             [
              1,
              "#f0f921"
             ]
            ],
            "type": "surface"
           }
          ],
          "table": [
           {
            "cells": {
             "fill": {
              "color": "#EBF0F8"
             },
             "line": {
              "color": "white"
             }
            },
            "header": {
             "fill": {
              "color": "#C8D4E3"
             },
             "line": {
              "color": "white"
             }
            },
            "type": "table"
           }
          ]
         },
         "layout": {
          "annotationdefaults": {
           "arrowcolor": "#2a3f5f",
           "arrowhead": 0,
           "arrowwidth": 1
          },
          "coloraxis": {
           "colorbar": {
            "outlinewidth": 0,
            "ticks": ""
           }
          },
          "colorscale": {
           "diverging": [
            [
             0,
             "#8e0152"
            ],
            [
             0.1,
             "#c51b7d"
            ],
            [
             0.2,
             "#de77ae"
            ],
            [
             0.3,
             "#f1b6da"
            ],
            [
             0.4,
             "#fde0ef"
            ],
            [
             0.5,
             "#f7f7f7"
            ],
            [
             0.6,
             "#e6f5d0"
            ],
            [
             0.7,
             "#b8e186"
            ],
            [
             0.8,
             "#7fbc41"
            ],
            [
             0.9,
             "#4d9221"
            ],
            [
             1,
             "#276419"
            ]
           ],
           "sequential": [
            [
             0,
             "#0d0887"
            ],
            [
             0.1111111111111111,
             "#46039f"
            ],
            [
             0.2222222222222222,
             "#7201a8"
            ],
            [
             0.3333333333333333,
             "#9c179e"
            ],
            [
             0.4444444444444444,
             "#bd3786"
            ],
            [
             0.5555555555555556,
             "#d8576b"
            ],
            [
             0.6666666666666666,
             "#ed7953"
            ],
            [
             0.7777777777777778,
             "#fb9f3a"
            ],
            [
             0.8888888888888888,
             "#fdca26"
            ],
            [
             1,
             "#f0f921"
            ]
           ],
           "sequentialminus": [
            [
             0,
             "#0d0887"
            ],
            [
             0.1111111111111111,
             "#46039f"
            ],
            [
             0.2222222222222222,
             "#7201a8"
            ],
            [
             0.3333333333333333,
             "#9c179e"
            ],
            [
             0.4444444444444444,
             "#bd3786"
            ],
            [
             0.5555555555555556,
             "#d8576b"
            ],
            [
             0.6666666666666666,
             "#ed7953"
            ],
            [
             0.7777777777777778,
             "#fb9f3a"
            ],
            [
             0.8888888888888888,
             "#fdca26"
            ],
            [
             1,
             "#f0f921"
            ]
           ]
          },
          "colorway": [
           "#636efa",
           "#EF553B",
           "#00cc96",
           "#ab63fa",
           "#FFA15A",
           "#19d3f3",
           "#FF6692",
           "#B6E880",
           "#FF97FF",
           "#FECB52"
          ],
          "font": {
           "color": "#2a3f5f"
          },
          "geo": {
           "bgcolor": "white",
           "lakecolor": "white",
           "landcolor": "#E5ECF6",
           "showlakes": true,
           "showland": true,
           "subunitcolor": "white"
          },
          "hoverlabel": {
           "align": "left"
          },
          "hovermode": "closest",
          "mapbox": {
           "style": "light"
          },
          "paper_bgcolor": "white",
          "plot_bgcolor": "#E5ECF6",
          "polar": {
           "angularaxis": {
            "gridcolor": "white",
            "linecolor": "white",
            "ticks": ""
           },
           "bgcolor": "#E5ECF6",
           "radialaxis": {
            "gridcolor": "white",
            "linecolor": "white",
            "ticks": ""
           }
          },
          "scene": {
           "xaxis": {
            "backgroundcolor": "#E5ECF6",
            "gridcolor": "white",
            "gridwidth": 2,
            "linecolor": "white",
            "showbackground": true,
            "ticks": "",
            "zerolinecolor": "white"
           },
           "yaxis": {
            "backgroundcolor": "#E5ECF6",
            "gridcolor": "white",
            "gridwidth": 2,
            "linecolor": "white",
            "showbackground": true,
            "ticks": "",
            "zerolinecolor": "white"
           },
           "zaxis": {
            "backgroundcolor": "#E5ECF6",
            "gridcolor": "white",
            "gridwidth": 2,
            "linecolor": "white",
            "showbackground": true,
            "ticks": "",
            "zerolinecolor": "white"
           }
          },
          "shapedefaults": {
           "line": {
            "color": "#2a3f5f"
           }
          },
          "ternary": {
           "aaxis": {
            "gridcolor": "white",
            "linecolor": "white",
            "ticks": ""
           },
           "baxis": {
            "gridcolor": "white",
            "linecolor": "white",
            "ticks": ""
           },
           "bgcolor": "#E5ECF6",
           "caxis": {
            "gridcolor": "white",
            "linecolor": "white",
            "ticks": ""
           }
          },
          "title": {
           "x": 0.05
          },
          "xaxis": {
           "automargin": true,
           "gridcolor": "white",
           "linecolor": "white",
           "ticks": "",
           "title": {
            "standoff": 15
           },
           "zerolinecolor": "white",
           "zerolinewidth": 2
          },
          "yaxis": {
           "automargin": true,
           "gridcolor": "white",
           "linecolor": "white",
           "ticks": "",
           "title": {
            "standoff": 15
           },
           "zerolinecolor": "white",
           "zerolinewidth": 2
          }
         }
        },
        "title": {
         "font": {
          "color": "#4D5663"
         },
         "text": "Number of category kinds in pneumonia alive"
        },
        "xaxis": {
         "gridcolor": "#E1E5ED",
         "showgrid": true,
         "tickfont": {
          "color": "#4D5663"
         },
         "title": {
          "font": {
           "color": "#4D5663"
          },
          "text": ""
         },
         "zerolinecolor": "#E1E5ED"
        },
        "yaxis": {
         "gridcolor": "#E1E5ED",
         "showgrid": true,
         "tickfont": {
          "color": "#4D5663"
         },
         "title": {
          "font": {
           "color": "#4D5663"
          },
          "text": "Number of notes"
         },
         "zerolinecolor": "#E1E5ED"
        }
       }
      },
      "text/html": [
       "<div>\n",
       "        \n",
       "        \n",
       "            <div id=\"9ada6407-1226-4c1e-bc30-e1ae8d20db1c\" class=\"plotly-graph-div\" style=\"height:525px; width:100%;\"></div>\n",
       "            <script type=\"text/javascript\">\n",
       "                require([\"plotly\"], function(Plotly) {\n",
       "                    window.PLOTLYENV=window.PLOTLYENV || {};\n",
       "                    window.PLOTLYENV.BASE_URL='https://plot.ly';\n",
       "                    \n",
       "                if (document.getElementById(\"9ada6407-1226-4c1e-bc30-e1ae8d20db1c\")) {\n",
       "                    Plotly.newPlot(\n",
       "                        '9ada6407-1226-4c1e-bc30-e1ae8d20db1c',\n",
       "                        [{\"marker\": {\"color\": \"rgba(255, 153, 51, 0.6)\", \"line\": {\"color\": \"rgba(255, 153, 51, 1.0)\", \"width\": 1}}, \"name\": \"CATEGORY\", \"orientation\": \"v\", \"text\": \"\", \"type\": \"bar\", \"x\": [\"Nursing\", \"Nursing/other\", \"Radiology\", \"Physician \", \"ECG\", \"Respiratory \", \"Echo\", \"Nutrition\", \"General\", \"Rehab Services\", \"Case Management \", \"Social Work\", \"Pharmacy\"], \"y\": [10574, 10043, 9448, 8431, 3623, 1831, 782, 489, 486, 207, 106, 100, 14]}],\n",
       "                        {\"legend\": {\"bgcolor\": \"#F5F6F9\", \"font\": {\"color\": \"#4D5663\"}}, \"paper_bgcolor\": \"#F5F6F9\", \"plot_bgcolor\": \"#F5F6F9\", \"template\": {\"data\": {\"bar\": [{\"error_x\": {\"color\": \"#2a3f5f\"}, \"error_y\": {\"color\": \"#2a3f5f\"}, \"marker\": {\"line\": {\"color\": \"#E5ECF6\", \"width\": 0.5}}, \"type\": \"bar\"}], \"barpolar\": [{\"marker\": {\"line\": {\"color\": \"#E5ECF6\", \"width\": 0.5}}, \"type\": \"barpolar\"}], \"carpet\": [{\"aaxis\": {\"endlinecolor\": \"#2a3f5f\", \"gridcolor\": \"white\", \"linecolor\": \"white\", \"minorgridcolor\": \"white\", \"startlinecolor\": \"#2a3f5f\"}, \"baxis\": {\"endlinecolor\": \"#2a3f5f\", \"gridcolor\": \"white\", \"linecolor\": \"white\", \"minorgridcolor\": \"white\", \"startlinecolor\": \"#2a3f5f\"}, \"type\": \"carpet\"}], \"choropleth\": [{\"colorbar\": {\"outlinewidth\": 0, \"ticks\": \"\"}, \"type\": \"choropleth\"}], \"contour\": [{\"colorbar\": {\"outlinewidth\": 0, \"ticks\": \"\"}, \"colorscale\": [[0.0, \"#0d0887\"], [0.1111111111111111, \"#46039f\"], [0.2222222222222222, \"#7201a8\"], [0.3333333333333333, \"#9c179e\"], [0.4444444444444444, \"#bd3786\"], [0.5555555555555556, \"#d8576b\"], [0.6666666666666666, \"#ed7953\"], [0.7777777777777778, \"#fb9f3a\"], [0.8888888888888888, \"#fdca26\"], [1.0, \"#f0f921\"]], \"type\": \"contour\"}], \"contourcarpet\": [{\"colorbar\": {\"outlinewidth\": 0, \"ticks\": \"\"}, \"type\": \"contourcarpet\"}], \"heatmap\": [{\"colorbar\": {\"outlinewidth\": 0, \"ticks\": \"\"}, \"colorscale\": [[0.0, \"#0d0887\"], [0.1111111111111111, \"#46039f\"], [0.2222222222222222, \"#7201a8\"], [0.3333333333333333, \"#9c179e\"], [0.4444444444444444, \"#bd3786\"], [0.5555555555555556, \"#d8576b\"], [0.6666666666666666, \"#ed7953\"], [0.7777777777777778, \"#fb9f3a\"], [0.8888888888888888, \"#fdca26\"], [1.0, \"#f0f921\"]], \"type\": \"heatmap\"}], \"heatmapgl\": [{\"colorbar\": {\"outlinewidth\": 0, \"ticks\": \"\"}, \"colorscale\": [[0.0, \"#0d0887\"], [0.1111111111111111, \"#46039f\"], [0.2222222222222222, \"#7201a8\"], [0.3333333333333333, \"#9c179e\"], [0.4444444444444444, \"#bd3786\"], [0.5555555555555556, \"#d8576b\"], [0.6666666666666666, \"#ed7953\"], [0.7777777777777778, \"#fb9f3a\"], [0.8888888888888888, \"#fdca26\"], [1.0, \"#f0f921\"]], \"type\": \"heatmapgl\"}], \"histogram\": [{\"marker\": {\"colorbar\": {\"outlinewidth\": 0, \"ticks\": \"\"}}, \"type\": \"histogram\"}], \"histogram2d\": [{\"colorbar\": {\"outlinewidth\": 0, \"ticks\": \"\"}, \"colorscale\": [[0.0, \"#0d0887\"], [0.1111111111111111, \"#46039f\"], [0.2222222222222222, \"#7201a8\"], [0.3333333333333333, \"#9c179e\"], [0.4444444444444444, \"#bd3786\"], [0.5555555555555556, \"#d8576b\"], [0.6666666666666666, \"#ed7953\"], [0.7777777777777778, \"#fb9f3a\"], [0.8888888888888888, \"#fdca26\"], [1.0, \"#f0f921\"]], \"type\": \"histogram2d\"}], \"histogram2dcontour\": [{\"colorbar\": {\"outlinewidth\": 0, \"ticks\": \"\"}, \"colorscale\": [[0.0, \"#0d0887\"], [0.1111111111111111, \"#46039f\"], [0.2222222222222222, \"#7201a8\"], [0.3333333333333333, \"#9c179e\"], [0.4444444444444444, \"#bd3786\"], [0.5555555555555556, \"#d8576b\"], [0.6666666666666666, \"#ed7953\"], [0.7777777777777778, \"#fb9f3a\"], [0.8888888888888888, \"#fdca26\"], [1.0, \"#f0f921\"]], \"type\": \"histogram2dcontour\"}], \"mesh3d\": [{\"colorbar\": {\"outlinewidth\": 0, \"ticks\": \"\"}, \"type\": \"mesh3d\"}], \"parcoords\": [{\"line\": {\"colorbar\": {\"outlinewidth\": 0, \"ticks\": \"\"}}, \"type\": \"parcoords\"}], \"pie\": [{\"automargin\": true, \"type\": \"pie\"}], \"scatter\": [{\"marker\": {\"colorbar\": {\"outlinewidth\": 0, \"ticks\": \"\"}}, \"type\": \"scatter\"}], \"scatter3d\": [{\"line\": {\"colorbar\": {\"outlinewidth\": 0, \"ticks\": \"\"}}, \"marker\": {\"colorbar\": {\"outlinewidth\": 0, \"ticks\": \"\"}}, \"type\": \"scatter3d\"}], \"scattercarpet\": [{\"marker\": {\"colorbar\": {\"outlinewidth\": 0, \"ticks\": \"\"}}, \"type\": \"scattercarpet\"}], \"scattergeo\": [{\"marker\": {\"colorbar\": {\"outlinewidth\": 0, \"ticks\": \"\"}}, \"type\": \"scattergeo\"}], \"scattergl\": [{\"marker\": {\"colorbar\": {\"outlinewidth\": 0, \"ticks\": \"\"}}, \"type\": \"scattergl\"}], \"scattermapbox\": [{\"marker\": {\"colorbar\": {\"outlinewidth\": 0, \"ticks\": \"\"}}, \"type\": \"scattermapbox\"}], \"scatterpolar\": [{\"marker\": {\"colorbar\": {\"outlinewidth\": 0, \"ticks\": \"\"}}, \"type\": \"scatterpolar\"}], \"scatterpolargl\": [{\"marker\": {\"colorbar\": {\"outlinewidth\": 0, \"ticks\": \"\"}}, \"type\": \"scatterpolargl\"}], \"scatterternary\": [{\"marker\": {\"colorbar\": {\"outlinewidth\": 0, \"ticks\": \"\"}}, \"type\": \"scatterternary\"}], \"surface\": [{\"colorbar\": {\"outlinewidth\": 0, \"ticks\": \"\"}, \"colorscale\": [[0.0, \"#0d0887\"], [0.1111111111111111, \"#46039f\"], [0.2222222222222222, \"#7201a8\"], [0.3333333333333333, \"#9c179e\"], [0.4444444444444444, \"#bd3786\"], [0.5555555555555556, \"#d8576b\"], [0.6666666666666666, \"#ed7953\"], [0.7777777777777778, \"#fb9f3a\"], [0.8888888888888888, \"#fdca26\"], [1.0, \"#f0f921\"]], \"type\": \"surface\"}], \"table\": [{\"cells\": {\"fill\": {\"color\": \"#EBF0F8\"}, \"line\": {\"color\": \"white\"}}, \"header\": {\"fill\": {\"color\": \"#C8D4E3\"}, \"line\": {\"color\": \"white\"}}, \"type\": \"table\"}]}, \"layout\": {\"annotationdefaults\": {\"arrowcolor\": \"#2a3f5f\", \"arrowhead\": 0, \"arrowwidth\": 1}, \"coloraxis\": {\"colorbar\": {\"outlinewidth\": 0, \"ticks\": \"\"}}, \"colorscale\": {\"diverging\": [[0, \"#8e0152\"], [0.1, \"#c51b7d\"], [0.2, \"#de77ae\"], [0.3, \"#f1b6da\"], [0.4, \"#fde0ef\"], [0.5, \"#f7f7f7\"], [0.6, \"#e6f5d0\"], [0.7, \"#b8e186\"], [0.8, \"#7fbc41\"], [0.9, \"#4d9221\"], [1, \"#276419\"]], \"sequential\": [[0.0, \"#0d0887\"], [0.1111111111111111, \"#46039f\"], [0.2222222222222222, \"#7201a8\"], [0.3333333333333333, \"#9c179e\"], [0.4444444444444444, \"#bd3786\"], [0.5555555555555556, \"#d8576b\"], [0.6666666666666666, \"#ed7953\"], [0.7777777777777778, \"#fb9f3a\"], [0.8888888888888888, \"#fdca26\"], [1.0, \"#f0f921\"]], \"sequentialminus\": [[0.0, \"#0d0887\"], [0.1111111111111111, \"#46039f\"], [0.2222222222222222, \"#7201a8\"], [0.3333333333333333, \"#9c179e\"], [0.4444444444444444, \"#bd3786\"], [0.5555555555555556, \"#d8576b\"], [0.6666666666666666, \"#ed7953\"], [0.7777777777777778, \"#fb9f3a\"], [0.8888888888888888, \"#fdca26\"], [1.0, \"#f0f921\"]]}, \"colorway\": [\"#636efa\", \"#EF553B\", \"#00cc96\", \"#ab63fa\", \"#FFA15A\", \"#19d3f3\", \"#FF6692\", \"#B6E880\", \"#FF97FF\", \"#FECB52\"], \"font\": {\"color\": \"#2a3f5f\"}, \"geo\": {\"bgcolor\": \"white\", \"lakecolor\": \"white\", \"landcolor\": \"#E5ECF6\", \"showlakes\": true, \"showland\": true, \"subunitcolor\": \"white\"}, \"hoverlabel\": {\"align\": \"left\"}, \"hovermode\": \"closest\", \"mapbox\": {\"style\": \"light\"}, \"paper_bgcolor\": \"white\", \"plot_bgcolor\": \"#E5ECF6\", \"polar\": {\"angularaxis\": {\"gridcolor\": \"white\", \"linecolor\": \"white\", \"ticks\": \"\"}, \"bgcolor\": \"#E5ECF6\", \"radialaxis\": {\"gridcolor\": \"white\", \"linecolor\": \"white\", \"ticks\": \"\"}}, \"scene\": {\"xaxis\": {\"backgroundcolor\": \"#E5ECF6\", \"gridcolor\": \"white\", \"gridwidth\": 2, \"linecolor\": \"white\", \"showbackground\": true, \"ticks\": \"\", \"zerolinecolor\": \"white\"}, \"yaxis\": {\"backgroundcolor\": \"#E5ECF6\", \"gridcolor\": \"white\", \"gridwidth\": 2, \"linecolor\": \"white\", \"showbackground\": true, \"ticks\": \"\", \"zerolinecolor\": \"white\"}, \"zaxis\": {\"backgroundcolor\": \"#E5ECF6\", \"gridcolor\": \"white\", \"gridwidth\": 2, \"linecolor\": \"white\", \"showbackground\": true, \"ticks\": \"\", \"zerolinecolor\": \"white\"}}, \"shapedefaults\": {\"line\": {\"color\": \"#2a3f5f\"}}, \"ternary\": {\"aaxis\": {\"gridcolor\": \"white\", \"linecolor\": \"white\", \"ticks\": \"\"}, \"baxis\": {\"gridcolor\": \"white\", \"linecolor\": \"white\", \"ticks\": \"\"}, \"bgcolor\": \"#E5ECF6\", \"caxis\": {\"gridcolor\": \"white\", \"linecolor\": \"white\", \"ticks\": \"\"}}, \"title\": {\"x\": 0.05}, \"xaxis\": {\"automargin\": true, \"gridcolor\": \"white\", \"linecolor\": \"white\", \"ticks\": \"\", \"title\": {\"standoff\": 15}, \"zerolinecolor\": \"white\", \"zerolinewidth\": 2}, \"yaxis\": {\"automargin\": true, \"gridcolor\": \"white\", \"linecolor\": \"white\", \"ticks\": \"\", \"title\": {\"standoff\": 15}, \"zerolinecolor\": \"white\", \"zerolinewidth\": 2}}}, \"title\": {\"font\": {\"color\": \"#4D5663\"}, \"text\": \"Number of category kinds in pneumonia alive\"}, \"xaxis\": {\"gridcolor\": \"#E1E5ED\", \"showgrid\": true, \"tickfont\": {\"color\": \"#4D5663\"}, \"title\": {\"font\": {\"color\": \"#4D5663\"}, \"text\": \"\"}, \"zerolinecolor\": \"#E1E5ED\"}, \"yaxis\": {\"gridcolor\": \"#E1E5ED\", \"showgrid\": true, \"tickfont\": {\"color\": \"#4D5663\"}, \"title\": {\"font\": {\"color\": \"#4D5663\"}, \"text\": \"Number of notes\"}, \"zerolinecolor\": \"#E1E5ED\"}},\n",
       "                        {\"showLink\": true, \"linkText\": \"Export to plot.ly\", \"plotlyServerURL\": \"https://plot.ly\", \"responsive\": true}\n",
       "                    ).then(function(){\n",
       "                            \n",
       "var gd = document.getElementById('9ada6407-1226-4c1e-bc30-e1ae8d20db1c');\n",
       "var x = new MutationObserver(function (mutations, observer) {{\n",
       "        var display = window.getComputedStyle(gd).display;\n",
       "        if (!display || display === 'none') {{\n",
       "            console.log([gd, 'removed!']);\n",
       "            Plotly.purge(gd);\n",
       "            observer.disconnect();\n",
       "        }}\n",
       "}});\n",
       "\n",
       "// Listen for the removal of the full notebook cells\n",
       "var notebookContainer = gd.closest('#notebook-container');\n",
       "if (notebookContainer) {{\n",
       "    x.observe(notebookContainer, {childList: true});\n",
       "}}\n",
       "\n",
       "// Listen for the clearing of the current output cell\n",
       "var outputEl = gd.closest('.output');\n",
       "if (outputEl) {{\n",
       "    x.observe(outputEl, {childList: true});\n",
       "}}\n",
       "\n",
       "                        })\n",
       "                };\n",
       "                });\n",
       "            </script>\n",
       "        </div>"
      ]
     },
     "metadata": {},
     "output_type": "display_data"
    }
   ],
   "source": [
    "pneumonia_alive_no_disch['CATEGORY'].value_counts().sort_values(ascending=False).iplot(kind='bar', yTitle='Number of notes', \n",
    "                                                                title='Number of category kinds in pneumonia alive')"
   ]
  },
  {
   "cell_type": "code",
   "execution_count": 24,
   "metadata": {
    "scrolled": false
   },
   "outputs": [
    {
     "data": {
      "application/vnd.plotly.v1+json": {
       "config": {
        "linkText": "Export to plot.ly",
        "plotlyServerURL": "https://plot.ly",
        "showLink": true
       },
       "data": [
        {
         "marker": {
          "color": "rgba(255, 153, 51, 0.6)",
          "line": {
           "color": "rgba(255, 153, 51, 1.0)",
           "width": 1
          }
         },
         "name": "CATEGORY",
         "orientation": "v",
         "text": "",
         "type": "bar",
         "x": [
          "Nursing",
          "Nursing/other",
          "Radiology",
          "Physician ",
          "ECG",
          "Respiratory ",
          "General",
          "Echo",
          "Nutrition",
          "Social Work",
          "Case Management ",
          "Rehab Services",
          "Consult",
          "Pharmacy"
         ],
         "y": [
          2682,
          2650,
          2275,
          2212,
          846,
          623,
          194,
          167,
          149,
          42,
          29,
          24,
          1,
          1
         ]
        }
       ],
       "layout": {
        "legend": {
         "bgcolor": "#F5F6F9",
         "font": {
          "color": "#4D5663"
         }
        },
        "paper_bgcolor": "#F5F6F9",
        "plot_bgcolor": "#F5F6F9",
        "template": {
         "data": {
          "bar": [
           {
            "error_x": {
             "color": "#2a3f5f"
            },
            "error_y": {
             "color": "#2a3f5f"
            },
            "marker": {
             "line": {
              "color": "#E5ECF6",
              "width": 0.5
             }
            },
            "type": "bar"
           }
          ],
          "barpolar": [
           {
            "marker": {
             "line": {
              "color": "#E5ECF6",
              "width": 0.5
             }
            },
            "type": "barpolar"
           }
          ],
          "carpet": [
           {
            "aaxis": {
             "endlinecolor": "#2a3f5f",
             "gridcolor": "white",
             "linecolor": "white",
             "minorgridcolor": "white",
             "startlinecolor": "#2a3f5f"
            },
            "baxis": {
             "endlinecolor": "#2a3f5f",
             "gridcolor": "white",
             "linecolor": "white",
             "minorgridcolor": "white",
             "startlinecolor": "#2a3f5f"
            },
            "type": "carpet"
           }
          ],
          "choropleth": [
           {
            "colorbar": {
             "outlinewidth": 0,
             "ticks": ""
            },
            "type": "choropleth"
           }
          ],
          "contour": [
           {
            "colorbar": {
             "outlinewidth": 0,
             "ticks": ""
            },
            "colorscale": [
             [
              0,
              "#0d0887"
             ],
             [
              0.1111111111111111,
              "#46039f"
             ],
             [
              0.2222222222222222,
              "#7201a8"
             ],
             [
              0.3333333333333333,
              "#9c179e"
             ],
             [
              0.4444444444444444,
              "#bd3786"
             ],
             [
              0.5555555555555556,
              "#d8576b"
             ],
             [
              0.6666666666666666,
              "#ed7953"
             ],
             [
              0.7777777777777778,
              "#fb9f3a"
             ],
             [
              0.8888888888888888,
              "#fdca26"
             ],
             [
              1,
              "#f0f921"
             ]
            ],
            "type": "contour"
           }
          ],
          "contourcarpet": [
           {
            "colorbar": {
             "outlinewidth": 0,
             "ticks": ""
            },
            "type": "contourcarpet"
           }
          ],
          "heatmap": [
           {
            "colorbar": {
             "outlinewidth": 0,
             "ticks": ""
            },
            "colorscale": [
             [
              0,
              "#0d0887"
             ],
             [
              0.1111111111111111,
              "#46039f"
             ],
             [
              0.2222222222222222,
              "#7201a8"
             ],
             [
              0.3333333333333333,
              "#9c179e"
             ],
             [
              0.4444444444444444,
              "#bd3786"
             ],
             [
              0.5555555555555556,
              "#d8576b"
             ],
             [
              0.6666666666666666,
              "#ed7953"
             ],
             [
              0.7777777777777778,
              "#fb9f3a"
             ],
             [
              0.8888888888888888,
              "#fdca26"
             ],
             [
              1,
              "#f0f921"
             ]
            ],
            "type": "heatmap"
           }
          ],
          "heatmapgl": [
           {
            "colorbar": {
             "outlinewidth": 0,
             "ticks": ""
            },
            "colorscale": [
             [
              0,
              "#0d0887"
             ],
             [
              0.1111111111111111,
              "#46039f"
             ],
             [
              0.2222222222222222,
              "#7201a8"
             ],
             [
              0.3333333333333333,
              "#9c179e"
             ],
             [
              0.4444444444444444,
              "#bd3786"
             ],
             [
              0.5555555555555556,
              "#d8576b"
             ],
             [
              0.6666666666666666,
              "#ed7953"
             ],
             [
              0.7777777777777778,
              "#fb9f3a"
             ],
             [
              0.8888888888888888,
              "#fdca26"
             ],
             [
              1,
              "#f0f921"
             ]
            ],
            "type": "heatmapgl"
           }
          ],
          "histogram": [
           {
            "marker": {
             "colorbar": {
              "outlinewidth": 0,
              "ticks": ""
             }
            },
            "type": "histogram"
           }
          ],
          "histogram2d": [
           {
            "colorbar": {
             "outlinewidth": 0,
             "ticks": ""
            },
            "colorscale": [
             [
              0,
              "#0d0887"
             ],
             [
              0.1111111111111111,
              "#46039f"
             ],
             [
              0.2222222222222222,
              "#7201a8"
             ],
             [
              0.3333333333333333,
              "#9c179e"
             ],
             [
              0.4444444444444444,
              "#bd3786"
             ],
             [
              0.5555555555555556,
              "#d8576b"
             ],
             [
              0.6666666666666666,
              "#ed7953"
             ],
             [
              0.7777777777777778,
              "#fb9f3a"
             ],
             [
              0.8888888888888888,
              "#fdca26"
             ],
             [
              1,
              "#f0f921"
             ]
            ],
            "type": "histogram2d"
           }
          ],
          "histogram2dcontour": [
           {
            "colorbar": {
             "outlinewidth": 0,
             "ticks": ""
            },
            "colorscale": [
             [
              0,
              "#0d0887"
             ],
             [
              0.1111111111111111,
              "#46039f"
             ],
             [
              0.2222222222222222,
              "#7201a8"
             ],
             [
              0.3333333333333333,
              "#9c179e"
             ],
             [
              0.4444444444444444,
              "#bd3786"
             ],
             [
              0.5555555555555556,
              "#d8576b"
             ],
             [
              0.6666666666666666,
              "#ed7953"
             ],
             [
              0.7777777777777778,
              "#fb9f3a"
             ],
             [
              0.8888888888888888,
              "#fdca26"
             ],
             [
              1,
              "#f0f921"
             ]
            ],
            "type": "histogram2dcontour"
           }
          ],
          "mesh3d": [
           {
            "colorbar": {
             "outlinewidth": 0,
             "ticks": ""
            },
            "type": "mesh3d"
           }
          ],
          "parcoords": [
           {
            "line": {
             "colorbar": {
              "outlinewidth": 0,
              "ticks": ""
             }
            },
            "type": "parcoords"
           }
          ],
          "pie": [
           {
            "automargin": true,
            "type": "pie"
           }
          ],
          "scatter": [
           {
            "marker": {
             "colorbar": {
              "outlinewidth": 0,
              "ticks": ""
             }
            },
            "type": "scatter"
           }
          ],
          "scatter3d": [
           {
            "line": {
             "colorbar": {
              "outlinewidth": 0,
              "ticks": ""
             }
            },
            "marker": {
             "colorbar": {
              "outlinewidth": 0,
              "ticks": ""
             }
            },
            "type": "scatter3d"
           }
          ],
          "scattercarpet": [
           {
            "marker": {
             "colorbar": {
              "outlinewidth": 0,
              "ticks": ""
             }
            },
            "type": "scattercarpet"
           }
          ],
          "scattergeo": [
           {
            "marker": {
             "colorbar": {
              "outlinewidth": 0,
              "ticks": ""
             }
            },
            "type": "scattergeo"
           }
          ],
          "scattergl": [
           {
            "marker": {
             "colorbar": {
              "outlinewidth": 0,
              "ticks": ""
             }
            },
            "type": "scattergl"
           }
          ],
          "scattermapbox": [
           {
            "marker": {
             "colorbar": {
              "outlinewidth": 0,
              "ticks": ""
             }
            },
            "type": "scattermapbox"
           }
          ],
          "scatterpolar": [
           {
            "marker": {
             "colorbar": {
              "outlinewidth": 0,
              "ticks": ""
             }
            },
            "type": "scatterpolar"
           }
          ],
          "scatterpolargl": [
           {
            "marker": {
             "colorbar": {
              "outlinewidth": 0,
              "ticks": ""
             }
            },
            "type": "scatterpolargl"
           }
          ],
          "scatterternary": [
           {
            "marker": {
             "colorbar": {
              "outlinewidth": 0,
              "ticks": ""
             }
            },
            "type": "scatterternary"
           }
          ],
          "surface": [
           {
            "colorbar": {
             "outlinewidth": 0,
             "ticks": ""
            },
            "colorscale": [
             [
              0,
              "#0d0887"
             ],
             [
              0.1111111111111111,
              "#46039f"
             ],
             [
              0.2222222222222222,
              "#7201a8"
             ],
             [
              0.3333333333333333,
              "#9c179e"
             ],
             [
              0.4444444444444444,
              "#bd3786"
             ],
             [
              0.5555555555555556,
              "#d8576b"
             ],
             [
              0.6666666666666666,
              "#ed7953"
             ],
             [
              0.7777777777777778,
              "#fb9f3a"
             ],
             [
              0.8888888888888888,
              "#fdca26"
             ],
             [
              1,
              "#f0f921"
             ]
            ],
            "type": "surface"
           }
          ],
          "table": [
           {
            "cells": {
             "fill": {
              "color": "#EBF0F8"
             },
             "line": {
              "color": "white"
             }
            },
            "header": {
             "fill": {
              "color": "#C8D4E3"
             },
             "line": {
              "color": "white"
             }
            },
            "type": "table"
           }
          ]
         },
         "layout": {
          "annotationdefaults": {
           "arrowcolor": "#2a3f5f",
           "arrowhead": 0,
           "arrowwidth": 1
          },
          "coloraxis": {
           "colorbar": {
            "outlinewidth": 0,
            "ticks": ""
           }
          },
          "colorscale": {
           "diverging": [
            [
             0,
             "#8e0152"
            ],
            [
             0.1,
             "#c51b7d"
            ],
            [
             0.2,
             "#de77ae"
            ],
            [
             0.3,
             "#f1b6da"
            ],
            [
             0.4,
             "#fde0ef"
            ],
            [
             0.5,
             "#f7f7f7"
            ],
            [
             0.6,
             "#e6f5d0"
            ],
            [
             0.7,
             "#b8e186"
            ],
            [
             0.8,
             "#7fbc41"
            ],
            [
             0.9,
             "#4d9221"
            ],
            [
             1,
             "#276419"
            ]
           ],
           "sequential": [
            [
             0,
             "#0d0887"
            ],
            [
             0.1111111111111111,
             "#46039f"
            ],
            [
             0.2222222222222222,
             "#7201a8"
            ],
            [
             0.3333333333333333,
             "#9c179e"
            ],
            [
             0.4444444444444444,
             "#bd3786"
            ],
            [
             0.5555555555555556,
             "#d8576b"
            ],
            [
             0.6666666666666666,
             "#ed7953"
            ],
            [
             0.7777777777777778,
             "#fb9f3a"
            ],
            [
             0.8888888888888888,
             "#fdca26"
            ],
            [
             1,
             "#f0f921"
            ]
           ],
           "sequentialminus": [
            [
             0,
             "#0d0887"
            ],
            [
             0.1111111111111111,
             "#46039f"
            ],
            [
             0.2222222222222222,
             "#7201a8"
            ],
            [
             0.3333333333333333,
             "#9c179e"
            ],
            [
             0.4444444444444444,
             "#bd3786"
            ],
            [
             0.5555555555555556,
             "#d8576b"
            ],
            [
             0.6666666666666666,
             "#ed7953"
            ],
            [
             0.7777777777777778,
             "#fb9f3a"
            ],
            [
             0.8888888888888888,
             "#fdca26"
            ],
            [
             1,
             "#f0f921"
            ]
           ]
          },
          "colorway": [
           "#636efa",
           "#EF553B",
           "#00cc96",
           "#ab63fa",
           "#FFA15A",
           "#19d3f3",
           "#FF6692",
           "#B6E880",
           "#FF97FF",
           "#FECB52"
          ],
          "font": {
           "color": "#2a3f5f"
          },
          "geo": {
           "bgcolor": "white",
           "lakecolor": "white",
           "landcolor": "#E5ECF6",
           "showlakes": true,
           "showland": true,
           "subunitcolor": "white"
          },
          "hoverlabel": {
           "align": "left"
          },
          "hovermode": "closest",
          "mapbox": {
           "style": "light"
          },
          "paper_bgcolor": "white",
          "plot_bgcolor": "#E5ECF6",
          "polar": {
           "angularaxis": {
            "gridcolor": "white",
            "linecolor": "white",
            "ticks": ""
           },
           "bgcolor": "#E5ECF6",
           "radialaxis": {
            "gridcolor": "white",
            "linecolor": "white",
            "ticks": ""
           }
          },
          "scene": {
           "xaxis": {
            "backgroundcolor": "#E5ECF6",
            "gridcolor": "white",
            "gridwidth": 2,
            "linecolor": "white",
            "showbackground": true,
            "ticks": "",
            "zerolinecolor": "white"
           },
           "yaxis": {
            "backgroundcolor": "#E5ECF6",
            "gridcolor": "white",
            "gridwidth": 2,
            "linecolor": "white",
            "showbackground": true,
            "ticks": "",
            "zerolinecolor": "white"
           },
           "zaxis": {
            "backgroundcolor": "#E5ECF6",
            "gridcolor": "white",
            "gridwidth": 2,
            "linecolor": "white",
            "showbackground": true,
            "ticks": "",
            "zerolinecolor": "white"
           }
          },
          "shapedefaults": {
           "line": {
            "color": "#2a3f5f"
           }
          },
          "ternary": {
           "aaxis": {
            "gridcolor": "white",
            "linecolor": "white",
            "ticks": ""
           },
           "baxis": {
            "gridcolor": "white",
            "linecolor": "white",
            "ticks": ""
           },
           "bgcolor": "#E5ECF6",
           "caxis": {
            "gridcolor": "white",
            "linecolor": "white",
            "ticks": ""
           }
          },
          "title": {
           "x": 0.05
          },
          "xaxis": {
           "automargin": true,
           "gridcolor": "white",
           "linecolor": "white",
           "ticks": "",
           "title": {
            "standoff": 15
           },
           "zerolinecolor": "white",
           "zerolinewidth": 2
          },
          "yaxis": {
           "automargin": true,
           "gridcolor": "white",
           "linecolor": "white",
           "ticks": "",
           "title": {
            "standoff": 15
           },
           "zerolinecolor": "white",
           "zerolinewidth": 2
          }
         }
        },
        "title": {
         "font": {
          "color": "#4D5663"
         },
         "text": "Number of category kinds in pneumonia alive"
        },
        "xaxis": {
         "gridcolor": "#E1E5ED",
         "showgrid": true,
         "tickfont": {
          "color": "#4D5663"
         },
         "title": {
          "font": {
           "color": "#4D5663"
          },
          "text": ""
         },
         "zerolinecolor": "#E1E5ED"
        },
        "yaxis": {
         "gridcolor": "#E1E5ED",
         "showgrid": true,
         "tickfont": {
          "color": "#4D5663"
         },
         "title": {
          "font": {
           "color": "#4D5663"
          },
          "text": "Number of notes"
         },
         "zerolinecolor": "#E1E5ED"
        }
       }
      },
      "text/html": [
       "<div>\n",
       "        \n",
       "        \n",
       "            <div id=\"c7acf17a-cc36-497d-a674-faf4b2b2d3e7\" class=\"plotly-graph-div\" style=\"height:525px; width:100%;\"></div>\n",
       "            <script type=\"text/javascript\">\n",
       "                require([\"plotly\"], function(Plotly) {\n",
       "                    window.PLOTLYENV=window.PLOTLYENV || {};\n",
       "                    window.PLOTLYENV.BASE_URL='https://plot.ly';\n",
       "                    \n",
       "                if (document.getElementById(\"c7acf17a-cc36-497d-a674-faf4b2b2d3e7\")) {\n",
       "                    Plotly.newPlot(\n",
       "                        'c7acf17a-cc36-497d-a674-faf4b2b2d3e7',\n",
       "                        [{\"marker\": {\"color\": \"rgba(255, 153, 51, 0.6)\", \"line\": {\"color\": \"rgba(255, 153, 51, 1.0)\", \"width\": 1}}, \"name\": \"CATEGORY\", \"orientation\": \"v\", \"text\": \"\", \"type\": \"bar\", \"x\": [\"Nursing\", \"Nursing/other\", \"Radiology\", \"Physician \", \"ECG\", \"Respiratory \", \"General\", \"Echo\", \"Nutrition\", \"Social Work\", \"Case Management \", \"Rehab Services\", \"Consult\", \"Pharmacy\"], \"y\": [2682, 2650, 2275, 2212, 846, 623, 194, 167, 149, 42, 29, 24, 1, 1]}],\n",
       "                        {\"legend\": {\"bgcolor\": \"#F5F6F9\", \"font\": {\"color\": \"#4D5663\"}}, \"paper_bgcolor\": \"#F5F6F9\", \"plot_bgcolor\": \"#F5F6F9\", \"template\": {\"data\": {\"bar\": [{\"error_x\": {\"color\": \"#2a3f5f\"}, \"error_y\": {\"color\": \"#2a3f5f\"}, \"marker\": {\"line\": {\"color\": \"#E5ECF6\", \"width\": 0.5}}, \"type\": \"bar\"}], \"barpolar\": [{\"marker\": {\"line\": {\"color\": \"#E5ECF6\", \"width\": 0.5}}, \"type\": \"barpolar\"}], \"carpet\": [{\"aaxis\": {\"endlinecolor\": \"#2a3f5f\", \"gridcolor\": \"white\", \"linecolor\": \"white\", \"minorgridcolor\": \"white\", \"startlinecolor\": \"#2a3f5f\"}, \"baxis\": {\"endlinecolor\": \"#2a3f5f\", \"gridcolor\": \"white\", \"linecolor\": \"white\", \"minorgridcolor\": \"white\", \"startlinecolor\": \"#2a3f5f\"}, \"type\": \"carpet\"}], \"choropleth\": [{\"colorbar\": {\"outlinewidth\": 0, \"ticks\": \"\"}, \"type\": \"choropleth\"}], \"contour\": [{\"colorbar\": {\"outlinewidth\": 0, \"ticks\": \"\"}, \"colorscale\": [[0.0, \"#0d0887\"], [0.1111111111111111, \"#46039f\"], [0.2222222222222222, \"#7201a8\"], [0.3333333333333333, \"#9c179e\"], [0.4444444444444444, \"#bd3786\"], [0.5555555555555556, \"#d8576b\"], [0.6666666666666666, \"#ed7953\"], [0.7777777777777778, \"#fb9f3a\"], [0.8888888888888888, \"#fdca26\"], [1.0, \"#f0f921\"]], \"type\": \"contour\"}], \"contourcarpet\": [{\"colorbar\": {\"outlinewidth\": 0, \"ticks\": \"\"}, \"type\": \"contourcarpet\"}], \"heatmap\": [{\"colorbar\": {\"outlinewidth\": 0, \"ticks\": \"\"}, \"colorscale\": [[0.0, \"#0d0887\"], [0.1111111111111111, \"#46039f\"], [0.2222222222222222, \"#7201a8\"], [0.3333333333333333, \"#9c179e\"], [0.4444444444444444, \"#bd3786\"], [0.5555555555555556, \"#d8576b\"], [0.6666666666666666, \"#ed7953\"], [0.7777777777777778, \"#fb9f3a\"], [0.8888888888888888, \"#fdca26\"], [1.0, \"#f0f921\"]], \"type\": \"heatmap\"}], \"heatmapgl\": [{\"colorbar\": {\"outlinewidth\": 0, \"ticks\": \"\"}, \"colorscale\": [[0.0, \"#0d0887\"], [0.1111111111111111, \"#46039f\"], [0.2222222222222222, \"#7201a8\"], [0.3333333333333333, \"#9c179e\"], [0.4444444444444444, \"#bd3786\"], [0.5555555555555556, \"#d8576b\"], [0.6666666666666666, \"#ed7953\"], [0.7777777777777778, \"#fb9f3a\"], [0.8888888888888888, \"#fdca26\"], [1.0, \"#f0f921\"]], \"type\": \"heatmapgl\"}], \"histogram\": [{\"marker\": {\"colorbar\": {\"outlinewidth\": 0, \"ticks\": \"\"}}, \"type\": \"histogram\"}], \"histogram2d\": [{\"colorbar\": {\"outlinewidth\": 0, \"ticks\": \"\"}, \"colorscale\": [[0.0, \"#0d0887\"], [0.1111111111111111, \"#46039f\"], [0.2222222222222222, \"#7201a8\"], [0.3333333333333333, \"#9c179e\"], [0.4444444444444444, \"#bd3786\"], [0.5555555555555556, \"#d8576b\"], [0.6666666666666666, \"#ed7953\"], [0.7777777777777778, \"#fb9f3a\"], [0.8888888888888888, \"#fdca26\"], [1.0, \"#f0f921\"]], \"type\": \"histogram2d\"}], \"histogram2dcontour\": [{\"colorbar\": {\"outlinewidth\": 0, \"ticks\": \"\"}, \"colorscale\": [[0.0, \"#0d0887\"], [0.1111111111111111, \"#46039f\"], [0.2222222222222222, \"#7201a8\"], [0.3333333333333333, \"#9c179e\"], [0.4444444444444444, \"#bd3786\"], [0.5555555555555556, \"#d8576b\"], [0.6666666666666666, \"#ed7953\"], [0.7777777777777778, \"#fb9f3a\"], [0.8888888888888888, \"#fdca26\"], [1.0, \"#f0f921\"]], \"type\": \"histogram2dcontour\"}], \"mesh3d\": [{\"colorbar\": {\"outlinewidth\": 0, \"ticks\": \"\"}, \"type\": \"mesh3d\"}], \"parcoords\": [{\"line\": {\"colorbar\": {\"outlinewidth\": 0, \"ticks\": \"\"}}, \"type\": \"parcoords\"}], \"pie\": [{\"automargin\": true, \"type\": \"pie\"}], \"scatter\": [{\"marker\": {\"colorbar\": {\"outlinewidth\": 0, \"ticks\": \"\"}}, \"type\": \"scatter\"}], \"scatter3d\": [{\"line\": {\"colorbar\": {\"outlinewidth\": 0, \"ticks\": \"\"}}, \"marker\": {\"colorbar\": {\"outlinewidth\": 0, \"ticks\": \"\"}}, \"type\": \"scatter3d\"}], \"scattercarpet\": [{\"marker\": {\"colorbar\": {\"outlinewidth\": 0, \"ticks\": \"\"}}, \"type\": \"scattercarpet\"}], \"scattergeo\": [{\"marker\": {\"colorbar\": {\"outlinewidth\": 0, \"ticks\": \"\"}}, \"type\": \"scattergeo\"}], \"scattergl\": [{\"marker\": {\"colorbar\": {\"outlinewidth\": 0, \"ticks\": \"\"}}, \"type\": \"scattergl\"}], \"scattermapbox\": [{\"marker\": {\"colorbar\": {\"outlinewidth\": 0, \"ticks\": \"\"}}, \"type\": \"scattermapbox\"}], \"scatterpolar\": [{\"marker\": {\"colorbar\": {\"outlinewidth\": 0, \"ticks\": \"\"}}, \"type\": \"scatterpolar\"}], \"scatterpolargl\": [{\"marker\": {\"colorbar\": {\"outlinewidth\": 0, \"ticks\": \"\"}}, \"type\": \"scatterpolargl\"}], \"scatterternary\": [{\"marker\": {\"colorbar\": {\"outlinewidth\": 0, \"ticks\": \"\"}}, \"type\": \"scatterternary\"}], \"surface\": [{\"colorbar\": {\"outlinewidth\": 0, \"ticks\": \"\"}, \"colorscale\": [[0.0, \"#0d0887\"], [0.1111111111111111, \"#46039f\"], [0.2222222222222222, \"#7201a8\"], [0.3333333333333333, \"#9c179e\"], [0.4444444444444444, \"#bd3786\"], [0.5555555555555556, \"#d8576b\"], [0.6666666666666666, \"#ed7953\"], [0.7777777777777778, \"#fb9f3a\"], [0.8888888888888888, \"#fdca26\"], [1.0, \"#f0f921\"]], \"type\": \"surface\"}], \"table\": [{\"cells\": {\"fill\": {\"color\": \"#EBF0F8\"}, \"line\": {\"color\": \"white\"}}, \"header\": {\"fill\": {\"color\": \"#C8D4E3\"}, \"line\": {\"color\": \"white\"}}, \"type\": \"table\"}]}, \"layout\": {\"annotationdefaults\": {\"arrowcolor\": \"#2a3f5f\", \"arrowhead\": 0, \"arrowwidth\": 1}, \"coloraxis\": {\"colorbar\": {\"outlinewidth\": 0, \"ticks\": \"\"}}, \"colorscale\": {\"diverging\": [[0, \"#8e0152\"], [0.1, \"#c51b7d\"], [0.2, \"#de77ae\"], [0.3, \"#f1b6da\"], [0.4, \"#fde0ef\"], [0.5, \"#f7f7f7\"], [0.6, \"#e6f5d0\"], [0.7, \"#b8e186\"], [0.8, \"#7fbc41\"], [0.9, \"#4d9221\"], [1, \"#276419\"]], \"sequential\": [[0.0, \"#0d0887\"], [0.1111111111111111, \"#46039f\"], [0.2222222222222222, \"#7201a8\"], [0.3333333333333333, \"#9c179e\"], [0.4444444444444444, \"#bd3786\"], [0.5555555555555556, \"#d8576b\"], [0.6666666666666666, \"#ed7953\"], [0.7777777777777778, \"#fb9f3a\"], [0.8888888888888888, \"#fdca26\"], [1.0, \"#f0f921\"]], \"sequentialminus\": [[0.0, \"#0d0887\"], [0.1111111111111111, \"#46039f\"], [0.2222222222222222, \"#7201a8\"], [0.3333333333333333, \"#9c179e\"], [0.4444444444444444, \"#bd3786\"], [0.5555555555555556, \"#d8576b\"], [0.6666666666666666, \"#ed7953\"], [0.7777777777777778, \"#fb9f3a\"], [0.8888888888888888, \"#fdca26\"], [1.0, \"#f0f921\"]]}, \"colorway\": [\"#636efa\", \"#EF553B\", \"#00cc96\", \"#ab63fa\", \"#FFA15A\", \"#19d3f3\", \"#FF6692\", \"#B6E880\", \"#FF97FF\", \"#FECB52\"], \"font\": {\"color\": \"#2a3f5f\"}, \"geo\": {\"bgcolor\": \"white\", \"lakecolor\": \"white\", \"landcolor\": \"#E5ECF6\", \"showlakes\": true, \"showland\": true, \"subunitcolor\": \"white\"}, \"hoverlabel\": {\"align\": \"left\"}, \"hovermode\": \"closest\", \"mapbox\": {\"style\": \"light\"}, \"paper_bgcolor\": \"white\", \"plot_bgcolor\": \"#E5ECF6\", \"polar\": {\"angularaxis\": {\"gridcolor\": \"white\", \"linecolor\": \"white\", \"ticks\": \"\"}, \"bgcolor\": \"#E5ECF6\", \"radialaxis\": {\"gridcolor\": \"white\", \"linecolor\": \"white\", \"ticks\": \"\"}}, \"scene\": {\"xaxis\": {\"backgroundcolor\": \"#E5ECF6\", \"gridcolor\": \"white\", \"gridwidth\": 2, \"linecolor\": \"white\", \"showbackground\": true, \"ticks\": \"\", \"zerolinecolor\": \"white\"}, \"yaxis\": {\"backgroundcolor\": \"#E5ECF6\", \"gridcolor\": \"white\", \"gridwidth\": 2, \"linecolor\": \"white\", \"showbackground\": true, \"ticks\": \"\", \"zerolinecolor\": \"white\"}, \"zaxis\": {\"backgroundcolor\": \"#E5ECF6\", \"gridcolor\": \"white\", \"gridwidth\": 2, \"linecolor\": \"white\", \"showbackground\": true, \"ticks\": \"\", \"zerolinecolor\": \"white\"}}, \"shapedefaults\": {\"line\": {\"color\": \"#2a3f5f\"}}, \"ternary\": {\"aaxis\": {\"gridcolor\": \"white\", \"linecolor\": \"white\", \"ticks\": \"\"}, \"baxis\": {\"gridcolor\": \"white\", \"linecolor\": \"white\", \"ticks\": \"\"}, \"bgcolor\": \"#E5ECF6\", \"caxis\": {\"gridcolor\": \"white\", \"linecolor\": \"white\", \"ticks\": \"\"}}, \"title\": {\"x\": 0.05}, \"xaxis\": {\"automargin\": true, \"gridcolor\": \"white\", \"linecolor\": \"white\", \"ticks\": \"\", \"title\": {\"standoff\": 15}, \"zerolinecolor\": \"white\", \"zerolinewidth\": 2}, \"yaxis\": {\"automargin\": true, \"gridcolor\": \"white\", \"linecolor\": \"white\", \"ticks\": \"\", \"title\": {\"standoff\": 15}, \"zerolinecolor\": \"white\", \"zerolinewidth\": 2}}}, \"title\": {\"font\": {\"color\": \"#4D5663\"}, \"text\": \"Number of category kinds in pneumonia alive\"}, \"xaxis\": {\"gridcolor\": \"#E1E5ED\", \"showgrid\": true, \"tickfont\": {\"color\": \"#4D5663\"}, \"title\": {\"font\": {\"color\": \"#4D5663\"}, \"text\": \"\"}, \"zerolinecolor\": \"#E1E5ED\"}, \"yaxis\": {\"gridcolor\": \"#E1E5ED\", \"showgrid\": true, \"tickfont\": {\"color\": \"#4D5663\"}, \"title\": {\"font\": {\"color\": \"#4D5663\"}, \"text\": \"Number of notes\"}, \"zerolinecolor\": \"#E1E5ED\"}},\n",
       "                        {\"showLink\": true, \"linkText\": \"Export to plot.ly\", \"plotlyServerURL\": \"https://plot.ly\", \"responsive\": true}\n",
       "                    ).then(function(){\n",
       "                            \n",
       "var gd = document.getElementById('c7acf17a-cc36-497d-a674-faf4b2b2d3e7');\n",
       "var x = new MutationObserver(function (mutations, observer) {{\n",
       "        var display = window.getComputedStyle(gd).display;\n",
       "        if (!display || display === 'none') {{\n",
       "            console.log([gd, 'removed!']);\n",
       "            Plotly.purge(gd);\n",
       "            observer.disconnect();\n",
       "        }}\n",
       "}});\n",
       "\n",
       "// Listen for the removal of the full notebook cells\n",
       "var notebookContainer = gd.closest('#notebook-container');\n",
       "if (notebookContainer) {{\n",
       "    x.observe(notebookContainer, {childList: true});\n",
       "}}\n",
       "\n",
       "// Listen for the clearing of the current output cell\n",
       "var outputEl = gd.closest('.output');\n",
       "if (outputEl) {{\n",
       "    x.observe(outputEl, {childList: true});\n",
       "}}\n",
       "\n",
       "                        })\n",
       "                };\n",
       "                });\n",
       "            </script>\n",
       "        </div>"
      ]
     },
     "metadata": {},
     "output_type": "display_data"
    }
   ],
   "source": [
    "pneumonia_dead_no_disch['CATEGORY'].value_counts().sort_values(ascending=False).iplot(kind='bar', yTitle='Number of notes', \n",
    "                                                                title='Number of category kinds in pneumonia alive')"
   ]
  },
  {
   "cell_type": "code",
   "execution_count": 25,
   "metadata": {},
   "outputs": [
    {
     "data": {
      "text/html": [
       "<div>\n",
       "<style scoped>\n",
       "    .dataframe tbody tr th:only-of-type {\n",
       "        vertical-align: middle;\n",
       "    }\n",
       "\n",
       "    .dataframe tbody tr th {\n",
       "        vertical-align: top;\n",
       "    }\n",
       "\n",
       "    .dataframe thead th {\n",
       "        text-align: right;\n",
       "    }\n",
       "</style>\n",
       "<table border=\"1\" class=\"dataframe\">\n",
       "  <thead>\n",
       "    <tr style=\"text-align: right;\">\n",
       "      <th></th>\n",
       "      <th>ROW_ID_x</th>\n",
       "      <th>SUBJECT_ID_x</th>\n",
       "      <th>CHARTDATE</th>\n",
       "      <th>STORETIME</th>\n",
       "      <th>CATEGORY</th>\n",
       "      <th>DESCRIPTION</th>\n",
       "      <th>TEXT</th>\n",
       "      <th>DEATHTIME</th>\n",
       "    </tr>\n",
       "  </thead>\n",
       "  <tbody>\n",
       "    <tr>\n",
       "      <th>137480</th>\n",
       "      <td>149869</td>\n",
       "      <td>68</td>\n",
       "      <td>2173-12-15</td>\n",
       "      <td>NaN</td>\n",
       "      <td>ECG</td>\n",
       "      <td>Report</td>\n",
       "      <td>Sinus tachycardia. Compared to the previous tr...</td>\n",
       "      <td>NaN</td>\n",
       "    </tr>\n",
       "    <tr>\n",
       "      <th>137481</th>\n",
       "      <td>149870</td>\n",
       "      <td>68</td>\n",
       "      <td>2173-12-15</td>\n",
       "      <td>NaN</td>\n",
       "      <td>ECG</td>\n",
       "      <td>Report</td>\n",
       "      <td>Sinus rhythm. Delayed anterior precordial R wa...</td>\n",
       "      <td>NaN</td>\n",
       "    </tr>\n",
       "    <tr>\n",
       "      <th>1259578</th>\n",
       "      <td>1261173</td>\n",
       "      <td>68</td>\n",
       "      <td>2173-12-16</td>\n",
       "      <td>2173-12-16 05:09:00</td>\n",
       "      <td>Nursing/other</td>\n",
       "      <td>Report</td>\n",
       "      <td>Micu nsg admission note\\n41yo female with AIDS...</td>\n",
       "      <td>NaN</td>\n",
       "    </tr>\n",
       "    <tr>\n",
       "      <th>1259579</th>\n",
       "      <td>1261174</td>\n",
       "      <td>68</td>\n",
       "      <td>2173-12-16</td>\n",
       "      <td>2173-12-16 17:08:00</td>\n",
       "      <td>Nursing/other</td>\n",
       "      <td>Report</td>\n",
       "      <td>NSG 0700-1900\\nEvents: Attempted eating breakf...</td>\n",
       "      <td>NaN</td>\n",
       "    </tr>\n",
       "    <tr>\n",
       "      <th>1258821</th>\n",
       "      <td>1261175</td>\n",
       "      <td>68</td>\n",
       "      <td>2173-12-16</td>\n",
       "      <td>2173-12-16 17:18:00</td>\n",
       "      <td>Nursing/other</td>\n",
       "      <td>Report</td>\n",
       "      <td>Resp Care\\n\\nSputum induction obtained for PCP...</td>\n",
       "      <td>NaN</td>\n",
       "    </tr>\n",
       "    <tr>\n",
       "      <th>...</th>\n",
       "      <td>...</td>\n",
       "      <td>...</td>\n",
       "      <td>...</td>\n",
       "      <td>...</td>\n",
       "      <td>...</td>\n",
       "      <td>...</td>\n",
       "      <td>...</td>\n",
       "      <td>...</td>\n",
       "    </tr>\n",
       "    <tr>\n",
       "      <th>1129253</th>\n",
       "      <td>1138542</td>\n",
       "      <td>99937</td>\n",
       "      <td>2128-05-11</td>\n",
       "      <td>NaN</td>\n",
       "      <td>Radiology</td>\n",
       "      <td>CHEST (PORTABLE AP)</td>\n",
       "      <td>[**2128-5-11**] 11:57 AM\\n CHEST (PORTABLE AP)...</td>\n",
       "      <td>NaN</td>\n",
       "    </tr>\n",
       "    <tr>\n",
       "      <th>1129150</th>\n",
       "      <td>1138569</td>\n",
       "      <td>99937</td>\n",
       "      <td>2128-05-11</td>\n",
       "      <td>NaN</td>\n",
       "      <td>Radiology</td>\n",
       "      <td>CTA CHEST W&amp;W/O C&amp;RECONS, NON-CORONARY</td>\n",
       "      <td>[**2128-5-11**] 1:44 PM\\n CTA CHEST W&amp;W/O C&amp;RE...</td>\n",
       "      <td>NaN</td>\n",
       "    </tr>\n",
       "    <tr>\n",
       "      <th>148040</th>\n",
       "      <td>130595</td>\n",
       "      <td>99937</td>\n",
       "      <td>2128-05-12</td>\n",
       "      <td>NaN</td>\n",
       "      <td>ECG</td>\n",
       "      <td>Report</td>\n",
       "      <td>Normal sinus rhythm. Compared to tracing #1 no...</td>\n",
       "      <td>NaN</td>\n",
       "    </tr>\n",
       "    <tr>\n",
       "      <th>1129514</th>\n",
       "      <td>1138666</td>\n",
       "      <td>99937</td>\n",
       "      <td>2128-05-12</td>\n",
       "      <td>NaN</td>\n",
       "      <td>Radiology</td>\n",
       "      <td>CHEST (PORTABLE AP)</td>\n",
       "      <td>[**2128-5-12**] 7:27 AM\\n CHEST (PORTABLE AP) ...</td>\n",
       "      <td>NaN</td>\n",
       "    </tr>\n",
       "    <tr>\n",
       "      <th>65449</th>\n",
       "      <td>65037</td>\n",
       "      <td>99937</td>\n",
       "      <td>2128-05-13</td>\n",
       "      <td>NaN</td>\n",
       "      <td>Echo</td>\n",
       "      <td>Report</td>\n",
       "      <td>PATIENT/TEST INFORMATION:\\nIndication: Left ve...</td>\n",
       "      <td>NaN</td>\n",
       "    </tr>\n",
       "  </tbody>\n",
       "</table>\n",
       "<p>46134 rows × 8 columns</p>\n",
       "</div>"
      ],
      "text/plain": [
       "         ROW_ID_x  SUBJECT_ID_x   CHARTDATE            STORETIME  \\\n",
       "137480     149869            68  2173-12-15                  NaN   \n",
       "137481     149870            68  2173-12-15                  NaN   \n",
       "1259578   1261173            68  2173-12-16  2173-12-16 05:09:00   \n",
       "1259579   1261174            68  2173-12-16  2173-12-16 17:08:00   \n",
       "1258821   1261175            68  2173-12-16  2173-12-16 17:18:00   \n",
       "...           ...           ...         ...                  ...   \n",
       "1129253   1138542         99937  2128-05-11                  NaN   \n",
       "1129150   1138569         99937  2128-05-11                  NaN   \n",
       "148040     130595         99937  2128-05-12                  NaN   \n",
       "1129514   1138666         99937  2128-05-12                  NaN   \n",
       "65449       65037         99937  2128-05-13                  NaN   \n",
       "\n",
       "              CATEGORY                             DESCRIPTION  \\\n",
       "137480             ECG                                  Report   \n",
       "137481             ECG                                  Report   \n",
       "1259578  Nursing/other                                  Report   \n",
       "1259579  Nursing/other                                  Report   \n",
       "1258821  Nursing/other                                  Report   \n",
       "...                ...                                     ...   \n",
       "1129253      Radiology                     CHEST (PORTABLE AP)   \n",
       "1129150      Radiology  CTA CHEST W&W/O C&RECONS, NON-CORONARY   \n",
       "148040             ECG                                  Report   \n",
       "1129514      Radiology                     CHEST (PORTABLE AP)   \n",
       "65449             Echo                                  Report   \n",
       "\n",
       "                                                      TEXT DEATHTIME  \n",
       "137480   Sinus tachycardia. Compared to the previous tr...       NaN  \n",
       "137481   Sinus rhythm. Delayed anterior precordial R wa...       NaN  \n",
       "1259578  Micu nsg admission note\\n41yo female with AIDS...       NaN  \n",
       "1259579  NSG 0700-1900\\nEvents: Attempted eating breakf...       NaN  \n",
       "1258821  Resp Care\\n\\nSputum induction obtained for PCP...       NaN  \n",
       "...                                                    ...       ...  \n",
       "1129253  [**2128-5-11**] 11:57 AM\\n CHEST (PORTABLE AP)...       NaN  \n",
       "1129150  [**2128-5-11**] 1:44 PM\\n CTA CHEST W&W/O C&RE...       NaN  \n",
       "148040   Normal sinus rhythm. Compared to tracing #1 no...       NaN  \n",
       "1129514  [**2128-5-12**] 7:27 AM\\n CHEST (PORTABLE AP) ...       NaN  \n",
       "65449    PATIENT/TEST INFORMATION:\\nIndication: Left ve...       NaN  \n",
       "\n",
       "[46134 rows x 8 columns]"
      ]
     },
     "execution_count": 25,
     "metadata": {},
     "output_type": "execute_result"
    }
   ],
   "source": [
    "pneumonia_alive_no_disch"
   ]
  },
  {
   "cell_type": "code",
   "execution_count": 26,
   "metadata": {},
   "outputs": [
    {
     "data": {
      "text/plain": [
       "252"
      ]
     },
     "execution_count": 26,
     "metadata": {},
     "output_type": "execute_result"
    }
   ],
   "source": [
    "# Number of patients\n",
    "pneumonia_dead_no_disch['SUBJECT_ID_x'].nunique()"
   ]
  },
  {
   "cell_type": "code",
   "execution_count": 27,
   "metadata": {
    "scrolled": true
   },
   "outputs": [
    {
     "data": {
      "text/plain": [
       "1167"
      ]
     },
     "execution_count": 27,
     "metadata": {},
     "output_type": "execute_result"
    }
   ],
   "source": [
    "# Number of patients\n",
    "pneumonia_alive_no_disch['SUBJECT_ID_x'].nunique()"
   ]
  },
  {
   "cell_type": "code",
   "execution_count": 28,
   "metadata": {},
   "outputs": [],
   "source": [
    "# import text handling tool\n",
    "from nltk.tokenize import word_tokenize\n",
    "from nltk.corpus import stopwords\n",
    "from nltk.stem import PorterStemmer\n",
    "\n",
    "from collections import Counter\n",
    "\n",
    "import sys\n",
    "import re\n",
    "import csv\n",
    "import os.path\n",
    "\n",
    "# define constants\n",
    "# RESULT_HEADER = \"WORD, FREQUENCY\\n\"\n",
    "MIN_SEQ_LEN = 4\n",
    "USE_1_N_SEQ = 2\n",
    "\n",
    "\n",
    "# words that do not have meaning (can be modified later)\n",
    "USELESS_WORDS = [\"a\", \"the\", \"he\", \"she\", \",\", \".\", \"?\", \"!\", \":\", \";\", \"+\", \"*\", \"**\"\\\n",
    "                 \"your\", \"you\"]\n",
    "\n",
    "# count up the frequency of every word in every disease file\n",
    "stemmer = PorterStemmer()\n",
    "# create set of words to ignore in text\n",
    "stop_words = set(stopwords.words('english'))\n",
    "\n",
    "for word in USELESS_WORDS:\n",
    "    stop_words.add(word)"
   ]
  },
  {
   "cell_type": "code",
   "execution_count": null,
   "metadata": {},
   "outputs": [],
   "source": []
  },
  {
   "cell_type": "code",
   "execution_count": 29,
   "metadata": {},
   "outputs": [
    {
     "name": "stderr",
     "output_type": "stream",
     "text": [
      "100%|██████████| 11895/11895 [00:01<00:00, 7359.07it/s]\n",
      "100%|██████████| 46134/46134 [00:04<00:00, 10131.54it/s]\n"
     ]
    }
   ],
   "source": [
    "\n",
    "#----------\n",
    "def count_notes_per_patient(disease_df):\n",
    "    patient_id_to_num_notes = {}\n",
    "    patient_id = -1\n",
    "    note_counter = 0\n",
    "            \n",
    "    for index, row in tqdm(disease_df.iterrows(), total=disease_df.shape[0]):\n",
    "        patient_id_check = int(row['SUBJECT_ID_x'])\n",
    "                \n",
    "        if not patient_id == patient_id_check:\n",
    "            patient_id_to_num_notes[patient_id] = note_counter\n",
    "            note_counter = 1\n",
    "        else:\n",
    "            note_counter += 1\n",
    "                    \n",
    "        patient_id = patient_id_check\n",
    "                \n",
    "    patient_id_to_num_notes[patient_id] = note_counter\n",
    "    del patient_id_to_num_notes[-1]\n",
    "    return patient_id_to_num_notes\n",
    "\n",
    "patient_id_to_num_notes = {}\n",
    "patient_id_to_num_notes['pneumonia_dead'] = count_notes_per_patient(pneumonia_dead_no_disch)\n",
    "patient_id_to_num_notes['pneumonia_alive'] = count_notes_per_patient(pneumonia_alive_no_disch)"
   ]
  },
  {
   "cell_type": "code",
   "execution_count": 30,
   "metadata": {},
   "outputs": [
    {
     "data": {
      "text/plain": [
       "{'pneumonia_dead': {111: 12,\n",
       "  346: 25,\n",
       "  404: 3,\n",
       "  546: 6,\n",
       "  618: 16,\n",
       "  705: 15,\n",
       "  726: 48,\n",
       "  1039: 55,\n",
       "  1556: 37,\n",
       "  1872: 3,\n",
       "  1944: 56,\n",
       "  2286: 69,\n",
       "  2990: 166,\n",
       "  3055: 29,\n",
       "  3099: 13,\n",
       "  3201: 8,\n",
       "  3526: 7,\n",
       "  3773: 6,\n",
       "  3881: 20,\n",
       "  4122: 51,\n",
       "  4754: 101,\n",
       "  4811: 21,\n",
       "  5476: 1,\n",
       "  5494: 22,\n",
       "  5774: 104,\n",
       "  5786: 152,\n",
       "  5913: 1,\n",
       "  6133: 68,\n",
       "  6735: 13,\n",
       "  6745: 13,\n",
       "  6973: 36,\n",
       "  6981: 8,\n",
       "  7277: 66,\n",
       "  7310: 8,\n",
       "  7924: 9,\n",
       "  7977: 9,\n",
       "  9908: 11,\n",
       "  9984: 15,\n",
       "  10302: 100,\n",
       "  10510: 86,\n",
       "  10545: 10,\n",
       "  10642: 10,\n",
       "  11049: 14,\n",
       "  11209: 9,\n",
       "  11395: 41,\n",
       "  12530: 24,\n",
       "  12849: 50,\n",
       "  13098: 46,\n",
       "  13566: 23,\n",
       "  14125: 9,\n",
       "  14514: 96,\n",
       "  14965: 25,\n",
       "  15159: 15,\n",
       "  15251: 11,\n",
       "  15396: 17,\n",
       "  15566: 37,\n",
       "  15853: 45,\n",
       "  16275: 17,\n",
       "  16344: 27,\n",
       "  16622: 51,\n",
       "  16684: 29,\n",
       "  17122: 16,\n",
       "  17354: 5,\n",
       "  17802: 64,\n",
       "  17983: 65,\n",
       "  18094: 23,\n",
       "  18736: 35,\n",
       "  18768: 46,\n",
       "  18848: 205,\n",
       "  18971: 26,\n",
       "  19243: 25,\n",
       "  19323: 6,\n",
       "  19390: 21,\n",
       "  19463: 20,\n",
       "  19535: 59,\n",
       "  19754: 13,\n",
       "  19827: 22,\n",
       "  19833: 58,\n",
       "  19872: 10,\n",
       "  20006: 8,\n",
       "  20023: 9,\n",
       "  20190: 6,\n",
       "  21046: 101,\n",
       "  21094: 36,\n",
       "  21427: 10,\n",
       "  21502: 102,\n",
       "  21580: 52,\n",
       "  21676: 12,\n",
       "  21699: 7,\n",
       "  21979: 11,\n",
       "  22735: 15,\n",
       "  23660: 12,\n",
       "  23795: 78,\n",
       "  24181: 13,\n",
       "  24582: 37,\n",
       "  24725: 57,\n",
       "  24730: 19,\n",
       "  24854: 25,\n",
       "  25003: 182,\n",
       "  25046: 7,\n",
       "  25774: 61,\n",
       "  25975: 9,\n",
       "  26474: 89,\n",
       "  26578: 15,\n",
       "  26716: 41,\n",
       "  26774: 3,\n",
       "  26849: 33,\n",
       "  27005: 5,\n",
       "  27145: 24,\n",
       "  27421: 61,\n",
       "  27431: 5,\n",
       "  27496: 7,\n",
       "  27504: 72,\n",
       "  27639: 221,\n",
       "  28004: 13,\n",
       "  28072: 34,\n",
       "  28178: 202,\n",
       "  28427: 6,\n",
       "  28498: 25,\n",
       "  28726: 34,\n",
       "  28750: 19,\n",
       "  28906: 32,\n",
       "  28907: 13,\n",
       "  28933: 394,\n",
       "  29105: 468,\n",
       "  29588: 72,\n",
       "  29647: 26,\n",
       "  29872: 225,\n",
       "  30476: 174,\n",
       "  30549: 12,\n",
       "  30614: 8,\n",
       "  30699: 14,\n",
       "  30786: 9,\n",
       "  30941: 110,\n",
       "  31030: 168,\n",
       "  31134: 24,\n",
       "  31139: 9,\n",
       "  31451: 48,\n",
       "  31556: 57,\n",
       "  31690: 18,\n",
       "  31692: 35,\n",
       "  32050: 34,\n",
       "  32326: 24,\n",
       "  32618: 42,\n",
       "  41546: 25,\n",
       "  43937: 6,\n",
       "  44851: 274,\n",
       "  45381: 16,\n",
       "  46589: 26,\n",
       "  46763: 6,\n",
       "  47045: 9,\n",
       "  48632: 147,\n",
       "  49079: 20,\n",
       "  49683: 3,\n",
       "  49922: 13,\n",
       "  50093: 8,\n",
       "  50231: 3,\n",
       "  50556: 216,\n",
       "  50859: 537,\n",
       "  51914: 313,\n",
       "  52010: 12,\n",
       "  53105: 115,\n",
       "  53399: 78,\n",
       "  54193: 85,\n",
       "  54401: 14,\n",
       "  54408: 2,\n",
       "  54739: 75,\n",
       "  54946: 7,\n",
       "  55400: 5,\n",
       "  55570: 14,\n",
       "  55887: 37,\n",
       "  55944: 34,\n",
       "  55987: 20,\n",
       "  56390: 19,\n",
       "  56648: 8,\n",
       "  56854: 170,\n",
       "  57091: 88,\n",
       "  57102: 35,\n",
       "  58702: 479,\n",
       "  59260: 11,\n",
       "  59437: 26,\n",
       "  60849: 2,\n",
       "  60868: 6,\n",
       "  61652: 7,\n",
       "  61667: 30,\n",
       "  63039: 8,\n",
       "  65513: 8,\n",
       "  68044: 40,\n",
       "  68095: 23,\n",
       "  68184: 5,\n",
       "  68308: 8,\n",
       "  68860: 14,\n",
       "  69719: 13,\n",
       "  69745: 25,\n",
       "  69776: 17,\n",
       "  70226: 8,\n",
       "  70447: 9,\n",
       "  72930: 11,\n",
       "  73811: 9,\n",
       "  73888: 109,\n",
       "  74316: 2,\n",
       "  74444: 81,\n",
       "  74686: 75,\n",
       "  75824: 10,\n",
       "  76282: 21,\n",
       "  76827: 2,\n",
       "  77382: 10,\n",
       "  78241: 3,\n",
       "  78388: 14,\n",
       "  79008: 27,\n",
       "  79055: 21,\n",
       "  79222: 18,\n",
       "  79877: 156,\n",
       "  80637: 148,\n",
       "  80678: 9,\n",
       "  80737: 46,\n",
       "  80805: 79,\n",
       "  81437: 27,\n",
       "  82393: 5,\n",
       "  82769: 85,\n",
       "  83932: 2,\n",
       "  84474: 34,\n",
       "  85160: 8,\n",
       "  85258: 52,\n",
       "  85404: 11,\n",
       "  85797: 9,\n",
       "  86007: 35,\n",
       "  86394: 4,\n",
       "  86684: 11,\n",
       "  86832: 67,\n",
       "  86863: 8,\n",
       "  86872: 326,\n",
       "  88193: 16,\n",
       "  88660: 11,\n",
       "  90256: 18,\n",
       "  91350: 19,\n",
       "  92074: 28,\n",
       "  92278: 52,\n",
       "  92331: 42,\n",
       "  93422: 7,\n",
       "  94341: 2,\n",
       "  94997: 9,\n",
       "  95280: 23,\n",
       "  95803: 18,\n",
       "  95830: 33,\n",
       "  95933: 56,\n",
       "  96699: 85,\n",
       "  97181: 30,\n",
       "  97795: 60,\n",
       "  98009: 33,\n",
       "  98299: 29,\n",
       "  98597: 2},\n",
       " 'pneumonia_alive': {68: 18,\n",
       "  85: 8,\n",
       "  94: 100,\n",
       "  165: 2,\n",
       "  211: 24,\n",
       "  224: 8,\n",
       "  231: 75,\n",
       "  283: 131,\n",
       "  357: 17,\n",
       "  368: 45,\n",
       "  370: 13,\n",
       "  384: 26,\n",
       "  426: 10,\n",
       "  509: 34,\n",
       "  514: 7,\n",
       "  596: 23,\n",
       "  674: 16,\n",
       "  707: 29,\n",
       "  711: 537,\n",
       "  770: 83,\n",
       "  773: 74,\n",
       "  899: 17,\n",
       "  1096: 17,\n",
       "  1135: 32,\n",
       "  1163: 12,\n",
       "  1174: 42,\n",
       "  1180: 5,\n",
       "  1283: 3,\n",
       "  1332: 66,\n",
       "  1339: 134,\n",
       "  1546: 21,\n",
       "  1568: 22,\n",
       "  1601: 12,\n",
       "  1606: 13,\n",
       "  1642: 4,\n",
       "  1660: 23,\n",
       "  1895: 22,\n",
       "  1923: 23,\n",
       "  2029: 175,\n",
       "  2090: 179,\n",
       "  2098: 26,\n",
       "  2128: 31,\n",
       "  2170: 9,\n",
       "  2187: 30,\n",
       "  2208: 139,\n",
       "  2337: 8,\n",
       "  2378: 57,\n",
       "  2386: 18,\n",
       "  2452: 22,\n",
       "  2508: 22,\n",
       "  2561: 126,\n",
       "  2585: 9,\n",
       "  2589: 92,\n",
       "  2590: 5,\n",
       "  2628: 218,\n",
       "  2658: 16,\n",
       "  2732: 12,\n",
       "  2784: 23,\n",
       "  2823: 21,\n",
       "  3070: 8,\n",
       "  3100: 70,\n",
       "  3154: 22,\n",
       "  3220: 28,\n",
       "  3277: 35,\n",
       "  3347: 15,\n",
       "  3359: 15,\n",
       "  3516: 11,\n",
       "  3602: 18,\n",
       "  3623: 116,\n",
       "  3641: 57,\n",
       "  3676: 49,\n",
       "  3830: 80,\n",
       "  3860: 203,\n",
       "  3862: 22,\n",
       "  3865: 8,\n",
       "  3895: 6,\n",
       "  3935: 44,\n",
       "  3952: 20,\n",
       "  3975: 34,\n",
       "  4109: 9,\n",
       "  4155: 23,\n",
       "  4236: 14,\n",
       "  4275: 45,\n",
       "  4316: 13,\n",
       "  4317: 106,\n",
       "  4328: 23,\n",
       "  4388: 14,\n",
       "  4454: 5,\n",
       "  4467: 12,\n",
       "  4489: 21,\n",
       "  4494: 18,\n",
       "  4584: 39,\n",
       "  4588: 80,\n",
       "  4641: 23,\n",
       "  4694: 19,\n",
       "  4804: 6,\n",
       "  5030: 49,\n",
       "  5145: 9,\n",
       "  5244: 113,\n",
       "  5264: 115,\n",
       "  5360: 19,\n",
       "  5434: 24,\n",
       "  5476: 36,\n",
       "  5516: 31,\n",
       "  5536: 21,\n",
       "  5564: 30,\n",
       "  5579: 14,\n",
       "  5609: 39,\n",
       "  5619: 25,\n",
       "  5631: 9,\n",
       "  5681: 9,\n",
       "  5691: 12,\n",
       "  5727: 41,\n",
       "  5761: 85,\n",
       "  5819: 19,\n",
       "  5904: 16,\n",
       "  5937: 61,\n",
       "  6038: 4,\n",
       "  6143: 15,\n",
       "  6176: 5,\n",
       "  6183: 17,\n",
       "  6206: 7,\n",
       "  6279: 20,\n",
       "  6378: 112,\n",
       "  6398: 11,\n",
       "  6557: 16,\n",
       "  6603: 15,\n",
       "  6884: 43,\n",
       "  6901: 8,\n",
       "  6915: 190,\n",
       "  7107: 230,\n",
       "  7169: 9,\n",
       "  7271: 117,\n",
       "  7356: 12,\n",
       "  7363: 284,\n",
       "  7492: 58,\n",
       "  7569: 32,\n",
       "  7603: 39,\n",
       "  7666: 9,\n",
       "  7700: 68,\n",
       "  7787: 18,\n",
       "  7849: 96,\n",
       "  7936: 3,\n",
       "  8070: 69,\n",
       "  8312: 29,\n",
       "  8337: 22,\n",
       "  8366: 25,\n",
       "  8471: 15,\n",
       "  8512: 16,\n",
       "  8515: 21,\n",
       "  8532: 9,\n",
       "  8556: 71,\n",
       "  8803: 4,\n",
       "  8895: 10,\n",
       "  8900: 11,\n",
       "  9124: 18,\n",
       "  9128: 2,\n",
       "  9253: 76,\n",
       "  9304: 12,\n",
       "  9332: 7,\n",
       "  9457: 6,\n",
       "  9505: 2,\n",
       "  9518: 80,\n",
       "  9544: 228,\n",
       "  9727: 37,\n",
       "  9736: 19,\n",
       "  9859: 12,\n",
       "  9871: 17,\n",
       "  9957: 15,\n",
       "  9973: 59,\n",
       "  10057: 144,\n",
       "  10207: 36,\n",
       "  10299: 167,\n",
       "  10304: 8,\n",
       "  10377: 125,\n",
       "  10502: 9,\n",
       "  10581: 11,\n",
       "  10589: 18,\n",
       "  10626: 72,\n",
       "  10635: 6,\n",
       "  10666: 84,\n",
       "  10675: 13,\n",
       "  10761: 9,\n",
       "  10830: 14,\n",
       "  10848: 16,\n",
       "  10950: 23,\n",
       "  11003: 63,\n",
       "  11018: 24,\n",
       "  11061: 11,\n",
       "  11065: 40,\n",
       "  11197: 14,\n",
       "  11236: 58,\n",
       "  11247: 6,\n",
       "  11275: 26,\n",
       "  11313: 9,\n",
       "  11320: 66,\n",
       "  11421: 37,\n",
       "  11446: 13,\n",
       "  11593: 19,\n",
       "  11616: 64,\n",
       "  11671: 14,\n",
       "  11702: 7,\n",
       "  11708: 44,\n",
       "  11747: 20,\n",
       "  11762: 10,\n",
       "  11829: 25,\n",
       "  11850: 23,\n",
       "  11860: 11,\n",
       "  11932: 18,\n",
       "  11989: 17,\n",
       "  12028: 221,\n",
       "  12140: 36,\n",
       "  12177: 53,\n",
       "  12183: 26,\n",
       "  12274: 9,\n",
       "  12312: 13,\n",
       "  12380: 45,\n",
       "  12508: 136,\n",
       "  12567: 61,\n",
       "  12585: 4,\n",
       "  12629: 43,\n",
       "  12633: 11,\n",
       "  12799: 77,\n",
       "  12803: 21,\n",
       "  12824: 21,\n",
       "  13123: 10,\n",
       "  13329: 22,\n",
       "  13330: 13,\n",
       "  13503: 15,\n",
       "  13546: 20,\n",
       "  13577: 7,\n",
       "  13593: 20,\n",
       "  13615: 10,\n",
       "  13627: 31,\n",
       "  13664: 120,\n",
       "  13728: 13,\n",
       "  13748: 21,\n",
       "  13864: 5,\n",
       "  13881: 2,\n",
       "  14035: 12,\n",
       "  14144: 24,\n",
       "  14172: 9,\n",
       "  14193: 8,\n",
       "  14256: 26,\n",
       "  14269: 21,\n",
       "  14309: 13,\n",
       "  14342: 20,\n",
       "  14385: 14,\n",
       "  14507: 9,\n",
       "  14520: 56,\n",
       "  14705: 17,\n",
       "  14805: 16,\n",
       "  14855: 96,\n",
       "  14975: 23,\n",
       "  15046: 86,\n",
       "  15054: 33,\n",
       "  15301: 5,\n",
       "  15347: 4,\n",
       "  15361: 15,\n",
       "  15472: 13,\n",
       "  15590: 85,\n",
       "  15716: 323,\n",
       "  15852: 15,\n",
       "  15875: 192,\n",
       "  16038: 89,\n",
       "  16053: 17,\n",
       "  16076: 397,\n",
       "  16102: 6,\n",
       "  16129: 22,\n",
       "  16147: 7,\n",
       "  16216: 17,\n",
       "  16275: 90,\n",
       "  16318: 12,\n",
       "  16367: 47,\n",
       "  16384: 48,\n",
       "  16409: 40,\n",
       "  16412: 8,\n",
       "  16438: 28,\n",
       "  16468: 15,\n",
       "  16469: 20,\n",
       "  16479: 7,\n",
       "  16492: 6,\n",
       "  16554: 19,\n",
       "  16560: 8,\n",
       "  16685: 1,\n",
       "  16733: 14,\n",
       "  16755: 24,\n",
       "  16800: 12,\n",
       "  16802: 27,\n",
       "  16850: 14,\n",
       "  16975: 186,\n",
       "  16992: 42,\n",
       "  17107: 6,\n",
       "  17149: 17,\n",
       "  17150: 23,\n",
       "  17250: 28,\n",
       "  17260: 10,\n",
       "  17276: 10,\n",
       "  17539: 24,\n",
       "  17547: 9,\n",
       "  17617: 4,\n",
       "  17631: 19,\n",
       "  17664: 24,\n",
       "  17722: 8,\n",
       "  17764: 3,\n",
       "  17795: 215,\n",
       "  17843: 37,\n",
       "  17882: 6,\n",
       "  17903: 7,\n",
       "  17906: 88,\n",
       "  18082: 22,\n",
       "  18123: 146,\n",
       "  18233: 8,\n",
       "  18250: 2,\n",
       "  18281: 61,\n",
       "  18320: 207,\n",
       "  18353: 16,\n",
       "  18365: 10,\n",
       "  18459: 33,\n",
       "  18637: 35,\n",
       "  18673: 38,\n",
       "  18681: 10,\n",
       "  18737: 7,\n",
       "  18999: 40,\n",
       "  19029: 4,\n",
       "  19036: 12,\n",
       "  19164: 20,\n",
       "  19463: 14,\n",
       "  19569: 4,\n",
       "  19653: 30,\n",
       "  19698: 79,\n",
       "  19793: 37,\n",
       "  19803: 9,\n",
       "  19833: 77,\n",
       "  19851: 83,\n",
       "  19859: 14,\n",
       "  19940: 9,\n",
       "  20061: 7,\n",
       "  20086: 85,\n",
       "  20133: 121,\n",
       "  20181: 204,\n",
       "  20187: 25,\n",
       "  20263: 6,\n",
       "  20265: 7,\n",
       "  20289: 63,\n",
       "  20381: 10,\n",
       "  20425: 103,\n",
       "  20528: 37,\n",
       "  20580: 1,\n",
       "  20598: 31,\n",
       "  20600: 16,\n",
       "  20624: 32,\n",
       "  20643: 20,\n",
       "  20804: 25,\n",
       "  20899: 17,\n",
       "  20951: 8,\n",
       "  20979: 26,\n",
       "  21037: 21,\n",
       "  21056: 9,\n",
       "  21093: 60,\n",
       "  21255: 3,\n",
       "  21269: 279,\n",
       "  21277: 23,\n",
       "  21301: 16,\n",
       "  21350: 18,\n",
       "  21548: 7,\n",
       "  21581: 11,\n",
       "  21737: 7,\n",
       "  21745: 5,\n",
       "  21764: 7,\n",
       "  22019: 2,\n",
       "  22180: 5,\n",
       "  22192: 5,\n",
       "  22287: 10,\n",
       "  22432: 6,\n",
       "  22450: 11,\n",
       "  22520: 63,\n",
       "  22534: 4,\n",
       "  22580: 10,\n",
       "  22624: 43,\n",
       "  22667: 72,\n",
       "  22684: 14,\n",
       "  22706: 8,\n",
       "  22754: 44,\n",
       "  22855: 47,\n",
       "  22921: 2,\n",
       "  23028: 22,\n",
       "  23109: 2,\n",
       "  23131: 49,\n",
       "  23161: 29,\n",
       "  23215: 9,\n",
       "  23318: 15,\n",
       "  23418: 22,\n",
       "  23423: 11,\n",
       "  23451: 26,\n",
       "  23568: 8,\n",
       "  23657: 34,\n",
       "  23734: 15,\n",
       "  23763: 21,\n",
       "  23847: 9,\n",
       "  24099: 2,\n",
       "  24170: 2,\n",
       "  24178: 209,\n",
       "  24276: 82,\n",
       "  24344: 290,\n",
       "  24483: 7,\n",
       "  24535: 23,\n",
       "  24562: 10,\n",
       "  24569: 20,\n",
       "  24622: 1,\n",
       "  24687: 45,\n",
       "  24807: 41,\n",
       "  24847: 12,\n",
       "  24868: 57,\n",
       "  24903: 45,\n",
       "  25001: 25,\n",
       "  25016: 78,\n",
       "  25038: 66,\n",
       "  25097: 42,\n",
       "  25117: 38,\n",
       "  25225: 17,\n",
       "  25256: 30,\n",
       "  25295: 59,\n",
       "  25326: 17,\n",
       "  25373: 158,\n",
       "  25406: 5,\n",
       "  25515: 18,\n",
       "  25526: 86,\n",
       "  25579: 27,\n",
       "  25591: 61,\n",
       "  25671: 11,\n",
       "  25750: 107,\n",
       "  25775: 38,\n",
       "  25844: 22,\n",
       "  25860: 9,\n",
       "  25861: 16,\n",
       "  25889: 20,\n",
       "  25941: 86,\n",
       "  26036: 11,\n",
       "  26040: 79,\n",
       "  26052: 3,\n",
       "  26080: 5,\n",
       "  26097: 65,\n",
       "  26118: 60,\n",
       "  26311: 28,\n",
       "  26391: 64,\n",
       "  26398: 14,\n",
       "  26469: 52,\n",
       "  26542: 55,\n",
       "  26601: 58,\n",
       "  26638: 155,\n",
       "  26727: 10,\n",
       "  26797: 8,\n",
       "  26869: 11,\n",
       "  26884: 5,\n",
       "  26887: 4,\n",
       "  26956: 23,\n",
       "  27003: 18,\n",
       "  27036: 10,\n",
       "  27043: 30,\n",
       "  27047: 41,\n",
       "  27049: 14,\n",
       "  27089: 24,\n",
       "  27121: 89,\n",
       "  27143: 135,\n",
       "  27172: 9,\n",
       "  27179: 118,\n",
       "  27194: 60,\n",
       "  27269: 19,\n",
       "  27367: 84,\n",
       "  27371: 17,\n",
       "  27431: 33,\n",
       "  27486: 2,\n",
       "  27576: 84,\n",
       "  27597: 60,\n",
       "  27600: 28,\n",
       "  27677: 11,\n",
       "  27726: 59,\n",
       "  27729: 70,\n",
       "  27752: 11,\n",
       "  27800: 12,\n",
       "  27809: 18,\n",
       "  27823: 31,\n",
       "  27879: 13,\n",
       "  27886: 30,\n",
       "  27999: 25,\n",
       "  28050: 20,\n",
       "  28055: 4,\n",
       "  28073: 74,\n",
       "  28093: 21,\n",
       "  28103: 16,\n",
       "  28164: 159,\n",
       "  28173: 124,\n",
       "  28230: 23,\n",
       "  28291: 36,\n",
       "  28298: 31,\n",
       "  28356: 10,\n",
       "  28527: 46,\n",
       "  28530: 24,\n",
       "  28642: 2,\n",
       "  28668: 3,\n",
       "  28671: 33,\n",
       "  28689: 5,\n",
       "  28717: 23,\n",
       "  28729: 73,\n",
       "  28742: 7,\n",
       "  28758: 94,\n",
       "  28827: 12,\n",
       "  28843: 1,\n",
       "  28884: 12,\n",
       "  28932: 24,\n",
       "  28935: 4,\n",
       "  28939: 4,\n",
       "  28973: 152,\n",
       "  29007: 9,\n",
       "  29043: 12,\n",
       "  29093: 5,\n",
       "  29096: 21,\n",
       "  29102: 18,\n",
       "  29129: 15,\n",
       "  29137: 8,\n",
       "  29139: 17,\n",
       "  29141: 27,\n",
       "  29219: 19,\n",
       "  29240: 10,\n",
       "  29274: 17,\n",
       "  29350: 18,\n",
       "  29377: 80,\n",
       "  29379: 21,\n",
       "  29456: 22,\n",
       "  29478: 32,\n",
       "  29501: 6,\n",
       "  29503: 11,\n",
       "  29504: 18,\n",
       "  29513: 65,\n",
       "  29528: 5,\n",
       "  29556: 5,\n",
       "  29566: 17,\n",
       "  29619: 18,\n",
       "  29638: 15,\n",
       "  29639: 26,\n",
       "  29660: 9,\n",
       "  29703: 12,\n",
       "  29866: 12,\n",
       "  29872: 14,\n",
       "  29913: 11,\n",
       "  29919: 24,\n",
       "  29927: 63,\n",
       "  29965: 26,\n",
       "  29972: 7,\n",
       "  30010: 7,\n",
       "  30015: 36,\n",
       "  30139: 529,\n",
       "  30208: 18,\n",
       "  30227: 35,\n",
       "  30287: 23,\n",
       "  30299: 1,\n",
       "  30301: 117,\n",
       "  30316: 17,\n",
       "  30365: 47,\n",
       "  30490: 17,\n",
       "  30501: 10,\n",
       "  30505: 33,\n",
       "  30561: 6,\n",
       "  30575: 6,\n",
       "  30599: 24,\n",
       "  30631: 11,\n",
       "  30663: 24,\n",
       "  30696: 54,\n",
       "  30786: 11,\n",
       "  30798: 14,\n",
       "  30860: 28,\n",
       "  31003: 45,\n",
       "  31183: 129,\n",
       "  31216: 80,\n",
       "  31221: 17,\n",
       "  31262: 28,\n",
       "  31298: 13,\n",
       "  31332: 59,\n",
       "  31361: 20,\n",
       "  31442: 32,\n",
       "  31470: 17,\n",
       "  31516: 74,\n",
       "  31528: 60,\n",
       "  31544: 11,\n",
       "  31580: 34,\n",
       "  31585: 39,\n",
       "  31610: 17,\n",
       "  31660: 3,\n",
       "  31664: 45,\n",
       "  31692: 23,\n",
       "  31723: 17,\n",
       "  31813: 234,\n",
       "  31942: 102,\n",
       "  31986: 41,\n",
       "  32018: 145,\n",
       "  32061: 11,\n",
       "  32106: 18,\n",
       "  32135: 12,\n",
       "  32161: 25,\n",
       "  32181: 8,\n",
       "  32183: 27,\n",
       "  32193: 16,\n",
       "  32268: 6,\n",
       "  32286: 117,\n",
       "  32355: 6,\n",
       "  32367: 42,\n",
       "  32394: 6,\n",
       "  32414: 485,\n",
       "  32436: 271,\n",
       "  32583: 5,\n",
       "  32605: 19,\n",
       "  32639: 12,\n",
       "  32740: 48,\n",
       "  32746: 11,\n",
       "  32773: 112,\n",
       "  32790: 103,\n",
       "  40059: 11,\n",
       "  40124: 68,\n",
       "  40246: 20,\n",
       "  40370: 11,\n",
       "  40442: 107,\n",
       "  40456: 43,\n",
       "  40576: 48,\n",
       "  40631: 4,\n",
       "  40911: 35,\n",
       "  41192: 45,\n",
       "  41373: 28,\n",
       "  41434: 10,\n",
       "  41446: 8,\n",
       "  41890: 7,\n",
       "  41958: 5,\n",
       "  41962: 10,\n",
       "  41976: 177,\n",
       "  42009: 30,\n",
       "  42035: 49,\n",
       "  42054: 18,\n",
       "  42194: 1,\n",
       "  42346: 30,\n",
       "  42458: 9,\n",
       "  42515: 38,\n",
       "  42572: 17,\n",
       "  42715: 21,\n",
       "  42794: 6,\n",
       "  42924: 3,\n",
       "  43067: 90,\n",
       "  43074: 18,\n",
       "  43112: 394,\n",
       "  43128: 1,\n",
       "  43147: 150,\n",
       "  43305: 48,\n",
       "  43323: 15,\n",
       "  43937: 4,\n",
       "  43943: 6,\n",
       "  43959: 3,\n",
       "  44146: 16,\n",
       "  44206: 5,\n",
       "  44214: 30,\n",
       "  44326: 8,\n",
       "  44437: 12,\n",
       "  44530: 2,\n",
       "  44534: 37,\n",
       "  44741: 8,\n",
       "  44787: 7,\n",
       "  44829: 55,\n",
       "  44841: 19,\n",
       "  44848: 2,\n",
       "  45193: 11,\n",
       "  45280: 9,\n",
       "  45435: 7,\n",
       "  46011: 61,\n",
       "  46335: 49,\n",
       "  46366: 42,\n",
       "  46415: 53,\n",
       "  46521: 14,\n",
       "  46728: 34,\n",
       "  46926: 1,\n",
       "  46961: 1,\n",
       "  47216: 17,\n",
       "  47219: 67,\n",
       "  47407: 2,\n",
       "  47467: 6,\n",
       "  47670: 7,\n",
       "  47747: 12,\n",
       "  47852: 95,\n",
       "  47930: 5,\n",
       "  48058: 4,\n",
       "  48143: 6,\n",
       "  48297: 11,\n",
       "  48340: 7,\n",
       "  48660: 343,\n",
       "  48687: 15,\n",
       "  48750: 8,\n",
       "  48812: 36,\n",
       "  48837: 14,\n",
       "  48929: 7,\n",
       "  49292: 18,\n",
       "  49510: 31,\n",
       "  49558: 347,\n",
       "  49623: 9,\n",
       "  49747: 7,\n",
       "  49764: 10,\n",
       "  49963: 4,\n",
       "  50007: 4,\n",
       "  50041: 10,\n",
       "  50093: 6,\n",
       "  50257: 11,\n",
       "  50294: 20,\n",
       "  50409: 75,\n",
       "  50762: 8,\n",
       "  50772: 17,\n",
       "  50807: 21,\n",
       "  50828: 126,\n",
       "  50911: 81,\n",
       "  50998: 29,\n",
       "  51195: 29,\n",
       "  51237: 11,\n",
       "  51401: 33,\n",
       "  51418: 68,\n",
       "  51497: 3,\n",
       "  51545: 97,\n",
       "  51601: 5,\n",
       "  51607: 5,\n",
       "  51669: 10,\n",
       "  51933: 5,\n",
       "  52011: 8,\n",
       "  52054: 1,\n",
       "  52172: 13,\n",
       "  52191: 46,\n",
       "  52307: 5,\n",
       "  52452: 5,\n",
       "  52606: 54,\n",
       "  52622: 5,\n",
       "  52898: 6,\n",
       "  52957: 52,\n",
       "  53119: 7,\n",
       "  53160: 13,\n",
       "  53173: 14,\n",
       "  53534: 9,\n",
       "  53650: 15,\n",
       "  53743: 151,\n",
       "  53749: 6,\n",
       "  53847: 14,\n",
       "  54172: 6,\n",
       "  54197: 13,\n",
       "  54305: 8,\n",
       "  54514: 116,\n",
       "  54709: 9,\n",
       "  54741: 5,\n",
       "  54832: 7,\n",
       "  54922: 2,\n",
       "  55059: 17,\n",
       "  55074: 7,\n",
       "  55188: 9,\n",
       "  55571: 212,\n",
       "  55700: 4,\n",
       "  55753: 37,\n",
       "  55841: 14,\n",
       "  55920: 17,\n",
       "  56027: 7,\n",
       "  56229: 31,\n",
       "  56440: 9,\n",
       "  56490: 12,\n",
       "  56621: 11,\n",
       "  56635: 2,\n",
       "  56772: 31,\n",
       "  56798: 4,\n",
       "  56867: 16,\n",
       "  56874: 51,\n",
       "  57050: 205,\n",
       "  57081: 32,\n",
       "  57157: 5,\n",
       "  57277: 19,\n",
       "  57290: 15,\n",
       "  57449: 17,\n",
       "  57788: 36,\n",
       "  57795: 7,\n",
       "  57889: 105,\n",
       "  58105: 49,\n",
       "  58242: 6,\n",
       "  58264: 7,\n",
       "  58286: 20,\n",
       "  58416: 3,\n",
       "  58433: 51,\n",
       "  58522: 9,\n",
       "  58580: 5,\n",
       "  58610: 13,\n",
       "  58631: 15,\n",
       "  58732: 5,\n",
       "  58794: 32,\n",
       "  58810: 10,\n",
       "  58955: 6,\n",
       "  59275: 1,\n",
       "  59278: 17,\n",
       "  59411: 6,\n",
       "  59496: 75,\n",
       "  59765: 300,\n",
       "  59789: 10,\n",
       "  59801: 2,\n",
       "  59822: 14,\n",
       "  59903: 483,\n",
       "  59943: 121,\n",
       "  60003: 9,\n",
       "  60050: 4,\n",
       "  60130: 44,\n",
       "  60674: 10,\n",
       "  60685: 4,\n",
       "  60958: 8,\n",
       "  60977: 9,\n",
       "  61005: 10,\n",
       "  61084: 216,\n",
       "  61195: 9,\n",
       "  61259: 83,\n",
       "  61331: 4,\n",
       "  61630: 19,\n",
       "  61738: 6,\n",
       "  61886: 6,\n",
       "  62231: 4,\n",
       "  62239: 5,\n",
       "  62284: 6,\n",
       "  62402: 56,\n",
       "  62641: 8,\n",
       "  62733: 9,\n",
       "  62858: 120,\n",
       "  63145: 25,\n",
       "  63327: 16,\n",
       "  63351: 10,\n",
       "  63362: 7,\n",
       "  63430: 56,\n",
       "  63499: 32,\n",
       "  63560: 25,\n",
       "  63943: 31,\n",
       "  63968: 10,\n",
       "  64160: 4,\n",
       "  64232: 28,\n",
       "  64249: 7,\n",
       "  64715: 17,\n",
       "  65004: 11,\n",
       "  65027: 1,\n",
       "  65033: 2,\n",
       "  65164: 4,\n",
       "  65361: 20,\n",
       "  65435: 40,\n",
       "  65449: 6,\n",
       "  65515: 5,\n",
       "  65582: 576,\n",
       "  65594: 9,\n",
       "  65692: 25,\n",
       "  65710: 18,\n",
       "  65837: 47,\n",
       "  66002: 636,\n",
       "  66009: 373,\n",
       "  66206: 12,\n",
       "  66412: 5,\n",
       "  66492: 1,\n",
       "  66549: 36,\n",
       "  66556: 20,\n",
       "  66671: 32,\n",
       "  66739: 1,\n",
       "  66753: 8,\n",
       "  66823: 21,\n",
       "  67053: 238,\n",
       "  67111: 16,\n",
       "  67117: 19,\n",
       "  67408: 15,\n",
       "  67446: 8,\n",
       "  67796: 7,\n",
       "  67844: 7,\n",
       "  67887: 13,\n",
       "  68059: 3,\n",
       "  68315: 3,\n",
       "  68591: 7,\n",
       "  68791: 13,\n",
       "  68836: 7,\n",
       "  68839: 21,\n",
       "  68905: 3,\n",
       "  68944: 39,\n",
       "  68962: 1,\n",
       "  69098: 12,\n",
       "  69158: 13,\n",
       "  69250: 4,\n",
       "  69296: 13,\n",
       "  69359: 26,\n",
       "  69380: 265,\n",
       "  69483: 26,\n",
       "  69546: 64,\n",
       "  69556: 11,\n",
       "  69578: 7,\n",
       "  69673: 6,\n",
       "  69776: 53,\n",
       "  69799: 6,\n",
       "  69932: 6,\n",
       "  70285: 2,\n",
       "  70466: 18,\n",
       "  70476: 22,\n",
       "  70492: 10,\n",
       "  70563: 3,\n",
       "  70645: 29,\n",
       "  70682: 48,\n",
       "  70728: 12,\n",
       "  71107: 9,\n",
       "  71108: 220,\n",
       "  71220: 45,\n",
       "  71336: 5,\n",
       "  71377: 39,\n",
       "  71915: 6,\n",
       "  71943: 4,\n",
       "  71983: 3,\n",
       "  72229: 189,\n",
       "  72230: 154,\n",
       "  72233: 2,\n",
       "  72378: 7,\n",
       "  72532: 6,\n",
       "  72714: 4,\n",
       "  72751: 35,\n",
       "  73043: 3,\n",
       "  73107: 479,\n",
       "  73129: 105,\n",
       "  73388: 37,\n",
       "  73389: 87,\n",
       "  73479: 3,\n",
       "  73686: 4,\n",
       "  73713: 458,\n",
       "  73770: 9,\n",
       "  73808: 49,\n",
       "  73899: 2,\n",
       "  73941: 7,\n",
       "  74016: 8,\n",
       "  74253: 388,\n",
       "  74505: 32,\n",
       "  74562: 98,\n",
       "  74640: 7,\n",
       "  74654: 7,\n",
       "  75047: 3,\n",
       "  75107: 124,\n",
       "  75200: 87,\n",
       "  75387: 14,\n",
       "  75446: 34,\n",
       "  75609: 5,\n",
       "  75640: 45,\n",
       "  75741: 8,\n",
       "  75782: 90,\n",
       "  75806: 3,\n",
       "  75983: 9,\n",
       "  76021: 39,\n",
       "  76056: 1,\n",
       "  76074: 31,\n",
       "  76141: 4,\n",
       "  76178: 22,\n",
       "  76437: 5,\n",
       "  76446: 18,\n",
       "  76476: 3,\n",
       "  76797: 6,\n",
       "  76915: 8,\n",
       "  76993: 13,\n",
       "  77019: 8,\n",
       "  77128: 9,\n",
       "  77177: 14,\n",
       "  77237: 198,\n",
       "  77279: 2,\n",
       "  77434: 18,\n",
       "  77453: 2,\n",
       "  77469: 31,\n",
       "  77676: 4,\n",
       "  77690: 19,\n",
       "  77697: 10,\n",
       "  77816: 8,\n",
       "  77947: 11,\n",
       "  78017: 2,\n",
       "  78086: 110,\n",
       "  78565: 78,\n",
       "  78705: 3,\n",
       "  78707: 16,\n",
       "  78859: 5,\n",
       "  78914: 13,\n",
       "  79079: 18,\n",
       "  79090: 16,\n",
       "  79115: 12,\n",
       "  79292: 15,\n",
       "  80045: 6,\n",
       "  80106: 5,\n",
       "  80218: 13,\n",
       "  80430: 10,\n",
       "  80722: 3,\n",
       "  80813: 11,\n",
       "  80825: 3,\n",
       "  81114: 58,\n",
       "  81223: 39,\n",
       "  81233: 22,\n",
       "  81436: 9,\n",
       "  81745: 28,\n",
       "  81840: 25,\n",
       "  81960: 8,\n",
       "  81992: 11,\n",
       "  82100: 74,\n",
       "  82104: 2,\n",
       "  82150: 84,\n",
       "  82202: 28,\n",
       "  82211: 647,\n",
       "  82309: 9,\n",
       "  ...}}"
      ]
     },
     "execution_count": 30,
     "metadata": {},
     "output_type": "execute_result"
    }
   ],
   "source": [
    "patient_id_to_num_notes"
   ]
  },
  {
   "cell_type": "code",
   "execution_count": 31,
   "metadata": {},
   "outputs": [
    {
     "name": "stdout",
     "output_type": "stream",
     "text": [
      "252\n",
      "1167\n"
     ]
    }
   ],
   "source": [
    "print(len(patient_id_to_num_notes['pneumonia_dead']))\n",
    "print(len(patient_id_to_num_notes['pneumonia_alive']))"
   ]
  },
  {
   "cell_type": "code",
   "execution_count": 32,
   "metadata": {
    "scrolled": true
   },
   "outputs": [
    {
     "data": {
      "text/html": [
       "<div>\n",
       "<style scoped>\n",
       "    .dataframe tbody tr th:only-of-type {\n",
       "        vertical-align: middle;\n",
       "    }\n",
       "\n",
       "    .dataframe tbody tr th {\n",
       "        vertical-align: top;\n",
       "    }\n",
       "\n",
       "    .dataframe thead th {\n",
       "        text-align: right;\n",
       "    }\n",
       "</style>\n",
       "<table border=\"1\" class=\"dataframe\">\n",
       "  <thead>\n",
       "    <tr style=\"text-align: right;\">\n",
       "      <th></th>\n",
       "      <th>ROW_ID_x</th>\n",
       "      <th>SUBJECT_ID_x</th>\n",
       "      <th>DESCRIPTION</th>\n",
       "      <th>TEXT</th>\n",
       "      <th>DEATHTIME</th>\n",
       "    </tr>\n",
       "  </thead>\n",
       "  <tbody>\n",
       "    <tr>\n",
       "      <th>70391</th>\n",
       "      <td>70124</td>\n",
       "      <td>111</td>\n",
       "      <td>Report</td>\n",
       "      <td>PATIENT/TEST INFORMATION:\\nIndication: s/p PEA...</td>\n",
       "      <td>2144-07-01 14:55:00</td>\n",
       "    </tr>\n",
       "    <tr>\n",
       "      <th>142529</th>\n",
       "      <td>151749</td>\n",
       "      <td>111</td>\n",
       "      <td>Report</td>\n",
       "      <td>Compared to the previous tracing QRS voltage i...</td>\n",
       "      <td>2144-07-01 14:55:00</td>\n",
       "    </tr>\n",
       "    <tr>\n",
       "      <th>142097</th>\n",
       "      <td>151750</td>\n",
       "      <td>111</td>\n",
       "      <td>Report</td>\n",
       "      <td>Normal sinus rhythm, rate 80.  Biatrial abnorm...</td>\n",
       "      <td>2144-07-01 14:55:00</td>\n",
       "    </tr>\n",
       "    <tr>\n",
       "      <th>142303</th>\n",
       "      <td>151751</td>\n",
       "      <td>111</td>\n",
       "      <td>Report</td>\n",
       "      <td>Normal sinus rhythm.  Q waves in leads V1-V2 c...</td>\n",
       "      <td>2144-07-01 14:55:00</td>\n",
       "    </tr>\n",
       "    <tr>\n",
       "      <th>380576</th>\n",
       "      <td>375732</td>\n",
       "      <td>111</td>\n",
       "      <td>Physician Resident Admission Note</td>\n",
       "      <td>Chief Complaint:  respiratory distress\\n   HPI...</td>\n",
       "      <td>2144-07-01 14:55:00</td>\n",
       "    </tr>\n",
       "    <tr>\n",
       "      <th>380109</th>\n",
       "      <td>375744</td>\n",
       "      <td>111</td>\n",
       "      <td>ICU Event Note</td>\n",
       "      <td>Clinician:  Nurse\\n   Pt admitted from the ED ...</td>\n",
       "      <td>2144-07-01 14:55:00</td>\n",
       "    </tr>\n",
       "    <tr>\n",
       "      <th>379907</th>\n",
       "      <td>375749</td>\n",
       "      <td>111</td>\n",
       "      <td>Physician Resident/Attending Admission Note - ...</td>\n",
       "      <td>Chief Complaint:  respiratory distress\\n   HPI...</td>\n",
       "      <td>2144-07-01 14:55:00</td>\n",
       "    </tr>\n",
       "    <tr>\n",
       "      <th>379806</th>\n",
       "      <td>375753</td>\n",
       "      <td>111</td>\n",
       "      <td>Social Work Admission Note</td>\n",
       "      <td>Social Work Initial Note:\\n   Family Informati...</td>\n",
       "      <td>2144-07-01 14:55:00</td>\n",
       "    </tr>\n",
       "    <tr>\n",
       "      <th>379909</th>\n",
       "      <td>375760</td>\n",
       "      <td>111</td>\n",
       "      <td>ICU Event Note</td>\n",
       "      <td>TITLE:\\n   Clinician:  Resident\\n   Patient ex...</td>\n",
       "      <td>2144-07-01 14:55:00</td>\n",
       "    </tr>\n",
       "    <tr>\n",
       "      <th>1066971</th>\n",
       "      <td>1079317</td>\n",
       "      <td>111</td>\n",
       "      <td>CHEST (PORTABLE AP)</td>\n",
       "      <td>[**2144-7-1**] 2:43 AM\\n CHEST (PORTABLE AP)  ...</td>\n",
       "      <td>2144-07-01 14:55:00</td>\n",
       "    </tr>\n",
       "    <tr>\n",
       "      <th>1065833</th>\n",
       "      <td>1079339</td>\n",
       "      <td>111</td>\n",
       "      <td>CHEST (PORTABLE AP)</td>\n",
       "      <td>[**2144-7-1**] 7:27 AM\\n CHEST (PORTABLE AP); ...</td>\n",
       "      <td>2144-07-01 14:55:00</td>\n",
       "    </tr>\n",
       "    <tr>\n",
       "      <th>1067121</th>\n",
       "      <td>1079351</td>\n",
       "      <td>111</td>\n",
       "      <td>CHEST PORT. LINE PLACEMENT</td>\n",
       "      <td>[**2144-7-1**] 9:01 AM\\n CHEST PORT. LINE PLAC...</td>\n",
       "      <td>2144-07-01 14:55:00</td>\n",
       "    </tr>\n",
       "  </tbody>\n",
       "</table>\n",
       "</div>"
      ],
      "text/plain": [
       "         ROW_ID_x  SUBJECT_ID_x  \\\n",
       "70391       70124           111   \n",
       "142529     151749           111   \n",
       "142097     151750           111   \n",
       "142303     151751           111   \n",
       "380576     375732           111   \n",
       "380109     375744           111   \n",
       "379907     375749           111   \n",
       "379806     375753           111   \n",
       "379909     375760           111   \n",
       "1066971   1079317           111   \n",
       "1065833   1079339           111   \n",
       "1067121   1079351           111   \n",
       "\n",
       "                                               DESCRIPTION  \\\n",
       "70391                                               Report   \n",
       "142529                                              Report   \n",
       "142097                                              Report   \n",
       "142303                                              Report   \n",
       "380576                   Physician Resident Admission Note   \n",
       "380109                                      ICU Event Note   \n",
       "379907   Physician Resident/Attending Admission Note - ...   \n",
       "379806                          Social Work Admission Note   \n",
       "379909                                      ICU Event Note   \n",
       "1066971                                CHEST (PORTABLE AP)   \n",
       "1065833                                CHEST (PORTABLE AP)   \n",
       "1067121                         CHEST PORT. LINE PLACEMENT   \n",
       "\n",
       "                                                      TEXT  \\\n",
       "70391    PATIENT/TEST INFORMATION:\\nIndication: s/p PEA...   \n",
       "142529   Compared to the previous tracing QRS voltage i...   \n",
       "142097   Normal sinus rhythm, rate 80.  Biatrial abnorm...   \n",
       "142303   Normal sinus rhythm.  Q waves in leads V1-V2 c...   \n",
       "380576   Chief Complaint:  respiratory distress\\n   HPI...   \n",
       "380109   Clinician:  Nurse\\n   Pt admitted from the ED ...   \n",
       "379907   Chief Complaint:  respiratory distress\\n   HPI...   \n",
       "379806   Social Work Initial Note:\\n   Family Informati...   \n",
       "379909   TITLE:\\n   Clinician:  Resident\\n   Patient ex...   \n",
       "1066971  [**2144-7-1**] 2:43 AM\\n CHEST (PORTABLE AP)  ...   \n",
       "1065833  [**2144-7-1**] 7:27 AM\\n CHEST (PORTABLE AP); ...   \n",
       "1067121  [**2144-7-1**] 9:01 AM\\n CHEST PORT. LINE PLAC...   \n",
       "\n",
       "                   DEATHTIME  \n",
       "70391    2144-07-01 14:55:00  \n",
       "142529   2144-07-01 14:55:00  \n",
       "142097   2144-07-01 14:55:00  \n",
       "142303   2144-07-01 14:55:00  \n",
       "380576   2144-07-01 14:55:00  \n",
       "380109   2144-07-01 14:55:00  \n",
       "379907   2144-07-01 14:55:00  \n",
       "379806   2144-07-01 14:55:00  \n",
       "379909   2144-07-01 14:55:00  \n",
       "1066971  2144-07-01 14:55:00  \n",
       "1065833  2144-07-01 14:55:00  \n",
       "1067121  2144-07-01 14:55:00  "
      ]
     },
     "execution_count": 32,
     "metadata": {},
     "output_type": "execute_result"
    }
   ],
   "source": [
    "pneumonia_dead_no_disch.loc[pneumonia_dead_no_disch[\"SUBJECT_ID_x\"] == 111, ['ROW_ID_x','SUBJECT_ID_x','DESCRIPTION','TEXT', 'DEATHTIME']]"
   ]
  },
  {
   "cell_type": "code",
   "execution_count": 33,
   "metadata": {
    "scrolled": true
   },
   "outputs": [],
   "source": [
    "# tmp_df = pneumonia_dead_no_disch.loc[pneumonia_dead_no_disch[\"SUBJECT_ID_x\"] == 111, ['DESCRIPTION','TEXT']]\n",
    "# for index, row in tmp_df.iterrows():\n",
    "#     print(row['DESCRIPTION'])\n",
    "#     print(row['TEXT'])\n",
    "#     print('-'*80)"
   ]
  },
  {
   "cell_type": "code",
   "execution_count": null,
   "metadata": {},
   "outputs": [],
   "source": []
  },
  {
   "cell_type": "code",
   "execution_count": 34,
   "metadata": {
    "scrolled": true
   },
   "outputs": [],
   "source": [
    "# row_cnt = 0\n",
    "# note_cnt = 0\n",
    "# for index, row in pneumonia_alive_no_disch.iterrows():\n",
    "#     row_cnt += 1\n",
    "#     note = re.sub(r'\\[\\*\\*(.*?)\\*\\*\\]|[_,\\d\\*:~=\\.\\-\\+\\\\/]+', ' ', row['TEXT'])\n",
    "#     tokenized_note = word_tokenize(note)\n",
    "       \n",
    "#     if 'money' in tokenized_note :\n",
    "#         note_cnt += 1\n",
    "#         print(f\"#{row_cnt}) {note_cnt}) {row['ROW_ID_x']} : {row['SUBJECT_ID_x']} ==> [{row['DESCRIPTION']}]\")\n",
    "    \n",
    "    "
   ]
  },
  {
   "cell_type": "code",
   "execution_count": 35,
   "metadata": {
    "scrolled": true
   },
   "outputs": [],
   "source": [
    "# row_cnt = 0\n",
    "# note_cnt = 0\n",
    "# for index, row in pneumonia_alive_no_disch.iterrows():\n",
    "#     row_cnt += 1\n",
    "#     note = re.sub(r'\\[\\*\\*(.*?)\\*\\*\\]|[_,\\d\\*:~=\\.\\-\\+\\\\/]+', ' ', row['TEXT'])\n",
    "#     tokenized_note = word_tokenize(note)\n",
    "    \n",
    "#     if 'money' in tokenized_note and 'wallet' in tokenized_note:\n",
    "#         note_cnt += 1\n",
    "#         print(f\"#{row_cnt}) {note_cnt}) {row['ROW_ID_x']} : {row['SUBJECT_ID_x']} ==> [{row['DESCRIPTION']}]\")\n",
    "# #         print(row['TEXT'])\n",
    "# #         print('-'*80)"
   ]
  },
  {
   "cell_type": "code",
   "execution_count": null,
   "metadata": {},
   "outputs": [],
   "source": []
  },
  {
   "cell_type": "code",
   "execution_count": null,
   "metadata": {},
   "outputs": [],
   "source": []
  },
  {
   "cell_type": "code",
   "execution_count": null,
   "metadata": {},
   "outputs": [],
   "source": []
  },
  {
   "cell_type": "code",
   "execution_count": null,
   "metadata": {},
   "outputs": [],
   "source": []
  },
  {
   "cell_type": "code",
   "execution_count": 36,
   "metadata": {},
   "outputs": [
    {
     "name": "stderr",
     "output_type": "stream",
     "text": [
      "100%|██████████| 11895/11895 [00:39<00:00, 302.19it/s]\n",
      "  0%|          | 13/46134 [00:00<06:25, 119.64it/s]"
     ]
    },
    {
     "name": "stdout",
     "output_type": "stream",
     "text": [
      "5989 note events\n",
      "finished counting frequent words for patients!\n"
     ]
    },
    {
     "name": "stderr",
     "output_type": "stream",
     "text": [
      "100%|██████████| 46134/46134 [02:25<00:00, 317.37it/s]"
     ]
    },
    {
     "name": "stdout",
     "output_type": "stream",
     "text": [
      "23172 note events\n",
      "finished counting frequent words for patients!\n"
     ]
    },
    {
     "name": "stderr",
     "output_type": "stream",
     "text": [
      "\n"
     ]
    }
   ],
   "source": [
    "def count_words_per_patient(disease_df, patient_id_to_num_notes):\n",
    "    note_appearance_counter = {}\n",
    "    number_of_patients = 0 # number of patients\n",
    "    note_counter = 0\n",
    "\n",
    "# -----------\n",
    "    patient_id = -1\n",
    "    word_set = set()\n",
    "    note_event_counter = 0\n",
    "\n",
    "    # Iterate through each note\n",
    "    for index, row in tqdm(disease_df.iterrows(), total=disease_df.shape[0]):\n",
    "\n",
    "        \n",
    "        patient_id_check = int(row['SUBJECT_ID_x'])\n",
    "    \n",
    "        # if patient id has changed, end sequence and start new sequence\n",
    "        if not patient_id == patient_id_check:\n",
    "            number_of_patients += 1\n",
    "            note_event_counter = 0\n",
    "        \n",
    "            for word in word_set:\n",
    "                if word in note_appearance_counter:\n",
    "                    note_appearance_counter[word] += 1\n",
    "                else:\n",
    "                    note_appearance_counter[word] = 1\n",
    "\n",
    "        \n",
    "            # reset word_set\n",
    "            word_set = set()\n",
    "        \n",
    "        # update patient id\n",
    "        patient_id = patient_id_check\n",
    "\n",
    "            \n",
    "        if patient_id_to_num_notes[patient_id_check] <= MIN_SEQ_LEN:\n",
    "            continue\n",
    "            \n",
    "        if note_event_counter < patient_id_to_num_notes[patient_id] // USE_1_N_SEQ:\n",
    "            note_event_counter += 1\n",
    "            continue\n",
    "                \n",
    "        note_counter += 1\n",
    "        note = re.sub(r'\\[\\*\\*(.*?)\\*\\*\\]|[_,\\d\\*:~=\\.\\-\\+\\\\/]+', ' ', row['TEXT'])\n",
    "        tokenized_note = word_tokenize(note)\n",
    "        \n",
    "        \n",
    "        for word in tokenized_note:\n",
    "            stemmed_word = stemmer.stem(word.lower())\n",
    "            if not stemmed_word in stop_words:\n",
    "                word_set.add(stemmed_word)\n",
    "    \n",
    "    print(str(note_counter) + \" note events\")\n",
    "    print(\"finished counting frequent words for patients!\")\n",
    "#     return note_counter, note_appearance_counter\n",
    "    return number_of_patients, note_appearance_counter\n",
    "\n",
    "# variable dictionaries\n",
    "number_of_notes = {}\n",
    "note_appearance_counter = {}\n",
    "\n",
    "number_of_notes['pneumonia_dead'], note_appearance_counter['pneumonia_dead'] = count_words_per_patient(pneumonia_dead_no_disch, patient_id_to_num_notes['pneumonia_dead'])\n",
    "number_of_notes['pneumonia_alive'], note_appearance_counter['pneumonia_alive'] = count_words_per_patient(pneumonia_alive_no_disch, patient_id_to_num_notes['pneumonia_alive'])"
   ]
  },
  {
   "cell_type": "code",
   "execution_count": 37,
   "metadata": {},
   "outputs": [
    {
     "data": {
      "text/plain": [
       "{'pneumonia_dead': 252, 'pneumonia_alive': 1167}"
      ]
     },
     "execution_count": 37,
     "metadata": {},
     "output_type": "execute_result"
    }
   ],
   "source": [
    "number_of_notes"
   ]
  },
  {
   "cell_type": "code",
   "execution_count": 38,
   "metadata": {},
   "outputs": [
    {
     "name": "stdout",
     "output_type": "stream",
     "text": [
      "{'pneumonia_dead': {'renal': 107, 'transfus': 52, 'independ': 19, 'studi': 160, 'rub': 32, 'decid': 61, 'et': 95, 'place': 196, 'lactic': 54, 'hypertens': 82, 'system': 99, 'infecti': 53, 'assess': 176, 'acut': 134, 'state': 94, 'hl': 5, 'dic': 20, '%': 188, 'portabl': 178, 'mottl': 15, 'consult': 99, 'ga': 70, 'arteri': 119, 'admiss': 88, 'insert': 61, 'balanc': 85, 'tf': 110, 'micu': 131, 'aggress': 62, 'death': 42, 'arch': 15, 'cvl': 42, 'copd': 45, 'head': 114, 'time': 188, 'med': 141, 'meantim': 3, 'full': 124, 'continu': 176, 'glucos': 82, 'termin': 88, 'critic': 66, 'team': 141, 'repeat': 107, 'resourc': 3, 'thorac': 49, 'though': 89, 'st': 140, 'repres': 91, 'enter': 58, 'inh': 3, 'acid': 56, 'clinician': 41, 'ro': 63, 'kg': 111, 'global': 31, 'promin': 65, 'prevent': 35, 'health': 39, 'coagulopathi': 20, 'guard': 18, 'npo': 121, 'develop': 87, 'recurr': 33, 'differ': 81, 'soft': 154, 'unemploy': 1, 'care': 171, 'ani': 142, 'region': 80, 'arriv': 82, 'despit': 90, 'funer': 16, 'cv': 136, 'costophren': 30, 'rr': 150, 'mouth': 82, 'heart': 157, 'etho': 2, 'ratio': 7, 'old': 200, 'pea': 8, 'pao': 66, 'servic': 92, 'abg': 143, 'sclera': 23, 'appear': 201, 'breath': 162, 'wean': 118, 'deni': 66, 'reason': 199, 'septic': 41, 'stay': 55, 'fio': 119, 'fen': 44, 'shock': 66, 'g': 96, 'without': 143, 'rapid': 61, 'cardiac': 156, 'ye': 42, 'rel': 59, 'epi': 11, 'none': 113, 'taken': 60, 'issu': 84, 'present': 189, 'distend': 108, 'field': 72, 'pho': 56, 'cool': 67, 'employ': 7, 'hous': 20, 'intern': 78, 'dextros': 11, 'imag': 136, 'know': 27, 'arrang': 21, 'vancomycin': 69, 'band': 44, 'bp': 181, 'ivf': 111, 'subsequ': 50, 'abnorm': 102, 'lead': 83, 'earli': 73, 'follow': 159, 'bs': 138, 'evalu': 173, 'er': 19, 'proxi': 40, 'drug': 55, 'next': 81, 'second': 40, 'plan': 161, 'ng': 131, 'hcp': 52, 'known': 85, 'keep': 104, 'pericardi': 61, 'failur': 141, 'poor': 134, 'replet': 84, 'effus': 183, 'bradi': 12, 'hr': 189, 'inr': 88, 'antibiot': 102, 'sinu': 139, 'neut': 43, 'would': 127, 'small': 184, 'calcium': 55, 'cm': 141, 'insulin': 80, 'drain': 144, 'ct': 132, 'svc': 87, 'hold': 90, 'wave': 81, 'absent': 62, 'sputum': 132, 'elev': 122, 'husband': 35, 'pmh': 78, 'port': 83, 'versu': 30, 'unrespons': 78, 'key': 61, 'approxim': 72, 'sever': 172, 'ha': 212, 'gtt': 134, 'increas': 196, 'dure': 114, 'afternoon': 103, 'levofloxacin': 40, 'design': 10, '<': 77, 'lab': 132, 'laundri': 1, 'commun': 88, 'bili': 47, 'ed': 61, 'regular': 66, 'ap': 175, 'opac': 148, 'year': 195, 'addendum': 98, 'sound': 151, 'tach': 21, 'previou': 172, 'interim': 26, 'underli': 79, 'morn': 93, 'murmur': 42, 'unremark': 66, 'anion': 8, 'unchang': 179, 'one': 117, 'friend': 32, 'cough': 125, 'famili': 167, 'previous': 80, 'day': 160, 'ipratropium': 6, 'long': 58, 'cpr': 32, 'contact': 91, 'retrocardiac': 50, 'spontan': 91, 'statin': 17, 'prophylaxi': 70, 'defer': 39, 'sr': 94, 'h': 136, 'rebound': 8, 'hospit': 75, 'fluticason': 2, 'warfarin': 5, 'flatten': 7, 'new': 160, 'puls': 133, 'intub': 147, 'left': 216, 'situat': 29, 'alt': 53, 'unabl': 130, 'cathet': 130, 'acl': 4, 'c': 177, 'ast': 48, 'hyperinfl': 5, 'father': 16, 'titl': 38, 'ekg': 67, 'spoke': 86, 'allergi': 82, 'insp': 84, 'distress': 118, 'manual': 14, 'pt': 179, 'ns': 119, 'preren': 12, 'sulcu': 7, 'point': 75, 'undetect': 3, 'need': 155, 'fissur': 12, 'thi': 230, 'apic': 43, 'r': 178, 'transient': 33, 'saw': 64, 'mmhg': 71, 'initi': 132, 'bicarb': 28, 'rml': 18, 'sw': 33, 'anur': 28, 'comparison': 166, 'unsuccess': 37, 'atropin': 8, 'caucasian': 2, 'artic': 2, 'stabl': 177, 'recent': 129, 'trend': 68, 'well': 180, 'pupil': 73, 'feel': 52, 'superimpos': 56, 'pm': 197, 'chemistri': 16, 'legal': 10, 'boot': 52, 'heent': 34, 'could': 111, 'protect': 61, 'atrial': 90, 'chest': 206, 'malign': 32, 'primari': 43, 'b': 106, 'yo': 75, 'echo': 58, 'lactat': 47, 'placement': 143, 'inflammatori': 22, 'attempt': 119, 'htn': 50, 'right': 211, 'ptx': 24, 'understand': 45, 'hemodynam': 111, 'worsen': 162, 'electrolyt': 43, 'degre': 47, 'etiolog': 57, 'interv': 156, 'cvp': 66, 'amp': 21, 'short': 86, 'bandemia': 11, 'peep': 106, 'q': 136, 'clear': 163, ')': 229, 'appropri': 101, 'min': 142, 'venou': 99, 'given': 180, 'eo': 44, 'aspirin': 11, 'normal': 164, 'agre': 84, 'offer': 47, 'vital': 80, 'took': 27, 'l': 171, 'glycem': 62, 'encourag': 43, 'tobacco': 15, 'niec': 13, 'homemak': 1, 'still': 115, 'bipap': 43, 'loss': 52, 'final': 196, 'dr': 150, 'howev': 131, 'amylas': 17, 'gallop': 7, 'anterior': 62, 'presep': 6, 'rate': 165, 'effort': 47, 'visual': 109, 'nutrit': 85, 'ext': 68, 'methylpr': 5, 'tender': 82, 'pneumothorax': 118, 'around': 76, 'deliveri': 63, 'cr': 88, 'dose': 137, 'live': 42, 'diagnosi': 176, 'plt': 82, 'addict': 8, 'experienc': 17, 'inform': 122, 'patient': 205, 'intact': 103, 'found': 81, 'ca': 105, 'detail': 69, 'monitor': 174, 'icu': 108, 'elder': 1, 'mcg': 105, 'wa': 210, 'control': 101, 'set': 141, 'protocol': 57, 'consist': 152, 'hypotens': 131, 'central': 107, 'metabol': 52, 'albuterol': 58, 'tcurrent': 61, 'bilater': 175, 'section': 56, 'differenti': 70, 'endotrach': 98, 'son': 89, 'epinephrin': 9, 'atenolol': 4, 'enzym': 32, 'hepat': 27, 'x': 185, 'tiotropium': 1, 'stress': 66, 'line': 183, 'think': 20, 'veteran': 1, 'low': 172, 'bowel': 151, 'provid': 114, 'product': 99, 'recruit': 14, 'restrict': 24, 'nodular': 15, 'requir': 145, 'hematoma': 20, 'start': 154, 'slide': 50, 'hct': 122, 'ecg': 31, 'volum': 119, 'emphas': 19, 'lipas': 16, 'hilar': 36, 'visit': 106, 'acidem': 4, 'tip': 126, 'impress': 176, 'stomach': 93, 'work': 87, 'clip': 175, 'p': 193, 'occup': 18, 'blocker': 33, 'flowsheet': 113, 'fall': 42, 'rosc': 1, 'use': 112, 'w': 177, 'level': 148, 'along': 46, 'psychiatr': 14, 'dilat': 85, 'multipl': 128, 'depress': 51, '(': 229, 'mono': 43, 'minut': 91, 'lung': 203, 'abov': 158, 'disposit': 64, 'dx': 29, 'inquir': 4, 'function': 95, 'comment': 93, 'add': 51, 'logist': 2, '[': 80, 'propofol': 31, 'condit': 206, 'appoint': 7, 'exchang': 20, 'lobe': 142, 'copi': 13, 'resid': 111, 'followup': 38, 'home': 99, 'tazo': 9, 'member': 57, 'limb': 32, 'neck': 50, 'f': 111, 'notabl': 38, 'prepar': 21, 'went': 50, 'wbc': 131, 'manag': 90, 'woman': 83, 'stroke': 14, 'empir': 36, 'pip': 58, 'gener': 124, 'chief': 63, 'tidal': 47, 'sun': 14, 'albumin': 49, 'acidosi': 70, 'hour': 154, 'intervent': 65, 'pressor': 87, 'radiolog': 68, 'calcif': 59, 'cmh': 51, 'infect': 100, 'hi': 121, 'tc': 12, 'today': 148, 'code': 135, 'jpg': 63, 'agenc': 1, 'nc': 62, 'scale': 61, 'extrem': 141, 'onli': 153, 'expir': 58, 'past': 77, 'alcohol': 15, 'mandat': 6, 'verapamil': 2, 'aroudn': 1, 'progress': 166, 'resuscit': 44, 'tmax': 105, 'aris': 6, 'rij': 35, 'weak': 65, 'contour': 68, 'answer': 59, 'post': 131, 'map': 90, 'grief': 2, 'md': 134, 'n': 70, 'rhythm': 126, 'va': 11, 'trop': 16, 'hyperlipidemia': 9, 'social': 138, ']': 80, 'pleural': 176, 'hco': 15, 'drip': 79, 'arrest': 27, 'obtain': 159, 'sign': 110, 'radiograph': 127, 'suffer': 13, 'pna': 151, 'emot': 68, 'hypovolemia': 12, 'elig': 3, 'histori': 173, 'note': 199, 'immedi': 45, 'sepsi': 79, 'qday': 4, 'mosf': 3, 'statu': 197, 'cultur': 100, 'arf': 34, 'vap': 72, 'simvastatin': 4, 'mass': 65, 'gap': 11, 'amount': 132, 'question': 128, 'exclud': 72, 'mmol': 49, 'signific': 121, 'examin': 202, 'want': 92, 'admit': 194, 'emphysema': 28, 'consolid': 110, 'met': 61, 'sbp': 114, 'got': 28, 'review': 135, 'devic': 94, 'aspir': 108, 'profound': 13, 'event': 121, 'sodium': 63, 'cxr': 136, 'edema': 182, 'pneumonia': 203, 'exam': 110, 'bicarbon': 9, 'po': 143, 'serial': 23, 'pedal': 41, 'girlfriend': 2, 'azotemia': 6, 'licsw': 11, 'phenylephrin': 16, 'check': 116, 'carina': 78, 'infiltr': 112, 'ul': 64, 'exceed': 3, 'inferior': 37, 'recommend': 82, 'sinc': 186, 'drop': 120, 'compar': 163, 'lvef': 38, 'ill': 73, 'autopeep': 6, 'chang': 222, 'extens': 86, 'adl': 9, 'peripher': 97, 'upper': 162, 'femal': 61, 'bpm': 102, 'mg': 163, 'densiti': 45, 'jvp': 18, 'organomegali': 4, 'last': 148, 'meq': 92, 'cage': 1, 'record': 46, 'view': 119, 'fluid': 183, 'pcv': 14, 'marri': 4, 'connect': 7, 'jugular': 68, 'hpi': 58, 'anicter': 12, 'brother': 29, 'might': 41, 'presum': 40, 'block': 44, 'privat': 7, 'phone': 47, 'seem': 69, 'u': 143, 'pco': 36, 'data': 132, 'resp': 163, 'hypothermia': 13, 'bed': 103, 'vasopressin': 27, 'also': 175, 'hypercapnia': 4, 'adjust': 59, '>': 160, 'medic': 217, 'simultan': 2, 'ptt': 80, 'lifelin': 1, 'total': 119, \"c'ed\": 12, 'spokesperson': 10, 'dl': 70, 'pneumoboot': 25, 'sick': 18, 'upright': 57, 'mix': 30, 'alk': 47, 'process': 94, 'seen': 157, 'ml': 99, 'growth': 28, 'discuss': 156, 'evid': 141, 'major': 40, 'ij': 79, 'meal': 10, 'fir': 2, 'access': 113, 'clinic': 117, 'come': 72, 'demonstr': 88, 'hypercapn': 6, 'includ': 113, 'bedsid': 127, 'wait': 34, 'lymph': 71, 'bag': 43, 'speak': 65, 'pre': 73, 'disconnect': 2, 'lower': 166, 'paralyt': 16, 'spent': 65, 'blood': 141, 'like': 172, 'clergi': 16, 'portion': 101, 'express': 42, 'baselin': 86, 'physician': 107, 'involv': 85, 'tachycardia': 94, 'bolus': 98, 'concern': 114, 'anoth': 58, 'ulcer': 81, 'park': 4, 'prior': 186, 'fix': 29, 'complaint': 68, 'k': 116, 'abdomen': 119, 'ph': 61, 'law': 18, 'salmeterol': 1, 'cremat': 3, 'physic': 72, 'boni': 11, 'tube': 161, 'assist': 81, 'non': 170, 'refractori': 8, 'show': 131, 'improv': 167, 'may': 142, 'later': 115, 'daughter': 84, 'form': 38, 'room': 70, 'distant': 27, 'infus': 111, 'mid': 138, 'voltag': 35, 'respiratiori': 1, 'two': 87, 'current': 158, 'leukocytosi': 37, 'cardiomediastin': 48, 'coars': 117, 'nurs': 141, 'norepinephrin': 22, 'ischem': 31, 'aortic': 68, 'sat': 167, 'receiv': 151, 'hazi': 30, 'angl': 28, 'ventilatori': 63, 'addit': 117, 'respiratori': 166, 'attend': 94, 'ventil': 129, 'person': 33, 'list': 25, 'entir': 36, 'mode': 73, 'elderli': 5, '#': 211, 'gaug': 57, 'iadl': 1, 'support': 171, 'e': 64, 'urin': 165, 'stool': 150, 'dvt': 79, 'eeg': 7, 'report': 205, 'ceftriaxon': 24, 'wash': 14, 'soap': 7, 'coccyx': 61, 'made': 180, 'adequ': 106, 'temp': 102, 'gag': 45, 'episod': 87, 'bleed': 77, 'night': 104, 'refer': 33, 'piv': 61, 'dress': 52, 'palpat': 34, 'ps': 81, 'often': 14, 'hourli': 26, 'pale': 39, 'abd': 152, 'limit': 122, 'drawn': 63, 'diminish': 103, 'discourag': 4, 'mdi': 53, 'doppler': 86, 'reassess': 30, 'wheez': 83, 'remain': 193, 'ogt': 71, 'rn': 94, 'sm': 64, 'due': 169, 'notic': 16, 'shift': 155, 'tonoc': 2, 'vanc': 53, 'vt': 87, 'virtual': 4, 'oil': 2, 'obes': 32, 'rla': 2, 'sent': 125, 'inhal': 21, 'greater': 60, 'coccxi': 2, \"'s\": 184, 'atrov': 43, 'ooz': 40, 'good': 119, 'feet': 45, 'extub': 74, 'bloodcultur': 1, 'vss': 32, 'copiou': 49, '@': 110, 'vesta': 15, 'mod': 71, 'psv': 59, 'size': 143, 'track': 29, 'swith': 2, 'suggest': 133, 'updat': 107, 'minimum': 7, 'see': 148, 'sc': 42, 'alert': 78, 'move': 96, 'latest': 34, 'fs': 45, 'gulteal': 1, 'rsc': 8, 'hm': 2, 'restless': 42, 'slightli': 131, 'purpos': 60, 'gm': 40, 'lubric': 3, 'decis': 96, 'effect': 131, 'close': 83, 'comfort': 153, 'cefepim': 27, 'wnl': 82, 'art': 29, 'pace': 23, 'order': 129, 'throughout': 145, 'protud': 1, 'doe': 135, 'fecal': 16, 'clean': 36, 'lll': 64, 'respir': 45, 'cpap': 63, 'decreas': 161, 'touch': 41, 'pinpoint': 12, 'respond': 111, 'tx': 72, 'wheezi': 10, 'sometim': 16, 'gave': 34, 'micro': 24, 'eye': 117, 'cmo': 94, 'nonpurpos': 6, 'dni': 104, 'flexion': 3, 'held': 86, 'back': 136, 'sxning': 8, 'dnr': 138, 'reflex': 33, 'amber': 39, 'sluggish': 21, 'forearm': 8, 'ting': 58, 'restraint': 44, 'sicu': 27, 'occ': 56, 'vers': 68, 'mae': 51, 'make': 108, 'grimac': 39, 'drainag': 53, 'occasion': 89, 'spite': 5, 'freq': 42, 'fld': 14, 'antifung': 13, 'pressur': 128, 'vent': 103, 'matter': 21, 'movement': 112, 'pvc': 73, 'better': 80, 'aeb': 1, 'rsbi': 63, 'stop': 93, 'stage': 53, 'billiou': 1, 'wrist': 41, 'blink': 5, 'nt': 60, 'hemoglobin': 2, 'rt': 68, 'administ': 63, 'sequenti': 2, 'neuro': 134, 'abl': 122, 'cont': 170, 'vari': 13, 'yellow': 111, 'patent': 97, \"'d\": 89, 'success': 48, 'pend': 113, 'rang': 76, 'lo': 43, 'scant': 72, 'rec': 75, 'call': 139, 'nacl': 5, 'overnoc': 38, 'abx': 116, 'prn': 116, 'push': 19, 'maintain': 122, 'stimul': 61, 'reveal': 64, 'perrla': 25, 'heme': 57, 'whole': 8, 'perrl': 55, 'appli': 83, 'lt': 48, 'crackl': 86, 'intermitt': 72, 'ectopi': 98, 'veri': 152, 'done': 111, 'sore': 18, 'heparin': 77, 'gum': 6, 'secret': 124, 'threat': 2, 'anemia': 34, 'vs': 106, 'bolu': 108, 'thick': 126, 'le': 32, 'cmv': 52, 'poc': 35, 'advanc': 92, 'foam': 5, 'awar': 125, 'resolv': 86, 'dampen': 14, 'iv': 179, 'output': 108, 'voic': 72, 'expect': 54, 'hand': 62, 'radial': 94, 'perform': 96, 'bite': 19, 'sedat': 109, 'bacteri': 27, 'unsupport': 1, 'via': 117, 'mental': 66, 'cmx': 3, 'throat': 62, 'toler': 128, 'dri': 78, 'page': 48, 'rest': 85, 'vpace': 4, 'hypoact': 70, 'urinari': 29, 'ls': 113, 'lot': 16, 'less': 111, 'waveform': 34, 'reach': 30, 'contract': 18, 'reciev': 38, 'labil': 29, 'foley': 142, 'sed': 23, 'overbreath': 38, 'inc': 43, 'dk': 11, 'squeez': 16, 'rsccvl': 1, 'sxn': 44, 'flovent': 7, 'goal': 116, 'oral': 113, 'hernia': 19, 'dark': 43, 'duoderm': 30, 'react': 10, 'command': 117, 'equal': 41, 'turn': 98, 'buttock': 26, 'layer': 27, 'epiderm': 1, 'expriatori': 1, 'gi': 145, 'respons': 149, 'npn': 76, 'exp': 45, 'ineffect': 13, 'breast': 10, 'sx': 69, 'site': 79, 'tlcl': 13, 'inplac': 5, 'btwn': 2, 'open': 98, 'v': 104, 'alin': 53, 'detect': 32, 'afebril': 105, 'slough': 5, 'bloodi': 50, 'otherwis': 100, 'tylenol': 66, 'impair': 47, 'dim': 36, 'cc': 156, 'light': 49, 'riss': 39, 'gluteal': 4, 'discomfort': 59, 'tol': 66, 'skin': 153, 'ms': 81, 'carevu': 68, 'amt': 126, 'gu': 110, 'observ': 25, 'nontend': 28, 'posit': 166, 'quadrant': 40, 'alo': 24, 'arm': 78, 'approx': 62, 'tlcvl': 1, 'chng': 1, 'ii': 20, 'morphin': 100, 'sampl': 32, 'accomod': 1, 'residu': 83, 'cream': 38, 'self': 42, 'mm': 122, 'tongu': 13, 'exit': 9, 'suction': 118, 'pain': 164, 'simv': 6, 'ac': 81, 'treat': 105, 'moder': 161, 'warm': 77, 'frequent': 92, 'minim': 147, 'bm': 86, 'meet': 105, 'allevyn': 8, 'base': 165, 'agit': 74, 'convert': 25, 'orient': 78, 'myocardi': 38, 'ra': 68, 'nsr': 75, 'id': 116, 'essenti': 47, 'conduct': 21, 'hosp': 10, 'stand': 42, 'margin': 43, 'dilt': 15, 'confus': 41, 'pass': 86, 'longer': 43, 'maintan': 1, 'sip': 20, '``': 74, 'oxycontin': 3, 'trace': 131, 'hurt': 1, 'diarrhea': 27, 'flare': 6, 'historian': 1, 'floor': 64, 'mushroom': 13, 'ago': 44, 'intrins': 7, 'coumadin': 19, 'hostil': 1, 'unclear': 60, 'overnight': 110, 'safeti': 33, 'precordi': 18, 'paranoid': 2, 'upstair': 1, 'hyperact': 5, \"''\": 67, 'nap': 13, 'liquid': 60, 'twice': 17, 'afib': 54, 'occa': 24, 'away': 28, 'cta': 47, 'diff': 53, 'slept': 28, 'infarct': 60, 'late': 33, 'cap': 24, 'forget': 3, 'golden': 13, 'flagyl': 52, 'neg': 110, 'lopressor': 54, 'specif': 89, 'chronic': 93, 'foleu': 1, 'yesterday': 99, 'ble': 16, 'transit': 44, 'diffus': 115, 'anterolater': 3, 'grand': 5, 'possibl': 165, 'oder': 3, 'take': 85, 'em': 11, 'affect': 16, 'believ': 16, 'wk': 9, 'sta': 2, 'af': 32, 'drowsi': 4, 'gastric': 38, 'patholog': 27, 'float': 4, 'hemorrhag': 59, 'identifi': 69, 'sinus': 23, 'associ': 51, 'flow': 108, 'man': 120, 'mayb': 8, 'paranas': 18, 'overt': 13, 'path': 4, 'nonshadow': 1, 'proxim': 44, 'overload': 65, 'periventricular': 13, 'markedli': 26, 'structur': 66, 'within': 111, 'slow': 50, 'atelectasi': 97, 'common': 31, 'malposit': 10, 'scatter': 47, 'duct': 13, 'irregular': 25, 'complet': 103, 'lentiform': 1, 'chf': 75, 'contrast': 102, 'side': 145, 'multifoc': 68, 'locat': 73, 'segment': 37, 'vascular': 117, 'intracrani': 27, 'singl': 108, 'ball': 3, 'bile': 20, 'cours': 98, 'contraind': 61, 'osseou': 43, 'slight': 83, 'intra': 29, 'apex': 37, 'silhouett': 84, 'obstruct': 80, 'antegrad': 2, 'us': 62, 'mark': 67, 'ge': 14, 'overal': 100, 'hepatopathi': 1, 'midlin': 54, 'thirteen': 2, 'routin': 20, 'cell': 58, 'pulmonari': 179, 'mastoid': 22, 'kidney': 58, 'tachypnea': 53, 'axial': 46, 'white': 79, 'colon': 41, 'persist': 117, 'microvascular': 7, 'hypopharynx': 2, 'gallbladd': 35, 'liver': 57, 'allow': 66, 'measur': 128, 'cirrhosi': 10, 'supin': 58, 'gallston': 13, 'subcort': 3, 'portal': 20, 'surround': 29, 'organ': 59, 'hydronephrosi': 24, 'eval': 127, 'lacunar': 8, 'techniqu': 92, 'mild': 132, 'echotextur': 3, 'esophagu': 19, 'lesion': 61, 'ngt': 69, 'preserv': 24, 'coil': 16, 'inspir': 7, 'date': 125, 'indic': 183, 'tissu': 49, 'ischemia': 46, 'almost': 18, 'biliari': 21, 'focal': 69, 'nuclei': 1, 'vessel': 34, 'junction': 68, 'attenu': 12, 'lft': 27, 'extra': 24, 'air': 121, 'lethargi': 14, 'ventricular': 95, 'oxygen': 102, 'foci': 5, 'find': 179, 'fundu': 9, 'secondari': 79, 'ascit': 36, 'sludg': 5, 'ultrasound': 50, 'avl': 7, 'rotat': 36, 'invers': 16, 'diagnost': 41, 'vein': 73, 'sy': 20, 'request': 90, '^': 31, 'uncomfort': 40, 'piec': 6, 'brown': 74, 'local': 32, 'convers': 34, 'pmicu': 20, 'gauz': 8, 'chart': 32, 'grade': 35, 'tan': 80, 'rll': 66, 'pnx': 13, 'deminish': 10, 'labor': 45, \"'\": 36, 'tickl': 1, 'bring': 13, 'await': 92, 'facial': 20, 'english': 8, 'accept': 44, 'liquidi': 2, 'vea': 25, 'extend': 60, 'febril': 33, 'systol': 99, 'ax': 33, 'mgm': 7, 'per': 161, 'ativan': 65, 'transfer': 91, 'relief': 29, 'whether': 21, 'firm': 37, 'risb': 2, 'yankauer': 5, 'nose': 55, 'mso': 46, \"n't\": 38, 'nsg': 54, 'ho': 53, 'clariti': 3, 'green': 37, 'reposit': 70, 'onc': 87, 'abdomin': 99, 'airway': 80, 'ett': 98, 'male': 76, 'front': 6, 'congest': 78, 'result': 115, 'reslut': 1, 'levoph': 68, 'rectal': 51, 'ob': 25, 'wish': 78, 'kickinga': 1, 'hemodyn': 2, 'fragil': 7, 'unit': 90, 'respalo': 1, 'invas': 69, 'suppositori': 4, 'toe': 24, 'careview': 34, 'modest': 8, 'degrad': 4, 'focu': 47, 'prbc': 51, 'prognosi': 67, 'senna': 24, 'thisk': 1, 'rsmall': 1, 'respalar': 1, 'larg': 137, 'bronch': 44, 'bid': 14, 'ask': 75, 'bronchoscopi': 30, 'numer': 20, 'ing': 10, 'thu': 32, 'senekot': 2, 'fo': 12, 'edemat': 27, 'volvulu': 1, 'pneumon': 20, 'activ': 71, 'wiggl': 6, 'bronchodil': 14, 'necrot': 12, 'eve': 35, 'rhonchi': 68, 'even': 100, 'multi': 47, 'bath': 19, 'subclavian': 51, 'unev': 22, 'collaps': 55, 'mn': 41, 'littl': 91, 'gen': 32, 'cuff': 52, 'precaut': 63, 'extremit': 8, 'ks': 3, 'prolong': 38, 'mv': 28, 'tire': 18, 'pull': 66, 'respirtori': 2, 'grab': 5, 'bow': 3, 'obscur': 41, 'cn': 10, 'vanco': 109, 'unrestrain': 8, 'tri': 79, 'toilet': 45, 'tubefeed': 3, 'institut': 7, 'nod': 42, 'arous': 60, 'rare': 52, 'rd': 14, 'dc': 63, 'said': 27, 'gather': 5, 'spont': 27, 'although': 95, 'peerla': 4, 'complex': 26, 'earlier': 100, 'obstruc': 1, 'lymphadenopathi': 34, 'thorax': 16, 'thrush': 8, 'gross': 16, 'mediastin': 83, 'loop': 48, 'remin': 3, 'sl': 26, 'pox': 6, 'tripl': 31, 'fail': 55, 'max': 69, 'spo': 97, 'high': 133, 'go': 68, 'lasix': 72, 'hypoattenu': 7, 'option': 36, 'pocket': 6, 'tko': 2, 'cx': 85, 'tv': 58, 'nuero': 7, 'optiray': 24, 'dulcolax': 10, 'easili': 44, 'necrosi': 7, 'red': 55, 'alter': 52, 'obviou': 39, 'purpl': 16, 'calm': 29, 'diuresi': 42, 'motion': 58, 'begin': 59, 'inflat': 9, 'cad': 41, 'window': 33, 'spasm': 3, 'probabl': 114, 'respon': 5, 'follw': 7, 'mechan': 69, 'background': 12, 'respalor': 2, 'sd': 5, 'noc': 36, 'mostli': 31, 'amintain': 1, 'ealier': 1, 'respolar': 2, 'run': 62, 'far': 40, 'pit': 29, 'broncial': 2, 'lg': 38, 'object': 62, 'suct': 18, 'andswer': 1, 'ther': 3, 'proceedur': 1, 'pleuracentesi': 1, 'anasarca': 31, 'metronidazol': 16, 'opacifi': 12, 'risk': 62, 'obj': 1, 'somewhat': 53, 'therapi': 87, 'restart': 75, 'put': 55, 'noxiou': 28, 'cancer': 41, 'restaint': 2, 'gd': 10, 'postobstruct': 3, 'inconsist': 15, 'patchi': 41, 'becom': 80, 'hypotent': 6, 'mrsa': 35, 'benefit': 36, 'tachycard': 47, 'feed': 87, 'board': 19, 'lay': 5, 'contain': 19, 'cathart': 2, 'staff': 47, 'leg': 46, 'facil': 12, 'uprbc': 14, 'shake': 26, 'cardio': 15, 'letharg': 49, 'paraesophag': 2, 'visibl': 30, 'area': 117, 'cabg': 17, 'verbal': 82, 'lumen': 74, 'uo': 65, 'viabl': 3, 'doze': 10, 'svt': 24, 'pmd': 1, 'help': 71, 'noo': 1, 'sleep': 84, 'approp': 5, 'withdraw': 68, 'pndg': 3, 'housestaff': 8, 'risen': 1, 'difficult': 119, 'reactiv': 47, 'whiteish': 1, 'hiatal': 9, 'concentr': 25, 'half': 17, 'suport': 3, 'simpl': 70, 'hd': 40, 'narr': 9, 'pl': 28, 'space': 48, 'came': 51, 'stim': 13, 'ad': 62, 'vsl': 1, 'ivb': 9, 'metrondiazol': 1, 'integr': 35, 'opacif': 92, 'immobl': 3, 'thru': 14, 'sine': 1, 'period': 73, 'bone': 34, 'inconsistantli': 4, 'neoplasm': 10, 'fever': 94, 'ionic': 3, 'hemolyz': 1, 'bibasilar': 66, 'bulki': 2, 'coronari': 34, 'reduc': 42, 'togeth': 9, 'airspac': 43, 'get': 98, 'dd': 3, 'integ': 18, 'colac': 37, 'liter': 80, 'heavi': 14, 'pearl': 11, 'titrat': 106, 'enlarg': 79, 'ray': 54, 'fair': 32, 'poorli': 33, 'priest': 27, 'pronounc': 64, 'sheet': 37, 'nevertheless': 3, 'ab': 22, 'siderail': 6, 'regard': 83, 'alarm': 28, 'reccomend': 3, 'color': 97, 'pulm': 97, '^^': 11, 'biopsi': 15, 'outsid': 15, 'cpa': 2, 'givn': 5, 'kick': 5, 'bue': 12, 'thought': 39, 'stimuli': 104, 'sediment': 37, 'maximum': 7, 'pheripher': 1, 'perla': 15, 'fi': 37, 'bcx': 13, 'climb': 16, 'round': 66, 'fluctuat': 14, 'repond': 2, 'stabil': 29, 'partial': 53, 'ah': 3, 'grim': 6, 'overinfl': 3, 'palpabl': 33, 'icreas': 1, 'organo': 1, 'awak': 62, 'obey': 11, 'dead': 22, 'uop': 56, 'spike': 28, 'sourc': 62, 'nd': 51, 'middl': 32, 'antb': 5, 'darker': 2, 'tl': 7, 'diseas': 118, 'look': 56, 'suspici': 28, 'pleas': 158, 'comlet': 1, 'decidd': 1, 'face': 59, 'crest': 1, 'reevalu': 12, 'narcot': 13, 'bo': 5, 'mainli': 12, 'accord': 30, 'tear': 34, 'saturday': 10, 'shortli': 15, 'becaus': 42, 'asystol': 33, 'paramet': 27, 'antibx': 39, 'pulmon': 32, 'reportedli': 16, 'young': 1, 'hypoxia': 104, 'quickli': 45, 'paradox': 13, 'mattress': 13, 'redden': 25, 'haldol': 21, 'ectub': 1, 'wors': 53, 'pink': 49, 'three': 35, 'cpt': 34, 'pan': 30, 'plateau': 43, 'perihilar': 37, 'desatur': 58, 'avail': 65, 'fe': 6, 'alveolar': 33, 'nasogastr': 79, 'loos': 52, 'life': 29, 'hx': 59, 'satisfactori': 23, 'talk': 52, 'mortem': 12, 'ensu': 2, 'remai': 2, 'surgic': 44, 'word': 24, 'bye': 6, 'lrge': 1, 'trach': 40, 'plug': 43, 'bilat': 73, 'reintub': 19, 'theraput': 2, 'node': 33, 'teen': 29, 'iliac': 10, 'depth': 4, 'fiber': 16, 'centimet': 12, 'problem': 55, 'constantli': 11, 'pap': 18, 'remov': 110, 'complianc': 30, 'dispo': 43, 'dysynchroni': 34, 'belli': 8, '&': 126, 'therapeut': 36, 'began': 33, 'notifi': 87, 'beyond': 23, 'sump': 3, 'difficulti': 61, 'strong': 37, 'letter': 4, 'treatment': 90, 'definit': 48, 'fib': 47, 'pattern': 79, 'interact': 22, 'zone': 30, 'sharp': 13, 'alreadi': 27, 'decison': 1, 'bun': 98, 'comfirm': 1, 'criteria': 18, 'intens': 5, 'dramat': 8, 'acv': 10, 'quit': 28, 'steadili': 3, 'doxycyclin': 2, 'yet': 46, 'mildli': 76, 'movment': 3, 'incres': 2, 'mcq': 15, 'nonspecif': 26, 'knob': 3, 'substanti': 44, 'totol': 1, 'rebolu': 1, 'contist': 1, 'anesthesia': 29, 'interstiti': 59, 'breathsound': 5, 'fb': 18, 'yest': 13, 'shoulder': 19, 'vol': 44, 'coocyx': 1, 'let': 19, 'overli': 45, 'incr': 10, 'satur': 48, 'perl': 27, 'sbt': 31, 'lnc': 14, 'tracheostomi': 33, 'tlc': 31, 'ild': 5, 'cl': 19, 'hardwar': 6, 'contempl': 1, 'synch': 8, 'promot': 19, 'extent': 39, 'confort': 4, 'everyth': 9, 'grandson': 6, 'mad': 4, 'instabl': 24, 'kcl': 40, 'regimin': 4, 'tachypn': 56, 'toliet': 5, 'pursu': 19, 'moment': 10, 'mask': 66, 'agreement': 26, 'lavag': 30, 'evelv': 1, 'ensur': 15, 'bb': 33, 'healthi': 5, 'functin': 1, 'spon': 11, 'befor': 76, 'ngtd': 22, 'breakdown': 46, 'calcifi': 33, 'settl': 27, 'infil': 1, 'tent': 28, 'becam': 89, 'autoflow': 28, 'divid': 10, 'levo': 67, 'lightli': 16, 'soon': 21, 'lpm': 5, 'wife': 53, 'fibrosi': 20, 'og': 51, 'respondibng': 1, 'give': 77, 'term': 43, 'tomorrow': 65, 'combiv': 13, 'swell': 22, 'desat': 66, 'grandchildren': 2, 'way': 32, 'borderlin': 49, 'wrote': 7, 'excel': 15, 'pictur': 20, 'maew': 4, 'na': 39, 'rectum': 26, 'hard': 23, 'continnu': 2, 'pb': 3, 'azygo': 4, 'nrb': 46, 'cre': 7, 'lighter': 2, 'kq': 2, 'aprv': 4, 'vomit': 30, 'summeri': 1, 'levoflox': 29, 'doubl': 34, 'fruit': 1, 'hiflow': 4, 'punctur': 15, 'mgx': 3, 'especi': 22, 'obatin': 2, 'implant': 2, 'babi': 2, 'retinopathi': 1, 'sync': 7, 'stamp': 1, 'atrium': 66, 'np': 15, 'plu': 13, 'througout': 5, 'dopa': 7, 'sleev': 3, 'apart': 5, 'els': 8, 'procedur': 99, 'descis': 1, 'ass': 9, 'asleep': 14, 'anywher': 4, 'ss': 31, 'weepi': 2, 'amnt': 2, 'coliti': 19, 'lat': 11, 'fm': 15, 'fell': 16, 'azithromycin': 22, 'lorazepam': 16, 'return': 91, 'intak': 43, 'slowli': 52, 'age': 21, 'sob': 79, 'mucou': 35, 'surviv': 11, 'magso': 2, 'guaifenesin': 3, 'ppn': 4, 'mani': 40, 'straight': 3, 'muscl': 58, 'gaurdianship': 1, 'syrup': 2, 'wear': 10, 'void': 21, 'dyspneic': 9, 'bacitracin': 1, 'sister': 43, 'wind': 1, 'poss': 21, 'antecub': 4, 'incont': 9, 'inflam': 4, 'awaken': 14, 'fine': 24, 'picc': 59, 'cathol': 8, 'qhr': 5, 'enc': 5, 'stat': 21, 'induct': 3, 'peac': 12, 'welfar': 1, 'diet': 57, 'gluc': 5, 'tfr': 1, 'chaplain': 5, 'children': 24, 'confirm': 83, 'reorient': 15, 'spanish': 3, 'aunt': 2, 'cover': 72, 'ox': 23, 'moniotr': 4, 'bedpan': 4, 'caus': 63, 'pcp': 36, 'carinii': 2, 'confluent': 23, 'mention': 20, 'frequenc': 13, 'closer': 4, 'pnd': 27, 'thank': 19, 'shallow': 21, 'food': 18, 'juic': 5, 'oj': 1, 'fingerstick': 17, 'tenuou': 24, 'membran': 10, 'fluconazol': 9, 'restr': 2, 'tolarg': 1, 'potenti': 48, 'pr': 49, 'name': 30, 'softli': 24, 'soc': 21, 'nasal': 59, 'much': 83, 'dip': 12, 'pn': 6, 'guid': 28, 'disori': 7, 'rail': 3, 'save': 3, 'softner': 1, 'recov': 26, 'whi': 15, 'assum': 10, 'antigen': 11, 'exert': 9, 'pleurit': 4, 'balloon': 14, 'address': 43, 'endo': 54, 'custard': 3, 'tommorrow': 9, 'axitey': 1, 'nr': 5, 'unsaf': 3, 'center': 17, 'listen': 5, 'spell': 4, 'anxieti': 44, 'occular': 1, 'compr': 1, 'fx': 10, 'guardian': 6, 'cannula': 38, 'lunch': 4, 'hover': 5, 'incontin': 19, 'cdiff': 19, 'cramp': 1, 'sporad': 2, 'noon': 29, 'bigger': 2, 'qod': 4, 'nrbm': 4, 'humidifi': 12, 'pneumocysti': 5, 'lnp': 4, 'basil': 12, 'watch': 16, 'neb': 70, 'aaox': 2, 'codein': 8, 'specimen': 22, 'psi': 6, 'pu': 2, 'stick': 48, 'palp': 15, 'shovel': 10, 'reg': 28, 'anxiou': 53, 'fungal': 19, 'send': 38, 'overcom': 2, 'mother': 27, 'sugar': 32, 'zosyn': 67, 'free': 97, 'quad': 12, 'occassion': 12, 'trigger': 39, 'exurt': 1, 'bit': 22, 'water': 54, 'replac': 55, 'hypox': 45, 'decr': 6, 'heplock': 6, 'eat': 26, 'ice': 10, 'ltr': 1, 'lost': 7, 'bay': 1, 'coverag': 67, 'kid': 2, 'npc': 5, 'isol': 16, 'sedimen': 2, 'fit': 5, 'assign': 4, 'accessori': 31, 'nonprod': 2, 'lack': 28, 'duski': 10, 'vision': 12, 'chip': 5, 'minor': 8, 'draw': 44, 'visitor': 13, 'induc': 23, 'felt': 44, 'deteri': 1, 'episdo': 1, 'deficit': 14, 'fa': 8, 'financila': 1, 'alseep': 1, 'hyponatremia': 6, 'xray': 28, 'fro': 7, 'machin': 13, 'pag': 3, 'hiv': 5, 'fsb': 18, 'nonproduct': 10, 'appetit': 13, 'ect': 5, 'leav': 26, 'cleans': 18, 'qualiti': 54, 'wire': 36, 'ir': 24, 'consent': 39, 'extext': 3, 'femor': 39, 'tid': 31, 'toxic': 17, 'unchg': 1, 'hrli': 2, 'moistur': 7, 'ip': 27, 'opsit': 2, 'hemodialysi': 16, 'greatli': 8, 'co': 66, 'entri': 9, 'lidocain': 19, 'aloevesta': 2, 'standard': 78, 'sanguin': 6, 'fulli': 38, 'french': 20, 'axillari': 42, 'edg': 6, 'ivp': 56, 'micropunctur': 11, 'peel': 16, 'blb': 9, 'desynchroni': 1, 'hg': 52, 'quentin': 1, 'particip': 14, 'duplex': 10, 'lido': 2, 'afeb': 20, 'rusti': 9, 'hep': 31, 'daili': 72, 'aerat': 47, 'corneal': 18, 'hytap': 1, 'restrain': 17, 'postion': 4, 'bacteremia': 10, 'toward': 45, 'dialysi': 41, 'pacemak': 15, 'dysfunct': 42, 'cvvhdf': 6, 'prednison': 22, 'radiologist': 17, 'pfr': 7, 'deep': 40, 'absorbs': 1, 'secur': 31, 'scrub': 1, 'jeopard': 1, 'oh': 1, 'fibril': 54, 'tract': 17, 'hemhroid': 1, 'fluoroscop': 18, 'vtach': 15, 'chged': 1, 'surgigel': 3, 'mech': 17, 'neosynephrin': 18, 'fem': 19, 'clot': 41, 'fent': 46, 'coarser': 1, 'dermabond': 1, 'barrier': 38, 'plct': 10, 'tte': 46, 'tell': 11, 'sch': 11, 'pneumo': 13, 'assessment': 1, 'overnit': 3, 'aquacel': 6, 'suboptim': 28, 'tortuou': 13, 'semi': 40, 'lump': 2, 'wob': 31, 'agon': 24, 'switch': 47, 'attent': 41, 'accompani': 24, 'wo': 6, 'revis': 9, 'say': 34, 'configur': 8, 'thoracentesi': 21, 'anatomi': 5, 'tele': 18, 'streak': 10, 'ar': 28, 'pulseless': 6, 'cbc': 21, 'jerki': 1, 'pill': 13, 'fellow': 39, 'chg': 9, 'bigemini': 8, 'blade': 2, 'branch': 34, 'armboard': 1, 'util': 19, 'steroid': 42, 'lyte': 79, 'lock': 4, 'insomnia': 4, 'complic': 61, 'drape': 15, 'pacer': 12, 'ecchymot': 9, 'load': 27, 'sput': 14, 'sux': 5, 'five': 3, 'cal': 13, 'direct': 38, 'tannish': 8, 'heel': 14, 'fentanyl': 79, 'vena': 25, 'poe': 10, 'anti': 22, 'upon': 57, 'pericardium': 39, 'stuck': 5, 'fluoro': 13, 'necessari': 40, 'gr': 10, 'plaement': 1, 'citrat': 6, 'tone': 60, 'wall': 84, 'chamber': 21, 'guiac': 20, 'obvious': 6, 'fire': 2, 'posterior': 48, 'contin': 12, 'bil': 39, 'cyu': 6, 'spt': 2, 'kinair': 7, 'predominantli': 25, 'syst': 1, 'creat': 70, 'inject': 19, 'iintub': 1, 'thin': 69, 'sternal': 18, 'hit': 14, 'guidanc': 19, 'oett': 15, 'rx': 36, 'cardiolog': 24, 'leaflet': 39, 'dced': 3, 'paper': 6, 'adaptic': 1, 'lascer': 1, 'anyth': 17, 'angiograph': 9, 'wide': 35, 'rrt': 16, 'decub': 12, 'emerg': 28, 'aicd': 3, 'vasopressor': 21, 'sero': 3, 'mlc': 2, 'chge': 1, 'supervis': 12, 'cava': 25, 'clearer': 12, 'damp': 4, 'alleyvn': 1, 'fairli': 21, 'cath': 77, 'shown': 12, 'cardiomegali': 48, 'sheath': 21, 'hydrocortison': 11, 'rxed': 1, 'dsg': 34, 'hypokinesi': 25, 'subcutan': 23, 'temperatur': 28, 'thicken': 66, 'qid': 24, 'tabl': 14, 'replct': 10, 'supervisig': 1, 'deliv': 12, 'bypass': 7, 'dsging': 1, 'technic': 50, 'nite': 2, 'adequato': 1, 'ef': 43, 'asymmetr': 24, 'lift': 7, 'anticip': 21, 'xylocain': 1, 'interrog': 1, 'moist': 14, 'valv': 58, 'interpret': 59, 'aquasel': 1, 'mortum': 4, 'either': 36, 'weight': 86, 'resum': 37, '^^wob': 2, 'bundl': 29, 'mexiliten': 1, 'steril': 25, 'mexiletin': 1, 'cvvh': 17, 'rib': 15, 'graft': 9, 'fashion': 16, 'dsd': 18, 'cp': 29, 'readjust': 6, 'acidot': 23, 'ppi': 49, 'project': 53, 'mitral': 44, 'midnit': 2, 'till': 19, 'crit': 15, 'tunnel': 8, 'depart': 8, 'needl': 13, 'sutur': 17, 'cavoatri': 28, 'tape': 21, 'hemodi': 2, 'aorta': 65, 'reseal': 1, 'everi': 29, 'th': 19, 'fractur': 25, 'quiac': 5, 'adapt': 13, 'rv': 38, 'guidewir': 10, 'ccu': 13, 'reject': 1, 'lessen': 4, 'ventricl': 59, 'seriou': 7, 'prolen': 1, 'cvvhd': 14, 'interatri': 30, 'defibril': 10, 'amiodaron': 22, 'seal': 17, 'prep': 20, 'transven': 4, 'jerk': 4, 'beat': 46, 'belong': 14, 'documetn': 1, 'deterior': 30, 'wound': 32, 'knee': 8, 'inch': 46, 'soften': 3, 'readi': 37, 'dual': 14, 'equivoc': 6, 'septal': 28, 'incis': 9, 'venopunctur': 2, 'precis': 4, 'diminsh': 13, 'regurgit': 42, 'lv': 38, 'bsa': 32, 'grossli': 46, 'leak': 50, 'patenc': 9, 'melanot': 1, 'screen': 24, 'ideal': 40, 'nutren': 25, 'consumpt': 2, 'ica': 6, 'suppport': 6, 'lb': 38, 'height': 77, 'flush': 45, 'hemothorax': 6, 'told': 18, 'compens': 21, 'creation': 1, 'dup': 4, 'vassopressin': 2, 'inpati': 43, \"'ll\": 1, 'gel': 9, 'usual': 31, 'conclus': 47, 'test': 65, 'weep': 16, 'explain': 46, 'focus': 27, 'multipodu': 8, 'reduct': 13, 'tap': 21, 'crrt': 11, 'septum': 33, 'percutan': 4, 'pla': 1, 'number': 30, 'superior': 42, 'reappli': 3, 'fluc': 2, 'fingertip': 2, 'fasia': 1, 'sacral': 10, 'secreat': 24, 'sad': 5, 'scrotal': 4, 'smaller': 23, 'gase': 11, 'ear': 60, 'hope': 41, 'briskli': 7, 'dtr': 28, 'cagluc': 4, 'larger': 30, 'plane': 7, 'among': 6, 'relax': 11, 'bare': 7, 'heat': 2, 'ultrafiltr': 4, 'refil': 6, 'di': 5, 'wherea': 2, 'glu': 8, 'quintin': 2, 'msi': 2, 'preop': 1, 'dopp': 4, 'grayish': 3, 'br': 3, 'content': 17, 'infrequ': 12, 'bilingu': 1, 'vaselin': 2, 'mucousi': 2, 'protonix': 38, 'lw': 9, 'licw': 2, 'assit': 2, 'peri': 15, 'length': 26, 'meticul': 2, 'levofloxicin': 1, 'translat': 10, 'slogh': 1, 'die': 31, 'filter': 13, 'towel': 4, 'occl': 1, 'dicat': 1, 'dm': 23, 'brb': 9, 'fear': 8, 'rle': 5, 'incisin': 1, 'mulit': 2, 'clacium': 1, 'finger': 44, 'rlle': 1, 'bright': 12, 'administr': 37, 'dra': 1, 'clamp': 24, 'linear': 11, 'pitressin': 7, 'frequet': 1, 'schedul': 36, 'requirin': 1, 'serou': 26, 'nectot': 1, 'ion': 3, 'accesori': 2, 'levof': 7, 'rewir': 3, 'cloudi': 28, 'lingular': 3, 'palm': 1, 'esrd': 14, 'patch': 28, 'vigor': 15, 'desir': 23, 'sacrum': 13, 'tremor': 9, 'tm': 12, 'scrotum': 6, 'bulb': 2, 'delin': 4, 'mulitpl': 3, 'gastrectomi': 1, 'vitamin': 14, 'hypotherm': 19, 'correct': 33, 'battl': 1, 'escar': 1, 'near': 36, 'elimin': 7, 'bld': 25, 'portugues': 1, 'bagdsd': 1, 'chanc': 7, 'tpn': 27, 'maroon': 8, 'bg': 15, 'jp': 4, 'evel': 2, 'suit': 6, 'foul': 5, 'multisystem': 5, 'quinton': 3, 'blue': 12, 'qd': 22, 'cooler': 4, 'attitud': 1, 'gratitud': 3, 'wt': 7, 'wd': 3, 'aid': 21, 'end': 90, 'stiff': 11, 'gelatin': 2, 'placemen': 1, 'sctotum': 1, 'ioniz': 34, 'follwo': 2, 'consid': 99, 'bair': 18, 'umbil': 2, 'tpa': 6, 'inciis': 1, 'rise': 50, 'minior': 2, 'emesi': 21, 'languag': 14, 'rue': 13, 'bilou': 3, 'uffp': 4, 'unless': 12, 'apneic': 12, 'fore': 1, 'avpac': 2, 'first': 47, 'nearli': 10, 'step': 21, 'import': 9, 'coag': 26, 'upc': 1, 'recheck': 40, 'irrig': 15, 'pick': 17, 'determin': 43, 'miss': 4, 'cyanot': 14, 'unequ': 6, 'asp': 27, 'fighter': 2, 'separ': 5, 'realiti': 2, 'gromac': 1, 'lengthi': 5, 'ctic': 1, 'caludin': 1, 'butt': 2, 'spend': 5, 'compromis': 25, 'lle': 8, 'bodi': 79, 'hesit': 3, 'pager': 10, 'pray': 6, 'estrem': 1, 'fight': 3, 'hungri': 7, 'brownish': 11, 'weekend': 21, 'friendli': 1, 'biliou': 25, 'briefli': 35, 'neurolog': 63, 'collect': 43, 'diaphragm': 51, 'trust': 2, 'heal': 18, 'describ': 38, 'defib': 2, 'stapl': 4, 'spiritu': 4, 'brought': 32, 'incison': 1, 'kvo': 22, 'woud': 1, 'great': 28, 'glucon': 13, 'accur': 15, 'least': 44, 'flagli': 1, 'perfus': 24, 'apnea': 21, 'best': 29, 'tonight': 45, 'lue': 18, 'ue': 21, 'scl': 4, 'areaa': 1, 'cpncp': 1, 'intrus': 1, 'forehead': 4, 'sao': 25, 'manitain': 2, 'pleth': 5, 'nml': 5, 'hugger': 20, 'mucoid': 3, 'av': 17, 'exposur': 8, 'convict': 1, 'mtg': 27, 'yankaur': 7, 'purul': 9, 'aggreement': 1, 'rhonchor': 43, 'swollen': 14, 'comress': 1, 'pac': 35, 'surgeri': 45, 'twenti': 4, 'gentli': 7, 'drb': 2, 'sec': 24, 'ethic': 8, 'hypo': 22, 'occur': 34, 'reconcil': 1, 'kept': 38, 'scan': 57, 'ffp': 24, 'levoquin': 13, 'purluant': 1, 'draing': 6, 'futur': 27, 'etc': 32, 'declin': 66, 'rom': 10, 'tmap': 1, 'adb': 1, 'lc': 9, 'shut': 28, 'passiv': 3, 'exhaust': 4, 'vnet': 1, 'fri': 24, 'drianag': 1, 'lengthli': 1, 'appreci': 64, 'gib': 11, 'ie': 7, 'wonder': 3, 'black': 11, 'distal': 59, 'wed': 28, 'digit': 3, 'survail': 1, 'never': 14, 'auscult': 33, 'vioxx': 1, \"tf'ing\": 9, 'meanwhil': 1, 'correl': 59, 'symptomat': 6, 'resent': 4, 'target': 10, 'dorsali': 9, 'douderm': 4, 'emycin': 2, 'rigid': 7, 'item': 3, 'receic': 1, 'brief': 27, 'fifteen': 1, 'brisk': 35, 'paco': 12, 'thigh': 10, 'dvd': 1, 'increaseda': 1, 'sq': 44, 'somul': 4, 'spec': 31, 'surfac': 7, 'seret': 1, 'roommat': 1, 'consi': 1, 'net': 16, 'dialyisi': 1, 'card': 42, 'glargen': 2, 'ayt': 1, 'nepro': 6, 'aim': 13, 'warmer': 4, 'nervous': 1, 'quo': 2, 'frame': 4, 'bradycard': 16, 'type': 62, 'gnd': 2, 'resolut': 29, 'gabapentin': 2, 'flat': 32, 'stimulu': 13, 'remav': 1, 'taut': 1, 'dialysis': 2, 'lie': 24, 'beir': 1, 'oncpap': 1, 'upset': 14, 'appropriatli': 7, 'tight': 13, 'hypoglycem': 2, 'huge': 5, 'rabbi': 6, 'mvr': 2, 'reaction': 40, 'uq': 1, 'bairhugg': 6, 'neutrapho': 5, 'asymthomat': 1, 'graviti': 16, 'dializ': 2, 'nbp': 36, 'reddish': 1, 'protein': 30, 'norepi': 7, 'peroxid': 1, 'asymptomat': 8, 'advers': 12, 'rhonchial': 2, 'drsg': 11, 'drive': 16, 'shook': 2, 'noiw': 1, 'grip': 5, 'enjoy': 4, 'msicu': 1, 'stau': 5, 'atro': 7, 'tirtat': 1, 'suc': 1, 'break': 20, 'tast': 1, 'calibr': 3, 'parti': 1, 'prayer': 8, 'snd': 9, 'valu': 36, 'glargin': 5, 'chem': 9, 'bruis': 18, 'addendeum': 1, 'nausea': 28, 'ced': 11, 'blanket': 17, 'photo': 1, 'subsid': 3, 'jitteri': 2, 'gradual': 21, 'ran': 5, 'gt': 7, 'couplet': 3, 'aprox': 1, 'tgd': 1, 'enough': 24, 'stoma': 5, 'sxtn': 3, 'inccreas': 1, 'mean': 18, 'prob': 8, 'begun': 8, 'hob': 49, 'lethgar': 1, 'withdrawn': 20, 'visabl': 1, 'main': 45, 'luck': 2, 'cri': 16, 'unlik': 35, 'mr': 68, 'alot': 7, 'nkda': 11, 'absorb': 8, 'peroid': 1, 'eas': 11, 'ssri': 10, 'ten': 3, 'glug': 1, 'intermit': 9, 'oob': 18, 'part': 40, 'ivpb': 2, 'happen': 9, 'lsc': 8, 'fromn': 2, 'erythromycin': 6, 'compliant': 7, 'town': 7, 'stpo': 1, 'shop': 1, 'duodersm': 1, 'gauard': 1, 'discard': 4, 'messag': 7, 'excori': 11, 'challang': 1, 'peg': 31, 'phenergan': 1, 'cope': 25, 'door': 3, 'torso': 25, 'refus': 32, 'pa': 51, 'stumul': 1, 'sucion': 1, 'sleepi': 6, 'recal': 3, 'dialys': 2, 'beinfit': 1, 'flsd': 1, '}': 64, 'fianrd': 1, 'happi': 7, 'uppr': 1, 'decubitu': 15, 'except': 94, 'hy': 1, 'polymorph': 3, 'derm': 7, 'bronc': 2, 'reflect': 49, 'expiratori': 20, 'disscuss': 1, 'blding': 1, 'prev': 8, 'canula': 6, 'settin': 1, 'tend': 12, 'loc': 8, 'mentat': 5, 'butr': 1, 'pp': 24, 'sprint': 1, 'corrul': 1, 'asssess': 1, 'account': 9, 'endoc': 11, 'oint': 2, 'mobil': 10, 'salin': 20, 'bottom': 4, 'ssi': 30, 'profoundli': 3, 'reasobali': 1, 'hydrogen': 1, 'infact': 2, 'dialyz': 6, 'lavarg': 3, 'trial': 45, 'fuild': 1, 'shoot': 1, 'modul': 1, 'exercis': 10, 'properli': 11, 'tarri': 2, 'compress': 52, 'admin': 13, 'weaker': 5, 'blanchabl': 2, 'trachesotomi': 1, 'nahco': 6, 'pad': 23, 'match': 7, 'motil': 13, 'sours': 2, 'bout': 4, 'surpris': 2, '{': 64, 'pic': 16, 'minimali': 2, 'puff': 2, 'pgt': 3, 'neo': 37, 'pleasant': 14, 'stale': 1, 'yel': 1, 'saddl': 1, 'afterward': 8, 'walk': 9, 'epo': 1, 'rul': 49, 'hhad': 1, 'ashen': 4, 'carevi': 1, 'titer': 2, 'kub': 19, 'discoordin': 8, 'poitiv': 1, 'valuabl': 21, 'pleasur': 2, 'woken': 4, 'marroon': 1, 'write': 15, 'hs': 11, 'cooper': 26, 'intercanula': 1, 'easi': 5, 'absorbt': 2, 'prisma': 1, 'ambu': 15, 'mst': 1, 'quiet': 33, 'audibl': 25, 'label': 1, 'unsustain': 2, 'dilaudid': 9, 'adminsit': 1, 'someth': 8, 'week': 49, 'true': 8, 'grin': 1, 'chair': 17, 'hemo': 2, 'promod': 5, 'gain': 7, 'clearanc': 7, 'depend': 55, 'slint': 1, 'decent': 3, 'comput': 3, 'highli': 8, 'ventolin': 2, 'player': 1, 'rhochi': 1, 'li': 9, 'hem': 8, 'ic': 2, 'soda': 1, 'lantu': 4, 'morgu': 17, 'req': 18, 'throught': 3, 'reincert': 1, 'hig': 3, 'yl': 1, 'distract': 1, 'pk': 3, 'sxing': 15, 'ongo': 30, 'pseudamona': 1, 'sure': 16, 'gentleman': 6, 'ach': 2, 'caregiv': 3, 'autopsi': 37, 'mf': 2, 'bank': 15, 'reserv': 12, 'colleg': 1, 'anniversari': 1, 'periph': 4, 'ileu': 21, 'cipro': 19, 'abc': 2, 'perlla': 1, 'session': 3, 'minit': 1, 'multipod': 1, 'crx': 2, 'discharg': 32, 'circuit': 7, 'liq': 15, 'infreq': 2, 'sentenc': 7, 'discolor': 4, 'redraw': 5, 'bactrim': 18, 'atr': 9, 'zero': 14, 'iii': 13, 'delay': 32, 'prone': 6, 'foot': 17, 'hip': 20, 'coumidin': 1, 'drift': 13, 'mbp': 2, 'perin': 3, 'clock': 4, 'ked': 1, 'coupl': 23, 'inner': 10, 'mouht': 1, 'chane': 3, 'broncheal': 1, 'aggit': 12, 'build': 2, 'stem': 11, 'environ': 11, 'greenish': 11, 'strength': 19, 'written': 31, 'initit': 2, 'pharm': 2, 'pul': 11, 'heard': 21, 'concernsa': 1, 'achi': 1, 'endocrin': 21, 'sml': 13, 'chunki': 2, 'catch': 1, 'finish': 11, 'bedrest': 4, 'subtherapeut': 4, 'triadyn': 7, 'nss': 5, 'pigtail': 9, 'escal': 30, 'antidepress': 3, \"'m\": 4, \"'ve\": 2, 'relat': 81, 'gtube': 3, 'granula': 1, 'appar': 47, 'tue': 28, 'vbg': 12, 'shape': 7, 'antibodi': 8, 'drink': 10, 'repeatedli': 9, 'facilit': 14, 'reliev': 17, 'alb': 25, 'asynchron': 3, 'mucomyst': 8, 'duederm': 1, 'troubl': 7, 'secrtion': 1, 'avoid': 31, 'realli': 11, 'nwith': 1, 'tachi': 31, 'mucu': 22, 'pretti': 4, 'empti': 6, 'render': 3, 'rehab': 39, 'perk': 2, 'nois': 4, 'freg': 2, 'primarili': 18, 'sid': 1, 'clearli': 30, 'station': 3, 'fewer': 4, 'expans': 50, 'waen': 1, 'ope': 2, 'oincreas': 1, 'bc': 20, 'stare': 3, 'higher': 41, 'awok': 3, 'resist': 28, 'vue': 6, 'caution': 3, 'herniat': 2, 'significantli': 58, 'atc': 11, 'pseudomona': 11, 'transport': 48, 'eccymoisi': 1, 'heperin': 2, 'inlin': 1, 'acknowledg': 10, 'portex': 6, 'atool': 1, 'multip': 1, 'thing': 15, 'superfici': 18, 'integumentari': 13, 'worker': 22, 'erythro': 3, 'rehydr': 2, 'peak': 28, 'zofran': 9, 'renmain': 1, 'uf': 35, 'dp': 72, 'diamet': 28, 'pvd': 14, 'disturb': 4, 'si': 5, 'seizur': 23, 'dyspnea': 53, 'sp': 17, 'coffe': 12, 'hydrat': 23, 'midodrin': 3, 'trail': 5, 'flatu': 17, 'reassur': 23, 'oth': 2, 'perianl': 1, 'fan': 1, 'rhoncher': 9, 'rrectal': 1, 'skew': 1, 'balnac': 1, 'ok': 37, 'cd': 17, 'nonsustain': 1, 'acidod': 2, 'syring': 8, 'nickel': 1, 'accuraci': 3, 'unsuccessful': 2, 'nnpn': 1, 'perineum': 9, 'memori': 6, 'freeli': 3, 'bond': 3, 'escap': 1, 'reglan': 18, 'tighten': 7, 'rythm': 5, 'ectop': 6, 'dest': 1, 'spoken': 10, 'adm': 23, 'bronchospasm': 6, 'metastasi': 4, 'gc': 3, 'carcinoma': 18, 'carotid': 17, 'sulci': 16, '^rr': 4, 'unstabl': 30, 'rather': 26, 'rash': 42, 'solumedrol': 19, 'supress': 2, 'burst': 16, 'breat': 2, 'mlph': 1, 'sulphat': 1, 'brain': 27, 'newli': 32, 'prelim': 13, 'squamou': 7, 'irrit': 9, 'guifenasin': 1, 'jaw': 5, 'pet': 6, 'niv': 12, 'sudden': 11, 'nil': 1, 'edt': 3, 'commenc': 6, 'sponten': 1, 'sato': 2, 'fidgiti': 1, 'faint': 8, 'tot': 1, 'oncolog': 15, 'nad': 21, 'hunger': 8, 'indigest': 1, 'coagul': 5, 'exact': 5, 'diagnos': 15, 'nodul': 22, 'yea': 1, 'nonoper': 1, 'rediscuss': 5, 'clr': 10, 'dnrdni': 1, 'ew': 16, 'meant': 1, 'raf': 4, 'diaphoret': 28, 'nippv': 12, 'spread': 12, 'os': 7, 'bx': 10, 'nrm': 1, 'mind': 7, '^bp': 2, 'suppress': 6, 'quick': 4, 'demand': 21, 'labia': 2, 'monday': 21, 'tsicu': 3, '^hr': 2, 'errat': 5, 'beforehand': 1, 'unexplain': 4, 'enhanc': 16, 'rebreath': 14, 'chemotherapi': 10, 'preliminari': 16, 'medicin': 12, 'expector': 17, 'sit': 29, 'basilar': 33, 'yr': 34, 'metastas': 10, 'diltiazem': 16, 'tacypn': 4, 'icecream': 2, 'squamo': 1, 'onset': 14, 'deveolp': 1, 'bronchospast': 3, 'taper': 19, 'therefor': 36, 'diures': 39, 'cistern': 8, \"'finish\": 1, 'rpt': 6, 'rcd': 1, 'dopamin': 15, 'chapl': 1, 'vit': 14, 'dept': 3, 'levaquin': 20, 'synthroid': 6, 'cpk': 9, 'musculoskelet': 26, 'additin': 1, 'anaerob': 11, 'brather': 1, 'pericholecyst': 11, 'reinsert': 6, 'fhp': 12, 'uti': 33, 'sinimet': 1, 'flex': 8, 'tegretol': 1, 'fact': 12, 'regim': 14, 'constip': 21, 'cycl': 14, 'insuffici': 19, 'intermittenli': 2, 'hung': 10, 'rale': 33, 'parkinson': 8, 'trachea': 20, 'vanoc': 1, 'polici': 6, 'mul': 2, 'extrahepat': 2, 'cholecyst': 22, 'neurolept': 1, 'gram': 43, 'bph': 5, 'decres': 4, 'advis': 13, 'dementia': 23, 'etomid': 4, 'mb': 10, 'mgso': 3, 'psoriasi': 1, 'pancrea': 37, 'incontincn': 1, 'insuff': 2, 'stiffneck': 1, 'succinylcholin': 1, 'unusu': 12, 'devedlop': 1, 'conntact': 1, 'third': 17, 'supplement': 33, 'frontal': 40, 'fluoroscopi': 8, 'djd': 1, 'ductal': 6, 'signif': 2, 'groin': 24, 'crystal': 2, 'rbc': 12, 'ceftaz': 8, 'pneumnia': 1, 'pmhx': 9, 'deaf': 2, 'curtail': 1, 'cortisol': 10, 'incomprehens': 7, 'gnr': 17, 'precipit': 6, 'adren': 41, 'breah': 1, 'hemidiaphragm': 19, 'parenchym': 62, 'hypothroid': 1, 'ocd': 1, 'kayexly': 1, 'axi': 37, 'root': 20, 'eject': 8, 'physiolog': 38, 'stenosi': 42, 'estim': 32, 'caviti': 51, 'acceler': 4, 'bin': 1, 'four': 16, 'situt': 1, 'tricuspid': 38, 'rerrl': 1, 'fraction': 9, 'epix': 1, 'crea': 2, 'abp': 34, 'pack': 10, 'akinesi': 2, 'rais': 40, 'fascicular': 12, 'hyperkalemia': 11, 'jaundic': 19, 'trivial': 18, 'unavail': 2, 'la': 28, 'qr': 27, 'bbb': 3, 'pressort': 1, 'deviat': 23, 'prematur': 30, 'biacarb': 1, 'chorda': 11, 'lcl': 1, 'eventu': 23, 'intit': 2, 'potassium': 53, 'qtt': 6, 'laryng': 5, 'intiat': 7, 'blister': 16, 'pnding': 8, 'cordi': 4, 'impend': 7, 'discov': 3, 'resusit': 4, 'brachycephal': 1, 'wrap': 6, 'locul': 22, 'hyperkalcemia': 1, 'film': 48, 'silverdin': 1, 'pcn': 9, 'atn': 23, 'anfio': 1, 'unfortun': 7, 'thereaft': 6, 'accurr': 1, 'multilobar': 7, 'ointment': 13, 'hypoperfus': 7, 'froom': 1, 'nondistend': 15, 'blind': 3, 'sb': 22, 'deceas': 3, 'fhpa': 2, 'angio': 7, 'desicion': 1, 'mist': 12, 'daddi': 1, 'signic': 2, 'agig': 1, 'anbx': 5, 'bloat': 2, 'physcian': 2, 'fentanul': 1, 'progonisi': 1, 'hygien': 8, 'palli': 34, 'extrim': 4, 'scopolamin': 7, 'goodresult': 1, 'tacycard': 3, 'cantones': 6, 'dad': 3, 'mlq': 1, 'respect': 20, 'moan': 21, 'nutriton': 1, 'incid': 26, 'formal': 9, 'trough': 24, 'spontani': 1, 'progr': 1, 'plam': 1, 'knopff': 1, 'psychosoci': 9, 'mutipl': 4, 'mimini': 1, 'extremti': 1, 'signfic': 4, 'lip': 33, 'fentnyl': 1, 'unreact': 2, 'heartrat': 1, 'educ': 5, 'ota': 3, 'repeaet': 1, 'exist': 38, 'artifici': 5, 'guag': 2, 'variabl': 17, 'pff': 1, 'faamili': 1, 'pat': 3, 'tachypniec': 2, 'phase': 13, 'nebul': 9, 'prefer': 9, 'mat': 1, 'ozz': 3, 'eccymot': 7, 'tegaderm': 3, 'symptom': 31, 'extubatin': 1, 'frustrat': 6, 'instruct': 10, 'nonadh': 1, 'compon': 47, '^wob': 2, 'supraventricular': 11, 'durng': 1, 'supp': 11, 'steri': 2, 'downt': 2, 'tamponad': 12, 'readdress': 21, 'sangaiou': 1, 'presenc': 27, 'strip': 4, 'flap': 2, 'plea': 2, 'sorder': 1, 'exxtrmiti': 1, 'exipr': 1, 'eitolog': 1, 'hub': 1, 'diastol': 37, 'eipsod': 1, 'lacer': 4, 'extrasystol': 1, 'extremeti': 19, 'gone': 14, 'rtc': 4, 'extermit': 2, 'serosang': 13, 'kling': 1, 'dehydr': 7, 'zinc': 1, 'neglig': 2, 'ccb': 1, 'kneecap': 1, 'calf': 11, 'respelor': 1, 'apc': 4, 'gs': 8, 'extrmiti': 1, 'puulent': 1, 'exud': 6, 'ascend': 28, 'contol': 1, 'conver': 1, 'quantifi': 4, 'tachypneac': 2, 'tachcard': 1, 'srr': 7, 'stain': 31, 'suspect': 38, 'restin': 1, 'ua': 33, 'tracheobronch': 2, 'tegram': 1, 'dysfnc': 1, 'echocardiograph': 16, 'unreliev': 2, 'ot': 8, 'fliud': 5, 'aflutt': 10, 'achiv': 1, 'acc': 3, 'overlay': 3, 'mag': 13, 'inferiorli': 9, 'waffl': 7, 'worseni': 1, 'aurea': 1, 'coras': 2, 'niddm': 1, 'captorpil': 1, 'parenchyma': 23, 'egt': 1, 'verifi': 16, 'serax': 1, 'ecchymosi': 9, 'pgi': 3, 'proph': 4, 'gurgl': 7, 'oropharynx': 10, 'imv': 5, 'tegraderm': 1, 'splint': 1, 'avb': 3, 'particularli': 25, 'ultrac': 3, 'bigem': 1, 'dev': 2, 'hypozia': 1, 'nephew': 10, 'cefempin': 1, 'enzm': 1, 'cortu': 1, 'cefepin': 2, 'tha': 3, 'lrg': 5, 'unlabor': 12, 'psych': 7, 'comb': 5, 'ft': 8, 'retain': 11, 'haze': 3, 'reciv': 4, 'reappil': 1, 'staph': 9, 'metoprolol': 28, 'sensit': 26, 'nare': 14, 'smear': 18, 'inclus': 3, 'addtion': 2, 'pleuroparenchym': 1, 'occas': 9, 'frothi': 8, 'somewat': 1, 'dobut': 2, 'yankeur': 4, 'cordu': 1, 'hh': 2, 'scd': 5, 'defect': 29, 'diuresis': 2, 'toss': 1, 'contamint': 1, 'addedum': 1, 'prog': 2, 'junki': 6, 'recevi': 1, 'rh': 3, 'cut': 14, 'pharynx': 6, 'troponin': 55, 'inotropi': 1, 'midnight': 32, 'combin': 34, 'bl': 13, 'stabliz': 3, 'trigem': 1, 'lobar': 12, 'throughtout': 1, 'anuria': 7, 'anytmim': 1, 'transpar': 6, 'ltyellow': 1, 'rxn': 6, 'sulfat': 33, 'ck': 51, 'avbl': 1, 'discontinu': 34, 'mordem': 1, 'nail': 8, 'benzo': 6, 'recalibr': 3, 'diruesi': 2, 'bss': 1, 'rca': 4, 'pump': 7, \"o'\": 1, 'nsvt': 4, 'trigemini': 1, 'airmatress': 1, 'crisi': 3, 'whisper': 1, 'wihtout': 1, 'intraventricular': 13, 'judgement': 3, 'recogn': 9, 'sitter': 4, 'pedi': 11, 'bliater': 1, 'variou': 8, 'teeth': 38, 'indistinct': 8, 'xr': 1, 'clog': 4, 'avhb': 1, 'lodg': 1, 'inquier': 1, 'resecur': 1, 'nph': 9, 'comcomit': 1, 'posteriorli': 11, 'rhonci': 8, 'sustain': 16, 'defin': 15, 'contamin': 9, 'thruout': 3, 'curv': 23, 'regularli': 7, 'indwel': 23, 'expel': 2, 'morpholog': 12, 'undigest': 2, 'dopper': 1, 'venodyn': 7, 'regimen': 55, 'palab': 1, 'circul': 8, 'broader': 3, 'transpat': 1, 'lss': 1, 'intregr': 1, 'alon': 14, 'bandag': 4, 'mumbl': 8, 'captopril': 3, 'nonverb': 7, 'mi': 24, 'bigemeni': 1, 'thruought': 1, 'senior': 4, \"am'\": 1, 'appil': 1, 'odor': 4, 'bt': 5, 'introduc': 7, 'pcxr': 4, 'swallow': 39, 'accu': 1, 'podi': 2, 'zaroxolyn': 1, 'cocci': 10, 'uncontrol': 4, 'bronchial': 39, 'incontinec': 1, 'speech': 31, 'real': 7, 'perivascular': 1, 'rod': 14, 'nstemi': 11, 'dobutamin': 12, 'higest': 1, 'stent': 24, 'underneath': 6, 'dss': 1, 'slur': 2, 'purlpl': 1, 'garbl': 7, 'intermittantli': 2, 'rule': 40, 'triplet': 2, 'complain': 10, 'inconsistenli': 1, 'cardiogen': 19, 'pci': 2, 'collector': 1, 'lcyu': 1, 'border': 12, 'multilumen': 3, 'spirit': 1, 'adenosin': 4, 'travel': 8, 'doctor': 12, 'count': 36, 'oxycodon': 9, 'dysneic': 1, 'pe': 48, 'axox': 1, 'oncologist': 12, 'hyrocortison': 1, 'trip': 4, 'ivab': 6, 'teari': 2, 'tumor': 18, 'nonlas': 1, 'ep': 7, 'unsur': 6, 'unprod': 1, 'bronchu': 15, 'document': 33, 'dcd': 6, 'cent': 3, 'fr': 13, 'platelet': 20, 'serosanq': 1, 'incident': 10, \"dc'ed\": 2, 'norm': 2, 'stabilz': 2, 'penumopericardium': 1, 'bronchou': 1, 'tenou': 2, 'prophylact': 3, 'reiter': 3, 'platlet': 6, 'resposit': 3, 'mainten': 8, 'lul': 43, 'tfb': 4, 'amiodoron': 4, 'ds': 6, 'cardiologist': 4, 'init': 8, 'trun': 1, 'mx': 1, 'trim': 2, 'wet': 62, 'solut': 1, 'sensori': 3, 'okay': 12, 'rhonchoru': 7, 'capac': 9, 'ud': 1, 'pericadi': 1, 'adquat': 2, 'evolv': 18, 'til': 4, 'pulsu': 1, 'freind': 1, 'shth': 1, 'successful': 2, 'int': 3, 'workload': 1, 'partner': 5, 'strenght': 1, 'hrt': 4, 'placment': 9, 'cari': 1, 'cot': 2, 'cavo': 2, 'instil': 7, 'immobil': 2, 'enviro': 1, 'hospic': 24, 'increasingli': 35, 'vaxcel': 1, 'russian': 7, 'conjunct': 11, 'condom': 2, 'inncont': 1, 'decompens': 27, 'wax': 6, 'faster': 13, \"^'ing\": 1, 'undergo': 19, 'doboff': 5, 'medial': 13, 'amplitud': 3, \"^'ingli\": 1, 'aspect': 21, 'ex': 8, 'frank': 11, 'dislodg': 6, 'cardiovascular': 57, 'pud': 6, 'retract': 11, 'dobhoff': 6, 'mistaken': 1, 'decompenst': 1, 'teaspoon': 1, 'telephon': 24, 'produc': 20, 'discus': 1, 'rrespons': 1, 'skinfold': 1, 'honey': 2, 'pure': 10, 'nectar': 6, 'dictat': 18, 'prompt': 4, 'beta': 23, 'aerosol': 20, 'video': 8, 'granddaught': 6, 'oropharyng': 16, 'quadrent': 6, 'slower': 14, 'dopoff': 1, 'urethra': 2, 'decomp': 1, 'pateint': 2, 'trauma': 10, 'asa': 32, 'engorg': 21, 'abort': 4, 'discusst': 1, 'cbi': 4, 'anticoagul': 28, 'humalog': 11, 'vesicl': 3, 'uremia': 4, 'easier': 4, 'cavh': 1, 'scv': 2, 'plasmaphoresi': 1, 'element': 14, 'gut': 7, 'grow': 16, 'elong': 7, 'weap': 4, 'nodal': 4, 'intraservic': 3, 'wake': 41, 'flumazin': 1, 'hemostasi': 4, 'store': 2, 'presept': 2, 'pel': 7, 'spleen': 32, 'basic': 7, 'sup': 2, 'broken': 11, 'bmt': 3, 'calicif': 1, 'gancylovir': 1, 'weeep': 1, 'gradient': 29, 'prolaps': 24, 'porta': 4, 'bloodting': 3, 'cobra': 2, 'core': 7, 'percocet': 8, 'maneuv': 12, 'viremia': 2, 'abut': 6, 'preprocedur': 8, 'pubic': 8, 'meropenem': 25, 'subcentimet': 5, 'ess': 4, 'preced': 11, 'lactulos': 21, 'cardiovert': 8, 'similar': 58, 'griev': 9, 'ivaband': 1, 'obstacl': 1, 'recoveri': 21, 'pneumocac': 1, 'achiev': 19, 'presser': 2, 'aass': 1, 'sxted': 1, 'amplatz': 2, 'marrow': 4, 'rvr': 20, 'edamat': 3, 'stich': 1, 'deoderm': 1, 'pneumococc': 1, 'baracat': 2, 'ptcont': 1, 'intraven': 38, 'kayexal': 5, 'proper': 11, 'neutropen': 4, 'serviceclip': 2, 'whinc': 1, 'hyptens': 2, 'pole': 9, 'tr': 32, 'explan': 13, 'participatori': 1, 'hepatoren': 3, 'overnt': 1, 'pharesi': 1, 'tini': 10, 'typhliti': 1, 'cellular': 4, 'influenc': 4, 'gvhd': 3, 'reformat': 19, 'silk': 6, 'unknown': 44, 'nl': 22, 'fusarium': 1, 'ruq': 12, 'guidenc': 1, 'transjug': 1, 'calib': 18, 'nard': 4, 'cook': 2, 'correspond': 9, 'shedul': 1, 'semin': 3, 'ganciclovir': 1, 'dens': 31, 'constrict': 1, 'retap': 14, 'cecum': 4, 'tne': 1, 'blunt': 17, 'rescu': 2, 'rtrad': 2, 'ltf': 1, 'sxt': 2, 'transcathet': 1, 'aml': 2, 'hepatopet': 8, 'transaminas': 4, 'lvot': 23, 'midnoc': 8, 'bsk': 2, 'pelvi': 42, 'agent': 14, 'pursestr': 1, 'peripancreat': 2, 'rsp': 3, 'humulog': 1, 'timeout': 10, 'syndrom': 19, 'granulomat': 4, 'amio': 13, 'kerlix': 5, 'fucntion': 1, 'retroperiton': 14, 'surgifoam': 2, 'careweb': 2, 'coud': 1, 'rifaximin': 3, 'grasp': 2, 'sxned': 8, 'stronger': 6, 'hepati': 3, 'retroperitoneum': 1, 'pej': 2, 'lactolos': 1, 'urisodiol': 1, 'alway': 9, 'bilirubin': 20, 'caudat': 2, 'acyclovir': 5, 'flumazenil': 2, 'peditub': 1, 'sclerot': 14, 'transplant': 10, 'urisodil': 1, 'gland': 26, 'speciat': 9, 'symphysi': 10, 'meropenum': 9, 'unrsp': 2, 'cue': 8, 'fsbg': 9, '^lft': 1, 'cellcept': 3, 'hypoecho': 2, 'ground': 32, 'mult': 17, 'natur': 17, 'glidewir': 5, 'lij': 12, 'stride': 1, 'surgicel': 4, 'lytic': 19, 'intrahepat': 4, 'npp': 1, 'bladder': 53, 'psup': 3, 'paus': 5, 'biggest': 1, 'mvp': 17, 'cateth': 1, 'ni': 1, 'pheresi': 3, 'nailb': 8, 'soak': 5, 'dfinit': 1, 'speaker': 4, 'cholestasi': 2, 'rrad': 1, 'upward': 11, 'host': 2, 'bear': 9, 'folow': 3, 'acquir': 37, 'approach': 24, 'ppp': 9, 'constant': 11, 'isolat': 1, 'ident': 3, 'oligur': 14, 'inflamm': 10, 'ursodiol': 1, 'downward': 15, 'flicker': 1, 'psc': 2, 'anyway': 4, 'multiplanar': 17, 'sorb': 4, 'nst': 2, 'info': 17, 'nypernatremia': 1, 'inlet': 22, 'everyday': 3, 'hyper': 3, 'formalin': 1, 'regul': 6, 'equival': 4, 'behind': 4, 'analyz': 7, 'abras': 12, 'cyst': 26, 'ucler': 2, 'lanti': 1, 'prostat': 15, 'minmal': 2, 'noth': 18, 'mainatain': 1, 'evidenc': 6, 'fam': 7, 'acidosid': 1, 'byt': 2, 'punctat': 2, 'adjac': 31, 'actual': 13, 'periport': 1, 'encephalopathi': 14, 'dop': 6, 'mdct': 26, 'transjugular': 2, 'palpalbl': 1, 'remark': 8, 'phersi': 1, 'distinct': 15, 'ursdiol': 1, 'toxin': 8, 'mold': 1, 'ivc': 11, 'sequela': 4, 'refe': 3, 'nephrolog': 4, 'barotrauma': 3, 'wer': 1, 'orali': 1, 'pneumoperitoneum': 4, 'shaggi': 1, 'merepenum': 2, 'flexur': 5, 'vigiou': 1, 'malacia': 2, 'distribut': 24, 'seri': 12, 'stretch': 5, 'chin': 7, 'paral': 2, 'valsalva': 2, 'bronchogram': 11, 'foramen': 6, 'secriton': 1, 'inder': 1, 'stone': 21, 'remaind': 29, 'sigmoid': 17, 'dist': 8, 'top': 33, 'pseudomhypha': 1, 'descend': 16, 'buttuck': 2, 'seven': 7, 'compat': 22, 'gold': 2, 'veget': 8, 'retreiv': 1, 'nabicarb': 1, 'adn': 6, 'latter': 7, 'beneath': 8, 'yeild': 1, 'infuss': 1, 'motrin': 3, 'confluenc': 4, 'bradycardia': 24, 'heterogen': 20, 'paramedian': 3, 'wedg': 9, 'hypernatrem': 3, 'halidol': 1, 'oval': 6, 'pneumomediastenum': 1, 'hiccup': 3, 'bump': 14, 'distent': 28, 'novasourc': 7, 'meropenim': 1, 'twitch': 9, 'fluse': 2, 'splenic': 6, 'mucos': 10, 'instead': 9, 'pulmasourc': 2, 'soooo': 1, 'hydralasin': 1, 'seedi': 1, 'diregard': 1, 'rust': 3, 'artifact': 37, 'pneumomediastinum': 7, 'temporari': 7, 'inpiratori': 1, 'paralysi': 6, 'suddenli': 6, 'supprot': 1, 'spurt': 1, 'gastroesophag': 16, 'spot': 10, 'fdg': 10, 'excurs': 8, 'hydrocephalu': 9, 'narrativen': 1, 'premed': 5, 'merepeum': 1, 'case': 28, 'sxd': 5, 'candidemia': 2, 'glass': 23, 'fungemia': 5, 'mic': 17, 'toller': 3, 'erect': 10, 'echogen': 7, 'cisatracurium': 6, 'paracentisi': 1, 'pancreat': 11, 'manuev': 2, 'extremitiy': 3, 'lunf': 1, 'obt': 1, 'atb': 4, 'east': 5, 'lge': 4, 'basi': 9, 'skinn': 1, 'strongli': 9, 'clavicl': 11, 'consistantli': 6, 'hypernatremia': 11, 'conitnu': 4, 'intrapelv': 1, 'vebal': 1, 'shunt': 13, 'train': 6, 'fungu': 4, 'firmli': 2, 'endocard': 15, 'erron': 1, 'subdiaphragmat': 10, 'intervet': 1, 'tyelnol': 2, 'origin': 31, 'bronchspast': 1, 'clump': 1, 'bronish': 1, 'ldh': 43, 'mvmt': 4, 'pulmasours': 1, 'subcapsular': 1, 'bud': 6, 'lid': 3, 'replenish': 3, 'augment': 16, 'catheth': 2, 'vitot': 1, 'safe': 16, 'cirrohosi': 1, 'softer': 2, 'thrombu': 20, 'yeast': 20, 'grayscal': 10, 'effert': 2, 'manipul': 11, 'pipo': 1, 'stv': 2, 'spnt': 1, 'fc': 5, 'worrisom': 5, 'meripenem': 1, 'severli': 2, 'muach': 1, 'miq': 1, 'bu': 5, 'wane': 3, 'midazolam': 39, 'merepenim': 1, 'posterolater': 2, 'pulmonolog': 2, 'tenaci': 12, 'paralyz': 36, 'wrong': 5, 'esent': 1, 'copiu': 4, 'intracardiac': 4, 'receivng': 2, 'territori': 13, 'washin': 1, 'cholelithiasi': 14, 'cistatricurium': 1, 'sphenoid': 6, 'asid': 5, 'spc': 1, 'alkalosi': 20, 'mediastinum': 42, 'medium': 8, 'psupp': 1, 'unintellig': 2, 'satisfactorili': 4, 'ettub': 3, 'contiu': 3, 'wether': 4, 'droop': 2, 'muster': 1, 'ard': 58, 'neutral': 1, 'rave': 1, 'schdule': 1, 'chemic': 5, 'oximetri': 3, 'bal': 18, 'addend': 1, 'poplit': 14, 'isuprel': 1, 'hydralazin': 13, 'qualit': 1, 'seee': 1, 'wit': 13, 'televis': 1, 'snt': 4, 'thich': 3, 'cchr': 2, 'meripenum': 1, 'thrombosi': 10, 'palc': 2, 'tracheobronchi': 3, 'addendium': 2, 'widespread': 26, 'ween': 2, 'metastat': 26, 'caspofungin': 4, 'neruo': 4, 'optim': 39, 'nova': 1, 'propranalol': 1, 'pc': 12, 'fentyn': 2, 'nystatin': 9, 'repsons': 3, 'friday': 15, 'solid': 17, 'pillow': 10, 'grimmac': 4, 'teniou': 2, 'powder': 8, 'aler': 1, 'recur': 5, 'ibuprofen': 3, 'meripenim': 1, 'echocardigram': 1, 'prder': 1, 'abscess': 21, 'pose': 3, 'hyporthermia': 1, 'fentenyl': 3, 'conintu': 2, 'bolt': 3, 'cop': 6, 'clavicular': 7, 'fallen': 1, 'telemetri': 17, 'invol': 1, 'remiain': 1, 'overwir': 1, 'mycostatin': 4, 'adher': 2, 'requestiong': 1, 'hypodens': 21, 'cardiovers': 3, 'reliabl': 4, 'cefepinm': 1, 'vicin': 2, 'ceil': 1, 'exampl': 6, 'sphincter': 3, 'ilw': 1, 'cardiomyopathi': 9, 'onto': 6, 'tirtrat': 1, 'hydrea': 1, 'individu': 3, 'ceptim': 1, 'neutopenia': 1, 'neurtopen': 1, 'reoccur': 3, 'flagal': 1, 'azt': 1, 'conc': 4, 'jejun': 2, 'prodcedur': 1, 'dimens': 5, 'ave': 1, 'cholecystectomi': 3, 'yield': 6, 'claoric': 1, 'uac': 1, 'tactil': 20, 'polyp': 4, 'intial': 8, 'apheres': 1, 'diverticulum': 1, 'confer': 7, 'jejunum': 2, 'lymphoma': 7, 'lorazapam': 1, 'foey': 1, 'fentani': 3, 'yell': 8, 'signal': 5, 'xpeep': 1, 'balm': 1, 'amiriodin': 1, 'scleral': 7, 'periton': 5, 'ddimer': 1, 'cold': 11, 'degen': 23, 'aha': 8, 'vagin': 2, 'dynam': 4, 'fat': 13, 'separt': 1, 'intraabdomin': 4, 'hypertrophi': 32, 'pancutur': 1, 'mp': 4, 'mucosa': 5, 'micor': 1, 'mesenteri': 2, 'mgq': 1, 'atroph': 7, 'difficil': 12, 'outflow': 5, 'megacolon': 6, 'virgou': 1, 'fluconozol': 1, 'maintentnc': 1, 'dif': 3, 'flouro': 2, 'plat': 12, 'amriodon': 1, 'flaygl': 2, 'peticha': 2, 'lingula': 7, 'smicu': 2, 'ebv': 2, 'averag': 10, 'recultur': 9, 'nativ': 4, 'cerebro': 1, 'cystic': 8, 'edmat': 1, 'alkalot': 5, 'pylor': 9, 'reden': 2, 'sight': 1, 'bolusof': 1, 'cefipim': 15, 'notabel': 1, 'neutrapen': 2, 'neutropenia': 1, 'absenc': 17, 'houseoffic': 6, 'degree': 1, 'interupt': 2, 'ccx': 2, 'wth': 2, 'diltazem': 2, 'ored': 1, 'arrhythmia': 13, 'nephrogram': 3, 'fluro': 2, 'serosanguin': 8, 'vagina': 1, 'pyloru': 5, 'mc': 4, 'endolumin': 1, 'panel': 15, 'ilatori': 1, 'attemp': 3, 'steristrip': 1, 'sytol': 1, 'pylori': 2, 'hydrocort': 5, 'attach': 7, 'character': 17, 'ilier': 1, 'chap': 1, 'hyperdynam': 22, 'j': 10, 'nonion': 7, 'chemo': 10, 'winc': 3, 'strand': 9, 'lcw': 3, 'telemeti': 1, 'petichia': 2, 'sub': 11, 'axilla': 11, 'consecut': 3, 'apap': 1, 'read': 87, 'annular': 18, 'weakli': 8, 'symmetr': 59, 'rythmm': 2, 'electr': 5, 'ambisom': 2, 'uromet': 1, 'fluconzol': 1, 'liw': 6, 'urien': 1, 'neuropenia': 1, 'eccyomot': 1, 'ouput': 2, 'irreg': 7, 'intralumin': 9, 'nutropenia': 1, 'insul': 1, 'injuri': 19, 'nadir': 1, 'uup': 1, 'appropi': 5, 'sunction': 1, 'whitish': 5, 'anc': 2, 'akwa': 1, 'adenopathi': 17, 'rescan': 3, 'sacrament': 10, 'stalk': 1, 'normotens': 12, 'cardaic': 2, 'alet': 1, 'metroprolol': 1, 'postpylor': 4, 'alertarous': 1, 'materi': 21, 'attribut': 18, 'apeci': 1, 'prosthesi': 5, 'crt': 6, 'impact': 10, 'fagyl': 1, 'celiac': 6, 'withheld': 2, 'uncertain': 14, 'chb': 4, 'aneorb': 1, 'grave': 19, 'bottl': 4, 'flaccid': 5, 'particular': 9, 'tme': 1, 'idioventricular': 1, 'disord': 20, 'stenot': 1, 'anasarka': 1, 'inferolater': 11, 'mail': 4, 'ampi': 1, 'nonreact': 3, 'baricat': 2, 'constel': 1, 'pair': 12, 'decort': 4, 'nonr': 2, 'rememb': 1, 'chain': 8, 'postur': 8, 'barocat': 2, 'convinc': 2, 'ampicillin': 6, 'oppos': 4, 'withdrawl': 10, 'amyloid': 1, 'ultim': 13, 'msof': 2, 'heroic': 6, 'droplet': 10, 'atelectat': 9, 'overid': 1, 'restoril': 1, 'distess': 1, 'linen': 4, 'hypokalemia': 3, 'tachycardiac': 3, 'percaut': 1, 'amoung': 1, 'equip': 3, 'ntg': 4, 'atov': 1, 'accordingli': 12, 'hear': 16, 'viral': 17, 'cardizem': 2, 'bypap': 1, 'ontain': 1, 'flu': 13, 'exhibit': 9, 'fryabl': 1, 'nitro': 8, 'longstand': 4, 'nsicu': 1, 'batteri': 1, 'accesss': 1, 'phlebolith': 2, 'involut': 3, 'misplac': 2, 'collabor': 6, 'goe': 7, 'supper': 1, 'awhil': 3, 'incent': 4, 'perfor': 12, 'spirometri': 5, 'slip': 4, 'format': 8, 'intraperiton': 12, 'nonobstruct': 5, 'fax': 1, 'palat': 4, 'necessit': 8, 'suspicion': 17, 'pharyng': 6, 'lite': 1, 'flownot': 4, 'nauseu': 1, 'sz': 5, 'cu': 2, 'spiromet': 3, 'gastrostomi': 6, 'undisturb': 4, 'pneumatosi': 6, 'mri': 18, 'bathroom': 3, 'flip': 2, 'penetr': 6, 'spillov': 3, 'apetit': 1, 'typic': 9, 'featur': 6, 'amd': 5, 'aphas': 5, 'interrupt': 2, 'revers': 24, 'dysphagia': 9, 'revrs': 1, 'influenza': 18, 'souc': 1, 'breather': 2, 'applesauc': 6, 'linebut': 1, 'cross': 8, 'intailli': 1, 'cardiopulmonari': 10, 'variat': 5, 'inv': 1, 'sleepign': 1, 'tp': 6, 'crush': 13, 'appl': 6, 'tuck': 3, 'requisit': 2, 'pathologist': 1, 'speciment': 1, 'pseudoinfarct': 1, 'applesaus': 1, 'aphasia': 2, 'ate': 4, 'prod': 9, 'cerebr': 10, 'barium': 6, 'nonrebreath': 4, 'perp': 1, 'pleuravac': 3, 'unsymptomat': 1, 'hemithorax': 32, 'sterilli': 1, 'pleurx': 1, 'unproduct': 5, 'massiv': 18, 'occupi': 6, 'realiz': 3, 'pleur': 2, 'reappear': 3, 'shnge': 1, 'wateri': 5, 'anymor': 6, 'euvolem': 11, 'indfus': 1, 'reeval': 4, 'tachyarrythmia': 2, 'promptli': 2, 'desitin': 2, 'retal': 1, 'ref': 1, 'occass': 6, 'coaars': 1, 'kayexil': 1, 'fatigu': 20, 'fractio': 1, 'sescret': 1, 'ut': 1, 'candid': 16, 'trumpet': 6, 'enema': 9, 'struggl': 6, 'myleodysplesia': 1, 'choic': 6, 'stff': 1, 'negtiv': 1, 'param': 1, 'inflow': 5, 'persistantli': 2, 'agress': 12, 'agian': 2, 'venoboot': 1, 'mon': 34, 'flail': 3, 'desenex': 1, 'aaat': 1, 'misfir': 1, 'eventuallt': 1, 'exyl': 1, 'adit': 1, 'correspong': 1, 'car': 2, 'flall': 1, 'incon': 2, 'napho': 1, 'papillari': 8, 'toleav': 1, 'nonlabor': 1, 'bialter': 1, 'leakag': 7, 'somnol': 21, 'pllacement': 1, 'solidfi': 1, 'month': 23, 'fss': 1, 'weigh': 2, 'topar': 1, 'synchron': 31, 'aslo': 2, 'tick': 1, 'ultra': 3, 'upto': 3, 'familt': 4, 'sedatiooon': 1, 'oet': 1, 'colorng': 1, 'asap': 3, 'adament': 1, 'kayexel': 3, 'propos': 3, 'thursday': 9, 'fill': 36, 'sooth': 1, 'esidu': 1, 'absolut': 1, 'bennzodiazpin': 1, 'chase': 1, 'noght': 1, 'overbreathin': 1, 'supraclavicular': 16, 'wast': 20, 'hsv': 2, 'bacteria': 4, 'comm': 9, 'underw': 12, 'contribut': 29, 'cavern': 3, 'narcan': 7, 'charact': 2, 'ronchi': 12, 'avid': 2, 'palliat': 5, 'opinion': 6, 'hemolyt': 3, 'vaccin': 7, 'splenectomi': 3, 'sedentari': 2, 'tacchycard': 1, 'oxyfast': 1, 'lad': 8, 'clinda': 5, 'nitrit': 2, 'housekeep': 1, 'osteopenia': 6, 'benign': 18, 'thorazin': 1, 'delir': 2, 'deleri': 2, 'factor': 17, 'cord': 4, 'dull': 22, 'smoker': 5, 'gerd': 15, 'conjunctiva': 42, 'pipe': 1, 'nppv': 3, 'healthcar': 10, 'kansasii': 1, 'iu': 40, 'legionella': 29, 'cognit': 6, 'nsclc': 4, 'sclerosi': 8, 'penumonia': 1, 'tacchycardia': 1, 'clarifi': 19, 'creatinin': 51, 'spetic': 1, 'lymphat': 22, 'sir': 9, 'dfdkq': 2, 'fludarabin': 2, 'omr': 8, 'regardless': 1, 'sulfa': 4, 'normocephal': 46, 'cervic': 25, 'plaqu': 7, 'asbesto': 5, 'ia': 2, 'delerium': 2, 'ymf': 3, 'retir': 8, 'rescusit': 1, 'nonsepecif': 1, 'atrophi': 11, 'choke': 6, 'offic': 8, 'ppx': 27, 'asses': 2, 'deplet': 12, 'vat': 4, 'hypercarbia': 14, 'percuss': 29, 'resect': 9, 'rrr': 32, 'rituxan': 1, 'penicillin': 11, 'sulfonamid': 2, 'pantoprazol': 27, '`': 3, 'tacchypn': 1, 'discrep': 1, 'atherosclerot': 21, 'outlin': 21, 'microbiolog': 35, 'noninvas': 8, 'vertebr': 13, 'sstem': 1, 'gent': 5, 'thoroughout': 1, 'summari': 13, 'rad': 18, 'toradol': 1, 'reveiw': 4, 'nadolol': 2, 'icter': 6, 'fentanli': 2, 'inrincreas': 1, 'andrl': 1, 'sedimentari': 1, 'cousin': 5, 'antibot': 3, 'recomm': 1, 'hosptial': 1, 'clavian': 1, 'rl': 4, 'azithomycin': 1, 'ppor': 1, 'neic': 4, 'criticar': 5, 'gentamycin': 7, 'bridg': 10, 'addnedum': 1, 'occn': 3, 'altern': 25, 'kr': 1, 'ileostomi': 3, 'illeostomi': 1, 'unresponsinv': 1, 'leagal': 1, 'centrum': 3, 'dwi': 2, 'delta': 2, 'pian': 1, 'respoms': 1, 'trancfer': 1, 'diltiasem': 1, 'slugish': 2, 'mca': 4, 'tem': 1, 'vacuo': 1, 'etachi': 1, 'slugglish': 2, 'ethmoid': 4, 'semioval': 2, 'jwk': 1, 'osh': 19, 'unbrocken': 1, 'ganglia': 6, 'encephalomalacia': 1, 'basal': 32, 'applianc': 3, 'lateer': 1, 'reccent': 1, 'bsd': 2, 'oxigen': 1, 'ordinari': 1, 'worst': 4, 'approv': 9, 'bronchcoscopi': 1, 'loosen': 6, 'csm': 4, 'aat': 1, 'pcwp': 7, 'swan': 6, 'acidemia': 5, 'flattu': 1, 'diltizam': 1, 'inmobil': 1, 'ortho': 2, 'drg': 5, 'imobil': 1, 'dto': 1, 'amountsa': 1, 'aggres': 2, 'lacrilub': 2, 'stridor': 4, 'matress': 2, 'sugest': 2, 'prounounc': 1, 'rep': 3, 'platelett': 2, 'brace': 1, 'hot': 4, 'urgent': 7, 'parcial': 1, 'tech': 5, 'mgmt': 8, 'ganz': 5, 'situ': 9, 'combo': 2, 'lap': 2, 'preiou': 1, 'orbit': 6, 'occlut': 1, 'collar': 6, 'aproppri': 1, 'ci': 11, 'colectomi': 2, 'htc': 1, 'orthoped': 2, 'paw': 2, 'creatanin': 1, 'resucit': 3, 'sang': 5, 'intravascularli': 5, 'cov': 6, 'reguard': 4, 'gg': 2, 'dimish': 6, 'fentand': 1, 'provision': 35, 'captur': 7, 'traumat': 6, 'kayexyl': 1, 'hematolog': 6, 'myalgia': 9, 'hive': 2, 'adviso': 1, 'abus': 14, 'bayonet': 1, 'presist': 2, 'epistaxi': 8, 'fammili': 1, 'split': 8, 'magnesium': 29, 'broad': 36, 'fistula': 11, \"ce'\": 1, 'rout': 34, 'pplat': 9, 'cuf': 5, 'hyperglycemia': 17, 'overweight': 18, 'swivel': 1, 'transloc': 1, 'ckmb': 42, 'mof': 2, 'stenotrophomona': 1, 'tropt': 37, 'demograph': 48, 'lr': 11, 'respoiratori': 1, 'hemodynma': 1, 'action': 62, 'manufactur': 22, 'iss': 13, 'kayelexal': 1, 'intravascular': 7, 'role': 15, 'percept': 1, 'diuret': 6, 'afterload': 5, 'probal': 5, 'aeruginosa': 2, 'deal': 7, 'numb': 7, 'suicid': 8, 'ventricuar': 1, 'dep': 3, 'sqh': 7, 'brush': 1, 'shiley': 2, 'fh': 48, 'genitourinari': 14, 'pneuomonia': 1, 'thrombocytopenia': 16, 'club': 18, 'contributor': 3, 'subclav': 1, 'hyperreson': 6, 'gastrointestin': 17, 'immunocompromis': 8, 'avellyn': 1, 'amongst': 5, 'press': 34, 'constitut': 23, 'across': 13, 'atyp': 22, 'tracheotomi': 5, 'suppor': 1, 'transform': 2, 'spesi': 1, 'ardsnet': 10, 'ure': 3, 'biatrial': 2, 'meaning': 7, 'smudg': 1, 'technician': 1, 'flora': 11, 'ag': 17, 'pertin': 41, 'hypoxem': 26, 'themselv': 8, 'flutter': 15, 'connector': 1, 'gear': 3, 'must': 9, 'ori': 2, 'fibrinogen': 23, 'reson': 14, 'insult': 11, 'signfiic': 1, 'promotil': 1, 'headach': 13, 'proceed': 11, 'pmv': 23, 'empyema': 5, 'destin': 28, 'inaccur': 3, 'phosphoru': 28, 'cll': 3, 'random': 6, 'ibw': 3, 'dimsh': 1, 'coomb': 2, 'apprear': 1, 'dimer': 5, 'sooner': 5, 'input': 22, 'iodin': 5, 'lymphocytosi': 1, 'hydocorison': 1, 'anteriorli': 19, 'feasibl': 7, 'bad': 6, 'sens': 9, 'kcal': 21, 'joint': 19, 'fena': 10, 'ronchor': 5, 'aranesp': 1, 'cyanosi': 19, 'incomplet': 16, 'palpit': 7, 'sh': 48, 'jctn': 1, 'therapist': 10, 'challeng': 14, 'una': 2, 'symptiom': 1, 'daytim': 8, 'framework': 1, 'blurri': 8, 'ogtub': 3, 'florid': 1, 'fxn': 8, 'pseudomon': 5, 'folat': 4, 'loud': 17, 'maxim': 16, 'guaiac': 10, 'immunolog': 7, 'retrach': 1, 'cvo': 3, 'unrev': 5, 'ckd': 6, 'tco': 45, 'ent': 6, 'leukem': 1, 'gpc': 16, 'midaz': 19, 'dentit': 12, 'preoxygen': 3, 'dlnc': 1, 'defici': 4, 'wma': 4, 'circumst': 5, 'pmi': 16, 'willl': 2, 'disadvantag': 1, 'pah': 1, 'consider': 22, 'reconsid': 3, 'acd': 3, 'thyroid': 16, 'orthopnea': 9, 'fuse': 2, 'kit': 4, 'lvh': 14, 'multifactori': 18, 'subject': 30, 'parenter': 8, 'tubular': 9, 'chlorid': 42, 'chlorhexidin': 6, 'hydrostat': 2, 'dchf': 3, 'dysuria': 8, 'conjunctiv': 10, 'hypotensiona': 1, 'pfi': 37, 'spectrum': 25, 'abruptli': 3, 'lipitor': 8, 'stock': 1, 'transfomr': 1, 'deliri': 11, 'thoracotomi': 3, 'ce': 15, 'chose': 1, 'kayexl': 1, 'hydorcortison': 1, 'tingl': 7, 'search': 2, 'nourish': 24, 'picclin': 2, 'pusl': 1, 'resembl': 1, 'spine': 29, 'development': 2, 'caregriv': 1, 'dyski': 1, 'cancel': 9, 'redd': 1, 'mitochondri': 1, 'pool': 7, 'craem': 1, 'stimmuli': 1, 'ostomi': 6, 'dampenend': 1, 'bolou': 1, 'occlus': 11, 'taker': 2, 'occlud': 6, 'pneumonectomi': 4, 'wheezey': 2, 'postiv': 3, 'spinal': 10, 'reposist': 1, 'rhip': 1, 'elav': 1, 'oze': 1, 'whenev': 2, 'agiti': 1, 'hypercarb': 19, 'wiht': 3, 'inbetween': 2, 'intuabt': 2, 'retard': 3, 'fixat': 2, 'commqand': 1, 'scortal': 1, 'scoliosi': 4, 'crisp': 1, 'carview': 1, 'dimminish': 2, 'scoliot': 1, 'wednesday': 9, 'functio': 1, 'cdi': 4, 'bolusx': 1, 'monit': 2, 'dye': 4, 'pouch': 2, 'caretak': 4, 'destur': 1, 'undetermin': 12, 'secr': 2, 'temporarili': 4, 'saliva': 1, 'sig': 15, 'afibril': 1, 'serosanquen': 1, 'reasur': 1, 'kyphoscoliosi': 3, 'creatin': 3, 'dificult': 1, 'blankli': 1, 'tenti': 1, 'skelet': 3, 'increa': 4, 'mainstem': 5, 'percent': 3, 'hemodyna': 1, 'multidiciplanari': 1, 'plain': 3, 'ment': 1, 'rbsi': 1, 'deform': 11, 'respirat': 1, 'drpped': 1, 'anxou': 1, 'intermittingli': 1, 'repo': 3, 'sibl': 11, 'cear': 1, 'vasoconstrict': 6, 'bedridden': 1, 'approc': 1, 'qs': 5, 'booth': 1, 'reluct': 6, 'frighten': 1, 'attorney': 3, 'colostomi': 3, 'daqi': 1, 'phcp': 1, 'atelectesi': 1, 'nh': 14, 'venco': 1, 'bibasilair': 1, 'helath': 1, 'illeostmi': 1, 'breakdonw': 1, 'power': 3, 'sectret': 2, 'rocecet': 1, 'seek': 5, 'rrl': 1, 'gasp': 10, 'susequ': 1, 'sequenc': 6, 'hook': 8, 'conspicu': 2, 'carvu': 2, 'aloc': 1, 'needi': 1, 'ambien': 2, 'outpur': 1, 'aox': 3, 'cytolog': 10, 'onward': 1, 'culmin': 1, 'transthorac': 10, 'beefi': 1, 'toiltet': 1, 'recev': 3, 'elect': 10, 'swab': 16, 'obtund': 6, 'eu': 2, 'rapidli': 16, 'tox': 5, 'vasopessor': 1, 'nipv': 1, 'displac': 6, 'paperwork': 2, 'uprb': 1, 'vf': 2, 'opt': 3, 'apt': 1, 'hack': 1, 'median': 6, 'coexist': 3, 'revea': 1, 'reconstruct': 7, 'prevascular': 8, 'smapl': 1, 'nrbmfor': 1, 'noncontrast': 9, 'careveu': 1, 'fluiid': 1, 'sagitt': 22, 'cholang': 2, 'mo': 4, 'dosag': 5, 'textur': 5, 'noontim': 3, 'realist': 6, 'maximun': 2, 'tran': 11, 'sternotomi': 13, 'largest': 7, 'colour': 5, 'elicit': 4, 'inotor': 1, 'forward': 15, 'cannt': 1, 'barrium': 1, 'vestra': 1, 'pelvic': 17, 'hight': 1, 'insur': 11, 'peritrach': 1, 'phenylepherin': 1, 'workier': 1, 'dat': 1, 'osteophytosi': 1, 'sic': 1, 'inguin': 9, 'enthesopath': 1, 'svr': 4, 'coron': 23, 'pyret': 1, 'dig': 6, 'anatom': 7, 'intrathorac': 9, 'subcarin': 10, 'hypoexemia': 1, 'broaden': 13, 'anaplast': 1, 'scali': 1, 'respi': 2, 'inutabt': 1, 'toelrat': 2, 'harsh': 1, 'consistanli': 1, 'succ': 4, 'hida': 4, 'hypobowel': 1, 'vip': 2, 'retro': 1, 'hav': 1, 'actu': 1, 'outgrowth': 1, 'esophag': 25, 'gall': 3, 'etonom': 1, 'fludrocort': 1, 'contributori': 4, 'divis': 3, 'comaprison': 1, 'discret': 6, 'paf': 3, 'cash': 18, 'lisinopril': 8, 'asymptommat': 1, 'advair': 3, 'hcap': 9, 'aricept': 6, 'avf': 11, 'durat': 17, 'creon': 1, 'headneg': 1, 'onlin': 1, 'forgetful': 1, 'sling': 1, 'echymot': 2, 'ramu': 2, 'exacerb': 18, 'delirium': 16, 'wallet': 17, 'singulair': 1, 'diovan': 2, 'credit': 19, 'wct': 1, 'aortobiiliac': 1, 'zyprexa': 4, 'cct': 2, 'nwb': 1, 'cigarett': 1, 'sevalam': 1, 'humer': 3, 'contra': 1, 'humeru': 3, 'cardiomedi': 1, 'sate': 11, 'yom': 6, 'jekh': 1, 'spiriva': 2, 'demostr': 1, 'cloth': 19, 'granuloma': 4, 'innumer': 4, 'hematocrit': 36, 'nasopharynx': 2, 'asthma': 4, 'flash': 11, 'money': 18, 'analysi': 19, 'acheiv': 2, 'moreov': 3, 'llq': 4, 'citalopram': 4, 'ppm': 6, 'jewelri': 18, 'paroxysm': 3, 'polycyst': 2, 'thallium': 1, 'jxrl': 2, 'presenst': 1, 'resless': 1, 'intermediu': 3, 'signatur': 19, 'hypoxemia': 38, 'tortuos': 2, 'lit': 6, 'mobilizi': 1, 'hemostat': 3, 'eet': 1, 'paramont': 1, 'irrevers': 4, 'tof': 3, 'variant': 8, 'vigil': 4, 'rsr': 5, 'floflan': 1, 'taler': 1, 'svo': 8, 'nobodi': 1, 'ceftazdim': 1, 'cost': 2, 'aliv': 5, 'nausa': 1, 'sucess': 2, 'expecter': 1, 'affix': 1, 'transduc': 4, 'slate': 1, 'con': 8, 'calcul': 5, 'remedi': 1, 'alvealor': 1, 'floa': 1, 'certainli': 19, 'quantiti': 3, 'cco': 2, 'cisatracuriun': 1, 'slh': 1, 'dlpic': 1, 'optimum': 1, 'raw': 3, 'prec': 1, 'play': 5, 'grappel': 1, 'hemmorrag': 1, 'adeq': 10, 'asssist': 2, 'fick': 3, 'anxious': 1, 'tvol': 1, 'nanogram': 1, 'overngiht': 1, 'truli': 3, 'onvernight': 1, 'assid': 1, 'millivolt': 1, 'itch': 4, 'gingeral': 1, 'diladid': 1, 'ramp': 2, 'swann': 1, 'wbcc': 2, 'mgiv': 2, 'argatroban': 3, 'acetaminophen': 12, 'ulnar': 2, 'exactli': 1, 'unreli': 4, 'excret': 5, 'brachial': 20, 'flolan': 2, 'loperamid': 1, 'imposs': 4, 'erythemat': 5, 'hickman': 2, 'corti': 2, 'viagra': 1, 'buck': 4, 'gastrocult': 1, 'pharmacolog': 5, 'univ': 3, 'creep': 4, 'lunchtim': 1, 'hemoptysi': 10, 'earlob': 2, 'sclerodactyl': 1, 'lowest': 5, 'de': 8, 'pvr': 4, 'crackel': 1, 'swanganz': 2, 'milliamp': 1, 'straighten': 2, 'guaic': 7, 'adv': 4, 'distennd': 1, 'pharmaci': 11, 'aztreonem': 1, 'drainig': 2, 'ovisit': 1, 'yello': 1, 'paratrach': 8, 'reaccumul': 8, 'capillari': 4, 'settong': 1, 'ccc': 6, 'pancultur': 7, 'cutur': 1, 'wnr': 2, 'loger': 1, 'nuse': 1, 'comprehens': 3, 'leftward': 9, 'inforc': 2, 'sctl': 1, 'wil': 4, 'crepitu': 7, 'stripe': 1, 'chill': 7, 'expand': 13, 'derecruit': 5, 'antrum': 7, 'peribronchi': 3, 'sunday': 5, 'packet': 3, 'accumul': 6, 'aortopulmon': 1, 'dissemin': 3, 'trunk': 4, 'phosphat': 21, 'regiment': 3, 'evacu': 3, 'firn': 1, 'becasu': 1, 'lucon': 1, 'plaec': 1, 'ressusit': 1, 'lun': 1, 'aztreonam': 5, 'antecubit': 3, 'straw': 9, 'parallel': 2, 'aprrox': 1, 'nonpapular': 1, 'disconect': 1, 'gyy': 1, 'neutra': 5, 'travers': 6, 'pogt': 1, 'aztronem': 1, 'hte': 1, 'huo': 4, 'betw': 1, 'spit': 2, 'entrant': 1, 'maint': 10, \"huo'\": 1, 'orthodrom': 1, 'pulmunari': 1, 'arrythmia': 4, 'remind': 8, 'psvt': 1, 'arhythmia': 1, 'maex': 1, 'anyon': 2, 'hoh': 4, 'bsx': 2, 'agreeabl': 4, 'vacat': 2, 'marjor': 1, 'cfm': 1, 'ivx': 1, 'duti': 1, 'ampul': 1, 'announc': 1, 'admittedto': 1, 'linezloid': 1, 'elsewher': 2, 'volumin': 1, 'substern': 2, 'thinnish': 1, 'nebx': 1, 'permit': 3, 'nemb': 1, 'oropharnx': 2, 'smoothli': 1, 'db': 8, 'nasotrach': 3, 'clearsecret': 1, 'pave': 1, 'nrbfm': 2, 'hole': 9, 'clammi': 5, 'consistac': 1, 'cluster': 8, 'attemtp': 3, 'nervou': 2, 'dulcalox': 1, \"pvc'\": 1, 'sligthli': 1, 'bonchodil': 1, 'paraspin': 2, 'microneb': 1, 'aever': 1, 'hoff': 1, 'yankuar': 1, 'anim': 3, 'vocal': 6, 'incsec': 1, 'indicatedat': 1, 'oinment': 1, 'plmt': 2, 'bronchopulomari': 1, 'outpati': 17, 'spray': 5, 'restain': 1, 'redistribut': 7, 'creami': 6, 'ssc': 1, 'snake': 1, 'burnt': 1, 'weam': 1, 'bvmr': 1, 'coat': 3, 'sesatur': 1, 'yset': 1, 'conray': 2, 'vertic': 4, 'enzim': 1, 'epsiod': 3, 'flouroscopi': 1, 'repolar': 8, 'omber': 1, 'handl': 4, 'vace': 1, 'effectof': 1, 'isordil': 2, 'attmept': 1, 'rous': 3, 'peristalsi': 1, 'oout': 1, 'npa': 1, 'inabl': 23, 'cva': 16, 'recycl': 2, 'yellowish': 5, 'lenght': 1, 'gastroduoden': 1, 'radiat': 14, 'lag': 2, 'advoc': 3, 'intestin': 8, 'tirat': 1, 'afebrel': 1, 'perman': 3, 'assur': 8, 'partli': 9, 'interactiv': 1, 'dubbhoff': 1, 'verif': 1, 'coher': 1, 'peni': 3, 'duodenum': 9, 'cong': 2, 'tracheal': 10, 'prong': 4, 'pro': 5, 'passag': 2, 'orogastrc': 1, 'wetter': 1, 'perc': 6, 'probmot': 1, 'hematur': 1, 'antral': 2, 'joke': 1, 'attain': 4, 'linezolid': 7, 'button': 3, 'orthodox': 2, 'recept': 2, 'religi': 3, 'earil': 1, 'ration': 3, 'neosenephrin': 1, 'holiday': 4, 'asytol': 3, '^peep': 2, 'reinforc': 6, 'toungu': 1, 'mere': 2, 'anox': 3, 'respitatori': 1, 'abn': 1, 'eyelid': 4, 'pta': 8, 'nsw': 1, 'anoxia': 2, 'conditon': 1, 'boarder': 1, 'distraught': 2, 'solarium': 1, 'repsond': 2, 'abrupt': 4, \"rec'\": 6, 'ineffectu': 2, 'indepth': 1, 'honor': 1, 'belief': 2, 'grunt': 2, 'pulsatil': 2, 'parent': 4, 'peerl': 1, \"sx'ing\": 3, 'lean': 4, 'belt': 1, 'sibil': 1, 'autism': 1, 'someon': 4, 'dignifi': 1, 'collap': 2, 'orophanyng': 1, 'experi': 10, 'increment': 3, 'eveninng': 1, 'posey': 2, 'taa': 1, 'bulg': 1, 'endovagin': 1, 'adnexa': 3, 'endometrium': 1, 'endometri': 2, 'stab': 1, 'dob': 1, 'uteru': 6, 'sugic': 1, 'unresolv': 2, 'op': 8, 'print': 1, 'obstetr': 1, 'fibroid': 2, 'automat': 2, 'aneurysm': 8, 'oper': 8, 'nb': 2, 'pem': 1, 'facemask': 7, 'respitori': 4, 'famil': 4, 'ansesthesia': 1, 'deeper': 2, 'cisatracrium': 1, 'varrifi': 1, 'intiti': 1, 'bibap': 1, 'backsid': 2, 'cista': 1, 'dur': 1, 'varri': 1, 'physican': 2, 'adendum': 2, 'inexplic': 1, 'myeloma': 4, 'ziprasidon': 1, 'valproic': 2, 'recumb': 2, 'mom': 5, 'tanish': 3, 'glenohumer': 2, 'adminst': 1, 'sv': 2, 'somnul': 3, 'lcan': 1, 'inadequ': 12, 'yesterda': 2, 'occaision': 4, 'lha': 1, 'geodon': 1, 'physio': 2, 'dyspnoic': 1, 'repiratori': 2, 'btw': 3, 'imbal': 4, 'awaitng': 2, 'sucton': 1, 'plethora': 2, 'lbr': 1, 'scater': 1, 'obstr': 2, 'cardiopulm': 2, 'microdata': 1, 'aplli': 2, 'abomin': 1, 'whose': 5, 'indweel': 1, 'avss': 1, 'calor': 2, 'analgesia': 6, 'profus': 3, 'generalis': 2, 'ditiazem': 1, 'abaras': 1, 'cephal': 9, 'prupos': 1, 'cirul': 1, 'sesi': 1, 'display': 11, 'persuad': 1, 'sole': 2, 'repair': 9, 'prop': 4, 'feurea': 5, 'coli': 4, 'resu': 3, 'muddi': 4, 'declar': 7, 'adam': 3, 'understood': 5, 'dysnchronu': 1, 'multidisciplinari': 9, 'obviat': 1, 'rdf': 1, 'cast': 7, 'intussuscept': 2, 'flood': 1, 'carri': 5, 'nephrotox': 1, 'ciprofloxacin': 13, 'dire': 1, 'symptommat': 1, 'incision': 1, 'dorsal': 6, 'intoler': 24, 'wcc': 1, 'simplifi': 1, 'ventral': 1, 'ascul': 1, 'incarcer': 2, 'oft': 1, 'repleat': 8, 'mgting': 1, 'manifest': 6, 'extraordinari': 2, 'dismal': 2, 'adhes': 5, 'sbo': 7, 'sem': 7, 'referr': 14, 'shfit': 1, 'onu': 1, 'neob': 4, 'neighbor': 2, 'interpolar': 3, 'txpb': 2, 'echocardiographi': 3, 'bronchiectasi': 7, 'aberr': 2, 'extralumin': 3, 'multilevel': 6, 'splenul': 3, 'prox': 1, 'mesenter': 15, 'mlhh': 1, 'canal': 3, 'sacroiliac': 2, 'accordion': 1, 'tachomyopathi': 1, 'intermedi': 4, 'clostridium': 5, 'proctiti': 1, 'gutter': 5, 'lymphoprolif': 1, 'tee': 11, 'helic': 8, 'anastomosi': 2, 'prune': 2, 'subpleur': 6, 'paraaort': 4, 'implic': 7, 'hemicolectomi': 2, 'paracol': 4, 'milk': 3, 'transesophag': 3, 'perihepat': 5, 'traction': 2, 'hyperdens': 8, 'subcost': 1, 'reticul': 3, 'aortopulmonari': 2, 'valvular': 10, 'honeycomb': 2, 'precarin': 3, 'transvers': 7, 'annulu': 4, 'ileocolon': 1, 'biventricular': 7, 'unbroken': 4, 'moisten': 3, \"po'\": 2, 'metopolol': 1, 'od': 5, 'hose': 1, 'rtn': 1, 'strategi': 3, 'vasculatur': 12, '\\x13pt': 1, 'produst': 1, 'dayshift': 3, 'ambul': 6, 'tranfer': 1, 'silent': 2, 'awil': 1, 'ronchoru': 1, 'god': 1, \"piv'\": 1, 'gun': 1, 'explainig': 1, 'maxillari': 7, 'upt': 2, 'witch': 1, 'hyperchol': 1, 'swollow': 1, 'duoguard': 1, \"'sundown\": 1, 'psychiatri': 2, 'illicit': 3, 'piperacillin': 36, 'pleasantli': 1, 'hospitil': 1, 'slowley': 1, 'laser': 1, 'statement': 1, 'subarachnoid': 1, 'pali': 2, 'vna': 7, 'deflect': 3, 'kill': 3, 'slightl': 1, 'explor': 3, 'epiglott': 3, 'bnp': 9, 'aao': 5, 'simethicon': 3, 'conctact': 1, 'biapic': 3, 'tb': 5, 'thrust': 1, 'perhap': 15, 'skincar': 2, 'mulleri': 1, 'orogastr': 13, 'scare': 4, 'grew': 6, 'eccessori': 1, 'insist': 3, 'hila': 4, 'relay': 4, 'abil': 16, 'fetanyl': 2, 'disagre': 1, 'strep': 4, 'resend': 4, 'svn': 1, 'tachycarid': 1, 'agigt': 1, 'remanin': 1, 'entireti': 2, 'notitifi': 1, 'bibpap': 2, 'integu': 3, 'tub': 1, 'levoflaxacin': 1, 'arway': 1, 'immediatli': 1, 'propfol': 2, 'pngt': 4, 'bp^': 1, 'heliox': 4, 'lobectomi': 5, 'drwn': 1, 'tab': 9, 'guaz': 1, 'sete': 1, 'morin': 1, \"cc'sfor\": 1, 'cocyx': 2, 'sharpli': 3, 'rhonchou': 2, 'repsir': 2, 'outcv': 1, 'racem': 1, 'requr': 4, 'interest': 13, 'diflucan': 4, 'quietli': 1, 'csurg': 1, 'osteoblast': 3, 'metatars': 1, 'leni': 8, 'serolog': 2, 'futil': 4, 'myositi': 1, 'methadon': 5, 'deem': 4, 'nephropathi': 3, 'kal': 1, 'sfyb': 1, 'veg': 2, 'circumferenti': 2, 'rim': 2, 'tibial': 9, 'pve': 1, 'osteoarthr': 4, 'dilauidid': 1, 'mssa': 5, 'avr': 6, 'synergi': 1, 'trochant': 1, 'hyoptens': 1, 'bmi': 10, 'reform': 12, 'jvd': 10, 'fsg': 3, 'hepatosplenomegali': 1, 'subchondr': 2, 'ht': 3, 'osteo': 2, 'surveil': 5, 'anerysm': 1, 'ucx': 14, 'harrt': 2, 'dehiss': 1, 'erythema': 7, 'hyperparathyroid': 3, 'asciti': 4, 'lesser': 6, 'viridan': 1, 'fsgn': 1, 'multidetector': 9, 'prosthet': 2, 'splenomegali': 3, 'cachect': 3, 'ln': 3, 'monophas': 1, 'plafond': 1, 'endors': 3, 'haart': 4, 'specium': 1, 'circumscrib': 1, 'hcv': 6, 'candidaci': 2, 'sevelam': 1, 'lifestyl': 1, 'malnutrit': 15, 'soleu': 1, 'articular': 1, 'imping': 2, 'bioprosthet': 2, 'thrill': 2, 'qhd': 1, 'tyelenol': 1, 'mycot': 1, 'hopsic': 1, 'decompress': 7, 'amlodipin': 5, 'suppl': 13, 'suspician': 2, 'cxwc': 4, 'ale': 1, 'embolu': 12, 'dehisc': 3, 'heb': 1, 'macrovascular': 1, 'ao': 2, 'supsect': 1, 'ankl': 10, 'admisison': 1, 'triphas': 1, 'emboli': 7, 'echodens': 1, 'ginger': 1, 'tu': 1, 'guiaic': 4, 'immunosuppress': 4, 'tibiotalar': 1, 'lbp': 1, 'embol': 19, 'contigu': 16, 'bruit': 5, 'regurg': 6, 'mmp': 2, 'carbon': 8, 'tendernss': 1, 'cellul': 2, 'illeu': 3, 'foreign': 4, 'rock': 1, 'narrow': 18, 'vege': 1, 'tbili': 3, 'dorsum': 1, 'commod': 4, 'ersd': 1, 'musculatur': 2, 'hsq': 1, 'tazobactam': 28, 'adat': 2, 'antihypertens': 9, 'nephrocap': 1, 'abi': 1, 'osteolyt': 4, 'hbv': 1, 'vegit': 2, 'cinacalcet': 1, 'ring': 6, 'favor': 12, 'flexor': 1, 'throb': 1, 'veloc': 7, 'hydralain': 1, 'nerv': 7, 'emper': 3, 'urosepsi': 5, 'cardimeg': 1, 'roughli': 5, 'entub': 1, 'agonol': 1, 'clearifi': 1, 'venti': 1, 'gelfoam': 1, 'diverticulosi': 4, 'blastic': 8, 'bisacodyl': 8, 'reinstitut': 2, 'thalamu': 1, 'velcro': 1, 'vista': 2, 'thk': 1, 'vertex': 5, 'aros': 2, 'csf': 3, 'serum': 19, 'hydroxyea': 1, 'nimv': 4, 'toleart': 2, 'bronchscopi': 1, 'pericol': 1, 'asysol': 1, 'perisplen': 3, 'dudoderm': 1, 'lucenc': 11, 'signifc': 2, 'catheter': 2, 'wegen': 1, 'coxxyx': 1, 'cortic': 7, 'tcl': 1, 'reso': 1, 'glucomet': 2, 'parament': 1, 'sauc': 4, 'dimin': 2, 'stimilu': 1, 'diverticul': 4, 'perpl': 1, 'avblock': 1, 'leukemia': 4, 'tamer': 1, 'brachiocephal': 17, 'standbi': 5, 'skull': 7, 'ectat': 1, 'prismat': 1, 'pluggi': 2, 'dialzi': 1, 'perpendicular': 1, 'lsubclavian': 1, 'coverd': 1, 'pretrach': 5, 'cml': 1, 'hiflo': 2, 'dietari': 1, 'xx': 1, 'wegner': 1, 'continun': 1, 'currentl': 3, 'norvsasc': 1, 'cepetim': 1, 'cerebellar': 4, 'steadi': 5, 'agb': 2, 'rp': 2, 'cmml': 1, 'deciscion': 1, 'peopl': 5, 'adenoca': 1, 'fleck': 1, 'mechaniclli': 1, 'insens': 4, 'volulm': 1, 'chagn': 1, 'onthi': 2, 'copoiu': 1, 'ocmmand': 1, 'beig': 2, 'exploratori': 1, 'paravertebr': 2, 'diffficult': 1, 'fli': 5, 'nted': 1, 'preliminarili': 3, 'ry': 1, 'angiopathi': 1, 'hemocult': 1, 'remot': 4, \"mod't\": 1, 'laparotomi': 1, 'noi': 1, 'chage': 2, 'ttube': 1, 'misc': 1, 'hed': 1, 'rose': 5, '^^rr': 2, 'cchour': 1, 'suspend': 2, 'trophic': 2, 'esp': 11, 'misshapen': 1, 'hydral': 5, 'omelett': 1, 'humid': 2, 'inhibitor': 5, 'est': 3, 'reclin': 1, 'zoysn': 3, 'aforement': 2, 'megac': 1, 'abdoment': 1, 'ace': 9, 'clonazapam': 1, 'dinner': 5, 'fed': 3, 'nli': 1, 'sched': 2, 'cholesterol': 2, 'calori': 16, 'rhochor': 3, 'cereal': 1, 'redirect': 2, 'plerual': 3, 'rhytham': 1, 'nonsens': 2, 'kilo': 1, 'requirinf': 1, 'conjuct': 1, 'ys': 1, 'yhesterday': 1, 'dobuta': 2, 'perifer': 1, 'ceftazidim': 4, 'toenail': 2, 'ventiltori': 1, 'tepid': 2, 'taketsubo': 1, '^wbc': 1, \"'sst\": 1, 'ofr': 1, 'wehen': 1, 'reqir': 1, 'church': 1, 'ceftriax': 1, 'boyfriend': 1, 'flacid': 3, 'appopri': 1, 'diaphoresi': 2, 'multivessel': 2, 'humolog': 1, 'prophalact': 1, 'profilax': 1, 'asympt': 1, 'vese': 2, 'boy': 1, 'suppos': 6, 'hotel': 2, 'rnoc': 1, 'school': 2, 'rouseabl': 1, 'isnp': 1, 'consentr': 1, 'htd': 1, 'responc': 2, 'perirect': 2, 'eccymosi': 2, 'thormbu': 1, 'sydron': 1, 'howevet': 1, 'phenytoin': 2, 'lpew': 1, 'anascara': 2, 'manoeuv': 1, 'parametr': 1, 'snx': 5, 'craniotomi': 2, 'oliguria': 7, 'intermittint': 1, 'lovenox': 4, 'pinsp': 2, 'orallli': 1, 'sluggishli': 6, 'rigor': 1, 'oygen': 1, 'vasporessin': 1, 'dilantin': 4, 'spare': 12, 'flextub': 1, 'duoden': 4, 'insid': 4, 'anasrca': 1, 'tma': 1, 'redress': 4, 'decret': 1, 'dysynchron': 9, 'esoph': 4, 'unrealist': 2, 'forth': 5, 'rescuscit': 2, 'prioriti': 11, 'zoysyn': 1, 'classif': 1, 'rhythmic': 1, 'reattempt': 4, 'disorient': 2, 'bisbi': 1, 'inappropri': 6, 'underestim': 6, 'py': 1, 'fluoroquinolon': 1, 'cipso': 1, 'propafol': 5, 'risbi': 3, 'suffici': 9, 'slp': 7, 'gestur': 4, 'ctab': 7, 'narc': 2, 'occurr': 3, 'threshold': 10, 'dial': 2, 'crf': 4, 'workup': 10, 'unplan': 3, 'mastic': 2, 'foi': 2, 'clonu': 5, 'motor': 5, 'inspiratori': 19, 'reproduc': 1, 'levothyroxin': 5, 'aphonia': 1, 'trazadon': 3, 'acoust': 6, 'apici': 1, 'labial': 2, 'consequ': 7, 'extubat': 2, 'lingual': 3, 'benefif': 1, 'ramya': 2, 'context': 8, 'relev': 27, 'mmv': 5, 'furosemid': 18, 'protrus': 1, 'unmetabol': 1, 'certain': 2, 'labatolol': 1, 'cup': 1, 'gfr': 4, 'seat': 5, 'edentul': 2, 'dwindl': 2, 'labetalol': 2, 'doxercalciferol': 1, 'buccal': 2, 'labetolol': 2, 'aaa': 3, 'tob': 2, 'suspiciion': 1, 'hgb': 21, 'shadow': 8, 'endobronchi': 4, 'fluent': 3, 'lighten': 11, 'viscou': 1, 'pivx': 1, 'bedsight': 1, 'mucin': 1, 'couas': 1, 'retri': 4, 'calmer': 1, 'claim': 15, 'binder': 5, 'secretin': 1, 'ctx': 3, 'mouthcar': 5, 'share': 7, 'pmn': 15, 'azithro': 8, 'facet': 2, 'cpcp': 2, 'hypothyroid': 11, 'rebronch': 1, 'attg': 2, 'holosystol': 1, 'tetracyclin': 2, 'holosyst': 2, 'establish': 11, 'oa': 1, 'arestraint': 1, 'dentur': 5, 'email': 6, 'dyston': 2, 'nasaotrach': 1, 'phlegm': 1, 'epitheli': 11, 'clonic': 1, 'hemodynamicli': 1, 'conserv': 4, 'reexpand': 1, 'phosphor': 1, 'hld': 1, 'strict': 7, 'whiteout': 1, 'systolicali': 1, 'outstand': 1, 'rlsb': 1, 'besid': 4, 'thirsti': 2, 'cautious': 1, 'intellig': 1, 'bronchiti': 4, 'pallait': 1, 'spill': 1, 'etio': 1, 'blous': 6, 'engag': 3, 'tsp': 4, 'trand': 1, 'parathyroid': 1, 'stabli': 3, 'unwil': 2, 'distens': 10, 'usip': 1, 'construct': 2, 'intramur': 1, 'uid': 1, 'boop': 4, 'ipf': 12, 'tia': 2, 'congenit': 3, 'version': 7, 'transplan': 1, 'microbubbl': 2, 'proven': 1, 'destruct': 4, 'cerebrovascular': 2, 'dysmotil': 2, 'submit': 8, 'arthroplasti': 3, 'collagen': 1, 'pfo': 7, 'recon': 10, 'scleroderma': 1, 'instrument': 2, 'hyxpoxia': 1, 'reticular': 10, 'uip': 1, 'transaort': 2, 'reflux': 6, 'lumbar': 12, 'bore': 5, 'curtain': 1, 'hallucin': 3, 'increasd': 2, 'sedement': 1, 'furthermor': 2, 'pullback': 1, 'incred': 1, 'maitain': 2, 'debat': 2, 'claustrophobia': 1, 'spastic': 1, 'tapper': 2, 'cheeck': 1, 'goodby': 7, 'claustrophob': 1, 'rhythym': 1, 'nitrat': 2, 'polit': 1, 'revisit': 4, 'perf': 4, 'initiali': 2, 'achill': 1, \"sx'ng\": 2, 'setti': 1, 'idiopath': 4, 'teradyn': 1, 'firmer': 2, 'ioc': 1, 'deepli': 2, 'repost': 1, 'tramua': 1, 'ccn': 4, 'frequ': 2, 'oxa': 2, 'degress': 1, 'chanag': 1, 'collaber': 1, 'pf': 3, 'bleb': 2, 'heavili': 5, 'big': 8, 'rhoncor': 5, 'cataract': 5, 'alsdo': 1, 'brn': 2, 'rap': 1, 'secreiton': 2, 'hygen': 2, 'rhonchour': 2, 'aova': 2, 'tten': 1, 'flank': 8, 'unopacifi': 1, 'fasicul': 1, 'adden': 1, 'iwth': 1, 'beginnng': 1, 'curvilinear': 2, 'meatu': 5, 'eventaulli': 1, 'receeiv': 1, 'mattess': 1, 'pararen': 2, 'stg': 4, 'allerg': 3, 'twave': 2, 'pateitn': 1, 'absorpt': 5, 'vre': 6, 'redos': 4, 'rc': 1, 'eitiolog': 1, 'norvasc': 2, 'beginni': 1, 'allevi': 5, 'resit': 9, 'levofloxin': 3, 'cavum': 1, 'hyperkalem': 3, 'drng': 3, 'verga': 1, 'notif': 5, 'unsuit': 1, 'wih': 1, 'balalnc': 1, 'preceed': 1, 'appov': 1, 'un': 3, 'osteoarthrit': 1, 'trendelenberg': 2, 'worsend': 2, 'irrigatioin': 1, 'pleasa': 1, 'asbestosi': 1, 'thalam': 1, 'withdrew': 3, 'invert': 1, 'urolog': 4, 'pellucidum': 1, 'ppf': 1, 'fic': 1, 'varic': 7, 'unarous': 4, 'hemiparesi': 3, 'cor': 4, 'electrocauderi': 1, 'menopaus': 1, 'doubt': 9, 'atheroma': 3, 'nsaid': 2, 'detrol': 2, 'stair': 3, 'arrous': 3, 'downgo': 1, 'muffl': 1, 'heterotop': 2, 'tsh': 7, 'imi': 1, 'infxn': 2, 'appendix': 4, 'mening': 6, 'seroquel': 2, 'unresponsiv': 1, 'rhinorrhea': 1, 'drew': 1, 'hsm': 8, 'ecchymos': 5, 'thr': 1, 'cement': 1, 'scopalamin': 4, 'yof': 5, 'indetermin': 12, 'gb': 5, 'assoc': 4, 'qt': 3, 'contractur': 1, 'plantar': 1, 'gonad': 1, 'ingest': 3, 'lbbb': 2, 'sma': 3, 'antimicrobi': 11, 'usoh': 3, 'egd': 7, 'qh': 6, 'align': 2, 'mmm': 10, 'orif': 2, 'hemiparasi': 1, 'groan': 2, 'rm': 1, 'requier': 2, 'lenticulostri': 1, 'atalectasi': 2, 'lp': 5, 'romi': 1, 'hemiarthroplasti': 1, 'disloc': 4, 'adnex': 1, 'dssg': 1, 'uit': 1, 'tobromycin': 1, 'uppon': 1, 'vaso': 3, 'pupl': 2, 'ovb': 2, 'escol': 1, 'vasoppresin': 1, 'therapeuitc': 1, 'miltipl': 2, 'thta': 2, 'pendn': 1, 'guardianship': 2, 'vasopresin': 2, 'befriend': 1, 'program': 7, 'underway': 3, 'unbal': 1, 'bicar': 1, 'paraplegia': 1, 'monitoirng': 1, 'cotn': 1, 'offici': 7, 'uint': 1, 'doputamin': 1, 'comand': 2, 'flexacil': 1, 'lvel': 1, 'tobro': 1, 'tobra': 5, 'zocyn': 2, 'surrog': 2, 'transf': 1, 'cllose': 1, 'oliguricb': 1, 'retent': 7, 'tmp': 8, 'auto': 7, 'allopurinol': 6, 'lipidemia': 1, 'petechia': 7, 'excess': 11, 'presumpt': 3, 'peteci': 1, 'smx': 7, 'magnet': 2, 'ringworm': 1, 'kind': 1, 'portacath': 4, 'bee': 8, 'sclca': 1, 'migrat': 6, 'interdisciplinari': 14, 'sedtat': 2, 'mth': 2, 'droppedfrom': 1, 'nab': 5, 'conveni': 1, 'effectivli': 1, 'calc': 20, 'holder': 2, 'wgt': 17, 'annoint': 1, 'zocor': 2, 'newest': 1, 'elderi': 1, 'love': 4, 'denial': 2, 'alkalin': 15, 'clarif': 5, 'harm': 6, 'galactomannan': 7, 'celexa': 2, 'formula': 9, 'rheumatoid': 4, 'digoxin': 9, 'dissect': 6, 'ignor': 1, 'glucan': 8, 'rite': 4, 'enorm': 1, 'rectobulbar': 1, 'levofoxacin': 1, 'vtachi': 2, 'fing': 1, 'gout': 6, 'bless': 3, 'hemorrag': 1, 'lyphanget': 1, 'stepson': 1, 'xrt': 7, 'protinx': 1, 'sclc': 1, 'infra': 1, 'gola': 1, 'hemodynim': 16, 'plot': 2, 'fentayl': 3, 'icd': 5, 'exfoli': 1, 'score': 5, 'writer': 2, 'arthriti': 6, 'hilum': 2, 'thoracetesi': 1, \"'abl\": 1, 'puffer': 1, 'postsurg': 2, 'cracker': 1, 'lla': 1, 'articl': 2, 'transud': 6, 'trnasport': 1, 'lefloxin': 1, \"pt'scode\": 1, 'frop': 1, 'propopfol': 1, 'rewuir': 1, 'thouhg': 1, 'dilut': 4, 'mulitsystem': 1, 'lawyer': 2, 'diltizem': 1, 'speciman': 1, 'whne': 2, 'bend': 2, 'cecal': 1, 'bifurc': 2, 'fatti': 1, 'diaphragmat': 4, 'cult': 8, 'eechymot': 1, 'vd': 1, 'ectasia': 1, 'acuta': 1, 'diapragmat': 1, 'predomiantli': 1, 'zithromax': 1, 'tortous': 1, 'lipoma': 1, 'thorocolumbar': 1, 'aneursym': 1, 'hydroneprosi': 1, 'stoic': 1, 'manner': 4, 'doen': 3, 'ceftrix': 1, 'retrocrur': 1, 'icechip': 1, 'tobramycin': 3, 'network': 1, 'vistit': 1, 'privaci': 2, 'hematuria': 7, 'rsstraint': 1, 'supra': 7, 'amniodaron': 2, 'reconsult': 5, 'gaseou': 2, 'frig': 1, 'remian': 5, 'cld': 1, 'multilobular': 2, 'plasma': 2, 'verapimil': 1, 'provit': 1, 'zantac': 1, 'thoracoabdomin': 2, 'furhter': 3, 'browni': 1, 'act': 12, 'plasmaforesi': 1, 'procan': 1, 'calvarium': 3, 'interfac': 1, 'tympan': 3, 'trap': 5, 'gvien': 2, 'suscept': 3, 'enrout': 2, 'wquickli': 1, 'widen': 15, 'dilatin': 2, 'dgt': 1, 'blur': 4, 'pearla': 2, 'ittp': 1, 'derterior': 1, 'siezur': 2, 'occai': 1, 'mard': 1, 'activitiy': 1, 'reactiven': 1, 'hemetolog': 1, 'verapmil': 1, 'dialntin': 1, 'cat': 6, 'wise': 5, 'fosphenytoin': 1, 'roll': 5, 'miantain': 1, 'rlower': 1, 'hemobilia': 1, 'inceas': 1, 'rpc': 2, 'nbr': 1, 'amirion': 1, 'ttp': 2, 'midlung': 1, 'ri': 1, 'blod': 2, 'therapuet': 1, 'succinocholynin': 1, 'inqueri': 1, 'eyebrow': 2, 'vicari': 2, 'hypernatrium': 1, 'oversed': 1, 'scapula': 3, 'lral': 1, 'fifth': 3, 'tolerta': 1, 'ser': 1, 'benigh': 1, 'amniodoron': 1, 'reass': 2, 'oxygent': 3, 'consolida': 1, 'plasmapheresi': 1, 'retart': 1, 'ordor': 1, 'urpc': 1, 'aystol': 1, 'curent': 2, 'suitabl': 4, 'qtc': 3, 'tubefe': 5, 'stoke': 3, 'statlock': 2, 'fluor': 1, 'realtim': 2, 'thread': 1, 'spontaneuosli': 1, 'tema': 1, 'fmaili': 3, 'dryness': 1, 'schiz': 1, 'cotinu': 1, 'ativna': 1, 'stack': 4, 'chol': 3, \"'girgl\": 1, 'hardcopi': 1, 'proovid': 1, 'montitor': 3, 'scopolimin': 1, 'ej': 3, 'angiographi': 5, 'basicali': 1, 'reschedul': 2, 'nibp': 7, 'yankeaur': 1, 'enhans': 1, 'disciplanari': 1, 'supratherapeut': 9, 'tyre': 1, 'movent': 1, 'surpriz': 1, 'elbow': 9, 'everyon': 2, 'smile': 2, 'sing': 1, 'feud': 1, 'dissapoint': 1, 'anasthesia': 1, 'figur': 3, 'chardt': 1, 'miconazol': 4, 'thoracenthesi': 1, 'rtespiratori': 1, 'otherw': 1, 'nysatin': 1, 'fentynl': 1, 'bipsi': 1, 'yanker': 1, 'avg': 3, 'ascult': 2, 'precept': 2, 'dangl': 2, 'pleuvex': 1, 'vomitinig': 1, 'reexpans': 2, 'tuesday': 9, 'busi': 1, 'respiratorey': 1, 'thorencentesi': 2, 'remainpt': 1, 'periarea': 1, 'cardia': 2, 'pdr': 1, 'underpenetr': 7, 'mechinc': 1, 'suter': 1, 'lght': 1, 'pipricillin': 1, 'dime': 1, 'mitrazol': 1, 'brochoscopi': 2, 'chaqng': 1, 'fentaynl': 1, 'thicker': 3, 'conclud': 1, 'supposrt': 1, 'mimin': 1, 'peaceabl': 1, 'myconazol': 1, 'hemonc': 1, 'thck': 1, 'saliv': 1, 'fusion': 3, 'yankuer': 1, 'quesstion': 1, 'pleurex': 1, 'mim': 1, 'eight': 3, 'diaph': 1, 'anzimet': 1, 'miconizol': 1, 'bronchoscpi': 1, 'pneumotho': 1, 'dequat': 1, 'creme': 2, 'topler': 1, 'error': 6, 'timecours': 1, 'massag': 5, 'cutoff': 1, 'phynelephrin': 1, 'strike': 1, 'thrombophilia': 1, 'hyperventil': 3, 'hypertroph': 3, 'nkfa': 4, 'ich': 5, 'descript': 7, 'thrombo': 1, 'season': 1, 'restor': 1, 'metavis': 12, 'stasi': 4, 'supertherapeut': 1, 'revert': 2, 'miner': 10, 'reconsclip': 1, 'author': 3, 'abtout': 1, 'ddd': 2, 'gluos': 1, 'nonhemorrhag': 2, 'mellitu': 3, 'pyuria': 3, 'characterist': 2, 'hiss': 14, 'ethanol': 1, 'pepcid': 6, 'atherosclerosi': 4, 'hypercoagul': 1, 'microb': 1, 'diabet': 14, 'ubw': 1, 'lopresor': 1, 'suppli': 6, 'rythem': 1, 'boluss': 1, 'aa': 5, 'polar': 1, 'hocm': 1, 'exhal': 13, 'suberb': 1, 'dmfj': 1, 'research': 2, 'thrombi': 3, 'thrombot': 3, 'smv': 2, 'defecit': 2, 'dlrc': 3, 'viscer': 2, 'fibersourc': 7, 'hn': 9, 'multivitamin': 10, 'ventricularli': 1, 'methgb': 1, 'aksb': 1, 'thrombolysi': 1, 'superven': 6, '^nd': 8, 'academia': 2, 'meningioma': 2, \"jxn'al\": 1, 'dermatolog': 1, 'ggt': 7, 'fossa': 7, 'lamina': 2, 'proteu': 2, 'pendin': 1, 'rhythem': 1, 'papyracea': 1, 'ecoli': 4, 'glaucoma': 2, 'thrombos': 2, 'hypocalor': 5, 'vivonex': 3, 'appendag': 3, 'vasculariz': 1, 'sg': 1, 'hemispher': 1, 'evolut': 6, 'ablat': 5, 'warrant': 5, '^st': 6, 'vest': 1, 'appropiatelt': 1, 'visisbilti': 1, 'gown': 1, 'initailli': 1, 'sundown': 1, 'memeori': 1, 'throw': 3, 'lordot': 3, 'alzheim': 9, 'subtl': 6, 'fot': 1, 'lobul': 2, 'kyphosi': 3, 'taneous': 1, 'uret': 3, 'collasp': 1, 'str': 2, 'mesenchym': 1, 'duplic': 3, 'greatest': 2, 'debil': 2, 'stromal': 1, 'hemiabdomen': 1, 'abcess': 5, 'parapelv': 1, 'oldest': 1, 'tree': 11, 'adamantli': 1, 'comprehend': 3, 'hasten': 1, 'gpt': 1, 'pleath': 1, 'coar': 2, 'crement': 1, 'group': 3, 'ride': 1, 'prsentli': 1, 'distanc': 3, 'lucid': 1, 'outer': 3, 'oi': 2, 'fourth': 2, 'gentl': 16, 'obl': 1, 'hypottherm': 1, 'periost': 1, 'collim': 5, 'centrilobular': 3, 'levetiracetam': 2, 'eros': 1, 'hyperglycem': 2, 'lucent': 3, 'osteomyel': 2, 'mtp': 1, 'disp': 3, 'azythromycin': 2, 'gastrojejunostomi': 1, 'bronchiol': 2, 'fragment': 4, 'bound': 6, 'desk': 1, 'phonecal': 2, 'recc': 2, 'uncin': 1, 'calcaneu': 1, 'malleolu': 1, 'plactment': 1, 'collectio': 1, 'cloog': 1, 'susp': 1, 'gluteu': 1, 'ultrasonograph': 2, 'afb': 6, 'chiba': 1, 'marker': 7, 'minimu': 1, 'ossif': 2, 'pnacreat': 1, 'mrcp': 3, 'stagger': 1, 'incluc': 1, 'px': 1, 'fibrothorax': 1, 'regad': 1, 'dicuss': 1, 'brisckli': 1, 'rewarm': 1, 'cs': 1, 'lfa': 1, 'hemorrhoid': 1, 'manger': 2, 'pleura': 4, 'drool': 2, 'mash': 1, 'dexamethason': 3, \"treatments'\": 1, 'potato': 1, 'aspit': 1, 'swalow': 1, 'veyr': 1, 'jello': 3, 'gait': 4, 'twelfth': 1, 'disynchron': 3, 'tomm': 1, 'fleet': 4, 'fold': 8, 'optimist': 1, 'aveolar': 2, 'shr': 1, 'fibrot': 8, 'bleo': 1, 'tachyp': 1, 'wasd': 1, 'univers': 1, 'furrow': 1, 'damag': 4, 'caontact': 1, 'olanzapin': 1, 'tablet': 4, 'attack': 3, 'tachard': 1, 'mmcg': 1, 'tact': 2, 'pleuro': 1, 'pipercillin': 1, 'brow': 1, 'serosangin': 2, 'slightest': 1, 'critacar': 1, 'cisat': 1, 'seveer': 1, 'regain': 4, 'rs': 1, 'ever': 3, 'seemd': 1, 'hypotnes': 1, 'hodgkin': 3, 'tachypnia': 1, 'cisatricurium': 2, 'hodgekin': 1, 'similarli': 1, 'lymphpma': 1, 'occat': 3, 'ivabx': 1, 'pacu': 1, 'synchroni': 3, 'intermitantli': 1, 'bleomycin': 1, 'formul': 3, 'plavix': 3, 'xfew': 1, 'subsegment': 11, 'contini': 3, 'methylprednisolon': 10, 'sixth': 2, 'perian': 3, 'critcaid': 1, 'trnasfer': 1, 'isoridl': 1, 'correctli': 4, 'inconti': 1, 'reuslt': 1, 'whe': 1, 'perm': 2, 'countri': 1, 'brath': 2, 'mophin': 1, 'anal': 3, 'coasr': 1, 'afteran': 1, 'pronoun': 1, 'aspirt': 1, 'bilaterali': 1, 'stitch': 1, 'hydrocrtison': 1, 'restlessli': 1, 'aureu': 4, 'nitroglycerin': 1, 'pediatr': 1, 'donat': 3, 'thrash': 3, 'reinit': 1, 'assessori': 1, 'treatement': 4, 'mobilazt': 1, 'dowm': 1, 'rssi': 2, 'sennakot': 1, 'urea': 1, 'tylenon': 1, 'milrinon': 2, 'hemmerroid': 1, 'secrect': 3, 'bij': 1, 'midazolm': 1, 'subacut': 4, 'predomin': 8, 'placemnt': 2, 'tpiec': 1, 'outcom': 8, 'nucleu': 1, 'shave': 2, 'dloppler': 1, 'resdiual': 2, 'glycerin': 1, 'nif': 4, 'pariet': 3, 'ocassion': 1, 'index': 6, 'gastroccult': 3, 'likley': 5, 'scatt': 1, 'tke': 1, 'pericardiocentesi': 1, 'melenoma': 2, 'evalul': 1, 'pericarid': 1, 'pg': 1, 'melanoma': 3, 'whatev': 2, 'porli': 1, 'compazin': 5, 'ahead': 3, 'breakthrough': 4, 'smal': 2, 'bereav': 2, 'cheynn': 1, 'ativn': 1, 'imrpvo': 1, 'etoh': 7, 'music': 2, 'pnuemonia': 4, 'goven': 1, 'bigemin': 1, 'legthargi': 1, 'drank': 2, 'crack': 1, 'disregard': 2, 'codien': 1, 'eaten': 1, 'boul': 1, 'recommn': 1, 'osm': 2, 'diaphort': 1, 'caglucon': 1, 'monito': 2, 'decomens': 1, 'coun': 1, 'endur': 2, 'solubl': 1, 'consistenli': 2, 'cark': 1, 'northern': 1, 'pike': 2, 'pleurovac': 1, 'patednt': 1, 'vecuronium': 5, 'gastroesophagectomi': 1, 'pulsesd': 1, 'icnreas': 1, 'clench': 1, 'drainin': 1, 'sa': 4, 'eposid': 1, 'afcter': 1, 'hepar': 3, 'intacat': 1, 'clonidin': 1, 'irregularli': 3, 'counsel': 3, 'cahng': 1, 'pen': 1, 'systesm': 1, 'chck': 1, 'mgsulfat': 2, 'endoscopi': 8, 'reuir': 1, 'pahco': 1, 'autodiures': 5, 'electrolt': 1, 'feoli': 1, 'pig': 2, 'anastomot': 1, 'rhoncii': 2, 'quaniti': 1, 'imipenim': 1, 'caraf': 1, 'electroyt': 1, 'ativanand': 1, 'amioderon': 5, 'ugi': 2, 'epogen': 1, 'scout': 3, 'tachynepn': 1, 'esophagogastrostomi': 1, 'cultu': 1, 'explanatori': 1, 'bpsupport': 1, 'membership': 1, 'pluera': 1, 'joul': 2, 'persit': 1, 'select': 4, 'imtermitt': 1, 'autodiur': 1, 'pee': 1, 'mechanicali': 1, 'lgt': 1, 'sytsem': 1, 'stream': 1, 'underwat': 1, 'patentci': 2, 'plueravac': 1, 'primaxin': 1, 'ectpoy': 1, 'gentamicin': 4, 'incorrect': 2, 'dilit': 2, 'hepatin': 1, 'fistul': 1, 'theradyn': 1, 'fluib': 1, 'flucoazol': 1, 'postprocedur': 1, 'pullup': 1, 'adenoma': 3, 'innomin': 2, 'slighti': 2, 'possilb': 1, 'extravas': 2, 'scope': 6, 'overview': 1, 'dt': 3, 'yanquer': 1, 'intrathor': 1, 'imipenum': 1, 'lovefloxacin': 1, '^^hr': 1, 'mechanicli': 1, 'heparn': 1, 'amnio': 1, 'noectopi': 1, 'fd': 1, 'amen': 4, 'lwst': 1, 'soflti': 1, 'csl': 1, 'consutl': 1, 'feso': 1, 'bldi': 4, 'urbc': 1, 'autodiuresi': 3, 'hydropneumothorax': 3, 'comnt': 1, 'dng': 3, 'knick': 1, 'freqnent': 1, 'esophogram': 1, 'pooli': 1, 'vi': 6, 'disregaurd': 1, 'reattach': 1, 'tag': 1, 'inci': 1, 'vor': 1, 'btf': 1, 'transpos': 1, 'imipenem': 2, 'genta': 2, 'prescrib': 5, 'pullthrough': 2, 'shotti': 1, 'clearl': 1, 'assst': 1, 'progrerss': 1, 'transposit': 1, 'sucralf': 1, 'fibr': 1, 'withi': 1, 'neget': 1, 'cous': 1, 'willprob': 1, 'subpulmonari': 1, 'scalpel': 1, \"'boston\": 1, 'north': 1, 'jtube': 3, 'abt': 3, 'diluadid': 2, 'bibasilarri': 1, 'accident': 2, 'eager': 1, 'sson': 1, 'swing': 2, 'activit': 1, 'yellw': 1, 'esophagogastrectomi': 1, 'gym': 1, 'unmeasur': 1, 'egg': 1, 'news': 5, 'aspriat': 1, 'tail': 4, 'soundsa': 1, 'metab': 2, 'bsp': 1, 'foloow': 1, 'suff': 1, 'cg': 3, 'blank': 1, 'vc': 1, 'discoordiant': 1, 'hnh': 1, 'smell': 3, 'mgnt': 1, 'ele': 1, 'multidisiciplinari': 1, 'adenosen': 1, 'threadi': 1, 'untoward': 2, 'seed': 2, 'coordin': 7, 'waters': 5, 'cw': 1, 'pxcr': 1, 'bactroban': 1, 'sersang': 2, 'lax': 1, 'heater': 1, 'periodci': 1, 'givent': 2, 'reolv': 1, 'bllod': 1, 'metabil': 1, 'amphogel': 1, 'nruse': 1, 'scoot': 1, 'fluctutaion': 1, 'subcut': 1, 'oxacillin': 2, 'wtih': 3, 'liber': 4, 'jepard': 1, 'cmg': 1, 'trahc': 1, 'hyperphosphatemia': 1, 'crepidu': 1, 'kink': 4, 'lacter': 1, 'ceftazidin': 1, 'sanguini': 1, 'subcuta': 1, 'thorcoscopi': 1, 'lasux': 1, 'bactoban': 1, 'hydrox': 1, 'ant': 12, 'insulingtt': 1, 'positv': 2, 'mainta': 3, 'oncom': 1, 'wavefrom': 1, 'lotion': 3, 'aluminum': 1, 'elastoplast': 1, 'plcmt': 2, 'replt': 1, 'toadi': 1, 'acisosi': 1, 'airleak': 2, 'exclus': 3, 'fluctut': 1, 'fentantyl': 1, 'orderd': 3, 'dvr': 1, 'thorascopi': 1, 'regist': 3, 'behaviour': 1, 'sarna': 1, 'creptiu': 1, 'radal': 1, 'eextrem': 1, 'ceftazadim': 2, 'slather': 1, 'biat': 1, 'activti': 1, 'inquiri': 2, 'omg': 1, 'oo': 1, 'shot': 2, 'calendar': 1, 'peripheri': 6, 'tailor': 6, 'inspiss': 1, 'obliqu': 7, 'acquisit': 4, 'ahf': 1, 'jkpe': 2, 'yankour': 1, 'indent': 2, 'pnuemo': 1, 'remainin': 1, 'anasarc': 4, 'rbreast': 1, '^psv': 1, 'unattain': 1, 'superiorli': 3, 'lumbosacr': 2, 'wildli': 1, 'ausculat': 1, 'tib': 1, 'pancol': 2, 'amoutn': 1, 'mvo': 3, 'pkt': 2, 'lose': 2, 'fundopl': 1, 'sphyncter': 1, 'anterobas': 1, 'unilat': 10, 'carin': 1, 'pri': 1, 'intussuscipien': 1, 'anterosept': 10, 'shin': 2, 'tension': 3, 'doesnot': 1, 'unobtain': 4, 'sofsorb': 1, 'exor': 1, 'dart': 1, 'ileum': 1, 'duodenojejun': 1, 'nonocclus': 3, 'brim': 2, 'vac': 1, 'pastor': 6, 'nissen': 1, 'softsorb': 3, 'surprisingli': 1, 'extern': 6, 'aubil': 1, 'retrial': 1, 'pneum': 2, 'randomli': 1, 'subseq': 2, 'led': 9, 'anterobasilar': 1, 'metal': 3, 'rami': 2, 'desolv': 1, 'soundli': 2, 'amberish': 1, 'interspac': 2, 'obsess': 1, 'snow': 1, 'silhouet': 2, 'com': 2, 'afebrilewbc': 1, 'slighlti': 2, 'coax': 1, 'anxiolyt': 5, 'moniot': 1, 'bronchoalveolar': 1, 'decreat': 1, 'tray': 2, 'cogniz': 1, 'semierect': 1, 'basalar': 1, 'soar': 1, 'chlorothiazid': 3, 'mucousa': 1, 'approprietli': 1, 'abswer': 1, 'andwer': 1, 'compet': 3, 'soik': 1, 'bother': 2, 'pti': 1, 'epigloti': 1, 'neurlog': 1, 'perpheri': 2, 'app': 1, 'detrior': 2, 'breathrough': 1, 'rf': 3, 'nutramenren': 1, 'lasiz': 1, 'stylet': 2, 'diali': 1, 'nutramen': 1, 'coorel': 1, 'loudli': 1, 'afbril': 1, 'essent': 3, 'daptomycin': 1, 'gaol': 3, 'llp': 1, 'highest': 4, 'amint': 1, 'swabe': 1, 'larm': 1, 'rth': 1, 'susction': 1, 'insuluin': 1, 'topic': 6, 'diuril': 5, 'depper': 1, 'ssic': 1, 'extremli': 1, 'waffel': 1, 'arrythmmia': 1, 'lverf': 1, \"'sbp\": 1, 'coccycx': 1, 'famotidin': 9, 'urgenc': 1, 'extrins': 3, 'drep': 1, 'directli': 5, 'inutb': 1, 'flair': 5, 'triag': 1, 'fuo': 6, 'strictur': 1, 'periodd': 1, 'hypoxcemia': 1, 'lund': 1, 'dimninsh': 1, 'anytim': 1, 'axieti': 1, 'faliur': 1, 'iniit': 1, 'prpogress': 1, 'biacodyl': 1, 'esophog': 1, 'thrive': 3, 'currenlti': 3, 'aabout': 1, 'hypoventil': 3, 'clincal': 1, 'vsd': 6, 'tlyenol': 1, 'ateri': 1, 'trumphet': 1, 'stonehedg': 1, 'ppo': 1, 'swal': 1, 'laminectomi': 1, 'millisecond': 3, 'dimentia': 2, 'cfh': 1, 'diverticula': 3, 'trazedon': 1, 'specifc': 1, 'disicion': 1, 'prvc': 4, 'disimpact': 2, 'nurisng': 1, 'trickl': 1, 'anticoag': 4, 'qlc': 1, 'addenum': 1, 'transpulmonari': 2, 'pseudoaneurysm': 1, 'platueau': 1, 'receivd': 1, 'mount': 1, 'sludgi': 1, 'antibiod': 3, 'rsv': 2, 'aggiat': 1, 'hemolysi': 8, 'se': 1, 'safey': 1, 'ver': 2, 'transpleur': 2, 'blanch': 4, 'breifli': 1, 'mimim': 1, 'bw': 1, 'movmement': 1, 'inntub': 1, 'ballon': 2, 'morhin': 2, 'vault': 2, 'laid': 2, 'lpicc': 1, 'ize': 1, 'troubleshoot': 1, 'sett': 1, 'worri': 2, 'postmortem': 1, 'spous': 3, 'evalut': 4, 'kayxel': 1, 'gluco': 1, 'alkolot': 1, 'lrad': 2, 'ru': 2, 'criticaid': 3, 'finerstick': 1, 'undergon': 5, 'stonger': 1, 'flexis': 8, 'blow': 1, 'septat': 3, 'pxdb': 2, 'nursin': 1, 'hyperextens': 2, 'respres': 1, 'microangiopath': 1, 'sesha': 2, 'preferenti': 2, 'dashboard': 2, 'asymmetri': 3, 'sternoclavicular': 1, 'cerebellum': 1, 'ghome': 1, 'condol': 2, 'trajectori': 2, 'predict': 4, 'wheelchair': 3, 'carvedilol': 1, 'enterococci': 2, 'hap': 24, 'nephrolist': 1, 'hf': 4, 'nmeb': 1, 'mgt': 5, 'hff': 1, 'showel': 1, 'aglc': 4, 'contd': 1, 'recd': 1, 'hypervolem': 2, 'sking': 1, 'bi': 2, 'persu': 1, 'nitropast': 1, 'hypovolem': 9, 'gpr': 4, 'outpt': 5, 'neuropathi': 5, 'neurontin': 3, 'xone': 1, 'aournd': 1, 'improov': 1, 'dinitr': 1, 'abm': 1, 'mosd': 1, 'nephrologist': 2, 'ranitidin': 4, 'phoslo': 1, 'ecal': 1, 'atorvastatin': 8, 'rip': 1, 'uptitr': 7, 'isosorbid': 1, 'coreg': 1, 'matalazon': 1, 'intract': 1, 'comfortbal': 2, 'acei': 3, 'bipaa': 1, 'scr': 1, 'vano': 1, 'broadli': 7, 'infrahilar': 5, 'infilter': 1, 'rlq': 3, 'metolazon': 1, 'enterococcu': 4, 'conest': 1, 'calcitriol': 1, 'disucuss': 2, 'zozyn': 1, 'nephrotoxin': 4, 'lansoprazol': 9, 'attract': 2, 'nitrofurantoin': 1, 'cardiopulmomari': 1, 'tachypneia': 1, 'mh': 2, 'restat': 1, 'overwhelm': 4, 'neither': 4, 'epith': 1, 'rightward': 6, 'amikacin': 2, 'sensorium': 1, 'hilu': 2, 'instal': 1, 'incapac': 1, 'hospitalist': 1, 'normotherm': 4, 'grown': 4, 'prov': 1, 'sputm': 1, 'comf': 1, 'normochrom': 1, 'roomm': 1, 'donepezil': 2, 'thinner': 2, 'settig': 1, 'profil': 2, 'scratch': 1, 'fundament': 1, 'extrapulmonari': 1, 'sulbactam': 2, 'persistenli': 1, 'hypoglycemia': 3, 'ncat': 5, 'mdrd': 2, 'iron': 6, 'mumur': 1, 'providencia': 2, 'nimenda': 1, 'lasx': 1, 'suctioin': 1, 'fof': 1, 'normocyt': 2, 'prodrom': 1, 'tacypnea': 1, 'ivdu': 1, 'harder': 2, 'amiikacin': 1, 'flacyl': 1, 'restrat': 1, 'stuarti': 1, 'hoever': 1, 'fresh': 4, 'scar': 5, 'trimethoprim': 2, 'wwp': 4, 'offend': 2, 'reassum': 1, 'todya': 1, 'decondit': 4, 'uncompl': 6, 'lumpectomi': 2, 'colonscopi': 1, '|': 2, 'orophyaryng': 1, 'pnemonia': 2, 'forego': 1, 'disuss': 1, 'communc': 1, 'compli': 1, 'neoplast': 1, 'comatos': 2, 'stun': 1, 'gmmgsulf': 2, 'pin': 1, 'babinski': 3, 'sulfamethoxazol': 1, 'accid': 2, 'cefazolin': 2, 'hypoprofus': 1, 'ctl': 1, 'women': 1, 'egfr': 1, 'rquir': 1, 'failiur': 1, 'furthur': 1, 'extuabt': 2, 'wap': 1, 'identif': 2, 'likelihood': 7, 'uet': 1, 'prevacid': 7, 'impari': 2, 'venilatori': 1, 'osteoporosi': 8, 'tca': 1, 'drown': 1, 'prokinet': 1, 'unattend': 1, 'opportun': 5, 'antibito': 2, 'biped': 1, 'anteced': 2, 'providentia': 1, 'hysterectomi': 2, 'spars': 5, 'encephaolopathi': 1, 'medsl': 1, 'cardiopulonari': 1, 'stuartii': 1, 'peumonia': 1, 'chamg': 1, 'hyralazin': 1, 'appreaci': 1, 'cloud': 2, 'continues': 1, 'yawn': 2, 'escherichia': 1, 'neuron': 3, 'wel': 1, 'mmd': 1, \"c'd\": 3, 'medcial': 1, 'coloni': 4, 'providenciaa': 1, 'cefuroxim': 1, 'chornic': 2, 'namenda': 2, 'extrewm': 1, 'iso': 2, 'furrther': 1, 'thoracolumbar': 3, 'pinkish': 3, 'leision': 1, 'reestablish': 1, 'intepret': 1, 'perineaum': 1, 'threrfor': 1, 'idiolog': 1, 'exagger': 8, 'investig': 4, 'bang': 1, 'admitt': 1, 'lisw': 1, 'neuronton': 1, 'constanli': 1, 'imcomprehens': 1, 'tomonitor': 1, 'heploc': 1, 'scab': 1, 'soound': 2, 'diaper': 1, 'dbp': 1, 'sution': 2, 'plactic': 1, 'debrid': 2, 'kerlex': 3, 'obses': 1, 'implement': 3, 'respiraotri': 2, 'rheab': 1, 'applic': 10, 'coop': 1, 'evalaut': 2, 'oitment': 1, 'prb': 1, 'guidelin': 2, 'flexas': 1, 'fist': 1, 'notat': 1, 'seccess': 1, 'flexi': 5, 'rectrict': 1, 'dakin': 1, 'plastic': 2, 'atori': 1, 'hypokinetc': 1, 'atmospher': 1, 'beneprotein': 5, 'dfa': 10, 'esld': 4, 'pot': 1, 'cutlur': 1, 'hepatologist': 1, 'lipid': 7, 'ptroy': 1, 'assay': 5, 'didnt': 1, 'contractil': 11, 'cvhd': 2, 'overnighit': 1, 'femur': 2, 'ddx': 18, 'circulatori': 2, 'reoslut': 1, 'hepatomegali': 2, 'viru': 3, 'ts': 7, 'overhydr': 7, 'nasopharyng': 4, 'oxid': 4, 'pasp': 2, 'tamiflu': 3, 'neosynepherin': 1, 'dz': 2, 'reiniti': 3, 'pretest': 1, 'hemofilt': 1, 'strain': 13, 'malfunct': 2, 'pkd': 1, 'quinolon': 5, 'dwell': 1, 'instablil': 1, 'javascript': 2, 'trabecul': 3, 'imrprov': 1, 'smyrnio': 1, 'subtherapateut': 1, 'kac': 1, 'tachpnea': 3, 'popup': 2, 'gdex': 2, 'hepativ': 1, 'hemodialyi': 1, 'superinfect': 4, 'reactant': 1, 'inaud': 1, 'itchi': 1, 'postpon': 3, 'citrar': 1, 'unload': 2, 'oseltamivir': 3, 'influeza': 1, 'equilibr': 1, 'nitric': 4, 'conitinu': 2, 'meoprolol': 1, 'blockad': 4, 'campylobact': 1, 'sequestr': 2, 'setup': 3, 'multiorgan': 4, 'sequest': 1, 'acetabula': 1, 'preclud': 4, 'incllud': 1, 'riins': 1, 'enalapril': 1, 'hitt': 2, 'hypotes': 1, 'bblocker': 2, 'cvh': 1, 'challengin': 1, 'chlorhex': 7, 'prognost': 2, 'ctrl': 1, 'avfistula': 1, 'concer': 3, 'mycolyt': 3, 'nephrectomi': 1, 'adult': 1, 'pulmonologist': 3, 'parasit': 2, 'esmolol': 2, 'supportuv': 1, 'polysyst': 1, 'pubi': 2, 'scal': 1, 'chanigng': 1, 'alveoli': 1, 'priorit': 1, 'special': 4, 'heartsound': 1, 'reload': 2, 'ova': 2, 'atroven': 1, 'hypokinet': 4, 'possibilti': 1, 'treatjment': 1, 'mmghg': 1, 'poycyst': 1, 'enumer': 1, 'giv': 1, 'presoso': 1, 'convent': 3, 'keepign': 1, 'trea': 1, 'vasopress': 5, 'monrn': 1, 'theray': 1, 'givenn': 1, 'tcdb': 1, 'interventricular': 1, 'nonetheless': 2, 'napo': 3, 'amidodaron': 1, 'cant': 1, 'cef': 1, 'divert': 1, 'imagin': 2, 'ngtube': 2, 'clx': 3, 'multicyst': 1, 'webtag': 2, 'prime': 3, 'toil': 1, 'subratherapeut': 1, 'dog': 1, 'naac': 1, 'thromboyctopenia': 1, 'antiobiot': 1, 'metop': 1, 'hepatolog': 4, 'synthet': 3, 'dex': 3, 'pantop': 1, 'thrombcytopenia': 1, 'iliostomi': 1, 'earliest': 2, 'alp': 1, 'kpo': 1, 'sptum': 2, 'haptoglobin': 2, 'stretcher': 6, 'mediocr': 1, 'aggrenox': 1, 'abat': 1, 'rbbb': 5, 'cautiou': 2, 'qam': 1, 'tw': 1, 'remeron': 3, 'mvi': 7, 'niacin': 2, 'medicaid': 6, 'dme': 5, 'medex': 3, 'steak': 1, 'egophani': 1, 'qualifi': 1, 'clindamycin': 3, 'walker': 2, 'caltrat': 1, 'exelon': 1, 'inprov': 1, 'medicar': 5, 'purs': 2, 'fosamax': 1, 'patientcodein': 1, 'qpm': 1, 'sensat': 3, 'zestril': 1, 'intercurr': 2, 'weekli': 1, 'dispens': 1, 'laculos': 1, 'semiform': 1, 'pauciti': 5, 'enquiri': 1, 'acsiti': 1, 'surgeon': 2, 'atvian': 1, 'prng': 1, 'latat': 1, 'projectil': 1, 'callout': 2, 'emphat': 2, 'tachyarrhythmia': 1, 'nondiagnost': 2, 'outand': 1, 'tappabl': 1, 'mglopressor': 1, 'litr': 2, 'feacal': 1, 'soduim': 1, 'levaph': 2, 'anf': 1, 'neomycin': 1, 'ijv': 1, 'offf': 1, 'vasotec': 1, 'tt': 1, 'chew': 2, 'chnage': 3, 'prpofol': 1, 'woke': 3, 'boardlin': 1, 'jelli': 3, 'diffult': 1, 'ninv': 1, 'guaifenessin': 1, 'discern': 3, 'breathlesn': 1, 'docus': 8, 'preload': 3, 'disempact': 2, 'shifdt': 1, 'duraton': 1, 'tachypen': 2, 'thoughout': 2, 'cefriaxon': 1, 'sleeper': 1, 'instantli': 1, 'bnon': 1, 'dizzi': 2, 'girl': 1, 'miscommun': 1, 'overloaad': 1, 'trembl': 1, 'harpist': 1, 'earili': 1, 'guaifenesina': 1, 'milronon': 1, 'megnesium': 1, 'kaexyl': 1, 'mutual': 2, 'vcarevu': 1, 'particul': 1, 'vagal': 1, 'dmr': 1, 'ringer': 1, 'prsent': 2, 'mainitan': 1, 'pitress': 1, 'handicap': 1, 'acidodi': 1, 'hang': 3, 'substanc': 3, 'vori': 2, 'lanosprazol': 1, 'former': 4, 'oversensit': 1, 'preme': 2, 'cghd': 1, 'hyperpig': 1, 'vl': 5, 'al': 1, 'mgsulf': 1, 'cero': 1, 'shaken': 1, 'treament': 1, 'signifig': 2, 'rifampin': 1, 'igg': 1, 'anem': 1, 'mistakenli': 2, 'ivig': 2, 'streaki': 2, 'atovaquon': 1, 'benzodiazepin': 2, 'longterm': 2, 'capsofungin': 1, 'uneventl': 1, 'jejunostomi': 2, 'rewrot': 1, 'proh': 1, 'torestart': 1, 'fibros': 1, 'ritalin': 1, 'firtst': 1, 'rot': 1, 'lorazepan': 1, 'lcpc': 4, \"sbt'\": 1, 'woresen': 1, 'nauseat': 1, 'premedicati': 1, 'posaconasol': 1, 'nauseou': 2, 'dn': 2, 'hemodilut': 2, 'bacilli': 1, \"patient'\": 8, 'mdd': 1, 'encas': 1, 'six': 6, 'rational': 1, 'prochlorperazin': 2, 'gj': 3, 'deciss': 1, 'jirovecii': 1, 'tkcb': 1, 'sct': 2, 'shevel': 1, 'wakeup': 3, 'tac': 1, 'afraid': 1, 'meropemen': 1, 'serrou': 2, 'methlprednisolon': 1, 'iga': 1, 'pneumomathi': 1, 'allo': 1, 'easilli': 1, 'hypercapnea': 4, 'galactomannin': 1, 'antiemet': 1, 'aspergillosi': 1, 'apparatu': 1, 'disappoint': 1, 'igm': 1, 'blastomycosi': 1, 'indur': 2, 'atalectat': 1, 'atelectai': 1, 'histoplasmosi': 1, 'cutan': 2, 'coccidioidomycosi': 1, 'laboratori': 2, 'oxtcodon': 1, 'immunoflouresc': 1, 'ceas': 3, 'warrent': 2, 'djrx': 1, 'obsruct': 1, 'bcell': 1, 'cocurr': 1, 'spfc': 1, 'aroung': 1, 'byop': 1, 'accum': 1, 'lscta': 3, 'stt': 1, 'becapus': 1, 'anisocoria': 2, 'gaa': 1, 'ventimask': 2, 'predic': 1, 'prepared': 1, 'seriel': 2, 'wwa': 1, 'tfeed': 2, 'tacrolimu': 2, 'ritalyn': 1, 'tacro': 1, 'gl': 2, 'lvl': 1, 'leukocyt': 1, 'jlb': 1, 'relationship': 5, 'poli': 5, 'traught': 1, 'infiltraet': 1, 'strictli': 1, 'gvdh': 1, 'advic': 2, 'triglycerid': 3, 'microorgan': 2, 'cranial': 2, 'imp': 4, 'alphabet': 1, 'book': 1, 'patiient': 1, 'hypopig': 1, 'eleven': 1, 'chrinic': 1, 'ventialt': 2, 'sbna': 1, 'tachyn': 1, 'apneaic': 1, 'tachyapn': 1, 'polymorphonuclear': 1, 'enoxaparin': 1, 'cex': 2, 'lmw': 1, 'extr': 5, 'tens': 3, 'ppeg': 1, 'apnvol': 2, 'merepenem': 1, 'fast': 5, 'laden': 1, 'unsign': 1, 'cantons': 1, 'gleevec': 1, 'gleevac': 1, 'gotten': 1, 'succes': 1, 'targer': 1, 'resusc': 1, 'cxray': 7, 'adaquet': 1, 'vechan': 1, 'panic': 1, 'midazolan': 1, 'lighthead': 1, 'conscious': 2, 'glevac': 1, 'bmp': 1, 'maintainc': 1, 'pneumopathi': 1, 'onf': 1, 'bmx': 1, 'disconintu': 1, 'ppd': 2, 'rhinoviru': 1, 'indict': 2, 'jirvovecii': 1, 'boardelin': 1, 'emotionalsupport': 1, 'emesisx': 1, 'director': 3, 'deacreas': 1, 'unequivoc': 1, 'zydi': 2, 'allogen': 1, 'jrld': 2, 'cytopath': 2, \"'central\": 1, 'inde': 6, 'ongolog': 1, 'raglan': 3, 'attepmt': 1, 'mucormycosi': 1, 'hydroxid': 1, 'epilepsi': 1, 'ngith': 1, 'pentobarbitol': 1, 'neur': 1, 'eosinophil': 3, 'blown': 1, 'posisbl': 1, 'artefact': 1, 'utmost': 1, 'hashimoto': 1, 'infectionb': 1, 'ldiures': 1, 'nutrion': 1, 'sud': 2, 'restar': 2, 'sensitivi': 1, 'grd': 4, 'intrvascular': 1, 'nutrtion': 1, 'procss': 1, 'specialist': 3, 'golytley': 1, 'ishchemia': 1, 'desmopressin': 2, 'hamper': 1, 'snore': 1, 'scvo': 2, 'inid': 1, 'febun': 1, 'nm': 2, 'montior': 3, 'bibas': 5, 'coveragw': 1, 'frequenti': 1, 'signifi': 1, 'accumil': 1, 'coours': 1, 'confid': 3, 'follo': 1, 'lactualos': 1, 'antithyroglobulin': 1, 'vasculit': 1, 'vitmain': 1, 'pentobard': 1, 'dysfx': 1, 'dietarti': 1, 'addiiton': 1, 'hk': 1, 'cvlplace': 1, 'requiremetn': 1, 'valproeic': 1, 'trransfer': 1, 'nondiarh': 1, 'interactionsd': 1, 'hotlien': 1, 'hotn': 5, 'nonconvuls': 1, 'intensivist': 2, 'rtisk': 1, 'norepinehrin': 1, 'ultrafilt': 1, 'scane': 1, 'assement': 1, 'voicemail': 1, 'venipunctur': 2, 'areflex': 2, 'convuks': 1, 'epilecticu': 1, 'alpha': 2, 'barb': 1, 'doll': 2, 'platu': 1, 'ug': 2, 'nutrtit': 1, 'yestereday': 1, 'peroxidas': 1, 'join': 2, 'beneprotien': 1, 'imporv': 1, 'pyrexia': 7, 'valproat': 1, 'atleast': 1, 'kpho': 4, 'sural': 1, 'complaict': 1, 'epsod': 1, 'pred': 2, 'poorfor': 1, 'qill': 1, 'broach': 1, 'ncse': 1, 'anticonvuls': 2, 'supportso': 1, 'serious': 2, 'currenli': 1, 'compart': 3, 'depaken': 1, 'gate': 2, 'concner': 1, 'caspofugin': 1, 'abgiven': 1, 'disabl': 2, 'usd': 1, 'mach': 1, 'golyetli': 1, 'experianc': 1, 'eduat': 1, 'apprecait': 1, 'diarrheal': 1, 'sgar': 1, 'antipseudomon': 1, 'anit': 1, 'golytli': 1, 'chux': 1, 'std': 1, 'epilept': 1, 'reamin': 2, 'cyp': 1, 'pentobarb': 1, 'hydro': 5, 'leuk': 2, 'apporx': 1, 'ampho': 1, 'vasoact': 1, 'miniut': 1, 'alblumin': 1, 'addresss': 1, 'polio': 1, 'anisarca': 1, 'sym': 2, 'yesast': 1, 'antiseizur': 2, 'ddrainag': 1, 'flucon': 1, \"eo'\": 1, 'pentobabr': 1, 'chlorarhiazid': 1, 'anitbx': 1, 'multidrug': 2, 'spoutum': 1, 'midwest': 1, 'deminer': 2, 'coagulopatahi': 1, 'ondepaken': 1, 'fdp': 5, 'datbl': 1, 'skill': 2, 'protien': 1, 'thermal': 1, 'faili': 1, 'keppra': 3, 'interf': 2, 'jonh': 1, 'schistocyt': 3, 'statrt': 1, 'transmit': 5, 'antiboiot': 1, 'xpiv': 1, 'peal': 1, 'esstenti': 1, 'vpa': 1, 'pendinh': 1, 'heo': 1, 'thromobocytopenia': 1, 'contributng': 1, 'additon': 3, 'dysfunciton': 1, 'ture': 1, 'groass': 1, 'cirpo': 1, 'antiepilept': 1, 'vascul': 2, 'antibacteri': 1, 'norepit': 1, 'norequr': 1, 'intermirtt': 1, 'inf': 2, 'pplateau': 1, 'tuypcial': 1, 'cjd': 1, 'mintu': 2, 'golyt': 1, 'disappear': 2, 'academ': 1, 'anacarca': 1, 'futher': 2, 'tea': 1, 'hemodyalysi': 1, 'antii': 1, 'emoir': 1, 'offlin': 1, 'proptosi': 1, 'atni': 1, 'comanow': 1, 'flld': 1, 'tpo': 1, 'tubul': 1, 'interven': 2, 'illiu': 1, 'jmuch': 1, '^rd': 3, 'intergti': 1, 'paln': 1, 'boarderlin': 1, 'ferrou': 1, 'antobx': 1, 'decompensatuion': 1, 'barbitol': 1, 'miotic': 1, 'criticad': 2, 'ddavp': 1, 'method': 1, 'thiamin': 1, 'encephalopthi': 1, 'miracl': 1, 'antix': 1, 'untreat': 4, 'pseudohypha': 2, 'colloid': 1, 'hypoalbuminem': 2, 'vascualit': 1, 'neurologist': 1, 'overhead': 1, 'weill': 1, 'abnl': 6, 'junctur': 1, 'geiven': 1, 'mngt': 2, 'woiuld': 1, 'potneiti': 1, 'pento': 1, 'dil': 1, 'inoput': 1, 'hypervolemia': 2, 'ite': 1, 'lytli': 1, 'reatrt': 1, 'intravasc': 1, 'chlorhexadin': 2, 'balnc': 1, 'neurogen': 2, 'road': 2, 'disimpactiona': 1, 'oncal': 1, 'hypoactivet': 1, 'absorp': 1, 'extravascular': 1, 'miralax': 2, 'amx': 1, 'hasimoto': 1, 'drench': 2, 'seiz': 1, 'vgb': 1, 'acitv': 1, 'convuls': 1, 'assymetri': 1, 'norepinepherin': 1, 'epilispi': 1, 'blockag': 1, 'wittnessin': 1, 'microbi': 1, 'stagbl': 1, 'reqeust': 1, 'reinfect': 1, 'bac': 2, 'vlo': 1, 'hypoalbuminemia': 1, 'filur': 1, 'opion': 2, 'undertaken': 1, 'difficutl': 1, 'uln': 2, 'epilecticiu': 1, 'expens': 2, 'pentobarbit': 1, 'parapneumon': 3, 'supratheraput': 1, 'aski': 1, 'danger': 2, 'psuedom': 1, 'intrabdomin': 1, 'apprec': 1, 'plateaud': 1, 'dissimpact': 1, 'trainsient': 1, 'anasrc': 1, 'decrea': 2, 'transamin': 8, 'caspo': 1, 'chlorathiazid': 1, 'aacidosi': 1, 'epillepsi': 1, 'epilepticu': 1, 'coma': 1, 'effusionsgiven': 1, 'anisarc': 2, 'irrat': 1, 'noter': 1, 'furtehr': 2, 'meaningful': 1, 'kepra': 1, 'refelect': 1, 'ev': 2, 'synd': 1, 'optho': 2, 'satisfi': 1, 'pseudom': 1, 'faith': 2, 'noripnephrin': 1, 'lactoslo': 1, 'psedomona': 1, 'benefici': 2, 'mhg': 1, 'masess': 1, 'pathogen': 6, 'riski': 1, \"cx'\": 1, 'yesteday': 1, 'depsit': 1, 'blasser': 1, 'mutlipl': 1, 'shockslowli': 1, 'abbrevi': 2, 'consdier': 1, 'delic': 1, 'ddecreasd': 1, 'psuedomanl': 1, 'thryoid': 1, 'cruis': 1, 'slim': 3, 'pahs': 1, 'encount': 1, 'divorc': 1, 'chuck': 1, 'acitivti': 1, 'tomoorw': 1, 'bladdder': 1, 'bumex': 1, 'hyperthermia': 7, 'seizuir': 1, 'reauest': 1, 'leukocystosi': 1, 'infectoiu': 1, 'ltac': 2, 'neuromyopathi': 2, 'unlcear': 1, 'transmin': 1, 'bitempor': 1, 'phenotin': 1, 'folic': 2, 'nureo': 1, 'fololow': 1, 'ophtho': 2, 'distrust': 2, 'coff': 1, 'epidod': 1, 'meropenam': 3, 'hypert': 1, 'virul': 1, 'exempt': 1, 'hotlin': 1, 'uc': 3, 'urem': 2, 'intrvasc': 1, 'dedic': 5, 'ctiric': 1, 'pupillari': 4, 'lim': 1, 'empoir': 1, 'supervisor': 1, 'psa': 3, 'atatu': 1, 'antbx': 2, 'thyroglobulin': 1, 'enceph': 3, 'liaison': 1, 'abs': 1, 'cefe': 1, 'depakot': 2, 'osmol': 1, 'oropharanyx': 1, 'myopathi': 6, 'reachabl': 1, 'lk': 1, 'log': 2, 'revalu': 1, 'recx': 1, 'blame': 1, 'intravasularli': 1, 'unewu': 1, 'cintinu': 1, 'dimnish': 1, 'placewd': 1, 'warma': 1, 'acetylcystein': 2, 'compensatori': 3, 'sabp': 1, 'methylprednison': 2, 'supor': 1, '^to': 2, 'diamox': 1, 'wuth': 1, 'recvd': 3, 'lsix': 2, 'jr': 3, 'emoit': 1, 'occasioanlli': 1, 'generaslis': 1, 'occsaion': 1, 'propanolol': 1, 'dvers': 1, 'vigilio': 1, 'fingerst': 1, 'robust': 1, 'assymetr': 4, 'broncho': 2, 'titret': 1, 'slise': 1, 'remnant': 1, 'cardiomediastinum': 1, 'receiev': 2, 'nonexpand': 1, 'seadtion': 1, 'nebh': 1, 'comfortanbl': 1, 'whhen': 1, 'bronchhiectasi': 1, 'benoprotein': 1, 'trate': 1, 'shrug': 1, 'femer': 1, 'hemastat': 1, 'desynchronis': 1, 'faintli': 2, 'fenta': 2, 'pntx': 2, 'subsquent': 1, 'vesicular': 2, 'requierd': 1, 'tyellow': 2, 'tod': 1, 'mlow': 1, 'unequel': 1, 'soup': 1, 'discofortx': 1, 'recrtal': 1, 'finali': 1, 'repet': 2, 'genral': 2, 'fwb': 1, 'tkr': 1, 'propronol': 1, 'occasionali': 1, 'appropriatley': 2, 'shoulf': 1, 'hyperchloremia': 2, 'eff': 2, 'urinb': 1, 'cogn': 1, 'discu': 2, 'spch': 1, 'nowel': 1, 'arrhytmia': 1, 'nosocomi': 3, 'esphog': 2, 'mismatch': 3, 'anorexia': 2, 'finsh': 1, 'overshoot': 1, 'cleanser': 4, 'efect': 1, 'isk': 1, 'yesterdauy': 1, 'dimihs': 1, 'ftt': 1, 'hyperdyanam': 1, 'diffg': 1, 'secondli': 1, 'torn': 1, 'malnourish': 1, 'slighli': 1, 'fluentli': 1, 'spoon': 2, 'differentail': 1, 'smoke': 5, 'cleaniwth': 1, 'withc': 1, 'rebolus': 2, 'subglott': 3, 'leuckocytosi': 1, 'andi': 1, 'ecymot': 1, 'effusiion': 1, 'elixir': 1, 'axillay': 1, 'noncontributori': 2, 'chanhg': 1, 'gprod': 1, 'osteroarthr': 1, 'habit': 1, 'repositioniong': 1, 'overshadow': 1, 'cmrn': 1, 'inhibit': 3, 'atlern': 1, 'capabl': 1, 'butnow': 1, 'spuriou': 1, 'osteodystrophi': 1, 'impli': 3, 'valid': 3, 'vasculartur': 1, 'regret': 1, 'discusiion': 1, 'cvc': 1, 'mprove': 1, 'agratroban': 1, \"c'\": 1, 'aggatroban': 2, \"tx'ing\": 1, 'butn': 1, 'pst': 1, 'swithc': 1, 'lsb': 2, 'clholrhexidin': 1, 'omperazol': 1, 'channel': 4, 'pollen': 1, 'levothryoxin': 1, 'chlorex': 1, 'hypomag': 1, 'manor': 1, 'efficaci': 2, 'enteroccu': 2, 'minand': 1, 'straigt': 1, 'placem': 2, 'lusb': 4, 'biv': 1, 'teach': 2, 'pall': 1, 'thrombocytopeni': 2, 'dysfxn': 2, 'agatroban': 1, 'learn': 5, 'tighter': 1, 'histor': 1, 'aka': 1, 'wrestl': 1, 'varec': 1, 'nonessenti': 1, 'uncl': 2, 'stori': 1, 'curvej': 1, 'unnecessari': 1, 'ugib': 4, 'assembl': 3, 'tachycardica': 1, 'csv': 2, 'unanim': 3, 'cvvvh': 1, 'giver': 1, 'forese': 1, 'overtir': 1, 'om': 2, 'cosyn': 1, 'repe': 1, 'benifici': 1, 'remors': 1, 'bipa': 1, 'withsat': 1, 'hypophosphetemia': 1, 'transpor': 1, 'secretio': 1, 'defens': 2, 'sevelem': 1, 'outlook': 3, 'lef': 1, 'turgor': 3, 'amput': 1, 'depelet': 1, 'peridex': 4, 'guilt': 2, 'migth': 1, 'caridiogen': 1, 'anoint': 1, 'phtn': 5, 'vallecula': 1, 'videofluoroscop': 1, 'dtop': 1, 'aerob': 4, 'nivpp': 1, 'meta': 6, 'valpor': 1, 'bll': 1, 'pft': 3, 'hemiplegia': 1, 'diltaziem': 1, 'hcl': 8, 'divalproex': 1, 'eob': 1, 'df': 1, 'unforun': 1, 'hyperkeratosi': 1, 'respiridol': 1, 'subling': 1, 'incanthosi': 1, 'moda': 1, 'risperidon': 1, 'bipolar': 1, 'inj': 1, 'viseo': 1, 'explicit': 1, 'steam': 1, 'subc': 1, 'anomia': 1, 'lgib': 1, 'venturi': 1, 'blac': 1, 'bd': 2, 'dobbhoff': 4, 'retriev': 2, 'forc': 1, 'rpe': 2, 'lye': 2, 'bvm': 1, 'rehabilit': 3, 'repli': 1, 'dysarthr': 1, 'iah': 1, 'psychotrop': 1, 'pyriform': 1, 'basex': 1, 'macu': 2, 'aztreo': 1, 'videofluoroscopi': 1, 'aztronam': 1, 'flaki': 1, 'closur': 5, 'andfailur': 1, 'multipodi': 1, 'resperidol': 1, 'vestibul': 1, 'deliber': 1, 'ctg': 1, 'subglotti': 1, 'shd': 1, 'risperodol': 1, 'risperd': 2, 'ammonia': 2, 'propuls': 1, 'metavisison': 1, 'risperadol': 1, 'vibrat': 1, 'mood': 1, 'lob': 1, 'disintegr': 2, 'hyperkeratot': 1, 'asd': 10, 'readili': 5, 'ambulatori': 2, 'prosodi': 1, 'ili': 1, 'drak': 1, 'noteabl': 1, 'tbb': 4, 'downstair': 1, 'overwhelmingli': 1, 'heavier': 2, 'velar': 1, 'knew': 1, 'hyperammonia': 1, 'wfl': 2, 'ivfbolus': 1, 'detetior': 1, \"'ing\": 1, 'diffucalti': 1, 'duoserm': 1, 'rosari': 1, 'perreport': 1, 'transfererd': 1, 'mt': 2, 'miuc': 1, 'admis': 1, 'oveloar': 1, 'masrk': 1, 'tcpc': 1, 'notess': 1, 'movemnet': 1, 'cape': 1, 'mortuari': 1, 'monitorign': 1, 'ensym': 1, 'wot': 1, 'famuli': 1, 'allovesta': 1, 'hemiblock': 1, 'hypersensit': 3, 'mvt': 1, 'flonas': 1, 'portocath': 1, 'asdir': 3, 'significi': 1, 'nephrosotomi': 1, 'cryptococc': 3, 'lymphangit': 5, 'accommod': 1, 'propion': 1, 'nephrostomi': 2, 'influenz': 1, 'meassur': 1, 'dialudid': 1, 'debri': 2, 'interpr': 1, 'grey': 2, 'pathol': 1, 'serv': 1, 'dyspen': 2, 'dxae': 3, 'nauseau': 2, 'imform': 1, 'rac': 1, 'espophag': 1, 'radiotherapi': 2, 'reopen': 1, 'adenoid': 1, 'arrriv': 1, 'suciton': 1, 'resistantci': 1, 'tachyponea': 1, 'hempdynam': 1, 'puffi': 1, 'samll': 1, 'rhino': 1, 'extem': 2, 'reack': 1, 'hiatu': 1, 'desaturar': 1, 'drssg': 1, 'tachpneic': 2, 'hygein': 1, 'stoolx': 1, 'sedateion': 1, 'xcept': 1, 'phlebotomi': 2, 'apnic': 2, 'cog': 1, 'amb': 2, 'hyporeflex': 1, 'ambuu': 1, 'portext': 1, 'tonit': 2, 'repons': 4, 'vertebroplasti': 2, 'hyptertens': 1, 'theapi': 1, 'neutran': 1, \"'re\": 1, 'wheel': 2, 'movemt': 1, 'soial': 1, 'beacam': 1, 'tachypoen': 1, 'dssd': 1, 'wasnt': 1, 'preadmiss': 1, 'apnoea': 1, 'uncompens': 1, 'carbodopa': 1, 'suctuion': 1, 'protoc': 1, 'reconven': 2, 'abreas': 1, 'unalt': 3, 'bowekl': 1, 'diminich': 1, 'afebriel': 1, 'sof': 1, 'dy': 1, 'perfrom': 1, 'inevit': 2, 'dint': 1, 'drk': 1, 'anmt': 1, 'speed': 1, 'griamc': 1, 'gastropathi': 1, 'placedback': 1, 'ratat': 1, 'conor': 1, 'diurs': 1, 'remaisn': 2, 'autodiuris': 1, 'brsk': 1, 'vere': 1, 'quinci': 1, 'devepol': 1, 'disconjug': 2, 'wdwing': 1, 'pneumatocel': 1, 'eythromycin': 1, 'genelar': 1, \"today'\": 3, 'aound': 1, 'alogrhythm': 1, 'mush': 1, 'meatou': 1, 'tweezer': 1, 'dminish': 1, 'fpound': 1, 'dysnchron': 2, 'desync': 1, 'uplt': 1, 'molar': 1, 'asychron': 1, 'msse': 1, 'convey': 2, 'clotti': 1, 'earl': 1, 'iliu': 1, 'regulari': 1, 'protector': 1, 'diminsih': 1, 'cephalosporin': 2, 'drcreas': 1, 'mutlip': 1, 'naloxen': 1, '^ing': 1, 'ampl': 2, 'appx': 1, 'entertain': 1, 'duriesi': 1, 'atriocav': 2, 'carevur': 1, 'gaze': 2, 'broke': 3, 'mopder': 1, 'overnigt': 2, 'pancytopenia': 5, 'ampyema': 1, 'incras': 1, 'slug': 1, 'effor': 1, 'deuoderm': 1, 'amonst': 1, 'presur': 1, 'flac': 1, 'crepit': 1, 'upcom': 1, 'withdrw': 1, 'resur': 1, 'bariair': 1, 'xeroform': 2, 'unti': 1, 'fw': 1, 'dysynchrononi': 1, 'midodin': 1, 'uncomfoprt': 1, 'aggressivli': 1, 'tranfus': 2, 'pltlet': 1, 'finsih': 1, 'manipualt': 1, 'sideport': 2, 'assymmetr': 1, 'imapir': 1, 'vewntilatori': 1, 'failer': 1, 'wdw': 1, 'ruquir': 1, 'aferil': 1, 'corner': 1, 'specfic': 1, 'panu': 1, 'presssur': 1, 'socail': 2, 'liguid': 1, 'crepiti': 2, 'hypercalcemia': 3, 'obv': 2, 'dippig': 1, 'murtem': 1, 'spotan': 1, 'synchnou': 1, 'stepfath': 1, 'hepatofug': 1, 'admx': 1, 'fede': 1, 'respos': 1, 'unawar': 2, 'counteract': 2, 'apepar': 1, 'breadown': 1, 'wan': 1, 'crakl': 2, 'ommand': 1, 'luq': 3, 'zeroform': 1, 'autorot': 1, \"req'ng\": 1, 'mini': 3, 'abund': 2, 'copuiou': 1, 'certainti': 2, 'bradypn': 1, 'givenx': 1, 'resed': 1, 'locta': 1, 'npln': 1, 'anchor': 1, 'nostril': 2, 'appro': 1, 'midday': 1, 'asper': 1, 'nightim': 1, 'stbale': 1, 'presntli': 1, 'anarsarca': 1, 'eaisli': 1, 'flaten': 1, 'electolyt': 1, 'judgment': 1, 'osteopen': 1, 'macular': 2, 'fetal': 1, 'retropuls': 1, 'hypercholesterolemia': 4, 'intertrochanter': 2, 'gbc': 1, 'femora': 2, 'negatiev': 1, 'iwa': 1, 'substitut': 2, 'faculti': 1, 'osteophyt': 5, 'curl': 2, 'prozim': 1, 'peptic': 1, 'proteinac': 1, 'requi': 1, 'hippv': 1, 'brachytherapi': 2, 'dbc': 1, 'againt': 1, 'shorterm': 1, 'brth': 1, 'improvemnt': 1, 'vdg': 1, 'weari': 1, 'necklac': 1, 'subj': 1, 'cobnvers': 1, 'rexpans': 1, 'earrl': 1, 'allyven': 1, 'heartbeat': 1, 'granul': 2, 'cheat': 1, 'overdiuresi': 1, 'interview': 1, 'judici': 1, 'proclaim': 1, 'roughtli': 1, 'initia': 1, 'lcsw': 3, 'vasculopath': 1, 'dmii': 1, 'elcetrolyt': 1, 'famiyl': 1, 'hat': 1, 'oin': 1, 'bar': 1, 'bracelet': 1, 'contacth': 1, 'dostress': 1, 'thoracenteci': 1, 'contac': 1, 'springwel': 1, 'terribl': 1, 'tenueou': 1, 'sevic': 1, 'chiar': 1, 'sane': 1, 'breathless': 3, 'bedtim': 3, 'muscular': 2, 'acetylcysitin': 1, 'robitussin': 1, 'hum': 1, 'othr': 1, 'msk': 1, 'tessalon': 2, 'ream': 1, 'medrol': 3, 'osa': 2, 'ecreas': 1, 'recommemd': 1, 'patientno': 1, 'ea': 1, 'metforman': 1, 'hfm': 2, 'guiafenesin': 1, 'span': 1, 'fulmin': 1, 'benzon': 1, 'improvedto': 1, 'doc': 1, 'metformin': 2, 'robutssin': 1, 'nac': 2, 'solu': 3, 'dah': 2, 'tessilon': 1, 'sputa': 1, 'suspic': 1, 'decadron': 2, 'fecul': 1, 'kyg': 2, 'aswel': 1, 'nasopharyn': 1, 'afebil': 1, 'mandarin': 1, 'ome': 4, 'gastrografin': 2, 'bilatar': 1, 'facilitor': 1, 'pegtub': 1, 'peepm': 1, 'xfere': 1, 'neuropath': 2, 'pneumoni': 1, 'remaijhn': 1, 'sarcodiosi': 1, 'prophi': 1, 'curremt': 1, 'sarcoid': 1, 'mdr': 1, 'psuedo': 1, 'erectil': 1, 'tomororw': 1, 'azothioprin': 1, 'ino': 2, 'sarcoidosi': 1, 'ove': 1, 'purpura': 2, 'atypo': 1, \"cx'd\": 1, 'friction': 3, 'zoster': 2, 'shingl': 1, 'opxygen': 1, 'azathioprin': 1, 'downtitr': 1, 'progresssivli': 1, 'mandibl': 1, 'heav': 1, 'mirtazapin': 1, 'detai': 1, 'palliativ': 1, 'achymosi': 1, 'toc': 1, 'lacta': 1, 'invad': 2, 'costodiaphragmat': 1, 'acebutolol': 1, 'possiblil': 1, 'hypopho': 1, 'pamidron': 1, 'hypophosphatemia': 1, 'deposit': 4, 'insepar': 2, 'lidoderm': 1, 'pemetrex': 2, 'nsclca': 2, 'stoneman': 1, 'ami': 2, 'stemi': 2, 'encircl': 1, 'www': 1, 'radiopac': 2, 'pyelo': 1, 'carecod': 1, 'erinephr': 1, 'obstruuct': 1, 'ubj': 1, 'givern': 1, 'septi': 1, 'scopi': 1, 'periren': 1, 'disucss': 2, 'hrc': 1, 'ptc': 1, 'interpretor': 1, 'cycsto': 1, 'uanbl': 1, 'antion': 1, 'chosen': 1, \"adl'\": 1, 'jkang': 1, 'pyelonephr': 2, 'pyeloneph': 1, 'hydroneph': 1, 'fureth': 1, 'suprahilar': 3, 'ragrdu': 1, 'cycstoscopi': 1, 'pleaural': 1, 'pyelonephrosi': 1, 'suprath': 1, 'reusm': 1, 'perinephr': 3, 'loin': 1, 'uvj': 1, 'lithotrypsi': 1, 'hydrouret': 1, 'thougn': 1, 'goc': 4, 'scopalomin': 1, 'sufggest': 1, 'respo': 1, 'pylenonephr': 1, 'moieti': 1, 'en': 2, 'horizont': 1, 'electrod': 2, 'fluffi': 1, 'chr': 1, 'sonn': 1, 'progess': 1, 'airmattress': 1, 'margina': 1, 'possibilit': 1, 'aleven': 1, 'maee': 1, 'improvementin': 1, 'emphysemat': 3, 'biaxin': 1, 'podu': 1, 'norepinephin': 1, 'cefapim': 1, 'thia': 1, 'clincial': 2, 'disc': 4, 'oxza': 1, 'degener': 2, 'endplat': 1, 'airless': 2, 'effuss': 1, 'corect': 1, 'esophagogastr': 5, 'colaps': 1, 'circumv': 1, 'perturb': 1, 'angst': 1, 'abstract': 1, 'price': 1, 'burden': 5, 'brainstem': 1, 'pretreat': 1, 'terman': 1, 'cornerston': 1, 'theoret': 1, 'lauretti': 1, 'occer': 1, 'scienc': 1, 'arnp': 1, 'ivarsson': 1, 'principl': 1, 'encod': 1, 'underscor': 1, 'centuri': 1, 'levorphanol': 1, 'cyclas': 1, 'coin': 1, 'antinocicept': 1, 'yaksh': 1, 'rat': 1, 'progresson': 1, 'glucagon': 1, 'hyperesthesia': 1, 'premis': 1, 'difuss': 1, 'mu': 1, 'prefac': 1, 'phenomena': 1, 'repsiratori': 1, 'whistler': 1, 'molecular': 1, 'glutam': 1, 'cck': 1, 'hyperalges': 1, 'pharmacokinet': 1, 'advantag': 1, 'medscap': 1, 'excit': 2, 'cur': 1, 'antagonist': 1, 'sponr': 1, 'albeit': 3, 'transmiss': 3, 'proport': 5, 'permiss': 3, 'desensit': 1, 'glycol': 1, 'uniform': 1, 'purport': 1, 'opioid': 2, 'saeki': 1, 'radion': 1, 'biomark': 1, 'amioduron': 1, 'rvm': 1, 'conceptu': 1, 'dynorphin': 1, 'amelior': 2, 'anitibiot': 1, 'pathophysiolog': 1, 'elucid': 1, 'stoutz': 1, 'counterpart': 1, 'gardel': 1, 'bind': 1, 'aspart': 1, 'peptid': 1, 'xd': 1, 'adenylyl': 1, 'mk': 1, 'unrel': 4, 'receptor': 1, 'mcclean': 1, 'vanderah': 1, 'urinalysi': 3, 'wider': 2, 'cyclic': 1, 'duttaroy': 1, 'rins': 1, 'yoburn': 1, 'gif': 2, 'maintian': 1, 'popul': 1, 'reducedcontinu': 1, 'world': 1, 'statist': 1, 'chavkin': 1, 'dupen': 1, 'kinas': 1, 'scientif': 1, 'foll': 3, 'importantli': 2, 'recomend': 2, 'endocytosi': 1, 'rostral': 1, 'ersek': 1, 'concomit': 3, 'tumour': 2, 'model': 2, 'agonist': 3, 'potenc': 1, 'intrigu': 1, 'pharmaceut': 1, 'amino': 1, 'radonc': 1, 'recaptur': 1, 'mrg': 1, 'theori': 1, 'bockstael': 1, 'excitatori': 1, 'inturrisi': 1, 'govern': 1, 'gpcr': 1, 'tefari': 1, 'nonanalges': 1, 'human': 1, 'monophosph': 1, 'lotsch': 1, 'chindalor': 1, 'hypothes': 1, 'interindividu': 1, 'neurotransmitt': 1, 'medzihradski': 1, 'perist': 2, 'celeri': 1, 'nocicept': 1, 'cholecystokinin': 1, 'sander': 1, 'naltrexon': 1, 'reprint': 1, 'compton': 1, 'amplifi': 1, 'unoccupi': 1, 'regulatori': 1, 'nondrug': 1, 'pronocicept': 1, 'acknowleg': 1, 'spontaneu': 1, 'pharmd': 1, 'decad': 1, 'conflict': 1, 'analges': 1, 'wak': 1, 'mediat': 1, 'dourish': 1, 'entiti': 2, 'commonli': 1, 'simplest': 1, 'phd': 1, 'terner': 1, 'pharmacodynam': 1, 'mulitifoc': 1, 'viaogt': 1, 'releas': 4, 'urg': 1, 'excent': 1, 'bubbl': 6, 'affin': 1, 'postul': 1, 'asparagin': 1, 'raehal': 1, 'transcript': 2, 'ferguson': 1, 'modulatori': 1, 'torsad': 1, 'decoupl': 1, 'explicitli': 2, 'resensit': 1, 'endogen': 1, 'mainstay': 1, 'elsevi': 1, 'deepen': 1, 'emptiv': 1, 'gene': 1, 'ventromedi': 1, 'yabaluri': 1, 'phenomenon': 1, 'rct': 1, 'camp': 1, 'affer': 1, 'nonpain': 1, 'nur': 1, 'medulla': 1, 'genotyp': 1, 'promis': 1, 'plataeu': 1, 'psycholog': 1, 'pal': 1, 'religion': 1, 'practic': 1, 'accomplish': 1, 'intracellular': 2, 'adjuv': 1, 'hydrocostison': 1, 'introduct': 1, 'allodynia': 1, 'preclin': 1, 'vigano': 1, 'indicta': 1, 'choos': 1, 'kappa': 1, 'sedaton': 1, 'experiment': 1, 'neurosci': 1, 'decreasedin': 1, 'methyl': 1, 'maleat': 1, 'nmda': 1, 'facilitatori': 1, 'doverti': 1, 'wherebi': 1, 'sum': 1, 'sjogren': 1, 'neural': 1, 'dextromethorphan': 2, 'measuresbut': 1, 'deceid': 1, 'monomorph': 1, 'magnitud': 1, 'mao': 1, 'portenoy': 1, 'pathway': 1, 'genet': 1, 'colorect': 1, 'hyperalgesia': 2, 'hinder': 1, 'subtyp': 1, 'overtr': 1, 'concurr': 9, 'arrestin': 1, 'estfan': 1, 'periaqueduct': 1, 'proglumid': 1, 'schemat': 1, 'overlap': 2, 'polyethylen': 1, 'proactiv': 1, 'methodon': 1, 'fwma': 1, 'ygd': 3, 'wf': 1, 'tributari': 1, 'mtx': 1, 'improp': 1, 'enbrel': 1, 'xfusion': 2, 'athi': 1, 'inand': 1, 'glianda': 1, 'eomi': 6, 'sacrement': 2, 'drn': 1, 'crystalloid': 1, 'desper': 1, 'aar': 1, 'atraumat': 2, 'patella': 1, 'reas': 1, 'melena': 5, 'pralysi': 1, 'granulocyt': 1, 'lysi': 2, 'tio': 1, 'rituximab': 1, 'protuber': 1, 'icteru': 4, 'coolin': 1, 'cul': 2, 'pneumococcu': 1, 'elvat': 1, 'crypto': 2, 'witjh': 1, 'crise': 1, 'pallor': 2, 'encapsul': 1, 'nearbi': 1, 'sterp': 1, 'endotoxin': 1, 'matur': 1, 'anerob': 2, 'malais': 3, 'synthesi': 1, 'uot': 1, 'sinsc': 1, 'neuromusc': 2, 'leukostasi': 1, 'vasodilit': 1, 'vasodil': 1, 'lymphocyt': 1, 'blast': 1, 'oxgen': 2, 'cisatra': 1, 'leukapheresi': 1, 'ig': 2, 'dion': 1, 'pneumosepsi': 1, 'substrat': 1, 'redemonstr': 9, 'interfissur': 1, 'bullou': 2, 'hird': 1, 'reconnect': 2, 'cefaclor': 1, 'evloc': 1, 'patint': 1, 'perinieum': 1, 'xoponex': 1, 'signfici': 1, 'chsnge': 1, 'levalbuterol': 1, 'facili': 1, 'photodynam': 1, 'retrotrach': 1, 'reliv': 1, 'bronchi': 5, 'ffm': 1, 'brerath': 1, 'expl': 1, 'iiia': 1, 'nsc': 1, 'phlebotomist': 1, 'purus': 1, 'regen': 1, 'labour': 1, 'cuurent': 1, 'onco': 1, 'loopi': 1, 'zoloft': 1, 'effexor': 1, 'perfect': 1, 'moxifloxicin': 1, 'boost': 3, 'paitent': 1, 'highflow': 1, 'opacit': 2, 'birthday': 1, 'choc': 1, 'pheboltomist': 1, 'echocardiogram': 2, 'dyspnic': 1, 'avial': 1, 'makes': 1, 'imped': 1, 'xopenex': 1, 'ffv': 1, 'trv': 1, 'pancolon': 1, 'thumbprint': 1, 'hypocontractil': 2, 'intracav': 1, 'jmgw': 5, 'pericolon': 1, 'infraren': 2, 'fece': 1, 'ventriclr': 1, 'merit': 2, 'panproctocolon': 1, 'minu': 2, 'schf': 1, 'septick': 1, 'cephalad': 1, 'frpm': 1, 'shsf': 3, 'yestserday': 1, 'bleak': 1, 'dyssynchron': 3, 'disten': 1, 'paracentesi': 3, 'maintin': 1, 'hyperoxygen': 1, 'irrecover': 1, 'parac': 1, 'cisaturcurium': 1, 'resuscti': 1, 'unparalyz': 1, 'vzv': 1, 'ninth': 2, 'uap': 1, 'lactulous': 1, 'stabal': 1, 'gn': 2, 'taught': 1, 'sqi': 2, 'dysynchoroni': 1, 'imipramin': 1, 'blat': 1, 'pbw': 1, 'bizarr': 1, 'seventh': 2, 'tough': 2, 'vicodin': 1, 'blowout': 2, 'fibromyalga': 1, 'anasarcoid': 1, 'haloperidol': 2, 'eighth': 1, 'dubhoff': 1, 'lamotrigin': 1, 'exal': 1, 'herp': 1, 'hydrochlorid': 2, 'tricycl': 1, 'nmb': 1, 'fbr': 2, 'simplex': 1, 'morbid': 1, 'obstip': 5, 'opiod': 1, 'svv': 4, 'dysynchor': 1, 'pwder': 1, 'thalessemia': 1, 'hidden': 2, 'alkalemia': 2, 'evident': 1, 'impov': 1, 'vilego': 1, 'aiway': 1, 'expuls': 1, 'lamict': 1, 'metoclopramid': 1, 'shrunken': 2, 'esbl': 4, 'scrape': 2, 'flexeril': 1, 'opiat': 1, 'lefort': 2, 'para': 1, 'vitk': 1, 'valvuplasti': 1, 'viatmain': 1, 'taccycardia': 1, 'pnuemoboot': 1, 'esr': 1, 'dcing': 1, 'scaral': 1, 'aovti': 1, 'wallthicken': 1, 'suctionion': 1, 'ymosi': 1, 'collagenes': 1, 'sort': 2, 'multifactorisl': 1, 'valvoplasti': 1, 'vo': 1, 'qdaili': 1, 'antibid': 1, 'fortun': 1, 'meei': 1, 'dcub': 1, 'unmet': 1, 'eccentr': 4, 'te': 1, 'antbiot': 1, 'angios': 2, 'occult': 3, 'cdif': 1, 'failri': 1, 'frlow': 1, 'valvuloplasti': 1, 'offset': 1, 'regress': 3, 'valvoplsti': 1, 'jointli': 1, 'ws': 1, 'tempor': 5, 'crp': 1, 'alck': 1, 'yesterrday': 1, 'affili': 1, 'overnightl': 1, 'serotonin': 1, 'pare': 1, 'guarante': 1, 'vti': 1, 'becuaus': 1, 'awaitin': 1, 'vacno': 1, 'ecch': 1, 'argu': 2, 'sklightli': 1, 'jksd': 2, 'locu': 1, 'enzymat': 1, 'anca': 2, 'isosourc': 1, 'setgment': 1, 'inasmuch': 1, 'tilt': 1, 'imit': 1, 'bicuspid': 1, 'meropenujm': 1, 'wehich': 1, 'empath': 1, 'eschar': 1, 'complexion': 1, 'viigileo': 1, 'laa': 2, \"onc'\": 1, 'honest': 1, 'petechai': 1, 'overnig': 1, 'chole': 1, 'ueni': 1, 'lvsv': 1, 'psurg': 1, 'thermodilut': 1, 'hardli': 1, 'unstag': 2, 'dyne': 1, 'certifi': 3, 'ancef': 1, 'cardic': 1, 'sqaur': 1, 'valvuloplasi': 1, 'adventiti': 1, 'subq': 1, 'gastrograffin': 1, 'lepirudin': 1, 'allpurinol': 1, 'vasc': 1, 'cholescyst': 1, 'broadend': 1, 'domin': 1, 'pallid': 1, 'quiliti': 1, 'taccypnea': 1, 'ltach': 1, 'valvulopasti': 1, 'wocrn': 1, 'gradiernt': 1, 'galactomanna': 1, 'achil': 1, 'hcfa': 2, 'valoplasti': 1, 'hemohynam': 1, 'overdistend': 2, 'dubiou': 1, 'svi': 1, 'wbhc': 1, 'radiu': 1, 'donw': 1, 'vigileo': 3, 'orderedl': 1, 'fals': 1, 'collagenas': 1, 'siadh': 2, 'wiill': 1, 'neosinephrin': 1, 'acalcul': 1, 'ttte': 1, \"pt'\": 1, 'contr': 1, 'preform': 3, 'remodel': 2, 'exbut': 2, 'infectio': 1, 'stood': 1, 'jet': 4, 'necrotizin': 1, 'charg': 1, 'proced': 1, 'raa': 2, 'respiratoti': 1, 'aand': 1, 'valvulopplasti': 1, 'reguir': 1, 'streamlin': 1, 'overse': 1, 'rouhnd': 1, 'reater': 1, 'cosign': 1, 'seenbi': 1, 'ai': 2, 'valvuloplati': 1, 'wll': 1, 'murmr': 1, 'bidirect': 1, '^d': 1, 'woudl': 1, 'ducubitu': 1, 'moitor': 1, 'vancoymcin': 1, 'mepiplex': 1, 'euvolemia': 2, 'todat': 1, 'coagulapathi': 1, 'ne': 2, 'fwf': 1, 'aggatraban': 1, 'midu': 1, 'aov': 1, 'backward': 1, 'mepilex': 4, 'transvalvular': 2, 'heprin': 3, 'inotrop': 1, 'receheck': 1, 'systoic': 1, 'hapto': 1, 'strongyloid': 1, 'adeno': 1, 'neli': 1, 'nont': 1, 'pulmoari': 1, 'org': 1, 'eosinphil': 1, 'gental': 1, 'hyperkalemi': 1, 'skip': 1, 'asperg': 1, 'bellow': 1, 'methypr': 1, 'granular': 2, 'spun': 1, 'deminsh': 1, 'consensu': 1, 'sinsu': 1, 'sss': 1, 'tn': 1, 'hypoactic': 2, 'spin': 1, 'overdistent': 2, 'neutrophil': 2, 'whrn': 1, 'kangaroo': 1, 'pippracillin': 1, 'ple': 1, 'pipracillin': 1, 'exterm': 2, 'culter': 1, 'vw': 1, 'hormon': 1, 'dysmorph': 1, 'diureisi': 1, 'ige': 1, 'remiss': 2, 'grad': 1, 'dysncron': 1, 'platea': 1, 'dysrhythmia': 1, 'inflamatori': 2, 'biter': 1, 'ischmia': 1, 'ovebreath': 1, 'symetr': 1, 'strongiloid': 1, 'aip': 1, 'pss': 2, 'poa': 2, 'hypxoc': 1, 'orpharyng': 1, 'deactiv': 1, 'tital': 1, 'inetrv': 1, 'thoras': 1, 'therapeud': 1, 'galatomonan': 1, 'sosyn': 1, 'crept': 1, 'stongi': 1, 'copious': 1, 'autoimmun': 1, 'exr': 1, 'diagonisi': 1, 'pmhcad': 1, 'decompen': 1, 'dietet': 3, 'nine': 2, 'electroly': 1, 'entranc': 1, 'bronhial': 1, 'tum': 2, 'advac': 1, 'steriod': 3, 'linger': 1, 'effici': 1, 'aspergillu': 1, 'subtherapuet': 1, 'requri': 1, 'easleir': 1, 'histoplasma': 1, 'tamsulosin': 1, 'eosinophilia': 2, 'histo': 1, 'tularemia': 1, 'crossmatch': 2, 'goultur': 1, 'hevili': 1, 'jrci': 3, 'fyi': 1, 'vassopress': 1, 'immun': 1, 'instanc': 2, 'agglutin': 1, 'vr': 1, 'contnu': 1, 'malignaci': 1, 'hypxic': 1, 'pii': 1, 'hypocalcemia': 1, 'overrid': 1, 'ducolax': 1, 'overdistens': 1, 'kayexalt': 1, 'tuleremia': 1, 'alongsid': 1, 'anecho': 1, 'impercept': 1, 'prostatectomi': 1, 'nephrolithiasi': 3, 'danazol': 1, 'aftern': 1, 'uncertainti': 1, 'turp': 1, 'propoxyphen': 1, 'aberrantli': 1, 'cci': 1, 'oxybutynin': 1, 'warn': 1, 'espiratori': 1, 'wiil': 1, 'unpurpos': 1, 'glacuoma': 1, 'instrins': 1, 'amout': 1, 'pper': 1, 'cystoscop': 1, 'weel': 1, 'denis': 1, 'darvon': 1, 'appi': 1, 'liek': 1, 'arthrodesi': 1, 'hish': 1, 'awiat': 1, 'initiait': 1, 'asrriv': 1, 'fl': 1, 'pancx': 1, 'ste': 2, 'protnix': 1, 'esopog': 1, 'hyperplasia': 1, 'segemtn': 1, 'thrombopoetin': 1, 'patietn': 1, 'protract': 1, 'vegileo': 1, 'cistacurim': 1, 'levoxyl': 1, 'nafcillin': 1, 'recdiev': 1, 'naficillin': 1, 'recew': 1, 'fewminut': 1, 'bicard': 1, 'neuromuscular': 5, 'rhabdo': 1, 'xigri': 1, 'dobutaminin': 1, 'tpp': 2, 'withdrawen': 1, 'leukopenia': 1, 'keton': 2, 'donutamn': 1, 'influzena': 1, 'gastro': 1, 'elyt': 1, 'scenario': 1, 'morph': 1, 'hopsit': 1, 'varici': 1, 'ambival': 2, 'incl': 4, 'finbrinogen': 1, 'bilaterl': 1, '^sed': 1, 'solutiuon': 1, 'peesist': 1, 'child': 2, 'catastroph': 1, 'flor': 1, 'reviv': 1, 'denser': 2, 'brbpr': 1, 'summon': 1, 'file': 2, 'octreotid': 3, 'harsher': 1, 'vaspressin': 1, 'reintroduct': 1, 'tendenc': 1, 'lavtat': 1, 'estrang': 1, 'immin': 2, 'italian': 1, 'curretnli': 1, 'leveph': 1, 'sfv': 1, 'unilater': 4, 'queri': 4, 'comparis': 1, 'mdag': 2, 'betweeen': 1, 'dvtpleas': 1, 'mroe': 1, 'fpr': 1, 'mar': 2, 'thyroxin': 1, 'twi': 2, 'tibc': 1, 'withdrawan': 1, 'lactamas': 1, 'seemingli': 1, 'mural': 2, 'frail': 2, 'ferritin': 1, 'congreg': 1, 'hemoconcentr': 1, 'betablock': 2, 'othervis': 2, 'denot': 1, 'airflow': 2, 'ovrenight': 1, 'microorg': 2, 'compound': 2, 'cardiophren': 2, 'costophr': 1, 'omnipaqu': 4, 'sternum': 2, 'volumetr': 3, 'fract': 1, 'tomographi': 2, 'kerley': 2, 'epicardi': 2, 'solitari': 1, 'infraclavicular': 1, 'millimetr': 1, 'mycobacteri': 1, 'unmodifi': 1, 'calic': 1, 'cau': 1, 'depict': 1, 'direction': 1, 'hypoechogen': 1, 'upj': 1, 'spondyl': 1, 'hemithorac': 5, 'spicul': 1, 'bulla': 2, 'radioopac': 1, 'hyperthyroid': 1, 'ligament': 1, 'ankylos': 1, 'unfold': 1, 'osteosclerot': 1, 'cavit': 3, 'ventrcular': 1, 'sedond': 1, 'longitudin': 1, 'cbd': 2, 'syndesmophyt': 1, 'mildi': 2, 'hepatobiliari': 5, 'cavitari': 3, 'deriv': 2, 'cerebri': 1, 'department': 2, 'talc': 1, 'ovarian': 1, 'omentum': 1, 'carcinomatosi': 1, 'multisequ': 1, 'locula': 1, 'frontali': 1, 'pneumothorac': 2, 'peron': 5, 'pleurodesi': 1, 'brachiocepahl': 1, 'falx': 1, 'hyperintens': 1, 'jbre': 1, 'hyperostosi': 1, 'sac': 2, 'supratentori': 1, 'hyperecho': 4, 'distr': 2, 'pvt': 1, 'interav': 1, 'pelviectasi': 1, 'moh': 1, 'jxkc': 2, 'retrolisthesi': 1, 'doss': 1, 'myoneuropathi': 1, 'omit': 1, 'klebseilla': 1, 'emg': 1, 'sensorimotor': 1, 'takeback': 1, 'hypotn': 1, 'hyperchlorem': 1, 'supratherapeuticleukocytosi': 1, 'circ': 1, 'proctectomi': 1, 'prot': 2, 'cnsc': 1, 'gprotein': 1, 'synapt': 1, 'cornebacterium': 1, 'rhochour': 1, 'retroperi': 1, 'cleaner': 3, 'cleanz': 1, 'comfor': 1, 'doppleralb': 1, 'curbsid': 1, 'midbrain': 1, 'tartrat': 3, 'pml': 1, 'nj': 1, 'spondylolysi': 1, 'electrophysiolog': 1, 'schatzki': 1, 'psoa': 1, 'schisto': 1, 'dess': 1, 'cvicu': 1, 'botul': 1, 'atnf': 1, 'calciumacet': 1, 'volit': 1, 'dace': 1, 'anterolisthesi': 1, 'fascial': 1, 'ldn': 1, 'acr': 1, 'axilari': 1, 'rssbi': 1, 'nag': 1, 'excis': 1, 'myelopathi': 1, 'erval': 1, 'careplan': 2, 'hypopnea': 1, 'uncomfor': 1, 'extrathorac': 2, 'hoars': 1, 'bill': 1, 'nost': 1, 'corynebacterium': 1, 'cionsult': 1, 'hemosiderin': 1, 'vasculopathi': 1, 'speci': 1, 'hyperlipindemia': 1, 'student': 2, 'ay': 1, 'anasara': 1, 'extubatd': 1, 'oyt': 1, 'axon': 1, 'cololostomi': 1, 'llg': 1, 'diphteheroid': 1, 'sticker': 1, 'arhb': 2, 'usg': 1, 'myasthen': 1, 'retrospect': 1, 'ti': 1, 'stump': 3, 'pedicl': 1, 'phlegmon': 1, 'myopath': 1, 'cnsd': 1, 'denerv': 1, 'gpro': 1, 'polyneuropathi': 1, 'prei': 1, 'spp': 1, 'ascertain': 1, 'woren': 1, 'sandblast': 1, 'mucormyst': 1, 'nf': 1, 'dysyncroni': 1, 'inact': 2, 'desyncron': 1, 'conssit': 1, 'conven': 1, 'pectu': 1, 'wore': 1, 'dirti': 2, 'dysycron': 1, 'normoact': 2, 'soln': 1, 'cosamin': 1, 'ipd': 1, 'suctionedx': 1, 'dissynchron': 2, 'reble': 1, 'platpressur': 1, 'desynchron': 3, 'purplish': 1, 'ertapenem': 1, 'ih': 2, 'currenltli': 1, 'born': 1, 'msiv': 2, 'zolpidem': 1, 'dyschroni': 1, 'oragan': 1, 'avnrt': 2, 'opporun': 1, 'beard': 1, 'spri': 1, 'oversea': 1, 'inactiv': 1, 'lmid': 1, 'nondil': 1, 'benzonat': 1, 'sytem': 1, 'excavatum': 1, 'nu': 1, 'painter': 1, 'omeprazol': 1, 'ind': 1, 'sarcoma': 1, 'pneu': 1, 'extrapleur': 1, 'kaposi': 1, 'pneuomedistinum': 1, 'jiroveci': 1, 'hyperextend': 1, 'pjp': 1, 'sidehol': 2, 'pneumothrax': 1, 'thoracostomi': 1, 'enya': 2, 'obliter': 2, 'likey': 1, 'bileou': 1, 'valium': 2, 'cisastacurium': 1, 'cheek': 1, 'intervascularyli': 1, 'intuab': 1, 'aprreci': 1, 'dfe': 1, 'inspit': 3, 'thrombin': 1, 'concur': 2, 'streptococc': 1, 'reinflat': 1, 'dehydrogenas': 1, 'conj': 1, 'tve': 1, 'biphas': 1, 'pnemo': 1, 'anteromedi': 1, 'familiy': 1, 'bubl': 1, 'recit': 1, 'clorid': 1, 'exce': 1, 'nitrou': 1, 'endpoint': 1, 'occaission': 1, 'opthal': 1, 'ladi': 2, 'cistracurium': 1, 'immunoglobulin': 1, 'psvlevel': 1, 'visciou': 1, 'chemiosi': 1, 'parlyt': 1, 'fenatanyl': 1, 'standpoint': 3, 'exogen': 1, 'radiopaqu': 3, 'metolozon': 1, 'nitic': 1, 'crazi': 1, 'cistastacurium': 1, 'chemosi': 1, 'tradit': 1, 'unchangedand': 1, 'barrotrauma': 2, 'templ': 1, 'proprofol': 1, 'trali': 1, 'cistacurium': 1, 'lactilub': 1, 'xerofoam': 1, 'toleratedongo': 1, 'inchang': 1, 'xfuse': 1, 'pnuemothorax': 1, 'voriconazol': 1, 'methados': 1, 'ggancyclovir': 1, 'fulfil': 1, 'persis': 2, 'troli': 1, 'reparalyz': 1, 'consistentlli': 1, 'destat': 2, 'pretibi': 1, 'satsin': 1, 'oscil': 1, 'mgc': 1, 'opthamolog': 1, 'abscent': 1, 'rotopron': 1, 'afrebril': 1, 'plo': 1, 'llast': 1, 'engulf': 1, 'buddist': 1, 'cisctracurium': 1, 'phi': 1, 'serosangiun': 1, 'diazepam': 1, 'interestingli': 1, 'moth': 1, 'nimbex': 1, 'cisaturcoruim': 1, 'nystain': 1, 'mycafungin': 1, 'south': 1, 'gancyclovir': 1, 'applli': 1, 'paralys': 1, 'dyssynchroni': 2, 'tdecreas': 1, 'nitrixoxid': 1, 'flexicel': 1, 'bmtx': 1, 'subconjunctiv': 1, 'opthalmolog': 1, 'tfresidu': 1, \"c'ing\": 1, 'rotapron': 1, 'arvp': 1, 'retin': 1, 'phigh': 1, 'prome': 1, 'attributbl': 1, 'ou': 1, 'ecmo': 1, 'rota': 1, 'resudu': 1, 'anu': 1, 'cisastracurium': 1, 'plow': 1, 'milli': 1, 'hyp': 1, 'dieresi': 1, 'repron': 1, 'sildenafil': 1, 'subjunctiv': 1, 'pulmn': 1, 'pie': 1, 'bactim': 1, 'cisatracurim': 1, 'lamivudin': 1, 'idea': 1, 'gastriti': 1, 'deflat': 1, 'cist': 1, 'erythem': 1, 'homodynam': 1, 'treatabl': 1, 'infx': 1, 'linazolid': 1, 'sanquin': 1, 'gvh': 1, 'specialti': 1, 'biater': 1, 'tolar': 1, 'trale': 1, 'continuelactilub': 1, 'inflitr': 1, 'opciti': 1, 'succeed': 1, 'satt': 1, 'prove': 1, 'divers': 1, 'pbec': 2, 'hydroureteronephrosi': 1, 'ercp': 3, 'urostomi': 1, 'ileal': 1, 'accentu': 1, 'outlet': 2, 'cystectomi': 1, 'kkgc': 3, 'oment': 1, 'pneumobilia': 2, 'conduit': 1, 'recom': 1, 'idenitif': 1, 'umbilicu': 1, 'pbishop': 2, 'ehab': 3, 'intrapulmonari': 1, 'noteworthi': 1, 'sniff': 1, 'tasp': 1, 'intracerebr': 1, 'verg': 1, 'fasoli': 1, 'malpost': 1, 'tardu': 1, 'retrograd': 1, 'dna': 1, 'parvu': 1, 'ureter': 1, 'aji': 3, 'aprenchym': 1, 'listeria': 1, 'meatal': 1, 'enteroccoc': 1, 'aspf': 1, 'mci': 1, 'radlin': 1, 'radiopharmaceut': 1, 'plum': 1, 'dtpa': 1, 'maa': 1, 'discoveri': 2, 'inadvert': 1, 'venotomi': 2, 'cessat': 1, 'baloon': 1, 'intab': 1, 'caudal': 1, 'upsiz': 2, 'huddl': 2, 'unconsci': 1, 'internvet': 1, 'pneumopericardium': 1, 'fingerbreadth': 1, 'shorter': 1, 'wdwn': 1, 'aquir': 1, 'cnii': 1, 'scx': 1, 'logic': 1, 'bode': 1, \"'lyte\": 1, 'fouind': 1, 'blossom': 1, 'stabiol': 1, 'thyromegali': 1, 'silloutt': 1, 'xii': 1, 'natg': 3, 'costal': 2, 'intubatedclin': 1, 'diaphgram': 1, 'mjmgb': 3, 'hemidiaphragmat': 1, 'subpulmon': 1, 'psuedomona': 1, 'intervertebr': 2, 'effu': 1, 'atelectas': 2, 'chronicli': 1, 'cholestat': 2, \"trach'd\": 1, 'rarefact': 1, 'radicl': 1, 'distol': 1, 'technologist': 1, 'corticomedullari': 1, 'calculi': 1, 'thechang': 1, 'faiulr': 1, 'bileaflet': 1, 'retroaort': 1, 'habitu': 2, 'lltc': 1, 'gmsj': 1, 'gsenapati': 2, 'hemipelvi': 1, 'mxak': 1, 'hypersentit': 1, 'disgust': 1, 'hffm': 1, 'klebsiella': 2, 'calmli': 1, 'hp': 1, 'nsip': 2, 'enterococc': 1, 'metatstat': 1, 'patientpercodan': 1, 'undercontrol': 1, 'recordspercodan': 1, 'frapp': 1, 'breakfast': 1, 'percodan': 1, 'afew': 1, 'inlaw': 1, 'angri': 1, 'mra': 2, 'micron': 3, 'chocol': 1, 'augmentin': 1, 'benadryl': 2, 'itp': 2, 'ivt': 1, 'kleb': 1, 'paremet': 1, 'orthostat': 2, 'eater': 1, 'usag': 1, 'hrct': 1, 'invalid': 2, 'nonvisu': 1, 'suprastom': 1, 'embarrass': 1, 'metoprol': 1, 'unasyn': 1, 'anger': 1, 'riesman': 1, 'bbl': 1, 'entercocci': 1, 'autonom': 1, 'neglect': 1, 'kyphoplasti': 2, 'pansensit': 1, 'oer': 1, 'oler': 1, 'uncultur': 1, 'cdb': 1, 'orang': 1, 'egop': 1, 'rusb': 1, 'echhymosi': 1, 'afrin': 1, 'scoop': 1, 'pharygx': 1, 'noseble': 1, 'banana': 1, 'pharygnx': 1, 'sjorgen': 1, 'fuction': 1, 'cour': 1, 'salt': 1, 'gentler': 1, 'phargnx': 1, 'western': 1, 'overfeed': 1, 'polypectomi': 1, 'videoswallow': 1, 'unassist': 2, 'incorrectli': 1, 'etco': 1, 'toprol': 2, 'metprolol': 1, 'whitmil': 1, 'toung': 1, 'hypecarb': 1, 'adeuqu': 1, 'wrinkl': 1, 'xl': 1, 'provd': 1, 'factori': 1, 'rigth': 1, 'nasotrachi': 1, 'alkylosi': 1, 'flut': 1, 'whish': 1, 'appox': 1, 'scc': 1, 'apporpri': 1, 'driven': 3, 'modestli': 1, 'failu': 1, 'scca': 2, 'alevyn': 1, 'aspiraiton': 1, 'cetuximab': 2, 'auditori': 1, 'mie': 1, 'safest': 1, 'fee': 1, 'situationclip': 1, 'cardiomedistin': 1, 'aorticopulmonari': 1, 'periprosthesi': 1, 'minist': 1, 'trazodon': 1, 'laryngoscopi': 1, 'proteas': 1, 'olopatadin': 1, 'benazepril': 1, 'gastroenter': 1, 'tolterodin': 2, 'chewabl': 1, 'hematemsi': 1, 'nasonex': 1, 'ec': 1, 'ophthalm': 1, 'patanol': 1, 'amiodoran': 1, 'actuat': 1, 'memantin': 1, 'capsul': 2, 'ultras': 1, 'hematemesi': 1, 'totprot': 1, 'urobiln': 1, 'dipstick': 1, 'hdl': 1, \"'lcba\": 1, 'vinorelbin': 1, 'globuln': 1, 'intuba': 1, 'pituitari': 1, 'cgi': 1, 'estgfr': 1, 'mchc': 1, 'cisplatin': 1, 'intercost': 3, 'bilirub': 1, 'ld': 1, 'ldlcalc': 1, 'hypercholestolemia': 1, 'microscop': 2, 'totbili': 1, 'urean': 1, 'ingrowth': 1, 'ctropnt': 1, 'mch': 1, 'african': 1, 'gender': 1, 'triglyc': 1, 'cholest': 1, 'calhco': 1, 'miscellan': 1, 'paclitaxel': 1, 'rohila': 1, 'ldl': 1, 'gemcitabin': 1, 'docetaxel': 1, 'dirbili': 1, 'alkpho': 1, \"'expand\": 1, 'trans': 1, 'uricacd': 1, 'trig': 1, 'mcv': 2, \"'lcbi\": 1, 'renalep': 1, 'intrepretor': 1, 'caltco': 1, 'ostelamavir': 1, \"'lhbc\": 1, 'isoenzym': 1, 'secretiion': 1, 'xs': 1, 'rdw': 1, 'baso': 1, \"'lhbi\": 1, 'intubat': 1, 'american': 1, 'carboplatin': 1, 'hba': 1, 'pravastatin': 1, 'angap': 1, 'erlotinib': 1, 'magnum': 1, 'convex': 2, 'wing': 1, 'calvari': 1, 'def': 1, 'symmetri': 1, 'occipit': 1, 'callu': 1, 'humeri': 1, 'adepqu': 1, 'homogen': 1, 'adepquatel': 1, 'skeleton': 1, 'shaft': 1, 'cortex': 2, 'occiput': 1, 'myelomat': 1, 'survey': 1, 'rsrc': 1, 'uptak': 1, 'txfr': 1, 'rulobectomi': 1, 'hydropneumothorac': 1, 'tumesc': 1, 'preoper': 2, 'bronchocentr': 1, 'noncardiogen': 1, 'postop': 2, 'descrb': 1, 'preexist': 1, 'adynam': 1, 'lobular': 1, 'artherosclerot': 1, 'cylindr': 1, 'akinet': 1, 'inth': 1, 'aert': 1, 'densest': 1, 'lymphangiitc': 1, 'patter': 1, 'findingsd': 1, 'adenocarcinoma': 1, 'inctrabdomin': 1, 'unenhanc': 1, 'intersept': 1, 'arthrosclerot': 1, 'ifn': 1, 'pleurisi': 1, 'chirrhosi': 1, 'intrtstitium': 1, 'arrythmogen': 1, 'milder': 1, 'decras': 1, 'ib': 1, 'resond': 1, 'agion': 1, 'rfa': 1, 'psuh': 1, 'uncommon': 1, 'cale': 1, 'plced': 1, 'burgundi': 1, 'bicep': 2, 'gwlm': 1, 'overestim': 1, 'coagulopath': 1, 'veal': 1, 'threshod': 1, 'hcc': 2, 'hpeatolog': 1, 'gwp': 2, 'penia': 1, 'biacrb': 1, 'perocardium': 1, 'eco': 1, 'fkuid': 1, 'hu': 1, 'counsult': 1, 'eith': 1, 'inotrpi': 1, 'blou': 1, 'asmi': 1, 'debril': 1, 'actiuv': 1, 'scopalimin': 1, 'leart': 1, 'thrombocyto': 1, 'conult': 1, 'planof': 1, 'loadind': 1, 'heptaolog': 1, 'haematuria': 1, 'unlad': 1, 'afig': 1, 'azithromax': 1, 'followng': 1, 'friabl': 1, 'bivent': 1, 'tachyacria': 1, 'vtac': 1, 'despiti': 1, 'tachicard': 1, 'childbirth': 1, 'cardriovers': 1, 'patellar': 2, 'mantia': 1, 'mailto': 1, 'hepato': 2, 'adj': 1, 'infilitr': 1, 'dobutmain': 1, 'contritubt': 1, 'hemodyanm': 1, 'asterixi': 2, 'cub': 1, 'anmd': 1, 'duculox': 1, 'ba': 1, 'behe': 1, 'rhonchj': 1, 'cauter': 1, 'tragic': 1, 'discount': 1, 'ecopi': 1, 'engin': 1, 'comfot': 1, 'fantanyl': 1, 'myocardium': 1, 'viser': 1, 'arteriogram': 2, 'angiogram': 1, 'metasta': 1, 'intervenet': 1, 'benedryl': 1, 'vie': 1, 'hosptil': 1, 'bandaid': 1, 'bleeder': 1, 'paient': 1, 'defend': 1, 'ly': 1, 'fbca': 2, 'cauteri': 1, 'guafenisen': 1, 'epidur': 1, 'argonn': 1, 'hctthi': 1, 'prnbolus': 1, 'requrin': 1, 'grate': 1, 'fami': 1, 'deploy': 1, 'backup': 1, 'shitft': 1, 'reinstutu': 1, 'embo': 2, 'notiif': 1, 'argon': 1, 'sel': 1, 'embospher': 2, 'wqent': 1, 'intrathec': 1, 'scapolamin': 1, 'reattampt': 1, 'supersel': 1, 'flux': 1, 'nest': 1, 'lexipro': 1, 'hemopysi': 1, 'particl': 2, 'microcathet': 1, 'blush': 2, 'palpatori': 2, 'couter': 1, 'squeak': 1, 'older': 1, 'laptop': 1, 'cervicocerbr': 1, 'hyperexpand': 1, 'hyperexpans': 1, 'hemopytsi': 1, 'renegad': 1, 'mammari': 1, 'trancathet': 1, 'cannul': 1, 'omniflush': 1, 'super': 2, 'aortogram': 1, 'stc': 1, 'apicoposterior': 1, 'congestiona': 1, 'sjbj': 1, 'vetil': 1, 'gynecomastia': 1, 'dlp': 2, 'infero': 1, 'schizoaffect': 1, 'semiupright': 1, 'mgi': 2, 'noncompress': 1, 'collom': 1, 'exch': 2, 'hepatocyt': 1, 'chylou': 1, 'cryptogen': 1, 'steatosi': 1, 'cirrhot': 1, 'arterioven': 1, 'peelaway': 1, 'emant': 1, 'text': 1, 'multiphas': 1, 'hemachromatosi': 1, 'avm': 3, 'eg': 1, 'mononuclear': 1, 'heterozyg': 1, 'cha': 1, 'pd': 2, 'sinusoid': 1, 'dophoff': 1, 'vareci': 1, 'angiodynam': 2, 'anesthet': 2, 'antitrypsin': 1, 'apoptot': 1, 'pneomothorax': 1, 'avalu': 1, 'trichrom': 1, 'chgc': 2, 'girth': 1, 'octeotrid': 1, 'malform': 1, 'hfe': 1, 'endarterectomi': 1, 'colonoscopi': 1, 'vicryl': 2, 'pnumothorax': 1, 'tonsillectomi': 1, 'chylothorax': 1, 'perisept': 1, 'mlkb': 3, 'birth': 2, 'periodclip': 1, 'cryo': 1, 'cirhhosi': 1, 'precip': 1, 'creatnin': 1, 'ssuspect': 1, 'nasointestin': 1, 'losartan': 1, 'suppliment': 1, 'rheumat': 1, 'lateri': 1, 'coronoari': 1, 'cae': 1, 'paroxetin': 1, 'disas': 1, 'lllinfiltr': 1, 'mitrial': 1, 'infction': 1, 'parapneumonia': 1, 'paxil': 1, 'prusu': 1, 'pivot': 1, 'donepzil': 1, 'mangement': 1, 'sputem': 1, 'simvastain': 1, 'ergotamin': 1, 'flet': 1, 'sydrom': 1, 'dteremin': 1, 'arenon': 1, 'insent': 1, \"lft'\": 1, 'vasodilatori': 1, 'lambl': 1, 'ntnd': 2, 'filament': 1, 'grandaught': 1, 'meanin': 1, 'effis': 1, 'mediatin': 1, 'hc': 1, 'halv': 1, 'nonerythemat': 1, 'tachcardia': 1, 'financ': 1, 'artifactu': 2, 'depr': 1, 'nicat': 1, 'thirst': 1, 'refrain': 1, 'ureathr': 1, 'centru': 1, 'biotic': 1, 'paint': 1, 'calv': 2, 'dispar': 1, 'vaco': 1, 'invok': 1, 'alten': 1, 'intersiti': 3, 'humidif': 1, 'asymmet': 1, 'conern': 1, 'maalox': 1, 'medialstin': 1, 'oncot': 1, 'unstaedi': 1, 'hemi': 2, 'promiment': 1, 'premier': 1, 'dysarthria': 1, 'sugget': 1, 'deduct': 2, 'crestor': 1, 'recordsno': 1, 'angina': 1, 'intfiltr': 1, 'excres': 1, 'tng': 1, 'medoic': 1, 'wander': 1, 'shore': 1, 'wheezez': 1, 'enifit': 1, 'succinyulcholin': 1, 'thoroughli': 1, 'periaort': 1, 'pleae': 1, 'gmpd': 1, 'evlaut': 1, 'trak': 1, 'mate': 1, 'cjmt': 1, 'negoti': 1, 'consciou': 1, 'kump': 1, 'upr': 1, 'meastat': 1, 'calculu': 1, 'pelvocalic': 1, 'hemoperitoneum': 1, 'vancopmycin': 1, 'larazepam': 1, 'frog': 1, 'paramediastin': 1, 'trachestomi': 1, 'peristals': 1, 'compars': 1, 'myocytoma': 1, 'trapezoid': 1, 'mycetoma': 1, 'ununit': 1, 'calcitonin': 1, 'nep': 1, 'besyl': 1, 'acuiti': 1, 'miacalcin': 1, 'nifedipin': 1, 'undiagnos': 1, 'lightheaded': 1, 'welcom': 1, 'nephrot': 1, 'dexmedetomidin': 1, 'avium': 1, 'fati': 1, 'polydipsia': 1, 'precedex': 1, 'wretch': 1, 'isusu': 1, 'mac': 2, 'mycobacterium': 1, 'undecid': 1, 'satisfact': 1, 'salmon': 1, 'intot': 1, 'pda': 2, 'spondylosi': 1, 'pnenmonectomi': 1, 'reasaon': 1, 'coll': 1, 'amidaron': 1, 'hyperpotassemia': 1, 'bronchopneumonectomi': 1, 'minimz': 1, 'stabilil': 1, 'solmederol': 1, 'squameou': 1, 'bronchopleur': 2, 'cortosol': 1, 'fluild': 1, 'bronchopulmonari': 1, 'disinclin': 1, 'detal': 1, \"leni'\": 1, 'driver': 1, 'exel': 1, 'dehis': 1, 'amiodarin': 1, 'admidaton': 1, 'azythro': 1, 'rough': 1, 'uni': 1, 'repiatori': 1, 'spectral': 1, 'unspeci': 1, 'exac': 1, 'xcray': 1, 'maintiain': 1, 'faclid': 1, 'tingu': 1, 'defintit': 1, 'althoug': 1, 'neet': 1, 'mute': 1, 'resussit': 1, 'vvia': 1, 'lactalos': 1, 'performac': 1, 'disintigr': 1, 'reconfirm': 1, 'arom': 1, 'depenc': 1, 'pite': 1, 'ventiat': 1, 'simultaen': 1, 'tyloenol': 1, 'updatefamili': 1, 'mimic': 2, 'memeb': 1, 'anaphylaxi': 1, 'indefinit': 1, 'acidosisi': 1, 'axtreonam': 1, 'uncomfortbal': 1, 'currentt': 1, \"family'\": 1, 'ascrib': 1, 'presenti': 1, 'rsvi': 1, 'emphasi': 1, 'roadtrip': 1, 'reclarifi': 1, 'arranag': 1, 'mmdri': 1, 'subglottal': 1, 'cxc': 1, 'aztreonum': 1, 'aarom': 1, 'sedret': 1, 'conisd': 1, 'dermat': 1, 'yoga': 1, 'enitr': 1, 'solumedtrol': 1, 'mmt': 1, 'gtibe': 1, 'tommorow': 1, 'unrespos': 1, 'cea': 2, 'lmn': 1, 'intersti': 2, 'ywca': 1, 'tremiti': 1, 'hypoton': 1, 'dhghfhdlhkl': 1, 'prom': 1, 'extract': 2, 'secrit': 1, 'clinical': 1, 'tachynpea': 1, 'ers': 1, 'loudest': 1, 'locomot': 1, 'hemodyanam': 1, 'respriatori': 1, 'derang': 1, 'desaturateion': 1, 'closelyt': 1, 'reticularnodular': 1, 'pege': 1, 'monitorec': 1, 'hypertent': 1, 'thereof': 1, 'midax': 1, 'atrio': 2, 'juxtahilar': 1, 'fev': 1, 'hemoptisi': 1, 'tbm': 1, 'mutlifoc': 1, 'donepizil': 1, 'ctr': 2, 'tropi': 1, 'unrepons': 1, 'thalassemia': 1, 'revealedt': 1, 'airborn': 2, 'thallasemia': 1, 'nari': 1, 'calvaria': 1, 'ileocec': 1, 'tuberculosi': 2, 'alkalos': 1, 'stom': 1, 'pector': 2, 'opaqu': 1, 'crown': 1, 'radio': 1, 'gunshot': 1, 'dental': 1, 'uppper': 1, 'liekli': 1, 'brachioradiali': 1, 'pulsat': 1, 'pmb': 1, 'magnesia': 1, 'comtinu': 1, 'hospis': 1, 'pigment': 1, 'baslin': 1, 'iddm': 1, 'downtrend': 1, 'gangren': 1, 'resorpt': 1, 'dti': 1, 'aspiratin': 1, \"alzheimer'\": 1, 'cafeteria': 1, 'cart': 1, 'pyridostigmin': 1, 'antidot': 1, 'myasthenia': 1, 'reaccess': 1, 'protamin': 1, 'zyosyn': 1, 'steadal': 1, 'respodn': 1, 'grape': 1, 'tendon': 1, 'novolin': 1, 'presistantli': 1, 'thrussh': 1, 'antacid': 1, 'blancheabl': 1, 'conceiv': 1, 'peumothorax': 1, 'proc': 1, 'pneumotharax': 1, 'reidentifi': 1, 'hyperemia': 1, 'subcutaen': 1, 'nmka': 1, 'subseg': 1, 'slice': 1, 'pw': 1, 'interlobular': 1, 'smooth': 1, 'rjab': 1, 'cervicothorac': 1, 'rahni': 1, 'arter': 1, 'atrioventricular': 1, 'targetoid': 1, 'circular': 1, 'cryptococcosi': 1, 'cryptococcu': 1, 'perpher': 1, 'likel': 1, 'scalp': 1, 'streptococcu': 1, 'diag': 1, 'suprasellar': 1, 'tel': 1, 'respirophas': 1, 'arthralgia': 1, 'tdi': 1, 'subactu': 1, 'donor': 2, 'nob': 1, 'irrhythm': 1, 'maximin': 1, 'sugggest': 1, 'dissoci': 1, 'tomak': 1, 'mbi': 1, 'twelv': 1, 'grant': 1, 'andcvc': 1, 'abdomn': 1, 'pulmnonari': 1, 'thickedn': 1, 'midazalam': 1, 'ventilaiton': 1, 'arrthym': 1, 'prodiv': 1, 'emv': 1, 'ndg': 1, '$': 1, 'pcr': 1, 'bmv': 1, 'frompt': 1, 'corticosteroid': 1, 'myelosuppress': 1, 'chrnic': 1, 'friabil': 1, 'lowerin': 1, 'afp': 1, 'burn': 1, 'inter': 1, 'muscos': 1, 'mivf': 1, 'scrap': 1, 'mtb': 1, 'rhoncrou': 1, 'dollar': 1, 'settign': 1, 'kitchen': 1, 'choledocolithiasi': 1, 'sulfameth': 1, 'intrpulmonari': 1, 'splenomeg': 1, 'macer': 1, 'trimetoprim': 1, 'friablilti': 1, 'echymos': 1, 'transpulmon': 1, 'fibriogen': 1, 'hme': 1, 'sphincterotomi': 1, 'critaid': 1, 'lover': 1, 'leve': 1, 'sdh': 1, 'gadolinium': 1, 'dimension': 1, 'underwhelm': 1, 'flight': 1, 'usus': 1, 'cce': 1, 'llb': 1, 'atheromat': 1, 'prozac': 1, 'wellbutrin': 1, 'tall': 1, 'salvag': 1, 'aphac': 1, 'arteriographi': 1, 'npne': 1, 'sah': 1, 'mwf': 1, 'goutm': 1, 'unclot': 1, 'paresi': 1, 'inn': 1, 'cyberknif': 1, 'patientpenicillin': 1, 'colicki': 1, 'panc': 1, 'pmeumonia': 1, 'umb': 1, 'hydromorphon': 1, 'macrolid': 1, 'gemzar': 1, 'worsten': 1, 'gastroparesi': 1, 'fuel': 1, 'lypmhangit': 1, 'rhonchu': 1, 'failuir': 1, 'guaifenisin': 1, 'perspect': 1, 'mucinex': 1, 'dalilah': 1, 'summar': 1, 'bedisd': 1, 'sicua': 1, 'bedsidepronounc': 1, 'im': 1, 'spb': 1}, 'pneumonia_alive': {'cranberri': 4, 'renal': 372, 'qualiti': 322, 'studi': 754, 'place': 726, 'myocardi': 168, 'infecti': 232, 'system': 432, 'state': 377, 'adequ': 525, 'hypertens': 428, 'temp': 382, '%': 832, 'night': 460, 'hsv': 16, 'consult': 357, 'overload': 256, 'festiv': 1, 'arteri': 625, 'admiss': 437, 'balanc': 401, 'micu': 575, 'correl': 281, 'reconstruct': 68, 'time': 801, 'med': 597, 'larg': 562, 'full': 650, 'continu': 724, 'pass': 292, 'abd': 599, 'team': 493, 'limit': 539, 'sip': 118, 'allow': 210, 'diminish': 486, 'st': 515, 'repres': 405, 'doppler': 388, 'global': 176, 'contraind': 360, 'larger': 110, 'remain': 738, 'hg': 305, 'variant': 37, 'sm': 207, 'npo': 408, 'atrium': 362, 'due': 678, 'trip': 17, 'soft': 703, 'pulmon': 188, 'shift': 551, 'physiolog': 185, 'cv': 669, 'rr': 626, 'overnight': 490, 'old': 918, 'eve': 109, 'estim': 171, 'breath': 645, 'deni': 453, 'sent': 561, 'reason': 873, 'greater': 256, 'septic': 100, 'kidney': 248, 'stay': 197, \"'s\": 711, 'good': 567, 'colon': 169, 'wors': 177, 'without': 687, 'artifact': 182, 'cardiac': 664, 'caviti': 320, 'rel': 184, 'br': 22, 'none': 536, 'coliti': 50, 'copiou': 159, '@': 435, 'circumferenti': 23, 'drink': 134, 'field': 318, 'caridomyopathi': 1, 'tr': 245, 'imag': 721, 'size': 685, 'spec': 121, 'cooper': 284, 'sagitt': 161, 'mr': 402, 'suggest': 582, 'bp': 760, 'vtach': 12, 'intak': 235, 'ivf': 453, 'nsg': 167, 'bs': 596, 'follow': 720, 'earli': 270, 'evalu': 778, 'tricuspid': 262, 'lead': 345, 'abnorm': 515, 'plan': 683, 'sob': 532, 'typhliti': 3, 'see': 526, 'fe': 35, 'loos': 232, 'rare': 188, 'pericardi': 407, 'abdomin': 444, 'failur': 476, 'poor': 441, 'bracial': 1, 'alert': 514, 'avoid': 138, 'effus': 838, 'hr': 808, 'antibiot': 485, 'ep': 28, 'cold': 50, 'sinu': 725, 'tte': 305, 'pubi': 5, 'small': 773, 'although': 384, 'ct': 617, 'slightli': 559, 'wave': 411, 'absent': 249, 'sputum': 549, 'elev': 528, 'pmh': 390, 'port': 348, 'possibl': 682, 'effect': 461, 'ha': 906, 'sever': 621, 'increas': 822, 'affect': 91, 'administr': 243, 'lab': 577, 'ambul': 163, 'regular': 358, 'antecub': 23, 'frothi': 41, 'orient': 503, 'opac': 661, 'clamp': 74, 'year': 906, 'request': 267, 'sound': 587, 'tach': 49, 'previou': 774, 'throughout': 532, 'id': 418, 'underli': 290, 'unremark': 350, 'oob': 352, 'high': 490, 'cough': 676, 'one': 486, 'harrt': 2, 'famili': 591, 'remov': 471, 'lasix': 354, 'day': 675, 'picc': 378, 'allerg': 27, 'contact': 358, 'prophylaxi': 349, 'decreas': 604, 'tx': 307, 'flatten': 41, 'new': 697, 'left': 971, 'cx': 390, 'grade': 205, 'excurs': 79, 'tv': 157, 'nuero': 22, 'puls': 532, 'unabl': 451, 'cathet': 501, 'c': 778, '&': 759, 'chair': 325, 'pt': 729, 'ns': 360, 'cours': 437, 'need': 683, 'thi': 1024, 'spleen': 186, 'ox': 221, 'outpati': 135, 'r': 770, 'initi': 447, 'gerd': 83, 'midnight': 156, 'comparison': 767, 'difficulti': 326, 'back': 537, 'motion': 364, 'window': 181, 'sclerot': 105, 'stabl': 791, 'amber': 107, 'probabl': 459, 'feel': 316, 'pcp': 148, 'pm': 869, 'tamponad': 47, 'could': 493, 'higher': 117, 'pnd': 98, 'white': 329, 'pericardium': 257, 'cardiomyopathi': 41, 'gallbladd': 166, 'liver': 260, 'inflammatori': 87, 'right': 972, 'hemodynam': 487, 'thrombu': 131, 'occasion': 328, 'transfer': 630, 'juic': 28, 'etiolog': 234, 'interv': 673, 'glass': 179, 'pattern': 282, 'clear': 782, 'presenc': 112, 'pressur': 447, ')': 1005, 'pvc': 241, 'better': 415, 'haart': 18, 'normal': 849, 'pr': 204, 'neg': 494, 'wall': 437, 'l': 763, 'qd': 121, 'green': 106, 'pa': 418, 'predominantli': 96, 'yesterday': 453, 'anasarca': 74, 'aid': 96, 'rt': 262, 'final': 876, 'gland': 145, 'anterior': 345, 'diffus': 438, 'endstag': 1, 'nutrit': 375, 'neuro': 569, 'find': 853, 'mildli': 409, 'ambien': 41, 'abl': 525, 'cont': 719, 'therapi': 300, 'around': 300, 'dose': 572, 'yellow': 491, 'patent': 424, 'diagnosi': 851, 'leaflet': 273, 'pend': 497, 'inform': 489, 'patient': 869, 'intact': 442, 'much': 359, 'symphysi': 46, 'monitor': 688, 'call': 554, 'patchi': 212, 'wa': 905, 'protocol': 188, 'abx': 483, 'hypotens': 319, 'consist': 636, 'bilater': 719, 'tachycard': 175, 'rf': 23, 'reaction': 314, 'x': 771, 'line': 733, 'low': 709, 'structur': 370, 'bowel': 570, 'lt': 128, 'within': 541, 'product': 536, 'crackl': 389, 'cardiomegali': 256, 'requir': 554, 'ectopi': 402, 'start': 572, 'veri': 539, 'hypokinesi': 93, 'area': 552, 'secret': 435, 'chf': 330, 'trace': 670, 'impress': 852, 'clip': 821, 'thicken': 411, 'uo': 226, 'ever': 9, 'p': 844, 'coron': 171, 'use': 521, 'w': 820, 'thick': 542, 'ale': 9, 'dilat': 415, 'le': 183, 'multipl': 514, 'depress': 232, '(': 1005, 'mark': 273, 'lung': 903, 'sleep': 398, 'technic': 304, 'clindamycin': 37, 'ef': 158, 'comment': 461, 'boost': 29, '[': 430, 'condit': 875, 'pulmonari': 827, 'qr': 107, 'iv': 811, 'output': 334, 'pancrea': 158, 'sauc': 23, 'valv': 370, 'unsteadi': 21, 'dyspnea': 328, 'limb': 131, 'asymptomat': 85, 'crf': 26, 'f': 494, 'interpret': 326, 'ground': 177, 'anzemet': 6, 'woman': 385, 'ginger': 8, 'extent': 138, 'gener': 547, 'defin': 95, 'weight': 528, 'techniqu': 515, 'today': 664, 'toler': 634, 'code': 583, 'urg': 6, 'dri': 352, 'infarct': 248, 'cap': 163, 'rest': 457, 'hungri': 35, 'ls': 460, 'watch': 107, 'tissu': 284, 'progress': 612, 'tmax': 459, 'weak': 310, 'bactrim': 77, 'bone': 218, 'collect': 164, 'foley': 541, 'attenu': 67, 'mitral': 313, 'md': 523, 'n': 409, 'ventricular': 491, 'rhythm': 656, 'bibasilar': 301, 'social': 494, 'delay': 162, ']': 427, 'result': 579, 'pleural': 753, 'obtain': 651, 'secondari': 331, 'sign': 496, 'mother': 102, 'histori': 810, 'note': 885, 'take': 439, 'mac': 12, 'desensit': 3, 'ob': 89, 'sepsi': 230, 'airspac': 127, 'free': 499, 'statu': 861, 'fals': 14, 'diagnost': 225, 'command': 522, 'mass': 319, 'amount': 496, 'exclud': 382, 'signific': 605, 'biaxin': 1, 'examin': 921, 'lytic': 133, 'integ': 65, 'ra': 381, 'admit': 928, 'eat': 204, 'rv': 258, 'review': 599, 'event': 483, 'gi': 567, 'npn': 284, 'appl': 39, 'enlarg': 430, 'cxr': 545, 'edema': 741, 'pneumonia': 939, 'exam': 513, 'po': 648, 'pelvi': 178, 'ventricl': 350, 'prespar': 2, 'site': 295, 'atelectasi': 533, 'pedal': 140, 'margin': 125, 'commod': 94, 'compar': 793, 'ill': 271, 'v': 392, 'levo': 181, 'chang': 980, 'contrast': 593, 'side': 609, 'ab': 79, 'upper': 731, 'femal': 269, 'bpm': 529, 'singl': 426, 'mg': 632, 'afebril': 541, 'last': 583, 'osseou': 210, 'color': 475, 'view': 511, 'fluid': 718, 'pcv': 7, 'ok': 172, 'lack': 97, 'bladder': 172, 'otherwis': 429, 'tendon': 13, 'perspect': 7, 'u': 574, 'resp': 651, 'cc': 645, 'also': 734, 'nausea': 204, '>': 710, 'adjust': 182, 'medic': 956, 'precordi': 101, 'strength': 164, 'mdct': 152, 'discomfort': 230, 'process': 392, 'seen': 785, 'evid': 702, 'axial': 254, 'liquid': 342, 'skin': 664, 'regurgit': 278, 'persist': 524, 'systol': 480, 'major': 144, 'lv': 245, 'bsa': 236, 'per': 617, 'access': 497, 'amt': 540, 'gait': 73, 'clinic': 587, 'induc': 87, 'gu': 460, 'leak': 165, 'bedsid': 352, 'felt': 164, 'nontend': 94, 'blood': 576, 'mild': 707, 'ate': 46, 'baselin': 432, 'futher': 19, 'diff': 222, 'lesion': 363, 'echocardiograph': 98, 'lb': 256, 'concern': 483, 'involv': 293, 'tachycardia': 390, 'anoth': 175, 'prior': 824, 'yr': 153, 'palpabl': 159, 'strand': 47, 'abdomen': 553, 'law': 35, 'height': 490, 'onset': 93, 'date': 670, 'indic': 849, 'assist': 375, 'non': 755, 'sampl': 146, 'specif': 362, 'show': 508, 'onc': 306, 'pic': 84, 'may': 654, 'daughter': 231, 'adren': 175, 'mid': 569, 'voltag': 155, 'mm': 558, 'conclus': 290, 'test': 388, 'current': 625, 'coars': 409, 'nurs': 527, 'pain': 680, 'focus': 50, 'aortic': 391, 'sat': 722, 'treat': 397, 'hiv': 63, 'moder': 648, 'pleasant': 204, 'frequent': 374, 'minim': 527, '#': 982, 'sptum': 2, 'appetit': 139, 'urin': 669, 'stool': 632, 'base': 779, 'report': 934, 'leav': 107, 'suspici': 170, 'pleas': 669, 'ascend': 203, 'ap': 749, 'bioprosthet': 15, 'best': 84, 'portabl': 784, 'man': 516, 'unchang': 787, 'ray': 232, 'coexist': 12, 'retrocardiac': 231, 'prosthesi': 32, 'ps': 318, 'exist': 128, 'h': 558, 'fat': 82, 'trivial': 171, 'interatri': 211, 'lvh': 100, 'recommend': 407, 'complet': 524, 'sinc': 788, 'lvef': 277, 'extens': 304, 'though': 361, 'multifoc': 226, 'regard': 224, 'annular': 105, 'promin': 349, 'symmetr': 305, 'supraventricular': 24, 'hypertrophi': 176, 'level': 604, 'echocardiographi': 18, 'silhouett': 382, 'similar': 264, 'region': 402, 'block': 184, 'data': 553, 'la': 229, 'function': 452, 'heart': 738, 'implic': 42, 'diamet': 242, 'hodgkin': 7, 'appear': 821, 'surgeri': 347, 'atrial': 417, 'chest': 929, 'echo': 308, 'mvp': 100, 'placement': 561, 'mat': 12, 'prematur': 157, 'present': 850, 'space': 191, 'borderlin': 221, 'suprastern': 4, 'pre': 229, 'pad': 83, 'stabil': 107, 'calcif': 325, 'like': 713, 'fibril': 200, 'gradient': 194, 'thre': 2, 'avr': 21, 'transesophag': 14, 'preserv': 124, 'chamber': 203, 'prolaps': 121, 'lvot': 159, 'tee': 49, 'endocard': 96, 'contract': 104, 'locul': 114, 'junction': 229, 'inpati': 257, 'end': 273, 'fascicular': 52, 'fever': 470, 'rate': 660, 'cm': 604, 'pneumothorax': 545, 'biventricular': 75, 'suboptim': 149, 'radiograph': 592, 'septum': 219, 'diseas': 456, 'decis': 169, 'cavoatri': 115, 'aorta': 412, 'aha': 44, 'lymphoma': 24, 'cardovascular': 1, 'transfus': 154, 'ir': 109, 'unit': 326, 'doubl': 117, 'axilla': 41, 'suitabl': 25, 'made': 523, 'acut': 596, 'assess': 739, 'gag': 169, 'episod': 346, 'mainli': 21, 'careview': 109, 'punctur': 74, 'dopamin': 23, 'prbc': 109, 'co': 372, 'prognosi': 68, 'dress': 237, 'lidocain': 128, 'insert': 216, 'ascertain': 8, 'tf': 441, 'aggress': 197, 'becaus': 176, \"tf'ing\": 10, 'rul': 166, 'apap': 12, 'often': 60, 'verifi': 40, 'head': 442, 'modifi': 18, 'french': 108, 'pale': 149, 'longer': 184, 'read': 395, 'ask': 258, 'repeat': 425, 'approach': 93, 'drawn': 192, 'button': 18, 'douderm': 9, 'mip': 9, 'mdi': 177, 'acid': 241, 'oclock': 1, 'reassess': 86, 'blb': 27, 'wheez': 400, 'respeat': 1, 'buzzer': 1, 'splint': 25, 'develop': 323, 'rn': 336, 'ronchi': 43, 'brief': 121, 'care': 655, 'us': 224, 'scv': 7, 'ani': 515, 'dopa': 17, 'lido': 12, 'bronchodil': 74, 'vt': 213, 'mouth': 284, 'stenosi': 265, 'aerat': 206, 'overlaid': 2, 'procedur': 497, 'pneomoboot': 1, 'abg': 507, 'servic': 395, 'qs': 69, 'redden': 99, 'wean': 491, 'rhonchi': 250, 'inhal': 138, 'asleep': 143, 'even': 400, 'fio': 469, 'spit': 24, 'feet': 117, 'vbg': 50, 'thk': 21, 'blister': 47, 'brisk': 102, 'whez': 4, 'subclavian': 216, 'occlus': 65, 'brush': 8, 'medial': 100, 'unev': 109, 'autocorrect': 2, 'prefer': 58, 'pink': 147, 'lamonectomi': 1, 'thigh': 67, 'vss': 153, 'issu': 279, 'occlud': 24, 'three': 173, 'distend': 389, 'deep': 303, 'mod': 258, 'secur': 158, 'depriv': 6, 'psv': 227, 'asept': 7, 'statlock': 25, 'cuff': 198, 'precaut': 434, 'employ': 22, 'nuten': 2, 'ketoconazol': 2, 'track': 126, 'alb': 123, 'prolong': 208, 'mv': 84, 'flouroscop': 11, 'know': 138, 'cpt': 219, 'slept': 219, 'asynchron': 4, 'vancomycin': 277, 'return': 305, 'tegaderm': 25, \"n't\": 160, 'vanco': 386, 'updat': 336, 'tri': 262, 'toilet': 252, 'excess': 39, 'second': 167, 'length': 142, 'next': 280, 'desatur': 160, 'troubl': 33, 'avail': 324, 'clot': 149, 'known': 421, 'arous': 232, 'spinal': 64, 'al': 12, 'keep': 346, 'translat': 34, 'dc': 216, 'sc': 207, 'mani': 102, 'speek': 3, 'move': 380, 'air': 485, 'latest': 305, 'somnul': 7, 'plct': 92, 'muscl': 224, 'realli': 42, 'oligur': 19, 'ambu': 33, 'satisfactori': 104, 'frustrat': 34, 'fluor': 17, 'spont': 102, 'sch': 100, 'cines': 1, 'drain': 586, 'hold': 385, 'word': 126, 'wear': 111, 'mmv': 28, 'earlier': 322, 'trach': 147, 'approxim': 245, 'semi': 128, 'ultrasound': 268, 'close': 327, 'wob': 77, 'emg': 10, 'bilat': 330, 'dure': 460, 'switch': 178, 'afternoon': 351, 'comfort': 410, 'rash': 251, 'teen': 128, 'seet': 1, '<': 316, 'wake': 125, 'wnl': 343, 'art': 69, 'ten': 15, 'commun': 446, 'mucu': 59, 'remeron': 6, 'laminectomi': 15, 'pinkish': 12, 'order': 557, 'sl': 147, 'yankeur': 27, 'schedul': 169, 'identifi': 380, 'withou': 2, 'incont': 34, 'tripl': 94, 'nsr': 348, 'awaken': 49, 'problem': 215, 'uncomfort': 83, 'morn': 372, 'anatomi': 19, 'max': 262, 'burst': 25, 'spo': 438, 'brown': 254, 'doe': 546, 'go': 301, 'long': 255, 'clean': 122, 'rehab': 252, 'flang': 10, 'certain': 15, 'previous': 317, 'respir': 103, 'ortho': 18, 'spontan': 273, 'someth': 44, 'cpap': 253, 'secrect': 17, 'sr': 467, 'touch': 121, 'stat': 54, 'dispo': 203, 'round': 273, 'respond': 399, 'week': 276, 'novac': 1, 'fellow': 92, 'pill': 125, 'intub': 412, 'nh': 62, 'tan': 230, 'easili': 236, 'encount': 5, 'notifi': 191, 'special': 19, 'case': 176, 'distress': 453, 'patch': 109, 'confirm': 334, 'eye': 367, 'scat': 6, 'point': 265, 'red': 186, 'hemo': 15, 'remaind': 170, 'cent': 26, 'apex': 132, 'insomnia': 24, 'dist': 21, 'transient': 137, 'alter': 200, 'rilutek': 1, 'complic': 317, 'drape': 85, 'hemmodynam': 1, 'await': 347, 'undisturb': 7, 'held': 307, 'top': 111, 'english': 49, 'abp': 83, 'inflat': 42, 'reflex': 92, 'recent': 559, 'vvg': 1, 'well': 813, 'trend': 289, 'forearm': 53, 'fentanyl': 201, 'mechan': 187, 'boot': 212, 'sicu': 119, 'treatment': 356, 'vena': 111, 'b': 448, 'yo': 382, 'peg': 172, 'anti': 92, 'mae': 304, 'lami': 3, 'make': 313, 'attempt': 390, 'noc': 143, 'htn': 287, 'understand': 138, 'measur': 348, 'grimac': 67, 'drainag': 198, 'worsen': 516, 'mostli': 167, 'fib': 137, 'awok': 37, 'freq': 159, 'onto': 45, 'cvp': 175, 'caudal': 10, 'short': 436, 'retrograd': 4, 'peep': 262, 'q': 552, 'vent': 279, 'seveal': 1, 'spong': 14, 'transpar': 20, 'run': 189, 'appropri': 416, 'movement': 416, 'alreadi': 99, 'carri': 12, 'min': 512, 'drastic': 3, 'venou': 360, 'given': 728, 'mso': 43, 'rsbi': 210, 'sulfat': 118, 'agress': 31, 'blue': 29, 'lg': 141, 'encourag': 329, 'object': 247, 'softli': 73, 'suct': 55, 'refus': 152, 'tourniquet': 3, 'oriet': 1, 'nt': 257, 'reposit': 226, 'criteria': 102, 'cdi': 36, 'still': 454, 'thin': 336, 'loss': 237, 'risk': 270, 'howev': 495, 'dr': 525, 'male': 344, 'effort': 126, 'guidanc': 148, \"o'clock\": 4, 'abduct': 6, 'tender': 386, 'happi': 27, 'vari': 55, 'tailor': 55, 'respect': 62, 'put': 232, 'restart': 341, 'maneuv': 43, 'except': 435, \"'d\": 324, 'toller': 20, 'transport': 138, 'success': 213, 'lo': 153, 'afer': 2, 'gd': 31, 'rang': 295, 'found': 314, 'sxing': 48, 'rotat': 113, 'scant': 164, 'detail': 278, 'wide': 115, 'vein': 357, 'inlin': 11, 'icu': 479, 'evaul': 2, 'guid': 141, 'meropenum': 32, 'pump': 54, 'mcg': 253, 'control': 466, 'becom': 246, 'longterm': 10, 'nonspecif': 107, 'set': 565, 'portex': 61, 'central': 380, 'albuterol': 288, 'prn': 458, 'section': 259, 'rue': 67, 'recov': 98, 'son': 263, 'maintain': 450, 'supervis': 168, 'unless': 71, 'feed': 327, 'cvbg': 1, 'normalizes': 1, 'cava': 109, 'sigh': 6, 'anesthesia': 154, 'perrla': 80, 'local': 197, 'apneic': 38, 'whole': 73, 'perrl': 275, 'appli': 289, 'fairli': 113, 'address': 100, 'cath': 293, 'staff': 148, 'chngd': 1, 'meropenem': 64, 'breathsound': 29, 'leg': 228, 'intermitt': 268, 'facil': 120, 'ess': 13, 'letharg': 171, 'done': 488, 'extremeti': 49, 'hct': 498, 'sore': 72, 'rua': 7, 'volum': 491, 'paplabl': 2, 'visit': 322, 'incid': 117, 'pedi': 38, 'tip': 500, '``': 301, 'vol': 125, 'dorsal': 6, 'work': 288, 'neruo': 8, 'lumen': 246, 'vs': 423, 'nova': 4, 'let': 61, 'bolu': 354, 'clog': 19, 'disharg': 1, 'flowsheet': 440, 'svt': 57, 'center': 45, 'irrig': 34, 'secr': 11, 'nbp': 135, 'disscuss': 5, 'tabl': 70, 'replct': 85, 'pick': 72, 'determin': 184, 'diagnos': 84, 'anxieti': 195, 'posiiton': 1, 'cmv': 104, \"'\": 157, 'minut': 338, 'advanc': 379, 'perl': 74, 'approp': 26, 'abov': 556, 'insicion': 1, 'abras': 70, 'susp': 7, 'awar': 377, 'tracheostomi': 149, 'lift': 104, 'resolv': 398, 'accordingli': 58, 'difficult': 376, 'xylocain': 1, 'tlc': 95, 'voic': 230, 'hand': 216, 'lobe': 666, \"''\": 265, 'perform': 535, 'cl': 78, 'descript': 45, 'sedat': 322, 'neck': 249, 'geet': 1, 'universla': 1, 'manag': 351, 'fusion': 27, 'simpl': 337, 'hd': 105, 'discharg': 228, 'tidal': 131, 'therapist': 52, 'acidosi': 109, 'worn': 9, 'cervic': 161, 'via': 514, 'hour': 579, 'intervent': 192, 'plam': 2, 'cmh': 154, 'hi': 483, 'venipunctur': 12, 'ivb': 16, 'hydrat': 110, 'integr': 112, 'midodrin': 5, 'immobl': 14, 'ahead': 7, 'extrem': 567, 'moment': 19, 'onli': 469, 'ho': 139, 'basil': 114, 'yellowish': 43, 'past': 361, 'period': 245, 'less': 470, 'fashion': 84, 'briefli': 131, 'whit': 2, 'pp': 79, 'lavag': 65, 'tenaci': 27, 'chronic': 454, 'achiev': 70, 'analysi': 100, 'almost': 92, 'reach': 116, 'reciev': 132, 'labil': 85, 'capac': 50, 'flatu': 97, 'post': 566, 'bb': 113, 'overbreath': 63, 'heal': 103, 'map': 260, 'respi': 8, 'granddaught': 11, 'describ': 182, 'sxed': 5, 'goal': 394, 'venodyn': 21, 'medecin': 1, 'mandatori': 2, 'oral': 456, 'va': 72, 'anxiou': 228, 'increa': 7, 'tk': 3, 'foot': 70, 'hco': 49, 'send': 168, 'friday': 50, 'pna': 714, 'needl': 93, 'duoderm': 69, 'reduc': 183, 'drift': 34, 'avl': 23, 'immedi': 198, 'j': 68, 'motrin': 30, 'befor': 291, 'quad': 54, 'pillow': 54, 'everi': 102, 'equal': 147, 'elbow': 39, 'get': 420, 'gap': 37, 'neuromuscular': 12, 'siginificantli': 2, 'apnea': 92, 'question': 455, 'water': 234, 'th': 93, 'tonight': 204, 'turn': 341, '^': 93, 'colac': 156, 'sbp': 421, 'intent': 14, 'aspir': 466, 'devic': 416, 'got': 141, 'extern': 41, 'rhoncher': 45, 'proxim': 172, 'breakdown': 132, 'titrat': 228, 'buffer': 10, 'respons': 548, 'oper': 72, 'requisit': 6, 'guidewir': 81, 'exp': 195, 'waken': 8, 'lip': 114, 'poorli': 78, 'convers': 130, 'sx': 214, 'tlcl': 34, 'trial': 194, 'tent': 181, 'pmicu': 49, 'check': 469, 'infiltr': 541, 'sheet': 117, 'drop': 382, 'effici': 1, 'becam': 237, 'centr': 2, 'exercis': 63, 'seal': 71, 'open': 285, 'selding': 4, 'ted': 4, 'prep': 110, 'peripher': 475, 'alarm': 102, 'deceas': 5, 'east': 20, 'mtg': 27, 'rm': 24, 'deminish': 20, 'secreion': 2, 'pulm': 351, 'hypercarbia': 42, 'soon': 100, 'wife': 173, 'rhonchor': 169, 'compress': 255, 'monday': 106, 'intravascular': 20, 'dual': 47, 'readi': 203, 'tylenol': 257, 'seem': 264, 'impair': 187, 'dim': 162, 'collar': 72, 'speech': 262, 'bed': 499, 'accept': 145, 'light': 178, 'ibuprofen': 27, 'placment': 105, 'bump': 58, 'cd': 90, 'ltc': 3, 'sediment': 109, 'tol': 263, 'written': 115, 'paus': 27, 'diminsh': 54, 'discuss': 451, 'stock': 6, 'weaker': 16, 'bell': 21, 'nap': 83, 'posb': 1, 'ms': 303, 'draw': 147, 'lowest': 18, 'ij': 205, 'chines': 10, 'carevu': 225, 'tomorrow': 297, 'ativan': 185, 'supin': 248, 'includ': 524, 'repond': 7, 'wait': 111, 'intial': 21, 'setret': 1, 'screen': 158, 'relief': 135, 'desat': 268, 'nutren': 76, 'angiographi': 45, 'bag': 116, 'speak': 228, 'wasreat': 1, 'secretiona': 1, 'lower': 759, 'posit': 668, 'yankour': 4, 'timeout': 88, 'nif': 20, 'altern': 118, 'pmv': 90, 'fill': 190, 'ot': 82, \"pt'\": 13, 'arm': 304, 'bolus': 252, 'nose': 232, 'remark': 57, 'ulcer': 355, 'complaint': 359, 'approx': 210, 'ph': 146, 'flush': 219, 'morphin': 169, 'tube': 539, 'awak': 330, 'obey': 35, 'improv': 754, 'complain': 113, 'residu': 355, 'rig': 1, 'later': 563, 'compens': 62, 'room': 257, 'spike': 154, 'brufen': 1, 'infus': 422, 'usual': 187, 'ring': 35, 'sourc': 255, 'two': 358, 'trazadon': 33, 'nd': 228, 'puff': 33, 'oxygen': 321, 'exit': 18, 'suction': 336, 'fluse': 2, 'notiifi': 1, 'simv': 24, 'receiv': 600, 'multipodu': 25, 'ac': 212, 'addit': 540, 'respiratori': 647, 'static': 20, 'tingl': 51, 'ventil': 296, 'warm': 349, 'mode': 200, 'distal': 317, 'look': 208, 'bm': 396, 'support': 581, 'meet': 188, 'superior': 203, 'deliv': 16, 'humalog': 68, 'independ': 101, 'wire': 206, 'ladi': 17, 'face': 294, 'tid': 230, 'transferd': 2, 'mist': 61, 'smaller': 102, 'termin': 302, 'nice': 14, 'thorac': 266, 'rll': 286, 'ro': 267, 'slight': 322, 'activ': 380, 'differ': 294, 'db': 113, 'despit': 214, 'refil': 26, 'afeb': 72, 'costophren': 144, 'obes': 179, 'atrov': 231, 'ss': 139, 'pacemak': 71, 'mn': 168, 'littl': 291, 'lat': 244, 'onrt': 2, 'eff': 15, 'cool': 240, 'capillari': 17, 'perihilar': 140, 'pmr': 2, 'pnding': 30, 'precept': 9, 'symptom': 193, 'unproduct': 10, 'csm': 31, 'hygien': 78, 'svc': 351, 'basal': 162, 'say': 105, 'pace': 88, 'fact': 28, 'flow': 542, 'enc': 66, 'quantiti': 28, 'diet': 478, 'belli': 48, 'junki': 11, 'insp': 355, 'lyte': 351, 'forward': 51, 'lock': 45, 'cover': 265, 'floor': 534, 'expans': 216, 'suffici': 24, 'ecchymot': 31, 'diuresi': 237, 'breakfast': 51, 'cad': 183, 'strong': 240, 'nvd': 6, 'follw': 17, 'pupil': 182, 'ting': 174, 'toerat': 2, 'ln': 20, 'food': 165, 'degre': 217, 'rais': 193, 'hypokinet': 13, 'azithro': 69, 'trachea': 89, 'posterior': 248, 'lopressor': 220, 'info': 49, 'conjest': 3, 'congest': 386, 'soc': 54, 'rx': 172, 'yet': 183, 'nasal': 376, 'somewhat': 270, 'deliveri': 325, 'rec': 251, 'rail': 41, 'stimul': 136, 'thirsti': 26, 'mll': 2, 'humidif': 10, 'expiratori': 107, 'endo': 198, 'graviti': 72, 'heparin': 384, 'cabg': 71, 'verbal': 298, 'pnx': 42, 'poc': 121, 'midlin': 211, 'lnc': 109, 'safeti': 144, 'aox': 42, 'extend': 226, 'regardless': 13, 'radial': 379, 'followup': 179, 'wheezez': 3, 'seizur': 118, 'diur': 5, 'either': 173, 'ad': 199, 'infect': 448, 'occsion': 1, 'nc': 470, 'curv': 133, 'mask': 348, 'neb': 418, 'viger': 4, 'lib': 7, 'attribut': 73, 'answer': 189, 'project': 211, 'pulmicort': 2, 'levoph': 87, 'nippv': 21, 'replac': 257, 'tdo': 1, 'consolid': 531, 'contninu': 4, 'imposs': 13, 'coverag': 305, 'pulmocort': 2, 'swallow': 310, 'alin': 139, 'bile': 60, 'av': 62, 'fit': 30, 'lpm': 85, 'vi': 40, 'ceftaz': 29, 'septal': 160, 'riss': 157, 'precis': 15, 'ml': 469, 'ivhl': 1, 'come': 190, 'demonstr': 423, 'grossli': 233, 'pul': 37, 'deficit': 99, 'sit': 184, 'k': 519, 'distinct': 55, 'ptscurrent': 1, 'enough': 84, 'angl': 150, 'therefor': 121, 'ie': 30, 'diures': 214, 'vomit': 139, 'nonproduct': 87, 'ed': 321, 'flownot': 18, 'addendum': 341, 'want': 267, 'condom': 15, 'transferredback': 1, 'supervisor': 5, 'insist': 16, 'accord': 90, 'stress': 328, 'lay': 28, 'piv': 327, 'provid': 452, 'defer': 107, 'oxycontin': 22, 'father': 62, 'spoke': 198, 'ekg': 291, 'therapeut': 114, 'gave': 115, 'valu': 156, 'meq': 440, 'awhil': 3, 'instead': 52, 'ago': 234, 'bank': 16, 'brother': 61, 'depend': 237, 'tat': 1, 'vano': 3, 'dx': 127, 'risperidon': 3, 'nebh': 2, 'tact': 14, 'taken': 195, 'myelopdysplasia': 1, 'came': 170, 'urgent': 12, 'eval': 587, 'kcl': 185, 'rogor': 1, 'band': 119, 'ama': 7, 'fax': 22, 'phonecal': 2, 'thousand': 1, 'form': 209, 'hx': 379, 'mor': 1, 'suppos': 15, 'would': 461, 'explain': 188, 'osh': 91, 'plt': 321, 'levoflox': 112, 'sister': 90, 'gastric': 83, 'apropri': 7, 'wash': 66, 'fragil': 25, 'wheelchair': 20, 'et': 191, 'interven': 18, 'hiflow': 18, 'narcot': 47, 'bear': 34, 'bleed': 276, 'degrad': 12, 'ductu': 4, 'walk': 94, 'infarc': 2, 'auscult': 101, 'incrreas': 1, 'root': 118, 'parenchyma': 88, 'acquir': 258, 'escal': 31, 'metropolol': 4, 'shortli': 55, 'arch': 126, 'begun': 37, 'scatter': 209, 'pe': 219, 'axillari': 199, 'chart': 118, 'discret': 51, 'discourag': 7, 'ivp': 164, 'nemb': 4, 'phm': 2, 'fo': 35, 'pneumon': 106, 'ogt': 114, 'np': 138, 'appar': 222, 'lisinopril': 86, 'relax': 68, 'arriv': 234, 'overal': 348, 'laryng': 81, 'hypoxia': 337, 'clostroph': 1, 'quickli': 136, 'pao': 155, 'fentynl': 6, 'mastoid': 77, 'restrain': 66, 'main': 149, 'fen': 239, 'haldol': 106, 'extubat': 9, 'bath': 86, 'g': 447, 'extub': 264, 'amnt': 23, 'ye': 132, 'inappropri': 27, 'pituitari': 3, 'write': 49, 'hous': 119, 'pneumomediastinum': 16, 'hrr': 2, 'pull': 293, 'tract': 80, 'bow': 4, 'obscur': 159, 'cn': 95, 'slowli': 187, 'subsequ': 181, 'minimum': 16, 'nervou': 18, 'roommat': 3, 'mech': 47, 'calmer': 23, 'ng': 452, 'nod': 135, 'fent': 119, 'csf': 28, 'gpc': 67, 'didnt': 3, 'alot': 25, 'vessel': 193, 'fluffi': 5, 'extuat': 2, 'midaz': 37, 'said': 85, 'sulci': 67, 'fs': 174, 'aspect': 134, 'sensit': 102, 'restless': 124, 'talk': 190, 'angio': 42, 'quiet': 93, 'cci': 10, 'smear': 58, 'void': 163, 'gtt': 303, 'instruct': 67, 'reintub': 64, 'theraput': 8, 'node': 217, 'thrush': 42, 'mediastin': 410, 'reformat': 135, 'wind': 3, 'pretti': 12, 'remin': 3, 'sinus': 126, 'yelow': 5, 'defect': 156, 'extremi': 1, 'impend': 16, 'markedli': 117, 'deleri': 10, 'arteriosu': 4, 'factor': 68, 'venturi': 5, 'hospit': 311, 'flair': 30, 'deceller': 1, 'situat': 80, 'sop': 2, 'unawar': 11, 'tranfer': 15, 'lsc': 24, 'optiray': 186, 'propafol': 8, 'multiplanar': 124, 'allergi': 376, 'began': 77, 'unilat': 70, 'branch': 156, 'cut': 51, 'troponin': 205, 'dipso': 1, 'suscept': 22, 'brain': 105, 'calm': 144, 'cup': 38, 'begin': 175, 'decent': 9, 'cell': 240, 'direct': 171, 'rvfx': 1, 'superimpos': 144, 'restraint': 164, 'confluent': 78, 'occ': 206, 'closer': 32, 'flat': 131, 'sd': 13, 'vers': 166, 'globe': 6, 'venti': 37, 'electrolyt': 185, 'fld': 33, 'consider': 90, 'intab': 1, 'remind': 52, 'cta': 310, 'zone': 161, 'matter': 78, 'bun': 401, 'idea': 14, 'req': 42, 'gold': 16, 'compat': 93, 'wrist': 140, 'ck': 216, 'amd': 14, 'antrum': 22, 'lie': 127, 'intens': 41, 'bil': 134, 'sleepi': 59, 'appeart': 1, 'quit': 125, 'bipap': 126, 'opacifi': 46, 'gelatin': 4, 'significantli': 214, 'understandingli': 1, 'visual': 394, 'mainten': 50, 'ext': 313, 'widespread': 62, 'coop': 12, 'maxillari': 41, 'helic': 51, 'film': 227, 'upset': 32, 'cortic': 39, 'psychosoc': 3, 'pn': 11, 'antra': 1, 'faint': 59, 'sinl': 1, 'antivir': 9, 'disori': 49, 'whitish': 55, 'rousabl': 10, 'rise': 136, 'endotrach': 252, 'paranas': 66, 'turgor': 5, 'cortex': 17, 'exert': 110, 'gentleman': 37, 'think': 109, 'anox': 8, 'interstiti': 236, 'wz': 1, 'thing': 46, 'hilar': 256, 'stomach': 251, 'easi': 38, 'roll': 61, 'stalk': 1, 'fall': 190, 'catheeer': 1, 'embolu': 38, 'incr': 44, 'blunt': 94, 'cyanot': 15, 'recon': 78, 'peak': 77, 'cannula': 330, 'dp': 337, 'sbt': 134, 'propofol': 113, 'rad': 59, 'coug': 5, 'bite': 76, 'hyperintens': 29, 'half': 68, 'home': 498, 'sporad': 5, 'went': 156, 'wbc': 531, 'promot': 56, 'tend': 30, 'crise': 1, 'spastic': 8, 'pair': 45, 'mentat': 55, 'ngt': 177, 'dissect': 40, 'tachypn': 200, 'opacif': 310, 'flagyl': 162, 'super': 10, 'outflow': 17, 'expir': 33, 'nystatin': 65, 'thruout': 5, 'thru': 63, 'nonlabor': 20, 'liq': 59, 'contigu': 77, 'embol': 123, 'cp': 192, 'sentenc': 41, 'antimicrobi': 35, 'contour': 323, 'ett': 235, 'apologet': 1, 'endoc': 25, 'msicu': 16, 'intraocular': 1, 'mobil': 121, 'sxn': 107, 'ionic': 31, 'foci': 70, 'brachiocephal': 70, 'palp': 80, 'brachial': 136, 'reg': 122, 'iii': 43, 'drip': 165, 'hardcopi': 3, 'cahng': 4, 'tree': 55, 'stinul': 1, 'kvo': 81, 'tape': 57, 'reassur': 87, 'cultur': 432, 'heterogen': 81, 'clonazepam': 21, 'thereaft': 17, 'lue': 69, 'hypox': 136, 'liter': 278, 'decr': 30, 'mi': 119, 'associ': 265, 'ice': 116, 'inf': 20, 'lsubclavian': 1, 'nrm': 4, 'lessen': 16, 'fair': 143, 'chain': 21, 'settl': 84, 'carina': 199, 'inferior': 192, 'partner': 10, 'divid': 27, 'opt': 15, 'transmitr': 14, 'detect': 94, 'impos': 2, 'srr': 26, 'densiti': 197, 'autodiresi': 1, 'diarrhea': 171, 'sxted': 8, 'obstruct': 280, 'phone': 204, 'chip': 82, 'ptt': 312, \"c'ed\": 65, 'acidoi': 1, 'perivascular': 9, 'upright': 327, 'visitor': 67, 'autodiures': 43, 'conitnu': 14, 'mediastinum': 145, 'ua': 147, 'sec': 84, 'lymph': 347, 'enhanc': 123, 'becm': 1, 'occur': 121, 'rebreath': 48, 'portion': 457, 'alseep': 1, 'hyponatremia': 50, 'na': 170, 'forget': 31, 'intercurr': 2, 'opportunist': 9, 'xray': 102, 'precipit': 28, 'cerebr': 50, 'toll': 4, 'cephal': 74, 'nrb': 156, 'cystic': 41, 'choroid': 1, 'self': 210, 'cre': 26, 'immprov': 1, 'appreci': 271, 'ischem': 112, 'tocycl': 1, 'person': 185, 'subsegment': 80, 'dowm': 1, 'e': 279, 'ect': 14, 'dvt': 402, 'agit': 275, 'rpt': 23, 'essenti': 156, 'ga': 204, 'uneven': 1, 'valium': 27, 'fulli': 165, 'ear': 232, 'target': 40, 'dtr': 64, '^^rate': 1, 'currenti': 1, 'flaccid': 14, 'opaqu': 10, 'througout': 7, 'reportedli': 74, 'ivab': 20, 'radiologist': 137, 'hydronephrosi': 90, 'tachypneia': 2, 'dimish': 22, 'affix': 3, 'plate': 26, 'orogastr': 26, 'net': 84, 'purpos': 177, 'lose': 12, 'massag': 6, 'confrim': 3, 'hemorrhag': 175, 'sometim': 66, 'desir': 72, 'sigmoid': 74, 'basic': 40, 'nm': 9, 'routin': 118, 'stimulu': 24, 'vecuronium': 10, 'yeterday': 2, 'bld': 109, 'whether': 120, 'reslt': 4, 'flexitrack': 1, 'far': 163, 'thickish': 4, 'outpt': 56, 'percocet': 59, 'btw': 5, 'cholecyst': 56, 'consid': 420, 'tfb': 28, 'anyth': 59, 'cardiomediastinum': 12, 'reveal': 192, 'excret': 38, 'pubic': 45, 'cuf': 40, 'angiopathi': 2, 'clav': 2, 'fb': 39, 'anemia': 216, 'intracrani': 107, 'lactulos': 85, 'recheck': 171, 'overli': 149, 'cribriform': 6, 'anticip': 116, 'beneath': 20, 'jejun': 9, 'reactiv': 150, 'grandson': 12, 'prompt': 20, 'resum': 156, 'away': 115, 'spare': 35, 'clr': 25, 'brownish': 23, 'rij': 75, 'nursi': 1, 'permiss': 3, 'siusiti': 1, 'lr': 50, 'trigger': 125, 'frontal': 168, 'buttock': 115, 'met': 153, \"ct'\": 1, 'exhibit': 33, 'rmain': 2, 'tactil': 33, 'purul': 33, 'connect': 27, 'jugular': 200, 'sterili': 1, 'pac': 106, 'amplatz': 16, 'stimuli': 238, 'intervascularli': 2, 'ultimatli': 1, 'topic': 39, 'express': 102, 'fix': 103, 'coil': 50, 'perc': 52, 'penia': 1, 'guaic': 35, 'uop': 225, \"patient'\": 54, 'increasingli': 82, 'sxtn': 20, 'taper': 123, 'percutan': 52, 'jejunum': 28, 'cadiomediastin': 1, 'travel': 35, 'iron': 56, 'gj': 21, 'intraven': 237, 'especi': 109, 'potassium': 341, 'refer': 202, 'oro': 2, 'entri': 32, 'entroclysi': 5, 'ectop': 24, 'stimlat': 1, 'mucos': 51, 'gaseou': 8, 'antibx': 137, 'qtc': 49, 'peel': 88, 'enuf': 1, 'perm': 6, 'tonoc': 16, 'itchi': 16, 'gastromi': 7, 'multi': 147, 'toward': 124, 'collaps': 169, 'shiley': 14, 'content': 38, 'intern': 286, 'risb': 12, 'qlc': 3, 'shiver': 5, 'tini': 97, 'fluoroscop': 135, 'noontim': 15, 'udat': 1, 'pancultur': 15, 'inr': 320, 'unrespons': 94, 'degen': 176, 'fine': 101, 'hypercapnea': 9, 'hydrocephalu': 33, 'errythem': 1, 'tema': 1, 'util': 60, 'steroid': 173, 'erythromycin': 32, 'newli': 148, 'letter': 9, 'thank': 135, 'norm': 5, 'cs': 15, 'twice': 77, 'gastr': 1, 'mening': 25, 'necessari': 115, 'cope': 49, 'fluter': 1, 'firm': 63, 'strip': 18, 'semin': 16, 'potenti': 158, 'hypovolem': 35, 'inject': 108, 'stiff': 44, 'applic': 43, 'tracheotomi': 19, 'cancer': 140, 'rectal': 150, 'incres': 6, 'youvil': 1, 'conray': 13, 'mesenteri': 17, 'hepat': 125, 'board': 59, 'derm': 50, 'decompress': 38, 'init': 27, 'mpa': 2, 'first': 206, 'slide': 261, 'pharnyx': 1, 'disposit': 309, 'canula': 35, 'tachpnia': 1, 'exchang': 94, 'teach': 27, 'vagu': 21, 'microvascular': 24, 'meical': 1, 'cva': 109, 'flutter': 68, 'late': 120, 'transaminas': 11, 'scale': 317, 'steril': 151, 'chage': 2, 'inconsistantli': 16, 'extra': 123, 'coincident': 1, 'ftb': 1, 'squeez': 48, 'healthi': 66, 'skull': 21, 'emot': 160, 'diaphoret': 119, 'ssi': 91, 'believ': 44, 'til': 22, 'pulmnari': 1, 'alon': 85, 'bit': 70, 'bwn': 3, 'bsk': 10, 'slow': 202, 'birthday': 6, 'bronchial': 182, 'swollen': 52, 'basi': 37, 'total': 457, 'consistantli': 29, 'scan': 258, 'expector': 173, 'pariet': 23, 'hang': 10, 'hemidiaphragm': 140, 'scleraedema': 1, 'bllo': 1, 'metal': 36, 'entir': 152, 'gaug': 311, 'consent': 160, 'distens': 45, 'hl': 22, 'locat': 288, 'thu': 120, 'edemat': 76, 'mushroom': 54, 'tubefe': 15, 'stransfus': 1, 'variabl': 51, 'ge': 31, 'particular': 24, 'daili': 384, 'nephew': 19, 'tachypnea': 195, 'hypopharynx': 6, 'vertex': 12, 'fasten': 11, 'pho': 232, 'retroperitoneum': 11, 'nasogastr': 182, 'pej': 13, 'extravas': 16, 'reform': 89, 'afrin': 5, 'peelaway': 1, 'overview': 2, 'patholog': 210, 'loop': 145, 'directli': 23, 'fecal': 54, 'exrem': 3, 'intuabt': 8, 'vial': 3, 'true': 29, 'gastrojejunostomi': 22, 'abreast': 8, 'normoglycem': 10, 'dermat': 17, 'intervasc': 1, 'spur': 12, 'resutur': 2, 'promod': 7, 'gain': 39, 'fr': 33, 'sput': 53, 'combin': 136, 'wtih': 20, 'bl': 58, 'vea': 88, 'highli': 42, 'tannish': 28, 'febril': 154, 'frequenc': 70, 'pelvic': 96, 'respalor': 9, 'upon': 206, 'li': 19, 'paramed': 4, 'tpn': 42, 'stop': 270, 'deploy': 16, 'blink': 17, 'peribronchi': 36, 'proceedur': 7, 'serosanguin': 30, 'tranfus': 8, 'benadryl': 27, 'overnoc': 135, 'vessicl': 2, 'inguin': 64, 'destruct': 40, 'consciou': 14, 'hydrocortison': 18, 'visibl': 102, 'shoulder': 85, 'pyloru': 15, 'amen': 19, 'member': 96, 'silght': 1, 'wakeful': 2, 'hydrocort': 9, 'criticar': 5, 'nure': 2, 'glidewir': 13, 'page': 199, 'plcmt': 15, 'acetaminophen': 84, 'urinari': 149, 'afix': 2, 'penil': 8, 'specimen': 74, 'character': 90, 'massachusett': 1, 'adquat': 6, 'occassion': 46, 'least': 142, 'inner': 70, 'nonion': 25, 'clinoid': 5, 'isol': 65, 'bloodi': 117, 'reccomend': 7, 'labor': 121, 'sphenoid': 38, '^^': 20, 'resettl': 1, 'simultan': 5, 'alkalosi': 76, 'pro': 15, 'pleaw': 1, 'underneath': 6, 'kept': 97, 'preliminari': 76, 'treitz': 13, 'passiv': 35, 'email': 18, 'parenchym': 224, 'attend': 414, 'attain': 12, 'lamina': 8, 'sub': 44, 'ceftriaxon': 176, 'retrocard': 3, 'ip': 101, 'guaiac': 97, 'simethicon': 13, 'qtt': 13, 'relat': 343, 'soundli': 9, 'redd': 10, 'enter': 258, 'inh': 20, 'notic': 43, 'tuberos': 6, 'vasculatur': 114, 'papyracea': 6, 'fell': 74, 'reliev': 67, 'perhap': 53, 'ent': 24, 'mucousi': 6, 'four': 102, 'mucomyst': 31, 'duodenum': 51, 'drug': 244, 'replet': 384, 'transduc': 18, 'insulin': 315, 'plug': 120, 'periventricular': 51, 'regim': 63, 'stand': 239, 'diuresis': 15, 'clearli': 91, 'redemonstr': 41, 'sulcu': 22, 'durng': 1, 'plmt': 17, 'vigor': 45, 'apic': 181, 'anesth': 3, 'obviou': 93, 'hung': 14, 'thich': 5, 'prelim': 45, 'squamou': 20, 'fetanyl': 1, 'migrat': 17, 'brachycephal': 3, 'hst': 1, 'vue': 22, 'tone': 280, 'microg': 1, 'golden': 43, 'offer': 111, 'name': 129, 'ethmoid': 39, 'antibot': 10, 'displac': 52, \"sxn'ing\": 14, 'supdat': 1, 'angiograph': 25, 'tvol': 6, 'ca': 420, 'inconsist': 70, 'tachneic': 1, 'heme': 205, 'balloon': 43, 'recruit': 18, 'sheath': 121, 'dsg': 114, 'adenopathi': 115, 'subject': 147, 'along': 231, 'eyelid': 5, 'incontin': 89, 'cdiff': 88, 'dampen': 46, 'cyst': 126, 'expect': 120, 'normotens': 59, 'noon': 113, 'bodi': 315, 'confort': 11, 'mental': 268, 'prostat': 68, 'slighlti': 8, 'apc': 28, 'materi': 108, 'eight': 16, 'diaphragm': 143, 'regimen': 268, 'redress': 15, 'sutur': 80, 'whose': 34, 'occat': 25, 'nonrespons': 9, 'fluoroscopi': 45, 'sodium': 338, 'calcifi': 135, 'highest': 8, 'serial': 105, 'powder': 65, 'prolen': 6, 'pronounc': 72, 'actual': 44, 'tomarrow': 8, 'vascular': 500, 'tbe': 2, 'experi': 29, 'accessori': 77, 'airat': 3, 'og': 131, 'give': 265, 'subtl': 66, 'gallston': 46, 'retro': 4, 'accuraci': 13, 'excel': 88, 'partial': 244, 'beom': 2, 'rectum': 96, 'rom': 76, 'consciouti': 2, 'lc': 13, 'shut': 55, 'cream': 149, 'log': 7, 'cardiomediastin': 249, 'middl': 208, 'fri': 113, 'hazi': 106, 'eventu': 91, 'reduct': 72, 'tl': 18, 'fic': 5, 'reglan': 44, 'shot': 19, 'coccyx': 160, 'spine': 195, 'wast': 100, 'invas': 330, 'lansoprazol': 51, 'contribut': 117, 'deveop': 2, 'glucos': 370, 'withdrawn': 49, 'ing': 32, 'cash': 262, 'kg': 385, 'cel': 1, 'particularli': 112, 'vanc': 205, 'musculoskelet': 124, 'dysfunct': 132, 'valuabl': 267, 'prescrib': 22, 'ft': 62, 'zonisamid': 3, 'meld': 4, 'provision': 192, 'disord': 77, 'metoprolol': 166, 'dm': 145, 'dentit': 74, 'pnuemonia': 19, 'finger': 239, 'attent': 242, 'configur': 63, 'card': 290, 'aplmar': 1, 'rhonci': 28, 'fibersourc': 33, 'candid': 56, 'confus': 213, 'tsh': 45, 'exacerb': 140, 'titl': 189, 'erythema': 74, 'reorient': 113, 'topomax': 1, 'wallet': 256, 'tremor': 39, 'mmhg': 353, 'rml': 86, 'conjunctiva': 191, 'asciti': 7, 'credit': 262, 'heel': 73, 'versiva': 1, 'cardiovascular': 251, 'hn': 32, 'lantu': 35, 'membran': 36, 'stage': 161, 'vital': 374, 'glycem': 306, 'transplant': 31, 'distort': 13, 'cyu': 30, 'jmgw': 16, 'streaki': 14, 'airway': 310, '}': 313, 'decubitu': 74, 'cr': 364, 'rifamixin': 1, 'rope': 2, 'moan': 31, 'keppra': 15, 'lactulo': 1, 'tcurrent': 303, 'creatinin': 324, 'nad': 164, 'lymphat': 112, 'recogn': 17, 'dz': 35, 'temperatur': 302, 'cloth': 277, 'hypothyroid': 59, 'debil': 6, 'satur': 330, 'asp': 90, 'chlorid': 293, 'aqua': 2, 'hematocrit': 297, 'resid': 345, 'ckmb': 177, 'cirrhosi': 44, 'chief': 310, 'ag': 58, 'pertin': 298, 'normocephal': 206, 'radiolog': 352, 'throat': 267, 'encephalopath': 8, 'jpg': 304, 'diabet': 147, 'lnp': 36, 'tropt': 141, 'money': 264, 'demograph': 294, 'dsd': 77, 'neurolog': 302, 'ppi': 222, 'lft': 106, 'qh': 61, 'clonu': 8, 'stick': 260, 'asterixi': 9, 'vap': 318, 'pfi': 199, 'sulbactam': 13, 'ammonia': 9, 'action': 328, 'hypernatrem': 22, 'jewelri': 262, 'stimata': 1, 'ul': 304, 'deplet': 46, 'beat': 158, 'chem': 29, 'diffucult': 2, 'wound': 133, 'record': 235, 'superif': 2, 'unasyn': 15, \"desat'\": 2, 'presum': 153, 'equivoc': 17, 'ampicillin': 32, 'nash': 5, 'dl': 353, 'engorg': 91, 'hypernatremia': 67, 'infrahilar': 25, 'fa': 51, 'prevacid': 43, 'levothyroxin': 44, 'quadrant': 128, 'bnp': 69, 'cake': 2, 'physic': 348, '{': 315, 'signatur': 266, 'score': 23, 'ivc': 98, 'list': 90, 'black': 38, 'anticonvuls': 3, 'wed': 112, 'contiu': 10, 'vest': 6, 'axi': 189, 'modest': 49, 'bisacodyl': 42, 'droplet': 96, 'particip': 71, 'scream': 7, 'disorient': 12, 'adm': 126, 'reinsert': 28, 'rbbb': 18, 'hs': 117, 'comb': 36, 'unrestrain': 13, 'shout': 7, 'age': 141, 'pharyng': 85, 'effac': 13, 'complex': 90, 'audibl': 82, 'levofloxacin': 227, 'benign': 113, 'docus': 57, 'interim': 112, 'lll': 266, 'rebook': 1, 'part': 148, 'safe': 80, 'fissur': 66, 'type': 251, 'bedpan': 46, 'rale': 130, 'dnr': 172, 'uncoop': 22, 'primari': 142, 'redistribut': 46, \"dc'ed\": 6, 'zyprexa': 59, 'nasopharyng': 9, 'mistaken': 3, 'agre': 321, 'aspirin': 95, 'lovenox': 23, 'guiac': 115, 'ischemia': 164, 'contin': 42, 'reinforc': 36, 'ntg': 43, 'syst': 18, 'craze': 1, 'cardiolog': 58, 'live': 189, 'enzym': 114, 'influenza': 118, 'dementia': 96, 'fsbg': 34, 'sitter': 36, 'repolar': 56, 'qid': 133, 'wet': 338, 'ich': 19, 'thight': 3, 'bundl': 121, 'digoxin': 49, 'compazin': 21, 'aerosol': 127, 'recoveri': 62, 'pleasantli': 15, 'atrophi': 41, 'supplement': 178, 'crit': 33, 'ew': 85, 'behavior': 43, 'somnol': 106, 'slower': 90, 'isosorbid': 10, 'posi': 1, 'conges': 1, 'must': 46, 'flu': 109, 'nitro': 37, 'sputem': 7, 'agreeabl': 14, 'adl': 56, 'redirect': 37, 'deviat': 124, 'demand': 75, 'environ': 61, 'diuret': 66, 'nstemi': 30, 'apprehens': 5, 'climb': 64, 'observ': 157, 'adendum': 3, 'rule': 234, 'plavix': 29, 'firmli': 10, 'kcld': 3, 'cistern': 23, 'loud': 72, 'cll': 10, 'mean': 59, 'focu': 106, 'bacteria': 42, 'bilatter': 1, 'bronch': 140, 'ooz': 65, 'hemolyt': 6, 'alveolar': 84, 'die': 51, 'pathogen': 37, 'tortuou': 60, 'accompani': 75, 'grew': 43, 'unknown': 197, 'compon': 187, 'document': 119, 'xeroform': 3, 'dni': 145, 'readdress': 31, 'lucenc': 43, 'wrap': 23, 'wednesday': 20, 'platlet': 4, 'recal': 20, 'broad': 131, 'shin': 23, 'cavit': 26, 'autoimmun': 10, 'reflect': 220, 'abroad': 1, 'superfici': 108, 'hyothyroid': 1, 'indistinct': 44, 'pmd': 5, 'help': 256, 'asymmetr': 83, \"con't\": 5, 'kling': 3, 'pc': 21, 'mult': 50, 'pressor': 135, 'cmx': 11, 'cpnt': 1, 'hypoact': 112, 'gelfoam': 3, 'cellul': 25, 'hilum': 40, 'ivabx': 10, 'ahf': 1, 'spectrum': 83, 'adjac': 145, 'por': 2, 'gauz': 34, 'multilobar': 35, 'thirst': 21, 'smicu': 10, 'amphotericin': 2, 'heard': 63, 'declin': 100, 'tacypn': 10, 'focal': 416, 'decid': 109, 'epilepticu': 8, 'hemodialysi': 36, 'uremia': 9, 'kayexal': 14, 'proper': 52, 'standard': 210, 'lithium': 4, 'meantim': 12, 'critic': 219, 'wax': 55, 'paramet': 90, 'levaquin': 126, 'health': 113, 'consequ': 17, 'unclear': 243, 'di': 23, 'tox': 19, 'dialysi': 97, 'rapid': 189, 'cri': 57, 'infrequ': 22, 'thrust': 2, 'conserv': 20, 'dextros': 39, 'doubt': 49, 'sq': 223, 'fh': 201, 'univers': 12, 'proxi': 89, 'hcp': 128, 'labatelol': 4, 'life': 27, 'neut': 172, 'calcium': 157, 'genitourinari': 94, 'hyperpotassemia': 4, 'ensu': 2, 'gm': 155, 'key': 287, 'serum': 84, 'insipidu': 6, 'input': 93, 'wish': 85, 'fatigu': 172, 'certainli': 36, 'murmur': 212, 'caudat': 10, 'complianc': 80, 'hosp': 35, 'sz': 26, 'medicaid': 13, 'happen': 44, 'retch': 2, 'multidisciplinari': 37, 'stone': 82, 'esrd': 48, 'horn': 4, 'delirium': 95, 'saw': 280, 'wit': 61, 'caus': 266, 'sluggish': 31, 'dislodg': 13, 'malign': 139, 'lactat': 160, 'interdisciplinari': 89, 'correct': 99, 'insur': 32, 'amp': 60, 'dme': 15, 'eo': 175, 'constitut': 121, 'ventriculomegali': 3, 'dialys': 6, 'nail': 20, 'noxiou': 44, 'linisipril': 1, 'hyperkalemia': 31, 'neurolept': 3, 'experienc': 69, 'wgt': 104, 'hemoconcentr': 9, 'emerg': 81, 'sh': 200, 'emesi': 89, 'differenti': 275, 'crisi': 11, 'miss': 48, 'psychiatr': 89, 'labetalol': 16, 'mono': 173, 'wane': 36, 'zofran': 38, 'withdraw': 127, 'uf': 176, 'copi': 77, 'pngt': 7, 'session': 21, 'dilantin': 20, 'neuron': 15, 'labetolol': 15, 'walker': 26, 'stim': 45, 'viral': 119, 'wretch': 3, 'conjunctiv': 54, 'cardiopulmonari': 39, 'resuscit': 95, 'lacun': 6, 'noth': 51, 'proport': 7, 'glucon': 37, 'sugar': 164, 'yaunker': 11, 'evolut': 34, 'ue': 103, 'medicar': 10, 'dialyz': 14, 'senior': 9, 'schizophrenia': 15, 'reson': 90, 'jvp': 77, 'suspect': 171, 'percuss': 117, 'encephalopathi': 56, 'inch': 222, 'vision': 59, 'hpi': 255, 'bring': 88, 'admin': 52, 'kayexel': 6, 'thought': 143, 'antihypertens': 62, 'bipolar': 20, 'penicillin': 53, 'withdrew': 9, 'deliri': 58, 'nahco': 9, 'mwf': 4, 'spent': 275, 'blurri': 47, 'paranoia': 5, 'tempor': 27, 'incomprehens': 17, 'hard': 137, 'leukoencephalopathi': 3, 'referr': 69, 'obtund': 16, 'tongu': 73, 'alkalot': 9, 'nourish': 150, 'sublux': 9, 'mottl': 12, 'prevertebr': 10, 'somewhatdil': 1, 'prevascular': 35, 'coumadin': 139, 'cpk': 31, 'afib': 203, 'ugi': 8, 'lymphadenopathi': 198, 'revis': 41, 'summari': 84, 'anteriorli': 96, 'oliguria': 18, 'lesser': 38, 'mail': 5, 'micua': 2, 'dens': 125, 'incomplet': 86, 'fluidfil': 1, 'irregular': 100, 'atroph': 26, 'granuloma': 30, 'mb': 36, 'nodul': 158, 'groundglass': 2, 'hiatal': 44, 'lowermost': 2, 'workup': 60, 'arthrit': 12, 'infraren': 23, 'shingl': 6, 'esophagu': 92, 'third': 66, 'align': 34, 'hernia': 91, 'coronari': 209, 'aneurysm': 69, 'fractur': 177, 'pretrach': 18, 'trauma': 64, 'bronchovascular': 16, 'endobronchi': 24, 'salt': 7, 'unenhanc': 14, 'swell': 132, 'lumbar': 85, 'boni': 83, 'em': 32, 'vertebr': 85, 'cleans': 49, 'keyboard': 1, 'dic': 21, 'prob': 31, 'colect': 2, 'shigft': 1, 'ketpad': 1, 'electr': 8, 'paco': 17, 'unlabor': 64, 'reciv': 15, 'houseoffic': 13, 'secrtion': 2, 'necessit': 13, 'nkda': 57, 'husband': 73, 'peroid': 2, 'tic': 1, 'sy': 65, 'centimet': 18, 'appropriat': 2, 'ar': 202, 'alerr': 1, 'irreg': 30, 'mionitor': 1, 'stagei': 1, 'lopresssor': 2, 'arrythmia': 19, 'stabliz': 8, 'inferolater': 55, 'fibb': 1, 'peripheri': 33, 'hypotenns': 1, 'telephon': 117, 'incision': 23, 'matress': 6, 'rrt': 59, 'fresh': 4, 'qnd': 1, 'push': 63, 'shake': 72, 'screan': 1, 'spell': 18, 'nede': 3, 'ti': 7, 'broke': 19, 'rehabilit': 42, 'expel': 7, 'balans': 1, 'apneaic': 2, 'disress': 4, 'reat': 1, 'raf': 23, 'convert': 96, 'reacur': 1, 'tp': 26, 'pacu': 6, 'comand': 9, 'pericard': 20, 'uncontrol': 14, 'might': 119, 'pco': 120, 'perla': 36, 'distent': 79, \"rec'\": 20, 'simul': 3, 'typer': 1, 'novasourc': 16, 'ii': 115, 'aflutt': 26, 'gel': 27, 'eti': 1, 'sludg': 28, 'af': 123, 'produc': 85, 'copd': 210, 'fibrosi': 58, 'whiteish': 2, 'advers': 22, 'dietwith': 1, 'becasu': 3, 'administ': 287, 'wnr': 9, 'vdg': 3, 'quietli': 20, 'lograd': 1, 'sev': 9, 'wiggl': 37, 'funer': 2, 'repair': 67, 'stood': 21, 'shock': 128, 'dininish': 1, 'stronger': 42, 'er': 95, 'lethargi': 54, 'az': 2, 'etoh': 71, 'glaucoma': 13, 'kiss': 2, 'scopolamin': 13, 'gown': 14, 'addedum': 2, 'children': 55, 'abil': 75, 'springhous': 1, 'demetia': 4, 'tm': 105, 'sw': 71, 'sux': 19, 'occaision': 12, 'interact': 110, 'big': 16, 'took': 90, 'creat': 170, 'gram': 187, 'piec': 20, 'step': 81, 'worker': 52, 'coag': 90, 'daycar': 3, 'ny': 3, 'fx': 58, 'psoriasi': 6, 'remot': 40, 'ankl': 61, 'concentr': 54, 'everyth': 24, 'lih': 1, 'hoh': 27, 'pager': 73, 'biliou': 48, 'discolor': 12, 'inc': 134, 'consensu': 5, 'boarder': 6, 'psh': 11, 'smoke': 57, 'sao': 103, 'gout': 27, 'nqwmi': 3, 'alzheim': 35, 'cocci': 45, 'nonprod': 11, 'asa': 137, 'bruis': 49, 'privat': 13, 'tsicu': 9, 'phebotomi': 1, 'lipitor': 23, 'pneumoboot': 69, 'strongli': 29, 'rncm': 1, 'intermittantli': 13, 'nondistend': 32, 'urolog': 22, 'ness': 4, 'prostrat': 2, 'metacarp': 5, 'hire': 3, 'swab': 100, 'memori': 30, 'disloc': 30, 'hypothroid': 3, 'unbroken': 12, 'levodopa': 2, 'inturb': 1, 'backrub': 6, 'yell': 43, 'pneumaonia': 1, 'visabl': 4, 'glu': 17, 'phx': 1, 'mhr': 6, 'occa': 91, 'uncompems': 1, 'toprol': 11, \"have't\": 1, 'mur': 8, 'familyinform': 1, 'fail': 152, 'nimv': 6, 'iter': 2, 'constip': 130, 'carbidopa': 3, 'unsuccess': 81, 'dccv': 3, 'xl': 16, 'gasi': 1, 'stooll': 1, 'parkinson': 24, 'blanch': 14, 'sudden': 34, 'keeppt': 1, 'stting': 1, 'slt': 5, 'revers': 48, 'metabol': 122, 'yof': 24, 'carbadopa': 1, 'cardiovert': 4, 'geriatr': 9, 'rrl': 2, 'maalox': 7, 'lotion': 44, 'nearbi': 10, 'regularli': 27, 'standbi': 48, 'eaten': 9, 'profound': 20, 'ccu': 73, 'rememb': 23, 'succ': 12, 'fu': 13, 'pmhx': 63, 'physician': 315, 'neo': 41, 'pressurea': 1, 'audilb': 1, 'methylprednisolon': 22, 'easier': 18, 'fleet': 18, 'bid': 89, 'hob': 164, 'remian': 28, 'humid': 13, 'prevent': 97, 'plu': 54, 'fullcod': 2, '$': 12, 'serev': 3, 'exac': 8, 'blew': 2, 'fm': 69, 'distribut': 99, 'loosen': 26, 'inatact': 2, 'retain': 46, 'fem': 37, 'contniu': 1, 'inflamm': 58, 'ex': 46, 'solumedrol': 70, 'thoracentesi': 88, 'scd': 12, 'scoop': 4, 'stab': 6, 'aim': 43, 'disc': 45, 'wheezi': 56, 'hyperoxygen': 3, 'enema': 30, 'transfuss': 2, 'creami': 19, 'previuo': 2, 'kepft': 1, 'niec': 21, 'contiun': 2, 'commenc': 20, 'hub': 4, 'assesss': 3, 'nebuils': 1, 'clearer': 37, 'yest': 69, 'caregiv': 23, 'giver': 6, 'nebulis': 1, 'tomorro': 1, 'pule': 3, 'add': 219, 'clairifi': 1, 'neic': 13, 'mainta': 13, 'pure': 85, 'stroke': 78, 'sp': 88, 'stope': 4, 'insitu': 11, 'humidifi': 77, 'visist': 4, 'rhonchu': 10, 'brought': 129, 'lopress': 5, 'statement': 9, 'midnoc': 30, 'continiu': 1, 'tighter': 7, 'daibet': 1, 'glargin': 38, 'paroxysm': 15, 'term': 160, 'prong': 21, 'combiv': 48, 'partak': 1, 'thisd': 1, 'diltiazem': 77, 'looser': 5, 'blow': 7, 'resassur': 3, 'rub': 157, 'soap': 21, 'strengthen': 13, 'assest': 1, 'never': 49, 'senna': 94, 'osm': 20, 'unarous': 4, 'vit': 50, 'resourc': 7, 'reattempt': 12, 'sfa': 8, 'tightli': 4, 'cor': 14, 'aerob': 45, 'omit': 6, 'mattress': 37, 'bedcloth': 1, 'ass': 26, 'bacteremia': 70, 'awit': 2, 'anaerob': 19, 'relaps': 8, 'exsuffl': 7, 'tire': 82, 'grow': 60, 'arrang': 32, 'plateau': 78, 'stretch': 10, 'mucou': 103, 'durat': 69, 'barrier': 135, 'andthat': 1, 'torulopsi': 1, 'transit': 207, 'hypodens': 91, 'lax': 17, 'frighten': 5, 'comfrot': 1, 'palli': 31, 'cefepim': 107, 'planner': 4, 'passi': 29, 'conduct': 88, 'spuriou': 3, 'understood': 12, 'statin': 75, 'ddx': 55, 'alt': 179, 'necrosi': 20, 'frame': 34, 'bradycard': 38, 'leukocytpsi': 1, 'micro': 101, 'vre': 36, 'bicarb': 53, 'typeii': 1, 'hypercholesterolemia': 34, 'vitamin': 59, 'protect': 258, 'background': 33, 'lean': 20, 'currrent': 5, 'fluoro': 90, 'retract': 35, 'cmp': 3, 'cachet': 9, 'featur': 22, 'hyperventil': 14, 'reinflat': 5, 'oxid': 14, 'iu': 151, 'magnesium': 150, 'veget': 57, 'discontinu': 139, 'mycobacteria': 3, 'prot': 10, 'clench': 5, 'finesh': 1, 'lawyer': 7, 'wk': 58, 'dip': 49, 'funal': 1, 'qdaili': 5, 'ctab': 39, 'whi': 61, 'ampul': 1, 'rout': 93, 'meur': 1, 'photic': 1, '^th': 23, 'ventiatori': 1, 'distanc': 53, 'reoccur': 5, 'ntnd': 33, 'handl': 23, 'assoc': 28, 'anterioli': 1, 'protein': 108, 'hae': 2, 'rg': 3, 'patiet': 2, 'medivis': 5, 'attni': 1, 'resussit': 7, 'pip': 139, 'obstacl': 6, 'dysynchronu': 1, 'drsg': 41, 'tc': 64, 'delerium': 24, 'qod': 21, 'pursu': 51, 'troubleshoot': 2, 'physcial': 1, 'opthalm': 1, 'therapuet': 6, 'irregularli': 21, 'usag': 11, 'deciph': 2, 'fungal': 82, 'depart': 37, 'unfortun': 29, 'particp': 1, 'toelrat': 4, 'metavis': 34, 'zosyn': 185, 'unspecifi': 4, 'bradycardia': 104, 'month': 144, 'breakthrough': 30, 'transthorac': 33, 'mmol': 214, 'aero': 1, 'olanazipin': 1, 'ineffect': 48, 'ntinu': 2, 'manufactur': 70, 'failri': 1, 'hemithorax': 114, 'postur': 47, 'motor': 77, 'puddl': 1, 'autoflow': 47, 'snd': 28, 'iss': 71, 'deliriu': 3, 'ointment': 41, 'grimacc': 1, 'nchct': 6, 'knee': 81, 'klesiella': 1, 'role': 48, 'bue': 31, 'tracheal': 73, 'rod': 53, 'grimic': 1, 'transffer': 8, 'errat': 17, 'inspiratori': 80, 'rwma': 2, 'quieter': 4, 'bacilli': 3, 'garbl': 25, 'anticoagul': 128, \"trach'd\": 3, 'diurees': 1, 'confer': 11, 'compani': 12, 'exhaust': 14, 'ventilatori': 150, 'ncat': 18, 'weekli': 15, 'educ': 63, 'obtian': 1, 'discusss': 2, 'lactic': 220, 'cg': 42, 'rta': 5, 'reconsult': 28, 'author': 16, 'klebsiella': 18, 'micropunctur': 66, 'permit': 14, 'emotiion': 1, 'tobramycin': 20, 'custom': 2, 'frusemid': 3, 'sqh': 33, 'mov': 2, 'aecret': 1, 'airmov': 3, 'interm': 9, 'est': 15, 'mgt': 21, 'alound': 1, 'unlik': 120, 'pan': 93, 'zantac': 12, 'grab': 12, 'ausc': 9, 'hygein': 17, 'synergi': 2, 'uti': 106, 'csb': 1, 'thurday': 1, 'atelectat': 74, 'postpon': 18, 'pneumo': 49, 'relev': 67, 'surgic': 173, 'tuesday': 33, 'versu': 138, 'wore': 13, 'club': 114, 'leuk': 15, 'ssri': 60, 'furosemid': 119, 'bili': 173, 'mellitu': 50, 'elexir': 1, 'jr': 9, 'constantli': 30, 'ofr': 3, 'occipit': 22, 'nl': 92, 'polio': 3, 'spot': 83, 'flight': 21, 'dull': 81, 'propot': 2, 'flexion': 23, 'holiday': 7, 'deepli': 10, 'messag': 19, 'resusit': 11, 'nitric': 7, 'nard': 31, 'deir': 1, 'commmand': 1, 'fungemia': 3, 'bg': 40, 'derecruit': 4, 'press': 94, 'entercocc': 1, 'annual': 1, 'legionella': 129, 'financi': 7, 'contro': 1, 'across': 41, 'kinair': 38, 'occai': 2, 'uub': 1, 'amylas': 71, 'skill': 23, 'pay': 11, 'mic': 41, 'ceas': 6, 'feeed': 1, 'vehicl': 4, 'dwindl': 5, 'vasopressor': 22, 'tpa': 22, 'trimethoprim': 25, 'ecchymos': 31, 'pedn': 3, 'truli': 12, 'sqi': 15, 'contain': 102, 'rpe': 40, 'sate': 74, 'cardiologist': 14, 'intraventricular': 45, 'erect': 65, 'correctli': 14, 'galabrata': 1, 'lipas': 73, 'import': 48, 'redrawn': 8, 'occup': 90, 'intoler': 85, 'ant': 31, 'bypass': 19, 'heo': 1, 'contractur': 15, 'outcom': 15, 'file': 14, 'compromis': 44, 'dehydr': 52, 'bacteri': 145, 'empir': 119, 'meaning': 4, 'flora': 37, 'albumin': 144, 'organ': 171, 'loc': 21, 'lot': 65, 'afb': 29, 'ensur': 85, 'morpholog': 37, 'carbon': 23, 'oint': 10, 'front': 18, 'suppli': 13, 'carb': 7, 'oropharyng': 105, 'salin': 92, 'elig': 3, 'kinear': 3, 'misinform': 1, 'caco': 4, 'overwelm': 1, 'crust': 9, 'mumbl': 17, 'spous': 15, 'vavl': 1, 'assur': 17, 'decondit': 45, 'sensitivit': 4, 'fibrinogen': 35, 'glabrata': 1, 'resumpt': 9, 'soil': 5, 'gentamicin': 17, 'hgb': 88, 'subglott': 16, 'learn': 7, 'uncompl': 67, 'mirtazapin': 8, 'rhonchrou': 5, 'lscta': 16, 'sick': 35, 'alk': 181, 'growth': 91, 'scab': 27, 'fee': 19, 'fascil': 1, 'mrg': 26, 'way': 86, '|': 12, 'repac': 1, 'etc': 106, 'atherosclerot': 97, 'train': 35, 'fungu': 9, 'outupt': 1, 'outlin': 115, 'syndrom': 105, 'ryhtym': 1, 'destin': 74, 'chlorhex': 6, 'icd': 51, 'pgt': 5, 'indemn': 1, 'gentl': 74, 'pct': 5, 'phosphoru': 105, 'payer': 3, 'reconnect': 2, 'toxic': 54, 'exhal': 32, 'involut': 8, 'failr': 1, 'macu': 28, 'tear': 94, 'tomm': 10, 'saturday': 18, 'origin': 143, 'decompens': 90, 'cavern': 16, 'hope': 112, 'ontcool': 1, 'cancel': 34, 'bottl': 59, 'masshealth': 6, 'reeval': 13, 'synthroid': 24, 'bare': 35, 'coordin': 47, 'hep': 139, 'kub': 49, 'apart': 29, 'supoprt': 2, 'mycolyt': 2, 'grasp': 27, 'ceftazidim': 26, 'glenohumer': 13, 'ldh': 153, 'lebsiella': 1, 'approv': 59, 'vesta': 44, 'gen': 138, 'carotid': 57, 'compet': 11, 'debilit': 5, 'dilig': 2, 'shallowli': 2, 'cult': 21, 'claim': 69, 'postiv': 14, 'thiamin': 17, 'bud': 16, 'dimer': 18, 'reluct': 11, 'bmi': 69, 'staph': 51, 'rpr': 15, 'con': 48, 'presumpt': 19, 'calcul': 35, 'comprehens': 9, 'sulfamethoxazol': 13, 'lasic': 4, 'whenev': 17, 'olanzapin': 27, 'snx': 13, 'bilirubin': 61, 'vreand': 1, 'ime': 1, 'dysynchroni': 76, 'vocal': 69, 'chg': 21, 'ast': 167, 'mngt': 4, 'myocard': 8, 'valvl': 1, 'mri': 118, 'infxn': 24, 'mouthcar': 12, 'heent': 169, 'pmn': 48, 'chlorthiazid': 1, 'shallow': 50, 'vb': 3, 'yeast': 83, 'equip': 23, 'phonat': 8, 'program': 41, 'typic': 42, 'kcal': 81, 'ciprofloxacin': 60, 'cefazolin': 16, 'joint': 115, 'obvious': 17, 'ace': 68, 'sunday': 23, 'cognit': 73, 'nab': 35, 'cyanosi': 130, 'sternal': 63, 'op': 105, 'backup': 7, 'buit': 1, 'malnutrit': 50, 'muir': 33, 'speciat': 35, 'lul': 153, 'painm': 2, 'enterococca': 1, 'toeveri': 1, 'ongo': 130, 'septicemia': 5, 'wihtout': 5, 'perfom': 3, 'interview': 9, 'sir': 37, 'svr': 10, 'gum': 5, 'emphas': 104, 'investig': 20, 'ionli': 1, 'knowledg': 21, 'undetermin': 25, 'blocker': 131, 'rtc': 22, 'phosphat': 65, 'bu': 15, 'plantar': 8, 'inabl': 89, 'sulfa': 30, 'natur': 56, 'radiu': 10, 'toliet': 13, 'attach': 18, 'piperacillin': 106, 'weekend': 58, 'mgmt': 24, 'waveform': 101, 'paralyz': 81, 'bac': 9, 'ventilatiori': 1, 'acheiv': 7, 'challeng': 38, 'hip': 87, 'identif': 12, 'qday': 22, 'simvastatin': 44, '^nd': 36, 'ppx': 115, 'gasp': 7, 'ppm': 23, 'asses': 21, 'anxiolyt': 12, 'repleat': 74, 'enoxaparin': 7, 'establish': 57, 'speci': 10, 'lmw': 9, 'cytokin': 1, 'stain': 111, 'frog': 2, 'extr': 32, 'apprec': 6, 'aggit': 48, 'winc': 12, 'frm': 2, 'intracran': 1, 'diinish': 1, 'fi': 66, 'apnvol': 4, 'ideal': 127, 'merepenem': 8, 'reattach': 2, 'unimprov': 4, 'ami': 11, 'thursday': 27, 'futur': 88, 'siani': 1, 'gnr': 69, 'esp': 45, 'stemi': 17, 'fast': 47, 'straighten': 5, 'enterrococcu': 1, 'flexor': 5, 'caspo': 3, 'tap': 81, 'ocular': 4, 'folat': 41, 'linezolid': 33, 'diaper': 18, 'oo': 4, 'finish': 77, 'interest': 28, 'reappli': 33, 'passey': 16, 'reschedul': 9, 'count': 156, 'hoyer': 6, 'supra': 11, 'unassist': 29, 'probe': 29, 'fold': 35, 'goe': 42, 'toothbrush': 1, 'epitheli': 34, 'mom': 27, 'among': 4, 'guard': 89, 'recurr': 162, 'inservic': 1, 'suctiong': 2, 'improvemt': 1, 'ard': 145, 'dicharg': 2, 'nebul': 73, 'anticoag': 12, 'polypharmaci': 4, 'tco': 194, 'llax': 1, 'optho': 1, 'cluster': 40, 'straight': 25, 'tell': 38, 'coccu': 2, \"'no\": 2, 'inward': 3, 'deduct': 2, 'realist': 4, 'bal': 84, 'wo': 19, 'laundri': 1, 'poss': 55, 'stair': 44, 'render': 14, 'ucx': 60, 'anion': 18, 'vitb': 1, 'friend': 73, 'cbc': 52, 'consectut': 1, 'epileptiform': 4, 'subacut': 15, 'locomot': 31, 'hz': 5, 'incident': 44, 'rsb': 2, 'bc': 83, 'cachect': 21, 'injuri': 96, 'resist': 87, 'antifung': 42, 'sharp': 45, 'alittl': 9, 'cloud': 3, 'inflict': 1, 'polici': 7, 'ltac': 15, 'atc': 54, 'calc': 62, 'ioniz': 114, 'clarifi': 54, 'ween': 8, 'myco': 3, 'resit': 20, 'deflat': 36, 'acknowledg': 22, 'cataract': 35, 'mrsa': 152, 'uroin': 1, 'substanti': 145, 'benefit': 141, 'zocor': 13, 'hello': 2, 'diastol': 173, 'jaundic': 83, 'encourgag': 3, 'submit': 37, 'alkalin': 60, 'ophtho': 1, 'integumentari': 91, 'multifactori': 49, 'ranitidin': 23, 'variou': 55, 'caspofungin': 6, 'teeth': 118, 'clarif': 49, 'nr': 12, 'specieat': 1, 'dig': 40, 'tubular': 12, 'inquir': 10, 'chlorhexidin': 29, 'pvd': 45, 'spend': 11, 'disturb': 19, 'esbl': 17, 'tazo': 24, 'prepar': 79, 'notabl': 165, 'peridex': 16, 'narr': 28, 'pl': 105, 'disorgan': 2, 'sensori': 37, 'kleb': 9, 'hctz': 16, 'papillari': 44, 'heliox': 5, 'stiumuat': 1, 'ophthalm': 5, 'aureu': 22, 'variat': 31, 'till': 54, \"c'd\": 22, 'encephalomalacia': 8, 'diffacult': 1, 'throw': 9, 'worri': 12, 'activit': 3, 'uncomprehend': 1, 'closs': 2, 'involvemt': 1, 'layer': 110, 'djd': 9, 'synchron': 65, \"yesterday'\": 4, 'gic': 1, 'ngtd': 82, 'pleth': 12, 'coloni': 11, 'common': 139, 'mycobacterium': 4, 'inplac': 25, 'asse': 1, 'acei': 26, 'vna': 16, 'liaison': 6, 'rrr': 156, 'supposedli': 2, 'recur': 27, 'nitrat': 11, 'maximum': 26, 'fluctuat': 57, 'cbi': 7, 'ethic': 7, 'alo': 55, 'myopathi': 11, 'voluntarili': 3, 'compent': 1, 'enterococcu': 19, 'succeed': 5, 'cefuroxim': 4, 'told': 62, 'hospic': 22, 'microbiolog': 154, 'leukocytosi': 169, 'figiti': 2, 'nonsens': 12, 'sequela': 28, 'writer': 8, 'gip': 1, 'eeg': 31, 'ventriculoperiton': 3, 'vp': 12, 'retinopathi': 8, 'narcan': 14, 'cov': 11, 'undergo': 33, 'mvt': 5, 'pericholecyst': 22, 'protonix': 109, 'peri': 67, 'relay': 12, 'reidual': 1, 'resolut': 184, 'iddm': 20, 'descend': 76, 'suit': 51, 'vpshunt': 1, 'couldnt': 1, 'mcq': 28, 'anplatz': 1, 'comf': 11, 'regain': 16, 'hematoma': 87, 'zoloft': 14, 'subcutan': 122, 'intra': 130, 'temporarili': 14, 'trough': 91, 'foerarm': 1, 'mrsh': 1, 'dollar': 3, 'ulnar': 8, 'albut': 6, 'isodens': 5, 'perinephr': 15, 'captoril': 2, 'pluggi': 12, 'paramedian': 7, 'wedg': 26, 'pearl': 56, 'cephalad': 5, 'introduc': 48, 'offset': 5, 'larm': 2, 'tracheobronch': 6, 'hypo': 58, 'reproduc': 4, 'amelior': 2, 'dup': 15, 'hypoglycemia': 29, 'fwb': 19, 'presuur': 1, 'splenic': 38, 'secreat': 60, 'affirm': 6, 'effct': 3, 'ostomi': 21, 'format': 65, 'trietz': 1, 'periton': 25, 'nare': 44, 'ascit': 86, 'cultu': 2, 'disp': 5, 'conspicu': 14, 'pap': 33, 'stockinett': 1, 'fdg': 29, 'trumpet': 13, 'ruq': 51, 'radiopaqu': 14, 'succinycholin': 1, 'sump': 7, 'excori': 46, 'fingerstick': 72, 'inter': 3, 'scar': 85, 'bottuck': 1, 'tracheobronc': 1, 'kump': 10, 'pcn': 28, 'trim': 17, 'triphas': 5, 'captropril': 4, 'trachealbronch': 1, 'pancreat': 61, 'caudad': 2, 'bottom': 28, 'profoundli': 10, 'gastroparesi': 8, 'ped': 2, 'erythemat': 32, 'duct': 70, 'shoot': 9, 'cohlecyst': 1, 'strenght': 7, 'chole': 6, 'recaptur': 2, 'intrapelv': 8, 'shunt': 33, 'dyspepsia': 3, 'viscou': 14, 'levoquin': 71, 'motil': 16, 'fsb': 61, 'pylor': 32, 'yerterday': 1, 'retroperiton': 74, 'dssg': 12, 'cvl': 114, 'gyral': 1, 'careweb': 13, 'nasotrach': 19, 'technologist': 2, 'convex': 14, 'swang': 1, 'rim': 16, 'intraperiton': 31, 'strenghth': 1, 'occl': 1, 'unifoc': 5, 'swan': 20, 'fundu': 20, 'mesenter': 70, 'breat': 5, 'flumazenil': 2, 'usus': 1, \"nts'ing\": 3, 'pharynx': 30, 'beyond': 58, 'multipodi': 11, 'vasc': 5, 'comp': 6, 'wil': 5, 'dilut': 41, 'definit': 207, 'ptx': 112, 'nephrogram': 4, 'fluro': 5, 'acalc': 3, 'pit': 80, 'manipul': 31, 'throught': 12, 'women': 13, 'stv': 15, 'lasi': 2, 'etomid': 10, 'periph': 25, 'reddend': 2, 'yeasti': 8, 'wbcc': 2, 'hypernatrimia': 1, 'diverticul': 36, 'asymmmetr': 1, 'unsuit': 3, 'dibilit': 1, 'inconsistanti': 1, 'zero': 13, 'ud': 16, 'lcontinu': 1, 'gaol': 3, 'disent': 1, 'captopril': 56, 'contanct': 1, 'coupl': 65, 'territori': 45, 'mucoid': 24, 'intrabdomin': 5, 'duski': 12, 'uncahng': 1, 'wir': 1, 'elixir': 9, 'lp': 39, 'rescreen': 6, 'hypoxemia': 159, 'waffl': 23, 'preexist': 9, 'superstiff': 2, 'ful': 5, 'resudu': 2, 'pigtail': 36, 'palpat': 107, 'hourli': 52, 'weakli': 34, 'ultrac': 8, 'artlin': 2, 'insuffl': 11, 'duodem': 1, 'slate': 2, 'perk': 1, 'choic': 32, 'ligament': 19, 'five': 33, 'appendix': 14, 'stare': 10, 'ventriculo': 1, 'nst': 9, 'subdur': 21, 'apsolut': 1, 'flexitract': 2, 'perinium': 1, 'hypopharyng': 3, 'quinin': 2, 'optim': 115, 'nph': 44, 'rult': 1, 'postpylor': 6, 'nn': 3, 'ganz': 17, 'lcode': 1, 'punctat': 17, 'groin': 77, 'facial': 65, 'travers': 16, 'toxin': 25, 'epitaxi': 2, 'gluocos': 1, 'chose': 2, 'cabl': 2, 'keflex': 9, 'unwil': 4, 'obl': 3, 'cuneiform': 1, 'clavicular': 13, 'eet': 1, 'rythm': 19, 'metatars': 3, 'magnevist': 35, 'numer': 73, 'gadolinium': 35, 'subacromi': 1, 'phenomenon': 10, 'signal': 48, 'nuclear': 6, 'necrot': 40, 'rusti': 12, 'intiat': 4, 'els': 16, 'stir': 8, 'subscapulari': 2, 'aberr': 9, 'neutral': 16, 'pneumoni': 4, 'beplac': 1, 'suspicion': 74, 'scratchi': 2, 'peerla': 6, 'flex': 28, 'bright': 26, 'gross': 75, 'osteomyel': 22, 'pox': 14, 'linear': 77, 'fiber': 82, 'arrous': 13, 'nois': 18, 'pneu': 2, 'diaphret': 1, 'extensor': 3, 'dulcolax': 36, 'fewer': 11, 'supp': 43, 'cchr': 8, 'withrr': 1, 'fli': 4, 'hem': 27, 'subcort': 24, 'airport': 1, 'mellow': 1, 'tarsal': 1, 'strep': 32, 'spontrr': 1, 'humer': 23, 'ble': 57, 'moderatli': 1, 'labrum': 1, 'osa': 48, 'articular': 6, 'cuboid': 1, 'sepi': 3, 'decub': 67, 'prof': 1, 'acromi': 1, 'disus': 1, 'extrasystol': 6, 'cardio': 54, 'nearli': 59, 'tommorrow': 18, 'hyperemia': 6, 'saliva': 5, 'moist': 52, 'posteriorli': 51, 'mgm': 30, 'plexopathi': 1, 'im': 24, 'tbb': 25, 'roughli': 15, 'attemp': 7, 'posterolater': 9, 'settign': 3, 'bicep': 6, 'dimens': 34, \"cx'ed\": 1, 'gage': 2, 'unusu': 30, 'massiv': 38, 'feasabl': 1, 'subdeltoid': 1, 'diaph': 2, 'bursa': 3, 'solid': 132, 'supraspinatu': 2, 'lordot': 5, 'tiolet': 4, 'unsucessful': 1, 'ltr': 5, 'recenli': 1, 'dorsum': 2, 'lightli': 71, 'pd': 14, 'pcxr': 12, 'quick': 26, 'plain': 29, 'fifth': 10, 'occn': 8, 'musculotendin': 1, 'marrow': 31, 'cmi': 3, 'pneum': 4, 'diminut': 7, 'deform': 50, 'medicin': 56, 'tea': 15, 'abscess': 119, 'pneumococc': 25, 'affebril': 1, 'fourth': 15, 'navicular': 4, 'uncertain': 38, 'conintu': 4, 'yearold': 1, 'six': 39, 'substanc': 12, 'infraspinatu': 2, 'urpc': 2, 'diprivan': 1, 'hematuria': 45, 'nibp': 44, 'klibesella': 1, 'vapor': 1, 'axox': 11, 'yeseterday': 1, 'basalar': 1, 'pole': 56, 'oreint': 5, 'personnel': 4, 'maint': 23, 'radiolgist': 1, 'exophyt': 13, 'periureter': 2, 'speach': 11, 'largest': 47, 'store': 11, 'printer': 1, 'uret': 25, 'smooth': 16, 'broken': 48, 'multidetector': 54, 'flood': 2, 'contnu': 3, 'atyp': 95, 'anusol': 2, 'cat': 23, 'pertrud': 1, 'doze': 42, 'hypoecho': 9, 'echogen': 56, 'vaopriz': 1, 'malfunct': 7, 'ctu': 1, 'inct': 2, 'coopert': 3, 'laser': 5, 'absc': 3, 'bay': 2, 'hemo\\x13rrhoid': 1, 'crystal': 6, 'urosepsi': 14, 'dentur': 48, 'ax': 90, 'jitteri': 4, 'tranport': 2, 'shakey': 2, 'hack': 5, 'constant': 62, 'explan': 44, 'irrit': 34, 'lobar': 45, 'bark': 2, 'forc': 25, 'ach': 22, 'pee': 7, 'diphoret': 1, 'bronchosast': 1, 'adedqu': 1, 'hygen': 10, 'misk': 1, 'headach': 104, 'otherwsi': 1, 'reevalu': 45, 'eupneic': 2, 'random': 36, 'median': 42, 'kilo': 2, 'trazodon': 22, 'followand': 1, 'cxray': 24, 'hose': 2, 'draig': 1, 'receievd': 2, 'fhp': 35, 'dangl': 16, 'unbutton': 1, 'fear': 15, 'unbrocken': 2, 'cadiac': 3, 'miur': 2, 'dt': 18, 'hr^': 2, 'sternotomi': 60, 'decannul': 8, 'electoly': 1, 'sympomat': 1, 'bedtim': 31, 'historian': 14, 'therapeud': 2, 'satu': 4, 'hypotherm': 20, 'metoprolo': 5, 'shedul': 3, 'mth': 4, 'prec': 21, 'strengh': 1, 'dermi': 2, 'wt': 59, 'hit': 35, 'packet': 21, 'snack': 9, 'bair': 14, 'tight': 49, 'inlet': 91, 'doublegard': 1, 'mgso': 17, 'receiev': 6, 'reserv': 20, 'rep': 14, 'hydrostat': 10, 'lle': 45, 'sig': 59, 'althought': 4, 'dischar': 1, 'triazidon': 1, 'remaian': 2, 'argatroban': 3, 'flash': 44, 'aplli': 7, 'lisinipril': 2, 'readjust': 11, 'psychosoci': 34, 'argantroban': 1, 'tansfer': 1, 'failer': 1, 'admiit': 2, 'react': 39, 'fam': 18, 'outli': 1, 'captipril': 2, 'cleaner': 10, 'ptmay': 1, 'hugger': 20, 'exaserb': 2, 'stem': 20, 'ced': 58, 'stagger': 5, 'appi': 14, 'hhtm': 1, 'stoma': 26, 'column': 6, 'incourag': 5, 'occas': 27, 'oxycodon': 90, 'upto': 20, 'pacer': 63, 'afebriel': 2, 'cefriaxon': 5, 'drplet': 1, 'draft': 2, 'azithromycin': 121, 'loperessor': 1, 'twitch': 9, 'atr': 62, 'shovel': 54, 'reappear': 4, 'elsewher': 15, 'phlegm': 18, 'yankor': 1, 'incent': 70, 'andw': 1, 'dev': 5, 'insuln': 2, 'woken': 14, 'deferves': 1, 'adher': 11, 'ddd': 10, 'fsg': 16, 'acidemia': 11, \"tx'ed\": 6, \"sx'ing\": 13, 'ut': 5, 'nepro': 13, 'inutb': 1, 'cloudi': 71, 'spiromet': 43, 'deposit': 11, 'calib': 99, 'cook': 6, 'ord': 1, 'unreason': 1, 'needi': 2, 'eri': 2, 'power': 28, 'outpu': 1, 'vnaco': 1, 'resecur': 2, 'fgd': 2, 'hypokalem': 1, 'disregard': 7, 'vpace': 9, 'choke': 38, 'wrong': 24, 'accur': 40, 'hemodynamci': 5, 'clavicl': 35, 'recehck': 1, 'wosen': 2, 'beextub': 1, 'througho': 1, 'tolert': 7, 'nerpo': 1, 'perman': 24, 'leftward': 46, 'coulf': 1, 'qt': 26, 'ota': 18, 'puffi': 5, 'strongh': 2, 'underw': 60, 'auto': 36, 'reinstiut': 1, 'bifurc': 20, 'openn': 1, 'steam': 5, 'miconazol': 35, 'psycho': 2, 'weepi': 12, 'hook': 6, 'temporari': 33, '^^frequent': 1, 'aquacel': 12, 'reexpans': 17, 'opressor': 1, 'additiona': 1, 'zyrexa': 2, 'serou': 54, 'cpr': 21, 'rewir': 2, 'presept': 6, 'cycl': 71, 'hydralazin': 63, 'sotalol': 3, 'bmx': 16, 'draingag': 2, 'ansarca': 2, 'mp': 20, 'carin': 11, 'epistaxi': 45, 'hiss': 49, 'bloood': 2, 'ic': 10, 'pearla': 1, 'whotish': 1, 'grand': 14, 'mon': 124, 'sluggishli': 5, 'languag': 88, 'rl': 13, 'wise': 8, 'dieuresi': 4, 'asymetr': 1, 'extrim': 19, 'applesauc': 57, 'ramp': 8, 'multipod': 6, 'antiobx': 1, 'succinylcholin': 5, 'agreement': 29, 'enjoy': 11, 'foe': 7, 'midnit': 17, 'autodiuresi': 18, 'circular': 3, 'copiu': 12, 'tibia': 6, 'toleat': 2, 'nonverb': 35, 'adapt': 21, '^bp': 5, 'dilt': 76, 'agent': 51, 'takennoff': 1, 'danger': 9, 'unlabour': 7, 'univ': 7, 'twenti': 11, 'iurs': 1, 'bilatar': 2, 'nailb': 14, 'perfit': 4, 'hypernatremai': 1, \"today'\": 14, 'florid': 1, 'pose': 4, 'nu': 7, 'probal': 37, 'favor': 43, 'weep': 31, 'adv': 21, 'zyprexia': 10, 'rational': 10, 'cop': 14, 'digit': 12, 'copmlet': 1, 'gotten': 16, 'euvolem': 48, 'bronchoscopi': 101, 'rigid': 34, 'seed': 4, 'shape': 28, 'recordsheparin': 1, 'bronchospasm': 27, 'lorazepam': 66, 'ofm': 13, 'neosynephrin': 10, 'eomi': 56, 'thrombocytosi': 11, 'rd': 48, 'context': 38, 'decadron': 16, 'guaifenesin': 23, 'chin': 38, 'closur': 34, 'supraglott': 2, 'scope': 18, 'hypocalor': 23, 'downward': 39, 'neither': 19, 'alway': 56, 'normoact': 16, 'autoset': 12, 'granul': 14, 'idos': 1, 'dcd': 18, 'intraabdomin': 26, 'strict': 49, 'inadequ': 59, 'lamotrigin': 4, 'bee': 35, 'robitussin': 14, 'cal': 49, 'delin': 29, 'wan': 1, 'mention': 47, 'arrhythmia': 79, 'penetr': 74, 'slp': 69, 'seroquel': 32, 'chanc': 20, 'burn': 23, 'caution': 18, 'laryngoscop': 1, 'bupropion': 4, 'tbm': 10, 'fistula': 48, 'gallop': 65, 'lamict': 3, 'stridor': 27, 'hcl': 36, 'pseudomona': 54, 'sa': 18, 'bibasilr': 3, 'ipratroprium': 7, 'wwp': 25, 'thr': 5, 'worrisom': 46, 'dysphagia': 89, 'nocturn': 15, 'ecg': 124, 'nkfa': 15, 'heamodinam': 2, 'mvv': 2, 'atn': 44, 'interfer': 5, 'pta': 59, 'lunch': 40, 'cipro': 73, 'ao': 13, 'ric': 1, 'nectar': 85, 'guidelin': 14, 'contamin': 63, 'bactermia': 8, 'prudent': 4, 'thrombocytopeni': 3, 'video': 113, 'trop': 71, 'hyperlipidemia': 74, 'offici': 17, 'mouthwash': 5, 'mmm': 83, 'arf': 112, 'tab': 61, 'os': 47, 'anithypertens': 2, 'crush': 68, 'oversed': 17, 'phenylephrin': 13, 'calori': 62, 'sertralin': 7, 'quetiapin': 8, 'hurt': 14, 'organomegali': 41, 'jrld': 8, 'tracheobronchiomalacia': 1, 'tazobactam': 90, 'lighten': 24, 'proceed': 42, 'vicodin': 12, 'bcx': 81, 'pantoprazol': 96, 'intersti': 4, 'sensat': 60, 'tracheomalacia': 19, 'tracheocutan': 1, 'vicoden': 1, 'treatement': 5, 'machin': 33, 'distant': 119, 'postop': 31, 'barium': 84, 'ppf': 7, 'requr': 6, 'probablyl': 1, 'asd': 65, 'atheroma': 15, 'benzocain': 11, 'dosag': 42, 'certifi': 23, 'utd': 2, 'appendag': 17, 'raa': 13, \"amt'\": 1, 'spray': 32, 'throughtout': 10, 'bronchopneumonia': 8, 'exagger': 13, 'laa': 16, 'regul': 26, 'hcfa': 22, 'latter': 14, 'releas': 32, 'pnumonia': 6, 'asthma': 76, 'regimin': 14, 'orthostat': 6, 'flovent': 23, 'intcat': 1, 'spacer': 16, 'basilar': 201, 'woke': 30, 'border': 79, 'blastic': 40, 'hrli': 23, 'thereor': 2, 'proce': 6, 'difus': 3, 'arrborn': 1, 'former': 26, 'dirrhea': 3, 'user': 7, 'soung': 1, 'noncontrast': 26, 'notbal': 1, 'svo': 30, 'surround': 117, 'tb': 35, 'dizzy': 4, 'prouctiav': 1, 'suptum': 4, 'inact': 4, 'setteld': 1, 'tachi': 109, 'reassurr': 3, 'whilst': 5, 'tele': 78, 'cardia': 11, 'issacc': 1, 'housem': 1, 'opert': 1, 'oedema': 2, 'halfway': 6, 'polysubst': 8, 'aunt': 11, 'intralumin': 43, 'entre': 1, 'compliant': 28, 'abus': 89, 'culter': 4, 'coughin': 2, 'feasibl': 13, 'hepc': 6, 'tenou': 2, 'maitain': 7, 'diarrhoea': 2, 'efus': 2, 'monitot': 1, 'myo': 1, 'someon': 21, 'clavian': 1, 'pleurit': 50, 'bloodwork': 2, 'sweat': 31, 'xr': 9, 'therepay': 1, 'dinner': 44, 'airborn': 13, 'drope': 8, 'salesman': 2, 'tachcardia': 3, 'rac': 10, 'preacuat': 1, 'sober': 4, 'obliqu': 44, 'unoffici': 2, 'malais': 29, 'great': 102, 'leginella': 1, 'quadrent': 9, 'incresa': 9, 'invers': 48, 'drinkinhg': 1, 'fan': 9, 'clock': 21, 'percent': 12, 'ivanbx': 2, 'multidiciplanari': 2, 'tolerta': 4, 'minor': 63, 'expor': 2, 'tollert': 5, 'labe': 2, 'endocrin': 100, 'systool': 1, 'number': 88, 'vesicl': 16, 'cryptogen': 7, 'plueral': 7, 'nss': 10, 'hypersensit': 15, 'eosinophil': 23, 'paratrach': 55, 'attenutaion': 1, 'radiofrequ': 2, 'multiphas': 4, 'bulla': 9, 'amiben': 1, 'accentu': 13, 'rightward': 32, 'widen': 54, 'chill': 93, 'cardiomedistin': 2, 'puffer': 1, 'inspir': 53, 'rfa': 2, 'biliari': 93, 'anomali': 3, 'pseudocyst': 4, 'atenolol': 23, 'hunger': 10, 'pancreatit': 6, 'phasether': 1, 'plaqu': 50, 'asbesto': 18, 'emphysemat': 25, 'priior': 1, 'perfus': 108, 'offic': 36, 'ablat': 14, 'yeaterday': 4, 'emphysema': 117, 'partli': 23, 'ductal': 46, 'evalut': 20, 'pseudo': 8, 'exposur': 45, 'knew': 18, 'real': 21, 'portal': 69, 'stent': 77, 'plastic': 16, 'wrote': 12, 'hcc': 4, 'celiac': 16, 'osteolyt': 10, 'calciif': 1, 'aprox': 4, 'wonder': 9, 'jelli': 13, 'smoothli': 3, 'centrilobular': 30, 'psych': 70, 'hila': 32, 'sphincter': 10, 'commut': 1, 'anem': 6, 'predomin': 48, 'sizabl': 10, 'iwht': 1, 'pouch': 7, 'nodular': 89, 'threat': 6, 'mandarin': 4, 'lingula': 51, 'flexi': 16, 'mix': 77, 'dome': 12, 'beeper': 13, 'toe': 64, 'flucytosin': 1, 'ppp': 44, 'tue': 103, 'mvmt': 7, 'nuse': 1, 'ampho': 1, 'induct': 11, 'azythromycin': 8, 'amb': 30, 'montior': 12, 'stripe': 3, 'inhomogen': 2, 'ealier': 2, 'door': 8, 'fluconazol': 22, 'bsc': 6, 'ambison': 2, 'dat': 5, 'difficutli': 8, 'antigen': 69, 'dispos': 3, 'cryptococc': 7, 'cardaic': 9, 'beter': 2, 'indwel': 83, 'azrithomycin': 1, 'ile': 1, 'dark': 88, 'aortopulmonari': 5, 'ne': 16, 'atb': 7, 'asap': 25, 'gradual': 81, 'bedbath': 7, 'maew': 14, 'refriger': 3, 'acit': 6, 'conjunct': 77, 'intralobular': 5, 'leni': 44, 'serax': 2, 'sighn': 1, 'osmo': 2, 'interlobular': 12, 'bronchiectasi': 45, 'seri': 74, 'textur': 18, \"pvc'\": 2, 'alveol': 3, 'standpoint': 29, 'treament': 3, 'thorax': 53, 'promari': 1, 'calculi': 22, 'bronchu': 48, 'wth': 10, 'bigemini': 18, 'station': 27, 'trap': 26, 'reas': 1, 'joke': 5, 'decreaz': 1, 'medrol': 12, 'monit': 11, 'select': 26, 'softner': 4, 'conves': 1, 'sarcoidosi': 8, 'hdsa': 3, 'bronchiolectasi': 2, 'mx': 5, 'calif': 1, 'strain': 28, 'ild': 15, 'cross': 39, 'hypoxem': 63, 'asymp': 1, 'rib': 92, 'chew': 16, 'sed': 47, 'traction': 12, 'prone': 20, 'dedic': 30, 'evolv': 48, 'bigm': 1, 'thhat': 1, 'nomogram': 2, 'intrahepat': 39, 'girlfriend': 9, 'bt': 16, 'nutrient': 1, 'vat': 37, 'tail': 21, 'biopsi': 61, 'resect': 60, 'spokesperson': 35, 'meal': 67, 'solu': 10, 'aao': 19, 'onm': 1, 'nonrebreath': 6, 'undergon': 14, 'trnasfus': 1, 'thalamu': 3, 'edg': 53, 'tronchant': 1, 'ccheck': 1, 'jet': 17, 'therapaut': 1, 'bolou': 4, 'lacunar': 20, 'somul': 19, 'solomn': 1, 'fainf': 1, 'trochant': 5, 'oze': 1, 'debrid': 14, 'dement': 5, 'neutropho': 8, 'inflow': 40, 'ssc': 4, 'adeq': 31, 'statg': 1, 'edt': 2, 'derang': 2, 'hypoglycem': 14, 'wcn': 1, 'fore': 2, 'barier': 1, 'puntur': 1, 'hardwar': 28, 'napho': 1, 'eccentr': 18, 'scratch': 11, 'braeth': 2, 'pst': 2, 'hygroma': 2, 'bifront': 5, 'unwind': 1, 'sarna': 18, 'rewrit': 1, 'rhytham': 3, 'mush': 3, 'occasionali': 7, 'debried': 2, 'powed': 1, 'breakdow': 1, 'wateri': 21, 'passymuir': 1, 'pnr': 2, 'disten': 8, 'attemtpt': 2, 'asynchronu': 1, 'perian': 26, 'methimazol': 3, 'nervous': 1, 'sb': 107, 'nsb': 8, 'sacrum': 45, 'gestur': 33, 'clonazipam': 1, 'upbeat': 2, 'althoug': 1, 'mlc': 4, 'preprocedur': 35, 'clonazapam': 3, 'cleanser': 21, 'grossili': 1, 'maex': 6, 'episd': 1, 'thumb': 8, 'admininst': 2, 'bsx': 21, 'codein': 31, 'suceed': 2, 'confluenc': 22, 'forehead': 7, 'break': 43, 'toilett': 4, 'incis': 54, 'gluteal': 20, 'rvr': 52, 'homeopath': 2, 'rednessskin': 1, 'updatedon': 1, 'gt': 33, 'revert': 11, 'norepinephrin': 23, 'inj': 6, 'ecchymosi': 20, 'nausou': 1, 'transfert': 1, 'pat': 12, \"'tire\": 1, 'periipher': 1, 'alprazolam': 5, 'rtw': 1, 'towel': 6, 'music': 5, 'syrup': 7, 'ativa': 1, 'dicis': 1, 'holist': 2, 'planninng': 1, 'comfortabl': 1, 'recevi': 4, 'eith': 3, 'stert': 1, 'meditatin': 1, 'sxd': 14, 'belt': 9, 'acess': 6, 'mul': 7, 'eldest': 2, 'retap': 29, 'save': 9, 'thicker': 10, 'predinson': 2, 'additon': 7, 'breakdownn': 1, 'fpp': 1, 'rhonchoru': 14, 'lopresor': 8, 'wht': 4, 'regurg': 10, 'montitor': 3, 'heplock': 18, 'abit': 6, 'properli': 26, 'redn': 2, 'rsp': 11, 'vasopressin': 17, 'mildi': 20, 'ffp': 28, 'bend': 10, 'podu': 8, 'perirect': 10, 'cefapim': 14, 'duflucan': 1, 'comapzin': 1, 'amio': 23, 'hyperoxemia': 3, 'realiz': 11, 'diflucan': 6, 'naus': 3, 'airb': 9, 'doctor': 25, 'viust': 1, 'yel': 18, 'sacral': 42, 'briskli': 20, 'rr^': 2, 'pant': 4, 'guafenisen': 1, 'cefipim': 74, 'zip': 2, 'postion': 16, 'coccxi': 3, 'sxned': 21, \"'rest\": 1, 'reang': 1, 'lrg': 12, 'moderat': 1, 'nka': 4, 'avvess': 1, 'occass': 22, 'adventiti': 2, 'hyperthyroid': 4, 'sundrom': 1, 'atropin': 14, 'flip': 14, 'disted': 1, 'hypoxaemiaand': 1, 'lightheaded': 25, 'superf': 2, 'sn': 4, 'print': 11, 'dizzi': 43, 'noutrit': 1, 'bldi': 11, 'amiod': 2, '^inr': 2, \"antibx'siv\": 1, 'amiodaron': 47, 'steriod': 27, 'btwn': 6, 'weitht': 1, 'flipp': 1, 'doppl': 2, 'activi': 1, 'litr': 15, 'decrea': 4, 'patenc': 32, 'medium': 40, 'intubat': 3, 'recev': 4, 'psupp': 8, 'complementari': 1, 'longest': 2, 'stretcher': 32, 'tighten': 22, 'antianxieti': 9, 'fleck': 5, 'gtube': 17, 'altepas': 2, 'uninvolv': 2, 'prednison': 108, 'facilit': 54, 'cefepin': 2, 'extremit': 28, 'pulmojnari': 1, 'betweeen': 1, 'spasmod': 1, 'bradi': 37, 'brachi': 1, 'xanax': 12, 'hundr': 6, 'ordere': 3, 'bcome': 1, 'baslin': 8, '^activ': 1, 'pone': 2, 'play': 21, 'thyroid': 108, \"am't\": 3, 'rhinoviru': 1, 'accumul': 18, 'revertedcardiolog': 1, 'xtra': 3, 'atril': 2, 'ccn': 6, 'resportedli': 3, 'vigir': 1, 'foam': 16, 'epidod': 1, 'occaa': 1, 'serequel': 4, 'codien': 3, 'reticular': 17, 'protex': 1, 'pivot': 41, 'miconizol': 6, 'appro': 4, 'ccq': 3, 'diureiss': 1, 'instil': 32, 'perineum': 29, 'fliud': 5, 'pacemek': 1, 'frewq': 1, 'ultim': 33, 'contini': 3, 'electolyt': 8, 'femor': 131, 'implant': 9, 'pharmaci': 42, 'phenobarbit': 3, 'telemetri': 56, 'beneprotein': 28, 'levetiracetam': 8, 'btca': 4, 'serratia': 2, 'lipid': 15, 'endur': 30, 'surgeon': 12, 'suspens': 13, 'reb': 5, 'simpli': 17, 'near': 151, 'protract': 4, 'redo': 10, 'confid': 6, 'granular': 4, 'preced': 43, 'hotn': 13, 'intensivist': 3, 'glutam': 1, 'appoint': 30, 'aris': 18, 'cholecystectomi': 39, 'eob': 23, 'phlebiti': 3, 'cholecystosomi': 1, 'ug': 2, 'monosodium': 1, 'pth': 4, 'performac': 12, 'moda': 13, 'bar': 6, 'cholangiogram': 1, 'sem': 22, 'hair': 5, 'rlq': 11, 'spin': 8, 'ukn': 1, 'compart': 12, 'greatli': 37, 'violent': 3, 'dronederon': 1, 'tartrat': 29, 'famotidin': 58, 'motiv': 9, 'epilept': 2, 'absorb': 9, 'dyspneic': 46, 'intermit': 30, 'readmit': 35, 'platelet': 27, 'load': 65, 'redos': 12, 'rins': 14, 'choley': 3, 'bromid': 33, 'dye': 29, 'drew': 3, 'commens': 9, 'yom': 31, 'palcement': 7, 'risen': 3, 'achhiev': 1, 'sustain': 42, 'graft': 24, 'vm': 11, 'exud': 22, 'strenth': 2, 'sqt': 1, 'dyslipidemia': 15, 'hypoperfus': 16, 'antibioit': 1, 'groom': 2, 'pafib': 3, 'inaccur': 5, 'diverticulosi': 33, 'afterward': 26, 'hap': 93, 'vc': 7, 'resuspend': 1, 'retri': 9, 'unnecessari': 6, 'flomax': 7, 'plof': 7, 'ctx': 66, 'yetserday': 1, 'warafin': 1, 'doesnt': 5, 'clearanc': 58, 'squat': 5, 'urojet': 3, 'sens': 34, 'cast': 13, 'triglycerid': 9, 'mere': 9, 'cue': 41, 'sure': 50, 'seiz': 4, 'tub': 6, 'convuls': 4, 'vdvt': 1, 'entranc': 5, 'tunnel': 48, 'hypovolemia': 51, 'cabgx': 3, 'dronedaron': 1, 'appt': 10, 'hypercalcemia': 10, 'dead': 12, 'noninvas': 13, 'maxim': 37, 'subtherapeut': 23, 'tacheostomi': 2, 'phenytoin': 9, 'lob': 15, 'flank': 40, 'pulll': 1, 'heat': 20, 'kepra': 1, 'urea': 3, 'nonpit': 1, 'spars': 25, 'abbrevi': 4, 'ipratropium': 74, 'alkolosi': 6, 'warfarin': 35, 'supratherapeut': 25, 'ncm': 18, 'vd': 13, 'granual': 1, 'hemoglobin': 9, 'hyperthryoid': 1, 'bsn': 20, 'cholecystostomi': 2, 'bph': 29, 'heb': 6, 'ttp': 20, 'endovascular': 2, 'mmp': 10, 'foami': 2, 'cholesterol': 12, 'trachemask': 1, 'environment': 1, 'shif': 1, 'pictur': 57, 'elect': 27, 'wfl': 40, 'maxa': 8, 'household': 2, 'anymor': 14, 'asystol': 2, 'semiform': 5, 'neutrophil': 10, 'methylprednison': 11, 'unsucces': 4, 'worst': 22, 'adaptec': 2, 'struggl': 7, 'discoid': 8, 'nightgown': 2, 'sugic': 1, 'angri': 25, 'mural': 13, 'bsbl': 1, 'oett': 27, 'dobhuff': 1, 'aeros': 2, 'writen': 1, 'vasotec': 7, 'okay': 60, 'hydralizin': 18, 'arrest': 23, 'enalapril': 9, 'harsh': 13, 'hypothermia': 19, 'othwis': 1, 'ni': 6, 'bronchoscop': 10, 'notibl': 1, 'moistur': 14, 'unsucess': 2, 'terribl': 4, 'shred': 1, \"'m\": 25, 'multilpl': 1, 'orali': 1, 'oncologist': 18, 'neoplast': 14, 'imv': 13, 'abat': 5, 'proccess': 1, 'propof': 2, 'hallucin': 33, 'tumor': 44, 'nobodi': 2, 'reccur': 3, 'crew': 2, 'leather': 3, 'mo': 27, 'departur': 3, 'taht': 2, 'restarin': 1, 'suddenli': 12, 'stint': 1, 'design': 36, 'indian': 3, 'subclav': 3, 'cordi': 10, 'empti': 27, 'attack': 20, 'beggin': 1, 'smoker': 69, 'divorc': 6, 'sorri': 4, 'crepitu': 27, 'peermenat': 1, 'diminis': 1, 'hallucinatori': 2, 'conitinu': 2, 'ridgid': 2, 'remiss': 6, 'fom': 4, 'delusioni': 1, 'lla': 8, 'oncolog': 34, 'armstorng': 1, 'metastat': 65, 'west': 20, 'harm': 8, 'proof': 1, 'bandaid': 9, 'decsion': 3, 'paranoid': 10, 'setup': 7, 'paperwork': 34, 'propfol': 7, 'maintenc': 2, 'advantag': 2, 'dictat': 70, 'waist': 12, 'ncp': 1, 'importantli': 4, 'desprat': 1, 'radiat': 80, 'gs': 21, 'oxicontin': 1, 'flexibl': 5, 'reprot': 2, 'drowsi': 14, 'henc': 8, 'lap': 19, 'misc': 5, 'kn': 1, 'thoracostomi': 8, 'nevertheless': 12, 'releiv': 4, 'vaccum': 1, 'chemo': 44, 'midday': 3, 'build': 17, 'pcw': 2, 'xrt': 41, 'thrash': 17, 'kill': 8, 'medistin': 5, 'wrestl': 1, 'paralyt': 10, 'clapm': 1, 'currentlli': 1, 'permen': 2, 'escap': 5, 'tachyapen': 1, 'azitromycin': 2, 'ivda': 4, 'floey': 1, 'brieflli': 1, 'hcv': 23, 'neuropathi': 36, 'presep': 18, 'addict': 21, 'plum': 1, 'consit': 5, 'fhpa': 7, 'uncoil': 2, 'dryer': 2, 'perecnt': 1, 'segment': 205, 'thoughtout': 2, 'communc': 2, 'mgx': 4, 'vicodan': 1, 'clonopin': 6, 'pseudonoma': 1, 'avg': 9, 'clonipin': 5, 'immidiatli': 1, 'tran': 16, 'colostomi': 17, 'bariair': 3, 'aroussbl': 1, 'respiraotri': 3, 'receipt': 2, 'acinetobact': 3, 'closet': 2, 'amx': 3, 'serosang': 31, 'bigboy': 1, 'morbid': 15, 'tirat': 3, 'marker': 31, 'shilli': 1, 'adendun': 1, 'draing': 12, 'bsf': 2, 'catch': 7, 'neuto': 1, 'misplac': 5, 'hemipharesi': 1, 'pneumoperitoneum': 19, 'inhibitor': 30, 'merepenum': 8, 'upslop': 1, 'vigil': 4, 'perpher': 18, 'nursig': 1, 'somonl': 3, 'algorithm': 7, 'bilar': 2, 'nonstag': 1, 'act': 60, 'hyperosmolar': 1, 'unstabl': 30, 'ipratrop': 2, 'yesterd': 1, 'ts': 41, 'porcin': 5, 'valid': 13, 'healthcar': 40, 'clostridium': 20, 'gr': 32, 'nephrotox': 9, 'catheter': 18, 'tobacco': 77, 'hyperantremia': 1, 'pottassium': 1, 'rhoncor': 12, 'resposit': 7, 'hadsbp': 1, \"ce'\": 3, 'hemorrhoid': 9, 'jxxb': 6, 'sttw': 2, 'restrict': 89, 'hyperglycemia': 82, 'housestaff': 30, 'formula': 30, 'clonidin': 14, 'causal': 2, 'bicarbon': 13, 'crowd': 15, 'outsid': 75, 'broadli': 23, 'sbo': 27, 'prioriti': 7, 'neutra': 9, 'meropenim': 4, 'rsrc': 14, 'miner': 47, 'isquit': 1, 'repo': 17, 'exch': 18, 'bind': 1, 'rarr': 1, 'png': 6, 'mca': 17, 'argu': 18, 'caliciu': 1, 'acccess': 2, 'meticul': 5, 'avf': 27, 'std': 5, 'medntal': 1, 'twi': 18, 'jksd': 18, 'lad': 83, 'anterolater': 39, 'normocyt': 10, 'peritoneum': 4, 'rather': 82, 'intev': 3, 'hyperreson': 44, 'protector': 2, \"dri'\": 1, 'pxdb': 7, 'qhr': 8, 'option': 51, 'unerli': 1, 'millimet': 2, 'multidrug': 2, 'fetl': 1, 'sundown': 15, 'ezmolol': 1, 'anteriolater': 1, 'blockad': 15, 'eschar': 8, 'worthwhil': 1, 'alleyvn': 1, 'fulll': 1, 'difficil': 31, 'solut': 24, 'dhf': 3, 'sun': 60, 'pulmocar': 1, 'beta': 99, 'ture': 5, 'reassuringli': 1, 'account': 43, 'ascorb': 4, 'spfc': 15, 'dif': 8, 'reciproc': 3, 'groan': 12, 'italian': 4, 'anicter': 69, 'hsq': 14, 'bblocker': 6, 'aa': 21, 'lcx': 9, 'improp': 1, 'decel': 4, 'hypoaldosteron': 2, 'alkp': 1, 'presur': 2, 'vsd': 39, 'allevyn': 21, 'curent': 4, 'sight': 8, 'unstag': 8, '^rd': 13, 'haloperidol': 25, 'hf': 19, 'blacken': 5, 'sclera': 115, 'dashboard': 7, 'def': 7, 'ste': 6, 'augment': 97, 'nitrit': 6, 'perday': 1, 'vessl': 2, 'tablet': 26, 'cardic': 1, 'multivitamin': 59, 'grayscal': 79, 'chlorhexadin': 2, 'ferritin': 14, 'htpn': 1, 'tricep': 3, 'toson': 1, 'pk': 9, 'cerebrovascular': 11, 'drench': 1, \"'out\": 1, 'suppl': 81, 'brbpr': 10, 'grimaci': 1, 'synthryoid': 1, 'hear': 67, 'panel': 49, 'illicit': 10, 'cytolog': 26, 'juven': 1, 'insid': 13, 'roscommon': 1, 'agua': 1, 'dng': 16, 'buttack': 1, 'siadh': 26, 'malposit': 24, 'azygo': 14, 'ggt': 9, 'flexis': 31, 'sion': 1, 'faster': 55, 'hemiparesi': 29, \"uti'\": 1, 'ratio': 24, 'uncommun': 3, 'qidach': 2, 'epi': 25, 'patellar': 3, 'damag': 14, 'tw': 7, 'rhoncer': 7, 'courc': 1, 'resrart': 1, 'defici': 38, 'capactiy': 1, 'mvi': 38, 'levof': 3, 'coaurs': 1, 'gluc': 9, 'angina': 13, 'honk': 1, 'chemistri': 51, 'pack': 74, 'disrrhea': 1, 'mdr': 8, 'ppd': 30, 'bound': 17, 'diaphoresi': 41, 'arhb': 9, 'palc': 8, 'mulitivitamin': 1, 'metoclopramid': 15, 'rca': 9, 'atter': 1, 'besid': 11, 'pda': 26, 'suprahilar': 10, 'equival': 14, 'rigor': 26, 'jtube': 7, 'metop': 8, 'ftt': 5, 'unk': 1, 'alcohol': 96, 'retir': 29, 'anterospt': 1, 'muc': 1, 'linazolid': 3, 'invalid': 5, 'notat': 3, 'odor': 14, 'hrt': 21, 'syring': 11, 'nickel': 3, 'cortisol': 27, 'profus': 14, 'freeli': 43, 'elderli': 34, 'omeprazol': 43, 'lit': 34, 'mag': 82, 'cathey': 1, 'reclin': 13, 'attorney': 8, 'legal': 36, 'pud': 46, 'guardian': 14, 'fed': 22, 'maiten': 2, 'tetracyclin': 12, 'repet': 7, 'calcarb': 1, 'thatn': 1, 'divis': 43, 'retent': 51, 'suppositori': 25, 'tramadol': 11, 'fev': 9, 'consecut': 14, 'tenac': 2, 'paf': 19, 'bloat': 4, 'disimpact': 13, 'pseudomana': 1, 'losartan': 9, 'coli': 20, 'tha': 6, 'osteoarthr': 22, 'discern': 12, 'advair': 35, 'mssa': 21, 'sud': 6, 'onlin': 13, 'precordium': 17, \"legionella'\": 1, 'ultram': 15, 'bronchogram': 64, 'overt': 81, 'osteo': 10, 'presepsi': 2, 'bra': 2, 'disempact': 3, 'gastrointestin': 109, 'streak': 35, 'senakot': 1, 'fluticason': 25, 'instanc': 6, 'silent': 34, 'manual': 33, 'version': 44, 'ouput': 13, 'myalgia': 62, 'mbue': 8, 'migrain': 10, 'bathroom': 16, 'gabapentin': 29, 'soband': 1, 'uteru': 27, 'seven': 23, 'consolod': 2, 'churg': 3, 'repons': 2, 'homemak': 4, 'palpit': 78, 'iin': 4, 'miralax': 16, 'sticki': 7, 'subcentimet': 30, 'jekh': 11, 'abund': 10, 'spiriva': 20, 'pneumothorac': 31, 'arthroplasti': 9, 'recordslosartan': 1, 'itch': 21, 'bronchiti': 34, 'overdistend': 2, 'angioedema': 8, 'atorvastatin': 24, 'furosemi': 1, 'cramp': 18, 'si': 17, 'milk': 17, 'dchf': 10, 'sock': 5, 'angioneurot': 1, 'sma': 10, 'flew': 1, 'fibroid': 7, 'hypoalbuminemia': 2, 'acquisit': 27, 'llq': 10, 'glycol': 11, \"md'\": 3, 'klor': 1, 'modestli': 4, 'obstip': 8, 'purs': 9, 'impact': 40, 'longstand': 31, 'loratadin': 5, 'golyt': 3, 'neurot': 1, 'catscan': 3, 'benzonat': 6, 'annulu': 23, 'pullmonari': 2, 'centavit': 1, 'prod': 66, 'abdomihn': 1, 'polyethylen': 12, 'everytim': 2, 'noncontributori': 3, 'numb': 53, 'arthriti': 30, 'suciton': 7, 'anf': 4, 'spoken': 41, 'od': 7, 'recommenc': 3, 'aforement': 11, 'town': 5, 'clairfi': 1, 'aphas': 10, 'unbal': 1, 'flouroscopi': 3, 'evlauat': 1, 'ade': 2, 'zithromax': 10, 'apperci': 1, 'yankaeur': 5, 'yield': 24, 'mici': 1, 'ru': 2, 'glucerna': 2, 'inflitr': 3, 'emisi': 2, 'evenu': 1, 'oropharynx': 59, 'collim': 29, 'cricopharyng': 3, 'biapic': 16, 'radiologistclip': 1, 'spillag': 4, 'absenc': 75, 'ultrasonographi': 5, 'nonlas': 5, 'incl': 29, 'boop': 9, 'correspond': 63, 'perti': 1, 'outpouch': 1, 'lymphanget': 2, 'conist': 2, 'carcinomatosi': 5, 'centesi': 7, 'exact': 10, 'tunnedl': 1, 'ultrasonograph': 15, 'neoplasm': 39, 'vascul': 14, 'vicryl': 8, 'intestin': 27, 'shth': 6, 'lost': 33, 'int': 22, 'oscult': 1, 'atelectas': 17, 'deflect': 36, 'epiglott': 35, 'passag': 12, 'broncoscopi': 5, 'pnemonia': 17, 'para': 18, 'peribronchiolar': 9, 'vori': 1, 'display': 60, 'serviceclip': 4, 'sebac': 4, 'duplex': 30, 'phase': 113, 'dopp': 9, 'asperigillosi': 1, 'hypoattenu': 18, 'aspergillosi': 3, 'pel': 15, 'pancrat': 1, 'sibl': 9, 'bibas': 24, 'echotextur': 28, 'torso': 96, 'niv': 28, 'aggrav': 2, 'dont': 2, 'anyon': 10, 'vault': 4, 'aaox': 33, 'oval': 24, 'cbd': 21, 'ake': 1, 'transamin': 26, 'nonenhanc': 2, 'ciwa': 22, 'bulg': 11, 'mayb': 34, 'peopl': 33, 'diffult': 1, 'apneia': 1, 'sanguin': 10, 'pnaumonia': 1, 'duiresi': 4, 'patint': 2, 'greek': 3, 'pati': 1, \"'ing\": 6, 'deem': 17, 'dep': 7, 'rust': 8, 'strategi': 13, 'neccessari': 4, 'epigast': 1, 'charg': 6, 'agrre': 1, 'mycostatin': 16, 'bedrail': 6, 'elong': 47, 'assit': 10, 'ancef': 1, 'reliabl': 18, 'scare': 12, 'addtion': 4, 'tie': 13, 'eqaul': 1, 'sheddi': 1, 'antibiod': 8, 'ventilatio': 1, 'midnght': 1, 'entero': 1, 'subpulmon': 7, 'sxning': 18, 'thorcentesi': 1, 'prosthet': 14, 'prospect': 2, 'bloodting': 7, 'backflow': 2, 'ther': 8, 'tack': 3, 'fc': 7, 'shown': 36, 'sideport': 9, 'book': 17, 'placem': 10, 'musc': 1, 'brkd': 1, 'loccul': 1, 'abt': 5, 'bang': 9, 'pharyngoesophag': 1, 'sxt': 4, 'tu': 9, 'pylori': 11, 'intol': 2, 'presseur': 1, 'preclud': 15, 'tyleno': 3, 'chnage': 5, 'nifm': 1, 'coninu': 6, 'exclus': 13, 'spon': 18, 'rsd': 1, 'aroung': 3, 'medcial': 1, 'adeqaut': 7, 'outout': 3, 'bx': 31, 'pomot': 1, 'siderail': 13, 'zenker': 3, 'oet': 3, 'soften': 9, 'previosu': 1, 'antibioitc': 2, 'trachesotomi': 1, 'tudi': 1, 'epigastr': 21, 'diverticulum': 10, 'dysphoria': 1, 'eccyhmot': 1, 'cntl': 3, 'overlay': 4, 'varic': 14, 'grave': 6, 'hepatoma': 1, 'rythmic': 1, 'cirrhot': 6, 'fentanlyl': 1, 'nephrectomi': 12, 'phosphatas': 8, 'nonobstruct': 9, 'nonbreath': 1, 'nodal': 18, 'xalatan': 2, 'neutro': 4, 'esphog': 1, 'thrombosi': 91, 'overse': 1, 'neurontin': 39, 'aortocav': 4, 'huge': 13, 'durages': 5, 'uncomprehens': 2, 'collater': 15, 'nystagmoid': 1, 'cholelithiasi': 36, 'asid': 22, 'olni': 1, 'hyperechogen': 2, 'contributori': 21, 'pernici': 4, 'skincar': 4, 'architectur': 9, 'inclin': 5, 'foramen': 18, 'splenomegali': 26, 'pterion': 2, 'baricat': 6, 'necessarili': 8, 'grown': 18, 'flecainid': 2, 'vac': 8, 'splenoren': 2, 'decomp': 2, 'valvular': 73, 'blossom': 4, 'pneumovax': 3, 'questran': 1, 'tkcb': 4, 'tambocor': 1, 'pancol': 3, 'unsur': 40, 'elicit': 13, 'eagg': 9, 'stigmata': 3, 'pepcid': 46, 'metronidazol': 54, 'chgc': 4, 'megacolon': 12, 'aneursym': 4, 'pancytopenia': 9, 'flecanid': 2, 'recordspneumovax': 1, 'shadow': 53, 'sac': 10, 'qpm': 9, 'unexplain': 8, 'esophag': 75, 'empyema': 64, 'qam': 18, 'falgyl': 2, 'enterobact': 7, 'dilaudid': 42, 'anur': 17, 'steadili': 13, 'lowish': 2, 'dyspahgia': 2, 'levoflaxacin': 2, 'habitu': 52, 'nwh': 5, 'celexa': 25, 'pseudomembran': 2, 'ileu': 42, 'subcarin': 48, 'sbna': 9, 'bubbl': 24, 'heavi': 43, 'intracardiac': 17, 'seriou': 5, 'gmdb': 3, 'honeycomb': 10, 'ica': 23, 'meningismu': 4, 'mood': 15, 'orific': 5, 'hypoxi': 1, 'collapps': 1, 'rheumat': 6, 'accordion': 1, 'craniotomi': 7, 'hyperinfl': 31, 'pmi': 84, 'pneumatosi': 16, 'frontotempor': 2, 'extrahepat': 15, 'transcort': 1, 'flovastin': 1, 'pfo': 19, 'withnew': 1, 'abomin': 1, 'narrow': 111, 'flecanaid': 1, 'depakot': 13, 'older': 12, 'nsst': 2, 'ampl': 11, 'throughput': 1, 'hydral': 17, 'popscicl': 1, 'recan': 6, 'vallecula': 36, 'fallen': 9, 'flexur': 10, 'fifteen': 2, 'teari': 10, 'eros': 17, 'tachpneic': 8, 'surfac': 39, 'linisod': 1, 'coomand': 1, 'peptamin': 1, 'nutrtion': 3, 'bronchi': 54, 'evsl': 1, 'flucuat': 3, 'homogen': 34, 'chekc': 2, 'airwari': 1, 'diuesi': 1, 'yankauer': 28, 'pipicilln': 1, 'benzo': 46, \"sx'ed\": 7, 'sputm': 3, 'unclamp': 3, 'fuction': 3, 'mimin': 2, 'podiatri': 6, 'extermit': 3, 'reddish': 2, 'aknowledg': 1, 'gastrographin': 2, 'com': 4, 'anaplast': 2, 'indicaiton': 1, 'shook': 7, 'midlung': 8, 'grip': 15, 'pneunomia': 2, 'stau': 8, 'meperidin': 7, 'vhp': 3, 'exu': 1, 'throuhgout': 4, 'cam': 3, 'edno': 2, 'rebolus': 3, 'cmpeep': 1, 'subcm': 2, 'uac': 3, 'transluc': 1, 'wont': 2, 'intermitantli': 2, 'blanket': 35, 'transvers': 41, 'hallway': 5, 'baracat': 2, 'qlcl': 2, 'ivx': 7, 'regiular': 1, 'appropti': 1, 'maynot': 1, 'gravitli': 1, 'peptimen': 2, 'intremitt': 1, 'visul': 1, 'lwi': 1, 'quadrupl': 2, 'articul': 13, 'startl': 6, 'bmthi': 1, 'pneumat': 10, 'extralumin': 7, 'stoolx': 5, 'taught': 10, 'suctioin': 1, 'dtv': 9, 'truncat': 2, 'teh': 7, 'awi': 3, 'catnap': 1, 'anesthesi': 1, 'distensio': 1, 'silk': 14, 'speck': 5, 'insuffici': 84, 'crea': 10, 'gastrostomi': 35, 'thoughout': 17, 'groov': 2, 'cooler': 2, 'ostiomeat': 5, 'tonit': 12, 'empath': 2, 'laboratori': 12, 'llift': 1, 'larynx': 8, 'bilou': 5, 'antiboticx': 1, 'muer': 2, 'purri': 1, 'intrathorac': 18, 'weather': 5, 'mash': 4, 'dima': 1, 'htx': 1, 'improvemnt': 2, 'eripher': 1, 'iatrogen': 7, 'rhonch': 3, 'flouro': 3, 'lavarg': 5, 'infil': 4, 'particiapt': 1, 'attemt': 5, 'transaort': 7, 'slough': 6, 'peripancreat': 3, 'lge': 27, 'lenti': 1, 'averag': 51, 'recultur': 37, 'court': 9, 'bout': 15, 'lcl': 1, 'auditori': 6, 'diabetc': 1, 'spirit': 26, 'unilater': 9, 'deescal': 1, 'dueoderm': 4, 'antegrad': 16, 'phenegin': 1, 'clam': 3, 'coud': 7, 'tart': 2, 'mycoplasma': 6, 'method': 14, \"decr'\": 1, 'brb': 13, 'rle': 40, 'prolin': 1, 'ativanx': 1, 'catheth': 2, 'thur': 9, 'peq': 1, 'viscer': 9, 'acyclovir': 21, 'pocket': 24, 'gastrograffin': 4, 'ugib': 8, 'junctur': 1, 'accid': 8, 'palpapt': 1, 'ureteru': 1, 'imipenum': 3, 'bulb': 12, 'carvu': 15, 'transger': 1, 'imipemium': 1, 'billiou': 3, 'repiratori': 5, 'bgm': 1, 'arachnoid': 5, 'kegal': 1, 'pleura': 31, 'mc': 14, 'throghout': 1, 'valuewith': 1, 'ltue': 1, 'midazolam': 75, 'perlla': 4, 'drng': 31, 'erract': 1, 'lenght': 3, 'hypoplast': 3, 'leakag': 24, 'diaphor': 1, 'patien': 4, 'tommorow': 9, 'mandibl': 15, 'hemi': 5, 'methylen': 3, 'expens': 3, 'peptomen': 3, 'mequ': 1, 'spiral': 2, 'affirmativley': 1, 'liezolid': 1, 'sharpli': 17, 'acalcul': 4, 'pheresi': 1, 'pasi': 2, 'haldolx': 1, 'zestril': 3, 'fro': 23, 'oxygent': 7, 'ocassion': 5, 'heavili': 19, 'agiat': 6, 'ou': 6, 'darker': 4, 'nodd': 4, 'integrt': 1, 'maxillofaci': 11, 'crate': 1, 'bf': 3, 'wob^': 1, 'lisinepril': 1, 'imipenem': 7, 'frquesnt': 1, 'oil': 11, 'pupos': 3, 'panic': 14, 'droperidol': 1, 'tacycardia': 3, 'armpit': 9, 'anticoagualt': 1, 'liw': 1, 'riski': 3, 'practic': 9, 'dem': 1, 'amyla': 1, 'gelatan': 1, 'rem': 1, 'tachycardiac': 5, 'tachypen': 13, 'bilex': 1, 'fuo': 26, 'spillov': 23, 'netrothick': 1, 'llightli': 1, 'drgreena': 1, 'appropi': 19, 'tracheobronchi': 20, 'cooprer': 1, 'airmattress': 4, 'paper': 32, 'anesthet': 26, 'tachypeniec': 2, 'tyenol': 6, 'anatom': 16, 'behind': 14, 'multipurpos': 1, 'fxd': 3, 'spirt': 1, 'honey': 15, 'imepenem': 2, 'coffe': 23, 'oz': 4, 'lanti': 6, \"trach'\": 2, 'fluorscop': 1, 'acidot': 14, 'ducolax': 10, 'grimmac': 6, 'egg': 9, 'sheift': 1, 'straw': 62, 'fatiqu': 3, 'barocat': 3, 'darken': 1, 'fluroscop': 2, 'demerol': 10, 'withdrawl': 20, 'palap': 2, 'actviti': 3, 'endoscop': 6, 'maintainc': 3, 'kind': 9, 'cu': 16, 'orangish': 1, 'circumscrib': 12, 'domin': 9, 'acromioclavicular': 8, 'hypertroph': 5, 'letherg': 1, 'humidifc': 2, 'swollow': 9, 'flagal': 2, 'flaygl': 5, 'pathologist': 19, 'lacutlos': 1, 'hve': 1, 'indetermin': 106, 'vertebra': 13, 'duires': 4, 'givn': 9, 'lac': 14, 'comforat': 2, 'pusl': 1, 'likley': 15, 'collabor': 26, 'dorsali': 34, 'thyroidectomi': 9, 'irregualr': 1, 'shell': 1, 'hymodynam': 1, 'diffculti': 2, 'accesori': 3, 'primarili': 44, 'biilater': 1, 'retriev': 10, 'shaft': 10, 'sato': 9, 'uncommon': 3, 'tt': 12, 'suffer': 19, 'langu': 1, 'bougi': 3, 'spc': 1, 'steadi': 51, 'thryoidectomi': 1, 'protecton': 1, 'thrombi': 20, 'institut': 9, 'presenlti': 1, 'implement': 17, 'dinnertim': 2, 'pleasent': 2, 'gone': 34, 'breather': 9, 'cardizem': 12, 'subcost': 14, \"'even\": 1, 'chorda': 51, 'parastern': 13, 'pep': 3, 'npc': 13, 'ccc': 61, 'svn': 17, 'recordsac': 1, 'comm': 39, 'eject': 34, 'disabl': 15, 'young': 14, 'feurea': 10, 'rusb': 6, 'panhypopituitar': 1, 'reorder': 11, 'oh': 10, 'valsartan': 6, 'ddavp': 4, 'hypercarb': 44, 'valsartin': 1, 'diiures': 1, 'hypokalemia': 16, 'desmopressin': 2, 'bronchodiltor': 1, 'hypernatermia': 1, 'loudest': 6, 'asdir': 10, 'diovan': 6, 'coverg': 3, 'pyelonephr': 8, 'sella': 3, 'microorgan': 27, 'americar': 1, 'fena': 30, 'callbel': 4, 'appropriatli': 11, 'usb': 3, 'adn': 11, 'overweight': 88, 'callout': 9, 'girl': 5, 'dysuria': 70, 'mandat': 14, 'boy': 5, 'panhypopit': 1, 'mcv': 11, 'spread': 24, 'adat': 20, 'hypoventil': 20, 'hypercapn': 9, 'mghg': 1, 'atarax': 1, 'hyperbar': 1, 'grandchildren': 6, 'givenrsbi': 1, 'hypopituitar': 1, 'epidur': 19, 'readili': 12, 'bilt': 2, 'redict': 1, 'firmer': 2, 'saftey': 4, 'iorn': 1, 'anticub': 3, 'drifit': 1, 'decort': 23, 'tarri': 6, 'bascil': 1, 'alph': 2, 'comprehend': 6, 'basilac': 2, 'tortuos': 24, 'uci': 1, 'bo': 18, 'tracer': 9, 'babi': 7, 'radiolabel': 1, 'malleol': 1, 'repetit': 8, 'repeatedli': 25, 'camera': 2, 'acceler': 11, 'vacuo': 4, 'whil': 1, 'complainingof': 1, 'periren': 4, 'autonim': 1, 'radiopharmeceut': 1, 'label': 13, 'capabl': 7, 'colloid': 4, 'reprons': 1, 'sulfur': 1, 'daughet': 3, 'hyotens': 3, 'undetect': 6, 'lebil': 1, 'gell': 2, 'strictli': 7, 'compleat': 2, 'abraison': 1, 'nephrolithiasi': 25, 'hemispher': 18, 'aniticip': 1, 'radlin': 10, 'dysmotil': 2, 'cotinu': 4, 'advis': 32, 'severli': 6, 'listen': 31, 'immediatli': 2, 'lidoderm': 9, 'yankuer': 14, 'ingest': 16, 'titir': 3, 'scali': 2, 'ri': 8, 'parasagitt': 5, 'unconclus': 1, 'nauseat': 5, 'contratur': 1, 'endoscopi': 20, 'nightmar': 1, 'transcript': 10, 'fluctuant': 2, 'esophogram': 2, 'gamma': 3, 'inleg': 1, 'autonom': 9, 'inquiri': 12, 'cerebro': 1, 'corvac': 2, 'horizont': 5, 'phasic': 13, 'customari': 1, 'caspofugin': 1, 'plane': 41, 'bilobar': 1, 'ielostomi': 1, 'pauciti': 10, 'methadon': 24, 'diaphragmat': 20, 'mtx': 2, 'apprx': 2, 'quantit': 10, 'amplitud': 28, 'spectral': 19, 'wheat': 2, 'chux': 2, 'myocardium': 7, 'compl': 3, 'rvef': 1, 'fraction': 30, 'gadopentet': 1, 'obx': 1, 'ssfp': 1, 'poplit': 71, 'atial': 1, 'qflow': 1, 'dimeglumin': 1, 'appropraietli': 1, 'chrohn': 3, 'porta': 9, 'mltp': 1, 'anterosept': 55, 'dtpa': 5, 'candi': 1, 'crohn': 9, 'breifli': 4, 'abut': 24, 'axr': 3, 'obstrn': 1, 'immunosupress': 6, 'cmr': 1, 'epicardi': 6, 'emboli': 34, 'echodens': 7, 'ritalin': 7, 'immunosuppress': 17, 'asymmetri': 18, 'similarli': 13, 'gadolin': 4, 'skelet': 9, 'dynspnea': 1, 'hyperdynam': 66, 'algorythm': 1, 'pneumocyst': 2, 'independantli': 4, 'ej': 9, 'liquidi': 4, 'arrhymia': 1, \"'chest\": 1, 'cine': 2, 'qp': 1, 'index': 28, 'worsn': 2, 'fatug': 1, 'concer': 2, 'droop': 20, 'nonsmal': 6, 'althrough': 1, 'pontin': 5, 'metastasi': 31, 'palat': 41, 'lid': 5, 'jvd': 47, 'thrombocytopenia': 29, 'toung': 4, 'catarac': 1, 'cord': 52, 'insight': 4, 'avascular': 6, 'propanolol': 2, 'fibrin': 4, 'swish': 7, 'nscla': 1, 'paroxetin': 7, 'nsclc': 27, 'rhinorrhea': 19, 'benzodiazepin': 13, 'achil': 3, 'hsm': 45, 'amiodoron': 11, 'dexamethason': 15, 'petellar': 1, 'mmd': 1, 'lobectomi': 23, 'ome': 18, 'bruit': 15, 'upgo': 1, 'nsclca': 7, 'nslca': 1, 'anixeti': 1, 'duoneb': 7, 'insult': 20, 'nonsustain': 2, 'slur': 17, 'hyperreflex': 1, 'upward': 26, 'secondard': 1, 'anywher': 11, 'inflam': 9, 'retard': 8, 'csru': 10, 'unavail': 35, 'trunk': 34, 'hypocalcemia': 6, 'shave': 8, 'dysfxn': 4, 'tum': 8, 'rhabdo': 3, 'essentailli': 1, 'pneumnia': 3, 'rhabdomyolysi': 3, 'inferiorli': 31, 'fatti': 29, 'interstici': 1, 'raw': 12, 'malfunt': 1, 'deminer': 20, 'subpleur': 19, 'preoper': 5, 'reccommend': 3, 'precep': 1, 'volumetr': 13, 'asbestosi': 5, 'extext': 6, 'corin': 1, 'adnexa': 18, 'emobol': 1, 'feaml': 1, 'carcinoma': 47, 'fifti': 1, 'sho': 1, 'nkg': 2, 'eg': 17, 'subcorin': 1, 'gutter': 11, 'skeleton': 12, 'thoracu': 1, 'desa': 2, 'penumonia': 8, 'interrupt': 11, 'amalgam': 2, 'deoxygen': 1, 'degener': 11, 'parotid': 10, 'tspine': 1, 'intervertebr': 9, 'obsturct': 1, 'adenoid': 3, 'colic': 4, 'polyp': 15, 'metastas': 27, 'deal': 12, 'uptak': 12, 'dental': 12, 'breez': 1, 'anxirti': 2, 'emuls': 1, 'reguard': 6, 'esr': 10, 'patul': 4, 'sereou': 1, 'hallodol': 1, 'femur': 19, 'strike': 7, 'viru': 16, 'hive': 31, 'glute': 5, 'wellbutrim': 2, 'solutab': 1, 'prealbumin': 1, 'tenuou': 40, 'theophyllin': 3, 'citrat': 11, 'bursiti': 2, 'gbm': 5, 'fowel': 2, 'myeliti': 1, 'wellbutrin': 4, 'zinc': 5, 'wheel': 8, 'glucan': 21, 'syndro': 2, 'antigbm': 1, 'participc': 1, 'stasi': 19, 'crp': 8, 'freak': 1, 'rough': 3, 'starter': 2, 'serolog': 22, 'vacno': 4, 'coagulopathi': 57, 'tofu': 1, 'addt': 1, 'nf': 6, 'ppn': 6, 'panick': 2, 'upep': 2, 'premed': 6, 'cmo': 24, 'anca': 11, 'nutit': 2, 'uroqid': 1, 'ige': 3, 'mucuh': 1, 'alevi': 1, 'brace': 9, 'buccal': 23, 'sampter': 1, 'pall': 4, 'trust': 6, 'spoon': 14, 'wasa': 2, 'amino': 3, 'ishial': 1, 'ancillari': 2, 'tg': 6, 'refeed': 4, 'lollypop': 2, 'synephrin': 2, 'mexilitin': 1, 'cessat': 9, 'ischial': 3, 'tib': 6, 'recordsaspirin': 1, 'fexofenadin': 6, 'ipf': 18, 'iodin': 24, 'relationship': 11, 'preren': 34, 'smell': 18, 'readm': 3, 'halodol': 7, 'medicat': 2, 'neurogen': 6, 'geripsych': 1, 'ondansetron': 11, 'homecar': 3, 'mexiletin': 3, 'lollipop': 1, 'abrupt': 9, 'galactommanan': 1, 'eosiniophilia': 1, 'obssess': 1, 'consern': 1, 'threw': 3, 'pseudoephedrin': 1, 'parapleg': 6, 'spep': 3, 'klonopin': 17, 'fenatyl': 2, 'persu': 4, 'pussi': 1, 'montelukast': 6, 'hum': 2, 'naloxon': 1, 'apolog': 1, 'cautious': 6, 'radiiograph': 1, 'coagul': 15, 'cottonse': 1, 'parenter': 45, 'paraplegia': 11, 'wc': 7, 'triad': 1, 'spri': 3, 'opiat': 21, 'togeth': 16, 'samter': 1, 'mucinex': 16, 'adamantli': 3, 'wrok': 1, 'mepilex': 16, 'baclofen': 11, 'satt': 3, 'yelllow': 5, 'gent': 12, 'prom': 8, 'minist': 2, 'providencia': 2, 'resent': 15, 'sync': 2, 'ball': 6, 'pericar': 5, 'objecti': 1, 'slilghtli': 1, 'possobl': 1, 'bacitracin': 10, 'anim': 10, 'hh': 8, 'multilfoc': 1, 'vec': 6, 'golf': 2, 'unti': 1, 'share': 47, 'cleasn': 2, 'god': 4, 'cousin': 9, 'acv': 12, 'sedaton': 1, 'pca': 21, \"o'\": 4, 'reiniti': 7, 'pop': 8, 'distrss': 1, 'undetail': 1, 'pulmonolog': 8, 'trail': 14, 'glut': 9, 'cotn': 4, 'dk': 13, 'sse': 10, 'ovebreath': 1, 'wdw': 1, 'quiac': 7, 'electrolty': 1, 'bridg': 25, 'socail': 10, 'signif': 18, 'smile': 23, 'willb': 2, 'duccolax': 1, 'incorrect': 5, 'speaker': 11, 'pastey': 2, 'prupos': 1, \"sx'ng\": 4, 'jump': 5, 'applianc': 8, 'purlul': 2, 'priviou': 1, 'vascularight': 1, 'rssi': 11, 'subtot': 9, 'ileotomi': 1, 'coat': 15, 'splenectomi': 7, 'filter': 39, 'oxygn': 3, 'pyloro': 1, 'coar': 6, 'ordredd': 1, 'colour': 5, 'drg': 10, 'vallecular': 6, 'secreathin': 1, 'scabi': 1, 'erupt': 4, 'dobhoff': 39, 'integu': 6, 'nacl': 5, 'dophoff': 7, 'sero': 14, 'ds': 15, 'integrum': 1, 'spill': 20, 'mastic': 23, 'stump': 10, 'duoden': 18, 'trnf': 2, 'strg': 1, 'iliostomi': 2, 'dh': 2, 'hemodynm': 6, 'smal': 3, 'colectomi': 19, 'cline': 2, 'ileostomi': 9, 'sang': 22, 'liason': 3, 'telfa': 4, 'counter': 1, 'cvf': 1, 'cannuala': 1, 'luck': 1, 'recievi': 2, 'yanker': 4, 'lispro': 3, 'research': 1, 'predormin': 1, 'xperson': 1, 'ident': 12, 'replenish': 9, 'glove': 2, 'gastic': 1, 'ultrason': 2, 'inabilti': 2, 'abrais': 3, 'dyspnoic': 1, 'isoptin': 1, 'wnc': 1, 'hab': 2, 'facilti': 1, 'spivira': 1, 'underway': 6, 'acetlycystein': 1, 'acapella': 8, 'grandchild': 1, 'productv': 1, 'mini': 19, 'rid': 3, 'afterword': 1, 'inculin': 1, 'ek': 1, 'ringer': 1, 'hyperact': 17, 'defict': 1, 'singular': 1, 'coved': 1, 'verapamil': 6, 'asssess': 3, 'temder': 1, 'tachypnec': 1, 'perin': 22, 'ducos': 1, 'verapim': 1, 'bbb': 7, 'minitrach': 1, 'freewat': 1, 'abruptli': 4, 'covers': 1, 'varapamil': 1, 'thristi': 2, 'rosolv': 1, 'peptamen': 6, 'dyspnic': 10, \"'ll\": 7, 'ssic': 4, 'pericolac': 1, 'angiocath': 3, 'domboro': 1, 'nonrot': 1, 'cellulti': 1, 'chees': 7, 'specialist': 7, 'pti': 2, 'quo': 2, 'celluluit': 1, 'lowgrad': 4, 'chec': 1, 'intro': 4, 'strate': 1, 'dced': 5, 'dombro': 1, 'backsid': 8, 'isordil': 13, 'redder': 2, 'calf': 65, 'rxd': 5, 'tuck': 20, 'macer': 3, 'exceed': 5, 'dietari': 19, 'sqeez': 2, 'suspend': 4, 'stabk': 1, 'suppport': 5, 'tracheostom': 1, 'passemuir': 4, 'ioocc': 1, 'reconfirm': 7, 'gase': 23, 'dept': 8, 'nj': 2, 'creas': 3, 'tare': 1, 'chged': 2, 'dht': 6, 'flowbi': 3, 'tired': 3, 'harder': 7, 'nonpurpos': 6, 'indur': 5, 'sleeper': 3, 'damp': 8, 'custard': 23, 'crack': 23, 'tracheostoma': 1, 'peristalsi': 5, 'piclin': 1, 'caas': 1, 'cked': 1, 'pediatr': 2, 'hemodi': 7, 'peramet': 1, 'frree': 1, 'crm': 2, 'cto': 1, 'sete': 2, 'tonoct': 3, 'jello': 17, 'folllow': 5, 'ch': 10, 'centemet': 1, 'linin': 2, 'resepct': 1, 'peditub': 5, 'oxacillin': 11, 'dombero': 1, 'developmemt': 1, 'reatless': 1, 'humeru': 16, 'precuat': 5, 'oxa': 2, 'appox': 2, 'stabe': 4, 'brn': 5, 'reveiw': 6, 'appil': 1, 'rubor': 2, 'soak': 17, 'pegtub': 3, 'bronchospast': 21, 'requri': 2, 'neighbor': 5, 'unchg': 6, 'apt': 7, 'dobhof': 2, 'proph': 4, 'drier': 2, 'demon': 1, 'huo': 20, 'slip': 9, 'doboff': 8, 'freee': 1, 'passimuir': 1, 'encoura': 1, 'uncomfortt': 1, 'abrad': 2, 'hyper': 15, \"'sm\": 1, 'ada': 1, 'farther': 1, 'advancint': 1, 'morbidli': 5, 'msra': 4, 'antecubit': 12, 'bibasilari': 3, 'settinf': 1, 'immobil': 15, 'recx': 2, 'suppot': 1, 'sta': 9, 'medd': 1, 'conscious': 13, 'ocntact': 1, 'asucult': 2, 'wiht': 12, 'tolal': 1, 'sinemet': 11, 'repelt': 6, 'aquaphor': 6, 'cufflat': 1, 'beginn': 1, 'loudli': 8, 'inexsufl': 1, 'andresp': 1, 'dfddp': 10, 'bacterem': 3, 'neurro': 1, 'estrang': 5, 'azithomycin': 2, 'ceftazadin': 2, 'soldier': 1, 'sing': 7, 'blind': 17, 'schizoaffect': 9, 'tune': 4, 'irish': 1, 'contractil': 28, 'superinfect': 16, 'mgr': 3, 'underestim': 27, 'captur': 14, 'oseltamivir': 13, 'pitch': 6, 'takatsubo': 1, 'pcwp': 42, 'postoffic': 1, 'akinet': 12, 'ion': 8, 'sympathet': 3, \"adl'\": 1, 'autoregul': 8, 'incurr': 1, 'cpod': 1, 'coincid': 6, 'akinesi': 21, 'insiratori': 1, 'sequenti': 7, 'neeed': 2, 'remnant': 11, 'tacyhcardia': 1, 'aicd': 17, 'tamiflu': 32, 'stitch': 14, 'tamaflu': 2, 'leucocytosi': 4, 'antrov': 1, 'superven': 33, 'recrudesc': 5, 'agenc': 2, 'dicloxacillin': 4, 'overnigt': 2, 'quantifi': 17, 'staphylococc': 1, 'augmentat': 1, 'tdi': 28, 'sulfonamid': 26, 'episdo': 1, 'nativ': 9, 'salmeterol': 13, 'hemiblock': 7, 'sypathet': 1, 'acoust': 24, 'inferosept': 10, 'supraclavicular': 103, 'construct': 4, 'timolol': 4, 'suicid': 51, 'epo': 7, 'allopurinol': 15, 'dfa': 44, 'doxazosin': 2, \"ab'\": 3, 'paradox': 63, 'ferrou': 18, 'nephropathi': 17, 'spirometri': 44, 'nephrew': 1, 'predison': 4, 'cw': 5, 'parent': 26, 'antibodi': 14, 'receptor': 3, 'epogen': 10, 'recvd': 6, 'juvenil': 1, 'drk': 4, 'bd': 4, 'hematochezia': 11, 'melena': 20, 'endors': 13, 'nonprodut': 1, 'gastroenter': 5, 'sevelam': 11, 'hyperliipidemia': 1, 'cracker': 20, 'orthopnea': 58, 'qmwf': 3, 'dorzolamid': 1, 'dka': 8, 'tapazol': 1, 'rosuvastatin': 4, 'unwel': 2, 'rheumatoid': 7, 'sparingli': 6, 'ggo': 12, 'ativen': 2, 'hickman': 8, 'sneez': 2, 'mluitpl': 1, 'spefic': 1, 'minoxidil': 2, 'diffiuclti': 2, 'matern': 2, 'nephrocap': 10, 'calcitriol': 5, 'shcedul': 1, 'bradycardiac': 2, 'cheek': 12, 'nysatin': 1, 'rhonchii': 3, 'clinda': 24, 'traumat': 21, 'resposnd': 1, 'exampl': 23, 'comput': 15, 'bad': 22, 'respolar': 4, 'unrepons': 1, 'oralphagheng': 1, 'noseble': 2, 'latharg': 2, 'suctiopn': 1, 'grreni': 1, 'assum': 26, 'deliber': 5, 'threshold': 48, 'bordelin': 1, 'dot': 5, 'errythemia': 1, 'nasopharg': 1, 'fight': 15, 'essentu': 1, 'bulk': 8, 'throughou': 2, 'teniou': 3, 'greenish': 20, 'satisfactorili': 7, 'antb': 4, 'antidepress': 5, 'suprapub': 15, 'thread': 9, 'ofd': 1, 'oputput': 1, 'sclerosi': 23, 'neutrapho': 15, 'laid': 11, 'louder': 4, 'differnt': 1, 'kpho': 19, 'hhn': 15, 'sbop': 1, 'intrial': 1, 'thorocentesi': 5, 'fibrot': 20, 'eas': 20, 'antihypotens': 1, 'subq': 21, 'fll': 1, 'ceftriax': 10, 'uninfect': 1, 'imdur': 10, 'medex': 1, 'tiotropium': 13, 'levoxyl': 2, 'biv': 1, 'overmed': 4, 'tiotroprium': 1, 'parapneumon': 21, 'echocardiogram': 29, 'witht': 1, 'scatt': 5, 'neutropen': 18, 'lix': 7, 'drunk': 2, 'promininc': 1, 'dbe': 1, 'abiltiy': 1, 'advic': 9, 'reiter': 6, 'usg': 12, 'tyelenol': 5, 'acylovir': 2, 'betablock': 7, 'lactos': 3, 'acyclivir': 1, 'turgur': 1, 'heamodynam': 1, 'tech': 13, 'fullstrength': 1, 'grandaught': 5, 'nutritionist': 3, 'spiroment': 1, 'seraquel': 7, 'dobboff': 1, 'posey': 9, 'senekot': 2, 'oxicillin': 3, 'dynamap': 1, 'rla': 6, 'cdb': 52, 'deeper': 7, 'ipmi': 1, 'rsc': 15, 'epstudi': 1, 'dynam': 24, 'itat': 1, 'bppp': 4, 'isorbid': 5, 'tympan': 6, 'inotropi': 2, 'anieti': 2, 'rpp': 2, 'toursad': 1, 'lwr': 3, 'diuiresi': 2, 'nesiritid': 1, 'sobo': 2, 'guess': 4, 'nite': 12, 'hot': 21, 'amiodron': 1, 'repsons': 4, 'defib': 3, 'nml': 10, 'defibril': 13, 'torsad': 2, 'natrecor': 3, 'repsond': 2, 'jag': 3, 'oxi': 3, 'ci': 26, 'pb': 9, 'cartoon': 1, 'afraid': 13, 'varifi': 2, 'culutr': 5, 'insuffic': 2, 'floroscopi': 1, 'ceftrixon': 5, 'scrotum': 19, 'ronchoru': 3, 'seemingli': 9, 'flaggyl': 4, 'nystantin': 2, 'ambulatori': 11, 'core': 8, 'bollu': 2, 'love': 8, 'pseudomoni': 4, 'noisi': 3, 'intrens': 1, 'overrid': 1, 'nasopharynx': 10, 'presser': 5, 'plat': 16, 'yankaur': 17, 'peni': 12, 'nasoendotrach': 2, 'cosyntropin': 2, 'tritrat': 1, 'sad': 8, 'repalc': 1, 'nursimg': 1, 'boarderlin': 5, 'channel': 12, 'btb': 4, 'withp': 1, 'superiorli': 17, 'vaselin': 5, 'bibasalar': 4, 'phelibit': 1, 'decras': 2, '^^^secret': 1, 'axo': 4, '^^drng': 1, 'propophol': 2, 'pustul': 4, 'fibr': 2, 'chnager': 1, 'characterist': 6, 'boyfriend': 9, 'pipercillin': 9, 'flunk': 1, 'persistantli': 5, 'neeld': 1, 'stuff': 2, 'rplace': 1, 'uprbc': 23, 'cephalid': 1, 'oohr': 1, 'negaiv': 1, 'sectret': 7, 'spe': 1, 'seek': 19, 'efect': 4, 'acetamenophen': 1, 'caval': 10, 'superivis': 1, \"mod't\": 1, 'promo': 1, 'steristrip': 6, 'piccc': 2, 'elastoplast': 2, 'excit': 10, 'grren': 2, 'psi': 11, 'inqueri': 2, \"dc'd\": 3, 'hydropneumothorax': 13, 'toiley': 1, '^^rr': 6, 'govem': 1, 'mascer': 3, 'afternon': 1, 'fir': 2, 'coooper': 1, 'acetamenoph': 1, 'probalac': 2, 'secreton': 2, 'scx': 3, 'uri': 14, 'cautiou': 12, 'chronc': 1, 'rebound': 72, 'overhydr': 28, 'repost': 7, 'avandia': 2, 'careplan': 2, 'seat': 74, 'maleat': 10, 'microcyt': 5, 'hydraden': 1, 'hidraden': 1, 'oseltamavir': 3, 'metformin': 15, 'nto': 2, 'obs': 2, 'rosiglitazon': 2, 'labia': 7, 'hemodilut': 9, 'tameflu': 1, 'ccrn': 2, 'zocyn': 6, 'nephrotoxin': 21, 'hemodyn': 10, 'alrm': 2, 'awoken': 9, 'stoke': 6, 'wheezey': 8, 'rhocher': 1, 'prodcut': 1, 'apporach': 1, 'ultrum': 1, 'initaietd': 1, 'obj': 9, 'bellegeri': 1, 'pndg': 16, 'belong': 24, 'ceft': 3, 'belliger': 6, 'naprosyn': 1, 'anaesthesia': 3, 'tray': 10, 'transf': 4, 'giddi': 1, 'nrsg': 2, 'untoward': 4, 'sponaten': 4, 'fundtion': 1, 'stethoscop': 2, 'afebreil': 1, 'deviationta': 1, 'armboard': 2, 'workload': 4, 'pharmacolog': 4, 'dobutamin': 7, 'curiou': 2, 'couplet': 12, 'sporat': 2, 'indomethacin': 2, 'peic': 1, 'fetal': 3, 'photophobia': 4, 'extraaxi': 6, 'exsist': 1, 'ibuprophen': 3, 'nsvt': 16, 'bitempor': 3, 'photophob': 1, 'aslo': 3, 'unreliev': 2, 'triplet': 2, 'fruit': 6, 'folow': 6, 'quicker': 4, 'supper': 9, 'indecis': 2, 'woth': 1, 'granola': 1, 'spurt': 1, 'peanut': 5, 'ilmprov': 1, 'spar': 1, 'dime': 9, 'evalaut': 7, 'everyday': 7, 'deast': 1, 'kitchen': 12, 'bactrium': 2, 'tto': 3, 'suppo': 5, 'senecot': 2, 'sulfameth': 6, 'aoid': 1, 'de': 37, 'rhand': 1, 'duc': 1, 'bore': 16, 'clincal': 1, 'butter': 4, 'myomectomi': 1, 'apac': 3, 'electrod': 10, 'intrins': 33, 'molar': 2, 'preop': 8, 'inapprop': 2, 'crown': 2, 'surveil': 32, 'cardioresp': 2, 'dilaud': 3, 'paravalvular': 1, 'blur': 15, 'assymetr': 3, 'periap': 3, 'intaop': 1, 'saphen': 7, 'flail': 5, 'mvr': 18, 'glycopyrrol': 12, 'antiphospholipid': 4, 'torn': 5, 'semiupright': 7, 'panorex': 4, 'airleak': 9, 'antisialogogu': 8, 'bandag': 14, 'interpreter': 1, 'disappear': 2, 'transvalvular': 9, 'hocm': 1, 'bileaflet': 2, 'grunt': 6, 'dissolv': 2, 'reduce': 1, 'amitryptilin': 1, 'comit': 1, 'kerlex': 8, 'snore': 5, 'risbi': 26, 'supris': 1, 'dulc': 5, 'oj': 4, 'respit': 1, 'alpha': 5, 'reinutab': 1, 'scaley': 1, 'hift': 2, 'lactalos': 4, 'ceftazadim': 7, 'impuls': 9, 'theraft': 1, 'multilumen': 9, 'trypsin': 1, 'antipsycot': 2, 'angiogram': 17, 'contd': 17, 'aralast': 1, 'department': 10, 'ivdu': 13, 'olanzipin': 3, 'broncial': 1, 'bisacoyl': 1, 'antitrypsin': 1, 'maee': 5, 'antialpha': 1, 'replt': 1, 'circul': 18, 'growl': 2, 'bled': 9, 'residula': 1, 'humulog': 7, 'spontanoeu': 1, 'reden': 11, 'distened': 3, 'prophylacticlli': 1, 'flame': 1, 'upsid': 2, 'pin': 8, 'cing': 7, 'wea': 4, 'squirm': 4, 'subl': 1, 'perscib': 1, 'dramat': 29, 'equla': 1, 'distract': 5, 'myconazol': 7, 'mgtid': 1, 'doc': 1, 'undigest': 13, 'corner': 11, 'lieu': 4, 'rose': 17, 'ahd': 4, 'haladol': 1, \"c'ing\": 7, 'specifi': 11, 'cefatzadim': 1, 'lias': 3, 'fossa': 27, 'cavitari': 19, 'wether': 2, 'ziprasidon': 1, \"'ve\": 4, 'flirt': 1, 'oximetri': 1, 'geodan': 1, 'magnet': 15, 'ngtube': 2, 'unfocus': 1, 'mra': 18, 'resapiratori': 1, 'accident': 13, 'writh': 3, 'news': 3, 'forth': 7, 'checklist': 5, 'amitriptylin': 3, 'disconnect': 15, 'perpetu': 2, \"d'cd\": 8, 'multidisiciplinari': 2, 'vegat': 1, 'extremitit': 3, 'vegiat': 1, 'acl': 13, 'spanish': 16, 'gpr': 9, 'drool': 4, 'coexsist': 1, 'cmbivent': 1, 'depressor': 1, 'difficulr': 1, 'depent': 2, 'quadrapleg': 1, 'staabl': 1, 'mdght': 2, 'secrat': 2, 'judgement': 4, 'semierect': 3, 'multilocul': 6, 'waters': 14, 'thoracotomi': 18, 'hole': 20, 'forti': 2, 'intercost': 12, 'presnt': 3, 'lihgt': 1, 'decresa': 1, 'cogh': 2, 'overnihght': 1, 'rivert': 1, 'lelev': 1, 'socila': 1, 'subutan': 10, 'rent': 4, 'flare': 46, 'dream': 5, 'overtli': 4, 'hisotri': 1, 'fq': 4, 'paralysi': 24, 'thorcaic': 1, 'ambient': 7, 'org': 4, 'cephalosporin': 10, \"epi'\": 1, 'intertrochanter': 4, 'pect': 1, 'nortriptylin': 4, 'rehir': 1, 'debat': 3, 'acth': 1, 'omr': 61, 'spnal': 1, 'glad': 2, 'bact': 8, 'silhouet': 14, 'broaden': 35, 'tyesterday': 1, 'exactli': 7, 'vesiculo': 1, 'financ': 1, 'repelet': 2, 'vesicular': 4, 'calibr': 8, 'licsw': 20, 'lifelin': 2, 'adhes': 22, 'ce': 64, 'clergi': 16, 'inclu': 1, 'tizanidin': 3, 'rapidli': 39, 'flosheet': 1, 'chocol': 5, 'fllet': 1, 'pnoon': 1, 'ventimask': 11, 'charact': 5, 'changedto': 1, 'discu': 5, 'concur': 4, 'nitropast': 9, 'hotnsiv': 3, 'spite': 10, 'rabbi': 8, 'genit': 2, 'donepezil': 11, 'lengthi': 13, 'instabl': 39, 'drive': 32, 'hyalin': 2, 'uptitr': 18, 'citalopram': 18, 'deterior': 43, 'anger': 6, 'unrealist': 2, 'afterload': 21, 'serious': 4, 'death': 14, 'diurisei': 1, 'subj': 3, 'bye': 1, 'dirti': 16, 'scopalamin': 6, 'fulfil': 2, 'idioventricular': 3, 'daugther': 4, 'busi': 8, 'untreat': 8, 'hj': 1, 'appropr': 1, 'giv': 1, 'donezipil': 1, 'lij': 19, 'oropharyngela': 1, 'advoc': 5, 'tachypneac': 2, 'memantin': 4, 'rythym': 8, 'likelihood': 22, 'immin': 2, 'thromu': 1, 'neutopho': 1, 'analgesia': 8, 'osteoporosi': 26, 'discont': 3, 'fxn': 30, 'facemask': 23, 'clinician': 43, 'equilibrium': 1, 'heaprin': 4, 'syncop': 16, 'hemodyanm': 2, 'llsb': 7, 'vasovag': 3, 'vulner': 1, 'aphasia': 18, 'hemodynim': 12, 'chng': 3, 'pci': 13, 'gib': 35, 'tnsf': 5, 'carvedilol': 14, 'caglucon': 1, 'awean': 1, 'indenpedantli': 1, 'pnu': 1, 'serousangin': 4, 'raet': 1, 'rebump': 1, 'consistenli': 4, 'restrart': 1, 'cco': 4, 'rewrap': 1, 'capto': 1, 'redicat': 1, 'jp': 12, 'mch': 2, 'biphas': 7, 'epinephrin': 14, 'pplat': 8, 'awir': 1, 'bollus': 2, 'mentali': 1, 'cardiopulm': 9, 'diag': 10, 'gastroduoden': 3, 'billeou': 1, 'stidor': 1, 'faintli': 1, 'prebypass': 2, 'stepdown': 7, 'greed': 1, 'progre': 1, 'thorecentesi': 2, 'effust': 1, 'cagluc': 2, 'yellowbrown': 1, 'retal': 1, 'nhp': 1, 'pedial': 6, 'reamin': 6, 'milrinon': 5, 'dra': 12, 'milironon': 1, 'diffficult': 1, 'demor': 2, 'origen': 2, 'traponin': 1, 'plerur': 1, 'effuss': 7, 'pulmari': 1, 'comtin': 1, 'enquier': 2, 'stit': 1, 'persis': 3, 'thermodilut': 3, 'inadvert': 5, 'diaphores': 1, 'flinch': 2, 'prop': 25, 'precuaut': 1, 'posibl': 7, 'absorbs': 1, 'mvo': 3, 'defecit': 6, 'sttol': 1, 'frang': 1, 'antero': 1, 'thickyellowish': 1, 'demisish': 1, 'fick': 8, 'sbg': 1, 'ballon': 9, 'testic': 1, 'ucg': 2, 'tvi': 5, 'nippl': 5, 'abcess': 22, 'creatin': 7, 'stble': 1, 'orderd': 9, 'om': 18, 'cellsav': 1, 'defervesc': 11, 'crepiti': 3, 'veloc': 33, 'vg': 1, 'signift': 1, 'unattend': 2, 'subtheraput': 2, 'fentanyli': 1, 'hiccough': 1, 'ez': 4, 'gon': 1, 'alkalemia': 13, 'booboo': 1, 'barrium': 1, 'imi': 2, 'lima': 3, 'vr': 10, 'sunction': 3, 'beliger': 3, 'restaint': 4, 'postbypass': 1, 'antiobiot': 12, 'bradypn': 1, 'wel': 3, 'resed': 3, 'sshumulog': 2, 'sov': 1, 'dietician': 4, 'recognis': 2, 'angioplasti': 12, 'coreg': 8, 'milr': 2, 'culprit': 7, 'aspriat': 5, 'corti': 2, 'swr': 1, 'thermodil': 1, 'wenesday': 2, 'shiever': 1, 'cardiogen': 36, 'inotrop': 2, 'lwsxn': 2, 'tof': 8, 'receic': 2, 'beer': 4, 'ond': 1, 'yankuar': 3, 'nuerolog': 2, 'inth': 7, 'noreepi': 1, 'purpl': 17, 'bs^': 1, \"dt'\": 1, 'remmind': 1, 'norepi': 6, 'wap': 5, 'pervent': 2, 'aucult': 3, 'epsiod': 3, 'mant': 1, 'fentenyl': 4, 'healthey': 1, 'addenidum': 1, 'secondri': 1, 'chosen': 13, 'diltazem': 1, 'pleuracentesi': 1, 'kerley': 6, 'diltizem': 6, 'riesman': 3, 'otc': 3, 'nigth': 3, 'dilatiazem': 1, 'pneumomia': 2, 'moh': 1, 'pulmonologist': 11, 'dorbipenem': 1, 'pnysic': 1, 'nsaid': 13, 'pertussi': 2, 'tvr': 1, 'fluoroquinolon': 6, 'hyperparathyroid': 5, 'parox': 1, 'chad': 11, 'deropenem': 1, 'spironolacton': 7, 'pertusi': 2, 'ferment': 1, 'guafenesi': 1, 'maxilla': 4, 'mucolyt': 2, 'qualifi': 7, 'behav': 2, 'bronchiectesi': 3, 'ipatropium': 4, 'psa': 8, 'doripenem': 2, 'surpris': 9, 'fot': 2, 'nicotin': 18, 'ecymosi': 1, 'spicul': 9, 'multilevel': 42, 'mitt': 9, 'prescenc': 1, 'aggressiv': 1, 'epulmonari': 1, 'upperairway': 3, 'psychosi': 9, 'previo': 3, 'cdc': 2, 'hest': 1, 'sediat': 1, 'emb': 1, 'drank': 11, 'inepend': 1, 'recomend': 7, 'atelactasi': 3, 'que': 1, 'yougart': 1, 'diffuculti': 3, 'aeratin': 1, 'psycosi': 1, 'vancomyc': 1, 'occulud': 1, 'ultsnd': 2, 'blast': 5, 'cooki': 12, 'eccymosi': 7, 'xopenex': 15, 'whennam': 1, 'pneumococcu': 4, 'slecp': 1, 'symptomat': 27, 'pneurmonia': 2, 'valuim': 2, 'worth': 6, 'hepatopulmonari': 1, 'vaccin': 55, 'urol': 1, 'esophagogastrostomi': 1, 'ccr': 4, 'kayexyl': 2, 'hypothyrod': 1, 'bandemia': 29, 'abdominu': 2, 'wegen': 6, 'crescent': 2, 'diazepam': 12, 'cocain': 14, 'durabl': 4, 'amlodipin': 24, 'brachytherapi': 3, 'span': 13, 'failurelik': 1, 'esophagectomi': 5, 'laparotomi': 8, 'pneumocysti': 18, 'radiotherapi': 5, 'shuvel': 1, 'rectu': 9, 'melanoptosi': 1, 'chemoradi': 6, 'hemoptysi': 33, 'esoph': 6, 'paramediastin': 10, 'hypertensioncurr': 1, '`': 13, 'chemotherapi': 30, 'gall': 13, \"po'\": 2, 'videofluoroscopi': 29, 'nari': 8, 'gastrosotmi': 2, 'hurrican': 2, 'coalesc': 6, 'teaspoon': 6, 'dfdkq': 10, 'aw': 1, 'perf': 9, 'nocardiosi': 1, 'sequenc': 20, 'pug': 2, 'corticomedullari': 4, 'coarsen': 10, 'lrge': 6, 'sludgi': 2, 'hypointens': 8, 'sough': 1, 'expecor': 1, 'effevt': 1, 'vibe': 1, 'fk': 4, 'tesla': 9, 'imbal': 4, 'nocardia': 3, 'imp': 5, 'uni': 8, 'hypercholesteremia': 2, 'venipuctur': 1, 'hyperchol': 2, 'lucid': 11, 'sussept': 1, 'inphas': 1, 'exquisit': 1, 'imipenuim': 1, 'ure': 6, 'leftsid': 1, 'milki': 2, 'substani': 2, 'ersd': 2, 'procardia': 5, 'manner': 12, 'ceftax': 4, 'hast': 1, 'repsir': 1, 'olecranon': 1, 'chlorothiasid': 1, 'enoucrag': 1, 'chowder': 1, 'frig': 1, 'avb': 11, 'pool': 12, 'chlorothiazid': 3, 'metamucil': 2, 'duiril': 1, 'dayshift': 5, 'yogurt': 3, 'anyway': 6, 'biscodyl': 5, 'sxting': 2, 'bkft': 1, 'efficaci': 6, 'wafer': 1, 'remenisc': 1, 'uninterest': 2, 'brighten': 1, 'engag': 20, 'cereal': 5, 'energi': 8, 'bowl': 5, 'negatiov': 1, 'probabali': 1, 'daytim': 46, 'amyloid': 4, 'coumdadin': 1, 'sug': 4, 'bother': 11, 'eproxi': 1, 'initait': 1, 'car': 13, 'howver': 1, 'nitroglycerin': 15, 'sacroiliac': 5, 'vestibul': 6, 'marcan': 1, 'sizeabl': 4, 'propuls': 16, 'detox': 5, 'piriform': 20, 'fac': 1, 'prorgess': 1, 'infilatr': 2, 'aciti': 1, 'flattu': 1, 'lyy': 1, 'regiman': 3, 'facet': 13, 'toiler': 1, 'thrill': 9, 'cellcept': 4, 'highflow': 1, 'extrmiti': 1, 'elbo': 1, 'priest': 3, 'minlabor': 1, 'gentli': 27, 'tongiht': 3, 'metolazon': 5, 'disfunct': 1, 'enag': 1, 'carpal': 6, 'rsr': 20, 'pruriti': 2, 'pulsatil': 2, 'ckd': 39, 'fistulogram': 2, 'arterioven': 1, 'intracellular': 1, 'vii': 4, 'hemostasi': 13, 'likelihoood': 1, 'scalp': 6, 'injector': 1, 'alternan': 3, 'skip': 3, 'fistulagram': 1, 'anastomosi': 9, 'wenckebach': 3, 'percocoet': 1, 'huddl': 21, 'translum': 1, 'stenos': 4, 'hyperdens': 24, 'urem': 4, 'inattent': 2, 'tall': 4, 'overdu': 1, 'orbit': 16, 'venogram': 11, 'squeak': 6, 'enya': 18, 'hyperphsophatemia': 1, 'dilit': 10, 'noncompli': 11, 'intraorbit': 1, 'warrant': 32, 'xii': 14, 'renagel': 4, 'hydroxizin': 1, 'chb': 3, 'flesh': 2, 'cepodoxim': 1, 'legionel': 3, 'svv': 1, 'tcdb': 14, 'immunolog': 44, 'slighlt': 1, 'concomin': 1, 'coler': 2, 'unrev': 25, 'turp': 8, 'handrail': 1, 'hapto': 5, 'cltx': 1, 'neurophysiolog': 2, 'persisit': 1, 'rhale': 3, 'conjuntiv': 1, 'wrr': 1, 'ld': 9, 'floridli': 1, 'breathless': 6, 'immunocompromis': 56, 'underwhelm': 4, 'webtag': 9, 'unread': 2, 'ketaconazol': 1, 'jude': 1, 'hemolysi': 25, 'downtrend': 11, 'jejuni': 1, 'hemodyanam': 2, 'pah': 5, 'split': 51, 'hflu': 3, 'fluild': 1, 'classic': 7, 'group': 20, 'lmore': 1, 'ucltx': 1, 'contra': 6, 'contriubut': 1, 'diruesi': 6, 'ai': 6, 'cefpodoxim': 8, 'atov': 1, 'gb': 9, 'remeb': 1, 'noro': 1, 'yetread': 1, 'bioprosthesi': 5, 'tendenc': 10, 'vigileo': 3, 'lupron': 5, 'driven': 3, 'javascript': 9, 'loperamid': 2, 'azithroymcin': 1, 'florrid': 1, 'transven': 26, 'sensitivt': 1, 'acheiev': 1, 'sclara': 1, 'trand': 1, 'laryngospasm': 1, 'avelox': 1, 'laugh': 7, 'contr': 1, 'rmg': 1, 'unconcern': 2, 'col': 4, 'haptoglobin': 8, 'error': 29, 'popup': 9, 'interpretor': 5, 'maintan': 8, 'rxn': 11, 'interstitium': 3, 'occult': 22, 'assign': 13, 'absolut': 4, 'indepemnd': 1, 'uppper': 5, 'cetaz': 1, 'movemont': 1, 'aaspir': 1, 'circumst': 11, 'vacomycin': 3, 'degrener': 1, 'probali': 1, 'ceftz': 2, 'rune': 1, 'contus': 4, 'oa': 10, 'tachpnea': 3, 'temo': 1, 'proteu': 8, 'crepit': 2, 'dismotil': 2, 'idiopath': 10, 'taler': 2, 'oca': 5, 'diverticuli': 4, 'weap': 7, 'intraservic': 11, '^bun': 1, 'pkt': 9, 'pararen': 1, 'petroleum': 1, 'immunosuppres': 6, 'exal': 1, 'amalyas': 1, 'navig': 2, 'brachiel': 1, 'lgt': 1, 'insuff': 4, 'wordk': 1, 'foll': 2, 'fascia': 3, '^abd': 1, 'sched': 8, 'atro': 20, 'hemolyz': 10, '^k': 1, 'reject': 11, 'absorpt': 10, 'kmcd': 2, 'anckl': 1, 'gastrojejun': 7, 'ambian': 2, 'vevel': 1, 'unclot': 2, 'miniscul': 3, 'adb': 2, 'sml': 19, 'salmon': 1, 'blaot': 1, 'inguni': 1, 'elecv': 1, 'aricept': 7, 'sabath': 1, 'dyspenia': 1, 'grad': 3, 'yank': 1, 'scrape': 1, 'primairli': 1, 'kosher': 3, 'lotrisom': 1, 'studio': 1, 'creatnin': 6, 'lbm': 11, 'bolt': 9, 'lighter': 6, 'bulbou': 1, 'hilu': 14, 'azyg': 8, 'kkgc': 17, 'epiglotti': 5, 'immeadi': 1, 'redraw': 10, 'noght': 1, 'kerlix': 4, '^from': 1, 'sternum': 11, 'cage': 9, 'bidh': 1, '^vt': 1, 'pen': 10, 'arpund': 1, 'eccymot': 18, 'afluttt': 1, 'surguri': 2, 'angiomyolipoma': 3, 'azithromicyn': 1, 'aaa': 14, 'aml': 14, 'nondiagnost': 10, 'reloc': 3, 'osteophyt': 21, 'copper': 4, 'rbbi': 1, 'inhibit': 2, 'ntd': 6, 'soln': 20, 'suck': 4, 'sup': 16, 'protrud': 23, 'glucagon': 7, 'censu': 2, 'bul': 11, 'mirapex': 4, 'precedex': 7, 'respirartori': 3, 'foi': 27, 'albeit': 5, 'neurosurgeon': 4, 'anitibiot': 2, 'batteri': 6, 'yesterrday': 1, 'labial': 27, 'vasectomi': 1, 'lingual': 21, 'annuloplasti': 6, 'presedex': 2, 'kyphot': 11, 'pramipexol': 1, 'desta': 1, 'tamsar': 1, 'protien': 1, 'nasotrachi': 6, 'ctga': 1, 'inceas': 3, 'answr': 1, 'azithromyin': 3, 'marri': 21, 'fluent': 36, 'dysmetria': 1, 'bronchoalveolar': 9, 'mango': 1, 'acetylcystein': 4, 'compensatori': 9, 'mmcosgroveannuloplasti': 1, 'flavor': 1, 'precidex': 3, 'leukocyt': 20, 'perist': 6, 'neurologist': 5, 'rsv': 13, 'laparoscop': 4, 'cane': 9, 'ltach': 9, 'pneumona': 5, 'hoars': 17, 'tachypnia': 4, 'disk': 7, 'extuabt': 9, 'formulari': 5, 'polymorphonuclear': 13, 'meningioma': 2, 'ettub': 1, 'drown': 3, 'cfu': 7, 'multilobular': 5, 'disintegr': 11, 'runni': 2, 'kyphosi': 20, 'cutur': 3, 'beig': 3, 'crestor': 3, 'rspiratori': 2, 'choos': 9, 'ih': 22, 'spt': 9, 'herniat': 11, 'intellig': 7, 'ili': 4, 'antianieti': 1, 'wb': 4, 'tolcapon': 1, 'tsp': 31, 'resdient': 4, 'incisor': 6, 'halway': 1, 'countour': 1, 'conf': 3, 'scoot': 1, 'smeari': 1, 'mough': 1, 'restain': 2, 'nuetrin': 1, 'emtion': 3, 'incoher': 4, 'slit': 1, 'consentr': 1, 'vebal': 1, 'mitten': 2, 'skizophrenia': 1, 'dsoft': 1, 'conceiv': 5, 'comdom': 2, 'rotatori': 2, 'consistencei': 1, 'modif': 8, 'dextroscoliosi': 8, 'nponproduct': 1, 'thoracolumbar': 18, 'dischag': 2, 'antiseizur': 2, 'fixat': 15, 'scoliosi': 30, 'wanst': 1, 'poe': 16, 'pg': 6, 'web': 5, 'nector': 3, 'clossur': 1, 'palsi': 7, 'rous': 7, 'distor': 1, 'extremti': 6, 'valpraot': 1, 'killian': 1, 'subdiaphragmat': 67, 'meningoenceph': 2, 'diplopia': 2, 'host': 6, 'jxkc': 6, 'rescucit': 4, 'lobul': 8, 'hemeroid': 1, 'plasma': 2, 'icter': 8, 'wsclip': 3, 'cytoxan': 5, 'paracentesi': 10, 'beeen': 1, 'reisman': 2, 'subcapsular': 3, 'beam': 6, 'cisplatin': 3, 'enou': 1, 'tensilon': 1, 'adriamycin': 1, 'producvt': 1, 'anecho': 4, 'billiari': 2, 'bio': 3, 'usclip': 5, 'ampillin': 1, 'secert': 1, 'workstat': 4, 'thymoma': 2, 'cantones': 7, 'dairi': 3, 'tarceva': 1, 'taxol': 3, 'unpasteur': 1, 'doxil': 1, 'ove': 2, 'adh': 3, 'paclitaxel': 1, 'hyposmol': 6, 'synthet': 3, 'subtract': 5, 'cardiorespiratori': 3, 'polydipsia': 2, 'hemmoroid': 1, 'atend': 1, 'thyoma': 1, 'myasthenia': 1, 'alimta': 1, 'bulki': 12, 'purula': 1, 'neoadjuv': 1, 'peipher': 1, 'suppress': 20, 'hyperbilirubinemia': 4, 'manifest': 17, 'listeria': 2, 'xeloda': 1, 'osmol': 3, 'cavo': 7, 'cholestat': 3, 'carboplatin': 4, 'encompass': 3, 'hyponatrem': 10, 'plasmapheresi': 1, 'topleura': 1, 'copiuo': 5, 'reactss': 1, 'brwn': 8, \"related'\": 1, 'asmt': 1, 'drainabl': 9, 'py': 4, 'amoutn': 4, 'voltga': 1, 'valsalva': 16, 'arma': 1, 'vevn': 1, 'hepatomegali': 7, 'wbc^': 2, 'dwn': 1, 'billari': 1, 'ilestomi': 1, 'vertebroplasti': 5, 'ydrianiang': 1, 'exel': 2, 'dimin': 6, 'dyapherit': 1, 'moderatr': 2, 'diminsish': 1, 'sinustach': 1, 'nec': 3, 'mtn': 1, 'ascess': 1, 'subsid': 21, 'tage': 1, 'comfot': 1, 'aphon': 4, 'elevati': 1, 'nse': 1, 'acsecss': 1, 'occus': 1, 'hematopoet': 1, 'lf': 6, 'ligh': 2, 'apparatu': 3, 'ctscan': 3, 'moniotr': 6, 'stoool': 3, 'labul': 1, 'dobbhoff': 31, 'mit': 4, 'expand': 33, 'unresolv': 3, 'foul': 21, 'spcific': 1, 'diverticular': 2, 'agrress': 2, 'hemodym': 3, 'blding': 1, 'cautar': 1, 'sulf': 3, 'enorm': 2, 'roxicet': 6, 'reticul': 6, 'revealedd': 1, 'ultra': 4, 'tachynea': 2, 'brth': 1, 'mvment': 1, 'respo': 1, 'secrett': 2, 'pneumotx': 1, 'tyelnol': 4, 'mechaniclli': 3, 'oid': 1, 'functioningand': 1, 'tachypin': 1, 'latex': 9, 'aqit': 1, 'diamox': 20, 'sestamibi': 1, 'constraint': 2, 'pronglon': 1, 'isc': 1, 'especailli': 1, 'intermittenli': 2, 'respon': 4, 'broncho': 6, 'postsurg': 6, 'coontrol': 1, 'pseuodomona': 1, 'amout': 7, 'bdline': 2, 'suctionin': 3, 'prophylax': 1, 'precarin': 19, 'disconect': 1, 'fidn': 1, 'tag': 3, 'hemodynimc': 1, 'sttled': 1, 'iso': 5, 'perfor': 21, \"huo'\": 1, 'eosphil': 1, 'ftw': 1, '^rr': 6, 'divert': 3, 'tia': 20, 'viist': 1, 'technetium': 1, 'psx': 2, 'snt': 5, 'spasm': 19, 'folvent': 1, 'legnth': 2, 'nauseaou': 2, 'floos': 1, 'bacteroid': 2, 'wkness': 1, 'eca': 5, 'pplan': 2, 'cca': 9, 'thorughout': 2, 'antbx': 13, 'drian': 4, 'abort': 10, 'hr^^': 5, 'craer': 1, 'startedon': 3, 'ward': 2, 'meta': 15, 'levofloxicin': 9, 'subchondr': 7, 'percordi': 1, 'descent': 2, 'text': 7, 'distess': 3, 'cutoff': 1, 'sychron': 1, 'occurr': 2, 'encouragingli': 3, 'adequet': 2, 'greatest': 22, 'cfv': 1, 'diverticula': 17, 'situ': 21, 'infuenza': 1, 'mainstem': 10, 'simvastain': 1, 'subcutaen': 1, 'rhonchou': 2, 'ran': 6, 'tmrw': 5, 'videoswallow': 7, 'diaures': 2, 'settng': 2, 'flowhseet': 1, 'zyti': 1, 'vw': 10, 'mdag': 15, 'pullm': 1, 'slice': 42, 'upgrad': 10, 'judici': 7, 'odd': 11, 'airflow': 4, 'intracavitari': 1, 'intermitenli': 2, 'apec': 2, 'distalmost': 2, 'pseudonorm': 5, 'pector': 11, 'cnii': 3, 'subotim': 1, 'tami': 1, 'osteopenia': 18, 'grid': 3, 'seech': 2, 'mesh': 6, 'cranial': 7, 'colonoscopi': 18, 'ventral': 11, 'andevid': 1, 'tem': 2, 'pulmonal': 4, 'sesha': 6, 'atrioventricular': 2, 'vacuum': 5, 'parasept': 9, 'pulmn': 2, 'hysterectomi': 8, 'sfv': 2, 'hasnt': 1, 'distinctli': 2, 'prilosec': 14, 'ceftazidin': 3, 'arthropathi': 5, 'bss': 2, 'egd': 29, 'stapl': 18, 'infx': 2, 'nissen': 1, 'evidenc': 22, 'recom': 2, 'zydi': 7, 'euvolemia': 7, 'pneumotho': 1, 'concurr': 31, 'atv': 4, 'safest': 6, 'dysarthria': 5, 'sylvian': 4, 'bulbar': 1, 'cong': 1, 'sah': 5, 'frontopariet': 3, 'injur': 3, 'subarachnoid': 7, 'evidens': 1, 'miconozol': 2, 'underarm': 2, 'etco': 4, 'decreasd': 1, 'str': 17, 'mnd': 2, 'fidgeti': 4, 'gmpo': 1, 'restraind': 2, 'legionalla': 5, 'adr': 3, 'abber': 1, 'hasmi': 1, 'fentlyl': 1, 'pimpl': 1, 'rnd': 1, 'htcz': 1, 'periarea': 4, 'ivpb': 9, 'perirash': 1, 'separ': 27, 'guiaiac': 1, 'strang': 4, 'nonform': 2, 'perihepat': 13, 'ssuction': 2, 'wilth': 1, 'pivx': 9, 'corridor': 1, 'yogert': 2, 'edemet': 3, 'hepati': 2, 'osteopen': 6, 'mpr': 1, 'rpc': 2, 'hadol': 2, 'presid': 6, 'overnit': 8, 'lite': 2, 'asbout': 1, 'afew': 1, 'purplish': 3, 'attem': 1, 'giggl': 1, 'nonfunct': 1, 'obay': 1, 'extyra': 1, 'bolum': 1, 'skew': 1, 'jumbl': 1, 'feegingh': 1, 'consolit': 1, 'retreat': 1, 'iffus': 1, 'ordr': 4, 'azm': 1, 'patern': 2, 'bilaterali': 7, 'deaf': 7, 'survail': 6, 'totaol': 1, 'meropeum': 1, 'reti': 1, 'xop': 1, 'evala': 1, 'insuffi': 3, 'lent': 2, 'neur': 2, 'magneisum': 1, 'xoponex': 5, 'tubefeed': 9, 'omn': 1, 'mdsi': 1, 'partic': 1, 'peerl': 7, 'lback': 1, \"mdi'\": 1, 'ccof': 1, 'flap': 6, 'orietn': 1, 'monr': 2, 'sift': 2, \"ue'\": 1, 'parapelv': 6, 'electrocardiogram': 1, 'addenda': 1, 'mutipl': 7, 'startd': 1, 'llu': 1, 'fdsg': 1, 'potentia': 1, 'etern': 1, 'reasssurr': 1, 'sennokot': 1, 'pesseri': 1, 'bsd': 8, 'clorazepam': 1, 'benzodiazepen': 1, 'parit': 2, 'fame': 1, 'ivm': 1, 'erethemat': 1, 'summer': 5, 'invl': 1, 'adaqu': 3, 'eczema': 1, 'mycostantin': 2, 'diminsih': 5, 'cappilari': 1, 'rmeian': 1, 'incorper': 1, 'movment': 8, 'hhe': 1, 'techiniqu': 1, 'mustard': 1, 'viabl': 2, 'tolaer': 1, 'abefril': 1, 'blackish': 2, 'laxilla': 1, 'dnrg': 1, 'meatey': 1, 'qi': 2, 'refocu': 1, 'extremli': 3, 'agig': 2, 'fnetanyl': 1, 'garrul': 1, 'tfeed': 7, 'upcom': 4, 'colistin': 5, 'jpx': 2, 'admittedli': 4, 'awaqr': 1, 'symmetri': 1, 'ccx': 3, 'daay': 1, 'dghtr': 1, 'costyntropin': 1, 'wnd': 3, 'exr': 1, 'append': 6, 'tlcc': 1, 'gluteu': 2, 'recommed': 3, 'albuter': 9, 'oject': 1, 'afeberil': 1, 'specfic': 2, 'colostrin': 1, 'repostit': 1, 'angeogram': 1, 'biggest': 2, 'medastin': 1, 'respns': 1, 'postit': 4, 'humor': 6, 'circut': 1, 'prvide': 1, 'goos': 1, 'washout': 8, 'urgenc': 13, 'diifus': 1, 'mereponuem': 1, 'ruddi': 2, 'muscular': 15, 'mulitpl': 10, 'screw': 7, 'magneisium': 1, 'appopri': 2, 'amm': 1, 'zeroform': 1, 'anxious': 4, \"jp'sx\": 1, 'ooa': 1, 'malleabl': 1, 'effexor': 3, 'wtihout': 1, 'dehisc': 7, 'epigastrium': 8, 'feburari': 1, 'fentyn': 8, 'earili': 1, 'yellaw': 1, \"svn'\": 1, 'elix': 3, 'kayexalt': 1, 'micub': 4, 'depict': 8, 'respitori': 5, \"'ye\": 2, 'servicv': 1, 'insens': 21, 'costochondr': 2, 'sixth': 4, 'convey': 13, 'lain': 1, 'tint': 2, 'solubl': 3, 'roux': 4, 'dislik': 3, 'mainatin': 2, 'placen': 1, 'reoirent': 1, 'aggres': 9, 'aniou': 1, 'faccid': 1, 'raspi': 5, 'pinken': 1, \"de'sat\": 1, 'suxn': 4, 'minin': 1, 'enterectomi': 1, 'anitbiot': 5, 'guiaic': 16, 'metizol': 1, 'rhonchial': 1, 'foeli': 1, 'intentd': 1, 'rectangular': 1, 'lastnight': 2, 'envelop': 3, 'awaint': 2, 'devot': 2, 'suctio': 1, 'en': 9, 'inteq': 1, 'lungfield': 2, 'vista': 4, 'auscleat': 1, 'tanish': 5, 'gien': 1, 'relativli': 1, 'wamr': 1, 'frc': 1, 'vasoilin': 1, 'linzolid': 1, 'lizinolid': 1, 'coas': 2, 'cathart': 1, 'wrsit': 1, 'levofloxin': 6, 'survalli': 1, 'vancxomycin': 1, 'neglig': 3, 'antbiot': 4, 'objecet': 1, 'thicket': 2, 'haerd': 1, 'cardin': 1, 'enquir': 2, 'explin': 3, 'regiem': 3, 'adenosin': 5, 'sct': 7, 'ceftadim': 1, 'episdod': 1, 'race': 3, 'anaemia': 1, 'preper': 4, 'orientd': 2, 'inclus': 4, 'tfdg': 1, 'immun': 9, \"'star\": 1, 'anal': 13, \"'broke\": 1, 'roho': 1, 'adq': 9, 'progess': 4, 'vagina': 2, 'sonc': 1, 'gyn': 3, 'intug': 1, 'ceftamin': 1, 'ceftam': 1, 'sucret': 1, 'softsorb': 7, 'jmh': 2, 'cushion': 6, 'podi': 2, 'perineu': 1, 'ser': 1, 'hick': 2, 'adenoma': 15, 'datail': 1, 'elipt': 1, 'renegel': 1, 'azithromax': 6, 'ampogel': 1, 'uc': 14, 'phosporu': 1, 'soup': 10, 'parathyroid': 1, 'throb': 4, 'summeri': 2, 'oer': 2, 'crapetu': 1, 'oppurtunist': 1, 'allowa': 1, 'infilto': 1, 'lert': 1, 'septa': 2, 'pneumodiastinum': 1, 'micronodular': 3, 'subcut': 6, 'xxl': 1, 'bronchopleur': 4, 'cutan': 5, 'doxycyclin': 7, 'micronodul': 2, 'dizz': 1, 'reso': 2, 'doxi': 5, 'repaet': 2, 'pleurodesi': 7, 'retrospect': 8, 'shaki': 7, 'difficuti': 2, 'csl': 4, 'crepetu': 1, 'oout': 1, 'ellipt': 3, 'spiromt': 1, 'cxri': 1, 'anzimet': 3, 'bariatr': 3, 'blebectomi': 1, 'aprrox': 2, 'pneumatocel': 8, 'thorascop': 2, 'strnum': 1, 'infilpleas': 1, 'miliari': 1, \"a'lin\": 1, 'cervicothorac': 2, 'spb': 6, 'flet': 2, 'sanguni': 1, 'tnf': 1, 'cystotomi': 1, 'anasarc': 6, 'cowork': 4, 'cystostomi': 1, 'ecoli': 7, 'bien': 1, 'intravasculari': 1, 'exutb': 1, 'extravascularli': 2, 'whereabout': 1, 'catrh': 1, 'whooz': 1, 'sond': 1, 'recondit': 1, 'unsrespons': 1, 'frown': 1, 'sabp': 3, 'riker': 1, 'pon': 11, 'comatos': 1, 'pea': 11, 'corneal': 6, 'aticoagul': 1, 'esmolol': 10, 'flaki': 5, 'vagin': 11, 'purpilish': 1, 'cathol': 2, 'pulseless': 7, 'smade': 1, 'infiiltr': 1, 'intraaxi': 2, 'liber': 14, 'escar': 2, 'nonreact': 3, 'decison': 1, 'jaw': 24, 'unfold': 12, 'catm': 2, 'cardiova': 2, 'aspirs': 1, 'unobtain': 4, 'bib': 2, 'sati': 3, 'prev': 28, 'psychomimet': 3, 'erythem': 4, 'fist': 3, 'secreet': 1, 'doll': 1, 'mabp': 1, 'aztreonam': 18, 'prayer': 3, 'verif': 5, 'revisit': 7, 'acx': 3, 'hemorroid': 1, 'uncompens': 2, 'cataton': 1, 'jelfoam': 1, 'overgrowth': 3, 'afterloud': 1, 'influ': 1, 'myeloma': 5, 'withdarw': 1, 'sutr': 1, 'sedement': 5, 'petechia': 3, 'debri': 16, 'neobladd': 1, 'prostatectomi': 4, 'marijuana': 3, 'mucuo': 1, 'agiti': 3, 'crawl': 4, 'linen': 9, 'ileal': 6, 'prostetectomi': 1, 'diaphorect': 2, 'mornign': 2, 'placedraing': 1, '\\x13': 2, 'rum': 1, 'dysconjug': 1, 'densest': 2, 'signifc': 5, 'remaint': 1, 'norvasc': 13, 'adequt': 2, 'mlij': 1, 'cystectomi': 3, 'dump': 3, 'lacer': 13, 'bug': 7, 'meax': 1, 'diali': 2, 'radic': 5, 'gaze': 9, 'pulmo': 3, 'attmept': 5, 'frequ': 3, 'begant': 1, 'ppsv': 1, 'conduit': 1, 'mucosi': 1, 'bialter': 3, 'mciu': 1, 'irriagt': 1, 'propabl': 1, 'meyloma': 1, 'resdiual': 1, 'disconjug': 2, 'built': 1, 'aroumd': 1, 'montor': 4, 'venodynn': 1, 'subtherapuet': 1, 'creation': 3, 'russian': 20, 'intubatd': 2, 'reaccumul': 18, 'shorten': 7, 'tko': 4, 'pri': 2, 'lght': 1, 'bronchomalagia': 1, 'untx': 1, 'frail': 19, 'parametersthi': 1, 'paperi': 1, 'wf': 2, 'recrut': 1, 'malg': 1, 'contralater': 9, 'dd': 4, 'gastrocult': 2, 'apper': 6, 'wider': 3, 'seventh': 12, 'opa': 1, 'convinc': 15, 'pericardiocentesi': 4, 'pericardiac': 2, 'moreov': 3, 'constrict': 13, 'paraspin': 11, 'psvt': 4, 'extravascular': 1, 'lnco': 10, 'fosamax': 4, 'prestern': 1, 'prssure': 1, 'tracheo': 6, 'alvaolar': 1, 'underpenetr': 8, 'regurgitaton': 1, 'pla': 2, 'adminst': 3, 'medulla': 2, 'sect': 1, 'underdevelop': 1, 'elimin': 10, 'delta': 5, 'epitympan': 1, 'npnn': 1, 'prodctiv': 1, 'hfn': 3, 'haem': 1, 'ine': 3, '^wbc': 3, 'vemtilatori': 1, 'rebreah': 1, 'lingular': 28, 'fob': 1, 'serousi': 1, 'optimist': 5, 'frome': 1, 'paussey': 1, 'element': 46, 'eright': 1, 'colostolmi': 1, 'forgot': 1, 'kaexal': 1, 'oatmeal': 6, 'flowheet': 1, 'cant': 5, 'depth': 6, 'pulmologist': 1, 'sysol': 1, 'whch': 1, 'urostomi': 3, 'conlosomi': 1, 'doson': 1, 'dgt': 6, 'illeoconduit': 1, 'slightlti': 1, 'prognossi': 1, 'carrier': 2, 'dirrahea': 1, 'cheer': 2, 'apear': 5, 'ileo': 2, 'ileoconduit': 1, 'nauseau': 3, 'scapular': 4, 'yankar': 4, 'sugereon': 1, 'actiivti': 1, 'pneumonai': 1, 'yellowi': 3, 'concommit': 1, 'scapula': 13, 'explor': 6, 'intouch': 1, 'dramaticali': 1, 'intermediu': 11, 'preform': 6, 'zyperia': 1, 'drainot': 1, 'nerv': 15, 'crossreact': 2, 'allo': 2, 'stopper': 1, 'ivg': 1, 'puriti': 2, 'miropenum': 1, 'bmt': 10, 'potasium': 1, 'nhl': 5, 'amul': 1, 'ivig': 11, 'cephalasporin': 1, 'friabl': 3, 'oxza': 11, 'pbec': 6, 'enterococc': 7, 'childlik': 1, 'bead': 3, 'dbp': 4, 'width': 11, '^b': 1, 'intto': 1, 'wimper': 1, 'simplest': 2, 'tangl': 1, '^^dbp': 1, 'cervicomedullari': 1, 'overdos': 14, 'heartedli': 1, 'dimins': 1, 'sooner': 5, 'pjc': 2, 'secretio': 4, 'execut': 1, 'granulomatu': 1, 'child': 3, 'duti': 1, 'reddn': 1, 'grabe': 1, 'arouas': 1, 'thera': 1, 'unequ': 6, 'medici': 1, 'regiment': 15, 'osteomylitit': 1, 'overextend': 1, 'normoxia': 4, 'theravest': 1, 'pnc': 1, 'acepella': 2, 'exce': 3, 'ocasion': 1, 'sel': 2, 'reslov': 2, 'repositon': 3, 'accapela': 1, 'infra': 5, 'reass': 5, 'creatanin': 2, 'lisinpril': 2, 'orichectomi': 1, 'perp': 4, 'atempt': 4, 'reqir': 2, 'ofemal': 1, 'caretak': 9, 'yhe': 2, 'prsent': 2, 'dypsnea': 5, \"rx'ed\": 1, 'serav': 1, 'ronchioru': 1, 'volecula': 1, 'infultr': 1, 'es': 2, 'inconten': 1, 'frank': 41, 'stenot': 6, 'zelnorm': 1, 'triscupid': 1, 'coarctat': 19, 'woodi': 2, 'radium': 1, 'phtn': 11, 'iwth': 4, 'herpain': 1, 'precipitatnt': 1, 'ddimer': 4, 'suppelement': 1, 'methylypredison': 1, 'tomorow': 2, 'recordsno': 6, 'renov': 2, 'vq': 5, 'pasp': 6, 'preset': 2, 'hyperpigment': 4, 'emt': 7, 'vertigo': 4, 'formerli': 5, 'diphtheroid': 1, 'kl': 1, 'corynebacterium': 2, 'nivm': 1, 'bleeder': 1, 'linger': 4, 'mangement': 4, 'hiflo': 2, 'pred': 23, 'il': 4, 'propionibacterium': 1, 'vasoconstrict': 1, 'estblish': 2, 'mulitpodu': 1, 'aquir': 13, 'oxycondon': 2, 'jt': 5, 'inconsitantli': 2, 'appaer': 1, 'maintin': 2, 'noncommun': 5, 'contast': 1, 'vanginosi': 1, 'discov': 9, 'mcqx': 1, 'pressr': 2, 'ampi': 1, 'bodili': 3, 'antx': 1, 'grn': 2, 'perforati': 1, 'infilt': 2, 'palption': 1, 'mononitr': 5, 'aggre': 1, 'fentali': 2, 'fsqid': 1, 'aqaucel': 1, 'sulcal': 6, 'pyrexia': 44, 'reschdul': 1, 'hemiarthroplasti': 6, 'localis': 1, 'givenk': 1, 'bibasilarli': 4, 'grion': 1, 'sleev': 9, 'montioedu': 1, 'weean': 1, 'survel': 3, 'vaginosi': 2, 'nxt': 1, 'agon': 3, 'zaroxlyn': 2, 'pericol': 2, 'dwi': 2, 'mediacl': 1, 'sata': 3, 'tilt': 8, 'uncomf': 1, 'defi': 1, 'mew': 2, 'hosptial': 4, '^p': 3, 'dysrhythmia': 10, 'formal': 32, 'incon': 2, 'pv': 8, 'olansapin': 1, 'bigemni': 2, 'toadi': 2, 'llarm': 2, 'appart': 2, 'fluconasol': 1, 'wieght': 1, 'airclean': 1, 'zaroxolyn': 2, 'aka': 5, 'seep': 1, 'sours': 2, 'mmeq': 1, 'yesturday': 4, 'satisfcatori': 1, 'collector': 1, 'transud': 13, 'committe': 1, 'appropraitley': 1, 'respalar': 2, 'mininm': 1, 'trasnfer': 1, 'kinder': 1, 'aircel': 1, 'aztronam': 1, 'hydralizn': 1, 'eccomot': 1, 'vasolin': 4, 'ordin': 1, 'hue': 2, 'hydralzin': 4, 'specimin': 2, 'gerner': 1, 'cytotox': 2, 'zaroxyln': 3, 'hlthi': 1, 'ontinu': 2, 'atheromat': 3, 'elevi': 1, 'sheepskin': 1, 'stoll': 3, 'dinitr': 4, 'positon': 2, 'bein': 1, 'du': 3, 'ocg': 1, 'offens': 1, 'positv': 1, 'wcc': 3, 'cpc': 1, 'rectosigmoid': 6, 'cocyx': 4, 'respelar': 1, 'agait': 2, 'gantri': 1, 'shorter': 17, 'hyperperfus': 1, 'breakdoown': 1, 'trachmask': 2, 'aztreoneum': 1, 'clammi': 12, 'ozz': 1, 'foreatrm': 1, 'posteri': 1, 'ldp': 1, 'acuiti': 7, 'crrect': 1, 'vnetil': 1, 'prosthes': 3, 'resplor': 1, 'metalazon': 1, 'loadli': 1, 'coccyxx': 1, 'contorl': 2, 'occipt': 2, 'apperar': 1, 'montipodi': 1, 'wheex': 1, 'hydralalzin': 1, 'pyret': 1, 'zarolyn': 1, 'paracol': 8, 'intraparenchym': 9, 'overnightm': 1, 'harden': 6, 'jg': 2, 'ivfb': 4, 'crt': 5, 'purposeful': 1, 'fiscal': 1, 'weakish': 1, 'necess': 5, 'capsul': 18, 'oedematu': 1, 'aztroneum': 1, 'mmgh': 1, 'feacal': 1, 'responc': 8, 'sooth': 2, 'gingerli': 1, 'lbo': 1, 'cerebellar': 10, 'led': 13, 'heprin': 6, 'septat': 8, 'abandon': 3, 'dependantli': 1, 'vicin': 2, 'pullback': 2, 'anspir': 1, 'nitinol': 7, 'redund': 8, 'natg': 4, 'ureter': 9, 'calculu': 9, 'join': 3, 'jkpe': 5, 'gwp': 10, 'irragt': 1, 'serosangi': 2, 'afflutt': 1, 'intraretroperiton': 1, 'sincer': 1, 'tachyn': 3, 'sweati': 2, 'gastrografin': 5, 'flagli': 4, 'rhonchour': 6, 'rcc': 7, 'crest': 2, 'periost': 3, 'burden': 10, 'restag': 1, 'iliac': 41, 'mycobacteri': 3, 'acetabulum': 8, 'paraaort': 8, 'sutent': 2, 'toast': 5, 'subtrochanter': 1, 'metstat': 1, 'bedrest': 13, 'meanwhil': 4, 'nadolol': 3, 'wthdrawal': 1, 'ursodiol': 4, 'avm': 5, 'reble': 2, 'hydrochlorothiazid': 7, 'wd': 14, 'vagal': 9, 'zolpidem': 7, 'pallor': 24, 'wn': 4, 'coax': 1, 'levoflaoxacin': 1, 'grandaugth': 1, 'varoc': 1, 'escitalopram': 2, 'oxal': 2, 'ah': 7, 'choleycsytectomi': 1, 'gc': 3, 'ventric': 3, 'whereupon': 1, 'imfect': 1, 'flr': 2, 'pedicl': 7, 'intermmitantli': 1, 'somehat': 2, 'oppos': 8, 'tachypenia': 1, 'epilepsi': 3, 'magic': 2, 'pertain': 3, 'centrum': 6, 'carbetolol': 1, 'tibial': 42, 'nystagmu': 3, 'delir': 10, 'twave': 5, 'ergocalciferol': 1, 'faci': 1, 'fish': 6, 'taut': 2, 'automon': 1, 'illus': 1, 'maker': 5, 'readdmit': 1, 'cxwc': 11, 'quadraplegia': 4, \"desat'd\": 1, 'dysflexia': 1, 'teacher': 2, 'funguria': 1, 'tbw': 3, 'dysreflexia': 1, 'jxrl': 14, 'engin': 4, 'aeruginosa': 5, 'kaexyl': 2, 'spark': 2, 'frankli': 5, 'deafferent': 1, 'tegretol': 4, 'unwit': 5, 'caucasian': 5, 'enulos': 1, 'lgr': 7, 'siezur': 8, 'opposit': 2, 'quadriplegia': 5, 'alphagan': 1, 'omega': 2, 'poisitv': 1, 'antiepilept': 2, 'ictal': 3, 'strernal': 1, 'hyponateremia': 1, 'subclin': 3, 'travatan': 1, 'oxybutynin': 5, 'ulcuer': 1, 'bacolfen': 1, 'wander': 6, 'esteras': 3, 'brimonidin': 2, 'antizeizur': 1, 'pseudamona': 2, 'tonic': 6, 'pneumionia': 1, 'professor': 1, 'colono': 1, 'cardiogram': 1, 'minatin': 1, 'seixur': 1, 'pern': 1, 'initiali': 4, 'intrathec': 3, 'pseudomon': 13, 'semest': 1, 'transter': 1, 'sarcast': 1, 'parapsilosi': 2, 'clonic': 6, 'mutlipl': 2, 'poop': 1, 'bullet': 1, 'spring': 1, 'lomotrigen': 1, 'kit': 8, 'recreat': 4, 'moon': 1, 'glycerin': 1, 'carbamezapin': 1, 'equina': 6, 'pdst': 1, 'anbx': 21, 'fade': 5, 'hemov': 1, 'dislpay': 1, 'maiami': 1, 'duloxetin': 6, 'cauda': 6, 'malalign': 5, 'trendelenburg': 1, 'withl': 1, 'aam': 2, 'extradur': 2, 'recit': 2, 'easlli': 1, 'punc': 1, 'avaiabl': 1, 'ninth': 4, 'applejuic': 1, 'cusp': 1, 'dural': 5, 'intraop': 6, 'citi': 3, 'undersid': 3, 'aat': 2, 'bactroban': 3, 'iliacu': 3, 'psoa': 6, 'urinalysi': 10, 'ivkcl': 1, 'withsmal': 1, 'thorsic': 1, 'fordeti': 1, 'vertic': 12, 'dependec': 1, 'prductiv': 1, 'coears': 1, 'hematom': 1, 'transmit': 11, 'vnetilatori': 1, 'plethora': 4, 'mad': 2, 'bizarr': 2, 'schmorl': 4, 'cariothorac': 1, 'fectal': 2, 'stopp': 2, 'diuress': 4, 'guag': 8, \"sat'\": 5, 'retropharyng': 3, 'ilater': 1, 'callu': 5, 'stoo': 2, 'thecal': 4, 'anterio': 2, 'herp': 15, 'ketamin': 1, 'crept': 1, 'drove': 2, 'tlso': 1, 'abc': 3, 'nsurg': 3, 'unil': 1, 'videotap': 1, 'pu': 11, 'loculat': 1, 'aldacton': 6, 'monotor': 2, 'dermatolog': 6, 'ise': 1, 'crepid': 1, 'infrahepat': 1, 'anu': 4, 'stri': 1, 'thoracoabdomin': 3, 'comofrt': 1, 'canal': 21, 'determi': 1, 'steri': 3, 'oal': 1, 'toradol': 6, 'piccl': 1, 'hemovac': 4, 'optimis': 1, 'limet': 1, 'disciti': 4, 'stylet': 7, 'lter': 2, 'breaktrough': 1, 'theet': 1, 'instrument': 13, 'execept': 1, 'phlegmon': 2, 'hydrouret': 10, 'loww': 1, 'endplat': 17, 'revalu': 6, 'diagnsi': 1, 'extrins': 5, 'unfett': 1, \"sxn'ed\": 3, 'propag': 1, 'psychoact': 4, 'fascilit': 1, 'analges': 7, 'hypospadiu': 1, 'bloodier': 1, 'prepocedur': 1, 'kideni': 1, 'csft': 1, 'successful': 1, 'gemini': 1, 'hxof': 2, 'thirti': 4, 'moisten': 3, 'sarcoma': 1, 'susequ': 2, 'costodiaphragmat': 1, 'elestoplast': 1, 'viscera': 7, 'fube': 1, 'caught': 4, 'inrr': 1, 'alkaloti': 1, 'alquez': 1, \"mvm't\": 2, 'receivi': 2, 'instal': 5, 'thrach': 2, 'preocedur': 1, 'findibg': 1, 'peroxid': 3, 'errythema': 1, 'trrend': 1, 'faecium': 1, 'sanguein': 1, 'increment': 6, 'linezilid': 1, 'stich': 2, 'pos': 2, 'adress': 2, 'advnc': 1, 'condtiion': 1, 'rp': 14, 'cogniz': 1, 'hopeful': 2, 'inferomedi': 2, 'venographi': 3, 'faulti': 1, 'dow': 3, 'sangin': 1, \"parkinsons'\": 1, 'kaposi': 1, 'sangeou': 1, 'trahc': 3, 'assciat': 1, 'gluconst': 1, 'souc': 2, 'grimis': 1, 'sangun': 1, 'themselv': 2, 'diurisis': 1, 'upperlob': 2, 'femer': 3, 'hydrogen': 2, 'bloodcx': 1, 'cortico': 1, 'precedur': 1, 'goiter': 6, 'hemothorax': 8, 'granulomat': 9, 'pod': 15, 'rra': 1, 'honor': 1, 'stimualt': 2, 'erthemat': 2, 'thrombolyt': 1, 'surgifoam': 1, 'anasarcoid': 4, 'innomin': 6, 'cone': 2, 'biotic': 1, 'proc': 4, 'linezalid': 1, 'corticobas': 1, 'clearn': 1, 'thoras': 6, 'dfdgf': 1, 'arris': 1, 'cheat': 1, 'rigth': 3, 'comfortabley': 2, 'pleuravac': 2, 'impercept': 1, 'applli': 1, 'thorocotomi': 2, 'approxam': 1, 'evacu': 15, 'throughoutth': 1, 'unblock': 2, 'surgicel': 2, 'mbp': 1, 'occluss': 1, 'apa': 2, 'paracetamol': 1, 'necesit': 2, 'aftr': 1, 'consol': 5, 'intrapleur': 3, 'dimnish': 1, 'seru': 1, 'thorocoscopi': 1, 'concent': 1, 'screener': 6, 'toss': 4, 'anasarka': 1, 'ride': 6, 'sofsorb': 2, 'lscl': 1, 'hesit': 10, 'uosh': 1, 'giacc': 1, 'pvsv': 1, 'nostril': 12, 'parkison': 1, 'hounsfield': 8, 'inde': 6, 'sanguan': 1, 'abmul': 1, 'lengthli': 2, 'gastroesophag': 29, 'ruptur': 18, 'hyoptn': 1, 'intox': 7, 'varicos': 3, 'tackynp': 1, 'unalt': 4, 'fioricet': 1, 'pown': 1, 'td': 12, 'ref': 6, 'whitmil': 6, 'propoxyphen': 4, 'arthralgia': 10, 'fluoxetin': 4, 'raloxifen': 1, 'leter': 1, 'rqeaction': 1, 'pft': 21, 'antipyret': 6, 'bso': 2, 'notdon': 4, 'proair': 2, 'intensitif': 1, 'fibromyalgia': 3, 'lemonad': 2, 'misoprost': 1, 'preferenti': 1, 'barb': 3, 'slawwolow': 1, 'acetmnphn': 3, 'weigh': 7, 'withourt': 1, 'conform': 3, 'tahbso': 1, 'caff': 2, 'nco': 6, 'hfa': 3, 'adam': 4, 'bpd': 1, 'spirat': 2, 'tibc': 8, 'psychiatrist': 10, 'ket': 5, 'triamcinolon': 3, 'aton': 1, 'cigarett': 11, 'ctropnt': 2, 'anorexia': 10, 'synopsi': 5, 'pericardia': 2, 'hc': 6, 'tranferrin': 1, 'amphet': 1, 'acetonid': 1, 'ipa': 1, 'reman': 3, 'briefi': 1, 'scaphoid': 3, 'cytotec': 1, 'agonist': 3, 'nitr': 6, 'clearish': 1, 'butalbit': 2, 'lumpectomi': 7, 'ptsd': 7, 'perphenazin': 1, 'basex': 6, 'compli': 7, 'ibw': 10, 'dextroamphetamin': 1, 'imipress': 1, 'lump': 4, 'poli': 26, 'costrophren': 1, 'acet': 9, 'agap': 9, 'probnp': 5, 'ptch': 6, 'naproxen': 2, 'unsaf': 13, 'misoprostol': 1, 'cxrshow': 1, 'pulsu': 6, 'sulfasalazin': 3, 'breast': 38, 'bj': 2, 'sytem': 3, 'sentanc': 3, 'treand': 2, 'ndnt': 6, 'spegr': 1, 'amphetamin': 1, 'ht': 11, 'warn': 3, 'phych': 1, 'dlco': 2, 'mthdne': 1, 'boderlin': 4, 'sublingu': 5, 'introduct': 3, 'reguir': 2, 'unisyn': 1, 'handihal': 1, 'gastriti': 17, 'abstienc': 1, 'hemmorhoid': 2, 'sink': 1, 'folic': 13, 'sillihett': 1, 'urobil': 3, 'disku': 6, 'tah': 5, 'gastroenterolog': 4, 'nervosa': 2, 'evista': 1, 'secundum': 6, 'congenit': 19, 'sniff': 8, 'jbre': 9, 'atrio': 5, 'mtp': 1, 'resembl': 2, 'styloid': 1, 'leftclip': 1, 'cmc': 2, 'phalanx': 4, 'talu': 3, 'undiagnos': 6, 'phalang': 3, 'congruent': 4, 'underexposur': 1, 'tuberculosi': 7, 'valgu': 1, 'calcan': 1, 'thoracoscopi': 4, 'tubercul': 2, 'hallux': 1, 'mortis': 3, 'pleur': 1, 'armi': 1, 'inaffect': 1, 'quicki': 1, 'wheen': 1, 'coccidiomycosi': 2, 'dicuss': 1, 'splenul': 10, 'tracheomegali': 1, 'ation': 1, 'formatio': 1, \"lft'\": 5, 'hematolog': 20, 'osmolit': 2, 'servi': 1, 'pleuro': 1, 'pils': 1, 'resuct': 1, 'bullou': 8, 'sternocleidomastoid': 3, 'exub': 6, 'hre': 1, 'nct': 1, 'dwell': 5, 'roadtrip': 1, 'ultrsonograph': 1, 'regist': 5, 'erron': 3, 'trandfer': 1, 'levofloxcin': 3, 'neub': 2, 'snooz': 2, 'apetit': 11, 'ichi': 1, 'reamain': 1, 'scrotal': 16, 'consistli': 1, 'chet': 1, 'adult': 10, 'catc': 1, 'ey': 2, 'zorviax': 1, 'draian': 2, 'sbradi': 1, 'blisteri': 1, 'raplac': 1, 'ligi': 1, 'clotti': 1, 'sersang': 2, 'cheang': 1, 'amal': 2, 'zooster': 1, 'commnad': 4, 'immmedi': 1, 'dilatin': 3, 'ventolin': 4, 'wcommand': 1, 'follo': 2, 'tenati': 1, 'nooon': 1, 'serosan': 1, 'eccymoisi': 1, 'overngiht': 4, 'zoooster': 1, 'everywher': 1, 'zesteril': 1, 'tensiv': 2, 'tachynep': 1, 'insu': 1, 'dermotolog': 1, 'truck': 2, 'aloevista': 1, 'vericilla': 1, 'pruiti': 1, 'spound': 1, 'dression': 1, 'zoster': 13, 'sxnd': 4, 'reavtiv': 1, 'ansthesia': 1, 'epicard': 2, 'sternaum': 1, 'wih': 2, 'pearll': 1, 'extremitli': 1, 'incison': 1, 'svg': 4, 'sponteous': 1, 'ssx': 1, 'salvag': 2, 'consistanli': 1, 'activeti': 1, 'asper': 3, 'bsp': 2, 'randomli': 3, 'suppoert': 1, 'lcw': 4, 'incontinencr': 1, 'euqal': 1, 'heartrat': 1, 'onleft': 1, 'multpl': 3, 'intermittingli': 2, 'wriiten': 1, 'waiv': 1, 'vip': 3, 'merpanem': 1, 'optmiz': 1, 'whiel': 1, 'meripenem': 3, 'perepher': 1, '\\x13transfer': 1, 'exaust': 1, 'srackl': 1, 'luekemia': 1, 'leukemia': 7, 'hereconfirm': 1, 'copazin': 2, 'continuo': 3, 'interig': 1, 'anitcoagul': 1, 'peripelv': 1, 'urothelium': 1, 'furthermor': 8, 'clotrimazol': 6, 'hyperecho': 8, 'ureteropelv': 1, 'soluabl': 1, 'scout': 16, 'apppli': 2, 'supersorb': 1, 'ccm': 1, 'anitbx': 2, 'evalua': 3, 'wipe': 8, 'fenestr': 6, 'clotimazol': 1, 'axil': 3, 'parapharyng': 1, 'pseudoaneurysm': 7, 'swallo': 2, 'regual': 1, 'tracheoinnomin': 1, 'anticubit': 4, 'recomm': 2, 'amorph': 3, 'vad': 2, 'crusti': 4, 'ucerin': 1, 'laryngectomi': 2, 'submandibular': 5, 'foreign': 13, 'adjunct': 3, 'blooy': 1, 'greeen': 1, 'box': 7, 'succes': 4, 'puppet': 1, 'eyedrop': 2, 'pregress': 1, 'positivli': 2, 'slightk': 1, 'mjoriti': 1, 'aful': 1, 'prograf': 3, 'hpp': 1, 'recurrenti': 1, 'treponin': 1, 'minimi': 2, 'exbub': 1, 'noew': 1, 'qaudrant': 1, 'gbeen': 1, 'fire': 8, 'jwk': 4, 'flucanazol': 1, 'autoduiresi': 1, 'diagnsot': 1, 'doorway': 2, \"^'ng\": 1, 'neurotin': 1, 'ntp': 6, 'effu': 6, 'metaprolol': 4, 'diavan': 1, 'rap': 10, 'nephro': 2, 'delus': 2, 'psup': 3, 'remaain': 1, 'keton': 9, 'errl': 1, 'allerigi': 1, 'tripll': 1, 'enyzm': 1, 'knock': 4, 'combivir': 3, 'blacj': 1, 'miseri': 1, 'swill': 1, 'lozeng': 3, 'funni': 2, 'cepacol': 2, 'tessalon': 9, 'dmi': 3, 'betadin': 3, 'monthli': 6, 'ambein': 1, 'nown': 1, 'labatalol': 2, 'gurgl': 10, 'ultrafiltr': 6, 'vl': 18, 'seconari': 1, 'prefe': 1, 'voluntari': 1, 'cyclosporin': 3, 'sinnis': 1, 'quinton': 3, 'interf': 1, 'comun': 3, 'nephrologist': 4, 'dializ': 1, 'inquier': 4, 'unsupervis': 2, 'undertaken': 2, 'materail': 1, 'novea': 1, 'enviro': 3, 'filtrat': 2, 'aoox': 7, 'avtiv': 1, 'activrti': 1, 'overwhelm': 9, 'ampicillan': 1, 'albulterol': 1, 'cefrtiaxon': 1, 'leionella': 1, 'tilet': 1, 'dispneaic': 1, 'ibd': 2, 'fbca': 4, 'tinea': 1, 'ngiht': 4, 'belladonna': 1, 'nonbroken': 1, 'mepliex': 1, 'electron': 9, 'poh': 1, 'ivmeropenum': 1, 'generak': 1, 'recentlli': 1, 'warmth': 7, 'bi': 6, 'nppv': 6, 'mesalamin': 2, 'acd': 6, 'prophylact': 20, 'app': 5, 'alkaloid': 1, 'prohylaxi': 1, 'swoll': 1, 'microb': 2, 'nonocclus': 9, 'ciproflox': 1, 'thromboctopenia': 1, \"'thumb\": 1, 'valerian': 1, 'gleed': 1, 'ldn': 6, 'nightli': 5, 'brca': 2, 'siunc': 1, 'infitr': 5, 'recordsbelladonna': 1, 'sole': 6, 'apppear': 3, 'hytrin': 1, 'extract': 9, 'cardiophren': 8, 'thoracentisi': 2, 'thorocentisi': 1, 'legioniella': 1, 'phi': 4, 'rslt': 1, 'spiromoeteri': 1, 'xygri': 2, 'vist': 2, 'likewis': 1, 'hyperv': 1, 'bcaus': 1, 'niddm': 8, 'glucaphag': 1, 'arter': 1, 'bracelet': 6, 'curs': 2, 'presen': 1, 'amalys': 1, 'delirum': 1, '^doe': 1, 'accustom': 1, 'trens': 1, 'inconclus': 5, \"tom'row\": 3, 'espec': 2, '^restless': 1, 'brreath': 1, 'dubhoff': 6, 'phlebotomi': 15, 'floro': 1, 'physio': 2, 'upperarm': 1, 'reintroduc': 4, 'canot': 1, 'detemin': 1, 'labour': 2, 'evetu': 1, 'contrari': 1, 'meropanem': 1, 'mutilobar': 1, 'lye': 1, 'paralys': 6, 'interstit': 4, 'lipomat': 4, 'un': 8, 'ststu': 1, 'bigemeni': 2, 'repletd': 1, 'funtion': 3, 'nasagmu': 1, 'aurgument': 1, 'nasointestin': 9, 'intrabd': 2, 'pneumostat': 3, 'lltc': 12, 'transfix': 2, 'umbil': 12, 'ceph': 2, 'tether': 6, 'angular': 1, 'withstood': 1, 'powerpicc': 4, 'simethcon': 1, 'cogentin': 2, 'vew': 1, 'stelazin': 1, 'consutl': 2, 'psychiatri': 12, 'unreli': 6, 'epidisod': 1, 'simethecon': 2, 'erythma': 1, 'confusedat': 1, 'thrombophleb': 2, 'everythingthat': 1, 'discectomi': 1, 'osteomyleti': 1, 'ultrcal': 1, 'lookup': 1, 'intr': 1, 'rectovagin': 1, 'trumor': 1, 'debrit': 1, 'vetebr': 1, 'aveno': 1, 'cheny': 2, 'macular': 12, 'drn': 1, 'neurosurgeri': 5, 'repletet': 1, 'pinpoint': 4, 'flakey': 2, 'intraabd': 1, 'cha': 2, 'mentatl': 1, 'foramina': 4, 'lysi': 5, 'tremul': 14, 'dryness': 5, 'endocardidti': 1, 'copious': 1, 'telelphon': 1, 'vooid': 1, 'tylenool': 1, 'thinner': 7, 'bister': 1, 'neural': 13, 'loongterm': 1, 'demorol': 1, 'johnson': 1, 'serous': 1, 'bounc': 4, 'erthyma': 1, 'mscontin': 1, 'flake': 15, 'cape': 2, 'aveeno': 1, 'intrisinc': 1, 'linezoid': 2, 'foramin': 11, 'ostreomyl': 1, 'noncompress': 5, 'veterbr': 1, 'obliter': 14, 'creast': 1, 'coach': 15, 'tobra': 6, 'hte': 4, 'diskiti': 3, 'yesterdaym': 1, \"shock'\": 1, 'resuscitaion': 1, 'ventriclar': 1, 'bdrest': 1, 'sugest': 1, 'dring': 1, \"'call\": 1, 'rhtym': 3, 'salvo': 1, 'parallel': 2, 'bloddi': 1, \"'infrequ\": 1, 'admisson': 1, 'metaplasia': 2, 'adenocarcinoma': 17, 'myelofibrsi': 1, 'pancreatectomi': 1, 'cyberknif': 3, 'angioectasia': 2, 'sideroblast': 1, 'sppleenectomi': 1, 'myeloid': 1, 'placmeent': 1, 'ctto': 1, 'pneurmothorax': 1, 'knob': 12, 'pneumoth': 2, 'analyz': 12, 'regress': 12, 'overinfl': 8, 'thoracoscop': 2, 'orientedx': 7, 'infradiaphragmat': 3, 'remaisn': 4, 'refrain': 2, 'cystocopi': 2, 'nondepend': 6, 'unchnag': 1, 'ovarian': 6, 'uniformli': 4, 'ctpa': 7, 'diastasi': 3, 'tehn': 1, 'hernial': 1, 'cystoscopi': 6, 'poisit': 1, 'discoordin': 6, 'rocephin': 2, 'cardiovers': 14, 'expectorationg': 1, 'ceftrax': 1, 'energet': 1, 'fontal': 1, 'conc': 6, 'mwintain': 1, 'eager': 5, 'indciat': 1, 'popsickl': 1, 'lobd': 1, 'superinmpos': 1, 'guifensan': 1, 'physican': 1, 'plenti': 4, 'inmmobil': 1, 'annoy': 2, 'effusio': 5, 'vv': 2, 'sath': 1, 'everth': 1, 'float': 2, 'apnic': 6, 'disclos': 4, 'venepunctur': 1, 'hemiplegia': 5, 'instrins': 1, 'rouseabl': 2, 'coher': 7, 'hpa': 2, 'unrepair': 1, 'mersa': 1, 'genamycin': 1, 'volun': 1, 'vaxcel': 6, 'postherpet': 1, 'artifici': 5, 'unus': 4, 'faith': 1, 'sidept': 1, 'silver': 6, 'taco': 1, 'gvhd': 2, 'stiffen': 7, 'guidenc': 1, 'mow': 1, 'miscarriag': 2, 'allosct': 2, 'lawn': 1, 'basilarli': 1, 'hemorr': 1, 'ptosi': 1, 'pentamidin': 3, 'angiodynam': 2, 'dapson': 4, 'outer': 4, 'neuralgia': 2, 'herpet': 2, 'effsuin': 2, 'fistalugram': 1, 'allogen': 3, 'clottedcan': 1, 'pregabalin': 3, 'nephrolog': 6, 'edeman': 2, 'cuffleak': 2, 'cellult': 1, 'medcat': 1, 'yhi': 1, 'encephalomalac': 2, 'flagi': 2, 'alz': 1, 'circl': 7, 'lvia': 3, 'awat': 2, 'aca': 4, 'microvessel': 1, 'semioval': 3, 'thoracenteci': 1, 'sut': 1, 'expres': 2, 'unifib': 1, 'malacia': 4, 'grey': 7, 'pvo': 1, 'striatoniagr': 1, 'mab': 1, 'resorpt': 4, 'individu': 6, 'bilaterlli': 1, 'facila': 1, 'unfib': 1, 'occuls': 1, 'eyebrow': 4, 'striatonigr': 1, 'vene': 1, 'beneprotien': 3, 'inreas': 1, 'optomist': 1, 'infsus': 1, 'cautiosli': 1, 'diruess': 1, 'veneodyn': 1, 'audabl': 1, 'ecotpi': 2, 'ectoy': 2, 'respatori': 1, 'painkish': 1, 'dreainag': 1, 'vetil': 2, 'greeninsh': 3, 'hedo': 1, 'diomax': 1, 'graini': 2, 'psuedomona': 6, 'benefib': 2, 'restatr': 2, 'sechedul': 1, 'oder': 2, 'lowwer': 1, 'kid': 3, 'reflux': 26, 'hypercapnia': 4, 'sputumwith': 1, 'utilis': 1, 'exager': 2, 'radiodens': 14, 'ivbx': 1, 'lesson': 1, 'endotrachael': 1, 'trah': 2, 'pulmacort': 1, 'grandkid': 1, 'ncreas': 1, 'mimick': 1, 'suctionr': 1, 'pdr': 1, 'aniticp': 1, 'pvco': 1, 'oropharnyx': 1, 'periodiac': 1, 'coxxyx': 1, 'augmentin': 8, 'banana': 15, 'mondday': 1, 'readvanc': 3, 'benepro': 2, 'inchair': 1, 'characht': 1, 'withbl': 1, 'configuart': 1, 'laxix': 1, 'coveral': 1, 'profici': 1, 'claudi': 1, 'frq': 1, 'caridac': 1, 'serosanquin': 1, 'undoubtedli': 2, 'pulmonaari': 1, 'respiatori': 1, 'serviv': 1, 'crackli': 3, 'pulmicourt': 1, 'muco': 1, 'hyupernatremia': 1, 'stiffli': 1, 'pulmonarey': 1, 'tooth': 8, 'bumex': 3, 'timefram': 1, 'porvid': 1, 'dschrg': 1, 'dsa': 1, 'drainaag': 1, 'abmu': 1, 'givenx': 2, 'atropi': 1, 'alet': 1, 'occason': 2, 'reommend': 1, 'elecatr': 1, 'surprisingli': 2, 'auscul': 2, 'jerk': 4, 'nigrostriat': 1, 'trachesostomi': 1, 'thoracocentesi': 15, 'otheriws': 1, 'hyperexpans': 8, 'fibronodular': 2, 'jxn': 3, 'aji': 13, 'overlap': 7, 'fibrothorax': 1, 'robot': 1, 'scotum': 2, 'scrotom': 1, 'instant': 1, 'vivonex': 5, 'axaxox': 1, 'possiblu': 1, 'prandial': 2, 'atherosclerosi': 12, 'thsi': 6, 'bill': 17, 'invert': 4, 'chase': 3, 'haemodynam': 4, 'wenkebach': 2, 'coper': 3, 'onflow': 1, 'levaqin': 2, 'sevar': 1, 'breakdownon': 1, 'rnage': 2, 'disassoci': 1, 'whiti': 1, 'electroly': 5, 'creammi': 1, 'diauresi': 1, 'dgtr': 6, 'possib': 1, 'eggcrat': 1, 'swob': 1, 'match': 12, 'nkma': 3, 'insecur': 1, 'phantom': 2, 'azithrommycin': 1, 'asplenia': 1, 'dissemin': 6, 'endolumin': 4, \"tx'ing\": 1, 'sprain': 1, '\\x13in': 1, 'shower': 2, 'coomb': 1, 'brownloos': 1, 'lucent': 8, 'meter': 1, 'resullt': 1, 'esbi': 1, 'belch': 2, 'pleasand': 1, 'postict': 1, 'sucion': 2, 'insuffci': 2, 'fdp': 4, 'uat': 2, 'swivel': 3, 'dextameth': 1, 'profil': 5, 'pneumopericardium': 1, 'amunt': 1, 'creme': 1, 'bradycadia': 1, 'aputum': 1, 'aggressivf': 1, 'bolous': 1, 'aveolar': 1, 'cocial': 1, 'pepp': 1, 'extubatiohn': 1, 'virtual': 2, 'sof': 3, 'lw': 13, 'refelx': 1, 'jct': 1, 'flushe': 1, 'troughout': 1, 'verc': 2, 'deleriuo': 1, 'panctranspl': 1, 'metaclopromid': 2, 'hydrazalin': 3, 'nonfoc': 11, 'suctioend': 1, 'vere': 1, 'pateint': 3, 'initillay': 1, 'trake': 1, 'incit': 2, 'cellphon': 1, 'swet': 1, 'incresas': 2, 'diursesi': 3, 'fentani': 3, 'cancal': 1, 'bols': 3, 'valubl': 2, 'obsewrv': 2, 'orientata': 2, 'ventulat': 1, 'hurricain': 5, 'commernc': 1, 'behaviuor': 1, 'arintg': 1, 'alteplas': 1, 'plani': 1, 'halv': 4, 'unevet': 1, 'afibril': 1, 'sidehol': 9, 'sewll': 1, 'examib': 1, 'appera': 2, 'lertharg': 1, 'doploff': 3, 'vert': 2, 'rentent': 1, 'trophic': 2, 'focsu': 1, 'secet': 4, 'dizzli': 1, 'tacrolimu': 7, 'trigemni': 1, 'metoclopromid': 2, 'vancomysin': 2, 'tardu': 1, 'dispar': 1, 'requirw': 1, 'ored': 4, 'mt': 8, 'yankaar': 2, 'buth': 1, 'beacus': 1, 'parvu': 1, 'cvvh': 9, 'eplac': 1, 'dopoff': 3, 'scedul': 1, 'amiodar': 1, 'easliy': 1, 'ventset': 2, 'alsix': 1, 'plesa': 2, 'metaclorpromid': 1, 'sennakot': 2, 'kayaxal': 1, 'mucopurul': 1, 'doplpoff': 1, 'sligthli': 1, 'comfus': 1, 'pendind': 1, 'afternnon': 2, 'hymidifi': 1, 'confidenti': 1, 'liler': 1, 'unable\\x13': 1, 'agitataion': 2, 'parenychym': 1, 'psotion': 1, 'coverd': 2, 'blous': 14, 'nb': 5, 'inconstit': 1, 'nocal': 1, 'dipstick': 2, 'specgr': 2, 'uric': 6, 'parasthesia': 7, 'sedentari': 5, 'hdr': 3, 'ceftriazon': 6, 'iga': 5, 'titropium': 1, 'muffin': 2, 'singulair': 10, 'legionair': 1, 'scrambl': 3, 'lifestyl': 3, 'methylpr': 8, 'dog': 4, 'pseudomonax': 1, 'abn': 3, 'ccb': 6, 'oseo': 1, 'desert': 1, 'corn': 1, 'rbc': 43, 'bbl': 7, 'dessert': 1, 'ptca': 5, 'serogroup': 6, 'nasaotrach': 1, 'assistx': 1, 'msi': 3, 'plexi': 1, 'aztriman': 1, 'mystatin': 1, 'warmer': 5, 'discard': 6, 'sg': 6, 'thic': 4, 'cocnsist': 1, 'kick': 19, 'soupi': 1, 'scn': 2, 'resperadol': 1, 'eys': 1, 'dulcalox': 1, 'continuosli': 1, 'bet': 1, 'rush': 4, 'strept': 5, 'robituss': 2, 'spironmet': 1, 'school': 7, 'mva': 15, 'bronchodial': 3, 'adopt': 1, 'fingertip': 3, 'amantadin': 2, 'doapmin': 1, 'extuba': 3, 'prolap': 1, 'ith': 2, 'monito': 5, 'cracl': 3, 'lorpessor': 2, 'amantidin': 2, 'dopamamin': 1, 'painfre': 2, 'edemam': 1, 'hemangioma': 16, 'concav': 4, 'cervix': 2, 'furter': 2, 'hydraliazin': 1, 'esstenti': 1, 'tng': 2, 'bwel': 1, 'hepatopet': 26, 'urbc': 2, 'condtion': 1, 'ovenroc': 1, 'illeu': 2, 'breathinhg': 1, 'throughotu': 1, 'infusimg': 1, 'nitor': 1, 'iabp': 5, 'quadripl': 1, 'gasseou': 2, 'saph': 1, 'abdomini': 4, 'posteromedi': 1, 'colonca': 1, 'excis': 8, 'subc': 2, 'pbm': 1, 'curvilinear': 7, 'pneumothoorax': 1, 'platelik': 3, 'heimlich': 1, 'pmreassess': 1, 'sesni': 1, 'stabal': 8, 'thermomet': 4, 'negativetri': 1, 'tacro': 3, 'hyperk': 2, 'trx': 1, 'ordrer': 1, 'par': 2, 'anaphylaxi': 15, 'enterococ': 2, 'aresol': 2, 'hydromorphon': 12, 'lrd': 2, 'sicuss': 1, 'row': 7, 'ostium': 2, 'thrombos': 4, 'pleuret': 1, 'myucomyst': 1, 'dxae': 2, 'bronc': 3, 'tracheobronchomalacia': 9, 'tens': 9, 'brittl': 2, 'ws': 4, 'tropinin': 4, 'protoc': 2, 'hjr': 3, 'carev': 2, 'tendor': 2, 'aurea': 1, 'resusciat': 1, 'acromiohumer': 1, 'coracoclavicular': 1, 'glenoid': 7, 'widow': 3, 'venotomi': 7, 'incompletley': 1, 'mesaur': 1, 'perisplen': 4, 'paravertebr': 3, 'direcl': 1, 'dlp': 15, 'ovari': 5, 'shrunken': 4, 'circumflex': 3, 'intubt': 2, 'mgi': 15, 'cholecysti': 1, 'dysynchron': 12, 'pbishop': 2, 'stbale': 4, 'lymphocyt': 9, 'plerual': 2, 'contrastclip': 3, 'adnex': 5, 'ath': 1, 'clind': 1, 'cga': 9, 'respn': 1, 'comminut': 8, 'sersanguin': 1, 'clindaycin': 1, 'emphyema': 1, 'commnand': 2, 'patinet': 4, 'apeci': 2, 'pneumthorax': 2, 'secreiton': 1, 'coupiou': 2, 'avss': 4, 'interphalang': 1, 'sutol': 1, 'mob': 2, 'bottock': 1, 'solat': 1, 'acoupl': 1, 'knownor': 1, 'tacycard': 1, 'periar': 1, 'tychypn': 1, 'island': 7, 'antiretrovir': 2, 'paitent': 5, 'legibl': 3, 'tast': 1, 'exacerbaion': 1, 'aaaaawait': 1, 'nauseou': 4, 'accep': 1, 'dischrg': 1, 'downsiz': 5, 'bedisd': 1, 'lasx': 1, 'secrertt': 1, 'hemecult': 1, 'atelectact': 1, 'nonfenestr': 1, 'placemnt': 2, 'tool': 1, 'sppech': 3, 'manuev': 1, 'apin': 3, 'softwrist': 1, 'doubleguard': 5, 'craet': 1, 'cf': 4, 'tepid': 3, 'comod': 1, 'vaco': 2, 'adlib': 1, 'lipim': 1, 'cuffless': 5, 'mediat': 6, 'brew': 3, 'nystain': 1, 'frequentstrong': 1, 'thikc': 2, 'wriet': 1, 'afebil': 5, 'backach': 3, 'donw': 1, 'synchroni': 3, 'ur': 1, 'isolat': 1, 'hcyt': 1, 'rpicc': 2, 'synch': 4, 'ontrach': 1, 'rpiv': 2, 'shuffl': 1, 'becaom': 2, 'sabl': 1, 'subseq': 1, 'cardial': 1, 'vx': 4, 'signigic': 1, 'expos': 7, 'indiscret': 2, 'dysphasia': 4, 'nitrotab': 1, 'krohn': 1, 'copn': 1, 'approrpi': 1, 'ceftazdim': 1, 'pluggin': 1, 'invent': 1, 'mediastinosccopi': 1, 'south': 3, 'wich': 2, 'earlili': 1, 'uprigh': 1, 'dysarthr': 3, 'ovoid': 3, 'multcn': 1, 'transferrd': 1, 'retrocardi': 2, 'costal': 5, 'emphysemia': 1, 'aebc': 2, 'encas': 8, 'uren': 1, 'callus': 1, 'varu': 1, 'calcaneu': 1, 'dilodid': 2, 'disrupt': 4, 'malleolu': 1, 'adjoin': 1, 'fragment': 9, 'oxicodon': 2, 'charcot': 2, 'plafond': 1, 'fibula': 4, 'angul': 7, 'malleolar': 1, 'neuropath': 4, 'bimalleolar': 1, 'talar': 1, 'hindfoot': 1, 'fibular': 2, 'trimalleolar': 1, 'ulrasound': 1, 'nonhemorrhag': 17, 'wolfran': 2, 'requiremnt': 1, 'wolfram': 2, 'optic': 1, 'yello': 3, 'fishi': 1, 'vag': 2, 'prog': 4, 'titat': 1, 'lbbb': 10, 'oximet': 2, 'seriel': 4, 'vacular': 2, 'statusa': 1, 'proscar': 1, 'sod': 1, 'coocx': 1, 'assymptomat': 2, 'incidnet': 1, 'distned': 1, 'respoit': 1, 'deped': 2, 'sxp': 1, 'difficultli': 3, 'maintenac': 1, 'cortison': 2, 'lop': 2, 'midstern': 5, 'emoli': 1, 'stnet': 1, 'becuas': 2, 'captopr': 2, 'readmiss': 6, 'retim': 1, 'microabras': 1, 'mediastium': 1, 'srx': 1, 'gramstain': 1, 'tangenti': 1, 'thankgiv': 1, 'silli': 1, 'mstemi': 1, '^cri': 1, 'substern': 7, 'unmeasur': 1, 'mdnoc': 2, 'hydroxysin': 1, 'polit': 2, 'tmp': 13, 'amox': 2, 'glomerular': 2, 'crossmatch': 5, 'episodex': 1, 'cozaar': 3, 'contineu': 2, 'binder': 7, 'righ': 2, 'smx': 13, 'sarcoid': 8, 'losdartan': 1, 'nifedipin': 15, 'crampo': 1, 'prescribt': 1, 'hyperthermia': 42, 'niifedipin': 1, 'sevelamir': 3, 'graph': 2, 'plz': 3, 'avgraft': 1, 'quaic': 1, 'bactrimm': 1, 'convent': 9, 'matur': 4, 'rbb': 1, 'bracheocephal': 2, 'mrv': 2, 'heav': 12, 'crossmathc': 1, 'zpak': 2, 'nifedepin': 1, 'clavulan': 2, 'melanot': 5, 'pruritu': 4, 'hematemesi': 5, 'mptb': 6, 'vanocmycin': 2, 'phleb': 1, 'reoccurr': 2, 'notif': 9, 'xerofoam': 1, 'clump': 1, 'maroon': 7, 'prepe': 1, 'diveriticul': 1, 'diverticulti': 1, 'colonscopi': 2, 'pendinf': 1, 'unrin': 1, 'antibioticd': 1, 'sution': 2, 'blown': 1, 'milder': 5, 'extrimitit': 1, 'remiand': 1, 'ressect': 1, 'psuedmona': 1, 'azitinem': 1, 'amikacin': 9, 'iliostomybag': 1, 'oncontact': 1, 'inpast': 1, 'sweater': 2, 'peudamona': 1, 'illoestomi': 1, 'intolerac': 1, 'inhail': 2, 'dribbl': 1, 'chset': 1, 'appitit': 9, 'reuir': 1, 'tackycard': 1, 'antibioticss': 1, 'illeostomi': 2, 'tipotropium': 1, 'lumin': 3, 'pseudamonsa': 1, 'tiopropium': 1, 'tiger': 1, 'throbe': 1, 'morpin': 4, 'inncid': 1, 'makept': 1, 'guiafenesin': 5, 'dur': 4, 'paxil': 9, 'modal': 3, 'adheas': 1, 'chnged': 1, 'lforearm': 1, 'porgress': 1, 'leveqiun': 1, 'kexel': 1, 'zyvox': 2, 'hyperglycamia': 1, 'linein': 1, 'breathin': 2, 'deepbreath': 1, 'klonipin': 3, 'lbrach': 1, 'slighti': 3, 'exersic': 1, 'hyperglycem': 13, 'olac': 2, 'pipe': 2, 'serv': 6, 'ren': 1, 'overexpand': 1, 'norom': 1, 'lidcain': 1, 'conditoin': 1, 'colitisrequir': 1, 'anticholinerg': 3, 'revieew': 1, 'rant': 3, 'whe': 3, 'pharm': 8, 'fortaz': 2, 'agbg': 1, 'panicki': 2, 'physicv': 1, 'rrad': 1, 'duaderm': 2, 'breathig': 1, 'cahir': 2, 'flatuat': 1, 'availabilti': 1, 'sulphat': 3, 'confim': 1, 'ocean': 1, 'luq': 8, 'lfa': 3, 'lquid': 2, 'hyperluc': 6, 'eventhough': 1, 'papsp': 1, 'blod': 5, 'lobectomyand': 1, 'magmt': 1, 'prece': 1, 'aabg': 1, 'psuedamonu': 1, 'finasterid': 2, 'adenoca': 5, 'hcap': 38, 'paliat': 1, 'catalogu': 1, 'amoxicillin': 8, 'cholangioca': 1, 'dysautonomia': 2, 'legion': 1, 'melanoma': 7, 'graduat': 2, 'howvev': 1, 'hyperkalem': 5, 'lbp': 5, 'obstain': 1, 'tbili': 13, 'metoprol': 3, 'doublecoverag': 1, 'cholangio': 2, 'refresh': 1, 'bliari': 1, 'nutrion': 2, 'antiparkinson': 2, 'olecranan': 1, 'orif': 12, 'ment': 2, 'endpoint': 2, 'elast': 2, 'reigmen': 1, 'enterocutan': 2, \"piv'\": 8, 'excrori': 1, 'azotemia': 9, 'misattach': 2, 'fistul': 3, 'radiographi': 5, 'piviot': 2, 'taker': 1, 'fistuologram': 1, 'castleman': 1, 'pelv': 3, 'lexapro': 8, 'chic': 1, 'ronchor': 16, 'unicentr': 1, 'laproscop': 1, 'primidon': 4, 'hida': 5, 'amiodipin': 2, 'receivl': 1, 'wallpap': 1, 'dyskinet': 2, 'ercp': 10, 'choledocholithiasi': 4, 'tugor': 2, 'interior': 1, 'dex': 4, 'successu': 1, 'ioversol': 1, 'csurg': 6, 'turner': 1, 'transcutan': 3, 'poi': 1, 'respirophas': 1, 'optimum': 1, 'laxiti': 3, 'pec': 1, 'nv': 3, 'shield': 1, 'instraspin': 1, 'aortobi': 1, 'visipaqu': 5, 'wak': 1, 'invad': 7, 'avid': 9, 'brainstem': 2, 'lunc': 1, 'destroy': 3, 'cerebellum': 6, 'erod': 5, 'uncovertebr': 3, 'pet': 17, 'imping': 9, 'paraesophag': 7, 'spinou': 2, 'intraoss': 2, 'encroach': 3, 'percept': 1, 'aspergillu': 11, 'cannul': 5, 'nebsq': 1, 'pneumonectomi': 5, 'respirtori': 4, 'downt': 2, 'abssent': 1, 'openingli': 1, 'hematuirc': 1, 'initial': 1, 'bronchorrhea': 1, 'inpuls': 1, 'betwwen': 1, 'databas': 2, 'necklac': 2, 'operta': 1, 'scarum': 1, 'ywlloe': 1, 'corsintropin': 1, 'sctlc': 1, 'papain': 1, 'wiothout': 1, 'nosocomi': 15, 'satisafcatori': 1, 'wavsform': 1, 'therapistin': 1, 'slid': 2, 'vodka': 5, 'detial': 3, 'sedtaion': 1, 'agian': 3, 'risisng': 1, 'unclog': 1, 'prozac': 6, 'hypotent': 7, 'stack': 2, 'realt': 2, 'soflti': 4, 'reviw': 2, 'butt': 5, 'sliip': 1, 'therfeor': 1, \"cont'd\": 1, 'memeori': 1, 'slighli': 5, 'sba': 1, 'agitata': 1, 'continuu': 1, 'lithiumm': 1, 'afeebril': 1, 'efeect': 1, 'veceronium': 2, 'clipboard': 4, 'spkie': 2, 'mdo': 1, 'plumonari': 1, 'dolasetron': 1, 'physiotherapi': 3, 'tolaret': 1, 'contit': 1, 'improvementtv': 1, 'rifampin': 6, 'uss': 1, 'uterin': 5, 'treach': 1, 'prr': 1, 'strptomycin': 1, 'anzamet': 1, 'weam': 1, 'recc': 10, 'emet': 1, 'sponten': 3, 'becan': 1, 'cortistim': 1, 'anzimetx': 1, 'tahypn': 1, 'edemed': 1, 'cure': 2, 'rip': 3, 'srat': 1, 'weamn': 1, 'sleav': 2, 'brighter': 3, 'meant': 3, 'matreess': 1, 'coagulopath': 3, 'el': 2, 'commnec': 1, 'blank': 2, 'myelodysplast': 2, 'encrust': 1, 'clott': 1, 'chalki': 1, 'respiartori': 1, 'inermit': 1, 'declar': 2, 'dampn': 1, 'digest': 2, 'arteriogram': 3, 'pleuroparenchym': 4, 'delasetron': 1, 'communic': 1, 'antiemet': 4, 'movemnt': 1, 'imepenum': 1, 'benedryl': 4, 'relet': 1, 'imipenam': 1, 'thkish': 2, 'rapport': 7, 'mcl': 1, 'tnick': 1, 'cecum': 8, 'dermoid': 1, 'subpoena': 1, 'suppert': 1, 'mtb': 3, 'unconsci': 1, 'pltl': 1, 'magazin': 3, 'vicari': 3, 'agatroban': 1, 'micxumi': 1, 'interac': 1, 'usction': 1, 'regurgat': 1, 'represn': 1, 'propos': 4, 'lbmx': 2, 'theori': 3, 'sectreion': 1, 'discrep': 6, 'upprt': 2, 'ramain': 1, 'rhonchiou': 2, 'tylenolx': 1, 'routinc': 1, 'hemisper': 1, 'lishen': 1, 'haematuria': 2, 'trede': 3, 'ndari': 1, 'neostigman': 1, 'streptomycin': 1, 'sickl': 1, 'drning': 1, 'softer': 8, 'daughetr': 1, 'ethambutol': 1, 'afrebril': 2, 'guardianship': 5, 'lsw': 1, 'perrlaa': 1, 'prresent': 1, 'isoniazid': 2, 'allevi': 12, 'alongsid': 10, 'urs': 1, 'anzement': 1, 'collectio': 2, 'watersh': 3, 'echoli': 1, 'gancyclovir': 3, 'allerig': 2, 'perisist': 2, 'circuit': 7, 'decend': 2, 'abrasionx': 1, 'daptomycin': 2, 'reimag': 7, 'phrase': 7, 'scretion': 1, 'tel': 1, 'na^^': 1, 'shifwt': 1, 'spile': 1, 'clsose': 1, 'imepenim': 1, 'portclip': 3, 'whithin': 1, 'raeb': 1, 'rojm': 1, 'opinion': 7, 'ambisom': 2, 'succinctli': 1, 'reexpand': 2, \"'scvp\": 1, 'diuris': 4, 'trcheotomi': 1, 'church': 2, 'trait': 3, 'serosangin': 3, 'erali': 1, 'custodi': 3, 'decreasedin': 1, 'gender': 3, 'ladder': 1, 'espeic': 2, 'pyrazanamid': 1, 'paid': 2, 'apprpriat': 1, 'swing': 6, 'guaz': 3, 'prcedur': 1, 'vegit': 6, 'conjuct': 2, 'uffp': 2, 'erythro': 2, 'sag': 1, 'diusesi': 1, 'overdiures': 2, 'vomitu': 2, 'getout': 1, 'pharmacuet': 1, 'pentobarbitol': 1, 'socialwork': 2, 'paral': 1, 'adminis': 1, 'midesophagu': 1, 'resond': 3, 'anpea': 1, 'solv': 3, 'cisatraciriuum': 1, 'deffer': 5, 'hyoactiv': 1, 'progr': 3, 'essent': 2, 'luung': 1, 'rotorest': 1, 'combo': 4, 'pharmacist': 5, 'mang': 3, 'transderm': 2, 'speciment': 1, 'periorbi': 1, 'hypocapnea': 1, 'eupport': 1, 'glden': 1, 'blanc': 2, 'pronat': 3, 'andtherefor': 1, 'klonapin': 2, 'uurs': 1, 'riedel': 1, 'ivl': 2, 'mosltli': 1, 'regland': 1, 'amoount': 2, 'multiposu': 1, 'wi': 4, 'medciat': 2, 'popit': 2, 'kink': 7, 'hyperoxia': 2, 'malasia': 2, 'cisatracurium': 2, 'proprofol': 3, 'resov': 2, 'unrais': 1, 'displeas': 1, 'tronchoscopi': 1, 'nsicu': 1, 'haslimit': 1, 'tign': 1, 'wdi': 6, 'apen': 4, 'nlargement': 1, 'concult': 1, 'maitian': 1, 'bilaer': 1, 'demarc': 4, 'supplemet': 1, 'expwhe': 1, 'antibiotic': 1, 'consistentwith': 1, 'redsid': 1, 'trasfus': 2, 'cistatiacurium': 1, 'slep': 1, 'unopen': 2, 'periorbit': 4, 'suporrt': 1, 'puil': 2, 'iniatilli': 1, 'hypergycem': 1, 'audubl': 1, 'emeg': 1, 'triadyn': 7, 'witn': 1, 'coma': 4, 'inhlaer': 1, 'nursng': 1, 'betetr': 1, 'dopov': 1, 'tomorrrow': 2, 'throughouth': 1, 'bmp': 1, 'depsit': 2, 'urien': 2, 'mainatinig': 1, 'morphein': 1, 'unitl': 3, 'mojor': 1, 'peed': 1, 'cist': 1, 'balacn': 2, 'mehtadon': 1, 'sluggisli': 2, 'venil': 1, 'superad': 1, 'refex': 1, 'retun': 1, 'dop': 10, 'acidod': 2, 'notenurs': 1, 'humulin': 5, 'opsit': 2, 'ba': 17, 'sputim': 1, 'hypotensv': 1, 'pancx': 4, 'uncov': 3, 'frustrarion': 1, 'sort': 8, 'attmpt': 3, 'oppinion': 1, 'trueli': 1, 'pnumo': 1, 'fellto': 1, 'linesit': 1, '^na': 1, 'omg': 1, 'belief': 1, 'grimi': 1, 'incresinng': 1, 'futil': 3, 'auscultaion': 1, 'ureg': 1, 'multiposi': 2, 'devid': 1, 'faili': 2, 'conclud': 5, 'residul': 2, 'dnuero': 1, 'sart': 2, 'abf': 1, 'discomfor': 1, 'z': 4, 'fluc': 8, 'tcdp': 5, 'sadd': 1, 'abdom': 2, 'religi': 1, 'sercet': 1, 'refferr': 2, 'intervascular': 1, 'dioppler': 1, '^^hr': 2, 'ite': 1, 'repleatd': 1, 'evem': 1, 'dtiff': 1, 'comgeal': 1, 'bot': 2, 'pali': 2, 'fgiven': 1, 'mind': 10, 'musculatur': 6, 'mmove': 1, 'anlkl': 1, 'lest': 1, \"ambu'\": 2, 'offabx': 1, 'cholang': 7, 'fowl': 2, 'slightest': 2, 'contct': 1, 'clasp': 1, 'uncomforatbl': 1, 'lenghti': 1, 'recess': 5, 'hro': 1, 'braclet': 1, '^hr': 3, 'prescript': 9, 'awarenss': 1, 'inadvertantli': 1, 'cab': 4, 'otherw': 1, 'coough': 1, 'commsnd': 1, 'plummet': 1, 'vomitig': 1, 'mentaton': 1, 'inadvertenti': 1, 'boredom': 1, 'diminih': 2, 'lasisx': 1, 'nasaal': 1, 'voucher': 2, 'crtx': 1, 'tacrol': 1, 'intravascularli': 14, 'videofluoroscop': 8, 'hdl': 3, 'unintent': 1, 'gut': 10, 'nitrofurantoin': 6, 'fexofenidin': 1, 'bumetanid': 2, 'ppft': 4, 'vfib': 4, 'restat': 1, 'funciton': 1, 'ridg': 3, 'ideat': 5, 'xyphoid': 2, 'angin': 4, 'camb': 1, 'cadaver': 1, 'dyskinesi': 2, 'waev': 2, 'fluvoxamin': 1, 'requiringhd': 1, 'srh': 4, 'pmibi': 2, \"i'li\": 1, 'accommod': 2, 'df': 13, 'pravastat': 1, 'vf': 1, 'biomark': 9, 'betalactam': 1, 'goc': 6, 'tn': 6, 'quot': 2, 'song': 1, 'bronchomalacia': 5, 'endocrinologist': 2, 'decerebr': 1, 'fahrenheit': 1, 'dextro': 1, 'cyclic': 2, 'acur': 2, 'leukokcytosi': 1, 'haltol': 1, 'persantin': 3, 'poetri': 1, 'edentul': 11, 'xplant': 1, 'precert': 1, 'click': 2, 'inord': 2, 'smmhg': 1, 'gej': 1, 'resovlv': 1, 'spew': 1, 'auth': 1, 'stanc': 2, 'prednisom': 1, 'model': 9, 'represent': 2, 'toiltet': 3, 'exept': 2, 'vfa': 1, 'continun': 1, 'ivpwith': 1, 'girmmac': 1, 'closley': 2, 'pravastatin': 7, 'pyriform': 9, 'nightsweat': 3, 'upstrok': 6, 'seroqul': 1, 'cryoptherapi': 1, 'russia': 1, 'cariac': 1, 'poem': 1, 'awail': 1, 'cce': 1, 'mofetil': 3, 'icteru': 29, 'fumar': 5, 'viedo': 1, 'ulyt': 4, 'ketoacidosi': 1, 'subcot': 1, 'normoglycemia': 1, 'lengthen': 4, 'lactam': 4, 'uppermost': 3, 'diabetesi': 1, 'immunesuppress': 2, 'unsign': 1, 'ganglia': 10, 'lood': 2, 'transpos': 1, 'unretract': 1, 'sysotl': 2, 'eosinophilia': 12, 'enalopril': 2, 'osmot': 2, 'chd': 1, 'begn': 1, 'andvanc': 1, 'wma': 6, 'seroquil': 4, 'clonzapam': 1, 'brochospasm': 1, 'mycophenol': 4, 'commit': 5, 'intubati': 1, 'da': 5, 'levit': 1, 'ldl': 2, 'chol': 4, 'immigr': 1, 'purposefuli': 1, 'mmf': 4, 'velar': 3, 'vronch': 1, 'qmi': 1, 'faiulr': 6, 'dispens': 4, 'whee': 1, 'bourbon': 1, 'advisor': 3, 'delusion': 2, 'lobbi': 2, 'escort': 3, 'behavoir': 2, 'whcih': 2, 'converstaion': 1, 'rrom': 1, 'aros': 1, 'aval': 2, 'comfirm': 2, 'ventricuilar': 1, 'caythet': 1, 'albtuerol': 2, 'vioxx': 1, 'disect': 2, 'diffaculti': 1, 'gaurd': 4, 'defiecit': 1, 'agil': 1, 'suctioningx': 1, 'pleasw': 1, 'manor': 2, 'aodm': 2, 'chunk': 2, 'roof': 3, 'origion': 1, 'accordf': 1, 'accquir': 1, 'occcasion': 1, 'furhter': 4, 'allen': 1, 'wnt': 1, 'baqth': 1, 'memeb': 1, 'residua': 5, 'negit': 2, 'nasasl': 1, 'maintian': 5, 'probuct': 1, 'rescussit': 2, 'awel': 1, 'sistend': 1, 'ahen': 1, 'coorel': 2, 'pleuric': 1, 'biatrial': 3, 'bouls': 1, 'lymphangit': 7, 'nine': 7, 'cbp': 4, 'diarreah': 1, 'yaunk': 1, 'appetiet': 1, 'whenn': 1, \"mov't\": 1, 'perpipher': 2, 'floswsheet': 1, 'foloow': 3, 'aspleen': 1, 'deseas': 1, \"pe'\": 2, 'tarnsfr': 1, 'conferm': 1, 'hipoxia': 1, 'elevet': 2, 'interup': 5, 'replecmenbt': 1, 'effuis': 1, 'arousabel': 1, 'fructur': 1, 'ensym': 1, 'cavogram': 1, 'retin': 1, 'park': 6, 'anwser': 1, 'hcit': 1, 'wqith': 3, 'penidng': 2, 'psychot': 7, 'portacath': 11, 'portocath': 2, 'vte': 6, 'quarter': 8, 'tylenlol': 1, 'nfb': 4, 'combi': 2, 'nactiv': 1, 'gingeral': 5, 'dateto': 1, 'atert': 1, 'tolerat': 1, 'hypertent': 1, 'sex': 1, 'stiil': 1, 'cocyyx': 1, 'coaars': 1, 'ocassioan': 1, 'approprait': 1, 'bolos': 1, 'buttuck': 4, 'million': 4, 'experenc': 1, 'aoung': 1, 'pasti': 4, 'wavew': 1, 'perip': 2, 'substitut': 4, 'auscalt': 1, 'isod': 1, 'lisw': 4, 'oar': 1, 'backupset': 1, 'atrest': 1, 'surrent': 1, 'deepen': 1, 'generalis': 2, 'penicllan': 1, 'vet': 2, 'readminist': 1, 'hich': 1, 'hypervolem': 8, 'sctl': 2, 'valastran': 1, 'currenltli': 1, 'lmp': 3, 'thinnet': 1, 'softlt': 1, 'wg': 2, 'seroussang': 1, 'hey': 1, '^ing': 1, 'quaniti': 2, 'microgram': 1, 'ral': 1, 'pne': 1, 'streptococc': 1, 'bicuspid': 2, 'cvc': 9, 'magsulf': 1, 'shampoo': 1, 'creap': 1, 'asbp': 1, 'gg': 7, 'galactomanan': 4, 'polycythemia': 3, 'mineralocorticoid': 1, 'fludrocortison': 3, 'galactomannan': 17, 'decomepns': 1, 'possibiliy': 1, 'methyprednison': 3, 'counsel': 6, 'hydrocodon': 10, 'ribavarin': 1, 'betaglucan': 1, 'interferon': 3, 'suboccipit': 1, 'discribt': 1, 'crave': 1, 'pupl': 3, 'assertain': 1, 'mastoidectomi': 1, 'mone': 1, 'cortef': 2, 'malform': 2, 'ciger': 1, 'initilli': 1, 'pica': 2, 'chicken': 2, 'oesophag': 1, 'jejunocutan': 1, 'bagun': 1, 'unaffect': 2, 'opr': 1, 'strictur': 14, 'ogd': 1, 'diaprosi': 1, 'comfrtabl': 1, 'lfluid': 1, \"did't\": 1, 'noodl': 2, 'ygd': 7, 'quesiton': 3, 'subtherapi': 1, 'rulobectomi': 1, 'sobclin': 1, 'multivessel': 7, 'seroid': 1, 'whith': 2, 'gassi': 4, 'gvn': 1, 'minit': 1, 'initrex': 1, 'imitrex': 2, 'agb': 1, 'anxioud': 1, 'nectrar': 1, 'lev': 1, 'vegetarian': 4, 'ahv': 2, 'trazedon': 3, 'jovial': 1, 'dypneic': 1, 'awaitng': 4, 'mgiv': 2, 'minmal': 3, 'quanit': 1, 'evernt': 1, 'sulpha': 1, 'floxacin': 1, 'afternooon': 2, 'lighthead': 4, 'aorticopulmonari': 2, 'inspit': 4, 'hyperplasia': 1, 'gand': 1, 'uninterpret': 6, 'grill': 2, 'inn': 2, 'azythromacyn': 1, 'difficalti': 1, 'shelter': 5, 'monitoirng': 1, 'tenant': 1, 'homeless': 9, 'icreas': 3, 'lume': 1, 'reinstitut': 3, 'limitedli': 1, 'dialudid': 3, 'wbat': 1, 'hrc': 3, 'amlodapin': 1, 'rw': 8, 'supress': 6, 'rhonki': 2, 'alv': 4, 'vasculit': 2, 'repsiratori': 4, 'tka': 1, 'nafcillin': 6, 'simva': 3, 'lcpc': 18, 'cacarb': 1, 'glucocorticoid': 2, 'criticaid': 14, 'prochlorperazin': 8, 'appred': 1, 'bland': 4, 'dvelop': 1, 'avt': 1, 'diclox': 1, 'extran': 1, 'showscrackl': 1, 'hemmorhag': 5, 'cyanocobalamin': 6, 'improov': 4, 'recevd': 1, 'perocet': 2, 'precari': 1, 'positit': 2, 'artifactu': 7, 'concomit': 9, 'imprrov': 1, 'compfort': 1, 'hype': 1, 'wegner': 3, 'predic': 1, 'procidex': 1, 'ingli': 1, 'blade': 2, 'dissynchroni': 1, 'agter': 2, 'endometriosi': 2, 'covera': 1, 'facemast': 1, 'hemmorrhag': 2, 'holosyst': 3, 'vut': 1, 'pach': 1, 'achi': 3, 'desaturadt': 1, 'vitd': 4, 'yesteday': 3, 'multicfoc': 1, 'iprotrop': 1, 'nafcilin': 1, 'prednsion': 2, 'rimantidin': 2, 'degrees': 1, 'therex': 10, 'lebatalol': 1, 'slighltli': 2, 'capillar': 1, 'sleap': 1, 'lossess': 1, 'anticp': 3, 'cryoglobulin': 3, 'acetominophen': 2, 'dah': 11, 'adequetli': 1, 'chiropractor': 1, 'search': 5, 'benifit': 1, 'calendar': 2, 'gat': 1, 'nurisng': 3, 'parang': 1, 'origress': 1, 'class': 3, 'meticulu': 1, 'orienterd': 1, 'avellyn': 1, 'mostlli': 1, 'nyha': 1, 'coocyx': 4, 'pharyg': 1, 'cond': 4, 'bivalv': 2, 'mexiliten': 1, 'shaunessi': 1, 'coumidin': 1, 'corel': 1, 'nno': 1, 'ivfluid': 1, 'alevyn': 3, 'glutteal': 1, 'intubationl': 1, 'striat': 1, 'addl': 5, 'supersel': 1, 'trv': 4, 'intraren': 5, 'visapaqu': 2, 'hyperenhanc': 3, 'microcoil': 1, 'trancathet': 1, 'microcathet': 2, 'pseudoanuerysm': 1, 'microwir': 1, 'cobra': 4, 'midport': 1, 'upsiz': 6, 'transcend': 1, 'embo': 1, 'palpatori': 1, 'arteriotomi': 1, 'balkan': 1, 'renegad': 1, 'slurri': 1, 'stc': 1, 'encouraag': 2, 'whren': 1, 'blodd': 1, 'abfas': 1, 'toleratin': 1, 'promoot': 1, 'phosphor': 6, 'bowwel': 1, 'restrian': 1, 'slugish': 2, 'circ': 3, 'lomotil': 2, 'meqkcl': 2, 'obeyi': 1, 'staart': 1, 'turrn': 1, 'coinsid': 2, 'yankeuur': 1, 'weakeer': 1, 'metroprolol': 6, 'expidit': 1, 'ppt': 2, 'stqrt': 1, 'progrewss': 1, 'feedw': 1, 'diissoriiennt': 1, 'commannd': 1, 'naseltrachea': 1, 'hgealth': 1, 'pphlegm': 1, 'pleurisi': 4, 'chop': 4, 'lymphedema': 1, 'multicent': 1, 'hyptens': 1, 'xenopi': 1, 'pleuriti': 1, 'sidewal': 3, 'bendamustin': 1, 'drinker': 5, 'msir': 2, 'follicular': 1, 'igg': 10, 'megestrol': 4, 'pentamadin': 1, 'proctiti': 3, 'rituximab': 1, 'spectrim': 1, 'antibioc': 1, 'pericolon': 1, 'enrol': 1, 'hcd': 1, 'enhancemnt': 1, 'chemotherapeut': 2, 'transform': 7, 'fludarabin': 1, 'qweek': 2, 'malodor': 2, 'infraclavicular': 2, 'loperamind': 1, 'ppossibl': 1, 'war': 3, 'thrive': 4, 'ctabd': 1, 'orthostasi': 3, 'qmonth': 1, 'mitoxantron': 1, 'refractori': 10, 'zevalin': 1, 'pinu': 1, 'tattoo': 2, 'interposit': 6, 'fibrou': 3, 'chilaid': 1, 'queri': 11, 'penu': 1, 'anterolisthesi': 12, 'ventr': 1, 'omf': 2, 'prox': 3, 'impli': 3, 'peal': 1, 'grind': 3, 'mepiplex': 4, 'rove': 2, 'gnawl': 1, 'pnbt': 2, 'becomc': 1, 'glucogon': 3, 'decubetu': 1, 'junct': 1, 'speciman': 2, 'holler': 1, 'exxerct': 1, 'wegd': 1, 'lct': 2, 'phenegran': 1, 'suprabas': 3, 'tylonol': 2, 'omni': 4, 'protrus': 5, 'nut': 2, 'hemidiaphragmat': 7, 'nsc': 1, 'tolerart': 1, 'inp': 2, 'killer': 1, 'lsctab': 3, 'hyperelev': 1, 'pulonari': 4, 'odour': 1, 'mgoxid': 1, 'twist': 2, 'enabl': 9, 'tension': 9, 'thorencentesi': 1, 'voiec': 1, 'irat': 1, 'reposist': 1, 'dilerium': 1, 'bpcuff': 1, 'zyprea': 2, 'uterol': 1, 'hic': 1, 'unccop': 1, 'bll': 6, 'reprep': 1, 'bruse': 3, 'monitorfor': 1, 'thyroidoxicosi': 1, 'prenison': 1, 'galrgin': 1, 'mnimal': 1, 'tanninsh': 1, 'persent': 1, 'detriment': 1, 'esmolo': 1, 'cring': 1, 'bari': 3, 'nioght': 1, 'hop': 3, 'cdif': 7, 'porrel': 1, 'mfpvc': 1, 'klitchen': 1, 'omli': 1, 'erceiv': 1, 'hiccup': 3, 'lrad': 1, 'incoprehensibel': 1, 'addendun': 1, 'rforearm': 1, 'grochong': 1, 'broach': 3, 'itm': 1, 'positio': 1, 'bolusn': 1, 'wakeup': 9, 'thyroidtoxosi': 1, 'muxhroom': 1, 'nightshift': 1, 'normothermia': 1, 'amioderon': 6, 'impiar': 1, 'zoysn': 5, 'vacol': 1, 'esmollol': 1, 'glottic': 1, 'understatand': 1, 'icepack': 1, 'guaicc': 1, 'quiver': 1, 'sogt': 1, 'sponatan': 1, '^respons': 1, 'extrub': 1, 'hormon': 3, 'eveal': 1, 'procudt': 1, 'disynchronu': 1, 'polymorph': 1, 'offend': 6, 'defitilid': 1, 'inconisit': 1, '^amt': 2, 'multiform': 5, 'weaken': 6, 'interog': 2, 'dysnchroni': 1, 'capoten': 1, 'multipli': 2, 'chatter': 1, 'nurten': 1, 'ril': 1, 'baselineand': 1, 'correctiom': 1, 'lime': 2, 'dofetilid': 3, 'fixationg': 1, 'unsynchron': 1, 'qac': 2, 'orientx': 1, 'quanitifi': 1, 'voriconazol': 4, 'grim': 2, 'resul': 2, 'awe': 1, 'portibl': 1, 'hemeodynam': 1, 'defervec': 1, 'psycot': 2, 'foer': 1, 'effectand': 1, 'compensart': 1, 'tylenlo': 1, 'bigemin': 3, 'continuy': 1, 'ver': 3, 'ventricularli': 2, 'wsa': 1, 'bananna': 3, 'whisper': 2, 'storm': 1, 'avpac': 1, 'readmt': 1, 'gardianship': 2, 'dialat': 5, 'blankli': 1, 'thyroplastym': 1, 'oversea': 2, 'sbp^': 1, 'thyroidtoxicosi': 1, 'buttox': 2, 'disoreint': 1, 'bracheal': 1, 'taperd': 1, 'liguid': 4, 'attept': 1, 'slind': 1, 'spotan': 4, 'interogat': 1, 'sponan': 1, 'defilitid': 1, 'vioe': 1, 'esay': 1, 'cove': 3, 'furtur': 1, 'psycholog': 2, 'aforment': 1, 'dantrolen': 1, 'avp': 2, 'thyrombocytopenia': 1, 'fuse': 5, 'overninght': 1, 'rashi': 1, 'outlook': 3, 'kayexol': 2, 'bace': 1, 'extremeit': 1, 'thyrotoxosi': 1, 'forev': 1, 'thyrotoxicosi': 1, 'boggi': 2, 'infilr': 1, 'resplet': 1, 'movt': 9, 'coccyc': 2, 'requiri': 2, 'incraes': 1, 'visualis': 2, 'rambl': 2, 'mormimg': 1, 'guardain': 1, 'dexamethison': 1, 'ibupropin': 1, \"bolus'\": 1, 'bond': 1, 'gass': 2, 'fluoproscop': 1, 'ordeer': 1, 'mandril': 1, 'nummer': 1, 'infreq': 3, 'dimenish': 1, 'apyrexi': 1, 'stromg': 1, 'altho': 1, 'steer': 1, 'yearl': 1, 'penectomi': 1, 'humdifi': 1, 'adeno': 9, 'midinsp': 1, 'abdomni': 1, 'increass': 2, 'kleenex': 1, 'luceni': 1, 'tachyarrhythemia': 1, 'bronchiestasi': 1, 'sulcruf': 1, 'vancomycina': 1, 'coph': 1, 'habit': 11, 'emprir': 1, 'sdh': 12, 'athosclerot': 1, 'xopen': 1, 'sucralaf': 3, 'methemoglobinem': 2, 'solumdedrol': 1, 'unmpress': 1, 'epsisod': 1, 'diltitazem': 1, 'emphasi': 9, 'mem': 1, 'nyastatin': 2, 'deriv': 8, 'stori': 10, 'dmfj': 9, 'beg': 2, 'unremarkalb': 1, 'rochi': 1, 'oat': 1, 'chemoradiotherapi': 2, 'tachyapn': 1, 'ectat': 6, 'bronchietasi': 2, 'sucralf': 10, 'unimpress': 7, \"cap'\": 1, 'fsq': 3, 'reachabl': 1, 'significnatli': 1, 'levoconcav': 1, 'curvatur': 4, 'creram': 1, 'skinfold': 1, 'taccycardia': 1, 'aalevyn': 1, 'chiar': 2, 'suctionedd': 1, 'maagnesium': 1, 'elav': 4, 'sinusitu': 1, 'asprat': 1, 'nformat': 1, 'ewn': 1, 'coares': 1, 'scop': 1, 'aspt': 1, 'scoplamin': 1, 'alkilosi': 1, 'interventin': 1, 'unchag': 9, 'cousr': 1, 'rtr': 1, 'restrait': 1, 'phoc': 1, 'isopa': 1, 'vai': 1, 'extriem': 1, 'monitior': 4, 'actic': 1, 'nutran': 1, 'visciou': 3, 'pipracillin': 1, 'attemtp': 3, 'significat': 1, 'linizolid': 1, 'envrion': 1, 'albuterolq': 1, 'recalibr': 3, 'dne': 1, 'remeain': 1, 'sucit': 1, 'orderedsx': 1, 'diffcult': 1, 'scolapamin': 1, 'norva': 1, 'witg': 1, 'scl': 6, 'buttck': 1, 'scopalimin': 4, 'whixh': 1, 'creeatinin': 1, 'deuoderm': 1, 'diuril': 6, 'froom': 1, 'rsba': 1, 'buttiock': 1, 'careiew': 1, 'repit': 1, 'unersid': 1, 'passion': 1, 'svl': 1, 'airay': 1, 'bilter': 2, 'upperextrim': 1, 'meteprolol': 1, 'pupport': 1, 'addentum': 1, 'witwh': 1, 'willfrequ': 1, 'afibb': 1, 'path': 13, 'scapolamin': 1, 'allvyn': 1, 'encorag': 1, 'paion': 1, 'ausculat': 1, 'impov': 3, 'undgest': 1, 'pickat': 1, 'wherr': 1, 'saccrum': 1, 'chack': 3, 'evrs': 1, 'rezero': 1, 'abraiooon': 1, 'mond': 2, 'foolw': 1, 'meuromuscular': 1, '^o': 1, 'deci': 1, 'pthad': 1, 'specialti': 4, 'tryiong': 1, 'cappillari': 1, 'antihtn': 4, 'postcholecystectomi': 1, 'lorazapam': 6, 'aloevesta': 5, 'uppon': 1, 'interspac': 4, 'asphagia': 1, 'levoquen': 1, 'diliazem': 1, 'deg': 6, 'satrt': 2, 'movingg': 1, 'fiv': 1, 'feend': 1, 'outbreak': 1, 'stuck': 14, 'unablt': 2, 'effert': 1, 'bronchopulmonari': 6, 'flusi': 1, 'difficultyl': 1, 'tickl': 1, 'concret': 1, 'distr': 3, 'rlp': 1, 'curer': 1, 'cefitim': 1, 'mot': 1, 'unir': 1, 'degress': 3, 'difiiculti': 1, 'plsnned': 1, 'aggrev': 1, 'mainitain': 1, 'recoop': 1, 'assessori': 1, 'comofort': 1, 'llllung': 1, 'infusu': 1, 'decidec': 1, 'vitla': 1, 'nillson': 1, 'trapez': 1, 'dialyisi': 1, 'mcourtney': 1, 'mcgkgmin': 1, 'palpibl': 5, 'subsequnt': 1, 'reassuanc': 1, 'dto': 2, 'perfer': 1, 'plcaement': 1, 'normotherm': 6, 'jejunostomi': 7, 'sucton': 1, 'permacath': 1, 'trxfer': 1, 'plac': 3, 'propafenon': 2, 'fpr': 5, 'aslong': 1, 'edemad': 1, 'bless': 1, 'banaa': 1, 'liqiud': 2, 'ovomit': 1, 'stuf': 4, 'brea': 1, 'cvvhdf': 4, 'ischeam': 1, 'perocoet': 1, 'ddto': 1, 'tolet': 1, '^emot': 1, 'thoraciuc': 1, 'smaill': 1, 'acidiosi': 1, 'leisur': 1, 'bilaterr': 1, 'collor': 1, \"did'nt\": 1, 'thik': 1, 'maintanc': 3, 'dilaudud': 1, 'axieti': 3, 'refrig': 1, 'ectpoy': 1, 'opium': 1, 'crrt': 7, 'tibe': 1, 'mushi': 1, 'weanec': 1, 'albimin': 1, 'goa': 1, 'deficiet': 2, 'oaao': 1, 'tinctur': 1, 'guiack': 1, '^act': 1, 'passmuir': 1, 'perinum': 1, 'decres': 7, \"'puff\": 1, 'quiton': 1, 'nea': 1, 'mea': 2, 'ssci': 1, 'boast': 1, 'placedin': 2, 'olanzpin': 1, 'petamen': 1, 'ectopii': 1, 'extrememli': 3, 'increase': 1, 'sputur': 1, 'hypersomul': 1, 'withtranspar': 1, 'tononc': 1, 'flowshhet': 1, 'hospial': 1, 'dialsysi': 1, 'sponatn': 2, 'cardiothorac': 6, 'haparin': 1, 'acebutolol': 1, 'straightcath': 1, 'sudsid': 1, 'trsch': 1, 'staight': 1, 'graviiti': 1, 'toleart': 1, 'dimidnsh': 1, '^tf': 1, 'ammount': 4, 'assiss': 1, 'minitor': 2, 'inserted': 1, 'toiletri': 1, 'diarrh': 1, 'brachialend': 1, 'trrach': 1, 'spiritu': 3, 'aletern': 1, 'perscrib': 2, 'occassin': 1, 'steristip': 1, 'ptfe': 1, 'amput': 4, 'kiebasella': 1, 'profunda': 1, 'sgl': 2, 'bk': 3, 'pvr': 2, 'globabl': 1, 'unheal': 1, 'nonheal': 2, 'femori': 1, 'tma': 2, 'tpt': 1, 'seg': 4, 'au': 3, 'asst': 2, 'awr': 1, 'dge': 1, 'subcutaneu': 1, 'thoraci': 2, 'morhpin': 3, \"'nd\": 1, 'ukp': 1, 'npt': 1, 'singlesemi': 1, 'metab': 1, 'hemodyalysi': 1, 'corona': 1, 'prviou': 1, 'retrocardiacli': 1, 'ascrib': 2, 'carevur': 1, 'interhemispher': 1, 'nucleu': 3, 'shine': 1, 'hug': 1, 'parafalcin': 1, 'radiata': 1, 'bolusu': 1, 'road': 2, 'respiron': 1, 'ea': 6, 'accu': 1, 'farsi': 3, 'fasi': 1, 'toleratig': 1, 'restrin': 2, 'tampan': 1, 'mal': 3, 'phsical': 1, 'cheeck': 1, 'usn': 1, 'shockfev': 1, 'pmin': 2, 'vare': 2, 'tug': 4, 'dieures': 1, 'alkylosi': 5, 'bloodsugar': 2, 'fer': 2, 'plant': 3, 'progrss': 1, 'peristalt': 3, 'infraobliqu': 1, 'esophog': 5, 'tracheoesophag': 2, 'preseent': 1, 'tachyracdia': 1, 'retrostern': 2, 'pnumothorax': 2, 'doea': 1, 'jibberish': 2, 'meropenium': 2, 'yesterda': 2, 'humung': 1, 'ragtim': 1, 'prioir': 1, 'tremour': 1, 'ffrequent': 1, 'frer': 1, 'sqllow': 1, 'iposit': 1, 'antibioyc': 1, 'comaprison': 1, 'promptli': 6, 'pear': 2, 'dystrophi': 1, 'esophagoesophag': 1, 'myoton': 1, 'levc': 1, 'dyphagia': 1, 'curlix': 1, 'sandpap': 1, 'antilordot': 1, 'copnsolid': 1, 'haad': 1, 'acha': 1, 'razor': 2, 'samal': 2, 'haustral': 1, 'fexis': 2, 'rat': 1, 'atrv': 1, 'oncal': 2, 'osteomeat': 1, 'wosren': 1, 'breth': 2, 'inreliev': 1, 'tirtat': 1, 'shrug': 2, 'inprov': 3, 'halo': 3, 'oxocodon': 1, 'inflt': 1, 'involuntarili': 1, 'plegia': 1, 'reation': 1, 'oprogrss': 1, 'rescreend': 1, 'phenylenphrin': 1, 'asess': 5, 'stooper': 1, 'bedid': 1, 'possibilti': 3, 'bode': 1, 'fenantyl': 2, 'kinaid': 1, 'andat': 1, 'toth': 1, 'bronchiol': 14, 'librium': 1, 'mediastern': 1, 'mucamyst': 1, 'diconnect': 1, 'rese': 1, 'soical': 1, 'yestareday': 1, 'focla': 1, 'nonischem': 2, 'spescif': 1, 'ib': 6, 'ctube': 3, 'xday': 1, 'lactualos': 1, 'icnreas': 1, 'autodiruesi': 1, 'pntx': 2, 'tampondad': 1, 'hemoptosi': 1, 'sca': 1, 'polic': 3, 'subsuuent': 1, 'decreasinbg': 1, 'braos': 1, 'drainagedecreas': 1, 'sweet': 2, 'extremitiy': 2, 'strroid': 1, 'freew': 1, 'imrpov': 2, 'orag': 1, 'scotch': 2, 'sclca': 2, 'wallsx': 1, 'proven': 4, 'patientno': 13, 'transbronchoscop': 1, 'leuckocytosi': 2, 'hyperacut': 1, 'xfer': 1, 'inpout': 1, 'pneuthorax': 1, 'dta': 1, 'intiait': 1, 'oth': 2, 'diaseas': 1, 'sclc': 5, 'cubit': 2, 'menig': 1, 'assay': 11, 'previousnot': 1, 'etcc': 1, 'questionn': 1, 'psuedoaneurysm': 1, 'someh': 1, 'preliminarili': 4, 'turbul': 1, 'heartburn': 6, 'lifespan': 1, 'throu': 1, 'discogen': 1, 'imporv': 5, 'compound': 9, 'saccular': 1, 'diarrheal': 1, 'fasciiti': 2, 'indinavir': 1, 'mandibular': 2, 'sym': 5, 'retropuls': 8, 'ileocec': 1, 'intermedi': 12, 'hiatel': 2, 'pathog': 1, 'coagulas': 6, 'tricyc': 2, 'gif': 7, 'thermal': 1, 'retinpathi': 1, 'scrrene': 1, 'undect': 1, 'appaear': 1, 'ling': 1, 'circumcis': 2, 'bleb': 5, 'eopgen': 1, 'changesd': 1, 'indol': 3, 'forumulari': 1, 'abnl': 8, 'cahin': 1, 'stavudin': 2, 'gynecomastia': 4, 'strap': 4, 'tricycl': 1, 'suprapatellar': 5, 'diazoxid': 1, 'entiti': 3, 'replic': 1, 'assymetri': 1, 'heroin': 4, 'tprot': 3, 'dbili': 3, 'ritonavir': 5, 'maroonish': 1, 'interpolar': 11, 'hypopigment': 1, 'weightbear': 1, 'genotyp': 4, 'remaov': 1, 'trigemin': 4, 'dystroph': 4, 'conu': 6, 'willl': 5, 'lamivudin': 5, 'reconsid': 5, 'shouder': 1, 'cholic': 1, 'fascit': 1, 'spondylot': 2, 'activitu': 1, 'lipodystrophi': 1, 'gordona': 1, 'fianc': 6, 'mlkb': 9, 'althou': 1, 'visa': 2, 'polypoid': 2, 'anmd': 1, '^st': 19, 'scution': 3, 'hb': 10, 'bllede': 1, 'adenoviru': 2, 'masl': 1, 'equilibr': 2, 'guerney': 1, 'intubaton': 2, 'startedc': 2, 'vaso': 5, 'corrol': 1, 'chafen': 1, 'aplast': 1, 'tolwel': 1, 'hctand': 1, 'rb': 2, 'conton': 1, 'expiratoy': 1, 'trachealmalasia': 1, 'uli': 1, 'tunr': 1, 'desitin': 2, 'secrtet': 1, 'granddtr': 1, 'profofol': 2, 'mount': 3, \"suxn'\": 1, 'ressrp': 1, 'acq': 1, \"movm't\": 1, 'tolerar': 1, 'eletroly': 1, 'pplacement': 1, 'sust': 1, 'vulva': 1, 'miracl': 1, 'cariopulmonari': 1, 'stg': 6, 'tracehostomi': 1, 'methi': 1, 'closest': 1, 'eletrolyt': 1, 'goalrateof': 1, 'buck': 4, 'grandgaught': 1, 'opportun': 2, 'telephonn': 1, 'grandgtr': 1, 'ofobvi': 1, 'hemarroid': 1, 'recommedn': 2, 'nursung': 1, 'alkolot': 2, 'mck': 4, 'hazard': 2, 'myositi': 2, 'caridogen': 1, 'auotdiures': 1, 'interdepend': 2, 'sirolimu': 1, 'nidu': 4, 'fluctat': 1, 'nutmeg': 1, 'admissionon': 1, 'pmb': 3, 'retic': 12, 'silhouette': 1, 'nonishcem': 1, 'sirolum': 1, 'vitasl': 1, 'daugher': 3, 'groln': 1, 'moraxella': 3, 'csv': 2, 'archiv': 2, 'lassix': 1, 'gttt': 1, 'fibromat': 1, 'epoetin': 3, 'rdw': 6, 'cateth': 1, 'alfa': 3, 'qmowefr': 1, 'clx': 9, 'hepatopathi': 3, 'biplan': 1, 'immunocomprimis': 1, 'bidirect': 1, 'fav': 1, 'zemplar': 1, 'succin': 3, 'nifedipem': 1, 'nupren': 2, 'zozyn': 6, 'syndom': 2, 'multinodular': 2, 'calmli': 2, 'pot': 3, 'popsicl': 2, 'thrghoutht': 1, 'cefedipin': 1, 'antibio': 2, 'exsuffol': 1, 'mg^ed': 1, 'solidli': 1, 'tacki': 2, 'incred': 1, 'destatur': 1, 'popcycl': 1, 'albeterol': 1, 'passmuy': 1, 'smart': 1, 'suffol': 1, 'pane': 3, 'secretiosn': 2, 'upddat': 1, 'diabeti': 2, 'coctail': 1, 'aspiratoin': 1, 'giav': 1, 'stron': 1, 'pvl': 2, 'lunchtim': 4, 'insuffal': 1, 'genral': 1, 'extem': 5, 'inexsuffl': 5, 'passeymu': 1, 'suffic': 1, 'disappoint': 1, 'ambung': 1, 'freqenc': 1, 'suffil': 1, 'desmopresson': 1, 'drawback': 2, 'gii': 1, 'pseudoseizur': 2, 'burp': 3, 'tfor': 2, 'fluccuat': 1, 'obt': 3, 'aerosl': 1, 'recievieng': 1, 'vale': 1, 'apli': 2, 'axia': 1, 'sadden': 1, 'paln': 2, 'cathetr': 2, 'inex': 1, 'ecotopi': 1, 'guven': 1, 'inspect': 8, 'sphere': 1, 'asl': 2, 'stime': 1, 'reload': 2, 'rc': 3, 'ddvap': 1, 'titratd': 1, 'protest': 1, 'detach': 4, 'insuffil': 1, 'eleva': 3, 'tracheostoni': 2, 'impr': 1, 'antib': 3, 'wasplac': 1, 'wofran': 1, 'mouthdisplay': 1, 'diuresisng': 3, 'percussor': 1, 'puv': 1, 'american': 2, 'cricopharyngeu': 1, 'fater': 1, 'stepfath': 1, 'whezz': 2, 'extremetiew': 1, 'autodiuresis': 1, 'insipid': 1, 'exsuffal': 1, 'insul': 3, 'spaud': 1, 'abotu': 1, 'neget': 1, 'somtim': 1, 'ensuffolat': 1, 'rehydr': 6, 'tkvo': 1, 'smll': 1, '^e': 1, 'glugocaon': 1, \"ok'\": 1, 'dilant': 1, '^ed': 1, 'venapunctur': 1, 'dismiss': 1, 'rpotocol': 1, 'dangers': 1, 'ivpush': 1, 'conuslt': 1, 'incas': 2, 'varianc': 2, 'acc': 3, 'lnl': 1, 'anwer': 1, 'drane': 1, 'imagin': 4, 'soda': 2, 'clap': 3, 'ethanol': 5, 'nonengorg': 1, 'conglomer': 5, 'sensor': 1, 'hotel': 3, 'steoroid': 2, 'lliquid': 2, 'proplem': 1, 'everyon': 5, 'flov': 1, 'requier': 4, 'olh': 1, 'sensic': 1, 'healh': 1, 'omlet': 1, 'methicillin': 2, 'pancreasruq': 1, 'encoourag': 1, 'adequitli': 1, 'parahilar': 2, 'aspiratioin': 1, 'swithch': 1, 'spech': 1, 'glargen': 2, 'casu': 2, 'ducclox': 1, 'lenghthi': 1, 'secreaton': 1, 'surgey': 1, 'newer': 4, 'upperback': 1, 'oxazepam': 1, 'cess': 1, 'placeon': 1, 'otoscop': 1, 'asist': 1, 'ambival': 1, 'market': 1, 'bronchiectat': 1, 'mechanci': 1, 'phenasept': 1, 'admissison': 1, 'tital': 3, 'earach': 2, 'yankhaur': 1, 'previoui': 1, 'creatinint': 1, 'sucstion': 1, 'increament': 1, 'eefect': 1, 'smudg': 3, 'toknow': 1, 'ltye': 2, 'hemidiaphram': 2, 'excersis': 2, 'prurit': 3, 'lontgstand': 1, 'seation': 3, 'outdat': 4, 'enew': 1, 'ptcont': 1, 'intermitta': 1, 'foward': 1, 'myelo': 4, 'pullmomnari': 1, \"'lcba\": 1, 'allergist': 2, 'intuba': 1, 'anguin': 1, 'mchc': 1, 'aado': 1, 'urean': 1, 'neomi': 2, \"'lgbc\": 1, 'cortisporin': 2, 'sting': 3, 'camphor': 1, 'noninvasii': 1, 'monteleukast': 2, 'cephalexin': 9, 'insertedl': 1, \"'expand\": 1, 'patientciprofloxacin': 1, 'polymyx': 2, 'caltco': 1, 'rvsp': 2, \"'lhbc\": 1, 'xs': 4, 'baso': 1, 'falur': 1, 'menthol': 1, \"'lhbi\": 1, 'albuteroliprtropium': 1, 'romi': 18, 'monohydr': 6, 'angap': 1, 'bilbasilar': 1, 'amberin': 1, 'plcment': 1, 'occasin': 1, 'aptt': 1, 'irradi': 2, 'nasopharyg': 1, 'regurgi': 2, 'legionnella': 1, 'defienc': 1, 'mibi': 2, 'entertain': 1, 'elucid': 1, 'scleral': 31, 'alsogoign': 1, 'dysphag': 2, 'hepatosplenomegali': 3, 'tetanu': 5, 'axithro': 1, 'tiotropim': 1, 'consiult': 1, 'prophi': 6, 'fluctuanc': 4, 'barrel': 1, 'haa': 2, 'vasospasm': 2, 'brochomalacia': 1, 'pancak': 2, 'incenet': 1, 'seret': 3, 'gravi': 2, 'bno': 3, 'interc': 1, 'cptq': 1, 'inappropiatli': 1, 'compromsi': 1, 'potato': 4, 'entrain': 2, 'dependend': 1, 'cefepimin': 1, 'lathrgic': 1, 'willcont': 1, 'unwrap': 1, 'demin': 1, 'pleasnt': 1, 'hemodiaysi': 1, 'cvvhd': 8, 'shoe': 2, 'malignan': 1, 'colonographi': 1, 'withn': 1, 'hearp': 1, 'hypercoagul': 2, 'nebulizor': 1, 'expcept': 1, 'dialter': 1, 'reader': 1, 'marigin': 1, 'fludrocort': 1, 'glucophag': 1, 'glugophag': 1, 'faciltiy': 2, 'forgett': 1, 'firsttwo': 1, 'wkd': 1, 'contam': 2, 'proteas': 2, 'nsip': 8, 'azetronam': 2, 'amilodipin': 1, 'aep': 2, 'streptococcu': 5, 'oop': 3, 'menstrual': 3, 'hall': 2, 'fbg': 1, 'percocett': 2, 'goodpastur': 2, 'spurriou': 1, 'rheum': 8, 'ivt': 5, 'crytogen': 1, 'menstral': 1, 'tochair': 1, 'dlpicc': 2, 'antihypertensiveslisinopril': 1, 'pancreas': 1, 'chlamydia': 3, 'aip': 3, 'oxymetri': 1, 'homicid': 1, 'weeenkd': 1, 'pnuemo': 2, 'bigem': 1, 'nightcloth': 1, 'ovb': 1, 'morepenum': 1, 'resplar': 1, 'subcl': 2, 'recollect': 3, 'surgergi': 1, 'alklos': 1, 'restlessn': 2, 'heve': 2, 'resend': 15, 'narc': 4, 'suxtion': 1, 'hematurea': 1, 'dressin': 2, 'maxiaml': 1, 'respelor': 1, 'appripri': 1, 'ttube': 1, 'oon': 2, 'inadvertant': 1, 'usal': 1, 'reccurr': 1, 'miripenim': 1, 'halidol': 1, 'dlc': 1, \"stool'\": 1, 'meclazin': 1, 'laxi': 1, 'famuli': 2, 'ultrfiltr': 1, 'goosebump': 1, 'rtn': 1, 'caraf': 7, 'unwean': 1, 'requird': 1, 'respik': 7, 'meatu': 3, 'merpenum': 1, 'gester': 2, 'ist': 2, 'kphosphat': 1, 'nitrostat': 1, 'mortal': 5, 'ta': 2, 'remaim': 1, 'natrocor': 1, 'cathert': 2, \"'avb\": 1, 'draninag': 1, 'ifo': 1, 'untifung': 1, 'feisti': 1, 'suport': 2, 'resparol': 1, '^^secret': 1, 'fluconozol': 2, 'antienxitey': 1, 'fole': 2, 'resuslt': 1, 'deconditon': 1, \"dc'ing\": 2, 'pseodomona': 1, 'ponder': 1, 'bbr': 5, 'sevral': 1, 'mint': 1, 'uncap': 1, 'ocntinu': 1, 'meclizin': 2, 'reepitheal': 1, 'pwdr': 2, 'rsing': 1, 'knowm': 2, 'odrer': 1, 'tring': 1, 'sucess': 5, 'blledi': 1, 'meripeneum': 1, 'zaroxylyn': 1, 'perenium': 1, 'antivert': 1, 'chr': 3, 'hypoxiaun': 1, 'walkman': 1, 'suctioni': 1, 'captorpril': 1, 'tot': 4, 'addhes': 1, 'vgb': 1, 'hemehct': 1, 'frequant': 1, 'duahgter': 1, 'pleueral': 1, 'nostool': 2, 'mrsp': 1, 'dogoxin': 1, 'hemoptasi': 2, 'rink': 1, 'uvolem': 2, 'opiod': 3, 'regur': 1, 'lisonopril': 1, 'survelli': 2, 'secrition': 1, 'weanin': 2, 'ditropan': 4, 'thouroughli': 1, 'drssg': 2, 'chift': 1, 'lookig': 1, 'benefici': 9, 'stomachach': 1, 'gather': 2, 'tremend': 2, 'freg': 2, 'rect': 1, 'dopral': 1, 'propens': 3, 'approri': 1, 'meripenum': 1, 'ecter': 1, 'growin': 2, 'headphon': 1, 'allcyn': 1, 'diursi': 3, 'hypxic': 1, 'potect': 1, '^level': 1, 'tz': 3, 'chenyn': 1, 'wll': 3, 'carafatefoley': 1, 'coarsw': 1, 'drawer': 1, 'asympt': 1, 'rith': 2, 'perviou': 1, 'blkt': 1, 'availibilti': 1, 'game': 2, 'prostesi': 1, 'extremley': 1, 'intract': 2, 'hemorrag': 3, 'infom': 1, 'pointintg': 1, 'distendedw': 1, 'coucgh': 1, 'davb': 1, 'compla': 1, 'afm': 2, 'bcsn': 1, 'explanant': 1, 'oneumo': 1, 'encephalomalat': 1, 'cxarevu': 1, 'peridcardi': 1, 'vivid': 1, 'leas': 1, 'statr': 1, 'erffect': 1, 'unsettl': 2, 'cellular': 10, 'serousang': 1, 'llopressor': 1, 'mmdri': 1, 'purpur': 1, 'echymosi': 1, 'mismatch': 5, 'cellulit': 1, 'cholan': 1, 'terazosin': 3, 'aocd': 1, 'sss': 2, 'unifi': 2, 'mlhh': 4, 'ppain': 1, 'accd': 1, 'trp': 1, 'disrepair': 1, 'fibe': 1, 'proccedur': 1, 'hemptysi': 1, 'clumsi': 2, 'agitaiton': 1, 'atternoy': 1, 'countri': 2, 'cost': 1, 'cylindr': 2, 'dlrc': 10, 'pseudolymphoma': 1, \"examination'\": 1, 'statist': 2, 'bronchogen': 1, 'signfic': 8, 'fidgit': 1, 'beginng': 1, 'aaax': 1, 'throacotomi': 2, 'fool': 1, 'thoractomi': 3, 'uncertainti': 1, 'mjmgb': 4, 'cinch': 1, 'childhood': 6, 'muscou': 1, 'curtain': 1, 'hgh': 1, 'candidt': 1, 'ppv': 5, 'risperidol': 2, 'mh': 4, 'wirst': 1, 'thoracenteisi': 1, 'buspar': 1, 'hyperlipedemia': 1, 'contributor': 9, 'applu': 1, 'atelectesi': 3, 'raaya': 1, 'inbetween': 4, 'eunatrem': 1, 'hypernatreamia': 1, 'unplan': 1, 'constel': 6, 'sned': 1, 'lipoma': 3, 'bread': 1, 'isosorbitr': 1, 'oupt': 3, 'pitcher': 1, 'continueto': 2, 'paraoxysm': 2, 'converas': 1, 'lbka': 1, 'iiia': 1, 'necessar': 1, 'interlobar': 3, 'bka': 2, 'unresect': 2, 'hepatocellular': 2, 'epigatrium': 1, 'angioma': 1, 'eighth': 3, 'esld': 6, 'rifaximin': 6, 'spider': 1, 'lactolos': 3, 'brcm': 1, 'hypona': 2, 'replat': 2, 'jkang': 2, 'ingrowth': 2, 'factori': 3, 'msiv': 1, 'eoimi': 1, 'paraumbil': 2, 'lusb': 5, 'fulmin': 1, 'hepatolog': 10, 'avitan': 1, 'discoveri': 9, 'opioid': 5, 'perpendicular': 1, 'managemnt': 1, 'pylonephr': 2, 'sown': 2, 'myeloprolif': 1, 'actor': 1, 'duplic': 6, 'improvemet': 2, 'enal': 1, 'crystaluria': 1, 'hyperviscous': 1, 'fracutur': 1, 'boluss': 2, 'ibratroprium': 1, 'viscos': 1, 'forcibl': 1, 'forthi': 1, \"abx'\": 2, 'neh': 1, 'sedment': 1, 'throughoutshift': 1, 'aidc': 1, 'endarterectomi': 2, 'craiotomi': 1, 'purrul': 1, 'epoc': 1, 'sxth': 1, 'hydralasin': 1, 'gor': 1, 'swear': 3, 'caors': 1, 'gliburid': 1, 'rh': 7, 'secretioin': 3, 'pivsx': 1, 'sf': 4, 'givensec': 1, 'ecreas': 1, 'ressist': 1, 'chondroid': 1, 'punct': 1, 'plced': 1, 'proectiv': 1, 'rightarm': 1, 'enchondroma': 3, 'nivv': 1, 'badli': 1, 'hypercabnia': 1, 'pinch': 2, 'icecream': 5, 'vascil': 1, 'supraren': 1, 'ipmt': 1, 'nipb': 1, 'yeloow': 1, 'intussuscept': 3, 'decdreas': 1, 'born': 2, 'cranio': 1, 'duodenojejun': 1, 'recordrd': 1, 'peform': 2, 'blackhead': 1, 'noncalcifi': 2, 'diffusley': 1, 'dest': 1, 'doxcyclin': 1, 'phenergan': 3, 'multisequ': 8, 'interrog': 7, 'airbourn': 1, 'rage': 9, 'overnth': 1, 'drainiag': 1, 'restles': 1, 'signifig': 1, 'ceffus': 1, 'trash': 1, 'negativev': 1, 'slojw': 1, 'peripneumon': 1, 'micanazol': 1, 'follwo': 2, 'rctest': 1, 'indwell': 1, 'earlli': 1, 'properlli': 1, 'crepet': 1, 'heavier': 1, 'continy': 1, 'racem': 4, 'liqid': 1, 'cocktail': 1, 'rescusit': 3, 'cardiovascularno': 1, 'ivcd': 2, 'colchicin': 3, 'dysnpea': 2, 'hypointes': 1, 'hemmorahg': 1, 'globular': 2, 'patella': 4, 'quadricep': 1, 'dti': 1, 'diaphysi': 1, 'enthesophyt': 1, 'nondisplac': 6, 'ganglion': 1, 'avuls': 4, 'creol': 2, 'tricompart': 1, 'fave': 1, 'sleepfor': 1, 'guaifenesen': 1, 'zithromycin': 1, 'infiltra': 2, 'calvarium': 4, 'extrapleur': 2, 'calyc': 1, 'postobstruct': 10, 'peridiaphragmat': 1, 'vasogen': 2, 'bidmcon': 1, 'pantaprazol': 1, 'delic': 1, 'opthamolog': 1, 'decread': 1, 'thinnest': 1, 'assessmend': 1, 'ordeal': 1, 'carinii': 7, 'hypoalbumenia': 1, 'ganciclovir': 3, \"mae'\": 1, 'sequal': 2, 'insuf': 1, 'pma': 2, 'grandual': 1, 'lact': 4, 'ptesent': 1, 'hse': 3, 'hypoxiaclin': 1, 'aroiund': 1, 'swellin': 1, 'almond': 1, 'watermelon': 1, 'rpv': 1, 'hepatofug': 2, 'rhv': 1, 'mpv': 1, 'mhv': 1, 'denot': 1, 'lpv': 1, 'precardiovers': 2, 'streptokinas': 1, 'ampulla': 2, 'notepad': 1, 'tonsil': 2, 'pocasonazol': 1, 'previu': 1, 'atg': 1, 'k^': 1, 'aspitar': 1, 'carvadlol': 1, 'antireject': 2, 'irriat': 1, 'proconazol': 1, 'nassal': 1, 'valganciclovir': 3, 'sulph': 1, 'lrrt': 1, 'posaconazol': 2, 'inseretd': 1, 'tigh': 1, 'accordac': 1, 'sultat': 1, 'rfoley': 1, 'dmii': 10, 'mucor': 1, 'curc': 1, 'dropplet': 1, 'extert': 1, 'contor': 1, 'dminish': 1, 'hydrothorax': 3, 'disign': 1, 'leumen': 1, 'cehal': 1, 'aggiat': 2, 'qolden': 1, 'skikn': 1, 'absprption': 1, 'incontact': 1, 'possbili': 1, 'brop': 1, 'subclavien': 2, 'dn': 1, 'formul': 4, 'manouev': 1, 'osteochondr': 1, 'neomycin': 1, 'rhoncii': 1, 'dessican': 1, 'fantanyl': 1, 'rif': 1, 'tonu': 1, 'tacypnea': 4, 'tback': 1, 'thime': 1, 'phianc': 1, 'discus': 1, \"cx'd\": 2, 'loke': 1, 'aldoacton': 1, '^resiudu': 1, 'umbilicu': 3, 'oxygentaion': 1, 'cherri': 1, 'pencil': 2, 'retart': 2, 'culur': 1, 'esopag': 1, 'tbc': 1, 'mucousa': 1, 'recriut': 1, 'htnsive': 2, 'incompat': 3, 'triadym': 1, 'triodyn': 1, 'fryiabl': 1, 'ofth': 1, 'glide': 1, 'hemocult': 1, 'quardant': 1, 'auxilliari': 1, 'sytol': 1, 'isthmu': 1, 'cahtet': 1, 'rifazimin': 1, 'sxi': 1, 'tricki': 2, 'diaphram': 2, 'volatg': 1, 'contrinu': 1, 'aft': 2, 'eso': 3, 'afor': 1, 'realtim': 2, 'threadi': 1, 'placec': 1, 'heparina': 1, 'doubbl': 1, 'necc': 1, 'wart': 1, 'replinish': 1, 'survil': 1, 'overdistens': 1, 'vassopressin': 3, 'biapsi': 1, 'tmof': 1, 'cytarabin': 1, 'coranari': 1, 'macro': 5, 'interuppt': 1, 'antiphsopholid': 1, 'yankeaur': 1, 'cardiomypathi': 1, 'synd': 1, 'ks': 9, 'suppliment': 7, 'aspergilli': 2, 'antiphospolipid': 1, 'devleop': 1, 'idarubicin': 1, 'exterm': 2, 'sensorium': 2, 'phospholipid': 2, 'intercours': 1, 'hypervolemia': 5, 'nro': 1, 'heterosexu': 1, 'diarreha': 1, 'atovaquon': 2, 'symm': 1, 'crypto': 5, 'admisison': 3, 'gp': 5, 'toxo': 5, 'preacaut': 1, 'broncheictasi': 2, 'rhonchronu': 1, 'atleast': 3, 'oi': 1, 'shoiwng': 1, 'adrenerg': 3, 'jail': 2, 'zidovudin': 1, 'bronchietesi': 1, 'indipendantli': 1, 'metnal': 2, 'obrain': 1, 'breathi': 3, 'bunni': 1, 'doss': 9, 'repat': 1, 'amikcain': 1, 'gastropathi': 1, 'toxicit': 1, 'subset': 2, 'antibid': 3, 'urethr': 5, 'parvo': 1, 'proxial': 1, 'coccido': 1, 'leukopenia': 11, 'hematur': 1, 'sightli': 1, 'regualt': 1, 'predominantley': 1, 'diiuresi': 1, 'lumbosacr': 4, 'azostrenam': 1, 'blastomycosi': 1, 'follolw': 1, 'areteri': 1, 'setttl': 1, 'edu': 4, 'shldr': 3, 'ardsnet': 12, 'laisix': 2, 'volit': 5, 'gentamycin': 6, 'aztrenonam': 1, 'extremeluy': 1, 'paresthesia': 2, 'lenal': 1, 'hematura': 2, 'ig': 6, 'fungitel': 1, 'thash': 2, 'aztreo': 1, 'bitten': 2, 'equabr': 1, 'rectovesicular': 1, 'gcsf': 3, 'pleasur': 3, 'shld': 2, 'doxyclin': 1, 'botharm': 1, 'fw': 6, 'interestingli': 4, 'acetazolamid': 14, 'azathioprin': 4, 'celaxa': 1, 'bromnchscopsi': 1, 'signficantli': 3, 'rhonic': 1, 'cytopenia': 3, 'essentiali': 1, 'hyperna': 3, 'elyt': 2, 'haldo': 3, 'lactulso': 1, 'attdg': 1, 'thickenen': 1, 'histo': 4, 'tularemia': 1, 'meastu': 1, 'atid': 1, 'coccidio': 1, 'primaquin': 6, 'neupogen': 5, 'erythemia': 1, 'bia': 6, 'rifaxamin': 2, 'secreiotn': 1, 'tsay': 1, 'respositiong': 1, 'diuures': 1, 'additiion': 1, 'susc': 1, 'cand': 1, 'spp': 4, 'withheld': 4, 'blasto': 1, 'episiod': 1, 'ebl': 1, 'suger': 2, 'mevacor': 1, 'biba': 3, 'vando': 1, 'atavan': 1, 'lovastatin': 2, 'reced': 2, 'nil': 4, 'xblood': 1, 'lamintectomi': 1, 'pilmonari': 2, 'proceduro': 1, 'orthoped': 2, 'nonetheless': 2, 'backpain': 3, 'onn': 1, 'challang': 1, 'duir': 2, 'tpiec': 1, 'ckr': 1, 'anxiuo': 3, 'bacterimia': 2, 'withwbc': 1, 'swelll': 1, 'negati': 1, 'tmep': 1, 'cear': 1, 'cefopim': 5, 'costochodr': 1, 'appendectomi': 6, 'yesterdat': 1, 'atibiot': 2, 'levoflaxin': 1, 'ceart': 1, 'surther': 1, 'suppost': 3, 'obv': 4, 'reacat': 1, 'foey': 1, 'intergr': 2, 'gluet': 1, 'gelaten': 1, 'reenter': 2, 'ntsx': 2, 'decubit': 3, 'wtd': 1, 'quadroplegia': 1, 'intracrania': 2, 'vigour': 3, 'gdi': 1, 'pharang': 1, 'tcl': 2, 'season': 5, 'occupi': 6, 'tibiali': 3, 'endrocrin': 1, 'reportsd': 1, 'approprit': 1, 'oxcycodn': 1, 'expectoart': 1, 'atrovnet': 2, 'transitori': 1, 'sale': 1, 'paracardium': 1, 'rej': 2, 'resultsar': 1, 'qustion': 1, 'desatsur': 1, 'eom': 8, 'uncahang': 1, \"mie'\": 1, 'seatbelt': 1, 'dad': 5, 'claustraphobia': 1, 'brochoscopi': 1, 'aelrt': 1, 'moth': 2, 'rin': 1, 'gatorad': 1, 'altough': 1, 'aerstion': 1, 'sbd': 1, 'deserv': 1, 'sling': 6, 'scvo': 3, 'itnub': 1, 'hyoid': 1, 'genuin': 1, 'dimiinsh': 1, 'comiv': 2, 'chemic': 7, 'lousi': 2, 'crampi': 4, 'liquig': 1, 'mf': 3, 'cdv': 1, 'tortur': 1, 'rhythym': 3, 'positiv': 1, 'damper': 1, 'laft': 1, 'relfex': 1, 'tropl': 1, 'frquent': 1, 'reslult': 1, 'stokea': 1, 'granchildren': 1, 'perhilar': 1, 'colligenas': 1, 'extubatiuon': 1, 'grandfath': 2, 'subtherapeurt': 1, 'abtibiot': 1, \"'cheyn\": 1, 'dsrg': 1, 'tropic': 1, 'egophani': 4, 'threshhold': 2, 'stringlik': 1, 'copuld': 1, 'concolid': 1, 'intubatioin': 1, 'spect': 3, 'opein': 1, 'zpt': 1, 'intqact': 1, 'phrenic': 3, 'retrolisthesi': 3, 'placer': 1, 'physcian': 1, 'imipenim': 1, 'pneumothorx': 1, 'cevic': 1, 'schiziod': 1, 'rnging': 1, 'fridg': 2, 'qestion': 1, 'administrationg': 1, 'broccoli': 1, 'nitika': 1, 'efffus': 2, 'grate': 1, 'hydrazlin': 1, 'nipedipin': 1, 'dope': 1, 'particl': 3, 'warter': 1, 'ridig': 1, 'imipenemen': 1, 'divertucul': 1, 'slx': 1, 'presenti': 1, 'acord': 1, 'yea': 2, 'encapsul': 1, 'psorasi': 1, 'removen': 1, 'vido': 1, 'director': 3, 'anterolithesi': 1, 'admitt': 3, 'lag': 3, 'ispok': 1, 'perifissur': 2, 'ginen': 1, 'sveral': 1, 'bathtub': 1, 'nasoenter': 5, 'niphedipin': 2, 'evaluat': 2, 'listhesi': 2, 'forlab': 1, 'overflow': 3, 'impinenum': 1, 'isminim': 1, 'ectoppi': 1, 'cxt': 1, 'osteoblast': 3, 'plebotomi': 1, 'lee': 1, 'xiphoid': 1, 'invol': 1, 'desato': 1, 'lactuloc': 1, 'prelet': 1, 'echymot': 2, 'obstracion': 1, 'klc': 1, 'serquoel': 1, 'albutrol': 1, 'tharapi': 1, 'flatulos': 1, 'atria': 5, 'surig': 1, 'exers': 1, 'verapmil': 1, 'ddsg': 1, 'ecymot': 1, 'dabx': 1, 'ditazem': 1, 'menier': 1, 'ramya': 2, 'sought': 3, 'patientgentamicin': 1, 'gfr': 7, 'breaht': 1, 'empiriacl': 1, 'ronchuru': 1, 'usoh': 7, 'hyrdrat': 1, 'attest': 1, 'lupu': 6, 'sle': 5, 'haze': 8, 'perilumbar': 1, 'hemipelvi': 4, 'lupsu': 1, 'dli': 1, 'wherea': 4, 'obliteran': 3, 'aglc': 5, 'markinga': 1, 'nonvascular': 4, 'pf': 6, 'chornic': 2, 'reapli': 1, 'inub': 1, 'othewis': 1, 'respilor': 2, 'ectoyp': 1, 'sgot': 1, 'ventiat': 2, 'reiorient': 1, 'anasarci': 1, 'antigrav': 1, 'entireti': 3, 'serrosanguin': 1, 'elastiplast': 1, 'thobe': 1, 'bialt': 1, 'extubatuon': 1, 'drnge': 1, 'caglu': 1, 'thoracotmi': 1, 'inci': 1, 'oxcarbazepin': 2, 'neng': 1, 'dcm': 3, 'similari': 1, 'vancoymcin': 2, 'ichem': 1, 'trilept': 3, 'meso': 2, 'eng': 1, 'asjac': 1, 'trila': 1, 'furnish': 1, 'gallium': 1, 'satg': 2, 'acalculu': 2, 'passeymiur': 1, 'ventac': 1, 'ovenight': 2, 'tilll': 1, 'stanbi': 1, 'sectet': 1, 'awkward': 1, 'surveli': 1, 'ave': 1, 'hith': 1, 'tbf': 1, 'huband': 1, 'dropp': 3, 'passezmuir': 1, 'appeaer': 1, 'galium': 1, 'hydracholathiazid': 1, 'perifer': 2, 'extrememti': 1, 'methelen': 1, 'dposit': 1, 'recquir': 1, 'cstm': 2, 'anasacar': 1, 'technician': 2, 'malrot': 1, 'changemad': 1, 'defec': 1, 'juncki': 1, 'sewn': 2, 'jean': 1, 'oobtc': 3, 'hardli': 1, 'polysinu': 1, 'hdp': 2, 'quentin': 1, 'postprocedur': 1, 'nag': 2, 'diuresesd': 1, \"fxn'ing\": 1, 'geiven': 1, 'catapril': 1, 'desatt': 2, 'indium': 1, 'will^': 1, 'perpheri': 2, 'swna': 1, 'asymptompat': 1, 'airbolu': 1, 'respilar': 1, 'syn': 2, 'trasfer': 4, 'preoxygen': 3, 'bilaterl': 1, 'pmeumococc': 1, 'initailli': 4, 'genear': 1, 'autolog': 2, 'solwli': 1, 'pddp': 1, 'desesitizaion': 1, 'passeymuir': 1, 'nonopacifi': 1, 'bronchospas': 1, 'dissappear': 1, 'maxliofaci': 1, 'ticken': 2, 'rxed': 2, 'azthromycin': 1, 'mml': 1, 'ndka': 1, '^sob': 1, 'trachial': 2, 'infusint': 1, 'diostress': 1, 'intermittentlki': 1, 'subequ': 1, 'leakso': 1, 'danglk': 1, 'arraang': 1, \"'sr\": 1, 'sicial': 1, 'bivonna': 1, 'bovina': 1, 'mylasia': 1, 'ddrop': 1, 'dlaryng': 1, 'millisecond': 7, 'vanoc': 1, 'adjacet': 1, 'enteroflex': 1, 'reorinet': 1, 'piecem': 6, 'yearli': 1, 'wirh': 1, 'interacted': 1, 'dchart': 1, 'extrathorac': 1, 'siphon': 1, 'abuss': 1, 'phlebolith': 2, 'cranki': 1, 'scm': 2, 'arousalb': 1, 'arrial': 1, 'ressussit': 1, 'bullosa': 2, 'rnow': 1, 'evidnec': 1, 'synovi': 4, 'pericathet': 1, 'presist': 2, 'subscapular': 2, 'freqent': 1, 'blcx': 1, 'cartilag': 3, 'tendinopathi': 1, 'osteoarthrit': 1, 'prolif': 1, 'hypervascular': 1, 'giant': 2, 'helthcar': 1, 'vti': 1, 'venbtil': 1, 'decedron': 1, 'plade': 1, \"sx'nd\": 1, 'eit': 1, 'ffinard': 1, 'communuc': 1, 'hungeri': 1, 'boug': 1, 'imrov': 3, 'onoc': 1, 'dnystatin': 1, 'enlg': 1, 'atelect': 2, 'subtend': 1, 'carevi': 1, 'occasionl': 1, 'barimaxx': 2, 'aread': 1, 'sheed': 1, 'throght': 1, 'fenatanyl': 2, 'dsng': 1, 'rewuir': 1, 'arrhytmia': 1, 'waithout': 1, 'enocurag': 1, 'novosourc': 2, 'hrwith': 1, 'lightind': 1, 'urinein': 1, 'vestra': 1, 'rft': 1, 'bucal': 1, 'stamina': 1, 'fico': 1, 'areound': 1, 'muchroom': 1, 'agtiat': 1, 'motuh': 1, 'tthick': 1, 'appropir': 1, 'weanm': 1, 'imnprov': 1, 'tubeeffect': 1, 'functon': 1, 'cointrol': 1, 'calear': 1, 'arn': 1, 'oldest': 4, 'atttempt': 1, 'metorpolol': 1, 'fentnayl': 1, 'visitir': 1, 'breakdowon': 1, 'nskin': 1, 'secretionsin': 1, 'surigfoam': 1, 'diagnosit': 2, 'knod': 1, 'minu': 5, 'slightl': 1, 'dimisah': 1, 'evev': 2, 'boulus': 1, 'dirues': 4, 'excacerb': 2, 'sweatinbg': 1, 'chunki': 1, 'percus': 1, 'amioderom': 1, 'metropol': 1, 'falsli': 1, 'regualr': 1, 'guidwir': 3, 'polychamb': 1, 'echymott': 1, 'bibasliar': 1, 'tympani': 1, 'indigest': 2, 'lidocan': 1, 'lenghth': 1, 'naesthesia': 1, 'quench': 1, 'tappabl': 2, 'elctrolyt': 1, 'atim': 1, 'tuberculin': 1, 'hbc': 1, 'pneumonthorax': 2, 'cnt': 3, 'toxoplasmosi': 3, 'hbv': 7, 'methodon': 3, 'phyusic': 1, 'testa': 1, 'notch': 4, 'pitfal': 1, 'beef': 1, 'bsck': 1, 'giveng': 1, 'hmd': 1, 'precat': 1, 'unlobor': 1, 'somethim': 1, 'disciplanari': 1, 'antituss': 2, 'dia': 1, 'fct': 1, 'vedio': 1, 'smaal': 1, 'omelett': 1, 'difficuli': 1, 'mcu': 2, 'vomt': 3, 'patientvancomycin': 1, 'possiblil': 1, 'strangul': 2, 'recordsvancomycin': 1, 'atraumat': 19, 'ulc': 1, 'obstuct': 3, 'miuc': 2, 'guiafenisen': 2, 'atelctasi': 2, 'ileum': 6, 'partn': 1, 'pediscop': 1, 'uncuf': 5, 'gurd': 1, 'incarcer': 3, 'sensi': 8, 'multpil': 1, 'plavi': 1, \"dp'\": 1, 'sudaf': 1, 'rape': 1, 'clonipan': 1, 'stolen': 1, 'revel': 2, 'furth': 1, 'isnt': 1, 'neutr': 1, 'ivrn': 2, 'brochial': 3, 'dimininish': 1, 'itnerv': 1, 'intramur': 6, 'supportof': 1, 'basebal': 1, 'afebrl': 1, 'emphesema': 1, 'labetelol': 1, 'scabe': 1, 'dvd': 3, 'aliv': 7, 'hydro': 8, 'arrestn': 1, 'snxing': 1, 'prefor': 1, 'alternatey': 1, 'trick': 1, 'pittind': 1, 'prepart': 2, 'inapprori': 1, 'kidni': 1, 'considerabley': 1, 'sllevyn': 1, 'nonvisu': 2, 'eras': 2, 'creep': 1, 'tachypenea': 2, 'ascist': 1, 'emtot': 1, 'burger': 1, 'irregur': 1, 'bronchspast': 1, 'recussit': 1, 'probabilti': 1, 'witih': 1, 'papular': 4, 'effusionsm': 1, 'troph': 2, 'fmaili': 1, 'eitolog': 1, 'eposod': 1, 'suppor': 2, 'suppitori': 1, 'todya': 1, 'reasur': 1, 'brachiocepal': 1, 'promd': 1, 'hinder': 1, 'menstruat': 1, 'outweigh': 6, 'ltitrat': 1, 'receheck': 1, 'inapropri': 1, 'appetiti': 2, 'trnbasfer': 1, 'ood': 1, 'moprn': 1, 'psch': 1, 'microneb': 2, 'wouldnt': 1, 'coherr': 1, 'vedrs': 1, 'parnoid': 1, 'orrali': 1, 'pattent': 1, 'mechnic': 1, 'releif': 2, 'clonepin': 1, 'mucosa': 16, 'bacaus': 1, 'bben': 1, 'fidgiti': 1, 'lisinopri': 1, 'strepto': 1, 'klonidin': 1, 'ceftr': 1, 'ovcer': 1, 'soungd': 1, 'signifiacnt': 1, 'wheezs': 1, 'pneumoccoc': 1, 'comfor': 1, 'inu': 2, 'figeti': 1, 'astatu': 1, 'willfollow': 1, 'mar': 2, 'tpo': 1, 'drnr': 1, 'witgh': 1, 'coorper': 1, 'desper': 1, 'seur': 1, 'fereq': 1, 'emolli': 2, 'informaion': 1, 'opo': 1, 'anisocoria': 1, 'bilatearlli': 1, 'icm': 1, 'recommen': 1, 'inferolat': 1, 'possibly': 1, 'uriun': 2, 'ctz': 2, 'intrapericardi': 3, 'postinfecti': 2, 'hcf': 1, 'isorsorbid': 1, 'kyg': 6, 'intersitit': 1, 'gorssli': 1, 'anuria': 7, 'supplementari': 2, 'resovl': 1, 'checkup': 1, 'contant': 1, 'nontheless': 1, 'dial': 2, 'moaner': 1, 'parenchyema': 1, 'fulid': 2, 'guafenesin': 1, 'sequala': 1, 'ventriculoar': 1, 'ruleout': 1, 'setback': 11, 'telemet': 1, 'eosinophila': 3, 'balc': 1, 'ak': 1, 'aspiratio': 1, 'lowsi': 1, 'bedchair': 1, 'curbsid': 4, 'prouctiv': 1, 'lungsound': 1, 'partiallli': 1, 'ttttto': 1, 'mebul': 1, 'augement': 1, 'unload': 2, 'sheat': 1, 'improiv': 1, 'dobut': 3, 'mvso': 1, 'pocoumadin': 1, 'invagin': 2, 'afebrik': 1, 'aatmpt': 1, 'serousnangin': 1, 'msvo': 1, 'carbomed': 1, 'upurc': 1, 'waffelr': 1, 'productuv': 1, 'antiobot': 1, 'draiang': 1, 'fling': 1, 'filll': 2, 'thoraic': 1, 'leov': 1, 'equat': 1, 'protamin': 3, 'perki': 1, 'hespan': 1, 'continnu': 1, 'presentplan': 1, 'presnet': 1, 'unopacifi': 1, 'diahrrea': 2, 'steoriod': 1, 'cefapin': 1, 'steorid': 1, 'lighli': 1, 'intermitten': 1, 'rwhite': 1, 'endocran': 1, 'doxcycyclin': 1, 'iintub': 1, 'pinsp': 1, 'gluccos': 1, 'doxycylin': 2, 'cortisyn': 1, 'detal': 1, 'aboukt': 1, 'farm': 1, 'mous': 1, 'probrabl': 1, 'thrusday': 1, 'cepatim': 1, 'lasr': 1, 'trqansfer': 1, 'beacam': 1, 'pheregan': 1, 'deliou': 1, 'wothout': 1, 'biliour': 1, 'cee': 2, 'worddocu': 1, 'wdl': 2, 'eyfp': 2, 'jigi': 2, '^jaju': 1, '^i': 2, 'vhi': 2, \"b'\": 2, 'dpx': 1, 'gsp': 2, 'cjojpjqj^jnho': 2, 'nnn': 2, 'zza': 2, 'mndm': 2, 'rkdz': 2, 'xoq': 2, '^jajmh': 1, 'nghch': 2, 'bfm': 2, '|u': 2, 'yd': 2, 'bv': 2, '|vi': 2, 'cjojqju^jaj': 2, 'jz': 2, 'gkdg': 2, 'fj': 2, 'rwsi': 2, 'ttttttl': 2, 'hvah': 2, 'qvu': 2, 'ztm': 2, 'gh': 2, 'vdx': 2, 'lx': 3, 'ji': 2, 'qxq': 2, \"w'\": 2, 'cjojqj^j': 2, 'ebx': 2, '^g': 2, 'ihdrvfw': 2, 'cjojqjuv^jaj': 1, 'aqo': 2, 'ifgd': 2, 'fswi': 2, 'jy': 2, 'wdeu': 2, 'jh': 2, 'kkkggg': 2, 'cjojqj^jajh': 2, 'kmdv': 2, 'txf': 2, 'pfq': 2, '|s': 2, 'zqqqq': 1, 'mzm': 2, 'shphct': 2, 'vo': 2, 'mu': 3, 'cjaj': 2, 'sft': 2, 'gx': 2, 'trpw': 1, 'aub': 2, 'dq': 2, 'stx': 2, 'numpag': 2, 'jx': 3, 'shphgb': 2, 'um': 2, 'ymj': 2, 'ajh': 2, '|w': 2, 'pyl': 1, 'qdwu': 2, 'moroxella': 1, 'qg': 2, 'abh': 1, 'jv': 2, 'jkd': 1, 'hyw': 2, 'laf': 2, '|x': 2, 'ee': 2, 'jm': 2, 'ffqp': 2, 'ko': 2, 'qf': 2, 'ggg': 2, 'postalcod': 2, 'nw': 2, 'vfx': 2, 'zw': 2, 'km': 2, 'wla': 2, 'aocrf': 2, 'agsa': 2, 'v^vgvhvrvsv': 1, 'zvhk': 2, 'cpvmh': 2, 'gqq': 2, 'gbi': 2, 'metabolit': 2, 'a^': 2, 'ejo': 2, 'uh': 2, 'begkm': 1, 'cjojqj^jajmhsh': 2, 's|': 2, 'euq': 2, 'cjojqjz': 1, 'itenk': 2, 'qxbk': 2, 'z^': 2, 'qfeqfkq': 2, 'granulamoti': 1, 'srgb': 2, 'oyz': 2, 'cq': 2, '|cl': 1, 'kpsp': 2, 'jl': 2, 'bdlt': 2, 'vmc': 2, 'ribi': 2, '|ff': 2, 'yt': 2, 'ttooe': 2, 'rqujf': 2, 'rybx': 2, 'cj': 3, 'rdata': 1, 'smarttag': 2, 'dfhm': 2, 'ydf': 2, 'elh': 2, 'vfv': 2, 'objectpool': 2, 'ojqj^jh': 2, 'okpwp': 2, 'ffj': 2, 'qn': 2, 'b^': 2, 'hkt': 2, 'tsc': 2, 'eqe': 2, 'neuck': 2, 'ifl': 2, 'hhhnnn': 2, 'aeu': 2, 'dob': 4, 'patientbactrim': 1, 'uu': 2, 'dtj': 2, 'tro': 2, 'pj': 2, 'dxfdl': 2, 'vtl': 2, \"dzz'\": 2, 'omkkfk^k': 1, 'nxrv': 2, 'cjojqju^jajh': 2, '^|d': 2, 'qqov': 2, 'hke': 2, 'receveiv': 1, 'yfgga': 2, 'zg': 2, 'bfiu': 2, 'hy': 3, 'zlkb': 2, 'fp': 2, 'jpn|zb': 2, 'ze': 2, 'tktot': 1, '|yy': 2, 'xq': 2, 'hlvo': 2, 'oq': 2, 'urn': 3, 'xf': 2, 'gw': 2, 'minutey': 1, '^jaj': 2, 'adehjk': 1, 'xil': 1, 'wlz': 2, 'ttit': 2, '^qj': 2, 'vh': 2, 'lz': 2, 'dfk': 2, 'khe': 2, 'mvz': 2, 'zuo': 2, 'ihdr': 2, 'f|uf': 2, 'ooo': 3, 'eb': 2, 'ccg': 2, 'tin': 4, 'nocdxi': 1, 'ei': 2, 'fsp': 2, 'tni': 2, 'zxz': 2, 'txe': 2, 'mdfl': 2, 'zfn': 2, 'iz': 2, 'cjojqj^jaj': 2, 'ycu': 2, 'kzmwc': 2, 'rs^': 2, 'cdehijknowxyz^': 1, '^sx': 2, 'uz': 2, 'abcdefghijklmnopqrstuvwxyz': 2, 'ffv': 2, 'moraxelia': 1, 'ae': 5, 'cxpq': 2, 'lkdv': 2, \"'t\": 3, 'xm': 2, 'yuim': 2, 'nrvliiu': 2, 'compobj': 2, 'jojpjqj^jnho': 1, 'zkd': 2, 'ocio': 2, 'ifa': 2, 'dhuorq': 2, 'vbjbj': 1, 'bw^cw': 2, 'xn': 2, 'fff': 2, 'xy': 2, 'eutttt': 2, 'buxf': 2, 'xg': 2, 'xdrn': 2, 'cjuajh': 2, 'nvo': 2, 'yh': 2, 'onw': 2, 'kd': 2, 'z|': 2, 'fy': 2, 'mnoz': 1, 'dj': 2, 'jjj': 2, 'wiil': 1, 'cjojqj^jajhr': 1, '|q': 2, 'v|': 1, 'cjajh': 2, 'ftd': 2, 'o|': 2, 'odi': 1, 'mnpj': 2, 'lzra': 2, 'uy': 2, 'syv': 2, 'dw': 6, 'header': 2, 'yl': 1, 'ovk': 2, 'heiy': 2, 'hhh': 2, 'iend': 2, 'zd': 2, 'sidatx^': 2, 'rkd': 2, 'fsx': 2, 'eee': 2, 'u^kq^': 2, 'kbo': 2, 'rs': 8, 'ppbp': 2, 'fpu': 2, 'wvmyvu': 2, 'olwl': 2, 'uyl': 2, 'chema': 1, 'aj': 2, 'gkd': 2, 'ff': 4, 'qlcccc': 1, 'odf': 2, 'ldf': 2, 'tmtntotzt': 1, 'mq': 2, 'antibitot': 1, 'zhdk': 2, 'xcompobj': 1, '^jajmhsh': 2, '^lze': 2, 'oxcn': 2, 'rqb': 2, '|k^': 2, \"amaa'\": 2, 'gpl': 2, 'tsummaryinform': 2, 'mmmhhh': 2, 'initiati': 1, 'cb': 4, 'uvwxyz': 1, 'pwow': 2, 'lcj': 2, 'gt^': 2, 'hyesh': 2, 'ik': 2, 'xvuy': 2, 'bsb': 2, 'hw': 2, 'jj': 2, 'qqq': 2, 'psn': 2, 'zex': 2, 'suu': 2, 'zwc': 2, 'miig': 2, 'ui': 2, 'hxjgu': 2, 'b|': 2, 'hzyh': 2, 'tj': 2, 'svttttt': 2, 'ol': 2, 'shpwbc': 2, 'fip': 1, \"p'\": 2, \"'uqg\": 2, 'abrxbhk': 1, 'ay': 3, 'microsoft': 2, 'fkd': 1, 'oih': 2, 'ftth': 2, 'dotxppoc': 2, 'gqt': 2, 'iy': 2, 'ryhc': 2, 'nz': 2, 'augapha': 2, 'xp': 2, 'qxi': 2, 'dcl': 1, 'fl': 7, 'sjpa': 2, 'f|l': 2, 'ilji': 2, 'jva': 2, 'vvvvvvvv': 1, 'abcd': 1, 'if^': 2, 'vpcsp': 2, 'waejg': 2, 'bre': 1, 'mbd': 2, 'jw': 2, 'idatx^': 2, '^j': 1, '|||': 2, 'xv': 2, 'vgpi': 2, 'chlorhexdin': 1, 'se': 8, 'outstand': 3, 'documentsummaryinform': 2, 'xh': 2, 'vhvivrvsv': 1, 'lwc': 3, '|bc': 2, 'aeijk': 1, 'pi': 3, \"wegener'\": 1, 'cjajmhnhujh': 2, 'acxci': 2, 'cjojqj': 2, 'granulomatosi': 2, 'yhwv': 2, 'ibxg': 2, 'lzpl': 2, 'svttttlq': 2, 'adx': 1, 'qefeiq': 2, 'qld': 2, 'qb|': 2, 'durin': 2, '|c': 2, 'ein': 1, 'c^': 2, 'ejk': 2, 'ia': 5, 'nenl': 2, 'ke': 2, 'jxfh': 1, 'ucto': 2, 'ec': 6, 's|f': 2, 'thh': 1, 'fghijklm': 1, 'jxut': 2, 'pz': 1, 'gq': 1, 'plntl': 2, 'nffhf': 2, 'cuyi': 2, 'zo': 2, 'xppocnot': 2, 'vdegg': 2, 'smixu': 2, 'lh': 6, 'vthf': 2, 'fug': 2, 'abrsxbhk': 1, 'cebq': 2, 'xx': 5, 'tq': 2, 'shpplt': 2, 'iap': 2, 't|t': 1, 'schema': 2, 'dulxo': 2, 'uvvvvv': 1, 'fpbrushpbrushpbrush': 2, 'tez': 2, '^jajh': 2, 'emr': 2, 'oy': 3, 'depit': 1, 'ivgtt': 1, 'claw': 1, 'baloon': 2, 'sheathless': 1, 'wrm': 1, 'haloldol': 1, 'aibp': 1, 'uneffect': 1, 'asssit': 1, 'clobetasol': 2, 'absoprt': 1, 'fingernail': 2, 'doom': 1, 'costovertebr': 2, 'overgrown': 1, 'liberali': 1, 'te': 6, 'cardigen': 1, 'compuress': 1, 'surgi': 1, 'hypob': 1, 'sj': 1, 'doscomfort': 1, 'apici': 1, 'stmulat': 1, 'petichea': 1, 'ttake': 1, 'atchi': 1, 'somebodi': 1, 'selectivley': 1, 'occaasion': 1, 'hypokensi': 1, 'crazi': 2, 'therapeaut': 1, 'unsignific': 1, 'bouuock': 1, 'prohibit': 3, 'fake': 1, 'afbril': 1, 'genic': 1, 'cefep': 2, 'preceed': 3, 'schitzophrenia': 2, 'amnioderon': 2, 'bioten': 1, 'inceasingli': 1, 'chlorothizid': 1, 'vanilla': 2, 'echolalia': 1, 'pernium': 1, 'coke': 3, 'multipodo': 1, 'harass': 1, 'plaxiv': 1, 'deceras': 2, 'pysch': 1, 'stade': 1, 'lepirudin': 1, 'alright': 1, 'lepiruden': 1, 'iapb': 1, 'ckeck': 1, 'appettit': 2, 'guic': 2, 'clenser': 1, 'bivent': 1, 'palpab': 1, 'elvat': 2, 'occaison': 1, '^lft': 1, 'indcat': 1, 'ele': 1, \"con'\": 1, 'treatmetn': 1, 'conver': 1, 'inco': 1, 'propion': 4, 'mpb': 2, 'cardimyopathi': 1, 'schizoid': 1, 'agrastat': 1, 'bluish': 1, 'pw': 2, 'gaurdian': 2, 'televis': 2, 'mobitz': 3, 'ux': 2, 'dexonid': 1, 'barriercream': 1, 'singificantli': 1, 'ciprovloxacin': 1, 'generali': 1, 'efffect': 2, 'olanzepin': 5, 'diliri': 1, 'wick': 2, 'acount': 1, 'fiberopt': 7, 'favorit': 3, 'abdomi': 1, 'nondil': 3, 'arthrosi': 1, 'lipirudin': 1, 'intraaort': 1, 'kinda': 1, 'uncomfor': 1, 'postplac': 1, 'abou': 1, 'guifenesin': 1, 'neutopenia': 2, 'cardura': 1, 'actat': 1, 'cooperatv': 1, 'bhad': 1, 'cintinnu': 1, 'accapella': 1, 'withexert': 1, 'moral': 1, 'accapulla': 1, 'aand': 1, 'coompazin': 1, 'coomod': 1, 'worseningdyspnea': 1, 'nauseax': 1, 'hypoxicwith': 1, 'indep': 2, 'transiaent': 1, 'desatto': 1, 'currnet': 1, 'transhiat': 1, 'herniorrohapi': 1, 'bronchopulm': 2, 'sulcraf': 1, 'doxepin': 2, 'europ': 1, 'invok': 4, 'dysplasia': 3, 'inhous': 2, 'phelgm': 1, 'backpack': 1, 'grandpar': 1, 'pyloroplasti': 1, 'subsquent': 1, 'supplier': 1, 'celebrex': 4, 'plagu': 2, 'pericardectomi': 2, 'spirocar': 2, 'sigific': 1, 'pericardiectomi': 2, 'hydo': 1, 'toridol': 1, 'hiistori': 1, 'miniaml': 1, 'desaturt': 1, 'dropelt': 1, 'crakl': 2, 'recievd': 2, 'tarnsfer': 1, 'presenetd': 1, 'approprietli': 1, 'sv': 5, 'benaprotein': 1, 'qvar': 5, 'anasacara': 1, 'anarcarca': 1, 'speciamn': 1, 'positionsl': 1, 'lotrimin': 2, 'doent': 1, 'aab': 1, 'sucction': 1, 'intxoci': 1, 'handhold': 1, 'chiari': 2, 'coarser': 1, 'mickael': 1, 'tonnic': 1, 'rradial': 1, 'budd': 1, 'laisx': 3, 'plead': 2, 'broth': 2, 'agitit': 1, 'synchronis': 1, 'plase': 1, 'cirrhossi': 1, 'prothesi': 1, 'pper': 1, 'lbase': 1, 'enterocolon': 1, 'bpg': 1, 'sycop': 1, 'polymyxin': 1, 'roomat': 1, 'patellofemor': 5, 'reddenend': 1, 'downstair': 3, 'regrugit': 1, 'nonmobil': 1, 'aneyrysm': 1, 'dlbcl': 1, 'resurfac': 1, 'unnit': 1, 'hypdens': 2, 'fwd': 3, 'medaplex': 1, 'bcl': 1, 'gwlm': 7, 'lq': 1, 'presyncop': 4, 'caridiolog': 1, 'nodosum': 1, 'hamstr': 2, 'hypdenisti': 1, 'ophth': 3, 'surg': 1, 'tra': 1, 'dissip': 2, 'avanti': 1, 'midthigh': 1, 'negoti': 4, 'overaggress': 1, 'haemodinam': 6, 'ebv': 6, 'pound': 6, 'teritori': 1, 'haemodinamicalyy': 1, 'neutropenia': 7, 'gmpd': 2, 'methotrex': 4, 'lentiform': 2, 'nighttim': 3, 'feldberg': 2, 'merit': 1, 'aftert': 1, 'eshap': 1, 'prednisolon': 3, 'interventricular': 1, 'metclopromoid': 1, 'alopecia': 2, 'multistep': 3, 'accomplish': 3, 'lymphma': 1, 'viridan': 4, 'nadir': 7, 'immunoreact': 1, 'typhil': 1, 'retest': 1, 'tdt': 1, 'heatlh': 1, 'unemploy': 4, 'valsatran': 1, 'wrinkl': 1, 'doesnot': 2, 'admittd': 2, 'oopen': 1, 'commcar': 1, 'pressuer': 1, 'bacterema': 1, 'urv': 1, 'cpa': 3, 'progrress': 1, 'pannu': 4, 'bovin': 3, 'undrer': 1, 'biot': 1, 'menag': 1, 'gleut': 1, 'sldo': 1, 'trachh': 1, 'deppest': 1, 'amder': 1, 'spokeperson': 1, 'dehis': 1, 'edma': 1, 'abbras': 1, 'limen': 1, 'fss': 5, 'infact': 3, 'viz': 2, 'maser': 1, 'su': 2, 'couch': 3, 'titer': 5, 'cgi': 1, 'ovar': 1, 'unitr': 1, 'quset': 1, 'otn': 1, 'prune': 1, 'hydram': 2, 'resultur': 1, 'grant': 2, 'conso': 1, 'phd': 7, 'corpor': 1, 'tiss': 1, 'var': 1, 'effeort': 1, 'ror': 1, 'anthypertens': 1, 'poen': 1, 'eph': 3, 'welfar': 1, 'penitr': 1, 'healthnet': 1, 'synchronousl': 1, 'pickwickian': 1, 'employe': 4, 'tissur': 2, 'nbrh': 1, 'job': 3, 'protcet': 1, 'vangin': 1, 'sarosang': 1, 'aras': 1, 'tolerac': 1, 'trachobronchomalacia': 2, 'periwound': 1, 'conplet': 2, 'raglan': 4, 'midzon': 1, 'differneti': 1, 'creativ': 1, 'perfrom': 1, 'hematomoa': 1, 'fial': 1, 'otomastoid': 1, 'tre': 1, 'horrifi': 1, 'egc': 1, 'circumfer': 1, 'wjm': 4, 'liquifi': 1, 'ple': 2, 'colonosocpi': 1, 'golytli': 1, 'llnezolid': 1, 'troponinin': 1, 'supervion': 1, 'acutli': 1, 'elder': 3, 'len': 3, 'golytyl': 1, 'rnp': 1, 'bicard': 1, 'intramuscular': 2, 'trendin': 1, 'rheumatolog': 4, 'pseudohypha': 3, 'intramedullari': 4, 'vernight': 1, 'prominec': 1, 'hid': 2, 'mushrrom': 2, 'birthdat': 1, 'cftx': 3, 'allianc': 1, 'levopflox': 1, 'wxt': 1, 'priro': 1, 'vasculr': 1, 'ransfus': 1, 'jrci': 6, 'extrav': 2, 'blush': 1, 'anc': 7, 'critcal': 1, 'onogo': 1, 'instersti': 1, 'myopath': 1, 'tubat': 1, 'resper': 1, 'backward': 2, 'ipmn': 1, 'nicardipin': 2, 'difinit': 1, 'bodyfrom': 1, 'edenam': 1, 'tranfert': 1, 'cloaca': 2, 'criticad': 4, 'maltophilia': 1, 'cloacea': 1, 'multilob': 2, 'reuqir': 1, 'xanthomona': 2, 'aean': 1, 'pulmoanri': 1, 'scanti': 1, 'amidoneron': 1, 'hyperconcentr': 1, 'pian': 1, 'piggi': 1, 'hemofiltr': 1, 'cvicu': 10, 'offf': 1, 'neueo': 1, 'anytim': 4, 'yeasterday': 1, 'dificult': 1, 'stenotrophomana': 1, 'dysrhymia': 1, 'transaxi': 3, 'maltophila': 1, 'enterbact': 1, 'cvvhf': 1, 'stenotrophoma': 1, 'enterobacteria': 1, 'disciplinari': 4, 'plaesent': 1, 'recuur': 1, 'lig': 2, 'mulipl': 1, '^l': 1, 'schatzki': 1, 'immunodef': 1, 'ijv': 4, 'pipricillin': 1, 'rpo': 1, 'tertiari': 2, 'eurcerin': 1, 'appleid': 1, 'esophg': 1, 'aferbil': 1, 'radiologu': 1, 'fugasl': 1, 'eccchymot': 1, 'esophagram': 3, 'thrombot': 2, 'rerurn': 1, 'preload': 6, 'abnormalti': 1, 'trak': 4, 'lmwh': 5, 'cachexia': 3, 'gastrectomi': 4, 'effer': 2, 'popul': 1, 'osteoperosi': 1, \"she'\": 1, 'propohylaxi': 1, 'driver': 1, 'parencyhm': 1, 'prejejunostomi': 1, 'malnourish': 11, 'perll': 1, 'njear': 1, 'deteriori': 1, 'cannulu': 1, 'hemidia': 1, 'spondylosi': 9, 'fin': 5, 'zetia': 3, 'phragm': 1, 'donepin': 1, 'hemidiapragmat': 1, 'temt': 1, 'carecu': 1, 'rhythn': 1, 'ariceot': 1, 'pottassiun': 1, 'collap': 1, 'kci': 1, 'namenda': 4, 'hemorrhagica': 1, 'transfom': 1, 'chondrocalcinosi': 1, 'pantopr': 1, 'transfusuion': 1, 'syp': 2, 'pisotriquetr': 1, 'celecoxib': 1, 'srtrting': 1, 'beaselin': 1, 'nutrien': 1, 'diltiezem': 2, 'conv': 1, 'ldlcalc': 1, 'complexion': 2, 'metopr': 1, 'duirng': 1, 'duilut': 2, 'sini': 1, 'quadtant': 1, 'chondrocalcif': 1, 'stt': 2, 'physiptherapi': 1, 'immolilz': 1, 'currant': 2, 'aaddit': 1, 'antix': 2, 'desatuturaion': 1, 'peron': 17, 'galactomannon': 1, 'pentopr': 1, 'neglect': 4, 'homorrhag': 1, 'cef': 1, 'purposel': 1, 'downgo': 5, 'flaygli': 1, 'trigli': 1, 'dependedt': 1, 'hemeparesi': 2, 'epidos': 1, 'yestday': 1, 'latent': 1, 'imuran': 2, 'paraflu': 2, 'atovoquon': 1, 'jirovecii': 5, 'muddi': 2, 'gn': 6, 'rrv': 3, 'spu': 4, 'inpt': 3, 'rpgn': 1, 'apreci': 1, 'acna': 1, 'boxer': 2, 'granulocyt': 3, 'kalexal': 1, 'fbr': 8, 'tpmp': 1, 'proteinuria': 4, 'nephrot': 3, 'immunoflouresc': 5, 'parvoviru': 1, 'normocellular': 1, 'tiw': 2, 'flut': 10, 'xopenox': 1, 'antigranulocyt': 1, 'settin': 1, 'phop': 1, 'tpmt': 1, 'parahypotyriod': 1, 'virus': 5, 'parainfluenza': 7, 'gof': 1, 'pyridoxin': 1, 'filbril': 1, 'fda': 2, 'creatitin': 2, 'glipizid': 8, 'outlet': 3, 'portegues': 1, 'rediscuss': 4, 'hypovelemia': 1, 'actu': 3, 'aova': 6, 'trasit': 2, 'deadspac': 2, 'pcpap': 1, 'neurotropho': 1, 'accompain': 1, 'herat': 1, 'alleyn': 1, 'ratedecreas': 1, 'allyven': 1, \"'want\": 1, 'novent': 1, 'healtyh': 1, 'increasinli': 2, 'henatoma': 1, 'cang': 1, 'drese': 1, 'spontaneosli': 1, 'anamia': 1, 'zofram': 1, 'transx': 1, 'necros': 1, 'autoamput': 1, 'venetd': 1, 'hover': 6, 'rto': 3, 'hypophosphemia': 1, 'electropyt': 1, 'grma': 1, 'parameter': 1, 'grovid': 1, 'bearhugg': 1, 'grap': 1, 'irig': 1, 'ocverag': 1, '^^bp': 1, 'blader': 1, 'watrer': 1, 'uuper': 1, 'criticid': 1, 'reddden': 1, 'accessari': 1, 'accet': 1, 'feww': 1, 'significamt': 1, 'basck': 1, 'overdiuresi': 2, 'onscarum': 1, 'sdedat': 1, 'lisix': 1, 'respondi': 1, 'diurs': 5, 'correspod': 1, '^up': 1, 'normali': 1, 'ststolic': 1, 'potassim': 1, 'quinidin': 2, 'noty': 1, 'prednisoln': 1, 'nephrostomi': 3, 'anattempt': 1, 'increaas': 1, 'student': 8, 'inconsisitanli': 1, 'elaps': 1, 'thromboembol': 8, 'thrombectomi': 3, 'hydrophil': 1, 'oc': 2, 'carot': 1, 'stagnant': 1, 'aproach': 1, 'roadmap': 2, 'pedion': 1, 'recannul': 1, 'supraclinoid': 2, 'terumo': 1, 'exuber': 1, 'voyag': 1, 'celer': 1, 'thrombolysi': 1, 'cereb': 1, 'coaxial': 1, 'multilink': 1, 'petrou': 2, 'arteriographi': 3, 'merci': 1, 'excercis': 3, 'inset': 2, 'micronas': 1, 'floven': 1, 'dementiacopd': 1, 'djrc': 1, 'paracentr': 2, 'lyrica': 9, 'dimension': 2, 'dlnc': 6, 'radi': 1, 'withhold': 5, 'darcoidosi': 1, 'acetabulem': 1, 'cohes': 3, 'persever': 5, 'ankylosi': 1, 'boniva': 2, 'prodrom': 6, 'tendin': 2, 'prd': 1, 'snbp': 1, 'bioavr': 1, 'budesonid': 2, 'supratherapeuti': 1, 'pregabilin': 1, 'darvocet': 1, 'charger': 2, 'mania': 1, 'mardarin': 1, 'rrana': 1, 'epigloti': 1, 'trigemini': 1, 'emphasema': 1, 'pt\\x13': 1, 'blanchabl': 4, 'dilitazem': 1, 'abdomon': 1, 'polytrauma': 1, 'diaphys': 1, 'starv': 1, 'vincent': 1, 'intratrach': 2, 'dailli': 2, 'pedestrian': 1, 'freighten': 1, 'minivan': 1, 'occiput': 1, 'puesdomona': 1, 'scene': 2, 'aquecel': 1, 'parkview': 1, 'struck': 3, 'dsgauz': 1, 'den': 1, 'pneumohemothorax': 1, 'cerivc': 1, 'extreiti': 2, 'reanastomosi': 1, 'modr': 1, 'hemicolectomi': 2, 'headed': 3, 'retrocrur': 3, 'dilaut': 1, 'quiescent': 2, 'dbc': 4, 'shfd': 5, 'areat': 1, 'consum': 1, 'ipra': 2, 'regen': 1, 'smallest': 2, 'lympadenopathi': 2, 'regener': 1, 'itp': 1, 'hpylori': 1, 'staf': 3, 'hyperexpand': 6, 'subren': 2, 'abuterol': 1, 'hemorhag': 1, 'fhold': 1, 'asplen': 1, 'carpometacarp': 1, 'corrobor': 4, 'zentker': 1, 'parieto': 2, 'enker': 1, 'glucosamin': 1, 'herbal': 1, 'tamponand': 1, 'dna': 2, 'hemotolgi': 1, 'unemp': 1, 'tacchycardia': 1, 'spleenomegali': 2, 'pancytopen': 3, 'tacchi': 1, 'tampanad': 1, 'leukopenica': 1, 'birth': 1, 'cardiomeg': 5, 'seros': 1, 'flax': 1, 'erythematosu': 2, 'complement': 2, 'amenorrhea': 1, 'dysnea': 1, 'exrcis': 1, 'diminh': 1, 'replacinf': 1, 'oprer': 1, 'queation': 1, 'cirrosi': 1, 'thio': 1, 'caspfungin': 1, 'streph': 1, 'bacteriamia': 1, 'flexas': 2, 'movabl': 2, 'pleual': 1, 'ulser': 1, 'squeek': 1, 'oos': 1, 'caller': 1, 'extans': 1, 'stonger': 1, 'gol': 1, 'allyvyn': 1, 'weakn': 1, 'acetalazolamid': 1, 'candidemia': 1, 'positioin': 1, 'drainm': 1, 'atriocav': 1, 'absess': 1, 'contiunu': 1, 'lug': 1, 'fenta': 2, 'swalow': 1, 'prision': 1, 'peat': 2, 'mlsof': 1, 'luquid': 1, 'fungmia': 1, 'akin': 1, 'squeev': 1, 'mnoc': 1, 'merepenen': 1, 'benifib': 1, 'hrmodynam': 2, 'constrast': 1, 'ssoft': 1, 'compair': 1, 'sampp': 1, 'endothorac': 1, 'emper': 3, 'canulla': 1, 'jaudic': 1, 'nasalpharyng': 1, 'genta': 3, 'proppofol': 2, 'rhochoru': 1, 'caspofungen': 1, \"abg'\": 2, 'sorb': 2, 'meropenam': 3, '^^wob': 2, 'casperfungin': 1, \"req'\": 2, 'benopro': 1, 'ercent': 1, 'picclin': 1, 'shr': 1, 'poa': 6, 'beliv': 2, 'myulti': 1, 'meropemen': 1, 'upperextrem': 1, 'nonrebrath': 1, 'superimposit': 2, 'stil': 3, 'visistor': 1, 'maaintain': 1, 'respnd': 1, 'delemia': 1, 'mnonitor': 1, 'aersol': 3, 'intaubt': 2, 'cocciin': 1, 'ield': 1, 'midli': 4, 'throath': 1, 'carv': 1, 'diatstol': 1, 'mole': 1, 'kayexalaet': 1, 'wheterh': 1, 'peptic': 5, 'antiarrythm': 3, 'auscultaton': 1, 'applesuac': 1, 'levofloxaciin': 2, 'carbohydr': 5, 'compes': 1, 'claustrophobia': 2, 'repletiion': 1, 'orienetd': 1, 'iconsolid': 1, 'tachyarrythmia': 1, 'levalbuterol': 2, 'puttin': 1, 'toothett': 3, 'nsrvt': 1, 'procuct': 1, 'montiro': 1, 'lef': 1, 'cml': 3, 'txed': 1, 'compasin': 1, 'hypotenion': 1, 'clturesd': 1, 'autoreg': 1, 'yesterdya': 1, 'abnml': 2, 'pamidron': 4, 'disodium': 1, 'possibel': 2, 'empriic': 1, 'extracrani': 4, 'neuo': 1, 'smolder': 1, 'orreg': 2, 'gretar': 1, 'falx': 1, 'att': 2, 'caroti': 1, 'meme': 1, 'patientcodein': 2, 'hypoporfus': 1, 'mirtazipin': 1, 'hide': 4, 'sytolilc': 1, 'coclostomi': 1, 'ectpi': 1, 'exhbit': 1, 'ptot': 1, 'functio': 1, 'amopunt': 1, 'impaiir': 1, 'longitudin': 4, 'colr': 2, 'flutterto': 1, 'egophoni': 7, 'eventaulli': 1, 'spprimari': 1, 'resucuit': 1, 'reolv': 1, 'abal': 1, 'fluorinef': 1, 'phenylepherin': 1, 'fremitu': 3, 'admsion': 1, 'mnth': 1, 'aysmptomat': 1, 'presusr': 1, 'robitiussin': 1, 'penumonectomi': 1, 'spondylolisthesi': 1, 'preacher': 1, 'statiu': 1, 'seedi': 1, 'humifi': 1, 'earil': 1, 'perph': 1, 'please': 1, 'prepsep': 1, 'hemodynamioc': 1, 'scotal': 1, 'linearli': 1, 'atelectati': 1, 'fussi': 1, 'penial': 1, 'lma': 2, 'unpredict': 1, 'clozapin': 3, 'rotari': 1, 'pgi': 6, 'epap': 2, 'insignific': 4, 'rgm': 2, 'ipap': 2, 'appropiatelt': 1, 'detrol': 1, 'hifi': 1, 'midst': 2, 'uag': 2, 'exaccerb': 2, 'shore': 3, 'classifi': 3, 'bcoz': 2, 'phychiatr': 1, 'propofopl': 1, 'combineb': 1, 'propofl': 2, 'ambiem': 1, 'infilter': 4, 'doen': 1, 'leguionella': 1, 'thiothixen': 1, 'thymic': 1, 'schizo': 2, 'ocd': 3, 'ranbl': 1, 'repositio': 2, 'hha': 2, 'dishcarg': 1, 'dresss': 1, 'hsift': 1, 'plow': 1, 'mrone': 1, 'careveiw': 1, 'aggitit': 1, 'emtoin': 1, 'portoven': 1, 'regimn': 2, 'aparatu': 1, 'calicum': 2, 'comnfort': 1, 'suppres': 2, 'recuper': 1, 'thorcotomi': 1, 'tubs': 1, 'lesi': 1, 'thoarcic': 1, 'ctsx': 1, 'pboot': 2, 'tlow': 1, 'undrain': 1, 'ddri': 1, 'apicolater': 1, 'deverfesc': 1, 'intermittenlti': 1, 'bronchscopi': 2, 'tomographi': 6, 'phigh': 1, 'anteroposteriorli': 1, 'amdinist': 1, 'aprv': 2, 'interfac': 2, 'replar': 1, 'shsf': 8, 'eahn': 2, 'ehad': 2, 'rapi': 1, 'network': 1, 'sgnific': 1, 'rextub': 1, 'rheumatiod': 1, 'criti': 1, 'balx': 1, 'scane': 1, 'dischang': 1, 'stringi': 2, 'dopper': 2, 'aqaugel': 1, 'deformati': 1, 'ivss': 1, 'asx': 3, 'leukopen': 2, 'liekli': 4, 'treamtnet': 1, 'restar': 2, 'srranegemnt': 1, 'famiili': 1, 'undifferenti': 1, 'speed': 3, 'tohold': 1, 'bisphosphon': 1, 'nuetropen': 1, 'asv': 1, 'intrabronchi': 1, 'abdomino': 1, 'fna': 1, 'ainstem': 1, 'arranegemnt': 1, 'filgastrin': 1, 'decb': 1, 'paraneoplast': 1, 'extensis': 1, 'rlung': 1, 'palliat': 3, 'asymetri': 3, 'proclhorperazin': 1, 'patienttetracyclin': 1, 'exppiraotri': 1, 'futurw': 1, 'afibwith': 1, 'miscel': 2, 'fibrill': 1, 'curabl': 1, 'realtiv': 2, 'metast': 2, 'iregularli': 1, 'tumour': 3, 'checmo': 1, 'worsend': 1, 'buri': 2, 'lyphadenopathi': 2, 'cremat': 1, 'contoinu': 1, 'feasibili': 1, 'applicat': 1, 'referrs': 1, 'unprofession': 1, 'feautr': 1, 'xtr': 1, 'bllod': 3, 'anticpagul': 1, 'conflict': 7, 'ocurs': 1, 'finsih': 1, 'carbotaxel': 1, 'peritransf': 1, 'neuroendocrin': 3, 'suppment': 1, 'tumeo': 1, 'diltiazim': 1, 'taxel': 1, 'hsopic': 1, 'zosi': 1, 'halloween': 1, 'hex': 2, 'extuab': 2, 'checmotherapi': 1, 'militari': 2, 'prommin': 1, 'mucocys': 1, 'dures': 2, 'cefepema': 1, 'thoruhgout': 1, 'methyprednisolon': 2, 'shge': 1, 'sast': 3, 'cliber': 1, 'nauseua': 1, 'imorov': 1, 'periaort': 2, 'hyperoximia': 1, 'unremak': 1, 'thrughout': 1, 'aortoenter': 1, 'evar': 1, 'aortobifem': 1, 'aorto': 1, 'bec': 1, 'endograft': 1, 'tmin': 1, 'possbl': 2, 'galbladd': 2, 'morphon': 2, 'pacut': 1, 'preasur': 1, 'endoleak': 1, 'pivott': 1, 'hyperattenu': 2, 'discussiion': 1, 'multichamb': 1, 'junctiion': 1, 'ower': 1, 'monitro': 1, 'bedroom': 2, 'loressor': 1, 'innappropi': 1, 'argument': 5, 'fowler': 4, 'abe': 1, 'actuallli': 2, 'occasioanl': 1, 'nnote': 1, 'czrevu': 1, 'basellin': 1, 'oreient': 1, 'yancher': 1, 'coasr': 1, 'awawk': 1, 'resposn': 1, 'andf': 2, 'seadtion': 1, 'intregr': 1, 'posv': 1, 'inatct': 1, 'inittiali': 1, 'mre': 1, 'thicwhit': 1, 'rerestrain': 1, 'retraint': 1, 'demostr': 1, 'ned': 1, 'humidi': 1, 'glassi': 1, 'azitroamycin': 1, 'beclov': 1, 'ceftraixon': 3, 'indentif': 1, 'nidepin': 1, 'keratio': 1, 'nifidipin': 1, 'pantamidin': 1, 'aztreom': 1, 'intunb': 1, 'ffm': 1, 'lactulous': 2, 'desatru': 1, 'exsufl': 2, 'requist': 1, 'squees': 1, 'vascath': 1, 'inertact': 1, 'diast': 3, 'bpsyst': 1, 'cvo': 2, 'withperf': 1, 'regurgitatiaon': 1, 'drymm': 1, 'lvedv': 1, 'ogilivi': 1, 'guillan': 2, 'syphili': 2, 'jewleri': 1, 'concerv': 1, 'hrrr': 1, 'duod': 1, 'culltur': 3, 'fremetu': 1, 'thermoregul': 1, 'seroneg': 2, 'overcom': 1, 'vasodil': 8, 'denei': 1, 'mci': 6, 'coccyg': 4, 'meat': 3, 'megac': 2, 'preventit': 1, 'mdp': 3, 'radiopharmaceut': 6, 'ymf': 7, 'yankaw': 2, 'bronchosopi': 1, 'whiteout': 7, 'djrx': 1, 'pemetrex': 2, 'gemcitabin': 2, 'obstr': 1, 'serequil': 2, 'osteodystrophi': 2, 'jerki': 1, 'pscyh': 1, 'infl': 1, 'chonic': 2, 'warrent': 2, 'jvg': 5, 'unhook': 1, 'coamnd': 1, 'levofloxacillin': 2, 'thenpt': 1, 'menatl': 1, 'placc': 1, 'cetriaxon': 4, 'repoet': 1, 'diffucalti': 1, 'consisitenetli': 1, 'desptit': 1, 'antihistamin': 1, 'stubborn': 1, 'guiafenisin': 1, 'repitit': 1, 'arthoplasti': 1, 'halsol': 1, 'prvc': 8, 'concens': 1, 'avaial': 1, 'atrail': 1, 'radioopac': 1, 'adequit': 1, 'trydin': 1, 'disychron': 1, 'strenal': 1, 'azithrmycin': 1, 'adit': 1, 'fortun': 3, 'ajdunct': 1, 'dysynchronon': 1, 'disynchroni': 1, 'unstimul': 3, 'pertussin': 1, 'radiopac': 3, 'shfit': 1, 'prehypertens': 1, 'indomethecin': 1, 'item': 6, 'primarli': 1, 'agrees': 1, 'behalf': 5, 'dimisnih': 1, 'simplifi': 1, 'aib': 1, 'conest': 2, \"'and\": 1, \"does'nt\": 2, 'oncom': 2, 'lso': 1, 'tachpneiuc': 1, 'nsclung': 1, 'veru': 1, 'sotolol': 1, 'relatuv': 1, 'atrient': 1, 'pneumoia': 2, 'paprecita': 1, 'serevet': 1, 'pilonid': 2, 'vva': 1, 'inlcud': 1, 'apar': 1, 'nac': 5, 'neutropnia': 1, 'restor': 5, 'admx': 1, 'accompan': 1, 'drawal': 1, 'epmpyema': 1, 'nam': 2, 'neosyenphrin': 1, 'vsicu': 1, 'sscp': 2, 'gangrren': 1, 'spftsorb': 1, 'amongst': 2, 'usu': 1, 'vicu': 1, 'hame': 1, 'kinnaer': 1, 'diarhea': 1, 'ehtic': 1, 'auacel': 1, 'hemdynam': 2, 'toleer': 1, 'dcoper': 1, 'amniodaron': 1, 'pal': 2, 'ssinsulin': 1, 'feelow': 1, 'ahpb': 1, 'givrn': 1, 'toletr': 1, 'pericariectomi': 1, 'rythem': 2, 'turniong': 1, 'downslop': 4, 'bretah': 1, 'ogtub': 1, 'respones': 1, 'metopropolol': 1, 'wdwn': 2, 'folri': 1, 'stablizi': 1, 'affes': 1, 'overdr': 1, 'corticosteroid': 5, 'mastectomi': 2, 'unlikley': 2, 'quid': 1, 'neurosarcoidosi': 2, 'supertherapeut': 3, 'neurosarcoid': 2, 'startedprednison': 1, 'likey': 4, 'broader': 4, 'possit': 1, 'hyst': 1, 'wallker': 1, 'odererd': 1, 'withu': 1, 'didnot': 1, 'urnin': 1, 'obe': 1, 'eccyhmosi': 1, 'nonformulari': 1, 'jeviti': 3, 'pseudamon': 1, 'punch': 2, 'antipsychot': 6, 'cfl': 1, 'showel': 1, 'orthoponea': 1, 'lisnopril': 1, 'albutero': 1, '^tth': 1, 'hyperchlorem': 5, 'ret': 1, 'reanal': 1, 'hypoglyceamia': 1, 'risperd': 5, 'cardioprotect': 1, 'carbepenem': 1, 'uncl': 2, 'edam': 1, 'preround': 2, 'sbplow': 1, 'sensitivi': 7, 'endocrinolog': 1, 'overdialyz': 1, 'rechck': 1, 'transufs': 1, 'diltazam': 1, 'cilastatin': 2, 'ssment': 1, 'viremia': 1, 'pseudomna': 1, 'guestur': 1, 'recreas': 1, 'pneumnonia': 2, 'quinolon': 6, 'biacodyl': 1, 'fise': 1, 'qb': 1, 'incontinen': 1, 'wp': 1, 'clincial': 3, 'vpice': 1, 'tbg': 1, 'stength': 1, 'effecti': 1, 'hdfor': 1, 'antipseudomon': 1, 'tidac': 1, 'pseudocholinesteras': 1, 'inspitori': 1, 'spl': 1, 'distresss': 1, 'cog': 1, 'protugues': 1, 'tunnl': 1, 'hypercholesterol': 1, 'aureginosa': 1, 'diaylsi': 1, 'unph': 1, 'exo': 1, 'wrespiratori': 1, 'aeurginosa': 1, 'gangcyclovir': 1, 'hitt': 1, 'priscrib': 1, 'ditiazem': 2, 'systoc': 1, 'finsulin': 1, 'dound': 1, 'transplat': 1, 'ngsf': 2, 'susbequ': 1, 'azb': 2, 'novolog': 2, 'hypophosphatemia': 5, 'tachypneak': 1, 'fondapar': 1, 'pseudoma': 1, 'suctionedfor': 1, 'diltiazam': 2, 'hemodialyiisi': 1, 'portuges': 4, 'ciontinu': 1, 'incorpor': 1, 'correlatingpt': 1, 'trendingdong': 1, 'susbequet': 1, 'convertig': 1, 'noncuf': 1, 'hemodialyz': 1, 'jjf': 1, 'calctbg': 1, 'judg': 1, 'humullin': 1, 'justifi': 2, 'humalin': 1, 'pansensit': 3, 'trsat': 1, 'tryin': 1, 'mailto': 3, 'cntinu': 1, 'asthama': 1, 'epoeitin': 1, 'tft': 4, 'mannag': 2, 'medivion': 1, 'csa': 1, 'hbg': 2, 'tuptak': 1, 'daylight': 1, 'trabnsient': 1, 'cnsd': 2, 'esomeprazol': 1, 'hyperlipidema': 2, 'dysynch': 1, 'pseud': 1, 'twf': 3, 'pannicul': 1, 'diphenhydramin': 3, 'fati': 1, 'demonstrate': 1, 'birder': 1, 'staphaur': 1, 'aureou': 1, 'minocyclin': 1, 'wounc': 1, 'anastomot': 1, 'viscu': 1, 'trajectori': 1, 'exploratori': 2, 'mixtur': 2, 'exlap': 2, 'omentum': 3, 'peritin': 1, 'baium': 1, 'peach': 1, 'sigmoidectomi': 1, 'plactment': 3, 'turbid': 3, 'appendic': 1, 'duo': 2, 'collectino': 1, 'hypereosinophil': 1, 'odl': 1, 'hp': 2, 'knowd': 1, 'expedit': 2, 'abnom': 2, 'pregnant': 3, 'infiltar': 1, 'dermatomyos': 1, 'biospi': 4, 'progressov': 1, 'diluadid': 2, 'neumon': 1, 'trasnfger': 1, 'macrophag': 1, 'worsten': 3, 'transpulmon': 1, 'tbbx': 2, 'hme': 2, 'motnh': 1, 'insomia': 1, 'dysonea': 2, 'lymphomcyt': 1, 'pcr': 10, 'vdrl': 1, 'thrirsti': 1, 'ration': 2, 'syphilli': 1, 'hyptotens': 1, 'ippv': 2, 'recusit': 1, 'abnormail': 1, 'lymphocyctosi': 1, 'aliment': 1, 'sprue': 1, 'cound': 1, 'elus': 2, 'ceruloplasmin': 1, 'bedsi': 1, 'entak': 1, 'vector': 1, 'pivet': 1, 'vzv': 2, 'hav': 2, 'noncardiogen': 2, 'treponem': 1, 'lethospirosi': 1, 'hemolys': 2, 'bcse': 1, 'boipsi': 1, 'effis': 1, 'choriomening': 1, 'spirochet': 1, 'ascet': 3, 'unrel': 6, 'leptomening': 7, 'leptospirosi': 1, 'otoxoc': 1, 'hereditari': 1, 'rodent': 1, 'igm': 5, 'thrombotytopenia': 1, 'pulsesl': 1, 'vhhc': 1, 'abdnorm': 1, 'gdextros': 1, 'lymphocytochoriomening': 1, 'lyme': 1, 'monocyt': 1, 'multiorgan': 3, 'mutat': 2, 'lympanopathi': 1, 'gaa': 1, 'visi': 1, 'ehrilichia': 1, 'whichev': 1, 'ttg': 1, 'ivsion': 1, 'colorless': 1, 'tbna': 1, 'hlh': 1, 'ehrlichia': 3, 'lymphocytosi': 2, 'priorit': 1, 'hypoalbuminem': 1, 'restricion': 1, 'multisystem': 1, 'postinflammatori': 1, 'galactomann': 1, 'mice': 1, 'noninfecti': 5, 'electrophoresi': 1, 'contibut': 2, 'ondansetrol': 1, 'hhc': 1, 'leptospira': 1, 'erlichiosi': 1, 'histoplasma': 3, 'hanta': 2, 'pantoprozol': 2, 'hhv': 2, 'demyelin': 3, 'tna': 1, 'arboviru': 1, 'asterixisi': 1, 'asterix': 1, 'sjogren': 1, 'bilarer': 1, 'hemochromatosi': 2, 'enceph': 7, 'abid': 2, 'varicella': 3, 'cytometri': 2, 'behcet': 1, 'cecal': 3, 'ogilvi': 3, 'umbrella': 2, 'cecu': 1, 'ehospit': 1, 'loom': 1, 'ureterovesicular': 1, 'imper': 1, 'predniselon': 1, 'iavb': 1, 'palabl': 1, 'levadopa': 2, 'fopr': 1, 'dimminish': 1, 'doa': 1, 'candidia': 1, 'radail': 1, 'rtrad': 1, 'unsupport': 5, 'tracheiti': 2, 'frequantli': 1, 'thorough': 1, 'withouth': 1, 'distraught': 2, 'perspir': 1, 'mididrin': 1, 'pilot': 1, 'percodan': 2, 'rhd': 3, 'pinki': 1, 'tranx': 4, 'nwb': 1, 'receiven': 1, 'furthur': 2, 'asacol': 2, 'ccon': 1, 'xxx': 4, 'withsob': 1, 'cought': 2, 'atroven': 2, 'coolneb': 1, 'effcet': 1, 'tachicard': 1, 'refkect': 1, 'ifn': 2, 'compel': 3, 'ocver': 1, 'iiic': 1, 'titanium': 1, 'jplace': 1, 'stanidng': 1, 'hoem': 1, 'suboptimalwil': 1, 'melenoma': 1, 'onoclogist': 1, 'glyburid': 4, 'bst': 1, 'glyberid': 1, 'amytriptylin': 1, 'titrabl': 1, 'elavil': 1, 'unkink': 1, 'arthroma': 1, 'hypothyr': 1, 'hosoit': 1, 'azipthromycin': 1, 'lvf': 2, 'affabl': 1, 'fn': 8, 'irrrig': 1, 'shiftmetabol': 1, 'proedur': 1, 'percoet': 1, 'cchang': 1, 'haspain': 1, 'fidget': 1, 'irrigant': 1, 'lith': 1, 'clariti': 1, 'alum': 1, 'faairli': 1, 'aroun': 1, 'amll': 1, 'lpuls': 1, 'uper': 1, 'coccyn': 1, 'palit': 1, 'holdup': 1, 'adenomatoid': 1, 'trolard': 1, 'periradicular': 1, 'vertebrobasilar': 1, 'bactreial': 1, 'impar': 1, 'stomat': 1, 'osteomyl': 2, 'adduct': 3, 'pachi': 1, 'dissatisfi': 1, 'appolog': 1, 'fiduci': 2, 'oe': 1, 'knife': 1, 'nslc': 1, 'senc': 2, 'acutelyworsen': 1, 'interpos': 1, 'osteotomi': 1, 'psox': 1, 'pleurovac': 1, 'bonchovascular': 1, 'hypocholesterolemia': 1, 'glycerid': 1, 'rescan': 2, 'kyphoscoliosi': 4, 'lockout': 1, 'misdirect': 1, 'polymyalgia': 1, 'wate': 1, 'tkr': 7, 'pneuomothorax': 1, 'toom': 1, 'viabil': 2, 'simmilar': 1, 'danglig': 1, 'deoderm': 1, 'thallium': 2, 'histamin': 2, 'dopaim': 1, 'strait': 1, 'dobutamon': 1, 'categori': 2, 'duoern': 1, 'mrge': 2, 'occassionali': 2, 'patter': 1, 'descib': 2, 'poosibl': 1, 'pleuural': 1, 'warfain': 1, 'comtinu': 2, 'wafe': 1, 'zyprexin': 1, 'cantanker': 1, 'hurri': 1, 'pleaural': 2, 'perhr': 1, 'doputamin': 1, 'cymbalta': 6, 'kayaxol': 1, 'verab': 1, 'dopain': 1, 'lone': 2, 'hell': 2, 'tubef': 1, 'carckl': 1, 'herapin': 1, 'cholinerg': 1, 'giuac': 1, 'cholecyctilit': 1, 'shatter': 1, 'mvoe': 1, 'bale': 2, 'oink': 1, 'valproic': 4, 'brachioradiali': 1, 'decrement': 2, 'spat': 1, 'bifasicular': 1, 'urban': 1, 'upgaz': 1, 'cct': 4, 'ectasia': 5, 'myoglobinuria': 1, 'sagit': 1, 'prohress': 1, 'eveid': 2, 'adequatli': 1, 'ambigu': 1, 'hypexia': 1, 'survey': 1, 'antiplatelet': 3, 'paresi': 3, 'acetabular': 4, 'exersis': 1, 'iubprofen': 1, 'coopar': 1, 'rightsid': 1, 'claustrophob': 3, 'restarint': 1, 'asever': 1, 'dmultipl': 1, 'reccomedn': 1, 'submucos': 1, 'dariculopahti': 1, 'underlyinig': 1, 'strido': 1, 'sttempt': 1, 'radiculopahti': 1, 'unmet': 1, 'scc': 8, 'scca': 2, 'omem': 1, 'radiculopathi': 2, 'sttemp': 1, 'bedlin': 1, 'medaistin': 1, 'bpap': 2, 'nirs': 1, 'ashen': 2, 'negaitv': 2, 'ureteroscopi': 2, 'nonradiopaqu': 1, 'metopralol': 1, 'radioluc': 3, 'attg': 6, 'chk': 1, 'surger': 1, 'emaci': 2, 'industri': 1, 'anastamosi': 2, 'cea': 4, 'premorbid': 1, 'flag': 1, 'lavo': 1, 'chect': 1, 'azithrimycin': 1, 'clopidogrel': 4, 'reportedthat': 1, 'qmonday': 1, 'lsb': 2, 'steatohepat': 1, 'alp': 2, 'altaplas': 1, 'adminsit': 1, 'downto': 1, 'reck': 1, 'indict': 2, 'appropx': 1, 'geriatrician': 1, 'opaciti': 1, 'heati': 1, 'elevaet': 1, 'hydrea': 1, 'infeciton': 1, 'bldg': 1, 'calledto': 1, 'povh': 1, 'pss': 1, 'hydroxyurea': 3, 'mpsc': 1, 'phoin': 1, 'wsd': 1, 'tridyn': 1, 'prevou': 2, 'mkore': 1, 'vietnames': 1, 'mushroon': 2, 'extubt': 3, 'erd': 1, 'dssd': 3, 'ceftazin': 1, 'edmat': 1, 'hydorcortison': 1, 'appropropri': 1, 'astreonam': 1, 'mimim': 1, 'vareniclin': 1, 'dicc': 1, 'hypomagnisemia': 1, 'viocodin': 1, 'lymp': 1, \"day'\": 1, 'considert': 1, 'dehydratioin': 1, 'chantix': 1, 'fup': 2, 'vocabulari': 1, 'ncslc': 1, 'constent': 1, 'besyl': 2, 'liuqid': 1, 'cuad': 1, 'hk': 5, 'polymicrobi': 7, 'valuium': 1, 'proceur': 1, 'posterioli': 1, 'eustachian': 3, \"'a\": 1, 'verbiag': 1, 'tendini': 1, 'corda': 1, 'totprot': 1, 'banalc': 1, 'signfici': 4, 'tread': 1, 'kaopect': 1, 'aksb': 2, 'cholest': 2, 'shelik': 1, 'subsalicyl': 1, 'hemidiaphrapm': 1, 'hrct': 4, 'pendi': 1, 'bismuth': 1, 'meningism': 1, 'pizza': 1, 'midclavicl': 1, '^d': 1, 'psuedomon': 1, 'arso': 1, 'producitv': 1, \"cx'\": 2, 'insmal': 1, 'albutreol': 1, 'prgress': 1, 'cepefim': 1, 'recept': 2, 'comppens': 1, 'baratr': 1, 'moniotor': 1, 'rlc': 1, 'scelera': 1, 'rear': 1, 'satisafctori': 1, 'schizoprenia': 1, 'laast': 1, 'microdata': 2, 'soudn': 1, 'choleysist': 1, 'weaend': 1, 'transpulmonari': 2, 'hist': 1, 'subclavi': 1, 'graphic': 1, 'interpert': 1, 'clobestol': 1, 'lrage': 1, 'depo': 1, 'surprizingli': 1, 'fuid': 1, 'hypernatrium': 1, 'antcip': 1, 'effctiv': 1, 'invest': 1, 'assault': 3, 'erythremat': 1, 'favour': 1, 'dyne': 2, 'wain': 1, 'vigilantli': 2, 'clobestsol': 1, 'pfr': 2, 'freuqent': 1, 'pase': 1, 'peeep': 1, 'adust': 1, 'maintaint': 1, 'amont': 1, 'condidt': 1, 'nonadher': 1, 'procudur': 1, 'femerol': 1, 'pychiatr': 1, 'panu': 2, 'ptr': 1, 'movem': 1, 'betamethason': 2, 'ont': 1, 'superviss': 1, 'posiibl': 1, 'availi': 1, 'recv': 1, 'cryo': 1, 'precauion': 1, 'reposons': 1, 'ectopt': 1, 'cuvrv': 1, 'legionna': 1, 'liner': 2, 'abnormalitiy': 1, 'sequent': 1, 'occul': 1, 'toil': 1, 'endocardit': 1, 'legionnair': 3, 'verbalis': 1, 'twelv': 1, 'cholecyt': 1, 'hydralyzin': 1, 'prc': 2, 'mting': 1, 'todat': 2, 'verb': 1, 'qti': 1, 'unablet': 1, 'clinici': 1, 'delec': 1, 'andm': 1, 'bonchiti': 1, 'ibandron': 2, 'lmidron': 1, 'nocuturn': 1, 'empric': 2, 'orlb': 1, 'riclast': 1, 'colum': 2, 'pecocet': 1, 'convalesc': 1, 'ridden': 1, 'sclqae': 1, 'incenitv': 1, 'hypenatremia': 1, 'intetmitt': 1, 'mie': 3, 'persev': 3, 'pneuomonia': 2, 'morphic': 1, 'gentlr': 1, 'rhochi': 1, 'legnionella': 1, 'monomorph': 2, 'aspiraiton': 1, 'shit': 1, 'nremain': 1, 'outwardli': 1, 'laryhg': 1, 'mulitlobular': 1, 'visitng': 1, 'completli': 1, 'asb': 1, \"tf'\": 2, 'especilli': 1, 'suciotn': 1, 'intraprocedur': 2, 'reconsclip': 2, 'infectin': 1, 'mucomist': 3, 'cul': 1, 'plugg': 1, 'retroperitonael': 1, 'nusr': 1, 'resucit': 2, 'atart': 1, 'serivc': 1, 'nmb': 1, 'famli': 1, 'cpcp': 2, 'poulmonari': 1, 'obatin': 1, 'larang': 1, 'hemodynamicli': 2, 'catopril': 1, 'intiti': 4, 'stomcach': 1, 'akinwat': 1, \"'snsr\": 1, 'hopsit': 2, 'dipp': 1, 'endometri': 2, 'sucraf': 1, 'callou': 1, 'fluticasin': 1, 'vytorin': 1, 'hyperplast': 3, 'choleycystectomi': 1, 'xri': 1, 'bailar': 1, 'phenobarb': 3, 'hydrobromid': 3, 'grandmoth': 2, 'nasonex': 1, 'boil': 1, 'malabsorpt': 1, 'clarithromycin': 2, 'tylenolol': 2, 'hepaticojejunostomi': 1, 'adj': 3, 'outburst': 2, 'condsid': 1, 'neutrapen': 1, 'cefepem': 2, 'cwia': 1, 'myocardia': 2, 'myelosupress': 1, 'pjp': 5, 'stoneman': 1, 'pellucidum': 2, 'readd': 1, 'schf': 3, 'orthodrom': 1, 'childdren': 1, 'danazol': 1, 'myelofibrosi': 1, 'alkelem': 1, 'acidoci': 1, 'fmask': 1, 'dopplear': 1, 'etiomad': 1, 'hematologist': 1, 'antagonist': 2, 'cultru': 1, 'eminclud': 1, 'surrog': 1, 'yersinia': 1, 'glucont': 1, 'coagulapath': 1, 'campylobact': 2, 'vpa': 2, 'vibrio': 1, 'fece': 7, 'intron': 1, 'ohter': 1, 'eia': 5, 'ish': 2, 'hydroxylurea': 1, 'accordigli': 1, 'cortstim': 3, 'dexmedetomidin': 3, 'neuromusc': 2, 'pentoxyfillin': 1, 'euthyroid': 1, 'string': 1, 'hypothryroid': 1, 'jhere': 1, 'angiotensin': 1, 'hazzi': 1, 'chaplain': 2, 'bioavailibilti': 1, 'bbker': 1, 'pentoxifyllin': 1, 'bradypnea': 1, 'draiin': 1, 'congeat': 1, 'fley': 1, 'sriel': 1, 'lllpna': 1, 'serel': 1, 'prethicken': 4, 'cmii': 1, 'regurgittaion': 1, 'ivh': 2, 'diffrenc': 1, 'bradicard': 1, 'gerealo': 1, 'affair': 1, 'barotrauma': 4, 'unprompt': 1, 'retsart': 1, 'ogress': 1, 'assista': 1, 'purchas': 1, 'hpome': 1, 'ritonovir': 2, 'pointer': 1, 'washcloth': 1, 'gangren': 5, 'myoclonu': 4, 'unasses': 1, 'covner': 1, 'transamitini': 1, 'reyetaz': 1, 'tting': 1, 'litter': 1, 'encephalpathi': 1, 'contempl': 2, 'immatur': 2, 'blee': 2, 'chlorhexedin': 1, 'hyperhydr': 1, 'thlenol': 1, 'aminoglycosid': 3, 'entens': 1, 'phlebotom': 1, 'unsatisfi': 1, 'familiar': 3, 'dital': 1, 'bradyca': 1, 'soduim': 1, 'scew': 1, 'leukencephalopathi': 1, 'dramtic': 1, 'sulfadizin': 1, 'pml': 3, 'icp': 2, 'ototox': 1, \"gnr'\": 1, 'surviv': 3, 'ong': 1, 'macrocyt': 3, 'shink': 1, 'chlor': 1, 'unorthodox': 1, 'openli': 1, 'certif': 1, 'knuckl': 1, 'vestibular': 2, 'hypercholorem': 1, 'recieiv': 2, 'tuft': 1, 'pyrimethamin': 1, 'kinet': 4, 'acrocyanosi': 1, 'radiocontrast': 1, 'clorhexedin': 1, 'disproportion': 1, 'gre': 2, 'microorg': 3, 'hypernutremia': 2, 'stagnat': 1, 'etiol': 1, 'mannitol': 1, 'defend': 3, 'popular': 3, 'dysregul': 3, 'dexemethason': 1, 'mpression': 2, 'secrest': 2, 'rdia': 1, 'consost': 1, 'diari': 2, 'tracjh': 1, 'trippl': 3, 'botain': 1, 'tynelol': 1, 'peac': 3, 'reinvolv': 1, 'manomet': 2, 'pharmd': 3, 'reticulocyt': 2, 'uncal': 2, 'hmo': 1, 'aswer': 1, 'colleg': 2, 'leukoencephalopati': 1, 'microbi': 1, 'reconstitut': 4, 'initai': 1, 'vascularpreserv': 1, 'shrink': 3, 'pentobarbit': 2, 'youngest': 1, 'fenanyl': 1, 'hypereflexia': 1, 'hypoton': 5, 'practition': 2, 'insynchron': 1, 'contribtuion': 1, 'apnpr': 1, 'cryptococcu': 1, 'cepftim': 1, 'haartwith': 1, 'seiaur': 1, 'takeoff': 1, 'tor': 1, 'recrudes': 1, 'confront': 2, 'precuss': 1, 'nacrot': 1, 'geograph': 2, 'perimesencephal': 1, 'onog': 1, 'diulatin': 1, 'hyperreflexia': 1, 'xigri': 1, 'decin': 1, 'decompos': 1, 'arv': 2, 'weari': 1, 'anticoagulatoion': 1, 'primaqin': 1, 'finerg': 1, 'mpowel': 1, 'narcopt': 1, 'interst': 1, 'housekeep': 2, 'various': 1, 'tricor': 2, 'clindmycin': 1, 'melana': 2, 'idic': 1, 'guidan': 1, 'metoptolol': 1, 'refusu': 1, 'hypov': 1, 'micafungin': 3, 'foudn': 1, 'diagon': 1, 'resisit': 1, 'narcotica': 1, 'myelomat': 1, 'pansystol': 1, 'trabecul': 4, 'traansfer': 1, 'antim': 1, 'stohnman': 1, 'bzd': 2, 'unmask': 2, 'whinc': 1, 'voriconozol': 1, 'hiatu': 6, 'hu': 2, 'primquin': 1, 'orhtostasi': 1, 'oof': 1, 'firsthand': 1, 'prison': 4, 'empiricali': 1, 'senstiv': 1, 'whees': 1, 'managemet': 1, 'mosaic': 4, 'methylnaltrexon': 2, 'primaquon': 1, 'thyromegali': 12, 'shose': 1, 'unur': 1, 'bloodpressur': 2, 'pneumoina': 1, 'myocolonu': 1, 'altert': 1, 'unlikl': 1, 'velcad': 2, 'edit': 2, 'hydrochlorid': 2, 'ilopsoa': 1, 'simplex': 3, 'lanzoprazol': 1, 'ketorolac': 3, 'microangiopathi': 1, 'interduc': 1, 'excruci': 1, 'rarefact': 1, 'tamsulosin': 3, 'unfamiliar': 1, 'iliopsoa': 1, 'infectio': 1, 'calcitonin': 2, 'tordol': 1, 'severaql': 1, 'aneur': 2, 'wing': 1, 'microischem': 1, 'bruie': 1, 'jiroveci': 6, 'sevelem': 2, 'protuber': 4, 'progres': 2, 'pneumococ': 1, 'bel': 1, 'hyposed': 1, 'murmr': 1, 'intim': 4, 'atax': 1, 'illiopsoa': 1, 'certainti': 2, 'naficillin': 1, 'poison': 2, 'vacn': 1, 'trasnlat': 1, 'biater': 9, 'consumpt': 5, 'atalectasi': 5, 'shellfish': 3, 'opf': 1, 'hars': 1, 'ldic': 1, 'triangular': 2, 'feversclin': 1, 'achondroplasia': 1, 'ptv': 1, 'array': 1, 'aspf': 2, 'omnipaqu': 22, 'toput': 1, 'rknee': 1, 'extubaton': 1, 'muconazol': 1, 'tolow': 1, 'hipox': 1, 'yanuak': 1, 'buttok': 1, 'eved': 1, 'elevetd': 1, 'antifangian': 1, 'probem': 1, 'imptov': 1, 'sedet': 1, 'antifangin': 1, 'palac': 1, 'monitoro': 1, 'hemotoma': 1, 'caveat': 1, 'calv': 4, 'triag': 2, 'elabor': 1, 'revelatori': 1, 'anascol': 1, 'substrat': 3, 'divalproex': 4, 'dopplier': 1, 'grm': 1, 'ditress': 2, 'revascular': 2, 'acidophillu': 1, 'ammmonia': 1, 'bmsx': 1, 'sand': 1, 'therectomi': 1, 'mylanta': 1, 'erythemet': 1, 'endeavor': 1, 'ferrousul': 1, 'diptheria': 1, 'infuluenza': 1, 'polychondr': 2, 'devat': 1, 'voltatg': 1, 'issus': 1, 'paget': 2, 'edeam': 3, 'fvc': 4, 'verstiva': 1, 'currenlti': 2, 'diphtheria': 1, 'bicalutamid': 1, 'ocuvit': 1, 'figur': 2, 'specifici': 1, 'coa': 1, 'recumb': 1, 'continui': 1, 'onb': 1, 'bdz': 1, 'intlat': 1, 'cctime': 1, 'comt': 1, 'alkalem': 1, 'billat': 1, 'sheriff': 1, 'bicarp': 1, 'garb': 1, 'sodiuma': 1, 'sectrtion': 2, 'levagquin': 1, 'combivi': 1, 'lipomatosi': 1, 'wln': 1, 'normotensiv': 1, 'respitor': 1, 'hunulin': 1, 'harbor': 1, 'igh': 1, 'burr': 4, 'porencephal': 1, 'supratentori': 4, 'shoudl': 1, 'lubric': 1, 'croupi': 1, 'permeabl': 1, 'villag': 1, 'covg': 1, 'magnitud': 1, 'paranoa': 1, 'resuiscit': 1, 'springwel': 1, 'pelclip': 1, 'hemachomotosi': 1, 'sttwc': 1, 'hemachromatosi': 1, 'noncontigu': 1, 'vasalva': 1, 'sequestr': 1, 'winter': 2, 'orign': 2, 'nonradi': 1, 'nok': 2, 'hemochromotosi': 1, 'superclavicular': 1, 'ym': 2, 'confin': 2, 'osteophytosi': 2, 'lacat': 4, 'tsamiflu': 1, 'latu': 1, 'neosynepherin': 1, 'poetic': 1, 'offlevoph': 1, 'swithc': 1, 'moicro': 1, 'copeou': 1, 'photo': 1, 'madanock': 1, 'withdrwal': 1, '^wob': 5, 'mimic': 1, 'withdrawa': 1, 'compenas': 1, 'osteltamavir': 1, 'cation': 1, 'famoitidin': 1, 'initail': 2, 'interrogat': 1, 'osteltamivir': 1, 'hitchcock': 1, 'aeronaut': 1, 'scarl': 1, 'unprepar': 1, 'una': 5, 'receivng': 2, 'sureg': 1, 'represnt': 1, 'resuccit': 1, 'hostil': 1, 'casopressin': 1, 'dsh': 1, 'lrx': 1, 'recimmend': 1, 'dcough': 1, 'vibrant': 1, 'levofloxaxin': 1, 'parameterd': 1, 'revi': 1, 'appropriatr': 1, 'mucormyst': 3, \"ext'\": 1, 'cleat': 1, 'transferrin': 2, 'mipt': 1, 'maskj': 1, 'nbr': 1, 'tricuspud': 1, 'antitbiot': 1, 'duiresis': 1, 'purlent': 1, 'und': 2, 'obtaijn': 1, 'centropulmonari': 1, 'hypokines': 1, 'inferiormost': 1, 'guzzl': 1, 'prethickn': 1, 'tnt': 3, 'hld': 3, 'lactamas': 5, 'cardiomyopath': 1, 'drainaga': 1, 'prb': 1, \"he'\": 1, 'azityhromycin': 1, 'racotomi': 1, 'pantoea': 1, 'afternnoon': 1, 'deglutit': 3, 'recnt': 1, 'hyolaryng': 3, 'tho': 1, 'mraf': 2, 'volar': 2, 'herni': 1, 'radiocarp': 1, 'subinsular': 3, 'suboptima': 1, 'lordosi': 3, 'esophagogastr': 3, 'juglar': 1, 'subcuticular': 4, 'reoper': 2, 'cathter': 2, 'fingerbreadth': 4, 'coorespond': 1, 'ehab': 8, 'rosacea': 2, 'cholectomi': 1, 'dish': 3, 'depolar': 4, 'nterval': 1, 'scanner': 6, 'posteroinferior': 1, 'parkinsonian': 1, 'juxtahilar': 1, 'gadavist': 3, 'gsenapati': 2, 'distinguish': 6, 'gmsj': 4, 'initiatio': 1, 'innumer': 3, 'suprasellar': 4, 'bronchoalveloar': 1, 'calcifict': 1, 'peribronchovascular': 13, 'poco': 1, 'maleana': 1, 'ileiostomi': 1, 'hyperextend': 1, 'plea': 2, 'morther': 1, 'scertion': 1, 'zosoyn': 1, 'thalam': 3, 'continuum': 1, 'tour': 3, 'witb': 1, 'egu': 1, 'axcellari': 1, 'scopi': 1, 'basliic': 1, 'mucho': 1, 'positi': 1, 'oesophg': 1, 'ueo': 1, 'semisupin': 1, 'egdv': 1, 'tthrough': 1, 'hctcheck': 1, 'thankscarolyn': 1, 'ltec': 1, 'penumon': 1, 'oain': 1, 'supratherpeut': 1, 'melaena': 1, 'ostomoy': 1, 'obli': 1, 'gargl': 1, 'vomittr': 1, 'npv': 1, 'unprovok': 1, 'retropreiton': 1, 'olveckzi': 1, 'oglivi': 1, 'chelona': 1, 'mgu': 1, 'prevail': 1, 'microaspir': 1, 'oophorectomi': 2, 'nonimmun': 1, 'qthur': 1, 'salpingo': 1, 'zoyn': 1, 'nonsmok': 2, 'wine': 4, 'mucocel': 1, 'recenetli': 1, 'hypernam': 1, \"'great\": 1, 'adminit': 1, 'imay': 1, 'alendron': 1, 'teratoma': 2, 'ubiquit': 1, 'asprin': 3, 'infiltart': 1, 'pigment': 1, 'pneuomina': 1, 'ammen': 1, 'macrolid': 3, 'historectomi': 1, 'peristals': 1, 'kwnown': 1, 'immunoglobulin': 1, 'subnorm': 1, 'veg': 1, 'sin': 1, 'defuci': 1, 'subclass': 1, 'usiti': 1, 'hsc': 3, 'spetic': 1, 'ethmoidectomi': 1, 'kgm': 1, 'monotherapi': 4, 'sequest': 2, 'masp': 1, 'antrostomi': 1, 'pansinus': 2, 'meatal': 1, 'immunodefici': 6, 'serotonin': 5, 'development': 5, 'tbi': 4, 'tahcycardia': 1, 'airless': 3, 'chondrosarcoma': 1, 'medullari': 4, 'ramu': 2, 'heterotop': 4, 'truama': 1, 'panc': 1, 'ossifi': 1, 'osteosarcoma': 1, 'parost': 1, 'ossif': 5, 'ossifican': 1, 'rami': 1, 'coanda': 1, 'apsir': 1, 'resuspens': 1, 'phosph': 1, 'hyperphospatemia': 1, 'brath': 1, 'gerontololgi': 1, 'trazamin': 1, 'retina': 1, 'kayexak': 1, 'hyoxemia': 1, 'sevalam': 2, 'tenosynov': 1, 'kayexcel': 1, 'scheme': 1, 'cib': 2, 'hyperphosphotemia': 1, 'arth': 1, 'stabli': 9, 'nongap': 2, 'rocefin': 1, 'leukotrien': 1, 'inhib': 1, 'suspcion': 1, 'timecours': 3, 'feverish': 2, 'orthopn': 1, 'zileuton': 1, 'supsect': 1, 'crx': 1, 'treadmil': 1, 'agma': 2, 'trhough': 1, 'meformin': 1, 'rhocnher': 1, 'coccobaccili': 1, 'plateu': 1, 'bilster': 1, 'dbl': 1, 'cechect': 2, 'ammonium': 1, 'peek': 1, 'metiplex': 1, 'hopwev': 1, 'curlex': 1, 'pulmomari': 3, 'bronk': 1, 'diffusedli': 1, 'slideboard': 5, 'bootsa': 1, 'miplex': 1, 'triplk': 1, 'doribax': 1, 'bldcx': 1, 'levop': 1, 'dori': 1, 'toerlat': 1, 'pleomorph': 1, 'softworb': 1, 'peripeg': 1, 'cechet': 1, 'clonapin': 1, 'liumen': 1, 'amykacin': 1, 'placeemtn': 1, 'serosangui': 1, 'negx': 1, 'bumper': 1, 'auitopeep': 1, 'biat': 1, 'pneumonboot': 1, 'vurrent': 1, 'darbopenem': 1, 'tracheomalcia': 1, 'gran': 1, 'properti': 3, 'adpat': 1, 'hiold': 1, 'throrac': 1, 'sorftsorb': 1, 'skeptic': 1, 'duodrem': 1, 'wrape': 1, 'antianxietolyt': 1, 'alzeim': 1, 'alzhiem': 1, 'macroadenoma': 1, 'thyoid': 1, 'moxifloxacin': 7, 'hemithorac': 3, 'sellar': 1, 'hypochlorem': 1, 'remodel': 1, 'demis': 3, 'ream': 1, 'arousbl': 1, 'macradenoma': 1, 'diuresd': 1, 'febreil': 1, 'dentist': 1, 'bournwood': 1, 'snap': 2, 'airtrap': 3, 'crede': 1, 'unimpair': 1, 'agiit': 1, 'useless': 1, 'restricti': 1, 'pectu': 2, 'obsess': 1, 'thorazin': 1, 'hypogammaglobulinemia': 3, 'public': 4, 'dignosi': 1, 'phenazopyridin': 1, 'inebri': 1, 'nonsept': 1, 'atelectai': 2, 'dust': 1, 'oit': 1, 'gammaglobulinemia': 1, 'appris': 1, 'collagen': 1, 'kneereplac': 1, 'orthopedist': 1, 'salicyl': 1, 'kneeleft': 1, 'osteonecrosi': 1, 'gabopentum': 2, 'gabapenton': 1, 'hydroxyzin': 4, 'shirt': 1, 'hcg': 1, 'slam': 1, 'distruct': 1, 'arthrocentesi': 2, 'vistaril': 1, 'psychotrop': 2, 'pleurectomi': 1, 'carinatum': 1, 'epithet': 1, 'lulobectomi': 1, 'duri': 3, 'ventericular': 1, 'repos': 1, 'senapati': 1, 'precuationsplan': 1, 'completley': 1, 'septalectomi': 1, 'unexpect': 4, 'expecetd': 1, 'antimirobi': 1, 'turbinectomi': 1, 'consistn': 1, 'complan': 1, 'dyskinesia': 1, 'sildenafil': 2, 'disconcert': 1, 'rythum': 1, 'hypercholeserolemia': 1, 'cystiti': 4, 'navi': 1, 'welcom': 2, 'estat': 1, 'denser': 5, 'renounc': 1, 'entail': 1, 'pastpt': 1, 'mendehlson': 1, 'aceess': 1, 'trespass': 1, 'prosatectomi': 1, 'tspn': 4, 'uleg': 1, 'leukcytosi': 2, 'pride': 1, 'isometr': 3, 'rhc': 3, 'pericardialcenti': 1, 'tenofovir': 2, 'rehospit': 3, 'cdifff': 1, 'smv': 3, 'rrva': 1, 'cte': 1, 'sldh': 1, 'opportunitist': 1, 'slump': 1, 'propanalol': 1, 'sticker': 4, 'pldh': 1, 'schistocyt': 1, 'inconti': 2, 'paracentisi': 1, 'freeca': 1, 'tbil': 1, 'hemetemesi': 1, 'sofa': 1, 'abacavir': 2, 'uln': 1, 'beforehand': 1, 'huid': 1, 'capaci': 1, 'cmrepeat': 1, 'radiologymaureen': 1, 'gastroview': 1, 'disea': 2, 'dohboff': 1, 'ptft': 1, 'consolodi': 1, 'resi': 1, 'txp': 2, 'brachiocepahl': 1, 'vdrf': 1, 'surgeru': 1, 'repes': 1, 'refilm': 1, 'olt': 3, 'gastro': 1, 'media': 1, 'crystalloid': 2, 'otiti': 1, 'thalassemia': 1, 'hemotocrit': 1, 'toxoplamosi': 1, 'cefaclor': 1, 'beign': 2, 'nurseri': 1, 'aztrenam': 1, 'nifediipin': 1, 'predescrib': 1, 'inforc': 1, 'effusi': 1, 'undo': 1, 'ceclor': 1, 'raynoid': 1, 'mycin': 2, 'asss': 1, 'intrinis': 1, 'bicycl': 1, 'eu': 1, 'cannibu': 1, 'cannabi': 1, 'sizewis': 1, 'sertalin': 1, 'bumpi': 1, \"leni'\": 1, 'antidep': 1, 'admtt': 1, 'cannabinoid': 1, 'ajust': 2, 'ceftraiaxon': 1, 'atiavan': 1, 'aeipf': 1, 'welder': 1, 'faecal': 1, 'acetylcystin': 2, 'thump': 1, 'valcyt': 3, 'subarachanoid': 1, 'parathesia': 1, 'valcyclovir': 1, 'macroph': 1, 'valgancyclovir': 2, 'hepe': 1, 'heppa': 1, 'neagtiv': 1, 'vangcyclovir': 1, 'uip': 4, 'incontinac': 1, 'bronchoscpi': 1, 'herps': 1, 'incontint': 1, 'valacyclovir': 1, 'anxou': 1, 'arachynoid': 1, 'sidedweak': 1, 'librari': 1, 'pansinusitu': 1, 'myxomat': 1, 'brocnhoscopi': 1, 'diagsnosi': 1, 'pck': 1, 'eospinophilia': 1, 'silicosi': 1, 'ctdz': 1, 'amitiptyllin': 1, 'suspician': 2, 'invovel': 1, 'abpa': 1, 'rhiniti': 2, 'reop': 1, 'aneurysn': 1, 'reapir': 1, 'precip': 1, 'cep': 1, 'uk': 2, 'wold': 1, 'librarian': 1, 'adjacebt': 1, \"morning'ha\": 1, 'ilii': 1, 'nomin': 1, 'condensan': 1, 'prevoid': 1, 'osteiti': 1, 'midclavicular': 4, 'sjbj': 5, 'fissu': 1, 'patial': 1, 'shortn': 3, 'glan': 1, 'sugesst': 1, 'seiszur': 1, 'aortopulmon': 1, 'flextur': 2, 'mediatinum': 1, 'hyponutremia': 1, 'evdeic': 1, 'mesial': 2, 'sciatica': 1, 'micromass': 1, 'heaven': 1, 'autism': 1, 'autist': 1, 'sunitinib': 1, 'orthogon': 2, 'rxcg': 1, 'trig': 3, 'effsuion': 1, 'hyperton': 2, 'temporali': 1, 'upstair': 3, 'odynophagia': 4, 'destrucitv': 1, 'seasion': 1, 'threaten': 3, 'legfor': 1, 'scull': 1, 'fosphenytoin': 1, 'inping': 1, 'obstrut': 1, 'seas': 1, 'rveal': 1, 'lm': 2, 'calvari': 1, 'medistiastinum': 1, 'suclavian': 1, 'pachymening': 4, 'dendrit': 1, 'encephlopath': 1, 'rrc': 1, 'enterographi': 1, \"perf'\": 1, 'indirect': 3, 'twelfth': 1, 'volvulu': 4, 'sigmoidoscopi': 1, 'hyperem': 1, 'tenth': 2, 'narrowest': 1, 'proctoscopi': 1, 'microcytosi': 1, 'eleventh': 1, 'radioact': 2, 'erectil': 1, 'readress': 1, 'atribut': 1, 'radioi': 1, 'cholecalciferol': 3, 'predict': 3, \"grave'\": 1, 'overnigh': 1, 'adc': 4, 'grd': 1, 'postcontrast': 1, 'dysfuct': 2, 'robust': 6, 'signifi': 1, 'melen': 1, 'microhemorrhag': 2, 'udergo': 1, 'pallidu': 1, 'sew': 1, 'laparatomi': 1, 'gyriform': 1, 'predispos': 4, 'gyru': 2, 'tonsillar': 1, 'gastrotomi': 2, 'infero': 3, 'tachcyardia': 1, 'reismann': 1, 'reivew': 1, 'cth': 2, 'modax': 2, 'arbout': 1, 'flak': 1, 'magnum': 1, 'hypoaesthesia': 1, 'lllasp': 1, 'refut': 1, 'thourough': 1, 'globu': 1, 'hba': 5, 'laryngoscopi': 2, 'postcentr': 1, 'enzyem': 1, 'tonsilar': 1, 'oversew': 1, 'ipsilater': 1, 'unwilling': 1, 'volu': 1, 'myoclon': 3, 'elsd': 1, 'chirrosi': 1, 'leucopenia': 1, 'agres': 1, 'neosynephin': 1, 'propofaol': 1, 'coursa': 1, 'eslc': 1, 'repsositio': 1, 'followl': 1, 'ppli': 1, 'difficuolt': 1, 'lecopenia': 1, 'depelt': 1, 'propranolol': 1, 'electrophysiolog': 1, 'lactolas': 1, 'nephriti': 1, 'pge': 1, 'swall': 1, 'thiock': 1, 'polymyopathi': 1, 'perisepsi': 1, 'delist': 1, 'fascicul': 1, 'spesi': 1, 'boat': 1, 'nmed': 3, 'hitler': 1, 'safer': 1, 'hypovolm': 1, 'withsept': 1, 'abilti': 1, 'polymyoneuropathi': 1, 'necktar': 1, 'stm': 2, 'varici': 1, 'pterygoid': 1, 'bradykinet': 1, 'nadalol': 1, 'devi': 1, 'patientnafcillin': 1, 'valuat': 1, 'guac': 1, 'heterotopia': 1, 'approximatli': 1, 'wocrn': 1, 'inclement': 1, 'crtical': 1, 'elb': 1, 'mmt': 6, 'propel': 1, 'humiditifi': 1, 'harvest': 2, 'hempdynam': 2, 'bedridden': 1, 'initati': 1, 'intracerebr': 2, 'flatter': 2, 'inatak': 1, 'hoy': 1, 'deltoid': 2, 'axon': 2, 'weanign': 1, 'recordsnafcillin': 1, 'overlaod': 2, 'chirossi': 1, 'meropenenem': 1, 'intrac': 1, 'compelt': 1, 'adequaci': 2, 'restlessli': 1, 'mulitfoc': 1, 'polyneuropathi': 3, 'gentler': 1, 'encpehalopath': 1, 'fse': 1, 'lactuols': 1, 'iadl': 2, 'indent': 3, 'epicondyl': 2, 'intradur': 2, 'desonid': 1, 'apach': 1, 'guanifensin': 1, 'sclen': 1, 'hydroxyzon': 1, 'patientmercuri': 1, 'mercuri': 1, 'geritrician': 1, 'isir': 1, 'intemitt': 1, 'dfif': 1, 'citri': 1, 'ammoni': 1, 'prognost': 1, 'lactact': 2, 'hypoixia': 1, 'orba': 1, 'isdn': 2, 'sweetcorn': 1, 'parksinson': 1, 'nephrolithotomi': 1, \"parkinson'\": 1, 'strikingli': 1, 'processbi': 1, 'xygen': 1, 'promis': 3, 'fyi': 2, 'concerngin': 1, 'hga': 3, 'oncomycosi': 1, \"pcp'\": 1, 'jam': 1, 'irbesartan': 1, 'flower': 2, 'hlp': 1, 'avapro': 1, \"romi'\": 1, 'effius': 1, 'variablil': 1, 'crosstoler': 1, 'feedback': 1, 'mosit': 1, 'mcafungin': 1, 'entamoeba': 1, 'glragin': 1, 'anathesiol': 1, 'pvk': 1, 'chart^': 1, 'maxax': 2, 'elvev': 1, 'annum': 1, 'clin': 2, 'eosionphil': 1, 'sye': 1, 'secanodari': 1, 'aemia': 1, 'mlhr': 1, 'rss': 1, 'anest': 1, 'lcm': 1, 'roto': 1, 'oncol': 1, 'pneumomedistin': 1, 'mve': 1, 'algorhythm': 1, 'intensivm': 1, 'mkm': 1, 'trendelenberg': 3, 'flashback': 1, 'notfallm': 1, 'minax': 2, 'eichinococcu': 1, 'critici': 1, 'wriggl': 1, 'raidal': 2, 'tryadyn': 1, 'mgc': 1, 'intrapulmonari': 6, 'hyoglycemia': 1, 'rotopron': 2, 'portugues': 3, 'prcv': 1, 'cvm': 1, 'patiient': 1, 'ctg': 4, 'anesthesiolog': 1, 'shd': 3, 'echinococcu': 1, 'rotapron': 1, 'hantaviru': 1, 'mucl': 1, 'tward': 1, 'doxicyclin': 2, 'nur': 1, 'unsatgebal': 1, 'doee': 1, 'thrombocytopen': 2, 'respriatori': 7, 'schmerzther': 1, 'nmda': 1, 'cart': 3, 'pron': 1, 'modb': 1, 'hyperalgesia': 2, 'weel': 1, 'pneumonmediastinum': 1, 'limt': 1, 'calyx': 1, 'anesthesiologist': 1, 'replc': 1, 'pylostomi': 1, 'nephrotomi': 1, 'sillhouhett': 1, 'aanterior': 1, 'anteroposterior': 1, 'solitari': 5, 'neoesophagu': 1, 'obstruc': 1, 'falciform': 2, 'minimun': 1, 'pneumonvax': 1, 'dypspnea': 1, 'provoc': 1, 'rattli': 2, 'floromethalon': 1, 'butun': 1, 'bellow': 1, 'rheumatologist': 1, 'cvid': 2, 'ipr': 1, 'olsetamivir': 1, 'pseudoobstruct': 1, 'cutlur': 4, 'estgfr': 1, 'bronchoconstrict': 1, 'guifensien': 1, 'baker': 1, 'fahx': 1, 'whirl': 1, 'bairhugg': 1, 'chewabl': 3, 'bilroth': 1, 'dimentia': 1, 'subjac': 1, 'abv': 1, '^rdl': 1, 'claclium': 1, 'fliuid': 1, 'eventr': 2, 'dir': 2, 'sohx': 1, 'mgmnt': 1, 'actuat': 2, 'remid': 1, 'novolin': 2, 'pectic': 1, 'hydroxid': 5, 'farr': 1, 'sphincterotomi': 1, 'unremarakbl': 1, 'piroxicam': 1, 'myofasci': 1, 'eelvat': 1, 'mep': 1, 'hypoventili': 1, 'hprn': 1, 'epzicom': 1, 'atazanavir': 1, 'narcoti': 1, 'reyataz': 1, 'signic': 1, 'mens': 2, 'flumenazil': 1, 'cig': 2, 'pneumonianow': 1, 'qual': 1, 'ism': 1, 'lactuls': 1, 'duie': 1, 'tremen': 2, 'whc': 1, 'cotninu': 2, 'pint': 1, 'coff': 1, 'clininc': 1, 'emei': 1, 'rpaid': 1, 'epilecticu': 1, 'donut': 1, 'deleriumt': 1, 'hopefuil': 1, 'umen': 1, 'deprees': 1, 'bucket': 1, 'unidentifi': 2, 'decorticaiton': 1, 'tld': 1, 'pyeloplasti': 1, 'antidepend': 1, 'trilob': 1, 'nteract': 1, 'improvt': 2, 'grp': 1, 'multicoc': 1, 'immodium': 3, 'hyropneumothorax': 1, 'farmer': 1, 'cefapem': 1, 'vmr': 1, 'pnanot': 1, 'stumbl': 1, 'thallasemia': 1, 'dyarthria': 1, 'dysarththia': 1, 'gfamili': 1, 'arisen': 1, 'uplift': 1, 'stube': 1, 'uniform': 2, 'curl': 8, 'tongith': 1, 'chroninc': 1, 'vasculartur': 1, 'afford': 2, 'caffien': 1, 'dehyr': 1, 'affor': 1, 'leginonella': 1, 'fiorin': 1, 'desipramin': 1, 'fllow': 1, 'intertrigo': 1, 'becsu': 1, 'cigar': 1, 'hssi': 3, 'utter': 2, 'metforman': 1, 'land': 1, 'excor': 1, 'underi': 1, 'crash': 1, 'consolidatioin': 1, 'silhoutt': 1, 'signai': 1, 'quinadin': 1, 'sgift': 1, 'toprolol': 1, 'plale': 1, 'dofetillid': 1, 'cbg': 3, 'gradulli': 1, 'hepatobiliari': 4, 'epistaxsi': 1, 'schwannoma': 2, 'dysfunt': 1, 'inout': 1, 'intratubular': 1, 'ralesb': 1, 'glomerulonephr': 2, 'condens': 1, 'kayaxel': 1, 'postvoid': 1, 'mirolax': 1, 'hyperphosphatemia': 2, 'shapr': 1, 'ducolox': 1, 'bdg': 1, 'toleran': 1, 'enxt': 1, 'puplmonari': 1, 'stereotact': 1, 'spleno': 2, 'splenoport': 1, 'varix': 1, 'bronchiolar': 3, 'pseudoarthrosi': 1, 'rightr': 1, 'cementoplasti': 1, 'ankylos': 1, 'spondyl': 1, 'opacitii': 1, 'obtur': 1, 'conceal': 2, 'currnetli': 1, 'leukodytosi': 1, 'intravertebr': 1, 'consitp': 1, 'addomen': 1, 'theresid': 2, 'overfe': 2, 'levl': 1, 'contsip': 1, 'resiz': 1, 'hystrectomi': 1, 'pyschosi': 1, 'sorbitol': 1, 'monitori': 1, 'brim': 1, 'patientprednison': 1, 'hemiperisi': 1, \"'better\": 1, 'subarrachnoid': 1, 'gonald': 1, 'opteas': 3, 'fliter': 1, 'hyerkalemia': 1, 'galss': 1, 'preme': 1, 'pleuridex': 1, 'hospitalizait': 1, 'zosn': 1, 'aihi': 1, 'inard': 1, 'aiha': 1, 'acycolovir': 1, 'bedamustin': 1, 'hypogammaglobinemia': 1, 'pnau': 1, 'histroy': 3, 'liklihood': 1, 'rituxan': 1, 'onppi': 1, 'px': 3, 'atelectatsi': 1, 'bluid': 2, 'spustum': 1, 'lsinoprel': 1, 'duaghter': 1, 'arang': 1, 'subgal': 2, 'dysf': 1, 'stablliz': 1, 'holosystol': 3, 'pansinu': 1, 'fcn': 1, 'slntg': 2, 'arl': 1, 'cratinin': 1, 'shilouett': 1, 'evenli': 1, 'migratori': 1, 'exceedingli': 1, 'raynaud': 1, 'isnorm': 1, 'overestim': 2, 'proportio': 1, 'patientlidocain': 1, 'catecholami': 1, 'fmssa': 1, 'aneurism': 1, 'vcabg': 1, 'cefetriazidim': 1, 'techngu': 1, 'resons': 2, 'naf': 2, 'extrmeitii': 1, 'surv': 2, 'flonas': 2, 'macaroni': 1, 'ical': 1, 'buyt': 1, 'mirco': 1, 'hypophon': 1, 'nafcililn': 1, 'aarom': 1, 'laq': 2, 'diuresesi': 1, 'finesterid': 1, 'imapir': 1, 'satuat': 1, 'sefl': 1, 'feso': 3, 'comporomis': 1, 'reintubt': 1, 'hepb': 1, 'contamini': 1, 'catecholamin': 1, 'whiff': 1, 'spbt': 1, 'uee': 1, 'extremu': 1, 'frigidi': 1, 'atlectesi': 1, 'dsitress': 1, 'dissoci': 1, 'isorhythm': 1, 'neoesophag': 1, 'levoflaoxin': 1, 'lomictil': 1, 'bidew': 1, 'normo': 3, 'antoibiot': 1, 'porch': 1, 'morphinel': 1, 'msntal': 1, 'prelmininari': 1, 'betaseron': 1, 'fentanyla': 1, 'borderl': 1, 'millimetr': 2, 'heteregen': 2, 'radio': 4, 'groshung': 1, 'dextroconvex': 2, 'anchor': 1, 'additino': 1, 'opacificaton': 1, 'cisterna': 2, 'ajnd': 1, 'cariat': 1, 'magna': 2, 'tapabl': 1, 'plana': 1, 'ult': 1, 'negativebal': 1, 'bacj': 2, 'nio': 1, 'alkalsosi': 1, 'unexpectedli': 1, 'bpmaintain': 1, 'proir': 1, 'mycocardi': 1, 'aceiv': 1, 'mulitdisciplinari': 1, 'respiaratori': 1, 'multidisicplinari': 1, 'genesi': 1, 'teanaou': 1, 'descid': 2, 'deffrer': 1, 'impedi': 2, 'mepelex': 1, 'inexpect': 1, 'dysnychromi': 1, 'dnh': 2, 'cardiazem': 1, 'bankart': 1, 'prcocet': 1, 'egfr': 3, 'uterotomi': 1, 'levoxacin': 1, 'talli': 1, 'resrict': 1, 'beverag': 2, 'nake': 2, 'atlectasi': 3, 'somewher': 1, 'beng': 1, 'macdonald': 1, 'street': 2, 'clilnic': 1, 'thiamain': 1, 'increaseili': 1, 'trazdon': 1, 'pantri': 1, 'teanm': 1, 'agita': 1, 'percardi': 1, 'smalll': 1, 'pleurx': 3, 'slthough': 1, 'condyl': 2, 'choyk': 3, 'subclaviam': 1, 'torqu': 1, 'othervis': 2, 'seeen': 1, \"cxr'\": 1, 'spinemetastas': 1, 'afsn': 3, 'lifetim': 1, 'erlotinib': 1, 'metorrolol': 1, 'successs': 1, 'outputbun': 1, 'ismo': 1, 'dand': 1, 'rode': 1, 'triamteren': 2, 'lisinopriltoler': 1, 'fasoli': 1, 'ribcag': 1, 'hypecapnia': 1, 'comtamin': 1, 'amphysema': 1, \"copd'er\": 1, 'posthypercapnia': 1, 'murmer': 3, 'hyperaldo': 1, 'lenient': 1, 'tremain': 1, 'pcm': 2, 'abxif': 1, 'uro': 1, 'exogen': 1, 'rhaspi': 1, 'gitelman': 1, 'sinia': 1, \"bartter'\": 1, 'startw': 1, 'bronchodi': 1, 'subliguin': 1, 'alkali': 1, 'branow': 1, 'clime': 1, 'hypok': 1, 'pepicd': 1, 'aortobifemor': 1, 'msk': 3, 'holder': 2, 'placent': 1, 'havewith': 1, 'feeder': 1, 'urethra': 2, \"bs'\": 3, 'albulmin': 1, 'influenc': 3, 'urether': 1, 'notori': 1, 'mesothelioma': 1, 'procainamid': 1, 'actiiv': 1, 'amlitud': 1, 'fagitu': 1, 'nasophareng': 1, 'electropheresi': 1, 'approximatley': 1, 'intfiltr': 1, 'rlsb': 1, 'predisposit': 2, 'projectil': 2, 'hpothyroid': 1, 'neehdam': 1, 'toy': 1, 'tricupsid': 1, 'chagn': 3, 'endogastr': 2, 'coumaidn': 1, 'reasonbl': 1, 'inspiritori': 1, 'mobilix': 1, 'rewiev': 1, 'doeswel': 1, 'nest': 1, 'bleedi': 1, 'mobila': 1, 'mitrial': 1, 'vactiv': 1, 'guiafisin': 1, 'guiafisen': 1, 'antimicribi': 2, 'sihgtli': 1, 'suspiscion': 1, 'spiromitri': 1, 'robotussin': 1, 'dyfunct': 1, 'tricusp': 1, 'intend': 5, 'asix': 1, 'fruther': 1, 'pharyn': 1, 'unnessari': 1, 'unenthusiast': 1, 'mirilax': 1, 'lipm': 1, 'bpmed': 1, 'holo': 1, 'clodidin': 1, 'colllaps': 1, 'collasps': 2, 'arimidex': 2, 'catapr': 1, 'rcvd': 1, 'levaph': 1, 'alzhem': 1, 'jolt': 1, 'antihyperglycem': 1, 'anerob': 1, 'alezhiem': 1, 'clozaril': 2, 'setment': 1, 'tributari': 2, 'ileiti': 1, 'periport': 2, 'diarrheaclin': 1, 'painclin': 1, 'mesent': 1, 'rmlobectomi': 1, 'extremtli': 1, 'rmlobe': 1, 'rllobectomi': 1, 'rhythmic': 1, 'divers': 2, 'continueud': 1, 'precaust': 1, 'asthmaticu': 1, 'spina': 1, 'hyperten': 1, 'repor': 1, 'psychogen': 2, 'harshcough': 1, 'solumedeol': 1, 'melon': 1, 'bifida': 1, 'epress': 2, 'twin': 1, 'receov': 1, 'atop': 1, 'attribuatlb': 1, 'hypercarbi': 1, 'rmatiti': 1, 'peristom': 1, 'capaicti': 1, 'wihoutout': 1, 'peronei': 1, 'metaphysi': 1, 'tibiotalar': 1, 'crutch': 1, 'pulem': 1, 'eyeh': 2, 'osbuscr': 1, 'hemifraphragm': 1, 'tricsupid': 1, 'motnior': 1, 'chylou': 1, 'accodringli': 1, 'pleuradesi': 2, 'resampl': 1, 'adjuv': 1, 'hypoventialt': 1, 'talc': 2, 'threshol': 1, 'thoracentsi': 1, 'imprvo': 1, 'elevatin': 1, 'triglyc': 1, 'retens': 3, 'lyphangt': 1, 'nppvand': 1, 'bigger': 3, 'mgpo': 2, 'reticulonodular': 1, 'nrbc': 2, 'zanax': 1, 'ffectiv': 1, 'crhonic': 1, 'vacat': 2, \"wbc'\": 1, 'cronic': 1, 'rosenmul': 1, 'chord': 1, 'laryngocel': 1, 'venetricular': 1, 'regurit': 1, 'erst': 1, 'paetnci': 1, 'mechin': 1, 'disucss': 1, 'hate': 2, 'weanto': 1, 'isulin': 1, 'foloey': 1, 'andincreas': 1, 'decreasedurin': 1, 'miser': 1, 'swiych': 1, 'amlodopin': 1, 'dy': 4, 'thoraco': 1, 'isssu': 1, 'desynchron': 1, 'famotadin': 2, 'peramivir': 1, 'paramavir': 1, 'profession': 1, 'meropenun': 1, 'permavir': 1, 'olanzaoin': 1, 'nitrou': 2, 'lastli': 2, 'versedearli': 1, 'softi': 1, 'adjec': 1, 'aslix': 1, 'flewxis': 1, 'merapenum': 1, 'famoticidin': 1, 'postivi': 1, 'merrem': 1, 'anticio': 1, 'hypertriglyceridemia': 2, 'acetazolimid': 1, 'risbio': 1, 'seconday': 1, 'chlorehex': 1, 'compatibel': 1, 'unneccessari': 1, 'evercar': 1, 'abdominopelv': 2, 'nimbex': 1, 'tolerainc': 1, 'racepinephrin': 2, 'furosimid': 1, 'ibili': 1, 'intpret': 1, 'rhochor': 3, 'monostat': 1, 'initit': 1, 'gemfibrozil': 1, 'murmu': 1, 'mistak': 1, 'rhythem': 1, 'abio': 1, 'decreaas': 1, 'tachyc': 1, 'nrrr': 2, 'flitter': 1, 'flicker': 1, 'lash': 1, 'andp': 1, 'culturt': 1, 'ino': 2, 'nowt': 1, 'axiila': 1, 'woudl': 2, 'cahneg': 1, 'remp': 1, 'unsuccessful': 1, 'gate': 3, 'morph': 1, 'misregistr': 1, 'extracharg': 1, 'extracardiac': 1, 'corevalv': 1, 'coronaryclip': 1, 'tranmit': 1, 'sensitiv': 1, 'obstruciton': 1, 'afffect': 1, 'ftom': 1, 'comorbid': 5, 'hxhap': 1, 'ilw': 2, 'sklill': 1, 'meetin': 2, 'elctorlyt': 1, 'intertriginu': 1, 'maculopapular': 5, 'spontaneo': 1, 'desquamit': 1, 'intertrigin': 1, 'athrosclerosi': 1, 'andtibiot': 1, 'hoock': 1, 'pupli': 1, 'minimallli': 1, 'silvidin': 1, 'desquam': 2, 'fecul': 1, 'haemolys': 1, 'veinou': 1, 'lazix': 1, 'maliganaci': 1, 'foun': 1, 'possibilit': 2, 'emograph': 1, 'therfor': 1, 'hyporact': 1, 'highgat': 1, 'inxn': 1, 'irrevers': 1, 'subcu': 1, 'psl': 1, 'trachwostomi': 1, 'intravasc': 2, 'rectis': 1, 'saag': 1, 'silverden': 1, 'silvaden': 1, 'diatal': 1, 'rrla': 1, 'unrespos': 1, 'uncreas': 1, 'counteract': 1, 'likelyhood': 1, 'newlli': 1, 'lill': 1, 'sulfadiazin': 1, 'secretari': 1, 'fortuit': 1, 'setrt': 1, 'humolog': 1, 'allso': 1, 'mistreat': 1, 'encourab': 1, 'urti': 1, 'reli': 3, 'fhph': 1, 'cavitatari': 1, 'guaiaic': 2, 'apathet': 2, 'venitil': 2, 'revisu': 1, 'adept': 1, 'cavi': 1, 'neumonia': 2, 'cipd': 1, 'deceid': 1, 'cidp': 1, 'painless': 1, 'freguent': 1, 'rase': 1, 'conjunctivi': 1, 'pediatrian': 1, 'scrub': 2, 'folowup': 1, 'hibiclen': 2, 'svi': 1, 'pathway': 2, 'xc': 3, 'thte': 1, 'tempropariet': 1, 'shnge': 1, 'giardia': 1, 'neurosurg': 5, 'unecessari': 1, 'relateddt': 1, 'tachytachypena': 1, 'rheumatalog': 1, 'notari': 1, 'dtage': 1, 'pursuit': 1, 'hemoperitoneum': 1, 'sourceunlik': 1, 'patc': 1, 'umcomfort': 1, 'bugl': 1, 'airbag': 1, 'prnding': 1, 'dispit': 1, 'rev': 1, 'tarlov': 1, 'eleimin': 1, 'mvc': 3, 'moonlight': 1, 'anteroinferior': 1, 'neuroforamin': 1, 'lungsrhocher': 1, 'symtomat': 2, 'psm': 1, 'notar': 1, 'alkpho': 3, 'cpao': 1, 'quadreplegia': 1, 'frx': 1, 'meplix': 1, 'clearl': 1, 'meningocel': 1, 'fund': 1, 'neurosug': 1, 'myelomalacia': 1, 'historyand': 1, 'stae': 1, 'ppresent': 1, 'bronciectesi': 1, 'parenhcyma': 1, 'macrocytosi': 1, 'hemidriagphram': 1, 'bancemia': 1, 'antibito': 2, 'singnific': 1, 'porit': 1, 'appopria': 1, 'lnr': 1, 'ronchuou': 1, 'successfuli': 1, 'hbga': 1, 'orophar': 2, 'infilitr': 2, 'alheim': 1, 'imprssion': 1, 'depleat': 1, 'admisis': 1, 'vommit': 2, 'diaviat': 1, 'promient': 1, 'bloodshot': 2, 'pernin': 1, 'snif': 3, 'timelin': 1, 'gurgel': 1, 'multlipl': 1, 'hyperlimidemia': 1, 'gastrointenstin': 1, 'pur': 1, 'downgrad': 1, 'unkonwn': 1, 'novemeb': 1, 'rcxr': 1, 'unkown': 2, 'hypetens': 1, 'samonella': 1, 'amyloidosi': 1, 'artefact': 3, 'ischmic': 1, 'hypocortisol': 1, 'hydrocortisol': 1, 'transloc': 2, 'shigella': 1, 'chemotherpay': 1, 'pyridium': 1, 'tndr': 1, 'benc': 1, 'thoracoplasti': 2, 'chnge': 1, 'esopheg': 1, 'contend': 1, 'heaviest': 1, 'multidisciplnari': 1, 'numerour': 1, 'thyromeg': 2, 'juxtaren': 1, 'methehemoglobinemia': 1, 'breeth': 1, 'visibil': 1, 'mwm': 2, 'suffoc': 3, 'arc': 1, 'macroscop': 1, 'fume': 1, 'poteni': 1, 'cooximetri': 1, 'march': 2, 'academ': 1, 'periesophag': 1, 'ged': 1, 'methemoglobinemia': 1, 'postradi': 1, 'circumor': 1, 'desk': 1, 'serrat': 1, 'nortriptyllin': 1, 'rebah': 1, 'entrant': 1, 'repart': 1, 'addison': 1, 'candidiasi': 3, 'asnwer': 1, 'concert': 1, 'unhelp': 1, 'avrt': 1, 'avnrt': 3, 'asympomat': 1, 'mztb': 1, 'svcbrachiocephal': 1, 'trochlear': 1, 'radiocapitellar': 1, 'congruenc': 1, 'differeti': 1, 'osteosclerot': 2, 'thiazid': 1, 'vnon': 1, 'rvh': 1, 'parainflu': 1, 'jild': 1, 'rhf': 1, 'stneosi': 1, \"alzhiemer'\": 1, 'tuna': 2, 'yestderday': 1, 'hypoglyecem': 1, 'withsever': 1, 'hypersensitivit': 1, 'derlium': 1, 'murder': 1, 'retroact': 1, 'stratif': 1, 'sweatimg': 1, 'outpatietn': 1, 'neurvascularli': 1, 'gallon': 1, 'cirrhoit': 1, 'bush': 1, 'bail': 1, 'sacrific': 1, 'violenc': 1, 'sib': 1, 'atm': 1, 'barret': 1, 'hallucinosi': 1, 'robberi': 1, 'pilori': 1, 'concomitt': 1, 'decidedli': 1, 'benardyl': 1, 'stonosi': 1, 'uncharacterist': 1, 'aandox': 1, 'garag': 1, 'dyspnoea': 1, 'sope': 1, 'apnoea': 1, 'bkr': 2, 'enco': 1, 'talonavicular': 1, 'capnocytophaga': 1, 'capnocytophagia': 1, 'histoplasmosi': 1, 'hypoadren': 1, 'crackel': 3, 'hypenatremai': 1, 'hrx': 1, 'placeement': 1, 'nonbloodi': 1, 'hemondynam': 1, 'sweep': 1, 'dil': 2, 'nbnb': 1, 'friction': 2, 'pneumobilia': 3, 'elevart': 1, 'klebsiela': 1, 'tonsilectomi': 1, 'hyporthyroid': 1, 'pasv': 2, 'aduibl': 1, 'privileg': 1, 'heha': 1, 'fondaparinox': 1, 'dcing': 1, 'staphylococci': 2, 'fondaparinoux': 1, 'hypnatremia': 1, 'ariv': 1, 'amakacin': 1, 'amicacin': 1, 'inhaledq': 1, 'icub': 1, 'tobramcyin': 1, 'autodiureisi': 1, 'copnt': 1, 'aci': 2, 'acineterbact': 1, 'levidopa': 1, 'moliz': 1, 'syntrhoid': 1, 'patienttagamet': 1, 'fondoparinaux': 1, 'tagamet': 1, 'discount': 1, 'inal': 1, 'carita': 2, 'acinobact': 1, 'veggi': 1, 'amikasin': 1, 'hypotenst': 1, 'cnst': 1, 'withfev': 1, 'antiparkinsonian': 1, 'ropirnol': 1, 'eblow': 1, 'acteremia': 1, 'gpcocci': 1, 'tracheosotomi': 1, 'tream': 1, 'amikacina': 1, 'micor': 1, 'jllw': 1, 'restaur': 2, 'intermiitt': 1, 'fondapaurinox': 1, 'colstin': 1, 'requip': 1, 'aggess': 1, 'collistin': 1, 'bovona': 1, 'toxicitiy': 1, 'pizzaria': 1, 'artain': 1, 'carbapenem': 4, 'acenitobact': 1, 'sill': 1, 'colisitn': 1, 'baumannii': 1, 'infetcion': 1, 'fondaparenox': 1, 'cimetidin': 1, 'cinemet': 2, 'unforunt': 1, 'wtith': 1, \"plateau'd\": 1, 'perid': 1, 'creatini': 1, 'bovi': 1, 'gegtaion': 1, 'desimpact': 1, 'clacium': 1, 'fonduparinox': 1, 'hopspial': 1, 'psotiv': 1, 'durind': 1, 'vegetataion': 1, 'fondaprinux': 1, 'recycl': 1, 'colestin': 1, 'acinitobact': 1, 'acinetobactor': 1, 'chane': 2, 'hat': 1, 'antiboiod': 1, 'traceostomi': 1, 'nrsa': 1, 'cholestasi': 4, 'rhocnhor': 1, 'fondaparineux': 1, 'ropinirol': 1, 'recult': 1, \"babinksi'\": 1, 'bisocadyl': 1, 'pseudoman': 1, 'hemodynamm': 1, 'stressor': 1, 'mayi': 1, 'owner': 3, 'colisitina': 1, 'heidiaph': 1, 'compliat': 1, 'colisitin': 1, 'wherebi': 2, 'infiltrat': 1, 'effuion': 1, 'panscan': 1, 'nit': 3, 'untll': 1, 'detrusor': 1, 'pvv': 1, 'anasrca': 1, 'fwf': 1, 'fondaparinux': 1, 'carbacephem': 2, 'aoritc': 1, 'tachypnc': 1, 'expansil': 1, 'vast': 1, 'debulk': 1, 'meriplex': 1, 'chrome': 1, 'mutipodu': 1, 'morohin': 1, 'movent': 1, 'atmosair': 1, 'limitng': 1, 'tricompartment': 1, 'salivari': 2, 'fluorodeoxyglucos': 2, 'suvmax': 1, 'esophagotrach': 1, 'ostearthr': 1, 'fistual': 1, 'bronchoesophag': 1, 'glucomet': 2, 'enthesopathi': 1, 'entesophyt': 1, 'fistu': 1, 'emiss': 2, 'pave': 1, 'precent': 1, 'fibros': 2, 'mensenter': 1, 'organz': 1, 'siahd': 1, 'inftrat': 1, 'sedationd': 1, 'faqilur': 1, 'ucr': 1, 'psychic': 1, 'mirror': 1, 'biplanar': 1, 'predat': 1, 'freshli': 1, 'ceil': 1, 'phynelephrin': 1, 'appeal': 2, 'seroqeul': 1, 'darunovir': 1, 'roadblock': 1, 'qweekli': 1, 'tachycrad': 1, 'cumul': 1, 'mess': 1, 'siad': 1, 'dexder': 1, 'pharmacokinet': 1, 'concerntrt': 1, 'sreat': 1, 'mout': 1, 'onboard': 1, 'hypxoem': 1, 'monocytosi': 1, 'pvm': 1, 'sedation^': 1, 'mpore': 1, 'attritub': 1, 'gungal': 1, 'ssdi': 1, 'prepylor': 1, 'incongru': 1, 'solvent': 1, 'diaphgragm': 1, 'wihen': 1, 'anit': 1, 'improvo': 1, 'quetapin': 1, 'remina': 1, 'decruit': 1, 'teenag': 1, 'bicrab': 1, 'respind': 1, 'tmask': 1, 'adedd': 1, 'cortsintropin': 1, 'fastest': 1, 'maxiallari': 1, 'emtricitabin': 1, 'mehtoadon': 1, 'uninterrupt': 2, 'ptbd': 1, 'addednum': 1, 'gurgli': 1, 'blackberri': 2, 'vavlular': 1, 'cultr': 1, 'transaminti': 1, 'malox': 1, 'linsinopril': 1, 'autopeep': 3, 'crae': 1, 'lminim': 1, 'bou': 1, 'wahs': 1, 'pedifeed': 1, 'serquel': 1, 'phenyephrin': 2, 'mpove': 1, 'groggi': 1, 'unaoutput': 1, 'human': 5, 'trednign': 1, 'bolusof': 1, 'thoroughli': 2, 'brinch': 1, 'minib': 3, 'quietiapin': 1, 'quietipin': 1, 'thearapi': 1, 'interdispers': 1, 'clother': 1, 'darunavir': 1, 'restabil': 1, 'surreal': 1, 'xcr': 1, 'cholangiopathi': 1, 'noectopi': 1, 'ethomid': 1, 'hypothesi': 1, 'alphabet': 2, 'revela': 1, 'lipemia': 1, 'qwk': 1, 'choli': 1, 'intertwin': 1, 'spreadsheet': 1, 'kollef': 1, 'ritonivir': 1, 'breakthough': 1, 'throuhg': 1, 'brnch': 1, 'propylen': 1, 'hepatotox': 2, 'truvada': 1, 'snort': 2, 'downmini': 1, 'uosm': 1, 'affer': 2, 'satisfi': 3, 'hm': 1, 'modear': 1, 'reliv': 1, 'duploff': 1, 'bristl': 1, 'fior': 1, 'qualit': 1, 'ballot': 1, 'liais': 1, 'woirsenign': 1, 'pmc': 1, 'tandem': 1, 'mildili': 1, 'miniz': 1, '^^sedat': 1, 'seroqeil': 1, 'orophargyng': 1, 'osmolar': 2, 'prefus': 1, 'crti': 1, 'butopen': 1, 'ucl': 1, 'msm': 1, 'folllw': 2, 'stillrequir': 1, 'imped': 3, 'dysyncroni': 1, 'dv': 1, 'mypathi': 1, 'morp': 1, 'transillumin': 1, 'img': 1, 'tranamin': 1, 'babesia': 1, 'aspergil': 1, 'yesterdav': 1, 'paraly': 1, 'iniit': 1, 'methylprednisilon': 1, 'retd': 1, 'parencyhyma': 1, 'meropenen': 1, 'pneumobooot': 1, 'sap': 1, 'swtich': 2, 'apprecci': 1, 'cessast': 1, 'weaningfrom': 1, 'propogol': 1, 'faiilur': 1, 'nape': 1, 'nonerythemat': 1, 'rohila': 2, 'resight': 1, 'imageri': 1, 'antimicorbi': 1, 'phtsical': 1, 'swich': 2, 'anxiion': 1, 'hepain': 1, 'scitch': 1, 'overf': 1, \"we'll\": 1, 'mulifoc': 1, 'resolved': 1, 'peliv': 1, 'lcsw': 5, 'coxiella': 1, 'epeatedli': 1, 'lcmv': 1, 'stoop': 2, 'crical': 1, 'frighted': 1, 'psychotherapi': 4, 'furrow': 1, 'errythemat': 1, 'rhocncher': 2, 'seratralin': 1, 'brow': 1, 'yawn': 3, 'hsould': 1, 'lnare': 1, 'targetd': 1, 'murumur': 1, 'gulactomannan': 1, 'medazolam': 1, 'orgin': 1, 'hydrocortinson': 1, 'forhead': 1, 'sweeti': 1, 'newspap': 1, 'expi': 1, 'pie': 1, 'shop': 2, 'outweight': 2, 'grandneic': 1, 'kneel': 1, 'tsurg': 2, 'rvat': 1, 'paracardiac': 1, 'osbstruct': 1, 'volvodynia': 1, 'miniamlli': 1, 'tachyarrhythmia': 3, 'ceftiaxon': 2, 'hypomagnesemia': 2, 'saat': 1, 'tessolan': 1, 'contineud': 2, 'anouth': 1, 'infiltrt': 1, 'infliltr': 1, 'plurit': 1, 'pyogen': 1, 'prnumonia': 1, 'infilttr': 1, 'apapc': 1, 'ksim': 1, 'posisbl': 1, 'increasd': 1, 'cjojqjuv^jajh': 1, 'micolozol': 1, 'vn': 1, 'anbpz': 1, 'drt': 1, 'closemod': 1, 'bjbj': 1, 'cjojqj^jaju': 1, 'noteparentid': 1, 'vancomydin': 1, 'o^o^o': 1, 'bakc': 1, 'je': 1, 'ddefault': 1, 'secrtetit': 1, 'nect': 1, 'canin': 1, 'pcompobj': 1, '^m': 1, 'lpd': 1, 'epidosd': 1, 'vvvvv': 1, 'ethmod': 1, 'galactomannin': 1, 'fkda': 1, 'cjojqj^jajc': 1, 'clotrimizol': 1, 'rredden': 1, 'kda': 1, 'vtabl': 1, 'lotrimen': 1, 'jk': 2, 'histor': 1, 'paragraph': 1, 'jf': 1, 'cytomegaloviru': 4, 'printmod': 1, '^jajmhnhu': 1, 'tachypniec': 1, 'premolar': 1, 'cepapim': 1, 'j^': 1, 'vvvv': 1, 'abdb': 1, 'secretit': 1, 'normalcj': 1, 'cjojqj^jajnutren': 1, 'cdefghijklmnopqrstuvwxyz': 1, 'abcdefghijklmnopqr': 1, 'imd': 1, 'totachypnea': 1, 'omkikmkkdgd': 1, 'wfrwcw': 1, 'msworddocword': 1, 'abcdelmop': 1, 'rebronch': 1, 'ajmhsh': 1, 'adipos': 1, 'fmicrosoft': 1, 'fontvi': 1, \"hct'\": 1, 'cd|b': 1, 'abcdefghij': 1, 'pow': 1, 'ijpn': 1, 'subclavain': 1, 'ahsd': 1, 'hajmh': 1, 'kdi': 1, 'auvst': 1, 'kdm': 1, \"'worddocu\": 1, 'xdlt': 1, 'versedt': 1, 'atuhi|': 1, 'tuvwxyz': 1, 'aho': 1, 'hyperlink': 1, 'trpnpu': 1, 'crxbcklrv|': 1, 'modular': 2, 'gqu': 1, 'aui': 1, 'kdc': 1, 'versioneditnotestatustemplateidautologout': 1, 'jkdb': 1, 'diuriesi': 1, 'maxillay': 1, 'tihr': 1, 'djwbkti': 1, 'vasodialtori': 1, 'promethazin': 1, 'vanvo': 2, 'specturm': 1, 'bmv': 1, 'sicker': 1, 'hemoli': 1, 'virul': 1, 'noroviru': 2, 'utox': 2, 'ki': 1, 'dextrocardia': 1, \"kartagener'\": 1, 'kartagen': 1, 'inversu': 1, 'commonli': 2, 'exacerabt': 1, 'levoscoliosi': 1, 'kkaliannan': 1, 'earliest': 2, 'topogram': 1, 'conmsist': 1, 'mdcta': 1, 'lumber': 1, 'posttreat': 1, 'bevacizumab': 1, 'glioblastoma': 1, 'omniflush': 2, 'intraves': 1, 'ventriculostomi': 3, 'bloom': 1, 'bentson': 2, 'suspic': 1, 'arctic': 1, 'gliobastoma': 1, 'pleuritc': 1, 'hemosiderin': 2, 'commissur': 1, 'panlobular': 1, 'uniqu': 1, 'despoit': 1, 'nonehmorrhag': 1, 'biloma': 1, 'periprocedur': 1, 'rani': 1, 'bilari': 1, 'opacu': 1, 'legonella': 1, 'mutter': 1, 'azitho': 1, 'babbl': 1, 'peera': 1, 'cholersterol': 1, 'herril': 1, 'disinhibit': 1, 'outpit': 1, 'fol': 1, 'femalw': 1, 'nonhogdekin': 1, 'varieti': 5, 'civil': 1, 'anzythromycin': 1, 'diverticulsi': 1, 'cna': 1, 'bacturia': 3, 'oclac': 1, 'mucumyst': 1, 'nvalid': 1, 'meralgia': 1, 'guifenasin': 1, 'resort': 1, 'cefedim': 1, 'discontiu': 1, 'nurns': 1, 'skirt': 1, 'exercs': 1, 'reequilibr': 2, 'subsequen': 1, 'transffr': 1, 'guanefisin': 1, 'dysnchron': 1, 'parethetica': 1, 'merlgia': 1, 'bacteriuria': 1, 'exten': 1, 'dysmorph': 1, 'tarc': 1, 'paresthetica': 1, 'boundari': 1, 'ngativ': 1, 'laterdo': 1, 'prodict': 1, 'cogent': 1, 'mislead': 1, 'reset': 1, 'qbedtim': 1, 'beep': 2, 'microscop': 2, 'anteriro': 1, 'urobilin': 1, 'diffenti': 1, 'immed': 1, 'saltin': 1, 'farsai': 1, 'ifp': 1, 'spkem': 1, 'critlcal': 1, 'tussiv': 1, 'ive': 1, 'guafenassin': 1, 'persian': 1, 'bacteriruia': 1, 'parasthetica': 1, 'sputrum': 1, 'afrebil': 1, 'abrat': 1, 'bruic': 1, 'methyl': 2, 'avanc': 1, 'urobiligen': 1, 'concord': 1, 'tli': 1, 'calor': 2, 'barrir': 1, 'meniscectomi': 1, 'ostial': 2, 'rhonor': 1, 'timi': 1, 'rewarm': 1, 'otic': 1, 'ciloxan': 1, 'aysmmetri': 1, 'cholangiocarcinoma': 1, 'dicontinu': 1, 'nother': 1, 'cotnineu': 1, 'metases': 1, 'unlcear': 1, 'appx': 1, 'hypervolum': 1, 'atttemp': 1, 'cmpathi': 1, 'arr': 1, 'pericod': 1, 'supratherapuet': 1, 'euvolum': 1, 'mucuou': 1, 'arthrosclerot': 1, 'pyelo': 2, 'insepar': 1, 'faliur': 1, 'quadrigemin': 1, 'perigest': 1, 'gestat': 1, 'transvagin': 1, 'pregnanc': 2, 'transabdomin': 2, 'rump': 1, 'intrauterin': 1, 'referenc': 1, 'gasteau': 1, 'chromosom': 1, 'delet': 1, 'gastaut': 1, 'sbi': 1, 'subopitm': 1, 'hypopkinesi': 1, 'transposit': 1, 'ffnding': 1, 'anteromedi': 2, 'patientpenicillin': 2, 'magnesia': 5, 'sucat': 1, 'whichi': 1, 'sax': 1, 'plax': 1, 'hollow': 1, 'tempsiv': 1, 'dipo': 1, 'uncoopr': 1, 'inturpetur': 1, 'axe': 2, 'frost': 1, 'henodynam': 1, 'crcl': 1, 'arcu': 1, 'hctof': 1, 'perinueum': 1, 'hypopho': 1, 'hyrdatoinwith': 1, 'senili': 1, 'annunci': 1, 'cefalosporin': 1, 'sensitivti': 1, 'cholinesteras': 1, 'speka': 1, 'sacram': 1, 'hemidi': 1, 'respositon': 1, 'rspons': 1, 'lasxi': 1, 'incessantli': 1, 'contantli': 1, 'unintellig': 3, 'prove': 1, 'infratentori': 1, 'breathhold': 1, 'gun': 1, 'trocar': 1, 'viii': 1, 'onsit': 1, 'isoecho': 1, 'kkaliann': 2, 'pcld': 1, 'bipsi': 1, 'effusdion': 1, 'neprologost': 1, 'autosom': 1, 'pckd': 1, 'currentl': 1, 'overfeed': 3, 'spongett': 2, 'thoracenthesi': 1, 'dupplex': 1, 'wopman': 1, 'ronchii': 1, 'tranplant': 1, 'rescu': 1, 'likelyt': 1, 'duderm': 1, 'malnutritrion': 1, 'vean': 1, 'diuoderm': 1, 'polycyst': 1, 'sifnific': 1, 'cpnsult': 1, 'periop': 3, 'pblm': 1, 'hliv': 1, 'linezold': 1, 'prefilt': 1, 'prieiou': 1, 'prismas': 1, 'chevron': 1, 'ligthli': 1, 'immens': 1, 'mitodrin': 1, 'mero': 1, 'postfilt': 1, 'coapt': 1, 'possil': 1, 'uncement': 1, 'pacement': 1, 'undisplac': 1, 'teamunabel': 1, 'sectionsclip': 1, 'ingrow': 1, 'venopunctur': 2, 'vei': 1, 'demat': 1, 'resusci': 1, 'withb': 1, 'perplex': 2, 'astound': 1, 'hemodynaimc': 1, 'frequenti': 1, 'calcifion': 1, 'menigit': 1, 'diluat': 1, 'cephalomalacia': 1, 'cefeim': 1, 'nucchal': 1, 'enucl': 1, 'checkstool': 1, 'explana': 1, 'meningit': 2, 'hyperlycemia': 1, 'similiar': 1, 'toxicolog': 3, 'huumalong': 1, 'frap': 1, 'uptrend': 1, 'starvat': 2, 'methylnaltraxon': 1, 'innappri': 1, 'ouch': 1, 'valproat': 1, 'wakekup': 1, 'manaul': 1, 'dulcolox': 1, 'appeard': 1, 'triglyericd': 1, 'topimax': 1, 'myxedema': 1, \"'re\": 1, 'alththough': 1, 'ketosi': 1, 'sprinkl': 1, 'underfe': 2, 'svce': 2, 'sugeri': 2, 'notabley': 1, 'respiratoy': 2, 'topiram': 2, 'seqeunc': 1, 'uation': 1, 'hypopotassemia': 1, 'blueberri': 1, 'provigil': 1, 'nonspec': 1, 'provgigil': 1, 'biweekli': 1, 'crap': 1, 'topamax': 2, 'minimz': 1, 'confound': 1, 'lasixc': 1, 'ocnsid': 1, 'addiiton': 1, 'subcrit': 1, 'partway': 1, 'cardioembol': 1, 'equilib': 1, 'chlorosept': 1, 'dilitiazem': 1, 'enterocol': 1, 'ato': 1, 'cghc': 1, 'critial': 1, 'requilibri': 1, 'caregroup': 1, 'dissimilar': 1, 'indistinguish': 1, 'dysambul': 1, 'hemorrhoidectomi': 1, 'hsl': 1, 'dietitian': 1, 'checkbook': 1, 'urologist': 1, 'corazepan': 1, 'casemgmt': 1, 'errand': 1, 'multivit': 2, 'papul': 2, 'sidenafil': 1, 'psychologist': 1, 'irrtiat': 1, 'peribroncholar': 1, 'ventilatit': 1, 'pnm': 1, 'psychopharm': 1, 'tedium': 1, 'geodon': 1, 'thoracensi': 1, 'tirtrat': 1, 'entrap': 1, 'murki': 1, 'comfotali': 1, 'mysteri': 1, 'dor': 1, 'lasdyt': 1, 'colas': 1, 'snu': 1, 'feedng': 1, 'manometri': 1, 'mwedic': 1, 'precautionari': 1, 'stoic': 1, 'plseval': 1, 'ecanazol': 1, 'prosac': 1, 'cutaen': 1, 'incorrectli': 1, 'nutropho': 1, 'rrin': 1, 'haemophilu': 1, 'editor': 1, 'pessi': 1, 'jungian': 1, 'evaluatw': 1, 'reigimen': 1, 'intiub': 1, 'mgbld': 1, 'ethmoidali': 1, 'psychotherapist': 1, 'calmin': 1, 'slidenafil': 1, 'thoracentes': 1, 'mull': 1, 'ubw': 2, 'sprint': 2, 'radiol': 1, 'perrir': 1, 'eater': 1, 'albican': 2, 'defalt': 1, 'reexamin': 2, 'xfuse': 1, 'fovea': 1, 'cholecystisit': 1, 'peribronchovasc': 1, 'dexm': 1, 'rind': 1, 'vasodialtor': 1, 'anxiolysi': 1, 'sliglhtli': 1, 'tchypnic': 1, 'fbmp': 1, 'previs': 2, 'pip^^': 1, 'unbleach': 1, 'impir': 1, 'vom': 1, 'peco': 1, 'barorauma': 1, 'psychopharmocolog': 1, 'abraid': 1, 'throracentesi': 1, 'electrolyet': 1, 'trazadonea': 1, 'lenezolid': 1, 'analyst': 1, 'ritilan': 1, 'triamcinolin': 1, 'vibrat': 2, 'freelanc': 1, 'enterococci': 1, 'hypoallergen': 1, 'interspers': 2, 'tachyp': 1, 'brielli': 1, \"cib'\": 1, 'cacecth': 1, 'propolol': 1, 'milkshak': 2, 'randitin': 1, 'drrock': 1, 'txt': 1, 'blucan': 1, 'eosinophillia': 1, 'treatabl': 2, 'fuel': 1, 'aurv': 1, 'thoracantesi': 1, 'labtap': 1, 'hint': 1, 'iloson': 1, 'saquinavir': 1, 'remedi': 1, 'koh': 1, 'afp': 1, 'achieiv': 1, 'intercos': 1, 'venit': 1, 'amountsof': 1, 'uvolemia': 1, 'estol': 1, 'alf': 2, 'amyotroph': 1, 'devlop': 1, 'cenral': 1, 'repositin': 1, 'cephlic': 1, 'myelolysi': 1, 'indescret': 1, 'epic': 1, 'presurg': 1, 'dexter': 2, 'arom': 1, 'rafib': 1, '^cre': 1, 'pulmoray': 1, 'diert': 1, 'orthonpea': 1, 'ilu': 1, 'tympanit': 1, 'task': 2, 'kefzol': 1, 'bradykinesia': 1, 'upc': 2, 'inquiz': 1, 'adeuat': 1, 'girth': 1, 'createn': 1, 'dulcoloax': 1, 'ecasa': 1, 'attn': 1, 'mue': 2, 'plf': 1, 'mmg': 1, 'closureat': 1, 'lsca': 1, 'milranon': 1, 'mindo': 1, 'cpbt': 1, 'xct': 1, 'polyval': 2, 'tumb': 1, 'mepalex': 1, 'lasixd': 1, 'aryepiglott': 1, 'hctat': 1, 'repositionpt': 1, 'chlorthalidon': 1, 'qafternoon': 1, 'ntx': 2, 'beselin': 1, 'autodiurs': 1, 'unclean': 1, 'tamilfu': 1, 'fai': 1, 'turbin': 1, 'klonipen': 1, 'collis': 2, 'turnaround': 1, 'xpeep': 1, 'notablw': 1, 'porpofol': 1, 'citrobactor': 1, 'hytpertens': 1, 'rept': 1, 'gentamyin': 1, 'andxiou': 1, 'cae': 1, 'reitub': 1, 'loer': 1, 'discontd': 1, 'packyear': 1, 'imroov': 1, 'symptathet': 1, 'proprol': 1, 'addntl': 1, 'prevsiou': 1, 'flouroquinolon': 1, 'bur': 1, 'iam': 1, 'parplegia': 1, 'binocular': 1, 'ketalac': 1, 'angiti': 1, 'understan': 1, 'coac': 1, 'alkalod': 1, 'oxybutnin': 1, 'compliact': 1, 'inexsuffal': 1, 'oxycoceon': 1, 'fluroquinolon': 2, 'solument': 1, 'insufl': 1, 'senit': 1, 'arthir': 1, 'wetter': 1, 'presidex': 1, 'agenda': 1, 'velopharyng': 1, 'tittrat': 1, 'basesabg': 1, 'levph': 1, 'akskasj': 1, 'deinf': 1, 'citrobact': 1, 'floppi': 1, 'sevret': 1, 'placemen': 1, 'chlorthiadon': 1, 'arytenoid': 1, 'explant': 1, 'nephtotoxin': 1, 'uco': 1, 'systemat': 1, 'augementin': 1, 'schd': 2, 'unreport': 1, 'reistant': 1, 'freundii': 1, 'chlortahlidon': 1, 'minimla': 1, 'wmay': 1, 'masspro': 1, 'preferr': 1, 'unobstruct': 1, 'delat': 1, 'relart': 1, 'suctionnig': 1, 'tympanet': 2, 'hyrdalazin': 1, 'llleffus': 1, 'hyperfus': 1, 'systolicali': 1, 'seoncdray': 1, 'nafficillin': 1, 'soputum': 1, 'viusliz': 1, 'vasculopath': 1, 'appeasr': 1, 'cmmaureen': 1, 'hower': 1, 'mgsulf': 1, 'intrvascular': 1, 'trolyt': 1, 'semiloos': 1, 'aesthesia': 1, 'respira': 1, 'specific': 1, 'pede': 1, 'unalb': 1, 'eucarin': 1, 'aroud': 1, 'overdistent': 1, 'cefipm': 1, 'infutur': 1, 'albuminemia': 1, 'moniotir': 1, 'hemid': 1, 'upop': 1, 'contribnut': 1, 'conscent': 1, 'descquamatin': 1, 'mnot': 1, 'sto': 1, 'conditon': 1, 'gmca': 1, 'eysterday': 1, 'shoift': 1, 'eucerin': 1, 'consisten': 1, 'rete': 1, 'contt': 1, 'misconcept': 1, 'probiot': 1, 'tansient': 1, 'accetp': 1, 'conern': 1, 'trunkal': 1, 'sett': 2, 'monitoir': 1, 'ertyhemat': 1, 'exfoli': 1, 'fenatnyl': 1, 'uncompromis': 1, 'msn': 1, 'lactobacillu': 3, 'yedterday': 1, 'vential': 1, 'tors': 1, 'gmmg': 1, 'howevr': 1, 'elec': 1, 'ocmv': 1, 'spontanes': 1, 'hydrocerin': 1, 'monitir': 1, 'derma': 1, 'vanomycin': 1, 'dsay': 1, 'propriat': 1, 'lifelong': 1, 'sherriff': 1, 'malig': 2, 'cacet': 1, 'mirtazepin': 2, 'serotyp': 2, 'sufflat': 1, 'bromchial': 1, 'colc': 1, 'fluricason': 1, 'npleas': 1, 'wheze': 1, 'amand': 1, 'gstain': 1, 'methypr': 1, 'grnd': 1, 'idid': 1, 'plau': 1, 'movementx': 1, 'interdigit': 2, 'enzymat': 1, 'zosym': 1, 'midazalam': 1, 'commensur': 2, 'apprear': 1, 'toasess': 1, 'methpr': 1, 'kernel': 3, 'eft': 1, \"ble'\": 2, 'largevolum': 1, 'exotropia': 1, 'multivitiamin': 1, 'broncu': 1, 'immuno': 1, 'globulin': 1, 'abluterol': 1, 'trigemineni': 1, 'anitcoag': 1, 'bandermia': 1, 'bias': 1, 'responsiv': 1, 'allyvn': 1, 'flexocel': 1, 'multifactoir': 1, 'protacol': 1, 'meropenom': 1, 'gravitiy': 1, 'envioron': 1, 'dermatom': 1, 'omin': 1, 'nonprogress': 2, 'math': 1, 'recoment': 1, 'hemodiaylsi': 1, 'decubi': 2, 'contramin': 1, 'amikican': 1, 'shear': 1, 'malt': 1, 'obliteraion': 1, 'satellit': 2, 'persuad': 1, 'lympoma': 1, 'revsion': 1, 'sash': 1, 'slack': 1, 'cytogenet': 1, 'clote': 1, 'hypotn': 2, 'paradoxu': 2, 'renali': 1, 'lymphoid': 1, 'palpitaiton': 1, 'anioplasti': 1, 'tapin': 1, 'pleurex': 2, 'vastcular': 1, 'reprogram': 1, 'ddi': 1, 'fxnal': 1, 'terrifi': 1, 'parodoxu': 1, 'wakler': 1, 'additioanlli': 1, 'hypercalcem': 1, 'lymphoplasmoct': 1, 'dbcd': 1, 'etio': 2, 'hemiparet': 1, 'rhoncouru': 1, 'anticoaul': 1, 'levsin': 1, 'incras': 1, 'jplacement': 1, 'murphi': 1, 'amn': 1, 'hemangiomata': 1, 'acetaminoph': 1, 'mantain': 2, 'cyclobenzaprin': 1, 'doxylam': 1, 'flexeril': 1, 'signfiic': 1, 'pneuonia': 1, 'gk': 1, 'refin': 3, 'pgr': 1, 'brachicephal': 1, 'bochdalek': 1, 'pulsat': 1, 'dispers': 1, 'pineal': 2, 'farenheit': 1, 'mute': 1, 'neisseiria': 1, 'normalwithout': 1, 'phenobard': 1, 'reactant': 2, 'contimin': 1, 'poba': 1, 'ooob': 1, 'accru': 1, 'palvix': 1, 'fould': 1, 'hindi': 1, 'pgtube': 1, 'usa': 2, \"dep't\": 1, 'icc': 1, 'babinski': 1, 'hepatotoxi': 1, 'compos': 1, 'neisseria': 1, 'reimburs': 1, 'player': 1, 'cmpi': 1, 'consul': 2, 'dialect': 1, 'sectrion': 1, 'meningid': 1, 'ppeg': 1, 'meningitidi': 1, 'cite': 1, 'stiffman': 1, 'anaphi': 1, 'hpyotens': 1, 'musckl': 1, 'prx': 1, 'somnel': 1, 'instabilti': 1, 'dizepam': 1, 'hemopysi': 1, 'buproprion': 1, 'african': 1, 'tussilon': 1, 'tablespoon': 2, 'hempotysi': 1, 'pnemothorax': 1, 'concuss': 1, 'intraparenchyma': 1, 'magarw': 2, 'chadashvili': 1, 'preview': 1, 'txcf': 1, 'hemopneumatocyst': 1, \"it'\": 1, 'shorntess': 1, 'peripartum': 1, 'concomitantli': 1, 'fnh': 2, 'lumpect': 1, 'falcin': 1, 'subfalcin': 1, 'szm': 1, 'rmca': 1, 'ischium': 1, 'appearsto': 1, 'lymphomat': 1, 'trabecular': 1, 'preoccupi': 1, 'dminant': 1, 'masslik': 1, 'persistec': 1, 'clavic': 1, 'taccypn': 2, 'ablil': 1, 'majorli': 1, 'nutritin': 1, 'triat': 1, 'hac': 1, 'normotensv': 1, 'lacross': 1, 'aformet': 1, 'simethacon': 1, 'celsiu': 1, 'miscommun': 1, 'dorm': 1, 'fuconazol': 1, 'exbuat': 1, 'shiift': 1, 'periumbil': 2, 'fulconazol': 1, 'lpicc': 1, 'attebnd': 1, 'familu': 1, 'zyprex': 1, 'bronchosocpi': 1, 'adjit': 1, 'ceftra': 1, 'aiway': 1, 'yogart': 1, 'includec': 1, 'miconzol': 1, 'periextub': 1, 'obta': 1, 'cot': 1, 'quikli': 1, 'cextriaxon': 1, 'backgroun': 1, 'malai': 1, 'maineten': 1, 'dyspnia': 1, 'navalbin': 1, 'immunochromogen': 1, 'nopain': 1, 'patientlipitor': 1, 'pyuria': 3, 'bipass': 1, 'hgba': 2, 'woren': 1, 'blend': 1, 'transcrib': 1, 'perifoc': 1, 'rjab': 2, 'miralex': 1, 'pnuemon': 1, 'miarlex': 1, 'incur': 1, 'tonsillectomi': 1, 'suv': 2, 'etoposid': 1, 'voluem': 1, 'heparinoid': 1, 'excert': 1, 'ataxia': 2, 'hfm': 1, 'broaod': 1, 'calenadar': 1, 'anesthia': 1, 'ventliat': 1, 'hopitilaz': 1, 'gound': 1, 'diffiulti': 1, 'explicitli': 2, 'comensur': 1, 'lethal': 1, 'gingiv': 1, 'philosophi': 1, 'mel': 1, 'rchf': 1, 'losmap': 1, 'withtout': 1, 'starl': 1, 'sympathi': 1, 'situationclip': 1, 'presacr': 1, 'intestiti': 1, 'ostia': 1, 'pnaeumomia': 1, 'tolterodin': 1, 'ctc': 1, 'intracerebellar': 1, 'optison': 3, 'periampullari': 1, 'proximmali': 1, 'oncern': 1, 'omezprazol': 1, 'setti': 1, 'pse': 1, 'nere': 1, 'downhil': 1, 'lethari': 1, 'udomona': 1, 'isoton': 1, 'asso': 1, 'earlyy': 1, 'delierum': 1, 'amputaton': 1, 'rag': 1, 'inpneumonia': 1, 'misestim': 1, \"alzheimer'\": 1, 'carvidolol': 1, 'seropquel': 1, 'nausa': 1, 'grapefruit': 1, 'mrcp': 2, 'asm': 1, 'proteinac': 2, 'repositioningof': 1, 'pretracha': 1, 'craniocerv': 1, 'scleroderma': 2, 'brodoefel': 1, 'iac': 1, 'pharaynx': 1, 'resolu': 1, 'deveat': 1, 'recol': 1, 'fascial': 1, 'drainaig': 1, 'pulmona': 1, 'rkcb': 2, 'mtt': 1, 'ctp': 1, 'precentr': 1, 'defeat': 1, 'gratitud': 1, 'highlight': 1, 'diconstinu': 1, 'aftet': 2, 'discouragr': 1, 'unhappi': 1, 'supratheraopeut': 1, 'subglot': 1, 'consenu': 1, 'olgivi': 1, 'aphagia': 1, 'isosourc': 2, 'acknowledeg': 1, 'acidem': 1, 'drag': 1, 'olgilvi': 1, 'mbi': 1, 'mirabili': 1, 'ronchouru': 1, 'renarrow': 1, 'worsesn': 1, 'outreach': 1, 'pneumotosi': 1, 'combat': 1, 'meplex': 1, 'cefe': 1, 'aminsom': 1, 'ramitidin': 1, 'precut': 1, 'oseltamivr': 1, 'opaticit': 1, 'itraconazol': 1, 'hisoto': 1, 'pericari': 1, 'keayxal': 1, 'unspeci': 1, 'leukocyto': 1, 'pleae': 1, 'tunel': 1, 'electromyographi': 1, 'signiticantli': 1, 'swine': 1, 'treshold': 1, 'athough': 1, 'resolev': 1, 'cvhh': 1, 'straigh': 1, 'voicemail': 1, 'aluminum': 1, 'dermatotomi': 1, 'sural': 1, 'tobro': 1, 'hypnot': 1, 'hyperphophatemia': 1, 'lidocaint': 1, 'wjll': 1, 'cxx': 1, 'inaud': 1, 'gauic': 1, 'ccv': 1, 'andmoist': 1, 'olu': 1, 'mgd': 1, 'rhab': 1, 'sensitivitei': 1, 'gerontolog': 2, 'tachypnoea': 1, 'aspirgillu': 1, 'hydrox': 1, 'lund': 1, 'maxillori': 1, 'guaifenisen': 1, 'transist': 1, 'canc': 1, 'cerruloplasmin': 1, 'influenz': 2, 'incom': 1, 'aloud': 1, 'lansoprosol': 1, 'prussur': 1, 'apn': 1, 'oscil': 1, 'bradycardi': 1, 'doff': 1, 'muffl': 1, '^sedat': 1, 'intermediari': 1, 'cholecystisi': 1, 'panlobar': 1, 'patientzosyn': 1, 'insilun': 1, 'benterobact': 1, 'speicat': 1, 'cavaatri': 1, 'tosay': 1, 'abbx': 1, 'lansprazol': 1, 'difficl': 1, 'consold': 1, 'encouragec': 1, 'procedurel': 1, 'circardian': 1, 'cholecyts': 1, 'phelobotomi': 1, 'hypoterm': 1, 'advanbc': 1, 'cammnd': 1, 'aluminium': 1, 'lidaocain': 1, 'rneal': 1, \"le'\": 1, 'commnd': 1, 'denerv': 1, 'dff': 1, 'fespiratori': 1, 'elat': 1, 'sevalem': 1, 'afl': 1, 'buckl': 2, 'trachestomi': 1, 'mold': 2, 'maibor': 1, 'tnd': 1, 'dexreas': 1, 'lovul': 1, 'consolidationi': 1, 'preval': 1, 'steepli': 1, 'zygoma': 1, 'monasteri': 1, 'disshelvel': 1, 'wooden': 1, 'bibsilar': 1, 'billroth': 1, 'undistend': 1, 'goo': 1, 'pelvicalic': 1, 'antrectomi': 1, 'contingu': 1, 'fisula': 1, 'vagotomi': 1, 'psbo': 1, 'upstream': 1, 'colorect': 1, 'oversewn': 1, 'dieat': 1, 'macrobid': 1, 'meniscu': 1, 'emypema': 1, 'prostatomegali': 1, 'gastroenterostomi': 1, 'ano': 2, 'uncin': 1, 'oment': 1, 'epiphren': 1, 'subconjuctiv': 1, 'queen': 1, 'quenn': 1, 'zaroxylin': 1, 'xanthalesma': 2, 'awka': 1, 'withot': 1, 'actinomyc': 1, 'pneumectomi': 1, 'angigoraphi': 1, 'agr': 1, 'ttherapi': 1, 'ascul': 1, 'rxt': 1, 'queani': 1, 'monophon': 2, 'sessioin': 1, 'percentag': 1, 'commmun': 1, 'rhilar': 1, 'nay': 1, 'testicular': 2, 'nsmall': 1, 'datasheet': 1, 'rast': 1, 'musculoskel': 1, 'consultatoin': 1, 'actinomycosi': 1, 'cin': 1, 'bacillu': 2, 'abiopsi': 1, 'atorva': 1, 'hypofunct': 1, 'nscl': 1, 'grumpi': 1, 'porb': 1, 'pronosi': 1, 'extubalt': 1, 'wsasstent': 1, 'pallit': 1, 'rteam': 1, 'medisastinoscopi': 1, 'coronori': 1, 'queeni': 1, 'examinedv': 1, 'celtic': 1, 'ccontinu': 1, 'sysolt': 1, 'wenchbach': 1, 'subconjunctiv': 1, 'pneumoectomi': 1, 'undecid': 1, 'nicknam': 1, 'rsi': 1, 'neosinephrin': 1, 'metolamin': 1, 'monitror': 1, 'dependen': 1, 'ccfree': 1, 'mediastinoscopi': 2, 'necessri': 1, 'ransfer': 1, 'lmca': 1, 'invovl': 2, 'iniat': 1, 'beceaus': 1, 'drinkl': 1, 'rvedp': 1, 'paraceliac': 1, 'scopolimin': 1, 'gvh': 1, 'insufficieni': 1, 'metolazin': 1, 'microadenoma': 1, 'iimpress': 1, 'singific': 1, 'paciti': 1, 'supplment': 2, 'llnp': 1, 'hypotenisv': 1, 'adentul': 1, 'tatient': 1, 'bhc': 1, 'pathophysiolog': 2, 'absens': 1, 'leukem': 1, 'galleria': 1, 'medco': 1, 'ppo': 1, 'tenabl': 1, 'neutrpeni': 1, 'dinitrit': 1, 'feder': 1, 'nasophargyng': 1, 'interlaminar': 1, 'biphenotyp': 1, 'indewpend': 1, 'poorer': 1, 'accredo': 1, 'bcb': 1, 'caphosol': 1, 'patho': 1, 'retail': 2, 'reinfors': 1, 'isodil': 1, 'fequenc': 1, 'gerim': 1, 'hazzard': 1, 'deficet': 1, 'demonstrat': 1, 'discsuss': 1, 'cepifim': 1, 'echhymosi': 1, 'vot': 1, 'capg': 1, 'grandduaght': 1, 'mrsg': 1, 'monintor': 1, 'eicu': 1, 'cefpodox': 1, 'haldolo': 1, 'failurepleas': 1, 'nosocmi': 1, 'craniocaud': 2, 'countershock': 1, 'nutrtit': 1, 'hypercoagu': 1, 'amlopidin': 2, 'asian': 1, 'inihibit': 1, 'tavchypnea': 1, 'srcotal': 1, 'fucntion': 1, 'ronchu': 1, 'daqi': 1, 'keen': 1, 'vasalin': 1, 'swap': 1, 'deseryl': 1, 'oncot': 1, 'lgi': 1, 'scren': 1, 'hael': 1, 'adventit': 1, 'producint': 1, 'hypernateremia': 1, 'fentayl': 1, 'vitk': 1, 'marriag': 1, 'ctm': 2, 'antigoagul': 1, 'migran': 1, 'nonblanch': 1, 'dipyridimol': 1, 'antiphospholid': 1, 'follicul': 1, 'lgib': 1, 'chlrohexidin': 1, 'trendalapril': 1, 'roover': 1, 'dipyrimadol': 1, 'coolig': 1, 'bibpap': 1, 'trando': 1, 'nembut': 1, 'carbamazapin': 1, 'rrrr': 1, 'nned': 1, 'clutter': 1, 'menisc': 1, 'redman': 1, 'rexray': 1, 'atx': 1, 'evalyu': 1, 'piic': 1, 'addiion': 1, 'intabut': 1, 'neuroectoderm': 1, 'pnet': 1, 'parietooccipit': 1, 'trachael': 1, 'racim': 1, 'audbil': 1, 'tnding': 1, 'neeb': 1, 'foolowup': 1, 'multisept': 1, 'underdistent': 1, 'nonemerg': 1, 'ureterocel': 1, 'circumfirenti': 1, 'scallop': 1, 'worseniong': 1, 'risperdon': 1, 'bronchioalveolar': 2, 'neuropsych': 1, 'resperidon': 1, 'benztropin': 1, 'rhnochor': 1, 'phareng': 1, 'mediasin': 1, 'diffuss': 1, 'hypovelem': 1, 'maintianedencourag': 1, 'weigt': 1, 'soulmedrol': 1, 'orer': 1, 'tachypnaec': 1, 'intuib': 1, 'lunesta': 1, 'deyhdrat': 1, 'azithromcin': 1, 'periprosthet': 1, 'superolater': 1, 'dypena': 1, 'macronodular': 1, 'porto': 1, 'artial': 1, 'atret': 1, 'periappendic': 1, 'mammari': 1, 'immunocpmpromis': 1, 'dydrat': 1, 'leukesteras': 1, 'anerusym': 1, 'pannel': 1, 'spasma': 1, 'lugn': 1, 'edmea': 1, 'discetomi': 1, 'methocarbamol': 1, 'ceasarin': 1, 'pneoumonia': 1, 'dominantli': 1, 'hasa': 1, 'liquefi': 1, 'mxak': 1, 'echinococc': 1, 'ketonazol': 1, 'parot': 2, 'assumo': 1, 'maggot': 1, 'nigrican': 1, 'periscrot': 1, 'cashier': 2, 'witdraw': 1, 'incipi': 1, 'recipt': 2, 'acanthosi': 1, 'alchohol': 1, 'anticardiolipin': 1, 'ptpexp': 1, 'apl': 1, 'rvot': 1, 'iivi': 1, 'stiumul': 1, 'tetrolog': 1, 'collectioin': 1, 'intracarda': 1, 'tetralog': 1, 'consilid': 1, 'dorsiflex': 1, 'lej': 1, 'diomox': 1, 'fallot': 1, 'tpp': 1, 'spontatn': 1, 'ateletasi': 1, 'swaloow': 1, 'microsheath': 1, 'afebrilex': 1, 'ertapenem': 2, 'gicven': 1, 'chearlead': 1, 'ranch': 1, 'nauseu': 1, 'sell': 1, 'factt': 1, 'crisper': 1, 'anxierti': 1, 'wqean': 1, 'epididymi': 1, 'fournier': 1, 'gangeren': 1, 'ventricukar': 1, 'cfa': 2, 'monophas': 1, 'hydrocel': 1, 'testi': 1, \"fournier'\": 1, 'gliosi': 1, 'pleasnatli': 1, 'barrocat': 1, 'shotti': 1, 'absecess': 1, 'fronm': 1, 'fuzzi': 1, 'osteosrthr': 1, 'velcro': 1, 'neckles': 1, 'admssion': 1, 'rosari': 2, 'zoraxolyn': 1, 'beed': 1, 'pendent': 1, 'suspicisi': 1, 'terrigori': 1, 'hyperesthesia': 1, 'mph': 1, 'hospitalist': 1, 'anterolatrer': 1, 'claritin': 1, 'vancomyin': 1, 'lhr': 1, 'nexium': 1, 'gulp': 1, 'perserv': 1, 'script': 1, 'bilirubinemia': 1, 'lingua': 1, 'valvulopathi': 1, 'nonpurul': 1, 'respiraotyr': 1, 'encelopathi': 1, 'lyric': 1, 'nasaltrach': 1, 'ethylsuccin': 1, 'macrodantin': 1, 'sebhorr': 1, 'seborrh': 1, 'narcosi': 1, 'mistook': 1, 'acetozolamid': 1, 'lim': 2, 'aifb': 1, 'hel': 1, 'aifib': 1, 'vaginoplasti': 1, 'andhousestaff': 1, 'palliatv': 1, 'aldosteron': 1, 'ptand': 1, 'leukemi': 1, 'renin': 1, 'pericaridi': 1, 'risedron': 1, 'tohomethat': 1, 'actonel': 2, 'paracardiaocentesi': 1, 'pseudohyperkalemia': 1, 'unamen': 1, 'confirmatori': 1, 'recordsibandron': 1, 'hemorrhioid': 1, 'ifptmakesit': 1, 'simpathet': 1, 'identili': 1, 'tinnitu': 1, 'miscovascular': 1, 'nonenlarg': 1, 'dyssynchroni': 1, 'overshadow': 1, 'ascult': 1, 'emigr': 1, 'lfurosemid': 1, 'coin': 1, 'multiinfact': 1, 'gerentolog': 1, 'neuropsychiatr': 1, 'escherichia': 1, 'balit': 1, 'unfinish': 1, 'economist': 1, 'republ': 1, 'youth': 1, 'wwii': 1, 'mandabl': 1, 'german': 1, 'lacuna': 1, 'aor': 1, 'traceabl': 1, 'histolog': 1, 'ttransit': 1, 'transbronch': 1, 'retak': 1, 'ppiv': 1, 'madiastinl': 1, 'silica': 1, 'capitol': 1, 'rtigid': 1, 'transbronchi': 1, 'fromprevi': 1, 'odonyphagia': 1, 'ebu': 1, 'incldu': 1, 'epicent': 1, 'reread': 1, 'dexemedetomidin': 1, 'fft': 1, 'azirthomycin': 1, 'mupirocin': 1, 'percipat': 1, 'mam': 1, 'carbamazepin': 1, 'diganosedmr': 1, 'quadriparesi': 1, 'auop': 2, 'nuchal': 1, 'petit': 1, 'craclk': 1, 'historyof': 1, 'increasedto': 1, 'irregluari': 1, 'liquidsand': 1, 'significnat': 1, 'pneumovaccin': 1, 'contol': 1, 'initr': 1, 'previosli': 1, 'shor': 1, 'hemplegia': 1, 'depressoin': 1, 'underfeed': 1, 'dietet': 1, 'venlafaxin': 2, 'trasud': 1, 'periord': 1, 'semc': 1, 'inconsistn': 1, \"crohn'\": 1, 'resusc': 1, 'phenothiazin': 1, 'atorv': 1, 'hunch': 1, 'sqcca': 1, 'casemanag': 1, 'larnyng': 1, 'thinf': 1, 'sqqca': 1, 'radat': 1, 'helmet': 1, 'urinanalysi': 1, \"bp'\": 1, 'jointli': 1, 'emal': 1, 'synergist': 1, 'zyphoid': 1, 'worriesom': 1, 'pretest': 1, 'wetread': 1, 'ganapentin': 1, 'latanoprost': 2, 'juxta': 1, 'acromimum': 1, 'tac': 1, 'pancolon': 1, 'dyspena': 1, 'hydroureteronephrosi': 1, 'eassess': 1, 'ahaustr': 1, 'hypoenhanc': 1, 'hepatosteatosi': 1, 'tachacardia': 1, 'adomin': 1, 'reinstat': 1, 'satbl': 1, 'collasp': 1, 'tracheobronchomalacea': 1, 'procrit': 1, 'parainfluenz': 1, 'aspart': 1, 'spalid': 1, 'resterd': 1, 'toungu': 1, 'sitagliptin': 1, 'ly': 1, 'maiinstem': 1, 'coal': 1, 'otherday': 1, 'ofoadm': 1, 'dash': 1, 'mine': 1, 'silicon': 1, 'compartment': 1, 'kavitha': 1, 'paramethadion': 1, 'phenacemid': 1, 'triger': 1, 'llb': 1, 'mysolin': 1, 'potient': 1, 'antiocoagul': 1, 'barbitur': 1, 'xanthoma': 2, 'hydantoin': 1, 'trimethadion': 1, 'outright': 1, 'procliv': 1, 'urimet': 1, 'receivedo': 1, 'pericyst': 1, 'exerc': 1, 'follwup': 1, 'tropn': 1, 'clnical': 1, 'osit': 1, 'iliav': 1, 'superirli': 1, 'cystoscop': 1, 'asbcess': 1, 'subcultur': 1, 'omprov': 1, 'enteroccocu': 1, 'dillit': 1, 'fusiform': 2, 'ariway': 1, 'reinfarct': 1, 'cellut': 1, \"rec'd\": 1, 'estrogen': 1, 'hyptertens': 1, 'oxcodon': 1, 'conjug': 1, 'gapapentin': 1, 'klmn': 1, 'thett': 1, 'datng': 1, 'apspir': 1, 'abrubtli': 1, 'lafb': 1, 'cauter': 1, 'dieulafoy': 1, 'dipyridamol': 2, 'incostistantli': 1, 'arrea': 1, 'envolv': 1, 'tetrofosmin': 1, 'tasp': 1, 'flavum': 1, 'ligamentum': 1, 'takutsubo': 1, \"hodgkin'\": 1, 'analogu': 1, 'edisyl': 1, 'poto': 1, 'thrombyocytopenia': 1, 'hemodyam': 1, 'quantif': 1, 'hashimoto': 1, 'wrosen': 1, 'autosct': 1, 'rsvg': 1, 'mantl': 1, 'hayfev': 1, 'anthracot': 1, 'dalman': 1, 'omc': 1, 'inspiss': 1, 'flurazepam': 1, 'thug': 1, 'unrecogn': 2, 'supradiaphragmat': 1, 'orthastat': 1, 'sctp': 1, 'dvtt': 1, 'steep': 1, 'sihgnific': 1, 'pautosct': 1, 'etest': 1, 'intuab': 2, 'enterobacteriacea': 1, 'throthi': 1, 'tigecyclin': 2, 'sti': 1, 'cvd': 1, 'carbapenas': 1, 'insular': 1, 'carbapenemas': 1, 'streptococci': 1, 'lobotomi': 1, 'staphylococcu': 1, 'rtight': 1, \"cva'\": 1, 'kleibsella': 2, 'choana': 1, 'subaort': 1, 'suggetsin': 1, 'thoracoplasi': 1, 'ossicl': 1, 'inferoposterolater': 1, 'cloget': 1, 'aspergilloma': 1, 'tmpsmx': 1, 'chronicallyt': 1, 'annn': 1, 'acom': 1, 'recspleas': 1, 'hemodyamn': 1, 'stenothrophomona': 1, 'stenotrophomona': 1, 'linguist': 1, 'nitrogen': 1, 'mde': 1, 'blame': 1, 'tatoo': 1, 'paracenthesi': 1, 'mitochondri': 1, 'lopinavir': 1, 'anascarca': 1, 'bic': 1, 'carnitin': 1, 'sodabicarb': 1, 'drowsey': 1, 'knw': 1, 'cytospin': 1, 'ctapb': 1, 'metaboli': 1, 'nevirapin': 1, 'thjicken': 1, 'tuirn': 1, 'intraadomin': 1, 'asciet': 1, 'boewl': 1, 'parascentesi': 1, 'kkxa': 1, 'conduc': 1, 'acetylcystien': 1, 'intrafissur': 1, 'ocp': 1, 'noteworthi': 2, 'thymu': 1, 'cozar': 1, 'antocoagul': 1, 'cantanes': 1, 'sclear': 1, 'hypocontractil': 1, 'retenion': 1, 'cichect': 1, 'dextromethorphan': 2, 'dayquil': 1, 'hbr': 1, 'meropenenm': 1, 'sfyb': 1, 'exeryt': 1, 'recombin': 1, 'roe': 1, 'sunu': 1, 'cheng': 1, 'petrolatum': 1, 'contribtori': 1, 'whim': 1, 'underpneumat': 1, 'exculud': 1, 'currenli': 1, 'patl': 1, 'shft': 1, 'toot': 1, 'pbt': 1, 'lene': 1, 'surroundiong': 1, 'counmadin': 1, 'throacic': 1, 'opth': 1, 'peridont': 1, 'paremet': 1, 'prostati': 1, 'sucrulf': 1, 'signirficantli': 1, 'axiallyacquir': 1, 'driop': 1, 'tge': 1, 'coumdin': 1, 'gtt^': 1, 'maxilo': 1, 'rhionch': 1, 'peridontatl': 1, 'benaprotien': 1, 'heoarin': 1, 'paramt': 1, 'adjus': 1, 'beief': 1, 'cxed': 1, 'awaitte': 1, 'fider': 1, 'accucheck': 2, 'secteion': 1, 'likelyb': 1, 'dentistri': 1, 'periodont': 1, 'unconvinc': 1, 'forsmal': 1, 'suspict': 1, 'levealbutenol': 1, 'coniz': 1, 'nunintent': 1, 'prolactin': 1, 'lossd': 1, 'fsh': 1, 'fibrmyalgia': 1, 'gasteoperesi': 1, 'predinison': 1, 'ondesetron': 1, 'airwi': 1, 'anisoci': 1, 'hypochr': 1, 'cement': 1, 'opact': 1, 'bebrid': 1, 'excoriati': 1, 'gujarati': 1, 'oxytoca': 1, 'pltclmp': 1, 'felxis': 1, 'macroci': 1, 'intraadbomin': 1, 'isoenzym': 1, 'methacryl': 1, 'fragili': 1, 'oxgen': 1, 'exertionsbp': 1, 'lovemox': 1, 'beath': 1, 'mresult': 1, 'likekli': 1, 'ezetimib': 1, 'ischiorect': 1, 'enarterctomi': 1, 'wbxrt': 1, 'challebg': 1, 'afiib': 1, 'hmed': 1, 'castgr': 1, 'avert': 1, 'nasuea': 1, 'afteroon': 1, 'che': 1, 'appoprio': 1, 'strongyloid': 1, 'eosinphil': 1, 'levitiracetam': 1, 'tufe': 1, 'dopler': 1, 'aranesp': 1, 'vasopress': 1, 'vassopress': 1, 'preripher': 1, 'reanl': 1, 'kpo': 1, 'afar': 1, 'paracardi': 1, 'apg': 1, 'counterproduct': 1, 'forego': 1, 'thoarcentesi': 1, 'cretainin': 1, 'nephrit': 1, 'cartid': 1, 'nerphrot': 1, 'plesaent': 1, 'scarbosa': 1, 'catert': 1, 'antral': 1, 'seqeuala': 1, 'lens': 1, 'suggesst': 1, 'transan': 1, 'inhibitori': 1, 'lipopolysaccharid': 1, 'vancomycindiarrhea': 1, 'purpura': 1, 'ontiotropium': 1, 'systolo': 1, 'guiaac': 1, 'sensitiviti': 1, 'insta': 1, 'precautionst': 1, 'prokaryot': 1, 'corus': 1, 'telphon': 1, 'evidenv': 1, 'endotoxin': 1, 'synthesi': 1, 'senil': 1, 'neropenum': 1, 'forarm': 1, 'vasoopressor': 1, 'avn': 2, 'cephalexinunknown': 1, 'flutison': 1, 'vasodilit': 1, 'earlob': 1, 'tygecyclin': 1, 'actin': 2, 'swith': 1, 'dyeiodin': 1, 'eratosi': 1, 'tand': 1, 'saber': 1, 'piccin': 1, 'adequaut': 1, 'lampectomi': 1, 'hypothes': 1, 'hypothairoid': 1, 'herpez': 1, 'preoccup': 1, \"'overdos\": 1, 'upload': 1, 'elevat': 1, 'begain': 1, 'recompt': 1, 'heroic': 1, 'nimenda': 1, 'fentanli': 1, 'skeletel': 1, 'fibersoourc': 1, 'cheyennn': 1, 'pules': 1, 'tbd': 1, 'cleanout': 1, 'duoerm': 1, 'neosyneph': 1, 'recomp': 1, 'venitlatori': 1, 'honeymoon': 1, 'scopolomin': 1, 'rqmnt': 1, 'techinc': 1, 'esophagel': 1, 'demonstart': 1, 'symptomatolog': 1, 'slowl': 1, 'outing': 1, 'chron': 2, 'innumber': 1, 'segmetn': 1, 'thear': 1, 'guaifenasin': 1, 'llr': 1, 'oozi': 1, 'rumbl': 1, 'valvuloplasti': 1, 'marit': 1, 'thearapeut': 1, 'thombosi': 1, 'carotidendarterectomi': 1, 'cuplet': 1, 'neostigmin': 1, 'pulsati': 1, 'dacron': 1, 'ccath': 1, 'paient': 1, 'dipropion': 1, 'polar': 1, 'duresi': 1, 'firefight': 1, 'detali': 1, 'rgurgit': 1, 'evh': 1, 'plasti': 1, 'exagerr': 1, 'contracta': 1, 'recuss': 1, '^pa': 1, 'cod': 1, 'claudic': 2, 'advir': 2, 'swann': 1, 'beclomethason': 1, 'carvedi': 1, '^pvc': 1, 'replaced': 1, 'ongong': 1, 'multiplan': 1, 'proton': 1, 'pdf': 1, 'supracondylar': 1, 'hajdu': 1, 'perfect': 1, 'kyphoscoloiosi': 1, 'grascil': 1, 'cartridg': 1, 'consitist': 1, 'levothyrox': 1, 'ealuat': 1, 'inbteween': 1, 'moonitor': 1, 'isp': 1, 'upj': 1, 'senstit': 1, 'thromboemboli': 1, 'eupnic': 1, 'roght': 1, 'dysfx': 1, 'provok': 1, 'traheotomi': 1, 'cogwheel': 1, 'pantoiprazol': 1, 'bradyarrhythmia': 1, 'pseudoon': 1, 'judgment': 1, 'xcc': 1, 'prmari': 1, 'attampt': 1, 'txfer': 1, 'pylenephr': 1, 'blockshortli': 1, 'thck': 1, 'airpal': 1, 'msec': 1, 'presentdu': 1, 'neurmuscular': 1, 'miltifacori': 1, 'hemidiaghragm': 1, 'psuedamona': 1, 'caleld': 1, 'acidifi': 1, 'sreen': 1, 'nnon': 1, 'tather': 1, 'hovermatt': 1, 'cpqp': 1, 'resectionand': 1, 'nonurg': 2, 'aftermn': 1, 'interventionl': 1, \"peg'\": 1, 'onccur': 1, 'hoverjack': 1, 'peniciliin': 1, 'ascept': 1, 'san': 1, 'psueudomona': 1, 'ebsl': 1, 'abhorr': 1, 'hebreb': 2, 'nightim': 1, 'pseuomona': 1, 'infranod': 1, 'lk': 1, 'gsurg': 1, 'aberrantli': 1, 'calic': 1, 'nephrosi': 1, 'pyramid': 1, \"still'\": 1, 'subment': 1, 'follect': 1, 'receivingiv': 1, 'mycon': 1, 'atrorv': 1, 'slippag': 1, 'diaghram': 1, 'attrov': 1, 'meropemem': 1, 'venolfax': 1, 'trachealbronchomalacia': 1, 'scr': 1, 'trifluor': 1, 'montgumeri': 1, 'bronchiectai': 1, 'vcd': 1, 'methacholin': 1, 'videostriposcopi': 1, 'omep': 1, 'azithromcyin': 1, 'omeprozol': 1, 'glotti': 1, 'guaifensin': 1, 'mainstay': 1, 'stroboscopi': 1, 'career': 1, 'aspiri': 1, 'slig': 1, 'depres': 1, 'unbchang': 1, 'saf': 1, 'hypernatremiawith': 1, 'chokehold': 1, 'swim': 1, 'eavluat': 1, 'infet': 1, 'pexi': 1, 'shx': 1, 'periphr': 1, 'presentw': 1, 'llow': 1, 'hypoplasia': 1, 'catter': 1, 'palin': 1, 'amtter': 1, 'positiona': 1, 'hecerebr': 1, 'femora': 1, 'demeylin': 1, 'antur': 1, 'hydrothrorax': 1, 'tenosi': 1, 'imppress': 1, 'physicianclip': 1, 'slg': 1, 'cultprit': 1, 'attd': 1, 'resolvi': 1, 'squirmi': 1, 'anco': 1, 'dao': 1, 'failiur': 1, 'decreeas': 1, 'bronchspasm': 1, 'evant': 1, 'nitrglycerin': 1, 'arousib': 1, 'kayexil': 1, 'niacin': 1, 'tamoxifen': 1, 'fornic': 1, 'nameda': 1, 'keratos': 1, 'handwritten': 1, 'vitreou': 1, 'exacurb': 1, 'cehst': 1, 'botox': 1, 'achalsia': 1, 'lunvch': 1, 'rehba': 1, 'conrol': 1, 'achalasia': 1, 'produt': 1, 'orpharyng': 1, 'agt': 1, 'acinar': 1, 'shelf': 1, 'prespil': 1, 'rln': 1, 'overlod': 1, 'sublobar': 1, 'mandira': 1, 'meadiastinoscopi': 1, 'aereat': 1, 'embarrass': 1, 'virtu': 1, 'mycosi': 1, 'neurologici': 1, 'pneumocephalu': 1, 'neurocheck': 1, 'rxra': 1, 'angioedem': 1, 'erythroderm': 1, 'osteoarthtr': 1, 'fungoid': 1, 'ctcl': 1, 'angioinvas': 1, 'pcabgx': 1, 'withcvl': 1, 'enchanc': 1, 'etz': 1, 'laparascop': 1, 'pulldown': 1, 'perivarcular': 1, 'interlock': 1, 'superifci': 1, 'seroma': 1, 'trochanter': 1, 'spigelian': 1, 'hypercholestremia': 1, 'fiberspourc': 1, 'extrus': 1, 'antierior': 1, 'aponeurosi': 1, 'intraperitonea': 1, 'underdistens': 1, 'tailur': 1, 'gwilliam': 1, 'muli': 1, 'sarum': 1, 'chonz': 1, 'chornz': 1, 'disarray': 1, 'eed': 1, 'cavieti': 1, 'latherg': 1, 'mucro': 1, 'colposcopi': 1, 'gad': 1, 'anarob': 1, 'transduct': 1, 'garden': 1, 'epidu': 1, \"lemiere'\": 1, 'accomani': 1, 'colpo': 1, 'anaphlyaxi': 1, 'headacn': 1, 'transuc': 1, 'extubu': 1, 'somonol': 1, 'thankyou': 1, 'cofluent': 1, 'substranti': 1, 'osaltamivir': 1, 'excus': 1, 'immunofluoresc': 1, 'mexican': 1, 'reportsh': 1, 'qshift': 1, 'hmm': 1, 'nasatrach': 1, 'pateitn': 1, 'flagylcefipim': 1, 'fluctauat': 1, 'monitort': 1, 'infer': 1, 'aphonia': 1, 'couh': 1, 'encouagr': 1, 'multiofoc': 1, 'nasti': 1, 'discon': 1, 'ronchrou': 1, 'apperenli': 1, 'berath': 1, 'flucauat': 1, 'repetet': 1, 'reddent': 1}}\n"
     ]
    }
   ],
   "source": [
    "print(note_appearance_counter)"
   ]
  },
  {
   "cell_type": "code",
   "execution_count": null,
   "metadata": {},
   "outputs": [],
   "source": []
  },
  {
   "cell_type": "code",
   "execution_count": null,
   "metadata": {},
   "outputs": [],
   "source": []
  },
  {
   "cell_type": "code",
   "execution_count": 39,
   "metadata": {},
   "outputs": [],
   "source": [
    "# # get hyper-paramters n_fold and threshold from user input\n",
    "n_fold = float(3)\n",
    "threshold = float(0.02)\n",
    "\n",
    "frequent_word_lists = {}\n",
    "factor = {}"
   ]
  },
  {
   "cell_type": "code",
   "execution_count": 40,
   "metadata": {},
   "outputs": [
    {
     "name": "stdout",
     "output_type": "stream",
     "text": [
      "pneumonia_dead has 11678 unique words!\n",
      "pneumonia_alive has 22572 unique words!\n",
      "finished making frequent words list for pneumonia_alive\n"
     ]
    }
   ],
   "source": [
    "\"\"\"function description:\n",
    "for each disease in note_appearance_counter\n",
    "    1. checks whether a word in disease file is frequent(frequency standard as defined by factor, n_fold, and threshold)\n",
    "    2. adds to frequent_word_list\n",
    "\"\"\"\n",
    "\n",
    "# def find_frequent_word(note_appearance_counter, frequent_word_lists, number_of_notes, factor, n_fold, threshold):\n",
    "\n",
    "# calculate normalizing factor for each disease\n",
    "note_sum = 0\n",
    "\n",
    "# Count from two labels\n",
    "for disease in number_of_notes:\n",
    "    note_sum += float(number_of_notes[disease])\n",
    "    \n",
    "for disease in number_of_notes:\n",
    "    factor[disease] = number_of_notes[disease] / note_sum\n",
    "\n",
    "# determine frequent word for each disease file\n",
    "for disease in note_appearance_counter:\n",
    "    frequent_word_lists[disease] = []\n",
    "\n",
    "    print(disease + \" has \" + str(len(note_appearance_counter[disease])) + \" unique words!\")\n",
    "\n",
    "    for word in note_appearance_counter[disease]:\n",
    "        \n",
    "        freq_check = True\n",
    "        for check_disease in note_appearance_counter:\n",
    "            \n",
    "            if not disease == check_disease:\n",
    "                if word in note_appearance_counter[check_disease]:\n",
    "                    if not (note_appearance_counter[disease][word] / note_appearance_counter[check_disease][word] / factor[disease] * factor[check_disease] > n_fold \\\n",
    "                        and note_appearance_counter[disease][word] > (number_of_notes[disease] * threshold)):\n",
    "\n",
    "                        freq_check = False\n",
    "                        break\n",
    "\n",
    "                else:\n",
    "                    if not (note_appearance_counter[disease][word] > n_fold and note_appearance_counter[disease][word] > (number_of_notes[disease] * threshold)):\n",
    "                        freq_check = False\n",
    "                        break\n",
    "        if freq_check:\n",
    "            frequent_word_lists[disease].append((word))\n",
    "            # Create a tuple of word and its count\n",
    "#             frequent_word_lists[disease].append((word, note_appearance_counter[disease][word]))\n",
    "\n",
    "        \n",
    "\n",
    "print(\"finished making frequent words list for \" + disease)"
   ]
  },
  {
   "cell_type": "code",
   "execution_count": 41,
   "metadata": {
    "scrolled": true
   },
   "outputs": [
    {
     "name": "stdout",
     "output_type": "stream",
     "text": [
      "1419.0\n",
      "{'pneumonia_dead': 0.17758985200845667, 'pneumonia_alive': 0.8224101479915433}\n"
     ]
    }
   ],
   "source": [
    "print(note_sum)\n",
    "print(factor)\n",
    "\n",
    "# number of notes\n",
    "# 58029.0\n",
    "# {'pneumonia_dead': 0.2049837150390322, 'pneumonia_alive': 0.7950162849609678}"
   ]
  },
  {
   "cell_type": "code",
   "execution_count": 42,
   "metadata": {
    "scrolled": true
   },
   "outputs": [
    {
     "name": "stdout",
     "output_type": "stream",
     "text": [
      "187\n",
      "112\n"
     ]
    }
   ],
   "source": [
    "print(len(frequent_word_lists['pneumonia_dead']))\n",
    "print(len(frequent_word_lists['pneumonia_alive']))"
   ]
  },
  {
   "cell_type": "code",
   "execution_count": 43,
   "metadata": {
    "scrolled": true
   },
   "outputs": [
    {
     "name": "stdout",
     "output_type": "stream",
     "text": [
      "{'pneumonia_dead': ['dic', 'mottl', 'death', 'clinician', 'funer', 'pea', 'arrang', 'unrespons', 'cpr', 'anur', 'recruit', 'expir', 'arrest', 'suffer', 'profound', 'bicarbon', 'azotemia', 'phenylephrin', 'autopeep', 'pcv', 'hypothermia', 'vasopressin', 'hypercapn', 'paralyt', 'clergi', 'refractori', 'norepinephrin', 'pinpoint', 'cmo', 'nonpurpos', 'dni', 'dnr', 'sluggish', 'gum', 'dk', 'mso', 'levoph', 'wish', 'prognosi', 'institut', 'option', 'purpl', 'hypotent', 'priest', 'pronounc', 'grim', 'dead', 'asystol', 'life', 'mortem', 'bye', 'centimet', 'acv', 'synch', 'agreement', 'sync', 'surviv', 'cathol', 'peac', 'duski', 'rusti', 'corneal', 'cvvhdf', 'pfr', 'vtach', 'neosynephrin', 'agon', 'pulseless', 'vasopressor', 'deliv', 'cvvh', 'acidot', 'seriou', 'cvvhd', 'defibril', 'deterior', 'suppport', 'hemothorax', 'crrt', 'among', 'lw', 'brb', 'pitressin', 'levof', 'hypotherm', 'elimin', 'maroon', 'bair', 'cyanot', 'unequ', 'pray', 'hugger', 'mtg', 'ethic', 'ffp', 'declin', 'lc', \"tf'ing\", 'paco', 'rabbi', 'bairhugg', 'norepi', 'prayer', 'absorb', 'town', 'nahco', 'motil', 'neo', 'discoordin', 'morgu', 'autopsi', 'bank', 'circuit', 'zero', 'sml', 'triadyn', 'escal', 'syring', 'unstabl', 'hunger', 'mind', 'dopamin', 'hung', 'polici', 'intiat', 'palli', 'cantones', 'moan', 'readdress', 'gurgl', 'anuria', 'dobutamin', 'underneath', 'oncologist', 'platelet', 'platlet', 'hospic', 'quadrent', 'gut', 'core', 'cardiovert', 'griev', 'oligur', 'twitch', 'cisatracurium', 'plat', 'liw', 'sacrament', 'crt', 'grave', 'heroic', 'occupi', 'struggl', 'opinion', 'icter', 'gentamycin', 'pplat', 'ardsnet', 'meaning', 'themselv', 'fibrinogen', 'tubular', 'sibl', 'vasoconstrict', 'gasp', 'hook', 'realist', 'tran', 'aricept', 'analgesia', 'declar', 'dorsal', 'sluggishli', 'dysynchron', 'prioriti', 'ipf', 'goodby', 'petechia', 'harm', 'hemodynim', 'underpenetr', 'ggt', 'pastor', 'led', 'chlorhex', 'inde', 'abnl'], 'pneumonia_alive': ['ambul', 'oob', 'chair', 'ambien', 'commod', 'gait', 'pleasant', 'splint', 'supervis', 'lift', 'rm', 'puff', 'db', 'lat', 'breakfast', 'aox', 'lpm', 'laryng', 'cup', 'venti', 'hyperintens', 'foci', 'chip', 'plate', 'jejunum', 'qtc', 'cash', 'wallet', 'dz', 'cloth', 'money', 'jewelri', 'signatur', 'pharyng', 'zyprexa', 'behavior', 'redirect', 'hilum', 'align', 'rehabilit', 'lotion', 'passi', 'distanc', 'ntnd', 'motor', 'cg', 'mellitu', 'rpe', 'scab', 'mrg', 'macu', 'bottl', 'olanzapin', 'muir', 'unassist', 'probe', 'stair', 'locomot', 'deflat', 'scar', 'captopril', 'magnevist', 'gadolinium', 'osa', 'im', 'pneumococc', 'forc', 'incent', 'spiromet', 'seroquel', 'nectar', 'video', 'sensat', 'postop', 'barium', 'asthma', 'sweat', 'amb', 'lightheaded', 'dizzi', 'pivot', 'endur', 'readmit', 'bromid', 'ctx', 'wfl', 'angri', 'paperwork', 'solut', 'ppd', 'diaphoresi', 'rigor', 'freeli', 'omeprazol', 'divis', 'silent', 'gabapentin', 'pneumothorac', 'aaox', 'habitu', 'vallecula', 'homogen', 'spirit', 'unavail', 'fatti', 'hive', 'tdi', 'echocardiogram', 'cdb', 'seat', 'videofluoroscopi', 'slice']}\n"
     ]
    }
   ],
   "source": [
    "print(frequent_word_lists)"
   ]
  },
  {
   "cell_type": "markdown",
   "metadata": {},
   "source": [
    "### 2. Co-occurrence generation\n",
    "FP-growth"
   ]
  },
  {
   "cell_type": "code",
   "execution_count": 44,
   "metadata": {},
   "outputs": [],
   "source": [
    "FREQUENT_WORD_LIST = frequent_word_lists['pneumonia_dead'] + frequent_word_lists['pneumonia_alive']"
   ]
  },
  {
   "cell_type": "code",
   "execution_count": 45,
   "metadata": {
    "scrolled": true
   },
   "outputs": [
    {
     "name": "stdout",
     "output_type": "stream",
     "text": [
      "\n",
      "word dictionary created!\n",
      "\n",
      "{'dic': 1, 'mottl': 2, 'death': 3, 'clinician': 4, 'funer': 5, 'pea': 6, 'arrang': 7, 'unrespon': 8, 'cpr': 9, 'anur': 10, 'recruit': 11, 'expir': 12, 'arrest': 13, 'suffer': 14, 'profound': 15, 'bicarbon': 16, 'azotemia': 17, 'phenylephrin': 18, 'autopeep': 19, 'pcv': 20, 'hypothermia': 21, 'vasopressin': 22, 'hypercapn': 23, 'paralyt': 24, 'clergi': 25, 'refractori': 26, 'norepinephrin': 27, 'pinpoint': 28, 'cmo': 29, 'nonpurpo': 30, 'dni': 31, 'dnr': 32, 'sluggish': 33, 'gum': 34, 'dk': 35, 'mso': 36, 'levoph': 37, 'wish': 38, 'prognosi': 39, 'institut': 40, 'option': 41, 'purpl': 42, 'hypot': 43, 'priest': 44, 'pronounc': 45, 'grim': 46, 'dead': 47, 'asystol': 48, 'life': 49, 'mortem': 50, 'bye': 51, 'centimet': 52, 'acv': 53, 'synch': 54, 'agreement': 55, 'sync': 56, 'surviv': 57, 'cathol': 58, 'peac': 59, 'duski': 60, 'rusti': 61, 'corneal': 62, 'cvvhdf': 63, 'pfr': 64, 'vtach': 65, 'neosynephrin': 66, 'agon': 67, 'pulseless': 68, 'vasopressor': 69, 'deliv': 70, 'cvvh': 71, 'acidot': 72, 'seriou': 73, 'cvvhd': 74, 'defibril': 75, 'deterior': 76, 'suppport': 77, 'hemothorax': 78, 'crrt': 79, 'among': 80, 'lw': 81, 'brb': 82, 'pitressin': 83, 'levof': 84, 'hypotherm': 85, 'elimin': 86, 'maroon': 87, 'bair': 88, 'cyanot': 89, 'unequ': 90, 'pray': 91, 'hugger': 92, 'mtg': 93, 'ethic': 94, 'ffp': 95, 'declin': 96, 'lc': 97, \"tf'ing\": 98, 'paco': 99, 'rabbi': 100, 'bairhugg': 101, 'norepi': 102, 'prayer': 103, 'absorb': 104, 'town': 105, 'nahco': 106, 'motil': 107, 'neo': 108, 'discoordin': 109, 'morgu': 110, 'autopsi': 111, 'bank': 112, 'circuit': 113, 'zero': 114, 'sml': 115, 'triadyn': 116, 'escal': 117, 'syre': 118, 'unstabl': 119, 'hunger': 120, 'mind': 121, 'dopamin': 122, 'hung': 123, 'polici': 124, 'intiat': 125, 'palli': 126, 'canton': 127, 'moan': 128, 'readdress': 129, 'gurgl': 130, 'anuria': 131, 'dobutamin': 132, 'underneath': 133, 'oncologist': 134, 'platelet': 135, 'platlet': 136, 'hospic': 137, 'quadrent': 138, 'gut': 139, 'core': 140, 'cardiovert': 141, 'griev': 142, 'oligur': 143, 'twitch': 144, 'cisatracurium': 145, 'plat': 146, 'liw': 147, 'sacrament': 148, 'crt': 149, 'grave': 150, 'heroic': 151, 'occupi': 152, 'struggl': 153, 'opinion': 154, 'icter': 155, 'gentamycin': 156, 'pplat': 157, 'ardsnet': 158, 'mean': 159, 'themselv': 160, 'fibrinogen': 161, 'tubular': 162, 'sibl': 163, 'vasoconstrict': 164, 'gasp': 165, 'hook': 166, 'realist': 167, 'tran': 168, 'aricept': 169, 'analgesia': 170, 'declar': 171, 'dorsal': 172, 'sluggishli': 173, 'dysynchron': 174, 'prioriti': 175, 'ipf': 176, 'goodbi': 177, 'petechia': 178, 'harm': 179, 'hemodynim': 180, 'underpenetr': 181, 'ggt': 182, 'pastor': 183, 'led': 184, 'chlorhex': 185, 'ind': 186, 'abnl': 187, 'ambul': 188, 'oob': 189, 'chair': 190, 'ambien': 191, 'commod': 192, 'gait': 193, 'pleasant': 194, 'splint': 195, 'supervi': 196, 'lift': 197, 'rm': 198, 'puff': 199, 'db': 200, 'lat': 201, 'breakfast': 202, 'aox': 203, 'lpm': 204, 'laryng': 205, 'cup': 206, 'venti': 207, 'hyperinten': 208, 'foci': 209, 'chip': 210, 'plate': 211, 'jejunum': 212, 'qtc': 213, 'cash': 214, 'wallet': 215, 'dz': 216, 'cloth': 217, 'money': 218, 'jewelri': 219, 'signatur': 220, 'pharyng': 221, 'zyprexa': 222, 'behavior': 223, 'redirect': 224, 'hilum': 225, 'align': 226, 'rehabilit': 227, 'lotion': 228, 'passi': 229, 'distanc': 230, 'ntnd': 231, 'motor': 232, 'cg': 233, 'mellitu': 234, 'rpe': 235, 'scab': 236, 'mrg': 237, 'macu': 238, 'bottl': 239, 'olanzapin': 240, 'muir': 241, 'unassist': 242, 'probe': 243, 'stair': 244, 'locomot': 245, 'deflat': 246, 'scar': 247, 'captopril': 248, 'magnevist': 249, 'gadolinium': 250, 'osa': 251, 'im': 252, 'pneumococc': 253, 'forc': 254, 'incent': 255, 'spiromet': 256, 'seroquel': 257, 'nectar': 258, 'video': 259, 'sensat': 260, 'postop': 261, 'barium': 262, 'asthma': 263, 'sweat': 264, 'amb': 265, 'lighthead': 266, 'dizzi': 267, 'pivot': 268, 'endur': 269, 'readmit': 270, 'bromid': 271, 'ctx': 272, 'wfl': 273, 'angri': 274, 'paperwork': 275, 'solut': 276, 'ppd': 277, 'diaphoresi': 278, 'rigor': 279, 'freeli': 280, 'omeprazol': 281, 'divi': 282, 'silent': 283, 'gabapentin': 284, 'pneumothorac': 285, 'aaox': 286, 'habitu': 287, 'vallecula': 288, 'homogen': 289, 'spirit': 290, 'unavail': 291, 'fatti': 292, 'hive': 293, 'tdi': 294, 'echocardiogram': 295, 'cdb': 296, 'seat': 297, 'videofluoroscopi': 298, 'slice': 299}\n"
     ]
    }
   ],
   "source": [
    "\"\"\"function description:\n",
    "generates frequent word set for the disease\n",
    "\"\"\"\n",
    "word_dict = {}\n",
    "word_id = 1\n",
    "stemmer = PorterStemmer()\n",
    "\n",
    "\n",
    "for word in FREQUENT_WORD_LIST:\n",
    "    if not word == \"WORD\":\n",
    "        word_dict[stemmer.stem(word.strip())] = word_id\n",
    "        word_id += 1\n",
    "             \n",
    "print(\"\\nword dictionary created!\\n\")\n",
    "print(word_dict)\n"
   ]
  },
  {
   "cell_type": "code",
   "execution_count": null,
   "metadata": {},
   "outputs": [],
   "source": []
  },
  {
   "cell_type": "code",
   "execution_count": null,
   "metadata": {},
   "outputs": [],
   "source": []
  },
  {
   "cell_type": "code",
   "execution_count": null,
   "metadata": {},
   "outputs": [],
   "source": []
  },
  {
   "cell_type": "markdown",
   "metadata": {},
   "source": [
    "### Implementetion with python for FP_growth"
   ]
  },
  {
   "cell_type": "code",
   "execution_count": 46,
   "metadata": {
    "scrolled": false
   },
   "outputs": [
    {
     "name": "stderr",
     "output_type": "stream",
     "text": [
      "100%|██████████| 11895/11895 [01:19<00:00, 149.02it/s]\n",
      "  0%|          | 6/46134 [00:00<12:58, 59.28it/s]"
     ]
    },
    {
     "name": "stdout",
     "output_type": "stream",
     "text": [
      "FP growth input for pneumonia_dead generated!\n"
     ]
    },
    {
     "name": "stderr",
     "output_type": "stream",
     "text": [
      "100%|██████████| 46134/46134 [04:47<00:00, 160.69it/s]"
     ]
    },
    {
     "name": "stdout",
     "output_type": "stream",
     "text": [
      "FP growth input for pneumonia_alive generated!\n"
     ]
    },
    {
     "name": "stderr",
     "output_type": "stream",
     "text": [
      "\n"
     ]
    }
   ],
   "source": [
    "# http://rasbt.github.io/mlxtend/user_guide/frequent_patterns/fpgrowth/\n",
    "import os\n",
    "import operator\n",
    "from pathlib import Path\n",
    "from mlxtend.frequent_patterns import fpgrowth\n",
    "from mlxtend.preprocessing import TransactionEncoder\n",
    "import pandas as pd\n",
    "import math\n",
    "\n",
    "# ----\n",
    "def fp_growth_input_per_patient_python(disease_name, disease_df, word_dict, min_support, label):\n",
    "    \n",
    "    # For dataframe\n",
    "    patient_id_lst = []\n",
    "    patient_cooc_lst = []\n",
    "    patient_cooc_minsup_lst = []\n",
    "    patient_label_lst = []\n",
    "    patient_note_cnt = []\n",
    "    patient_feature_lst = []\n",
    "    patient_feature_idx_lst = []\n",
    "    patinet_log_odd_ratio_lst = []\n",
    "    \n",
    "    # --------------    \n",
    "    patient_id = -1\n",
    "    note_cnt = 0\n",
    "    patient_note_list = []\n",
    "    \n",
    "    # read line in from file (each line is one note)\n",
    "    for index, row in tqdm(disease_df.iterrows(), total=disease_df.shape[0]):\n",
    "        \n",
    "        # only regard certain type of notes\n",
    "        patient_id_check = int(row['SUBJECT_ID_x'])\n",
    "        note = re.sub(r'\\[\\*\\*(.*?)\\*\\*\\]|[_,\\d\\*:~=\\.\\-\\+\\\\/]+', ' ', row['TEXT'])\n",
    "        patient_word_set = set()\n",
    "    \n",
    "#         print(f\"patient_id_check: {patient_id_check}, patient_id: {patient_id}\")\n",
    "        # if patient id has changed, end sequence and start new sequence\n",
    "        if not patient_id == patient_id_check and not patient_id == -1:\n",
    "            te = TransactionEncoder()\n",
    "            te_ary = te.fit(patient_note_list).transform(patient_note_list)\n",
    "            df = pd.DataFrame(te_ary, columns=te.columns_)\n",
    "            df_itemsets = fpgrowth(df, min_support=min_support, use_colnames=True)\n",
    "            \n",
    "            cooc_tmp = []\n",
    "            cooc_minsup_tmp = []\n",
    "            cooc_feature_tmp = []\n",
    "            cooc_feature_idx_tmp = []\n",
    "            cooc_log_odds_ratio_tmp = []\n",
    "            \n",
    "            for index, row in df_itemsets.iterrows():\n",
    "                if len(row['itemsets']) == 1:\n",
    "                    word = list(row['itemsets'])[0]\n",
    "                    min_sup = row['support']\n",
    "                    cooc_feature_tmp.append(min_sup)\n",
    "                    cooc_feature_idx_tmp.append(word)\n",
    "                    cooc_log_odds_ratio_tmp.append(math.log(min_sup/((1-min_sup) + 0.0001)))\n",
    "                    \n",
    "                if len(row['itemsets']) == 2:\n",
    "                    cooc_ = list(row['itemsets'])\n",
    "                    cooc_tmp.append(cooc_)\n",
    "                    cooc_minsup_tmp.append(row['support'])\n",
    "            \n",
    "          \n",
    "            # Update glob lists\n",
    "            patient_id_lst.append(patient_id)\n",
    "            patient_cooc_lst.append(cooc_tmp)\n",
    "            patient_cooc_minsup_lst.append(cooc_minsup_tmp)\n",
    "            patient_label_lst.append(label)\n",
    "            patient_note_cnt.append(note_cnt)\n",
    "            \n",
    "            patient_feature_lst.append(cooc_feature_tmp)\n",
    "            patient_feature_idx_lst.append(cooc_feature_idx_tmp)\n",
    "            patinet_log_odd_ratio_lst.append(cooc_log_odds_ratio_tmp)\n",
    "            \n",
    "            # Reset local lists\n",
    "            patient_note_list = []\n",
    "            note_cnt = 0\n",
    "                    \n",
    "        # update patient id\n",
    "        patient_id = patient_id_check\n",
    "        tokenized_note = word_tokenize(note)\n",
    "        note_cnt += 1\n",
    "\n",
    "        # loop through each word in note to count word belonging to each disease\n",
    "        for word in tokenized_note:\n",
    "            stemmed_word = stemmer.stem(word.lower())       \n",
    "            if stemmed_word in word_dict:\n",
    "                    patient_word_set.add(stemmed_word)\n",
    "\n",
    "        templst = []\n",
    "        for word in patient_word_set:\n",
    "            templst.append(word)\n",
    "\n",
    "        if templst:\n",
    "            patient_note_list.append(templst)\n",
    "    \n",
    "    # Last patient info\n",
    "    te = TransactionEncoder()\n",
    "    te_ary = te.fit(patient_note_list).transform(patient_note_list)\n",
    "    df = pd.DataFrame(te_ary, columns=te.columns_)\n",
    "    df_itemsets = fpgrowth(df, min_support=min_support, use_colnames=True)\n",
    "            \n",
    "    cooc_tmp = []\n",
    "    cooc_minsup_tmp = []\n",
    "    #-----\n",
    "    cooc_feature_tmp = []\n",
    "    cooc_feature_idx_tmp = []\n",
    "    cooc_log_odds_ratio_tmp = []\n",
    "            \n",
    "    for index, row in df_itemsets.iterrows():\n",
    "        if len(row['itemsets']) == 1:\n",
    "            word = list(row['itemsets'])[0]\n",
    "            min_sup = row['support']\n",
    "            cooc_feature_tmp.append(min_sup)\n",
    "            cooc_feature_idx_tmp.append(word)\n",
    "            cooc_log_odds_ratio_tmp.append(math.log(min_sup/((1-min_sup) + 0.0001)))\n",
    "\n",
    "        if len(row['itemsets']) == 2:\n",
    "            cooc_tmp.append(row['itemsets'])\n",
    "            cooc_minsup_tmp.append(row['support'])\n",
    "                    \n",
    "            \n",
    "    # Update glob lists\n",
    "    patient_id_lst.append(patient_id)\n",
    "    patient_cooc_lst.append(cooc_tmp)\n",
    "    patient_cooc_minsup_lst.append(cooc_minsup_tmp)\n",
    "    patient_label_lst.append(label)\n",
    "    patient_note_cnt.append(note_cnt)\n",
    "    \n",
    "    patient_feature_lst.append(cooc_feature_tmp)\n",
    "    patient_feature_idx_lst.append(cooc_feature_idx_tmp)\n",
    "    patinet_log_odd_ratio_lst.append(cooc_log_odds_ratio_tmp)\n",
    "    \n",
    "#     print(f\"patient_id_lst: {len(patient_id_lst)} patient_cooc_lst: {len(patient_cooc_lst)} patient_cooc_minsup_lst: {len(patient_cooc_minsup_lst)} patient_label_lst: {len(patient_label_lst)} patient_note_cnt: {len(patient_note_cnt)}\")\n",
    "    print(\"FP growth input for \" + disease_name + \" generated!\")\n",
    "    return pd.DataFrame({\"patient_id\":patient_id_lst, \"patient_cooc\":patient_cooc_lst, \"cooc_minsup\":patient_cooc_minsup_lst, \"cooc_feature\":patient_feature_lst, \"log_odd_ratio\":patinet_log_odd_ratio_lst, \"cooc_feature_idx\":patient_feature_idx_lst ,\"label\":patient_label_lst, \"note_cnt\":patient_note_cnt})\n",
    "\n",
    "pneumonia_dead_cooc_df = fp_growth_input_per_patient_python(\"pneumonia_dead\", pneumonia_dead_no_disch, word_dict, 0.3, -1)\n",
    "pneumonia_alive_cooc_df = fp_growth_input_per_patient_python(\"pneumonia_alive\", pneumonia_alive_no_disch, word_dict, 0.3, 1)"
   ]
  },
  {
   "cell_type": "code",
   "execution_count": 47,
   "metadata": {
    "scrolled": true
   },
   "outputs": [
    {
     "data": {
      "text/html": [
       "<div>\n",
       "<style scoped>\n",
       "    .dataframe tbody tr th:only-of-type {\n",
       "        vertical-align: middle;\n",
       "    }\n",
       "\n",
       "    .dataframe tbody tr th {\n",
       "        vertical-align: top;\n",
       "    }\n",
       "\n",
       "    .dataframe thead th {\n",
       "        text-align: right;\n",
       "    }\n",
       "</style>\n",
       "<table border=\"1\" class=\"dataframe\">\n",
       "  <thead>\n",
       "    <tr style=\"text-align: right;\">\n",
       "      <th></th>\n",
       "      <th>patient_id</th>\n",
       "      <th>patient_cooc</th>\n",
       "      <th>cooc_minsup</th>\n",
       "      <th>cooc_feature</th>\n",
       "      <th>log_odd_ratio</th>\n",
       "      <th>cooc_feature_idx</th>\n",
       "      <th>label</th>\n",
       "      <th>note_cnt</th>\n",
       "    </tr>\n",
       "  </thead>\n",
       "  <tbody>\n",
       "    <tr>\n",
       "      <th>0</th>\n",
       "      <td>111</td>\n",
       "      <td>[[pea, arrest], [cpr, pea], [cpr, arrest], [cp...</td>\n",
       "      <td>[0.8333333333333334, 0.6666666666666666, 0.666...</td>\n",
       "      <td>[1.0, 0.8333333333333334, 0.6666666666666666, ...</td>\n",
       "      <td>[9.210340371976184, 1.6088380923621333, 0.6928...</td>\n",
       "      <td>[arrest, pea, cpr, vasopressin, pcv, paralyt, ...</td>\n",
       "      <td>-1</td>\n",
       "      <td>12</td>\n",
       "    </tr>\n",
       "    <tr>\n",
       "      <th>1</th>\n",
       "      <td>346</td>\n",
       "      <td>[]</td>\n",
       "      <td>[]</td>\n",
       "      <td>[0.42857142857142855]</td>\n",
       "      <td>[-0.28785705714106713]</td>\n",
       "      <td>[sluggish]</td>\n",
       "      <td>-1</td>\n",
       "      <td>25</td>\n",
       "    </tr>\n",
       "    <tr>\n",
       "      <th>2</th>\n",
       "      <td>404</td>\n",
       "      <td>[[death, paco]]</td>\n",
       "      <td>[1.0]</td>\n",
       "      <td>[1.0, 1.0]</td>\n",
       "      <td>[9.210340371976184, 9.210340371976184]</td>\n",
       "      <td>[paco, death]</td>\n",
       "      <td>-1</td>\n",
       "      <td>3</td>\n",
       "    </tr>\n",
       "    <tr>\n",
       "      <th>3</th>\n",
       "      <td>546</td>\n",
       "      <td>[]</td>\n",
       "      <td>[]</td>\n",
       "      <td>[]</td>\n",
       "      <td>[]</td>\n",
       "      <td>[]</td>\n",
       "      <td>-1</td>\n",
       "      <td>6</td>\n",
       "    </tr>\n",
       "    <tr>\n",
       "      <th>4</th>\n",
       "      <td>618</td>\n",
       "      <td>[]</td>\n",
       "      <td>[]</td>\n",
       "      <td>[0.3333333333333333]</td>\n",
       "      <td>[-0.6932971693110703]</td>\n",
       "      <td>[video]</td>\n",
       "      <td>-1</td>\n",
       "      <td>16</td>\n",
       "    </tr>\n",
       "    <tr>\n",
       "      <th>...</th>\n",
       "      <td>...</td>\n",
       "      <td>...</td>\n",
       "      <td>...</td>\n",
       "      <td>...</td>\n",
       "      <td>...</td>\n",
       "      <td>...</td>\n",
       "      <td>...</td>\n",
       "      <td>...</td>\n",
       "    </tr>\n",
       "    <tr>\n",
       "      <th>247</th>\n",
       "      <td>97181</td>\n",
       "      <td>[[dni, dnr]]</td>\n",
       "      <td>[0.625]</td>\n",
       "      <td>[0.625, 0.625]</td>\n",
       "      <td>[0.5105589926485599, 0.5105589926485599]</td>\n",
       "      <td>[dnr, dni]</td>\n",
       "      <td>-1</td>\n",
       "      <td>30</td>\n",
       "    </tr>\n",
       "    <tr>\n",
       "      <th>248</th>\n",
       "      <td>97795</td>\n",
       "      <td>[]</td>\n",
       "      <td>[]</td>\n",
       "      <td>[0.5952380952380952]</td>\n",
       "      <td>[0.3854154525024607]</td>\n",
       "      <td>[levoph]</td>\n",
       "      <td>-1</td>\n",
       "      <td>60</td>\n",
       "    </tr>\n",
       "    <tr>\n",
       "      <th>249</th>\n",
       "      <td>98009</td>\n",
       "      <td>[[palli, dnr], [dni, dnr], [palli, dni]]</td>\n",
       "      <td>[0.38461538461538464, 0.46153846153846156, 0.3...</td>\n",
       "      <td>[0.46153846153846156, 0.46153846153846156, 0.3...</td>\n",
       "      <td>[-0.1543363768702093, -0.1543363768702093, -0....</td>\n",
       "      <td>[dnr, dni, cmo, palli]</td>\n",
       "      <td>-1</td>\n",
       "      <td>33</td>\n",
       "    </tr>\n",
       "    <tr>\n",
       "      <th>250</th>\n",
       "      <td>98299</td>\n",
       "      <td>[]</td>\n",
       "      <td>[]</td>\n",
       "      <td>[0.4666666666666667, 0.3333333333333333]</td>\n",
       "      <td>[-0.1337188750485946, -0.6932971693110703]</td>\n",
       "      <td>[cmo, death]</td>\n",
       "      <td>-1</td>\n",
       "      <td>29</td>\n",
       "    </tr>\n",
       "    <tr>\n",
       "      <th>251</th>\n",
       "      <td>98597</td>\n",
       "      <td>[]</td>\n",
       "      <td>[]</td>\n",
       "      <td>[1.0]</td>\n",
       "      <td>[9.210340371976184]</td>\n",
       "      <td>[underpenetr]</td>\n",
       "      <td>-1</td>\n",
       "      <td>2</td>\n",
       "    </tr>\n",
       "  </tbody>\n",
       "</table>\n",
       "<p>252 rows × 8 columns</p>\n",
       "</div>"
      ],
      "text/plain": [
       "     patient_id                                       patient_cooc  \\\n",
       "0           111  [[pea, arrest], [cpr, pea], [cpr, arrest], [cp...   \n",
       "1           346                                                 []   \n",
       "2           404                                    [[death, paco]]   \n",
       "3           546                                                 []   \n",
       "4           618                                                 []   \n",
       "..          ...                                                ...   \n",
       "247       97181                                       [[dni, dnr]]   \n",
       "248       97795                                                 []   \n",
       "249       98009           [[palli, dnr], [dni, dnr], [palli, dni]]   \n",
       "250       98299                                                 []   \n",
       "251       98597                                                 []   \n",
       "\n",
       "                                           cooc_minsup  \\\n",
       "0    [0.8333333333333334, 0.6666666666666666, 0.666...   \n",
       "1                                                   []   \n",
       "2                                                [1.0]   \n",
       "3                                                   []   \n",
       "4                                                   []   \n",
       "..                                                 ...   \n",
       "247                                            [0.625]   \n",
       "248                                                 []   \n",
       "249  [0.38461538461538464, 0.46153846153846156, 0.3...   \n",
       "250                                                 []   \n",
       "251                                                 []   \n",
       "\n",
       "                                          cooc_feature  \\\n",
       "0    [1.0, 0.8333333333333334, 0.6666666666666666, ...   \n",
       "1                                [0.42857142857142855]   \n",
       "2                                           [1.0, 1.0]   \n",
       "3                                                   []   \n",
       "4                                 [0.3333333333333333]   \n",
       "..                                                 ...   \n",
       "247                                     [0.625, 0.625]   \n",
       "248                               [0.5952380952380952]   \n",
       "249  [0.46153846153846156, 0.46153846153846156, 0.3...   \n",
       "250           [0.4666666666666667, 0.3333333333333333]   \n",
       "251                                              [1.0]   \n",
       "\n",
       "                                         log_odd_ratio  \\\n",
       "0    [9.210340371976184, 1.6088380923621333, 0.6928...   \n",
       "1                               [-0.28785705714106713]   \n",
       "2               [9.210340371976184, 9.210340371976184]   \n",
       "3                                                   []   \n",
       "4                                [-0.6932971693110703]   \n",
       "..                                                 ...   \n",
       "247           [0.5105589926485599, 0.5105589926485599]   \n",
       "248                               [0.3854154525024607]   \n",
       "249  [-0.1543363768702093, -0.1543363768702093, -0....   \n",
       "250         [-0.1337188750485946, -0.6932971693110703]   \n",
       "251                                [9.210340371976184]   \n",
       "\n",
       "                                      cooc_feature_idx  label  note_cnt  \n",
       "0    [arrest, pea, cpr, vasopressin, pcv, paralyt, ...     -1        12  \n",
       "1                                           [sluggish]     -1        25  \n",
       "2                                        [paco, death]     -1         3  \n",
       "3                                                   []     -1         6  \n",
       "4                                              [video]     -1        16  \n",
       "..                                                 ...    ...       ...  \n",
       "247                                         [dnr, dni]     -1        30  \n",
       "248                                           [levoph]     -1        60  \n",
       "249                             [dnr, dni, cmo, palli]     -1        33  \n",
       "250                                       [cmo, death]     -1        29  \n",
       "251                                      [underpenetr]     -1         2  \n",
       "\n",
       "[252 rows x 8 columns]"
      ]
     },
     "execution_count": 47,
     "metadata": {},
     "output_type": "execute_result"
    }
   ],
   "source": [
    "pneumonia_dead_cooc_df"
   ]
  },
  {
   "cell_type": "code",
   "execution_count": 48,
   "metadata": {},
   "outputs": [
    {
     "name": "stdout",
     "output_type": "stream",
     "text": [
      "94\n"
     ]
    }
   ],
   "source": [
    "cnt_ = 0\n",
    "for i, (index, row) in enumerate(pneumonia_dead_cooc_df.iterrows()):\n",
    "    if row['patient_cooc']:\n",
    "        cnt_ += 1\n",
    "print(cnt_)\n",
    "# 230 min_sup = 0.1\n",
    "# 74 min_sup = 0.4\n",
    "# 94 min_sup = 0.3"
   ]
  },
  {
   "cell_type": "code",
   "execution_count": 49,
   "metadata": {},
   "outputs": [
    {
     "data": {
      "text/html": [
       "<div>\n",
       "<style scoped>\n",
       "    .dataframe tbody tr th:only-of-type {\n",
       "        vertical-align: middle;\n",
       "    }\n",
       "\n",
       "    .dataframe tbody tr th {\n",
       "        vertical-align: top;\n",
       "    }\n",
       "\n",
       "    .dataframe thead th {\n",
       "        text-align: right;\n",
       "    }\n",
       "</style>\n",
       "<table border=\"1\" class=\"dataframe\">\n",
       "  <thead>\n",
       "    <tr style=\"text-align: right;\">\n",
       "      <th></th>\n",
       "      <th>patient_id</th>\n",
       "      <th>patient_cooc</th>\n",
       "      <th>cooc_minsup</th>\n",
       "      <th>cooc_feature</th>\n",
       "      <th>log_odd_ratio</th>\n",
       "      <th>cooc_feature_idx</th>\n",
       "      <th>label</th>\n",
       "      <th>note_cnt</th>\n",
       "    </tr>\n",
       "  </thead>\n",
       "  <tbody>\n",
       "    <tr>\n",
       "      <th>0</th>\n",
       "      <td>68</td>\n",
       "      <td>[[ambul, commod]]</td>\n",
       "      <td>[0.375]</td>\n",
       "      <td>[0.5, 0.5]</td>\n",
       "      <td>[-0.00019998000266624517, -0.00019998000266624...</td>\n",
       "      <td>[commod, ambul]</td>\n",
       "      <td>1</td>\n",
       "      <td>18</td>\n",
       "    </tr>\n",
       "    <tr>\n",
       "      <th>1</th>\n",
       "      <td>85</td>\n",
       "      <td>[]</td>\n",
       "      <td>[]</td>\n",
       "      <td>[1.0]</td>\n",
       "      <td>[9.210340371976184]</td>\n",
       "      <td>[lat]</td>\n",
       "      <td>1</td>\n",
       "      <td>8</td>\n",
       "    </tr>\n",
       "    <tr>\n",
       "      <th>2</th>\n",
       "      <td>94</td>\n",
       "      <td>[]</td>\n",
       "      <td>[]</td>\n",
       "      <td>[]</td>\n",
       "      <td>[]</td>\n",
       "      <td>[]</td>\n",
       "      <td>1</td>\n",
       "      <td>100</td>\n",
       "    </tr>\n",
       "    <tr>\n",
       "      <th>3</th>\n",
       "      <td>165</td>\n",
       "      <td>[]</td>\n",
       "      <td>[]</td>\n",
       "      <td>[1.0]</td>\n",
       "      <td>[9.210340371976184]</td>\n",
       "      <td>[habitu]</td>\n",
       "      <td>1</td>\n",
       "      <td>2</td>\n",
       "    </tr>\n",
       "    <tr>\n",
       "      <th>4</th>\n",
       "      <td>211</td>\n",
       "      <td>[]</td>\n",
       "      <td>[]</td>\n",
       "      <td>[]</td>\n",
       "      <td>[]</td>\n",
       "      <td>[]</td>\n",
       "      <td>1</td>\n",
       "      <td>24</td>\n",
       "    </tr>\n",
       "    <tr>\n",
       "      <th>...</th>\n",
       "      <td>...</td>\n",
       "      <td>...</td>\n",
       "      <td>...</td>\n",
       "      <td>...</td>\n",
       "      <td>...</td>\n",
       "      <td>...</td>\n",
       "      <td>...</td>\n",
       "      <td>...</td>\n",
       "    </tr>\n",
       "    <tr>\n",
       "      <th>1162</th>\n",
       "      <td>99560</td>\n",
       "      <td>[]</td>\n",
       "      <td>[]</td>\n",
       "      <td>[0.5, 0.5]</td>\n",
       "      <td>[-0.00019998000266624517, -0.00019998000266624...</td>\n",
       "      <td>[lat, among]</td>\n",
       "      <td>1</td>\n",
       "      <td>12</td>\n",
       "    </tr>\n",
       "    <tr>\n",
       "      <th>1163</th>\n",
       "      <td>99647</td>\n",
       "      <td>[]</td>\n",
       "      <td>[]</td>\n",
       "      <td>[0.3181818181818182, 0.3181818181818182]</td>\n",
       "      <td>[-0.7622867079590595, -0.7622867079590595]</td>\n",
       "      <td>[deterior, levoph]</td>\n",
       "      <td>1</td>\n",
       "      <td>58</td>\n",
       "    </tr>\n",
       "    <tr>\n",
       "      <th>1164</th>\n",
       "      <td>99781</td>\n",
       "      <td>[[barium, video], [motor, barium], [laryng, ba...</td>\n",
       "      <td>[0.5, 0.5, 0.5, 0.5, 0.5, 0.5]</td>\n",
       "      <td>[1.0, 0.5, 0.5, 0.5]</td>\n",
       "      <td>[9.210340371976184, -0.00019998000266624517, -...</td>\n",
       "      <td>[barium, video, motor, laryng]</td>\n",
       "      <td>1</td>\n",
       "      <td>8</td>\n",
       "    </tr>\n",
       "    <tr>\n",
       "      <th>1165</th>\n",
       "      <td>99912</td>\n",
       "      <td>[[dni, dnr]]</td>\n",
       "      <td>[0.6555555555555556]</td>\n",
       "      <td>[0.7722222222222223, 0.6555555555555556]</td>\n",
       "      <td>[1.220462938379151, 0.6432599589753735]</td>\n",
       "      <td>[dnr, dni]</td>\n",
       "      <td>1</td>\n",
       "      <td>226</td>\n",
       "    </tr>\n",
       "    <tr>\n",
       "      <th>1166</th>\n",
       "      <td>99937</td>\n",
       "      <td>[]</td>\n",
       "      <td>[]</td>\n",
       "      <td>[1.0]</td>\n",
       "      <td>[9.210340371976184]</td>\n",
       "      <td>[habitu]</td>\n",
       "      <td>1</td>\n",
       "      <td>6</td>\n",
       "    </tr>\n",
       "  </tbody>\n",
       "</table>\n",
       "<p>1167 rows × 8 columns</p>\n",
       "</div>"
      ],
      "text/plain": [
       "      patient_id                                       patient_cooc  \\\n",
       "0             68                                  [[ambul, commod]]   \n",
       "1             85                                                 []   \n",
       "2             94                                                 []   \n",
       "3            165                                                 []   \n",
       "4            211                                                 []   \n",
       "...          ...                                                ...   \n",
       "1162       99560                                                 []   \n",
       "1163       99647                                                 []   \n",
       "1164       99781  [[barium, video], [motor, barium], [laryng, ba...   \n",
       "1165       99912                                       [[dni, dnr]]   \n",
       "1166       99937                                                 []   \n",
       "\n",
       "                         cooc_minsup  \\\n",
       "0                            [0.375]   \n",
       "1                                 []   \n",
       "2                                 []   \n",
       "3                                 []   \n",
       "4                                 []   \n",
       "...                              ...   \n",
       "1162                              []   \n",
       "1163                              []   \n",
       "1164  [0.5, 0.5, 0.5, 0.5, 0.5, 0.5]   \n",
       "1165            [0.6555555555555556]   \n",
       "1166                              []   \n",
       "\n",
       "                                  cooc_feature  \\\n",
       "0                                   [0.5, 0.5]   \n",
       "1                                        [1.0]   \n",
       "2                                           []   \n",
       "3                                        [1.0]   \n",
       "4                                           []   \n",
       "...                                        ...   \n",
       "1162                                [0.5, 0.5]   \n",
       "1163  [0.3181818181818182, 0.3181818181818182]   \n",
       "1164                      [1.0, 0.5, 0.5, 0.5]   \n",
       "1165  [0.7722222222222223, 0.6555555555555556]   \n",
       "1166                                     [1.0]   \n",
       "\n",
       "                                          log_odd_ratio  \\\n",
       "0     [-0.00019998000266624517, -0.00019998000266624...   \n",
       "1                                   [9.210340371976184]   \n",
       "2                                                    []   \n",
       "3                                   [9.210340371976184]   \n",
       "4                                                    []   \n",
       "...                                                 ...   \n",
       "1162  [-0.00019998000266624517, -0.00019998000266624...   \n",
       "1163         [-0.7622867079590595, -0.7622867079590595]   \n",
       "1164  [9.210340371976184, -0.00019998000266624517, -...   \n",
       "1165            [1.220462938379151, 0.6432599589753735]   \n",
       "1166                                [9.210340371976184]   \n",
       "\n",
       "                    cooc_feature_idx  label  note_cnt  \n",
       "0                    [commod, ambul]      1        18  \n",
       "1                              [lat]      1         8  \n",
       "2                                 []      1       100  \n",
       "3                           [habitu]      1         2  \n",
       "4                                 []      1        24  \n",
       "...                              ...    ...       ...  \n",
       "1162                    [lat, among]      1        12  \n",
       "1163              [deterior, levoph]      1        58  \n",
       "1164  [barium, video, motor, laryng]      1         8  \n",
       "1165                      [dnr, dni]      1       226  \n",
       "1166                        [habitu]      1         6  \n",
       "\n",
       "[1167 rows x 8 columns]"
      ]
     },
     "execution_count": 49,
     "metadata": {},
     "output_type": "execute_result"
    }
   ],
   "source": [
    "pneumonia_alive_cooc_df"
   ]
  },
  {
   "cell_type": "code",
   "execution_count": 50,
   "metadata": {},
   "outputs": [
    {
     "name": "stdout",
     "output_type": "stream",
     "text": [
      "381\n"
     ]
    }
   ],
   "source": [
    "cnt_ = 0\n",
    "for i, (index, row) in enumerate(pneumonia_alive_cooc_df.iterrows()):\n",
    "    if row['patient_cooc']:\n",
    "        cnt_ += 1\n",
    "print(cnt_)\n",
    "# 763 min_sup = 0.1\n",
    "# 230 min_sup = 0.4\n",
    "# 381 min_sup = 0.3"
   ]
  },
  {
   "cell_type": "code",
   "execution_count": null,
   "metadata": {},
   "outputs": [],
   "source": []
  },
  {
   "cell_type": "code",
   "execution_count": null,
   "metadata": {},
   "outputs": [],
   "source": []
  },
  {
   "cell_type": "code",
   "execution_count": null,
   "metadata": {},
   "outputs": [],
   "source": []
  },
  {
   "cell_type": "markdown",
   "metadata": {},
   "source": [
    "### Train the model"
   ]
  },
  {
   "cell_type": "code",
   "execution_count": 51,
   "metadata": {},
   "outputs": [],
   "source": [
    "import pandas as pd\n",
    "import numpy as np\n",
    "\n",
    "import stellargraph as sg\n",
    "from stellargraph.mapper import PaddedGraphGenerator\n",
    "from stellargraph.layer import GCNSupervisedGraphClassification\n",
    "from stellargraph import StellarGraph\n",
    "\n",
    "from stellargraph import datasets\n",
    "\n",
    "from sklearn import model_selection\n",
    "from IPython.display import display, HTML\n",
    "\n",
    "from tensorflow.keras import Model\n",
    "from tensorflow.keras.optimizers import Adam\n",
    "from tensorflow.keras.layers import Dense\n",
    "from tensorflow.keras.losses import binary_crossentropy\n",
    "from tensorflow.keras.callbacks import EarlyStopping\n",
    "import tensorflow as tf\n",
    "import matplotlib.pyplot as plt"
   ]
  },
  {
   "cell_type": "code",
   "execution_count": 52,
   "metadata": {
    "scrolled": true
   },
   "outputs": [
    {
     "name": "stdout",
     "output_type": "stream",
     "text": [
      "[name: \"/device:CPU:0\"\n",
      "device_type: \"CPU\"\n",
      "memory_limit: 268435456\n",
      "locality {\n",
      "}\n",
      "incarnation: 394591261948392391\n",
      ", name: \"/device:XLA_CPU:0\"\n",
      "device_type: \"XLA_CPU\"\n",
      "memory_limit: 17179869184\n",
      "locality {\n",
      "}\n",
      "incarnation: 14632845755010275782\n",
      "physical_device_desc: \"device: XLA_CPU device\"\n",
      ", name: \"/device:XLA_GPU:0\"\n",
      "device_type: \"XLA_GPU\"\n",
      "memory_limit: 17179869184\n",
      "locality {\n",
      "}\n",
      "incarnation: 14330001989416051448\n",
      "physical_device_desc: \"device: XLA_GPU device\"\n",
      ", name: \"/device:XLA_GPU:1\"\n",
      "device_type: \"XLA_GPU\"\n",
      "memory_limit: 17179869184\n",
      "locality {\n",
      "}\n",
      "incarnation: 12434637701264502012\n",
      "physical_device_desc: \"device: XLA_GPU device\"\n",
      ", name: \"/device:XLA_GPU:2\"\n",
      "device_type: \"XLA_GPU\"\n",
      "memory_limit: 17179869184\n",
      "locality {\n",
      "}\n",
      "incarnation: 14755840736867358689\n",
      "physical_device_desc: \"device: XLA_GPU device\"\n",
      ", name: \"/device:XLA_GPU:3\"\n",
      "device_type: \"XLA_GPU\"\n",
      "memory_limit: 17179869184\n",
      "locality {\n",
      "}\n",
      "incarnation: 17550518720562485946\n",
      "physical_device_desc: \"device: XLA_GPU device\"\n",
      "]\n"
     ]
    }
   ],
   "source": [
    "# https://medium.com/@kegui/how-do-i-know-i-am-running-keras-model-on-gpu-a9cdcc24f986\n",
    "from tensorflow.python.client import device_lib\n",
    "print(device_lib.list_local_devices())"
   ]
  },
  {
   "cell_type": "code",
   "execution_count": 53,
   "metadata": {},
   "outputs": [
    {
     "name": "stdout",
     "output_type": "stream",
     "text": [
      "Num GPUs Available:  0\n"
     ]
    }
   ],
   "source": [
    "import tensorflow as tf\n",
    "print(\"Num GPUs Available: \", len(tf.config.experimental.list_physical_devices('GPU')))\n",
    "\n"
   ]
  },
  {
   "cell_type": "code",
   "execution_count": 54,
   "metadata": {},
   "outputs": [],
   "source": [
    "gpus = tf.config.experimental.list_physical_devices('GPU')\n",
    "if gpus:\n",
    "  # Restrict TensorFlow to only use the first GPU\n",
    "  try:\n",
    "    tf.config.experimental.set_visible_devices(gpus[1], 'GPU')\n",
    "    logical_gpus = tf.config.experimental.list_logical_devices('GPU')\n",
    "    print(len(gpus), \"Physical GPUs,\", len(logical_gpus), \"Logical GPU\")\n",
    "  except RuntimeError as e:\n",
    "    # Visible devices must be set before GPUs have been initialized\n",
    "    print(e)"
   ]
  },
  {
   "cell_type": "markdown",
   "metadata": {},
   "source": [
    "### Load the data"
   ]
  },
  {
   "cell_type": "code",
   "execution_count": 95,
   "metadata": {
    "scrolled": true
   },
   "outputs": [
    {
     "name": "stdout",
     "output_type": "stream",
     "text": [
      "graphs: 94, labels: 94\n",
      "graphs: 475, labels: 475\n"
     ]
    }
   ],
   "source": [
    "from stellargraph import StellarGraph\n",
    "\n",
    "def create_graph_list(pd_df):\n",
    "    graphs = []\n",
    "    labels = []\n",
    "\n",
    "    for index, row in pd_df.iterrows():\n",
    "        if row['patient_cooc']:\n",
    "            source = []\n",
    "            target = []\n",
    "            edge_feature = []\n",
    "            \n",
    "            feature_node = []\n",
    "            feature_idx = []\n",
    "            \n",
    "            for cooc in row['patient_cooc']:\n",
    "                source.append(cooc[0])\n",
    "                target.append(cooc[1])\n",
    "                \n",
    "            for feature in row['cooc_minsup']:\n",
    "                edge_feature.append(feature)\n",
    "            \n",
    "            # Node feature and index\n",
    "            for node_feature in row['log_odd_ratio']:\n",
    "#                 feature_node.append(node_feature)\n",
    "                feature_node.append(1)\n",
    "                \n",
    "            for node_idx in row['cooc_feature_idx']:\n",
    "                feature_idx.append(node_idx)\n",
    "\n",
    "            square_node_data = pd.DataFrame({\"feature_src\":feature_node}, index=feature_idx)\n",
    "            square_edges = pd.DataFrame({\"source\": source, \"target\": target, \"weight\":edge_feature})\n",
    "          \n",
    "            square = StellarGraph(square_node_data, square_edges)\n",
    "            graphs.append(square)\n",
    "            labels.append(row['label'])\n",
    "\n",
    "            \n",
    "            \n",
    "    return graphs, labels\n",
    "\n",
    "graphs = []\n",
    "labels = []\n",
    "features = []\n",
    "\n",
    "graph_1, label_1 = create_graph_list(pneumonia_dead_cooc_df)\n",
    "graph_2, label_2 = create_graph_list(pneumonia_alive_cooc_df)\n",
    "\n",
    "graphs.extend(graph_1)\n",
    "labels.extend(label_1)\n",
    "print(f\"graphs: {len(graphs)}, labels: {len(labels)}\")\n",
    "graphs.extend(graph_2)\n",
    "labels.extend(label_2)\n",
    "print(f\"graphs: {len(graphs)}, labels: {len(labels)}\")"
   ]
  },
  {
   "cell_type": "code",
   "execution_count": 96,
   "metadata": {},
   "outputs": [
    {
     "name": "stdout",
     "output_type": "stream",
     "text": [
      "StellarGraph: Undirected multigraph\n",
      " Nodes: 17, Edges: 93\n",
      "\n",
      " Node types:\n",
      "  default: [17]\n",
      "    Features: float32 vector, length 1\n",
      "    Edge types: default-default->default\n",
      "\n",
      " Edge types:\n",
      "    default-default->default: [93]\n",
      "        Weights: range=[0.333333, 0.833333], mean=0.358423, std=0.0917695\n",
      "        Features: none\n"
     ]
    }
   ],
   "source": [
    "print(graphs[0].info())"
   ]
  },
  {
   "cell_type": "code",
   "execution_count": 57,
   "metadata": {},
   "outputs": [
    {
     "name": "stdout",
     "output_type": "stream",
     "text": [
      "StellarGraph: Undirected multigraph\n",
      " Nodes: 2, Edges: 1\n",
      "\n",
      " Node types:\n",
      "  default: [2]\n",
      "    Features: float32 vector, length 1\n",
      "    Edge types: default-default->default\n",
      "\n",
      " Edge types:\n",
      "    default-default->default: [1]\n",
      "        Weights: all 1 (default)\n",
      "        Features: none\n"
     ]
    }
   ],
   "source": [
    "print(graphs[1].info())"
   ]
  },
  {
   "cell_type": "code",
   "execution_count": 97,
   "metadata": {
    "scrolled": true
   },
   "outputs": [
    {
     "data": {
      "text/html": [
       "<div>\n",
       "<style scoped>\n",
       "    .dataframe tbody tr th:only-of-type {\n",
       "        vertical-align: middle;\n",
       "    }\n",
       "\n",
       "    .dataframe tbody tr th {\n",
       "        vertical-align: top;\n",
       "    }\n",
       "\n",
       "    .dataframe thead th {\n",
       "        text-align: right;\n",
       "    }\n",
       "</style>\n",
       "<table border=\"1\" class=\"dataframe\">\n",
       "  <thead>\n",
       "    <tr style=\"text-align: right;\">\n",
       "      <th></th>\n",
       "      <th>nodes</th>\n",
       "      <th>edges</th>\n",
       "    </tr>\n",
       "  </thead>\n",
       "  <tbody>\n",
       "    <tr>\n",
       "      <th>count</th>\n",
       "      <td>475.0</td>\n",
       "      <td>475.0</td>\n",
       "    </tr>\n",
       "    <tr>\n",
       "      <th>mean</th>\n",
       "      <td>3.7</td>\n",
       "      <td>3.8</td>\n",
       "    </tr>\n",
       "    <tr>\n",
       "      <th>std</th>\n",
       "      <td>1.9</td>\n",
       "      <td>6.7</td>\n",
       "    </tr>\n",
       "    <tr>\n",
       "      <th>min</th>\n",
       "      <td>2.0</td>\n",
       "      <td>1.0</td>\n",
       "    </tr>\n",
       "    <tr>\n",
       "      <th>25%</th>\n",
       "      <td>2.0</td>\n",
       "      <td>1.0</td>\n",
       "    </tr>\n",
       "    <tr>\n",
       "      <th>50%</th>\n",
       "      <td>3.0</td>\n",
       "      <td>1.0</td>\n",
       "    </tr>\n",
       "    <tr>\n",
       "      <th>75%</th>\n",
       "      <td>4.0</td>\n",
       "      <td>3.0</td>\n",
       "    </tr>\n",
       "    <tr>\n",
       "      <th>max</th>\n",
       "      <td>17.0</td>\n",
       "      <td>93.0</td>\n",
       "    </tr>\n",
       "  </tbody>\n",
       "</table>\n",
       "</div>"
      ],
      "text/plain": [
       "       nodes  edges\n",
       "count  475.0  475.0\n",
       "mean     3.7    3.8\n",
       "std      1.9    6.7\n",
       "min      2.0    1.0\n",
       "25%      2.0    1.0\n",
       "50%      3.0    1.0\n",
       "75%      4.0    3.0\n",
       "max     17.0   93.0"
      ]
     },
     "execution_count": 97,
     "metadata": {},
     "output_type": "execute_result"
    }
   ],
   "source": [
    "summary = pd.DataFrame(\n",
    "    [(g.number_of_nodes(), g.number_of_edges()) for g in graphs],\n",
    "    columns=[\"nodes\", \"edges\"],\n",
    ")\n",
    "summary.describe().round(1)"
   ]
  },
  {
   "cell_type": "code",
   "execution_count": 98,
   "metadata": {},
   "outputs": [],
   "source": [
    "graph_labels = pd.Series(labels)"
   ]
  },
  {
   "cell_type": "code",
   "execution_count": 99,
   "metadata": {},
   "outputs": [
    {
     "name": "stdout",
     "output_type": "stream",
     "text": [
      "0     -1\n",
      "1     -1\n",
      "2     -1\n",
      "3     -1\n",
      "4     -1\n",
      "      ..\n",
      "470    1\n",
      "471    1\n",
      "472    1\n",
      "473    1\n",
      "474    1\n",
      "Length: 475, dtype: int64\n"
     ]
    }
   ],
   "source": [
    "print(graph_labels)"
   ]
  },
  {
   "cell_type": "code",
   "execution_count": 100,
   "metadata": {},
   "outputs": [
    {
     "data": {
      "text/html": [
       "<div>\n",
       "<style scoped>\n",
       "    .dataframe tbody tr th:only-of-type {\n",
       "        vertical-align: middle;\n",
       "    }\n",
       "\n",
       "    .dataframe tbody tr th {\n",
       "        vertical-align: top;\n",
       "    }\n",
       "\n",
       "    .dataframe thead th {\n",
       "        text-align: right;\n",
       "    }\n",
       "</style>\n",
       "<table border=\"1\" class=\"dataframe\">\n",
       "  <thead>\n",
       "    <tr style=\"text-align: right;\">\n",
       "      <th></th>\n",
       "      <th>0</th>\n",
       "    </tr>\n",
       "  </thead>\n",
       "  <tbody>\n",
       "    <tr>\n",
       "      <th>1</th>\n",
       "      <td>381</td>\n",
       "    </tr>\n",
       "    <tr>\n",
       "      <th>-1</th>\n",
       "      <td>94</td>\n",
       "    </tr>\n",
       "  </tbody>\n",
       "</table>\n",
       "</div>"
      ],
      "text/plain": [
       "      0\n",
       " 1  381\n",
       "-1   94"
      ]
     },
     "execution_count": 100,
     "metadata": {},
     "output_type": "execute_result"
    }
   ],
   "source": [
    "graph_labels.value_counts().to_frame()"
   ]
  },
  {
   "cell_type": "code",
   "execution_count": 101,
   "metadata": {},
   "outputs": [],
   "source": [
    "graph_labels = pd.get_dummies(graph_labels, drop_first=True)"
   ]
  },
  {
   "cell_type": "code",
   "execution_count": 102,
   "metadata": {},
   "outputs": [
    {
     "name": "stdout",
     "output_type": "stream",
     "text": [
      "<class 'pandas.core.frame.DataFrame'>\n"
     ]
    }
   ],
   "source": [
    "print(type(graph_labels))"
   ]
  },
  {
   "cell_type": "code",
   "execution_count": 103,
   "metadata": {},
   "outputs": [
    {
     "data": {
      "text/html": [
       "<div>\n",
       "<style scoped>\n",
       "    .dataframe tbody tr th:only-of-type {\n",
       "        vertical-align: middle;\n",
       "    }\n",
       "\n",
       "    .dataframe tbody tr th {\n",
       "        vertical-align: top;\n",
       "    }\n",
       "\n",
       "    .dataframe thead th {\n",
       "        text-align: right;\n",
       "    }\n",
       "</style>\n",
       "<table border=\"1\" class=\"dataframe\">\n",
       "  <thead>\n",
       "    <tr style=\"text-align: right;\">\n",
       "      <th></th>\n",
       "      <th>1</th>\n",
       "    </tr>\n",
       "  </thead>\n",
       "  <tbody>\n",
       "    <tr>\n",
       "      <th>0</th>\n",
       "      <td>0</td>\n",
       "    </tr>\n",
       "    <tr>\n",
       "      <th>1</th>\n",
       "      <td>0</td>\n",
       "    </tr>\n",
       "    <tr>\n",
       "      <th>2</th>\n",
       "      <td>0</td>\n",
       "    </tr>\n",
       "    <tr>\n",
       "      <th>3</th>\n",
       "      <td>0</td>\n",
       "    </tr>\n",
       "    <tr>\n",
       "      <th>4</th>\n",
       "      <td>0</td>\n",
       "    </tr>\n",
       "    <tr>\n",
       "      <th>...</th>\n",
       "      <td>...</td>\n",
       "    </tr>\n",
       "    <tr>\n",
       "      <th>470</th>\n",
       "      <td>1</td>\n",
       "    </tr>\n",
       "    <tr>\n",
       "      <th>471</th>\n",
       "      <td>1</td>\n",
       "    </tr>\n",
       "    <tr>\n",
       "      <th>472</th>\n",
       "      <td>1</td>\n",
       "    </tr>\n",
       "    <tr>\n",
       "      <th>473</th>\n",
       "      <td>1</td>\n",
       "    </tr>\n",
       "    <tr>\n",
       "      <th>474</th>\n",
       "      <td>1</td>\n",
       "    </tr>\n",
       "  </tbody>\n",
       "</table>\n",
       "<p>475 rows × 1 columns</p>\n",
       "</div>"
      ],
      "text/plain": [
       "     1\n",
       "0    0\n",
       "1    0\n",
       "2    0\n",
       "3    0\n",
       "4    0\n",
       "..  ..\n",
       "470  1\n",
       "471  1\n",
       "472  1\n",
       "473  1\n",
       "474  1\n",
       "\n",
       "[475 rows x 1 columns]"
      ]
     },
     "execution_count": 103,
     "metadata": {},
     "output_type": "execute_result"
    }
   ],
   "source": [
    "graph_labels"
   ]
  },
  {
   "cell_type": "code",
   "execution_count": 104,
   "metadata": {},
   "outputs": [],
   "source": [
    "generator = PaddedGraphGenerator(graphs=graphs)"
   ]
  },
  {
   "cell_type": "code",
   "execution_count": 105,
   "metadata": {},
   "outputs": [],
   "source": [
    "def create_graph_classification_model(generator):\n",
    "    gc_model = GCNSupervisedGraphClassification(\n",
    "        layer_sizes=[64, 64],\n",
    "        activations=[\"relu\", \"relu\"],\n",
    "        generator=generator,\n",
    "        dropout=0.5,\n",
    "    )\n",
    "    x_inp, x_out = gc_model.in_out_tensors()\n",
    "    predictions = Dense(units=32, activation=\"relu\")(x_out)\n",
    "    predictions = Dense(units=16, activation=\"relu\")(predictions)\n",
    "    predictions = Dense(units=1, activation=\"sigmoid\")(predictions)\n",
    "\n",
    "    # Let's create the Keras model and prepare it for training\n",
    "    model = Model(inputs=x_inp, outputs=predictions)\n",
    "    model.compile(optimizer=Adam(0.005), loss=binary_crossentropy, metrics=[\"acc\"])\n",
    "\n",
    "    return model"
   ]
  },
  {
   "cell_type": "markdown",
   "metadata": {},
   "source": [
    "### Train the model\n",
    "\n",
    "We can now train the model using the model's `fit` method. First, we specify some important training parameters such as the number of training epochs, number of fold for cross validation and the number of time to repeat cross validation."
   ]
  },
  {
   "cell_type": "code",
   "execution_count": 106,
   "metadata": {},
   "outputs": [],
   "source": [
    "epochs = 200  # maximum number of training epochs\n",
    "folds = 10  # the number of folds for k-fold cross validation\n",
    "n_repeats = 5  # the number of repeats for repeated k-fold cross validation"
   ]
  },
  {
   "cell_type": "code",
   "execution_count": 107,
   "metadata": {},
   "outputs": [],
   "source": [
    "es = EarlyStopping(\n",
    "    monitor=\"val_loss\", min_delta=0, patience=25, restore_best_weights=True\n",
    ")"
   ]
  },
  {
   "cell_type": "code",
   "execution_count": 108,
   "metadata": {},
   "outputs": [],
   "source": [
    "def train_fold(model, train_gen, test_gen, es, epochs):\n",
    "    history = model.fit(\n",
    "        train_gen, epochs=epochs, validation_data=test_gen, verbose=0, callbacks=[es],\n",
    "    )\n",
    "    # calculate performance on the test data and return along with history\n",
    "    test_metrics = model.evaluate(test_gen, verbose=0)\n",
    "    test_acc = test_metrics[model.metrics_names.index(\"acc\")]\n",
    "\n",
    "    return history, test_acc"
   ]
  },
  {
   "cell_type": "code",
   "execution_count": 109,
   "metadata": {},
   "outputs": [],
   "source": [
    "def get_generators(train_index, test_index, graph_labels, batch_size):\n",
    "    train_gen = generator.flow(\n",
    "        train_index, targets=graph_labels.iloc[train_index].values, batch_size=batch_size\n",
    "    )\n",
    "    test_gen = generator.flow(\n",
    "        test_index, targets=graph_labels.iloc[test_index].values, batch_size=batch_size\n",
    "    )\n",
    "\n",
    "    return train_gen, test_gen"
   ]
  },
  {
   "cell_type": "code",
   "execution_count": 110,
   "metadata": {
    "scrolled": true
   },
   "outputs": [
    {
     "name": "stdout",
     "output_type": "stream",
     "text": [
      "Training and evaluating on fold 1 out of 50...\n",
      "Training and evaluating on fold 2 out of 50...\n",
      "Training and evaluating on fold 3 out of 50...\n",
      "Training and evaluating on fold 4 out of 50...\n",
      "Training and evaluating on fold 5 out of 50...\n",
      "Training and evaluating on fold 6 out of 50...\n",
      "Training and evaluating on fold 7 out of 50...\n",
      "Training and evaluating on fold 8 out of 50...\n",
      "Training and evaluating on fold 9 out of 50...\n",
      "Training and evaluating on fold 10 out of 50...\n",
      "Training and evaluating on fold 11 out of 50...\n",
      "Training and evaluating on fold 12 out of 50...\n",
      "Training and evaluating on fold 13 out of 50...\n",
      "Training and evaluating on fold 14 out of 50...\n",
      "Training and evaluating on fold 15 out of 50...\n",
      "Training and evaluating on fold 16 out of 50...\n",
      "Training and evaluating on fold 17 out of 50...\n",
      "Training and evaluating on fold 18 out of 50...\n",
      "Training and evaluating on fold 19 out of 50...\n",
      "Training and evaluating on fold 20 out of 50...\n",
      "Training and evaluating on fold 21 out of 50...\n",
      "Training and evaluating on fold 22 out of 50...\n",
      "Training and evaluating on fold 23 out of 50...\n",
      "Training and evaluating on fold 24 out of 50...\n",
      "Training and evaluating on fold 25 out of 50...\n",
      "Training and evaluating on fold 26 out of 50...\n",
      "Training and evaluating on fold 27 out of 50...\n",
      "Training and evaluating on fold 28 out of 50...\n",
      "Training and evaluating on fold 29 out of 50...\n",
      "Training and evaluating on fold 30 out of 50...\n",
      "Training and evaluating on fold 31 out of 50...\n",
      "Training and evaluating on fold 32 out of 50...\n",
      "Training and evaluating on fold 33 out of 50...\n",
      "Training and evaluating on fold 34 out of 50...\n",
      "Training and evaluating on fold 35 out of 50...\n",
      "Training and evaluating on fold 36 out of 50...\n",
      "Training and evaluating on fold 37 out of 50...\n",
      "Training and evaluating on fold 38 out of 50...\n",
      "Training and evaluating on fold 39 out of 50...\n",
      "Training and evaluating on fold 40 out of 50...\n",
      "Training and evaluating on fold 41 out of 50...\n",
      "Training and evaluating on fold 42 out of 50...\n",
      "Training and evaluating on fold 43 out of 50...\n",
      "Training and evaluating on fold 44 out of 50...\n",
      "Training and evaluating on fold 45 out of 50...\n",
      "Training and evaluating on fold 46 out of 50...\n",
      "Training and evaluating on fold 47 out of 50...\n",
      "Training and evaluating on fold 48 out of 50...\n",
      "Training and evaluating on fold 49 out of 50...\n",
      "Training and evaluating on fold 50 out of 50...\n"
     ]
    }
   ],
   "source": [
    "test_accs = []\n",
    "\n",
    "stratified_folds = model_selection.RepeatedStratifiedKFold(\n",
    "    n_splits=folds, n_repeats=n_repeats\n",
    ").split(graph_labels, graph_labels)\n",
    "\n",
    "for i, (train_index, test_index) in enumerate(stratified_folds):\n",
    "    print(f\"Training and evaluating on fold {i+1} out of {folds * n_repeats}...\")\n",
    "    train_gen, test_gen = get_generators(\n",
    "        train_index, test_index, graph_labels, batch_size=30\n",
    "    )\n",
    "\n",
    "    model = create_graph_classification_model(generator)\n",
    "\n",
    "    history, acc = train_fold(model, train_gen, test_gen, es, epochs)\n",
    "\n",
    "    test_accs.append(acc)"
   ]
  },
  {
   "cell_type": "markdown",
   "metadata": {},
   "source": [
    "### Edge weights included"
   ]
  },
  {
   "cell_type": "code",
   "execution_count": 111,
   "metadata": {},
   "outputs": [
    {
     "name": "stdout",
     "output_type": "stream",
     "text": [
      "Accuracy over all folds mean: 80.2% and std: 0.87%\n"
     ]
    }
   ],
   "source": [
    "print(f\"Accuracy over all folds mean: {np.mean(test_accs)*100:.3}% and std: {np.std(test_accs)*100:.2}%\")"
   ]
  },
  {
   "cell_type": "code",
   "execution_count": 112,
   "metadata": {},
   "outputs": [
    {
     "data": {
      "text/plain": [
       "Text(0, 0.5, 'Count')"
      ]
     },
     "execution_count": 112,
     "metadata": {},
     "output_type": "execute_result"
    },
    {
     "data": {
      "image/png": "[encoded data removed]",
      "text/plain": [
       "<Figure size 576x432 with 1 Axes>"
      ]
     },
     "metadata": {
      "needs_background": "light"
     },
     "output_type": "display_data"
    }
   ],
   "source": [
    "plt.figure(figsize=(8, 6))\n",
    "plt.hist(test_accs)\n",
    "plt.xlabel(\"Accuracy\")\n",
    "plt.ylabel(\"Count\")"
   ]
  },
  {
   "cell_type": "markdown",
   "metadata": {},
   "source": [
    "### Same features for nodes (all 1s)"
   ]
  },
  {
   "cell_type": "code",
   "execution_count": 93,
   "metadata": {},
   "outputs": [
    {
     "name": "stdout",
     "output_type": "stream",
     "text": [
      "Accuracy over all folds mean: 80.2% and std: 0.87%\n"
     ]
    }
   ],
   "source": [
    "print(f\"Accuracy over all folds mean: {np.mean(test_accs)*100:.3}% and std: {np.std(test_accs)*100:.2}%\")"
   ]
  },
  {
   "cell_type": "code",
   "execution_count": 94,
   "metadata": {},
   "outputs": [
    {
     "data": {
      "text/plain": [
       "Text(0, 0.5, 'Count')"
      ]
     },
     "execution_count": 94,
     "metadata": {},
     "output_type": "execute_result"
    },
    {
     "data": {
      "image/png": "[encoded data removed]",
      "text/plain": [
       "<Figure size 576x432 with 1 Axes>"
      ]
     },
     "metadata": {
      "needs_background": "light"
     },
     "output_type": "display_data"
    }
   ],
   "source": [
    "plt.figure(figsize=(8, 6))\n",
    "plt.hist(test_accs)\n",
    "plt.xlabel(\"Accuracy\")\n",
    "plt.ylabel(\"Count\")"
   ]
  },
  {
   "cell_type": "code",
   "execution_count": null,
   "metadata": {},
   "outputs": [],
   "source": []
  },
  {
   "cell_type": "markdown",
   "metadata": {},
   "source": [
    "### Different features for nodes (log odds)"
   ]
  },
  {
   "cell_type": "code",
   "execution_count": 72,
   "metadata": {},
   "outputs": [
    {
     "name": "stdout",
     "output_type": "stream",
     "text": [
      "Accuracy over all folds mean: 80.2% and std: 0.87%\n"
     ]
    }
   ],
   "source": [
    "print(f\"Accuracy over all folds mean: {np.mean(test_accs)*100:.3}% and std: {np.std(test_accs)*100:.2}%\")"
   ]
  },
  {
   "cell_type": "code",
   "execution_count": 73,
   "metadata": {},
   "outputs": [
    {
     "data": {
      "text/plain": [
       "Text(0, 0.5, 'Count')"
      ]
     },
     "execution_count": 73,
     "metadata": {},
     "output_type": "execute_result"
    },
    {
     "data": {
      "image/png": "[encoded data removed]",
      "text/plain": [
       "<Figure size 576x432 with 1 Axes>"
      ]
     },
     "metadata": {
      "needs_background": "light"
     },
     "output_type": "display_data"
    }
   ],
   "source": [
    "plt.figure(figsize=(8, 6))\n",
    "plt.hist(test_accs)\n",
    "plt.xlabel(\"Accuracy\")\n",
    "plt.ylabel(\"Count\")"
   ]
  },
  {
   "cell_type": "code",
   "execution_count": null,
   "metadata": {},
   "outputs": [],
   "source": []
  }
 ],
 "metadata": {
  "kernelspec": {
   "display_name": "Python 3",
   "language": "python",
   "name": "python3"
  },
  "language_info": {
   "codemirror_mode": {
    "name": "ipython",
    "version": 3
   },
   "file_extension": ".py",
   "mimetype": "text/x-python",
   "name": "python",
   "nbconvert_exporter": "python",
   "pygments_lexer": "ipython3",
   "version": "3.7.6"
  }
 },
 "nbformat": 4,
 "nbformat_minor": 4
}
