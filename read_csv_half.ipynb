{
 "cells": [
  {
   "cell_type": "markdown",
   "metadata": {},
   "source": [
    "### Data extraction\n",
    "Extract data from MIMIC-III"
   ]
  },
  {
   "cell_type": "code",
   "execution_count": 1,
   "metadata": {},
   "outputs": [
    {
     "data": {
      "text/html": [
       "        <script type=\"text/javascript\">\n",
       "        window.PlotlyConfig = {MathJaxConfig: 'local'};\n",
       "        if (window.MathJax) {MathJax.Hub.Config({SVG: {font: \"STIX-Web\"}});}\n",
       "        if (typeof require !== 'undefined') {\n",
       "        require.undef(\"plotly\");\n",
       "        requirejs.config({\n",
       "            paths: {\n",
       "                'plotly': ['https://cdn.plot.ly/plotly-latest.min']\n",
       "            }\n",
       "        });\n",
       "        require(['plotly'], function(Plotly) {\n",
       "            window._Plotly = Plotly;\n",
       "        });\n",
       "        }\n",
       "        </script>\n",
       "        "
      ]
     },
     "metadata": {},
     "output_type": "display_data"
    }
   ],
   "source": [
    "import time\n",
    "import numpy as np \n",
    "import pandas as pd\n",
    "import matplotlib.pyplot as plt\n",
    "import seaborn as sns\n",
    "from tqdm import tqdm\n",
    "\n",
    "# import re\n",
    "\n",
    "# import plotly.graph_objs as go\n",
    "# import plotly.plotly as py\n",
    "import cufflinks\n",
    "# from IPython.core.interactiveshell import InteractiveShell\n",
    "# import plotly.figure_factory as ff\n",
    "# InteractiveShell.ast_node_interactivity = 'all'\n",
    "# from plotly.offline import iplot\n",
    "cufflinks.go_offline()\n",
    "cufflinks.set_config_file(world_readable=True, theme='pearl')"
   ]
  },
  {
   "cell_type": "code",
   "execution_count": 2,
   "metadata": {},
   "outputs": [
    {
     "name": "stderr",
     "output_type": "stream",
     "text": [
      "/data/home/evgenii/anaconda3/lib/python3.7/site-packages/IPython/core/interactiveshell.py:3063: DtypeWarning:\n",
      "\n",
      "Columns (4,5) have mixed types.Specify dtype option on import or set low_memory=False.\n",
      "\n"
     ]
    },
    {
     "name": "stdout",
     "output_type": "stream",
     "text": [
      "38.10100507736206\n"
     ]
    }
   ],
   "source": [
    "# Import pandas \n",
    "import pandas as pd \n",
    "\n",
    "start = time.time()\n",
    "# reading csv file \n",
    "admissions_df = pd.read_csv(\"../MIMIC-III/ADMISSIONS.csv\")\n",
    "noteevents_df = pd.read_csv(\"../MIMIC-III/NOTEEVENTS.csv\") \n",
    "end = time.time()\n",
    "print(end - start)\n"
   ]
  },
  {
   "cell_type": "code",
   "execution_count": 3,
   "metadata": {},
   "outputs": [],
   "source": [
    "# diagnosis = df.DIAGNOSIS.unique()\n",
    "# #PNEUMONIA\n",
    "# for i in diagnosis:\n",
    "#     print(f\"[{i}]\")\n",
    "# data = df.copy()\n",
    "# data.info()\n",
    "\n",
    "# pneumonia_df = data.loc[df['DIAGNOSIS'] == 'PNEUMONIA']\n",
    "# pneumonia_df.info()"
   ]
  },
  {
   "cell_type": "code",
   "execution_count": 4,
   "metadata": {
    "scrolled": true
   },
   "outputs": [
    {
     "data": {
      "text/html": [
       "<div>\n",
       "<style scoped>\n",
       "    .dataframe tbody tr th:only-of-type {\n",
       "        vertical-align: middle;\n",
       "    }\n",
       "\n",
       "    .dataframe tbody tr th {\n",
       "        vertical-align: top;\n",
       "    }\n",
       "\n",
       "    .dataframe thead th {\n",
       "        text-align: right;\n",
       "    }\n",
       "</style>\n",
       "<table border=\"1\" class=\"dataframe\">\n",
       "  <thead>\n",
       "    <tr style=\"text-align: right;\">\n",
       "      <th></th>\n",
       "      <th>ROW_ID</th>\n",
       "      <th>SUBJECT_ID</th>\n",
       "      <th>HADM_ID</th>\n",
       "      <th>ADMITTIME</th>\n",
       "      <th>DISCHTIME</th>\n",
       "      <th>DEATHTIME</th>\n",
       "      <th>ADMISSION_TYPE</th>\n",
       "      <th>ADMISSION_LOCATION</th>\n",
       "      <th>DISCHARGE_LOCATION</th>\n",
       "      <th>INSURANCE</th>\n",
       "      <th>LANGUAGE</th>\n",
       "      <th>RELIGION</th>\n",
       "      <th>MARITAL_STATUS</th>\n",
       "      <th>ETHNICITY</th>\n",
       "      <th>EDREGTIME</th>\n",
       "      <th>EDOUTTIME</th>\n",
       "      <th>DIAGNOSIS</th>\n",
       "      <th>HOSPITAL_EXPIRE_FLAG</th>\n",
       "      <th>HAS_CHARTEVENTS_DATA</th>\n",
       "    </tr>\n",
       "  </thead>\n",
       "  <tbody>\n",
       "    <tr>\n",
       "      <th>0</th>\n",
       "      <td>21</td>\n",
       "      <td>22</td>\n",
       "      <td>165315</td>\n",
       "      <td>2196-04-09 12:26:00</td>\n",
       "      <td>2196-04-10 15:54:00</td>\n",
       "      <td>NaN</td>\n",
       "      <td>EMERGENCY</td>\n",
       "      <td>EMERGENCY ROOM ADMIT</td>\n",
       "      <td>DISC-TRAN CANCER/CHLDRN H</td>\n",
       "      <td>Private</td>\n",
       "      <td>NaN</td>\n",
       "      <td>UNOBTAINABLE</td>\n",
       "      <td>MARRIED</td>\n",
       "      <td>WHITE</td>\n",
       "      <td>2196-04-09 10:06:00</td>\n",
       "      <td>2196-04-09 13:24:00</td>\n",
       "      <td>BENZODIAZEPINE OVERDOSE</td>\n",
       "      <td>0</td>\n",
       "      <td>1</td>\n",
       "    </tr>\n",
       "    <tr>\n",
       "      <th>1</th>\n",
       "      <td>22</td>\n",
       "      <td>23</td>\n",
       "      <td>152223</td>\n",
       "      <td>2153-09-03 07:15:00</td>\n",
       "      <td>2153-09-08 19:10:00</td>\n",
       "      <td>NaN</td>\n",
       "      <td>ELECTIVE</td>\n",
       "      <td>PHYS REFERRAL/NORMAL DELI</td>\n",
       "      <td>HOME HEALTH CARE</td>\n",
       "      <td>Medicare</td>\n",
       "      <td>NaN</td>\n",
       "      <td>CATHOLIC</td>\n",
       "      <td>MARRIED</td>\n",
       "      <td>WHITE</td>\n",
       "      <td>NaN</td>\n",
       "      <td>NaN</td>\n",
       "      <td>CORONARY ARTERY DISEASE\\CORONARY ARTERY BYPASS...</td>\n",
       "      <td>0</td>\n",
       "      <td>1</td>\n",
       "    </tr>\n",
       "    <tr>\n",
       "      <th>2</th>\n",
       "      <td>23</td>\n",
       "      <td>23</td>\n",
       "      <td>124321</td>\n",
       "      <td>2157-10-18 19:34:00</td>\n",
       "      <td>2157-10-25 14:00:00</td>\n",
       "      <td>NaN</td>\n",
       "      <td>EMERGENCY</td>\n",
       "      <td>TRANSFER FROM HOSP/EXTRAM</td>\n",
       "      <td>HOME HEALTH CARE</td>\n",
       "      <td>Medicare</td>\n",
       "      <td>ENGL</td>\n",
       "      <td>CATHOLIC</td>\n",
       "      <td>MARRIED</td>\n",
       "      <td>WHITE</td>\n",
       "      <td>NaN</td>\n",
       "      <td>NaN</td>\n",
       "      <td>BRAIN MASS</td>\n",
       "      <td>0</td>\n",
       "      <td>1</td>\n",
       "    </tr>\n",
       "    <tr>\n",
       "      <th>3</th>\n",
       "      <td>24</td>\n",
       "      <td>24</td>\n",
       "      <td>161859</td>\n",
       "      <td>2139-06-06 16:14:00</td>\n",
       "      <td>2139-06-09 12:48:00</td>\n",
       "      <td>NaN</td>\n",
       "      <td>EMERGENCY</td>\n",
       "      <td>TRANSFER FROM HOSP/EXTRAM</td>\n",
       "      <td>HOME</td>\n",
       "      <td>Private</td>\n",
       "      <td>NaN</td>\n",
       "      <td>PROTESTANT QUAKER</td>\n",
       "      <td>SINGLE</td>\n",
       "      <td>WHITE</td>\n",
       "      <td>NaN</td>\n",
       "      <td>NaN</td>\n",
       "      <td>INTERIOR MYOCARDIAL INFARCTION</td>\n",
       "      <td>0</td>\n",
       "      <td>1</td>\n",
       "    </tr>\n",
       "    <tr>\n",
       "      <th>4</th>\n",
       "      <td>25</td>\n",
       "      <td>25</td>\n",
       "      <td>129635</td>\n",
       "      <td>2160-11-02 02:06:00</td>\n",
       "      <td>2160-11-05 14:55:00</td>\n",
       "      <td>NaN</td>\n",
       "      <td>EMERGENCY</td>\n",
       "      <td>EMERGENCY ROOM ADMIT</td>\n",
       "      <td>HOME</td>\n",
       "      <td>Private</td>\n",
       "      <td>NaN</td>\n",
       "      <td>UNOBTAINABLE</td>\n",
       "      <td>MARRIED</td>\n",
       "      <td>WHITE</td>\n",
       "      <td>2160-11-02 01:01:00</td>\n",
       "      <td>2160-11-02 04:27:00</td>\n",
       "      <td>ACUTE CORONARY SYNDROME</td>\n",
       "      <td>0</td>\n",
       "      <td>1</td>\n",
       "    </tr>\n",
       "    <tr>\n",
       "      <th>...</th>\n",
       "      <td>...</td>\n",
       "      <td>...</td>\n",
       "      <td>...</td>\n",
       "      <td>...</td>\n",
       "      <td>...</td>\n",
       "      <td>...</td>\n",
       "      <td>...</td>\n",
       "      <td>...</td>\n",
       "      <td>...</td>\n",
       "      <td>...</td>\n",
       "      <td>...</td>\n",
       "      <td>...</td>\n",
       "      <td>...</td>\n",
       "      <td>...</td>\n",
       "      <td>...</td>\n",
       "      <td>...</td>\n",
       "      <td>...</td>\n",
       "      <td>...</td>\n",
       "      <td>...</td>\n",
       "    </tr>\n",
       "    <tr>\n",
       "      <th>58971</th>\n",
       "      <td>58594</td>\n",
       "      <td>98800</td>\n",
       "      <td>191113</td>\n",
       "      <td>2131-03-30 21:13:00</td>\n",
       "      <td>2131-04-02 15:02:00</td>\n",
       "      <td>NaN</td>\n",
       "      <td>EMERGENCY</td>\n",
       "      <td>CLINIC REFERRAL/PREMATURE</td>\n",
       "      <td>HOME</td>\n",
       "      <td>Private</td>\n",
       "      <td>ENGL</td>\n",
       "      <td>NOT SPECIFIED</td>\n",
       "      <td>SINGLE</td>\n",
       "      <td>WHITE</td>\n",
       "      <td>2131-03-30 19:44:00</td>\n",
       "      <td>2131-03-30 22:41:00</td>\n",
       "      <td>TRAUMA</td>\n",
       "      <td>0</td>\n",
       "      <td>1</td>\n",
       "    </tr>\n",
       "    <tr>\n",
       "      <th>58972</th>\n",
       "      <td>58595</td>\n",
       "      <td>98802</td>\n",
       "      <td>101071</td>\n",
       "      <td>2151-03-05 20:00:00</td>\n",
       "      <td>2151-03-06 09:10:00</td>\n",
       "      <td>2151-03-06 09:10:00</td>\n",
       "      <td>EMERGENCY</td>\n",
       "      <td>CLINIC REFERRAL/PREMATURE</td>\n",
       "      <td>DEAD/EXPIRED</td>\n",
       "      <td>Medicare</td>\n",
       "      <td>ENGL</td>\n",
       "      <td>CATHOLIC</td>\n",
       "      <td>WIDOWED</td>\n",
       "      <td>WHITE</td>\n",
       "      <td>2151-03-05 17:23:00</td>\n",
       "      <td>2151-03-05 21:06:00</td>\n",
       "      <td>SAH</td>\n",
       "      <td>1</td>\n",
       "      <td>1</td>\n",
       "    </tr>\n",
       "    <tr>\n",
       "      <th>58973</th>\n",
       "      <td>58596</td>\n",
       "      <td>98805</td>\n",
       "      <td>122631</td>\n",
       "      <td>2200-09-12 07:15:00</td>\n",
       "      <td>2200-09-20 12:08:00</td>\n",
       "      <td>NaN</td>\n",
       "      <td>ELECTIVE</td>\n",
       "      <td>PHYS REFERRAL/NORMAL DELI</td>\n",
       "      <td>HOME HEALTH CARE</td>\n",
       "      <td>Private</td>\n",
       "      <td>ENGL</td>\n",
       "      <td>NOT SPECIFIED</td>\n",
       "      <td>MARRIED</td>\n",
       "      <td>WHITE</td>\n",
       "      <td>NaN</td>\n",
       "      <td>NaN</td>\n",
       "      <td>RENAL CANCER/SDA</td>\n",
       "      <td>0</td>\n",
       "      <td>1</td>\n",
       "    </tr>\n",
       "    <tr>\n",
       "      <th>58974</th>\n",
       "      <td>58597</td>\n",
       "      <td>98813</td>\n",
       "      <td>170407</td>\n",
       "      <td>2128-11-11 02:29:00</td>\n",
       "      <td>2128-12-22 13:11:00</td>\n",
       "      <td>NaN</td>\n",
       "      <td>EMERGENCY</td>\n",
       "      <td>EMERGENCY ROOM ADMIT</td>\n",
       "      <td>SNF</td>\n",
       "      <td>Private</td>\n",
       "      <td>ENGL</td>\n",
       "      <td>CATHOLIC</td>\n",
       "      <td>MARRIED</td>\n",
       "      <td>WHITE</td>\n",
       "      <td>2128-11-10 23:48:00</td>\n",
       "      <td>2128-11-11 03:16:00</td>\n",
       "      <td>S/P FALL</td>\n",
       "      <td>0</td>\n",
       "      <td>0</td>\n",
       "    </tr>\n",
       "    <tr>\n",
       "      <th>58975</th>\n",
       "      <td>58598</td>\n",
       "      <td>98813</td>\n",
       "      <td>190264</td>\n",
       "      <td>2131-10-25 03:09:00</td>\n",
       "      <td>2131-10-26 17:44:00</td>\n",
       "      <td>NaN</td>\n",
       "      <td>EMERGENCY</td>\n",
       "      <td>CLINIC REFERRAL/PREMATURE</td>\n",
       "      <td>HOME</td>\n",
       "      <td>Private</td>\n",
       "      <td>ENGL</td>\n",
       "      <td>CATHOLIC</td>\n",
       "      <td>MARRIED</td>\n",
       "      <td>WHITE</td>\n",
       "      <td>2131-10-25 00:08:00</td>\n",
       "      <td>2131-10-25 04:35:00</td>\n",
       "      <td>INTRACRANIAL HEMORRHAGE</td>\n",
       "      <td>0</td>\n",
       "      <td>1</td>\n",
       "    </tr>\n",
       "  </tbody>\n",
       "</table>\n",
       "<p>58976 rows × 19 columns</p>\n",
       "</div>"
      ],
      "text/plain": [
       "       ROW_ID  SUBJECT_ID  HADM_ID            ADMITTIME            DISCHTIME  \\\n",
       "0          21          22   165315  2196-04-09 12:26:00  2196-04-10 15:54:00   \n",
       "1          22          23   152223  2153-09-03 07:15:00  2153-09-08 19:10:00   \n",
       "2          23          23   124321  2157-10-18 19:34:00  2157-10-25 14:00:00   \n",
       "3          24          24   161859  2139-06-06 16:14:00  2139-06-09 12:48:00   \n",
       "4          25          25   129635  2160-11-02 02:06:00  2160-11-05 14:55:00   \n",
       "...       ...         ...      ...                  ...                  ...   \n",
       "58971   58594       98800   191113  2131-03-30 21:13:00  2131-04-02 15:02:00   \n",
       "58972   58595       98802   101071  2151-03-05 20:00:00  2151-03-06 09:10:00   \n",
       "58973   58596       98805   122631  2200-09-12 07:15:00  2200-09-20 12:08:00   \n",
       "58974   58597       98813   170407  2128-11-11 02:29:00  2128-12-22 13:11:00   \n",
       "58975   58598       98813   190264  2131-10-25 03:09:00  2131-10-26 17:44:00   \n",
       "\n",
       "                 DEATHTIME ADMISSION_TYPE         ADMISSION_LOCATION  \\\n",
       "0                      NaN      EMERGENCY       EMERGENCY ROOM ADMIT   \n",
       "1                      NaN       ELECTIVE  PHYS REFERRAL/NORMAL DELI   \n",
       "2                      NaN      EMERGENCY  TRANSFER FROM HOSP/EXTRAM   \n",
       "3                      NaN      EMERGENCY  TRANSFER FROM HOSP/EXTRAM   \n",
       "4                      NaN      EMERGENCY       EMERGENCY ROOM ADMIT   \n",
       "...                    ...            ...                        ...   \n",
       "58971                  NaN      EMERGENCY  CLINIC REFERRAL/PREMATURE   \n",
       "58972  2151-03-06 09:10:00      EMERGENCY  CLINIC REFERRAL/PREMATURE   \n",
       "58973                  NaN       ELECTIVE  PHYS REFERRAL/NORMAL DELI   \n",
       "58974                  NaN      EMERGENCY       EMERGENCY ROOM ADMIT   \n",
       "58975                  NaN      EMERGENCY  CLINIC REFERRAL/PREMATURE   \n",
       "\n",
       "              DISCHARGE_LOCATION INSURANCE LANGUAGE           RELIGION  \\\n",
       "0      DISC-TRAN CANCER/CHLDRN H   Private      NaN       UNOBTAINABLE   \n",
       "1               HOME HEALTH CARE  Medicare      NaN           CATHOLIC   \n",
       "2               HOME HEALTH CARE  Medicare     ENGL           CATHOLIC   \n",
       "3                           HOME   Private      NaN  PROTESTANT QUAKER   \n",
       "4                           HOME   Private      NaN       UNOBTAINABLE   \n",
       "...                          ...       ...      ...                ...   \n",
       "58971                       HOME   Private     ENGL      NOT SPECIFIED   \n",
       "58972               DEAD/EXPIRED  Medicare     ENGL           CATHOLIC   \n",
       "58973           HOME HEALTH CARE   Private     ENGL      NOT SPECIFIED   \n",
       "58974                        SNF   Private     ENGL           CATHOLIC   \n",
       "58975                       HOME   Private     ENGL           CATHOLIC   \n",
       "\n",
       "      MARITAL_STATUS ETHNICITY            EDREGTIME            EDOUTTIME  \\\n",
       "0            MARRIED     WHITE  2196-04-09 10:06:00  2196-04-09 13:24:00   \n",
       "1            MARRIED     WHITE                  NaN                  NaN   \n",
       "2            MARRIED     WHITE                  NaN                  NaN   \n",
       "3             SINGLE     WHITE                  NaN                  NaN   \n",
       "4            MARRIED     WHITE  2160-11-02 01:01:00  2160-11-02 04:27:00   \n",
       "...              ...       ...                  ...                  ...   \n",
       "58971         SINGLE     WHITE  2131-03-30 19:44:00  2131-03-30 22:41:00   \n",
       "58972        WIDOWED     WHITE  2151-03-05 17:23:00  2151-03-05 21:06:00   \n",
       "58973        MARRIED     WHITE                  NaN                  NaN   \n",
       "58974        MARRIED     WHITE  2128-11-10 23:48:00  2128-11-11 03:16:00   \n",
       "58975        MARRIED     WHITE  2131-10-25 00:08:00  2131-10-25 04:35:00   \n",
       "\n",
       "                                               DIAGNOSIS  \\\n",
       "0                                BENZODIAZEPINE OVERDOSE   \n",
       "1      CORONARY ARTERY DISEASE\\CORONARY ARTERY BYPASS...   \n",
       "2                                             BRAIN MASS   \n",
       "3                         INTERIOR MYOCARDIAL INFARCTION   \n",
       "4                                ACUTE CORONARY SYNDROME   \n",
       "...                                                  ...   \n",
       "58971                                             TRAUMA   \n",
       "58972                                                SAH   \n",
       "58973                                   RENAL CANCER/SDA   \n",
       "58974                                           S/P FALL   \n",
       "58975                            INTRACRANIAL HEMORRHAGE   \n",
       "\n",
       "       HOSPITAL_EXPIRE_FLAG  HAS_CHARTEVENTS_DATA  \n",
       "0                         0                     1  \n",
       "1                         0                     1  \n",
       "2                         0                     1  \n",
       "3                         0                     1  \n",
       "4                         0                     1  \n",
       "...                     ...                   ...  \n",
       "58971                     0                     1  \n",
       "58972                     1                     1  \n",
       "58973                     0                     1  \n",
       "58974                     0                     0  \n",
       "58975                     0                     1  \n",
       "\n",
       "[58976 rows x 19 columns]"
      ]
     },
     "execution_count": 4,
     "metadata": {},
     "output_type": "execute_result"
    }
   ],
   "source": [
    "admissions_df"
   ]
  },
  {
   "cell_type": "code",
   "execution_count": 5,
   "metadata": {
    "scrolled": true
   },
   "outputs": [
    {
     "name": "stdout",
     "output_type": "stream",
     "text": [
      "<class 'pandas.core.frame.DataFrame'>\n",
      "RangeIndex: 2083180 entries, 0 to 2083179\n",
      "Data columns (total 11 columns):\n",
      " #   Column       Dtype  \n",
      "---  ------       -----  \n",
      " 0   ROW_ID       int64  \n",
      " 1   SUBJECT_ID   int64  \n",
      " 2   HADM_ID      float64\n",
      " 3   CHARTDATE    object \n",
      " 4   CHARTTIME    object \n",
      " 5   STORETIME    object \n",
      " 6   CATEGORY     object \n",
      " 7   DESCRIPTION  object \n",
      " 8   CGID         float64\n",
      " 9   ISERROR      float64\n",
      " 10  TEXT         object \n",
      "dtypes: float64(3), int64(2), object(6)\n",
      "memory usage: 174.8+ MB\n"
     ]
    }
   ],
   "source": [
    "noteevents_df.info()"
   ]
  },
  {
   "cell_type": "code",
   "execution_count": 6,
   "metadata": {},
   "outputs": [
    {
     "name": "stdout",
     "output_type": "stream",
     "text": [
      "<class 'pandas.core.frame.DataFrame'>\n",
      "RangeIndex: 58976 entries, 0 to 58975\n",
      "Data columns (total 19 columns):\n",
      " #   Column                Non-Null Count  Dtype \n",
      "---  ------                --------------  ----- \n",
      " 0   ROW_ID                58976 non-null  int64 \n",
      " 1   SUBJECT_ID            58976 non-null  int64 \n",
      " 2   HADM_ID               58976 non-null  int64 \n",
      " 3   ADMITTIME             58976 non-null  object\n",
      " 4   DISCHTIME             58976 non-null  object\n",
      " 5   DEATHTIME             5854 non-null   object\n",
      " 6   ADMISSION_TYPE        58976 non-null  object\n",
      " 7   ADMISSION_LOCATION    58976 non-null  object\n",
      " 8   DISCHARGE_LOCATION    58976 non-null  object\n",
      " 9   INSURANCE             58976 non-null  object\n",
      " 10  LANGUAGE              33644 non-null  object\n",
      " 11  RELIGION              58518 non-null  object\n",
      " 12  MARITAL_STATUS        48848 non-null  object\n",
      " 13  ETHNICITY             58976 non-null  object\n",
      " 14  EDREGTIME             30877 non-null  object\n",
      " 15  EDOUTTIME             30877 non-null  object\n",
      " 16  DIAGNOSIS             58951 non-null  object\n",
      " 17  HOSPITAL_EXPIRE_FLAG  58976 non-null  int64 \n",
      " 18  HAS_CHARTEVENTS_DATA  58976 non-null  int64 \n",
      "dtypes: int64(5), object(14)\n",
      "memory usage: 8.5+ MB\n"
     ]
    }
   ],
   "source": [
    "admissions_df.info()"
   ]
  },
  {
   "cell_type": "code",
   "execution_count": 7,
   "metadata": {},
   "outputs": [
    {
     "data": {
      "text/plain": [
       "\"\\n>>> left\\n  transaction_id user_id     value\\n0              A   Peter  1.867558\\n1              B    John -0.977278\\n2              C    John  0.950088\\n3              D    Anna -0.151357\\n>>> right\\n  user_id favorite_color\\n0    Paul           blue\\n1    Mary           blue\\n2    John            red\\n3    Anna            NaN\\n\\n---------\\n>>> left.merge(right, on='user_id', how='left', indicator=True)\\n  transaction_id user_id     value favorite_color     _merge\\n0              A   Peter  1.867558            NaN  left_only\\n1              B    John -0.977278            red       both\\n2              C    John  0.950088            red       both\\n3              D    Anna -0.151357            NaN       both\\n\\n---------\\nleft.merge(right.rename({'user_id': 'user_id_r'}, axis=1),\\n               left_on='user_id', right_on='user_id_r', how='left')\\n               \\n  transaction_id user_id     value user_id_r favorite_color\\n0              A   Peter  1.867558       NaN            NaN\\n1              B    John -0.977278      John            red\\n2              C    John  0.950088      John            red\\n3              D    Anna -0.151357      Anna            NaN\\n---------\\nselect\\n    t.transaction_id\\n    , t.user_id\\n    , t.value\\n    , u.user_id as user_id_r\\n    , u.favorite_color\\nfrom\\n    transactions t\\n    left join\\n    users u\\n    on t.user_id = u.user_id\\n;\\n\""
      ]
     },
     "execution_count": 7,
     "metadata": {},
     "output_type": "execute_result"
    }
   ],
   "source": [
    "# https://towardsdatascience.com/left-join-with-pandas-data-frames-in-python-c29c85089ba4\n",
    "# left_join = noteevents_df.join(admissions_df.set_index('HADM_ID'), on='HADM_ID')\n",
    "# left_join = noteevents_df.set_index('HADM_ID').join(admissions_df.set_index('HADM_ID'))\n",
    "\"\"\"\n",
    ">>> left\n",
    "  transaction_id user_id     value\n",
    "0              A   Peter  1.867558\n",
    "1              B    John -0.977278\n",
    "2              C    John  0.950088\n",
    "3              D    Anna -0.151357\n",
    ">>> right\n",
    "  user_id favorite_color\n",
    "0    Paul           blue\n",
    "1    Mary           blue\n",
    "2    John            red\n",
    "3    Anna            NaN\n",
    "\n",
    "---------\n",
    ">>> left.merge(right, on='user_id', how='left', indicator=True)\n",
    "  transaction_id user_id     value favorite_color     _merge\n",
    "0              A   Peter  1.867558            NaN  left_only\n",
    "1              B    John -0.977278            red       both\n",
    "2              C    John  0.950088            red       both\n",
    "3              D    Anna -0.151357            NaN       both\n",
    "\n",
    "---------\n",
    "left.merge(right.rename({'user_id': 'user_id_r'}, axis=1),\n",
    "               left_on='user_id', right_on='user_id_r', how='left')\n",
    "               \n",
    "  transaction_id user_id     value user_id_r favorite_color\n",
    "0              A   Peter  1.867558       NaN            NaN\n",
    "1              B    John -0.977278      John            red\n",
    "2              C    John  0.950088      John            red\n",
    "3              D    Anna -0.151357      Anna            NaN\n",
    "---------\n",
    "select\n",
    "    t.transaction_id\n",
    "    , t.user_id\n",
    "    , t.value\n",
    "    , u.user_id as user_id_r\n",
    "    , u.favorite_color\n",
    "from\n",
    "    transactions t\n",
    "    left join\n",
    "    users u\n",
    "    on t.user_id = u.user_id\n",
    ";\n",
    "\"\"\""
   ]
  },
  {
   "cell_type": "code",
   "execution_count": 8,
   "metadata": {},
   "outputs": [
    {
     "name": "stdout",
     "output_type": "stream",
     "text": [
      "5.627856254577637\n"
     ]
    }
   ],
   "source": [
    "start = time.time()\n",
    "# Left join of two dataframes\n",
    "note_admiss_df_left = noteevents_df.merge(admissions_df, on='HADM_ID', how='left', indicator=True)\n",
    "end = time.time()\n",
    "print(end - start)"
   ]
  },
  {
   "cell_type": "code",
   "execution_count": 9,
   "metadata": {
    "scrolled": false
   },
   "outputs": [
    {
     "name": "stdout",
     "output_type": "stream",
     "text": [
      "<class 'pandas.core.frame.DataFrame'>\n",
      "Int64Index: 2083180 entries, 0 to 2083179\n",
      "Data columns (total 30 columns):\n",
      " #   Column                Dtype   \n",
      "---  ------                -----   \n",
      " 0   ROW_ID_x              int64   \n",
      " 1   SUBJECT_ID_x          int64   \n",
      " 2   HADM_ID               float64 \n",
      " 3   CHARTDATE             object  \n",
      " 4   CHARTTIME             object  \n",
      " 5   STORETIME             object  \n",
      " 6   CATEGORY              object  \n",
      " 7   DESCRIPTION           object  \n",
      " 8   CGID                  float64 \n",
      " 9   ISERROR               float64 \n",
      " 10  TEXT                  object  \n",
      " 11  ROW_ID_y              float64 \n",
      " 12  SUBJECT_ID_y          float64 \n",
      " 13  ADMITTIME             object  \n",
      " 14  DISCHTIME             object  \n",
      " 15  DEATHTIME             object  \n",
      " 16  ADMISSION_TYPE        object  \n",
      " 17  ADMISSION_LOCATION    object  \n",
      " 18  DISCHARGE_LOCATION    object  \n",
      " 19  INSURANCE             object  \n",
      " 20  LANGUAGE              object  \n",
      " 21  RELIGION              object  \n",
      " 22  MARITAL_STATUS        object  \n",
      " 23  ETHNICITY             object  \n",
      " 24  EDREGTIME             object  \n",
      " 25  EDOUTTIME             object  \n",
      " 26  DIAGNOSIS             object  \n",
      " 27  HOSPITAL_EXPIRE_FLAG  float64 \n",
      " 28  HAS_CHARTEVENTS_DATA  float64 \n",
      " 29  _merge                category\n",
      "dtypes: category(1), float64(7), int64(2), object(20)\n",
      "memory usage: 478.8+ MB\n"
     ]
    }
   ],
   "source": [
    "note_admiss_df_left.info()"
   ]
  },
  {
   "cell_type": "code",
   "execution_count": 10,
   "metadata": {},
   "outputs": [
    {
     "data": {
      "text/plain": [
       "(2083180, 30)"
      ]
     },
     "execution_count": 10,
     "metadata": {},
     "output_type": "execute_result"
    }
   ],
   "source": [
    "note_admiss_df_left.shape"
   ]
  },
  {
   "cell_type": "code",
   "execution_count": 11,
   "metadata": {
    "scrolled": false
   },
   "outputs": [
    {
     "data": {
      "text/html": [
       "<div>\n",
       "<style scoped>\n",
       "    .dataframe tbody tr th:only-of-type {\n",
       "        vertical-align: middle;\n",
       "    }\n",
       "\n",
       "    .dataframe tbody tr th {\n",
       "        vertical-align: top;\n",
       "    }\n",
       "\n",
       "    .dataframe thead th {\n",
       "        text-align: right;\n",
       "    }\n",
       "</style>\n",
       "<table border=\"1\" class=\"dataframe\">\n",
       "  <thead>\n",
       "    <tr style=\"text-align: right;\">\n",
       "      <th></th>\n",
       "      <th>DIAGNOSIS</th>\n",
       "      <th>SUBJECT_ID_x</th>\n",
       "      <th>SUBJECT_ID_y</th>\n",
       "      <th>DESCRIPTION</th>\n",
       "      <th>CATEGORY</th>\n",
       "    </tr>\n",
       "  </thead>\n",
       "  <tbody>\n",
       "    <tr>\n",
       "      <th>0</th>\n",
       "      <td>RT LOWER LOBE PNEUMONIA</td>\n",
       "      <td>22532</td>\n",
       "      <td>22532.0</td>\n",
       "      <td>Report</td>\n",
       "      <td>Discharge summary</td>\n",
       "    </tr>\n",
       "    <tr>\n",
       "      <th>1</th>\n",
       "      <td>CHRONIC OBSTRUCTIVE PULMONARY DISEASE</td>\n",
       "      <td>13702</td>\n",
       "      <td>13702.0</td>\n",
       "      <td>Report</td>\n",
       "      <td>Discharge summary</td>\n",
       "    </tr>\n",
       "    <tr>\n",
       "      <th>2</th>\n",
       "      <td>TRACHEALBRONCHEAL MALACEA/SDA</td>\n",
       "      <td>13702</td>\n",
       "      <td>13702.0</td>\n",
       "      <td>Report</td>\n",
       "      <td>Discharge summary</td>\n",
       "    </tr>\n",
       "    <tr>\n",
       "      <th>3</th>\n",
       "      <td>ASTHMA;COPD EXACERBATION</td>\n",
       "      <td>13702</td>\n",
       "      <td>13702.0</td>\n",
       "      <td>Report</td>\n",
       "      <td>Discharge summary</td>\n",
       "    </tr>\n",
       "    <tr>\n",
       "      <th>4</th>\n",
       "      <td>S/P FALL;TELEMETRY</td>\n",
       "      <td>26880</td>\n",
       "      <td>26880.0</td>\n",
       "      <td>Report</td>\n",
       "      <td>Discharge summary</td>\n",
       "    </tr>\n",
       "    <tr>\n",
       "      <th>...</th>\n",
       "      <td>...</td>\n",
       "      <td>...</td>\n",
       "      <td>...</td>\n",
       "      <td>...</td>\n",
       "      <td>...</td>\n",
       "    </tr>\n",
       "    <tr>\n",
       "      <th>2083175</th>\n",
       "      <td>NEWBORN</td>\n",
       "      <td>31097</td>\n",
       "      <td>31097.0</td>\n",
       "      <td>Report</td>\n",
       "      <td>Nursing/other</td>\n",
       "    </tr>\n",
       "    <tr>\n",
       "      <th>2083176</th>\n",
       "      <td>NEWBORN</td>\n",
       "      <td>31097</td>\n",
       "      <td>31097.0</td>\n",
       "      <td>Report</td>\n",
       "      <td>Nursing/other</td>\n",
       "    </tr>\n",
       "    <tr>\n",
       "      <th>2083177</th>\n",
       "      <td>NEWBORN</td>\n",
       "      <td>31097</td>\n",
       "      <td>31097.0</td>\n",
       "      <td>Report</td>\n",
       "      <td>Nursing/other</td>\n",
       "    </tr>\n",
       "    <tr>\n",
       "      <th>2083178</th>\n",
       "      <td>NEWBORN</td>\n",
       "      <td>31097</td>\n",
       "      <td>31097.0</td>\n",
       "      <td>Report</td>\n",
       "      <td>Nursing/other</td>\n",
       "    </tr>\n",
       "    <tr>\n",
       "      <th>2083179</th>\n",
       "      <td>NEWBORN</td>\n",
       "      <td>31097</td>\n",
       "      <td>31097.0</td>\n",
       "      <td>Report</td>\n",
       "      <td>Nursing/other</td>\n",
       "    </tr>\n",
       "  </tbody>\n",
       "</table>\n",
       "<p>2083180 rows × 5 columns</p>\n",
       "</div>"
      ],
      "text/plain": [
       "                                     DIAGNOSIS  SUBJECT_ID_x  SUBJECT_ID_y  \\\n",
       "0                      RT LOWER LOBE PNEUMONIA         22532       22532.0   \n",
       "1        CHRONIC OBSTRUCTIVE PULMONARY DISEASE         13702       13702.0   \n",
       "2                TRACHEALBRONCHEAL MALACEA/SDA         13702       13702.0   \n",
       "3                     ASTHMA;COPD EXACERBATION         13702       13702.0   \n",
       "4                           S/P FALL;TELEMETRY         26880       26880.0   \n",
       "...                                        ...           ...           ...   \n",
       "2083175                                NEWBORN         31097       31097.0   \n",
       "2083176                                NEWBORN         31097       31097.0   \n",
       "2083177                                NEWBORN         31097       31097.0   \n",
       "2083178                                NEWBORN         31097       31097.0   \n",
       "2083179                                NEWBORN         31097       31097.0   \n",
       "\n",
       "        DESCRIPTION           CATEGORY  \n",
       "0            Report  Discharge summary  \n",
       "1            Report  Discharge summary  \n",
       "2            Report  Discharge summary  \n",
       "3            Report  Discharge summary  \n",
       "4            Report  Discharge summary  \n",
       "...             ...                ...  \n",
       "2083175      Report      Nursing/other  \n",
       "2083176      Report      Nursing/other  \n",
       "2083177      Report      Nursing/other  \n",
       "2083178      Report      Nursing/other  \n",
       "2083179      Report      Nursing/other  \n",
       "\n",
       "[2083180 rows x 5 columns]"
      ]
     },
     "execution_count": 11,
     "metadata": {},
     "output_type": "execute_result"
    }
   ],
   "source": [
    "# df1 = df[['a','b']]\n",
    "note_admiss_df_left[['DIAGNOSIS', 'SUBJECT_ID_x', 'SUBJECT_ID_y','DESCRIPTION', 'CATEGORY']]"
   ]
  },
  {
   "cell_type": "code",
   "execution_count": 12,
   "metadata": {
    "scrolled": true
   },
   "outputs": [],
   "source": [
    "pneumonia_df = note_admiss_df_left.loc[note_admiss_df_left[\"DIAGNOSIS\"] == 'PNEUMONIA', ['ROW_ID_x', 'SUBJECT_ID_x', 'HADM_ID', 'CHARTDATE', 'CHARTTIME', 'STORETIME', 'CATEGORY', 'DESCRIPTION', 'CGID', 'ISERROR', 'TEXT', 'ADMITTIME', 'DISCHTIME', 'DEATHTIME', 'ADMISSION_TYPE', 'DIAGNOSIS', 'HAS_CHARTEVENTS_DATA']]"
   ]
  },
  {
   "cell_type": "code",
   "execution_count": null,
   "metadata": {
    "scrolled": false
   },
   "outputs": [],
   "source": []
  },
  {
   "cell_type": "code",
   "execution_count": 13,
   "metadata": {
    "scrolled": true
   },
   "outputs": [
    {
     "data": {
      "text/plain": [
       "(59727, 17)"
      ]
     },
     "execution_count": 13,
     "metadata": {},
     "output_type": "execute_result"
    }
   ],
   "source": [
    "pneumonia_df.shape"
   ]
  },
  {
   "cell_type": "code",
   "execution_count": 14,
   "metadata": {
    "scrolled": false
   },
   "outputs": [
    {
     "data": {
      "application/vnd.plotly.v1+json": {
       "config": {
        "linkText": "Export to plot.ly",
        "plotlyServerURL": "https://plot.ly",
        "showLink": true
       },
       "data": [
        {
         "marker": {
          "color": "rgba(255, 153, 51, 0.6)",
          "line": {
           "color": "rgba(255, 153, 51, 1.0)",
           "width": 1
          }
         },
         "name": "CATEGORY",
         "orientation": "v",
         "text": "",
         "type": "bar",
         "x": [
          "Nursing",
          "Nursing/other",
          "Radiology",
          "Physician ",
          "ECG",
          "Respiratory ",
          "Discharge summary",
          "Echo",
          "General",
          "Nutrition",
          "Rehab Services",
          "Social Work",
          "Case Management ",
          "Pharmacy",
          "Consult"
         ],
         "y": [
          13256,
          12693,
          11723,
          10643,
          4469,
          2454,
          1698,
          949,
          680,
          638,
          231,
          142,
          135,
          15,
          1
         ]
        }
       ],
       "layout": {
        "legend": {
         "bgcolor": "#F5F6F9",
         "font": {
          "color": "#4D5663"
         }
        },
        "paper_bgcolor": "#F5F6F9",
        "plot_bgcolor": "#F5F6F9",
        "template": {
         "data": {
          "bar": [
           {
            "error_x": {
             "color": "#2a3f5f"
            },
            "error_y": {
             "color": "#2a3f5f"
            },
            "marker": {
             "line": {
              "color": "#E5ECF6",
              "width": 0.5
             }
            },
            "type": "bar"
           }
          ],
          "barpolar": [
           {
            "marker": {
             "line": {
              "color": "#E5ECF6",
              "width": 0.5
             }
            },
            "type": "barpolar"
           }
          ],
          "carpet": [
           {
            "aaxis": {
             "endlinecolor": "#2a3f5f",
             "gridcolor": "white",
             "linecolor": "white",
             "minorgridcolor": "white",
             "startlinecolor": "#2a3f5f"
            },
            "baxis": {
             "endlinecolor": "#2a3f5f",
             "gridcolor": "white",
             "linecolor": "white",
             "minorgridcolor": "white",
             "startlinecolor": "#2a3f5f"
            },
            "type": "carpet"
           }
          ],
          "choropleth": [
           {
            "colorbar": {
             "outlinewidth": 0,
             "ticks": ""
            },
            "type": "choropleth"
           }
          ],
          "contour": [
           {
            "colorbar": {
             "outlinewidth": 0,
             "ticks": ""
            },
            "colorscale": [
             [
              0,
              "#0d0887"
             ],
             [
              0.1111111111111111,
              "#46039f"
             ],
             [
              0.2222222222222222,
              "#7201a8"
             ],
             [
              0.3333333333333333,
              "#9c179e"
             ],
             [
              0.4444444444444444,
              "#bd3786"
             ],
             [
              0.5555555555555556,
              "#d8576b"
             ],
             [
              0.6666666666666666,
              "#ed7953"
             ],
             [
              0.7777777777777778,
              "#fb9f3a"
             ],
             [
              0.8888888888888888,
              "#fdca26"
             ],
             [
              1,
              "#f0f921"
             ]
            ],
            "type": "contour"
           }
          ],
          "contourcarpet": [
           {
            "colorbar": {
             "outlinewidth": 0,
             "ticks": ""
            },
            "type": "contourcarpet"
           }
          ],
          "heatmap": [
           {
            "colorbar": {
             "outlinewidth": 0,
             "ticks": ""
            },
            "colorscale": [
             [
              0,
              "#0d0887"
             ],
             [
              0.1111111111111111,
              "#46039f"
             ],
             [
              0.2222222222222222,
              "#7201a8"
             ],
             [
              0.3333333333333333,
              "#9c179e"
             ],
             [
              0.4444444444444444,
              "#bd3786"
             ],
             [
              0.5555555555555556,
              "#d8576b"
             ],
             [
              0.6666666666666666,
              "#ed7953"
             ],
             [
              0.7777777777777778,
              "#fb9f3a"
             ],
             [
              0.8888888888888888,
              "#fdca26"
             ],
             [
              1,
              "#f0f921"
             ]
            ],
            "type": "heatmap"
           }
          ],
          "heatmapgl": [
           {
            "colorbar": {
             "outlinewidth": 0,
             "ticks": ""
            },
            "colorscale": [
             [
              0,
              "#0d0887"
             ],
             [
              0.1111111111111111,
              "#46039f"
             ],
             [
              0.2222222222222222,
              "#7201a8"
             ],
             [
              0.3333333333333333,
              "#9c179e"
             ],
             [
              0.4444444444444444,
              "#bd3786"
             ],
             [
              0.5555555555555556,
              "#d8576b"
             ],
             [
              0.6666666666666666,
              "#ed7953"
             ],
             [
              0.7777777777777778,
              "#fb9f3a"
             ],
             [
              0.8888888888888888,
              "#fdca26"
             ],
             [
              1,
              "#f0f921"
             ]
            ],
            "type": "heatmapgl"
           }
          ],
          "histogram": [
           {
            "marker": {
             "colorbar": {
              "outlinewidth": 0,
              "ticks": ""
             }
            },
            "type": "histogram"
           }
          ],
          "histogram2d": [
           {
            "colorbar": {
             "outlinewidth": 0,
             "ticks": ""
            },
            "colorscale": [
             [
              0,
              "#0d0887"
             ],
             [
              0.1111111111111111,
              "#46039f"
             ],
             [
              0.2222222222222222,
              "#7201a8"
             ],
             [
              0.3333333333333333,
              "#9c179e"
             ],
             [
              0.4444444444444444,
              "#bd3786"
             ],
             [
              0.5555555555555556,
              "#d8576b"
             ],
             [
              0.6666666666666666,
              "#ed7953"
             ],
             [
              0.7777777777777778,
              "#fb9f3a"
             ],
             [
              0.8888888888888888,
              "#fdca26"
             ],
             [
              1,
              "#f0f921"
             ]
            ],
            "type": "histogram2d"
           }
          ],
          "histogram2dcontour": [
           {
            "colorbar": {
             "outlinewidth": 0,
             "ticks": ""
            },
            "colorscale": [
             [
              0,
              "#0d0887"
             ],
             [
              0.1111111111111111,
              "#46039f"
             ],
             [
              0.2222222222222222,
              "#7201a8"
             ],
             [
              0.3333333333333333,
              "#9c179e"
             ],
             [
              0.4444444444444444,
              "#bd3786"
             ],
             [
              0.5555555555555556,
              "#d8576b"
             ],
             [
              0.6666666666666666,
              "#ed7953"
             ],
             [
              0.7777777777777778,
              "#fb9f3a"
             ],
             [
              0.8888888888888888,
              "#fdca26"
             ],
             [
              1,
              "#f0f921"
             ]
            ],
            "type": "histogram2dcontour"
           }
          ],
          "mesh3d": [
           {
            "colorbar": {
             "outlinewidth": 0,
             "ticks": ""
            },
            "type": "mesh3d"
           }
          ],
          "parcoords": [
           {
            "line": {
             "colorbar": {
              "outlinewidth": 0,
              "ticks": ""
             }
            },
            "type": "parcoords"
           }
          ],
          "pie": [
           {
            "automargin": true,
            "type": "pie"
           }
          ],
          "scatter": [
           {
            "marker": {
             "colorbar": {
              "outlinewidth": 0,
              "ticks": ""
             }
            },
            "type": "scatter"
           }
          ],
          "scatter3d": [
           {
            "line": {
             "colorbar": {
              "outlinewidth": 0,
              "ticks": ""
             }
            },
            "marker": {
             "colorbar": {
              "outlinewidth": 0,
              "ticks": ""
             }
            },
            "type": "scatter3d"
           }
          ],
          "scattercarpet": [
           {
            "marker": {
             "colorbar": {
              "outlinewidth": 0,
              "ticks": ""
             }
            },
            "type": "scattercarpet"
           }
          ],
          "scattergeo": [
           {
            "marker": {
             "colorbar": {
              "outlinewidth": 0,
              "ticks": ""
             }
            },
            "type": "scattergeo"
           }
          ],
          "scattergl": [
           {
            "marker": {
             "colorbar": {
              "outlinewidth": 0,
              "ticks": ""
             }
            },
            "type": "scattergl"
           }
          ],
          "scattermapbox": [
           {
            "marker": {
             "colorbar": {
              "outlinewidth": 0,
              "ticks": ""
             }
            },
            "type": "scattermapbox"
           }
          ],
          "scatterpolar": [
           {
            "marker": {
             "colorbar": {
              "outlinewidth": 0,
              "ticks": ""
             }
            },
            "type": "scatterpolar"
           }
          ],
          "scatterpolargl": [
           {
            "marker": {
             "colorbar": {
              "outlinewidth": 0,
              "ticks": ""
             }
            },
            "type": "scatterpolargl"
           }
          ],
          "scatterternary": [
           {
            "marker": {
             "colorbar": {
              "outlinewidth": 0,
              "ticks": ""
             }
            },
            "type": "scatterternary"
           }
          ],
          "surface": [
           {
            "colorbar": {
             "outlinewidth": 0,
             "ticks": ""
            },
            "colorscale": [
             [
              0,
              "#0d0887"
             ],
             [
              0.1111111111111111,
              "#46039f"
             ],
             [
              0.2222222222222222,
              "#7201a8"
             ],
             [
              0.3333333333333333,
              "#9c179e"
             ],
             [
              0.4444444444444444,
              "#bd3786"
             ],
             [
              0.5555555555555556,
              "#d8576b"
             ],
             [
              0.6666666666666666,
              "#ed7953"
             ],
             [
              0.7777777777777778,
              "#fb9f3a"
             ],
             [
              0.8888888888888888,
              "#fdca26"
             ],
             [
              1,
              "#f0f921"
             ]
            ],
            "type": "surface"
           }
          ],
          "table": [
           {
            "cells": {
             "fill": {
              "color": "#EBF0F8"
             },
             "line": {
              "color": "white"
             }
            },
            "header": {
             "fill": {
              "color": "#C8D4E3"
             },
             "line": {
              "color": "white"
             }
            },
            "type": "table"
           }
          ]
         },
         "layout": {
          "annotationdefaults": {
           "arrowcolor": "#2a3f5f",
           "arrowhead": 0,
           "arrowwidth": 1
          },
          "coloraxis": {
           "colorbar": {
            "outlinewidth": 0,
            "ticks": ""
           }
          },
          "colorscale": {
           "diverging": [
            [
             0,
             "#8e0152"
            ],
            [
             0.1,
             "#c51b7d"
            ],
            [
             0.2,
             "#de77ae"
            ],
            [
             0.3,
             "#f1b6da"
            ],
            [
             0.4,
             "#fde0ef"
            ],
            [
             0.5,
             "#f7f7f7"
            ],
            [
             0.6,
             "#e6f5d0"
            ],
            [
             0.7,
             "#b8e186"
            ],
            [
             0.8,
             "#7fbc41"
            ],
            [
             0.9,
             "#4d9221"
            ],
            [
             1,
             "#276419"
            ]
           ],
           "sequential": [
            [
             0,
             "#0d0887"
            ],
            [
             0.1111111111111111,
             "#46039f"
            ],
            [
             0.2222222222222222,
             "#7201a8"
            ],
            [
             0.3333333333333333,
             "#9c179e"
            ],
            [
             0.4444444444444444,
             "#bd3786"
            ],
            [
             0.5555555555555556,
             "#d8576b"
            ],
            [
             0.6666666666666666,
             "#ed7953"
            ],
            [
             0.7777777777777778,
             "#fb9f3a"
            ],
            [
             0.8888888888888888,
             "#fdca26"
            ],
            [
             1,
             "#f0f921"
            ]
           ],
           "sequentialminus": [
            [
             0,
             "#0d0887"
            ],
            [
             0.1111111111111111,
             "#46039f"
            ],
            [
             0.2222222222222222,
             "#7201a8"
            ],
            [
             0.3333333333333333,
             "#9c179e"
            ],
            [
             0.4444444444444444,
             "#bd3786"
            ],
            [
             0.5555555555555556,
             "#d8576b"
            ],
            [
             0.6666666666666666,
             "#ed7953"
            ],
            [
             0.7777777777777778,
             "#fb9f3a"
            ],
            [
             0.8888888888888888,
             "#fdca26"
            ],
            [
             1,
             "#f0f921"
            ]
           ]
          },
          "colorway": [
           "#636efa",
           "#EF553B",
           "#00cc96",
           "#ab63fa",
           "#FFA15A",
           "#19d3f3",
           "#FF6692",
           "#B6E880",
           "#FF97FF",
           "#FECB52"
          ],
          "font": {
           "color": "#2a3f5f"
          },
          "geo": {
           "bgcolor": "white",
           "lakecolor": "white",
           "landcolor": "#E5ECF6",
           "showlakes": true,
           "showland": true,
           "subunitcolor": "white"
          },
          "hoverlabel": {
           "align": "left"
          },
          "hovermode": "closest",
          "mapbox": {
           "style": "light"
          },
          "paper_bgcolor": "white",
          "plot_bgcolor": "#E5ECF6",
          "polar": {
           "angularaxis": {
            "gridcolor": "white",
            "linecolor": "white",
            "ticks": ""
           },
           "bgcolor": "#E5ECF6",
           "radialaxis": {
            "gridcolor": "white",
            "linecolor": "white",
            "ticks": ""
           }
          },
          "scene": {
           "xaxis": {
            "backgroundcolor": "#E5ECF6",
            "gridcolor": "white",
            "gridwidth": 2,
            "linecolor": "white",
            "showbackground": true,
            "ticks": "",
            "zerolinecolor": "white"
           },
           "yaxis": {
            "backgroundcolor": "#E5ECF6",
            "gridcolor": "white",
            "gridwidth": 2,
            "linecolor": "white",
            "showbackground": true,
            "ticks": "",
            "zerolinecolor": "white"
           },
           "zaxis": {
            "backgroundcolor": "#E5ECF6",
            "gridcolor": "white",
            "gridwidth": 2,
            "linecolor": "white",
            "showbackground": true,
            "ticks": "",
            "zerolinecolor": "white"
           }
          },
          "shapedefaults": {
           "line": {
            "color": "#2a3f5f"
           }
          },
          "ternary": {
           "aaxis": {
            "gridcolor": "white",
            "linecolor": "white",
            "ticks": ""
           },
           "baxis": {
            "gridcolor": "white",
            "linecolor": "white",
            "ticks": ""
           },
           "bgcolor": "#E5ECF6",
           "caxis": {
            "gridcolor": "white",
            "linecolor": "white",
            "ticks": ""
           }
          },
          "title": {
           "x": 0.05
          },
          "xaxis": {
           "automargin": true,
           "gridcolor": "white",
           "linecolor": "white",
           "ticks": "",
           "title": {
            "standoff": 15
           },
           "zerolinecolor": "white",
           "zerolinewidth": 2
          },
          "yaxis": {
           "automargin": true,
           "gridcolor": "white",
           "linecolor": "white",
           "ticks": "",
           "title": {
            "standoff": 15
           },
           "zerolinecolor": "white",
           "zerolinewidth": 2
          }
         }
        },
        "title": {
         "font": {
          "color": "#4D5663"
         },
         "text": "Number of category kinds in noteevents"
        },
        "xaxis": {
         "gridcolor": "#E1E5ED",
         "showgrid": true,
         "tickfont": {
          "color": "#4D5663"
         },
         "title": {
          "font": {
           "color": "#4D5663"
          },
          "text": ""
         },
         "zerolinecolor": "#E1E5ED"
        },
        "yaxis": {
         "gridcolor": "#E1E5ED",
         "showgrid": true,
         "tickfont": {
          "color": "#4D5663"
         },
         "title": {
          "font": {
           "color": "#4D5663"
          },
          "text": "Number of notes"
         },
         "zerolinecolor": "#E1E5ED"
        }
       }
      },
      "text/html": [
       "<div>\n",
       "        \n",
       "        \n",
       "            <div id=\"2daa634b-b9ac-4357-b882-944ec2ff36b1\" class=\"plotly-graph-div\" style=\"height:525px; width:100%;\"></div>\n",
       "            <script type=\"text/javascript\">\n",
       "                require([\"plotly\"], function(Plotly) {\n",
       "                    window.PLOTLYENV=window.PLOTLYENV || {};\n",
       "                    window.PLOTLYENV.BASE_URL='https://plot.ly';\n",
       "                    \n",
       "                if (document.getElementById(\"2daa634b-b9ac-4357-b882-944ec2ff36b1\")) {\n",
       "                    Plotly.newPlot(\n",
       "                        '2daa634b-b9ac-4357-b882-944ec2ff36b1',\n",
       "                        [{\"marker\": {\"color\": \"rgba(255, 153, 51, 0.6)\", \"line\": {\"color\": \"rgba(255, 153, 51, 1.0)\", \"width\": 1}}, \"name\": \"CATEGORY\", \"orientation\": \"v\", \"text\": \"\", \"type\": \"bar\", \"x\": [\"Nursing\", \"Nursing/other\", \"Radiology\", \"Physician \", \"ECG\", \"Respiratory \", \"Discharge summary\", \"Echo\", \"General\", \"Nutrition\", \"Rehab Services\", \"Social Work\", \"Case Management \", \"Pharmacy\", \"Consult\"], \"y\": [13256, 12693, 11723, 10643, 4469, 2454, 1698, 949, 680, 638, 231, 142, 135, 15, 1]}],\n",
       "                        {\"legend\": {\"bgcolor\": \"#F5F6F9\", \"font\": {\"color\": \"#4D5663\"}}, \"paper_bgcolor\": \"#F5F6F9\", \"plot_bgcolor\": \"#F5F6F9\", \"template\": {\"data\": {\"bar\": [{\"error_x\": {\"color\": \"#2a3f5f\"}, \"error_y\": {\"color\": \"#2a3f5f\"}, \"marker\": {\"line\": {\"color\": \"#E5ECF6\", \"width\": 0.5}}, \"type\": \"bar\"}], \"barpolar\": [{\"marker\": {\"line\": {\"color\": \"#E5ECF6\", \"width\": 0.5}}, \"type\": \"barpolar\"}], \"carpet\": [{\"aaxis\": {\"endlinecolor\": \"#2a3f5f\", \"gridcolor\": \"white\", \"linecolor\": \"white\", \"minorgridcolor\": \"white\", \"startlinecolor\": \"#2a3f5f\"}, \"baxis\": {\"endlinecolor\": \"#2a3f5f\", \"gridcolor\": \"white\", \"linecolor\": \"white\", \"minorgridcolor\": \"white\", \"startlinecolor\": \"#2a3f5f\"}, \"type\": \"carpet\"}], \"choropleth\": [{\"colorbar\": {\"outlinewidth\": 0, \"ticks\": \"\"}, \"type\": \"choropleth\"}], \"contour\": [{\"colorbar\": {\"outlinewidth\": 0, \"ticks\": \"\"}, \"colorscale\": [[0.0, \"#0d0887\"], [0.1111111111111111, \"#46039f\"], [0.2222222222222222, \"#7201a8\"], [0.3333333333333333, \"#9c179e\"], [0.4444444444444444, \"#bd3786\"], [0.5555555555555556, \"#d8576b\"], [0.6666666666666666, \"#ed7953\"], [0.7777777777777778, \"#fb9f3a\"], [0.8888888888888888, \"#fdca26\"], [1.0, \"#f0f921\"]], \"type\": \"contour\"}], \"contourcarpet\": [{\"colorbar\": {\"outlinewidth\": 0, \"ticks\": \"\"}, \"type\": \"contourcarpet\"}], \"heatmap\": [{\"colorbar\": {\"outlinewidth\": 0, \"ticks\": \"\"}, \"colorscale\": [[0.0, \"#0d0887\"], [0.1111111111111111, \"#46039f\"], [0.2222222222222222, \"#7201a8\"], [0.3333333333333333, \"#9c179e\"], [0.4444444444444444, \"#bd3786\"], [0.5555555555555556, \"#d8576b\"], [0.6666666666666666, \"#ed7953\"], [0.7777777777777778, \"#fb9f3a\"], [0.8888888888888888, \"#fdca26\"], [1.0, \"#f0f921\"]], \"type\": \"heatmap\"}], \"heatmapgl\": [{\"colorbar\": {\"outlinewidth\": 0, \"ticks\": \"\"}, \"colorscale\": [[0.0, \"#0d0887\"], [0.1111111111111111, \"#46039f\"], [0.2222222222222222, \"#7201a8\"], [0.3333333333333333, \"#9c179e\"], [0.4444444444444444, \"#bd3786\"], [0.5555555555555556, \"#d8576b\"], [0.6666666666666666, \"#ed7953\"], [0.7777777777777778, \"#fb9f3a\"], [0.8888888888888888, \"#fdca26\"], [1.0, \"#f0f921\"]], \"type\": \"heatmapgl\"}], \"histogram\": [{\"marker\": {\"colorbar\": {\"outlinewidth\": 0, \"ticks\": \"\"}}, \"type\": \"histogram\"}], \"histogram2d\": [{\"colorbar\": {\"outlinewidth\": 0, \"ticks\": \"\"}, \"colorscale\": [[0.0, \"#0d0887\"], [0.1111111111111111, \"#46039f\"], [0.2222222222222222, \"#7201a8\"], [0.3333333333333333, \"#9c179e\"], [0.4444444444444444, \"#bd3786\"], [0.5555555555555556, \"#d8576b\"], [0.6666666666666666, \"#ed7953\"], [0.7777777777777778, \"#fb9f3a\"], [0.8888888888888888, \"#fdca26\"], [1.0, \"#f0f921\"]], \"type\": \"histogram2d\"}], \"histogram2dcontour\": [{\"colorbar\": {\"outlinewidth\": 0, \"ticks\": \"\"}, \"colorscale\": [[0.0, \"#0d0887\"], [0.1111111111111111, \"#46039f\"], [0.2222222222222222, \"#7201a8\"], [0.3333333333333333, \"#9c179e\"], [0.4444444444444444, \"#bd3786\"], [0.5555555555555556, \"#d8576b\"], [0.6666666666666666, \"#ed7953\"], [0.7777777777777778, \"#fb9f3a\"], [0.8888888888888888, \"#fdca26\"], [1.0, \"#f0f921\"]], \"type\": \"histogram2dcontour\"}], \"mesh3d\": [{\"colorbar\": {\"outlinewidth\": 0, \"ticks\": \"\"}, \"type\": \"mesh3d\"}], \"parcoords\": [{\"line\": {\"colorbar\": {\"outlinewidth\": 0, \"ticks\": \"\"}}, \"type\": \"parcoords\"}], \"pie\": [{\"automargin\": true, \"type\": \"pie\"}], \"scatter\": [{\"marker\": {\"colorbar\": {\"outlinewidth\": 0, \"ticks\": \"\"}}, \"type\": \"scatter\"}], \"scatter3d\": [{\"line\": {\"colorbar\": {\"outlinewidth\": 0, \"ticks\": \"\"}}, \"marker\": {\"colorbar\": {\"outlinewidth\": 0, \"ticks\": \"\"}}, \"type\": \"scatter3d\"}], \"scattercarpet\": [{\"marker\": {\"colorbar\": {\"outlinewidth\": 0, \"ticks\": \"\"}}, \"type\": \"scattercarpet\"}], \"scattergeo\": [{\"marker\": {\"colorbar\": {\"outlinewidth\": 0, \"ticks\": \"\"}}, \"type\": \"scattergeo\"}], \"scattergl\": [{\"marker\": {\"colorbar\": {\"outlinewidth\": 0, \"ticks\": \"\"}}, \"type\": \"scattergl\"}], \"scattermapbox\": [{\"marker\": {\"colorbar\": {\"outlinewidth\": 0, \"ticks\": \"\"}}, \"type\": \"scattermapbox\"}], \"scatterpolar\": [{\"marker\": {\"colorbar\": {\"outlinewidth\": 0, \"ticks\": \"\"}}, \"type\": \"scatterpolar\"}], \"scatterpolargl\": [{\"marker\": {\"colorbar\": {\"outlinewidth\": 0, \"ticks\": \"\"}}, \"type\": \"scatterpolargl\"}], \"scatterternary\": [{\"marker\": {\"colorbar\": {\"outlinewidth\": 0, \"ticks\": \"\"}}, \"type\": \"scatterternary\"}], \"surface\": [{\"colorbar\": {\"outlinewidth\": 0, \"ticks\": \"\"}, \"colorscale\": [[0.0, \"#0d0887\"], [0.1111111111111111, \"#46039f\"], [0.2222222222222222, \"#7201a8\"], [0.3333333333333333, \"#9c179e\"], [0.4444444444444444, \"#bd3786\"], [0.5555555555555556, \"#d8576b\"], [0.6666666666666666, \"#ed7953\"], [0.7777777777777778, \"#fb9f3a\"], [0.8888888888888888, \"#fdca26\"], [1.0, \"#f0f921\"]], \"type\": \"surface\"}], \"table\": [{\"cells\": {\"fill\": {\"color\": \"#EBF0F8\"}, \"line\": {\"color\": \"white\"}}, \"header\": {\"fill\": {\"color\": \"#C8D4E3\"}, \"line\": {\"color\": \"white\"}}, \"type\": \"table\"}]}, \"layout\": {\"annotationdefaults\": {\"arrowcolor\": \"#2a3f5f\", \"arrowhead\": 0, \"arrowwidth\": 1}, \"coloraxis\": {\"colorbar\": {\"outlinewidth\": 0, \"ticks\": \"\"}}, \"colorscale\": {\"diverging\": [[0, \"#8e0152\"], [0.1, \"#c51b7d\"], [0.2, \"#de77ae\"], [0.3, \"#f1b6da\"], [0.4, \"#fde0ef\"], [0.5, \"#f7f7f7\"], [0.6, \"#e6f5d0\"], [0.7, \"#b8e186\"], [0.8, \"#7fbc41\"], [0.9, \"#4d9221\"], [1, \"#276419\"]], \"sequential\": [[0.0, \"#0d0887\"], [0.1111111111111111, \"#46039f\"], [0.2222222222222222, \"#7201a8\"], [0.3333333333333333, \"#9c179e\"], [0.4444444444444444, \"#bd3786\"], [0.5555555555555556, \"#d8576b\"], [0.6666666666666666, \"#ed7953\"], [0.7777777777777778, \"#fb9f3a\"], [0.8888888888888888, \"#fdca26\"], [1.0, \"#f0f921\"]], \"sequentialminus\": [[0.0, \"#0d0887\"], [0.1111111111111111, \"#46039f\"], [0.2222222222222222, \"#7201a8\"], [0.3333333333333333, \"#9c179e\"], [0.4444444444444444, \"#bd3786\"], [0.5555555555555556, \"#d8576b\"], [0.6666666666666666, \"#ed7953\"], [0.7777777777777778, \"#fb9f3a\"], [0.8888888888888888, \"#fdca26\"], [1.0, \"#f0f921\"]]}, \"colorway\": [\"#636efa\", \"#EF553B\", \"#00cc96\", \"#ab63fa\", \"#FFA15A\", \"#19d3f3\", \"#FF6692\", \"#B6E880\", \"#FF97FF\", \"#FECB52\"], \"font\": {\"color\": \"#2a3f5f\"}, \"geo\": {\"bgcolor\": \"white\", \"lakecolor\": \"white\", \"landcolor\": \"#E5ECF6\", \"showlakes\": true, \"showland\": true, \"subunitcolor\": \"white\"}, \"hoverlabel\": {\"align\": \"left\"}, \"hovermode\": \"closest\", \"mapbox\": {\"style\": \"light\"}, \"paper_bgcolor\": \"white\", \"plot_bgcolor\": \"#E5ECF6\", \"polar\": {\"angularaxis\": {\"gridcolor\": \"white\", \"linecolor\": \"white\", \"ticks\": \"\"}, \"bgcolor\": \"#E5ECF6\", \"radialaxis\": {\"gridcolor\": \"white\", \"linecolor\": \"white\", \"ticks\": \"\"}}, \"scene\": {\"xaxis\": {\"backgroundcolor\": \"#E5ECF6\", \"gridcolor\": \"white\", \"gridwidth\": 2, \"linecolor\": \"white\", \"showbackground\": true, \"ticks\": \"\", \"zerolinecolor\": \"white\"}, \"yaxis\": {\"backgroundcolor\": \"#E5ECF6\", \"gridcolor\": \"white\", \"gridwidth\": 2, \"linecolor\": \"white\", \"showbackground\": true, \"ticks\": \"\", \"zerolinecolor\": \"white\"}, \"zaxis\": {\"backgroundcolor\": \"#E5ECF6\", \"gridcolor\": \"white\", \"gridwidth\": 2, \"linecolor\": \"white\", \"showbackground\": true, \"ticks\": \"\", \"zerolinecolor\": \"white\"}}, \"shapedefaults\": {\"line\": {\"color\": \"#2a3f5f\"}}, \"ternary\": {\"aaxis\": {\"gridcolor\": \"white\", \"linecolor\": \"white\", \"ticks\": \"\"}, \"baxis\": {\"gridcolor\": \"white\", \"linecolor\": \"white\", \"ticks\": \"\"}, \"bgcolor\": \"#E5ECF6\", \"caxis\": {\"gridcolor\": \"white\", \"linecolor\": \"white\", \"ticks\": \"\"}}, \"title\": {\"x\": 0.05}, \"xaxis\": {\"automargin\": true, \"gridcolor\": \"white\", \"linecolor\": \"white\", \"ticks\": \"\", \"title\": {\"standoff\": 15}, \"zerolinecolor\": \"white\", \"zerolinewidth\": 2}, \"yaxis\": {\"automargin\": true, \"gridcolor\": \"white\", \"linecolor\": \"white\", \"ticks\": \"\", \"title\": {\"standoff\": 15}, \"zerolinecolor\": \"white\", \"zerolinewidth\": 2}}}, \"title\": {\"font\": {\"color\": \"#4D5663\"}, \"text\": \"Number of category kinds in noteevents\"}, \"xaxis\": {\"gridcolor\": \"#E1E5ED\", \"showgrid\": true, \"tickfont\": {\"color\": \"#4D5663\"}, \"title\": {\"font\": {\"color\": \"#4D5663\"}, \"text\": \"\"}, \"zerolinecolor\": \"#E1E5ED\"}, \"yaxis\": {\"gridcolor\": \"#E1E5ED\", \"showgrid\": true, \"tickfont\": {\"color\": \"#4D5663\"}, \"title\": {\"font\": {\"color\": \"#4D5663\"}, \"text\": \"Number of notes\"}, \"zerolinecolor\": \"#E1E5ED\"}},\n",
       "                        {\"showLink\": true, \"linkText\": \"Export to plot.ly\", \"plotlyServerURL\": \"https://plot.ly\", \"responsive\": true}\n",
       "                    ).then(function(){\n",
       "                            \n",
       "var gd = document.getElementById('2daa634b-b9ac-4357-b882-944ec2ff36b1');\n",
       "var x = new MutationObserver(function (mutations, observer) {{\n",
       "        var display = window.getComputedStyle(gd).display;\n",
       "        if (!display || display === 'none') {{\n",
       "            console.log([gd, 'removed!']);\n",
       "            Plotly.purge(gd);\n",
       "            observer.disconnect();\n",
       "        }}\n",
       "}});\n",
       "\n",
       "// Listen for the removal of the full notebook cells\n",
       "var notebookContainer = gd.closest('#notebook-container');\n",
       "if (notebookContainer) {{\n",
       "    x.observe(notebookContainer, {childList: true});\n",
       "}}\n",
       "\n",
       "// Listen for the clearing of the current output cell\n",
       "var outputEl = gd.closest('.output');\n",
       "if (outputEl) {{\n",
       "    x.observe(outputEl, {childList: true});\n",
       "}}\n",
       "\n",
       "                        })\n",
       "                };\n",
       "                });\n",
       "            </script>\n",
       "        </div>"
      ]
     },
     "metadata": {},
     "output_type": "display_data"
    }
   ],
   "source": [
    "pneumonia_df['CATEGORY'].value_counts().sort_values(ascending=False).iplot(kind='bar', yTitle='Number of notes', \n",
    "                                                                title='Number of category kinds in noteevents')"
   ]
  },
  {
   "cell_type": "code",
   "execution_count": 15,
   "metadata": {},
   "outputs": [],
   "source": [
    "#pneumonia_no_disch_df = pneumonia_df.loc[pneumonia_df[\"CATEGORY\"] != 'Discharge summary', ['ROW_ID_x', 'SUBJECT_ID_x', 'HADM_ID', 'CHARTDATE', 'CHARTTIME', 'STORETIME', 'CATEGORY', 'DESCRIPTION', 'CGID', 'ISERROR', 'TEXT', 'ADMITTIME', 'DISCHTIME', 'DEATHTIME', 'ADMISSION_TYPE', 'DIAGNOSIS', 'HAS_CHARTEVENTS_DATA']]\n",
    "pneumonia_no_disch_df = pneumonia_df.loc[pneumonia_df[\"CATEGORY\"] != 'Discharge summary', ['ROW_ID_x','SUBJECT_ID_x','CHARTDATE','STORETIME','CATEGORY','DESCRIPTION','TEXT', 'DEATHTIME']]"
   ]
  },
  {
   "cell_type": "code",
   "execution_count": 16,
   "metadata": {
    "scrolled": false
   },
   "outputs": [
    {
     "data": {
      "application/vnd.plotly.v1+json": {
       "config": {
        "linkText": "Export to plot.ly",
        "plotlyServerURL": "https://plot.ly",
        "showLink": true
       },
       "data": [
        {
         "marker": {
          "color": "rgba(255, 153, 51, 0.6)",
          "line": {
           "color": "rgba(255, 153, 51, 1.0)",
           "width": 1
          }
         },
         "name": "CATEGORY",
         "orientation": "v",
         "text": "",
         "type": "bar",
         "x": [
          "Nursing",
          "Nursing/other",
          "Radiology",
          "Physician ",
          "ECG",
          "Respiratory ",
          "Echo",
          "General",
          "Nutrition",
          "Rehab Services",
          "Social Work",
          "Case Management ",
          "Pharmacy",
          "Consult"
         ],
         "y": [
          13256,
          12693,
          11723,
          10643,
          4469,
          2454,
          949,
          680,
          638,
          231,
          142,
          135,
          15,
          1
         ]
        }
       ],
       "layout": {
        "legend": {
         "bgcolor": "#F5F6F9",
         "font": {
          "color": "#4D5663"
         }
        },
        "paper_bgcolor": "#F5F6F9",
        "plot_bgcolor": "#F5F6F9",
        "template": {
         "data": {
          "bar": [
           {
            "error_x": {
             "color": "#2a3f5f"
            },
            "error_y": {
             "color": "#2a3f5f"
            },
            "marker": {
             "line": {
              "color": "#E5ECF6",
              "width": 0.5
             }
            },
            "type": "bar"
           }
          ],
          "barpolar": [
           {
            "marker": {
             "line": {
              "color": "#E5ECF6",
              "width": 0.5
             }
            },
            "type": "barpolar"
           }
          ],
          "carpet": [
           {
            "aaxis": {
             "endlinecolor": "#2a3f5f",
             "gridcolor": "white",
             "linecolor": "white",
             "minorgridcolor": "white",
             "startlinecolor": "#2a3f5f"
            },
            "baxis": {
             "endlinecolor": "#2a3f5f",
             "gridcolor": "white",
             "linecolor": "white",
             "minorgridcolor": "white",
             "startlinecolor": "#2a3f5f"
            },
            "type": "carpet"
           }
          ],
          "choropleth": [
           {
            "colorbar": {
             "outlinewidth": 0,
             "ticks": ""
            },
            "type": "choropleth"
           }
          ],
          "contour": [
           {
            "colorbar": {
             "outlinewidth": 0,
             "ticks": ""
            },
            "colorscale": [
             [
              0,
              "#0d0887"
             ],
             [
              0.1111111111111111,
              "#46039f"
             ],
             [
              0.2222222222222222,
              "#7201a8"
             ],
             [
              0.3333333333333333,
              "#9c179e"
             ],
             [
              0.4444444444444444,
              "#bd3786"
             ],
             [
              0.5555555555555556,
              "#d8576b"
             ],
             [
              0.6666666666666666,
              "#ed7953"
             ],
             [
              0.7777777777777778,
              "#fb9f3a"
             ],
             [
              0.8888888888888888,
              "#fdca26"
             ],
             [
              1,
              "#f0f921"
             ]
            ],
            "type": "contour"
           }
          ],
          "contourcarpet": [
           {
            "colorbar": {
             "outlinewidth": 0,
             "ticks": ""
            },
            "type": "contourcarpet"
           }
          ],
          "heatmap": [
           {
            "colorbar": {
             "outlinewidth": 0,
             "ticks": ""
            },
            "colorscale": [
             [
              0,
              "#0d0887"
             ],
             [
              0.1111111111111111,
              "#46039f"
             ],
             [
              0.2222222222222222,
              "#7201a8"
             ],
             [
              0.3333333333333333,
              "#9c179e"
             ],
             [
              0.4444444444444444,
              "#bd3786"
             ],
             [
              0.5555555555555556,
              "#d8576b"
             ],
             [
              0.6666666666666666,
              "#ed7953"
             ],
             [
              0.7777777777777778,
              "#fb9f3a"
             ],
             [
              0.8888888888888888,
              "#fdca26"
             ],
             [
              1,
              "#f0f921"
             ]
            ],
            "type": "heatmap"
           }
          ],
          "heatmapgl": [
           {
            "colorbar": {
             "outlinewidth": 0,
             "ticks": ""
            },
            "colorscale": [
             [
              0,
              "#0d0887"
             ],
             [
              0.1111111111111111,
              "#46039f"
             ],
             [
              0.2222222222222222,
              "#7201a8"
             ],
             [
              0.3333333333333333,
              "#9c179e"
             ],
             [
              0.4444444444444444,
              "#bd3786"
             ],
             [
              0.5555555555555556,
              "#d8576b"
             ],
             [
              0.6666666666666666,
              "#ed7953"
             ],
             [
              0.7777777777777778,
              "#fb9f3a"
             ],
             [
              0.8888888888888888,
              "#fdca26"
             ],
             [
              1,
              "#f0f921"
             ]
            ],
            "type": "heatmapgl"
           }
          ],
          "histogram": [
           {
            "marker": {
             "colorbar": {
              "outlinewidth": 0,
              "ticks": ""
             }
            },
            "type": "histogram"
           }
          ],
          "histogram2d": [
           {
            "colorbar": {
             "outlinewidth": 0,
             "ticks": ""
            },
            "colorscale": [
             [
              0,
              "#0d0887"
             ],
             [
              0.1111111111111111,
              "#46039f"
             ],
             [
              0.2222222222222222,
              "#7201a8"
             ],
             [
              0.3333333333333333,
              "#9c179e"
             ],
             [
              0.4444444444444444,
              "#bd3786"
             ],
             [
              0.5555555555555556,
              "#d8576b"
             ],
             [
              0.6666666666666666,
              "#ed7953"
             ],
             [
              0.7777777777777778,
              "#fb9f3a"
             ],
             [
              0.8888888888888888,
              "#fdca26"
             ],
             [
              1,
              "#f0f921"
             ]
            ],
            "type": "histogram2d"
           }
          ],
          "histogram2dcontour": [
           {
            "colorbar": {
             "outlinewidth": 0,
             "ticks": ""
            },
            "colorscale": [
             [
              0,
              "#0d0887"
             ],
             [
              0.1111111111111111,
              "#46039f"
             ],
             [
              0.2222222222222222,
              "#7201a8"
             ],
             [
              0.3333333333333333,
              "#9c179e"
             ],
             [
              0.4444444444444444,
              "#bd3786"
             ],
             [
              0.5555555555555556,
              "#d8576b"
             ],
             [
              0.6666666666666666,
              "#ed7953"
             ],
             [
              0.7777777777777778,
              "#fb9f3a"
             ],
             [
              0.8888888888888888,
              "#fdca26"
             ],
             [
              1,
              "#f0f921"
             ]
            ],
            "type": "histogram2dcontour"
           }
          ],
          "mesh3d": [
           {
            "colorbar": {
             "outlinewidth": 0,
             "ticks": ""
            },
            "type": "mesh3d"
           }
          ],
          "parcoords": [
           {
            "line": {
             "colorbar": {
              "outlinewidth": 0,
              "ticks": ""
             }
            },
            "type": "parcoords"
           }
          ],
          "pie": [
           {
            "automargin": true,
            "type": "pie"
           }
          ],
          "scatter": [
           {
            "marker": {
             "colorbar": {
              "outlinewidth": 0,
              "ticks": ""
             }
            },
            "type": "scatter"
           }
          ],
          "scatter3d": [
           {
            "line": {
             "colorbar": {
              "outlinewidth": 0,
              "ticks": ""
             }
            },
            "marker": {
             "colorbar": {
              "outlinewidth": 0,
              "ticks": ""
             }
            },
            "type": "scatter3d"
           }
          ],
          "scattercarpet": [
           {
            "marker": {
             "colorbar": {
              "outlinewidth": 0,
              "ticks": ""
             }
            },
            "type": "scattercarpet"
           }
          ],
          "scattergeo": [
           {
            "marker": {
             "colorbar": {
              "outlinewidth": 0,
              "ticks": ""
             }
            },
            "type": "scattergeo"
           }
          ],
          "scattergl": [
           {
            "marker": {
             "colorbar": {
              "outlinewidth": 0,
              "ticks": ""
             }
            },
            "type": "scattergl"
           }
          ],
          "scattermapbox": [
           {
            "marker": {
             "colorbar": {
              "outlinewidth": 0,
              "ticks": ""
             }
            },
            "type": "scattermapbox"
           }
          ],
          "scatterpolar": [
           {
            "marker": {
             "colorbar": {
              "outlinewidth": 0,
              "ticks": ""
             }
            },
            "type": "scatterpolar"
           }
          ],
          "scatterpolargl": [
           {
            "marker": {
             "colorbar": {
              "outlinewidth": 0,
              "ticks": ""
             }
            },
            "type": "scatterpolargl"
           }
          ],
          "scatterternary": [
           {
            "marker": {
             "colorbar": {
              "outlinewidth": 0,
              "ticks": ""
             }
            },
            "type": "scatterternary"
           }
          ],
          "surface": [
           {
            "colorbar": {
             "outlinewidth": 0,
             "ticks": ""
            },
            "colorscale": [
             [
              0,
              "#0d0887"
             ],
             [
              0.1111111111111111,
              "#46039f"
             ],
             [
              0.2222222222222222,
              "#7201a8"
             ],
             [
              0.3333333333333333,
              "#9c179e"
             ],
             [
              0.4444444444444444,
              "#bd3786"
             ],
             [
              0.5555555555555556,
              "#d8576b"
             ],
             [
              0.6666666666666666,
              "#ed7953"
             ],
             [
              0.7777777777777778,
              "#fb9f3a"
             ],
             [
              0.8888888888888888,
              "#fdca26"
             ],
             [
              1,
              "#f0f921"
             ]
            ],
            "type": "surface"
           }
          ],
          "table": [
           {
            "cells": {
             "fill": {
              "color": "#EBF0F8"
             },
             "line": {
              "color": "white"
             }
            },
            "header": {
             "fill": {
              "color": "#C8D4E3"
             },
             "line": {
              "color": "white"
             }
            },
            "type": "table"
           }
          ]
         },
         "layout": {
          "annotationdefaults": {
           "arrowcolor": "#2a3f5f",
           "arrowhead": 0,
           "arrowwidth": 1
          },
          "coloraxis": {
           "colorbar": {
            "outlinewidth": 0,
            "ticks": ""
           }
          },
          "colorscale": {
           "diverging": [
            [
             0,
             "#8e0152"
            ],
            [
             0.1,
             "#c51b7d"
            ],
            [
             0.2,
             "#de77ae"
            ],
            [
             0.3,
             "#f1b6da"
            ],
            [
             0.4,
             "#fde0ef"
            ],
            [
             0.5,
             "#f7f7f7"
            ],
            [
             0.6,
             "#e6f5d0"
            ],
            [
             0.7,
             "#b8e186"
            ],
            [
             0.8,
             "#7fbc41"
            ],
            [
             0.9,
             "#4d9221"
            ],
            [
             1,
             "#276419"
            ]
           ],
           "sequential": [
            [
             0,
             "#0d0887"
            ],
            [
             0.1111111111111111,
             "#46039f"
            ],
            [
             0.2222222222222222,
             "#7201a8"
            ],
            [
             0.3333333333333333,
             "#9c179e"
            ],
            [
             0.4444444444444444,
             "#bd3786"
            ],
            [
             0.5555555555555556,
             "#d8576b"
            ],
            [
             0.6666666666666666,
             "#ed7953"
            ],
            [
             0.7777777777777778,
             "#fb9f3a"
            ],
            [
             0.8888888888888888,
             "#fdca26"
            ],
            [
             1,
             "#f0f921"
            ]
           ],
           "sequentialminus": [
            [
             0,
             "#0d0887"
            ],
            [
             0.1111111111111111,
             "#46039f"
            ],
            [
             0.2222222222222222,
             "#7201a8"
            ],
            [
             0.3333333333333333,
             "#9c179e"
            ],
            [
             0.4444444444444444,
             "#bd3786"
            ],
            [
             0.5555555555555556,
             "#d8576b"
            ],
            [
             0.6666666666666666,
             "#ed7953"
            ],
            [
             0.7777777777777778,
             "#fb9f3a"
            ],
            [
             0.8888888888888888,
             "#fdca26"
            ],
            [
             1,
             "#f0f921"
            ]
           ]
          },
          "colorway": [
           "#636efa",
           "#EF553B",
           "#00cc96",
           "#ab63fa",
           "#FFA15A",
           "#19d3f3",
           "#FF6692",
           "#B6E880",
           "#FF97FF",
           "#FECB52"
          ],
          "font": {
           "color": "#2a3f5f"
          },
          "geo": {
           "bgcolor": "white",
           "lakecolor": "white",
           "landcolor": "#E5ECF6",
           "showlakes": true,
           "showland": true,
           "subunitcolor": "white"
          },
          "hoverlabel": {
           "align": "left"
          },
          "hovermode": "closest",
          "mapbox": {
           "style": "light"
          },
          "paper_bgcolor": "white",
          "plot_bgcolor": "#E5ECF6",
          "polar": {
           "angularaxis": {
            "gridcolor": "white",
            "linecolor": "white",
            "ticks": ""
           },
           "bgcolor": "#E5ECF6",
           "radialaxis": {
            "gridcolor": "white",
            "linecolor": "white",
            "ticks": ""
           }
          },
          "scene": {
           "xaxis": {
            "backgroundcolor": "#E5ECF6",
            "gridcolor": "white",
            "gridwidth": 2,
            "linecolor": "white",
            "showbackground": true,
            "ticks": "",
            "zerolinecolor": "white"
           },
           "yaxis": {
            "backgroundcolor": "#E5ECF6",
            "gridcolor": "white",
            "gridwidth": 2,
            "linecolor": "white",
            "showbackground": true,
            "ticks": "",
            "zerolinecolor": "white"
           },
           "zaxis": {
            "backgroundcolor": "#E5ECF6",
            "gridcolor": "white",
            "gridwidth": 2,
            "linecolor": "white",
            "showbackground": true,
            "ticks": "",
            "zerolinecolor": "white"
           }
          },
          "shapedefaults": {
           "line": {
            "color": "#2a3f5f"
           }
          },
          "ternary": {
           "aaxis": {
            "gridcolor": "white",
            "linecolor": "white",
            "ticks": ""
           },
           "baxis": {
            "gridcolor": "white",
            "linecolor": "white",
            "ticks": ""
           },
           "bgcolor": "#E5ECF6",
           "caxis": {
            "gridcolor": "white",
            "linecolor": "white",
            "ticks": ""
           }
          },
          "title": {
           "x": 0.05
          },
          "xaxis": {
           "automargin": true,
           "gridcolor": "white",
           "linecolor": "white",
           "ticks": "",
           "title": {
            "standoff": 15
           },
           "zerolinecolor": "white",
           "zerolinewidth": 2
          },
          "yaxis": {
           "automargin": true,
           "gridcolor": "white",
           "linecolor": "white",
           "ticks": "",
           "title": {
            "standoff": 15
           },
           "zerolinecolor": "white",
           "zerolinewidth": 2
          }
         }
        },
        "title": {
         "font": {
          "color": "#4D5663"
         },
         "text": "Number of category kinds in noteevents"
        },
        "xaxis": {
         "gridcolor": "#E1E5ED",
         "showgrid": true,
         "tickfont": {
          "color": "#4D5663"
         },
         "title": {
          "font": {
           "color": "#4D5663"
          },
          "text": ""
         },
         "zerolinecolor": "#E1E5ED"
        },
        "yaxis": {
         "gridcolor": "#E1E5ED",
         "showgrid": true,
         "tickfont": {
          "color": "#4D5663"
         },
         "title": {
          "font": {
           "color": "#4D5663"
          },
          "text": "Number of notes"
         },
         "zerolinecolor": "#E1E5ED"
        }
       }
      },
      "text/html": [
       "<div>\n",
       "        \n",
       "        \n",
       "            <div id=\"bd1ae570-dce1-4bf1-ade5-306318d781bd\" class=\"plotly-graph-div\" style=\"height:525px; width:100%;\"></div>\n",
       "            <script type=\"text/javascript\">\n",
       "                require([\"plotly\"], function(Plotly) {\n",
       "                    window.PLOTLYENV=window.PLOTLYENV || {};\n",
       "                    window.PLOTLYENV.BASE_URL='https://plot.ly';\n",
       "                    \n",
       "                if (document.getElementById(\"bd1ae570-dce1-4bf1-ade5-306318d781bd\")) {\n",
       "                    Plotly.newPlot(\n",
       "                        'bd1ae570-dce1-4bf1-ade5-306318d781bd',\n",
       "                        [{\"marker\": {\"color\": \"rgba(255, 153, 51, 0.6)\", \"line\": {\"color\": \"rgba(255, 153, 51, 1.0)\", \"width\": 1}}, \"name\": \"CATEGORY\", \"orientation\": \"v\", \"text\": \"\", \"type\": \"bar\", \"x\": [\"Nursing\", \"Nursing/other\", \"Radiology\", \"Physician \", \"ECG\", \"Respiratory \", \"Echo\", \"General\", \"Nutrition\", \"Rehab Services\", \"Social Work\", \"Case Management \", \"Pharmacy\", \"Consult\"], \"y\": [13256, 12693, 11723, 10643, 4469, 2454, 949, 680, 638, 231, 142, 135, 15, 1]}],\n",
       "                        {\"legend\": {\"bgcolor\": \"#F5F6F9\", \"font\": {\"color\": \"#4D5663\"}}, \"paper_bgcolor\": \"#F5F6F9\", \"plot_bgcolor\": \"#F5F6F9\", \"template\": {\"data\": {\"bar\": [{\"error_x\": {\"color\": \"#2a3f5f\"}, \"error_y\": {\"color\": \"#2a3f5f\"}, \"marker\": {\"line\": {\"color\": \"#E5ECF6\", \"width\": 0.5}}, \"type\": \"bar\"}], \"barpolar\": [{\"marker\": {\"line\": {\"color\": \"#E5ECF6\", \"width\": 0.5}}, \"type\": \"barpolar\"}], \"carpet\": [{\"aaxis\": {\"endlinecolor\": \"#2a3f5f\", \"gridcolor\": \"white\", \"linecolor\": \"white\", \"minorgridcolor\": \"white\", \"startlinecolor\": \"#2a3f5f\"}, \"baxis\": {\"endlinecolor\": \"#2a3f5f\", \"gridcolor\": \"white\", \"linecolor\": \"white\", \"minorgridcolor\": \"white\", \"startlinecolor\": \"#2a3f5f\"}, \"type\": \"carpet\"}], \"choropleth\": [{\"colorbar\": {\"outlinewidth\": 0, \"ticks\": \"\"}, \"type\": \"choropleth\"}], \"contour\": [{\"colorbar\": {\"outlinewidth\": 0, \"ticks\": \"\"}, \"colorscale\": [[0.0, \"#0d0887\"], [0.1111111111111111, \"#46039f\"], [0.2222222222222222, \"#7201a8\"], [0.3333333333333333, \"#9c179e\"], [0.4444444444444444, \"#bd3786\"], [0.5555555555555556, \"#d8576b\"], [0.6666666666666666, \"#ed7953\"], [0.7777777777777778, \"#fb9f3a\"], [0.8888888888888888, \"#fdca26\"], [1.0, \"#f0f921\"]], \"type\": \"contour\"}], \"contourcarpet\": [{\"colorbar\": {\"outlinewidth\": 0, \"ticks\": \"\"}, \"type\": \"contourcarpet\"}], \"heatmap\": [{\"colorbar\": {\"outlinewidth\": 0, \"ticks\": \"\"}, \"colorscale\": [[0.0, \"#0d0887\"], [0.1111111111111111, \"#46039f\"], [0.2222222222222222, \"#7201a8\"], [0.3333333333333333, \"#9c179e\"], [0.4444444444444444, \"#bd3786\"], [0.5555555555555556, \"#d8576b\"], [0.6666666666666666, \"#ed7953\"], [0.7777777777777778, \"#fb9f3a\"], [0.8888888888888888, \"#fdca26\"], [1.0, \"#f0f921\"]], \"type\": \"heatmap\"}], \"heatmapgl\": [{\"colorbar\": {\"outlinewidth\": 0, \"ticks\": \"\"}, \"colorscale\": [[0.0, \"#0d0887\"], [0.1111111111111111, \"#46039f\"], [0.2222222222222222, \"#7201a8\"], [0.3333333333333333, \"#9c179e\"], [0.4444444444444444, \"#bd3786\"], [0.5555555555555556, \"#d8576b\"], [0.6666666666666666, \"#ed7953\"], [0.7777777777777778, \"#fb9f3a\"], [0.8888888888888888, \"#fdca26\"], [1.0, \"#f0f921\"]], \"type\": \"heatmapgl\"}], \"histogram\": [{\"marker\": {\"colorbar\": {\"outlinewidth\": 0, \"ticks\": \"\"}}, \"type\": \"histogram\"}], \"histogram2d\": [{\"colorbar\": {\"outlinewidth\": 0, \"ticks\": \"\"}, \"colorscale\": [[0.0, \"#0d0887\"], [0.1111111111111111, \"#46039f\"], [0.2222222222222222, \"#7201a8\"], [0.3333333333333333, \"#9c179e\"], [0.4444444444444444, \"#bd3786\"], [0.5555555555555556, \"#d8576b\"], [0.6666666666666666, \"#ed7953\"], [0.7777777777777778, \"#fb9f3a\"], [0.8888888888888888, \"#fdca26\"], [1.0, \"#f0f921\"]], \"type\": \"histogram2d\"}], \"histogram2dcontour\": [{\"colorbar\": {\"outlinewidth\": 0, \"ticks\": \"\"}, \"colorscale\": [[0.0, \"#0d0887\"], [0.1111111111111111, \"#46039f\"], [0.2222222222222222, \"#7201a8\"], [0.3333333333333333, \"#9c179e\"], [0.4444444444444444, \"#bd3786\"], [0.5555555555555556, \"#d8576b\"], [0.6666666666666666, \"#ed7953\"], [0.7777777777777778, \"#fb9f3a\"], [0.8888888888888888, \"#fdca26\"], [1.0, \"#f0f921\"]], \"type\": \"histogram2dcontour\"}], \"mesh3d\": [{\"colorbar\": {\"outlinewidth\": 0, \"ticks\": \"\"}, \"type\": \"mesh3d\"}], \"parcoords\": [{\"line\": {\"colorbar\": {\"outlinewidth\": 0, \"ticks\": \"\"}}, \"type\": \"parcoords\"}], \"pie\": [{\"automargin\": true, \"type\": \"pie\"}], \"scatter\": [{\"marker\": {\"colorbar\": {\"outlinewidth\": 0, \"ticks\": \"\"}}, \"type\": \"scatter\"}], \"scatter3d\": [{\"line\": {\"colorbar\": {\"outlinewidth\": 0, \"ticks\": \"\"}}, \"marker\": {\"colorbar\": {\"outlinewidth\": 0, \"ticks\": \"\"}}, \"type\": \"scatter3d\"}], \"scattercarpet\": [{\"marker\": {\"colorbar\": {\"outlinewidth\": 0, \"ticks\": \"\"}}, \"type\": \"scattercarpet\"}], \"scattergeo\": [{\"marker\": {\"colorbar\": {\"outlinewidth\": 0, \"ticks\": \"\"}}, \"type\": \"scattergeo\"}], \"scattergl\": [{\"marker\": {\"colorbar\": {\"outlinewidth\": 0, \"ticks\": \"\"}}, \"type\": \"scattergl\"}], \"scattermapbox\": [{\"marker\": {\"colorbar\": {\"outlinewidth\": 0, \"ticks\": \"\"}}, \"type\": \"scattermapbox\"}], \"scatterpolar\": [{\"marker\": {\"colorbar\": {\"outlinewidth\": 0, \"ticks\": \"\"}}, \"type\": \"scatterpolar\"}], \"scatterpolargl\": [{\"marker\": {\"colorbar\": {\"outlinewidth\": 0, \"ticks\": \"\"}}, \"type\": \"scatterpolargl\"}], \"scatterternary\": [{\"marker\": {\"colorbar\": {\"outlinewidth\": 0, \"ticks\": \"\"}}, \"type\": \"scatterternary\"}], \"surface\": [{\"colorbar\": {\"outlinewidth\": 0, \"ticks\": \"\"}, \"colorscale\": [[0.0, \"#0d0887\"], [0.1111111111111111, \"#46039f\"], [0.2222222222222222, \"#7201a8\"], [0.3333333333333333, \"#9c179e\"], [0.4444444444444444, \"#bd3786\"], [0.5555555555555556, \"#d8576b\"], [0.6666666666666666, \"#ed7953\"], [0.7777777777777778, \"#fb9f3a\"], [0.8888888888888888, \"#fdca26\"], [1.0, \"#f0f921\"]], \"type\": \"surface\"}], \"table\": [{\"cells\": {\"fill\": {\"color\": \"#EBF0F8\"}, \"line\": {\"color\": \"white\"}}, \"header\": {\"fill\": {\"color\": \"#C8D4E3\"}, \"line\": {\"color\": \"white\"}}, \"type\": \"table\"}]}, \"layout\": {\"annotationdefaults\": {\"arrowcolor\": \"#2a3f5f\", \"arrowhead\": 0, \"arrowwidth\": 1}, \"coloraxis\": {\"colorbar\": {\"outlinewidth\": 0, \"ticks\": \"\"}}, \"colorscale\": {\"diverging\": [[0, \"#8e0152\"], [0.1, \"#c51b7d\"], [0.2, \"#de77ae\"], [0.3, \"#f1b6da\"], [0.4, \"#fde0ef\"], [0.5, \"#f7f7f7\"], [0.6, \"#e6f5d0\"], [0.7, \"#b8e186\"], [0.8, \"#7fbc41\"], [0.9, \"#4d9221\"], [1, \"#276419\"]], \"sequential\": [[0.0, \"#0d0887\"], [0.1111111111111111, \"#46039f\"], [0.2222222222222222, \"#7201a8\"], [0.3333333333333333, \"#9c179e\"], [0.4444444444444444, \"#bd3786\"], [0.5555555555555556, \"#d8576b\"], [0.6666666666666666, \"#ed7953\"], [0.7777777777777778, \"#fb9f3a\"], [0.8888888888888888, \"#fdca26\"], [1.0, \"#f0f921\"]], \"sequentialminus\": [[0.0, \"#0d0887\"], [0.1111111111111111, \"#46039f\"], [0.2222222222222222, \"#7201a8\"], [0.3333333333333333, \"#9c179e\"], [0.4444444444444444, \"#bd3786\"], [0.5555555555555556, \"#d8576b\"], [0.6666666666666666, \"#ed7953\"], [0.7777777777777778, \"#fb9f3a\"], [0.8888888888888888, \"#fdca26\"], [1.0, \"#f0f921\"]]}, \"colorway\": [\"#636efa\", \"#EF553B\", \"#00cc96\", \"#ab63fa\", \"#FFA15A\", \"#19d3f3\", \"#FF6692\", \"#B6E880\", \"#FF97FF\", \"#FECB52\"], \"font\": {\"color\": \"#2a3f5f\"}, \"geo\": {\"bgcolor\": \"white\", \"lakecolor\": \"white\", \"landcolor\": \"#E5ECF6\", \"showlakes\": true, \"showland\": true, \"subunitcolor\": \"white\"}, \"hoverlabel\": {\"align\": \"left\"}, \"hovermode\": \"closest\", \"mapbox\": {\"style\": \"light\"}, \"paper_bgcolor\": \"white\", \"plot_bgcolor\": \"#E5ECF6\", \"polar\": {\"angularaxis\": {\"gridcolor\": \"white\", \"linecolor\": \"white\", \"ticks\": \"\"}, \"bgcolor\": \"#E5ECF6\", \"radialaxis\": {\"gridcolor\": \"white\", \"linecolor\": \"white\", \"ticks\": \"\"}}, \"scene\": {\"xaxis\": {\"backgroundcolor\": \"#E5ECF6\", \"gridcolor\": \"white\", \"gridwidth\": 2, \"linecolor\": \"white\", \"showbackground\": true, \"ticks\": \"\", \"zerolinecolor\": \"white\"}, \"yaxis\": {\"backgroundcolor\": \"#E5ECF6\", \"gridcolor\": \"white\", \"gridwidth\": 2, \"linecolor\": \"white\", \"showbackground\": true, \"ticks\": \"\", \"zerolinecolor\": \"white\"}, \"zaxis\": {\"backgroundcolor\": \"#E5ECF6\", \"gridcolor\": \"white\", \"gridwidth\": 2, \"linecolor\": \"white\", \"showbackground\": true, \"ticks\": \"\", \"zerolinecolor\": \"white\"}}, \"shapedefaults\": {\"line\": {\"color\": \"#2a3f5f\"}}, \"ternary\": {\"aaxis\": {\"gridcolor\": \"white\", \"linecolor\": \"white\", \"ticks\": \"\"}, \"baxis\": {\"gridcolor\": \"white\", \"linecolor\": \"white\", \"ticks\": \"\"}, \"bgcolor\": \"#E5ECF6\", \"caxis\": {\"gridcolor\": \"white\", \"linecolor\": \"white\", \"ticks\": \"\"}}, \"title\": {\"x\": 0.05}, \"xaxis\": {\"automargin\": true, \"gridcolor\": \"white\", \"linecolor\": \"white\", \"ticks\": \"\", \"title\": {\"standoff\": 15}, \"zerolinecolor\": \"white\", \"zerolinewidth\": 2}, \"yaxis\": {\"automargin\": true, \"gridcolor\": \"white\", \"linecolor\": \"white\", \"ticks\": \"\", \"title\": {\"standoff\": 15}, \"zerolinecolor\": \"white\", \"zerolinewidth\": 2}}}, \"title\": {\"font\": {\"color\": \"#4D5663\"}, \"text\": \"Number of category kinds in noteevents\"}, \"xaxis\": {\"gridcolor\": \"#E1E5ED\", \"showgrid\": true, \"tickfont\": {\"color\": \"#4D5663\"}, \"title\": {\"font\": {\"color\": \"#4D5663\"}, \"text\": \"\"}, \"zerolinecolor\": \"#E1E5ED\"}, \"yaxis\": {\"gridcolor\": \"#E1E5ED\", \"showgrid\": true, \"tickfont\": {\"color\": \"#4D5663\"}, \"title\": {\"font\": {\"color\": \"#4D5663\"}, \"text\": \"Number of notes\"}, \"zerolinecolor\": \"#E1E5ED\"}},\n",
       "                        {\"showLink\": true, \"linkText\": \"Export to plot.ly\", \"plotlyServerURL\": \"https://plot.ly\", \"responsive\": true}\n",
       "                    ).then(function(){\n",
       "                            \n",
       "var gd = document.getElementById('bd1ae570-dce1-4bf1-ade5-306318d781bd');\n",
       "var x = new MutationObserver(function (mutations, observer) {{\n",
       "        var display = window.getComputedStyle(gd).display;\n",
       "        if (!display || display === 'none') {{\n",
       "            console.log([gd, 'removed!']);\n",
       "            Plotly.purge(gd);\n",
       "            observer.disconnect();\n",
       "        }}\n",
       "}});\n",
       "\n",
       "// Listen for the removal of the full notebook cells\n",
       "var notebookContainer = gd.closest('#notebook-container');\n",
       "if (notebookContainer) {{\n",
       "    x.observe(notebookContainer, {childList: true});\n",
       "}}\n",
       "\n",
       "// Listen for the clearing of the current output cell\n",
       "var outputEl = gd.closest('.output');\n",
       "if (outputEl) {{\n",
       "    x.observe(outputEl, {childList: true});\n",
       "}}\n",
       "\n",
       "                        })\n",
       "                };\n",
       "                });\n",
       "            </script>\n",
       "        </div>"
      ]
     },
     "metadata": {},
     "output_type": "display_data"
    }
   ],
   "source": [
    "pneumonia_no_disch_df['CATEGORY'].value_counts().sort_values(ascending=False).iplot(kind='bar', yTitle='Number of notes', \n",
    "                                                                title='Number of category kinds in noteevents')"
   ]
  },
  {
   "cell_type": "code",
   "execution_count": 17,
   "metadata": {},
   "outputs": [
    {
     "name": "stdout",
     "output_type": "stream",
     "text": [
      "<class 'pandas.core.frame.DataFrame'>\n",
      "Int64Index: 58029 entries, 59103 to 2066669\n",
      "Data columns (total 8 columns):\n",
      " #   Column        Non-Null Count  Dtype \n",
      "---  ------        --------------  ----- \n",
      " 0   ROW_ID_x      58029 non-null  int64 \n",
      " 1   SUBJECT_ID_x  58029 non-null  int64 \n",
      " 2   CHARTDATE     58029 non-null  object\n",
      " 3   STORETIME     40888 non-null  object\n",
      " 4   CATEGORY      58029 non-null  object\n",
      " 5   DESCRIPTION   58029 non-null  object\n",
      " 6   TEXT          58029 non-null  object\n",
      " 7   DEATHTIME     11895 non-null  object\n",
      "dtypes: int64(2), object(6)\n",
      "memory usage: 4.0+ MB\n"
     ]
    }
   ],
   "source": [
    "pneumonia_no_disch_df.info()"
   ]
  },
  {
   "cell_type": "code",
   "execution_count": 18,
   "metadata": {},
   "outputs": [
    {
     "data": {
      "text/plain": [
       "(58029, 8)"
      ]
     },
     "execution_count": 18,
     "metadata": {},
     "output_type": "execute_result"
    }
   ],
   "source": [
    "pneumonia_no_disch_df.shape"
   ]
  },
  {
   "cell_type": "code",
   "execution_count": 19,
   "metadata": {},
   "outputs": [],
   "source": [
    "pneumonia_alive_no_disch = pneumonia_no_disch_df[pneumonia_no_disch_df.DEATHTIME.isnull()]\n",
    "pneumonia_dead_no_disch = pneumonia_no_disch_df[pneumonia_no_disch_df.DEATHTIME.notnull()]"
   ]
  },
  {
   "cell_type": "code",
   "execution_count": 20,
   "metadata": {},
   "outputs": [
    {
     "data": {
      "text/plain": [
       "(11895, 8)"
      ]
     },
     "execution_count": 20,
     "metadata": {},
     "output_type": "execute_result"
    }
   ],
   "source": [
    "pneumonia_dead_no_disch.shape"
   ]
  },
  {
   "cell_type": "code",
   "execution_count": 21,
   "metadata": {},
   "outputs": [
    {
     "data": {
      "text/plain": [
       "(46134, 8)"
      ]
     },
     "execution_count": 21,
     "metadata": {},
     "output_type": "execute_result"
    }
   ],
   "source": [
    "pneumonia_alive_no_disch.shape"
   ]
  },
  {
   "cell_type": "code",
   "execution_count": 22,
   "metadata": {},
   "outputs": [],
   "source": [
    "pneumonia_alive_no_disch = pneumonia_alive_no_disch.sort_values(by=['SUBJECT_ID_x','CHARTDATE', 'ROW_ID_x'])\n",
    "pneumonia_dead_no_disch = pneumonia_dead_no_disch.sort_values(by=['SUBJECT_ID_x','CHARTDATE', 'ROW_ID_x'])"
   ]
  },
  {
   "cell_type": "code",
   "execution_count": 23,
   "metadata": {},
   "outputs": [
    {
     "data": {
      "application/vnd.plotly.v1+json": {
       "config": {
        "linkText": "Export to plot.ly",
        "plotlyServerURL": "https://plot.ly",
        "showLink": true
       },
       "data": [
        {
         "marker": {
          "color": "rgba(255, 153, 51, 0.6)",
          "line": {
           "color": "rgba(255, 153, 51, 1.0)",
           "width": 1
          }
         },
         "name": "CATEGORY",
         "orientation": "v",
         "text": "",
         "type": "bar",
         "x": [
          "Nursing",
          "Nursing/other",
          "Radiology",
          "Physician ",
          "ECG",
          "Respiratory ",
          "Echo",
          "Nutrition",
          "General",
          "Rehab Services",
          "Case Management ",
          "Social Work",
          "Pharmacy"
         ],
         "y": [
          10574,
          10043,
          9448,
          8431,
          3623,
          1831,
          782,
          489,
          486,
          207,
          106,
          100,
          14
         ]
        }
       ],
       "layout": {
        "legend": {
         "bgcolor": "#F5F6F9",
         "font": {
          "color": "#4D5663"
         }
        },
        "paper_bgcolor": "#F5F6F9",
        "plot_bgcolor": "#F5F6F9",
        "template": {
         "data": {
          "bar": [
           {
            "error_x": {
             "color": "#2a3f5f"
            },
            "error_y": {
             "color": "#2a3f5f"
            },
            "marker": {
             "line": {
              "color": "#E5ECF6",
              "width": 0.5
             }
            },
            "type": "bar"
           }
          ],
          "barpolar": [
           {
            "marker": {
             "line": {
              "color": "#E5ECF6",
              "width": 0.5
             }
            },
            "type": "barpolar"
           }
          ],
          "carpet": [
           {
            "aaxis": {
             "endlinecolor": "#2a3f5f",
             "gridcolor": "white",
             "linecolor": "white",
             "minorgridcolor": "white",
             "startlinecolor": "#2a3f5f"
            },
            "baxis": {
             "endlinecolor": "#2a3f5f",
             "gridcolor": "white",
             "linecolor": "white",
             "minorgridcolor": "white",
             "startlinecolor": "#2a3f5f"
            },
            "type": "carpet"
           }
          ],
          "choropleth": [
           {
            "colorbar": {
             "outlinewidth": 0,
             "ticks": ""
            },
            "type": "choropleth"
           }
          ],
          "contour": [
           {
            "colorbar": {
             "outlinewidth": 0,
             "ticks": ""
            },
            "colorscale": [
             [
              0,
              "#0d0887"
             ],
             [
              0.1111111111111111,
              "#46039f"
             ],
             [
              0.2222222222222222,
              "#7201a8"
             ],
             [
              0.3333333333333333,
              "#9c179e"
             ],
             [
              0.4444444444444444,
              "#bd3786"
             ],
             [
              0.5555555555555556,
              "#d8576b"
             ],
             [
              0.6666666666666666,
              "#ed7953"
             ],
             [
              0.7777777777777778,
              "#fb9f3a"
             ],
             [
              0.8888888888888888,
              "#fdca26"
             ],
             [
              1,
              "#f0f921"
             ]
            ],
            "type": "contour"
           }
          ],
          "contourcarpet": [
           {
            "colorbar": {
             "outlinewidth": 0,
             "ticks": ""
            },
            "type": "contourcarpet"
           }
          ],
          "heatmap": [
           {
            "colorbar": {
             "outlinewidth": 0,
             "ticks": ""
            },
            "colorscale": [
             [
              0,
              "#0d0887"
             ],
             [
              0.1111111111111111,
              "#46039f"
             ],
             [
              0.2222222222222222,
              "#7201a8"
             ],
             [
              0.3333333333333333,
              "#9c179e"
             ],
             [
              0.4444444444444444,
              "#bd3786"
             ],
             [
              0.5555555555555556,
              "#d8576b"
             ],
             [
              0.6666666666666666,
              "#ed7953"
             ],
             [
              0.7777777777777778,
              "#fb9f3a"
             ],
             [
              0.8888888888888888,
              "#fdca26"
             ],
             [
              1,
              "#f0f921"
             ]
            ],
            "type": "heatmap"
           }
          ],
          "heatmapgl": [
           {
            "colorbar": {
             "outlinewidth": 0,
             "ticks": ""
            },
            "colorscale": [
             [
              0,
              "#0d0887"
             ],
             [
              0.1111111111111111,
              "#46039f"
             ],
             [
              0.2222222222222222,
              "#7201a8"
             ],
             [
              0.3333333333333333,
              "#9c179e"
             ],
             [
              0.4444444444444444,
              "#bd3786"
             ],
             [
              0.5555555555555556,
              "#d8576b"
             ],
             [
              0.6666666666666666,
              "#ed7953"
             ],
             [
              0.7777777777777778,
              "#fb9f3a"
             ],
             [
              0.8888888888888888,
              "#fdca26"
             ],
             [
              1,
              "#f0f921"
             ]
            ],
            "type": "heatmapgl"
           }
          ],
          "histogram": [
           {
            "marker": {
             "colorbar": {
              "outlinewidth": 0,
              "ticks": ""
             }
            },
            "type": "histogram"
           }
          ],
          "histogram2d": [
           {
            "colorbar": {
             "outlinewidth": 0,
             "ticks": ""
            },
            "colorscale": [
             [
              0,
              "#0d0887"
             ],
             [
              0.1111111111111111,
              "#46039f"
             ],
             [
              0.2222222222222222,
              "#7201a8"
             ],
             [
              0.3333333333333333,
              "#9c179e"
             ],
             [
              0.4444444444444444,
              "#bd3786"
             ],
             [
              0.5555555555555556,
              "#d8576b"
             ],
             [
              0.6666666666666666,
              "#ed7953"
             ],
             [
              0.7777777777777778,
              "#fb9f3a"
             ],
             [
              0.8888888888888888,
              "#fdca26"
             ],
             [
              1,
              "#f0f921"
             ]
            ],
            "type": "histogram2d"
           }
          ],
          "histogram2dcontour": [
           {
            "colorbar": {
             "outlinewidth": 0,
             "ticks": ""
            },
            "colorscale": [
             [
              0,
              "#0d0887"
             ],
             [
              0.1111111111111111,
              "#46039f"
             ],
             [
              0.2222222222222222,
              "#7201a8"
             ],
             [
              0.3333333333333333,
              "#9c179e"
             ],
             [
              0.4444444444444444,
              "#bd3786"
             ],
             [
              0.5555555555555556,
              "#d8576b"
             ],
             [
              0.6666666666666666,
              "#ed7953"
             ],
             [
              0.7777777777777778,
              "#fb9f3a"
             ],
             [
              0.8888888888888888,
              "#fdca26"
             ],
             [
              1,
              "#f0f921"
             ]
            ],
            "type": "histogram2dcontour"
           }
          ],
          "mesh3d": [
           {
            "colorbar": {
             "outlinewidth": 0,
             "ticks": ""
            },
            "type": "mesh3d"
           }
          ],
          "parcoords": [
           {
            "line": {
             "colorbar": {
              "outlinewidth": 0,
              "ticks": ""
             }
            },
            "type": "parcoords"
           }
          ],
          "pie": [
           {
            "automargin": true,
            "type": "pie"
           }
          ],
          "scatter": [
           {
            "marker": {
             "colorbar": {
              "outlinewidth": 0,
              "ticks": ""
             }
            },
            "type": "scatter"
           }
          ],
          "scatter3d": [
           {
            "line": {
             "colorbar": {
              "outlinewidth": 0,
              "ticks": ""
             }
            },
            "marker": {
             "colorbar": {
              "outlinewidth": 0,
              "ticks": ""
             }
            },
            "type": "scatter3d"
           }
          ],
          "scattercarpet": [
           {
            "marker": {
             "colorbar": {
              "outlinewidth": 0,
              "ticks": ""
             }
            },
            "type": "scattercarpet"
           }
          ],
          "scattergeo": [
           {
            "marker": {
             "colorbar": {
              "outlinewidth": 0,
              "ticks": ""
             }
            },
            "type": "scattergeo"
           }
          ],
          "scattergl": [
           {
            "marker": {
             "colorbar": {
              "outlinewidth": 0,
              "ticks": ""
             }
            },
            "type": "scattergl"
           }
          ],
          "scattermapbox": [
           {
            "marker": {
             "colorbar": {
              "outlinewidth": 0,
              "ticks": ""
             }
            },
            "type": "scattermapbox"
           }
          ],
          "scatterpolar": [
           {
            "marker": {
             "colorbar": {
              "outlinewidth": 0,
              "ticks": ""
             }
            },
            "type": "scatterpolar"
           }
          ],
          "scatterpolargl": [
           {
            "marker": {
             "colorbar": {
              "outlinewidth": 0,
              "ticks": ""
             }
            },
            "type": "scatterpolargl"
           }
          ],
          "scatterternary": [
           {
            "marker": {
             "colorbar": {
              "outlinewidth": 0,
              "ticks": ""
             }
            },
            "type": "scatterternary"
           }
          ],
          "surface": [
           {
            "colorbar": {
             "outlinewidth": 0,
             "ticks": ""
            },
            "colorscale": [
             [
              0,
              "#0d0887"
             ],
             [
              0.1111111111111111,
              "#46039f"
             ],
             [
              0.2222222222222222,
              "#7201a8"
             ],
             [
              0.3333333333333333,
              "#9c179e"
             ],
             [
              0.4444444444444444,
              "#bd3786"
             ],
             [
              0.5555555555555556,
              "#d8576b"
             ],
             [
              0.6666666666666666,
              "#ed7953"
             ],
             [
              0.7777777777777778,
              "#fb9f3a"
             ],
             [
              0.8888888888888888,
              "#fdca26"
             ],
             [
              1,
              "#f0f921"
             ]
            ],
            "type": "surface"
           }
          ],
          "table": [
           {
            "cells": {
             "fill": {
              "color": "#EBF0F8"
             },
             "line": {
              "color": "white"
             }
            },
            "header": {
             "fill": {
              "color": "#C8D4E3"
             },
             "line": {
              "color": "white"
             }
            },
            "type": "table"
           }
          ]
         },
         "layout": {
          "annotationdefaults": {
           "arrowcolor": "#2a3f5f",
           "arrowhead": 0,
           "arrowwidth": 1
          },
          "coloraxis": {
           "colorbar": {
            "outlinewidth": 0,
            "ticks": ""
           }
          },
          "colorscale": {
           "diverging": [
            [
             0,
             "#8e0152"
            ],
            [
             0.1,
             "#c51b7d"
            ],
            [
             0.2,
             "#de77ae"
            ],
            [
             0.3,
             "#f1b6da"
            ],
            [
             0.4,
             "#fde0ef"
            ],
            [
             0.5,
             "#f7f7f7"
            ],
            [
             0.6,
             "#e6f5d0"
            ],
            [
             0.7,
             "#b8e186"
            ],
            [
             0.8,
             "#7fbc41"
            ],
            [
             0.9,
             "#4d9221"
            ],
            [
             1,
             "#276419"
            ]
           ],
           "sequential": [
            [
             0,
             "#0d0887"
            ],
            [
             0.1111111111111111,
             "#46039f"
            ],
            [
             0.2222222222222222,
             "#7201a8"
            ],
            [
             0.3333333333333333,
             "#9c179e"
            ],
            [
             0.4444444444444444,
             "#bd3786"
            ],
            [
             0.5555555555555556,
             "#d8576b"
            ],
            [
             0.6666666666666666,
             "#ed7953"
            ],
            [
             0.7777777777777778,
             "#fb9f3a"
            ],
            [
             0.8888888888888888,
             "#fdca26"
            ],
            [
             1,
             "#f0f921"
            ]
           ],
           "sequentialminus": [
            [
             0,
             "#0d0887"
            ],
            [
             0.1111111111111111,
             "#46039f"
            ],
            [
             0.2222222222222222,
             "#7201a8"
            ],
            [
             0.3333333333333333,
             "#9c179e"
            ],
            [
             0.4444444444444444,
             "#bd3786"
            ],
            [
             0.5555555555555556,
             "#d8576b"
            ],
            [
             0.6666666666666666,
             "#ed7953"
            ],
            [
             0.7777777777777778,
             "#fb9f3a"
            ],
            [
             0.8888888888888888,
             "#fdca26"
            ],
            [
             1,
             "#f0f921"
            ]
           ]
          },
          "colorway": [
           "#636efa",
           "#EF553B",
           "#00cc96",
           "#ab63fa",
           "#FFA15A",
           "#19d3f3",
           "#FF6692",
           "#B6E880",
           "#FF97FF",
           "#FECB52"
          ],
          "font": {
           "color": "#2a3f5f"
          },
          "geo": {
           "bgcolor": "white",
           "lakecolor": "white",
           "landcolor": "#E5ECF6",
           "showlakes": true,
           "showland": true,
           "subunitcolor": "white"
          },
          "hoverlabel": {
           "align": "left"
          },
          "hovermode": "closest",
          "mapbox": {
           "style": "light"
          },
          "paper_bgcolor": "white",
          "plot_bgcolor": "#E5ECF6",
          "polar": {
           "angularaxis": {
            "gridcolor": "white",
            "linecolor": "white",
            "ticks": ""
           },
           "bgcolor": "#E5ECF6",
           "radialaxis": {
            "gridcolor": "white",
            "linecolor": "white",
            "ticks": ""
           }
          },
          "scene": {
           "xaxis": {
            "backgroundcolor": "#E5ECF6",
            "gridcolor": "white",
            "gridwidth": 2,
            "linecolor": "white",
            "showbackground": true,
            "ticks": "",
            "zerolinecolor": "white"
           },
           "yaxis": {
            "backgroundcolor": "#E5ECF6",
            "gridcolor": "white",
            "gridwidth": 2,
            "linecolor": "white",
            "showbackground": true,
            "ticks": "",
            "zerolinecolor": "white"
           },
           "zaxis": {
            "backgroundcolor": "#E5ECF6",
            "gridcolor": "white",
            "gridwidth": 2,
            "linecolor": "white",
            "showbackground": true,
            "ticks": "",
            "zerolinecolor": "white"
           }
          },
          "shapedefaults": {
           "line": {
            "color": "#2a3f5f"
           }
          },
          "ternary": {
           "aaxis": {
            "gridcolor": "white",
            "linecolor": "white",
            "ticks": ""
           },
           "baxis": {
            "gridcolor": "white",
            "linecolor": "white",
            "ticks": ""
           },
           "bgcolor": "#E5ECF6",
           "caxis": {
            "gridcolor": "white",
            "linecolor": "white",
            "ticks": ""
           }
          },
          "title": {
           "x": 0.05
          },
          "xaxis": {
           "automargin": true,
           "gridcolor": "white",
           "linecolor": "white",
           "ticks": "",
           "title": {
            "standoff": 15
           },
           "zerolinecolor": "white",
           "zerolinewidth": 2
          },
          "yaxis": {
           "automargin": true,
           "gridcolor": "white",
           "linecolor": "white",
           "ticks": "",
           "title": {
            "standoff": 15
           },
           "zerolinecolor": "white",
           "zerolinewidth": 2
          }
         }
        },
        "title": {
         "font": {
          "color": "#4D5663"
         },
         "text": "Number of category kinds in pneumonia alive"
        },
        "xaxis": {
         "gridcolor": "#E1E5ED",
         "showgrid": true,
         "tickfont": {
          "color": "#4D5663"
         },
         "title": {
          "font": {
           "color": "#4D5663"
          },
          "text": ""
         },
         "zerolinecolor": "#E1E5ED"
        },
        "yaxis": {
         "gridcolor": "#E1E5ED",
         "showgrid": true,
         "tickfont": {
          "color": "#4D5663"
         },
         "title": {
          "font": {
           "color": "#4D5663"
          },
          "text": "Number of notes"
         },
         "zerolinecolor": "#E1E5ED"
        }
       }
      },
      "text/html": [
       "<div>\n",
       "        \n",
       "        \n",
       "            <div id=\"331c2999-0bf8-4dbe-9010-23729d013b5e\" class=\"plotly-graph-div\" style=\"height:525px; width:100%;\"></div>\n",
       "            <script type=\"text/javascript\">\n",
       "                require([\"plotly\"], function(Plotly) {\n",
       "                    window.PLOTLYENV=window.PLOTLYENV || {};\n",
       "                    window.PLOTLYENV.BASE_URL='https://plot.ly';\n",
       "                    \n",
       "                if (document.getElementById(\"331c2999-0bf8-4dbe-9010-23729d013b5e\")) {\n",
       "                    Plotly.newPlot(\n",
       "                        '331c2999-0bf8-4dbe-9010-23729d013b5e',\n",
       "                        [{\"marker\": {\"color\": \"rgba(255, 153, 51, 0.6)\", \"line\": {\"color\": \"rgba(255, 153, 51, 1.0)\", \"width\": 1}}, \"name\": \"CATEGORY\", \"orientation\": \"v\", \"text\": \"\", \"type\": \"bar\", \"x\": [\"Nursing\", \"Nursing/other\", \"Radiology\", \"Physician \", \"ECG\", \"Respiratory \", \"Echo\", \"Nutrition\", \"General\", \"Rehab Services\", \"Case Management \", \"Social Work\", \"Pharmacy\"], \"y\": [10574, 10043, 9448, 8431, 3623, 1831, 782, 489, 486, 207, 106, 100, 14]}],\n",
       "                        {\"legend\": {\"bgcolor\": \"#F5F6F9\", \"font\": {\"color\": \"#4D5663\"}}, \"paper_bgcolor\": \"#F5F6F9\", \"plot_bgcolor\": \"#F5F6F9\", \"template\": {\"data\": {\"bar\": [{\"error_x\": {\"color\": \"#2a3f5f\"}, \"error_y\": {\"color\": \"#2a3f5f\"}, \"marker\": {\"line\": {\"color\": \"#E5ECF6\", \"width\": 0.5}}, \"type\": \"bar\"}], \"barpolar\": [{\"marker\": {\"line\": {\"color\": \"#E5ECF6\", \"width\": 0.5}}, \"type\": \"barpolar\"}], \"carpet\": [{\"aaxis\": {\"endlinecolor\": \"#2a3f5f\", \"gridcolor\": \"white\", \"linecolor\": \"white\", \"minorgridcolor\": \"white\", \"startlinecolor\": \"#2a3f5f\"}, \"baxis\": {\"endlinecolor\": \"#2a3f5f\", \"gridcolor\": \"white\", \"linecolor\": \"white\", \"minorgridcolor\": \"white\", \"startlinecolor\": \"#2a3f5f\"}, \"type\": \"carpet\"}], \"choropleth\": [{\"colorbar\": {\"outlinewidth\": 0, \"ticks\": \"\"}, \"type\": \"choropleth\"}], \"contour\": [{\"colorbar\": {\"outlinewidth\": 0, \"ticks\": \"\"}, \"colorscale\": [[0.0, \"#0d0887\"], [0.1111111111111111, \"#46039f\"], [0.2222222222222222, \"#7201a8\"], [0.3333333333333333, \"#9c179e\"], [0.4444444444444444, \"#bd3786\"], [0.5555555555555556, \"#d8576b\"], [0.6666666666666666, \"#ed7953\"], [0.7777777777777778, \"#fb9f3a\"], [0.8888888888888888, \"#fdca26\"], [1.0, \"#f0f921\"]], \"type\": \"contour\"}], \"contourcarpet\": [{\"colorbar\": {\"outlinewidth\": 0, \"ticks\": \"\"}, \"type\": \"contourcarpet\"}], \"heatmap\": [{\"colorbar\": {\"outlinewidth\": 0, \"ticks\": \"\"}, \"colorscale\": [[0.0, \"#0d0887\"], [0.1111111111111111, \"#46039f\"], [0.2222222222222222, \"#7201a8\"], [0.3333333333333333, \"#9c179e\"], [0.4444444444444444, \"#bd3786\"], [0.5555555555555556, \"#d8576b\"], [0.6666666666666666, \"#ed7953\"], [0.7777777777777778, \"#fb9f3a\"], [0.8888888888888888, \"#fdca26\"], [1.0, \"#f0f921\"]], \"type\": \"heatmap\"}], \"heatmapgl\": [{\"colorbar\": {\"outlinewidth\": 0, \"ticks\": \"\"}, \"colorscale\": [[0.0, \"#0d0887\"], [0.1111111111111111, \"#46039f\"], [0.2222222222222222, \"#7201a8\"], [0.3333333333333333, \"#9c179e\"], [0.4444444444444444, \"#bd3786\"], [0.5555555555555556, \"#d8576b\"], [0.6666666666666666, \"#ed7953\"], [0.7777777777777778, \"#fb9f3a\"], [0.8888888888888888, \"#fdca26\"], [1.0, \"#f0f921\"]], \"type\": \"heatmapgl\"}], \"histogram\": [{\"marker\": {\"colorbar\": {\"outlinewidth\": 0, \"ticks\": \"\"}}, \"type\": \"histogram\"}], \"histogram2d\": [{\"colorbar\": {\"outlinewidth\": 0, \"ticks\": \"\"}, \"colorscale\": [[0.0, \"#0d0887\"], [0.1111111111111111, \"#46039f\"], [0.2222222222222222, \"#7201a8\"], [0.3333333333333333, \"#9c179e\"], [0.4444444444444444, \"#bd3786\"], [0.5555555555555556, \"#d8576b\"], [0.6666666666666666, \"#ed7953\"], [0.7777777777777778, \"#fb9f3a\"], [0.8888888888888888, \"#fdca26\"], [1.0, \"#f0f921\"]], \"type\": \"histogram2d\"}], \"histogram2dcontour\": [{\"colorbar\": {\"outlinewidth\": 0, \"ticks\": \"\"}, \"colorscale\": [[0.0, \"#0d0887\"], [0.1111111111111111, \"#46039f\"], [0.2222222222222222, \"#7201a8\"], [0.3333333333333333, \"#9c179e\"], [0.4444444444444444, \"#bd3786\"], [0.5555555555555556, \"#d8576b\"], [0.6666666666666666, \"#ed7953\"], [0.7777777777777778, \"#fb9f3a\"], [0.8888888888888888, \"#fdca26\"], [1.0, \"#f0f921\"]], \"type\": \"histogram2dcontour\"}], \"mesh3d\": [{\"colorbar\": {\"outlinewidth\": 0, \"ticks\": \"\"}, \"type\": \"mesh3d\"}], \"parcoords\": [{\"line\": {\"colorbar\": {\"outlinewidth\": 0, \"ticks\": \"\"}}, \"type\": \"parcoords\"}], \"pie\": [{\"automargin\": true, \"type\": \"pie\"}], \"scatter\": [{\"marker\": {\"colorbar\": {\"outlinewidth\": 0, \"ticks\": \"\"}}, \"type\": \"scatter\"}], \"scatter3d\": [{\"line\": {\"colorbar\": {\"outlinewidth\": 0, \"ticks\": \"\"}}, \"marker\": {\"colorbar\": {\"outlinewidth\": 0, \"ticks\": \"\"}}, \"type\": \"scatter3d\"}], \"scattercarpet\": [{\"marker\": {\"colorbar\": {\"outlinewidth\": 0, \"ticks\": \"\"}}, \"type\": \"scattercarpet\"}], \"scattergeo\": [{\"marker\": {\"colorbar\": {\"outlinewidth\": 0, \"ticks\": \"\"}}, \"type\": \"scattergeo\"}], \"scattergl\": [{\"marker\": {\"colorbar\": {\"outlinewidth\": 0, \"ticks\": \"\"}}, \"type\": \"scattergl\"}], \"scattermapbox\": [{\"marker\": {\"colorbar\": {\"outlinewidth\": 0, \"ticks\": \"\"}}, \"type\": \"scattermapbox\"}], \"scatterpolar\": [{\"marker\": {\"colorbar\": {\"outlinewidth\": 0, \"ticks\": \"\"}}, \"type\": \"scatterpolar\"}], \"scatterpolargl\": [{\"marker\": {\"colorbar\": {\"outlinewidth\": 0, \"ticks\": \"\"}}, \"type\": \"scatterpolargl\"}], \"scatterternary\": [{\"marker\": {\"colorbar\": {\"outlinewidth\": 0, \"ticks\": \"\"}}, \"type\": \"scatterternary\"}], \"surface\": [{\"colorbar\": {\"outlinewidth\": 0, \"ticks\": \"\"}, \"colorscale\": [[0.0, \"#0d0887\"], [0.1111111111111111, \"#46039f\"], [0.2222222222222222, \"#7201a8\"], [0.3333333333333333, \"#9c179e\"], [0.4444444444444444, \"#bd3786\"], [0.5555555555555556, \"#d8576b\"], [0.6666666666666666, \"#ed7953\"], [0.7777777777777778, \"#fb9f3a\"], [0.8888888888888888, \"#fdca26\"], [1.0, \"#f0f921\"]], \"type\": \"surface\"}], \"table\": [{\"cells\": {\"fill\": {\"color\": \"#EBF0F8\"}, \"line\": {\"color\": \"white\"}}, \"header\": {\"fill\": {\"color\": \"#C8D4E3\"}, \"line\": {\"color\": \"white\"}}, \"type\": \"table\"}]}, \"layout\": {\"annotationdefaults\": {\"arrowcolor\": \"#2a3f5f\", \"arrowhead\": 0, \"arrowwidth\": 1}, \"coloraxis\": {\"colorbar\": {\"outlinewidth\": 0, \"ticks\": \"\"}}, \"colorscale\": {\"diverging\": [[0, \"#8e0152\"], [0.1, \"#c51b7d\"], [0.2, \"#de77ae\"], [0.3, \"#f1b6da\"], [0.4, \"#fde0ef\"], [0.5, \"#f7f7f7\"], [0.6, \"#e6f5d0\"], [0.7, \"#b8e186\"], [0.8, \"#7fbc41\"], [0.9, \"#4d9221\"], [1, \"#276419\"]], \"sequential\": [[0.0, \"#0d0887\"], [0.1111111111111111, \"#46039f\"], [0.2222222222222222, \"#7201a8\"], [0.3333333333333333, \"#9c179e\"], [0.4444444444444444, \"#bd3786\"], [0.5555555555555556, \"#d8576b\"], [0.6666666666666666, \"#ed7953\"], [0.7777777777777778, \"#fb9f3a\"], [0.8888888888888888, \"#fdca26\"], [1.0, \"#f0f921\"]], \"sequentialminus\": [[0.0, \"#0d0887\"], [0.1111111111111111, \"#46039f\"], [0.2222222222222222, \"#7201a8\"], [0.3333333333333333, \"#9c179e\"], [0.4444444444444444, \"#bd3786\"], [0.5555555555555556, \"#d8576b\"], [0.6666666666666666, \"#ed7953\"], [0.7777777777777778, \"#fb9f3a\"], [0.8888888888888888, \"#fdca26\"], [1.0, \"#f0f921\"]]}, \"colorway\": [\"#636efa\", \"#EF553B\", \"#00cc96\", \"#ab63fa\", \"#FFA15A\", \"#19d3f3\", \"#FF6692\", \"#B6E880\", \"#FF97FF\", \"#FECB52\"], \"font\": {\"color\": \"#2a3f5f\"}, \"geo\": {\"bgcolor\": \"white\", \"lakecolor\": \"white\", \"landcolor\": \"#E5ECF6\", \"showlakes\": true, \"showland\": true, \"subunitcolor\": \"white\"}, \"hoverlabel\": {\"align\": \"left\"}, \"hovermode\": \"closest\", \"mapbox\": {\"style\": \"light\"}, \"paper_bgcolor\": \"white\", \"plot_bgcolor\": \"#E5ECF6\", \"polar\": {\"angularaxis\": {\"gridcolor\": \"white\", \"linecolor\": \"white\", \"ticks\": \"\"}, \"bgcolor\": \"#E5ECF6\", \"radialaxis\": {\"gridcolor\": \"white\", \"linecolor\": \"white\", \"ticks\": \"\"}}, \"scene\": {\"xaxis\": {\"backgroundcolor\": \"#E5ECF6\", \"gridcolor\": \"white\", \"gridwidth\": 2, \"linecolor\": \"white\", \"showbackground\": true, \"ticks\": \"\", \"zerolinecolor\": \"white\"}, \"yaxis\": {\"backgroundcolor\": \"#E5ECF6\", \"gridcolor\": \"white\", \"gridwidth\": 2, \"linecolor\": \"white\", \"showbackground\": true, \"ticks\": \"\", \"zerolinecolor\": \"white\"}, \"zaxis\": {\"backgroundcolor\": \"#E5ECF6\", \"gridcolor\": \"white\", \"gridwidth\": 2, \"linecolor\": \"white\", \"showbackground\": true, \"ticks\": \"\", \"zerolinecolor\": \"white\"}}, \"shapedefaults\": {\"line\": {\"color\": \"#2a3f5f\"}}, \"ternary\": {\"aaxis\": {\"gridcolor\": \"white\", \"linecolor\": \"white\", \"ticks\": \"\"}, \"baxis\": {\"gridcolor\": \"white\", \"linecolor\": \"white\", \"ticks\": \"\"}, \"bgcolor\": \"#E5ECF6\", \"caxis\": {\"gridcolor\": \"white\", \"linecolor\": \"white\", \"ticks\": \"\"}}, \"title\": {\"x\": 0.05}, \"xaxis\": {\"automargin\": true, \"gridcolor\": \"white\", \"linecolor\": \"white\", \"ticks\": \"\", \"title\": {\"standoff\": 15}, \"zerolinecolor\": \"white\", \"zerolinewidth\": 2}, \"yaxis\": {\"automargin\": true, \"gridcolor\": \"white\", \"linecolor\": \"white\", \"ticks\": \"\", \"title\": {\"standoff\": 15}, \"zerolinecolor\": \"white\", \"zerolinewidth\": 2}}}, \"title\": {\"font\": {\"color\": \"#4D5663\"}, \"text\": \"Number of category kinds in pneumonia alive\"}, \"xaxis\": {\"gridcolor\": \"#E1E5ED\", \"showgrid\": true, \"tickfont\": {\"color\": \"#4D5663\"}, \"title\": {\"font\": {\"color\": \"#4D5663\"}, \"text\": \"\"}, \"zerolinecolor\": \"#E1E5ED\"}, \"yaxis\": {\"gridcolor\": \"#E1E5ED\", \"showgrid\": true, \"tickfont\": {\"color\": \"#4D5663\"}, \"title\": {\"font\": {\"color\": \"#4D5663\"}, \"text\": \"Number of notes\"}, \"zerolinecolor\": \"#E1E5ED\"}},\n",
       "                        {\"showLink\": true, \"linkText\": \"Export to plot.ly\", \"plotlyServerURL\": \"https://plot.ly\", \"responsive\": true}\n",
       "                    ).then(function(){\n",
       "                            \n",
       "var gd = document.getElementById('331c2999-0bf8-4dbe-9010-23729d013b5e');\n",
       "var x = new MutationObserver(function (mutations, observer) {{\n",
       "        var display = window.getComputedStyle(gd).display;\n",
       "        if (!display || display === 'none') {{\n",
       "            console.log([gd, 'removed!']);\n",
       "            Plotly.purge(gd);\n",
       "            observer.disconnect();\n",
       "        }}\n",
       "}});\n",
       "\n",
       "// Listen for the removal of the full notebook cells\n",
       "var notebookContainer = gd.closest('#notebook-container');\n",
       "if (notebookContainer) {{\n",
       "    x.observe(notebookContainer, {childList: true});\n",
       "}}\n",
       "\n",
       "// Listen for the clearing of the current output cell\n",
       "var outputEl = gd.closest('.output');\n",
       "if (outputEl) {{\n",
       "    x.observe(outputEl, {childList: true});\n",
       "}}\n",
       "\n",
       "                        })\n",
       "                };\n",
       "                });\n",
       "            </script>\n",
       "        </div>"
      ]
     },
     "metadata": {},
     "output_type": "display_data"
    }
   ],
   "source": [
    "pneumonia_alive_no_disch['CATEGORY'].value_counts().sort_values(ascending=False).iplot(kind='bar', yTitle='Number of notes', \n",
    "                                                                title='Number of category kinds in pneumonia alive')"
   ]
  },
  {
   "cell_type": "code",
   "execution_count": 24,
   "metadata": {
    "scrolled": false
   },
   "outputs": [
    {
     "data": {
      "application/vnd.plotly.v1+json": {
       "config": {
        "linkText": "Export to plot.ly",
        "plotlyServerURL": "https://plot.ly",
        "showLink": true
       },
       "data": [
        {
         "marker": {
          "color": "rgba(255, 153, 51, 0.6)",
          "line": {
           "color": "rgba(255, 153, 51, 1.0)",
           "width": 1
          }
         },
         "name": "CATEGORY",
         "orientation": "v",
         "text": "",
         "type": "bar",
         "x": [
          "Nursing",
          "Nursing/other",
          "Radiology",
          "Physician ",
          "ECG",
          "Respiratory ",
          "General",
          "Echo",
          "Nutrition",
          "Social Work",
          "Case Management ",
          "Rehab Services",
          "Consult",
          "Pharmacy"
         ],
         "y": [
          2682,
          2650,
          2275,
          2212,
          846,
          623,
          194,
          167,
          149,
          42,
          29,
          24,
          1,
          1
         ]
        }
       ],
       "layout": {
        "legend": {
         "bgcolor": "#F5F6F9",
         "font": {
          "color": "#4D5663"
         }
        },
        "paper_bgcolor": "#F5F6F9",
        "plot_bgcolor": "#F5F6F9",
        "template": {
         "data": {
          "bar": [
           {
            "error_x": {
             "color": "#2a3f5f"
            },
            "error_y": {
             "color": "#2a3f5f"
            },
            "marker": {
             "line": {
              "color": "#E5ECF6",
              "width": 0.5
             }
            },
            "type": "bar"
           }
          ],
          "barpolar": [
           {
            "marker": {
             "line": {
              "color": "#E5ECF6",
              "width": 0.5
             }
            },
            "type": "barpolar"
           }
          ],
          "carpet": [
           {
            "aaxis": {
             "endlinecolor": "#2a3f5f",
             "gridcolor": "white",
             "linecolor": "white",
             "minorgridcolor": "white",
             "startlinecolor": "#2a3f5f"
            },
            "baxis": {
             "endlinecolor": "#2a3f5f",
             "gridcolor": "white",
             "linecolor": "white",
             "minorgridcolor": "white",
             "startlinecolor": "#2a3f5f"
            },
            "type": "carpet"
           }
          ],
          "choropleth": [
           {
            "colorbar": {
             "outlinewidth": 0,
             "ticks": ""
            },
            "type": "choropleth"
           }
          ],
          "contour": [
           {
            "colorbar": {
             "outlinewidth": 0,
             "ticks": ""
            },
            "colorscale": [
             [
              0,
              "#0d0887"
             ],
             [
              0.1111111111111111,
              "#46039f"
             ],
             [
              0.2222222222222222,
              "#7201a8"
             ],
             [
              0.3333333333333333,
              "#9c179e"
             ],
             [
              0.4444444444444444,
              "#bd3786"
             ],
             [
              0.5555555555555556,
              "#d8576b"
             ],
             [
              0.6666666666666666,
              "#ed7953"
             ],
             [
              0.7777777777777778,
              "#fb9f3a"
             ],
             [
              0.8888888888888888,
              "#fdca26"
             ],
             [
              1,
              "#f0f921"
             ]
            ],
            "type": "contour"
           }
          ],
          "contourcarpet": [
           {
            "colorbar": {
             "outlinewidth": 0,
             "ticks": ""
            },
            "type": "contourcarpet"
           }
          ],
          "heatmap": [
           {
            "colorbar": {
             "outlinewidth": 0,
             "ticks": ""
            },
            "colorscale": [
             [
              0,
              "#0d0887"
             ],
             [
              0.1111111111111111,
              "#46039f"
             ],
             [
              0.2222222222222222,
              "#7201a8"
             ],
             [
              0.3333333333333333,
              "#9c179e"
             ],
             [
              0.4444444444444444,
              "#bd3786"
             ],
             [
              0.5555555555555556,
              "#d8576b"
             ],
             [
              0.6666666666666666,
              "#ed7953"
             ],
             [
              0.7777777777777778,
              "#fb9f3a"
             ],
             [
              0.8888888888888888,
              "#fdca26"
             ],
             [
              1,
              "#f0f921"
             ]
            ],
            "type": "heatmap"
           }
          ],
          "heatmapgl": [
           {
            "colorbar": {
             "outlinewidth": 0,
             "ticks": ""
            },
            "colorscale": [
             [
              0,
              "#0d0887"
             ],
             [
              0.1111111111111111,
              "#46039f"
             ],
             [
              0.2222222222222222,
              "#7201a8"
             ],
             [
              0.3333333333333333,
              "#9c179e"
             ],
             [
              0.4444444444444444,
              "#bd3786"
             ],
             [
              0.5555555555555556,
              "#d8576b"
             ],
             [
              0.6666666666666666,
              "#ed7953"
             ],
             [
              0.7777777777777778,
              "#fb9f3a"
             ],
             [
              0.8888888888888888,
              "#fdca26"
             ],
             [
              1,
              "#f0f921"
             ]
            ],
            "type": "heatmapgl"
           }
          ],
          "histogram": [
           {
            "marker": {
             "colorbar": {
              "outlinewidth": 0,
              "ticks": ""
             }
            },
            "type": "histogram"
           }
          ],
          "histogram2d": [
           {
            "colorbar": {
             "outlinewidth": 0,
             "ticks": ""
            },
            "colorscale": [
             [
              0,
              "#0d0887"
             ],
             [
              0.1111111111111111,
              "#46039f"
             ],
             [
              0.2222222222222222,
              "#7201a8"
             ],
             [
              0.3333333333333333,
              "#9c179e"
             ],
             [
              0.4444444444444444,
              "#bd3786"
             ],
             [
              0.5555555555555556,
              "#d8576b"
             ],
             [
              0.6666666666666666,
              "#ed7953"
             ],
             [
              0.7777777777777778,
              "#fb9f3a"
             ],
             [
              0.8888888888888888,
              "#fdca26"
             ],
             [
              1,
              "#f0f921"
             ]
            ],
            "type": "histogram2d"
           }
          ],
          "histogram2dcontour": [
           {
            "colorbar": {
             "outlinewidth": 0,
             "ticks": ""
            },
            "colorscale": [
             [
              0,
              "#0d0887"
             ],
             [
              0.1111111111111111,
              "#46039f"
             ],
             [
              0.2222222222222222,
              "#7201a8"
             ],
             [
              0.3333333333333333,
              "#9c179e"
             ],
             [
              0.4444444444444444,
              "#bd3786"
             ],
             [
              0.5555555555555556,
              "#d8576b"
             ],
             [
              0.6666666666666666,
              "#ed7953"
             ],
             [
              0.7777777777777778,
              "#fb9f3a"
             ],
             [
              0.8888888888888888,
              "#fdca26"
             ],
             [
              1,
              "#f0f921"
             ]
            ],
            "type": "histogram2dcontour"
           }
          ],
          "mesh3d": [
           {
            "colorbar": {
             "outlinewidth": 0,
             "ticks": ""
            },
            "type": "mesh3d"
           }
          ],
          "parcoords": [
           {
            "line": {
             "colorbar": {
              "outlinewidth": 0,
              "ticks": ""
             }
            },
            "type": "parcoords"
           }
          ],
          "pie": [
           {
            "automargin": true,
            "type": "pie"
           }
          ],
          "scatter": [
           {
            "marker": {
             "colorbar": {
              "outlinewidth": 0,
              "ticks": ""
             }
            },
            "type": "scatter"
           }
          ],
          "scatter3d": [
           {
            "line": {
             "colorbar": {
              "outlinewidth": 0,
              "ticks": ""
             }
            },
            "marker": {
             "colorbar": {
              "outlinewidth": 0,
              "ticks": ""
             }
            },
            "type": "scatter3d"
           }
          ],
          "scattercarpet": [
           {
            "marker": {
             "colorbar": {
              "outlinewidth": 0,
              "ticks": ""
             }
            },
            "type": "scattercarpet"
           }
          ],
          "scattergeo": [
           {
            "marker": {
             "colorbar": {
              "outlinewidth": 0,
              "ticks": ""
             }
            },
            "type": "scattergeo"
           }
          ],
          "scattergl": [
           {
            "marker": {
             "colorbar": {
              "outlinewidth": 0,
              "ticks": ""
             }
            },
            "type": "scattergl"
           }
          ],
          "scattermapbox": [
           {
            "marker": {
             "colorbar": {
              "outlinewidth": 0,
              "ticks": ""
             }
            },
            "type": "scattermapbox"
           }
          ],
          "scatterpolar": [
           {
            "marker": {
             "colorbar": {
              "outlinewidth": 0,
              "ticks": ""
             }
            },
            "type": "scatterpolar"
           }
          ],
          "scatterpolargl": [
           {
            "marker": {
             "colorbar": {
              "outlinewidth": 0,
              "ticks": ""
             }
            },
            "type": "scatterpolargl"
           }
          ],
          "scatterternary": [
           {
            "marker": {
             "colorbar": {
              "outlinewidth": 0,
              "ticks": ""
             }
            },
            "type": "scatterternary"
           }
          ],
          "surface": [
           {
            "colorbar": {
             "outlinewidth": 0,
             "ticks": ""
            },
            "colorscale": [
             [
              0,
              "#0d0887"
             ],
             [
              0.1111111111111111,
              "#46039f"
             ],
             [
              0.2222222222222222,
              "#7201a8"
             ],
             [
              0.3333333333333333,
              "#9c179e"
             ],
             [
              0.4444444444444444,
              "#bd3786"
             ],
             [
              0.5555555555555556,
              "#d8576b"
             ],
             [
              0.6666666666666666,
              "#ed7953"
             ],
             [
              0.7777777777777778,
              "#fb9f3a"
             ],
             [
              0.8888888888888888,
              "#fdca26"
             ],
             [
              1,
              "#f0f921"
             ]
            ],
            "type": "surface"
           }
          ],
          "table": [
           {
            "cells": {
             "fill": {
              "color": "#EBF0F8"
             },
             "line": {
              "color": "white"
             }
            },
            "header": {
             "fill": {
              "color": "#C8D4E3"
             },
             "line": {
              "color": "white"
             }
            },
            "type": "table"
           }
          ]
         },
         "layout": {
          "annotationdefaults": {
           "arrowcolor": "#2a3f5f",
           "arrowhead": 0,
           "arrowwidth": 1
          },
          "coloraxis": {
           "colorbar": {
            "outlinewidth": 0,
            "ticks": ""
           }
          },
          "colorscale": {
           "diverging": [
            [
             0,
             "#8e0152"
            ],
            [
             0.1,
             "#c51b7d"
            ],
            [
             0.2,
             "#de77ae"
            ],
            [
             0.3,
             "#f1b6da"
            ],
            [
             0.4,
             "#fde0ef"
            ],
            [
             0.5,
             "#f7f7f7"
            ],
            [
             0.6,
             "#e6f5d0"
            ],
            [
             0.7,
             "#b8e186"
            ],
            [
             0.8,
             "#7fbc41"
            ],
            [
             0.9,
             "#4d9221"
            ],
            [
             1,
             "#276419"
            ]
           ],
           "sequential": [
            [
             0,
             "#0d0887"
            ],
            [
             0.1111111111111111,
             "#46039f"
            ],
            [
             0.2222222222222222,
             "#7201a8"
            ],
            [
             0.3333333333333333,
             "#9c179e"
            ],
            [
             0.4444444444444444,
             "#bd3786"
            ],
            [
             0.5555555555555556,
             "#d8576b"
            ],
            [
             0.6666666666666666,
             "#ed7953"
            ],
            [
             0.7777777777777778,
             "#fb9f3a"
            ],
            [
             0.8888888888888888,
             "#fdca26"
            ],
            [
             1,
             "#f0f921"
            ]
           ],
           "sequentialminus": [
            [
             0,
             "#0d0887"
            ],
            [
             0.1111111111111111,
             "#46039f"
            ],
            [
             0.2222222222222222,
             "#7201a8"
            ],
            [
             0.3333333333333333,
             "#9c179e"
            ],
            [
             0.4444444444444444,
             "#bd3786"
            ],
            [
             0.5555555555555556,
             "#d8576b"
            ],
            [
             0.6666666666666666,
             "#ed7953"
            ],
            [
             0.7777777777777778,
             "#fb9f3a"
            ],
            [
             0.8888888888888888,
             "#fdca26"
            ],
            [
             1,
             "#f0f921"
            ]
           ]
          },
          "colorway": [
           "#636efa",
           "#EF553B",
           "#00cc96",
           "#ab63fa",
           "#FFA15A",
           "#19d3f3",
           "#FF6692",
           "#B6E880",
           "#FF97FF",
           "#FECB52"
          ],
          "font": {
           "color": "#2a3f5f"
          },
          "geo": {
           "bgcolor": "white",
           "lakecolor": "white",
           "landcolor": "#E5ECF6",
           "showlakes": true,
           "showland": true,
           "subunitcolor": "white"
          },
          "hoverlabel": {
           "align": "left"
          },
          "hovermode": "closest",
          "mapbox": {
           "style": "light"
          },
          "paper_bgcolor": "white",
          "plot_bgcolor": "#E5ECF6",
          "polar": {
           "angularaxis": {
            "gridcolor": "white",
            "linecolor": "white",
            "ticks": ""
           },
           "bgcolor": "#E5ECF6",
           "radialaxis": {
            "gridcolor": "white",
            "linecolor": "white",
            "ticks": ""
           }
          },
          "scene": {
           "xaxis": {
            "backgroundcolor": "#E5ECF6",
            "gridcolor": "white",
            "gridwidth": 2,
            "linecolor": "white",
            "showbackground": true,
            "ticks": "",
            "zerolinecolor": "white"
           },
           "yaxis": {
            "backgroundcolor": "#E5ECF6",
            "gridcolor": "white",
            "gridwidth": 2,
            "linecolor": "white",
            "showbackground": true,
            "ticks": "",
            "zerolinecolor": "white"
           },
           "zaxis": {
            "backgroundcolor": "#E5ECF6",
            "gridcolor": "white",
            "gridwidth": 2,
            "linecolor": "white",
            "showbackground": true,
            "ticks": "",
            "zerolinecolor": "white"
           }
          },
          "shapedefaults": {
           "line": {
            "color": "#2a3f5f"
           }
          },
          "ternary": {
           "aaxis": {
            "gridcolor": "white",
            "linecolor": "white",
            "ticks": ""
           },
           "baxis": {
            "gridcolor": "white",
            "linecolor": "white",
            "ticks": ""
           },
           "bgcolor": "#E5ECF6",
           "caxis": {
            "gridcolor": "white",
            "linecolor": "white",
            "ticks": ""
           }
          },
          "title": {
           "x": 0.05
          },
          "xaxis": {
           "automargin": true,
           "gridcolor": "white",
           "linecolor": "white",
           "ticks": "",
           "title": {
            "standoff": 15
           },
           "zerolinecolor": "white",
           "zerolinewidth": 2
          },
          "yaxis": {
           "automargin": true,
           "gridcolor": "white",
           "linecolor": "white",
           "ticks": "",
           "title": {
            "standoff": 15
           },
           "zerolinecolor": "white",
           "zerolinewidth": 2
          }
         }
        },
        "title": {
         "font": {
          "color": "#4D5663"
         },
         "text": "Number of category kinds in pneumonia alive"
        },
        "xaxis": {
         "gridcolor": "#E1E5ED",
         "showgrid": true,
         "tickfont": {
          "color": "#4D5663"
         },
         "title": {
          "font": {
           "color": "#4D5663"
          },
          "text": ""
         },
         "zerolinecolor": "#E1E5ED"
        },
        "yaxis": {
         "gridcolor": "#E1E5ED",
         "showgrid": true,
         "tickfont": {
          "color": "#4D5663"
         },
         "title": {
          "font": {
           "color": "#4D5663"
          },
          "text": "Number of notes"
         },
         "zerolinecolor": "#E1E5ED"
        }
       }
      },
      "text/html": [
       "<div>\n",
       "        \n",
       "        \n",
       "            <div id=\"253dd400-a479-4249-9d0c-f5790a442705\" class=\"plotly-graph-div\" style=\"height:525px; width:100%;\"></div>\n",
       "            <script type=\"text/javascript\">\n",
       "                require([\"plotly\"], function(Plotly) {\n",
       "                    window.PLOTLYENV=window.PLOTLYENV || {};\n",
       "                    window.PLOTLYENV.BASE_URL='https://plot.ly';\n",
       "                    \n",
       "                if (document.getElementById(\"253dd400-a479-4249-9d0c-f5790a442705\")) {\n",
       "                    Plotly.newPlot(\n",
       "                        '253dd400-a479-4249-9d0c-f5790a442705',\n",
       "                        [{\"marker\": {\"color\": \"rgba(255, 153, 51, 0.6)\", \"line\": {\"color\": \"rgba(255, 153, 51, 1.0)\", \"width\": 1}}, \"name\": \"CATEGORY\", \"orientation\": \"v\", \"text\": \"\", \"type\": \"bar\", \"x\": [\"Nursing\", \"Nursing/other\", \"Radiology\", \"Physician \", \"ECG\", \"Respiratory \", \"General\", \"Echo\", \"Nutrition\", \"Social Work\", \"Case Management \", \"Rehab Services\", \"Consult\", \"Pharmacy\"], \"y\": [2682, 2650, 2275, 2212, 846, 623, 194, 167, 149, 42, 29, 24, 1, 1]}],\n",
       "                        {\"legend\": {\"bgcolor\": \"#F5F6F9\", \"font\": {\"color\": \"#4D5663\"}}, \"paper_bgcolor\": \"#F5F6F9\", \"plot_bgcolor\": \"#F5F6F9\", \"template\": {\"data\": {\"bar\": [{\"error_x\": {\"color\": \"#2a3f5f\"}, \"error_y\": {\"color\": \"#2a3f5f\"}, \"marker\": {\"line\": {\"color\": \"#E5ECF6\", \"width\": 0.5}}, \"type\": \"bar\"}], \"barpolar\": [{\"marker\": {\"line\": {\"color\": \"#E5ECF6\", \"width\": 0.5}}, \"type\": \"barpolar\"}], \"carpet\": [{\"aaxis\": {\"endlinecolor\": \"#2a3f5f\", \"gridcolor\": \"white\", \"linecolor\": \"white\", \"minorgridcolor\": \"white\", \"startlinecolor\": \"#2a3f5f\"}, \"baxis\": {\"endlinecolor\": \"#2a3f5f\", \"gridcolor\": \"white\", \"linecolor\": \"white\", \"minorgridcolor\": \"white\", \"startlinecolor\": \"#2a3f5f\"}, \"type\": \"carpet\"}], \"choropleth\": [{\"colorbar\": {\"outlinewidth\": 0, \"ticks\": \"\"}, \"type\": \"choropleth\"}], \"contour\": [{\"colorbar\": {\"outlinewidth\": 0, \"ticks\": \"\"}, \"colorscale\": [[0.0, \"#0d0887\"], [0.1111111111111111, \"#46039f\"], [0.2222222222222222, \"#7201a8\"], [0.3333333333333333, \"#9c179e\"], [0.4444444444444444, \"#bd3786\"], [0.5555555555555556, \"#d8576b\"], [0.6666666666666666, \"#ed7953\"], [0.7777777777777778, \"#fb9f3a\"], [0.8888888888888888, \"#fdca26\"], [1.0, \"#f0f921\"]], \"type\": \"contour\"}], \"contourcarpet\": [{\"colorbar\": {\"outlinewidth\": 0, \"ticks\": \"\"}, \"type\": \"contourcarpet\"}], \"heatmap\": [{\"colorbar\": {\"outlinewidth\": 0, \"ticks\": \"\"}, \"colorscale\": [[0.0, \"#0d0887\"], [0.1111111111111111, \"#46039f\"], [0.2222222222222222, \"#7201a8\"], [0.3333333333333333, \"#9c179e\"], [0.4444444444444444, \"#bd3786\"], [0.5555555555555556, \"#d8576b\"], [0.6666666666666666, \"#ed7953\"], [0.7777777777777778, \"#fb9f3a\"], [0.8888888888888888, \"#fdca26\"], [1.0, \"#f0f921\"]], \"type\": \"heatmap\"}], \"heatmapgl\": [{\"colorbar\": {\"outlinewidth\": 0, \"ticks\": \"\"}, \"colorscale\": [[0.0, \"#0d0887\"], [0.1111111111111111, \"#46039f\"], [0.2222222222222222, \"#7201a8\"], [0.3333333333333333, \"#9c179e\"], [0.4444444444444444, \"#bd3786\"], [0.5555555555555556, \"#d8576b\"], [0.6666666666666666, \"#ed7953\"], [0.7777777777777778, \"#fb9f3a\"], [0.8888888888888888, \"#fdca26\"], [1.0, \"#f0f921\"]], \"type\": \"heatmapgl\"}], \"histogram\": [{\"marker\": {\"colorbar\": {\"outlinewidth\": 0, \"ticks\": \"\"}}, \"type\": \"histogram\"}], \"histogram2d\": [{\"colorbar\": {\"outlinewidth\": 0, \"ticks\": \"\"}, \"colorscale\": [[0.0, \"#0d0887\"], [0.1111111111111111, \"#46039f\"], [0.2222222222222222, \"#7201a8\"], [0.3333333333333333, \"#9c179e\"], [0.4444444444444444, \"#bd3786\"], [0.5555555555555556, \"#d8576b\"], [0.6666666666666666, \"#ed7953\"], [0.7777777777777778, \"#fb9f3a\"], [0.8888888888888888, \"#fdca26\"], [1.0, \"#f0f921\"]], \"type\": \"histogram2d\"}], \"histogram2dcontour\": [{\"colorbar\": {\"outlinewidth\": 0, \"ticks\": \"\"}, \"colorscale\": [[0.0, \"#0d0887\"], [0.1111111111111111, \"#46039f\"], [0.2222222222222222, \"#7201a8\"], [0.3333333333333333, \"#9c179e\"], [0.4444444444444444, \"#bd3786\"], [0.5555555555555556, \"#d8576b\"], [0.6666666666666666, \"#ed7953\"], [0.7777777777777778, \"#fb9f3a\"], [0.8888888888888888, \"#fdca26\"], [1.0, \"#f0f921\"]], \"type\": \"histogram2dcontour\"}], \"mesh3d\": [{\"colorbar\": {\"outlinewidth\": 0, \"ticks\": \"\"}, \"type\": \"mesh3d\"}], \"parcoords\": [{\"line\": {\"colorbar\": {\"outlinewidth\": 0, \"ticks\": \"\"}}, \"type\": \"parcoords\"}], \"pie\": [{\"automargin\": true, \"type\": \"pie\"}], \"scatter\": [{\"marker\": {\"colorbar\": {\"outlinewidth\": 0, \"ticks\": \"\"}}, \"type\": \"scatter\"}], \"scatter3d\": [{\"line\": {\"colorbar\": {\"outlinewidth\": 0, \"ticks\": \"\"}}, \"marker\": {\"colorbar\": {\"outlinewidth\": 0, \"ticks\": \"\"}}, \"type\": \"scatter3d\"}], \"scattercarpet\": [{\"marker\": {\"colorbar\": {\"outlinewidth\": 0, \"ticks\": \"\"}}, \"type\": \"scattercarpet\"}], \"scattergeo\": [{\"marker\": {\"colorbar\": {\"outlinewidth\": 0, \"ticks\": \"\"}}, \"type\": \"scattergeo\"}], \"scattergl\": [{\"marker\": {\"colorbar\": {\"outlinewidth\": 0, \"ticks\": \"\"}}, \"type\": \"scattergl\"}], \"scattermapbox\": [{\"marker\": {\"colorbar\": {\"outlinewidth\": 0, \"ticks\": \"\"}}, \"type\": \"scattermapbox\"}], \"scatterpolar\": [{\"marker\": {\"colorbar\": {\"outlinewidth\": 0, \"ticks\": \"\"}}, \"type\": \"scatterpolar\"}], \"scatterpolargl\": [{\"marker\": {\"colorbar\": {\"outlinewidth\": 0, \"ticks\": \"\"}}, \"type\": \"scatterpolargl\"}], \"scatterternary\": [{\"marker\": {\"colorbar\": {\"outlinewidth\": 0, \"ticks\": \"\"}}, \"type\": \"scatterternary\"}], \"surface\": [{\"colorbar\": {\"outlinewidth\": 0, \"ticks\": \"\"}, \"colorscale\": [[0.0, \"#0d0887\"], [0.1111111111111111, \"#46039f\"], [0.2222222222222222, \"#7201a8\"], [0.3333333333333333, \"#9c179e\"], [0.4444444444444444, \"#bd3786\"], [0.5555555555555556, \"#d8576b\"], [0.6666666666666666, \"#ed7953\"], [0.7777777777777778, \"#fb9f3a\"], [0.8888888888888888, \"#fdca26\"], [1.0, \"#f0f921\"]], \"type\": \"surface\"}], \"table\": [{\"cells\": {\"fill\": {\"color\": \"#EBF0F8\"}, \"line\": {\"color\": \"white\"}}, \"header\": {\"fill\": {\"color\": \"#C8D4E3\"}, \"line\": {\"color\": \"white\"}}, \"type\": \"table\"}]}, \"layout\": {\"annotationdefaults\": {\"arrowcolor\": \"#2a3f5f\", \"arrowhead\": 0, \"arrowwidth\": 1}, \"coloraxis\": {\"colorbar\": {\"outlinewidth\": 0, \"ticks\": \"\"}}, \"colorscale\": {\"diverging\": [[0, \"#8e0152\"], [0.1, \"#c51b7d\"], [0.2, \"#de77ae\"], [0.3, \"#f1b6da\"], [0.4, \"#fde0ef\"], [0.5, \"#f7f7f7\"], [0.6, \"#e6f5d0\"], [0.7, \"#b8e186\"], [0.8, \"#7fbc41\"], [0.9, \"#4d9221\"], [1, \"#276419\"]], \"sequential\": [[0.0, \"#0d0887\"], [0.1111111111111111, \"#46039f\"], [0.2222222222222222, \"#7201a8\"], [0.3333333333333333, \"#9c179e\"], [0.4444444444444444, \"#bd3786\"], [0.5555555555555556, \"#d8576b\"], [0.6666666666666666, \"#ed7953\"], [0.7777777777777778, \"#fb9f3a\"], [0.8888888888888888, \"#fdca26\"], [1.0, \"#f0f921\"]], \"sequentialminus\": [[0.0, \"#0d0887\"], [0.1111111111111111, \"#46039f\"], [0.2222222222222222, \"#7201a8\"], [0.3333333333333333, \"#9c179e\"], [0.4444444444444444, \"#bd3786\"], [0.5555555555555556, \"#d8576b\"], [0.6666666666666666, \"#ed7953\"], [0.7777777777777778, \"#fb9f3a\"], [0.8888888888888888, \"#fdca26\"], [1.0, \"#f0f921\"]]}, \"colorway\": [\"#636efa\", \"#EF553B\", \"#00cc96\", \"#ab63fa\", \"#FFA15A\", \"#19d3f3\", \"#FF6692\", \"#B6E880\", \"#FF97FF\", \"#FECB52\"], \"font\": {\"color\": \"#2a3f5f\"}, \"geo\": {\"bgcolor\": \"white\", \"lakecolor\": \"white\", \"landcolor\": \"#E5ECF6\", \"showlakes\": true, \"showland\": true, \"subunitcolor\": \"white\"}, \"hoverlabel\": {\"align\": \"left\"}, \"hovermode\": \"closest\", \"mapbox\": {\"style\": \"light\"}, \"paper_bgcolor\": \"white\", \"plot_bgcolor\": \"#E5ECF6\", \"polar\": {\"angularaxis\": {\"gridcolor\": \"white\", \"linecolor\": \"white\", \"ticks\": \"\"}, \"bgcolor\": \"#E5ECF6\", \"radialaxis\": {\"gridcolor\": \"white\", \"linecolor\": \"white\", \"ticks\": \"\"}}, \"scene\": {\"xaxis\": {\"backgroundcolor\": \"#E5ECF6\", \"gridcolor\": \"white\", \"gridwidth\": 2, \"linecolor\": \"white\", \"showbackground\": true, \"ticks\": \"\", \"zerolinecolor\": \"white\"}, \"yaxis\": {\"backgroundcolor\": \"#E5ECF6\", \"gridcolor\": \"white\", \"gridwidth\": 2, \"linecolor\": \"white\", \"showbackground\": true, \"ticks\": \"\", \"zerolinecolor\": \"white\"}, \"zaxis\": {\"backgroundcolor\": \"#E5ECF6\", \"gridcolor\": \"white\", \"gridwidth\": 2, \"linecolor\": \"white\", \"showbackground\": true, \"ticks\": \"\", \"zerolinecolor\": \"white\"}}, \"shapedefaults\": {\"line\": {\"color\": \"#2a3f5f\"}}, \"ternary\": {\"aaxis\": {\"gridcolor\": \"white\", \"linecolor\": \"white\", \"ticks\": \"\"}, \"baxis\": {\"gridcolor\": \"white\", \"linecolor\": \"white\", \"ticks\": \"\"}, \"bgcolor\": \"#E5ECF6\", \"caxis\": {\"gridcolor\": \"white\", \"linecolor\": \"white\", \"ticks\": \"\"}}, \"title\": {\"x\": 0.05}, \"xaxis\": {\"automargin\": true, \"gridcolor\": \"white\", \"linecolor\": \"white\", \"ticks\": \"\", \"title\": {\"standoff\": 15}, \"zerolinecolor\": \"white\", \"zerolinewidth\": 2}, \"yaxis\": {\"automargin\": true, \"gridcolor\": \"white\", \"linecolor\": \"white\", \"ticks\": \"\", \"title\": {\"standoff\": 15}, \"zerolinecolor\": \"white\", \"zerolinewidth\": 2}}}, \"title\": {\"font\": {\"color\": \"#4D5663\"}, \"text\": \"Number of category kinds in pneumonia alive\"}, \"xaxis\": {\"gridcolor\": \"#E1E5ED\", \"showgrid\": true, \"tickfont\": {\"color\": \"#4D5663\"}, \"title\": {\"font\": {\"color\": \"#4D5663\"}, \"text\": \"\"}, \"zerolinecolor\": \"#E1E5ED\"}, \"yaxis\": {\"gridcolor\": \"#E1E5ED\", \"showgrid\": true, \"tickfont\": {\"color\": \"#4D5663\"}, \"title\": {\"font\": {\"color\": \"#4D5663\"}, \"text\": \"Number of notes\"}, \"zerolinecolor\": \"#E1E5ED\"}},\n",
       "                        {\"showLink\": true, \"linkText\": \"Export to plot.ly\", \"plotlyServerURL\": \"https://plot.ly\", \"responsive\": true}\n",
       "                    ).then(function(){\n",
       "                            \n",
       "var gd = document.getElementById('253dd400-a479-4249-9d0c-f5790a442705');\n",
       "var x = new MutationObserver(function (mutations, observer) {{\n",
       "        var display = window.getComputedStyle(gd).display;\n",
       "        if (!display || display === 'none') {{\n",
       "            console.log([gd, 'removed!']);\n",
       "            Plotly.purge(gd);\n",
       "            observer.disconnect();\n",
       "        }}\n",
       "}});\n",
       "\n",
       "// Listen for the removal of the full notebook cells\n",
       "var notebookContainer = gd.closest('#notebook-container');\n",
       "if (notebookContainer) {{\n",
       "    x.observe(notebookContainer, {childList: true});\n",
       "}}\n",
       "\n",
       "// Listen for the clearing of the current output cell\n",
       "var outputEl = gd.closest('.output');\n",
       "if (outputEl) {{\n",
       "    x.observe(outputEl, {childList: true});\n",
       "}}\n",
       "\n",
       "                        })\n",
       "                };\n",
       "                });\n",
       "            </script>\n",
       "        </div>"
      ]
     },
     "metadata": {},
     "output_type": "display_data"
    }
   ],
   "source": [
    "pneumonia_dead_no_disch['CATEGORY'].value_counts().sort_values(ascending=False).iplot(kind='bar', yTitle='Number of notes', \n",
    "                                                                title='Number of category kinds in pneumonia alive')"
   ]
  },
  {
   "cell_type": "code",
   "execution_count": 25,
   "metadata": {},
   "outputs": [
    {
     "data": {
      "text/html": [
       "<div>\n",
       "<style scoped>\n",
       "    .dataframe tbody tr th:only-of-type {\n",
       "        vertical-align: middle;\n",
       "    }\n",
       "\n",
       "    .dataframe tbody tr th {\n",
       "        vertical-align: top;\n",
       "    }\n",
       "\n",
       "    .dataframe thead th {\n",
       "        text-align: right;\n",
       "    }\n",
       "</style>\n",
       "<table border=\"1\" class=\"dataframe\">\n",
       "  <thead>\n",
       "    <tr style=\"text-align: right;\">\n",
       "      <th></th>\n",
       "      <th>ROW_ID_x</th>\n",
       "      <th>SUBJECT_ID_x</th>\n",
       "      <th>CHARTDATE</th>\n",
       "      <th>STORETIME</th>\n",
       "      <th>CATEGORY</th>\n",
       "      <th>DESCRIPTION</th>\n",
       "      <th>TEXT</th>\n",
       "      <th>DEATHTIME</th>\n",
       "    </tr>\n",
       "  </thead>\n",
       "  <tbody>\n",
       "    <tr>\n",
       "      <th>137480</th>\n",
       "      <td>149869</td>\n",
       "      <td>68</td>\n",
       "      <td>2173-12-15</td>\n",
       "      <td>NaN</td>\n",
       "      <td>ECG</td>\n",
       "      <td>Report</td>\n",
       "      <td>Sinus tachycardia. Compared to the previous tr...</td>\n",
       "      <td>NaN</td>\n",
       "    </tr>\n",
       "    <tr>\n",
       "      <th>137481</th>\n",
       "      <td>149870</td>\n",
       "      <td>68</td>\n",
       "      <td>2173-12-15</td>\n",
       "      <td>NaN</td>\n",
       "      <td>ECG</td>\n",
       "      <td>Report</td>\n",
       "      <td>Sinus rhythm. Delayed anterior precordial R wa...</td>\n",
       "      <td>NaN</td>\n",
       "    </tr>\n",
       "    <tr>\n",
       "      <th>1259578</th>\n",
       "      <td>1261173</td>\n",
       "      <td>68</td>\n",
       "      <td>2173-12-16</td>\n",
       "      <td>2173-12-16 05:09:00</td>\n",
       "      <td>Nursing/other</td>\n",
       "      <td>Report</td>\n",
       "      <td>Micu nsg admission note\\n41yo female with AIDS...</td>\n",
       "      <td>NaN</td>\n",
       "    </tr>\n",
       "    <tr>\n",
       "      <th>1259579</th>\n",
       "      <td>1261174</td>\n",
       "      <td>68</td>\n",
       "      <td>2173-12-16</td>\n",
       "      <td>2173-12-16 17:08:00</td>\n",
       "      <td>Nursing/other</td>\n",
       "      <td>Report</td>\n",
       "      <td>NSG 0700-1900\\nEvents: Attempted eating breakf...</td>\n",
       "      <td>NaN</td>\n",
       "    </tr>\n",
       "    <tr>\n",
       "      <th>1258821</th>\n",
       "      <td>1261175</td>\n",
       "      <td>68</td>\n",
       "      <td>2173-12-16</td>\n",
       "      <td>2173-12-16 17:18:00</td>\n",
       "      <td>Nursing/other</td>\n",
       "      <td>Report</td>\n",
       "      <td>Resp Care\\n\\nSputum induction obtained for PCP...</td>\n",
       "      <td>NaN</td>\n",
       "    </tr>\n",
       "    <tr>\n",
       "      <th>...</th>\n",
       "      <td>...</td>\n",
       "      <td>...</td>\n",
       "      <td>...</td>\n",
       "      <td>...</td>\n",
       "      <td>...</td>\n",
       "      <td>...</td>\n",
       "      <td>...</td>\n",
       "      <td>...</td>\n",
       "    </tr>\n",
       "    <tr>\n",
       "      <th>1129253</th>\n",
       "      <td>1138542</td>\n",
       "      <td>99937</td>\n",
       "      <td>2128-05-11</td>\n",
       "      <td>NaN</td>\n",
       "      <td>Radiology</td>\n",
       "      <td>CHEST (PORTABLE AP)</td>\n",
       "      <td>[**2128-5-11**] 11:57 AM\\n CHEST (PORTABLE AP)...</td>\n",
       "      <td>NaN</td>\n",
       "    </tr>\n",
       "    <tr>\n",
       "      <th>1129150</th>\n",
       "      <td>1138569</td>\n",
       "      <td>99937</td>\n",
       "      <td>2128-05-11</td>\n",
       "      <td>NaN</td>\n",
       "      <td>Radiology</td>\n",
       "      <td>CTA CHEST W&amp;W/O C&amp;RECONS, NON-CORONARY</td>\n",
       "      <td>[**2128-5-11**] 1:44 PM\\n CTA CHEST W&amp;W/O C&amp;RE...</td>\n",
       "      <td>NaN</td>\n",
       "    </tr>\n",
       "    <tr>\n",
       "      <th>148040</th>\n",
       "      <td>130595</td>\n",
       "      <td>99937</td>\n",
       "      <td>2128-05-12</td>\n",
       "      <td>NaN</td>\n",
       "      <td>ECG</td>\n",
       "      <td>Report</td>\n",
       "      <td>Normal sinus rhythm. Compared to tracing #1 no...</td>\n",
       "      <td>NaN</td>\n",
       "    </tr>\n",
       "    <tr>\n",
       "      <th>1129514</th>\n",
       "      <td>1138666</td>\n",
       "      <td>99937</td>\n",
       "      <td>2128-05-12</td>\n",
       "      <td>NaN</td>\n",
       "      <td>Radiology</td>\n",
       "      <td>CHEST (PORTABLE AP)</td>\n",
       "      <td>[**2128-5-12**] 7:27 AM\\n CHEST (PORTABLE AP) ...</td>\n",
       "      <td>NaN</td>\n",
       "    </tr>\n",
       "    <tr>\n",
       "      <th>65449</th>\n",
       "      <td>65037</td>\n",
       "      <td>99937</td>\n",
       "      <td>2128-05-13</td>\n",
       "      <td>NaN</td>\n",
       "      <td>Echo</td>\n",
       "      <td>Report</td>\n",
       "      <td>PATIENT/TEST INFORMATION:\\nIndication: Left ve...</td>\n",
       "      <td>NaN</td>\n",
       "    </tr>\n",
       "  </tbody>\n",
       "</table>\n",
       "<p>46134 rows × 8 columns</p>\n",
       "</div>"
      ],
      "text/plain": [
       "         ROW_ID_x  SUBJECT_ID_x   CHARTDATE            STORETIME  \\\n",
       "137480     149869            68  2173-12-15                  NaN   \n",
       "137481     149870            68  2173-12-15                  NaN   \n",
       "1259578   1261173            68  2173-12-16  2173-12-16 05:09:00   \n",
       "1259579   1261174            68  2173-12-16  2173-12-16 17:08:00   \n",
       "1258821   1261175            68  2173-12-16  2173-12-16 17:18:00   \n",
       "...           ...           ...         ...                  ...   \n",
       "1129253   1138542         99937  2128-05-11                  NaN   \n",
       "1129150   1138569         99937  2128-05-11                  NaN   \n",
       "148040     130595         99937  2128-05-12                  NaN   \n",
       "1129514   1138666         99937  2128-05-12                  NaN   \n",
       "65449       65037         99937  2128-05-13                  NaN   \n",
       "\n",
       "              CATEGORY                             DESCRIPTION  \\\n",
       "137480             ECG                                  Report   \n",
       "137481             ECG                                  Report   \n",
       "1259578  Nursing/other                                  Report   \n",
       "1259579  Nursing/other                                  Report   \n",
       "1258821  Nursing/other                                  Report   \n",
       "...                ...                                     ...   \n",
       "1129253      Radiology                     CHEST (PORTABLE AP)   \n",
       "1129150      Radiology  CTA CHEST W&W/O C&RECONS, NON-CORONARY   \n",
       "148040             ECG                                  Report   \n",
       "1129514      Radiology                     CHEST (PORTABLE AP)   \n",
       "65449             Echo                                  Report   \n",
       "\n",
       "                                                      TEXT DEATHTIME  \n",
       "137480   Sinus tachycardia. Compared to the previous tr...       NaN  \n",
       "137481   Sinus rhythm. Delayed anterior precordial R wa...       NaN  \n",
       "1259578  Micu nsg admission note\\n41yo female with AIDS...       NaN  \n",
       "1259579  NSG 0700-1900\\nEvents: Attempted eating breakf...       NaN  \n",
       "1258821  Resp Care\\n\\nSputum induction obtained for PCP...       NaN  \n",
       "...                                                    ...       ...  \n",
       "1129253  [**2128-5-11**] 11:57 AM\\n CHEST (PORTABLE AP)...       NaN  \n",
       "1129150  [**2128-5-11**] 1:44 PM\\n CTA CHEST W&W/O C&RE...       NaN  \n",
       "148040   Normal sinus rhythm. Compared to tracing #1 no...       NaN  \n",
       "1129514  [**2128-5-12**] 7:27 AM\\n CHEST (PORTABLE AP) ...       NaN  \n",
       "65449    PATIENT/TEST INFORMATION:\\nIndication: Left ve...       NaN  \n",
       "\n",
       "[46134 rows x 8 columns]"
      ]
     },
     "execution_count": 25,
     "metadata": {},
     "output_type": "execute_result"
    }
   ],
   "source": [
    "pneumonia_alive_no_disch"
   ]
  },
  {
   "cell_type": "code",
   "execution_count": 26,
   "metadata": {},
   "outputs": [
    {
     "data": {
      "text/plain": [
       "252"
      ]
     },
     "execution_count": 26,
     "metadata": {},
     "output_type": "execute_result"
    }
   ],
   "source": [
    "# Number of patients\n",
    "pneumonia_dead_no_disch['SUBJECT_ID_x'].nunique()"
   ]
  },
  {
   "cell_type": "code",
   "execution_count": 27,
   "metadata": {
    "scrolled": true
   },
   "outputs": [
    {
     "data": {
      "text/plain": [
       "1167"
      ]
     },
     "execution_count": 27,
     "metadata": {},
     "output_type": "execute_result"
    }
   ],
   "source": [
    "# Number of patients\n",
    "pneumonia_alive_no_disch['SUBJECT_ID_x'].nunique()"
   ]
  },
  {
   "cell_type": "code",
   "execution_count": 28,
   "metadata": {},
   "outputs": [],
   "source": [
    "# import text handling tool\n",
    "from nltk.tokenize import word_tokenize\n",
    "from nltk.corpus import stopwords\n",
    "from nltk.stem import PorterStemmer\n",
    "\n",
    "from collections import Counter\n",
    "\n",
    "import sys\n",
    "import re\n",
    "import csv\n",
    "import os.path\n",
    "\n",
    "# define constants\n",
    "# RESULT_HEADER = \"WORD, FREQUENCY\\n\"\n",
    "MIN_SEQ_LEN = 4\n",
    "USE_1_N_SEQ = 2\n",
    "\n",
    "\n",
    "# words that do not have meaning (can be modified later)\n",
    "USELESS_WORDS = [\"a\", \"the\", \"he\", \"she\", \",\", \".\", \"?\", \"!\", \":\", \";\", \"+\", \"*\", \"**\"\\\n",
    "                 \"your\", \"you\"]\n",
    "\n",
    "# count up the frequency of every word in every disease file\n",
    "stemmer = PorterStemmer()\n",
    "# create set of words to ignore in text\n",
    "stop_words = set(stopwords.words('english'))\n",
    "\n",
    "for word in USELESS_WORDS:\n",
    "    stop_words.add(word)"
   ]
  },
  {
   "cell_type": "code",
   "execution_count": null,
   "metadata": {},
   "outputs": [],
   "source": []
  },
  {
   "cell_type": "code",
   "execution_count": 29,
   "metadata": {},
   "outputs": [
    {
     "name": "stderr",
     "output_type": "stream",
     "text": [
      "100%|██████████| 11895/11895 [00:01<00:00, 9074.00it/s]\n",
      "100%|██████████| 46134/46134 [00:05<00:00, 8924.15it/s]\n"
     ]
    }
   ],
   "source": [
    "\n",
    "#----------\n",
    "def count_notes_per_patient(disease_df):\n",
    "    patient_id_to_num_notes = {}\n",
    "    patient_id = -1\n",
    "    note_counter = 0\n",
    "            \n",
    "    for index, row in tqdm(disease_df.iterrows(), total=disease_df.shape[0]):\n",
    "        patient_id_check = int(row['SUBJECT_ID_x'])\n",
    "                \n",
    "        if not patient_id == patient_id_check:\n",
    "            patient_id_to_num_notes[patient_id] = note_counter\n",
    "            note_counter = 1\n",
    "        else:\n",
    "            note_counter += 1\n",
    "                    \n",
    "        patient_id = patient_id_check\n",
    "                \n",
    "    patient_id_to_num_notes[patient_id] = note_counter\n",
    "    del patient_id_to_num_notes[-1]\n",
    "    return patient_id_to_num_notes\n",
    "\n",
    "patient_id_to_num_notes = {}\n",
    "patient_id_to_num_notes['pneumonia_dead'] = count_notes_per_patient(pneumonia_dead_no_disch)\n",
    "patient_id_to_num_notes['pneumonia_alive'] = count_notes_per_patient(pneumonia_alive_no_disch)"
   ]
  },
  {
   "cell_type": "code",
   "execution_count": 30,
   "metadata": {},
   "outputs": [
    {
     "data": {
      "text/plain": [
       "{'pneumonia_dead': {111: 12,\n",
       "  346: 25,\n",
       "  404: 3,\n",
       "  546: 6,\n",
       "  618: 16,\n",
       "  705: 15,\n",
       "  726: 48,\n",
       "  1039: 55,\n",
       "  1556: 37,\n",
       "  1872: 3,\n",
       "  1944: 56,\n",
       "  2286: 69,\n",
       "  2990: 166,\n",
       "  3055: 29,\n",
       "  3099: 13,\n",
       "  3201: 8,\n",
       "  3526: 7,\n",
       "  3773: 6,\n",
       "  3881: 20,\n",
       "  4122: 51,\n",
       "  4754: 101,\n",
       "  4811: 21,\n",
       "  5476: 1,\n",
       "  5494: 22,\n",
       "  5774: 104,\n",
       "  5786: 152,\n",
       "  5913: 1,\n",
       "  6133: 68,\n",
       "  6735: 13,\n",
       "  6745: 13,\n",
       "  6973: 36,\n",
       "  6981: 8,\n",
       "  7277: 66,\n",
       "  7310: 8,\n",
       "  7924: 9,\n",
       "  7977: 9,\n",
       "  9908: 11,\n",
       "  9984: 15,\n",
       "  10302: 100,\n",
       "  10510: 86,\n",
       "  10545: 10,\n",
       "  10642: 10,\n",
       "  11049: 14,\n",
       "  11209: 9,\n",
       "  11395: 41,\n",
       "  12530: 24,\n",
       "  12849: 50,\n",
       "  13098: 46,\n",
       "  13566: 23,\n",
       "  14125: 9,\n",
       "  14514: 96,\n",
       "  14965: 25,\n",
       "  15159: 15,\n",
       "  15251: 11,\n",
       "  15396: 17,\n",
       "  15566: 37,\n",
       "  15853: 45,\n",
       "  16275: 17,\n",
       "  16344: 27,\n",
       "  16622: 51,\n",
       "  16684: 29,\n",
       "  17122: 16,\n",
       "  17354: 5,\n",
       "  17802: 64,\n",
       "  17983: 65,\n",
       "  18094: 23,\n",
       "  18736: 35,\n",
       "  18768: 46,\n",
       "  18848: 205,\n",
       "  18971: 26,\n",
       "  19243: 25,\n",
       "  19323: 6,\n",
       "  19390: 21,\n",
       "  19463: 20,\n",
       "  19535: 59,\n",
       "  19754: 13,\n",
       "  19827: 22,\n",
       "  19833: 58,\n",
       "  19872: 10,\n",
       "  20006: 8,\n",
       "  20023: 9,\n",
       "  20190: 6,\n",
       "  21046: 101,\n",
       "  21094: 36,\n",
       "  21427: 10,\n",
       "  21502: 102,\n",
       "  21580: 52,\n",
       "  21676: 12,\n",
       "  21699: 7,\n",
       "  21979: 11,\n",
       "  22735: 15,\n",
       "  23660: 12,\n",
       "  23795: 78,\n",
       "  24181: 13,\n",
       "  24582: 37,\n",
       "  24725: 57,\n",
       "  24730: 19,\n",
       "  24854: 25,\n",
       "  25003: 182,\n",
       "  25046: 7,\n",
       "  25774: 61,\n",
       "  25975: 9,\n",
       "  26474: 89,\n",
       "  26578: 15,\n",
       "  26716: 41,\n",
       "  26774: 3,\n",
       "  26849: 33,\n",
       "  27005: 5,\n",
       "  27145: 24,\n",
       "  27421: 61,\n",
       "  27431: 5,\n",
       "  27496: 7,\n",
       "  27504: 72,\n",
       "  27639: 221,\n",
       "  28004: 13,\n",
       "  28072: 34,\n",
       "  28178: 202,\n",
       "  28427: 6,\n",
       "  28498: 25,\n",
       "  28726: 34,\n",
       "  28750: 19,\n",
       "  28906: 32,\n",
       "  28907: 13,\n",
       "  28933: 394,\n",
       "  29105: 468,\n",
       "  29588: 72,\n",
       "  29647: 26,\n",
       "  29872: 225,\n",
       "  30476: 174,\n",
       "  30549: 12,\n",
       "  30614: 8,\n",
       "  30699: 14,\n",
       "  30786: 9,\n",
       "  30941: 110,\n",
       "  31030: 168,\n",
       "  31134: 24,\n",
       "  31139: 9,\n",
       "  31451: 48,\n",
       "  31556: 57,\n",
       "  31690: 18,\n",
       "  31692: 35,\n",
       "  32050: 34,\n",
       "  32326: 24,\n",
       "  32618: 42,\n",
       "  41546: 25,\n",
       "  43937: 6,\n",
       "  44851: 274,\n",
       "  45381: 16,\n",
       "  46589: 26,\n",
       "  46763: 6,\n",
       "  47045: 9,\n",
       "  48632: 147,\n",
       "  49079: 20,\n",
       "  49683: 3,\n",
       "  49922: 13,\n",
       "  50093: 8,\n",
       "  50231: 3,\n",
       "  50556: 216,\n",
       "  50859: 537,\n",
       "  51914: 313,\n",
       "  52010: 12,\n",
       "  53105: 115,\n",
       "  53399: 78,\n",
       "  54193: 85,\n",
       "  54401: 14,\n",
       "  54408: 2,\n",
       "  54739: 75,\n",
       "  54946: 7,\n",
       "  55400: 5,\n",
       "  55570: 14,\n",
       "  55887: 37,\n",
       "  55944: 34,\n",
       "  55987: 20,\n",
       "  56390: 19,\n",
       "  56648: 8,\n",
       "  56854: 170,\n",
       "  57091: 88,\n",
       "  57102: 35,\n",
       "  58702: 479,\n",
       "  59260: 11,\n",
       "  59437: 26,\n",
       "  60849: 2,\n",
       "  60868: 6,\n",
       "  61652: 7,\n",
       "  61667: 30,\n",
       "  63039: 8,\n",
       "  65513: 8,\n",
       "  68044: 40,\n",
       "  68095: 23,\n",
       "  68184: 5,\n",
       "  68308: 8,\n",
       "  68860: 14,\n",
       "  69719: 13,\n",
       "  69745: 25,\n",
       "  69776: 17,\n",
       "  70226: 8,\n",
       "  70447: 9,\n",
       "  72930: 11,\n",
       "  73811: 9,\n",
       "  73888: 109,\n",
       "  74316: 2,\n",
       "  74444: 81,\n",
       "  74686: 75,\n",
       "  75824: 10,\n",
       "  76282: 21,\n",
       "  76827: 2,\n",
       "  77382: 10,\n",
       "  78241: 3,\n",
       "  78388: 14,\n",
       "  79008: 27,\n",
       "  79055: 21,\n",
       "  79222: 18,\n",
       "  79877: 156,\n",
       "  80637: 148,\n",
       "  80678: 9,\n",
       "  80737: 46,\n",
       "  80805: 79,\n",
       "  81437: 27,\n",
       "  82393: 5,\n",
       "  82769: 85,\n",
       "  83932: 2,\n",
       "  84474: 34,\n",
       "  85160: 8,\n",
       "  85258: 52,\n",
       "  85404: 11,\n",
       "  85797: 9,\n",
       "  86007: 35,\n",
       "  86394: 4,\n",
       "  86684: 11,\n",
       "  86832: 67,\n",
       "  86863: 8,\n",
       "  86872: 326,\n",
       "  88193: 16,\n",
       "  88660: 11,\n",
       "  90256: 18,\n",
       "  91350: 19,\n",
       "  92074: 28,\n",
       "  92278: 52,\n",
       "  92331: 42,\n",
       "  93422: 7,\n",
       "  94341: 2,\n",
       "  94997: 9,\n",
       "  95280: 23,\n",
       "  95803: 18,\n",
       "  95830: 33,\n",
       "  95933: 56,\n",
       "  96699: 85,\n",
       "  97181: 30,\n",
       "  97795: 60,\n",
       "  98009: 33,\n",
       "  98299: 29,\n",
       "  98597: 2},\n",
       " 'pneumonia_alive': {68: 18,\n",
       "  85: 8,\n",
       "  94: 100,\n",
       "  165: 2,\n",
       "  211: 24,\n",
       "  224: 8,\n",
       "  231: 75,\n",
       "  283: 131,\n",
       "  357: 17,\n",
       "  368: 45,\n",
       "  370: 13,\n",
       "  384: 26,\n",
       "  426: 10,\n",
       "  509: 34,\n",
       "  514: 7,\n",
       "  596: 23,\n",
       "  674: 16,\n",
       "  707: 29,\n",
       "  711: 537,\n",
       "  770: 83,\n",
       "  773: 74,\n",
       "  899: 17,\n",
       "  1096: 17,\n",
       "  1135: 32,\n",
       "  1163: 12,\n",
       "  1174: 42,\n",
       "  1180: 5,\n",
       "  1283: 3,\n",
       "  1332: 66,\n",
       "  1339: 134,\n",
       "  1546: 21,\n",
       "  1568: 22,\n",
       "  1601: 12,\n",
       "  1606: 13,\n",
       "  1642: 4,\n",
       "  1660: 23,\n",
       "  1895: 22,\n",
       "  1923: 23,\n",
       "  2029: 175,\n",
       "  2090: 179,\n",
       "  2098: 26,\n",
       "  2128: 31,\n",
       "  2170: 9,\n",
       "  2187: 30,\n",
       "  2208: 139,\n",
       "  2337: 8,\n",
       "  2378: 57,\n",
       "  2386: 18,\n",
       "  2452: 22,\n",
       "  2508: 22,\n",
       "  2561: 126,\n",
       "  2585: 9,\n",
       "  2589: 92,\n",
       "  2590: 5,\n",
       "  2628: 218,\n",
       "  2658: 16,\n",
       "  2732: 12,\n",
       "  2784: 23,\n",
       "  2823: 21,\n",
       "  3070: 8,\n",
       "  3100: 70,\n",
       "  3154: 22,\n",
       "  3220: 28,\n",
       "  3277: 35,\n",
       "  3347: 15,\n",
       "  3359: 15,\n",
       "  3516: 11,\n",
       "  3602: 18,\n",
       "  3623: 116,\n",
       "  3641: 57,\n",
       "  3676: 49,\n",
       "  3830: 80,\n",
       "  3860: 203,\n",
       "  3862: 22,\n",
       "  3865: 8,\n",
       "  3895: 6,\n",
       "  3935: 44,\n",
       "  3952: 20,\n",
       "  3975: 34,\n",
       "  4109: 9,\n",
       "  4155: 23,\n",
       "  4236: 14,\n",
       "  4275: 45,\n",
       "  4316: 13,\n",
       "  4317: 106,\n",
       "  4328: 23,\n",
       "  4388: 14,\n",
       "  4454: 5,\n",
       "  4467: 12,\n",
       "  4489: 21,\n",
       "  4494: 18,\n",
       "  4584: 39,\n",
       "  4588: 80,\n",
       "  4641: 23,\n",
       "  4694: 19,\n",
       "  4804: 6,\n",
       "  5030: 49,\n",
       "  5145: 9,\n",
       "  5244: 113,\n",
       "  5264: 115,\n",
       "  5360: 19,\n",
       "  5434: 24,\n",
       "  5476: 36,\n",
       "  5516: 31,\n",
       "  5536: 21,\n",
       "  5564: 30,\n",
       "  5579: 14,\n",
       "  5609: 39,\n",
       "  5619: 25,\n",
       "  5631: 9,\n",
       "  5681: 9,\n",
       "  5691: 12,\n",
       "  5727: 41,\n",
       "  5761: 85,\n",
       "  5819: 19,\n",
       "  5904: 16,\n",
       "  5937: 61,\n",
       "  6038: 4,\n",
       "  6143: 15,\n",
       "  6176: 5,\n",
       "  6183: 17,\n",
       "  6206: 7,\n",
       "  6279: 20,\n",
       "  6378: 112,\n",
       "  6398: 11,\n",
       "  6557: 16,\n",
       "  6603: 15,\n",
       "  6884: 43,\n",
       "  6901: 8,\n",
       "  6915: 190,\n",
       "  7107: 230,\n",
       "  7169: 9,\n",
       "  7271: 117,\n",
       "  7356: 12,\n",
       "  7363: 284,\n",
       "  7492: 58,\n",
       "  7569: 32,\n",
       "  7603: 39,\n",
       "  7666: 9,\n",
       "  7700: 68,\n",
       "  7787: 18,\n",
       "  7849: 96,\n",
       "  7936: 3,\n",
       "  8070: 69,\n",
       "  8312: 29,\n",
       "  8337: 22,\n",
       "  8366: 25,\n",
       "  8471: 15,\n",
       "  8512: 16,\n",
       "  8515: 21,\n",
       "  8532: 9,\n",
       "  8556: 71,\n",
       "  8803: 4,\n",
       "  8895: 10,\n",
       "  8900: 11,\n",
       "  9124: 18,\n",
       "  9128: 2,\n",
       "  9253: 76,\n",
       "  9304: 12,\n",
       "  9332: 7,\n",
       "  9457: 6,\n",
       "  9505: 2,\n",
       "  9518: 80,\n",
       "  9544: 228,\n",
       "  9727: 37,\n",
       "  9736: 19,\n",
       "  9859: 12,\n",
       "  9871: 17,\n",
       "  9957: 15,\n",
       "  9973: 59,\n",
       "  10057: 144,\n",
       "  10207: 36,\n",
       "  10299: 167,\n",
       "  10304: 8,\n",
       "  10377: 125,\n",
       "  10502: 9,\n",
       "  10581: 11,\n",
       "  10589: 18,\n",
       "  10626: 72,\n",
       "  10635: 6,\n",
       "  10666: 84,\n",
       "  10675: 13,\n",
       "  10761: 9,\n",
       "  10830: 14,\n",
       "  10848: 16,\n",
       "  10950: 23,\n",
       "  11003: 63,\n",
       "  11018: 24,\n",
       "  11061: 11,\n",
       "  11065: 40,\n",
       "  11197: 14,\n",
       "  11236: 58,\n",
       "  11247: 6,\n",
       "  11275: 26,\n",
       "  11313: 9,\n",
       "  11320: 66,\n",
       "  11421: 37,\n",
       "  11446: 13,\n",
       "  11593: 19,\n",
       "  11616: 64,\n",
       "  11671: 14,\n",
       "  11702: 7,\n",
       "  11708: 44,\n",
       "  11747: 20,\n",
       "  11762: 10,\n",
       "  11829: 25,\n",
       "  11850: 23,\n",
       "  11860: 11,\n",
       "  11932: 18,\n",
       "  11989: 17,\n",
       "  12028: 221,\n",
       "  12140: 36,\n",
       "  12177: 53,\n",
       "  12183: 26,\n",
       "  12274: 9,\n",
       "  12312: 13,\n",
       "  12380: 45,\n",
       "  12508: 136,\n",
       "  12567: 61,\n",
       "  12585: 4,\n",
       "  12629: 43,\n",
       "  12633: 11,\n",
       "  12799: 77,\n",
       "  12803: 21,\n",
       "  12824: 21,\n",
       "  13123: 10,\n",
       "  13329: 22,\n",
       "  13330: 13,\n",
       "  13503: 15,\n",
       "  13546: 20,\n",
       "  13577: 7,\n",
       "  13593: 20,\n",
       "  13615: 10,\n",
       "  13627: 31,\n",
       "  13664: 120,\n",
       "  13728: 13,\n",
       "  13748: 21,\n",
       "  13864: 5,\n",
       "  13881: 2,\n",
       "  14035: 12,\n",
       "  14144: 24,\n",
       "  14172: 9,\n",
       "  14193: 8,\n",
       "  14256: 26,\n",
       "  14269: 21,\n",
       "  14309: 13,\n",
       "  14342: 20,\n",
       "  14385: 14,\n",
       "  14507: 9,\n",
       "  14520: 56,\n",
       "  14705: 17,\n",
       "  14805: 16,\n",
       "  14855: 96,\n",
       "  14975: 23,\n",
       "  15046: 86,\n",
       "  15054: 33,\n",
       "  15301: 5,\n",
       "  15347: 4,\n",
       "  15361: 15,\n",
       "  15472: 13,\n",
       "  15590: 85,\n",
       "  15716: 323,\n",
       "  15852: 15,\n",
       "  15875: 192,\n",
       "  16038: 89,\n",
       "  16053: 17,\n",
       "  16076: 397,\n",
       "  16102: 6,\n",
       "  16129: 22,\n",
       "  16147: 7,\n",
       "  16216: 17,\n",
       "  16275: 90,\n",
       "  16318: 12,\n",
       "  16367: 47,\n",
       "  16384: 48,\n",
       "  16409: 40,\n",
       "  16412: 8,\n",
       "  16438: 28,\n",
       "  16468: 15,\n",
       "  16469: 20,\n",
       "  16479: 7,\n",
       "  16492: 6,\n",
       "  16554: 19,\n",
       "  16560: 8,\n",
       "  16685: 1,\n",
       "  16733: 14,\n",
       "  16755: 24,\n",
       "  16800: 12,\n",
       "  16802: 27,\n",
       "  16850: 14,\n",
       "  16975: 186,\n",
       "  16992: 42,\n",
       "  17107: 6,\n",
       "  17149: 17,\n",
       "  17150: 23,\n",
       "  17250: 28,\n",
       "  17260: 10,\n",
       "  17276: 10,\n",
       "  17539: 24,\n",
       "  17547: 9,\n",
       "  17617: 4,\n",
       "  17631: 19,\n",
       "  17664: 24,\n",
       "  17722: 8,\n",
       "  17764: 3,\n",
       "  17795: 215,\n",
       "  17843: 37,\n",
       "  17882: 6,\n",
       "  17903: 7,\n",
       "  17906: 88,\n",
       "  18082: 22,\n",
       "  18123: 146,\n",
       "  18233: 8,\n",
       "  18250: 2,\n",
       "  18281: 61,\n",
       "  18320: 207,\n",
       "  18353: 16,\n",
       "  18365: 10,\n",
       "  18459: 33,\n",
       "  18637: 35,\n",
       "  18673: 38,\n",
       "  18681: 10,\n",
       "  18737: 7,\n",
       "  18999: 40,\n",
       "  19029: 4,\n",
       "  19036: 12,\n",
       "  19164: 20,\n",
       "  19463: 14,\n",
       "  19569: 4,\n",
       "  19653: 30,\n",
       "  19698: 79,\n",
       "  19793: 37,\n",
       "  19803: 9,\n",
       "  19833: 77,\n",
       "  19851: 83,\n",
       "  19859: 14,\n",
       "  19940: 9,\n",
       "  20061: 7,\n",
       "  20086: 85,\n",
       "  20133: 121,\n",
       "  20181: 204,\n",
       "  20187: 25,\n",
       "  20263: 6,\n",
       "  20265: 7,\n",
       "  20289: 63,\n",
       "  20381: 10,\n",
       "  20425: 103,\n",
       "  20528: 37,\n",
       "  20580: 1,\n",
       "  20598: 31,\n",
       "  20600: 16,\n",
       "  20624: 32,\n",
       "  20643: 20,\n",
       "  20804: 25,\n",
       "  20899: 17,\n",
       "  20951: 8,\n",
       "  20979: 26,\n",
       "  21037: 21,\n",
       "  21056: 9,\n",
       "  21093: 60,\n",
       "  21255: 3,\n",
       "  21269: 279,\n",
       "  21277: 23,\n",
       "  21301: 16,\n",
       "  21350: 18,\n",
       "  21548: 7,\n",
       "  21581: 11,\n",
       "  21737: 7,\n",
       "  21745: 5,\n",
       "  21764: 7,\n",
       "  22019: 2,\n",
       "  22180: 5,\n",
       "  22192: 5,\n",
       "  22287: 10,\n",
       "  22432: 6,\n",
       "  22450: 11,\n",
       "  22520: 63,\n",
       "  22534: 4,\n",
       "  22580: 10,\n",
       "  22624: 43,\n",
       "  22667: 72,\n",
       "  22684: 14,\n",
       "  22706: 8,\n",
       "  22754: 44,\n",
       "  22855: 47,\n",
       "  22921: 2,\n",
       "  23028: 22,\n",
       "  23109: 2,\n",
       "  23131: 49,\n",
       "  23161: 29,\n",
       "  23215: 9,\n",
       "  23318: 15,\n",
       "  23418: 22,\n",
       "  23423: 11,\n",
       "  23451: 26,\n",
       "  23568: 8,\n",
       "  23657: 34,\n",
       "  23734: 15,\n",
       "  23763: 21,\n",
       "  23847: 9,\n",
       "  24099: 2,\n",
       "  24170: 2,\n",
       "  24178: 209,\n",
       "  24276: 82,\n",
       "  24344: 290,\n",
       "  24483: 7,\n",
       "  24535: 23,\n",
       "  24562: 10,\n",
       "  24569: 20,\n",
       "  24622: 1,\n",
       "  24687: 45,\n",
       "  24807: 41,\n",
       "  24847: 12,\n",
       "  24868: 57,\n",
       "  24903: 45,\n",
       "  25001: 25,\n",
       "  25016: 78,\n",
       "  25038: 66,\n",
       "  25097: 42,\n",
       "  25117: 38,\n",
       "  25225: 17,\n",
       "  25256: 30,\n",
       "  25295: 59,\n",
       "  25326: 17,\n",
       "  25373: 158,\n",
       "  25406: 5,\n",
       "  25515: 18,\n",
       "  25526: 86,\n",
       "  25579: 27,\n",
       "  25591: 61,\n",
       "  25671: 11,\n",
       "  25750: 107,\n",
       "  25775: 38,\n",
       "  25844: 22,\n",
       "  25860: 9,\n",
       "  25861: 16,\n",
       "  25889: 20,\n",
       "  25941: 86,\n",
       "  26036: 11,\n",
       "  26040: 79,\n",
       "  26052: 3,\n",
       "  26080: 5,\n",
       "  26097: 65,\n",
       "  26118: 60,\n",
       "  26311: 28,\n",
       "  26391: 64,\n",
       "  26398: 14,\n",
       "  26469: 52,\n",
       "  26542: 55,\n",
       "  26601: 58,\n",
       "  26638: 155,\n",
       "  26727: 10,\n",
       "  26797: 8,\n",
       "  26869: 11,\n",
       "  26884: 5,\n",
       "  26887: 4,\n",
       "  26956: 23,\n",
       "  27003: 18,\n",
       "  27036: 10,\n",
       "  27043: 30,\n",
       "  27047: 41,\n",
       "  27049: 14,\n",
       "  27089: 24,\n",
       "  27121: 89,\n",
       "  27143: 135,\n",
       "  27172: 9,\n",
       "  27179: 118,\n",
       "  27194: 60,\n",
       "  27269: 19,\n",
       "  27367: 84,\n",
       "  27371: 17,\n",
       "  27431: 33,\n",
       "  27486: 2,\n",
       "  27576: 84,\n",
       "  27597: 60,\n",
       "  27600: 28,\n",
       "  27677: 11,\n",
       "  27726: 59,\n",
       "  27729: 70,\n",
       "  27752: 11,\n",
       "  27800: 12,\n",
       "  27809: 18,\n",
       "  27823: 31,\n",
       "  27879: 13,\n",
       "  27886: 30,\n",
       "  27999: 25,\n",
       "  28050: 20,\n",
       "  28055: 4,\n",
       "  28073: 74,\n",
       "  28093: 21,\n",
       "  28103: 16,\n",
       "  28164: 159,\n",
       "  28173: 124,\n",
       "  28230: 23,\n",
       "  28291: 36,\n",
       "  28298: 31,\n",
       "  28356: 10,\n",
       "  28527: 46,\n",
       "  28530: 24,\n",
       "  28642: 2,\n",
       "  28668: 3,\n",
       "  28671: 33,\n",
       "  28689: 5,\n",
       "  28717: 23,\n",
       "  28729: 73,\n",
       "  28742: 7,\n",
       "  28758: 94,\n",
       "  28827: 12,\n",
       "  28843: 1,\n",
       "  28884: 12,\n",
       "  28932: 24,\n",
       "  28935: 4,\n",
       "  28939: 4,\n",
       "  28973: 152,\n",
       "  29007: 9,\n",
       "  29043: 12,\n",
       "  29093: 5,\n",
       "  29096: 21,\n",
       "  29102: 18,\n",
       "  29129: 15,\n",
       "  29137: 8,\n",
       "  29139: 17,\n",
       "  29141: 27,\n",
       "  29219: 19,\n",
       "  29240: 10,\n",
       "  29274: 17,\n",
       "  29350: 18,\n",
       "  29377: 80,\n",
       "  29379: 21,\n",
       "  29456: 22,\n",
       "  29478: 32,\n",
       "  29501: 6,\n",
       "  29503: 11,\n",
       "  29504: 18,\n",
       "  29513: 65,\n",
       "  29528: 5,\n",
       "  29556: 5,\n",
       "  29566: 17,\n",
       "  29619: 18,\n",
       "  29638: 15,\n",
       "  29639: 26,\n",
       "  29660: 9,\n",
       "  29703: 12,\n",
       "  29866: 12,\n",
       "  29872: 14,\n",
       "  29913: 11,\n",
       "  29919: 24,\n",
       "  29927: 63,\n",
       "  29965: 26,\n",
       "  29972: 7,\n",
       "  30010: 7,\n",
       "  30015: 36,\n",
       "  30139: 529,\n",
       "  30208: 18,\n",
       "  30227: 35,\n",
       "  30287: 23,\n",
       "  30299: 1,\n",
       "  30301: 117,\n",
       "  30316: 17,\n",
       "  30365: 47,\n",
       "  30490: 17,\n",
       "  30501: 10,\n",
       "  30505: 33,\n",
       "  30561: 6,\n",
       "  30575: 6,\n",
       "  30599: 24,\n",
       "  30631: 11,\n",
       "  30663: 24,\n",
       "  30696: 54,\n",
       "  30786: 11,\n",
       "  30798: 14,\n",
       "  30860: 28,\n",
       "  31003: 45,\n",
       "  31183: 129,\n",
       "  31216: 80,\n",
       "  31221: 17,\n",
       "  31262: 28,\n",
       "  31298: 13,\n",
       "  31332: 59,\n",
       "  31361: 20,\n",
       "  31442: 32,\n",
       "  31470: 17,\n",
       "  31516: 74,\n",
       "  31528: 60,\n",
       "  31544: 11,\n",
       "  31580: 34,\n",
       "  31585: 39,\n",
       "  31610: 17,\n",
       "  31660: 3,\n",
       "  31664: 45,\n",
       "  31692: 23,\n",
       "  31723: 17,\n",
       "  31813: 234,\n",
       "  31942: 102,\n",
       "  31986: 41,\n",
       "  32018: 145,\n",
       "  32061: 11,\n",
       "  32106: 18,\n",
       "  32135: 12,\n",
       "  32161: 25,\n",
       "  32181: 8,\n",
       "  32183: 27,\n",
       "  32193: 16,\n",
       "  32268: 6,\n",
       "  32286: 117,\n",
       "  32355: 6,\n",
       "  32367: 42,\n",
       "  32394: 6,\n",
       "  32414: 485,\n",
       "  32436: 271,\n",
       "  32583: 5,\n",
       "  32605: 19,\n",
       "  32639: 12,\n",
       "  32740: 48,\n",
       "  32746: 11,\n",
       "  32773: 112,\n",
       "  32790: 103,\n",
       "  40059: 11,\n",
       "  40124: 68,\n",
       "  40246: 20,\n",
       "  40370: 11,\n",
       "  40442: 107,\n",
       "  40456: 43,\n",
       "  40576: 48,\n",
       "  40631: 4,\n",
       "  40911: 35,\n",
       "  41192: 45,\n",
       "  41373: 28,\n",
       "  41434: 10,\n",
       "  41446: 8,\n",
       "  41890: 7,\n",
       "  41958: 5,\n",
       "  41962: 10,\n",
       "  41976: 177,\n",
       "  42009: 30,\n",
       "  42035: 49,\n",
       "  42054: 18,\n",
       "  42194: 1,\n",
       "  42346: 30,\n",
       "  42458: 9,\n",
       "  42515: 38,\n",
       "  42572: 17,\n",
       "  42715: 21,\n",
       "  42794: 6,\n",
       "  42924: 3,\n",
       "  43067: 90,\n",
       "  43074: 18,\n",
       "  43112: 394,\n",
       "  43128: 1,\n",
       "  43147: 150,\n",
       "  43305: 48,\n",
       "  43323: 15,\n",
       "  43937: 4,\n",
       "  43943: 6,\n",
       "  43959: 3,\n",
       "  44146: 16,\n",
       "  44206: 5,\n",
       "  44214: 30,\n",
       "  44326: 8,\n",
       "  44437: 12,\n",
       "  44530: 2,\n",
       "  44534: 37,\n",
       "  44741: 8,\n",
       "  44787: 7,\n",
       "  44829: 55,\n",
       "  44841: 19,\n",
       "  44848: 2,\n",
       "  45193: 11,\n",
       "  45280: 9,\n",
       "  45435: 7,\n",
       "  46011: 61,\n",
       "  46335: 49,\n",
       "  46366: 42,\n",
       "  46415: 53,\n",
       "  46521: 14,\n",
       "  46728: 34,\n",
       "  46926: 1,\n",
       "  46961: 1,\n",
       "  47216: 17,\n",
       "  47219: 67,\n",
       "  47407: 2,\n",
       "  47467: 6,\n",
       "  47670: 7,\n",
       "  47747: 12,\n",
       "  47852: 95,\n",
       "  47930: 5,\n",
       "  48058: 4,\n",
       "  48143: 6,\n",
       "  48297: 11,\n",
       "  48340: 7,\n",
       "  48660: 343,\n",
       "  48687: 15,\n",
       "  48750: 8,\n",
       "  48812: 36,\n",
       "  48837: 14,\n",
       "  48929: 7,\n",
       "  49292: 18,\n",
       "  49510: 31,\n",
       "  49558: 347,\n",
       "  49623: 9,\n",
       "  49747: 7,\n",
       "  49764: 10,\n",
       "  49963: 4,\n",
       "  50007: 4,\n",
       "  50041: 10,\n",
       "  50093: 6,\n",
       "  50257: 11,\n",
       "  50294: 20,\n",
       "  50409: 75,\n",
       "  50762: 8,\n",
       "  50772: 17,\n",
       "  50807: 21,\n",
       "  50828: 126,\n",
       "  50911: 81,\n",
       "  50998: 29,\n",
       "  51195: 29,\n",
       "  51237: 11,\n",
       "  51401: 33,\n",
       "  51418: 68,\n",
       "  51497: 3,\n",
       "  51545: 97,\n",
       "  51601: 5,\n",
       "  51607: 5,\n",
       "  51669: 10,\n",
       "  51933: 5,\n",
       "  52011: 8,\n",
       "  52054: 1,\n",
       "  52172: 13,\n",
       "  52191: 46,\n",
       "  52307: 5,\n",
       "  52452: 5,\n",
       "  52606: 54,\n",
       "  52622: 5,\n",
       "  52898: 6,\n",
       "  52957: 52,\n",
       "  53119: 7,\n",
       "  53160: 13,\n",
       "  53173: 14,\n",
       "  53534: 9,\n",
       "  53650: 15,\n",
       "  53743: 151,\n",
       "  53749: 6,\n",
       "  53847: 14,\n",
       "  54172: 6,\n",
       "  54197: 13,\n",
       "  54305: 8,\n",
       "  54514: 116,\n",
       "  54709: 9,\n",
       "  54741: 5,\n",
       "  54832: 7,\n",
       "  54922: 2,\n",
       "  55059: 17,\n",
       "  55074: 7,\n",
       "  55188: 9,\n",
       "  55571: 212,\n",
       "  55700: 4,\n",
       "  55753: 37,\n",
       "  55841: 14,\n",
       "  55920: 17,\n",
       "  56027: 7,\n",
       "  56229: 31,\n",
       "  56440: 9,\n",
       "  56490: 12,\n",
       "  56621: 11,\n",
       "  56635: 2,\n",
       "  56772: 31,\n",
       "  56798: 4,\n",
       "  56867: 16,\n",
       "  56874: 51,\n",
       "  57050: 205,\n",
       "  57081: 32,\n",
       "  57157: 5,\n",
       "  57277: 19,\n",
       "  57290: 15,\n",
       "  57449: 17,\n",
       "  57788: 36,\n",
       "  57795: 7,\n",
       "  57889: 105,\n",
       "  58105: 49,\n",
       "  58242: 6,\n",
       "  58264: 7,\n",
       "  58286: 20,\n",
       "  58416: 3,\n",
       "  58433: 51,\n",
       "  58522: 9,\n",
       "  58580: 5,\n",
       "  58610: 13,\n",
       "  58631: 15,\n",
       "  58732: 5,\n",
       "  58794: 32,\n",
       "  58810: 10,\n",
       "  58955: 6,\n",
       "  59275: 1,\n",
       "  59278: 17,\n",
       "  59411: 6,\n",
       "  59496: 75,\n",
       "  59765: 300,\n",
       "  59789: 10,\n",
       "  59801: 2,\n",
       "  59822: 14,\n",
       "  59903: 483,\n",
       "  59943: 121,\n",
       "  60003: 9,\n",
       "  60050: 4,\n",
       "  60130: 44,\n",
       "  60674: 10,\n",
       "  60685: 4,\n",
       "  60958: 8,\n",
       "  60977: 9,\n",
       "  61005: 10,\n",
       "  61084: 216,\n",
       "  61195: 9,\n",
       "  61259: 83,\n",
       "  61331: 4,\n",
       "  61630: 19,\n",
       "  61738: 6,\n",
       "  61886: 6,\n",
       "  62231: 4,\n",
       "  62239: 5,\n",
       "  62284: 6,\n",
       "  62402: 56,\n",
       "  62641: 8,\n",
       "  62733: 9,\n",
       "  62858: 120,\n",
       "  63145: 25,\n",
       "  63327: 16,\n",
       "  63351: 10,\n",
       "  63362: 7,\n",
       "  63430: 56,\n",
       "  63499: 32,\n",
       "  63560: 25,\n",
       "  63943: 31,\n",
       "  63968: 10,\n",
       "  64160: 4,\n",
       "  64232: 28,\n",
       "  64249: 7,\n",
       "  64715: 17,\n",
       "  65004: 11,\n",
       "  65027: 1,\n",
       "  65033: 2,\n",
       "  65164: 4,\n",
       "  65361: 20,\n",
       "  65435: 40,\n",
       "  65449: 6,\n",
       "  65515: 5,\n",
       "  65582: 576,\n",
       "  65594: 9,\n",
       "  65692: 25,\n",
       "  65710: 18,\n",
       "  65837: 47,\n",
       "  66002: 636,\n",
       "  66009: 373,\n",
       "  66206: 12,\n",
       "  66412: 5,\n",
       "  66492: 1,\n",
       "  66549: 36,\n",
       "  66556: 20,\n",
       "  66671: 32,\n",
       "  66739: 1,\n",
       "  66753: 8,\n",
       "  66823: 21,\n",
       "  67053: 238,\n",
       "  67111: 16,\n",
       "  67117: 19,\n",
       "  67408: 15,\n",
       "  67446: 8,\n",
       "  67796: 7,\n",
       "  67844: 7,\n",
       "  67887: 13,\n",
       "  68059: 3,\n",
       "  68315: 3,\n",
       "  68591: 7,\n",
       "  68791: 13,\n",
       "  68836: 7,\n",
       "  68839: 21,\n",
       "  68905: 3,\n",
       "  68944: 39,\n",
       "  68962: 1,\n",
       "  69098: 12,\n",
       "  69158: 13,\n",
       "  69250: 4,\n",
       "  69296: 13,\n",
       "  69359: 26,\n",
       "  69380: 265,\n",
       "  69483: 26,\n",
       "  69546: 64,\n",
       "  69556: 11,\n",
       "  69578: 7,\n",
       "  69673: 6,\n",
       "  69776: 53,\n",
       "  69799: 6,\n",
       "  69932: 6,\n",
       "  70285: 2,\n",
       "  70466: 18,\n",
       "  70476: 22,\n",
       "  70492: 10,\n",
       "  70563: 3,\n",
       "  70645: 29,\n",
       "  70682: 48,\n",
       "  70728: 12,\n",
       "  71107: 9,\n",
       "  71108: 220,\n",
       "  71220: 45,\n",
       "  71336: 5,\n",
       "  71377: 39,\n",
       "  71915: 6,\n",
       "  71943: 4,\n",
       "  71983: 3,\n",
       "  72229: 189,\n",
       "  72230: 154,\n",
       "  72233: 2,\n",
       "  72378: 7,\n",
       "  72532: 6,\n",
       "  72714: 4,\n",
       "  72751: 35,\n",
       "  73043: 3,\n",
       "  73107: 479,\n",
       "  73129: 105,\n",
       "  73388: 37,\n",
       "  73389: 87,\n",
       "  73479: 3,\n",
       "  73686: 4,\n",
       "  73713: 458,\n",
       "  73770: 9,\n",
       "  73808: 49,\n",
       "  73899: 2,\n",
       "  73941: 7,\n",
       "  74016: 8,\n",
       "  74253: 388,\n",
       "  74505: 32,\n",
       "  74562: 98,\n",
       "  74640: 7,\n",
       "  74654: 7,\n",
       "  75047: 3,\n",
       "  75107: 124,\n",
       "  75200: 87,\n",
       "  75387: 14,\n",
       "  75446: 34,\n",
       "  75609: 5,\n",
       "  75640: 45,\n",
       "  75741: 8,\n",
       "  75782: 90,\n",
       "  75806: 3,\n",
       "  75983: 9,\n",
       "  76021: 39,\n",
       "  76056: 1,\n",
       "  76074: 31,\n",
       "  76141: 4,\n",
       "  76178: 22,\n",
       "  76437: 5,\n",
       "  76446: 18,\n",
       "  76476: 3,\n",
       "  76797: 6,\n",
       "  76915: 8,\n",
       "  76993: 13,\n",
       "  77019: 8,\n",
       "  77128: 9,\n",
       "  77177: 14,\n",
       "  77237: 198,\n",
       "  77279: 2,\n",
       "  77434: 18,\n",
       "  77453: 2,\n",
       "  77469: 31,\n",
       "  77676: 4,\n",
       "  77690: 19,\n",
       "  77697: 10,\n",
       "  77816: 8,\n",
       "  77947: 11,\n",
       "  78017: 2,\n",
       "  78086: 110,\n",
       "  78565: 78,\n",
       "  78705: 3,\n",
       "  78707: 16,\n",
       "  78859: 5,\n",
       "  78914: 13,\n",
       "  79079: 18,\n",
       "  79090: 16,\n",
       "  79115: 12,\n",
       "  79292: 15,\n",
       "  80045: 6,\n",
       "  80106: 5,\n",
       "  80218: 13,\n",
       "  80430: 10,\n",
       "  80722: 3,\n",
       "  80813: 11,\n",
       "  80825: 3,\n",
       "  81114: 58,\n",
       "  81223: 39,\n",
       "  81233: 22,\n",
       "  81436: 9,\n",
       "  81745: 28,\n",
       "  81840: 25,\n",
       "  81960: 8,\n",
       "  81992: 11,\n",
       "  82100: 74,\n",
       "  82104: 2,\n",
       "  82150: 84,\n",
       "  82202: 28,\n",
       "  82211: 647,\n",
       "  82309: 9,\n",
       "  ...}}"
      ]
     },
     "execution_count": 30,
     "metadata": {},
     "output_type": "execute_result"
    }
   ],
   "source": [
    "patient_id_to_num_notes"
   ]
  },
  {
   "cell_type": "code",
   "execution_count": 31,
   "metadata": {},
   "outputs": [
    {
     "name": "stdout",
     "output_type": "stream",
     "text": [
      "252\n",
      "1167\n"
     ]
    }
   ],
   "source": [
    "print(len(patient_id_to_num_notes['pneumonia_dead']))\n",
    "print(len(patient_id_to_num_notes['pneumonia_alive']))"
   ]
  },
  {
   "cell_type": "code",
   "execution_count": 32,
   "metadata": {
    "scrolled": true
   },
   "outputs": [
    {
     "data": {
      "text/html": [
       "<div>\n",
       "<style scoped>\n",
       "    .dataframe tbody tr th:only-of-type {\n",
       "        vertical-align: middle;\n",
       "    }\n",
       "\n",
       "    .dataframe tbody tr th {\n",
       "        vertical-align: top;\n",
       "    }\n",
       "\n",
       "    .dataframe thead th {\n",
       "        text-align: right;\n",
       "    }\n",
       "</style>\n",
       "<table border=\"1\" class=\"dataframe\">\n",
       "  <thead>\n",
       "    <tr style=\"text-align: right;\">\n",
       "      <th></th>\n",
       "      <th>ROW_ID_x</th>\n",
       "      <th>SUBJECT_ID_x</th>\n",
       "      <th>DESCRIPTION</th>\n",
       "      <th>TEXT</th>\n",
       "      <th>DEATHTIME</th>\n",
       "    </tr>\n",
       "  </thead>\n",
       "  <tbody>\n",
       "    <tr>\n",
       "      <th>70391</th>\n",
       "      <td>70124</td>\n",
       "      <td>111</td>\n",
       "      <td>Report</td>\n",
       "      <td>PATIENT/TEST INFORMATION:\\nIndication: s/p PEA...</td>\n",
       "      <td>2144-07-01 14:55:00</td>\n",
       "    </tr>\n",
       "    <tr>\n",
       "      <th>142529</th>\n",
       "      <td>151749</td>\n",
       "      <td>111</td>\n",
       "      <td>Report</td>\n",
       "      <td>Compared to the previous tracing QRS voltage i...</td>\n",
       "      <td>2144-07-01 14:55:00</td>\n",
       "    </tr>\n",
       "    <tr>\n",
       "      <th>142097</th>\n",
       "      <td>151750</td>\n",
       "      <td>111</td>\n",
       "      <td>Report</td>\n",
       "      <td>Normal sinus rhythm, rate 80.  Biatrial abnorm...</td>\n",
       "      <td>2144-07-01 14:55:00</td>\n",
       "    </tr>\n",
       "    <tr>\n",
       "      <th>142303</th>\n",
       "      <td>151751</td>\n",
       "      <td>111</td>\n",
       "      <td>Report</td>\n",
       "      <td>Normal sinus rhythm.  Q waves in leads V1-V2 c...</td>\n",
       "      <td>2144-07-01 14:55:00</td>\n",
       "    </tr>\n",
       "    <tr>\n",
       "      <th>380576</th>\n",
       "      <td>375732</td>\n",
       "      <td>111</td>\n",
       "      <td>Physician Resident Admission Note</td>\n",
       "      <td>Chief Complaint:  respiratory distress\\n   HPI...</td>\n",
       "      <td>2144-07-01 14:55:00</td>\n",
       "    </tr>\n",
       "    <tr>\n",
       "      <th>380109</th>\n",
       "      <td>375744</td>\n",
       "      <td>111</td>\n",
       "      <td>ICU Event Note</td>\n",
       "      <td>Clinician:  Nurse\\n   Pt admitted from the ED ...</td>\n",
       "      <td>2144-07-01 14:55:00</td>\n",
       "    </tr>\n",
       "    <tr>\n",
       "      <th>379907</th>\n",
       "      <td>375749</td>\n",
       "      <td>111</td>\n",
       "      <td>Physician Resident/Attending Admission Note - ...</td>\n",
       "      <td>Chief Complaint:  respiratory distress\\n   HPI...</td>\n",
       "      <td>2144-07-01 14:55:00</td>\n",
       "    </tr>\n",
       "    <tr>\n",
       "      <th>379806</th>\n",
       "      <td>375753</td>\n",
       "      <td>111</td>\n",
       "      <td>Social Work Admission Note</td>\n",
       "      <td>Social Work Initial Note:\\n   Family Informati...</td>\n",
       "      <td>2144-07-01 14:55:00</td>\n",
       "    </tr>\n",
       "    <tr>\n",
       "      <th>379909</th>\n",
       "      <td>375760</td>\n",
       "      <td>111</td>\n",
       "      <td>ICU Event Note</td>\n",
       "      <td>TITLE:\\n   Clinician:  Resident\\n   Patient ex...</td>\n",
       "      <td>2144-07-01 14:55:00</td>\n",
       "    </tr>\n",
       "    <tr>\n",
       "      <th>1066971</th>\n",
       "      <td>1079317</td>\n",
       "      <td>111</td>\n",
       "      <td>CHEST (PORTABLE AP)</td>\n",
       "      <td>[**2144-7-1**] 2:43 AM\\n CHEST (PORTABLE AP)  ...</td>\n",
       "      <td>2144-07-01 14:55:00</td>\n",
       "    </tr>\n",
       "    <tr>\n",
       "      <th>1065833</th>\n",
       "      <td>1079339</td>\n",
       "      <td>111</td>\n",
       "      <td>CHEST (PORTABLE AP)</td>\n",
       "      <td>[**2144-7-1**] 7:27 AM\\n CHEST (PORTABLE AP); ...</td>\n",
       "      <td>2144-07-01 14:55:00</td>\n",
       "    </tr>\n",
       "    <tr>\n",
       "      <th>1067121</th>\n",
       "      <td>1079351</td>\n",
       "      <td>111</td>\n",
       "      <td>CHEST PORT. LINE PLACEMENT</td>\n",
       "      <td>[**2144-7-1**] 9:01 AM\\n CHEST PORT. LINE PLAC...</td>\n",
       "      <td>2144-07-01 14:55:00</td>\n",
       "    </tr>\n",
       "  </tbody>\n",
       "</table>\n",
       "</div>"
      ],
      "text/plain": [
       "         ROW_ID_x  SUBJECT_ID_x  \\\n",
       "70391       70124           111   \n",
       "142529     151749           111   \n",
       "142097     151750           111   \n",
       "142303     151751           111   \n",
       "380576     375732           111   \n",
       "380109     375744           111   \n",
       "379907     375749           111   \n",
       "379806     375753           111   \n",
       "379909     375760           111   \n",
       "1066971   1079317           111   \n",
       "1065833   1079339           111   \n",
       "1067121   1079351           111   \n",
       "\n",
       "                                               DESCRIPTION  \\\n",
       "70391                                               Report   \n",
       "142529                                              Report   \n",
       "142097                                              Report   \n",
       "142303                                              Report   \n",
       "380576                   Physician Resident Admission Note   \n",
       "380109                                      ICU Event Note   \n",
       "379907   Physician Resident/Attending Admission Note - ...   \n",
       "379806                          Social Work Admission Note   \n",
       "379909                                      ICU Event Note   \n",
       "1066971                                CHEST (PORTABLE AP)   \n",
       "1065833                                CHEST (PORTABLE AP)   \n",
       "1067121                         CHEST PORT. LINE PLACEMENT   \n",
       "\n",
       "                                                      TEXT  \\\n",
       "70391    PATIENT/TEST INFORMATION:\\nIndication: s/p PEA...   \n",
       "142529   Compared to the previous tracing QRS voltage i...   \n",
       "142097   Normal sinus rhythm, rate 80.  Biatrial abnorm...   \n",
       "142303   Normal sinus rhythm.  Q waves in leads V1-V2 c...   \n",
       "380576   Chief Complaint:  respiratory distress\\n   HPI...   \n",
       "380109   Clinician:  Nurse\\n   Pt admitted from the ED ...   \n",
       "379907   Chief Complaint:  respiratory distress\\n   HPI...   \n",
       "379806   Social Work Initial Note:\\n   Family Informati...   \n",
       "379909   TITLE:\\n   Clinician:  Resident\\n   Patient ex...   \n",
       "1066971  [**2144-7-1**] 2:43 AM\\n CHEST (PORTABLE AP)  ...   \n",
       "1065833  [**2144-7-1**] 7:27 AM\\n CHEST (PORTABLE AP); ...   \n",
       "1067121  [**2144-7-1**] 9:01 AM\\n CHEST PORT. LINE PLAC...   \n",
       "\n",
       "                   DEATHTIME  \n",
       "70391    2144-07-01 14:55:00  \n",
       "142529   2144-07-01 14:55:00  \n",
       "142097   2144-07-01 14:55:00  \n",
       "142303   2144-07-01 14:55:00  \n",
       "380576   2144-07-01 14:55:00  \n",
       "380109   2144-07-01 14:55:00  \n",
       "379907   2144-07-01 14:55:00  \n",
       "379806   2144-07-01 14:55:00  \n",
       "379909   2144-07-01 14:55:00  \n",
       "1066971  2144-07-01 14:55:00  \n",
       "1065833  2144-07-01 14:55:00  \n",
       "1067121  2144-07-01 14:55:00  "
      ]
     },
     "execution_count": 32,
     "metadata": {},
     "output_type": "execute_result"
    }
   ],
   "source": [
    "pneumonia_dead_no_disch.loc[pneumonia_dead_no_disch[\"SUBJECT_ID_x\"] == 111, ['ROW_ID_x','SUBJECT_ID_x','DESCRIPTION','TEXT', 'DEATHTIME']]"
   ]
  },
  {
   "cell_type": "code",
   "execution_count": 33,
   "metadata": {
    "scrolled": true
   },
   "outputs": [],
   "source": [
    "# tmp_df = pneumonia_dead_no_disch.loc[pneumonia_dead_no_disch[\"SUBJECT_ID_x\"] == 111, ['DESCRIPTION','TEXT']]\n",
    "# for index, row in tmp_df.iterrows():\n",
    "#     print(row['DESCRIPTION'])\n",
    "#     print(row['TEXT'])\n",
    "#     print('-'*80)"
   ]
  },
  {
   "cell_type": "code",
   "execution_count": null,
   "metadata": {},
   "outputs": [],
   "source": []
  },
  {
   "cell_type": "code",
   "execution_count": 34,
   "metadata": {
    "scrolled": true
   },
   "outputs": [],
   "source": [
    "# row_cnt = 0\n",
    "# note_cnt = 0\n",
    "# for index, row in pneumonia_alive_no_disch.iterrows():\n",
    "#     row_cnt += 1\n",
    "#     note = re.sub(r'\\[\\*\\*(.*?)\\*\\*\\]|[_,\\d\\*:~=\\.\\-\\+\\\\/]+', ' ', row['TEXT'])\n",
    "#     tokenized_note = word_tokenize(note)\n",
    "       \n",
    "#     if 'money' in tokenized_note :\n",
    "#         note_cnt += 1\n",
    "#         print(f\"#{row_cnt}) {note_cnt}) {row['ROW_ID_x']} : {row['SUBJECT_ID_x']} ==> [{row['DESCRIPTION']}]\")\n",
    "    \n",
    "    "
   ]
  },
  {
   "cell_type": "code",
   "execution_count": 35,
   "metadata": {
    "scrolled": true
   },
   "outputs": [],
   "source": [
    "# row_cnt = 0\n",
    "# note_cnt = 0\n",
    "# for index, row in pneumonia_alive_no_disch.iterrows():\n",
    "#     row_cnt += 1\n",
    "#     note = re.sub(r'\\[\\*\\*(.*?)\\*\\*\\]|[_,\\d\\*:~=\\.\\-\\+\\\\/]+', ' ', row['TEXT'])\n",
    "#     tokenized_note = word_tokenize(note)\n",
    "    \n",
    "#     if 'money' in tokenized_note and 'wallet' in tokenized_note:\n",
    "#         note_cnt += 1\n",
    "#         print(f\"#{row_cnt}) {note_cnt}) {row['ROW_ID_x']} : {row['SUBJECT_ID_x']} ==> [{row['DESCRIPTION']}]\")\n",
    "# #         print(row['TEXT'])\n",
    "# #         print('-'*80)"
   ]
  },
  {
   "cell_type": "code",
   "execution_count": null,
   "metadata": {},
   "outputs": [],
   "source": []
  },
  {
   "cell_type": "code",
   "execution_count": null,
   "metadata": {},
   "outputs": [],
   "source": []
  },
  {
   "cell_type": "code",
   "execution_count": null,
   "metadata": {},
   "outputs": [],
   "source": []
  },
  {
   "cell_type": "code",
   "execution_count": null,
   "metadata": {},
   "outputs": [],
   "source": []
  },
  {
   "cell_type": "code",
   "execution_count": 36,
   "metadata": {},
   "outputs": [
    {
     "name": "stderr",
     "output_type": "stream",
     "text": [
      "100%|██████████| 11895/11895 [00:47<00:00, 249.33it/s]\n",
      "  0%|          | 15/46134 [00:00<05:12, 147.58it/s]"
     ]
    },
    {
     "name": "stdout",
     "output_type": "stream",
     "text": [
      "5989 note events\n",
      "finished counting frequent words for patients!\n"
     ]
    },
    {
     "name": "stderr",
     "output_type": "stream",
     "text": [
      "100%|██████████| 46134/46134 [03:00<00:00, 255.76it/s]"
     ]
    },
    {
     "name": "stdout",
     "output_type": "stream",
     "text": [
      "23172 note events\n",
      "finished counting frequent words for patients!\n"
     ]
    },
    {
     "name": "stderr",
     "output_type": "stream",
     "text": [
      "\n"
     ]
    }
   ],
   "source": [
    "def count_words_per_patient(disease_df, patient_id_to_num_notes):\n",
    "    note_appearance_counter = {}\n",
    "    number_of_patients = 0 # number of patients\n",
    "    note_counter = 0\n",
    "\n",
    "# -----------\n",
    "    patient_id = -1\n",
    "    word_set = set()\n",
    "    note_event_counter = 0\n",
    "\n",
    "    # Iterate through each note\n",
    "    for index, row in tqdm(disease_df.iterrows(), total=disease_df.shape[0]):\n",
    "\n",
    "        \n",
    "        patient_id_check = int(row['SUBJECT_ID_x'])\n",
    "    \n",
    "        # if patient id has changed, end sequence and start new sequence\n",
    "        if not patient_id == patient_id_check:\n",
    "            number_of_patients += 1\n",
    "            note_event_counter = 0\n",
    "        \n",
    "            for word in word_set:\n",
    "                if word in note_appearance_counter:\n",
    "                    note_appearance_counter[word] += 1\n",
    "                else:\n",
    "                    note_appearance_counter[word] = 1\n",
    "\n",
    "        \n",
    "            # reset word_set\n",
    "            word_set = set()\n",
    "        \n",
    "        # update patient id\n",
    "        patient_id = patient_id_check\n",
    "\n",
    "            \n",
    "        if patient_id_to_num_notes[patient_id_check] <= MIN_SEQ_LEN:\n",
    "            continue\n",
    "            \n",
    "        if note_event_counter < patient_id_to_num_notes[patient_id] // USE_1_N_SEQ:\n",
    "            note_event_counter += 1\n",
    "            continue\n",
    "                \n",
    "        note_counter += 1\n",
    "        note = re.sub(r'\\[\\*\\*(.*?)\\*\\*\\]|[_,\\d\\*:~=\\.\\-\\+\\\\/]+', ' ', row['TEXT'])\n",
    "        tokenized_note = word_tokenize(note)\n",
    "        \n",
    "        \n",
    "        for word in tokenized_note:\n",
    "            stemmed_word = stemmer.stem(word.lower())\n",
    "            if not stemmed_word in stop_words:\n",
    "                word_set.add(stemmed_word)\n",
    "    \n",
    "    print(str(note_counter) + \" note events\")\n",
    "    print(\"finished counting frequent words for patients!\")\n",
    "#     return note_counter, note_appearance_counter\n",
    "    return number_of_patients, note_appearance_counter\n",
    "\n",
    "# variable dictionaries\n",
    "number_of_notes = {}\n",
    "note_appearance_counter = {}\n",
    "\n",
    "number_of_notes['pneumonia_dead'], note_appearance_counter['pneumonia_dead'] = count_words_per_patient(pneumonia_dead_no_disch, patient_id_to_num_notes['pneumonia_dead'])\n",
    "number_of_notes['pneumonia_alive'], note_appearance_counter['pneumonia_alive'] = count_words_per_patient(pneumonia_alive_no_disch, patient_id_to_num_notes['pneumonia_alive'])"
   ]
  },
  {
   "cell_type": "code",
   "execution_count": 37,
   "metadata": {},
   "outputs": [
    {
     "data": {
      "text/plain": [
       "{'pneumonia_dead': 252, 'pneumonia_alive': 1167}"
      ]
     },
     "execution_count": 37,
     "metadata": {},
     "output_type": "execute_result"
    }
   ],
   "source": [
    "number_of_notes"
   ]
  },
  {
   "cell_type": "code",
   "execution_count": 38,
   "metadata": {},
   "outputs": [
    {
     "name": "stdout",
     "output_type": "stream",
     "text": [
      "{'pneumonia_dead': {'ischem': 31, 'caucasian': 2, 'attempt': 119, 'product': 99, 'manag': 90, 'niec': 13, 'sun': 14, 'spent': 65, 'map': 90, 'defer': 39, 'propofol': 31, 'attend': 94, 'preren': 12, 'diagnosi': 176, 'cxr': 136, 'warfarin': 5, 'st': 140, 'ptx': 24, 'laundri': 1, 'mmol': 49, 'use': 112, 'suffer': 13, 'emot': 68, 'went': 50, 'aris': 6, 'autopeep': 6, 'member': 57, 'blood': 141, 'superimpos': 56, 'ecg': 31, 'ulcer': 81, 'resourc': 3, 'deni': 66, 'rij': 35, 'slide': 50, 'unsuccess': 37, 'mosf': 3, 'ivf': 111, 'arf': 34, 'effort': 47, 'imag': 136, 'pea': 8, 'multipl': 128, 'svc': 87, 'tidal': 47, 'aspir': 108, 'sulcu': 7, 'live': 42, 'devic': 94, 'reason': 199, 'jvp': 18, 'prophylaxi': 70, 'lymph': 71, 'cultur': 100, 'sat': 167, 'drop': 120, 'new': 160, 'htn': 50, 'unremark': 66, 'hospit': 75, 'chest': 206, 'hematoma': 20, 'exclud': 72, 'replet': 84, 'phenylephrin': 16, 'signific': 121, 'ptt': 80, 'increas': 196, 'bolus': 98, 'grief': 2, 'design': 10, 'intern': 78, 'salmeterol': 1, 'process': 94, 'lab': 132, 'answer': 59, 'albuterol': 58, 'hemodynam': 111, 'angl': 28, 'mid': 138, 'edema': 182, 'servic': 92, 'voltag': 35, 'got': 28, 'band': 44, 'progress': 166, 'lung': 203, 'failur': 141, 'ij': 79, 'malign': 32, 'n': 70, '(': 229, 'spoke': 86, 'peep': 106, 'epinephrin': 9, 'today': 148, 'copi': 13, 'statin': 17, 'without': 143, 'improv': 167, 'hcp': 52, 'copd': 45, 'fluid': 183, 'consult': 99, 'recurr': 33, 'bp': 181, 'calcium': 55, 'consist': 152, 'distant': 27, 'hpi': 58, 'given': 180, 'worsen': 162, 'er': 19, 'meal': 10, 'volum': 119, 'function': 95, 'recent': 129, 'lead': 83, 'min': 142, 'p': 193, 'cpr': 32, 'continu': 176, 'famili': 167, 'connect': 7, 'legal': 10, 'adjust': 59, 'addit': 117, 'tach': 21, 'urin': 165, 'stabl': 177, 'head': 114, 'review': 135, 'express': 42, 'cm': 141, 'eeg': 7, 'meantim': 3, 'respiratiori': 1, 'tcurrent': 61, 'upright': 57, 'placement': 143, 'glycem': 62, 'clinician': 41, 'like': 172, 'ct': 132, 'loss': 52, 'stay': 55, 'enter': 58, 'infus': 111, 'albumin': 49, 'contour': 68, 'rr': 150, 'hct': 122, 'abov': 158, 'histori': 173, 'stool': 150, 'entir': 36, ']': 80, 'statu': 197, 'x': 185, 'sinc': 186, 'azotemia': 6, 'wave': 81, 'seen': 157, 'ye': 42, 'f': 111, 'stroke': 14, 'cremat': 3, 'etho': 2, 'clear': 163, 'ns': 119, 'md': 134, 'fissur': 12, 'evid': 141, 'code': 135, 'sepsi': 79, 'paralyt': 16, 'addict': 8, 'termin': 88, 'complaint': 68, 'depress': 51, 'sbp': 114, 'allergi': 82, 'drain': 144, 'rate': 165, 'atrial': 90, 'addendum': 98, 'hi': 121, 'cv': 136, 'fen': 44, 'rml': 18, 'region': 80, 'blocker': 33, 'lobe': 142, 'appoint': 7, 'neck': 50, 'simultan': 2, 'breath': 162, 'ventilatori': 63, 'repeat': 107, 'ha': 212, 'dic': 20, 'differ': 81, 'fall': 42, 'independ': 19, 'taken': 60, 'inr': 88, 'exchang': 20, 'bicarb': 28, 'tender': 82, 'right': 211, 'septic': 41, 'sodium': 63, 'refractori': 8, 'va': 11, 'ul': 64, 'husband': 35, 'hyperinfl': 5, 'amp': 21, 'emphas': 19, 'bed': 103, 'kg': 111, 'lower': 166, 'leukocytosi': 37, 'infiltr': 112, 'followup': 38, 'note': 199, 'field': 72, 'densiti': 45, 'cathet': 130, 'rhythm': 126, 'resid': 111, 'bowel': 151, 'protect': 61, 'hr': 189, 'verapamil': 2, 'recruit': 14, 'list': 25, 'hypercapnia': 4, 'clergi': 16, 'neut': 43, 'peripher': 97, 'yo': 75, 'tmax': 105, 'soft': 154, 'dl': 70, 'final': 196, 'pneumothorax': 118, 'lipas': 16, 'weak': 65, 'hilar': 36, 'distend': 108, 'unabl': 130, 'acidem': 4, 'could': 111, 'set': 141, 'recommend': 82, 'hous': 20, 'opac': 148, 'old': 200, 'studi': 160, 'heent': 34, 'may': 142, 'tazo': 9, 'decid': 61, 'dure': 114, 'mass': 65, 'cage': 1, 'interim': 26, 'methylpr': 5, 'shock': 66, 'next': 81, 'found': 81, 'underli': 79, 'admit': 194, 'hypothermia': 13, 'home': 99, 'g': 96, 'l': 171, 'presep': 6, 'scale': 61, 'add': 51, 'none': 113, 'rebound': 8, 'form': 38, 'offer': 47, 'control': 101, 'q': 136, 'intervent': 65, 'view': 119, 'tc': 12, 'approxim': 72, 'sever': 172, 'arrest': 27, 'iadl': 1, 'ceftriaxon': 24, 'metabol': 52, 'mottl': 15, 'emphysema': 28, 'profound': 13, 'resp': 163, 'extens': 86, 'woman': 83, 'intub': 147, 'inferior': 37, 'mmhg': 71, 'assist': 81, 'anicter': 12, 'stress': 66, 'comparison': 166, 'radiograph': 127, 'left': 216, 'disconnect': 2, 'present': 189, 'meq': 92, 'dilat': 85, 'though': 89, 'ro': 63, 'requir': 145, 'infect': 100, 'would': 127, 'aortic': 68, 'normal': 164, 'gallop': 7, 'cvl': 42, \"c'ed\": 12, 'one': 117, 'tip': 126, 'sclera': 23, 'etiolog': 57, 'baselin': 86, 'pupil': 73, 'block': 44, 'minut': 91, 'ga': 70, 'cmh': 51, 'elderli': 5, 'upper': 162, 'wbc': 131, 'involv': 85, 'vancomycin': 69, 'plan': 161, 'nodular': 15, 'state': 94, 'social': 138, 'limb': 32, 'two': 87, 'death': 42, 'know': 27, 'condit': 206, 'sputum': 132, 'critic': 66, 'ext': 68, 'prior': 186, 'po': 143, 'arrang': 21, 'event': 121, 'guard': 18, '%': 188, 'fix': 29, 'effus': 183, 'versu': 30, 'system': 99, 'resuscit': 44, 'unchang': 179, 'unemploy': 1, 'aroudn': 1, 'coars': 117, 'known': 85, 'regular': 66, 'pna': 151, 'wa': 210, 'provid': 114, 'bpm': 102, 'manual': 14, 'amylas': 17, 'day': 160, 'mouth': 82, 'exceed': 3, 'arriv': 82, 'cvp': 66, 'past': 77, 'boot': 52, 'subsequ': 50, 'pcv': 14, 'transfus': 52, 'support': 171, 'dr': 150, 'infecti': 53, 'flatten': 7, 'vasopressin': 27, 'wean': 118, 'initi': 132, 'year': 195, 'think': 20, 'sick': 18, 'logist': 2, 'ipratropium': 6, 'detail': 69, 'feel': 52, 'employ': 7, '[': 80, 'enzym': 32, 'receiv': 151, 'follow': 159, 'line': 183, 'acut': 134, 'key': 61, 'afternoon': 103, 'son': 89, 'fir': 2, 'concern': 114, 'comment': 93, 'pedal': 41, 'pip': 58, 'health': 39, 'despit': 90, 'heart': 157, 'proxi': 40, 'girlfriend': 2, 'check': 116, 'inquir': 4, 'promin': 65, 'global': 31, 'visit': 106, 'dx': 29, 'cough': 125, 'insulin': 80, 'glucos': 82, 'flowsheet': 113, 'care': 171, 'retrocardiac': 50, 'costophren': 30, 'inform': 122, 'need': 155, 'c': 177, 'access': 113, 'inflammatori': 22, 'gaug': 57, 'visual': 109, 'portion': 101, 'micu': 131, 'evalu': 173, 'medic': 217, 'situat': 29, 'still': 115, 'undetect': 3, 'trend': 68, 'bipap': 43, 'transient': 33, 'extrem': 141, 'radiolog': 68, 'lifelin': 1, 'bicarbon': 9, 'funer': 16, 'anterior': 62, 'dextros': 11, 'pco': 36, 'bs': 138, 'sw': 33, 'bilater': 175, 'earli': 73, 'father': 16, 'park': 4, 'keep': 104, 'portabl': 178, 'admiss': 88, 'central': 107, 'ast': 48, 'chang': 222, 'exam': 110, 'later': 115, 'u': 143, 'lactic': 54, 'rosc': 1, 'morn': 93, 'rapid': 61, 'mg': 163, 'e': 64, 'tf': 110, 'acl': 4, 'hypotens': 131, 'alt': 53, 'tobacco': 15, 'hl': 5, 'primari': 43, 'major': 40, 'level': 148, 'inh': 3, 'absent': 62, 'poor': 134, 'also': 175, 'presum': 40, 'time': 188, 'fluticason': 2, 'deliveri': 63, '#': 211, 'npo': 121, 'agenc': 1, 'pleural': 176, 'echo': 58, 'veteran': 1, 'carina': 78, 'antibiot': 102, 'amount': 132, 'aspirin': 11, 'point': 75, 'sign': 110, 'hyperlipidemia': 9, 'drug': 55, 'hco': 15, 'k': 116, 'show': 131, 'long': 58, 'dvt': 79, 'previous': 80, 'arteri': 119, 'interv': 156, 'pt': 179, 'friend': 32, 'abg': 143, 'start': 154, 'mandat': 6, 'well': 180, 'abdomen': 119, 'last': 148, 'thi': 230, 'took': 27, 'pericardi': 61, 'tachycardia': 94, 'section': 56, 'repres': 91, 'wait': 34, 'bradi': 12, 'lactat': 47, 'question': 128, 'qday': 4, 'pneumoboot': 25, 'eo': 44, 'ca': 105, 'appropri': 101, 'renal': 107, 'ph': 61, 'experienc': 17, 'seem': 69, 'assess': 176, 'elev': 122, 'cr': 88, 'includ': 113, 'stomach': 93, 'howev': 131, 'artic': 2, 'unrespons': 78, 'ng': 131, 'second': 40, 'issu': 84, 'degre': 47, 'acid': 56, 'epi': 11, 'clinic': 117, 'norepinephrin': 22, 'elder': 1, 'trop': 16, 'atenolol': 4, 'mix': 30, 'bili': 47, 'homemak': 1, 'ap': 175, 'contact': 91, 'hypercapn': 6, 'encourag': 43, 'low': 172, 'rel': 59, 'brother': 29, 'icu': 108, 'pao': 66, 'nc': 62, 'occup': 18, 'jugular': 68, 'nurs': 141, 'tube': 161, 'consolid': 110, 'mcg': 105, 'protocol': 57, 'pmh': 78, 'report': 205, 'endotrach': 98, 'sr': 94, 'titl': 38, 'ed': 61, 'compar': 163, 'cardiac': 156, 'elig': 3, 'differenti': 70, 'chemistri': 16, 'small': 184, 'place': 196, 'understand': 45, 'phone': 47, 'et': 95, 'chief': 63, 'bag': 43, 'come': 72, 'electrolyt': 43, 'non': 170, 'atropin': 8, 'gener': 124, '>': 160, 'spontan': 91, 'speak': 65, 'empir': 36, 'discuss': 156, 'ani': 142, 'ratio': 7, 'fio': 119, 'hypovolemia': 12, 'ill': 73, 'aggress': 62, 'rub': 32, 'organomegali': 4, 'hepat': 27, 'work': 87, 'levofloxacin': 40, 'puls': 133, 'record': 46, 'venou': 99, 'serial': 23, 'h': 136, 'saw': 64, 'patient': 205, 'pm': 197, 'vital': 80, 'mode': 73, 'w': 177, 'short': 86, 'want': 92, 'port': 83, 'monitor': 174, 'law': 18, 'abnorm': 102, 'hour': 154, 'pressor': 87, 'distress': 118, 'pre': 73, 'calcif': 59, 'arch': 15, 'balanc': 85, 'total': 119, 'around': 76, 'ventil': 129, 'simvastatin': 4, 'cool': 67, 'disposit': 64, 'previou': 172, 'dose': 137, 'jpg': 63, 'licsw': 11, 'thorac': 49, 'acidosi': 70, 'person': 33, 'growth': 28, 'intact': 103, 'psychiatr': 14, 'coagulopathi': 20, 'respiratori': 166, 'insp': 84, 'expir': 58, 'along': 46, 'notabl': 38, 'obtain': 159, 'r': 178, 'bandemia': 11, 'impress': 176, 'team': 141, 'anoth': 58, 'daughter': 84, 'clip': 175, 'gap': 11, 'hazi': 30, 'apic': 43, 'tiotropium': 1, 'bedsid': 127, 'ml': 99, 'met': 61, 'post': 131, 'marri': 4, 'murmur': 42, 'room': 70, 'physic': 72, 'current': 158, 'prevent': 35, 'ekg': 67, 'anion': 8, 'might': 41, 'hold': 90, 'b': 106, 'commun': 88, 'agre': 84, 'alcohol': 15, 'drip': 79, 'mono': 43, 'spokesperson': 10, 'alk': 47, 'restrict': 24, 'prepar': 21, 'data': 132, ')': 229, 'physician': 107, '<': 77, 'med': 141, 'femal': 61, 'anur': 28, 'vap': 72, 'plt': 82, 'boni': 11, 'appear': 201, 'gtt': 134, 'cardiomediastin': 48, 'examin': 202, 'pneumonia': 203, 'full': 124, 'onli': 153, 'sinu': 139, 'immedi': 45, 'nutrit': 85, 'privat': 7, 'pho': 56, 'demonstr': 88, 'sound': 151, 'lvef': 38, 'adl': 9, 'develop': 87, 'hypertens': 82, 'insert': 61, 'make': 108, 'frequent': 92, \"'s\": 184, 'epiderm': 1, 'tlcl': 13, 'rla': 2, 'hernia': 19, 'gu': 110, 'posit': 166, 'minimum': 7, 'suggest': 133, 'voic': 72, 'good': 119, 'fs': 45, 'oil': 2, 'vss': 32, 'v': 104, 'vpace': 4, 'limit': 122, 'doppler': 86, 'ls': 113, 'adequ': 106, 'le': 32, 'order': 129, 'lot': 16, 'hand': 62, 'track': 29, 'rt': 68, 'treat': 105, 'freq': 42, 'mod': 71, 'mental': 66, 'vesta': 15, 'touch': 41, 'foam': 5, 'pace': 23, 'radial': 94, 'squeez': 16, 'yellow': 111, 'slough': 5, 'thick': 126, '@': 110, 'hemoglobin': 2, 'spite': 5, 'vs': 106, 'alert': 78, 'sc': 42, 'mm': 122, 'nacl': 5, 'simv': 6, 'gave': 34, 'decreas': 161, 'tonoc': 2, 'pend': 113, 'psv': 59, 'lt': 48, 'poc': 35, 'expriatori': 1, 'back': 136, 'pinpoint': 12, 'lll': 64, 'due': 169, 'see': 148, 'observ': 25, 'swith': 2, 'nt': 60, 'gag': 45, 'open': 98, 'close': 83, 'wrist': 41, 'ms': 81, 'labil': 29, 'meet': 105, 'decis': 96, 'discourag': 4, 'billiou': 1, 'prn': 116, 'cefepim': 27, 'npn': 76, 'sm': 64, 'alo': 24, 'base': 165, 'sampl': 32, 'awar': 125, 'self': 42, 'contract': 18, 'amber': 39, 'tongu': 13, 'effect': 131, 'dark': 43, 'alin': 53, 'administ': 63, 'bloodi': 50, 'restraint': 44, 'extub': 74, 'rest': 85, 'mae': 51, 'occasion': 89, 'ting': 58, 'copiou': 49, 'dk': 11, 'call': 139, 'waveform': 34, 'inplac': 5, 'bm': 86, 'doe': 135, 'rang': 76, 'fecal': 16, 'via': 117, 'gulteal': 1, 'sedat': 109, 'ogt': 71, 'oral': 113, 'done': 111, 'size': 143, 'less': 111, 'output': 108, 'nonpurpos': 6, 'gluteal': 4, 'rec': 75, 'atrov': 43, 'reciev': 38, 'rsc': 8, 'perrla': 25, 'react': 10, 'protud': 1, 'coccyx': 61, 'gm': 40, 'goal': 116, 'flexion': 3, 'reassess': 30, 'page': 48, 'art': 29, 'wash': 14, 'overbreath': 38, 'suction': 118, 'reach': 30, 'nontend': 28, 'bolu': 108, 'unsupport': 1, 'bleed': 77, 'sluggish': 21, 'turn': 98, 'abl': 122, 'sent': 125, 'drawn': 63, 'riss': 39, 'better': 80, 'neuro': 134, 'mdi': 53, 'moder': 161, 'piv': 61, \"'d\": 89, 'stimul': 61, 'shift': 155, 'throat': 62, 'chng': 1, 'remain': 193, 'dni': 104, 'slightli': 131, 'cc': 156, 'light': 49, 'episod': 87, 'obes': 32, 'wheezi': 10, 'ooz': 40, 'cream': 38, 'throughout': 145, 'lubric': 3, 'tol': 66, 'overnoc': 38, 'patent': 97, 'rsccvl': 1, 'advanc': 92, 'crackl': 86, 'success': 48, 'restless': 42, 'sxn': 44, 'grimac': 39, 'gum': 6, 'sed': 23, 'layer': 27, 'reveal': 64, 'wnl': 82, 'tx': 72, 'sxning': 8, 'purpos': 60, 'push': 19, 'site': 79, 'hourli': 26, 'perrl': 55, 'agit': 74, 'wheez': 83, 'threat': 2, 'blink': 5, 'ii': 20, 'palpat': 34, 'hypoact': 70, 'antifung': 13, 'toler': 128, 'night': 104, 'movement': 112, 'foley': 142, 'secret': 124, 'cmx': 3, 'tylenol': 66, 'vers': 68, 'skin': 153, 'sometim': 16, 'often': 14, 'expect': 54, 'warm': 77, 'eye': 117, 'matter': 21, 'veri': 152, 'vent': 103, 'heparin': 77, 'sx': 69, 'pain': 164, 'hm': 2, 'coccxi': 2, 'abx': 116, 'gi': 145, 'detect': 32, 'rsbi': 63, 'vt': 87, 'bite': 19, 'clean': 36, 'amt': 126, 'feet': 45, 'intermitt': 72, 'duoderm': 30, 'exp': 45, 'abd': 152, 'respir': 45, 'anemia': 34, 'bacteri': 27, 'dampen': 14, 'sicu': 27, 'btwn': 2, 'carevu': 68, 'ac': 81, 'appli': 83, 'micro': 24, 'sore': 18, 'held': 86, 'discomfort': 59, 'flovent': 7, 'respons': 149, 'perform': 96, 'fld': 14, 'respond': 111, 'updat': 107, 'accomod': 1, 'ectopi': 98, 'dri': 78, 'reflex': 33, 'dim': 36, 'cpap': 63, 'made': 180, 'approx': 62, 'stage': 53, 'ps': 81, 'bloodcultur': 1, 'breast': 10, 'equal': 41, 'forearm': 8, 'comfort': 153, 'quadrant': 40, 'aeb': 1, 'whole': 8, 'tlcvl': 1, 'dnr': 138, 'heme': 57, 'lo': 43, 'pale': 39, 'dress': 52, 'occ': 56, 'drainag': 53, 'resolv': 86, 'move': 96, 'residu': 83, 'arm': 78, 'refer': 33, 'otherwis': 100, 'diminish': 103, 'vanc': 53, 'cont': 170, 'urinari': 29, 'impair': 47, 'soap': 7, 'rn': 94, 'afebril': 105, 'iv': 179, 'maintain': 122, 'exit': 9, 'latest': 34, 'scant': 72, 'temp': 102, 'minim': 147, 'ineffect': 13, 'cmo': 94, 'inc': 43, 'pressur': 128, 'vari': 13, 'greater': 60, 'morphin': 100, 'virtual': 4, 'buttock': 26, 'sequenti': 2, 'pvc': 73, 'notic': 16, 'inhal': 21, 'cmv': 52, 'command': 117, 'allevyn': 8, 'stop': 93, 'margin': 43, 'oxycontin': 3, 'precordi': 18, 'lopressor': 54, 'flare': 6, 'ble': 16, 'floor': 64, 'cta': 47, 'nsr': 75, 'drowsi': 4, 'hurt': 1, 'em': 11, 'coumadin': 19, 'safeti': 33, 'pass': 86, 'id': 116, 'yesterday': 99, 'nap': 13, 'occa': 24, '``': 74, 'essenti': 47, 'hostil': 1, 'dilt': 15, 'forget': 3, 'stand': 42, 'infarct': 60, \"''\": 67, 'oder': 3, 'diarrhea': 27, 'hosp': 10, 'twice': 17, 'sta': 2, 'believ': 16, 'mushroom': 13, 'golden': 13, 'af': 32, 'diffus': 115, 'convert': 25, 'liquid': 60, 'longer': 43, 'slept': 28, 'paranoid': 2, 'ra': 68, 'flagyl': 52, 'wk': 9, 'neg': 110, 'foleu': 1, 'upstair': 1, 'hyperact': 5, 'myocardi': 38, 'maintan': 1, 'grand': 5, 'affect': 16, 'orient': 78, 'diff': 53, 'unclear': 60, 'conduct': 21, 'transit': 44, 'possibl': 165, 'take': 85, 'confus': 41, 'overnight': 110, 'anterolater': 3, 'historian': 1, 'specif': 89, 'trace': 131, 'chronic': 93, 'ago': 44, 'away': 28, 'afib': 54, 'sip': 20, 'cap': 24, 'late': 33, 'intrins': 7, 'contraind': 61, 'hemorrhag': 59, 'ischemia': 46, 'segment': 37, 'tissu': 49, 'common': 31, 'tachypnea': 53, 'axial': 46, 'white': 79, 'portal': 20, 'supin': 58, 'persist': 117, 'eval': 127, 'patholog': 27, 'thirteen': 2, 'ngt': 69, 'air': 121, 'fundu': 9, 'avl': 7, 'flow': 108, 'lethargi': 14, 'invers': 16, 'lft': 27, 'ge': 14, 'obstruct': 80, 'date': 125, 'antegrad': 2, 'intra': 29, 'preserv': 24, 'foci': 5, 'lacunar': 8, 'overload': 65, 'hydronephrosi': 24, 'lentiform': 1, 'multifoc': 68, 'markedli': 26, 'hypopharynx': 2, 'apex': 37, 'irregular': 25, 'scatter': 47, 'extra': 24, 'cell': 58, 'sludg': 5, 'cours': 98, 'lesion': 61, 'ascit': 36, 'overal': 100, 'proxim': 44, 'vein': 73, 'osseou': 43, 'ultrasound': 50, 'coil': 16, 'kidney': 58, 'diagnost': 41, 'rotat': 36, 'gallston': 13, 'nonshadow': 1, 'organ': 59, 'path': 4, 'bile': 20, 'sinus': 23, 'us': 62, 'locat': 73, 'echotextur': 3, 'paranas': 18, 'esophagu': 19, 'mayb': 8, 'ball': 3, 'periventricular': 13, 'techniqu': 92, 'nuclei': 1, 'vascular': 117, 'duct': 13, 'within': 111, 'complet': 103, 'allow': 66, 'biliari': 21, 'cirrhosi': 10, 'inspir': 7, 'chf': 75, 'singl': 108, 'find': 179, 'associ': 51, 'slight': 83, 'ventricular': 95, 'focal': 69, 'gastric': 38, 'junction': 68, 'attenu': 12, 'structur': 66, 'colon': 41, 'silhouett': 84, 'side': 145, 'gallbladd': 35, 'mild': 132, 'mastoid': 22, 'malposit': 10, 'almost': 18, 'liver': 57, 'surround': 29, 'man': 120, 'hepatopathi': 1, 'slow': 50, 'subcort': 3, 'microvascular': 7, 'vessel': 34, 'overt': 13, 'measur': 128, 'intracrani': 27, 'pulmonari': 179, 'atelectasi': 97, 'oxygen': 102, 'midlin': 54, 'identifi': 69, 'mark': 67, 'secondari': 79, 'routin': 20, 'indic': 183, 'contrast': 102, 'float': 4, 'clariti': 3, 'per': 161, 'green': 37, 'english': 8, 'bring': 13, 'onc': 87, 'tan': 80, 'piec': 6, 'whether': 21, 'transfer': 91, 'liquidi': 2, 'risb': 2, 'accept': 44, 'deminish': 10, 'ativan': 65, 'chart': 32, 'request': 90, 'labor': 45, 'nose': 55, 'convers': 34, 'nsg': 54, 'congest': 78, 'abdomin': 99, '^': 31, 'systol': 99, 'levoph': 68, 'febril': 33, \"n't\": 38, 'vea': 25, 'rll': 66, 'local': 32, 'extend': 60, 'facial': 20, 'yankauer': 5, 'reslut': 1, 'male': 76, 'rectal': 51, 'pnx': 13, 'grade': 35, 'ett': 98, 'reposit': 70, 'front': 6, 'ho': 53, 'result': 115, 'mgm': 7, 'sy': 20, 'mso': 46, 'tickl': 1, 'wish': 78, 'ob': 25, 'firm': 37, \"'\": 36, 'await': 92, 'brown': 74, 'ax': 33, 'gauz': 8, 'relief': 29, 'pmicu': 20, 'uncomfort': 40, 'airway': 80, 'bronchoscopi': 30, 'feed': 87, 'pox': 6, 'letharg': 49, 'poorli': 33, 'put': 55, 'said': 27, 'svt': 24, 'siderail': 6, 'biopsi': 15, 'enlarg': 79, 'anasarca': 31, 'facil': 12, 'modest': 8, 'help': 71, 'cx': 85, 'cpa': 2, 'stim': 13, 'uprbc': 14, 'fragil': 7, 'whiteish': 1, 'integ': 18, 'vsl': 1, 'ad': 62, 'fever': 94, 'tko': 2, 'shake': 26, 'obj': 1, 'pocket': 6, 'color': 97, 'cn': 10, 'larg': 137, 'pmd': 1, 'hemolyz': 1, 'lay': 5, 'grim': 6, 'cabg': 17, 'invas': 69, 'tubefeed': 3, 'look': 56, 'pneumon': 20, 'climb': 16, 'coronari': 34, 'spike': 28, 'repond': 2, 'respon': 5, 'sd': 5, 'fi': 37, 'activ': 71, 'regard': 83, 'spo': 97, 'doze': 10, 'motion': 58, 'red': 55, 'lymphadenopathi': 34, 'noxiou': 28, 'metrondiazol': 1, 'fluctuat': 14, 'patchi': 41, 'noo': 1, 'get': 98, 'came': 51, 'liter': 80, 'fail': 55, 'bibasilar': 66, 'bue': 12, 'rare': 52, 'prbc': 51, 'unev': 22, 'suport': 3, 'rhonchi': 68, 'easili': 44, 'spont': 27, 'bulki': 2, 'bid': 14, 'diseas': 118, 'collaps': 55, 'nevertheless': 3, 'pheripher': 1, 'prognosi': 67, 'amintain': 1, 'space': 48, 'thought': 39, 'complex': 26, 'respalor': 2, 'board': 19, 'stabil': 29, 'far': 40, 'toilet': 45, 'obstruc': 1, 'housestaff': 8, 'opacifi': 12, 'bath': 19, 'object': 62, 'degrad': 4, 'ah': 3, 'tripl': 31, 'cathart': 2, 'nod': 42, 'sourc': 62, 'earlier': 100, 'sediment': 37, 'ther': 3, 'gather': 5, 'bronchodil': 14, 'inflat': 9, 'multi': 47, '^^': 11, 'therapi': 87, 'somewhat': 53, 'difficult': 119, 'contain': 19, 'antb': 5, 'pndg': 3, 'edemat': 27, 'tire': 18, 'uo': 65, 'dd': 3, 'area': 117, 'wiggl': 6, 'maximum': 7, 'senna': 24, 'tachycard': 47, 'heavi': 14, 'nuero': 7, 'sine': 1, 'risen': 1, 'thrush': 8, 'givn': 5, 'loop': 48, 'respalar': 1, 'subclavian': 51, 'toe': 24, 'unrestrain': 8, 'spasm': 3, 'option': 36, 'visibl': 30, 'peerla': 4, 'suspici': 28, 'nd': 51, 'tv': 58, 'bow': 3, 'proceedur': 1, 'necrot': 12, 'immobl': 3, 'sleep': 84, 'titrat': 106, 'narr': 9, 'volvulu': 1, 'obviou': 39, 'restaint': 2, 'necrosi': 7, 'kickinga': 1, 'go': 68, 'darker': 2, 'pl': 28, 'begin': 59, 'careview': 34, 'withdraw': 68, 'numer': 20, 'remin': 3, 'paraesophag': 2, 'organo': 1, 'ray': 54, 'extremit': 8, 'broncial': 2, 'cuff': 52, 'mostli': 31, 'pearl': 11, 'lumen': 74, 'perla': 15, 'unit': 90, 'tri': 79, 'lasix': 72, 'overinfl': 3, 'airspac': 43, 'noc': 36, 'ealier': 1, 'background': 12, 'thu': 32, 'mediastin': 83, 'obey': 11, 'palpabl': 33, 'thisk': 1, 'simpl': 70, 'hd': 40, 'precaut': 63, 'andswer': 1, 'reccomend': 3, 'uop': 56, 'respolar': 2, 'reactiv': 47, 'mn': 41, 'thru': 14, 'metronidazol': 16, 'littl': 91, 'partial': 53, 'approp': 5, 'ks': 3, 'pleas': 158, 'purpl': 16, 'icreas': 1, 'sl': 26, 'tl': 7, 'middl': 32, 'restart': 75, 'diuresi': 42, 'pit': 29, 'gd': 10, 'gen': 32, 'pulm': 97, 'dead': 22, 'verbal': 82, 'senekot': 2, 'respalo': 1, 'awak': 62, 'max': 69, 'reduc': 42, 'obscur': 41, 'priest': 27, 'cardio': 15, 'cancer': 41, 'cad': 41, 'although': 95, 'grab': 5, 'outsid': 15, 'ask': 75, 'viabl': 3, 'kick': 5, 'hiatal': 9, 'colac': 37, 'dulcolax': 10, 'lg': 38, 'stimuli': 104, 'fo': 12, 'alarm': 28, 'rd': 14, 'period': 73, 'pull': 66, 'hemodyn': 2, 'neoplasm': 10, 'integr': 35, 'concentr': 25, 'inconsistantli': 4, 'ivb': 9, 'run': 62, 'high': 133, 'probabl': 114, 'follw': 7, 'bcx': 13, 'bone': 34, 'benefit': 36, 'staff': 47, 'becom': 80, 'hypotent': 6, 'respirtori': 2, 'institut': 7, 'alter': 52, 'hypoattenu': 7, 'even': 100, 'arous': 60, 'calm': 29, 'mrsa': 35, 'bronch': 44, 'mv': 28, 'half': 17, 'prolong': 38, 'inconsist': 15, 'rsmall': 1, 'ionic': 3, 'eve': 35, 'risk': 62, 'gross': 16, 'mechan': 69, 'thorax': 16, 'round': 66, 'dc': 63, 'suppositori': 4, 'opacif': 92, 'focu': 47, 'leg': 46, 'suct': 18, 'vanco': 109, 'optiray': 24, 'togeth': 9, 'fair': 32, 'pronounc': 64, 'sheet': 37, 'postobstruct': 3, 'window': 33, 'ab': 22, 'pleuracentesi': 1, 'ing': 10, 'surgic': 44, 'paramet': 27, 'respondibng': 1, 'coocyx': 1, 'difficulti': 61, 'pattern': 79, 'autoflow': 28, 'pap': 18, 'complianc': 30, 'began': 33, 'wrote': 7, 'shoulder': 19, 'contist': 1, 'mcq': 15, 'satisfactori': 23, 'avail': 65, 'overli': 45, 'infil': 1, 'letter': 4, 'fe': 6, 'pink': 49, 'agreement': 26, 'bo': 5, 'tachypn': 56, 'aprv': 4, 'comlet': 1, 'everyth': 9, 'kq': 2, 'maew': 4, 'therapeut': 36, 'totol': 1, 'cl': 19, 'mattress': 13, 'cpt': 34, 'shortli': 15, 'contempl': 1, 'constantli': 11, 'pulmon': 32, 'ectub': 1, 'centimet': 12, 'bye': 6, 'antibx': 39, 'pb': 3, 'notifi': 87, 'fibrosi': 20, 'plateau': 43, 'na': 39, 'lavag': 30, 'hypoxia': 104, 'plug': 43, 'remov': 110, 'decidd': 1, 'dramat': 8, 'synch': 8, 'alreadi': 27, 'ngtd': 22, 'bb': 33, 'lpm': 5, 'incres': 2, 'lnc': 14, 'narcot': 13, 'crest': 1, 'fb': 18, 'lrge': 1, 'redden': 25, 'reevalu': 12, 'fib': 47, 'spon': 11, 'satur': 48, 'desatur': 58, 'swell': 22, 'combiv': 13, 'interstiti': 59, 'mortem': 12, 'paradox': 13, 'becam': 89, 'quickli': 45, 'vomit': 30, 'let': 19, 'asystol': 33, 'tlc': 31, 'mildli': 76, 'sump': 3, 'bilat': 73, 'rectum': 26, 'term': 43, 'extent': 39, 'strong': 37, 'teen': 29, 'zone': 30, 'desat': 66, 'movment': 3, 'dysynchroni': 34, 'ild': 5, 'nrb': 46, 'levoflox': 29, 'beyond': 23, 'talk': 52, 'bun': 98, 'quit': 28, 'ensu': 2, 'hx': 59, 'depth': 4, '&': 126, 'perihilar': 37, 'continnu': 2, 'pan': 30, 'loos': 52, 'definit': 48, 'tear': 34, 'levo': 67, 'azygo': 4, 'tracheostomi': 33, 'fiber': 16, 'trach': 40, 'lighter': 2, 'perl': 27, 'instabl': 24, 'grandson': 6, 'borderlin': 49, 'theraput': 2, 'problem': 55, 'iliac': 10, 'way': 32, 'pictur': 20, 'breathsound': 5, 'settl': 27, 'haldol': 21, 'decison': 1, 'acv': 10, 'remai': 2, 'mask': 66, 'vol': 44, 'pursu': 19, 'functin': 1, 'substanti': 44, 'og': 51, 'regimin': 4, 'kcl': 40, 'face': 59, 'doxycyclin': 2, 'evelv': 1, 'becaus': 42, 'reintub': 19, 'belli': 8, 'cre': 7, 'healthi': 5, 'wors': 53, 'calcifi': 33, 'sharp': 13, 'comfirm': 1, 'three': 35, 'dispo': 43, 'anesthesia': 29, 'alveolar': 33, 'hard': 23, 'yest': 13, 'toliet': 5, 'befor': 76, 'moment': 10, 'divid': 10, 'criteria': 18, 'nasogastr': 79, 'interact': 22, 'saturday': 10, 'grandchildren': 2, 'steadili': 3, 'soon': 21, 'yet': 46, 'mad': 4, 'mainli': 12, 'lightli': 16, 'breakdown': 46, 'node': 33, 'incr': 10, 'young': 1, 'wife': 53, 'ensur': 15, 'confort': 4, 'intens': 5, 'tent': 28, 'summeri': 1, 'hardwar': 6, 'nonspecif': 26, 'treatment': 90, 'reportedli': 16, 'excel': 15, 'knob': 3, 'accord': 30, 'tomorrow': 65, 'sbt': 31, 'promot': 19, 'word': 24, 'give': 77, 'rebolu': 1, 'life': 29, 'implant': 2, 'fluconazol': 9, 'mention': 20, 'disori': 7, 'children': 24, 'pneumocysti': 5, 'name': 30, 'spanish': 3, 'pleurit': 4, 'straight': 3, 'hypox': 45, 'dyspneic': 9, 'basil': 12, 'asleep': 14, 'juic': 5, 'cathol': 8, 'muscl': 58, 'xray': 28, 'fruit': 1, 'pn': 6, 'accessori': 31, 'nrbm': 4, 'food': 18, 'listen': 5, 'bay': 1, 'bit': 22, 'leav': 26, 'anxiou': 53, 'aunt': 2, 'picc': 59, 'peac': 12, 'poss': 21, 'tolarg': 1, 'bacitracin': 1, 'sync': 7, 'much': 83, 'potenti': 48, 'financila': 1, 'ect': 5, 'fell': 16, 'fit': 5, 'induct': 3, 'compr': 1, 'intak': 43, 'center': 17, 'balloon': 14, 'els': 8, 'lat': 11, 'coverag': 67, 'vision': 12, 'dopa': 7, 'neb': 70, 'chaplain': 5, 'especi': 22, 'appetit': 13, 'trigger': 39, 'unsaf': 3, 'quad': 12, 'shovel': 10, 'felt': 44, 'tenuou': 24, 'pu': 2, 'surviv': 11, 'chip': 5, 'nonproduct': 10, 'fx': 10, 'restr': 2, 'reg': 28, 'anxieti': 44, 'doubl': 34, 'qod': 4, 'slowli': 52, 'address': 43, 'induc': 23, 'stat': 21, 'npc': 5, 'cover': 72, 'anywher': 4, 'ss': 31, 'fingerstick': 17, 'antecub': 4, 'diet': 57, 'alseep': 1, 'pnd': 27, 'exert': 9, 'nr': 5, 'decr': 6, 'thank': 19, 'mgx': 3, 'softli': 24, 'deteri': 1, 'custard': 3, 'machin': 13, 'qhr': 5, 'noon': 29, 'save': 3, 'fm': 15, 'lnp': 4, 'eat': 26, 'water': 54, 'obatin': 2, 'wear': 10, 'bedpan': 4, 'reorient': 15, 'overcom': 2, 'sugar': 32, 'througout': 5, 'dip': 12, 'awaken': 14, 'cannula': 38, 'caus': 63, 'aaox': 2, 'hiv': 5, 'recov': 26, 'frequenc': 13, 'oj': 1, 'gaurdianship': 1, 'enc': 5, 'incont': 9, 'humidifi': 12, 'minor': 8, 'deficit': 14, 'axitey': 1, 'lorazepam': 16, 'sleev': 3, 'wind': 1, 'cdiff': 19, 'nonprod': 2, 'guaifenesin': 3, 'babi': 2, 'fine': 24, 'sob': 79, 'ice': 10, 'stick': 48, 'void': 21, 'gluc': 5, 'hover': 5, 'sporad': 2, 'psi': 6, 'moniotr': 4, 'hiflow': 4, 'rail': 3, 'confluent': 23, 'inflam': 4, 'draw': 44, 'fsb': 18, 'membran': 10, 'tfr': 1, 'free': 97, 'apart': 5, 'heplock': 6, 'amnt': 2, 'retinopathi': 1, 'pag': 3, 'pr': 49, 'antigen': 11, 'cramp': 1, 'kid': 2, 'hyponatremia': 6, 'replac': 55, 'assign': 4, 'send': 38, 'watch': 16, 'isol': 16, 'occassion': 12, 'guardian': 6, 'weepi': 2, 'descis': 1, 'plu': 13, 'incontin': 19, 'palp': 15, 'return': 91, 'punctur': 15, 'fro': 7, 'tommorrow': 9, 'exurt': 1, 'guid': 28, 'azithromycin': 22, 'nasal': 59, 'assum': 10, 'shallow': 21, 'procedur': 99, 'visitor': 13, 'endo': 54, 'syrup': 2, 'sister': 43, 'pcp': 36, 'zosyn': 67, 'age': 21, 'confirm': 83, 'coliti': 19, 'magso': 2, 'carinii': 2, 'np': 15, 'mani': 40, 'soc': 21, 'spell': 4, 'softner': 1, 'duski': 10, 'whi': 15, 'ltr': 1, 'mother': 27, 'bigger': 2, 'codein': 8, 'mucou': 35, 'sedimen': 2, 'atrium': 66, 'episdo': 1, 'ppn': 4, 'welfar': 1, 'fungal': 19, 'lost': 7, 'occular': 1, 'lunch': 4, 'lack': 28, 'closer': 4, 'ox': 23, 'specimen': 22, 'ass': 9, 'stamp': 1, 'fa': 8, 'drape': 15, 'paper': 6, 'say': 34, 'steroid': 42, 'conclus': 47, 'wob': 31, 'rv': 38, 'cleans': 18, 'amiodaron': 22, 'qualiti': 54, 'daili': 72, 'angiograph': 9, 'moist': 14, 'oh': 1, 'tract': 17, 'reappli': 3, 'bsa': 32, 'seriou': 7, 'alleyvn': 1, 'tone': 60, 'hypokinesi': 25, 'rusti': 9, 'anti': 22, 'lift': 7, 'suppport': 6, 'belong': 14, \"'ll\": 1, 'bypass': 7, 'attent': 41, 'diminsh': 13, 'jerk': 4, 'chamber': 21, 'weight': 86, 'compens': 21, 'consent': 39, 'reseal': 1, 'gel': 9, 'acidot': 23, 'fellow': 39, 'chged': 1, 'secur': 31, 'dialysi': 41, 'sero': 3, 'height': 77, 'hemodi': 2, 'interpret': 59, 'adapt': 13, 'usual': 31, 'lessen': 4, 'leaflet': 39, 'lump': 2, 'quentin': 1, 'plaement': 1, 'bil': 39, 'mexiliten': 1, 'lock': 4, 'melanot': 1, 'regurgit': 42, 'septum': 33, 'readi': 37, 'quiac': 5, 'documetn': 1, 'guiac': 20, 'cavoatri': 28, 'screen': 24, 'tell': 11, 'thicken': 66, 'tunnel': 8, 'streak': 10, 'standard': 78, 'aicd': 3, 'ccu': 13, 'switch': 47, 'entri': 9, 'ica': 6, 'midnit': 2, 'cbc': 21, 'prednison': 22, 'ppi': 49, 'tid': 31, 'assessment': 1, 'toward': 45, 'clearer': 12, 'subcutan': 23, 'dsg': 34, 'pacer': 12, 'radiologist': 17, 'reduct': 13, 'beat': 46, 'venopunctur': 2, 'everi': 29, 'dsd': 18, 'temperatur': 28, 'deliv': 12, 'scrub': 1, 'lidocain': 19, 'wound': 32, 'decub': 12, 'valv': 58, 'stuck': 5, 'cath': 77, 'french': 20, 'armboard': 1, 'chg': 9, 'kinair': 7, 'ivp': 56, 'revis': 9, 'sanguin': 6, 'postion': 4, 'crit': 15, 'dermabond': 1, 'fibril': 54, 'mortum': 4, 'posterior': 48, 'upon': 57, 'tte': 46, 'iintub': 1, 'load': 27, 'tabl': 14, 'inject': 19, 'tannish': 8, 'absorbs': 1, 'lyte': 79, 'jerki': 1, 'thoracentesi': 21, 'lascer': 1, 'mexiletin': 1, 'guidanc': 19, 'dsging': 1, 'crrt': 11, 'sternal': 18, 'incis': 9, 'aorta': 65, 'ventricl': 59, 'greatli': 8, 'lv': 38, 'opsit': 2, 'oett': 15, 'percutan': 4, 'chge': 1, 'wall': 84, 'test': 65, 'asymmetr': 24, 'direct': 38, 'obvious': 6, 'fluoro': 13, 'micropunctur': 11, 'fairli': 21, 'corneal': 18, 'emerg': 28, 'consumpt': 2, 'project': 53, 'seal': 17, 'lido': 2, 'blade': 2, 'flush': 45, 'complic': 61, 'aquacel': 6, 'fluoroscop': 18, 'xylocain': 1, 'heel': 14, 'pla': 1, 'toxic': 17, 'duplex': 10, 'neosynephrin': 18, 'aerat': 47, 'needl': 13, 'util': 19, 'resum': 37, 'bundl': 29, 'configur': 8, 'rrt': 16, 'unchg': 1, 'anyth': 17, 'pneumo': 13, 'wire': 36, 'nite': 2, 'number': 30, 'barrier': 38, 'co': 66, 'dual': 14, 'inpati': 43, 'hit': 14, 'ir': 24, 'depart': 8, 'ar': 28, 'tortuou': 13, 'bigemini': 8, 'soften': 3, 'sheath': 21, 'multipodu': 8, 'superior': 42, 'cardiolog': 24, 'cardiomegali': 48, 'clot': 41, 'vena': 25, 'supervis': 12, 'damp': 4, 'knee': 8, 'plct': 10, 'fashion': 16, 'sux': 5, 'told': 18, 'hytap': 1, 'either': 36, 'interatri': 30, 'semi': 40, 'predominantli': 25, 'rx': 36, 'fentanyl': 79, 'jeopard': 1, 'deep': 40, 'ecchymot': 9, 'cp': 29, 'blb': 9, 'tap': 21, 'mlc': 2, 'desynchroni': 1, 'mech': 17, 'guidewir': 10, 'wo': 6, 'creation': 1, 'thin': 69, 'overnit': 3, 'edg': 6, 'anticip': 21, 'sch': 11, 'coarser': 1, 'fulli': 38, 'hep': 31, 'sutur': 17, 'fractur': 25, 'prolen': 1, 'gr': 10, 'syst': 1, 'adequato': 1, 'equivoc': 6, 'supervisig': 1, 'tele': 18, 'agon': 24, 'interrog': 1, 'leak': 50, 'pericardium': 39, 'reject': 1, 'hemhroid': 1, 'hemothorax': 6, 'septal': 28, 'pulseless': 6, 'adaptic': 1, 'focus': 27, 'graft': 9, 'hrli': 2, 'accompani': 24, 'precis': 4, 'cvvhdf': 6, 'rib': 15, 'afeb': 20, 'restrain': 17, 'rxed': 1, 'hg': 52, 'peel': 16, 'vassopressin': 2, 'pill': 13, 'cava': 25, 'transven': 4, 'deterior': 30, 'five': 3, 'fire': 2, 'readjust': 6, 'prep': 20, 'replct': 10, 'branch': 34, 'lb': 38, 'vtach': 15, 'mitral': 44, 'axillari': 42, 'explain': 46, 'inch': 46, 'wide': 35, 'spt': 2, 'moistur': 7, 'steril': 25, 'qid': 24, 'shown': 12, 'bacteremia': 10, 'cyu': 6, 'dced': 3, 'th': 19, 'dup': 4, 'creat': 70, 'particip': 14, 'poe': 10, 'till': 19, 'patenc': 9, 'aquasel': 1, '^^wob': 2, 'fem': 19, 'cvvh': 17, 'technic': 50, 'grossli': 46, 'suboptim': 28, 'extext': 3, 'ideal': 40, 'necessari': 40, 'weep': 16, 'pfr': 7, 'tape': 21, 'vasopressor': 21, 'insomnia': 4, 'hemodialysi': 16, 'ef': 43, 'contin': 12, 'citrat': 6, 'nutren': 25, 'cal': 13, 'sput': 14, 'hydrocortison': 11, 'fent': 46, 'aloevesta': 2, 'anatomi': 5, 'pacemak': 15, 'ip': 27, 'femor': 39, 'cvvhd': 14, 'defibril': 10, 'dysfunct': 42, 'surgigel': 3, 'consid': 99, 'areaa': 1, 'ethic': 8, 'blue': 12, 'smaller': 23, 'kvo': 22, 'asp': 27, 'preop': 1, 'apnea': 21, 'umbil': 2, 'best': 29, 'tpn': 27, 'dra': 1, 'bg': 15, 'assit': 2, 'hungri': 7, 'determin': 43, 'ffp': 24, 'bodi': 79, 'quintin': 2, 'exposur': 8, 'appreci': 64, 'purluant': 1, 'dopp': 4, 'intrus': 1, 'biliou': 25, 'lue': 18, 'levof': 7, 'bilingu': 1, 'among': 6, 'cagluc': 4, 'weekend': 21, 'desir': 23, 'unequ': 6, 'protonix': 38, 'patch': 28, 'qd': 22, 'hypo': 22, 'portugues': 1, 'fear': 8, 'declin': 66, 'licw': 2, 'yankaur': 7, 'wed': 28, 'inciis': 1, 'butt': 2, 'spend': 5, 'trust': 2, 'finger': 44, 'brb': 9, 'escar': 1, 'least': 44, 'fore': 1, 'hope': 41, 'stapl': 4, 'clacium': 1, 'av': 17, 'mtg': 27, 'glucon': 13, 'avpac': 2, 'comress': 1, 'purul': 9, 'vnet': 1, 'di': 5, 'tonight': 45, 'grayish': 3, 'fight': 3, 'rlle': 1, 'suit': 6, 'plane': 7, 'upc': 1, 'manitain': 2, 'tm': 12, 'follwo': 2, 'drb': 2, 'secreat': 24, 'ion': 3, 'vitamin': 14, 'sacral': 10, 'attitud': 1, 'realiti': 2, 'scan': 57, 'unless': 12, 'convict': 1, 'translat': 10, 'br': 3, 'ctic': 1, 'bld': 25, 'gromac': 1, 'wd': 3, 'ear': 60, 'woud': 1, 'diaphragm': 51, 'emesi': 21, 'accesori': 2, 'distal': 59, 'fri': 24, 'describ': 38, 'glu': 8, 'filter': 13, 'wt': 7, 'rue': 13, 'ioniz': 34, 'sao': 25, 'pray': 6, 'lw': 9, 'scrotal': 4, 'pitressin': 7, 'frequet': 1, 'briskli': 7, 'esrd': 14, 'cyanot': 14, 'apneic': 12, 'great': 28, 'sctotum': 1, 'placemen': 1, 'relax': 11, 'nectot': 1, 'bare': 7, 'rise': 50, 'foul': 5, 'minior': 2, 'lengthi': 5, 'schedul': 36, 'ue': 21, 'shut': 28, 'twenti': 4, 'cloudi': 28, 'dicat': 1, 'brownish': 11, 'drianag': 1, 'mulitpl': 3, 'lingular': 3, 'occur': 34, 'serou': 26, 'tremor': 9, 'rewir': 3, 'wherea': 2, 'levoquin': 13, 'heal': 18, 'chanc': 7, 'sacrum': 13, 'rle': 5, 'ultrafiltr': 4, 'irrig': 15, 'black': 11, 'sad': 5, 'brought': 32, 'administr': 37, 'cpncp': 1, 'pager': 10, 'pick': 17, 'surgeri': 45, 'estrem': 1, 'caludin': 1, 'mucoid': 3, 'larger': 30, 'slogh': 1, 'quinton': 3, 'dm': 23, 'neurolog': 63, 'bright': 12, 'mucousi': 2, 'palm': 1, 'refil': 6, 'die': 31, 'msi': 2, 'content': 17, 'rhonchor': 43, 'gib': 11, 'kept': 38, 'scrotum': 6, 'multisystem': 5, 'nearli': 10, 'collect': 43, 'separ': 5, 'exhaust': 4, 'near': 36, 'coag': 26, 'first': 47, 'reconcil': 1, 'languag': 14, 'friendli': 1, 'sec': 24, 'gase': 11, 'end': 90, 'clamp': 24, 'levofloxicin': 1, 'digit': 3, 'mulit': 2, 'jp': 4, 'requirin': 1, 'etc': 32, 'rom': 10, 'linear': 11, 'meticul': 2, 'battl': 1, 'gelatin': 2, 'cooler': 4, 'fasia': 1, 'uffp': 4, 'delin': 4, 'bulb': 2, 'fingertip': 2, 'incisin': 1, 'gentli': 7, 'bilou': 3, 'evel': 2, 'heat': 2, 'vaselin': 2, 'recheck': 40, 'futur': 27, 'compromis': 25, 'lengthli': 1, 'ie': 7, 'draing': 6, 'flagli': 1, 'accur': 15, 'wonder': 3, 'fighter': 2, 'maroon': 8, 'spiritu': 4, 'bair': 18, 'miss': 4, 'step': 21, 'import': 9, 'pleth': 5, 'adb': 1, 'pac': 35, 'swollen': 14, 'towel': 4, 'nml': 5, 'lle': 8, 'passiv': 3, 'tpa': 6, 'correct': 33, 'fluc': 2, 'tmap': 1, 'infrequ': 12, 'vigor': 15, 'hesit': 3, 'briefli': 35, 'lc': 9, 'dtr': 28, 'incison': 1, 'peri': 15, 'aid': 21, 'forehead': 4, 'stiff': 11, 'gratitud': 3, 'bagdsd': 1, 'scl': 4, 'elimin': 7, 'gastrectomi': 1, 'defib': 2, 'aggreement': 1, 'hypotherm': 19, 'occl': 1, 'hugger': 20, 'perfus': 24, 'length': 26, 'dialyisi': 1, 'session': 3, 'facilit': 14, 'highli': 8, 'portex': 6, 'subsid': 3, 'parti': 1, 'compress': 52, 'sid': 1, 'phenergan': 1, 'yl': 1, 'never': 14, 'inlin': 1, 'realli': 11, 'huge': 5, 'eas': 11, 'escal': 30, 'torso': 25, 'warmer': 4, 'walk': 9, 'emycin': 2, 'recal': 3, 'trail': 5, 'inner': 10, 'settin': 1, 'ileu': 21, 'higher': 41, 'zofran': 9, 'mf': 2, 'break': 20, 'ayt': 1, 'ssri': 10, 'blanket': 17, 'profoundli': 3, 'rigid': 7, 'ok': 37, 'chunki': 2, 'perianl': 1, 'brisk': 35, 'tarri': 2, 'sprint': 1, 'remav': 1, 'alot': 7, 'erythro': 3, 'hhad': 1, 'dialyz': 6, 'hydrat': 23, 'pseudomona': 11, 'discoordin': 8, 'soda': 1, 'ope': 2, 'kub': 19, 'repeatedli': 9, 'roommat': 1, 'asssess': 1, 'card': 42, 'shop': 1, 'easi': 5, 'refus': 32, 'coffe': 12, '{': 64, 'avoid': 31, 'yel': 1, 'expans': 50, 'tachi': 31, 'weaker': 5, 'brief': 27, 'delay': 32, 'thigh': 10, 'strength': 19, 'vue': 6, 'ivpb': 2, 'ced': 11, 'jitteri': 2, 'peg': 31, 'chem': 9, 'poitiv': 1, 'match': 7, 'hem': 8, 'pul': 11, 'gt': 7, 'nkda': 11, 'chane': 3, 'morgu': 17, 'concernsa': 1, 'advers': 12, 'escap': 1, 'nonsustain': 1, 'seret': 1, 'cd': 17, 'diamet': 28, 'sxing': 15, 'challang': 1, 'ssi': 30, 'zero': 14, 'bout': 4, 'syring': 8, 'station': 3, 'hs': 11, 'taut': 1, 'comput': 3, 'tight': 13, 'bedrest': 4, 'endoc': 11, 'rhochi': 1, 'grin': 1, 'colleg': 1, 'lavarg': 3, 'luck': 2, 'redraw': 5, 'distract': 1, 'dialysis': 2, 'ventolin': 2, 'bruis': 18, 'target': 10, 'decent': 3, 'pk': 3, 'prev': 8, 'clearanc': 7, 'part': 40, 'sq': 44, 'cooper': 26, 'bc': 20, 'primarili': 18, 'saddl': 1, 'uq': 1, 'norepi': 7, 'loc': 8, 'perlla': 1, 'drsg': 11, 'town': 7, 'clock': 4, 'reliev': 17, 'enjoy': 4, 'fifteen': 1, 'shoot': 1, 'beinfit': 1, 'granula': 1, 'meanwhil': 1, 'integumentari': 13, 'paco': 12, 'excori': 11, 'pigtail': 9, 'drive': 16, 'valu': 36, 'reasobali': 1, 'dializ': 2, 'lantu': 4, 'skew': 1, 'dialys': 2, 'fianrd': 1, 'erythromycin': 6, 'mst': 1, 'initit': 2, 'mouht': 1, 'oincreas': 1, 'asymptomat': 8, 'noiw': 1, 'ked': 1, 'account': 9, 'nickel': 1, 'ten': 3, 'begun': 8, 'pleasur': 2, 'butr': 1, 'sours': 2, 'nois': 4, 'trial': 45, 'freg': 2, 'nwith': 1, 'polymorph': 3, 'quo': 2, 'acknowledg': 10, 'aprox': 1, 'caregiv': 3, 'minit': 1, 'stpo': 1, 'couplet': 3, 'duodersm': 1, 'blanchabl': 2, 'hip': 20, 'memori': 6, 'dilaudid': 9, 'hig': 3, 'ongo': 30, 'pgt': 3, 'fewer': 4, 'true': 8, 'worker': 22, 'fuild': 1, 'bond': 3, 'nervous': 1, 'bronc': 2, 'chair': 17, 'woken': 4, 'pp': 24, 'tgd': 1, 'gain': 7, 'rehab': 39, 'peroxid': 1, 'gtube': 3, 'protein': 30, 'calibr': 3, 'uppr': 1, 'intermit': 9, 'player': 1, 'douderm': 4, 'awok': 3, 'week': 49, 'alb': 25, 'lie': 24, 'nausea': 28, 'exercis': 10, 'vbg': 12, 'item': 3, 'frame': 4, 'coupl': 23, 'decubitu': 15, 'rul': 49, 'mbp': 2, 'nepro': 6, 'freeli': 3, 'gnd': 2, 'greenish': 11, 'si': 5, 'resent': 4, 'visabl': 1, 'sentenc': 7, 'nbp': 36, 'render': 3, 'sml': 13, 'absorb': 8, 'pseudamona': 1, 'sucion': 1, 'stumul': 1, 'minimali': 2, 'cri': 16, 'fan': 1, 'prob': 8, 'peak': 28, 'perineum': 9, 'slint': 1, 'clearli': 30, 'motil': 13, '}': 64, 'caution': 3, 'discharg': 32, 'graviti': 16, 'mr': 68, 'atro': 7, 'abc': 2, 'mucu': 22, 'correl': 59, 'asymthomat': 1, 'multip': 1, 'fromn': 2, 'mobil': 10, 'stau': 5, 'grip': 5, 'bairhugg': 6, 'flsd': 1, 'modul': 1, 'periph': 4, 'pretti': 4, 'label': 1, 'ambu': 15, 'net': 16, 'finish': 11, 'dorsali': 9, 'infact': 2, 'promod': 5, 'gradual': 21, 'bank': 15, 'ran': 5, 'catch': 1, 'stale': 1, 'write': 15, 'li': 9, 'rabbi': 6, 'eccymoisi': 1, 'derm': 7, 'surfac': 7, 'nss': 5, 'pad': 23, 'main': 45, 'disturb': 4, 'puff': 2, 'aim': 13, 'secrtion': 1, 'shape': 7, 'happen': 9, 'quiet': 33, 'troubl': 7, 'req': 18, 'anniversari': 1, 'achi': 1, 'admin': 13, 'mvr': 2, 'appropriatli': 7, 'written': 31, 'oob': 18, 'survail': 1, 'compliant': 7, 'foot': 17, 'aggit': 12, 'stem': 11, 'atr': 9, 'autopsi': 37, 'somul': 4, 'stimulu': 13, 'rhoncher': 9, 'hypoglycem': 2, 'photo': 1, 'significantli': 58, 'reassur': 23, 'flat': 32, 'drift': 13, 'broncheal': 1, 'audibl': 25, 'symptomat': 6, 'balnac': 1, 'superfici': 18, 'uf': 35, 'discard': 4, 'nnpn': 1, 'carevi': 1, 'tast': 1, 'hob': 49, 'someth': 8, 'pharm': 2, 'infreq': 2, 'atool': 1, 'vioxx': 1, 'gentleman': 6, 'tirtat': 1, 'sp': 17, 'empti': 6, 'surpris': 2, 'oncpap': 1, 'happi': 7, 'suc': 1, 'acidod': 2, 'enough': 24, 'ach': 2, 'circuit': 7, 'build': 2, 'depend': 55, 'duederm': 1, 'tue': 28, 'glug': 1, 'valuabl': 21, 'snd': 9, 'appar': 47, 'seizur': 23, 'consi': 1, 'heard': 21, 'perin': 3, 'trachesotomi': 1, 'prone': 6, 'canula': 6, 'unlik': 35, 'herniat': 2, 'hy': 1, 'withdrawn': 20, 'expiratori': 20, 'bottom': 4, 'pic': 16, 'iii': 13, 'mean': 18, 'throught': 3, 'disscuss': 1, 'gabapentin': 2, 'antibodi': 8, 'pvd': 14, 'type': 62, 'mentat': 5, 'renmain': 1, 'door': 3, 'environ': 11, 'tend': 12, 'asynchron': 3, 'thing': 15, 'sure': 16, 'cope': 25, 'dyspnea': 53, 'upset': 14, 'marroon': 1, 'perk': 2, 'afterward': 8, 'dvd': 1, 'bradycard': 16, 'endocrin': 21, 'reddish': 1, 'peroid': 1, 'glargen': 2, \"'m\": 4, 'stoma': 5, 'oth': 2, 'sleepi': 6, 'atc': 11, 'auscult': 33, 'gauard': 1, 'pleasant': 14, 'hydrogen': 1, 'except': 94, 'glargin': 5, 'cipro': 19, 'unsustain': 2, 'ashen': 4, 'multipod': 1, 'intercanula': 1, 'discolor': 4, 'shook': 2, 'reaction': 40, 'midodrin': 3, 'reincert': 1, 'rhonchial': 2, 'adminsit': 1, 'hemo': 2, 'resist': 28, 'coumidin': 1, 'oint': 2, \"'ve\": 2, 'lethgar': 1, 'epo': 1, 'relat': 81, 'absorbt': 2, 'msicu': 1, 'salin': 20, 'crx': 2, 'neo': 37, 'blding': 1, 'spec': 31, 'accuraci': 3, 'antidepress': 3, 'subtherapeut': 4, 'prisma': 1, 'titer': 2, 'stare': 3, 'beir': 1, 'liq': 15, 'bactrim': 18, 'messag': 7, 'unsuccessful': 2, 'lsc': 8, 'rrectal': 1, \"tf'ing\": 9, 'transport': 48, 'pa': 51, 'receic': 1, 'mucomyst': 8, 'resolut': 29, 'sxtn': 3, 'reglan': 18, 'neutrapho': 5, 'reflect': 49, 'increaseda': 1, 'drink': 10, 'inccreas': 1, 'rehydr': 2, 'triadyn': 7, 'ic': 2, 'properli': 11, 'addendeum': 1, 'waen': 1, 'nahco': 6, 'corrul': 1, 'dp': 72, 'flatu': 17, 'reserv': 12, 'heperin': 2, 'prayer': 8, 'cistern': 8, 'monday': 21, '^rr': 4, 'bronchospast': 3, 'coagul': 5, 'metastas': 10, 'basilar': 33, 'spoken': 10, 'ectop': 6, 'tsicu': 3, 'unstabl': 30, 'edt': 3, 'taper': 19, 'chemotherapi': 10, 'solumedrol': 19, 'rediscuss': 5, 'suppress': 6, 'yea': 1, 'gc': 3, 'niv': 12, 'faint': 8, 'sulphat': 1, 'rash': 42, 'tacypn': 4, 'burst': 16, 'sulci': 16, 'nodul': 22, 'diagnos': 15, 'clr': 10, 'fidgiti': 1, 'preliminari': 16, 'mlph': 1, 'nrm': 1, 'commenc': 6, 'spread': 12, 'prelim': 13, 'nil': 1, 'beforehand': 1, 'diures': 39, 'newli': 32, 'ew': 16, 'rythm': 5, '^hr': 2, 'therefor': 36, 'sit': 29, 'demand': 21, 'sato': 2, 'squamou': 7, 'tot': 1, 'mind': 7, 'supress': 2, '^bp': 2, 'nonoper': 1, 'jaw': 5, 'squamo': 1, \"'finish\": 1, 'onset': 14, 'metastasi': 4, 'diaphoret': 28, 'adm': 23, 'diltiazem': 16, 'meant': 1, 'brain': 27, 'hunger': 8, 'indigest': 1, 'rpt': 6, 'breat': 2, 'quick': 4, 'raf': 4, 'rebreath': 14, 'irrit': 9, 'nad': 21, 'carotid': 17, 'pet': 6, 'dest': 1, 'yr': 34, 'bx': 10, 'expector': 17, 'sponten': 1, 'labia': 2, 'nippv': 12, 'os': 7, 'carcinoma': 18, 'unexplain': 4, 'errat': 5, 'guifenasin': 1, 'enhanc': 16, 'exact': 5, 'deveolp': 1, 'dnrdni': 1, 'icecream': 2, 'oncolog': 15, 'tighten': 7, 'bronchospasm': 6, 'rather': 26, 'medicin': 12, 'sudden': 11, 'fhp': 12, 'chapl': 1, 'cortisol': 10, 'reinsert': 6, 'fact': 12, 'cholecyst': 22, 'signif': 2, 'succinylcholin': 1, 'musculoskelet': 26, 'curtail': 1, 'polici': 6, 'djd': 1, 'crystal': 2, 'regim': 14, 'adren': 41, 'brather': 1, 'fluoroscopi': 8, 'unusu': 12, 'insuff': 2, 'flex': 8, 'pmhx': 9, 'pancrea': 37, 'tegretol': 1, 'additin': 1, 'trachea': 20, 'vit': 14, 'pericholecyst': 11, 'gnr': 17, 'frontal': 40, 'extrahepat': 2, 'rbc': 12, 'groin': 24, 'ocd': 1, 'mul': 2, 'hung': 10, 'cpk': 9, 'etomid': 4, 'mgso': 3, 'precipit': 6, 'psoriasi': 1, 'conntact': 1, 'insuffici': 19, 'ceftaz': 8, 'incomprehens': 7, 'synthroid': 6, 'constip': 21, 'rale': 33, 'third': 17, 'neurolept': 1, 'intermittenli': 2, 'hypothroid': 1, 'cycl': 14, 'parkinson': 8, 'pneumnia': 1, 'vanoc': 1, 'deaf': 2, 'rcd': 1, 'supplement': 33, 'bph': 5, 'uti': 33, 'ductal': 6, 'dopamin': 15, 'gram': 43, 'dementia': 23, 'incontincn': 1, 'decres': 4, 'anaerob': 11, 'levaquin': 20, 'advis': 13, 'devedlop': 1, 'hemidiaphragm': 19, 'mb': 10, 'parenchym': 62, 'sinimet': 1, 'stiffneck': 1, 'breah': 1, 'dept': 3, 'lcl': 1, 'four': 16, 'jaundic': 19, 'situt': 1, 'la': 28, 'unavail': 2, 'biacarb': 1, 'hyperkalemia': 11, 'kayexly': 1, 'acceler': 4, 'crea': 2, 'pack': 10, 'rais': 40, 'prematur': 30, 'rerrl': 1, 'bin': 1, 'qr': 27, 'trivial': 18, 'bbb': 3, 'axi': 37, 'chorda': 11, 'physiolog': 38, 'eject': 8, 'estim': 32, 'stenosi': 42, 'fascicular': 12, 'akinesi': 2, 'pressort': 1, 'epix': 1, 'deviat': 23, 'caviti': 51, 'tricuspid': 38, 'fraction': 9, 'root': 20, 'eventu': 23, 'abp': 34, 'hyperkalcemia': 1, 'hypoperfus': 7, 'discov': 3, 'atn': 23, 'froom': 1, 'film': 48, 'nondistend': 15, 'anfio': 1, 'silverdin': 1, 'pnding': 8, 'intit': 2, 'multilobar': 7, 'wrap': 6, 'pcn': 9, 'potassium': 53, 'ointment': 13, 'laryng': 5, 'blind': 3, 'unfortun': 7, 'resusit': 4, 'thereaft': 6, 'qtt': 6, 'intiat': 7, 'accurr': 1, 'impend': 7, 'locul': 22, 'blister': 16, 'cordi': 4, 'brachycephal': 1, 'deceas': 3, 'fhpa': 2, 'sb': 22, 'angio': 7, 'mimini': 1, 'tacycard': 3, 'plam': 1, 'hygien': 8, 'psychosoci': 9, 'fentnyl': 1, 'incid': 26, 'bloat': 2, 'heartrat': 1, 'formal': 9, 'fentanul': 1, 'anbx': 5, 'scopolamin': 7, 'moan': 21, 'mist': 12, 'desicion': 1, 'extrim': 4, 'goodresult': 1, 'lip': 33, 'respect': 20, 'dad': 3, 'mutipl': 4, 'spontani': 1, 'progonisi': 1, 'mlq': 1, 'agig': 1, 'extremti': 1, 'educ': 5, 'nutriton': 1, 'physcian': 2, 'signic': 2, 'unreact': 2, 'knopff': 1, 'daddi': 1, 'trough': 24, 'cantones': 6, 'signfic': 4, 'progr': 1, 'palli': 34, 'calf': 11, 'symptom': 31, 'sorder': 1, 'ccb': 1, 'fliud': 5, 'pat': 3, 'hub': 1, 'ascend': 28, 'unreliev': 2, 'flap': 2, 'dysfnc': 1, 'mat': 1, 'tachypniec': 2, 'prefer': 9, 'conver': 1, 'nonadh': 1, 'restin': 1, 'echocardiograph': 16, 'zinc': 1, 'pff': 1, 'eitolog': 1, 'extrmiti': 1, 'suspect': 38, 'contol': 1, 'rtc': 4, 'kneecap': 1, 'extubatin': 1, 'guag': 2, 'phase': 13, 'acc': 3, 'tamponad': 12, 'durng': 1, 'supraventricular': 11, 'dehydr': 7, 'tegram': 1, 'puulent': 1, 'compon': 47, 'tachcard': 1, 'eccymot': 7, 'faamili': 1, 'serosang': 13, 'overlay': 3, 'ot': 8, 'downt': 2, 'extrasystol': 1, '^wob': 2, 'exist': 38, 'ua': 33, 'variabl': 17, 'apc': 4, 'extremeti': 19, 'presenc': 27, 'instruct': 10, 'supp': 11, 'quantifi': 4, 'aflutt': 10, 'sangaiou': 1, 'achiv': 1, 'neglig': 2, 'ozz': 3, 'tegaderm': 3, 'eipsod': 1, 'tachypneac': 2, 'frustrat': 6, 'gs': 8, 'respelor': 1, 'kling': 1, 'exxtrmiti': 1, 'exud': 6, 'extermit': 2, 'tracheobronch': 2, 'plea': 2, 'readdress': 21, 'strip': 4, 'exipr': 1, 'mag': 13, 'ota': 3, 'srr': 7, 'repeaet': 1, 'artifici': 5, 'gone': 14, 'nebul': 9, 'steri': 2, 'stain': 31, 'lacer': 4, 'diastol': 37, 'pcxr': 4, 'oropharynx': 10, 'tha': 3, 'appil': 1, 'lss': 1, 'undigest': 2, 'speech': 31, 'stabliz': 3, 'dobutamin': 12, 'staph': 9, 'dev': 2, \"am'\": 1, 'bigemeni': 1, 'mi': 24, 'slur': 2, 'thruout': 3, 'waffl': 7, 'regimen': 55, 'inquier': 1, 'inferiorli': 9, 'cortu': 1, 'splint': 1, 'indistinct': 8, 'serax': 1, 'accu': 1, 'triplet': 2, 'morpholog': 12, 'pgi': 3, 'venodyn': 7, 'mordem': 1, 'trigem': 1, 'podi': 2, 'wihtout': 1, 'combin': 34, 'circul': 8, 'senior': 4, 'avb': 3, 'broader': 3, 'defect': 29, 'diuresis': 2, 'palab': 1, 'somewat': 1, 'ecchymosi': 9, 'collector': 1, 'nephew': 10, 'captorpil': 1, 'rh': 3, 'nsvt': 4, 'contamint': 1, 'ltyellow': 1, 'clog': 4, 'garbl': 7, 'niddm': 1, 'purlpl': 1, 'benzo': 6, 'bronchial': 39, 'cocci': 10, 'sensit': 26, 'cefepin': 2, 'xr': 1, 'bliater': 1, 'cardiogen': 19, 'lcyu': 1, 'bandag': 4, 'incontinec': 1, 'unlabor': 12, 'rule': 40, 'metoprolol': 28, 'tegraderm': 1, 'sustain': 16, 'cefempin': 1, 'coras': 2, 'nail': 8, 'judgement': 3, 'thruought': 1, 'parenchyma': 23, 'junki': 6, 'comb': 5, 'hh': 2, 'proph': 4, 'transpat': 1, 'egt': 1, 'lobar': 12, 'border': 12, 'bss': 1, 'pleuroparenchym': 1, 'ft': 8, 'recevi': 1, 'pump': 7, 'intraventricular': 13, 'avhb': 1, 'alon': 14, 'inotropi': 1, 'dobut': 2, 'stent': 24, 'variou': 8, 'yankeur': 4, 'scd': 5, 'pci': 2, 'sulfat': 33, 'verifi': 16, 'anytmim': 1, 'resecur': 1, 'higest': 1, 'uncontrol': 4, 'gurgl': 7, 'inclus': 3, 'bl': 13, 'bigem': 1, 'lrg': 5, 'cut': 14, 'throughtout': 1, 'ck': 51, 'ultrac': 3, 'inconsistenli': 1, 'hypozia': 1, 'intermittantli': 2, 'frothi': 8, 'retain': 11, 'nonverb': 7, 'toss': 1, 'contamin': 9, 'prog': 2, 'whisper': 1, 'dopper': 1, 'rhonci': 8, 'diruesi': 2, 'particularli': 25, 'complain': 10, 'dss': 1, 'midnight': 32, 'introduc': 7, 'reciv': 4, 'rxn': 6, 'imv': 5, 'reappil': 1, 'enzm': 1, 'intregr': 1, 'mumbl': 8, 'nare': 14, 'curv': 23, 'crisi': 3, 'sitter': 4, 'transpar': 6, 'airmatress': 1, 'psych': 7, 'zaroxolyn': 1, 'troponin': 55, 'aurea': 1, 'pharynx': 6, 'trigemini': 1, 'real': 7, 'recalibr': 3, 'indwel': 23, 'discontinu': 34, 'cordu': 1, 'anuria': 7, 'lodg': 1, 'recogn': 9, 'nph': 9, 'addtion': 2, 'underneath': 6, 'perivascular': 1, 'rca': 4, 'posteriorli': 11, 'regularli': 7, 'defin': 15, 'haze': 3, 'captopril': 3, \"o'\": 1, 'expel': 2, 'smear': 18, 'teeth': 38, 'bt': 5, 'worseni': 1, 'nstemi': 11, 'occas': 9, 'rod': 14, 'pedi': 11, 'addedum': 1, 'avbl': 1, 'odor': 4, 'swallow': 39, 'comcomit': 1, 'oncologist': 12, 'teari': 2, 'incident': 10, 'cavo': 2, 'til': 4, 'unsur': 6, 'partner': 5, 'evolv': 18, 'rhonchoru': 7, 'trip': 4, 'init': 8, 'bronchu': 15, 'ep': 7, 'ud': 1, 'okay': 12, 'hyrocortison': 1, 'mx': 1, 'document': 33, 'stabilz': 2, 'vaxcel': 1, 'enviro': 1, 'int': 3, 'resposit': 3, 'norm': 2, 'hospic': 24, 'count': 36, 'adquat': 2, 'fr': 13, 'reiter': 3, 'immobil': 2, 'doctor': 12, 'ds': 6, 'dysneic': 1, 'ivab': 6, 'amiodoron': 4, 'platelet': 20, 'trim': 2, 'pericadi': 1, 'penumopericardium': 1, 'multilumen': 3, 'pe': 48, 'hrt': 4, 'axox': 1, 'bronchou': 1, 'pulsu': 1, 'shth': 1, 'spirit': 1, 'unprod': 1, 'wet': 62, 'workload': 1, 'tumor': 18, 'successful': 2, 'sensori': 3, \"dc'ed\": 2, 'tenou': 2, 'nonlas': 1, 'instil': 7, 'serosanq': 1, 'cot': 2, 'oxycodon': 9, 'cardiologist': 4, 'cari': 1, 'freind': 1, 'placment': 9, 'solut': 1, 'trun': 1, 'dcd': 6, 'lul': 43, 'cent': 3, 'travel': 8, 'prophylact': 3, 'adenosin': 4, 'mainten': 8, 'tfb': 4, 'platlet': 6, 'increasingli': 35, 'strenght': 1, 'capac': 9, 'condom': 2, 'nectar': 6, 'decompens': 27, 'decomp': 1, 'abort': 4, \"^'ingli\": 1, 'conjunct': 11, 'inncont': 1, 'quadrent': 6, 'amplitud': 3, 'prompt': 4, 'dislodg': 6, 'aspect': 21, 'trauma': 10, 'retract': 11, 'rrespons': 1, 'pud': 6, 'discusst': 1, 'oropharyng': 16, 'telephon': 24, 'dopoff': 1, 'video': 8, 'discus': 1, 'medial': 13, 'pateint': 2, 'wax': 6, 'asa': 32, 'skinfold': 1, 'dictat': 18, 'undergo': 19, 'engorg': 21, 'doboff': 5, 'slower': 14, 'teaspoon': 1, 'honey': 2, 'mistaken': 1, 'urethra': 2, 'pure': 10, 'faster': 13, 'anticoagul': 28, 'dobhoff': 6, 'ex': 8, 'cardiovascular': 57, 'decompenst': 1, \"^'ing\": 1, 'produc': 20, 'beta': 23, 'russian': 7, 'granddaught': 6, 'frank': 11, 'cbi': 4, 'aerosol': 20, 'percocet': 8, 'distinct': 15, 'prostat': 15, 'sup': 2, 'phersi': 1, 'intraven': 38, 'dfinit': 1, 'presept': 2, 'hepatoren': 3, 'multiplanar': 17, 'sorb': 4, 'punctat': 2, 'correspond': 9, 'fam': 7, 'pneumocac': 1, 'stronger': 6, 'paus': 5, 'meropenem': 25, 'elong': 7, 'shedul': 1, 'fsbg': 9, 'cellular': 4, 'bsk': 2, 'cue': 8, 'deoderm': 1, 'ltf': 1, 'stich': 1, 'plasmaphoresi': 1, 'ground': 32, 'host': 2, 'sequela': 4, 'humalog': 11, 'npp': 1, 'mold': 1, 'nst': 2, 'ucler': 2, 'pursestr': 1, 'peripancreat': 2, 'isolat': 1, 'minmal': 2, 'abras': 12, 'caudat': 2, 'flicker': 1, 'influenc': 4, 'overnt': 1, 'mdct': 26, 'ursdiol': 1, 'meropenum': 9, 'encephalopathi': 14, 'easier': 4, 'regul': 6, 'marrow': 4, 'vesicl': 3, 'urisodil': 1, 'sxt': 2, 'syndrom': 19, 'sclerot': 14, 'cateth': 1, 'granulomat': 4, 'lactolos': 1, 'rtrad': 2, 'similar': 58, 'bear': 9, 'ivaband': 1, 'stride': 1, 'reformat': 19, 'lytic': 19, 'hyptens': 2, 'kerlix': 5, 'rsp': 3, 'lvot': 23, 'flumazin': 1, 'pubic': 8, 'intraservic': 3, 'nailb': 8, 'unknown': 44, 'equival': 4, 'bilirubin': 20, 'timeout': 10, 'upward': 11, 'nard': 4, 'agent': 14, 'info': 17, 'explan': 13, 'abut': 6, 'sxted': 1, 'hypoecho': 2, 'cyst': 26, 'uremia': 4, 'obstacl': 1, 'rvr': 20, 'whinc': 1, 'everyday': 3, 'cavh': 1, 'presser': 2, 'subcentimet': 5, 'toxin': 8, 'alway': 9, 'griev': 9, 'pel': 7, 'inflamm': 10, 'tne': 1, 'rifaximin': 3, 'noth': 18, 'nodal': 4, 'biggest': 1, 'analyz': 7, 'acquir': 37, 'blunt': 17, 'aass': 1, 'dens': 31, 'glidewir': 5, 'approach': 24, 'remark': 8, 'lanti': 1, 'transcathet': 1, 'amplatz': 2, 'soak': 5, 'typhliti': 1, 'flumazenil': 2, 'bladder': 53, 'transjug': 1, 'preced': 11, 'rescu': 2, 'psc': 2, 'surgifoam': 2, 'maneuv': 12, 'recoveri': 21, 'downward': 15, 'sxned': 8, 'hepatopet': 8, 'gvhd': 3, 'element': 14, 'adjac': 31, 'grow': 16, 'transplant': 10, 'symphysi': 10, 'retap': 14, 'intrahepat': 4, 'urisodiol': 1, 'aml': 2, 'basic': 7, 'baracat': 2, 'wake': 41, 'nypernatremia': 1, 'dop': 6, 'constant': 11, 'viremia': 2, 'achiev': 19, 'hemostasi': 4, 'behind': 4, 'retroperiton': 14, 'mult': 17, 'formalin': 1, 'careweb': 2, 'evidenc': 6, 'gancylovir': 1, 'gland': 26, 'cobra': 2, 'semin': 3, 'ess': 4, 'pelvi': 42, 'periport': 1, 'edamat': 3, 'pharesi': 1, 'pole': 9, 'peditub': 1, 'ident': 3, 'participatori': 1, 'cholestasi': 2, 'surgicel': 4, 'psup': 3, 'midnoc': 8, 'calicif': 1, 'amio': 13, 'ni': 1, 'scv': 2, 'rrad': 1, 'prolaps': 24, 'actual': 13, 'ruq': 12, 'weeep': 1, 'constrict': 1, 'store': 2, 'transaminas': 4, 'natur': 17, 'proper': 11, 'nephrolog': 4, 'ivc': 11, 'acyclovir': 5, 'bmt': 3, '^lft': 1, 'preprocedur': 8, 'ppp': 9, 'spleen': 32, 'grasp': 2, 'silk': 6, 'neutropen': 4, 'kayexal': 5, 'pheresi': 3, 'retroperitoneum': 1, 'cellcept': 3, 'serviceclip': 2, 'pej': 2, 'core': 7, 'anyway': 4, 'unrsp': 2, 'gut': 7, 'porta': 4, 'gradient': 29, 'hepati': 3, 'lactulos': 21, 'bloodting': 3, 'cardiovert': 8, 'ganciclovir': 1, 'mvp': 17, 'fucntion': 1, 'cecum': 4, 'refe': 3, 'palpalbl': 1, 'weap': 4, 'humulog': 1, 'fusarium': 1, 'lij': 12, 'pneumococc': 1, 'byt': 2, 'calib': 18, 'acidosid': 1, 'inlet': 22, 'cook': 2, 'tini': 10, 'oligur': 14, 'folow': 3, 'coud': 1, 'nl': 22, 'ursodiol': 1, 'ptcont': 1, 'guidenc': 1, 'speciat': 9, 'tr': 32, 'broken': 11, 'transjugular': 2, 'hyper': 3, 'speaker': 4, 'mainatain': 1, 'effert': 2, 'addendium': 2, 'powder': 8, 'augment': 16, 'novasourc': 7, 'chin': 7, 'orali': 1, 'intracardiac': 4, 'hydralazin': 13, 'ldh': 43, 'alkalosi': 20, 'top': 33, 'tracheobronchi': 3, 'intrapelv': 1, 'midazolam': 39, 'hypernatrem': 3, 'merepenim': 1, 'meripenem': 1, 'wane': 3, 'thrombosi': 10, 'friday': 15, 'flexur': 5, 'pneumoperitoneum': 4, 'bal': 18, 'nova': 1, 'artifact': 37, 'atb': 4, 'cisatracurium': 6, 'seri': 12, 'erect': 10, 'halidol': 1, 'neruo': 4, 'malacia': 2, 'temporari': 7, 'chemic': 5, 'mediastinum': 42, 'instead': 9, 'yeild': 1, 'pseudomhypha': 1, 'rave': 1, 'pipo': 1, 'rust': 3, 'esent': 1, 'pillow': 10, 'asid': 5, 'miq': 1, 'retreiv': 1, 'clump': 1, 'severli': 2, 'basi': 9, 'tenaci': 12, 'spurt': 1, 'pneumomediastenum': 1, 'nabicarb': 1, 'cirrohosi': 1, 'hiccup': 3, 'territori': 13, 'sxd': 5, 'seee': 1, 'shaggi': 1, 'candidemia': 2, 'extremitiy': 3, 'subcapsular': 1, 'firmli': 2, 'lunf': 1, 'buttuck': 2, 'yeast': 20, 'catheth': 2, 'stretch': 5, 'wrong': 5, 'vitot': 1, 'compat': 22, 'worrisom': 5, 'thrombu': 20, 'supprot': 1, 'aler': 1, 'pancreat': 11, 'prder': 1, 'excurs': 8, 'ibuprofen': 3, 'narrativen': 1, 'inder': 1, 'skinn': 1, 'valsalva': 2, 'merepeum': 1, 'grayscal': 10, 'fungemia': 5, 'spc': 1, 'pulmonolog': 2, 'psupp': 1, 'neutral': 1, 'cchr': 2, 'gold': 2, 'widespread': 26, 'isuprel': 1, 'inpiratori': 1, 'spot': 10, 'qualit': 1, 'train': 6, 'satisfactorili': 4, 'bump': 14, 'cistatricurium': 1, 'bronish': 1, 'safe': 16, 'recur': 5, 'premed': 5, 'palc': 2, 'pulmasourc': 2, 'propranalol': 1, 'paramedian': 3, 'meripenum': 1, 'washin': 1, 'remaind': 29, 'grimmac': 4, 'abscess': 21, 'obt': 1, 'seedi': 1, 'manipul': 11, 'bronchogram': 11, 'poplit': 14, 'spnt': 1, 'fdg': 10, 'contiu': 3, 'tyelnol': 2, 'ween': 2, 'subdiaphragmat': 10, 'fluse': 2, 'meripenim': 1, 'bronchspast': 1, 'pose': 3, 'wether': 4, 'mucos': 10, 'televis': 1, 'muster': 1, 'posterolater': 2, 'dist': 8, 'bolt': 3, 'confluenc': 4, 'lid': 3, 'fentyn': 2, 'east': 5, 'latter': 7, 'secriton': 1, 'repsons': 3, 'medium': 8, 'shunt': 13, 'bradycardia': 24, 'hydrocephalu': 9, 'teniou': 2, 'unintellig': 2, 'consistantli': 6, 'ard': 58, 'thich': 3, 'endocard': 15, 'cholelithiasi': 14, 'paracentisi': 1, 'mic': 17, 'heterogen': 20, 'nystatin': 9, 'lge': 4, 'conitnu': 4, 'clavicl': 11, 'wer': 1, 'motrin': 3, 'vebal': 1, 'replenish': 3, 'infuss': 1, 'distribut': 24, 'hyporthermia': 1, 'paralysi': 6, 'beneath': 8, 'softer': 2, 'pulmasours': 1, 'metastat': 26, 'bu': 5, 'droop': 2, 'ettub': 3, 'echogen': 7, 'distent': 28, 'mvmt': 4, 'veget': 8, 'bud': 6, 'erron': 1, 'suddenli': 6, 'oval': 6, 'splenic': 6, 'echocardigram': 1, 'optim': 39, 'caspofungin': 4, 'gastroesophag': 16, 'paralyz': 36, 'adn': 6, 'meropenim': 1, 'copiu': 4, 'pneumomediastinum': 7, 'fentenyl': 3, 'strongli': 9, 'addend': 1, 'toller': 3, 'twitch': 9, 'intervet': 1, 'sigmoid': 17, 'schdule': 1, 'muach': 1, 'stone': 21, 'wedg': 9, 'fungu': 4, 'seven': 7, 'fc': 5, 'origin': 31, 'merepenum': 2, 'vigiou': 1, 'glass': 23, 'hydralasin': 1, 'manuev': 2, 'conintu': 2, 'cop': 6, 'receivng': 2, 'soooo': 1, 'pc': 12, 'wit': 13, 'sphenoid': 6, 'descend': 16, 'snt': 4, 'case': 28, 'paral': 2, 'barotrauma': 3, 'foramen': 6, 'stv': 2, 'hypernatremia': 11, 'oximetri': 3, 'solid': 17, 'diregard': 1, 'neutropenia': 1, 'cardaic': 2, 'mgq': 1, 'vicin': 2, 'cardiovers': 3, 'whitish': 5, 'aha': 8, 'recultur': 9, 'invol': 1, 'electr': 5, 'lingula': 7, 'ebv': 2, 'ceptim': 1, 'chap': 1, 'dimens': 5, 'mucosa': 5, 'metroprolol': 1, 'mc': 4, 'adher': 2, 'cerebro': 1, 'stalk': 1, 'prosthesi': 5, 'character': 17, 'j': 10, 'uncertain': 14, 'fluro': 2, 'azt': 1, 'annular': 18, 'prodcedur': 1, 'sunction': 1, 'alertarous': 1, 'signal': 5, 'apheres': 1, 'periton': 5, 'hydrocort': 5, 'lcw': 3, 'dynam': 4, 'reden': 2, 'edmat': 1, 'neuropenia': 1, 'materi': 21, 'eccyomot': 1, 'attemp': 3, 'flagal': 1, 'withheld': 2, 'wth': 2, 'hyperdynam': 22, 'yield': 6, 'lymphoma': 7, 'fat': 13, 'appropi': 5, 'vagin': 2, 'cardiomyopathi': 9, 'houseoffic': 6, 'injuri': 19, 'akwa': 1, 'intralumin': 9, 'reliabl': 4, 'atroph': 7, 'diverticulum': 1, 'anc': 2, 'hypertrophi': 32, 'fluconzol': 1, 'amiriodin': 1, 'strand': 9, 'sub': 11, 'degree': 1, 'winc': 3, 'alkalot': 5, 'claoric': 1, 'mp': 4, 'virgou': 1, 'megacolon': 6, 'reoccur': 3, 'difficil': 12, 'symmetr': 59, 'amriodon': 1, 'fentani': 3, 'dif': 3, 'sight': 1, 'mesenteri': 2, 'pylor': 9, 'petichia': 2, 'intraabdomin': 4, 'overwir': 1, 'ceil': 1, 'tactil': 20, 'ddimer': 1, 'cefipim': 15, 'weakli': 8, 'jejun': 2, 'degen': 23, 'individu': 3, 'irreg': 7, 'urien': 1, 'sytol': 1, 'foey': 1, 'telemeti': 1, 'flouro': 2, 'alet': 1, 'insul': 1, 'diltazem': 2, 'vagina': 1, 'celiac': 6, 'scleral': 7, 'peticha': 2, 'sphincter': 3, 'clavicular': 7, 'neutrapen': 2, 'crt': 6, 'nephrogram': 3, 'mycostatin': 4, 'chemo': 10, 'absenc': 17, 'attach': 7, 'rythmm': 2, 'postpylor': 4, 'separt': 1, 'liw': 6, 'ave': 1, 'intial': 8, 'neutopenia': 1, 'onto': 6, 'axilla': 11, 'nadir': 1, 'ambisom': 2, 'ored': 1, 'ilatori': 1, 'lorazapam': 1, 'apap': 1, 'nativ': 4, 'cystic': 8, 'notabel': 1, 'plat': 12, 'smicu': 2, 'polyp': 4, 'steristrip': 1, 'averag': 10, 'ilier': 1, 'read': 87, 'panel': 15, 'attribut': 18, 'adenopathi': 17, 'uromet': 1, 'arrhythmia': 13, 'remiain': 1, 'sacrament': 10, 'micor': 1, 'consecut': 3, 'ccx': 2, 'fagyl': 1, 'outflow': 5, 'hypodens': 21, 'xpeep': 1, 'neurtopen': 1, 'telemetri': 17, 'fluconozol': 1, 'confer': 7, 'tirtrat': 1, 'ilw': 1, 'cefepinm': 1, 'jejunum': 2, 'uup': 1, 'ouput': 2, 'yell': 8, 'rescan': 3, 'cholecystectomi': 3, 'endolumin': 1, 'flaygl': 2, 'apeci': 1, 'exampl': 6, 'cold': 11, 'pylori': 2, 'bolusof': 1, 'serosanguin': 8, 'pancutur': 1, 'normotens': 12, 'pyloru': 5, 'maintentnc': 1, 'nonion': 7, 'balm': 1, 'impact': 10, 'uac': 1, 'hydrea': 1, 'interupt': 2, 'nutropenia': 1, 'fallen': 1, 'requestiong': 1, 'conc': 4, 'baricat': 2, 'barocat': 2, 'msof': 2, 'decort': 4, 'disord': 20, 'chain': 8, 'oppos': 4, 'tme': 1, 'anasarka': 1, 'grave': 19, 'constel': 1, 'aneorb': 1, 'nonreact': 3, 'inferolater': 11, 'particular': 9, 'amyloid': 1, 'rememb': 1, 'pair': 12, 'idioventricular': 1, 'postur': 8, 'ampicillin': 6, 'chb': 4, 'bottl': 4, 'stenot': 1, 'ampi': 1, 'flaccid': 5, 'nonr': 2, 'withdrawl': 10, 'ultim': 13, 'mail': 4, 'convinc': 2, 'equip': 3, 'flu': 13, 'overid': 1, 'atelectat': 9, 'hypokalemia': 3, 'hear': 16, 'accordingli': 12, 'fryabl': 1, 'nitro': 8, 'percaut': 1, 'linen': 4, 'tachycardiac': 3, 'distess': 1, 'longstand': 4, 'nsicu': 1, 'exhibit': 9, 'batteri': 1, 'viral': 17, 'atov': 1, 'ntg': 4, 'amoung': 1, 'ontain': 1, 'bypap': 1, 'restoril': 1, 'droplet': 10, 'cardizem': 2, 'heroic': 6, 'gastrostomi': 6, 'nonrebreath': 4, 'pneumatosi': 6, 'variat': 5, 'typic': 9, 'tuck': 3, 'barium': 6, 'nonobstruct': 5, 'pseudoinfarct': 1, 'linebut': 1, 'amd': 5, 'spiromet': 3, 'crush': 13, 'nauseu': 1, 'intraperiton': 12, 'spirometri': 5, 'fax': 1, 'sleepign': 1, 'perp': 1, 'aphas': 5, 'tp': 6, 'suspicion': 17, 'supper': 1, 'palat': 4, 'penetr': 6, 'dysphagia': 9, 'undisturb': 4, 'incent': 4, 'requisit': 2, 'apetit': 1, 'lite': 1, 'flownot': 4, 'cross': 8, 'involut': 3, 'aphasia': 2, 'cu': 2, 'souc': 1, 'breather': 2, 'ate': 4, 'appl': 6, 'goe': 7, 'applesauc': 6, 'awhil': 3, 'revrs': 1, 'spillov': 3, 'pharyng': 6, 'perfor': 12, 'revers': 24, 'interrupt': 2, 'cardiopulmonari': 10, 'intailli': 1, 'flip': 2, 'sz': 5, 'applesaus': 1, 'influenza': 18, 'featur': 6, 'accesss': 1, 'speciment': 1, 'format': 8, 'phlebolith': 2, 'inv': 1, 'pathologist': 1, 'cerebr': 10, 'slip': 4, 'mri': 18, 'collabor': 6, 'necessit': 8, 'bathroom': 3, 'prod': 9, 'misplac': 2, 'pleurx': 1, 'pleuravac': 3, 'hemithorax': 32, 'pleur': 2, 'occupi': 6, 'massiv': 18, 'unsymptomat': 1, 'unproduct': 5, 'realiz': 3, 'sterilli': 1, 'absolut': 1, 'aslo': 2, 'fss': 1, 'promptli': 2, 'reappear': 3, 'kayexel': 3, 'ultra': 3, 'flall': 1, 'sooth': 1, 'sedatiooon': 1, 'candid': 16, 'adit': 1, 'aaat': 1, 'solidfi': 1, 'fatigu': 20, 'inflow': 5, 'thursday': 9, 'adament': 1, 'agian': 2, 'struggl': 6, 'toleav': 1, 'chase': 1, 'venoboot': 1, 'ref': 1, 'enema': 9, 'weigh': 2, 'misfir': 1, 'noght': 1, 'agress': 12, 'stff': 1, 'reeval': 4, 'flail': 3, 'synchron': 31, 'choic': 6, 'car': 2, 'desitin': 2, 'shnge': 1, 'papillari': 8, 'param': 1, 'wateri': 5, 'familt': 4, 'retal': 1, 'eventuallt': 1, 'topar': 1, 'mon': 34, 'fractio': 1, 'exyl': 1, 'asap': 3, 'pllacement': 1, 'colorng': 1, 'propos': 3, 'sescret': 1, 'bennzodiazpin': 1, 'incon': 2, 'myleodysplesia': 1, 'negtiv': 1, 'euvolem': 11, 'coaars': 1, 'indfus': 1, 'persistantli': 2, 'nonlabor': 1, 'anymor': 6, 'leakag': 7, 'fill': 36, 'napho': 1, 'trumpet': 6, 'overbreathin': 1, 'tick': 1, 'tachyarrythmia': 2, 'month': 23, 'somnol': 21, 'oet': 1, 'occass': 6, 'correspong': 1, 'upto': 3, 'desenex': 1, 'bialter': 1, 'ut': 1, 'kayexil': 1, 'esidu': 1, 'hypercarbia': 14, 'conjunctiva': 42, 'osteopenia': 6, 'vaccin': 7, 'ia': 2, 'choke': 6, 'kansasii': 1, 'atherosclerot': 21, 'opinion': 6, 'clarifi': 19, 'ymf': 3, 'tacchycardia': 1, 'sulfonamid': 2, 'factor': 17, 'charact': 2, 'rituxan': 1, '`': 3, 'avid': 2, 'benign': 18, 'cavern': 3, 'plaqu': 7, 'spetic': 1, 'smoker': 5, 'gerd': 15, 'cord': 4, 'percuss': 29, 'pantoprazol': 27, 'asbesto': 5, 'sedentari': 2, 'discrep': 1, 'delerium': 2, 'normocephal': 46, 'omr': 8, 'housekeep': 1, 'cognit': 6, 'tacchypn': 1, 'deplet': 12, 'tacchycard': 1, 'legionella': 29, 'rescusit': 1, 'microbiolog': 35, 'retir': 8, 'oxyfast': 1, 'hemolyt': 3, 'ppx': 27, 'noninvas': 8, 'dull': 22, 'atrophi': 11, 'narcan': 7, 'regardless': 1, 'delir': 2, 'supraclavicular': 16, 'sulfa': 4, 'ronchi': 12, 'nsclc': 4, 'nonsepecif': 1, 'vat': 4, 'outlin': 21, 'iu': 40, 'dfdkq': 2, 'penumonia': 1, 'lymphat': 22, 'nitrit': 2, 'comm': 9, 'cervic': 25, 'underw': 12, 'rrr': 32, 'lad': 8, 'asses': 2, 'resect': 9, 'pipe': 1, 'bacteria': 4, 'thorazin': 1, 'offic': 8, 'wast': 20, 'nppv': 3, 'healthcar': 10, 'deleri': 2, 'creatinin': 51, 'clinda': 5, 'sclerosi': 8, 'fludarabin': 2, 'sir': 9, 'vertebr': 13, 'hsv': 2, 'penicillin': 11, 'palliat': 5, 'contribut': 29, 'splenectomi': 3, 'sstem': 1, 'toradol': 1, 'gent': 5, 'thoroughout': 1, 'reveiw': 4, 'rad': 18, 'summari': 13, 'bridg': 10, 'ileostomi': 3, 'altern': 25, 'hosptial': 1, 'kr': 1, 'cousin': 5, 'sedimentari': 1, 'antibot': 3, 'clavian': 1, 'andrl': 1, 'criticar': 5, 'rl': 4, 'illeostomi': 1, 'neic': 4, 'icter': 6, 'ppor': 1, 'recomm': 1, 'addnedum': 1, 'nadolol': 2, 'gentamycin': 7, 'inrincreas': 1, 'azithomycin': 1, 'fentanli': 2, 'occn': 3, 'leagal': 1, 'dwi': 2, 'slugglish': 2, 'pian': 1, 'encephalomalacia': 1, 'diltiasem': 1, 'delta': 2, 'etachi': 1, 'basal': 32, 'ganglia': 6, 'slugish': 2, 'jwk': 1, 'vacuo': 1, 'centrum': 3, 'tem': 1, 'semioval': 2, 'osh': 19, 'ethmoid': 4, 'unresponsinv': 1, 'unbrocken': 1, 'mca': 4, 'trancfer': 1, 'respoms': 1, 'preiou': 1, 'orbit': 6, 'diltizam': 1, 'urgent': 7, 'parcial': 1, 'lap': 2, 'ordinari': 1, 'pcwp': 7, 'sugest': 2, 'brace': 1, 'approv': 9, 'situ': 9, 'drg': 5, 'aproppri': 1, 'inmobil': 1, 'bsd': 2, 'swan': 6, 'lacrilub': 2, 'paw': 2, 'acidemia': 5, 'csm': 4, 'hot': 4, 'amountsa': 1, 'lateer': 1, 'rep': 3, 'dto': 1, 'htc': 1, 'aggres': 2, 'orthoped': 2, 'aat': 1, 'ganz': 5, 'loosen': 6, 'applianc': 3, 'matress': 2, 'ortho': 2, 'prounounc': 1, 'oxigen': 1, 'worst': 4, 'combo': 2, 'platelett': 2, 'colectomi': 2, 'sang': 5, 'stridor': 4, 'reccent': 1, 'mgmt': 8, 'resucit': 3, 'flattu': 1, 'ci': 11, 'bronchcoscopi': 1, 'creatanin': 1, 'imobil': 1, 'tech': 5, 'collar': 6, 'occlut': 1, 'wma': 4, 'ce': 15, 'ventricuar': 1, 'pneuomonia': 1, 'broad': 36, 'amongst': 5, 'immunocompromis': 8, 'circumst': 5, 'tracheotomi': 5, 'sqh': 7, 'insult': 11, 'dimish': 6, 'lymphocytosi': 1, 'probal': 5, 'framework': 1, 'respoiratori': 1, 'shiley': 2, 'coomb': 2, 'pmi': 16, 'dentit': 12, 'palpit': 7, 'sens': 9, 'aeruginosa': 2, 'reguard': 4, 'conjunctiv': 10, 'reconsid': 3, 'numb': 7, 'pplat': 9, 'epistaxi': 8, 'midaz': 19, 'symptiom': 1, 'press': 34, 'lr': 11, 'kcal': 21, 'hematolog': 6, 'myalgia': 9, 'hydocorison': 1, 'biatrial': 2, 'gg': 2, 'action': 62, 'swivel': 1, 'willl': 2, 'transform': 2, 'meaning': 7, 'fxn': 8, 'chlorid': 42, 'dep': 3, 'hydrostat': 2, 'dimer': 5, 'themselv': 8, 'incomplet': 16, 'cvo': 3, 'hive': 2, 'florid': 1, 'fibrinogen': 23, 'lipitor': 8, 'role': 15, 'manufactur': 22, 'ibw': 3, 'input': 22, 'flora': 11, 'promotil': 1, 'captur': 7, 'unrev': 5, 'gear': 3, 'ronchor': 5, 'sooner': 5, 'orthopnea': 9, 'bayonet': 1, 'immunolog': 7, 'cuf': 5, 'bad': 6, 'kayexyl': 1, 'blurri': 8, 'acd': 3, 'diuret': 6, 'kit': 4, 'flutter': 15, 'inaccur': 3, 'loud': 17, 'intravascular': 7, 'demograph': 48, 'afterload': 5, 'hyperglycemia': 17, 'split': 8, 'daytim': 8, 'spectrum': 25, 'joint': 19, 'percept': 1, 'ckmb': 42, 'brush': 1, 'gastrointestin': 17, 'chlorhexidin': 6, 'consider': 22, 'transloc': 1, 'defici': 4, 'stock': 1, 'provision': 35, 'hydorcortison': 1, 'traumat': 6, 'subclav': 1, 'contributor': 3, 'fistula': 11, 'hemodynma': 1, 'thoracotomi': 3, 'magnesium': 29, 'abruptli': 3, 'dlnc': 1, 'spesi': 1, 'una': 2, 'pah': 1, 'kayexl': 1, 'fena': 10, 'connector': 1, 'ogtub': 3, 'guaiac': 10, 'cov': 6, 'disadvantag': 1, 'pmv': 23, 'pseudomon': 5, 'sh': 48, 'mof': 2, \"ce'\": 1, 'tropt': 37, 'hypotensiona': 1, 'subject': 30, 'ori': 2, 'ent': 6, 'abus': 14, 'maxim': 16, 'hypoxem': 26, 'preoxygen': 3, 'presist': 2, 'ckd': 6, 'club': 18, 'technician': 1, 'phosphoru': 28, 'random': 6, 'overweight': 18, 'constitut': 23, 'nourish': 24, 'iodin': 5, 'dysuria': 8, 'multifactori': 18, 'gpc': 16, 'smudg': 1, 'tco': 45, 'retrach': 1, 'proceed': 11, 'deliri': 11, 'apprear': 1, 'tubular': 9, 'thrombocytopenia': 16, 'parenter': 8, 'rout': 34, 'reson': 14, 'transfomr': 1, 'hyperreson': 6, 'avellyn': 1, 'chose': 1, 'adviso': 1, 'folat': 4, 'cll': 3, 'therapist': 10, 'fh': 48, 'empyema': 5, 'stenotrophomona': 1, 'challeng': 14, 'fuse': 2, 'dimsh': 1, 'fentand': 1, 'cyanosi': 19, 'anteriorli': 19, 'lvh': 14, 'dchf': 3, 'thyroid': 16, 'feasibl': 7, 'ardsnet': 10, 'destin': 28, 'atyp': 22, 'intravascularli': 5, 'must': 9, 'genitourinari': 14, 'ure': 3, 'across': 13, 'jctn': 1, 'search': 2, 'pertin': 41, 'suppor': 1, 'signfiic': 1, 'tingl': 7, 'ag': 17, 'deal': 7, 'leukem': 1, 'aranesp': 1, 'suicid': 8, 'iss': 13, 'kayelexal': 1, 'pfi': 37, 'headach': 13, 'fammili': 1, 'dyski': 1, 'tenti': 1, 'reposist': 1, 'occlud': 6, 'serosanquen': 1, 'agiti': 1, 'cancel': 9, 'cdi': 4, 'whenev': 2, 'carview': 1, 'rhip': 1, 'dye': 4, 'hemodyna': 1, 'taker': 2, 'dificult': 1, 'scortal': 1, 'rbsi': 1, 'redd': 1, 'caretak': 4, 'bolou': 1, 'temporarili': 4, 'wednesday': 9, 'plain': 3, 'skelet': 3, 'pneumonectomi': 4, 'commqand': 1, 'postiv': 3, 'destur': 1, 'elav': 1, 'saliva': 1, 'stimmuli': 1, 'dampenend': 1, 'pool': 7, 'percent': 3, 'development': 2, 'creatin': 3, 'undetermin': 12, 'retard': 3, 'anxou': 1, 'intermittingli': 1, 'inbetween': 2, 'mitochondri': 1, 'pusl': 1, 'blankli': 1, 'spinal': 10, 'resembl': 1, 'fixat': 2, 'wiht': 3, 'pouch': 2, 'afibril': 1, 'wheezey': 2, 'crisp': 1, 'intuabt': 2, 'occlus': 11, 'caregriv': 1, 'kyphoscoliosi': 3, 'ment': 1, 'oze': 1, 'scoliot': 1, 'bolusx': 1, 'respirat': 1, 'multidiciplanari': 1, 'increa': 4, 'secr': 2, 'scoliosi': 4, 'functio': 1, 'ostomi': 6, 'sig': 15, 'mainstem': 5, 'picclin': 2, 'repo': 3, 'reasur': 1, 'dimminish': 2, 'craem': 1, 'hypercarb': 19, 'deform': 11, 'drpped': 1, 'spine': 29, 'monit': 2, 'vasoconstrict': 6, 'cear': 1, 'sibl': 11, 'rrl': 1, 'reluct': 6, 'power': 3, 'daqi': 1, 'colostomi': 3, 'approc': 1, 'attorney': 3, 'bedridden': 1, 'atelectesi': 1, 'frighten': 1, 'phcp': 1, 'rocecet': 1, 'qs': 5, 'venco': 1, 'illeostmi': 1, 'helath': 1, 'bibasilair': 1, 'breakdonw': 1, 'booth': 1, 'nh': 14, 'gasp': 10, 'seek': 5, 'sectret': 2, 'elect': 10, 'ambien': 2, 'needi': 1, 'culmin': 1, 'outpur': 1, 'conspicu': 2, 'onward': 1, 'swab': 16, 'transthorac': 10, 'obtund': 6, 'hook': 8, 'aloc': 1, 'cytolog': 10, 'toiltet': 1, 'beefi': 1, 'recev': 3, 'sequenc': 6, 'carvu': 2, 'aox': 3, 'susequ': 1, 'uprb': 1, 'tox': 5, 'paperwork': 2, 'displac': 6, 'opt': 3, 'vf': 2, 'rapidli': 16, 'eu': 2, 'vasopessor': 1, 'nipv': 1, 'largest': 7, 'harsh': 1, 'workier': 1, 'smapl': 1, 'retro': 1, 'nrbmfor': 1, 'cholang': 2, 'inutabt': 1, 'peritrach': 1, 'insur': 11, 'dosag': 5, 'colour': 5, 'fludrocort': 1, 'tran': 11, 'hypoexemia': 1, 'consistanli': 1, 'coron': 23, 'apt': 1, 'inotor': 1, 'maximun': 2, 'inguin': 9, 'elicit': 4, 'revea': 1, 'vip': 2, 'outgrowth': 1, 'mo': 4, 'sternotomi': 13, 'gall': 3, 'dat': 1, 'toelrat': 2, 'fluiid': 1, 'esophag': 25, 'scali': 1, 'hight': 1, 'coexist': 3, 'succ': 4, 'forward': 15, 'vestra': 1, 'noncontrast': 9, 'prevascular': 8, 'actu': 1, 'sic': 1, 'cannt': 1, 'enthesopath': 1, 'hida': 4, 'hypobowel': 1, 'phenylepherin': 1, 'reconstruct': 7, 'hav': 1, 'hack': 1, 'osteophytosi': 1, 'svr': 4, 'subcarin': 10, 'dig': 6, 'pelvic': 17, 'broaden': 13, 'respi': 2, 'pyret': 1, 'median': 6, 'noontim': 3, 'sagitt': 22, 'anaplast': 1, 'anatom': 7, 'textur': 5, 'careveu': 1, 'barrium': 1, 'intrathorac': 9, 'etonom': 1, 'realist': 6, 'durat': 17, 'analysi': 19, 'granuloma': 4, 'exacerb': 18, 'contra': 1, 'creon': 1, 'resless': 1, 'presenst': 1, 'divis': 3, 'zyprexa': 4, 'wallet': 17, 'hematocrit': 36, 'thallium': 1, 'llq': 4, 'sling': 1, 'headneg': 1, 'sate': 11, 'delirium': 16, 'hcap': 9, 'lit': 6, 'flash': 11, 'comaprison': 1, 'intermediu': 3, 'spiriva': 2, 'contributori': 4, 'ppm': 6, 'advair': 3, 'jxrl': 2, 'aortobiiliac': 1, 'cardiomedi': 1, 'diovan': 2, 'moreov': 3, 'jewelri': 18, 'asymptommat': 1, 'citalopram': 4, 'ramu': 2, 'jekh': 1, 'paroxysm': 3, 'singulair': 1, 'echymot': 2, 'forgetful': 1, 'wct': 1, 'humeru': 3, 'asthma': 4, 'money': 18, 'acheiv': 2, 'yom': 6, 'hypoxemia': 38, 'polycyst': 2, 'nasopharynx': 2, 'cigarett': 1, 'cloth': 19, 'aricept': 6, 'demostr': 1, 'credit': 19, 'paf': 3, 'nwb': 1, 'avf': 11, 'sevalam': 1, 'humer': 3, 'discret': 6, 'onlin': 1, 'signatur': 19, 'cct': 2, 'cash': 18, 'lisinopril': 8, 'innumer': 4, 'tortuos': 2, 'variant': 8, 'truli': 3, 'asssist': 2, 'crackel': 1, 'mobilizi': 1, 'cisatracuriun': 1, 'calcul': 5, 'overngiht': 1, 'flolan': 2, 'hickman': 2, 'dlpic': 1, 'milliamp': 1, 'unreli': 4, 'argatroban': 3, 'swanganz': 2, 'con': 8, 'fick': 3, 'cost': 2, 'imposs': 4, 'millivolt': 1, 'slate': 1, 'nobodi': 1, 'ulnar': 2, 'rsr': 5, 'hemmorrag': 1, 'svo': 8, 'acetaminophen': 12, 'taler': 1, 'onvernight': 1, 'earlob': 2, 'ramp': 2, 'adv': 4, 'viagra': 1, 'irrevers': 4, 'lunchtim': 1, 'vigil': 4, 'aliv': 5, 'raw': 3, 'hemoptysi': 10, 'cco': 2, 'sclerodactyl': 1, 'mgiv': 2, 'floa': 1, 'nausa': 1, 'buck': 4, 'loperamid': 1, 'swann': 1, 'exactli': 1, 'assid': 1, 'quantiti': 3, 'de': 8, 'tof': 3, 'optimum': 1, 'anxious': 1, 'gingeral': 1, 'eet': 1, 'affix': 1, 'creep': 4, 'certainli': 19, 'grappel': 1, 'diladid': 1, 'pharmacolog': 5, 'transduc': 4, 'distennd': 1, 'corti': 2, 'play': 5, 'pvr': 4, 'slh': 1, 'tvol': 1, 'floflan': 1, 'guaic': 7, 'expecter': 1, 'gastrocult': 1, 'sucess': 2, 'excret': 5, 'nanogram': 1, 'lowest': 5, 'alvealor': 1, 'itch': 4, 'ceftazdim': 1, 'paramont': 1, 'remedi': 1, 'hemostat': 3, 'erythemat': 5, 'straighten': 2, 'wbcc': 2, 'prec': 1, 'univ': 3, 'brachial': 20, 'adeq': 10, 'aztreonam': 5, 'aztronem': 1, 'antecubit': 3, 'parallel': 2, 'travers': 6, 'aztreonem': 1, 'inforc': 2, 'chill': 7, 'straw': 9, 'yello': 1, 'antrum': 7, 'trunk': 4, 'packet': 3, 'derecruit': 5, 'wnr': 2, 'wil': 4, 'loger': 1, 'settong': 1, 'sunday': 5, 'regiment': 3, 'disconect': 1, 'accumul': 6, 'expand': 13, 'paratrach': 8, 'neutra': 5, 'cutur': 1, 'lucon': 1, 'aprrox': 1, 'peribronchi': 3, 'plaec': 1, 'evacu': 3, 'comprehens': 3, 'aortopulmon': 1, 'pancultur': 7, 'stripe': 1, 'lun': 1, 'phosphat': 21, 'becasu': 1, 'capillari': 4, 'pogt': 1, 'dissemin': 3, 'nuse': 1, 'leftward': 9, 'gyy': 1, 'sctl': 1, 'firn': 1, 'crepitu': 7, 'ovisit': 1, 'hte': 1, 'ccc': 6, 'drainig': 2, 'pharmaci': 11, 'nonpapular': 1, 'ressusit': 1, 'reaccumul': 8, 'cfm': 1, 'hoh': 4, \"huo'\": 1, 'ivx': 1, 'remind': 8, 'agreeabl': 4, 'spit': 2, 'vacat': 2, 'huo': 4, 'anyon': 2, 'arrythmia': 4, 'orthodrom': 1, 'psvt': 1, 'pulmunari': 1, 'entrant': 1, 'maex': 1, 'arhythmia': 1, 'marjor': 1, 'betw': 1, 'bsx': 2, 'maint': 10, 'ampul': 1, 'announc': 1, 'admittedto': 1, 'duti': 1, 'npa': 1, 'repolar': 8, 'substern': 2, 'handl': 4, 'bonchodil': 1, 'conray': 2, 'volumin': 1, 'intestin': 8, 'coat': 3, 'yset': 1, 'interactiv': 1, 'yellowish': 5, 'duodenum': 9, 'incsec': 1, 'attmept': 1, 'lenght': 1, 'attain': 4, 'ssc': 1, 'pave': 1, 'weam': 1, 'oropharnx': 2, 'indicatedat': 1, 'nemb': 1, 'partli': 9, 'vace': 1, 'dubbhoff': 1, 'enzim': 1, 'aever': 1, 'peristalsi': 1, 'microneb': 1, 'permit': 3, 'paraspin': 2, 'elsewher': 2, 'antral': 2, 'attemtp': 3, 'hematur': 1, 'nebx': 1, 'peni': 3, 'hoff': 1, 'plmt': 2, 'isordil': 2, 'passag': 2, 'cluster': 8, 'vertic': 4, 'snake': 1, 'pro': 5, 'consistac': 1, 'assur': 8, 'yankuar': 1, 'rous': 3, 'oinment': 1, 'orogastrc': 1, 'creami': 6, 'bronchopulomari': 1, 'linezloid': 1, 'clearsecret': 1, 'cong': 2, 'burnt': 1, 'outpati': 17, 'coher': 1, 'perman': 3, 'recycl': 2, 'perc': 6, 'inabl': 23, 'vocal': 6, 'clammi': 5, 'cva': 16, 'linezolid': 7, 'tirat': 1, 'oout': 1, 'lag': 2, 'tracheal': 10, 'verif': 1, 'nervou': 2, 'sesatur': 1, \"pvc'\": 1, 'afebrel': 1, 'thinnish': 1, 'epsiod': 3, 'gastroduoden': 1, 'restain': 1, 'wetter': 1, 'nasotrach': 3, 'spray': 5, 'sligthli': 1, 'probmot': 1, 'flouroscopi': 1, 'smoothli': 1, 'bvmr': 1, 'prong': 4, 'nrbfm': 2, 'omber': 1, 'effectof': 1, 'dulcalox': 1, 'radiat': 14, 'hole': 9, 'redistribut': 7, 'anim': 3, 'joke': 1, 'advoc': 3, 'db': 8, 'honor': 1, 'conditon': 1, 'recept': 2, 'reinforc': 6, 'holiday': 4, 'mere': 2, 'earil': 1, 'anox': 3, 'abrupt': 4, \"rec'\": 6, 'repsond': 2, 'asytol': 3, 'ineffectu': 2, 'respitatori': 1, 'distraught': 2, 'eyelid': 4, 'orthodox': 2, 'anoxia': 2, 'toungu': 1, 'ration': 3, 'pta': 8, 'neosenephrin': 1, 'religi': 3, 'nsw': 1, 'belief': 2, 'button': 3, '^peep': 2, 'solarium': 1, 'indepth': 1, 'boarder': 1, 'abn': 1, 'collap': 2, 'autism': 1, 'pulsatil': 2, 'increment': 3, 'peerl': 1, 'lean': 4, 'parent': 4, \"sx'ing\": 3, 'someon': 4, 'eveninng': 1, 'grunt': 2, 'experi': 10, 'orophanyng': 1, 'sibil': 1, 'dignifi': 1, 'posey': 2, 'belt': 1, 'nb': 2, 'taa': 1, 'print': 1, 'oper': 8, 'pem': 1, 'op': 8, 'unresolv': 2, 'dob': 1, 'stab': 1, 'automat': 2, 'fibroid': 2, 'adnexa': 3, 'endometrium': 1, 'obstetr': 1, 'endometri': 2, 'aneurysm': 8, 'bulg': 1, 'uteru': 6, 'endovagin': 1, 'sugic': 1, 'dur': 1, 'varrifi': 1, 'adendum': 2, 'cista': 1, 'famil': 4, 'inexplic': 1, 'facemask': 7, 'varri': 1, 'bibap': 1, 'physican': 2, 'ansesthesia': 1, 'cisatracrium': 1, 'backsid': 2, 'respitori': 4, 'intiti': 1, 'deeper': 2, 'lbr': 1, 'avss': 1, 'prupos': 1, 'adminst': 1, 'ziprasidon': 1, 'ditiazem': 1, 'somnul': 3, 'aplli': 2, 'mom': 5, 'btw': 3, 'indweel': 1, 'scater': 1, 'tanish': 3, 'lcan': 1, 'analgesia': 6, 'myeloma': 4, 'abomin': 1, 'sv': 2, 'cephal': 9, 'yesterda': 2, 'generalis': 2, 'whose': 5, 'imbal': 4, 'occaision': 4, 'plethora': 2, 'inadequ': 12, 'repiratori': 2, 'microdata': 1, 'sucton': 1, 'recumb': 2, 'valproic': 2, 'cirul': 1, 'abaras': 1, 'glenohumer': 2, 'lha': 1, 'cardiopulm': 2, 'calor': 2, 'awaitng': 2, 'dyspnoic': 1, 'physio': 2, 'profus': 3, 'obstr': 2, 'geodon': 1, 'dire': 1, 'sem': 7, 'prop': 4, 'multidisciplinari': 9, 'declar': 7, 'coli': 4, 'display': 11, 'resu': 3, 'ciprofloxacin': 13, 'obviat': 1, 'adhes': 5, 'referr': 14, 'onu': 1, 'sesi': 1, 'neighbor': 2, 'neob': 4, 'oft': 1, 'manifest': 6, 'extraordinari': 2, 'intoler': 24, 'shfit': 1, 'wcc': 1, 'repair': 9, 'cast': 7, 'sole': 2, 'sbo': 7, 'incision': 1, 'nephrotox': 1, 'rdf': 1, 'dysnchronu': 1, 'understood': 5, 'repleat': 8, 'dismal': 2, 'dorsal': 6, 'feurea': 5, 'mgting': 1, 'ascul': 1, 'incarcer': 2, 'simplifi': 1, 'flood': 1, 'ventral': 1, 'muddi': 4, 'carri': 5, 'persuad': 1, 'adam': 3, 'intussuscept': 2, 'symptommat': 1, 'gutter': 5, 'proctiti': 1, 'paracol': 4, 'implic': 7, 'traction': 2, 'mlhh': 1, 'perihepat': 5, 'interpolar': 3, 'txpb': 2, 'tee': 11, 'tachomyopathi': 1, 'accordion': 1, 'subcost': 1, 'biventricular': 7, 'prune': 2, 'milk': 3, 'aberr': 2, 'valvular': 10, 'extralumin': 3, 'reticul': 3, 'precarin': 3, 'intermedi': 4, 'helic': 8, 'anastomosi': 2, 'bronchiectasi': 7, 'annulu': 4, 'prox': 1, 'transesophag': 3, 'honeycomb': 2, 'echocardiographi': 3, 'paraaort': 4, 'mesenter': 15, 'lymphoprolif': 1, 'multilevel': 6, 'clostridium': 5, 'aortopulmonari': 2, 'splenul': 3, 'hemicolectomi': 2, 'subpleur': 6, 'ileocolon': 1, 'canal': 3, 'hyperdens': 8, 'transvers': 7, 'sacroiliac': 2, \"'sundown\": 1, 'slowley': 1, 'awil': 1, 'hyperchol': 1, 'slightl': 1, 'strategi': 3, 'statement': 1, 'deflect': 3, 'hospitil': 1, 'upt': 2, 'duoguard': 1, \"piv'\": 1, 'aao': 5, 'ronchoru': 1, 'vasculatur': 12, 'unbroken': 4, 'od': 5, 'gun': 1, 'bnp': 9, 'dayshift': 3, 'god': 1, 'witch': 1, 'piperacillin': 36, 'maxillari': 7, 'illicit': 3, 'epiglott': 3, 'subarachnoid': 1, 'explainig': 1, 'pali': 2, 'pleasantli': 1, 'psychiatri': 2, 'laser': 1, 'tranfer': 1, 'moisten': 3, 'hose': 1, 'vna': 7, 'explor': 3, \"po'\": 2, 'rtn': 1, 'produst': 1, 'ambul': 6, 'silent': 2, 'metopolol': 1, '\\x13pt': 1, 'swollow': 1, 'kill': 3, 'fetanyl': 2, 'drwn': 1, 'diflucan': 4, 'conctact': 1, 'tub': 1, 'simethicon': 3, 'resend': 4, 'sete': 1, 'bibpap': 2, 'orogastr': 13, 'lobectomi': 5, 'hila': 4, 'outcv': 1, 'morin': 1, 'thrust': 1, 'perhap': 15, 'repsir': 2, 'scare': 4, 'guaz': 1, 'propfol': 2, 'integu': 3, 'immediatli': 1, 'rhonchou': 2, 'notitifi': 1, 'tb': 5, 'insist': 3, 'tab': 9, 'levoflaxacin': 1, 'mulleri': 1, 'grew': 6, 'relay': 4, 'agigt': 1, 'bp^': 1, 'remanin': 1, 'disagre': 1, 'entireti': 2, 'arway': 1, 'cocyx': 2, 'requr': 4, 'abil': 16, 'interest': 13, 'eccessori': 1, 'skincar': 2, 'tachycarid': 1, 'pngt': 4, 'strep': 4, 'sharpli': 3, 'heliox': 4, 'biapic': 3, \"cc'sfor\": 1, 'svn': 1, 'racem': 1, 'veg': 2, 'leni': 8, 'hyoptens': 1, 'plafond': 1, 'hepatosplenomegali': 1, 'illeu': 3, 'sfyb': 1, 'osteolyt': 4, 'triphas': 1, 'lesser': 6, 'hydralain': 1, 'fsg': 3, 'circumferenti': 2, 'amlodipin': 5, 'circumscrib': 1, 'cellul': 2, 'nephrocap': 1, 'fsgn': 1, 'anerysm': 1, 'vege': 1, 'veloc': 7, 'embolu': 12, 'tbili': 3, 'csurg': 1, 'tibial': 9, 'suppl': 13, 'erythema': 7, 'harrt': 2, 'abi': 1, 'qhd': 1, 'dehiss': 1, 'monophas': 1, 'dorsum': 1, 'decompress': 7, 'cinacalcet': 1, 'regurg': 6, 'bioprosthet': 2, 'ao': 2, 'soleu': 1, 'adat': 2, 'serolog': 2, 'bmi': 10, 'avr': 6, 'osteoarthr': 4, 'deem': 4, 'tibiotalar': 1, 'tyelenol': 1, 'asciti': 4, 'specium': 1, 'ln': 3, 'guiaic': 4, 'mmp': 2, 'hcv': 6, 'carbon': 8, 'mycot': 1, 'reform': 12, 'immunosuppress': 4, 'mssa': 5, 'suspician': 2, 'synergi': 1, 'tu': 1, 'cxwc': 4, 'throb': 1, 'imping': 2, 'myositi': 1, 'multidetector': 9, 'jvd': 10, 'heb': 1, 'osteo': 2, 'supsect': 1, 'endors': 3, 'musculatur': 2, 'lbp': 1, 'futil': 4, 'echodens': 1, 'ht': 3, 'commod': 4, 'haart': 4, 'narrow': 18, 'ring': 6, 'articular': 1, 'subchondr': 2, 'cachect': 3, 'quietli': 1, 'foreign': 4, 'hyperparathyroid': 3, 'ankl': 10, 'vegit': 2, 'tazobactam': 28, 'trochant': 1, 'hbv': 1, 'dilauidid': 1, 'metatars': 1, 'emboli': 7, 'splenomegali': 3, 'thrill': 2, 'nephropathi': 3, 'hopsic': 1, 'malnutrit': 15, 'prosthet': 2, 'embol': 19, 'macrovascular': 1, 'sevelam': 1, 'favor': 12, 'tendernss': 1, 'emper': 3, 'kal': 1, 'hsq': 1, 'methadon': 5, 'lifestyl': 1, 'pve': 1, 'rock': 1, 'nerv': 7, 'candidaci': 2, 'osteoblast': 3, 'antihypertens': 9, 'admisison': 1, 'ginger': 1, 'flexor': 1, 'bruit': 5, 'contigu': 16, 'viridan': 1, 'ucx': 14, 'rim': 2, 'surveil': 5, 'dehisc': 3, 'ale': 1, 'ersd': 1, 'entub': 1, 'urosepsi': 5, 'cardimeg': 1, 'roughli': 5, 'clearifi': 1, 'venti': 1, 'gelfoam': 1, 'agonol': 1, 'glucomet': 2, 'cml': 1, 'tamer': 1, 'bisacodyl': 8, 'dialzi': 1, 'brachiocephal': 17, 'aros': 2, 'pretrach': 5, 'coxxyx': 1, 'tcl': 1, 'vertex': 5, 'currentl': 3, 'rp': 2, 'dietari': 1, 'dudoderm': 1, 'steadi': 5, 'bronchscopi': 1, 'vista': 2, 'asysol': 1, 'norvsasc': 1, 'dimin': 2, 'perpl': 1, 'continun': 1, 'hydroxyea': 1, 'lsubclavian': 1, 'perisplen': 3, 'wegner': 1, 'prismat': 1, 'xx': 1, 'parament': 1, 'serum': 19, 'avblock': 1, 'reso': 1, 'hiflo': 2, 'velcro': 1, 'ectat': 1, 'pericol': 1, 'csf': 3, 'sauc': 4, 'stimilu': 1, 'perpendicular': 1, 'nimv': 4, 'skull': 7, 'diverticulosi': 4, 'toleart': 2, 'cerebellar': 4, 'thalamu': 1, 'blastic': 8, 'diverticul': 4, 'standbi': 5, 'coverd': 1, 'lucenc': 11, 'cortic': 7, 'cmml': 1, 'cepetim': 1, 'thk': 1, 'wegen': 1, 'leukemia': 4, 'catheter': 2, 'signifc': 2, 'pluggi': 2, 'agb': 2, 'reinstitut': 2, 'preliminarili': 3, 'deciscion': 1, 'chage': 2, 'mechaniclli': 1, '^^rr': 2, 'nted': 1, 'peopl': 5, 'angiopathi': 1, 'remot': 4, 'insens': 4, \"mod't\": 1, 'volulm': 1, 'suspend': 2, 'adenoca': 1, 'ttube': 1, 'esp': 11, 'fli': 5, 'rose': 5, 'ocmmand': 1, 'ry': 1, 'paravertebr': 2, 'laparotomi': 1, 'hemocult': 1, 'exploratori': 1, 'copoiu': 1, 'fleck': 1, 'misc': 1, 'onthi': 2, 'trophic': 2, 'beig': 2, 'noi': 1, 'cchour': 1, 'diffficult': 1, 'chagn': 1, 'misshapen': 1, 'hed': 1, 'ace': 9, 'redirect': 2, 'aforement': 2, 'sched': 2, 'nli': 1, 'cholesterol': 2, 'rhytham': 1, 'rhochor': 3, 'clonazapam': 1, 'reclin': 1, 'hydral': 5, 'cereal': 1, 'calori': 16, 'fed': 3, 'nonsens': 2, 'abdoment': 1, 'megac': 1, 'dinner': 5, 'zoysn': 3, 'humid': 2, 'omelett': 1, 'plerual': 3, 'inhibitor': 5, 'est': 3, 'perifer': 1, 'tepid': 2, 'asympt': 1, 'thormbu': 1, 'hotel': 2, 'requirinf': 1, 'ceftazidim': 4, \"'sst\": 1, 'reqir': 1, 'appopri': 1, 'flacid': 3, 'perirect': 2, 'conjuct': 1, 'howevet': 1, 'yhesterday': 1, 'vese': 2, 'ventiltori': 1, 'consentr': 1, 'ys': 1, 'ceftriax': 1, '^wbc': 1, 'eccymosi': 2, 'church': 1, 'profilax': 1, 'boy': 1, 'boyfriend': 1, 'ofr': 1, 'responc': 2, 'diaphoresi': 2, 'multivessel': 2, 'kilo': 1, 'rnoc': 1, 'isnp': 1, 'prophalact': 1, 'wehen': 1, 'rouseabl': 1, 'sydron': 1, 'suppos': 6, 'dobuta': 2, 'school': 2, 'toenail': 2, 'taketsubo': 1, 'humolog': 1, 'htd': 1, 'vasporessin': 1, 'phenytoin': 2, 'lpew': 1, 'decret': 1, 'dilantin': 4, 'oliguria': 7, 'pinsp': 2, 'lovenox': 4, 'anasrca': 1, 'esoph': 4, 'orallli': 1, 'zoysyn': 1, 'unrealist': 2, 'parametr': 1, 'dysynchron': 9, 'intermittint': 1, 'craniotomi': 2, 'rescuscit': 2, 'redress': 4, 'duoden': 4, 'anascara': 2, 'classif': 1, 'rigor': 1, 'tma': 1, 'manoeuv': 1, 'prioriti': 11, 'insid': 4, 'flextub': 1, 'sluggishli': 6, 'spare': 12, 'forth': 5, 'snx': 5, 'oygen': 1, 'pmn': 15, 'holosyst': 2, 'nasaotrach': 1, 'conserv': 4, 'spill': 1, 'email': 6, 'acoust': 6, 'bronchiti': 4, 'motor': 5, 'retri': 4, 'systolicali': 1, 'fluent': 3, 'disorient': 2, 'labial': 2, 'secretin': 1, 'arestraint': 1, 'hld': 1, 'blous': 6, 'ctx': 3, 'cipso': 1, 'dyston': 2, 'tob': 2, 'suspiciion': 1, 'ramya': 2, 'mastic': 2, 'cautious': 1, 'pivx': 1, 'couas': 1, 'parathyroid': 1, 'whiteout': 1, 'context': 8, 'propafol': 5, 'trand': 1, 'levothyroxin': 5, 'unplan': 3, 'rebronch': 1, 'calmer': 1, 'benefif': 1, 'labatolol': 1, 'dial': 2, 'rhythmic': 1, 'viscou': 1, 'rlsb': 1, 'doxercalciferol': 1, 'bisbi': 1, 'binder': 5, 'seat': 5, 'slp': 7, 'besid': 4, 'lingual': 3, 'phosphor': 1, 'reattempt': 4, 'endobronchi': 4, 'gfr': 4, 'etio': 1, 'engag': 3, 'attg': 2, 'clonic': 1, 'buccal': 2, 'oa': 1, 'hgb': 21, 'claim': 15, 'bedsight': 1, 'share': 7, 'hemodynamicli': 1, 'azithro': 8, 'gestur': 4, 'foi': 2, 'establish': 11, 'epitheli': 11, 'workup': 10, 'cup': 1, 'labetolol': 2, 'protrus': 1, 'mmv': 5, 'lighten': 11, 'certain': 2, 'dentur': 5, 'tetracyclin': 2, 'tsp': 4, 'py': 1, 'cpcp': 2, 'occurr': 3, 'consequ': 7, 'threshold': 10, 'aphonia': 1, 'aaa': 3, 'facet': 2, 'unwil': 2, 'labetalol': 2, 'apici': 1, 'reexpand': 1, 'unmetabol': 1, 'risbi': 3, 'intellig': 1, 'holosystol': 1, 'outstand': 1, 'relev': 27, 'hypothyroid': 11, 'pallait': 1, 'ctab': 7, 'trazadon': 3, 'reproduc': 1, 'underestim': 6, 'mucin': 1, 'inappropri': 6, 'stabli': 3, 'mouthcar': 5, 'shadow': 8, 'narc': 2, 'extubat': 2, 'phlegm': 1, 'strict': 7, 'inspiratori': 19, 'furosemid': 18, 'suffici': 9, 'edentul': 2, 'thirsti': 2, 'dwindl': 2, 'fluoroquinolon': 1, 'clonu': 5, 'crf': 4, 'tia': 2, 'reticular': 10, 'arthroplasti': 3, 'hyxpoxia': 1, 'intramur': 1, 'microbubbl': 2, 'transaort': 2, 'submit': 8, 'distens': 10, 'instrument': 2, 'recon': 10, 'bore': 5, 'scleroderma': 1, 'boop': 4, 'version': 7, 'pfo': 7, 'lumbar': 12, 'uid': 1, 'proven': 1, 'uip': 1, 'construct': 2, 'dysmotil': 2, 'reflux': 6, 'destruct': 4, 'usip': 1, 'congenit': 3, 'cerebrovascular': 2, 'collagen': 1, 'transplan': 1, 'ipf': 12, 'furthermor': 2, 'sedement': 1, 'tapper': 2, 'curtain': 1, 'spastic': 1, 'cheeck': 1, 'increasd': 2, 'debat': 2, 'rhythym': 1, 'hallucin': 3, 'pullback': 1, 'goodby': 7, 'claustrophobia': 1, 'incred': 1, 'nitrat': 2, 'claustrophob': 1, 'maitain': 2, 'initiali': 2, 'perf': 4, 'polit': 1, 'revisit': 4, 'achill': 1, 'degress': 1, 'frequ': 2, 'chanag': 1, 'idiopath': 4, \"sx'ng\": 2, 'bleb': 2, 'teradyn': 1, 'ioc': 1, 'tramua': 1, 'ccn': 4, 'repost': 1, 'heavili': 5, 'setti': 1, 'deepli': 2, 'oxa': 2, 'collaber': 1, 'firmer': 2, 'pf': 3, 'secreiton': 2, 'big': 8, 'aova': 2, 'rhoncor': 5, 'brn': 2, 'hygen': 2, 'rhonchour': 2, 'cataract': 5, 'tten': 1, 'alsdo': 1, 'rap': 1, 'redos': 4, 'osteoarthrit': 1, 'curvilinear': 2, 'unsuit': 1, 'cavum': 1, 'pateitn': 1, 'wih': 1, 'unopacifi': 1, 'meatu': 5, 'norvasc': 2, 'irrigatioin': 1, 'preceed': 1, 'fic': 1, 'eitiolog': 1, 'hyperkalem': 3, 'mattess': 1, 'beginni': 1, 'fasicul': 1, 'balalnc': 1, 'twave': 2, 'beginnng': 1, 'resit': 9, 'pleasa': 1, 'vre': 6, 'adden': 1, 'stg': 4, 'eventaulli': 1, 'withdrew': 3, 'appov': 1, 'receeiv': 1, 'thalam': 1, 'notif': 5, 'urolog': 4, 'rc': 1, 'pellucidum': 1, 'flank': 8, 'verga': 1, 'trendelenberg': 2, 'un': 3, 'allerg': 3, 'pararen': 2, 'invert': 1, 'drng': 3, 'levofloxin': 3, 'worsend': 2, 'allevi': 5, 'ppf': 1, 'asbestosi': 1, 'iwth': 1, 'absorpt': 5, 'atheroma': 3, 'romi': 1, 'atalectasi': 2, 'adnex': 1, 'appendix': 4, 'hemiparasi': 1, 'muffl': 1, 'stair': 3, 'lp': 5, 'infxn': 2, 'doubt': 9, 'gonad': 1, 'indetermin': 12, 'usoh': 3, 'drew': 1, 'nsaid': 2, 'sma': 3, 'cor': 4, 'assoc': 4, 'rhinorrhea': 1, 'unresponsiv': 1, 'ingest': 3, 'thr': 1, 'disloc': 4, 'align': 2, 'tsh': 7, 'mmm': 10, 'cement': 1, 'egd': 7, 'seroquel': 2, 'groan': 2, 'rm': 1, 'yof': 5, 'menopaus': 1, 'hemiparesi': 3, 'imi': 1, 'downgo': 1, 'requier': 2, 'qt': 3, 'gb': 5, 'scopalamin': 4, 'antimicrobi': 11, 'hsm': 8, 'detrol': 2, 'lenticulostri': 1, 'hemiarthroplasti': 1, 'ecchymos': 5, 'lbbb': 2, 'heterotop': 2, 'orif': 2, 'mening': 6, 'qh': 6, 'varic': 7, 'arrous': 3, 'unarous': 4, 'plantar': 1, 'electrocauderi': 1, 'contractur': 1, 'underway': 3, 'flexacil': 1, 'zocyn': 2, 'escol': 1, 'uppon': 1, 'pendn': 1, 'therapeuitc': 1, 'tobromycin': 1, 'guardianship': 2, 'transf': 1, 'miltipl': 2, 'uit': 1, 'vaso': 3, 'cotn': 1, 'ovb': 2, 'befriend': 1, 'paraplegia': 1, 'surrog': 2, 'program': 7, 'comand': 2, 'doputamin': 1, 'dssg': 1, 'tobro': 1, 'offici': 7, 'vasopresin': 2, 'pupl': 2, 'unbal': 1, 'monitoirng': 1, 'cllose': 1, 'uint': 1, 'bicar': 1, 'vasoppresin': 1, 'tobra': 5, 'lvel': 1, 'thta': 2, 'lyphanget': 1, 'magnet': 2, 'plot': 2, 'infra': 1, 'bless': 3, 'zocor': 2, 'fentayl': 3, 'migrat': 6, 'protinx': 1, 'formula': 9, 'sclc': 1, 'smx': 7, 'enorm': 1, 'retent': 7, 'holder': 2, 'bee': 8, 'denial': 2, 'allopurinol': 6, 'nab': 5, 'ringworm': 1, 'gola': 1, 'lipidemia': 1, 'digoxin': 9, 'rectobulbar': 1, 'clarif': 5, 'effectivli': 1, 'love': 4, 'oliguricb': 1, 'stepson': 1, 'droppedfrom': 1, 'interdisciplinari': 14, 'mth': 2, 'newest': 1, 'icd': 5, 'presumpt': 3, 'harm': 6, 'auto': 7, 'sclca': 1, 'hemorrag': 1, 'hemodynim': 16, 'annoint': 1, 'exfoli': 1, 'tmp': 8, 'ignor': 1, 'gout': 6, 'galactomannan': 7, 'calc': 20, 'portacath': 4, 'wgt': 17, 'glucan': 8, 'vtachi': 2, 'peteci': 1, 'dissect': 6, 'rheumatoid': 4, 'sedtat': 2, 'celexa': 2, 'rite': 4, 'writer': 2, 'score': 5, 'xrt': 7, 'conveni': 1, 'petechia': 7, 'arthriti': 6, 'levofoxacin': 1, 'fing': 1, 'alkalin': 15, 'elderi': 1, 'kind': 1, 'excess': 11, 'articl': 2, 'hilum': 2, 'transud': 6, 'thoracetesi': 1, 'cracker': 1, \"'abl\": 1, 'puffer': 1, 'lla': 1, 'postsurg': 2, 'lefloxin': 1, 'dilut': 4, \"pt'scode\": 1, 'frop': 1, 'propopfol': 1, 'lawyer': 2, 'whne': 2, 'bend': 2, 'speciman': 1, 'thouhg': 1, 'mulitsystem': 1, 'trnasport': 1, 'rewuir': 1, 'diltizem': 1, 'fatti': 1, 'eechymot': 1, 'retrocrur': 1, 'zithromax': 1, 'stoic': 1, 'aneursym': 1, 'ceftrix': 1, 'diaphragmat': 4, 'manner': 4, 'hydroneprosi': 1, 'acuta': 1, 'cult': 8, 'ectasia': 1, 'doen': 3, 'cecal': 1, 'vd': 1, 'bifurc': 2, 'lipoma': 1, 'tortous': 1, 'predomiantli': 1, 'diapragmat': 1, 'thorocolumbar': 1, 'privaci': 2, 'vistit': 1, 'icechip': 1, 'tobramycin': 3, 'network': 1, 'remian': 5, 'lral': 1, 'inceas': 1, 'wquickli': 1, 'succinocholynin': 1, 'widen': 15, 'eyebrow': 2, 'interfac': 1, 'plasmaforesi': 1, 'cat': 6, 'rsstraint': 1, 'tympan': 3, 'zantac': 1, 'reactiven': 1, 'hemetolog': 1, 'calvarium': 3, 'act': 12, 'gvien': 2, 'amniodaron': 2, 'amniodoron': 1, 'fifth': 3, 'furhter': 3, 'plasmapheresi': 1, 'benigh': 1, 'amirion': 1, 'procan': 1, 'ser': 1, 'hemobilia': 1, 'thoracoabdomin': 2, 'siezur': 2, 'derterior': 1, 'browni': 1, 'oversed': 1, 'vicari': 2, 'fosphenytoin': 1, 'mard': 1, 'aystol': 1, 'wise': 5, 'supra': 7, 'midlung': 1, 'suscept': 3, 'enrout': 2, 'blod': 2, 'rlower': 1, 'dialntin': 1, 'retart': 1, 'verapmil': 1, 'reconsult': 5, 'verapimil': 1, 'pearla': 2, 'miantain': 1, 'frig': 1, 'occai': 1, 'provit': 1, 'nbr': 1, 'activitiy': 1, 'oxygent': 3, 'ittp': 1, 'reass': 2, 'multilobular': 2, 'plasma': 2, 'tolerta': 1, 'hematuria': 7, 'ordor': 1, 'inqueri': 1, 'trap': 5, 'dgt': 1, 'ri': 1, 'therapuet': 1, 'consolida': 1, 'gaseou': 2, 'rpc': 2, 'roll': 5, 'blur': 4, 'dilatin': 2, 'ttp': 2, 'cld': 1, 'hypernatrium': 1, 'urpc': 1, 'scapula': 3, 'qtc': 3, 'angiographi': 5, 'stoke': 3, 'tema': 1, 'basicali': 1, 'tubefe': 5, 'fmaili': 3, \"'girgl\": 1, 'statlock': 2, 'ej': 3, 'schiz': 1, 'thread': 1, 'fluor': 1, 'curent': 2, 'realtim': 2, 'suitabl': 4, 'proovid': 1, 'spontaneuosli': 1, 'montitor': 3, 'scopolimin': 1, 'hardcopi': 1, 'dryness': 1, 'ativna': 1, 'cotinu': 1, 'stack': 4, 'chol': 3, 'sing': 1, 'surpriz': 1, 'feud': 1, 'movent': 1, 'disciplanari': 1, 'enhans': 1, 'everyon': 2, 'yankeaur': 1, 'dissapoint': 1, 'reschedul': 2, 'elbow': 9, 'supratherapeut': 9, 'smile': 2, 'tyre': 1, 'nibp': 7, 'remainpt': 1, 'thck': 1, 'bronchoscpi': 1, 'cardia': 2, 'periarea': 1, 'figur': 3, 'mitrazol': 1, 'pipricillin': 1, 'otherw': 1, 'thicker': 3, 'creme': 2, 'fusion': 3, 'mechinc': 1, 'eight': 3, 'yanker': 1, 'miconazol': 4, 'diaph': 1, 'busi': 1, 'miconizol': 1, 'vomitinig': 1, 'dequat': 1, 'error': 6, 'rtespiratori': 1, 'pleurex': 1, 'chaqng': 1, 'nysatin': 1, 'thoracenthesi': 1, 'underpenetr': 7, 'pneumotho': 1, 'suter': 1, 'avg': 3, 'thorencentesi': 2, 'fentaynl': 1, 'peaceabl': 1, 'lght': 1, 'yankuer': 1, 'mimin': 1, 'brochoscopi': 2, 'chardt': 1, 'mim': 1, 'quesstion': 1, 'pdr': 1, 'hemonc': 1, 'tuesday': 9, 'anzimet': 1, 'anasthesia': 1, 'dime': 1, 'myconazol': 1, 'bipsi': 1, 'ascult': 2, 'conclud': 1, 'dangl': 2, 'supposrt': 1, 'precept': 2, 'topler': 1, 'reexpans': 2, 'pleuvex': 1, 'saliv': 1, 'respiratorey': 1, 'fentynl': 1, 'hiss': 14, 'aa': 5, 'aksb': 1, 'dmfj': 1, 'ubw': 1, '^nd': 8, 'ddd': 2, 'suppli': 6, 'pendin': 1, 'ventricularli': 1, 'ich': 5, 'hypocalor': 5, 'thrombos': 2, 'strike': 1, 'thrombi': 3, 'academia': 2, 'hypercoagul': 1, 'reconsclip': 1, 'thrombo': 1, 'fossa': 7, 'papyracea': 1, 'fibersourc': 7, \"jxn'al\": 1, 'suberb': 1, 'hyperventil': 3, 'pyuria': 3, 'glaucoma': 2, 'research': 2, 'proteu': 2, 'season': 1, 'revert': 2, 'ecoli': 4, 'vivonex': 3, 'dlrc': 3, 'smv': 2, 'atherosclerosi': 4, 'diabet': 14, 'mellitu': 3, 'sg': 1, 'supertherapeut': 1, 'characterist': 2, 'defecit': 2, 'hypertroph': 3, 'thrombot': 3, 'boluss': 1, 'superven': 6, 'ablat': 5, 'nonhemorrhag': 2, 'restor': 1, 'warrant': 5, 'miner': 10, 'microb': 1, 'evolut': 6, 'lopresor': 1, 'appendag': 3, 'meningioma': 2, 'polar': 1, 'dermatolog': 1, 'stasi': 4, 'rhythem': 1, 'exhal': 13, 'timecours': 1, 'multivitamin': 10, 'lamina': 2, 'viscer': 2, 'rythem': 1, 'cutoff': 1, 'pepcid': 6, 'ggt': 7, 'methgb': 1, '^st': 6, 'thrombophilia': 1, 'gluos': 1, 'hemispher': 1, 'abtout': 1, 'vasculariz': 1, 'ethanol': 1, 'author': 3, 'nkfa': 4, 'hocm': 1, 'descript': 7, 'massag': 5, 'metavis': 12, 'phynelephrin': 1, 'thrombolysi': 1, 'hn': 9, 'initailli': 1, 'lordot': 3, 'sundown': 1, 'visisbilti': 1, 'gown': 1, 'throw': 3, 'vest': 1, 'appropiatelt': 1, 'memeori': 1, 'fot': 1, 'subtl': 6, 'alzheim': 9, 'comprehend': 3, 'hasten': 1, 'abcess': 5, 'hemiabdomen': 1, 'oldest': 1, 'tree': 11, 'uret': 3, 'taneous': 1, 'duplic': 3, 'debil': 2, 'lobul': 2, 'adamantli': 1, 'parapelv': 1, 'mesenchym': 1, 'greatest': 2, 'str': 2, 'collasp': 1, 'stromal': 1, 'kyphosi': 3, 'ride': 1, 'distanc': 3, 'pleath': 1, 'group': 3, 'fourth': 2, 'outer': 3, 'gentl': 16, 'gpt': 1, 'lucid': 1, 'oi': 2, 'crement': 1, 'coar': 2, 'prsentli': 1, 'bound': 6, 'hypottherm': 1, 'marker': 7, 'levetiracetam': 2, 'ultrasonograph': 2, 'chiba': 1, 'hyperglycem': 2, 'malleolu': 1, 'calcaneu': 1, 'collim': 5, 'desk': 1, 'gastrojejunostomi': 1, 'lucent': 3, 'ossif': 2, 'mtp': 1, 'uncin': 1, 'susp': 1, 'cloog': 1, 'incluc': 1, 'px': 1, 'phonecal': 2, 'centrilobular': 3, 'bronchiol': 2, 'mrcp': 3, 'stagger': 1, 'azythromycin': 2, 'pnacreat': 1, 'fragment': 4, 'osteomyel': 2, 'plactment': 1, 'recc': 2, 'periost': 1, 'afb': 6, 'disp': 3, 'collectio': 1, 'gluteu': 1, 'obl': 1, 'minimu': 1, 'eros': 1, 'drool': 2, 'dicuss': 1, 'pleura': 4, 'aspit': 1, 'mash': 1, 'lfa': 1, 'hemorrhoid': 1, 'fibrothorax': 1, \"treatments'\": 1, 'swalow': 1, 'dexamethason': 3, 'cs': 1, 'brisckli': 1, 'rewarm': 1, 'manger': 2, 'regad': 1, 'potato': 1, 'gait': 4, 'veyr': 1, 'jello': 3, 'similarli': 1, 'tachypnia': 1, 'olanzapin': 1, 'disynchron': 3, 'serosangin': 2, 'aveolar': 2, 'slightest': 1, 'cisatricurium': 2, 'tachard': 1, 'ever': 3, 'tact': 2, 'optimist': 1, 'tomm': 1, 'occat': 3, 'pacu': 1, 'hodgkin': 3, 'mmcg': 1, 'brow': 1, 'fold': 8, 'pleuro': 1, 'seemd': 1, 'damag': 4, 'fleet': 4, 'xfew': 1, 'contini': 3, 'intermitantli': 1, 'hypotnes': 1, 'pipercillin': 1, 'cisat': 1, 'shr': 1, 'hodgekin': 1, 'furrow': 1, 'ivabx': 1, 'formul': 3, 'seveer': 1, 'caontact': 1, 'bleo': 1, 'synchroni': 3, 'tablet': 4, 'bleomycin': 1, 'plavix': 3, 'regain': 4, 'lymphpma': 1, 'subsegment': 11, 'fibrot': 8, 'twelfth': 1, 'critacar': 1, 'rs': 1, 'attack': 3, 'univers': 1, 'tachyp': 1, 'wasd': 1, 'trnasfer': 1, 'isoridl': 1, 'methylprednisolon': 10, 'inconti': 1, 'critcaid': 1, 'whe': 1, 'correctli': 4, 'perian': 3, 'reuslt': 1, 'sixth': 2, 'pediatr': 1, 'perm': 2, 'brath': 2, 'aspirt': 1, 'aureu': 4, 'nitroglycerin': 1, 'thrash': 3, 'reinit': 1, 'restlessli': 1, 'bilaterali': 1, 'assessori': 1, 'hydrocrtison': 1, 'coasr': 1, 'pronoun': 1, 'treatement': 4, 'mobilazt': 1, 'afteran': 1, 'donat': 3, 'anal': 3, 'countri': 1, 'mophin': 1, 'stitch': 1, 'dowm': 1, 'hemmerroid': 1, 'tpiec': 1, 'sennakot': 1, 'rssi': 2, 'outcom': 8, 'tylenon': 1, 'nucleu': 1, 'bij': 1, 'glycerin': 1, 'gastroccult': 3, 'milrinon': 2, 'predomin': 8, 'dloppler': 1, 'index': 6, 'secrect': 3, 'midazolm': 1, 'subacut': 4, 'pariet': 3, 'resdiual': 2, 'placemnt': 2, 'shave': 2, 'ocassion': 1, 'urea': 1, 'nif': 4, 'likley': 5, 'pericardiocentesi': 1, 'melanoma': 3, 'smal': 2, 'bereav': 2, 'ahead': 3, 'whatev': 2, 'breakthrough': 4, 'ativn': 1, 'tke': 1, 'scatt': 1, 'pericarid': 1, 'evalul': 1, 'melenoma': 2, 'compazin': 5, 'cheynn': 1, 'pg': 1, 'porli': 1, 'imrpvo': 1, 'disregard': 2, 'bigemin': 1, 'goven': 1, 'legthargi': 1, 'pnuemonia': 4, 'crack': 1, 'boul': 1, 'music': 2, 'drank': 2, 'etoh': 7, 'codien': 1, 'eaten': 1, 'inci': 1, 'overview': 1, 'clearl': 1, 'noectopi': 1, 'gentamicin': 4, 'gastroesophagectomi': 1, 'genta': 2, 'intrathor': 1, 'primaxin': 1, 'csl': 1, 'recommn': 1, 'slighti': 2, 'prescrib': 5, 'extravas': 2, 'activit': 1, 'pike': 2, 'dilit': 2, 'lovefloxacin': 1, 'afcter': 1, 'progrerss': 1, 'aspriat': 1, 'esophagogastrostomi': 1, 'drainin': 1, 'urbc': 1, 'monito': 2, 'pen': 1, 'freqnent': 1, 'comnt': 1, 'innomin': 2, 'adenoma': 3, 'willprob': 1, 'imipenem': 2, 'foloow': 1, 'dt': 3, 'diluadid': 2, 'epogen': 1, 'underwat': 1, 'cark': 1, 'cous': 1, 'imtermitt': 1, 'news': 5, 'electrolt': 1, 'ativanand': 1, 'autodiur': 1, 'select': 4, 'intacat': 1, 'lwst': 1, 'diaphort': 1, 'rhoncii': 2, 'sson': 1, 'clonidin': 1, 'jtube': 3, 'vor': 1, 'neget': 1, 'bpsupport': 1, 'counsel': 3, 'pullup': 1, 'postprocedur': 1, 'fistul': 1, 'dng': 3, 'caglucon': 1, 'chck': 1, 'electroyt': 1, 'eager': 1, 'pulsesd': 1, 'imipenim': 1, 'swing': 2, 'patentci': 2, 'pooli': 1, 'coun': 1, 'feso': 1, 'amen': 4, 'imipenum': 1, 'feoli': 1, 'membership': 1, 'reattach': 1, 'fibr': 1, 'north': 1, 'amioderon': 5, 'abt': 3, 'mechanicali': 1, 'consutl': 1, 'lgt': 1, 'possilb': 1, 'cahng': 1, 'assst': 1, 'hepatin': 1, 'endoscopi': 8, 'ugi': 2, 'sucralf': 1, 'theradyn': 1, 'disregaurd': 1, 'knick': 1, 'anastomot': 1, 'yanquer': 1, 'pahco': 1, 'solubl': 1, 'gym': 1, 'scope': 6, 'heparn': 1, 'tag': 1, 'egg': 1, 'persit': 1, 'northern': 1, 'yellw': 1, 'tail': 4, 'shotti': 1, 'transposit': 1, 'soundsa': 1, 'pluera': 1, 'transpos': 1, 'quaniti': 1, 'metab': 2, \"'boston\": 1, 'systesm': 1, 'plueravac': 1, 'mgsulfat': 2, 'explanatori': 1, 'decomens': 1, 'amnio': 1, 'fd': 1, 'mechanicli': 1, 'sa': 4, 'caraf': 1, '^^hr': 1, 'clench': 1, 'pullthrough': 2, 'pig': 2, 'hepar': 3, 'eposid': 1, 'unmeasur': 1, 'esophogram': 1, 'esophagogastrectomi': 1, 'reuir': 1, 'stream': 1, 'bsp': 1, 'vecuronium': 5, 'btf': 1, 'pee': 1, 'joul': 2, 'vi': 6, 'scout': 3, 'endur': 2, 'sytsem': 1, 'soflti': 1, 'hydropneumothorax': 3, 'cultu': 1, 'osm': 2, 'fluib': 1, 'bldi': 4, 'ectpoy': 1, 'icnreas': 1, 'patednt': 1, 'scalpel': 1, 'irregularli': 3, 'bibasilarri': 1, 'withi': 1, 'autodiures': 5, 'pleurovac': 1, 'tachynepn': 1, 'autodiuresi': 3, 'accident': 2, 'consistenli': 2, 'suff': 1, 'flucoazol': 1, 'subpulmonari': 1, 'incorrect': 2, 'cg': 3, 'blank': 1, 'discoordiant': 1, 'multidisiciplinari': 1, 'ele': 1, 'vc': 1, 'adenosen': 1, 'hnh': 1, 'mgnt': 1, 'smell': 3, 'threadi': 1, 'ceftazadim': 2, 'jepard': 1, 'oncom': 1, 'givent': 2, 'lax': 1, 'scoot': 1, 'biat': 1, 'elastoplast': 1, 'liber': 4, 'shot': 2, 'bactoban': 1, 'fentantyl': 1, 'fluctut': 1, 'thorcoscopi': 1, 'trahc': 1, 'orderd': 3, 'bllod': 1, 'seed': 2, 'periodci': 1, 'positv': 2, 'coordin': 7, 'eextrem': 1, 'wtih': 3, 'metabil': 1, 'bactroban': 1, 'wavefrom': 1, 'replt': 1, 'radal': 1, 'hyperphosphatemia': 1, 'subcut': 1, 'sanguini': 1, 'oxacillin': 2, 'reolv': 1, 'dvr': 1, 'lotion': 3, 'creptiu': 1, 'inquiri': 2, 'waters': 5, 'sarna': 1, 'crepidu': 1, 'airleak': 2, 'thorascopi': 1, 'mainta': 3, 'subcuta': 1, 'toadi': 1, 'amphogel': 1, 'behaviour': 1, 'fluctutaion': 1, 'regist': 3, 'sersang': 2, 'cmg': 1, 'nruse': 1, 'exclus': 3, 'kink': 4, 'lacter': 1, 'pxcr': 1, 'untoward': 2, 'cw': 1, 'plcmt': 2, 'slather': 1, 'insulingtt': 1, 'acisosi': 1, 'ceftazidin': 1, 'heater': 1, 'oo': 1, 'ant': 12, 'activti': 1, 'lasux': 1, 'omg': 1, 'aluminum': 1, 'hydrox': 1, 'jkpe': 2, 'yankour': 1, 'inspiss': 1, 'acquisit': 4, 'peripheri': 6, 'obliqu': 7, 'tailor': 6, 'ahf': 1, 'calendar': 1, 'extern': 6, 'subseq': 2, 'pancol': 2, 'amoutn': 1, 'anterobasilar': 1, 'unattain': 1, 'remainin': 1, 'rami': 2, 'mvo': 3, 'pastor': 6, 'lose': 2, 'nissen': 1, 'anasarc': 4, 'pkt': 2, 'duodenojejun': 1, 'sofsorb': 1, 'ausculat': 1, 'exor': 1, 'sphyncter': 1, 'shin': 2, 'pri': 1, 'tib': 1, 'indent': 2, 'softsorb': 3, 'pneum': 2, 'nonocclus': 3, 'vac': 1, 'carin': 1, 'pnuemo': 1, 'dart': 1, 'metal': 3, 'fundopl': 1, 'unobtain': 4, 'wildli': 1, 'intussuscipien': 1, 'led': 9, 'brim': 2, 'anterobas': 1, '^psv': 1, 'randomli': 1, 'unilat': 10, 'surprisingli': 1, 'rbreast': 1, 'anterosept': 10, 'superiorli': 3, 'ileum': 1, 'aubil': 1, 'lumbosacr': 2, 'tension': 3, 'retrial': 1, 'doesnot': 1, 'bronchoalveolar': 1, 'snow': 1, 'afebrilewbc': 1, 'silhouet': 2, 'interspac': 2, 'com': 2, 'anxiolyt': 5, 'soundli': 2, 'tray': 2, 'coax': 1, 'slighlti': 2, 'moniot': 1, 'desolv': 1, 'decreat': 1, 'amberish': 1, 'obsess': 1, 'pti': 1, 'perpheri': 2, 'highest': 4, 'rth': 1, 'essent': 3, 'llp': 1, 'basalar': 1, 'lasiz': 1, 'larm': 1, 'daptomycin': 1, 'insuluin': 1, 'app': 1, 'epigloti': 1, 'loudli': 1, 'detrior': 2, 'swabe': 1, 'nutramen': 1, 'nutramenren': 1, 'rf': 3, 'neurlog': 1, 'extremli': 1, 'susction': 1, 'soar': 1, 'breathrough': 1, 'topic': 6, 'andwer': 1, 'stylet': 2, 'depper': 1, 'afbril': 1, 'soik': 1, 'diuril': 5, 'ssic': 1, 'amint': 1, 'coorel': 1, 'mucousa': 1, 'diali': 1, 'cogniz': 1, 'gaol': 3, 'abswer': 1, 'compet': 3, 'semierect': 1, 'chlorothiazid': 3, 'bother': 2, 'approprietli': 1, 'famotidin': 9, 'faliur': 1, 'coccycx': 1, 'clincal': 1, 'flair': 5, 'iniit': 1, 'prpogress': 1, 'ateri': 1, 'directli': 5, 'thrive': 3, 'vsd': 6, 'triag': 1, 'periodd': 1, 'urgenc': 1, 'axieti': 1, 'extrins': 3, 'strictur': 1, 'hypoventil': 3, 'aabout': 1, 'lund': 1, 'tlyenol': 1, 'biacodyl': 1, 'lverf': 1, 'drep': 1, 'esophog': 1, 'fuo': 6, 'dimninsh': 1, 'anytim': 1, 'arrythmmia': 1, 'currenlti': 3, \"'sbp\": 1, 'inutb': 1, 'hypoxcemia': 1, 'waffel': 1, 'stonehedg': 1, 'ppo': 1, 'trumphet': 1, 'diverticula': 3, 'trazedon': 1, 'cfh': 1, 'disicion': 1, 'laminectomi': 1, 'dimentia': 2, 'millisecond': 3, 'swal': 1, 'specifc': 1, 'postmortem': 1, 'breifli': 1, 'bw': 1, 'mount': 1, 'pseudoaneurysm': 1, 'transpleur': 2, 'se': 1, 'spous': 3, 'platueau': 1, 'alkolot': 1, 'ver': 2, 'flexis': 8, 'mimim': 1, 'worri': 2, 'criticaid': 3, 'blow': 1, 'troubleshoot': 1, 'inntub': 1, 'rsv': 2, 'nurisng': 1, 'stonger': 1, 'finerstick': 1, 'vault': 2, 'evalut': 4, 'gluco': 1, 'trickl': 1, 'lpicc': 1, 'prvc': 4, 'safey': 1, 'receivd': 1, 'transpulmonari': 2, 'lrad': 2, 'qlc': 1, 'antibiod': 3, 'movmement': 1, 'anticoag': 4, 'ballon': 2, 'addenum': 1, 'sett': 1, 'sludgi': 1, 'hemolysi': 8, 'kayxel': 1, 'laid': 2, 'ru': 2, 'disimpact': 2, 'aggiat': 1, 'ize': 1, 'blanch': 4, 'undergon': 5, 'morhin': 2, 'microangiopath': 1, 'preferenti': 2, 'sternoclavicular': 1, 'respres': 1, 'septat': 3, 'nursin': 1, 'sesha': 2, 'hyperextens': 2, 'cerebellum': 1, 'pxdb': 2, 'asymmetri': 3, 'dashboard': 2, 'ghome': 1, 'trajectori': 2, 'predict': 4, 'condol': 2, 'hf': 4, 'showel': 1, 'nephrolist': 1, 'rip': 1, 'persu': 1, 'neuropathi': 5, 'aournd': 1, 'zozyn': 1, 'scr': 1, 'broadli': 7, 'gpr': 4, 'sking': 1, 'acei': 3, 'hypovolem': 9, 'calcitriol': 1, 'dinitr': 1, 'abm': 1, 'mosd': 1, 'rlq': 3, 'disucuss': 2, 'infilter': 1, 'nitropast': 1, 'enterococcu': 4, 'atorvastatin': 8, 'neurontin': 3, 'vano': 1, 'conest': 1, 'aglc': 4, 'hypervolem': 2, 'nephrologist': 2, 'uptitr': 7, 'intract': 1, 'recd': 1, 'infrahilar': 5, 'isosorbid': 1, 'carvedilol': 1, 'mgt': 5, 'improov': 1, 'coreg': 1, 'bi': 2, 'comfortbal': 2, 'contd': 1, 'phoslo': 1, 'enterococci': 2, 'xone': 1, 'nephrotoxin': 4, 'bipaa': 1, 'ranitidin': 4, 'ecal': 1, 'nmeb': 1, 'wheelchair': 3, 'metolazon': 1, 'hff': 1, 'hap': 24, 'matalazon': 1, 'outpt': 5, 'prodrom': 1, 'disuss': 1, 'persistenli': 1, 'stuarti': 1, 'impari': 2, 'trimethoprim': 2, 'appreaci': 1, 'drown': 1, 'reassum': 1, 'nitrofurantoin': 1, 'hyralazin': 1, 'restrat': 1, 'fundament': 1, 'neither': 4, 'encephaolopathi': 1, 'fresh': 4, 'settig': 1, 'women': 1, 'compli': 1, 'medcial': 1, 'instal': 1, 'uncompl': 6, 'cefuroxim': 1, 'harder': 2, 'gmmgsulf': 2, 'tacypnea': 1, 'mdrd': 2, 'prokinet': 1, '|': 2, 'mh': 2, 'ncat': 5, 'grown': 4, 'mmd': 1, 'amiikacin': 1, 'medsl': 1, 'neoplast': 1, 'prevacid': 7, 'colonscopi': 1, 'yawn': 2, 'restat': 1, 'stun': 1, 'biped': 1, 'prov': 1, 'spars': 5, 'scratch': 1, 'sulbactam': 2, 'hoever': 1, 'attract': 2, 'comf': 1, 'thinner': 2, 'tca': 1, 'continues': 1, 'chamg': 1, 'likelihood': 7, 'babinski': 3, 'hospitalist': 1, 'roomm': 1, 'providencia': 2, 'coloni': 4, 'sputm': 1, \"c'd\": 3, 'cefazolin': 2, 'normotherm': 4, 'ivdu': 1, 'hilu': 2, 'wap': 1, 'unattend': 1, 'ctl': 1, 'incapac': 1, 'decondit': 4, 'todya': 1, 'mumur': 1, 'nimenda': 1, 'stuartii': 1, 'pin': 1, 'suctioin': 1, 'offend': 2, 'epith': 1, 'antibito': 2, 'normocyt': 2, 'hysterectomi': 2, 'accid': 2, 'profil': 2, 'overwhelm': 4, 'cloud': 2, 'scar': 5, 'opportun': 5, 'normochrom': 1, 'neuron': 3, 'identif': 2, 'hypoprofus': 1, 'comatos': 2, 'sulfamethoxazol': 1, 'providentia': 1, 'peumonia': 1, 'uet': 1, 'extrapulmonari': 1, 'flacyl': 1, 'wwp': 4, 'fof': 1, 'tachypneia': 1, 'donepezil': 2, 'furthur': 1, 'egfr': 1, 'sensorium': 1, 'rquir': 1, 'providenciaa': 1, 'amikacin': 2, 'lansoprazol': 9, 'rightward': 6, 'pnemonia': 2, 'anteced': 2, 'namenda': 2, 'chornic': 2, 'iron': 6, 'escherichia': 1, 'venilatori': 1, 'cardiopulmomari': 1, 'forego': 1, 'failiur': 1, 'wel': 1, 'communc': 1, 'osteoporosi': 8, 'cardiopulonari': 1, 'orophyaryng': 1, 'lumpectomi': 2, 'hypoglycemia': 3, 'lasx': 1, 'extuabt': 2, 'soound': 2, 'exagger': 8, 'pinkish': 3, 'heploc': 1, 'diaper': 1, 'neuronton': 1, 'investig': 4, 'extrewm': 1, 'tomonitor': 1, 'thoracolumbar': 3, 'imcomprehens': 1, 'admitt': 1, 'perineaum': 1, 'intepret': 1, 'leision': 1, 'iso': 2, 'lisw': 1, 'constanli': 1, 'idiolog': 1, 'threrfor': 1, 'furrther': 1, 'scab': 1, 'reestablish': 1, 'bang': 1, 'notat': 1, 'coop': 1, 'flexi': 5, 'applic': 10, 'sution': 2, 'respiraotri': 2, 'plactic': 1, 'oitment': 1, 'fist': 1, 'implement': 3, 'kerlex': 3, 'flexas': 1, 'plastic': 2, 'guidelin': 2, 'dakin': 1, 'seccess': 1, 'debrid': 2, 'rectrict': 1, 'dbp': 1, 'evalaut': 2, 'prb': 1, 'rheab': 1, 'atori': 1, 'obses': 1, 'chanigng': 1, 'scal': 1, 'quinolon': 5, 'nitric': 4, 'conitinu': 2, 'citrar': 1, 'hypotes': 1, 'riins': 1, 'pretest': 1, 'dog': 1, 'smyrnio': 1, 'chlorhex': 7, 'reoslut': 1, 'cef': 1, 'naac': 1, 'cvhd': 2, 'strain': 13, 'pkd': 1, 'dex': 3, 'multicyst': 1, 'oxid': 4, 'thrombcytopenia': 1, 'hepatomegali': 2, 'pulmonologist': 3, 'concer': 3, 'cutlur': 1, 'clx': 3, 'imagin': 2, 'hepatolog': 4, 'assay': 5, 'heartsound': 1, 'hitt': 2, 'monrn': 1, 'tamiflu': 3, 'alveoli': 1, 'incllud': 1, 'subtherapateut': 1, 'javascript': 2, 'neosynepherin': 1, 'ngtube': 2, 'haptoglobin': 2, 'adult': 1, 'thromboyctopenia': 1, 'prime': 3, 'webtag': 2, 'dz': 2, 'givenn': 1, 'mycolyt': 3, 'kac': 1, 'overnighit': 1, 'keepign': 1, 'influeza': 1, 'enalapril': 1, 'divert': 1, 'ts': 7, 'campylobact': 1, 'hemodialyi': 1, 'vasopress': 5, 'tcdb': 1, 'pot': 1, 'nasopharyng': 4, 'bblocker': 2, 'beneprotein': 5, 'toil': 1, 'hypokinetc': 1, 'supportuv': 1, 'parasit': 2, 'pubi': 2, 'hypokinet': 4, 'preclud': 4, 'trea': 1, 'pantop': 1, 'alp': 1, 'tachpnea': 3, 'convent': 3, 'blockad': 4, 'reload': 2, 'sequestr': 2, 'ova': 2, 'atroven': 1, 'iliostomi': 1, 'subratherapeut': 1, 'multiorgan': 4, 'femur': 2, 'instablil': 1, 'trabecul': 3, 'gdex': 2, 'theray': 1, 'kpo': 1, 'napo': 3, 'prognost': 2, 'lipid': 7, 'malfunct': 2, 'cant': 1, 'possibilti': 1, 'synthet': 3, 'earliest': 2, 'avfistula': 1, 'meoprolol': 1, 'imrprov': 1, 'reactant': 1, 'antiobiot': 1, 'cvh': 1, 'acetabula': 1, 'presoso': 1, 'oseltamivir': 3, 'viru': 3, 'overhydr': 7, 'enumer': 1, 'treatjment': 1, 'ptroy': 1, 'unload': 2, 'special': 4, 'esmolol': 2, 'superinfect': 4, 'didnt': 1, 'postpon': 3, 'polysyst': 1, 'hepatologist': 1, 'atmospher': 1, 'reiniti': 3, 'metop': 1, 'nephrectomi': 1, 'hepativ': 1, 'itchi': 1, 'challengin': 1, 'popup': 2, 'ctrl': 1, 'poycyst': 1, 'contractil': 11, 'circulatori': 2, 'esld': 4, 'ddx': 18, 'dwell': 1, 'setup': 3, 'sequest': 1, 'priorit': 1, 'hemofilt': 1, 'giv': 1, 'interventricular': 1, 'nonetheless': 2, 'pasp': 2, 'inaud': 1, 'sptum': 2, 'amidodaron': 1, 'dfa': 10, 'mmghg': 1, 'equilibr': 1, 'stretcher': 6, 'medicar': 5, 'mvi': 7, 'remeron': 3, 'caltrat': 1, 'medicaid': 6, 'cautiou': 2, 'steak': 1, 'dme': 5, 'tw': 1, 'qpm': 1, 'clindamycin': 3, 'rbbb': 5, 'fosamax': 1, 'niacin': 2, 'egophani': 1, 'aggrenox': 1, 'weekli': 1, 'sensat': 3, 'purs': 2, 'exelon': 1, 'qam': 1, 'inprov': 1, 'qualifi': 1, 'intercurr': 2, 'abat': 1, 'medex': 3, 'walker': 2, 'mediocr': 1, 'zestril': 1, 'patientcodein': 1, 'dispens': 1, 'callout': 2, 'projectil': 1, 'pauciti': 5, 'litr': 2, 'feacal': 1, 'emphat': 2, 'surgeon': 2, 'atvian': 1, 'nondiagnost': 2, 'semiform': 1, 'outand': 1, 'latat': 1, 'mglopressor': 1, 'laculos': 1, 'enquiri': 1, 'soduim': 1, 'acsiti': 1, 'tappabl': 1, 'prng': 1, 'tachyarrhythmia': 1, 'levaph': 2, 'ijv': 1, 'chew': 2, 'woke': 3, 'chnage': 3, 'vasotec': 1, 'neomycin': 1, 'offf': 1, 'anf': 1, 'prpofol': 1, 'tt': 1, 'megnesium': 1, 'docus': 8, 'breathlesn': 1, 'miscommun': 1, 'kaexyl': 1, 'duraton': 1, 'girl': 1, 'boardlin': 1, 'earili': 1, 'diffult': 1, 'bnon': 1, 'harpist': 1, 'ninv': 1, 'shifdt': 1, 'cefriaxon': 1, 'tachypen': 2, 'instantli': 1, 'dizzi': 2, 'milronon': 1, 'jelli': 3, 'guaifenessin': 1, 'thoughout': 2, 'trembl': 1, 'sleeper': 1, 'disempact': 2, 'overloaad': 1, 'discern': 3, 'guaifenesina': 1, 'preload': 3, 'acidodi': 1, 'dmr': 1, 'particul': 1, 'hang': 3, 'vcarevu': 1, 'vagal': 1, 'ringer': 1, 'mainitan': 1, 'handicap': 1, 'mutual': 2, 'substanc': 3, 'prsent': 2, 'pitress': 1, 'aroung': 1, 'succes': 1, 'aspergillosi': 1, 'accum': 1, 'posaconasol': 1, 'seriel': 2, 'igm': 1, 'dn': 2, 'gj': 3, 'targer': 1, 'gleevec': 1, 'cex': 2, 'easilli': 1, 'afraid': 1, 'cranial': 2, 'predic': 1, 'rifampin': 1, 'pneumomathi': 1, 'resusc': 1, 'gvdh': 1, 'bcell': 1, 'blastomycosi': 1, 'jirovecii': 1, 'methlprednisolon': 1, 'rot': 1, 'lmw': 1, 'premedicati': 1, 'jlb': 1, 'benzodiazepin': 2, 'microorgan': 2, 'deciss': 1, 'lanosprazol': 1, 'cero': 1, \"sbt'\": 1, 'mdd': 1, 'woresen': 1, 'jejunostomi': 2, 'torestart': 1, 'shaken': 1, 'ceas': 3, 'sbna': 1, 'merepenem': 1, 'meropemen': 1, 'disappoint': 1, 'director': 3, 'byop': 1, 'mistakenli': 2, 'atalectat': 1, 'nauseat': 1, 'onf': 1, 'maintainc': 1, 'rewrot': 1, 'prepared': 1, 'hydroxid': 1, 'iga': 1, 'tacrolimu': 2, 'warrent': 2, 'emotionalsupport': 1, 'tfeed': 2, 'six': 6, 'advic': 2, 'proh': 1, 'strictli': 1, 'apnvol': 2, 'lcpc': 4, 'becapus': 1, 'gl': 2, 'hemodilut': 2, 'lorazepan': 1, 'ongolog': 1, 'lighthead': 1, 'uneventl': 1, 'traught': 1, 'cxray': 7, 'galactomannin': 1, 'fibros': 1, 'polymorphonuclear': 1, 'sct': 2, 'tachyn': 1, 'hyperpig': 1, 'firtst': 1, 'coccidioidomycosi': 1, 'bmx': 1, 'zydi': 2, 'alphabet': 1, 'hypopig': 1, 'cocurr': 1, 'cytopath': 2, 'jirvovecii': 1, 'wakeup': 3, 'anem': 1, 'adaquet': 1, 'unequivoc': 1, 'tens': 3, 'bmp': 1, 'midazolan': 1, \"'central\": 1, 'former': 4, 'tachyapn': 1, 'ppd': 2, 'obsruct': 1, 'gleevac': 1, 'conscious': 2, 'hypercapnea': 4, 'boardelin': 1, 'gotten': 1, 'ventialt': 2, 'inde': 6, 'spfc': 1, 'indur': 2, 'extr': 5, 'chrinic': 1, 'prochlorperazin': 2, 'encas': 1, 'lscta': 3, 'allogen': 1, 'cantons': 1, 'fast': 5, 'raglan': 3, 'indict': 2, 'tac': 1, 'tkcb': 1, 'shevel': 1, 'serrou': 2, 'gaa': 1, 'anisocoria': 2, 'oxtcodon': 1, 'vori': 2, 'relationship': 5, 'treament': 1, 'emesisx': 1, 'atovaquon': 1, 'book': 1, 'pneumopathi': 1, 'stt': 1, 'preme': 2, 'vechan': 1, 'ritalin': 1, 'deacreas': 1, 'apparatu': 1, 'enoxaparin': 1, 'glevac': 1, 'antiemet': 1, 'rhinoviru': 1, 'triglycerid': 3, 'panic': 1, 'ppeg': 1, 'rational': 1, 'laboratori': 2, 'allo': 1, 'streaki': 2, 'infiltraet': 1, 'leukocyt': 1, 'imp': 4, 'wwa': 1, 'mucormycosi': 1, 'patiient': 1, 'eleven': 1, 'cghd': 1, 'igg': 1, \"patient'\": 8, 'capsofungin': 1, 'disconintu': 1, 'laden': 1, 'jrld': 2, 'al': 1, 'apneaic': 1, 'vl': 5, 'mgsulf': 1, 'signifig': 2, 'attepmt': 1, 'longterm': 2, 'histoplasmosi': 1, 'bacilli': 1, 'immunoflouresc': 1, 'nauseou': 2, 'ivig': 2, 'tacro': 1, 'poli': 5, 'atelectai': 1, 'unsign': 1, 'ritalyn': 1, 'ventimask': 2, 'djrx': 1, 'oversensit': 1, 'lvl': 1, 'cutan': 2, 'illiu': 1, 'transamin': 8, 'ite': 1, 'undertaken': 1, 'expens': 2, 'fdp': 5, 'hypoactivet': 1, 'usd': 1, 'nutrtit': 1, '^rd': 3, 'miniut': 1, 'filur': 1, 'blasser': 1, 'infectionb': 1, 'peal': 1, 'sural': 1, 'pseudohypha': 2, 'kepra': 1, 'distrust': 2, 'interactionsd': 1, 'datbl': 1, 'join': 2, 'furtehr': 2, 'statrt': 1, 'norepinepherin': 1, 'absorp': 1, 'supratheraput': 1, 'dedic': 5, 'vitmain': 1, 'confid': 3, 'decompensatuion': 1, 'bitempor': 1, 'intergti': 1, 'vgb': 1, 'difficutl': 1, 'intermirtt': 1, 'nureo': 1, 'xpiv': 1, 'anasrc': 1, 'pplateau': 1, 'platu': 1, 'acitv': 1, 'cefe': 1, 'amx': 1, 'ctiric': 1, 'scvo': 2, 'cruis': 1, 'alblumin': 1, 'pseudom': 1, 'parapneumon': 3, 'currenli': 1, 'caspo': 1, 'mintu': 2, 'yestereday': 1, 'jonh': 1, 'anacarca': 1, 'golyt': 1, 'deminer': 2, 'procss': 1, 'neurogen': 2, 'intravasc': 1, 'eosinophil': 3, 'pentobard': 1, 'epilispi': 1, 'nutrtion': 1, 'peroxidas': 1, 'meaningful': 1, 'restar': 2, 'academ': 1, 'alpha': 2, 'apprecait': 1, 'keppra': 3, 'skill': 2, 'broach': 1, 'neur': 1, 'seizuir': 1, 'venipunctur': 2, 'reatrt': 1, 'aacidosi': 1, 'decrea': 2, 'reqeust': 1, 'eduat': 1, 'ture': 1, 'miracl': 1, 'hydro': 5, 'intrvasc': 1, 'unlcear': 1, 'nondiarh': 1, 'ncse': 1, 'shockslowli': 1, 'hotlin': 1, 'chlorhexadin': 2, 'concner': 1, 'coveragw': 1, 'voicemail': 1, 'psa': 3, 'blockag': 1, \"cx'\": 1, 'mutlipl': 1, 'osmol': 1, 'interf': 2, 'addresss': 1, 'additon': 3, 'yesast': 1, 'atatu': 1, 'mngt': 2, 'futher': 2, 'epilepsi': 1, 'chlorathiazid': 1, 'lim': 1, 'log': 2, 'follo': 1, 'reauest': 1, 'norequr': 1, 'caspofugin': 1, 'nonconvuls': 1, 'std': 1, 'road': 2, 'spoutum': 1, 'thiamin': 1, 'oncal': 1, 'tpo': 1, 'gate': 2, 'ddrainag': 1, 'abnl': 6, 'cjd': 1, 'tubul': 1, 'signifi': 1, 'hypoalbuminemia': 1, 'acitivti': 1, 'antiepilept': 1, 'epilept': 1, 'boarderlin': 1, 'valproeic': 1, 'depaken': 1, 'enceph': 3, 'aski': 1, 'ampho': 1, 'faith': 2, 'frequenti': 1, 'montior': 3, 'accumil': 1, 'vasculit': 1, 'junctur': 1, 'uc': 3, 'barbitol': 1, 'assement': 1, 'encount': 1, 'dil': 1, 'vpa': 1, 'flucon': 1, 'golyetli': 1, 'drench': 2, 'overhead': 1, 'intrvascular': 1, 'ferrou': 1, 'urem': 2, 'antiseizur': 2, 'posisbl': 1, 'lactualos': 1, 'convuks': 1, 'anitbx': 1, 'kpho': 4, 'wittnessin': 1, 'fololow': 1, 'apprec': 1, 'dysfunciton': 1, 'paln': 1, 'sud': 2, 'bumex': 1, 'antii': 1, 'hyperthermia': 7, 'doll': 2, 'dietarti': 1, 'diarrheal': 1, 'synd': 1, 'norepit': 1, 'atleast': 1, 'microbi': 1, 'epsod': 1, 'tomoorw': 1, 'antipseudomon': 1, 'ltac': 2, 'antix': 1, 'valproat': 1, 'thryoid': 1, 'myopathi': 6, 'thromobocytopenia': 1, 'noripnephrin': 1, 'hypert': 1, 'geiven': 1, 'reamin': 2, 'satisfi': 1, 'bac': 2, 'oropharanyx': 1, 'optho': 2, 'disabl': 2, 'exempt': 1, 'empoir': 1, 'pentobabr': 1, 'vascul': 2, 'benefici': 2, 'method': 1, 'utmost': 1, 'dysfx': 1, 'vascualit': 1, 'jmuch': 1, 'pentobarbitol': 1, 'serious': 2, 'irrat': 1, 'plateaud': 1, 'depsit': 1, 'trransfer': 1, 'coagulopatahi': 1, 'tuypcial': 1, 'desmopressin': 2, 'schistocyt': 3, 'experianc': 1, 'bladdder': 1, 'hypervolemia': 2, 'ngith': 1, 'revalu': 1, 'disappear': 2, 'ddecreasd': 1, 'chuck': 1, 'infectoiu': 1, 'contributng': 1, 'weill': 1, 'stagbl': 1, 'anit': 1, 'hemodyalysi': 1, 'interven': 2, 'seiz': 1, 'comanow': 1, 'unewu': 1, 'heo': 1, 'miralax': 2, 'protien': 1, 'pendinh': 1, 'hashimoto': 1, 'yesteday': 1, 'faili': 1, 'coff': 1, 'antibacteri': 1, 'pathogen': 6, 'pento': 1, 'pentobarb': 1, 'midwest': 1, 'thyroglobulin': 1, 'golytley': 1, 'areflex': 2, 'folic': 2, 'dissimpact': 1, 'inf': 2, 'epillepsi': 1, 'woiuld': 1, 'recx': 1, 'leuk': 2, 'abbrevi': 2, 'refelect': 1, 'qill': 1, 'pyrexia': 7, 'abs': 1, 'pred': 2, 'slim': 3, 'anticonvuls': 2, 'trainsient': 1, 'specialist': 3, 'abgiven': 1, 'lk': 1, 'ug': 2, 'reinfect': 1, 'mhg': 1, 'coma': 1, 'extravascular': 1, 'nm': 2, 'atni': 1, 'polio': 1, 'inid': 1, 'mach': 1, 'scane': 1, 'ophtho': 2, 'febun': 1, 'sensitivi': 1, 'golytli': 1, 'antbx': 2, 'effusionsgiven': 1, 'divorc': 1, 'emoir': 1, 'ishchemia': 1, 'blame': 1, 'norepinehrin': 1, 'proptosi': 1, 'chux': 1, 'intrabdomin': 1, 'opion': 2, 'noter': 1, 'vasoact': 1, 'chlorarhiazid': 1, 'complaict': 1, 'compart': 3, 'criticad': 2, 'colloid': 1, 'epilepticu': 1, 'transmit': 5, 'cirpo': 1, 'hotn': 5, 'addiiton': 1, 'epilecticiu': 1, 'beneprotien': 1, 'rtisk': 1, 'intensivist': 2, 'coours': 1, 'cvlplace': 1, 'ondepaken': 1, 'leukocystosi': 1, 'transmin': 1, 'uln': 2, 'convuls': 1, 'lytli': 1, 'epilecticu': 1, 'ev': 2, 'thermal': 1, 'groass': 1, 'neuromyopathi': 2, 'imporv': 1, 'reachabl': 1, 'requiremetn': 1, \"eo'\": 1, 'apporx': 1, 'ultrafilt': 1, 'supportso': 1, 'barb': 1, 'antobx': 1, 'offlin': 1, 'pahs': 1, 'phenotin': 1, 'hk': 1, 'psuedomanl': 1, 'snore': 1, 'cyp': 1, 'lactoslo': 1, 'psuedom': 1, 'danger': 2, 'vlo': 1, 'epidod': 1, 'pupillari': 4, 'hotlien': 1, 'grd': 4, 'supervisor': 1, 'untreat': 4, 'depakot': 2, 'anisarca': 1, 'pentobarbit': 1, 'ldiures': 1, 'assymetri': 1, 'delic': 1, 'multidrug': 2, 'disimpactiona': 1, 'encephalopthi': 1, 'inoput': 1, 'anisarc': 2, 'miotic': 1, 'meropenam': 3, 'masess': 1, 'antiboiot': 1, 'potneiti': 1, 'esstenti': 1, 'intravasularli': 1, 'blown': 1, 'consdier': 1, 'sgar': 1, 'nutrion': 1, 'virul': 1, 'bibas': 5, 'antithyroglobulin': 1, 'hamper': 1, 'psedomona': 1, 'ddavp': 1, 'poorfor': 1, 'hasimoto': 1, 'hypoalbuminem': 2, 'artefact': 1, 'tea': 1, 'sym': 2, 'neurologist': 1, 'flld': 1, 'balnc': 1, 'liaison': 1, 'riski': 1, 'whhen': 1, 'desynchronis': 1, 'fingerst': 1, 'recvd': 3, 'hemastat': 1, 'remnant': 1, 'repet': 2, 'occasioanlli': 1, 'occasionali': 1, 'tkr': 1, 'faintli': 2, 'femer': 1, 'appropriatley': 2, 'broncho': 2, 'slise': 1, 'trate': 1, 'subsquent': 1, 'dvers': 1, 'propanolol': 1, 'benoprotein': 1, 'seadtion': 1, 'wuth': 1, 'shrug': 1, 'fenta': 2, 'vigilio': 1, 'requierd': 1, 'lsix': 2, 'finali': 1, 'compensatori': 3, 'assymetr': 4, 'methylprednison': 2, 'titret': 1, 'emoit': 1, 'sabp': 1, 'comfortanbl': 1, 'generaslis': 1, 'propronol': 1, 'mlow': 1, 'receiev': 2, 'fwb': 1, 'cardiomediastinum': 1, 'tyellow': 2, 'bronchhiectasi': 1, 'pntx': 2, 'soup': 1, '^to': 2, 'placewd': 1, 'nonexpand': 1, 'unequel': 1, 'tod': 1, 'jr': 3, 'discofortx': 1, 'cintinu': 1, 'diamox': 1, 'nebh': 1, 'robust': 1, 'supor': 1, 'recrtal': 1, 'warma': 1, 'genral': 2, 'dimnish': 1, 'vesicular': 2, 'occsaion': 1, 'acetylcystein': 2, 'finsh': 1, 'leuckocytosi': 1, 'esphog': 2, 'osteroarthr': 1, 'habit': 1, 'gprod': 1, 'efect': 1, 'elixir': 1, 'ecymot': 1, 'urinb': 1, 'andi': 1, 'nowel': 1, 'cogn': 1, 'noncontributori': 2, 'ftt': 1, 'torn': 1, 'spoon': 2, 'chanhg': 1, 'spch': 1, 'smoke': 5, 'eff': 2, 'yesterdauy': 1, 'effusiion': 1, 'diffg': 1, 'hyperchloremia': 2, 'secondli': 1, 'hyperdyanam': 1, 'subglott': 3, 'axillay': 1, 'dimihs': 1, 'fluentli': 1, 'cleaniwth': 1, 'arrhytmia': 1, 'anorexia': 2, 'withc': 1, 'rebolus': 2, 'isk': 1, 'overshoot': 1, 'nosocomi': 3, 'discu': 2, 'mismatch': 3, 'malnourish': 1, 'cleanser': 4, 'differentail': 1, 'shoulf': 1, 'repositioniong': 1, 'slighli': 1, 'caridiogen': 1, 'vasculartur': 1, 'peridex': 4, 'stori': 1, 'transpor': 1, 'regret': 1, 'ugib': 4, 'mprove': 1, 'minand': 1, 'pall': 1, 'csv': 2, 'unanim': 3, 'channel': 4, 'cvvvh': 1, 'discusiion': 1, 'levothryoxin': 1, 'aggatroban': 2, 'osteodystrophi': 1, 'wrestl': 1, 'cmrn': 1, 'pst': 1, 'unnecessari': 1, 'tighter': 1, 'dysfxn': 2, 'tachycardica': 1, 'assembl': 3, 'impli': 3, 'spuriou': 1, 'guilt': 2, 'manor': 1, 'pollen': 1, 'chlorex': 1, 'benifici': 1, \"c'\": 1, 'anoint': 1, 'hypophosphetemia': 1, 'nonessenti': 1, 'efficaci': 2, 'giver': 1, 'uncl': 2, 'bipa': 1, 'enteroccu': 2, 'repe': 1, 'depelet': 1, 'aka': 1, 'amput': 1, 'migth': 1, 'swithc': 1, 'thrombocytopeni': 2, 'clholrhexidin': 1, 'valid': 3, 'atlern': 1, 'defens': 2, 'withsat': 1, 'cosyn': 1, 'lusb': 4, 'capabl': 1, 'butnow': 1, 'varec': 1, 'inhibit': 3, 'lef': 1, 'agratroban': 1, 'hypomag': 1, 'biv': 1, 'om': 2, 'histor': 1, 'learn': 5, 'butn': 1, 'overtir': 1, 'straigt': 1, 'sevelem': 1, 'teach': 2, \"tx'ing\": 1, 'placem': 2, 'secretio': 1, 'curvej': 1, 'cvc': 1, 'forese': 1, 'remors': 1, 'omperazol': 1, 'lsb': 2, 'agatroban': 1, 'overshadow': 1, 'outlook': 3, 'turgor': 3, 'ili': 1, 'bvm': 1, 'resperidol': 1, 'eob': 1, 'explicit': 1, 'unforun': 1, 'dysarthr': 1, 'valpor': 1, 'risperidon': 1, 'risperd': 2, 'blac': 1, 'closur': 5, 'shd': 1, 'vibrat': 1, 'vallecula': 1, 'aztreo': 1, 'forc': 1, 'dtop': 1, 'macu': 2, 'lob': 1, 'meta': 6, 'divalproex': 1, 'venturi': 1, 'rpe': 2, 'incanthosi': 1, 'multipodi': 1, 'readili': 5, 'steam': 1, 'metavisison': 1, 'psychotrop': 1, 'respiridol': 1, 'hyperkeratot': 1, 'flaki': 1, 'disintegr': 2, 'basex': 1, 'tbb': 4, 'heavier': 2, 'videofluoroscop': 1, 'lgib': 1, 'prosodi': 1, 'noteabl': 1, 'overwhelmingli': 1, 'ambulatori': 2, 'bd': 2, 'videofluoroscopi': 1, 'propuls': 1, 'nivpp': 1, 'hyperammonia': 1, 'viseo': 1, 'hcl': 8, 'iah': 1, 'repli': 1, 'hemiplegia': 1, 'pyriform': 1, 'drak': 1, 'deliber': 1, 'mood': 1, 'risperadol': 1, 'anomia': 1, 'retriev': 2, 'hyperkeratosi': 1, 'velar': 1, 'aztronam': 1, 'risperodol': 1, 'downstair': 1, 'subling': 1, 'ctg': 1, 'wfl': 2, 'bipolar': 1, 'moda': 1, 'lye': 2, 'bll': 1, 'dobbhoff': 4, 'df': 1, 'rehabilit': 3, 'aerob': 4, 'ivfbolus': 1, 'asd': 10, 'inj': 1, 'vestibul': 1, 'pft': 3, 'andfailur': 1, 'subc': 1, 'diltaziem': 1, 'subglotti': 1, 'ammonia': 2, 'knew': 1, 'phtn': 5, 'ensym': 1, 'miuc': 1, 'wot': 1, 'masrk': 1, 'oveloar': 1, 'perreport': 1, 'monitorign': 1, 'notess': 1, 'mt': 2, 'cape': 1, 'movemnet': 1, \"'ing\": 1, 'admis': 1, 'famuli': 1, 'rosari': 1, 'duoserm': 1, 'tcpc': 1, 'diffucalti': 1, 'detetior': 1, 'mortuari': 1, 'transfererd': 1, 'allovesta': 1, 'hemiblock': 1, 'significi': 1, 'asdir': 3, 'mvt': 1, 'nephrosotomi': 1, 'hypersensit': 3, 'portocath': 1, 'lymphangit': 5, 'influenz': 1, 'flonas': 1, 'nephrostomi': 2, 'cryptococc': 3, 'propion': 1, 'accommod': 1, 'dialudid': 1, 'debri': 2, 'adenoid': 1, 'dxae': 3, 'grey': 2, 'pathol': 1, 'interpr': 1, 'rac': 1, 'nauseau': 2, 'meassur': 1, 'dyspen': 2, 'espophag': 1, 'serv': 1, 'reopen': 1, 'radiotherapi': 2, 'imform': 1, 'arrriv': 1, 'phlebotomi': 2, 'resistantci': 1, 'portext': 1, 'hempdynam': 1, 'cog': 1, 'hiatu': 1, 'wasnt': 1, 'tachyponea': 1, 'rhino': 1, 'sedateion': 1, 'wheel': 2, 'tachpneic': 2, 'reack': 1, 'soial': 1, 'apnoea': 1, 'vertebroplasti': 2, 'repons': 4, 'desaturar': 1, 'carbodopa': 1, 'stoolx': 1, 'theapi': 1, 'hygein': 1, 'hyporeflex': 1, 'amb': 2, \"'re\": 1, 'tonit': 2, 'beacam': 1, 'suctuion': 1, 'movemt': 1, 'uncompens': 1, 'ambuu': 1, 'samll': 1, 'preadmiss': 1, 'hyptertens': 1, 'drssg': 1, 'extem': 2, 'dssd': 1, 'suciton': 1, 'puffi': 1, 'xcept': 1, 'tachypoen': 1, 'neutran': 1, 'apnic': 2, 'presntli': 1, 'flac': 1, 'midday': 1, 'eythromycin': 1, 'entertain': 1, 'presur': 1, 'disconjug': 2, 'ruquir': 1, 'clotti': 1, 'pneumatocel': 1, 'apepar': 1, 'anchor': 1, 'deuoderm': 1, 'ommand': 1, 'stbale': 1, 'assymmetr': 1, 'dminish': 1, 'perfrom': 1, 'slug': 1, '^ing': 1, 'midodin': 1, 'unalt': 3, 'molar': 1, 'incras': 1, 'conor': 1, 'unawar': 2, 'fw': 1, 'specfic': 1, 'regulari': 1, 'drk': 1, 'wan': 1, 'overnigt': 2, 'dysnchron': 2, 'diurs': 1, 'remaisn': 2, 'imapir': 1, 'copuiou': 1, 'msse': 1, 'upcom': 1, 'wdwing': 1, 'diminich': 1, 'ampyema': 1, 'vere': 1, 'tweezer': 1, 'duriesi': 1, 'breadown': 1, 'effor': 1, 'failer': 1, 'presssur': 1, 'crepit': 1, 'liguid': 1, 'synchnou': 1, 'speed': 1, 'reconven': 2, 'diminsih': 1, 'abund': 2, 'alogrhythm': 1, 'stepfath': 1, 'naloxen': 1, 'protector': 1, 'dint': 1, 'bowekl': 1, 'xeroform': 2, 'uncomfoprt': 1, 'spotan': 1, 'fpound': 1, 'aound': 1, 'autorot': 1, 'asychron': 1, 'tranfus': 2, 'flaten': 1, 'socail': 2, 'crepiti': 2, 'inevit': 2, 'resed': 1, 'mutlip': 1, 'asper': 1, \"req'ng\": 1, 'appx': 1, 'hepatofug': 1, 'meatou': 1, 'withdrw': 1, 'nostril': 2, 'sideport': 2, 'afebriel': 1, 'mini': 3, 'eaisli': 1, 'unti': 1, 'dy': 1, 'broke': 3, 'convey': 2, 'genelar': 1, 'admx': 1, 'fede': 1, \"today'\": 3, 'dysynchrononi': 1, 'iliu': 1, 'pancytopenia': 5, 'mush': 1, 'corner': 1, 'electolyt': 1, 'earl': 1, 'abreas': 1, 'placedback': 1, 'givenx': 1, 'dippig': 1, 'sof': 1, 'appro': 1, 'amonst': 1, 'nightim': 1, 'cephalosporin': 2, 'anarsarca': 1, 'wdw': 1, 'certainti': 2, 'zeroform': 1, 'obv': 2, 'resur': 1, 'vewntilatori': 1, 'luq': 3, 'devepol': 1, 'crakl': 2, 'ratat': 1, 'locta': 1, 'bariair': 1, 'finsih': 1, 'mopder': 1, 'counteract': 2, 'desync': 1, 'hypercalcemia': 3, 'quinci': 1, 'gastropathi': 1, 'protoc': 1, 'uplt': 1, 'autodiuris': 1, 'griamc': 1, 'murtem': 1, 'aferil': 1, 'carevur': 1, 'bradypn': 1, 'manipualt': 1, 'atriocav': 2, 'pltlet': 1, 'drcreas': 1, 'npln': 1, 'anmt': 1, 'respos': 1, 'ampl': 2, 'brsk': 1, 'panu': 1, 'gaze': 2, 'aggressivli': 1, 'curl': 2, 'retropuls': 1, 'gbc': 1, 'proteinac': 1, 'fetal': 1, 'intertrochanter': 2, 'iwa': 1, 'negatiev': 1, 'faculti': 1, 'judgment': 1, 'osteophyt': 5, 'femora': 2, 'substitut': 2, 'hypercholesterolemia': 4, 'peptic': 1, 'macular': 2, 'prozim': 1, 'osteopen': 1, 'shorterm': 1, 'vdg': 1, 'requi': 1, 'brachytherapi': 2, 'againt': 1, 'improvemnt': 1, 'dbc': 1, 'brth': 1, 'hippv': 1, 'bar': 1, 'weari': 1, 'hat': 1, 'oin': 1, 'judici': 1, 'initia': 1, 'subj': 1, 'allyven': 1, 'bracelet': 1, 'dmii': 1, 'dostress': 1, 'rexpans': 1, 'cobnvers': 1, 'proclaim': 1, 'lcsw': 3, 'interview': 1, 'roughtli': 1, 'elcetrolyt': 1, 'thoracenteci': 1, 'contac': 1, 'springwel': 1, 'famiyl': 1, 'cheat': 1, 'necklac': 1, 'contacth': 1, 'vasculopath': 1, 'earrl': 1, 'granul': 2, 'overdiuresi': 1, 'heartbeat': 1, 'hfm': 2, 'suspic': 1, 'breathless': 3, 'dah': 2, 'acetylcysitin': 1, 'metforman': 1, 'span': 1, 'robutssin': 1, 'improvedto': 1, 'medrol': 3, 'muscular': 2, 'ea': 1, 'metformin': 2, 'recommemd': 1, 'hum': 1, 'osa': 2, 'doc': 1, 'chiar': 1, 'bedtim': 3, 'tessalon': 2, 'sane': 1, 'msk': 1, 'ecreas': 1, 'robitussin': 1, 'fulmin': 1, 'sputa': 1, 'othr': 1, 'nac': 2, 'solu': 3, 'patientno': 1, 'guiafenesin': 1, 'tessilon': 1, 'ream': 1, 'tenueou': 1, 'terribl': 1, 'benzon': 1, 'sevic': 1, 'gastrografin': 2, 'aswel': 1, 'decadron': 2, 'bilatar': 1, 'afebil': 1, 'nasopharyn': 1, 'kyg': 2, 'mandarin': 1, 'facilitor': 1, 'pegtub': 1, 'fecul': 1, 'ome': 4, 'ove': 1, 'downtitr': 1, 'curremt': 1, 'friction': 3, 'sarcoid': 1, 'xfere': 1, 'remaijhn': 1, 'sarcodiosi': 1, 'sarcoidosi': 1, 'opxygen': 1, 'mandibl': 1, \"cx'd\": 1, 'mdr': 1, 'ino': 2, 'erectil': 1, 'psuedo': 1, 'progresssivli': 1, 'peepm': 1, 'detai': 1, 'atypo': 1, 'neuropath': 2, 'palliativ': 1, 'zoster': 2, 'achymosi': 1, 'azathioprin': 1, 'shingl': 1, 'heav': 1, 'azothioprin': 1, 'mirtazapin': 1, 'pneumoni': 1, 'purpura': 2, 'tomororw': 1, 'prophi': 1, 'acebutolol': 1, 'nsclca': 2, 'ami': 2, 'invad': 2, 'insepar': 2, 'radiopac': 2, 'toc': 1, 'deposit': 4, 'pamidron': 1, 'www': 1, 'lacta': 1, 'stoneman': 1, 'costodiaphragmat': 1, 'encircl': 1, 'hypopho': 1, 'lidoderm': 1, 'possiblil': 1, 'hypophosphatemia': 1, 'stemi': 2, 'pemetrex': 2, 'antion': 1, 'erinephr': 1, 'pyeloneph': 1, 'respo': 1, 'carecod': 1, 'interpretor': 1, 'suprath': 1, 'ptc': 1, 'hydrouret': 1, 'sufggest': 1, 'pyelonephr': 2, 'givern': 1, 'pylenonephr': 1, 'hrc': 1, 'ragrdu': 1, 'hydroneph': 1, 'ubj': 1, 'goc': 4, 'periren': 1, 'thougn': 1, 'obstruuct': 1, 'cycstoscopi': 1, 'en': 2, 'jkang': 1, 'pyelonephrosi': 1, 'uanbl': 1, 'suprahilar': 3, 'fureth': 1, 'moieti': 1, 'chosen': 1, 'loin': 1, 'perinephr': 3, 'pyelo': 1, 'reusm': 1, 'septi': 1, 'uvj': 1, 'cycsto': 1, 'scopalomin': 1, 'pleaural': 1, \"adl'\": 1, 'scopi': 1, 'disucss': 2, 'lithotrypsi': 1, 'possibilit': 1, 'improvementin': 1, 'margina': 1, 'horizont': 1, 'podu': 1, 'maee': 1, 'chr': 1, 'biaxin': 1, 'progess': 1, 'thia': 1, 'emphysemat': 3, 'norepinephin': 1, 'sonn': 1, 'airmattress': 1, 'aleven': 1, 'clincial': 2, 'electrod': 2, 'cefapim': 1, 'fluffi': 1, 'degener': 2, 'airless': 2, 'disc': 4, 'effuss': 1, 'oxza': 1, 'endplat': 1, 'colaps': 1, 'corect': 1, 'esophagogastr': 5, 'excent': 1, 'sedaton': 1, 'allodynia': 1, 'phenomenon': 1, 'accomplish': 1, 'torsad': 1, 'hyperesthesia': 1, 'wak': 1, 'decreasedin': 1, 'affin': 1, 'perturb': 1, 'medzihradski': 1, 'pharmaceut': 1, 'mulitifoc': 1, 'nmda': 1, 'pathophysiolog': 1, 'practic': 1, 'rat': 1, 'brainstem': 1, 'concomit': 3, 'recaptur': 1, 'camp': 1, 'saeki': 1, 'pathway': 1, 'purport': 1, 'explicitli': 2, 'unrel': 4, 'scientif': 1, 'unoccupi': 1, 'conflict': 1, 'mcclean': 1, 'terner': 1, 'conceptu': 1, 'naltrexon': 1, 'commonli': 1, 'resensit': 1, 'plataeu': 1, 'chindalor': 1, 'antinocicept': 1, 'elsevi': 1, 'polyethylen': 1, 'bind': 1, 'genet': 1, 'biomark': 1, 'govern': 1, 'price': 1, 'interindividu': 1, 'sponr': 1, 'agonist': 3, 'recomend': 2, 'proglumid': 1, 'scienc': 1, 'mediat': 1, 'cck': 1, 'cyclic': 1, 'medulla': 1, 'lotsch': 1, 'decoupl': 1, 'urg': 1, 'bubbl': 6, 'tumour': 2, 'dourish': 1, 'albeit': 3, 'neural': 1, 'celeri': 1, 'inturrisi': 1, 'centuri': 1, 'stoutz': 1, 'tefari': 1, 'angst': 1, 'endocytosi': 1, 'urinalysi': 3, 'vanderah': 1, 'yabaluri': 1, 'bockstael': 1, 'phenomena': 1, 'mainstay': 1, 'pharmacodynam': 1, 'estfan': 1, 'emptiv': 1, 'ventromedi': 1, 'introduct': 1, 'nocicept': 1, 'arnp': 1, 'nonanalges': 1, 'model': 2, 'intracellular': 2, 'modulatori': 1, 'cur': 1, 'yaksh': 1, 'occer': 1, 'hyperalgesia': 2, 'deceid': 1, 'regulatori': 1, 'concurr': 9, 'statist': 1, 'compton': 1, 'amioduron': 1, 'proport': 5, 'abstract': 1, 'transcript': 2, 'underscor': 1, 'promis': 1, 'wider': 2, 'adjuv': 1, 'xd': 1, 'kappa': 1, 'counterpart': 1, 'fwma': 1, 'theori': 1, 'ivarsson': 1, 'maintian': 1, 'ersek': 1, 'monophosph': 1, 'theoret': 1, 'pronocicept': 1, 'adenylyl': 1, 'mrg': 1, 'foll': 3, 'anitibiot': 1, 'monomorph': 1, 'chavkin': 1, 'glucagon': 1, 'pharmacokinet': 1, 'popul': 1, 'radion': 1, 'arrestin': 1, 'glutam': 1, 'opioid': 2, 'principl': 1, 'ferguson': 1, 'rins': 1, 'deepen': 1, 'duttaroy': 1, 'glycol': 1, 'pal': 1, 'gardel': 1, 'rvm': 1, 'sjogren': 1, 'antagonist': 1, 'vigano': 1, 'decad': 1, 'cholecystokinin': 1, 'excit': 2, 'intrigu': 1, 'measuresbut': 1, 'reducedcontinu': 1, 'preclin': 1, 'importantli': 2, 'doverti': 1, 'burden': 5, 'excitatori': 1, 'magnitud': 1, 'coin': 1, 'perist': 2, 'aspart': 1, 'mu': 1, 'radonc': 1, 'nondrug': 1, 'postul': 1, 'sander': 1, 'potenc': 1, 'facilitatori': 1, 'psycholog': 1, 'proactiv': 1, 'difuss': 1, 'dextromethorphan': 2, 'overtr': 1, 'yoburn': 1, 'rct': 1, 'advantag': 1, 'hyperalges': 1, 'raehal': 1, 'endogen': 1, 'medscap': 1, 'methyl': 1, 'whistler': 1, 'neurosci': 1, 'human': 1, 'gpcr': 1, 'peptid': 1, 'desensit': 1, 'maleat': 1, 'releas': 4, 'subtyp': 1, 'gif': 2, 'wherebi': 1, 'asparagin': 1, 'colorect': 1, 'kinas': 1, 'prefac': 1, 'analges': 1, 'entiti': 2, 'circumv': 1, 'pharmd': 1, 'simplest': 1, 'lauretti': 1, 'hydrocostison': 1, 'amelior': 2, 'nur': 1, 'neurotransmitt': 1, 'encod': 1, 'portenoy': 1, 'acknowleg': 1, 'world': 1, 'dupen': 1, 'rostral': 1, 'elucid': 1, 'overlap': 2, 'uniform': 1, 'religion': 1, 'amplifi': 1, 'mk': 1, 'gene': 1, 'repsiratori': 1, 'reprint': 1, 'schemat': 1, 'mao': 1, 'cornerston': 1, 'transmiss': 3, 'receptor': 1, 'genotyp': 1, 'experiment': 1, 'spontaneu': 1, 'dynorphin': 1, 'terman': 1, 'phd': 1, 'affer': 1, 'hinder': 1, 'progresson': 1, 'indicta': 1, 'periaqueduct': 1, 'levorphanol': 1, 'methodon': 1, 'choos': 1, 'premis': 1, 'permiss': 3, 'cyclas': 1, 'pretreat': 1, 'sum': 1, 'molecular': 1, 'nonpain': 1, 'amino': 1, 'hypothes': 1, 'viaogt': 1, 'mtx': 1, 'improp': 1, 'wf': 1, 'ygd': 3, 'tributari': 1, 'enbrel': 1, 'melena': 5, 'icteru': 4, 'inand': 1, 'protuber': 1, 'xfusion': 2, 'pneumosepsi': 1, 'athi': 1, 'blast': 1, 'glianda': 1, 'uot': 1, 'pallor': 2, 'coolin': 1, 'aar': 1, 'lysi': 2, 'sterp': 1, 'sacrement': 2, 'rituximab': 1, 'drn': 1, 'encapsul': 1, 'leukapheresi': 1, 'granulocyt': 1, 'malais': 3, 'vasodilit': 1, 'cul': 2, 'neuromusc': 2, 'cisatra': 1, 'crise': 1, 'crypto': 2, 'lymphocyt': 1, 'anerob': 2, 'sinsc': 1, 'matur': 1, 'vasodil': 1, 'pneumococcu': 1, 'elvat': 1, 'patella': 1, 'dion': 1, 'leukostasi': 1, 'crystalloid': 1, 'endotoxin': 1, 'tio': 1, 'witjh': 1, 'pralysi': 1, 'reas': 1, 'oxgen': 2, 'eomi': 6, 'ig': 2, 'synthesi': 1, 'nearbi': 1, 'atraumat': 2, 'desper': 1, 'bullou': 2, 'interfissur': 1, 'substrat': 1, 'redemonstr': 9, 'hird': 1, 'levalbuterol': 1, 'echocardiogram': 2, 'xoponex': 1, 'reliv': 1, 'expl': 1, 'pheboltomist': 1, 'perfect': 1, 'purus': 1, 'signfici': 1, 'regen': 1, 'patint': 1, 'dyspnic': 1, 'reconnect': 2, 'facili': 1, 'ffm': 1, 'cuurent': 1, 'perinieum': 1, 'highflow': 1, 'labour': 1, 'effexor': 1, 'ffv': 1, 'paitent': 1, 'brerath': 1, 'xopenex': 1, 'bronchi': 5, 'evloc': 1, 'zoloft': 1, 'iiia': 1, 'retrotrach': 1, 'birthday': 1, 'cefaclor': 1, 'onco': 1, 'chsnge': 1, 'moxifloxicin': 1, 'makes': 1, 'choc': 1, 'avial': 1, 'photodynam': 1, 'loopi': 1, 'opacit': 2, 'boost': 3, 'imped': 1, 'nsc': 1, 'phlebotomist': 1, 'ventriclr': 1, 'infraren': 2, 'fece': 1, 'intracav': 1, 'pericolon': 1, 'thumbprint': 1, 'hypocontractil': 2, 'minu': 2, 'pancolon': 1, 'trv': 1, 'panproctocolon': 1, 'merit': 2, 'jmgw': 5, 'shsf': 3, 'schf': 1, 'cephalad': 1, 'frpm': 1, 'septick': 1, 'vicodin': 1, 'gn': 2, 'resuscti': 1, 'opiod': 1, 'bizarr': 1, 'haloperidol': 2, 'nmb': 1, 'herp': 1, 'maintin': 1, 'obstip': 5, 'expuls': 1, 'alkalemia': 2, 'pbw': 1, 'bleak': 1, 'metoclopramid': 1, 'lamotrigin': 1, 'para': 1, 'scrape': 2, 'yestserday': 1, 'aiway': 1, 'fbr': 2, 'tough': 2, 'parac': 1, 'opiat': 1, 'uap': 1, 'paracentesi': 3, 'blat': 1, 'hydrochlorid': 2, 'tricycl': 1, 'cisaturcurium': 1, 'dysynchoroni': 1, 'morbid': 1, 'taught': 1, 'blowout': 2, 'flexeril': 1, 'shrunken': 2, 'svv': 4, 'unparalyz': 1, 'ninth': 2, 'exal': 1, 'disten': 1, 'anasarcoid': 1, 'thalessemia': 1, 'stabal': 1, 'irrecover': 1, 'simplex': 1, 'fibromyalga': 1, 'eighth': 1, 'dysynchor': 1, 'lamict': 1, 'sqi': 2, 'pwder': 1, 'vzv': 1, 'vilego': 1, 'lactulous': 1, 'imipramin': 1, 'seventh': 2, 'dyssynchron': 3, 'lefort': 2, 'impov': 1, 'hidden': 2, 'hyperoxygen': 1, 'dubhoff': 1, 'esbl': 4, 'evident': 1, 'crp': 1, 'frlow': 1, 'taccycardia': 1, 'coagulapathi': 1, 'seenbi': 1, 'overnig': 1, 'locu': 1, 'becuaus': 1, 'yesterrday': 1, 'ws': 1, 'collagenes': 1, 'aand': 1, 'laa': 2, 'lepirudin': 1, 'unstag': 2, 'ancef': 1, 'cholescyst': 1, 'acalcul': 1, 'ne': 2, 'raa': 2, 'jet': 4, 'pnuemoboot': 1, 'heprin': 3, 'empath': 1, 'bicuspid': 1, 'midu': 1, 'respiratoti': 1, 'regress': 3, 'multifactorisl': 1, 'mepilex': 4, 'remodel': 2, 'galactomanna': 1, 'sort': 2, 'valvoplsti': 1, 'vitk': 1, 'honest': 1, 'alck': 1, 'valvuloplasi': 1, 'subq': 1, 'wocrn': 1, 'eschar': 1, 'tilt': 1, 'thermodilut': 1, 'overnightl': 1, 'hardli': 1, 'cosign': 1, 'angios': 2, 'aovti': 1, 'vigileo': 3, 'exbut': 2, 'hcfa': 2, 'lvsv': 1, 'failri': 1, 'domin': 1, 'inotrop': 1, 'imit': 1, 'anca': 2, 'setgment': 1, 'antibid': 1, 'neosinephrin': 1, 'achil': 1, 'pallid': 1, 'murmr': 1, 'donw': 1, 'woudl': 1, 'allpurinol': 1, 'eccentr': 4, 'te': 1, 'vo': 1, 'enzymat': 1, 'occult': 3, 'bidirect': 1, 'valvuloplasti': 1, 'valvuplasti': 1, 'necrotizin': 1, 'ttte': 1, 'vasc': 1, 'viatmain': 1, 'gradiernt': 1, 'qdaili': 1, 'vancoymcin': 1, 'dubiou': 1, 'guarante': 1, 'fwf': 1, 'proced': 1, 'fortun': 1, 'aov': 1, 'reater': 1, 'radiu': 1, 'overdistend': 2, 'transvalvular': 2, 'valoplasti': 1, 'aggatraban': 1, 'suctionion': 1, '^d': 1, \"pt'\": 1, 'vti': 1, 'dyne': 1, 'charg': 1, 'scaral': 1, 'wbhc': 1, 'dcub': 1, 'ecch': 1, 'siadh': 2, 'euvolemia': 2, 'hemohynam': 1, 'jksd': 2, 'sklightli': 1, 'argu': 2, 'pare': 1, 'petechai': 1, 'inasmuch': 1, 'esr': 1, 'gastrograffin': 1, 'collagenas': 1, 'chole': 1, 'ltach': 1, 'certifi': 3, 'isosourc': 1, 'svi': 1, 'ueni': 1, 'meei': 1, 'dcing': 1, 'receheck': 1, 'infectio': 1, 'broadend': 1, 'quiliti': 1, 'contr': 1, 'fals': 1, 'reguir': 1, 'awaitin': 1, 'backward': 1, 'unmet': 1, 'cdif': 1, 'psurg': 1, 'adventiti': 1, 'affili': 1, 'complexion': 1, 'taccypnea': 1, 'cardic': 1, 'wallthicken': 1, 'sqaur': 1, 'rouhnd': 1, 'mepiplex': 1, 'meropenujm': 1, 'moitor': 1, 'todat': 1, 'orderedl': 1, 'preform': 3, 'wll': 1, 'streamlin': 1, 'valvuloplati': 1, 'wehich': 1, 'tempor': 5, 'overse': 1, 'viigileo': 1, 'valvoplasti': 1, 'antbiot': 1, 'vacno': 1, 'ducubitu': 1, 'ymosi': 1, 'jointli': 1, 'ai': 2, 'valvulopasti': 1, 'serotonin': 1, \"onc'\": 1, 'stood': 1, 'valvulopplasti': 1, 'offset': 1, 'wiill': 1, 'subtherapuet': 1, 'effici': 1, 'methypr': 1, 'pii': 1, 'tamsulosin': 1, 'exterm': 2, 'diureisi': 1, 'pulmoari': 1, 'overdistens': 1, 'pipracillin': 1, 'hapto': 1, 'symetr': 1, 'exr': 1, 'crossmatch': 2, 'platea': 1, 'org': 1, 'dysrhythmia': 1, 'tuleremia': 1, 'whrn': 1, 'diagonisi': 1, 'sosyn': 1, 'malignaci': 1, 'remiss': 2, 'dysmorph': 1, 'hypxoc': 1, 'vr': 1, 'skip': 1, 'overrid': 1, 'gental': 1, 'hypocalcemia': 1, 'jrci': 3, 'biter': 1, 'pss': 2, 'copious': 1, 'grad': 1, 'strongyloid': 1, 'steriod': 3, 'consensu': 1, 'nine': 2, 'goultur': 1, 'ple': 1, 'culter': 1, 'orpharyng': 1, 'bronhial': 1, 'aip': 1, 'stongi': 1, 'ovebreath': 1, 'neutrophil': 2, 'spun': 1, 'asperg': 1, 'fyi': 1, 'sinsu': 1, 'strongiloid': 1, 'histoplasma': 1, 'hyperkalemi': 1, 'instanc': 2, 'vw': 1, 'dietet': 3, 'tital': 1, 'kangaroo': 1, 'hevili': 1, 'neli': 1, 'autoimmun': 1, 'granular': 2, 'hormon': 1, 'inflamatori': 2, 'easleir': 1, 'inetrv': 1, 'therapeud': 1, 'overdistent': 2, 'ducolax': 1, 'immun': 1, 'tum': 2, 'poa': 2, 'bellow': 1, 'spin': 1, 'kayexalt': 1, 'advac': 1, 'entranc': 1, 'electroly': 1, 'sss': 1, 'decompen': 1, 'linger': 1, 'deactiv': 1, 'pippracillin': 1, 'tularemia': 1, 'thoras': 1, 'crept': 1, 'hypoactic': 2, 'deminsh': 1, 'vassopress': 1, 'pmhcad': 1, 'adeno': 1, 'ige': 1, 'tn': 1, 'systoic': 1, 'hypxic': 1, 'aspergillu': 1, 'eosinphil': 1, 'contnu': 1, 'dysncron': 1, 'histo': 1, 'ischmia': 1, 'requri': 1, 'galatomonan': 1, 'agglutin': 1, 'nont': 1, 'eosinophilia': 2, 'impercept': 1, 'nephrolithiasi': 3, 'anecho': 1, 'alongsid': 1, 'prostatectomi': 1, 'oxybutynin': 1, 'amout': 1, 'unpurpos': 1, 'denis': 1, 'warn': 1, 'appi': 1, 'aftern': 1, 'aberrantli': 1, 'instrins': 1, 'espiratori': 1, 'darvon': 1, 'liek': 1, 'propoxyphen': 1, 'arthrodesi': 1, 'weel': 1, 'pper': 1, 'danazol': 1, 'turp': 1, 'uncertainti': 1, 'glacuoma': 1, 'wiil': 1, 'cci': 1, 'cystoscop': 1, 'protract': 1, 'recew': 1, 'tpp': 2, 'recdiev': 1, 'hyperplasia': 1, 'scenario': 1, 'fewminut': 1, 'vegileo': 1, 'bicard': 1, 'withdrawen': 1, 'hish': 1, 'influzena': 1, 'donutamn': 1, 'asrriv': 1, 'patietn': 1, 'thrombopoetin': 1, 'esopog': 1, 'rhabdo': 1, 'xigri': 1, 'leukopenia': 1, 'cistacurim': 1, 'awiat': 1, 'nafcillin': 1, 'keton': 2, 'neuromuscular': 5, 'naficillin': 1, 'elyt': 1, 'pancx': 1, 'dobutaminin': 1, 'fl': 1, 'gastro': 1, 'ste': 2, 'levoxyl': 1, 'protnix': 1, 'initiait': 1, 'segemtn': 1, 'child': 2, 'italian': 1, 'ambival': 2, 'immin': 2, 'lavtat': 1, 'catastroph': 1, 'incl': 4, 'brbpr': 1, 'estrang': 1, 'vaspressin': 1, 'peesist': 1, 'harsher': 1, 'flor': 1, 'reviv': 1, 'file': 2, 'summon': 1, 'octreotid': 3, 'denser': 2, 'solutiuon': 1, 'leveph': 1, 'curretnli': 1, 'tendenc': 1, 'reintroduct': 1, '^sed': 1, 'bilaterl': 1, 'hopsit': 1, 'morph': 1, 'finbrinogen': 1, 'varici': 1, 'sfv': 1, 'mar': 2, 'mroe': 1, 'dvtpleas': 1, 'comparis': 1, 'betweeen': 1, 'fpr': 1, 'queri': 4, 'unilater': 4, 'mdag': 2, 'microorg': 2, 'othervis': 2, 'tibc': 1, 'hemoconcentr': 1, 'mural': 2, 'compound': 2, 'twi': 2, 'betablock': 2, 'denot': 1, 'frail': 2, 'thyroxin': 1, 'withdrawan': 1, 'ovrenight': 1, 'seemingli': 1, 'ferritin': 1, 'airflow': 2, 'congreg': 1, 'lactamas': 1, 'cardiophren': 2, 'costophr': 1, 'solitari': 1, 'infraclavicular': 1, 'sternum': 2, 'volumetr': 3, 'epicardi': 2, 'millimetr': 1, 'kerley': 2, 'fract': 1, 'omnipaqu': 4, 'tomographi': 2, 'mycobacteri': 1, 'unmodifi': 1, 'mildi': 2, 'calic': 1, 'spondyl': 1, 'ligament': 1, 'hyperthyroid': 1, 'hepatobiliari': 5, 'hypoechogen': 1, 'ankylos': 1, 'osteosclerot': 1, 'spicul': 1, 'cavitari': 3, 'unfold': 1, 'longitudin': 1, 'radioopac': 1, 'syndesmophyt': 1, 'direction': 1, 'bulla': 2, 'upj': 1, 'hemithorac': 5, 'ventrcular': 1, 'depict': 1, 'cbd': 2, 'sedond': 1, 'cau': 1, 'cavit': 3, 'jbre': 1, 'ovarian': 1, 'locula': 1, 'sac': 2, 'department': 2, 'hyperostosi': 1, 'carcinomatosi': 1, 'pneumothorac': 2, 'cerebri': 1, 'frontali': 1, 'pleurodesi': 1, 'omentum': 1, 'brachiocepahl': 1, 'multisequ': 1, 'deriv': 2, 'supratentori': 1, 'hyperintens': 1, 'talc': 1, 'peron': 5, 'falx': 1, 'pvt': 1, 'distr': 2, 'hyperecho': 4, 'interav': 1, 'pelviectasi': 1, 'gpro': 1, 'rssbi': 1, 'axilari': 1, 'spp': 1, 'sensorimotor': 1, 'uncomfor': 1, 'speci': 1, 'moh': 1, 'schisto': 1, 'hoars': 1, 'cnsd': 1, 'klebseilla': 1, 'doss': 1, 'extubatd': 1, 'fascial': 1, 'llg': 1, 'usg': 1, 'stump': 3, 'curbsid': 1, 'acr': 1, 'erval': 1, 'rhochour': 1, 'excis': 1, 'ti': 1, 'prei': 1, 'retrospect': 1, 'midbrain': 1, 'omit': 1, 'denerv': 1, 'retroperi': 1, 'dess': 1, 'pml': 1, 'jxkc': 2, 'ldn': 1, 'ay': 1, 'arhb': 2, 'oyt': 1, 'hemosiderin': 1, 'sticker': 1, 'cnsc': 1, 'anterolisthesi': 1, 'myopath': 1, 'vasculopathi': 1, 'hypopnea': 1, 'retrolisthesi': 1, 'student': 2, 'gprotein': 1, 'schatzki': 1, 'cololostomi': 1, 'bill': 1, 'cornebacterium': 1, 'dace': 1, 'hyperlipindemia': 1, 'phlegmon': 1, 'axon': 1, 'prot': 2, 'doppleralb': 1, 'myoneuropathi': 1, 'atnf': 1, 'careplan': 2, 'comfor': 1, 'extrathorac': 2, 'electrophysiolog': 1, 'nag': 1, 'myelopathi': 1, 'nj': 1, 'supratherapeuticleukocytosi': 1, 'cleaner': 3, 'spondylolysi': 1, 'diphteheroid': 1, 'takeback': 1, 'psoa': 1, 'botul': 1, 'hyperchlorem': 1, 'synapt': 1, 'anasara': 1, 'cionsult': 1, 'volit': 1, 'nost': 1, 'cleanz': 1, 'tartrat': 3, 'proctectomi': 1, 'emg': 1, 'polyneuropathi': 1, 'corynebacterium': 1, 'cvicu': 1, 'pedicl': 1, 'hypotn': 1, 'myasthen': 1, 'circ': 1, 'calciumacet': 1, 'cosamin': 1, 'avnrt': 2, 'inact': 2, 'lmid': 1, 'ascertain': 1, 'sytem': 1, 'ertapenem': 1, 'nondil': 1, 'dissynchron': 2, 'platpressur': 1, 'ipd': 1, 'oversea': 1, 'omeprazol': 1, 'dysyncroni': 1, 'wore': 1, 'benzonat': 1, 'dyschroni': 1, 'dirti': 2, 'msiv': 2, 'desynchron': 3, 'purplish': 1, 'conven': 1, 'currenltli': 1, 'dysycron': 1, 'beard': 1, 'ih': 2, 'oragan': 1, 'opporun': 1, 'normoact': 2, 'spri': 1, 'reble': 1, 'nu': 1, 'born': 1, 'sandblast': 1, 'zolpidem': 1, 'pectu': 1, 'excavatum': 1, 'conssit': 1, 'mucormyst': 1, 'suctionedx': 1, 'woren': 1, 'inactiv': 1, 'desyncron': 1, 'painter': 1, 'soln': 1, 'nf': 1, 'jiroveci': 1, 'sidehol': 2, 'obliter': 2, 'pneuomedistinum': 1, 'extrapleur': 1, 'pneumothrax': 1, 'thoracostomi': 1, 'hyperextend': 1, 'pjp': 1, 'kaposi': 1, 'pneu': 1, 'enya': 2, 'sarcoma': 1, 'ind': 1, 'destat': 2, 'lamivudin': 1, 'psvlevel': 1, 'engulf': 1, 'cisaturcoruim': 1, 'streptococc': 1, 'pnemo': 1, 'inspit': 3, 'unchangedand': 1, 'pulmn': 1, 'lactilub': 1, 'gastriti': 1, 'clorid': 1, 'gancyclovir': 1, 'rotopron': 1, 'valium': 2, 'endpoint': 1, 'nitic': 1, 'cisastacurium': 1, 'succeed': 1, 'tve': 1, 'concur': 2, 'xerofoam': 1, 'persis': 2, 'plo': 1, 'ggancyclovir': 1, 'rota': 1, 'opthalmolog': 1, 'resudu': 1, 'idea': 1, 'subjunctiv': 1, 'likey': 1, 'sanquin': 1, 'metolozon': 1, 'phigh': 1, 'dfe': 1, 'radiopaqu': 3, 'attributbl': 1, 'fulfil': 1, 'serosangiun': 1, 'dyssynchroni': 2, 'immunoglobulin': 1, 'plow': 1, 'barrotrauma': 2, 'chemosi': 1, 'visciou': 1, 'afrebril': 1, 'crazi': 1, 'cistracurium': 1, 'ecmo': 1, 'abscent': 1, 'bmtx': 1, 'opciti': 1, 'anu': 1, 'tradit': 1, 'intervascularyli': 1, 'rotapron': 1, 'applli': 1, 'hyp': 1, 'methados': 1, 'milli': 1, 'phi': 1, 'conj': 1, 'pie': 1, 'exce': 1, 'cisatracurim': 1, 'cist': 1, 'biphas': 1, 'pretibi': 1, 'dieresi': 1, 'dehydrogenas': 1, 'chemiosi': 1, 'nitrixoxid': 1, 'ladi': 2, 'nystain': 1, 'consistentlli': 1, 'opthamolog': 1, 'ou': 1, 'inchang': 1, 'opthal': 1, 'cistacurium': 1, 'fenatanyl': 1, 'deflat': 1, 'arvp': 1, 'gvh': 1, 'thrombin': 1, 'standpoint': 3, 'interestingli': 1, 'reparalyz': 1, 'satsin': 1, 'prome': 1, 'voriconazol': 1, 'subconjunctiv': 1, 'paralys': 1, 'flexicel': 1, 'oscil': 1, 'bactim': 1, 'south': 1, 'cistastacurium': 1, 'cisastracurium': 1, 'inflitr': 1, 'specialti': 1, 'reinflat': 1, 'templ': 1, 'retin': 1, 'xfuse': 1, 'biater': 1, 'familiy': 1, 'parlyt': 1, 'trali': 1, 'toleratedongo': 1, 'mycafungin': 1, 'anteromedi': 1, 'tdecreas': 1, 'nitrou': 1, 'aprreci': 1, 'troli': 1, 'diazepam': 1, 'treatabl': 1, 'moth': 1, 'repron': 1, 'homodynam': 1, 'sildenafil': 1, 'occaission': 1, 'intuab': 1, 'recit': 1, 'proprofol': 1, 'cheek': 1, 'satt': 1, 'erythem': 1, 'llast': 1, 'exogen': 1, 'bileou': 1, 'bubl': 1, \"c'ing\": 1, 'pnuemothorax': 1, 'cisctracurium': 1, 'buddist': 1, 'nimbex': 1, 'tfresidu': 1, 'continuelactilub': 1, 'linazolid': 1, 'tolar': 1, 'mgc': 1, 'infx': 1, 'trale': 1, 'hydroureteronephrosi': 1, 'divers': 1, 'umbilicu': 1, 'pneumobilia': 2, 'ercp': 3, 'oment': 1, 'pbec': 2, 'recom': 1, 'idenitif': 1, 'kkgc': 3, 'outlet': 2, 'cystectomi': 1, 'conduit': 1, 'pbishop': 2, 'prove': 1, 'urostomi': 1, 'ileal': 1, 'accentu': 1, 'ehab': 3, 'intrapulmonari': 1, 'noteworthi': 1, 'tasp': 1, 'sniff': 1, 'listeria': 1, 'meatal': 1, 'dna': 1, 'fasoli': 1, 'aprenchym': 1, 'intracerebr': 1, 'malpost': 1, 'parvu': 1, 'aji': 3, 'enteroccoc': 1, 'ureter': 1, 'tardu': 1, 'verg': 1, 'retrograd': 1, 'aspf': 1, 'discoveri': 2, 'plum': 1, 'mci': 1, 'radiopharmaceut': 1, 'dtpa': 1, 'radlin': 1, 'maa': 1, 'pneumopericardium': 1, 'intab': 1, 'unconsci': 1, 'fingerbreadth': 1, 'upsiz': 2, 'venotomi': 2, 'shorter': 1, 'caudal': 1, 'internvet': 1, 'cessat': 1, 'baloon': 1, 'inadvert': 1, 'huddl': 2, \"'lyte\": 1, 'xii': 1, 'wdwn': 1, 'silloutt': 1, 'cnii': 1, 'scx': 1, 'blossom': 1, 'stabiol': 1, 'bode': 1, 'thyromegali': 1, 'aquir': 1, 'logic': 1, 'fouind': 1, 'costal': 2, 'natg': 3, 'mjmgb': 3, 'intubatedclin': 1, 'diaphgram': 1, 'atelectas': 2, 'radicl': 1, 'subpulmon': 1, 'chronicli': 1, 'rarefact': 1, 'effu': 1, \"trach'd\": 1, 'intervertebr': 2, 'cholestat': 2, 'psuedomona': 1, 'hemidiaphragmat': 1, 'faiulr': 1, 'bileaflet': 1, 'retroaort': 1, 'corticomedullari': 1, 'distol': 1, 'thechang': 1, 'calculi': 1, 'technologist': 1, 'lltc': 1, 'habitu': 2, 'hemipelvi': 1, 'gmsj': 1, 'gsenapati': 2, 'mxak': 1, 'paremet': 1, 'patientpercodan': 1, 'disgust': 1, 'chocol': 1, 'undercontrol': 1, 'frapp': 1, 'benadryl': 2, 'eater': 1, 'entercocci': 1, 'kyphoplasti': 2, 'afew': 1, 'metoprol': 1, 'enterococc': 1, 'kleb': 1, 'recordspercodan': 1, 'suprastom': 1, 'unasyn': 1, 'mra': 2, 'riesman': 1, 'itp': 2, 'orthostat': 2, 'nonvisu': 1, 'embarrass': 1, 'autonom': 1, 'augmentin': 1, 'invalid': 2, 'neglect': 1, 'hrct': 1, 'calmli': 1, 'nsip': 2, 'usag': 1, 'ivt': 1, 'anger': 1, 'hypersentit': 1, 'micron': 3, 'breakfast': 1, 'klebsiella': 2, 'hp': 1, 'hffm': 1, 'percodan': 1, 'inlaw': 1, 'bbl': 1, 'angri': 1, 'metatstat': 1, 'oer': 1, 'polypectomi': 1, 'egop': 1, 'rusb': 1, 'oler': 1, 'scoop': 1, 'western': 1, 'echhymosi': 1, 'salt': 1, 'pharygnx': 1, 'uncultur': 1, 'pharygx': 1, 'banana': 1, 'overfeed': 1, 'orang': 1, 'phargnx': 1, 'sjorgen': 1, 'cdb': 1, 'noseble': 1, 'fuction': 1, 'cour': 1, 'pansensit': 1, 'gentler': 1, 'afrin': 1, 'rigth': 1, 'hypecarb': 1, 'scc': 1, 'whish': 1, 'factori': 1, 'toung': 1, 'incorrectli': 1, 'mie': 1, 'toprol': 2, 'metprolol': 1, 'adeuqu': 1, 'etco': 1, 'appox': 1, 'unassist': 2, 'safest': 1, 'scca': 2, 'xl': 1, 'cetuximab': 2, 'wrinkl': 1, 'modestli': 1, 'apporpri': 1, 'aspiraiton': 1, 'whitmil': 1, 'auditori': 1, 'provd': 1, 'flut': 1, 'videoswallow': 1, 'failu': 1, 'alevyn': 1, 'driven': 3, 'alkylosi': 1, 'nasotrachi': 1, 'cardiomedistin': 1, 'fee': 1, 'aorticopulmonari': 1, 'situationclip': 1, 'periprosthesi': 1, 'laryngoscopi': 1, 'trazodon': 1, 'capsul': 2, 'minist': 1, 'chewabl': 1, 'amiodoran': 1, 'ec': 1, 'gastroenter': 1, 'tolterodin': 2, 'memantin': 1, 'proteas': 1, 'hematemsi': 1, 'hematemesi': 1, 'actuat': 1, 'ultras': 1, 'ophthalm': 1, 'nasonex': 1, 'benazepril': 1, 'patanol': 1, 'olopatadin': 1, 'estgfr': 1, 'dirbili': 1, 'cgi': 1, 'intuba': 1, 'calhco': 1, 'xs': 1, 'intubat': 1, 'bilirub': 1, 'gender': 1, 'vinorelbin': 1, 'cisplatin': 1, 'mcv': 2, 'renalep': 1, 'dipstick': 1, \"'lcbi\": 1, 'american': 1, 'ingrowth': 1, 'caltco': 1, 'hdl': 1, 'ldl': 1, 'rdw': 1, 'alkpho': 1, 'rohila': 1, 'ldlcalc': 1, 'urobiln': 1, 'ostelamavir': 1, 'totbili': 1, 'globuln': 1, 'intercost': 3, \"'lhbc\": 1, 'pituitari': 1, \"'lhbi\": 1, \"'expand\": 1, 'hypercholestolemia': 1, 'isoenzym': 1, 'microscop': 2, 'docetaxel': 1, 'secretiion': 1, 'mchc': 1, 'urean': 1, 'angap': 1, 'cholest': 1, 'mch': 1, 'intrepretor': 1, 'uricacd': 1, 'miscellan': 1, 'carboplatin': 1, 'trig': 1, \"'lcba\": 1, 'african': 1, 'ld': 1, 'paclitaxel': 1, 'gemcitabin': 1, 'baso': 1, 'ctropnt': 1, 'hba': 1, 'pravastatin': 1, 'triglyc': 1, 'totprot': 1, 'trans': 1, 'erlotinib': 1, 'magnum': 1, 'skeleton': 1, 'def': 1, 'rsrc': 1, 'homogen': 1, 'humeri': 1, 'myelomat': 1, 'adepqu': 1, 'wing': 1, 'occipit': 1, 'convex': 2, 'calvari': 1, 'adepquatel': 1, 'symmetri': 1, 'shaft': 1, 'occiput': 1, 'uptak': 1, 'cortex': 2, 'survey': 1, 'callu': 1, 'tumesc': 1, 'txfr': 1, 'postop': 2, 'bronchocentr': 1, 'hydropneumothorac': 1, 'rulobectomi': 1, 'noncardiogen': 1, 'preoper': 2, 'artherosclerot': 1, 'adenocarcinoma': 1, 'densest': 1, 'arthrosclerot': 1, 'cylindr': 1, 'akinet': 1, 'findingsd': 1, 'preexist': 1, 'lymphangiitc': 1, 'aert': 1, 'inth': 1, 'lobular': 1, 'inctrabdomin': 1, 'patter': 1, 'intersept': 1, 'adynam': 1, 'descrb': 1, 'unenhanc': 1, 'actiuv': 1, 'blou': 1, 'afig': 1, 'threshod': 1, 'bivent': 1, 'inotrpi': 1, 'gwlm': 1, 'infilitr': 1, 'vtac': 1, 'cub': 1, 'leart': 1, 'hpeatolog': 1, 'despiti': 1, 'resond': 1, 'mantia': 1, 'mailto': 1, 'tachyacria': 1, 'counsult': 1, 'intrtstitium': 1, 'plced': 1, 'asmi': 1, 'biacrb': 1, 'debril': 1, 'planof': 1, 'coagulopath': 1, 'childbirth': 1, 'agion': 1, 'perocardium': 1, 'gwp': 2, 'cardriovers': 1, 'tachicard': 1, 'unlad': 1, 'dobutmain': 1, 'heptaolog': 1, 'scopalimin': 1, 'conult': 1, 'hepato': 2, 'loadind': 1, 'ib': 1, 'uncommon': 1, 'chirrhosi': 1, 'thrombocyto': 1, 'decras': 1, 'overestim': 1, 'contritubt': 1, 'eco': 1, 'arrythmogen': 1, 'hcc': 2, 'burgundi': 1, 'milder': 1, 'adj': 1, 'fkuid': 1, 'eith': 1, 'rfa': 1, 'patellar': 2, 'penia': 1, 'hu': 1, 'asterixi': 2, 'cale': 1, 'azithromax': 1, 'ifn': 1, 'anmd': 1, 'bicep': 2, 'veal': 1, 'friabl': 1, 'haematuria': 1, 'psuh': 1, 'followng': 1, 'pleurisi': 1, 'hemodyanm': 1, 'intervenet': 1, 'lexipro': 1, 'metasta': 1, 'shitft': 1, 'angiogram': 1, 'guafenisen': 1, 'reinstutu': 1, 'fbca': 2, 'sel': 1, 'blush': 2, 'particl': 2, 'notiif': 1, 'ba': 1, 'engin': 1, 'nest': 1, 'epidur': 1, 'wqent': 1, 'intrathec': 1, 'embospher': 2, 'fami': 1, 'myocardium': 1, 'squeak': 1, 'argon': 1, 'prnbolus': 1, 'tragic': 1, 'backup': 1, 'viser': 1, 'discount': 1, 'scapolamin': 1, 'grate': 1, 'microcathet': 1, 'hosptil': 1, 'bleeder': 1, 'deploy': 1, 'older': 1, 'comfot': 1, 'cauter': 1, 'paient': 1, 'hemopysi': 1, 'requrin': 1, 'benedryl': 1, 'vie': 1, 'defend': 1, 'cauteri': 1, 'laptop': 1, 'rhonchj': 1, 'argonn': 1, 'embo': 2, 'palpatori': 2, 'ly': 1, 'ecopi': 1, 'fantanyl': 1, 'couter': 1, 'duculox': 1, 'hctthi': 1, 'arteriogram': 2, 'reattampt': 1, 'bandaid': 1, 'flux': 1, 'behe': 1, 'supersel': 1, 'cervicocerbr': 1, 'cannul': 1, 'trancathet': 1, 'super': 2, 'hyperexpand': 1, 'renegad': 1, 'hyperexpans': 1, 'omniflush': 1, 'aortogram': 1, 'hemopytsi': 1, 'stc': 1, 'mammari': 1, 'apicoposterior': 1, 'sjbj': 1, 'noncompress': 1, 'mgi': 2, 'infero': 1, 'gynecomastia': 1, 'dlp': 2, 'schizoaffect': 1, 'congestiona': 1, 'semiupright': 1, 'collom': 1, 'vetil': 1, 'hfe': 1, 'birth': 2, 'cryptogen': 1, 'text': 1, 'eg': 1, 'mononuclear': 1, 'cirrhot': 1, 'avm': 3, 'antitrypsin': 1, 'multiphas': 1, 'creatnin': 1, 'pneomothorax': 1, 'emant': 1, 'pnumothorax': 1, 'mlkb': 3, 'chgc': 2, 'avalu': 1, 'endarterectomi': 1, 'colonoscopi': 1, 'octeotrid': 1, 'vicryl': 2, 'chylou': 1, 'exch': 2, 'periodclip': 1, 'angiodynam': 2, 'vareci': 1, 'anesthet': 2, 'heterozyg': 1, 'sinusoid': 1, 'dophoff': 1, 'apoptot': 1, 'steatosi': 1, 'trichrom': 1, 'malform': 1, 'chylothorax': 1, 'nasointestin': 1, 'cha': 1, 'ssuspect': 1, 'cryo': 1, 'tonsillectomi': 1, 'pd': 2, 'cirhhosi': 1, 'peelaway': 1, 'hemachromatosi': 1, 'precip': 1, 'hepatocyt': 1, 'perisept': 1, 'arterioven': 1, 'girth': 1, 'prusu': 1, 'disas': 1, 'paxil': 1, 'cae': 1, 'sydrom': 1, 'donepzil': 1, 'dteremin': 1, 'arenon': 1, 'lateri': 1, 'coronoari': 1, 'lllinfiltr': 1, 'mitrial': 1, 'infction': 1, 'sputem': 1, 'simvastain': 1, 'pivot': 1, 'suppliment': 1, 'ergotamin': 1, 'losartan': 1, 'mangement': 1, 'paroxetin': 1, 'flet': 1, 'rheumat': 1, 'parapneumonia': 1, \"lft'\": 1, 'tachcardia': 1, 'ureathr': 1, 'intfiltr': 1, 'thirst': 1, 'nicat': 1, 'maalox': 1, 'depr': 1, 'angina': 1, 'hc': 1, 'paint': 1, 'vaco': 1, 'intersiti': 3, 'vasodilatori': 1, 'sugget': 1, 'medoic': 1, 'dispar': 1, 'tng': 1, 'oncot': 1, 'financ': 1, 'filament': 1, 'alten': 1, 'asymmet': 1, 'ntnd': 2, 'biotic': 1, 'refrain': 1, 'promiment': 1, 'halv': 1, 'recordsno': 1, 'hemi': 2, 'medialstin': 1, 'mediatin': 1, 'crestor': 1, 'effis': 1, 'unstaedi': 1, 'humidif': 1, 'lambl': 1, 'conern': 1, 'premier': 1, 'centru': 1, 'artifactu': 2, 'meanin': 1, 'calv': 2, 'deduct': 2, 'nonerythemat': 1, 'grandaught': 1, 'insent': 1, 'excres': 1, 'dysarthria': 1, 'invok': 1, 'wander': 1, 'shore': 1, 'wheezez': 1, 'enifit': 1, 'succinyulcholin': 1, 'meastat': 1, 'paramediastin': 1, 'consciou': 1, 'compars': 1, 'negoti': 1, 'hemoperitoneum': 1, 'periaort': 1, 'kump': 1, 'thoroughli': 1, 'mate': 1, 'frog': 1, 'trachestomi': 1, 'upr': 1, 'peristals': 1, 'trak': 1, 'larazepam': 1, 'evlaut': 1, 'cjmt': 1, 'pleae': 1, 'calculu': 1, 'pelvocalic': 1, 'vancopmycin': 1, 'gmpd': 1, 'myocytoma': 1, 'trapezoid': 1, 'mycetoma': 1, 'ununit': 1, 'nephrot': 1, 'nifedipin': 1, 'undecid': 1, 'isusu': 1, 'nep': 1, 'besyl': 1, 'satisfact': 1, 'intot': 1, 'acuiti': 1, 'polydipsia': 1, 'avium': 1, 'calcitonin': 1, 'miacalcin': 1, 'salmon': 1, 'undiagnos': 1, 'mac': 2, 'precedex': 1, 'wretch': 1, 'fati': 1, 'welcom': 1, 'lightheaded': 1, 'mycobacterium': 1, 'dexmedetomidin': 1, 'pda': 2, 'spondylosi': 1, 'bronchopneumonectomi': 1, 'rough': 1, 'fluild': 1, \"leni'\": 1, 'dehis': 1, 'admidaton': 1, 'azythro': 1, 'squameou': 1, 'stabilil': 1, 'disinclin': 1, 'bronchopleur': 2, 'bronchopulmonari': 1, 'cortosol': 1, 'driver': 1, 'coll': 1, 'solmederol': 1, 'detal': 1, 'reasaon': 1, 'amidaron': 1, 'exel': 1, 'amiodarin': 1, 'hyperpotassemia': 1, 'pnenmonectomi': 1, 'minimz': 1, 'spectral': 1, 'uni': 1, 'repiatori': 1, 'acidosisi': 1, 'ers': 1, 'prom': 1, 'uncomfortbal': 1, 'respriatori': 1, 'emphasi': 1, 'intersti': 2, 'reconfirm': 1, 'hypoton': 1, 'memeb': 1, 'faclid': 1, 'xcray': 1, 'maintiain': 1, 'tremiti': 1, 'aarom': 1, 'arranag': 1, 'disintigr': 1, 'cea': 2, 'ventiat': 1, 'defintit': 1, 'gtibe': 1, 'tyloenol': 1, 'enitr': 1, 'currentt': 1, 'indefinit': 1, 'axtreonam': 1, 'clinical': 1, 'reclarifi': 1, 'neet': 1, 'depenc': 1, 'simultaen': 1, 'pege': 1, 'hypertent': 1, 'ywca': 1, 'midax': 1, 'loudest': 1, 'yoga': 1, 'aztreonum': 1, 'closelyt': 1, 'resussit': 1, 'secrit': 1, 'mmdri': 1, 'hemodyanam': 1, 'tachynpea': 1, 'exac': 1, 'mmt': 1, 'anaphylaxi': 1, 'thereof': 1, 'extract': 2, 'mute': 1, 'tommorow': 1, 'monitorec': 1, 'althoug': 1, 'arom': 1, 'lmn': 1, 'solumedtrol': 1, 'performac': 1, \"family'\": 1, 'desaturateion': 1, 'derang': 1, 'dermat': 1, 'rsvi': 1, 'pite': 1, 'reticularnodular': 1, 'dhghfhdlhkl': 1, 'lactalos': 1, 'presenti': 1, 'ascrib': 1, 'mimic': 2, 'updatefamili': 1, 'subglottal': 1, 'sedret': 1, 'cxc': 1, 'locomot': 1, 'unrespos': 1, 'unspeci': 1, 'roadtrip': 1, 'tingu': 1, 'conisd': 1, 'vvia': 1, 'atrio': 2, 'fev': 1, 'tbm': 1, 'juxtahilar': 1, 'hemoptisi': 1, 'thalassemia': 1, 'revealedt': 1, 'thallasemia': 1, 'donepizil': 1, 'ctr': 2, 'unrepons': 1, 'mutlifoc': 1, 'tropi': 1, 'airborn': 2, 'alkalos': 1, 'calvaria': 1, 'ileocec': 1, 'tuberculosi': 2, 'stom': 1, 'nari': 1, 'crown': 1, 'radio': 1, 'pector': 2, 'opaqu': 1, 'gunshot': 1, 'dental': 1, 'downtrend': 1, 'gangren': 1, 'tendon': 1, 'respodn': 1, 'antacid': 1, 'aspiratin': 1, 'pulsat': 1, 'reaccess': 1, 'magnesia': 1, 'steadal': 1, 'hospis': 1, 'pigment': 1, 'baslin': 1, 'antidot': 1, \"alzheimer'\": 1, 'cafeteria': 1, 'blancheabl': 1, 'comtinu': 1, 'iddm': 1, 'myasthenia': 1, 'resorpt': 1, 'zyosyn': 1, 'pyridostigmin': 1, 'protamin': 1, 'dti': 1, 'brachioradiali': 1, 'presistantli': 1, 'thrussh': 1, 'pmb': 1, 'grape': 1, 'uppper': 1, 'liekli': 1, 'cart': 1, 'novolin': 1, 'conceiv': 1, 'peumothorax': 1, 'hyperemia': 1, 'proc': 1, 'reidentifi': 1, 'pneumotharax': 1, 'subcutaen': 1, 'subseg': 1, 'smooth': 1, 'rjab': 1, 'pw': 1, 'nmka': 1, 'cervicothorac': 1, 'interlobular': 1, 'slice': 1, 'targetoid': 1, 'atrioventricular': 1, 'rahni': 1, 'circular': 1, 'arter': 1, 'streptococcu': 1, 'likel': 1, 'cryptococcosi': 1, 'suprasellar': 1, 'scalp': 1, 'perpher': 1, 'diag': 1, 'tel': 1, 'cryptococcu': 1, 'arthralgia': 1, 'tdi': 1, 'subactu': 1, 'respirophas': 1, 'donor': 2, 'irrhythm': 1, 'nob': 1, 'sugggest': 1, 'andcvc': 1, 'arrthym': 1, 'ventilaiton': 1, 'twelv': 1, 'dissoci': 1, 'maximin': 1, 'tomak': 1, 'abdomn': 1, 'grant': 1, 'mbi': 1, 'thickedn': 1, 'pulmnonari': 1, 'midazalam': 1, 'muscos': 1, 'splenomeg': 1, 'kitchen': 1, 'emv': 1, 'inter': 1, 'critaid': 1, 'lover': 1, 'bmv': 1, 'prodiv': 1, 'settign': 1, 'scrap': 1, 'hme': 1, 'mtb': 1, 'friabil': 1, 'fibriogen': 1, 'friablilti': 1, 'afp': 1, 'chrnic': 1, 'sulfameth': 1, 'dollar': 1, 'trimetoprim': 1, 'mivf': 1, 'sphincterotomi': 1, 'burn': 1, 'lowerin': 1, 'ndg': 1, 'macer': 1, 'rhoncrou': 1, 'pcr': 1, 'frompt': 1, 'myelosuppress': 1, '$': 1, 'corticosteroid': 1, 'transpulmon': 1, 'echymos': 1, 'leve': 1, 'intrpulmonari': 1, 'choledocolithiasi': 1, 'sah': 1, 'paresi': 1, 'underwhelm': 1, 'flight': 1, 'tall': 1, 'goutm': 1, 'cce': 1, 'salvag': 1, 'dimension': 1, 'atheromat': 1, 'sdh': 1, 'llb': 1, 'npne': 1, 'unclot': 1, 'arteriographi': 1, 'mwf': 1, 'usus': 1, 'aphac': 1, 'prozac': 1, 'gadolinium': 1, 'wellbutrin': 1, 'fuel': 1, 'patientpenicillin': 1, 'panc': 1, 'pmeumonia': 1, 'macrolid': 1, 'hydromorphon': 1, 'gemzar': 1, 'gastroparesi': 1, 'colicki': 1, 'worsten': 1, 'umb': 1, 'cyberknif': 1, 'inn': 1, 'rhonchu': 1, 'mucinex': 1, 'failuir': 1, 'lypmhangit': 1, 'dalilah': 1, 'guaifenisin': 1, 'perspect': 1, 'spb': 1, 'bedsidepronounc': 1, 'im': 1, 'summar': 1, 'bedisd': 1, 'sicua': 1}, 'pneumonia_alive': {'contraind': 360, 'product': 536, 'pic': 84, 'conclus': 290, 'rv': 258, 'frequent': 374, 'futher': 19, \"'s\": 711, 'difficulti': 326, 'green': 106, 'qualiti': 322, 'diagnosi': 851, 'pattern': 282, 'cxr': 545, 'st': 515, 'tendon': 13, 'gu': 460, 'use': 521, 'variant': 37, 'enlarg': 430, 'bsa': 236, 'transfer': 630, 'suggest': 582, 'anasarca': 74, 'hypokinesi': 93, 'good': 567, 'v': 392, 'cooper': 284, 'blood': 576, 'limit': 539, 'cx': 390, 'deni': 453, 'overload': 256, 'doppler': 388, 'ivf': 453, 'ambien': 41, 'hungri': 35, 'imag': 721, 'multipl': 514, 'request': 267, 'ls': 460, 'juic': 28, 'fe': 35, 'reason': 873, 'weight': 528, 'prophylaxi': 349, 'adequ': 525, 'fals': 14, 'sat': 722, 'lesion': 363, 'le': 183, 'new': 697, 'integ': 65, 'nsg': 167, 'unremark': 350, 'rt': 262, 'treat': 397, 'exclud': 382, 'signific': 605, 'increas': 822, 'diagnost': 225, 'systol': 480, 'process': 392, 'lab': 577, 'color': 475, 'larg': 562, 'height': 490, 'hemodynam': 487, 'interpret': 326, 'mid': 569, 'yellow': 491, 'circumferenti': 23, 'thick': 542, 'edema': 741, '@': 435, 'voltag': 155, 'progress': 612, 'diffus': 438, 'caridomyopathi': 1, 'lung': 903, 'failur': 476, 'alert': 514, 'n': 409, '(': 1005, 'today': 664, 'spleen': 186, 'leaflet': 273, 'mm': 558, 'without': 687, 'leav': 107, 'qd': 121, 'decreas': 604, 'grade': 205, 'fluid': 718, 'consult': 357, 'bp': 760, 'pend': 497, 'picc': 378, 'trip': 17, 'dyspnea': 328, 'lt': 128, 'consist': 636, 'neg': 494, 'back': 537, 'lead': 345, 'thicken': 411, 'p': 844, 'continu': 724, 'famili': 591, 'much': 359, 'due': 678, 'adjust': 182, 'ventricular': 491, 'ep': 28, 'ever': 9, 'motion': 364, 'see': 526, 'tach': 49, 'urin': 669, 'stabl': 791, 'review': 599, 'harrt': 2, 'pulmon': 188, 'patchi': 212, 'intak': 235, 'ct': 617, 'echocardiograph': 98, 'stay': 197, 'trace': 670, 'rr': 626, 'bibasilar': 301, 'gerd': 83, 'histori': 810, 'rare': 188, 'stool': 632, 'npn': 284, 'sm': 207, ']': 427, 'festiv': 1, 'base': 779, 'statu': 861, 'x': 771, 'sampl': 146, 'wave': 411, 'indic': 849, 'bracial': 1, 'seen': 785, 'remov': 471, 'f': 494, 'amber': 107, 'appetit': 139, 'clear': 782, 'ns': 360, 'md': 523, 'symphysi': 46, 'effect': 461, 'evid': 702, 'axial': 254, 'ground': 177, 'code': 583, 'sepsi': 230, 'felt': 164, 'white': 329, 'adren': 175, 'thrombu': 131, 'depress': 232, 'coron': 171, 'clindamycin': 37, 'cv': 669, 'rest': 457, 'higher': 117, 'occasion': 328, 'copiou': 159, 'call': 554, 'breath': 645, 'valv': 370, 'ha': 906, 'yesterday': 453, 'date': 670, 'right': 972, 'septic': 100, 'asymptomat': 85, 'pleasant': 204, 'size': 685, 'induc': 87, 'br': 22, 'note': 885, 'field': 318, 'output': 334, 'cathet': 501, 'rhythm': 656, 'ok': 172, 'bowel': 570, 'rf': 23, 'antecub': 23, 'hr': 808, 'pnd': 98, 'tte': 305, 'tamponad': 47, 'tmax': 459, 'soft': 703, 'final': 876, 'pancrea': 158, 'biaxin': 1, 'oob': 352, 'weak': 310, 'unabl': 451, 'could': 493, 'opac': 661, 'old': 918, 'studi': 754, 'liquid': 342, 'may': 654, 'endstag': 1, 'cardiomyopathi': 41, 'mass': 319, 'eat': 204, 'ventricl': 350, 'nontend': 94, 'excurs': 79, 'underli': 290, 'reaction': 314, 'admit': 928, 'qr': 107, 'allow': 210, 'l': 763, 'therapi': 300, 'none': 536, 'chf': 330, 'view': 511, 'lv': 245, 'singl': 426, 'sever': 621, 'orient': 503, 'resp': 651, 'diff': 222, 'woman': 385, 'result': 579, 'assist': 375, 'abl': 525, 'comparison': 767, 'sent': 561, 'left': 971, 'attenu': 67, 'wall': 437, 'possibl': 682, 'regurgit': 278, 'uo': 226, 'dilat': 415, 'aortic': 391, 'test': 388, 'requir': 554, 'better': 415, 'mildli': 409, 'hiv': 63, 'normal': 849, 'neuro': 569, 'extent': 138, 'one': 486, 'moder': 648, 'liver': 260, 'area': 552, 'etiolog': 234, 'baselin': 432, 'shift': 551, 'tachycard': 175, 'gland': 145, 'artifact': 182, 'nuero': 22, 'ate': 46, 'upper': 731, 'pulmonari': 827, 'involv': 293, 'plan': 683, 'state': 377, 'social': 494, 'mark': 273, 'cap': 163, 'limb': 131, 'condit': 875, 'sputum': 549, 'mdct': 152, 'remain': 738, 'prior': 824, 'contrast': 593, 'po': 648, 'event': 483, '%': 832, 'slightli': 559, 'margin': 125, 'effus': 838, 'system': 432, 'tissu': 284, 'cc': 645, 'coars': 409, 'regular': 358, 'wa': 905, 'bpm': 529, 'avoid': 138, 'persist': 524, 'day': 675, 'physiolog': 185, 'estim': 171, '&': 759, 'appl': 39, 'onset': 93, 'throughout': 532, 'suspici': 170, 'pcv': 7, 'tv': 157, 'patent': 424, 'crackl': 389, 'infecti': 232, 'flatten': 41, 'id': 418, 'sleep': 398, 'delay': 162, 'year': 906, 'initi': 447, 'pelvi': 178, 'outpati': 135, 'feel': 316, 'loos': 232, 'strength': 164, 'sob': 532, '[': 430, 'tx': 307, 'follow': 720, 'line': 733, 'sauc': 23, 'levo': 181, 'concern': 483, 'comment': 461, 'site': 295, 'administr': 243, 'pedal': 140, 'chair': 325, 'prespar': 2, 'cours': 437, 'infarct': 248, 'global': 176, 'cough': 676, 'cardiomegali': 256, 'larger': 110, 'inform': 489, 'need': 683, 'spec': 121, 'abdomin': 444, 'commod': 94, 'c': 778, 'access': 497, 'kidney': 248, 'toler': 634, 'night': 460, 'inflammatori': 87, 'haart': 18, 'evalu': 778, 'micu': 575, 'foley': 541, 'frothi': 41, 'medic': 956, 'reconstruct': 68, 'secret': 435, 'cold': 50, 'mac': 12, 'anterior': 345, 'bs': 596, 'bilater': 719, 'earli': 270, 'techniqu': 515, 'predominantli': 96, 'admiss': 437, 'chang': 980, 'exam': 513, 'strand': 47, 'lasix': 354, 'u': 574, 'mg': 632, 'within': 541, 'ra': 381, 'skin': 664, 'hypotens': 319, 'presenc': 112, 'nausea': 204, 'bactrim': 77, 'major': 144, 'airspac': 127, 'midnight': 156, 'myocardi': 168, 'veri': 539, 'free': 499, 'absent': 249, 'poor': 441, 'time': 801, 'also': 734, 'palpabl': 159, '#': 982, 'npo': 408, 'pleural': 753, 'amount': 496, 'antibiot': 485, 'pain': 680, 'ob': 89, 'structur': 370, 'colon': 169, 'sign': 496, 'side': 609, 'abx': 483, 'overnight': 490, 'gi': 567, 'pr': 204, 'show': 508, 'unsteadi': 21, 'arteri': 625, 'interv': 673, 'cranberri': 4, 'pa': 418, 'pleas': 669, 'pt': 729, 'collect': 164, 'start': 572, 'sclerot': 105, 'clamp': 74, 'amt': 540, 'thi': 1024, 'abdomen': 553, 'last': 583, 'atelectasi': 533, 'pericardi': 407, 'tachycardia': 390, 'repres': 405, 'abd': 599, 'sip': 118, 'leak': 165, 'pericardium': 257, 'secondari': 331, 'renal': 372, 'precordi': 101, 'watch': 107, 'elev': 528, 'per': 617, 'focus': 50, 'glass': 179, 'clinic': 587, 'yr': 153, 'discomfort': 230, 'onc': 306, 'contact': 358, 'caviti': 320, 'hg': 305, 'low': 709, 'rel': 184, 'ectopi': 402, 'dri': 352, 'anzemet': 6, 'pass': 292, 'nurs': 527, 'tricuspid': 262, 'although': 384, 'lb': 256, 'protocol': 188, 'pmh': 390, 'wors': 177, 'vtach': 12, 'report': 934, 'perspect': 7, 'cardiac': 664, 'compar': 793, 'mitral': 313, 'pubi': 5, 'small': 773, 'place': 726, 'allerg': 27, 'gait': 73, 'non': 755, 'gener': 547, '>': 710, 'osseou': 210, 'urg': 6, 'drink': 134, 'ill': 271, 'high': 490, 'pcp': 148, 'ginger': 8, 'probabl': 459, 'boost': 29, 'puls': 532, 'sagitt': 161, 'pm': 869, 'w': 820, 'patient': 869, 'bone': 218, 'desensit': 3, 'port': 348, 'coliti': 50, 'monitor': 688, 'law': 35, 'mr': 402, 'tr': 245, 'otherwis': 429, 'diminish': 486, 'abnorm': 515, 'lytic': 133, 'sptum': 2, 'cont': 719, 'balanc': 401, 'technic': 304, 'around': 300, 'previou': 774, 'dose': 572, 'afebril': 541, 'defin': 95, 'iv': 811, 'intact': 442, 'typhliti': 3, 'ambul': 163, 'obtain': 651, 'r': 770, 'impress': 852, 'anoth': 175, 'team': 493, 'daughter': 231, 'clip': 821, 'eve': 109, 'bedsid': 352, 'temp': 382, 'mother': 102, 'find': 853, 'current': 625, 'correl': 281, 'affect': 91, 'bladder': 172, 'minim': 527, 'atrium': 362, 'aid': 96, 'hsv': 16, 'ef': 158, 'take': 439, 'gallbladd': 166, ')': 1005, 'mild': 707, 'pressur': 447, 'med': 597, 'greater': 256, 'femal': 269, 'specif': 362, 'lack': 97, 'crf': 26, 'pvc': 241, 'ox': 221, 'examin': 921, 'pneumonia': 939, 'full': 650, 'command': 522, 'sinu': 725, 'nutrit': 375, 'sound': 587, 'window': 181, 'ale': 9, 'ab': 79, 'hypertens': 428, 'hodgkin': 7, 'unchang': 787, 'diseas': 456, 'rate': 660, 'atrial': 417, 'bioprosthet': 15, 'calcif': 325, 'contract': 104, 'ap': 749, 'transesophag': 14, 'prosthesi': 32, 'region': 402, 'endocard': 96, 'fascicular': 52, 'space': 191, 'echocardiographi': 18, 'best': 84, 'lymphoma': 24, 'inpati': 257, 'preserv': 124, 'ps': 318, 'stabil': 107, 'exist': 128, 'biventricular': 75, 'multifoc': 226, 'chamber': 203, 'symmetr': 305, 'prolaps': 121, 'la': 229, 'avr': 21, 'prematur': 157, 'heart': 738, 'surgeri': 347, 'fat': 82, 'similar': 264, 'promin': 349, 'fibril': 200, 'chest': 929, 'fever': 470, 'retrocardiac': 231, 'annular': 105, 'hypertrophi': 176, 'gradient': 194, 'ascend': 203, 'h': 558, 'ray': 232, 'pneumothorax': 545, 'supraventricular': 24, 'implic': 42, 'pre': 229, 'interatri': 211, 'recommend': 407, 'suboptim': 149, 'portabl': 784, 'aha': 44, 'aorta': 412, 'borderlin': 221, 'mat': 12, 'locul': 114, 'complet': 524, 'septum': 219, 'lvot': 159, 'function': 452, 'cavoatri': 115, 'lvh': 100, 'level': 604, 'regard': 224, 'coexist': 12, 'extens': 304, 'echo': 308, 'junction': 229, 'radiograph': 592, 'thre': 2, 'cm': 604, 'pad': 83, 'present': 850, 'though': 361, 'mvp': 100, 'silhouett': 382, 'data': 553, 'placement': 561, 'decis': 169, 'like': 713, 'end': 273, 'man': 516, 'suprastern': 4, 'tee': 49, 'block': 184, 'appear': 821, 'trivial': 171, 'diamet': 242, 'sinc': 788, 'lvef': 277, 'feed': 327, 'make': 313, 'attempt': 390, 'drape': 85, 'manag': 351, 'flouroscop': 11, 'hypercarbia': 42, 'bell': 21, 'wob': 77, 'letharg': 171, 'poorli': 78, 'monday': 106, 'map': 260, 'tlcl': 34, 'read': 395, 'put': 232, 'intent': 14, 'remaind': 170, 'speech': 262, 'tourniquet': 3, 'drastic': 3, 'supin': 248, 'blue': 29, 'disscuss': 5, 'plam': 2, 'wasreat': 1, 'occlud': 24, 'svt': 57, 'effici': 1, 'speek': 3, 'extern': 41, 'air': 485, 'posit': 668, 'cardovascular': 1, 'avl': 23, 'centr': 2, 'voic': 230, 'anti': 92, 'facil': 120, 'apnea': 92, 'portex': 61, 'analysi': 100, 'satisfactori': 104, 'lift': 104, 'deceas': 5, 'vss': 153, 'basil': 114, 'nuten': 2, 'avail': 324, 'pinkish': 12, 'ulcer': 355, 'ambu': 33, 'asleep': 143, 'cdi': 36, 'diminsh': 54, 'effort': 126, 'withou': 2, 'angiographi': 45, 'determin': 184, 'remeron': 6, 'tidal': 131, 'aspir': 466, 'devic': 416, 'muscl': 224, 'splint': 25, 'compens': 62, 'pink': 147, 'altern': 118, 'drop': 382, 'order': 557, 'hand': 216, 'htn': 287, 'fellow': 92, 'oper': 72, 'asynchron': 4, 'brufen': 1, 'secur': 158, 'maneuv': 43, 'proxim': 172, \"''\": 265, 'track': 126, 'compress': 255, 'freq': 159, 'mod': 258, 'bolus': 252, 'rotat': 113, 'mandatori': 2, 'venodyn': 21, 'touch': 121, 'timeout': 88, 'ascertain': 8, 'inlin': 11, 'oriet': 1, 'realli': 42, 'albuterol': 288, 'insicion': 1, 'secretiona': 1, 'servic': 395, 'local': 197, 'got': 141, 'asept': 7, 'usual': 187, 'somnul': 7, 'vs': 423, 'cines': 1, 'ij': 205, 'sc': 207, 'peep': 262, 'look': 208, 'patch': 109, 'improv': 754, 'longer': 184, 'vvg': 1, 'simv': 24, 'anxiou': 228, \"pt'\": 13, 'psv': 227, 'spike': 154, 'repond': 7, 'cl': 78, 'readi': 203, 'autocorrect': 2, 'geet': 1, 'given': 728, 'accordingli': 58, 'worsen': 516, 'volum': 491, 'screen': 158, 'recent': 559, 'yellowish': 43, 'lami': 3, 'min': 512, 'selding': 4, 'cpt': 219, 'reposit': 226, 'spo': 438, 'ho': 139, 'seveal': 1, 'addit': 540, 'red': 186, 'head': 442, 'mso': 43, 'prefer': 58, 'gag': 169, 'nt': 257, 'switch': 178, 'open': 285, 'close': 327, 'puff': 33, 'ms': 303, 'paus': 27, 'whit': 2, 'meropenem': 64, 'labil': 85, 'get': 420, 'meet': 188, 'center': 45, 'yankour': 4, 'incid': 117, 'loss': 237, 'fluse': 2, 'overlaid': 2, 'notifi': 191, 'prn': 458, 'mtg': 27, 'infus': 422, 'hct': 498, 'dopa': 17, 'abov': 556, 'fusion': 27, 'lavag': 65, 'posb': 1, 'prbc': 109, 'setret': 1, 'top': 111, 'unev': 109, 'awar': 377, 'rash': 251, 'clog': 19, 'tonight': 204, 'rhonchi': 250, 'statlock': 25, 'easili': 236, 'therapist': 52, 'undisturb': 7, 'spont': 102, 'quad': 54, 'everi': 102, 'complaint': 359, 'sbp': 421, 'deliv': 16, 'drain': 586, 'english': 49, 'prognosi': 68, 'hi': 483, 'tan': 230, 'burst': 25, 'mae': 304, 'lidocain': 128, 'alreadi': 99, 'modifi': 18, 'troubl': 33, 'lobe': 666, 'neck': 249, 'respeat': 1, 'universla': 1, 'bb': 113, 'repeat': 425, 'cath': 293, 'ltc': 3, 'anxieti': 195, 'bm': 396, 'requisit': 6, 'doe': 546, '``': 301, 'rang': 295, 'trazadon': 33, 'accept': 145, 'waken': 8, 'french': 108, 'via': 514, 'tender': 386, 'sedat': 322, 'pmv': 90, 'doubl': 117, 'va': 72, 'redden': 99, 'unless': 71, 'oral': 456, 'done': 488, 'less': 470, 'toilet': 252, 'address': 100, 'bed': 499, 'translat': 34, 'stat': 54, 'fib': 137, 'diagnos': 84, 'except': 435, 'infiltr': 541, 'lower': 759, 'wake': 125, 'agress': 31, 'nose': 232, 'fluor': 17, 'desatur': 160, 'ahead': 7, 'vein': 357, 'reciev': 132, 'object': 247, 'perrla': 80, 'tabl': 70, 'peripher': 475, 'written': 115, 'yo': 382, 'brisk': 102, 'spit': 24, '^': 93, 'achiev': 70, 'ketoconazol': 2, 'normalizes': 1, 'softli': 73, 'goal': 394, 'tripl': 94, 'ten': 15, 'chines': 10, 'distend': 389, 'friday': 50, 'guidanc': 148, 'reassess': 86, 'set': 565, 'dist': 21, 'art': 69, 'sourc': 255, 'rilutek': 1, 'earlier': 322, 'distal': 317, 'sediment': 109, 'becam': 237, 'foot': 70, 'overbreath': 63, 'describ': 182, 'suction': 336, 'dure': 460, 'reach': 116, 'water': 234, 'bronchodil': 74, 'next': 280, 'paplabl': 2, 'found': 314, 'inflat': 42, 'trial': 194, 'bolu': 354, 'midodrin': 5, 'rue': 67, 'hydrat': 110, 'wear': 111, 'buzzer': 1, 'ibuprofen': 27, 'control': 466, 'q': 552, 'difficult': 376, 'intervent': 192, 'let': 61, 'turn': 341, 'approxim': 245, 'tlc': 95, 'medial': 100, 'pump': 54, 'intravascular': 20, 'abras': 70, 'intub': 412, 'awaken': 49, 'hemo': 15, 'encount': 5, 'apneic': 38, 'rhoncher': 45, 'drawn': 192, 'suitabl': 25, 'whez': 4, 'bilat': 330, 'recov': 98, 'mdi': 177, 'depriv': 6, 'tip': 500, 'almost': 92, 'susp': 7, 'scat': 6, \"'d\": 324, 'fairli': 113, 'ot': 82, 'minut': 338, 'nova': 4, 'cmh': 154, 'yankeur': 27, 'teen': 128, 'schedul': 169, 'seal': 71, 'incont': 34, 'vancomycin': 277, 'oxygen': 321, 'lido': 12, 'identifi': 380, 'two': 358, 'know': 138, 'desat': 268, 'drift': 34, 'flush': 219, 'complic': 317, 'refus': 152, 'xylocain': 1, 'east': 20, 'al': 12, 'sulfat': 118, 'subclavian': 216, 'meropenum': 32, 'verifi': 40, 'light': 178, 'episod': 346, 'lip': 114, 'known': 421, 'aerat': 206, 'neruo': 8, 'needl': 93, 'pna': 714, 'toller': 20, 'rua': 7, 'disharg': 1, 'abduct': 6, 'mouth': 284, 'stenosi': 265, 'qs': 69, 'cvp': 175, 'past': 361, 'boot': 212, 'tol': 263, 'nd': 228, 'support': 581, 'transfus': 154, 'advanc': 379, 'heal': 103, 'ess': 13, 'success': 213, 'weaker': 16, 'immobl': 14, 'dr': 525, 'co': 372, 'measur': 348, 'dual': 47, 'brief': 121, 'nap': 83, 'respect': 62, 'titrat': 228, 'grimac': 67, 'wean': 491, 'thigh': 67, 'ir': 109, 'detail': 278, 'emg': 10, 'irrig': 34, 'employ': 22, 'wnl': 343, 'go': 301, 'receiv': 600, 'acut': 596, 'afternoon': 351, 'son': 263, 'ronchi': 43, \"o'clock\": 4, 'perrl': 275, 'pp': 79, 'multipodu': 25, 'rm': 24, 'longterm': 10, 'pick': 72, 'peg': 172, 'check': 469, 'flang': 10, 'wheez': 400, 'rehab': 252, 'superior': 203, 'visit': 322, 'j': 68, 'intial': 21, 'tracheostomi': 149, 'careview': 109, 'neuromuscular': 12, 'secrect': 17, 'clot': 149, 'care': 655, 'flowsheet': 440, 'elbow': 39, 'supervis': 168, 'vena': 111, 'mmv': 28, 'fashion': 84, 'plct': 92, 'lamonectomi': 1, 'movement': 416, 'spinal': 64, 'still': 454, 'ring': 35, 'trach': 147, 'someth': 44, 'trend': 289, \"n't\": 160, 'transient': 137, 'extrem': 567, 'perl': 74, 'cuff': 198, 'laminectomi': 15, 'mostli': 167, 'semi': 128, 'tylenol': 257, 'ortho': 18, 'central': 380, 'lumen': 246, 'douderm': 9, 'keep': 346, 'fentanyl': 201, 'deep': 303, 'rhonchor': 169, 'later': 563, 'slept': 219, 'draw': 147, 'brush': 8, 'tri': 262, 'onto': 45, 'awok': 37, 'extremeti': 49, 'week': 276, 'morn': 372, 'problem': 215, 'alb': 123, 'seet': 1, 'rig': 1, 'blb': 27, 'tf': 441, 'often': 60, 'complain': 113, 'warm': 349, 'exercis': 63, 'buffer': 10, 'certain': 15, 'vbg': 50, 'axilla': 41, 'noc': 143, 'eye': 367, 'vent': 279, 'breathsound': 29, 'cvbg': 1, 'guidewir': 81, 'sx': 214, 'obey': 35, 'simpl': 337, 'afer': 2, 'hd': 105, 'precaut': 434, 'rul': 166, 'point': 265, 'thin': 336, 'vol': 125, 'venipunctur': 12, 'sch': 100, 'hco': 49, 'happi': 27, 'long': 255, 'previous': 317, 'pillow': 54, 'rsbi': 210, \"tf'ing\": 10, 'transport': 138, 'approp': 26, 'chronic': 454, 'posiiton': 1, 'vt': 213, 'pneomoboot': 1, 'abg': 507, 'well': 813, 'clean': 122, 'sigh': 6, 'feet': 117, 'intermitt': 268, 'sl': 147, 'occlus': 65, 'medecin': 1, 'duoderm': 69, 'section': 259, 'retrograd': 4, 'wait': 111, 'uncomfort': 83, 'notiifi': 1, 'static': 20, 'cd': 90, 'respir': 103, 'exp': 195, 'question': 455, 'restart': 341, 'fill': 190, 'evaul': 2, 'sxing': 48, 'nbp': 135, 'button': 18, 'gd': 31, 'appropri': 416, 'sicu': 119, 'ph': 146, 'send': 168, 'carevu': 225, 'worn': 9, 'seem': 264, 'oligur': 19, 'assess': 739, 'bump': 58, 'ac': 212, 'appli': 289, 'includ': 524, 'pulm': 351, 'howev': 495, 'transpar': 20, 'tegaderm': 25, 'apap': 12, 'caudal': 10, 'nsr': 348, 'second': 167, 'sore': 72, 'descript': 45, 'issu': 279, 'acid': 241, 'stock': 6, 'awak': 330, 'held': 307, 'max': 262, 'perform': 535, 'respons': 548, 'reduc': 183, 'encourag': 329, 'respond': 399, 'approach': 93, 'updat': 336, 'icu': 479, 'cava': 109, 'pill': 125, 'thk': 21, 'becaus': 176, 'remark': 57, 'reflex': 92, 'cpap': 253, 'dim': 162, 'placment': 105, 'cervic': 161, 'tube': 539, 'made': 523, 'respi': 8, 'approx': 210, 'novac': 1, 'mip': 9, 'sxed': 5, 'frustrat': 34, 'return': 305, 'mcg': 253, 'punctur': 74, 'nh': 62, 'scv': 7, 'prep': 110, 'replct': 85, 'tingl': 51, 'deminish': 20, 'ativan': 185, 'special': 19, 'dorsal': 6, 'sr': 467, 'increa': 7, 'ask': 258, 'spong': 14, 'understand': 138, 'apex': 132, 'guid': 141, 'dopamin': 23, 'equal': 147, 'colac': 156, 'secr': 11, 'lowest': 18, 'lg': 141, 'bag': 116, 'comfort': 410, 'forearm': 53, 'wide': 115, 'alarm': 102, 'convers': 130, 'whole': 73, 'three': 173, 'dispo': 203, 'period': 245, 'anesthesia': 154, 'procedur': 497, 'integr': 112, 'tk': 3, 'spontan': 273, 'speak': 228, 'ultrasound': 268, 'ivb': 16, 'befor': 291, 'discuss': 451, 'lo': 153, 'pale': 149, 'ani': 515, 'fio': 469, 'moment': 19, 'dress': 237, 'aggress': 197, 'run': 189, 'confirm': 334, 'work': 288, 'drainag': 198, 'venou': 360, 'criteria': 102, 'th': 93, 'hemmodynam': 1, 'cent': 26, 'resolv': 398, 'mode': 200, 'short': 436, 'discharg': 228, 'becom': 246, 'staff': 148, 'move': 380, 'residu': 355, 'us': 224, 'tailor': 55, 'arm': 304, 'hour': 579, 'distress': 453, 'siginificantli': 2, 'alter': 200, 'even': 400, 'secreion': 2, 'arous': 232, 'ventil': 296, 'impair': 187, 'mani': 102, 'mv': 84, 'rn': 336, 'acidosi': 109, 'prolong': 208, 'male': 344, 'soon': 100, 'respiratori': 647, 'maintain': 450, 'nif': 20, 'tenaci': 27, 'exit': 18, 'latest': 305, 'breakdown': 132, 'mainli': 21, 'case': 176, 'blister': 47, 'gap': 37, 'wife': 173, 'scant': 164, 'flatu': 97, 'chngd': 1, 'post': 566, 'unit': 326, 'briefli': 131, 'risk': 270, 'mechan': 187, 'mucu': 59, 'room': 257, 'insomnia': 24, 'round': 273, 'ted': 4, 'hold': 385, 'b': 448, 'commun': 446, 'carri': 12, 'tent': 181, 'granddaught': 11, 'dc': 216, \"'\": 157, 'nonspecif': 107, '<': 316, 'treatment': 356, 'vari': 55, 'nutren': 76, 'leg': 228, 'await': 347, 'motrin': 30, 'morphin': 169, 'brown': 254, 'collar': 72, 'suct': 55, 'tomorrow': 297, 'vanco': 386, 'word': 126, 'oclock': 1, 'pedi': 38, 'inhal': 138, 'onli': 469, 'anatomi': 19, 'relief': 135, 'cmv': 104, 'pmicu': 49, 'immedi': 198, 'excess': 39, 'capac': 50, 'sheet': 117, 'develop': 323, 'abp': 83, 'length': 142, 'insert': 216, 'say': 105, 'floor': 534, 'pmr': 2, 'distinct': 55, 'symptom': 193, 'smaller': 102, 'flow': 542, 'mll': 2, 'hygien': 78, 'svc': 351, 'nice': 14, 'fact': 28, 'basal': 162, 'ad': 199, 'humidif': 10, 'attribut': 73, 'answer': 189, 'pace': 88, 'radial': 379, 'angl': 150, 'extend': 226, 'onrt': 2, 'food': 165, 'cabg': 71, 'lock': 45, 'poc': 121, 'activ': 380, 'fit': 30, 'info': 49, 'tid': 230, 'av': 62, 'lat': 244, 'coverag': 305, 'neb': 418, 'imposs': 13, 'midlin': 211, 'termin': 302, 'alin': 139, 'nonproduct': 87, 'ting': 174, 'lpm': 85, 'humalog': 68, 'lnc': 109, 'independ': 101, 'differ': 294, 'vi': 40, 'rais': 193, 'followup': 179, 'azithro': 69, 'ss': 139, 'cover': 265, 'mist': 61, 'rec': 251, 'diet': 478, 'atrov': 231, 'posterior': 248, 'pulmocort': 2, 'junki': 11, 'lyte': 351, 'ln': 20, 'diures': 214, 'trachea': 89, 'csm': 31, 'pnding': 30, 'therefor': 121, 'somewhat': 270, 'sit': 184, 'vomit': 139, 'transferd': 2, 'slight': 322, 'forward': 51, 'infect': 448, 'ro': 267, 'wheezez': 3, 'riss': 157, 'strong': 240, 'pupil': 182, 'stimul': 136, 'project': 211, 'enc': 66, 'deficit': 99, 'tdo': 1, 'obes': 179, 'regardless': 13, 'eff': 15, 'expans': 216, 'wire': 206, 'perihilar': 140, 'lib': 7, 'ivhl': 1, 'despit': 214, 'nvd': 6, 'quantiti': 28, 'congest': 386, 'costophren': 144, 'contninu': 4, 'occsion': 1, 'ceftaz': 29, 'either': 173, 'refil': 26, 'pul': 37, 'rx': 172, 'rail': 41, 'pnx': 42, 'toerat': 2, 'ecchymot': 31, 'diur': 5, 'ptscurrent': 1, 'heparin': 384, 'deliveri': 325, 'capillari': 17, 'mask': 348, 'mn': 168, 'k': 519, 'littl': 291, 'replac': 257, 'enough': 84, 'curv': 133, 'unproduct': 10, 'diuresi': 237, 'septal': 160, 'lopressor': 220, 'verbal': 298, 'suffici': 24, 'degre': 217, 'precis': 15, 'face': 294, 'afeb': 72, 'safeti': 144, 'nc': 470, 'breakfast': 51, 'cad': 183, 'belli': 48, 'thirsti': 26, 'consolid': 531, 'nippv': 21, 'ie': 30, 'bile': 60, 'nasal': 376, 'come': 190, 'hypokinet': 13, 'endo': 198, 'seizur': 118, 'follw': 17, 'levoph': 87, 'graviti': 72, 'rll': 286, 'conjest': 3, 'precept': 9, 'cool': 240, 'grossli': 233, 'thorac': 266, 'pulmicort': 2, 'soc': 54, 'insp': 355, 'yet': 183, 'ml': 469, 'viger': 4, 'db': 113, 'aox': 42, 'ladi': 17, 'pacemak': 71, 'expiratori': 107, 'demonstr': 423, 'swallow': 310, 'valu': 156, 'condom': 15, 'levoflox': 112, 'oxycontin': 22, 'depend': 237, 'defer': 107, 'kcl': 185, 'provid': 452, 'hx': 379, 'eval': 587, 'insist': 16, 'addendum': 341, 'brother': 61, 'phonecal': 2, 'taken': 195, 'nebh': 2, 'instead': 52, 'ed': 321, 'urgent': 12, 'explain': 188, 'vano': 3, 'awhil': 3, 'tat': 1, 'dx': 127, 'thousand': 1, 'sister': 90, 'want': 267, 'flownot': 18, 'lay': 28, 'band': 119, 'bank': 16, 'spoke': 198, 'therapeut': 114, 'father': 62, 'mor': 1, 'gave': 115, 'ama': 7, 'osh': 91, 'risperidon': 3, 'myelopdysplasia': 1, 'form': 209, 'rogor': 1, 'suppos': 15, 'supervisor': 5, 'tact': 14, 'ekg': 291, 'stress': 328, 'meq': 440, 'would': 461, 'came': 170, 'fax': 22, 'piv': 327, 'plt': 321, 'ago': 234, 'accord': 90, 'transferredback': 1, 'ischem': 112, 'iii': 43, 'phm': 2, 'disori': 49, 'propofol': 113, 'said': 85, 'kvo': 81, 'began': 77, 'mi': 119, 'mentat': 55, 'tract': 80, 'minimum': 16, 'went': 156, 'thruout': 5, 'hypox': 136, 'coop': 12, 'fs': 174, 'pretti': 12, 'superimpos': 144, 'tend': 30, 'yelow': 5, 'markedli': 117, 'xray': 102, 'lymph': 347, 'cultur': 432, 'fragil': 25, 'forget': 31, 'hospit': 311, 'appreci': 271, 'thing': 46, 'partner': 10, 'diarrhea': 171, 'pn': 11, 'ptt': 312, 'lue': 69, 'multiplanar': 124, 'whitish': 55, 'cn': 95, 'tachypn': 200, 'impos': 2, 'paranas': 66, 'escal': 31, 'factor': 68, 'calmer': 23, 'wz': 1, 'lessen': 16, 'pneumon': 106, 'venturi': 5, 'brachiocephal': 70, 'bil': 134, 'write': 49, 'hrr': 2, 'sd': 13, 'defect': 156, 'intab': 1, 'amd': 14, 'anox': 8, 'flair': 30, 'ett': 235, 'upset': 32, 'associ': 265, 'ect': 14, 'walk': 94, 'shortli': 55, 'embolu': 38, 'film': 227, 'antrum': 22, 'compat': 93, 'main': 149, 'wrist': 140, 'outflow': 17, 'upright': 327, 'liter': 278, 'choroid': 1, 'discourag': 7, 'contour': 323, 'nemb': 4, 'faint': 59, 'na': 170, 'rvfx': 1, 'hypoxia': 337, 'remind': 52, 'understandingli': 1, 'appeart': 1, 'self': 210, 'ye': 132, 'aspect': 134, 'apropri': 7, 'sleepi': 59, 'allergi': 376, 'sensit': 102, 'interven': 18, 'clonazepam': 21, 'extub': 264, 'restraint': 164, 'chip': 82, 'chain': 21, 'fen': 239, 'quiet': 93, 'req': 42, 'sinl': 1, 'reg': 122, 'fall': 190, 'narcot': 47, 'foci': 70, 'auscult': 101, 'sulci': 67, 'ivp': 164, 'globe': 6, 'extremi': 1, 'ogt': 114, 'slowli': 187, 'scatter': 209, 'opacifi': 46, 'densiti': 197, 'sxted': 8, 'bath': 86, 'alseep': 1, 'exert': 110, 'immprov': 1, 'decr': 30, 'nrm': 4, 'apologet': 1, 'interstiti': 236, 'parenchyma': 88, 'degrad': 12, 'alot': 25, 'recon': 78, 'hilar': 256, 'spastic': 8, 'toll': 4, 'begun': 37, 'angio': 42, 'hous': 119, 'catheeer': 1, 'antra': 1, 'nod': 135, 'lsubclavian': 1, 'wash': 66, 'quickli': 136, 'home': 498, 'g': 447, 'inappropri': 27, 'bleed': 276, 'tree': 55, 'inferior': 192, 'cephal': 74, 'cyanot': 15, 'clostroph': 1, 'cannula': 330, 'suscept': 22, 'direct': 171, 'relax': 68, 'significantli': 214, \"c'ed\": 65, 'mastoid': 77, 'roommat': 3, 'pneumomediastinum': 16, 'rise': 136, 'sop': 2, 'coug': 5, 'wbc': 531, 'becm': 1, 'reassur': 87, 'transmitr': 14, 'zone': 161, 'flat': 131, 'thrush': 42, 'ext': 313, 'easi': 38, 'nrb': 156, 'extubat': 9, 'midaz': 37, 'talk': 190, 'cta': 310, 'bun': 401, 'quit': 125, 'stalk': 1, 'occur': 121, 'cup': 38, 'ngt': 177, 'arriv': 234, 'subsequ': 181, 'wind': 3, 'bow': 4, 'opportunist': 9, 'dipso': 1, 'obstruct': 280, 'autodiresi': 1, 'restless': 124, 'sxn': 107, 'mediastinum': 145, 'think': 109, 'precipit': 28, 'msicu': 16, 'crise': 1, 'pituitari': 3, 'chart': 118, 'csf': 28, 'ice': 116, 'agit': 275, 'pe': 219, 'begin': 175, 'cut': 51, 'ck': 216, 'pair': 45, 'brain': 105, 'opt': 15, 'void': 163, 'remin': 3, 'deceller': 1, 'sporad': 5, 'visual': 394, 'portion': 457, 'situat': 80, 'gold': 16, 'ua': 147, 'widespread': 62, 'bipap': 126, 'rpt': 23, 'vers': 166, 'hiflow': 18, 'intercurr': 2, 'rousabl': 10, 'confluent': 78, 'unilat': 70, 'unawar': 11, 'helic': 51, 'theraput': 8, 'inf': 20, 'rad': 59, 'liq': 59, 'maxillari': 41, 'cp': 192, 'flagyl': 162, 'e': 279, 'lie': 127, 'gentleman': 37, 'idea': 14, 'instruct': 67, 'intraocular': 1, 'matter': 78, 'hardcopi': 3, 'mech': 47, 'mediastin': 410, 'settl': 84, 'nervou': 18, 'haldol': 106, 'gastric': 83, 'amnt': 23, 'acquir': 258, 'carina': 199, 'blunt': 94, 'lsc': 24, 'laryng': 81, 'rebreath': 48, 'metropolol': 4, 'sec': 84, 'cortic': 39, 'detect': 94, 'dvt': 402, 'thru': 63, 'vessel': 193, 'hyponatremia': 50, 'bite': 76, 'consider': 90, 'gpc': 67, 'psychosoc': 3, 'nonlabor': 20, 'sentenc': 41, 'antimicrobi': 35, 'autodiures': 43, 'tranfer': 15, 'extuat': 2, 'antivir': 9, 'hyperintens': 29, 'stomach': 251, 'ng': 452, 'embol': 123, 'gelatin': 4, 'restrain': 66, 'obscur': 159, 'fld': 33, 'troponin': 205, 'super': 10, 'pao': 155, 'reintub': 64, 'dissect': 40, 'incrreas': 1, 'cre': 26, 'palp': 80, 'cystic': 41, 'branch': 156, 'endotrach': 252, 'axillari': 199, 'peak': 77, 'phone': 204, 'tocycl': 1, 'cell': 240, 'et': 191, 'fo': 35, 'overal': 348, 'thereaft': 17, 'cortex': 17, 'electrolyt': 185, 'pull': 293, 'bear': 34, 'visitor': 67, 'appar': 222, 'stinul': 1, 'enhanc': 123, 'occ': 206, 'perivascular': 9, 'venti': 37, 'divid': 27, 'discret': 51, 'subsegment': 80, 'endoc': 25, 'sinus': 126, 'wheelchair': 20, 'np': 138, 'reformat': 135, 'deleri': 10, 'arch': 126, 'calm': 144, 'heterogen': 81, 'mainten': 50, 'impend': 16, 'dp': 337, 'half': 68, 'person': 185, 'ductu': 4, 'expir': 33, 'cerebr': 50, 'nystatin': 65, 'roll': 61, 'node': 217, 'incr': 44, 'root': 118, 'ionic': 31, 'contigu': 77, 'didnt': 3, 'lisinopril': 86, 'tape': 57, 'intens': 41, 'smear': 58, 'arteriosu': 4, 'cci': 10, 'conitnu': 14, 'propafol': 8, 'drip': 165, 'srr': 26, 'turgor': 5, 'opacif': 310, 'acidoi': 1, 'mobil': 121, 'closer': 32, 'dowm': 1, 'promot': 56, 'sbt': 134, 'gtt': 303, 'decent': 9, 'optiray': 186, 'brachial': 136, 'fent': 119, 'fair': 143, 'cahng': 4, 'infarc': 2, 'fentynl': 6, 'fluffi': 5, 'consid': 420, 'percocet': 59, 'name': 129, 'angiograph': 25, 'shoulder': 85, 'emot': 160, 'prostat': 68, 'entroclysi': 5, 'highli': 42, 'intraven': 237, 'highest': 8, 'slide': 261, 'conray': 13, 'stimlat': 1, 'letter': 9, 'sulcu': 22, 'overview': 2, 'ectop': 24, 'labor': 121, 'til': 22, 'powder': 65, 'gj': 21, 'combin': 136, 'applic': 43, 'massachusett': 1, 'tema': 1, 'scleraedema': 1, 'plate': 26, 'email': 18, 'tracheotomi': 19, 'alkalosi': 76, 'perhap': 53, 'bsk': 10, 'stransfus': 1, 'extravas': 16, 'dimish': 22, 'inner': 70, 'trigger': 125, 'errythem': 1, 'fluoroscopi': 45, 'meical': 1, 'incres': 6, 'angiopathi': 2, 'fb': 39, 'gastrojejunostomi': 22, 'vessicl': 2, 'scan': 258, 'clr': 25, 'bld': 109, 'resettl': 1, 'vasculatur': 114, 'gallston': 46, 'norm': 5, 'prelim': 45, 'wtih': 20, 'fri': 113, 'shiley': 14, 'eyelid': 5, 'valium': 27, 'soundli': 9, 'whose': 34, 'loop': 145, 'hung': 14, 'tomarrow': 8, 'ivab': 20, 'visibl': 102, 'pharnyx': 1, 'paramed': 4, 'risb': 12, 'diaphoret': 119, 'lr': 50, 'character': 90, 'hydronephrosi': 90, 'fine': 101, 'vue': 22, 'currenti': 1, 'insulin': 315, 'hst': 1, 'sterili': 1, 'mucousi': 6, 'content': 38, 'apc': 28, 'inh': 20, 'destruct': 40, 'reactiv': 150, 'sutur': 80, 'uneven': 1, 'tl': 18, 'middl': 208, 'shiver': 5, 'dampen': 46, \"sxn'ing\": 14, 'occassion': 46, 'ssi': 91, 'cancer': 140, 'silght': 1, 'plcmt': 15, 'stimuli': 238, 'retrocard': 3, 'disposit': 309, 'flaccid': 14, 'passiv': 35, 'tachneic': 1, 'along': 231, 'basi': 37, 'lc': 13, 'dtr': 64, 'pubic': 45, 'vagu': 21, 'reportedli': 74, 'increasingli': 82, 'papyracea': 6, 'hydrocort': 9, 'target': 40, 'slow': 202, 'cardiomediastin': 249, 'stop': 270, 'afrin': 5, 'pronounc': 72, 'gastr': 1, 'steroid': 173, 'log': 7, 'qtc': 49, 'tpn': 42, 'simethicon': 13, 'rij': 75, 'perm': 6, 'retro': 4, 'materi': 108, 'bodi': 315, 'siusiti': 1, 'migrat': 17, 'squeez': 48, 'taper': 123, 'chage': 2, 'bit': 70, 'vascular': 500, 'reliev': 67, 'duodenum': 51, 'potenti': 158, 'attain': 12, 'vertex': 12, 'prompt': 20, 'nephew': 19, 'balloon': 43, 'antibx': 137, 'hang': 10, 'plug': 120, 'redd': 10, 'rmain': 2, 'distens': 45, 'nonrespons': 9, 'tachypnea': 195, 'collaps': 169, 'directli': 23, 'cuf': 40, 'hypovolem': 35, 'erythromycin': 32, 'inr': 320, 'far': 163, 'preliminari': 76, 'inject': 108, 'eight': 16, 'coil': 50, 'twice': 77, 'durng': 1, 'flutter': 68, 'vea': 88, 'noon': 113, 'supdat': 1, 'plmt': 17, 'reform': 89, 'cyst': 126, 'pro': 15, 'ceftriaxon': 176, 'edemat': 76, 'fr': 33, 'criticar': 5, 'treitz': 13, 'frequenc': 70, 'opaqu': 10, 'redemonstr': 41, 'topic': 39, 'routin': 118, 'util': 60, 'patholog': 210, 'overnoc': 135, 'nure': 2, 'true': 29, 'cdiff': 88, 'reveal': 192, 'bl': 58, 'purpos': 177, 'airat': 3, 'coincident': 1, 'gain': 39, 'cva': 109, 'redress': 15, 'variabl': 51, 'tuberos': 6, 'sub': 44, 'kept': 97, 'pancultur': 15, 'qlc': 3, 'mpa': 2, 'drug': 244, 'anticip': 116, 'prolen': 6, 'partial': 244, 'intracrani': 107, 'ca': 420, 'pelvic': 96, 'rom': 76, 'og': 131, 'amen': 19, 'tachpnia': 1, 'glidewir': 13, 'peel': 88, 'calcifi': 135, 'clearli': 91, 'hepat': 125, 'amplatz': 16, 'underneath': 6, 'serial': 105, 'locat': 288, 'fasten': 11, 'mesenteri': 17, 'enuf': 1, 'total': 457, 'necessari': 115, 'inconsist': 70, 'oro': 2, 'hemidiaphragm': 140, 'vigor': 45, 'strip': 18, 'flexitrack': 1, 'stiff': 44, 'nursi': 1, 'excel': 88, 'hydrocortison': 18, 'ip': 101, 'tactil': 33, 'pho': 232, 'late': 120, 'attend': 414, 'daili': 384, 'jejun': 9, 'degen': 176, 'bwn': 3, 'member': 96, 'deploy': 16, 'essenti': 156, 'tranfus': 8, 'net': 84, 'consent': 160, 'promod': 7, 'replet': 384, 'believ': 44, 'hypercapnea': 9, 'li': 19, 'btw': 5, 'derm': 50, 'tubefe': 15, 'ultimatli': 1, 'benadryl': 27, 'fell': 74, 'least': 142, 'microvascular': 24, 'regim': 63, 'dsg': 114, 'confrim': 3, 'antibot': 10, 'reduct': 72, 'bronchial': 182, 'guaiac': 97, 'bloodi': 117, 'mucos': 51, 'ge': 31, 'basic': 40, 'respalor': 9, 'exchang': 94, 'sodium': 338, 'youvil': 1, 'acetaminophen': 84, 'page': 199, 'newli': 148, 'multi': 147, '^^': 20, 'scale': 317, 'througout': 7, 'percutan': 52, 'stimulu': 24, \"ct'\": 1, 'subject': 147, 'alon': 85, 'ent': 24, 'away': 115, 'shut': 55, 'metal': 36, 'fluoroscop': 135, 'particular': 24, 'brownish': 23, 'semin': 16, 'resum': 156, 'cream': 149, 'normoglycem': 10, 'proceedur': 7, 'anyth': 59, 'intervasc': 1, 'obviou': 93, 'perc': 52, 'sheath': 121, 'blink': 17, 'potassium': 341, '^^rate': 1, 'slighlti': 8, 'clav': 2, 'grandson': 12, 'afix': 2, 'thickish': 4, 'affix': 3, 'intervascularli': 2, 'sometim': 66, 'expect': 120, 'thu': 120, 'hydrocephalu': 33, 'fluter': 1, 'birthday': 6, 'first': 206, 'uop': 225, 'fulli': 165, 'clinoid': 5, 'spur': 12, 'intuabt': 8, 'consistantli': 29, 'tvol': 6, 'thich': 5, 'isol': 65, 'penil': 8, 'expector': 173, 'wakeful': 2, 'whether': 120, 'jugular': 200, 'healthi': 66, 'recheck': 171, 'excret': 38, 'extra': 123, 'ftb': 1, 'actual': 44, 'heme': 205, 'yeterday': 2, 'nm': 9, 'swollen': 52, 'nasogastr': 182, 'qtt': 13, 'travel': 35, 'vial': 3, 'subtl': 66, 'transaminas': 11, 'periventricular': 51, 'canula': 35, 'mening': 25, 'gaseou': 8, 'tfb': 28, 'hazi': 106, 'apic': 181, 'confort': 11, 'beom': 2, 'eventu': 91, 'firm': 63, 'dermat': 17, 'buttock': 115, 'specimen': 74, 'give': 265, 'anesth': 3, 'fetanyl': 1, 'four': 102, 'consciou': 14, 'tone': 280, 'regimen': 268, 'overli': 149, 'orogastr': 26, 'cholecyst': 56, 'tachypneia': 2, 'adenopathi': 115, 'mental': 268, 'accessori': 77, 'intern': 286, 'cope': 49, 'beneath': 20, 'desir': 72, 'rectal': 150, 'teach': 27, 'tonoc': 16, 'lamina': 8, 'init': 27, 'consciouti': 2, 'diuresis': 15, 'connect': 27, 'express': 102, 'lose': 12, 'entri': 32, 'shot': 19, 'occat': 25, 'pleaw': 1, 'enter': 258, 'entir': 152, 'toward': 124, 'purul': 33, 'fic': 5, 'itchi': 16, 'radiologist': 137, 'especi': 109, 'vecuronium': 10, 'bllo': 1, 'decompress': 38, 'retroperitoneum': 11, 'simultan': 5, 'inguin': 64, 'fecal': 54, 'board': 59, 'pej': 13, 'microg': 1, 'stand': 239, 'pulmnari': 1, 'tbe': 2, 'recruit': 18, 'upon': 206, 'thank': 135, 'tannish': 28, 'ear': 232, 'febril': 154, 'diaphragm': 143, 'experi': 29, 'udat': 1, 'jejunum': 28, 'lactulos': 85, 'displac': 52, 'offer': 111, 'frontal': 168, 'abreast': 8, 'adquat': 6, \"patient'\": 54, 'rectum': 96, 'squamou': 20, 'ga': 204, 'iron': 56, 'penia': 1, 'fix': 103, 'peribronchi': 36, 'gastromi': 7, 'cs': 15, 'sigmoid': 74, 'relat': 343, 'exrem': 3, 'hypopharynx': 6, 'exhibit': 33, 'skull': 21, 'accuraci': 13, 'cribriform': 6, 'gaug': 311, 'mushroom': 54, 'golden': 43, 'cardiomediastinum': 12, 'hl': 22, 'transduc': 18, 'reccomend': 7, 'serosanguin': 30, 'normotens': 59, 'pariet': 23, 'pyloru': 15, 'tini': 97, 'anemia': 216, 'nonion': 25, 'guaic': 35, 'hemorrhag': 175, 'mucomyst': 31, 'unrespons': 94, 'sxtn': 20, 'reglan': 44, 'permiss': 3, 'incontin': 89, 'massag': 6, 'sphenoid': 38, 'noontim': 15, 'steril': 151, 'peelaway': 1, 'inconsistantli': 16, 'pac': 106, 'spare': 35, 'refer': 202, 'urinari': 149, 'cadiomediastin': 1, 'resutur': 2, 'met': 153, 'ethmoid': 39, 'reslt': 4, 'parenchym': 224, 'sput': 53, 'outpt': 56, 'brachycephal': 3, 'notic': 43, 'conjunctiva': 191, 'encephalopath': 8, 'asp': 90, 'ivc': 98, 'lft': 106, 'attent': 242, 'dz': 35, 'exacerb': 140, 'lactulo': 1, 'meld': 4, 'candid': 56, 'topomax': 1, 'wallet': 256, 'musculoskelet': 124, 'hematocrit': 297, 'invas': 330, 'distort': 13, 'wed': 112, 'rifamixin': 1, 'finger': 239, 'erythema': 74, 'tcurrent': 303, 'prescrib': 22, 'glycem': 306, 'disord': 77, 'ppi': 222, 'hypothyroid': 59, 'transplant': 31, 'lantu': 35, 'beat': 158, 'dsd': 77, 'temperatur': 302, 'rml': 86, 'hypernatrem': 22, 'wound': 133, 'metoprolol': 166, 'streaki': 14, 'lansoprazol': 51, 'deveop': 2, 'moan': 31, 'ul': 304, 'kg': 385, 'normocephal': 206, 'satur': 330, 'resid': 345, 'list': 90, 'zonisamid': 3, 'deplet': 46, 'dl': 353, 'asciti': 7, 'coccyx': 160, 'sulbactam': 13, 'jewelri': 262, 'lnp': 36, 'dentit': 74, 'ft': 62, 'bnp': 69, 'rope': 2, 'reorient': 113, 'tropt': 141, 'demograph': 294, 'mmhg': 353, 'throat': 267, 'unasyn': 15, 'card': 290, 'pnuemonia': 19, 'nash': 5, 'tsh': 45, 'heel': 73, 'superif': 2, \"desat'\": 2, '{': 315, 'configur': 63, 'tremor': 39, 'asterixi': 9, 'black': 38, 'ckmb': 177, 'stick': 260, 'glucos': 370, 'cel': 1, 'chem': 29, 'dm': 145, 'neurolog': 302, 'action': 328, 'money': 264, 'radiolog': 352, 'aqua': 2, 'engorg': 91, 'versiva': 1, 'membran': 36, 'rhonci': 28, 'particularli': 112, 'keppra': 15, 'debil': 6, 'presum': 153, 'infrahilar': 25, 'decubitu': 74, 'confus': 213, 'diffucult': 2, 'lymphat': 112, 'cloth': 277, 'equivoc': 17, 'chlorid': 293, 'ampicillin': 32, 'aplmar': 1, 'airway': 310, 'nad': 164, 'cr': 364, 'pertin': 298, 'provision': 192, 'anticonvuls': 3, 'diabet': 147, 'stage': 161, 'stimata': 1, 'titl': 189, 'valuabl': 267, 'cardiovascular': 251, 'ag': 58, 'chief': 310, 'quadrant': 128, 'credit': 262, 'cake': 2, 'recogn': 17, 'cyu': 30, '}': 313, 'score': 23, 'record': 235, 'vital': 374, 'wast': 100, 'signatur': 266, 'vanc': 205, 'ammonia': 9, 'clonu': 8, 'creatinin': 324, 'jpg': 304, 'jmgw': 16, 'qh': 61, 'cirrhosi': 44, 'cash': 262, 'physic': 348, 'hypernatremia': 67, 'pfi': 199, 'fibersourc': 33, 'levothyroxin': 44, 'withdrawn': 49, 'prevacid': 43, 'hn': 32, 'contribut': 117, 'vap': 318, 'spine': 195, 'dysfunct': 132, 'ing': 32, 'fa': 51, 'thight': 3, 'repolar': 56, 'cistern': 23, 'part': 148, 'flu': 109, 'type': 251, 'modest': 49, 'docus': 57, 'scream': 7, 'environ': 61, 'reinsert': 28, 'redirect': 37, 'live': 189, 'bisacodyl': 42, 'rebook': 1, 'reinforc': 36, 'firmli': 10, 'zyprexa': 59, 'recoveri': 62, 'behavior': 43, 'climb': 64, 'guiac': 115, 'adendum': 3, 'lll': 266, 'nitro': 37, 'observ': 157, 'apprehens': 5, 'contiu': 10, 'benign': 113, 'shout': 7, 'fsbg': 34, 'posi': 1, 'fissur': 66, 'lovenox': 23, 'complex': 90, 'rbbb': 18, 'rule': 234, 'agreeabl': 14, 'crit': 33, 'diuret': 66, 'comb': 36, 'sputem': 7, 'ich': 19, 'ew': 85, 'interim': 112, 'digoxin': 49, 'bedpan': 46, 'loud': 72, 'disorient': 12, 'effac': 13, 'demand': 75, 'craze': 1, 'kcld': 3, 'atrophi': 41, 'axi': 189, 'audibl': 82, 'unrestrain': 13, 'bundl': 121, 'adm': 126, 'enzym': 114, 'must': 46, 'nasopharyng': 9, 'pharyng': 85, 'vest': 6, 'wet': 338, 'uncoop': 22, 'primari': 142, 'ntg': 43, 'slower': 90, 'rale': 130, 'isosorbid': 10, 'aspirin': 95, 'pleasantli': 15, 'conges': 1, 'syst': 18, 'mistaken': 3, \"dc'ed\": 6, 'sitter': 36, 'ischemia': 164, 'deviat': 124, 'supplement': 178, 'safe': 80, 'influenza': 118, 'hs': 117, 'compazin': 21, 'plavix': 29, 'dementia': 96, 'dnr': 172, 'qid': 133, 'redistribut': 46, 'age': 141, 'levofloxacin': 227, 'somnol': 106, 'particip': 71, 'cardiolog': 58, 'droplet': 96, 'agre': 321, 'contin': 42, 'nstemi': 30, 'adl': 56, 'aerosol': 127, 'mean': 59, 'bilatter': 1, 'unknown': 197, 'help': 256, 'indistinct': 44, 'broad': 131, 'pmd': 5, 'cellul': 25, 'amphotericin': 2, 'declin': 100, 'por': 2, 'adjac': 145, 'gauz': 34, 'recal': 20, 'document': 119, 'cll': 10, 'tacypn': 10, 'shin': 23, 'wednesday': 20, 'hilum': 40, 'hyothyroid': 1, 'gelfoam': 3, 'autoimmun': 10, 'mult': 50, 'compon': 187, 'asymmetr': 83, 'multilobar': 35, 'hemolyt': 6, 'wrap': 23, 'pathogen': 37, 'dni': 145, 'superfici': 108, 'ooz': 65, 'spectrum': 83, 'tortuou': 60, 'grew': 43, 'hypoact': 112, 'abroad': 1, 'ivabx': 10, \"con't\": 5, 'cmx': 11, 'die': 51, 'thirst': 21, 'lucenc': 43, 'accompani': 75, 'cpnt': 1, 'pc': 21, 'bacteria': 42, 'alveolar': 84, 'reflect': 220, 'xeroform': 3, 'heard': 63, 'kling': 3, 'pressor': 135, 'smicu': 10, 'bronch': 140, 'readdress': 31, 'focal': 416, 'platlet': 4, 'ahf': 1, 'focu': 106, 'cavit': 26, 'paramet': 90, 'spent': 275, 'horn': 4, 'sq': 223, 'medicar': 10, 'complianc': 80, 'bring': 88, 'session': 21, 'labetalol': 16, 'kayexel': 6, 'input': 93, 'reson': 90, 'stim': 45, 'jvp': 77, 'bipolar': 20, 'multidisciplinari': 37, 'dialysi': 97, 'conserv': 20, 'hemoconcentr': 9, 'malign': 139, 'copi': 77, 'senior': 9, 'hcp': 128, 'medicaid': 13, 'calcium': 157, 'hpi': 255, 'standard': 210, 'fatigu': 172, 'insur': 32, 'noxiou': 44, 'wish': 85, 'meantim': 12, 'dme': 15, 'hyperkalemia': 31, 'doubt': 49, 'dislodg': 13, 'glucon': 37, 'thrust': 2, 'vision': 59, 'kayexal': 14, 'di': 23, 'suspect': 171, 'dilantin': 20, 'delirium': 95, 'happen': 44, 'percuss': 117, 'tongu': 73, 'epilepticu': 8, 'dialys': 6, 'fh': 201, 'zofran': 38, 'thought': 143, 'tox': 19, 'ventriculomegali': 3, 'admin': 52, 'amp': 60, 'wane': 36, 'blurri': 47, 'nail': 20, 'neut': 172, 'referr': 69, 'hosp': 35, 'sh': 200, 'gm': 155, 'emesi': 89, 'decid': 109, 'dialyz': 14, 'uremia': 9, 'serum': 84, 'sluggish': 31, 'evolut': 34, 'sugar': 164, 'esrd': 48, 'caus': 266, 'conjunctiv': 54, 'caudat': 10, 'labatelol': 4, 'wax': 55, 'emerg': 81, 'ue': 103, 'paranoia': 5, 'interdisciplinari': 89, 'critic': 219, 'resuscit': 95, 'encephalopathi': 56, 'ensu': 2, 'yaunker': 11, 'labetolol': 15, 'uf': 176, 'obtund': 16, 'proport': 7, 'key': 287, 'health': 113, 'proxi': 89, 'stone': 82, 'withdraw': 127, 'genitourinari': 94, 'withdrew': 9, 'viral': 119, 'dextros': 39, 'incomprehens': 17, 'noth': 51, 'rapid': 189, 'wretch': 3, 'certainli': 36, 'constitut': 121, 'lithium': 4, 'unclear': 243, 'cardiopulmonari': 39, 'neurolept': 3, 'alkalot': 9, 'nourish': 150, 'neuron': 15, 'tempor': 27, 'retch': 2, 'lactat': 160, 'eo': 175, 'sz': 26, 'crisi': 11, 'experienc': 69, 'walker': 26, 'linisipril': 1, 'wgt': 104, 'mwf': 4, 'lacun': 6, 'cri': 57, 'differenti': 275, 'wit': 61, 'inch': 222, 'miss': 48, 'antihypertens': 62, 'hard': 137, 'hyperpotassemia': 4, 'leukoencephalopathi': 3, 'saw': 280, 'pngt': 7, 'nahco': 9, 'levaquin': 126, 'insipidu': 6, 'psychiatr': 89, 'schizophrenia': 15, 'correct': 99, 'infrequ': 22, 'murmur': 212, 'consequ': 17, 'hemodialysi': 36, 'proper': 52, 'mono': 173, 'penicillin': 53, 'deliri': 58, 'univers': 12, 'life': 27, 'hernia': 91, 'ugi': 8, 'granuloma': 30, 'irregular': 100, 'lesser': 38, 'coronari': 209, 'lowermost': 2, 'pretrach': 18, 'lymphadenopathi': 198, 'infraren': 23, 'sublux': 9, 'oliguria': 18, 'trauma': 64, 'coumadin': 139, 'micua': 2, 'revis': 41, 'nodul': 158, 'swell': 132, 'salt': 7, 'somewhatdil': 1, 'esophagu': 92, 'anteriorli': 96, 'mottl': 12, 'arthrit': 12, 'fluidfil': 1, 'prevascular': 35, 'align': 34, 'workup': 60, 'em': 32, 'cpk': 31, 'bronchovascular': 16, 'atroph': 26, 'lumbar': 85, 'shingl': 6, 'third': 66, 'fractur': 177, 'dens': 125, 'endobronchi': 24, 'hiatal': 44, 'incomplet': 86, 'aneurysm': 69, 'prevertebr': 10, 'groundglass': 2, 'mb': 36, 'vertebr': 85, 'unenhanc': 14, 'mail': 5, 'summari': 84, 'boni': 83, 'afib': 203, 'cleans': 49, 'stabliz': 8, 'balans': 1, 'shigft': 1, 'irreg': 30, 'gel': 27, 'screan': 1, 'shake': 72, 'ketpad': 1, 'novasourc': 16, 'af': 123, 'convert': 96, 'disress': 4, 'tic': 1, 'typer': 1, 'qnd': 1, 'centimet': 18, 'secrtion': 2, 'alerr': 1, 'paco': 17, 'electr': 8, 'tp': 26, 'peroid': 2, 'pacu': 6, 'distent': 79, 'rehabilit': 42, 'eti': 1, 'fibb': 1, 'dic': 21, 'unlabor': 64, 'husband': 73, 'sludg': 28, 'reat': 1, \"rec'\": 20, 'mionitor': 1, 'telephon': 117, 'houseoffic': 13, 'sy': 65, 'reacur': 1, 'inferolater': 55, 'fresh': 4, 'apneaic': 2, 'rrt': 59, 'pericard': 20, 'arrythmia': 19, 'broke': 19, 'lopresssor': 2, 'uncontrol': 14, 'nede': 3, 'ar': 202, 'push': 63, 'comand': 9, 'ii': 115, 'peripheri': 33, 'hypotenns': 1, 'pco': 120, 'matress': 6, 'perla': 36, 'nkda': 57, 'colect': 2, 'aflutt': 26, 'reciv': 15, 'raf': 23, 'incision': 23, 'keyboard': 1, 'prob': 31, 'appropriat': 2, 'spell': 18, 'expel': 7, 'ti': 7, 'might': 119, 'necessit': 13, 'simul': 3, 'stagei': 1, 'wnr': 9, 'dietwith': 1, 'administ': 287, 'vdg': 3, 'whiteish': 2, 'copd': 210, 'produc': 85, 'advers': 22, 'becasu': 3, 'fibrosi': 58, 'children': 55, 'hoh': 27, 'lipitor': 23, 'glaucoma': 13, 'big': 16, 'tsicu': 9, 'metacarp': 5, 'biliou': 48, 'everyth': 24, 'er': 95, 'springhous': 1, 'stronger': 42, 'ness': 4, 'prostrat': 2, 'nondistend': 32, 'cocci': 45, 'tm': 105, 'fx': 58, 'hire': 3, 'scopolamin': 13, 'kiss': 2, 'consensu': 5, 'discolor': 12, 'remot': 40, 'rncm': 1, 'shock': 128, 'swab': 100, 'sao': 103, 'wiggl': 37, 'strongli': 29, 'daycar': 3, 'disloc': 30, 'memori': 30, 'asa': 137, 'occaision': 12, 'smoke': 57, 'gown': 14, 'psh': 11, 'worker': 52, 'nonprod': 11, 'psoriasi': 6, 'pager': 73, 'intermittantli': 13, 'az': 2, 'sux': 19, 'funer': 2, 'ny': 3, 'quietli': 20, 'nqwmi': 3, 'sw': 71, 'ankl': 61, 'repair': 67, 'urolog': 22, 'coag': 90, 'demetia': 4, 'hypothroid': 3, 'phebotomi': 1, 'took': 90, 'gout': 27, 'pneumoboot': 69, 'lethargi': 54, 'abil': 75, 'etoh': 71, 'dininish': 1, 'piec': 20, 'gram': 187, 'concentr': 54, 'step': 81, 'creat': 170, 'boarder': 6, 'interact': 110, 'sev': 9, 'stood': 21, 'inc': 134, 'bruis': 49, 'alzheim': 35, 'addedum': 2, 'privat': 13, 'lograd': 1, 'lih': 1, 'rrl': 2, 'unsuccess': 81, 'levodopa': 2, 'gasi': 1, 'keeppt': 1, 'phx': 1, 'ccu': 73, 'fail': 152, 'toprol': 11, 'iter': 2, 'maalox': 7, 'familyinform': 1, 'geriatr': 9, 'pmhx': 63, 'unbroken': 12, 'fu': 13, \"have't\": 1, 'mur': 8, 'backrub': 6, 'glu': 17, 'metabol': 122, 'cardiovert': 4, 'profound': 20, 'succ': 12, 'yell': 43, 'carbidopa': 3, 'pneumaonia': 1, 'slt': 5, 'rememb': 23, 'occa': 91, 'lotion': 44, 'xl': 16, 'neo': 41, 'nimv': 6, 'yof': 24, 'mhr': 6, 'revers': 48, 'standbi': 48, 'constip': 130, 'uncompems': 1, 'parkinson': 24, 'visabl': 4, 'inturb': 1, 'dccv': 3, 'stooll': 1, 'stting': 1, 'regularli': 27, 'carbadopa': 1, 'eaten': 9, 'blanch': 14, 'nearbi': 10, 'physician': 315, 'sudden': 34, 'remian': 28, 'niec': 21, 'distribut': 99, 'rhonchu': 10, 'disc': 45, 'hub': 4, 'stope': 4, 'scoop': 4, 'inatact': 2, 'solumedrol': 70, 'statement': 9, 'nebuils': 1, 'continiu': 1, 'partak': 1, 'aim': 43, 'previuo': 2, 'tomorro': 1, 'clearer': 37, 'stroke': 78, 'bid': 89, 'daibet': 1, 'enema': 30, 'methylprednisolon': 22, 'transfuss': 2, 'glargin': 38, 'thisd': 1, 'combiv': 48, 'exac': 8, 'commenc': 20, 'thoracentesi': 88, 'fm': 69, 'blow': 7, 'fleet': 18, 'lopress': 5, 'add': 219, 'stab': 6, 'contiun': 2, 'kepft': 1, 'caregiv': 23, 'term': 160, 'clairifi': 1, 'scd': 12, 'creami': 19, 'humidifi': 77, 'looser': 5, 'wheezi': 56, 'paroxysm': 15, 'easier': 18, 'pule': 3, 'neic': 13, 'brought': 129, 'insitu': 11, 'diltiazem': 77, 'fullcod': 2, 'nebulis': 1, 'hob': 164, 'inflamm': 58, 'retain': 46, 'loosen': 26, 'giver': 6, 'serev': 3, 'mainta': 13, 'sp': 88, 'pressurea': 1, 'midnoc': 30, 'pure': 85, 'humid': 13, 'plu': 54, 'prong': 21, 'ex': 46, 'audilb': 1, 'blew': 2, 'yest': 69, 'tighter': 7, 'visist': 4, 'assesss': 3, '$': 12, 'hyperoxygen': 3, 'fem': 37, 'contniu': 1, 'prevent': 97, 'pmn': 48, 'ampul': 1, 'mmol': 214, 'reappli': 33, 'distanc': 53, 'cancel': 34, 'ontcool': 1, 'bg': 40, 'incident': 44, 'peridex': 16, 'lot': 65, 'morpholog': 37, 'variat': 31, 'never': 49, 'cytokin': 1, 'gentamicin': 17, 'holiday': 7, 'lean': 20, 'aecret': 1, 'stair': 44, 'zantac': 12, 'fi': 66, 'mattress': 37, 'interm': 9, 'infxn': 24, 'sqh': 33, 'djd': 9, 'nitric': 7, 'thursday': 27, 'tomm': 10, 'ldh': 153, 'derecruit': 4, '^nd': 36, 'investig': 20, 'relaps': 8, 'activit': 3, 'sequela': 28, 'trimethoprim': 25, 'stiumuat': 1, 'acei': 26, 'uroin': 1, 'ssri': 60, 'chg': 21, 'involvemt': 1, 'mycobacteria': 3, 'suppli': 13, 'tightli': 4, 'specieat': 1, 'protect': 258, 'ppm': 23, 'siani': 1, 'motor': 77, 'coordin': 47, 'rpr': 15, 'breakthrough': 30, 'speci': 10, 'carbon': 23, 'physcial': 1, 'involut': 8, 'vit': 50, 'lmw': 9, 'papillari': 44, 'troubleshoot': 2, 'synergi': 2, 'tc': 64, 'tire': 82, '^th': 23, 'outupt': 1, 'obvious': 17, 'kub': 49, 'fluoro': 90, 'compent': 1, 'bal': 84, 'unassist': 29, 'dull': 81, 'chlorhex': 6, 'caspo': 3, 'ionli': 1, 'hygein': 17, 'succeed': 5, 'arrang': 32, 'lawyer': 7, 'erect': 65, 'mov': 2, 'common': 139, 'enterococcu': 19, 'press': 94, 'pneumo': 49, 'kcal': 81, 'deir': 1, 'presumpt': 19, 'correctli': 14, 'program': 41, 'vocal': 69, 'comprehens': 9, 'intracran': 1, 'occipit': 22, 'buit': 1, 'aero': 1, 'ofr': 3, 'lactic': 220, 'oxid': 14, 'uncompl': 67, \"'no\": 2, 'skill': 23, 'background': 33, 'meaning': 4, 'cefuroxim': 4, 'propot': 2, 'inflict': 1, 'obtian': 1, 'discusss': 2, 'postur': 47, 'syndrom': 105, 'usag': 11, 'ceas': 6, 'hoyer': 6, 'dig': 40, 'deepli': 10, 'malnutrit': 50, 'etc': 106, 'afb': 29, 'ocular': 4, 'carotid': 57, 'alound': 1, 'rhonchrou': 5, 'passey': 16, 'puddl': 1, 'bili': 173, 'gip': 1, 'dimer': 18, 'unfortun': 29, 'educ': 63, 'tuesday': 33, 'uncomprehend': 1, 'llax': 1, 'uti': 106, 'merepenem': 8, 'futur': 88, 'compromis': 44, 'stemi': 17, 'compani': 12, 'ranitidin': 23, 'resusit': 11, 'ecchymos': 31, 'toliet': 13, '|': 12, 'rub': 157, 'flexor': 5, 'ncat': 18, 'compet': 11, 'anaerob': 19, 'attni': 1, 'exsuffl': 7, 'simvastatin': 44, 'growth': 91, 'andthat': 1, 'tpa': 22, 'notabl': 165, 'ucx': 60, 'mucou': 103, 'front': 18, 'sir': 37, 'transit': 207, \"yesterday'\": 4, 'macu': 28, 'nitrat': 11, 'snx': 13, 'lasic': 4, 'ass': 26, 'stain': 111, 'fibrinogen': 35, 'diastol': 173, 'probe': 29, 'surgic': 173, 'hyperventil': 14, 'mngt': 4, 'spuriou': 3, 'sfa': 8, 'funal': 1, 'nchct': 6, 'straight': 25, 'role': 48, 'manufactur': 70, 'asse': 1, 'bypass': 19, 'indemn': 1, 'ace': 68, 'unimprov': 4, 'whenev': 17, 'flora': 37, 'bc': 83, 'bilirubin': 61, 'lebsiella': 1, 'csb': 1, 'typic': 42, 'medivis': 5, 'vesta': 44, 'ami': 11, 'among': 4, 'ntinu': 2, 'thiamin': 17, 'loc': 21, 'yeast': 83, 'omit': 6, 'drsg': 41, 'currrent': 5, 'spous': 15, 'mycolyt': 2, 'nard': 31, 'stretch': 10, 'hope': 112, 'cbc': 52, 'integumentari': 91, 'payer': 3, 'failri': 1, 'albumin': 144, 'glabrata': 1, 'plateau': 78, 'ciprofloxacin': 60, 'shallowli': 2, 'bue': 31, 'aureu': 22, 'myco': 3, 'rtc': 22, 'rpe': 40, 'inservic': 1, 'ventiatori': 1, 'leukocytpsi': 1, 'blocker': 131, 'ngtd': 82, 'waveform': 101, 'inplac': 25, 'bmi': 69, 'emphas': 104, 'permit': 14, 'supoprt': 2, 'assoc': 28, 'masshealth': 6, 'nr': 12, 'suctiong': 2, 'lipas': 73, 'synchron': 65, 'heent': 169, 'gentl': 74, 'toelrat': 4, 'wk': 58, 'microbiolog': 154, 'count': 156, 'tobramycin': 20, 'obstacl': 6, 'carb': 7, 'acknowledg': 22, 'intraventricular': 45, 'cult': 21, 'septicemia': 5, 'knowledg': 21, 'injuri': 96, 'ppx': 115, 'pedn': 3, 'epileptiform': 4, 'hip': 87, 'fungemia': 3, 'ongo': 130, 'vre': 36, 'pgt': 5, 'apnvol': 4, 'esp': 45, 'joint': 115, 'goe': 42, 'barrier': 135, 'kinear': 3, 'pan': 93, 'intoler': 85, 'gum': 5, 'sick': 35, 'backup': 7, 'layer': 110, 'apprec': 6, 'icd': 51, 'pl': 105, 'hz': 5, 'quieter': 4, 'antifung': 42, 'protein': 108, 'acheiv': 7, 'emotiion': 1, 'muir': 33, 'caco': 4, 'nonsens': 12, 'tap': 81, 'chlorhexidin': 29, 'synthroid': 24, 'tracheal': 73, 'frame': 34, 'subglott': 16, 'apart': 29, 'phosphat': 65, 'spot': 83, 'winc': 12, 'train': 35, 'feeed': 1, 'sensori': 37, 'comfrot': 1, 'pursu': 51, 'galabrata': 1, 'enterrococcu': 1, 'mumbl': 17, 'bacteri': 145, 'qday': 22, 'calc': 62, 'ltac': 15, 'ryhtym': 1, 'commmand': 1, 'render': 14, 'interest': 28, \"trach'd\": 3, 'mrg': 26, 'anticoagul': 128, 'painm': 2, 'repleat': 74, 'reattempt': 12, 'reoccur': 5, 'recur': 27, 'vehicl': 4, 'asses': 21, 'myopathi': 11, 'shallow': 50, 'glenohumer': 13, 'frusemid': 3, 'misinform': 1, 'qdaili': 5, 'month': 144, 'empir': 119, 'bacteremia': 70, 'reattach': 2, 'till': 54, 'benefit': 141, 'bac': 9, 'vavl': 1, 'mellitu': 50, 'optho': 1, 'coloni': 11, 'fee': 19, 'dilig': 2, 'finesh': 1, 'vasopressor': 22, 'straighten': 5, 'ant': 31, 'scab': 27, 'fungal': 82, 'ineffect': 48, 'alk': 181, 'prepar': 79, 'magnesium': 150, 'diffacult': 1, 'myocard': 8, 'contractur': 15, \"c'd\": 22, 'equip': 23, 'ethic': 7, 'atelectat': 74, 'staph': 51, 'laundri': 1, 'radiu': 10, 'cefazolin': 16, 'typeii': 1, 'meur': 1, 'overwelm': 1, 'resourc': 7, 'resussit': 7, 'encephalomalacia': 8, 'atherosclerot': 97, 'thurday': 1, 'finish': 77, 'clarifi': 54, 'lax': 17, 'olanazipin': 1, 'zocor': 13, 'polypharmaci': 4, 'toothbrush': 1, 'wihtout': 5, 'weekend': 58, 'statin': 75, 'diaper': 18, 'hgb': 88, 'claim': 69, 'poss': 55, 'tell': 38, 'eeg': 31, 'reconnect': 2, 'constantli': 30, 'cavern': 16, 'disturb': 19, 'figiti': 2, 'ween': 8, 'fluctuat': 57, 'deflat': 36, 'transffer': 8, 'alittl': 9, 'contro': 1, 'cefepim': 107, 'dicharg': 2, 'alo': 55, 'grow': 60, 'garbl': 25, 'sate': 74, 'rta': 5, 'deliriu': 3, 'decondit': 45, 'prot': 10, 'retract': 35, 'vitamin': 59, 'nab': 35, 'bicarb': 53, 'fold': 35, 'heo': 1, 'kinair': 38, 'delerium': 24, 'extr': 32, 'pct': 5, 'leukocytosi': 169, 'cognit': 73, 'failr': 1, 'sensitivit': 4, 'hemithorax': 114, 'diurees': 1, 'sunday': 23, 'interview': 9, 'reeval': 13, 'worri': 12, 'dehydr': 52, 'oropharyng': 105, 'flexion': 23, 'lscta': 16, 'legionella': 129, 'dysynchronu': 1, 'sternal': 63, 'fascil': 1, 'cluster': 40, 'consectut': 1, 'aggit': 48, 'hae': 2, 'hospic': 22, 'ioniz': 114, 'custom': 2, 'fast': 47, 'hello': 2, 'anxiolyt': 12, 'reschedul': 9, 'bare': 35, 'maximum': 26, 'establish': 57, 'frog': 2, 'weekli': 15, 'variou': 55, 'file': 14, 'epitheli': 34, 'dysynchroni': 76, 'guard': 89, 'versu': 138, 'closs': 2, 'amylas': 71, 'voluntarili': 3, 'supposedli': 2, 'attach': 18, 'undetermin': 25, 'club': 114, 'necrosi': 20, 'ntnd': 33, 'throw': 9, 'vb': 3, 'pay': 11, 'phosphoru': 105, 'knee': 81, 'cachect': 21, 'outlin': 115, 'ast': 167, 'coccu': 2, 'bradycardia': 104, 'exhaust': 14, 'cloud': 3, 'cataract': 35, 'cachet': 9, 'awit': 2, 'hep': 139, 'multifactori': 49, 'leuk': 15, 'friend': 73, 'hypercholesterolemia': 34, 'identif': 12, 'occai': 2, 'gen': 138, 'ard': 145, 'tco': 194, 'resumpt': 9, 'occup': 90, 'sulfamethoxazol': 13, 'cardiologist': 14, 'cg': 42, 'mycobacterium': 4, 'jr': 9, 'discontinu': 139, 'vitb': 1, 'vna': 16, 'financi': 7, 'snd': 28, 'learn': 7, 'import': 48, 'writer': 8, 'mic': 41, 'mgmt': 24, 'valvl': 1, 'reinflat': 5, 'ideal': 127, 'saturday': 18, 'planner': 4, 'exhal': 32, 'natur': 56, 'gasp': 7, 'unlik': 120, 'ensur': 85, 'elexir': 1, 'polio': 3, 'ausc': 9, 'oo': 4, 'teeth': 118, 'anion': 18, 'postpon': 18, 'unarous': 4, 'est': 15, 'ophtho': 1, 'plantar': 8, 'alkalin': 60, 'tubular': 12, 'palli': 31, 'enoxaparin': 7, 'nebul': 73, 'vreand': 1, 'diinish': 1, 'realist': 4, 'handl': 23, 'ventilatiori': 1, 'airmov': 3, 'autoflow': 47, 'pvd': 45, 'particp': 1, 'truli': 12, 'phonat': 8, 'jaundic': 83, 'durat': 69, 'decompens': 90, 'calcul': 35, 'clench': 5, 'rout': 93, 'olanzapin': 27, 'resassur': 3, 'assest': 1, 'reluct': 11, 'rg': 3, 'bu': 15, 'torulopsi': 1, 'grasp': 27, 'recurr': 162, 'mom': 27, 'chlorthiazid': 1, 'enterococca': 1, 'spend': 11, 'polici': 7, 'approv': 59, 'deciph': 2, 'con': 48, 'bradycard': 38, 'sqi': 15, 'relev': 67, 'folat': 41, 'outcom': 15, 'flight': 21, 'submit': 37, 'hypodens': 91, 'disorgan': 2, 'ceftazidim': 26, 'soil': 5, 'veget': 57, 'passi': 29, 'bud': 16, 'atc': 54, 'ventilatori': 150, 'ctab': 39, 'bedcloth': 1, 'ime': 1, 'wore': 13, 'qod': 21, 'cor': 14, 'confer': 11, 'aerob': 45, 'challeng': 38, 'frighten': 5, 'kleb': 9, 'entercocc': 1, 'grimic': 1, 'inward': 3, 'anterioli': 1, 'op': 105, 'postiv': 14, 'klesiella': 1, 'cyanosi': 130, 'tazo': 24, 'redrawn': 8, 'caspofungin': 6, 'supra': 11, 'contain': 102, 'gnr': 69, 'paralyz': 81, 'assur': 17, 'conduct': 88, 'dip': 49, 'rsb': 2, 'wo': 19, 'clarif': 49, 'osm': 20, 'debilit': 5, 'micropunctur': 66, 'mouthcar': 12, 'annual': 1, 'senna': 94, 'resit': 20, 'resist': 87, 'hctz': 16, 'transthorac': 33, 'deduct': 2, 'toxic': 54, 'oint': 10, 'destin': 74, 'locomot': 31, 'perfom': 3, 'narr': 28, 'depart': 37, 'sulfa': 30, 'tear': 94, 'pip': 139, 'salin': 92, 'irregularli': 21, 'inquir': 10, 'inabl': 89, 'bacilli': 3, 'piperacillin': 106, 'patiet': 2, 'ophthalm': 5, 'linezolid': 33, 'told': 62, 'author': 16, 'fungu': 9, 'reconsult': 28, 'ointment': 41, 'improvemt': 1, 'iu': 151, 'svr': 10, 'opthalm': 1, 'inspiratori': 80, 'across': 41, 'furosemid': 119, 'origin': 143, 'alt': 179, 'subacut': 15, 'frm': 2, 'way': 86, 'ddx': 55, 'messag': 19, 'rwma': 2, 'mgt': 21, 'strengthen': 13, 'substanti': 145, 'bottl': 59, 'micro': 101, 'anticoag': 12, 'crust': 9, 'understood': 12, 'unspecifi': 4, 'rrr': 156, 'dwindl': 5, 'klebsiella': 18, 'nl': 92, 'grab': 12, 'featur': 22, 'elig': 3, 'photic': 1, 'sharp': 45, 'lul': 153, 'errat': 17, 'zosyn': 185, 'speciat': 35, 'pleth': 12, 'organ': 171, 'mirtazapin': 8, 'therapuet': 6, 'mrsa': 152, 'soap': 21, 'repac': 1, 'uub': 1, 'whi': 61, 'cmp': 3, 'heliox': 5, 'metavis': 34, 'toeveri': 1, 'mri': 118, 'gic': 1, 'iss': 71, 'esbl': 17, 'liaison': 6, 'rod': 53, 'grimacc': 1, 'cbi': 7, 'encourgag': 3, 'travers': 16, 'appendix': 14, 'succinycholin': 1, \"nts'ing\": 3, 'cabl': 2, 'hypo': 58, 'subdur': 21, 'larm': 2, 'punctat': 17, 'ligament': 19, 'recaptur': 2, 'subcutan': 122, 'intrapelv': 8, 'nn': 3, 'temporarili': 14, 'profoundli': 10, 'dyspepsia': 3, 'nst': 9, 'gastroparesi': 8, 'groin': 77, 'pcn': 28, 'lcode': 1, 'trachealbronch': 1, 'women': 13, 'undergo': 33, 'relay': 12, 'fwb': 19, 'fluro': 5, 'resudu': 2, 'tracheobronc': 1, 'rescreen': 6, 'quinin': 2, 'radiopaqu': 14, 'nasotrach': 19, 'perinephr': 15, 'zero': 13, 'superstiff': 2, 'reddend': 2, 'intra': 130, 'usus': 1, 'duct': 70, 'trough': 91, 'swang': 1, 'periton': 25, 'flexitract': 2, 'yeasti': 8, 'territori': 45, 'captoril': 2, 'waffl': 23, 'albut': 6, 'dilut': 41, 'unsuit': 3, 'hematoma': 87, 'hypernatrimia': 1, 'ud': 16, 'shoot': 9, 'viscou': 14, 'strenghth': 1, 'excori': 46, 'slate': 2, 'pigtail': 36, 'isodens': 5, 'multipodi': 11, 'pancreat': 61, 'choic': 32, 'comp': 6, 'ful': 5, 'comf': 11, 'unifoc': 5, 'insuffl': 11, 'etomid': 10, 'toxin': 25, 'lcontinu': 1, 'hourli': 52, 'palpat': 107, 'acalc': 3, 'coupl': 65, 'vp': 12, 'bottuck': 1, 'ped': 2, 'vasc': 5, 'five': 33, 'vpshunt': 1, 'gaol': 3, 'dibilit': 1, 'motil': 16, 'ostomi': 21, 'pylor': 32, 'paramedian': 7, 'erythemat': 32, 'flumazenil': 2, 'peri': 67, 'occl': 1, 'cephalad': 5, 'weakli': 34, 'pap': 33, 'ptx': 112, 'periph': 25, 'inter': 3, 'manipul': 31, 'presuur': 1, 'lp': 39, 'mvt': 5, 'elixir': 9, 'fdg': 29, 'couldnt': 1, 'ulnar': 8, 'fundu': 20, 'cov': 11, 'ascit': 86, 'fingerstick': 72, 'retroperiton': 74, 'disent': 1, 'duodem': 1, 'careweb': 13, 'cvl': 114, 'perinium': 1, 'mrsh': 1, 'caudad': 2, 'beyond': 58, 'narcan': 14, 'iddm': 20, 'nephrogram': 4, 'gyral': 1, 'levoquin': 71, 'hypopharyng': 3, 'postpylor': 6, 'mucoid': 24, 'ganz': 17, 'chole': 6, 'anplatz': 1, 'shunt': 33, 'hypoxemia': 159, 'facial': 65, 'scar': 85, 'affirm': 6, 'retinopathi': 8, 'nare': 44, 'pit': 80, 'trumpet': 13, 'gluocos': 1, 'trietz': 1, 'pharynx': 30, 'nph': 44, 'ruq': 51, 'duski': 12, 'asymmmetr': 1, 'technologist': 2, 'pluggi': 12, 'intraperiton': 31, 'bottom': 28, 'regain': 16, 'throught': 12, 'inconsistanti': 1, 'unwil': 4, 'mcq': 28, 'rult': 1, 'stockinett': 1, 'triphas': 5, 'amelior': 2, 'intrabdomin': 5, 'protonix': 109, 'conspicu': 14, 'reidual': 1, 'chose': 2, 'perk': 1, 'yerterday': 1, 'suit': 51, 'wil': 5, 'effct': 3, 'secreat': 60, 'foerarm': 1, 'swan': 20, 'kump': 10, 'uncahng': 1, 'reproduc': 4, 'splenic': 38, 'optim': 115, 'cultu': 2, 'pericholecyst': 22, 'sump': 7, 'captropril': 4, 'preexist': 9, 'epitaxi': 2, 'lasi': 2, 'dollar': 3, 'trim': 17, 'wir': 1, 'artlin': 2, 'apsolut': 1, 'definit': 207, 'ultrac': 8, 'wedg': 26, 'dssg': 12, 'stare': 10, 'pearl': 56, 'diverticul': 36, 'zoloft': 14, 'fsb': 61, 'ventriculoperiton': 3, 'introduc': 48, 'convex': 14, 'breat': 5, 'resolut': 184, 'disp': 5, 'mesenter': 70, 'descend': 76, 'format': 65, 'dup': 15, 'cohlecyst': 1, 'hypoglycemia': 29, 'captopril': 56, 'tracheobronch': 6, 'ventriculo': 1, 'stv': 15, 'wbcc': 2, 'contanct': 1, 'rim': 16, 'keflex': 9, 'offset': 5, 'strenght': 7, 'pox': 14, 'pcxr': 12, 'cuboid': 1, 'moist': 52, 'diminut': 7, 'prof': 1, 'rusti': 12, 'phenomenon': 10, 'labrum': 1, 'plexopathi': 1, 'abscess': 119, 'attemp': 7, 'yearold': 1, 'moderatli': 1, 'subscapulari': 2, 'airport': 1, 'gage': 2, 'navicular': 4, 'lordot': 5, 'settign': 3, 'im': 24, 'els': 16, 'suspicion': 74, 'fifth': 10, 'fourth': 15, 'dorsum': 2, 'dimens': 34, 'decub': 67, 'diprivan': 1, 'unusu': 30, 'cuneiform': 1, 'posterolater': 9, 'plain': 29, 'osa': 48, 'six': 39, 'acromi': 1, 'infraspinatu': 2, 'flex': 28, 'affebril': 1, 'aberr': 9, 'hyperemia': 6, 'feasabl': 1, 'scratchi': 2, 'diaph': 2, 'nois': 18, 'saliva': 5, 'rythm': 19, 'pneum': 4, 'magnevist': 35, 'mgm': 30, 'clavicular': 13, 'roughli': 15, 'disus': 1, 'subacromi': 1, 'peerla': 6, 'extrasystol': 6, 'fewer': 11, 'necrot': 40, 'neutral': 16, 'spontrr': 1, 'tbb': 25, 'cchr': 8, 'tarsal': 1, 'fli': 4, 'marrow': 31, 'pneumococc': 25, 'fiber': 82, 'numer': 73, 'uncertain': 38, 'bright': 26, 'articular': 6, 'hem': 27, 'eet': 1, 'stir': 8, 'osteomyel': 22, 'bursa': 3, 'nearli': 59, 'supp': 43, 'unsucessful': 1, 'musculotendin': 1, 'massiv': 38, 'quick': 26, 'metatars': 3, 'pneu': 2, 'substanc': 12, 'subcort': 24, 'diaphret': 1, 'bicep': 6, 'linear': 77, 'ble': 57, \"cx'ed\": 1, 'cardio': 54, 'sepi': 3, 'tiolet': 4, 'conintu': 4, 'beplac': 1, 'recenli': 1, 'tommorrow': 18, 'dulcolax': 36, 'pd': 14, 'obl': 3, 'mellow': 1, 'humer': 23, 'extensor': 3, 'pneumoni': 4, 'posteriorli': 51, 'subdeltoid': 1, 'intiat': 4, 'strep': 32, 'cmi': 3, 'tea': 15, 'lightli': 71, 'ltr': 5, 'withrr': 1, 'arrous': 13, 'gross': 75, 'supraspinatu': 2, 'nuclear': 6, 'signal': 48, 'gadolinium': 35, 'urpc': 2, 'solid': 132, 'deform': 50, 'medicin': 56, 'occn': 8, 'coopert': 3, 'largest': 47, 'cat': 23, 'ctu': 1, 'basalar': 1, 'bay': 2, 'doze': 42, 'exophyt': 13, 'anusol': 2, 'hemo\\x13rrhoid': 1, 'crystal': 6, 'echogen': 56, 'smooth': 16, 'yeseterday': 1, 'speach': 11, 'malfunct': 7, 'oreint': 5, 'hypoecho': 9, 'shakey': 2, 'inct': 2, 'vaopriz': 1, 'uret': 25, 'tranport': 2, 'klibesella': 1, 'multidetector': 54, 'pertrud': 1, 'atyp': 95, 'jitteri': 4, 'urosepsi': 14, 'axox': 11, 'pole': 56, 'dentur': 48, 'radiolgist': 1, 'absc': 3, 'personnel': 4, 'laser': 5, 'contnu': 3, 'periureter': 2, 'hematuria': 45, 'vapor': 1, 'nibp': 44, 'store': 11, 'printer': 1, 'flood': 2, 'broken': 48, 'ax': 90, 'maint': 23, 'adedqu': 1, 'explan': 44, 'diphoret': 1, 'pee': 7, 'bark': 2, 'constant': 62, 'misk': 1, 'lobar': 45, 'hygen': 10, 'otherwsi': 1, 'hack': 5, 'ach': 22, 'irrit': 34, 'bronchosast': 1, 'forc': 25, 'headach': 104, 'trazodon': 22, 'fhp': 35, 'unbutton': 1, 'tansfer': 1, 'argatroban': 3, 'fear': 15, 'aplli': 7, 'fam': 18, 'hhtm': 1, 'eupneic': 2, 'psychosoci': 34, 'packet': 21, 'historian': 14, 'shedul': 3, 'lisinipril': 2, 'decannul': 8, 'stoma': 26, 'incourag': 5, 'flash': 44, 'reevalu': 45, 'admiit': 2, 'satu': 4, 'sternotomi': 60, 'react': 39, 'failer': 1, 'sympomat': 1, 'bedtim': 31, 'hr^': 2, 'appi': 14, 'wt': 59, 'outli': 1, 'stem': 20, 'followand': 1, 'captipril': 2, 'mth': 4, 'mgso': 17, 'hit': 35, 'strengh': 1, 'rep': 14, 'ced': 58, 'stagger': 5, 'receiev': 6, 'miur': 2, 'cxray': 24, 'dischar': 1, 'random': 36, 'snack': 9, 'metoprolo': 5, 'therapeud': 2, 'inlet': 91, 'unbrocken': 2, 'column': 6, 'draig': 1, 'doublegard': 1, 'kilo': 2, 'cleaner': 10, 'hydrostat': 10, 'dermi': 2, 'electoly': 1, 'readjust': 11, 'exaserb': 2, 'hose': 2, 'median': 42, 'bair': 14, 'cadiac': 3, 'tight': 49, 'remaian': 2, 'dangl': 16, 'sig': 59, 'lle': 45, 'receievd': 2, 'althought': 4, 'ptmay': 1, 'triazidon': 1, 'dt': 18, 'argantroban': 1, 'reserv': 20, 'prec': 21, 'hypotherm': 20, 'hugger': 20, 'shovel': 54, 'twitch': 9, 'drplet': 1, 'oxycodon': 90, 'draft': 2, 'azithromycin': 121, 'cefriaxon': 5, 'atr': 62, 'loperessor': 1, 'upto': 20, 'afebriel': 2, 'occas': 27, 'pacer': 63, 'disregard': 7, 'dev': 5, 'reappear': 4, 'vpace': 9, 'choke': 38, 'needi': 2, 'fsg': 16, 'nerpo': 1, 'unreason': 1, 'spiromet': 43, 'power': 28, 'wrong': 24, \"sx'ing\": 13, 'incent': 70, 'eri': 2, 'recehck': 1, 'ddd': 10, 'wosen': 2, 'througho': 1, 'fgd': 2, 'elsewher': 15, 'acidemia': 11, 'vnaco': 1, 'adher': 11, 'deposit': 11, 'hypokalem': 1, 'cloudi': 71, \"tx'ed\": 6, 'phlegm': 18, 'deferves': 1, 'resecur': 2, 'tolert': 7, 'perman': 24, 'woken': 14, 'calib': 99, 'beextub': 1, 'ord': 1, 'nepro': 13, 'cook': 6, 'accur': 40, 'insuln': 2, 'inutb': 1, 'hemodynamci': 5, 'yankor': 1, 'andw': 1, 'outpu': 1, 'clavicl': 35, 'ut': 5, 'qt': 26, 'leftward': 46, 'coulf': 1, 'nailb': 14, 'tibia': 6, 'takennoff': 1, 'hiss': 49, 'succinylcholin': 5, 'asymetr': 1, 'presept': 6, 'agreement': 29, 'adapt': 21, 'toleat': 2, 'cpr': 21, 'agent': 51, 'enjoy': 11, 'perfit': 4, 'rational': 10, 'midnit': 17, 'hydralazin': 63, 'bloood': 2, 'pose': 4, 'reinstiut': 1, 'probal': 37, 'iurs': 1, 'dilt': 76, 'openn': 1, 'steam': 5, 'multipod': 6, 'miconazol': 35, 'extrim': 19, '^^frequent': 1, 'wise': 8, 'opressor': 1, 'ramp': 8, 'adv': 21, 'grand': 14, 'bilatar': 2, 'copiu': 12, 'rl': 13, 'carin': 11, 'whotish': 1, 'twenti': 11, 'aquacel': 12, 'epistaxi': 45, '^bp': 5, 'foe': 7, 'temporari': 33, 'serou': 54, 'rewir': 2, 'mon': 124, 'zyrexa': 2, 'applesauc': 57, 'hook': 6, 'antiobx': 1, 'zyprexia': 10, 'danger': 9, 'auto': 36, 'strongh': 2, \"today'\": 14, 'nonverb': 35, 'psycho': 2, 'circular': 3, 'nu': 7, 'pearla': 1, 'languag': 88, 'mp': 20, 'cycl': 71, 'bifurc': 20, 'digit': 12, 'draingag': 2, 'bmx': 16, 'hypernatremai': 1, 'favor': 43, 'weepi': 12, 'cop': 14, 'autodiuresi': 18, 'underw': 60, 'ansarca': 2, 'additiona': 1, 'ic': 10, 'sluggishli': 5, 'puffi': 5, 'weep': 31, 'reexpans': 17, 'dieuresi': 4, 'ota': 18, 'sotalol': 3, 'florid': 1, 'univ': 7, 'unlabour': 7, 'bronchoscopi': 101, 'nectar': 85, 'vicodin': 12, 'mention': 47, 'sa': 18, 'ofm': 13, 'hurt': 14, 'wwp': 25, 'atn': 44, 'ecg': 124, 'hcl': 36, 'arf': 112, 'thrombocytopeni': 3, 'phenylephrin': 13, 'barium': 84, 'arrhythmia': 79, 'downward': 39, 'gotten': 16, 'sertralin': 7, 'distant': 119, 'chin': 38, 'crush': 68, 'lamict': 3, 'bee': 35, 'worrisom': 46, 'interfer': 5, 'lamotrigin': 4, 'shape': 28, 'intersti': 4, 'penetr': 74, 'dysphagia': 89, 'pantoprazol': 96, 'vicoden': 1, 'ao': 13, 'scope': 18, 'seed': 4, 'copmlet': 1, 'rigid': 34, 'bibasilr': 3, 'tbm': 10, 'cipro': 73, 'anithypertens': 2, 'machin': 33, 'prudent': 4, 'oversed': 17, 'video': 113, 'thr': 5, 'heamodinam': 2, 'decadron': 16, 'pseudomona': 54, 'neither': 19, 'gallop': 65, 'sensat': 60, 'closur': 34, 'jrld': 8, 'mmm': 83, 'neosynephrin': 10, 'slp': 69, 'lorazepam': 66, 'laryngoscop': 1, 'ipratroprium': 7, 'chanc': 20, 'pta': 59, 'postop': 31, 'autoset': 12, 'robitussin': 14, 'seroquel': 32, 'tracheomalacia': 19, 'alway': 56, 'guaifenesin': 23, 'mouthwash': 5, 'tab': 61, 'strict': 49, 'calori': 62, 'hypocalor': 23, 'normoact': 16, 'contamin': 63, 'bactermia': 8, 'bupropion': 4, 'lighten': 24, 'offici': 17, 'tracheocutan': 1, 'tazobactam': 90, 'recordsheparin': 1, 'inadequ': 59, 'nkfa': 15, 'euvolem': 48, 'hyperlipidemia': 74, 'treatement': 5, 'guidelin': 14, 'burn': 23, 'tracheobronchiomalacia': 1, 'requr': 6, 'idos': 1, 'trop': 71, 'delin': 29, 'nocturn': 15, 'os': 47, 'proceed': 42, 'quetiapin': 8, 'dcd': 18, 'rd': 48, 'stridor': 27, 'organomegali': 41, 'thrombocytosi': 11, 'wan': 1, 'bcx': 81, 'caution': 18, 'fistula': 48, 'supraglott': 2, 'granul': 14, 'mvv': 2, 'eomi': 56, 'bronchospasm': 27, 'context': 38, 'ppf': 7, 'lunch': 40, 'cal': 49, 'intraabdomin': 26, 'ric': 1, 'atheroma': 15, 'exagger': 13, 'basilar': 201, 'hcfa': 22, 'intcat': 1, 'dosag': 42, 'woke': 30, 'laa': 16, 'border': 79, 'pnumonia': 6, 'asd': 65, 'spacer': 16, 'raa': 13, 'orthostat': 6, 'latter': 14, 'regul': 26, 'throughtout': 10, 'benzocain': 11, 'asthma': 76, 'appendag': 17, 'bronchopneumonia': 8, 'probablyl': 1, 'certifi': 23, 'spray': 32, 'regimin': 14, 'flovent': 23, 'utd': 2, 'releas': 32, \"amt'\": 1, 'tollert': 5, 'inact': 4, 'pleurit': 50, 'reassurr': 3, 'former': 26, 'coughin': 2, 'diarrhoea': 2, 'invers': 48, 'difus': 3, 'user': 7, 'therepay': 1, 'cardia': 11, 'salesman': 2, 'systool': 1, 'aunt': 11, 'sober': 4, 'clock': 21, 'proce': 6, 'quadrent': 9, 'labe': 2, 'halfway': 6, 'endocrin': 100, 'hepc': 6, 'drinkinhg': 1, 'arrborn': 1, 'xr': 9, 'issacc': 1, 'clavian': 1, 'someon': 21, 'tachcardia': 3, 'incresa': 9, 'rac': 10, 'suptum': 4, 'dizzy': 4, 'svo': 30, 'compliant': 28, 'great': 102, 'percent': 12, 'noncontrast': 26, 'polysubst': 8, 'opert': 1, 'abus': 89, 'tb': 35, 'ivanbx': 2, 'efus': 2, 'malais': 29, 'bloodwork': 2, 'feasibl': 13, 'intralumin': 43, 'minor': 63, 'thereor': 2, 'culter': 4, 'oedema': 2, 'tachi': 109, 'dirrhea': 3, 'number': 88, 'blastic': 40, 'obliqu': 44, 'leginella': 1, 'myo': 1, 'monitot': 1, 'surround': 117, 'housem': 1, 'tele': 78, 'tenou': 2, 'dinner': 44, 'soung': 1, 'hrli': 23, 'preacuat': 1, 'entre': 1, 'tolerta': 4, 'fan': 9, 'multidiciplanari': 2, 'setteld': 1, 'whilst': 5, 'prouctiav': 1, 'drope': 8, 'notbal': 1, 'expor': 2, 'airborn': 13, 'sweat': 31, 'unoffici': 2, 'maitain': 7, 'calciif': 1, 'wrote': 12, 'hcc': 4, 'widen': 54, 'cryptogen': 7, 'osteolyt': 10, 'chill': 93, 'exposur': 45, 'inspir': 53, 'nss': 10, 'plaqu': 50, 'ablat': 14, 'partli': 23, 'amiben': 1, 'multiphas': 4, 'asbesto': 18, 'pseudo': 8, 'cardiomedistin': 2, 'rightward': 32, 'celiac': 16, 'radiofrequ': 2, 'pseudocyst': 4, 'hypersensit': 15, 'paratrach': 55, 'rfa': 2, 'emphysema': 117, 'anomali': 3, 'aprox': 4, 'stent': 77, 'evalut': 20, 'phasether': 1, 'pancreatit': 6, 'plastic': 16, 'vesicl': 16, 'eosinophil': 23, 'emphysemat': 25, 'attenutaion': 1, 'hunger': 10, 'puffer': 1, 'biliari': 93, 'bulla': 9, 'priior': 1, 'portal': 69, 'atenolol': 23, 'real': 21, 'plueral': 7, 'ductal': 46, 'wonder': 9, 'offic': 36, 'knew': 18, 'accentu': 13, 'perfus': 108, 'yeaterday': 4, 'flexi': 16, 'commut': 1, 'hila': 32, 'lingula': 51, 'sizabl': 10, 'sphincter': 10, 'nodular': 89, 'predomin': 48, 'centrilobular': 30, 'dome': 12, 'threat': 6, 'jelli': 13, 'pouch': 7, 'iwht': 1, 'mandarin': 4, 'psych': 70, 'mix': 77, 'smoothli': 3, 'anem': 6, 'fluconazol': 22, 'cardaic': 9, 'door': 8, 'ppp': 44, 'gradual': 81, 'azrithomycin': 1, 'maew': 14, 'induct': 11, 'mvmt': 7, 'dark': 88, 'bsc': 6, 'beeper': 13, 'ampho': 1, 'montior': 12, 'dat': 5, 'ne': 16, 'atb': 7, 'difficutli': 8, 'refriger': 3, 'toe': 64, 'flucytosin': 1, 'amb': 30, 'bedbath': 7, 'ambison': 2, 'asap': 25, 'azythromycin': 8, 'ealier': 2, 'stripe': 3, 'ile': 1, 'dispos': 3, 'antigen': 69, 'nuse': 1, 'beter': 2, 'tue': 103, 'cryptococc': 7, 'indwel': 83, 'inhomogen': 2, 'aortopulmonari': 5, 'acit': 6, 'bigm': 1, 'leni': 44, 'hdsa': 3, 'biopsi': 61, 'nutrient': 1, 'serax': 2, 'nonrebreath': 6, 'evolv': 48, 'traction': 12, 'conjunct': 77, 'medrol': 12, 'thhat': 1, 'meal': 67, 'bronchu': 48, 'onm': 1, 'wth': 10, 'asymp': 1, 'select': 26, 'chew': 16, 'sarcoidosi': 8, 'mx': 5, 'intrahepat': 39, 'aao': 19, 'standpoint': 29, 'dedic': 30, 'sighn': 1, 'cross': 39, 'interlobular': 12, 'tail': 21, 'hypoxem': 63, 'seri': 74, 'ild': 15, 'sed': 47, 'bigemini': 18, 'strain': 28, 'girlfriend': 9, 'bronchiolectasi': 2, 'vat': 37, 'conves': 1, 'nomogram': 2, 'bronchiectasi': 45, \"pvc'\": 2, 'solu': 10, 'decreaz': 1, 'rib': 92, 'intralobular': 5, 'promari': 1, 'treament': 3, 'station': 27, 'resect': 60, 'calif': 1, 'alveol': 3, 'trap': 26, 'calculi': 22, 'prone': 20, 'joke': 5, 'osmo': 2, 'softner': 4, 'reas': 1, 'textur': 18, 'thorax': 53, 'spokesperson': 35, 'bt': 16, 'undergon': 14, 'monit': 11, 'ccheck': 1, 'lacunar': 20, 'edt': 2, 'hygroma': 2, 'occasionali': 7, 'wcn': 1, 'dement': 5, 'unwind': 1, 'inflow': 40, 'rhytham': 3, 'ssc': 4, 'fore': 2, 'barier': 1, 'bolou': 4, 'fainf': 1, 'trnasfus': 1, 'scratch': 11, 'somul': 19, 'therapaut': 1, 'tronchant': 1, 'hypoglycem': 14, 'jet': 17, 'solomn': 1, 'eccentr': 18, 'neutropho': 8, 'statg': 1, 'bifront': 5, 'sarna': 18, 'thalamu': 3, 'trochant': 5, 'puntur': 1, 'edg': 53, 'mush': 3, 'rewrit': 1, 'napho': 1, 'oze': 1, 'pst': 2, 'debried': 2, 'debrid': 14, 'braeth': 2, 'derang': 2, 'hardwar': 28, 'adeq': 31, 'naus': 3, 'facilit': 54, 'doppl': 2, 'stert': 1, 'transfert': 1, 'ativa': 1, 'dicis': 1, 'guafenisen': 1, 'sundrom': 1, 'cefepin': 2, 'podu': 8, 'break': 43, 'predinson': 2, 'grossili': 1, 'perirect': 10, 'baslin': 8, 'recevi': 4, 'wateri': 21, '^activ': 1, 'doctor': 25, 'mul': 7, 'yel': 18, 'vigir': 1, 'lrg': 12, 'passymuir': 1, 'gt': 33, 'perian': 26, 'redn': 2, 'play': 21, 'decrea': 4, 'avvess': 1, 'bradi': 37, 'btwn': 6, 'pnr': 2, 'rednessskin': 1, 'rsp': 11, 'revertedcardiolog': 1, 'tighten': 22, 'fpp': 1, 'codein': 31, 'airb': 9, 'bsx': 21, 'additon': 7, 'sxd': 14, \"antibx'siv\": 1, 'attemtpt': 2, 'diflucan': 6, 'wht': 4, 'intubat': 3, 'print': 11, 'ffp': 28, 'xtra': 3, 'rhonchoru': 14, \"am't\": 3, 'meditatin': 1, 'thicker': 10, 'clonazapam': 3, 'admininst': 2, \"'rest\": 1, 'regurg': 10, 'revert': 11, 'rtw': 1, 'comfortabl': 1, 'rr^': 2, 'steriod': 27, 'planninng': 1, 'incis': 54, 'pant': 4, 'pacemek': 1, 'miconizol': 6, 'briskli': 20, 'contini': 3, 'rvr': 52, 'stretcher': 32, 'psupp': 8, 'nervous': 1, 'dizzi': 43, 'amiod': 2, 'gtube': 17, 'montitor': 3, 'extremit': 28, 'moderat': 1, 'mlc': 4, 'longest': 2, 'heplock': 18, 'coccxi': 3, 'flip': 14, 'complementari': 1, 'lightheaded': 25, 'episd': 1, 'pulmojnari': 1, \"'tire\": 1, 'perineum': 29, 'maex': 6, 'towel': 6, 'thumb': 8, 'patenc': 32, 'diureiss': 1, 'cleanser': 21, 'abit': 6, 'duflucan': 1, 'disted': 1, 'forehead': 7, 'cefipim': 74, 'amiodaron': 47, 'reticular': 17, 'fliud': 5, 'asynchronu': 1, 'reang': 1, 'sxned': 21, 'periipher': 1, 'spasmod': 1, '^inr': 2, 'ecchymosi': 20, 'ccq': 3, 'hyperthyroid': 4, 'breakdownn': 1, 'retap': 29, 'serequel': 4, 'postion': 16, 'bcome': 1, 'gluteal': 20, 'gestur': 33, 'save': 9, 'clonazipam': 1, 'confluenc': 22, 'zip': 2, 'protex': 1, 'ccn': 6, 'lopresor': 8, 'suceed': 2, 'flipp': 1, 'medium': 40, 'weitht': 1, 'antianxieti': 9, 'pone': 2, 'xanax': 12, 'disten': 8, 'powed': 1, 'alprazolam': 5, 'althoug': 1, 'music': 5, 'sn': 4, 'electolyt': 8, 'realiz': 11, 'superf': 2, 'uninvolv': 2, 'amio': 23, 'hypoxaemiaand': 1, 'brachi': 1, 'appro': 4, 'atropin': 14, 'homeopath': 2, 'nausou': 1, 'syrup': 7, 'belt': 9, 'codien': 3, 'betweeen': 1, 'occass': 22, 'mildi': 20, 'rhinoviru': 1, 'atril': 2, 'pat': 12, 'breakdow': 1, 'preprocedur': 35, 'foam': 16, 'eldest': 2, 'ordere': 3, 'noutrit': 1, 'frewq': 1, 'resportedli': 3, 'prednison': 108, 'litr': 15, 'viust': 1, 'adventiti': 2, 'sacral': 42, 'toilett': 4, 'hundr': 6, 'hyperoxemia': 3, 'accumul': 18, 'eith': 3, 'nsb': 8, 'inj': 6, 'thyroid': 108, 'bldi': 11, 'pivot': 41, 'sacrum': 45, 'vasopressin': 17, 'comapzin': 1, 'holist': 2, 'methimazol': 3, 'epidod': 1, 'bend': 10, 'fleck': 5, 'altepas': 2, 'instil': 32, 'norepinephrin': 23, 'activi': 1, 'recev': 4, 'upbeat': 2, 'sb': 107, 'properli': 26, 'acess': 6, 'ultim': 33, 'updatedon': 1, 'cefapim': 14, 'occaa': 1, 'nka': 4, 'protract': 4, 'warfarin': 35, 'elect': 27, 'simpli': 17, 'alkolosi': 6, 'nonpit': 1, 'dye': 29, 'hemoglobin': 9, 'monosodium': 1, 'eob': 23, 'tunnel': 48, 'kepra': 1, 'phenytoin': 9, 'cue': 41, 'drew': 3, 'appoint': 30, 'sqt': 1, 'sustain': 42, 'confid': 6, 'retri': 9, 'ncm': 18, 'sens': 34, 'vc': 7, 'bsn': 20, 'appt': 10, 'vm': 11, 'dronedaron': 1, 'heb': 6, 'ctx': 66, 'vd': 13, 'squat': 5, 'dead': 12, 'graft': 24, 'violent': 3, 'unnecessari': 6, 'heat': 20, 'warafin': 1, 'choley': 3, 'reb': 5, 'granual': 1, 'ttp': 20, 'lob': 15, 'clearanc': 58, 'dyspneic': 46, 'mere': 9, 'doesnt': 5, 'commens': 9, 'dyslipidemia': 15, 'epilept': 2, 'spars': 25, 'trachemask': 1, 'inaccur': 5, 'plof': 7, 'vdvt': 1, 'resuspend': 1, 'pafib': 3, 'readmit': 35, 'ipratropium': 74, 'yom': 31, 'intermit': 30, 'antibioit': 1, 'achhiev': 1, 'beneprotein': 28, 'pictur': 57, 'near': 151, 'supratherapeut': 25, 'absorb': 9, 'bromid': 33, 'bph': 29, 'exud': 22, 'redo': 10, 'pulll': 1, 'femor': 131, 'foami': 2, 'implant': 9, 'redos': 12, 'bar': 6, 'famotidin': 58, 'strenth': 2, 'glutam': 1, 'maxa': 8, 'aris': 18, 'motiv': 9, 'preced': 43, 'rins': 14, 'levetiracetam': 8, 'environment': 1, 'cholesterol': 12, 'serratia': 2, 'suspens': 13, 'household': 2, 'cabgx': 3, 'flomax': 7, 'seiz': 4, 'cholecystostomi': 2, 'load': 65, 'lipid': 15, 'ukn': 1, 'hair': 5, 'greatli': 37, 'btca': 4, 'granular': 4, 'yetserday': 1, 'shif': 1, 'maxim': 37, 'platelet': 27, 'urojet': 3, 'diverticulosi': 33, 'cholecystosomi': 1, 'palcement': 7, 'flank': 40, 'abbrevi': 4, 'spin': 8, 'ug': 2, 'tacheostomi': 2, 'performac': 12, 'urea': 3, 'phenobarbit': 3, 'pharmaci': 42, 'entranc': 5, 'wfl': 40, 'hypoperfus': 16, 'cholangiogram': 1, 'tub': 6, 'triglycerid': 9, 'sem': 22, 'endovascular': 2, 'sure': 50, 'moda': 13, 'afterward': 26, 'compart': 12, 'telemetri': 56, 'hotn': 13, 'endur': 30, 'intensivist': 3, 'mmp': 10, 'convuls': 4, 'pth': 4, 'surgeon': 12, 'rlq': 11, 'tartrat': 29, 'hypercalcemia': 10, 'noninvas': 13, 'cholecystectomi': 39, 'risen': 3, 'subtherapeut': 23, 'groom': 2, 'cast': 13, 'phlebiti': 3, 'hypovolemia': 51, 'dronederon': 1, 'hap': 93, 'hyperthryoid': 1, 'harsh': 13, 'adaptec': 2, 'discoid': 8, 'mural': 13, 'okay': 60, 'struggl': 7, 'othwis': 1, 'hydralizin': 18, 'hypothermia': 19, 'oett': 27, 'asystol': 2, 'arrest': 23, 'enalapril': 9, 'vasotec': 7, 'methylprednison': 11, 'semiform': 5, 'bsbl': 1, 'writen': 1, 'neutrophil': 10, 'aeros': 2, 'anymor': 14, 'worst': 22, 'ni': 6, 'nightgown': 2, 'angri': 25, 'dobhuff': 1, 'unsucces': 4, 'sugic': 1, 'oncologist': 18, 'peermenat': 1, 'armstorng': 1, 'divorc': 6, 'midday': 3, 'medistin': 5, 'drowsi': 14, 'permen': 2, 'henc': 8, 'hallucinatori': 2, 'lap': 19, 'design': 36, 'fom': 4, 'metastat': 65, 'desprat': 1, 'ridgid': 2, 'orali': 1, 'clapm': 1, 'delusioni': 1, 'smoker': 69, 'conitinu': 2, 'multilpl': 1, 'restarin': 1, \"'m\": 25, 'tachyapen': 1, 'nobodi': 2, 'thrash': 17, 'paralyt': 10, 'oxicontin': 1, 'nevertheless': 12, 'pcw': 2, 'departur': 3, 'diminis': 1, 'proof': 1, 'suddenli': 12, 'importantli': 4, 'currentlli': 1, 'notibl': 1, 'shred': 1, 'mo': 27, 'sorri': 4, 'kn': 1, 'propfol': 7, 'decsion': 3, 'paperwork': 34, 'reccur': 3, 'paranoid': 10, 'indian': 3, 'waist': 12, 'stint': 1, 'propof': 2, 'thoracostomi': 8, 'flexibl': 5, 'chemo': 44, 'maintenc': 2, 'taht': 2, 'hallucin': 33, 'harm': 8, 'west': 20, 'dictat': 70, 'unsucess': 2, 'advantag': 2, 'bandaid': 9, 'bronchoscop': 10, 'tumor': 44, 'abat': 5, 'empti': 27, 'lla': 8, 'escap': 5, 'imv': 13, 'setup': 7, 'proccess': 1, 'wrestl': 1, 'misc': 5, 'build': 17, 'leather': 3, 'terribl': 4, 'vaccum': 1, 'gs': 21, 'crepitu': 27, 'reprot': 2, 'subclav': 3, 'moistur': 14, 'radiat': 80, 'xrt': 41, 'oncolog': 34, 'cordi': 10, 'beggin': 1, 'releiv': 4, 'attack': 20, 'ncp': 1, 'neoplast': 14, 'crew': 2, 'remiss': 6, 'kill': 8, 'neuropathi': 36, 'perecnt': 1, 'uncoil': 2, 'brieflli': 1, 'addict': 21, 'consit': 5, 'hcv': 23, 'floey': 1, 'presep': 18, 'ivda': 4, 'thoughtout': 2, 'segment': 205, 'azitromycin': 2, 'plum': 1, 'dryer': 2, 'fhpa': 7, 'receipt': 2, 'morbid': 15, 'marker': 31, 'pseudonoma': 1, 'bsf': 2, 'catch': 7, 'respiraotri': 3, 'aroussbl': 1, 'clonipin': 5, 'colostomi': 17, 'tran': 16, 'mgx': 4, 'bariair': 3, 'amx': 3, 'serosang': 31, 'shilli': 1, 'acinetobact': 3, 'avg': 9, 'tirat': 3, 'vicodan': 1, 'bigboy': 1, 'draing': 12, 'communc': 2, 'closet': 2, 'adendun': 1, 'clonopin': 6, 'immidiatli': 1, 'italian': 4, 'aa': 21, 'cortisol': 27, 'presur': 2, 'uncommun': 3, '^rd': 13, 'augment': 97, 'levof': 3, 'act': 60, 'malposit': 24, 'intev': 3, 'worthwhil': 1, 'jxxb': 6, 'buttack': 1, 'png': 6, 'haloperidol': 25, 'pack': 74, 'vsd': 39, 'housestaff': 30, 'yesterd': 1, 'isquit': 1, 'damag': 14, 'unstag': 8, 'sttw': 2, 'unerli': 1, 'sundown': 15, 'perday': 1, 'neutra': 9, 'anicter': 69, 'pneumoperitoneum': 19, 'exch': 18, 'option': 51, 'groan': 12, 'resrart': 1, 'nursig': 1, 'bind': 1, 'invalid': 5, 'agua': 1, 'caliciu': 1, 'suprahilar': 10, 'anterolater': 39, 'somonl': 3, 'coaurs': 1, \"dri'\": 1, 'perpher': 18, 'ture': 5, 'epi': 25, 'nephrotox': 9, 'ferritin': 14, 'faster': 55, 'syring': 11, 'solut': 24, 'catheter': 18, 'eschar': 8, 'chlorhexadin': 2, 'vessl': 2, 'profus': 14, 'inhibitor': 30, 'beta': 99, 'atter': 1, 'pk': 9, 'odor': 14, 'bound': 17, 'notat': 3, 'alleyvn': 1, 'equival': 14, 'ascorb': 4, 'metoclopramid': 15, 'qidach': 2, 'std': 5, 'hear': 67, 'def': 7, 'sion': 1, 'formula': 30, 'blacken': 5, 'pxdb': 7, 'lit': 34, 'mdr': 8, 'omeprazol': 43, 'arhb': 9, 'account': 43, 'nickel': 3, 'resposit': 7, 'angina': 13, 'qhr': 8, 'hyperglycemia': 82, 'retir': 29, 'clonidin': 14, 'hadsbp': 1, 'drench': 1, 'jtube': 7, 'grayscal': 79, 'ts': 41, 'besid': 11, 'causal': 2, 'dng': 16, 'hrt': 21, 'hemiparesi': 29, 'gluc': 9, 'bicarbon': 13, 'bblocker': 6, 'cytolog': 26, 'mca': 17, 'freeli': 43, 'protector': 2, 'defici': 38, 'meticul': 5, 'fetl': 1, 'difficil': 31, 'improp': 1, 'chemistri': 51, 'palc': 8, 'avf': 27, 'ratio': 24, 'dif': 8, 'rca': 9, 'sight': 8, 'anteriolater': 1, 'repo': 17, 'algorithm': 7, 'roscommon': 1, 'mag': 82, 'tricep': 3, 'restrict': 89, 'peritoneum': 4, 'blockad': 15, 'allevyn': 21, 'medntal': 1, 'sun': 60, 'neuto': 1, 'lcx': 9, 'capactiy': 1, 'ppd': 30, 'unstabl': 30, 'valid': 13, 'bilar': 2, 'dhf': 3, 'brbpr': 10, 'broadli': 23, 'suppl': 81, \"uti'\": 1, 'tw': 7, 'spfc': 15, 'honk': 1, 'pda': 26, 'siadh': 26, 'flexis': 31, 'htpn': 1, 'miner': 47, 'curent': 4, 'twi': 18, \"ce'\": 3, 'synthryoid': 1, 'jksd': 18, 'upslop': 1, 'argu': 18, 'porcin': 5, 'normocyt': 10, 'hemipharesi': 1, 'anterospt': 1, 'rigor': 26, 'tablet': 26, 'dashboard': 7, 'courc': 1, 'sbo': 27, 'prioriti': 7, 'cerebrovascular': 11, 'insid': 13, 'hsq': 14, 'lad': 83, 'mulitivitamin': 1, 'rarr': 1, 'reciproc': 3, 'ste': 6, 'fulll': 1, 'alcohol': 96, 'multivitamin': 59, 'millimet': 2, 'metop': 8, 'misplac': 5, 'alkp': 1, 'panel': 49, 'toson': 1, 'hf': 19, 'mvi': 38, 'nonstag': 1, 'hyperreson': 44, 'acccess': 2, \"'out\": 1, 'hyperantremia': 1, 'rsrc': 14, 'crowd': 15, 'unk': 1, 'rhoncor': 12, 'rhoncer': 7, 'ggt': 9, 'reassuringli': 1, 'ftt': 5, 'ezmolol': 1, 'hemorrhoid': 9, 'cardic': 1, 'grimaci': 1, 'patellar': 3, 'disrrhea': 1, 'vigil': 4, 'meropenim': 4, 'sclera': 115, 'elderli': 34, 'muc': 1, 'juven': 1, 'azygo': 14, 'decel': 4, 'pottassium': 1, 'hypoaldosteron': 2, 'tobacco': 77, 'illicit': 10, 'merepenum': 8, 'hyperosmolar': 1, 'gr': 32, 'nitrit': 6, 'diaphoresi': 41, 'multidrug': 2, 'outsid': 75, 'healthcar': 40, 'clostridium': 20, 'ipratrop': 2, 'linazolid': 3, 'rather': 82, 'pulmocar': 1, 'repet': 7, 'legal': 36, 'attorney': 8, 'pud': 46, 'reclin': 13, 'cathey': 1, 'fed': 22, 'maiten': 2, 'tetracyclin': 12, 'guardian': 14, 'tha': 6, 'abdomihn': 1, 'gabapentin': 29, 'churg': 3, 'overdistend': 2, 'soband': 1, 'instanc': 6, 'neurot': 1, 'arthroplasti': 9, 'calcarb': 1, 'divis': 43, 'glycol': 11, 'bronchogram': 64, 'osteo': 10, 'sticki': 7, 'thatn': 1, 'llq': 10, 'consecut': 14, 'coli': 20, 'streak': 35, 'retent': 51, 'bloat': 4, 'ultram': 15, 'recordslosartan': 1, 'hypoalbuminemia': 2, 'pneumothorac': 31, 'bronchiti': 34, 'everytim': 2, 'sma': 10, 'pullmonari': 2, 'flew': 1, 'spiriva': 20, 'noncontributori': 3, 'miralax': 16, 'benzonat': 6, 'milk': 17, 'osteoarthr': 22, 'advair': 35, 'presepsi': 2, 'repons': 2, 'migrain': 10, 'mssa': 21, \"legionella'\": 1, 'ouput': 13, 'pseudomana': 1, 'palpit': 78, 'dchf': 10, 'numb': 53, 'overt': 81, 'angioneurot': 1, 'purs': 9, 'klor': 1, 'longstand': 31, 'manual': 33, 'jekh': 11, 'version': 44, 'atorvastatin': 24, 'golyt': 3, 'acquisit': 27, 'subcentimet': 30, 'centavit': 1, 'fibroid': 7, 'furosemi': 1, 'polyethylen': 12, 'myalgia': 62, 'sud': 6, 'tramadol': 11, 'precordium': 17, 'abund': 10, 'seven': 23, 'bra': 2, 'gastrointestin': 109, 'sock': 5, 'consolod': 2, 'senakot': 1, 'fluticason': 25, 'annulu': 23, 'obstip': 8, 'losartan': 9, 'cramp': 18, 'si': 17, 'impact': 40, 'fev': 9, 'homemak': 4, 'disempact': 3, 'angioedema': 8, 'discern': 12, 'modestli': 4, 'paf': 19, 'itch': 21, 'onlin': 13, 'mbue': 8, 'loratadin': 5, 'iin': 4, 'catscan': 3, 'disimpact': 13, 'uteru': 27, 'silent': 34, 'arthriti': 30, 'tenac': 2, 'bathroom': 16, 'suppositori': 25, \"md'\": 3, 'prod': 66, 'spoken': 41, 'aforement': 11, 'town': 5, 'yankaeur': 5, 'mici': 1, 'zithromax': 10, 'aphas': 10, 'apperci': 1, 'yield': 24, 'ade': 2, 'emisi': 2, 'recommenc': 3, 'od': 7, 'evenu': 1, 'evlauat': 1, 'inflitr': 3, 'unbal': 1, 'clairfi': 1, 'flouroscopi': 3, 'glucerna': 2, 'anf': 4, 'ru': 2, 'suciton': 7, 'oropharynx': 59, 'atelectas': 17, 'lymphanget': 2, 'intestin': 27, 'ultrasonograph': 15, 'incl': 29, 'correspond': 63, 'spillag': 4, 'deflect': 36, 'carcinomatosi': 5, 'para': 18, 'collim': 29, 'ultrasonographi': 5, 'int': 22, 'broncoscopi': 5, 'pnemonia': 17, 'passag': 12, 'conist': 2, 'vicryl': 8, 'boop': 9, 'perti': 1, 'absenc': 75, 'cricopharyng': 3, 'radiologistclip': 1, 'shth': 6, 'epiglott': 35, 'tunnedl': 1, 'nonlas': 5, 'neoplasm': 39, 'centesi': 7, 'outpouch': 1, 'exact': 10, 'biapic': 16, 'lost': 33, 'vascul': 14, 'oscult': 1, 'transamin': 26, 'aspergillosi': 3, 'dopp': 9, 'echotextur': 28, 'torso': 96, 'display': 60, 'niv': 28, 'aggrav': 2, 'serviceclip': 4, 'oval': 24, 'ciwa': 22, 'phase': 113, 'asperigillosi': 1, 'aaox': 33, 'anyon': 10, 'peribronchiolar': 9, 'vault': 4, 'duplex': 30, 'nonenhanc': 2, 'dont': 2, 'pel': 15, 'sebac': 4, 'vori': 1, 'bibas': 24, 'cbd': 21, 'hypoattenu': 18, 'sibl': 9, 'pancrat': 1, 'ake': 1, 'aroung': 3, 'tyleno': 3, 'thorcentesi': 1, 'siderail': 13, 'antibioitc': 2, 'assit': 10, 'intol': 2, 'pati': 1, 'subpulmon': 7, 'neccessari': 4, 'bedrail': 6, 'mayb': 34, 'strategi': 13, 'patint': 2, 'pharyngoesophag': 1, 'coninu': 6, 'brkd': 1, 'elong': 47, 'dysphoria': 1, 'outout': 3, 'scare': 12, 'agrre': 1, 'placem': 10, 'peopl': 33, 'charg': 6, 'duiresi': 4, 'entero': 1, 'chnage': 5, 'sanguin': 10, 'spon': 18, 'deem': 17, 'presseur': 1, 'epigast': 1, 'ther': 8, 'bloodting': 7, 'ancef': 1, 'zenker': 3, 'tu': 9, 'sideport': 9, 'diffult': 1, 'overlay': 4, 'eccyhmot': 1, 'adeqaut': 7, 'reliabl': 18, 'nifm': 1, 'prospect': 2, \"'ing\": 6, 'mycostatin': 16, 'musc': 1, 'diverticulum': 10, 'medcial': 1, 'sxning': 18, 'soften': 9, 'tudi': 1, 'cntl': 3, 'midnght': 1, 'backflow': 2, 'fc': 7, 'tack': 3, 'rust': 8, 'pylori': 11, 'sxt': 4, 'greek': 3, 'ventilatio': 1, 'tie': 13, 'antibiod': 8, 'prosthet': 14, 'exclus': 13, 'dep': 7, 'bx': 31, 'pnaumonia': 1, 'addtion': 4, 'book': 17, 'shown': 36, 'preclud': 15, 'trachesotomi': 1, 'bulg': 11, 'apneia': 1, 'oet': 3, 'epigastr': 21, 'abt': 5, 'previosu': 1, 'loccul': 1, 'pomot': 1, 'eqaul': 1, 'bang': 9, 'sheddi': 1, 'rsd': 1, 'fentanlyl': 1, 'esphog': 1, 'nephrectomi': 12, 'hepatoma': 1, 'huge': 13, 'nonobstruct': 9, 'nystagmoid': 1, 'uncomprehens': 2, 'cirrhot': 6, 'hyperechogen': 2, 'thrombosi': 91, 'grave': 6, 'olni': 1, 'xalatan': 2, 'neurontin': 39, 'durages': 5, 'nodal': 18, 'rythmic': 1, 'neutro': 4, 'phosphatas': 8, 'asid': 22, 'nonbreath': 1, 'aortocav': 4, 'cholelithiasi': 36, 'overse': 1, 'varic': 14, 'collater': 15, 'dyspahgia': 2, 'stigmata': 3, 'inclin': 5, 'intracardiac': 17, 'flovastin': 1, 'habitu': 52, 'ileu': 42, 'tambocor': 1, 'blossom': 4, 'pmi': 84, 'pfo': 19, 'craniotomi': 7, 'narrow': 111, 'sbna': 9, 'celexa': 25, 'bubbl': 24, 'grown': 18, 'enterobact': 7, 'seriou': 5, 'pneumatosi': 16, 'pneumovax': 3, 'pseudomembran': 2, 'accordion': 1, 'lowish': 2, 'contributori': 21, 'flecanid': 2, 'extrahepat': 15, 'dilaudid': 42, 'levoflaxacin': 2, 'gmdb': 3, 'frontotempor': 2, 'megacolon': 12, 'unexplain': 8, 'rheumat': 6, 'meningismu': 4, 'anur': 17, 'older': 12, 'decomp': 2, 'pancol': 3, 'hypoxi': 1, 'necessarili': 8, 'ica': 23, 'flecanaid': 1, 'aneursym': 4, 'qpm': 9, 'elicit': 13, 'hyperinfl': 31, 'esophag': 75, 'vac': 8, 'mood': 15, 'transcort': 1, 'heavi': 43, 'tkcb': 4, 'pancytopenia': 9, 'splenomegali': 26, 'eagg': 9, 'nwh': 5, 'withnew': 1, 'skincar': 4, 'pterion': 2, 'baricat': 6, 'unsur': 40, 'sac': 10, 'pernici': 4, 'architectur': 9, 'nsst': 2, 'falgyl': 2, 'pepcid': 46, 'empyema': 64, 'abomin': 1, 'valvular': 73, 'chgc': 4, 'shadow': 53, 'collapps': 1, 'qam': 18, 'splenoren': 2, 'questran': 1, 'flecainid': 2, 'subcarin': 48, 'depakot': 13, 'metronidazol': 54, 'honeycomb': 10, 'steadili': 13, 'orific': 5, 'foramen': 18, 'recordspneumovax': 1, 'ampl': 11, 'throughput': 1, 'teh': 7, 'paper': 32, 'anticoagualt': 1, 'gastrostomi': 35, 'airwari': 1, \"decr'\": 1, 'quadrupl': 2, 'expens': 3, 'ivx': 7, 'pupos': 3, 'cam': 3, 'practic': 9, 'speck': 5, 'slough': 6, 'recultur': 37, 'pipicilln': 1, 'bilex': 1, 'nodd': 4, 'transaort': 7, 'intremitt': 1, 'homogen': 34, 'bmthi': 1, 'ugib': 8, 'actviti': 3, 'endoscop': 6, 'pleura': 31, 'tart': 2, 'tracheobronchi': 20, 'midazolam': 75, 'tachypeniec': 2, 'imipemium': 1, 'blanket': 35, 'attemt': 5, 'qlcl': 2, 'peripancreat': 3, 'mc': 14, 'flexur': 10, 'intermitantli': 2, 'acalcul': 4, 'empath': 2, 'hypoplast': 3, 'coffe': 23, 'heavili': 19, 'bronchi': 54, 'wob^': 1, 'spillov': 23, 'anesthet': 26, 'awi': 3, 'nutrtion': 3, 'improvemnt': 2, 'netrothick': 1, 'haldolx': 1, 'erract': 1, 'fluorscop': 1, 'spirt': 1, 'kegal': 1, 'catnap': 1, 'bulb': 12, 'bout': 15, 'ativanx': 1, 'vallecula': 36, 'diuesi': 1, 'imipenem': 7, 'muer': 2, 'tyenol': 6, 'transluc': 1, 'lavarg': 5, 'integrt': 1, 'truncat': 2, 'podiatri': 6, 'crate': 1, 'teari': 10, 'lcl': 1, 'edno': 2, 'weather': 5, 'antegrad': 16, 'evsl': 1, 'clam': 3, 'gelatan': 1, 'barocat': 3, 'regiular': 1, 'pocket': 24, 'perlla': 4, 'thur': 9, 'catheth': 2, 'meperidin': 7, 'court': 9, 'fifteen': 2, 'lenght': 3, 'brb': 13, 'benzo': 46, 'crea': 10, 'chekc': 2, 'oz': 4, 'appropi': 19, 'junctur': 1, 'startl': 6, 'midlung': 8, 'stoolx': 5, 'aknowledg': 1, 'ureteru': 1, 'subcm': 2, 'cooprer': 1, 'spirit': 26, 'flucuat': 3, 'mycoplasma': 6, 'purri': 1, 'llightli': 1, 'honey': 15, 'repiratori': 5, 'rebolus': 3, 'peq': 1, 'imipenum': 3, 'bilou': 5, 'lanti': 6, 'anatom': 16, 'sputm': 3, 'zestril': 3, 'hallway': 5, 'intrathorac': 18, 'ltue': 1, 'bgm': 1, 'stau': 8, 'darken': 1, 'phenegin': 1, 'method': 14, 'grip': 15, 'peptomen': 3, 'agiat': 6, 'grimmac': 6, 'oil': 11, 'infil': 4, 'palpapt': 1, 'taught': 10, 'ou': 6, 'appropti': 1, 'maynot': 1, 'arachnoid': 5, 'ostiomeat': 5, 'affirmativley': 1, 'com': 4, 'deescal': 1, 'lenti': 1, 'groov': 2, 'dtv': 9, 'maxillofaci': 11, 'surfac': 39, 'droperidol': 1, 'billiou': 3, 'flouro': 3, 'baracat': 2, 'demerol': 10, 'bf': 3, 'drgreena': 1, 'behind': 14, 'vhp': 3, 'pneumat': 10, 'egg': 9, 'suctioin': 1, 'gastrographin': 2, 'gravitli': 1, 'gastrograffin': 4, 'tonit': 12, 'liw': 1, 'insuffici': 84, 'pneunomia': 2, 'accid': 8, 'dem': 1, 'mimin': 2, 'exu': 1, 'distensio': 1, 'tommorow': 9, 'thoughout': 17, 'ducolax': 10, 'palap': 2, 'sheift': 1, 'cooler': 2, 'indicaiton': 1, 'oxygent': 7, 'imepenem': 2, 'ocassion': 5, 'fuction': 3, 'fro': 23, 'hemi': 5, 'valuewith': 1, 'methylen': 3, 'sharpli': 17, 'lge': 27, 'unilater': 9, 'carvu': 15, 'llift': 1, 'eros': 17, 'eripher': 1, 'tacycardia': 3, 'unclamp': 3, 'averag': 51, 'acyclovir': 21, 'frquesnt': 1, 'acidot': 14, 'wont': 2, 'fatiqu': 3, 'panic': 14, 'silk': 14, 'straw': 62, 'viscer': 9, 'anesthesi': 1, 'reddish': 2, 'laboratori': 12, 'spiral': 2, 'peptamin': 1, 'fluroscop': 2, 'pheresi': 1, 'mandibl': 15, 'pasi': 2, 'mash': 4, 'tachpneic': 8, 'transger': 1, 'cmpeep': 1, 'antiboticx': 1, 'shook': 7, 'tachycardiac': 5, 'iatrogen': 7, 'fxd': 3, 'articul': 13, 'popscicl': 1, \"trach'\": 2, \"sx'ed\": 7, 'extralumin': 7, 'hydral': 17, 'prolin': 1, 'rhonch': 3, 'peptimen': 2, 'multipurpos': 1, 'rle': 40, 'dueoderm': 4, 'darker': 4, 'tachypen': 13, 'htx': 1, 'coomand': 1, 'lisinepril': 1, 'larynx': 8, 'fuo': 26, 'lwi': 1, 'leakag': 24, 'amyla': 1, 'mequ': 1, 'uac': 3, 'drng': 31, 'recan': 6, 'coud': 7, 'airmattress': 4, 'visul': 1, 'particiapt': 1, 'anaplast': 2, 'fallen': 9, 'yankauer': 28, 'extermit': 3, 'auditori': 6, 'rem': 1, 'withdrawl': 20, 'dima': 1, 'diabetc': 1, 'diaphor': 1, 'throghout': 1, 'armpit': 9, 'throuhgout': 4, 'patien': 4, 'riski': 3, 'liezolid': 1, 'linisod': 1, 'transvers': 41, 'maintainc': 3, 'acromioclavicular': 8, 'flagal': 2, 'hypertroph': 5, 'circumscrib': 12, 'humidifc': 2, 'domin': 9, 'cu': 16, 'letherg': 1, 'flaygl': 5, 'orangish': 1, 'pathologist': 19, 'kind': 9, 'swollow': 9, 'indetermin': 106, 'comforat': 2, 'givn': 9, 'vertebra': 13, 'lac': 14, 'hve': 1, 'duires': 4, 'lacutlos': 1, 'likley': 15, 'suffer': 19, 'dorsali': 34, 'primarili': 44, 'hymodynam': 1, 'shell': 1, 'thryoidectomi': 1, 'steadi': 51, 'bougi': 3, 'accesori': 3, 'sato': 9, 'langu': 1, 'spc': 1, 'retriev': 10, 'pusl': 1, 'uncommon': 3, 'biilater': 1, 'irregualr': 1, 'shaft': 10, 'thyroidectomi': 9, 'collabor': 26, 'diffculti': 2, 'tt': 12, 'dinnertim': 2, 'subcost': 14, 'presenlti': 1, 'implement': 17, \"'even\": 1, 'breather': 9, 'chorda': 51, 'pleasent': 2, 'thrombi': 20, 'protecton': 1, 'parastern': 13, 'institut': 9, 'cardizem': 12, 'gone': 34, 'npc': 13, 'pep': 3, 'ccc': 61, 'svn': 17, 'oh': 10, 'hypokalemia': 16, 'callout': 9, 'hypernatermia': 1, 'asdir': 10, 'rusb': 6, 'desmopressin': 2, 'mcv': 11, 'givenrsbi': 1, 'fena': 30, 'pyelonephr': 8, 'adat': 20, 'panhypopit': 1, 'appropriatli': 11, 'spread': 24, 'diovan': 6, 'americar': 1, 'hypoventil': 20, 'adn': 11, 'girl': 5, 'callbel': 4, 'microorgan': 27, 'eject': 34, 'recordsac': 1, 'reorder': 11, 'valsartan': 6, 'bronchodiltor': 1, 'sella': 3, 'valsartin': 1, 'boy': 5, 'overweight': 88, 'coverg': 3, 'dysuria': 70, 'mandat': 14, 'usb': 3, 'comm': 39, 'mghg': 1, 'hypopituitar': 1, 'hypercapn': 9, 'hyperbar': 1, 'panhypopituitar': 1, 'feurea': 10, 'ddavp': 4, 'grandchildren': 6, 'disabl': 15, 'diiures': 1, 'young': 14, 'atarax': 1, 'loudest': 6, 'hypercarb': 44, 'comprehend': 6, 'bascil': 1, 'epidur': 19, 'decort': 23, 'saftey': 4, 'iorn': 1, 'anticub': 3, 'bilt': 2, 'readili': 12, 'tarri': 6, 'basilac': 2, 'tortuos': 24, 'drifit': 1, 'redict': 1, 'alph': 2, 'firmer': 2, 'radiolabel': 1, 'autonim': 1, 'endoscopi': 20, 'label': 13, 'hyotens': 3, 'malleol': 1, 'bo': 18, 'inleg': 1, 'listen': 31, 'uci': 1, 'whil': 1, 'gamma': 3, 'esophogram': 2, 'acceler': 11, 'compleat': 2, 'colloid': 4, 'repetit': 8, 'gell': 2, 'contratur': 1, 'lebil': 1, 'ingest': 16, 'immediatli': 2, 'scali': 2, 'cerebro': 1, 'periren': 4, 'capabl': 7, 'daughet': 3, 'repeatedli': 25, 'hemispher': 18, 'fluctuant': 2, 'radlin': 10, 'tracer': 9, 'strictli': 7, 'nephrolithiasi': 25, 'babi': 7, 'inquiri': 12, 'transcript': 10, 'abraison': 1, 'autonom': 9, 'undetect': 6, 'yankuer': 14, 'aniticip': 1, 'lidoderm': 9, 'dysmotil': 2, 'unconclus': 1, 'reprons': 1, 'camera': 2, 'titir': 3, 'parasagitt': 5, 'cotinu': 4, 'vacuo': 4, 'ri': 8, 'severli': 6, 'advis': 32, 'complainingof': 1, 'nightmar': 1, 'sulfur': 1, 'radiopharmeceut': 1, 'nauseat': 5, 'similarli': 13, 'breifli': 4, 'rvef': 1, 'wheat': 2, 'axr': 3, 'quantit': 10, 'gadolin': 4, 'bilobar': 1, 'pneumocyst': 2, 'caspofugin': 1, 'chux': 2, 'compl': 3, 'cmr': 1, 'poplit': 71, 'dtpa': 5, 'pauciti': 10, 'amplitud': 28, 'dimeglumin': 1, 'horizont': 5, 'hyperdynam': 66, 'plane': 41, 'obstrn': 1, 'abut': 24, 'myocardium': 7, 'diaphragmat': 20, 'ej': 9, 'phasic': 13, 'obx': 1, 'qp': 1, 'skelet': 9, 'porta': 9, 'dynspnea': 1, 'mltp': 1, 'immunosuppress': 17, 'ssfp': 1, 'chrohn': 3, 'immunosupress': 6, 'mtx': 2, 'ielostomi': 1, 'independantli': 4, 'echodens': 7, 'qflow': 1, 'algorythm': 1, 'index': 28, 'gadopentet': 1, 'customari': 1, 'atial': 1, 'apprx': 2, \"'chest\": 1, 'worsn': 2, 'epicardi': 6, 'appropraietli': 1, 'anterosept': 55, 'emboli': 34, 'corvac': 2, 'asymmetri': 18, 'crohn': 9, 'spectral': 19, 'liquidi': 4, 'arrhymia': 1, 'methadon': 24, 'candi': 1, 'fraction': 30, 'cine': 2, 'ritalin': 7, 'thrombocytopenia': 29, 'slur': 17, 'nsclca': 7, 'lobectomi': 23, 'toung': 4, 'droop': 20, 'insult': 20, 'hyperreflex': 1, 'swish': 7, 'avascular': 6, 'palat': 41, 'cord': 52, 'propanolol': 2, 'pontin': 5, 'nscla': 1, 'fatug': 1, 'rhinorrhea': 19, 'duoneb': 7, 'achil': 3, 'althrough': 1, 'lid': 5, 'catarac': 1, 'benzodiazepin': 13, 'jvd': 47, 'nonsmal': 6, 'amiodoron': 11, 'dexamethason': 15, 'metastasi': 31, 'nsclc': 27, 'fibrin': 4, 'anixeti': 1, 'insight': 4, 'nonsustain': 2, 'concer': 2, 'hsm': 45, 'nslca': 1, 'paroxetin': 7, 'petellar': 1, 'bruit': 15, 'upgo': 1, 'mmd': 1, 'ome': 18, 'upward': 26, 'hypocalcemia': 6, 'unavail': 35, 'trunk': 34, 'anywher': 11, 'rhabdomyolysi': 3, 'rhabdo': 3, 'retard': 8, 'inflam': 9, 'secondard': 1, 'tum': 8, 'pneumnia': 3, 'shave': 8, 'csru': 10, 'dysfxn': 4, 'essentailli': 1, 'inferiorli': 31, 'fatti': 29, 'interstici': 1, 'reccommend': 3, 'precep': 1, 'raw': 12, 'malfunt': 1, 'deminer': 20, 'preoper': 5, 'volumetr': 13, 'asbestosi': 5, 'subpleur': 19, 'gutter': 11, 'feaml': 1, 'metastas': 27, 'skeleton': 12, 'adenoid': 3, 'eg': 17, 'sho': 1, 'fifti': 1, 'nkg': 2, 'thoracu': 1, 'amalgam': 2, 'deoxygen': 1, 'corin': 1, 'adnexa': 18, 'desa': 2, 'emobol': 1, 'penumonia': 8, 'interrupt': 11, 'subcorin': 1, 'tspine': 1, 'colic': 4, 'parotid': 10, 'uptak': 12, 'degener': 11, 'carcinoma': 47, 'deal': 12, 'intervertebr': 9, 'extext': 6, 'polyp': 15, 'dental': 12, 'obsturct': 1, 'crp': 8, 'glute': 5, 'brace': 9, 'trust': 6, 'medicat': 2, 'panick': 2, 'wc': 7, 'wheel': 8, 'patul': 4, 'wellbutrim': 2, 'spoon': 14, 'reguard': 6, 'freak': 1, 'pall': 4, 'mepilex': 16, 'neurogen': 6, 'strike': 7, 'emuls': 1, 'baclofen': 11, 'klonopin': 17, 'cautious': 6, 'cottonse': 1, 'upep': 2, 'gbm': 5, 'hive': 31, 'ipf': 18, 'citrat': 11, 'hallodol': 1, 'lollipop': 1, 'threw': 3, 'halodol': 7, 'mucinex': 16, 'zinc': 5, 'wrok': 1, 'anca': 11, 'anxirti': 2, 'tib': 6, 'prealbumin': 1, 'paraplegia': 11, 'readm': 3, 'addt': 1, 'fexofenadin': 6, 'adamantli': 3, 'opiat': 21, 'premed': 6, 'wasa': 2, 'samter': 1, 'wellbutrin': 4, 'togeth': 16, 'geripsych': 1, 'mucuh': 1, 'refeed': 4, 'rough': 3, 'spep': 3, 'triad': 1, 'lollypop': 2, 'buccal': 23, 'ischial': 3, 'femur': 19, 'serolog': 22, 'apolog': 1, 'mexiletin': 3, 'alevi': 1, 'consern': 1, 'radiiograph': 1, 'esr': 10, 'myeliti': 1, 'eosiniophilia': 1, 'homecar': 3, 'syndro': 2, 'spri': 3, 'viru': 16, 'fenatyl': 2, 'breez': 1, 'iodin': 24, 'stasi': 19, 'bursiti': 2, 'relationship': 11, 'glucan': 21, 'galactommanan': 1, 'pussi': 1, 'cessat': 9, 'montelukast': 6, 'tofu': 1, 'ppn': 6, 'cmo': 24, 'participc': 1, 'synephrin': 2, 'smell': 18, 'nf': 6, 'tg': 6, 'preren': 34, 'solutab': 1, 'parenter': 45, 'coagul': 15, 'ishial': 1, 'persu': 4, 'mexilitin': 1, 'recordsaspirin': 1, 'obssess': 1, 'antigbm': 1, 'tenuou': 40, 'sampter': 1, 'satt': 3, 'hum': 2, 'abrupt': 9, 'uroqid': 1, 'ondansetron': 11, 'pseudoephedrin': 1, 'sereou': 1, 'ige': 3, 'parapleg': 6, 'naloxon': 1, 'theophyllin': 3, 'starter': 2, 'ancillari': 2, 'nutit': 2, 'vacno': 4, 'coagulopathi': 57, 'amino': 3, 'fowel': 2, 'sedaton': 1, 'bridg': 25, 'yelllow': 5, 'prom': 8, 'pca': 21, 'prupos': 1, 'minist': 2, 'slilghtli': 1, 'signif': 18, 'socail': 10, 'objecti': 1, 'quiac': 7, 'bacitracin': 10, 'sync': 2, 'undetail': 1, 'cousin': 9, 'trail': 14, 'distrss': 1, 'dk': 13, 'share': 47, 'willb': 2, 'electrolty': 1, 'hh': 8, 'pop': 8, 'cotn': 4, 'unti': 1, 'god': 4, 'pulmonolog': 8, 'possobl': 1, 'ovebreath': 1, 'ball': 6, 'duccolax': 1, 'golf': 2, 'acv': 12, 'sse': 10, 'smile': 23, 'resent': 15, 'multilfoc': 1, 'gent': 12, 'pericar': 5, 'anim': 10, 'providencia': 2, 'pastey': 2, 'glut': 9, \"o'\": 4, 'cleasn': 2, 'speaker': 11, 'vec': 6, 'reiniti': 7, 'incorrect': 5, 'wdw': 1, 'ileostomi': 9, 'cline': 2, 'sero': 14, 'rssi': 11, 'iliostomi': 2, 'nacl': 5, 'coat': 15, 'smal': 3, 'spill': 20, 'colour': 5, 'vallecular': 6, 'ileotomi': 1, 'drg': 10, \"sx'ng\": 4, 'dh': 2, 'trnf': 2, 'ordredd': 1, 'priviou': 1, 'integu': 6, 'filter': 39, 'integrum': 1, 'ds': 15, 'hemodynm': 6, 'purlul': 2, 'jump': 5, 'oxygn': 3, 'erupt': 4, 'secreathin': 1, 'pyloro': 1, 'duoden': 18, 'applianc': 8, 'subtot': 9, 'dophoff': 7, 'scabi': 1, 'colectomi': 19, 'mastic': 23, 'stump': 10, 'sang': 22, 'dobhoff': 39, 'vascularight': 1, 'strg': 1, 'coar': 6, 'splenectomi': 7, 'inabilti': 2, 'verapim': 1, 'telfa': 4, 'gastic': 1, \"'ll\": 7, 'liason': 3, 'underway': 6, 'minitrach': 1, 'acapella': 8, 'research': 1, 'spivira': 1, 'dyspnic': 10, 'covers': 1, 'abrais': 3, 'hab': 2, 'glove': 2, 'xperson': 1, 'cannuala': 1, 'tachypnec': 1, 'ek': 1, 'recievi': 2, 'verapamil': 6, 'ringer': 1, 'yanker': 4, 'lispro': 3, 'thristi': 2, 'facilti': 1, 'ultrason': 2, 'singular': 1, 'hyperact': 17, 'mini': 19, 'predormin': 1, 'isoptin': 1, 'asssess': 3, 'freewat': 1, 'bbb': 7, 'counter': 1, 'inculin': 1, 'coved': 1, 'temder': 1, 'ident': 12, 'ssic': 4, 'peptamen': 6, 'ducos': 1, 'cvf': 1, 'acetlycystein': 1, 'grandchild': 1, 'rid': 3, 'perin': 22, 'rosolv': 1, 'varapamil': 1, 'luck': 1, 'dyspnoic': 1, 'wnc': 1, 'productv': 1, 'afterword': 1, 'abruptli': 4, 'replenish': 9, 'defict': 1, 'stabk': 1, 'dht': 6, 'suppport': 5, 'pericolac': 1, 'sete': 2, 'chged': 2, 'farther': 1, 'precuat': 5, 'celluluit': 1, 'advancint': 1, 'reconfirm': 7, 'ioocc': 1, 'neighbor': 5, 'immobil': 15, 'domboro': 1, 'passemuir': 4, 'sta': 9, 'harder': 7, 'gase': 23, 'cto': 1, 'dombro': 1, 'tare': 1, \"'sm\": 1, 'calf': 65, 'developmemt': 1, 'antecubit': 12, 'passimuir': 1, 'tuck': 20, 'dombero': 1, 'centemet': 1, 'demon': 1, 'caas': 1, 'dobhof': 2, 'cked': 1, 'quo': 2, 'flowbi': 3, 'suspend': 4, 'exceed': 5, 'morbidli': 5, 'crm': 2, 'tracheostom': 1, 'encoura': 1, 'piclin': 1, 'redder': 2, 'ch': 10, 'dced': 5, 'peramet': 1, 'chees': 7, 'reveiw': 6, 'soak': 17, 'settinf': 1, 'intro': 4, 'angiocath': 3, 'rubor': 2, 'pediatr': 2, 'folllow': 5, 'hemodi': 7, 'cellulti': 1, 'creas': 3, 'bibasilari': 3, 'nonrot': 1, 'frree': 1, 'strate': 1, 'apt': 7, 'indur': 5, 'peristalsi': 5, 'sqeez': 2, 'nonpurpos': 6, 'appox': 2, 'proph': 4, 'crack': 23, 'humeru': 16, 'backsid': 8, 'nj': 2, 'peditub': 5, 'recx': 2, 'oxa': 2, 'macer': 3, 'specialist': 7, 'ada': 1, 'slip': 9, 'linin': 2, 'appil': 1, 'bronchospast': 21, 'pti': 2, 'msra': 4, 'stabe': 4, 'drier': 2, 'lowgrad': 4, 'dietari': 19, 'reatless': 1, 'custard': 23, 'isordil': 13, 'brn': 5, 'freee': 1, 'huo': 20, 'abrad': 2, 'unchg': 6, 'oxacillin': 11, 'suppot': 1, 'resepct': 1, 'tonoct': 3, 'tired': 3, 'damp': 8, 'rxd': 5, 'doboff': 8, 'uncomfortt': 1, 'sleeper': 3, 'pegtub': 3, 'tracheostoma': 1, 'requri': 2, 'hyper': 15, 'dept': 8, 'jello': 17, 'chec': 1, 'aquaphor': 6, 'neurro': 1, 'conscious': 13, 'bacterem': 3, 'loudli': 8, 'andresp': 1, 'ocntact': 1, 'inexsufl': 1, 'tolal': 1, 'cufflat': 1, 'wiht': 12, 'asucult': 2, 'medd': 1, 'dfddp': 10, 'beginn': 1, 'repelt': 6, 'sinemet': 11, 'estrang': 5, 'irish': 1, 'soldier': 1, 'sing': 7, 'ceftazadin': 2, 'schizoaffect': 9, 'azithomycin': 2, 'tune': 4, 'blind': 17, 'contractil': 28, 'takatsubo': 1, 'remnant': 11, 'salmeterol': 13, 'sulfonamid': 26, 'captur': 14, 'pcwp': 42, 'aicd': 17, 'acoust': 24, 'superven': 33, 'sypathet': 1, 'ion': 8, 'pitch': 6, 'recrudesc': 5, 'inferosept': 10, 'underestim': 27, 'akinet': 12, 'staphylococc': 1, 'neeed': 2, 'tamaflu': 2, 'sympathet': 3, 'insiratori': 1, 'dicloxacillin': 4, 'mgr': 3, 'leucocytosi': 4, 'antrov': 1, 'tdi': 28, 'akinesi': 21, 'hemiblock': 7, 'oseltamivir': 13, 'quantifi': 17, 'agenc': 2, 'augmentat': 1, 'incurr': 1, 'autoregul': 8, 'coincid': 6, 'tacyhcardia': 1, 'nativ': 9, 'cpod': 1, 'postoffic': 1, 'overnigt': 2, 'superinfect': 16, \"adl'\": 1, 'stitch': 14, 'tamiflu': 32, 'episdo': 1, 'sequenti': 7, 'melena': 20, 'antibodi': 14, 'hyperliipidemia': 1, 'recvd': 6, 'sneez': 2, 'mluitpl': 1, 'hickman': 8, 'ggo': 12, 'parent': 26, 'nephrocap': 10, 'gastroenter': 5, 'spirometri': 44, 'orthopnea': 58, 'diffiuclti': 2, 'nonprodut': 1, 'allopurinol': 15, \"ab'\": 3, 'dorzolamid': 1, 'calcitriol': 5, 'timolol': 4, 'paradox': 63, 'matern': 2, 'spefic': 1, 'ferrou': 18, 'receptor': 3, 'endors': 13, 'epo': 7, 'supraclavicular': 103, 'construct': 4, 'hematochezia': 11, 'shcedul': 1, 'unwel': 2, 'drk': 4, 'rosuvastatin': 4, 'nephropathi': 17, 'dka': 8, 'predison': 4, 'sevelam': 11, 'rheumatoid': 7, 'qmwf': 3, 'doxazosin': 2, 'cw': 5, 'cracker': 20, 'tapazol': 1, 'bd': 4, 'sparingli': 6, 'dfa': 44, 'suicid': 51, 'minoxidil': 2, 'ativen': 2, 'nephrew': 1, 'juvenil': 1, 'epogen': 10, 'suctiopn': 1, 'grreni': 1, 'bordelin': 1, 'dot': 5, 'resposnd': 1, 'fight': 15, 'rhonchii': 3, 'cheek': 12, 'bad': 22, 'deliber': 5, 'essentu': 1, 'antb': 4, 'nysatin': 1, 'throughou': 2, 'oralphagheng': 1, 'latharg': 2, 'exampl': 23, 'nasopharg': 1, 'teniou': 3, 'respolar': 4, 'greenish': 20, 'unrepons': 1, 'bradycardiac': 2, 'satisfactorili': 7, 'noseble': 2, 'traumat': 21, 'assum': 26, 'comput': 15, 'clinda': 24, 'bulk': 8, 'threshold': 48, 'errythemia': 1, 'ofd': 1, 'hhn': 15, 'louder': 4, 'thread': 9, 'kpho': 19, 'antidepress': 5, 'sbop': 1, 'differnt': 1, 'oputput': 1, 'neutrapho': 15, 'sclerosi': 23, 'suprapub': 15, 'laid': 11, 'echocardiogram': 29, 'imdur': 10, 'eas': 20, 'thorocentesi': 5, 'tiotroprium': 1, 'antihypotens': 1, 'overmed': 4, 'parapneumon': 21, 'intrial': 1, 'uninfect': 1, 'ceftriax': 10, 'biv': 1, 'medex': 1, 'fll': 1, 'subq': 21, 'fibrot': 20, 'tiotropium': 13, 'levoxyl': 2, 'heamodynam': 1, 'dobboff': 1, 'neutropen': 18, 'drunk': 2, 'spiroment': 1, 'nutritionist': 3, 'dbe': 1, 'witht': 1, 'lactos': 3, 'tyelenol': 5, 'advic': 9, 'betablock': 7, 'reiter': 6, 'fullstrength': 1, 'lix': 7, 'scatt': 5, 'acyclivir': 1, 'abiltiy': 1, 'promininc': 1, 'grandaught': 5, 'usg': 12, 'posey': 9, 'turgur': 1, 'seraquel': 7, 'acylovir': 2, 'tech': 13, 'rla': 6, 'dynam': 24, 'torsad': 2, 'guess': 4, 'toursad': 1, 'ipmi': 1, 'tympan': 6, 'oxi': 3, 'pb': 9, 'amiodron': 1, 'lwr': 3, 'rsc': 15, 'repsond': 2, 'nesiritid': 1, 'rpp': 2, 'diuiresi': 2, 'inotropi': 2, 'hot': 21, 'jag': 3, 'bppp': 4, 'nite': 12, 'isorbid': 5, 'repsons': 4, 'natrecor': 3, 'cdb': 52, 'anieti': 2, 'senekot': 2, 'dynamap': 1, 'deeper': 7, 'nml': 10, 'sobo': 2, 'ci': 26, 'epstudi': 1, 'itat': 1, 'defib': 3, 'oxicillin': 3, 'defibril': 13, 'nystantin': 2, 'cosyntropin': 2, 'intrens': 1, 'overrid': 1, 'yankaur': 17, 'afraid': 13, 'noisi': 3, 'core': 8, 'floroscopi': 1, 'ronchoru': 3, 'peni': 12, 'culutr': 5, 'love': 8, 'bollu': 2, 'presser': 5, 'varifi': 2, 'cartoon': 1, 'insuffic': 2, 'scrotum': 19, 'nasoendotrach': 2, 'nasopharynx': 10, 'seemingli': 9, 'ceftrixon': 5, 'plat': 16, 'pseudomoni': 4, 'ambulatori': 11, 'flaggyl': 4, '^^^secret': 1, 'spe': 1, 'neeld': 1, 'btb': 4, 'pustul': 4, 'uprbc': 23, 'characterist': 6, 'caval': 10, 'acetamenophen': 1, 'withp': 1, 'efect': 4, 'afternon': 1, 'oohr': 1, 'elastoplast': 2, 'stuff': 2, 'rplace': 1, '^^rr': 6, 'govem': 1, 'boarderlin': 5, 'axo': 4, 'excit': 10, '^^drng': 1, 'grren': 2, 'hydropneumothorax': 13, 'piccc': 2, 'toiley': 1, \"mod't\": 1, 'superivis': 1, 'pipercillin': 9, 'mascer': 3, 'chnager': 1, 'acetamenoph': 1, 'tritrat': 1, 'channel': 12, 'probalac': 2, 'sad': 8, 'fir': 2, 'repalc': 1, 'psi': 11, 'boyfriend': 9, 'propophol': 2, 'secreton': 2, 'decras': 2, 'persistantli': 5, 'superiorli': 17, 'bibasalar': 4, 'coooper': 1, 'nursimg': 1, 'flunk': 1, 'phelibit': 1, \"dc'd\": 3, 'cephalid': 1, 'vaselin': 5, 'negaiv': 1, 'inqueri': 2, 'fibr': 2, 'promo': 1, 'steristrip': 6, 'seek': 19, 'sectret': 7, 'oseltamavir': 3, 'zocyn': 6, 'cautiou': 12, 'chronc': 1, 'metformin': 15, 'nto': 2, 'uri': 14, 'scx': 3, 'careplan': 2, 'avandia': 2, 'rebound': 72, 'hidraden': 1, 'repost': 7, 'seat': 74, 'hemodilut': 9, 'rosiglitazon': 2, 'overhydr': 28, 'microcyt': 5, 'nephrotoxin': 21, 'labia': 7, 'tameflu': 1, 'ccrn': 2, 'hydraden': 1, 'maleat': 10, 'obs': 2, 'initaietd': 1, 'belong': 24, 'alrm': 2, 'stoke': 6, 'obj': 9, 'prodcut': 1, 'transf': 4, 'belliger': 6, 'pndg': 16, 'apporach': 1, 'anaesthesia': 3, 'ultrum': 1, 'rhocher': 1, 'tray': 10, 'bellegeri': 1, 'giddi': 1, 'ceft': 3, 'awoken': 9, 'wheezey': 8, 'hemodyn': 10, 'naprosyn': 1, 'stethoscop': 2, 'untoward': 4, 'sponaten': 4, 'fundtion': 1, 'nrsg': 2, 'dobutamin': 7, 'armboard': 2, 'curiou': 2, 'couplet': 12, 'workload': 4, 'pharmacolog': 4, 'deviationta': 1, 'afebreil': 1, 'aslo': 3, 'triplet': 2, 'unreliev': 2, 'photophobia': 4, 'fetal': 3, 'indomethacin': 2, 'nsvt': 16, 'photophob': 1, 'ibuprophen': 3, 'sporat': 2, 'bitempor': 3, 'peic': 1, 'extraaxi': 6, 'exsist': 1, 'kitchen': 12, 'suppo': 5, 'ilmprov': 1, 'fruit': 6, 'rhand': 1, 'clincal': 1, 'supper': 9, 'woth': 1, 'tto': 3, 'bore': 16, 'bactrium': 2, 'deast': 1, 'everyday': 7, 'sulfameth': 6, 'quicker': 4, 'senecot': 2, 'butter': 4, 'de': 37, 'indecis': 2, 'folow': 6, 'duc': 1, 'dime': 9, 'evalaut': 7, 'aoid': 1, 'spar': 1, 'spurt': 1, 'granola': 1, 'peanut': 5, 'saphen': 7, 'preop': 8, 'transvalvular': 9, 'crown': 2, 'disappear': 2, 'cardioresp': 2, 'bandag': 14, 'mvr': 18, 'torn': 5, 'flail': 5, 'periap': 3, 'antiphospholipid': 4, 'paravalvular': 1, 'intrins': 33, 'assymetr': 3, 'glycopyrrol': 12, 'bileaflet': 2, 'molar': 2, 'interpreter': 1, 'antisialogogu': 8, 'dilaud': 3, 'airleak': 9, 'semiupright': 7, 'hocm': 1, 'myomectomi': 1, 'intaop': 1, 'panorex': 4, 'electrod': 10, 'inapprop': 2, 'blur': 15, 'surveil': 32, 'apac': 3, 'squirm': 4, 'amitryptilin': 1, 'magnet': 15, 'angiogram': 17, 'antitrypsin': 1, 'cing': 7, 'maee': 5, 'doc': 1, 'grunt': 6, 'residula': 1, 'kerlex': 8, 'flame': 1, 'mra': 18, 'hift': 2, 'scaley': 1, 'rose': 17, 'alpha': 5, 'contd': 17, 'dissolv': 2, 'myconazol': 7, 'equla': 1, 'bled': 9, 'distract': 5, 'fossa': 27, 'ngtube': 2, 'specifi': 11, 'undigest': 13, 'supris': 1, 'prophylacticlli': 1, 'unfocus': 1, 'reden': 11, 'department': 10, 'antialpha': 1, 'circul': 18, 'news': 3, 'lias': 3, 'bisacoyl': 1, 'upsid': 2, 'disconnect': 15, 'ahd': 4, 'growl': 2, 'multilumen': 9, 'perscib': 1, 'broncial': 1, 'lieu': 4, 'wea': 4, 'aralast': 1, 'subl': 1, 'ivdu': 13, 'spontanoeu': 1, 'trypsin': 1, 'haladol': 1, 'wether': 2, 'geodan': 1, 'dulc': 5, 'olanzipin': 3, 'pin': 8, 'distened': 3, 'replt': 1, 'flirt': 1, 'mgtid': 1, 'impuls': 9, 'writh': 3, 'corner': 11, 'respit': 1, 'ceftazadim': 7, 'reduce': 1, 'ziprasidon': 1, 'risbi': 26, 'lactalos': 4, 'cefatzadim': 1, 'comit': 1, 'dramat': 29, 'perpetu': 2, 'oj': 4, 'checklist': 5, 'cavitari': 19, \"'ve\": 4, 'humulog': 7, 'antipsycot': 2, 'snore': 5, \"c'ing\": 7, 'reinutab': 1, 'resapiratori': 1, 'theraft': 1, 'accident': 13, 'amitriptylin': 3, 'forth': 7, 'oximetri': 1, 'spanish': 16, 'quadrapleg': 1, 'drool': 4, 'difficulr': 1, 'staabl': 1, 'mdght': 2, 'vegat': 1, \"d'cd\": 8, 'gpr': 9, 'secrat': 2, 'multidisiciplinari': 2, 'depent': 2, 'extremitit': 3, 'coexsist': 1, 'acl': 13, 'depressor': 1, 'vegiat': 1, 'cmbivent': 1, 'forti': 2, 'intercost': 12, 'hole': 20, 'judgement': 4, 'waters': 14, 'multilocul': 6, 'thoracotomi': 18, 'semierect': 3, 'socila': 1, 'cogh': 2, 'overnihght': 1, 'decresa': 1, 'rivert': 1, 'lihgt': 1, 'presnt': 3, 'lelev': 1, 'ce': 64, 'paralysi': 24, 'acth': 1, 'silhouet': 14, 'vesiculo': 1, 'overtli': 4, 'intertrochanter': 4, 'spnal': 1, 'adhes': 22, 'repelet': 2, 'financ': 1, 'omr': 61, 'clergi': 16, 'debat': 3, \"epi'\": 1, 'bact': 8, 'flare': 46, 'thorcaic': 1, 'glad': 2, 'dream': 5, 'exactli': 7, 'rent': 4, 'calibr': 8, 'lifelin': 2, 'org': 4, 'subutan': 10, 'tizanidin': 3, 'inclu': 1, 'broaden': 35, 'nortriptylin': 4, 'hisotri': 1, 'fq': 4, 'pect': 1, 'licsw': 20, 'tyesterday': 1, 'ambient': 7, 'cephalosporin': 10, 'rehir': 1, 'vesicular': 4, 'chocol': 5, 'fllet': 1, 'pnoon': 1, 'flosheet': 1, 'rapidli': 39, 'ventimask': 11, 'subj': 3, 'llsb': 7, 'memantin': 4, 'facemask': 23, 'analgesia': 8, 'diurisei': 1, 'unrealist': 2, 'concur': 4, 'gib': 35, 'uptitr': 18, 'fxn': 30, 'anger': 6, 'rythym': 8, 'fulfil': 2, 'daugther': 4, 'vasovag': 3, 'equilibrium': 1, 'spite': 10, 'clinician': 43, 'drive': 32, 'thromu': 1, 'oropharyngela': 1, 'busi': 8, 'changedto': 1, 'afterload': 21, 'death': 14, 'pci': 13, 'scopalamin': 6, 'vulner': 1, 'likelihood': 22, 'hotnsiv': 3, 'advoc': 5, 'appropr': 1, 'serious': 4, 'charact': 5, 'rabbi': 8, 'syncop': 16, 'genit': 2, 'neutopho': 1, 'donezipil': 1, 'aphasia': 18, 'lengthi': 13, 'chng': 3, 'heaprin': 4, 'idioventricular': 3, 'discont': 3, 'immin': 2, 'donepezil': 11, 'hj': 1, 'bye': 1, 'dirti': 16, 'citalopram': 18, 'nitropast': 9, 'lij': 19, 'instabl': 39, 'hemodynim': 12, 'untreat': 8, 'giv': 1, 'tachypneac': 2, 'deterior': 43, 'discu': 5, 'osteoporosi': 26, 'hemodyanm': 2, 'hyalin': 2, 'culprit': 7, 'dra': 12, 'sov': 1, 'greed': 1, 'gon': 1, 'epinephrin': 14, 'awir': 1, 'abcess': 22, 'signift': 1, 'absorbs': 1, 'demisish': 1, 'aspriat': 5, 'shiever': 1, 'pplat': 8, 'comtin': 1, 'thickyellowish': 1, 'persis': 3, 'demor': 2, 'carvedilol': 14, 'corti': 2, 'jp': 12, 'coreg': 8, 'alkalemia': 13, 'defervesc': 11, 'wenesday': 2, 'prebypass': 2, 'milironon': 1, 'vg': 1, 'cellsav': 1, 'thermodilut': 3, 'traponin': 1, 'ucg': 2, 'sunction': 3, 'raet': 1, 'posibl': 7, 'subtheraput': 2, 'origen': 2, 'bollus': 2, 'vr': 10, 'swr': 1, 'mvo': 3, 'awean': 1, 'faintli': 1, 'mentali': 1, 'inotrop': 2, 'diaphores': 1, 'cco': 4, 'creatin': 7, 'stidor': 1, 'caglucon': 1, 'capto': 1, 'yellowbrown': 1, 'stit': 1, 'thermodil': 1, 'mch': 2, 'serousangin': 4, 'biphas': 7, 'reamin': 6, 'nippl': 5, 'pedial': 6, 'stepdown': 7, 'sbg': 1, 'barrium': 1, 'beliger': 3, 'flinch': 2, 'testic': 1, 'postbypass': 1, 'defecit': 6, 'prop': 25, 'antero': 1, 'crepiti': 3, 'rebump': 1, 'cagluc': 2, 'resed': 3, 'unattend': 2, 'veloc': 33, 'fick': 8, 'milr': 2, 'cardiogen': 36, 'billeou': 1, 'milrinon': 5, 'retal': 1, 'booboo': 1, 'precuaut': 1, 'antiobiot': 12, 'effuss': 7, 'indenpedantli': 1, 'hiccough': 1, 'lwsxn': 2, 'frang': 1, 'restrart': 1, 'om': 18, 'diag': 10, 'ballon': 9, 'lima': 3, 'diffficult': 1, 'tvi': 5, 'fentanyli': 1, 'stble': 1, 'pnu': 1, 'angioplasti': 12, 'rewrap': 1, 'orderd': 9, 'redicat': 1, 'effust': 1, 'progre': 1, 'enquier': 2, 'pulmari': 1, 'nhp': 1, 'ez': 4, 'plerur': 1, 'tnsf': 5, 'restaint': 4, 'sshumulog': 2, 'imi': 2, 'sttol': 1, 'bradypn': 1, 'recognis': 2, 'gastroduoden': 3, 'thorecentesi': 2, 'wel': 3, 'consistenli': 4, 'cardiopulm': 9, 'inadvert': 5, 'dietician': 4, 'norepi': 6, 'wap': 5, \"dt'\": 1, 'mant': 1, 'bs^': 1, 'yankuar': 3, 'fentenyl': 4, 'noreepi': 1, 'tof': 8, 'inth': 7, 'ond': 1, 'epsiod': 3, 'nuerolog': 2, 'purpl': 17, 'receic': 2, 'pervent': 2, 'aucult': 3, 'beer': 4, 'remmind': 1, 'addenidum': 1, 'diltazem': 1, 'secondri': 1, 'dilatiazem': 1, 'pneumomia': 2, 'riesman': 3, 'kerley': 6, 'chosen': 13, 'otc': 3, 'healthey': 1, 'nigth': 3, 'diltizem': 6, 'pleuracentesi': 1, 'bronchiectesi': 3, 'behav': 2, 'maxilla': 4, 'parox': 1, 'ipatropium': 4, 'nsaid': 13, 'tvr': 1, 'dorbipenem': 1, 'moh': 1, 'doripenem': 2, 'pertusi': 2, 'spironolacton': 7, 'pertussi': 2, 'qualifi': 7, 'hyperparathyroid': 5, 'ferment': 1, 'deropenem': 1, 'fot': 2, 'surpris': 9, 'pulmonologist': 11, 'chad': 11, 'pnysic': 1, 'fluoroquinolon': 6, 'mucolyt': 2, 'psa': 8, 'guafenesi': 1, 'cooki': 12, 'ultsnd': 2, 'atelactasi': 3, 'nicotin': 18, 'previo': 3, 'blast': 5, 'mitt': 9, 'diffuculti': 3, 'upperairway': 3, 'ecymosi': 1, 'psycosi': 1, 'que': 1, 'prescenc': 1, 'spicul': 9, 'xopenex': 15, 'psychosi': 9, 'hest': 1, 'eccymosi': 7, 'whennam': 1, 'epulmonari': 1, 'yougart': 1, 'aggressiv': 1, 'vancomyc': 1, 'recomend': 7, 'cdc': 2, 'drank': 11, 'inepend': 1, 'sediat': 1, 'multilevel': 42, 'emb': 1, 'aeratin': 1, 'occulud': 1, 'slecp': 1, 'pneumococcu': 4, 'rectu': 9, 'abdominu': 2, 'paramediastin': 10, 'pneumocysti': 18, 'worth': 6, 'vaccin': 55, 'cocain': 14, 'hypertensioncurr': 1, 'diazepam': 12, 'chemotherapi': 30, 'amlodipin': 24, 'span': 13, '`': 13, 'melanoptosi': 1, 'pneurmonia': 2, 'kayexyl': 2, 'esoph': 6, 'gall': 13, 'esophagectomi': 5, 'durabl': 4, 'esophagogastrostomi': 1, 'hemoptysi': 33, 'symptomat': 27, 'ccr': 4, 'valuim': 2, 'shuvel': 1, 'chemoradi': 6, 'laparotomi': 8, 'hepatopulmonari': 1, 'crescent': 2, 'urol': 1, 'failurelik': 1, 'radiotherapi': 5, 'wegen': 6, 'hypothyrod': 1, 'brachytherapi': 3, 'bandemia': 29, 'gastrosotmi': 2, 'hurrican': 2, 'dfdkq': 10, 'teaspoon': 6, 'perf': 9, \"po'\": 2, 'coalesc': 6, 'videofluoroscopi': 29, 'nari': 8, 'aw': 1, 'pug': 2, 'expecor': 1, 'hyperchol': 2, 'repsir': 1, 'fk': 4, 'coarsen': 10, 'lrge': 6, 'manner': 12, 'imp': 5, 'olecranon': 1, 'inphas': 1, 'milki': 2, 'ceftax': 4, 'tesla': 9, 'imipenuim': 1, 'imbal': 4, 'hypercholesteremia': 2, 'vibe': 1, 'ure': 6, 'corticomedullari': 4, 'lucid': 11, 'sussept': 1, 'sough': 1, 'nocardia': 3, 'sludgi': 2, 'leftsid': 1, 'hast': 1, 'uni': 8, 'sequenc': 20, 'effevt': 1, 'hypointens': 8, 'venipuctur': 1, 'procardia': 5, 'nocardiosi': 1, 'exquisit': 1, 'substani': 2, 'ersd': 2, 'brighten': 1, 'bowl': 5, 'biscodyl': 5, 'avb': 11, 'enoucrag': 1, 'probabali': 1, 'negatiov': 1, 'anyway': 6, 'wafer': 1, 'chlorothiasid': 1, 'remenisc': 1, 'energi': 8, 'pool': 12, 'dayshift': 5, 'daytim': 46, 'amyloid': 4, 'cereal': 5, 'sxting': 2, 'efficaci': 6, 'bkft': 1, 'metamucil': 2, 'uninterest': 2, 'chowder': 1, 'frig': 1, 'yogurt': 3, 'duiril': 1, 'chlorothiazid': 3, 'engag': 20, 'sug': 4, 'initait': 1, 'nitroglycerin': 15, 'car': 13, 'eproxi': 1, 'howver': 1, 'coumdadin': 1, 'bother': 11, 'detox': 5, 'sacroiliac': 5, 'vestibul': 6, 'marcan': 1, 'piriform': 20, 'sizeabl': 4, 'propuls': 16, 'facet': 13, 'regiman': 3, 'disfunct': 1, 'aciti': 1, 'elbo': 1, 'extrmiti': 1, 'highflow': 1, 'cellcept': 4, 'minlabor': 1, 'prorgess': 1, 'tongiht': 3, 'infilatr': 2, 'thrill': 9, 'priest': 3, 'gentli': 27, 'toiler': 1, 'enag': 1, 'flattu': 1, 'metolazon': 5, 'fac': 1, 'lyy': 1, 'intraorbit': 1, 'orbit': 16, 'xii': 14, 'fistulagram': 1, 'pulsatil': 2, 'vii': 4, 'skip': 3, 'hyperphsophatemia': 1, 'alternan': 3, 'pruriti': 2, 'tall': 4, 'rsr': 20, 'squeak': 6, 'inattent': 2, 'wenckebach': 3, 'warrant': 32, 'hemostasi': 13, 'noncompli': 11, 'hydroxizin': 1, 'venogram': 11, 'dilit': 10, 'translum': 1, 'overdu': 1, 'intracellular': 1, 'fistulogram': 2, 'percocoet': 1, 'ckd': 39, 'urem': 4, 'anastomosi': 9, 'renagel': 4, 'scalp': 6, 'enya': 18, 'stenos': 4, 'likelihoood': 1, 'carpal': 6, 'injector': 1, 'huddl': 21, 'hyperdens': 24, 'arterioven': 1, 'persisit': 1, 'downtrend': 11, 'haptoglobin': 8, 'fluild': 1, 'webtag': 9, 'ketaconazol': 1, 'contr': 1, 'jude': 1, 'contra': 6, 'legionel': 3, 'pah': 5, 'slighlt': 1, 'breathless': 6, 'vigileo': 3, 'handrail': 1, 'sclara': 1, 'immunocompromis': 56, 'underwhelm': 4, 'unrev': 25, 'group': 20, 'laugh': 7, 'svv': 1, 'ucltx': 1, 'unconcern': 2, 'sensitivt': 1, 'immunolog': 44, 'yetread': 1, 'popup': 9, 'hemodyanam': 2, 'coler': 2, 'wrr': 1, 'rmg': 1, 'error': 29, 'hapto': 5, 'split': 51, 'cefpodoxim': 8, 'bioprosthesi': 5, 'flesh': 2, 'noro': 1, 'conjuntiv': 1, 'tcdb': 14, 'loperamid': 2, 'floridli': 1, 'rhale': 3, 'florrid': 1, 'azithroymcin': 1, 'gb': 9, 'concomin': 1, 'unread': 2, 'diruesi': 6, 'atov': 1, 'tendenc': 10, 'col': 4, 'jejuni': 1, 'laryngospasm': 1, 'avelox': 1, 'chb': 3, 'acheiev': 1, 'neurophysiolog': 2, 'transven': 26, 'ld': 9, 'hflu': 3, 'turp': 8, 'hemolysi': 25, 'lmore': 1, 'contriubut': 1, 'ai': 6, 'remeb': 1, 'cltx': 1, 'cepodoxim': 1, 'trand': 1, 'javascript': 9, 'lupron': 5, 'driven': 3, 'classic': 7, 'absolut': 4, 'interstitium': 3, 'maintan': 8, 'interpretor': 5, 'occult': 22, 'rxn': 11, 'assign': 13, 'contus': 4, 'probali': 1, 'oa': 10, 'circumst': 11, 'aaspir': 1, 'cetaz': 1, 'degrener': 1, 'movemont': 1, 'ceftz': 2, 'indepemnd': 1, 'rune': 1, 'temo': 1, 'vacomycin': 3, 'tachpnea': 3, 'uppper': 5, 'diverticuli': 4, '^k': 1, 'hemolyz': 10, 'sched': 8, 'proteu': 8, 'wordk': 1, 'amalyas': 1, 'blaot': 1, 'immunosuppres': 6, 'pkt': 9, 'idiopath': 10, 'brachiel': 1, 'ambian': 2, 'insuff': 4, 'anckl': 1, 'taler': 2, 'crepit': 2, 'weap': 7, 'salmon': 1, 'fascia': 3, 'navig': 2, 'exal': 1, 'petroleum': 1, 'kmcd': 2, '^abd': 1, 'unclot': 2, 'reject': 11, 'sml': 19, 'foll': 2, 'vevel': 1, '^bun': 1, 'dismotil': 2, 'pararen': 1, 'adb': 2, 'miniscul': 3, 'atro': 20, 'oca': 5, 'gastrojejun': 7, 'intraservic': 11, 'lgt': 1, 'absorpt': 10, 'lbm': 11, 'inguni': 1, 'lotrisom': 1, 'creatnin': 6, 'grad': 3, 'elecv': 1, 'scrape': 1, 'primairli': 1, 'bolt': 9, 'lighter': 6, 'studio': 1, 'sabath': 1, 'aricept': 7, 'yank': 1, 'dyspenia': 1, 'kosher': 3, 'epiglotti': 5, 'azyg': 8, 'hilu': 14, 'kkgc': 17, 'bulbou': 1, 'immeadi': 1, 'noght': 1, 'kerlix': 4, 'redraw': 10, '^vt': 1, '^from': 1, 'sternum': 11, 'arpund': 1, 'cage': 9, 'bidh': 1, 'pen': 10, 'aaa': 14, 'surguri': 2, 'aml': 14, 'afluttt': 1, 'copper': 4, 'eccymot': 18, 'reloc': 3, 'nondiagnost': 10, 'azithromicyn': 1, 'osteophyt': 21, 'angiomyolipoma': 3, 'bronchoalveolar': 9, 'ili': 4, 'sup': 16, 'annuloplasti': 6, 'pramipexol': 1, 'desta': 1, 'disk': 7, 'yesterrday': 1, 'drown': 3, 'fluent': 36, 'rsv': 13, 'labial': 27, 'hoars': 17, 'mmcosgroveannuloplasti': 1, 'suck': 4, 'wb': 4, 'precedex': 7, 'albeit': 5, 'dysmetria': 1, 'marri': 21, 'nasotrachi': 6, 'tolcapon': 1, 'respirartori': 3, 'formulari': 5, 'rspiratori': 2, 'flavor': 1, 'lingual': 21, 'disintegr': 11, 'mirapex': 4, 'polymorphonuclear': 13, 'censu': 2, 'cane': 9, 'anitibiot': 2, 'spt': 9, 'resdient': 4, 'glucagon': 7, 'acetylcystein': 4, 'inceas': 3, 'answr': 1, 'cfu': 7, 'protrud': 23, 'protien': 1, 'foi': 27, 'rbbi': 1, 'mango': 1, 'perist': 6, 'cutur': 3, 'compensatori': 9, 'inhibit': 2, 'precidex': 3, 'ltach': 9, 'meningioma': 2, 'tsp': 31, 'beig': 3, 'multilobular': 5, 'runni': 2, 'azithromyin': 3, 'vasectomi': 1, 'ctga': 1, 'herniat': 11, 'crestor': 3, 'kyphosi': 20, 'tachypnia': 4, 'bul': 11, 'neurosurgeon': 4, 'intellig': 7, 'ettub': 1, 'antianieti': 1, 'laparoscop': 4, 'kyphot': 11, 'leukocyt': 20, 'tamsar': 1, 'ih': 22, 'batteri': 6, 'choos': 9, 'pneumona': 5, 'ntd': 6, 'extuabt': 9, 'presedex': 2, 'soln': 20, 'neurologist': 5, 'incisor': 6, 'slit': 1, 'halway': 1, 'mough': 1, 'scoot': 1, 'countour': 1, 'smeari': 1, 'consentr': 1, 'mitten': 2, 'conf': 3, 'incoher': 4, 'skizophrenia': 1, 'restain': 2, 'emtion': 3, 'nuetrin': 1, 'vebal': 1, 'conceiv': 5, 'dsoft': 1, 'rotatori': 2, 'valpraot': 1, 'distor': 1, 'web': 5, 'dischag': 2, 'nponproduct': 1, 'rous': 7, 'killian': 1, 'thoracolumbar': 18, 'comdom': 2, 'antiseizur': 2, 'nector': 3, 'wanst': 1, 'modif': 8, 'fixat': 15, 'extremti': 6, 'scoliosi': 30, 'pg': 6, 'consistencei': 1, 'poe': 16, 'palsi': 7, 'clossur': 1, 'dextroscoliosi': 8, 'reisman': 2, 'ove': 2, 'cavo': 7, 'anecho': 4, 'listeria': 2, 'subcapsular': 3, 'purula': 1, 'hemmoroid': 1, 'cytoxan': 5, 'producvt': 1, 'alimta': 1, 'topleura': 1, 'meningoenceph': 2, 'cisplatin': 3, 'ampillin': 1, 'jxkc': 6, 'atend': 1, 'enou': 1, 'unpasteur': 1, 'suppress': 20, 'subdiaphragmat': 67, 'wsclip': 3, 'hyperbilirubinemia': 4, 'billiari': 2, 'host': 6, 'bulki': 12, 'peipher': 1, 'plasmapheresi': 1, 'dairi': 3, 'cardiorespiratori': 3, 'polydipsia': 2, 'synthet': 3, 'encompass': 3, 'adriamycin': 1, 'beam': 6, 'subtract': 5, 'bio': 3, 'secert': 1, 'taxol': 3, 'manifest': 17, 'myasthenia': 1, 'workstat': 4, 'xeloda': 1, 'usclip': 5, 'icter': 8, 'thymoma': 2, 'lobul': 8, 'tarceva': 1, 'rescucit': 4, 'carboplatin': 4, 'hyponatrem': 10, 'hemeroid': 1, 'neoadjuv': 1, 'hyposmol': 6, 'plasma': 2, 'paclitaxel': 1, 'tensilon': 1, 'thyoma': 1, 'beeen': 1, 'doxil': 1, 'paracentesi': 10, 'adh': 3, 'cholestat': 3, 'cantones': 7, 'osmol': 3, 'diplopia': 2, 'tage': 1, 'tia': 20, 'subsid': 21, 'amout': 7, 'respo': 1, 'enorm': 2, 'ascess': 1, 'reactss': 1, 'dimin': 6, 'expand': 33, 'nse': 1, 'bacteroid': 2, 'diverticular': 2, 'tachypin': 1, 'reticul': 6, 'ligh': 2, 'aphon': 4, 'drian': 4, 'hepatomegali': 7, 'isc': 1, 'wbc^': 2, 'secrett': 2, 'folvent': 1, 'brth': 1, 'viist': 1, 'ultra': 4, 'abort': 10, 'ftw': 1, 'mechaniclli': 3, 'brwn': 8, 'hemodym': 3, 'sulf': 3, 'unresolv': 3, 'pplan': 2, 'hr^^': 5, 'diminsish': 1, 'valsalva': 16, 'cca': 9, 'divert': 3, 'aqit': 1, 'mvment': 1, 'perfor': 21, 'moniotr': 6, 'functioningand': 1, 'pseuodomona': 1, 'intermittenli': 2, 'wkness': 1, 'pronglon': 1, 'hematopoet': 1, 'billari': 1, 'legnth': 2, 'craer': 1, '^rr': 6, \"huo'\": 1, 'sestamibi': 1, 'comfot': 1, 'amoutn': 4, 'ilestomi': 1, 'thorughout': 2, 'tyelnol': 4, 'labul': 1, 'eosphil': 1, 'asmt': 1, 'mtn': 1, 'dwn': 1, 'tag': 3, 'latex': 9, 'vertebroplasti': 5, 'coontrol': 1, 'occus': 1, 'foul': 21, 'sttled': 1, 'stoool': 3, 'precarin': 19, 'ydrianiang': 1, 'tachynea': 2, 'vevn': 1, 'postsurg': 6, 'oid': 1, 'arma': 1, 'iso': 5, 'exel': 2, 'spcific': 1, 'diamox': 20, 'especailli': 1, 'elevati': 1, 'constraint': 2, 'py': 4, 'eca': 5, 'ctscan': 3, 'drainabl': 9, 'apparatu': 3, 'antbx': 13, 'cautar': 1, 'fidn': 1, 'mit': 4, 'technetium': 1, 'respon': 4, 'dobbhoff': 31, 'pneumotx': 1, 'broncho': 6, 'voltga': 1, 'agrress': 2, 'psx': 2, 'hemodynimc': 1, 'disconect': 1, 'floos': 1, \"related'\": 1, 'sinustach': 1, 'spasm': 19, 'lf': 6, 'prophylax': 1, 'blding': 1, 'revealedd': 1, 'copiuo': 5, 'nauseaou': 2, 'acsecss': 1, 'bdline': 2, 'roxicet': 6, 'nec': 3, 'snt': 5, 'moderatr': 2, 'suctionin': 3, 'dyapherit': 1, 'startedon': 3, 'percordi': 1, 'judici': 7, 'intermitenli': 2, 'vacuum': 5, 'sesha': 6, 'pulmn': 2, 'pulmonal': 4, 'nissen': 1, 'cranial': 7, 'recom': 2, 'pector': 11, 'apec': 2, 'airflow': 4, 'osteopenia': 18, 'meta': 15, 'text': 7, 'stapl': 18, 'upgrad': 10, 'cnii': 3, 'pullm': 1, 'distess': 3, 'concurr': 31, 'zydi': 7, 'intracavitari': 1, 'mainstem': 10, 'subcutaen': 1, 'ceftazidin': 3, 'mdag': 15, 'prilosec': 14, 'vw': 10, 'zyti': 1, 'distalmost': 2, 'diverticula': 17, 'ran': 6, 'encouragingli': 3, 'hasnt': 1, 'situ': 21, 'euvolemia': 7, 'parasept': 9, 'pseudonorm': 5, 'tmrw': 5, 'diaures': 2, 'rhonchou': 2, 'cfv': 1, 'evidenc': 22, 'slice': 42, 'pneumotho': 1, 'sfv': 2, 'mesh': 6, 'hysterectomi': 8, 'sychron': 1, 'andevid': 1, 'adequet': 2, 'greatest': 22, 'occurr': 2, 'atrioventricular': 2, 'subotim': 1, 'flowhseet': 1, 'cutoff': 1, 'grid': 3, 'bss': 2, 'simvastain': 1, 'colonoscopi': 18, 'tami': 1, 'egd': 29, 'safest': 6, 'arthropathi': 5, 'subchondr': 7, 'seech': 2, 'infuenza': 1, 'ward': 2, 'descent': 2, 'levofloxicin': 9, 'settng': 2, 'odd': 11, 'tem': 2, 'ventral': 11, 'atv': 4, 'videoswallow': 7, 'infx': 2, 'distinctli': 2, 'frontopariet': 3, 'cong': 1, 'sah': 5, 'sylvian': 4, 'injur': 3, 'dysarthria': 5, 'subarachnoid': 7, 'bulbar': 1, 'obay': 1, 'gmpo': 1, 'edemet': 3, 'rnd': 1, 'legionalla': 5, 'hasmi': 1, 'purplish': 3, 'ivpb': 9, 'separ': 27, 'bolum': 1, 'pivx': 9, 'yogert': 2, 'asbout': 1, 'adr': 3, 'hadol': 2, 'nonfunct': 1, 'skew': 1, 'abber': 1, 'presid': 6, 'mpr': 1, 'restraind': 2, 'retreat': 1, 'htcz': 1, 'fentlyl': 1, 'feegingh': 1, 'ssuction': 2, 'extyra': 1, 'attem': 1, 'osteopen': 6, 'pimpl': 1, 'periarea': 4, 'guiaiac': 1, 'perihepat': 13, 'giggl': 1, 'afew': 1, 'lite': 2, 'consolit': 1, 'decreasd': 1, 'perirash': 1, 'evidens': 1, 'wilth': 1, 'corridor': 1, 'nonform': 2, 'underarm': 2, 'miconozol': 2, 'etco': 4, 'hepati': 2, 'jumbl': 1, 'overnit': 8, 'strang': 4, 'mnd': 2, 'fidgeti': 4, 'rpc': 2, 'str': 17, 'iffus': 1, 'azm': 1, 'ordr': 4, 'patern': 2, 'bilaterali': 7, 'deaf': 7, 'xoponex': 5, 'mereponuem': 1, 'mdsi': 1, 'partic': 1, 'tubefeed': 9, 'addenda': 1, 'epigastrium': 8, 'meatey': 1, 'bsd': 8, 'mycostantin': 2, 'clorazepam': 1, 'fame': 1, 'exr': 1, \"jp'sx\": 1, 'magneisium': 1, 'recommed': 3, 'neur': 2, 'magneisum': 1, 'malleabl': 1, 'specfic': 2, 'agig': 2, 'prvide': 1, 'yellaw': 1, 'reti': 1, 'viabl': 2, 'ooa': 1, 'refocu': 1, 'garrul': 1, 'pesseri': 1, 'humor': 6, 'awaqr': 1, 'upcom': 4, 'muscular': 15, 'cappilari': 1, 'lback': 1, 'goos': 1, 'tfeed': 7, 'urgenc': 13, 'ivm': 1, 'adaqu': 3, 'dnrg': 1, 'fnetanyl': 1, 'lent': 2, 'albuter': 9, 'evala': 1, 'tlcc': 1, 'abefril': 1, 'sennokot': 1, 'diminsih': 5, 'anxious': 4, 'tolaer': 1, \"ue'\": 1, 'biggest': 2, 'amm': 1, 'ccof': 1, 'postit': 4, 'parit': 2, 'parapelv': 6, 'sift': 2, 'symmetri': 1, 'omn': 1, 'eczema': 1, 'meropeum': 1, 'orietn': 1, 'techiniqu': 1, 'qi': 2, 'dghtr': 1, 'peerl': 7, 'benzodiazepen': 1, 'fdsg': 1, 'laxilla': 1, 'jpx': 2, 'repostit': 1, 'costyntropin': 1, 'washout': 8, 'appopri': 2, 'totaol': 1, 'extremli': 3, 'survail': 6, 'startd': 1, 'colistin': 5, 'fentyn': 8, 'respns': 1, 'mulitpl': 10, 'erethemat': 1, 'potentia': 1, 'etern': 1, 'screw': 7, 'admittedli': 4, 'gluteu': 2, 'kayexalt': 1, 'daay': 1, 'insuffi': 3, 'monr': 2, 'reasssurr': 1, 'dehisc': 7, 'zeroform': 1, 'append': 6, 'xop': 1, 'wnd': 3, 'blackish': 2, 'diifus': 1, 'flap': 6, \"svn'\": 1, 'summer': 5, 'ccx': 3, 'incorper': 1, 'ruddi': 2, 'feburari': 1, 'angeogram': 1, 'hhe': 1, 'effexor': 3, 'mustard': 1, 'oject': 1, 'earili': 1, \"mdi'\": 1, 'elix': 3, 'movment': 8, 'circut': 1, 'wtihout': 1, 'afeberil': 1, 'rmeian': 1, 'invl': 1, 'mutipl': 7, 'electrocardiogram': 1, 'medastin': 1, 'colostrin': 1, 'llu': 1, 'dislik': 3, 'lastnight': 2, 'minin': 1, \"'ye\": 2, 'inteq': 1, 'metizol': 1, 'faccid': 1, 'mainatin': 2, 'solubl': 3, 'placen': 1, 'raspi': 5, 'guiaic': 16, 'tint': 2, 'insens': 21, 'rhonchial': 1, 'envelop': 3, 'intentd': 1, 'foeli': 1, 'convey': 13, 'reoirent': 1, 'en': 9, 'suxn': 4, 'aggres': 9, 'respitori': 5, 'aniou': 1, 'enterectomi': 1, 'suctio': 1, 'devot': 2, 'servicv': 1, 'micub': 4, \"de'sat\": 1, 'costochondr': 2, 'depict': 8, 'lain': 1, 'roux': 4, 'anitbiot': 5, 'awaint': 2, 'sixth': 4, 'pinken': 1, 'rectangular': 1, 'explin': 3, 'relativli': 1, 'tanish': 5, 'wamr': 1, 'vancxomycin': 1, 'haerd': 1, 'lungfield': 2, 'vista': 4, 'vasoilin': 1, 'cathart': 1, 'wrsit': 1, 'enquir': 2, 'survalli': 1, 'lizinolid': 1, 'thicket': 2, 'cardin': 1, 'gien': 1, 'neglig': 3, 'objecet': 1, 'antbiot': 4, 'frc': 1, 'regiem': 3, 'levofloxin': 6, 'linzolid': 1, 'coas': 2, 'auscleat': 1, 'gyn': 3, 'anaemia': 1, 'podi': 2, 'jmh': 2, 'adq': 9, \"'star\": 1, 'sonc': 1, \"'broke\": 1, 'ceftadim': 1, 'vagina': 2, 'sucret': 1, 'ser': 1, 'progess': 4, 'tfdg': 1, 'softsorb': 7, 'intug': 1, 'preper': 4, 'ceftam': 1, 'inclus': 4, 'episdod': 1, 'race': 3, 'roho': 1, 'perineu': 1, 'sct': 7, 'immun': 9, 'ceftamin': 1, 'hick': 2, 'anal': 13, 'adenosin': 5, 'cushion': 6, 'orientd': 2, 'elipt': 1, 'datail': 1, 'uc': 14, 'ampogel': 1, 'throb': 4, 'phosporu': 1, 'azithromax': 6, 'adenoma': 15, 'soup': 10, 'renegel': 1, 'parathyroid': 1, 'summeri': 2, 'septa': 2, 'crepetu': 1, 'oer': 2, 'strnum': 1, 'doxi': 5, 'retrospect': 8, 'spb': 6, 'cervicothorac': 2, 'shaki': 7, 'sanguni': 1, 'csl': 4, 'ellipt': 3, 'pneumatocel': 8, 'bronchopleur': 4, 'bariatr': 3, 'cxri': 1, 'lert': 1, 'dizz': 1, 'blebectomi': 1, 'thorascop': 2, 'allowa': 1, 'pleurodesi': 7, 'reso': 2, \"a'lin\": 1, 'miliari': 1, 'aprrox': 2, 'subcut': 6, 'micronodul': 2, 'oout': 1, 'difficuti': 2, 'infilpleas': 1, 'infilto': 1, 'crapetu': 1, 'repaet': 2, 'doxycyclin': 7, 'anzimet': 3, 'spiromt': 1, 'pneumodiastinum': 1, 'xxl': 1, 'flet': 2, 'micronodular': 3, 'oppurtunist': 1, 'cutan': 5, 'intravasculari': 1, 'exutb': 1, 'tnf': 1, 'cowork': 4, 'anasarc': 6, 'catrh': 1, 'bien': 1, 'ecoli': 7, 'whereabout': 1, 'cystotomi': 1, 'cystostomi': 1, 'extravascularli': 2, 'aztreonam': 18, 'bib': 2, 'aticoagul': 1, 'pea': 11, 'cathol': 2, 'intraaxi': 2, 'sati': 3, 'purpilish': 1, 'smade': 1, 'catm': 2, 'escar': 2, 'liber': 14, 'pon': 11, 'jelfoam': 1, 'whooz': 1, 'cardiova': 2, 'recondit': 1, 'revisit': 7, 'unsrespons': 1, 'vagin': 11, 'acx': 3, 'sond': 1, 'riker': 1, 'fist': 3, 'mabp': 1, 'erythem': 4, 'corneal': 6, 'nonreact': 3, 'jaw': 24, 'unfold': 12, 'aspirs': 1, 'psychomimet': 3, 'unobtain': 4, 'flaki': 5, 'hemorroid': 1, 'overgrowth': 3, 'sabp': 3, 'afterloud': 1, 'cataton': 1, 'frown': 1, 'verif': 5, 'uncompens': 2, 'decison': 1, 'doll': 1, 'pulseless': 7, 'comatos': 1, 'esmolol': 10, 'secreet': 1, 'prayer': 3, 'infiiltr': 1, 'prev': 28, 'ppsv': 1, 'montor': 4, 'subtherapuet': 1, 'venodynn': 1, 'placedraing': 1, 'agiti': 3, 'debri': 16, 'disconjug': 2, 'sedement': 5, 'mlij': 1, 'meax': 1, 'norvasc': 13, 'attmept': 5, 'frequ': 3, 'aroumd': 1, 'densest': 2, 'diaphorect': 2, 'pulmo': 3, 'linen': 9, 'myeloma': 5, 'crawl': 4, 'propabl': 1, 'withdarw': 1, 'adequt': 2, 'built': 1, 'prostatectomi': 4, '\\x13': 2, 'remaint': 1, 'mucosi': 1, 'mucuo': 1, 'creation': 3, 'rum': 1, 'cystectomi': 3, 'mornign': 2, 'resdiual': 1, 'marijuana': 3, 'diali': 2, 'begant': 1, 'radic': 5, 'dump': 3, 'conduit': 1, 'influ': 1, 'signifc': 5, 'meyloma': 1, 'petechia': 3, 'mciu': 1, 'irriagt': 1, 'neobladd': 1, 'sutr': 1, 'gaze': 9, 'ileal': 6, 'dysconjug': 1, 'bug': 7, 'bialter': 3, 'prostetectomi': 1, 'lacer': 13, 'tko': 4, 'parametersthi': 1, 'wf': 2, 'malg': 1, 'paperi': 1, 'pri': 2, 'untx': 1, 'dd': 4, 'frail': 19, 'contralater': 9, 'lght': 1, 'shorten': 7, 'gastrocult': 2, 'bronchomalagia': 1, 'recrut': 1, 'intubatd': 2, 'russian': 20, 'apper': 6, 'reaccumul': 18, 'opa': 1, 'pericardiocentesi': 4, 'pericardiac': 2, 'constrict': 13, 'moreov': 3, 'wider': 3, 'seventh': 12, 'convinc': 15, 'fosamax': 4, 'paraspin': 11, 'prestern': 1, 'lnco': 10, 'psvt': 4, 'extravascular': 1, 'regurgitaton': 1, 'tracheo': 6, 'prssure': 1, 'alvaolar': 1, 'pla': 2, 'underpenetr': 8, 'sect': 1, 'adminst': 3, 'npnn': 1, 'delta': 5, 'prodctiv': 1, 'epitympan': 1, 'medulla': 2, 'elimin': 10, 'underdevelop': 1, 'rebreah': 1, 'serousi': 1, 'lingular': 28, '^wbc': 3, 'vemtilatori': 1, 'haem': 1, 'hfn': 3, 'fob': 1, 'ine': 3, 'yellowi': 3, 'sysol': 1, 'illeoconduit': 1, 'ileoconduit': 1, 'optimist': 5, 'apear': 5, 'forgot': 1, 'prognossi': 1, 'element': 46, 'actiivti': 1, 'frome': 1, 'whch': 1, 'cheer': 2, 'yankar': 4, 'intermediu': 11, 'dirrahea': 1, 'nauseau': 3, 'carrier': 2, 'cant': 5, 'oatmeal': 6, 'conlosomi': 1, 'dramaticali': 1, 'kaexal': 1, 'flowheet': 1, 'ileo': 2, 'intouch': 1, 'depth': 6, 'eright': 1, 'colostolmi': 1, 'concommit': 1, 'preform': 6, 'scapular': 4, 'pulmologist': 1, 'sugereon': 1, 'slightlti': 1, 'doson': 1, 'nerv': 15, 'explor': 6, 'paussey': 1, 'dgt': 6, 'drainot': 1, 'zyperia': 1, 'urostomi': 3, 'pneumonai': 1, 'scapula': 13, 'friabl': 3, 'allo': 2, 'cephalasporin': 1, 'bmt': 10, 'nhl': 5, 'crossreact': 2, 'potasium': 1, 'puriti': 2, 'amul': 1, 'ivig': 11, 'miropenum': 1, 'stopper': 1, 'ivg': 1, 'enterococc': 7, 'pbec': 6, 'oxza': 11, '^b': 1, 'childlik': 1, 'cervicomedullari': 1, 'simplest': 2, 'tangl': 1, 'bead': 3, 'wimper': 1, 'overdos': 14, 'intto': 1, 'width': 11, 'dbp': 4, '^^dbp': 1, 'child': 3, 'lisinpril': 2, 'infra': 5, 'unequ': 6, 'granulomatu': 1, 'sooner': 5, 'perp': 4, 'execut': 1, 'sel': 2, 'repositon': 3, 'overextend': 1, 'dimins': 1, 'secretio': 4, 'regiment': 15, 'normoxia': 4, 'theravest': 1, 'acepella': 2, 'duti': 1, 'reslov': 2, 'arouas': 1, 'ocasion': 1, 'reddn': 1, 'pjc': 2, 'exce': 3, 'medici': 1, 'reass': 5, 'heartedli': 1, 'osteomylitit': 1, 'accapela': 1, 'orichectomi': 1, 'pnc': 1, 'thera': 1, 'creatanin': 2, 'grabe': 1, 'atempt': 4, 'caretak': 9, 'reqir': 2, 'prsent': 2, 'dypsnea': 5, 'yhe': 2, 'ofemal': 1, \"rx'ed\": 1, 'serav': 1, 'ronchioru': 1, 'infultr': 1, 'es': 2, 'inconten': 1, 'volecula': 1, 'frank': 41, 'stenot': 6, 'coarctat': 19, 'zelnorm': 1, 'triscupid': 1, 'bleeder': 1, 'radium': 1, 'linger': 4, 'herpain': 1, 'diphtheroid': 1, 'kl': 1, 'woodi': 2, 'tomorow': 2, 'nivm': 1, 'preset': 2, 'methylypredison': 1, 'renov': 2, 'emt': 7, 'formerli': 5, 'propionibacterium': 1, 'suppelement': 1, 'hiflo': 2, 'estblish': 2, 'il': 4, 'vasoconstrict': 1, 'corynebacterium': 2, 'vq': 5, 'vertigo': 4, 'hyperpigment': 4, 'recordsno': 6, 'mangement': 4, 'pred': 23, 'precipitatnt': 1, 'pasp': 6, 'phtn': 11, 'iwth': 4, 'ddimer': 4, 'sulcal': 6, 'ordin': 1, 'survel': 3, 'collector': 1, 'crrect': 1, 'transud': 13, 'jt': 5, 'acuiti': 7, 'foreatrm': 1, 'yesturday': 4, 'agait': 2, 'heprin': 6, 'stoll': 3, 'necess': 5, 'maintin': 2, 'occipt': 2, 'vaginosi': 2, 'cerebellar': 10, 'aqaucel': 1, 'montipodi': 1, 'coccyxx': 1, 'airclean': 1, 'offens': 1, 'contorl': 2, 'dysrhythmia': 10, 'hlthi': 1, 'du': 3, 'elevi': 1, 'reschdul': 1, 'nxt': 1, 'tilt': 8, '^p': 3, 'jg': 2, 'bein': 1, 'paracol': 8, 'grn': 2, 'pv': 8, 'hosptial': 4, 'cytotox': 2, 'lbo': 1, 'sata': 3, 'givenk': 1, 'feacal': 1, 'formal': 32, 'hydralzin': 4, 'infilt': 2, 'positv': 1, 'perforati': 1, 'satisfcatori': 1, 'aggre': 1, 'sours': 2, 'uncomf': 1, 'ontinu': 2, 'wieght': 1, 'mulitpodu': 1, 'atheromat': 3, 'pericol': 2, 'ivfb': 4, 'wcc': 3, 'zaroxyln': 3, 'trasnfer': 1, 'eccomot': 1, 'incon': 2, 'responc': 8, 'mononitr': 5, 'vasolin': 4, 'shorter': 17, 'mediacl': 1, 'dwi': 2, 'ozz': 1, 'metalazon': 1, 'pyret': 1, 'cpc': 1, 'aka': 5, 'palption': 1, 'resplor': 1, 'hydralizn': 1, 'capsul': 18, 'hyperperfus': 1, 'appaer': 1, 'hue': 2, 'purposeful': 1, 'contast': 1, 'antx': 1, 'wheex': 1, 'kinder': 1, 'dinitr': 4, 'harden': 6, 'appropraitley': 1, 'mew': 2, 'llarm': 2, 'ocg': 1, 'posteri': 1, 'weean': 1, 'crt': 5, 'led': 13, 'aircel': 1, 'mmgh': 1, 'toadi': 2, 'aztronam': 1, 'mininm': 1, 'defi': 1, 'agon': 3, 'noncommun': 5, 'ldp': 1, 'zaroxolyn': 2, 'pyrexia': 44, 'appart': 2, 'apperar': 1, 'hemiarthroplasti': 6, 'olansapin': 1, 'localis': 1, 'aztroneum': 1, 'montioedu': 1, 'fentali': 2, 'discov': 9, 'bodili': 3, 'grion': 1, 'hydralalzin': 1, 'sooth': 2, 'gantri': 1, 'intraparenchym': 9, 'weakish': 1, 'fiscal': 1, 'oxycondon': 2, 'prosthes': 3, 'gingerli': 1, 'rectosigmoid': 6, 'zaroxlyn': 2, 'aztreoneum': 1, 'vanginosi': 1, 'bigemni': 2, 'mcqx': 1, 'fsqid': 1, 'respalar': 2, 'loadli': 1, 'respelar': 1, 'sleev': 9, 'seep': 1, 'oedematu': 1, 'committe': 1, 'clammi': 12, 'vnetil': 1, 'sheepskin': 1, 'pressr': 2, 'mmeq': 1, 'cocyx': 4, 'bibasilarli': 4, 'aquir': 13, 'specimin': 2, 'gerner': 1, 'ampi': 1, 'breakdoown': 1, 'inconsitantli': 2, 'fluconasol': 1, 'zarolyn': 1, 'positon': 2, 'overnightm': 1, 'trachmask': 2, 'vicin': 2, 'jkpe': 5, 'join': 3, 'abandon': 3, 'nitinol': 7, 'redund': 8, 'ureter': 9, 'pullback': 2, 'dependantli': 1, 'calculu': 9, 'septat': 8, 'anspir': 1, 'gwp': 10, 'natg': 4, 'gastrografin': 5, 'serosangi': 2, 'sweati': 2, 'rhonchour': 6, 'intraretroperiton': 1, 'sincer': 1, 'tachyn': 3, 'flagli': 4, 'afflutt': 1, 'irragt': 1, 'rcc': 7, 'mycobacteri': 3, 'restag': 1, 'crest': 2, 'toast': 5, 'burden': 10, 'sutent': 2, 'iliac': 41, 'periost': 3, 'paraaort': 8, 'subtrochanter': 1, 'metstat': 1, 'acetabulum': 8, 'escitalopram': 2, 'grandaugth': 1, 'oxal': 2, 'varoc': 1, 'pallor': 24, 'avm': 5, 'meanwhil': 4, 'vagal': 9, 'wd': 14, 'ah': 7, 'wn': 4, 'coax': 1, 'hydrochlorothiazid': 7, 'reble': 2, 'wthdrawal': 1, 'levoflaoxacin': 1, 'zolpidem': 7, 'ursodiol': 4, 'nadolol': 3, 'choleycsytectomi': 1, 'bedrest': 13, 'ventric': 3, 'tachypenia': 1, 'gc': 3, 'oppos': 8, 'imfect': 1, 'whereupon': 1, 'somehat': 2, 'flr': 2, 'pedicl': 7, 'intermmitantli': 1, 'maker': 5, \"desat'd\": 1, 'carbetolol': 1, 'semest': 1, 'transter': 1, 'carbamezapin': 1, 'initiali': 4, 'moon': 1, 'subclin': 3, 'kaexyl': 2, 'sarcast': 1, 'seixur': 1, 'dysflexia': 1, 'glycerin': 1, 'aeruginosa': 5, 'tonic': 6, 'alphagan': 1, 'esteras': 3, 'dysreflexia': 1, 'engin': 4, 'magic': 2, 'bacolfen': 1, 'taut': 2, 'strernal': 1, 'fish': 6, 'mutlipl': 2, 'omega': 2, 'epilepsi': 3, 'enulos': 1, 'oxybutynin': 5, 'colono': 1, 'wander': 6, 'readdmit': 1, 'intrathec': 3, 'tibial': 42, 'antiepilept': 2, 'travatan': 1, 'tbw': 3, 'kit': 8, 'tegretol': 4, 'cxwc': 11, 'pneumionia': 1, 'delir': 10, 'cardiogram': 1, 'minatin': 1, 'pseudamona': 2, 'lomotrigen': 1, 'opposit': 2, 'pern': 1, 'brimonidin': 2, 'ictal': 3, 'funguria': 1, 'clonic': 6, 'deafferent': 1, 'bullet': 1, 'lgr': 7, 'automon': 1, 'unwit': 5, 'ulcuer': 1, 'ergocalciferol': 1, 'spring': 1, 'jxrl': 14, 'illus': 1, 'pseudomon': 13, 'twave': 5, 'faci': 1, 'spark': 2, 'hyponateremia': 1, 'quadraplegia': 4, 'nystagmu': 3, 'teacher': 2, 'caucasian': 5, 'professor': 1, 'quadriplegia': 5, 'siezur': 8, 'centrum': 6, 'frankli': 5, 'parapsilosi': 2, 'poisitv': 1, 'recreat': 4, 'pertain': 3, 'poop': 1, 'antizeizur': 1, 'fectal': 2, 'fade': 5, 'pdst': 1, 'drove': 2, 'hydrouret': 10, 'bizarr': 2, 'tlso': 1, 'guag': 8, 'comofrt': 1, 'withsmal': 1, 'dural': 5, 'ilater': 1, \"sat'\": 5, 'theet': 1, 'herp': 15, 'duloxetin': 6, 'nsurg': 3, 'plethora': 4, 'execept': 1, 'oal': 1, 'optimis': 1, 'piccl': 1, 'withl': 1, 'videotap': 1, 'steri': 3, 'applejuic': 1, 'urinalysi': 10, 'cusp': 1, 'ketamin': 1, 'anu': 4, 'retropharyng': 3, 'iliacu': 3, 'limet': 1, 'thoracoabdomin': 3, 'aldacton': 6, 'prductiv': 1, 'bactroban': 3, 'stoo': 2, 'aam': 2, 'maiami': 1, 'cauda': 6, 'ise': 1, 'loculat': 1, 'disciti': 4, 'schmorl': 4, 'callu': 5, 'easlli': 1, 'abc': 3, 'hemov': 1, 'dislpay': 1, 'malalign': 5, 'phlegmon': 2, 'trendelenburg': 1, 'breaktrough': 1, 'revalu': 6, 'anterio': 2, 'loww': 1, 'coears': 1, 'lter': 2, 'vnetilatori': 1, 'ninth': 4, 'thorsic': 1, 'ivkcl': 1, 'aat': 2, 'hemovac': 4, 'thecal': 4, 'dermatolog': 6, 'equina': 6, 'toradol': 6, 'intraop': 6, 'cariothorac': 1, 'dependec': 1, 'mad': 2, 'endplat': 17, 'psoa': 6, 'canal': 21, 'diuress': 4, 'stri': 1, 'recit': 2, 'hematom': 1, 'fordeti': 1, 'transmit': 11, 'pu': 11, 'anbx': 21, 'monotor': 2, 'stopp': 2, 'instrument': 13, 'crept': 1, 'vertic': 12, 'infrahepat': 1, 'crepid': 1, 'avaiabl': 1, 'undersid': 3, 'stylet': 7, 'punc': 1, 'citi': 3, 'unil': 1, 'determi': 1, 'extradur': 2, 'fascilit': 1, 'diagnsi': 1, 'thirti': 4, 'gemini': 1, 'prepocedur': 1, 'hypospadiu': 1, 'extrins': 5, 'unfett': 1, 'psychoact': 4, 'hxof': 2, 'csft': 1, 'successful': 1, 'propag': 1, \"sxn'ed\": 3, 'kideni': 1, 'analges': 7, 'bloodier': 1, 'rigth': 3, 'sangun': 1, 'stich': 2, 'intrapleur': 3, 'thrombolyt': 1, 'unblock': 2, 'approxam': 1, 'innomin': 6, 'diurisis': 1, 'toss': 4, 'receivi': 2, 'gluconst': 1, 'instal': 5, 'adress': 2, 'corticobas': 1, 'granulomat': 9, 'seru': 1, 'themselv': 2, 'faulti': 1, 'linezalid': 1, 'assciat': 1, 'grimis': 1, 'findibg': 1, 'errythema': 1, 'erthemat': 2, 'thrach': 2, 'bloodcx': 1, 'preocedur': 1, 'abmul': 1, 'femer': 3, 'rp': 14, 'inferomedi': 2, 'giacc': 1, 'applli': 1, \"parkinsons'\": 1, 'consol': 5, 'anasarka': 1, 'occluss': 1, 'pvsv': 1, 'lscl': 1, 'evacu': 15, 'peroxid': 3, 'rra': 1, 'arris': 1, 'sanguein': 1, 'pod': 15, 'mbp': 1, 'paracetamol': 1, 'moisten': 3, 'sarcoma': 1, 'venographi': 3, 'elestoplast': 1, 'aftr': 1, 'uosh': 1, 'upperlob': 2, 'faecium': 1, 'susequ': 2, 'honor': 1, 'ride': 6, 'apa': 2, 'linezilid': 1, 'surgifoam': 1, 'cone': 2, 'advnc': 1, 'inde': 6, 'sofsorb': 2, 'thorocoscopi': 1, 'hopeful': 2, 'pos': 2, 'condtiion': 1, 'nostril': 12, 'souc': 2, 'sanguan': 1, 'impercept': 1, 'stimualt': 2, 'pleuravac': 2, 'proc': 4, 'alkaloti': 1, 'costodiaphragmat': 1, 'biotic': 1, 'surgicel': 2, 'necesit': 2, 'sangeou': 1, 'anasarcoid': 4, 'thorocotomi': 2, 'trrend': 1, 'cortico': 1, 'dfdgf': 1, 'cogniz': 1, 'goiter': 6, 'alquez': 1, 'throughoutth': 1, \"mvm't\": 2, 'caught': 4, 'inrr': 1, 'increment': 6, 'screener': 6, 'trahc': 3, 'hydrogen': 2, 'parkison': 1, 'thoras': 6, 'clearn': 1, 'comfortabley': 2, 'hounsfield': 8, 'dow': 3, 'precedur': 1, 'sangin': 1, 'fube': 1, 'kaposi': 1, 'hemothorax': 8, 'cheat': 1, 'lengthli': 2, 'hesit': 10, 'concent': 1, 'viscera': 7, 'dimnish': 1, 'ruptur': 18, 'varicos': 3, 'hyoptn': 1, 'gastroesophag': 29, 'intox': 7, 'dextroamphetamin': 1, 'acetmnphn': 3, 'raloxifen': 1, 'sytem': 3, 'probnp': 5, 'ndnt': 6, 'proair': 2, 'ref': 6, 'gastriti': 17, 'disku': 6, 'unalt': 4, 'compli': 7, 'ht': 11, 'nco': 6, 'agonist': 3, 'cigarett': 11, 'nervosa': 2, 'amphet': 1, 'sillihett': 1, 'ibw': 10, 'boderlin': 4, 'spegr': 1, 'cytotec': 1, 'unisyn': 1, 'lump': 4, 'clearish': 1, 'weigh': 7, 'introduct': 3, 'abstienc': 1, 'spirat': 2, 'slawwolow': 1, 'bso': 2, 'pericardia': 2, 'arthralgia': 10, 'basex': 6, 'ipa': 1, 'hc': 6, 'fibromyalgia': 3, 'tranferrin': 1, 'propoxyphen': 4, 'evista': 1, 'anorexia': 10, 'ket': 5, 'hfa': 3, 'cxrshow': 1, 'gastroenterolog': 4, 'adam': 4, 'ptch': 6, 'naproxen': 2, 'agap': 9, 'nitr': 6, 'tibc': 8, 'caff': 2, 'intensitif': 1, 'hemmorhoid': 2, 'antipyret': 6, 'urobil': 3, 'leter': 1, 'fluoxetin': 4, 'warn': 3, 'perphenazin': 1, 'dlco': 2, 'sulfasalazin': 3, 'handihal': 1, 'bj': 2, 'treand': 2, 'briefi': 1, 'reman': 3, 'folic': 13, 'costrophren': 1, 'fioricet': 1, 'pulsu': 6, 'acet': 9, 'phych': 1, 'bpd': 1, 'tahbso': 1, 'synopsi': 5, 'tah': 5, 'mthdne': 1, 'misoprost': 1, 'sentanc': 3, 'reguir': 2, 'unsaf': 13, 'imipress': 1, 'preferenti': 1, 'scaphoid': 3, 'acetonid': 1, 'aton': 1, 'sink': 1, 'conform': 3, 'ptsd': 7, 'barb': 3, 'rqeaction': 1, 'pft': 21, 'sublingu': 5, 'misoprostol': 1, 'amphetamin': 1, 'psychiatrist': 10, 'withourt': 1, 'poli': 26, 'triamcinolon': 3, 'breast': 38, 'notdon': 4, 'butalbit': 2, 'ctropnt': 2, 'lumpectomi': 7, 'whitmil': 6, 'tackynp': 1, 'lemonad': 2, 'td': 12, 'pown': 1, 'congenit': 19, 'secundum': 6, 'sniff': 8, 'jbre': 9, 'atrio': 5, 'thoracoscopi': 4, 'calcan': 1, 'cmc': 2, 'phalanx': 4, 'talu': 3, 'tubercul': 2, 'styloid': 1, 'undiagnos': 6, 'leftclip': 1, 'hallux': 1, 'tuberculosi': 7, 'pleur': 1, 'mortis': 3, 'resembl': 2, 'mtp': 1, 'valgu': 1, 'congruent': 4, 'underexposur': 1, 'phalang': 3, 'ation': 1, 'pleuro': 1, 'dicuss': 1, 'resuct': 1, 'tracheomegali': 1, 'quicki': 1, 'wheen': 1, 'hre': 1, \"lft'\": 5, 'erron': 3, 'bullou': 8, 'ultrsonograph': 1, 'sternocleidomastoid': 3, 'osmolit': 2, 'coccidiomycosi': 2, 'pils': 1, 'hematolog': 20, 'servi': 1, 'exub': 6, 'dwell': 5, 'roadtrip': 1, 'regist': 5, 'formatio': 1, 'armi': 1, 'nct': 1, 'splenul': 10, 'inaffect': 1, 'levofloxcin': 3, 'ichi': 1, 'apetit': 11, 'snooz': 2, 'neub': 2, 'trandfer': 1, 'reamain': 1, 'lcw': 4, 'adult': 10, 'onleft': 1, 'chet': 1, 'follo': 2, 'aloevista': 1, 'tensiv': 2, 'overngiht': 4, 'euqal': 1, 'truck': 2, 'draian': 2, 'wih': 2, 'nooon': 1, 'consistli': 1, 'clotti': 1, 'eccymoisi': 1, 'wcommand': 1, 'reavtiv': 1, 'heartrat': 1, 'sternaum': 1, 'svg': 4, 'bsp': 2, 'pruiti': 1, 'consistanli': 1, 'tachynep': 1, 'asper': 3, 'immmedi': 1, 'activeti': 1, 'commnad': 4, 'spound': 1, 'salvag': 2, 'wriiten': 1, 'scrotal': 16, 'tenati': 1, 'zoooster': 1, 'ligi': 1, 'sbradi': 1, 'zoster': 13, 'multpl': 3, 'dression': 1, 'intermittingli': 2, 'dermotolog': 1, 'serosan': 1, 'cheang': 1, 'ssx': 1, 'insu': 1, 'ey': 2, 'randomli': 3, 'sponteous': 1, 'everywher': 1, 'pearll': 1, 'zooster': 1, 'ansthesia': 1, 'sersang': 2, 'blisteri': 1, 'catc': 1, 'zesteril': 1, 'zorviax': 1, 'vericilla': 1, 'epicard': 2, 'incontinencr': 1, 'dilatin': 3, 'incison': 1, 'raplac': 1, 'amal': 2, 'ventolin': 4, 'sxnd': 4, 'suppoert': 1, 'extremitli': 1, 'vip': 3, 'waiv': 1, 'perepher': 1, 'whiel': 1, 'meripenem': 3, '\\x13transfer': 1, 'optmiz': 1, 'merpanem': 1, 'srackl': 1, 'copazin': 2, 'continuo': 3, 'hereconfirm': 1, 'anitcoagul': 1, 'luekemia': 1, 'leukemia': 7, 'exaust': 1, 'interig': 1, 'furthermor': 8, 'scout': 16, 'apppli': 2, 'supersorb': 1, 'clotimazol': 1, 'ureteropelv': 1, 'urothelium': 1, 'evalua': 3, 'anitbx': 2, 'wipe': 8, 'clotrimazol': 6, 'peripelv': 1, 'fenestr': 6, 'ccm': 1, 'hyperecho': 8, 'soluabl': 1, 'axil': 3, 'pseudoaneurysm': 7, 'adjunct': 3, 'swallo': 2, 'blooy': 1, 'submandibular': 5, 'amorph': 3, 'laryngectomi': 2, 'anticubit': 4, 'foreign': 13, 'vad': 2, 'recomm': 2, 'ucerin': 1, 'parapharyng': 1, 'tracheoinnomin': 1, 'regual': 1, 'crusti': 4, 'autoduiresi': 1, 'exbub': 1, 'succes': 4, 'doorway': 2, 'nephro': 2, 'aful': 1, 'jwk': 4, 'positivli': 2, 'delus': 2, 'pregress': 1, 'puppet': 1, \"^'ng\": 1, 'neurotin': 1, 'metaprolol': 4, 'remaain': 1, 'allerigi': 1, 'recurrenti': 1, 'hpp': 1, 'gbeen': 1, 'tripll': 1, 'errl': 1, 'eyedrop': 2, 'flucanazol': 1, 'box': 7, 'diavan': 1, 'minimi': 2, 'keton': 9, 'qaudrant': 1, 'treponin': 1, 'effu': 6, 'psup': 3, 'diagnsot': 1, 'slightk': 1, 'fire': 8, 'prograf': 3, 'enyzm': 1, 'mjoriti': 1, 'greeen': 1, 'ntp': 6, 'rap': 10, 'noew': 1, 'swill': 1, 'miseri': 1, 'knock': 4, 'blacj': 1, 'combivir': 3, 'betadin': 3, 'ambein': 1, 'dmi': 3, 'monthli': 6, 'tessalon': 9, 'lozeng': 3, 'cepacol': 2, 'funni': 2, 'sinnis': 1, 'undertaken': 2, 'inquier': 4, 'materail': 1, 'voluntari': 1, 'novea': 1, 'dializ': 1, 'enviro': 3, 'prefe': 1, 'cyclosporin': 3, 'vl': 18, 'gurgl': 10, 'ultrafiltr': 6, 'quinton': 3, 'nephrologist': 4, 'comun': 3, 'nown': 1, 'interf': 1, 'labatalol': 2, 'seconari': 1, 'filtrat': 2, 'unsupervis': 2, 'activrti': 1, 'dispneaic': 1, 'avtiv': 1, 'cefrtiaxon': 1, 'aoox': 7, 'overwhelm': 9, 'albulterol': 1, 'ampicillan': 1, 'leionella': 1, 'tilet': 1, 'mepliex': 1, 'belladonna': 1, 'tinea': 1, 'electron': 9, 'app': 5, 'mesalamin': 2, 'recentlli': 1, 'generak': 1, 'ldn': 6, 'fbca': 4, 'acd': 6, 'microb': 2, 'nonocclus': 9, 'warmth': 7, 'valerian': 1, 'nonbroken': 1, 'brca': 2, 'gleed': 1, 'poh': 1, \"'thumb\": 1, 'prohylaxi': 1, 'nightli': 5, 'ibd': 2, 'ciproflox': 1, 'infitr': 5, 'recordsbelladonna': 1, 'bi': 6, 'siunc': 1, 'thromboctopenia': 1, 'nppv': 6, 'prophylact': 20, 'alkaloid': 1, 'ngiht': 4, 'swoll': 1, 'ivmeropenum': 1, 'hytrin': 1, 'apppear': 3, 'sole': 6, 'xygri': 2, 'thorocentisi': 1, 'bcaus': 1, 'spiromoeteri': 1, 'extract': 9, 'phi': 4, 'cardiophren': 8, 'hyperv': 1, 'legioniella': 1, 'vist': 2, 'rslt': 1, 'likewis': 1, 'thoracentisi': 2, 'glucaphag': 1, 'niddm': 8, 'bracelet': 6, 'arter': 1, 'bigemeni': 2, 'phlebotomi': 15, 'trens': 1, 'interstit': 4, 'amalys': 1, '^restless': 1, 'funtion': 3, 'lye': 1, 'lipomat': 4, 'espec': 2, 'inconclus': 5, 'canot': 1, 'nasagmu': 1, 'labour': 2, 'brreath': 1, 'paralys': 6, 'ststu': 1, 'accustom': 1, 'detemin': 1, 'repletd': 1, 'evetu': 1, 'nasointestin': 9, 'aurgument': 1, 'delirum': 1, 'contrari': 1, 'un': 8, 'upperarm': 1, 'presen': 1, \"tom'row\": 3, 'meropanem': 1, 'dubhoff': 6, '^doe': 1, 'physio': 2, 'floro': 1, 'mutilobar': 1, 'curs': 2, 'reintroduc': 4, 'umbil': 12, 'powerpicc': 4, 'angular': 1, 'transfix': 2, 'lltc': 12, 'withstood': 1, 'ceph': 2, 'pneumostat': 3, 'intrabd': 2, 'tether': 6, 'cogentin': 2, 'unreli': 6, 'simethecon': 2, 'stelazin': 1, 'epidisod': 1, 'psychiatri': 12, 'simethcon': 1, 'vew': 1, 'consutl': 2, 'creast': 1, 'everythingthat': 1, 'demorol': 1, 'mentatl': 1, 'ostreomyl': 1, 'mscontin': 1, 'intraabd': 1, 'veterbr': 1, 'linezoid': 2, 'noncompress': 5, 'aveno': 1, 'lookup': 1, 'confusedat': 1, 'ultrcal': 1, 'tylenool': 1, 'osteomyleti': 1, 'coach': 15, 'pinpoint': 4, 'erythma': 1, 'intr': 1, 'copious': 1, 'loongterm': 1, 'lysi': 5, 'debrit': 1, 'endocardidti': 1, 'tremul': 14, 'obliter': 14, 'aveeno': 1, 'drn': 1, 'cape': 2, 'discectomi': 1, 'johnson': 1, 'thinner': 7, 'cheny': 2, 'telelphon': 1, 'bounc': 4, 'trumor': 1, 'intrisinc': 1, 'vetebr': 1, 'neurosurgeri': 5, 'flakey': 2, 'diskiti': 3, 'vooid': 1, 'foramin': 11, 'bister': 1, 'dryness': 5, 'cha': 2, 'flake': 15, 'repletet': 1, 'serous': 1, 'rectovagin': 1, 'foramina': 4, 'erthyma': 1, 'macular': 12, 'tobra': 6, 'neural': 13, 'thrombophleb': 2, 'hte': 4, 'parallel': 2, 'sugest': 1, 'ventriclar': 1, 'rhtym': 3, 'salvo': 1, 'yesterdaym': 1, \"'call\": 1, \"shock'\": 1, 'bdrest': 1, 'bloddi': 1, \"'infrequ\": 1, 'resuscitaion': 1, 'dring': 1, 'sideroblast': 1, 'admisson': 1, 'pancreatectomi': 1, 'angioectasia': 2, 'adenocarcinoma': 17, 'myeloid': 1, 'myelofibrsi': 1, 'sppleenectomi': 1, 'cyberknif': 3, 'metaplasia': 2, 'pneumoth': 2, 'ctto': 1, 'pneurmothorax': 1, 'placmeent': 1, 'regress': 12, 'overinfl': 8, 'analyz': 12, 'knob': 12, 'remaisn': 4, 'infradiaphragmat': 3, 'thoracoscop': 2, 'refrain': 2, 'orientedx': 7, 'ovarian': 6, 'uniformli': 4, 'hernial': 1, 'unchnag': 1, 'ctpa': 7, 'nondepend': 6, 'cystoscopi': 6, 'tehn': 1, 'cystocopi': 2, 'diastasi': 3, 'popsickl': 1, 'cardiovers': 14, 'energet': 1, 'poisit': 1, 'rocephin': 2, 'expectorationg': 1, 'guifensan': 1, 'physican': 1, 'superinmpos': 1, 'discoordin': 6, 'fontal': 1, 'plenti': 4, 'ceftrax': 1, 'eager': 5, 'mwintain': 1, 'lobd': 1, 'indciat': 1, 'conc': 6, 'hpa': 2, 'inmmobil': 1, 'venepunctur': 1, 'disclos': 4, 'annoy': 2, 'hemiplegia': 5, 'float': 2, 'sath': 1, 'vaxcel': 6, 'unrepair': 1, 'mersa': 1, 'coher': 7, 'volun': 1, 'instrins': 1, 'everth': 1, 'effusio': 5, 'genamycin': 1, 'rouseabl': 2, 'vv': 2, 'apnic': 6, 'taco': 1, 'unus': 4, 'fistalugram': 1, 'pentamidin': 3, 'silver': 6, 'hemorr': 1, 'gvhd': 2, 'lawn': 1, 'miscarriag': 2, 'outer': 4, 'faith': 1, 'basilarli': 1, 'allogen': 3, 'herpet': 2, 'mow': 1, 'ptosi': 1, 'angiodynam': 2, 'effsuin': 2, 'sidept': 1, 'postherpet': 1, 'neuralgia': 2, 'dapson': 4, 'allosct': 2, 'stiffen': 7, 'clottedcan': 1, 'guidenc': 1, 'pregabalin': 3, 'nephrolog': 6, 'artifici': 5, 'medcat': 1, 'cellult': 1, 'cuffleak': 2, 'yhi': 1, 'edeman': 2, 'encephalomalac': 2, 'alz': 1, 'aca': 4, 'semioval': 3, 'microvessel': 1, 'thoracenteci': 1, 'awat': 2, 'lvia': 3, 'circl': 7, 'flagi': 2, 'sut': 1, 'profici': 1, 'expres': 2, 'aniticp': 1, 'jerk': 4, 'serosanquin': 1, 'respiatori': 1, 'grandkid': 1, 'sputumwith': 1, 'ecotpi': 2, 'exager': 2, 'oder': 2, 'timefram': 1, 'mondday': 1, 'malacia': 4, 'reommend': 1, 'reflux': 26, 'mab': 1, 'diruess': 1, 'vetil': 2, 'hyupernatremia': 1, 'claudi': 1, 'atropi': 1, 'serviv': 1, 'crackli': 3, 'lowwer': 1, 'auscul': 2, 'trah': 2, 'hedo': 1, 'grey': 7, 'inreas': 1, 'ivbx': 1, 'vene': 1, 'veneodyn': 1, 'elecatr': 1, 'withbl': 1, 'resorpt': 4, 'banana': 15, 'sechedul': 1, 'bumex': 3, 'porvid': 1, 'trachesostomi': 1, 'configuart': 1, 'surprisingli': 2, 'facila': 1, 'pdr': 1, 'benefib': 2, 'unifib': 1, 'abmu': 1, 'individu': 6, 'inchair': 1, 'eyebrow': 4, 'cautiosli': 1, 'audabl': 1, 'respatori': 1, 'diomax': 1, 'unfib': 1, 'coveral': 1, 'coxxyx': 1, 'nigrostriat': 1, 'striatoniagr': 1, 'pulmacort': 1, 'radiodens': 14, 'greeninsh': 3, 'utilis': 1, 'striatonigr': 1, 'alet': 1, 'mimick': 1, 'dschrg': 1, 'characht': 1, 'periodiac': 1, 'endotrachael': 1, 'muco': 1, 'tooth': 8, 'readvanc': 3, 'drainaag': 1, 'augmentin': 8, 'stiffli': 1, 'restatr': 2, 'pulmonarey': 1, 'laxix': 1, 'suctionr': 1, 'dsa': 1, 'givenx': 2, 'occason': 2, 'pvco': 1, 'psuedomona': 6, 'ectoy': 2, 'benepro': 2, 'undoubtedli': 2, 'pvo': 1, 'infsus': 1, 'painkish': 1, 'beneprotien': 3, 'caridac': 1, 'hypercapnia': 4, 'pulmonaari': 1, 'oropharnyx': 1, 'frq': 1, 'bilaterlli': 1, 'occuls': 1, 'kid': 3, 'graini': 2, 'ncreas': 1, 'lesson': 1, 'optomist': 1, 'pulmicourt': 1, 'dreainag': 1, 'otheriws': 1, 'hyperexpans': 8, 'thoracocentesi': 15, 'overlap': 7, 'fibronodular': 2, 'aji': 13, 'jxn': 3, 'possiblu': 1, 'bill': 17, 'chase': 3, 'robot': 1, 'axaxox': 1, 'scrotom': 1, 'vivonex': 5, 'atherosclerosi': 12, 'fibrothorax': 1, 'prandial': 2, 'scotum': 2, 'instant': 1, 'invert': 4, 'thsi': 6, 'eggcrat': 1, 'sevar': 1, 'levaqin': 2, 'breakdownon': 1, 'coper': 3, 'onflow': 1, 'possib': 1, 'wenkebach': 2, 'dgtr': 6, 'nkma': 3, 'rnage': 2, 'haemodynam': 4, 'swob': 1, 'creammi': 1, 'match': 12, 'disassoci': 1, 'whiti': 1, 'diauresi': 1, 'electroly': 5, 'phantom': 2, \"tx'ing\": 1, 'insecur': 1, 'azithrommycin': 1, 'asplenia': 1, 'endolumin': 4, 'dissemin': 6, 'sprain': 1, '\\x13in': 1, 'shower': 2, 'esbi': 1, 'pneumopericardium': 1, 'fdp': 4, 'uat': 2, 'creme': 1, 'aputum': 1, 'amunt': 1, 'resullt': 1, 'lucent': 8, 'coomb': 1, 'bradycadia': 1, 'insuffci': 2, 'swivel': 3, 'profil': 5, 'belch': 2, 'brownloos': 1, 'postict': 1, 'sucion': 2, 'dextameth': 1, 'pleasand': 1, 'meter': 1, 'vancomysin': 2, 'sennakot': 2, 'pendind': 1, 'troughout': 1, 'jct': 1, 'nocal': 1, 'trake': 1, 'ventset': 2, 'inconstit': 1, 'hymidifi': 1, 'scedul': 1, 'psotion': 1, 'nonfoc': 11, 'beacus': 1, 'examib': 1, 'parvu': 1, 'blous': 14, 'confidenti': 1, 'ventulat': 1, 'afibril': 1, 'coverd': 2, 'trophic': 2, 'virtual': 2, 'rentent': 1, 'bols': 3, 'aveolar': 1, 'aggressivf': 1, 'metaclorpromid': 1, 'metaclopromid': 2, 'commernc': 1, 'tacrolimu': 7, 'vere': 1, 'buth': 1, 'dopoff': 3, 'deleriuo': 1, 'bolous': 1, 'liler': 1, 'valubl': 2, 'alteplas': 1, 'requirw': 1, 'cellphon': 1, 'kayaxal': 1, 'sewll': 1, 'incresas': 2, 'fentani': 3, 'swet': 1, 'mucopurul': 1, 'cvvh': 9, 'comfus': 1, 'alsix': 1, 'amiodar': 1, 'orientata': 2, 'pepp': 1, 'arintg': 1, 'nb': 5, 'lertharg': 1, 'sidehol': 9, 'eplac': 1, 'dispar': 1, 'agitataion': 2, 'mt': 8, 'extubatiohn': 1, 'lw': 13, 'cancal': 1, 'trigemni': 1, 'pateint': 3, 'dizzli': 1, 'plesa': 2, 'secet': 4, 'doploff': 3, 'ored': 4, 'verc': 2, 'refelx': 1, 'diursesi': 3, 'sligthli': 1, 'halv': 4, 'sof': 3, 'hurricain': 5, 'metoclopromid': 2, 'suctioend': 1, 'yankaar': 2, 'panctranspl': 1, 'appera': 2, 'focsu': 1, 'hydrazalin': 3, 'cocial': 1, 'initillay': 1, 'afternnon': 2, 'obsewrv': 2, 'doplpoff': 1, 'parenychym': 1, 'tardu': 1, 'vert': 2, 'unable\\x13': 1, 'unevet': 1, 'easliy': 1, 'behaviuor': 1, 'plani': 1, 'flushe': 1, 'incit': 2, 'oseo': 1, 'ccb': 6, 'scrambl': 3, 'parasthesia': 7, 'serogroup': 6, 'legionair': 1, 'muffin': 2, 'iga': 5, 'sedentari': 5, 'dipstick': 2, 'dessert': 1, 'hdr': 3, 'dog': 4, 'pseudomonax': 1, 'methylpr': 8, 'titropium': 1, 'rbc': 43, 'ceftriazon': 6, 'singulair': 10, 'desert': 1, 'specgr': 2, 'corn': 1, 'lifestyl': 3, 'uric': 6, 'ptca': 5, 'bbl': 7, 'abn': 3, 'nasaotrach': 1, 'warmer': 5, 'resperadol': 1, 'soupi': 1, 'eys': 1, 'thic': 4, 'plexi': 1, 'assistx': 1, 'discard': 6, 'cocnsist': 1, 'scn': 2, 'msi': 3, 'aztriman': 1, 'mystatin': 1, 'kick': 19, 'sg': 6, 'strept': 5, 'continuosli': 1, 'bronchodial': 3, 'rush': 4, 'robituss': 2, 'bet': 1, 'mva': 15, 'spironmet': 1, 'dulcalox': 1, 'school': 7, 'adopt': 1, 'illeu': 2, 'doapmin': 1, 'prolap': 1, 'amantadin': 2, 'dopamamin': 1, 'hepatopet': 26, 'tng': 2, 'breathinhg': 1, 'hydraliazin': 1, 'hemangioma': 16, 'painfre': 2, 'iabp': 5, 'edemam': 1, 'urbc': 2, 'monito': 5, 'infusimg': 1, 'furter': 2, 'extuba': 3, 'ovenroc': 1, 'ith': 2, 'cervix': 2, 'bwel': 1, 'nitor': 1, 'fingertip': 3, 'lorpessor': 2, 'esstenti': 1, 'amantidin': 2, 'condtion': 1, 'throughotu': 1, 'concav': 4, 'cracl': 3, 'abdomini': 4, 'gasseou': 2, 'saph': 1, 'posteromedi': 1, 'quadripl': 1, 'curvilinear': 7, 'colonca': 1, 'pneumothoorax': 1, 'subc': 2, 'pmreassess': 1, 'platelik': 3, 'pbm': 1, 'heimlich': 1, 'excis': 8, 'row': 7, 'negativetri': 1, 'lrd': 2, 'hydromorphon': 12, 'ordrer': 1, 'anaphylaxi': 15, 'enterococ': 2, 'thermomet': 4, 'hyperk': 2, 'tacro': 3, 'par': 2, 'stabal': 8, 'aresol': 2, 'trx': 1, 'sicuss': 1, 'sesni': 1, 'tens': 9, 'dxae': 2, 'myucomyst': 1, 'ws': 4, 'bronc': 3, 'thrombos': 4, 'brittl': 2, 'tracheobronchomalacia': 9, 'pleuret': 1, 'ostium': 2, 'tropinin': 4, 'carev': 2, 'hjr': 3, 'protoc': 2, 'tendor': 2, 'coracoclavicular': 1, 'widow': 3, 'acromiohumer': 1, 'glenoid': 7, 'aurea': 1, 'resusciat': 1, 'adnex': 5, 'ovari': 5, 'mgi': 15, 'incompletley': 1, 'shrunken': 4, 'contrastclip': 3, 'dlp': 15, 'perisplen': 4, 'stbale': 4, 'venotomi': 7, 'dysynchron': 12, 'lymphocyt': 9, 'paravertebr': 3, 'intubt': 2, 'direcl': 1, 'cholecysti': 1, 'pbishop': 2, 'plerual': 2, 'mesaur': 1, 'circumflex': 3, 'ath': 1, 'coupiou': 2, 'avss': 4, 'secreiton': 1, 'sersanguin': 1, 'clindaycin': 1, 'interphalang': 1, 'respn': 1, 'cga': 9, 'commnand': 2, 'apeci': 2, 'emphyema': 1, 'clind': 1, 'patinet': 4, 'pneumthorax': 2, 'comminut': 8, 'atelectact': 1, 'backach': 3, 'synch': 4, 'tychypn': 1, 'mob': 2, 'isolat': 1, 'island': 7, 'exacerbaion': 1, 'mediat': 6, 'tacycard': 1, 'thikc': 2, 'tepid': 3, 'adlib': 1, 'rpiv': 2, 'apin': 3, 'tool': 1, 'paitent': 5, 'rpicc': 2, 'cf': 4, 'brew': 3, 'donw': 1, 'ontrach': 1, 'wriet': 1, 'becaom': 2, 'vaco': 2, 'placemnt': 2, 'downsiz': 5, 'softwrist': 1, 'shuffl': 1, 'nystain': 1, 'subseq': 1, 'frequentstrong': 1, 'hcyt': 1, 'periar': 1, 'comod': 1, 'aaaaawait': 1, 'bottock': 1, 'bedisd': 1, 'dischrg': 1, 'sppech': 3, 'tast': 1, 'antiretrovir': 2, 'doubleguard': 5, 'knownor': 1, 'ur': 1, 'legibl': 3, 'acoupl': 1, 'sabl': 1, 'hemecult': 1, 'afebil': 5, 'craet': 1, 'solat': 1, 'cuffless': 5, 'secrertt': 1, 'nauseou': 4, 'synchroni': 3, 'nonfenestr': 1, 'manuev': 1, 'lipim': 1, 'accep': 1, 'lasx': 1, 'sutol': 1, 'cardial': 1, 'nitrotab': 1, 'expos': 7, 'signigic': 1, 'indiscret': 2, 'dysphasia': 4, 'krohn': 1, 'vx': 4, 'copn': 1, 'approrpi': 1, 'earlili': 1, 'dysarthr': 3, 'transferrd': 1, 'uprigh': 1, 'south': 3, 'retrocardi': 2, 'mediastinosccopi': 1, 'multcn': 1, 'ovoid': 3, 'ceftazdim': 1, 'invent': 1, 'pluggin': 1, 'wich': 2, 'aebc': 2, 'costal': 5, 'encas': 8, 'emphysemia': 1, 'malleolar': 1, 'trimalleolar': 1, 'plafond': 1, 'calcaneu': 1, 'neuropath': 4, 'disrupt': 4, 'varu': 1, 'charcot': 2, 'callus': 1, 'fibula': 4, 'dilodid': 2, 'fragment': 9, 'talar': 1, 'angul': 7, 'adjoin': 1, 'hindfoot': 1, 'oxicodon': 2, 'malleolu': 1, 'uren': 1, 'fibular': 2, 'bimalleolar': 1, 'wolfram': 2, 'nonhemorrhag': 17, 'optic': 1, 'wolfran': 2, 'requiremnt': 1, 'ulrasound': 1, 'vag': 2, 'yello': 3, 'fishi': 1, 'lbbb': 10, 'titat': 1, 'oximet': 2, 'prog': 4, 'respoit': 1, 'becuas': 2, 'seriel': 4, 'sod': 1, 'statusa': 1, 'midstern': 5, 'difficultli': 3, 'retim': 1, 'readmiss': 6, 'captopr': 2, 'coocx': 1, 'mediastium': 1, 'proscar': 1, 'sxp': 1, 'maintenac': 1, 'stnet': 1, 'assymptomat': 2, 'lop': 2, 'incidnet': 1, 'emoli': 1, 'microabras': 1, 'deped': 2, 'cortison': 2, 'distned': 1, 'vacular': 2, '^cri': 1, 'gramstain': 1, 'srx': 1, 'tangenti': 1, 'silli': 1, 'thankgiv': 1, 'mstemi': 1, 'substern': 7, 'mdnoc': 2, 'unmeasur': 1, 'bracheocephal': 2, 'nifedipin': 15, 'losdartan': 1, 'sarcoid': 8, 'smx': 13, 'niifedipin': 1, 'melanot': 5, 'sevelamir': 3, 'crampo': 1, 'bactrimm': 1, 'plz': 3, 'righ': 2, 'prescribt': 1, 'zpak': 2, 'pruritu': 4, 'hematemesi': 5, 'binder': 7, 'amox': 2, 'episodex': 1, 'mrv': 2, 'crossmatch': 5, 'nifedepin': 1, 'rbb': 1, 'hydroxysin': 1, 'matur': 4, 'hyperthermia': 42, 'tmp': 13, 'heav': 12, 'avgraft': 1, 'cozaar': 3, 'mptb': 6, 'quaic': 1, 'glomerular': 2, 'polit': 2, 'vanocmycin': 2, 'graph': 2, 'clavulan': 2, 'crossmathc': 1, 'contineu': 2, 'convent': 9, 'xerofoam': 1, 'notif': 9, 'reoccurr': 2, 'phleb': 1, 'diverticulti': 1, 'prepe': 1, 'diveriticul': 1, 'maroon': 7, 'clump': 1, 'colonscopi': 2, 'lbrach': 1, 'slighti': 3, 'klonipin': 3, 'unrin': 1, 'throbe': 1, 'antibioticd': 1, 'morpin': 4, 'intolerac': 1, 'chnged': 1, 'tiger': 1, 'olac': 2, 'chset': 1, 'illeostomi': 2, 'whe': 3, 'physicv': 1, 'adheas': 1, 'serv': 6, 'lforearm': 1, 'papsp': 1, 'remiand': 1, 'confim': 1, 'lquid': 2, 'breathin': 2, 'cahir': 2, 'flatuat': 1, 'paxil': 9, 'tiopropium': 1, 'illoestomi': 1, 'pseudamonsa': 1, 'lfa': 3, 'inpast': 1, 'iliostomybag': 1, 'dribbl': 1, 'appitit': 9, 'blod': 5, 'oncontact': 1, 'duaderm': 2, 'pendinf': 1, 'guiafenesin': 5, 'hyperluc': 6, 'inncid': 1, 'leveqiun': 1, 'makept': 1, 'dur': 4, 'ressect': 1, 'revieew': 1, 'sution': 2, 'sulphat': 3, 'tipotropium': 1, 'tackycard': 1, 'overexpand': 1, 'azitinem': 1, 'pharm': 8, 'magmt': 1, 'antibioticss': 1, 'sweater': 2, 'rrad': 1, 'modal': 3, 'deepbreath': 1, 'eventhough': 1, 'psuedamonu': 1, 'lidcain': 1, 'peudamona': 1, 'exersic': 1, 'milder': 5, 'hyperglycem': 13, 'prece': 1, 'extrimitit': 1, 'breathig': 1, 'reuir': 1, 'luq': 8, 'norom': 1, 'amikacin': 9, 'fortaz': 2, 'panicki': 2, 'agbg': 1, 'aabg': 1, 'lumin': 3, 'zyvox': 2, 'lobectomyand': 1, 'hyperglycamia': 1, 'ren': 1, 'linein': 1, 'availabilti': 1, 'inhail': 2, 'porgress': 1, 'ocean': 1, 'conditoin': 1, 'rant': 3, 'pipe': 2, 'blown': 1, 'kexel': 1, 'colitisrequir': 1, 'anticholinerg': 3, 'psuedmona': 1, 'graduat': 2, 'melanoma': 7, 'obstain': 1, 'tbili': 13, 'hcap': 38, 'metoprol': 3, 'hyperkalem': 5, 'finasterid': 2, 'paliat': 1, 'adenoca': 5, 'lbp': 5, 'amoxicillin': 8, 'howvev': 1, 'legion': 1, 'doublecoverag': 1, 'dysautonomia': 2, 'catalogu': 1, 'cholangio': 2, 'cholangioca': 1, 'ercp': 10, 'chic': 1, 'interior': 1, 'receivl': 1, \"piv'\": 8, 'refresh': 1, 'elast': 2, 'endpoint': 2, 'ioversol': 1, 'successu': 1, 'dex': 4, 'enterocutan': 2, 'misattach': 2, 'reigmen': 1, 'ronchor': 16, 'piviot': 2, 'hida': 5, 'fistul': 3, 'ment': 2, 'amiodipin': 2, 'orif': 12, 'dyskinet': 2, 'taker': 1, 'antiparkinson': 2, 'azotemia': 9, 'choledocholithiasi': 4, 'olecranan': 1, 'unicentr': 1, 'fistuologram': 1, 'bliari': 1, 'excrori': 1, 'castleman': 1, 'laproscop': 1, 'radiographi': 5, 'lexapro': 8, 'pelv': 3, 'tugor': 2, 'primidon': 4, 'wallpap': 1, 'nutrion': 2, 'laxiti': 3, 'poi': 1, 'csurg': 6, 'turner': 1, 'optimum': 1, 'pec': 1, 'respirophas': 1, 'transcutan': 3, 'aortobi': 1, 'instraspin': 1, 'wak': 1, 'shield': 1, 'nv': 3, 'visipaqu': 5, 'erod': 5, 'brainstem': 2, 'avid': 9, 'cerebellum': 6, 'invad': 7, 'imping': 9, 'percept': 1, 'paraesophag': 7, 'lunc': 1, 'spinou': 2, 'pet': 17, 'aspergillu': 11, 'uncovertebr': 3, 'intraoss': 2, 'destroy': 3, 'encroach': 3, 'bronchorrhea': 1, 'nebsq': 1, 'initial': 1, 'openingli': 1, 'cannul': 5, 'pneumonectomi': 5, 'abssent': 1, 'hematuirc': 1, 'downt': 2, 'respirtori': 4, 'therapistin': 1, 'agitata': 1, 'continuu': 1, 'vodka': 5, \"cont'd\": 1, 'detial': 3, 'butt': 5, 'agian': 3, 'inpuls': 1, 'betwwen': 1, 'soflti': 4, 'sctlc': 1, 'veceronium': 2, 'papain': 1, 'wavsform': 1, 'realt': 2, 'ywlloe': 1, 'scarum': 1, 'sliip': 1, 'satisafcatori': 1, 'sba': 1, 'sedtaion': 1, 'unclog': 1, 'corsintropin': 1, 'clipboard': 4, 'memeori': 1, 'databas': 2, 'therfeor': 1, 'efeect': 1, 'necklac': 2, 'nosocomi': 15, 'afeebril': 1, 'stack': 2, 'risisng': 1, 'hypotent': 7, 'reviw': 2, 'prozac': 6, 'slighli': 5, 'slid': 2, 'lithiumm': 1, 'operta': 1, 'wiothout': 1, 'sleav': 2, 'communic': 1, 'mdo': 1, 'decreasedin': 1, 'succinctli': 1, 'daptomycin': 2, 'relet': 1, 'tnick': 1, 'isoniazid': 2, 'rifampin': 6, 'anzimetx': 1, 'commnec': 1, 'uss': 1, 'gancyclovir': 3, 'vicari': 3, 'srat': 1, 'dolasetron': 1, 'delasetron': 1, 'imepenum': 1, 'church': 2, 'suppert': 1, 'ladder': 1, 'uterin': 5, 'rhonchiou': 2, 'micxumi': 1, 'anzamet': 1, 'watersh': 3, 'portclip': 3, 'diuris': 4, 'brighter': 3, 'usction': 1, 'rapport': 7, 'ndari': 1, 'lbmx': 2, 'clott': 1, 'prr': 1, 'whithin': 1, 'sectreion': 1, 'becan': 1, 'afrebril': 2, 'decend': 2, 'rip': 3, 'ramain': 1, 'daughetr': 1, 'pyrazanamid': 1, 'movemnt': 1, 'emet': 1, 'discrep': 6, 'respiartori': 1, 'inermit': 1, 'thkish': 2, 'perrlaa': 1, 'imepenim': 1, 'digest': 2, 'urs': 1, 'sickl': 1, 'interac': 1, 'chalki': 1, 'trcheotomi': 1, 'lsw': 1, 'na^^': 1, 'anzement': 1, 'propos': 4, 'weamn': 1, 'swing': 6, 'trait': 3, 'theori': 3, 'coagulopath': 3, 'strptomycin': 1, 'improvementtv': 1, 'dampn': 1, 'allevi': 12, 'el': 2, 'prresent': 1, 'scretion': 1, 'ethambutol': 1, 'upprt': 2, 'perisist': 2, 'serosangin': 3, 'declar': 2, 'shifwt': 1, 'contit': 1, 'mtb': 3, 'weam': 1, 'tolaret': 1, 'unconsci': 1, 'spile': 1, 'reimag': 7, 'lishen': 1, \"'scvp\": 1, 'raeb': 1, 'alongsid': 10, 'benedryl': 4, 'phrase': 7, 'magazin': 3, 'dermoid': 1, 'matreess': 1, 'rojm': 1, 'routinc': 1, 'represn': 1, 'meant': 3, 'drning': 1, 'custodi': 3, 'recc': 10, 'tahypn': 1, 'ambisom': 2, 'circuit': 7, 'cure': 2, 'edemed': 1, 'blank': 2, 'streptomycin': 1, 'myelodysplast': 2, 'encrust': 1, 'paid': 2, 'spkie': 2, 'tylenolx': 1, 'antiemet': 4, 'subpoena': 1, 'opinion': 7, 'reexpand': 2, 'softer': 8, 'gender': 3, 'hemisper': 1, 'allerig': 2, 'treach': 1, 'mcl': 1, 'guaz': 3, 'clsose': 1, 'guardianship': 5, 'espeic': 2, 'arteriogram': 3, 'pleuroparenchym': 4, 'prcedur': 1, 'echoli': 1, 'cecum': 8, 'neostigman': 1, 'apprpriat': 1, 'cortistim': 1, 'physiotherapi': 3, 'abrasionx': 1, 'imipenam': 1, 'vegit': 6, 'plumonari': 1, 'trede': 3, 'regurgat': 1, 'sponten': 3, 'pltl': 1, 'haematuria': 2, 'agatroban': 1, 'erali': 1, 'collectio': 2, 'tel': 1, 'sag': 1, 'conjuct': 2, 'erythro': 2, 'uffp': 2, 'vomitu': 2, 'overdiures': 2, 'diusesi': 1, 'mainatinig': 1, 'hyperoxia': 2, 'nlargement': 1, 'malasia': 2, 'witn': 1, 'transderm': 2, 'unopen': 2, 'betetr': 1, 'wdi': 6, 'cisatracurium': 2, 'emeg': 1, 'luung': 1, 'uurs': 1, 'hypocapnea': 1, 'periorbit': 4, 'notenurs': 1, 'blanc': 2, 'unitl': 3, 'speciment': 1, 'refex': 1, 'rotorest': 1, 'unrais': 1, 'humulin': 5, 'demarc': 4, 'essent': 2, 'medciat': 2, 'haslimit': 1, 'riedel': 1, 'resond': 3, 'tign': 1, 'nursng': 1, 'suporrt': 1, 'slep': 1, 'mojor': 1, 'mehtadon': 1, 'redsid': 1, 'socialwork': 2, 'ivl': 2, 'puil': 2, 'cist': 1, 'combo': 4, 'periorbi': 1, 'kink': 7, 'inhlaer': 1, 'wi': 4, 'mosltli': 1, 'getout': 1, 'peed': 1, 'supplemet': 1, 'bmp': 1, 'andtherefor': 1, 'pentobarbitol': 1, 'audubl': 1, 'depsit': 2, 'urien': 2, 'pharmacist': 5, 'venil': 1, 'mang': 3, 'multiposu': 1, 'dop': 10, 'regland': 1, 'superad': 1, 'pronat': 3, 'nsicu': 1, 'expwhe': 1, 'consistentwith': 1, 'adminis': 1, 'deffer': 5, 'bilaer': 1, 'acidod': 2, 'midesophagu': 1, 'eupport': 1, 'amoount': 2, 'coma': 4, 'popit': 2, 'throughouth': 1, 'hypergycem': 1, 'cisatraciriuum': 1, 'morphein': 1, 'glden': 1, 'retun': 1, 'concult': 1, 'antibiotic': 1, 'proprofol': 3, 'iniatilli': 1, 'resov': 2, 'anpea': 1, 'balacn': 2, 'solv': 3, 'pharmacuet': 1, 'dopov': 1, 'tomorrrow': 2, 'apen': 4, 'maitian': 1, 'sluggisli': 2, 'tronchoscopi': 1, 'klonapin': 2, 'triadyn': 7, 'trasfus': 2, 'paral': 1, 'hyoactiv': 1, 'displeas': 1, 'progr': 3, 'cistatiacurium': 1, 'ite': 1, 'cholang': 7, 'dnuero': 1, 'pnumo': 1, 'z': 4, '^hr': 3, 'multiposi': 2, 'residul': 2, 'sputim': 1, 'fowl': 2, 'sercet': 1, 'sort': 8, 'hypotensv': 1, 'ba': 17, 'comgeal': 1, 'frustrarion': 1, 'discomfor': 1, 'clasp': 1, 'repleatd': 1, 'contct': 1, 'tcdp': 5, 'abdom': 2, 'opsit': 2, 'uncov': 3, 'linesit': 1, 'pali': 2, 'grimi': 1, 'mmove': 1, 'evem': 1, 'fellto': 1, 'slightest': 2, 'devid': 1, '^na': 1, 'faili': 2, 'oppinion': 1, 'dioppler': 1, 'musculatur': 6, 'futil': 3, 'bot': 2, 'sart': 2, 'dtiff': 1, 'pancx': 4, 'hro': 1, 'conclud': 5, 'refferr': 2, 'omg': 1, 'abf': 1, '^^hr': 2, 'braclet': 1, 'lest': 1, 'intervascular': 1, 'recess': 5, 'ureg': 1, 'anlkl': 1, 'mind': 10, 'trueli': 1, 'attmpt': 3, 'offabx': 1, 'lenghti': 1, 'religi': 1, 'auscultaion': 1, 'belief': 1, \"ambu'\": 2, 'uncomforatbl': 1, 'sadd': 1, 'fluc': 8, 'incresinng': 1, 'fgiven': 1, 'inadvertenti': 1, 'cab': 4, 'plummet': 1, 'boredom': 1, 'awarenss': 1, 'commsnd': 1, 'nasaal': 1, 'coough': 1, 'lasisx': 1, 'voucher': 2, 'otherw': 1, 'prescript': 9, 'inadvertantli': 1, 'diminih': 2, 'vomitig': 1, 'mentaton': 1, 'wma': 6, 'upstrok': 6, 'stanc': 2, 'poetri': 1, 'viedo': 1, 'seroqul': 1, 'unretract': 1, 'cryoptherapi': 1, 'lactam': 4, 'crtx': 1, 'prednisom': 1, 'commit': 5, 'hdl': 3, 'dextro': 1, 'nitrofurantoin': 6, 'goc': 6, 'continun': 1, 'faiulr': 6, 'endocrinologist': 2, 'girmmac': 1, 'gej': 1, 'enalopril': 2, 'qmi': 1, 'biomark': 9, 'song': 1, 'subcot': 1, 'cadaver': 1, 'toiltet': 3, 'bronchomalacia': 5, 'lengthen': 4, 'cyclic': 2, 'ridg': 3, 'quot': 2, 'fahrenheit': 1, 'bumetanid': 2, 'russia': 1, 'angin': 4, 'restat': 1, 'funciton': 1, 'andvanc': 1, 'xplant': 1, 'immigr': 1, 'acur': 2, 'cce': 1, 'ldl': 2, 'model': 9, 'leukokcytosi': 1, 'fumar': 5, 'pravastat': 1, 'tacrol': 1, 'spew': 1, 'pmibi': 2, 'click': 2, 'videofluoroscop': 8, 'da': 5, 'ketoacidosi': 1, 'represent': 2, \"i'li\": 1, 'nightsweat': 3, 'xyphoid': 2, 'fexofenidin': 1, 'awail': 1, 'dyskinesi': 2, 'ganglia': 10, 'unintent': 1, 'poem': 1, 'vfib': 4, 'ulyt': 4, 'sysotl': 2, 'pyriform': 9, 'smmhg': 1, 'precert': 1, 'haltol': 1, 'chd': 1, 'lood': 2, 'decerebr': 1, 'auth': 1, 'mycophenol': 4, 'begn': 1, 'immunesuppress': 2, 'mofetil': 3, 'velar': 3, 'uppermost': 3, 'ivpwith': 1, 'transpos': 1, 'srh': 4, 'inord': 2, 'osmot': 2, 'waev': 2, 'camb': 1, 'accommod': 2, 'diabetesi': 1, 'levit': 1, 'intubati': 1, 'betalactam': 1, 'icteru': 29, 'purposefuli': 1, 'normoglycemia': 1, 'vfa': 1, 'mmf': 4, 'ppft': 4, 'df': 13, 'cariac': 1, 'gut': 10, 'closley': 2, 'ideat': 5, 'resovlv': 1, 'fluvoxamin': 1, 'vronch': 1, 'clonzapam': 1, 'persantin': 3, 'requiringhd': 1, 'intravascularli': 14, 'brochospasm': 1, 'tn': 6, 'exept': 2, 'vf': 1, 'unsign': 1, 'edentul': 11, 'seroquil': 4, 'pravastatin': 7, 'chol': 4, 'eosinophilia': 12, 'dispens': 4, 'rrom': 1, 'lobbi': 2, 'whcih': 2, 'bourbon': 1, 'delusion': 2, 'converstaion': 1, 'advisor': 3, 'escort': 3, 'behavoir': 2, 'whee': 1, 'aros': 1, 'aval': 2, 'ventricuilar': 1, 'albtuerol': 2, 'caythet': 1, 'comfirm': 2, 'defiecit': 1, 'vioxx': 1, 'disect': 2, 'gaurd': 4, 'diffaculti': 1, 'manor': 2, 'agil': 1, 'suctioningx': 1, 'roof': 3, 'pleasw': 1, 'chunk': 2, 'aodm': 2, 'allen': 1, 'ahen': 1, 'yaunk': 1, 'occcasion': 1, 'aspleen': 1, 'nasasl': 1, 'accordf': 1, 'furhter': 4, 'perpipher': 2, 'appetiet': 1, 'awel': 1, 'accquir': 1, 'floswsheet': 1, 'memeb': 1, 'whenn': 1, 'nine': 7, 'cbp': 4, 'bouls': 1, \"mov't\": 1, 'residua': 5, 'baqth': 1, 'biatrial': 3, 'lymphangit': 7, 'negit': 2, 'diarreah': 1, 'rescussit': 2, 'maintian': 5, 'coorel': 2, 'probuct': 1, 'pleuric': 1, 'sistend': 1, 'origion': 1, 'foloow': 3, 'wnt': 1, 'ensym': 1, 'replecmenbt': 1, 'tarnsfr': 1, 'hipoxia': 1, 'fructur': 1, 'interup': 5, 'deseas': 1, 'elevet': 2, 'conferm': 1, \"pe'\": 2, 'park': 6, 'arousabel': 1, 'anwser': 1, 'effuis': 1, 'retin': 1, 'cavogram': 1, 'quarter': 8, 'psychot': 7, 'dateto': 1, 'atert': 1, 'combi': 2, 'hcit': 1, 'nfb': 4, 'nactiv': 1, 'portocath': 2, 'vte': 6, 'tolerat': 1, 'gingeral': 5, 'wqith': 3, 'hypertent': 1, 'portacath': 11, 'penidng': 2, 'tylenlol': 1, 'sex': 1, 'approprait': 1, 'perip': 2, 'wavew': 1, 'deepen': 1, 'pasti': 4, 'aoung': 1, 'buttuck': 4, 'backupset': 1, 'isod': 1, 'atrest': 1, 'oar': 1, 'auscalt': 1, 'surrent': 1, 'penicllan': 1, 'generalis': 2, 'substitut': 4, 'coaars': 1, 'experenc': 1, 'lisw': 4, 'million': 4, 'bolos': 1, 'ocassioan': 1, 'stiil': 1, 'cocyyx': 1, 'hich': 1, 'thinnet': 1, 'vet': 2, 'currenltli': 1, 'hypervolem': 8, 'softlt': 1, 'sctl': 2, 'readminist': 1, 'wg': 2, 'valastran': 1, 'lmp': 3, '^ing': 1, 'hey': 1, 'seroussang': 1, 'streptococc': 1, 'ral': 1, 'creap': 1, 'pne': 1, 'cvc': 9, 'bicuspid': 2, 'microgram': 1, 'shampoo': 1, 'quaniti': 2, 'magsulf': 1, 'asbp': 1, 'mineralocorticoid': 1, 'hydrocodon': 10, 'methyprednison': 3, 'possibiliy': 1, 'ribavarin': 1, 'decomepns': 1, 'betaglucan': 1, 'galactomanan': 4, 'fludrocortison': 3, 'counsel': 6, 'gg': 7, 'interferon': 3, 'galactomannan': 17, 'polycythemia': 3, 'ciger': 1, 'cortef': 2, 'mastoidectomi': 1, 'mone': 1, 'assertain': 1, 'discribt': 1, 'crave': 1, 'pupl': 3, 'malform': 2, 'pica': 2, 'suboccipit': 1, 'initilli': 1, 'bagun': 1, 'noodl': 2, 'comfrtabl': 1, 'strictur': 14, 'ogd': 1, 'unaffect': 2, \"did't\": 1, 'jejunocutan': 1, 'oesophag': 1, 'opr': 1, 'chicken': 2, 'lfluid': 1, 'diaprosi': 1, 'subtherapi': 1, 'quesiton': 3, 'ygd': 7, 'sobclin': 1, 'multivessel': 7, 'rulobectomi': 1, 'imitrex': 2, 'gassi': 4, 'initrex': 1, 'whith': 2, 'seroid': 1, 'gvn': 1, 'minit': 1, 'agb': 1, 'anxioud': 1, 'nectrar': 1, 'lev': 1, 'vegetarian': 4, 'ahv': 2, 'trazedon': 3, 'dypneic': 1, 'jovial': 1, 'quanit': 1, 'minmal': 3, 'mgiv': 2, 'awaitng': 4, 'evernt': 1, 'floxacin': 1, 'sulpha': 1, 'grill': 2, 'inspit': 4, 'hyperplasia': 1, 'aorticopulmonari': 2, 'uninterpret': 6, 'afternooon': 2, 'lighthead': 4, 'gand': 1, 'difficalti': 1, 'shelter': 5, 'tenant': 1, 'icreas': 3, 'monitoirng': 1, 'homeless': 9, 'inn': 2, 'azythromacyn': 1, 'holosyst': 3, 'tka': 1, 'lume': 1, 'hype': 1, 'limitedli': 1, 'ingli': 1, 'cryoglobulin': 3, 'concomit': 9, 'predic': 1, 'simva': 3, 'compfort': 1, 'hemmorhag': 5, 'iprotrop': 1, 'recevd': 1, 'sleap': 1, 'adequetli': 1, 'vitd': 4, 'therex': 10, 'reinstitut': 3, 'rimantidin': 2, 'hemmorrhag': 2, 'vasculit': 2, 'dvelop': 1, 'covera': 1, 'lcpc': 18, 'acetominophen': 2, 'diclox': 1, 'positit': 2, 'cacarb': 1, 'bland': 4, 'prednsion': 2, 'showscrackl': 1, 'lebatalol': 1, 'dissynchroni': 1, 'imprrov': 1, 'dah': 11, 'achi': 3, 'rw': 8, 'facemast': 1, 'prochlorperazin': 8, 'precari': 1, 'wegner': 3, 'pach': 1, 'yesteday': 3, 'endometriosi': 2, 'cyanocobalamin': 6, 'nafcillin': 6, 'supress': 6, 'chiropractor': 1, 'extran': 1, 'wbat': 1, 'rhonki': 2, 'appred': 1, 'capillar': 1, 'avt': 1, 'dialudid': 3, 'desaturadt': 1, 'lossess': 1, 'perocet': 2, 'vut': 1, 'hrc': 3, 'procidex': 1, 'degrees': 1, 'criticaid': 14, 'agter': 2, 'artifactu': 7, 'repsiratori': 4, 'blade': 2, 'amlodapin': 1, 'anticp': 3, 'alv': 4, 'search': 5, 'improov': 4, 'multicfoc': 1, 'glucocorticoid': 2, 'nafcilin': 1, 'slighltli': 2, 'coocyx': 4, 'benifit': 1, 'intubationl': 1, 'class': 3, 'avellyn': 1, 'origress': 1, 'orienterd': 1, 'mexiliten': 1, 'cond': 4, 'bivalv': 2, 'nno': 1, 'mostlli': 1, 'nyha': 1, 'nurisng': 3, 'corel': 1, 'shaunessi': 1, 'coumidin': 1, 'parang': 1, 'meticulu': 1, 'ivfluid': 1, 'glutteal': 1, 'gat': 1, 'pharyg': 1, 'alevyn': 3, 'calendar': 2, 'visapaqu': 2, 'arteriotomi': 1, 'addl': 5, 'slurri': 1, 'trancathet': 1, 'hyperenhanc': 3, 'striat': 1, 'balkan': 1, 'microcoil': 1, 'upsiz': 6, 'cobra': 4, 'midport': 1, 'pseudoanuerysm': 1, 'intraren': 5, 'stc': 1, 'trv': 4, 'supersel': 1, 'transcend': 1, 'microcathet': 2, 'renegad': 1, 'microwir': 1, 'embo': 1, 'palpatori': 1, 'progrewss': 1, 'blodd': 1, 'weakeer': 1, 'restrian': 1, 'meqkcl': 2, 'hgealth': 1, 'bowwel': 1, 'slugish': 2, 'metroprolol': 6, 'commannd': 1, 'toleratin': 1, 'lomotil': 2, 'obeyi': 1, 'coinsid': 2, 'yankeuur': 1, 'diissoriiennt': 1, 'naseltrachea': 1, 'expidit': 1, 'pphlegm': 1, 'phosphor': 6, 'ppt': 2, 'abfas': 1, 'staart': 1, 'encouraag': 2, 'feedw': 1, 'promoot': 1, 'stqrt': 1, 'circ': 3, 'whren': 1, 'turrn': 1, 'multicent': 1, 'proctiti': 3, 'bendamustin': 1, 'enrol': 1, 'mitoxantron': 1, 'chop': 4, 'drinker': 5, 'antibioc': 1, 'msir': 2, 'megestrol': 4, 'thrive': 4, 'lymphedema': 1, 'infraclavicular': 2, 'rituximab': 1, 'refractori': 10, 'ctabd': 1, 'pericolon': 1, 'loperamind': 1, 'sidewal': 3, 'ppossibl': 1, 'igg': 10, 'follicular': 1, 'orthostasi': 3, 'chemotherapeut': 2, 'spectrim': 1, 'enhancemnt': 1, 'transform': 7, 'pentamadin': 1, 'qmonth': 1, 'pleuriti': 1, 'zevalin': 1, 'xenopi': 1, 'war': 3, 'malodor': 2, 'pleurisi': 4, 'hyptens': 1, 'fludarabin': 1, 'qweek': 2, 'hcd': 1, 'chilaid': 1, 'queri': 11, 'fibrou': 3, 'pinu': 1, 'tattoo': 2, 'interposit': 6, 'anterolisthesi': 12, 'penu': 1, 'ventr': 1, 'peal': 1, 'omf': 2, 'rove': 2, 'mepiplex': 4, 'becomc': 1, 'gnawl': 1, 'prox': 3, 'pnbt': 2, 'impli': 3, 'grind': 3, 'glucogon': 3, 'junct': 1, 'holler': 1, 'speciman': 2, 'decubetu': 1, 'phenegran': 1, 'wegd': 1, 'lct': 2, 'exxerct': 1, 'omni': 4, 'killer': 1, 'inp': 2, 'hyperelev': 1, 'lsctab': 3, 'nut': 2, 'protrus': 5, 'tylonol': 2, 'pulonari': 4, 'suprabas': 3, 'tolerart': 1, 'nsc': 1, 'hemidiaphragmat': 7, 'odour': 1, 'thorencentesi': 1, 'mgoxid': 1, 'enabl': 9, 'tension': 9, 'twist': 2, 'reposist': 1, 'portibl': 1, 'thyrombocytopenia': 1, 'impiar': 1, 'multiform': 5, 'addendun': 1, 'zyprea': 2, 'continuy': 1, 'avp': 2, 'thyroplastym': 1, 'rambl': 2, 'dantrolen': 1, 'interogat': 1, 'bruse': 3, \"bolus'\": 1, 'thyrotoxicosi': 1, 'ventricularli': 2, 'extremeit': 1, 'quiver': 1, 'grochong': 1, 'vioe': 1, 'lime': 2, 'buttox': 2, 'understatand': 1, 'tanninsh': 1, 'thyroidoxicosi': 1, 'esmolo': 1, 'cring': 1, 'vacol': 1, 'effectand': 1, 'overninght': 1, 'movt': 9, 'defervec': 1, 'klitchen': 1, 'mfpvc': 1, 'correctiom': 1, 'lrad': 1, 'persent': 1, 'broach': 3, 'porrel': 1, 'esmollol': 1, 'guardain': 1, 'sogt': 1, 'defitilid': 1, '^respons': 1, 'psycot': 2, 'bari': 3, 'gardianship': 2, 'glottic': 1, 'furtur': 1, 'foer': 1, 'ibupropin': 1, 'thyroidtoxosi': 1, 'hiccup': 3, 'awe': 1, 'attept': 1, 'extrub': 1, 'nioght': 1, 'qac': 2, 'multipli': 2, 'sponan': 1, 'bigemin': 3, 'guaicc': 1, 'polymorph': 1, 'liguid': 4, 'sbp^': 1, 'baselineand': 1, 'bond': 1, 'blankli': 1, 'reprep': 1, 'visualis': 2, 'boggi': 2, 'hop': 3, 'capoten': 1, 'spotan': 4, 'voiec': 1, 'wakeup': 9, 'amioderon': 6, 'chatter': 1, 'fixationg': 1, 'nightshift': 1, 'itm': 1, 'muxhroom': 1, 'inconisit': 1, 'compensart': 1, 'unsynchron': 1, 'weaken': 6, 'taperd': 1, '^amt': 2, 'procudt': 1, 'omli': 1, 'avpac': 1, 'ver': 3, 'dysnchroni': 1, 'incraes': 1, 'voriconazol': 4, 'bolusn': 1, 'offend': 6, 'disoreint': 1, 'hormon': 3, 'normothermia': 1, 'aforment': 1, 'nurten': 1, 'coccyc': 2, 'mnimal': 1, 'psycholog': 2, 'positio': 1, 'whisper': 2, 'storm': 1, 'cove': 3, 'tylenlo': 1, 'prenison': 1, 'thyroidtoxicosi': 1, 'zoysn': 5, 'mormimg': 1, 'eveal': 1, 'slind': 1, 'dofetilid': 3, 'rforearm': 1, 'requiri': 2, 'galrgin': 1, 'icepack': 1, 'hic': 1, 'sponatan': 1, 'esay': 1, 'wsa': 1, 'infilr': 1, 'monitorfor': 1, 'grim': 2, 'bll': 6, 'uterol': 1, 'cdif': 7, 'bracheal': 1, 'erceiv': 1, 'defilitid': 1, 'bananna': 3, 'oversea': 2, 'fuse': 5, 'readmt': 1, 'thyrotoxosi': 1, 'interog': 2, 'ril': 1, 'resplet': 1, 'orientx': 1, 'detriment': 1, 'hemeodynam': 1, 'kayexol': 2, 'quanitifi': 1, 'disynchronu': 1, 'dilerium': 1, 'bpcuff': 1, 'irat': 1, 'incoprehensibel': 1, 'rashi': 1, 'resul': 2, 'unccop': 1, 'outlook': 3, 'dialat': 5, 'forev': 1, 'dexamethison': 1, 'bace': 1, 'apyrexi': 1, 'gass': 2, 'altho': 1, 'steer': 1, 'mandril': 1, 'infreq': 3, 'yearl': 1, 'dimenish': 1, 'nummer': 1, 'fluoproscop': 1, 'stromg': 1, 'ordeer': 1, 'penectomi': 1, 'sucralaf': 3, 'rochi': 1, 'oat': 1, 'dmfj': 9, 'stori': 10, 'nyastatin': 2, 'emphasi': 9, 'humdifi': 1, 'kleenex': 1, 'mem': 1, 'habit': 11, 'beg': 2, 'emprir': 1, 'ectat': 6, 'epsisod': 1, 'sdh': 12, 'xopen': 1, 'tachyapn': 1, 'sucralf': 10, 'vancomycina': 1, 'tachyarrhythemia': 1, 'bronchiestasi': 1, 'fsq': 3, 'unmpress': 1, 'methemoglobinem': 2, 'solumdedrol': 1, 'diltitazem': 1, 'chemoradiotherapi': 2, 'unimpress': 7, 'sulcruf': 1, 'bronchietasi': 2, 'increass': 2, \"cap'\": 1, 'midinsp': 1, 'reachabl': 1, 'abdomni': 1, 'coph': 1, 'adeno': 9, 'luceni': 1, 'deriv': 8, 'athosclerot': 1, 'significnatli': 1, 'unremarkalb': 1, 'creram': 1, 'skinfold': 1, 'curvatur': 4, 'levoconcav': 1, 'bilter': 2, 'taccycardia': 1, 'deci': 1, 'ausculat': 1, 'deuoderm': 1, 'pipracillin': 1, 'path': 13, 'whixh': 1, 'afibb': 1, 'vai': 1, 'passion': 1, 'antihtn': 4, 'paion': 1, 'foolw': 1, 'tryiong': 1, 'scolapamin': 1, 'linizolid': 1, 'abraiooon': 1, 'interventin': 1, 'dne': 1, 'rsba': 1, 'visciou': 3, 'aspt': 1, 'airay': 1, 'willfrequ': 1, 'froom': 1, 'orderedsx': 1, 'meteprolol': 1, 'chack': 3, 'remeain': 1, 'mond': 2, 'monitior': 4, 'witg': 1, 'attemtp': 3, 'chiar': 2, 'envrion': 1, 'buttiock': 1, 'addentum': 1, 'suctionedd': 1, 'coares': 1, 'aalevyn': 1, 'ewn': 1, 'witwh': 1, 'scapolamin': 1, 'pthad': 1, 'recalibr': 3, 'allvyn': 1, 'sinusitu': 1, 'phoc': 1, 'scop': 1, 'scoplamin': 1, 'significat': 1, 'careiew': 1, 'saccrum': 1, 'scopalimin': 4, 'rtr': 1, 'elav': 4, 'albuterolq': 1, 'meuromuscular': 1, 'unersid': 1, 'repit': 1, 'pickat': 1, 'maagnesium': 1, 'sucit': 1, 'nformat': 1, 'upperextrim': 1, 'specialti': 4, 'evrs': 1, 'undgest': 1, 'rezero': 1, 'isopa': 1, 'norva': 1, 'nutran': 1, 'pupport': 1, 'actic': 1, 'restrait': 1, 'diffcult': 1, '^o': 1, 'buttck': 1, 'cappillari': 1, 'diuril': 6, 'cousr': 1, 'svl': 1, 'wherr': 1, 'asprat': 1, 'impov': 3, 'extriem': 1, 'creeatinin': 1, 'encorag': 1, 'scl': 6, 'unchag': 9, 'alkilosi': 1, 'postcholecystectomi': 1, 'effert': 1, 'deg': 6, 'degress': 3, 'interspac': 4, 'levoquen': 1, 'difiiculti': 1, 'uppon': 1, 'diliazem': 1, 'aggrev': 1, 'rlp': 1, 'stuck': 14, 'unir': 1, 'bronchopulmonari': 6, 'asphagia': 1, 'satrt': 2, 'assessori': 1, 'mainitain': 1, 'curer': 1, 'plsnned': 1, 'recoop': 1, 'comofort': 1, 'unablt': 2, 'tickl': 1, 'cefitim': 1, 'outbreak': 1, 'lorazapam': 6, 'fiv': 1, 'distr': 3, 'mot': 1, 'concret': 1, 'feend': 1, 'movingg': 1, 'flusi': 1, 'aloevesta': 5, 'difficultyl': 1, 'leisur': 1, 'dialyisi': 1, \"did'nt\": 1, 'acebutolol': 1, '^emot': 1, 'passmuir': 1, 'bilaterr': 1, '^tf': 1, 'hypersomul': 1, 'toiletri': 1, 'plac': 3, 'subsequnt': 1, 'brea': 1, 'edemad': 1, 'weanec': 1, 'sputur': 1, 'deficiet': 2, 'ammount': 4, 'ssci': 1, 'reassuanc': 1, 'vitla': 1, 'liqiud': 2, 'dilaudud': 1, 'refrig': 1, 'graviiti': 1, 'jejunostomi': 7, 'ovomit': 1, 'mea': 2, 'cvvhdf': 4, 'spiritu': 3, 'permacath': 1, \"'puff\": 1, 'sponatn': 2, 'trrach': 1, 'withtranspar': 1, 'aletern': 1, 'dimidnsh': 1, 'bless': 1, 'cardiothorac': 6, 'llllung': 1, 'mushi': 1, 'placedin': 2, 'maintanc': 3, 'axieti': 3, 'fpr': 5, 'acidiosi': 1, 'smaill': 1, 'palpibl': 5, 'tononc': 1, 'straightcath': 1, 'guiack': 1, 'nillson': 1, 'aslong': 1, 'tibe': 1, 'perinum': 1, 'sucton': 1, 'decidec': 1, 'decres': 7, 'banaa': 1, 'brachialend': 1, 'petamen': 1, 'normotherm': 6, 'hospial': 1, 'flowshhet': 1, 'increase': 1, 'mcgkgmin': 1, '^act': 1, 'thoraciuc': 1, 'sudsid': 1, 'boast': 1, 'ectopii': 1, 'crrt': 7, 'plcaement': 1, 'perfer': 1, 'quiton': 1, 'tolet': 1, 'staight': 1, 'trapez': 1, 'dialsysi': 1, 'dto': 2, 'extrememli': 3, 'toleart': 1, 'ischeam': 1, 'olanzpin': 1, 'collor': 1, 'minitor': 2, 'trsch': 1, 'oaao': 1, 'haparin': 1, 'occassin': 1, 'assiss': 1, 'propafenon': 2, 'mcourtney': 1, 'nea': 1, 'trxfer': 1, 'thik': 1, 'infusu': 1, 'ectpoy': 1, 'perscrib': 2, 'inserted': 1, 'perocoet': 1, 'stuf': 4, 'tinctur': 1, 'opium': 1, 'diarrh': 1, 'albimin': 1, 'ddto': 1, 'goa': 1, 'steristip': 1, 'nonheal': 2, 'profunda': 1, 'unheal': 1, 'sgl': 2, 'seg': 4, 'kiebasella': 1, 'amput': 4, 'tma': 2, 'ptfe': 1, 'pvr': 2, 'globabl': 1, 'femori': 1, 'tpt': 1, 'bk': 3, 'au': 3, 'asst': 2, 'subcutaneu': 1, 'morhpin': 3, 'singlesemi': 1, 'hemodyalysi': 1, 'thoraci': 2, \"'nd\": 1, 'dge': 1, 'metab': 1, 'npt': 1, 'ukp': 1, 'awr': 1, 'retrocardiacli': 1, 'ascrib': 2, 'bolusu': 1, 'nucleu': 3, 'radiata': 1, 'carevur': 1, 'interhemispher': 1, 'parafalcin': 1, 'shine': 1, 'corona': 1, 'hug': 1, 'prviou': 1, 'farsi': 3, 'accu': 1, 'road': 2, 'tampan': 1, 'mal': 3, 'ea': 6, 'respiron': 1, 'toleratig': 1, 'fasi': 1, 'restrin': 2, 'usn': 1, 'cheeck': 1, 'shockfev': 1, 'phsical': 1, 'bloodsugar': 2, 'plant': 3, 'progrss': 1, 'vare': 2, 'dieures': 1, 'tug': 4, 'pmin': 2, 'fer': 2, 'alkylosi': 5, 'infraobliqu': 1, 'esophog': 5, 'tracheoesophag': 2, 'peristalt': 3, 'preseent': 1, 'pnumothorax': 2, 'retrostern': 2, 'tachyracdia': 1, 'ffrequent': 1, 'meropenium': 2, 'prioir': 1, 'doea': 1, 'antibioyc': 1, 'frer': 1, 'yesterda': 2, 'tremour': 1, 'jibberish': 2, 'humung': 1, 'ragtim': 1, 'iposit': 1, 'sqllow': 1, 'levc': 1, 'promptli': 6, 'myoton': 1, 'dystrophi': 1, 'comaprison': 1, 'dyphagia': 1, 'esophagoesophag': 1, 'pear': 2, 'haustral': 1, 'curlix': 1, 'haad': 1, 'oncal': 2, 'rat': 1, 'samal': 2, 'shrug': 2, 'wosren': 1, 'halo': 3, 'osteomeat': 1, 'inflt': 1, 'acha': 1, 'inreliev': 1, 'plegia': 1, 'inprov': 3, 'copnsolid': 1, 'oxocodon': 1, 'tirtat': 1, 'sandpap': 1, 'fexis': 2, 'involuntarili': 1, 'razor': 2, 'atrv': 1, 'antilordot': 1, 'breth': 2, 'phenylenphrin': 1, 'reation': 1, 'rescreend': 1, 'andat': 1, 'stooper': 1, 'oprogrss': 1, 'fenantyl': 2, 'possibilti': 3, 'asess': 5, 'bode': 1, 'kinaid': 1, 'bedid': 1, 'soical': 1, 'librium': 1, 'toth': 1, 'mediastern': 1, 'bronchiol': 14, 'diconnect': 1, 'rese': 1, 'mucamyst': 1, 'orag': 1, 'freew': 1, 'polic': 3, 'transbronchoscop': 1, 'hyperacut': 1, 'ctube': 3, 'extremitiy': 2, 'scotch': 2, 'inpout': 1, 'lactualos': 1, 'braos': 1, 'xfer': 1, 'hemoptosi': 1, 'imrpov': 2, 'patientno': 13, 'focla': 1, 'decreasinbg': 1, 'nonischem': 2, 'sclc': 5, 'pneuthorax': 1, 'diaseas': 1, 'ib': 6, 'strroid': 1, 'proven': 4, 'sclca': 2, 'autodiruesi': 1, 'leuckocytosi': 2, 'subsuuent': 1, 'oth': 2, 'intiait': 1, 'sca': 1, 'dta': 1, 'spescif': 1, 'yestareday': 1, 'icnreas': 1, 'sweet': 2, 'wallsx': 1, 'pntx': 2, 'drainagedecreas': 1, 'xday': 1, 'tampondad': 1, 'lamivudin': 5, 'discogen': 1, 'undect': 1, 'retropuls': 8, 'interpolar': 11, 'menig': 1, 'gynecomastia': 4, 'trigemin': 4, 'remaov': 1, 'turbul': 1, 'reconsid': 5, 'mandibular': 2, 'indol': 3, 'willl': 5, 'gordona': 1, 'visa': 2, 'replic': 1, 'ileocec': 1, 'assay': 11, 'fasciiti': 2, 'fianc': 6, 'previousnot': 1, 'tprot': 3, 'retinpathi': 1, 'etcc': 1, 'abnl': 8, 'tricyc': 2, 'compound': 9, 'changesd': 1, 'coagulas': 6, 'dbili': 3, 'someh': 1, 'intermedi': 12, 'stavudin': 2, 'diarrheal': 1, 'psuedoaneurysm': 1, 'ling': 1, 'forumulari': 1, 'cubit': 2, 'saccular': 1, 'tricycl': 1, 'throu': 1, 'hypopigment': 1, 'spondylot': 2, 'conu': 6, 'activitu': 1, 'ritonavir': 5, 'lifespan': 1, 'bleb': 5, 'polypoid': 2, 'weightbear': 1, 'questionn': 1, 'circumcis': 2, 'eopgen': 1, 'fascit': 1, 'pathog': 1, 'cholic': 1, 'gif': 7, 'entiti': 3, 'scrrene': 1, 'cahin': 1, 'preliminarili': 4, 'indinavir': 1, 'diazoxid': 1, 'heroin': 4, 'strap': 4, 'maroonish': 1, 'althou': 1, '^st': 19, 'mlkb': 9, 'thermal': 1, 'suprapatellar': 5, 'imporv': 5, 'genotyp': 4, 'lipodystrophi': 1, 'dystroph': 4, 'anmd': 1, 'assymetri': 1, 'heartburn': 6, 'shouder': 1, 'hiatel': 2, 'sym': 5, 'appaear': 1, 'scution': 3, 'hb': 10, 'bllede': 1, 'masl': 1, 'adenoviru': 2, 'guerney': 1, 'intubaton': 2, 'startedc': 2, 'equilibr': 2, 'recommedn': 2, 'aplast': 1, \"movm't\": 1, 'eletrolyt': 1, 'miracl': 1, 'corrol': 1, 'tracehostomi': 1, 'secrtet': 1, 'methi': 1, 'vulva': 1, 'tolwel': 1, 'alkolot': 2, 'nursung': 1, 'vaso': 5, 'desitin': 2, 'tolerar': 1, 'buck': 4, 'uli': 1, 'goalrateof': 1, 'sust': 1, 'profofol': 2, 'eletroly': 1, 'grandgaught': 1, 'rb': 2, 'expiratoy': 1, 'hemarroid': 1, 'trachealmalasia': 1, \"suxn'\": 1, 'mck': 4, 'pplacement': 1, 'opportun': 2, 'ofobvi': 1, 'conton': 1, 'mount': 3, 'closest': 1, 'telephonn': 1, 'tunr': 1, 'hctand': 1, 'chafen': 1, 'ressrp': 1, 'stg': 6, 'acq': 1, 'granddtr': 1, 'cariopulmonari': 1, 'grandgtr': 1, 'fibromat': 1, 'nidu': 4, 'zozyn': 6, 'nutmeg': 1, 'biplan': 1, 'vitasl': 1, 'csv': 2, 'immunocomprimis': 1, 'archiv': 2, 'qmowefr': 1, 'cateth': 1, 'clx': 9, 'lassix': 1, 'epoetin': 3, 'moraxella': 3, 'bidirect': 1, 'alfa': 3, 'sirolum': 1, 'hazard': 2, 'retic': 12, 'nupren': 2, 'gttt': 1, 'silhouette': 1, 'admissionon': 1, 'auotdiures': 1, 'myositi': 2, 'interdepend': 2, 'fav': 1, 'fluctat': 1, 'pmb': 3, 'succin': 3, 'caridogen': 1, 'groln': 1, 'nonishcem': 1, 'hepatopathi': 3, 'rdw': 6, 'nifedipem': 1, 'zemplar': 1, 'daugher': 3, 'sirolimu': 1, 'solidli': 1, 'burp': 3, 'tacki': 2, 'fater': 1, 'wasplac': 1, 'smll': 1, 'inex': 1, 'somtim': 1, 'ambung': 1, 'syndom': 2, 'pseudoseizur': 2, 'aerosl': 1, 'destatur': 1, 'multinodular': 2, 'popsicl': 2, 'inspect': 8, 'rc': 3, 'tkvo': 1, 'guven': 1, 'secretiosn': 2, 'glugocaon': 1, 'tracheostoni': 2, 'disappoint': 1, 'insuffal': 1, 'asl': 2, 'smart': 1, 'incred': 1, 'eleva': 3, 'sadden': 1, 'giav': 1, 'vale': 1, 'mouthdisplay': 1, 'pane': 3, 'passmuy': 1, 'antibio': 2, 'thrghoutht': 1, 'puv': 1, 'american': 2, 'popcycl': 1, 'sphere': 1, 'insuffil': 1, 'diuresisng': 3, 'stime': 1, 'ensuffolat': 1, 'titratd': 1, 'upddat': 1, 'neget': 1, 'desmopresson': 1, 'protest': 1, 'pot': 3, 'paln': 2, 'calmli': 2, 'stepfath': 1, 'drawback': 2, 'pvl': 2, 'extremetiew': 1, \"ok'\": 1, 'suffic': 1, 'suffol': 1, 'aspiratoin': 1, 'reload': 2, 'cefedipin': 1, 'mg^ed': 1, 'impr': 1, 'passeymu': 1, 'apli': 2, 'obt': 3, 'tfor': 2, 'suffil': 1, 'percussor': 1, 'recievieng': 1, 'insul': 3, 'ddvap': 1, 'lunchtim': 4, 'abotu': 1, 'freqenc': 1, 'cathetr': 2, 'autodiuresis': 1, 'axia': 1, 'albeterol': 1, 'insipid': 1, 'detach': 4, '^e': 1, 'venapunctur': 1, '^ed': 1, 'coctail': 1, 'cricopharyngeu': 1, 'exsuffol': 1, 'gii': 1, 'diabeti': 2, 'wofran': 1, 'stron': 1, 'ecotopi': 1, 'antib': 3, 'fluccuat': 1, 'whezz': 2, 'spaud': 1, 'extem': 5, 'rehydr': 6, 'exsuffal': 1, 'genral': 1, 'inexsuffl': 5, 'dismiss': 1, 'dilant': 1, 'incas': 2, 'ivpush': 1, 'varianc': 2, 'acc': 3, 'dangers': 1, 'rpotocol': 1, 'conuslt': 1, 'lnl': 1, 'clap': 3, 'sensic': 1, 'adequitli': 1, 'hotel': 3, 'steoroid': 2, 'lliquid': 2, 'sensor': 1, 'everyon': 5, 'olh': 1, 'parahilar': 2, 'anwer': 1, 'methicillin': 2, 'drane': 1, 'proplem': 1, 'soda': 2, 'encoourag': 1, 'pancreasruq': 1, 'conglomer': 5, 'ethanol': 5, 'healh': 1, 'requier': 4, 'imagin': 4, 'nonengorg': 1, 'omlet': 1, 'flov': 1, 'glargen': 2, 'ducclox': 1, 'casu': 2, 'aspiratioin': 1, 'swithch': 1, 'spech': 1, 'otoscop': 1, 'ambival': 1, 'seation': 3, 'oxazepam': 1, 'outdat': 4, 'tital': 3, 'bronchiectat': 1, 'previoui': 1, 'creatinint': 1, 'admissison': 1, 'intermitta': 1, 'increament': 1, 'asist': 1, 'toknow': 1, 'market': 1, 'surgey': 1, 'yankhaur': 1, 'hemidiaphram': 2, 'mechanci': 1, 'sucstion': 1, 'upperback': 1, 'cess': 1, 'secreaton': 1, 'lontgstand': 1, 'earach': 2, 'eefect': 1, 'prurit': 3, 'enew': 1, 'ltye': 2, 'smudg': 3, 'ptcont': 1, 'placeon': 1, 'phenasept': 1, 'foward': 1, 'lenghthi': 1, 'newer': 4, 'excersis': 2, 'romi': 18, 'insertedl': 1, 'intuba': 1, 'xs': 4, 'patientciprofloxacin': 1, 'polymyx': 2, 'albuteroliprtropium': 1, 'aado': 1, 'camphor': 1, 'neomi': 2, 'myelo': 4, 'noninvasii': 1, \"'lgbc\": 1, 'caltco': 1, 'monohydr': 6, 'cortisporin': 2, 'rvsp': 2, 'anguin': 1, 'cephalexin': 9, \"'lhbc\": 1, \"'lhbi\": 1, \"'expand\": 1, 'mchc': 1, 'urean': 1, 'angap': 1, 'falur': 1, \"'lcba\": 1, 'sting': 3, 'baso': 1, 'menthol': 1, 'pullmomnari': 1, 'allergist': 2, 'monteleukast': 2, 'aptt': 1, 'amberin': 1, 'plcment': 1, 'occasin': 1, 'bilbasilar': 1, 'irradi': 2, 'regurgi': 2, 'nasopharyg': 1, 'entertain': 1, 'elucid': 1, 'mibi': 2, 'defienc': 1, 'legionnella': 1, 'hepatosplenomegali': 3, 'axithro': 1, 'tetanu': 5, 'dysphag': 2, 'scleral': 31, 'fluctuanc': 4, 'barrel': 1, 'alsogoign': 1, 'vasospasm': 2, 'haa': 2, 'tiotropim': 1, 'consiult': 1, 'prophi': 6, 'lathrgic': 1, 'gravi': 2, 'entrain': 2, 'cptq': 1, 'pancak': 2, 'cefepimin': 1, 'dependend': 1, 'seret': 3, 'inappropiatli': 1, 'potato': 4, 'brochomalacia': 1, 'incenet': 1, 'compromsi': 1, 'bno': 3, 'interc': 1, 'shoe': 2, 'unwrap': 1, 'hemodiaysi': 1, 'pleasnt': 1, 'demin': 1, 'willcont': 1, 'cvvhd': 8, 'malignan': 1, 'colonographi': 1, 'nebulizor': 1, 'expcept': 1, 'withn': 1, 'hearp': 1, 'hypercoagul': 2, 'dialter': 1, 'fludrocort': 1, 'marigin': 1, 'reader': 1, 'forgett': 1, 'glugophag': 1, 'glucophag': 1, 'faciltiy': 2, 'menstrual': 3, 'homicid': 1, 'pancreas': 1, 'menstral': 1, 'spurriou': 1, 'streptococcu': 5, 'tochair': 1, 'proteas': 2, 'dlpicc': 2, 'percocett': 2, 'firsttwo': 1, 'goodpastur': 2, 'fbg': 1, 'aip': 3, 'contam': 2, 'chlamydia': 3, 'nsip': 8, 'ivt': 5, 'weeenkd': 1, 'oop': 3, 'hall': 2, 'aep': 2, 'crytogen': 1, 'amilodipin': 1, 'oxymetri': 1, 'wkd': 1, 'rheum': 8, 'antihypertensiveslisinopril': 1, 'azetronam': 2, 'restlessn': 2, 'appripri': 1, 'uncap': 1, 'resend': 15, 'perenium': 1, 'rith': 2, 'recollect': 3, 'opiod': 3, 'draninag': 1, 'resparol': 1, 'pwdr': 2, '^^secret': 1, 'uvolem': 2, \"dc'ing\": 2, 'usal': 1, 'vgb': 1, \"'avb\": 1, 'heve': 2, 'cathert': 2, 'coarsw': 1, 'ovb': 1, 'nitrostat': 1, 'halidol': 1, 'famuli': 2, 'nightcloth': 1, 'ist': 2, 'coucgh': 1, 'duahgter': 1, 'rect': 1, 'respik': 7, 'drssg': 2, 'captorpril': 1, 'suctioni': 1, 'suxtion': 1, 'subcl': 2, 'extremley': 1, 'rsing': 1, 'weanin': 2, 'sevral': 1, 'mint': 1, 'laxi': 1, 'antivert': 1, 'chenyn': 1, 'pointintg': 1, 'remaim': 1, 'miripenim': 1, 'lookig': 1, 'knowm': 2, 'davb': 1, 'morepenum': 1, 'freg': 2, 'compla': 1, 'ditropan': 4, 'hematurea': 1, 'allcyn': 1, 'zaroxylyn': 1, 'blledi': 1, 'perviou': 1, 'ta': 2, 'hemorrag': 3, 'unwean': 1, 'requird': 1, 'inadvertant': 1, 'reepitheal': 1, 'gester': 2, 'odrer': 1, 'sucess': 5, 'respelor': 1, 'mrsp': 1, 'chift': 1, 'ecter': 1, \"stool'\": 1, 'rink': 1, 'meripenum': 1, 'pseodomona': 1, 'benefici': 9, 'diursi': 3, 'maxiaml': 1, 'carafatefoley': 1, 'availibilti': 1, 'resplar': 1, 'natrocor': 1, 'propens': 3, 'distendedw': 1, 'growin': 2, 'reccurr': 1, 'meripeneum': 1, 'fole': 2, 'dogoxin': 1, 'merpenum': 1, 'tremend': 2, 'surgergi': 1, '^level': 1, 'feisti': 1, 'bigem': 1, 'pleueral': 1, 'mortal': 5, 'intract': 2, 'dlc': 1, 'ocntinu': 1, 'antienxitey': 1, 'untifung': 1, 'blkt': 1, 'thouroughli': 1, 'frequant': 1, 'potect': 1, 'bbr': 5, 'tz': 3, 'prostesi': 1, 'caraf': 7, 'drawer': 1, 'dopral': 1, 'asympt': 1, 'tring': 1, 'hemoptasi': 2, 'hypoxiaun': 1, 'survelli': 2, 'meatu': 3, 'secrition': 1, 'hemehct': 1, 'lisonopril': 1, 'addhes': 1, 'suport': 2, 'headphon': 1, 'fluconozol': 2, 'chr': 3, 'alklos': 1, 'approri': 1, 'ponder': 1, 'gather': 2, 'stomachach': 1, 'dressin': 2, 'pnuemo': 2, 'tot': 4, 'narc': 4, 'ttube': 1, 'regur': 1, 'game': 2, 'wll': 3, 'meclazin': 1, 'ifo': 1, 'resuslt': 1, 'walkman': 1, 'hypxic': 1, 'deconditon': 1, 'oon': 2, 'kphosphat': 1, 'rtn': 1, 'nostool': 2, 'meclizin': 2, 'ultrfiltr': 1, 'infom': 1, 'goosebump': 1, 'oneumo': 1, 'afm': 2, 'encephalomalat': 1, 'explanant': 1, 'bcsn': 1, 'serousang': 1, 'erffect': 1, 'cxarevu': 1, 'peridcardi': 1, 'llopressor': 1, 'leas': 1, 'statr': 1, 'unsettl': 2, 'cellular': 10, 'vivid': 1, 'terazosin': 3, 'mmdri': 1, 'unifi': 2, 'purpur': 1, 'cholan': 1, 'echymosi': 1, 'cellulit': 1, 'mismatch': 5, 'sss': 2, 'aocd': 1, 'mlhh': 4, 'accd': 1, 'ppain': 1, 'fibe': 1, 'proccedur': 1, 'hemptysi': 1, 'disrepair': 1, 'trp': 1, 'clumsi': 2, 'agitaiton': 1, 'countri': 2, 'atternoy': 1, 'cost': 1, 'pseudolymphoma': 1, 'cylindr': 2, 'bronchogen': 1, 'dlrc': 10, \"examination'\": 1, 'statist': 2, 'aaax': 1, 'fidgit': 1, 'beginng': 1, 'signfic': 8, 'fool': 1, 'thoractomi': 3, 'throacotomi': 2, 'uncertainti': 1, 'mjmgb': 4, 'muscou': 1, 'childhood': 6, 'cinch': 1, 'applu': 1, 'candidt': 1, 'unplan': 1, 'wirst': 1, 'hgh': 1, 'hypernatreamia': 1, 'atelectesi': 3, 'pitcher': 1, 'curtain': 1, 'sned': 1, 'hyperlipedemia': 1, 'constel': 6, 'thoracenteisi': 1, 'risperidol': 2, 'inbetween': 4, 'continueto': 2, 'raaya': 1, 'ppv': 5, 'paraoxysm': 2, 'bread': 1, 'oupt': 3, 'lipoma': 3, 'mh': 4, 'eunatrem': 1, 'contributor': 9, 'isosorbitr': 1, 'buspar': 1, 'bka': 2, 'interlobar': 3, 'iiia': 1, 'lbka': 1, 'converas': 1, 'necessar': 1, 'discoveri': 9, 'opioid': 5, 'eighth': 3, 'factori': 3, 'unresect': 2, 'eoimi': 1, 'ingrowth': 2, 'replat': 2, 'lusb': 5, 'hepatocellular': 2, 'angioma': 1, 'msiv': 1, 'spider': 1, 'paraumbil': 2, 'brcm': 1, 'fulmin': 1, 'perpendicular': 1, 'esld': 6, 'epigatrium': 1, 'rifaximin': 6, 'jkang': 2, 'hypona': 2, 'managemnt': 1, 'lactolos': 3, 'avitan': 1, 'hepatolog': 10, 'improvemet': 2, 'crystaluria': 1, 'ibratroprium': 1, 'viscos': 1, 'boluss': 2, 'actor': 1, 'hyperviscous': 1, 'pylonephr': 2, 'duplic': 6, 'forcibl': 1, 'sown': 2, 'enal': 1, 'myeloprolif': 1, 'fracutur': 1, 'neh': 1, \"abx'\": 2, 'forthi': 1, 'aidc': 1, 'throughoutshift': 1, 'sedment': 1, 'endarterectomi': 2, 'chondroid': 1, 'sxth': 1, 'punct': 1, 'rh': 7, 'nivv': 1, 'hypercabnia': 1, 'purrul': 1, 'gliburid': 1, 'enchondroma': 3, 'epoc': 1, 'pivsx': 1, 'proectiv': 1, 'givensec': 1, 'ecreas': 1, 'gor': 1, 'vascil': 1, 'plced': 1, 'craiotomi': 1, 'secretioin': 3, 'rightarm': 1, 'swear': 3, 'caors': 1, 'hydralasin': 1, 'icecream': 5, 'sf': 4, 'pinch': 2, 'ressist': 1, 'badli': 1, 'ipmt': 1, 'yeloow': 1, 'duodenojejun': 1, 'blackhead': 1, 'decdreas': 1, 'recordrd': 1, 'nipb': 1, 'peform': 2, 'supraren': 1, 'noncalcifi': 2, 'diffusley': 1, 'born': 2, 'cranio': 1, 'intussuscept': 3, 'phenergan': 3, 'rage': 9, 'airbourn': 1, 'multisequ': 8, 'interrog': 7, 'dest': 1, 'doxcyclin': 1, 'peripneumon': 1, 'micanazol': 1, 'follwo': 2, 'properlli': 1, 'negativev': 1, 'ceffus': 1, 'trash': 1, 'earlli': 1, 'drainiag': 1, 'signifig': 1, 'heavier': 1, 'liqid': 1, 'overnth': 1, 'restles': 1, 'continy': 1, 'slojw': 1, 'indwell': 1, 'crepet': 1, 'rctest': 1, 'racem': 4, 'dysnpea': 2, 'rescusit': 3, 'cocktail': 1, 'ivcd': 2, 'cardiovascularno': 1, 'colchicin': 3, 'diaphysi': 1, 'hemmorahg': 1, 'hypointes': 1, 'creol': 2, 'ganglion': 1, 'nondisplac': 6, 'patella': 4, 'avuls': 4, 'enthesophyt': 1, 'dti': 1, 'quadricep': 1, 'globular': 2, 'tricompart': 1, 'fave': 1, 'guaifenesen': 1, 'zithromycin': 1, 'sleepfor': 1, 'calvarium': 4, 'peridiaphragmat': 1, 'calyc': 1, 'infiltra': 2, 'extrapleur': 2, 'vasogen': 2, 'postobstruct': 10, 'insuf': 1, 'decread': 1, 'opthamolog': 1, 'grandual': 1, 'sequal': 2, 'ordeal': 1, 'thinnest': 1, 'ganciclovir': 3, 'lact': 4, 'hse': 3, 'pantaprazol': 1, 'pma': 2, 'hypoalbumenia': 1, \"mae'\": 1, 'ptesent': 1, 'delic': 1, 'assessmend': 1, 'bidmcon': 1, 'carinii': 7, 'swellin': 1, 'hypoxiaclin': 1, 'almond': 1, 'watermelon': 1, 'aroiund': 1, 'mpv': 1, 'precardiovers': 2, 'rhv': 1, 'mhv': 1, 'hepatofug': 2, 'denot': 1, 'rpv': 1, 'lpv': 1, 'ampulla': 2, 'tonsil': 2, 'notepad': 1, 'streptokinas': 1, 'antireject': 2, 'rfoley': 1, 'mucor': 1, 'pocasonazol': 1, 'carvadlol': 1, 'accordac': 1, 'dropplet': 1, 'dmii': 10, 'nassal': 1, 'aspitar': 1, 'inseretd': 1, 'previu': 1, 'irriat': 1, 'dminish': 1, 'sultat': 1, 'posaconazol': 2, 'k^': 1, 'lrrt': 1, 'atg': 1, 'tigh': 1, 'sulph': 1, 'contor': 1, 'proconazol': 1, 'curc': 1, 'valganciclovir': 3, 'extert': 1, 'culur': 1, 'tricki': 2, 'dn': 1, 'overdistens': 1, 'aft': 2, 'wart': 1, 'recriut': 1, 'qolden': 1, 'rifazimin': 1, 'formul': 4, 'hemocult': 1, 'disign': 1, 'tacypnea': 4, 'oxygentaion': 1, 'sxi': 1, 'umbilicu': 3, 'incontact': 1, 'cahtet': 1, 'realtim': 2, 'rhoncii': 1, 'loke': 1, 'aldoacton': 1, 'fryiabl': 1, 'placec': 1, 'thime': 1, 'possbili': 1, 'vassopressin': 3, 'quardant': 1, 'isthmu': 1, 'cherri': 1, 'rif': 1, 'osteochondr': 1, 'sytol': 1, 'tonu': 1, 'skikn': 1, 'discus': 1, 'heparina': 1, 'ofth': 1, 'dessican': 1, 'replinish': 1, 'eso': 3, 'volatg': 1, '^resiudu': 1, 'retart': 2, 'necc': 1, 'mucousa': 1, 'brop': 1, 'incompat': 3, 'tbc': 1, 'esopag': 1, 'absprption': 1, 'fantanyl': 1, 'triodyn': 1, 'doubbl': 1, 'diaphram': 2, 'triadym': 1, \"cx'd\": 2, 'manouev': 1, 'neomycin': 1, 'survil': 1, 'subclavien': 2, 'auxilliari': 1, 'cehal': 1, 'hydrothorax': 3, 'leumen': 1, 'glide': 1, 'afor': 1, 'phianc': 1, 'htnsive': 2, 'contrinu': 1, 'aggiat': 2, 'tback': 1, 'pencil': 2, 'threadi': 1, 'nro': 1, 'preacaut': 1, 'cytarabin': 1, 'heterosexu': 1, 'antiphsopholid': 1, 'exterm': 2, 'hypervolemia': 5, 'sensorium': 2, 'aspergilli': 2, 'phospholipid': 2, 'gp': 5, 'bronchietesi': 1, 'interuppt': 1, 'yankeaur': 1, 'rhonchronu': 1, 'idarubicin': 1, 'devleop': 1, 'antiphospolipid': 1, 'adrenerg': 3, 'symm': 1, 'crypto': 5, 'suppliment': 7, 'intercours': 1, 'cardiomypathi': 1, 'zidovudin': 1, 'toxo': 5, 'jail': 2, 'oi': 1, 'ks': 9, 'synd': 1, 'atleast': 3, 'shoiwng': 1, 'broncheictasi': 2, 'metnal': 2, 'macro': 5, 'biapsi': 1, 'tmof': 1, 'indipendantli': 1, 'atovaquon': 2, 'admisison': 3, 'diarreha': 1, 'coranari': 1, 'aztrenonam': 1, 'proxial': 1, 'spp': 4, 'blastomycosi': 1, 'secreiotn': 1, 'fungitel': 1, 'doss': 9, 'paresthesia': 2, 'bia': 6, 'fw': 6, 'toxicit': 1, 'gentamycin': 6, 'aztreo': 1, 'lumbosacr': 4, 'laisix': 2, 'azostrenam': 1, 'gcsf': 3, 'atid': 1, 'withheld': 4, 'edu': 4, 'neupogen': 5, 'breathi': 3, 'thickenen': 1, 'cand': 1, 'antibid': 3, 'diiuresi': 1, 'pleasur': 3, 'tsay': 1, 'leukopenia': 11, 'amikcain': 1, 'repat': 1, 'predominantley': 1, 'doxyclin': 1, 'hyperna': 3, 'obrain': 1, 'blasto': 1, 'meastu': 1, 'coccido': 1, 'lenal': 1, 'ig': 6, 'subset': 2, 'thash': 2, 'regualt': 1, 'additiion': 1, 'rhonic': 1, 'lactulso': 1, 'rifaxamin': 2, 'acetazolamid': 14, 'rectovesicular': 1, 'interestingli': 4, 'urethr': 5, 'signficantli': 3, 'shldr': 3, 'setttl': 1, 'erythemia': 1, 'haldo': 3, 'azathioprin': 4, 'sightli': 1, 'attdg': 1, 'bunni': 1, 'elyt': 2, 'respositiong': 1, 'areteri': 1, 'celaxa': 1, 'parvo': 1, 'follolw': 1, 'susc': 1, 'volit': 5, 'shld': 2, 'tularemia': 1, 'coccidio': 1, 'hematur': 1, 'bromnchscopsi': 1, 'ardsnet': 12, 'gastropathi': 1, 'extremeluy': 1, 'bitten': 2, 'hematura': 2, 'essentiali': 1, 'primaquin': 6, 'diuures': 1, 'histo': 4, 'cytopenia': 3, 'equabr': 1, 'botharm': 1, 'episiod': 1, 'atavan': 1, 'reced': 2, 'lamintectomi': 1, 'nil': 4, 'xblood': 1, 'vando': 1, 'mevacor': 1, 'lovastatin': 2, 'suger': 2, 'biba': 3, 'ebl': 1, 'pilmonari': 2, 'orthoped': 2, 'proceduro': 1, 'tpiec': 1, 'onn': 1, 'duir': 2, 'ckr': 1, 'backpain': 3, 'challang': 1, 'nonetheless': 2, 'obv': 4, 'costochodr': 1, 'surther': 1, 'bacterimia': 2, 'cefopim': 5, 'levoflaxin': 1, 'cear': 1, 'negati': 1, 'reacat': 1, 'yesterdat': 1, 'appendectomi': 6, 'swelll': 1, 'ceart': 1, 'withwbc': 1, 'suppost': 3, 'tmep': 1, 'anxiuo': 3, 'atibiot': 2, 'gluet': 1, 'ntsx': 2, 'reenter': 2, 'tcl': 2, 'occupi': 6, 'season': 5, 'foey': 1, 'intracrania': 2, 'quadroplegia': 1, 'oxcycodn': 1, 'approprit': 1, 'vigour': 3, 'tibiali': 3, 'intergr': 2, 'decubit': 3, 'reportsd': 1, 'pharang': 1, 'gdi': 1, 'gelaten': 1, 'expectoart': 1, 'endrocrin': 1, 'wtd': 1, 'resultsar': 1, 'atrovnet': 2, 'rej': 2, 'paracardium': 1, 'sale': 1, 'transitori': 1, 'moth': 2, 'uncahang': 1, 'gatorad': 1, 'desatsur': 1, \"mie'\": 1, 'seatbelt': 1, 'rin': 1, 'eom': 8, 'claustraphobia': 1, 'aelrt': 1, 'dad': 5, 'brochoscopi': 1, 'qustion': 1, 'hyoid': 1, 'dimiinsh': 1, 'comiv': 2, 'sling': 6, 'scvo': 3, 'altough': 1, 'itnub': 1, 'aerstion': 1, 'sbd': 1, 'genuin': 1, 'deserv': 1, 'tortur': 1, 'mf': 3, 'lousi': 2, 'rhythym': 3, 'chemic': 7, 'positiv': 1, 'liquig': 1, 'crampi': 4, 'cdv': 1, 'zpt': 1, 'threshhold': 2, 'colligenas': 1, 'tropic': 1, 'extubatiuon': 1, 'perhilar': 1, 'damper': 1, 'tropl': 1, 'intubatioin': 1, 'stokea': 1, 'relfex': 1, 'egophani': 4, 'spect': 3, 'granchildren': 1, 'concolid': 1, 'copuld': 1, \"'cheyn\": 1, 'laft': 1, 'dsrg': 1, 'reslult': 1, 'abtibiot': 1, 'stringlik': 1, 'grandfath': 2, 'subtherapeurt': 1, 'frquent': 1, 'opein': 1, 'qestion': 1, 'imipenemen': 1, 'ispok': 1, 'broccoli': 1, 'pneumothorx': 1, 'vido': 1, 'psorasi': 1, 'sveral': 1, 'ridig': 1, 'nipedipin': 1, 'forlab': 1, 'presenti': 1, 'yea': 2, 'ectoppi': 1, 'placer': 1, 'niphedipin': 2, 'warter': 1, 'isminim': 1, 'listhesi': 2, 'administrationg': 1, 'encapsul': 1, 'schiziod': 1, 'impinenum': 1, 'particl': 3, 'evaluat': 2, 'hydrazlin': 1, 'slx': 1, 'acord': 1, 'rnging': 1, 'bathtub': 1, 'intqact': 1, 'divertucul': 1, 'admitt': 3, 'overflow': 3, 'efffus': 2, 'dope': 1, 'nitika': 1, 'cxt': 1, 'ginen': 1, 'lag': 3, 'imipenim': 1, 'grate': 1, 'perifissur': 2, 'fridg': 2, 'nasoenter': 5, 'director': 3, 'physcian': 1, 'cevic': 1, 'retrolisthesi': 3, 'phrenic': 3, 'removen': 1, 'anterolithesi': 1, 'prelet': 1, 'desato': 1, 'lactuloc': 1, 'xiphoid': 1, 'surig': 1, 'invol': 1, 'lee': 1, 'ecymot': 1, 'flatulos': 1, 'plebotomi': 1, 'obstracion': 1, 'tharapi': 1, 'echymot': 2, 'albutrol': 1, 'verapmil': 1, 'atria': 5, 'klc': 1, 'osteoblast': 3, 'serquoel': 1, 'exers': 1, 'ddsg': 1, 'menier': 1, 'breaht': 1, 'usoh': 7, 'patientgentamicin': 1, 'ronchuru': 1, 'empiriacl': 1, 'hyrdrat': 1, 'dabx': 1, 'ramya': 2, 'gfr': 7, 'sought': 3, 'ditazem': 1, 'attest': 1, 'lupsu': 1, 'hemipelvi': 4, 'perilumbar': 1, 'lupu': 6, 'sle': 5, 'haze': 8, 'obliteran': 3, 'nonvascular': 4, 'chornic': 2, 'wherea': 4, 'aglc': 5, 'markinga': 1, 'pf': 6, 'dli': 1, 'othewis': 1, 'inci': 1, 'ventiat': 2, 'thobe': 1, 'caglu': 1, 'bialt': 1, 'thoracotmi': 1, 'reiorient': 1, 'drnge': 1, 'ectoyp': 1, 'extubatuon': 1, 'antigrav': 1, 'respilor': 2, 'reapli': 1, 'serrosanguin': 1, 'entireti': 3, 'inub': 1, 'anasarci': 1, 'sgot': 1, 'elastiplast': 1, 'oxcarbazepin': 2, 'neng': 1, 'meso': 2, 'trilept': 3, 'ichem': 1, 'eng': 1, 'similari': 1, 'asjac': 1, 'dcm': 3, 'vancoymcin': 2, 'perpheri': 2, 'autolog': 2, 'hydracholathiazid': 1, 'surveli': 1, 'solwli': 1, 'indium': 1, 'gallium': 1, 'passeymiur': 1, 'will^': 1, 'cstm': 2, 'ovenight': 2, 'satg': 2, 'methelen': 1, 'respilar': 1, 'jean': 1, 'passezmuir': 1, 'awkward': 1, 'tilll': 1, 'hardli': 1, 'trasfer': 4, 'maxliofaci': 1, 'swna': 1, 'furnish': 1, 'desatt': 2, 'changemad': 1, 'trila': 1, 'appeaer': 1, 'postprocedur': 1, 'dropp': 3, 'geiven': 1, 'sectet': 1, 'oobtc': 3, 'nonopacifi': 1, 'juncki': 1, 'galium': 1, 'extrememti': 1, 'passeymuir': 1, 'defec': 1, 'huband': 1, 'preoxygen': 3, 'polysinu': 1, 'technician': 2, 'ave': 1, 'hith': 1, 'nag': 2, 'pmeumococc': 1, 'acalculu': 2, 'hdp': 2, 'bilaterl': 1, 'airbolu': 1, 'stanbi': 1, 'syn': 2, 'perifer': 2, 'anasacar': 1, 'initailli': 4, 'bronchospas': 1, 'asymptompat': 1, 'quentin': 1, 'tbf': 1, 'desesitizaion': 1, 'dposit': 1, \"fxn'ing\": 1, 'recquir': 1, 'malrot': 1, 'diuresesd': 1, 'pddp': 1, 'catapril': 1, 'genear': 1, 'dissappear': 1, 'ventac': 1, 'sewn': 2, 'ticken': 2, 'rxed': 2, 'azthromycin': 1, 'mml': 1, 'ddrop': 1, 'trachial': 2, 'intermittentlki': 1, \"'sr\": 1, 'infusint': 1, 'sicial': 1, 'bivonna': 1, 'diostress': 1, 'ndka': 1, 'leakso': 1, 'danglk': 1, 'bovina': 1, 'mylasia': 1, 'subequ': 1, '^sob': 1, 'arraang': 1, 'dlaryng': 1, 'bullosa': 2, 'vanoc': 1, 'millisecond': 7, 'enteroflex': 1, 'arrial': 1, 'ressussit': 1, 'arousalb': 1, 'cranki': 1, 'reorinet': 1, 'yearli': 1, 'evidnec': 1, 'extrathorac': 1, 'piecem': 6, 'abuss': 1, 'wirh': 1, 'siphon': 1, 'dchart': 1, 'adjacet': 1, 'rnow': 1, 'scm': 2, 'interacted': 1, 'phlebolith': 2, 'osteoarthrit': 1, 'synovi': 4, 'subscapular': 2, 'helthcar': 1, 'hypervascular': 1, 'prolif': 1, 'presist': 2, 'pericathet': 1, 'giant': 2, 'blcx': 1, 'cartilag': 3, 'tendinopathi': 1, 'freqent': 1, 'imrov': 3, 'boug': 1, 'vti': 1, 'venbtil': 1, 'hungeri': 1, 'onoc': 1, 'communuc': 1, 'dnystatin': 1, 'ffinard': 1, 'plade': 1, 'decedron': 1, 'eit': 1, \"sx'nd\": 1, 'enlg': 1, 'atelect': 2, 'subtend': 1, 'muchroom': 1, 'areound': 1, 'sweatinbg': 1, 'arn': 1, 'slightl': 1, 'evev': 2, 'enocurag': 1, 'fentnayl': 1, 'knod': 1, 'fenatanyl': 2, 'metorpolol': 1, 'boulus': 1, 'tthick': 1, 'rft': 1, 'occasionl': 1, 'chunki': 1, 'agtiat': 1, 'oldest': 4, 'weanm': 1, 'dimisah': 1, 'motuh': 1, 'secretionsin': 1, 'vestra': 1, 'cointrol': 1, 'lightind': 1, 'imnprov': 1, 'dirues': 4, 'excacerb': 2, 'minu': 5, 'carevi': 1, 'hrwith': 1, 'aread': 1, 'nskin': 1, 'breakdowon': 1, 'appropir': 1, 'stamina': 1, 'diagnosit': 2, 'visitir': 1, 'arrhytmia': 1, 'barimaxx': 2, 'sheed': 1, 'bucal': 1, 'urinein': 1, 'atttempt': 1, 'tubeeffect': 1, 'surigfoam': 1, 'fico': 1, 'throght': 1, 'rewuir': 1, 'calear': 1, 'waithout': 1, 'novosourc': 2, 'functon': 1, 'dsng': 1, 'lenghth': 1, 'falsli': 1, 'bibasliar': 1, 'tympani': 1, 'quench': 1, 'percus': 1, 'naesthesia': 1, 'regualr': 1, 'lidocan': 1, 'metropol': 1, 'indigest': 2, 'echymott': 1, 'guidwir': 3, 'amioderom': 1, 'polychamb': 1, 'tappabl': 2, 'atim': 1, 'toxoplasmosi': 3, 'hbc': 1, 'cnt': 3, 'tuberculin': 1, 'phyusic': 1, 'testa': 1, 'pneumonthorax': 2, 'hbv': 7, 'methodon': 3, 'elctrolyt': 1, 'notch': 4, 'pitfal': 1, 'giveng': 1, 'beef': 1, 'bsck': 1, 'smaal': 1, 'unlobor': 1, 'antituss': 2, 'vedio': 1, 'dia': 1, 'disciplanari': 1, 'somethim': 1, 'precat': 1, 'hmd': 1, 'fct': 1, 'multpil': 1, 'miuc': 2, 'ulc': 1, 'mcu': 2, 'recordsvancomycin': 1, 'guiafenisen': 2, 'atelctasi': 2, 'difficuli': 1, 'uncuf': 5, 'strangul': 2, 'obstuct': 3, 'partn': 1, 'patientvancomycin': 1, 'possiblil': 1, \"dp'\": 1, 'pediscop': 1, 'ileum': 6, 'plavi': 1, 'sensi': 8, 'gurd': 1, 'omelett': 1, 'incarcer': 3, 'vomt': 3, 'atraumat': 19, 'stolen': 1, 'isnt': 1, 'neutr': 1, 'revel': 2, 'furth': 1, 'rape': 1, 'sudaf': 1, 'ivrn': 2, 'clonipan': 1, 'brochial': 3, 'intramur': 6, 'labetelol': 1, 'sllevyn': 1, 'alternatey': 1, 'prefor': 1, 'dvd': 3, 'ascist': 1, 'scabe': 1, 'itnerv': 1, 'arrestn': 1, 'emtot': 1, 'supportof': 1, 'aliv': 7, 'considerabley': 1, 'nonvisu': 2, 'eras': 2, 'creep': 1, 'kidni': 1, 'tachypenea': 2, 'basebal': 1, 'dimininish': 1, 'afebrl': 1, 'hydro': 8, 'trick': 1, 'emphesema': 1, 'inapprori': 1, 'pittind': 1, 'snxing': 1, 'prepart': 2, 'burger': 1, 'irregur': 1, 'promd': 1, 'eitolog': 1, 'fmaili': 1, 'bronchspast': 1, 'todya': 1, 'eposod': 1, 'ltitrat': 1, 'effusionsm': 1, 'papular': 4, 'witih': 1, 'suppitori': 1, 'recussit': 1, 'outweigh': 6, 'hinder': 1, 'menstruat': 1, 'suppor': 2, 'receheck': 1, 'reasur': 1, 'probabilti': 1, 'troph': 2, 'brachiocepal': 1, 'appetiti': 2, 'moprn': 1, 'bacaus': 1, 'inapropri': 1, 'klonidin': 1, 'ovcer': 1, 'mucosa': 16, 'microneb': 2, 'bben': 1, 'fidgiti': 1, 'lisinopri': 1, 'orrali': 1, 'willfollow': 1, 'inu': 2, 'signifiacnt': 1, 'strepto': 1, 'vedrs': 1, 'comfor': 1, 'astatu': 1, 'mar': 2, 'soungd': 1, 'pneumoccoc': 1, 'psch': 1, 'wheezs': 1, 'trnbasfer': 1, 'clonepin': 1, 'ood': 1, 'figeti': 1, 'pattent': 1, 'coherr': 1, 'releif': 2, 'parnoid': 1, 'mechnic': 1, 'wouldnt': 1, 'ceftr': 1, 'bilatearlli': 1, 'tpo': 1, 'drnr': 1, 'coorper': 1, 'seur': 1, 'witgh': 1, 'opo': 1, 'anisocoria': 1, 'fereq': 1, 'emolli': 2, 'informaion': 1, 'desper': 1, 'eosinophila': 3, 'checkup': 1, 'nontheless': 1, 'setback': 11, 'dial': 2, 'ventriculoar': 1, 'ctz': 2, 'postinfecti': 2, 'icm': 1, 'aspiratio': 1, 'telemet': 1, 'possibly': 1, 'kyg': 6, 'intrapericardi': 3, 'bedchair': 1, 'recommen': 1, 'contant': 1, 'lowsi': 1, 'sequala': 1, 'supplementari': 2, 'balc': 1, 'gorssli': 1, 'resovl': 1, 'fulid': 2, 'curbsid': 4, 'inferolat': 1, 'ruleout': 1, 'anuria': 7, 'uriun': 2, 'hcf': 1, 'ak': 1, 'parenchyema': 1, 'moaner': 1, 'guafenesin': 1, 'isorsorbid': 1, 'intersitit': 1, 'ttttto': 1, 'partiallli': 1, 'leov': 1, 'filll': 2, 'upurc': 1, 'carbomed': 1, 'sheat': 1, 'equat': 1, 'augement': 1, 'pocoumadin': 1, 'invagin': 2, 'presentplan': 1, 'antiobot': 1, 'waffelr': 1, 'aatmpt': 1, 'fling': 1, 'dobut': 3, 'afebrik': 1, 'productuv': 1, 'continnu': 1, 'msvo': 1, 'mvso': 1, 'lungsound': 1, 'mebul': 1, 'serousnangin': 1, 'prouctiv': 1, 'draiang': 1, 'protamin': 3, 'unload': 2, 'hespan': 1, 'perki': 1, 'presnet': 1, 'thoraic': 1, 'improiv': 1, 'aboukt': 1, 'diahrrea': 2, 'cepatim': 1, 'unopacifi': 1, 'intermitten': 1, 'trqansfer': 1, 'cefapin': 1, 'pinsp': 1, 'rwhite': 1, 'iintub': 1, 'gluccos': 1, 'probrabl': 1, 'doxcycyclin': 1, 'thrusday': 1, 'steorid': 1, 'beacam': 1, 'lighli': 1, 'cortisyn': 1, 'farm': 1, 'detal': 1, 'endocran': 1, 'doxycylin': 2, 'mous': 1, 'lasr': 1, 'pheregan': 1, 'biliour': 1, 'wothout': 1, 'deliou': 1, 'steoriod': 1, 'ccg': 2, 'shphct': 2, 'zo': 2, 'postalcod': 2, 'ocio': 2, 'emr': 2, 'documentsummaryinform': 2, 'eb': 2, 'yl': 1, 'se': 8, 'dhuorq': 2, 'v^vgvhvrvsv': 1, 'wdeu': 2, 'cuyi': 2, 'cxpq': 2, 'fug': 2, 'lkdv': 2, 'aj': 2, '|cl': 1, 'uu': 2, '|||': 2, 'aeu': 2, 'txf': 2, '|u': 2, 'jva': 2, 'tez': 2, \"w'\": 2, 'shpplt': 2, 'laf': 2, 'u^kq^': 2, 'fpbrushpbrushpbrush': 2, 'svttttt': 2, 'zvhk': 2, 'lwc': 3, 'qqov': 2, 'nxrv': 2, 'ttooe': 2, 'bw^cw': 2, 'yh': 2, 'nvo': 2, 'pwow': 2, 'vh': 2, 'adx': 1, 'cjaj': 2, 'nw': 2, 'gh': 2, 'dob': 4, 'kd': 2, 'xx': 5, \"'uqg\": 2, 'dxfdl': 2, 'cjojqj^jajhr': 1, 'kmdv': 2, 'ztm': 2, 'iz': 2, 'ejo': 2, 'tsummaryinform': 2, 'f|l': 2, 's|f': 2, 'svttttlq': 2, 'qxi': 2, 'lh': 6, 'shphgb': 2, 'cjuajh': 2, 'sft': 2, 'qn': 2, 'waejg': 2, 'bv': 2, 'ko': 2, 'pfq': 2, 'v|': 1, 'ggg': 2, 'jjj': 2, 'dtj': 2, 'km': 2, 'zw': 2, 'ppbp': 2, 'jv': 2, 'c^': 2, 'tj': 2, 'trpw': 1, '^jajmh': 1, 'moroxella': 1, 'ffqp': 2, 'jz': 2, 'vpcsp': 2, 'elh': 2, 's|': 2, 'ydf': 2, 'ei': 2, 'fsp': 2, 'patientbactrim': 1, 'fy': 2, 'acxci': 2, 'rybx': 2, 'cjojqj^jaj': 2, 'ovk': 2, 'kpsp': 2, 'qxq': 2, 'hw': 2, 'kbo': 2, 'gbi': 2, 'cj': 3, 'gx': 2, 'ftd': 2, 'onw': 2, 'cpvmh': 2, 'ajh': 2, 'bre': 1, '|c': 2, 'gq': 1, 'ilji': 2, 'gt^': 2, 'agsa': 2, 'stx': 2, 'wdl': 2, 'ymj': 2, 'hke': 2, 'zxz': 2, 'syv': 2, 'dotxppoc': 2, 'initiati': 1, 'ec': 6, 'jy': 2, 'fsx': 2, 'xppocnot': 2, 'mq': 2, 'hzyh': 2, 'tktot': 1, 'uyl': 2, 'header': 2, '^jaj': 2, 'xy': 2, 'cjajh': 2, 'ik': 2, 'abcdefghijklmnopqrstuvwxyz': 2, 'mmmhhh': 2, 'ryhc': 2, 'cjojqjz': 1, 'cq': 2, 'granulomatosi': 2, '^sx': 2, 'qb|': 2, 'iap': 2, 'cb': 4, 'yd': 2, 'bsb': 2, 'cjajmhnhujh': 2, 'yhwv': 2, 'yuim': 2, 'cjojpjqj^jnho': 2, 'ay': 3, 'xcompobj': 1, 'mzm': 2, 'buxf': 2, 'fswi': 2, 'fkd': 1, 'uvvvvv': 1, 'uz': 2, 'ifgd': 2, 'ffv': 2, 'cjojqj^jajmhsh': 2, 'granulamoti': 1, 'aub': 2, 'ldf': 2, 'microsoft': 2, 'hyesh': 2, 'iy': 2, 'fpu': 2, 'jl': 2, 'nnn': 2, 'rkd': 2, 'smarttag': 2, 'tin': 4, \"b'\": 2, 'sidatx^': 2, 'mndm': 2, 't|t': 1, 'heiy': 2, 'itenk': 2, '|yy': 2, 'srgb': 2, 'zlkb': 2, 'begkm': 1, 'cdehijknowxyz^': 1, 'compobj': 2, 'ooo': 3, 'vo': 2, 'cebq': 2, 'wla': 2, 'zd': 2, 'eqe': 2, 'ke': 2, 'oyz': 2, 'rs^': 2, 'metabolit': 2, \"dzz'\": 2, 'b|': 2, 'pi': 3, 'miig': 2, 'nghch': 2, 'xn': 2, 'xf': 2, 'gsp': 2, 'hhhnnn': 2, 'chlorhexdin': 1, 'rqb': 2, '|x': 2, 'zqqqq': 1, 'suu': 2, 'cjojqju^jajh': 2, 'neuck': 2, 'xil': 1, 'ejk': 2, 'pz': 1, 'ae': 5, 'odf': 2, 'zfn': 2, 'wlz': 2, 'zwc': 2, 'chema': 1, 'vtl': 2, 'euq': 2, 'zuo': 2, 'dcl': 1, 'vbjbj': 1, 'z|': 2, 'xv': 2, 'worddocu': 1, '^jajmhsh': 2, 'hkt': 2, 'ee': 2, 'nz': 2, '|w': 2, 'if^': 2, '|s': 2, 'thh': 1, 'tsc': 2, 'vfv': 2, 'gkdg': 2, 'oih': 2, '^g': 2, 'yt': 2, 'cjojqj^jajh': 2, 'eee': 2, '^|d': 2, '|vi': 2, 'txe': 2, 'ia': 5, 'odi': 1, 'dfk': 2, 'abcd': 1, 'jkd': 1, 'dq': 2, 'ihdr': 2, 'plntl': 2, 'numpag': 2, 'cjojqj^j': 2, '^jaju': 1, 'uy': 2, 'vhvivrvsv': 1, 'ifl': 2, 'lcj': 2, 'vdegg': 2, 'ftth': 2, 'vdx': 2, 'f|uf': 2, 'oq': 2, 'jh': 2, 'durin': 2, 'zza': 2, 'mnpj': 2, 'smixu': 2, 'ifa': 2, 'ui': 2, 'oy': 3, 'mvz': 2, 'receveiv': 1, 'ein': 1, '|ff': 2, 'mu': 3, 'fghijklm': 1, 'tmtntotzt': 1, 'qfeqfkq': 2, 'dfhm': 2, 'nrvliiu': 2, 'vhi': 2, 'schema': 2, 'okpwp': 2, 'qvu': 2, 'gw': 2, 'jxfh': 1, 'olwl': 2, 'moraxelia': 1, 'abrxbhk': 1, 'hhh': 2, 'jj': 2, 'jxut': 2, 'wvmyvu': 2, 'vgpi': 2, '^jajh': 2, '^qj': 2, 'zkd': 2, 'abrsxbhk': 1, 'dpx': 1, 'ihdrvfw': 2, 'rdata': 1, '^lze': 2, 'fff': 2, 'ibxg': 2, 'jm': 2, 'ff': 4, 'zg': 2, 'urn': 3, 'hvah': 2, 'qxbk': 2, 'vmc': 2, \"wegener'\": 1, '|k^': 2, 'aeijk': 1, 'zhdk': 2, 'xdrn': 2, 'ycu': 2, 'uvwxyz': 1, 'lz': 2, 'lzra': 2, 'fl': 7, 'iend': 2, 'cjojqj': 2, '|q': 2, 'xp': 2, 'hyw': 2, 'qf': 2, '^j': 1, 'hy': 3, 'idatx^': 2, 'jigi': 2, 'fp': 2, 'qlcccc': 1, 'xh': 2, 'kkkggg': 2, 'hxjgu': 2, 'ji': 2, 'eyfp': 2, 'ttit': 2, 'qg': 2, 'minutey': 1, 'um': 2, 'jx': 3, 'gqt': 2, 'tq': 2, 'xg': 2, 'eutttt': 2, 'ebx': 2, 'fip': 1, 'cee': 2, 'qld': 2, 'objectpool': 2, \"p'\": 2, 'rwsi': 2, 'vthf': 2, 'outstand': 3, 'dj': 2, 'xvuy': 2, 'ze': 2, 'pyl': 1, 'b^': 2, 'qqq': 2, 'vfx': 2, 'ol': 2, 'augapha': 2, \"'t\": 3, 'tro': 2, 'lzpl': 2, 'hlvo': 2, 'xm': 2, 'rqujf': 2, 'gpl': 2, 'o|': 2, 'shpwbc': 2, 'sjpa': 2, 'xoq': 2, 'aqo': 2, 'xq': 2, 'rkdz': 2, 'mdfl': 2, 'tni': 2, 'dulxo': 2, 'psn': 2, 'omkkfk^k': 1, 'ribi': 2, 'a^': 2, 'mnoz': 1, 'yfgga': 2, 'oxcn': 2, 'ttttttl': 2, 'nenl': 2, 'mbd': 2, 'jojpjqj^jnho': 1, 'bfiu': 2, 'uh': 2, 'lx': 3, \"amaa'\": 2, '^i': 2, 'qdwu': 2, 'dw': 6, 'qefeiq': 2, 'abh': 1, 'adehjk': 1, 'cjojqju^jaj': 2, 'fj': 2, 'cjojqjuv^jaj': 1, 'aocrf': 2, 'antibitot': 1, 'ucto': 2, 'kzmwc': 2, 'pj': 2, '|bc': 2, 'z^': 2, 'vvvvvvvv': 1, 'gqq': 2, 'jpn|zb': 2, 'gkd': 2, 'wiil': 1, 'bfm': 2, 'nocdxi': 1, 'khe': 2, 'ffj': 2, 'ojqj^jh': 2, 'rs': 8, 'bdlt': 2, 'nffhf': 2, 'zex': 2, 'jw': 2, 'compuress': 1, 'schitzophrenia': 2, 'cardigen': 1, 'schizoid': 1, 'preceed': 3, 'conver': 1, 'clobetasol': 2, 'pysch': 1, 'pernium': 1, 'bivent': 1, 'multipodo': 1, 'doom': 1, 'ckeck': 1, 'lepirudin': 1, 'therapeaut': 1, 'lepiruden': 1, 'somebodi': 1, 'guic': 2, 'pw': 2, 'deceras': 2, 'stmulat': 1, 'absoprt': 1, 'elvat': 2, 'prohibit': 3, 'depit': 1, 'barriercream': 1, 'baloon': 2, 'stade': 1, 'olanzepin': 5, 'crazi': 2, 'haloldol': 1, 'ux': 2, 'wick': 2, 'mpb': 2, 'ciprovloxacin': 1, 'cardimyopathi': 1, 'hypob': 1, 'clenser': 1, 'hypokensi': 1, 'te': 6, 'costovertebr': 2, 'liberali': 1, 'fingernail': 2, \"con'\": 1, 'inceasingli': 1, 'favorit': 3, 'iapb': 1, 'genic': 1, 'singificantli': 1, 'cefep': 2, 'mobitz': 3, 'abdomi': 1, 'wrm': 1, 'inco': 1, 'fake': 1, 'vanilla': 2, 'chlorothizid': 1, 'claw': 1, 'arthrosi': 1, 'acount': 1, 'ele': 1, 'kinda': 1, 'ttake': 1, 'nondil': 3, 'unsignific': 1, 'asssit': 1, 'indcat': 1, 'sj': 1, 'gaurdian': 2, 'televis': 2, 'lipirudin': 1, 'diliri': 1, 'afbril': 1, 'intraaort': 1, 'selectivley': 1, 'surgi': 1, 'coke': 3, 'agrastat': 1, 'fiberopt': 7, 'bluish': 1, 'bouuock': 1, 'amnioderon': 2, 'propion': 4, 'uneffect': 1, 'atchi': 1, 'sheathless': 1, 'apici': 1, 'efffect': 2, '^lft': 1, 'alright': 1, 'petichea': 1, 'plaxiv': 1, 'generali': 1, 'harass': 1, 'bioten': 1, 'dexonid': 1, 'doscomfort': 1, 'appettit': 2, 'occaison': 1, 'echolalia': 1, 'treatmetn': 1, 'aibp': 1, 'ivgtt': 1, 'occaasion': 1, 'overgrown': 1, 'palpab': 1, 'uncomfor': 1, 'postplac': 1, 'guifenesin': 1, 'actat': 1, 'cardura': 1, 'neutopenia': 2, 'abou': 1, 'withexert': 1, 'coompazin': 1, 'hypoxicwith': 1, 'cooperatv': 1, 'currnet': 1, 'moral': 1, 'aand': 1, 'transiaent': 1, 'coomod': 1, 'bhad': 1, 'accapulla': 1, 'worseningdyspnea': 1, 'desatto': 1, 'indep': 2, 'nauseax': 1, 'accapella': 1, 'cintinnu': 1, 'europ': 1, 'transhiat': 1, 'inhous': 2, 'dysplasia': 3, 'herniorrohapi': 1, 'pyloroplasti': 1, 'subsquent': 1, 'supplier': 1, 'sulcraf': 1, 'doxepin': 2, 'backpack': 1, 'plagu': 2, 'grandpar': 1, 'phelgm': 1, 'invok': 4, 'bronchopulm': 2, 'celebrex': 4, 'spirocar': 2, 'pericardectomi': 2, 'hydo': 1, 'pericardiectomi': 2, 'sigific': 1, 'toridol': 1, 'hiistori': 1, 'recievd': 2, 'desaturt': 1, 'tarnsfer': 1, 'presenetd': 1, 'crakl': 2, 'miniaml': 1, 'dropelt': 1, 'aab': 1, 'benaprotein': 1, 'positionsl': 1, 'doent': 1, 'sv': 5, 'lotrimin': 2, 'qvar': 5, 'sucction': 1, 'speciamn': 1, 'anarcarca': 1, 'anasacara': 1, 'approprietli': 1, 'plase': 1, 'mickael': 1, 'intxoci': 1, 'plead': 2, 'broth': 2, 'laisx': 3, 'cirrhossi': 1, 'tonnic': 1, 'budd': 1, 'handhold': 1, 'coarser': 1, 'synchronis': 1, 'rradial': 1, 'agitit': 1, 'chiari': 2, 'enterocolon': 1, 'prothesi': 1, 'bpg': 1, 'pper': 1, 'lbase': 1, 'patellofemor': 5, 'nonmobil': 1, 'regrugit': 1, 'reddenend': 1, 'polymyxin': 1, 'downstair': 3, 'sycop': 1, 'roomat': 1, 'neutropenia': 7, 'ophth': 3, 'accomplish': 3, 'negoti': 4, 'lq': 1, 'multistep': 3, 'ebv': 6, 'unnit': 1, 'gwlm': 7, 'medaplex': 1, 'eshap': 1, 'aneyrysm': 1, 'hypdenisti': 1, 'avanti': 1, 'tdt': 1, 'merit': 1, 'prednisolon': 3, 'bcl': 1, 'feldberg': 2, 'presyncop': 4, 'aftert': 1, 'pound': 6, 'dissip': 2, 'gmpd': 2, 'resurfac': 1, 'alopecia': 2, 'haemodinamicalyy': 1, 'methotrex': 4, 'dlbcl': 1, 'midthigh': 1, 'metclopromoid': 1, 'hypdens': 2, 'overaggress': 1, 'typhil': 1, 'nadir': 7, 'lymphma': 1, 'teritori': 1, 'haemodinam': 6, 'retest': 1, 'surg': 1, 'hamstr': 2, 'caridiolog': 1, 'nighttim': 3, 'nodosum': 1, 'interventricular': 1, 'lentiform': 2, 'tra': 1, 'fwd': 3, 'immunoreact': 1, 'viridan': 4, 'abbras': 1, 'bacterema': 1, 'cgi': 1, 'urv': 1, 'couch': 3, 'corpor': 1, 'viz': 2, 'limen': 1, 'penitr': 1, 'spokeperson': 1, 'ovar': 1, 'commcar': 1, 'vangin': 1, 'sarosang': 1, 'protcet': 1, 'admittd': 2, 'gleut': 1, 'biot': 1, 'pannu': 4, 'tiss': 1, 'unitr': 1, 'doesnot': 2, 'resultur': 1, 'valsatran': 1, 'poen': 1, 'amder': 1, 'su': 2, 'hydram': 2, 'prune': 1, 'conso': 1, 'otn': 1, 'grant': 2, 'anthypertens': 1, 'bovin': 3, 'job': 3, 'periwound': 1, 'tissur': 2, 'sldo': 1, 'aras': 1, 'welfar': 1, 'undrer': 1, 'pressuer': 1, 'healthnet': 1, 'maser': 1, 'infact': 3, 'edma': 1, 'trachobronchomalacia': 2, 'menag': 1, 'var': 1, 'employe': 4, 'heatlh': 1, 'raglan': 4, 'unemploy': 4, 'synchronousl': 1, 'pickwickian': 1, 'eph': 3, 'quset': 1, 'fss': 5, 'cpa': 3, 'dehis': 1, 'oopen': 1, 'deppest': 1, 'ror': 1, 'tolerac': 1, 'effeort': 1, 'trachh': 1, 'phd': 7, 'titer': 5, 'progrress': 1, 'wrinkl': 1, 'conplet': 2, 'nbrh': 1, 'midzon': 1, 'pseudohypha': 3, 'blush': 1, 'fial': 1, 'otomastoid': 1, 'onogo': 1, 'allianc': 1, 'hematomoa': 1, 'perfrom': 1, 'llnezolid': 1, 'extrav': 2, 'mushrrom': 2, 'resper': 1, 'tubat': 1, 'colonosocpi': 1, 'levopflox': 1, 'acutli': 1, 'differneti': 1, 'creativ': 1, 'jrci': 6, 'horrifi': 1, 'critcal': 1, 'tre': 1, 'liquifi': 1, 'ple': 2, 'myopath': 1, 'anc': 7, 'instersti': 1, 'wjm': 4, 'hid': 2, 'troponinin': 1, 'prominec': 1, 'rheumatolog': 4, 'supervion': 1, 'priro': 1, 'golytyl': 1, 'vasculr': 1, 'trendin': 1, 'birthdat': 1, 'golytli': 1, 'vernight': 1, 'backward': 2, 'bicard': 1, 'egc': 1, 'wxt': 1, 'ransfus': 1, 'len': 3, 'intramedullari': 4, 'intramuscular': 2, 'elder': 3, 'cftx': 3, 'ipmn': 1, 'circumfer': 1, 'rnp': 1, 'stenotrophoma': 1, 'edenam': 1, 'scanti': 1, 'yeasterday': 1, 'maltophila': 1, 'amidoneron': 1, 'maltophilia': 1, 'cloaca': 2, 'enterobacteria': 1, 'nicardipin': 2, 'dificult': 1, 'piggi': 1, 'criticad': 4, 'disciplinari': 4, 'cvvhf': 1, 'hyperconcentr': 1, 'dysrhymia': 1, 'multilob': 2, 'bodyfrom': 1, 'pian': 1, 'aean': 1, 'hemofiltr': 1, 'pulmoanri': 1, 'offf': 1, 'cvicu': 10, 'reuqir': 1, 'enterbact': 1, 'anytim': 4, 'neueo': 1, 'stenotrophomana': 1, 'tranfert': 1, 'difinit': 1, 'cloacea': 1, 'transaxi': 3, 'xanthomona': 2, 'recuur': 1, '^l': 1, 'eurcerin': 1, 'immunodef': 1, 'fugasl': 1, 'pipricillin': 1, 'eccchymot': 1, 'ijv': 4, 'aferbil': 1, 'plaesent': 1, 'tertiari': 2, 'lig': 2, 'radiologu': 1, 'esophagram': 3, 'appleid': 1, 'mulipl': 1, 'rpo': 1, 'schatzki': 1, 'esophg': 1, 'prejejunostomi': 1, 'cannulu': 1, 'cachexia': 3, 'thrombot': 2, 'parencyhm': 1, 'effer': 2, 'driver': 1, 'rerurn': 1, 'perll': 1, 'trak': 4, 'lmwh': 5, 'njear': 1, 'malnourish': 11, 'abnormalti': 1, \"she'\": 1, 'osteoperosi': 1, 'popul': 1, 'propohylaxi': 1, 'gastrectomi': 4, 'deteriori': 1, 'preload': 6, 'hemidia': 1, 'fin': 5, 'hemidiapragmat': 1, 'phragm': 1, 'donepin': 1, 'spondylosi': 9, 'zetia': 3, 'collap': 1, 'kci': 1, 'namenda': 4, 'ariceot': 1, 'pottassiun': 1, 'carecu': 1, 'temt': 1, 'rhythn': 1, 'physiptherapi': 1, 'pantopr': 1, 'syp': 2, 'immolilz': 1, 'pisotriquetr': 1, 'sini': 1, 'beaselin': 1, 'cef': 1, 'peron': 17, 'purposel': 1, 'nutrien': 1, 'chondrocalcif': 1, 'currant': 2, 'desatuturaion': 1, 'conv': 1, 'downgo': 5, 'epidos': 1, 'srtrting': 1, 'antix': 2, 'trigli': 1, 'diltiezem': 2, 'chondrocalcinosi': 1, 'flaygli': 1, 'ldlcalc': 1, 'duirng': 1, 'duilut': 2, 'aaddit': 1, 'pentopr': 1, 'hemeparesi': 2, 'metopr': 1, 'stt': 2, 'hemorrhagica': 1, 'dependedt': 1, 'homorrhag': 1, 'quadtant': 1, 'complexion': 2, 'transfusuion': 1, 'galactomannon': 1, 'yestday': 1, 'transfom': 1, 'neglect': 4, 'celecoxib': 1, 'parahypotyriod': 1, 'gn': 6, 'fda': 2, 'nephrot': 3, 'pyridoxin': 1, 'parvoviru': 1, 'parainfluenza': 7, 'spu': 4, 'settin': 1, 'antigranulocyt': 1, 'jirovecii': 5, 'latent': 1, 'rrv': 3, 'atovoquon': 1, 'xopenox': 1, 'granulocyt': 3, 'proteinuria': 4, 'normocellular': 1, 'apreci': 1, 'boxer': 2, 'gof': 1, 'rpgn': 1, 'tpmp': 1, 'virus': 5, 'immunoflouresc': 5, 'fbr': 8, 'paraflu': 2, 'filbril': 1, 'kalexal': 1, 'imuran': 2, 'acna': 1, 'phop': 1, 'tiw': 2, 'muddi': 2, 'tpmt': 1, 'flut': 10, 'inpt': 3, 'aova': 6, 'rediscuss': 4, 'hypovelemia': 1, 'creatitin': 2, 'actu': 3, 'outlet': 3, 'glipizid': 8, 'portegues': 1, 'alleyn': 1, 'spontaneosli': 1, 'electropyt': 1, 'accompain': 1, \"'want\": 1, 'grovid': 1, 'allyven': 1, 'cang': 1, 'parameter': 1, 'ratedecreas': 1, 'necros': 1, 'herat': 1, 'deadspac': 2, 'bearhugg': 1, 'trasit': 2, 'novent': 1, 'hypophosphemia': 1, 'venetd': 1, 'autoamput': 1, 'henatoma': 1, 'neurotropho': 1, 'hover': 6, 'healtyh': 1, 'drese': 1, 'grma': 1, 'transx': 1, 'increasinli': 2, 'anamia': 1, 'zofram': 1, 'rto': 3, 'pcpap': 1, 'diurs': 5, 'watrer': 1, 'uuper': 1, 'ststolic': 1, 'lisix': 1, 'criticid': 1, 'blader': 1, '^up': 1, 'prednisoln': 1, 'basck': 1, 'sdedat': 1, 'grap': 1, 'anattempt': 1, 'accet': 1, 'accessari': 1, 'significamt': 1, '^^bp': 1, 'onscarum': 1, 'nephrostomi': 3, 'inconsisitanli': 1, 'noty': 1, 'potassim': 1, 'increaas': 1, 'reddden': 1, 'ocverag': 1, 'normali': 1, 'respondi': 1, 'student': 8, 'feww': 1, 'quinidin': 2, 'correspod': 1, 'overdiuresi': 2, 'irig': 1, 'pedion': 1, 'cereb': 1, 'merci': 1, 'aproach': 1, 'hydrophil': 1, 'elaps': 1, 'carot': 1, 'roadmap': 2, 'recannul': 1, 'oc': 2, 'celer': 1, 'stagnant': 1, 'thromboembol': 8, 'voyag': 1, 'exuber': 1, 'arteriographi': 3, 'terumo': 1, 'multilink': 1, 'coaxial': 1, 'supraclinoid': 2, 'thrombolysi': 1, 'thrombectomi': 3, 'petrou': 2, 'excercis': 3, 'inset': 2, 'djrc': 1, 'floven': 1, 'dementiacopd': 1, 'micronas': 1, 'withhold': 5, 'darcoidosi': 1, 'radi': 1, 'cohes': 3, 'dimension': 2, 'paracentr': 2, 'lyrica': 9, 'ankylosi': 1, 'persever': 5, 'acetabulem': 1, 'dlnc': 6, 'boniva': 2, 'prodrom': 6, 'prd': 1, 'mania': 1, 'tendin': 2, 'charger': 2, 'snbp': 1, 'pregabilin': 1, 'bioavr': 1, 'budesonid': 2, 'darvocet': 1, 'supratherapeuti': 1, 'rrana': 1, 'pt\\x13': 1, 'epigloti': 1, 'mardarin': 1, 'blanchabl': 4, 'dilitazem': 1, 'emphasema': 1, 'trigemini': 1, 'pneumohemothorax': 1, 'starv': 1, 'pedestrian': 1, 'intratrach': 2, 'diaphys': 1, 'parkview': 1, 'cerivc': 1, 'polytrauma': 1, 'dailli': 2, 'dsgauz': 1, 'den': 1, 'abdomon': 1, 'minivan': 1, 'scene': 2, 'freighten': 1, 'aquecel': 1, 'occiput': 1, 'struck': 3, 'puesdomona': 1, 'vincent': 1, 'reanastomosi': 1, 'dilaut': 1, 'retrocrur': 3, 'headed': 3, 'modr': 1, 'extreiti': 2, 'hemicolectomi': 2, 'staf': 3, 'ipra': 2, 'regener': 1, 'quiescent': 2, 'lympadenopathi': 2, 'areat': 1, 'regen': 1, 'subren': 2, 'hyperexpand': 6, 'consum': 1, 'hpylori': 1, 'dbc': 4, 'asplen': 1, 'shfd': 5, 'itp': 1, 'abuterol': 1, 'hemorhag': 1, 'smallest': 2, 'fhold': 1, 'parieto': 2, 'zentker': 1, 'corrobor': 4, 'carpometacarp': 1, 'enker': 1, 'birth': 1, 'tacchycardia': 1, 'seros': 1, 'dna': 2, 'leukopenica': 1, 'cardiomeg': 5, 'tacchi': 1, 'amenorrhea': 1, 'hemotolgi': 1, 'herbal': 1, 'pancytopen': 3, 'unemp': 1, 'tampanad': 1, 'glucosamin': 1, 'spleenomegali': 2, 'flax': 1, 'erythematosu': 2, 'tamponand': 1, 'complement': 2, 'absess': 1, 'streph': 1, 'caller': 1, 'mlsof': 1, 'genta': 3, 'sorb': 2, 'nasalpharyng': 1, 'akin': 1, 'ssoft': 1, 'positioin': 1, 'caspfungin': 1, 'prision': 1, 'drainm': 1, \"abg'\": 2, '^^wob': 2, 'acetalazolamid': 1, 'merepenen': 1, 'candidemia': 1, 'oos': 1, 'canulla': 1, 'pleual': 1, 'benopro': 1, 'compair': 1, 'stonger': 1, 'extans': 1, 'rhochoru': 1, 'weakn': 1, 'gol': 1, 'caspofungen': 1, 'endothorac': 1, 'contiunu': 1, 'mnoc': 1, 'exrcis': 1, 'proppofol': 2, \"req'\": 2, 'constrast': 1, 'benifib': 1, 'peat': 2, 'flexas': 2, 'lug': 1, 'sampp': 1, 'movabl': 2, 'oprer': 1, 'hrmodynam': 2, 'queation': 1, 'fungmia': 1, 'diminh': 1, 'ercent': 1, 'squeek': 1, 'fenta': 2, 'replacinf': 1, 'bacteriamia': 1, 'swalow': 1, 'cirrosi': 1, 'squeev': 1, 'casperfungin': 1, 'allyvyn': 1, 'thio': 1, 'atriocav': 1, 'emper': 3, 'meropenam': 3, 'jaudic': 1, 'ulser': 1, 'dysnea': 1, 'luquid': 1, 'cocciin': 1, 'delemia': 1, 'maaintain': 1, 'nonrebrath': 1, 'stil': 3, 'superimposit': 2, 'shr': 1, 'respnd': 1, 'throath': 1, 'visistor': 1, 'poa': 6, 'myulti': 1, 'mnonitor': 1, 'meropemen': 1, 'upperextrem': 1, 'ield': 1, 'intaubt': 2, 'beliv': 2, 'picclin': 1, 'midli': 4, 'aersol': 3, 'carv': 1, 'kayexalaet': 1, 'diatstol': 1, 'mole': 1, 'wheterh': 1, 'peptic': 5, 'applesuac': 1, 'iconsolid': 1, 'repletiion': 1, 'compes': 1, 'orienetd': 1, 'auscultaton': 1, 'antiarrythm': 3, 'carbohydr': 5, 'levofloxaciin': 2, 'claustrophobia': 2, 'levalbuterol': 2, 'procuct': 1, 'puttin': 1, 'nsrvt': 1, 'tachyarrythmia': 1, 'toothett': 3, 'txed': 1, 'compasin': 1, 'lef': 1, 'cml': 3, 'montiro': 1, 'hypotenion': 1, 'hide': 4, 'smolder': 1, 'autoreg': 1, 'clturesd': 1, 'empriic': 1, 'disodium': 1, 'att': 2, 'gretar': 1, 'abnml': 2, 'extracrani': 4, 'meme': 1, 'pamidron': 4, 'hypoporfus': 1, 'mirtazipin': 1, 'orreg': 2, 'yesterdya': 1, 'neuo': 1, 'possibel': 2, 'patientcodein': 2, 'falx': 1, 'caroti': 1, 'coclostomi': 1, 'ectpi': 1, 'colr': 2, 'sytolilc': 1, 'impaiir': 1, 'amopunt': 1, 'exhbit': 1, 'longitudin': 4, 'ptot': 1, 'functio': 1, 'spprimari': 1, 'admsion': 1, 'penumonectomi': 1, 'egophoni': 7, 'fluorinef': 1, 'mnth': 1, 'flutterto': 1, 'aysmptomat': 1, 'fremitu': 3, 'presusr': 1, 'reolv': 1, 'phenylepherin': 1, 'eventaulli': 1, 'resucuit': 1, 'abal': 1, 'robitiussin': 1, 'preacher': 1, 'spondylolisthesi': 1, 'atelectati': 1, 'statiu': 1, 'hemodynamioc': 1, 'seedi': 1, 'perph': 1, 'earil': 1, 'scotal': 1, 'fussi': 1, 'please': 1, 'lma': 2, 'prepsep': 1, 'humifi': 1, 'linearli': 1, 'penial': 1, 'leguionella': 1, 'thiothixen': 1, 'pgi': 6, 'insignific': 4, 'epap': 2, 'uag': 2, 'midst': 2, 'bcoz': 2, 'hifi': 1, 'clozapin': 3, 'shore': 3, 'propofl': 2, 'exaccerb': 2, 'propofopl': 1, 'thymic': 1, 'infilter': 4, 'ocd': 3, 'doen': 1, 'classifi': 3, 'combineb': 1, 'appropiatelt': 1, 'phychiatr': 1, 'rgm': 2, 'detrol': 1, 'rotari': 1, 'ambiem': 1, 'schizo': 2, 'ipap': 2, 'unpredict': 1, 'hha': 2, 'ranbl': 1, 'repositio': 2, 'dishcarg': 1, 'dresss': 1, 'aparatu': 1, 'aprv': 2, 'apicolater': 1, 'anteroposteriorli': 1, 'careveiw': 1, 'hsift': 1, 'undrain': 1, 'suppres': 2, 'intermittenlti': 1, 'bronchscopi': 2, 'comnfort': 1, 'emtoin': 1, 'tlow': 1, 'tomographi': 6, 'pboot': 2, 'portoven': 1, 'regimn': 2, 'mrone': 1, 'deverfesc': 1, 'thorcotomi': 1, 'phigh': 1, 'calicum': 2, 'aggitit': 1, 'lesi': 1, 'tubs': 1, 'thoarcic': 1, 'plow': 1, 'ctsx': 1, 'amdinist': 1, 'recuper': 1, 'ddri': 1, 'interfac': 2, 'shsf': 8, 'ehad': 2, 'eahn': 2, 'replar': 1, 'rapi': 1, 'sgnific': 1, 'network': 1, 'deformati': 1, 'dischang': 1, 'rextub': 1, 'balx': 1, 'dopper': 2, 'rheumatiod': 1, 'stringi': 2, 'aqaugel': 1, 'scane': 1, 'criti': 1, 'nuetropen': 1, 'militari': 2, 'suppment': 1, 'metast': 2, 'bisphosphon': 1, 'referrs': 1, 'paraneoplast': 1, 'afibwith': 1, 'conflict': 7, 'diltiazim': 1, 'extensis': 1, 'restar': 2, 'asx': 3, 'treamtnet': 1, 'leukopen': 2, 'tumour': 3, 'buri': 2, 'applicat': 1, 'worsend': 1, 'feasibili': 1, 'neuroendocrin': 3, 'abdomino': 1, 'proclhorperazin': 1, 'cefepema': 1, 'zosi': 1, 'cremat': 1, 'asymetri': 3, 'ocurs': 1, 'dures': 2, 'speed': 3, 'extuab': 2, 'unprofession': 1, 'carbotaxel': 1, 'lyphadenopathi': 2, 'intrabronchi': 1, 'iregularli': 1, 'fna': 1, 'ivss': 1, 'fibrill': 1, 'liekli': 4, 'contoinu': 1, 'checmotherapi': 1, 'halloween': 1, 'arranegemnt': 1, 'hsopic': 1, 'famiili': 1, 'patienttetracyclin': 1, 'bllod': 3, 'taxel': 1, 'checmo': 1, 'realtiv': 2, 'hex': 2, 'feautr': 1, 'miscel': 2, 'palliat': 3, 'mucocys': 1, 'tohold': 1, 'tumeo': 1, 'exppiraotri': 1, 'curabl': 1, 'decb': 1, 'asv': 1, 'rlung': 1, 'xtr': 1, 'ainstem': 1, 'finsih': 1, 'srranegemnt': 1, 'futurw': 1, 'filgastrin': 1, 'anticpagul': 1, 'peritransf': 1, 'undifferenti': 1, 'prommin': 1, 'thoruhgout': 1, 'shge': 1, 'methyprednisolon': 2, 'sast': 3, 'morphon': 2, 'evar': 1, 'imorov': 1, 'tmin': 1, 'nauseua': 1, 'thrughout': 1, 'ower': 1, 'multichamb': 1, 'discussiion': 1, 'bec': 1, 'periaort': 2, 'aorto': 1, 'pacut': 1, 'endograft': 1, 'cliber': 1, 'galbladd': 2, 'hyperattenu': 2, 'pivott': 1, 'hyperoximia': 1, 'unremak': 1, 'aortoenter': 1, 'junctiion': 1, 'endoleak': 1, 'aortobifem': 1, 'monitro': 1, 'preasur': 1, 'possbl': 2, 'loressor': 1, 'innappropi': 1, 'actuallli': 2, 'argument': 5, 'occasioanl': 1, 'fowler': 4, 'bedroom': 2, 'nnote': 1, 'abe': 1, 'oreient': 1, 'inatct': 1, 'inittiali': 1, 'andf': 2, 'yancher': 1, 'awawk': 1, 'seadtion': 1, 'czrevu': 1, 'mre': 1, 'posv': 1, 'resposn': 1, 'coasr': 1, 'intregr': 1, 'basellin': 1, 'retraint': 1, 'rerestrain': 1, 'demostr': 1, 'thicwhit': 1, 'ned': 1, 'ceftraixon': 3, 'humidi': 1, 'beclov': 1, 'indentif': 1, 'glassi': 1, 'azitroamycin': 1, 'intunb': 1, 'nidepin': 1, 'aztreom': 1, 'nifidipin': 1, 'pantamidin': 1, 'keratio': 1, 'requist': 1, 'exsufl': 2, 'lactulous': 2, 'desatru': 1, 'ffm': 1, 'squees': 1, 'diast': 3, 'vascath': 1, 'inertact': 1, 'guillan': 2, 'syphili': 2, 'culltur': 3, 'duod': 1, 'hrrr': 1, 'ogilivi': 1, 'overcom': 1, 'jewleri': 1, 'denei': 1, 'thermoregul': 1, 'vasodil': 8, 'seroneg': 2, 'bpsyst': 1, 'withperf': 1, 'lvedv': 1, 'drymm': 1, 'fremetu': 1, 'cvo': 2, 'regurgitatiaon': 1, 'concerv': 1, 'ymf': 7, 'radiopharmaceut': 6, 'mci': 6, 'yankaw': 2, 'meat': 3, 'megac': 2, 'preventit': 1, 'mdp': 3, 'coccyg': 4, 'gemcitabin': 2, 'pemetrex': 2, 'bronchosopi': 1, 'whiteout': 7, 'djrx': 1, 'obstr': 1, 'warrent': 2, 'jerki': 1, 'chonic': 2, 'pscyh': 1, 'unhook': 1, 'osteodystrophi': 2, 'serequil': 2, 'infl': 1, 'jvg': 5, 'menatl': 1, 'thenpt': 1, 'cetriaxon': 4, 'diffucalti': 1, 'coamnd': 1, 'repoet': 1, 'placc': 1, 'levofloxacillin': 2, 'consisitenetli': 1, 'desptit': 1, 'repitit': 1, 'halsol': 1, 'stubborn': 1, 'guiafenisin': 1, 'antihistamin': 1, 'arthoplasti': 1, 'adequit': 1, 'pertussin': 1, 'strenal': 1, 'adit': 1, 'concens': 1, 'avaial': 1, 'unstimul': 3, 'atrail': 1, 'radiopac': 3, 'trydin': 1, 'disychron': 1, 'dysynchronon': 1, 'disynchroni': 1, 'radioopac': 1, 'prvc': 8, 'azithrmycin': 1, 'ajdunct': 1, 'fortun': 3, 'shfit': 1, 'indomethecin': 1, 'prehypertens': 1, 'dimisnih': 1, 'primarli': 1, 'behalf': 5, 'aib': 1, 'conest': 2, 'item': 6, 'agrees': 1, 'simplifi': 1, 'oncom': 2, \"does'nt\": 2, \"'and\": 1, 'sotolol': 1, 'relatuv': 1, 'veru': 1, 'serevet': 1, 'nac': 5, 'atrient': 1, 'vva': 1, 'tachpneiuc': 1, 'pneumoia': 2, 'apar': 1, 'neutropnia': 1, 'pilonid': 2, 'paprecita': 1, 'lso': 1, 'nsclung': 1, 'inlcud': 1, 'restor': 5, 'epmpyema': 1, 'accompan': 1, 'admx': 1, 'drawal': 1, 'nam': 2, 'hemdynam': 2, 'hame': 1, 'kinnaer': 1, 'auacel': 1, 'amongst': 2, 'sscp': 2, 'neosyenphrin': 1, 'vsicu': 1, 'spftsorb': 1, 'ehtic': 1, 'gangrren': 1, 'usu': 1, 'diarhea': 1, 'vicu': 1, 'dcoper': 1, 'toleer': 1, 'pal': 2, 'turniong': 1, 'rythem': 2, 'amniodaron': 1, 'ogtub': 1, 'respones': 1, 'bretah': 1, 'feelow': 1, 'ssinsulin': 1, 'givrn': 1, 'toletr': 1, 'metopropolol': 1, 'pericariectomi': 1, 'ahpb': 1, 'downslop': 4, 'supertherapeut': 3, 'overdr': 1, 'quid': 1, 'wdwn': 2, 'neurosarcoidosi': 2, 'neurosarcoid': 2, 'stablizi': 1, 'affes': 1, 'folri': 1, 'startedprednison': 1, 'mastectomi': 2, 'unlikley': 2, 'corticosteroid': 5, 'hyst': 1, 'broader': 4, 'possit': 1, 'likey': 4, 'obe': 1, 'urnin': 1, 'odererd': 1, 'withu': 1, 'didnot': 1, 'wallker': 1, 'antipsychot': 6, 'jeviti': 3, 'punch': 2, 'nonformulari': 1, 'cfl': 1, 'eccyhmosi': 1, 'pseudamon': 1, 'showel': 1, 'hyperchlorem': 5, 'lisnopril': 1, 'hypoglyceamia': 1, 'orthoponea': 1, 'albutero': 1, 'risperd': 5, 'carbepenem': 1, 'ret': 1, 'uncl': 2, '^tth': 1, 'cardioprotect': 1, 'reanal': 1, 'wp': 1, 'correlatingpt': 1, 'quinolon': 6, 'judg': 1, 'hypercholesterol': 1, 'preround': 2, 'gangcyclovir': 1, 'aeurginosa': 1, 'tachypneak': 1, 'diltazam': 1, 'cnsd': 2, 'pseud': 1, 'fondapar': 1, 'diltiazam': 2, 'overdialyz': 1, 'hitt': 1, 'unph': 1, 'novolog': 2, 'fise': 1, 'hemodialyz': 1, 'portuges': 4, 'ditiazem': 2, 'suctionedfor': 1, 'daylight': 1, 'pseudoma': 1, 'systoc': 1, 'mailto': 3, 'inspitori': 1, 'hdfor': 1, 'esomeprazol': 1, 'convertig': 1, 'humullin': 1, 'endocrinolog': 1, 'priscrib': 1, 'dound': 1, 'pseudomna': 1, 'csa': 1, 'antipseudomon': 1, 'hypophosphatemia': 5, 'qb': 1, 'pansensit': 3, 'tuptak': 1, 'dysynch': 1, 'transplat': 1, 'distresss': 1, 'trsat': 1, 'guestur': 1, 'cilastatin': 2, 'trabnsient': 1, 'medivion': 1, 'exo': 1, 'viremia': 1, 'incorpor': 1, 'tft': 4, 'mannag': 2, 'recreas': 1, 'biacodyl': 1, 'aureginosa': 1, 'effecti': 1, 'tryin': 1, 'susbequet': 1, 'edam': 1, 'clincial': 3, 'susbequ': 1, 'incontinen': 1, 'trendingdong': 1, 'sensitivi': 7, 'humalin': 1, 'cntinu': 1, 'cog': 1, 'sbplow': 1, 'ssment': 1, 'jjf': 1, 'hbg': 2, 'hemodialyiisi': 1, 'finsulin': 1, 'pneumnonia': 2, 'pseudocholinesteras': 1, 'epoeitin': 1, 'hyperlipidema': 2, 'wrespiratori': 1, 'noncuf': 1, 'vpice': 1, 'ngsf': 2, 'asthama': 1, 'spl': 1, 'diaylsi': 1, 'justifi': 2, 'rechck': 1, 'transufs': 1, 'protugues': 1, 'tbg': 1, 'stength': 1, 'calctbg': 1, 'ciontinu': 1, 'tunnl': 1, 'tidac': 1, 'azb': 2, 'birder': 1, 'twf': 3, 'minocyclin': 1, 'staphaur': 1, 'aureou': 1, 'diphenhydramin': 3, 'fati': 1, 'demonstrate': 1, 'pannicul': 1, 'mixtur': 2, 'anastomot': 1, 'peritin': 1, 'turbid': 3, 'appendic': 1, 'sigmoidectomi': 1, 'omentum': 3, 'baium': 1, 'peach': 1, 'collectino': 1, 'plactment': 3, 'exploratori': 2, 'wounc': 1, 'trajectori': 1, 'exlap': 2, 'duo': 2, 'viscu': 1, 'hypereosinophil': 1, 'knowd': 1, 'biospi': 4, 'macrophag': 1, 'progressov': 1, 'hme': 2, 'dermatomyos': 1, 'insomia': 1, 'motnh': 1, 'abnom': 2, 'dysonea': 2, 'infiltar': 1, 'worsten': 3, 'expedit': 2, 'tbbx': 2, 'hp': 2, 'odl': 1, 'neumon': 1, 'transpulmon': 1, 'trasnfger': 1, 'pregnant': 3, 'diluadid': 2, 'abnormail': 1, 'vhhc': 1, 'igm': 5, 'lymphocytosi': 2, 'vdrl': 1, 'unrel': 6, 'whichev': 1, 'leptospirosi': 1, 'hhc': 1, 'electrophoresi': 1, 'otoxoc': 1, 'varicella': 3, 'hlh': 1, 'hav': 2, 'galactomann': 1, 'demyelin': 3, 'lymphomcyt': 1, 'pantoprozol': 2, 'entak': 1, 'hemolys': 2, 'ondansetrol': 1, 'visi': 1, 'bilarer': 1, 'contibut': 2, 'lyme': 1, 'lymphocytochoriomening': 1, 'enceph': 7, 'ivsion': 1, 'tna': 1, 'ration': 2, 'choriomening': 1, 'erlichiosi': 1, 'thrombotytopenia': 1, 'ascet': 3, 'multisystem': 1, 'treponem': 1, 'behcet': 1, 'colorless': 1, 'aliment': 1, 'asterixisi': 1, 'asterix': 1, 'sprue': 1, 'histoplasma': 3, 'rodent': 1, 'cound': 1, 'noninfecti': 5, 'ehrlichia': 3, 'sjogren': 1, 'lympanopathi': 1, 'multiorgan': 3, 'arboviru': 1, 'bcse': 1, 'cytometri': 2, 'boipsi': 1, 'monocyt': 1, 'hemochromatosi': 2, 'spirochet': 1, 'pulsesl': 1, 'bedsi': 1, 'gaa': 1, 'mice': 1, 'hyptotens': 1, 'postinflammatori': 1, 'recusit': 1, 'vector': 1, 'elus': 2, 'pcr': 10, 'hereditari': 1, 'effis': 1, 'syphilli': 1, 'gdextros': 1, 'abdnorm': 1, 'restricion': 1, 'vzv': 2, 'pivet': 1, 'hhv': 2, 'ceruloplasmin': 1, 'ttg': 1, 'lethospirosi': 1, 'thrirsti': 1, 'ippv': 2, 'priorit': 1, 'leptomening': 7, 'leptospira': 1, 'noncardiogen': 2, 'lymphocyctosi': 1, 'abid': 2, 'hanta': 2, 'hypoalbuminem': 1, 'ehrilichia': 1, 'mutat': 2, 'tbna': 1, 'ehospit': 1, 'cecu': 1, 'ureterovesicular': 1, 'umbrella': 2, 'loom': 1, 'cecal': 3, 'ogilvi': 3, 'tracheiti': 2, 'withouth': 1, 'thorough': 1, 'pilot': 1, 'frequantli': 1, 'palabl': 1, 'mididrin': 1, 'doa': 1, 'unsupport': 5, 'distraught': 2, 'perspir': 1, 'candidia': 1, 'fopr': 1, 'radail': 1, 'predniselon': 1, 'rtrad': 1, 'imper': 1, 'iavb': 1, 'dimminish': 1, 'levadopa': 2, 'rhd': 3, 'percodan': 2, 'furthur': 2, 'receiven': 1, 'ccon': 1, 'pinki': 1, 'tranx': 4, 'nwb': 1, 'asacol': 2, 'cought': 2, 'atroven': 2, 'tachicard': 1, 'coolneb': 1, 'withsob': 1, 'effcet': 1, 'xxx': 4, 'refkect': 1, 'glyburid': 4, 'ocver': 1, 'stanidng': 1, 'amytriptylin': 1, 'bst': 1, 'elavil': 1, 'titrabl': 1, 'hoem': 1, 'jplace': 1, 'titanium': 1, 'glyberid': 1, 'compel': 3, 'ifn': 2, 'onoclogist': 1, 'iiic': 1, 'melenoma': 1, 'suboptimalwil': 1, 'arthroma': 1, 'unkink': 1, 'affabl': 1, 'hypothyr': 1, 'azipthromycin': 1, 'hosoit': 1, 'fn': 8, 'lvf': 2, 'clariti': 1, 'percoet': 1, 'irrrig': 1, 'cchang': 1, 'palit': 1, 'faairli': 1, 'alum': 1, 'shiftmetabol': 1, 'irrigant': 1, 'coccyn': 1, 'uper': 1, 'lpuls': 1, 'amll': 1, 'aroun': 1, 'fidget': 1, 'lith': 1, 'haspain': 1, 'proedur': 1, 'trolard': 1, 'adenomatoid': 1, 'holdup': 1, 'bactreial': 1, 'osteomyl': 2, 'stomat': 1, 'vertebrobasilar': 1, 'periradicular': 1, 'adduct': 3, 'pachi': 1, 'impar': 1, 'acutelyworsen': 1, 'knife': 1, 'dissatisfi': 1, 'fiduci': 2, 'appolog': 1, 'oe': 1, 'senc': 2, 'nslc': 1, 'pneuomothorax': 1, 'osteotomi': 1, 'polymyalgia': 1, 'tkr': 7, 'lockout': 1, 'misdirect': 1, 'hypocholesterolemia': 1, 'rescan': 2, 'interpos': 1, 'wate': 1, 'kyphoscoliosi': 4, 'glycerid': 1, 'psox': 1, 'pleurovac': 1, 'bonchovascular': 1, 'cantanker': 1, 'deoderm': 1, 'wafe': 1, 'occassionali': 2, 'bale': 2, 'pleaural': 2, 'herapin': 1, 'simmilar': 1, 'hurri': 1, 'thallium': 2, 'histamin': 2, 'danglig': 1, 'toom': 1, 'doputamin': 1, 'dopaim': 1, 'patter': 1, 'carckl': 1, 'tubef': 1, 'lone': 2, 'kayaxol': 1, 'categori': 2, 'giuac': 1, 'mvoe': 1, 'strait': 1, 'dopain': 1, 'cholecyctilit': 1, 'duoern': 1, 'descib': 2, 'mrge': 2, 'dobutamon': 1, 'verab': 1, 'cymbalta': 6, 'warfain': 1, 'cholinerg': 1, 'perhr': 1, 'zyprexin': 1, 'shatter': 1, 'comtinu': 2, 'pleuural': 1, 'oink': 1, 'hell': 2, 'viabil': 2, 'poosibl': 1, 'paresi': 3, 'myoglobinuria': 1, 'sagit': 1, 'prohress': 1, 'ambigu': 1, 'eveid': 2, 'hypexia': 1, 'bifasicular': 1, 'ectasia': 5, 'adequatli': 1, 'urban': 1, 'upgaz': 1, 'valproic': 4, 'brachioradiali': 1, 'antiplatelet': 3, 'spat': 1, 'survey': 1, 'decrement': 2, 'acetabular': 4, 'cct': 4, 'restarint': 1, 'asever': 1, 'iubprofen': 1, 'exersis': 1, 'rightsid': 1, 'claustrophob': 3, 'coopar': 1, 'submucos': 1, 'scc': 8, 'unmet': 1, 'omem': 1, 'medaistin': 1, 'strido': 1, 'dmultipl': 1, 'bpap': 2, 'radiculopathi': 2, 'underlyinig': 1, 'sttempt': 1, 'dariculopahti': 1, 'scca': 2, 'sttemp': 1, 'radiculopahti': 1, 'bedlin': 1, 'reccomedn': 1, 'nirs': 1, 'cea': 4, 'metopralol': 1, 'chk': 1, 'premorbid': 1, 'ashen': 2, 'industri': 1, 'negaitv': 2, 'ureteroscopi': 2, 'surger': 1, 'radioluc': 3, 'nonradiopaqu': 1, 'emaci': 2, 'anastamosi': 2, 'flag': 1, 'attg': 6, 'chect': 1, 'azithrimycin': 1, 'lavo': 1, 'clopidogrel': 4, 'reportedthat': 1, 'steatohepat': 1, 'qmonday': 1, 'lsb': 2, 'alp': 2, 'downto': 1, 'reck': 1, 'adminsit': 1, 'altaplas': 1, 'indict': 2, 'appropx': 1, 'elevaet': 1, 'pss': 1, 'geriatrician': 1, 'opaciti': 1, 'povh': 1, 'mpsc': 1, 'hydroxyurea': 3, 'infeciton': 1, 'calledto': 1, 'hydrea': 1, 'heati': 1, 'bldg': 1, 'edmat': 1, 'wsd': 1, 'mkore': 1, 'vietnames': 1, 'ceftazin': 1, 'erd': 1, 'mushroon': 2, 'prevou': 2, 'extubt': 3, 'phoin': 1, 'hydorcortison': 1, 'dssd': 3, 'tridyn': 1, 'mimim': 1, 'astreonam': 1, 'appropropri': 1, 'ncslc': 1, 'fup': 2, 'dehydratioin': 1, 'chantix': 1, 'constent': 1, 'dicc': 1, 'considert': 1, \"day'\": 1, 'vocabulari': 1, 'lymp': 1, 'hypomagnisemia': 1, 'viocodin': 1, 'vareniclin': 1, 'besyl': 2, 'cuad': 1, 'polymicrobi': 7, 'liuqid': 1, 'hk': 5, 'eustachian': 3, \"'a\": 1, 'valuium': 1, 'corda': 1, 'verbiag': 1, 'proceur': 1, 'posterioli': 1, 'tendini': 1, 'hemidiaphrapm': 1, 'aksb': 2, 'pendi': 1, 'bismuth': 1, 'tread': 1, 'signfici': 4, 'shelik': 1, 'banalc': 1, 'kaopect': 1, 'hrct': 4, 'subsalicyl': 1, 'cholest': 2, 'meningism': 1, 'totprot': 1, '^d': 1, 'pizza': 1, 'arso': 1, 'midclavicl': 1, 'psuedomon': 1, 'producitv': 1, 'albutreol': 1, 'insmal': 1, 'prgress': 1, 'cepefim': 1, \"cx'\": 2, 'unablet': 1, 'subclavi': 1, 'ectopt': 1, 'lrage': 1, 'maintaint': 1, 'cuvrv': 1, 'legionna': 1, 'freuqent': 1, 'cholecyt': 1, 'posiibl': 1, 'verbalis': 1, 'qti': 1, 'erythremat': 1, 'vigilantli': 2, 'pychiatr': 1, 'precauion': 1, 'reposons': 1, 'sequent': 1, 'pase': 1, 'recept': 2, 'verb': 1, 'adust': 1, 'schizoprenia': 1, 'fuid': 1, 'occul': 1, 'twelv': 1, 'favour': 1, 'hydralyzin': 1, 'moniotor': 1, 'endocardit': 1, 'invest': 1, 'nonadher': 1, 'toil': 1, 'pfr': 2, 'peeep': 1, 'wain': 1, 'ont': 1, 'scelera': 1, 'interpert': 1, 'procudur': 1, 'dyne': 2, 'movem': 1, 'ptr': 1, 'betamethason': 2, 'comppens': 1, 'mting': 1, 'liner': 2, 'effctiv': 1, 'weaend': 1, 'hist': 1, 'transpulmonari': 2, 'depo': 1, 'graphic': 1, 'prc': 2, 'superviss': 1, 'choleysist': 1, 'assault': 3, 'antcip': 1, 'soudn': 1, 'hypernatrium': 1, 'satisafctori': 1, 'legionnair': 3, 'femerol': 1, 'amont': 1, 'clobestol': 1, 'rlc': 1, 'recv': 1, 'availi': 1, 'surprizingli': 1, 'clobestsol': 1, 'laast': 1, 'todat': 2, 'rear': 1, 'condidt': 1, 'abnormalitiy': 1, 'cryo': 1, 'microdata': 2, 'baratr': 1, 'panu': 2, 'incenitv': 1, 'ibandron': 2, 'andm': 1, 'riclast': 1, 'mie': 3, 'ridden': 1, 'orlb': 1, 'lmidron': 1, 'colum': 2, 'pecocet': 1, 'bonchiti': 1, 'sclqae': 1, 'hypenatremia': 1, 'intetmitt': 1, 'empric': 2, 'nocuturn': 1, 'clinici': 1, 'convalesc': 1, 'delec': 1, 'legnionella': 1, 'pneuomonia': 2, 'persev': 3, 'rhochi': 1, 'aspiraiton': 1, 'monomorph': 2, 'shit': 1, 'morphic': 1, 'gentlr': 1, 'atart': 1, 'completli': 1, 'catopril': 1, 'visitng': 1, 'nmb': 1, 'mucomist': 3, \"tf'\": 2, 'asb': 1, 'reconsclip': 2, 'resucit': 2, 'famli': 1, 'suciotn': 1, 'cul': 1, 'serivc': 1, 'retroperitonael': 1, 'nremain': 1, 'hemodynamicli': 2, 'outwardli': 1, 'mulitlobular': 1, 'larang': 1, 'poulmonari': 1, 'intraprocedur': 2, 'intiti': 4, 'especilli': 1, 'cpcp': 2, 'nusr': 1, 'obatin': 1, 'infectin': 1, 'stomcach': 1, 'akinwat': 1, 'plugg': 1, \"'snsr\": 1, 'laryhg': 1, 'sucraf': 1, 'fluticasin': 1, 'callou': 1, 'endometri': 2, 'vytorin': 1, 'hopsit': 2, 'dipp': 1, 'hyperplast': 3, 'choleycystectomi': 1, 'xri': 1, 'tylenolol': 2, 'hydrobromid': 3, 'phenobarb': 3, 'clarithromycin': 2, 'malabsorpt': 1, 'boil': 1, 'nasonex': 1, 'bailar': 1, 'grandmoth': 2, 'adj': 3, 'hepaticojejunostomi': 1, 'outburst': 2, 'cefepem': 2, 'neutrapen': 1, 'stoneman': 1, 'myelosupress': 1, 'condsid': 1, 'pjp': 5, 'cwia': 1, 'pellucidum': 2, 'myocardia': 2, 'readd': 1, 'orthodrom': 1, 'schf': 3, 'childdren': 1, 'hazzi': 1, 'ish': 2, 'hematologist': 1, 'fece': 7, 'hydroxylurea': 1, 'string': 1, 'cortstim': 3, 'glucont': 1, 'ohter': 1, 'accordigli': 1, 'cultru': 1, 'eia': 5, 'chaplain': 2, 'pentoxifyllin': 1, 'alkelem': 1, 'vpa': 2, 'acidoci': 1, 'campylobact': 2, 'neuromusc': 2, 'jhere': 1, 'dopplear': 1, 'antagonist': 2, 'euthyroid': 1, 'surrog': 1, 'eminclud': 1, 'bradypnea': 1, 'etiomad': 1, 'danazol': 1, 'dexmedetomidin': 3, 'yersinia': 1, 'coagulapath': 1, 'bioavailibilti': 1, 'intron': 1, 'myelofibrosi': 1, 'vibrio': 1, 'pentoxyfillin': 1, 'bbker': 1, 'fmask': 1, 'angiotensin': 1, 'hypothryroid': 1, 'congeat': 1, 'sriel': 1, 'lllpna': 1, 'fley': 1, 'serel': 1, 'draiin': 1, 'cmii': 1, 'prethicken': 4, 'diffrenc': 1, 'regurgittaion': 1, 'ivh': 2, 'bradicard': 1, 'stagnat': 1, 'purchas': 1, 'microorg': 3, 'contribtuion': 1, 'hypereflexia': 1, 'litter': 1, 'secrest': 2, 'sulfadizin': 1, 'diulatin': 1, 'chlor': 1, 'confront': 2, 'surviv': 3, 'phlebotom': 1, 'transamitini': 1, 'hypoton': 5, 'disproportion': 1, 'tor': 1, 'onog': 1, 'dital': 1, 'practition': 2, 'haartwith': 1, 'hmo': 1, 'popular': 3, 'colleg': 2, 'recieiv': 2, 'openli': 1, 'kinet': 4, 'gangren': 5, 'assista': 1, 'pml': 3, 'pyrimethamin': 1, 'trippl': 3, 'aminoglycosid': 3, 'shrink': 3, 'washcloth': 1, 'unprompt': 1, 'thlenol': 1, 'retsart': 1, 'dysregul': 3, 'gerealo': 1, 'immatur': 2, 'tuft': 1, 'microbi': 1, 'reinvolv': 1, 'hyperhydr': 1, 'dexemethason': 1, 'unasses': 1, 'hyperreflexia': 1, 'recrudes': 1, 'vascularpreserv': 1, 'unorthodox': 1, 'tting': 1, 'icp': 2, 'covner': 1, 'peac': 3, 'macrocyt': 3, 'diari': 2, 'hpome': 1, 'leukencephalopathi': 1, 'bradyca': 1, 'mpression': 2, 'familiar': 3, 'insynchron': 1, 'pointer': 1, 'xigri': 1, 'nacrot': 1, 'vestibular': 2, 'acrocyanosi': 1, 'ritonovir': 2, 'leukoencephalopati': 1, 'youngest': 1, 'defend': 3, 'manomet': 2, 'reyetaz': 1, 'consost': 1, 'reconstitut': 4, 'soduim': 1, 'clorhexedin': 1, 'entens': 1, 'ong': 1, 'chlorhexedin': 1, 'scew': 1, 'cryptococcu': 1, 'gre': 2, 'dramtic': 1, 'geograph': 2, 'certif': 1, 'shink': 1, 'hypercholorem': 1, 'encephalpathi': 1, 'myoclonu': 4, 'tracjh': 1, 'mannitol': 1, 'pharmd': 3, 'fenanyl': 1, 'initai': 1, 'hypernutremia': 2, 'contempl': 2, 'botain': 1, \"gnr'\": 1, 'perimesencephal': 1, 'decin': 1, 'unsatisfi': 1, 'seiaur': 1, 'blee': 2, 'takeoff': 1, 'ototox': 1, 'ogress': 1, 'tynelol': 1, 'precuss': 1, 'cepftim': 1, 'aswer': 1, 'rdia': 1, 'decompos': 1, 'affair': 1, 'pentobarbit': 2, 'arv': 2, 'radiocontrast': 1, 'reticulocyt': 2, 'etiol': 1, 'barotrauma': 4, 'knuckl': 1, 'uncal': 2, 'apnpr': 1, 'microischem': 1, 'weari': 1, 'tamsulosin': 3, 'traansfer': 1, 'rarefact': 1, 'idic': 1, 'illiopsoa': 1, 'opf': 1, 'hyposed': 1, 'tordol': 1, 'stohnman': 1, 'myocolonu': 1, 'voriconozol': 1, 'bruie': 1, 'pneumoina': 1, 'firsthand': 1, 'whees': 1, 'anticoagulatoion': 1, 'naficillin': 1, 'bloodpressur': 2, 'orhtostasi': 1, 'clindmycin': 1, 'pneumococ': 1, 'micafungin': 3, 'atax': 1, 'protuber': 4, 'primaquon': 1, 'hiatu': 6, 'mpowel': 1, 'oof': 1, 'narcotica': 1, 'hypov': 1, 'primaqin': 1, 'lanzoprazol': 1, 'aneur': 2, 'managemet': 1, 'trasnlat': 1, 'calcitonin': 2, 'murmr': 1, 'consumpt': 5, 'whinc': 1, 'progres': 2, 'excruci': 1, 'tricor': 2, 'shellfish': 3, 'melana': 2, 'hydrochlorid': 2, 'unur': 1, 'narcopt': 1, 'methylnaltrexon': 2, 'empiricali': 1, 'iliopsoa': 1, 'severaql': 1, 'trabecul': 4, 'shose': 1, 'housekeep': 2, 'altert': 1, 'ilopsoa': 1, 'intim': 4, 'resisit': 1, 'foudn': 1, 'antim': 1, 'wing': 1, 'velcad': 2, 'thyromegali': 12, 'primquin': 1, 'infectio': 1, 'biater': 9, 'simplex': 3, 'certainti': 2, 'jiroveci': 6, 'atalectasi': 5, 'sevelem': 2, 'refusu': 1, 'pansystol': 1, 'finerg': 1, 'microangiopathi': 1, 'poison': 2, 'diagon': 1, 'myelomat': 1, 'vacn': 1, 'prison': 4, 'senstiv': 1, 'ketorolac': 3, 'hu': 2, 'mosaic': 4, 'various': 1, 'unfamiliar': 1, 'edit': 2, 'unmask': 2, 'unlikl': 1, 'bzd': 2, 'guidan': 1, 'bel': 1, 'interst': 1, 'metoptolol': 1, 'interduc': 1, 'hars': 1, 'omnipaqu': 22, 'array': 1, 'feversclin': 1, 'triangular': 2, 'aspf': 2, 'achondroplasia': 1, 'ldic': 1, 'ptv': 1, 'sedet': 1, 'buttok': 1, 'hipox': 1, 'yanuak': 1, 'antifangian': 1, 'elevetd': 1, 'imptov': 1, 'tolow': 1, 'palac': 1, 'probem': 1, 'rknee': 1, 'antifangin': 1, 'extubaton': 1, 'eved': 1, 'muconazol': 1, 'hemotoma': 1, 'monitoro': 1, 'toput': 1, 'acidophillu': 1, 'therectomi': 1, 'dopplier': 1, 'anascol': 1, 'divalproex': 4, 'endeavor': 1, 'mylanta': 1, 'triag': 2, 'revelatori': 1, 'calv': 4, 'sand': 1, 'substrat': 3, 'bmsx': 1, 'elabor': 1, 'ditress': 2, 'ammmonia': 1, 'caveat': 1, 'erythemet': 1, 'revascular': 2, 'grm': 1, 'diphtheria': 1, 'paget': 2, 'fvc': 4, 'devat': 1, 'polychondr': 2, 'issus': 1, 'bicalutamid': 1, 'verstiva': 1, 'ferrousul': 1, 'edeam': 3, 'currenlti': 2, 'infuluenza': 1, 'voltatg': 1, 'diptheria': 1, 'ocuvit': 1, 'specifici': 1, 'garb': 1, 'lipomatosi': 1, 'figur': 2, 'sodiuma': 1, 'continui': 1, 'bicarp': 1, 'levagquin': 1, 'coa': 1, 'combivi': 1, 'alkalem': 1, 'onb': 1, 'billat': 1, 'intlat': 1, 'wln': 1, 'sheriff': 1, 'bdz': 1, 'comt': 1, 'recumb': 1, 'cctime': 1, 'sectrtion': 2, 'porencephal': 1, 'normotensiv': 1, 'hunulin': 1, 'respitor': 1, 'harbor': 1, 'burr': 4, 'supratentori': 4, 'igh': 1, 'covg': 1, 'paranoa': 1, 'magnitud': 1, 'shoudl': 1, 'lubric': 1, 'villag': 1, 'springwel': 1, 'resuiscit': 1, 'croupi': 1, 'permeabl': 1, 'sequestr': 1, 'pelclip': 1, 'vasalva': 1, 'hemachomotosi': 1, 'orign': 2, 'nok': 2, 'noncontigu': 1, 'nonradi': 1, 'winter': 2, 'hemachromatosi': 1, 'sttwc': 1, 'hemochromotosi': 1, 'superclavicular': 1, 'confin': 2, 'ym': 2, 'osteophytosi': 2, 'hitchcock': 1, 'represnt': 1, 'lacat': 4, 'madanock': 1, 'osteltamivir': 1, '^wob': 5, 'revi': 1, 'copeou': 1, 'neosynepherin': 1, 'compenas': 1, 'hostil': 1, 'lrx': 1, 'interrogat': 1, 'initail': 2, 'sureg': 1, 'famoitidin': 1, 'casopressin': 1, 'unprepar': 1, 'scarl': 1, 'parameterd': 1, 'una': 5, 'vibrant': 1, 'swithc': 1, 'cation': 1, 'photo': 1, 'offlevoph': 1, 'levofloxaxin': 1, 'withdrawa': 1, 'withdrwal': 1, 'recimmend': 1, 'dsh': 1, 'mimic': 1, 'moicro': 1, 'latu': 1, 'poetic': 1, 'dcough': 1, 'osteltamavir': 1, 'aeronaut': 1, 'resuccit': 1, 'receivng': 2, 'tsamiflu': 1, 'maskj': 1, 'antitbiot': 1, 'mipt': 1, 'inferiormost': 1, 'und': 2, 'transferrin': 2, 'centropulmonari': 1, \"ext'\": 1, 'purlent': 1, 'duiresis': 1, 'mucormyst': 3, 'nbr': 1, 'appropriatr': 1, 'cleat': 1, 'tricuspud': 1, 'obtaijn': 1, 'hypokines': 1, 'tnt': 3, 'cardiomyopath': 1, 'drainaga': 1, 'tho': 1, 'guzzl': 1, 'recnt': 1, 'pantoea': 1, 'hld': 3, 'afternnoon': 1, 'racotomi': 1, 'prethickn': 1, 'deglutit': 3, 'prb': 1, 'lactamas': 5, 'hyolaryng': 3, \"he'\": 1, 'azityhromycin': 1, 'subinsular': 3, 'suboptima': 1, 'volar': 2, 'lordosi': 3, 'herni': 1, 'radiocarp': 1, 'mraf': 2, 'reoper': 2, 'fingerbreadth': 4, 'coorespond': 1, 'esophagogastr': 3, 'juglar': 1, 'cathter': 2, 'subcuticular': 4, 'ehab': 8, 'dish': 3, 'cholectomi': 1, 'rosacea': 2, 'depolar': 4, 'posteroinferior': 1, 'nterval': 1, 'scanner': 6, 'parkinsonian': 1, 'distinguish': 6, 'initiatio': 1, 'bronchoalveloar': 1, 'gsenapati': 2, 'gadavist': 3, 'juxtahilar': 1, 'suprasellar': 4, 'peribronchovascular': 13, 'gmsj': 4, 'innumer': 3, 'calcifict': 1, 'melaena': 1, 'zosoyn': 1, 'npv': 1, 'positi': 1, 'plea': 2, 'maleana': 1, 'hyperextend': 1, 'thalam': 3, 'ostomoy': 1, 'oesophg': 1, 'supratherpeut': 1, 'scopi': 1, 'poco': 1, 'ueo': 1, 'hctcheck': 1, 'tthrough': 1, 'witb': 1, 'oain': 1, 'obli': 1, 'ileiostomi': 1, 'axcellari': 1, 'continuum': 1, 'tour': 3, 'gargl': 1, 'vomittr': 1, 'basliic': 1, 'morther': 1, 'penumon': 1, 'egdv': 1, 'thankscarolyn': 1, 'mucho': 1, 'scertion': 1, 'ltec': 1, 'egu': 1, 'semisupin': 1, 'unprovok': 1, 'olveckzi': 1, 'oglivi': 1, 'retropreiton': 1, 'alendron': 1, 'chelona': 1, 'imay': 1, 'mgu': 1, 'hypernam': 1, 'adminit': 1, 'prevail': 1, 'zoyn': 1, 'qthur': 1, 'salpingo': 1, 'wine': 4, 'teratoma': 2, 'recenetli': 1, 'microaspir': 1, 'nonsmok': 2, 'asprin': 3, 'mucocel': 1, 'oophorectomi': 2, \"'great\": 1, 'ubiquit': 1, 'nonimmun': 1, 'infiltart': 1, 'ammen': 1, 'historectomi': 1, 'macrolid': 3, 'pigment': 1, 'peristals': 1, 'pneuomina': 1, 'kwnown': 1, 'veg': 1, 'spetic': 1, 'meatal': 1, 'usiti': 1, 'hsc': 3, 'defuci': 1, 'antrostomi': 1, 'subclass': 1, 'kgm': 1, 'immunodefici': 6, 'ethmoidectomi': 1, 'monotherapi': 4, 'sequest': 2, 'immunoglobulin': 1, 'serotonin': 5, 'subnorm': 1, 'pansinus': 2, 'sin': 1, 'masp': 1, 'tbi': 4, 'development': 5, 'tahcycardia': 1, 'airless': 3, 'parost': 1, 'panc': 1, 'rami': 1, 'osteosarcoma': 1, 'ossifi': 1, 'ossif': 5, 'ossifican': 1, 'truama': 1, 'ramu': 2, 'medullari': 4, 'heterotop': 4, 'chondrosarcoma': 1, 'coanda': 1, 'hyperphospatemia': 1, 'gerontololgi': 1, 'brath': 1, 'hyperphosphotemia': 1, 'retina': 1, 'kayexak': 1, 'stabli': 9, 'apsir': 1, 'scheme': 1, 'arth': 1, 'cib': 2, 'phosph': 1, 'tenosynov': 1, 'resuspens': 1, 'hyoxemia': 1, 'kayexcel': 1, 'sevalam': 2, 'trazamin': 1, 'agma': 2, 'inhib': 1, 'orthopn': 1, 'feverish': 2, 'meformin': 1, 'suspcion': 1, 'treadmil': 1, 'nongap': 2, 'supsect': 1, 'crx': 1, 'rocefin': 1, 'trhough': 1, 'leukotrien': 1, 'zileuton': 1, 'timecours': 3, 'rhocnher': 1, 'antianxietolyt': 1, 'pulmomari': 3, 'throrac': 1, 'placeemtn': 1, 'darbopenem': 1, 'clonapin': 1, 'peek': 1, 'cechet': 1, 'pneumonboot': 1, 'bronk': 1, 'gran': 1, 'bldcx': 1, 'ammonium': 1, 'triplk': 1, 'peripeg': 1, 'coccobaccili': 1, 'biat': 1, 'slideboard': 5, 'curlex': 1, 'auitopeep': 1, 'hopwev': 1, 'softworb': 1, 'negx': 1, 'pleomorph': 1, 'hiold': 1, 'miplex': 1, 'bootsa': 1, 'wrape': 1, 'bilster': 1, 'dbl': 1, 'duodrem': 1, 'serosangui': 1, 'bumper': 1, 'liumen': 1, 'amykacin': 1, 'levop': 1, 'sorftsorb': 1, 'plateu': 1, 'diffusedli': 1, 'properti': 3, 'doribax': 1, 'cechect': 2, 'toerlat': 1, 'vurrent': 1, 'adpat': 1, 'skeptic': 1, 'dori': 1, 'tracheomalcia': 1, 'metiplex': 1, 'macradenoma': 1, 'macroadenoma': 1, 'remodel': 1, 'demis': 3, 'diuresd': 1, 'arousbl': 1, 'hemithorac': 3, 'alzeim': 1, 'sellar': 1, 'alzhiem': 1, 'hypochlorem': 1, 'thyoid': 1, 'moxifloxacin': 7, 'ream': 1, 'salicyl': 1, 'shirt': 1, 'dignosi': 1, 'agiit': 1, 'snap': 2, 'airtrap': 3, 'gabapenton': 1, 'hcg': 1, 'distruct': 1, 'orthopedist': 1, 'hypogammaglobulinemia': 3, 'psychotrop': 2, 'unimpair': 1, 'arthrocentesi': 2, 'slam': 1, 'osteonecrosi': 1, 'restricti': 1, 'vistaril': 1, 'epithet': 1, 'dentist': 1, 'oit': 1, 'phenazopyridin': 1, 'febreil': 1, 'bournwood': 1, 'public': 4, 'carinatum': 1, 'crede': 1, 'appris': 1, 'pectu': 2, 'pleurectomi': 1, 'atelectai': 2, 'kneereplac': 1, 'nonsept': 1, 'inebri': 1, 'collagen': 1, 'gammaglobulinemia': 1, 'gabopentum': 2, 'thorazin': 1, 'kneeleft': 1, 'hydroxyzin': 4, 'useless': 1, 'obsess': 1, 'dust': 1, 'lulobectomi': 1, 'duri': 3, 'ventericular': 1, 'senapati': 1, 'repos': 1, 'completley': 1, 'septalectomi': 1, 'precuationsplan': 1, 'turbinectomi': 1, 'expecetd': 1, 'unexpect': 4, 'antimirobi': 1, 'leukcytosi': 2, 'navi': 1, 'cystiti': 4, 'dyskinesia': 1, 'isometr': 3, 'complan': 1, 'rhc': 3, 'pride': 1, 'sildenafil': 2, 'prosatectomi': 1, 'tspn': 4, 'trespass': 1, 'uleg': 1, 'pastpt': 1, 'estat': 1, 'consistn': 1, 'mendehlson': 1, 'denser': 5, 'hypercholeserolemia': 1, 'welcom': 2, 'renounc': 1, 'entail': 1, 'aceess': 1, 'rythum': 1, 'disconcert': 1, 'pericardialcenti': 1, 'propanalol': 1, 'abacavir': 2, 'schistocyt': 1, 'opportunitist': 1, 'cdifff': 1, 'tenofovir': 2, 'beforehand': 1, 'uln': 1, 'pldh': 1, 'smv': 3, 'inconti': 2, 'slump': 1, 'sticker': 4, 'cte': 1, 'sofa': 1, 'freeca': 1, 'tbil': 1, 'huid': 1, 'rehospit': 3, 'rrva': 1, 'hemetemesi': 1, 'sldh': 1, 'paracentisi': 1, 'capaci': 1, 'gastroview': 1, 'radiologymaureen': 1, 'cmrepeat': 1, 'repes': 1, 'resi': 1, 'refilm': 1, 'dohboff': 1, 'surgeru': 1, 'disea': 2, 'consolodi': 1, 'olt': 3, 'ptft': 1, 'brachiocepahl': 1, 'vdrf': 1, 'gastro': 1, 'txp': 2, 'thalassemia': 1, 'media': 1, 'hemotocrit': 1, 'otiti': 1, 'toxoplamosi': 1, 'crystalloid': 2, 'inforc': 1, 'effusi': 1, 'predescrib': 1, 'beign': 2, 'ceclor': 1, 'asss': 1, 'nurseri': 1, 'cefaclor': 1, 'undo': 1, 'aztrenam': 1, 'nifediipin': 1, 'raynoid': 1, 'mycin': 2, 'intrinis': 1, 'bicycl': 1, 'cannabinoid': 1, 'sizewis': 1, \"leni'\": 1, 'cannabi': 1, 'cannibu': 1, 'bumpi': 1, 'antidep': 1, 'ajust': 2, 'admtt': 1, 'eu': 1, 'sertalin': 1, 'hepe': 1, 'incontint': 1, 'heppa': 1, 'bronchoscpi': 1, 'parathesia': 1, 'welder': 1, 'valgancyclovir': 2, 'valacyclovir': 1, 'ceftraiaxon': 1, 'valcyt': 3, 'arachynoid': 1, 'subarachanoid': 1, 'macroph': 1, 'valcyclovir': 1, 'incontinac': 1, 'aeipf': 1, 'anxou': 1, 'vangcyclovir': 1, 'herps': 1, 'acetylcystin': 2, 'uip': 4, 'atiavan': 1, 'faecal': 1, 'neagtiv': 1, 'thump': 1, 'reapir': 1, 'eospinophilia': 1, 'librarian': 1, 'diagsnosi': 1, 'sidedweak': 1, 'amitiptyllin': 1, 'ctdz': 1, 'librari': 1, 'invovel': 1, 'myxomat': 1, 'wold': 1, 'suspician': 2, 'rhiniti': 2, 'pck': 1, 'abpa': 1, 'brocnhoscopi': 1, 'silicosi': 1, 'reop': 1, 'aneurysn': 1, 'pansinusitu': 1, 'cep': 1, 'uk': 2, 'precip': 1, 'ilii': 1, 'nomin': 1, 'osteiti': 1, \"morning'ha\": 1, 'midclavicular': 4, 'prevoid': 1, 'condensan': 1, 'adjacebt': 1, 'sjbj': 5, 'fissu': 1, 'glan': 1, 'sugesst': 1, 'shortn': 3, 'patial': 1, 'autist': 1, 'inping': 1, 'rxcg': 1, 'effsuion': 1, 'suclavian': 1, 'obstrut': 1, 'seiszur': 1, 'scull': 1, 'encephlopath': 1, 'flextur': 2, 'micromass': 1, 'mesial': 2, 'aortopulmon': 1, 'hyperton': 2, 'rrc': 1, 'odynophagia': 4, 'sciatica': 1, 'seas': 1, 'temporali': 1, 'hyponutremia': 1, 'fosphenytoin': 1, 'calvari': 1, 'mediatinum': 1, 'autism': 1, 'orthogon': 2, 'rveal': 1, 'trig': 3, 'seasion': 1, 'threaten': 3, 'pachymening': 4, 'lm': 2, 'destrucitv': 1, 'medistiastinum': 1, 'evdeic': 1, 'sunitinib': 1, 'upstair': 3, 'legfor': 1, 'dendrit': 1, 'heaven': 1, 'enterographi': 1, 'indirect': 3, \"perf'\": 1, 'narrowest': 1, 'hyperem': 1, 'eleventh': 1, 'microcytosi': 1, 'tenth': 2, 'proctoscopi': 1, 'volvulu': 4, 'sigmoidoscopi': 1, 'twelfth': 1, 'radioi': 1, 'cholecalciferol': 3, 'erectil': 1, 'atribut': 1, \"grave'\": 1, 'readress': 1, 'radioact': 2, 'predict': 3, 'cth': 2, 'unwilling': 1, 'dysfuct': 2, 'postcentr': 1, 'microhemorrhag': 2, 'flak': 1, 'tachcyardia': 1, 'oversew': 1, 'tonsillar': 1, 'thourough': 1, 'gyru': 2, 'melen': 1, 'robust': 6, 'magnum': 1, 'lllasp': 1, 'sew': 1, 'modax': 2, 'signifi': 1, 'enzyem': 1, 'refut': 1, 'overnigh': 1, 'laparatomi': 1, 'gastrotomi': 2, 'arbout': 1, 'ipsilater': 1, 'gyriform': 1, 'hypoaesthesia': 1, 'pallidu': 1, 'udergo': 1, 'laryngoscopi': 2, 'tonsilar': 1, 'reismann': 1, 'infero': 3, 'predispos': 4, 'globu': 1, 'grd': 1, 'postcontrast': 1, 'adc': 4, 'hba': 5, 'reivew': 1, 'volu': 1, 'polymyopathi': 1, 'hypovolm': 1, 'delist': 1, 'coursa': 1, 'withsept': 1, 'guac': 1, 'propranolol': 1, 'abilti': 1, 'harvest': 2, 'initati': 1, 'wocrn': 1, 'approximatli': 1, 'lactolas': 1, 'encpehalopath': 1, 'chirrosi': 1, 'eslc': 1, 'myoclon': 3, 'propel': 1, 'fascicul': 1, 'pge': 1, 'bedridden': 1, 'overlaod': 2, 'depelt': 1, 'pterygoid': 1, 'intracerebr': 2, 'recordsnafcillin': 1, 'elb': 1, 'necktar': 1, 'bradykinet': 1, 'neosynephin': 1, 'chirossi': 1, 'swall': 1, 'propofaol': 1, 'inclement': 1, 'meropenenem': 1, 'stm': 2, 'perisepsi': 1, 'weanign': 1, 'crtical': 1, 'fse': 1, 'flatter': 2, 'spesi': 1, 'valuat': 1, 'lecopenia': 1, 'polymyoneuropathi': 1, 'intrac': 1, 'leucopenia': 1, 'axon': 2, 'adequaci': 2, 'deltoid': 2, 'mulitfoc': 1, 'patientnafcillin': 1, 'heterotopia': 1, 'restlessli': 1, 'mmt': 6, 'agres': 1, 'electrophysiolog': 1, 'nephriti': 1, 'safer': 1, 'hoy': 1, 'ppli': 1, 'gentler': 1, 'nadalol': 1, 'humiditifi': 1, 'compelt': 1, 'difficuolt': 1, 'devi': 1, 'hempdynam': 2, 'followl': 1, 'lactuols': 1, 'boat': 1, 'iadl': 2, 'elsd': 1, 'polyneuropathi': 3, 'hitler': 1, 'nmed': 3, 'varici': 1, 'thiock': 1, 'inatak': 1, 'repsositio': 1, 'intradur': 2, 'epicondyl': 2, 'indent': 3, 'patientmercuri': 1, 'lactact': 2, 'prognost': 1, 'sclen': 1, 'mercuri': 1, 'apach': 1, 'dfif': 1, 'intemitt': 1, 'geritrician': 1, 'citri': 1, 'guanifensin': 1, 'isir': 1, 'ammoni': 1, 'desonid': 1, 'hydroxyzon': 1, 'hypoixia': 1, 'orba': 1, 'nephrolithotomi': 1, 'parksinson': 1, \"parkinson'\": 1, 'sweetcorn': 1, 'strikingli': 1, 'isdn': 2, 'oncomycosi': 1, 'xygen': 1, 'processbi': 1, \"romi'\": 1, \"pcp'\": 1, 'hga': 3, 'irbesartan': 1, 'jam': 1, 'promis': 3, 'avapro': 1, 'effius': 1, 'fyi': 2, 'concerngin': 1, 'flower': 2, 'hlp': 1, 'pron': 1, 'nmda': 1, 'maxax': 2, 'anesthesiolog': 1, 'respriatori': 7, 'oncol': 1, 'elvev': 1, 'intensivm': 1, 'tryadyn': 1, 'unsatgebal': 1, 'rotopron': 2, 'rss': 1, 'schmerzther': 1, 'shd': 3, 'eichinococcu': 1, 'weel': 1, 'mkm': 1, 'hantaviru': 1, 'sye': 1, 'mlhr': 1, 'modb': 1, 'pvk': 1, 'critici': 1, 'mcafungin': 1, 'echinococcu': 1, 'clin': 2, 'limt': 1, 'tward': 1, 'roto': 1, 'notfallm': 1, 'rotapron': 1, 'hyperalgesia': 2, 'variablil': 1, 'algorhythm': 1, 'intrapulmonari': 6, 'wriggl': 1, 'eosionphil': 1, 'chart^': 1, 'entamoeba': 1, 'portugues': 3, 'prcv': 1, 'flashback': 1, 'doxicyclin': 2, 'annum': 1, 'mucl': 1, 'lcm': 1, 'mve': 1, 'ctg': 4, 'mosit': 1, 'doee': 1, 'cart': 3, 'secanodari': 1, 'pneumonmediastinum': 1, 'thrombocytopen': 2, 'nur': 1, 'raidal': 2, 'cvm': 1, 'pneumomedistin': 1, 'hyoglycemia': 1, 'aemia': 1, 'patiient': 1, 'minax': 2, 'crosstoler': 1, 'anathesiol': 1, 'glragin': 1, 'anest': 1, 'trendelenberg': 3, 'mgc': 1, 'feedback': 1, 'nephrotomi': 1, 'pylostomi': 1, 'replc': 1, 'calyx': 1, 'anesthesiologist': 1, 'sillhouhett': 1, 'aanterior': 1, 'anteroposterior': 1, 'solitari': 5, 'neoesophagu': 1, 'obstruc': 1, 'falciform': 2, 'pneumonvax': 1, 'provoc': 1, 'cvid': 2, 'dypspnea': 1, 'rheumatologist': 1, 'ipr': 1, 'rattli': 2, 'butun': 1, 'floromethalon': 1, 'bellow': 1, 'minimun': 1, 'estgfr': 1, 'bairhugg': 1, 'pseudoobstruct': 1, 'abv': 1, 'chewabl': 3, 'dir': 2, 'mgmnt': 1, 'eventr': 2, 'hydroxid': 5, 'bronchoconstrict': 1, '^rdl': 1, 'subjac': 1, 'pectic': 1, 'actuat': 2, 'fahx': 1, 'remid': 1, 'claclium': 1, 'sohx': 1, 'dimentia': 1, 'baker': 1, 'cutlur': 4, 'olsetamivir': 1, 'whirl': 1, 'bilroth': 1, 'fliuid': 1, 'guifensien': 1, 'novolin': 2, 'sphincterotomi': 1, 'farr': 1, 'hypoventili': 1, 'atazanavir': 1, 'eelvat': 1, 'narcoti': 1, 'reyataz': 1, 'hprn': 1, 'mep': 1, 'epzicom': 1, 'piroxicam': 1, 'myofasci': 1, 'unremarakbl': 1, 'mens': 2, 'pneumonianow': 1, 'cotninu': 2, 'ism': 1, 'qual': 1, 'cig': 2, 'epilecticu': 1, 'whc': 1, 'clininc': 1, 'coff': 1, 'deprees': 1, 'bucket': 1, 'rpaid': 1, 'hopefuil': 1, 'emei': 1, 'signic': 1, 'lactuls': 1, 'umen': 1, 'deleriumt': 1, 'flumenazil': 1, 'donut': 1, 'pint': 1, 'duie': 1, 'tremen': 2, 'hyropneumothorax': 1, 'immodium': 3, 'multicoc': 1, 'improvt': 2, 'decorticaiton': 1, 'grp': 1, 'pyeloplasti': 1, 'antidepend': 1, 'trilob': 1, 'tld': 1, 'nteract': 1, 'unidentifi': 2, 'dysarththia': 1, 'pnanot': 1, 'thallasemia': 1, 'vmr': 1, 'gfamili': 1, 'stumbl': 1, 'dyarthria': 1, 'farmer': 1, 'cefapem': 1, 'curl': 8, 'uplift': 1, 'uniform': 2, 'stube': 1, 'arisen': 1, 'vasculartur': 1, 'tongith': 1, 'fllow': 1, 'affor': 1, 'caffien': 1, 'dehyr': 1, 'fiorin': 1, 'afford': 2, 'leginonella': 1, 'intertrigo': 1, 'becsu': 1, 'desipramin': 1, 'chroninc': 1, 'plale': 1, 'dofetillid': 1, 'land': 1, 'cbg': 3, 'quinadin': 1, 'cigar': 1, 'epistaxsi': 1, 'metforman': 1, 'dysfunt': 1, 'gradulli': 1, 'signai': 1, 'schwannoma': 2, 'silhoutt': 1, 'hepatobiliari': 4, 'hssi': 3, 'excor': 1, 'utter': 2, 'consolidatioin': 1, 'crash': 1, 'underi': 1, 'sgift': 1, 'toprolol': 1, 'inout': 1, 'intratubular': 1, 'stereotact': 1, 'postvoid': 1, 'condens': 1, 'mirolax': 1, 'ducolox': 1, 'shapr': 1, 'ralesb': 1, 'toleran': 1, 'hyperphosphatemia': 2, 'kayaxel': 1, 'glomerulonephr': 2, 'bdg': 1, 'puplmonari': 1, 'enxt': 1, 'varix': 1, 'splenoport': 1, 'spleno': 2, 'bronchiolar': 3, 'cementoplasti': 1, 'rightr': 1, 'pseudoarthrosi': 1, 'spondyl': 1, 'ankylos': 1, 'opacitii': 1, 'currnetli': 1, 'obtur': 1, 'conceal': 2, 'resiz': 1, \"'better\": 1, 'pyschosi': 1, 'hystrectomi': 1, 'consitp': 1, 'monitori': 1, 'intravertebr': 1, 'overfe': 2, 'patientprednison': 1, 'contsip': 1, 'subarrachnoid': 1, 'brim': 1, 'fliter': 1, 'opteas': 3, 'gonald': 1, 'levl': 1, 'hemiperisi': 1, 'addomen': 1, 'leukodytosi': 1, 'sorbitol': 1, 'theresid': 2, 'hyerkalemia': 1, 'zosn': 1, 'acycolovir': 1, 'rituxan': 1, 'pnau': 1, 'onppi': 1, 'bedamustin': 1, 'inard': 1, 'galss': 1, 'aiha': 1, 'liklihood': 1, 'px': 3, 'histroy': 3, 'pleuridex': 1, 'hypogammaglobinemia': 1, 'aihi': 1, 'preme': 1, 'hospitalizait': 1, 'atelectatsi': 1, 'bluid': 2, 'arang': 1, 'lsinoprel': 1, 'holosystol': 3, 'subgal': 2, 'duaghter': 1, 'fcn': 1, 'stablliz': 1, 'slntg': 2, 'spustum': 1, 'dysf': 1, 'pansinu': 1, 'cratinin': 1, 'arl': 1, 'migratori': 1, 'shilouett': 1, 'evenli': 1, 'exceedingli': 1, 'proportio': 1, 'raynaud': 1, 'isnorm': 1, 'overestim': 2, 'techngu': 1, 'hepb': 1, 'flonas': 2, 'aarom': 1, 'frigidi': 1, 'surv': 2, 'naf': 2, 'catecholamin': 1, 'catecholami': 1, 'imapir': 1, 'extremu': 1, 'ical': 1, 'cefetriazidim': 1, 'extrmeitii': 1, 'macaroni': 1, 'resons': 2, 'fmssa': 1, 'nafcililn': 1, 'spbt': 1, 'feso': 3, 'comporomis': 1, 'satuat': 1, 'laq': 2, 'uee': 1, 'vcabg': 1, 'contamini': 1, 'finesterid': 1, 'hypophon': 1, 'buyt': 1, 'patientlidocain': 1, 'mirco': 1, 'aneurism': 1, 'diuresesi': 1, 'reintubt': 1, 'sefl': 1, 'whiff': 1, 'atlectesi': 1, 'dsitress': 1, 'dissoci': 1, 'isorhythm': 1, 'neoesophag': 1, 'levoflaoxin': 1, 'bidew': 1, 'morphinel': 1, 'prelmininari': 1, 'msntal': 1, 'fentanyla': 1, 'normo': 3, 'antoibiot': 1, 'porch': 1, 'lomictil': 1, 'betaseron': 1, 'millimetr': 2, 'borderl': 1, 'opacificaton': 1, 'radio': 4, 'anchor': 1, 'heteregen': 2, 'additino': 1, 'groshung': 1, 'dextroconvex': 2, 'ajnd': 1, 'cisterna': 2, 'magna': 2, 'cariat': 1, 'aceiv': 1, 'dnh': 2, 'mycocardi': 1, 'nio': 1, 'mepelex': 1, 'unexpectedli': 1, 'descid': 2, 'genesi': 1, 'multidisicplinari': 1, 'tapabl': 1, 'respiaratori': 1, 'bpmaintain': 1, 'proir': 1, 'ult': 1, 'negativebal': 1, 'impedi': 2, 'plana': 1, 'mulitdisciplinari': 1, 'dysnychromi': 1, 'alkalsosi': 1, 'teanaou': 1, 'bacj': 2, 'deffrer': 1, 'inexpect': 1, 'levoxacin': 1, 'cardiazem': 1, 'egfr': 3, 'talli': 1, 'uterotomi': 1, 'bankart': 1, 'prcocet': 1, 'resrict': 1, 'macdonald': 1, 'street': 2, 'increaseili': 1, 'teanm': 1, 'clilnic': 1, 'agita': 1, 'pantri': 1, 'nake': 2, 'trazdon': 1, 'beverag': 2, 'thiamain': 1, 'atlectasi': 3, 'somewher': 1, 'beng': 1, 'percardi': 1, 'pleurx': 3, 'smalll': 1, 'slthough': 1, 'othervis': 2, 'seeen': 1, 'subclaviam': 1, \"cxr'\": 1, 'condyl': 2, 'choyk': 3, 'torqu': 1, 'afsn': 3, 'lifetim': 1, 'erlotinib': 1, 'spinemetastas': 1, 'triamteren': 2, 'rode': 1, 'lisinopriltoler': 1, 'successs': 1, 'outputbun': 1, 'metorrolol': 1, 'ismo': 1, 'dand': 1, 'lenient': 1, 'hypok': 1, \"bartter'\": 1, 'murmer': 3, 'abxif': 1, 'hypecapnia': 1, 'comtamin': 1, 'pepicd': 1, 'startw': 1, 'alkali': 1, 'amphysema': 1, \"bs'\": 3, 'ribcag': 1, 'gitelman': 1, 'sinia': 1, \"copd'er\": 1, 'tremain': 1, 'aortobifemor': 1, 'hyperaldo': 1, 'clime': 1, 'branow': 1, 'pcm': 2, 'bronchodi': 1, 'holder': 2, 'posthypercapnia': 1, 'fasoli': 1, 'uro': 1, 'urethra': 2, 'havewith': 1, 'feeder': 1, 'subliguin': 1, 'msk': 3, 'exogen': 1, 'rhaspi': 1, 'placent': 1, 'procainamid': 1, 'urether': 1, 'mesothelioma': 1, 'influenc': 3, 'actiiv': 1, 'notori': 1, 'albulmin': 1, 'amlitud': 1, 'neehdam': 1, 'electropheresi': 1, 'projectil': 2, 'rlsb': 1, 'predisposit': 2, 'intfiltr': 1, 'approximatley': 1, 'fagitu': 1, 'hpothyroid': 1, 'toy': 1, 'nasophareng': 1, 'tricupsid': 1, 'chagn': 3, 'endogastr': 2, 'sihgtli': 1, 'doeswel': 1, 'suspiscion': 1, 'robotussin': 1, 'spiromitri': 1, 'mitrial': 1, 'tricusp': 1, 'coumaidn': 1, 'rewiev': 1, 'bleedi': 1, 'mobila': 1, 'vactiv': 1, 'reasonbl': 1, 'mobilix': 1, 'antimicribi': 2, 'dyfunct': 1, 'guiafisin': 1, 'nest': 1, 'guiafisen': 1, 'inspiritori': 1, 'intend': 5, 'unenthusiast': 1, 'lipm': 1, 'mirilax': 1, 'colllaps': 1, 'collasps': 2, 'holo': 1, 'clodidin': 1, 'arimidex': 2, 'bpmed': 1, 'rcvd': 1, 'fruther': 1, 'asix': 1, 'pharyn': 1, 'catapr': 1, 'unnessari': 1, 'clozaril': 2, 'levaph': 1, 'antihyperglycem': 1, 'anerob': 1, 'alzhem': 1, 'alezhiem': 1, 'jolt': 1, 'setment': 1, 'mesent': 1, 'ileiti': 1, 'painclin': 1, 'tributari': 2, 'periport': 2, 'diarrheaclin': 1, 'rmlobe': 1, 'rmlobectomi': 1, 'extremtli': 1, 'rllobectomi': 1, 'spina': 1, 'divers': 2, 'hyperten': 1, 'rmatiti': 1, 'twin': 1, 'wihoutout': 1, 'atop': 1, 'harshcough': 1, 'rhythmic': 1, 'epress': 2, 'solumedeol': 1, 'receov': 1, 'continueud': 1, 'melon': 1, 'asthmaticu': 1, 'repor': 1, 'precaust': 1, 'attribuatlb': 1, 'hypercarbi': 1, 'capaicti': 1, 'peristom': 1, 'psychogen': 2, 'bifida': 1, 'peronei': 1, 'tibiotalar': 1, 'metaphysi': 1, 'crutch': 1, 'pulem': 1, 'eyeh': 2, 'hemifraphragm': 1, 'osbuscr': 1, 'tricsupid': 1, 'threshol': 1, 'imprvo': 1, \"wbc'\": 1, 'mgpo': 2, 'pleuradesi': 2, 'reticulonodular': 1, 'accodringli': 1, 'thoracentsi': 1, 'resampl': 1, 'ffectiv': 1, 'nppvand': 1, 'vacat': 2, 'hypoventialt': 1, 'lyphangt': 1, 'chylou': 1, 'cronic': 1, 'motnior': 1, 'elevatin': 1, 'adjuv': 1, 'retens': 3, 'nrbc': 2, 'zanax': 1, 'talc': 2, 'crhonic': 1, 'triglyc': 1, 'bigger': 3, 'rosenmul': 1, 'chord': 1, 'laryngocel': 1, 'venetricular': 1, 'regurit': 1, 'mechin': 1, 'hate': 2, 'erst': 1, 'decreasedurin': 1, 'isulin': 1, 'miser': 1, 'weanto': 1, 'paetnci': 1, 'andincreas': 1, 'foloey': 1, 'disucss': 1, 'anticio': 1, 'acetazolimid': 1, 'compatibel': 1, 'gemfibrozil': 1, 'furosimid': 1, 'flicker': 1, 'famoticidin': 1, 'merapenum': 1, 'aslix': 1, 'swiych': 1, 'merrem': 1, 'seconday': 1, 'cahneg': 1, 'flewxis': 1, 'culturt': 1, 'tolerainc': 1, 'postivi': 1, 'peramivir': 1, 'nowt': 1, 'risbio': 1, 'lastli': 2, 'initit': 1, 'murmu': 1, 'desynchron': 1, 'woudl': 2, 'evercar': 1, 'thoraco': 1, 'profession': 1, 'mistak': 1, 'abdominopelv': 2, 'nrrr': 2, 'lash': 1, 'unneccessari': 1, 'chlorehex': 1, 'andp': 1, 'isssu': 1, 'intpret': 1, 'ibili': 1, 'dy': 4, 'hypertriglyceridemia': 2, 'permavir': 1, 'rhythem': 1, 'nitrou': 2, 'adjec': 1, 'versedearli': 1, 'rhochor': 3, 'meropenun': 1, 'olanzaoin': 1, 'racepinephrin': 2, 'ino': 2, 'paramavir': 1, 'amlodopin': 1, 'remp': 1, 'axiila': 1, 'famotadin': 2, 'decreaas': 1, 'monostat': 1, 'softi': 1, 'flitter': 1, 'nimbex': 1, 'unsuccessful': 1, 'abio': 1, 'tachyc': 1, 'extracardiac': 1, 'gate': 3, 'corevalv': 1, 'coronaryclip': 1, 'misregistr': 1, 'extracharg': 1, 'morph': 1, 'possibilit': 2, 'spontaneo': 1, 'athrosclerosi': 1, 'inxn': 1, 'desquam': 2, 'secretari': 1, 'irrevers': 1, 'saag': 1, 'intravasc': 2, 'intertriginu': 1, 'therfor': 1, 'silverden': 1, 'veinou': 1, 'andtibiot': 1, 'sklill': 1, 'afffect': 1, 'highgat': 1, 'diatal': 1, 'pupli': 1, 'hyporact': 1, 'hoock': 1, 'silvidin': 1, 'minimallli': 1, 'psl': 1, 'fecul': 1, 'subcu': 1, 'uncreas': 1, 'elctorlyt': 1, 'tranmit': 1, 'sulfadiazin': 1, 'intertrigin': 1, 'comorbid': 5, 'maculopapular': 5, 'haemolys': 1, 'silvaden': 1, 'foun': 1, 'desquamit': 1, 'sensitiv': 1, 'maliganaci': 1, 'likelyhood': 1, 'rrla': 1, 'ilw': 2, 'trachwostomi': 1, 'lazix': 1, 'ftom': 1, 'counteract': 1, 'hxhap': 1, 'rectis': 1, 'emograph': 1, 'obstruciton': 1, 'unrespos': 1, 'meetin': 2, 'lill': 1, 'newlli': 1, 'adept': 1, 'fhph': 1, 'cipd': 1, 'cavitatari': 1, 'apathet': 2, 'deceid': 1, 'neumonia': 2, 'cavi': 1, 'venitil': 2, 'reli': 3, 'mistreat': 1, 'allso': 1, 'revisu': 1, 'encourab': 1, 'fortuit': 1, 'urti': 1, 'setrt': 1, 'cidp': 1, 'guaiaic': 2, 'humolog': 1, 'conjunctivi': 1, 'painless': 1, 'freguent': 1, 'rase': 1, 'hibiclen': 2, 'scrub': 2, 'pathway': 2, 'pediatrian': 1, 'xc': 3, 'folowup': 1, 'svi': 1, 'thte': 1, 'tempropariet': 1, 'eleimin': 1, 'quadreplegia': 1, 'hemoperitoneum': 1, 'clearl': 1, 'tachytachypena': 1, 'symtomat': 2, 'psm': 1, 'stae': 1, 'frx': 1, 'bugl': 1, 'relateddt': 1, 'rheumatalog': 1, 'umcomfort': 1, 'meplix': 1, 'giardia': 1, 'ppresent': 1, 'alkpho': 3, 'notar': 1, 'shnge': 1, 'unecessari': 1, 'lungsrhocher': 1, 'prnding': 1, 'fund': 1, 'rev': 1, 'anteroinferior': 1, 'neuroforamin': 1, 'sourceunlik': 1, 'airbag': 1, 'historyand': 1, 'myelomalacia': 1, 'dtage': 1, 'neurosurg': 5, 'meningocel': 1, 'pursuit': 1, 'patc': 1, 'dispit': 1, 'notari': 1, 'tarlov': 1, 'cpao': 1, 'moonlight': 1, 'mvc': 3, 'neurosug': 1, 'bronciectesi': 1, 'orophar': 2, 'pernin': 1, 'timelin': 1, 'porit': 1, 'hemidriagphram': 1, 'ronchuou': 1, 'appopria': 1, 'alheim': 1, 'parenhcyma': 1, 'hbga': 1, 'gurgel': 1, 'macrocytosi': 1, 'snif': 3, 'antibito': 2, 'depleat': 1, 'promient': 1, 'bloodshot': 2, 'imprssion': 1, 'successfuli': 1, 'infilitr': 2, 'admisis': 1, 'gastrointenstin': 1, 'hyperlimidemia': 1, 'diaviat': 1, 'singnific': 1, 'bancemia': 1, 'multlipl': 1, 'vommit': 2, 'lnr': 1, 'downgrad': 1, 'pur': 1, 'novemeb': 1, 'unkonwn': 1, 'rcxr': 1, 'unkown': 2, 'hypetens': 1, 'tndr': 1, 'pyridium': 1, 'benc': 1, 'hypocortisol': 1, 'amyloidosi': 1, 'shigella': 1, 'samonella': 1, 'hydrocortisol': 1, 'ischmic': 1, 'transloc': 2, 'chemotherpay': 1, 'artefact': 3, 'thoracoplasti': 2, 'chnge': 1, 'circumor': 1, 'march': 2, 'postradi': 1, 'visibil': 1, 'thyromeg': 2, 'ged': 1, 'academ': 1, 'serrat': 1, 'periesophag': 1, 'breeth': 1, 'esopheg': 1, 'contend': 1, 'methehemoglobinemia': 1, 'multidisciplnari': 1, 'mwm': 2, 'arc': 1, 'juxtaren': 1, 'heaviest': 1, 'desk': 1, 'numerour': 1, 'methemoglobinemia': 1, 'cooximetri': 1, 'fume': 1, 'poteni': 1, 'suffoc': 3, 'macroscop': 1, 'avnrt': 3, 'concert': 1, 'avrt': 1, 'rebah': 1, 'asympomat': 1, 'candidiasi': 3, 'addison': 1, 'asnwer': 1, 'nortriptyllin': 1, 'entrant': 1, 'repart': 1, 'unhelp': 1, 'svcbrachiocephal': 1, 'mztb': 1, 'radiocapitellar': 1, 'congruenc': 1, 'trochlear': 1, 'differeti': 1, 'osteosclerot': 2, 'thiazid': 1, 'vnon': 1, 'jild': 1, 'rvh': 1, 'parainflu': 1, 'hypoglyecem': 1, 'withsever': 1, 'hypersensitivit': 1, 'rhf': 1, 'tuna': 2, 'stneosi': 1, 'yestderday': 1, \"alzhiemer'\": 1, 'derlium': 1, 'barret': 1, 'violenc': 1, 'stratif': 1, 'neurvascularli': 1, 'sacrific': 1, 'cirrhoit': 1, 'atm': 1, 'pilori': 1, 'bush': 1, 'retroact': 1, 'hallucinosi': 1, 'gallon': 1, 'murder': 1, 'sweatimg': 1, 'outpatietn': 1, 'sib': 1, 'bail': 1, 'robberi': 1, 'aandox': 1, 'decidedli': 1, 'benardyl': 1, 'concomitt': 1, 'stonosi': 1, 'uncharacterist': 1, 'garag': 1, 'dyspnoea': 1, 'sope': 1, 'apnoea': 1, 'talonavicular': 1, 'bkr': 2, 'enco': 1, 'crackel': 3, 'capnocytophagia': 1, 'histoplasmosi': 1, 'hypoadren': 1, 'capnocytophaga': 1, 'placeement': 1, 'hypenatremai': 1, 'hrx': 1, 'klebsiela': 1, 'elevart': 1, 'nbnb': 1, 'friction': 2, 'pneumobilia': 3, 'sweep': 1, 'aduibl': 1, 'nonbloodi': 1, 'tonsilectomi': 1, 'dil': 2, 'hemondynam': 1, 'hyporthyroid': 1, 'pasv': 2, 'privileg': 1, 'intermiitt': 1, 'fonduparinox': 1, 'cinemet': 2, 'inal': 1, 'inhaledq': 1, 'jllw': 1, 'autodiureisi': 1, 'pizzaria': 1, 'colstin': 1, 'vegetataion': 1, 'collistin': 1, 'staphylococci': 2, 'antiboiod': 1, 'colisitn': 1, 'carbacephem': 2, 'tracheosotomi': 1, 'stressor': 1, 'acinetobactor': 1, 'nit': 3, 'chane': 2, 'psotiv': 1, 'pseudoman': 1, 'acteremia': 1, 'infetcion': 1, 'amikacina': 1, 'hopspial': 1, 'detrusor': 1, 'fondaparinoux': 1, 'tagamet': 1, 'cnst': 1, 'ropirnol': 1, \"plateau'd\": 1, 'nrsa': 1, 'pvv': 1, 'compliat': 1, 'infiltrat': 1, 'unforunt': 1, 'colisitin': 1, 'tream': 1, 'bovi': 1, 'fondaparenox': 1, 'tobramcyin': 1, 'wtith': 1, 'withfev': 1, 'amakacin': 1, 'baumannii': 1, 'discount': 1, 'ariv': 1, 'hypnatremia': 1, 'patienttagamet': 1, 'effuion': 1, 'artain': 1, 'acinobact': 1, 'mayi': 1, 'fwf': 1, 'amikasin': 1, 'acenitobact': 1, 'acineterbact': 1, 'amicacin': 1, 'icub': 1, 'untll': 1, 'colisitina': 1, 'durind': 1, 'traceostomi': 1, 'bisocadyl': 1, 'fondaprinux': 1, 'aoritc': 1, 'fondapaurinox': 1, 'gegtaion': 1, 'heha': 1, 'syntrhoid': 1, 'owner': 3, 'recycl': 1, 'bovona': 1, 'eblow': 1, 'cholestasi': 4, 'creatini': 1, 'desimpact': 1, 'gpcocci': 1, 'fondaparinox': 1, 'acinitobact': 1, 'carita': 2, 'dcing': 1, 'aci': 2, \"babinksi'\": 1, 'wherebi': 2, 'tachypnc': 1, 'hat': 1, 'copnt': 1, 'panscan': 1, 'rhocnhor': 1, 'micor': 1, 'clacium': 1, 'veggi': 1, 'moliz': 1, 'levidopa': 1, 'requip': 1, 'fondaparinux': 1, 'hemodynamm': 1, 'fondoparinaux': 1, 'anasrca': 1, 'fondaparineux': 1, 'hypotenst': 1, 'antiparkinsonian': 1, 'cimetidin': 1, 'sill': 1, 'perid': 1, 'restaur': 2, 'colestin': 1, 'aggess': 1, 'recult': 1, 'ropinirol': 1, 'toxicitiy': 1, 'heidiaph': 1, 'carbapenem': 4, 'debulk': 1, 'vast': 1, 'expansil': 1, 'chrome': 1, 'movent': 1, 'limitng': 1, 'atmosair': 1, 'morohin': 1, 'meriplex': 1, 'mutipodu': 1, 'tricompartment': 1, 'glucomet': 2, 'bronchoesophag': 1, 'emiss': 2, 'entesophyt': 1, 'esophagotrach': 1, 'salivari': 2, 'ostearthr': 1, 'fluorodeoxyglucos': 2, 'fistu': 1, 'suvmax': 1, 'fistual': 1, 'enthesopathi': 1, 'pave': 1, 'fibros': 2, 'precent': 1, 'organz': 1, 'mensenter': 1, 'maxiallari': 1, 'ucr': 1, 'linsinopril': 1, 'siahd': 1, 'sreat': 1, 'noectopi': 1, 'remina': 1, 'vavlular': 1, 'seroqeil': 1, 'unaoutput': 1, 'diaphgragm': 1, 'biplanar': 1, 'uninterrupt': 2, 'thoroughli': 2, 'teenag': 1, 'incongru': 1, 'appeal': 2, 'mess': 1, 'modear': 1, 'hypxoem': 1, 'cultr': 1, 'cortsintropin': 1, 'ethomid': 1, 'pmc': 1, 'concerntrt': 1, 'siad': 1, 'ritonivir': 1, 'spreadsheet': 1, 'imped': 3, 'hepatotox': 2, 'qwk': 1, 'mirror': 1, 'monocytosi': 1, 'brnch': 1, 'crti': 1, 'adedd': 1, 'psychic': 1, 'quietipin': 1, 'folllw': 2, 'improvo': 1, 'mehtoadon': 1, 'woirsenign': 1, 'kollef': 1, 'respind': 1, 'interdispers': 1, 'lminim': 1, 'throuhg': 1, 'mildili': 1, 'tachycrad': 1, 'osmolar': 2, 'qualit': 1, 'serquel': 1, 'blackberri': 2, 'alphabet': 2, 'hypothesi': 1, 'downmini': 1, 'wahs': 1, 'tmask': 1, 'satisfi': 3, 'gungal': 1, 'quetapin': 1, 'pharmacokinet': 1, 'ceil': 1, 'prefus': 1, 'transaminti': 1, '^^sedat': 1, 'propylen': 1, 'autopeep': 3, 'malox': 1, 'clother': 1, 'inftrat': 1, 'uosm': 1, 'cumul': 1, 'ptbd': 1, 'wihen': 1, 'miniz': 1, 'pvm': 1, 'bicrab': 1, 'anit': 1, 'bou': 1, 'breakthough': 1, 'ballot': 1, 'ssdi': 1, 'bristl': 1, 'roadblock': 1, 'decruit': 1, 'sedation^': 1, 'xcr': 1, 'stillrequir': 1, 'mpove': 1, 'predat': 1, 'crae': 1, 'trednign': 1, 'orophargyng': 1, 'quietiapin': 1, 'hm': 1, 'brinch': 1, 'thearapi': 1, 'prepylor': 1, 'human': 5, 'phenyephrin': 2, 'mpore': 1, 'butopen': 1, 'solvent': 1, 'cholangiopathi': 1, 'reliv': 1, 'snort': 2, 'darunovir': 1, 'tandem': 1, 'fastest': 1, 'liais': 1, 'msm': 1, 'surreal': 1, 'revela': 1, 'choli': 1, 'qweekli': 1, 'fior': 1, 'duploff': 1, 'restabil': 1, 'groggi': 1, 'intertwin': 1, 'freshli': 1, 'addednum': 1, 'sedationd': 1, 'ucl': 1, 'dexder': 1, 'affer': 2, 'gurgli': 1, 'attritub': 1, 'pedifeed': 1, 'bolusof': 1, 'emtricitabin': 1, 'lipemia': 1, 'seroqeul': 1, 'faqilur': 1, 'minib': 3, 'mout': 1, 'onboard': 1, 'phynelephrin': 1, 'truvada': 1, 'darunavir': 1, 'hepain': 1, 'peliv': 1, 'mulifoc': 1, 'iniit': 1, 'dysyncroni': 1, 'murumur': 1, 'swtich': 2, 'furrow': 1, 'phtsical': 1, 'epeatedli': 1, 'weaningfrom': 1, 'pneumobooot': 1, 'yawn': 3, 'methylprednisilon': 1, 'propogol': 1, 'lnare': 1, 'coxiella': 1, 'nape': 1, 'targetd': 1, 'cessast': 1, 'parencyhyma': 1, 'img': 1, 'anxiion': 1, 'overf': 1, 'transillumin': 1, 'paraly': 1, 'rhocncher': 2, 'faiilur': 1, 'retd': 1, 'sap': 1, 'frighted': 1, 'resolved': 1, 'resight': 1, 'scitch': 1, 'yesterdav': 1, 'brow': 1, 'lcsw': 5, 'seratralin': 1, 'rohila': 2, 'tranamin': 1, 'apprecci': 1, 'lcmv': 1, 'mypathi': 1, \"we'll\": 1, 'medazolam': 1, 'hsould': 1, 'psychotherapi': 4, 'gulactomannan': 1, 'imageri': 1, 'meropenen': 1, 'babesia': 1, 'aspergil': 1, 'errythemat': 1, 'orgin': 1, 'nonerythemat': 1, 'hydrocortinson': 1, 'stoop': 2, 'dv': 1, 'swich': 2, 'antimicorbi': 1, 'crical': 1, 'morp': 1, 'forhead': 1, 'outweight': 2, 'shop': 2, 'pie': 1, 'expi': 1, 'newspap': 1, 'sweeti': 1, 'grandneic': 1, 'kneel': 1, 'rvat': 1, 'tsurg': 2, 'osbstruct': 1, 'volvodynia': 1, 'paracardiac': 1, 'miniamlli': 1, 'tachyarrhythmia': 3, 'pyogen': 1, 'contineud': 2, 'apapc': 1, 'prnumonia': 1, 'anouth': 1, 'tessolan': 1, 'hypomagnesemia': 2, 'infilttr': 1, 'infiltrt': 1, 'ceftiaxon': 2, 'plurit': 1, 'saat': 1, 'infliltr': 1, 'ijpn': 1, 'hyperlink': 1, 'normalcj': 1, 'trpnpu': 1, 'nect': 1, 'subclavain': 1, \"'worddocu\": 1, 'cd|b': 1, 'kdi': 1, 'kda': 1, 'wfrwcw': 1, 'secretit': 1, 'adipos': 1, 'o^o^o': 1, 'cdefghijklmnopqrstuvwxyz': 1, 'drt': 1, 'modular': 2, 'abcdefghijklmnopqr': 1, 'tihr': 1, 'cjojqj^jajnutren': 1, 'pcompobj': 1, 'jf': 1, 'vvvvv': 1, 'rebronch': 1, 'ajmhsh': 1, 'vancomydin': 1, 'hajmh': 1, 'abcdefghij': 1, 'versedt': 1, 'increasd': 1, 'cjojqj^jaju': 1, 'ddefault': 1, 'ahsd': 1, 'jkdb': 1, 'posisbl': 1, 'micolozol': 1, 'auvst': 1, 'galactomannin': 1, 'kdc': 1, 'closemod': 1, 'atuhi|': 1, \"hct'\": 1, 'cjojqj^jajc': 1, 'omkikmkkdgd': 1, 'lotrimen': 1, 'cjojqjuv^jajh': 1, 'vtabl': 1, '^m': 1, 'tachypniec': 1, 'msworddocword': 1, 'vn': 1, 'je': 1, 'gqu': 1, 'printmod': 1, 'ethmod': 1, 'epidosd': 1, 'abdb': 1, 'vvvv': 1, 'fmicrosoft': 1, 'imd': 1, 'canin': 1, 'secrtetit': 1, 'tuvwxyz': 1, 'pow': 1, 'bakc': 1, 'fontvi': 1, 'ksim': 1, 'cepapim': 1, 'aho': 1, 'jk': 2, 'histor': 1, 'premolar': 1, 'clotrimizol': 1, 'djwbkti': 1, 'totachypnea': 1, 'paragraph': 1, 'j^': 1, 'lpd': 1, 'fkda': 1, 'versioneditnotestatustemplateidautologout': 1, 'bjbj': 1, 'cytomegaloviru': 4, 'anbpz': 1, 'aui': 1, 'crxbcklrv|': 1, 'diuriesi': 1, 'maxillay': 1, '^jajmhnhu': 1, 'noteparentid': 1, 'kdm': 1, 'xdlt': 1, 'rredden': 1, 'abcdelmop': 1, 'vasodialtori': 1, 'promethazin': 1, 'noroviru': 2, 'bmv': 1, 'utox': 2, 'specturm': 1, 'hemoli': 1, 'sicker': 1, 'vanvo': 2, 'virul': 1, 'ki': 1, 'kartagen': 1, \"kartagener'\": 1, 'dextrocardia': 1, 'inversu': 1, 'commonli': 2, 'exacerabt': 1, 'levoscoliosi': 1, 'kkaliannan': 1, 'earliest': 2, 'topogram': 1, 'mdcta': 1, 'lumber': 1, 'conmsist': 1, 'suspic': 1, 'omniflush': 2, 'bentson': 2, 'glioblastoma': 1, 'intraves': 1, 'bloom': 1, 'gliobastoma': 1, 'arctic': 1, 'posttreat': 1, 'bevacizumab': 1, 'ventriculostomi': 3, 'commissur': 1, 'panlobular': 1, 'hemosiderin': 2, 'pleuritc': 1, 'uniqu': 1, 'rani': 1, 'despoit': 1, 'nonehmorrhag': 1, 'bilari': 1, 'biloma': 1, 'periprocedur': 1, 'mutter': 1, 'nonhogdekin': 1, 'femalw': 1, 'peera': 1, 'cholersterol': 1, 'disinhibit': 1, 'babbl': 1, 'opacu': 1, 'herril': 1, 'anzythromycin': 1, 'legonella': 1, 'fol': 1, 'azitho': 1, 'civil': 1, 'varieti': 5, 'outpit': 1, 'urobiligen': 1, 'reequilibr': 2, 'exercs': 1, 'bacturia': 3, 'bacteriruia': 1, 'cefedim': 1, 'bruic': 1, 'persian': 1, 'merlgia': 1, 'sputrum': 1, 'saltin': 1, 'beep': 2, 'ifp': 1, 'tussiv': 1, 'laterdo': 1, 'nurns': 1, 'mislead': 1, 'dysnchron': 1, 'meralgia': 1, 'dysmorph': 1, 'spkem': 1, 'skirt': 1, 'subsequen': 1, 'nvalid': 1, 'anteriro': 1, 'parasthetica': 1, 'transffr': 1, 'mucumyst': 1, 'oclac': 1, 'parethetica': 1, 'guanefisin': 1, 'microscop': 2, 'boundari': 1, 'tarc': 1, 'discontiu': 1, 'afrebil': 1, 'qbedtim': 1, 'guafenassin': 1, 'diffenti': 1, 'avanc': 1, 'immed': 1, 'farsai': 1, 'critlcal': 1, 'ngativ': 1, 'urobilin': 1, 'barrir': 1, 'tli': 1, 'prodict': 1, 'bacteriuria': 1, 'cna': 1, 'methyl': 2, 'cogent': 1, 'guifenasin': 1, 'calor': 2, 'ive': 1, 'exten': 1, 'diverticulsi': 1, 'paresthetica': 1, 'reset': 1, 'resort': 1, 'concord': 1, 'abrat': 1, 'meniscectomi': 1, 'ostial': 2, 'timi': 1, 'rewarm': 1, 'aysmmetri': 1, 'otic': 1, 'rhonor': 1, 'ciloxan': 1, 'mucuou': 1, 'cotnineu': 1, 'euvolum': 1, 'supratherapuet': 1, 'arthrosclerot': 1, 'metases': 1, 'appx': 1, 'atttemp': 1, 'dicontinu': 1, 'cholangiocarcinoma': 1, 'nother': 1, 'pericod': 1, 'unlcear': 1, 'cmpathi': 1, 'arr': 1, 'hypervolum': 1, 'faliur': 1, 'insepar': 1, 'pyelo': 2, 'quadrigemin': 1, 'transvagin': 1, 'rump': 1, 'gestat': 1, 'perigest': 1, 'intrauterin': 1, 'pregnanc': 2, 'transabdomin': 2, 'referenc': 1, 'delet': 1, 'gasteau': 1, 'chromosom': 1, 'gastaut': 1, 'sbi': 1, 'subopitm': 1, 'hypopkinesi': 1, 'anteromedi': 2, 'transposit': 1, 'ffnding': 1, 'uncoopr': 1, 'hollow': 1, 'patientpenicillin': 2, 'plax': 1, 'sax': 1, 'axe': 2, 'magnesia': 5, 'dipo': 1, 'frost': 1, 'tempsiv': 1, 'whichi': 1, 'sucat': 1, 'inturpetur': 1, 'hemidi': 1, 'crcl': 1, 'incessantli': 1, 'sacram': 1, 'respositon': 1, 'cefalosporin': 1, 'arcu': 1, 'cholinesteras': 1, 'speka': 1, 'sensitivti': 1, 'hyrdatoinwith': 1, 'hypopho': 1, 'contantli': 1, 'unintellig': 3, 'perinueum': 1, 'rspons': 1, 'lasxi': 1, 'hctof': 1, 'annunci': 1, 'henodynam': 1, 'senili': 1, 'trocar': 1, 'breathhold': 1, 'kkaliann': 2, 'isoecho': 1, 'viii': 1, 'gun': 1, 'infratentori': 1, 'onsit': 1, 'prove': 1, 'neprologost': 1, 'prieiou': 1, 'polycyst': 1, 'likelyt': 1, 'prismas': 1, 'cpnsult': 1, 'thoracenthesi': 1, 'ronchii': 1, 'mitodrin': 1, 'postfilt': 1, 'diuoderm': 1, 'linezold': 1, 'immens': 1, 'chevron': 1, 'malnutritrion': 1, 'rescu': 1, 'autosom': 1, 'sifnific': 1, 'duderm': 1, 'wopman': 1, 'currentl': 1, 'dupplex': 1, 'pcld': 1, 'ligthli': 1, 'spongett': 2, 'overfeed': 3, 'periop': 3, 'effusdion': 1, 'pckd': 1, 'mero': 1, 'hliv': 1, 'prefilt': 1, 'pblm': 1, 'tranplant': 1, 'bipsi': 1, 'vean': 1, 'ingrow': 1, 'coapt': 1, 'venopunctur': 2, 'uncement': 1, 'teamunabel': 1, 'possil': 1, 'sectionsclip': 1, 'undisplac': 1, 'pacement': 1, 'vei': 1, 'demat': 1, 'hemodynaimc': 1, 'toxicolog': 3, 'resusci': 1, 'astound': 1, 'withb': 1, 'hyperlycemia': 1, 'cefeim': 1, 'frequenti': 1, 'huumalong': 1, 'diluat': 1, 'calcifion': 1, 'enucl': 1, 'perplex': 2, 'similiar': 1, 'menigit': 1, 'nucchal': 1, 'checkstool': 1, 'meningit': 2, 'explana': 1, 'cephalomalacia': 1, 'dulcolox': 1, 'starvat': 2, 'ketosi': 1, 'methylnaltraxon': 1, 'biweekli': 1, 'uptrend': 1, 'uation': 1, 'topamax': 2, 'svce': 2, 'alththough': 1, 'underfe': 2, 'ouch': 1, 'notabley': 1, 'provgigil': 1, 'valproat': 1, 'topimax': 1, 'manaul': 1, 'sugeri': 2, 'hypopotassemia': 1, 'frap': 1, 'seqeunc': 1, 'appeard': 1, 'myxedema': 1, 'respiratoy': 2, 'blueberri': 1, 'provigil': 1, 'nonspec': 1, 'crap': 1, 'innappri': 1, 'triglyericd': 1, 'topiram': 2, \"'re\": 1, 'sprinkl': 1, 'wakekup': 1, 'ato': 1, 'chlorosept': 1, 'caregroup': 1, 'subcrit': 1, 'cghc': 1, 'ocnsid': 1, 'critial': 1, 'partway': 1, 'minimz': 1, 'enterocol': 1, 'equilib': 1, 'cardioembol': 1, 'dilitiazem': 1, 'lasixc': 1, 'addiiton': 1, 'confound': 1, 'requilibri': 1, 'dissimilar': 1, 'indistinguish': 1, 'hemorrhoidectomi': 1, 'dietitian': 1, 'dysambul': 1, 'checkbook': 1, 'hsl': 1, 'urologist': 1, 'ritilan': 1, 'ubw': 2, 'fbmp': 1, 'vom': 1, 'psychopharm': 1, 'propolol': 1, 'pessi': 1, 'lenezolid': 1, 'defalt': 1, 'labtap': 1, 'dexm': 1, 'impir': 1, 'cacecth': 1, 'sprint': 2, 'pnm': 1, 'mysteri': 1, 'drrock': 1, 'ecanazol': 1, 'sidenafil': 1, 'anxiolysi': 1, 'dor': 1, 'entrap': 1, 'perrir': 1, 'vibrat': 2, 'throracentesi': 1, 'brielli': 1, 'papul': 2, 'tedium': 1, 'interspers': 2, 'intiub': 1, 'jungian': 1, 'ethmoidali': 1, 'triamcinolin': 1, 'psychotherapist': 1, 'rrin': 1, 'reexamin': 2, 'txt': 1, 'thoracentes': 1, 'milkshak': 2, 'errand': 1, 'eater': 1, 'corazepan': 1, 'electrolyet': 1, 'reigimen': 1, 'colas': 1, 'barorauma': 1, 'cutaen': 1, 'analyst': 1, 'thoracantesi': 1, 'aurv': 1, 'haemophilu': 1, 'thoracensi': 1, 'fovea': 1, 'peribronchovasc': 1, 'randitin': 1, 'enterococci': 1, 'pip^^': 1, 'prosac': 1, 'vasodialtor': 1, 'tachyp': 1, 'slidenafil': 1, \"cib'\": 1, 'previs': 2, 'stoic': 1, 'mull': 1, 'tchypnic': 1, 'editor': 1, 'evaluatw': 1, 'manometri': 1, 'mgbld': 1, 'peco': 1, 'psychologist': 1, 'calmin': 1, 'snu': 1, 'cholecystisit': 1, 'xfuse': 1, 'geodon': 1, 'ventilatit': 1, 'albican': 2, 'eosinophillia': 1, 'fuel': 1, 'feedng': 1, 'treatabl': 2, 'multivit': 2, 'incorrectli': 1, 'blucan': 1, 'rind': 1, 'lasdyt': 1, 'abraid': 1, 'hypoallergen': 1, 'tirtrat': 1, 'peribroncholar': 1, 'hint': 1, 'nutropho': 1, 'casemgmt': 1, 'sliglhtli': 1, 'unbleach': 1, 'psychopharmocolog': 1, 'murki': 1, 'radiol': 1, 'comfotali': 1, 'irrtiat': 1, 'plseval': 1, 'trazadonea': 1, 'precautionari': 1, 'mwedic': 1, 'freelanc': 1, 'achieiv': 1, 'venit': 1, 'uvolemia': 1, 'iloson': 1, 'saquinavir': 1, 'intercos': 1, 'afp': 1, 'amountsof': 1, 'estol': 1, 'koh': 1, 'remedi': 1, 'repositin': 1, 'amyotroph': 1, 'devlop': 1, 'cenral': 1, 'alf': 2, 'cephlic': 1, 'myelolysi': 1, 'xct': 1, 'dexter': 2, 'plf': 1, 'dulcoloax': 1, 'presurg': 1, 'lsca': 1, '^cre': 1, 'ecasa': 1, 'mmg': 1, 'inquiz': 1, 'tumb': 1, 'mindo': 1, 'cpbt': 1, 'polyval': 2, 'ilu': 1, 'upc': 2, 'rafib': 1, 'closureat': 1, 'mue': 2, 'epic': 1, 'task': 2, 'adeuat': 1, 'pulmoray': 1, 'attn': 1, 'orthonpea': 1, 'arom': 1, 'kefzol': 1, 'indescret': 1, 'milranon': 1, 'diert': 1, 'bradykinesia': 1, 'createn': 1, 'mepalex': 1, 'tympanit': 1, 'girth': 1, 'turbin': 1, 'coac': 1, 'senit': 1, 'parplegia': 1, 'uco': 1, 'packyear': 1, 'augementin': 1, 'discontd': 1, 'solument': 1, 'lasixd': 1, 'agenda': 1, 'citrobact': 1, 'citrobactor': 1, 'oxybutnin': 1, 'compliact': 1, 'inexsuffal': 1, 'gentamyin': 1, 'addntl': 1, 'akskasj': 1, 'freundii': 1, 'basesabg': 1, 'explant': 1, 'deinf': 1, 'arytenoid': 1, 'cae': 1, 'autodiurs': 1, 'alkalod': 1, 'qafternoon': 1, 'imroov': 1, 'prevsiou': 1, 'chlorthiadon': 1, 'placemen': 1, 'masspro': 1, 'schd': 2, 'beselin': 1, 'insufl': 1, 'binocular': 1, 'nephtotoxin': 1, 'repositionpt': 1, 'iam': 1, 'bur': 1, 'flouroquinolon': 1, 'unreport': 1, 'tittrat': 1, 'systemat': 1, 'reistant': 1, 'proprol': 1, 'chlorthalidon': 1, 'wmay': 1, 'andxiou': 1, 'oxycoceon': 1, 'loer': 1, 'notablw': 1, 'arthir': 1, 'ntx': 2, 'tamilfu': 1, 'velopharyng': 1, 'aryepiglott': 1, 'unclean': 1, 'rept': 1, 'fluroquinolon': 2, 'xpeep': 1, 'angiti': 1, 'collis': 2, 'hytpertens': 1, 'turnaround': 1, 'ketalac': 1, 'sevret': 1, 'minimla': 1, 'floppi': 1, 'porpofol': 1, 'understan': 1, 'presidex': 1, 'levph': 1, 'fai': 1, 'preferr': 1, 'hctat': 1, 'klonipen': 1, 'wetter': 1, 'chlortahlidon': 1, 'symptathet': 1, 'reitub': 1, 'unobstruct': 1, 'appeasr': 1, 'tympanet': 2, 'soputum': 1, 'seoncdray': 1, 'suctionnig': 1, 'hyperfus': 1, 'systolicali': 1, 'delat': 1, 'hyrdalazin': 1, 'llleffus': 1, 'nafficillin': 1, 'viusliz': 1, 'vasculopath': 1, 'relart': 1, 'cmmaureen': 1, 'vanomycin': 1, 'pede': 1, 'eucerin': 1, 'tansient': 1, 'albuminemia': 1, 'respira': 1, 'semiloos': 1, 'upop': 1, 'hower': 1, 'probiot': 1, 'trunkal': 1, 'monitoir': 1, 'misconcept': 1, 'hydrocerin': 1, 'conditon': 1, 'accetp': 1, 'ertyhemat': 1, 'shoift': 1, 'mnot': 1, 'infutur': 1, 'msn': 1, 'intrvascular': 1, 'gmmg': 1, 'contribnut': 1, 'dsay': 1, 'gmca': 1, 'moniotir': 1, 'aroud': 1, 'lactobacillu': 3, 'cefipm': 1, 'contt': 1, 'eysterday': 1, 'descquamatin': 1, 'conscent': 1, 'fenatnyl': 1, 'derma': 1, 'spontanes': 1, 'overdistent': 1, 'sett': 2, 'eucarin': 1, 'sto': 1, 'monitir': 1, 'vential': 1, 'trolyt': 1, 'conern': 1, 'tors': 1, 'unalb': 1, 'uncompromis': 1, 'rete': 1, 'howevr': 1, 'yedterday': 1, 'aesthesia': 1, 'mgsulf': 1, 'hemid': 1, 'exfoli': 1, 'consisten': 1, 'specific': 1, 'ocmv': 1, 'elec': 1, 'lifelong': 1, 'fluricason': 1, 'bromchial': 1, 'sufflat': 1, 'serotyp': 2, 'propriat': 1, 'malig': 2, 'mirtazepin': 2, 'colc': 1, 'cacet': 1, 'sherriff': 1, 'methypr': 1, 'multivitiamin': 1, 'methpr': 1, 'interdigit': 2, 'eft': 1, 'wheze': 1, 'grnd': 1, 'exotropia': 1, 'movementx': 1, 'amand': 1, 'zosym': 1, 'enzymat': 1, 'gstain': 1, 'broncu': 1, 'largevolum': 1, 'plau': 1, 'commensur': 2, \"ble'\": 2, 'apprear': 1, 'idid': 1, 'toasess': 1, 'npleas': 1, 'kernel': 3, 'midazalam': 1, 'immuno': 1, 'globulin': 1, 'bandermia': 1, 'contramin': 1, 'bias': 1, 'nonprogress': 2, 'shear': 1, 'amikican': 1, 'protacol': 1, 'decubi': 2, 'gravitiy': 1, 'hemodiaylsi': 1, 'trigemineni': 1, 'omin': 1, 'anitcoag': 1, 'envioron': 1, 'allyvn': 1, 'responsiv': 1, 'math': 1, 'abluterol': 1, 'multifactoir': 1, 'meropenom': 1, 'flexocel': 1, 'dermatom': 1, 'recoment': 1, 'cytogenet': 1, 'obliteraion': 1, 'vastcular': 1, 'lympoma': 1, 'palpitaiton': 1, 'malt': 1, 'fxnal': 1, 'paradoxu': 2, 'tapin': 1, 'anioplasti': 1, 'pleurex': 2, 'additioanlli': 1, 'terrifi': 1, 'ddi': 1, 'revsion': 1, 'lymphoplasmoct': 1, 'reprogram': 1, 'satellit': 2, 'hypotn': 2, 'renali': 1, 'wakler': 1, 'lymphoid': 1, 'clote': 1, 'sash': 1, 'persuad': 1, 'slack': 1, 'parodoxu': 1, 'hypercalcem': 1, 'dbcd': 1, 'etio': 2, 'levsin': 1, 'hemiparet': 1, 'rhoncouru': 1, 'anticoaul': 1, 'jplacement': 1, 'incras': 1, 'refin': 3, 'gk': 1, 'flexeril': 1, 'murphi': 1, 'doxylam': 1, 'cyclobenzaprin': 1, 'amn': 1, 'acetaminoph': 1, 'signfiic': 1, 'hemangiomata': 1, 'pneuonia': 1, 'mantain': 2, 'pgr': 1, 'bochdalek': 1, 'brachicephal': 1, 'pulsat': 1, 'phenobard': 1, 'usa': 2, 'farenheit': 1, 'hepatotoxi': 1, 'contimin': 1, 'consul': 2, 'meningid': 1, 'sectrion': 1, 'player': 1, 'neisseiria': 1, 'pineal': 2, 'accru': 1, 'neisseria': 1, 'babinski': 1, 'pgtube': 1, 'dialect': 1, 'meningitidi': 1, 'poba': 1, 'ooob': 1, 'reactant': 2, 'mute': 1, 'icc': 1, 'ppeg': 1, 'cmpi': 1, 'dispers': 1, 'normalwithout': 1, \"dep't\": 1, 'palvix': 1, 'reimburs': 1, 'hindi': 1, 'cite': 1, 'fould': 1, 'compos': 1, 'prx': 1, 'stiffman': 1, 'hpyotens': 1, 'somnel': 1, 'instabilti': 1, 'anaphi': 1, 'musckl': 1, 'dizepam': 1, 'hempotysi': 1, 'buproprion': 1, 'hemopysi': 1, 'tablespoon': 2, 'tussilon': 1, 'african': 1, 'magarw': 2, 'intraparenchyma': 1, 'concuss': 1, 'chadashvili': 1, \"it'\": 1, 'txcf': 1, 'preview': 1, 'pnemothorax': 1, 'hemopneumatocyst': 1, 'peripartum': 1, 'shorntess': 1, 'concomitantli': 1, 'lumpect': 1, 'fnh': 2, 'subfalcin': 1, 'rmca': 1, 'szm': 1, 'falcin': 1, 'lymphomat': 1, 'ischium': 1, 'preoccupi': 1, 'trabecular': 1, 'dminant': 1, 'appearsto': 1, 'masslik': 1, 'familu': 1, 'miscommun': 1, 'aformet': 1, 'zyprex': 1, 'clavic': 1, 'ablil': 1, 'attebnd': 1, 'yogart': 1, 'ceftra': 1, 'fulconazol': 1, 'obta': 1, 'aiway': 1, 'exbuat': 1, 'majorli': 1, 'celsiu': 1, 'nutritin': 1, 'hac': 1, 'periumbil': 2, 'miconzol': 1, 'taccypn': 2, 'includec': 1, 'persistec': 1, 'quikli': 1, 'lacross': 1, 'adjit': 1, 'fuconazol': 1, 'periextub': 1, 'bronchosocpi': 1, 'lpicc': 1, 'shiift': 1, 'triat': 1, 'normotensv': 1, 'cot': 1, 'simethacon': 1, 'dorm': 1, 'cextriaxon': 1, 'maineten': 1, 'dyspnia': 1, 'navalbin': 1, 'malai': 1, 'backgroun': 1, 'pyuria': 3, 'bipass': 1, 'immunochromogen': 1, 'nopain': 1, 'patientlipitor': 1, 'hgba': 2, 'rjab': 2, 'perifoc': 1, 'transcrib': 1, 'blend': 1, 'woren': 1, 'calenadar': 1, 'ventliat': 1, 'explicitli': 2, 'diffiulti': 1, 'miralex': 1, 'lethal': 1, 'anesthia': 1, 'hfm': 1, 'suv': 2, 'mel': 1, 'incur': 1, 'tonsillectomi': 1, 'pnuemon': 1, 'excert': 1, 'gingiv': 1, 'voluem': 1, 'etoposid': 1, 'ataxia': 2, 'miarlex': 1, 'hopitilaz': 1, 'broaod': 1, 'comensur': 1, 'gound': 1, 'philosophi': 1, 'heparinoid': 1, 'withtout': 1, 'rchf': 1, 'sympathi': 1, 'losmap': 1, 'starl': 1, 'intestiti': 1, 'presacr': 1, 'ostia': 1, 'situationclip': 1, 'pnaeumomia': 1, 'tolterodin': 1, 'ctc': 1, 'intracerebellar': 1, 'optison': 3, 'periampullari': 1, 'proximmali': 1, 'oncern': 1, 'downhil': 1, 'omezprazol': 1, 'lethari': 1, 'udomona': 1, 'isoton': 1, 'pse': 1, 'setti': 1, 'nere': 1, 'asso': 1, 'amputaton': 1, 'rag': 1, 'earlyy': 1, 'misestim': 1, 'delierum': 1, \"alzheimer'\": 1, 'inpneumonia': 1, 'seropquel': 1, 'carvidolol': 1, 'grapefruit': 1, 'proteinac': 2, 'asm': 1, 'nausa': 1, 'mrcp': 2, 'repositioningof': 1, 'pretracha': 1, 'craniocerv': 1, 'brodoefel': 1, 'scleroderma': 2, 'deveat': 1, 'iac': 1, 'pharaynx': 1, 'fascial': 1, 'resolu': 1, 'recol': 1, 'drainaig': 1, 'pulmona': 1, 'precentr': 1, 'ctp': 1, 'mtt': 1, 'rkcb': 2, 'highlight': 1, 'unhappi': 1, 'defeat': 1, 'aftet': 2, 'diconstinu': 1, 'discouragr': 1, 'gratitud': 1, 'renarrow': 1, 'cefe': 1, 'acknowledeg': 1, 'ronchouru': 1, 'combat': 1, 'mirabili': 1, 'pneumotosi': 1, 'mbi': 1, 'subglot': 1, 'consenu': 1, 'acidem': 1, 'drag': 1, 'supratheraopeut': 1, 'worsesn': 1, 'isosourc': 2, 'olgivi': 1, 'aphagia': 1, 'meplex': 1, 'olgilvi': 1, 'outreach': 1, 'precut': 1, 'pericari': 1, 'hisoto': 1, 'ramitidin': 1, 'aminsom': 1, 'oseltamivr': 1, 'itraconazol': 1, 'opaticit': 1, 'keayxal': 1, 'aluminium': 1, 'lansprazol': 1, 'sural': 1, 'dff': 1, 'mgd': 1, 'maibor': 1, 'tachypnoea': 1, 'wjll': 1, 'guaifenisen': 1, 'sensitivitei': 1, 'afl': 1, 'gauic': 1, 'athough': 1, 'mold': 2, 'cholecyts': 1, 'canc': 1, 'dermatotomi': 1, 'andmoist': 1, 'ccv': 1, \"le'\": 1, 'tosay': 1, 'gerontolog': 2, 'advanbc': 1, 'cavaatri': 1, 'voicemail': 1, 'circardian': 1, 'aluminum': 1, 'hydrox': 1, 'prussur': 1, 'maxillori': 1, 'denerv': 1, 'speicat': 1, 'muffl': 1, 'difficl': 1, 'hyperphophatemia': 1, 'leukocyto': 1, 'consold': 1, 'olu': 1, 'patientzosyn': 1, 'sevalem': 1, 'aloud': 1, 'hypoterm': 1, 'lansoprosol': 1, 'incom': 1, 'doff': 1, 'benterobact': 1, 'cholecystisi': 1, 'aspirgillu': 1, 'phelobotomi': 1, 'encouragec': 1, 'insilun': 1, 'electromyographi': 1, 'fespiratori': 1, 'procedurel': 1, 'lidaocain': 1, 'tnd': 1, 'cvhh': 1, 'signiticantli': 1, 'oscil': 1, 'resolev': 1, 'apn': 1, 'influenz': 2, 'elat': 1, 'commnd': 1, 'tobro': 1, 'pleae': 1, '^sedat': 1, 'cammnd': 1, 'rneal': 1, 'tunel': 1, 'straigh': 1, 'swine': 1, 'rhab': 1, 'lund': 1, 'panlobar': 1, 'treshold': 1, 'trachestomi': 1, 'hypnot': 1, 'cerruloplasmin': 1, 'transist': 1, 'unspeci': 1, 'cxx': 1, 'bradycardi': 1, 'inaud': 1, 'abbx': 1, 'buckl': 2, 'intermediari': 1, 'lidocaint': 1, 'dexreas': 1, 'consolidationi': 1, 'lovul': 1, 'steepli': 1, 'preval': 1, 'monasteri': 1, 'zygoma': 1, 'disshelvel': 1, 'wooden': 1, 'billroth': 1, 'bibsilar': 1, 'undistend': 1, 'vagotomi': 1, 'goo': 1, 'fisula': 1, 'pelvicalic': 1, 'upstream': 1, 'psbo': 1, 'antrectomi': 1, 'oversewn': 1, 'colorect': 1, 'contingu': 1, 'macrobid': 1, 'dieat': 1, 'meniscu': 1, 'emypema': 1, 'prostatomegali': 1, 'oment': 1, 'uncin': 1, 'ano': 2, 'gastroenterostomi': 1, 'epiphren': 1, 'ccontinu': 1, 'awka': 1, 'rxt': 1, 'angigoraphi': 1, 'rteam': 1, 'iniat': 1, 'beceaus': 1, 'abiopsi': 1, 'wenchbach': 1, 'dependen': 1, 'rsi': 1, 'nscl': 1, 'grumpi': 1, 'insufficieni': 1, 'pallit': 1, 'xanthalesma': 2, 'coronori': 1, 'queani': 1, 'commmun': 1, 'datasheet': 1, 'undecid': 1, 'agr': 1, 'monophon': 2, 'rast': 1, 'musculoskel': 1, 'neosinephrin': 1, 'metolazin': 1, 'sessioin': 1, 'celtic': 1, 'drinkl': 1, 'quenn': 1, 'invovl': 2, 'necessri': 1, 'subconjuctiv': 1, 'pneumoectomi': 1, 'consultatoin': 1, 'queen': 1, 'monitror': 1, 'metolamin': 1, 'gvh': 1, 'paraceliac': 1, 'cin': 1, 'actinomycosi': 1, 'lmca': 1, 'microadenoma': 1, 'subconjunctiv': 1, 'pronosi': 1, 'ransfer': 1, 'rvedp': 1, 'zaroxylin': 1, 'ccfree': 1, 'atorva': 1, 'nicknam': 1, 'actinomyc': 1, 'sysolt': 1, 'extubalt': 1, 'ascul': 1, 'percentag': 1, 'medisastinoscopi': 1, 'bacillu': 2, 'pneumectomi': 1, 'nsmall': 1, 'nay': 1, 'testicular': 2, 'examinedv': 1, 'mediastinoscopi': 2, 'hypofunct': 1, 'queeni': 1, 'scopolimin': 1, 'rhilar': 1, 'withot': 1, 'porb': 1, 'wsasstent': 1, 'ttherapi': 1, 'iimpress': 1, 'supplment': 2, 'paciti': 1, 'singific': 1, 'llnp': 1, 'hypotenisv': 1, 'pathophysiolog': 2, 'tatient': 1, 'bhc': 1, 'adentul': 1, 'absens': 1, 'nasophargyng': 1, 'feder': 1, 'biphenotyp': 1, 'indewpend': 1, 'caphosol': 1, 'interlaminar': 1, 'accredo': 1, 'medco': 1, 'galleria': 1, 'poorer': 1, 'patho': 1, 'retail': 2, 'bcb': 1, 'leukem': 1, 'tenabl': 1, 'neutrpeni': 1, 'ppo': 1, 'dinitrit': 1, 'gerim': 1, 'reinfors': 1, 'isodil': 1, 'deficet': 1, 'fequenc': 1, 'hazzard': 1, 'vot': 1, 'echhymosi': 1, 'demonstrat': 1, 'cefpodox': 1, 'eicu': 1, 'capg': 1, 'monintor': 1, 'grandduaght': 1, 'discsuss': 1, 'mrsg': 1, 'cepifim': 1, 'srcotal': 1, 'hael': 1, 'nutrtit': 1, 'lgi': 1, 'daqi': 1, 'tavchypnea': 1, 'swap': 1, 'scren': 1, 'adventit': 1, 'asian': 1, 'nosocmi': 1, 'failurepleas': 1, 'hypercoagu': 1, 'inihibit': 1, 'countershock': 1, 'deseryl': 1, 'fentayl': 1, 'haldolo': 1, 'producint': 1, 'oncot': 1, 'amlopidin': 2, 'hypernateremia': 1, 'vasalin': 1, 'keen': 1, 'fucntion': 1, 'ronchu': 1, 'craniocaud': 2, 'trendalapril': 1, 'follicul': 1, 'dipyridimol': 1, 'bibpap': 1, 'menisc': 1, 'dipyrimadol': 1, 'rrrr': 1, 'coolig': 1, 'migran': 1, 'antigoagul': 1, 'roover': 1, 'nonblanch': 1, 'nembut': 1, 'marriag': 1, 'nned': 1, 'ctm': 2, 'vitk': 1, 'lgib': 1, 'redman': 1, 'clutter': 1, 'trando': 1, 'carbamazapin': 1, 'antiphospholid': 1, 'chlrohexidin': 1, 'neuroectoderm': 1, 'intabut': 1, 'pnet': 1, 'parietooccipit': 1, 'rexray': 1, 'addiion': 1, 'atx': 1, 'evalyu': 1, 'piic': 1, 'racim': 1, 'trachael': 1, 'tnding': 1, 'neeb': 1, 'foolowup': 1, 'audbil': 1, 'ureterocel': 1, 'nonemerg': 1, 'underdistent': 1, 'circumfirenti': 1, 'multisept': 1, 'risperdon': 1, 'bronchioalveolar': 2, 'rhnochor': 1, 'phareng': 1, 'neuropsych': 1, 'benztropin': 1, 'resperidon': 1, 'worseniong': 1, 'scallop': 1, 'mediasin': 1, 'diffuss': 1, 'azithromcin': 1, 'lunesta': 1, 'hypovelem': 1, 'tachypnaec': 1, 'orer': 1, 'soulmedrol': 1, 'intuib': 1, 'weigt': 1, 'maintianedencourag': 1, 'deyhdrat': 1, 'dypena': 1, 'periprosthet': 1, 'superolater': 1, 'macronodular': 1, 'porto': 1, 'artial': 1, 'periappendic': 1, 'atret': 1, 'immunocpmpromis': 1, 'mammari': 1, 'spasma': 1, 'leukesteras': 1, 'pneoumonia': 1, 'ceasarin': 1, 'lugn': 1, 'dydrat': 1, 'edmea': 1, 'methocarbamol': 1, 'anerusym': 1, 'hasa': 1, 'pannel': 1, 'discetomi': 1, 'dominantli': 1, 'echinococc': 1, 'liquefi': 1, 'mxak': 1, 'parot': 2, 'assumo': 1, 'ketonazol': 1, 'recipt': 2, 'nigrican': 1, 'maggot': 1, 'periscrot': 1, 'acanthosi': 1, 'incipi': 1, 'cashier': 2, 'alchohol': 1, 'witdraw': 1, 'dorsiflex': 1, 'tetralog': 1, 'fallot': 1, 'tetrolog': 1, 'stiumul': 1, 'spontatn': 1, 'collectioin': 1, 'wqean': 1, 'sell': 1, 'gicven': 1, 'nauseu': 1, 'apl': 1, 'swaloow': 1, 'ateletasi': 1, 'tpp': 1, 'crisper': 1, 'factt': 1, 'anxierti': 1, 'anticardiolipin': 1, 'microsheath': 1, 'chearlead': 1, 'ertapenem': 2, 'intracarda': 1, 'afebrilex': 1, 'ptpexp': 1, 'ranch': 1, 'consilid': 1, 'diomox': 1, 'rvot': 1, 'iivi': 1, 'lej': 1, 'gliosi': 1, 'testi': 1, 'ventricukar': 1, 'monophas': 1, 'cfa': 2, 'fournier': 1, \"fournier'\": 1, 'hydrocel': 1, 'gangeren': 1, 'epididymi': 1, 'absecess': 1, 'barrocat': 1, 'pleasnatli': 1, 'shotti': 1, 'fronm': 1, 'fuzzi': 1, 'hyperesthesia': 1, 'perserv': 1, 'beed': 1, 'zoraxolyn': 1, 'vancomyin': 1, 'pendent': 1, 'mph': 1, 'gulp': 1, 'anterolatrer': 1, 'osteosrthr': 1, 'admssion': 1, 'velcro': 1, 'claritin': 1, 'suspicisi': 1, 'terrigori': 1, 'neckles': 1, 'rosari': 2, 'nexium': 1, 'hospitalist': 1, 'lhr': 1, 'bilirubinemia': 1, 'script': 1, 'valvulopathi': 1, 'lingua': 1, 'nonpurul': 1, 'aifb': 1, 'lim': 2, 'mistook': 1, 'acetozolamid': 1, 'macrodantin': 1, 'hel': 1, 'ethylsuccin': 1, 'aifib': 1, 'narcosi': 1, 'sebhorr': 1, 'respiraotyr': 1, 'lyric': 1, 'nasaltrach': 1, 'seborrh': 1, 'encelopathi': 1, 'ifptmakesit': 1, 'confirmatori': 1, 'paracardiaocentesi': 1, 'tinnitu': 1, 'vaginoplasti': 1, 'unamen': 1, 'pseudohyperkalemia': 1, 'miscovascular': 1, 'palliatv': 1, 'identili': 1, 'recordsibandron': 1, 'actonel': 2, 'leukemi': 1, 'hemorrhioid': 1, 'ptand': 1, 'renin': 1, 'risedron': 1, 'pericaridi': 1, 'simpathet': 1, 'tohomethat': 1, 'aldosteron': 1, 'andhousestaff': 1, 'nonenlarg': 1, 'dyssynchroni': 1, 'republ': 1, 'balit': 1, 'lfurosemid': 1, 'economist': 1, 'coin': 1, 'gerentolog': 1, 'lacuna': 1, 'escherichia': 1, 'neuropsychiatr': 1, 'german': 1, 'overshadow': 1, 'mandabl': 1, 'ascult': 1, 'emigr': 1, 'wwii': 1, 'youth': 1, 'unfinish': 1, 'multiinfact': 1, 'transbronchi': 1, 'madiastinl': 1, 'rtigid': 1, 'odonyphagia': 1, 'reread': 1, 'ttransit': 1, 'histolog': 1, 'traceabl': 1, 'incldu': 1, 'fromprevi': 1, 'dexemedetomidin': 1, 'epicent': 1, 'aor': 1, 'transbronch': 1, 'ebu': 1, 'capitol': 1, 'fft': 1, 'silica': 1, 'ppiv': 1, 'retak': 1, 'petit': 1, 'quadriparesi': 1, 'percipat': 1, 'carbamazepin': 1, 'mupirocin': 1, 'nuchal': 1, 'mam': 1, 'azirthomycin': 1, 'auop': 2, 'diganosedmr': 1, 'irregluari': 1, 'craclk': 1, 'liquidsand': 1, 'contol': 1, 'historyof': 1, 'pneumovaccin': 1, 'increasedto': 1, 'significnat': 1, 'initr': 1, 'previosli': 1, 'shor': 1, 'dietet': 1, 'underfeed': 1, 'periord': 1, 'trasud': 1, 'depressoin': 1, 'hemplegia': 1, 'venlafaxin': 2, 'inconsistn': 1, 'semc': 1, 'sqcca': 1, 'sqqca': 1, 'phenothiazin': 1, 'resusc': 1, 'thinf': 1, 'urinanalysi': 1, \"bp'\": 1, 'helmet': 1, 'larnyng': 1, 'emal': 1, 'hunch': 1, 'jointli': 1, 'atorv': 1, 'radat': 1, 'casemanag': 1, \"crohn'\": 1, 'wetread': 1, 'ganapentin': 1, 'worriesom': 1, 'pretest': 1, 'latanoprost': 2, 'zyphoid': 1, 'synergist': 1, 'hydroureteronephrosi': 1, 'dyspena': 1, 'acromimum': 1, 'eassess': 1, 'tac': 1, 'juxta': 1, 'pancolon': 1, 'hepatosteatosi': 1, 'adomin': 1, 'tachacardia': 1, 'ahaustr': 1, 'hypoenhanc': 1, 'sitagliptin': 1, 'dash': 1, 'satbl': 1, 'collasp': 1, 'coal': 1, 'parainfluenz': 1, 'spalid': 1, 'mine': 1, 'reinstat': 1, 'maiinstem': 1, 'otherday': 1, 'resterd': 1, 'aspart': 1, 'ly': 1, 'ofoadm': 1, 'toungu': 1, 'silicon': 1, 'procrit': 1, 'tracheobronchomalacea': 1, 'compartment': 1, 'kavitha': 1, 'phenacemid': 1, 'potient': 1, 'hydantoin': 1, 'outright': 1, 'triger': 1, 'trimethadion': 1, 'urimet': 1, 'xanthoma': 2, 'mysolin': 1, 'antiocoagul': 1, 'paramethadion': 1, 'procliv': 1, 'receivedo': 1, 'llb': 1, 'barbitur': 1, 'superirli': 1, 'tropn': 1, 'clnical': 1, 'asbcess': 1, 'exerc': 1, 'enteroccocu': 1, 'omprov': 1, 'pericyst': 1, 'iliav': 1, 'dillit': 1, 'osit': 1, 'follwup': 1, 'subcultur': 1, 'cystoscop': 1, 'lafb': 1, 'conjug': 1, 'abrubtli': 1, 'fusiform': 2, 'klmn': 1, 'apspir': 1, 'ariway': 1, 'cellut': 1, 'hyptertens': 1, 'gapapentin': 1, 'reinfarct': 1, 'oxcodon': 1, 'datng': 1, 'estrogen': 1, 'thett': 1, \"rec'd\": 1, 'envolv': 1, 'cauter': 1, 'incostistantli': 1, 'dieulafoy': 1, 'dipyridamol': 2, 'tetrofosmin': 1, 'arrea': 1, 'ligamentum': 1, 'takutsubo': 1, 'tasp': 1, 'flavum': 1, 'dalman': 1, 'hemodyam': 1, 'omc': 1, 'quantif': 1, 'sctp': 1, 'analogu': 1, 'hashimoto': 1, 'rsvg': 1, 'inspiss': 1, 'mantl': 1, \"hodgkin'\": 1, 'thrombyocytopenia': 1, 'wrosen': 1, 'flurazepam': 1, 'pautosct': 1, 'anthracot': 1, 'sihgnific': 1, 'orthastat': 1, 'unrecogn': 2, 'supradiaphragmat': 1, 'steep': 1, 'edisyl': 1, 'thug': 1, 'hayfev': 1, 'autosct': 1, 'poto': 1, 'dvtt': 1, 'sti': 1, 'carbapenas': 1, 'throthi': 1, 'intuab': 2, 'rtight': 1, 'carbapenemas': 1, 'staphylococcu': 1, 'lobotomi': 1, 'tigecyclin': 2, 'insular': 1, 'kleibsella': 2, 'cvd': 1, 'enterobacteriacea': 1, 'streptococci': 1, \"cva'\": 1, 'etest': 1, 'ossicl': 1, 'thoracoplasi': 1, 'suggetsin': 1, 'cloget': 1, 'subaort': 1, 'choana': 1, 'inferoposterolater': 1, 'blame': 1, 'acom': 1, 'stenotrophomona': 1, 'linguist': 1, 'annn': 1, 'aspergilloma': 1, 'stenothrophomona': 1, 'hemodyamn': 1, 'recspleas': 1, 'tmpsmx': 1, 'chronicallyt': 1, 'nitrogen': 1, 'mde': 1, 'ctapb': 1, 'tuirn': 1, 'metaboli': 1, 'drowsey': 1, 'kkxa': 1, 'carnitin': 1, 'acetylcystien': 1, 'intraadomin': 1, 'parascentesi': 1, 'lopinavir': 1, 'paracenthesi': 1, 'sodabicarb': 1, 'conduc': 1, 'knw': 1, 'thjicken': 1, 'mitochondri': 1, 'nevirapin': 1, 'asciet': 1, 'anascarca': 1, 'cytospin': 1, 'boewl': 1, 'tatoo': 1, 'bic': 1, 'intrafissur': 1, 'ocp': 1, 'thymu': 1, 'noteworthi': 2, 'retenion': 1, 'antocoagul': 1, 'dayquil': 1, 'hbr': 1, 'cozar': 1, 'sclear': 1, 'hypocontractil': 1, 'dextromethorphan': 2, 'cichect': 1, 'cantanes': 1, 'adjus': 1, 'gtt^': 1, 'exculud': 1, 'exeryt': 1, 'lene': 1, 'currenli': 1, 'tge': 1, 'benaprotien': 1, 'sunu': 1, 'signirficantli': 1, 'likelyb': 1, 'fider': 1, 'surroundiong': 1, 'peridont': 1, 'peridontatl': 1, 'pbt': 1, 'awaitte': 1, 'whim': 1, 'rhionch': 1, 'patl': 1, 'periodont': 1, 'throacic': 1, 'axiallyacquir': 1, 'driop': 1, 'forsmal': 1, 'coumdin': 1, 'sucrulf': 1, 'prostati': 1, 'beief': 1, 'meropenenm': 1, 'paremet': 1, 'sfyb': 1, 'recombin': 1, 'underpneumat': 1, 'heoarin': 1, 'cheng': 1, 'dentistri': 1, 'cxed': 1, 'opth': 1, 'paramt': 1, 'contribtori': 1, 'toot': 1, 'maxilo': 1, 'secteion': 1, 'petrolatum': 1, 'shft': 1, 'suspict': 1, 'counmadin': 1, 'unconvinc': 1, 'roe': 1, 'accucheck': 2, 'coniz': 1, 'fibrmyalgia': 1, 'lossd': 1, 'levealbutenol': 1, 'nunintent': 1, 'predinison': 1, 'fsh': 1, 'ondesetron': 1, 'gasteoperesi': 1, 'prolactin': 1, 'isoenzym': 1, 'hypochr': 1, 'oxgen': 1, 'pltclmp': 1, 'airwi': 1, 'gujarati': 1, 'fragili': 1, 'intraadbomin': 1, 'methacryl': 1, 'opact': 1, 'felxis': 1, 'oxytoca': 1, 'cement': 1, 'bebrid': 1, 'excoriati': 1, 'anisoci': 1, 'macroci': 1, 'lovemox': 1, 'mresult': 1, 'beath': 1, 'exertionsbp': 1, 'likekli': 1, 'ischiorect': 1, 'wbxrt': 1, 'enarterctomi': 1, 'ezetimib': 1, 'appoprio': 1, 'avert': 1, 'che': 1, 'afiib': 1, 'nasuea': 1, 'castgr': 1, 'hmed': 1, 'challebg': 1, 'afteroon': 1, 'dopler': 1, 'reanl': 1, 'afar': 1, 'tufe': 1, 'strongyloid': 1, 'vasopress': 1, 'kpo': 1, 'preripher': 1, 'levitiracetam': 1, 'vassopress': 1, 'eosinphil': 1, 'aranesp': 1, 'paracardi': 1, 'apg': 1, 'forego': 1, 'counterproduct': 1, 'nerphrot': 1, 'antral': 1, 'cretainin': 1, 'scarbosa': 1, 'thoarcentesi': 1, 'nephrit': 1, 'plesaent': 1, 'cartid': 1, 'catert': 1, 'seqeuala': 1, 'lens': 1, 'precautionst': 1, 'senil': 1, 'adequaut': 1, 'actin': 2, 'earlob': 1, 'eratosi': 1, 'suggesst': 1, 'endotoxin': 1, 'telphon': 1, 'lipopolysaccharid': 1, 'prokaryot': 1, 'ontiotropium': 1, 'evidenv': 1, 'swith': 1, 'tygecyclin': 1, 'dyeiodin': 1, 'vasodilit': 1, 'inhibitori': 1, 'guiaac': 1, 'forarm': 1, 'purpura': 1, 'saber': 1, 'corus': 1, 'cephalexinunknown': 1, 'tand': 1, 'flutison': 1, 'vasoopressor': 1, 'vancomycindiarrhea': 1, 'transan': 1, 'insta': 1, 'piccin': 1, 'sensitiviti': 1, 'avn': 2, 'neropenum': 1, 'systolo': 1, 'synthesi': 1, 'elevat': 1, 'hypothairoid': 1, \"'overdos\": 1, 'upload': 1, 'begain': 1, 'lampectomi': 1, 'preoccup': 1, 'herpez': 1, 'hypothes': 1, 'nimenda': 1, 'cleanout': 1, 'recompt': 1, 'tbd': 1, 'cheyennn': 1, 'recomp': 1, 'duoerm': 1, 'scopolomin': 1, 'neosyneph': 1, 'fibersoourc': 1, 'honeymoon': 1, 'pules': 1, 'skeletel': 1, 'techinc': 1, 'rqmnt': 1, 'heroic': 1, 'fentanli': 1, 'venitlatori': 1, 'symptomatolog': 1, 'innumber': 1, 'esophagel': 1, 'demonstart': 1, 'chron': 2, 'slowl': 1, 'outing': 1, 'segmetn': 1, 'plasti': 1, 'dipropion': 1, 'thearapeut': 1, 'duresi': 1, 'replaced': 1, 'rgurgit': 1, 'guaifenasin': 1, 'marit': 1, 'detali': 1, 'thear': 1, 'beclomethason': 1, 'cuplet': 1, 'cod': 1, 'exagerr': 1, 'rumbl': 1, 'contracta': 1, 'recuss': 1, 'evh': 1, 'valvuloplasti': 1, 'oozi': 1, 'ccath': 1, 'llr': 1, 'pulsati': 1, 'paient': 1, 'dacron': 1, '^pvc': 1, 'swann': 1, 'polar': 1, 'firefight': 1, 'neostigmin': 1, '^pa': 1, 'thombosi': 1, 'carvedi': 1, 'carotidendarterectomi': 1, 'advir': 2, 'claudic': 2, 'perfect': 1, 'ongong': 1, 'grascil': 1, 'kyphoscoloiosi': 1, 'consitist': 1, 'proton': 1, 'cartridg': 1, 'multiplan': 1, 'supracondylar': 1, 'pdf': 1, 'hajdu': 1, 'xcc': 1, 'hemidiaghragm': 1, 'acidifi': 1, 'hebreb': 2, 'pseuomona': 1, 'provok': 1, 'gsurg': 1, 'neurmuscular': 1, 'pylenephr': 1, 'cogwheel': 1, 'nnon': 1, 'judgment': 1, 'traheotomi': 1, 'caleld': 1, 'miltifacori': 1, 'pantoiprazol': 1, 'thck': 1, 'bradyarrhythmia': 1, 'hovermatt': 1, 'cpqp': 1, 'psueudomona': 1, 'ealuat': 1, 'san': 1, 'airpal': 1, 'isp': 1, 'thromboemboli': 1, 'eupnic': 1, 'blockshortli': 1, 'pseudoon': 1, 'inbteween': 1, 'dysfx': 1, 'interventionl': 1, 'sreen': 1, 'msec': 1, 'levothyrox': 1, 'nonurg': 2, 'tather': 1, 'onccur': 1, 'roght': 1, 'hoverjack': 1, 'presentdu': 1, 'lk': 1, 'nightim': 1, 'resectionand': 1, 'prmari': 1, 'senstit': 1, 'attampt': 1, 'ascept': 1, 'txfer': 1, 'aftermn': 1, 'psuedamona': 1, 'peniciliin': 1, 'upj': 1, 'infranod': 1, 'moonitor': 1, \"peg'\": 1, 'abhorr': 1, 'ebsl': 1, 'aberrantli': 1, 'pyramid': 1, 'calic': 1, 'nephrosi': 1, \"still'\": 1, 'follect': 1, 'subment': 1, 'meropemem': 1, 'bronchiectai': 1, 'attrov': 1, 'receivingiv': 1, 'scr': 1, 'trifluor': 1, 'montgumeri': 1, 'diaghram': 1, 'trachealbronchomalacia': 1, 'slippag': 1, 'atrorv': 1, 'venolfax': 1, 'mycon': 1, 'vcd': 1, 'videostriposcopi': 1, 'mainstay': 1, 'omep': 1, 'azithromcyin': 1, 'glotti': 1, 'methacholin': 1, 'guaifensin': 1, 'stroboscopi': 1, 'omeprozol': 1, 'aspiri': 1, 'chokehold': 1, 'infet': 1, 'hypernatremiawith': 1, 'unbchang': 1, 'slig': 1, 'swim': 1, 'pexi': 1, 'saf': 1, 'eavluat': 1, 'career': 1, 'depres': 1, 'hypoplasia': 1, 'periphr': 1, 'shx': 1, 'presentw': 1, 'llow': 1, 'hydrothrorax': 1, 'tenosi': 1, 'physicianclip': 1, 'palin': 1, 'demeylin': 1, 'positiona': 1, 'catter': 1, 'amtter': 1, 'hecerebr': 1, 'antur': 1, 'femora': 1, 'imppress': 1, 'slg': 1, 'attd': 1, 'bronchspasm': 1, 'resolvi': 1, 'evant': 1, 'dao': 1, 'decreeas': 1, 'cultprit': 1, 'anco': 1, 'failiur': 1, 'squirmi': 1, 'exacurb': 1, 'cehst': 1, 'tamoxifen': 1, 'nameda': 1, 'niacin': 1, 'keratos': 1, 'vitreou': 1, 'fornic': 1, 'arousib': 1, 'nitrglycerin': 1, 'handwritten': 1, 'kayexil': 1, 'achalasia': 1, 'rehba': 1, 'achalsia': 1, 'conrol': 1, 'produt': 1, 'botox': 1, 'lunvch': 1, 'orpharyng': 1, 'agt': 1, 'overlod': 1, 'prespil': 1, 'shelf': 1, 'rln': 1, 'acinar': 1, 'sublobar': 1, 'virtu': 1, 'mandira': 1, 'aereat': 1, 'embarrass': 1, 'meadiastinoscopi': 1, 'rxra': 1, 'erythroderm': 1, 'angioedem': 1, 'osteoarthtr': 1, 'neurocheck': 1, 'neurologici': 1, 'pneumocephalu': 1, 'ctcl': 1, 'fungoid': 1, 'mycosi': 1, 'angioinvas': 1, 'pcabgx': 1, 'withcvl': 1, 'enchanc': 1, 'pulldown': 1, 'etz': 1, 'superifci': 1, 'seroma': 1, 'interlock': 1, 'perivarcular': 1, 'laparascop': 1, 'trochanter': 1, 'tailur': 1, 'fiberspourc': 1, 'underdistens': 1, 'hypercholestremia': 1, 'extrus': 1, 'aponeurosi': 1, 'chonz': 1, 'intraperitonea': 1, 'antierior': 1, 'cavieti': 1, 'sarum': 1, 'chornz': 1, 'muli': 1, 'spigelian': 1, 'eed': 1, 'gwilliam': 1, 'disarray': 1, 'latherg': 1, 'transuc': 1, 'colposcopi': 1, 'transduct': 1, 'somonol': 1, 'gad': 1, 'garden': 1, 'anarob': 1, 'anaphlyaxi': 1, \"lemiere'\": 1, 'epidu': 1, 'headacn': 1, 'colpo': 1, 'mucro': 1, 'extubu': 1, 'accomani': 1, 'thankyou': 1, 'cofluent': 1, 'substranti': 1, 'excus': 1, 'reportsh': 1, 'osaltamivir': 1, 'immunofluoresc': 1, 'mexican': 1, 'flucauat': 1, 'qshift': 1, 'multiofoc': 1, 'apperenli': 1, 'flagylcefipim': 1, 'couh': 1, 'discon': 1, 'reddent': 1, 'hmm': 1, 'infer': 1, 'monitort': 1, 'berath': 1, 'ronchrou': 1, 'encouagr': 1, 'aphonia': 1, 'nasti': 1, 'pateitn': 1, 'fluctauat': 1, 'repetet': 1, 'nasatrach': 1}}\n"
     ]
    }
   ],
   "source": [
    "print(note_appearance_counter)"
   ]
  },
  {
   "cell_type": "code",
   "execution_count": null,
   "metadata": {},
   "outputs": [],
   "source": []
  },
  {
   "cell_type": "code",
   "execution_count": null,
   "metadata": {},
   "outputs": [],
   "source": []
  },
  {
   "cell_type": "code",
   "execution_count": 39,
   "metadata": {},
   "outputs": [],
   "source": [
    "# # get hyper-paramters n_fold and threshold from user input\n",
    "n_fold = float(3)\n",
    "threshold = float(0.02)\n",
    "\n",
    "frequent_word_lists = {}\n",
    "factor = {}"
   ]
  },
  {
   "cell_type": "code",
   "execution_count": 40,
   "metadata": {},
   "outputs": [
    {
     "name": "stdout",
     "output_type": "stream",
     "text": [
      "pneumonia_dead has 11678 unique words!\n",
      "pneumonia_alive has 22572 unique words!\n",
      "finished making frequent words list for pneumonia_alive\n"
     ]
    }
   ],
   "source": [
    "\"\"\"function description:\n",
    "for each disease in note_appearance_counter\n",
    "    1. checks whether a word in disease file is frequent(frequency standard as defined by factor, n_fold, and threshold)\n",
    "    2. adds to frequent_word_list\n",
    "\"\"\"\n",
    "\n",
    "# def find_frequent_word(note_appearance_counter, frequent_word_lists, number_of_notes, factor, n_fold, threshold):\n",
    "\n",
    "# calculate normalizing factor for each disease\n",
    "note_sum = 0\n",
    "\n",
    "# Count from two labels\n",
    "for disease in number_of_notes:\n",
    "    note_sum += float(number_of_notes[disease])\n",
    "    \n",
    "for disease in number_of_notes:\n",
    "    factor[disease] = number_of_notes[disease] / note_sum\n",
    "\n",
    "# determine frequent word for each disease file\n",
    "for disease in note_appearance_counter:\n",
    "    frequent_word_lists[disease] = []\n",
    "\n",
    "    print(disease + \" has \" + str(len(note_appearance_counter[disease])) + \" unique words!\")\n",
    "\n",
    "    for word in note_appearance_counter[disease]:\n",
    "        \n",
    "        freq_check = True\n",
    "        for check_disease in note_appearance_counter:\n",
    "            \n",
    "            if not disease == check_disease:\n",
    "                if word in note_appearance_counter[check_disease]:\n",
    "                    if not (note_appearance_counter[disease][word] / note_appearance_counter[check_disease][word] / factor[disease] * factor[check_disease] > n_fold \\\n",
    "                        and note_appearance_counter[disease][word] > (number_of_notes[disease] * threshold)):\n",
    "\n",
    "                        freq_check = False\n",
    "                        break\n",
    "\n",
    "                else:\n",
    "                    if not (note_appearance_counter[disease][word] > n_fold and note_appearance_counter[disease][word] > (number_of_notes[disease] * threshold)):\n",
    "                        freq_check = False\n",
    "                        break\n",
    "        if freq_check:\n",
    "            frequent_word_lists[disease].append((word))\n",
    "            # Create a tuple of word and its count\n",
    "#             frequent_word_lists[disease].append((word, note_appearance_counter[disease][word]))\n",
    "\n",
    "        \n",
    "\n",
    "print(\"finished making frequent words list for \" + disease)"
   ]
  },
  {
   "cell_type": "code",
   "execution_count": 41,
   "metadata": {
    "scrolled": true
   },
   "outputs": [
    {
     "name": "stdout",
     "output_type": "stream",
     "text": [
      "1419.0\n",
      "{'pneumonia_dead': 0.17758985200845667, 'pneumonia_alive': 0.8224101479915433}\n"
     ]
    }
   ],
   "source": [
    "print(note_sum)\n",
    "print(factor)\n",
    "\n",
    "# number of notes\n",
    "# 58029.0\n",
    "# {'pneumonia_dead': 0.2049837150390322, 'pneumonia_alive': 0.7950162849609678}"
   ]
  },
  {
   "cell_type": "code",
   "execution_count": 42,
   "metadata": {
    "scrolled": true
   },
   "outputs": [
    {
     "name": "stdout",
     "output_type": "stream",
     "text": [
      "187\n",
      "112\n"
     ]
    }
   ],
   "source": [
    "print(len(frequent_word_lists['pneumonia_dead']))\n",
    "print(len(frequent_word_lists['pneumonia_alive']))"
   ]
  },
  {
   "cell_type": "code",
   "execution_count": 43,
   "metadata": {
    "scrolled": true
   },
   "outputs": [
    {
     "name": "stdout",
     "output_type": "stream",
     "text": [
      "{'pneumonia_dead': ['suffer', 'autopeep', 'pea', 'phenylephrin', 'cpr', 'clinician', 'azotemia', 'paralyt', 'dic', 'refractori', 'recruit', 'clergi', 'hypothermia', 'arrest', 'mottl', 'profound', 'death', 'arrang', 'pcv', 'vasopressin', 'bicarbon', 'funer', 'unrespons', 'norepinephrin', 'hypercapn', 'expir', 'anur', 'pinpoint', 'dk', 'nonpurpos', 'sluggish', 'dni', 'gum', 'dnr', 'cmo', 'levoph', 'mso', 'wish', 'grim', 'prognosi', 'option', 'purpl', 'dead', 'priest', 'hypotent', 'institut', 'pronounc', 'agreement', 'centimet', 'bye', 'synch', 'mortem', 'asystol', 'acv', 'life', 'cathol', 'peac', 'sync', 'surviv', 'duski', 'seriou', 'rusti', 'suppport', 'acidot', 'deliv', 'crrt', 'corneal', 'neosynephrin', 'agon', 'hemothorax', 'pulseless', 'cvvhdf', 'deterior', 'vtach', 'cvvh', 'pfr', 'vasopressor', 'cvvhd', 'defibril', 'ethic', 'ffp', 'levof', 'among', 'unequ', 'declin', 'brb', 'mtg', 'pray', 'lw', 'pitressin', 'cyanot', 'maroon', 'bair', 'lc', 'elimin', 'hypotherm', 'hugger', 'escal', 'discoordin', 'morgu', 'zero', 'syring', 'norepi', 'town', 'paco', 'sml', 'absorb', 'motil', 'bairhugg', 'bank', 'rabbi', 'autopsi', 'circuit', 'neo', \"tf'ing\", 'triadyn', 'nahco', 'prayer', 'unstabl', 'mind', 'hunger', 'polici', 'hung', 'dopamin', 'intiat', 'moan', 'cantones', 'palli', 'readdress', 'dobutamin', 'gurgl', 'anuria', 'underneath', 'oncologist', 'hospic', 'platelet', 'platlet', 'quadrent', 'griev', 'core', 'gut', 'cardiovert', 'oligur', 'cisatracurium', 'twitch', 'crt', 'liw', 'plat', 'sacrament', 'grave', 'heroic', 'occupi', 'struggl', 'opinion', 'icter', 'gentamycin', 'pplat', 'meaning', 'themselv', 'fibrinogen', 'tubular', 'ardsnet', 'vasoconstrict', 'sibl', 'gasp', 'hook', 'tran', 'realist', 'aricept', 'analgesia', 'declar', 'dorsal', 'dysynchron', 'prioriti', 'sluggishli', 'ipf', 'goodby', 'harm', 'hemodynim', 'petechia', 'underpenetr', 'ggt', 'pastor', 'led', 'chlorhex', 'inde', 'abnl'], 'pneumonia_alive': ['ambien', 'pleasant', 'oob', 'chair', 'commod', 'gait', 'ambul', 'lift', 'splint', 'puff', 'rm', 'supervis', 'lat', 'lpm', 'breakfast', 'db', 'aox', 'chip', 'foci', 'cup', 'laryng', 'hyperintens', 'venti', 'plate', 'qtc', 'jejunum', 'dz', 'wallet', 'jewelri', 'money', 'cloth', 'signatur', 'cash', 'redirect', 'zyprexa', 'behavior', 'pharyng', 'hilum', 'align', 'rehabilit', 'lotion', 'distanc', 'stair', 'motor', 'unassist', 'macu', 'probe', 'rpe', 'muir', 'mrg', 'mellitu', 'scab', 'deflat', 'ntnd', 'cg', 'olanzapin', 'passi', 'locomot', 'bottl', 'scar', 'captopril', 'im', 'osa', 'magnevist', 'pneumococc', 'gadolinium', 'forc', 'spiromet', 'incent', 'nectar', 'barium', 'video', 'sensat', 'postop', 'seroquel', 'asthma', 'sweat', 'amb', 'dizzi', 'lightheaded', 'pivot', 'ctx', 'readmit', 'bromid', 'wfl', 'endur', 'angri', 'paperwork', 'solut', 'omeprazol', 'freeli', 'ppd', 'rigor', 'diaphoresi', 'gabapentin', 'divis', 'pneumothorac', 'silent', 'aaox', 'habitu', 'homogen', 'vallecula', 'spirit', 'unavail', 'fatti', 'hive', 'tdi', 'echocardiogram', 'cdb', 'seat', 'videofluoroscopi', 'slice']}\n"
     ]
    }
   ],
   "source": [
    "print(frequent_word_lists)"
   ]
  },
  {
   "cell_type": "markdown",
   "metadata": {},
   "source": [
    "### 2. Co-occurrence generation\n",
    "FP-growth"
   ]
  },
  {
   "cell_type": "code",
   "execution_count": 44,
   "metadata": {},
   "outputs": [],
   "source": [
    "FREQUENT_WORD_LIST = frequent_word_lists['pneumonia_dead'] + frequent_word_lists['pneumonia_alive']"
   ]
  },
  {
   "cell_type": "code",
   "execution_count": 45,
   "metadata": {
    "scrolled": true
   },
   "outputs": [
    {
     "name": "stdout",
     "output_type": "stream",
     "text": [
      "\n",
      "word dictionary created!\n",
      "\n",
      "{'suffer': 1, 'autopeep': 2, 'pea': 3, 'phenylephrin': 4, 'cpr': 5, 'clinician': 6, 'azotemia': 7, 'paralyt': 8, 'dic': 9, 'refractori': 10, 'recruit': 11, 'clergi': 12, 'hypothermia': 13, 'arrest': 14, 'mottl': 15, 'profound': 16, 'death': 17, 'arrang': 18, 'pcv': 19, 'vasopressin': 20, 'bicarbon': 21, 'funer': 22, 'unrespon': 23, 'norepinephrin': 24, 'hypercapn': 25, 'expir': 26, 'anur': 27, 'pinpoint': 28, 'dk': 29, 'nonpurpo': 30, 'sluggish': 31, 'dni': 32, 'gum': 33, 'dnr': 34, 'cmo': 35, 'levoph': 36, 'mso': 37, 'wish': 38, 'grim': 39, 'prognosi': 40, 'option': 41, 'purpl': 42, 'dead': 43, 'priest': 44, 'hypot': 45, 'institut': 46, 'pronounc': 47, 'agreement': 48, 'centimet': 49, 'bye': 50, 'synch': 51, 'mortem': 52, 'asystol': 53, 'acv': 54, 'life': 55, 'cathol': 56, 'peac': 57, 'sync': 58, 'surviv': 59, 'duski': 60, 'seriou': 61, 'rusti': 62, 'suppport': 63, 'acidot': 64, 'deliv': 65, 'crrt': 66, 'corneal': 67, 'neosynephrin': 68, 'agon': 69, 'hemothorax': 70, 'pulseless': 71, 'cvvhdf': 72, 'deterior': 73, 'vtach': 74, 'cvvh': 75, 'pfr': 76, 'vasopressor': 77, 'cvvhd': 78, 'defibril': 79, 'ethic': 80, 'ffp': 81, 'levof': 82, 'among': 83, 'unequ': 84, 'declin': 85, 'brb': 86, 'mtg': 87, 'pray': 88, 'lw': 89, 'pitressin': 90, 'cyanot': 91, 'maroon': 92, 'bair': 93, 'lc': 94, 'elimin': 95, 'hypotherm': 96, 'hugger': 97, 'escal': 98, 'discoordin': 99, 'morgu': 100, 'zero': 101, 'syre': 102, 'norepi': 103, 'town': 104, 'paco': 105, 'sml': 106, 'absorb': 107, 'motil': 108, 'bairhugg': 109, 'bank': 110, 'rabbi': 111, 'autopsi': 112, 'circuit': 113, 'neo': 114, \"tf'ing\": 115, 'triadyn': 116, 'nahco': 117, 'prayer': 118, 'unstabl': 119, 'mind': 120, 'hunger': 121, 'polici': 122, 'hung': 123, 'dopamin': 124, 'intiat': 125, 'moan': 126, 'canton': 127, 'palli': 128, 'readdress': 129, 'dobutamin': 130, 'gurgl': 131, 'anuria': 132, 'underneath': 133, 'oncologist': 134, 'hospic': 135, 'platelet': 136, 'platlet': 137, 'quadrent': 138, 'griev': 139, 'core': 140, 'gut': 141, 'cardiovert': 142, 'oligur': 143, 'cisatracurium': 144, 'twitch': 145, 'crt': 146, 'liw': 147, 'plat': 148, 'sacrament': 149, 'grave': 150, 'heroic': 151, 'occupi': 152, 'struggl': 153, 'opinion': 154, 'icter': 155, 'gentamycin': 156, 'pplat': 157, 'mean': 158, 'themselv': 159, 'fibrinogen': 160, 'tubular': 161, 'ardsnet': 162, 'vasoconstrict': 163, 'sibl': 164, 'gasp': 165, 'hook': 166, 'tran': 167, 'realist': 168, 'aricept': 169, 'analgesia': 170, 'declar': 171, 'dorsal': 172, 'dysynchron': 173, 'prioriti': 174, 'sluggishli': 175, 'ipf': 176, 'goodbi': 177, 'harm': 178, 'hemodynim': 179, 'petechia': 180, 'underpenetr': 181, 'ggt': 182, 'pastor': 183, 'led': 184, 'chlorhex': 185, 'ind': 186, 'abnl': 187, 'ambien': 188, 'pleasant': 189, 'oob': 190, 'chair': 191, 'commod': 192, 'gait': 193, 'ambul': 194, 'lift': 195, 'splint': 196, 'puff': 197, 'rm': 198, 'supervi': 199, 'lat': 200, 'lpm': 201, 'breakfast': 202, 'db': 203, 'aox': 204, 'chip': 205, 'foci': 206, 'cup': 207, 'laryng': 208, 'hyperinten': 209, 'venti': 210, 'plate': 211, 'qtc': 212, 'jejunum': 213, 'dz': 214, 'wallet': 215, 'jewelri': 216, 'money': 217, 'cloth': 218, 'signatur': 219, 'cash': 220, 'redirect': 221, 'zyprexa': 222, 'behavior': 223, 'pharyng': 224, 'hilum': 225, 'align': 226, 'rehabilit': 227, 'lotion': 228, 'distanc': 229, 'stair': 230, 'motor': 231, 'unassist': 232, 'macu': 233, 'probe': 234, 'rpe': 235, 'muir': 236, 'mrg': 237, 'mellitu': 238, 'scab': 239, 'deflat': 240, 'ntnd': 241, 'cg': 242, 'olanzapin': 243, 'passi': 244, 'locomot': 245, 'bottl': 246, 'scar': 247, 'captopril': 248, 'im': 249, 'osa': 250, 'magnevist': 251, 'pneumococc': 252, 'gadolinium': 253, 'forc': 254, 'spiromet': 255, 'incent': 256, 'nectar': 257, 'barium': 258, 'video': 259, 'sensat': 260, 'postop': 261, 'seroquel': 262, 'asthma': 263, 'sweat': 264, 'amb': 265, 'dizzi': 266, 'lighthead': 267, 'pivot': 268, 'ctx': 269, 'readmit': 270, 'bromid': 271, 'wfl': 272, 'endur': 273, 'angri': 274, 'paperwork': 275, 'solut': 276, 'omeprazol': 277, 'freeli': 278, 'ppd': 279, 'rigor': 280, 'diaphoresi': 281, 'gabapentin': 282, 'divi': 283, 'pneumothorac': 284, 'silent': 285, 'aaox': 286, 'habitu': 287, 'homogen': 288, 'vallecula': 289, 'spirit': 290, 'unavail': 291, 'fatti': 292, 'hive': 293, 'tdi': 294, 'echocardiogram': 295, 'cdb': 296, 'seat': 297, 'videofluoroscopi': 298, 'slice': 299}\n"
     ]
    }
   ],
   "source": [
    "\"\"\"function description:\n",
    "generates frequent word set for the disease\n",
    "\"\"\"\n",
    "word_dict = {}\n",
    "word_id = 1\n",
    "stemmer = PorterStemmer()\n",
    "\n",
    "\n",
    "for word in FREQUENT_WORD_LIST:\n",
    "    if not word == \"WORD\":\n",
    "        word_dict[stemmer.stem(word.strip())] = word_id\n",
    "        word_id += 1\n",
    "             \n",
    "print(\"\\nword dictionary created!\\n\")\n",
    "print(word_dict)\n"
   ]
  },
  {
   "cell_type": "markdown",
   "metadata": {},
   "source": [
    "### Implementetion with python for FP_growth"
   ]
  },
  {
   "cell_type": "code",
   "execution_count": 46,
   "metadata": {
    "scrolled": true
   },
   "outputs": [
    {
     "name": "stderr",
     "output_type": "stream",
     "text": [
      "100%|██████████| 11895/11895 [01:33<00:00, 127.52it/s]\n",
      "  0%|          | 10/46134 [00:00<07:44, 99.25it/s]"
     ]
    },
    {
     "name": "stdout",
     "output_type": "stream",
     "text": [
      "FP growth input for pneumonia_dead generated!\n"
     ]
    },
    {
     "name": "stderr",
     "output_type": "stream",
     "text": [
      "100%|██████████| 46134/46134 [05:49<00:00, 131.82it/s]"
     ]
    },
    {
     "name": "stdout",
     "output_type": "stream",
     "text": [
      "FP growth input for pneumonia_alive generated!\n"
     ]
    },
    {
     "name": "stderr",
     "output_type": "stream",
     "text": [
      "\n"
     ]
    }
   ],
   "source": [
    "# http://rasbt.github.io/mlxtend/user_guide/frequent_patterns/fpgrowth/\n",
    "import os\n",
    "import operator\n",
    "from pathlib import Path\n",
    "from mlxtend.frequent_patterns import fpgrowth\n",
    "from mlxtend.preprocessing import TransactionEncoder\n",
    "import pandas as pd\n",
    "\n",
    "# ----\n",
    "def fp_growth_input_per_patient_python(disease_name, disease_df, word_dict, min_support, label):\n",
    "    \n",
    "    # For dataframe\n",
    "    patient_id_lst = []\n",
    "    patient_cooc_lst = []\n",
    "    patient_cooc_minsup_lst = []\n",
    "    patient_label_lst = []\n",
    "    patient_note_cnt = []\n",
    "    \n",
    "    # --------------    \n",
    "    patient_id = -1\n",
    "    note_cnt = 0\n",
    "    patient_note_list = []\n",
    "    \n",
    "    # read line in from file (each line is one note)\n",
    "    for index, row in tqdm(disease_df.iterrows(), total=disease_df.shape[0]):\n",
    "        \n",
    "        # only regard certain type of notes\n",
    "        patient_id_check = int(row['SUBJECT_ID_x'])\n",
    "        note = re.sub(r'\\[\\*\\*(.*?)\\*\\*\\]|[_,\\d\\*:~=\\.\\-\\+\\\\/]+', ' ', row['TEXT'])\n",
    "        patient_word_set = set()\n",
    "    \n",
    "#         print(f\"patient_id_check: {patient_id_check}, patient_id: {patient_id}\")\n",
    "        # if patient id has changed, end sequence and start new sequence\n",
    "        if not patient_id == patient_id_check and not patient_id == -1:\n",
    "            te = TransactionEncoder()\n",
    "            te_ary = te.fit(patient_note_list).transform(patient_note_list)\n",
    "            df = pd.DataFrame(te_ary, columns=te.columns_)\n",
    "            df_itemsets = fpgrowth(df, min_support=min_support, use_colnames=True)\n",
    "            \n",
    "            cooc_tmp = []\n",
    "            cooc_minsup_tmp = []\n",
    "            \n",
    "            for index, row in df_itemsets.iterrows():\n",
    "                if len(row['itemsets']) == 2:\n",
    "                    cooc_tmp.append(list(row['itemsets']))\n",
    "                    cooc_minsup_tmp.append(row['support'])\n",
    "                    \n",
    "            \n",
    "            # Update glob lists\n",
    "            patient_id_lst.append(patient_id)\n",
    "            patient_cooc_lst.append(cooc_tmp)\n",
    "            patient_cooc_minsup_lst.append(cooc_minsup_tmp)\n",
    "            patient_label_lst.append(label)\n",
    "            patient_note_cnt.append(note_cnt)\n",
    "            \n",
    "            # Reset local lists\n",
    "            patient_note_list = []\n",
    "            note_cnt = 0\n",
    "                    \n",
    "        # update patient id\n",
    "        patient_id = patient_id_check\n",
    "        tokenized_note = word_tokenize(note)\n",
    "        note_cnt += 1\n",
    "\n",
    "        # loop through each word in note to count word belonging to each disease\n",
    "        for word in tokenized_note:\n",
    "            stemmed_word = stemmer.stem(word.lower())       \n",
    "            if stemmed_word in word_dict:\n",
    "                    patient_word_set.add(stemmed_word)\n",
    "\n",
    "        templst = []\n",
    "        for word in patient_word_set:\n",
    "            templst.append(word)\n",
    "\n",
    "        if templst:\n",
    "            patient_note_list.append(templst)\n",
    "    \n",
    "    # Last patient info\n",
    "    te = TransactionEncoder()\n",
    "    te_ary = te.fit(patient_note_list).transform(patient_note_list)\n",
    "    df = pd.DataFrame(te_ary, columns=te.columns_)\n",
    "    df_itemsets = fpgrowth(df, min_support=min_support, use_colnames=True)\n",
    "            \n",
    "    cooc_tmp = []\n",
    "    cooc_minsup_tmp = []\n",
    "            \n",
    "    for index, row in df_itemsets.iterrows():\n",
    "        if len(row['itemsets']) == 2:\n",
    "            cooc_tmp.append(row['itemsets'])\n",
    "            cooc_minsup_tmp.append(row['support'])\n",
    "                    \n",
    "            \n",
    "    # Update glob lists\n",
    "    patient_id_lst.append(patient_id)\n",
    "    patient_cooc_lst.append(cooc_tmp)\n",
    "    patient_cooc_minsup_lst.append(cooc_minsup_tmp)\n",
    "    patient_label_lst.append(label)\n",
    "    patient_note_cnt.append(note_cnt)\n",
    "    \n",
    "#     print(f\"patient_id_lst: {len(patient_id_lst)} patient_cooc_lst: {len(patient_cooc_lst)} patient_cooc_minsup_lst: {len(patient_cooc_minsup_lst)} patient_label_lst: {len(patient_label_lst)} patient_note_cnt: {len(patient_note_cnt)}\")\n",
    "    print(\"FP growth input for \" + disease_name + \" generated!\")\n",
    "    return pd.DataFrame({\"patient_id\":patient_id_lst, \"patient_cooc\":patient_cooc_lst, \"cooc_minsup\":patient_cooc_minsup_lst, \"label\":patient_label_lst, \"note_cnt\":patient_note_cnt})\n",
    "\n",
    "pneumonia_dead_cooc_df = fp_growth_input_per_patient_python(\"pneumonia_dead\", pneumonia_dead_no_disch, word_dict, 0.4, -1)\n",
    "pneumonia_alive_cooc_df = fp_growth_input_per_patient_python(\"pneumonia_alive\", pneumonia_alive_no_disch, word_dict, 0.4, 1)"
   ]
  },
  {
   "cell_type": "code",
   "execution_count": 47,
   "metadata": {
    "scrolled": true
   },
   "outputs": [
    {
     "data": {
      "text/html": [
       "<div>\n",
       "<style scoped>\n",
       "    .dataframe tbody tr th:only-of-type {\n",
       "        vertical-align: middle;\n",
       "    }\n",
       "\n",
       "    .dataframe tbody tr th {\n",
       "        vertical-align: top;\n",
       "    }\n",
       "\n",
       "    .dataframe thead th {\n",
       "        text-align: right;\n",
       "    }\n",
       "</style>\n",
       "<table border=\"1\" class=\"dataframe\">\n",
       "  <thead>\n",
       "    <tr style=\"text-align: right;\">\n",
       "      <th></th>\n",
       "      <th>patient_id</th>\n",
       "      <th>patient_cooc</th>\n",
       "      <th>cooc_minsup</th>\n",
       "      <th>label</th>\n",
       "      <th>note_cnt</th>\n",
       "    </tr>\n",
       "  </thead>\n",
       "  <tbody>\n",
       "    <tr>\n",
       "      <th>0</th>\n",
       "      <td>111</td>\n",
       "      <td>[[arrest, pea], [vasopressin, pea], [vasopress...</td>\n",
       "      <td>[0.8333333333333334, 0.6666666666666666, 0.666...</td>\n",
       "      <td>-1</td>\n",
       "      <td>12</td>\n",
       "    </tr>\n",
       "    <tr>\n",
       "      <th>1</th>\n",
       "      <td>346</td>\n",
       "      <td>[]</td>\n",
       "      <td>[]</td>\n",
       "      <td>-1</td>\n",
       "      <td>25</td>\n",
       "    </tr>\n",
       "    <tr>\n",
       "      <th>2</th>\n",
       "      <td>404</td>\n",
       "      <td>[[death, paco]]</td>\n",
       "      <td>[1.0]</td>\n",
       "      <td>-1</td>\n",
       "      <td>3</td>\n",
       "    </tr>\n",
       "    <tr>\n",
       "      <th>3</th>\n",
       "      <td>546</td>\n",
       "      <td>[]</td>\n",
       "      <td>[]</td>\n",
       "      <td>-1</td>\n",
       "      <td>6</td>\n",
       "    </tr>\n",
       "    <tr>\n",
       "      <th>4</th>\n",
       "      <td>618</td>\n",
       "      <td>[]</td>\n",
       "      <td>[]</td>\n",
       "      <td>-1</td>\n",
       "      <td>16</td>\n",
       "    </tr>\n",
       "    <tr>\n",
       "      <th>...</th>\n",
       "      <td>...</td>\n",
       "      <td>...</td>\n",
       "      <td>...</td>\n",
       "      <td>...</td>\n",
       "      <td>...</td>\n",
       "    </tr>\n",
       "    <tr>\n",
       "      <th>247</th>\n",
       "      <td>97181</td>\n",
       "      <td>[[dnr, dni]]</td>\n",
       "      <td>[0.625]</td>\n",
       "      <td>-1</td>\n",
       "      <td>30</td>\n",
       "    </tr>\n",
       "    <tr>\n",
       "      <th>248</th>\n",
       "      <td>97795</td>\n",
       "      <td>[]</td>\n",
       "      <td>[]</td>\n",
       "      <td>-1</td>\n",
       "      <td>60</td>\n",
       "    </tr>\n",
       "    <tr>\n",
       "      <th>249</th>\n",
       "      <td>98009</td>\n",
       "      <td>[[dnr, dni]]</td>\n",
       "      <td>[0.46153846153846156]</td>\n",
       "      <td>-1</td>\n",
       "      <td>33</td>\n",
       "    </tr>\n",
       "    <tr>\n",
       "      <th>250</th>\n",
       "      <td>98299</td>\n",
       "      <td>[]</td>\n",
       "      <td>[]</td>\n",
       "      <td>-1</td>\n",
       "      <td>29</td>\n",
       "    </tr>\n",
       "    <tr>\n",
       "      <th>251</th>\n",
       "      <td>98597</td>\n",
       "      <td>[]</td>\n",
       "      <td>[]</td>\n",
       "      <td>-1</td>\n",
       "      <td>2</td>\n",
       "    </tr>\n",
       "  </tbody>\n",
       "</table>\n",
       "<p>252 rows × 5 columns</p>\n",
       "</div>"
      ],
      "text/plain": [
       "     patient_id                                       patient_cooc  \\\n",
       "0           111  [[arrest, pea], [vasopressin, pea], [vasopress...   \n",
       "1           346                                                 []   \n",
       "2           404                                    [[death, paco]]   \n",
       "3           546                                                 []   \n",
       "4           618                                                 []   \n",
       "..          ...                                                ...   \n",
       "247       97181                                       [[dnr, dni]]   \n",
       "248       97795                                                 []   \n",
       "249       98009                                       [[dnr, dni]]   \n",
       "250       98299                                                 []   \n",
       "251       98597                                                 []   \n",
       "\n",
       "                                           cooc_minsup  label  note_cnt  \n",
       "0    [0.8333333333333334, 0.6666666666666666, 0.666...     -1        12  \n",
       "1                                                   []     -1        25  \n",
       "2                                                [1.0]     -1         3  \n",
       "3                                                   []     -1         6  \n",
       "4                                                   []     -1        16  \n",
       "..                                                 ...    ...       ...  \n",
       "247                                            [0.625]     -1        30  \n",
       "248                                                 []     -1        60  \n",
       "249                              [0.46153846153846156]     -1        33  \n",
       "250                                                 []     -1        29  \n",
       "251                                                 []     -1         2  \n",
       "\n",
       "[252 rows x 5 columns]"
      ]
     },
     "execution_count": 47,
     "metadata": {},
     "output_type": "execute_result"
    }
   ],
   "source": [
    "pneumonia_dead_cooc_df"
   ]
  },
  {
   "cell_type": "code",
   "execution_count": 48,
   "metadata": {},
   "outputs": [
    {
     "name": "stdout",
     "output_type": "stream",
     "text": [
      "74\n"
     ]
    }
   ],
   "source": [
    "cnt_ = 0\n",
    "for i, (index, row) in enumerate(pneumonia_dead_cooc_df.iterrows()):\n",
    "    if row['patient_cooc']:\n",
    "        cnt_ += 1\n",
    "print(cnt_)\n",
    "# 230 min_sup = 0.1\n",
    "# 74 min_sup = 0.4\n",
    "# 94 min_sup = 0.3"
   ]
  },
  {
   "cell_type": "code",
   "execution_count": 49,
   "metadata": {},
   "outputs": [
    {
     "data": {
      "text/html": [
       "<div>\n",
       "<style scoped>\n",
       "    .dataframe tbody tr th:only-of-type {\n",
       "        vertical-align: middle;\n",
       "    }\n",
       "\n",
       "    .dataframe tbody tr th {\n",
       "        vertical-align: top;\n",
       "    }\n",
       "\n",
       "    .dataframe thead th {\n",
       "        text-align: right;\n",
       "    }\n",
       "</style>\n",
       "<table border=\"1\" class=\"dataframe\">\n",
       "  <thead>\n",
       "    <tr style=\"text-align: right;\">\n",
       "      <th></th>\n",
       "      <th>patient_id</th>\n",
       "      <th>patient_cooc</th>\n",
       "      <th>cooc_minsup</th>\n",
       "      <th>label</th>\n",
       "      <th>note_cnt</th>\n",
       "    </tr>\n",
       "  </thead>\n",
       "  <tbody>\n",
       "    <tr>\n",
       "      <th>0</th>\n",
       "      <td>68</td>\n",
       "      <td>[]</td>\n",
       "      <td>[]</td>\n",
       "      <td>1</td>\n",
       "      <td>18</td>\n",
       "    </tr>\n",
       "    <tr>\n",
       "      <th>1</th>\n",
       "      <td>85</td>\n",
       "      <td>[]</td>\n",
       "      <td>[]</td>\n",
       "      <td>1</td>\n",
       "      <td>8</td>\n",
       "    </tr>\n",
       "    <tr>\n",
       "      <th>2</th>\n",
       "      <td>94</td>\n",
       "      <td>[]</td>\n",
       "      <td>[]</td>\n",
       "      <td>1</td>\n",
       "      <td>100</td>\n",
       "    </tr>\n",
       "    <tr>\n",
       "      <th>3</th>\n",
       "      <td>165</td>\n",
       "      <td>[]</td>\n",
       "      <td>[]</td>\n",
       "      <td>1</td>\n",
       "      <td>2</td>\n",
       "    </tr>\n",
       "    <tr>\n",
       "      <th>4</th>\n",
       "      <td>211</td>\n",
       "      <td>[]</td>\n",
       "      <td>[]</td>\n",
       "      <td>1</td>\n",
       "      <td>24</td>\n",
       "    </tr>\n",
       "    <tr>\n",
       "      <th>...</th>\n",
       "      <td>...</td>\n",
       "      <td>...</td>\n",
       "      <td>...</td>\n",
       "      <td>...</td>\n",
       "      <td>...</td>\n",
       "    </tr>\n",
       "    <tr>\n",
       "      <th>1162</th>\n",
       "      <td>99560</td>\n",
       "      <td>[]</td>\n",
       "      <td>[]</td>\n",
       "      <td>1</td>\n",
       "      <td>12</td>\n",
       "    </tr>\n",
       "    <tr>\n",
       "      <th>1163</th>\n",
       "      <td>99647</td>\n",
       "      <td>[]</td>\n",
       "      <td>[]</td>\n",
       "      <td>1</td>\n",
       "      <td>58</td>\n",
       "    </tr>\n",
       "    <tr>\n",
       "      <th>1164</th>\n",
       "      <td>99781</td>\n",
       "      <td>[[video, barium], [motor, barium], [laryng, ba...</td>\n",
       "      <td>[0.5, 0.5, 0.5, 0.5, 0.5, 0.5]</td>\n",
       "      <td>1</td>\n",
       "      <td>8</td>\n",
       "    </tr>\n",
       "    <tr>\n",
       "      <th>1165</th>\n",
       "      <td>99912</td>\n",
       "      <td>[[dnr, dni]]</td>\n",
       "      <td>[0.6555555555555556]</td>\n",
       "      <td>1</td>\n",
       "      <td>226</td>\n",
       "    </tr>\n",
       "    <tr>\n",
       "      <th>1166</th>\n",
       "      <td>99937</td>\n",
       "      <td>[]</td>\n",
       "      <td>[]</td>\n",
       "      <td>1</td>\n",
       "      <td>6</td>\n",
       "    </tr>\n",
       "  </tbody>\n",
       "</table>\n",
       "<p>1167 rows × 5 columns</p>\n",
       "</div>"
      ],
      "text/plain": [
       "      patient_id                                       patient_cooc  \\\n",
       "0             68                                                 []   \n",
       "1             85                                                 []   \n",
       "2             94                                                 []   \n",
       "3            165                                                 []   \n",
       "4            211                                                 []   \n",
       "...          ...                                                ...   \n",
       "1162       99560                                                 []   \n",
       "1163       99647                                                 []   \n",
       "1164       99781  [[video, barium], [motor, barium], [laryng, ba...   \n",
       "1165       99912                                       [[dnr, dni]]   \n",
       "1166       99937                                                 []   \n",
       "\n",
       "                         cooc_minsup  label  note_cnt  \n",
       "0                                 []      1        18  \n",
       "1                                 []      1         8  \n",
       "2                                 []      1       100  \n",
       "3                                 []      1         2  \n",
       "4                                 []      1        24  \n",
       "...                              ...    ...       ...  \n",
       "1162                              []      1        12  \n",
       "1163                              []      1        58  \n",
       "1164  [0.5, 0.5, 0.5, 0.5, 0.5, 0.5]      1         8  \n",
       "1165            [0.6555555555555556]      1       226  \n",
       "1166                              []      1         6  \n",
       "\n",
       "[1167 rows x 5 columns]"
      ]
     },
     "execution_count": 49,
     "metadata": {},
     "output_type": "execute_result"
    }
   ],
   "source": [
    "pneumonia_alive_cooc_df"
   ]
  },
  {
   "cell_type": "code",
   "execution_count": 50,
   "metadata": {},
   "outputs": [
    {
     "name": "stdout",
     "output_type": "stream",
     "text": [
      "230\n"
     ]
    }
   ],
   "source": [
    "cnt_ = 0\n",
    "for i, (index, row) in enumerate(pneumonia_alive_cooc_df.iterrows()):\n",
    "    if row['patient_cooc']:\n",
    "        cnt_ += 1\n",
    "print(cnt_)\n",
    "# 763 min_sup = 0.1\n",
    "# 230 min_sup = 0.4\n",
    "# 381 min_sup = 0.3"
   ]
  },
  {
   "cell_type": "code",
   "execution_count": null,
   "metadata": {},
   "outputs": [],
   "source": []
  },
  {
   "cell_type": "code",
   "execution_count": null,
   "metadata": {},
   "outputs": [],
   "source": []
  },
  {
   "cell_type": "code",
   "execution_count": null,
   "metadata": {},
   "outputs": [],
   "source": []
  },
  {
   "cell_type": "markdown",
   "metadata": {},
   "source": [
    "### Train the model"
   ]
  },
  {
   "cell_type": "code",
   "execution_count": 51,
   "metadata": {},
   "outputs": [],
   "source": [
    "import pandas as pd\n",
    "import numpy as np\n",
    "\n",
    "import stellargraph as sg\n",
    "from stellargraph.mapper import PaddedGraphGenerator\n",
    "from stellargraph.layer import GCNSupervisedGraphClassification\n",
    "from stellargraph import StellarGraph\n",
    "\n",
    "from stellargraph import datasets\n",
    "\n",
    "from sklearn import model_selection\n",
    "from IPython.display import display, HTML\n",
    "\n",
    "from tensorflow.keras import Model\n",
    "from tensorflow.keras.optimizers import Adam\n",
    "from tensorflow.keras.layers import Dense\n",
    "from tensorflow.keras.losses import binary_crossentropy\n",
    "from tensorflow.keras.callbacks import EarlyStopping\n",
    "import tensorflow as tf\n",
    "import matplotlib.pyplot as plt"
   ]
  },
  {
   "cell_type": "code",
   "execution_count": 52,
   "metadata": {},
   "outputs": [
    {
     "name": "stdout",
     "output_type": "stream",
     "text": [
      "[name: \"/device:CPU:0\"\n",
      "device_type: \"CPU\"\n",
      "memory_limit: 268435456\n",
      "locality {\n",
      "}\n",
      "incarnation: 2828772427251846466\n",
      ", name: \"/device:XLA_CPU:0\"\n",
      "device_type: \"XLA_CPU\"\n",
      "memory_limit: 17179869184\n",
      "locality {\n",
      "}\n",
      "incarnation: 6005527004918884681\n",
      "physical_device_desc: \"device: XLA_CPU device\"\n",
      "]\n"
     ]
    }
   ],
   "source": [
    "# https://medium.com/@kegui/how-do-i-know-i-am-running-keras-model-on-gpu-a9cdcc24f986\n",
    "from tensorflow.python.client import device_lib\n",
    "print(device_lib.list_local_devices())"
   ]
  },
  {
   "cell_type": "markdown",
   "metadata": {},
   "source": [
    "### Load the data"
   ]
  },
  {
   "cell_type": "code",
   "execution_count": 53,
   "metadata": {},
   "outputs": [
    {
     "name": "stdout",
     "output_type": "stream",
     "text": [
      "graphs: 74, labels: 74\n",
      "graphs: 304, labels: 304\n"
     ]
    }
   ],
   "source": [
    "from stellargraph import StellarGraph\n",
    "\n",
    "def create_graph_list(pd_df):\n",
    "    graphs = []\n",
    "    labels = []\n",
    "\n",
    "    for index, row in pd_df.iterrows():\n",
    "        if row['patient_cooc']:\n",
    "            source = []\n",
    "            target = []\n",
    "            for cooc in row['patient_cooc']:\n",
    "                source.append(cooc[0])\n",
    "                target.append(cooc[1])\n",
    "            \n",
    "            square_edges = pd.DataFrame({\"source\": source, \"target\": target})\n",
    "            square = StellarGraph(edges=square_edges)\n",
    "            graphs.append(square)\n",
    "            labels.append(row['label'])\n",
    "    return graphs, labels\n",
    "\n",
    "graphs = []\n",
    "labels = []\n",
    "\n",
    "graph_1, label_1 = create_graph_list(pneumonia_dead_cooc_df)\n",
    "graph_2, label_2= create_graph_list(pneumonia_alive_cooc_df)\n",
    "\n",
    "graphs.extend(graph_1)\n",
    "labels.extend(label_1)\n",
    "print(f\"graphs: {len(graphs)}, labels: {len(graphs)}\")\n",
    "graphs.extend(graph_2)\n",
    "labels.extend(label_2)\n",
    "print(f\"graphs: {len(graphs)}, labels: {len(graphs)}\")"
   ]
  },
  {
   "cell_type": "code",
   "execution_count": null,
   "metadata": {},
   "outputs": [],
   "source": []
  },
  {
   "cell_type": "code",
   "execution_count": null,
   "metadata": {},
   "outputs": [],
   "source": []
  },
  {
   "cell_type": "code",
   "execution_count": null,
   "metadata": {},
   "outputs": [],
   "source": []
  },
  {
   "cell_type": "code",
   "execution_count": null,
   "metadata": {},
   "outputs": [],
   "source": []
  },
  {
   "cell_type": "code",
   "execution_count": null,
   "metadata": {},
   "outputs": [],
   "source": []
  },
  {
   "cell_type": "code",
   "execution_count": null,
   "metadata": {},
   "outputs": [],
   "source": []
  },
  {
   "cell_type": "code",
   "execution_count": null,
   "metadata": {},
   "outputs": [],
   "source": []
  },
  {
   "cell_type": "markdown",
   "metadata": {},
   "source": [
    "### Implementation for spmf java"
   ]
  },
  {
   "cell_type": "code",
   "execution_count": null,
   "metadata": {},
   "outputs": [],
   "source": [
    "import operator\n",
    "\n",
    "\"\"\"function description:\n",
    "generates patient word itemset for each disease\n",
    "\"\"\"\n",
    "# # define stemmer\n",
    "# stemmer = PorterStemmer()\n",
    "\n",
    "def generate_FP_input_per_note(disease_name, disease_df, word_dict):\n",
    "    with open(disease_name, \"w\") as output_fp:\n",
    "\n",
    "        # write the coverted dic for the text\n",
    "        # od = collections.OrderedDict(sorted(word_dict.items()))\n",
    "        od = sorted(word_dict.items(), key = operator.itemgetter(1))\n",
    "        output_fp.write(\"@CONVERTED_FROM_TEXT\")\n",
    "        output_fp.write(\"\\n\")\n",
    "        # for k, v in od.iteritems():\n",
    "        for k,v in od:\n",
    "            output_fp.write(\"@ITEM=\")\n",
    "            output_fp.write(str(v))\n",
    "            output_fp.write(\"=\")\n",
    "            output_fp.write(str(k))\n",
    "            output_fp.write(\"\\n\")\n",
    "\n",
    "        # read line in from file (each line is one note)\n",
    "        for index, row in tqdm(disease_df.iterrows(), total=disease_df.shape[0]):\n",
    "            # if not \"Physician\" in line[4]:\n",
    "            #     continue\n",
    "                    \n",
    "            word_set = set()\n",
    "            note = row['TEXT']\n",
    "\n",
    "            tokenized_note = word_tokenize(note)\n",
    "\n",
    "            # loop through each word in note to count word belonging to each disease\n",
    "            for word in tokenized_note:\n",
    "                stemmed_word = stemmer.stem(word.lower())\n",
    "                if stemmed_word in word_dict:\n",
    "                    word_set.add(stemmed_word)\n",
    "\n",
    "            templst = []\n",
    "            for word in word_set:\n",
    "                templst.append(word_dict[word])\n",
    "\n",
    "            templst.sort()\n",
    "            for x in range(len(templst) - 1):\n",
    "                output_fp.write(str(templst[x]) + \" \")\n",
    "\n",
    "            if templst:\n",
    "                output_fp.write(str(templst[len(templst)-1]))\n",
    "                output_fp.write(\"\\n\")\n",
    "            \n",
    "    print(\"FP growth input for \" + disease_name + \" generated!\")\n",
    "\n",
    "# Given as a parameter\n",
    "generate_FP_input_per_note(\"pneumonia_dead\", pneumonia_dead_no_disch, word_dict)\n",
    "generate_FP_input_per_note(\"pneumonia_alive\", pneumonia_alive_no_disch, word_dict)\n"
   ]
  },
  {
   "cell_type": "code",
   "execution_count": null,
   "metadata": {},
   "outputs": [],
   "source": []
  },
  {
   "cell_type": "code",
   "execution_count": null,
   "metadata": {},
   "outputs": [],
   "source": []
  },
  {
   "cell_type": "code",
   "execution_count": null,
   "metadata": {},
   "outputs": [],
   "source": []
  },
  {
   "cell_type": "code",
   "execution_count": null,
   "metadata": {},
   "outputs": [],
   "source": [
    "import os\n",
    "import operator\n",
    "from pathlib import Path\n",
    "\n",
    "# ----\n",
    "def fp_growth_input_per_patient(disease_name, disease_df, word_dict):\n",
    "    \n",
    "    disease_path = os.path.join(\"./tmp\", disease_name, \"inputs\")\n",
    "    if not os.path.exists(disease_path):\n",
    "        os.makedirs(disease_path)\n",
    "        \n",
    "    patient_id = -1\n",
    "#     patient_word_set = set()\n",
    "    patient_note_list = []\n",
    "    \n",
    "    # read line in from file (each line is one note)\n",
    "    for index, row in tqdm(disease_df.iterrows(), total=disease_df.shape[0]):\n",
    "        # only regard certain type of notes\n",
    "        patient_id_check = int(row['SUBJECT_ID_x'])\n",
    "        note = re.sub(r'\\[\\*\\*(.*?)\\*\\*\\]|[_,\\d\\*:~=\\.\\-\\+\\\\/]+', ' ', row['TEXT'])\n",
    "        patient_word_set = set()\n",
    "    \n",
    "#         print(f\"patient_id_check: {patient_id_check}, patient_id: {patient_id}\")\n",
    "        # if patient id has changed, end sequence and start new sequence\n",
    "        if not patient_id == patient_id_check and not patient_id == -1:\n",
    "        \n",
    "#             disease_path = \"./tmp/\" + disease_name\n",
    "            file_name = str(patient_id) + '_' + disease_name\n",
    "            file_path = os.path.join(disease_path, file_name)\n",
    "            \n",
    "            with open(file_path, \"w\") as output_fp:\n",
    "                # write the coverted dic for the text\n",
    "                # od = collections.OrderedDict(sorted(word_dict.items()))\n",
    "    \n",
    "                od = sorted(word_dict.items(), key = operator.itemgetter(1))\n",
    "                output_fp.write(\"@CONVERTED_FROM_TEXT\")\n",
    "                output_fp.write(\"\\n\")\n",
    "                # for k, v in od.iteritems():\n",
    "                for k,v in od:\n",
    "                    output_fp.write(\"@ITEM=\")\n",
    "                    output_fp.write(str(v))\n",
    "                    output_fp.write(\"=\")\n",
    "                    output_fp.write(str(k))\n",
    "                    output_fp.write(\"\\n\")\n",
    "\n",
    "                for item in patient_note_list:\n",
    "                    for x in range(len(item) - 1):\n",
    "                        output_fp.write(str(item[x]) + \" \")\n",
    "\n",
    "                    if item:\n",
    "                        output_fp.write(str(item[len(item)-1]))\n",
    "                        output_fp.write(\"\\n\")\n",
    "\n",
    "                patient_note_list = []\n",
    "                \n",
    "\n",
    "                    \n",
    "        # update patient id\n",
    "        patient_id = patient_id_check\n",
    "        tokenized_note = word_tokenize(note)\n",
    "\n",
    "        # loop through each word in note to count word belonging to each disease\n",
    "        for word in tokenized_note:\n",
    "            stemmed_word = stemmer.stem(word.lower())       \n",
    "            if stemmed_word in word_dict:\n",
    "                    patient_word_set.add(stemmed_word)\n",
    "\n",
    "        templst = []\n",
    "        for word in patient_word_set:\n",
    "            templst.append(word_dict[word])\n",
    "\n",
    "        templst.sort()\n",
    "        patient_note_list.append(templst)\n",
    "        \n",
    "            \n",
    "    print(\"FP growth input for \" + disease_name + \" generated!\")\n",
    "\n",
    "fp_growth_input_per_patient(\"pneumonia_dead\", pneumonia_dead_no_disch, word_dict)\n",
    "fp_growth_input_per_patient(\"pneumonia_alive\", pneumonia_alive_no_disch, word_dict)\n",
    "\n"
   ]
  },
  {
   "cell_type": "code",
   "execution_count": null,
   "metadata": {},
   "outputs": [],
   "source": [
    "import os, subprocess\n",
    "print(os.getcwd())\n",
    "os.system('ls -l')\n",
    "# process = subprocess.Popen([\"java -jar spmf run FPGrowth_itemsets pneumonia_dead FP_out_test 3%\"])\n",
    "# process.wait()"
   ]
  },
  {
   "cell_type": "code",
   "execution_count": null,
   "metadata": {
    "scrolled": true
   },
   "outputs": [],
   "source": [
    "import os, subprocess\n",
    "from tqdm import tqdm\n",
    "def fp_growth_output_per_pratient(disease_name):\n",
    "#     spmf = ['java', '-jar', 'spmf.jar', 'run', 'FPGrowth_itemsets']\n",
    "    minsup = '70%'\n",
    "    inputdir = os.path.join(\"./tmp\", disease_name, \"inputs\")\n",
    "    \n",
    "    outputdir = os.path.join(\"./tmp\", disease_name, \"outputs\")\n",
    "    if not os.path.exists(outputdir):\n",
    "        os.makedirs(outputdir)\n",
    "        \n",
    "    for patient_file in tqdm(os.listdir(inputdir)):\n",
    "#         print(patient_file)\n",
    "        input_ = os.path.join(inputdir, patient_file)\n",
    "        output_ = os.path.join(outputdir, patient_file)\n",
    "#         print(f\"input_: {input_}\")\n",
    "#         print(f\"output_: {output_}\")\n",
    "        command = ['java', '-jar', 'spmf.jar', 'run', 'FPGrowth_itemsets', input_, output_, minsup]\n",
    "#         print(f\"command: {command}\")\n",
    "        subprocess.call(command)\n",
    "\n",
    "        \n",
    "\n",
    "fp_growth_output_per_pratient(\"pneumonia_dead\")\n",
    "fp_growth_output_per_pratient(\"pneumonia_alive\")\n",
    "    "
   ]
  },
  {
   "cell_type": "code",
   "execution_count": null,
   "metadata": {
    "scrolled": true
   },
   "outputs": [],
   "source": [
    "def findItemSets(fileName, length_OfItemSet):\n",
    "\n",
    "    file_read = fileName\n",
    "    lengthOfItemSet = int(length_OfItemSet)\n",
    "\n",
    "    wordlst = []\n",
    "    with open(file_read, \"r\") as fp:\n",
    "        for line in fp:\n",
    "            line = line.split()\n",
    "            if line:\n",
    "                wordlst.append(line)\n",
    "\n",
    "    coocurrencies = []\n",
    "\n",
    "    for listitem in wordlst:\n",
    "\n",
    "        if len(listitem) == (lengthOfItemSet + 2):\n",
    "            coocurrencies.append(listitem)\n",
    "\n",
    "    output = sorted(coocurrencies, key=lambda x: int(x[-1]))\n",
    "\n",
    "\n",
    "    for x in reversed(output):\n",
    "        if lengthOfItemSet == 2:\n",
    "            print(\"%s %s %s\" % (x[0], x[1], x[3]))\n",
    "        elif lengthOfItemSet == 3:\n",
    "            print(\"%s %s %s %s\" % (x[0], x[1], x[2], x[4]))\n",
    "        elif lengthOfItemSet == 4:\n",
    "            print(\"%s %s %s %s %s\" % (x[0], x[1], x[2], x[3], x[5]))\n",
    "        elif lengthOfItemSet == 5:\n",
    "            print(\"%s %s %s %s %s %s\" % (x[0], x[1], x[2], x[3], x[4], x[6]))\n",
    "            \n",
    "# findItemSets('FP_growth_pneumonia_alive_output.txt', 2)\n",
    "findItemSets('./tmp/111_out.txt', 2)"
   ]
  },
  {
   "cell_type": "code",
   "execution_count": null,
   "metadata": {},
   "outputs": [],
   "source": []
  }
 ],
 "metadata": {
  "kernelspec": {
   "display_name": "Python 3",
   "language": "python",
   "name": "python3"
  },
  "language_info": {
   "codemirror_mode": {
    "name": "ipython",
    "version": 3
   },
   "file_extension": ".py",
   "mimetype": "text/x-python",
   "name": "python",
   "nbconvert_exporter": "python",
   "pygments_lexer": "ipython3",
   "version": "3.7.6"
  }
 },
 "nbformat": 4,
 "nbformat_minor": 4
}
