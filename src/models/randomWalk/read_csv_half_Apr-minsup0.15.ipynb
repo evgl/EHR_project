{
 "cells": [
  {
   "cell_type": "markdown",
   "metadata": {},
   "source": [
    "### Data extraction\n",
    "Extract data from MIMIC-III"
   ]
  },
  {
   "cell_type": "code",
   "execution_count": 1,
   "metadata": {
    "scrolled": true
   },
   "outputs": [
    {
     "data": {
      "text/html": [
       "        <script type=\"text/javascript\">\n",
       "        window.PlotlyConfig = {MathJaxConfig: 'local'};\n",
       "        if (window.MathJax) {MathJax.Hub.Config({SVG: {font: \"STIX-Web\"}});}\n",
       "        if (typeof require !== 'undefined') {\n",
       "        require.undef(\"plotly\");\n",
       "        requirejs.config({\n",
       "            paths: {\n",
       "                'plotly': ['https://cdn.plot.ly/plotly-latest.min']\n",
       "            }\n",
       "        });\n",
       "        require(['plotly'], function(Plotly) {\n",
       "            window._Plotly = Plotly;\n",
       "        });\n",
       "        }\n",
       "        </script>\n",
       "        "
      ]
     },
     "metadata": {},
     "output_type": "display_data"
    }
   ],
   "source": [
    "import time\n",
    "import numpy as np \n",
    "import pandas as pd\n",
    "import matplotlib.pyplot as plt\n",
    "import seaborn as sns\n",
    "from tqdm import tqdm\n",
    "import cufflinks\n",
    "\n",
    "cufflinks.go_offline()\n",
    "cufflinks.set_config_file(world_readable=True, theme='pearl')"
   ]
  },
  {
   "cell_type": "code",
   "execution_count": 2,
   "metadata": {},
   "outputs": [
    {
     "name": "stderr",
     "output_type": "stream",
     "text": [
      "/data/home/evgenii/anaconda3/lib/python3.7/site-packages/IPython/core/interactiveshell.py:3063: DtypeWarning:\n",
      "\n",
      "Columns (4,5) have mixed types.Specify dtype option on import or set low_memory=False.\n",
      "\n"
     ]
    },
    {
     "name": "stdout",
     "output_type": "stream",
     "text": [
      "39.090027809143066\n"
     ]
    }
   ],
   "source": [
    "# Import pandas \n",
    "import pandas as pd \n",
    "\n",
    "start = time.time()\n",
    "# reading csv file \n",
    "admissions_df = pd.read_csv(\"../../MIMIC-III//ADMISSIONS.csv\")\n",
    "noteevents_df = pd.read_csv(\"../../MIMIC-III//NOTEEVENTS.csv\") \n",
    "end = time.time()\n",
    "print(end - start)\n"
   ]
  },
  {
   "cell_type": "code",
   "execution_count": 3,
   "metadata": {},
   "outputs": [
    {
     "name": "stdout",
     "output_type": "stream",
     "text": [
      "4.577013731002808\n"
     ]
    }
   ],
   "source": [
    "start = time.time()\n",
    "# Left join of two dataframes\n",
    "note_admiss_df_left = noteevents_df.merge(admissions_df, on='HADM_ID', how='left', indicator=True)\n",
    "end = time.time()\n",
    "print(end - start)"
   ]
  },
  {
   "cell_type": "code",
   "execution_count": 4,
   "metadata": {
    "scrolled": false
   },
   "outputs": [
    {
     "data": {
      "text/html": [
       "<div>\n",
       "<style scoped>\n",
       "    .dataframe tbody tr th:only-of-type {\n",
       "        vertical-align: middle;\n",
       "    }\n",
       "\n",
       "    .dataframe tbody tr th {\n",
       "        vertical-align: top;\n",
       "    }\n",
       "\n",
       "    .dataframe thead th {\n",
       "        text-align: right;\n",
       "    }\n",
       "</style>\n",
       "<table border=\"1\" class=\"dataframe\">\n",
       "  <thead>\n",
       "    <tr style=\"text-align: right;\">\n",
       "      <th></th>\n",
       "      <th>DIAGNOSIS</th>\n",
       "      <th>SUBJECT_ID_x</th>\n",
       "      <th>SUBJECT_ID_y</th>\n",
       "      <th>DESCRIPTION</th>\n",
       "      <th>CATEGORY</th>\n",
       "    </tr>\n",
       "  </thead>\n",
       "  <tbody>\n",
       "    <tr>\n",
       "      <th>0</th>\n",
       "      <td>RT LOWER LOBE PNEUMONIA</td>\n",
       "      <td>22532</td>\n",
       "      <td>22532.0</td>\n",
       "      <td>Report</td>\n",
       "      <td>Discharge summary</td>\n",
       "    </tr>\n",
       "    <tr>\n",
       "      <th>1</th>\n",
       "      <td>CHRONIC OBSTRUCTIVE PULMONARY DISEASE</td>\n",
       "      <td>13702</td>\n",
       "      <td>13702.0</td>\n",
       "      <td>Report</td>\n",
       "      <td>Discharge summary</td>\n",
       "    </tr>\n",
       "    <tr>\n",
       "      <th>2</th>\n",
       "      <td>TRACHEALBRONCHEAL MALACEA/SDA</td>\n",
       "      <td>13702</td>\n",
       "      <td>13702.0</td>\n",
       "      <td>Report</td>\n",
       "      <td>Discharge summary</td>\n",
       "    </tr>\n",
       "    <tr>\n",
       "      <th>3</th>\n",
       "      <td>ASTHMA;COPD EXACERBATION</td>\n",
       "      <td>13702</td>\n",
       "      <td>13702.0</td>\n",
       "      <td>Report</td>\n",
       "      <td>Discharge summary</td>\n",
       "    </tr>\n",
       "    <tr>\n",
       "      <th>4</th>\n",
       "      <td>S/P FALL;TELEMETRY</td>\n",
       "      <td>26880</td>\n",
       "      <td>26880.0</td>\n",
       "      <td>Report</td>\n",
       "      <td>Discharge summary</td>\n",
       "    </tr>\n",
       "    <tr>\n",
       "      <th>...</th>\n",
       "      <td>...</td>\n",
       "      <td>...</td>\n",
       "      <td>...</td>\n",
       "      <td>...</td>\n",
       "      <td>...</td>\n",
       "    </tr>\n",
       "    <tr>\n",
       "      <th>2083175</th>\n",
       "      <td>NEWBORN</td>\n",
       "      <td>31097</td>\n",
       "      <td>31097.0</td>\n",
       "      <td>Report</td>\n",
       "      <td>Nursing/other</td>\n",
       "    </tr>\n",
       "    <tr>\n",
       "      <th>2083176</th>\n",
       "      <td>NEWBORN</td>\n",
       "      <td>31097</td>\n",
       "      <td>31097.0</td>\n",
       "      <td>Report</td>\n",
       "      <td>Nursing/other</td>\n",
       "    </tr>\n",
       "    <tr>\n",
       "      <th>2083177</th>\n",
       "      <td>NEWBORN</td>\n",
       "      <td>31097</td>\n",
       "      <td>31097.0</td>\n",
       "      <td>Report</td>\n",
       "      <td>Nursing/other</td>\n",
       "    </tr>\n",
       "    <tr>\n",
       "      <th>2083178</th>\n",
       "      <td>NEWBORN</td>\n",
       "      <td>31097</td>\n",
       "      <td>31097.0</td>\n",
       "      <td>Report</td>\n",
       "      <td>Nursing/other</td>\n",
       "    </tr>\n",
       "    <tr>\n",
       "      <th>2083179</th>\n",
       "      <td>NEWBORN</td>\n",
       "      <td>31097</td>\n",
       "      <td>31097.0</td>\n",
       "      <td>Report</td>\n",
       "      <td>Nursing/other</td>\n",
       "    </tr>\n",
       "  </tbody>\n",
       "</table>\n",
       "<p>2083180 rows × 5 columns</p>\n",
       "</div>"
      ],
      "text/plain": [
       "                                     DIAGNOSIS  SUBJECT_ID_x  SUBJECT_ID_y  \\\n",
       "0                      RT LOWER LOBE PNEUMONIA         22532       22532.0   \n",
       "1        CHRONIC OBSTRUCTIVE PULMONARY DISEASE         13702       13702.0   \n",
       "2                TRACHEALBRONCHEAL MALACEA/SDA         13702       13702.0   \n",
       "3                     ASTHMA;COPD EXACERBATION         13702       13702.0   \n",
       "4                           S/P FALL;TELEMETRY         26880       26880.0   \n",
       "...                                        ...           ...           ...   \n",
       "2083175                                NEWBORN         31097       31097.0   \n",
       "2083176                                NEWBORN         31097       31097.0   \n",
       "2083177                                NEWBORN         31097       31097.0   \n",
       "2083178                                NEWBORN         31097       31097.0   \n",
       "2083179                                NEWBORN         31097       31097.0   \n",
       "\n",
       "        DESCRIPTION           CATEGORY  \n",
       "0            Report  Discharge summary  \n",
       "1            Report  Discharge summary  \n",
       "2            Report  Discharge summary  \n",
       "3            Report  Discharge summary  \n",
       "4            Report  Discharge summary  \n",
       "...             ...                ...  \n",
       "2083175      Report      Nursing/other  \n",
       "2083176      Report      Nursing/other  \n",
       "2083177      Report      Nursing/other  \n",
       "2083178      Report      Nursing/other  \n",
       "2083179      Report      Nursing/other  \n",
       "\n",
       "[2083180 rows x 5 columns]"
      ]
     },
     "execution_count": 4,
     "metadata": {},
     "output_type": "execute_result"
    }
   ],
   "source": [
    "note_admiss_df_left[['DIAGNOSIS', 'SUBJECT_ID_x', 'SUBJECT_ID_y','DESCRIPTION', 'CATEGORY']]"
   ]
  },
  {
   "cell_type": "code",
   "execution_count": 5,
   "metadata": {
    "scrolled": true
   },
   "outputs": [],
   "source": [
    "pneumonia_df = note_admiss_df_left.loc[note_admiss_df_left[\"DIAGNOSIS\"] == 'PNEUMONIA', ['ROW_ID_x', 'SUBJECT_ID_x', 'HADM_ID', 'CHARTDATE', 'CHARTTIME', 'STORETIME', 'CATEGORY', 'DESCRIPTION', 'CGID', 'ISERROR', 'TEXT', 'ADMITTIME', 'DISCHTIME', 'DEATHTIME', 'ADMISSION_TYPE', 'DIAGNOSIS', 'HAS_CHARTEVENTS_DATA']]"
   ]
  },
  {
   "cell_type": "code",
   "execution_count": 6,
   "metadata": {},
   "outputs": [],
   "source": [
    "#pneumonia_no_disch_df = pneumonia_df.loc[pneumonia_df[\"CATEGORY\"] != 'Discharge summary', ['ROW_ID_x', 'SUBJECT_ID_x', 'HADM_ID', 'CHARTDATE', 'CHARTTIME', 'STORETIME', 'CATEGORY', 'DESCRIPTION', 'CGID', 'ISERROR', 'TEXT', 'ADMITTIME', 'DISCHTIME', 'DEATHTIME', 'ADMISSION_TYPE', 'DIAGNOSIS', 'HAS_CHARTEVENTS_DATA']]\n",
    "pneumonia_no_disch_df = pneumonia_df.loc[pneumonia_df[\"CATEGORY\"] != 'Discharge summary', ['ROW_ID_x','SUBJECT_ID_x','CHARTDATE','STORETIME','CATEGORY','DESCRIPTION','TEXT', 'DEATHTIME']]"
   ]
  },
  {
   "cell_type": "code",
   "execution_count": 7,
   "metadata": {},
   "outputs": [],
   "source": [
    "pneumonia_alive_no_disch = pneumonia_no_disch_df[pneumonia_no_disch_df.DEATHTIME.isnull()]\n",
    "pneumonia_dead_no_disch = pneumonia_no_disch_df[pneumonia_no_disch_df.DEATHTIME.notnull()]"
   ]
  },
  {
   "cell_type": "code",
   "execution_count": 8,
   "metadata": {},
   "outputs": [
    {
     "data": {
      "text/plain": [
       "(11895, 8)"
      ]
     },
     "execution_count": 8,
     "metadata": {},
     "output_type": "execute_result"
    }
   ],
   "source": [
    "pneumonia_dead_no_disch.shape"
   ]
  },
  {
   "cell_type": "code",
   "execution_count": 9,
   "metadata": {},
   "outputs": [
    {
     "data": {
      "text/plain": [
       "(46134, 8)"
      ]
     },
     "execution_count": 9,
     "metadata": {},
     "output_type": "execute_result"
    }
   ],
   "source": [
    "pneumonia_alive_no_disch.shape"
   ]
  },
  {
   "cell_type": "code",
   "execution_count": 10,
   "metadata": {},
   "outputs": [],
   "source": [
    "pneumonia_alive_no_disch = pneumonia_alive_no_disch.sort_values(by=['SUBJECT_ID_x','CHARTDATE', 'ROW_ID_x'])\n",
    "pneumonia_dead_no_disch = pneumonia_dead_no_disch.sort_values(by=['SUBJECT_ID_x','CHARTDATE', 'ROW_ID_x'])"
   ]
  },
  {
   "cell_type": "code",
   "execution_count": 11,
   "metadata": {},
   "outputs": [
    {
     "data": {
      "text/plain": [
       "252"
      ]
     },
     "execution_count": 11,
     "metadata": {},
     "output_type": "execute_result"
    }
   ],
   "source": [
    "# Number of patients\n",
    "pneumonia_dead_no_disch['SUBJECT_ID_x'].nunique()"
   ]
  },
  {
   "cell_type": "code",
   "execution_count": 12,
   "metadata": {
    "scrolled": true
   },
   "outputs": [
    {
     "data": {
      "text/plain": [
       "1167"
      ]
     },
     "execution_count": 12,
     "metadata": {},
     "output_type": "execute_result"
    }
   ],
   "source": [
    "# Number of patients\n",
    "pneumonia_alive_no_disch['SUBJECT_ID_x'].nunique()"
   ]
  },
  {
   "cell_type": "code",
   "execution_count": 13,
   "metadata": {},
   "outputs": [],
   "source": [
    "# import text handling tool\n",
    "from nltk.tokenize import word_tokenize\n",
    "from nltk.corpus import stopwords\n",
    "from nltk.stem import PorterStemmer\n",
    "\n",
    "from collections import Counter\n",
    "\n",
    "import sys\n",
    "import re\n",
    "import csv\n",
    "import os.path\n",
    "\n",
    "# define constants\n",
    "# RESULT_HEADER = \"WORD, FREQUENCY\\n\"\n",
    "MIN_SEQ_LEN = 4\n",
    "USE_1_N_SEQ = 2\n",
    "\n",
    "\n",
    "# words that do not have meaning (can be modified later)\n",
    "USELESS_WORDS = [\"a\", \"the\", \"he\", \"she\", \",\", \".\", \"?\", \"!\", \":\", \";\", \"+\", \"*\", \"**\"\\\n",
    "                 \"your\", \"you\"]\n",
    "\n",
    "# count up the frequency of every word in every disease file\n",
    "stemmer = PorterStemmer()\n",
    "# create set of words to ignore in text\n",
    "stop_words = set(stopwords.words('english'))\n",
    "\n",
    "for word in USELESS_WORDS:\n",
    "    stop_words.add(word)"
   ]
  },
  {
   "cell_type": "code",
   "execution_count": 14,
   "metadata": {},
   "outputs": [
    {
     "name": "stderr",
     "output_type": "stream",
     "text": [
      "100%|██████████| 11895/11895 [00:01<00:00, 9135.52it/s]\n",
      "100%|██████████| 46134/46134 [00:04<00:00, 9240.62it/s]\n"
     ]
    }
   ],
   "source": [
    "\n",
    "#----------\n",
    "def count_notes_per_patient(disease_df):\n",
    "    patient_id_to_num_notes = {}\n",
    "    patient_id = -1\n",
    "    note_counter = 0\n",
    "            \n",
    "    for index, row in tqdm(disease_df.iterrows(), total=disease_df.shape[0]):\n",
    "        patient_id_check = int(row['SUBJECT_ID_x'])\n",
    "                \n",
    "        if not patient_id == patient_id_check:\n",
    "            patient_id_to_num_notes[patient_id] = note_counter\n",
    "            note_counter = 1\n",
    "        else:\n",
    "            note_counter += 1\n",
    "                    \n",
    "        patient_id = patient_id_check\n",
    "                \n",
    "    patient_id_to_num_notes[patient_id] = note_counter\n",
    "    del patient_id_to_num_notes[-1]\n",
    "    return patient_id_to_num_notes\n",
    "\n",
    "patient_id_to_num_notes = {}\n",
    "patient_id_to_num_notes['pneumonia_dead'] = count_notes_per_patient(pneumonia_dead_no_disch)\n",
    "patient_id_to_num_notes['pneumonia_alive'] = count_notes_per_patient(pneumonia_alive_no_disch)"
   ]
  },
  {
   "cell_type": "code",
   "execution_count": 15,
   "metadata": {},
   "outputs": [
    {
     "name": "stderr",
     "output_type": "stream",
     "text": [
      "100%|██████████| 11895/11895 [00:47<00:00, 249.79it/s]\n",
      "  0%|          | 1/46134 [00:00<1:33:41,  8.21it/s]"
     ]
    },
    {
     "name": "stdout",
     "output_type": "stream",
     "text": [
      "5989 note events\n",
      "finished counting frequent words for patients!\n"
     ]
    },
    {
     "name": "stderr",
     "output_type": "stream",
     "text": [
      "100%|██████████| 46134/46134 [03:01<00:00, 254.66it/s]"
     ]
    },
    {
     "name": "stdout",
     "output_type": "stream",
     "text": [
      "23172 note events\n",
      "finished counting frequent words for patients!\n"
     ]
    },
    {
     "name": "stderr",
     "output_type": "stream",
     "text": [
      "\n"
     ]
    }
   ],
   "source": [
    "def count_words_per_patient(disease_df, patient_id_to_num_notes):\n",
    "    note_appearance_counter = {}\n",
    "    number_of_patients = 0 # number of patients\n",
    "    note_counter = 0\n",
    "\n",
    "# -----------\n",
    "    patient_id = -1\n",
    "    word_set = set()\n",
    "    note_event_counter = 0\n",
    "\n",
    "    # Iterate through each note\n",
    "    for index, row in tqdm(disease_df.iterrows(), total=disease_df.shape[0]):\n",
    "\n",
    "        \n",
    "        patient_id_check = int(row['SUBJECT_ID_x'])\n",
    "    \n",
    "        # if patient id has changed, end sequence and start new sequence\n",
    "        if not patient_id == patient_id_check:\n",
    "            number_of_patients += 1\n",
    "            note_event_counter = 0\n",
    "        \n",
    "            for word in word_set:\n",
    "                if word in note_appearance_counter:\n",
    "                    note_appearance_counter[word] += 1\n",
    "                else:\n",
    "                    note_appearance_counter[word] = 1\n",
    "\n",
    "        \n",
    "            # reset word_set\n",
    "            word_set = set()\n",
    "        \n",
    "        # update patient id\n",
    "        patient_id = patient_id_check\n",
    "\n",
    "            \n",
    "        if patient_id_to_num_notes[patient_id_check] <= MIN_SEQ_LEN:\n",
    "            continue\n",
    "            \n",
    "        if note_event_counter < patient_id_to_num_notes[patient_id] // USE_1_N_SEQ:\n",
    "            note_event_counter += 1\n",
    "            continue\n",
    "                \n",
    "        note_counter += 1\n",
    "        note = re.sub(r'\\[\\*\\*(.*?)\\*\\*\\]|[_,\\d\\*:~=\\.\\-\\+\\\\/]+', ' ', row['TEXT'])\n",
    "        tokenized_note = word_tokenize(note)\n",
    "        \n",
    "        \n",
    "        for word in tokenized_note:\n",
    "            stemmed_word = stemmer.stem(word.lower())\n",
    "            if not stemmed_word in stop_words:\n",
    "                word_set.add(stemmed_word)\n",
    "    \n",
    "    print(str(note_counter) + \" note events\")\n",
    "    print(\"finished counting frequent words for patients!\")\n",
    "#     return note_counter, note_appearance_counter\n",
    "    return number_of_patients, note_appearance_counter\n",
    "\n",
    "# variable dictionaries\n",
    "number_of_notes = {}\n",
    "note_appearance_counter = {}\n",
    "\n",
    "number_of_notes['pneumonia_dead'], note_appearance_counter['pneumonia_dead'] = count_words_per_patient(pneumonia_dead_no_disch, patient_id_to_num_notes['pneumonia_dead'])\n",
    "number_of_notes['pneumonia_alive'], note_appearance_counter['pneumonia_alive'] = count_words_per_patient(pneumonia_alive_no_disch, patient_id_to_num_notes['pneumonia_alive'])"
   ]
  },
  {
   "cell_type": "code",
   "execution_count": 16,
   "metadata": {},
   "outputs": [],
   "source": [
    "# # get hyper-paramters n_fold and threshold from user input\n",
    "n_fold = float(3)\n",
    "threshold = float(0.01)\n",
    "\n",
    "frequent_word_lists = {}\n",
    "factor = {}"
   ]
  },
  {
   "cell_type": "code",
   "execution_count": 17,
   "metadata": {},
   "outputs": [
    {
     "name": "stdout",
     "output_type": "stream",
     "text": [
      "pneumonia_dead has 11678 unique words!\n",
      "pneumonia_alive has 22572 unique words!\n",
      "finished making frequent words list for pneumonia_alive\n"
     ]
    }
   ],
   "source": [
    "\"\"\"function description:\n",
    "for each disease in note_appearance_counter\n",
    "    1. checks whether a word in disease file is frequent(frequency standard as defined by factor, n_fold, and threshold)\n",
    "    2. adds to frequent_word_list\n",
    "\"\"\"\n",
    "\n",
    "# def find_frequent_word(note_appearance_counter, frequent_word_lists, number_of_notes, factor, n_fold, threshold):\n",
    "\n",
    "# calculate normalizing factor for each disease\n",
    "note_sum = 0\n",
    "\n",
    "# Count from two labels\n",
    "for disease in number_of_notes:\n",
    "    note_sum += float(number_of_notes[disease])\n",
    "    \n",
    "for disease in number_of_notes:\n",
    "    factor[disease] = number_of_notes[disease] / note_sum\n",
    "\n",
    "# determine frequent word for each disease file\n",
    "for disease in note_appearance_counter:\n",
    "    frequent_word_lists[disease] = []\n",
    "\n",
    "    print(disease + \" has \" + str(len(note_appearance_counter[disease])) + \" unique words!\")\n",
    "\n",
    "    for word in note_appearance_counter[disease]:\n",
    "        \n",
    "        freq_check = True\n",
    "        for check_disease in note_appearance_counter:\n",
    "            \n",
    "            if not disease == check_disease:\n",
    "                if word in note_appearance_counter[check_disease]:\n",
    "                    if not (note_appearance_counter[disease][word] / note_appearance_counter[check_disease][word] / factor[disease] * factor[check_disease] > n_fold \\\n",
    "                        and note_appearance_counter[disease][word] > (number_of_notes[disease] * threshold)):\n",
    "\n",
    "                        freq_check = False\n",
    "                        break\n",
    "\n",
    "                else:\n",
    "                    if not (note_appearance_counter[disease][word] > n_fold and note_appearance_counter[disease][word] > (number_of_notes[disease] * threshold)):\n",
    "                        freq_check = False\n",
    "                        break\n",
    "        if freq_check:\n",
    "            frequent_word_lists[disease].append((word))\n",
    "            # Create a tuple of word and its count\n",
    "#             frequent_word_lists[disease].append((word, note_appearance_counter[disease][word]))\n",
    "\n",
    "        \n",
    "\n",
    "print(\"finished making frequent words list for \" + disease)"
   ]
  },
  {
   "cell_type": "code",
   "execution_count": 18,
   "metadata": {},
   "outputs": [
    {
     "name": "stdout",
     "output_type": "stream",
     "text": [
      "454\n",
      "329\n"
     ]
    }
   ],
   "source": [
    "print(len(frequent_word_lists['pneumonia_dead']))\n",
    "print(len(frequent_word_lists['pneumonia_alive']))"
   ]
  },
  {
   "cell_type": "markdown",
   "metadata": {},
   "source": [
    "### 2. Co-occurrence generation"
   ]
  },
  {
   "cell_type": "code",
   "execution_count": 19,
   "metadata": {},
   "outputs": [
    {
     "name": "stdout",
     "output_type": "stream",
     "text": [
      "783\n",
      "783\n"
     ]
    }
   ],
   "source": [
    "FREQUENT_WORD_LIST = frequent_word_lists['pneumonia_dead'] + frequent_word_lists['pneumonia_alive']\n",
    "print(len(FREQUENT_WORD_LIST))\n",
    "print(len(set(FREQUENT_WORD_LIST)))"
   ]
  },
  {
   "cell_type": "code",
   "execution_count": 20,
   "metadata": {
    "scrolled": true
   },
   "outputs": [
    {
     "name": "stdout",
     "output_type": "stream",
     "text": [
      "\n",
      "word dictionary created! Length: 783\n",
      "\n",
      "{'cremat': 1, 'mottl': 2, 'unrespon': 3, 'arrest': 4, 'vasopressin': 5, 'hypothermia': 6, 'autopeep': 7, 'dic': 8, 'anur': 9, 'hypercapnia': 10, 'pcv': 11, 'arrang': 12, 'clinician': 13, 'azotemia': 14, 'park': 15, 'expir': 16, 'refractori': 17, 'hypercapn': 18, 'funer': 19, 'pea': 20, 'paralyt': 21, 'clergi': 22, 'cpr': 23, 'elig': 24, 'bicarbon': 25, 'death': 26, 'norepinephrin': 27, 'acidem': 28, 'suffer': 29, 'recruit': 30, 'profound': 31, 'phenylephrin': 32, 'virtual': 33, 'slough': 34, 'nonpurpo': 35, 'gum': 36, 'sluggish': 37, 'dk': 38, 'dni': 39, 'dnr': 40, 'lubric': 41, 'cmo': 42, 'nacl': 43, 'pinpoint': 44, 'oder': 45, 'float': 46, 'mso': 47, 'levoph': 48, 'clariti': 49, 'wish': 50, 'suport': 51, 'institut': 52, 'remin': 53, 'dead': 54, 'antb': 55, 'hypot': 56, 'peerla': 57, 'bow': 58, 'purpl': 59, 'gather': 60, 'viabl': 61, 'option': 62, 'priest': 63, 'grim': 64, 'dd': 65, 'prognosi': 66, 'pronounc': 67, 'respon': 68, 'centimet': 69, 'bye': 70, 'asystol': 71, 'mad': 72, 'life': 73, 'acv': 74, 'depth': 75, 'synch': 76, 'aprv': 77, 'agreement': 78, 'mortem': 79, 'cathol': 80, 'througout': 81, 'moniotr': 82, 'chaplain': 83, 'nrbm': 84, 'sync': 85, 'peac': 86, 'mgx': 87, 'surviv': 88, 'hover': 89, 'duski': 90, 'ppn': 91, 'vtach': 92, 'deterior': 93, 'mortum': 94, 'cvvh': 95, 'acidot': 96, 'deliv': 97, 'neosynephrin': 98, 'pulseless': 99, 'defibril': 100, 'rusti': 101, 'jerk': 102, 'vasopressor': 103, 'cvvhdf': 104, 'crrt': 105, 'quiac': 106, 'seriou': 107, 'suppport': 108, 'corneal': 109, 'hemothorax': 110, 'agon': 111, 'cvvhd': 112, 'pfr': 113, 'declin': 114, 'pray': 115, 'ultrafiltr': 116, 'cooler': 117, 'quinton': 118, 'lw': 119, 'towel': 120, 'levof': 121, 'hypotherm': 122, 'brb': 123, 'rewir': 124, 'cyanot': 125, 'among': 126, 'bair': 127, 'maroon': 128, 'spiritu': 129, 'pitressin': 130, 'lc': 131, 'ethic': 132, 'uffp': 133, 'multisystem': 134, 'gratitud': 135, 'hugger': 136, 'elimin': 137, 'scl': 138, 'unequ': 139, 'ffp': 140, 'cagluc': 141, 'mtg': 142, 'ashen': 143, 'zero': 144, 'morgu': 145, 'prayer': 146, 'promod': 147, 'warmer': 148, 'erythro': 149, 'sml': 150, 'syre': 151, 'paco': 152, 'chane': 153, 'escal': 154, \"tf'ing\": 155, 'asynchron': 156, 'absorb': 157, 'triadyn': 158, 'bond': 159, 'bank': 160, 'norepi': 161, 'rabbi': 162, 'motil': 163, 'discard': 164, 'bairhugg': 165, 'nahco': 166, 'discoordin': 167, 'neo': 168, 'polymorph': 169, 'autopsi': 170, 'ran': 171, 'town': 172, 'circuit': 173, 'rediscuss': 174, 'edt': 175, '^rr': 176, 'gc': 177, 'unstabl': 178, 'mind': 179, 'hunger': 180, 'hung': 181, 'dopamin': 182, 'polici': 183, 'intiat': 184, 'palli': 185, 'canton': 186, 'moan': 187, 'tacycard': 188, 'readdress': 189, 'fliud': 190, 'acc': 191, 'overlay': 192, 'ozz': 193, 'artifici': 194, 'proph': 195, 'recalibr': 196, 'underneath': 197, 'inclu': 198, 'gurgl': 199, 'anuria': 200, 'judgement': 201, 'broader': 202, 'dobutamin': 203, 'platlet': 204, 'platelet': 205, 'oncologist': 206, 'adenosin': 207, 'hospic': 208, 'quadrent': 209, 'oligur': 210, 'nephrolog': 211, 'hepati': 212, 'surgicel': 213, 'griev': 214, 'gvhd': 215, 'anyway': 216, 'cellcept': 217, 'core': 218, 'sorb': 219, 'gut': 220, 'psup': 221, 'cardiovert': 222, 'kerlix': 223, 'pheresi': 224, 'influenc': 225, 'fentenyl': 226, 'cisatracurium': 227, 'twitch': 228, 'snt': 229, 'wether': 230, 'extremitiy': 231, 'fc': 232, 'hiccup': 233, 'preme': 234, 'caspofungin': 235, 'repson': 236, 'pose': 237, 'chemic': 238, 'fungemia': 239, 'grimmac': 240, 'ettub': 241, 'oximetri': 242, 'barotrauma': 243, 'crt': 244, 'postpylor': 245, 'liw': 246, 'plat': 247, 'nephrogram': 248, 'sacrament': 249, 'rescan': 250, 'conc': 251, 'fentani': 252, 'lcw': 253, 'grave': 254, 'chb': 255, 'mail': 256, 'nonreact': 257, 'heroic': 258, 'awhil': 259, 'nonrebreath': 260, 'occupi': 261, 'pleuravac': 262, 'familt': 263, 'propo': 264, 'struggl': 265, 'ultra': 266, 'reappear': 267, 'palliat': 268, 'opinion': 269, 'reveiw': 270, 'gentamycin': 271, 'icter': 272, 'criticar': 273, 'resucit': 274, 'preoxygen': 275, 'themselv': 276, 'sooner': 277, 'amongst': 278, 'fibrinogen': 279, 'reguard': 280, 'ogtub': 281, 'wma': 282, 'cvo': 283, 'abruptli': 284, 'mean': 285, 'ardsnet': 286, 'tubular': 287, 'pplat': 288, 'kyphoscoliosi': 289, 'pneumonectomi': 290, 'sibl': 291, 'vasoconstrict': 292, 'gasp': 293, 'recev': 294, 'hook': 295, 'colour': 296, 'tran': 297, 'hida': 298, 'realist': 299, 'moreov': 300, 'innum': 301, 'aricept': 302, 'buck': 303, 'irrev': 304, 'pvr': 305, 'argatroban': 306, 'unr': 307, 'pharmacolog': 308, 'aliv': 309, 'creep': 310, 'vigil': 311, 'wil': 312, 'derecruit': 313, 'attemtp': 314, 'epsiod': 315, 'eyelid': 316, 'ration': 317, 'religi': 318, 'respitori': 319, 'famil': 320, 'imbal': 321, 'myeloma': 322, 'analgesia': 323, 'muddi': 324, 'adam': 325, 'declar': 326, 'neob': 327, 'dorsal': 328, 'od': 329, 'moisten': 330, 'requr': 331, 'heliox': 332, 'diflucan': 333, 'emper': 334, 'futil': 335, 'illeu': 336, 'osteoblast': 337, 'currentl': 338, 'perisplen': 339, 'nimv': 340, 'preliminarili': 341, 'fli': 342, 'rhochor': 343, 'plerual': 344, 'sluggishli': 345, 'esoph': 346, 'forth': 347, 'prioriti': 348, 'dysynchron': 349, 'occurr': 350, 'unplan': 351, 'binder': 352, 'ipf': 353, 'goodbi': 354, 'ccn': 355, 'stg': 356, 'meatu': 357, 'unar': 358, 'scopalamin': 359, 'tobra': 360, 'rite': 361, 'hemodynim': 362, 'bless': 363, 'petechia': 364, 'fentayl': 365, 'harm': 366, 'doen': 367, 'furhter': 368, 'calvarium': 369, 'montitor': 370, 'stack': 371, 'fmaili': 372, 'chol': 373, 'figur': 374, 'underpenetr': 375, 'pyuria': 376, 'ggt': 377, 'thrombot': 378, 'massag': 379, 'outer': 380, 'mrcp': 381, 'synchroni': 382, 'contini': 383, 'formul': 384, 'treatement': 385, 'amioderon': 386, 'news': 387, 'unobtain': 388, 'anasarc': 389, 'led': 390, 'mvo': 391, 'pastor': 392, 'essent': 393, 'diuril': 394, 'gaol': 395, 'chlorothiazid': 396, 'currenlti': 397, 'thrive': 398, 'predict': 399, 'aglc': 400, 'normotherm': 401, 'fresh': 402, 'babinski': 403, 'opportun': 404, 'quinolon': 405, 'chlorhex': 406, 'esld': 407, 'dex': 408, 'vasopress': 409, 'synthet': 410, 'mycolyt': 411, 'multiorgan': 412, 'concer': 413, 'trabecul': 414, 'tachpnea': 415, 'medex': 416, 'imp': 417, 'raglan': 418, 'ind': 419, 'director': 420, 'fdp': 421, 'abnl': 422, 'pupillari': 423, 'grd': 424, 'schistocyt': 425, 'meropenam': 426, 'assymetr': 427, 'impli': 428, 'learn': 429, 'outlook': 430, 'lusb': 431, 'inhibit': 432, 'lymphangit': 433, 'dxae': 434, 'repon': 435, 'unalt': 436, 'friction': 437, 'goc': 438, 'esophagogastr': 439, 'permiss': 440, 'proport': 441, 'foll': 442, 'agonist': 443, 'unrel': 444, 'svv': 445, 'vigileo': 446, 'dietet': 447, 'hemithorac': 448, 'hepatobiliari': 449, 'desynchron': 450, 'inspit': 451, 'natg': 452, 'mjmgb': 453, 'driven': 454, 'gait': 455, 'ambien': 456, 'commod': 457, 'pleasant': 458, 'ambul': 459, 'oob': 460, 'fal': 461, 'unsteadi': 462, 'chair': 463, 'intent': 464, 'rm': 465, 'thk': 466, 'puff': 467, 'laminectomi': 468, 'modifi': 469, 'spong': 470, 'splint': 471, 'bell': 472, 'fluor': 473, 'supervi': 474, 'lift': 475, 'static': 476, 'aox': 477, 'lat': 478, 'db': 479, 'lpm': 480, 'nice': 481, 'breakfast': 482, 'fax': 483, 'venti': 484, 'msicu': 485, 'idea': 486, 'cup': 487, 'transmitr': 488, 'laryng': 489, 'tranfer': 490, 'hyperinten': 491, 'foci': 492, 'chip': 493, 'clonazepam': 494, 'calmer': 495, 'nonlabor': 496, 'spur': 497, 'deploy': 498, 'vagu': 499, 'gastrojejunostomi': 500, 'dermat': 501, 'treitz': 502, 'qtc': 503, 'cs': 504, 'itchi': 505, 'consciou': 506, \"sxn'ing\": 507, 'plate': 508, 'jejunum': 509, 'money': 510, 'cloth': 511, 'unasyn': 512, 'jewelri': 513, 'dz': 514, 'distort': 515, 'wallet': 516, 'cash': 517, 'signatur': 518, 'syst': 519, 'pharyng': 520, 'zyprexa': 521, 'behavior': 522, 'redirect': 523, 'uncoop': 524, 'pleasantli': 525, 'effac': 526, 'thirst': 527, 'hilum': 528, 'schizophrenia': 529, 'bipolar': 530, 'unenhanc': 531, 'align': 532, 'bronchovascular': 533, 'arthrit': 534, 'pericard': 535, 'incis': 536, 'rehabilit': 537, 'gown': 538, 'quietli': 539, 'stood': 540, 'lotion': 541, 'xl': 542, 'fu': 543, 'rememb': 544, 'deflat': 545, 'diaper': 546, 'rpe': 547, 'contractur': 548, '^th': 549, 'olanzapin': 550, 'mellitu': 551, 'mrg': 552, 'bottl': 553, 'knowledg': 554, 'locomot': 555, 'scab': 556, 'hctz': 557, 'ntnd': 558, 'passi': 559, 'thiamin': 560, 'passey': 561, 'unassist': 562, 'fee': 563, 'lax': 564, 'macu': 565, 'flight': 566, 'rpr': 567, 'muir': 568, 'occipit': 569, 'hygein': 570, 'distanc': 571, 'motor': 572, 'weekli': 573, 'strengthen': 574, 'cg': 575, 'probe': 576, 'compani': 577, 'stair': 578, 'ud': 579, 'viscou': 580, 'subdur': 581, 'vp': 582, 'ligament': 583, 'captopril': 584, 'fwb': 585, 'scar': 586, 'iddm': 587, 'zoloft': 588, 'pneumococc': 589, 'im': 590, 'gadolinium': 591, 'osa': 592, 'magnevist': 593, 'tea': 594, 'neutral': 595, 'smooth': 596, 'exophyt': 597, 'forc': 598, 'appi': 599, 'trazodon': 600, 'prec': 601, 'historian': 602, 'spiromet': 603, 'incent': 604, 'phlegm': 605, 'bmx': 606, 'sensat': 607, 'burn': 608, 'postop': 609, 'overs': 610, 'gotten': 611, 'seroquel': 612, 'hurt': 613, 'robitussin': 614, 'tracheomalacia': 615, 'nocturn': 616, 'autoset': 617, 'barium': 618, 'video': 619, 'nectar': 620, 'ofm': 621, 'asthma': 622, 'spacer': 623, 'sweat': 624, 'knew': 625, 'dome': 626, 'amb': 627, 'beeper': 628, 'calculi': 629, 'sarna': 630, 'xanax': 631, 'cefapim': 632, 'lighthead': 633, 'pivot': 634, 'dizzi': 635, 'yel': 636, 'dyslipidemia': 637, 'endur': 638, 'ctx': 639, 'bsn': 640, 'suspen': 641, 'eob': 642, 'bromid': 643, 'readmit': 644, 'wfl': 645, 'simpli': 646, 'lob': 647, 'ncm': 648, 'rin': 649, 'angri': 650, 'hydralizin': 651, 'neoplast': 652, 'waist': 653, 'west': 654, 'paperwork': 655, 'morbid': 656, 'solut': 657, 'rsrc': 658, 'metoclopramid': 659, 'sundown': 660, 'clonidin': 661, 'freeli': 662, 'hsq': 663, 'ppd': 664, 'omeprazol': 665, 'crowd': 666, 'perpher': 667, 'ferritin': 668, 'rigor': 669, 'spfc': 670, 'diaphoresi': 671, 'precordium': 672, 'cramp': 673, 'gabapentin': 674, 'silent': 675, 'divi': 676, 'ultram': 677, 'pneumothorac': 678, 'para': 679, 'aaox': 680, 'ciwa': 681, 'epigastr': 682, 'book': 683, 'tie': 684, 'collat': 685, 'habitu': 686, 'qam': 687, 'mood': 688, 'articul': 689, 'mandibl': 690, 'ero': 691, 'method': 692, 'homogen': 693, 'spirit': 694, 'vallecula': 695, 'panic': 696, 'pathologist': 697, 'lac': 698, 'vertebra': 699, 'subcost': 700, 'parastern': 701, 'svn': 702, 'young': 703, 'epidur': 704, 'hemisph': 705, 'yankuer': 706, 'phasic': 707, 'spectral': 708, 'rhinorrhea': 709, 'unavail': 710, 'fatti': 711, 'eg': 712, 'hive': 713, 'klonopin': 714, 'mucinex': 715, 'opiat': 716, 'pca': 717, 'spill': 718, 'crack': 719, 'dietari': 720, 'tdi': 721, 'stitch': 722, 'ferrou': 723, 'cracker': 724, 'ggo': 725, 'hhn': 726, 'suprapub': 727, 'subq': 728, 'echocardiogram': 729, 'cdb': 730, 'seat': 731, 'uri': 732, 'glycopyrrol': 733, 'contd': 734, 'angiogram': 735, 'syncop': 736, 'angioplasti': 737, 'carvedilol': 738, 'cooki': 739, 'nicotin': 740, 'xopenex': 741, 'cocain': 742, 'videofluoroscopi': 743, 'nitroglycerin': 744, 'propul': 745, 'piriform': 746, 'xii': 747, 'tcdb': 748, 'leukocyt': 749, 'hoar': 750, 'soln': 751, 'protrud': 752, 'diamox': 753, 'prilosec': 754, 'colonoscopi': 755, 'slice': 756, 'overdo': 757, 'coarctat': 758, 'shorter': 759, 'endplat': 760, 'herp': 761, 'pod': 762, 'ruptur': 763, 'gastriti': 764, 'td': 765, 'tremul': 766, 'coach': 767, 'flake': 768, 'adenocarcinoma': 769, 'banana': 770, 'radioden': 771, 'thoracocentesi': 772, 'bill': 773, 'mva': 774, 'hemangioma': 775, 'anaphylaxi': 776, 'nifedipin': 777, 'ba': 778, 'strictur': 779, 'retic': 780, 'romi': 781, 'acetazolamid': 782, 'peribronchovascular': 783}\n"
     ]
    }
   ],
   "source": [
    "\"\"\"function description:\n",
    "generates frequent word set for the disease\n",
    "\"\"\"\n",
    "word_dict = {}\n",
    "word_id = 1\n",
    "stemmer = PorterStemmer()\n",
    "\n",
    "\n",
    "for word in FREQUENT_WORD_LIST:\n",
    "    if not word == \"WORD\":\n",
    "        word_dict[stemmer.stem(word.strip())] = word_id\n",
    "        word_id += 1\n",
    "             \n",
    "print(f\"\\nword dictionary created! Length: {len(word_dict)}\\n\")\n",
    "print(word_dict)"
   ]
  },
  {
   "cell_type": "code",
   "execution_count": null,
   "metadata": {},
   "outputs": [],
   "source": []
  },
  {
   "cell_type": "markdown",
   "metadata": {},
   "source": [
    "### Count co-occurrences per patient"
   ]
  },
  {
   "cell_type": "code",
   "execution_count": 21,
   "metadata": {},
   "outputs": [
    {
     "name": "stderr",
     "output_type": "stream",
     "text": [
      "100%|██████████| 11895/11895 [01:44<00:00, 113.64it/s]\n",
      "100%|██████████| 46134/46134 [06:36<00:00, 116.41it/s]\n"
     ]
    }
   ],
   "source": [
    "\n",
    "\n",
    "# Comparison algorithms\n",
    "# Apriori, Fpgrowth, fp_max\n",
    "\n",
    "# Apriori\n",
    "import pandas as pd\n",
    "\n",
    "from mlxtend.preprocessing import TransactionEncoder\n",
    "from mlxtend.frequent_patterns import fpgrowth\n",
    "\n",
    "# ----\n",
    "def apr_patterns_per_patient_python(disease_df, min_support):\n",
    "    \n",
    "    # For dataframe\n",
    "    patient_cooc_dict = {}\n",
    "    patient_node_dict = {}\n",
    "    patient_note_cnt = {}\n",
    "    patient_itemset_dict = {}\n",
    "    \n",
    "    # --------------    \n",
    "    patient_id = -1\n",
    "    note_cnt = 0\n",
    "    patient_note_list = []\n",
    "    \n",
    "    # read line in from file (each line is one note)\n",
    "    for index, row in tqdm(disease_df.iterrows(), total=disease_df.shape[0]):\n",
    "        \n",
    "        # only regard certain type of notes\n",
    "        patient_id_check = int(row['SUBJECT_ID_x'])\n",
    "        note = re.sub(r'\\[\\*\\*(.*?)\\*\\*\\]|[_,\\d\\*:~=\\.\\-\\+\\\\/]+', ' ', row['TEXT'])\n",
    "        patient_word_set = set()\n",
    "    \n",
    "#         print(f\"patient_id_check: {patient_id_check}, patient_id: {patient_id}\")\n",
    "        # if patient id has changed, end sequence and start new sequence\n",
    "        if not patient_id == patient_id_check and not patient_id == -1:\n",
    "            te = TransactionEncoder()\n",
    "            te_ary = te.fit(patient_note_list).transform(patient_note_list)\n",
    "            df = pd.DataFrame(te_ary, columns=te.columns_)\n",
    "            df_itemsets = fpgrowth(df, min_support=min_support, use_colnames=True)\n",
    "            \n",
    "            cooc_tmp = []\n",
    "            cooc_minsup_tmp = []\n",
    "            node_minsup_tmp = []\n",
    "            cooc_node_idx_tmp = []\n",
    "            itemsets_tmp = []\n",
    "            \n",
    "            for index, row in df_itemsets.iterrows():\n",
    "                if len(row['itemsets']) == 1:\n",
    "                    word = list(row['itemsets'])[0]\n",
    "                    min_sup = row['support']\n",
    "\n",
    "                    node_minsup_tmp.append(len(patient_note_list) * row['support'])\n",
    "                    cooc_node_idx_tmp.append(word)\n",
    "                    \n",
    "                if len(row['itemsets']) == 2:\n",
    "                    cooc_ = sorted(list(row['itemsets']))\n",
    "                    cooc_tmp.append(cooc_)\n",
    "                    cooc_minsup_tmp.append(len(patient_note_list) * row['support'])\n",
    "\n",
    "                if len(row['itemsets']) >= 2:\n",
    "                    itemset = sorted(list(row['itemsets']))\n",
    "                    itemsets_tmp.append(itemset)\n",
    "                    \n",
    "            \n",
    "            cooc_dict = {}\n",
    "\n",
    "            for num, i in enumerate(cooc_tmp):\n",
    "                if tuple(i) not in cooc_dict:\n",
    "                    cooc_dict[tuple(i)] = cooc_minsup_tmp[num]\n",
    "\n",
    "\n",
    "            node_dict = {}\n",
    "            for num, i in enumerate(cooc_node_idx_tmp):\n",
    "                if i not in node_dict:\n",
    "                    node_dict[i] = node_minsup_tmp[num]\n",
    "\n",
    "            # Update glob lists\n",
    "            if patient_id not in patient_cooc_dict:\n",
    "                patient_cooc_dict[patient_id] = cooc_dict\n",
    "                patient_node_dict[patient_id] = node_dict\n",
    "                patient_note_cnt[patient_id] = note_cnt\n",
    "                patient_itemset_dict[patient_id] = itemsets_tmp\n",
    "    \n",
    "            else:\n",
    "                print(f\"patient_id: {patient_id} is already in the dictionary!\")\n",
    "            \n",
    "            \n",
    "            # Reset local lists\n",
    "            patient_note_list = []\n",
    "            note_cnt = 0\n",
    "                    \n",
    "        # update patient id\n",
    "        patient_id = patient_id_check\n",
    "        tokenized_note = word_tokenize(note)\n",
    "        note_cnt += 1\n",
    "\n",
    "        # loop through each word in note to count word belonging to each disease\n",
    "        for word in tokenized_note:\n",
    "            stemmed_word = stemmer.stem(word.lower())       \n",
    "            if stemmed_word in word_dict:\n",
    "                patient_word_set.add(stemmed_word)\n",
    "\n",
    "        templst = []\n",
    "        for word in patient_word_set:\n",
    "            templst.append(word)\n",
    "\n",
    "        if templst:\n",
    "            patient_note_list.append(templst)\n",
    "    \n",
    "    # Last patient info\n",
    "    te = TransactionEncoder()\n",
    "    te_ary = te.fit(patient_note_list).transform(patient_note_list)\n",
    "    df = pd.DataFrame(te_ary, columns=te.columns_)\n",
    "    df_itemsets = fpgrowth(df, min_support=min_support, use_colnames=True)\n",
    "            \n",
    "    cooc_tmp = []\n",
    "    cooc_minsup_tmp = []\n",
    "    #-----\n",
    "    node_minsup_tmp = []\n",
    "    cooc_node_idx_tmp = []\n",
    "    itemsets_tmp = []\n",
    "            \n",
    "    for index, row in df_itemsets.iterrows():\n",
    "        if len(row['itemsets']) == 1:\n",
    "            word = list(row['itemsets'])[0]\n",
    "            node_minsup_tmp.append(len(patient_note_list) * row['support'])\n",
    "            cooc_node_idx_tmp.append(word)\n",
    "\n",
    "        if len(row['itemsets']) == 2:\n",
    "            cooc_ = sorted(list(row['itemsets']))\n",
    "            cooc_tmp.append(cooc_)\n",
    "            cooc_minsup_tmp.append(len(patient_note_list) * row['support'])\n",
    "\n",
    "        if len(row['itemsets']) >= 2:\n",
    "            itemset = sorted(list(row['itemsets']))\n",
    "            itemsets_tmp.append(itemset)\n",
    "\n",
    "    cooc_dict = {}\n",
    "\n",
    "    for num, i in enumerate(cooc_tmp):\n",
    "        if tuple(i) not in cooc_dict:\n",
    "            cooc_dict[tuple(i)] = cooc_minsup_tmp[num]\n",
    "\n",
    "\n",
    "    node_dict = {}\n",
    "    for num, i in enumerate(cooc_node_idx_tmp):\n",
    "        if i not in node_dict:\n",
    "            node_dict[i] = node_minsup_tmp[num]\n",
    "    \n",
    "                \n",
    "\n",
    "    # Update glob lists\n",
    "    if patient_id not in patient_cooc_dict:\n",
    "        patient_cooc_dict[patient_id] = cooc_dict\n",
    "        patient_node_dict[patient_id] = node_dict\n",
    "        patient_note_cnt[patient_id] = note_cnt\n",
    "        patient_itemset_dict[patient_id] = itemsets_tmp\n",
    "    else:\n",
    "        print(f\"patient_id: {patient_id} is already in the dictionary!\")\n",
    "\n",
    "    return patient_node_dict, patient_cooc_dict, patient_itemset_dict, patient_note_cnt\n",
    "\n",
    "apr_patient_node_0, apr_patient_cooc_0, apr_patient_itemset_0, apr_patient_note_num_0 = apr_patterns_per_patient_python(pneumonia_dead_no_disch, 0.15)\n",
    "apr_patient_node_1, apr_patient_cooc_1, apr_patient_itemset_1, apr_patient_note_num_1 = apr_patterns_per_patient_python(pneumonia_alive_no_disch, 0.15)"
   ]
  },
  {
   "cell_type": "code",
   "execution_count": 22,
   "metadata": {},
   "outputs": [],
   "source": [
    "# Create a set of all unique co-occurrences from both group\n",
    "patient_cooc_set = set()\n",
    "patient_cooc_0_dict = {}\n",
    "patient_cooc_1_dict = {}\n",
    "\n",
    "for k, v in apr_patient_cooc_0.items():\n",
    "    for item in v:\n",
    "        patient_cooc_set.add(item)\n",
    "        if item not in patient_cooc_0_dict:\n",
    "            patient_cooc_0_dict[item] = v[item]\n",
    "        else:\n",
    "            patient_cooc_0_dict[item] = patient_cooc_0_dict[item] + v[item]\n",
    "            \n",
    "    \n",
    "for k, v in apr_patient_cooc_1.items():\n",
    "    for item in v:\n",
    "        patient_cooc_set.add(item)\n",
    "        if item not in patient_cooc_1_dict:\n",
    "            patient_cooc_1_dict[item] = v[item]\n",
    "        else:\n",
    "            patient_cooc_1_dict[item] = patient_cooc_1_dict[item] + v[item]"
   ]
  },
  {
   "cell_type": "code",
   "execution_count": 23,
   "metadata": {},
   "outputs": [
    {
     "name": "stdout",
     "output_type": "stream",
     "text": [
      "6776\n",
      "1989\n",
      "5152\n"
     ]
    }
   ],
   "source": [
    "print(len(patient_cooc_set))\n",
    "print(len(patient_cooc_0_dict))\n",
    "print(len(patient_cooc_1_dict))"
   ]
  },
  {
   "cell_type": "code",
   "execution_count": 24,
   "metadata": {},
   "outputs": [],
   "source": [
    "import math\n",
    "patient_cooc_odd_scores = {}\n",
    "for set_item in patient_cooc_set:\n",
    "    if set_item in patient_cooc_0_dict and set_item in patient_cooc_1_dict: \n",
    "        d_prob = patient_cooc_0_dict[set_item]/(patient_cooc_0_dict[set_item] + patient_cooc_1_dict[set_item])\n",
    "        a_prob = patient_cooc_1_dict[set_item]/(patient_cooc_0_dict[set_item] + patient_cooc_1_dict[set_item])\n",
    "        log_odd_score = math.log((a_prob + 0.001)/(d_prob+0.001))\n",
    "        patient_cooc_odd_scores[set_item] = log_odd_score\n",
    "    elif set_item in patient_cooc_0_dict:\n",
    "        log_odd_score = math.log((0.001)/(1.001))\n",
    "        patient_cooc_odd_scores[set_item] = log_odd_score\n",
    "    elif set_item in patient_cooc_1_dict:\n",
    "        log_odd_score = math.log((1.001)/(0.001))\n",
    "        patient_cooc_odd_scores[set_item] = log_odd_score"
   ]
  },
  {
   "cell_type": "code",
   "execution_count": 25,
   "metadata": {},
   "outputs": [
    {
     "data": {
      "text/plain": [
       "{('dnr', 'requr'): -1.7859498421315991,\n",
       " ('ambul', 'eyelid'): -6.90875477931522,\n",
       " ('breakfast', 'panic'): 6.90875477931522,\n",
       " ('ba', 'opiat'): 6.90875477931522,\n",
       " ('hive', 'oncologist'): -1.0473214909132258,\n",
       " ('qtc', 'venti'): 6.90875477931522,\n",
       " ('mrcp', 'wma'): -6.90875477931522,\n",
       " ('nonlabor', 'oob'): 6.90875477931522,\n",
       " ('oximetri', 'rigor'): 6.90875477931522,\n",
       " ('laminectomi', 'mellitu'): 6.90875477931522,\n",
       " ('captopril', 'proph'): 6.90875477931522,\n",
       " ('ppd', 'unstabl'): 6.90875477931522,\n",
       " ('ruptur', 'sibl'): 6.90875477931522,\n",
       " ('vasopressin', 'wma'): -6.90875477931522,\n",
       " ('phenylephrin', 'seat'): 6.90875477931522,\n",
       " ('echocardiogram', 'sweat'): 6.90875477931522,\n",
       " ('aliv', 'sweat'): 6.90875477931522,\n",
       " ('angiogram', 'hemangioma'): 6.90875477931522,\n",
       " ('bair', 'deterior'): 6.90875477931522,\n",
       " ('opiat', 'pharyng'): 6.90875477931522,\n",
       " ('subq', 'thiamin'): 6.90875477931522,\n",
       " ('hung', 'life'): -6.90875477931522,\n",
       " ('dni', 'iddm'): 6.90875477931522,\n",
       " ('chair', 'levoph'): 6.90875477931522,\n",
       " ('dex', 'nonrebreath'): 6.90875477931522,\n",
       " ('ppd', 'trazodon'): 6.90875477931522,\n",
       " ('asthma', 'lac'): 6.90875477931522,\n",
       " ('aricept', 'signatur'): -6.90875477931522,\n",
       " ('breakfast', 'chair'): 6.90875477931522,\n",
       " ('hive', 'uri'): 6.90875477931522,\n",
       " ('dnr', 'wish'): 0.45453473275630624,\n",
       " ('dnr', 'option'): -1.6812038300138494,\n",
       " ('hive', 'signatur'): 6.90875477931522,\n",
       " ('db', 'spiromet'): 6.90875477931522,\n",
       " ('mellitu', 'olanzapin'): 6.90875477931522,\n",
       " ('dni', 'trabecul'): 6.90875477931522,\n",
       " ('hive', 'wallet'): 6.90875477931522,\n",
       " ('epidur', 'gabapentin'): 6.90875477931522,\n",
       " ('hive', 'ruptur'): 6.90875477931522,\n",
       " ('behavior', 'nectar'): 6.90875477931522,\n",
       " ('colonoscopi', 'epidur'): 6.90875477931522,\n",
       " ('soln', 'xii'): 6.90875477931522,\n",
       " ('dizzi', 'lat'): 6.90875477931522,\n",
       " ('neoplast', 'opinion'): 6.90875477931522,\n",
       " ('chair', 'video'): 6.90875477931522,\n",
       " ('cmo', 'lpm'): -6.90875477931522,\n",
       " ('endplat', 'para'): -6.90875477931522,\n",
       " ('azotemia', 'ctx'): 6.90875477931522,\n",
       " ('quinolon', 'trazodon'): 6.90875477931522,\n",
       " ('chair', 'forc'): -6.90875477931522,\n",
       " ('mva', 'unstabl'): 6.90875477931522,\n",
       " ('rehabilit', 'rhinorrhea'): 6.90875477931522,\n",
       " ('levoph', 'morbid'): 6.90875477931522,\n",
       " ('declin', 'mva'): 6.90875477931522,\n",
       " ('lotion', 'refractori'): 6.90875477931522,\n",
       " ('hung', 'neo'): -6.90875477931522,\n",
       " ('azotemia', 'ntnd'): -1.5360079185039965,\n",
       " ('hive', 'itchi'): 6.90875477931522,\n",
       " ('pharmacolog', 'scar'): 6.90875477931522,\n",
       " ('rhinorrhea', 'stair'): 6.90875477931522,\n",
       " ('klonopin', 'sweat'): 6.90875477931522,\n",
       " ('mean', 'seat'): 6.90875477931522,\n",
       " ('incis', 'wish'): -6.90875477931522,\n",
       " ('hypotherm', 'platelet'): -6.90875477931522,\n",
       " ('captopril', 'pod'): 6.90875477931522,\n",
       " ('endplat', 'peribronchovascular'): -6.90875477931522,\n",
       " ('anur', 'hive'): 6.90875477931522,\n",
       " ('ferrou', 'xii'): 6.90875477931522,\n",
       " ('ggo', 'iddm'): 6.90875477931522,\n",
       " ('peribronchovascular', 'plate'): 6.90875477931522,\n",
       " ('pronounc', 'sacrament'): -6.90875477931522,\n",
       " ('dead', 'dopamin'): -6.90875477931522,\n",
       " ('anur', 'petechia'): -6.90875477931522,\n",
       " ('levoph', 'rpr'): 6.90875477931522,\n",
       " ('barium', 'motor'): 6.90875477931522,\n",
       " ('ambul', 'furhter'): -6.90875477931522,\n",
       " ('dnr', 'meropenam'): -6.90875477931522,\n",
       " ('dobutamin', 'sluggish'): -6.90875477931522,\n",
       " ('neo', 'requr'): -6.90875477931522,\n",
       " ('dni', 'nephrolog'): -1.2495579516853903,\n",
       " ('ppd', 'subq'): 6.90875477931522,\n",
       " ('pleasant', 'unasyn'): 6.90875477931522,\n",
       " ('norepinephrin', 'rpr'): 6.90875477931522,\n",
       " ('hemangioma', 'simpli'): 6.90875477931522,\n",
       " ('peribronchovascular', 'smooth'): -6.90875477931522,\n",
       " ('gabapentin', 'hive'): 6.90875477931522,\n",
       " ('escal', 'muddi'): -6.90875477931522,\n",
       " ('fibrinogen', 'hypothermia'): 6.90875477931522,\n",
       " ('eg', 'pronounc'): 6.90875477931522,\n",
       " ('ferritin', 'qam'): 6.90875477931522,\n",
       " ('gait', 'profound'): 6.90875477931522,\n",
       " ('ciwa', 'sweat'): 6.90875477931522,\n",
       " ('freeli', 'refractori'): 6.90875477931522,\n",
       " ('lc', 'pinpoint'): -6.90875477931522,\n",
       " ('agreement', 'mso'): -6.90875477931522,\n",
       " ('norepinephrin', 'vasopressin'): -0.08151482022467259,\n",
       " ('retic', 'syncop'): 6.90875477931522,\n",
       " ('hsq', 'intent'): 6.90875477931522,\n",
       " ('levoph', 'unstabl'): 0.0,\n",
       " ('ppd', 'rm'): 6.90875477931522,\n",
       " ('acidot', 'sluggish'): -6.90875477931522,\n",
       " ('mrg', 'suprapub'): 6.90875477931522,\n",
       " ('erythro', 'pleasant'): 6.90875477931522,\n",
       " ('anuria', 'crrt'): -6.90875477931522,\n",
       " ('klonopin', 'strictur'): 6.90875477931522,\n",
       " ('cagluc', 'hypotherm'): -6.90875477931522,\n",
       " ('neo', 'platelet'): -6.90875477931522,\n",
       " ('hospic', 'requr'): 6.90875477931522,\n",
       " ('option', 'thrive'): -6.90875477931522,\n",
       " ('captopril', 'pleasant'): 6.90875477931522,\n",
       " ('anur', 'oligur'): -6.90875477931522,\n",
       " ('epigastr', 'qam'): 6.90875477931522,\n",
       " ('ffp', 'mso'): 6.90875477931522,\n",
       " ('db', 'phlegm'): 6.90875477931522,\n",
       " ('gastriti', 'myeloma'): 6.90875477931522,\n",
       " ('dead', 'declar'): -6.90875477931522,\n",
       " ('moan', 'rabbi'): -6.90875477931522,\n",
       " ('historian', 'money'): 6.90875477931522,\n",
       " ('ciwa', 'crack'): 6.90875477931522,\n",
       " ('chair', 'seroquel'): 6.90875477931522,\n",
       " ('omeprazol', 'young'): 6.90875477931522,\n",
       " ('impli', 'peribronchovascular'): 6.90875477931522,\n",
       " ('osa', 'xl'): 6.90875477931522,\n",
       " ('arrest', 'cardiovert'): -6.90875477931522,\n",
       " ('adenocarcinoma', 'bromid'): 6.90875477931522,\n",
       " ('contractur', 'dopamin'): -6.90875477931522,\n",
       " ('aricept', 'pivot'): -6.90875477931522,\n",
       " ('motor', 'pharyng'): 6.90875477931522,\n",
       " ('sensat', 'zyprexa'): -6.90875477931522,\n",
       " ('aricept', 'bottl'): 6.90875477931522,\n",
       " ('gasp', 'hilum'): -6.90875477931522,\n",
       " ('aliv', 'prilosec'): 6.90875477931522,\n",
       " ('db', 'tubular'): 6.90875477931522,\n",
       " ('sensat', 'suprapub'): 6.90875477931522,\n",
       " ('ashen', 'mellitu'): 6.90875477931522,\n",
       " ('gurgl', 'oob'): 6.90875477931522,\n",
       " ('incis', 'neo'): 6.90875477931522,\n",
       " ('solut', 'treatement'): 6.90875477931522,\n",
       " ('deterior', 'norepinephrin'): 6.90875477931522,\n",
       " ('bank', 'dnr'): 6.90875477931522,\n",
       " ('dni', 'waist'): -6.90875477931522,\n",
       " ('bipolar', 'oob'): -3.3717009764392825,\n",
       " ('assymetr', 'echocardiogram'): 6.90875477931522,\n",
       " ('anuria', 'vasopressin'): -6.90875477931522,\n",
       " ('mottl', 'pleasant'): 6.90875477931522,\n",
       " ('dz', 'phenylephrin'): 6.90875477931522,\n",
       " ('ctx', 'epigastr'): 6.90875477931522,\n",
       " ('dnr', 'hypotherm'): -1.604655121332035,\n",
       " ('ciwa', 'xii'): 6.90875477931522,\n",
       " ('chip', 'oob'): 6.90875477931522,\n",
       " ('bipolar', 'seriou'): 6.90875477931522,\n",
       " ('coach', 'ferrou'): 6.90875477931522,\n",
       " ('aox', 'broader'): 6.90875477931522,\n",
       " ('ba', 'mind'): 6.90875477931522,\n",
       " ('asthma', 'gabapentin'): 6.90875477931522,\n",
       " ('vasopressin', 'venti'): -6.90875477931522,\n",
       " ('mellitu', 'pod'): 6.90875477931522,\n",
       " ('exophyt', 'foci'): 6.90875477931522,\n",
       " ('anaphylaxi', 'ultram'): 6.90875477931522,\n",
       " ('pneumococc', 'puff'): 6.90875477931522,\n",
       " ('incis', 'scar'): 6.90875477931522,\n",
       " ('aox', 'phenylephrin'): 6.90875477931522,\n",
       " ('declin', 'mortum'): -6.90875477931522,\n",
       " ('forth', 'pleasant'): 6.90875477931522,\n",
       " ('natg', 'peribronchovascular'): 0.0,\n",
       " ('omeprazol', 'solut'): 6.90875477931522,\n",
       " ('dnr', 'refractori'): 6.90875477931522,\n",
       " ('dni', 'norepinephrin'): -6.90875477931522,\n",
       " ('autoset', 'ciwa'): 6.90875477931522,\n",
       " ('effac', 'mean'): 6.90875477931522,\n",
       " ('captopril', 'chair'): 6.90875477931522,\n",
       " ('dni', 'zyprexa'): 1.6812038300138494,\n",
       " ('hypercapnia', 'pea'): -6.90875477931522,\n",
       " ('adam', 'captopril'): -6.90875477931522,\n",
       " ('hilum', 'pronounc'): 6.90875477931522,\n",
       " ('ctx', 'mtg'): 6.90875477931522,\n",
       " ('puff', 'qam'): 6.90875477931522,\n",
       " ('bicarbon', 'stitch'): 6.90875477931522,\n",
       " ('ferrou', 'soln'): 6.90875477931522,\n",
       " ('derecruit', 'paralyt'): -6.90875477931522,\n",
       " ('hsq', 'mood'): 6.90875477931522,\n",
       " ('strictur', 'trabecul'): 6.90875477931522,\n",
       " ('pneumococc', 'uri'): 6.90875477931522,\n",
       " ('dyslipidemia', 'scar'): 6.90875477931522,\n",
       " ('dizzi', 'laryng'): 6.90875477931522,\n",
       " ('dnr', 'vasopressin'): -6.90875477931522,\n",
       " ('dopamin', 'levof'): -6.90875477931522,\n",
       " ('anaphylaxi', 'imbal'): 6.90875477931522,\n",
       " ('nifedipin', 'robitussin'): 6.90875477931522,\n",
       " ('azotemia', 'ba'): 6.90875477931522,\n",
       " ('neoplast', 'thiamin'): 6.90875477931522,\n",
       " ('clonazepam', 'platelet'): 6.90875477931522,\n",
       " ('ppd', 'rpr'): 6.90875477931522,\n",
       " ('habitu', 'levoph'): 6.90875477931522,\n",
       " ('acidot', 'neo'): -6.90875477931522,\n",
       " ('fatti', 'vagu'): 6.90875477931522,\n",
       " ('chair', 'cup'): 6.90875477931522,\n",
       " ('bair', 'pinpoint'): -6.90875477931522,\n",
       " ('readmit', 'subdur'): 6.90875477931522,\n",
       " ('heroic', 'readdress'): -6.90875477931522,\n",
       " ('lift', 'oob'): 6.90875477931522,\n",
       " ('agon', 'neosynephrin'): -6.90875477931522,\n",
       " ('acc', 'aricept'): 6.90875477931522,\n",
       " ('aox', 'hctz'): 6.90875477931522,\n",
       " ('anuria', 'arrest'): 6.90875477931522,\n",
       " ('habitu', 'hive'): 6.90875477931522,\n",
       " ('dic', 'strictur'): 6.90875477931522,\n",
       " ('declin', 'dnr'): 2.7567935411197357,\n",
       " ('hemothorax', 'suffer'): -6.90875477931522,\n",
       " ('hctz', 'motor'): 6.90875477931522,\n",
       " ('qam', 'wish'): 6.90875477931522,\n",
       " ('arrest', 'asthma'): 6.90875477931522,\n",
       " ('osa', 'strictur'): 6.90875477931522,\n",
       " ('osa', 'ran'): 6.90875477931522,\n",
       " ('oob', 'thk'): 6.90875477931522,\n",
       " ('director', 'pleasant'): 6.90875477931522,\n",
       " ('chair', 'money'): 6.90875477931522,\n",
       " ('dni', 'ppd'): -6.90875477931522,\n",
       " ('clinician', 'incis'): 6.90875477931522,\n",
       " ('cs', 'oob'): 6.90875477931522,\n",
       " ('bipolar', 'mood'): 6.90875477931522,\n",
       " ('aricept', 'video'): 6.90875477931522,\n",
       " ('fibrinogen', 'suffer'): 6.90875477931522,\n",
       " ('lusb', 'pyuria'): -6.90875477931522,\n",
       " ('osa', 'trabecul'): 6.90875477931522,\n",
       " ('abruptli', 'levoph'): -6.90875477931522,\n",
       " ('palli', 'readmit'): 6.90875477931522,\n",
       " ('hctz', 'omeprazol'): 6.90875477931522,\n",
       " ('dnr', 'montitor'): -6.90875477931522,\n",
       " ('cloth', 'pleasant'): -0.4046335072286383,\n",
       " ('exophyt', 'pyuria'): -6.90875477931522,\n",
       " ('pneumococc', 'pod'): 6.90875477931522,\n",
       " ('exophyt', 'nephrogram'): 6.90875477931522,\n",
       " ('dnr', 'nicotin'): 6.90875477931522,\n",
       " ('arrest', 'dic'): -6.90875477931522,\n",
       " ('cpr', 'levoph'): -6.90875477931522,\n",
       " ('autoset', 'ppd'): 6.90875477931522,\n",
       " ('schizophrenia', 'ultram'): 6.90875477931522,\n",
       " ('bromid', 'clonazepam'): 6.90875477931522,\n",
       " ('hive', 'osa'): 6.90875477931522,\n",
       " ('adenocarcinoma', 'pronounc'): -6.90875477931522,\n",
       " ('flight', 'subdur'): 6.90875477931522,\n",
       " ('declin', 'xopenex'): 6.90875477931522,\n",
       " ('bill', 'pod'): 6.90875477931522,\n",
       " ('jewelri', 'oob'): 6.90875477931522,\n",
       " ('motor', 'subq'): 6.90875477931522,\n",
       " ('refractori', 'spfc'): 6.90875477931522,\n",
       " ('flight', 'nectar'): 6.90875477931522,\n",
       " ('liw', 'sibl'): -6.90875477931522,\n",
       " ('dizzi', 'oob'): 6.90875477931522,\n",
       " ('autoset', 'commod'): 6.90875477931522,\n",
       " ('mottl', 'spiromet'): 6.90875477931522,\n",
       " ('ctx', 'xii'): 6.90875477931522,\n",
       " ('burn', 'pleasant'): 6.90875477931522,\n",
       " ('cpr', 'hypothermia'): -6.90875477931522,\n",
       " ('arrest', 'dopamin'): 6.90875477931522,\n",
       " ('currenlti', 'omeprazol'): 6.90875477931522,\n",
       " ('robitussin', 'spacer'): 6.90875477931522,\n",
       " ('declin', 'nifedipin'): 6.90875477931522,\n",
       " ('commod', 'signatur'): -6.90875477931522,\n",
       " ('hctz', 'oncologist'): 6.90875477931522,\n",
       " ('dni', 'knowledg'): 6.90875477931522,\n",
       " ('dnr', 'myeloma'): 0.9141958635336067,\n",
       " ('fliud', 'vasopressor'): -6.90875477931522,\n",
       " ('dni', 'quadrent'): 6.90875477931522,\n",
       " ('dizzi', 'schistocyt'): 6.90875477931522,\n",
       " ('ba', 'cocain'): 6.90875477931522,\n",
       " ('purpl', 'ultram'): 6.90875477931522,\n",
       " ('agon', 'deterior'): -6.90875477931522,\n",
       " ('palli', 'priest'): -6.90875477931522,\n",
       " ('among', 'fu'): -6.90875477931522,\n",
       " ('fibrinogen', 'option'): -6.90875477931522,\n",
       " ('captopril', 'sibl'): 6.90875477931522,\n",
       " ('hive', 'nocturn'): 6.90875477931522,\n",
       " ('hsq', 'xii'): 6.90875477931522,\n",
       " ('captopril', 'dnr'): 6.90875477931522,\n",
       " ('dizzi', 'echocardiogram'): 6.90875477931522,\n",
       " ('gastriti', 'solut'): 6.90875477931522,\n",
       " ('echocardiogram', 'occipit'): 6.90875477931522,\n",
       " ('massag', 'phenylephrin'): 6.90875477931522,\n",
       " ('pleasant', 'unsteadi'): 6.90875477931522,\n",
       " ('db', 'gabapentin'): 6.90875477931522,\n",
       " ('puff', 'rehabilit'): 6.90875477931522,\n",
       " ('ambul', 'gait'): 6.90875477931522,\n",
       " ('pleasant', 'tcdb'): 6.90875477931522,\n",
       " ('cocain', 'diaphoresi'): 6.90875477931522,\n",
       " ('burn', 'mellitu'): 6.90875477931522,\n",
       " ('soln', 'subdur'): 6.90875477931522,\n",
       " ('bipolar', 'clonidin'): 6.90875477931522,\n",
       " ('im', 'nifedipin'): 6.90875477931522,\n",
       " ('agon', 'death'): -6.90875477931522,\n",
       " ('dni', 'heroic'): -6.90875477931522,\n",
       " ('commod', 'cramp'): 6.90875477931522,\n",
       " ('bottl', 'coach'): 6.90875477931522,\n",
       " ('ambien', 'ferrou'): 6.90875477931522,\n",
       " ('commod', 'rm'): 6.90875477931522,\n",
       " ('bromid', 'ultram'): 6.90875477931522,\n",
       " ('incis', 'oob'): 6.90875477931522,\n",
       " ('pyuria', 'rigor'): 6.90875477931522,\n",
       " ('bipolar', 'sluggish'): 6.90875477931522,\n",
       " ('lift', 'lotion'): 6.90875477931522,\n",
       " ('db', 'diaphoresi'): 6.90875477931522,\n",
       " ('cpr', 'icter'): -6.90875477931522,\n",
       " ('cmo', 'vasoconstrict'): -6.90875477931522,\n",
       " ('diaphoresi', 'historian'): 6.90875477931522,\n",
       " ('barium', 'elimin'): 6.90875477931522,\n",
       " ('cdb', 'signatur'): 6.90875477931522,\n",
       " ('aox', 'deterior'): 6.90875477931522,\n",
       " ('absorb', 'asthma'): 6.90875477931522,\n",
       " ('bottl', 'thiamin'): 6.90875477931522,\n",
       " ('chb', 'dnr'): -3.3717009764392825,\n",
       " ('adenocarcinoma', 'slice'): 6.90875477931522,\n",
       " ('puff', 'weekli'): 6.90875477931522,\n",
       " ('jewelri', 'probe'): 6.90875477931522,\n",
       " ('neosynephrin', 'sluggish'): -1.095952712632351,\n",
       " ('dic', 'moan'): -6.90875477931522,\n",
       " ('purpl', 'seroquel'): 6.90875477931522,\n",
       " ('cup', 'ppd'): 6.90875477931522,\n",
       " ('habitu', 'underpenetr'): 6.90875477931522,\n",
       " ('gadolinium', 'occipit'): 6.90875477931522,\n",
       " ('mucinex', 'reguard'): 6.90875477931522,\n",
       " ('dobutamin', 'phenylephrin'): -6.90875477931522,\n",
       " ('adenocarcinoma', 'bill'): 6.90875477931522,\n",
       " ('hemangioma', 'osteoblast'): 6.90875477931522,\n",
       " ('dni', 'west'): 6.90875477931522,\n",
       " ('chip', 'hook'): 6.90875477931522,\n",
       " ('autoset', 'clonidin'): 6.90875477931522,\n",
       " ('dni', 'synthet'): -6.90875477931522,\n",
       " ('declin', 'ferritin'): 6.90875477931522,\n",
       " ('dnr', 'xii'): -1.604655121332035,\n",
       " ('dyslipidemia', 'soln'): 6.90875477931522,\n",
       " ('mso', 'scopalamin'): -6.90875477931522,\n",
       " ('hive', 'refractori'): 6.90875477931522,\n",
       " ('dietari', 'video'): 6.90875477931522,\n",
       " ('im', 'romi'): 6.90875477931522,\n",
       " ('hive', 'sarna'): 6.90875477931522,\n",
       " ('declin', 'morgu'): -6.90875477931522,\n",
       " ('anaphylaxi', 'schizophrenia'): 6.90875477931522,\n",
       " ('hypotherm', 'lpm'): -6.90875477931522,\n",
       " ('foci', 'outer'): 6.90875477931522,\n",
       " ('epigastr', 'levoph'): 6.90875477931522,\n",
       " ('foci', 'pronounc'): 6.90875477931522,\n",
       " ('ciwa', 'syncop'): 6.90875477931522,\n",
       " ('historian', 'spiromet'): 6.90875477931522,\n",
       " ('lusb', 'omeprazol'): 6.90875477931522,\n",
       " ('dni', 'fibrinogen'): 1.095952712632351,\n",
       " ('pivot', 'wallet'): -6.90875477931522,\n",
       " ('oncologist', 'romi'): 6.90875477931522,\n",
       " ('puff', 'schizophrenia'): 6.90875477931522,\n",
       " ('azotemia', 'diaphoresi'): 6.90875477931522,\n",
       " ('mellitu', 'sibl'): 6.90875477931522,\n",
       " ('arrest', 'pronounc'): -6.90875477931522,\n",
       " ('chol', 'dni'): -6.90875477931522,\n",
       " ('gabapentin', 'sweat'): 6.90875477931522,\n",
       " ('asthma', 'readdress'): 6.90875477931522,\n",
       " ('asthma', 'xl'): 6.90875477931522,\n",
       " ('ferritin', 'seriou'): 6.90875477931522,\n",
       " ('carvedilol', 'pea'): 6.90875477931522,\n",
       " ('dni', 'sweat'): 6.90875477931522,\n",
       " ('abruptli', 'fibrinogen'): -6.90875477931522,\n",
       " ('declin', 'jewelri'): 6.90875477931522,\n",
       " ('barium', 'laryng'): 6.90875477931522,\n",
       " ('levoph', 'lpm'): 6.90875477931522,\n",
       " ('clonidin', 'dz'): 6.90875477931522,\n",
       " ('azotemia', 'dic'): -6.90875477931522,\n",
       " ('bipolar', 'sensat'): 6.90875477931522,\n",
       " ('dnr', 'olanzapin'): 6.90875477931522,\n",
       " ('omeprazol', 'zyprexa'): 6.90875477931522,\n",
       " ('peribronchovascular', 'perisplen'): -6.90875477931522,\n",
       " ('bank', 'ffp'): 6.90875477931522,\n",
       " ('dnr', 'jerk'): -6.90875477931522,\n",
       " ('gait', 'rhinorrhea'): 6.90875477931522,\n",
       " ('laminectomi', 'ultram'): 6.90875477931522,\n",
       " ('scar', 'sweat'): 6.90875477931522,\n",
       " ('ba', 'dietari'): 6.90875477931522,\n",
       " ('contractur', 'vasopressor'): -6.90875477931522,\n",
       " ('phlegm', 'silent'): 6.90875477931522,\n",
       " ('ambien', 'muir'): 6.90875477931522,\n",
       " ('db', 'para'): 6.90875477931522,\n",
       " ('azotemia', 'phenylephrin'): -6.90875477931522,\n",
       " ('burn', 'phlegm'): 6.90875477931522,\n",
       " ('ctx', 'osa'): 6.90875477931522,\n",
       " ('clinician', 'dnr'): 0.4046335072286383,\n",
       " ('ipf', 'tachpnea'): 6.90875477931522,\n",
       " ('gait', 'oob'): 2.1883847407670785,\n",
       " ('fibrinogen', 'gvhd'): -6.90875477931522,\n",
       " ('dobutamin', 'mean'): 6.90875477931522,\n",
       " ('oob', 'uri'): 6.90875477931522,\n",
       " ('binder', 'dni'): 6.90875477931522,\n",
       " ('moan', 'occurr'): 6.90875477931522,\n",
       " ('bipolar', 'ppd'): 6.90875477931522,\n",
       " ('pleasant', 'prec'): 6.90875477931522,\n",
       " ('calculi', 'thrive'): 6.90875477931522,\n",
       " ('asthma', 'ciwa'): 6.90875477931522,\n",
       " ('deterior', 'hive'): 6.90875477931522,\n",
       " ('heroic', 'option'): -6.90875477931522,\n",
       " ('dopamin', 'vasoconstrict'): -6.90875477931522,\n",
       " ('azotemia', 'norepinephrin'): -6.90875477931522,\n",
       " ('cdb', 'incent'): 6.90875477931522,\n",
       " ('dni', 'struggl'): -6.90875477931522,\n",
       " ('paperwork', 'rehabilit'): 6.90875477931522,\n",
       " ('oncologist', 'ppd'): 6.90875477931522,\n",
       " ('captopril', 'refractori'): 6.90875477931522,\n",
       " ('articul', 'wish'): 6.90875477931522,\n",
       " ('sibl', 'unstabl'): -6.90875477931522,\n",
       " ('bipolar', 'vp'): 6.90875477931522,\n",
       " ('diaper', 'dnr'): 6.90875477931522,\n",
       " ('epidur', 'gadolinium'): 6.90875477931522,\n",
       " ('gasp', 'pleasant'): -6.90875477931522,\n",
       " ('hive', 'option'): -6.90875477931522,\n",
       " ('fatti', 'pca'): 6.90875477931522,\n",
       " ('chemic', 'habitu'): 6.90875477931522,\n",
       " ('ctx', 'signatur'): 6.90875477931522,\n",
       " ('amb', 'nahco'): 6.90875477931522,\n",
       " ('captopril', 'myeloma'): 6.90875477931522,\n",
       " ('foci', 'vertebra'): 6.90875477931522,\n",
       " ('deterior', 'prognosi'): -6.90875477931522,\n",
       " ('arrest', 'corneal'): -6.90875477931522,\n",
       " ('intent', 'omeprazol'): 6.90875477931522,\n",
       " ('venti', 'wish'): -6.90875477931522,\n",
       " ('dnr', 'flight'): 6.90875477931522,\n",
       " ('ambien', 'dni'): 6.90875477931522,\n",
       " ('autoset', 'declin'): 6.90875477931522,\n",
       " ('criticar', 'dnr'): 6.90875477931522,\n",
       " ('db', 'respon'): 6.90875477931522,\n",
       " ('hive', 'laminectomi'): 6.90875477931522,\n",
       " ('acidot', 'unstabl'): 6.90875477931522,\n",
       " ('fibrinogen', 'levoph'): -2.061768222000086,\n",
       " ('paperwork', 'wish'): 6.90875477931522,\n",
       " ('chemic', 'lusb'): -6.90875477931522,\n",
       " ('bank', 'fibrinogen'): 6.90875477931522,\n",
       " ('dead', 'prilosec'): 6.90875477931522,\n",
       " ('pose', 'prognosi'): -6.90875477931522,\n",
       " ('cardiovert', 'cvvhd'): -6.90875477931522,\n",
       " ('deterior', 'paralyt'): 6.90875477931522,\n",
       " ('hemothorax', 'levoph'): -6.90875477931522,\n",
       " ('behavior', 'subdur'): 6.90875477931522,\n",
       " ('cash', 'wallet'): 2.0293823968853086,\n",
       " ('dizzi', 'syncop'): 6.90875477931522,\n",
       " ('neosynephrin', 'wish'): -6.90875477931522,\n",
       " ('chemic', 'dni'): -6.90875477931522,\n",
       " ('aox', 'dni'): 6.90875477931522,\n",
       " ('ambul', 'lac'): 6.90875477931522,\n",
       " ('declin', 'doen'): -6.90875477931522,\n",
       " ('brb', 'tran'): 6.90875477931522,\n",
       " ('omeprazol', 'qam'): 6.90875477931522,\n",
       " ('conc', 'hospic'): 6.90875477931522,\n",
       " ('cg', 'corneal'): -6.90875477931522,\n",
       " ('^th', 'dnr'): 6.90875477931522,\n",
       " ('articul', 'rehabilit'): 6.90875477931522,\n",
       " ('historian', 'pleasant'): 6.90875477931522,\n",
       " ('cloth', 'phlegm'): 6.90875477931522,\n",
       " ('binder', 'mucinex'): 6.90875477931522,\n",
       " ('aox', 'palli'): 6.90875477931522,\n",
       " ('dyslipidemia', 'gabapentin'): 6.90875477931522,\n",
       " ('cg', 'montitor'): -6.90875477931522,\n",
       " ('dni', 'pivot'): 0.2226944607151099,\n",
       " ('bottl', 'ppd'): 6.90875477931522,\n",
       " ('fungemia', 'lw'): -6.90875477931522,\n",
       " ('fibrinogen', 'prilosec'): -6.90875477931522,\n",
       " ('azotemia', 'ciwa'): 6.90875477931522,\n",
       " ('breakfast', 'recalibr'): 6.90875477931522,\n",
       " ('hook', 'prognosi'): 6.90875477931522,\n",
       " ('bipolar', 'historian'): 6.90875477931522,\n",
       " ('asthma', 'xii'): 6.90875477931522,\n",
       " ('pca', 'scab'): 6.90875477931522,\n",
       " ('dyslipidemia', 'thiamin'): 6.90875477931522,\n",
       " ('acc', 'im'): 6.90875477931522,\n",
       " ('hilum', 'ligament'): 6.90875477931522,\n",
       " ('dni', 'dz'): 6.90875477931522,\n",
       " ('opiat', 'unasyn'): 6.90875477931522,\n",
       " ('hypothermia', 'prilosec'): 6.90875477931522,\n",
       " ('ambien', 'appi'): 6.90875477931522,\n",
       " ('aricept', 'ba'): 6.90875477931522,\n",
       " ('hemangioma', 'hilum'): 6.90875477931522,\n",
       " ('levoph', 'prognosi'): -6.90875477931522,\n",
       " ('bottl', 'purpl'): 6.90875477931522,\n",
       " ('adenocarcinoma', 'osa'): 6.90875477931522,\n",
       " ('liw', 'mso'): -6.90875477931522,\n",
       " ('barium', 'lat'): 6.90875477931522,\n",
       " ('ctx', 'ferritin'): 6.90875477931522,\n",
       " ('oncologist', 'scar'): 6.90875477931522,\n",
       " ('barium', 'xii'): 6.90875477931522,\n",
       " ('olanzapin', 'xanax'): 6.90875477931522,\n",
       " ('levoph', 'uncoop'): 6.90875477931522,\n",
       " ('declin', 'echocardiogram'): 6.90875477931522,\n",
       " ('bell', 'mucinex'): 6.90875477931522,\n",
       " ('institut', 'slice'): 6.90875477931522,\n",
       " ('incent', 'romi'): 6.90875477931522,\n",
       " ('flight', 'seroquel'): 6.90875477931522,\n",
       " ('hurt', 'profound'): 6.90875477931522,\n",
       " ('asthma', 'readmit'): 6.90875477931522,\n",
       " ('ctx', 'schistocyt'): 6.90875477931522,\n",
       " ('pod', 'readmit'): 6.90875477931522,\n",
       " ('ctx', 'metoclopramid'): 6.90875477931522,\n",
       " ('pharmacolog', 'uri'): 6.90875477931522,\n",
       " ('artifici', 'xl'): -6.90875477931522,\n",
       " ('stitch', 'subq'): 6.90875477931522,\n",
       " ('levoph', 'neo'): 0.0,\n",
       " ('dic', 'zyprexa'): 6.90875477931522,\n",
       " ('dni', 'gasp'): -6.90875477931522,\n",
       " ('bicarbon', 'oligur'): -6.90875477931522,\n",
       " ('flight', 'nitroglycerin'): 6.90875477931522,\n",
       " ('cdb', 'oob'): 6.90875477931522,\n",
       " ('opiat', 'ultram'): 6.90875477931522,\n",
       " ('flight', 'vp'): 6.90875477931522,\n",
       " ('expir', 'neo'): -6.90875477931522,\n",
       " ('osa', 'rhinorrhea'): 6.90875477931522,\n",
       " ('asthma', 'habitu'): 6.90875477931522,\n",
       " ('bromid', 'laminectomi'): 6.90875477931522,\n",
       " ('agon', 'sluggish'): -6.90875477931522,\n",
       " ('sluggishli', 'vasopressin'): -6.90875477931522,\n",
       " ('moan', 'venti'): -6.90875477931522,\n",
       " ('hepatobiliari', 'perisplen'): -6.90875477931522,\n",
       " ('dizzi', 'xl'): 6.90875477931522,\n",
       " ('dic', 'goc'): -6.90875477931522,\n",
       " ('historian', 'sundown'): 6.90875477931522,\n",
       " ('dni', 'proph'): 6.90875477931522,\n",
       " ('mood', 'suprapub'): 6.90875477931522,\n",
       " ('mrg', 'puff'): 6.90875477931522,\n",
       " ('schistocyt', 'syncop'): 6.90875477931522,\n",
       " ('levoph', 'vasoconstrict'): -6.90875477931522,\n",
       " ('nephrolog', 'pleasant'): 6.90875477931522,\n",
       " ('gastriti', 'motor'): 6.90875477931522,\n",
       " ('fatti', 'freeli'): -6.90875477931522,\n",
       " ('chair', 'jewelri'): 6.90875477931522,\n",
       " ('herp', 'xii'): 6.90875477931522,\n",
       " ('rigor', 'tcdb'): 6.90875477931522,\n",
       " ('dni', 'neo'): -0.7604677155175794,\n",
       " ('escal', 'scopalamin'): 6.90875477931522,\n",
       " ('asystol', 'pronounc'): -6.90875477931522,\n",
       " ('pathologist', 'spill'): 6.90875477931522,\n",
       " ('recalibr', 'video'): 6.90875477931522,\n",
       " ('chair', 'platelet'): 6.90875477931522,\n",
       " ('neo', 'tobra'): -6.90875477931522,\n",
       " ('argatroban', 'norepinephrin'): -6.90875477931522,\n",
       " ('declin', 'pronounc'): -6.90875477931522,\n",
       " ('carvedilol', 'unasyn'): 6.90875477931522,\n",
       " ('dnr', 'pronounc'): -6.90875477931522,\n",
       " ('abruptli', 'expir'): -6.90875477931522,\n",
       " ('ambien', 'sarna'): 6.90875477931522,\n",
       " ('dead', 'dni'): -6.90875477931522,\n",
       " ('coarctat', 'tdi'): 6.90875477931522,\n",
       " ('captopril', 'qam'): 6.90875477931522,\n",
       " ('declin', 'news'): -6.90875477931522,\n",
       " ('dnr', 'nocturn'): 6.90875477931522,\n",
       " ('dnr', 'ipf'): -6.90875477931522,\n",
       " ('dnr', 'thk'): 6.90875477931522,\n",
       " ('heroic', 'mso'): -6.90875477931522,\n",
       " ('splint', 'young'): 6.90875477931522,\n",
       " ('adenocarcinoma', 'distort'): 6.90875477931522,\n",
       " ('intiat', 'xii'): 6.90875477931522,\n",
       " ('dic', 'impli'): 6.90875477931522,\n",
       " ('gastriti', 'omeprazol'): 6.90875477931522,\n",
       " ('lat', 'spfc'): 6.90875477931522,\n",
       " ('gabapentin', 'strictur'): 6.90875477931522,\n",
       " ('mellitu', 'retic'): 6.90875477931522,\n",
       " ('captopril', 'incis'): 6.90875477931522,\n",
       " ('precordium', 'sweat'): 6.90875477931522,\n",
       " ('hive', 'hypothermia'): 6.90875477931522,\n",
       " ('lusb', 'panic'): 6.90875477931522,\n",
       " ('epigastr', 'panic'): 6.90875477931522,\n",
       " ('laryng', 'nectar'): 6.90875477931522,\n",
       " ('lift', 'pleasant'): 6.90875477931522,\n",
       " ('levoph', 'nectar'): 6.90875477931522,\n",
       " ('retic', 'zero'): 6.90875477931522,\n",
       " ('cpr', 'neo'): -6.90875477931522,\n",
       " ('crack', 'ultram'): 6.90875477931522,\n",
       " ('anaphylaxi', 'escal'): 6.90875477931522,\n",
       " ('chair', 'readmit'): 6.90875477931522,\n",
       " ('aliv', 'cmo'): 6.90875477931522,\n",
       " ('readmit', 'vp'): 6.90875477931522,\n",
       " ('duski', 'sluggish'): 6.90875477931522,\n",
       " ('cardiovert', 'neo'): -6.90875477931522,\n",
       " ('paralyt', 'vasopressin'): -6.90875477931522,\n",
       " ('bronchovascular', 'postop'): 6.90875477931522,\n",
       " ('gabapentin', 'pneumococc'): 6.90875477931522,\n",
       " ('carvedilol', 'impli'): 6.90875477931522,\n",
       " ('diaper', 'nicotin'): 6.90875477931522,\n",
       " ('bottl', 'vasopressin'): -6.90875477931522,\n",
       " ('cloth', 'wallet'): 2.2927445483990123,\n",
       " ('ba', 'fatti'): 6.90875477931522,\n",
       " ('incis', 'recalibr'): 6.90875477931522,\n",
       " ('prognosi', 'tran'): -6.90875477931522,\n",
       " ('dobutamin', 'echocardiogram'): 6.90875477931522,\n",
       " ('hida', 'mjmgb'): 6.90875477931522,\n",
       " ('asthma', 'bipolar'): 6.90875477931522,\n",
       " ('ciwa', 'puff'): 6.90875477931522,\n",
       " ('morbid', 'osa'): 6.90875477931522,\n",
       " ('exophyt', 'silent'): -6.90875477931522,\n",
       " ('angri', 'declin'): 6.90875477931522,\n",
       " ('heroic', 'mottl'): -6.90875477931522,\n",
       " ('brb', 'crrt'): -6.90875477931522,\n",
       " ('cvvh', 'itchi'): -6.90875477931522,\n",
       " ('dopamin', 'sibl'): -6.90875477931522,\n",
       " ('bipolar', 'klonopin'): 6.90875477931522,\n",
       " ('bipolar', 'qtc'): 6.90875477931522,\n",
       " ('currenlti', 'modifi'): 6.90875477931522,\n",
       " ('arrang', 'prognosi'): -6.90875477931522,\n",
       " ('diamox', 'dni'): 6.90875477931522,\n",
       " ('contractur', 'dni'): -0.6916505477038827,\n",
       " ('distanc', 'historian'): 6.90875477931522,\n",
       " ('ba', 'sensat'): 6.90875477931522,\n",
       " ('dyslipidemia', 'metoclopramid'): 6.90875477931522,\n",
       " ('death', 'echocardiogram'): 6.90875477931522,\n",
       " ('fibrinogen', 'mrg'): 6.90875477931522,\n",
       " ('conc', 'dni'): 6.90875477931522,\n",
       " ('burn', 'schizophrenia'): 6.90875477931522,\n",
       " ('ppd', 'young'): 6.90875477931522,\n",
       " ('asthma', 'osa'): 6.90875477931522,\n",
       " ('ciwa', 'opiat'): 6.90875477931522,\n",
       " ('mottl', 'phlegm'): 6.90875477931522,\n",
       " ('echocardiogram', 'tdi'): 6.90875477931522,\n",
       " ('pathologist', 'vallecula'): 6.90875477931522,\n",
       " ('bipolar', 'clonazepam'): 6.90875477931522,\n",
       " ('bipolar', 'captopril'): 6.90875477931522,\n",
       " ('behavior', 'bipolar'): 6.90875477931522,\n",
       " ('hilum', 'jejunum'): 6.90875477931522,\n",
       " ('chb', 'fibrinogen'): -0.23133479416950195,\n",
       " ('arrest', 'azotemia'): -6.90875477931522,\n",
       " ('captopril', 'prilosec'): 6.90875477931522,\n",
       " ('bronchovascular', 'crowd'): 1.462247919771027,\n",
       " ('freeli', 'gastrojejunostomi'): 6.90875477931522,\n",
       " ('chb', 'levoph'): -0.2994965767895269,\n",
       " ('cash', 'historian'): 6.90875477931522,\n",
       " ('mellitu', 'paralyt'): 6.90875477931522,\n",
       " ('binder', 'cramp'): 6.90875477931522,\n",
       " ('arrest', 'brb'): 6.90875477931522,\n",
       " ('omeprazol', 'pneumococc'): 6.90875477931522,\n",
       " ('chip', 'hospic'): 6.90875477931522,\n",
       " ('epigastr', 'uri'): 6.90875477931522,\n",
       " ('historian', 'jewelri'): 6.90875477931522,\n",
       " ('occipit', 'slice'): 6.90875477931522,\n",
       " ('bicarbon', 'crrt'): -6.90875477931522,\n",
       " ('ppd', 'soln'): 6.90875477931522,\n",
       " ('pose', 'vasopressin'): -6.90875477931522,\n",
       " ('laryng', 'vallecula'): 6.90875477931522,\n",
       " ('incent', 'nifedipin'): 6.90875477931522,\n",
       " ('gurgl', 'sundown'): -6.90875477931522,\n",
       " ('anaphylaxi', 'epidur'): 6.90875477931522,\n",
       " ('knowledg', 'pleasant'): 6.90875477931522,\n",
       " ('dizzi', 'laminectomi'): 6.90875477931522,\n",
       " ('fibrinogen', 'nicotin'): 6.90875477931522,\n",
       " ('norepinephrin', 'prognosi'): -6.90875477931522,\n",
       " ('bromid', 'predict'): 6.90875477931522,\n",
       " ('levoph', 'mucinex'): 6.90875477931522,\n",
       " ('expir', 'ipf'): 6.90875477931522,\n",
       " ('homogen', 'ipf'): 6.90875477931522,\n",
       " ('asthma', 'cg'): -6.90875477931522,\n",
       " ('lusb', 'sensat'): 6.90875477931522,\n",
       " ('fibrinogen', 'ppd'): 6.90875477931522,\n",
       " ('puff', 'xl'): 6.90875477931522,\n",
       " ('historian', 'osa'): 6.90875477931522,\n",
       " ('quinolon', 'sweat'): 6.90875477931522,\n",
       " ('dermat', 'scab'): 6.90875477931522,\n",
       " ('homogen', 'ligament'): 6.90875477931522,\n",
       " ('contractur', 'declin'): -6.90875477931522,\n",
       " ('laryng', 'video'): 6.90875477931522,\n",
       " ('dermat', 'herp'): 6.90875477931522,\n",
       " ('dnr', 'incis'): -6.90875477931522,\n",
       " ('bair', 'chair'): -6.90875477931522,\n",
       " ('ggt', 'prilosec'): -6.90875477931522,\n",
       " ('hypotherm', 'scopalamin'): -6.90875477931522,\n",
       " ('epigastr', 'nicotin'): 6.90875477931522,\n",
       " ('chair', 'chip'): 6.90875477931522,\n",
       " ('mva', 'rm'): 6.90875477931522,\n",
       " ('ambien', 'bromid'): 6.90875477931522,\n",
       " ('gadolinium', 'norepinephrin'): 6.90875477931522,\n",
       " ('norepinephrin', 'recalibr'): 6.90875477931522,\n",
       " ('cpr', 'pulseless'): -6.90875477931522,\n",
       " ('declin', 'prognosi'): -1.9852670803394386,\n",
       " ('dni', 'hook'): 6.90875477931522,\n",
       " ('contractur', 'criticar'): 6.90875477931522,\n",
       " ('morbid', 'uri'): 6.90875477931522,\n",
       " ('fibrinogen', 'myeloma'): 6.90875477931522,\n",
       " ('elimin', 'pharyng'): 6.90875477931522,\n",
       " ('palli', 'stg'): -6.90875477931522,\n",
       " ('rememb', 'vertebra'): 6.90875477931522,\n",
       " ('asthma', 'dnr'): 3.0693478748272645,\n",
       " ('clergi', 'paralyt'): -6.90875477931522,\n",
       " ('chair', 'nectar'): 6.90875477931522,\n",
       " ('cmo', 'morgu'): -6.90875477931522,\n",
       " ('chair', 'fax'): 6.90875477931522,\n",
       " ('bicarbon', 'wma'): -6.90875477931522,\n",
       " ('pericard', 'pleasant'): 6.90875477931522,\n",
       " ('asthma', 'cramp'): 6.90875477931522,\n",
       " ('commod', 'cyanot'): -6.90875477931522,\n",
       " ('angiogram', 'magnevist'): 6.90875477931522,\n",
       " ('prognosi', 'pronounc'): -6.90875477931522,\n",
       " ('ligament', 'vertebra'): 6.90875477931522,\n",
       " ('mood', 'rhinorrhea'): 6.90875477931522,\n",
       " ('ambul', 'book'): 6.90875477931522,\n",
       " ('rhinorrhea', 'thiamin'): 6.90875477931522,\n",
       " ('bank', 'syncop'): 6.90875477931522,\n",
       " ('ferrou', 'unavail'): 6.90875477931522,\n",
       " ('echocardiogram', 'puff'): 6.90875477931522,\n",
       " ('declin', 'hive'): 6.90875477931522,\n",
       " ('gastriti', 'suprapub'): 6.90875477931522,\n",
       " ('dysynchron', 'ffp'): -6.90875477931522,\n",
       " ('ctx', 'syncop'): 6.90875477931522,\n",
       " ('aox', 'venti'): 6.90875477931522,\n",
       " ('anaphylaxi', 'stitch'): 6.90875477931522,\n",
       " ('habitu', 'hilum'): 6.90875477931522,\n",
       " ('ambul', 'freeli'): 6.90875477931522,\n",
       " ('readmit', 'trazodon'): 6.90875477931522,\n",
       " ('clinician', 'occipit'): 6.90875477931522,\n",
       " ('bipolar', 'refractori'): 6.90875477931522,\n",
       " ('acidot', 'fibrinogen'): -6.90875477931522,\n",
       " ('hospic', 'signatur'): 6.90875477931522,\n",
       " ('homogen', 'mjmgb'): 6.90875477931522,\n",
       " ('distanc', 'xii'): 6.90875477931522,\n",
       " ('mso', 'pca'): 6.90875477931522,\n",
       " ('behavior', 'seroquel'): 6.90875477931522,\n",
       " ('cash', 'money'): 2.1509787690125033,\n",
       " ('ctx', 'hypothermia'): 6.90875477931522,\n",
       " ('diaphoresi', 'weekli'): 6.90875477931522,\n",
       " ('grim', 'sluggish'): -6.90875477931522,\n",
       " ('barium', 'fu'): -6.90875477931522,\n",
       " ('compani', 'unstabl'): 6.90875477931522,\n",
       " ('azotemia', 'prilosec'): -6.90875477931522,\n",
       " ('mellitu', 'palli'): 6.90875477931522,\n",
       " ('ppd', 'refractori'): 6.90875477931522,\n",
       " ('dni', 'sluggish'): 0.0,\n",
       " ('ambul', 'anaphylaxi'): 6.90875477931522,\n",
       " ('dopamin', 'fliud'): -6.90875477931522,\n",
       " ('mtg', 'omeprazol'): 6.90875477931522,\n",
       " ('lpm', 'weekli'): 6.90875477931522,\n",
       " ('fliud', 'oligur'): -6.90875477931522,\n",
       " ('ctx', 'jewelri'): 6.90875477931522,\n",
       " ('asthma', 'puff'): 6.90875477931522,\n",
       " ('hypotherm', 'vasopressin'): -6.90875477931522,\n",
       " ('distanc', 'hsq'): 6.90875477931522,\n",
       " ('bipolar', 'gastriti'): 6.90875477931522,\n",
       " ('intent', 'oob'): 6.90875477931522,\n",
       " ('ambien', 'myeloma'): 6.90875477931522,\n",
       " ('oncologist', 'pea'): 6.90875477931522,\n",
       " ('ctx', 'resucit'): 6.90875477931522,\n",
       " ('declin', 'dic'): 0.4046335072286383,\n",
       " ('liw', 'vasoconstrict'): -6.90875477931522,\n",
       " ('eg', 'vallecula'): 6.90875477931522,\n",
       " ('clonazepam', 'strictur'): 6.90875477931522,\n",
       " ('levoph', 'pinpoint'): -6.90875477931522,\n",
       " ('db', 'dyslipidemia'): 6.90875477931522,\n",
       " ('arrest', 'clonazepam'): 6.90875477931522,\n",
       " ('anaphylaxi', 'bromid'): 6.90875477931522,\n",
       " ('adenocarcinoma', 'institut'): 6.90875477931522,\n",
       " ('contractur', 'dermat'): 6.90875477931522,\n",
       " ('anur', 'declin'): -6.90875477931522,\n",
       " ('pod', 'subdur'): 6.90875477931522,\n",
       " ('arrest', 'pcv'): -6.90875477931522,\n",
       " ('aox', 'pleasant'): 6.90875477931522,\n",
       " ('death', 'mso'): -6.90875477931522,\n",
       " ('morbid', 'romi'): 6.90875477931522,\n",
       " ('dermat', 'readmit'): 6.90875477931522,\n",
       " ('ppd', 'xl'): 6.90875477931522,\n",
       " ('gabapentin', 'xanax'): 6.90875477931522,\n",
       " ('motor', 'sibl'): 6.90875477931522,\n",
       " ('aox', 'bottl'): 6.90875477931522,\n",
       " ('fibrinogen', 'hive'): -0.4333912883881454,\n",
       " ('pleasant', 'tracheomalacia'): 6.90875477931522,\n",
       " ('dnr', 'sundown'): 0.6916505477038827,\n",
       " ('incent', 'pleasant'): 6.90875477931522,\n",
       " ('dietari', 'lat'): 6.90875477931522,\n",
       " ('subq', 'weekli'): 6.90875477931522,\n",
       " ('ciwa', 'cocain'): 6.90875477931522,\n",
       " ('preme', 'zero'): 6.90875477931522,\n",
       " ('dopamin', 'fibrinogen'): -6.90875477931522,\n",
       " ('jerk', 'mso'): -6.90875477931522,\n",
       " ('angri', 'im'): 6.90875477931522,\n",
       " ('chb', 'dni'): 0.0,\n",
       " ('hugger', 'lpm'): -6.90875477931522,\n",
       " ('chemic', 'dnr'): -6.90875477931522,\n",
       " ('ciwa', 'qam'): 6.90875477931522,\n",
       " ('anaphylaxi', 'habitu'): 6.90875477931522,\n",
       " ('bicarbon', 'pcv'): -6.90875477931522,\n",
       " ('anur', 'fdp'): -6.90875477931522,\n",
       " ('ambul', 'db'): 6.90875477931522,\n",
       " ('cocain', 'thiamin'): 6.90875477931522,\n",
       " ('phlegm', 'splint'): 6.90875477931522,\n",
       " ('moreov', 'scar'): 6.90875477931522,\n",
       " ('hugger', 'pcv'): 6.90875477931522,\n",
       " ('aricept', 'lusb'): 6.90875477931522,\n",
       " ('cloth', 'sensat'): 6.90875477931522,\n",
       " ('anur', 'gabapentin'): 6.90875477931522,\n",
       " ('ambul', 'stair'): 6.90875477931522,\n",
       " ('hepatobiliari', 'synthet'): -6.90875477931522,\n",
       " ('echocardiogram', 'unavail'): 6.90875477931522,\n",
       " ('aprv', 'gvhd'): -6.90875477931522,\n",
       " ('ferritin', 'sarna'): 6.90875477931522,\n",
       " ('dni', 'morgu'): -6.90875477931522,\n",
       " ('probe', 'signatur'): 6.90875477931522,\n",
       " ('anyway', 'bicarbon'): 6.90875477931522,\n",
       " ('aricept', 'ruptur'): 6.90875477931522,\n",
       " ('hctz', 'pneumococc'): 6.90875477931522,\n",
       " ('cyanot', 'db'): 6.90875477931522,\n",
       " ('db', 'thiamin'): 6.90875477931522,\n",
       " ('deflat', 'lpm'): 6.90875477931522,\n",
       " ('adenocarcinoma', 'rhinorrhea'): 6.90875477931522,\n",
       " ('rm', 'thiamin'): 6.90875477931522,\n",
       " ('anaphylaxi', 'gabapentin'): 6.90875477931522,\n",
       " ('aricept', 'dietari'): 6.90875477931522,\n",
       " ('hsq', 'mellitu'): 6.90875477931522,\n",
       " ('hospic', 'levoph'): -6.90875477931522,\n",
       " ('gasp', 'zyprexa'): -6.90875477931522,\n",
       " ('fatti', 'slice'): 6.90875477931522,\n",
       " ('cash', 'diflucan'): 6.90875477931522,\n",
       " ('align', 'myeloma'): 6.90875477931522,\n",
       " ('declin', 'ppn'): 6.90875477931522,\n",
       " ('grave', 'judgement'): -6.90875477931522,\n",
       " ('dni', 'sibl'): 6.90875477931522,\n",
       " ('colonoscopi', 'herp'): 6.90875477931522,\n",
       " ('dni', 'ntnd'): 1.4174966125472825,\n",
       " ('historian', 'romi'): 6.90875477931522,\n",
       " ('cs', 'hypotherm'): -6.90875477931522,\n",
       " ('freeli', 'nectar'): 6.90875477931522,\n",
       " ('dead', 'robitussin'): 6.90875477931522,\n",
       " ('gasp', 'oder'): -6.90875477931522,\n",
       " ('cyanot', 'hive'): 6.90875477931522,\n",
       " ('ambien', 'hctz'): 6.90875477931522,\n",
       " ('pea', 'profound'): -6.90875477931522,\n",
       " ('pleasant', 'rigor'): 6.90875477931522,\n",
       " ('epidur', 'levoph'): 6.90875477931522,\n",
       " ('epigastr', 'gastriti'): 6.90875477931522,\n",
       " ('ruptur', 'seroquel'): 6.90875477931522,\n",
       " ('agon', 'readmit'): 6.90875477931522,\n",
       " ('habitu', 'mva'): 6.90875477931522,\n",
       " ('calculi', 'rehabilit'): 6.90875477931522,\n",
       " ('bair', 'levoph'): 2.7567935411197357,\n",
       " ('hsq', 'sweat'): 6.90875477931522,\n",
       " ('bicarbon', 'gastriti'): 6.90875477931522,\n",
       " ('omeprazol', 'xopenex'): 6.90875477931522,\n",
       " ('cagluc', 'neo'): -6.90875477931522,\n",
       " ('thiamin', 'trazodon'): 6.90875477931522,\n",
       " ('oob', 'tea'): 6.90875477931522,\n",
       " ('bicarbon', 'pleasant'): 6.90875477931522,\n",
       " ('incis', 'leukocyt'): 6.90875477931522,\n",
       " ('dnr', 'paperwork'): 2.625239572123001,\n",
       " ('chair', 'romi'): 6.90875477931522,\n",
       " ('hygein', 'yankuer'): 6.90875477931522,\n",
       " ('burn', 'spacer'): 6.90875477931522,\n",
       " ('chip', 'thirst'): 6.90875477931522,\n",
       " ('arrest', 'trazodon'): -6.90875477931522,\n",
       " ('hypothermia', 'pea'): -6.90875477931522,\n",
       " ('incis', 'pod'): 6.90875477931522,\n",
       " ('ciwa', 'echocardiogram'): 6.90875477931522,\n",
       " ('chair', 'signatur'): 6.90875477931522,\n",
       " ('chb', 'ctx'): 6.90875477931522,\n",
       " ('colonoscopi', 'syncop'): 6.90875477931522,\n",
       " ('asthma', 'ruptur'): 6.90875477931522,\n",
       " ('oob', 'pca'): 6.90875477931522,\n",
       " ('chemic', 'hygein'): 6.90875477931522,\n",
       " ('lotion', 'scab'): 6.90875477931522,\n",
       " ('mellitu', 'profound'): 6.90875477931522,\n",
       " ('hctz', 'iddm'): 6.90875477931522,\n",
       " ('lat', 'syncop'): 6.90875477931522,\n",
       " ('option', 'tran'): 6.90875477931522,\n",
       " ('adenosin', 'oob'): 6.90875477931522,\n",
       " ('oob', 'osa'): 6.90875477931522,\n",
       " ('hctz', 'palli'): 6.90875477931522,\n",
       " ('ctx', 'video'): 6.90875477931522,\n",
       " ('commod', 'redirect'): -6.90875477931522,\n",
       " ('cmo', 'peac'): -6.90875477931522,\n",
       " ('hive', 'rpr'): 6.90875477931522,\n",
       " ('osa', 'uri'): 6.90875477931522,\n",
       " ('aox', 'asthma'): 6.90875477931522,\n",
       " ('ipf', 'levoph'): -6.90875477931522,\n",
       " ('bromid', 'trazodon'): 6.90875477931522,\n",
       " ('diaphoresi', 'hypothermia'): 6.90875477931522,\n",
       " ('deterior', 'ultram'): 6.90875477931522,\n",
       " ('levoph', 'opiat'): 6.90875477931522,\n",
       " ('sensat', 'splint'): 6.90875477931522,\n",
       " ('fibrinogen', 'life'): 2.8726050025040895,\n",
       " ('dni', 'platelet'): 0.9141958635336067,\n",
       " ('declin', 'xii'): 6.90875477931522,\n",
       " ('lat', 'pod'): 6.90875477931522,\n",
       " ('hypercapnia', 'norepinephrin'): -6.90875477931522,\n",
       " ('incent', 'mrcp'): -6.90875477931522,\n",
       " ('escal', 'phenylephrin'): -6.90875477931522,\n",
       " ('pronounc', 'unequ'): -6.90875477931522,\n",
       " ('norepinephrin', 'opiat'): 6.90875477931522,\n",
       " ('dermat', 'wish'): -6.90875477931522,\n",
       " ('arrest', 'expir'): -6.90875477931522,\n",
       " ('historian', 'oder'): -6.90875477931522,\n",
       " ('corneal', 'neo'): -6.90875477931522,\n",
       " ('hypotherm', 'pinpoint'): -6.90875477931522,\n",
       " ('dead', 'synthet'): -6.90875477931522,\n",
       " ('captopril', 'oob'): 6.90875477931522,\n",
       " ('escal', 'wish'): -6.90875477931522,\n",
       " ('arrest', 'chair'): 6.90875477931522,\n",
       " ('declar', 'dnr'): -6.90875477931522,\n",
       " ('mortum', 'pronounc'): -6.90875477931522,\n",
       " ('hypercapnia', 'hypothermia'): -6.90875477931522,\n",
       " ('angiogram', 'fatti'): 6.90875477931522,\n",
       " ('dizzi', 'dz'): 6.90875477931522,\n",
       " ('dni', 'robitussin'): -6.90875477931522,\n",
       " ('cvvh', 'oligur'): -6.90875477931522,\n",
       " ('anuria', 'unstabl'): -6.90875477931522,\n",
       " ('refractori', 'rehabilit'): 6.90875477931522,\n",
       " ('dizzi', 'sarna'): 6.90875477931522,\n",
       " ('oncologist', 'pleasant'): 6.90875477931522,\n",
       " ('mellitu', 'readmit'): 6.90875477931522,\n",
       " ('rememb', 'rigor'): 6.90875477931522,\n",
       " ('dnr', 'thrive'): 1.7859498421315991,\n",
       " ('dnr', 'synthet'): -6.90875477931522,\n",
       " ('cdb', 'dizzi'): 6.90875477931522,\n",
       " ('lotion', 'xl'): 6.90875477931522,\n",
       " ('cmo', 'dopamin'): -6.90875477931522,\n",
       " ('occipit', 'sundown'): 6.90875477931522,\n",
       " ('hive', 'suprapub'): 6.90875477931522,\n",
       " ('barium', 'sensat'): 6.90875477931522,\n",
       " ('dnr', 'quietli'): -6.90875477931522,\n",
       " ('diaphoresi', 'xii'): 6.90875477931522,\n",
       " ('escal', 'prognosi'): -6.90875477931522,\n",
       " ('cs', 'tran'): 6.90875477931522,\n",
       " ('hospic', 'lpm'): 6.90875477931522,\n",
       " ('levoph', 'tran'): -6.90875477931522,\n",
       " ('levoph', 'scab'): 6.90875477931522,\n",
       " ('^th', 'dni'): 6.90875477931522,\n",
       " ('fu', 'prilosec'): 6.90875477931522,\n",
       " ('osa', 'ppd'): 6.90875477931522,\n",
       " ('reguard', 'schizophrenia'): 6.90875477931522,\n",
       " ('dobutamin', 'dopamin'): 6.90875477931522,\n",
       " ('bank', 'epidur'): 6.90875477931522,\n",
       " ('fax', 'macu'): 6.90875477931522,\n",
       " ('conc', 'mso'): -6.90875477931522,\n",
       " ('calculi', 'weekli'): 6.90875477931522,\n",
       " ('dopamin', 'scopalamin'): -6.90875477931522,\n",
       " ('declin', 'moan'): -6.90875477931522,\n",
       " ('cmo', 'grim'): -6.90875477931522,\n",
       " ('anyway', 'pleasant'): 6.90875477931522,\n",
       " ('ba', 'qam'): 6.90875477931522,\n",
       " ('cocain', 'historian'): 6.90875477931522,\n",
       " ('fatti', 'intiat'): 6.90875477931522,\n",
       " ('dopamin', 'hypotherm'): -6.90875477931522,\n",
       " ('puff', 'quinolon'): 6.90875477931522,\n",
       " ('coach', 'gastriti'): 6.90875477931522,\n",
       " ('oob', 'tran'): 6.90875477931522,\n",
       " ('cpr', 'norepinephrin'): -6.90875477931522,\n",
       " ('calvarium', 'subdur'): 6.90875477931522,\n",
       " ('dni', 'osa'): 0.0,\n",
       " ('dni', 'xl'): 6.90875477931522,\n",
       " ('polici', 'suport'): -6.90875477931522,\n",
       " ('rhinorrhea', 'xii'): -6.90875477931522,\n",
       " ('arrest', 'parastern'): 6.90875477931522,\n",
       " ('ctx', 'postop'): 6.90875477931522,\n",
       " ('dermat', 'rhinorrhea'): 6.90875477931522,\n",
       " ('hugger', 'hypotherm'): 0.0,\n",
       " ('gabapentin', 'osa'): 6.90875477931522,\n",
       " ('dietari', 'historian'): 6.90875477931522,\n",
       " ('plate', 'splint'): 6.90875477931522,\n",
       " ('anur', 'hypercapn'): -6.90875477931522,\n",
       " ('pneumonectomi', 'scar'): 0.6916505477038827,\n",
       " ('osa', 'romi'): 6.90875477931522,\n",
       " ('captopril', 'death'): 6.90875477931522,\n",
       " ('asthma', 'fibrinogen'): 6.90875477931522,\n",
       " ('crrt', 'levoph'): -6.90875477931522,\n",
       " ('signatur', 'splint'): 6.90875477931522,\n",
       " ('carvedilol', 'fibrinogen'): 6.90875477931522,\n",
       " ('levoph', 'xopenex'): 6.90875477931522,\n",
       " ('icter', 'prilosec'): 6.90875477931522,\n",
       " ('ferritin', 'gabapentin'): 6.90875477931522,\n",
       " ('angioplasti', 'dnr'): 6.90875477931522,\n",
       " ('romi', 'young'): 6.90875477931522,\n",
       " ('db', 'myeloma'): -6.90875477931522,\n",
       " ('dead', 'religi'): -6.90875477931522,\n",
       " ('bicarbon', 'bromid'): 6.90875477931522,\n",
       " ('nephrolog', 'qam'): 6.90875477931522,\n",
       " ('nectar', 'pleasantli'): 6.90875477931522,\n",
       " ('death', 'expir'): -6.90875477931522,\n",
       " ('bicarbon', 'life'): -6.90875477931522,\n",
       " ('morbid', 'unstabl'): 6.90875477931522,\n",
       " ('cloth', 'dni'): 0.0,\n",
       " ('flight', 'phlegm'): 6.90875477931522,\n",
       " ('adenocarcinoma', 'pod'): 6.90875477931522,\n",
       " ('epidur', 'hemangioma'): 6.90875477931522,\n",
       " ('chb', 'hemothorax'): -6.90875477931522,\n",
       " ('epidur', 'hctz'): 6.90875477931522,\n",
       " ('fatti', 'occipit'): 6.90875477931522,\n",
       " ('lat', 'osa'): 6.90875477931522,\n",
       " ('incis', 'knowledg'): 6.90875477931522,\n",
       " ('dic', 'vasopressor'): -6.90875477931522,\n",
       " ('mso', 'news'): -6.90875477931522,\n",
       " ('habitu', 'tdi'): 6.90875477931522,\n",
       " ('aricept', 'mucinex'): 6.90875477931522,\n",
       " ('rigor', 'sensat'): 6.90875477931522,\n",
       " ('mucinex', 'olanzapin'): 6.90875477931522,\n",
       " ('prilosec', 'robitussin'): 6.90875477931522,\n",
       " ('cloth', 'palli'): 6.90875477931522,\n",
       " ('cmo', 'sacrament'): -6.90875477931522,\n",
       " ('nonreact', 'prognosi'): -6.90875477931522,\n",
       " ('ctx', 'puff'): 6.90875477931522,\n",
       " ('asthma', 'jewelri'): 6.90875477931522,\n",
       " ('laminectomi', 'stitch'): 6.90875477931522,\n",
       " ('uri', 'xl'): 6.90875477931522,\n",
       " ('asthma', 'db'): 6.90875477931522,\n",
       " ('azotemia', 'sibl'): 6.90875477931522,\n",
       " ('incent', 'pvr'): 6.90875477931522,\n",
       " ('chair', 'gentamycin'): -6.90875477931522,\n",
       " ('aricept', 'gabapentin'): 6.90875477931522,\n",
       " ('bicarbon', 'hypercapnia'): -6.90875477931522,\n",
       " ...}"
      ]
     },
     "execution_count": 25,
     "metadata": {},
     "output_type": "execute_result"
    }
   ],
   "source": [
    "patient_cooc_odd_scores"
   ]
  },
  {
   "cell_type": "code",
   "execution_count": 26,
   "metadata": {},
   "outputs": [],
   "source": [
    "# Data normalization\n",
    "import numpy\n",
    "def data_norm(cooc_odd_scores):\n",
    "\n",
    "    def norm_arr(array):\n",
    "        arr = numpy.array(list(array))\n",
    "        start = 0\n",
    "        end = 1\n",
    "        width = end - start\n",
    "        res = (arr - arr.min())/(arr.max() - arr.min()) * width + start\n",
    "        return res.tolist()\n",
    "\n",
    "    cooc_keys, cooc_values = zip(*cooc_odd_scores.items())\n",
    "    new_cooc_odd_scores = dict(zip(cooc_keys, norm_arr(cooc_values)))\n",
    "\n",
    "    return new_cooc_odd_scores\n",
    "\n",
    "new_patient_cooc_odd_scores = data_norm(patient_cooc_odd_scores)"
   ]
  },
  {
   "cell_type": "code",
   "execution_count": null,
   "metadata": {},
   "outputs": [],
   "source": []
  },
  {
   "cell_type": "code",
   "execution_count": 27,
   "metadata": {},
   "outputs": [],
   "source": [
    "# Additional code to label node words\n",
    "apr_patient_node_set = set()\n",
    "apr_patient_node_0_dict = {}\n",
    "apr_patient_node_1_dict = {}\n",
    "    \n",
    "for k, v in apr_patient_node_0.items():\n",
    "    for item in v:\n",
    "        apr_patient_node_set.add(item)\n",
    "        \n",
    "        if item not in apr_patient_node_0_dict:\n",
    "            apr_patient_node_0_dict[item] = v[item]\n",
    "        else:\n",
    "            apr_patient_node_0_dict[item] = apr_patient_node_0_dict[item] + v[item]\n",
    "        \n",
    "    \n",
    "for k, v in apr_patient_node_1.items():\n",
    "    for item in v:\n",
    "        apr_patient_node_set.add(item)\n",
    "        \n",
    "        if item not in apr_patient_node_1_dict:\n",
    "            apr_patient_node_1_dict[item] = v[item]\n",
    "        else:\n",
    "            apr_patient_node_1_dict[item] = apr_patient_node_1_dict[item] + v[item]"
   ]
  },
  {
   "cell_type": "code",
   "execution_count": 28,
   "metadata": {},
   "outputs": [
    {
     "name": "stdout",
     "output_type": "stream",
     "text": [
      "633\n",
      "379\n",
      "571\n"
     ]
    }
   ],
   "source": [
    "print(len(apr_patient_node_set))\n",
    "print(len(apr_patient_node_0_dict))\n",
    "print(len(apr_patient_node_1_dict))"
   ]
  },
  {
   "cell_type": "code",
   "execution_count": 29,
   "metadata": {},
   "outputs": [],
   "source": [
    "apr_patient_node_odd_scores = {}\n",
    "\n",
    "for set_item in apr_patient_node_set:\n",
    "    if set_item in apr_patient_node_0_dict and set_item in apr_patient_node_1_dict:\n",
    "        d_prob = apr_patient_node_0_dict[set_item]/(apr_patient_node_0_dict[set_item] + apr_patient_node_1_dict[set_item])\n",
    "        a_prob = apr_patient_node_1_dict[set_item]/(apr_patient_node_0_dict[set_item] + apr_patient_node_1_dict[set_item])\n",
    "        log_odd_score = math.log((a_prob + 0.001)/(d_prob+0.001))\n",
    "        apr_patient_node_odd_scores[set_item] = log_odd_score\n",
    "    elif set_item in apr_patient_node_0_dict:\n",
    "        log_odd_score = math.log((0.001)/(1.001))\n",
    "        apr_patient_node_odd_scores[set_item] = log_odd_score\n",
    "    elif set_item in apr_patient_node_1_dict:\n",
    "        log_odd_score = math.log((1.001)/(0.001))\n",
    "        apr_patient_node_odd_scores[set_item] = log_odd_score"
   ]
  },
  {
   "cell_type": "code",
   "execution_count": 30,
   "metadata": {},
   "outputs": [
    {
     "name": "stdout",
     "output_type": "stream",
     "text": [
      "{'readmit': 6.90875477931522, 'suport': -6.90875477931522, 'permiss': -2.1883847407670785, 'goc': 0.3357879300251662, 'gait': 2.601472222000523, 'institut': 2.007571633726069, 'sensat': 3.269258198656955, 'solut': 6.90875477931522, 'ud': 6.90875477931522, 'emper': 6.90875477931522, 'grave': -0.4046335072286383, 'calculi': 1.5360079185039965, 'declin': -0.3251358805203766, 'consciou': 6.90875477931522, 'ba': 6.90875477931522, 'rsrc': 6.90875477931522, 'para': 3.464102558012661, 'pneumococc': 2.221693083087361, 'chb': 0.6077720443224599, 'habitu': 3.4292390061376663, 'knowledg': 6.90875477931522, 'spfc': 2.0716061679700735, 'mail': 6.90875477931522, 'currenlti': 6.90875477931522, 'futil': -1.7859498421315991, 'precordium': 1.604655121332035, 'venti': 1.2552344413016325, 'hung': -1.095952712632351, 'intent': 6.90875477931522, 'mottl': 1.5488483166697078, 'proph': 6.90875477931522, 'passi': 6.90875477931522, 'impli': 0.6916505477038827, 'viscou': 6.90875477931522, 'unrel': -0.4046335072286383, 'moreov': 6.90875477931522, 'tobra': -6.90875477931522, 'burn': 0.5918095650214555, 'pivot': 1.0092206328555815, 'sml': -6.90875477931522, 'homogen': 2.0716061679700735, 'stg': 0.5378679732223675, 'dxae': 0.0, 'nitroglycerin': 6.90875477931522, 'money': 2.5001408943598484, 'pod': 6.90875477931522, 'postop': 2.6598359419686672, 'neoplast': 2.040109298143704, 'ultrafiltr': 6.90875477931522, 'respitori': -0.6916505477038827, 'appi': 6.90875477931522, 'soln': 6.90875477931522, 'im': 2.0293823968853086, 'anuria': 1.1884144866522524, 'mrcp': -1.0271828417136022, 'cramp': 6.90875477931522, 'recalibr': 6.90875477931522, 'virtual': 0.0, 'hygein': 6.90875477931522, 'distanc': 0.28709992764761555, 'quinton': 6.90875477931522, 'kyphoscoliosi': 6.90875477931522, 'thirst': 0.6916505477038827, 'sweat': 6.90875477931522, 'thiamin': 6.90875477931522, 'leukocyt': 0.6916505477038827, 'arrest': 1.1884144866522524, 'plate': 1.7859498421315991, 'gabapentin': 6.90875477931522, 'aox': 2.6932429501279174, 'lw': 0.8453976222857142, 'banana': 6.90875477931522, 'vtach': -2.007571633726069, 'passey': 6.90875477931522, 'spur': 6.90875477931522, 'deterior': 2.271677555530969, 'xanax': 6.90875477931522, 'platelet': 0.3856263430639195, 'vasopressin': -0.5628251784941475, 'hhn': 6.90875477931522, 'assymetr': 0.9141958635336067, 'rabbi': -6.90875477931522, 'hypothermia': 1.9624460326754531, 'simpli': 6.90875477931522, 'prilosec': 3.3046522316270157, 'mortum': -6.90875477931522, 'througout': 6.90875477931522, 'coarctat': 2.431010881582868, 'rhochor': 6.90875477931522, 'slough': 6.90875477931522, 'subdur': 4.7177301007748484, 'fwb': 6.90875477931522, 'msicu': 6.90875477931522, 'fc': -1.7859498421315991, 'autopeep': -6.90875477931522, 'tremul': 6.90875477931522, 'bmx': 6.90875477931522, 'readdress': 1.604655121332035, 'vallecula': 6.90875477931522, 'lat': 2.781918475709505, 'ambien': 6.90875477931522, 'articul': 6.90875477931522, 'gotten': 6.90875477931522, 'ardsnet': 0.6460928627110164, 'meatu': 2.6932429501279174, 'deflat': 6.90875477931522, 'centimet': 0.8453976222857142, 'ferrou': 6.90875477931522, 'mjmgb': 0.28709992764761555, 'underneath': 1.3825560390092835, 'rm': 1.2206783643193762, 'ashen': 6.90875477931522, 'cvvh': -0.02545138452962548, 'eyelid': -6.90875477931522, 'pvr': 0.0, 'fliud': -6.90875477931522, 'unenhanc': 1.7859498421315991, 'muddi': 1.0271828417136022, 'sluggishli': -6.90875477931522, 'diaper': 6.90875477931522, 'cloth': 2.601472222000523, 'levof': -0.23133479416950195, 'pyuria': -0.46903068451456725, 'cefapim': 6.90875477931522, 'adam': -6.90875477931522, 'palliat': -6.90875477931522, 'pericard': 6.90875477931522, 'db': 1.7755423620716917, 'dic': 1.1780886503127903, 'cup': 6.90875477931522, 'unobtain': 1.095952712632351, 'seroquel': 6.90875477931522, 'vasoconstrict': -6.90875477931522, 'tdi': 2.5893673028298645, 'esoph': -1.4998139424623853, 'hemithorac': -6.90875477931522, 'transmitr': 2.24195119354922, 'syst': 6.90875477931522, 'acidot': 3.213562170762998, 'friction': 6.90875477931522, 'diamox': 6.90875477931522, 'dead': -1.9029698713994427, 'ipf': 1.0170701834376525, 'crack': 6.90875477931522, 'spill': 6.90875477931522, 'escal': 0.27845984279047015, 'pharyng': 6.90875477931522, 'cooki': 6.90875477931522, 'metoclopramid': 6.90875477931522, 'epigastr': 6.90875477931522, 'thoracocentesi': 6.90875477931522, 'anur': 1.192708417873802, 'scopalamin': 0.0, 'angioplasti': 6.90875477931522, 'puff': 6.90875477931522, 'thk': 6.90875477931522, 'cardiovert': 0.08876971262771659, 'zyprexa': 2.906721752674218, 'laryng': 4.509960818540722, 'coach': 6.90875477931522, 'tranfer': 6.90875477931522, 'angiogram': 6.90875477931522, 'fee': 1.3825560390092835, \"tf'ing\": 6.90875477931522, 'motil': 0.0, 'gastrojejunostomi': 1.4998139424623853, 'oligur': 1.5098168539127583, 'aricept': -0.24207273499980653, 'unavail': 2.4165779821478726, 'rhinorrhea': 2.765541476724378, 'cdb': 2.0293823968853086, 'laminectomi': 6.90875477931522, 'lpm': 2.2816822783879074, 'ferritin': 6.90875477931522, 'zero': 6.90875477931522, 'trazodon': 3.287120401543968, 'hypotherm': 0.5741514985877892, 'argatroban': -0.8013676005646301, 'shorter': 0.8734901684270467, 'spiromet': 3.696591728053012, 'modifi': 6.90875477931522, 'scar': 0.9884634019134366, 'gurgl': 3.464102558012661, 'videofluoroscopi': 6.90875477931522, 'asystol': -1.9390841839849136, 'natg': 0.1332640725070919, 'book': 6.90875477931522, 'reveiw': -6.90875477931522, 'deliv': 6.90875477931522, 'hypercapnia': -2.014895675944767, 'behavior': 3.7191633588776987, 'unasyn': 1.1973830945692594, 'omeprazol': 3.936461279816705, 'liw': -6.90875477931522, 'morgu': -6.90875477931522, 'occupi': 2.0716061679700735, 'fungemia': 4.4632197191525, 'od': 6.90875477931522, 'requr': -1.095952712632351, '^rr': 2.7567935411197357, 'core': -0.2870999276476155, 'redirect': 0.863048163908824, 'dome': 1.6994502465251524, 'perisplen': 0.4046335072286383, 'dex': 6.90875477931522, 'gentamycin': -2.8164316892990344, 'commod': 1.8085373893992105, 'neosynephrin': -0.03502126292381994, 'hiccup': 0.0, 'spirit': 6.90875477931522, 'hurt': 2.2927445483990123, 'dietari': 6.90875477931522, 'gastriti': 6.90875477931522, 'dermat': 2.8834579772384417, 'pulseless': -6.90875477931522, 'subcost': 1.604655121332035, 'sooner': 6.90875477931522, 'predict': 1.4998139424623853, 'vp': 6.90875477931522, \"sxn'ing\": 6.90875477931522, 'sundown': 4.051735818618102, 'dyslipidemia': 6.90875477931522, 'forth': 6.90875477931522, 'incis': 1.4071430640950533, 'grimmac': 6.90875477931522, 'peribronchovascular': 2.1317280276818393, 'scab': 2.8164316892990344, 'imbal': 6.90875477931522, 'pca': 6.90875477931522, 'klonopin': 6.90875477931522, 'fatti': 3.4929879801825825, 'hive': 2.0229359235263975, 'contractur': 2.8995119199810393, 'aaox': 3.649722139527292, 'treitz': 0.6916505477038827, 'adenocarcinoma': 3.112820623527696, 'ciwa': 6.90875477931522, 'parastern': 1.3825560390092835, 'motor': 6.90875477931522, 'lotion': 0.28709992764761555, 'lax': 6.90875477931522, 'quinolon': 0.44536653690200506, 'pcv': 0.03564677390926459, 'qam': 3.174533094073146, 'glycopyrrol': 1.7859498421315991, 'lighthead': 6.90875477931522, 'thrive': 0.9294189568548948, 'pneumonectomi': 1.782563518479713, 'foci': 1.4394664851060526, 'subq': 6.90875477931522, '^th': 6.90875477931522, 'nrbm': 0.0, 'proport': 0.6916505477038827, 'brb': 0.34759737203253194, 'hepatobiliari': -6.90875477931522, 'jejunum': 0.5378679732223675, 'macu': 6.90875477931522, 'chip': 6.90875477931522, 'asthma': 5.02838474300021, 'kerlix': 6.90875477931522, 'peerla': 6.90875477931522, 'endur': 6.90875477931522, 'pleuravac': -6.90875477931522, 'abnl': 6.90875477931522, 'massag': -1.2009479885775014, 'clonidin': 6.90875477931522, 'nephrogram': 1.095952712632351, 'svv': -6.90875477931522, 'clonazepam': 6.90875477931522, 'tran': 0.5378679732223675, 'arrang': -6.90875477931522, 'bow': 6.90875477931522, 'treatement': 6.90875477931522, 'defibril': 6.90875477931522, 'freeli': 2.9256884298210646, 'piriform': 6.90875477931522, 'yel': 6.90875477931522, 'robitussin': 0.7604677155175795, 'ruptur': 6.90875477931522, 'fdp': -6.90875477931522, 'xl': 1.797711411745746, 'tracheomalacia': 6.90875477931522, 'knew': 6.90875477931522, 'diuril': 6.90875477931522, 'clinician': 0.809128888289493, 'judgement': -1.095952712632351, 'incent': 2.3410355182973803, 'seat': 1.4311353280322385, 'dopamin': 2.121381791838009, 'palli': 0.29299432963307714, 'nocturn': 6.90875477931522, 'autoset': 6.90875477931522, 'sacrament': -6.90875477931522, 'gadolinium': 4.125818406304112, 'carvedilol': 2.203989930835852, 'outer': 1.095952712632351, 'protrud': 2.9256884298210646, 'fibrinogen': 0.6890116342592116, 'preme': 6.90875477931522, 'life': -0.3978222794470542, 'flight': 6.90875477931522, 'waist': 0.4046335072286383, 'lac': 6.90875477931522, 'purpl': 1.160271244612009, 'pleasant': 3.4542729200809688, 'meropenam': -6.90875477931522, 'cracker': 1.3825560390092835, 'acv': 6.90875477931522, 'rusti': -0.6916505477038827, 'ambul': 2.5039471607851587, 'agonist': 6.90875477931522, 'azotemia': -0.3422467750096624, 'acc': 6.90875477931522, 'absorb': 6.90875477931522, 'park': 6.90875477931522, 'stitch': 6.90875477931522, 'nicotin': 6.90875477931522, 'schizophrenia': 6.90875477931522, 'splint': 6.90875477931522, 'myeloma': 2.2093344698865964, 'olanzapin': 6.90875477931522, 'iddm': 6.90875477931522, 'grd': 6.90875477931522, 'broader': 6.90875477931522, 'promod': 1.839677340209646, 'paco': 2.2927445483990123, 'awhil': 6.90875477931522, 'polici': -6.90875477931522, 'barium': 3.5875897086472195, 'zoloft': 0.8974370375810735, 'cyanot': -0.5584397574369147, 'among': -0.6916505477038827, 'jerk': 1.095952712632351, 'dz': 6.90875477931522, 'distort': 2.625239572123001, 'ctx': 4.020284968191801, 'quadrent': 6.90875477931522, 'nifedipin': 2.4270957194435745, 'peac': -6.90875477931522, 'gum': 6.90875477931522, 'uncoop': 6.90875477931522, 'align': 2.1317280276818393, 'rpr': 6.90875477931522, 'suprapub': 3.8042847712588044, 'gc': 1.2009479885775016, 'hctz': 6.90875477931522, 'depth': 6.90875477931522, 'vasopressor': 1.8265169463788369, 'sluggish': 0.5836985542843016, 'gvhd': -3.914727064425406, 'expir': -0.07988277164760577, 'surviv': 6.90875477931522, 'furhter': 0.0, 'retic': 6.90875477931522, 'bair': 0.12235699519301034, 'plerual': -1.095952712632351, 'fresh': -6.90875477931522, 'maroon': 6.90875477931522, 'viabl': -6.90875477931522, 'chane': 6.90875477931522, 'montitor': -6.90875477931522, 'muir': 6.90875477931522, 'eg': 6.90875477931522, 'oncologist': 2.0823295643174276, 'led': 2.8449265087198694, 'hook': 6.90875477931522, 'gown': 1.3825560390092835, 'pharmacolog': 6.90875477931522, 'angri': 6.90875477931522, 'dobutamin': 0.4091794662878515, 'silent': 2.24195119354922, 'dk': 6.90875477931522, 'bill': 6.90875477931522, 'west': 6.90875477931522, 'phasic': 1.3825560390092835, 'oximetri': 6.90875477931522, 'pitressin': -1.095952712632351, 'caspofungin': 0.606820385290549, 'refractori': 6.90875477931522, 'amb': 6.90875477931522, 'stack': -6.90875477931522, 'nonlabor': 6.90875477931522, 'quietli': -1.604655121332035, 'diaphoresi': 6.90875477931522, 'vertebra': 1.3825560390092835, 'overlay': -6.90875477931522, 'rehabilit': 6.90875477931522, 'crowd': 2.0716061679700735, 'familt': -6.90875477931522, 'rescan': 6.90875477931522, 'romi': 4.382577953258093, 'unalt': 2.1883847407670785, 'ligament': 1.3825560390092835, 'nice': 6.90875477931522, 'moan': 1.0548445068920116, 'bell': 6.90875477931522, 'tubular': 0.6916505477038827, 'nephrolog': -0.11754739745695504, 'wma': -1.9852670803394386, 'learn': 6.90875477931522, 'osa': 3.0298720743851866, 'hida': 6.90875477931522, 'ggt': 1.9390841839849136, 'aprv': -6.90875477931522, 'bipolar': 1.1158864246660611, 'hemangioma': 6.90875477931522, 'hypercapn': -1.308751606672365, 'strictur': 6.90875477931522, 'pathologist': 6.90875477931522, 'lc': -0.8453976222857144, 'discard': 6.90875477931522, 'mva': 6.90875477931522, 'illeu': -6.90875477931522, 'sibl': 0.809128888289493, 'dysynchron': -3.574648627896117, 'gaol': 6.90875477931522, 'uri': 6.90875477931522, 'smooth': 1.295899090635986, 'wether': 6.90875477931522, 'float': 6.90875477931522, 'adenosin': 6.90875477931522, 'binder': 6.90875477931522, 'weekli': 6.90875477931522, 'hepati': 0.0, 'rigor': 6.90875477931522, 'echocardiogram': 0.41045180799574615, 'aliv': 6.90875477931522, 'funer': 6.90875477931522, 'acetazolamid': 6.90875477931522, 'resucit': 6.90875477931522, 'young': 6.90875477931522, 'crrt': 0.6333829574096572, 'option': -1.4352492835070114, 'quiac': 6.90875477931522, 'priest': -6.90875477931522, 'tacycard': 6.90875477931522, 'seriou': 1.2206783643193762, 'petechia': -6.90875477931522, 'triadyn': -0.07988277164760577, 'nimv': 0.6916505477038827, 'calvarium': 1.3825560390092835, 'prec': 6.90875477931522, 'qtc': 2.5966483001826894, 'historian': 3.8143896713926595, 'derecruit': -6.90875477931522, 'colonoscopi': 6.90875477931522, 'deploy': 1.604655121332035, 'grim': -6.90875477931522, 'ethic': -6.90875477931522, 'ggo': 6.90875477931522, 'nahco': 2.473073171472692, 'herp': 6.90875477931522, 'mellitu': 3.6335560595180567, 'conc': 1.3825560390092835, 'reguard': 6.90875477931522, 'declar': -6.90875477931522, 'pea': 1.242916320903325, 'paralyt': 0.26516657679136335, 'anaphylaxi': 1.5932198549292915, 'unstabl': 1.423202222234302, 'tie': 6.90875477931522, 'oob': 2.076437778177246, 'cg': -6.90875477931522, 'wallet': 2.2927445483990123, 'uffp': 6.90875477931522, 'video': 2.322003749327675, 'opinion': 1.4998139424623853, 'cs': 2.552122795903801, 'wish': 0.30117515279635937, 'corneal': -6.90875477931522, 'cocain': 6.90875477931522, 'hemothorax': -0.4384612795923408, 'warmer': 6.90875477931522, 'esophagogastr': -1.9390841839849136, 'perpher': 1.9390841839849136, 'clergi': -6.90875477931522, 'inspit': 6.90875477931522, 'cpr': -1.36687383632168, 'mso': -0.3669741958284662, 'intiat': 2.0716061679700735, 'synthet': 0.41409172233250163, 'fu': 2.8726050025040895, 'hydralizin': 6.90875477931522, 'analgesia': -6.90875477931522, 'nonreact': -6.90875477931522, 'bank': 2.387057016415087, 'anyway': 6.90875477931522, 'levoph': 0.18239584456003188, 'rememb': 6.90875477931522, 'hover': 6.90875477931522, 'lcw': 6.90875477931522, 'bicarbon': -0.21662784268989682, 'slice': 2.1883847407670785, 'neo': 0.24742896009344983, 'duski': -0.809128888289493, 'harm': 6.90875477931522, 'chol': -6.90875477931522, 'polymorph': -6.90875477931522, 'autopsi': -6.90875477931522, 'death': -0.6916505477038827, 'occurr': 6.90875477931522, 'director': 6.90875477931522, 'dni': 0.7852182412326755, 'mrg': 6.90875477931522, 'dd': 6.90875477931522, 'beeper': 6.90875477931522, 'oder': -6.90875477931522, 'prognosi': -2.5801888227026284, 'breakfast': 6.90875477931522, 'ration': 6.90875477931522, 'cisatracurium': -0.9533015672059649, 'epidur': 6.90875477931522, 'pose': 0.6916505477038827, 'panic': 6.90875477931522, 'norepinephrin': -0.597800307795547, 'method': -6.90875477931522, 'xopenex': 1.1046572873035894, 'bottl': 0.7376251128347686, 'mandibl': 6.90875477931522, 'probe': 6.90875477931522, 'syncop': 6.90875477931522, 'agon': -3.3046522316270157, 'tcdb': 6.90875477931522, 'trabecul': 1.9390841839849136, 'paperwork': 3.1544023422659846, 'mucinex': 6.90875477931522, 'erythro': 6.90875477931522, 'ultram': 6.90875477931522, 'chemic': 0.4585825764835029, 'chlorhex': 6.90875477931522, 'lusb': 1.3314749107825283, 'magnevist': 6.90875477931522, 'gasp': -6.90875477931522, 'itchi': -0.03383387098398164, 'sarna': 6.90875477931522, 'underpenetr': 0.586544924532355, 'bromid': 6.90875477931522, 'opiat': 1.069012844912209, 'pronounc': 1.121185584669415, 'icter': 1.0389798967708495, 'hospic': 0.4149738469106543, 'exophyt': 0.6916505477038827, 'respon': 6.90875477931522, 'diflucan': 0.5378679732223675, 'hugger': -0.9072953759720636, 'endplat': 1.2495579516853903, 'pneumothorac': 0.4585825764835029, 'lift': 6.90875477931522, 'forc': 0.9407862693217649, 'nectar': 6.90875477931522, 'mycolyt': 6.90875477931522, 'twitch': 3.60035323709679, 'criticar': 2.625239572123001, 'vagu': 3.7191633588776987, 'yankuer': 6.90875477931522, 'xii': 1.128632200393624, 'mind': 6.90875477931522, 'tea': 6.90875477931522, 'lymphangit': 2.224418442526018, 'elimin': 6.90875477931522, 'tachpnea': 6.90875477931522, 'osteoblast': -0.6916505477038827, 'unsteadi': 6.90875477931522, 'vigil': 6.90875477931522, 'compani': 6.90875477931522, 'stair': 6.90875477931522, 'cash': 2.445233782640049, 'cvo': 6.90875477931522, 'scl': 6.90875477931522, 'schistocyt': 6.90875477931522, 'suffer': 1.6864515242778426, 'morbid': 6.90875477931522, 'spacer': 6.90875477931522, 'hsq': 1.9624460326754531, 'recruit': 2.431010881582868, 'td': 6.90875477931522, 'bronchovascular': 1.9739225981769513, 'profound': 2.156410442937246, 'nonrebreath': 2.513398374617902, 'chair': 1.8559553610868105, 'dnr': 0.8878077019401656, 'pplat': 6.90875477931522, 'pleasantli': 6.90875477931522, 'dorsal': 0.6916505477038827, 'occipit': 4.194167385063407, 'ppn': 6.90875477931522, 'hunger': -1.8654833430478825, 'ppd': 3.7411949531449844, 'hilum': 1.604655121332035, 'svn': 6.90875477931522, 'unequ': 0.0, 'esld': 0.3109555803060633, 'mood': 6.90875477931522, 'ran': 6.90875477931522, 'dizzi': 3.778523001986504, 'flake': 6.90875477931522, 'effac': 2.552122795903801, 'town': 2.9256884298210646, 'agreement': -6.90875477931522, 'news': -6.90875477931522, 'religi': -6.90875477931522, 'ffp': -0.8734901684270467, 'mean': 1.574351208466572, 'cvvhd': -0.3782571110465018, 'doen': -6.90875477931522, 'mortem': -6.90875477931522, 'artifici': 0.7560249394646842, 'ntnd': 0.9566305237694903, 'cmo': -1.3973812618169323, 'heroic': -6.90875477931522, 'ofm': 6.90875477931522, 'phlegm': 1.767371194931812, 'ccn': -6.90875477931522, 'struggl': -6.90875477931522, 'influenc': 6.90875477931522, 'cagluc': -6.90875477931522, 'contd': 6.90875477931522, 'neutral': 6.90875477931522, 'mtg': -2.7191649053795555, 'arthrit': 6.90875477931522, 'jewelri': 2.625239572123001, 'reappear': 6.90875477931522, 'nacl': 6.90875477931522, 'cellcept': 0.2580521194945898, 'fax': 6.90875477931522, 'pinpoint': -2.473073171472692, 'pastor': -6.90875477931522, 'phenylephrin': 0.09824326909851193, 'spectral': 0.9785433477333831, 'abruptli': -6.90875477931522, 'aglc': 6.90875477931522, 'signatur': 2.601472222000523, 'captopril': 2.956624359695953}\n"
     ]
    }
   ],
   "source": [
    "print(apr_patient_node_odd_scores)"
   ]
  },
  {
   "cell_type": "code",
   "execution_count": 31,
   "metadata": {},
   "outputs": [
    {
     "data": {
      "text/html": [
       "<div>\n",
       "<style scoped>\n",
       "    .dataframe tbody tr th:only-of-type {\n",
       "        vertical-align: middle;\n",
       "    }\n",
       "\n",
       "    .dataframe tbody tr th {\n",
       "        vertical-align: top;\n",
       "    }\n",
       "\n",
       "    .dataframe thead th {\n",
       "        text-align: right;\n",
       "    }\n",
       "</style>\n",
       "<table border=\"1\" class=\"dataframe\">\n",
       "  <thead>\n",
       "    <tr style=\"text-align: right;\">\n",
       "      <th></th>\n",
       "      <th>node</th>\n",
       "      <th>feature</th>\n",
       "    </tr>\n",
       "  </thead>\n",
       "  <tbody>\n",
       "    <tr>\n",
       "      <th>0</th>\n",
       "      <td>readmit</td>\n",
       "      <td>6.908755</td>\n",
       "    </tr>\n",
       "    <tr>\n",
       "      <th>1</th>\n",
       "      <td>suport</td>\n",
       "      <td>-6.908755</td>\n",
       "    </tr>\n",
       "    <tr>\n",
       "      <th>2</th>\n",
       "      <td>permiss</td>\n",
       "      <td>-2.188385</td>\n",
       "    </tr>\n",
       "    <tr>\n",
       "      <th>3</th>\n",
       "      <td>goc</td>\n",
       "      <td>0.335788</td>\n",
       "    </tr>\n",
       "    <tr>\n",
       "      <th>4</th>\n",
       "      <td>gait</td>\n",
       "      <td>2.601472</td>\n",
       "    </tr>\n",
       "    <tr>\n",
       "      <th>...</th>\n",
       "      <td>...</td>\n",
       "      <td>...</td>\n",
       "    </tr>\n",
       "    <tr>\n",
       "      <th>628</th>\n",
       "      <td>spectral</td>\n",
       "      <td>0.978543</td>\n",
       "    </tr>\n",
       "    <tr>\n",
       "      <th>629</th>\n",
       "      <td>abruptli</td>\n",
       "      <td>-6.908755</td>\n",
       "    </tr>\n",
       "    <tr>\n",
       "      <th>630</th>\n",
       "      <td>aglc</td>\n",
       "      <td>6.908755</td>\n",
       "    </tr>\n",
       "    <tr>\n",
       "      <th>631</th>\n",
       "      <td>signatur</td>\n",
       "      <td>2.601472</td>\n",
       "    </tr>\n",
       "    <tr>\n",
       "      <th>632</th>\n",
       "      <td>captopril</td>\n",
       "      <td>2.956624</td>\n",
       "    </tr>\n",
       "  </tbody>\n",
       "</table>\n",
       "<p>633 rows × 2 columns</p>\n",
       "</div>"
      ],
      "text/plain": [
       "          node   feature\n",
       "0      readmit  6.908755\n",
       "1       suport -6.908755\n",
       "2      permiss -2.188385\n",
       "3          goc  0.335788\n",
       "4         gait  2.601472\n",
       "..         ...       ...\n",
       "628   spectral  0.978543\n",
       "629   abruptli -6.908755\n",
       "630       aglc  6.908755\n",
       "631   signatur  2.601472\n",
       "632  captopril  2.956624\n",
       "\n",
       "[633 rows x 2 columns]"
      ]
     },
     "execution_count": 31,
     "metadata": {},
     "output_type": "execute_result"
    }
   ],
   "source": [
    "apr_patient_square_node_data = pd.DataFrame({'node':list(apr_patient_node_odd_scores.keys()), 'feature':list(apr_patient_node_odd_scores.values())})\n",
    "apr_patient_square_node_data"
   ]
  },
  {
   "cell_type": "code",
   "execution_count": 32,
   "metadata": {},
   "outputs": [
    {
     "data": {
      "text/html": [
       "<div>\n",
       "<style scoped>\n",
       "    .dataframe tbody tr th:only-of-type {\n",
       "        vertical-align: middle;\n",
       "    }\n",
       "\n",
       "    .dataframe tbody tr th {\n",
       "        vertical-align: top;\n",
       "    }\n",
       "\n",
       "    .dataframe thead th {\n",
       "        text-align: right;\n",
       "    }\n",
       "</style>\n",
       "<table border=\"1\" class=\"dataframe\">\n",
       "  <thead>\n",
       "    <tr style=\"text-align: right;\">\n",
       "      <th></th>\n",
       "      <th>feature</th>\n",
       "      <th>subject</th>\n",
       "    </tr>\n",
       "    <tr>\n",
       "      <th>node</th>\n",
       "      <th></th>\n",
       "      <th></th>\n",
       "    </tr>\n",
       "  </thead>\n",
       "  <tbody>\n",
       "    <tr>\n",
       "      <th>readmit</th>\n",
       "      <td>6.908755</td>\n",
       "      <td>positive</td>\n",
       "    </tr>\n",
       "    <tr>\n",
       "      <th>suport</th>\n",
       "      <td>-6.908755</td>\n",
       "      <td>negative</td>\n",
       "    </tr>\n",
       "    <tr>\n",
       "      <th>permiss</th>\n",
       "      <td>-2.188385</td>\n",
       "      <td>negative</td>\n",
       "    </tr>\n",
       "    <tr>\n",
       "      <th>goc</th>\n",
       "      <td>0.335788</td>\n",
       "      <td>positive</td>\n",
       "    </tr>\n",
       "    <tr>\n",
       "      <th>gait</th>\n",
       "      <td>2.601472</td>\n",
       "      <td>positive</td>\n",
       "    </tr>\n",
       "    <tr>\n",
       "      <th>...</th>\n",
       "      <td>...</td>\n",
       "      <td>...</td>\n",
       "    </tr>\n",
       "    <tr>\n",
       "      <th>spectral</th>\n",
       "      <td>0.978543</td>\n",
       "      <td>positive</td>\n",
       "    </tr>\n",
       "    <tr>\n",
       "      <th>abruptli</th>\n",
       "      <td>-6.908755</td>\n",
       "      <td>negative</td>\n",
       "    </tr>\n",
       "    <tr>\n",
       "      <th>aglc</th>\n",
       "      <td>6.908755</td>\n",
       "      <td>positive</td>\n",
       "    </tr>\n",
       "    <tr>\n",
       "      <th>signatur</th>\n",
       "      <td>2.601472</td>\n",
       "      <td>positive</td>\n",
       "    </tr>\n",
       "    <tr>\n",
       "      <th>captopril</th>\n",
       "      <td>2.956624</td>\n",
       "      <td>positive</td>\n",
       "    </tr>\n",
       "  </tbody>\n",
       "</table>\n",
       "<p>633 rows × 2 columns</p>\n",
       "</div>"
      ],
      "text/plain": [
       "            feature   subject\n",
       "node                         \n",
       "readmit    6.908755  positive\n",
       "suport    -6.908755  negative\n",
       "permiss   -2.188385  negative\n",
       "goc        0.335788  positive\n",
       "gait       2.601472  positive\n",
       "...             ...       ...\n",
       "spectral   0.978543  positive\n",
       "abruptli  -6.908755  negative\n",
       "aglc       6.908755  positive\n",
       "signatur   2.601472  positive\n",
       "captopril  2.956624  positive\n",
       "\n",
       "[633 rows x 2 columns]"
      ]
     },
     "execution_count": 32,
     "metadata": {},
     "output_type": "execute_result"
    }
   ],
   "source": [
    "apr_patient_square_node_id_data = apr_patient_square_node_data.set_index(\"node\")\n",
    "apr_patient_square_node_id_data['subject'] = [\"positive\" if r['feature'] > 0 else \"negative\" for i, r in apr_patient_square_node_id_data.iterrows()]\n",
    "apr_patient_square_node_id_data"
   ]
  },
  {
   "cell_type": "code",
   "execution_count": 33,
   "metadata": {},
   "outputs": [
    {
     "data": {
      "text/plain": [
       "node\n",
       "readmit      positive\n",
       "suport       negative\n",
       "permiss      negative\n",
       "goc          positive\n",
       "gait         positive\n",
       "               ...   \n",
       "spectral     positive\n",
       "abruptli     negative\n",
       "aglc         positive\n",
       "signatur     positive\n",
       "captopril    positive\n",
       "Name: subject, Length: 633, dtype: object"
      ]
     },
     "execution_count": 33,
     "metadata": {},
     "output_type": "execute_result"
    }
   ],
   "source": [
    "apr_subjects = apr_patient_square_node_id_data[\"subject\"]\n",
    "apr_subjects"
   ]
  },
  {
   "cell_type": "code",
   "execution_count": null,
   "metadata": {},
   "outputs": [],
   "source": []
  },
  {
   "cell_type": "code",
   "execution_count": 34,
   "metadata": {
    "scrolled": true
   },
   "outputs": [
    {
     "name": "stderr",
     "output_type": "stream",
     "text": [
      "100%|██████████| 252/252 [00:31<00:00,  7.92it/s]\n",
      "100%|██████████| 1167/1167 [14:18<00:00,  1.36it/s]   \n"
     ]
    }
   ],
   "source": [
    "# Create a list of all itemsets\n",
    "apr_itemsets = []\n",
    "\n",
    "for k,v in tqdm(apr_patient_itemset_0.items()):\n",
    "    \n",
    "    for i in v:  \n",
    "        if i not in apr_itemsets:\n",
    "            apr_itemsets.append(i)\n",
    "    \n",
    "for k,v in tqdm(apr_patient_itemset_1.items()):\n",
    "    for i in v:\n",
    "        if i not in apr_itemsets:\n",
    "            apr_itemsets.append(i)"
   ]
  },
  {
   "cell_type": "code",
   "execution_count": 35,
   "metadata": {},
   "outputs": [
    {
     "name": "stdout",
     "output_type": "stream",
     "text": [
      "293768\n"
     ]
    }
   ],
   "source": [
    "print(len(apr_itemsets))"
   ]
  },
  {
   "cell_type": "code",
   "execution_count": 36,
   "metadata": {
    "scrolled": true
   },
   "outputs": [
    {
     "name": "stdout",
     "output_type": "stream",
     "text": [
      "[['arrest', 'pea'], ['cpr', 'pea'], ['arrest', 'cpr'], ['arrest', 'cpr', 'pea'], ['cpr', 'vasopressin'], ['pea', 'vasopressin'], ['arrest', 'vasopressin'], ['cpr', 'pea', 'vasopressin'], ['arrest', 'cpr', 'vasopressin'], ['arrest', 'pea', 'vasopressin'], ['arrest', 'cpr', 'pea', 'vasopressin'], ['pcv', 'vasopressin'], ['cpr', 'pcv'], ['pcv', 'pea'], ['arrest', 'pcv'], ['cpr', 'pcv', 'vasopressin'], ['pcv', 'pea', 'vasopressin'], ['arrest', 'pcv', 'vasopressin'], ['cpr', 'pcv', 'pea'], ['arrest', 'cpr', 'pcv'], ['arrest', 'pcv', 'pea'], ['cpr', 'pcv', 'pea', 'vasopressin'], ['arrest', 'cpr', 'pcv', 'vasopressin'], ['arrest', 'pcv', 'pea', 'vasopressin'], ['arrest', 'cpr', 'pcv', 'pea'], ['arrest', 'cpr', 'pcv', 'pea', 'vasopressin'], ['paralyt', 'pcv'], ['paralyt', 'vasopressin'], ['cpr', 'paralyt'], ['paralyt', 'pea'], ['arrest', 'paralyt'], ['paralyt', 'pcv', 'vasopressin'], ['cpr', 'paralyt', 'pcv'], ['paralyt', 'pcv', 'pea'], ['arrest', 'paralyt', 'pcv'], ['cpr', 'paralyt', 'vasopressin'], ['paralyt', 'pea', 'vasopressin'], ['arrest', 'paralyt', 'vasopressin'], ['cpr', 'paralyt', 'pea'], ['arrest', 'cpr', 'paralyt'], ['arrest', 'paralyt', 'pea'], ['cpr', 'paralyt', 'pcv', 'vasopressin'], ['paralyt', 'pcv', 'pea', 'vasopressin'], ['arrest', 'paralyt', 'pcv', 'vasopressin'], ['cpr', 'paralyt', 'pcv', 'pea'], ['arrest', 'cpr', 'paralyt', 'pcv'], ['arrest', 'paralyt', 'pcv', 'pea'], ['cpr', 'paralyt', 'pea', 'vasopressin'], ['arrest', 'cpr', 'paralyt', 'vasopressin'], ['arrest', 'paralyt', 'pea', 'vasopressin'], ['arrest', 'cpr', 'paralyt', 'pea'], ['cpr', 'paralyt', 'pcv', 'pea', 'vasopressin'], ['arrest', 'cpr', 'paralyt', 'pcv', 'vasopressin'], ['arrest', 'paralyt', 'pcv', 'pea', 'vasopressin'], ['arrest', 'cpr', 'paralyt', 'pcv', 'pea'], ['arrest', 'cpr', 'paralyt', 'pea', 'vasopressin'], ['arrest', 'cpr', 'paralyt', 'pcv', 'pea', 'vasopressin'], ['norepinephrin', 'paralyt'], ['norepinephrin', 'pcv'], ['norepinephrin', 'vasopressin'], ['cpr', 'norepinephrin'], ['norepinephrin', 'pea'], ['arrest', 'norepinephrin'], ['norepinephrin', 'paralyt', 'pcv'], ['norepinephrin', 'paralyt', 'vasopressin'], ['cpr', 'norepinephrin', 'paralyt'], ['norepinephrin', 'paralyt', 'pea'], ['arrest', 'norepinephrin', 'paralyt'], ['norepinephrin', 'pcv', 'vasopressin'], ['cpr', 'norepinephrin', 'pcv'], ['norepinephrin', 'pcv', 'pea'], ['arrest', 'norepinephrin', 'pcv'], ['cpr', 'norepinephrin', 'vasopressin'], ['norepinephrin', 'pea', 'vasopressin'], ['arrest', 'norepinephrin', 'vasopressin'], ['cpr', 'norepinephrin', 'pea'], ['arrest', 'cpr', 'norepinephrin'], ['arrest', 'norepinephrin', 'pea'], ['norepinephrin', 'paralyt', 'pcv', 'vasopressin'], ['cpr', 'norepinephrin', 'paralyt', 'pcv'], ['norepinephrin', 'paralyt', 'pcv', 'pea'], ['arrest', 'norepinephrin', 'paralyt', 'pcv'], ['cpr', 'norepinephrin', 'paralyt', 'vasopressin'], ['norepinephrin', 'paralyt', 'pea', 'vasopressin'], ['arrest', 'norepinephrin', 'paralyt', 'vasopressin'], ['cpr', 'norepinephrin', 'paralyt', 'pea'], ['arrest', 'cpr', 'norepinephrin', 'paralyt'], ['arrest', 'norepinephrin', 'paralyt', 'pea'], ['cpr', 'norepinephrin', 'pcv', 'vasopressin'], ['norepinephrin', 'pcv', 'pea', 'vasopressin'], ['arrest', 'norepinephrin', 'pcv', 'vasopressin'], ['cpr', 'norepinephrin', 'pcv', 'pea'], ['arrest', 'cpr', 'norepinephrin', 'pcv'], ['arrest', 'norepinephrin', 'pcv', 'pea'], ['cpr', 'norepinephrin', 'pea', 'vasopressin'], ['arrest', 'cpr', 'norepinephrin', 'vasopressin'], ['arrest', 'norepinephrin', 'pea', 'vasopressin'], ['arrest', 'cpr', 'norepinephrin', 'pea'], ['cpr', 'norepinephrin', 'paralyt', 'pcv', 'vasopressin'], ['norepinephrin', 'paralyt', 'pcv', 'pea', 'vasopressin']]\n"
     ]
    }
   ],
   "source": [
    "print(apr_itemsets[:100])"
   ]
  },
  {
   "cell_type": "markdown",
   "metadata": {},
   "source": [
    "#### Create embeddings from apr_cooc"
   ]
  },
  {
   "cell_type": "code",
   "execution_count": 37,
   "metadata": {},
   "outputs": [],
   "source": [
    "from sklearn.manifold import TSNE\n",
    "from gensim.models import Word2Vec"
   ]
  },
  {
   "cell_type": "code",
   "execution_count": 38,
   "metadata": {},
   "outputs": [],
   "source": [
    "apr_cooc_model_patient = Word2Vec(\n",
    "    apr_itemsets, size=128, window=5, min_count=0, sg=1, workers=4, iter=1\n",
    ")"
   ]
  },
  {
   "cell_type": "code",
   "execution_count": 39,
   "metadata": {
    "scrolled": true
   },
   "outputs": [
    {
     "data": {
      "text/plain": [
       "array([ 0.1881582 , -0.19139174,  0.21390189,  0.3292663 , -0.09690257,\n",
       "       -0.24458025,  0.01753123, -0.19995943, -0.29192448,  0.06493586,\n",
       "       -0.24985106,  0.06104916, -0.0281712 , -0.3158754 , -0.1182294 ,\n",
       "       -0.10239854,  0.5869148 ,  0.19746985,  0.12057449, -0.15345098,\n",
       "        0.09018557, -0.5810651 ,  0.19828169, -0.15030856, -0.2116011 ,\n",
       "       -0.16286957, -0.14880285, -0.4191259 , -0.07995562, -0.06796566,\n",
       "       -0.01030982, -0.08070359,  0.3301768 ,  0.25098333, -0.14868994,\n",
       "       -0.2170262 , -0.12274618, -0.3865495 , -0.31485012, -0.18553753,\n",
       "       -0.13808224, -0.22749841,  0.2884389 , -0.2249022 ,  0.10250145,\n",
       "        0.3517282 ,  0.30275247, -0.03127793,  0.15640816,  0.3408232 ,\n",
       "       -0.11753867,  0.10560799, -0.4612614 ,  0.05049331, -0.1331845 ,\n",
       "       -0.22877333,  0.1761968 ,  0.27193442, -0.08689488,  0.20317881,\n",
       "        0.22739604,  0.07450799,  0.02595266, -0.0341915 ,  0.04971341,\n",
       "        0.24475703,  0.37543276, -0.31138864, -0.0106193 , -0.1964201 ,\n",
       "       -0.07829294,  0.08299418, -0.2940703 , -0.18004863,  0.3280465 ,\n",
       "       -0.1467994 ,  0.53608423, -0.21572264,  0.19776587,  0.09244908,\n",
       "       -0.23862907, -0.15533833, -0.04789754,  0.2048005 ,  0.01031674,\n",
       "       -0.07458483,  0.23897539, -0.32912275,  0.09315166,  0.00613729,\n",
       "       -0.13488874, -0.11714742, -0.1355589 ,  0.18921939,  0.09981204,\n",
       "        0.14077127, -0.35908628,  0.23351495,  0.03906466,  0.35405546,\n",
       "       -0.23308915, -0.15261848,  0.18713804, -0.37355736,  0.06426994,\n",
       "        0.52755916,  0.29308188, -0.2629639 ,  0.52660894, -0.00311448,\n",
       "        0.22862035,  0.1720131 , -0.3907873 ,  0.09648224,  0.25475383,\n",
       "        0.37298688,  0.32124403, -0.17549406,  0.4054991 , -0.23567158,\n",
       "       -0.06541048,  0.03723097, -0.39175305, -0.37707943, -0.49362034,\n",
       "        0.55204505, -0.13433623, -0.24938075], dtype=float32)"
      ]
     },
     "execution_count": 39,
     "metadata": {},
     "output_type": "execute_result"
    }
   ],
   "source": [
    "emb = apr_cooc_model_patient.wv[\"cmo\"]\n",
    "emb"
   ]
  },
  {
   "cell_type": "markdown",
   "metadata": {},
   "source": [
    "#### Visualise node embeddings for apr_cooc"
   ]
  },
  {
   "cell_type": "code",
   "execution_count": 40,
   "metadata": {},
   "outputs": [],
   "source": [
    "# Retrieve node embeddings and corresponding subjects\n",
    "patient_node_ids = apr_cooc_model_patient.wv.index2word  # list of node IDs\n",
    "patient_weighted_node_embeddings = (\n",
    "    apr_cooc_model_patient.wv.vectors\n",
    ")  # numpy.ndarray of size number of nodes times embeddings dimensionality\n",
    "# the gensim ordering may not match the StellarGraph one, so rearrange\n",
    "patient_node_targets = apr_subjects.loc[patient_node_ids].astype(\"category\")"
   ]
  },
  {
   "cell_type": "code",
   "execution_count": 41,
   "metadata": {},
   "outputs": [],
   "source": [
    "# Apply t-SNE transformation on node embeddings\n",
    "tsne = TSNE(n_components=2, random_state=42)\n",
    "patient_weighted_node_embeddings_2d = tsne.fit_transform(patient_weighted_node_embeddings)"
   ]
  },
  {
   "cell_type": "code",
   "execution_count": 42,
   "metadata": {},
   "outputs": [
    {
     "data": {
      "image/png": "[encoded data removed]",
      "text/plain": [
       "<Figure size 720x576 with 1 Axes>"
      ]
     },
     "metadata": {
      "needs_background": "light"
     },
     "output_type": "display_data"
    }
   ],
   "source": [
    "# draw the points\n",
    "alpha = 0.7\n",
    "\n",
    "plt.figure(figsize=(10, 8))\n",
    "plt.scatter(\n",
    "    patient_weighted_node_embeddings_2d[:, 0],\n",
    "    patient_weighted_node_embeddings_2d[:, 1],\n",
    "    c=patient_node_targets.cat.codes,\n",
    "    cmap=\"jet\",\n",
    "    alpha=0.7,\n",
    ")\n",
    "plt.show()"
   ]
  },
  {
   "cell_type": "code",
   "execution_count": null,
   "metadata": {},
   "outputs": [],
   "source": []
  },
  {
   "cell_type": "code",
   "execution_count": 43,
   "metadata": {},
   "outputs": [
    {
     "name": "stdout",
     "output_type": "stream",
     "text": [
      "random vector counter is 26\n"
     ]
    }
   ],
   "source": [
    "# Create a random vector for words that are not in a dictionary\n",
    "apr_node_emb_dict = {}\n",
    "rand_vec_cnt = 0\n",
    "for index, row in apr_patient_square_node_id_data.iterrows():\n",
    "    try:\n",
    "        if index not in apr_node_emb_dict:\n",
    "            apr_node_emb_dict[index] = apr_cooc_model_patient.wv[index]\n",
    "        else:\n",
    "            print(f\"index: {index} is already in a dictionary!\")\n",
    "    except KeyError:\n",
    "        rand_vec_cnt += 1\n",
    "        apr_node_emb_dict[index] = np.random.normal(scale=0.6, size=128)\n",
    "\n",
    "print(f\"random vector counter is {rand_vec_cnt}\")"
   ]
  },
  {
   "cell_type": "code",
   "execution_count": null,
   "metadata": {},
   "outputs": [],
   "source": []
  },
  {
   "cell_type": "markdown",
   "metadata": {},
   "source": [
    "### Load the data"
   ]
  },
  {
   "cell_type": "code",
   "execution_count": 44,
   "metadata": {},
   "outputs": [],
   "source": [
    "import pandas as pd\n",
    "import numpy as np\n",
    "\n",
    "import stellargraph as sg\n",
    "from stellargraph.mapper import PaddedGraphGenerator\n",
    "from stellargraph.layer import GCNSupervisedGraphClassification\n",
    "from stellargraph import StellarGraph\n",
    "\n",
    "from stellargraph import datasets\n",
    "\n",
    "from sklearn import model_selection\n",
    "from IPython.display import display, HTML\n",
    "\n",
    "from tensorflow.keras import Model\n",
    "from tensorflow.keras.optimizers import Adam\n",
    "from tensorflow.keras.layers import Dense\n",
    "from tensorflow.keras.losses import binary_crossentropy\n",
    "from tensorflow.keras.callbacks import EarlyStopping\n",
    "import tensorflow as tf\n",
    "import matplotlib.pyplot as plt\n",
    "\n",
    "seed = 42\n",
    "numpy.random.seed(seed)\n",
    "tf.random.set_seed(seed)\n",
    "sg.random.set_seed(seed)"
   ]
  },
  {
   "cell_type": "markdown",
   "metadata": {},
   "source": [
    "#### Train apr"
   ]
  },
  {
   "cell_type": "code",
   "execution_count": 45,
   "metadata": {
    "scrolled": true
   },
   "outputs": [
    {
     "name": "stdout",
     "output_type": "stream",
     "text": [
      "graphs_0: 162, labels_0: 162\n",
      "graphs_1: 726, labels_1: 726\n",
      "graphs: 888, labels: 888\n"
     ]
    }
   ],
   "source": [
    "from collections import defaultdict\n",
    "\n",
    "def create_apr_graph_list(patient_cooc_dict, cooc_odd_scores, node_emb_dict, label):\n",
    "    \n",
    "    graphs = []\n",
    "    labels = []\n",
    "    \n",
    "    for key,row in patient_cooc_dict.items():\n",
    "     \n",
    "        if row:\n",
    "            source = []\n",
    "            target = []\n",
    "            # edge_weight = []\n",
    "            \n",
    "            node_feature = []\n",
    "            node_idx = []\n",
    "            for cooc in row:\n",
    "                source.extend([cooc[0], cooc[1]])\n",
    "                target.extend([cooc[1], cooc[0]])\n",
    "                # edge_weight.extend([cooc_odd_scores[cooc], cooc_odd_scores[cooc]])\n",
    "        \n",
    "            node_idx = list(set(source + target))\n",
    "    \n",
    "            # Create a dataframe of only nodes\n",
    "            square_node_data = pd.DataFrame(\n",
    "                index=node_idx)\n",
    "            \n",
    "#             square_node_data['feature'] = [1] * len(node_idx)\n",
    "            \n",
    "            # Create a dictionary for each column for a vector\n",
    "            node_features = defaultdict(list)\n",
    "            for node in node_idx:\n",
    "                for i, vec in enumerate(node_emb_dict[node]):\n",
    "                    node_features['w_' + str(i)].append(vec)\n",
    "        \n",
    "            # Add columns to a dataframe\n",
    "            for k, v in node_features.items():\n",
    "              \n",
    "                square_node_data[k] = v\n",
    "\n",
    "            square_edges = pd.DataFrame({ \n",
    "                \"source\": source, \n",
    "                \"target\": target, \n",
    "                # \"weight\":edge_weight\n",
    "            })\n",
    "        \n",
    "            square = StellarGraph({\"corner\": square_node_data}, {\"line\": square_edges})\n",
    "            graphs.append(square)\n",
    "            labels.append(label)\n",
    "            \n",
    "    return graphs, labels\n",
    "\n",
    "graphs = []\n",
    "labels = []\n",
    "\n",
    "# patient_weighted_node_emb_dict\n",
    "graph_0, label_0 = create_apr_graph_list(apr_patient_cooc_0, new_patient_cooc_odd_scores, apr_node_emb_dict, -1)\n",
    "graph_1, label_1 = create_apr_graph_list(apr_patient_cooc_1, new_patient_cooc_odd_scores, apr_node_emb_dict, 1)\n",
    "\n",
    "graphs.extend(graph_0)\n",
    "labels.extend(label_0)\n",
    "print(f\"graphs_0: {len(graphs)}, labels_0: {len(labels)}\")\n",
    "graphs.extend(graph_1)\n",
    "labels.extend(label_1)\n",
    "print(f\"graphs_1: {len(graph_1)}, labels_1: {len(label_1)}\")\n",
    "print(f\"graphs: {len(graphs)}, labels: {len(labels)}\")"
   ]
  },
  {
   "cell_type": "code",
   "execution_count": 46,
   "metadata": {},
   "outputs": [
    {
     "name": "stdout",
     "output_type": "stream",
     "text": [
      "44.0\n",
      "162\n"
     ]
    }
   ],
   "source": [
    "# prepare test and train datasets\n",
    "test_cnt = int(len(graphs)*0.1)/2\n",
    "print(test_cnt)\n",
    "\n",
    "pos_start = len(graph_0)\n",
    "print(pos_start)\n",
    "\n",
    "test_arr = []\n",
    "train_arr = []\n",
    "for i, v in enumerate(graphs):\n",
    "    # Take first items for neg set\n",
    "    if i < test_cnt:\n",
    "        test_arr.append(i)    \n",
    "    elif i > pos_start and i <= pos_start + test_cnt:\n",
    "        test_arr.append(i)    \n",
    "    else:\n",
    "        train_arr.append(i)"
   ]
  },
  {
   "cell_type": "code",
   "execution_count": 47,
   "metadata": {},
   "outputs": [],
   "source": [
    "import random\n",
    "seed = 42\n",
    "c = list(test_arr)\n",
    "random.Random(seed).shuffle(c)\n",
    "test_arr =  c"
   ]
  },
  {
   "cell_type": "code",
   "execution_count": 48,
   "metadata": {},
   "outputs": [],
   "source": [
    "c = list(train_arr)\n",
    "random.Random(seed).shuffle(c)\n",
    "train_arr =  c"
   ]
  },
  {
   "cell_type": "code",
   "execution_count": 49,
   "metadata": {},
   "outputs": [],
   "source": [
    "train_index = np.array(train_arr)\n",
    "test_index = np.array(test_arr)"
   ]
  },
  {
   "cell_type": "code",
   "execution_count": 50,
   "metadata": {
    "scrolled": true
   },
   "outputs": [
    {
     "name": "stdout",
     "output_type": "stream",
     "text": [
      "88\n",
      "[178 182  33  30  19  26 165 187  15 185  42   1 195 179 175  37 186  36\n",
      " 171 164 192  20 202   8  41 198  40 177  32 174  39 205  43 196  12  23\n",
      "  18 189 169 168   7  34 190   2  16  38 166  22 180  24   5   6 184 181\n",
      " 199   9 206  21 191 163  10 170 167   0 203 176 201 172  25 193 183  29\n",
      "  27 197 204   4 173 194  11 188  13  17  28  31  35   3  14 200]\n"
     ]
    }
   ],
   "source": [
    "print(len(test_index))\n",
    "print(test_index)"
   ]
  },
  {
   "cell_type": "code",
   "execution_count": 51,
   "metadata": {
    "scrolled": true
   },
   "outputs": [
    {
     "name": "stdout",
     "output_type": "stream",
     "text": [
      "800\n",
      "[820 462 661 578 735 619 446 737 538 861 583 732 876 425  68 879 265 466\n",
      " 428 149 486 132 703 509 288 289 577 319 327 464 108 822 818 317 632 700\n",
      " 598 324 719 767 309 532 587 819 417 368 390 279 489 404 122 300 762 471\n",
      " 824 479 744 838 389 238 626  80 690 273 260 268 136  53 445  94 551 118\n",
      " 754  57 826 262 857 627 490 539 365 353 447 663 408 716 320 870 522 444\n",
      " 791 595 301 728 777 335  52 442  72 835 734 485 582 611 413  54 675 473\n",
      " 510 352 693 261 492 725 741 350 714 102 671 565 860  77 525  67 610 154\n",
      "  61 286 775 695 569 678 665 250  86 814 351 236 670 812 638 789 519 568\n",
      " 399 502 225 592 457 813 505 677 608 602 329  49 237 649 360 474 623 808\n",
      " 207 497 128 684 755  60 590  83 325 394 469 381 615 226 783 129 666 766\n",
      " 800 837 752 276 694 571 212 540 790 749 564 481 344 491 278  84 421 228\n",
      " 463 217 272 337 511 281 844 240 697 403 452 739 315 866 705  75 378 480\n",
      " 850 162 220 727 763  89 100 723 287 864 400 589 280 881 483 398 630 736\n",
      " 339 664 573 883 531 555  93 235 545 560 150 518 465 636 776 423 443 804\n",
      " 798 852 537 145 159 544 576 488 259 527  87 130 621 395 535 356 612 815\n",
      " 252 382 453 770 243 594 295 606 874 603 303 720 707 239 575 794 297 604\n",
      " 534 512 107 657 409 415 460 456 625 682 354 713 396 484 218 141 383 285\n",
      " 761 349 868 554 264 601 722 549 647 773 385 438 591 507  58 873 781 548\n",
      " 618 563 416 530 768 613 292 142 495 708 160 718 267 672 146 157 328 709\n",
      " 283 643 816 224 859 556 298 745 135  56 299 134 127 209 503 644 296 374\n",
      " 269  96 515 832 437 499 271 887 274 245 674 676 845 119 831 562 528  62\n",
      " 367 120 441  82 786 516 375 616 449 370 314 807 126 222 414 110 620  45\n",
      "  66 757 688 494  91  70 696 795 346 645 412 439 771 797 839 151 397 232\n",
      " 227 123 513 468  98 726 827 112  97 427 796 371 506 429 542 836 422 501\n",
      " 401 242 448 366 514 758 710 233 277 213 581 266 680 729 347 153 363 829\n",
      " 624 376 406 546  48  81 472 559 667 241 418 431 877 290 656 210 597 454\n",
      " 430 843 221 750 355 377 386 424 805 584 405  64 681 817 214 379 543 570\n",
      " 105 294 208 648 433  78 392  79 622 523  85 348 579 596 712 756 524 834\n",
      " 740 332 387 885  73 248 683 641 865 310 391 635 246 586 858 380 553 854\n",
      " 487  46 792 256 702 782 306 580 659 652 258 330 869  59  95 642 541 121\n",
      " 343 793 660 275 748 231 855 651 823 342 155 435 500 106 144  99 566 508\n",
      " 689 450 529 840 140 282 504 673 336 572 223 687 307 699 373 331 614 669\n",
      " 426 784 113 785 104 116  51 856 323 655  65 434 772 318 341 211 550 617\n",
      " 536 717 760 407 293 715 779 521 628 769 257 650 574 219 216 633 114 585\n",
      " 131 830 778 334 103 333 402 459 733  63 588 419 701  44 631 640 253 470\n",
      " 801 862 799 724 393 152 607 270 600 764  47 811 249 533 828 886 848 803\n",
      " 833 161  55 654 345 629 567 747 478 482 109 698 849 851 730 244 156  92\n",
      " 137 593 609 229 788 825 496 685 526 686 357 639 863 340 880 359 234 557\n",
      " 746 493 599 759 305 410 668 304 111 362 498 411 871 322 101 420 312 658\n",
      " 743 364 476 561 255 882 634 263 810 711 117 751 787 361 774 302 451 467\n",
      " 254 461 738 552 884 841 147 867 125 384 321 765  90 115 809 284 679 458\n",
      " 721 731 388 653 124 475 215 637 558  88 358 706 440 455 143 477 138 878\n",
      " 432 308 247 853 436 872 802 251  50 372 691 547 313 517 875 806 753 821\n",
      " 291 662  71 704 605 326 311 139  74  76 520 692 133 646 846 780 148 842\n",
      " 230 316 338 369 847  69 158 742]\n"
     ]
    }
   ],
   "source": [
    "print(len(train_index))\n",
    "print(train_index)"
   ]
  },
  {
   "cell_type": "code",
   "execution_count": 52,
   "metadata": {},
   "outputs": [
    {
     "name": "stdout",
     "output_type": "stream",
     "text": [
      "[178, 182, 33, 30, 19, 26, 165, 187, 15, 185, 42, 1, 195, 179, 175, 37, 186, 36, 171, 164, 192, 20, 202, 8, 41, 198, 40, 177, 32, 174, 39, 205, 43, 196, 12, 23, 18, 189, 169, 168, 7, 34, 190, 2, 16, 38, 166, 22, 180, 24, 5, 6, 184, 181, 199, 9, 206, 21, 191, 163, 10, 170, 167, 0, 203, 176, 201, 172, 25, 193, 183, 29, 27, 197, 204, 4, 173, 194, 11, 188, 13, 17, 28, 31, 35, 3, 14, 200]\n"
     ]
    }
   ],
   "source": [
    "print(test_arr)"
   ]
  },
  {
   "cell_type": "code",
   "execution_count": 53,
   "metadata": {},
   "outputs": [],
   "source": [
    "# # shuffle the data\n",
    "# import random\n",
    "# seed = 42\n",
    "\n",
    "# c = list(zip(graphs, labels))\n",
    "# random.Random(seed).shuffle(c)\n",
    "\n",
    "# graphs, labels = zip(*c)"
   ]
  },
  {
   "cell_type": "code",
   "execution_count": 54,
   "metadata": {
    "scrolled": true
   },
   "outputs": [
    {
     "name": "stdout",
     "output_type": "stream",
     "text": [
      "[-1, -1, -1, -1, -1, -1, -1, -1, -1, -1, -1, -1, -1, -1, -1, -1, -1, -1, -1, -1, -1, -1, -1, -1, -1, -1, -1, -1, -1, -1, -1, -1, -1, -1, -1, -1, -1, -1, -1, -1, -1, -1, -1, -1, -1, -1, -1, -1, -1, -1, -1, -1, -1, -1, -1, -1, -1, -1, -1, -1, -1, -1, -1, -1, -1, -1, -1, -1, -1, -1, -1, -1, -1, -1, -1, -1, -1, -1, -1, -1, -1, -1, -1, -1, -1, -1, -1, -1, -1, -1, -1, -1, -1, -1, -1, -1, -1, -1, -1, -1, -1, -1, -1, -1, -1, -1, -1, -1, -1, -1, -1, -1, -1, -1, -1, -1, -1, -1, -1, -1, -1, -1, -1, -1, -1, -1, -1, -1, -1, -1, -1, -1, -1, -1, -1, -1, -1, -1, -1, -1, -1, -1, -1, -1, -1, -1, -1, -1, -1, -1, -1, -1, -1, -1, -1, -1, -1, -1, -1, -1, -1, -1, 1, 1, 1, 1, 1, 1, 1, 1, 1, 1, 1, 1, 1, 1, 1, 1, 1, 1, 1, 1, 1, 1, 1, 1, 1, 1, 1, 1, 1, 1, 1, 1, 1, 1, 1, 1, 1, 1, 1, 1, 1, 1, 1, 1, 1, 1, 1, 1, 1, 1, 1, 1, 1, 1, 1, 1, 1, 1, 1, 1, 1, 1, 1, 1, 1, 1, 1, 1, 1, 1, 1, 1, 1, 1, 1, 1, 1, 1, 1, 1, 1, 1, 1, 1, 1, 1, 1, 1, 1, 1, 1, 1, 1, 1, 1, 1, 1, 1, 1, 1, 1, 1, 1, 1, 1, 1, 1, 1, 1, 1, 1, 1, 1, 1, 1, 1, 1, 1, 1, 1, 1, 1, 1, 1, 1, 1, 1, 1, 1, 1, 1, 1, 1, 1, 1, 1, 1, 1, 1, 1, 1, 1, 1, 1, 1, 1, 1, 1, 1, 1, 1, 1, 1, 1, 1, 1, 1, 1, 1, 1, 1, 1, 1, 1, 1, 1, 1, 1, 1, 1, 1, 1, 1, 1, 1, 1, 1, 1, 1, 1, 1, 1, 1, 1, 1, 1, 1, 1, 1, 1, 1, 1, 1, 1, 1, 1, 1, 1, 1, 1, 1, 1, 1, 1, 1, 1, 1, 1, 1, 1, 1, 1, 1, 1, 1, 1, 1, 1, 1, 1, 1, 1, 1, 1, 1, 1, 1, 1, 1, 1, 1, 1, 1, 1, 1, 1, 1, 1, 1, 1, 1, 1, 1, 1, 1, 1, 1, 1, 1, 1, 1, 1, 1, 1, 1, 1, 1, 1, 1, 1, 1, 1, 1, 1, 1, 1, 1, 1, 1, 1, 1, 1, 1, 1, 1, 1, 1, 1, 1, 1, 1, 1, 1, 1, 1, 1, 1, 1, 1, 1, 1, 1, 1, 1, 1, 1, 1, 1, 1, 1, 1, 1, 1, 1, 1, 1, 1, 1, 1, 1, 1, 1, 1, 1, 1, 1, 1, 1, 1, 1, 1, 1, 1, 1, 1, 1, 1, 1, 1, 1, 1, 1, 1, 1, 1, 1, 1, 1, 1, 1, 1, 1, 1, 1, 1, 1, 1, 1, 1, 1, 1, 1, 1, 1, 1, 1, 1, 1, 1, 1, 1, 1, 1, 1, 1, 1, 1, 1, 1, 1, 1, 1, 1, 1, 1, 1, 1, 1, 1, 1, 1, 1, 1, 1, 1, 1, 1, 1, 1, 1, 1, 1, 1, 1, 1, 1, 1, 1, 1, 1, 1, 1, 1, 1, 1, 1, 1, 1, 1, 1, 1, 1, 1, 1, 1, 1, 1, 1, 1, 1, 1, 1, 1, 1, 1, 1, 1, 1, 1, 1, 1, 1, 1, 1, 1, 1, 1, 1, 1, 1, 1, 1, 1, 1, 1, 1, 1, 1, 1, 1, 1, 1, 1, 1, 1, 1, 1, 1, 1, 1, 1, 1, 1, 1, 1, 1, 1, 1, 1, 1, 1, 1, 1, 1, 1, 1, 1, 1, 1, 1, 1, 1, 1, 1, 1, 1, 1, 1, 1, 1, 1, 1, 1, 1, 1, 1, 1, 1, 1, 1, 1, 1, 1, 1, 1, 1, 1, 1, 1, 1, 1, 1, 1, 1, 1, 1, 1, 1, 1, 1, 1, 1, 1, 1, 1, 1, 1, 1, 1, 1, 1, 1, 1, 1, 1, 1, 1, 1, 1, 1, 1, 1, 1, 1, 1, 1, 1, 1, 1, 1, 1, 1, 1, 1, 1, 1, 1, 1, 1, 1, 1, 1, 1, 1, 1, 1, 1, 1, 1, 1, 1, 1, 1, 1, 1, 1, 1, 1, 1, 1, 1, 1, 1, 1, 1, 1, 1, 1, 1, 1, 1, 1, 1, 1, 1, 1, 1, 1, 1, 1, 1, 1, 1, 1, 1, 1, 1, 1, 1, 1, 1, 1, 1, 1, 1, 1, 1, 1, 1, 1, 1, 1, 1, 1, 1, 1, 1, 1, 1, 1, 1, 1, 1, 1, 1, 1, 1, 1, 1, 1, 1, 1, 1, 1, 1, 1, 1, 1, 1, 1, 1, 1, 1, 1, 1, 1, 1, 1, 1, 1, 1, 1, 1, 1, 1, 1, 1, 1, 1, 1, 1, 1, 1, 1, 1, 1, 1, 1, 1, 1, 1, 1, 1, 1, 1, 1, 1, 1, 1, 1, 1, 1, 1, 1, 1, 1, 1, 1, 1, 1, 1, 1, 1, 1, 1, 1, 1, 1, 1, 1, 1, 1, 1, 1, 1, 1, 1, 1, 1, 1, 1, 1, 1, 1, 1, 1]\n"
     ]
    }
   ],
   "source": [
    "print(labels)"
   ]
  },
  {
   "cell_type": "code",
   "execution_count": null,
   "metadata": {},
   "outputs": [],
   "source": []
  },
  {
   "cell_type": "code",
   "execution_count": null,
   "metadata": {},
   "outputs": [],
   "source": []
  },
  {
   "cell_type": "code",
   "execution_count": null,
   "metadata": {},
   "outputs": [],
   "source": []
  },
  {
   "cell_type": "code",
   "execution_count": null,
   "metadata": {},
   "outputs": [],
   "source": []
  },
  {
   "cell_type": "code",
   "execution_count": 55,
   "metadata": {},
   "outputs": [
    {
     "name": "stdout",
     "output_type": "stream",
     "text": [
      "StellarGraph: Undirected multigraph\n",
      " Nodes: 2, Edges: 2\n",
      "\n",
      " Node types:\n",
      "  corner: [2]\n",
      "    Features: float32 vector, length 128\n",
      "    Edge types: corner-line->corner\n",
      "\n",
      " Edge types:\n",
      "    corner-line->corner: [2]\n",
      "        Weights: all 1 (default)\n",
      "        Features: none\n"
     ]
    }
   ],
   "source": [
    "print(graphs[175].info())"
   ]
  },
  {
   "cell_type": "code",
   "execution_count": 56,
   "metadata": {},
   "outputs": [
    {
     "name": "stdout",
     "output_type": "stream",
     "text": [
      "[[ 5.2201110e-01 -2.1425939e-01  4.1020870e-01 ...  1.4891608e-01\n",
      "   7.8517452e-02 -2.8612506e-02]\n",
      " [ 2.8430611e-01 -6.2617398e-04  2.0008339e-01 ...  2.5643706e-01\n",
      "  -2.6143390e-01 -2.4221145e-01]\n",
      " [ 6.2655711e-01 -2.9424393e-01  3.3023968e-01 ... -1.0197723e-01\n",
      "  -3.6325184e-01  5.4612067e-02]\n",
      " ...\n",
      " [ 4.1393891e-01  6.3557774e-02  4.0713447e-01 ...  2.7183402e-01\n",
      "  -2.8425413e-01 -4.7376040e-01]\n",
      " [ 2.3252781e-01 -1.4250286e-01  6.7696214e-01 ...  1.7554334e-01\n",
      "  -2.8521396e-04  1.2042418e-01]\n",
      " [ 4.3194669e-01 -5.1061338e-01 -2.6931190e-01 ...  3.5182166e-01\n",
      "   4.6666276e-02 -3.3343941e-01]]\n",
      "128\n"
     ]
    }
   ],
   "source": [
    "print(graphs[0].node_features())\n",
    "print(len(graphs[0].node_features()[0]))"
   ]
  },
  {
   "cell_type": "code",
   "execution_count": 57,
   "metadata": {},
   "outputs": [
    {
     "name": "stdout",
     "output_type": "stream",
     "text": [
      "StellarGraph: Undirected multigraph\n",
      " Nodes: 11, Edges: 76\n",
      "\n",
      " Node types:\n",
      "  corner: [11]\n",
      "    Features: float32 vector, length 128\n",
      "    Edge types: corner-line->corner\n",
      "\n",
      " Edge types:\n",
      "    corner-line->corner: [76]\n",
      "        Weights: all 1 (default)\n",
      "        Features: none\n"
     ]
    }
   ],
   "source": [
    "print(graphs[100].info())"
   ]
  },
  {
   "cell_type": "code",
   "execution_count": null,
   "metadata": {},
   "outputs": [],
   "source": []
  },
  {
   "cell_type": "code",
   "execution_count": 58,
   "metadata": {},
   "outputs": [
    {
     "data": {
      "text/html": [
       "<div>\n",
       "<style scoped>\n",
       "    .dataframe tbody tr th:only-of-type {\n",
       "        vertical-align: middle;\n",
       "    }\n",
       "\n",
       "    .dataframe tbody tr th {\n",
       "        vertical-align: top;\n",
       "    }\n",
       "\n",
       "    .dataframe thead th {\n",
       "        text-align: right;\n",
       "    }\n",
       "</style>\n",
       "<table border=\"1\" class=\"dataframe\">\n",
       "  <thead>\n",
       "    <tr style=\"text-align: right;\">\n",
       "      <th></th>\n",
       "      <th>nodes</th>\n",
       "      <th>edges</th>\n",
       "    </tr>\n",
       "  </thead>\n",
       "  <tbody>\n",
       "    <tr>\n",
       "      <th>count</th>\n",
       "      <td>888.0</td>\n",
       "      <td>888.0</td>\n",
       "    </tr>\n",
       "    <tr>\n",
       "      <th>mean</th>\n",
       "      <td>5.6</td>\n",
       "      <td>22.4</td>\n",
       "    </tr>\n",
       "    <tr>\n",
       "      <th>std</th>\n",
       "      <td>3.7</td>\n",
       "      <td>33.8</td>\n",
       "    </tr>\n",
       "    <tr>\n",
       "      <th>min</th>\n",
       "      <td>2.0</td>\n",
       "      <td>2.0</td>\n",
       "    </tr>\n",
       "    <tr>\n",
       "      <th>25%</th>\n",
       "      <td>2.0</td>\n",
       "      <td>2.0</td>\n",
       "    </tr>\n",
       "    <tr>\n",
       "      <th>50%</th>\n",
       "      <td>5.0</td>\n",
       "      <td>8.0</td>\n",
       "    </tr>\n",
       "    <tr>\n",
       "      <th>75%</th>\n",
       "      <td>8.0</td>\n",
       "      <td>26.0</td>\n",
       "    </tr>\n",
       "    <tr>\n",
       "      <th>max</th>\n",
       "      <td>23.0</td>\n",
       "      <td>272.0</td>\n",
       "    </tr>\n",
       "  </tbody>\n",
       "</table>\n",
       "</div>"
      ],
      "text/plain": [
       "       nodes  edges\n",
       "count  888.0  888.0\n",
       "mean     5.6   22.4\n",
       "std      3.7   33.8\n",
       "min      2.0    2.0\n",
       "25%      2.0    2.0\n",
       "50%      5.0    8.0\n",
       "75%      8.0   26.0\n",
       "max     23.0  272.0"
      ]
     },
     "execution_count": 58,
     "metadata": {},
     "output_type": "execute_result"
    }
   ],
   "source": [
    "summary = pd.DataFrame(\n",
    "    [(g.number_of_nodes(), g.number_of_edges()) for g in graphs],\n",
    "    columns=[\"nodes\", \"edges\"],\n",
    ")\n",
    "summary.describe().round(1)"
   ]
  },
  {
   "cell_type": "code",
   "execution_count": 59,
   "metadata": {},
   "outputs": [],
   "source": [
    "graph_labels = pd.Series(labels)"
   ]
  },
  {
   "cell_type": "code",
   "execution_count": 60,
   "metadata": {},
   "outputs": [
    {
     "name": "stdout",
     "output_type": "stream",
     "text": [
      "0     -1\n",
      "1     -1\n",
      "2     -1\n",
      "3     -1\n",
      "4     -1\n",
      "      ..\n",
      "883    1\n",
      "884    1\n",
      "885    1\n",
      "886    1\n",
      "887    1\n",
      "Length: 888, dtype: int64\n"
     ]
    }
   ],
   "source": [
    "print(graph_labels)"
   ]
  },
  {
   "cell_type": "code",
   "execution_count": 61,
   "metadata": {},
   "outputs": [
    {
     "data": {
      "text/html": [
       "<div>\n",
       "<style scoped>\n",
       "    .dataframe tbody tr th:only-of-type {\n",
       "        vertical-align: middle;\n",
       "    }\n",
       "\n",
       "    .dataframe tbody tr th {\n",
       "        vertical-align: top;\n",
       "    }\n",
       "\n",
       "    .dataframe thead th {\n",
       "        text-align: right;\n",
       "    }\n",
       "</style>\n",
       "<table border=\"1\" class=\"dataframe\">\n",
       "  <thead>\n",
       "    <tr style=\"text-align: right;\">\n",
       "      <th></th>\n",
       "      <th>0</th>\n",
       "    </tr>\n",
       "  </thead>\n",
       "  <tbody>\n",
       "    <tr>\n",
       "      <th>1</th>\n",
       "      <td>726</td>\n",
       "    </tr>\n",
       "    <tr>\n",
       "      <th>-1</th>\n",
       "      <td>162</td>\n",
       "    </tr>\n",
       "  </tbody>\n",
       "</table>\n",
       "</div>"
      ],
      "text/plain": [
       "      0\n",
       " 1  726\n",
       "-1  162"
      ]
     },
     "execution_count": 61,
     "metadata": {},
     "output_type": "execute_result"
    }
   ],
   "source": [
    "graph_labels.value_counts().to_frame()"
   ]
  },
  {
   "cell_type": "code",
   "execution_count": 62,
   "metadata": {},
   "outputs": [],
   "source": [
    "graph_labels = pd.get_dummies(graph_labels, drop_first=True)"
   ]
  },
  {
   "cell_type": "code",
   "execution_count": 63,
   "metadata": {},
   "outputs": [
    {
     "name": "stdout",
     "output_type": "stream",
     "text": [
      "<class 'pandas.core.frame.DataFrame'>\n"
     ]
    }
   ],
   "source": [
    "print(type(graph_labels))"
   ]
  },
  {
   "cell_type": "code",
   "execution_count": 64,
   "metadata": {},
   "outputs": [
    {
     "data": {
      "text/html": [
       "<div>\n",
       "<style scoped>\n",
       "    .dataframe tbody tr th:only-of-type {\n",
       "        vertical-align: middle;\n",
       "    }\n",
       "\n",
       "    .dataframe tbody tr th {\n",
       "        vertical-align: top;\n",
       "    }\n",
       "\n",
       "    .dataframe thead th {\n",
       "        text-align: right;\n",
       "    }\n",
       "</style>\n",
       "<table border=\"1\" class=\"dataframe\">\n",
       "  <thead>\n",
       "    <tr style=\"text-align: right;\">\n",
       "      <th></th>\n",
       "      <th>1</th>\n",
       "    </tr>\n",
       "  </thead>\n",
       "  <tbody>\n",
       "    <tr>\n",
       "      <th>0</th>\n",
       "      <td>0</td>\n",
       "    </tr>\n",
       "    <tr>\n",
       "      <th>1</th>\n",
       "      <td>0</td>\n",
       "    </tr>\n",
       "    <tr>\n",
       "      <th>2</th>\n",
       "      <td>0</td>\n",
       "    </tr>\n",
       "    <tr>\n",
       "      <th>3</th>\n",
       "      <td>0</td>\n",
       "    </tr>\n",
       "    <tr>\n",
       "      <th>4</th>\n",
       "      <td>0</td>\n",
       "    </tr>\n",
       "    <tr>\n",
       "      <th>...</th>\n",
       "      <td>...</td>\n",
       "    </tr>\n",
       "    <tr>\n",
       "      <th>883</th>\n",
       "      <td>1</td>\n",
       "    </tr>\n",
       "    <tr>\n",
       "      <th>884</th>\n",
       "      <td>1</td>\n",
       "    </tr>\n",
       "    <tr>\n",
       "      <th>885</th>\n",
       "      <td>1</td>\n",
       "    </tr>\n",
       "    <tr>\n",
       "      <th>886</th>\n",
       "      <td>1</td>\n",
       "    </tr>\n",
       "    <tr>\n",
       "      <th>887</th>\n",
       "      <td>1</td>\n",
       "    </tr>\n",
       "  </tbody>\n",
       "</table>\n",
       "<p>888 rows × 1 columns</p>\n",
       "</div>"
      ],
      "text/plain": [
       "     1\n",
       "0    0\n",
       "1    0\n",
       "2    0\n",
       "3    0\n",
       "4    0\n",
       "..  ..\n",
       "883  1\n",
       "884  1\n",
       "885  1\n",
       "886  1\n",
       "887  1\n",
       "\n",
       "[888 rows x 1 columns]"
      ]
     },
     "execution_count": 64,
     "metadata": {},
     "output_type": "execute_result"
    }
   ],
   "source": [
    "graph_labels"
   ]
  },
  {
   "cell_type": "code",
   "execution_count": 65,
   "metadata": {},
   "outputs": [],
   "source": [
    "generator = PaddedGraphGenerator(graphs=graphs)"
   ]
  },
  {
   "cell_type": "code",
   "execution_count": 66,
   "metadata": {},
   "outputs": [],
   "source": [
    "def create_graph_classification_model(generator):\n",
    "    gc_model = GCNSupervisedGraphClassification(\n",
    "        layer_sizes=[64, 64],\n",
    "        activations=[\"relu\", \"relu\"],\n",
    "        generator=generator,\n",
    "        dropout=0.5,\n",
    "    )\n",
    "    x_inp, x_out = gc_model.in_out_tensors()\n",
    "    predictions = Dense(units=32, activation=\"relu\")(x_out)\n",
    "    predictions = Dense(units=16, activation=\"relu\")(predictions)\n",
    "    predictions = Dense(units=1, activation=\"sigmoid\")(predictions)\n",
    "\n",
    "    # Let's create the Keras model and prepare it for training\n",
    "    model = Model(inputs=x_inp, outputs=predictions)\n",
    "    model.compile(optimizer=Adam(0.005), loss=binary_crossentropy, metrics=[\"acc\"])\n",
    "\n",
    "    return model"
   ]
  },
  {
   "cell_type": "code",
   "execution_count": 67,
   "metadata": {},
   "outputs": [],
   "source": [
    "epochs = 200  # maximum number of training epochs\n",
    "# folds = 10  # the number of folds for k-fold cross validation\n",
    "# n_repeats = 5  # the number of repeats for repeated k-fold cross validation"
   ]
  },
  {
   "cell_type": "code",
   "execution_count": 68,
   "metadata": {},
   "outputs": [],
   "source": [
    "es = EarlyStopping(\n",
    "    monitor=\"val_loss\", min_delta=0, patience=25, restore_best_weights=True\n",
    ")"
   ]
  },
  {
   "cell_type": "code",
   "execution_count": null,
   "metadata": {},
   "outputs": [],
   "source": []
  },
  {
   "cell_type": "code",
   "execution_count": null,
   "metadata": {},
   "outputs": [],
   "source": []
  },
  {
   "cell_type": "code",
   "execution_count": null,
   "metadata": {},
   "outputs": [],
   "source": []
  },
  {
   "cell_type": "code",
   "execution_count": 69,
   "metadata": {},
   "outputs": [],
   "source": [
    "# To train in folds\n",
    "def train_fold(model, train_gen, test_gen, es, epochs):\n",
    "    history = model.fit(\n",
    "        train_gen, epochs=epochs, validation_data=test_gen, verbose=0, callbacks=[es],\n",
    "    )\n",
    "    # calculate performance on the test data and return along with history\n",
    "    test_metrics = model.evaluate(test_gen, verbose=0)\n",
    "    test_acc = test_metrics[model.metrics_names.index(\"acc\")]\n",
    "\n",
    "    return history, test_acc"
   ]
  },
  {
   "cell_type": "code",
   "execution_count": 70,
   "metadata": {},
   "outputs": [],
   "source": [
    "# To train in folds\n",
    "def get_generators(train_index, test_index, graph_labels, batch_size):\n",
    "    train_gen = generator.flow(\n",
    "        train_index, targets=graph_labels.iloc[train_index].values, weighted=True, batch_size=batch_size, shuffle=False, seed=42\n",
    "    )\n",
    "    test_gen = generator.flow(\n",
    "        test_index, targets=graph_labels.iloc[test_index].values, weighted=True, batch_size=batch_size, shuffle=False, seed=42\n",
    "    )\n",
    "\n",
    "    return train_gen, test_gen"
   ]
  },
  {
   "cell_type": "code",
   "execution_count": 71,
   "metadata": {
    "scrolled": true
   },
   "outputs": [],
   "source": [
    "# # To train in folds\n",
    "# test_accs = []\n",
    "\n",
    "# stratified_folds = model_selection.RepeatedStratifiedKFold(\n",
    "#     n_splits=folds, n_repeats=n_repeats\n",
    "# ).split(graph_labels, graph_labels)\n",
    "\n",
    "# for i, (train_index, test_index) in enumerate(stratified_folds):\n",
    "#     print(f\"Training and evaluating on fold {i+1} out of {folds * n_repeats}...\")\n",
    "#     train_gen, test_gen = get_generators(\n",
    "#         train_index, test_index, graph_labels, batch_size=30\n",
    "#     )\n",
    "\n",
    "#     model = create_graph_classification_model(generator)\n",
    "\n",
    "#     history, acc = train_fold(model, train_gen, test_gen, es, epochs)\n",
    "\n",
    "#     test_accs.append(acc)"
   ]
  },
  {
   "cell_type": "code",
   "execution_count": 72,
   "metadata": {
    "scrolled": true
   },
   "outputs": [
    {
     "name": "stdout",
     "output_type": "stream",
     "text": [
      "Training and evaluating on fold 1...\n",
      "Training and evaluating on fold 2...\n",
      "Training and evaluating on fold 3...\n",
      "Training and evaluating on fold 4...\n",
      "Training and evaluating on fold 5...\n",
      "Training and evaluating on fold 6...\n",
      "Training and evaluating on fold 7...\n",
      "Training and evaluating on fold 8...\n",
      "Training and evaluating on fold 9...\n",
      "Training and evaluating on fold 10...\n",
      "Training and evaluating on fold 11...\n",
      "Training and evaluating on fold 12...\n",
      "Training and evaluating on fold 13...\n",
      "Training and evaluating on fold 14...\n",
      "Training and evaluating on fold 15...\n",
      "Training and evaluating on fold 16...\n",
      "Training and evaluating on fold 17...\n",
      "Training and evaluating on fold 18...\n",
      "Training and evaluating on fold 19...\n",
      "Training and evaluating on fold 20...\n",
      "Training and evaluating on fold 21...\n",
      "Training and evaluating on fold 22...\n",
      "Training and evaluating on fold 23...\n",
      "Training and evaluating on fold 24...\n",
      "Training and evaluating on fold 25...\n",
      "Training and evaluating on fold 26...\n",
      "Training and evaluating on fold 27...\n",
      "Training and evaluating on fold 28...\n",
      "Training and evaluating on fold 29...\n",
      "Training and evaluating on fold 30...\n",
      "Training and evaluating on fold 31...\n",
      "Training and evaluating on fold 32...\n",
      "Training and evaluating on fold 33...\n",
      "Training and evaluating on fold 34...\n",
      "Training and evaluating on fold 35...\n",
      "Training and evaluating on fold 36...\n",
      "Training and evaluating on fold 37...\n",
      "Training and evaluating on fold 38...\n",
      "Training and evaluating on fold 39...\n",
      "Training and evaluating on fold 40...\n",
      "Training and evaluating on fold 41...\n",
      "Training and evaluating on fold 42...\n",
      "Training and evaluating on fold 43...\n",
      "Training and evaluating on fold 44...\n",
      "Training and evaluating on fold 45...\n",
      "Training and evaluating on fold 46...\n",
      "Training and evaluating on fold 47...\n",
      "Training and evaluating on fold 48...\n",
      "Training and evaluating on fold 49...\n",
      "Training and evaluating on fold 50...\n"
     ]
    }
   ],
   "source": [
    "# To train in folds\n",
    "test_accs = []\n",
    "\n",
    "# stratified_folds = model_selection.RepeatedStratifiedKFold(\n",
    "#     n_splits=folds, n_repeats=n_repeats\n",
    "# ).split(graph_labels, graph_labels)\n",
    "\n",
    "# for i, (train_index, test_index) in enumerate(stratified_folds):\n",
    "for i in range(50):\n",
    "    print(f\"Training and evaluating on fold {i+1}...\")\n",
    "    \n",
    "    train_gen, test_gen = get_generators(\n",
    "        train_index, test_index, graph_labels, batch_size=30\n",
    "    )\n",
    "\n",
    "    model = create_graph_classification_model(generator)\n",
    "\n",
    "    history, acc = train_fold(model, train_gen, test_gen, es, epochs)\n",
    "\n",
    "    test_accs.append(acc)"
   ]
  },
  {
   "cell_type": "code",
   "execution_count": null,
   "metadata": {},
   "outputs": [],
   "source": []
  },
  {
   "cell_type": "code",
   "execution_count": 73,
   "metadata": {},
   "outputs": [
    {
     "name": "stdout",
     "output_type": "stream",
     "text": [
      "Accuracy over all folds mean: 70.0% and std: 7.7%\n"
     ]
    }
   ],
   "source": [
    "# 1: Accuracy over all folds mean: 76.0% and std: 1.8%\n",
    "# 2: Accuracy over all folds mean: 75.7% and std: 4.7%\n",
    "# 3: Accuracy over all folds mean: 73.8% and std: 1.9%\n",
    "# 4: Accuracy over all folds mean: 76.2% and std: 4.2%\n",
    "# 5: Accuracy over all folds mean: 70.3% and std: 5.3%\n",
    "# 6: Accuracy over all folds mean: 74.0% and std: 5.2%\n",
    "\n",
    "#---------- After setting seed\n",
    "# 1: Accuracy over all folds mean: 73.5% and std: 6.7%\n",
    "# 2: Accuracy over all folds mean: 73.3% and std: 3.9%\n",
    "# 3: Accuracy over all folds mean: 74.7% and std: 3.9%\n",
    "# 4: Accuracy over all folds mean: 74.4% and std: 2.0%\n",
    "# 5: Accuracy over all folds mean: 74.2% and std: 1.6%\n",
    "# 6: Accuracy over all folds mean: 74.3% and std: 2.4%\n",
    "\n",
    "# Sepsis\n",
    "# 1: Accuracy over all folds mean: 76.3% and std: 2.4%\n",
    "# 2: Accuracy over all folds mean: 78.8% and std: 2.3%\n",
    "print(\n",
    "    f\"Accuracy over all folds mean: {np.mean(test_accs)*100:.3}% and std: {np.std(test_accs)*100:.2}%\"\n",
    ")"
   ]
  },
  {
   "cell_type": "code",
   "execution_count": 74,
   "metadata": {},
   "outputs": [
    {
     "data": {
      "text/plain": [
       "Text(0, 0.5, 'Count')"
      ]
     },
     "execution_count": 74,
     "metadata": {},
     "output_type": "execute_result"
    },
    {
     "data": {
      "image/png": "[encoded data removed]",
      "text/plain": [
       "<Figure size 576x432 with 1 Axes>"
      ]
     },
     "metadata": {
      "needs_background": "light"
     },
     "output_type": "display_data"
    }
   ],
   "source": [
    "plt.figure(figsize=(8, 6))\n",
    "plt.hist(test_accs)\n",
    "plt.xlabel(\"Accuracy\")\n",
    "plt.ylabel(\"Count\")"
   ]
  },
  {
   "cell_type": "code",
   "execution_count": null,
   "metadata": {},
   "outputs": [],
   "source": []
  },
  {
   "cell_type": "code",
   "execution_count": 73,
   "metadata": {},
   "outputs": [
    {
     "name": "stdout",
     "output_type": "stream",
     "text": [
      "Accuracy over all folds mean: 70.8% and std: 6.5%\n"
     ]
    }
   ],
   "source": [
    "# 2nd try\n",
    "print(\n",
    "    f\"Accuracy over all folds mean: {np.mean(test_accs)*100:.3}% and std: {np.std(test_accs)*100:.2}%\"\n",
    ")"
   ]
  },
  {
   "cell_type": "code",
   "execution_count": 74,
   "metadata": {},
   "outputs": [
    {
     "data": {
      "text/plain": [
       "Text(0, 0.5, 'Count')"
      ]
     },
     "execution_count": 74,
     "metadata": {},
     "output_type": "execute_result"
    },
    {
     "data": {
      "image/png": "[encoded data removed]",
      "text/plain": [
       "<Figure size 576x432 with 1 Axes>"
      ]
     },
     "metadata": {
      "needs_background": "light"
     },
     "output_type": "display_data"
    }
   ],
   "source": [
    "plt.figure(figsize=(8, 6))\n",
    "plt.hist(test_accs)\n",
    "plt.xlabel(\"Accuracy\")\n",
    "plt.ylabel(\"Count\")"
   ]
  },
  {
   "cell_type": "code",
   "execution_count": null,
   "metadata": {},
   "outputs": [],
   "source": []
  },
  {
   "cell_type": "code",
   "execution_count": null,
   "metadata": {},
   "outputs": [],
   "source": []
  },
  {
   "cell_type": "code",
   "execution_count": null,
   "metadata": {},
   "outputs": [],
   "source": []
  },
  {
   "cell_type": "code",
   "execution_count": null,
   "metadata": {},
   "outputs": [],
   "source": [
    "# # # shuffle the data\n",
    "# import random\n",
    "\n",
    "# c = list(zip(graphs, labels))\n",
    "# random.shuffle(c)\n",
    "\n",
    "# graphs, labels = zip(*c)"
   ]
  },
  {
   "cell_type": "code",
   "execution_count": null,
   "metadata": {
    "scrolled": true
   },
   "outputs": [],
   "source": [
    "# stratified_folds = model_selection.RepeatedStratifiedKFold(\n",
    "#     n_splits=10, n_repeats=5\n",
    "# ).split(graph_labels, graph_labels)\n",
    "\n",
    "# for i, (train_index, test_index) in enumerate(stratified_folds):\n",
    "#     print(f\"\\ntrain_index: \\n{train_index}\\ntest_index: \\n{test_index}\\n\")\n",
    "#     break\n",
    "# print(f\"train: {len(train_index)}, test: {len(test_index)}\")"
   ]
  },
  {
   "cell_type": "code",
   "execution_count": null,
   "metadata": {
    "scrolled": true
   },
   "outputs": [],
   "source": [
    "type(graph_labels.iloc[train_index].values)"
   ]
  },
  {
   "cell_type": "code",
   "execution_count": null,
   "metadata": {
    "scrolled": true
   },
   "outputs": [],
   "source": [
    "graph_labels.iloc[test_index].values"
   ]
  },
  {
   "cell_type": "code",
   "execution_count": null,
   "metadata": {},
   "outputs": [],
   "source": [
    "train_index.shape"
   ]
  },
  {
   "cell_type": "code",
   "execution_count": 69,
   "metadata": {},
   "outputs": [],
   "source": [
    "train_gen = generator.flow(\n",
    "        train_index, targets=graph_labels.iloc[train_index].values, batch_size=40, shuffle=False, seed=42)\n",
    "test_gen = generator.flow(\n",
    "    test_index, targets=graph_labels.iloc[test_index].values, batch_size=40, shuffle=False, seed=42)"
   ]
  },
  {
   "cell_type": "code",
   "execution_count": 70,
   "metadata": {
    "scrolled": true
   },
   "outputs": [
    {
     "name": "stdout",
     "output_type": "stream",
     "text": [
      "Epoch 1/200\n",
      "18/18 [==============================] - 1s 44ms/step - loss: 0.4293 - acc: 0.8505 - val_loss: 0.7430 - val_acc: 0.5000\n",
      "Epoch 2/200\n",
      "18/18 [==============================] - 1s 35ms/step - loss: 0.3705 - acc: 0.8505 - val_loss: 0.6379 - val_acc: 0.5000\n",
      "Epoch 3/200\n",
      "18/18 [==============================] - 0s 21ms/step - loss: 0.3740 - acc: 0.8505 - val_loss: 0.6172 - val_acc: 0.5000\n",
      "Epoch 4/200\n",
      "18/18 [==============================] - 0s 24ms/step - loss: 0.3549 - acc: 0.8505 - val_loss: 0.7760 - val_acc: 0.5000\n",
      "Epoch 5/200\n",
      "18/18 [==============================] - 1s 30ms/step - loss: 0.3700 - acc: 0.8491 - val_loss: 0.6297 - val_acc: 0.5000\n",
      "Epoch 6/200\n",
      "18/18 [==============================] - 0s 20ms/step - loss: 0.3659 - acc: 0.8505 - val_loss: 0.6561 - val_acc: 0.5385\n",
      "Epoch 7/200\n",
      "18/18 [==============================] - 1s 40ms/step - loss: 0.3603 - acc: 0.8519 - val_loss: 0.8292 - val_acc: 0.5641\n",
      "Epoch 8/200\n",
      "18/18 [==============================] - 1s 31ms/step - loss: 0.3590 - acc: 0.8604 - val_loss: 0.7850 - val_acc: 0.6282\n",
      "Epoch 9/200\n",
      "18/18 [==============================] - 0s 23ms/step - loss: 0.3570 - acc: 0.8505 - val_loss: 0.7408 - val_acc: 0.5641\n",
      "Epoch 10/200\n",
      "18/18 [==============================] - 0s 24ms/step - loss: 0.3686 - acc: 0.8505 - val_loss: 0.7000 - val_acc: 0.5000\n",
      "Epoch 11/200\n",
      "18/18 [==============================] - 0s 23ms/step - loss: 0.3386 - acc: 0.8561 - val_loss: 0.6438 - val_acc: 0.6923\n",
      "Epoch 12/200\n",
      "18/18 [==============================] - 0s 22ms/step - loss: 0.3462 - acc: 0.8561 - val_loss: 0.6657 - val_acc: 0.6667\n",
      "Epoch 13/200\n",
      "18/18 [==============================] - 1s 30ms/step - loss: 0.3443 - acc: 0.8604 - val_loss: 0.6895 - val_acc: 0.6667\n",
      "Epoch 14/200\n",
      "18/18 [==============================] - 1s 30ms/step - loss: 0.3406 - acc: 0.8632 - val_loss: 0.6566 - val_acc: 0.7179\n",
      "Epoch 15/200\n",
      "18/18 [==============================] - 0s 27ms/step - loss: 0.3373 - acc: 0.8646 - val_loss: 0.6819 - val_acc: 0.6795\n",
      "Epoch 16/200\n",
      "18/18 [==============================] - 0s 27ms/step - loss: 0.3425 - acc: 0.8646 - val_loss: 0.6510 - val_acc: 0.7051\n",
      "Epoch 17/200\n",
      "18/18 [==============================] - 1s 31ms/step - loss: 0.3385 - acc: 0.8632 - val_loss: 0.5459 - val_acc: 0.7564\n",
      "Epoch 18/200\n",
      "18/18 [==============================] - 0s 26ms/step - loss: 0.3460 - acc: 0.8702 - val_loss: 0.7308 - val_acc: 0.6026\n",
      "Epoch 19/200\n",
      "18/18 [==============================] - 1s 33ms/step - loss: 0.3508 - acc: 0.8646 - val_loss: 0.6276 - val_acc: 0.7051\n",
      "Epoch 20/200\n",
      "18/18 [==============================] - 1s 28ms/step - loss: 0.3321 - acc: 0.8801 - val_loss: 0.5781 - val_acc: 0.7308\n",
      "Epoch 21/200\n",
      "18/18 [==============================] - 0s 26ms/step - loss: 0.3406 - acc: 0.8717 - val_loss: 0.6063 - val_acc: 0.7051\n",
      "Epoch 22/200\n",
      "18/18 [==============================] - 1s 29ms/step - loss: 0.3488 - acc: 0.8632 - val_loss: 0.6950 - val_acc: 0.6410\n",
      "Epoch 23/200\n",
      "18/18 [==============================] - 1s 30ms/step - loss: 0.3445 - acc: 0.8590 - val_loss: 0.6725 - val_acc: 0.6923\n",
      "Epoch 24/200\n",
      "18/18 [==============================] - 0s 22ms/step - loss: 0.3410 - acc: 0.8759 - val_loss: 0.6043 - val_acc: 0.6923\n",
      "Epoch 25/200\n",
      "18/18 [==============================] - 0s 27ms/step - loss: 0.3349 - acc: 0.8688 - val_loss: 0.6131 - val_acc: 0.6795\n",
      "Epoch 26/200\n",
      "18/18 [==============================] - 0s 23ms/step - loss: 0.3303 - acc: 0.8674 - val_loss: 0.6933 - val_acc: 0.6667\n",
      "Epoch 27/200\n",
      "18/18 [==============================] - 0s 27ms/step - loss: 0.3426 - acc: 0.8632 - val_loss: 0.7584 - val_acc: 0.5513\n",
      "Epoch 28/200\n",
      "18/18 [==============================] - 1s 37ms/step - loss: 0.3384 - acc: 0.8731 - val_loss: 0.5967 - val_acc: 0.6923\n",
      "Epoch 29/200\n",
      "18/18 [==============================] - 1s 36ms/step - loss: 0.3207 - acc: 0.8858 - val_loss: 0.6224 - val_acc: 0.6923\n",
      "Epoch 30/200\n",
      "18/18 [==============================] - 1s 29ms/step - loss: 0.3122 - acc: 0.8759 - val_loss: 0.7837 - val_acc: 0.7051\n",
      "Epoch 31/200\n",
      "18/18 [==============================] - 0s 26ms/step - loss: 0.3352 - acc: 0.8731 - val_loss: 0.6388 - val_acc: 0.6795\n",
      "Epoch 32/200\n",
      "18/18 [==============================] - 1s 28ms/step - loss: 0.3261 - acc: 0.8717 - val_loss: 0.5779 - val_acc: 0.7051\n",
      "Epoch 33/200\n",
      "18/18 [==============================] - 1s 34ms/step - loss: 0.3100 - acc: 0.8829 - val_loss: 0.6317 - val_acc: 0.7051\n",
      "Epoch 34/200\n",
      "18/18 [==============================] - 0s 26ms/step - loss: 0.3243 - acc: 0.8801 - val_loss: 0.7673 - val_acc: 0.6026\n",
      "Epoch 35/200\n",
      "18/18 [==============================] - 0s 22ms/step - loss: 0.3268 - acc: 0.8829 - val_loss: 0.6170 - val_acc: 0.7051\n",
      "Epoch 36/200\n",
      "18/18 [==============================] - 0s 20ms/step - loss: 0.3243 - acc: 0.8717 - val_loss: 0.5134 - val_acc: 0.7692\n",
      "Epoch 37/200\n",
      "18/18 [==============================] - 0s 27ms/step - loss: 0.3302 - acc: 0.8787 - val_loss: 0.5426 - val_acc: 0.7564\n",
      "Epoch 38/200\n",
      "18/18 [==============================] - 1s 35ms/step - loss: 0.3153 - acc: 0.8829 - val_loss: 0.6044 - val_acc: 0.7436\n",
      "Epoch 39/200\n",
      "18/18 [==============================] - 1s 43ms/step - loss: 0.3100 - acc: 0.8773 - val_loss: 0.6532 - val_acc: 0.6923\n",
      "Epoch 40/200\n",
      "18/18 [==============================] - 1s 34ms/step - loss: 0.3026 - acc: 0.8801 - val_loss: 0.5991 - val_acc: 0.7051\n",
      "Epoch 41/200\n",
      "18/18 [==============================] - 1s 34ms/step - loss: 0.3088 - acc: 0.8858 - val_loss: 0.5188 - val_acc: 0.7436\n",
      "Epoch 42/200\n",
      "18/18 [==============================] - 1s 38ms/step - loss: 0.3178 - acc: 0.8914 - val_loss: 0.4897 - val_acc: 0.7564\n",
      "Epoch 43/200\n",
      "18/18 [==============================] - 1s 35ms/step - loss: 0.3253 - acc: 0.8731 - val_loss: 0.7266 - val_acc: 0.5897\n",
      "Epoch 44/200\n",
      "18/18 [==============================] - 0s 27ms/step - loss: 0.3119 - acc: 0.8773 - val_loss: 0.6082 - val_acc: 0.7436\n",
      "Epoch 45/200\n",
      "18/18 [==============================] - 0s 28ms/step - loss: 0.3025 - acc: 0.8843 - val_loss: 0.5529 - val_acc: 0.7564\n",
      "Epoch 46/200\n",
      "18/18 [==============================] - 1s 34ms/step - loss: 0.3015 - acc: 0.8843 - val_loss: 0.5317 - val_acc: 0.7564\n",
      "Epoch 47/200\n",
      "18/18 [==============================] - 1s 35ms/step - loss: 0.3152 - acc: 0.8914 - val_loss: 0.6561 - val_acc: 0.7051\n",
      "Epoch 48/200\n",
      "18/18 [==============================] - 1s 30ms/step - loss: 0.2942 - acc: 0.8843 - val_loss: 0.6225 - val_acc: 0.6923\n",
      "Epoch 49/200\n",
      "18/18 [==============================] - 1s 30ms/step - loss: 0.3024 - acc: 0.8942 - val_loss: 0.5832 - val_acc: 0.7308\n",
      "Epoch 50/200\n",
      "18/18 [==============================] - 1s 29ms/step - loss: 0.3000 - acc: 0.8829 - val_loss: 0.6019 - val_acc: 0.7051\n",
      "Epoch 51/200\n",
      "18/18 [==============================] - 0s 28ms/step - loss: 0.2949 - acc: 0.8858 - val_loss: 0.5607 - val_acc: 0.7308\n",
      "Epoch 52/200\n",
      "18/18 [==============================] - 1s 34ms/step - loss: 0.3416 - acc: 0.8505 - val_loss: 0.8624 - val_acc: 0.5000\n",
      "Epoch 53/200\n",
      "18/18 [==============================] - 0s 26ms/step - loss: 0.3271 - acc: 0.8660 - val_loss: 0.6270 - val_acc: 0.6795\n",
      "Epoch 54/200\n",
      "18/18 [==============================] - 1s 43ms/step - loss: 0.3036 - acc: 0.8872 - val_loss: 0.5819 - val_acc: 0.7051\n",
      "Epoch 55/200\n",
      "18/18 [==============================] - 1s 29ms/step - loss: 0.2938 - acc: 0.8858 - val_loss: 0.6351 - val_acc: 0.7308\n",
      "Epoch 56/200\n",
      "18/18 [==============================] - 1s 36ms/step - loss: 0.2981 - acc: 0.8858 - val_loss: 0.6694 - val_acc: 0.6795\n",
      "Epoch 57/200\n",
      "18/18 [==============================] - 0s 26ms/step - loss: 0.3055 - acc: 0.8815 - val_loss: 0.5471 - val_acc: 0.7692\n",
      "Epoch 58/200\n",
      "18/18 [==============================] - 1s 35ms/step - loss: 0.2827 - acc: 0.8970 - val_loss: 0.7172 - val_acc: 0.6923\n",
      "Epoch 59/200\n",
      "18/18 [==============================] - 1s 31ms/step - loss: 0.3069 - acc: 0.8815 - val_loss: 0.5241 - val_acc: 0.7564\n",
      "Epoch 60/200\n",
      "18/18 [==============================] - 1s 37ms/step - loss: 0.3074 - acc: 0.8872 - val_loss: 0.5214 - val_acc: 0.7564\n",
      "Epoch 61/200\n",
      "18/18 [==============================] - 1s 37ms/step - loss: 0.3032 - acc: 0.8872 - val_loss: 0.5803 - val_acc: 0.7051\n",
      "Epoch 62/200\n",
      "18/18 [==============================] - 1s 45ms/step - loss: 0.3112 - acc: 0.8773 - val_loss: 0.5314 - val_acc: 0.7308\n",
      "Epoch 63/200\n",
      "18/18 [==============================] - 1s 29ms/step - loss: 0.2900 - acc: 0.8900 - val_loss: 0.5969 - val_acc: 0.7308\n",
      "Epoch 64/200\n",
      "18/18 [==============================] - 0s 27ms/step - loss: 0.2753 - acc: 0.8914 - val_loss: 0.7361 - val_acc: 0.6538\n",
      "Epoch 65/200\n",
      "18/18 [==============================] - 1s 31ms/step - loss: 0.2864 - acc: 0.8970 - val_loss: 0.5499 - val_acc: 0.7564\n",
      "Epoch 66/200\n",
      "18/18 [==============================] - 1s 32ms/step - loss: 0.3028 - acc: 0.8858 - val_loss: 0.5346 - val_acc: 0.7308\n",
      "Epoch 67/200\n",
      "18/18 [==============================] - ETA: 0s - loss: 0.2765 - acc: 0.887 - 1s 29ms/step - loss: 0.2810 - acc: 0.8886 - val_loss: 0.5877 - val_acc: 0.7308\n"
     ]
    }
   ],
   "source": [
    "model = create_graph_classification_model(generator)\n",
    "\n",
    "history = model.fit(\n",
    "        train_gen, epochs=200, validation_data=test_gen, verbose=1, callbacks=[es])"
   ]
  },
  {
   "cell_type": "code",
   "execution_count": 71,
   "metadata": {},
   "outputs": [
    {
     "name": "stdout",
     "output_type": "stream",
     "text": [
      "2/2 [==============================] - 0s 13ms/step - loss: 0.4897 - acc: 0.7564\n"
     ]
    }
   ],
   "source": [
    "# calculate performance on the test data and return along with history\n",
    "# Node features all 1, edge features all 1\n",
    "test_metrics = model.evaluate(test_gen, verbose=1)\n",
    "test_acc = test_metrics[model.metrics_names.index(\"acc\")]"
   ]
  },
  {
   "cell_type": "code",
   "execution_count": 72,
   "metadata": {},
   "outputs": [
    {
     "name": "stdout",
     "output_type": "stream",
     "text": [
      "[0.48970162868499756, 0.7564102411270142]\n",
      "0.7564102411270142\n"
     ]
    }
   ],
   "source": [
    "# not_weighted\n",
    "print(test_metrics)\n",
    "#test loss, test acc: [0.5977194905281067, 0.6794871687889099]\n",
    "# 2nd try: [0.6099531650543213, 0.7435897588729858]\n",
    "# 3: [0.6134859919548035, 0.692307710647583]\n",
    "# 4: [0.5708641409873962, 0.7564102411270142]\n",
    "print(test_acc)"
   ]
  },
  {
   "cell_type": "code",
   "execution_count": null,
   "metadata": {
    "scrolled": true
   },
   "outputs": [],
   "source": [
    "print(\"Generate predictions for samples\")\n",
    "predictions = model.predict(test_gen, verbose=0)\n",
    "print(\"predictions shape:\", predictions.shape)\n",
    "# predictions shape: (79, 1)\n",
    "print(predictions)"
   ]
  },
  {
   "cell_type": "markdown",
   "metadata": {},
   "source": [
    "[[0.9633641 ]\n",
    " [0.9572478 ]\n",
    " [0.92709166]\n",
    " [0.67149305]\n",
    " [0.75392646]\n",
    " [0.80909836]\n",
    " [0.8878052 ]\n",
    " [0.35882965]\n",
    " [0.8740735 ]\n",
    " [0.9488548 ]\n",
    " [0.71857995]\n",
    " [0.8417202 ]\n",
    " [0.77317935]\n",
    " [0.97507536]\n",
    " [0.7930052 ]\n",
    " [0.3096424 ]\n",
    " [0.81946105]\n",
    " [0.3233545 ]\n",
    " [0.75175   ]\n",
    " [0.79594046]\n",
    " [0.2881279 ]\n",
    " [0.42757368]\n",
    " [0.35783005]\n",
    " [0.53080255]\n",
    " [0.42272243]\n",
    " [0.8731016 ]\n",
    " [0.2651747 ]\n",
    " [0.9176288 ]\n",
    " [0.8412247 ]\n",
    " [0.84611094]\n",
    " [0.899879  ]\n",
    " [0.4730718 ]\n",
    " [0.6183011 ]\n",
    " [0.8530265 ]\n",
    " [0.38916534]\n",
    " [0.41842264]\n",
    " [0.90864706]\n",
    " [0.82059276]\n",
    " [0.89827585]\n",
    " [0.31872994]\n",
    " [0.9104121 ]\n",
    " [0.8878981 ]\n",
    " [0.4407365 ]\n",
    " [0.6909543 ]\n",
    " [0.75392646]\n",
    " [0.88234955]\n",
    " [0.75392646]\n",
    " [0.75392646]\n",
    " [0.2803172 ]\n",
    " [0.8783453 ]\n",
    " [0.6334169 ]\n",
    " [0.8953688 ]\n",
    " [0.9676844 ]\n",
    " [0.46171212]\n",
    " [0.42416874]\n",
    " [0.7234482 ]\n",
    " [0.93954104]\n",
    " [0.7739153 ]\n",
    " [0.37732255]\n",
    " [0.7243462 ]\n",
    " [0.975207  ]\n",
    " [0.39652586]\n",
    " [0.6909691 ]\n",
    " [0.75392646]\n",
    " [0.3582555 ]\n",
    " [0.75392646]\n",
    " [0.94787574]\n",
    " [0.47389334]\n",
    " [0.9733413 ]\n",
    " [0.75392646]\n",
    " [0.931447  ]\n",
    " [0.53550804]\n",
    " [0.31291372]\n",
    " [0.3546905 ]\n",
    " [0.75392646]\n",
    " [0.75392646]\n",
    " [0.3483727 ]\n",
    " [0.7502146 ]]"
   ]
  },
  {
   "cell_type": "code",
   "execution_count": null,
   "metadata": {
    "scrolled": true
   },
   "outputs": [],
   "source": [
    "print(test_gen.targets)"
   ]
  },
  {
   "cell_type": "code",
   "execution_count": null,
   "metadata": {},
   "outputs": [],
   "source": []
  },
  {
   "cell_type": "code",
   "execution_count": null,
   "metadata": {},
   "outputs": [],
   "source": []
  },
  {
   "cell_type": "code",
   "execution_count": null,
   "metadata": {
    "scrolled": true
   },
   "outputs": [],
   "source": [
    "print(temp_test)"
   ]
  },
  {
   "cell_type": "code",
   "execution_count": null,
   "metadata": {},
   "outputs": [],
   "source": [
    "temp_test = np.array(test_gen.targets)"
   ]
  },
  {
   "cell_type": "code",
   "execution_count": null,
   "metadata": {
    "scrolled": true
   },
   "outputs": [],
   "source": [
    "print(y_pred)"
   ]
  },
  {
   "cell_type": "code",
   "execution_count": null,
   "metadata": {},
   "outputs": [],
   "source": [
    "from sklearn.metrics import classification_report\n",
    "import numpy as np\n",
    "\n",
    "y_test = np.argmax(temp_test, axis=1) # Convert one-hot to index\n",
    "y_pred = model.predict(test_gen)\n",
    "\n",
    "print(classification_report(y_test, y_pred))"
   ]
  },
  {
   "cell_type": "code",
   "execution_count": null,
   "metadata": {},
   "outputs": [],
   "source": []
  }
 ],
 "metadata": {
  "kernelspec": {
   "display_name": "Python 3",
   "language": "python",
   "name": "python3"
  },
  "language_info": {
   "codemirror_mode": {
    "name": "ipython",
    "version": 3
   },
   "file_extension": ".py",
   "mimetype": "text/x-python",
   "name": "python",
   "nbconvert_exporter": "python",
   "pygments_lexer": "ipython3",
   "version": "3.7.6"
  }
 },
 "nbformat": 4,
 "nbformat_minor": 4
}
