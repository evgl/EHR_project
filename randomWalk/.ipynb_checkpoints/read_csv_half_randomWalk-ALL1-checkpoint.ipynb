{
 "cells": [
  {
   "cell_type": "markdown",
   "metadata": {},
   "source": [
    "### Data extraction\n",
    "Extract data from MIMIC-III"
   ]
  },
  {
   "cell_type": "code",
   "execution_count": 1,
   "metadata": {
    "scrolled": true
   },
   "outputs": [
    {
     "data": {
      "text/html": [
       "        <script type=\"text/javascript\">\n",
       "        window.PlotlyConfig = {MathJaxConfig: 'local'};\n",
       "        if (window.MathJax) {MathJax.Hub.Config({SVG: {font: \"STIX-Web\"}});}\n",
       "        if (typeof require !== 'undefined') {\n",
       "        require.undef(\"plotly\");\n",
       "        requirejs.config({\n",
       "            paths: {\n",
       "                'plotly': ['https://cdn.plot.ly/plotly-latest.min']\n",
       "            }\n",
       "        });\n",
       "        require(['plotly'], function(Plotly) {\n",
       "            window._Plotly = Plotly;\n",
       "        });\n",
       "        }\n",
       "        </script>\n",
       "        "
      ]
     },
     "metadata": {},
     "output_type": "display_data"
    }
   ],
   "source": [
    "import time\n",
    "import numpy as np \n",
    "import pandas as pd\n",
    "import matplotlib.pyplot as plt\n",
    "import seaborn as sns\n",
    "from tqdm import tqdm\n",
    "import cufflinks\n",
    "\n",
    "cufflinks.go_offline()\n",
    "cufflinks.set_config_file(world_readable=True, theme='pearl')"
   ]
  },
  {
   "cell_type": "code",
   "execution_count": 2,
   "metadata": {},
   "outputs": [
    {
     "ename": "KeyboardInterrupt",
     "evalue": "",
     "output_type": "error",
     "traceback": [
      "\u001b[0;31m---------------------------------------------------------------------------\u001b[0m",
      "\u001b[0;31mKeyboardInterrupt\u001b[0m                         Traceback (most recent call last)",
      "\u001b[0;32m<ipython-input-2-d07bc0561348>\u001b[0m in \u001b[0;36m<module>\u001b[0;34m\u001b[0m\n\u001b[1;32m      5\u001b[0m \u001b[0;31m# reading csv file\u001b[0m\u001b[0;34m\u001b[0m\u001b[0;34m\u001b[0m\u001b[0;34m\u001b[0m\u001b[0m\n\u001b[1;32m      6\u001b[0m \u001b[0madmissions_df\u001b[0m \u001b[0;34m=\u001b[0m \u001b[0mpd\u001b[0m\u001b[0;34m.\u001b[0m\u001b[0mread_csv\u001b[0m\u001b[0;34m(\u001b[0m\u001b[0;34m\"../../datasets/mmc-3/ADMISSIONS.csv\"\u001b[0m\u001b[0;34m)\u001b[0m\u001b[0;34m\u001b[0m\u001b[0;34m\u001b[0m\u001b[0m\n\u001b[0;32m----> 7\u001b[0;31m \u001b[0mnoteevents_df\u001b[0m \u001b[0;34m=\u001b[0m \u001b[0mpd\u001b[0m\u001b[0;34m.\u001b[0m\u001b[0mread_csv\u001b[0m\u001b[0;34m(\u001b[0m\u001b[0;34m\"../../datasets/mmc-3/NOTEEVENTS.csv\"\u001b[0m\u001b[0;34m)\u001b[0m\u001b[0;34m\u001b[0m\u001b[0;34m\u001b[0m\u001b[0m\n\u001b[0m\u001b[1;32m      8\u001b[0m \u001b[0mend\u001b[0m \u001b[0;34m=\u001b[0m \u001b[0mtime\u001b[0m\u001b[0;34m.\u001b[0m\u001b[0mtime\u001b[0m\u001b[0;34m(\u001b[0m\u001b[0;34m)\u001b[0m\u001b[0;34m\u001b[0m\u001b[0;34m\u001b[0m\u001b[0m\n\u001b[1;32m      9\u001b[0m \u001b[0mprint\u001b[0m\u001b[0;34m(\u001b[0m\u001b[0mend\u001b[0m \u001b[0;34m-\u001b[0m \u001b[0mstart\u001b[0m\u001b[0;34m)\u001b[0m\u001b[0;34m\u001b[0m\u001b[0;34m\u001b[0m\u001b[0m\n",
      "\u001b[0;32m~/anaconda3/lib/python3.7/site-packages/pandas/io/parsers.py\u001b[0m in \u001b[0;36mparser_f\u001b[0;34m(filepath_or_buffer, sep, delimiter, header, names, index_col, usecols, squeeze, prefix, mangle_dupe_cols, dtype, engine, converters, true_values, false_values, skipinitialspace, skiprows, skipfooter, nrows, na_values, keep_default_na, na_filter, verbose, skip_blank_lines, parse_dates, infer_datetime_format, keep_date_col, date_parser, dayfirst, cache_dates, iterator, chunksize, compression, thousands, decimal, lineterminator, quotechar, quoting, doublequote, escapechar, comment, encoding, dialect, error_bad_lines, warn_bad_lines, delim_whitespace, low_memory, memory_map, float_precision)\u001b[0m\n\u001b[1;32m    674\u001b[0m         )\n\u001b[1;32m    675\u001b[0m \u001b[0;34m\u001b[0m\u001b[0m\n\u001b[0;32m--> 676\u001b[0;31m         \u001b[0;32mreturn\u001b[0m \u001b[0m_read\u001b[0m\u001b[0;34m(\u001b[0m\u001b[0mfilepath_or_buffer\u001b[0m\u001b[0;34m,\u001b[0m \u001b[0mkwds\u001b[0m\u001b[0;34m)\u001b[0m\u001b[0;34m\u001b[0m\u001b[0;34m\u001b[0m\u001b[0m\n\u001b[0m\u001b[1;32m    677\u001b[0m \u001b[0;34m\u001b[0m\u001b[0m\n\u001b[1;32m    678\u001b[0m     \u001b[0mparser_f\u001b[0m\u001b[0;34m.\u001b[0m\u001b[0m__name__\u001b[0m \u001b[0;34m=\u001b[0m \u001b[0mname\u001b[0m\u001b[0;34m\u001b[0m\u001b[0;34m\u001b[0m\u001b[0m\n",
      "\u001b[0;32m~/anaconda3/lib/python3.7/site-packages/pandas/io/parsers.py\u001b[0m in \u001b[0;36m_read\u001b[0;34m(filepath_or_buffer, kwds)\u001b[0m\n\u001b[1;32m    452\u001b[0m \u001b[0;34m\u001b[0m\u001b[0m\n\u001b[1;32m    453\u001b[0m     \u001b[0;32mtry\u001b[0m\u001b[0;34m:\u001b[0m\u001b[0;34m\u001b[0m\u001b[0;34m\u001b[0m\u001b[0m\n\u001b[0;32m--> 454\u001b[0;31m         \u001b[0mdata\u001b[0m \u001b[0;34m=\u001b[0m \u001b[0mparser\u001b[0m\u001b[0;34m.\u001b[0m\u001b[0mread\u001b[0m\u001b[0;34m(\u001b[0m\u001b[0mnrows\u001b[0m\u001b[0;34m)\u001b[0m\u001b[0;34m\u001b[0m\u001b[0;34m\u001b[0m\u001b[0m\n\u001b[0m\u001b[1;32m    455\u001b[0m     \u001b[0;32mfinally\u001b[0m\u001b[0;34m:\u001b[0m\u001b[0;34m\u001b[0m\u001b[0;34m\u001b[0m\u001b[0m\n\u001b[1;32m    456\u001b[0m         \u001b[0mparser\u001b[0m\u001b[0;34m.\u001b[0m\u001b[0mclose\u001b[0m\u001b[0;34m(\u001b[0m\u001b[0;34m)\u001b[0m\u001b[0;34m\u001b[0m\u001b[0;34m\u001b[0m\u001b[0m\n",
      "\u001b[0;32m~/anaconda3/lib/python3.7/site-packages/pandas/io/parsers.py\u001b[0m in \u001b[0;36mread\u001b[0;34m(self, nrows)\u001b[0m\n\u001b[1;32m   1131\u001b[0m     \u001b[0;32mdef\u001b[0m \u001b[0mread\u001b[0m\u001b[0;34m(\u001b[0m\u001b[0mself\u001b[0m\u001b[0;34m,\u001b[0m \u001b[0mnrows\u001b[0m\u001b[0;34m=\u001b[0m\u001b[0;32mNone\u001b[0m\u001b[0;34m)\u001b[0m\u001b[0;34m:\u001b[0m\u001b[0;34m\u001b[0m\u001b[0;34m\u001b[0m\u001b[0m\n\u001b[1;32m   1132\u001b[0m         \u001b[0mnrows\u001b[0m \u001b[0;34m=\u001b[0m \u001b[0m_validate_integer\u001b[0m\u001b[0;34m(\u001b[0m\u001b[0;34m\"nrows\"\u001b[0m\u001b[0;34m,\u001b[0m \u001b[0mnrows\u001b[0m\u001b[0;34m)\u001b[0m\u001b[0;34m\u001b[0m\u001b[0;34m\u001b[0m\u001b[0m\n\u001b[0;32m-> 1133\u001b[0;31m         \u001b[0mret\u001b[0m \u001b[0;34m=\u001b[0m \u001b[0mself\u001b[0m\u001b[0;34m.\u001b[0m\u001b[0m_engine\u001b[0m\u001b[0;34m.\u001b[0m\u001b[0mread\u001b[0m\u001b[0;34m(\u001b[0m\u001b[0mnrows\u001b[0m\u001b[0;34m)\u001b[0m\u001b[0;34m\u001b[0m\u001b[0;34m\u001b[0m\u001b[0m\n\u001b[0m\u001b[1;32m   1134\u001b[0m \u001b[0;34m\u001b[0m\u001b[0m\n\u001b[1;32m   1135\u001b[0m         \u001b[0;31m# May alter columns / col_dict\u001b[0m\u001b[0;34m\u001b[0m\u001b[0;34m\u001b[0m\u001b[0;34m\u001b[0m\u001b[0m\n",
      "\u001b[0;32m~/anaconda3/lib/python3.7/site-packages/pandas/io/parsers.py\u001b[0m in \u001b[0;36mread\u001b[0;34m(self, nrows)\u001b[0m\n\u001b[1;32m   2035\u001b[0m     \u001b[0;32mdef\u001b[0m \u001b[0mread\u001b[0m\u001b[0;34m(\u001b[0m\u001b[0mself\u001b[0m\u001b[0;34m,\u001b[0m \u001b[0mnrows\u001b[0m\u001b[0;34m=\u001b[0m\u001b[0;32mNone\u001b[0m\u001b[0;34m)\u001b[0m\u001b[0;34m:\u001b[0m\u001b[0;34m\u001b[0m\u001b[0;34m\u001b[0m\u001b[0m\n\u001b[1;32m   2036\u001b[0m         \u001b[0;32mtry\u001b[0m\u001b[0;34m:\u001b[0m\u001b[0;34m\u001b[0m\u001b[0;34m\u001b[0m\u001b[0m\n\u001b[0;32m-> 2037\u001b[0;31m             \u001b[0mdata\u001b[0m \u001b[0;34m=\u001b[0m \u001b[0mself\u001b[0m\u001b[0;34m.\u001b[0m\u001b[0m_reader\u001b[0m\u001b[0;34m.\u001b[0m\u001b[0mread\u001b[0m\u001b[0;34m(\u001b[0m\u001b[0mnrows\u001b[0m\u001b[0;34m)\u001b[0m\u001b[0;34m\u001b[0m\u001b[0;34m\u001b[0m\u001b[0m\n\u001b[0m\u001b[1;32m   2038\u001b[0m         \u001b[0;32mexcept\u001b[0m \u001b[0mStopIteration\u001b[0m\u001b[0;34m:\u001b[0m\u001b[0;34m\u001b[0m\u001b[0;34m\u001b[0m\u001b[0m\n\u001b[1;32m   2039\u001b[0m             \u001b[0;32mif\u001b[0m \u001b[0mself\u001b[0m\u001b[0;34m.\u001b[0m\u001b[0m_first_chunk\u001b[0m\u001b[0;34m:\u001b[0m\u001b[0;34m\u001b[0m\u001b[0;34m\u001b[0m\u001b[0m\n",
      "\u001b[0;32mpandas/_libs/parsers.pyx\u001b[0m in \u001b[0;36mpandas._libs.parsers.TextReader.read\u001b[0;34m()\u001b[0m\n",
      "\u001b[0;32mpandas/_libs/parsers.pyx\u001b[0m in \u001b[0;36mpandas._libs.parsers.TextReader._read_low_memory\u001b[0;34m()\u001b[0m\n",
      "\u001b[0;32mpandas/_libs/parsers.pyx\u001b[0m in \u001b[0;36mpandas._libs.parsers.TextReader._read_rows\u001b[0;34m()\u001b[0m\n",
      "\u001b[0;32mpandas/_libs/parsers.pyx\u001b[0m in \u001b[0;36mpandas._libs.parsers.TextReader._convert_column_data\u001b[0;34m()\u001b[0m\n",
      "\u001b[0;32mpandas/_libs/parsers.pyx\u001b[0m in \u001b[0;36mpandas._libs.parsers.TextReader._convert_tokens\u001b[0;34m()\u001b[0m\n",
      "\u001b[0;32mpandas/_libs/parsers.pyx\u001b[0m in \u001b[0;36mpandas._libs.parsers.TextReader._convert_with_dtype\u001b[0;34m()\u001b[0m\n",
      "\u001b[0;32m~/anaconda3/lib/python3.7/site-packages/pandas/core/dtypes/common.py\u001b[0m in \u001b[0;36mis_categorical_dtype\u001b[0;34m(arr_or_dtype)\u001b[0m\n\u001b[1;32m    540\u001b[0m \u001b[0;34m\u001b[0m\u001b[0m\n\u001b[1;32m    541\u001b[0m \u001b[0;34m\u001b[0m\u001b[0m\n\u001b[0;32m--> 542\u001b[0;31m \u001b[0;32mdef\u001b[0m \u001b[0mis_categorical_dtype\u001b[0m\u001b[0;34m(\u001b[0m\u001b[0marr_or_dtype\u001b[0m\u001b[0;34m)\u001b[0m \u001b[0;34m->\u001b[0m \u001b[0mbool\u001b[0m\u001b[0;34m:\u001b[0m\u001b[0;34m\u001b[0m\u001b[0;34m\u001b[0m\u001b[0m\n\u001b[0m\u001b[1;32m    543\u001b[0m     \"\"\"\n\u001b[1;32m    544\u001b[0m     \u001b[0mCheck\u001b[0m \u001b[0mwhether\u001b[0m \u001b[0man\u001b[0m \u001b[0marray\u001b[0m\u001b[0;34m-\u001b[0m\u001b[0mlike\u001b[0m \u001b[0;32mor\u001b[0m \u001b[0mdtype\u001b[0m \u001b[0;32mis\u001b[0m \u001b[0mof\u001b[0m \u001b[0mthe\u001b[0m \u001b[0mCategorical\u001b[0m \u001b[0mdtype\u001b[0m\u001b[0;34m.\u001b[0m\u001b[0;34m\u001b[0m\u001b[0;34m\u001b[0m\u001b[0m\n",
      "\u001b[0;31mKeyboardInterrupt\u001b[0m: "
     ]
    }
   ],
   "source": [
    "# Import pandas \n",
    "import pandas as pd \n",
    "\n",
    "start = time.time()\n",
    "# reading csv file \n",
    "admissions_df = pd.read_csv(\"../../datasets/mmc-3/ADMISSIONS.csv\")\n",
    "noteevents_df = pd.read_csv(\"../../datasets/mmc-3/NOTEEVENTS.csv\") \n",
    "end = time.time()\n",
    "print(end - start)\n"
   ]
  },
  {
   "cell_type": "code",
   "execution_count": null,
   "metadata": {},
   "outputs": [],
   "source": [
    "start = time.time()\n",
    "# Left join of two dataframes\n",
    "note_admiss_df_left = noteevents_df.merge(admissions_df, on='HADM_ID', how='left', indicator=True)\n",
    "end = time.time()\n",
    "print(end - start)"
   ]
  },
  {
   "cell_type": "code",
   "execution_count": null,
   "metadata": {
    "scrolled": false
   },
   "outputs": [],
   "source": [
    "note_admiss_df_left[['DIAGNOSIS', 'SUBJECT_ID_x', 'SUBJECT_ID_y','DESCRIPTION', 'CATEGORY']]"
   ]
  },
  {
   "cell_type": "code",
   "execution_count": null,
   "metadata": {
    "scrolled": true
   },
   "outputs": [],
   "source": [
    "pneumonia_df = note_admiss_df_left.loc[note_admiss_df_left[\"DIAGNOSIS\"] == 'PNEUMONIA', ['ROW_ID_x', 'SUBJECT_ID_x', 'HADM_ID', 'CHARTDATE', 'CHARTTIME', 'STORETIME', 'CATEGORY', 'DESCRIPTION', 'CGID', 'ISERROR', 'TEXT', 'ADMITTIME', 'DISCHTIME', 'DEATHTIME', 'ADMISSION_TYPE', 'DIAGNOSIS', 'HAS_CHARTEVENTS_DATA']]"
   ]
  },
  {
   "cell_type": "code",
   "execution_count": null,
   "metadata": {},
   "outputs": [],
   "source": [
    "#pneumonia_no_disch_df = pneumonia_df.loc[pneumonia_df[\"CATEGORY\"] != 'Discharge summary', ['ROW_ID_x', 'SUBJECT_ID_x', 'HADM_ID', 'CHARTDATE', 'CHARTTIME', 'STORETIME', 'CATEGORY', 'DESCRIPTION', 'CGID', 'ISERROR', 'TEXT', 'ADMITTIME', 'DISCHTIME', 'DEATHTIME', 'ADMISSION_TYPE', 'DIAGNOSIS', 'HAS_CHARTEVENTS_DATA']]\n",
    "pneumonia_no_disch_df = pneumonia_df.loc[pneumonia_df[\"CATEGORY\"] != 'Discharge summary', ['ROW_ID_x','SUBJECT_ID_x','CHARTDATE','STORETIME','CATEGORY','DESCRIPTION','TEXT', 'DEATHTIME']]"
   ]
  },
  {
   "cell_type": "code",
   "execution_count": null,
   "metadata": {},
   "outputs": [],
   "source": [
    "pneumonia_alive_no_disch = pneumonia_no_disch_df[pneumonia_no_disch_df.DEATHTIME.isnull()]\n",
    "pneumonia_dead_no_disch = pneumonia_no_disch_df[pneumonia_no_disch_df.DEATHTIME.notnull()]"
   ]
  },
  {
   "cell_type": "code",
   "execution_count": null,
   "metadata": {},
   "outputs": [],
   "source": [
    "pneumonia_dead_no_disch.shape"
   ]
  },
  {
   "cell_type": "code",
   "execution_count": null,
   "metadata": {},
   "outputs": [],
   "source": [
    "pneumonia_alive_no_disch.shape"
   ]
  },
  {
   "cell_type": "code",
   "execution_count": null,
   "metadata": {},
   "outputs": [],
   "source": [
    "pneumonia_alive_no_disch = pneumonia_alive_no_disch.sort_values(by=['SUBJECT_ID_x','CHARTDATE', 'ROW_ID_x'])\n",
    "pneumonia_dead_no_disch = pneumonia_dead_no_disch.sort_values(by=['SUBJECT_ID_x','CHARTDATE', 'ROW_ID_x'])"
   ]
  },
  {
   "cell_type": "code",
   "execution_count": null,
   "metadata": {},
   "outputs": [],
   "source": [
    "# Number of patients\n",
    "pneumonia_dead_no_disch['SUBJECT_ID_x'].nunique()"
   ]
  },
  {
   "cell_type": "code",
   "execution_count": null,
   "metadata": {
    "scrolled": true
   },
   "outputs": [],
   "source": [
    "# Number of patients\n",
    "pneumonia_alive_no_disch['SUBJECT_ID_x'].nunique()"
   ]
  },
  {
   "cell_type": "code",
   "execution_count": null,
   "metadata": {},
   "outputs": [],
   "source": [
    "# import text handling tool\n",
    "from nltk.tokenize import word_tokenize\n",
    "from nltk.corpus import stopwords\n",
    "from nltk.stem import PorterStemmer\n",
    "\n",
    "from collections import Counter\n",
    "\n",
    "import sys\n",
    "import re\n",
    "import csv\n",
    "import os.path\n",
    "\n",
    "# define constants\n",
    "# RESULT_HEADER = \"WORD, FREQUENCY\\n\"\n",
    "MIN_SEQ_LEN = 4\n",
    "USE_1_N_SEQ = 2\n",
    "\n",
    "\n",
    "# words that do not have meaning (can be modified later)\n",
    "USELESS_WORDS = [\"a\", \"the\", \"he\", \"she\", \",\", \".\", \"?\", \"!\", \":\", \";\", \"+\", \"*\", \"**\"\\\n",
    "                 \"your\", \"you\"]\n",
    "\n",
    "# count up the frequency of every word in every disease file\n",
    "stemmer = PorterStemmer()\n",
    "# create set of words to ignore in text\n",
    "stop_words = set(stopwords.words('english'))\n",
    "\n",
    "for word in USELESS_WORDS:\n",
    "    stop_words.add(word)"
   ]
  },
  {
   "cell_type": "code",
   "execution_count": null,
   "metadata": {},
   "outputs": [],
   "source": []
  },
  {
   "cell_type": "code",
   "execution_count": null,
   "metadata": {},
   "outputs": [],
   "source": [
    "\n",
    "#----------\n",
    "def count_notes_per_patient(disease_df):\n",
    "    patient_id_to_num_notes = {}\n",
    "    patient_id = -1\n",
    "    note_counter = 0\n",
    "            \n",
    "    for index, row in tqdm(disease_df.iterrows(), total=disease_df.shape[0]):\n",
    "        patient_id_check = int(row['SUBJECT_ID_x'])\n",
    "                \n",
    "        if not patient_id == patient_id_check:\n",
    "            patient_id_to_num_notes[patient_id] = note_counter\n",
    "            note_counter = 1\n",
    "        else:\n",
    "            note_counter += 1\n",
    "                    \n",
    "        patient_id = patient_id_check\n",
    "                \n",
    "    patient_id_to_num_notes[patient_id] = note_counter\n",
    "    del patient_id_to_num_notes[-1]\n",
    "    return patient_id_to_num_notes\n",
    "\n",
    "patient_id_to_num_notes = {}\n",
    "patient_id_to_num_notes['pneumonia_dead'] = count_notes_per_patient(pneumonia_dead_no_disch)\n",
    "patient_id_to_num_notes['pneumonia_alive'] = count_notes_per_patient(pneumonia_alive_no_disch)"
   ]
  },
  {
   "cell_type": "code",
   "execution_count": null,
   "metadata": {},
   "outputs": [],
   "source": [
    "patient_id_to_num_notes"
   ]
  },
  {
   "cell_type": "code",
   "execution_count": null,
   "metadata": {},
   "outputs": [],
   "source": [
    "print(len(patient_id_to_num_notes['pneumonia_dead']))\n",
    "print(len(patient_id_to_num_notes['pneumonia_alive']))"
   ]
  },
  {
   "cell_type": "code",
   "execution_count": null,
   "metadata": {
    "scrolled": true
   },
   "outputs": [],
   "source": [
    "pneumonia_dead_no_disch.loc[pneumonia_dead_no_disch[\"SUBJECT_ID_x\"] == 111, ['ROW_ID_x','SUBJECT_ID_x','DESCRIPTION','TEXT', 'DEATHTIME']]"
   ]
  },
  {
   "cell_type": "code",
   "execution_count": null,
   "metadata": {},
   "outputs": [],
   "source": []
  },
  {
   "cell_type": "code",
   "execution_count": null,
   "metadata": {},
   "outputs": [],
   "source": []
  },
  {
   "cell_type": "code",
   "execution_count": null,
   "metadata": {},
   "outputs": [],
   "source": [
    "def count_words_per_patient(disease_df, patient_id_to_num_notes):\n",
    "    note_appearance_counter = {}\n",
    "    number_of_patients = 0 # number of patients\n",
    "    note_counter = 0\n",
    "\n",
    "# -----------\n",
    "    patient_id = -1\n",
    "    word_set = set()\n",
    "    note_event_counter = 0\n",
    "\n",
    "    # Iterate through each note\n",
    "    for index, row in tqdm(disease_df.iterrows(), total=disease_df.shape[0]):\n",
    "\n",
    "        \n",
    "        patient_id_check = int(row['SUBJECT_ID_x'])\n",
    "    \n",
    "        # if patient id has changed, end sequence and start new sequence\n",
    "        if not patient_id == patient_id_check:\n",
    "            number_of_patients += 1\n",
    "            note_event_counter = 0\n",
    "        \n",
    "            for word in word_set:\n",
    "                if word in note_appearance_counter:\n",
    "                    note_appearance_counter[word] += 1\n",
    "                else:\n",
    "                    note_appearance_counter[word] = 1\n",
    "\n",
    "        \n",
    "            # reset word_set\n",
    "            word_set = set()\n",
    "        \n",
    "        # update patient id\n",
    "        patient_id = patient_id_check\n",
    "\n",
    "            \n",
    "        if patient_id_to_num_notes[patient_id_check] <= MIN_SEQ_LEN:\n",
    "            continue\n",
    "            \n",
    "        if note_event_counter < patient_id_to_num_notes[patient_id] // USE_1_N_SEQ:\n",
    "            note_event_counter += 1\n",
    "            continue\n",
    "                \n",
    "        note_counter += 1\n",
    "        note = re.sub(r'\\[\\*\\*(.*?)\\*\\*\\]|[_,\\d\\*:~=\\.\\-\\+\\\\/]+', ' ', row['TEXT'])\n",
    "        tokenized_note = word_tokenize(note)\n",
    "        \n",
    "        \n",
    "        for word in tokenized_note:\n",
    "            stemmed_word = stemmer.stem(word.lower())\n",
    "            if not stemmed_word in stop_words:\n",
    "                word_set.add(stemmed_word)\n",
    "    \n",
    "    print(str(note_counter) + \" note events\")\n",
    "    print(\"finished counting frequent words for patients!\")\n",
    "#     return note_counter, note_appearance_counter\n",
    "    return number_of_patients, note_appearance_counter\n",
    "\n",
    "# variable dictionaries\n",
    "number_of_notes = {}\n",
    "note_appearance_counter = {}\n",
    "\n",
    "number_of_notes['pneumonia_dead'], note_appearance_counter['pneumonia_dead'] = count_words_per_patient(pneumonia_dead_no_disch, patient_id_to_num_notes['pneumonia_dead'])\n",
    "number_of_notes['pneumonia_alive'], note_appearance_counter['pneumonia_alive'] = count_words_per_patient(pneumonia_alive_no_disch, patient_id_to_num_notes['pneumonia_alive'])"
   ]
  },
  {
   "cell_type": "code",
   "execution_count": null,
   "metadata": {},
   "outputs": [],
   "source": [
    "number_of_notes"
   ]
  },
  {
   "cell_type": "code",
   "execution_count": null,
   "metadata": {},
   "outputs": [],
   "source": [
    "print(note_appearance_counter)"
   ]
  },
  {
   "cell_type": "code",
   "execution_count": null,
   "metadata": {},
   "outputs": [],
   "source": []
  },
  {
   "cell_type": "code",
   "execution_count": null,
   "metadata": {},
   "outputs": [],
   "source": []
  },
  {
   "cell_type": "code",
   "execution_count": null,
   "metadata": {},
   "outputs": [],
   "source": [
    "# # get hyper-paramters n_fold and threshold from user input\n",
    "n_fold = float(3)\n",
    "threshold = float(0.01)\n",
    "\n",
    "frequent_word_lists = {}\n",
    "factor = {}"
   ]
  },
  {
   "cell_type": "code",
   "execution_count": null,
   "metadata": {},
   "outputs": [],
   "source": [
    "\"\"\"function description:\n",
    "for each disease in note_appearance_counter\n",
    "    1. checks whether a word in disease file is frequent(frequency standard as defined by factor, n_fold, and threshold)\n",
    "    2. adds to frequent_word_list\n",
    "\"\"\"\n",
    "\n",
    "# def find_frequent_word(note_appearance_counter, frequent_word_lists, number_of_notes, factor, n_fold, threshold):\n",
    "\n",
    "# calculate normalizing factor for each disease\n",
    "note_sum = 0\n",
    "\n",
    "# Count from two labels\n",
    "for disease in number_of_notes:\n",
    "    note_sum += float(number_of_notes[disease])\n",
    "    \n",
    "for disease in number_of_notes:\n",
    "    factor[disease] = number_of_notes[disease] / note_sum\n",
    "\n",
    "# determine frequent word for each disease file\n",
    "for disease in note_appearance_counter:\n",
    "    frequent_word_lists[disease] = []\n",
    "\n",
    "    print(disease + \" has \" + str(len(note_appearance_counter[disease])) + \" unique words!\")\n",
    "\n",
    "    for word in note_appearance_counter[disease]:\n",
    "        \n",
    "        freq_check = True\n",
    "        for check_disease in note_appearance_counter:\n",
    "            \n",
    "            if not disease == check_disease:\n",
    "                if word in note_appearance_counter[check_disease]:\n",
    "                    if not (note_appearance_counter[disease][word] / note_appearance_counter[check_disease][word] / factor[disease] * factor[check_disease] > n_fold \\\n",
    "                        and note_appearance_counter[disease][word] > (number_of_notes[disease] * threshold)):\n",
    "\n",
    "                        freq_check = False\n",
    "                        break\n",
    "\n",
    "                else:\n",
    "                    if not (note_appearance_counter[disease][word] > n_fold and note_appearance_counter[disease][word] > (number_of_notes[disease] * threshold)):\n",
    "                        freq_check = False\n",
    "                        break\n",
    "        if freq_check:\n",
    "            frequent_word_lists[disease].append((word))\n",
    "            # Create a tuple of word and its count\n",
    "#             frequent_word_lists[disease].append((word, note_appearance_counter[disease][word]))\n",
    "\n",
    "        \n",
    "\n",
    "print(\"finished making frequent words list for \" + disease)"
   ]
  },
  {
   "cell_type": "code",
   "execution_count": null,
   "metadata": {
    "scrolled": true
   },
   "outputs": [],
   "source": [
    "print(note_sum)\n",
    "print(factor)\n",
    "\n",
    "# number of notes\n",
    "# 58029.0\n",
    "# {'pneumonia_dead': 0.2049837150390322, 'pneumonia_alive': 0.7950162849609678}"
   ]
  },
  {
   "cell_type": "code",
   "execution_count": null,
   "metadata": {
    "scrolled": true
   },
   "outputs": [],
   "source": [
    "print(len(frequent_word_lists['pneumonia_dead']))\n",
    "print(len(frequent_word_lists['pneumonia_alive']))\n",
    "\n",
    "\n",
    "# n_fold = float(3) threshold = float(0.01)\n",
    "# 454\n",
    "# 329\n",
    "\n",
    "# n_fold = float(2) threshold = float(0.01)\n",
    "# 914\n",
    "# 600\n",
    "\n",
    "# n_fold = float(1) threshold = float(0.01)\n",
    "# 3320\n",
    "# 2196"
   ]
  },
  {
   "cell_type": "code",
   "execution_count": null,
   "metadata": {
    "scrolled": true
   },
   "outputs": [],
   "source": [
    "print(frequent_word_lists)"
   ]
  },
  {
   "cell_type": "markdown",
   "metadata": {},
   "source": [
    "### 2. Co-occurrence generation\n",
    "FP-growth"
   ]
  },
  {
   "cell_type": "code",
   "execution_count": null,
   "metadata": {},
   "outputs": [],
   "source": [
    "FREQUENT_WORD_LIST = frequent_word_lists['pneumonia_dead'] + frequent_word_lists['pneumonia_alive']\n",
    "print(len(FREQUENT_WORD_LIST))\n",
    "print(len(set(FREQUENT_WORD_LIST)))"
   ]
  },
  {
   "cell_type": "code",
   "execution_count": null,
   "metadata": {
    "scrolled": true
   },
   "outputs": [],
   "source": [
    "\"\"\"function description:\n",
    "generates frequent word set for the disease\n",
    "\"\"\"\n",
    "word_dict = {}\n",
    "word_id = 1\n",
    "stemmer = PorterStemmer()\n",
    "\n",
    "\n",
    "for word in FREQUENT_WORD_LIST:\n",
    "    if not word == \"WORD\":\n",
    "        word_dict[stemmer.stem(word.strip())] = word_id\n",
    "        word_id += 1\n",
    "             \n",
    "print(f\"\\nword dictionary created! Length: {len(word_dict)}\\n\")\n",
    "print(word_dict)\n"
   ]
  },
  {
   "cell_type": "markdown",
   "metadata": {},
   "source": [
    "### Implementetion with python for FP_growth"
   ]
  },
  {
   "cell_type": "markdown",
   "metadata": {},
   "source": [
    "### Count co-occurrences per patient"
   ]
  },
  {
   "cell_type": "code",
   "execution_count": null,
   "metadata": {},
   "outputs": [],
   "source": [
    "import os\n",
    "import operator\n",
    "from pathlib import Path\n",
    "from mlxtend.frequent_patterns import fpgrowth\n",
    "from mlxtend.preprocessing import TransactionEncoder\n",
    "import pandas as pd\n",
    "import math\n",
    "\n",
    "# ----\n",
    "def fp_growth_input_per_patient_python(disease_df, word_dict, min_support):\n",
    "    \n",
    "    # For dataframe\n",
    "    patient_cooc_dict = {}\n",
    "    patient_node_dict = {}\n",
    "    patient_note_cnt = {}\n",
    "    \n",
    "    # --------------    \n",
    "    patient_id = -1\n",
    "    note_cnt = 0\n",
    "    patient_note_list = []\n",
    "    \n",
    "    # read line in from file (each line is one note)\n",
    "    for index, row in tqdm(disease_df.iterrows(), total=disease_df.shape[0]):\n",
    "        \n",
    "        # only regard certain type of notes\n",
    "        patient_id_check = int(row['SUBJECT_ID_x'])\n",
    "        note = re.sub(r'\\[\\*\\*(.*?)\\*\\*\\]|[_,\\d\\*:~=\\.\\-\\+\\\\/]+', ' ', row['TEXT'])\n",
    "        patient_word_set = set()\n",
    "    \n",
    "#         print(f\"patient_id_check: {patient_id_check}, patient_id: {patient_id}\")\n",
    "        # if patient id has changed, end sequence and start new sequence\n",
    "        if not patient_id == patient_id_check and not patient_id == -1:\n",
    "            te = TransactionEncoder()\n",
    "            te_ary = te.fit(patient_note_list).transform(patient_note_list)\n",
    "            df = pd.DataFrame(te_ary, columns=te.columns_)\n",
    "            df_itemsets = fpgrowth(df, min_support=min_support, use_colnames=True)\n",
    "            \n",
    "            cooc_tmp = []\n",
    "            cooc_minsup_tmp = []\n",
    "            node_minsup_tmp = []\n",
    "            cooc_node_idx_tmp = []\n",
    "            \n",
    "            for index, row in df_itemsets.iterrows():\n",
    "                if len(row['itemsets']) == 1:\n",
    "                    word = list(row['itemsets'])[0]\n",
    "                    min_sup = row['support']\n",
    "\n",
    "                    node_minsup_tmp.append(len(patient_note_list) * row['support'])\n",
    "                    cooc_node_idx_tmp.append(word)\n",
    "                    \n",
    "                if len(row['itemsets']) == 2:\n",
    "                    cooc_ = sorted(list(row['itemsets']))\n",
    "                    cooc_tmp.append(cooc_)\n",
    "                    cooc_minsup_tmp.append(len(patient_note_list) * row['support'])\n",
    "            \n",
    "            cooc_dict = {}\n",
    "\n",
    "            for num, i in enumerate(cooc_tmp):\n",
    "                if tuple(i) not in cooc_dict:\n",
    "                    cooc_dict[tuple(i)] = cooc_minsup_tmp[num]\n",
    "\n",
    "            # dictionary = dict(zip(keys, values))\n",
    "            node_dict = {}\n",
    "            for num, i in enumerate(cooc_node_idx_tmp):\n",
    "                if i not in node_dict:\n",
    "                    node_dict[i] = node_minsup_tmp[num]\n",
    "                    \n",
    "            # Update glob lists\n",
    "            if patient_id not in patient_cooc_dict:\n",
    "                patient_cooc_dict[patient_id] = cooc_dict\n",
    "                patient_node_dict[patient_id] = node_dict\n",
    "                patient_note_cnt[patient_id] = note_cnt\n",
    "            else:\n",
    "                print(f\"patient_id: {patient_id} is already in the dictionary!\")\n",
    "            \n",
    "            \n",
    "            # Reset local lists\n",
    "            patient_note_list = []\n",
    "            note_cnt = 0\n",
    "                    \n",
    "        # update patient id\n",
    "        patient_id = patient_id_check\n",
    "        tokenized_note = word_tokenize(note)\n",
    "        note_cnt += 1\n",
    "\n",
    "        # loop through each word in note to count word belonging to each disease\n",
    "        for word in tokenized_note:\n",
    "            stemmed_word = stemmer.stem(word.lower())       \n",
    "            if stemmed_word in word_dict:\n",
    "                    patient_word_set.add(stemmed_word)\n",
    "\n",
    "        templst = []\n",
    "        for word in patient_word_set:\n",
    "            templst.append(word)\n",
    "\n",
    "        if templst:\n",
    "            patient_note_list.append(templst)\n",
    "    \n",
    "    # Last patient info\n",
    "    te = TransactionEncoder()\n",
    "    te_ary = te.fit(patient_note_list).transform(patient_note_list)\n",
    "    df = pd.DataFrame(te_ary, columns=te.columns_)\n",
    "    df_itemsets = fpgrowth(df, min_support=min_support, use_colnames=True)\n",
    "            \n",
    "    cooc_tmp = []\n",
    "    cooc_minsup_tmp = []\n",
    "    #-----\n",
    "    node_minsup_tmp = []\n",
    "    cooc_node_idx_tmp = []\n",
    "            \n",
    "    for index, row in df_itemsets.iterrows():\n",
    "        if len(row['itemsets']) == 1:\n",
    "            word = list(row['itemsets'])[0]\n",
    "            node_minsup_tmp.append(len(patient_note_list) * row['support'])\n",
    "            cooc_node_idx_tmp.append(word)\n",
    "\n",
    "        if len(row['itemsets']) == 2:\n",
    "            cooc_ = sorted(list(row['itemsets']))\n",
    "            cooc_tmp.append(cooc_)\n",
    "            cooc_minsup_tmp.append(len(patient_note_list) * row['support'])\n",
    "    \n",
    "                    \n",
    "    cooc_dict = {}\n",
    "\n",
    "    for num, i in enumerate(cooc_tmp):\n",
    "        if tuple(i) not in cooc_dict:\n",
    "            cooc_dict[tuple(i)] = cooc_minsup_tmp[num]\n",
    "\n",
    "    # dictionary = dict(zip(keys, values))\n",
    "    node_dict = {}\n",
    "    for num, i in enumerate(cooc_node_idx_tmp):\n",
    "        if i not in node_dict:\n",
    "            node_dict[i] = node_minsup_tmp[num]\n",
    "\n",
    "    # Update glob lists\n",
    "    if patient_id not in patient_cooc_dict:\n",
    "        patient_cooc_dict[patient_id] = cooc_dict\n",
    "        patient_node_dict[patient_id] = node_dict\n",
    "        patient_note_cnt[patient_id] = note_cnt\n",
    "    else:\n",
    "        print(f\"patient_id: {patient_id} is already in the dictionary!\")\n",
    "\n",
    "    return patient_node_dict, patient_cooc_dict, patient_note_cnt\n",
    "\n",
    "patient_node_0, patient_cooc_0, patient_note_num_0 = fp_growth_input_per_patient_python(pneumonia_dead_no_disch, word_dict, 0.2)\n",
    "patient_node_1, patient_cooc_1, patient_note_num_1 = fp_growth_input_per_patient_python(pneumonia_alive_no_disch, word_dict, 0.2)"
   ]
  },
  {
   "cell_type": "code",
   "execution_count": null,
   "metadata": {},
   "outputs": [],
   "source": [
    "print(patient_node_1)"
   ]
  },
  {
   "cell_type": "code",
   "execution_count": null,
   "metadata": {
    "scrolled": true
   },
   "outputs": [],
   "source": [
    "print(patient_cooc_1)"
   ]
  },
  {
   "cell_type": "code",
   "execution_count": null,
   "metadata": {},
   "outputs": [],
   "source": [
    "patient_note_num_0"
   ]
  },
  {
   "cell_type": "markdown",
   "metadata": {},
   "source": [
    "#### Create set of patient co-occurrences from two groups"
   ]
  },
  {
   "cell_type": "code",
   "execution_count": null,
   "metadata": {},
   "outputs": [],
   "source": [
    "# Create a set of all unique co-occurrences from both group\n",
    "patient_cooc_set = set()\n",
    "patient_cooc_0_dict = {}\n",
    "patient_cooc_1_dict = {}\n",
    "\n",
    "for k, v in patient_cooc_0.items():\n",
    "    for item in v:\n",
    "        patient_cooc_set.add(item)\n",
    "        if item not in patient_cooc_0_dict:\n",
    "            patient_cooc_0_dict[item] = v[item]\n",
    "        else:\n",
    "            patient_cooc_0_dict[item] = patient_cooc_0_dict[item] + v[item]\n",
    "            \n",
    "    \n",
    "for k, v in patient_cooc_1.items():\n",
    "    for item in v:\n",
    "        patient_cooc_set.add(item)\n",
    "        if item not in patient_cooc_1_dict:\n",
    "            patient_cooc_1_dict[item] = v[item]\n",
    "        else:\n",
    "            patient_cooc_1_dict[item] = patient_cooc_1_dict[item] + v[item]"
   ]
  },
  {
   "cell_type": "code",
   "execution_count": null,
   "metadata": {},
   "outputs": [],
   "source": [
    "print(len(patient_cooc_set))\n",
    "print(len(patient_cooc_0_dict))\n",
    "print(len(patient_cooc_1_dict))"
   ]
  },
  {
   "cell_type": "code",
   "execution_count": null,
   "metadata": {},
   "outputs": [],
   "source": [
    "# count log-odds score\n",
    "\n",
    "# reverse\n",
    "# --------------- co-occurrences --------------->\n",
    "\n",
    "        \n",
    "# Get the set of coocurrencies from two groups\n",
    "# Count log_odd_score\n",
    "\n",
    "patient_cooc_odd_scores = {}\n",
    "for set_item in patient_cooc_set:\n",
    "    if set_item in patient_cooc_0_dict and set_item in patient_cooc_1_dict: \n",
    "        d_prob = patient_cooc_0_dict[set_item]/(patient_cooc_0_dict[set_item] + patient_cooc_1_dict[set_item])\n",
    "        a_prob = patient_cooc_1_dict[set_item]/(patient_cooc_0_dict[set_item] + patient_cooc_1_dict[set_item])\n",
    "        log_odd_score = math.log((a_prob + 0.001)/(d_prob+0.001))\n",
    "        patient_cooc_odd_scores[set_item] = log_odd_score\n",
    "    elif set_item in patient_cooc_0_dict:\n",
    "        log_odd_score = math.log((0.001)/(1.001))\n",
    "        patient_cooc_odd_scores[set_item] = log_odd_score\n",
    "    elif set_item in patient_cooc_1_dict:\n",
    "        log_odd_score = math.log((1.001)/(0.001))\n",
    "        patient_cooc_odd_scores[set_item] = log_odd_score\n",
    "# --------------- co-occurrences ---------------<"
   ]
  },
  {
   "cell_type": "code",
   "execution_count": null,
   "metadata": {},
   "outputs": [],
   "source": [
    "patient_cooc_odd_scores"
   ]
  },
  {
   "cell_type": "markdown",
   "metadata": {},
   "source": [
    "### Train mode"
   ]
  },
  {
   "cell_type": "markdown",
   "metadata": {},
   "source": [
    "#### Method 2. Each patient graph => [model training]"
   ]
  },
  {
   "cell_type": "code",
   "execution_count": null,
   "metadata": {
    "scrolled": true
   },
   "outputs": [],
   "source": [
    "# Dictionaries to use\n",
    " # struct: {word: word2vec[128, numpy.array]}\n",
    "patient_cooc_odd_scores # struct: {cooc_tuple: log_odds_score}\n",
    "print()"
   ]
  },
  {
   "cell_type": "code",
   "execution_count": null,
   "metadata": {},
   "outputs": [],
   "source": [
    "patient_cooc_odd_scores "
   ]
  },
  {
   "cell_type": "code",
   "execution_count": null,
   "metadata": {},
   "outputs": [],
   "source": [
    "# patient_dead_cooc_df\n",
    "print(patient_cooc_0)"
   ]
  },
  {
   "cell_type": "code",
   "execution_count": null,
   "metadata": {},
   "outputs": [],
   "source": [
    "print(patient_node_0)"
   ]
  },
  {
   "cell_type": "code",
   "execution_count": null,
   "metadata": {},
   "outputs": [],
   "source": [
    "# Check if all nodes has embeddings\n",
    "patient_node_set = set()\n",
    "patient_node_0_dict = {}\n",
    "patient_node_1_dict = {}\n",
    "    \n",
    "for k, v in patient_node_0.items():\n",
    "    for item in v:\n",
    "        patient_node_set.add(item)\n",
    "        \n",
    "        if item not in patient_node_0_dict:\n",
    "            patient_node_0_dict[item] = v[item]\n",
    "        else:\n",
    "            patient_node_0_dict[item] = patient_node_0_dict[item] + v[item]\n",
    "        \n",
    "    \n",
    "for k, v in patient_node_1.items():\n",
    "    for item in v:\n",
    "        patient_node_set.add(item)\n",
    "        \n",
    "        if item not in patient_node_1_dict:\n",
    "            patient_node_1_dict[item] = v[item]\n",
    "        else:\n",
    "            patient_node_1_dict[item] = patient_node_1_dict[item] + v[item]\n",
    "        \n"
   ]
  },
  {
   "cell_type": "code",
   "execution_count": null,
   "metadata": {},
   "outputs": [],
   "source": [
    "print(len(patient_node_set))\n",
    "print(len(patient_node_0_dict))\n",
    "print(len(patient_node_1_dict))"
   ]
  },
  {
   "cell_type": "code",
   "execution_count": null,
   "metadata": {},
   "outputs": [],
   "source": [
    "patient_node_odd_scores = {}\n",
    "\n",
    "for set_item in patient_node_set:\n",
    "    if set_item in patient_node_0_dict and set_item in patient_node_1_dict:\n",
    "        d_prob = patient_node_0_dict[set_item]/(patient_node_0_dict[set_item] + patient_node_1_dict[set_item])\n",
    "        a_prob = patient_node_1_dict[set_item]/(patient_node_0_dict[set_item] + patient_node_1_dict[set_item])\n",
    "        log_odd_score = math.log((a_prob + 0.001)/(d_prob+0.001))\n",
    "        patient_node_odd_scores[set_item] = log_odd_score\n",
    "    elif set_item in patient_node_0_dict:\n",
    "        log_odd_score = math.log((0.001)/(1.001))\n",
    "        patient_node_odd_scores[set_item] = log_odd_score\n",
    "    elif set_item in patient_node_1_dict:\n",
    "        log_odd_score = math.log((1.001)/(0.001))\n",
    "        patient_node_odd_scores[set_item] = log_odd_score"
   ]
  },
  {
   "cell_type": "code",
   "execution_count": null,
   "metadata": {
    "scrolled": true
   },
   "outputs": [],
   "source": [
    "print(patient_node_odd_scores)"
   ]
  },
  {
   "cell_type": "code",
   "execution_count": null,
   "metadata": {},
   "outputs": [],
   "source": [
    "patient_square_node_data = pd.DataFrame({'node':list(patient_node_odd_scores.keys()), 'feature':list(patient_node_odd_scores.values())})\n",
    "patient_square_node_data"
   ]
  },
  {
   "cell_type": "code",
   "execution_count": null,
   "metadata": {},
   "outputs": [],
   "source": [
    "patient_square_node_id_data = patient_square_node_data.set_index(\"node\")\n",
    "patient_square_node_id_data['subject'] = [\"positive\" if r['feature'] > 0 else \"negative\" for i, r in patient_square_node_id_data.iterrows()]\n",
    "patient_square_node_id_data"
   ]
  },
  {
   "cell_type": "code",
   "execution_count": null,
   "metadata": {},
   "outputs": [],
   "source": [
    "patient_subjects = patient_square_node_id_data[\"subject\"]\n",
    "patient_subjects"
   ]
  },
  {
   "cell_type": "code",
   "execution_count": null,
   "metadata": {},
   "outputs": [],
   "source": [
    "patient_square_node_data_no_feature = patient_square_node_id_data.drop(columns=[\"feature\",\"subject\"])\n",
    "patient_square_node_data_no_feature"
   ]
  },
  {
   "cell_type": "markdown",
   "metadata": {},
   "source": [
    "### Create a bi-directional df"
   ]
  },
  {
   "cell_type": "code",
   "execution_count": null,
   "metadata": {},
   "outputs": [],
   "source": [
    "# no edge weight\n",
    "bidirect_source = []\n",
    "bidirect_target = []\n",
    "\n",
    "for item in patient_cooc_odd_scores.keys():\n",
    "    bidirect_source.extend([item[0], item[1]])\n",
    "    bidirect_target.extend([item[1], item[0]])\n",
    "    \n",
    "print(f\"source: {len(bidirect_source)}, target: {len(bidirect_target)}\")\n",
    "\n",
    "patient_bidirect_square_edge_data = pd.DataFrame(\n",
    "    {\n",
    "        \"source\": bidirect_source,\n",
    "        \"target\": bidirect_target,\n",
    "#         \"weight\": weight,\n",
    "    })\n",
    "patient_bidirect_square_edge_data"
   ]
  },
  {
   "cell_type": "code",
   "execution_count": null,
   "metadata": {},
   "outputs": [],
   "source": [
    "from sklearn.manifold import TSNE\n",
    "from stellargraph.data import BiasedRandomWalk\n",
    "from stellargraph import StellarGraph\n",
    "from gensim.models import Word2Vec"
   ]
  },
  {
   "cell_type": "code",
   "execution_count": null,
   "metadata": {},
   "outputs": [],
   "source": [
    "# set all node features to 1\n",
    "# patient_square_node_data_no_feature['feature'] = [1] * len(patient_square_node_data_no_feature)"
   ]
  },
  {
   "cell_type": "code",
   "execution_count": null,
   "metadata": {},
   "outputs": [],
   "source": [
    "patient_square_node_data_no_feature"
   ]
  },
  {
   "cell_type": "code",
   "execution_count": null,
   "metadata": {},
   "outputs": [],
   "source": [
    "import pandas as pd\n",
    "import numpy as np\n",
    "\n",
    "import stellargraph as sg\n",
    "from stellargraph.mapper import PaddedGraphGenerator\n",
    "from stellargraph.layer import GCNSupervisedGraphClassification\n",
    "from stellargraph import StellarGraph\n",
    "\n",
    "from stellargraph import datasets\n",
    "\n",
    "from sklearn import model_selection\n",
    "from IPython.display import display, HTML\n",
    "\n",
    "from tensorflow.keras import Model\n",
    "from tensorflow.keras.optimizers import Adam\n",
    "from tensorflow.keras.layers import Dense\n",
    "from tensorflow.keras.losses import binary_crossentropy\n",
    "from tensorflow.keras.callbacks import EarlyStopping\n",
    "import tensorflow as tf\n",
    "import matplotlib.pyplot as plt"
   ]
  },
  {
   "cell_type": "markdown",
   "metadata": {},
   "source": [
    "### Load the data"
   ]
  },
  {
   "cell_type": "code",
   "execution_count": null,
   "metadata": {},
   "outputs": [],
   "source": [
    "for key in patient_cooc_0_dict.keys():\n",
    "    print(key)"
   ]
  },
  {
   "cell_type": "code",
   "execution_count": null,
   "metadata": {},
   "outputs": [],
   "source": [
    "print(patient_cooc_0)"
   ]
  },
  {
   "cell_type": "code",
   "execution_count": null,
   "metadata": {},
   "outputs": [],
   "source": [
    "from collections import defaultdict\n",
    "\n",
    "def create_graph_list(patient_cooc_dict, cooc_odd_scores, label):\n",
    "    \n",
    "    graphs = []\n",
    "    labels = []\n",
    "    \n",
    "    for key,row in patient_cooc_dict.items():\n",
    "     \n",
    "        if row:\n",
    "            source = []\n",
    "            target = []\n",
    "            edge_weight = []\n",
    "            \n",
    "            node_feature = []\n",
    "            node_idx = []\n",
    "            for cooc in row:\n",
    "                source.extend([cooc[0], cooc[1]])\n",
    "                target.extend([cooc[1], cooc[0]])\n",
    "                edge_weight.extend([cooc_odd_scores[cooc], cooc_odd_scores[cooc]])\n",
    "        \n",
    "            node_idx = list(set(source + target))\n",
    "    \n",
    "            # Create a dataframe of only nodes\n",
    "            square_node_data = pd.DataFrame(\n",
    "                index=node_idx)\n",
    "            \n",
    "            square_node_data['feature'] = [1] * len(node_idx)\n",
    "        \n",
    "#             # Create a dictionary for each column for a vector\n",
    "#             node_features = defaultdict(list)\n",
    "#             for node in node_idx:\n",
    "#                 for i, vec in enumerate(node_emb_dict[node]):\n",
    "#                     node_features['w_' + str(i)].append(vec)\n",
    "        \n",
    "#             # Add columns to a dataframe\n",
    "#             for k, v in node_features.items():\n",
    "              \n",
    "#                 square_node_data[k] = v\n",
    "\n",
    "            square_edges = pd.DataFrame({ \n",
    "                \"source\": source, \n",
    "                \"target\": target, \n",
    "#                 \"feature\":edge_weight\n",
    "            })\n",
    "        \n",
    "            square = StellarGraph({\"corner\": square_node_data}, {\"line\": square_edges})\n",
    "            graphs.append(square)\n",
    "            labels.append(label)\n",
    "            \n",
    "    return graphs, labels\n",
    "\n",
    "graphs = []\n",
    "labels = []\n",
    "\n",
    "# patient_weighted_node_emb_dict\n",
    "graph_0, label_0 = create_graph_list(patient_cooc_0, patient_cooc_odd_scores, -1)\n",
    "graph_1, label_1 = create_graph_list(patient_cooc_1, patient_cooc_odd_scores, 1)\n",
    "\n",
    "graphs.extend(graph_0)\n",
    "labels.extend(label_0)\n",
    "print(f\"graphs_0: {len(graphs)}, labels_0: {len(labels)}\")\n",
    "graphs.extend(graph_1)\n",
    "labels.extend(label_1)\n",
    "print(f\"graphs_1: {len(graph_1)}, labels_1: {len(label_1)}\")\n",
    "print(f\"graphs: {len(graphs)}, labels: {len(labels)}\")"
   ]
  },
  {
   "cell_type": "code",
   "execution_count": null,
   "metadata": {},
   "outputs": [],
   "source": [
    "# prepare test and train datasets\n",
    "test_cnt = int(len(graphs)*0.1)/2\n",
    "print(test_cnt)\n",
    "\n",
    "pos_start = len(graph_0)\n",
    "print(pos_start)\n",
    "\n",
    "test_arr = []\n",
    "train_arr = []\n",
    "for i, v in enumerate(graphs):\n",
    "    # Take first items for neg set\n",
    "    if i < test_cnt:\n",
    "        test_arr.append(i)    \n",
    "    elif i > pos_start and i <= pos_start + test_cnt:\n",
    "        test_arr.append(i)    \n",
    "    else:\n",
    "        train_arr.append(i)"
   ]
  },
  {
   "cell_type": "code",
   "execution_count": null,
   "metadata": {},
   "outputs": [],
   "source": [
    "import random\n",
    "seed = 42\n",
    "c = list(test_arr)\n",
    "random.Random(seed).shuffle(c)\n",
    "test_arr =  c"
   ]
  },
  {
   "cell_type": "code",
   "execution_count": null,
   "metadata": {},
   "outputs": [],
   "source": [
    "c = list(train_arr)\n",
    "random.Random(seed).shuffle(c)\n",
    "train_arr =  c"
   ]
  },
  {
   "cell_type": "code",
   "execution_count": null,
   "metadata": {},
   "outputs": [],
   "source": [
    "train_index = np.array(train_arr)\n",
    "test_index = np.array(test_arr)"
   ]
  },
  {
   "cell_type": "code",
   "execution_count": null,
   "metadata": {},
   "outputs": [],
   "source": [
    "print(len(test_index))\n",
    "print(test_index)"
   ]
  },
  {
   "cell_type": "code",
   "execution_count": null,
   "metadata": {},
   "outputs": [],
   "source": [
    "print(len(train_index))\n",
    "print(train_index)"
   ]
  },
  {
   "cell_type": "code",
   "execution_count": null,
   "metadata": {},
   "outputs": [],
   "source": []
  },
  {
   "cell_type": "code",
   "execution_count": null,
   "metadata": {},
   "outputs": [],
   "source": []
  },
  {
   "cell_type": "code",
   "execution_count": null,
   "metadata": {},
   "outputs": [],
   "source": []
  },
  {
   "cell_type": "code",
   "execution_count": null,
   "metadata": {},
   "outputs": [],
   "source": [
    "print(graphs[0].info())"
   ]
  },
  {
   "cell_type": "code",
   "execution_count": null,
   "metadata": {},
   "outputs": [],
   "source": [
    "print(graphs[100].info())"
   ]
  },
  {
   "cell_type": "code",
   "execution_count": null,
   "metadata": {},
   "outputs": [],
   "source": [
    "summary = pd.DataFrame(\n",
    "    [(g.number_of_nodes(), g.number_of_edges()) for g in graphs],\n",
    "    columns=[\"nodes\", \"edges\"],\n",
    ")\n",
    "summary.describe().round(1)"
   ]
  },
  {
   "cell_type": "code",
   "execution_count": null,
   "metadata": {},
   "outputs": [],
   "source": [
    "graph_labels = pd.Series(labels)"
   ]
  },
  {
   "cell_type": "code",
   "execution_count": null,
   "metadata": {},
   "outputs": [],
   "source": [
    "print(graph_labels)"
   ]
  },
  {
   "cell_type": "code",
   "execution_count": null,
   "metadata": {},
   "outputs": [],
   "source": [
    "graph_labels.value_counts().to_frame()"
   ]
  },
  {
   "cell_type": "code",
   "execution_count": null,
   "metadata": {},
   "outputs": [],
   "source": [
    "graph_labels = pd.get_dummies(graph_labels, drop_first=True)"
   ]
  },
  {
   "cell_type": "code",
   "execution_count": null,
   "metadata": {},
   "outputs": [],
   "source": [
    "print(type(graph_labels))"
   ]
  },
  {
   "cell_type": "code",
   "execution_count": null,
   "metadata": {},
   "outputs": [],
   "source": [
    "graph_labels"
   ]
  },
  {
   "cell_type": "code",
   "execution_count": null,
   "metadata": {},
   "outputs": [],
   "source": [
    "generator = PaddedGraphGenerator(graphs=graphs)"
   ]
  },
  {
   "cell_type": "code",
   "execution_count": null,
   "metadata": {},
   "outputs": [],
   "source": [
    "def create_graph_classification_model(generator):\n",
    "    gc_model = GCNSupervisedGraphClassification(\n",
    "        layer_sizes=[64, 64],\n",
    "        activations=[\"relu\", \"relu\"],\n",
    "        generator=generator,\n",
    "        dropout=0.5,\n",
    "    )\n",
    "    x_inp, x_out = gc_model.in_out_tensors()\n",
    "    predictions = Dense(units=32, activation=\"relu\")(x_out)\n",
    "    predictions = Dense(units=16, activation=\"relu\")(predictions)\n",
    "    predictions = Dense(units=1, activation=\"sigmoid\")(predictions)\n",
    "\n",
    "    # Let's create the Keras model and prepare it for training\n",
    "    model = Model(inputs=x_inp, outputs=predictions)\n",
    "    model.compile(optimizer=Adam(0.005), loss=binary_crossentropy, metrics=[\"acc\"])\n",
    "\n",
    "    return model"
   ]
  },
  {
   "cell_type": "code",
   "execution_count": null,
   "metadata": {},
   "outputs": [],
   "source": [
    "epochs = 200  # maximum number of training epochs\n",
    "# folds = 10  # the number of folds for k-fold cross validation\n",
    "# n_repeats = 5  # the number of repeats for repeated k-fold cross validation"
   ]
  },
  {
   "cell_type": "code",
   "execution_count": null,
   "metadata": {},
   "outputs": [],
   "source": [
    "es = EarlyStopping(\n",
    "    monitor=\"val_loss\", min_delta=0, patience=25, restore_best_weights=True\n",
    ")"
   ]
  },
  {
   "cell_type": "code",
   "execution_count": null,
   "metadata": {},
   "outputs": [],
   "source": [
    "def train_fold(model, train_gen, test_gen, es, epochs):\n",
    "    history = model.fit(\n",
    "        train_gen, epochs=epochs, validation_data=test_gen, verbose=0, callbacks=[es],\n",
    "    )\n",
    "    # calculate performance on the test data and return along with history\n",
    "    test_metrics = model.evaluate(test_gen, verbose=0)\n",
    "    test_acc = test_metrics[model.metrics_names.index(\"acc\")]\n",
    "\n",
    "    return history, test_acc"
   ]
  },
  {
   "cell_type": "code",
   "execution_count": null,
   "metadata": {},
   "outputs": [],
   "source": [
    "def get_generators(train_index, test_index, graph_labels, batch_size):\n",
    "    train_gen = generator.flow(\n",
    "        train_index, targets=graph_labels.iloc[train_index].values, weighted=False, batch_size=batch_size, shuffle=False, seed=42\n",
    "    )\n",
    "    test_gen = generator.flow(\n",
    "        test_index, targets=graph_labels.iloc[test_index].values, weighted=False, batch_size=batch_size, shuffle=False, seed=42\n",
    "    )\n",
    "\n",
    "    return train_gen, test_gen"
   ]
  },
  {
   "cell_type": "code",
   "execution_count": null,
   "metadata": {
    "scrolled": true
   },
   "outputs": [],
   "source": [
    "# To train in folds\n",
    "test_accs = []\n",
    "\n",
    "# stratified_folds = model_selection.RepeatedStratifiedKFold(\n",
    "#     n_splits=folds, n_repeats=n_repeats\n",
    "# ).split(graph_labels, graph_labels)\n",
    "\n",
    "# for i, (train_index, test_index) in enumerate(stratified_folds):\n",
    "for i in range(50):\n",
    "    print(f\"Training and evaluating on fold {i+1}...\")\n",
    "    \n",
    "    train_gen, test_gen = get_generators(\n",
    "        train_index, test_index, graph_labels, batch_size=30\n",
    "    )\n",
    "\n",
    "    model = create_graph_classification_model(generator)\n",
    "\n",
    "    history, acc = train_fold(model, train_gen, test_gen, es, epochs)\n",
    "\n",
    "    test_accs.append(acc)"
   ]
  },
  {
   "cell_type": "code",
   "execution_count": null,
   "metadata": {},
   "outputs": [],
   "source": [
    "print(\n",
    "    f\"Accuracy over all folds mean: {np.mean(test_accs)*100:.3}% and std: {np.std(test_accs)*100:.2}%\"\n",
    ")"
   ]
  },
  {
   "cell_type": "code",
   "execution_count": null,
   "metadata": {},
   "outputs": [],
   "source": [
    "plt.figure(figsize=(8, 6))\n",
    "plt.hist(test_accs)\n",
    "plt.xlabel(\"Accuracy\")\n",
    "plt.ylabel(\"Count\")"
   ]
  },
  {
   "cell_type": "code",
   "execution_count": null,
   "metadata": {},
   "outputs": [],
   "source": []
  },
  {
   "cell_type": "code",
   "execution_count": null,
   "metadata": {},
   "outputs": [],
   "source": []
  },
  {
   "cell_type": "code",
   "execution_count": null,
   "metadata": {},
   "outputs": [],
   "source": []
  },
  {
   "cell_type": "code",
   "execution_count": null,
   "metadata": {},
   "outputs": [],
   "source": []
  },
  {
   "cell_type": "code",
   "execution_count": 75,
   "metadata": {
    "scrolled": true
   },
   "outputs": [
    {
     "name": "stdout",
     "output_type": "stream",
     "text": [
      "\n",
      "train_index: \n",
      "[  0   1   2   3   4   5   6   7   8   9  10  11  13  14  15  17  18  19\n",
      "  20  21  22  24  25  26  27  28  29  30  31  32  33  34  35  36  37  38\n",
      "  39  40  41  42  44  45  46  47  48  50  51  52  53  54  55  57  58  59\n",
      "  60  62  63  64  65  66  67  69  70  71  72  73  74  75  76  77  78  79\n",
      "  80  81  82  83  84  85  86  87  88  89  90  91  92  94  95  96  98  99\n",
      " 100 101 102 103 104 105 106 107 108 109 110 111 113 114 115 116 117 118\n",
      " 119 120 121 122 123 124 125 126 128 129 131 132 133 134 135 137 138 139\n",
      " 140 141 142 143 146 147 148 149 150 151 152 153 154 155 156 157 158 159\n",
      " 160 161 162 163 164 165 166 167 168 169 170 171 172 173 174 175 176 177\n",
      " 178 179 180 181 182 183 184 187 189 190 191 192 193 194 195 197 198 199\n",
      " 200 201 202 203 205 206 207 208 209 210 211 213 214 215 216 217 218 219\n",
      " 221 222 223 224 225 226 227 230 231 232 233 234 235 236 237 239 240 241\n",
      " 242 243 244 245 246 247 248 249 251 252 254 255 256 257 258 259 260 261\n",
      " 262 264 265 266 267 268 269 270 271 272 274 276 277 278 279 280 281 283\n",
      " 285 286 287 288 289 290 291 293 294 295 296 297 298 299 300 301 302 303\n",
      " 304 305 306 308 309 310 311 312 313 314 316 317 318 320 321 322 323 324\n",
      " 325 326 327 328 329 330 331 332 333 334 335 336 337 338 339 340 341 342\n",
      " 343 344 345 346 347 350 352 353 354 356 357 358 359 360 361 362 363 364\n",
      " 365 366 367 368 369 370 371 372 373 374 375 376 377 380 381 382 383 384\n",
      " 385 386 387 388 389 391 392 393 394 395 396 397 398 399 400 401 402 403\n",
      " 404 405 406 407 408 409 410 411 412 413 414 415 416 417 418 419 420 421\n",
      " 422 423 424 425 426 427 428 429 430 431 432 433 434 435 436 437 438 440\n",
      " 441 442 443 444 445 446 447 448 450 451 452 453 454 455 456 457 458 459\n",
      " 460 461 462 463 464 466 467 468 469 470 471 472 473 474 475 476 477 478\n",
      " 479 480 481 482 483 484 486 487 488 489 490 493 496 497 498 499 500 501\n",
      " 502 503 504 505 506 507 508 509 510 511 512 513 514 515 516 517 518 519\n",
      " 520 521 522 523 524 525 527 528 529 530 531 532 534 535 536 537 538 539\n",
      " 540 542 543 545 546 547 548 549 550 551 552 553 554 555 556 557 558 559\n",
      " 560 561 562 563 564 565 566 567 568 570 571 572 573 574 575 576 577 579\n",
      " 580 581 582 583 584 585 586 587 588 589 590 591 592 593 594 596 597 599\n",
      " 600 601 602 603 606 607 608 609 610 611 612 613 614 616 617 618 619 621\n",
      " 622 623 624 625 626 627 628 629 630 631 632 633 634 635 636 637 638 639\n",
      " 640 641 642 643 645 646 647 648 650 651 652 653 654 655 656 657 659 660\n",
      " 661 662 663 664 665 666 667 668 669 670 671 672 673 674 675 676 678 679\n",
      " 680 681 682 683 684 685 686 687 688 689 690 691 692 693 694 696 697 698\n",
      " 699 700 701 702 703 704 705 706 708 709 710 711 712 713 714 715 716 717\n",
      " 718 719 720 721 722 723 724 725 726 727 728 729 731 732 733 735 736 737\n",
      " 738 739 740 742 743 745 746 747 748 749 750 751 753 754 755 756 757 759\n",
      " 760 761 763 764 765 766 767 768 769 770 771 772 773 775 776 778 779 780\n",
      " 781 782 783 784 785 786]\n",
      "test_index: \n",
      "[ 12  16  23  43  49  56  61  68  93  97 112 127 130 136 144 145 185 186\n",
      " 188 196 204 212 220 228 229 238 250 253 263 273 275 282 284 292 307 315\n",
      " 319 348 349 351 355 378 379 390 439 449 465 485 491 492 494 495 526 533\n",
      " 541 544 569 578 595 598 604 605 615 620 644 649 658 677 695 707 730 734\n",
      " 741 744 752 758 762 774 777]\n",
      "\n",
      "train: 708, test: 79\n"
     ]
    }
   ],
   "source": [
    "stratified_folds = model_selection.RepeatedStratifiedKFold(\n",
    "    n_splits=folds, n_repeats=n_repeats\n",
    ").split(graph_labels, graph_labels)\n",
    "\n",
    "for i, (train_index, test_index) in enumerate(stratified_folds):\n",
    "    print(f\"\\ntrain_index: \\n{train_index}\\ntest_index: \\n{test_index}\\n\")\n",
    "    break\n",
    "print(f\"train: {len(train_index)}, test: {len(test_index)}\")"
   ]
  },
  {
   "cell_type": "code",
   "execution_count": 76,
   "metadata": {},
   "outputs": [],
   "source": [
    "train_gen = generator.flow(\n",
    "        train_index, targets=graph_labels.iloc[train_index].values, batch_size=40)\n",
    "test_gen = generator.flow(\n",
    "    test_index, targets=graph_labels.iloc[test_index].values, batch_size=40)"
   ]
  },
  {
   "cell_type": "code",
   "execution_count": 77,
   "metadata": {
    "scrolled": true
   },
   "outputs": [
    {
     "name": "stdout",
     "output_type": "stream",
     "text": [
      "Epoch 1/200\n",
      "18/18 [==============================] - 2s 90ms/step - loss: 0.5532 - acc: 0.7867 - val_loss: 0.4870 - val_acc: 0.8101\n",
      "Epoch 2/200\n",
      "18/18 [==============================] - 1s 42ms/step - loss: 0.4829 - acc: 0.8164 - val_loss: 0.4885 - val_acc: 0.8101\n",
      "Epoch 3/200\n",
      "18/18 [==============================] - 1s 56ms/step - loss: 0.5325 - acc: 0.8164 - val_loss: 0.4863 - val_acc: 0.8101\n",
      "Epoch 4/200\n",
      "18/18 [==============================] - 1s 60ms/step - loss: 0.5270 - acc: 0.8164 - val_loss: 0.4979 - val_acc: 0.8101\n",
      "Epoch 5/200\n",
      "18/18 [==============================] - 1s 29ms/step - loss: 0.4848 - acc: 0.8164 - val_loss: 0.4868 - val_acc: 0.8101\n",
      "Epoch 6/200\n",
      "18/18 [==============================] - 0s 27ms/step - loss: 0.5229 - acc: 0.8164 - val_loss: 0.4867 - val_acc: 0.8101\n",
      "Epoch 7/200\n",
      "18/18 [==============================] - 1s 48ms/step - loss: 0.5111 - acc: 0.8164 - val_loss: 0.5054 - val_acc: 0.8101\n",
      "Epoch 8/200\n",
      "18/18 [==============================] - 1s 30ms/step - loss: 0.5053 - acc: 0.8164 - val_loss: 0.4888 - val_acc: 0.8101\n",
      "Epoch 9/200\n",
      "18/18 [==============================] - 1s 64ms/step - loss: 0.4970 - acc: 0.8164 - val_loss: 0.4867 - val_acc: 0.8101\n",
      "Epoch 10/200\n",
      "18/18 [==============================] - 1s 35ms/step - loss: 0.4832 - acc: 0.8164 - val_loss: 0.4945 - val_acc: 0.8101\n",
      "Epoch 11/200\n",
      "18/18 [==============================] - 1s 38ms/step - loss: 0.4885 - acc: 0.8164 - val_loss: 0.4889 - val_acc: 0.8101\n",
      "Epoch 12/200\n",
      "18/18 [==============================] - 1s 53ms/step - loss: 0.5186 - acc: 0.8164 - val_loss: 0.4860 - val_acc: 0.8101\n",
      "Epoch 13/200\n",
      "18/18 [==============================] - 1s 46ms/step - loss: 0.4766 - acc: 0.8164 - val_loss: 0.4938 - val_acc: 0.8101\n",
      "Epoch 14/200\n",
      "18/18 [==============================] - 1s 51ms/step - loss: 0.4900 - acc: 0.8164 - val_loss: 0.4964 - val_acc: 0.8101\n",
      "Epoch 15/200\n",
      "18/18 [==============================] - 1s 60ms/step - loss: 0.4922 - acc: 0.8164 - val_loss: 0.4894 - val_acc: 0.8101\n",
      "Epoch 16/200\n",
      "18/18 [==============================] - 1s 54ms/step - loss: 0.4799 - acc: 0.8164 - val_loss: 0.4867 - val_acc: 0.8101\n",
      "Epoch 17/200\n",
      "18/18 [==============================] - 1s 72ms/step - loss: 0.5089 - acc: 0.8164 - val_loss: 0.4868 - val_acc: 0.8101\n",
      "Epoch 18/200\n",
      "18/18 [==============================] - 1s 41ms/step - loss: 0.4839 - acc: 0.8164 - val_loss: 0.4859 - val_acc: 0.8101\n",
      "Epoch 19/200\n",
      "18/18 [==============================] - 1s 38ms/step - loss: 0.4907 - acc: 0.8164 - val_loss: 0.4859 - val_acc: 0.8101\n",
      "Epoch 20/200\n",
      "18/18 [==============================] - 1s 37ms/step - loss: 0.4812 - acc: 0.8164 - val_loss: 0.4874 - val_acc: 0.8101\n",
      "Epoch 21/200\n",
      "18/18 [==============================] - 0s 27ms/step - loss: 0.4898 - acc: 0.8164 - val_loss: 0.4919 - val_acc: 0.8101\n",
      "Epoch 22/200\n",
      "18/18 [==============================] - 1s 47ms/step - loss: 0.5145 - acc: 0.8164 - val_loss: 0.4885 - val_acc: 0.8101\n",
      "Epoch 23/200\n",
      "18/18 [==============================] - 1s 34ms/step - loss: 0.4867 - acc: 0.8164 - val_loss: 0.4892 - val_acc: 0.8101\n",
      "Epoch 24/200\n",
      "18/18 [==============================] - 1s 54ms/step - loss: 0.4837 - acc: 0.8164 - val_loss: 0.4884 - val_acc: 0.8101\n",
      "Epoch 25/200\n",
      "18/18 [==============================] - 1s 38ms/step - loss: 0.4995 - acc: 0.8164 - val_loss: 0.4922 - val_acc: 0.8101\n",
      "Epoch 26/200\n",
      "18/18 [==============================] - 0s 27ms/step - loss: 0.4968 - acc: 0.8164 - val_loss: 0.4860 - val_acc: 0.8101\n",
      "Epoch 27/200\n",
      "18/18 [==============================] - 1s 35ms/step - loss: 0.4871 - acc: 0.8164 - val_loss: 0.4902 - val_acc: 0.8101\n",
      "Epoch 28/200\n",
      "18/18 [==============================] - 0s 23ms/step - loss: 0.4965 - acc: 0.8164 - val_loss: 0.4862 - val_acc: 0.8101\n",
      "Epoch 29/200\n",
      "18/18 [==============================] - 1s 32ms/step - loss: 0.4932 - acc: 0.8164 - val_loss: 0.4918 - val_acc: 0.8101\n",
      "Epoch 30/200\n",
      "18/18 [==============================] - 1s 39ms/step - loss: 0.4881 - acc: 0.8164 - val_loss: 0.4907 - val_acc: 0.8101\n",
      "Epoch 31/200\n",
      "18/18 [==============================] - 0s 22ms/step - loss: 0.5097 - acc: 0.8164 - val_loss: 0.4863 - val_acc: 0.8101\n",
      "Epoch 32/200\n",
      "18/18 [==============================] - 1s 35ms/step - loss: 0.4764 - acc: 0.8164 - val_loss: 0.4877 - val_acc: 0.8101\n",
      "Epoch 33/200\n",
      "18/18 [==============================] - 0s 25ms/step - loss: 0.4882 - acc: 0.8164 - val_loss: 0.4895 - val_acc: 0.8101\n",
      "Epoch 34/200\n",
      "18/18 [==============================] - 1s 33ms/step - loss: 0.4928 - acc: 0.8164 - val_loss: 0.4923 - val_acc: 0.8101\n",
      "Epoch 35/200\n",
      "18/18 [==============================] - 1s 37ms/step - loss: 0.4854 - acc: 0.8164 - val_loss: 0.4859 - val_acc: 0.8101\n",
      "Epoch 36/200\n",
      "18/18 [==============================] - 0s 18ms/step - loss: 0.5063 - acc: 0.8164 - val_loss: 0.4894 - val_acc: 0.8101\n",
      "Epoch 37/200\n",
      "18/18 [==============================] - 0s 20ms/step - loss: 0.4854 - acc: 0.8164 - val_loss: 0.4868 - val_acc: 0.8101\n",
      "Epoch 38/200\n",
      "18/18 [==============================] - 0s 26ms/step - loss: 0.4830 - acc: 0.8164 - val_loss: 0.4864 - val_acc: 0.8101\n",
      "Epoch 39/200\n",
      "18/18 [==============================] - 1s 33ms/step - loss: 0.4855 - acc: 0.8164 - val_loss: 0.4859 - val_acc: 0.8101\n",
      "Epoch 40/200\n",
      "18/18 [==============================] - 0s 24ms/step - loss: 0.4842 - acc: 0.8164 - val_loss: 0.4862 - val_acc: 0.8101\n",
      "Epoch 41/200\n",
      "18/18 [==============================] - 1s 28ms/step - loss: 0.4972 - acc: 0.8164 - val_loss: 0.4910 - val_acc: 0.8101\n",
      "Epoch 42/200\n",
      "18/18 [==============================] - 0s 25ms/step - loss: 0.4844 - acc: 0.8164 - val_loss: 0.4868 - val_acc: 0.8101\n",
      "Epoch 43/200\n",
      "18/18 [==============================] - 0s 23ms/step - loss: 0.4766 - acc: 0.8164 - val_loss: 0.4860 - val_acc: 0.8101\n",
      "Epoch 44/200\n",
      "18/18 [==============================] - 1s 41ms/step - loss: 0.4995 - acc: 0.8164 - val_loss: 0.4880 - val_acc: 0.8101\n",
      "Epoch 45/200\n",
      "18/18 [==============================] - 1s 29ms/step - loss: 0.4819 - acc: 0.8164 - val_loss: 0.4862 - val_acc: 0.8101\n",
      "Epoch 46/200\n",
      "18/18 [==============================] - 1s 28ms/step - loss: 0.4776 - acc: 0.8164 - val_loss: 0.4886 - val_acc: 0.8101\n",
      "Epoch 47/200\n",
      "18/18 [==============================] - 1s 39ms/step - loss: 0.4930 - acc: 0.8164 - val_loss: 0.4925 - val_acc: 0.8101\n",
      "Epoch 48/200\n",
      "18/18 [==============================] - 1s 43ms/step - loss: 0.5235 - acc: 0.8164 - val_loss: 0.4862 - val_acc: 0.8101\n",
      "Epoch 49/200\n",
      "18/18 [==============================] - 1s 33ms/step - loss: 0.4892 - acc: 0.8164 - val_loss: 0.4916 - val_acc: 0.8101\n",
      "Epoch 50/200\n",
      "18/18 [==============================] - 1s 36ms/step - loss: 0.4838 - acc: 0.8164 - val_loss: 0.4880 - val_acc: 0.8101\n",
      "Epoch 51/200\n",
      "18/18 [==============================] - 0s 25ms/step - loss: 0.4883 - acc: 0.8164 - val_loss: 0.4874 - val_acc: 0.8101\n",
      "Epoch 52/200\n",
      "18/18 [==============================] - 1s 32ms/step - loss: 0.4801 - acc: 0.8164 - val_loss: 0.4869 - val_acc: 0.8101\n",
      "Epoch 53/200\n",
      "18/18 [==============================] - 1s 29ms/step - loss: 0.5003 - acc: 0.8164 - val_loss: 0.4861 - val_acc: 0.8101\n",
      "Epoch 54/200\n",
      "18/18 [==============================] - 1s 39ms/step - loss: 0.4867 - acc: 0.8164 - val_loss: 0.4895 - val_acc: 0.8101\n",
      "Epoch 55/200\n",
      "18/18 [==============================] - 1s 36ms/step - loss: 0.5031 - acc: 0.8164 - val_loss: 0.4862 - val_acc: 0.8101\n",
      "Epoch 56/200\n",
      "18/18 [==============================] - 1s 63ms/step - loss: 0.5014 - acc: 0.8164 - val_loss: 0.4946 - val_acc: 0.8101\n",
      "Epoch 57/200\n",
      "18/18 [==============================] - 1s 42ms/step - loss: 0.5099 - acc: 0.8164 - val_loss: 0.4861 - val_acc: 0.8101\n",
      "Epoch 58/200\n",
      "18/18 [==============================] - 0s 27ms/step - loss: 0.4808 - acc: 0.8164 - val_loss: 0.4889 - val_acc: 0.8101\n",
      "Epoch 59/200\n",
      "18/18 [==============================] - 1s 33ms/step - loss: 0.4802 - acc: 0.8164 - val_loss: 0.4896 - val_acc: 0.8101\n",
      "Epoch 60/200\n",
      "18/18 [==============================] - 1s 67ms/step - loss: 0.4930 - acc: 0.8164 - val_loss: 0.4861 - val_acc: 0.8101\n",
      "Epoch 61/200\n",
      "18/18 [==============================] - 1s 44ms/step - loss: 0.4911 - acc: 0.8164 - val_loss: 0.4863 - val_acc: 0.8101\n",
      "Epoch 62/200\n",
      "18/18 [==============================] - 1s 38ms/step - loss: 0.4778 - acc: 0.8164 - val_loss: 0.4862 - val_acc: 0.8101\n",
      "Epoch 63/200\n",
      "18/18 [==============================] - 1s 36ms/step - loss: 0.4899 - acc: 0.8164 - val_loss: 0.4908 - val_acc: 0.8101\n",
      "Epoch 64/200\n",
      "18/18 [==============================] - 1s 45ms/step - loss: 0.4807 - acc: 0.8164 - val_loss: 0.4874 - val_acc: 0.8101\n"
     ]
    }
   ],
   "source": [
    "model = create_graph_classification_model(generator)\n",
    "\n",
    "history = model.fit(\n",
    "        train_gen, epochs=200, validation_data=test_gen, verbose=1, callbacks=[es])"
   ]
  },
  {
   "cell_type": "code",
   "execution_count": 78,
   "metadata": {},
   "outputs": [
    {
     "name": "stdout",
     "output_type": "stream",
     "text": [
      "2/2 [==============================] - 0s 44ms/step - loss: 0.4859 - acc: 0.8101\n"
     ]
    }
   ],
   "source": [
    "# calculate performance on the test data and return along with history\n",
    "# Node features all 1, edge features all 1\n",
    "test_metrics = model.evaluate(test_gen, verbose=1)\n",
    "test_acc = test_metrics[model.metrics_names.index(\"acc\")]"
   ]
  },
  {
   "cell_type": "code",
   "execution_count": 79,
   "metadata": {
    "scrolled": true
   },
   "outputs": [
    {
     "name": "stdout",
     "output_type": "stream",
     "text": [
      "[0.4858948290348053, 0.8101266026496887]\n",
      "0.8101266026496887\n"
     ]
    }
   ],
   "source": [
    "# not_weighted\n",
    "print(test_metrics)\n",
    "#test loss, test acc: [0.22041305899620056, 0.8987341523170471]\n",
    "print(test_acc)"
   ]
  },
  {
   "cell_type": "code",
   "execution_count": 80,
   "metadata": {
    "scrolled": true
   },
   "outputs": [
    {
     "name": "stdout",
     "output_type": "stream",
     "text": [
      "Generate predictions for samples\n",
      "predictions shape: (79, 1)\n",
      "[[0.81250226]\n",
      " [0.8117547 ]\n",
      " [0.81187636]\n",
      " [0.8117547 ]\n",
      " [0.8122231 ]\n",
      " [0.8117547 ]\n",
      " [0.8117547 ]\n",
      " [0.8117547 ]\n",
      " [0.8117547 ]\n",
      " [0.8117547 ]\n",
      " [0.8117547 ]\n",
      " [0.8117547 ]\n",
      " [0.8117547 ]\n",
      " [0.8117547 ]\n",
      " [0.8117547 ]\n",
      " [0.8117547 ]\n",
      " [0.81233406]\n",
      " [0.8117547 ]\n",
      " [0.81234866]\n",
      " [0.8129203 ]\n",
      " [0.8117547 ]\n",
      " [0.81220996]\n",
      " [0.8117547 ]\n",
      " [0.8117547 ]\n",
      " [0.8117547 ]\n",
      " [0.8117547 ]\n",
      " [0.8117547 ]\n",
      " [0.81303495]\n",
      " [0.8117547 ]\n",
      " [0.8117547 ]\n",
      " [0.8117547 ]\n",
      " [0.8117547 ]\n",
      " [0.8127363 ]\n",
      " [0.8117547 ]\n",
      " [0.81250226]\n",
      " [0.8117547 ]\n",
      " [0.8117547 ]\n",
      " [0.8117547 ]\n",
      " [0.8117547 ]\n",
      " [0.8117547 ]\n",
      " [0.8117547 ]\n",
      " [0.8127363 ]\n",
      " [0.8120123 ]\n",
      " [0.8117547 ]\n",
      " [0.8117547 ]\n",
      " [0.81227463]\n",
      " [0.8120446 ]\n",
      " [0.8117547 ]\n",
      " [0.8117547 ]\n",
      " [0.8120123 ]\n",
      " [0.8117547 ]\n",
      " [0.8117547 ]\n",
      " [0.812592  ]\n",
      " [0.8127362 ]\n",
      " [0.8117547 ]\n",
      " [0.81220996]\n",
      " [0.8117547 ]\n",
      " [0.8117547 ]\n",
      " [0.8120445 ]\n",
      " [0.8117547 ]\n",
      " [0.8117547 ]\n",
      " [0.81239086]\n",
      " [0.8117547 ]\n",
      " [0.8117547 ]\n",
      " [0.8117547 ]\n",
      " [0.8117547 ]\n",
      " [0.8117547 ]\n",
      " [0.812592  ]\n",
      " [0.8117547 ]\n",
      " [0.812592  ]\n",
      " [0.8117547 ]\n",
      " [0.8117547 ]\n",
      " [0.8124162 ]\n",
      " [0.8117547 ]\n",
      " [0.8127362 ]\n",
      " [0.8127362 ]\n",
      " [0.81175476]\n",
      " [0.81175476]\n",
      " [0.81175476]]\n"
     ]
    }
   ],
   "source": [
    "print(\"Generate predictions for samples\")\n",
    "predictions = model.predict(test_gen, verbose=0)\n",
    "print(\"predictions shape:\", predictions.shape)\n",
    "# predictions shape: (79, 1)\n",
    "print(predictions)"
   ]
  },
  {
   "cell_type": "code",
   "execution_count": 81,
   "metadata": {
    "scrolled": true
   },
   "outputs": [
    {
     "name": "stdout",
     "output_type": "stream",
     "text": [
      "[[0]\n",
      " [0]\n",
      " [0]\n",
      " [0]\n",
      " [0]\n",
      " [0]\n",
      " [0]\n",
      " [0]\n",
      " [0]\n",
      " [0]\n",
      " [0]\n",
      " [0]\n",
      " [0]\n",
      " [0]\n",
      " [0]\n",
      " [1]\n",
      " [1]\n",
      " [1]\n",
      " [1]\n",
      " [1]\n",
      " [1]\n",
      " [1]\n",
      " [1]\n",
      " [1]\n",
      " [1]\n",
      " [1]\n",
      " [1]\n",
      " [1]\n",
      " [1]\n",
      " [1]\n",
      " [1]\n",
      " [1]\n",
      " [1]\n",
      " [1]\n",
      " [1]\n",
      " [1]\n",
      " [1]\n",
      " [1]\n",
      " [1]\n",
      " [1]\n",
      " [1]\n",
      " [1]\n",
      " [1]\n",
      " [1]\n",
      " [1]\n",
      " [1]\n",
      " [1]\n",
      " [1]\n",
      " [1]\n",
      " [1]\n",
      " [1]\n",
      " [1]\n",
      " [1]\n",
      " [1]\n",
      " [1]\n",
      " [1]\n",
      " [1]\n",
      " [1]\n",
      " [1]\n",
      " [1]\n",
      " [1]\n",
      " [1]\n",
      " [1]\n",
      " [1]\n",
      " [1]\n",
      " [1]\n",
      " [1]\n",
      " [1]\n",
      " [1]\n",
      " [1]\n",
      " [1]\n",
      " [1]\n",
      " [1]\n",
      " [1]\n",
      " [1]\n",
      " [1]\n",
      " [1]\n",
      " [1]\n",
      " [1]]\n"
     ]
    }
   ],
   "source": [
    "print(test_gen.targets)"
   ]
  }
 ],
 "metadata": {
  "kernelspec": {
   "display_name": "Python 3",
   "language": "python",
   "name": "python3"
  },
  "language_info": {
   "codemirror_mode": {
    "name": "ipython",
    "version": 3
   },
   "file_extension": ".py",
   "mimetype": "text/x-python",
   "name": "python",
   "nbconvert_exporter": "python",
   "pygments_lexer": "ipython3",
   "version": "3.7.6"
  }
 },
 "nbformat": 4,
 "nbformat_minor": 4
}
