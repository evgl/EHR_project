{
 "cells": [
  {
   "cell_type": "markdown",
   "metadata": {},
   "source": [
    "### Data extraction\n",
    "Extract data from MIMIC-III"
   ]
  },
  {
   "cell_type": "code",
   "execution_count": 1,
   "metadata": {
    "scrolled": true
   },
   "outputs": [
    {
     "data": {
      "text/html": [
       "        <script type=\"text/javascript\">\n",
       "        window.PlotlyConfig = {MathJaxConfig: 'local'};\n",
       "        if (window.MathJax) {MathJax.Hub.Config({SVG: {font: \"STIX-Web\"}});}\n",
       "        if (typeof require !== 'undefined') {\n",
       "        require.undef(\"plotly\");\n",
       "        requirejs.config({\n",
       "            paths: {\n",
       "                'plotly': ['https://cdn.plot.ly/plotly-latest.min']\n",
       "            }\n",
       "        });\n",
       "        require(['plotly'], function(Plotly) {\n",
       "            window._Plotly = Plotly;\n",
       "        });\n",
       "        }\n",
       "        </script>\n",
       "        "
      ]
     },
     "metadata": {},
     "output_type": "display_data"
    }
   ],
   "source": [
    "import time\n",
    "import numpy as np \n",
    "import pandas as pd\n",
    "import matplotlib.pyplot as plt\n",
    "import seaborn as sns\n",
    "from tqdm import tqdm\n",
    "import cufflinks\n",
    "\n",
    "cufflinks.go_offline()\n",
    "cufflinks.set_config_file(world_readable=True, theme='pearl')"
   ]
  },
  {
   "cell_type": "code",
   "execution_count": 2,
   "metadata": {},
   "outputs": [
    {
     "name": "stderr",
     "output_type": "stream",
     "text": [
      "/home/evan/anaconda3/lib/python3.7/site-packages/IPython/core/interactiveshell.py:3063: DtypeWarning:\n",
      "\n",
      "Columns (4,5) have mixed types.Specify dtype option on import or set low_memory=False.\n",
      "\n"
     ]
    },
    {
     "name": "stdout",
     "output_type": "stream",
     "text": [
      "34.18962740898132\n"
     ]
    }
   ],
   "source": [
    "# Import pandas \n",
    "import pandas as pd \n",
    "\n",
    "start = time.time()\n",
    "# reading csv file \n",
    "admissions_df = pd.read_csv(\"../../datasets/mmc-3/ADMISSIONS.csv\")\n",
    "noteevents_df = pd.read_csv(\"../../datasets/mmc-3/NOTEEVENTS.csv\") \n",
    "end = time.time()\n",
    "print(end - start)\n"
   ]
  },
  {
   "cell_type": "code",
   "execution_count": 3,
   "metadata": {},
   "outputs": [
    {
     "name": "stdout",
     "output_type": "stream",
     "text": [
      "5.816325664520264\n"
     ]
    }
   ],
   "source": [
    "start = time.time()\n",
    "# Left join of two dataframes\n",
    "note_admiss_df_left = noteevents_df.merge(admissions_df, on='HADM_ID', how='left', indicator=True)\n",
    "end = time.time()\n",
    "print(end - start)"
   ]
  },
  {
   "cell_type": "code",
   "execution_count": 4,
   "metadata": {
    "scrolled": false
   },
   "outputs": [
    {
     "data": {
      "text/html": [
       "<div>\n",
       "<style scoped>\n",
       "    .dataframe tbody tr th:only-of-type {\n",
       "        vertical-align: middle;\n",
       "    }\n",
       "\n",
       "    .dataframe tbody tr th {\n",
       "        vertical-align: top;\n",
       "    }\n",
       "\n",
       "    .dataframe thead th {\n",
       "        text-align: right;\n",
       "    }\n",
       "</style>\n",
       "<table border=\"1\" class=\"dataframe\">\n",
       "  <thead>\n",
       "    <tr style=\"text-align: right;\">\n",
       "      <th></th>\n",
       "      <th>DIAGNOSIS</th>\n",
       "      <th>SUBJECT_ID_x</th>\n",
       "      <th>SUBJECT_ID_y</th>\n",
       "      <th>DESCRIPTION</th>\n",
       "      <th>CATEGORY</th>\n",
       "    </tr>\n",
       "  </thead>\n",
       "  <tbody>\n",
       "    <tr>\n",
       "      <th>0</th>\n",
       "      <td>RT LOWER LOBE PNEUMONIA</td>\n",
       "      <td>22532</td>\n",
       "      <td>22532.0</td>\n",
       "      <td>Report</td>\n",
       "      <td>Discharge summary</td>\n",
       "    </tr>\n",
       "    <tr>\n",
       "      <th>1</th>\n",
       "      <td>CHRONIC OBSTRUCTIVE PULMONARY DISEASE</td>\n",
       "      <td>13702</td>\n",
       "      <td>13702.0</td>\n",
       "      <td>Report</td>\n",
       "      <td>Discharge summary</td>\n",
       "    </tr>\n",
       "    <tr>\n",
       "      <th>2</th>\n",
       "      <td>TRACHEALBRONCHEAL MALACEA/SDA</td>\n",
       "      <td>13702</td>\n",
       "      <td>13702.0</td>\n",
       "      <td>Report</td>\n",
       "      <td>Discharge summary</td>\n",
       "    </tr>\n",
       "    <tr>\n",
       "      <th>3</th>\n",
       "      <td>ASTHMA;COPD EXACERBATION</td>\n",
       "      <td>13702</td>\n",
       "      <td>13702.0</td>\n",
       "      <td>Report</td>\n",
       "      <td>Discharge summary</td>\n",
       "    </tr>\n",
       "    <tr>\n",
       "      <th>4</th>\n",
       "      <td>S/P FALL;TELEMETRY</td>\n",
       "      <td>26880</td>\n",
       "      <td>26880.0</td>\n",
       "      <td>Report</td>\n",
       "      <td>Discharge summary</td>\n",
       "    </tr>\n",
       "    <tr>\n",
       "      <th>...</th>\n",
       "      <td>...</td>\n",
       "      <td>...</td>\n",
       "      <td>...</td>\n",
       "      <td>...</td>\n",
       "      <td>...</td>\n",
       "    </tr>\n",
       "    <tr>\n",
       "      <th>2083175</th>\n",
       "      <td>NEWBORN</td>\n",
       "      <td>31097</td>\n",
       "      <td>31097.0</td>\n",
       "      <td>Report</td>\n",
       "      <td>Nursing/other</td>\n",
       "    </tr>\n",
       "    <tr>\n",
       "      <th>2083176</th>\n",
       "      <td>NEWBORN</td>\n",
       "      <td>31097</td>\n",
       "      <td>31097.0</td>\n",
       "      <td>Report</td>\n",
       "      <td>Nursing/other</td>\n",
       "    </tr>\n",
       "    <tr>\n",
       "      <th>2083177</th>\n",
       "      <td>NEWBORN</td>\n",
       "      <td>31097</td>\n",
       "      <td>31097.0</td>\n",
       "      <td>Report</td>\n",
       "      <td>Nursing/other</td>\n",
       "    </tr>\n",
       "    <tr>\n",
       "      <th>2083178</th>\n",
       "      <td>NEWBORN</td>\n",
       "      <td>31097</td>\n",
       "      <td>31097.0</td>\n",
       "      <td>Report</td>\n",
       "      <td>Nursing/other</td>\n",
       "    </tr>\n",
       "    <tr>\n",
       "      <th>2083179</th>\n",
       "      <td>NEWBORN</td>\n",
       "      <td>31097</td>\n",
       "      <td>31097.0</td>\n",
       "      <td>Report</td>\n",
       "      <td>Nursing/other</td>\n",
       "    </tr>\n",
       "  </tbody>\n",
       "</table>\n",
       "<p>2083180 rows × 5 columns</p>\n",
       "</div>"
      ],
      "text/plain": [
       "                                     DIAGNOSIS  SUBJECT_ID_x  SUBJECT_ID_y  \\\n",
       "0                      RT LOWER LOBE PNEUMONIA         22532       22532.0   \n",
       "1        CHRONIC OBSTRUCTIVE PULMONARY DISEASE         13702       13702.0   \n",
       "2                TRACHEALBRONCHEAL MALACEA/SDA         13702       13702.0   \n",
       "3                     ASTHMA;COPD EXACERBATION         13702       13702.0   \n",
       "4                           S/P FALL;TELEMETRY         26880       26880.0   \n",
       "...                                        ...           ...           ...   \n",
       "2083175                                NEWBORN         31097       31097.0   \n",
       "2083176                                NEWBORN         31097       31097.0   \n",
       "2083177                                NEWBORN         31097       31097.0   \n",
       "2083178                                NEWBORN         31097       31097.0   \n",
       "2083179                                NEWBORN         31097       31097.0   \n",
       "\n",
       "        DESCRIPTION           CATEGORY  \n",
       "0            Report  Discharge summary  \n",
       "1            Report  Discharge summary  \n",
       "2            Report  Discharge summary  \n",
       "3            Report  Discharge summary  \n",
       "4            Report  Discharge summary  \n",
       "...             ...                ...  \n",
       "2083175      Report      Nursing/other  \n",
       "2083176      Report      Nursing/other  \n",
       "2083177      Report      Nursing/other  \n",
       "2083178      Report      Nursing/other  \n",
       "2083179      Report      Nursing/other  \n",
       "\n",
       "[2083180 rows x 5 columns]"
      ]
     },
     "execution_count": 4,
     "metadata": {},
     "output_type": "execute_result"
    }
   ],
   "source": [
    "note_admiss_df_left[['DIAGNOSIS', 'SUBJECT_ID_x', 'SUBJECT_ID_y','DESCRIPTION', 'CATEGORY']]"
   ]
  },
  {
   "cell_type": "code",
   "execution_count": 5,
   "metadata": {
    "scrolled": true
   },
   "outputs": [],
   "source": [
    "pneumonia_df = note_admiss_df_left.loc[note_admiss_df_left[\"DIAGNOSIS\"] == 'PNEUMONIA', ['ROW_ID_x', 'SUBJECT_ID_x', 'HADM_ID', 'CHARTDATE', 'CHARTTIME', 'STORETIME', 'CATEGORY', 'DESCRIPTION', 'CGID', 'ISERROR', 'TEXT', 'ADMITTIME', 'DISCHTIME', 'DEATHTIME', 'ADMISSION_TYPE', 'DIAGNOSIS', 'HAS_CHARTEVENTS_DATA']]"
   ]
  },
  {
   "cell_type": "code",
   "execution_count": 6,
   "metadata": {},
   "outputs": [],
   "source": [
    "#pneumonia_no_disch_df = pneumonia_df.loc[pneumonia_df[\"CATEGORY\"] != 'Discharge summary', ['ROW_ID_x', 'SUBJECT_ID_x', 'HADM_ID', 'CHARTDATE', 'CHARTTIME', 'STORETIME', 'CATEGORY', 'DESCRIPTION', 'CGID', 'ISERROR', 'TEXT', 'ADMITTIME', 'DISCHTIME', 'DEATHTIME', 'ADMISSION_TYPE', 'DIAGNOSIS', 'HAS_CHARTEVENTS_DATA']]\n",
    "pneumonia_no_disch_df = pneumonia_df.loc[pneumonia_df[\"CATEGORY\"] != 'Discharge summary', ['ROW_ID_x','SUBJECT_ID_x','CHARTDATE','STORETIME','CATEGORY','DESCRIPTION','TEXT', 'DEATHTIME']]"
   ]
  },
  {
   "cell_type": "code",
   "execution_count": 7,
   "metadata": {},
   "outputs": [],
   "source": [
    "pneumonia_alive_no_disch = pneumonia_no_disch_df[pneumonia_no_disch_df.DEATHTIME.isnull()]\n",
    "pneumonia_dead_no_disch = pneumonia_no_disch_df[pneumonia_no_disch_df.DEATHTIME.notnull()]"
   ]
  },
  {
   "cell_type": "code",
   "execution_count": 8,
   "metadata": {},
   "outputs": [
    {
     "data": {
      "text/plain": [
       "(11895, 8)"
      ]
     },
     "execution_count": 8,
     "metadata": {},
     "output_type": "execute_result"
    }
   ],
   "source": [
    "pneumonia_dead_no_disch.shape"
   ]
  },
  {
   "cell_type": "code",
   "execution_count": 9,
   "metadata": {},
   "outputs": [
    {
     "data": {
      "text/plain": [
       "(46134, 8)"
      ]
     },
     "execution_count": 9,
     "metadata": {},
     "output_type": "execute_result"
    }
   ],
   "source": [
    "pneumonia_alive_no_disch.shape"
   ]
  },
  {
   "cell_type": "code",
   "execution_count": 10,
   "metadata": {},
   "outputs": [],
   "source": [
    "pneumonia_alive_no_disch = pneumonia_alive_no_disch.sort_values(by=['SUBJECT_ID_x','CHARTDATE', 'ROW_ID_x'])\n",
    "pneumonia_dead_no_disch = pneumonia_dead_no_disch.sort_values(by=['SUBJECT_ID_x','CHARTDATE', 'ROW_ID_x'])"
   ]
  },
  {
   "cell_type": "code",
   "execution_count": 11,
   "metadata": {},
   "outputs": [
    {
     "data": {
      "text/plain": [
       "252"
      ]
     },
     "execution_count": 11,
     "metadata": {},
     "output_type": "execute_result"
    }
   ],
   "source": [
    "# Number of patients\n",
    "pneumonia_dead_no_disch['SUBJECT_ID_x'].nunique()"
   ]
  },
  {
   "cell_type": "code",
   "execution_count": 12,
   "metadata": {
    "scrolled": true
   },
   "outputs": [
    {
     "data": {
      "text/plain": [
       "1167"
      ]
     },
     "execution_count": 12,
     "metadata": {},
     "output_type": "execute_result"
    }
   ],
   "source": [
    "# Number of patients\n",
    "pneumonia_alive_no_disch['SUBJECT_ID_x'].nunique()"
   ]
  },
  {
   "cell_type": "code",
   "execution_count": 13,
   "metadata": {},
   "outputs": [],
   "source": [
    "# import text handling tool\n",
    "from nltk.tokenize import word_tokenize\n",
    "from nltk.corpus import stopwords\n",
    "from nltk.stem import PorterStemmer\n",
    "\n",
    "from collections import Counter\n",
    "\n",
    "import sys\n",
    "import re\n",
    "import csv\n",
    "import os.path\n",
    "\n",
    "# define constants\n",
    "# RESULT_HEADER = \"WORD, FREQUENCY\\n\"\n",
    "MIN_SEQ_LEN = 4\n",
    "USE_1_N_SEQ = 2\n",
    "\n",
    "\n",
    "# words that do not have meaning (can be modified later)\n",
    "USELESS_WORDS = [\"a\", \"the\", \"he\", \"she\", \",\", \".\", \"?\", \"!\", \":\", \";\", \"+\", \"*\", \"**\"\\\n",
    "                 \"your\", \"you\"]\n",
    "\n",
    "# count up the frequency of every word in every disease file\n",
    "stemmer = PorterStemmer()\n",
    "# create set of words to ignore in text\n",
    "stop_words = set(stopwords.words('english'))\n",
    "\n",
    "for word in USELESS_WORDS:\n",
    "    stop_words.add(word)"
   ]
  },
  {
   "cell_type": "code",
   "execution_count": 14,
   "metadata": {},
   "outputs": [
    {
     "name": "stderr",
     "output_type": "stream",
     "text": [
      "100%|██████████| 11895/11895 [00:01<00:00, 9571.50it/s]\n",
      "100%|██████████| 46134/46134 [00:04<00:00, 9485.36it/s]\n"
     ]
    }
   ],
   "source": [
    "\n",
    "#----------\n",
    "def count_notes_per_patient(disease_df):\n",
    "    patient_id_to_num_notes = {}\n",
    "    patient_id = -1\n",
    "    note_counter = 0\n",
    "            \n",
    "    for index, row in tqdm(disease_df.iterrows(), total=disease_df.shape[0]):\n",
    "        patient_id_check = int(row['SUBJECT_ID_x'])\n",
    "                \n",
    "        if not patient_id == patient_id_check:\n",
    "            patient_id_to_num_notes[patient_id] = note_counter\n",
    "            note_counter = 1\n",
    "        else:\n",
    "            note_counter += 1\n",
    "                    \n",
    "        patient_id = patient_id_check\n",
    "                \n",
    "    patient_id_to_num_notes[patient_id] = note_counter\n",
    "    del patient_id_to_num_notes[-1]\n",
    "    return patient_id_to_num_notes\n",
    "\n",
    "patient_id_to_num_notes = {}\n",
    "patient_id_to_num_notes['pneumonia_dead'] = count_notes_per_patient(pneumonia_dead_no_disch)\n",
    "patient_id_to_num_notes['pneumonia_alive'] = count_notes_per_patient(pneumonia_alive_no_disch)"
   ]
  },
  {
   "cell_type": "code",
   "execution_count": 15,
   "metadata": {},
   "outputs": [
    {
     "name": "stderr",
     "output_type": "stream",
     "text": [
      "100%|██████████| 11895/11895 [00:45<00:00, 261.19it/s]\n",
      "  0%|          | 17/46134 [00:00<04:34, 168.28it/s]"
     ]
    },
    {
     "name": "stdout",
     "output_type": "stream",
     "text": [
      "5989 note events\n",
      "finished counting frequent words for patients!\n"
     ]
    },
    {
     "name": "stderr",
     "output_type": "stream",
     "text": [
      "100%|██████████| 46134/46134 [02:54<00:00, 263.63it/s]"
     ]
    },
    {
     "name": "stdout",
     "output_type": "stream",
     "text": [
      "23172 note events\n",
      "finished counting frequent words for patients!\n"
     ]
    },
    {
     "name": "stderr",
     "output_type": "stream",
     "text": [
      "\n"
     ]
    }
   ],
   "source": [
    "def count_words_per_patient(disease_df, patient_id_to_num_notes):\n",
    "    note_appearance_counter = {}\n",
    "    number_of_patients = 0 # number of patients\n",
    "    note_counter = 0\n",
    "\n",
    "# -----------\n",
    "    patient_id = -1\n",
    "    word_set = set()\n",
    "    note_event_counter = 0\n",
    "\n",
    "    # Iterate through each note\n",
    "    for index, row in tqdm(disease_df.iterrows(), total=disease_df.shape[0]):\n",
    "\n",
    "        \n",
    "        patient_id_check = int(row['SUBJECT_ID_x'])\n",
    "    \n",
    "        # if patient id has changed, end sequence and start new sequence\n",
    "        if not patient_id == patient_id_check:\n",
    "            number_of_patients += 1\n",
    "            note_event_counter = 0\n",
    "        \n",
    "            for word in word_set:\n",
    "                if word in note_appearance_counter:\n",
    "                    note_appearance_counter[word] += 1\n",
    "                else:\n",
    "                    note_appearance_counter[word] = 1\n",
    "\n",
    "        \n",
    "            # reset word_set\n",
    "            word_set = set()\n",
    "        \n",
    "        # update patient id\n",
    "        patient_id = patient_id_check\n",
    "\n",
    "            \n",
    "        if patient_id_to_num_notes[patient_id_check] <= MIN_SEQ_LEN:\n",
    "            continue\n",
    "            \n",
    "        if note_event_counter < patient_id_to_num_notes[patient_id] // USE_1_N_SEQ:\n",
    "            note_event_counter += 1\n",
    "            continue\n",
    "                \n",
    "        note_counter += 1\n",
    "        note = re.sub(r'\\[\\*\\*(.*?)\\*\\*\\]|[_,\\d\\*:~=\\.\\-\\+\\\\/]+', ' ', row['TEXT'])\n",
    "        tokenized_note = word_tokenize(note)\n",
    "        \n",
    "        \n",
    "        for word in tokenized_note:\n",
    "            stemmed_word = stemmer.stem(word.lower())\n",
    "            if not stemmed_word in stop_words:\n",
    "                word_set.add(stemmed_word)\n",
    "    \n",
    "    print(str(note_counter) + \" note events\")\n",
    "    print(\"finished counting frequent words for patients!\")\n",
    "#     return note_counter, note_appearance_counter\n",
    "    return number_of_patients, note_appearance_counter\n",
    "\n",
    "# variable dictionaries\n",
    "number_of_notes = {}\n",
    "note_appearance_counter = {}\n",
    "\n",
    "number_of_notes['pneumonia_dead'], note_appearance_counter['pneumonia_dead'] = count_words_per_patient(pneumonia_dead_no_disch, patient_id_to_num_notes['pneumonia_dead'])\n",
    "number_of_notes['pneumonia_alive'], note_appearance_counter['pneumonia_alive'] = count_words_per_patient(pneumonia_alive_no_disch, patient_id_to_num_notes['pneumonia_alive'])"
   ]
  },
  {
   "cell_type": "code",
   "execution_count": 16,
   "metadata": {},
   "outputs": [],
   "source": [
    "# # get hyper-paramters n_fold and threshold from user input\n",
    "n_fold = float(3)\n",
    "threshold = float(0.01)\n",
    "\n",
    "frequent_word_lists = {}\n",
    "factor = {}"
   ]
  },
  {
   "cell_type": "code",
   "execution_count": 17,
   "metadata": {},
   "outputs": [
    {
     "name": "stdout",
     "output_type": "stream",
     "text": [
      "pneumonia_dead has 11678 unique words!\n",
      "pneumonia_alive has 22572 unique words!\n",
      "finished making frequent words list for pneumonia_alive\n"
     ]
    }
   ],
   "source": [
    "\"\"\"function description:\n",
    "for each disease in note_appearance_counter\n",
    "    1. checks whether a word in disease file is frequent(frequency standard as defined by factor, n_fold, and threshold)\n",
    "    2. adds to frequent_word_list\n",
    "\"\"\"\n",
    "\n",
    "# def find_frequent_word(note_appearance_counter, frequent_word_lists, number_of_notes, factor, n_fold, threshold):\n",
    "\n",
    "# calculate normalizing factor for each disease\n",
    "note_sum = 0\n",
    "\n",
    "# Count from two labels\n",
    "for disease in number_of_notes:\n",
    "    note_sum += float(number_of_notes[disease])\n",
    "    \n",
    "for disease in number_of_notes:\n",
    "    factor[disease] = number_of_notes[disease] / note_sum\n",
    "\n",
    "# determine frequent word for each disease file\n",
    "for disease in note_appearance_counter:\n",
    "    frequent_word_lists[disease] = []\n",
    "\n",
    "    print(disease + \" has \" + str(len(note_appearance_counter[disease])) + \" unique words!\")\n",
    "\n",
    "    for word in note_appearance_counter[disease]:\n",
    "        \n",
    "        freq_check = True\n",
    "        for check_disease in note_appearance_counter:\n",
    "            \n",
    "            if not disease == check_disease:\n",
    "                if word in note_appearance_counter[check_disease]:\n",
    "                    if not (note_appearance_counter[disease][word] / note_appearance_counter[check_disease][word] / factor[disease] * factor[check_disease] > n_fold \\\n",
    "                        and note_appearance_counter[disease][word] > (number_of_notes[disease] * threshold)):\n",
    "\n",
    "                        freq_check = False\n",
    "                        break\n",
    "\n",
    "                else:\n",
    "                    if not (note_appearance_counter[disease][word] > n_fold and note_appearance_counter[disease][word] > (number_of_notes[disease] * threshold)):\n",
    "                        freq_check = False\n",
    "                        break\n",
    "        if freq_check:\n",
    "            frequent_word_lists[disease].append((word))\n",
    "            # Create a tuple of word and its count\n",
    "#             frequent_word_lists[disease].append((word, note_appearance_counter[disease][word]))\n",
    "\n",
    "        \n",
    "\n",
    "print(\"finished making frequent words list for \" + disease)"
   ]
  },
  {
   "cell_type": "code",
   "execution_count": 18,
   "metadata": {},
   "outputs": [
    {
     "name": "stdout",
     "output_type": "stream",
     "text": [
      "454\n",
      "329\n"
     ]
    }
   ],
   "source": [
    "print(len(frequent_word_lists['pneumonia_dead']))\n",
    "print(len(frequent_word_lists['pneumonia_alive']))"
   ]
  },
  {
   "cell_type": "markdown",
   "metadata": {},
   "source": [
    "### 2. Co-occurrence generation"
   ]
  },
  {
   "cell_type": "code",
   "execution_count": 19,
   "metadata": {},
   "outputs": [
    {
     "name": "stdout",
     "output_type": "stream",
     "text": [
      "783\n",
      "783\n"
     ]
    }
   ],
   "source": [
    "FREQUENT_WORD_LIST = frequent_word_lists['pneumonia_dead'] + frequent_word_lists['pneumonia_alive']\n",
    "print(len(FREQUENT_WORD_LIST))\n",
    "print(len(set(FREQUENT_WORD_LIST)))"
   ]
  },
  {
   "cell_type": "code",
   "execution_count": 20,
   "metadata": {
    "scrolled": true
   },
   "outputs": [
    {
     "name": "stdout",
     "output_type": "stream",
     "text": [
      "\n",
      "word dictionary created! Length: 783\n",
      "\n",
      "{'anur': 1, 'paralyt': 2, 'park': 3, 'norepinephrin': 4, 'dic': 5, 'arrang': 6, 'profound': 7, 'refractori': 8, 'phenylephrin': 9, 'acidem': 10, 'suffer': 11, 'cremat': 12, 'hypercapnia': 13, 'clergi': 14, 'funer': 15, 'mottl': 16, 'unrespon': 17, 'bicarbon': 18, 'death': 19, 'elig': 20, 'recruit': 21, 'hypothermia': 22, 'pcv': 23, 'azotemia': 24, 'expir': 25, 'pea': 26, 'autopeep': 27, 'vasopressin': 28, 'cpr': 29, 'clinician': 30, 'arrest': 31, 'hypercapn': 32, 'nonpurpo': 33, 'dk': 34, 'sluggish': 35, 'dni': 36, 'pinpoint': 37, 'nacl': 38, 'lubric': 39, 'virtual': 40, 'slough': 41, 'gum': 42, 'cmo': 43, 'dnr': 44, 'oder': 45, 'float': 46, 'levoph': 47, 'mso': 48, 'clariti': 49, 'wish': 50, 'bow': 51, 'viabl': 52, 'grim': 53, 'option': 54, 'prognosi': 55, 'purpl': 56, 'suport': 57, 'priest': 58, 'institut': 59, 'gather': 60, 'antb': 61, 'dead': 62, 'pronounc': 63, 'hypot': 64, 'dd': 65, 'peerla': 66, 'remin': 67, 'respon': 68, 'depth': 69, 'centimet': 70, 'mortem': 71, 'agreement': 72, 'mad': 73, 'asystol': 74, 'life': 75, 'bye': 76, 'acv': 77, 'aprv': 78, 'synch': 79, 'hover': 80, 'mgx': 81, 'peac': 82, 'duski': 83, 'cathol': 84, 'ppn': 85, 'througout': 86, 'chaplain': 87, 'surviv': 88, 'sync': 89, 'moniotr': 90, 'nrbm': 91, 'deliv': 92, 'deterior': 93, 'pfr': 94, 'agon': 95, 'vasopressor': 96, 'hemothorax': 97, 'corneal': 98, 'acidot': 99, 'cvvhd': 100, 'vtach': 101, 'neosynephrin': 102, 'rusti': 103, 'pulseless': 104, 'suppport': 105, 'mortum': 106, 'defibril': 107, 'cvvhdf': 108, 'crrt': 109, 'seriou': 110, 'cvvh': 111, 'jerk': 112, 'quiac': 113, 'ethic': 114, 'declin': 115, 'pray': 116, 'among': 117, 'cyanot': 118, 'gratitud': 119, 'towel': 120, 'hypotherm': 121, 'multisystem': 122, 'unequ': 123, 'spiritu': 124, 'mtg': 125, 'rewir': 126, 'bair': 127, 'cagluc': 128, 'cooler': 129, 'pitressin': 130, 'brb': 131, 'elimin': 132, 'uffp': 133, 'lw': 134, 'scl': 135, 'levof': 136, 'lc': 137, 'ultrafiltr': 138, 'quinton': 139, 'ffp': 140, 'hugger': 141, 'maroon': 142, 'neo': 143, 'ran': 144, 'polymorph': 145, 'bairhugg': 146, 'bond': 147, 'erythro': 148, 'syre': 149, 'triadyn': 150, 'absorb': 151, 'circuit': 152, 'warmer': 153, 'promod': 154, 'ashen': 155, 'paco': 156, 'discard': 157, 'asynchron': 158, 'chane': 159, 'motil': 160, 'rabbi': 161, 'discoordin': 162, 'morgu': 163, 'bank': 164, 'norepi': 165, 'zero': 166, 'town': 167, 'autopsi': 168, 'escal': 169, 'nahco': 170, 'sml': 171, \"tf'ing\": 172, 'prayer': 173, 'rediscuss': 174, 'unstabl': 175, 'gc': 176, 'hunger': 177, 'edt': 178, '^rr': 179, 'mind': 180, 'polici': 181, 'dopamin': 182, 'hung': 183, 'intiat': 184, 'tacycard': 185, 'canton': 186, 'moan': 187, 'palli': 188, 'ozz': 189, 'overlay': 190, 'acc': 191, 'fliud': 192, 'readdress': 193, 'artifici': 194, 'underneath': 195, 'gurgl': 196, 'inclu': 197, 'judgement': 198, 'broader': 199, 'recalibr': 200, 'anuria': 201, 'dobutamin': 202, 'proph': 203, 'platelet': 204, 'oncologist': 205, 'platlet': 206, 'adenosin': 207, 'hospic': 208, 'quadrent': 209, 'influenc': 210, 'pheresi': 211, 'cellcept': 212, 'surgicel': 213, 'oligur': 214, 'core': 215, 'hepati': 216, 'psup': 217, 'anyway': 218, 'gvhd': 219, 'cardiovert': 220, 'kerlix': 221, 'nephrolog': 222, 'griev': 223, 'sorb': 224, 'gut': 225, 'extremitiy': 226, 'fc': 227, 'fentenyl': 228, 'fungemia': 229, 'oximetri': 230, 'snt': 231, 'grimmac': 232, 'caspofungin': 233, 'twitch': 234, 'barotrauma': 235, 'cisatracurium': 236, 'chemic': 237, 'ettub': 238, 'pose': 239, 'hiccup': 240, 'wether': 241, 'preme': 242, 'repson': 243, 'fentani': 244, 'sacrament': 245, 'rescan': 246, 'crt': 247, 'conc': 248, 'postpylor': 249, 'nephrogram': 250, 'plat': 251, 'liw': 252, 'lcw': 253, 'nonreact': 254, 'mail': 255, 'chb': 256, 'grave': 257, 'heroic': 258, 'awhil': 259, 'nonrebreath': 260, 'pleuravac': 261, 'occupi': 262, 'reappear': 263, 'ultra': 264, 'struggl': 265, 'familt': 266, 'propo': 267, 'opinion': 268, 'palliat': 269, 'reveiw': 270, 'gentamycin': 271, 'criticar': 272, 'icter': 273, 'resucit': 274, 'pplat': 275, 'cvo': 276, 'wma': 277, 'preoxygen': 278, 'ardsnet': 279, 'fibrinogen': 280, 'mean': 281, 'amongst': 282, 'themselv': 283, 'abruptli': 284, 'tubular': 285, 'ogtub': 286, 'reguard': 287, 'sooner': 288, 'pneumonectomi': 289, 'kyphoscoliosi': 290, 'vasoconstrict': 291, 'sibl': 292, 'gasp': 293, 'recev': 294, 'hook': 295, 'realist': 296, 'colour': 297, 'hida': 298, 'tran': 299, 'innum': 300, 'aricept': 301, 'moreov': 302, 'creep': 303, 'pharmacolog': 304, 'buck': 305, 'vigil': 306, 'pvr': 307, 'unr': 308, 'irrev': 309, 'aliv': 310, 'argatroban': 311, 'derecruit': 312, 'wil': 313, 'epsiod': 314, 'attemtp': 315, 'religi': 316, 'eyelid': 317, 'ration': 318, 'famil': 319, 'respitori': 320, 'analgesia': 321, 'myeloma': 322, 'imbal': 323, 'muddi': 324, 'neob': 325, 'adam': 326, 'dorsal': 327, 'declar': 328, 'moisten': 329, 'od': 330, 'diflucan': 331, 'requr': 332, 'heliox': 333, 'futil': 334, 'emper': 335, 'illeu': 336, 'osteoblast': 337, 'currentl': 338, 'nimv': 339, 'perisplen': 340, 'preliminarili': 341, 'fli': 342, 'plerual': 343, 'rhochor': 344, 'forth': 345, 'prioriti': 346, 'dysynchron': 347, 'sluggishli': 348, 'esoph': 349, 'occurr': 350, 'binder': 351, 'unplan': 352, 'ipf': 353, 'goodbi': 354, 'ccn': 355, 'meatu': 356, 'stg': 357, 'scopalamin': 358, 'unar': 359, 'tobra': 360, 'hemodynim': 361, 'petechia': 362, 'harm': 363, 'rite': 364, 'fentayl': 365, 'bless': 366, 'doen': 367, 'furhter': 368, 'calvarium': 369, 'montitor': 370, 'fmaili': 371, 'stack': 372, 'chol': 373, 'figur': 374, 'underpenetr': 375, 'pyuria': 376, 'ggt': 377, 'massag': 378, 'thrombot': 379, 'outer': 380, 'mrcp': 381, 'formul': 382, 'contini': 383, 'synchroni': 384, 'treatement': 385, 'news': 386, 'amioderon': 387, 'unobtain': 388, 'mvo': 389, 'pastor': 390, 'led': 391, 'anasarc': 392, 'diuril': 393, 'gaol': 394, 'chlorothiazid': 395, 'essent': 396, 'currenlti': 397, 'thrive': 398, 'predict': 399, 'aglc': 400, 'opportun': 401, 'babinski': 402, 'normotherm': 403, 'fresh': 404, 'tachpnea': 405, 'multiorgan': 406, 'dex': 407, 'trabecul': 408, 'vasopress': 409, 'chlorhex': 410, 'esld': 411, 'mycolyt': 412, 'synthet': 413, 'concer': 414, 'quinolon': 415, 'medex': 416, 'ind': 417, 'raglan': 418, 'imp': 419, 'director': 420, 'meropenam': 421, 'grd': 422, 'abnl': 423, 'fdp': 424, 'schistocyt': 425, 'pupillari': 426, 'assymetr': 427, 'impli': 428, 'outlook': 429, 'inhibit': 430, 'lusb': 431, 'learn': 432, 'lymphangit': 433, 'dxae': 434, 'repon': 435, 'unalt': 436, 'friction': 437, 'goc': 438, 'esophagogastr': 439, 'agonist': 440, 'proport': 441, 'foll': 442, 'unrel': 443, 'permiss': 444, 'svv': 445, 'vigileo': 446, 'dietet': 447, 'hepatobiliari': 448, 'hemithorac': 449, 'desynchron': 450, 'inspit': 451, 'natg': 452, 'mjmgb': 453, 'driven': 454, 'pleasant': 455, 'oob': 456, 'commod': 457, 'chair': 458, 'ambien': 459, 'fal': 460, 'unsteadi': 461, 'ambul': 462, 'gait': 463, 'spong': 464, 'lift': 465, 'splint': 466, 'modifi': 467, 'thk': 468, 'fluor': 469, 'supervi': 470, 'puff': 471, 'static': 472, 'intent': 473, 'laminectomi': 474, 'bell': 475, 'rm': 476, 'db': 477, 'aox': 478, 'lpm': 479, 'lat': 480, 'nice': 481, 'breakfast': 482, 'fax': 483, 'chip': 484, 'nonlabor': 485, 'cup': 486, 'clonazepam': 487, 'transmitr': 488, 'venti': 489, 'idea': 490, 'calmer': 491, 'laryng': 492, 'foci': 493, 'hyperinten': 494, 'tranfer': 495, 'msicu': 496, \"sxn'ing\": 497, 'jejunum': 498, 'itchi': 499, 'gastrojejunostomi': 500, 'plate': 501, 'dermat': 502, 'cs': 503, 'deploy': 504, 'qtc': 505, 'spur': 506, 'consciou': 507, 'treitz': 508, 'vagu': 509, 'cloth': 510, 'unasyn': 511, 'wallet': 512, 'distort': 513, 'money': 514, 'dz': 515, 'signatur': 516, 'jewelri': 517, 'cash': 518, 'uncoop': 519, 'zyprexa': 520, 'pharyng': 521, 'redirect': 522, 'behavior': 523, 'syst': 524, 'effac': 525, 'pleasantli': 526, 'hilum': 527, 'thirst': 528, 'schizophrenia': 529, 'bipolar': 530, 'arthrit': 531, 'align': 532, 'unenhanc': 533, 'bronchovascular': 534, 'incis': 535, 'rehabilit': 536, 'pericard': 537, 'stood': 538, 'quietli': 539, 'gown': 540, 'lotion': 541, 'fu': 542, 'rememb': 543, 'xl': 544, 'motor': 545, 'olanzapin': 546, 'passey': 547, 'rpe': 548, 'scab': 549, 'contractur': 550, '^th': 551, 'rpr': 552, 'probe': 553, 'macu': 554, 'fee': 555, 'diaper': 556, 'occipit': 557, 'hygein': 558, 'stair': 559, 'ntnd': 560, 'compani': 561, 'passi': 562, 'hctz': 563, 'bottl': 564, 'locomot': 565, 'weekli': 566, 'unassist': 567, 'mellitu': 568, 'distanc': 569, 'muir': 570, 'deflat': 571, 'mrg': 572, 'knowledg': 573, 'lax': 574, 'flight': 575, 'strengthen': 576, 'cg': 577, 'thiamin': 578, 'viscou': 579, 'zoloft': 580, 'captopril': 581, 'subdur': 582, 'scar': 583, 'fwb': 584, 'ligament': 585, 'iddm': 586, 'ud': 587, 'vp': 588, 'gadolinium': 589, 'im': 590, 'tea': 591, 'osa': 592, 'pneumococc': 593, 'magnevist': 594, 'neutral': 595, 'exophyt': 596, 'smooth': 597, 'forc': 598, 'appi': 599, 'trazodon': 600, 'historian': 601, 'prec': 602, 'incent': 603, 'phlegm': 604, 'spiromet': 605, 'bmx': 606, 'burn': 607, 'video': 608, 'autoset': 609, 'gotten': 610, 'barium': 611, 'hurt': 612, 'ofm': 613, 'tracheomalacia': 614, 'postop': 615, 'nectar': 616, 'seroquel': 617, 'overs': 618, 'sensat': 619, 'nocturn': 620, 'robitussin': 621, 'spacer': 622, 'asthma': 623, 'sweat': 624, 'knew': 625, 'dome': 626, 'beeper': 627, 'amb': 628, 'calculi': 629, 'sarna': 630, 'xanax': 631, 'lighthead': 632, 'yel': 633, 'cefapim': 634, 'dizzi': 635, 'pivot': 636, 'suspen': 637, 'bromid': 638, 'ctx': 639, 'bsn': 640, 'endur': 641, 'readmit': 642, 'simpli': 643, 'dyslipidemia': 644, 'lob': 645, 'wfl': 646, 'eob': 647, 'rin': 648, 'ncm': 649, 'angri': 650, 'hydralizin': 651, 'paperwork': 652, 'neoplast': 653, 'waist': 654, 'west': 655, 'morbid': 656, 'hsq': 657, 'rsrc': 658, 'ppd': 659, 'solut': 660, 'metoclopramid': 661, 'crowd': 662, 'perpher': 663, 'ferritin': 664, 'clonidin': 665, 'rigor': 666, 'sundown': 667, 'spfc': 668, 'omeprazol': 669, 'freeli': 670, 'diaphoresi': 671, 'precordium': 672, 'silent': 673, 'pneumothorac': 674, 'divi': 675, 'cramp': 676, 'gabapentin': 677, 'ultram': 678, 'para': 679, 'ciwa': 680, 'aaox': 681, 'epigastr': 682, 'book': 683, 'tie': 684, 'collat': 685, 'qam': 686, 'habitu': 687, 'mood': 688, 'method': 689, 'mandibl': 690, 'articul': 691, 'panic': 692, 'spirit': 693, 'ero': 694, 'homogen': 695, 'vallecula': 696, 'pathologist': 697, 'lac': 698, 'vertebra': 699, 'subcost': 700, 'parastern': 701, 'svn': 702, 'young': 703, 'epidur': 704, 'hemisph': 705, 'yankuer': 706, 'spectral': 707, 'phasic': 708, 'rhinorrhea': 709, 'unavail': 710, 'fatti': 711, 'eg': 712, 'mucinex': 713, 'hive': 714, 'opiat': 715, 'klonopin': 716, 'pca': 717, 'spill': 718, 'dietari': 719, 'crack': 720, 'tdi': 721, 'stitch': 722, 'ggo': 723, 'ferrou': 724, 'cracker': 725, 'suprapub': 726, 'hhn': 727, 'echocardiogram': 728, 'subq': 729, 'cdb': 730, 'seat': 731, 'uri': 732, 'glycopyrrol': 733, 'contd': 734, 'angiogram': 735, 'syncop': 736, 'angioplasti': 737, 'carvedilol': 738, 'cooki': 739, 'nicotin': 740, 'xopenex': 741, 'cocain': 742, 'videofluoroscopi': 743, 'nitroglycerin': 744, 'propul': 745, 'piriform': 746, 'xii': 747, 'tcdb': 748, 'hoar': 749, 'soln': 750, 'leukocyt': 751, 'protrud': 752, 'diamox': 753, 'colonoscopi': 754, 'slice': 755, 'prilosec': 756, 'overdo': 757, 'coarctat': 758, 'shorter': 759, 'endplat': 760, 'herp': 761, 'pod': 762, 'ruptur': 763, 'gastriti': 764, 'td': 765, 'flake': 766, 'tremul': 767, 'coach': 768, 'adenocarcinoma': 769, 'radioden': 770, 'banana': 771, 'thoracocentesi': 772, 'bill': 773, 'mva': 774, 'hemangioma': 775, 'anaphylaxi': 776, 'nifedipin': 777, 'ba': 778, 'strictur': 779, 'retic': 780, 'romi': 781, 'acetazolamid': 782, 'peribronchovascular': 783}\n"
     ]
    }
   ],
   "source": [
    "\"\"\"function description:\n",
    "generates frequent word set for the disease\n",
    "\"\"\"\n",
    "word_dict = {}\n",
    "word_id = 1\n",
    "stemmer = PorterStemmer()\n",
    "\n",
    "\n",
    "for word in FREQUENT_WORD_LIST:\n",
    "    if not word == \"WORD\":\n",
    "        word_dict[stemmer.stem(word.strip())] = word_id\n",
    "        word_id += 1\n",
    "             \n",
    "print(f\"\\nword dictionary created! Length: {len(word_dict)}\\n\")\n",
    "print(word_dict)"
   ]
  },
  {
   "cell_type": "code",
   "execution_count": null,
   "metadata": {},
   "outputs": [],
   "source": []
  },
  {
   "cell_type": "markdown",
   "metadata": {},
   "source": [
    "### Count co-occurrences per patient"
   ]
  },
  {
   "cell_type": "code",
   "execution_count": 21,
   "metadata": {
    "scrolled": true
   },
   "outputs": [
    {
     "name": "stderr",
     "output_type": "stream",
     "text": [
      "100%|██████████| 11895/11895 [57:46<00:00,  3.43it/s]    \n",
      "100%|██████████| 46134/46134 [38:54<00:00, 19.76it/s]   \n"
     ]
    }
   ],
   "source": [
    "# Comparison algorithms\n",
    "# Apriori, Fpgrowth, fp_max\n",
    "\n",
    "# Apriori\n",
    "import pandas as pd\n",
    "\n",
    "from mlxtend.preprocessing import TransactionEncoder\n",
    "from mlxtend.frequent_patterns import fpgrowth\n",
    "\n",
    "# ----\n",
    "def apr_patterns_per_patient_python(disease_df, min_support):\n",
    "    \n",
    "    # For dataframe\n",
    "    patient_cooc_dict = {}\n",
    "    patient_node_dict = {}\n",
    "    patient_note_cnt = {}\n",
    "    patient_itemset_dict = {}\n",
    "    \n",
    "    # --------------    \n",
    "    patient_id = -1\n",
    "    note_cnt = 0\n",
    "    patient_note_list = []\n",
    "    \n",
    "    # read line in from file (each line is one note)\n",
    "    for index, row in tqdm(disease_df.iterrows(), total=disease_df.shape[0]):\n",
    "        \n",
    "        # only regard certain type of notes\n",
    "        patient_id_check = int(row['SUBJECT_ID_x'])\n",
    "        note = re.sub(r'\\[\\*\\*(.*?)\\*\\*\\]|[_,\\d\\*:~=\\.\\-\\+\\\\/]+', ' ', row['TEXT'])\n",
    "        patient_word_set = set()\n",
    "    \n",
    "#         print(f\"patient_id_check: {patient_id_check}, patient_id: {patient_id}\")\n",
    "        # if patient id has changed, end sequence and start new sequence\n",
    "        if not patient_id == patient_id_check and not patient_id == -1:\n",
    "            te = TransactionEncoder()\n",
    "            te_ary = te.fit(patient_note_list).transform(patient_note_list)\n",
    "            df = pd.DataFrame(te_ary, columns=te.columns_)\n",
    "            df_itemsets = fpgrowth(df, min_support=min_support, use_colnames=True)\n",
    "            \n",
    "            cooc_tmp = []\n",
    "            cooc_minsup_tmp = []\n",
    "            node_minsup_tmp = []\n",
    "            cooc_node_idx_tmp = []\n",
    "            itemsets_tmp = []\n",
    "            \n",
    "            for index, row in df_itemsets.iterrows():\n",
    "                if len(row['itemsets']) == 1:\n",
    "                    word = list(row['itemsets'])[0]\n",
    "                    min_sup = row['support']\n",
    "\n",
    "                    node_minsup_tmp.append(len(patient_note_list) * row['support'])\n",
    "                    cooc_node_idx_tmp.append(word)\n",
    "                    \n",
    "                if len(row['itemsets']) == 2:\n",
    "                    cooc_ = sorted(list(row['itemsets']))\n",
    "                    cooc_tmp.append(cooc_)\n",
    "                    cooc_minsup_tmp.append(len(patient_note_list) * row['support'])\n",
    "\n",
    "                if len(row['itemsets']) >= 2:\n",
    "                    itemset = sorted(list(row['itemsets']))\n",
    "                    itemsets_tmp.append(itemset)\n",
    "                    \n",
    "            \n",
    "            cooc_dict = {}\n",
    "\n",
    "            for num, i in enumerate(cooc_tmp):\n",
    "                if tuple(i) not in cooc_dict:\n",
    "                    cooc_dict[tuple(i)] = cooc_minsup_tmp[num]\n",
    "\n",
    "\n",
    "            node_dict = {}\n",
    "            for num, i in enumerate(cooc_node_idx_tmp):\n",
    "                if i not in node_dict:\n",
    "                    node_dict[i] = node_minsup_tmp[num]\n",
    "\n",
    "            # Update glob lists\n",
    "            if patient_id not in patient_cooc_dict:\n",
    "                patient_cooc_dict[patient_id] = cooc_dict\n",
    "                patient_node_dict[patient_id] = node_dict\n",
    "                patient_note_cnt[patient_id] = note_cnt\n",
    "                patient_itemset_dict[patient_id] = itemsets_tmp\n",
    "    \n",
    "            else:\n",
    "                print(f\"patient_id: {patient_id} is already in the dictionary!\")\n",
    "            \n",
    "            \n",
    "            # Reset local lists\n",
    "            patient_note_list = []\n",
    "            note_cnt = 0\n",
    "                    \n",
    "        # update patient id\n",
    "        patient_id = patient_id_check\n",
    "        tokenized_note = word_tokenize(note)\n",
    "        note_cnt += 1\n",
    "\n",
    "        # loop through each word in note to count word belonging to each disease\n",
    "        for word in tokenized_note:\n",
    "            stemmed_word = stemmer.stem(word.lower())       \n",
    "            if stemmed_word in word_dict:\n",
    "                patient_word_set.add(stemmed_word)\n",
    "\n",
    "        templst = []\n",
    "        for word in patient_word_set:\n",
    "            templst.append(word)\n",
    "\n",
    "        if templst:\n",
    "            patient_note_list.append(templst)\n",
    "    \n",
    "    # Last patient info\n",
    "    te = TransactionEncoder()\n",
    "    te_ary = te.fit(patient_note_list).transform(patient_note_list)\n",
    "    df = pd.DataFrame(te_ary, columns=te.columns_)\n",
    "    df_itemsets = fpgrowth(df, min_support=min_support, use_colnames=True)\n",
    "            \n",
    "    cooc_tmp = []\n",
    "    cooc_minsup_tmp = []\n",
    "    #-----\n",
    "    node_minsup_tmp = []\n",
    "    cooc_node_idx_tmp = []\n",
    "    itemsets_tmp = []\n",
    "            \n",
    "    for index, row in df_itemsets.iterrows():\n",
    "        if len(row['itemsets']) == 1:\n",
    "            word = list(row['itemsets'])[0]\n",
    "            node_minsup_tmp.append(len(patient_note_list) * row['support'])\n",
    "            cooc_node_idx_tmp.append(word)\n",
    "\n",
    "        if len(row['itemsets']) == 2:\n",
    "            cooc_ = sorted(list(row['itemsets']))\n",
    "            cooc_tmp.append(cooc_)\n",
    "            cooc_minsup_tmp.append(len(patient_note_list) * row['support'])\n",
    "\n",
    "        if len(row['itemsets']) >= 2:\n",
    "            itemset = sorted(list(row['itemsets']))\n",
    "            itemsets_tmp.append(itemset)\n",
    "\n",
    "    cooc_dict = {}\n",
    "\n",
    "    for num, i in enumerate(cooc_tmp):\n",
    "        if tuple(i) not in cooc_dict:\n",
    "            cooc_dict[tuple(i)] = cooc_minsup_tmp[num]\n",
    "\n",
    "\n",
    "    node_dict = {}\n",
    "    for num, i in enumerate(cooc_node_idx_tmp):\n",
    "        if i not in node_dict:\n",
    "            node_dict[i] = node_minsup_tmp[num]\n",
    "    \n",
    "                \n",
    "\n",
    "    # Update glob lists\n",
    "    if patient_id not in patient_cooc_dict:\n",
    "        patient_cooc_dict[patient_id] = cooc_dict\n",
    "        patient_node_dict[patient_id] = node_dict\n",
    "        patient_note_cnt[patient_id] = note_cnt\n",
    "        patient_itemset_dict[patient_id] = itemsets_tmp\n",
    "    else:\n",
    "        print(f\"patient_id: {patient_id} is already in the dictionary!\")\n",
    "\n",
    "    return patient_node_dict, patient_cooc_dict, patient_itemset_dict, patient_note_cnt\n",
    "\n",
    "apr_patient_node_0, apr_patient_cooc_0, apr_patient_itemset_0, apr_patient_note_num_0 = apr_patterns_per_patient_python(pneumonia_dead_no_disch, 0.1)\n",
    "apr_patient_node_1, apr_patient_cooc_1, apr_patient_itemset_1, apr_patient_note_num_1 = apr_patterns_per_patient_python(pneumonia_alive_no_disch, 0.1)"
   ]
  },
  {
   "cell_type": "code",
   "execution_count": 22,
   "metadata": {},
   "outputs": [],
   "source": [
    "# Create a set of all unique co-occurrences from both group\n",
    "patient_cooc_set = set()\n",
    "patient_cooc_0_dict = {}\n",
    "patient_cooc_1_dict = {}\n",
    "\n",
    "for k, v in apr_patient_cooc_0.items():\n",
    "    for item in v:\n",
    "        patient_cooc_set.add(item)\n",
    "        if item not in patient_cooc_0_dict:\n",
    "            patient_cooc_0_dict[item] = v[item]\n",
    "        else:\n",
    "            patient_cooc_0_dict[item] = patient_cooc_0_dict[item] + v[item]\n",
    "            \n",
    "    \n",
    "for k, v in apr_patient_cooc_1.items():\n",
    "    for item in v:\n",
    "        patient_cooc_set.add(item)\n",
    "        if item not in patient_cooc_1_dict:\n",
    "            patient_cooc_1_dict[item] = v[item]\n",
    "        else:\n",
    "            patient_cooc_1_dict[item] = patient_cooc_1_dict[item] + v[item]"
   ]
  },
  {
   "cell_type": "code",
   "execution_count": 23,
   "metadata": {},
   "outputs": [
    {
     "name": "stdout",
     "output_type": "stream",
     "text": [
      "11183\n",
      "3508\n",
      "8465\n"
     ]
    }
   ],
   "source": [
    "print(len(patient_cooc_set))\n",
    "print(len(patient_cooc_0_dict))\n",
    "print(len(patient_cooc_1_dict))"
   ]
  },
  {
   "cell_type": "code",
   "execution_count": 24,
   "metadata": {},
   "outputs": [],
   "source": [
    "import math\n",
    "patient_cooc_odd_scores = {}\n",
    "for set_item in patient_cooc_set:\n",
    "    if set_item in patient_cooc_0_dict and set_item in patient_cooc_1_dict: \n",
    "        d_prob = patient_cooc_0_dict[set_item]/(patient_cooc_0_dict[set_item] + patient_cooc_1_dict[set_item])\n",
    "        a_prob = patient_cooc_1_dict[set_item]/(patient_cooc_0_dict[set_item] + patient_cooc_1_dict[set_item])\n",
    "        log_odd_score = math.log((a_prob + 0.001)/(d_prob+0.001))\n",
    "        patient_cooc_odd_scores[set_item] = log_odd_score\n",
    "    elif set_item in patient_cooc_0_dict:\n",
    "        log_odd_score = math.log((0.001)/(1.001))\n",
    "        patient_cooc_odd_scores[set_item] = log_odd_score\n",
    "    elif set_item in patient_cooc_1_dict:\n",
    "        log_odd_score = math.log((1.001)/(0.001))\n",
    "        patient_cooc_odd_scores[set_item] = log_odd_score"
   ]
  },
  {
   "cell_type": "code",
   "execution_count": 25,
   "metadata": {},
   "outputs": [
    {
     "data": {
      "text/plain": [
       "{('ciwa', 'unasyn'): 6.90875477931522,\n",
       " ('endur', 'strictur'): 6.90875477931522,\n",
       " ('dnr', 'palliat'): -6.90875477931522,\n",
       " ('asthma', 'dizzi'): 6.90875477931522,\n",
       " ('autopeep', 'hypercapnia'): -6.90875477931522,\n",
       " ('duski', 'prognosi'): -6.90875477931522,\n",
       " ('mortem', 'vasopressor'): -6.90875477931522,\n",
       " ('freeli', 'quadrent'): 6.90875477931522,\n",
       " ('cvvh', 'ferritin'): 6.90875477931522,\n",
       " ('diaphoresi', 'lpm'): 6.90875477931522,\n",
       " ('arrest', 'recruit'): 3.649722139527292,\n",
       " ('mood', 'vasopressor'): 6.90875477931522,\n",
       " ('pleasantli', 'probe'): 6.90875477931522,\n",
       " ('ba', 'hctz'): 6.90875477931522,\n",
       " ('hospic', 'mso'): -6.90875477931522,\n",
       " ('phlegm', 'stair'): 6.90875477931522,\n",
       " ('laminectomi', 'schizophrenia'): 6.90875477931522,\n",
       " ('dni', 'stair'): 0.6916505477038827,\n",
       " ('mellitu', 'signatur'): 6.90875477931522,\n",
       " ('chair', 'rigor'): 6.90875477931522,\n",
       " ('historian', 'unstabl'): 6.90875477931522,\n",
       " ('money', 'oncologist'): 6.90875477931522,\n",
       " ('death', 'wish'): -6.90875477931522,\n",
       " ('artifici', 'nitroglycerin'): 6.90875477931522,\n",
       " ('lw', 'oob'): 6.90875477931522,\n",
       " ('moan', 'signatur'): 6.90875477931522,\n",
       " ('bottl', 'carvedilol'): 6.90875477931522,\n",
       " ('cyanot', 'laminectomi'): 6.90875477931522,\n",
       " ('asthma', 'prilosec'): 6.90875477931522,\n",
       " ('gvhd', 'wish'): 6.90875477931522,\n",
       " ('bank', 'itchi'): 6.90875477931522,\n",
       " ('dnr', 'mtg'): -2.731870725033108,\n",
       " ('ntnd', 'qtc'): 6.90875477931522,\n",
       " ('dic', 'sweat'): -6.90875477931522,\n",
       " ('hctz', 'splint'): 6.90875477931522,\n",
       " ('expir', 'prognosi'): -6.90875477931522,\n",
       " ('bipolar', 'oob'): -2.007571633726069,\n",
       " ('death', 'rigor'): 6.90875477931522,\n",
       " ('lac', 'spirit'): 6.90875477931522,\n",
       " ('osa', 'xl'): 6.90875477931522,\n",
       " ('lc', 'neo'): -6.90875477931522,\n",
       " ('aox', 'pleasant'): -0.9141958635336067,\n",
       " ('dnr', 'gabapentin'): 6.90875477931522,\n",
       " ('dizzi', 'dni'): 6.90875477931522,\n",
       " ('bipolar', 'redirect'): 6.90875477931522,\n",
       " ('cardiovert', 'dysynchron'): -6.90875477931522,\n",
       " ('argatroban', 'lat'): 6.90875477931522,\n",
       " ('motor', 'xii'): 6.90875477931522,\n",
       " ('articul', 'rehabilit'): 6.90875477931522,\n",
       " ('appi', 'venti'): 6.90875477931522,\n",
       " ('mellitu', 'subdur'): 6.90875477931522,\n",
       " ('ba', 'ciwa'): 6.90875477931522,\n",
       " ('mtg', 'neosynephrin'): -6.90875477931522,\n",
       " ('cagluc', 'vasopressin'): -6.90875477931522,\n",
       " ('clergi', 'peac'): -6.90875477931522,\n",
       " ('dk', 'fax'): 6.90875477931522,\n",
       " ('qam', 'rememb'): 6.90875477931522,\n",
       " ('phenylephrin', 'video'): 6.90875477931522,\n",
       " ('calculi', 'habitu'): 6.90875477931522,\n",
       " ('angioplasti', 'declin'): 6.90875477931522,\n",
       " ('deterior', 'pcv'): 6.90875477931522,\n",
       " ('neutral', 'profound'): 6.90875477931522,\n",
       " ('ctx', 'phlegm'): 6.90875477931522,\n",
       " ('chane', 'pea'): -6.90875477931522,\n",
       " ('jejunum', 'tie'): 6.90875477931522,\n",
       " ('fax', 'macu'): 6.90875477931522,\n",
       " ('hive', 'thiamin'): 6.90875477931522,\n",
       " ('bair', 'deterior'): 6.90875477931522,\n",
       " ('rhinorrhea', 'thiamin'): 6.90875477931522,\n",
       " ('autopeep', 'recruit'): -6.90875477931522,\n",
       " ('autopeep', 'paralyt'): -6.90875477931522,\n",
       " ('subq', 'xii'): 6.90875477931522,\n",
       " ('cash', 'colonoscopi'): 6.90875477931522,\n",
       " ('dnr', 'rigor'): 6.90875477931522,\n",
       " ('anur', 'duski'): -6.90875477931522,\n",
       " ('seroquel', 'waist'): 6.90875477931522,\n",
       " ('cyanot', 'neo'): 0.0,\n",
       " ('romi', 'trazodon'): 6.90875477931522,\n",
       " ('sensat', 'unstabl'): 6.90875477931522,\n",
       " ('oncologist', 'predict'): 6.90875477931522,\n",
       " ('chair', 'cpr'): -6.90875477931522,\n",
       " ('hive', 'postop'): 6.90875477931522,\n",
       " ('nectar', 'option'): 6.90875477931522,\n",
       " ('aricept', 'bottl'): 6.90875477931522,\n",
       " ('lpm', 'palli'): 6.90875477931522,\n",
       " ('contd', 'sensat'): 6.90875477931522,\n",
       " ('oob', 'stair'): 6.90875477931522,\n",
       " ('bronchovascular', 'lymphangit'): 6.90875477931522,\n",
       " ('commod', 'esld'): 6.90875477931522,\n",
       " ('ppd', 'splint'): 6.90875477931522,\n",
       " ('fatti', 'slice'): 6.90875477931522,\n",
       " ('antb', 'signatur'): 6.90875477931522,\n",
       " ('db', 'nicotin'): 6.90875477931522,\n",
       " ('solut', 'treatement'): 6.90875477931522,\n",
       " ('chair', 'cyanot'): -6.90875477931522,\n",
       " ('acetazolamid', 'hypothermia'): 6.90875477931522,\n",
       " ('readmit', 'scab'): 6.90875477931522,\n",
       " ('dni', 'muddi'): -6.90875477931522,\n",
       " ('contd', 'ipf'): 6.90875477931522,\n",
       " ('cpr', 'pea'): 1.579466697586673,\n",
       " ('pleasant', 'quadrent'): 6.90875477931522,\n",
       " ('diaphoresi', 'klonopin'): 6.90875477931522,\n",
       " ('oob', 'pleasant'): 4.020284968191801,\n",
       " ('dk', 'neo'): 6.90875477931522,\n",
       " ('dizzi', 'postop'): 6.90875477931522,\n",
       " ('ctx', 'readdress'): 6.90875477931522,\n",
       " ('chair', 'macu'): -6.90875477931522,\n",
       " ('dysynchron', 'osa'): -6.90875477931522,\n",
       " ('mva', 'spacer'): 6.90875477931522,\n",
       " ('bairhugg', 'dnr'): 6.90875477931522,\n",
       " ('signatur', 'wish'): 0.0,\n",
       " ('breakfast', 'uffp'): 6.90875477931522,\n",
       " ('arrest', 'hypotherm'): 6.90875477931522,\n",
       " ('cloth', 'knowledg'): 6.90875477931522,\n",
       " ('chair', 'rusti'): 6.90875477931522,\n",
       " ('hugger', 'paralyt'): 6.90875477931522,\n",
       " ('death', 'nahco'): -6.90875477931522,\n",
       " ('dyslipidemia', 'omeprazol'): 6.90875477931522,\n",
       " ('asthma', 'nocturn'): 6.90875477931522,\n",
       " ('adenocarcinoma', 'osa'): 6.90875477931522,\n",
       " ('acidem', 'cpr'): -6.90875477931522,\n",
       " ('homogen', 'scar'): 6.90875477931522,\n",
       " ('tdi', 'trabecul'): 6.90875477931522,\n",
       " ('declin', 'dni'): 1.4717737309197367,\n",
       " ('aox', 'bicarbon'): 6.90875477931522,\n",
       " ('ambien', 'mva'): 6.90875477931522,\n",
       " ('hive', 'sensat'): 6.90875477931522,\n",
       " ('omeprazol', 'scar'): 6.90875477931522,\n",
       " ('soln', 'thiamin'): 6.90875477931522,\n",
       " ('nimv', 'religi'): -6.90875477931522,\n",
       " ('mso', 'pose'): -6.90875477931522,\n",
       " ('readmit', 'venti'): 6.90875477931522,\n",
       " ('cloth', 'suprapub'): 6.90875477931522,\n",
       " ('anur', 'cvvh'): -6.90875477931522,\n",
       " ('echocardiogram', 'hive'): 6.90875477931522,\n",
       " ('cmo', 'ggt'): -6.90875477931522,\n",
       " ('analgesia', 'levoph'): -6.90875477931522,\n",
       " ('cyanot', 'gvhd'): -6.90875477931522,\n",
       " ('bottl', 'db'): 6.90875477931522,\n",
       " ('dnr', 'montitor'): -6.90875477931522,\n",
       " ('consciou', 'outer'): 6.90875477931522,\n",
       " ('mucinex', 'xopenex'): 6.90875477931522,\n",
       " ('hemangioma', 'robitussin'): 6.90875477931522,\n",
       " ('omeprazol', 'uri'): 6.90875477931522,\n",
       " ('dni', 'levoph'): -0.2870999276476155,\n",
       " ('ciwa', 'crack'): 6.90875477931522,\n",
       " ('bottl', 'pleasant'): 6.90875477931522,\n",
       " ('anaphylaxi', 'seat'): 6.90875477931522,\n",
       " ('hive', 'qam'): 6.90875477931522,\n",
       " ('lotion', 'nitroglycerin'): -6.90875477931522,\n",
       " ('chair', 'epidur'): 6.90875477931522,\n",
       " ('fatti', 'spectral'): 0.0,\n",
       " ('tranfer', 'xl'): 6.90875477931522,\n",
       " ('olanzapin', 'wish'): 6.90875477931522,\n",
       " ('nifedipin', 'norepinephrin'): 6.90875477931522,\n",
       " ('lpm', 'strictur'): 6.90875477931522,\n",
       " ('bottl', 'uri'): 6.90875477931522,\n",
       " ('chb', 'moan'): -6.90875477931522,\n",
       " ('ipf', 'vasopressin'): -6.90875477931522,\n",
       " ('criticar', 'struggl'): 6.90875477931522,\n",
       " ('cdb', 'pivot'): 6.90875477931522,\n",
       " ('nifedipin', 'trazodon'): 6.90875477931522,\n",
       " ('historian', 'oob'): 6.90875477931522,\n",
       " ('ctx', 'readmit'): 6.90875477931522,\n",
       " ('ctx', 'echocardiogram'): 6.90875477931522,\n",
       " ('chane', 'levoph'): -6.90875477931522,\n",
       " ('bromid', 'quinolon'): 6.90875477931522,\n",
       " ('abnl', 'clonidin'): 6.90875477931522,\n",
       " ('aaox', 'video'): 6.90875477931522,\n",
       " ('qtc', 'romi'): 6.90875477931522,\n",
       " ('diaphoresi', 'qam'): 6.90875477931522,\n",
       " ('arrest', 'rabbi'): -6.90875477931522,\n",
       " ('hunger', 'zoloft'): -6.90875477931522,\n",
       " ('lymphangit', 'wish'): 0.6916505477038827,\n",
       " ('gvhd', 'lw'): -6.90875477931522,\n",
       " ('acetazolamid', 'neosynephrin'): 6.90875477931522,\n",
       " ('gvhd', 'twitch'): -6.90875477931522,\n",
       " ('ba', 'mucinex'): 6.90875477931522,\n",
       " ('fibrinogen', 'paperwork'): 6.90875477931522,\n",
       " ('commod', 'young'): 6.90875477931522,\n",
       " ('freeli', 'gastrojejunostomi'): 6.90875477931522,\n",
       " ('expir', 'hilum'): 6.90875477931522,\n",
       " ('rehabilit', 'trazodon'): 6.90875477931522,\n",
       " ('clinician', 'dni'): 0.4046335072286383,\n",
       " ('aricept', 'sensat'): -6.90875477931522,\n",
       " ('hugger', 'resucit'): -6.90875477931522,\n",
       " ('dietari', 'puff'): 6.90875477931522,\n",
       " ('puff', 'synthet'): 6.90875477931522,\n",
       " ('bottl', 'pronounc'): -6.90875477931522,\n",
       " ('align', 'rhinorrhea'): -6.90875477931522,\n",
       " ('death', 'profound'): -6.90875477931522,\n",
       " ('colonoscopi', 'osa'): 6.90875477931522,\n",
       " ('contractur', 'struggl'): 6.90875477931522,\n",
       " ('natg', 'simpli'): 6.90875477931522,\n",
       " ('peac', 'scopalamin'): -6.90875477931522,\n",
       " ('burn', 'gabapentin'): 6.90875477931522,\n",
       " ('contd', 'money'): 6.90875477931522,\n",
       " ('oob', 'prioriti'): 6.90875477931522,\n",
       " ('bottl', 'corneal'): -6.90875477931522,\n",
       " ('gurgl', 'subdur'): 6.90875477931522,\n",
       " ('cramp', 'hypotherm'): -6.90875477931522,\n",
       " ('breakfast', 'chair'): 6.90875477931522,\n",
       " ('discoordin', 'paralyt'): -6.90875477931522,\n",
       " ('mrg', 'puff'): 6.90875477931522,\n",
       " ('cocain', 'ultram'): 6.90875477931522,\n",
       " ('bell', 'silent'): 6.90875477931522,\n",
       " ('oob', 'stood'): 6.90875477931522,\n",
       " ('bicarbon', 'death'): 6.90875477931522,\n",
       " ('agon', 'neo'): -6.90875477931522,\n",
       " ('angiogram', 'cocain'): 6.90875477931522,\n",
       " ('neo', 'norepi'): -6.90875477931522,\n",
       " ('spiromet', 'wallet'): 6.90875477931522,\n",
       " ('norepinephrin', 'opiat'): 6.90875477931522,\n",
       " ('palli', 'xanax'): 6.90875477931522,\n",
       " ('habitu', 'subcost'): 6.90875477931522,\n",
       " ('abnl', 'epidur'): 6.90875477931522,\n",
       " ('contractur', 'gadolinium'): 6.90875477931522,\n",
       " ('dopamin', 'nonreact'): -6.90875477931522,\n",
       " ('cloth', 'xl'): 6.90875477931522,\n",
       " ('cloth', 'signatur'): 2.552122795903801,\n",
       " ('levoph', 'meropenam'): -6.90875477931522,\n",
       " ('ambul', 'aricept'): 6.90875477931522,\n",
       " ('azotemia', 'ppd'): 6.90875477931522,\n",
       " ('death', 'duski'): -6.90875477931522,\n",
       " ('oob', 'snt'): 6.90875477931522,\n",
       " ('cefapim', 'vigil'): 6.90875477931522,\n",
       " ('cyanot', 'purpl'): -6.90875477931522,\n",
       " ('behavior', 'readmit'): 6.90875477931522,\n",
       " ('mso', 'osa'): -6.90875477931522,\n",
       " ('cmo', 'rabbi'): -6.90875477931522,\n",
       " ('cyanot', 'quietli'): -6.90875477931522,\n",
       " ('dnr', 'mva'): 6.90875477931522,\n",
       " ('dnr', 'emper'): 6.90875477931522,\n",
       " ('cooki', 'laryng'): 0.6916505477038827,\n",
       " ('oob', 'rusti'): 6.90875477931522,\n",
       " ('peac', 'prognosi'): -6.90875477931522,\n",
       " ('ciwa', 'uncoop'): 6.90875477931522,\n",
       " ('gait', 'rhinorrhea'): 6.90875477931522,\n",
       " ('fatti', 'mandibl'): 6.90875477931522,\n",
       " ('gastrojejunostomi', 'signatur'): 6.90875477931522,\n",
       " ('dic', 'impli'): 6.90875477931522,\n",
       " ('hospic', 'palli'): 0.05597745309205151,\n",
       " ('silent', 'spiromet'): 6.90875477931522,\n",
       " ('captopril', 'cramp'): -6.90875477931522,\n",
       " ('anaphylaxi', 'ultram'): 6.90875477931522,\n",
       " ('ipf', 'oob'): -6.90875477931522,\n",
       " ('postop', 'retic'): 6.90875477931522,\n",
       " ('commod', 'mucinex'): 6.90875477931522,\n",
       " ('dopamin', 'mortem'): -6.90875477931522,\n",
       " ('nahco', 'vasopressor'): -6.90875477931522,\n",
       " ('abnl', 'dz'): 6.90875477931522,\n",
       " ('appi', 'sensat'): 6.90875477931522,\n",
       " ('exophyt', 'pyuria'): -6.90875477931522,\n",
       " ('arrest', 'fibrinogen'): -1.9390841839849136,\n",
       " ('rigor', 'rm'): 6.90875477931522,\n",
       " ('diaphoresi', 'dnr'): 6.90875477931522,\n",
       " ('hunger', 'life'): 6.90875477931522,\n",
       " ('deliv', 'escal'): -6.90875477931522,\n",
       " ('hilum', 'para'): 0.0,\n",
       " ('anuria', 'cpr'): -6.90875477931522,\n",
       " ('hung', 'scab'): 6.90875477931522,\n",
       " ('anaphylaxi', 'opiat'): 6.90875477931522,\n",
       " ('levoph', 'respitori'): -6.90875477931522,\n",
       " ('bottl', 'seat'): 6.90875477931522,\n",
       " ('cloth', 'dyslipidemia'): 6.90875477931522,\n",
       " ('bank', 'captopril'): 6.90875477931522,\n",
       " ('esld', 'schistocyt'): 6.90875477931522,\n",
       " ('bronchovascular', 'crowd'): 1.6688498669946448,\n",
       " ('expir', 'seroquel'): 6.90875477931522,\n",
       " ('colonoscopi', 'gait'): 6.90875477931522,\n",
       " ('prayer', 'pronounc'): -6.90875477931522,\n",
       " ('hospic', 'money'): 6.90875477931522,\n",
       " ('leukocyt', 'oncologist'): 6.90875477931522,\n",
       " ('bromid', 'unstabl'): 6.90875477931522,\n",
       " ('dietari', 'wish'): 6.90875477931522,\n",
       " ('asystol', 'pronounc'): -6.90875477931522,\n",
       " ('fibrinogen', 'wish'): 6.90875477931522,\n",
       " ('captopril', 'struggl'): 6.90875477931522,\n",
       " ('oob', 'vp'): 6.90875477931522,\n",
       " ('calculi', 'xii'): 6.90875477931522,\n",
       " ('hypotherm', 'hypothermia'): 0.4046335072286383,\n",
       " ('lc', 'nonrebreath'): -6.90875477931522,\n",
       " ('death', 'expir'): -6.90875477931522,\n",
       " ('escal', 'muddi'): -6.90875477931522,\n",
       " ('cash', 'wish'): 0.0,\n",
       " ('neosynephrin', 'phenylephrin'): -6.90875477931522,\n",
       " ('intiat', 'life'): -6.90875477931522,\n",
       " ('platelet', 'qtc'): 6.90875477931522,\n",
       " ('crrt', 'lotion'): 6.90875477931522,\n",
       " ('ciwa', 'zoloft'): 6.90875477931522,\n",
       " ('db', 'osa'): 6.90875477931522,\n",
       " ('commod', 'morbid'): 6.90875477931522,\n",
       " ('dni', 'forc'): -6.90875477931522,\n",
       " ('adenocarcinoma', 'mellitu'): 6.90875477931522,\n",
       " ('msicu', 'rusti'): 6.90875477931522,\n",
       " ('ctx', 'thrombot'): 6.90875477931522,\n",
       " ('platelet', 'prognosi'): 6.90875477931522,\n",
       " ('chip', 'pleasant'): 6.90875477931522,\n",
       " ('para', 'rhinorrhea'): 6.90875477931522,\n",
       " ('proph', 'refractori'): 6.90875477931522,\n",
       " ('gadolinium', 'paperwork'): 6.90875477931522,\n",
       " ('db', 'thiamin'): 6.90875477931522,\n",
       " ('hypothermia', 'sluggish'): -6.90875477931522,\n",
       " ('rhinorrhea', 'romi'): 0.6916505477038827,\n",
       " ('dobutamin', 'sluggish'): -6.90875477931522,\n",
       " ('led', 'schizophrenia'): 6.90875477931522,\n",
       " ('commod', 'msicu'): 6.90875477931522,\n",
       " ('asthma', 'rsrc'): 6.90875477931522,\n",
       " ('dnr', 'hive'): 1.5781230758985725,\n",
       " ('abruptli', 'cmo'): -6.90875477931522,\n",
       " ('dnr', 'gvhd'): 6.90875477931522,\n",
       " ('mellitu', 'neo'): 6.90875477931522,\n",
       " ('laminectomi', 'subq'): 6.90875477931522,\n",
       " ('clergi', 'park'): -6.90875477931522,\n",
       " ('vasopressin', 'zyprexa'): 6.90875477931522,\n",
       " ('phenylephrin', 'soln'): 6.90875477931522,\n",
       " ('aprv', 'deterior'): -6.90875477931522,\n",
       " ('oob', 'strictur'): 6.90875477931522,\n",
       " ('liw', 'pose'): -6.90875477931522,\n",
       " ('aricept', 'video'): 6.90875477931522,\n",
       " ('expir', 'scopalamin'): 6.90875477931522,\n",
       " ('arrest', 'cisatracurium'): 2.552122795903801,\n",
       " ('dnr', 'gasp'): -6.90875477931522,\n",
       " ('wallet', 'young'): 6.90875477931522,\n",
       " ('dni', 'retic'): 6.90875477931522,\n",
       " ('gabapentin', 'retic'): 6.90875477931522,\n",
       " ('deterior', 'duski'): -6.90875477931522,\n",
       " ('bipolar', 'cs'): 6.90875477931522,\n",
       " ('dead', 'religi'): -6.90875477931522,\n",
       " ('hepatobiliari', 'levoph'): -6.90875477931522,\n",
       " ('fatti', 'hive'): 6.90875477931522,\n",
       " ('scar', 'wish'): 6.90875477931522,\n",
       " ('nectar', 'oob'): 6.90875477931522,\n",
       " ('arrest', 'incis'): 6.90875477931522,\n",
       " ('anur', 'rhinorrhea'): -6.90875477931522,\n",
       " ('kerlix', 'nectar'): 6.90875477931522,\n",
       " ('oob', 'rigor'): 6.90875477931522,\n",
       " ('ferrou', 'lusb'): 6.90875477931522,\n",
       " ('aaox', 'bromid'): 6.90875477931522,\n",
       " ('bicarbon', 'hung'): -6.90875477931522,\n",
       " ('epigastr', 'incis'): 6.90875477931522,\n",
       " ('epigastr', 'pleasant'): 6.90875477931522,\n",
       " ('hospic', 'lpm'): 6.90875477931522,\n",
       " ('incent', 'syst'): 6.90875477931522,\n",
       " ('asthma', 'ferritin'): 6.90875477931522,\n",
       " ('ferritin', 'ferrou'): 6.90875477931522,\n",
       " ('cloth', 'redirect'): -6.90875477931522,\n",
       " ('clonidin', 'thrive'): 6.90875477931522,\n",
       " ('gentamycin', 'hypotherm'): -6.90875477931522,\n",
       " ('articul', 'seroquel'): 6.90875477931522,\n",
       " ('colonoscopi', 'ctx'): 6.90875477931522,\n",
       " ('anur', 'vasopressin'): 1.3825560390092835,\n",
       " ('asthma', 'rememb'): 6.90875477931522,\n",
       " ('hive', 'motor'): 6.90875477931522,\n",
       " ('itchi', 'tracheomalacia'): 6.90875477931522,\n",
       " ('argatroban', 'cvvhd'): -6.90875477931522,\n",
       " ('diaphoresi', 'ruptur'): 6.90875477931522,\n",
       " ('priest', 'suport'): -6.90875477931522,\n",
       " ('oob', 'thirst'): 6.90875477931522,\n",
       " ('chair', 'icter'): -6.90875477931522,\n",
       " ('dnr', 'epigastr'): 6.90875477931522,\n",
       " ('cramp', 'icter'): -6.90875477931522,\n",
       " ('levoph', 'life'): 2.9256884298210646,\n",
       " ('dnr', 'mellitu'): 6.90875477931522,\n",
       " ('dyslipidemia', 'hive'): 6.90875477931522,\n",
       " ('habitu', 'hive'): 6.90875477931522,\n",
       " ('osa', 'pericard'): 6.90875477931522,\n",
       " ('mellitu', 'pleasant'): 6.90875477931522,\n",
       " ('brb', 'sensat'): 6.90875477931522,\n",
       " ('amb', 'cramp'): 6.90875477931522,\n",
       " ('core', 'duski'): -6.90875477931522,\n",
       " ('breakfast', 'qtc'): 6.90875477931522,\n",
       " ('levoph', 'metoclopramid'): 6.90875477931522,\n",
       " ('hive', 'hypercapnia'): 6.90875477931522,\n",
       " ('ctx', 'unavail'): 6.90875477931522,\n",
       " ('incis', 'lcw'): 0.6916505477038827,\n",
       " ('ardsnet', 'wma'): -6.90875477931522,\n",
       " ('cracker', 'rhinorrhea'): 6.90875477931522,\n",
       " ('duski', 'vasopressor'): -6.90875477931522,\n",
       " ('crrt', 'surgicel'): -6.90875477931522,\n",
       " ('ferrou', 'rhinorrhea'): 6.90875477931522,\n",
       " ('epigastr', 'panic'): 6.90875477931522,\n",
       " ('modifi', 'strictur'): 6.90875477931522,\n",
       " ('grave', 'wish'): -6.90875477931522,\n",
       " ('levof', 'pronounc'): -6.90875477931522,\n",
       " ('cvvhd', 'norepinephrin'): -6.90875477931522,\n",
       " ('bank', 'caspofungin'): 6.90875477931522,\n",
       " ('barium', 'ruptur'): 6.90875477931522,\n",
       " ('asthma', 'pea'): 6.90875477931522,\n",
       " ('ppd', 'suprapub'): 6.90875477931522,\n",
       " ('bicarbon', 'solut'): 6.90875477931522,\n",
       " ('cvvh', 'incis'): -6.90875477931522,\n",
       " ('mottl', 'norepi'): -6.90875477931522,\n",
       " ('aricept', 'dni'): -0.15384177749734168,\n",
       " ('mrg', 'ppd'): 6.90875477931522,\n",
       " ('laryng', 'modifi'): 6.90875477931522,\n",
       " ('incent', 'jewelri'): 6.90875477931522,\n",
       " ('aox', 'deterior'): 6.90875477931522,\n",
       " ('gentamycin', \"sxn'ing\"): 6.90875477931522,\n",
       " ('grim', 'viabl'): -6.90875477931522,\n",
       " ('asthma', 'bottl'): 6.90875477931522,\n",
       " ('phlegm', 'vasopressin'): -6.90875477931522,\n",
       " ('piriform', 'video'): 6.90875477931522,\n",
       " ('lat', 'retic'): -6.90875477931522,\n",
       " ('chair', 'diaphoresi'): 6.90875477931522,\n",
       " ('arrang', 'palli'): -6.90875477931522,\n",
       " ('declin', 'echocardiogram'): 6.90875477931522,\n",
       " ('among', 'bronchovascular'): 6.90875477931522,\n",
       " ('piriform', 'vallecula'): 6.90875477931522,\n",
       " ('align', 'epidur'): 6.90875477931522,\n",
       " ('mind', 'wish'): 6.90875477931522,\n",
       " ('caspofungin', 'fungemia'): 6.90875477931522,\n",
       " ('aox', 'neo'): -6.90875477931522,\n",
       " ('cocain', 'diaphoresi'): 6.90875477931522,\n",
       " ('unstabl', 'vasopressin'): -6.90875477931522,\n",
       " ('dnr', 'robitussin'): -1.095952712632351,\n",
       " ('nifedipin', 'robitussin'): 6.90875477931522,\n",
       " ('diflucan', 'romi'): 6.90875477931522,\n",
       " ('nitroglycerin', 'pod'): 6.90875477931522,\n",
       " ('mellitu', 'quadrent'): 6.90875477931522,\n",
       " ('epidur', 'rhinorrhea'): 6.90875477931522,\n",
       " ('bromid', 'uri'): 6.90875477931522,\n",
       " ('defibril', 'promod'): -6.90875477931522,\n",
       " ('life', 'olanzapin'): 6.90875477931522,\n",
       " ('profound', 'ration'): 6.90875477931522,\n",
       " ('ferritin', 'seriou'): 6.90875477931522,\n",
       " ('chip', 'schizophrenia'): 6.90875477931522,\n",
       " ('grave', 'nonreact'): -6.90875477931522,\n",
       " ('cdb', 'pleasant'): 6.90875477931522,\n",
       " ('contractur', 'scar'): 6.90875477931522,\n",
       " ('ggo', 'iddm'): 6.90875477931522,\n",
       " ('asthma', 'hurt'): 6.90875477931522,\n",
       " ('align', 'pinpoint'): -6.90875477931522,\n",
       " ('adam', 'deterior'): -6.90875477931522,\n",
       " ('occupi', 'recruit'): 6.90875477931522,\n",
       " ('contd', 'video'): 6.90875477931522,\n",
       " ('diflucan', 'dnr'): -6.90875477931522,\n",
       " ('cocain', 'epigastr'): 6.90875477931522,\n",
       " ('asthma', 'autoset'): 6.90875477931522,\n",
       " ('habitu', 'hygein'): 6.90875477931522,\n",
       " ('cocain', 'mellitu'): 6.90875477931522,\n",
       " ('acc', 'young'): 6.90875477931522,\n",
       " ('corneal', 'ethic'): -6.90875477931522,\n",
       " ('argatroban', 'crrt'): -6.90875477931522,\n",
       " ('nifedipin', 'pleasant'): 6.90875477931522,\n",
       " ('captopril', 'money'): 6.90875477931522,\n",
       " ('dopamin', 'vigileo'): 6.90875477931522,\n",
       " ('chair', 'nitroglycerin'): -6.90875477931522,\n",
       " ('dnr', 'ind'): -6.90875477931522,\n",
       " ('puff', 'soln'): 6.90875477931522,\n",
       " ('dermat', 'incis'): -6.90875477931522,\n",
       " ('hospic', 'wish'): 0.4046335072286383,\n",
       " ('norepinephrin', 'thrive'): 6.90875477931522,\n",
       " ('chair', 'xopenex'): 6.90875477931522,\n",
       " ('levoph', 'pinpoint'): -6.90875477931522,\n",
       " ('habitu', 'unasyn'): 6.90875477931522,\n",
       " ('echocardiogram', 'qam'): 6.90875477931522,\n",
       " ('autoset', 'ferritin'): 6.90875477931522,\n",
       " ('jewelri', 'ruptur'): 6.90875477931522,\n",
       " ('eyelid', 'gvhd'): -6.90875477931522,\n",
       " ('palli', 'pneumonectomi'): 6.90875477931522,\n",
       " ('autopsi', 'clergi'): -6.90875477931522,\n",
       " ('norepi', 'remin'): 6.90875477931522,\n",
       " ('ctx', 'omeprazol'): 6.90875477931522,\n",
       " ('asystol', 'peac'): -6.90875477931522,\n",
       " ('ctx', 'ferritin'): 6.90875477931522,\n",
       " ('fu', 'ipf'): -6.90875477931522,\n",
       " ('death', 'mso'): -6.90875477931522,\n",
       " ('gait', 'im'): 6.90875477931522,\n",
       " ('sluggishli', 'vasopressin'): -6.90875477931522,\n",
       " ('mellitu', 'morbid'): 6.90875477931522,\n",
       " ('arrang', 'cvo'): 6.90875477931522,\n",
       " ('gabapentin', 'nitroglycerin'): 6.90875477931522,\n",
       " ('caspofungin', 'norepinephrin'): 6.90875477931522,\n",
       " ('escal', 'prognosi'): -2.387057016415087,\n",
       " ('gabapentin', 'xl'): 6.90875477931522,\n",
       " ('autopsi', 'pronounc'): -6.90875477931522,\n",
       " ('adenocarcinoma', 'stair'): 6.90875477931522,\n",
       " ('asthma', 'para'): 6.90875477931522,\n",
       " ('diaphoresi', 'msicu'): 6.90875477931522,\n",
       " ('dyslipidemia', 'gut'): 6.90875477931522,\n",
       " ('dni', 'hung'): 6.90875477931522,\n",
       " ('arrang', 'arrest'): -6.90875477931522,\n",
       " ('ntnd', 'thiamin'): 6.90875477931522,\n",
       " ('robitussin', 'spacer'): 6.90875477931522,\n",
       " ('platelet', 'young'): 6.90875477931522,\n",
       " ('levoph', 'para'): 6.90875477931522,\n",
       " ('duski', 'pitressin'): -6.90875477931522,\n",
       " ('nicotin', 'olanzapin'): 6.90875477931522,\n",
       " ('ba', 'nacl'): -6.90875477931522,\n",
       " ('pneumococc', 'pod'): 6.90875477931522,\n",
       " ('fibrinogen', 'palli'): 0.4954049184643274,\n",
       " ('anur', 'fibrinogen'): 3.5482142591845283,\n",
       " ('levoph', 'mycolyt'): -6.90875477931522,\n",
       " ('declin', 'trazodon'): 6.90875477931522,\n",
       " ('spill', 'video'): 1.3825560390092835,\n",
       " ('omeprazol', 'predict'): 6.90875477931522,\n",
       " ('bronchovascular', 'unenhanc'): 6.90875477931522,\n",
       " ('fibrinogen', 'mucinex'): 6.90875477931522,\n",
       " ('commod', 'kerlix'): 6.90875477931522,\n",
       " ('dic', 'gadolinium'): 6.90875477931522,\n",
       " ('captopril', 'pose'): 6.90875477931522,\n",
       " ('refractori', 'suprapub'): 6.90875477931522,\n",
       " ('aricept', 'puff'): 6.90875477931522,\n",
       " ('recalibr', 'sorb'): -6.90875477931522,\n",
       " ('diaphoresi', 'hive'): 6.90875477931522,\n",
       " ('asystol', 'expir'): -6.90875477931522,\n",
       " ('dermat', 'platelet'): 6.90875477931522,\n",
       " ('dni', 'signatur'): -0.4046335072286383,\n",
       " ('dead', 'sundown'): -6.90875477931522,\n",
       " ('hive', 'scar'): 6.90875477931522,\n",
       " ('rm', 'ultrafiltr'): 6.90875477931522,\n",
       " ('bair', 'xl'): 6.90875477931522,\n",
       " ('hctz', 'palli'): 6.90875477931522,\n",
       " ('cooki', 'vallecula'): 0.0,\n",
       " ('chb', 'tcdb'): 6.90875477931522,\n",
       " ('hive', 'refractori'): 6.90875477931522,\n",
       " ('ferritin', 'osa'): 6.90875477931522,\n",
       " ('fc', 'snt'): 6.90875477931522,\n",
       " ('cellcept', 'dyslipidemia'): 6.90875477931522,\n",
       " ('bank', 'fax'): 6.90875477931522,\n",
       " ('commod', 'dnr'): 0.7967396039937533,\n",
       " ('^rr', 'diaper'): -6.90875477931522,\n",
       " ('dic', 'vtach'): -6.90875477931522,\n",
       " ('dobutamin', 'hugger'): 6.90875477931522,\n",
       " ('core', 'nitroglycerin'): -6.90875477931522,\n",
       " ('ctx', 'xl'): 6.90875477931522,\n",
       " ('angiogram', 'gadolinium'): 6.90875477931522,\n",
       " ('aliv', 'bottl'): 6.90875477931522,\n",
       " ('suprapub', 'trazodon'): 6.90875477931522,\n",
       " ('levoph', 'lift'): 6.90875477931522,\n",
       " ('arrest', 'sorb'): -6.90875477931522,\n",
       " ('jerk', 'sensat'): 6.90875477931522,\n",
       " ('dizzi', 'freeli'): 6.90875477931522,\n",
       " ('hospic', 'town'): 6.90875477931522,\n",
       " ('bromid', 'lac'): 6.90875477931522,\n",
       " ('dizzi', 'unasyn'): 6.90875477931522,\n",
       " ('duski', 'palli'): -6.90875477931522,\n",
       " ('moan', 'wish'): -6.90875477931522,\n",
       " ('pcv', 'refractori'): -6.90875477931522,\n",
       " ('adenocarcinoma', 'pleasant'): 6.90875477931522,\n",
       " ('bronchovascular', 'mail'): 6.90875477931522,\n",
       " ('dic', 'norepinephrin'): -1.3108776066383736,\n",
       " ('dni', 'mva'): 6.90875477931522,\n",
       " ('cmo', 'criticar'): -6.90875477931522,\n",
       " ('piriform', 'videofluoroscopi'): 6.90875477931522,\n",
       " ('bottl', 'ferritin'): 6.90875477931522,\n",
       " ('death', 'hypercapn'): -6.90875477931522,\n",
       " ('neo', 'pronounc'): -6.90875477931522,\n",
       " ('dead', 'levoph'): -6.90875477931522,\n",
       " ('ferrou', 'retic'): 6.90875477931522,\n",
       " ('diuril', 'pod'): 6.90875477931522,\n",
       " ('chair', 'cloth'): 6.90875477931522,\n",
       " ('hive', 'subdur'): 6.90875477931522,\n",
       " ('lusb', 'retic'): 6.90875477931522,\n",
       " ('levoph', 'scopalamin'): -6.90875477931522,\n",
       " ('hive', 'palli'): -6.90875477931522,\n",
       " ('nicotin', 'uri'): 6.90875477931522,\n",
       " ('mucinex', 'town'): 6.90875477931522,\n",
       " ('fdp', 'profound'): 6.90875477931522,\n",
       " ('mean', 'palli'): -6.90875477931522,\n",
       " ('artifici', 'dni'): 6.90875477931522,\n",
       " ('arrest', 'nocturn'): 6.90875477931522,\n",
       " ('mellitu', 'wallet'): 6.90875477931522,\n",
       " ('hung', 'trazodon'): -6.90875477931522,\n",
       " ('autopeep', 'pcv'): -6.90875477931522,\n",
       " ('sweat', 'wallet'): 6.90875477931522,\n",
       " ('ctx', 'im'): 6.90875477931522,\n",
       " ('bair', 'dnr'): -0.978543347733383,\n",
       " ('money', 'west'): 6.90875477931522,\n",
       " ('escal', 'hospic'): 2.552122795903801,\n",
       " ('readmit', 'xanax'): 6.90875477931522,\n",
       " ('cellcept', 'xl'): 6.90875477931522,\n",
       " ('dead', 'news'): -6.90875477931522,\n",
       " ('mellitu', 'retic'): 6.90875477931522,\n",
       " ('aglc', 'plate'): 6.90875477931522,\n",
       " ('quinolon', 'suffer'): -6.90875477931522,\n",
       " ('puff', 'xanax'): 6.90875477931522,\n",
       " ('autopsi', 'maroon'): -6.90875477931522,\n",
       " ('mean', 'phenylephrin'): 6.90875477931522,\n",
       " ('clonazepam', 'syncop'): -6.90875477931522,\n",
       " ('mrg', 'xii'): 6.90875477931522,\n",
       " ('cdb', 'lcw'): 6.90875477931522,\n",
       " ('bottl', 'levoph'): -1.5295247690781295,\n",
       " ('dnr', 'goc'): 0.3357879300251662,\n",
       " ('death', 'thiamin'): 6.90875477931522,\n",
       " ('schistocyt', 'syncop'): 6.90875477931522,\n",
       " ('ambien', 'modifi'): 6.90875477931522,\n",
       " ('autoset', 'osa'): 6.90875477931522,\n",
       " ('erythro', 'town'): 6.90875477931522,\n",
       " ('deliv', 'dobutamin'): -6.90875477931522,\n",
       " ('ggt', 'vtach'): -6.90875477931522,\n",
       " ('dni', 'paperwork'): 2.0716061679700735,\n",
       " ('endur', 'incis'): 6.90875477931522,\n",
       " ('hctz', 'phlegm'): 6.90875477931522,\n",
       " ('dnr', 'hemothorax'): -6.90875477931522,\n",
       " ('dni', 'scopalamin'): 0.509761227710204,\n",
       " ('reguard', 'uncoop'): 6.90875477931522,\n",
       " ('dnr', 'mind'): 6.90875477931522,\n",
       " ('arrest', 'cardiovert'): -6.90875477931522,\n",
       " ('cpr', 'ffp'): -6.90875477931522,\n",
       " ('gastriti', 'unstabl'): 6.90875477931522,\n",
       " ('cloth', 'hospic'): 6.90875477931522,\n",
       " ('dermat', 'meatu'): 6.90875477931522,\n",
       " ('chair', 'declin'): 0.509761227710204,\n",
       " ('palli', 'unequ'): -6.90875477931522,\n",
       " ('epsiod', 'rpr'): 6.90875477931522,\n",
       " ('levoph', 'xii'): 6.90875477931522,\n",
       " ('ba', 'wish'): 6.90875477931522,\n",
       " ('commod', 'venti'): 6.90875477931522,\n",
       " ('bank', 'mso'): 6.90875477931522,\n",
       " ('hydralizin', 'hypothermia'): 6.90875477931522,\n",
       " ('carvedilol', 'unasyn'): 6.90875477931522,\n",
       " ('ambien', 'diaphoresi'): 6.90875477931522,\n",
       " ('splint', 'syncop'): 6.90875477931522,\n",
       " ('cyanot', 'twitch'): -6.90875477931522,\n",
       " ('autopeep', 'cisatracurium'): -6.90875477931522,\n",
       " ('pcv', 'pea'): -6.90875477931522,\n",
       " ('arrest', 'venti'): 6.90875477931522,\n",
       " ('fax', 'levoph'): 6.90875477931522,\n",
       " ('cyanot', 'dietari'): 6.90875477931522,\n",
       " ('clonazepam', 'zyprexa'): 6.90875477931522,\n",
       " ('ambul', 'spiromet'): 6.90875477931522,\n",
       " ('reguard', 'schizophrenia'): 6.90875477931522,\n",
       " ('foci', 'natg'): 0.6916505477038827,\n",
       " ('ggt', 'pyuria'): -6.90875477931522,\n",
       " ('oncologist', 'twitch'): 6.90875477931522,\n",
       " ('aox', 'wish'): 6.90875477931522,\n",
       " ('lat', 'postop'): 6.90875477931522,\n",
       " ('unstabl', 'vasoconstrict'): -6.90875477931522,\n",
       " ('dni', 'quinolon'): -6.90875477931522,\n",
       " ('commod', 'pivot'): -1.3825560390092835,\n",
       " ('phlegm', 'signatur'): 6.90875477931522,\n",
       " ('hsq', 'unavail'): 6.90875477931522,\n",
       " ('sluggish', 'sorb'): -6.90875477931522,\n",
       " ('dni', 'pronounc'): -6.90875477931522,\n",
       " ('hospic', 'underneath'): -6.90875477931522,\n",
       " ('align', 'magnevist'): 6.90875477931522,\n",
       " ('aliv', 'pharyng'): -6.90875477931522,\n",
       " ('expir', 'moan'): -6.90875477931522,\n",
       " ('echocardiogram', 'tdi'): 6.90875477931522,\n",
       " ('dni', 'iddm'): 6.90875477931522,\n",
       " ('klonopin', 'zoloft'): 6.90875477931522,\n",
       " ('cloth', 'oncologist'): 6.90875477931522,\n",
       " ('motor', 'seat'): 6.90875477931522,\n",
       " ('dic', 'xanax'): 6.90875477931522,\n",
       " ('ba', 'distanc'): 6.90875477931522,\n",
       " ('oncologist', 'prilosec'): 6.90875477931522,\n",
       " ('levoph', 'requr'): -6.90875477931522,\n",
       " ('hypothermia', 'robitussin'): 6.90875477931522,\n",
       " ('mrg', 'thrive'): 6.90875477931522,\n",
       " ('defibril', 'lpm'): 6.90875477931522,\n",
       " ('intent', 'puff'): 6.90875477931522,\n",
       " ('epidur', 'robitussin'): 6.90875477931522,\n",
       " ('cmo', 'expir'): -6.90875477931522,\n",
       " ('scar', 'xopenex'): -6.90875477931522,\n",
       " ('dni', 'nimv'): -6.90875477931522,\n",
       " ('crack', 'nocturn'): 6.90875477931522,\n",
       " ('escal', 'neosynephrin'): -6.90875477931522,\n",
       " ('asthma', 'ferrou'): 6.90875477931522,\n",
       " ('laryng', 'oncologist'): 6.90875477931522,\n",
       " ('db', 'dizzi'): 6.90875477931522,\n",
       " ('palli', 'prognosi'): -2.0716061679700735,\n",
       " ('pvr', 'spectral'): 6.90875477931522,\n",
       " ('dz', 'lat'): 6.90875477931522,\n",
       " ('griev', 'levoph'): -6.90875477931522,\n",
       " ('fc', 'meatu'): 6.90875477931522,\n",
       " ('dopamin', 'transmitr'): 6.90875477931522,\n",
       " ('crack', 'habitu'): 6.90875477931522,\n",
       " ('mso', 'west'): 6.90875477931522,\n",
       " ('unsteadi', 'vtach'): 6.90875477931522,\n",
       " ('chair', 'sooner'): 6.90875477931522,\n",
       " ('ambul', 'dni'): 0.6916505477038827,\n",
       " ('fatti', 'signatur'): 6.90875477931522,\n",
       " ('puff', 'ruptur'): 6.90875477931522,\n",
       " ('cloth', 'dizzi'): 6.90875477931522,\n",
       " ('cpr', 'dopamin'): -6.90875477931522,\n",
       " ('nahco', 'pleasant'): 6.90875477931522,\n",
       " ('cmo', 'mva'): 6.90875477931522,\n",
       " ('cpr', 'suport'): -6.90875477931522,\n",
       " ('laminectomi', 'stitch'): 6.90875477931522,\n",
       " ('chip', 'deflat'): 6.90875477931522,\n",
       " ('captopril', 'ffp'): 6.90875477931522,\n",
       " ('gvhd', 'vasopressin'): -6.90875477931522,\n",
       " ('hypercapnia', 'rpr'): 6.90875477931522,\n",
       " ('commod', 'hunger'): 6.90875477931522,\n",
       " ('ba', 'robitussin'): 6.90875477931522,\n",
       " ('declin', 'osa'): 6.90875477931522,\n",
       " ('epigastr', 'suprapub'): 6.90875477931522,\n",
       " ('clonazepam', 'pharyng'): 6.90875477931522,\n",
       " ('db', 'ppd'): 6.90875477931522,\n",
       " ('nifedipin', 'unrel'): -6.90875477931522,\n",
       " ('metoclopramid', 'young'): 6.90875477931522,\n",
       " ('appi', 'quietli'): 6.90875477931522,\n",
       " ('autopsi', 'escal'): -6.90875477931522,\n",
       " ('grimmac', 'scab'): 6.90875477931522,\n",
       " ('chair', 'oob'): 1.882589260705126,\n",
       " ('gait', 'rigor'): 6.90875477931522,\n",
       " ('ambul', 'xopenex'): 6.90875477931522,\n",
       " ('acidot', 'pinpoint'): -6.90875477931522,\n",
       " ('clergi', 'paralyt'): -6.90875477931522,\n",
       " ('dizzi', 'phlegm'): 6.90875477931522,\n",
       " ('bank', 'wish'): 6.90875477931522,\n",
       " ('ba', 'intent'): 6.90875477931522,\n",
       " ('asthma', 'ppd'): 2.5001408943598484,\n",
       " ('muir', 'passey'): 6.90875477931522,\n",
       " ('declin', 'rabbi'): -6.90875477931522,\n",
       " ('dic', 'profound'): 2.473073171472692,\n",
       " ('strictur', 'vagu'): 6.90875477931522,\n",
       " ('uncoop', 'vagu'): 6.90875477931522,\n",
       " ('ferrou', 'soln'): 6.90875477931522,\n",
       " ('panic', 'sensat'): 6.90875477931522,\n",
       " ('brb', 'cefapim'): 6.90875477931522,\n",
       " ('ppd', 'proport'): 6.90875477931522,\n",
       " ('cdb', 'contd'): 6.90875477931522,\n",
       " ('icter', 'platelet'): -6.90875477931522,\n",
       " ('aliv', 'hilum'): 6.90875477931522,\n",
       " ('duski', 'wish'): -6.90875477931522,\n",
       " ('dk', 'dni'): 6.90875477931522,\n",
       " ('dni', 'xl'): 6.90875477931522,\n",
       " ('gastriti', 'lax'): 6.90875477931522,\n",
       " ('crack', 'lotion'): 6.90875477931522,\n",
       " ('qam', 'wish'): 6.90875477931522,\n",
       " ('fatti', 'splint'): 6.90875477931522,\n",
       " ('herp', 'nifedipin'): 6.90875477931522,\n",
       " ('angiogram', 'deploy'): 6.90875477931522,\n",
       " ('lc', 'ozz'): -6.90875477931522,\n",
       " ('captopril', 'ppd'): -6.90875477931522,\n",
       " ('ba', 'quinolon'): -6.90875477931522,\n",
       " ('foci', 'magnevist'): 6.90875477931522,\n",
       " ('chemic', 'cocain'): 6.90875477931522,\n",
       " ('grave', 'neo'): -6.90875477931522,\n",
       " ('chip', 'mean'): 6.90875477931522,\n",
       " ('mva', 'unstabl'): 6.90875477931522,\n",
       " ('adam', 'cmo'): -6.90875477931522,\n",
       " ('rehabilit', 'young'): 6.90875477931522,\n",
       " ('readmit', 'scar'): 6.90875477931522,\n",
       " ('icter', 'sweat'): -6.90875477931522,\n",
       " ('dietari', 'dni'): 6.90875477931522,\n",
       " ('diamox', 'dnr'): 6.90875477931522,\n",
       " ('distanc', 'oob'): 6.90875477931522,\n",
       " ('dni', 'lymphangit'): 6.90875477931522,\n",
       " ('align', 'natg'): 6.90875477931522,\n",
       " ('cramp', 'mellitu'): -6.90875477931522,\n",
       " ('dni', 'underneath'): -6.90875477931522,\n",
       " ('aricept', 'dead'): -6.90875477931522,\n",
       " ('dni', 'nocturn'): 6.90875477931522,\n",
       " ('arrest', 'struggl'): 6.90875477931522,\n",
       " ('lpm', 'solut'): 6.90875477931522,\n",
       " ('robitussin', 'sweat'): 6.90875477931522,\n",
       " ('captopril', 'scar'): 6.90875477931522,\n",
       " ('dnr', 'scab'): 0.6916505477038827,\n",
       " ('herp', 'pleasant'): 6.90875477931522,\n",
       " ('cyanot', 'mso'): -6.90875477931522,\n",
       " ('hive', 'morbid'): 6.90875477931522,\n",
       " ('declin', 'life'): -1.6994502465251524,\n",
       " ('oob', 'thrive'): 6.90875477931522,\n",
       " ('colonoscopi', 'dopamin'): 6.90875477931522,\n",
       " ('pleasant', 'spacer'): 6.90875477931522,\n",
       " ('bicarbon', 'clonidin'): 6.90875477931522,\n",
       " ('respitori', 'resucit'): -6.90875477931522,\n",
       " ('grave', 'hook'): 6.90875477931522,\n",
       " ('ntnd', 'retic'): 6.90875477931522,\n",
       " ('esld', 'oob'): 6.90875477931522,\n",
       " ('ambien', 'splint'): 6.90875477931522,\n",
       " ('arrang', 'herp'): 6.90875477931522,\n",
       " ('mrg', 'sundown'): 6.90875477931522,\n",
       " ('fatti', 'homogen'): 6.90875477931522,\n",
       " ('calculi', 'puff'): 6.90875477931522,\n",
       " ('moan', 'respitori'): 6.90875477931522,\n",
       " ('dnr', \"sxn'ing\"): 6.90875477931522,\n",
       " ('young', 'zero'): 6.90875477931522,\n",
       " ('calculi', 'intent'): 6.90875477931522,\n",
       " ('dizzi', 'incis'): 6.90875477931522,\n",
       " ('hurt', 'video'): 6.90875477931522,\n",
       " ('asthma', 'pod'): 6.90875477931522,\n",
       " ('bicarbon', 'dic'): -6.90875477931522,\n",
       " ('distort', 'slice'): -6.90875477931522,\n",
       " ('cisatracurium', 'mellitu'): 6.90875477931522,\n",
       " ('forc', 'oob'): -6.90875477931522,\n",
       " ('dni', 'fdp'): -6.90875477931522,\n",
       " ('articul', 'paperwork'): 6.90875477931522,\n",
       " ('echocardiogram', 'ferrou'): 6.90875477931522,\n",
       " ('rhinorrhea', 'ruptur'): 6.90875477931522,\n",
       " ('anuria', 'chair'): 6.90875477931522,\n",
       " ('cisatracurium', 'gvhd'): -6.90875477931522,\n",
       " ('seroquel', 'uri'): 6.90875477931522,\n",
       " ('compani', 'predict'): 6.90875477931522,\n",
       " ('neo', 'recev'): -6.90875477931522,\n",
       " ('endur', 'xanax'): 6.90875477931522,\n",
       " ('arrang', 'levoph'): -6.90875477931522,\n",
       " ('ba', 'diaphoresi'): 6.90875477931522,\n",
       " ('redirect', 'schizophrenia'): 6.90875477931522,\n",
       " ('cs', 'lpm'): -6.90875477931522,\n",
       " ('chip', 'video'): 6.90875477931522,\n",
       " ('habitu', 'homogen'): 6.90875477931522,\n",
       " ('chb', 'hemothorax'): -6.90875477931522,\n",
       " ('pharyng', 'silent'): 6.90875477931522,\n",
       " ('nectar', 'vallecula'): 2.0716061679700735,\n",
       " ('adam', 'sweat'): -6.90875477931522,\n",
       " ('dnr', 'incis'): -6.90875477931522,\n",
       " ('platelet', 'preme'): 6.90875477931522,\n",
       " ('echocardiogram', 'scar'): 6.90875477931522,\n",
       " ('arrest', 'bicarbon'): -6.90875477931522,\n",
       " ('cracker', 'dnr'): 6.90875477931522,\n",
       " ('cmo', 'icter'): -6.90875477931522,\n",
       " ('colonoscopi', 'readdress'): 6.90875477931522,\n",
       " ('occipit', 'postop'): 6.90875477931522,\n",
       " ('echocardiogram', 'subcost'): 6.90875477931522,\n",
       " ('clonazepam', 'ferrou'): 6.90875477931522,\n",
       " ('declin', 'intiat'): -6.90875477931522,\n",
       " ('chb', 'gurgl'): -6.90875477931522,\n",
       " ('bank', 'ffp'): 6.90875477931522,\n",
       " ('dnr', 'town'): 6.90875477931522,\n",
       " ('chb', 'hive'): -6.90875477931522,\n",
       " ('esld', 'itchi'): -6.90875477931522,\n",
       " ('puff', 'qam'): 6.90875477931522,\n",
       " ('fibrinogen', 'hive'): -0.4333912883881454,\n",
       " ('carvedilol', 'reveiw'): 6.90875477931522,\n",
       " ('declin', 'modifi'): 6.90875477931522,\n",
       " ('mtg', 'phenylephrin'): -6.90875477931522,\n",
       " ('contd', 'jewelri'): 6.90875477931522,\n",
       " ('fdp', 'ffp'): 0.0,\n",
       " ('bank', 'oob'): 6.90875477931522,\n",
       " ('dead', 'unrel'): -6.90875477931522,\n",
       " ('crack', 'hygein'): 6.90875477931522,\n",
       " ('dopamin', 'romi'): -6.90875477931522,\n",
       " ('gasp', 'qam'): -6.90875477931522,\n",
       " ('hiccup', 'hilum'): -6.90875477931522,\n",
       " ('declin', 'ferrou'): 6.90875477931522,\n",
       " ('azotemia', 'ggt'): -6.90875477931522,\n",
       " ('chb', 'svv'): 6.90875477931522,\n",
       " ('dni', 'ofm'): 6.90875477931522,\n",
       " ('duski', 'sluggish'): 6.90875477931522,\n",
       " ('gabapentin', 'rigor'): 6.90875477931522,\n",
       " ('dopamin', 'paperwork'): -6.90875477931522,\n",
       " ('jerk', 'strictur'): 6.90875477931522,\n",
       " ('ambul', 'breakfast'): 6.90875477931522,\n",
       " ('anuria', 'fibrinogen'): 1.095952712632351,\n",
       " ('dni', 'fc'): -6.90875477931522,\n",
       " ('fibrinogen', 'thiamin'): 6.90875477931522,\n",
       " ('ntnd', 'sundown'): 6.90875477931522,\n",
       " ('dic', 'vasopressin'): -6.90875477931522,\n",
       " ('incent', 'strictur'): 6.90875477931522,\n",
       " ('adam', 'platelet'): -6.90875477931522,\n",
       " ('anaphylaxi', 'hive'): 6.90875477931522,\n",
       " ('hypothermia', 'nice'): 6.90875477931522,\n",
       " ('jewelri', 'spiromet'): 6.90875477931522,\n",
       " ('commod', 'prognosi'): 6.90875477931522,\n",
       " ('dopamin', 'escal'): -6.90875477931522,\n",
       " ('levoph', 'ppd'): 6.90875477931522,\n",
       " ('hung', 'hypotherm'): -6.90875477931522,\n",
       " ('pronounc', 'xanax'): 6.90875477931522,\n",
       " ('ctx', 'nectar'): 6.90875477931522,\n",
       " ('echocardiogram', 'mean'): 6.90875477931522,\n",
       " ('core', 'phenylephrin'): -6.90875477931522,\n",
       " ('analgesia', 'para'): 6.90875477931522,\n",
       " ('declin', 'dietari'): 6.90875477931522,\n",
       " ('omeprazol', 'young'): 6.90875477931522,\n",
       " ('duski', 'mortem'): -6.90875477931522,\n",
       " ('dead', 'vasopress'): -6.90875477931522,\n",
       " ('platelet', 'sundown'): 6.90875477931522,\n",
       " ('expir', 'sluggish'): -6.90875477931522,\n",
       " ('declin', 'epigastr'): 6.90875477931522,\n",
       " ('bottl', 'habitu'): 6.90875477931522,\n",
       " ('hepatobiliari', 'perisplen'): -6.90875477931522,\n",
       " ('hugger', 'mottl'): 6.90875477931522,\n",
       " ('bank', 'syncop'): 6.90875477931522,\n",
       " ('aricept', 'norepinephrin'): 6.90875477931522,\n",
       " ('anaphylaxi', 'dni'): 6.90875477931522,\n",
       " ('hugger', 'pinpoint'): -6.90875477931522,\n",
       " ('deterior', 'dopamin'): -6.90875477931522,\n",
       " ('cellcept', 'cocain'): 6.90875477931522,\n",
       " ('gotten', 'iddm'): 6.90875477931522,\n",
       " ('panic', 'stitch'): 6.90875477931522,\n",
       " ('esld', 'neutral'): 6.90875477931522,\n",
       " ('declin', 'option'): 1.3825560390092835,\n",
       " ('ctx', 'scar'): 6.90875477931522,\n",
       " ('declin', 'gait'): 6.90875477931522,\n",
       " ('adenocarcinoma', 'xii'): 6.90875477931522,\n",
       " ('dnr', 'waist'): -0.6916505477038827,\n",
       " ('norepinephrin', 'pplat'): -6.90875477931522,\n",
       " ('acc', 'aricept'): 6.90875477931522,\n",
       " ('captopril', 'sweat'): -6.90875477931522,\n",
       " ('dnr', 'tcdb'): 6.90875477931522,\n",
       " ('peribronchovascular', 'slice'): 6.90875477931522,\n",
       " ('historian', 'sundown'): 6.90875477931522,\n",
       " ('impli', 'norepinephrin'): 6.90875477931522,\n",
       " ('barium', 'ipf'): -6.90875477931522,\n",
       " ('fibrinogen', 'pastor'): -6.90875477931522,\n",
       " ('bicarbon', 'hypercapnia'): -6.90875477931522,\n",
       " ('expir', 'mortem'): -6.90875477931522,\n",
       " ('omeprazol', 'zyprexa'): 6.90875477931522,\n",
       " ('cisatracurium', 'paralyt'): -6.90875477931522,\n",
       " ('hypothermia', 'pinpoint'): -6.90875477931522,\n",
       " ('dxae', 'pneumonectomi'): -6.90875477931522,\n",
       " ('hsq', 'venti'): 6.90875477931522,\n",
       " ('levoph', 'nectar'): 6.90875477931522,\n",
       " ('clinician', 'neosynephrin'): -6.90875477931522,\n",
       " ('lat', 'neoplast'): 6.90875477931522,\n",
       " ('hospic', 'rhinorrhea'): 6.90875477931522,\n",
       " ('mrcp', 'osteoblast'): -6.90875477931522,\n",
       " ('lat', 'pod'): 6.90875477931522,\n",
       " ('dz', 'endplat'): 6.90875477931522,\n",
       " ('mind', 'qam'): 6.90875477931522,\n",
       " ('lat', 'omeprazol'): 6.90875477931522,\n",
       " ('captopril', 'criticar'): 6.90875477931522,\n",
       " ('acc', 'echocardiogram'): 6.90875477931522,\n",
       " ('incent', 'pvr'): 6.90875477931522,\n",
       " ('deterior', 'gc'): 6.90875477931522,\n",
       " ('chair', 'dz'): 6.90875477931522,\n",
       " ('anaphylaxi', 'morbid'): 6.90875477931522,\n",
       " ('hook', 'scar'): 6.90875477931522,\n",
       " ('calvarium', 'slice'): 6.90875477931522,\n",
       " ('core', 'oncologist'): 6.90875477931522,\n",
       " ('nicotin', 'tran'): 6.90875477931522,\n",
       " ('chair', 'dead'): -6.90875477931522,\n",
       " ('dni', 'unequ'): 6.90875477931522,\n",
       " ('ind', 'moan'): -6.90875477931522,\n",
       " ('cpr', 'unstabl'): -6.90875477931522,\n",
       " ('west', 'young'): 6.90875477931522,\n",
       " ('ctx', 'hctz'): 6.90875477931522,\n",
       " ('cloth', 'hive'): 6.90875477931522,\n",
       " ('breakfast', 'intiat'): 6.90875477931522,\n",
       " ('adam', 'dnr'): -0.3559478733594755,\n",
       " ('bromid', 'trazodon'): 6.90875477931522,\n",
       " ('fibrinogen', 'fungemia'): 6.90875477931522,\n",
       " ('pneumococc', 'sibl'): 6.90875477931522,\n",
       " ('hover', 'nahco'): 6.90875477931522,\n",
       " ('clonazepam', 'opiat'): 6.90875477931522,\n",
       " ('artifici', 'sundown'): 6.90875477931522,\n",
       " ('prec', 'prognosi'): 6.90875477931522,\n",
       " ('chb', 'norepinephrin'): -6.90875477931522,\n",
       " ('fatti', 'pneumothorac'): 6.90875477931522,\n",
       " ('db', 'tubular'): 6.90875477931522,\n",
       " ('ind', 'neosynephrin'): -6.90875477931522,\n",
       " ('ffp', 'ppd'): 6.90875477931522,\n",
       " ('esld', 'neo'): 6.90875477931522,\n",
       " ('mottl', 'neo'): -6.90875477931522,\n",
       " ('hypotherm', 'xl'): 6.90875477931522,\n",
       " ('im', 'romi'): 6.90875477931522,\n",
       " ('aaox', 'effac'): 6.90875477931522,\n",
       " ('im', 'rhinorrhea'): 6.90875477931522,\n",
       " ('respitori', 'struggl'): -6.90875477931522,\n",
       " ('compani', 'dizzi'): 6.90875477931522,\n",
       " ('dni', 'nectar'): 6.90875477931522,\n",
       " ('dic', 'subq'): 6.90875477931522,\n",
       " ('gastrojejunostomi', 'jejunum'): 6.90875477931522,\n",
       " ('ipf', 'kyphoscoliosi'): -6.90875477931522,\n",
       " ('osteoblast', 'tubular'): -6.90875477931522,\n",
       " ('dnr', 'nifedipin'): 1.8545061136498264,\n",
       " ('captopril', 'pod'): 6.90875477931522,\n",
       " ('captopril', 'jewelri'): 6.90875477931522,\n",
       " ('cocain', 'lac'): 6.90875477931522,\n",
       " ('bottl', 'escal'): -6.90875477931522,\n",
       " ('neo', 'palli'): -6.90875477931522,\n",
       " ('pea', 'recalibr'): -6.90875477931522,\n",
       " ('asthma', 'itchi'): 6.90875477931522,\n",
       " ('hctz', 'zoloft'): 6.90875477931522,\n",
       " ('contd', 'dizzi'): 6.90875477931522,\n",
       " ('hypothermia', 'stair'): -6.90875477931522,\n",
       " ('sibl', 'unstabl'): -6.90875477931522,\n",
       " ('ctx', 'esld'): 6.90875477931522,\n",
       " ('ba', 'chair'): -6.90875477931522,\n",
       " ('incent', 'spacer'): 6.90875477931522,\n",
       " ('stair', 'xii'): 6.90875477931522,\n",
       " ('futil', 'hypotherm'): -6.90875477931522,\n",
       " ('gabapentin', 'jewelri'): 6.90875477931522,\n",
       " ('oncologist', 'pod'): 6.90875477931522,\n",
       " ('ctx', 'muddi'): -6.90875477931522,\n",
       " ('gotten', 'signatur'): 6.90875477931522,\n",
       " ('nonrebreath', 'wish'): 6.90875477931522,\n",
       " ('aaox', 'behavior'): 6.90875477931522,\n",
       " ('hypotherm', 'lcw'): -6.90875477931522,\n",
       " ('dermat', 'readmit'): 6.90875477931522,\n",
       " ('natg', 'scar'): -6.90875477931522,\n",
       " ('breakfast', 'epigastr'): 6.90875477931522,\n",
       " ('arrang', 'dobutamin'): -6.90875477931522,\n",
       " ('cardiovert', 'crrt'): 0.9321619411561344,\n",
       " ('ultram', 'uri'): 6.90875477931522,\n",
       " ('ind', 'sluggish'): -6.90875477931522,\n",
       " ('epidur', 'magnevist'): 6.90875477931522,\n",
       " ('erythro', 'robitussin'): 6.90875477931522,\n",
       " ('cmo', 'phenylephrin'): -6.90875477931522,\n",
       " ('chip', 'hospic'): 6.90875477931522,\n",
       " ('arrang', 'hive'): 6.90875477931522,\n",
       " ('aricept', 'hive'): 6.90875477931522,\n",
       " ('bicarbon', 'subq'): 6.90875477931522,\n",
       " ('lac', 'learn'): 6.90875477931522,\n",
       " ('gait', 'pivot'): 6.90875477931522,\n",
       " ('dead', 'death'): -6.90875477931522,\n",
       " ('ambul', 'cracker'): 6.90875477931522,\n",
       " ('cyanot', 'incis'): -0.978543347733383,\n",
       " ('burn', 'quadrent'): 6.90875477931522,\n",
       " ('death', 'intiat'): -6.90875477931522,\n",
       " ('iddm', 'money'): 6.90875477931522,\n",
       " ('^th', 'paralyt'): 6.90875477931522,\n",
       " ('^th', 'recruit'): 6.90875477931522,\n",
       " ('deterior', 'sibl'): -1.2495579516853903,\n",
       " ('osa', 'svn'): 6.90875477931522,\n",
       " ...}"
      ]
     },
     "execution_count": 25,
     "metadata": {},
     "output_type": "execute_result"
    }
   ],
   "source": [
    "patient_cooc_odd_scores"
   ]
  },
  {
   "cell_type": "code",
   "execution_count": 26,
   "metadata": {},
   "outputs": [],
   "source": [
    "# Data normalization\n",
    "import numpy\n",
    "def data_norm(cooc_odd_scores):\n",
    "\n",
    "    def norm_arr(array):\n",
    "        arr = numpy.array(list(array))\n",
    "        start = 0\n",
    "        end = 1\n",
    "        width = end - start\n",
    "        res = (arr - arr.min())/(arr.max() - arr.min()) * width + start\n",
    "        return res.tolist()\n",
    "\n",
    "    cooc_keys, cooc_values = zip(*cooc_odd_scores.items())\n",
    "    new_cooc_odd_scores = dict(zip(cooc_keys, norm_arr(cooc_values)))\n",
    "\n",
    "    return new_cooc_odd_scores\n",
    "\n",
    "new_patient_cooc_odd_scores = data_norm(patient_cooc_odd_scores)"
   ]
  },
  {
   "cell_type": "code",
   "execution_count": null,
   "metadata": {},
   "outputs": [],
   "source": []
  },
  {
   "cell_type": "code",
   "execution_count": 79,
   "metadata": {},
   "outputs": [],
   "source": [
    "# Additional code to label node words\n",
    "apr_patient_node_set = set()\n",
    "apr_patient_node_0_dict = {}\n",
    "apr_patient_node_1_dict = {}\n",
    "    \n",
    "for k, v in apr_patient_node_0.items():\n",
    "    for item in v:\n",
    "        apr_patient_node_set.add(item)\n",
    "        \n",
    "        if item not in apr_patient_node_0_dict:\n",
    "            apr_patient_node_0_dict[item] = v[item]\n",
    "        else:\n",
    "            apr_patient_node_0_dict[item] = apr_patient_node_0_dict[item] + v[item]\n",
    "        \n",
    "    \n",
    "for k, v in apr_patient_node_1.items():\n",
    "    for item in v:\n",
    "        apr_patient_node_set.add(item)\n",
    "        \n",
    "        if item not in apr_patient_node_1_dict:\n",
    "            apr_patient_node_1_dict[item] = v[item]\n",
    "        else:\n",
    "            apr_patient_node_1_dict[item] = apr_patient_node_1_dict[item] + v[item]"
   ]
  },
  {
   "cell_type": "code",
   "execution_count": 81,
   "metadata": {},
   "outputs": [
    {
     "name": "stdout",
     "output_type": "stream",
     "text": [
      "705\n",
      "498\n",
      "648\n"
     ]
    }
   ],
   "source": [
    "print(len(apr_patient_node_set))\n",
    "print(len(apr_patient_node_0_dict))\n",
    "print(len(apr_patient_node_1_dict))\n",
    "        "
   ]
  },
  {
   "cell_type": "code",
   "execution_count": 82,
   "metadata": {},
   "outputs": [],
   "source": [
    "apr_patient_node_odd_scores = {}\n",
    "\n",
    "for set_item in apr_patient_node_set:\n",
    "    if set_item in apr_patient_node_0_dict and set_item in apr_patient_node_1_dict:\n",
    "        d_prob = apr_patient_node_0_dict[set_item]/(apr_patient_node_0_dict[set_item] + apr_patient_node_1_dict[set_item])\n",
    "        a_prob = apr_patient_node_1_dict[set_item]/(apr_patient_node_0_dict[set_item] + apr_patient_node_1_dict[set_item])\n",
    "        log_odd_score = math.log((a_prob + 0.001)/(d_prob+0.001))\n",
    "        apr_patient_node_odd_scores[set_item] = log_odd_score\n",
    "    elif set_item in apr_patient_node_0_dict:\n",
    "        log_odd_score = math.log((0.001)/(1.001))\n",
    "        apr_patient_node_odd_scores[set_item] = log_odd_score\n",
    "    elif set_item in apr_patient_node_1_dict:\n",
    "        log_odd_score = math.log((1.001)/(0.001))\n",
    "        apr_patient_node_odd_scores[set_item] = log_odd_score"
   ]
  },
  {
   "cell_type": "code",
   "execution_count": 83,
   "metadata": {},
   "outputs": [
    {
     "name": "stdout",
     "output_type": "stream",
     "text": [
      "{'deliv': 0.8734901684270467, 'hive': 2.0229359235263975, 'neo': 0.32885950730718444, 'arthrit': 6.90875477931522, 'ethic': -1.5071592673130696, 'levoph': 0.2748315315754722, 'burn': 0.99618891094063, 'hemodynim': -6.90875477931522, 'wether': 6.90875477931522, 'lac': 6.90875477931522, 'declin': 0.12958824253036608, 'pod': 6.90875477931522, 'soln': 6.90875477931522, 'snt': 6.90875477931522, 'slice': 2.3410355182973803, 'formul': 6.90875477931522, 'absorb': 3.7302451016897415, 'precordium': 1.7859498421315991, 'cloth': 2.7567935411197357, 'autopsi': -6.90875477931522, 'ggo': 6.90875477931522, 'hsq': 2.3252014967349517, 'spill': 2.0716061679700735, 'diuril': 2.5001408943598484, 'qam': 3.434299431289231, 'klonopin': 6.90875477931522, 'extremitiy': 6.90875477931522, 'pneumonectomi': 1.782563518479713, 'crowd': 2.2927445483990123, 'para': 3.5482142591845283, 'outer': 1.9390841839849136, 'ferritin': 6.90875477931522, 'gentamycin': -0.6367258577150002, 'cooki': 1.095952712632351, 'chip': 2.3643166761406507, 'twitch': 2.9153029774692873, 'ba': 1.9186096029704705, 'influenc': 6.90875477931522, 'hygein': 6.90875477931522, 'incis': 1.579002743431089, 'ozz': 0.0, 'bsn': 6.90875477931522, 'bow': 6.90875477931522, 'anur': 0.8030022934595525, 'platelet': 0.49232595217825126, 'recev': -6.90875477931522, 'vasopress': -6.90875477931522, 'religi': -6.90875477931522, 'hover': 2.2927445483990123, 'unasyn': 1.731218733038237, 'viabl': -6.90875477931522, 'wfl': 6.90875477931522, 'quadrent': 0.4046335072286383, 'griev': -6.90875477931522, 'cdb': 2.1883847407670785, 'echocardiogram': 0.7003623951165779, 'dermat': 1.6401854773278883, 'core': 1.3825560390092835, 'pray': 6.90875477931522, 'escal': 0.20607683180617753, 'montitor': -6.90875477931522, 'clonidin': 0.96284245026402, 'ferrou': 6.90875477931522, 'gadolinium': 3.685095324902412, 'video': 1.7291322917584497, 'exophyt': 1.2495579516853903, 'among': -0.6916505477038827, 'unobtain': 1.295899090635986, 'oncologist': 1.5440526490255895, \"sxn'ing\": 6.90875477931522, 'stair': 4.519003197493704, 'futil': -1.7859498421315991, 'binder': 6.90875477931522, 'mjmgb': 0.28709992764761555, 'grim': 0.0, 'peac': -6.90875477931522, 'scar': 1.30420461511179, 'schizophrenia': 6.90875477931522, 'nonreact': -0.6916505477038827, 'ran': 6.90875477931522, 'paralyt': 0.2915450119745066, 'carvedilol': 2.3137327286917113, 'mail': 0.9141958635336067, 'pleasant': 2.938925682595307, 'opiat': 1.4022741716305158, 'autoset': 6.90875477931522, 'petechia': -6.90875477931522, 'crt': 6.90875477931522, 'underneath': 1.604655121332035, 'impli': 0.6916505477038827, 'analgesia': -2.975999183507034, 'nicotin': 6.90875477931522, 'mellitu': 3.544856638780326, 'park': 0.0, 'diamox': 6.90875477931522, 'deterior': 2.09609753878805, 'polymorph': -6.90875477931522, 'dietet': 6.90875477931522, 'gurgl': 3.4929879801825825, 'beeper': 6.90875477931522, 'romi': 4.012246232639022, 'videofluoroscopi': 6.90875477931522, 'hook': 1.095952712632351, 'norepinephrin': -0.43242991070027637, 'depth': 6.90875477931522, 'qtc': 2.8449265087198694, 'syncop': 2.9024557698507274, 'pharmacolog': 6.90875477931522, 'gotten': 6.90875477931522, 'seat': 1.7522526603261124, 'cyanot': -0.3669741958284662, 'inspit': 6.90875477931522, 'jejunum': 0.7604677155175795, 'agon': -2.8449265087198694, 'lotion': 0.338525625433055, 'distanc': 0.2226944607151099, 'cardiovert': -0.09125144891605802, 'wallet': 2.431010881582868, 'silent': 1.8654833430478823, 'eob': 6.90875477931522, 'eg': 6.90875477931522, 'muir': 6.90875477931522, 'furhter': 0.0, '^th': 6.90875477931522, 'spectral': 0.9141958635336067, 'circuit': 0.35594787335947553, 'uncoop': 6.90875477931522, 'coarctat': 2.6932429501279174, 'colour': -6.90875477931522, 'rehabilit': 0.9696017743069605, 'ruptur': 3.534710684398021, 'paperwork': 3.60035323709679, 'dic': 0.6441396014532509, 'zyprexa': 3.1394903406223924, 'im': 2.0716061679700735, 'distort': 3.0693478748272645, 'chane': 0.0, 'omeprazol': 3.596724357801586, 'arrang': -0.15384177749734168, 'polici': -6.90875477931522, 'nonlabor': 6.90875477931522, 'motor': 6.90875477931522, 'profound': 2.3171874752897743, 'iddm': 6.90875477931522, 'barotrauma': 6.90875477931522, 'itchi': 0.18195562807943735, 'vigileo': 0.0, 'money': 2.564696496975962, 'refractori': 3.8042847712588044, 'occupi': 1.4998139424623853, 'pastor': -6.90875477931522, 'centimet': 0.9141958635336067, 'cisatracurium': -0.23793064592650037, 'olanzapin': 4.882519352245834, 'fu': 1.2776213552427604, 'option': -1.0071107915651871, 'bairhugg': 6.90875477931522, 'dyslipidemia': 6.90875477931522, 'prognosi': -1.9603449539503417, 'dk': 0.9141958635336067, 'sluggish': 0.6311744306487658, 'eyelid': -6.90875477931522, 'overlay': -6.90875477931522, 'foll': -6.90875477931522, 'lighthead': 6.90875477931522, 'mortem': -6.90875477931522, 'angri': 6.90875477931522, 'dni': 0.7758859504481023, 'epigastr': 2.892855216962295, 'barium': 3.1844412998697607, 'stood': 6.90875477931522, 'muddi': -1.3463397990098451, 'cup': 6.90875477931522, 'cracker': 2.2927445483990123, 'subq': 6.90875477931522, 'rpr': 6.90875477931522, 'pinpoint': 0.362165175752744, 'hepatobiliari': -3.2692581986569547, 'float': 0.6916505477038827, 'towel': 6.90875477931522, 'hilum': 1.530917591048644, 'hurt': 2.552122795903801, 'duski': -0.9533015672059649, 'phenylephrin': 0.15613862533628353, 'hypotherm': -0.0658262199685225, 'ogtub': 6.90875477931522, 'massag': -1.2495579516853903, 'consciou': 6.90875477931522, 'chemic': 1.0092206328555815, 'emper': 6.90875477931522, 'knew': 6.90875477931522, 'fdp': 0.17150555668934245, 'dz': 1.029158762153207, 'tea': 6.90875477931522, 'wma': -1.1423153189438149, 'xanax': 6.90875477931522, 'tacycard': 6.90875477931522, 'agreement': -6.90875477931522, 'ipf': 1.0706265358307303, 'incent': 2.642691622339472, 'reappear': 6.90875477931522, 'fc': 0.0, 'acidem': 1.7859498421315991, 'nacl': 1.2495579516853903, 'probe': 6.90875477931522, 'cocain': 6.90875477931522, 'friction': 1.095952712632351, 'hida': 3.7302451016897415, 'lift': 3.553561440814334, 'suffer': 1.5505353776716928, 'cremat': -6.90875477931522, 'ppn': 6.90875477931522, 'gastrojejunostomi': 1.8654833430478823, 'chb': 0.5760981613399352, 'assymetr': 0.9141958635336067, 'panic': 6.90875477931522, 'ettub': 6.90875477931522, 'splint': 6.90875477931522, 'doen': -6.90875477931522, 'shorter': 1.095952712632351, 'vasopressor': 1.0271828417136022, 'struggl': 0.28709992764761555, 'hemothorax': -0.2660901613908308, 'hepati': 0.0, 'erythro': 6.90875477931522, 'forth': 6.90875477931522, 'nitroglycerin': 3.1942475376942854, 'rsrc': 6.90875477931522, 'viscou': 6.90875477931522, 'mso': -0.262759014756084, 'througout': 6.90875477931522, 'pharyng': 2.5893673028298645, 'myeloma': 2.0674643555392316, 'esld': 0.3109555803060633, 'habitu': 3.6773507553122005, 'warmer': 6.90875477931522, 'abruptli': -2.9256884298210646, 'clonazepam': 3.136144692968564, 'proport': 1.3182829507563796, 'osa': 2.8667403184631204, 'mycolyt': -1.095952712632351, 'buck': 6.90875477931522, 'promod': 1.7291322917584497, 'derecruit': -6.90875477931522, 'platlet': 6.90875477931522, 'famil': 0.6916505477038827, 'signatur': 2.4371317713958938, 'judgement': -1.095952712632351, 'acc': 6.90875477931522, 'clariti': -6.90875477931522, 'ofm': 6.90875477931522, 'transmitr': 2.102126303628015, 'calculi': 0.586544924532355, 'young': 6.90875477931522, 'ccn': -6.90875477931522, 'dxae': 0.6916505477038827, 'fax': 6.90875477931522, 'db': 1.6550799456042375, 'asystol': -1.7859498421315991, 'news': -6.90875477931522, 'freeli': 3.338770975794994, 'passey': 6.90875477931522, 'multisystem': -6.90875477931522, 'pplat': 0.6916505477038827, 'preliminarili': 6.90875477931522, 'jewelri': 2.5771100058003675, 'venti': 1.4276173355082866, 'mrcp': -1.095952712632351, 'scopalamin': 0.0, 'tracheomalacia': 6.90875477931522, 'unequ': 0.4585825764835029, 'postop': 2.80186309027539, 'corneal': -2.1120928625609148, 'sacrament': -6.90875477931522, 'psup': -6.90875477931522, 'lymphangit': 1.4174966125472825, 'quietli': 0.18195562807943735, 'acidot': 2.601472222000523, 'prioriti': -1.1866110080100203, 'meropenam': -6.90875477931522, 'cvvhd': -0.034417327784277314, 'hypercapnia': -1.5758154749399658, 'wish': 0.3457613407551792, 'diaphoresi': 6.90875477931522, 'ppd': 3.2647395939113166, 'angioplasti': 6.90875477931522, 'clergi': -6.90875477931522, 'oob': 2.200014666919995, 'fresh': -1.7859498421315991, 'fwb': 6.90875477931522, 'intiat': 0.7560249394646842, 'plate': 2.5264781167542063, 'moisten': -0.5097612277102039, 'prilosec': 3.574648627896117, 'sweat': 4.1719695734914755, 'contini': 6.90875477931522, 'funer': 0.4046335072286383, 'perpher': 2.387057016415087, 'unstabl': 1.1188651780887717, 'bromid': 6.90875477931522, 'align': 1.9029698713994425, 'stack': -6.90875477931522, 'aox': 2.1362040798195827, 'subdur': 4.829320223631955, 'motil': -2.601472222000523, 'dopamin': 1.311193855700425, 'occurr': 6.90875477931522, 'svn': 6.90875477931522, 'ud': 6.90875477931522, 'unenhanc': 2.2927445483990123, 'endur': 6.90875477931522, 'solut': 6.90875477931522, 'spur': 2.387057016415087, 'adam': -0.8852912568264183, 'aricept': -0.12895310773231633, 'fentenyl': 6.90875477931522, 'fatti': 3.207167405149502, 'life': -0.5364577839591653, 'purpl': 0.9451955538279263, 'nectar': 3.5588781367463964, 'dorsal': -0.6916505477038827, 'schistocyt': -0.8734901684270467, 'tachpnea': -0.6916505477038827, 'vtach': -0.6916505477038827, 'rabbi': -0.33578793002516627, 'lubric': 6.90875477931522, 'leukocyt': 3.2324925297853415, 'rememb': 3.60035323709679, 'pneumococc': 0.910426054828574, 'tubular': 1.095952712632351, 'broader': 2.1883847407670785, 'pose': 0.6916505477038827, 'reguard': 0.0, 'macu': 0.28709992764761555, 'mottl': 1.2776213552427604, 'epsiod': 6.90875477931522, 'vigil': 6.90875477931522, 'nephrogram': 1.095952712632351, 'peribronchovascular': 1.8906318970131915, 'criticar': 0.96284245026402, 'discoordin': 0.0, 'hydralizin': 6.90875477931522, 'adenosin': 6.90875477931522, 'amioderon': -6.90875477931522, 'grimmac': 6.90875477931522, 'modifi': 6.90875477931522, 'cefapim': 6.90875477931522, 'fliud': 0.0, 'sibl': -0.8602819617959718, 'treitz': 1.3825560390092835, 'hemithorac': -6.90875477931522, 'mtg': -2.7300657667281873, 'dysynchron': -3.882151606804926, 'suport': -6.90875477931522, 'resucit': 2.5893673028298645, 'moreov': 0.0, 'gaol': 6.90875477931522, 'commod': 2.1337370539592238, 'flake': 6.90875477931522, 'ntnd': 1.3269062635445115, 'xl': 1.969020421268059, 'aglc': 6.90875477931522, 'morgu': -6.90875477931522, 'thk': 6.90875477931522, 'pyuria': -0.46903068451456725, 'method': 0.0, 'pca': 6.90875477931522, 'dome': 1.7859498421315991, 'pvr': -2.1120928625609148, 'seroquel': 5.822640501584422, 'conc': 1.604655121332035, 'compani': 6.90875477931522, 'recalibr': 1.095952712632351, 'plat': 0.9141958635336067, 'vp': 6.90875477931522, 'inhibit': 6.90875477931522, 'dizzi': 3.783733682110981, 'pleuravac': -6.90875477931522, 'spacer': 6.90875477931522, 'thrombot': 6.90875477931522, 'chol': 1.095952712632351, 'bicarbon': -0.4229428366572637, 'xopenex': 1.1635438143302912, 'magnevist': 3.338770975794994, 'chlorothiazid': -6.90875477931522, 'bank': 1.8906318970131915, 'calmer': 6.90875477931522, 'book': 6.90875477931522, 'appi': 6.90875477931522, 'acv': 6.90875477931522, 'virtual': 0.9141958635336067, 'laryng': 4.012246232639022, 'nifedipin': 2.487930337628422, 'essent': 6.90875477931522, 'norepi': -0.22269446071510993, 'cellcept': 0.27060491105994766, 'fluor': 6.90875477931522, 'endplat': 1.7859498421315991, 'death': 0.44536653690200506, 'learn': 6.90875477931522, 'bair': 0.2031897651480964, 'scab': 3.2324925297853415, 'sluggishli': -0.8734901684270467, 'zero': 6.90875477931522, 'gc': 1.9390841839849136, 'opinion': -1.4363890265289612, 'ciwa': 6.90875477931522, 'fee': 1.7859498421315991, 'tremul': 6.90875477931522, 'phlegm': 1.839677340209646, 'anaphylaxi': 1.597046302907765, 'puff': 6.90875477931522, 'sensat': 2.8378811669427866, 'hemangioma': 6.90875477931522, 'thoracocentesi': 6.90875477931522, 'esoph': -1.7859498421315991, 'surviv': 6.90875477931522, 'elig': -6.90875477931522, 'tobra': 1.095952712632351, 'mood': 6.90875477931522, 'bill': 6.90875477931522, 'subcost': 2.3410355182973803, 'neoplast': 2.431010881582868, 'epidur': 6.90875477931522, 'cagluc': -6.90875477931522, 'od': 1.2495579516853903, 'nocturn': 6.90875477931522, 'stitch': 6.90875477931522, 'bipolar': 1.1450568570896096, 'plerual': -3.338770975794994, 'cooler': 0.0, 'slough': 6.90875477931522, 'synthet': 0.41409172233250163, 'pneumothorac': 1.0434802179733935, 'foci': 1.5108116143566748, 'ggt': 0.9141958635336067, 'harm': 6.90875477931522, 'rusti': 0.49145340523605335, 'currenlti': 6.90875477931522, 'redirect': 1.0583358625706707, 'deflat': 6.90875477931522, 'agonist': 6.90875477931522, 'pitressin': -0.2359125508948745, 'anyway': 1.7859498421315991, 'trazodon': 4.004134668267055, 'natg': 0.2508075216675933, 'postpylor': 6.90875477931522, 'passi': 6.90875477931522, 'mean': 1.451248012080289, 'nimv': 2.473073171472692, 'ashen': 6.90875477931522, 'brb': 0.3016683144265208, 'moan': 0.8453976222857142, 'suprapub': 3.824383994131049, 'chlorhex': 0.509761227710204, 'priest': -3.0693478748272645, 'led': 1.462247919771027, 'acetazolamid': 6.90875477931522, 'reveiw': 0.6916505477038827, 'gown': 1.604655121332035, 'icter': 0.4344215548043555, 'hctz': 6.90875477931522, 'mrg': 6.90875477931522, 'ind': -6.90875477931522, 'rhinorrhea': 1.362705409049803, 'triadyn': 0.3413087650805711, 'elimin': -0.7307723011693931, 'uffp': 6.90875477931522, 'aaox': 3.464102558012661, 'readdress': 1.2365348766223643, 'institut': 1.839677340209646, 'bottl': 0.8294410981687564, 'gather': -6.90875477931522, 'waist': 1.095952712632351, 'respitori': -0.4046335072286383, 'lw': -0.8453976222857144, 'intent': 6.90875477931522, 'cvo': 6.90875477931522, 'recruit': 2.0577318106732485, 'surgicel': -6.90875477931522, 'anuria': 1.3006536101211652, 'west': 6.90875477931522, 'pulseless': -0.7151219590646479, 'dietari': 6.90875477931522, 'rigor': 4.958556953445407, 'thirst': 1.442917247910699, 'dex': 6.90875477931522, 'ardsnet': 0.6203660925382052, 'readmit': 5.252146444994464, 'xii': 1.3825560390092835, 'declar': -6.90875477931522, 'behavior': 3.9538626637710546, 'hiccup': 1.775542362071692, 'amb': 6.90875477931522, 'mandibl': 0.6916505477038827, 'antb': 6.90875477931522, 'bmx': 0.6916505477038827, 'grd': 6.90875477931522, 'fungemia': 0.7106509770339385, 'hypothermia': 1.5438745851020212, 'dobutamin': 0.3127141162023889, 'aprv': -6.90875477931522, 'ctx': 2.8839075464693225, 'dead': -0.3178073296807483, 'neutral': 3.1942475376942854, 'zoloft': 1.307154113163555, 'colonoscopi': 6.90875477931522, 'caspofungin': 0.5555268036160992, 'chair': 2.0339272741772705, 'ambien': 3.3797570504242858, 'laminectomi': 4.020284968191801, 'predict': 1.4998139424623853, 'rite': -6.90875477931522, 'pcv': 0.0728032640705328, 'hhn': 6.90875477931522, 'pronounc': 1.1450568570896096, 'hunger': -1.5360079185039965, 'scl': 6.90875477931522, 'piriform': 6.90875477931522, 'kerlix': 6.90875477931522, 'yel': 6.90875477931522, 'tdi': 2.5264781167542063, 'paco': 2.387057016415087, 'tran': 0.8670772950648197, 'knowledg': 6.90875477931522, 'mortum': -6.90875477931522, 'tranfer': 6.90875477931522, 'unrel': -0.1819556280794373, 'imbal': 6.90875477931522, 'levof': -0.41899105198959297, 'sorb': -6.90875477931522, 'azotemia': 0.17657571316704399, 'phasic': 1.9390841839849136, 'nahco': 1.5536208804183531, 'historian': 2.2625852102345676, 'familt': -6.90875477931522, 'strictur': 6.90875477931522, 'ligament': 1.8654833430478823, 'lpm': 2.1661124467721313, 'diaper': 2.5893673028298645, 'meatu': 0.28709992764761555, 'homogen': 2.1317280276818393, 'awhil': 6.90875477931522, 'lc': -1.0271828417136022, 'kyphoscoliosi': -0.4046335072286383, 'lat': 2.528208905096158, 'ultrafiltr': 6.90875477931522, 'defibril': 1.604655121332035, 'robitussin': 0.809128888289493, 'trabecul': 1.9390841839849136, 'quinton': 6.90875477931522, 'lax': 6.90875477931522, 'gum': 1.3401731317586105, 'articul': 6.90875477931522, 'adenocarcinoma': 3.1544023422659846, 'ration': 6.90875477931522, 'cmo': -1.644987636769391, 'bell': 4.339194241196408, 'preme': 6.90875477931522, 'bronchovascular': 2.1604645902668898, 'proph': 6.90875477931522, 'esophagogastr': -0.8453976222857144, 'hospic': 0.07395991702210732, 'occipit': 4.24525047205441, 'ffp': -0.7223447663148367, 'liw': -0.6916505477038827, 'ncm': 6.90875477931522, 'protrud': 3.269258198656955, 'treatement': 0.28709992764761555, 'weekli': 6.90875477931522, 'sml': 0.28709992764761555, 'grave': -1.3825560390092835, 'hung': -0.2870999276476155, 'syst': 6.90875477931522, 'rescan': 6.90875477931522, 'expir': -0.18886201929256202, 'palli': 0.15384177749734174, 'spiromet': 4.153798264549529, 'fibrinogen': 0.6982174035803931, 'pea': 1.242916320903325, 'herp': 6.90875477931522, 'stg': 0.8248347128488595, 'unsteadi': 6.90875477931522, 'contractur': 3.3553795061977376, 'dd': 6.90875477931522, 'asthma': 4.854158679054444, 'lusb': 1.4311353280322385, 'morbid': 6.90875477931522, 'sooner': 6.90875477931522, 'unavail': 2.7360692754120683, 'simpli': 6.90875477931522, 'wil': 6.90875477931522, 'contd': 1.6994502465251524, 'heroic': -1.3825560390092835, 'desynchron': 0.15384177749734174, 'lcw': 1.3825560390092835, 'cvvhdf': -1.653187294988485, 'palliat': -6.90875477931522, 'gasp': -6.90875477931522, 'pivot': 1.3825560390092835, 'tcdb': 6.90875477931522, 'pericard': 6.90875477931522, 'autopeep': -6.90875477931522, 'director': 6.90875477931522, 'flight': 6.90875477931522, 'peerla': 1.3825560390092835, 'glycopyrrol': 1.9390841839849136, 'effac': 3.02380801661965, 'pathologist': 6.90875477931522, 'mva': 6.90875477931522, 'prec': 3.1942475376942854, 'mucinex': 6.90875477931522, 'msicu': 6.90875477931522, 'discard': 0.0, 'cramp': 2.6710997456326173, 'artifici': 1.3825560390092835, 'crrt': 0.3047626159366483, 'nice': 6.90875477931522, 'vasopressin': -0.534760808795351, 'town': 2.975999183507034, 'coach': 6.90875477931522, 'rm': 1.7522526603261124, 'edt': 0.0, 'gabapentin': 3.0493744858729466, 'nephrolog': 1.7094435710881883, 'cpr': -0.37915513930226674, 'smooth': 1.462247919771027, 'remin': 0.0, 'gastriti': 6.90875477931522, 'quinolon': -0.1249126654800141, 'illeu': -6.90875477931522, 'angiogram': 2.7567935411197357, 'oximetri': 6.90875477931522, 'seriou': 1.2206783643193762, 'tie': 6.90875477931522, 'cs': 2.552122795903801, 'pleasantli': 6.90875477931522, 'rhochor': -1.604655121332035, 'sundown': 3.5071033786483587, 'normotherm': -0.8248347128488595, 'metoclopramid': 6.90875477931522, 'retic': 2.24195119354922, 'clinician': 0.550909995900324, 'forc': 0.9090692988833164, 'diflucan': 0.509761227710204, 'perisplen': 0.6916505477038827, 'moniotr': -0.6916505477038827, 'captopril': 3.013615327318743, 'spfc': 2.1883847407670785, 'unalt': 2.2927445483990123, 'respon': 6.90875477931522, 'osteoblast': -1.095952712632351, 'cvvh': 0.058824817930314646, 'unplan': -0.4046335072286383, 'td': 6.90875477931522, 'arrest': 1.0033999325486127, 'thrive': 0.8555219407706903, 'spirit': 6.90875477931522, 'requr': -1.095952712632351, 'jerk': 1.095952712632351, 'oder': -6.90875477931522, 'svv': -1.2624124483219332, 'parastern': 2.387057016415087, 'anasarc': 6.90875477931522, 'banana': 6.90875477931522, 'hugger': -0.5281530631349757, '^rr': 2.0716061679700735, 'nonrebreath': 1.6372728413453304, 'gvhd': -3.9266468499686935, 'yankuer': 6.90875477931522, 'ambul': 2.4212570754769107, 'nrbm': 0.6916505477038827, 'mind': 2.8726050025040895, 'uri': 6.90875477931522, 'ultram': 6.90875477931522, 'crack': 6.90875477931522, 'cg': -6.90875477931522, 'gut': 6.90875477931522, 'vasoconstrict': -6.90875477931522, 'underpenetr': 0.9533015672059649, 'heliox': -6.90875477931522, 'hypercapn': -0.6663953926397401, 'permiss': -2.387057016415087, 'abnl': 2.224418442526018, 'thiamin': 6.90875477931522, 'aliv': 1.6994502465251524, \"tf'ing\": 6.90875477931522, 'vertebra': 1.839677340209646, 'cash': 2.5393847680521824, 'prayer': -6.90875477931522, 'oligur': 1.4591802272959582, 'deploy': 2.0716061679700735, 'calvarium': 2.0716061679700735, 'vagu': 2.714892378932811, 'argatroban': -0.8013676005646301, 'maroon': 0.0, 'sarna': 2.725538619772455, 'amongst': 6.90875477931522, 'goc': 0.3357879300251662, 'gait': 2.513398374617902, 'breakfast': 6.90875477931522, 'quiac': 6.90875477931522, 'neosynephrin': -0.22269446071510993, 'vallecula': 2.7567935411197357, 'dnr': 0.8507699022683924}\n"
     ]
    }
   ],
   "source": [
    "print(apr_patient_node_odd_scores)"
   ]
  },
  {
   "cell_type": "code",
   "execution_count": 84,
   "metadata": {
    "scrolled": false
   },
   "outputs": [
    {
     "data": {
      "text/html": [
       "<div>\n",
       "<style scoped>\n",
       "    .dataframe tbody tr th:only-of-type {\n",
       "        vertical-align: middle;\n",
       "    }\n",
       "\n",
       "    .dataframe tbody tr th {\n",
       "        vertical-align: top;\n",
       "    }\n",
       "\n",
       "    .dataframe thead th {\n",
       "        text-align: right;\n",
       "    }\n",
       "</style>\n",
       "<table border=\"1\" class=\"dataframe\">\n",
       "  <thead>\n",
       "    <tr style=\"text-align: right;\">\n",
       "      <th></th>\n",
       "      <th>node</th>\n",
       "      <th>feature</th>\n",
       "    </tr>\n",
       "  </thead>\n",
       "  <tbody>\n",
       "    <tr>\n",
       "      <th>0</th>\n",
       "      <td>deliv</td>\n",
       "      <td>0.873490</td>\n",
       "    </tr>\n",
       "    <tr>\n",
       "      <th>1</th>\n",
       "      <td>hive</td>\n",
       "      <td>2.022936</td>\n",
       "    </tr>\n",
       "    <tr>\n",
       "      <th>2</th>\n",
       "      <td>neo</td>\n",
       "      <td>0.328860</td>\n",
       "    </tr>\n",
       "    <tr>\n",
       "      <th>3</th>\n",
       "      <td>arthrit</td>\n",
       "      <td>6.908755</td>\n",
       "    </tr>\n",
       "    <tr>\n",
       "      <th>4</th>\n",
       "      <td>ethic</td>\n",
       "      <td>-1.507159</td>\n",
       "    </tr>\n",
       "    <tr>\n",
       "      <th>...</th>\n",
       "      <td>...</td>\n",
       "      <td>...</td>\n",
       "    </tr>\n",
       "    <tr>\n",
       "      <th>700</th>\n",
       "      <td>breakfast</td>\n",
       "      <td>6.908755</td>\n",
       "    </tr>\n",
       "    <tr>\n",
       "      <th>701</th>\n",
       "      <td>quiac</td>\n",
       "      <td>6.908755</td>\n",
       "    </tr>\n",
       "    <tr>\n",
       "      <th>702</th>\n",
       "      <td>neosynephrin</td>\n",
       "      <td>-0.222694</td>\n",
       "    </tr>\n",
       "    <tr>\n",
       "      <th>703</th>\n",
       "      <td>vallecula</td>\n",
       "      <td>2.756794</td>\n",
       "    </tr>\n",
       "    <tr>\n",
       "      <th>704</th>\n",
       "      <td>dnr</td>\n",
       "      <td>0.850770</td>\n",
       "    </tr>\n",
       "  </tbody>\n",
       "</table>\n",
       "<p>705 rows × 2 columns</p>\n",
       "</div>"
      ],
      "text/plain": [
       "             node   feature\n",
       "0           deliv  0.873490\n",
       "1            hive  2.022936\n",
       "2             neo  0.328860\n",
       "3         arthrit  6.908755\n",
       "4           ethic -1.507159\n",
       "..            ...       ...\n",
       "700     breakfast  6.908755\n",
       "701         quiac  6.908755\n",
       "702  neosynephrin -0.222694\n",
       "703     vallecula  2.756794\n",
       "704           dnr  0.850770\n",
       "\n",
       "[705 rows x 2 columns]"
      ]
     },
     "execution_count": 84,
     "metadata": {},
     "output_type": "execute_result"
    }
   ],
   "source": [
    "apr_patient_square_node_data = pd.DataFrame({'node':list(apr_patient_node_odd_scores.keys()), 'feature':list(apr_patient_node_odd_scores.values())})\n",
    "apr_patient_square_node_data"
   ]
  },
  {
   "cell_type": "code",
   "execution_count": 85,
   "metadata": {},
   "outputs": [
    {
     "data": {
      "text/html": [
       "<div>\n",
       "<style scoped>\n",
       "    .dataframe tbody tr th:only-of-type {\n",
       "        vertical-align: middle;\n",
       "    }\n",
       "\n",
       "    .dataframe tbody tr th {\n",
       "        vertical-align: top;\n",
       "    }\n",
       "\n",
       "    .dataframe thead th {\n",
       "        text-align: right;\n",
       "    }\n",
       "</style>\n",
       "<table border=\"1\" class=\"dataframe\">\n",
       "  <thead>\n",
       "    <tr style=\"text-align: right;\">\n",
       "      <th></th>\n",
       "      <th>feature</th>\n",
       "      <th>subject</th>\n",
       "    </tr>\n",
       "    <tr>\n",
       "      <th>node</th>\n",
       "      <th></th>\n",
       "      <th></th>\n",
       "    </tr>\n",
       "  </thead>\n",
       "  <tbody>\n",
       "    <tr>\n",
       "      <th>deliv</th>\n",
       "      <td>0.873490</td>\n",
       "      <td>positive</td>\n",
       "    </tr>\n",
       "    <tr>\n",
       "      <th>hive</th>\n",
       "      <td>2.022936</td>\n",
       "      <td>positive</td>\n",
       "    </tr>\n",
       "    <tr>\n",
       "      <th>neo</th>\n",
       "      <td>0.328860</td>\n",
       "      <td>positive</td>\n",
       "    </tr>\n",
       "    <tr>\n",
       "      <th>arthrit</th>\n",
       "      <td>6.908755</td>\n",
       "      <td>positive</td>\n",
       "    </tr>\n",
       "    <tr>\n",
       "      <th>ethic</th>\n",
       "      <td>-1.507159</td>\n",
       "      <td>negative</td>\n",
       "    </tr>\n",
       "    <tr>\n",
       "      <th>...</th>\n",
       "      <td>...</td>\n",
       "      <td>...</td>\n",
       "    </tr>\n",
       "    <tr>\n",
       "      <th>breakfast</th>\n",
       "      <td>6.908755</td>\n",
       "      <td>positive</td>\n",
       "    </tr>\n",
       "    <tr>\n",
       "      <th>quiac</th>\n",
       "      <td>6.908755</td>\n",
       "      <td>positive</td>\n",
       "    </tr>\n",
       "    <tr>\n",
       "      <th>neosynephrin</th>\n",
       "      <td>-0.222694</td>\n",
       "      <td>negative</td>\n",
       "    </tr>\n",
       "    <tr>\n",
       "      <th>vallecula</th>\n",
       "      <td>2.756794</td>\n",
       "      <td>positive</td>\n",
       "    </tr>\n",
       "    <tr>\n",
       "      <th>dnr</th>\n",
       "      <td>0.850770</td>\n",
       "      <td>positive</td>\n",
       "    </tr>\n",
       "  </tbody>\n",
       "</table>\n",
       "<p>705 rows × 2 columns</p>\n",
       "</div>"
      ],
      "text/plain": [
       "               feature   subject\n",
       "node                            \n",
       "deliv         0.873490  positive\n",
       "hive          2.022936  positive\n",
       "neo           0.328860  positive\n",
       "arthrit       6.908755  positive\n",
       "ethic        -1.507159  negative\n",
       "...                ...       ...\n",
       "breakfast     6.908755  positive\n",
       "quiac         6.908755  positive\n",
       "neosynephrin -0.222694  negative\n",
       "vallecula     2.756794  positive\n",
       "dnr           0.850770  positive\n",
       "\n",
       "[705 rows x 2 columns]"
      ]
     },
     "execution_count": 85,
     "metadata": {},
     "output_type": "execute_result"
    }
   ],
   "source": [
    "apr_patient_square_node_id_data = apr_patient_square_node_data.set_index(\"node\")\n",
    "apr_patient_square_node_id_data['subject'] = [\"positive\" if r['feature'] > 0 else \"negative\" for i, r in apr_patient_square_node_id_data.iterrows()]\n",
    "apr_patient_square_node_id_data"
   ]
  },
  {
   "cell_type": "code",
   "execution_count": 87,
   "metadata": {},
   "outputs": [
    {
     "data": {
      "text/plain": [
       "node\n",
       "deliv           positive\n",
       "hive            positive\n",
       "neo             positive\n",
       "arthrit         positive\n",
       "ethic           negative\n",
       "                  ...   \n",
       "breakfast       positive\n",
       "quiac           positive\n",
       "neosynephrin    negative\n",
       "vallecula       positive\n",
       "dnr             positive\n",
       "Name: subject, Length: 705, dtype: object"
      ]
     },
     "execution_count": 87,
     "metadata": {},
     "output_type": "execute_result"
    }
   ],
   "source": [
    "apr_subjects = apr_patient_square_node_id_data[\"subject\"]\n",
    "apr_subjects"
   ]
  },
  {
   "cell_type": "code",
   "execution_count": null,
   "metadata": {},
   "outputs": [],
   "source": []
  },
  {
   "cell_type": "code",
   "execution_count": null,
   "metadata": {},
   "outputs": [],
   "source": []
  },
  {
   "cell_type": "code",
   "execution_count": 27,
   "metadata": {
    "scrolled": true
   },
   "outputs": [
    {
     "name": "stderr",
     "output_type": "stream",
     "text": [
      "100%|██████████| 252/252 [00:00<00:00, 12556.60it/s]\n",
      "100%|██████████| 1167/1167 [00:01<00:00, 945.88it/s]\n"
     ]
    }
   ],
   "source": [
    "# # Create a list of all nodes\n",
    "# apr_node = []\n",
    "\n",
    "# for k,v in tqdm(apr_patient_node_0.items()):\n",
    "    \n",
    "#     for i in v:  \n",
    "#         if i not in apr_node:\n",
    "#             apr_node.append(i)\n",
    "    \n",
    "# for k,v in tqdm(apr_patient_node_1.items()):\n",
    "#     for i in v:\n",
    "#         if i not in apr_node:\n",
    "#             apr_node.append(i)"
   ]
  },
  {
   "cell_type": "code",
   "execution_count": 28,
   "metadata": {},
   "outputs": [
    {
     "name": "stdout",
     "output_type": "stream",
     "text": [
      "705\n"
     ]
    }
   ],
   "source": [
    "# print(len(apr_node))"
   ]
  },
  {
   "cell_type": "code",
   "execution_count": 29,
   "metadata": {},
   "outputs": [],
   "source": [
    "# apr_node_data = pd.DataFrame({'node':apr_node})"
   ]
  },
  {
   "cell_type": "code",
   "execution_count": 30,
   "metadata": {},
   "outputs": [],
   "source": [
    "# apr_node_data = apr_node_data.set_index(\"node\")"
   ]
  },
  {
   "cell_type": "code",
   "execution_count": 31,
   "metadata": {},
   "outputs": [],
   "source": [
    "# apr_node_data['subject'] = ['same_label'] * len(apr_node_data)"
   ]
  },
  {
   "cell_type": "code",
   "execution_count": 32,
   "metadata": {},
   "outputs": [
    {
     "data": {
      "text/html": [
       "<div>\n",
       "<style scoped>\n",
       "    .dataframe tbody tr th:only-of-type {\n",
       "        vertical-align: middle;\n",
       "    }\n",
       "\n",
       "    .dataframe tbody tr th {\n",
       "        vertical-align: top;\n",
       "    }\n",
       "\n",
       "    .dataframe thead th {\n",
       "        text-align: right;\n",
       "    }\n",
       "</style>\n",
       "<table border=\"1\" class=\"dataframe\">\n",
       "  <thead>\n",
       "    <tr style=\"text-align: right;\">\n",
       "      <th></th>\n",
       "      <th>subject</th>\n",
       "    </tr>\n",
       "    <tr>\n",
       "      <th>node</th>\n",
       "      <th></th>\n",
       "    </tr>\n",
       "  </thead>\n",
       "  <tbody>\n",
       "    <tr>\n",
       "      <th>arrest</th>\n",
       "      <td>same_label</td>\n",
       "    </tr>\n",
       "    <tr>\n",
       "      <th>pea</th>\n",
       "      <td>same_label</td>\n",
       "    </tr>\n",
       "    <tr>\n",
       "      <th>precordium</th>\n",
       "      <td>same_label</td>\n",
       "    </tr>\n",
       "    <tr>\n",
       "      <th>vasopressin</th>\n",
       "      <td>same_label</td>\n",
       "    </tr>\n",
       "    <tr>\n",
       "      <th>cpr</th>\n",
       "      <td>same_label</td>\n",
       "    </tr>\n",
       "    <tr>\n",
       "      <th>...</th>\n",
       "      <td>...</td>\n",
       "    </tr>\n",
       "    <tr>\n",
       "      <th>oximetri</th>\n",
       "      <td>same_label</td>\n",
       "    </tr>\n",
       "    <tr>\n",
       "      <th>endur</th>\n",
       "      <td>same_label</td>\n",
       "    </tr>\n",
       "    <tr>\n",
       "      <th>extremitiy</th>\n",
       "      <td>same_label</td>\n",
       "    </tr>\n",
       "    <tr>\n",
       "      <th>occurr</th>\n",
       "      <td>same_label</td>\n",
       "    </tr>\n",
       "    <tr>\n",
       "      <th>dietet</th>\n",
       "      <td>same_label</td>\n",
       "    </tr>\n",
       "  </tbody>\n",
       "</table>\n",
       "<p>705 rows × 1 columns</p>\n",
       "</div>"
      ],
      "text/plain": [
       "                subject\n",
       "node                   \n",
       "arrest       same_label\n",
       "pea          same_label\n",
       "precordium   same_label\n",
       "vasopressin  same_label\n",
       "cpr          same_label\n",
       "...                 ...\n",
       "oximetri     same_label\n",
       "endur        same_label\n",
       "extremitiy   same_label\n",
       "occurr       same_label\n",
       "dietet       same_label\n",
       "\n",
       "[705 rows x 1 columns]"
      ]
     },
     "execution_count": 32,
     "metadata": {},
     "output_type": "execute_result"
    }
   ],
   "source": [
    "# apr_node_data"
   ]
  },
  {
   "cell_type": "code",
   "execution_count": 33,
   "metadata": {},
   "outputs": [
    {
     "data": {
      "text/plain": [
       "node\n",
       "arrest         same_label\n",
       "pea            same_label\n",
       "precordium     same_label\n",
       "vasopressin    same_label\n",
       "cpr            same_label\n",
       "                  ...    \n",
       "oximetri       same_label\n",
       "endur          same_label\n",
       "extremitiy     same_label\n",
       "occurr         same_label\n",
       "dietet         same_label\n",
       "Name: subject, Length: 705, dtype: object"
      ]
     },
     "execution_count": 33,
     "metadata": {},
     "output_type": "execute_result"
    }
   ],
   "source": [
    "# apr_subjects = apr_node_data[\"subject\"]\n",
    "# apr_subjects"
   ]
  },
  {
   "cell_type": "code",
   "execution_count": null,
   "metadata": {},
   "outputs": [],
   "source": []
  },
  {
   "cell_type": "code",
   "execution_count": 34,
   "metadata": {
    "scrolled": true
   },
   "outputs": [
    {
     "name": "stderr",
     "output_type": "stream",
     "text": [
      "100%|██████████| 252/252 [00:06<00:00, 40.91it/s]\n",
      "100%|██████████| 1167/1167 [00:00<00:00, 2059.78it/s]\n"
     ]
    }
   ],
   "source": [
    "# Create a list of all itemsets\n",
    "apr_itemsets = []\n",
    "\n",
    "for k,v in tqdm(apr_patient_itemset_0.items()):\n",
    "    \n",
    "    for i in v:  \n",
    "#         if i not in apr_itemsets:\n",
    "        apr_itemsets.append(i)\n",
    "    \n",
    "for k,v in tqdm(apr_patient_itemset_1.items()):\n",
    "    for i in v:\n",
    "#         if i not in apr_itemsets:\n",
    "        apr_itemsets.append(i)"
   ]
  },
  {
   "cell_type": "code",
   "execution_count": 35,
   "metadata": {},
   "outputs": [
    {
     "data": {
      "text/plain": [
       "5437017"
      ]
     },
     "execution_count": 35,
     "metadata": {},
     "output_type": "execute_result"
    }
   ],
   "source": [
    "len(apr_itemsets)"
   ]
  },
  {
   "cell_type": "code",
   "execution_count": 36,
   "metadata": {},
   "outputs": [],
   "source": [
    "# import itertools\n",
    "# apr_itemsets.sort()\n",
    "# apr_itemsets_temp = list(apr_itemsets for apr_itemsets,_ in itertools.groupby(apr_itemsets))"
   ]
  },
  {
   "cell_type": "code",
   "execution_count": 37,
   "metadata": {},
   "outputs": [],
   "source": [
    "# apr_itemsets_temp[:10]"
   ]
  },
  {
   "cell_type": "code",
   "execution_count": 38,
   "metadata": {},
   "outputs": [],
   "source": [
    "# print(len(apr_itemsets))"
   ]
  },
  {
   "cell_type": "code",
   "execution_count": 39,
   "metadata": {
    "scrolled": true
   },
   "outputs": [
    {
     "name": "stdout",
     "output_type": "stream",
     "text": [
      "[['arrest', 'pea'], ['pea', 'vasopressin'], ['arrest', 'vasopressin'], ['arrest', 'pea', 'vasopressin'], ['cpr', 'vasopressin'], ['cpr', 'pea'], ['arrest', 'cpr'], ['cpr', 'pea', 'vasopressin'], ['arrest', 'cpr', 'vasopressin'], ['arrest', 'cpr', 'pea'], ['arrest', 'cpr', 'pea', 'vasopressin'], ['azotemia', 'cpr'], ['azotemia', 'vasopressin'], ['azotemia', 'pea'], ['arrest', 'azotemia'], ['azotemia', 'profound'], ['azotemia', 'cpr', 'vasopressin'], ['azotemia', 'cpr', 'pea'], ['arrest', 'azotemia', 'cpr'], ['azotemia', 'cpr', 'profound'], ['azotemia', 'pea', 'vasopressin'], ['arrest', 'azotemia', 'vasopressin'], ['azotemia', 'profound', 'vasopressin'], ['arrest', 'azotemia', 'pea'], ['azotemia', 'pea', 'profound'], ['arrest', 'azotemia', 'profound'], ['azotemia', 'cpr', 'pea', 'vasopressin'], ['arrest', 'azotemia', 'cpr', 'vasopressin'], ['azotemia', 'cpr', 'profound', 'vasopressin'], ['arrest', 'azotemia', 'cpr', 'pea'], ['azotemia', 'cpr', 'pea', 'profound'], ['arrest', 'azotemia', 'cpr', 'profound'], ['arrest', 'azotemia', 'pea', 'vasopressin'], ['azotemia', 'pea', 'profound', 'vasopressin'], ['arrest', 'azotemia', 'profound', 'vasopressin'], ['arrest', 'azotemia', 'pea', 'profound'], ['arrest', 'azotemia', 'cpr', 'pea', 'vasopressin'], ['azotemia', 'cpr', 'pea', 'profound', 'vasopressin'], ['arrest', 'azotemia', 'cpr', 'profound', 'vasopressin'], ['arrest', 'azotemia', 'cpr', 'pea', 'profound'], ['arrest', 'azotemia', 'pea', 'profound', 'vasopressin'], ['arrest', 'azotemia', 'cpr', 'pea', 'profound', 'vasopressin'], ['azotemia', 'dic'], ['cpr', 'dic'], ['dic', 'vasopressin'], ['dic', 'pea'], ['arrest', 'dic'], ['dic', 'profound'], ['azotemia', 'cpr', 'dic'], ['azotemia', 'dic', 'vasopressin'], ['azotemia', 'dic', 'pea'], ['arrest', 'azotemia', 'dic'], ['azotemia', 'dic', 'profound'], ['cpr', 'dic', 'vasopressin'], ['cpr', 'dic', 'pea'], ['arrest', 'cpr', 'dic'], ['cpr', 'dic', 'profound'], ['dic', 'pea', 'vasopressin'], ['arrest', 'dic', 'vasopressin'], ['dic', 'profound', 'vasopressin'], ['arrest', 'dic', 'pea'], ['dic', 'pea', 'profound'], ['arrest', 'dic', 'profound'], ['azotemia', 'cpr', 'dic', 'vasopressin'], ['azotemia', 'cpr', 'dic', 'pea'], ['arrest', 'azotemia', 'cpr', 'dic'], ['azotemia', 'cpr', 'dic', 'profound'], ['azotemia', 'dic', 'pea', 'vasopressin'], ['arrest', 'azotemia', 'dic', 'vasopressin'], ['azotemia', 'dic', 'profound', 'vasopressin'], ['arrest', 'azotemia', 'dic', 'pea'], ['azotemia', 'dic', 'pea', 'profound'], ['arrest', 'azotemia', 'dic', 'profound'], ['cpr', 'dic', 'pea', 'vasopressin'], ['arrest', 'cpr', 'dic', 'vasopressin'], ['cpr', 'dic', 'profound', 'vasopressin'], ['arrest', 'cpr', 'dic', 'pea'], ['cpr', 'dic', 'pea', 'profound'], ['arrest', 'cpr', 'dic', 'profound'], ['arrest', 'dic', 'pea', 'vasopressin'], ['dic', 'pea', 'profound', 'vasopressin'], ['arrest', 'dic', 'profound', 'vasopressin'], ['arrest', 'dic', 'pea', 'profound'], ['azotemia', 'cpr', 'dic', 'pea', 'vasopressin'], ['arrest', 'azotemia', 'cpr', 'dic', 'vasopressin'], ['azotemia', 'cpr', 'dic', 'profound', 'vasopressin'], ['arrest', 'azotemia', 'cpr', 'dic', 'pea'], ['azotemia', 'cpr', 'dic', 'pea', 'profound'], ['arrest', 'azotemia', 'cpr', 'dic', 'profound'], ['arrest', 'azotemia', 'dic', 'pea', 'vasopressin'], ['azotemia', 'dic', 'pea', 'profound', 'vasopressin'], ['arrest', 'azotemia', 'dic', 'profound', 'vasopressin'], ['arrest', 'azotemia', 'dic', 'pea', 'profound'], ['arrest', 'cpr', 'dic', 'pea', 'vasopressin'], ['cpr', 'dic', 'pea', 'profound', 'vasopressin'], ['arrest', 'cpr', 'dic', 'profound', 'vasopressin'], ['arrest', 'cpr', 'dic', 'pea', 'profound'], ['arrest', 'dic', 'pea', 'profound', 'vasopressin'], ['arrest', 'azotemia', 'cpr', 'dic', 'pea', 'vasopressin'], ['azotemia', 'cpr', 'dic', 'pea', 'profound', 'vasopressin']]\n"
     ]
    }
   ],
   "source": [
    "print(apr_itemsets[:100])"
   ]
  },
  {
   "cell_type": "markdown",
   "metadata": {},
   "source": [
    "#### Create embeddings from apr_cooc"
   ]
  },
  {
   "cell_type": "code",
   "execution_count": 40,
   "metadata": {},
   "outputs": [],
   "source": [
    "from sklearn.manifold import TSNE\n",
    "from gensim.models import Word2Vec"
   ]
  },
  {
   "cell_type": "code",
   "execution_count": 41,
   "metadata": {},
   "outputs": [],
   "source": [
    "apr_cooc_model_patient = Word2Vec(\n",
    "    apr_itemsets, size=128, window=5, min_count=0, sg=1, workers=4, iter=1\n",
    ")"
   ]
  },
  {
   "cell_type": "code",
   "execution_count": 42,
   "metadata": {
    "scrolled": true
   },
   "outputs": [
    {
     "data": {
      "text/plain": [
       "array([ 0.50449324, -0.10495292,  0.09079987, -0.03013371, -0.26567158,\n",
       "        0.55829036, -0.05408476,  0.42606828, -0.48909318, -0.2698156 ,\n",
       "       -0.23367202,  0.06209324,  0.06737192,  0.18077612,  0.69008154,\n",
       "       -0.3173902 ,  0.22154854,  0.11372428, -0.3536852 ,  0.6226618 ,\n",
       "        0.39016494,  0.07225471,  0.27489066,  0.16936891, -0.55059457,\n",
       "       -0.22582796,  0.51548344,  0.17609307, -0.15517199,  0.35686612,\n",
       "        0.15986286, -0.05574337, -0.03700284,  0.00102808,  0.04630284,\n",
       "        0.09843681,  0.32316145, -0.24301167,  0.06721038, -0.2900806 ,\n",
       "        0.19144386,  0.297395  ,  0.01812354, -0.33499724,  0.18695003,\n",
       "       -0.0539863 ,  0.02237992,  0.26506206, -0.04344615,  0.6237397 ,\n",
       "       -0.76197195, -0.04885306, -0.3382556 , -0.24986319,  0.13670285,\n",
       "       -0.1438141 , -0.17210335,  0.09026863,  0.06798352,  0.14359626,\n",
       "        0.17053832, -0.21434714, -0.20098637, -0.26382092, -0.03780624,\n",
       "        0.36194992,  0.4352945 ,  0.24270085,  0.5436736 ,  0.16637139,\n",
       "       -0.21798739,  0.26210254,  0.04776965,  0.5533583 , -0.23899767,\n",
       "       -0.30938557, -0.16458894,  0.00502505, -0.35104436, -0.1279806 ,\n",
       "       -0.03803484,  0.14549841, -0.36680865, -0.3583582 ,  0.63391274,\n",
       "        0.01851907,  0.16610043,  0.17928876, -0.52203894,  0.10815453,\n",
       "        0.10104801,  0.27537873,  0.48392427, -0.16951725,  0.04568408,\n",
       "       -0.3461781 , -0.25159222, -0.06927563,  0.5613322 , -0.17543788,\n",
       "        0.33827338,  0.07566617, -0.14397784,  0.3070849 ,  0.05996531,\n",
       "        0.40473917,  0.15797353, -0.40245244, -0.28452206, -0.00804259,\n",
       "       -0.04885686, -0.06270997, -0.21900663, -0.04324147,  0.17135933,\n",
       "        0.03358825,  0.29251194,  0.12114817, -0.27093124, -0.01284504,\n",
       "       -0.47679317,  0.2527116 , -0.27088347,  0.2945724 , -0.0199021 ,\n",
       "       -0.18333468, -0.17627783,  0.38638988], dtype=float32)"
      ]
     },
     "execution_count": 42,
     "metadata": {},
     "output_type": "execute_result"
    }
   ],
   "source": [
    "emb = apr_cooc_model_patient.wv[\"cmo\"]\n",
    "emb"
   ]
  },
  {
   "cell_type": "markdown",
   "metadata": {},
   "source": [
    "#### Visualise node embeddings for apr_cooc"
   ]
  },
  {
   "cell_type": "code",
   "execution_count": 88,
   "metadata": {},
   "outputs": [],
   "source": [
    "# Retrieve node embeddings and corresponding subjects\n",
    "patient_node_ids = apr_cooc_model_patient.wv.index2word  # list of node IDs\n",
    "patient_weighted_node_embeddings = (\n",
    "    apr_cooc_model_patient.wv.vectors\n",
    ")  # numpy.ndarray of size number of nodes times embeddings dimensionality\n",
    "# the gensim ordering may not match the StellarGraph one, so rearrange\n",
    "patient_node_targets = apr_subjects.loc[patient_node_ids].astype(\"category\")"
   ]
  },
  {
   "cell_type": "code",
   "execution_count": 89,
   "metadata": {},
   "outputs": [],
   "source": [
    "# Apply t-SNE transformation on node embeddings\n",
    "tsne = TSNE(n_components=2, random_state=42)\n",
    "patient_weighted_node_embeddings_2d = tsne.fit_transform(patient_weighted_node_embeddings)"
   ]
  },
  {
   "cell_type": "code",
   "execution_count": 90,
   "metadata": {},
   "outputs": [
    {
     "data": {
      "image/png": "[encoded data removed]",
      "text/plain": [
       "<Figure size 720x576 with 1 Axes>"
      ]
     },
     "metadata": {
      "needs_background": "light"
     },
     "output_type": "display_data"
    }
   ],
   "source": [
    "# draw the points\n",
    "alpha = 0.7\n",
    "\n",
    "plt.figure(figsize=(10, 8))\n",
    "plt.scatter(\n",
    "    patient_weighted_node_embeddings_2d[:, 0],\n",
    "    patient_weighted_node_embeddings_2d[:, 1],\n",
    "    c=patient_node_targets.cat.codes,\n",
    "    cmap=\"jet\",\n",
    "    alpha=0.7,\n",
    ")\n",
    "plt.show()"
   ]
  },
  {
   "cell_type": "code",
   "execution_count": null,
   "metadata": {},
   "outputs": [],
   "source": []
  },
  {
   "cell_type": "code",
   "execution_count": 46,
   "metadata": {},
   "outputs": [
    {
     "name": "stdout",
     "output_type": "stream",
     "text": [
      "random vector counter is 19\n"
     ]
    }
   ],
   "source": [
    "# Create a random vector for words that are not in a dictionary\n",
    "apr_node_emb_dict = {}\n",
    "rand_vec_cnt = 0\n",
    "for index, row in apr_node_data.iterrows():\n",
    "    try:\n",
    "        if index not in apr_node_emb_dict:\n",
    "            apr_node_emb_dict[index] = apr_cooc_model_patient.wv[index]\n",
    "        else:\n",
    "            print(f\"index: {index} is already in a dictionary!\")\n",
    "    except KeyError:\n",
    "        rand_vec_cnt += 1\n",
    "        apr_node_emb_dict[index] = np.random.normal(scale=0.6, size=128)\n",
    "\n",
    "print(f\"random vector counter is {rand_vec_cnt}\")"
   ]
  },
  {
   "cell_type": "code",
   "execution_count": null,
   "metadata": {},
   "outputs": [],
   "source": []
  },
  {
   "cell_type": "markdown",
   "metadata": {},
   "source": [
    "### Load the data"
   ]
  },
  {
   "cell_type": "code",
   "execution_count": 47,
   "metadata": {},
   "outputs": [],
   "source": [
    "import pandas as pd\n",
    "import numpy as np\n",
    "\n",
    "import stellargraph as sg\n",
    "from stellargraph.mapper import PaddedGraphGenerator\n",
    "from stellargraph.layer import GCNSupervisedGraphClassification\n",
    "from stellargraph import StellarGraph\n",
    "\n",
    "from stellargraph import datasets\n",
    "\n",
    "from sklearn import model_selection\n",
    "from IPython.display import display, HTML\n",
    "\n",
    "from tensorflow.keras import Model\n",
    "from tensorflow.keras.optimizers import Adam\n",
    "from tensorflow.keras.layers import Dense\n",
    "from tensorflow.keras.losses import binary_crossentropy\n",
    "from tensorflow.keras.callbacks import EarlyStopping\n",
    "import tensorflow as tf\n",
    "import matplotlib.pyplot as plt\n",
    "\n",
    "seed = 42\n",
    "numpy.random.seed(seed)\n",
    "tf.random.set_seed(seed)\n",
    "sg.random.set_seed(seed)"
   ]
  },
  {
   "cell_type": "markdown",
   "metadata": {},
   "source": [
    "#### Train apr"
   ]
  },
  {
   "cell_type": "code",
   "execution_count": 48,
   "metadata": {
    "scrolled": true
   },
   "outputs": [
    {
     "name": "stdout",
     "output_type": "stream",
     "text": [
      "graphs_0: 191, labels_0: 191\n",
      "graphs_1: 846, labels_1: 846\n",
      "graphs: 1037, labels: 1037\n"
     ]
    }
   ],
   "source": [
    "from collections import defaultdict\n",
    "\n",
    "def create_apr_graph_list(patient_cooc_dict, cooc_odd_scores, node_emb_dict, label):\n",
    "    \n",
    "    graphs = []\n",
    "    labels = []\n",
    "    \n",
    "    for key,row in patient_cooc_dict.items():\n",
    "     \n",
    "        if row:\n",
    "            source = []\n",
    "            target = []\n",
    "            # edge_weight = []\n",
    "            \n",
    "            node_feature = []\n",
    "            node_idx = []\n",
    "            for cooc in row:\n",
    "                source.extend([cooc[0], cooc[1]])\n",
    "                target.extend([cooc[1], cooc[0]])\n",
    "                # edge_weight.extend([cooc_odd_scores[cooc], cooc_odd_scores[cooc]])\n",
    "        \n",
    "            node_idx = list(set(source + target))\n",
    "    \n",
    "            # Create a dataframe of only nodes\n",
    "            square_node_data = pd.DataFrame(\n",
    "                index=node_idx)\n",
    "            \n",
    "#             square_node_data['feature'] = [1] * len(node_idx)\n",
    "            \n",
    "            # Create a dictionary for each column for a vector\n",
    "            node_features = defaultdict(list)\n",
    "            for node in node_idx:\n",
    "                for i, vec in enumerate(node_emb_dict[node]):\n",
    "                    node_features['w_' + str(i)].append(vec)\n",
    "        \n",
    "            # Add columns to a dataframe\n",
    "            for k, v in node_features.items():\n",
    "              \n",
    "                square_node_data[k] = v\n",
    "\n",
    "            square_edges = pd.DataFrame({ \n",
    "                \"source\": source, \n",
    "                \"target\": target, \n",
    "                # \"weight\":edge_weight\n",
    "            })\n",
    "        \n",
    "            square = StellarGraph({\"corner\": square_node_data}, {\"line\": square_edges})\n",
    "            graphs.append(square)\n",
    "            labels.append(label)\n",
    "            \n",
    "    return graphs, labels\n",
    "\n",
    "graphs = []\n",
    "labels = []\n",
    "\n",
    "# patient_weighted_node_emb_dict\n",
    "graph_0, label_0 = create_apr_graph_list(apr_patient_cooc_0, new_patient_cooc_odd_scores, apr_node_emb_dict, -1)\n",
    "graph_1, label_1 = create_apr_graph_list(apr_patient_cooc_1, new_patient_cooc_odd_scores, apr_node_emb_dict, 1)\n",
    "\n",
    "graphs.extend(graph_0)\n",
    "labels.extend(label_0)\n",
    "print(f\"graphs_0: {len(graphs)}, labels_0: {len(labels)}\")\n",
    "graphs.extend(graph_1)\n",
    "labels.extend(label_1)\n",
    "print(f\"graphs_1: {len(graph_1)}, labels_1: {len(label_1)}\")\n",
    "print(f\"graphs: {len(graphs)}, labels: {len(labels)}\")"
   ]
  },
  {
   "cell_type": "code",
   "execution_count": 49,
   "metadata": {},
   "outputs": [
    {
     "name": "stdout",
     "output_type": "stream",
     "text": [
      "51.5\n",
      "191\n"
     ]
    }
   ],
   "source": [
    "# prepare test and train datasets\n",
    "test_cnt = int(len(graphs)*0.1)/2\n",
    "print(test_cnt)\n",
    "\n",
    "pos_start = len(graph_0)\n",
    "print(pos_start)\n",
    "\n",
    "test_arr = []\n",
    "train_arr = []\n",
    "for i, v in enumerate(graphs):\n",
    "    # Take first items for neg set\n",
    "    if i < test_cnt:\n",
    "        test_arr.append(i)    \n",
    "    elif i > pos_start and i <= pos_start + test_cnt:\n",
    "        test_arr.append(i)    \n",
    "    else:\n",
    "        train_arr.append(i)"
   ]
  },
  {
   "cell_type": "code",
   "execution_count": 50,
   "metadata": {},
   "outputs": [],
   "source": [
    "import random\n",
    "seed = 42\n",
    "c = list(test_arr)\n",
    "random.Random(seed).shuffle(c)\n",
    "test_arr =  c"
   ]
  },
  {
   "cell_type": "code",
   "execution_count": 51,
   "metadata": {},
   "outputs": [],
   "source": [
    "c = list(train_arr)\n",
    "random.Random(seed).shuffle(c)\n",
    "train_arr =  c"
   ]
  },
  {
   "cell_type": "code",
   "execution_count": 52,
   "metadata": {},
   "outputs": [],
   "source": [
    "train_index = np.array(train_arr)\n",
    "test_index = np.array(test_arr)"
   ]
  },
  {
   "cell_type": "code",
   "execution_count": 53,
   "metadata": {
    "scrolled": true
   },
   "outputs": [
    {
     "name": "stdout",
     "output_type": "stream",
     "text": [
      "103\n",
      "[ 41 218 222   9 207  47   1 212  15 220 198  10  45  33 196  37  50  32\n",
      " 206  44  30 205   8  21 195 237 229  42 203  26 219 192 235  49 201 214\n",
      "  48 216 241 199 227  12  36  23  39  40  18 208   5 202   7  34 223  46\n",
      "   2  51  16  38 200 210  22   6  24 225 233 242 224  19 213  43 228  20\n",
      "   0 238 197 236 193 231  25 211 232 217 204  29  27 230 240   4 194 215\n",
      "  11 209 226  13 239  17  28  31  35 234   3  14 221]\n"
     ]
    }
   ],
   "source": [
    "print(len(test_index))\n",
    "print(test_index)"
   ]
  },
  {
   "cell_type": "code",
   "execution_count": 54,
   "metadata": {
    "scrolled": true
   },
   "outputs": [
    {
     "name": "stdout",
     "output_type": "stream",
     "text": [
      "934\n",
      "[ 846  787  715  547  401  101  814  105  530  342   90  616  350  330\n",
      "  932  695  729  730  820  912  671  610  938  933  292  464  304  561\n",
      "  635  280  414  855  744  684  558   70  937  714  805  740  494  779\n",
      "  392  815  944  803  478  283  528   68  253  747  663  976  698  577\n",
      "  303  475  421  843  742  136  969  980  987  692  281   80  776  854\n",
      "  825  986  888  979  852  335  525  596  676  798   76  712   53  559\n",
      "  301  685  578  553   85  520  526  252  534  390  741  630  847  881\n",
      "  137  275  775  921  484  844  887  951  919  647  365  488  950  467\n",
      "  640  531 1006 1025  277  393  405  507  385  636  402  483  794  524\n",
      "  883  628  708  934 1033  144  162  436  430  296  737  819  181  711\n",
      "  963  872  352  140  925  822 1018  859   78  407  522  102  830  760\n",
      "  250  566  487  251 1012  763  501  974  927  461  504  631  826  324\n",
      "  552  943   81  816  584  458  113 1032  770   57  890  588  334  457\n",
      "  287   69  946  918  468   65  190   56  382  634  116  961  354  960\n",
      "  909  633  367  305  546  416  869  924  118  432  959  375   86  848\n",
      "  500  611  428  651  247  517  495  998  564  642  885  171  533   94\n",
      "  288  967  592  276  380  496  731  783  339  748  690  404  419  108\n",
      "  332  688  569  641  291  294  697  477  316  359  396  509  423  295\n",
      "  128  456  344  627  675  982   62  302  472  157   83  678  453  971\n",
      "  590  908  777  469  130  489  650  618  657   93  877  439  191  437\n",
      "  704   91  784  243  767  764  594  886  178  184  792  429  602 1030\n",
      "  463  662  361 1028  265  593  660  411  120  866  703 1026  739 1034\n",
      "  340  368  585  997  907  106  718  433  176  682  793  966  858  397\n",
      "  315  957   89  415  773  177   75  926  664  153  167  537  172   99\n",
      "  274  812  427  366  248   95  604  138  728  754  808  448  599  329\n",
      "  953  267  438  570  955  871  605  901  258  734  383  310  257  895\n",
      "  418 1022  800  709 1013  639  735  612  906  905  459  309  930  896\n",
      "  597  710  362  256  499  115  442  750  939  529  443  538  613  609\n",
      "  733  446  574  945  471  680  378  369  832  514  863   74  182  149\n",
      "  398  300  527  364  413 1024  263  505  947  279 1021  975  560  557\n",
      "  659  400  575  625 1002   66  810  913  781  891  363  431  699  539\n",
      "  498   87  899  720  307  150  440  586  619  168  606  755  837  282\n",
      "  786  521  811  165  689  542  828  549  298  935  462  506  954  188\n",
      "  598  607  479  583  445  722  313  503  727  480  143   64  314  554\n",
      "  142  518  512  940  545  173  579  738  131  486  420  637  550  840\n",
      "  389  717  284  796  626  972  452  159  286  988   72  543  725  510\n",
      "  580  563  289  260  942  791  989  254  769   88  255  965  827  667\n",
      "  540  555  835  371  185  444  851   97  386  870  985  104  893  829\n",
      " 1014  645  311  454  318  391  381  990  161  170  978  189  158  409\n",
      "   60  868  412  797  785  394  481 1000  691  460  864  674  621  723\n",
      "  653  127  154  902   61  126  679  571  410  186  904  831  347  702\n",
      "  312  370  915  638  681 1005  135   92  898  686  174  516  343  813\n",
      "  994  293  134  623  892  853  833  617  591  732  110  424  751  658\n",
      "  696  823  325  406  878  261  601  672  756  395  568  809  502   54\n",
      "  996  271  958  914  321  595  771  762  273  345 1017   67  656  103\n",
      "  752  666  556  129  358  977  772  290  875  246 1003  860  903  962\n",
      "  357  163  450  515  114  152  107  581  523  806  465  544  983  148\n",
      "  297  519  765  351  587  693  687  187  922  322  818  388  346  629\n",
      "  782  441  916  121  917  112  749  124   59 1004  788  338  670  705\n",
      "   73  449  873  333  356  175  565  632  551 1009 1008  790  920  422\n",
      "  308  834  911  536  724  643  900  272  665  589  778  183  180  648\n",
      "  122  600  139  981  910  349  111  348  417  474  856   71  603  434\n",
      "  716   52  646  655  268  485  879 1010  936  845 1036  408  743  160\n",
      "  622  285  615  956  839  842   55  949  264  548  968 1035  992  759\n",
      "  941  973  801  169  841  882   63  669  360  644  582  874  493  497\n",
      "  117  713  999  799  995  745  259  164  100  876  145  608  624  244\n",
      "  923  964  511  700  541  701  867  372  654 1011  865  355 1029  374\n",
      "  249  572  761  508  614  774  320  425  838  683  319  119  377  513\n",
      "  426 1019  337  109  897  889  435  804  327  673  807  758  379  491\n",
      "  576  270 1031  849  649  278  948  726  125  766  802 1007  376  789\n",
      "  317  466  482  269  476  753  567  991  984  155 1015  133  399  894\n",
      "  336  780   98  123  824  299  694  473  736  746  952  403  668  132\n",
      "  490  179  652  573  850   96  929  373  721  455  970  470  151  492\n",
      "  146 1027  447  884  323  262 1001  451 1020  817  266  928  880   58\n",
      "  993  931  387  706  562  328  532 1023  821  768  836  306  677   79\n",
      "  719  620  341  326  147   82   84  535  707  141  661 1016  861  795\n",
      "  156  857  245  331  353  384  862   77  166  757]\n"
     ]
    }
   ],
   "source": [
    "print(len(train_index))\n",
    "print(train_index)"
   ]
  },
  {
   "cell_type": "code",
   "execution_count": 55,
   "metadata": {},
   "outputs": [
    {
     "name": "stdout",
     "output_type": "stream",
     "text": [
      "[41, 218, 222, 9, 207, 47, 1, 212, 15, 220, 198, 10, 45, 33, 196, 37, 50, 32, 206, 44, 30, 205, 8, 21, 195, 237, 229, 42, 203, 26, 219, 192, 235, 49, 201, 214, 48, 216, 241, 199, 227, 12, 36, 23, 39, 40, 18, 208, 5, 202, 7, 34, 223, 46, 2, 51, 16, 38, 200, 210, 22, 6, 24, 225, 233, 242, 224, 19, 213, 43, 228, 20, 0, 238, 197, 236, 193, 231, 25, 211, 232, 217, 204, 29, 27, 230, 240, 4, 194, 215, 11, 209, 226, 13, 239, 17, 28, 31, 35, 234, 3, 14, 221]\n"
     ]
    }
   ],
   "source": [
    "print(test_arr)"
   ]
  },
  {
   "cell_type": "code",
   "execution_count": 56,
   "metadata": {},
   "outputs": [],
   "source": [
    "# # shuffle the data\n",
    "# import random\n",
    "# seed = 42\n",
    "\n",
    "# c = list(zip(graphs, labels))\n",
    "# random.Random(seed).shuffle(c)\n",
    "\n",
    "# graphs, labels = zip(*c)"
   ]
  },
  {
   "cell_type": "code",
   "execution_count": 57,
   "metadata": {
    "scrolled": true
   },
   "outputs": [
    {
     "name": "stdout",
     "output_type": "stream",
     "text": [
      "[-1, -1, -1, -1, -1, -1, -1, -1, -1, -1, -1, -1, -1, -1, -1, -1, -1, -1, -1, -1, -1, -1, -1, -1, -1, -1, -1, -1, -1, -1, -1, -1, -1, -1, -1, -1, -1, -1, -1, -1, -1, -1, -1, -1, -1, -1, -1, -1, -1, -1, -1, -1, -1, -1, -1, -1, -1, -1, -1, -1, -1, -1, -1, -1, -1, -1, -1, -1, -1, -1, -1, -1, -1, -1, -1, -1, -1, -1, -1, -1, -1, -1, -1, -1, -1, -1, -1, -1, -1, -1, -1, -1, -1, -1, -1, -1, -1, -1, -1, -1, -1, -1, -1, -1, -1, -1, -1, -1, -1, -1, -1, -1, -1, -1, -1, -1, -1, -1, -1, -1, -1, -1, -1, -1, -1, -1, -1, -1, -1, -1, -1, -1, -1, -1, -1, -1, -1, -1, -1, -1, -1, -1, -1, -1, -1, -1, -1, -1, -1, -1, -1, -1, -1, -1, -1, -1, -1, -1, -1, -1, -1, -1, -1, -1, -1, -1, -1, -1, -1, -1, -1, -1, -1, -1, -1, -1, -1, -1, -1, -1, -1, -1, -1, -1, -1, -1, -1, -1, -1, -1, -1, 1, 1, 1, 1, 1, 1, 1, 1, 1, 1, 1, 1, 1, 1, 1, 1, 1, 1, 1, 1, 1, 1, 1, 1, 1, 1, 1, 1, 1, 1, 1, 1, 1, 1, 1, 1, 1, 1, 1, 1, 1, 1, 1, 1, 1, 1, 1, 1, 1, 1, 1, 1, 1, 1, 1, 1, 1, 1, 1, 1, 1, 1, 1, 1, 1, 1, 1, 1, 1, 1, 1, 1, 1, 1, 1, 1, 1, 1, 1, 1, 1, 1, 1, 1, 1, 1, 1, 1, 1, 1, 1, 1, 1, 1, 1, 1, 1, 1, 1, 1, 1, 1, 1, 1, 1, 1, 1, 1, 1, 1, 1, 1, 1, 1, 1, 1, 1, 1, 1, 1, 1, 1, 1, 1, 1, 1, 1, 1, 1, 1, 1, 1, 1, 1, 1, 1, 1, 1, 1, 1, 1, 1, 1, 1, 1, 1, 1, 1, 1, 1, 1, 1, 1, 1, 1, 1, 1, 1, 1, 1, 1, 1, 1, 1, 1, 1, 1, 1, 1, 1, 1, 1, 1, 1, 1, 1, 1, 1, 1, 1, 1, 1, 1, 1, 1, 1, 1, 1, 1, 1, 1, 1, 1, 1, 1, 1, 1, 1, 1, 1, 1, 1, 1, 1, 1, 1, 1, 1, 1, 1, 1, 1, 1, 1, 1, 1, 1, 1, 1, 1, 1, 1, 1, 1, 1, 1, 1, 1, 1, 1, 1, 1, 1, 1, 1, 1, 1, 1, 1, 1, 1, 1, 1, 1, 1, 1, 1, 1, 1, 1, 1, 1, 1, 1, 1, 1, 1, 1, 1, 1, 1, 1, 1, 1, 1, 1, 1, 1, 1, 1, 1, 1, 1, 1, 1, 1, 1, 1, 1, 1, 1, 1, 1, 1, 1, 1, 1, 1, 1, 1, 1, 1, 1, 1, 1, 1, 1, 1, 1, 1, 1, 1, 1, 1, 1, 1, 1, 1, 1, 1, 1, 1, 1, 1, 1, 1, 1, 1, 1, 1, 1, 1, 1, 1, 1, 1, 1, 1, 1, 1, 1, 1, 1, 1, 1, 1, 1, 1, 1, 1, 1, 1, 1, 1, 1, 1, 1, 1, 1, 1, 1, 1, 1, 1, 1, 1, 1, 1, 1, 1, 1, 1, 1, 1, 1, 1, 1, 1, 1, 1, 1, 1, 1, 1, 1, 1, 1, 1, 1, 1, 1, 1, 1, 1, 1, 1, 1, 1, 1, 1, 1, 1, 1, 1, 1, 1, 1, 1, 1, 1, 1, 1, 1, 1, 1, 1, 1, 1, 1, 1, 1, 1, 1, 1, 1, 1, 1, 1, 1, 1, 1, 1, 1, 1, 1, 1, 1, 1, 1, 1, 1, 1, 1, 1, 1, 1, 1, 1, 1, 1, 1, 1, 1, 1, 1, 1, 1, 1, 1, 1, 1, 1, 1, 1, 1, 1, 1, 1, 1, 1, 1, 1, 1, 1, 1, 1, 1, 1, 1, 1, 1, 1, 1, 1, 1, 1, 1, 1, 1, 1, 1, 1, 1, 1, 1, 1, 1, 1, 1, 1, 1, 1, 1, 1, 1, 1, 1, 1, 1, 1, 1, 1, 1, 1, 1, 1, 1, 1, 1, 1, 1, 1, 1, 1, 1, 1, 1, 1, 1, 1, 1, 1, 1, 1, 1, 1, 1, 1, 1, 1, 1, 1, 1, 1, 1, 1, 1, 1, 1, 1, 1, 1, 1, 1, 1, 1, 1, 1, 1, 1, 1, 1, 1, 1, 1, 1, 1, 1, 1, 1, 1, 1, 1, 1, 1, 1, 1, 1, 1, 1, 1, 1, 1, 1, 1, 1, 1, 1, 1, 1, 1, 1, 1, 1, 1, 1, 1, 1, 1, 1, 1, 1, 1, 1, 1, 1, 1, 1, 1, 1, 1, 1, 1, 1, 1, 1, 1, 1, 1, 1, 1, 1, 1, 1, 1, 1, 1, 1, 1, 1, 1, 1, 1, 1, 1, 1, 1, 1, 1, 1, 1, 1, 1, 1, 1, 1, 1, 1, 1, 1, 1, 1, 1, 1, 1, 1, 1, 1, 1, 1, 1, 1, 1, 1, 1, 1, 1, 1, 1, 1, 1, 1, 1, 1, 1, 1, 1, 1, 1, 1, 1, 1, 1, 1, 1, 1, 1, 1, 1, 1, 1, 1, 1, 1, 1, 1, 1, 1, 1, 1, 1, 1, 1, 1, 1, 1, 1, 1, 1, 1, 1, 1, 1, 1, 1, 1, 1, 1, 1, 1, 1, 1, 1, 1, 1, 1, 1, 1, 1, 1, 1, 1, 1, 1, 1, 1, 1, 1, 1, 1, 1, 1, 1, 1, 1, 1, 1, 1, 1, 1, 1, 1, 1, 1, 1, 1, 1, 1, 1, 1, 1, 1, 1, 1, 1, 1, 1, 1, 1, 1, 1, 1, 1, 1, 1, 1, 1, 1, 1, 1, 1, 1, 1, 1, 1, 1, 1, 1, 1, 1, 1, 1, 1, 1, 1, 1, 1, 1, 1, 1, 1, 1, 1, 1, 1, 1, 1, 1, 1, 1, 1, 1, 1, 1, 1, 1, 1, 1, 1, 1, 1, 1, 1, 1, 1, 1, 1, 1, 1, 1, 1, 1, 1, 1, 1, 1, 1, 1, 1, 1, 1, 1, 1, 1, 1, 1, 1, 1, 1, 1, 1, 1, 1, 1, 1, 1]\n"
     ]
    }
   ],
   "source": [
    "print(labels)"
   ]
  },
  {
   "cell_type": "code",
   "execution_count": null,
   "metadata": {},
   "outputs": [],
   "source": []
  },
  {
   "cell_type": "code",
   "execution_count": null,
   "metadata": {},
   "outputs": [],
   "source": []
  },
  {
   "cell_type": "code",
   "execution_count": null,
   "metadata": {},
   "outputs": [],
   "source": []
  },
  {
   "cell_type": "code",
   "execution_count": null,
   "metadata": {},
   "outputs": [],
   "source": []
  },
  {
   "cell_type": "code",
   "execution_count": 58,
   "metadata": {},
   "outputs": [
    {
     "name": "stdout",
     "output_type": "stream",
     "text": [
      "StellarGraph: Undirected multigraph\n",
      " Nodes: 10, Edges: 18\n",
      "\n",
      " Node types:\n",
      "  corner: [10]\n",
      "    Features: float32 vector, length 128\n",
      "    Edge types: corner-line->corner\n",
      "\n",
      " Edge types:\n",
      "    corner-line->corner: [18]\n",
      "        Weights: all 1 (default)\n",
      "        Features: none\n"
     ]
    }
   ],
   "source": [
    "print(graphs[175].info())"
   ]
  },
  {
   "cell_type": "code",
   "execution_count": 59,
   "metadata": {},
   "outputs": [
    {
     "name": "stdout",
     "output_type": "stream",
     "text": [
      "[[-0.19820204  0.23994748  0.4980708  ... -0.14028582 -0.05496124\n",
      "   0.07476673]\n",
      " [ 0.11854446 -0.11945026  0.2755377  ... -0.08877024 -0.04954705\n",
      "   0.29171422]\n",
      " [ 0.1892024  -0.00555825  0.04166433 ...  0.02900897 -0.18199597\n",
      "   0.14099744]\n",
      " ...\n",
      " [-0.23403196  0.08976912  0.12557176 ...  0.27734822 -0.14274141\n",
      "  -0.10101818]\n",
      " [ 0.04376317  0.00586216  0.25846446 ... -0.14785066 -0.08794851\n",
      "   0.26959932]\n",
      " [-0.413866    0.15462711 -0.5389206  ... -0.0614357  -0.13561012\n",
      "   0.22911446]]\n",
      "128\n"
     ]
    }
   ],
   "source": [
    "print(graphs[0].node_features())\n",
    "print(len(graphs[0].node_features()[0]))"
   ]
  },
  {
   "cell_type": "code",
   "execution_count": 60,
   "metadata": {},
   "outputs": [
    {
     "name": "stdout",
     "output_type": "stream",
     "text": [
      "StellarGraph: Undirected multigraph\n",
      " Nodes: 6, Edges: 18\n",
      "\n",
      " Node types:\n",
      "  corner: [6]\n",
      "    Features: float32 vector, length 128\n",
      "    Edge types: corner-line->corner\n",
      "\n",
      " Edge types:\n",
      "    corner-line->corner: [18]\n",
      "        Weights: all 1 (default)\n",
      "        Features: none\n"
     ]
    }
   ],
   "source": [
    "print(graphs[100].info())"
   ]
  },
  {
   "cell_type": "code",
   "execution_count": null,
   "metadata": {},
   "outputs": [],
   "source": []
  },
  {
   "cell_type": "code",
   "execution_count": 61,
   "metadata": {},
   "outputs": [
    {
     "data": {
      "text/html": [
       "<div>\n",
       "<style scoped>\n",
       "    .dataframe tbody tr th:only-of-type {\n",
       "        vertical-align: middle;\n",
       "    }\n",
       "\n",
       "    .dataframe tbody tr th {\n",
       "        vertical-align: top;\n",
       "    }\n",
       "\n",
       "    .dataframe thead th {\n",
       "        text-align: right;\n",
       "    }\n",
       "</style>\n",
       "<table border=\"1\" class=\"dataframe\">\n",
       "  <thead>\n",
       "    <tr style=\"text-align: right;\">\n",
       "      <th></th>\n",
       "      <th>nodes</th>\n",
       "      <th>edges</th>\n",
       "    </tr>\n",
       "  </thead>\n",
       "  <tbody>\n",
       "    <tr>\n",
       "      <th>count</th>\n",
       "      <td>1037.0</td>\n",
       "      <td>1037.0</td>\n",
       "    </tr>\n",
       "    <tr>\n",
       "      <th>mean</th>\n",
       "      <td>7.5</td>\n",
       "      <td>34.8</td>\n",
       "    </tr>\n",
       "    <tr>\n",
       "      <th>std</th>\n",
       "      <td>5.2</td>\n",
       "      <td>53.4</td>\n",
       "    </tr>\n",
       "    <tr>\n",
       "      <th>min</th>\n",
       "      <td>2.0</td>\n",
       "      <td>2.0</td>\n",
       "    </tr>\n",
       "    <tr>\n",
       "      <th>25%</th>\n",
       "      <td>3.0</td>\n",
       "      <td>6.0</td>\n",
       "    </tr>\n",
       "    <tr>\n",
       "      <th>50%</th>\n",
       "      <td>6.0</td>\n",
       "      <td>16.0</td>\n",
       "    </tr>\n",
       "    <tr>\n",
       "      <th>75%</th>\n",
       "      <td>10.0</td>\n",
       "      <td>44.0</td>\n",
       "    </tr>\n",
       "    <tr>\n",
       "      <th>max</th>\n",
       "      <td>35.0</td>\n",
       "      <td>552.0</td>\n",
       "    </tr>\n",
       "  </tbody>\n",
       "</table>\n",
       "</div>"
      ],
      "text/plain": [
       "        nodes   edges\n",
       "count  1037.0  1037.0\n",
       "mean      7.5    34.8\n",
       "std       5.2    53.4\n",
       "min       2.0     2.0\n",
       "25%       3.0     6.0\n",
       "50%       6.0    16.0\n",
       "75%      10.0    44.0\n",
       "max      35.0   552.0"
      ]
     },
     "execution_count": 61,
     "metadata": {},
     "output_type": "execute_result"
    }
   ],
   "source": [
    "summary = pd.DataFrame(\n",
    "    [(g.number_of_nodes(), g.number_of_edges()) for g in graphs],\n",
    "    columns=[\"nodes\", \"edges\"],\n",
    ")\n",
    "summary.describe().round(1)"
   ]
  },
  {
   "cell_type": "code",
   "execution_count": 62,
   "metadata": {},
   "outputs": [],
   "source": [
    "graph_labels = pd.Series(labels)"
   ]
  },
  {
   "cell_type": "code",
   "execution_count": 63,
   "metadata": {},
   "outputs": [
    {
     "name": "stdout",
     "output_type": "stream",
     "text": [
      "0      -1\n",
      "1      -1\n",
      "2      -1\n",
      "3      -1\n",
      "4      -1\n",
      "       ..\n",
      "1032    1\n",
      "1033    1\n",
      "1034    1\n",
      "1035    1\n",
      "1036    1\n",
      "Length: 1037, dtype: int64\n"
     ]
    }
   ],
   "source": [
    "print(graph_labels)"
   ]
  },
  {
   "cell_type": "code",
   "execution_count": 64,
   "metadata": {},
   "outputs": [
    {
     "data": {
      "text/html": [
       "<div>\n",
       "<style scoped>\n",
       "    .dataframe tbody tr th:only-of-type {\n",
       "        vertical-align: middle;\n",
       "    }\n",
       "\n",
       "    .dataframe tbody tr th {\n",
       "        vertical-align: top;\n",
       "    }\n",
       "\n",
       "    .dataframe thead th {\n",
       "        text-align: right;\n",
       "    }\n",
       "</style>\n",
       "<table border=\"1\" class=\"dataframe\">\n",
       "  <thead>\n",
       "    <tr style=\"text-align: right;\">\n",
       "      <th></th>\n",
       "      <th>0</th>\n",
       "    </tr>\n",
       "  </thead>\n",
       "  <tbody>\n",
       "    <tr>\n",
       "      <th>1</th>\n",
       "      <td>846</td>\n",
       "    </tr>\n",
       "    <tr>\n",
       "      <th>-1</th>\n",
       "      <td>191</td>\n",
       "    </tr>\n",
       "  </tbody>\n",
       "</table>\n",
       "</div>"
      ],
      "text/plain": [
       "      0\n",
       " 1  846\n",
       "-1  191"
      ]
     },
     "execution_count": 64,
     "metadata": {},
     "output_type": "execute_result"
    }
   ],
   "source": [
    "graph_labels.value_counts().to_frame()"
   ]
  },
  {
   "cell_type": "code",
   "execution_count": 65,
   "metadata": {},
   "outputs": [],
   "source": [
    "graph_labels = pd.get_dummies(graph_labels, drop_first=True)"
   ]
  },
  {
   "cell_type": "code",
   "execution_count": 66,
   "metadata": {},
   "outputs": [
    {
     "name": "stdout",
     "output_type": "stream",
     "text": [
      "<class 'pandas.core.frame.DataFrame'>\n"
     ]
    }
   ],
   "source": [
    "print(type(graph_labels))"
   ]
  },
  {
   "cell_type": "code",
   "execution_count": 67,
   "metadata": {},
   "outputs": [
    {
     "data": {
      "text/html": [
       "<div>\n",
       "<style scoped>\n",
       "    .dataframe tbody tr th:only-of-type {\n",
       "        vertical-align: middle;\n",
       "    }\n",
       "\n",
       "    .dataframe tbody tr th {\n",
       "        vertical-align: top;\n",
       "    }\n",
       "\n",
       "    .dataframe thead th {\n",
       "        text-align: right;\n",
       "    }\n",
       "</style>\n",
       "<table border=\"1\" class=\"dataframe\">\n",
       "  <thead>\n",
       "    <tr style=\"text-align: right;\">\n",
       "      <th></th>\n",
       "      <th>1</th>\n",
       "    </tr>\n",
       "  </thead>\n",
       "  <tbody>\n",
       "    <tr>\n",
       "      <th>0</th>\n",
       "      <td>0</td>\n",
       "    </tr>\n",
       "    <tr>\n",
       "      <th>1</th>\n",
       "      <td>0</td>\n",
       "    </tr>\n",
       "    <tr>\n",
       "      <th>2</th>\n",
       "      <td>0</td>\n",
       "    </tr>\n",
       "    <tr>\n",
       "      <th>3</th>\n",
       "      <td>0</td>\n",
       "    </tr>\n",
       "    <tr>\n",
       "      <th>4</th>\n",
       "      <td>0</td>\n",
       "    </tr>\n",
       "    <tr>\n",
       "      <th>...</th>\n",
       "      <td>...</td>\n",
       "    </tr>\n",
       "    <tr>\n",
       "      <th>1032</th>\n",
       "      <td>1</td>\n",
       "    </tr>\n",
       "    <tr>\n",
       "      <th>1033</th>\n",
       "      <td>1</td>\n",
       "    </tr>\n",
       "    <tr>\n",
       "      <th>1034</th>\n",
       "      <td>1</td>\n",
       "    </tr>\n",
       "    <tr>\n",
       "      <th>1035</th>\n",
       "      <td>1</td>\n",
       "    </tr>\n",
       "    <tr>\n",
       "      <th>1036</th>\n",
       "      <td>1</td>\n",
       "    </tr>\n",
       "  </tbody>\n",
       "</table>\n",
       "<p>1037 rows × 1 columns</p>\n",
       "</div>"
      ],
      "text/plain": [
       "      1\n",
       "0     0\n",
       "1     0\n",
       "2     0\n",
       "3     0\n",
       "4     0\n",
       "...  ..\n",
       "1032  1\n",
       "1033  1\n",
       "1034  1\n",
       "1035  1\n",
       "1036  1\n",
       "\n",
       "[1037 rows x 1 columns]"
      ]
     },
     "execution_count": 67,
     "metadata": {},
     "output_type": "execute_result"
    }
   ],
   "source": [
    "graph_labels"
   ]
  },
  {
   "cell_type": "code",
   "execution_count": 68,
   "metadata": {},
   "outputs": [],
   "source": [
    "generator = PaddedGraphGenerator(graphs=graphs)"
   ]
  },
  {
   "cell_type": "code",
   "execution_count": 69,
   "metadata": {},
   "outputs": [],
   "source": [
    "def create_graph_classification_model(generator):\n",
    "    gc_model = GCNSupervisedGraphClassification(\n",
    "        layer_sizes=[64, 64],\n",
    "        activations=[\"relu\", \"relu\"],\n",
    "        generator=generator,\n",
    "        dropout=0.5,\n",
    "    )\n",
    "    x_inp, x_out = gc_model.in_out_tensors()\n",
    "    predictions = Dense(units=32, activation=\"relu\")(x_out)\n",
    "    predictions = Dense(units=16, activation=\"relu\")(predictions)\n",
    "    predictions = Dense(units=1, activation=\"sigmoid\")(predictions)\n",
    "\n",
    "    # Let's create the Keras model and prepare it for training\n",
    "    model = Model(inputs=x_inp, outputs=predictions)\n",
    "    model.compile(optimizer=Adam(0.005), loss=binary_crossentropy, metrics=[\"acc\"])\n",
    "\n",
    "    return model"
   ]
  },
  {
   "cell_type": "code",
   "execution_count": 70,
   "metadata": {},
   "outputs": [],
   "source": [
    "epochs = 200  # maximum number of training epochs\n",
    "# folds = 10  # the number of folds for k-fold cross validation\n",
    "# n_repeats = 5  # the number of repeats for repeated k-fold cross validation"
   ]
  },
  {
   "cell_type": "code",
   "execution_count": 71,
   "metadata": {},
   "outputs": [],
   "source": [
    "es = EarlyStopping(\n",
    "    monitor=\"val_loss\", min_delta=0, patience=25, restore_best_weights=True\n",
    ")"
   ]
  },
  {
   "cell_type": "code",
   "execution_count": null,
   "metadata": {},
   "outputs": [],
   "source": []
  },
  {
   "cell_type": "code",
   "execution_count": null,
   "metadata": {},
   "outputs": [],
   "source": []
  },
  {
   "cell_type": "code",
   "execution_count": null,
   "metadata": {},
   "outputs": [],
   "source": []
  },
  {
   "cell_type": "code",
   "execution_count": 72,
   "metadata": {},
   "outputs": [],
   "source": [
    "# To train in folds\n",
    "def train_fold(model, train_gen, test_gen, es, epochs):\n",
    "    history = model.fit(\n",
    "        train_gen, epochs=epochs, validation_data=test_gen, verbose=0, callbacks=[es],\n",
    "    )\n",
    "    # calculate performance on the test data and return along with history\n",
    "    test_metrics = model.evaluate(test_gen, verbose=0)\n",
    "    test_acc = test_metrics[model.metrics_names.index(\"acc\")]\n",
    "\n",
    "    return history, test_acc"
   ]
  },
  {
   "cell_type": "code",
   "execution_count": 73,
   "metadata": {},
   "outputs": [],
   "source": [
    "# To train in folds\n",
    "def get_generators(train_index, test_index, graph_labels, batch_size):\n",
    "    train_gen = generator.flow(\n",
    "        train_index, targets=graph_labels.iloc[train_index].values, weighted=True, batch_size=batch_size, shuffle=False, seed=42\n",
    "    )\n",
    "    test_gen = generator.flow(\n",
    "        test_index, targets=graph_labels.iloc[test_index].values, weighted=True, batch_size=batch_size, shuffle=False, seed=42\n",
    "    )\n",
    "\n",
    "    return train_gen, test_gen"
   ]
  },
  {
   "cell_type": "code",
   "execution_count": 74,
   "metadata": {
    "scrolled": true
   },
   "outputs": [],
   "source": [
    "# # To train in folds\n",
    "# test_accs = []\n",
    "\n",
    "# stratified_folds = model_selection.RepeatedStratifiedKFold(\n",
    "#     n_splits=folds, n_repeats=n_repeats\n",
    "# ).split(graph_labels, graph_labels)\n",
    "\n",
    "# for i, (train_index, test_index) in enumerate(stratified_folds):\n",
    "#     print(f\"Training and evaluating on fold {i+1} out of {folds * n_repeats}...\")\n",
    "#     train_gen, test_gen = get_generators(\n",
    "#         train_index, test_index, graph_labels, batch_size=30\n",
    "#     )\n",
    "\n",
    "#     model = create_graph_classification_model(generator)\n",
    "\n",
    "#     history, acc = train_fold(model, train_gen, test_gen, es, epochs)\n",
    "\n",
    "#     test_accs.append(acc)"
   ]
  },
  {
   "cell_type": "code",
   "execution_count": 75,
   "metadata": {
    "scrolled": true
   },
   "outputs": [
    {
     "name": "stdout",
     "output_type": "stream",
     "text": [
      "Training and evaluating on fold 1...\n",
      "Training and evaluating on fold 2...\n",
      "Training and evaluating on fold 3...\n",
      "Training and evaluating on fold 4...\n",
      "Training and evaluating on fold 5...\n",
      "Training and evaluating on fold 6...\n",
      "Training and evaluating on fold 7...\n",
      "Training and evaluating on fold 8...\n",
      "Training and evaluating on fold 9...\n",
      "Training and evaluating on fold 10...\n",
      "Training and evaluating on fold 11...\n",
      "Training and evaluating on fold 12...\n",
      "Training and evaluating on fold 13...\n",
      "Training and evaluating on fold 14...\n",
      "Training and evaluating on fold 15...\n",
      "Training and evaluating on fold 16...\n",
      "Training and evaluating on fold 17...\n",
      "Training and evaluating on fold 18...\n",
      "Training and evaluating on fold 19...\n",
      "Training and evaluating on fold 20...\n",
      "Training and evaluating on fold 21...\n",
      "Training and evaluating on fold 22...\n",
      "Training and evaluating on fold 23...\n",
      "Training and evaluating on fold 24...\n",
      "Training and evaluating on fold 25...\n",
      "Training and evaluating on fold 26...\n",
      "Training and evaluating on fold 27...\n",
      "Training and evaluating on fold 28...\n",
      "Training and evaluating on fold 29...\n",
      "Training and evaluating on fold 30...\n",
      "Training and evaluating on fold 31...\n",
      "Training and evaluating on fold 32...\n",
      "Training and evaluating on fold 33...\n",
      "Training and evaluating on fold 34...\n",
      "Training and evaluating on fold 35...\n",
      "Training and evaluating on fold 36...\n",
      "Training and evaluating on fold 37...\n",
      "Training and evaluating on fold 38...\n",
      "Training and evaluating on fold 39...\n",
      "Training and evaluating on fold 40...\n",
      "Training and evaluating on fold 41...\n",
      "Training and evaluating on fold 42...\n",
      "Training and evaluating on fold 43...\n",
      "Training and evaluating on fold 44...\n",
      "Training and evaluating on fold 45...\n",
      "Training and evaluating on fold 46...\n",
      "Training and evaluating on fold 47...\n",
      "Training and evaluating on fold 48...\n",
      "Training and evaluating on fold 49...\n",
      "Training and evaluating on fold 50...\n"
     ]
    }
   ],
   "source": [
    "# To train in folds\n",
    "test_accs = []\n",
    "\n",
    "# stratified_folds = model_selection.RepeatedStratifiedKFold(\n",
    "#     n_splits=folds, n_repeats=n_repeats\n",
    "# ).split(graph_labels, graph_labels)\n",
    "\n",
    "# for i, (train_index, test_index) in enumerate(stratified_folds):\n",
    "for i in range(50):\n",
    "    print(f\"Training and evaluating on fold {i+1}...\")\n",
    "    \n",
    "    train_gen, test_gen = get_generators(\n",
    "        train_index, test_index, graph_labels, batch_size=30\n",
    "    )\n",
    "\n",
    "    model = create_graph_classification_model(generator)\n",
    "\n",
    "    history, acc = train_fold(model, train_gen, test_gen, es, epochs)\n",
    "\n",
    "    test_accs.append(acc)"
   ]
  },
  {
   "cell_type": "code",
   "execution_count": null,
   "metadata": {},
   "outputs": [],
   "source": []
  },
  {
   "cell_type": "code",
   "execution_count": 76,
   "metadata": {},
   "outputs": [
    {
     "name": "stdout",
     "output_type": "stream",
     "text": [
      "Accuracy over all folds mean: 73.0% and std: 3.7%\n"
     ]
    }
   ],
   "source": [
    "# 1: Accuracy over all folds mean: 74.4% and std: 2.0%\n",
    "# 2: Accuracy over all folds mean: 73.3% and std: 7.2%\n",
    "# 3: Accuracy over all folds mean: 75.5% and std: 1.9%\n",
    "# 4: Accuracy over all folds mean: 75.4% and std: 2.7%\n",
    "\n",
    "# ------ After setting random\n",
    "# 1: Accuracy over all folds mean: 74.2% and std: 2.1%\n",
    "# 2: Accuracy over all folds mean: 77.9% and std: 4.3%\n",
    "# 3: Accuracy over all folds mean: 74.6% and std: 4.4%\n",
    "# 4: Accuracy over all folds mean: 72.0% and std: 6.6%\n",
    "# 5: Accuracy over all folds mean: 77.3% and std: 1.4%\n",
    "\n",
    "print(\n",
    "    f\"Accuracy over all folds mean: {np.mean(test_accs)*100:.3}% and std: {np.std(test_accs)*100:.2}%\"\n",
    ")"
   ]
  },
  {
   "cell_type": "code",
   "execution_count": 77,
   "metadata": {},
   "outputs": [
    {
     "data": {
      "text/plain": [
       "Text(0, 0.5, 'Count')"
      ]
     },
     "execution_count": 77,
     "metadata": {},
     "output_type": "execute_result"
    },
    {
     "data": {
      "image/png": "[encoded data removed]",
      "text/plain": [
       "<Figure size 576x432 with 1 Axes>"
      ]
     },
     "metadata": {
      "needs_background": "light"
     },
     "output_type": "display_data"
    }
   ],
   "source": [
    "plt.figure(figsize=(8, 6))\n",
    "plt.hist(test_accs)\n",
    "plt.xlabel(\"Accuracy\")\n",
    "plt.ylabel(\"Count\")"
   ]
  },
  {
   "cell_type": "code",
   "execution_count": null,
   "metadata": {},
   "outputs": [],
   "source": []
  },
  {
   "cell_type": "code",
   "execution_count": 73,
   "metadata": {},
   "outputs": [
    {
     "name": "stdout",
     "output_type": "stream",
     "text": [
      "Accuracy over all folds mean: 70.8% and std: 6.5%\n"
     ]
    }
   ],
   "source": [
    "# 2nd try\n",
    "print(\n",
    "    f\"Accuracy over all folds mean: {np.mean(test_accs)*100:.3}% and std: {np.std(test_accs)*100:.2}%\"\n",
    ")"
   ]
  },
  {
   "cell_type": "code",
   "execution_count": 74,
   "metadata": {},
   "outputs": [
    {
     "data": {
      "text/plain": [
       "Text(0, 0.5, 'Count')"
      ]
     },
     "execution_count": 74,
     "metadata": {},
     "output_type": "execute_result"
    },
    {
     "data": {
      "image/png": "[encoded data removed]",
      "text/plain": [
       "<Figure size 576x432 with 1 Axes>"
      ]
     },
     "metadata": {
      "needs_background": "light"
     },
     "output_type": "display_data"
    }
   ],
   "source": [
    "plt.figure(figsize=(8, 6))\n",
    "plt.hist(test_accs)\n",
    "plt.xlabel(\"Accuracy\")\n",
    "plt.ylabel(\"Count\")"
   ]
  },
  {
   "cell_type": "code",
   "execution_count": null,
   "metadata": {},
   "outputs": [],
   "source": []
  },
  {
   "cell_type": "code",
   "execution_count": null,
   "metadata": {},
   "outputs": [],
   "source": []
  },
  {
   "cell_type": "code",
   "execution_count": null,
   "metadata": {},
   "outputs": [],
   "source": []
  },
  {
   "cell_type": "code",
   "execution_count": null,
   "metadata": {},
   "outputs": [],
   "source": [
    "# # # shuffle the data\n",
    "# import random\n",
    "\n",
    "# c = list(zip(graphs, labels))\n",
    "# random.shuffle(c)\n",
    "\n",
    "# graphs, labels = zip(*c)"
   ]
  },
  {
   "cell_type": "code",
   "execution_count": null,
   "metadata": {
    "scrolled": true
   },
   "outputs": [],
   "source": [
    "# stratified_folds = model_selection.RepeatedStratifiedKFold(\n",
    "#     n_splits=10, n_repeats=5\n",
    "# ).split(graph_labels, graph_labels)\n",
    "\n",
    "# for i, (train_index, test_index) in enumerate(stratified_folds):\n",
    "#     print(f\"\\ntrain_index: \\n{train_index}\\ntest_index: \\n{test_index}\\n\")\n",
    "#     break\n",
    "# print(f\"train: {len(train_index)}, test: {len(test_index)}\")"
   ]
  },
  {
   "cell_type": "code",
   "execution_count": null,
   "metadata": {
    "scrolled": true
   },
   "outputs": [],
   "source": [
    "type(graph_labels.iloc[train_index].values)"
   ]
  },
  {
   "cell_type": "code",
   "execution_count": null,
   "metadata": {
    "scrolled": true
   },
   "outputs": [],
   "source": [
    "graph_labels.iloc[test_index].values"
   ]
  },
  {
   "cell_type": "code",
   "execution_count": null,
   "metadata": {},
   "outputs": [],
   "source": [
    "train_index.shape"
   ]
  },
  {
   "cell_type": "code",
   "execution_count": 69,
   "metadata": {},
   "outputs": [],
   "source": [
    "train_gen = generator.flow(\n",
    "        train_index, targets=graph_labels.iloc[train_index].values, batch_size=40, shuffle=False, seed=42)\n",
    "test_gen = generator.flow(\n",
    "    test_index, targets=graph_labels.iloc[test_index].values, batch_size=40, shuffle=False, seed=42)"
   ]
  },
  {
   "cell_type": "code",
   "execution_count": 70,
   "metadata": {
    "scrolled": true
   },
   "outputs": [
    {
     "name": "stdout",
     "output_type": "stream",
     "text": [
      "Epoch 1/200\n",
      "18/18 [==============================] - 1s 44ms/step - loss: 0.4293 - acc: 0.8505 - val_loss: 0.7430 - val_acc: 0.5000\n",
      "Epoch 2/200\n",
      "18/18 [==============================] - 1s 35ms/step - loss: 0.3705 - acc: 0.8505 - val_loss: 0.6379 - val_acc: 0.5000\n",
      "Epoch 3/200\n",
      "18/18 [==============================] - 0s 21ms/step - loss: 0.3740 - acc: 0.8505 - val_loss: 0.6172 - val_acc: 0.5000\n",
      "Epoch 4/200\n",
      "18/18 [==============================] - 0s 24ms/step - loss: 0.3549 - acc: 0.8505 - val_loss: 0.7760 - val_acc: 0.5000\n",
      "Epoch 5/200\n",
      "18/18 [==============================] - 1s 30ms/step - loss: 0.3700 - acc: 0.8491 - val_loss: 0.6297 - val_acc: 0.5000\n",
      "Epoch 6/200\n",
      "18/18 [==============================] - 0s 20ms/step - loss: 0.3659 - acc: 0.8505 - val_loss: 0.6561 - val_acc: 0.5385\n",
      "Epoch 7/200\n",
      "18/18 [==============================] - 1s 40ms/step - loss: 0.3603 - acc: 0.8519 - val_loss: 0.8292 - val_acc: 0.5641\n",
      "Epoch 8/200\n",
      "18/18 [==============================] - 1s 31ms/step - loss: 0.3590 - acc: 0.8604 - val_loss: 0.7850 - val_acc: 0.6282\n",
      "Epoch 9/200\n",
      "18/18 [==============================] - 0s 23ms/step - loss: 0.3570 - acc: 0.8505 - val_loss: 0.7408 - val_acc: 0.5641\n",
      "Epoch 10/200\n",
      "18/18 [==============================] - 0s 24ms/step - loss: 0.3686 - acc: 0.8505 - val_loss: 0.7000 - val_acc: 0.5000\n",
      "Epoch 11/200\n",
      "18/18 [==============================] - 0s 23ms/step - loss: 0.3386 - acc: 0.8561 - val_loss: 0.6438 - val_acc: 0.6923\n",
      "Epoch 12/200\n",
      "18/18 [==============================] - 0s 22ms/step - loss: 0.3462 - acc: 0.8561 - val_loss: 0.6657 - val_acc: 0.6667\n",
      "Epoch 13/200\n",
      "18/18 [==============================] - 1s 30ms/step - loss: 0.3443 - acc: 0.8604 - val_loss: 0.6895 - val_acc: 0.6667\n",
      "Epoch 14/200\n",
      "18/18 [==============================] - 1s 30ms/step - loss: 0.3406 - acc: 0.8632 - val_loss: 0.6566 - val_acc: 0.7179\n",
      "Epoch 15/200\n",
      "18/18 [==============================] - 0s 27ms/step - loss: 0.3373 - acc: 0.8646 - val_loss: 0.6819 - val_acc: 0.6795\n",
      "Epoch 16/200\n",
      "18/18 [==============================] - 0s 27ms/step - loss: 0.3425 - acc: 0.8646 - val_loss: 0.6510 - val_acc: 0.7051\n",
      "Epoch 17/200\n",
      "18/18 [==============================] - 1s 31ms/step - loss: 0.3385 - acc: 0.8632 - val_loss: 0.5459 - val_acc: 0.7564\n",
      "Epoch 18/200\n",
      "18/18 [==============================] - 0s 26ms/step - loss: 0.3460 - acc: 0.8702 - val_loss: 0.7308 - val_acc: 0.6026\n",
      "Epoch 19/200\n",
      "18/18 [==============================] - 1s 33ms/step - loss: 0.3508 - acc: 0.8646 - val_loss: 0.6276 - val_acc: 0.7051\n",
      "Epoch 20/200\n",
      "18/18 [==============================] - 1s 28ms/step - loss: 0.3321 - acc: 0.8801 - val_loss: 0.5781 - val_acc: 0.7308\n",
      "Epoch 21/200\n",
      "18/18 [==============================] - 0s 26ms/step - loss: 0.3406 - acc: 0.8717 - val_loss: 0.6063 - val_acc: 0.7051\n",
      "Epoch 22/200\n",
      "18/18 [==============================] - 1s 29ms/step - loss: 0.3488 - acc: 0.8632 - val_loss: 0.6950 - val_acc: 0.6410\n",
      "Epoch 23/200\n",
      "18/18 [==============================] - 1s 30ms/step - loss: 0.3445 - acc: 0.8590 - val_loss: 0.6725 - val_acc: 0.6923\n",
      "Epoch 24/200\n",
      "18/18 [==============================] - 0s 22ms/step - loss: 0.3410 - acc: 0.8759 - val_loss: 0.6043 - val_acc: 0.6923\n",
      "Epoch 25/200\n",
      "18/18 [==============================] - 0s 27ms/step - loss: 0.3349 - acc: 0.8688 - val_loss: 0.6131 - val_acc: 0.6795\n",
      "Epoch 26/200\n",
      "18/18 [==============================] - 0s 23ms/step - loss: 0.3303 - acc: 0.8674 - val_loss: 0.6933 - val_acc: 0.6667\n",
      "Epoch 27/200\n",
      "18/18 [==============================] - 0s 27ms/step - loss: 0.3426 - acc: 0.8632 - val_loss: 0.7584 - val_acc: 0.5513\n",
      "Epoch 28/200\n",
      "18/18 [==============================] - 1s 37ms/step - loss: 0.3384 - acc: 0.8731 - val_loss: 0.5967 - val_acc: 0.6923\n",
      "Epoch 29/200\n",
      "18/18 [==============================] - 1s 36ms/step - loss: 0.3207 - acc: 0.8858 - val_loss: 0.6224 - val_acc: 0.6923\n",
      "Epoch 30/200\n",
      "18/18 [==============================] - 1s 29ms/step - loss: 0.3122 - acc: 0.8759 - val_loss: 0.7837 - val_acc: 0.7051\n",
      "Epoch 31/200\n",
      "18/18 [==============================] - 0s 26ms/step - loss: 0.3352 - acc: 0.8731 - val_loss: 0.6388 - val_acc: 0.6795\n",
      "Epoch 32/200\n",
      "18/18 [==============================] - 1s 28ms/step - loss: 0.3261 - acc: 0.8717 - val_loss: 0.5779 - val_acc: 0.7051\n",
      "Epoch 33/200\n",
      "18/18 [==============================] - 1s 34ms/step - loss: 0.3100 - acc: 0.8829 - val_loss: 0.6317 - val_acc: 0.7051\n",
      "Epoch 34/200\n",
      "18/18 [==============================] - 0s 26ms/step - loss: 0.3243 - acc: 0.8801 - val_loss: 0.7673 - val_acc: 0.6026\n",
      "Epoch 35/200\n",
      "18/18 [==============================] - 0s 22ms/step - loss: 0.3268 - acc: 0.8829 - val_loss: 0.6170 - val_acc: 0.7051\n",
      "Epoch 36/200\n",
      "18/18 [==============================] - 0s 20ms/step - loss: 0.3243 - acc: 0.8717 - val_loss: 0.5134 - val_acc: 0.7692\n",
      "Epoch 37/200\n",
      "18/18 [==============================] - 0s 27ms/step - loss: 0.3302 - acc: 0.8787 - val_loss: 0.5426 - val_acc: 0.7564\n",
      "Epoch 38/200\n",
      "18/18 [==============================] - 1s 35ms/step - loss: 0.3153 - acc: 0.8829 - val_loss: 0.6044 - val_acc: 0.7436\n",
      "Epoch 39/200\n",
      "18/18 [==============================] - 1s 43ms/step - loss: 0.3100 - acc: 0.8773 - val_loss: 0.6532 - val_acc: 0.6923\n",
      "Epoch 40/200\n",
      "18/18 [==============================] - 1s 34ms/step - loss: 0.3026 - acc: 0.8801 - val_loss: 0.5991 - val_acc: 0.7051\n",
      "Epoch 41/200\n",
      "18/18 [==============================] - 1s 34ms/step - loss: 0.3088 - acc: 0.8858 - val_loss: 0.5188 - val_acc: 0.7436\n",
      "Epoch 42/200\n",
      "18/18 [==============================] - 1s 38ms/step - loss: 0.3178 - acc: 0.8914 - val_loss: 0.4897 - val_acc: 0.7564\n",
      "Epoch 43/200\n",
      "18/18 [==============================] - 1s 35ms/step - loss: 0.3253 - acc: 0.8731 - val_loss: 0.7266 - val_acc: 0.5897\n",
      "Epoch 44/200\n",
      "18/18 [==============================] - 0s 27ms/step - loss: 0.3119 - acc: 0.8773 - val_loss: 0.6082 - val_acc: 0.7436\n",
      "Epoch 45/200\n",
      "18/18 [==============================] - 0s 28ms/step - loss: 0.3025 - acc: 0.8843 - val_loss: 0.5529 - val_acc: 0.7564\n",
      "Epoch 46/200\n",
      "18/18 [==============================] - 1s 34ms/step - loss: 0.3015 - acc: 0.8843 - val_loss: 0.5317 - val_acc: 0.7564\n",
      "Epoch 47/200\n",
      "18/18 [==============================] - 1s 35ms/step - loss: 0.3152 - acc: 0.8914 - val_loss: 0.6561 - val_acc: 0.7051\n",
      "Epoch 48/200\n",
      "18/18 [==============================] - 1s 30ms/step - loss: 0.2942 - acc: 0.8843 - val_loss: 0.6225 - val_acc: 0.6923\n",
      "Epoch 49/200\n",
      "18/18 [==============================] - 1s 30ms/step - loss: 0.3024 - acc: 0.8942 - val_loss: 0.5832 - val_acc: 0.7308\n",
      "Epoch 50/200\n",
      "18/18 [==============================] - 1s 29ms/step - loss: 0.3000 - acc: 0.8829 - val_loss: 0.6019 - val_acc: 0.7051\n",
      "Epoch 51/200\n",
      "18/18 [==============================] - 0s 28ms/step - loss: 0.2949 - acc: 0.8858 - val_loss: 0.5607 - val_acc: 0.7308\n",
      "Epoch 52/200\n",
      "18/18 [==============================] - 1s 34ms/step - loss: 0.3416 - acc: 0.8505 - val_loss: 0.8624 - val_acc: 0.5000\n",
      "Epoch 53/200\n",
      "18/18 [==============================] - 0s 26ms/step - loss: 0.3271 - acc: 0.8660 - val_loss: 0.6270 - val_acc: 0.6795\n",
      "Epoch 54/200\n",
      "18/18 [==============================] - 1s 43ms/step - loss: 0.3036 - acc: 0.8872 - val_loss: 0.5819 - val_acc: 0.7051\n",
      "Epoch 55/200\n",
      "18/18 [==============================] - 1s 29ms/step - loss: 0.2938 - acc: 0.8858 - val_loss: 0.6351 - val_acc: 0.7308\n",
      "Epoch 56/200\n",
      "18/18 [==============================] - 1s 36ms/step - loss: 0.2981 - acc: 0.8858 - val_loss: 0.6694 - val_acc: 0.6795\n",
      "Epoch 57/200\n",
      "18/18 [==============================] - 0s 26ms/step - loss: 0.3055 - acc: 0.8815 - val_loss: 0.5471 - val_acc: 0.7692\n",
      "Epoch 58/200\n",
      "18/18 [==============================] - 1s 35ms/step - loss: 0.2827 - acc: 0.8970 - val_loss: 0.7172 - val_acc: 0.6923\n",
      "Epoch 59/200\n",
      "18/18 [==============================] - 1s 31ms/step - loss: 0.3069 - acc: 0.8815 - val_loss: 0.5241 - val_acc: 0.7564\n",
      "Epoch 60/200\n",
      "18/18 [==============================] - 1s 37ms/step - loss: 0.3074 - acc: 0.8872 - val_loss: 0.5214 - val_acc: 0.7564\n",
      "Epoch 61/200\n",
      "18/18 [==============================] - 1s 37ms/step - loss: 0.3032 - acc: 0.8872 - val_loss: 0.5803 - val_acc: 0.7051\n",
      "Epoch 62/200\n",
      "18/18 [==============================] - 1s 45ms/step - loss: 0.3112 - acc: 0.8773 - val_loss: 0.5314 - val_acc: 0.7308\n",
      "Epoch 63/200\n",
      "18/18 [==============================] - 1s 29ms/step - loss: 0.2900 - acc: 0.8900 - val_loss: 0.5969 - val_acc: 0.7308\n",
      "Epoch 64/200\n",
      "18/18 [==============================] - 0s 27ms/step - loss: 0.2753 - acc: 0.8914 - val_loss: 0.7361 - val_acc: 0.6538\n",
      "Epoch 65/200\n",
      "18/18 [==============================] - 1s 31ms/step - loss: 0.2864 - acc: 0.8970 - val_loss: 0.5499 - val_acc: 0.7564\n",
      "Epoch 66/200\n",
      "18/18 [==============================] - 1s 32ms/step - loss: 0.3028 - acc: 0.8858 - val_loss: 0.5346 - val_acc: 0.7308\n",
      "Epoch 67/200\n",
      "18/18 [==============================] - ETA: 0s - loss: 0.2765 - acc: 0.887 - 1s 29ms/step - loss: 0.2810 - acc: 0.8886 - val_loss: 0.5877 - val_acc: 0.7308\n"
     ]
    }
   ],
   "source": [
    "model = create_graph_classification_model(generator)\n",
    "\n",
    "history = model.fit(\n",
    "        train_gen, epochs=200, validation_data=test_gen, verbose=1, callbacks=[es])"
   ]
  },
  {
   "cell_type": "code",
   "execution_count": 71,
   "metadata": {},
   "outputs": [
    {
     "name": "stdout",
     "output_type": "stream",
     "text": [
      "2/2 [==============================] - 0s 13ms/step - loss: 0.4897 - acc: 0.7564\n"
     ]
    }
   ],
   "source": [
    "# calculate performance on the test data and return along with history\n",
    "# Node features all 1, edge features all 1\n",
    "test_metrics = model.evaluate(test_gen, verbose=1)\n",
    "test_acc = test_metrics[model.metrics_names.index(\"acc\")]"
   ]
  },
  {
   "cell_type": "code",
   "execution_count": 72,
   "metadata": {},
   "outputs": [
    {
     "name": "stdout",
     "output_type": "stream",
     "text": [
      "[0.48970162868499756, 0.7564102411270142]\n",
      "0.7564102411270142\n"
     ]
    }
   ],
   "source": [
    "# not_weighted\n",
    "print(test_metrics)\n",
    "#test loss, test acc: [0.5977194905281067, 0.6794871687889099]\n",
    "# 2nd try: [0.6099531650543213, 0.7435897588729858]\n",
    "# 3: [0.6134859919548035, 0.692307710647583]\n",
    "# 4: [0.5708641409873962, 0.7564102411270142]\n",
    "print(test_acc)"
   ]
  },
  {
   "cell_type": "code",
   "execution_count": null,
   "metadata": {
    "scrolled": true
   },
   "outputs": [],
   "source": [
    "print(\"Generate predictions for samples\")\n",
    "predictions = model.predict(test_gen, verbose=0)\n",
    "print(\"predictions shape:\", predictions.shape)\n",
    "# predictions shape: (79, 1)\n",
    "print(predictions)"
   ]
  },
  {
   "cell_type": "markdown",
   "metadata": {},
   "source": [
    "[[0.9633641 ]\n",
    " [0.9572478 ]\n",
    " [0.92709166]\n",
    " [0.67149305]\n",
    " [0.75392646]\n",
    " [0.80909836]\n",
    " [0.8878052 ]\n",
    " [0.35882965]\n",
    " [0.8740735 ]\n",
    " [0.9488548 ]\n",
    " [0.71857995]\n",
    " [0.8417202 ]\n",
    " [0.77317935]\n",
    " [0.97507536]\n",
    " [0.7930052 ]\n",
    " [0.3096424 ]\n",
    " [0.81946105]\n",
    " [0.3233545 ]\n",
    " [0.75175   ]\n",
    " [0.79594046]\n",
    " [0.2881279 ]\n",
    " [0.42757368]\n",
    " [0.35783005]\n",
    " [0.53080255]\n",
    " [0.42272243]\n",
    " [0.8731016 ]\n",
    " [0.2651747 ]\n",
    " [0.9176288 ]\n",
    " [0.8412247 ]\n",
    " [0.84611094]\n",
    " [0.899879  ]\n",
    " [0.4730718 ]\n",
    " [0.6183011 ]\n",
    " [0.8530265 ]\n",
    " [0.38916534]\n",
    " [0.41842264]\n",
    " [0.90864706]\n",
    " [0.82059276]\n",
    " [0.89827585]\n",
    " [0.31872994]\n",
    " [0.9104121 ]\n",
    " [0.8878981 ]\n",
    " [0.4407365 ]\n",
    " [0.6909543 ]\n",
    " [0.75392646]\n",
    " [0.88234955]\n",
    " [0.75392646]\n",
    " [0.75392646]\n",
    " [0.2803172 ]\n",
    " [0.8783453 ]\n",
    " [0.6334169 ]\n",
    " [0.8953688 ]\n",
    " [0.9676844 ]\n",
    " [0.46171212]\n",
    " [0.42416874]\n",
    " [0.7234482 ]\n",
    " [0.93954104]\n",
    " [0.7739153 ]\n",
    " [0.37732255]\n",
    " [0.7243462 ]\n",
    " [0.975207  ]\n",
    " [0.39652586]\n",
    " [0.6909691 ]\n",
    " [0.75392646]\n",
    " [0.3582555 ]\n",
    " [0.75392646]\n",
    " [0.94787574]\n",
    " [0.47389334]\n",
    " [0.9733413 ]\n",
    " [0.75392646]\n",
    " [0.931447  ]\n",
    " [0.53550804]\n",
    " [0.31291372]\n",
    " [0.3546905 ]\n",
    " [0.75392646]\n",
    " [0.75392646]\n",
    " [0.3483727 ]\n",
    " [0.7502146 ]]"
   ]
  },
  {
   "cell_type": "code",
   "execution_count": null,
   "metadata": {
    "scrolled": true
   },
   "outputs": [],
   "source": [
    "print(test_gen.targets)"
   ]
  },
  {
   "cell_type": "code",
   "execution_count": null,
   "metadata": {},
   "outputs": [],
   "source": []
  },
  {
   "cell_type": "code",
   "execution_count": null,
   "metadata": {},
   "outputs": [],
   "source": []
  },
  {
   "cell_type": "code",
   "execution_count": null,
   "metadata": {
    "scrolled": true
   },
   "outputs": [],
   "source": [
    "print(temp_test)"
   ]
  },
  {
   "cell_type": "code",
   "execution_count": null,
   "metadata": {},
   "outputs": [],
   "source": [
    "temp_test = np.array(test_gen.targets)"
   ]
  },
  {
   "cell_type": "code",
   "execution_count": null,
   "metadata": {
    "scrolled": true
   },
   "outputs": [],
   "source": [
    "print(y_pred)"
   ]
  },
  {
   "cell_type": "code",
   "execution_count": null,
   "metadata": {},
   "outputs": [],
   "source": [
    "from sklearn.metrics import classification_report\n",
    "import numpy as np\n",
    "\n",
    "y_test = np.argmax(temp_test, axis=1) # Convert one-hot to index\n",
    "y_pred = model.predict(test_gen)\n",
    "\n",
    "print(classification_report(y_test, y_pred))"
   ]
  },
  {
   "cell_type": "code",
   "execution_count": null,
   "metadata": {},
   "outputs": [],
   "source": []
  }
 ],
 "metadata": {
  "kernelspec": {
   "display_name": "Python 3",
   "language": "python",
   "name": "python3"
  },
  "language_info": {
   "codemirror_mode": {
    "name": "ipython",
    "version": 3
   },
   "file_extension": ".py",
   "mimetype": "text/x-python",
   "name": "python",
   "nbconvert_exporter": "python",
   "pygments_lexer": "ipython3",
   "version": "3.7.6"
  }
 },
 "nbformat": 4,
 "nbformat_minor": 4
}
