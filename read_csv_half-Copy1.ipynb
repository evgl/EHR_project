{
 "cells": [
  {
   "cell_type": "markdown",
   "metadata": {},
   "source": [
    "### Data extraction\n",
    "Extract data from MIMIC-III"
   ]
  },
  {
   "cell_type": "code",
   "execution_count": 1,
   "metadata": {},
   "outputs": [
    {
     "data": {
      "text/html": [
       "        <script type=\"text/javascript\">\n",
       "        window.PlotlyConfig = {MathJaxConfig: 'local'};\n",
       "        if (window.MathJax) {MathJax.Hub.Config({SVG: {font: \"STIX-Web\"}});}\n",
       "        if (typeof require !== 'undefined') {\n",
       "        require.undef(\"plotly\");\n",
       "        requirejs.config({\n",
       "            paths: {\n",
       "                'plotly': ['https://cdn.plot.ly/plotly-latest.min']\n",
       "            }\n",
       "        });\n",
       "        require(['plotly'], function(Plotly) {\n",
       "            window._Plotly = Plotly;\n",
       "        });\n",
       "        }\n",
       "        </script>\n",
       "        "
      ]
     },
     "metadata": {},
     "output_type": "display_data"
    }
   ],
   "source": [
    "import time\n",
    "import numpy as np \n",
    "import pandas as pd\n",
    "import matplotlib.pyplot as plt\n",
    "import seaborn as sns\n",
    "from tqdm import tqdm\n",
    "\n",
    "# import re\n",
    "\n",
    "# import plotly.graph_objs as go\n",
    "# import plotly.plotly as py\n",
    "import cufflinks\n",
    "# from IPython.core.interactiveshell import InteractiveShell\n",
    "# import plotly.figure_factory as ff\n",
    "# InteractiveShell.ast_node_interactivity = 'all'\n",
    "# from plotly.offline import iplot\n",
    "cufflinks.go_offline()\n",
    "cufflinks.set_config_file(world_readable=True, theme='pearl')"
   ]
  },
  {
   "cell_type": "code",
   "execution_count": 2,
   "metadata": {},
   "outputs": [
    {
     "name": "stderr",
     "output_type": "stream",
     "text": [
      "/home/evan/anaconda3/lib/python3.7/site-packages/IPython/core/interactiveshell.py:3063: DtypeWarning:\n",
      "\n",
      "Columns (4,5) have mixed types.Specify dtype option on import or set low_memory=False.\n",
      "\n"
     ]
    },
    {
     "name": "stdout",
     "output_type": "stream",
     "text": [
      "31.12977385520935\n"
     ]
    }
   ],
   "source": [
    "# Import pandas \n",
    "import pandas as pd \n",
    "\n",
    "start = time.time()\n",
    "# reading csv file \n",
    "admissions_df = pd.read_csv(\"datasets/mmc-3/ADMISSIONS.csv\")\n",
    "noteevents_df = pd.read_csv(\"datasets/mmc-3/NOTEEVENTS.csv\") \n",
    "end = time.time()\n",
    "print(end - start)\n"
   ]
  },
  {
   "cell_type": "code",
   "execution_count": 3,
   "metadata": {},
   "outputs": [],
   "source": [
    "# diagnosis = df.DIAGNOSIS.unique()\n",
    "# #PNEUMONIA\n",
    "# for i in diagnosis:\n",
    "#     print(f\"[{i}]\")\n",
    "# data = df.copy()\n",
    "# data.info()\n",
    "\n",
    "# pneumonia_df = data.loc[df['DIAGNOSIS'] == 'PNEUMONIA']\n",
    "# pneumonia_df.info()"
   ]
  },
  {
   "cell_type": "code",
   "execution_count": 4,
   "metadata": {
    "scrolled": true
   },
   "outputs": [
    {
     "data": {
      "text/html": [
       "<div>\n",
       "<style scoped>\n",
       "    .dataframe tbody tr th:only-of-type {\n",
       "        vertical-align: middle;\n",
       "    }\n",
       "\n",
       "    .dataframe tbody tr th {\n",
       "        vertical-align: top;\n",
       "    }\n",
       "\n",
       "    .dataframe thead th {\n",
       "        text-align: right;\n",
       "    }\n",
       "</style>\n",
       "<table border=\"1\" class=\"dataframe\">\n",
       "  <thead>\n",
       "    <tr style=\"text-align: right;\">\n",
       "      <th></th>\n",
       "      <th>ROW_ID</th>\n",
       "      <th>SUBJECT_ID</th>\n",
       "      <th>HADM_ID</th>\n",
       "      <th>ADMITTIME</th>\n",
       "      <th>DISCHTIME</th>\n",
       "      <th>DEATHTIME</th>\n",
       "      <th>ADMISSION_TYPE</th>\n",
       "      <th>ADMISSION_LOCATION</th>\n",
       "      <th>DISCHARGE_LOCATION</th>\n",
       "      <th>INSURANCE</th>\n",
       "      <th>LANGUAGE</th>\n",
       "      <th>RELIGION</th>\n",
       "      <th>MARITAL_STATUS</th>\n",
       "      <th>ETHNICITY</th>\n",
       "      <th>EDREGTIME</th>\n",
       "      <th>EDOUTTIME</th>\n",
       "      <th>DIAGNOSIS</th>\n",
       "      <th>HOSPITAL_EXPIRE_FLAG</th>\n",
       "      <th>HAS_CHARTEVENTS_DATA</th>\n",
       "    </tr>\n",
       "  </thead>\n",
       "  <tbody>\n",
       "    <tr>\n",
       "      <th>0</th>\n",
       "      <td>21</td>\n",
       "      <td>22</td>\n",
       "      <td>165315</td>\n",
       "      <td>2196-04-09 12:26:00</td>\n",
       "      <td>2196-04-10 15:54:00</td>\n",
       "      <td>NaN</td>\n",
       "      <td>EMERGENCY</td>\n",
       "      <td>EMERGENCY ROOM ADMIT</td>\n",
       "      <td>DISC-TRAN CANCER/CHLDRN H</td>\n",
       "      <td>Private</td>\n",
       "      <td>NaN</td>\n",
       "      <td>UNOBTAINABLE</td>\n",
       "      <td>MARRIED</td>\n",
       "      <td>WHITE</td>\n",
       "      <td>2196-04-09 10:06:00</td>\n",
       "      <td>2196-04-09 13:24:00</td>\n",
       "      <td>BENZODIAZEPINE OVERDOSE</td>\n",
       "      <td>0</td>\n",
       "      <td>1</td>\n",
       "    </tr>\n",
       "    <tr>\n",
       "      <th>1</th>\n",
       "      <td>22</td>\n",
       "      <td>23</td>\n",
       "      <td>152223</td>\n",
       "      <td>2153-09-03 07:15:00</td>\n",
       "      <td>2153-09-08 19:10:00</td>\n",
       "      <td>NaN</td>\n",
       "      <td>ELECTIVE</td>\n",
       "      <td>PHYS REFERRAL/NORMAL DELI</td>\n",
       "      <td>HOME HEALTH CARE</td>\n",
       "      <td>Medicare</td>\n",
       "      <td>NaN</td>\n",
       "      <td>CATHOLIC</td>\n",
       "      <td>MARRIED</td>\n",
       "      <td>WHITE</td>\n",
       "      <td>NaN</td>\n",
       "      <td>NaN</td>\n",
       "      <td>CORONARY ARTERY DISEASE\\CORONARY ARTERY BYPASS...</td>\n",
       "      <td>0</td>\n",
       "      <td>1</td>\n",
       "    </tr>\n",
       "    <tr>\n",
       "      <th>2</th>\n",
       "      <td>23</td>\n",
       "      <td>23</td>\n",
       "      <td>124321</td>\n",
       "      <td>2157-10-18 19:34:00</td>\n",
       "      <td>2157-10-25 14:00:00</td>\n",
       "      <td>NaN</td>\n",
       "      <td>EMERGENCY</td>\n",
       "      <td>TRANSFER FROM HOSP/EXTRAM</td>\n",
       "      <td>HOME HEALTH CARE</td>\n",
       "      <td>Medicare</td>\n",
       "      <td>ENGL</td>\n",
       "      <td>CATHOLIC</td>\n",
       "      <td>MARRIED</td>\n",
       "      <td>WHITE</td>\n",
       "      <td>NaN</td>\n",
       "      <td>NaN</td>\n",
       "      <td>BRAIN MASS</td>\n",
       "      <td>0</td>\n",
       "      <td>1</td>\n",
       "    </tr>\n",
       "    <tr>\n",
       "      <th>3</th>\n",
       "      <td>24</td>\n",
       "      <td>24</td>\n",
       "      <td>161859</td>\n",
       "      <td>2139-06-06 16:14:00</td>\n",
       "      <td>2139-06-09 12:48:00</td>\n",
       "      <td>NaN</td>\n",
       "      <td>EMERGENCY</td>\n",
       "      <td>TRANSFER FROM HOSP/EXTRAM</td>\n",
       "      <td>HOME</td>\n",
       "      <td>Private</td>\n",
       "      <td>NaN</td>\n",
       "      <td>PROTESTANT QUAKER</td>\n",
       "      <td>SINGLE</td>\n",
       "      <td>WHITE</td>\n",
       "      <td>NaN</td>\n",
       "      <td>NaN</td>\n",
       "      <td>INTERIOR MYOCARDIAL INFARCTION</td>\n",
       "      <td>0</td>\n",
       "      <td>1</td>\n",
       "    </tr>\n",
       "    <tr>\n",
       "      <th>4</th>\n",
       "      <td>25</td>\n",
       "      <td>25</td>\n",
       "      <td>129635</td>\n",
       "      <td>2160-11-02 02:06:00</td>\n",
       "      <td>2160-11-05 14:55:00</td>\n",
       "      <td>NaN</td>\n",
       "      <td>EMERGENCY</td>\n",
       "      <td>EMERGENCY ROOM ADMIT</td>\n",
       "      <td>HOME</td>\n",
       "      <td>Private</td>\n",
       "      <td>NaN</td>\n",
       "      <td>UNOBTAINABLE</td>\n",
       "      <td>MARRIED</td>\n",
       "      <td>WHITE</td>\n",
       "      <td>2160-11-02 01:01:00</td>\n",
       "      <td>2160-11-02 04:27:00</td>\n",
       "      <td>ACUTE CORONARY SYNDROME</td>\n",
       "      <td>0</td>\n",
       "      <td>1</td>\n",
       "    </tr>\n",
       "    <tr>\n",
       "      <th>...</th>\n",
       "      <td>...</td>\n",
       "      <td>...</td>\n",
       "      <td>...</td>\n",
       "      <td>...</td>\n",
       "      <td>...</td>\n",
       "      <td>...</td>\n",
       "      <td>...</td>\n",
       "      <td>...</td>\n",
       "      <td>...</td>\n",
       "      <td>...</td>\n",
       "      <td>...</td>\n",
       "      <td>...</td>\n",
       "      <td>...</td>\n",
       "      <td>...</td>\n",
       "      <td>...</td>\n",
       "      <td>...</td>\n",
       "      <td>...</td>\n",
       "      <td>...</td>\n",
       "      <td>...</td>\n",
       "    </tr>\n",
       "    <tr>\n",
       "      <th>58971</th>\n",
       "      <td>58594</td>\n",
       "      <td>98800</td>\n",
       "      <td>191113</td>\n",
       "      <td>2131-03-30 21:13:00</td>\n",
       "      <td>2131-04-02 15:02:00</td>\n",
       "      <td>NaN</td>\n",
       "      <td>EMERGENCY</td>\n",
       "      <td>CLINIC REFERRAL/PREMATURE</td>\n",
       "      <td>HOME</td>\n",
       "      <td>Private</td>\n",
       "      <td>ENGL</td>\n",
       "      <td>NOT SPECIFIED</td>\n",
       "      <td>SINGLE</td>\n",
       "      <td>WHITE</td>\n",
       "      <td>2131-03-30 19:44:00</td>\n",
       "      <td>2131-03-30 22:41:00</td>\n",
       "      <td>TRAUMA</td>\n",
       "      <td>0</td>\n",
       "      <td>1</td>\n",
       "    </tr>\n",
       "    <tr>\n",
       "      <th>58972</th>\n",
       "      <td>58595</td>\n",
       "      <td>98802</td>\n",
       "      <td>101071</td>\n",
       "      <td>2151-03-05 20:00:00</td>\n",
       "      <td>2151-03-06 09:10:00</td>\n",
       "      <td>2151-03-06 09:10:00</td>\n",
       "      <td>EMERGENCY</td>\n",
       "      <td>CLINIC REFERRAL/PREMATURE</td>\n",
       "      <td>DEAD/EXPIRED</td>\n",
       "      <td>Medicare</td>\n",
       "      <td>ENGL</td>\n",
       "      <td>CATHOLIC</td>\n",
       "      <td>WIDOWED</td>\n",
       "      <td>WHITE</td>\n",
       "      <td>2151-03-05 17:23:00</td>\n",
       "      <td>2151-03-05 21:06:00</td>\n",
       "      <td>SAH</td>\n",
       "      <td>1</td>\n",
       "      <td>1</td>\n",
       "    </tr>\n",
       "    <tr>\n",
       "      <th>58973</th>\n",
       "      <td>58596</td>\n",
       "      <td>98805</td>\n",
       "      <td>122631</td>\n",
       "      <td>2200-09-12 07:15:00</td>\n",
       "      <td>2200-09-20 12:08:00</td>\n",
       "      <td>NaN</td>\n",
       "      <td>ELECTIVE</td>\n",
       "      <td>PHYS REFERRAL/NORMAL DELI</td>\n",
       "      <td>HOME HEALTH CARE</td>\n",
       "      <td>Private</td>\n",
       "      <td>ENGL</td>\n",
       "      <td>NOT SPECIFIED</td>\n",
       "      <td>MARRIED</td>\n",
       "      <td>WHITE</td>\n",
       "      <td>NaN</td>\n",
       "      <td>NaN</td>\n",
       "      <td>RENAL CANCER/SDA</td>\n",
       "      <td>0</td>\n",
       "      <td>1</td>\n",
       "    </tr>\n",
       "    <tr>\n",
       "      <th>58974</th>\n",
       "      <td>58597</td>\n",
       "      <td>98813</td>\n",
       "      <td>170407</td>\n",
       "      <td>2128-11-11 02:29:00</td>\n",
       "      <td>2128-12-22 13:11:00</td>\n",
       "      <td>NaN</td>\n",
       "      <td>EMERGENCY</td>\n",
       "      <td>EMERGENCY ROOM ADMIT</td>\n",
       "      <td>SNF</td>\n",
       "      <td>Private</td>\n",
       "      <td>ENGL</td>\n",
       "      <td>CATHOLIC</td>\n",
       "      <td>MARRIED</td>\n",
       "      <td>WHITE</td>\n",
       "      <td>2128-11-10 23:48:00</td>\n",
       "      <td>2128-11-11 03:16:00</td>\n",
       "      <td>S/P FALL</td>\n",
       "      <td>0</td>\n",
       "      <td>0</td>\n",
       "    </tr>\n",
       "    <tr>\n",
       "      <th>58975</th>\n",
       "      <td>58598</td>\n",
       "      <td>98813</td>\n",
       "      <td>190264</td>\n",
       "      <td>2131-10-25 03:09:00</td>\n",
       "      <td>2131-10-26 17:44:00</td>\n",
       "      <td>NaN</td>\n",
       "      <td>EMERGENCY</td>\n",
       "      <td>CLINIC REFERRAL/PREMATURE</td>\n",
       "      <td>HOME</td>\n",
       "      <td>Private</td>\n",
       "      <td>ENGL</td>\n",
       "      <td>CATHOLIC</td>\n",
       "      <td>MARRIED</td>\n",
       "      <td>WHITE</td>\n",
       "      <td>2131-10-25 00:08:00</td>\n",
       "      <td>2131-10-25 04:35:00</td>\n",
       "      <td>INTRACRANIAL HEMORRHAGE</td>\n",
       "      <td>0</td>\n",
       "      <td>1</td>\n",
       "    </tr>\n",
       "  </tbody>\n",
       "</table>\n",
       "<p>58976 rows × 19 columns</p>\n",
       "</div>"
      ],
      "text/plain": [
       "       ROW_ID  SUBJECT_ID  HADM_ID            ADMITTIME            DISCHTIME  \\\n",
       "0          21          22   165315  2196-04-09 12:26:00  2196-04-10 15:54:00   \n",
       "1          22          23   152223  2153-09-03 07:15:00  2153-09-08 19:10:00   \n",
       "2          23          23   124321  2157-10-18 19:34:00  2157-10-25 14:00:00   \n",
       "3          24          24   161859  2139-06-06 16:14:00  2139-06-09 12:48:00   \n",
       "4          25          25   129635  2160-11-02 02:06:00  2160-11-05 14:55:00   \n",
       "...       ...         ...      ...                  ...                  ...   \n",
       "58971   58594       98800   191113  2131-03-30 21:13:00  2131-04-02 15:02:00   \n",
       "58972   58595       98802   101071  2151-03-05 20:00:00  2151-03-06 09:10:00   \n",
       "58973   58596       98805   122631  2200-09-12 07:15:00  2200-09-20 12:08:00   \n",
       "58974   58597       98813   170407  2128-11-11 02:29:00  2128-12-22 13:11:00   \n",
       "58975   58598       98813   190264  2131-10-25 03:09:00  2131-10-26 17:44:00   \n",
       "\n",
       "                 DEATHTIME ADMISSION_TYPE         ADMISSION_LOCATION  \\\n",
       "0                      NaN      EMERGENCY       EMERGENCY ROOM ADMIT   \n",
       "1                      NaN       ELECTIVE  PHYS REFERRAL/NORMAL DELI   \n",
       "2                      NaN      EMERGENCY  TRANSFER FROM HOSP/EXTRAM   \n",
       "3                      NaN      EMERGENCY  TRANSFER FROM HOSP/EXTRAM   \n",
       "4                      NaN      EMERGENCY       EMERGENCY ROOM ADMIT   \n",
       "...                    ...            ...                        ...   \n",
       "58971                  NaN      EMERGENCY  CLINIC REFERRAL/PREMATURE   \n",
       "58972  2151-03-06 09:10:00      EMERGENCY  CLINIC REFERRAL/PREMATURE   \n",
       "58973                  NaN       ELECTIVE  PHYS REFERRAL/NORMAL DELI   \n",
       "58974                  NaN      EMERGENCY       EMERGENCY ROOM ADMIT   \n",
       "58975                  NaN      EMERGENCY  CLINIC REFERRAL/PREMATURE   \n",
       "\n",
       "              DISCHARGE_LOCATION INSURANCE LANGUAGE           RELIGION  \\\n",
       "0      DISC-TRAN CANCER/CHLDRN H   Private      NaN       UNOBTAINABLE   \n",
       "1               HOME HEALTH CARE  Medicare      NaN           CATHOLIC   \n",
       "2               HOME HEALTH CARE  Medicare     ENGL           CATHOLIC   \n",
       "3                           HOME   Private      NaN  PROTESTANT QUAKER   \n",
       "4                           HOME   Private      NaN       UNOBTAINABLE   \n",
       "...                          ...       ...      ...                ...   \n",
       "58971                       HOME   Private     ENGL      NOT SPECIFIED   \n",
       "58972               DEAD/EXPIRED  Medicare     ENGL           CATHOLIC   \n",
       "58973           HOME HEALTH CARE   Private     ENGL      NOT SPECIFIED   \n",
       "58974                        SNF   Private     ENGL           CATHOLIC   \n",
       "58975                       HOME   Private     ENGL           CATHOLIC   \n",
       "\n",
       "      MARITAL_STATUS ETHNICITY            EDREGTIME            EDOUTTIME  \\\n",
       "0            MARRIED     WHITE  2196-04-09 10:06:00  2196-04-09 13:24:00   \n",
       "1            MARRIED     WHITE                  NaN                  NaN   \n",
       "2            MARRIED     WHITE                  NaN                  NaN   \n",
       "3             SINGLE     WHITE                  NaN                  NaN   \n",
       "4            MARRIED     WHITE  2160-11-02 01:01:00  2160-11-02 04:27:00   \n",
       "...              ...       ...                  ...                  ...   \n",
       "58971         SINGLE     WHITE  2131-03-30 19:44:00  2131-03-30 22:41:00   \n",
       "58972        WIDOWED     WHITE  2151-03-05 17:23:00  2151-03-05 21:06:00   \n",
       "58973        MARRIED     WHITE                  NaN                  NaN   \n",
       "58974        MARRIED     WHITE  2128-11-10 23:48:00  2128-11-11 03:16:00   \n",
       "58975        MARRIED     WHITE  2131-10-25 00:08:00  2131-10-25 04:35:00   \n",
       "\n",
       "                                               DIAGNOSIS  \\\n",
       "0                                BENZODIAZEPINE OVERDOSE   \n",
       "1      CORONARY ARTERY DISEASE\\CORONARY ARTERY BYPASS...   \n",
       "2                                             BRAIN MASS   \n",
       "3                         INTERIOR MYOCARDIAL INFARCTION   \n",
       "4                                ACUTE CORONARY SYNDROME   \n",
       "...                                                  ...   \n",
       "58971                                             TRAUMA   \n",
       "58972                                                SAH   \n",
       "58973                                   RENAL CANCER/SDA   \n",
       "58974                                           S/P FALL   \n",
       "58975                            INTRACRANIAL HEMORRHAGE   \n",
       "\n",
       "       HOSPITAL_EXPIRE_FLAG  HAS_CHARTEVENTS_DATA  \n",
       "0                         0                     1  \n",
       "1                         0                     1  \n",
       "2                         0                     1  \n",
       "3                         0                     1  \n",
       "4                         0                     1  \n",
       "...                     ...                   ...  \n",
       "58971                     0                     1  \n",
       "58972                     1                     1  \n",
       "58973                     0                     1  \n",
       "58974                     0                     0  \n",
       "58975                     0                     1  \n",
       "\n",
       "[58976 rows x 19 columns]"
      ]
     },
     "execution_count": 4,
     "metadata": {},
     "output_type": "execute_result"
    }
   ],
   "source": [
    "admissions_df"
   ]
  },
  {
   "cell_type": "code",
   "execution_count": 5,
   "metadata": {
    "scrolled": true
   },
   "outputs": [
    {
     "name": "stdout",
     "output_type": "stream",
     "text": [
      "<class 'pandas.core.frame.DataFrame'>\n",
      "RangeIndex: 2083180 entries, 0 to 2083179\n",
      "Data columns (total 11 columns):\n",
      " #   Column       Dtype  \n",
      "---  ------       -----  \n",
      " 0   ROW_ID       int64  \n",
      " 1   SUBJECT_ID   int64  \n",
      " 2   HADM_ID      float64\n",
      " 3   CHARTDATE    object \n",
      " 4   CHARTTIME    object \n",
      " 5   STORETIME    object \n",
      " 6   CATEGORY     object \n",
      " 7   DESCRIPTION  object \n",
      " 8   CGID         float64\n",
      " 9   ISERROR      float64\n",
      " 10  TEXT         object \n",
      "dtypes: float64(3), int64(2), object(6)\n",
      "memory usage: 174.8+ MB\n"
     ]
    }
   ],
   "source": [
    "noteevents_df.info()"
   ]
  },
  {
   "cell_type": "code",
   "execution_count": 6,
   "metadata": {},
   "outputs": [
    {
     "name": "stdout",
     "output_type": "stream",
     "text": [
      "<class 'pandas.core.frame.DataFrame'>\n",
      "RangeIndex: 58976 entries, 0 to 58975\n",
      "Data columns (total 19 columns):\n",
      " #   Column                Non-Null Count  Dtype \n",
      "---  ------                --------------  ----- \n",
      " 0   ROW_ID                58976 non-null  int64 \n",
      " 1   SUBJECT_ID            58976 non-null  int64 \n",
      " 2   HADM_ID               58976 non-null  int64 \n",
      " 3   ADMITTIME             58976 non-null  object\n",
      " 4   DISCHTIME             58976 non-null  object\n",
      " 5   DEATHTIME             5854 non-null   object\n",
      " 6   ADMISSION_TYPE        58976 non-null  object\n",
      " 7   ADMISSION_LOCATION    58976 non-null  object\n",
      " 8   DISCHARGE_LOCATION    58976 non-null  object\n",
      " 9   INSURANCE             58976 non-null  object\n",
      " 10  LANGUAGE              33644 non-null  object\n",
      " 11  RELIGION              58518 non-null  object\n",
      " 12  MARITAL_STATUS        48848 non-null  object\n",
      " 13  ETHNICITY             58976 non-null  object\n",
      " 14  EDREGTIME             30877 non-null  object\n",
      " 15  EDOUTTIME             30877 non-null  object\n",
      " 16  DIAGNOSIS             58951 non-null  object\n",
      " 17  HOSPITAL_EXPIRE_FLAG  58976 non-null  int64 \n",
      " 18  HAS_CHARTEVENTS_DATA  58976 non-null  int64 \n",
      "dtypes: int64(5), object(14)\n",
      "memory usage: 8.5+ MB\n"
     ]
    }
   ],
   "source": [
    "admissions_df.info()"
   ]
  },
  {
   "cell_type": "code",
   "execution_count": 7,
   "metadata": {},
   "outputs": [
    {
     "data": {
      "text/plain": [
       "\"\\n>>> left\\n  transaction_id user_id     value\\n0              A   Peter  1.867558\\n1              B    John -0.977278\\n2              C    John  0.950088\\n3              D    Anna -0.151357\\n>>> right\\n  user_id favorite_color\\n0    Paul           blue\\n1    Mary           blue\\n2    John            red\\n3    Anna            NaN\\n\\n---------\\n>>> left.merge(right, on='user_id', how='left', indicator=True)\\n  transaction_id user_id     value favorite_color     _merge\\n0              A   Peter  1.867558            NaN  left_only\\n1              B    John -0.977278            red       both\\n2              C    John  0.950088            red       both\\n3              D    Anna -0.151357            NaN       both\\n\\n---------\\nleft.merge(right.rename({'user_id': 'user_id_r'}, axis=1),\\n               left_on='user_id', right_on='user_id_r', how='left')\\n               \\n  transaction_id user_id     value user_id_r favorite_color\\n0              A   Peter  1.867558       NaN            NaN\\n1              B    John -0.977278      John            red\\n2              C    John  0.950088      John            red\\n3              D    Anna -0.151357      Anna            NaN\\n---------\\nselect\\n    t.transaction_id\\n    , t.user_id\\n    , t.value\\n    , u.user_id as user_id_r\\n    , u.favorite_color\\nfrom\\n    transactions t\\n    left join\\n    users u\\n    on t.user_id = u.user_id\\n;\\n\""
      ]
     },
     "execution_count": 7,
     "metadata": {},
     "output_type": "execute_result"
    }
   ],
   "source": [
    "# https://towardsdatascience.com/left-join-with-pandas-data-frames-in-python-c29c85089ba4\n",
    "# left_join = noteevents_df.join(admissions_df.set_index('HADM_ID'), on='HADM_ID')\n",
    "# left_join = noteevents_df.set_index('HADM_ID').join(admissions_df.set_index('HADM_ID'))\n",
    "\"\"\"\n",
    ">>> left\n",
    "  transaction_id user_id     value\n",
    "0              A   Peter  1.867558\n",
    "1              B    John -0.977278\n",
    "2              C    John  0.950088\n",
    "3              D    Anna -0.151357\n",
    ">>> right\n",
    "  user_id favorite_color\n",
    "0    Paul           blue\n",
    "1    Mary           blue\n",
    "2    John            red\n",
    "3    Anna            NaN\n",
    "\n",
    "---------\n",
    ">>> left.merge(right, on='user_id', how='left', indicator=True)\n",
    "  transaction_id user_id     value favorite_color     _merge\n",
    "0              A   Peter  1.867558            NaN  left_only\n",
    "1              B    John -0.977278            red       both\n",
    "2              C    John  0.950088            red       both\n",
    "3              D    Anna -0.151357            NaN       both\n",
    "\n",
    "---------\n",
    "left.merge(right.rename({'user_id': 'user_id_r'}, axis=1),\n",
    "               left_on='user_id', right_on='user_id_r', how='left')\n",
    "               \n",
    "  transaction_id user_id     value user_id_r favorite_color\n",
    "0              A   Peter  1.867558       NaN            NaN\n",
    "1              B    John -0.977278      John            red\n",
    "2              C    John  0.950088      John            red\n",
    "3              D    Anna -0.151357      Anna            NaN\n",
    "---------\n",
    "select\n",
    "    t.transaction_id\n",
    "    , t.user_id\n",
    "    , t.value\n",
    "    , u.user_id as user_id_r\n",
    "    , u.favorite_color\n",
    "from\n",
    "    transactions t\n",
    "    left join\n",
    "    users u\n",
    "    on t.user_id = u.user_id\n",
    ";\n",
    "\"\"\""
   ]
  },
  {
   "cell_type": "code",
   "execution_count": 8,
   "metadata": {},
   "outputs": [
    {
     "name": "stdout",
     "output_type": "stream",
     "text": [
      "6.018001317977905\n"
     ]
    }
   ],
   "source": [
    "start = time.time()\n",
    "# Left join of two dataframes\n",
    "note_admiss_df_left = noteevents_df.merge(admissions_df, on='HADM_ID', how='left', indicator=True)\n",
    "end = time.time()\n",
    "print(end - start)"
   ]
  },
  {
   "cell_type": "code",
   "execution_count": 9,
   "metadata": {
    "scrolled": false
   },
   "outputs": [
    {
     "name": "stdout",
     "output_type": "stream",
     "text": [
      "<class 'pandas.core.frame.DataFrame'>\n",
      "Int64Index: 2083180 entries, 0 to 2083179\n",
      "Data columns (total 30 columns):\n",
      " #   Column                Dtype   \n",
      "---  ------                -----   \n",
      " 0   ROW_ID_x              int64   \n",
      " 1   SUBJECT_ID_x          int64   \n",
      " 2   HADM_ID               float64 \n",
      " 3   CHARTDATE             object  \n",
      " 4   CHARTTIME             object  \n",
      " 5   STORETIME             object  \n",
      " 6   CATEGORY              object  \n",
      " 7   DESCRIPTION           object  \n",
      " 8   CGID                  float64 \n",
      " 9   ISERROR               float64 \n",
      " 10  TEXT                  object  \n",
      " 11  ROW_ID_y              float64 \n",
      " 12  SUBJECT_ID_y          float64 \n",
      " 13  ADMITTIME             object  \n",
      " 14  DISCHTIME             object  \n",
      " 15  DEATHTIME             object  \n",
      " 16  ADMISSION_TYPE        object  \n",
      " 17  ADMISSION_LOCATION    object  \n",
      " 18  DISCHARGE_LOCATION    object  \n",
      " 19  INSURANCE             object  \n",
      " 20  LANGUAGE              object  \n",
      " 21  RELIGION              object  \n",
      " 22  MARITAL_STATUS        object  \n",
      " 23  ETHNICITY             object  \n",
      " 24  EDREGTIME             object  \n",
      " 25  EDOUTTIME             object  \n",
      " 26  DIAGNOSIS             object  \n",
      " 27  HOSPITAL_EXPIRE_FLAG  float64 \n",
      " 28  HAS_CHARTEVENTS_DATA  float64 \n",
      " 29  _merge                category\n",
      "dtypes: category(1), float64(7), int64(2), object(20)\n",
      "memory usage: 478.8+ MB\n"
     ]
    }
   ],
   "source": [
    "note_admiss_df_left.info()"
   ]
  },
  {
   "cell_type": "code",
   "execution_count": 10,
   "metadata": {},
   "outputs": [
    {
     "data": {
      "text/plain": [
       "(2083180, 30)"
      ]
     },
     "execution_count": 10,
     "metadata": {},
     "output_type": "execute_result"
    }
   ],
   "source": [
    "note_admiss_df_left.shape"
   ]
  },
  {
   "cell_type": "code",
   "execution_count": 11,
   "metadata": {
    "scrolled": false
   },
   "outputs": [
    {
     "data": {
      "text/html": [
       "<div>\n",
       "<style scoped>\n",
       "    .dataframe tbody tr th:only-of-type {\n",
       "        vertical-align: middle;\n",
       "    }\n",
       "\n",
       "    .dataframe tbody tr th {\n",
       "        vertical-align: top;\n",
       "    }\n",
       "\n",
       "    .dataframe thead th {\n",
       "        text-align: right;\n",
       "    }\n",
       "</style>\n",
       "<table border=\"1\" class=\"dataframe\">\n",
       "  <thead>\n",
       "    <tr style=\"text-align: right;\">\n",
       "      <th></th>\n",
       "      <th>DIAGNOSIS</th>\n",
       "      <th>SUBJECT_ID_x</th>\n",
       "      <th>SUBJECT_ID_y</th>\n",
       "      <th>DESCRIPTION</th>\n",
       "      <th>CATEGORY</th>\n",
       "    </tr>\n",
       "  </thead>\n",
       "  <tbody>\n",
       "    <tr>\n",
       "      <th>0</th>\n",
       "      <td>RT LOWER LOBE PNEUMONIA</td>\n",
       "      <td>22532</td>\n",
       "      <td>22532.0</td>\n",
       "      <td>Report</td>\n",
       "      <td>Discharge summary</td>\n",
       "    </tr>\n",
       "    <tr>\n",
       "      <th>1</th>\n",
       "      <td>CHRONIC OBSTRUCTIVE PULMONARY DISEASE</td>\n",
       "      <td>13702</td>\n",
       "      <td>13702.0</td>\n",
       "      <td>Report</td>\n",
       "      <td>Discharge summary</td>\n",
       "    </tr>\n",
       "    <tr>\n",
       "      <th>2</th>\n",
       "      <td>TRACHEALBRONCHEAL MALACEA/SDA</td>\n",
       "      <td>13702</td>\n",
       "      <td>13702.0</td>\n",
       "      <td>Report</td>\n",
       "      <td>Discharge summary</td>\n",
       "    </tr>\n",
       "    <tr>\n",
       "      <th>3</th>\n",
       "      <td>ASTHMA;COPD EXACERBATION</td>\n",
       "      <td>13702</td>\n",
       "      <td>13702.0</td>\n",
       "      <td>Report</td>\n",
       "      <td>Discharge summary</td>\n",
       "    </tr>\n",
       "    <tr>\n",
       "      <th>4</th>\n",
       "      <td>S/P FALL;TELEMETRY</td>\n",
       "      <td>26880</td>\n",
       "      <td>26880.0</td>\n",
       "      <td>Report</td>\n",
       "      <td>Discharge summary</td>\n",
       "    </tr>\n",
       "    <tr>\n",
       "      <th>...</th>\n",
       "      <td>...</td>\n",
       "      <td>...</td>\n",
       "      <td>...</td>\n",
       "      <td>...</td>\n",
       "      <td>...</td>\n",
       "    </tr>\n",
       "    <tr>\n",
       "      <th>2083175</th>\n",
       "      <td>NEWBORN</td>\n",
       "      <td>31097</td>\n",
       "      <td>31097.0</td>\n",
       "      <td>Report</td>\n",
       "      <td>Nursing/other</td>\n",
       "    </tr>\n",
       "    <tr>\n",
       "      <th>2083176</th>\n",
       "      <td>NEWBORN</td>\n",
       "      <td>31097</td>\n",
       "      <td>31097.0</td>\n",
       "      <td>Report</td>\n",
       "      <td>Nursing/other</td>\n",
       "    </tr>\n",
       "    <tr>\n",
       "      <th>2083177</th>\n",
       "      <td>NEWBORN</td>\n",
       "      <td>31097</td>\n",
       "      <td>31097.0</td>\n",
       "      <td>Report</td>\n",
       "      <td>Nursing/other</td>\n",
       "    </tr>\n",
       "    <tr>\n",
       "      <th>2083178</th>\n",
       "      <td>NEWBORN</td>\n",
       "      <td>31097</td>\n",
       "      <td>31097.0</td>\n",
       "      <td>Report</td>\n",
       "      <td>Nursing/other</td>\n",
       "    </tr>\n",
       "    <tr>\n",
       "      <th>2083179</th>\n",
       "      <td>NEWBORN</td>\n",
       "      <td>31097</td>\n",
       "      <td>31097.0</td>\n",
       "      <td>Report</td>\n",
       "      <td>Nursing/other</td>\n",
       "    </tr>\n",
       "  </tbody>\n",
       "</table>\n",
       "<p>2083180 rows × 5 columns</p>\n",
       "</div>"
      ],
      "text/plain": [
       "                                     DIAGNOSIS  SUBJECT_ID_x  SUBJECT_ID_y  \\\n",
       "0                      RT LOWER LOBE PNEUMONIA         22532       22532.0   \n",
       "1        CHRONIC OBSTRUCTIVE PULMONARY DISEASE         13702       13702.0   \n",
       "2                TRACHEALBRONCHEAL MALACEA/SDA         13702       13702.0   \n",
       "3                     ASTHMA;COPD EXACERBATION         13702       13702.0   \n",
       "4                           S/P FALL;TELEMETRY         26880       26880.0   \n",
       "...                                        ...           ...           ...   \n",
       "2083175                                NEWBORN         31097       31097.0   \n",
       "2083176                                NEWBORN         31097       31097.0   \n",
       "2083177                                NEWBORN         31097       31097.0   \n",
       "2083178                                NEWBORN         31097       31097.0   \n",
       "2083179                                NEWBORN         31097       31097.0   \n",
       "\n",
       "        DESCRIPTION           CATEGORY  \n",
       "0            Report  Discharge summary  \n",
       "1            Report  Discharge summary  \n",
       "2            Report  Discharge summary  \n",
       "3            Report  Discharge summary  \n",
       "4            Report  Discharge summary  \n",
       "...             ...                ...  \n",
       "2083175      Report      Nursing/other  \n",
       "2083176      Report      Nursing/other  \n",
       "2083177      Report      Nursing/other  \n",
       "2083178      Report      Nursing/other  \n",
       "2083179      Report      Nursing/other  \n",
       "\n",
       "[2083180 rows x 5 columns]"
      ]
     },
     "execution_count": 11,
     "metadata": {},
     "output_type": "execute_result"
    }
   ],
   "source": [
    "# df1 = df[['a','b']]\n",
    "note_admiss_df_left[['DIAGNOSIS', 'SUBJECT_ID_x', 'SUBJECT_ID_y','DESCRIPTION', 'CATEGORY']]"
   ]
  },
  {
   "cell_type": "code",
   "execution_count": 12,
   "metadata": {
    "scrolled": true
   },
   "outputs": [],
   "source": [
    "pneumonia_df = note_admiss_df_left.loc[note_admiss_df_left[\"DIAGNOSIS\"] == 'PNEUMONIA', ['ROW_ID_x', 'SUBJECT_ID_x', 'HADM_ID', 'CHARTDATE', 'CHARTTIME', 'STORETIME', 'CATEGORY', 'DESCRIPTION', 'CGID', 'ISERROR', 'TEXT', 'ADMITTIME', 'DISCHTIME', 'DEATHTIME', 'ADMISSION_TYPE', 'DIAGNOSIS', 'HAS_CHARTEVENTS_DATA']]"
   ]
  },
  {
   "cell_type": "code",
   "execution_count": null,
   "metadata": {
    "scrolled": false
   },
   "outputs": [],
   "source": []
  },
  {
   "cell_type": "code",
   "execution_count": 13,
   "metadata": {
    "scrolled": true
   },
   "outputs": [
    {
     "data": {
      "text/plain": [
       "(59727, 17)"
      ]
     },
     "execution_count": 13,
     "metadata": {},
     "output_type": "execute_result"
    }
   ],
   "source": [
    "pneumonia_df.shape"
   ]
  },
  {
   "cell_type": "code",
   "execution_count": 14,
   "metadata": {
    "scrolled": false
   },
   "outputs": [
    {
     "data": {
      "application/vnd.plotly.v1+json": {
       "config": {
        "linkText": "Export to plot.ly",
        "plotlyServerURL": "https://plot.ly",
        "showLink": true
       },
       "data": [
        {
         "marker": {
          "color": "rgba(255, 153, 51, 0.6)",
          "line": {
           "color": "rgba(255, 153, 51, 1.0)",
           "width": 1
          }
         },
         "name": "CATEGORY",
         "orientation": "v",
         "text": "",
         "type": "bar",
         "x": [
          "Nursing",
          "Nursing/other",
          "Radiology",
          "Physician ",
          "ECG",
          "Respiratory ",
          "Discharge summary",
          "Echo",
          "General",
          "Nutrition",
          "Rehab Services",
          "Social Work",
          "Case Management ",
          "Pharmacy",
          "Consult"
         ],
         "y": [
          13256,
          12693,
          11723,
          10643,
          4469,
          2454,
          1698,
          949,
          680,
          638,
          231,
          142,
          135,
          15,
          1
         ]
        }
       ],
       "layout": {
        "legend": {
         "bgcolor": "#F5F6F9",
         "font": {
          "color": "#4D5663"
         }
        },
        "paper_bgcolor": "#F5F6F9",
        "plot_bgcolor": "#F5F6F9",
        "template": {
         "data": {
          "bar": [
           {
            "error_x": {
             "color": "#2a3f5f"
            },
            "error_y": {
             "color": "#2a3f5f"
            },
            "marker": {
             "line": {
              "color": "#E5ECF6",
              "width": 0.5
             }
            },
            "type": "bar"
           }
          ],
          "barpolar": [
           {
            "marker": {
             "line": {
              "color": "#E5ECF6",
              "width": 0.5
             }
            },
            "type": "barpolar"
           }
          ],
          "carpet": [
           {
            "aaxis": {
             "endlinecolor": "#2a3f5f",
             "gridcolor": "white",
             "linecolor": "white",
             "minorgridcolor": "white",
             "startlinecolor": "#2a3f5f"
            },
            "baxis": {
             "endlinecolor": "#2a3f5f",
             "gridcolor": "white",
             "linecolor": "white",
             "minorgridcolor": "white",
             "startlinecolor": "#2a3f5f"
            },
            "type": "carpet"
           }
          ],
          "choropleth": [
           {
            "colorbar": {
             "outlinewidth": 0,
             "ticks": ""
            },
            "type": "choropleth"
           }
          ],
          "contour": [
           {
            "colorbar": {
             "outlinewidth": 0,
             "ticks": ""
            },
            "colorscale": [
             [
              0,
              "#0d0887"
             ],
             [
              0.1111111111111111,
              "#46039f"
             ],
             [
              0.2222222222222222,
              "#7201a8"
             ],
             [
              0.3333333333333333,
              "#9c179e"
             ],
             [
              0.4444444444444444,
              "#bd3786"
             ],
             [
              0.5555555555555556,
              "#d8576b"
             ],
             [
              0.6666666666666666,
              "#ed7953"
             ],
             [
              0.7777777777777778,
              "#fb9f3a"
             ],
             [
              0.8888888888888888,
              "#fdca26"
             ],
             [
              1,
              "#f0f921"
             ]
            ],
            "type": "contour"
           }
          ],
          "contourcarpet": [
           {
            "colorbar": {
             "outlinewidth": 0,
             "ticks": ""
            },
            "type": "contourcarpet"
           }
          ],
          "heatmap": [
           {
            "colorbar": {
             "outlinewidth": 0,
             "ticks": ""
            },
            "colorscale": [
             [
              0,
              "#0d0887"
             ],
             [
              0.1111111111111111,
              "#46039f"
             ],
             [
              0.2222222222222222,
              "#7201a8"
             ],
             [
              0.3333333333333333,
              "#9c179e"
             ],
             [
              0.4444444444444444,
              "#bd3786"
             ],
             [
              0.5555555555555556,
              "#d8576b"
             ],
             [
              0.6666666666666666,
              "#ed7953"
             ],
             [
              0.7777777777777778,
              "#fb9f3a"
             ],
             [
              0.8888888888888888,
              "#fdca26"
             ],
             [
              1,
              "#f0f921"
             ]
            ],
            "type": "heatmap"
           }
          ],
          "heatmapgl": [
           {
            "colorbar": {
             "outlinewidth": 0,
             "ticks": ""
            },
            "colorscale": [
             [
              0,
              "#0d0887"
             ],
             [
              0.1111111111111111,
              "#46039f"
             ],
             [
              0.2222222222222222,
              "#7201a8"
             ],
             [
              0.3333333333333333,
              "#9c179e"
             ],
             [
              0.4444444444444444,
              "#bd3786"
             ],
             [
              0.5555555555555556,
              "#d8576b"
             ],
             [
              0.6666666666666666,
              "#ed7953"
             ],
             [
              0.7777777777777778,
              "#fb9f3a"
             ],
             [
              0.8888888888888888,
              "#fdca26"
             ],
             [
              1,
              "#f0f921"
             ]
            ],
            "type": "heatmapgl"
           }
          ],
          "histogram": [
           {
            "marker": {
             "colorbar": {
              "outlinewidth": 0,
              "ticks": ""
             }
            },
            "type": "histogram"
           }
          ],
          "histogram2d": [
           {
            "colorbar": {
             "outlinewidth": 0,
             "ticks": ""
            },
            "colorscale": [
             [
              0,
              "#0d0887"
             ],
             [
              0.1111111111111111,
              "#46039f"
             ],
             [
              0.2222222222222222,
              "#7201a8"
             ],
             [
              0.3333333333333333,
              "#9c179e"
             ],
             [
              0.4444444444444444,
              "#bd3786"
             ],
             [
              0.5555555555555556,
              "#d8576b"
             ],
             [
              0.6666666666666666,
              "#ed7953"
             ],
             [
              0.7777777777777778,
              "#fb9f3a"
             ],
             [
              0.8888888888888888,
              "#fdca26"
             ],
             [
              1,
              "#f0f921"
             ]
            ],
            "type": "histogram2d"
           }
          ],
          "histogram2dcontour": [
           {
            "colorbar": {
             "outlinewidth": 0,
             "ticks": ""
            },
            "colorscale": [
             [
              0,
              "#0d0887"
             ],
             [
              0.1111111111111111,
              "#46039f"
             ],
             [
              0.2222222222222222,
              "#7201a8"
             ],
             [
              0.3333333333333333,
              "#9c179e"
             ],
             [
              0.4444444444444444,
              "#bd3786"
             ],
             [
              0.5555555555555556,
              "#d8576b"
             ],
             [
              0.6666666666666666,
              "#ed7953"
             ],
             [
              0.7777777777777778,
              "#fb9f3a"
             ],
             [
              0.8888888888888888,
              "#fdca26"
             ],
             [
              1,
              "#f0f921"
             ]
            ],
            "type": "histogram2dcontour"
           }
          ],
          "mesh3d": [
           {
            "colorbar": {
             "outlinewidth": 0,
             "ticks": ""
            },
            "type": "mesh3d"
           }
          ],
          "parcoords": [
           {
            "line": {
             "colorbar": {
              "outlinewidth": 0,
              "ticks": ""
             }
            },
            "type": "parcoords"
           }
          ],
          "pie": [
           {
            "automargin": true,
            "type": "pie"
           }
          ],
          "scatter": [
           {
            "marker": {
             "colorbar": {
              "outlinewidth": 0,
              "ticks": ""
             }
            },
            "type": "scatter"
           }
          ],
          "scatter3d": [
           {
            "line": {
             "colorbar": {
              "outlinewidth": 0,
              "ticks": ""
             }
            },
            "marker": {
             "colorbar": {
              "outlinewidth": 0,
              "ticks": ""
             }
            },
            "type": "scatter3d"
           }
          ],
          "scattercarpet": [
           {
            "marker": {
             "colorbar": {
              "outlinewidth": 0,
              "ticks": ""
             }
            },
            "type": "scattercarpet"
           }
          ],
          "scattergeo": [
           {
            "marker": {
             "colorbar": {
              "outlinewidth": 0,
              "ticks": ""
             }
            },
            "type": "scattergeo"
           }
          ],
          "scattergl": [
           {
            "marker": {
             "colorbar": {
              "outlinewidth": 0,
              "ticks": ""
             }
            },
            "type": "scattergl"
           }
          ],
          "scattermapbox": [
           {
            "marker": {
             "colorbar": {
              "outlinewidth": 0,
              "ticks": ""
             }
            },
            "type": "scattermapbox"
           }
          ],
          "scatterpolar": [
           {
            "marker": {
             "colorbar": {
              "outlinewidth": 0,
              "ticks": ""
             }
            },
            "type": "scatterpolar"
           }
          ],
          "scatterpolargl": [
           {
            "marker": {
             "colorbar": {
              "outlinewidth": 0,
              "ticks": ""
             }
            },
            "type": "scatterpolargl"
           }
          ],
          "scatterternary": [
           {
            "marker": {
             "colorbar": {
              "outlinewidth": 0,
              "ticks": ""
             }
            },
            "type": "scatterternary"
           }
          ],
          "surface": [
           {
            "colorbar": {
             "outlinewidth": 0,
             "ticks": ""
            },
            "colorscale": [
             [
              0,
              "#0d0887"
             ],
             [
              0.1111111111111111,
              "#46039f"
             ],
             [
              0.2222222222222222,
              "#7201a8"
             ],
             [
              0.3333333333333333,
              "#9c179e"
             ],
             [
              0.4444444444444444,
              "#bd3786"
             ],
             [
              0.5555555555555556,
              "#d8576b"
             ],
             [
              0.6666666666666666,
              "#ed7953"
             ],
             [
              0.7777777777777778,
              "#fb9f3a"
             ],
             [
              0.8888888888888888,
              "#fdca26"
             ],
             [
              1,
              "#f0f921"
             ]
            ],
            "type": "surface"
           }
          ],
          "table": [
           {
            "cells": {
             "fill": {
              "color": "#EBF0F8"
             },
             "line": {
              "color": "white"
             }
            },
            "header": {
             "fill": {
              "color": "#C8D4E3"
             },
             "line": {
              "color": "white"
             }
            },
            "type": "table"
           }
          ]
         },
         "layout": {
          "annotationdefaults": {
           "arrowcolor": "#2a3f5f",
           "arrowhead": 0,
           "arrowwidth": 1
          },
          "coloraxis": {
           "colorbar": {
            "outlinewidth": 0,
            "ticks": ""
           }
          },
          "colorscale": {
           "diverging": [
            [
             0,
             "#8e0152"
            ],
            [
             0.1,
             "#c51b7d"
            ],
            [
             0.2,
             "#de77ae"
            ],
            [
             0.3,
             "#f1b6da"
            ],
            [
             0.4,
             "#fde0ef"
            ],
            [
             0.5,
             "#f7f7f7"
            ],
            [
             0.6,
             "#e6f5d0"
            ],
            [
             0.7,
             "#b8e186"
            ],
            [
             0.8,
             "#7fbc41"
            ],
            [
             0.9,
             "#4d9221"
            ],
            [
             1,
             "#276419"
            ]
           ],
           "sequential": [
            [
             0,
             "#0d0887"
            ],
            [
             0.1111111111111111,
             "#46039f"
            ],
            [
             0.2222222222222222,
             "#7201a8"
            ],
            [
             0.3333333333333333,
             "#9c179e"
            ],
            [
             0.4444444444444444,
             "#bd3786"
            ],
            [
             0.5555555555555556,
             "#d8576b"
            ],
            [
             0.6666666666666666,
             "#ed7953"
            ],
            [
             0.7777777777777778,
             "#fb9f3a"
            ],
            [
             0.8888888888888888,
             "#fdca26"
            ],
            [
             1,
             "#f0f921"
            ]
           ],
           "sequentialminus": [
            [
             0,
             "#0d0887"
            ],
            [
             0.1111111111111111,
             "#46039f"
            ],
            [
             0.2222222222222222,
             "#7201a8"
            ],
            [
             0.3333333333333333,
             "#9c179e"
            ],
            [
             0.4444444444444444,
             "#bd3786"
            ],
            [
             0.5555555555555556,
             "#d8576b"
            ],
            [
             0.6666666666666666,
             "#ed7953"
            ],
            [
             0.7777777777777778,
             "#fb9f3a"
            ],
            [
             0.8888888888888888,
             "#fdca26"
            ],
            [
             1,
             "#f0f921"
            ]
           ]
          },
          "colorway": [
           "#636efa",
           "#EF553B",
           "#00cc96",
           "#ab63fa",
           "#FFA15A",
           "#19d3f3",
           "#FF6692",
           "#B6E880",
           "#FF97FF",
           "#FECB52"
          ],
          "font": {
           "color": "#2a3f5f"
          },
          "geo": {
           "bgcolor": "white",
           "lakecolor": "white",
           "landcolor": "#E5ECF6",
           "showlakes": true,
           "showland": true,
           "subunitcolor": "white"
          },
          "hoverlabel": {
           "align": "left"
          },
          "hovermode": "closest",
          "mapbox": {
           "style": "light"
          },
          "paper_bgcolor": "white",
          "plot_bgcolor": "#E5ECF6",
          "polar": {
           "angularaxis": {
            "gridcolor": "white",
            "linecolor": "white",
            "ticks": ""
           },
           "bgcolor": "#E5ECF6",
           "radialaxis": {
            "gridcolor": "white",
            "linecolor": "white",
            "ticks": ""
           }
          },
          "scene": {
           "xaxis": {
            "backgroundcolor": "#E5ECF6",
            "gridcolor": "white",
            "gridwidth": 2,
            "linecolor": "white",
            "showbackground": true,
            "ticks": "",
            "zerolinecolor": "white"
           },
           "yaxis": {
            "backgroundcolor": "#E5ECF6",
            "gridcolor": "white",
            "gridwidth": 2,
            "linecolor": "white",
            "showbackground": true,
            "ticks": "",
            "zerolinecolor": "white"
           },
           "zaxis": {
            "backgroundcolor": "#E5ECF6",
            "gridcolor": "white",
            "gridwidth": 2,
            "linecolor": "white",
            "showbackground": true,
            "ticks": "",
            "zerolinecolor": "white"
           }
          },
          "shapedefaults": {
           "line": {
            "color": "#2a3f5f"
           }
          },
          "ternary": {
           "aaxis": {
            "gridcolor": "white",
            "linecolor": "white",
            "ticks": ""
           },
           "baxis": {
            "gridcolor": "white",
            "linecolor": "white",
            "ticks": ""
           },
           "bgcolor": "#E5ECF6",
           "caxis": {
            "gridcolor": "white",
            "linecolor": "white",
            "ticks": ""
           }
          },
          "title": {
           "x": 0.05
          },
          "xaxis": {
           "automargin": true,
           "gridcolor": "white",
           "linecolor": "white",
           "ticks": "",
           "title": {
            "standoff": 15
           },
           "zerolinecolor": "white",
           "zerolinewidth": 2
          },
          "yaxis": {
           "automargin": true,
           "gridcolor": "white",
           "linecolor": "white",
           "ticks": "",
           "title": {
            "standoff": 15
           },
           "zerolinecolor": "white",
           "zerolinewidth": 2
          }
         }
        },
        "title": {
         "font": {
          "color": "#4D5663"
         },
         "text": "Number of category kinds in noteevents"
        },
        "xaxis": {
         "gridcolor": "#E1E5ED",
         "showgrid": true,
         "tickfont": {
          "color": "#4D5663"
         },
         "title": {
          "font": {
           "color": "#4D5663"
          },
          "text": ""
         },
         "zerolinecolor": "#E1E5ED"
        },
        "yaxis": {
         "gridcolor": "#E1E5ED",
         "showgrid": true,
         "tickfont": {
          "color": "#4D5663"
         },
         "title": {
          "font": {
           "color": "#4D5663"
          },
          "text": "Number of notes"
         },
         "zerolinecolor": "#E1E5ED"
        }
       }
      },
      "text/html": [
       "<div>\n",
       "        \n",
       "        \n",
       "            <div id=\"c5e140fe-fabb-40bf-b0fe-1f5a29468ccf\" class=\"plotly-graph-div\" style=\"height:525px; width:100%;\"></div>\n",
       "            <script type=\"text/javascript\">\n",
       "                require([\"plotly\"], function(Plotly) {\n",
       "                    window.PLOTLYENV=window.PLOTLYENV || {};\n",
       "                    window.PLOTLYENV.BASE_URL='https://plot.ly';\n",
       "                    \n",
       "                if (document.getElementById(\"c5e140fe-fabb-40bf-b0fe-1f5a29468ccf\")) {\n",
       "                    Plotly.newPlot(\n",
       "                        'c5e140fe-fabb-40bf-b0fe-1f5a29468ccf',\n",
       "                        [{\"marker\": {\"color\": \"rgba(255, 153, 51, 0.6)\", \"line\": {\"color\": \"rgba(255, 153, 51, 1.0)\", \"width\": 1}}, \"name\": \"CATEGORY\", \"orientation\": \"v\", \"text\": \"\", \"type\": \"bar\", \"x\": [\"Nursing\", \"Nursing/other\", \"Radiology\", \"Physician \", \"ECG\", \"Respiratory \", \"Discharge summary\", \"Echo\", \"General\", \"Nutrition\", \"Rehab Services\", \"Social Work\", \"Case Management \", \"Pharmacy\", \"Consult\"], \"y\": [13256, 12693, 11723, 10643, 4469, 2454, 1698, 949, 680, 638, 231, 142, 135, 15, 1]}],\n",
       "                        {\"legend\": {\"bgcolor\": \"#F5F6F9\", \"font\": {\"color\": \"#4D5663\"}}, \"paper_bgcolor\": \"#F5F6F9\", \"plot_bgcolor\": \"#F5F6F9\", \"template\": {\"data\": {\"bar\": [{\"error_x\": {\"color\": \"#2a3f5f\"}, \"error_y\": {\"color\": \"#2a3f5f\"}, \"marker\": {\"line\": {\"color\": \"#E5ECF6\", \"width\": 0.5}}, \"type\": \"bar\"}], \"barpolar\": [{\"marker\": {\"line\": {\"color\": \"#E5ECF6\", \"width\": 0.5}}, \"type\": \"barpolar\"}], \"carpet\": [{\"aaxis\": {\"endlinecolor\": \"#2a3f5f\", \"gridcolor\": \"white\", \"linecolor\": \"white\", \"minorgridcolor\": \"white\", \"startlinecolor\": \"#2a3f5f\"}, \"baxis\": {\"endlinecolor\": \"#2a3f5f\", \"gridcolor\": \"white\", \"linecolor\": \"white\", \"minorgridcolor\": \"white\", \"startlinecolor\": \"#2a3f5f\"}, \"type\": \"carpet\"}], \"choropleth\": [{\"colorbar\": {\"outlinewidth\": 0, \"ticks\": \"\"}, \"type\": \"choropleth\"}], \"contour\": [{\"colorbar\": {\"outlinewidth\": 0, \"ticks\": \"\"}, \"colorscale\": [[0.0, \"#0d0887\"], [0.1111111111111111, \"#46039f\"], [0.2222222222222222, \"#7201a8\"], [0.3333333333333333, \"#9c179e\"], [0.4444444444444444, \"#bd3786\"], [0.5555555555555556, \"#d8576b\"], [0.6666666666666666, \"#ed7953\"], [0.7777777777777778, \"#fb9f3a\"], [0.8888888888888888, \"#fdca26\"], [1.0, \"#f0f921\"]], \"type\": \"contour\"}], \"contourcarpet\": [{\"colorbar\": {\"outlinewidth\": 0, \"ticks\": \"\"}, \"type\": \"contourcarpet\"}], \"heatmap\": [{\"colorbar\": {\"outlinewidth\": 0, \"ticks\": \"\"}, \"colorscale\": [[0.0, \"#0d0887\"], [0.1111111111111111, \"#46039f\"], [0.2222222222222222, \"#7201a8\"], [0.3333333333333333, \"#9c179e\"], [0.4444444444444444, \"#bd3786\"], [0.5555555555555556, \"#d8576b\"], [0.6666666666666666, \"#ed7953\"], [0.7777777777777778, \"#fb9f3a\"], [0.8888888888888888, \"#fdca26\"], [1.0, \"#f0f921\"]], \"type\": \"heatmap\"}], \"heatmapgl\": [{\"colorbar\": {\"outlinewidth\": 0, \"ticks\": \"\"}, \"colorscale\": [[0.0, \"#0d0887\"], [0.1111111111111111, \"#46039f\"], [0.2222222222222222, \"#7201a8\"], [0.3333333333333333, \"#9c179e\"], [0.4444444444444444, \"#bd3786\"], [0.5555555555555556, \"#d8576b\"], [0.6666666666666666, \"#ed7953\"], [0.7777777777777778, \"#fb9f3a\"], [0.8888888888888888, \"#fdca26\"], [1.0, \"#f0f921\"]], \"type\": \"heatmapgl\"}], \"histogram\": [{\"marker\": {\"colorbar\": {\"outlinewidth\": 0, \"ticks\": \"\"}}, \"type\": \"histogram\"}], \"histogram2d\": [{\"colorbar\": {\"outlinewidth\": 0, \"ticks\": \"\"}, \"colorscale\": [[0.0, \"#0d0887\"], [0.1111111111111111, \"#46039f\"], [0.2222222222222222, \"#7201a8\"], [0.3333333333333333, \"#9c179e\"], [0.4444444444444444, \"#bd3786\"], [0.5555555555555556, \"#d8576b\"], [0.6666666666666666, \"#ed7953\"], [0.7777777777777778, \"#fb9f3a\"], [0.8888888888888888, \"#fdca26\"], [1.0, \"#f0f921\"]], \"type\": \"histogram2d\"}], \"histogram2dcontour\": [{\"colorbar\": {\"outlinewidth\": 0, \"ticks\": \"\"}, \"colorscale\": [[0.0, \"#0d0887\"], [0.1111111111111111, \"#46039f\"], [0.2222222222222222, \"#7201a8\"], [0.3333333333333333, \"#9c179e\"], [0.4444444444444444, \"#bd3786\"], [0.5555555555555556, \"#d8576b\"], [0.6666666666666666, \"#ed7953\"], [0.7777777777777778, \"#fb9f3a\"], [0.8888888888888888, \"#fdca26\"], [1.0, \"#f0f921\"]], \"type\": \"histogram2dcontour\"}], \"mesh3d\": [{\"colorbar\": {\"outlinewidth\": 0, \"ticks\": \"\"}, \"type\": \"mesh3d\"}], \"parcoords\": [{\"line\": {\"colorbar\": {\"outlinewidth\": 0, \"ticks\": \"\"}}, \"type\": \"parcoords\"}], \"pie\": [{\"automargin\": true, \"type\": \"pie\"}], \"scatter\": [{\"marker\": {\"colorbar\": {\"outlinewidth\": 0, \"ticks\": \"\"}}, \"type\": \"scatter\"}], \"scatter3d\": [{\"line\": {\"colorbar\": {\"outlinewidth\": 0, \"ticks\": \"\"}}, \"marker\": {\"colorbar\": {\"outlinewidth\": 0, \"ticks\": \"\"}}, \"type\": \"scatter3d\"}], \"scattercarpet\": [{\"marker\": {\"colorbar\": {\"outlinewidth\": 0, \"ticks\": \"\"}}, \"type\": \"scattercarpet\"}], \"scattergeo\": [{\"marker\": {\"colorbar\": {\"outlinewidth\": 0, \"ticks\": \"\"}}, \"type\": \"scattergeo\"}], \"scattergl\": [{\"marker\": {\"colorbar\": {\"outlinewidth\": 0, \"ticks\": \"\"}}, \"type\": \"scattergl\"}], \"scattermapbox\": [{\"marker\": {\"colorbar\": {\"outlinewidth\": 0, \"ticks\": \"\"}}, \"type\": \"scattermapbox\"}], \"scatterpolar\": [{\"marker\": {\"colorbar\": {\"outlinewidth\": 0, \"ticks\": \"\"}}, \"type\": \"scatterpolar\"}], \"scatterpolargl\": [{\"marker\": {\"colorbar\": {\"outlinewidth\": 0, \"ticks\": \"\"}}, \"type\": \"scatterpolargl\"}], \"scatterternary\": [{\"marker\": {\"colorbar\": {\"outlinewidth\": 0, \"ticks\": \"\"}}, \"type\": \"scatterternary\"}], \"surface\": [{\"colorbar\": {\"outlinewidth\": 0, \"ticks\": \"\"}, \"colorscale\": [[0.0, \"#0d0887\"], [0.1111111111111111, \"#46039f\"], [0.2222222222222222, \"#7201a8\"], [0.3333333333333333, \"#9c179e\"], [0.4444444444444444, \"#bd3786\"], [0.5555555555555556, \"#d8576b\"], [0.6666666666666666, \"#ed7953\"], [0.7777777777777778, \"#fb9f3a\"], [0.8888888888888888, \"#fdca26\"], [1.0, \"#f0f921\"]], \"type\": \"surface\"}], \"table\": [{\"cells\": {\"fill\": {\"color\": \"#EBF0F8\"}, \"line\": {\"color\": \"white\"}}, \"header\": {\"fill\": {\"color\": \"#C8D4E3\"}, \"line\": {\"color\": \"white\"}}, \"type\": \"table\"}]}, \"layout\": {\"annotationdefaults\": {\"arrowcolor\": \"#2a3f5f\", \"arrowhead\": 0, \"arrowwidth\": 1}, \"coloraxis\": {\"colorbar\": {\"outlinewidth\": 0, \"ticks\": \"\"}}, \"colorscale\": {\"diverging\": [[0, \"#8e0152\"], [0.1, \"#c51b7d\"], [0.2, \"#de77ae\"], [0.3, \"#f1b6da\"], [0.4, \"#fde0ef\"], [0.5, \"#f7f7f7\"], [0.6, \"#e6f5d0\"], [0.7, \"#b8e186\"], [0.8, \"#7fbc41\"], [0.9, \"#4d9221\"], [1, \"#276419\"]], \"sequential\": [[0.0, \"#0d0887\"], [0.1111111111111111, \"#46039f\"], [0.2222222222222222, \"#7201a8\"], [0.3333333333333333, \"#9c179e\"], [0.4444444444444444, \"#bd3786\"], [0.5555555555555556, \"#d8576b\"], [0.6666666666666666, \"#ed7953\"], [0.7777777777777778, \"#fb9f3a\"], [0.8888888888888888, \"#fdca26\"], [1.0, \"#f0f921\"]], \"sequentialminus\": [[0.0, \"#0d0887\"], [0.1111111111111111, \"#46039f\"], [0.2222222222222222, \"#7201a8\"], [0.3333333333333333, \"#9c179e\"], [0.4444444444444444, \"#bd3786\"], [0.5555555555555556, \"#d8576b\"], [0.6666666666666666, \"#ed7953\"], [0.7777777777777778, \"#fb9f3a\"], [0.8888888888888888, \"#fdca26\"], [1.0, \"#f0f921\"]]}, \"colorway\": [\"#636efa\", \"#EF553B\", \"#00cc96\", \"#ab63fa\", \"#FFA15A\", \"#19d3f3\", \"#FF6692\", \"#B6E880\", \"#FF97FF\", \"#FECB52\"], \"font\": {\"color\": \"#2a3f5f\"}, \"geo\": {\"bgcolor\": \"white\", \"lakecolor\": \"white\", \"landcolor\": \"#E5ECF6\", \"showlakes\": true, \"showland\": true, \"subunitcolor\": \"white\"}, \"hoverlabel\": {\"align\": \"left\"}, \"hovermode\": \"closest\", \"mapbox\": {\"style\": \"light\"}, \"paper_bgcolor\": \"white\", \"plot_bgcolor\": \"#E5ECF6\", \"polar\": {\"angularaxis\": {\"gridcolor\": \"white\", \"linecolor\": \"white\", \"ticks\": \"\"}, \"bgcolor\": \"#E5ECF6\", \"radialaxis\": {\"gridcolor\": \"white\", \"linecolor\": \"white\", \"ticks\": \"\"}}, \"scene\": {\"xaxis\": {\"backgroundcolor\": \"#E5ECF6\", \"gridcolor\": \"white\", \"gridwidth\": 2, \"linecolor\": \"white\", \"showbackground\": true, \"ticks\": \"\", \"zerolinecolor\": \"white\"}, \"yaxis\": {\"backgroundcolor\": \"#E5ECF6\", \"gridcolor\": \"white\", \"gridwidth\": 2, \"linecolor\": \"white\", \"showbackground\": true, \"ticks\": \"\", \"zerolinecolor\": \"white\"}, \"zaxis\": {\"backgroundcolor\": \"#E5ECF6\", \"gridcolor\": \"white\", \"gridwidth\": 2, \"linecolor\": \"white\", \"showbackground\": true, \"ticks\": \"\", \"zerolinecolor\": \"white\"}}, \"shapedefaults\": {\"line\": {\"color\": \"#2a3f5f\"}}, \"ternary\": {\"aaxis\": {\"gridcolor\": \"white\", \"linecolor\": \"white\", \"ticks\": \"\"}, \"baxis\": {\"gridcolor\": \"white\", \"linecolor\": \"white\", \"ticks\": \"\"}, \"bgcolor\": \"#E5ECF6\", \"caxis\": {\"gridcolor\": \"white\", \"linecolor\": \"white\", \"ticks\": \"\"}}, \"title\": {\"x\": 0.05}, \"xaxis\": {\"automargin\": true, \"gridcolor\": \"white\", \"linecolor\": \"white\", \"ticks\": \"\", \"title\": {\"standoff\": 15}, \"zerolinecolor\": \"white\", \"zerolinewidth\": 2}, \"yaxis\": {\"automargin\": true, \"gridcolor\": \"white\", \"linecolor\": \"white\", \"ticks\": \"\", \"title\": {\"standoff\": 15}, \"zerolinecolor\": \"white\", \"zerolinewidth\": 2}}}, \"title\": {\"font\": {\"color\": \"#4D5663\"}, \"text\": \"Number of category kinds in noteevents\"}, \"xaxis\": {\"gridcolor\": \"#E1E5ED\", \"showgrid\": true, \"tickfont\": {\"color\": \"#4D5663\"}, \"title\": {\"font\": {\"color\": \"#4D5663\"}, \"text\": \"\"}, \"zerolinecolor\": \"#E1E5ED\"}, \"yaxis\": {\"gridcolor\": \"#E1E5ED\", \"showgrid\": true, \"tickfont\": {\"color\": \"#4D5663\"}, \"title\": {\"font\": {\"color\": \"#4D5663\"}, \"text\": \"Number of notes\"}, \"zerolinecolor\": \"#E1E5ED\"}},\n",
       "                        {\"showLink\": true, \"linkText\": \"Export to plot.ly\", \"plotlyServerURL\": \"https://plot.ly\", \"responsive\": true}\n",
       "                    ).then(function(){\n",
       "                            \n",
       "var gd = document.getElementById('c5e140fe-fabb-40bf-b0fe-1f5a29468ccf');\n",
       "var x = new MutationObserver(function (mutations, observer) {{\n",
       "        var display = window.getComputedStyle(gd).display;\n",
       "        if (!display || display === 'none') {{\n",
       "            console.log([gd, 'removed!']);\n",
       "            Plotly.purge(gd);\n",
       "            observer.disconnect();\n",
       "        }}\n",
       "}});\n",
       "\n",
       "// Listen for the removal of the full notebook cells\n",
       "var notebookContainer = gd.closest('#notebook-container');\n",
       "if (notebookContainer) {{\n",
       "    x.observe(notebookContainer, {childList: true});\n",
       "}}\n",
       "\n",
       "// Listen for the clearing of the current output cell\n",
       "var outputEl = gd.closest('.output');\n",
       "if (outputEl) {{\n",
       "    x.observe(outputEl, {childList: true});\n",
       "}}\n",
       "\n",
       "                        })\n",
       "                };\n",
       "                });\n",
       "            </script>\n",
       "        </div>"
      ]
     },
     "metadata": {},
     "output_type": "display_data"
    }
   ],
   "source": [
    "pneumonia_df['CATEGORY'].value_counts().sort_values(ascending=False).iplot(kind='bar', yTitle='Number of notes', \n",
    "                                                                title='Number of category kinds in noteevents')"
   ]
  },
  {
   "cell_type": "code",
   "execution_count": 15,
   "metadata": {},
   "outputs": [],
   "source": [
    "#pneumonia_no_disch_df = pneumonia_df.loc[pneumonia_df[\"CATEGORY\"] != 'Discharge summary', ['ROW_ID_x', 'SUBJECT_ID_x', 'HADM_ID', 'CHARTDATE', 'CHARTTIME', 'STORETIME', 'CATEGORY', 'DESCRIPTION', 'CGID', 'ISERROR', 'TEXT', 'ADMITTIME', 'DISCHTIME', 'DEATHTIME', 'ADMISSION_TYPE', 'DIAGNOSIS', 'HAS_CHARTEVENTS_DATA']]\n",
    "pneumonia_no_disch_df = pneumonia_df.loc[pneumonia_df[\"CATEGORY\"] != 'Discharge summary', ['ROW_ID_x','SUBJECT_ID_x','CHARTDATE','STORETIME','CATEGORY','DESCRIPTION','TEXT', 'DEATHTIME']]"
   ]
  },
  {
   "cell_type": "code",
   "execution_count": 16,
   "metadata": {
    "scrolled": false
   },
   "outputs": [
    {
     "data": {
      "application/vnd.plotly.v1+json": {
       "config": {
        "linkText": "Export to plot.ly",
        "plotlyServerURL": "https://plot.ly",
        "showLink": true
       },
       "data": [
        {
         "marker": {
          "color": "rgba(255, 153, 51, 0.6)",
          "line": {
           "color": "rgba(255, 153, 51, 1.0)",
           "width": 1
          }
         },
         "name": "CATEGORY",
         "orientation": "v",
         "text": "",
         "type": "bar",
         "x": [
          "Nursing",
          "Nursing/other",
          "Radiology",
          "Physician ",
          "ECG",
          "Respiratory ",
          "Echo",
          "General",
          "Nutrition",
          "Rehab Services",
          "Social Work",
          "Case Management ",
          "Pharmacy",
          "Consult"
         ],
         "y": [
          13256,
          12693,
          11723,
          10643,
          4469,
          2454,
          949,
          680,
          638,
          231,
          142,
          135,
          15,
          1
         ]
        }
       ],
       "layout": {
        "legend": {
         "bgcolor": "#F5F6F9",
         "font": {
          "color": "#4D5663"
         }
        },
        "paper_bgcolor": "#F5F6F9",
        "plot_bgcolor": "#F5F6F9",
        "template": {
         "data": {
          "bar": [
           {
            "error_x": {
             "color": "#2a3f5f"
            },
            "error_y": {
             "color": "#2a3f5f"
            },
            "marker": {
             "line": {
              "color": "#E5ECF6",
              "width": 0.5
             }
            },
            "type": "bar"
           }
          ],
          "barpolar": [
           {
            "marker": {
             "line": {
              "color": "#E5ECF6",
              "width": 0.5
             }
            },
            "type": "barpolar"
           }
          ],
          "carpet": [
           {
            "aaxis": {
             "endlinecolor": "#2a3f5f",
             "gridcolor": "white",
             "linecolor": "white",
             "minorgridcolor": "white",
             "startlinecolor": "#2a3f5f"
            },
            "baxis": {
             "endlinecolor": "#2a3f5f",
             "gridcolor": "white",
             "linecolor": "white",
             "minorgridcolor": "white",
             "startlinecolor": "#2a3f5f"
            },
            "type": "carpet"
           }
          ],
          "choropleth": [
           {
            "colorbar": {
             "outlinewidth": 0,
             "ticks": ""
            },
            "type": "choropleth"
           }
          ],
          "contour": [
           {
            "colorbar": {
             "outlinewidth": 0,
             "ticks": ""
            },
            "colorscale": [
             [
              0,
              "#0d0887"
             ],
             [
              0.1111111111111111,
              "#46039f"
             ],
             [
              0.2222222222222222,
              "#7201a8"
             ],
             [
              0.3333333333333333,
              "#9c179e"
             ],
             [
              0.4444444444444444,
              "#bd3786"
             ],
             [
              0.5555555555555556,
              "#d8576b"
             ],
             [
              0.6666666666666666,
              "#ed7953"
             ],
             [
              0.7777777777777778,
              "#fb9f3a"
             ],
             [
              0.8888888888888888,
              "#fdca26"
             ],
             [
              1,
              "#f0f921"
             ]
            ],
            "type": "contour"
           }
          ],
          "contourcarpet": [
           {
            "colorbar": {
             "outlinewidth": 0,
             "ticks": ""
            },
            "type": "contourcarpet"
           }
          ],
          "heatmap": [
           {
            "colorbar": {
             "outlinewidth": 0,
             "ticks": ""
            },
            "colorscale": [
             [
              0,
              "#0d0887"
             ],
             [
              0.1111111111111111,
              "#46039f"
             ],
             [
              0.2222222222222222,
              "#7201a8"
             ],
             [
              0.3333333333333333,
              "#9c179e"
             ],
             [
              0.4444444444444444,
              "#bd3786"
             ],
             [
              0.5555555555555556,
              "#d8576b"
             ],
             [
              0.6666666666666666,
              "#ed7953"
             ],
             [
              0.7777777777777778,
              "#fb9f3a"
             ],
             [
              0.8888888888888888,
              "#fdca26"
             ],
             [
              1,
              "#f0f921"
             ]
            ],
            "type": "heatmap"
           }
          ],
          "heatmapgl": [
           {
            "colorbar": {
             "outlinewidth": 0,
             "ticks": ""
            },
            "colorscale": [
             [
              0,
              "#0d0887"
             ],
             [
              0.1111111111111111,
              "#46039f"
             ],
             [
              0.2222222222222222,
              "#7201a8"
             ],
             [
              0.3333333333333333,
              "#9c179e"
             ],
             [
              0.4444444444444444,
              "#bd3786"
             ],
             [
              0.5555555555555556,
              "#d8576b"
             ],
             [
              0.6666666666666666,
              "#ed7953"
             ],
             [
              0.7777777777777778,
              "#fb9f3a"
             ],
             [
              0.8888888888888888,
              "#fdca26"
             ],
             [
              1,
              "#f0f921"
             ]
            ],
            "type": "heatmapgl"
           }
          ],
          "histogram": [
           {
            "marker": {
             "colorbar": {
              "outlinewidth": 0,
              "ticks": ""
             }
            },
            "type": "histogram"
           }
          ],
          "histogram2d": [
           {
            "colorbar": {
             "outlinewidth": 0,
             "ticks": ""
            },
            "colorscale": [
             [
              0,
              "#0d0887"
             ],
             [
              0.1111111111111111,
              "#46039f"
             ],
             [
              0.2222222222222222,
              "#7201a8"
             ],
             [
              0.3333333333333333,
              "#9c179e"
             ],
             [
              0.4444444444444444,
              "#bd3786"
             ],
             [
              0.5555555555555556,
              "#d8576b"
             ],
             [
              0.6666666666666666,
              "#ed7953"
             ],
             [
              0.7777777777777778,
              "#fb9f3a"
             ],
             [
              0.8888888888888888,
              "#fdca26"
             ],
             [
              1,
              "#f0f921"
             ]
            ],
            "type": "histogram2d"
           }
          ],
          "histogram2dcontour": [
           {
            "colorbar": {
             "outlinewidth": 0,
             "ticks": ""
            },
            "colorscale": [
             [
              0,
              "#0d0887"
             ],
             [
              0.1111111111111111,
              "#46039f"
             ],
             [
              0.2222222222222222,
              "#7201a8"
             ],
             [
              0.3333333333333333,
              "#9c179e"
             ],
             [
              0.4444444444444444,
              "#bd3786"
             ],
             [
              0.5555555555555556,
              "#d8576b"
             ],
             [
              0.6666666666666666,
              "#ed7953"
             ],
             [
              0.7777777777777778,
              "#fb9f3a"
             ],
             [
              0.8888888888888888,
              "#fdca26"
             ],
             [
              1,
              "#f0f921"
             ]
            ],
            "type": "histogram2dcontour"
           }
          ],
          "mesh3d": [
           {
            "colorbar": {
             "outlinewidth": 0,
             "ticks": ""
            },
            "type": "mesh3d"
           }
          ],
          "parcoords": [
           {
            "line": {
             "colorbar": {
              "outlinewidth": 0,
              "ticks": ""
             }
            },
            "type": "parcoords"
           }
          ],
          "pie": [
           {
            "automargin": true,
            "type": "pie"
           }
          ],
          "scatter": [
           {
            "marker": {
             "colorbar": {
              "outlinewidth": 0,
              "ticks": ""
             }
            },
            "type": "scatter"
           }
          ],
          "scatter3d": [
           {
            "line": {
             "colorbar": {
              "outlinewidth": 0,
              "ticks": ""
             }
            },
            "marker": {
             "colorbar": {
              "outlinewidth": 0,
              "ticks": ""
             }
            },
            "type": "scatter3d"
           }
          ],
          "scattercarpet": [
           {
            "marker": {
             "colorbar": {
              "outlinewidth": 0,
              "ticks": ""
             }
            },
            "type": "scattercarpet"
           }
          ],
          "scattergeo": [
           {
            "marker": {
             "colorbar": {
              "outlinewidth": 0,
              "ticks": ""
             }
            },
            "type": "scattergeo"
           }
          ],
          "scattergl": [
           {
            "marker": {
             "colorbar": {
              "outlinewidth": 0,
              "ticks": ""
             }
            },
            "type": "scattergl"
           }
          ],
          "scattermapbox": [
           {
            "marker": {
             "colorbar": {
              "outlinewidth": 0,
              "ticks": ""
             }
            },
            "type": "scattermapbox"
           }
          ],
          "scatterpolar": [
           {
            "marker": {
             "colorbar": {
              "outlinewidth": 0,
              "ticks": ""
             }
            },
            "type": "scatterpolar"
           }
          ],
          "scatterpolargl": [
           {
            "marker": {
             "colorbar": {
              "outlinewidth": 0,
              "ticks": ""
             }
            },
            "type": "scatterpolargl"
           }
          ],
          "scatterternary": [
           {
            "marker": {
             "colorbar": {
              "outlinewidth": 0,
              "ticks": ""
             }
            },
            "type": "scatterternary"
           }
          ],
          "surface": [
           {
            "colorbar": {
             "outlinewidth": 0,
             "ticks": ""
            },
            "colorscale": [
             [
              0,
              "#0d0887"
             ],
             [
              0.1111111111111111,
              "#46039f"
             ],
             [
              0.2222222222222222,
              "#7201a8"
             ],
             [
              0.3333333333333333,
              "#9c179e"
             ],
             [
              0.4444444444444444,
              "#bd3786"
             ],
             [
              0.5555555555555556,
              "#d8576b"
             ],
             [
              0.6666666666666666,
              "#ed7953"
             ],
             [
              0.7777777777777778,
              "#fb9f3a"
             ],
             [
              0.8888888888888888,
              "#fdca26"
             ],
             [
              1,
              "#f0f921"
             ]
            ],
            "type": "surface"
           }
          ],
          "table": [
           {
            "cells": {
             "fill": {
              "color": "#EBF0F8"
             },
             "line": {
              "color": "white"
             }
            },
            "header": {
             "fill": {
              "color": "#C8D4E3"
             },
             "line": {
              "color": "white"
             }
            },
            "type": "table"
           }
          ]
         },
         "layout": {
          "annotationdefaults": {
           "arrowcolor": "#2a3f5f",
           "arrowhead": 0,
           "arrowwidth": 1
          },
          "coloraxis": {
           "colorbar": {
            "outlinewidth": 0,
            "ticks": ""
           }
          },
          "colorscale": {
           "diverging": [
            [
             0,
             "#8e0152"
            ],
            [
             0.1,
             "#c51b7d"
            ],
            [
             0.2,
             "#de77ae"
            ],
            [
             0.3,
             "#f1b6da"
            ],
            [
             0.4,
             "#fde0ef"
            ],
            [
             0.5,
             "#f7f7f7"
            ],
            [
             0.6,
             "#e6f5d0"
            ],
            [
             0.7,
             "#b8e186"
            ],
            [
             0.8,
             "#7fbc41"
            ],
            [
             0.9,
             "#4d9221"
            ],
            [
             1,
             "#276419"
            ]
           ],
           "sequential": [
            [
             0,
             "#0d0887"
            ],
            [
             0.1111111111111111,
             "#46039f"
            ],
            [
             0.2222222222222222,
             "#7201a8"
            ],
            [
             0.3333333333333333,
             "#9c179e"
            ],
            [
             0.4444444444444444,
             "#bd3786"
            ],
            [
             0.5555555555555556,
             "#d8576b"
            ],
            [
             0.6666666666666666,
             "#ed7953"
            ],
            [
             0.7777777777777778,
             "#fb9f3a"
            ],
            [
             0.8888888888888888,
             "#fdca26"
            ],
            [
             1,
             "#f0f921"
            ]
           ],
           "sequentialminus": [
            [
             0,
             "#0d0887"
            ],
            [
             0.1111111111111111,
             "#46039f"
            ],
            [
             0.2222222222222222,
             "#7201a8"
            ],
            [
             0.3333333333333333,
             "#9c179e"
            ],
            [
             0.4444444444444444,
             "#bd3786"
            ],
            [
             0.5555555555555556,
             "#d8576b"
            ],
            [
             0.6666666666666666,
             "#ed7953"
            ],
            [
             0.7777777777777778,
             "#fb9f3a"
            ],
            [
             0.8888888888888888,
             "#fdca26"
            ],
            [
             1,
             "#f0f921"
            ]
           ]
          },
          "colorway": [
           "#636efa",
           "#EF553B",
           "#00cc96",
           "#ab63fa",
           "#FFA15A",
           "#19d3f3",
           "#FF6692",
           "#B6E880",
           "#FF97FF",
           "#FECB52"
          ],
          "font": {
           "color": "#2a3f5f"
          },
          "geo": {
           "bgcolor": "white",
           "lakecolor": "white",
           "landcolor": "#E5ECF6",
           "showlakes": true,
           "showland": true,
           "subunitcolor": "white"
          },
          "hoverlabel": {
           "align": "left"
          },
          "hovermode": "closest",
          "mapbox": {
           "style": "light"
          },
          "paper_bgcolor": "white",
          "plot_bgcolor": "#E5ECF6",
          "polar": {
           "angularaxis": {
            "gridcolor": "white",
            "linecolor": "white",
            "ticks": ""
           },
           "bgcolor": "#E5ECF6",
           "radialaxis": {
            "gridcolor": "white",
            "linecolor": "white",
            "ticks": ""
           }
          },
          "scene": {
           "xaxis": {
            "backgroundcolor": "#E5ECF6",
            "gridcolor": "white",
            "gridwidth": 2,
            "linecolor": "white",
            "showbackground": true,
            "ticks": "",
            "zerolinecolor": "white"
           },
           "yaxis": {
            "backgroundcolor": "#E5ECF6",
            "gridcolor": "white",
            "gridwidth": 2,
            "linecolor": "white",
            "showbackground": true,
            "ticks": "",
            "zerolinecolor": "white"
           },
           "zaxis": {
            "backgroundcolor": "#E5ECF6",
            "gridcolor": "white",
            "gridwidth": 2,
            "linecolor": "white",
            "showbackground": true,
            "ticks": "",
            "zerolinecolor": "white"
           }
          },
          "shapedefaults": {
           "line": {
            "color": "#2a3f5f"
           }
          },
          "ternary": {
           "aaxis": {
            "gridcolor": "white",
            "linecolor": "white",
            "ticks": ""
           },
           "baxis": {
            "gridcolor": "white",
            "linecolor": "white",
            "ticks": ""
           },
           "bgcolor": "#E5ECF6",
           "caxis": {
            "gridcolor": "white",
            "linecolor": "white",
            "ticks": ""
           }
          },
          "title": {
           "x": 0.05
          },
          "xaxis": {
           "automargin": true,
           "gridcolor": "white",
           "linecolor": "white",
           "ticks": "",
           "title": {
            "standoff": 15
           },
           "zerolinecolor": "white",
           "zerolinewidth": 2
          },
          "yaxis": {
           "automargin": true,
           "gridcolor": "white",
           "linecolor": "white",
           "ticks": "",
           "title": {
            "standoff": 15
           },
           "zerolinecolor": "white",
           "zerolinewidth": 2
          }
         }
        },
        "title": {
         "font": {
          "color": "#4D5663"
         },
         "text": "Number of category kinds in noteevents"
        },
        "xaxis": {
         "gridcolor": "#E1E5ED",
         "showgrid": true,
         "tickfont": {
          "color": "#4D5663"
         },
         "title": {
          "font": {
           "color": "#4D5663"
          },
          "text": ""
         },
         "zerolinecolor": "#E1E5ED"
        },
        "yaxis": {
         "gridcolor": "#E1E5ED",
         "showgrid": true,
         "tickfont": {
          "color": "#4D5663"
         },
         "title": {
          "font": {
           "color": "#4D5663"
          },
          "text": "Number of notes"
         },
         "zerolinecolor": "#E1E5ED"
        }
       }
      },
      "text/html": [
       "<div>\n",
       "        \n",
       "        \n",
       "            <div id=\"ac38ced2-996f-4744-80c7-86303fdb9049\" class=\"plotly-graph-div\" style=\"height:525px; width:100%;\"></div>\n",
       "            <script type=\"text/javascript\">\n",
       "                require([\"plotly\"], function(Plotly) {\n",
       "                    window.PLOTLYENV=window.PLOTLYENV || {};\n",
       "                    window.PLOTLYENV.BASE_URL='https://plot.ly';\n",
       "                    \n",
       "                if (document.getElementById(\"ac38ced2-996f-4744-80c7-86303fdb9049\")) {\n",
       "                    Plotly.newPlot(\n",
       "                        'ac38ced2-996f-4744-80c7-86303fdb9049',\n",
       "                        [{\"marker\": {\"color\": \"rgba(255, 153, 51, 0.6)\", \"line\": {\"color\": \"rgba(255, 153, 51, 1.0)\", \"width\": 1}}, \"name\": \"CATEGORY\", \"orientation\": \"v\", \"text\": \"\", \"type\": \"bar\", \"x\": [\"Nursing\", \"Nursing/other\", \"Radiology\", \"Physician \", \"ECG\", \"Respiratory \", \"Echo\", \"General\", \"Nutrition\", \"Rehab Services\", \"Social Work\", \"Case Management \", \"Pharmacy\", \"Consult\"], \"y\": [13256, 12693, 11723, 10643, 4469, 2454, 949, 680, 638, 231, 142, 135, 15, 1]}],\n",
       "                        {\"legend\": {\"bgcolor\": \"#F5F6F9\", \"font\": {\"color\": \"#4D5663\"}}, \"paper_bgcolor\": \"#F5F6F9\", \"plot_bgcolor\": \"#F5F6F9\", \"template\": {\"data\": {\"bar\": [{\"error_x\": {\"color\": \"#2a3f5f\"}, \"error_y\": {\"color\": \"#2a3f5f\"}, \"marker\": {\"line\": {\"color\": \"#E5ECF6\", \"width\": 0.5}}, \"type\": \"bar\"}], \"barpolar\": [{\"marker\": {\"line\": {\"color\": \"#E5ECF6\", \"width\": 0.5}}, \"type\": \"barpolar\"}], \"carpet\": [{\"aaxis\": {\"endlinecolor\": \"#2a3f5f\", \"gridcolor\": \"white\", \"linecolor\": \"white\", \"minorgridcolor\": \"white\", \"startlinecolor\": \"#2a3f5f\"}, \"baxis\": {\"endlinecolor\": \"#2a3f5f\", \"gridcolor\": \"white\", \"linecolor\": \"white\", \"minorgridcolor\": \"white\", \"startlinecolor\": \"#2a3f5f\"}, \"type\": \"carpet\"}], \"choropleth\": [{\"colorbar\": {\"outlinewidth\": 0, \"ticks\": \"\"}, \"type\": \"choropleth\"}], \"contour\": [{\"colorbar\": {\"outlinewidth\": 0, \"ticks\": \"\"}, \"colorscale\": [[0.0, \"#0d0887\"], [0.1111111111111111, \"#46039f\"], [0.2222222222222222, \"#7201a8\"], [0.3333333333333333, \"#9c179e\"], [0.4444444444444444, \"#bd3786\"], [0.5555555555555556, \"#d8576b\"], [0.6666666666666666, \"#ed7953\"], [0.7777777777777778, \"#fb9f3a\"], [0.8888888888888888, \"#fdca26\"], [1.0, \"#f0f921\"]], \"type\": \"contour\"}], \"contourcarpet\": [{\"colorbar\": {\"outlinewidth\": 0, \"ticks\": \"\"}, \"type\": \"contourcarpet\"}], \"heatmap\": [{\"colorbar\": {\"outlinewidth\": 0, \"ticks\": \"\"}, \"colorscale\": [[0.0, \"#0d0887\"], [0.1111111111111111, \"#46039f\"], [0.2222222222222222, \"#7201a8\"], [0.3333333333333333, \"#9c179e\"], [0.4444444444444444, \"#bd3786\"], [0.5555555555555556, \"#d8576b\"], [0.6666666666666666, \"#ed7953\"], [0.7777777777777778, \"#fb9f3a\"], [0.8888888888888888, \"#fdca26\"], [1.0, \"#f0f921\"]], \"type\": \"heatmap\"}], \"heatmapgl\": [{\"colorbar\": {\"outlinewidth\": 0, \"ticks\": \"\"}, \"colorscale\": [[0.0, \"#0d0887\"], [0.1111111111111111, \"#46039f\"], [0.2222222222222222, \"#7201a8\"], [0.3333333333333333, \"#9c179e\"], [0.4444444444444444, \"#bd3786\"], [0.5555555555555556, \"#d8576b\"], [0.6666666666666666, \"#ed7953\"], [0.7777777777777778, \"#fb9f3a\"], [0.8888888888888888, \"#fdca26\"], [1.0, \"#f0f921\"]], \"type\": \"heatmapgl\"}], \"histogram\": [{\"marker\": {\"colorbar\": {\"outlinewidth\": 0, \"ticks\": \"\"}}, \"type\": \"histogram\"}], \"histogram2d\": [{\"colorbar\": {\"outlinewidth\": 0, \"ticks\": \"\"}, \"colorscale\": [[0.0, \"#0d0887\"], [0.1111111111111111, \"#46039f\"], [0.2222222222222222, \"#7201a8\"], [0.3333333333333333, \"#9c179e\"], [0.4444444444444444, \"#bd3786\"], [0.5555555555555556, \"#d8576b\"], [0.6666666666666666, \"#ed7953\"], [0.7777777777777778, \"#fb9f3a\"], [0.8888888888888888, \"#fdca26\"], [1.0, \"#f0f921\"]], \"type\": \"histogram2d\"}], \"histogram2dcontour\": [{\"colorbar\": {\"outlinewidth\": 0, \"ticks\": \"\"}, \"colorscale\": [[0.0, \"#0d0887\"], [0.1111111111111111, \"#46039f\"], [0.2222222222222222, \"#7201a8\"], [0.3333333333333333, \"#9c179e\"], [0.4444444444444444, \"#bd3786\"], [0.5555555555555556, \"#d8576b\"], [0.6666666666666666, \"#ed7953\"], [0.7777777777777778, \"#fb9f3a\"], [0.8888888888888888, \"#fdca26\"], [1.0, \"#f0f921\"]], \"type\": \"histogram2dcontour\"}], \"mesh3d\": [{\"colorbar\": {\"outlinewidth\": 0, \"ticks\": \"\"}, \"type\": \"mesh3d\"}], \"parcoords\": [{\"line\": {\"colorbar\": {\"outlinewidth\": 0, \"ticks\": \"\"}}, \"type\": \"parcoords\"}], \"pie\": [{\"automargin\": true, \"type\": \"pie\"}], \"scatter\": [{\"marker\": {\"colorbar\": {\"outlinewidth\": 0, \"ticks\": \"\"}}, \"type\": \"scatter\"}], \"scatter3d\": [{\"line\": {\"colorbar\": {\"outlinewidth\": 0, \"ticks\": \"\"}}, \"marker\": {\"colorbar\": {\"outlinewidth\": 0, \"ticks\": \"\"}}, \"type\": \"scatter3d\"}], \"scattercarpet\": [{\"marker\": {\"colorbar\": {\"outlinewidth\": 0, \"ticks\": \"\"}}, \"type\": \"scattercarpet\"}], \"scattergeo\": [{\"marker\": {\"colorbar\": {\"outlinewidth\": 0, \"ticks\": \"\"}}, \"type\": \"scattergeo\"}], \"scattergl\": [{\"marker\": {\"colorbar\": {\"outlinewidth\": 0, \"ticks\": \"\"}}, \"type\": \"scattergl\"}], \"scattermapbox\": [{\"marker\": {\"colorbar\": {\"outlinewidth\": 0, \"ticks\": \"\"}}, \"type\": \"scattermapbox\"}], \"scatterpolar\": [{\"marker\": {\"colorbar\": {\"outlinewidth\": 0, \"ticks\": \"\"}}, \"type\": \"scatterpolar\"}], \"scatterpolargl\": [{\"marker\": {\"colorbar\": {\"outlinewidth\": 0, \"ticks\": \"\"}}, \"type\": \"scatterpolargl\"}], \"scatterternary\": [{\"marker\": {\"colorbar\": {\"outlinewidth\": 0, \"ticks\": \"\"}}, \"type\": \"scatterternary\"}], \"surface\": [{\"colorbar\": {\"outlinewidth\": 0, \"ticks\": \"\"}, \"colorscale\": [[0.0, \"#0d0887\"], [0.1111111111111111, \"#46039f\"], [0.2222222222222222, \"#7201a8\"], [0.3333333333333333, \"#9c179e\"], [0.4444444444444444, \"#bd3786\"], [0.5555555555555556, \"#d8576b\"], [0.6666666666666666, \"#ed7953\"], [0.7777777777777778, \"#fb9f3a\"], [0.8888888888888888, \"#fdca26\"], [1.0, \"#f0f921\"]], \"type\": \"surface\"}], \"table\": [{\"cells\": {\"fill\": {\"color\": \"#EBF0F8\"}, \"line\": {\"color\": \"white\"}}, \"header\": {\"fill\": {\"color\": \"#C8D4E3\"}, \"line\": {\"color\": \"white\"}}, \"type\": \"table\"}]}, \"layout\": {\"annotationdefaults\": {\"arrowcolor\": \"#2a3f5f\", \"arrowhead\": 0, \"arrowwidth\": 1}, \"coloraxis\": {\"colorbar\": {\"outlinewidth\": 0, \"ticks\": \"\"}}, \"colorscale\": {\"diverging\": [[0, \"#8e0152\"], [0.1, \"#c51b7d\"], [0.2, \"#de77ae\"], [0.3, \"#f1b6da\"], [0.4, \"#fde0ef\"], [0.5, \"#f7f7f7\"], [0.6, \"#e6f5d0\"], [0.7, \"#b8e186\"], [0.8, \"#7fbc41\"], [0.9, \"#4d9221\"], [1, \"#276419\"]], \"sequential\": [[0.0, \"#0d0887\"], [0.1111111111111111, \"#46039f\"], [0.2222222222222222, \"#7201a8\"], [0.3333333333333333, \"#9c179e\"], [0.4444444444444444, \"#bd3786\"], [0.5555555555555556, \"#d8576b\"], [0.6666666666666666, \"#ed7953\"], [0.7777777777777778, \"#fb9f3a\"], [0.8888888888888888, \"#fdca26\"], [1.0, \"#f0f921\"]], \"sequentialminus\": [[0.0, \"#0d0887\"], [0.1111111111111111, \"#46039f\"], [0.2222222222222222, \"#7201a8\"], [0.3333333333333333, \"#9c179e\"], [0.4444444444444444, \"#bd3786\"], [0.5555555555555556, \"#d8576b\"], [0.6666666666666666, \"#ed7953\"], [0.7777777777777778, \"#fb9f3a\"], [0.8888888888888888, \"#fdca26\"], [1.0, \"#f0f921\"]]}, \"colorway\": [\"#636efa\", \"#EF553B\", \"#00cc96\", \"#ab63fa\", \"#FFA15A\", \"#19d3f3\", \"#FF6692\", \"#B6E880\", \"#FF97FF\", \"#FECB52\"], \"font\": {\"color\": \"#2a3f5f\"}, \"geo\": {\"bgcolor\": \"white\", \"lakecolor\": \"white\", \"landcolor\": \"#E5ECF6\", \"showlakes\": true, \"showland\": true, \"subunitcolor\": \"white\"}, \"hoverlabel\": {\"align\": \"left\"}, \"hovermode\": \"closest\", \"mapbox\": {\"style\": \"light\"}, \"paper_bgcolor\": \"white\", \"plot_bgcolor\": \"#E5ECF6\", \"polar\": {\"angularaxis\": {\"gridcolor\": \"white\", \"linecolor\": \"white\", \"ticks\": \"\"}, \"bgcolor\": \"#E5ECF6\", \"radialaxis\": {\"gridcolor\": \"white\", \"linecolor\": \"white\", \"ticks\": \"\"}}, \"scene\": {\"xaxis\": {\"backgroundcolor\": \"#E5ECF6\", \"gridcolor\": \"white\", \"gridwidth\": 2, \"linecolor\": \"white\", \"showbackground\": true, \"ticks\": \"\", \"zerolinecolor\": \"white\"}, \"yaxis\": {\"backgroundcolor\": \"#E5ECF6\", \"gridcolor\": \"white\", \"gridwidth\": 2, \"linecolor\": \"white\", \"showbackground\": true, \"ticks\": \"\", \"zerolinecolor\": \"white\"}, \"zaxis\": {\"backgroundcolor\": \"#E5ECF6\", \"gridcolor\": \"white\", \"gridwidth\": 2, \"linecolor\": \"white\", \"showbackground\": true, \"ticks\": \"\", \"zerolinecolor\": \"white\"}}, \"shapedefaults\": {\"line\": {\"color\": \"#2a3f5f\"}}, \"ternary\": {\"aaxis\": {\"gridcolor\": \"white\", \"linecolor\": \"white\", \"ticks\": \"\"}, \"baxis\": {\"gridcolor\": \"white\", \"linecolor\": \"white\", \"ticks\": \"\"}, \"bgcolor\": \"#E5ECF6\", \"caxis\": {\"gridcolor\": \"white\", \"linecolor\": \"white\", \"ticks\": \"\"}}, \"title\": {\"x\": 0.05}, \"xaxis\": {\"automargin\": true, \"gridcolor\": \"white\", \"linecolor\": \"white\", \"ticks\": \"\", \"title\": {\"standoff\": 15}, \"zerolinecolor\": \"white\", \"zerolinewidth\": 2}, \"yaxis\": {\"automargin\": true, \"gridcolor\": \"white\", \"linecolor\": \"white\", \"ticks\": \"\", \"title\": {\"standoff\": 15}, \"zerolinecolor\": \"white\", \"zerolinewidth\": 2}}}, \"title\": {\"font\": {\"color\": \"#4D5663\"}, \"text\": \"Number of category kinds in noteevents\"}, \"xaxis\": {\"gridcolor\": \"#E1E5ED\", \"showgrid\": true, \"tickfont\": {\"color\": \"#4D5663\"}, \"title\": {\"font\": {\"color\": \"#4D5663\"}, \"text\": \"\"}, \"zerolinecolor\": \"#E1E5ED\"}, \"yaxis\": {\"gridcolor\": \"#E1E5ED\", \"showgrid\": true, \"tickfont\": {\"color\": \"#4D5663\"}, \"title\": {\"font\": {\"color\": \"#4D5663\"}, \"text\": \"Number of notes\"}, \"zerolinecolor\": \"#E1E5ED\"}},\n",
       "                        {\"showLink\": true, \"linkText\": \"Export to plot.ly\", \"plotlyServerURL\": \"https://plot.ly\", \"responsive\": true}\n",
       "                    ).then(function(){\n",
       "                            \n",
       "var gd = document.getElementById('ac38ced2-996f-4744-80c7-86303fdb9049');\n",
       "var x = new MutationObserver(function (mutations, observer) {{\n",
       "        var display = window.getComputedStyle(gd).display;\n",
       "        if (!display || display === 'none') {{\n",
       "            console.log([gd, 'removed!']);\n",
       "            Plotly.purge(gd);\n",
       "            observer.disconnect();\n",
       "        }}\n",
       "}});\n",
       "\n",
       "// Listen for the removal of the full notebook cells\n",
       "var notebookContainer = gd.closest('#notebook-container');\n",
       "if (notebookContainer) {{\n",
       "    x.observe(notebookContainer, {childList: true});\n",
       "}}\n",
       "\n",
       "// Listen for the clearing of the current output cell\n",
       "var outputEl = gd.closest('.output');\n",
       "if (outputEl) {{\n",
       "    x.observe(outputEl, {childList: true});\n",
       "}}\n",
       "\n",
       "                        })\n",
       "                };\n",
       "                });\n",
       "            </script>\n",
       "        </div>"
      ]
     },
     "metadata": {},
     "output_type": "display_data"
    }
   ],
   "source": [
    "pneumonia_no_disch_df['CATEGORY'].value_counts().sort_values(ascending=False).iplot(kind='bar', yTitle='Number of notes', \n",
    "                                                                title='Number of category kinds in noteevents')"
   ]
  },
  {
   "cell_type": "code",
   "execution_count": 17,
   "metadata": {},
   "outputs": [
    {
     "name": "stdout",
     "output_type": "stream",
     "text": [
      "<class 'pandas.core.frame.DataFrame'>\n",
      "Int64Index: 58029 entries, 59103 to 2066669\n",
      "Data columns (total 8 columns):\n",
      " #   Column        Non-Null Count  Dtype \n",
      "---  ------        --------------  ----- \n",
      " 0   ROW_ID_x      58029 non-null  int64 \n",
      " 1   SUBJECT_ID_x  58029 non-null  int64 \n",
      " 2   CHARTDATE     58029 non-null  object\n",
      " 3   STORETIME     40888 non-null  object\n",
      " 4   CATEGORY      58029 non-null  object\n",
      " 5   DESCRIPTION   58029 non-null  object\n",
      " 6   TEXT          58029 non-null  object\n",
      " 7   DEATHTIME     11895 non-null  object\n",
      "dtypes: int64(2), object(6)\n",
      "memory usage: 4.0+ MB\n"
     ]
    }
   ],
   "source": [
    "pneumonia_no_disch_df.info()"
   ]
  },
  {
   "cell_type": "code",
   "execution_count": 18,
   "metadata": {},
   "outputs": [
    {
     "data": {
      "text/plain": [
       "(58029, 8)"
      ]
     },
     "execution_count": 18,
     "metadata": {},
     "output_type": "execute_result"
    }
   ],
   "source": [
    "pneumonia_no_disch_df.shape"
   ]
  },
  {
   "cell_type": "code",
   "execution_count": 19,
   "metadata": {},
   "outputs": [],
   "source": [
    "pneumonia_alive_no_disch = pneumonia_no_disch_df[pneumonia_no_disch_df.DEATHTIME.isnull()]\n",
    "pneumonia_dead_no_disch = pneumonia_no_disch_df[pneumonia_no_disch_df.DEATHTIME.notnull()]"
   ]
  },
  {
   "cell_type": "code",
   "execution_count": 20,
   "metadata": {},
   "outputs": [
    {
     "data": {
      "text/plain": [
       "(11895, 8)"
      ]
     },
     "execution_count": 20,
     "metadata": {},
     "output_type": "execute_result"
    }
   ],
   "source": [
    "pneumonia_dead_no_disch.shape"
   ]
  },
  {
   "cell_type": "code",
   "execution_count": 21,
   "metadata": {},
   "outputs": [
    {
     "data": {
      "text/plain": [
       "(46134, 8)"
      ]
     },
     "execution_count": 21,
     "metadata": {},
     "output_type": "execute_result"
    }
   ],
   "source": [
    "pneumonia_alive_no_disch.shape"
   ]
  },
  {
   "cell_type": "code",
   "execution_count": 22,
   "metadata": {},
   "outputs": [],
   "source": [
    "pneumonia_alive_no_disch = pneumonia_alive_no_disch.sort_values(by=['SUBJECT_ID_x','CHARTDATE', 'ROW_ID_x'])\n",
    "pneumonia_dead_no_disch = pneumonia_dead_no_disch.sort_values(by=['SUBJECT_ID_x','CHARTDATE', 'ROW_ID_x'])"
   ]
  },
  {
   "cell_type": "code",
   "execution_count": 23,
   "metadata": {},
   "outputs": [
    {
     "data": {
      "application/vnd.plotly.v1+json": {
       "config": {
        "linkText": "Export to plot.ly",
        "plotlyServerURL": "https://plot.ly",
        "showLink": true
       },
       "data": [
        {
         "marker": {
          "color": "rgba(255, 153, 51, 0.6)",
          "line": {
           "color": "rgba(255, 153, 51, 1.0)",
           "width": 1
          }
         },
         "name": "CATEGORY",
         "orientation": "v",
         "text": "",
         "type": "bar",
         "x": [
          "Nursing",
          "Nursing/other",
          "Radiology",
          "Physician ",
          "ECG",
          "Respiratory ",
          "Echo",
          "Nutrition",
          "General",
          "Rehab Services",
          "Case Management ",
          "Social Work",
          "Pharmacy"
         ],
         "y": [
          10574,
          10043,
          9448,
          8431,
          3623,
          1831,
          782,
          489,
          486,
          207,
          106,
          100,
          14
         ]
        }
       ],
       "layout": {
        "legend": {
         "bgcolor": "#F5F6F9",
         "font": {
          "color": "#4D5663"
         }
        },
        "paper_bgcolor": "#F5F6F9",
        "plot_bgcolor": "#F5F6F9",
        "template": {
         "data": {
          "bar": [
           {
            "error_x": {
             "color": "#2a3f5f"
            },
            "error_y": {
             "color": "#2a3f5f"
            },
            "marker": {
             "line": {
              "color": "#E5ECF6",
              "width": 0.5
             }
            },
            "type": "bar"
           }
          ],
          "barpolar": [
           {
            "marker": {
             "line": {
              "color": "#E5ECF6",
              "width": 0.5
             }
            },
            "type": "barpolar"
           }
          ],
          "carpet": [
           {
            "aaxis": {
             "endlinecolor": "#2a3f5f",
             "gridcolor": "white",
             "linecolor": "white",
             "minorgridcolor": "white",
             "startlinecolor": "#2a3f5f"
            },
            "baxis": {
             "endlinecolor": "#2a3f5f",
             "gridcolor": "white",
             "linecolor": "white",
             "minorgridcolor": "white",
             "startlinecolor": "#2a3f5f"
            },
            "type": "carpet"
           }
          ],
          "choropleth": [
           {
            "colorbar": {
             "outlinewidth": 0,
             "ticks": ""
            },
            "type": "choropleth"
           }
          ],
          "contour": [
           {
            "colorbar": {
             "outlinewidth": 0,
             "ticks": ""
            },
            "colorscale": [
             [
              0,
              "#0d0887"
             ],
             [
              0.1111111111111111,
              "#46039f"
             ],
             [
              0.2222222222222222,
              "#7201a8"
             ],
             [
              0.3333333333333333,
              "#9c179e"
             ],
             [
              0.4444444444444444,
              "#bd3786"
             ],
             [
              0.5555555555555556,
              "#d8576b"
             ],
             [
              0.6666666666666666,
              "#ed7953"
             ],
             [
              0.7777777777777778,
              "#fb9f3a"
             ],
             [
              0.8888888888888888,
              "#fdca26"
             ],
             [
              1,
              "#f0f921"
             ]
            ],
            "type": "contour"
           }
          ],
          "contourcarpet": [
           {
            "colorbar": {
             "outlinewidth": 0,
             "ticks": ""
            },
            "type": "contourcarpet"
           }
          ],
          "heatmap": [
           {
            "colorbar": {
             "outlinewidth": 0,
             "ticks": ""
            },
            "colorscale": [
             [
              0,
              "#0d0887"
             ],
             [
              0.1111111111111111,
              "#46039f"
             ],
             [
              0.2222222222222222,
              "#7201a8"
             ],
             [
              0.3333333333333333,
              "#9c179e"
             ],
             [
              0.4444444444444444,
              "#bd3786"
             ],
             [
              0.5555555555555556,
              "#d8576b"
             ],
             [
              0.6666666666666666,
              "#ed7953"
             ],
             [
              0.7777777777777778,
              "#fb9f3a"
             ],
             [
              0.8888888888888888,
              "#fdca26"
             ],
             [
              1,
              "#f0f921"
             ]
            ],
            "type": "heatmap"
           }
          ],
          "heatmapgl": [
           {
            "colorbar": {
             "outlinewidth": 0,
             "ticks": ""
            },
            "colorscale": [
             [
              0,
              "#0d0887"
             ],
             [
              0.1111111111111111,
              "#46039f"
             ],
             [
              0.2222222222222222,
              "#7201a8"
             ],
             [
              0.3333333333333333,
              "#9c179e"
             ],
             [
              0.4444444444444444,
              "#bd3786"
             ],
             [
              0.5555555555555556,
              "#d8576b"
             ],
             [
              0.6666666666666666,
              "#ed7953"
             ],
             [
              0.7777777777777778,
              "#fb9f3a"
             ],
             [
              0.8888888888888888,
              "#fdca26"
             ],
             [
              1,
              "#f0f921"
             ]
            ],
            "type": "heatmapgl"
           }
          ],
          "histogram": [
           {
            "marker": {
             "colorbar": {
              "outlinewidth": 0,
              "ticks": ""
             }
            },
            "type": "histogram"
           }
          ],
          "histogram2d": [
           {
            "colorbar": {
             "outlinewidth": 0,
             "ticks": ""
            },
            "colorscale": [
             [
              0,
              "#0d0887"
             ],
             [
              0.1111111111111111,
              "#46039f"
             ],
             [
              0.2222222222222222,
              "#7201a8"
             ],
             [
              0.3333333333333333,
              "#9c179e"
             ],
             [
              0.4444444444444444,
              "#bd3786"
             ],
             [
              0.5555555555555556,
              "#d8576b"
             ],
             [
              0.6666666666666666,
              "#ed7953"
             ],
             [
              0.7777777777777778,
              "#fb9f3a"
             ],
             [
              0.8888888888888888,
              "#fdca26"
             ],
             [
              1,
              "#f0f921"
             ]
            ],
            "type": "histogram2d"
           }
          ],
          "histogram2dcontour": [
           {
            "colorbar": {
             "outlinewidth": 0,
             "ticks": ""
            },
            "colorscale": [
             [
              0,
              "#0d0887"
             ],
             [
              0.1111111111111111,
              "#46039f"
             ],
             [
              0.2222222222222222,
              "#7201a8"
             ],
             [
              0.3333333333333333,
              "#9c179e"
             ],
             [
              0.4444444444444444,
              "#bd3786"
             ],
             [
              0.5555555555555556,
              "#d8576b"
             ],
             [
              0.6666666666666666,
              "#ed7953"
             ],
             [
              0.7777777777777778,
              "#fb9f3a"
             ],
             [
              0.8888888888888888,
              "#fdca26"
             ],
             [
              1,
              "#f0f921"
             ]
            ],
            "type": "histogram2dcontour"
           }
          ],
          "mesh3d": [
           {
            "colorbar": {
             "outlinewidth": 0,
             "ticks": ""
            },
            "type": "mesh3d"
           }
          ],
          "parcoords": [
           {
            "line": {
             "colorbar": {
              "outlinewidth": 0,
              "ticks": ""
             }
            },
            "type": "parcoords"
           }
          ],
          "pie": [
           {
            "automargin": true,
            "type": "pie"
           }
          ],
          "scatter": [
           {
            "marker": {
             "colorbar": {
              "outlinewidth": 0,
              "ticks": ""
             }
            },
            "type": "scatter"
           }
          ],
          "scatter3d": [
           {
            "line": {
             "colorbar": {
              "outlinewidth": 0,
              "ticks": ""
             }
            },
            "marker": {
             "colorbar": {
              "outlinewidth": 0,
              "ticks": ""
             }
            },
            "type": "scatter3d"
           }
          ],
          "scattercarpet": [
           {
            "marker": {
             "colorbar": {
              "outlinewidth": 0,
              "ticks": ""
             }
            },
            "type": "scattercarpet"
           }
          ],
          "scattergeo": [
           {
            "marker": {
             "colorbar": {
              "outlinewidth": 0,
              "ticks": ""
             }
            },
            "type": "scattergeo"
           }
          ],
          "scattergl": [
           {
            "marker": {
             "colorbar": {
              "outlinewidth": 0,
              "ticks": ""
             }
            },
            "type": "scattergl"
           }
          ],
          "scattermapbox": [
           {
            "marker": {
             "colorbar": {
              "outlinewidth": 0,
              "ticks": ""
             }
            },
            "type": "scattermapbox"
           }
          ],
          "scatterpolar": [
           {
            "marker": {
             "colorbar": {
              "outlinewidth": 0,
              "ticks": ""
             }
            },
            "type": "scatterpolar"
           }
          ],
          "scatterpolargl": [
           {
            "marker": {
             "colorbar": {
              "outlinewidth": 0,
              "ticks": ""
             }
            },
            "type": "scatterpolargl"
           }
          ],
          "scatterternary": [
           {
            "marker": {
             "colorbar": {
              "outlinewidth": 0,
              "ticks": ""
             }
            },
            "type": "scatterternary"
           }
          ],
          "surface": [
           {
            "colorbar": {
             "outlinewidth": 0,
             "ticks": ""
            },
            "colorscale": [
             [
              0,
              "#0d0887"
             ],
             [
              0.1111111111111111,
              "#46039f"
             ],
             [
              0.2222222222222222,
              "#7201a8"
             ],
             [
              0.3333333333333333,
              "#9c179e"
             ],
             [
              0.4444444444444444,
              "#bd3786"
             ],
             [
              0.5555555555555556,
              "#d8576b"
             ],
             [
              0.6666666666666666,
              "#ed7953"
             ],
             [
              0.7777777777777778,
              "#fb9f3a"
             ],
             [
              0.8888888888888888,
              "#fdca26"
             ],
             [
              1,
              "#f0f921"
             ]
            ],
            "type": "surface"
           }
          ],
          "table": [
           {
            "cells": {
             "fill": {
              "color": "#EBF0F8"
             },
             "line": {
              "color": "white"
             }
            },
            "header": {
             "fill": {
              "color": "#C8D4E3"
             },
             "line": {
              "color": "white"
             }
            },
            "type": "table"
           }
          ]
         },
         "layout": {
          "annotationdefaults": {
           "arrowcolor": "#2a3f5f",
           "arrowhead": 0,
           "arrowwidth": 1
          },
          "coloraxis": {
           "colorbar": {
            "outlinewidth": 0,
            "ticks": ""
           }
          },
          "colorscale": {
           "diverging": [
            [
             0,
             "#8e0152"
            ],
            [
             0.1,
             "#c51b7d"
            ],
            [
             0.2,
             "#de77ae"
            ],
            [
             0.3,
             "#f1b6da"
            ],
            [
             0.4,
             "#fde0ef"
            ],
            [
             0.5,
             "#f7f7f7"
            ],
            [
             0.6,
             "#e6f5d0"
            ],
            [
             0.7,
             "#b8e186"
            ],
            [
             0.8,
             "#7fbc41"
            ],
            [
             0.9,
             "#4d9221"
            ],
            [
             1,
             "#276419"
            ]
           ],
           "sequential": [
            [
             0,
             "#0d0887"
            ],
            [
             0.1111111111111111,
             "#46039f"
            ],
            [
             0.2222222222222222,
             "#7201a8"
            ],
            [
             0.3333333333333333,
             "#9c179e"
            ],
            [
             0.4444444444444444,
             "#bd3786"
            ],
            [
             0.5555555555555556,
             "#d8576b"
            ],
            [
             0.6666666666666666,
             "#ed7953"
            ],
            [
             0.7777777777777778,
             "#fb9f3a"
            ],
            [
             0.8888888888888888,
             "#fdca26"
            ],
            [
             1,
             "#f0f921"
            ]
           ],
           "sequentialminus": [
            [
             0,
             "#0d0887"
            ],
            [
             0.1111111111111111,
             "#46039f"
            ],
            [
             0.2222222222222222,
             "#7201a8"
            ],
            [
             0.3333333333333333,
             "#9c179e"
            ],
            [
             0.4444444444444444,
             "#bd3786"
            ],
            [
             0.5555555555555556,
             "#d8576b"
            ],
            [
             0.6666666666666666,
             "#ed7953"
            ],
            [
             0.7777777777777778,
             "#fb9f3a"
            ],
            [
             0.8888888888888888,
             "#fdca26"
            ],
            [
             1,
             "#f0f921"
            ]
           ]
          },
          "colorway": [
           "#636efa",
           "#EF553B",
           "#00cc96",
           "#ab63fa",
           "#FFA15A",
           "#19d3f3",
           "#FF6692",
           "#B6E880",
           "#FF97FF",
           "#FECB52"
          ],
          "font": {
           "color": "#2a3f5f"
          },
          "geo": {
           "bgcolor": "white",
           "lakecolor": "white",
           "landcolor": "#E5ECF6",
           "showlakes": true,
           "showland": true,
           "subunitcolor": "white"
          },
          "hoverlabel": {
           "align": "left"
          },
          "hovermode": "closest",
          "mapbox": {
           "style": "light"
          },
          "paper_bgcolor": "white",
          "plot_bgcolor": "#E5ECF6",
          "polar": {
           "angularaxis": {
            "gridcolor": "white",
            "linecolor": "white",
            "ticks": ""
           },
           "bgcolor": "#E5ECF6",
           "radialaxis": {
            "gridcolor": "white",
            "linecolor": "white",
            "ticks": ""
           }
          },
          "scene": {
           "xaxis": {
            "backgroundcolor": "#E5ECF6",
            "gridcolor": "white",
            "gridwidth": 2,
            "linecolor": "white",
            "showbackground": true,
            "ticks": "",
            "zerolinecolor": "white"
           },
           "yaxis": {
            "backgroundcolor": "#E5ECF6",
            "gridcolor": "white",
            "gridwidth": 2,
            "linecolor": "white",
            "showbackground": true,
            "ticks": "",
            "zerolinecolor": "white"
           },
           "zaxis": {
            "backgroundcolor": "#E5ECF6",
            "gridcolor": "white",
            "gridwidth": 2,
            "linecolor": "white",
            "showbackground": true,
            "ticks": "",
            "zerolinecolor": "white"
           }
          },
          "shapedefaults": {
           "line": {
            "color": "#2a3f5f"
           }
          },
          "ternary": {
           "aaxis": {
            "gridcolor": "white",
            "linecolor": "white",
            "ticks": ""
           },
           "baxis": {
            "gridcolor": "white",
            "linecolor": "white",
            "ticks": ""
           },
           "bgcolor": "#E5ECF6",
           "caxis": {
            "gridcolor": "white",
            "linecolor": "white",
            "ticks": ""
           }
          },
          "title": {
           "x": 0.05
          },
          "xaxis": {
           "automargin": true,
           "gridcolor": "white",
           "linecolor": "white",
           "ticks": "",
           "title": {
            "standoff": 15
           },
           "zerolinecolor": "white",
           "zerolinewidth": 2
          },
          "yaxis": {
           "automargin": true,
           "gridcolor": "white",
           "linecolor": "white",
           "ticks": "",
           "title": {
            "standoff": 15
           },
           "zerolinecolor": "white",
           "zerolinewidth": 2
          }
         }
        },
        "title": {
         "font": {
          "color": "#4D5663"
         },
         "text": "Number of category kinds in pneumonia alive"
        },
        "xaxis": {
         "gridcolor": "#E1E5ED",
         "showgrid": true,
         "tickfont": {
          "color": "#4D5663"
         },
         "title": {
          "font": {
           "color": "#4D5663"
          },
          "text": ""
         },
         "zerolinecolor": "#E1E5ED"
        },
        "yaxis": {
         "gridcolor": "#E1E5ED",
         "showgrid": true,
         "tickfont": {
          "color": "#4D5663"
         },
         "title": {
          "font": {
           "color": "#4D5663"
          },
          "text": "Number of notes"
         },
         "zerolinecolor": "#E1E5ED"
        }
       }
      },
      "text/html": [
       "<div>\n",
       "        \n",
       "        \n",
       "            <div id=\"bc1deace-2c96-4f76-b6c8-ec0bbfd3b1b5\" class=\"plotly-graph-div\" style=\"height:525px; width:100%;\"></div>\n",
       "            <script type=\"text/javascript\">\n",
       "                require([\"plotly\"], function(Plotly) {\n",
       "                    window.PLOTLYENV=window.PLOTLYENV || {};\n",
       "                    window.PLOTLYENV.BASE_URL='https://plot.ly';\n",
       "                    \n",
       "                if (document.getElementById(\"bc1deace-2c96-4f76-b6c8-ec0bbfd3b1b5\")) {\n",
       "                    Plotly.newPlot(\n",
       "                        'bc1deace-2c96-4f76-b6c8-ec0bbfd3b1b5',\n",
       "                        [{\"marker\": {\"color\": \"rgba(255, 153, 51, 0.6)\", \"line\": {\"color\": \"rgba(255, 153, 51, 1.0)\", \"width\": 1}}, \"name\": \"CATEGORY\", \"orientation\": \"v\", \"text\": \"\", \"type\": \"bar\", \"x\": [\"Nursing\", \"Nursing/other\", \"Radiology\", \"Physician \", \"ECG\", \"Respiratory \", \"Echo\", \"Nutrition\", \"General\", \"Rehab Services\", \"Case Management \", \"Social Work\", \"Pharmacy\"], \"y\": [10574, 10043, 9448, 8431, 3623, 1831, 782, 489, 486, 207, 106, 100, 14]}],\n",
       "                        {\"legend\": {\"bgcolor\": \"#F5F6F9\", \"font\": {\"color\": \"#4D5663\"}}, \"paper_bgcolor\": \"#F5F6F9\", \"plot_bgcolor\": \"#F5F6F9\", \"template\": {\"data\": {\"bar\": [{\"error_x\": {\"color\": \"#2a3f5f\"}, \"error_y\": {\"color\": \"#2a3f5f\"}, \"marker\": {\"line\": {\"color\": \"#E5ECF6\", \"width\": 0.5}}, \"type\": \"bar\"}], \"barpolar\": [{\"marker\": {\"line\": {\"color\": \"#E5ECF6\", \"width\": 0.5}}, \"type\": \"barpolar\"}], \"carpet\": [{\"aaxis\": {\"endlinecolor\": \"#2a3f5f\", \"gridcolor\": \"white\", \"linecolor\": \"white\", \"minorgridcolor\": \"white\", \"startlinecolor\": \"#2a3f5f\"}, \"baxis\": {\"endlinecolor\": \"#2a3f5f\", \"gridcolor\": \"white\", \"linecolor\": \"white\", \"minorgridcolor\": \"white\", \"startlinecolor\": \"#2a3f5f\"}, \"type\": \"carpet\"}], \"choropleth\": [{\"colorbar\": {\"outlinewidth\": 0, \"ticks\": \"\"}, \"type\": \"choropleth\"}], \"contour\": [{\"colorbar\": {\"outlinewidth\": 0, \"ticks\": \"\"}, \"colorscale\": [[0.0, \"#0d0887\"], [0.1111111111111111, \"#46039f\"], [0.2222222222222222, \"#7201a8\"], [0.3333333333333333, \"#9c179e\"], [0.4444444444444444, \"#bd3786\"], [0.5555555555555556, \"#d8576b\"], [0.6666666666666666, \"#ed7953\"], [0.7777777777777778, \"#fb9f3a\"], [0.8888888888888888, \"#fdca26\"], [1.0, \"#f0f921\"]], \"type\": \"contour\"}], \"contourcarpet\": [{\"colorbar\": {\"outlinewidth\": 0, \"ticks\": \"\"}, \"type\": \"contourcarpet\"}], \"heatmap\": [{\"colorbar\": {\"outlinewidth\": 0, \"ticks\": \"\"}, \"colorscale\": [[0.0, \"#0d0887\"], [0.1111111111111111, \"#46039f\"], [0.2222222222222222, \"#7201a8\"], [0.3333333333333333, \"#9c179e\"], [0.4444444444444444, \"#bd3786\"], [0.5555555555555556, \"#d8576b\"], [0.6666666666666666, \"#ed7953\"], [0.7777777777777778, \"#fb9f3a\"], [0.8888888888888888, \"#fdca26\"], [1.0, \"#f0f921\"]], \"type\": \"heatmap\"}], \"heatmapgl\": [{\"colorbar\": {\"outlinewidth\": 0, \"ticks\": \"\"}, \"colorscale\": [[0.0, \"#0d0887\"], [0.1111111111111111, \"#46039f\"], [0.2222222222222222, \"#7201a8\"], [0.3333333333333333, \"#9c179e\"], [0.4444444444444444, \"#bd3786\"], [0.5555555555555556, \"#d8576b\"], [0.6666666666666666, \"#ed7953\"], [0.7777777777777778, \"#fb9f3a\"], [0.8888888888888888, \"#fdca26\"], [1.0, \"#f0f921\"]], \"type\": \"heatmapgl\"}], \"histogram\": [{\"marker\": {\"colorbar\": {\"outlinewidth\": 0, \"ticks\": \"\"}}, \"type\": \"histogram\"}], \"histogram2d\": [{\"colorbar\": {\"outlinewidth\": 0, \"ticks\": \"\"}, \"colorscale\": [[0.0, \"#0d0887\"], [0.1111111111111111, \"#46039f\"], [0.2222222222222222, \"#7201a8\"], [0.3333333333333333, \"#9c179e\"], [0.4444444444444444, \"#bd3786\"], [0.5555555555555556, \"#d8576b\"], [0.6666666666666666, \"#ed7953\"], [0.7777777777777778, \"#fb9f3a\"], [0.8888888888888888, \"#fdca26\"], [1.0, \"#f0f921\"]], \"type\": \"histogram2d\"}], \"histogram2dcontour\": [{\"colorbar\": {\"outlinewidth\": 0, \"ticks\": \"\"}, \"colorscale\": [[0.0, \"#0d0887\"], [0.1111111111111111, \"#46039f\"], [0.2222222222222222, \"#7201a8\"], [0.3333333333333333, \"#9c179e\"], [0.4444444444444444, \"#bd3786\"], [0.5555555555555556, \"#d8576b\"], [0.6666666666666666, \"#ed7953\"], [0.7777777777777778, \"#fb9f3a\"], [0.8888888888888888, \"#fdca26\"], [1.0, \"#f0f921\"]], \"type\": \"histogram2dcontour\"}], \"mesh3d\": [{\"colorbar\": {\"outlinewidth\": 0, \"ticks\": \"\"}, \"type\": \"mesh3d\"}], \"parcoords\": [{\"line\": {\"colorbar\": {\"outlinewidth\": 0, \"ticks\": \"\"}}, \"type\": \"parcoords\"}], \"pie\": [{\"automargin\": true, \"type\": \"pie\"}], \"scatter\": [{\"marker\": {\"colorbar\": {\"outlinewidth\": 0, \"ticks\": \"\"}}, \"type\": \"scatter\"}], \"scatter3d\": [{\"line\": {\"colorbar\": {\"outlinewidth\": 0, \"ticks\": \"\"}}, \"marker\": {\"colorbar\": {\"outlinewidth\": 0, \"ticks\": \"\"}}, \"type\": \"scatter3d\"}], \"scattercarpet\": [{\"marker\": {\"colorbar\": {\"outlinewidth\": 0, \"ticks\": \"\"}}, \"type\": \"scattercarpet\"}], \"scattergeo\": [{\"marker\": {\"colorbar\": {\"outlinewidth\": 0, \"ticks\": \"\"}}, \"type\": \"scattergeo\"}], \"scattergl\": [{\"marker\": {\"colorbar\": {\"outlinewidth\": 0, \"ticks\": \"\"}}, \"type\": \"scattergl\"}], \"scattermapbox\": [{\"marker\": {\"colorbar\": {\"outlinewidth\": 0, \"ticks\": \"\"}}, \"type\": \"scattermapbox\"}], \"scatterpolar\": [{\"marker\": {\"colorbar\": {\"outlinewidth\": 0, \"ticks\": \"\"}}, \"type\": \"scatterpolar\"}], \"scatterpolargl\": [{\"marker\": {\"colorbar\": {\"outlinewidth\": 0, \"ticks\": \"\"}}, \"type\": \"scatterpolargl\"}], \"scatterternary\": [{\"marker\": {\"colorbar\": {\"outlinewidth\": 0, \"ticks\": \"\"}}, \"type\": \"scatterternary\"}], \"surface\": [{\"colorbar\": {\"outlinewidth\": 0, \"ticks\": \"\"}, \"colorscale\": [[0.0, \"#0d0887\"], [0.1111111111111111, \"#46039f\"], [0.2222222222222222, \"#7201a8\"], [0.3333333333333333, \"#9c179e\"], [0.4444444444444444, \"#bd3786\"], [0.5555555555555556, \"#d8576b\"], [0.6666666666666666, \"#ed7953\"], [0.7777777777777778, \"#fb9f3a\"], [0.8888888888888888, \"#fdca26\"], [1.0, \"#f0f921\"]], \"type\": \"surface\"}], \"table\": [{\"cells\": {\"fill\": {\"color\": \"#EBF0F8\"}, \"line\": {\"color\": \"white\"}}, \"header\": {\"fill\": {\"color\": \"#C8D4E3\"}, \"line\": {\"color\": \"white\"}}, \"type\": \"table\"}]}, \"layout\": {\"annotationdefaults\": {\"arrowcolor\": \"#2a3f5f\", \"arrowhead\": 0, \"arrowwidth\": 1}, \"coloraxis\": {\"colorbar\": {\"outlinewidth\": 0, \"ticks\": \"\"}}, \"colorscale\": {\"diverging\": [[0, \"#8e0152\"], [0.1, \"#c51b7d\"], [0.2, \"#de77ae\"], [0.3, \"#f1b6da\"], [0.4, \"#fde0ef\"], [0.5, \"#f7f7f7\"], [0.6, \"#e6f5d0\"], [0.7, \"#b8e186\"], [0.8, \"#7fbc41\"], [0.9, \"#4d9221\"], [1, \"#276419\"]], \"sequential\": [[0.0, \"#0d0887\"], [0.1111111111111111, \"#46039f\"], [0.2222222222222222, \"#7201a8\"], [0.3333333333333333, \"#9c179e\"], [0.4444444444444444, \"#bd3786\"], [0.5555555555555556, \"#d8576b\"], [0.6666666666666666, \"#ed7953\"], [0.7777777777777778, \"#fb9f3a\"], [0.8888888888888888, \"#fdca26\"], [1.0, \"#f0f921\"]], \"sequentialminus\": [[0.0, \"#0d0887\"], [0.1111111111111111, \"#46039f\"], [0.2222222222222222, \"#7201a8\"], [0.3333333333333333, \"#9c179e\"], [0.4444444444444444, \"#bd3786\"], [0.5555555555555556, \"#d8576b\"], [0.6666666666666666, \"#ed7953\"], [0.7777777777777778, \"#fb9f3a\"], [0.8888888888888888, \"#fdca26\"], [1.0, \"#f0f921\"]]}, \"colorway\": [\"#636efa\", \"#EF553B\", \"#00cc96\", \"#ab63fa\", \"#FFA15A\", \"#19d3f3\", \"#FF6692\", \"#B6E880\", \"#FF97FF\", \"#FECB52\"], \"font\": {\"color\": \"#2a3f5f\"}, \"geo\": {\"bgcolor\": \"white\", \"lakecolor\": \"white\", \"landcolor\": \"#E5ECF6\", \"showlakes\": true, \"showland\": true, \"subunitcolor\": \"white\"}, \"hoverlabel\": {\"align\": \"left\"}, \"hovermode\": \"closest\", \"mapbox\": {\"style\": \"light\"}, \"paper_bgcolor\": \"white\", \"plot_bgcolor\": \"#E5ECF6\", \"polar\": {\"angularaxis\": {\"gridcolor\": \"white\", \"linecolor\": \"white\", \"ticks\": \"\"}, \"bgcolor\": \"#E5ECF6\", \"radialaxis\": {\"gridcolor\": \"white\", \"linecolor\": \"white\", \"ticks\": \"\"}}, \"scene\": {\"xaxis\": {\"backgroundcolor\": \"#E5ECF6\", \"gridcolor\": \"white\", \"gridwidth\": 2, \"linecolor\": \"white\", \"showbackground\": true, \"ticks\": \"\", \"zerolinecolor\": \"white\"}, \"yaxis\": {\"backgroundcolor\": \"#E5ECF6\", \"gridcolor\": \"white\", \"gridwidth\": 2, \"linecolor\": \"white\", \"showbackground\": true, \"ticks\": \"\", \"zerolinecolor\": \"white\"}, \"zaxis\": {\"backgroundcolor\": \"#E5ECF6\", \"gridcolor\": \"white\", \"gridwidth\": 2, \"linecolor\": \"white\", \"showbackground\": true, \"ticks\": \"\", \"zerolinecolor\": \"white\"}}, \"shapedefaults\": {\"line\": {\"color\": \"#2a3f5f\"}}, \"ternary\": {\"aaxis\": {\"gridcolor\": \"white\", \"linecolor\": \"white\", \"ticks\": \"\"}, \"baxis\": {\"gridcolor\": \"white\", \"linecolor\": \"white\", \"ticks\": \"\"}, \"bgcolor\": \"#E5ECF6\", \"caxis\": {\"gridcolor\": \"white\", \"linecolor\": \"white\", \"ticks\": \"\"}}, \"title\": {\"x\": 0.05}, \"xaxis\": {\"automargin\": true, \"gridcolor\": \"white\", \"linecolor\": \"white\", \"ticks\": \"\", \"title\": {\"standoff\": 15}, \"zerolinecolor\": \"white\", \"zerolinewidth\": 2}, \"yaxis\": {\"automargin\": true, \"gridcolor\": \"white\", \"linecolor\": \"white\", \"ticks\": \"\", \"title\": {\"standoff\": 15}, \"zerolinecolor\": \"white\", \"zerolinewidth\": 2}}}, \"title\": {\"font\": {\"color\": \"#4D5663\"}, \"text\": \"Number of category kinds in pneumonia alive\"}, \"xaxis\": {\"gridcolor\": \"#E1E5ED\", \"showgrid\": true, \"tickfont\": {\"color\": \"#4D5663\"}, \"title\": {\"font\": {\"color\": \"#4D5663\"}, \"text\": \"\"}, \"zerolinecolor\": \"#E1E5ED\"}, \"yaxis\": {\"gridcolor\": \"#E1E5ED\", \"showgrid\": true, \"tickfont\": {\"color\": \"#4D5663\"}, \"title\": {\"font\": {\"color\": \"#4D5663\"}, \"text\": \"Number of notes\"}, \"zerolinecolor\": \"#E1E5ED\"}},\n",
       "                        {\"showLink\": true, \"linkText\": \"Export to plot.ly\", \"plotlyServerURL\": \"https://plot.ly\", \"responsive\": true}\n",
       "                    ).then(function(){\n",
       "                            \n",
       "var gd = document.getElementById('bc1deace-2c96-4f76-b6c8-ec0bbfd3b1b5');\n",
       "var x = new MutationObserver(function (mutations, observer) {{\n",
       "        var display = window.getComputedStyle(gd).display;\n",
       "        if (!display || display === 'none') {{\n",
       "            console.log([gd, 'removed!']);\n",
       "            Plotly.purge(gd);\n",
       "            observer.disconnect();\n",
       "        }}\n",
       "}});\n",
       "\n",
       "// Listen for the removal of the full notebook cells\n",
       "var notebookContainer = gd.closest('#notebook-container');\n",
       "if (notebookContainer) {{\n",
       "    x.observe(notebookContainer, {childList: true});\n",
       "}}\n",
       "\n",
       "// Listen for the clearing of the current output cell\n",
       "var outputEl = gd.closest('.output');\n",
       "if (outputEl) {{\n",
       "    x.observe(outputEl, {childList: true});\n",
       "}}\n",
       "\n",
       "                        })\n",
       "                };\n",
       "                });\n",
       "            </script>\n",
       "        </div>"
      ]
     },
     "metadata": {},
     "output_type": "display_data"
    }
   ],
   "source": [
    "pneumonia_alive_no_disch['CATEGORY'].value_counts().sort_values(ascending=False).iplot(kind='bar', yTitle='Number of notes', \n",
    "                                                                title='Number of category kinds in pneumonia alive')"
   ]
  },
  {
   "cell_type": "code",
   "execution_count": 24,
   "metadata": {
    "scrolled": false
   },
   "outputs": [
    {
     "data": {
      "application/vnd.plotly.v1+json": {
       "config": {
        "linkText": "Export to plot.ly",
        "plotlyServerURL": "https://plot.ly",
        "showLink": true
       },
       "data": [
        {
         "marker": {
          "color": "rgba(255, 153, 51, 0.6)",
          "line": {
           "color": "rgba(255, 153, 51, 1.0)",
           "width": 1
          }
         },
         "name": "CATEGORY",
         "orientation": "v",
         "text": "",
         "type": "bar",
         "x": [
          "Nursing",
          "Nursing/other",
          "Radiology",
          "Physician ",
          "ECG",
          "Respiratory ",
          "General",
          "Echo",
          "Nutrition",
          "Social Work",
          "Case Management ",
          "Rehab Services",
          "Pharmacy",
          "Consult"
         ],
         "y": [
          2682,
          2650,
          2275,
          2212,
          846,
          623,
          194,
          167,
          149,
          42,
          29,
          24,
          1,
          1
         ]
        }
       ],
       "layout": {
        "legend": {
         "bgcolor": "#F5F6F9",
         "font": {
          "color": "#4D5663"
         }
        },
        "paper_bgcolor": "#F5F6F9",
        "plot_bgcolor": "#F5F6F9",
        "template": {
         "data": {
          "bar": [
           {
            "error_x": {
             "color": "#2a3f5f"
            },
            "error_y": {
             "color": "#2a3f5f"
            },
            "marker": {
             "line": {
              "color": "#E5ECF6",
              "width": 0.5
             }
            },
            "type": "bar"
           }
          ],
          "barpolar": [
           {
            "marker": {
             "line": {
              "color": "#E5ECF6",
              "width": 0.5
             }
            },
            "type": "barpolar"
           }
          ],
          "carpet": [
           {
            "aaxis": {
             "endlinecolor": "#2a3f5f",
             "gridcolor": "white",
             "linecolor": "white",
             "minorgridcolor": "white",
             "startlinecolor": "#2a3f5f"
            },
            "baxis": {
             "endlinecolor": "#2a3f5f",
             "gridcolor": "white",
             "linecolor": "white",
             "minorgridcolor": "white",
             "startlinecolor": "#2a3f5f"
            },
            "type": "carpet"
           }
          ],
          "choropleth": [
           {
            "colorbar": {
             "outlinewidth": 0,
             "ticks": ""
            },
            "type": "choropleth"
           }
          ],
          "contour": [
           {
            "colorbar": {
             "outlinewidth": 0,
             "ticks": ""
            },
            "colorscale": [
             [
              0,
              "#0d0887"
             ],
             [
              0.1111111111111111,
              "#46039f"
             ],
             [
              0.2222222222222222,
              "#7201a8"
             ],
             [
              0.3333333333333333,
              "#9c179e"
             ],
             [
              0.4444444444444444,
              "#bd3786"
             ],
             [
              0.5555555555555556,
              "#d8576b"
             ],
             [
              0.6666666666666666,
              "#ed7953"
             ],
             [
              0.7777777777777778,
              "#fb9f3a"
             ],
             [
              0.8888888888888888,
              "#fdca26"
             ],
             [
              1,
              "#f0f921"
             ]
            ],
            "type": "contour"
           }
          ],
          "contourcarpet": [
           {
            "colorbar": {
             "outlinewidth": 0,
             "ticks": ""
            },
            "type": "contourcarpet"
           }
          ],
          "heatmap": [
           {
            "colorbar": {
             "outlinewidth": 0,
             "ticks": ""
            },
            "colorscale": [
             [
              0,
              "#0d0887"
             ],
             [
              0.1111111111111111,
              "#46039f"
             ],
             [
              0.2222222222222222,
              "#7201a8"
             ],
             [
              0.3333333333333333,
              "#9c179e"
             ],
             [
              0.4444444444444444,
              "#bd3786"
             ],
             [
              0.5555555555555556,
              "#d8576b"
             ],
             [
              0.6666666666666666,
              "#ed7953"
             ],
             [
              0.7777777777777778,
              "#fb9f3a"
             ],
             [
              0.8888888888888888,
              "#fdca26"
             ],
             [
              1,
              "#f0f921"
             ]
            ],
            "type": "heatmap"
           }
          ],
          "heatmapgl": [
           {
            "colorbar": {
             "outlinewidth": 0,
             "ticks": ""
            },
            "colorscale": [
             [
              0,
              "#0d0887"
             ],
             [
              0.1111111111111111,
              "#46039f"
             ],
             [
              0.2222222222222222,
              "#7201a8"
             ],
             [
              0.3333333333333333,
              "#9c179e"
             ],
             [
              0.4444444444444444,
              "#bd3786"
             ],
             [
              0.5555555555555556,
              "#d8576b"
             ],
             [
              0.6666666666666666,
              "#ed7953"
             ],
             [
              0.7777777777777778,
              "#fb9f3a"
             ],
             [
              0.8888888888888888,
              "#fdca26"
             ],
             [
              1,
              "#f0f921"
             ]
            ],
            "type": "heatmapgl"
           }
          ],
          "histogram": [
           {
            "marker": {
             "colorbar": {
              "outlinewidth": 0,
              "ticks": ""
             }
            },
            "type": "histogram"
           }
          ],
          "histogram2d": [
           {
            "colorbar": {
             "outlinewidth": 0,
             "ticks": ""
            },
            "colorscale": [
             [
              0,
              "#0d0887"
             ],
             [
              0.1111111111111111,
              "#46039f"
             ],
             [
              0.2222222222222222,
              "#7201a8"
             ],
             [
              0.3333333333333333,
              "#9c179e"
             ],
             [
              0.4444444444444444,
              "#bd3786"
             ],
             [
              0.5555555555555556,
              "#d8576b"
             ],
             [
              0.6666666666666666,
              "#ed7953"
             ],
             [
              0.7777777777777778,
              "#fb9f3a"
             ],
             [
              0.8888888888888888,
              "#fdca26"
             ],
             [
              1,
              "#f0f921"
             ]
            ],
            "type": "histogram2d"
           }
          ],
          "histogram2dcontour": [
           {
            "colorbar": {
             "outlinewidth": 0,
             "ticks": ""
            },
            "colorscale": [
             [
              0,
              "#0d0887"
             ],
             [
              0.1111111111111111,
              "#46039f"
             ],
             [
              0.2222222222222222,
              "#7201a8"
             ],
             [
              0.3333333333333333,
              "#9c179e"
             ],
             [
              0.4444444444444444,
              "#bd3786"
             ],
             [
              0.5555555555555556,
              "#d8576b"
             ],
             [
              0.6666666666666666,
              "#ed7953"
             ],
             [
              0.7777777777777778,
              "#fb9f3a"
             ],
             [
              0.8888888888888888,
              "#fdca26"
             ],
             [
              1,
              "#f0f921"
             ]
            ],
            "type": "histogram2dcontour"
           }
          ],
          "mesh3d": [
           {
            "colorbar": {
             "outlinewidth": 0,
             "ticks": ""
            },
            "type": "mesh3d"
           }
          ],
          "parcoords": [
           {
            "line": {
             "colorbar": {
              "outlinewidth": 0,
              "ticks": ""
             }
            },
            "type": "parcoords"
           }
          ],
          "pie": [
           {
            "automargin": true,
            "type": "pie"
           }
          ],
          "scatter": [
           {
            "marker": {
             "colorbar": {
              "outlinewidth": 0,
              "ticks": ""
             }
            },
            "type": "scatter"
           }
          ],
          "scatter3d": [
           {
            "line": {
             "colorbar": {
              "outlinewidth": 0,
              "ticks": ""
             }
            },
            "marker": {
             "colorbar": {
              "outlinewidth": 0,
              "ticks": ""
             }
            },
            "type": "scatter3d"
           }
          ],
          "scattercarpet": [
           {
            "marker": {
             "colorbar": {
              "outlinewidth": 0,
              "ticks": ""
             }
            },
            "type": "scattercarpet"
           }
          ],
          "scattergeo": [
           {
            "marker": {
             "colorbar": {
              "outlinewidth": 0,
              "ticks": ""
             }
            },
            "type": "scattergeo"
           }
          ],
          "scattergl": [
           {
            "marker": {
             "colorbar": {
              "outlinewidth": 0,
              "ticks": ""
             }
            },
            "type": "scattergl"
           }
          ],
          "scattermapbox": [
           {
            "marker": {
             "colorbar": {
              "outlinewidth": 0,
              "ticks": ""
             }
            },
            "type": "scattermapbox"
           }
          ],
          "scatterpolar": [
           {
            "marker": {
             "colorbar": {
              "outlinewidth": 0,
              "ticks": ""
             }
            },
            "type": "scatterpolar"
           }
          ],
          "scatterpolargl": [
           {
            "marker": {
             "colorbar": {
              "outlinewidth": 0,
              "ticks": ""
             }
            },
            "type": "scatterpolargl"
           }
          ],
          "scatterternary": [
           {
            "marker": {
             "colorbar": {
              "outlinewidth": 0,
              "ticks": ""
             }
            },
            "type": "scatterternary"
           }
          ],
          "surface": [
           {
            "colorbar": {
             "outlinewidth": 0,
             "ticks": ""
            },
            "colorscale": [
             [
              0,
              "#0d0887"
             ],
             [
              0.1111111111111111,
              "#46039f"
             ],
             [
              0.2222222222222222,
              "#7201a8"
             ],
             [
              0.3333333333333333,
              "#9c179e"
             ],
             [
              0.4444444444444444,
              "#bd3786"
             ],
             [
              0.5555555555555556,
              "#d8576b"
             ],
             [
              0.6666666666666666,
              "#ed7953"
             ],
             [
              0.7777777777777778,
              "#fb9f3a"
             ],
             [
              0.8888888888888888,
              "#fdca26"
             ],
             [
              1,
              "#f0f921"
             ]
            ],
            "type": "surface"
           }
          ],
          "table": [
           {
            "cells": {
             "fill": {
              "color": "#EBF0F8"
             },
             "line": {
              "color": "white"
             }
            },
            "header": {
             "fill": {
              "color": "#C8D4E3"
             },
             "line": {
              "color": "white"
             }
            },
            "type": "table"
           }
          ]
         },
         "layout": {
          "annotationdefaults": {
           "arrowcolor": "#2a3f5f",
           "arrowhead": 0,
           "arrowwidth": 1
          },
          "coloraxis": {
           "colorbar": {
            "outlinewidth": 0,
            "ticks": ""
           }
          },
          "colorscale": {
           "diverging": [
            [
             0,
             "#8e0152"
            ],
            [
             0.1,
             "#c51b7d"
            ],
            [
             0.2,
             "#de77ae"
            ],
            [
             0.3,
             "#f1b6da"
            ],
            [
             0.4,
             "#fde0ef"
            ],
            [
             0.5,
             "#f7f7f7"
            ],
            [
             0.6,
             "#e6f5d0"
            ],
            [
             0.7,
             "#b8e186"
            ],
            [
             0.8,
             "#7fbc41"
            ],
            [
             0.9,
             "#4d9221"
            ],
            [
             1,
             "#276419"
            ]
           ],
           "sequential": [
            [
             0,
             "#0d0887"
            ],
            [
             0.1111111111111111,
             "#46039f"
            ],
            [
             0.2222222222222222,
             "#7201a8"
            ],
            [
             0.3333333333333333,
             "#9c179e"
            ],
            [
             0.4444444444444444,
             "#bd3786"
            ],
            [
             0.5555555555555556,
             "#d8576b"
            ],
            [
             0.6666666666666666,
             "#ed7953"
            ],
            [
             0.7777777777777778,
             "#fb9f3a"
            ],
            [
             0.8888888888888888,
             "#fdca26"
            ],
            [
             1,
             "#f0f921"
            ]
           ],
           "sequentialminus": [
            [
             0,
             "#0d0887"
            ],
            [
             0.1111111111111111,
             "#46039f"
            ],
            [
             0.2222222222222222,
             "#7201a8"
            ],
            [
             0.3333333333333333,
             "#9c179e"
            ],
            [
             0.4444444444444444,
             "#bd3786"
            ],
            [
             0.5555555555555556,
             "#d8576b"
            ],
            [
             0.6666666666666666,
             "#ed7953"
            ],
            [
             0.7777777777777778,
             "#fb9f3a"
            ],
            [
             0.8888888888888888,
             "#fdca26"
            ],
            [
             1,
             "#f0f921"
            ]
           ]
          },
          "colorway": [
           "#636efa",
           "#EF553B",
           "#00cc96",
           "#ab63fa",
           "#FFA15A",
           "#19d3f3",
           "#FF6692",
           "#B6E880",
           "#FF97FF",
           "#FECB52"
          ],
          "font": {
           "color": "#2a3f5f"
          },
          "geo": {
           "bgcolor": "white",
           "lakecolor": "white",
           "landcolor": "#E5ECF6",
           "showlakes": true,
           "showland": true,
           "subunitcolor": "white"
          },
          "hoverlabel": {
           "align": "left"
          },
          "hovermode": "closest",
          "mapbox": {
           "style": "light"
          },
          "paper_bgcolor": "white",
          "plot_bgcolor": "#E5ECF6",
          "polar": {
           "angularaxis": {
            "gridcolor": "white",
            "linecolor": "white",
            "ticks": ""
           },
           "bgcolor": "#E5ECF6",
           "radialaxis": {
            "gridcolor": "white",
            "linecolor": "white",
            "ticks": ""
           }
          },
          "scene": {
           "xaxis": {
            "backgroundcolor": "#E5ECF6",
            "gridcolor": "white",
            "gridwidth": 2,
            "linecolor": "white",
            "showbackground": true,
            "ticks": "",
            "zerolinecolor": "white"
           },
           "yaxis": {
            "backgroundcolor": "#E5ECF6",
            "gridcolor": "white",
            "gridwidth": 2,
            "linecolor": "white",
            "showbackground": true,
            "ticks": "",
            "zerolinecolor": "white"
           },
           "zaxis": {
            "backgroundcolor": "#E5ECF6",
            "gridcolor": "white",
            "gridwidth": 2,
            "linecolor": "white",
            "showbackground": true,
            "ticks": "",
            "zerolinecolor": "white"
           }
          },
          "shapedefaults": {
           "line": {
            "color": "#2a3f5f"
           }
          },
          "ternary": {
           "aaxis": {
            "gridcolor": "white",
            "linecolor": "white",
            "ticks": ""
           },
           "baxis": {
            "gridcolor": "white",
            "linecolor": "white",
            "ticks": ""
           },
           "bgcolor": "#E5ECF6",
           "caxis": {
            "gridcolor": "white",
            "linecolor": "white",
            "ticks": ""
           }
          },
          "title": {
           "x": 0.05
          },
          "xaxis": {
           "automargin": true,
           "gridcolor": "white",
           "linecolor": "white",
           "ticks": "",
           "title": {
            "standoff": 15
           },
           "zerolinecolor": "white",
           "zerolinewidth": 2
          },
          "yaxis": {
           "automargin": true,
           "gridcolor": "white",
           "linecolor": "white",
           "ticks": "",
           "title": {
            "standoff": 15
           },
           "zerolinecolor": "white",
           "zerolinewidth": 2
          }
         }
        },
        "title": {
         "font": {
          "color": "#4D5663"
         },
         "text": "Number of category kinds in pneumonia alive"
        },
        "xaxis": {
         "gridcolor": "#E1E5ED",
         "showgrid": true,
         "tickfont": {
          "color": "#4D5663"
         },
         "title": {
          "font": {
           "color": "#4D5663"
          },
          "text": ""
         },
         "zerolinecolor": "#E1E5ED"
        },
        "yaxis": {
         "gridcolor": "#E1E5ED",
         "showgrid": true,
         "tickfont": {
          "color": "#4D5663"
         },
         "title": {
          "font": {
           "color": "#4D5663"
          },
          "text": "Number of notes"
         },
         "zerolinecolor": "#E1E5ED"
        }
       }
      },
      "text/html": [
       "<div>\n",
       "        \n",
       "        \n",
       "            <div id=\"33093643-716f-4645-8ad4-02f54553ea29\" class=\"plotly-graph-div\" style=\"height:525px; width:100%;\"></div>\n",
       "            <script type=\"text/javascript\">\n",
       "                require([\"plotly\"], function(Plotly) {\n",
       "                    window.PLOTLYENV=window.PLOTLYENV || {};\n",
       "                    window.PLOTLYENV.BASE_URL='https://plot.ly';\n",
       "                    \n",
       "                if (document.getElementById(\"33093643-716f-4645-8ad4-02f54553ea29\")) {\n",
       "                    Plotly.newPlot(\n",
       "                        '33093643-716f-4645-8ad4-02f54553ea29',\n",
       "                        [{\"marker\": {\"color\": \"rgba(255, 153, 51, 0.6)\", \"line\": {\"color\": \"rgba(255, 153, 51, 1.0)\", \"width\": 1}}, \"name\": \"CATEGORY\", \"orientation\": \"v\", \"text\": \"\", \"type\": \"bar\", \"x\": [\"Nursing\", \"Nursing/other\", \"Radiology\", \"Physician \", \"ECG\", \"Respiratory \", \"General\", \"Echo\", \"Nutrition\", \"Social Work\", \"Case Management \", \"Rehab Services\", \"Pharmacy\", \"Consult\"], \"y\": [2682, 2650, 2275, 2212, 846, 623, 194, 167, 149, 42, 29, 24, 1, 1]}],\n",
       "                        {\"legend\": {\"bgcolor\": \"#F5F6F9\", \"font\": {\"color\": \"#4D5663\"}}, \"paper_bgcolor\": \"#F5F6F9\", \"plot_bgcolor\": \"#F5F6F9\", \"template\": {\"data\": {\"bar\": [{\"error_x\": {\"color\": \"#2a3f5f\"}, \"error_y\": {\"color\": \"#2a3f5f\"}, \"marker\": {\"line\": {\"color\": \"#E5ECF6\", \"width\": 0.5}}, \"type\": \"bar\"}], \"barpolar\": [{\"marker\": {\"line\": {\"color\": \"#E5ECF6\", \"width\": 0.5}}, \"type\": \"barpolar\"}], \"carpet\": [{\"aaxis\": {\"endlinecolor\": \"#2a3f5f\", \"gridcolor\": \"white\", \"linecolor\": \"white\", \"minorgridcolor\": \"white\", \"startlinecolor\": \"#2a3f5f\"}, \"baxis\": {\"endlinecolor\": \"#2a3f5f\", \"gridcolor\": \"white\", \"linecolor\": \"white\", \"minorgridcolor\": \"white\", \"startlinecolor\": \"#2a3f5f\"}, \"type\": \"carpet\"}], \"choropleth\": [{\"colorbar\": {\"outlinewidth\": 0, \"ticks\": \"\"}, \"type\": \"choropleth\"}], \"contour\": [{\"colorbar\": {\"outlinewidth\": 0, \"ticks\": \"\"}, \"colorscale\": [[0.0, \"#0d0887\"], [0.1111111111111111, \"#46039f\"], [0.2222222222222222, \"#7201a8\"], [0.3333333333333333, \"#9c179e\"], [0.4444444444444444, \"#bd3786\"], [0.5555555555555556, \"#d8576b\"], [0.6666666666666666, \"#ed7953\"], [0.7777777777777778, \"#fb9f3a\"], [0.8888888888888888, \"#fdca26\"], [1.0, \"#f0f921\"]], \"type\": \"contour\"}], \"contourcarpet\": [{\"colorbar\": {\"outlinewidth\": 0, \"ticks\": \"\"}, \"type\": \"contourcarpet\"}], \"heatmap\": [{\"colorbar\": {\"outlinewidth\": 0, \"ticks\": \"\"}, \"colorscale\": [[0.0, \"#0d0887\"], [0.1111111111111111, \"#46039f\"], [0.2222222222222222, \"#7201a8\"], [0.3333333333333333, \"#9c179e\"], [0.4444444444444444, \"#bd3786\"], [0.5555555555555556, \"#d8576b\"], [0.6666666666666666, \"#ed7953\"], [0.7777777777777778, \"#fb9f3a\"], [0.8888888888888888, \"#fdca26\"], [1.0, \"#f0f921\"]], \"type\": \"heatmap\"}], \"heatmapgl\": [{\"colorbar\": {\"outlinewidth\": 0, \"ticks\": \"\"}, \"colorscale\": [[0.0, \"#0d0887\"], [0.1111111111111111, \"#46039f\"], [0.2222222222222222, \"#7201a8\"], [0.3333333333333333, \"#9c179e\"], [0.4444444444444444, \"#bd3786\"], [0.5555555555555556, \"#d8576b\"], [0.6666666666666666, \"#ed7953\"], [0.7777777777777778, \"#fb9f3a\"], [0.8888888888888888, \"#fdca26\"], [1.0, \"#f0f921\"]], \"type\": \"heatmapgl\"}], \"histogram\": [{\"marker\": {\"colorbar\": {\"outlinewidth\": 0, \"ticks\": \"\"}}, \"type\": \"histogram\"}], \"histogram2d\": [{\"colorbar\": {\"outlinewidth\": 0, \"ticks\": \"\"}, \"colorscale\": [[0.0, \"#0d0887\"], [0.1111111111111111, \"#46039f\"], [0.2222222222222222, \"#7201a8\"], [0.3333333333333333, \"#9c179e\"], [0.4444444444444444, \"#bd3786\"], [0.5555555555555556, \"#d8576b\"], [0.6666666666666666, \"#ed7953\"], [0.7777777777777778, \"#fb9f3a\"], [0.8888888888888888, \"#fdca26\"], [1.0, \"#f0f921\"]], \"type\": \"histogram2d\"}], \"histogram2dcontour\": [{\"colorbar\": {\"outlinewidth\": 0, \"ticks\": \"\"}, \"colorscale\": [[0.0, \"#0d0887\"], [0.1111111111111111, \"#46039f\"], [0.2222222222222222, \"#7201a8\"], [0.3333333333333333, \"#9c179e\"], [0.4444444444444444, \"#bd3786\"], [0.5555555555555556, \"#d8576b\"], [0.6666666666666666, \"#ed7953\"], [0.7777777777777778, \"#fb9f3a\"], [0.8888888888888888, \"#fdca26\"], [1.0, \"#f0f921\"]], \"type\": \"histogram2dcontour\"}], \"mesh3d\": [{\"colorbar\": {\"outlinewidth\": 0, \"ticks\": \"\"}, \"type\": \"mesh3d\"}], \"parcoords\": [{\"line\": {\"colorbar\": {\"outlinewidth\": 0, \"ticks\": \"\"}}, \"type\": \"parcoords\"}], \"pie\": [{\"automargin\": true, \"type\": \"pie\"}], \"scatter\": [{\"marker\": {\"colorbar\": {\"outlinewidth\": 0, \"ticks\": \"\"}}, \"type\": \"scatter\"}], \"scatter3d\": [{\"line\": {\"colorbar\": {\"outlinewidth\": 0, \"ticks\": \"\"}}, \"marker\": {\"colorbar\": {\"outlinewidth\": 0, \"ticks\": \"\"}}, \"type\": \"scatter3d\"}], \"scattercarpet\": [{\"marker\": {\"colorbar\": {\"outlinewidth\": 0, \"ticks\": \"\"}}, \"type\": \"scattercarpet\"}], \"scattergeo\": [{\"marker\": {\"colorbar\": {\"outlinewidth\": 0, \"ticks\": \"\"}}, \"type\": \"scattergeo\"}], \"scattergl\": [{\"marker\": {\"colorbar\": {\"outlinewidth\": 0, \"ticks\": \"\"}}, \"type\": \"scattergl\"}], \"scattermapbox\": [{\"marker\": {\"colorbar\": {\"outlinewidth\": 0, \"ticks\": \"\"}}, \"type\": \"scattermapbox\"}], \"scatterpolar\": [{\"marker\": {\"colorbar\": {\"outlinewidth\": 0, \"ticks\": \"\"}}, \"type\": \"scatterpolar\"}], \"scatterpolargl\": [{\"marker\": {\"colorbar\": {\"outlinewidth\": 0, \"ticks\": \"\"}}, \"type\": \"scatterpolargl\"}], \"scatterternary\": [{\"marker\": {\"colorbar\": {\"outlinewidth\": 0, \"ticks\": \"\"}}, \"type\": \"scatterternary\"}], \"surface\": [{\"colorbar\": {\"outlinewidth\": 0, \"ticks\": \"\"}, \"colorscale\": [[0.0, \"#0d0887\"], [0.1111111111111111, \"#46039f\"], [0.2222222222222222, \"#7201a8\"], [0.3333333333333333, \"#9c179e\"], [0.4444444444444444, \"#bd3786\"], [0.5555555555555556, \"#d8576b\"], [0.6666666666666666, \"#ed7953\"], [0.7777777777777778, \"#fb9f3a\"], [0.8888888888888888, \"#fdca26\"], [1.0, \"#f0f921\"]], \"type\": \"surface\"}], \"table\": [{\"cells\": {\"fill\": {\"color\": \"#EBF0F8\"}, \"line\": {\"color\": \"white\"}}, \"header\": {\"fill\": {\"color\": \"#C8D4E3\"}, \"line\": {\"color\": \"white\"}}, \"type\": \"table\"}]}, \"layout\": {\"annotationdefaults\": {\"arrowcolor\": \"#2a3f5f\", \"arrowhead\": 0, \"arrowwidth\": 1}, \"coloraxis\": {\"colorbar\": {\"outlinewidth\": 0, \"ticks\": \"\"}}, \"colorscale\": {\"diverging\": [[0, \"#8e0152\"], [0.1, \"#c51b7d\"], [0.2, \"#de77ae\"], [0.3, \"#f1b6da\"], [0.4, \"#fde0ef\"], [0.5, \"#f7f7f7\"], [0.6, \"#e6f5d0\"], [0.7, \"#b8e186\"], [0.8, \"#7fbc41\"], [0.9, \"#4d9221\"], [1, \"#276419\"]], \"sequential\": [[0.0, \"#0d0887\"], [0.1111111111111111, \"#46039f\"], [0.2222222222222222, \"#7201a8\"], [0.3333333333333333, \"#9c179e\"], [0.4444444444444444, \"#bd3786\"], [0.5555555555555556, \"#d8576b\"], [0.6666666666666666, \"#ed7953\"], [0.7777777777777778, \"#fb9f3a\"], [0.8888888888888888, \"#fdca26\"], [1.0, \"#f0f921\"]], \"sequentialminus\": [[0.0, \"#0d0887\"], [0.1111111111111111, \"#46039f\"], [0.2222222222222222, \"#7201a8\"], [0.3333333333333333, \"#9c179e\"], [0.4444444444444444, \"#bd3786\"], [0.5555555555555556, \"#d8576b\"], [0.6666666666666666, \"#ed7953\"], [0.7777777777777778, \"#fb9f3a\"], [0.8888888888888888, \"#fdca26\"], [1.0, \"#f0f921\"]]}, \"colorway\": [\"#636efa\", \"#EF553B\", \"#00cc96\", \"#ab63fa\", \"#FFA15A\", \"#19d3f3\", \"#FF6692\", \"#B6E880\", \"#FF97FF\", \"#FECB52\"], \"font\": {\"color\": \"#2a3f5f\"}, \"geo\": {\"bgcolor\": \"white\", \"lakecolor\": \"white\", \"landcolor\": \"#E5ECF6\", \"showlakes\": true, \"showland\": true, \"subunitcolor\": \"white\"}, \"hoverlabel\": {\"align\": \"left\"}, \"hovermode\": \"closest\", \"mapbox\": {\"style\": \"light\"}, \"paper_bgcolor\": \"white\", \"plot_bgcolor\": \"#E5ECF6\", \"polar\": {\"angularaxis\": {\"gridcolor\": \"white\", \"linecolor\": \"white\", \"ticks\": \"\"}, \"bgcolor\": \"#E5ECF6\", \"radialaxis\": {\"gridcolor\": \"white\", \"linecolor\": \"white\", \"ticks\": \"\"}}, \"scene\": {\"xaxis\": {\"backgroundcolor\": \"#E5ECF6\", \"gridcolor\": \"white\", \"gridwidth\": 2, \"linecolor\": \"white\", \"showbackground\": true, \"ticks\": \"\", \"zerolinecolor\": \"white\"}, \"yaxis\": {\"backgroundcolor\": \"#E5ECF6\", \"gridcolor\": \"white\", \"gridwidth\": 2, \"linecolor\": \"white\", \"showbackground\": true, \"ticks\": \"\", \"zerolinecolor\": \"white\"}, \"zaxis\": {\"backgroundcolor\": \"#E5ECF6\", \"gridcolor\": \"white\", \"gridwidth\": 2, \"linecolor\": \"white\", \"showbackground\": true, \"ticks\": \"\", \"zerolinecolor\": \"white\"}}, \"shapedefaults\": {\"line\": {\"color\": \"#2a3f5f\"}}, \"ternary\": {\"aaxis\": {\"gridcolor\": \"white\", \"linecolor\": \"white\", \"ticks\": \"\"}, \"baxis\": {\"gridcolor\": \"white\", \"linecolor\": \"white\", \"ticks\": \"\"}, \"bgcolor\": \"#E5ECF6\", \"caxis\": {\"gridcolor\": \"white\", \"linecolor\": \"white\", \"ticks\": \"\"}}, \"title\": {\"x\": 0.05}, \"xaxis\": {\"automargin\": true, \"gridcolor\": \"white\", \"linecolor\": \"white\", \"ticks\": \"\", \"title\": {\"standoff\": 15}, \"zerolinecolor\": \"white\", \"zerolinewidth\": 2}, \"yaxis\": {\"automargin\": true, \"gridcolor\": \"white\", \"linecolor\": \"white\", \"ticks\": \"\", \"title\": {\"standoff\": 15}, \"zerolinecolor\": \"white\", \"zerolinewidth\": 2}}}, \"title\": {\"font\": {\"color\": \"#4D5663\"}, \"text\": \"Number of category kinds in pneumonia alive\"}, \"xaxis\": {\"gridcolor\": \"#E1E5ED\", \"showgrid\": true, \"tickfont\": {\"color\": \"#4D5663\"}, \"title\": {\"font\": {\"color\": \"#4D5663\"}, \"text\": \"\"}, \"zerolinecolor\": \"#E1E5ED\"}, \"yaxis\": {\"gridcolor\": \"#E1E5ED\", \"showgrid\": true, \"tickfont\": {\"color\": \"#4D5663\"}, \"title\": {\"font\": {\"color\": \"#4D5663\"}, \"text\": \"Number of notes\"}, \"zerolinecolor\": \"#E1E5ED\"}},\n",
       "                        {\"showLink\": true, \"linkText\": \"Export to plot.ly\", \"plotlyServerURL\": \"https://plot.ly\", \"responsive\": true}\n",
       "                    ).then(function(){\n",
       "                            \n",
       "var gd = document.getElementById('33093643-716f-4645-8ad4-02f54553ea29');\n",
       "var x = new MutationObserver(function (mutations, observer) {{\n",
       "        var display = window.getComputedStyle(gd).display;\n",
       "        if (!display || display === 'none') {{\n",
       "            console.log([gd, 'removed!']);\n",
       "            Plotly.purge(gd);\n",
       "            observer.disconnect();\n",
       "        }}\n",
       "}});\n",
       "\n",
       "// Listen for the removal of the full notebook cells\n",
       "var notebookContainer = gd.closest('#notebook-container');\n",
       "if (notebookContainer) {{\n",
       "    x.observe(notebookContainer, {childList: true});\n",
       "}}\n",
       "\n",
       "// Listen for the clearing of the current output cell\n",
       "var outputEl = gd.closest('.output');\n",
       "if (outputEl) {{\n",
       "    x.observe(outputEl, {childList: true});\n",
       "}}\n",
       "\n",
       "                        })\n",
       "                };\n",
       "                });\n",
       "            </script>\n",
       "        </div>"
      ]
     },
     "metadata": {},
     "output_type": "display_data"
    }
   ],
   "source": [
    "pneumonia_dead_no_disch['CATEGORY'].value_counts().sort_values(ascending=False).iplot(kind='bar', yTitle='Number of notes', \n",
    "                                                                title='Number of category kinds in pneumonia alive')"
   ]
  },
  {
   "cell_type": "code",
   "execution_count": 25,
   "metadata": {},
   "outputs": [
    {
     "data": {
      "text/html": [
       "<div>\n",
       "<style scoped>\n",
       "    .dataframe tbody tr th:only-of-type {\n",
       "        vertical-align: middle;\n",
       "    }\n",
       "\n",
       "    .dataframe tbody tr th {\n",
       "        vertical-align: top;\n",
       "    }\n",
       "\n",
       "    .dataframe thead th {\n",
       "        text-align: right;\n",
       "    }\n",
       "</style>\n",
       "<table border=\"1\" class=\"dataframe\">\n",
       "  <thead>\n",
       "    <tr style=\"text-align: right;\">\n",
       "      <th></th>\n",
       "      <th>ROW_ID_x</th>\n",
       "      <th>SUBJECT_ID_x</th>\n",
       "      <th>CHARTDATE</th>\n",
       "      <th>STORETIME</th>\n",
       "      <th>CATEGORY</th>\n",
       "      <th>DESCRIPTION</th>\n",
       "      <th>TEXT</th>\n",
       "      <th>DEATHTIME</th>\n",
       "    </tr>\n",
       "  </thead>\n",
       "  <tbody>\n",
       "    <tr>\n",
       "      <th>137480</th>\n",
       "      <td>149869</td>\n",
       "      <td>68</td>\n",
       "      <td>2173-12-15</td>\n",
       "      <td>NaN</td>\n",
       "      <td>ECG</td>\n",
       "      <td>Report</td>\n",
       "      <td>Sinus tachycardia. Compared to the previous tr...</td>\n",
       "      <td>NaN</td>\n",
       "    </tr>\n",
       "    <tr>\n",
       "      <th>137481</th>\n",
       "      <td>149870</td>\n",
       "      <td>68</td>\n",
       "      <td>2173-12-15</td>\n",
       "      <td>NaN</td>\n",
       "      <td>ECG</td>\n",
       "      <td>Report</td>\n",
       "      <td>Sinus rhythm. Delayed anterior precordial R wa...</td>\n",
       "      <td>NaN</td>\n",
       "    </tr>\n",
       "    <tr>\n",
       "      <th>1259578</th>\n",
       "      <td>1261173</td>\n",
       "      <td>68</td>\n",
       "      <td>2173-12-16</td>\n",
       "      <td>2173-12-16 05:09:00</td>\n",
       "      <td>Nursing/other</td>\n",
       "      <td>Report</td>\n",
       "      <td>Micu nsg admission note\\n41yo female with AIDS...</td>\n",
       "      <td>NaN</td>\n",
       "    </tr>\n",
       "    <tr>\n",
       "      <th>1259579</th>\n",
       "      <td>1261174</td>\n",
       "      <td>68</td>\n",
       "      <td>2173-12-16</td>\n",
       "      <td>2173-12-16 17:08:00</td>\n",
       "      <td>Nursing/other</td>\n",
       "      <td>Report</td>\n",
       "      <td>NSG 0700-1900\\nEvents: Attempted eating breakf...</td>\n",
       "      <td>NaN</td>\n",
       "    </tr>\n",
       "    <tr>\n",
       "      <th>1258821</th>\n",
       "      <td>1261175</td>\n",
       "      <td>68</td>\n",
       "      <td>2173-12-16</td>\n",
       "      <td>2173-12-16 17:18:00</td>\n",
       "      <td>Nursing/other</td>\n",
       "      <td>Report</td>\n",
       "      <td>Resp Care\\n\\nSputum induction obtained for PCP...</td>\n",
       "      <td>NaN</td>\n",
       "    </tr>\n",
       "    <tr>\n",
       "      <th>...</th>\n",
       "      <td>...</td>\n",
       "      <td>...</td>\n",
       "      <td>...</td>\n",
       "      <td>...</td>\n",
       "      <td>...</td>\n",
       "      <td>...</td>\n",
       "      <td>...</td>\n",
       "      <td>...</td>\n",
       "    </tr>\n",
       "    <tr>\n",
       "      <th>1129253</th>\n",
       "      <td>1138542</td>\n",
       "      <td>99937</td>\n",
       "      <td>2128-05-11</td>\n",
       "      <td>NaN</td>\n",
       "      <td>Radiology</td>\n",
       "      <td>CHEST (PORTABLE AP)</td>\n",
       "      <td>[**2128-5-11**] 11:57 AM\\n CHEST (PORTABLE AP)...</td>\n",
       "      <td>NaN</td>\n",
       "    </tr>\n",
       "    <tr>\n",
       "      <th>1129150</th>\n",
       "      <td>1138569</td>\n",
       "      <td>99937</td>\n",
       "      <td>2128-05-11</td>\n",
       "      <td>NaN</td>\n",
       "      <td>Radiology</td>\n",
       "      <td>CTA CHEST W&amp;W/O C&amp;RECONS, NON-CORONARY</td>\n",
       "      <td>[**2128-5-11**] 1:44 PM\\n CTA CHEST W&amp;W/O C&amp;RE...</td>\n",
       "      <td>NaN</td>\n",
       "    </tr>\n",
       "    <tr>\n",
       "      <th>148040</th>\n",
       "      <td>130595</td>\n",
       "      <td>99937</td>\n",
       "      <td>2128-05-12</td>\n",
       "      <td>NaN</td>\n",
       "      <td>ECG</td>\n",
       "      <td>Report</td>\n",
       "      <td>Normal sinus rhythm. Compared to tracing #1 no...</td>\n",
       "      <td>NaN</td>\n",
       "    </tr>\n",
       "    <tr>\n",
       "      <th>1129514</th>\n",
       "      <td>1138666</td>\n",
       "      <td>99937</td>\n",
       "      <td>2128-05-12</td>\n",
       "      <td>NaN</td>\n",
       "      <td>Radiology</td>\n",
       "      <td>CHEST (PORTABLE AP)</td>\n",
       "      <td>[**2128-5-12**] 7:27 AM\\n CHEST (PORTABLE AP) ...</td>\n",
       "      <td>NaN</td>\n",
       "    </tr>\n",
       "    <tr>\n",
       "      <th>65449</th>\n",
       "      <td>65037</td>\n",
       "      <td>99937</td>\n",
       "      <td>2128-05-13</td>\n",
       "      <td>NaN</td>\n",
       "      <td>Echo</td>\n",
       "      <td>Report</td>\n",
       "      <td>PATIENT/TEST INFORMATION:\\nIndication: Left ve...</td>\n",
       "      <td>NaN</td>\n",
       "    </tr>\n",
       "  </tbody>\n",
       "</table>\n",
       "<p>46134 rows × 8 columns</p>\n",
       "</div>"
      ],
      "text/plain": [
       "         ROW_ID_x  SUBJECT_ID_x   CHARTDATE            STORETIME  \\\n",
       "137480     149869            68  2173-12-15                  NaN   \n",
       "137481     149870            68  2173-12-15                  NaN   \n",
       "1259578   1261173            68  2173-12-16  2173-12-16 05:09:00   \n",
       "1259579   1261174            68  2173-12-16  2173-12-16 17:08:00   \n",
       "1258821   1261175            68  2173-12-16  2173-12-16 17:18:00   \n",
       "...           ...           ...         ...                  ...   \n",
       "1129253   1138542         99937  2128-05-11                  NaN   \n",
       "1129150   1138569         99937  2128-05-11                  NaN   \n",
       "148040     130595         99937  2128-05-12                  NaN   \n",
       "1129514   1138666         99937  2128-05-12                  NaN   \n",
       "65449       65037         99937  2128-05-13                  NaN   \n",
       "\n",
       "              CATEGORY                             DESCRIPTION  \\\n",
       "137480             ECG                                  Report   \n",
       "137481             ECG                                  Report   \n",
       "1259578  Nursing/other                                  Report   \n",
       "1259579  Nursing/other                                  Report   \n",
       "1258821  Nursing/other                                  Report   \n",
       "...                ...                                     ...   \n",
       "1129253      Radiology                     CHEST (PORTABLE AP)   \n",
       "1129150      Radiology  CTA CHEST W&W/O C&RECONS, NON-CORONARY   \n",
       "148040             ECG                                  Report   \n",
       "1129514      Radiology                     CHEST (PORTABLE AP)   \n",
       "65449             Echo                                  Report   \n",
       "\n",
       "                                                      TEXT DEATHTIME  \n",
       "137480   Sinus tachycardia. Compared to the previous tr...       NaN  \n",
       "137481   Sinus rhythm. Delayed anterior precordial R wa...       NaN  \n",
       "1259578  Micu nsg admission note\\n41yo female with AIDS...       NaN  \n",
       "1259579  NSG 0700-1900\\nEvents: Attempted eating breakf...       NaN  \n",
       "1258821  Resp Care\\n\\nSputum induction obtained for PCP...       NaN  \n",
       "...                                                    ...       ...  \n",
       "1129253  [**2128-5-11**] 11:57 AM\\n CHEST (PORTABLE AP)...       NaN  \n",
       "1129150  [**2128-5-11**] 1:44 PM\\n CTA CHEST W&W/O C&RE...       NaN  \n",
       "148040   Normal sinus rhythm. Compared to tracing #1 no...       NaN  \n",
       "1129514  [**2128-5-12**] 7:27 AM\\n CHEST (PORTABLE AP) ...       NaN  \n",
       "65449    PATIENT/TEST INFORMATION:\\nIndication: Left ve...       NaN  \n",
       "\n",
       "[46134 rows x 8 columns]"
      ]
     },
     "execution_count": 25,
     "metadata": {},
     "output_type": "execute_result"
    }
   ],
   "source": [
    "pneumonia_alive_no_disch"
   ]
  },
  {
   "cell_type": "code",
   "execution_count": 26,
   "metadata": {},
   "outputs": [
    {
     "data": {
      "text/plain": [
       "252"
      ]
     },
     "execution_count": 26,
     "metadata": {},
     "output_type": "execute_result"
    }
   ],
   "source": [
    "# Number of patients\n",
    "pneumonia_dead_no_disch['SUBJECT_ID_x'].nunique()"
   ]
  },
  {
   "cell_type": "code",
   "execution_count": 27,
   "metadata": {
    "scrolled": true
   },
   "outputs": [
    {
     "data": {
      "text/plain": [
       "1167"
      ]
     },
     "execution_count": 27,
     "metadata": {},
     "output_type": "execute_result"
    }
   ],
   "source": [
    "# Number of patients\n",
    "pneumonia_alive_no_disch['SUBJECT_ID_x'].nunique()"
   ]
  },
  {
   "cell_type": "code",
   "execution_count": 28,
   "metadata": {},
   "outputs": [],
   "source": [
    "# import text handling tool\n",
    "from nltk.tokenize import word_tokenize\n",
    "from nltk.corpus import stopwords\n",
    "from nltk.stem import PorterStemmer\n",
    "\n",
    "from collections import Counter\n",
    "\n",
    "import sys\n",
    "import re\n",
    "import csv\n",
    "import os.path\n",
    "\n",
    "# define constants\n",
    "# RESULT_HEADER = \"WORD, FREQUENCY\\n\"\n",
    "MIN_SEQ_LEN = 4\n",
    "USE_1_N_SEQ = 2\n",
    "\n",
    "\n",
    "# words that do not have meaning (can be modified later)\n",
    "USELESS_WORDS = [\"a\", \"the\", \"he\", \"she\", \",\", \".\", \"?\", \"!\", \":\", \";\", \"+\", \"*\", \"**\"\\\n",
    "                 \"your\", \"you\"]\n",
    "\n",
    "# count up the frequency of every word in every disease file\n",
    "stemmer = PorterStemmer()\n",
    "# create set of words to ignore in text\n",
    "stop_words = set(stopwords.words('english'))\n",
    "\n",
    "for word in USELESS_WORDS:\n",
    "    stop_words.add(word)"
   ]
  },
  {
   "cell_type": "code",
   "execution_count": null,
   "metadata": {},
   "outputs": [],
   "source": []
  },
  {
   "cell_type": "code",
   "execution_count": 29,
   "metadata": {},
   "outputs": [
    {
     "name": "stderr",
     "output_type": "stream",
     "text": [
      "100%|██████████| 11895/11895 [00:01<00:00, 9972.41it/s] \n",
      "100%|██████████| 46134/46134 [00:04<00:00, 10782.28it/s]\n"
     ]
    }
   ],
   "source": [
    "\n",
    "#----------\n",
    "def count_notes_per_patient(disease_df):\n",
    "    patient_id_to_num_notes = {}\n",
    "    patient_id = -1\n",
    "    note_counter = 0\n",
    "            \n",
    "    for index, row in tqdm(disease_df.iterrows(), total=disease_df.shape[0]):\n",
    "        patient_id_check = int(row['SUBJECT_ID_x'])\n",
    "                \n",
    "        if not patient_id == patient_id_check:\n",
    "            patient_id_to_num_notes[patient_id] = note_counter\n",
    "            note_counter = 1\n",
    "        else:\n",
    "            note_counter += 1\n",
    "                    \n",
    "        patient_id = patient_id_check\n",
    "                \n",
    "    patient_id_to_num_notes[patient_id] = note_counter\n",
    "    del patient_id_to_num_notes[-1]\n",
    "    return patient_id_to_num_notes\n",
    "\n",
    "patient_id_to_num_notes = {}\n",
    "patient_id_to_num_notes['pneumonia_dead'] = count_notes_per_patient(pneumonia_dead_no_disch)\n",
    "patient_id_to_num_notes['pneumonia_alive'] = count_notes_per_patient(pneumonia_alive_no_disch)"
   ]
  },
  {
   "cell_type": "code",
   "execution_count": 30,
   "metadata": {},
   "outputs": [
    {
     "data": {
      "text/plain": [
       "{'pneumonia_dead': {111: 12,\n",
       "  346: 25,\n",
       "  404: 3,\n",
       "  546: 6,\n",
       "  618: 16,\n",
       "  705: 15,\n",
       "  726: 48,\n",
       "  1039: 55,\n",
       "  1556: 37,\n",
       "  1872: 3,\n",
       "  1944: 56,\n",
       "  2286: 69,\n",
       "  2990: 166,\n",
       "  3055: 29,\n",
       "  3099: 13,\n",
       "  3201: 8,\n",
       "  3526: 7,\n",
       "  3773: 6,\n",
       "  3881: 20,\n",
       "  4122: 51,\n",
       "  4754: 101,\n",
       "  4811: 21,\n",
       "  5476: 1,\n",
       "  5494: 22,\n",
       "  5774: 104,\n",
       "  5786: 152,\n",
       "  5913: 1,\n",
       "  6133: 68,\n",
       "  6735: 13,\n",
       "  6745: 13,\n",
       "  6973: 36,\n",
       "  6981: 8,\n",
       "  7277: 66,\n",
       "  7310: 8,\n",
       "  7924: 9,\n",
       "  7977: 9,\n",
       "  9908: 11,\n",
       "  9984: 15,\n",
       "  10302: 100,\n",
       "  10510: 86,\n",
       "  10545: 10,\n",
       "  10642: 10,\n",
       "  11049: 14,\n",
       "  11209: 9,\n",
       "  11395: 41,\n",
       "  12530: 24,\n",
       "  12849: 50,\n",
       "  13098: 46,\n",
       "  13566: 23,\n",
       "  14125: 9,\n",
       "  14514: 96,\n",
       "  14965: 25,\n",
       "  15159: 15,\n",
       "  15251: 11,\n",
       "  15396: 17,\n",
       "  15566: 37,\n",
       "  15853: 45,\n",
       "  16275: 17,\n",
       "  16344: 27,\n",
       "  16622: 51,\n",
       "  16684: 29,\n",
       "  17122: 16,\n",
       "  17354: 5,\n",
       "  17802: 64,\n",
       "  17983: 65,\n",
       "  18094: 23,\n",
       "  18736: 35,\n",
       "  18768: 46,\n",
       "  18848: 205,\n",
       "  18971: 26,\n",
       "  19243: 25,\n",
       "  19323: 6,\n",
       "  19390: 21,\n",
       "  19463: 20,\n",
       "  19535: 59,\n",
       "  19754: 13,\n",
       "  19827: 22,\n",
       "  19833: 58,\n",
       "  19872: 10,\n",
       "  20006: 8,\n",
       "  20023: 9,\n",
       "  20190: 6,\n",
       "  21046: 101,\n",
       "  21094: 36,\n",
       "  21427: 10,\n",
       "  21502: 102,\n",
       "  21580: 52,\n",
       "  21676: 12,\n",
       "  21699: 7,\n",
       "  21979: 11,\n",
       "  22735: 15,\n",
       "  23660: 12,\n",
       "  23795: 78,\n",
       "  24181: 13,\n",
       "  24582: 37,\n",
       "  24725: 57,\n",
       "  24730: 19,\n",
       "  24854: 25,\n",
       "  25003: 182,\n",
       "  25046: 7,\n",
       "  25774: 61,\n",
       "  25975: 9,\n",
       "  26474: 89,\n",
       "  26578: 15,\n",
       "  26716: 41,\n",
       "  26774: 3,\n",
       "  26849: 33,\n",
       "  27005: 5,\n",
       "  27145: 24,\n",
       "  27421: 61,\n",
       "  27431: 5,\n",
       "  27496: 7,\n",
       "  27504: 72,\n",
       "  27639: 221,\n",
       "  28004: 13,\n",
       "  28072: 34,\n",
       "  28178: 202,\n",
       "  28427: 6,\n",
       "  28498: 25,\n",
       "  28726: 34,\n",
       "  28750: 19,\n",
       "  28906: 32,\n",
       "  28907: 13,\n",
       "  28933: 394,\n",
       "  29105: 468,\n",
       "  29588: 72,\n",
       "  29647: 26,\n",
       "  29872: 225,\n",
       "  30476: 174,\n",
       "  30549: 12,\n",
       "  30614: 8,\n",
       "  30699: 14,\n",
       "  30786: 9,\n",
       "  30941: 110,\n",
       "  31030: 168,\n",
       "  31134: 24,\n",
       "  31139: 9,\n",
       "  31451: 48,\n",
       "  31556: 57,\n",
       "  31690: 18,\n",
       "  31692: 35,\n",
       "  32050: 34,\n",
       "  32326: 24,\n",
       "  32618: 42,\n",
       "  41546: 25,\n",
       "  43937: 6,\n",
       "  44851: 274,\n",
       "  45381: 16,\n",
       "  46589: 26,\n",
       "  46763: 6,\n",
       "  47045: 9,\n",
       "  48632: 147,\n",
       "  49079: 20,\n",
       "  49683: 3,\n",
       "  49922: 13,\n",
       "  50093: 8,\n",
       "  50231: 3,\n",
       "  50556: 216,\n",
       "  50859: 537,\n",
       "  51914: 313,\n",
       "  52010: 12,\n",
       "  53105: 115,\n",
       "  53399: 78,\n",
       "  54193: 85,\n",
       "  54401: 14,\n",
       "  54408: 2,\n",
       "  54739: 75,\n",
       "  54946: 7,\n",
       "  55400: 5,\n",
       "  55570: 14,\n",
       "  55887: 37,\n",
       "  55944: 34,\n",
       "  55987: 20,\n",
       "  56390: 19,\n",
       "  56648: 8,\n",
       "  56854: 170,\n",
       "  57091: 88,\n",
       "  57102: 35,\n",
       "  58702: 479,\n",
       "  59260: 11,\n",
       "  59437: 26,\n",
       "  60849: 2,\n",
       "  60868: 6,\n",
       "  61652: 7,\n",
       "  61667: 30,\n",
       "  63039: 8,\n",
       "  65513: 8,\n",
       "  68044: 40,\n",
       "  68095: 23,\n",
       "  68184: 5,\n",
       "  68308: 8,\n",
       "  68860: 14,\n",
       "  69719: 13,\n",
       "  69745: 25,\n",
       "  69776: 17,\n",
       "  70226: 8,\n",
       "  70447: 9,\n",
       "  72930: 11,\n",
       "  73811: 9,\n",
       "  73888: 109,\n",
       "  74316: 2,\n",
       "  74444: 81,\n",
       "  74686: 75,\n",
       "  75824: 10,\n",
       "  76282: 21,\n",
       "  76827: 2,\n",
       "  77382: 10,\n",
       "  78241: 3,\n",
       "  78388: 14,\n",
       "  79008: 27,\n",
       "  79055: 21,\n",
       "  79222: 18,\n",
       "  79877: 156,\n",
       "  80637: 148,\n",
       "  80678: 9,\n",
       "  80737: 46,\n",
       "  80805: 79,\n",
       "  81437: 27,\n",
       "  82393: 5,\n",
       "  82769: 85,\n",
       "  83932: 2,\n",
       "  84474: 34,\n",
       "  85160: 8,\n",
       "  85258: 52,\n",
       "  85404: 11,\n",
       "  85797: 9,\n",
       "  86007: 35,\n",
       "  86394: 4,\n",
       "  86684: 11,\n",
       "  86832: 67,\n",
       "  86863: 8,\n",
       "  86872: 326,\n",
       "  88193: 16,\n",
       "  88660: 11,\n",
       "  90256: 18,\n",
       "  91350: 19,\n",
       "  92074: 28,\n",
       "  92278: 52,\n",
       "  92331: 42,\n",
       "  93422: 7,\n",
       "  94341: 2,\n",
       "  94997: 9,\n",
       "  95280: 23,\n",
       "  95803: 18,\n",
       "  95830: 33,\n",
       "  95933: 56,\n",
       "  96699: 85,\n",
       "  97181: 30,\n",
       "  97795: 60,\n",
       "  98009: 33,\n",
       "  98299: 29,\n",
       "  98597: 2},\n",
       " 'pneumonia_alive': {68: 18,\n",
       "  85: 8,\n",
       "  94: 100,\n",
       "  165: 2,\n",
       "  211: 24,\n",
       "  224: 8,\n",
       "  231: 75,\n",
       "  283: 131,\n",
       "  357: 17,\n",
       "  368: 45,\n",
       "  370: 13,\n",
       "  384: 26,\n",
       "  426: 10,\n",
       "  509: 34,\n",
       "  514: 7,\n",
       "  596: 23,\n",
       "  674: 16,\n",
       "  707: 29,\n",
       "  711: 537,\n",
       "  770: 83,\n",
       "  773: 74,\n",
       "  899: 17,\n",
       "  1096: 17,\n",
       "  1135: 32,\n",
       "  1163: 12,\n",
       "  1174: 42,\n",
       "  1180: 5,\n",
       "  1283: 3,\n",
       "  1332: 66,\n",
       "  1339: 134,\n",
       "  1546: 21,\n",
       "  1568: 22,\n",
       "  1601: 12,\n",
       "  1606: 13,\n",
       "  1642: 4,\n",
       "  1660: 23,\n",
       "  1895: 22,\n",
       "  1923: 23,\n",
       "  2029: 175,\n",
       "  2090: 179,\n",
       "  2098: 26,\n",
       "  2128: 31,\n",
       "  2170: 9,\n",
       "  2187: 30,\n",
       "  2208: 139,\n",
       "  2337: 8,\n",
       "  2378: 57,\n",
       "  2386: 18,\n",
       "  2452: 22,\n",
       "  2508: 22,\n",
       "  2561: 126,\n",
       "  2585: 9,\n",
       "  2589: 92,\n",
       "  2590: 5,\n",
       "  2628: 218,\n",
       "  2658: 16,\n",
       "  2732: 12,\n",
       "  2784: 23,\n",
       "  2823: 21,\n",
       "  3070: 8,\n",
       "  3100: 70,\n",
       "  3154: 22,\n",
       "  3220: 28,\n",
       "  3277: 35,\n",
       "  3347: 15,\n",
       "  3359: 15,\n",
       "  3516: 11,\n",
       "  3602: 18,\n",
       "  3623: 116,\n",
       "  3641: 57,\n",
       "  3676: 49,\n",
       "  3830: 80,\n",
       "  3860: 203,\n",
       "  3862: 22,\n",
       "  3865: 8,\n",
       "  3895: 6,\n",
       "  3935: 44,\n",
       "  3952: 20,\n",
       "  3975: 34,\n",
       "  4109: 9,\n",
       "  4155: 23,\n",
       "  4236: 14,\n",
       "  4275: 45,\n",
       "  4316: 13,\n",
       "  4317: 106,\n",
       "  4328: 23,\n",
       "  4388: 14,\n",
       "  4454: 5,\n",
       "  4467: 12,\n",
       "  4489: 21,\n",
       "  4494: 18,\n",
       "  4584: 39,\n",
       "  4588: 80,\n",
       "  4641: 23,\n",
       "  4694: 19,\n",
       "  4804: 6,\n",
       "  5030: 49,\n",
       "  5145: 9,\n",
       "  5244: 113,\n",
       "  5264: 115,\n",
       "  5360: 19,\n",
       "  5434: 24,\n",
       "  5476: 36,\n",
       "  5516: 31,\n",
       "  5536: 21,\n",
       "  5564: 30,\n",
       "  5579: 14,\n",
       "  5609: 39,\n",
       "  5619: 25,\n",
       "  5631: 9,\n",
       "  5681: 9,\n",
       "  5691: 12,\n",
       "  5727: 41,\n",
       "  5761: 85,\n",
       "  5819: 19,\n",
       "  5904: 16,\n",
       "  5937: 61,\n",
       "  6038: 4,\n",
       "  6143: 15,\n",
       "  6176: 5,\n",
       "  6183: 17,\n",
       "  6206: 7,\n",
       "  6279: 20,\n",
       "  6378: 112,\n",
       "  6398: 11,\n",
       "  6557: 16,\n",
       "  6603: 15,\n",
       "  6884: 43,\n",
       "  6901: 8,\n",
       "  6915: 190,\n",
       "  7107: 230,\n",
       "  7169: 9,\n",
       "  7271: 117,\n",
       "  7356: 12,\n",
       "  7363: 284,\n",
       "  7492: 58,\n",
       "  7569: 32,\n",
       "  7603: 39,\n",
       "  7666: 9,\n",
       "  7700: 68,\n",
       "  7787: 18,\n",
       "  7849: 96,\n",
       "  7936: 3,\n",
       "  8070: 69,\n",
       "  8312: 29,\n",
       "  8337: 22,\n",
       "  8366: 25,\n",
       "  8471: 15,\n",
       "  8512: 16,\n",
       "  8515: 21,\n",
       "  8532: 9,\n",
       "  8556: 71,\n",
       "  8803: 4,\n",
       "  8895: 10,\n",
       "  8900: 11,\n",
       "  9124: 18,\n",
       "  9128: 2,\n",
       "  9253: 76,\n",
       "  9304: 12,\n",
       "  9332: 7,\n",
       "  9457: 6,\n",
       "  9505: 2,\n",
       "  9518: 80,\n",
       "  9544: 228,\n",
       "  9727: 37,\n",
       "  9736: 19,\n",
       "  9859: 12,\n",
       "  9871: 17,\n",
       "  9957: 15,\n",
       "  9973: 59,\n",
       "  10057: 144,\n",
       "  10207: 36,\n",
       "  10299: 167,\n",
       "  10304: 8,\n",
       "  10377: 125,\n",
       "  10502: 9,\n",
       "  10581: 11,\n",
       "  10589: 18,\n",
       "  10626: 72,\n",
       "  10635: 6,\n",
       "  10666: 84,\n",
       "  10675: 13,\n",
       "  10761: 9,\n",
       "  10830: 14,\n",
       "  10848: 16,\n",
       "  10950: 23,\n",
       "  11003: 63,\n",
       "  11018: 24,\n",
       "  11061: 11,\n",
       "  11065: 40,\n",
       "  11197: 14,\n",
       "  11236: 58,\n",
       "  11247: 6,\n",
       "  11275: 26,\n",
       "  11313: 9,\n",
       "  11320: 66,\n",
       "  11421: 37,\n",
       "  11446: 13,\n",
       "  11593: 19,\n",
       "  11616: 64,\n",
       "  11671: 14,\n",
       "  11702: 7,\n",
       "  11708: 44,\n",
       "  11747: 20,\n",
       "  11762: 10,\n",
       "  11829: 25,\n",
       "  11850: 23,\n",
       "  11860: 11,\n",
       "  11932: 18,\n",
       "  11989: 17,\n",
       "  12028: 221,\n",
       "  12140: 36,\n",
       "  12177: 53,\n",
       "  12183: 26,\n",
       "  12274: 9,\n",
       "  12312: 13,\n",
       "  12380: 45,\n",
       "  12508: 136,\n",
       "  12567: 61,\n",
       "  12585: 4,\n",
       "  12629: 43,\n",
       "  12633: 11,\n",
       "  12799: 77,\n",
       "  12803: 21,\n",
       "  12824: 21,\n",
       "  13123: 10,\n",
       "  13329: 22,\n",
       "  13330: 13,\n",
       "  13503: 15,\n",
       "  13546: 20,\n",
       "  13577: 7,\n",
       "  13593: 20,\n",
       "  13615: 10,\n",
       "  13627: 31,\n",
       "  13664: 120,\n",
       "  13728: 13,\n",
       "  13748: 21,\n",
       "  13864: 5,\n",
       "  13881: 2,\n",
       "  14035: 12,\n",
       "  14144: 24,\n",
       "  14172: 9,\n",
       "  14193: 8,\n",
       "  14256: 26,\n",
       "  14269: 21,\n",
       "  14309: 13,\n",
       "  14342: 20,\n",
       "  14385: 14,\n",
       "  14507: 9,\n",
       "  14520: 56,\n",
       "  14705: 17,\n",
       "  14805: 16,\n",
       "  14855: 96,\n",
       "  14975: 23,\n",
       "  15046: 86,\n",
       "  15054: 33,\n",
       "  15301: 5,\n",
       "  15347: 4,\n",
       "  15361: 15,\n",
       "  15472: 13,\n",
       "  15590: 85,\n",
       "  15716: 323,\n",
       "  15852: 15,\n",
       "  15875: 192,\n",
       "  16038: 89,\n",
       "  16053: 17,\n",
       "  16076: 397,\n",
       "  16102: 6,\n",
       "  16129: 22,\n",
       "  16147: 7,\n",
       "  16216: 17,\n",
       "  16275: 90,\n",
       "  16318: 12,\n",
       "  16367: 47,\n",
       "  16384: 48,\n",
       "  16409: 40,\n",
       "  16412: 8,\n",
       "  16438: 28,\n",
       "  16468: 15,\n",
       "  16469: 20,\n",
       "  16479: 7,\n",
       "  16492: 6,\n",
       "  16554: 19,\n",
       "  16560: 8,\n",
       "  16685: 1,\n",
       "  16733: 14,\n",
       "  16755: 24,\n",
       "  16800: 12,\n",
       "  16802: 27,\n",
       "  16850: 14,\n",
       "  16975: 186,\n",
       "  16992: 42,\n",
       "  17107: 6,\n",
       "  17149: 17,\n",
       "  17150: 23,\n",
       "  17250: 28,\n",
       "  17260: 10,\n",
       "  17276: 10,\n",
       "  17539: 24,\n",
       "  17547: 9,\n",
       "  17617: 4,\n",
       "  17631: 19,\n",
       "  17664: 24,\n",
       "  17722: 8,\n",
       "  17764: 3,\n",
       "  17795: 215,\n",
       "  17843: 37,\n",
       "  17882: 6,\n",
       "  17903: 7,\n",
       "  17906: 88,\n",
       "  18082: 22,\n",
       "  18123: 146,\n",
       "  18233: 8,\n",
       "  18250: 2,\n",
       "  18281: 61,\n",
       "  18320: 207,\n",
       "  18353: 16,\n",
       "  18365: 10,\n",
       "  18459: 33,\n",
       "  18637: 35,\n",
       "  18673: 38,\n",
       "  18681: 10,\n",
       "  18737: 7,\n",
       "  18999: 40,\n",
       "  19029: 4,\n",
       "  19036: 12,\n",
       "  19164: 20,\n",
       "  19463: 14,\n",
       "  19569: 4,\n",
       "  19653: 30,\n",
       "  19698: 79,\n",
       "  19793: 37,\n",
       "  19803: 9,\n",
       "  19833: 77,\n",
       "  19851: 83,\n",
       "  19859: 14,\n",
       "  19940: 9,\n",
       "  20061: 7,\n",
       "  20086: 85,\n",
       "  20133: 121,\n",
       "  20181: 204,\n",
       "  20187: 25,\n",
       "  20263: 6,\n",
       "  20265: 7,\n",
       "  20289: 63,\n",
       "  20381: 10,\n",
       "  20425: 103,\n",
       "  20528: 37,\n",
       "  20580: 1,\n",
       "  20598: 31,\n",
       "  20600: 16,\n",
       "  20624: 32,\n",
       "  20643: 20,\n",
       "  20804: 25,\n",
       "  20899: 17,\n",
       "  20951: 8,\n",
       "  20979: 26,\n",
       "  21037: 21,\n",
       "  21056: 9,\n",
       "  21093: 60,\n",
       "  21255: 3,\n",
       "  21269: 279,\n",
       "  21277: 23,\n",
       "  21301: 16,\n",
       "  21350: 18,\n",
       "  21548: 7,\n",
       "  21581: 11,\n",
       "  21737: 7,\n",
       "  21745: 5,\n",
       "  21764: 7,\n",
       "  22019: 2,\n",
       "  22180: 5,\n",
       "  22192: 5,\n",
       "  22287: 10,\n",
       "  22432: 6,\n",
       "  22450: 11,\n",
       "  22520: 63,\n",
       "  22534: 4,\n",
       "  22580: 10,\n",
       "  22624: 43,\n",
       "  22667: 72,\n",
       "  22684: 14,\n",
       "  22706: 8,\n",
       "  22754: 44,\n",
       "  22855: 47,\n",
       "  22921: 2,\n",
       "  23028: 22,\n",
       "  23109: 2,\n",
       "  23131: 49,\n",
       "  23161: 29,\n",
       "  23215: 9,\n",
       "  23318: 15,\n",
       "  23418: 22,\n",
       "  23423: 11,\n",
       "  23451: 26,\n",
       "  23568: 8,\n",
       "  23657: 34,\n",
       "  23734: 15,\n",
       "  23763: 21,\n",
       "  23847: 9,\n",
       "  24099: 2,\n",
       "  24170: 2,\n",
       "  24178: 209,\n",
       "  24276: 82,\n",
       "  24344: 290,\n",
       "  24483: 7,\n",
       "  24535: 23,\n",
       "  24562: 10,\n",
       "  24569: 20,\n",
       "  24622: 1,\n",
       "  24687: 45,\n",
       "  24807: 41,\n",
       "  24847: 12,\n",
       "  24868: 57,\n",
       "  24903: 45,\n",
       "  25001: 25,\n",
       "  25016: 78,\n",
       "  25038: 66,\n",
       "  25097: 42,\n",
       "  25117: 38,\n",
       "  25225: 17,\n",
       "  25256: 30,\n",
       "  25295: 59,\n",
       "  25326: 17,\n",
       "  25373: 158,\n",
       "  25406: 5,\n",
       "  25515: 18,\n",
       "  25526: 86,\n",
       "  25579: 27,\n",
       "  25591: 61,\n",
       "  25671: 11,\n",
       "  25750: 107,\n",
       "  25775: 38,\n",
       "  25844: 22,\n",
       "  25860: 9,\n",
       "  25861: 16,\n",
       "  25889: 20,\n",
       "  25941: 86,\n",
       "  26036: 11,\n",
       "  26040: 79,\n",
       "  26052: 3,\n",
       "  26080: 5,\n",
       "  26097: 65,\n",
       "  26118: 60,\n",
       "  26311: 28,\n",
       "  26391: 64,\n",
       "  26398: 14,\n",
       "  26469: 52,\n",
       "  26542: 55,\n",
       "  26601: 58,\n",
       "  26638: 155,\n",
       "  26727: 10,\n",
       "  26797: 8,\n",
       "  26869: 11,\n",
       "  26884: 5,\n",
       "  26887: 4,\n",
       "  26956: 23,\n",
       "  27003: 18,\n",
       "  27036: 10,\n",
       "  27043: 30,\n",
       "  27047: 41,\n",
       "  27049: 14,\n",
       "  27089: 24,\n",
       "  27121: 89,\n",
       "  27143: 135,\n",
       "  27172: 9,\n",
       "  27179: 118,\n",
       "  27194: 60,\n",
       "  27269: 19,\n",
       "  27367: 84,\n",
       "  27371: 17,\n",
       "  27431: 33,\n",
       "  27486: 2,\n",
       "  27576: 84,\n",
       "  27597: 60,\n",
       "  27600: 28,\n",
       "  27677: 11,\n",
       "  27726: 59,\n",
       "  27729: 70,\n",
       "  27752: 11,\n",
       "  27800: 12,\n",
       "  27809: 18,\n",
       "  27823: 31,\n",
       "  27879: 13,\n",
       "  27886: 30,\n",
       "  27999: 25,\n",
       "  28050: 20,\n",
       "  28055: 4,\n",
       "  28073: 74,\n",
       "  28093: 21,\n",
       "  28103: 16,\n",
       "  28164: 159,\n",
       "  28173: 124,\n",
       "  28230: 23,\n",
       "  28291: 36,\n",
       "  28298: 31,\n",
       "  28356: 10,\n",
       "  28527: 46,\n",
       "  28530: 24,\n",
       "  28642: 2,\n",
       "  28668: 3,\n",
       "  28671: 33,\n",
       "  28689: 5,\n",
       "  28717: 23,\n",
       "  28729: 73,\n",
       "  28742: 7,\n",
       "  28758: 94,\n",
       "  28827: 12,\n",
       "  28843: 1,\n",
       "  28884: 12,\n",
       "  28932: 24,\n",
       "  28935: 4,\n",
       "  28939: 4,\n",
       "  28973: 152,\n",
       "  29007: 9,\n",
       "  29043: 12,\n",
       "  29093: 5,\n",
       "  29096: 21,\n",
       "  29102: 18,\n",
       "  29129: 15,\n",
       "  29137: 8,\n",
       "  29139: 17,\n",
       "  29141: 27,\n",
       "  29219: 19,\n",
       "  29240: 10,\n",
       "  29274: 17,\n",
       "  29350: 18,\n",
       "  29377: 80,\n",
       "  29379: 21,\n",
       "  29456: 22,\n",
       "  29478: 32,\n",
       "  29501: 6,\n",
       "  29503: 11,\n",
       "  29504: 18,\n",
       "  29513: 65,\n",
       "  29528: 5,\n",
       "  29556: 5,\n",
       "  29566: 17,\n",
       "  29619: 18,\n",
       "  29638: 15,\n",
       "  29639: 26,\n",
       "  29660: 9,\n",
       "  29703: 12,\n",
       "  29866: 12,\n",
       "  29872: 14,\n",
       "  29913: 11,\n",
       "  29919: 24,\n",
       "  29927: 63,\n",
       "  29965: 26,\n",
       "  29972: 7,\n",
       "  30010: 7,\n",
       "  30015: 36,\n",
       "  30139: 529,\n",
       "  30208: 18,\n",
       "  30227: 35,\n",
       "  30287: 23,\n",
       "  30299: 1,\n",
       "  30301: 117,\n",
       "  30316: 17,\n",
       "  30365: 47,\n",
       "  30490: 17,\n",
       "  30501: 10,\n",
       "  30505: 33,\n",
       "  30561: 6,\n",
       "  30575: 6,\n",
       "  30599: 24,\n",
       "  30631: 11,\n",
       "  30663: 24,\n",
       "  30696: 54,\n",
       "  30786: 11,\n",
       "  30798: 14,\n",
       "  30860: 28,\n",
       "  31003: 45,\n",
       "  31183: 129,\n",
       "  31216: 80,\n",
       "  31221: 17,\n",
       "  31262: 28,\n",
       "  31298: 13,\n",
       "  31332: 59,\n",
       "  31361: 20,\n",
       "  31442: 32,\n",
       "  31470: 17,\n",
       "  31516: 74,\n",
       "  31528: 60,\n",
       "  31544: 11,\n",
       "  31580: 34,\n",
       "  31585: 39,\n",
       "  31610: 17,\n",
       "  31660: 3,\n",
       "  31664: 45,\n",
       "  31692: 23,\n",
       "  31723: 17,\n",
       "  31813: 234,\n",
       "  31942: 102,\n",
       "  31986: 41,\n",
       "  32018: 145,\n",
       "  32061: 11,\n",
       "  32106: 18,\n",
       "  32135: 12,\n",
       "  32161: 25,\n",
       "  32181: 8,\n",
       "  32183: 27,\n",
       "  32193: 16,\n",
       "  32268: 6,\n",
       "  32286: 117,\n",
       "  32355: 6,\n",
       "  32367: 42,\n",
       "  32394: 6,\n",
       "  32414: 485,\n",
       "  32436: 271,\n",
       "  32583: 5,\n",
       "  32605: 19,\n",
       "  32639: 12,\n",
       "  32740: 48,\n",
       "  32746: 11,\n",
       "  32773: 112,\n",
       "  32790: 103,\n",
       "  40059: 11,\n",
       "  40124: 68,\n",
       "  40246: 20,\n",
       "  40370: 11,\n",
       "  40442: 107,\n",
       "  40456: 43,\n",
       "  40576: 48,\n",
       "  40631: 4,\n",
       "  40911: 35,\n",
       "  41192: 45,\n",
       "  41373: 28,\n",
       "  41434: 10,\n",
       "  41446: 8,\n",
       "  41890: 7,\n",
       "  41958: 5,\n",
       "  41962: 10,\n",
       "  41976: 177,\n",
       "  42009: 30,\n",
       "  42035: 49,\n",
       "  42054: 18,\n",
       "  42194: 1,\n",
       "  42346: 30,\n",
       "  42458: 9,\n",
       "  42515: 38,\n",
       "  42572: 17,\n",
       "  42715: 21,\n",
       "  42794: 6,\n",
       "  42924: 3,\n",
       "  43067: 90,\n",
       "  43074: 18,\n",
       "  43112: 394,\n",
       "  43128: 1,\n",
       "  43147: 150,\n",
       "  43305: 48,\n",
       "  43323: 15,\n",
       "  43937: 4,\n",
       "  43943: 6,\n",
       "  43959: 3,\n",
       "  44146: 16,\n",
       "  44206: 5,\n",
       "  44214: 30,\n",
       "  44326: 8,\n",
       "  44437: 12,\n",
       "  44530: 2,\n",
       "  44534: 37,\n",
       "  44741: 8,\n",
       "  44787: 7,\n",
       "  44829: 55,\n",
       "  44841: 19,\n",
       "  44848: 2,\n",
       "  45193: 11,\n",
       "  45280: 9,\n",
       "  45435: 7,\n",
       "  46011: 61,\n",
       "  46335: 49,\n",
       "  46366: 42,\n",
       "  46415: 53,\n",
       "  46521: 14,\n",
       "  46728: 34,\n",
       "  46926: 1,\n",
       "  46961: 1,\n",
       "  47216: 17,\n",
       "  47219: 67,\n",
       "  47407: 2,\n",
       "  47467: 6,\n",
       "  47670: 7,\n",
       "  47747: 12,\n",
       "  47852: 95,\n",
       "  47930: 5,\n",
       "  48058: 4,\n",
       "  48143: 6,\n",
       "  48297: 11,\n",
       "  48340: 7,\n",
       "  48660: 343,\n",
       "  48687: 15,\n",
       "  48750: 8,\n",
       "  48812: 36,\n",
       "  48837: 14,\n",
       "  48929: 7,\n",
       "  49292: 18,\n",
       "  49510: 31,\n",
       "  49558: 347,\n",
       "  49623: 9,\n",
       "  49747: 7,\n",
       "  49764: 10,\n",
       "  49963: 4,\n",
       "  50007: 4,\n",
       "  50041: 10,\n",
       "  50093: 6,\n",
       "  50257: 11,\n",
       "  50294: 20,\n",
       "  50409: 75,\n",
       "  50762: 8,\n",
       "  50772: 17,\n",
       "  50807: 21,\n",
       "  50828: 126,\n",
       "  50911: 81,\n",
       "  50998: 29,\n",
       "  51195: 29,\n",
       "  51237: 11,\n",
       "  51401: 33,\n",
       "  51418: 68,\n",
       "  51497: 3,\n",
       "  51545: 97,\n",
       "  51601: 5,\n",
       "  51607: 5,\n",
       "  51669: 10,\n",
       "  51933: 5,\n",
       "  52011: 8,\n",
       "  52054: 1,\n",
       "  52172: 13,\n",
       "  52191: 46,\n",
       "  52307: 5,\n",
       "  52452: 5,\n",
       "  52606: 54,\n",
       "  52622: 5,\n",
       "  52898: 6,\n",
       "  52957: 52,\n",
       "  53119: 7,\n",
       "  53160: 13,\n",
       "  53173: 14,\n",
       "  53534: 9,\n",
       "  53650: 15,\n",
       "  53743: 151,\n",
       "  53749: 6,\n",
       "  53847: 14,\n",
       "  54172: 6,\n",
       "  54197: 13,\n",
       "  54305: 8,\n",
       "  54514: 116,\n",
       "  54709: 9,\n",
       "  54741: 5,\n",
       "  54832: 7,\n",
       "  54922: 2,\n",
       "  55059: 17,\n",
       "  55074: 7,\n",
       "  55188: 9,\n",
       "  55571: 212,\n",
       "  55700: 4,\n",
       "  55753: 37,\n",
       "  55841: 14,\n",
       "  55920: 17,\n",
       "  56027: 7,\n",
       "  56229: 31,\n",
       "  56440: 9,\n",
       "  56490: 12,\n",
       "  56621: 11,\n",
       "  56635: 2,\n",
       "  56772: 31,\n",
       "  56798: 4,\n",
       "  56867: 16,\n",
       "  56874: 51,\n",
       "  57050: 205,\n",
       "  57081: 32,\n",
       "  57157: 5,\n",
       "  57277: 19,\n",
       "  57290: 15,\n",
       "  57449: 17,\n",
       "  57788: 36,\n",
       "  57795: 7,\n",
       "  57889: 105,\n",
       "  58105: 49,\n",
       "  58242: 6,\n",
       "  58264: 7,\n",
       "  58286: 20,\n",
       "  58416: 3,\n",
       "  58433: 51,\n",
       "  58522: 9,\n",
       "  58580: 5,\n",
       "  58610: 13,\n",
       "  58631: 15,\n",
       "  58732: 5,\n",
       "  58794: 32,\n",
       "  58810: 10,\n",
       "  58955: 6,\n",
       "  59275: 1,\n",
       "  59278: 17,\n",
       "  59411: 6,\n",
       "  59496: 75,\n",
       "  59765: 300,\n",
       "  59789: 10,\n",
       "  59801: 2,\n",
       "  59822: 14,\n",
       "  59903: 483,\n",
       "  59943: 121,\n",
       "  60003: 9,\n",
       "  60050: 4,\n",
       "  60130: 44,\n",
       "  60674: 10,\n",
       "  60685: 4,\n",
       "  60958: 8,\n",
       "  60977: 9,\n",
       "  61005: 10,\n",
       "  61084: 216,\n",
       "  61195: 9,\n",
       "  61259: 83,\n",
       "  61331: 4,\n",
       "  61630: 19,\n",
       "  61738: 6,\n",
       "  61886: 6,\n",
       "  62231: 4,\n",
       "  62239: 5,\n",
       "  62284: 6,\n",
       "  62402: 56,\n",
       "  62641: 8,\n",
       "  62733: 9,\n",
       "  62858: 120,\n",
       "  63145: 25,\n",
       "  63327: 16,\n",
       "  63351: 10,\n",
       "  63362: 7,\n",
       "  63430: 56,\n",
       "  63499: 32,\n",
       "  63560: 25,\n",
       "  63943: 31,\n",
       "  63968: 10,\n",
       "  64160: 4,\n",
       "  64232: 28,\n",
       "  64249: 7,\n",
       "  64715: 17,\n",
       "  65004: 11,\n",
       "  65027: 1,\n",
       "  65033: 2,\n",
       "  65164: 4,\n",
       "  65361: 20,\n",
       "  65435: 40,\n",
       "  65449: 6,\n",
       "  65515: 5,\n",
       "  65582: 576,\n",
       "  65594: 9,\n",
       "  65692: 25,\n",
       "  65710: 18,\n",
       "  65837: 47,\n",
       "  66002: 636,\n",
       "  66009: 373,\n",
       "  66206: 12,\n",
       "  66412: 5,\n",
       "  66492: 1,\n",
       "  66549: 36,\n",
       "  66556: 20,\n",
       "  66671: 32,\n",
       "  66739: 1,\n",
       "  66753: 8,\n",
       "  66823: 21,\n",
       "  67053: 238,\n",
       "  67111: 16,\n",
       "  67117: 19,\n",
       "  67408: 15,\n",
       "  67446: 8,\n",
       "  67796: 7,\n",
       "  67844: 7,\n",
       "  67887: 13,\n",
       "  68059: 3,\n",
       "  68315: 3,\n",
       "  68591: 7,\n",
       "  68791: 13,\n",
       "  68836: 7,\n",
       "  68839: 21,\n",
       "  68905: 3,\n",
       "  68944: 39,\n",
       "  68962: 1,\n",
       "  69098: 12,\n",
       "  69158: 13,\n",
       "  69250: 4,\n",
       "  69296: 13,\n",
       "  69359: 26,\n",
       "  69380: 265,\n",
       "  69483: 26,\n",
       "  69546: 64,\n",
       "  69556: 11,\n",
       "  69578: 7,\n",
       "  69673: 6,\n",
       "  69776: 53,\n",
       "  69799: 6,\n",
       "  69932: 6,\n",
       "  70285: 2,\n",
       "  70466: 18,\n",
       "  70476: 22,\n",
       "  70492: 10,\n",
       "  70563: 3,\n",
       "  70645: 29,\n",
       "  70682: 48,\n",
       "  70728: 12,\n",
       "  71107: 9,\n",
       "  71108: 220,\n",
       "  71220: 45,\n",
       "  71336: 5,\n",
       "  71377: 39,\n",
       "  71915: 6,\n",
       "  71943: 4,\n",
       "  71983: 3,\n",
       "  72229: 189,\n",
       "  72230: 154,\n",
       "  72233: 2,\n",
       "  72378: 7,\n",
       "  72532: 6,\n",
       "  72714: 4,\n",
       "  72751: 35,\n",
       "  73043: 3,\n",
       "  73107: 479,\n",
       "  73129: 105,\n",
       "  73388: 37,\n",
       "  73389: 87,\n",
       "  73479: 3,\n",
       "  73686: 4,\n",
       "  73713: 458,\n",
       "  73770: 9,\n",
       "  73808: 49,\n",
       "  73899: 2,\n",
       "  73941: 7,\n",
       "  74016: 8,\n",
       "  74253: 388,\n",
       "  74505: 32,\n",
       "  74562: 98,\n",
       "  74640: 7,\n",
       "  74654: 7,\n",
       "  75047: 3,\n",
       "  75107: 124,\n",
       "  75200: 87,\n",
       "  75387: 14,\n",
       "  75446: 34,\n",
       "  75609: 5,\n",
       "  75640: 45,\n",
       "  75741: 8,\n",
       "  75782: 90,\n",
       "  75806: 3,\n",
       "  75983: 9,\n",
       "  76021: 39,\n",
       "  76056: 1,\n",
       "  76074: 31,\n",
       "  76141: 4,\n",
       "  76178: 22,\n",
       "  76437: 5,\n",
       "  76446: 18,\n",
       "  76476: 3,\n",
       "  76797: 6,\n",
       "  76915: 8,\n",
       "  76993: 13,\n",
       "  77019: 8,\n",
       "  77128: 9,\n",
       "  77177: 14,\n",
       "  77237: 198,\n",
       "  77279: 2,\n",
       "  77434: 18,\n",
       "  77453: 2,\n",
       "  77469: 31,\n",
       "  77676: 4,\n",
       "  77690: 19,\n",
       "  77697: 10,\n",
       "  77816: 8,\n",
       "  77947: 11,\n",
       "  78017: 2,\n",
       "  78086: 110,\n",
       "  78565: 78,\n",
       "  78705: 3,\n",
       "  78707: 16,\n",
       "  78859: 5,\n",
       "  78914: 13,\n",
       "  79079: 18,\n",
       "  79090: 16,\n",
       "  79115: 12,\n",
       "  79292: 15,\n",
       "  80045: 6,\n",
       "  80106: 5,\n",
       "  80218: 13,\n",
       "  80430: 10,\n",
       "  80722: 3,\n",
       "  80813: 11,\n",
       "  80825: 3,\n",
       "  81114: 58,\n",
       "  81223: 39,\n",
       "  81233: 22,\n",
       "  81436: 9,\n",
       "  81745: 28,\n",
       "  81840: 25,\n",
       "  81960: 8,\n",
       "  81992: 11,\n",
       "  82100: 74,\n",
       "  82104: 2,\n",
       "  82150: 84,\n",
       "  82202: 28,\n",
       "  82211: 647,\n",
       "  82309: 9,\n",
       "  ...}}"
      ]
     },
     "execution_count": 30,
     "metadata": {},
     "output_type": "execute_result"
    }
   ],
   "source": [
    "patient_id_to_num_notes"
   ]
  },
  {
   "cell_type": "code",
   "execution_count": 31,
   "metadata": {},
   "outputs": [
    {
     "name": "stdout",
     "output_type": "stream",
     "text": [
      "252\n",
      "1167\n"
     ]
    }
   ],
   "source": [
    "print(len(patient_id_to_num_notes['pneumonia_dead']))\n",
    "print(len(patient_id_to_num_notes['pneumonia_alive']))"
   ]
  },
  {
   "cell_type": "code",
   "execution_count": 32,
   "metadata": {
    "scrolled": true
   },
   "outputs": [
    {
     "data": {
      "text/html": [
       "<div>\n",
       "<style scoped>\n",
       "    .dataframe tbody tr th:only-of-type {\n",
       "        vertical-align: middle;\n",
       "    }\n",
       "\n",
       "    .dataframe tbody tr th {\n",
       "        vertical-align: top;\n",
       "    }\n",
       "\n",
       "    .dataframe thead th {\n",
       "        text-align: right;\n",
       "    }\n",
       "</style>\n",
       "<table border=\"1\" class=\"dataframe\">\n",
       "  <thead>\n",
       "    <tr style=\"text-align: right;\">\n",
       "      <th></th>\n",
       "      <th>ROW_ID_x</th>\n",
       "      <th>SUBJECT_ID_x</th>\n",
       "      <th>DESCRIPTION</th>\n",
       "      <th>TEXT</th>\n",
       "      <th>DEATHTIME</th>\n",
       "    </tr>\n",
       "  </thead>\n",
       "  <tbody>\n",
       "    <tr>\n",
       "      <th>70391</th>\n",
       "      <td>70124</td>\n",
       "      <td>111</td>\n",
       "      <td>Report</td>\n",
       "      <td>PATIENT/TEST INFORMATION:\\nIndication: s/p PEA...</td>\n",
       "      <td>2144-07-01 14:55:00</td>\n",
       "    </tr>\n",
       "    <tr>\n",
       "      <th>142529</th>\n",
       "      <td>151749</td>\n",
       "      <td>111</td>\n",
       "      <td>Report</td>\n",
       "      <td>Compared to the previous tracing QRS voltage i...</td>\n",
       "      <td>2144-07-01 14:55:00</td>\n",
       "    </tr>\n",
       "    <tr>\n",
       "      <th>142097</th>\n",
       "      <td>151750</td>\n",
       "      <td>111</td>\n",
       "      <td>Report</td>\n",
       "      <td>Normal sinus rhythm, rate 80.  Biatrial abnorm...</td>\n",
       "      <td>2144-07-01 14:55:00</td>\n",
       "    </tr>\n",
       "    <tr>\n",
       "      <th>142303</th>\n",
       "      <td>151751</td>\n",
       "      <td>111</td>\n",
       "      <td>Report</td>\n",
       "      <td>Normal sinus rhythm.  Q waves in leads V1-V2 c...</td>\n",
       "      <td>2144-07-01 14:55:00</td>\n",
       "    </tr>\n",
       "    <tr>\n",
       "      <th>380576</th>\n",
       "      <td>375732</td>\n",
       "      <td>111</td>\n",
       "      <td>Physician Resident Admission Note</td>\n",
       "      <td>Chief Complaint:  respiratory distress\\n   HPI...</td>\n",
       "      <td>2144-07-01 14:55:00</td>\n",
       "    </tr>\n",
       "    <tr>\n",
       "      <th>380109</th>\n",
       "      <td>375744</td>\n",
       "      <td>111</td>\n",
       "      <td>ICU Event Note</td>\n",
       "      <td>Clinician:  Nurse\\n   Pt admitted from the ED ...</td>\n",
       "      <td>2144-07-01 14:55:00</td>\n",
       "    </tr>\n",
       "    <tr>\n",
       "      <th>379907</th>\n",
       "      <td>375749</td>\n",
       "      <td>111</td>\n",
       "      <td>Physician Resident/Attending Admission Note - ...</td>\n",
       "      <td>Chief Complaint:  respiratory distress\\n   HPI...</td>\n",
       "      <td>2144-07-01 14:55:00</td>\n",
       "    </tr>\n",
       "    <tr>\n",
       "      <th>379806</th>\n",
       "      <td>375753</td>\n",
       "      <td>111</td>\n",
       "      <td>Social Work Admission Note</td>\n",
       "      <td>Social Work Initial Note:\\n   Family Informati...</td>\n",
       "      <td>2144-07-01 14:55:00</td>\n",
       "    </tr>\n",
       "    <tr>\n",
       "      <th>379909</th>\n",
       "      <td>375760</td>\n",
       "      <td>111</td>\n",
       "      <td>ICU Event Note</td>\n",
       "      <td>TITLE:\\n   Clinician:  Resident\\n   Patient ex...</td>\n",
       "      <td>2144-07-01 14:55:00</td>\n",
       "    </tr>\n",
       "    <tr>\n",
       "      <th>1066971</th>\n",
       "      <td>1079317</td>\n",
       "      <td>111</td>\n",
       "      <td>CHEST (PORTABLE AP)</td>\n",
       "      <td>[**2144-7-1**] 2:43 AM\\n CHEST (PORTABLE AP)  ...</td>\n",
       "      <td>2144-07-01 14:55:00</td>\n",
       "    </tr>\n",
       "    <tr>\n",
       "      <th>1065833</th>\n",
       "      <td>1079339</td>\n",
       "      <td>111</td>\n",
       "      <td>CHEST (PORTABLE AP)</td>\n",
       "      <td>[**2144-7-1**] 7:27 AM\\n CHEST (PORTABLE AP); ...</td>\n",
       "      <td>2144-07-01 14:55:00</td>\n",
       "    </tr>\n",
       "    <tr>\n",
       "      <th>1067121</th>\n",
       "      <td>1079351</td>\n",
       "      <td>111</td>\n",
       "      <td>CHEST PORT. LINE PLACEMENT</td>\n",
       "      <td>[**2144-7-1**] 9:01 AM\\n CHEST PORT. LINE PLAC...</td>\n",
       "      <td>2144-07-01 14:55:00</td>\n",
       "    </tr>\n",
       "  </tbody>\n",
       "</table>\n",
       "</div>"
      ],
      "text/plain": [
       "         ROW_ID_x  SUBJECT_ID_x  \\\n",
       "70391       70124           111   \n",
       "142529     151749           111   \n",
       "142097     151750           111   \n",
       "142303     151751           111   \n",
       "380576     375732           111   \n",
       "380109     375744           111   \n",
       "379907     375749           111   \n",
       "379806     375753           111   \n",
       "379909     375760           111   \n",
       "1066971   1079317           111   \n",
       "1065833   1079339           111   \n",
       "1067121   1079351           111   \n",
       "\n",
       "                                               DESCRIPTION  \\\n",
       "70391                                               Report   \n",
       "142529                                              Report   \n",
       "142097                                              Report   \n",
       "142303                                              Report   \n",
       "380576                   Physician Resident Admission Note   \n",
       "380109                                      ICU Event Note   \n",
       "379907   Physician Resident/Attending Admission Note - ...   \n",
       "379806                          Social Work Admission Note   \n",
       "379909                                      ICU Event Note   \n",
       "1066971                                CHEST (PORTABLE AP)   \n",
       "1065833                                CHEST (PORTABLE AP)   \n",
       "1067121                         CHEST PORT. LINE PLACEMENT   \n",
       "\n",
       "                                                      TEXT  \\\n",
       "70391    PATIENT/TEST INFORMATION:\\nIndication: s/p PEA...   \n",
       "142529   Compared to the previous tracing QRS voltage i...   \n",
       "142097   Normal sinus rhythm, rate 80.  Biatrial abnorm...   \n",
       "142303   Normal sinus rhythm.  Q waves in leads V1-V2 c...   \n",
       "380576   Chief Complaint:  respiratory distress\\n   HPI...   \n",
       "380109   Clinician:  Nurse\\n   Pt admitted from the ED ...   \n",
       "379907   Chief Complaint:  respiratory distress\\n   HPI...   \n",
       "379806   Social Work Initial Note:\\n   Family Informati...   \n",
       "379909   TITLE:\\n   Clinician:  Resident\\n   Patient ex...   \n",
       "1066971  [**2144-7-1**] 2:43 AM\\n CHEST (PORTABLE AP)  ...   \n",
       "1065833  [**2144-7-1**] 7:27 AM\\n CHEST (PORTABLE AP); ...   \n",
       "1067121  [**2144-7-1**] 9:01 AM\\n CHEST PORT. LINE PLAC...   \n",
       "\n",
       "                   DEATHTIME  \n",
       "70391    2144-07-01 14:55:00  \n",
       "142529   2144-07-01 14:55:00  \n",
       "142097   2144-07-01 14:55:00  \n",
       "142303   2144-07-01 14:55:00  \n",
       "380576   2144-07-01 14:55:00  \n",
       "380109   2144-07-01 14:55:00  \n",
       "379907   2144-07-01 14:55:00  \n",
       "379806   2144-07-01 14:55:00  \n",
       "379909   2144-07-01 14:55:00  \n",
       "1066971  2144-07-01 14:55:00  \n",
       "1065833  2144-07-01 14:55:00  \n",
       "1067121  2144-07-01 14:55:00  "
      ]
     },
     "execution_count": 32,
     "metadata": {},
     "output_type": "execute_result"
    }
   ],
   "source": [
    "pneumonia_dead_no_disch.loc[pneumonia_dead_no_disch[\"SUBJECT_ID_x\"] == 111, ['ROW_ID_x','SUBJECT_ID_x','DESCRIPTION','TEXT', 'DEATHTIME']]"
   ]
  },
  {
   "cell_type": "code",
   "execution_count": 33,
   "metadata": {
    "scrolled": true
   },
   "outputs": [],
   "source": [
    "# tmp_df = pneumonia_dead_no_disch.loc[pneumonia_dead_no_disch[\"SUBJECT_ID_x\"] == 111, ['DESCRIPTION','TEXT']]\n",
    "# for index, row in tmp_df.iterrows():\n",
    "#     print(row['DESCRIPTION'])\n",
    "#     print(row['TEXT'])\n",
    "#     print('-'*80)"
   ]
  },
  {
   "cell_type": "code",
   "execution_count": null,
   "metadata": {},
   "outputs": [],
   "source": []
  },
  {
   "cell_type": "code",
   "execution_count": 34,
   "metadata": {
    "scrolled": true
   },
   "outputs": [],
   "source": [
    "# row_cnt = 0\n",
    "# note_cnt = 0\n",
    "# for index, row in pneumonia_alive_no_disch.iterrows():\n",
    "#     row_cnt += 1\n",
    "#     note = re.sub(r'\\[\\*\\*(.*?)\\*\\*\\]|[_,\\d\\*:~=\\.\\-\\+\\\\/]+', ' ', row['TEXT'])\n",
    "#     tokenized_note = word_tokenize(note)\n",
    "       \n",
    "#     if 'money' in tokenized_note :\n",
    "#         note_cnt += 1\n",
    "#         print(f\"#{row_cnt}) {note_cnt}) {row['ROW_ID_x']} : {row['SUBJECT_ID_x']} ==> [{row['DESCRIPTION']}]\")\n",
    "    \n",
    "    "
   ]
  },
  {
   "cell_type": "code",
   "execution_count": 35,
   "metadata": {
    "scrolled": true
   },
   "outputs": [],
   "source": [
    "# row_cnt = 0\n",
    "# note_cnt = 0\n",
    "# for index, row in pneumonia_alive_no_disch.iterrows():\n",
    "#     row_cnt += 1\n",
    "#     note = re.sub(r'\\[\\*\\*(.*?)\\*\\*\\]|[_,\\d\\*:~=\\.\\-\\+\\\\/]+', ' ', row['TEXT'])\n",
    "#     tokenized_note = word_tokenize(note)\n",
    "    \n",
    "#     if 'money' in tokenized_note and 'wallet' in tokenized_note:\n",
    "#         note_cnt += 1\n",
    "#         print(f\"#{row_cnt}) {note_cnt}) {row['ROW_ID_x']} : {row['SUBJECT_ID_x']} ==> [{row['DESCRIPTION']}]\")\n",
    "# #         print(row['TEXT'])\n",
    "# #         print('-'*80)"
   ]
  },
  {
   "cell_type": "code",
   "execution_count": null,
   "metadata": {},
   "outputs": [],
   "source": []
  },
  {
   "cell_type": "code",
   "execution_count": null,
   "metadata": {},
   "outputs": [],
   "source": []
  },
  {
   "cell_type": "code",
   "execution_count": null,
   "metadata": {},
   "outputs": [],
   "source": []
  },
  {
   "cell_type": "code",
   "execution_count": null,
   "metadata": {},
   "outputs": [],
   "source": []
  },
  {
   "cell_type": "code",
   "execution_count": 36,
   "metadata": {},
   "outputs": [
    {
     "name": "stderr",
     "output_type": "stream",
     "text": [
      "100%|██████████| 11895/11895 [00:38<00:00, 306.18it/s]\n",
      "  0%|          | 111/46134 [00:00<01:30, 509.32it/s]"
     ]
    },
    {
     "name": "stdout",
     "output_type": "stream",
     "text": [
      "5989 note events\n",
      "finished counting frequent words for patients!\n"
     ]
    },
    {
     "name": "stderr",
     "output_type": "stream",
     "text": [
      "100%|██████████| 46134/46134 [02:23<00:00, 320.80it/s]"
     ]
    },
    {
     "name": "stdout",
     "output_type": "stream",
     "text": [
      "23172 note events\n",
      "finished counting frequent words for patients!\n"
     ]
    },
    {
     "name": "stderr",
     "output_type": "stream",
     "text": [
      "\n"
     ]
    }
   ],
   "source": [
    "def count_words_per_patient(disease_df, patient_id_to_num_notes):\n",
    "    note_appearance_counter = {}\n",
    "    number_of_patients = 0 # number of patients\n",
    "    note_counter = 0\n",
    "\n",
    "# -----------\n",
    "    patient_id = -1\n",
    "    word_set = set()\n",
    "    note_event_counter = 0\n",
    "\n",
    "    # Iterate through each note\n",
    "    for index, row in tqdm(disease_df.iterrows(), total=disease_df.shape[0]):\n",
    "\n",
    "        \n",
    "        patient_id_check = int(row['SUBJECT_ID_x'])\n",
    "    \n",
    "        # if patient id has changed, end sequence and start new sequence\n",
    "        if not patient_id == patient_id_check:\n",
    "            number_of_patients += 1\n",
    "            note_event_counter = 0\n",
    "        \n",
    "            for word in word_set:\n",
    "                if word in note_appearance_counter:\n",
    "                    note_appearance_counter[word] += 1\n",
    "                else:\n",
    "                    note_appearance_counter[word] = 1\n",
    "\n",
    "        \n",
    "            # reset word_set\n",
    "            word_set = set()\n",
    "        \n",
    "        # update patient id\n",
    "        patient_id = patient_id_check\n",
    "\n",
    "            \n",
    "        if patient_id_to_num_notes[patient_id_check] <= MIN_SEQ_LEN:\n",
    "            continue\n",
    "            \n",
    "        if note_event_counter < patient_id_to_num_notes[patient_id] // USE_1_N_SEQ:\n",
    "            note_event_counter += 1\n",
    "            continue\n",
    "                \n",
    "        note_counter += 1\n",
    "        note = re.sub(r'\\[\\*\\*(.*?)\\*\\*\\]|[_,\\d\\*:~=\\.\\-\\+\\\\/]+', ' ', row['TEXT'])\n",
    "        tokenized_note = word_tokenize(note)\n",
    "        \n",
    "        \n",
    "        for word in tokenized_note:\n",
    "            stemmed_word = stemmer.stem(word.lower())\n",
    "            if not stemmed_word in stop_words:\n",
    "                word_set.add(stemmed_word)\n",
    "    \n",
    "    print(str(note_counter) + \" note events\")\n",
    "    print(\"finished counting frequent words for patients!\")\n",
    "#     return note_counter, note_appearance_counter\n",
    "    return number_of_patients, note_appearance_counter\n",
    "\n",
    "# variable dictionaries\n",
    "number_of_notes = {}\n",
    "note_appearance_counter = {}\n",
    "\n",
    "number_of_notes['pneumonia_dead'], note_appearance_counter['pneumonia_dead'] = count_words_per_patient(pneumonia_dead_no_disch, patient_id_to_num_notes['pneumonia_dead'])\n",
    "number_of_notes['pneumonia_alive'], note_appearance_counter['pneumonia_alive'] = count_words_per_patient(pneumonia_alive_no_disch, patient_id_to_num_notes['pneumonia_alive'])"
   ]
  },
  {
   "cell_type": "code",
   "execution_count": 37,
   "metadata": {},
   "outputs": [
    {
     "data": {
      "text/plain": [
       "{'pneumonia_dead': 252, 'pneumonia_alive': 1167}"
      ]
     },
     "execution_count": 37,
     "metadata": {},
     "output_type": "execute_result"
    }
   ],
   "source": [
    "number_of_notes"
   ]
  },
  {
   "cell_type": "code",
   "execution_count": 38,
   "metadata": {},
   "outputs": [
    {
     "name": "stdout",
     "output_type": "stream",
     "text": [
      "{'pneumonia_dead': {'emphysema': 28, 'boni': 11, 'lab': 132, 'acid': 56, 'studi': 160, 'cardiac': 156, 'e': 64, 'mottl': 15, 'receiv': 151, 'breath': 162, 'gaug': 57, 'without': 143, '[': 80, 'dr': 150, 'rosc': 1, 'primari': 43, 'effus': 183, 'cardiomediastin': 48, 'voltag': 35, 'year': 195, 'follow': 159, 'level': 148, 'health': 39, 'entir': 36, 'blocker': 33, 'echo': 58, 'tmax': 105, 'inh': 3, 'signific': 121, 'infus': 111, 'set': 141, 'ml': 99, 'ye': 42, 'saw': 64, 'death': 42, 'understand': 45, 'lower': 166, '>': 160, 'sinu': 139, 'check': 116, 'girlfriend': 2, 'spoke': 86, 'pco': 36, 'progress': 166, 'attend': 94, 'agenc': 1, 'statu': 197, 'acidem': 4, 'underli': 79, 'ca': 105, 'resuscit': 44, 'clinician': 41, 'law': 18, 'blood': 141, 'member': 57, 'found': 81, 'vasopressin': 27, 'manual': 14, 'logist': 2, 'depress': 51, 'attempt': 119, 'compar': 163, 'section': 56, 'clear': 163, 'tidal': 47, 'patient': 205, 'elder': 1, 'spent': 65, 'soft': 154, 'restrict': 24, 'consolid': 110, 'provid': 114, 'albumin': 49, 'rub': 32, 'central': 107, 'decid': 61, 'earli': 73, 'involv': 85, ']': 80, 'unchang': 179, 'contact': 91, 'dx': 29, 'today': 148, 'son': 89, 'issu': 84, 'infecti': 53, 'friend': 32, 'elev': 122, 'evalu': 173, 'iadl': 1, 'regular': 66, 'region': 80, 'pneumothorax': 118, 'limb': 32, 'inr': 88, 'diagnosi': 176, 'pmh': 78, 'sick': 18, 'global': 31, 'time': 188, 'norepinephrin': 22, 'block': 44, 'independ': 19, 'guard': 18, 'protocol': 57, 'gallop': 7, 'recent': 129, 'enter': 58, 'hilar': 36, 'lactic': 54, 'lifelin': 1, 'intact': 103, 'arrest': 27, 'requir': 145, 'hemodynam': 111, 'start': 154, 'anion': 8, 'glycem': 62, 'l': 171, 'aspirin': 11, 'versu': 30, 'improv': 167, 'stomach': 93, 'plt': 82, 'ct': 132, 'point': 75, 'portion': 101, 'angl': 28, 'trend': 68, 'dextros': 11, 'rml': 18, 'growth': 28, 'anterior': 62, 'physic': 72, 'titl': 38, 'exceed': 3, 'add': 51, 'bandemia': 11, 'mode': 73, 'insulin': 80, 'exam': 110, 'hpi': 58, 'hco': 15, 'ng': 131, 'p': 193, 'arriv': 82, 'atrial': 90, 'tcurrent': 61, 'line': 183, 'coars': 117, 'wa': 210, 'meal': 10, 'lymph': 71, 'paralyt': 16, 'venou': 99, 'seem': 69, 'wave': 81, 'approxim': 72, 'cool': 67, 'absent': 62, 'copd': 45, 'b': 106, 'cathet': 130, 'admiss': 88, 'extens': 86, 'ratio': 7, 'mass': 65, 'hl': 5, 'puls': 133, 'pneumoboot': 25, 'ipratropium': 6, 'new': 160, 'stool': 150, 'sever': 172, 'rij': 35, 'sw': 33, 'gener': 124, 'allergi': 82, 'femal': 61, 'veteran': 1, 'ro': 63, 'med': 141, 'express': 42, 'fissur': 12, 'degre': 47, 'er': 19, 'appropri': 101, 'hospit': 75, 'heart': 157, 'intern': 78, 'care': 171, 'multipl': 128, 'addendum': 98, 'fir': 2, 'infiltr': 112, 'densiti': 45, 'exclud': 72, 'c': 177, 'ischem': 31, 'discuss': 156, 'carina': 78, 'caucasian': 2, 'state': 94, 'mcg': 105, 'pericardi': 61, 'occup': 18, 'vital': 80, 'sinc': 186, 'presep': 6, 'develop': 87, 'got': 28, 'cv': 136, 'thi': 230, 'etho': 2, 'fluticason': 2, 'peripher': 97, 'sun': 14, 'impress': 176, 'lipas': 16, 'spokesperson': 10, 'pleural': 176, 'g': 96, 'malign': 32, 'known': 85, 'autopeep': 6, 'bradi': 12, 'verapamil': 2, 'slide': 50, 'stabl': 177, 'chang': 222, 'methylpr': 5, 'chief': 63, 'key': 61, 'dic': 20, 'sclera': 23, 'epinephrin': 9, 'aspir': 108, 'statin': 17, 'spontan': 91, 'neck': 50, 'fen': 44, 'nc': 62, 'legal': 10, 'review': 135, 'addict': 8, ')': 229, 'privat': 7, 'live': 42, 'resid': 111, 'abg': 143, 'concern': 114, 'warfarin': 5, 'h': 136, 'distant': 27, 'prior': 186, 'hypovolemia': 12, 'unabl': 130, 'fix': 29, 'hypercapn': 6, 'bs': 138, 'aggress': 62, 'process': 94, 'st': 140, 'ast': 48, 'etiolog': 57, 'home': 99, 'tiotropium': 1, 'lactat': 47, 'rhythm': 126, 'upper': 162, 'appoint': 7, 'present': 189, 'vancomycin': 69, 'lung': 203, 'sputum': 132, 'acut': 134, 'drip': 79, 'employ': 7, 'two': 87, 'resourc': 3, 'could': 111, 'simvastatin': 4, 'ekg': 67, 'elig': 3, 'would': 127, 'around': 76, 'rr': 150, 'nodular': 15, 'husband': 35, 'critic': 66, 'rate': 165, 'radiograph': 127, 'exchang': 20, 'question': 128, 'also': 175, 'svc': 87, 'next': 81, 'sound': 151, 'aris': 6, 'connect': 7, 'prophylaxi': 70, 'atenolol': 4, 'ventilatori': 63, 'termin': 88, 'system': 99, 'pupil': 73, 'chemistri': 16, 'meantim': 3, 'non': 170, 'port': 83, 'addit': 117, 'hyperlipidemia': 9, 'afternoon': 103, 'anicter': 12, 'dvt': 79, 'full': 124, 'support': 171, 'final': 196, 'serial': 23, 'come': 72, 'extrem': 141, 'stay': 55, 'record': 46, 'niec': 13, 'total': 119, 'tc': 12, 'immedi': 45, 'assist': 81, 'obtain': 159, 'neut': 43, 'famili': 167, 'dose': 137, 'npo': 121, 'sat': 167, 'hous': 20, 'bicarbon': 9, 'antibiot': 102, 'consult': 99, 'pneumonia': 203, 'failur': 141, 'control': 101, 'pna': 151, 'bpm': 102, 'ill': 73, 'work': 87, 'bed': 103, 'examin': 202, 'cm': 141, 'place': 196, 'cough': 125, 'arteri': 119, 'ani': 142, 'rebound': 8, 'clinic': 117, 'includ': 113, 'need': 155, 'ventil': 129, 'metabol': 52, 'acidosi': 70, 'sepsi': 79, 'one': 117, 'murmur': 42, 'map': 90, 'room': 70, 'bolus': 98, 'disconnect': 2, 'commun': 88, 'protect': 61, 'sodium': 63, 'post': 131, 'repeat': 107, 'lvef': 38, 'sbp': 114, 'admit': 194, 'access': 113, 'person': 33, 'po': 143, 'nutrit': 85, 'min': 142, 'gtt': 134, 'preren': 12, 'levofloxacin': 40, 'hazi': 30, 'phone': 47, \"c'ed\": 12, 'clip': 175, 'hyperinfl': 5, 'form': 38, 'amp': 21, 'physician': 107, 'defer': 39, 'prepar': 21, 'hour': 154, 'mono': 43, 'cmh': 51, 'mg': 163, 'assess': 176, 'organomegali': 4, 'expir': 58, 'rel': 59, 'inquir': 4, 'hr': 189, 'pt': 179, 'stroke': 14, 'laundri': 1, 'bili': 47, 'hypothermia': 13, 'superimpos': 56, 'product': 99, 'coagulopathi': 20, 'tip': 126, 'plan': 161, 'anur': 28, 'albuterol': 58, 'deliveri': 63, 'event': 121, 'glucos': 82, 'might': 41, 'view': 119, 'mix': 30, 'keep': 104, 'retrocardiac': 50, 'licsw': 11, 'marri': 4, 'effort': 47, 'hypercapnia': 4, 'park': 4, 'edema': 182, 'notabl': 38, 'along': 46, 'f': 111, 'jvp': 18, 'azotemia': 6, 'code': 135, 'distend': 108, 'ph': 61, 'tf': 110, 'profound': 13, 'recurr': 33, 'undetect': 3, 'portabl': 178, '%': 188, 'epi': 11, 'devic': 94, 'costophren': 30, 'pre': 73, 'pea': 8, 'bedsid': 127, 'long': 58, 'previous': 80, 'pressor': 87, 'flatten': 7, 'cr': 88, 'presum': 40, 'worsen': 162, 'inflammatori': 22, 'infect': 100, 'visual': 109, 'seen': 157, 'intub': 147, 'ij': 79, 'amount': 132, 'tazo': 9, 'radiolog': 68, 'ivf': 111, 'pedal': 41, 'renal': 107, 'adl': 9, 'sulcu': 7, 'simultan': 2, 'mmhg': 71, 'drop': 120, 'insp': 84, 'copi': 13, 'emot': 68, 'reason': 199, 'inform': 122, 'hypotens': 131, 'arrang': 21, 'hi': 121, 'drain': 144, 'repres': 91, 'condit': 206, 'inferior': 37, 'hold': 90, 'daughter': 84, 'mid': 138, 'yo': 75, 'went': 50, 'demonstr': 88, 'alcohol': 15, 'thorac': 49, 'sr': 94, 'ha': 212, 'chest': 206, 'may': 142, 'k': 116, 'micu': 131, 'cvp': 66, 'proxi': 40, 'report': 205, 'like': 172, 'sign': 110, 'band': 44, 'leukocytosi': 37, 'arf': 34, 'answer': 59, 'meq': 92, 'consist': 152, 'trop': 16, 'met': 61, 'low': 172, 'tachycardia': 94, 'despit': 90, 'later': 115, 'social': 138, 'cvl': 42, 'experienc': 17, 'intervent': 65, 'elderli': 5, 'comparison': 166, 'design': 10, 'last': 148, 'ptx': 24, 'eo': 44, 'suffer': 13, 'clergi': 16, 'calcif': 59, 'deni': 66, 'cage': 1, 'phenylephrin': 16, 'promin': 65, 'increas': 196, 'ptt': 80, 'abnorm': 102, 'jugular': 68, 'fall': 42, 'upright': 57, 'emphas': 19, 'fio': 119, 'weak': 65, 'endotrach': 98, 'left': 216, 'funer': 16, 'baselin': 86, 'loss': 52, 'drug': 55, 'insert': 61, 'monitor': 174, 'evid': 141, 'apic': 43, 'though': 89, 'md': 134, 'current': 158, 'heent': 34, 'mosf': 3, '<': 77, 'still': 115, 'mouth': 82, 'prevent': 35, 'old': 200, 'r': 178, 'cpr': 32, '#': 211, 'unremark': 66, 'hepat': 27, 'well': 180, 'imag': 136, 'eeg': 7, 'disposit': 64, 'shock': 66, 'second': 40, 'complaint': 68, 'respiratori': 166, 'short': 86, 'differenti': 70, 'list': 25, 'resp': 163, 'vap': 72, 'hematoma': 20, 'hcp': 52, 'boot': 52, 'w': 177, 'unsuccess': 37, 'know': 27, 'tender': 82, 'bicarb': 28, 'ceftriaxon': 24, 'histori': 173, 'wait': 34, 'placement': 143, 'note': 199, 'ext': 68, 'bp': 181, 'mandat': 6, 'et': 95, 'wbc': 131, 'cremat': 3, 'recruit': 14, 'volum': 119, 'icu': 108, 'ga': 70, 'right': 211, 'psychiatr': 14, 'interim': 26, 'aortic': 68, 'brother': 29, 'think': 20, 'calcium': 55, 'htn': 50, 'use': 112, 'took': 27, 'day': 160, 'atropin': 8, 'dure': 114, 'abdomen': 119, 'tobacco': 15, 'adjust': 59, 'contour': 68, 'show': 131, 'wean': 118, 'data': 132, 'pm': 197, 'transient': 33, 'speak': 65, 'unemploy': 1, 'transfus': 52, 'ed': 61, 'bilater': 175, 'balanc': 85, 'grief': 2, 'hct': 122, 'ulcer': 81, '(': 229, 'pcv': 14, 'manag': 90, 'x': 185, 'u': 143, 'mmol': 49, 'acl': 4, 'rapid': 61, 'propofol': 31, 'arch': 15, 'opac': 148, 'aroudn': 1, 'fluid': 183, 'scale': 61, 'encourag': 43, 'flowsheet': 113, 'none': 113, 'small': 184, 'given': 180, 'artic': 2, 'continu': 176, 'stress': 66, 'bag': 43, 'previou': 172, 'tube': 161, 'ap': 175, 'recommend': 82, 'abov': 158, 'hypertens': 82, 'pho': 56, 'cxr': 136, 'woman': 83, 'team': 141, 'lead': 83, 'refractori': 8, 'visit': 106, 'electrolyt': 43, 'homemak': 1, 'appear': 201, 'bowel': 151, 'comment': 93, 'situat': 29, 'replet': 84, 'va': 11, 'normal': 164, 'onli': 153, 'poor': 134, 'pao': 66, 'q': 136, 'respiratiori': 1, 'interv': 156, 'salmeterol': 1, 'jpg': 63, 'septic': 41, 'medic': 217, 'bipap': 43, 'subsequ': 50, 'n': 70, 'function': 95, 'offer': 47, 'ul': 64, 'minut': 91, 'cultur': 100, 'pip': 58, 'major': 40, 'servic': 92, 'followup': 38, 'amylas': 17, 'detail': 69, 'agre': 84, 'distress': 118, 'tach': 21, 'peep': 106, 'past': 77, 'head': 114, 'differ': 81, 'initi': 132, 'kg': 111, 'unrespons': 78, 'urin': 165, 'empir': 36, 'ecg': 31, 'qday': 4, 'nurs': 141, 'enzym': 32, 'anoth': 58, 'lobe': 142, 'feel': 52, 'alt': 53, 'alk': 47, 'gap': 11, 'dl': 70, 'ns': 119, 'field': 72, 'morn': 93, 'want': 92, 'dilat': 85, 'howev': 131, 'father': 16, 'taken': 60, 'rt': 68, 'throughout': 145, 'bite': 19, 'oil': 2, 'foam': 5, 'occ': 56, 'sxn': 44, 'base': 165, 'respir': 45, 'accomod': 1, 'track': 29, 'make': 108, 'reflex': 33, 'protud': 1, 'rn': 94, 'diminish': 103, 'voic': 72, 'aeb': 1, 'minim': 147, 'alin': 53, 'v': 104, 'afebril': 105, 'alert': 78, 'comfort': 153, 'amber': 39, 'rsc': 8, 'temp': 102, 'waveform': 34, 'alo': 24, 'skin': 153, 'overnoc': 38, 'pvc': 73, 'sed': 23, 'amt': 126, 'pace': 23, 'cefepim': 27, 'due': 169, 'effect': 131, 'cont': 170, 'wheez': 83, 'respons': 149, 'perrla': 25, 'dim': 36, 'fecal': 16, 'lo': 43, 'duoderm': 30, 'dampen': 14, 'gag': 45, 'adequ': 106, 'cmx': 3, 'bloodcultur': 1, 'slough': 5, 'hourli': 26, 'rsccvl': 1, 'bloodi': 50, 'neuro': 134, 'cream': 38, 'sm': 64, 'toler': 128, 'pale': 39, 'night': 104, 'tx': 72, 'order': 129, 'held': 86, 'perform': 96, 'whole': 8, 'heme': 57, 'abl': 122, 'veri': 152, 'observ': 25, 'lll': 64, 'vpace': 4, 'shift': 155, 'sequenti': 2, 'size': 143, 'gluteal': 4, 'sluggish': 21, 'restraint': 44, 'coccxi': 2, 'layer': 27, 'psv': 59, 'buttock': 26, 'contract': 18, 'discomfort': 59, 'epiderm': 1, 'moder': 161, 'discourag': 4, 'vers': 68, 'hypoact': 70, 'heparin': 77, 'doe': 135, 'pressur': 128, 'urinari': 29, \"'d\": 89, 'exit': 9, 'sent': 125, 'gum': 6, 'carevu': 68, 'inplac': 5, 'posit': 166, 'perrl': 55, 'stage': 53, 'gulteal': 1, 'fld': 14, 'rla': 2, 'dk': 11, 'maintain': 122, 'wash': 14, 'dni': 104, 'goal': 116, 'suction': 118, 'stop': 93, 'advanc': 92, 'intermitt': 72, 'via': 117, 'yellow': 111, 'otherwis': 100, 'sore': 18, 'tlcvl': 1, 'pinpoint': 12, 'gu': 110, 'micro': 24, 'drainag': 53, 'vanc': 53, 'wheezi': 10, 'rest': 85, 'lot': 16, 'self': 42, 'touch': 41, 'turn': 98, 'pain': 164, 'expriatori': 1, 'done': 111, 'palpat': 34, 'ls': 113, 'chng': 1, 'limit': 122, 'movement': 112, 'ectopi': 98, 'reciev': 38, 'sc': 42, 'secret': 124, 'extub': 74, 'suggest': 133, 'sometim': 16, 'stimul': 61, 'decis': 96, 'prn': 116, 'arm': 78, 'output': 108, 'antifung': 13, 'lt': 48, 'freq': 42, 'ac': 81, 'nonpurpos': 6, 'dri': 78, 'le': 32, 'feet': 45, 'mod': 71, 'sxning': 8, 'expect': 54, 'cmv': 52, 'ms': 81, 'agit': 74, 'sampl': 32, 'residu': 83, 'see': 148, 'sicu': 27, 'radial': 94, 'tol': 66, 'hernia': 19, 'administ': 63, 'billiou': 1, 'ps': 81, 'overbreath': 38, 'ooz': 40, 'purpos': 60, 'scant': 72, 'restless': 42, 'light': 49, \"'s\": 184, 'bm': 86, 'blink': 5, 'ineffect': 13, 'patent': 97, 'tonoc': 2, 'call': 139, 'spite': 5, 'reveal': 64, 'doppler': 86, 'vt': 87, 'atrov': 43, 'react': 10, 'approx': 62, 'forearm': 8, 'threat': 2, 'rsbi': 63, 'ting': 58, 'good': 119, 'anemia': 34, 'art': 29, 'less': 111, 'bleed': 77, 'decreas': 161, 'rec': 75, 'page': 48, 'often': 14, 'remain': 193, 'npn': 76, 'vss': 32, 'vari': 13, 'equal': 41, 'unsupport': 1, 'nt': 60, 'greater': 60, 'btwn': 2, 'throat': 62, 'sx': 69, 'vs': 106, 'reach': 30, 'simv': 6, 'mental': 66, 'back': 136, 'push': 19, 'coccyx': 61, 'updat': 107, 'quadrant': 40, 'squeez': 16, 'obes': 32, 'pend': 113, 'piv': 61, 'bacteri': 27, 'inhal': 21, 'made': 180, 'rang': 76, 'cmo': 94, 'mm': 122, 'abd': 152, 'matter': 21, 'open': 98, 'breast': 10, 'nontend': 28, 'ii': 20, 'minimum': 7, 'latest': 34, 'frequent': 92, 'resolv': 86, 'hemoglobin': 2, 'vent': 103, 'crackl': 86, 'warm': 77, 'awar': 125, 'tlcl': 13, 'respond': 111, 'better': 80, 'swith': 2, 'abx': 116, 'flovent': 7, 'cpap': 63, 'wrist': 41, 'dress': 52, 'site': 79, 'slightli': 131, 'inc': 43, 'dnr': 138, 'tylenol': 66, 'mdi': 53, 'reassess': 30, 'fs': 45, 'morphin': 100, 'drawn': 63, '@': 110, 'wnl': 82, 'episod': 87, 'flexion': 3, 'ogt': 71, 'dark': 43, 'appli': 83, 'gm': 40, 'vesta': 15, 'treat': 105, 'notic': 16, 'grimac': 39, 'hm': 2, 'exp': 45, 'copiou': 49, 'nacl': 5, 'gave': 34, 'detect': 32, 'lubric': 3, 'poc': 35, 'gi': 145, 'cc': 156, 'virtual': 4, 'bolu': 108, 'riss': 39, 'close': 83, 'clean': 36, 'eye': 117, 'thick': 126, 'allevyn': 8, 'refer': 33, 'meet': 105, 'foley': 142, 'success': 48, 'occasion': 89, 'sedat': 109, 'mae': 51, 'move': 96, 'hand': 62, 'labil': 29, 'impair': 47, 'soap': 7, 'oral': 113, 'tongu': 13, 'command': 117, 'iv': 179, '``': 74, 'upstair': 1, 'occa': 24, 'sta': 2, 'mushroom': 13, 'wk': 9, 'convert': 25, 'diffus': 115, 'neg': 110, 'forget': 3, 'oxycontin': 3, 'trace': 131, 'longer': 43, 'margin': 43, 'possibl': 165, 'affect': 16, 'confus': 41, 'id': 116, 'em': 11, 'historian': 1, 'lopressor': 54, 'orient': 78, 'twice': 17, 'coumadin': 19, 'essenti': 47, 'dilt': 15, 'af': 32, 'paranoid': 2, 'late': 33, 'diff': 53, 'stand': 42, 'liquid': 60, 'precordi': 18, 'infarct': 60, 'away': 28, 'cap': 24, 'hurt': 1, 'believ': 16, 'afib': 54, 'flagyl': 52, 'ago': 44, 'nap': 13, 'overnight': 110, 'foleu': 1, 'sip': 20, 'diarrhea': 27, 'ra': 68, 'floor': 64, 'take': 85, 'chronic': 93, 'maintan': 1, 'grand': 5, 'ble': 16, 'specif': 89, 'nsr': 75, 'hostil': 1, 'hyperact': 5, 'yesterday': 99, 'drowsi': 4, 'transit': 44, 'oder': 3, 'conduct': 21, 'anterolater': 3, 'safeti': 33, 'slept': 28, 'myocardi': 38, 'unclear': 60, 'golden': 13, 'pass': 86, 'flare': 6, 'hosp': 10, 'intrins': 7, 'cta': 47, \"''\": 67, 'vessel': 34, 'inspir': 7, 'duct': 13, 'surround': 29, 'atelectasi': 97, 'contraind': 61, 'malposit': 10, 'white': 79, 'paranas': 18, 'us': 62, 'find': 179, 'segment': 37, 'axial': 46, 'sludg': 5, 'ascit': 36, 'avl': 7, 'mastoid': 22, 'supin': 58, 'indic': 183, 'gallbladd': 35, 'kidney': 58, 'techniqu': 92, 'intra': 29, 'apex': 37, 'vascular': 117, 'focal': 69, 'mild': 132, 'intracrani': 27, 'overal': 100, 'date': 125, 'locat': 73, 'allow': 66, 'vein': 73, 'junction': 68, 'invers': 16, 'lacunar': 8, 'extra': 24, 'almost': 18, 'lft': 27, 'chf': 75, 'ultrasound': 50, 'gallston': 13, 'foci': 5, 'osseou': 43, 'gastric': 38, 'slow': 50, 'float': 4, 'colon': 41, 'lethargi': 14, 'identifi': 69, 'markedli': 26, 'associ': 51, 'cell': 58, 'hepatopathi': 1, 'mayb': 8, 'silhouett': 84, 'proxim': 44, 'obstruct': 80, 'lesion': 61, 'cirrhosi': 10, 'rotat': 36, 'hydronephrosi': 24, 'complet': 103, 'sinus': 23, 'measur': 128, 'subcort': 3, 'microvascular': 7, 'oxygen': 102, 'liver': 57, 'overt': 13, 'tachypnea': 53, 'air': 121, 'ventricular': 95, 'path': 4, 'nonshadow': 1, 'coil': 16, 'hemorrhag': 59, 'flow': 108, 'organ': 59, 'side': 145, 'persist': 117, 'eval': 127, 'tissu': 49, 'lentiform': 1, 'ball': 3, 'common': 31, 'contrast': 102, 'midlin': 54, 'thirteen': 2, 'man': 120, 'nuclei': 1, 'mark': 67, 'ischemia': 46, 'secondari': 79, 'routin': 20, 'fundu': 9, 'ngt': 69, 'cours': 98, 'biliari': 21, 'preserv': 24, 'ge': 14, 'attenu': 12, 'multifoc': 68, 'scatter': 47, 'structur': 66, 'patholog': 27, 'portal': 20, 'hypopharynx': 2, 'irregular': 25, 'within': 111, 'overload': 65, 'diagnost': 41, 'bile': 20, 'echotextur': 3, 'pulmonari': 179, 'antegrad': 2, 'periventricular': 13, 'esophagu': 19, 'singl': 108, 'slight': 83, 'vea': 25, 'firm': 37, \"n't\": 38, 'brown': 74, 'febril': 33, 'deminish': 10, 'uncomfort': 40, 'local': 32, 'mso': 46, 'request': 90, 'relief': 29, 'wish': 78, 'piec': 6, 'onc': 87, 'extend': 60, 'chart': 32, 'levoph': 68, 'tan': 80, 'nsg': 54, 'abdomin': 99, 'clariti': 3, 'whether': 21, 'mgm': 7, 'liquidi': 2, 'gauz': 8, 'ett': 98, 'risb': 2, 'pmicu': 20, 'yankauer': 5, 'ativan': 65, 'congest': 78, 'green': 37, 'labor': 45, 'systol': 99, 'nose': 55, 'tickl': 1, 'bring': 13, \"'\": 36, 'grade': 35, 'english': 8, 'result': 115, 'facial': 20, 'per': 161, 'accept': 44, 'reposit': 70, 'convers': 34, 'ob': 25, 'front': 6, 'await': 92, 'reslut': 1, 'sy': 20, 'ax': 33, 'transfer': 91, 'airway': 80, 'rectal': 51, 'rll': 66, 'male': 76, 'ho': 53, '^': 31, 'pnx': 13, 'nd': 51, 'becom': 80, 'uo': 65, 'invas': 69, 'regard': 83, 'suspici': 28, 'earlier': 100, 'diuresi': 42, 'coronari': 34, 'icreas': 1, 'littl': 91, 'therapi': 87, '^^': 11, 'cad': 41, 'sleep': 84, 'suct': 18, 'round': 66, 'obj': 1, 'larg': 137, 'rare': 52, 'inconsist': 15, 'wiggl': 6, 'fever': 94, 'help': 71, 'organo': 1, 'restart': 75, 'period': 73, 'peerla': 4, 'sourc': 62, 'pearl': 11, 'airspac': 43, 'bid': 14, 'tachycard': 47, 'antb': 5, 'proceedur': 1, 'ah': 3, 'put': 55, 'neoplasm': 10, 'housestaff': 8, 'awak': 62, 'modest': 8, 'pox': 6, 'board': 19, 'diseas': 118, 'respirtori': 2, 'necrosi': 7, 'lumen': 74, 'spike': 28, 'contain': 19, 'priest': 27, 'amintain': 1, 'follw': 7, 'difficult': 119, 'object': 62, 'stabil': 29, 'staff': 47, 'palpabl': 33, 'pmd': 1, 'cx': 85, 'uprbc': 14, 'obey': 11, 'colac': 37, 'vanco': 109, 'kick': 5, 'bow': 3, 'space': 48, 'whiteish': 1, 'sediment': 37, 'middl': 32, 'bronch': 44, 'said': 27, 'risen': 1, 'letharg': 49, 'fragil': 7, 'tubefeed': 3, 'inflat': 9, 'hiatal': 9, 'integ': 18, 'integr': 35, 'respalar': 1, 'dd': 3, 'ealier': 1, 'heavi': 14, 'ad': 62, 'metronidazol': 16, 'opacif': 92, 'ing': 10, 'respalo': 1, 'eve': 35, 'anasarca': 31, 'pulm': 97, 'degrad': 4, 'facil': 12, 'simpl': 70, 'bone': 34, 'nuero': 7, 'begin': 59, 'poorli': 33, 'vsl': 1, 'run': 62, 'mrsa': 35, 'concentr': 25, 'benefit': 36, 'edemat': 27, 'bronchodil': 14, 'mediastin': 83, 'collaps': 55, 'obstruc': 1, 'get': 98, 'hemolyz': 1, 'fair': 32, 'mv': 28, 'risk': 62, 'thought': 39, 'mechan': 69, 'ther': 3, 'immobl': 3, 'bibasilar': 66, 'thrush': 8, 'extremit': 8, 'tko': 2, 'cardio': 15, 'spo': 97, 'cpa': 2, 'ivb': 9, 'narr': 9, 'sheet': 37, 'hypotent': 6, 'repond': 2, 'sine': 1, 'somewhat': 53, 'gen': 32, 'pull': 66, 'siderail': 6, 'option': 36, 'prbc': 51, 'fail': 55, 'fluctuat': 14, 'pronounc': 64, 'rhonchi': 68, 'noo': 1, 'andswer': 1, 'inconsistantli': 4, 'optiray': 24, 'although': 95, 'spont': 27, 'pheripher': 1, 'even': 100, 'uop': 56, 'hypoattenu': 7, 'precaut': 63, 'far': 40, 'purpl': 16, 'gross': 16, 'tire': 18, 'cancer': 41, 'climb': 16, 'tri': 79, 'bulki': 2, 'mn': 41, 'prognosi': 67, 'givn': 5, 'doze': 10, 'opacifi': 12, 'nevertheless': 3, 'viabl': 3, 'ab': 22, 'senna': 24, 'spasm': 3, 'remin': 3, 'color': 97, 'cathart': 2, 'approp': 5, 'gd': 10, 'subclavian': 51, 'senekot': 2, 'half': 17, 'pleuracentesi': 1, 'patchi': 41, 'go': 68, 'lay': 5, 'respolar': 2, 'restaint': 2, 'broncial': 2, 'reactiv': 47, 'ask': 75, 'outsid': 15, 'overinfl': 3, 'dc': 63, 'multi': 47, 'stim': 13, 'focu': 47, 'pleas': 158, 'tv': 58, 'bath': 19, 'feed': 87, 'tripl': 31, 'alarm': 28, 'respon': 5, 'dead': 22, 'mostli': 31, 'svt': 24, 'suppositori': 4, 'max': 69, 'rsmall': 1, 'red': 55, 'necrot': 12, 'calm': 29, 'ionic': 3, 'titrat': 106, 'respalor': 2, 'bue': 12, 'darker': 2, 'high': 133, 'hd': 40, 'look': 56, 'shake': 26, 'ks': 3, 'thru': 14, 'activ': 71, 'area': 117, 'unit': 90, 'partial': 53, 'verbal': 82, 'bronchoscopi': 30, 'lymphadenopathi': 34, 'noc': 36, 'numer': 20, 'liter': 80, 'paraesophag': 2, 'thorax': 16, 'arous': 60, 'sd': 5, 'obviou': 39, 'tl': 7, 'gather': 5, 'leg': 46, 'suport': 3, 'motion': 58, 'stimuli': 104, 'maximum': 7, 'pocket': 6, 'toe': 24, 'biopsi': 15, 'pl': 28, 'careview': 34, 'fi': 37, 'ray': 54, 'volvulu': 1, 'unrestrain': 8, 'cuff': 52, 'thu': 32, 'reccomend': 3, 'complex': 26, 'institut': 7, 'reduc': 42, 'dulcolax': 10, 'came': 51, 'loop': 48, 'pneumon': 20, 'withdraw': 68, 'background': 12, 'toilet': 45, 'metrondiazol': 1, 'cabg': 17, 'prolong': 38, 'rd': 14, 'lg': 38, 'easili': 44, 'kickinga': 1, 'cn': 10, 'togeth': 9, 'pit': 29, 'visibl': 30, 'unev': 22, 'obscur': 41, 'sl': 26, 'grim': 6, 'perla': 15, 'bcx': 13, 'thisk': 1, 'probabl': 114, 'grab': 5, 'alter': 52, 'nod': 42, 'enlarg': 79, 'pndg': 3, 'hemodyn': 2, 'lasix': 72, 'noxiou': 28, 'window': 33, 'fo': 12, 'postobstruct': 3, 'contist': 1, 'let': 19, 'interact': 22, 'rectum': 26, 'saturday': 10, 'knob': 3, 'bilat': 73, 'settl': 27, 'wrote': 7, 'zone': 30, 'problem': 55, 'difficulti': 61, 'mcq': 15, 'shoulder': 19, 'anesthesia': 29, 'acv': 10, 'becam': 89, 'infil': 1, 'term': 43, 'pulmon': 32, 'instabl': 24, 'reevalu': 12, 'remov': 110, 'fib': 47, 'nonspecif': 26, 'treatment': 90, 'alreadi': 27, 'kcl': 40, 'loos': 52, 'ngtd': 22, 'theraput': 2, 'incres': 2, 'levo': 67, 'bye': 6, 'plug': 43, 'perihilar': 37, 'avail': 65, 'aprv': 4, 'pan': 30, 'lightli': 16, 'desatur': 58, 'pap': 18, 'contempl': 1, 'totol': 1, 'grandson': 6, 'hard': 23, 'accord': 30, 'young': 1, 'mattress': 13, 'mortem': 12, 'three': 35, 'trach': 40, 'dysynchroni': 34, 'belli': 8, 'swell': 22, 'haldol': 21, 'incr': 10, 'narcot': 13, 'plateau': 43, 'node': 33, 'doxycyclin': 2, 'mask': 66, 'beyond': 23, 'og': 51, 'crest': 1, 'comlet': 1, 'word': 24, 'fb': 18, 'reintub': 19, 'letter': 4, 'sharp': 13, 'notifi': 87, 'kq': 2, 'criteria': 18, 'way': 32, 'tracheostomi': 33, 'summeri': 1, 'regimin': 4, 'depth': 4, 'comfirm': 1, 'mainli': 12, 'pattern': 79, 'desat': 66, 'antibx': 39, 'combiv': 13, 'rebolu': 1, 'befor': 76, 'movment': 3, 'decison': 1, 'definit': 48, 'paramet': 27, 'becaus': 42, 'tear': 34, 'functin': 1, 'substanti': 44, 'intens': 5, 'nrb': 46, 'hardwar': 6, 'grandchildren': 2, 'autoflow': 28, 'talk': 52, 'evelv': 1, 'interstiti': 59, 'fibrosi': 20, 'fiber': 16, 'quickli': 45, 'bo': 5, 'lpm': 5, 'constantli': 11, 'tomorrow': 65, 'give': 77, 'divid': 10, 'quit': 28, 'strong': 37, 'ectub': 1, 'alveolar': 33, 'cre': 7, 'therapeut': 36, 'ensu': 2, 'agreement': 26, 'yet': 46, 'steadili': 3, 'lighter': 2, 'calcifi': 33, 'wors': 53, 'breathsound': 5, 'dispo': 43, 'na': 39, 'hypoxia': 104, 'ild': 5, 'satisfactori': 23, 'sbt': 31, 'mildli': 76, 'teen': 29, 'extent': 39, 'breakdown': 46, 'remai': 2, 'asystol': 33, 'vomit': 30, 'face': 59, 'bun': 98, 'paradox': 13, 'wife': 53, 'vol': 44, 'mad': 4, 'complianc': 30, 'iliac': 10, 'coocyx': 1, 'healthi': 5, 'tlc': 31, 'confort': 4, 'shortli': 15, 'maew': 4, 'moment': 10, 'lrge': 1, 'everyth': 9, 'lnc': 14, 'pursu': 19, 'excel': 15, 'perl': 27, 'surgic': 44, 'pictur': 20, 'soon': 21, '&': 126, 'cpt': 34, 'began': 33, 'yest': 13, 'azygo': 4, 'satur': 48, 'toliet': 5, 'bb': 33, 'hx': 59, 'pink': 49, 'tachypn': 56, 'overli': 45, 'lavag': 30, 'pb': 3, 'reportedli': 16, 'ensur': 15, 'life': 29, 'continnu': 2, 'cl': 19, 'fe': 6, 'centimet': 12, 'respondibng': 1, 'dramat': 8, 'tent': 28, 'nasogastr': 79, 'spon': 11, 'decidd': 1, 'borderlin': 49, 'synch': 8, 'promot': 19, 'sump': 3, 'redden': 25, 'levoflox': 29, 'nr': 5, 'procedur': 99, 'amnt': 2, 'psi': 6, 'watch': 16, 'stat': 21, 'babi': 2, 'oj': 1, 'food': 18, 'kid': 2, 'ass': 9, 'pn': 6, 'softner': 1, 'alseep': 1, 'azithromycin': 22, 'peac': 12, 'welfar': 1, 'poss': 21, 'accessori': 31, 'custard': 3, 'dopa': 7, 'cathol': 8, 'mucou': 35, 'lack': 28, 'tolarg': 1, 'eat': 26, 'leav': 26, 'sedimen': 2, 'quad': 12, 'coverag': 67, 'anxiou': 53, 'listen': 5, 'ppn': 4, 'fell': 16, 'dip': 12, 'rail': 3, 'address': 43, 'save': 3, 'hiflow': 4, 'gluc': 5, 'confirm': 83, 'pleurit': 4, 'bit': 22, 'fa': 8, 'basil': 12, 'disori': 7, 'cover': 72, 'bay': 1, 'cannula': 38, 'return': 91, 'xray': 28, 'replac': 55, 'pcp': 36, 'guaifenesin': 3, 'hypox': 45, 'bacitracin': 1, 'confluent': 23, 'void': 21, 'soc': 21, 'center': 17, 'tenuou': 24, 'fluconazol': 9, 'anywher': 4, 'aaox': 2, 'softli': 24, 'assign': 4, 'nonprod': 2, 'muscl': 58, 'antecub': 4, 'felt': 44, 'fit': 5, 'spell': 4, 'sister': 43, 'tommorrow': 9, 'unsaf': 3, 'nrbm': 4, 'anxieti': 44, 'coliti': 19, 'fungal': 19, 'fro': 7, 'througout': 5, 'induct': 3, 'qhr': 5, 'sugar': 32, 'antigen': 11, 'lost': 7, 'nasal': 59, 'chaplain': 5, 'especi': 22, 'carinii': 2, 'trigger': 39, 'sob': 79, 'stick': 48, 'sync': 7, 'induc': 23, 'occular': 1, 'cramp': 1, 'obatin': 2, 'enc': 5, 'moniotr': 4, 'descis': 1, 'mention': 20, 'recov': 26, 'free': 97, 'bigger': 2, 'mgx': 3, 'retinopathi': 1, 'ox': 23, 'noon': 29, 'spanish': 3, 'draw': 44, 'dyspneic': 9, 'guardian': 6, 'fx': 10, 'gaurdianship': 1, 'guid': 28, 'asleep': 14, 'compr': 1, 'wind': 1, 'shovel': 10, 'exert': 9, 'fingerstick': 17, 'magso': 2, 'name': 30, 'neb': 70, 'hover': 5, 'occassion': 12, 'nonproduct': 10, 'humidifi': 12, 'inflam': 4, 'caus': 63, 'plu': 13, 'deteri': 1, 'vision': 12, 'pnd': 27, 'ect': 5, 'machin': 13, 'weepi': 2, 'np': 15, 'much': 83, 'fsb': 18, 'juic': 5, 'mother': 27, 'implant': 2, 'lnp': 4, 'mani': 40, 'punctur': 15, 'visitor': 13, 'incontin': 19, 'water': 54, 'whi': 15, 'thank': 19, 'qod': 4, 'closer': 4, 'episdo': 1, 'surviv': 11, 'membran': 10, 'pag': 3, 'bedpan': 4, 'fruit': 1, 'straight': 3, 'reorient': 15, 'wear': 10, 'npc': 5, 'frequenc': 13, 'deficit': 14, 'zosyn': 67, 'pr': 49, 'axitey': 1, 'ss': 31, 'minor': 8, 'isol': 16, 'diet': 57, 'cdiff': 19, 'reg': 28, 'exurt': 1, 'ice': 10, 'awaken': 14, 'hyponatremia': 6, 'pu': 2, 'picc': 59, 'tfr': 1, 'slowli': 52, 'shallow': 21, 'intak': 43, 'sporad': 2, 'ltr': 1, 'atrium': 66, 'balloon': 14, 'assum': 10, 'codein': 8, 'lorazepam': 16, 'aunt': 2, 'potenti': 48, 'send': 38, 'sleev': 3, 'decr': 6, 'apart': 5, 'specimen': 22, 'duski': 10, 'heplock': 6, 'els': 8, 'syrup': 2, 'lunch': 4, 'restr': 2, 'children': 24, 'overcom': 2, 'endo': 54, 'hiv': 5, 'financila': 1, 'palp': 15, 'fine': 24, 'lat': 11, 'appetit': 13, 'doubl': 34, 'fm': 15, 'incont': 9, 'pneumocysti': 5, 'age': 21, 'chip': 5, 'stamp': 1, 'ecchymot': 9, 'rib': 15, 'height': 77, 'stuck': 5, 'fractur': 25, 'melanot': 1, 'supervisig': 1, 'aorta': 65, 'patenc': 9, 'fent': 46, 'interatri': 30, 'pill': 13, 'reseal': 1, 'pulseless': 6, 'suppport': 6, 'cbc': 21, 'superior': 42, 'cardiolog': 24, 'depart': 8, 'femor': 39, 'wide': 35, 'grossli': 46, 'tte': 46, 'crit': 15, 'switch': 47, 'leak': 50, 'wob': 31, 'dual': 14, 'dermabond': 1, 'extext': 3, 'sux': 5, 'co': 66, 'shown': 12, 'conclus': 47, 'secur': 31, 'coarser': 1, 'toward': 45, 'venopunctur': 2, 'radiologist': 17, 'sanguin': 6, 'jerk': 4, 'defibril': 10, 'sternal': 18, 'reject': 1, 'lv': 38, 'barrier': 38, 'greatli': 8, 'multipodu': 8, 'lascer': 1, 'semi': 40, 'consent': 39, 'kinair': 7, 'chge': 1, 'interrog': 1, 'test': 65, 'blade': 2, 'compens': 21, 'graft': 9, 'angiograph': 9, 'nite': 2, 'ivp': 56, 'lb': 38, 'anticip': 21, 'equivoc': 6, 'transven': 4, 'inject': 19, 'dup': 4, 'quentin': 1, 'rxed': 1, 'sch': 11, 'thoracentesi': 21, 'jeopard': 1, 'readjust': 6, 'armboard': 1, 'tid': 31, 'insomnia': 4, 'hep': 31, 'contin': 12, 'particip': 14, 'beat': 46, 'fluoro': 13, 'cal': 13, 'hit': 14, 'bsa': 32, 'clearer': 12, 'moistur': 7, 'qualiti': 54, 'lift': 7, 'poe': 10, 'anatomi': 5, 'documetn': 1, 'say': 34, 'posterior': 48, 'scrub': 1, 'seal': 17, 'vasopressor': 21, 'corneal': 18, 'dsg': 34, 'flush': 45, 'ip': 27, 'ccu': 13, 'tell': 11, 'bil': 39, 'predominantli': 25, 'dialysi': 41, 'lyte': 79, 'sput': 14, 'syst': 1, 'bypass': 7, 'clot': 41, 'util': 19, 'citrat': 6, 'peel': 16, 'dsd': 18, 'jerki': 1, 'number': 30, 'agon': 24, 'load': 27, 'ppi': 49, 'adapt': 13, 'fluoroscop': 18, 'obvious': 6, 'seriou': 7, 'interpret': 59, 'cp': 29, 'fire': 2, 'cava': 25, 'postion': 4, 'hg': 52, 'unchg': 1, 'thin': 69, 'cvvhdf': 6, 'hydrocortison': 11, 'desynchroni': 1, 'steril': 25, 'mexiletin': 1, 'consumpt': 2, 'attent': 41, 'supervis': 12, 'ica': 6, 'pla': 1, 'told': 18, 'aerat': 47, 'aloevesta': 2, 'accompani': 24, 'rx': 36, 'opsit': 2, 'acidot': 23, 'chg': 9, 'tortuou': 13, 'percutan': 4, 'direct': 38, 'spt': 2, 'bacteremia': 10, 'fulli': 38, 'pfr': 7, 'guiac': 20, 'inpati': 43, 'bundl': 29, 'fem': 19, 'chamber': 21, 'needl': 13, 'emerg': 28, 'either': 36, 'rrt': 16, 'replct': 10, 'tap': 21, 'tone': 60, 'midnit': 2, 'iintub': 1, 'technic': 50, 'inch': 46, 'wound': 32, 'tape': 21, 'sutur': 17, 'prolen': 1, 'edg': 6, 'cardiomegali': 48, 'weep': 16, 'wire': 36, 'subcutan': 23, 'absorbs': 1, 'deterior': 30, 'till': 19, 'pacer': 12, 'entri': 9, 'deliv': 12, 'cavoatri': 28, 'branch': 34, 'reduct': 13, 'dced': 3, 'steroid': 42, 'dsging': 1, 'mitral': 44, 'rusti': 9, 'chged': 1, 'th': 19, 'leaflet': 39, 'alleyvn': 1, 'configur': 8, 'cyu': 6, 'prednison': 22, 'micropunctur': 11, 'anti': 22, '^^wob': 2, 'overnit': 3, 'hrli': 2, 'mexiliten': 1, 'mech': 17, 'rv': 38, 'bigemini': 8, 'xylocain': 1, 'gel': 9, 'focus': 27, 'septal': 28, 'revis': 9, 'fashion': 16, 'damp': 4, 'mortum': 4, 'soften': 3, 'explain': 46, 'ir': 24, 'pacemak': 15, 'wall': 84, 'aquacel': 6, \"'ll\": 1, 'hemodialysi': 16, 'tannish': 8, 'fibril': 54, 'vtach': 15, 'guidanc': 19, 'guidewir': 10, 'screen': 24, 'moist': 14, 'lock': 4, 'thicken': 66, 'plct': 10, 'pneumo': 13, 'heel': 14, 'vassopressin': 2, 'fentanyl': 79, 'necessari': 40, 'tunnel': 8, 'streak': 10, 'cleans': 18, 'everi': 29, 'septum': 33, 'gr': 10, 'oh': 1, 'tabl': 14, 'nutren': 25, 'aquasel': 1, 'crrt': 11, 'project': 53, 'pericardium': 39, 'five': 3, 'axillari': 42, 'asymmetr': 24, 'assessment': 1, 'lessen': 4, 'standard': 78, 'fairli': 21, 'blb': 9, 'ef': 43, 'qid': 24, 'precis': 4, 'oett': 15, 'usual': 31, 'lidocain': 19, 'readi': 37, 'adequato': 1, 'complic': 61, 'toxic': 17, 'wo': 6, 'drape': 15, 'hemhroid': 1, 'duplex': 10, 'creation': 1, 'weight': 86, 'quiac': 5, 'adaptic': 1, 'daili': 72, 'french': 20, 'restrain': 17, 'regurgit': 42, 'hytap': 1, 'deep': 40, 'cvvhd': 14, 'diminsh': 13, 'ar': 28, 'lump': 2, 'hypokinesi': 25, 'hemothorax': 6, 'incis': 9, 'knee': 8, 'creat': 70, 'cvvh': 17, 'suboptim': 28, 'mlc': 2, 'belong': 14, 'sero': 3, 'tele': 18, 'surgigel': 3, 'decub': 12, 'sheath': 21, 'lido': 2, 'afeb': 20, 'plaement': 1, 'paper': 6, 'aicd': 3, 'prep': 20, 'ideal': 40, 'neosynephrin': 18, 'resum': 37, 'reappli': 3, 'fellow': 39, 'hemodi': 2, 'cath': 77, 'amiodaron': 22, 'vena': 25, 'valv': 58, 'dysfunct': 42, 'tract': 17, 'anyth': 17, 'temperatur': 28, 'upon': 57, 'ventricl': 59, 'scrotum': 6, 'ethic': 8, 'cloudi': 28, 'placemen': 1, 'evel': 2, 'elimin': 7, 'shut': 28, 'preop': 1, 'rewir': 3, 'translat': 10, 'infrequ': 12, 'gratitud': 3, 'fight': 3, 'brownish': 11, 'etc': 32, 'perfus': 24, 'di': 5, 'coag': 26, 'vnet': 1, 'levof': 7, 'msi': 2, 'blue': 12, 'ue': 21, 'mtg': 27, 'towel': 4, 'declin': 66, 'frequet': 1, 'forehead': 4, 'avpac': 2, 'gromac': 1, 'defib': 2, 'escar': 1, 'lengthi': 5, 'br': 3, 'incison': 1, 'hungri': 7, 'glu': 8, 'friendli': 1, 'secreat': 24, 'finger': 44, 'mulit': 2, 'wt': 7, 'realiti': 2, 'comress': 1, 'kept': 38, 'hesit': 3, 'mucousi': 2, 'mucoid': 3, 'exhaust': 4, 'lengthli': 1, 'scl': 4, 'upc': 1, 'black': 11, 'bilingu': 1, 'hypo': 22, 'quintin': 2, 'meticul': 2, 'irrig': 15, 'tmap': 1, 'draing': 6, 'wherea': 2, 'sad': 5, 'reconcil': 1, 'kvo': 22, 'biliou': 25, 'great': 28, 'bare': 7, 'briskli': 7, 'follwo': 2, 'aid': 21, 'plane': 7, 'scan': 57, 'gase': 11, 'glucon': 13, 'hypotherm': 19, 'gib': 11, 'tremor': 9, 'accur': 15, 'dm': 23, 'separ': 5, 'rom': 10, 'drb': 2, 'maroon': 8, 'multisystem': 5, 'drianag': 1, 'peri': 15, 'av': 17, 'unequ': 6, 'nearli': 10, 'fri': 24, 'bld': 25, 'lle': 8, 'licw': 2, 'levoquin': 13, 'protonix': 38, 'weekend': 21, 'first': 47, 'hope': 41, 'sctotum': 1, 'spiritu': 4, 'bg': 15, 'unless': 12, 'exposur': 8, 'diaphragm': 51, 'jp': 4, 'pac': 35, 'intrus': 1, 'occur': 34, 'umbil': 2, 'best': 29, 'compromis': 25, 'rise': 50, 'lue': 18, 'ultrafiltr': 4, 'emesi': 21, 'digit': 3, 'spend': 5, 'brought': 32, 'larger': 30, 'minior': 2, 'flagli': 1, 'pray': 6, 'chanc': 7, 'vaselin': 2, 'heat': 2, 'uffp': 4, 'ioniz': 34, 'clamp': 24, 'nectot': 1, 'lingular': 3, 'cooler': 4, 'delin': 4, 'lc': 9, 'dicat': 1, 'butt': 2, 'filter': 13, 'sao': 25, 'surgeri': 45, 'wed': 28, 'cpncp': 1, 'nml': 5, 'quinton': 3, 'bagdsd': 1, 'describ': 38, 'near': 36, 'trust': 2, 'accesori': 2, 'wonder': 3, 'smaller': 23, 'portugues': 1, 'mulitpl': 3, 'qd': 22, 'caludin': 1, 'convict': 1, 'pleth': 5, 'tpn': 27, 'attitud': 1, 'distal': 59, 'gelatin': 2, 'among': 6, 'hugger': 20, 'sec': 24, 'stapl': 4, 'bilou': 3, 'heal': 18, 'determin': 43, 'foul': 5, 'manitain': 2, 'content': 17, 'rle': 5, 'patch': 28, 'asp': 27, 'end': 90, 'bodi': 79, 'cyanot': 14, 'fore': 1, 'length': 26, 'vigor': 15, 'refil': 6, 'pick': 17, 'grayish': 3, 'vitamin': 14, 'languag': 14, 'tpa': 6, 'bright': 12, 'purul': 9, 'least': 44, 'die': 31, 'fingertip': 2, 'brb': 9, 'purluant': 1, 'consid': 99, 'assit': 2, 'ctic': 1, 'aggreement': 1, 'dtr': 28, 'woud': 1, 'administr': 37, 'fasia': 1, 'step': 21, 'collect': 43, 'suit': 6, 'import': 9, 'pager': 10, 'clacium': 1, 'apnea': 21, 'swollen': 14, 'dopp': 4, 'estrem': 1, 'ear': 60, 'tonight': 45, 'linear': 11, 'battl': 1, 'areaa': 1, 'pitressin': 7, 'serou': 26, 'fighter': 2, 'tm': 12, 'lw': 9, 'levofloxicin': 1, 'dra': 1, 'inciis': 1, 'esrd': 14, 'fluc': 2, 'scrotal': 4, 'stiff': 11, 'palm': 1, 'miss': 4, 'adb': 1, 'fear': 8, 'desir': 23, 'sacrum': 13, 'apneic': 12, 'ion': 3, 'gentli': 7, 'correct': 33, 'incisin': 1, 'schedul': 36, 'rhonchor': 43, 'twenti': 4, 'recheck': 40, 'ie': 7, 'briefli': 35, 'ffp': 24, 'cagluc': 4, 'slogh': 1, 'rue': 13, 'wd': 3, 'gastrectomi': 1, 'rlle': 1, 'occl': 1, 'yankaur': 7, 'neurolog': 63, 'appreci': 64, 'requirin': 1, 'bair': 18, 'sacral': 10, 'futur': 27, 'relax': 11, 'passiv': 3, 'bulb': 2, 'surpris': 2, 'nahco': 6, 'reaction': 40, 'prone': 6, 'nepro': 6, 'inner': 10, 'label': 1, 'autopsi': 37, 'thing': 15, 'atc': 11, 'worker': 22, 'perin': 3, 'suc': 1, 'protein': 30, 'drive': 16, 'unsustain': 2, 'calibr': 3, 'waen': 1, 'ten': 3, 'perlla': 1, 'flsd': 1, 'inccreas': 1, 'stumul': 1, 'station': 3, 'disscuss': 1, 'bond': 3, 'tgd': 1, 'bradycard': 16, 'pharm': 2, 'audibl': 25, 'expans': 50, 'tend': 12, 'grin': 1, 'chem': 9, 'pk': 3, 'granula': 1, 'throught': 3, 'appropriatli': 7, 'pretti': 4, 'transport': 48, 'lie': 24, 'ileu': 21, 'midodrin': 3, 'epo': 1, 'resolut': 29, 'walk': 9, 'slint': 1, 'coupl': 23, 'realli': 11, 'nkda': 11, 'dialyz': 6, 'escap': 1, 'easi': 5, 'warmer': 4, 'absorbt': 2, 'bairhugg': 6, 'mobil': 10, 'messag': 7, 'couplet': 3, 'catch': 1, 'li': 9, 'req': 18, 'consi': 1, 'noiw': 1, 'clearli': 30, 'trial': 45, 'zero': 14, 'seizur': 23, 'huge': 5, 'integumentari': 13, 'multipod': 1, 'pleasur': 2, 'primarili': 18, 'shape': 7, 'prisma': 1, 'atool': 1, 'hs': 11, 'foot': 17, 'hig': 3, 'rabbi': 6, 'peg': 31, 'bedrest': 4, 'diamet': 28, 'stoma': 5, 'reddish': 1, 'finish': 11, 'chane': 3, 'town': 7, 'hhad': 1, 'skew': 1, 'lsc': 8, 'reglan': 18, 'remav': 1, 'tarri': 2, 'refus': 32, 'syring': 8, 'gentleman': 6, 'advers': 12, 'tue': 28, 'discharg': 32, 'gain': 7, 'drift': 13, 'type': 62, 'unlik': 35, 'unsuccessful': 2, 'escal': 30, 'perk': 2, 'chair': 17, 'achi': 1, 'bottom': 4, 'pad': 23, 'sleepi': 6, 'properli': 11, 'thigh': 10, 'quo': 2, 'comput': 3, 'ran': 5, 'gabapentin': 2, 'rul': 49, 'except': 94, 'broncheal': 1, 'excori': 11, 'gtube': 3, 'bc': 20, 'secrtion': 1, 'taut': 1, 'caution': 3, 'motil': 13, 'sprint': 1, 'butr': 1, 'graviti': 16, 'alb': 25, 'kub': 19, 'resent': 4, 'part': 40, 'subsid': 3, 'fifteen': 1, 'vbg': 12, 'reliev': 17, 'inlin': 1, 'higher': 41, 'stpo': 1, 'erythromycin': 6, 'afterward': 8, 'abc': 2, 'increaseda': 1, 'promod': 5, 'initit': 2, 'alot': 7, 'reassur': 23, 'discard': 4, 'trachesotomi': 1, 'ope': 2, 'balnac': 1, 'asynchron': 3, 'perianl': 1, 'sucion': 1, 'surfac': 7, 'titer': 2, 'antidepress': 3, 'si': 5, 'rhochi': 1, \"'m\": 4, 'shoot': 1, 'polymorph': 3, 'player': 1, 'concernsa': 1, 'oncpap': 1, 'someth': 8, 'hypoglycem': 2, 'flat': 32, 'glargen': 2, 'expiratori': 20, 'auscult': 33, 'ashen': 4, 'stau': 5, '{': 64, 'sml': 13, 'uf': 35, 'mucomyst': 8, 'discoordin': 8, 'snd': 9, 'memori': 6, 'minimali': 2, 'dialyisi': 1, 'freeli': 3, 'vioxx': 1, 'antibodi': 8, 'depend': 55, 'valu': 36, 'target': 10, 'rigid': 7, 'happi': 7, 'gradual': 21, 'sq': 44, 'absorb': 8, 'gt': 7, 'marroon': 1, 'neutrapho': 5, 'gnd': 2, 'ssri': 10, 'adminsit': 1, 'strength': 19, 'accuraci': 3, 'trail': 5, 'asymptomat': 8, 'seret': 1, 'admin': 13, 'rehab': 39, 'ssi': 30, 'pa': 51, 'happen': 9, 'derm': 7, 'renmain': 1, 'pseudomona': 11, 'peroxid': 1, 'withdrawn': 20, 'mucu': 22, 'poitiv': 1, 'uq': 1, 'highli': 8, 'avoid': 31, 'grip': 5, 'gauard': 1, 'rhonchial': 2, 'endoc': 11, 'puff': 2, 'sxtn': 3, 'tast': 1, 'nonsustain': 1, 'sid': 1, 'delay': 32, 'oth': 2, 'nervous': 1, 'dorsali': 9, 'infact': 2, 'prev': 8, 'upset': 14, 'enjoy': 4, 'appar': 47, 'exercis': 10, 'troubl': 7, 'survail': 1, 'torso': 25, 'rehydr': 2, 'superfici': 18, 'ongo': 30, 'hob': 49, 'hy': 1, 'salin': 20, 'acknowledg': 10, 'addendeum': 1, 'multip': 1, 'caregiv': 3, 'photo': 1, 'drsg': 11, 'oint': 2, 'anniversari': 1, 'asymthomat': 1, 'valuabl': 21, 'mr': 68, 'lantu': 4, 'zofran': 9, 'mbp': 2, 'triadyn': 7, 'redraw': 5, 'coffe': 12, 'awok': 3, 'sentenc': 7, 'uppr': 1, 'reserv': 12, 'phenergan': 1, 'match': 7, 'recal': 3, 'rhoncher': 9, 'shop': 1, 'paco': 12, 'fuild': 1, 'bout': 4, 'drink': 10, 'heard': 21, 'discolor': 4, 'mean': 18, 'correl': 59, 'dializ': 2, 'ventolin': 2, 'cri': 16, 'blanchabl': 2, 'enough': 24, 'cope': 25, 'never': 14, 'compress': 52, 'stale': 1, 'visabl': 1, 'meanwhil': 1, 'peroid': 1, 'hemo': 2, 'corrul': 1, 'mst': 1, 'dialysis': 2, 'pp': 24, 'acidod': 2, 'nois': 4, 'blding': 1, 'peak': 28, 'dvd': 1, 'eas': 11, 'beir': 1, 'clock': 4, 'repeatedli': 9, 'bank': 15, 'bronc': 2, 'rrectal': 1, 'vue': 6, 'reincert': 1, 'nss': 5, 'main': 45, 'perineum': 9, 'hydrogen': 1, 'hip': 20, 'mouht': 1, 'ayt': 1, 'colleg': 1, 'pigtail': 9, 'morgu': 17, 'week': 49, 'weaker': 5, 'render': 3, 'pvd': 14, 'stimulu': 13, 'tachi': 31, 'write': 15, 'sp': 17, '}': 64, 'facilit': 14, 'ced': 11, 'nickel': 1, 'sure': 16, 'infreq': 2, 'norepi': 7, 'empti': 6, 'nnpn': 1, 'dyspnea': 53, 'duederm': 1, 'carevi': 1, 'loc': 8, 'profoundli': 3, 'oob': 18, 'greenish': 11, 'ok': 37, 'bruis': 18, 'subtherapeut': 4, 'compliant': 7, 'written': 31, 'minit': 1, 'erythro': 3, 'resist': 28, 'nwith': 1, 'mentat': 5, 'pleasant': 14, 'environ': 11, 'significantli': 58, 'woken': 4, 'glug': 1, 'eccymoisi': 1, 'ach': 2, 'pic': 16, 'begun': 8, 'aggit': 12, 'canula': 6, 'ic': 2, 'receic': 1, 'reflect': 49, 'neo': 37, 'modul': 1, 'heperin': 2, 'dp': 72, 'mf': 2, 'yel': 1, 'true': 8, 'net': 16, 'hem': 8, 'cipro': 19, 'soda': 1, 'flatu': 17, 'stem': 11, 'yl': 1, 'account': 9, 'cooper': 26, 'liq': 15, 'stare': 3, 'douderm': 4, 'dilaudid': 9, 'pul': 11, 'coumidin': 1, 'ivpb': 2, 'aprox': 1, 'atr': 9, 'fromn': 2, 'brisk': 35, 'cd': 17, 'intermit': 9, 'distract': 1, 'build': 2, 'portex': 6, 'tight': 13, 'clearanc': 7, 'circuit': 7, 'pgt': 3, 'prob': 8, 'quiet': 33, 'decent': 3, 'jitteri': 2, 'duodersm': 1, 'break': 20, 'glargin': 5, 'challang': 1, 'mvr': 2, 'relat': 81, 'brief': 27, 'nbp': 36, 'luck': 2, 'ked': 1, 'frame': 4, 'session': 3, \"'ve\": 2, 'intercanula': 1, 'door': 3, 'shook': 2, 'parti': 1, 'somul': 4, 'lavarg': 3, 'sours': 2, 'settin': 1, 'decubitu': 15, 'lethgar': 1, 'pseudamona': 1, 'fan': 1, 'sxing': 15, 'emycin': 2, 'iii': 13, 'asssess': 1, 'fewer': 4, 'endocrin': 21, 'atro': 7, 'nausea': 28, 'oincreas': 1, 'disturb': 4, 'tirtat': 1, 'reasobali': 1, 'dialys': 2, 'fianrd': 1, 'symptomat': 6, 'ambu': 15, 'spec': 31, 'prayer': 8, 'hydrat': 23, 'crx': 2, 'saddl': 1, 'periph': 4, 'freg': 2, 'msicu': 1, 'herniat': 2, 'chunki': 2, 'beinfit': 1, 'item': 3, 'aim': 13, 'blanket': 17, 'roommat': 1, 'bactrim': 18, \"tf'ing\": 9, 'card': 42, 'unstabl': 30, 'edt': 3, 'deveolp': 1, 'medicin': 12, 'onset': 14, 'icecream': 2, 'commenc': 6, 'clr': 10, 'monday': 21, 'preliminari': 16, 'sponten': 1, '^hr': 2, 'sulphat': 1, 'dest': 1, 'squamo': 1, 'sulci': 16, 'meant': 1, 'labia': 2, 'supress': 2, 'bronchospast': 3, 'expector': 17, 'dnrdni': 1, 'quick': 4, 'rash': 42, 'ew': 16, 'diures': 39, 'basilar': 33, 'rebreath': 14, 'chemotherapi': 10, 'fidgiti': 1, 'ectop': 6, 'nil': 1, 'carotid': 17, 'errat': 5, 'hunger': 8, 'beforehand': 1, 'sit': 29, \"'finish\": 1, 'metastas': 10, 'burst': 16, 'jaw': 5, 'nad': 21, 'nonoper': 1, 'sudden': 11, 'cistern': 8, 'nrm': 1, 'rythm': 5, 'guifenasin': 1, 'indigest': 1, 'nippv': 12, 'mind': 7, 'squamou': 7, 'spread': 12, 'solumedrol': 19, 'rather': 26, 'os': 7, 'diagnos': 15, 'newli': 32, 'breat': 2, '^bp': 2, 'taper': 19, 'metastasi': 4, 'tsicu': 3, 'yea': 1, 'tighten': 7, 'suppress': 6, 'demand': 21, 'exact': 5, 'pet': 6, 'sato': 2, 'coagul': 5, 'irrit': 9, 'carcinoma': 18, 'unexplain': 4, 'yr': 34, 'bronchospasm': 6, 'faint': 8, 'mlph': 1, 'nodul': 22, 'brain': 27, 'rediscuss': 5, 'raf': 4, 'bx': 10, 'enhanc': 16, 'therefor': 36, 'tot': 1, 'diltiazem': 16, 'gc': 3, 'niv': 12, 'adm': 23, 'prelim': 13, 'tacypn': 4, 'diaphoret': 28, 'rpt': 6, 'spoken': 10, '^rr': 4, 'oncolog': 15, 'mb': 10, 'sinimet': 1, 'anaerob': 11, 'uti': 33, 'fhp': 12, 'pericholecyst': 11, 'extrahepat': 2, 'cycl': 14, 'ductal': 6, 'neurolept': 1, 'ceftaz': 8, 'trachea': 20, 'insuffici': 19, 'rbc': 12, 'parenchym': 62, 'tegretol': 1, 'incomprehens': 7, 'succinylcholin': 1, 'signif': 2, 'regim': 14, 'djd': 1, 'dept': 3, 'unusu': 12, 'etomid': 4, 'incontincn': 1, 'decres': 4, 'intermittenli': 2, 'synthroid': 6, 'reinsert': 6, 'rcd': 1, 'stiffneck': 1, 'mul': 2, 'conntact': 1, 'dementia': 23, 'cortisol': 10, 'groin': 24, 'insuff': 2, 'dopamin': 15, 'devedlop': 1, 'crystal': 2, 'gnr': 17, 'flex': 8, 'levaquin': 20, 'hung': 10, 'curtail': 1, 'ocd': 1, 'parkinson': 8, 'additin': 1, 'vanoc': 1, 'fact': 12, 'breah': 1, 'cpk': 9, 'fluoroscopi': 8, 'pancrea': 37, 'frontal': 40, 'third': 17, 'bph': 5, 'hemidiaphragm': 19, 'polici': 6, 'mgso': 3, 'pmhx': 9, 'pneumnia': 1, 'cholecyst': 22, 'deaf': 2, 'musculoskelet': 26, 'advis': 13, 'vit': 14, 'gram': 43, 'precipit': 6, 'constip': 21, 'rale': 33, 'supplement': 33, 'hypothroid': 1, 'chapl': 1, 'brather': 1, 'adren': 41, 'psoriasi': 1, 'crea': 2, 'pressort': 1, 'la': 28, 'trivial': 18, 'stenosi': 42, 'rais': 40, 'epix': 1, 'biacarb': 1, 'estim': 32, 'situt': 1, 'deviat': 23, 'kayexly': 1, 'prematur': 30, 'rerrl': 1, 'bbb': 3, 'fascicular': 12, 'pack': 10, 'tricuspid': 38, 'fraction': 9, 'bin': 1, 'four': 16, 'akinesi': 2, 'lcl': 1, 'physiolog': 38, 'root': 20, 'axi': 37, 'qr': 27, 'chorda': 11, 'abp': 34, 'unavail': 2, 'eventu': 23, 'eject': 8, 'acceler': 4, 'hyperkalemia': 11, 'caviti': 51, 'jaundic': 19, 'film': 48, 'unfortun': 7, 'multilobar': 7, 'nondistend': 15, 'froom': 1, 'blind': 3, 'atn': 23, 'silverdin': 1, 'discov': 3, 'pnding': 8, 'thereaft': 6, 'pcn': 9, 'laryng': 5, 'intit': 2, 'qtt': 6, 'accurr': 1, 'hyperkalcemia': 1, 'potassium': 53, 'cordi': 4, 'anfio': 1, 'intiat': 7, 'wrap': 6, 'locul': 22, 'hypoperfus': 7, 'impend': 7, 'resusit': 4, 'blister': 16, 'ointment': 13, 'brachycephal': 1, 'deceas': 3, 'sb': 22, 'fhpa': 2, 'angio': 7, 'lip': 33, 'physcian': 2, 'educ': 5, 'mlq': 1, 'hygien': 8, 'spontani': 1, 'bloat': 2, 'daddi': 1, 'mist': 12, 'fentnyl': 1, 'knopff': 1, 'fentanul': 1, 'heartrat': 1, 'plam': 1, 'trough': 24, 'goodresult': 1, 'mutipl': 4, 'dad': 3, 'signfic': 4, 'psychosoci': 9, 'signic': 2, 'moan': 21, 'cantones': 6, 'mimini': 1, 'scopolamin': 7, 'agig': 1, 'respect': 20, 'nutriton': 1, 'palli': 34, 'progonisi': 1, 'extremti': 1, 'progr': 1, 'tacycard': 3, 'desicion': 1, 'formal': 9, 'unreact': 2, 'anbx': 5, 'extrim': 4, 'incid': 26, 'phase': 13, 'presenc': 27, 'zinc': 1, 'dysfnc': 1, 'contol': 1, 'tegaderm': 3, 'gone': 14, 'symptom': 31, 'nebul': 9, 'pff': 1, 'tamponad': 12, 'exipr': 1, 'apc': 4, 'pat': 3, 'ozz': 3, 'repeaet': 1, 'kling': 1, 'aflutt': 10, 'quantifi': 4, 'extremeti': 19, 'unreliev': 2, 'dehydr': 7, 'strip': 4, 'suspect': 38, 'rtc': 4, 'lacer': 4, 'conver': 1, 'extermit': 2, 'variabl': 17, 'artifici': 5, 'overlay': 3, 'acc': 3, 'steri': 2, 'instruct': 10, 'durng': 1, 'srr': 7, 'downt': 2, 'kneecap': 1, 'extubatin': 1, 'sangaiou': 1, 'hub': 1, 'faamili': 1, 'mag': 13, 'eipsod': 1, 'serosang': 13, 'tegram': 1, 'supp': 11, 'diastol': 37, 'tachypniec': 2, 'frustrat': 6, 'ota': 3, 'exxtrmiti': 1, 'compon': 47, 'exist': 38, 'prefer': 9, 'eitolog': 1, 'extrmiti': 1, 'neglig': 2, 'plea': 2, 'calf': 11, 'eccymot': 7, 'ascend': 28, 'extrasystol': 1, 'sorder': 1, 'ccb': 1, 'echocardiograph': 16, 'ot': 8, 'achiv': 1, 'nonadh': 1, 'stain': 31, 'gs': 8, 'puulent': 1, 'readdress': 21, 'tachcard': 1, 'fliud': 5, '^wob': 2, 'mat': 1, 'tracheobronch': 2, 'respelor': 1, 'supraventricular': 11, 'flap': 2, 'ua': 33, 'guag': 2, 'exud': 6, 'tachypneac': 2, 'restin': 1, 'junki': 6, 'lodg': 1, 'indistinct': 8, 'uncontrol': 4, 'indwel': 23, 'incontinec': 1, 'bliater': 1, 'ltyellow': 1, 'rh': 3, 'retain': 11, 'worseni': 1, 'thruought': 1, 'podi': 2, 'rhonci': 8, 'regularli': 7, 'troponin': 55, 'recogn': 9, 'transpar': 6, 'circul': 8, 'whisper': 1, 'sensit': 26, 'lrg': 5, 'discontinu': 34, 'addtion': 2, 'serax': 1, 'venodyn': 7, 'diuresis': 2, 'haze': 3, 'rxn': 6, 'pump': 7, 'egt': 1, 'contamint': 1, 'parenchyma': 23, 'unlabor': 12, 'ft': 8, 'nail': 8, 'defin': 15, 'avb': 3, 'cefempin': 1, 'comcomit': 1, 'coras': 2, 'captorpil': 1, 'variou': 8, 'yankeur': 4, 'odor': 4, 'introduc': 7, 'smear': 18, 'thruout': 3, 'defect': 29, 'niddm': 1, 'tha': 3, 'zaroxolyn': 1, 'intregr': 1, 'cortu': 1, 'lss': 1, 'resecur': 1, 'nonverb': 7, 'verifi': 16, 'imv': 5, 'benzo': 6, 'perivascular': 1, 'posteriorli': 11, 'rule': 40, 'avbl': 1, 'pci': 2, 'stent': 24, 'ultrac': 3, 'alon': 14, 'bandag': 4, 'staph': 9, 'recalibr': 3, 'pleuroparenchym': 1, 'judgement': 3, 'avhb': 1, 'appil': 1, 'frothi': 8, 'dev': 2, 'clog': 4, 'reciv': 4, 'bss': 1, 'wihtout': 1, 'addedum': 1, 'cardiogen': 19, 'undigest': 2, 'particularli': 25, 'nstemi': 11, 'aurea': 1, 'dss': 1, 'dopper': 1, 'triplet': 2, 'intraventricular': 13, 'recevi': 1, 'intermittantli': 2, 'hypozia': 1, 'proph': 4, 'inquier': 1, 'morpholog': 12, 'cefepin': 2, 'rod': 14, 'pedi': 11, 'hh': 2, 'throughtout': 1, \"o'\": 1, 'comb': 5, 'pgi': 3, 'mordem': 1, 'nph': 9, 'lobar': 12, 'curv': 23, 'bronchial': 39, 'inclus': 3, 'dobutamin': 12, 'inotropi': 1, 'mumbl': 8, 'sitter': 4, 'cordu': 1, 'trigem': 1, 'underneath': 6, 'tegraderm': 1, 'contamin': 9, 'ck': 51, 'broader': 3, 'stabliz': 3, 'complain': 10, 'bt': 5, 'higest': 1, 'nephew': 10, 'sulfat': 33, 'expel': 2, 'crisi': 3, 'collector': 1, 'anytmim': 1, 'garbl': 7, 'border': 12, 'slur': 2, 'teeth': 38, 'bigem': 1, 'regimen': 55, 'dobut': 2, 'rca': 4, \"am'\": 1, 'scd': 5, 'combin': 34, 'midnight': 32, 'ecchymosi': 9, 'senior': 4, 'swallow': 39, 'trigemini': 1, 'pharynx': 6, 'purlpl': 1, 'metoprolol': 28, 'sustain': 16, 'psych': 7, 'occas': 9, 'nsvt': 4, 'toss': 1, 'pcxr': 4, 'lcyu': 1, 'enzm': 1, 'real': 7, 'bl': 13, 'diruesi': 2, 'inconsistenli': 1, 'captopril': 3, 'transpat': 1, 'speech': 31, 'splint': 1, 'cut': 14, 'inferiorli': 9, 'bigemeni': 1, 'anuria': 7, 'somewat': 1, 'waffl': 7, 'nare': 14, 'palab': 1, 'cocci': 10, 'airmatress': 1, 'prog': 2, 'xr': 1, 'reappil': 1, 'accu': 1, 'gurgl': 7, 'mi': 24, 'oropharynx': 10, 'increasingli': 35, 'tenou': 2, 'unprod': 1, 'rhonchoru': 7, 'fr': 13, 'dcd': 6, 'workload': 1, 'enviro': 1, 'unsur': 6, 'ep': 7, 'teari': 2, 'hospic': 24, 'platelet': 20, 'adenosin': 4, 'oncologist': 12, 'ivab': 6, 'okay': 12, 'strenght': 1, 'oxycodon': 9, 'ds': 6, 'penumopericardium': 1, 'cent': 3, 'ud': 1, 'init': 8, 'mx': 1, 'platlet': 6, 'pe': 48, 'lul': 43, 'norm': 2, 'freind': 1, 'instil': 7, 'evolv': 18, 'spirit': 1, 'mainten': 8, 'hrt': 4, 'bronchou': 1, 'shth': 1, 'solut': 1, 'trip': 4, 'int': 3, 'reiter': 3, 'dysneic': 1, 'immobil': 2, 'tumor': 18, 'placment': 9, 'cot': 2, 'pericadi': 1, 'capac': 9, 'trun': 1, 'document': 33, 'amiodoron': 4, 'multilumen': 3, 'vaxcel': 1, 'bronchu': 15, 'prophylact': 3, 'pulsu': 1, 'axox': 1, 'cavo': 2, 'partner': 5, 'stabilz': 2, 'til': 4, 'nonlas': 1, 'wet': 62, 'incident': 10, 'doctor': 12, 'sensori': 3, 'cardiologist': 4, \"dc'ed\": 2, 'successful': 2, 'adquat': 2, 'travel': 8, 'trim': 2, 'count': 36, 'serosanq': 1, 'resposit': 3, 'hyrocortison': 1, 'tfb': 4, 'cari': 1, 'discus': 1, 'undergo': 19, 'asa': 32, 'cardiovascular': 57, 'quadrent': 6, 'inncont': 1, 'telephon': 24, 'decomp': 1, 'engorg': 21, 'retract': 11, 'faster': 13, 'ex': 8, 'dislodg': 6, 'teaspoon': 1, \"^'ing\": 1, 'pure': 10, 'wax': 6, 'amplitud': 3, 'dopoff': 1, 'dictat': 18, 'dobhoff': 6, 'medial': 13, \"^'ingli\": 1, 'rrespons': 1, 'conjunct': 11, 'prompt': 4, 'skinfold': 1, 'russian': 7, 'beta': 23, 'aspect': 21, 'granddaught': 6, 'doboff': 5, 'anticoagul': 28, 'pateint': 2, 'video': 8, 'frank': 11, 'slower': 14, 'urethra': 2, 'honey': 2, 'oropharyng': 16, 'pud': 6, 'cbi': 4, 'aerosol': 20, 'decompens': 27, 'decompenst': 1, 'discusst': 1, 'abort': 4, 'condom': 2, 'nectar': 6, 'mistaken': 1, 'produc': 20, 'trauma': 10, 'amplatz': 2, 'constant': 11, 'gvhd': 3, 'granulomat': 4, 'syndrom': 19, 'lvot': 23, 'uremia': 4, 'flicker': 1, 'pharesi': 1, 'kayexal': 5, 'silk': 6, 'pneumocac': 1, 'guidenc': 1, 'maneuv': 12, 'ni': 1, 'inlet': 22, 'baracat': 2, 'dop': 6, 'glidewir': 5, 'explan': 13, 'basic': 7, 'ident': 3, 'unrsp': 2, 'viremia': 2, 'paus': 5, 'transcathet': 1, 'actual': 13, 'tini': 10, 'rtrad': 2, 'peditub': 1, 'minmal': 2, 'oligur': 14, 'transaminas': 4, 'sxned': 8, 'remark': 8, 'achiev': 19, 'mult': 17, 'hemostasi': 4, 'sclerot': 14, 'biggest': 1, 'core': 7, 'marrow': 4, 'pursestr': 1, 'meropenum': 9, 'tr': 32, 'broken': 11, 'scv': 2, 'preprocedur': 8, 'spleen': 32, 'stich': 1, 'intrahepat': 4, 'careweb': 2, 'equival': 4, 'cue': 8, 'timeout': 10, 'cavh': 1, 'adjac': 31, 'nard': 4, 'psc': 2, 'pel': 7, 'aass': 1, 'ptcont': 1, 'cateth': 1, 'constrict': 1, 'bmt': 3, 'transplant': 10, 'presser': 2, 'mdct': 26, 'punctat': 2, 'stronger': 6, 'nst': 2, 'speciat': 9, 'abras': 12, 'surgifoam': 2, 'encephalopathi': 14, 'participatori': 1, 'cellular': 4, 'distinct': 15, 'everyday': 3, 'gancylovir': 1, 'folow': 3, 'nypernatremia': 1, 'whinc': 1, 'natur': 17, 'ppp': 9, 'percocet': 8, 'sup': 2, 'cecum': 4, 'analyz': 7, 'behind': 4, 'unknown': 44, 'grow': 16, 'serviceclip': 2, 'periport': 1, 'influenc': 4, 'upward': 11, 'rifaximin': 3, 'subcentimet': 5, 'recoveri': 21, 'nl': 22, 'ursdiol': 1, 'transjugular': 2, 'element': 14, 'prostat': 15, 'toxin': 8, 'psup': 3, 'hepatopet': 8, 'lytic': 19, 'retap': 14, 'cholestasi': 2, 'sorb': 4, 'humulog': 1, 'regul': 6, 'hyper': 3, 'gradient': 29, 'ivaband': 1, 'blunt': 17, 'flumazenil': 2, 'intraservic': 3, 'kerlix': 5, 'overnt': 1, 'dfinit': 1, 'ess': 4, 'urisodil': 1, 'neutropen': 4, 'intraven': 38, 'ganciclovir': 1, 'vesicl': 3, 'hepatoren': 3, 'hyptens': 2, 'nailb': 8, 'lactulos': 21, 'npp': 1, 'humalog': 11, 'porta': 4, 'cyst': 26, 'obstacl': 1, 'bloodting': 3, 'retroperiton': 14, 'acyclovir': 5, 'phersi': 1, 'lanti': 1, 'acquir': 37, 'pneumococc': 1, 'anyway': 4, 'speaker': 4, 'mold': 1, 'coud': 1, '^lft': 1, 'sxt': 2, 'byt': 2, 'rvr': 20, 'presept': 2, 'ltf': 1, 'calicif': 1, 'sequela': 4, 'peripancreat': 2, 'store': 2, 'mainatain': 1, 'calib': 18, 'agent': 14, 'plasmaphoresi': 1, 'info': 17, 'weap': 4, 'noth': 18, 'host': 2, 'reformat': 19, 'typhliti': 1, 'prolaps': 24, 'stride': 1, 'caudat': 2, 'ucler': 2, 'gut': 7, 'griev': 9, 'abut': 6, 'amio': 13, 'gland': 26, 'ruq': 12, 'inflamm': 10, 'cellcept': 3, 'transjug': 1, 'cardiovert': 8, 'pheresi': 3, 'ground': 32, 'dens': 31, 'lij': 12, 'hepati': 3, 'proper': 11, 'refe': 3, 'approach': 24, 'formalin': 1, 'multiplanar': 17, 'elong': 7, 'flumazin': 1, 'surgicel': 4, 'easier': 4, 'correspond': 9, 'nodal': 4, 'acidosid': 1, 'shedul': 1, 'preced': 11, 'mvp': 17, 'rsp': 3, 'bear': 9, 'evidenc': 6, 'lactolos': 1, 'midnoc': 8, 'symphysi': 10, 'hypoecho': 2, 'edamat': 3, 'alway': 9, 'downward': 15, 'fsbg': 9, 'pole': 9, 'pelvi': 42, 'fusarium': 1, 'cook': 2, 'bilirubin': 20, 'bsk': 2, 'fucntion': 1, 'isolat': 1, 'grasp': 2, 'retroperitoneum': 1, 'deoderm': 1, 'ivc': 11, 'weeep': 1, 'fam': 7, 'bladder': 53, 'soak': 5, 'tne': 1, 'wake': 41, 'pubic': 8, 'nephrolog': 4, 'meropenem': 25, 'pej': 2, 'cobra': 2, 'rescu': 2, 'urisodiol': 1, 'similar': 58, 'sxted': 1, 'ursodiol': 1, 'palpalbl': 1, 'aml': 2, 'semin': 3, 'rrad': 1, 'seedi': 1, 'vitot': 1, 'unintellig': 2, 'ldh': 43, 'descend': 16, 'train': 6, 'obt': 1, 'territori': 13, 'bronchspast': 1, 'sphenoid': 6, 'pulmonolog': 2, 'wane': 3, 'diregard': 1, 'hydralasin': 1, 'catheth': 2, 'heterogen': 20, 'friday': 15, 'mvmt': 4, 'stretch': 5, 'consistantli': 6, 'twitch': 9, 'instead': 9, 'fc': 5, 'ard': 58, 'wrong': 5, 'bronchogram': 11, 'bradycardia': 24, 'novasourc': 7, 'droop': 2, 'grayscal': 10, 'origin': 31, 'meripenem': 1, 'asid': 5, 'cchr': 2, 'seven': 7, 'hypernatremia': 11, 'splenic': 6, 'seee': 1, 'endocard': 15, 'spc': 1, 'pillow': 10, 'subdiaphragmat': 10, 'conitnu': 4, 'bolt': 3, 'barotrauma': 3, 'muster': 1, 'propranalol': 1, 'intervet': 1, 'hydralazin': 13, 'confluenc': 4, 'hiccup': 3, 'stv': 2, 'case': 28, 'esent': 1, 'rust': 3, 'cholelithiasi': 14, 'spurt': 1, 'infuss': 1, 'retreiv': 1, 'fungu': 4, 'distent': 28, 'temporari': 7, 'fluse': 2, 'pancreat': 11, 'miq': 1, 'beneath': 8, 'soooo': 1, 'pc': 12, 'buttuck': 2, 'inder': 1, 'compat': 22, 'chin': 7, 'bronish': 1, 'merepenum': 2, 'qualit': 1, 'east': 5, 'paracentisi': 1, 'neutral': 1, 'merepeum': 1, 'yeast': 20, 'bal': 18, 'copiu': 4, 'paral': 2, 'hydrocephalu': 9, 'meropenim': 1, 'erron': 1, 'televis': 1, 'grimmac': 4, 'mucos': 10, 'nystatin': 9, 'valsalva': 2, 'gastroesophag': 16, 'extremitiy': 3, 'skinn': 1, 'fentyn': 2, 'cistatricurium': 1, 'paralyz': 36, 'mediastinum': 42, 'hypernatrem': 3, 'dist': 8, 'bud': 6, 'adn': 6, 'fungemia': 5, 'midazolam': 39, 'excurs': 8, 'veget': 8, 'aler': 1, 'ibuprofen': 3, 'conintu': 2, 'posterolater': 2, 'replenish': 3, 'pulmasours': 1, 'echogen': 7, 'pose': 3, 'oval': 6, 'tyelnol': 2, 'prder': 1, 'shaggi': 1, 'optim': 39, 'candidemia': 2, 'thrombosi': 10, 'addendium': 2, 'inpiratori': 1, 'pseudomhypha': 1, 'repsons': 3, 'ettub': 3, 'meripenum': 1, 'wit': 13, 'medium': 8, 'erect': 10, 'nova': 1, 'severli': 2, 'seri': 12, 'wether': 4, 'effert': 2, 'oximetri': 3, 'shunt': 13, 'subcapsular': 1, 'addend': 1, 'merepenim': 1, 'cirrohosi': 1, 'pipo': 1, 'pneumomediastenum': 1, 'meripenim': 1, 'solid': 17, 'wedg': 9, 'abscess': 21, 'psupp': 1, 'latter': 7, 'caspofungin': 4, 'hyporthermia': 1, 'teniou': 2, 'top': 33, 'alkalosi': 20, 'washin': 1, 'fdg': 10, 'ween': 2, 'nabicarb': 1, 'premed': 5, 'basi': 9, 'powder': 8, 'atb': 4, 'vigiou': 1, 'orali': 1, 'bu': 5, 'paramedian': 3, 'intrapelv': 1, 'yeild': 1, 'suddenli': 6, 'widespread': 26, 'receivng': 2, 'paralysi': 6, 'vebal': 1, 'sigmoid': 17, 'cisatracurium': 6, 'narrativen': 1, 'flexur': 5, 'lid': 3, 'worrisom': 5, 'secriton': 1, 'augment': 16, 'lunf': 1, 'gold': 2, 'glass': 23, 'artifact': 37, 'isuprel': 1, 'clavicl': 11, 'cop': 6, 'rave': 1, 'foramen': 6, 'pneumomediastinum': 7, 'muach': 1, 'palc': 2, 'sxd': 5, 'safe': 16, 'fentenyl': 3, 'supprot': 1, 'remaind': 29, 'malacia': 2, 'motrin': 3, 'thich': 3, 'pneumoperitoneum': 4, 'spot': 10, 'tenaci': 12, 'lge': 4, 'halidol': 1, 'toller': 3, 'intracardiac': 4, 'mic': 17, 'neruo': 4, 'strongli': 9, 'recur': 5, 'chemic': 5, 'stone': 21, 'thrombu': 20, 'tracheobronchi': 3, 'contiu': 3, 'schdule': 1, 'distribut': 24, 'manuev': 2, 'clump': 1, 'snt': 4, 'echocardigram': 1, 'wer': 1, 'poplit': 14, 'pulmasourc': 2, 'manipul': 11, 'firmli': 2, 'metastat': 26, 'satisfactorili': 4, 'spnt': 1, 'bump': 14, 'softer': 2, 'weakli': 8, 'invol': 1, 'withheld': 2, 'periton': 5, 'degree': 1, 'yield': 6, 'stalk': 1, 'anc': 2, 'peticha': 2, 'mc': 4, 'panel': 15, 'pyloru': 5, 'individu': 3, 'whitish': 5, 'vicin': 2, 'tirtrat': 1, 'polyp': 4, 'uac': 1, 'hyperdynam': 22, 'amiriodin': 1, 'outflow': 5, 'dimens': 5, 'signal': 5, 'jejunum': 2, 'lcw': 3, 'foey': 1, 'mesenteri': 2, 'cefepinm': 1, 'lingula': 7, 'absenc': 17, 'pylor': 9, 'rescan': 3, 'uncertain': 14, 'confer': 7, 'metroprolol': 1, 'vagin': 2, 'apeci': 1, 'fluconozol': 1, 'balm': 1, 'diverticulum': 1, 'exampl': 6, 'notabel': 1, 'remiain': 1, 'wth': 2, 'neutrapen': 2, 'urien': 1, 'separt': 1, 'ilw': 1, 'alet': 1, 'intraabdomin': 4, 'fentani': 3, 'flagal': 1, 'vagina': 1, 'mycostatin': 4, 'pylori': 2, 'yell': 8, 'mp': 4, 'serosanguin': 8, 'dynam': 4, 'ave': 1, 'interupt': 2, 'pancutur': 1, 'impact': 10, 'micor': 1, 'consecut': 3, 'ebv': 2, 'alertarous': 1, 'petichia': 2, 'dif': 3, 'lorazapam': 1, 'cefipim': 15, 'flaygl': 2, 'arrhythmia': 13, 'normotens': 12, 'uromet': 1, 'fat': 13, 'ceil': 1, 'read': 87, 'cardiovers': 3, 'endolumin': 1, 'nadir': 1, 'bolusof': 1, 'diltazem': 2, 'adher': 2, 'clavicular': 7, 'overwir': 1, 'cholecystectomi': 3, 'irreg': 7, 'hypertrophi': 32, 'claoric': 1, 'hydrea': 1, 'onto': 6, 'j': 10, 'ccx': 2, 'fluconzol': 1, 'appropi': 5, 'materi': 21, 'celiac': 6, 'chap': 1, 'azt': 1, 'apheres': 1, 'fagyl': 1, 'neutopenia': 1, 'virgou': 1, 'sacrament': 10, 'adenopathi': 17, 'neutropenia': 1, 'recultur': 9, 'plat': 12, 'telemeti': 1, 'telemetri': 17, 'rythmm': 2, 'aha': 8, 'smicu': 2, 'cold': 11, 'neurtopen': 1, 'amriodon': 1, 'atroph': 7, 'attach': 7, 'liw': 6, 'steristrip': 1, 'symmetr': 59, 'mgq': 1, 'flouro': 2, 'ddimer': 1, 'electr': 5, 'chemo': 10, 'lymphoma': 7, 'attemp': 3, 'nativ': 4, 'requestiong': 1, 'cystic': 8, 'reoccur': 3, 'xpeep': 1, 'conc': 4, 'fluro': 2, 'difficil': 12, 'houseoffic': 6, 'sytol': 1, 'injuri': 19, 'reliabl': 4, 'intralumin': 9, 'ouput': 2, 'akwa': 1, 'hydrocort': 5, 'sub': 11, 'sphincter': 3, 'nephrogram': 3, 'averag': 10, 'winc': 3, 'nutropenia': 1, 'cerebro': 1, 'alkalot': 5, 'edmat': 1, 'degen': 23, 'crt': 6, 'sight': 1, 'mucosa': 5, 'megacolon': 6, 'intial': 8, 'apap': 1, 'hypodens': 21, 'eccyomot': 1, 'insul': 1, 'ambisom': 2, 'fallen': 1, 'tactil': 20, 'attribut': 18, 'prosthesi': 5, 'ored': 1, 'character': 17, 'scleral': 7, 'sunction': 1, 'strand': 9, 'ceptim': 1, 'prodcedur': 1, 'cardiomyopathi': 9, 'maintentnc': 1, 'jejun': 2, 'annular': 18, 'axilla': 11, 'neuropenia': 1, 'uup': 1, 'ilier': 1, 'cardaic': 2, 'reden': 2, 'nonion': 7, 'postpylor': 4, 'ilatori': 1, 'stenot': 1, 'decort': 4, 'withdrawl': 10, 'oppos': 4, 'idioventricular': 1, 'constel': 1, 'ampicillin': 6, 'anasarka': 1, 'postur': 8, 'ultim': 13, 'ampi': 1, 'chain': 8, 'chb': 4, 'inferolater': 11, 'mail': 4, 'aneorb': 1, 'barocat': 2, 'rememb': 1, 'pair': 12, 'convinc': 2, 'nonr': 2, 'amyloid': 1, 'grave': 19, 'msof': 2, 'tme': 1, 'particular': 9, 'baricat': 2, 'flaccid': 5, 'bottl': 4, 'disord': 20, 'nonreact': 3, 'longstand': 4, 'hypokalemia': 3, 'restoril': 1, 'tachycardiac': 3, 'ontain': 1, 'ntg': 4, 'distess': 1, 'atelectat': 9, 'overid': 1, 'cardizem': 2, 'flu': 13, 'batteri': 1, 'droplet': 10, 'accordingli': 12, 'viral': 17, 'hear': 16, 'exhibit': 9, 'heroic': 6, 'linen': 4, 'nitro': 8, 'atov': 1, 'percaut': 1, 'equip': 3, 'amoung': 1, 'bypap': 1, 'fryabl': 1, 'nsicu': 1, 'influenza': 18, 'format': 8, 'sz': 5, 'accesss': 1, 'speciment': 1, 'crush': 13, 'phlebolith': 2, 'necessit': 8, 'applesaus': 1, 'pneumatosi': 6, 'perfor': 12, 'linebut': 1, 'penetr': 6, 'flownot': 4, 'goe': 7, 'tp': 6, 'inv': 1, 'lite': 1, 'nonobstruct': 5, 'nauseu': 1, 'collabor': 6, 'cu': 2, 'cross': 8, 'undisturb': 4, 'bathroom': 3, 'flip': 2, 'revrs': 1, 'spillov': 3, 'souc': 1, 'supper': 1, 'typic': 9, 'spiromet': 3, 'cerebr': 10, 'applesauc': 6, 'featur': 6, 'misplac': 2, 'suspicion': 17, 'pseudoinfarct': 1, 'intailli': 1, 'incent': 4, 'ate': 4, 'apetit': 1, 'aphas': 5, 'mri': 18, 'revers': 24, 'perp': 1, 'tuck': 3, 'involut': 3, 'pharyng': 6, 'nonrebreath': 4, 'pathologist': 1, 'requisit': 2, 'awhil': 3, 'intraperiton': 12, 'cardiopulmonari': 10, 'palat': 4, 'slip': 4, 'appl': 6, 'fax': 1, 'breather': 2, 'amd': 5, 'barium': 6, 'prod': 9, 'sleepign': 1, 'spirometri': 5, 'variat': 5, 'gastrostomi': 6, 'aphasia': 2, 'dysphagia': 9, 'interrupt': 2, 'pleuravac': 3, 'pleur': 2, 'sterilli': 1, 'unproduct': 5, 'unsymptomat': 1, 'pleurx': 1, 'hemithorax': 32, 'massiv': 18, 'realiz': 3, 'occupi': 6, 'somnol': 21, 'enema': 9, 'sedatiooon': 1, 'agress': 12, 'papillari': 8, 'indfus': 1, 'inflow': 5, 'desenex': 1, 'anymor': 6, 'adit': 1, 'nonlabor': 1, 'solidfi': 1, 'wateri': 5, 'flail': 3, 'trumpet': 6, 'exyl': 1, 'synchron': 31, 'incon': 2, 'tick': 1, 'tachyarrythmia': 2, 'euvolem': 11, 'promptli': 2, 'chase': 1, 'shnge': 1, 'misfir': 1, 'propos': 3, 'fractio': 1, 'fatigu': 20, 'ref': 1, 'oet': 1, 'mon': 34, 'kayexel': 3, 'agian': 2, 'correspong': 1, 'toleav': 1, 'negtiv': 1, 'myleodysplesia': 1, 'car': 2, 'ut': 1, 'absolut': 1, 'coaars': 1, 'occass': 6, 'fss': 1, 'colorng': 1, 'weigh': 2, 'bennzodiazpin': 1, 'sooth': 1, 'sescret': 1, 'choic': 6, 'struggl': 6, 'ultra': 3, 'reappear': 3, 'retal': 1, 'fill': 36, 'overbreathin': 1, 'noght': 1, 'venoboot': 1, 'leakag': 7, 'month': 23, 'bialter': 1, 'thursday': 9, 'desitin': 2, 'upto': 3, 'persistantli': 2, 'aslo': 2, 'eventuallt': 1, 'param': 1, 'familt': 4, 'stff': 1, 'esidu': 1, 'napho': 1, 'kayexil': 1, 'flall': 1, 'adament': 1, 'topar': 1, 'pllacement': 1, 'candid': 16, 'aaat': 1, 'asap': 3, 'reeval': 4, 'dull': 22, 'choke': 6, 'sulfonamid': 2, 'pipe': 1, 'wast': 20, 'lymphat': 22, 'ia': 2, 'hsv': 2, 'legionella': 29, 'nitrit': 2, 'microbiolog': 35, 'noninvas': 8, 'plaqu': 7, 'housekeep': 1, 'sclerosi': 8, '`': 3, 'normocephal': 46, 'delerium': 2, 'omr': 8, 'narcan': 7, 'dfdkq': 2, 'ppx': 27, 'discrep': 1, 'outlin': 21, 'thorazin': 1, 'asbesto': 5, 'hemolyt': 3, 'supraclavicular': 16, 'sedentari': 2, 'delir': 2, 'bacteria': 4, 'rituxan': 1, 'gerd': 15, 'conjunctiva': 42, 'nppv': 3, 'spetic': 1, 'avid': 2, 'contribut': 29, 'creatinin': 51, 'cognit': 6, 'sulfa': 4, 'ymf': 3, 'deleri': 2, 'charact': 2, 'tacchypn': 1, 'splenectomi': 3, 'vertebr': 13, 'smoker': 5, 'nonsepecif': 1, 'fludarabin': 2, 'sir': 9, 'atrophi': 11, 'deplet': 12, 'factor': 17, 'healthcar': 10, 'nsclc': 4, 'atherosclerot': 21, 'lad': 8, 'tacchycardia': 1, 'opinion': 6, 'clarifi': 19, 'vat': 4, 'penicillin': 11, 'kansasii': 1, 'clinda': 5, 'tacchycard': 1, 'underw': 12, 'palliat': 5, 'benign': 18, 'hypercarbia': 14, 'cavern': 3, 'rrr': 32, 'iu': 40, 'retir': 8, 'penumonia': 1, 'rescusit': 1, 'offic': 8, 'pantoprazol': 27, 'cervic': 25, 'asses': 2, 'oxyfast': 1, 'regardless': 1, 'vaccin': 7, 'percuss': 29, 'cord': 4, 'resect': 9, 'osteopenia': 6, 'comm': 9, 'ronchi': 12, 'toradol': 1, 'sstem': 1, 'thoroughout': 1, 'summari': 13, 'reveiw': 4, 'gent': 5, 'rad': 18, 'gentamycin': 7, 'ppor': 1, 'hosptial': 1, 'andrl': 1, 'cousin': 5, 'sedimentari': 1, 'rl': 4, 'altern': 25, 'neic': 4, 'azithomycin': 1, 'ileostomi': 3, 'icter': 6, 'inrincreas': 1, 'kr': 1, 'illeostomi': 1, 'antibot': 3, 'recomm': 1, 'bridg': 10, 'addnedum': 1, 'fentanli': 2, 'nadolol': 2, 'criticar': 5, 'clavian': 1, 'occn': 3, 'respoms': 1, 'slugish': 2, 'pian': 1, 'semioval': 2, 'unresponsinv': 1, 'basal': 32, 'delta': 2, 'vacuo': 1, 'etachi': 1, 'diltiasem': 1, 'jwk': 1, 'ethmoid': 4, 'tem': 1, 'osh': 19, 'slugglish': 2, 'leagal': 1, 'encephalomalacia': 1, 'dwi': 2, 'mca': 4, 'ganglia': 6, 'centrum': 3, 'trancfer': 1, 'unbrocken': 1, 'aproppri': 1, 'parcial': 1, 'oxigen': 1, 'occlut': 1, 'acidemia': 5, 'approv': 9, 'platelett': 2, 'ordinari': 1, 'situ': 9, 'dto': 1, 'loosen': 6, 'prounounc': 1, 'drg': 5, 'preiou': 1, 'bronchcoscopi': 1, 'sugest': 2, 'worst': 4, 'matress': 2, 'tech': 5, 'diltizam': 1, 'urgent': 7, 'pcwp': 7, 'collar': 6, 'sang': 5, 'orthoped': 2, 'stridor': 4, 'flattu': 1, 'lateer': 1, 'paw': 2, 'orbit': 6, 'lap': 2, 'lacrilub': 2, 'mgmt': 8, 'inmobil': 1, 'reccent': 1, 'colectomi': 2, 'aat': 1, 'amountsa': 1, 'htc': 1, 'bsd': 2, 'combo': 2, 'csm': 4, 'ci': 11, 'creatanin': 1, 'rep': 3, 'swan': 6, 'brace': 1, 'ganz': 5, 'imobil': 1, 'applianc': 3, 'resucit': 3, 'ortho': 2, 'hot': 4, 'aggres': 2, 'sooner': 5, 'manufactur': 22, 'daytim': 8, 'insult': 11, 'guaiac': 10, 'search': 2, 'transform': 2, 'promotil': 1, 'ogtub': 3, 'chose': 1, 'ckd': 6, 'ag': 17, 'hematolog': 6, 'gear': 3, 'tingl': 7, 'percept': 1, 'fuse': 2, 'themselv': 8, 'deliri': 11, 'orthopnea': 9, 'acd': 3, 'hydocorison': 1, 'gpc': 16, 'phosphoru': 28, 'probal': 5, 'hyperglycemia': 17, 'dlnc': 1, 'fistula': 11, 'hydrostat': 2, 'overweight': 18, 'consider': 22, 'dimish': 6, 'challeng': 14, 'smudg': 1, 'connector': 1, 'incomplet': 16, 'destin': 28, 'meaning': 7, 'cov': 6, 'thyroid': 16, 'ardsnet': 10, \"ce'\": 1, 'iodin': 5, 'proceed': 11, 'joint': 19, 'transloc': 1, 'respoiratori': 1, 'presist': 2, 'signfiic': 1, 'pplat': 9, 'pseudomon': 5, 'palpit': 7, 'constitut': 23, 'conjunctiv': 10, 'gg': 2, 'preoxygen': 3, 'across': 13, 'chlorid': 42, 'headach': 13, 'spectrum': 25, 'stock': 1, 'hemodynma': 1, 'chlorhexidin': 6, 'immunolog': 7, 'pertin': 41, 'subclav': 1, 'flora': 11, 'ckmb': 42, 'multifactori': 18, 'magnesium': 29, 'pmi': 16, 'dimsh': 1, 'intravascular': 7, 'wma': 4, 'mof': 2, 'lr': 11, 'retrach': 1, 'afterload': 5, 'swivel': 1, 'cuf': 5, 'lipitor': 8, 'florid': 1, 'pfi': 37, 'stenotrophomona': 1, 'subject': 30, 'coomb': 2, 'kayexl': 1, 'bayonet': 1, 'iss': 13, 'traumat': 6, 'blurri': 8, 'defici': 4, 'hive': 2, 'leukem': 1, 'midaz': 19, 'hydorcortison': 1, 'unrev': 5, 'shiley': 2, 'kayexyl': 1, 'disadvantag': 1, 'apprear': 1, 'bad': 6, 'una': 2, 'transfomr': 1, 'empyema': 5, 'kayelexal': 1, 'aranesp': 1, 'deal': 7, 'myalgia': 9, 'abruptli': 3, 'therapist': 10, 'must': 9, 'amongst': 5, 'anteriorli': 19, 'sqh': 7, 'pmv': 23, 'lvh': 14, 'parenter': 8, 'brush': 1, 'immunocompromis': 8, 'atyp': 22, 'split': 8, 'adviso': 1, 'feasibl': 7, 'framework': 1, 'kcal': 21, 'rout': 34, 'action': 62, 'hyperreson': 6, 'ibw': 3, 'loud': 17, 'ent': 6, 'tracheotomi': 5, 'tropt': 37, 'demograph': 48, 'hypoxem': 26, 'club': 18, 'ronchor': 5, 'spesi': 1, 'reson': 14, 'nourish': 24, 'flutter': 15, 'cyanosi': 19, 'inaccur': 3, 'technician': 1, 'lymphocytosi': 1, 'hypotensiona': 1, 'circumst': 5, 'thoracotomi': 3, 'press': 34, 'provision': 35, 'sh': 48, 'ori': 2, 'numb': 7, 'fammili': 1, 'fxn': 8, 'suppor': 1, 'dep': 3, 'folat': 4, 'gastrointestin': 17, 'cvo': 3, 'thrombocytopenia': 16, 'role': 15, 'input': 22, 'broad': 36, 'ure': 3, 'genitourinari': 14, 'fibrinogen': 23, 'captur': 7, 'intravascularli': 5, 'symptiom': 1, 'biatrial': 2, 'dysuria': 8, 'willl': 2, 'tco': 45, 'ce': 15, 'dimer': 5, 'fh': 48, 'reguard': 4, 'dchf': 3, 'jctn': 1, 'maxim': 16, 'kit': 4, 'ventricuar': 1, 'aeruginosa': 2, 'epistaxi': 8, 'random': 6, 'sens': 9, 'reconsid': 3, 'fentand': 1, 'avellyn': 1, 'abus': 14, 'fena': 10, 'cll': 3, 'contributor': 3, 'suicid': 8, 'tubular': 9, 'diuret': 6, 'pneuomonia': 1, 'dentit': 12, 'pah': 1, 'resembl': 1, 'mitochondri': 1, 'oze': 1, 'destur': 1, 'reposist': 1, 'pool': 7, 'dificult': 1, 'caretak': 4, 'dye': 4, 'development': 2, 'dimminish': 2, 'spine': 29, 'undetermin': 12, 'afibril': 1, 'anxou': 1, 'multidiciplanari': 1, 'postiv': 3, 'bolusx': 1, 'saliva': 1, 'cdi': 4, 'scortal': 1, 'fixat': 2, 'pouch': 2, 'skelet': 3, 'ostomi': 6, 'wheezey': 2, 'carview': 1, 'caregriv': 1, 'scoliot': 1, 'blankli': 1, 'mainstem': 5, 'crisp': 1, 'pusl': 1, 'increa': 4, 'pneumonectomi': 4, 'plain': 3, 'wiht': 3, 'rhip': 1, 'dyski': 1, 'inbetween': 2, 'repo': 3, 'creatin': 3, 'hypercarb': 19, 'deform': 11, 'occlud': 6, 'serosanquen': 1, 'picclin': 2, 'tenti': 1, 'ment': 1, 'whenev': 2, 'craem': 1, 'rbsi': 1, 'hemodyna': 1, 'wednesday': 9, 'functio': 1, 'respirat': 1, 'drpped': 1, 'percent': 3, 'spinal': 10, 'scoliosi': 4, 'intuabt': 2, 'kyphoscoliosi': 3, 'taker': 2, 'retard': 3, 'secr': 2, 'bolou': 1, 'agiti': 1, 'dampenend': 1, 'stimmuli': 1, 'cancel': 9, 'temporarili': 4, 'reasur': 1, 'monit': 2, 'commqand': 1, 'intermittingli': 1, 'occlus': 11, 'redd': 1, 'elav': 1, 'sig': 15, 'sibl': 11, 'vasoconstrict': 6, 'cear': 1, 'bibasilair': 1, 'approc': 1, 'venco': 1, 'seek': 5, 'bedridden': 1, 'daqi': 1, 'rocecet': 1, 'illeostmi': 1, 'helath': 1, 'qs': 5, 'phcp': 1, 'rrl': 1, 'nh': 14, 'colostomi': 3, 'power': 3, 'attorney': 3, 'reluct': 6, 'gasp': 10, 'booth': 1, 'breakdonw': 1, 'sectret': 2, 'atelectesi': 1, 'frighten': 1, 'susequ': 1, 'culmin': 1, 'onward': 1, 'beefi': 1, 'aox': 3, 'carvu': 2, 'outpur': 1, 'cytolog': 10, 'conspicu': 2, 'obtund': 6, 'swab': 16, 'elect': 10, 'ambien': 2, 'recev': 3, 'needi': 1, 'sequenc': 6, 'hook': 8, 'toiltet': 1, 'aloc': 1, 'transthorac': 10, 'uprb': 1, 'opt': 3, 'tox': 5, 'rapidli': 16, 'paperwork': 2, 'eu': 2, 'vf': 2, 'displac': 6, 'vasopessor': 1, 'nipv': 1, 'dig': 6, 'sternotomi': 13, 'vip': 2, 'phenylepherin': 1, 'median': 6, 'reconstruct': 7, 'fluiid': 1, 'broaden': 13, 'mo': 4, 'outgrowth': 1, 'careveu': 1, 'hav': 1, 'fludrocort': 1, 'succ': 4, 'inguin': 9, 'largest': 7, 'gall': 3, 'subcarin': 10, 'hight': 1, 'coron': 23, 'forward': 15, 'hida': 4, 'enthesopath': 1, 'osteophytosi': 1, 'workier': 1, 'insur': 11, 'hack': 1, 'vestra': 1, 'revea': 1, 'sagitt': 22, 'elicit': 4, 'noncontrast': 9, 'maximun': 2, 'harsh': 1, 'dat': 1, 'pyret': 1, 'hypobowel': 1, 'inotor': 1, 'intrathorac': 9, 'sic': 1, 'hypoexemia': 1, 'svr': 4, 'inutabt': 1, 'consistanli': 1, 'colour': 5, 'noontim': 3, 'toelrat': 2, 'respi': 2, 'apt': 1, 'actu': 1, 'textur': 5, 'barrium': 1, 'dosag': 5, 'tran': 11, 'anatom': 7, 'prevascular': 8, 'smapl': 1, 'realist': 6, 'peritrach': 1, 'retro': 1, 'esophag': 25, 'cholang': 2, 'cannt': 1, 'coexist': 3, 'anaplast': 1, 'nrbmfor': 1, 'etonom': 1, 'pelvic': 17, 'scali': 1, 'paf': 3, 'cigarett': 1, 'acheiv': 2, 'flash': 11, 'citalopram': 4, 'cloth': 19, 'headneg': 1, 'intermediu': 3, 'presenst': 1, 'wct': 1, 'polycyst': 2, 'hcap': 9, 'ramu': 2, 'zyprexa': 4, 'paroxysm': 3, 'delirium': 16, 'singulair': 1, 'yom': 6, 'cct': 2, 'jekh': 1, 'onlin': 1, 'humeru': 3, 'humer': 3, 'contributori': 4, 'echymot': 2, 'jewelri': 18, 'wallet': 17, 'spiriva': 2, 'hypoxemia': 38, 'durat': 17, 'creon': 1, 'sling': 1, 'thallium': 1, 'innumer': 4, 'nasopharynx': 2, 'money': 18, 'discret': 6, 'hematocrit': 36, 'asthma': 4, 'nwb': 1, 'advair': 3, 'avf': 11, 'ppm': 6, 'resless': 1, 'cash': 18, 'granuloma': 4, 'sevalam': 1, 'diovan': 2, 'comaprison': 1, 'demostr': 1, 'analysi': 19, 'asymptommat': 1, 'lisinopril': 8, 'contra': 1, 'exacerb': 18, 'divis': 3, 'llq': 4, 'sate': 11, 'aricept': 6, 'signatur': 19, 'forgetful': 1, 'credit': 19, 'jxrl': 2, 'cardiomedi': 1, 'moreov': 3, 'lit': 6, 'aortobiiliac': 1, 'tortuos': 2, 'itch': 4, 'asssist': 2, 'con': 8, 'mgiv': 2, 'play': 5, 'overngiht': 1, 'quantiti': 3, 'unreli': 4, 'gingeral': 1, 'adv': 4, 'milliamp': 1, 'creep': 4, 'expecter': 1, 'de': 8, 'adeq': 10, 'affix': 1, 'nanogram': 1, 'straighten': 2, 'hickman': 2, 'millivolt': 1, 'aliv': 5, 'dlpic': 1, 'ramp': 2, 'imposs': 4, 'lunchtim': 1, 'nausa': 1, 'tof': 3, 'vigil': 4, 'corti': 2, 'prec': 1, 'flolan': 2, 'mobilizi': 1, 'crackel': 1, 'guaic': 7, 'svo': 8, 'paramont': 1, 'distennd': 1, 'fick': 3, 'certainli': 19, 'hemmorrag': 1, 'grappel': 1, 'calcul': 5, 'argatroban': 3, 'nobodi': 1, 'cost': 2, 'raw': 3, 'transduc': 4, 'swanganz': 2, 'loperamid': 1, 'slh': 1, 'truli': 3, 'earlob': 2, 'sucess': 2, 'floa': 1, 'buck': 4, 'cco': 2, 'viagra': 1, 'assid': 1, 'excret': 5, 'wbcc': 2, 'ulnar': 2, 'diladid': 1, 'variant': 8, 'brachial': 20, 'sclerodactyl': 1, 'irrevers': 4, 'univ': 3, 'hemoptysi': 10, 'exactli': 1, 'swann': 1, 'cisatracuriun': 1, 'gastrocult': 1, 'hemostat': 3, 'slate': 1, 'ceftazdim': 1, 'floflan': 1, 'pvr': 4, 'anxious': 1, 'remedi': 1, 'rsr': 5, 'tvol': 1, 'pharmacolog': 5, 'taler': 1, 'erythemat': 5, 'eet': 1, 'lowest': 5, 'onvernight': 1, 'optimum': 1, 'acetaminophen': 12, 'alvealor': 1, 'pancultur': 7, 'wnr': 2, 'disconect': 1, 'derecruit': 5, 'nuse': 1, 'parallel': 2, 'sctl': 1, 'settong': 1, 'plaec': 1, 'packet': 3, 'straw': 9, 'inforc': 2, 'phosphat': 21, 'aztreonem': 1, 'yello': 1, 'antrum': 7, 'ccc': 6, 'neutra': 5, 'drainig': 2, 'becasu': 1, 'regiment': 3, 'pharmaci': 11, 'stripe': 1, 'firn': 1, 'sunday': 5, 'loger': 1, 'peribronchi': 3, 'travers': 6, 'nonpapular': 1, 'ovisit': 1, 'aortopulmon': 1, 'cutur': 1, 'aprrox': 1, 'crepitu': 7, 'expand': 13, 'pogt': 1, 'leftward': 9, 'lucon': 1, 'lun': 1, 'comprehens': 3, 'capillari': 4, 'ressusit': 1, 'aztronem': 1, 'wil': 4, 'evacu': 3, 'antecubit': 3, 'accumul': 6, 'gyy': 1, 'dissemin': 3, 'aztreonam': 5, 'trunk': 4, 'paratrach': 8, 'reaccumul': 8, 'hte': 1, 'chill': 7, \"huo'\": 1, 'agreeabl': 4, 'entrant': 1, 'vacat': 2, 'ivx': 1, 'psvt': 1, 'pulmunari': 1, 'hoh': 4, 'spit': 2, 'maint': 10, 'huo': 4, 'orthodrom': 1, 'maex': 1, 'marjor': 1, 'cfm': 1, 'anyon': 2, 'betw': 1, 'arhythmia': 1, 'bsx': 2, 'remind': 8, 'arrythmia': 4, 'announc': 1, 'admittedto': 1, 'ampul': 1, 'duti': 1, 'bvmr': 1, 'incsec': 1, 'intestin': 8, 'clearsecret': 1, 'omber': 1, 'attain': 4, 'creami': 6, 'attemtp': 3, 'spray': 5, 'pave': 1, 'lag': 2, 'recycl': 2, 'indicatedat': 1, 'radiat': 14, 'coat': 3, 'duodenum': 9, 'attmept': 1, 'outpati': 17, 'yset': 1, 'afebrel': 1, 'cluster': 8, 'vace': 1, 'consistac': 1, 'weam': 1, 'linezolid': 7, 'yellowish': 5, 'nrbfm': 2, 'oinment': 1, 'partli': 9, 'gastroduoden': 1, 'epsiod': 3, 'lenght': 1, 'clammi': 5, 'enzim': 1, 'handl': 4, 'npa': 1, 'flouroscopi': 1, 'advoc': 3, 'cong': 2, 'hoff': 1, 'nebx': 1, 'bronchopulomari': 1, 'orogastrc': 1, 'sligthli': 1, 'anim': 3, 'oout': 1, 'ssc': 1, 'hematur': 1, 'perman': 3, 'bonchodil': 1, 'pro': 5, 'db': 8, 'nemb': 1, 'tirat': 1, 'probmot': 1, 'tracheal': 10, 'linezloid': 1, 'vocal': 6, 'peristalsi': 1, 'repolar': 8, 'interactiv': 1, 'nervou': 2, 'wetter': 1, 'snake': 1, 'aever': 1, 'sesatur': 1, 'peni': 3, 'elsewher': 2, 'volumin': 1, 'yankuar': 1, 'burnt': 1, 'passag': 2, 'smoothli': 1, 'inabl': 23, 'assur': 8, 'permit': 3, 'restain': 1, 'isordil': 2, 'conray': 2, 'oropharnx': 2, 'prong': 4, 'rous': 3, 'vertic': 4, 'effectof': 1, 'thinnish': 1, 'hole': 9, \"pvc'\": 1, 'antral': 2, 'joke': 1, 'paraspin': 2, 'dubbhoff': 1, 'microneb': 1, 'coher': 1, 'substern': 2, 'plmt': 2, 'cva': 16, 'dulcalox': 1, 'perc': 6, 'redistribut': 7, 'nasotrach': 3, 'verif': 1, 'recept': 2, 'conditon': 1, 'ration': 3, 'orthodox': 2, 'religi': 3, 'asytol': 3, 'abn': 1, 'eyelid': 4, 'button': 3, 'toungu': 1, 'distraught': 2, 'earil': 1, 'ineffectu': 2, 'nsw': 1, 'neosenephrin': 1, 'solarium': 1, 'respitatori': 1, 'indepth': 1, 'pta': 8, 'anoxia': 2, '^peep': 2, 'holiday': 4, 'anox': 3, 'boarder': 1, 'belief': 2, 'repsond': 2, 'honor': 1, 'mere': 2, 'reinforc': 6, 'abrupt': 4, \"rec'\": 6, 'belt': 1, 'collap': 2, 'lean': 4, 'grunt': 2, 'orophanyng': 1, 'posey': 2, 'peerl': 1, 'someon': 4, 'experi': 10, 'sibil': 1, 'parent': 4, 'dignifi': 1, \"sx'ing\": 3, 'autism': 1, 'eveninng': 1, 'increment': 3, 'pulsatil': 2, 'stab': 1, 'pem': 1, 'oper': 8, 'dob': 1, 'aneurysm': 8, 'endometrium': 1, 'op': 8, 'sugic': 1, 'uteru': 6, 'unresolv': 2, 'print': 1, 'fibroid': 2, 'taa': 1, 'automat': 2, 'endovagin': 1, 'adnexa': 3, 'obstetr': 1, 'nb': 2, 'bulg': 1, 'endometri': 2, 'bibap': 1, 'cisatracrium': 1, 'adendum': 2, 'varrifi': 1, 'cista': 1, 'backsid': 2, 'dur': 1, 'intiti': 1, 'ansesthesia': 1, 'varri': 1, 'respitori': 4, 'inexplic': 1, 'deeper': 2, 'facemask': 7, 'famil': 4, 'physican': 2, 'ditiazem': 1, 'lha': 1, 'indweel': 1, 'occaision': 4, 'physio': 2, 'cirul': 1, 'analgesia': 6, 'awaitng': 2, 'lbr': 1, 'dyspnoic': 1, 'obstr': 2, 'tanish': 3, 'sucton': 1, 'prupos': 1, 'cardiopulm': 2, 'generalis': 2, 'sv': 2, 'profus': 3, 'inadequ': 12, 'btw': 3, 'valproic': 2, 'yesterda': 2, 'recumb': 2, 'glenohumer': 2, 'cephal': 9, 'aplli': 2, 'microdata': 1, 'repiratori': 2, 'abomin': 1, 'adminst': 1, 'scater': 1, 'abaras': 1, 'mom': 5, 'ziprasidon': 1, 'myeloma': 4, 'geodon': 1, 'imbal': 4, 'calor': 2, 'plethora': 2, 'whose': 5, 'lcan': 1, 'avss': 1, 'somnul': 3, 'ascul': 1, 'dorsal': 6, 'sem': 7, 'coli': 4, 'dysnchronu': 1, 'neighbor': 2, 'carri': 5, 'display': 11, 'intoler': 24, 'neob': 4, 'persuad': 1, 'sole': 2, 'dire': 1, 'dismal': 2, 'cast': 7, 'simplifi': 1, 'extraordinari': 2, 'symptommat': 1, 'obviat': 1, 'rdf': 1, 'shfit': 1, 'onu': 1, 'understood': 5, 'incarcer': 2, 'multidisciplinari': 9, 'repair': 9, 'repleat': 8, 'manifest': 6, 'wcc': 1, 'adhes': 5, 'declar': 7, 'ventral': 1, 'prop': 4, 'referr': 14, 'adam': 3, 'incision': 1, 'sesi': 1, 'mgting': 1, 'resu': 3, 'intussuscept': 2, 'flood': 1, 'muddi': 4, 'oft': 1, 'sbo': 7, 'ciprofloxacin': 13, 'feurea': 5, 'nephrotox': 1, 'transvers': 7, 'sacroiliac': 2, 'tachomyopathi': 1, 'hemicolectomi': 2, 'reticul': 3, 'echocardiographi': 3, 'paracol': 4, 'gutter': 5, 'paraaort': 4, 'extralumin': 3, 'ileocolon': 1, 'tee': 11, 'accordion': 1, 'splenul': 3, 'perihepat': 5, 'milk': 3, 'subcost': 1, 'lymphoprolif': 1, 'valvular': 10, 'precarin': 3, 'txpb': 2, 'subpleur': 6, 'prune': 2, 'annulu': 4, 'mlhh': 1, 'proctiti': 1, 'canal': 3, 'honeycomb': 2, 'anastomosi': 2, 'intermedi': 4, 'transesophag': 3, 'prox': 1, 'biventricular': 7, 'implic': 7, 'multilevel': 6, 'clostridium': 5, 'aortopulmonari': 2, 'hyperdens': 8, 'traction': 2, 'bronchiectasi': 7, 'aberr': 2, 'interpolar': 3, 'mesenter': 15, 'helic': 8, 'bnp': 9, 'hyperchol': 1, 'ronchoru': 1, 'gun': 1, 'aao': 5, 'kill': 3, 'epiglott': 3, 'maxillari': 7, '\\x13pt': 1, 'illicit': 3, 'slowley': 1, 'piperacillin': 36, 'od': 5, 'rtn': 1, 'pali': 2, 'vasculatur': 12, 'witch': 1, 'deflect': 3, 'subarachnoid': 1, 'awil': 1, 'moisten': 3, 'laser': 1, 'metopolol': 1, 'god': 1, 'psychiatri': 2, 'hospitil': 1, 'upt': 2, 'pleasantli': 1, 'hose': 1, \"po'\": 2, 'slightl': 1, 'silent': 2, 'strategi': 3, 'duoguard': 1, 'unbroken': 4, \"'sundown\": 1, 'tranfer': 1, \"piv'\": 1, 'explainig': 1, 'produst': 1, 'explor': 3, 'ambul': 6, 'dayshift': 3, 'statement': 1, 'swollow': 1, 'vna': 7, 'svn': 1, 'bibpap': 2, 'tachycarid': 1, 'rhonchou': 2, 'levoflaxacin': 1, 'scare': 4, 'tab': 9, 'notitifi': 1, 'eccessori': 1, 'orogastr': 13, 'requr': 4, 'guaz': 1, 'hila': 4, 'bp^': 1, 'cocyx': 2, 'sete': 1, 'mulleri': 1, 'skincar': 2, 'fetanyl': 2, 'integu': 3, 'drwn': 1, 'agigt': 1, 'resend': 4, 'morin': 1, 'diflucan': 4, 'abil': 16, 'biapic': 3, 'propfol': 2, 'disagre': 1, 'tub': 1, \"cc'sfor\": 1, 'grew': 6, 'perhap': 15, 'immediatli': 1, 'lobectomi': 5, 'conctact': 1, 'outcv': 1, 'interest': 13, 'repsir': 2, 'relay': 4, 'insist': 3, 'heliox': 4, 'tb': 5, 'remanin': 1, 'thrust': 1, 'strep': 4, 'sharpli': 3, 'pngt': 4, 'racem': 1, 'arway': 1, 'simethicon': 3, 'entireti': 2, 'osteolyt': 4, 'hbv': 1, 'splenomegali': 3, 'surveil': 5, 'vegit': 2, 'circumferenti': 2, 'candidaci': 2, 'endors': 3, 'ankl': 10, 'abi': 1, 'sfyb': 1, 'imping': 2, 'dorsum': 1, 'nephropathi': 3, 'jvd': 10, 'embolu': 12, 'mssa': 5, 'deem': 4, 'prosthet': 2, 'rim': 2, 'rock': 1, 'contigu': 16, 'favor': 12, 'pve': 1, 'antihypertens': 9, 'tu': 1, 'heb': 1, 'circumscrib': 1, 'sevelam': 1, 'cxwc': 4, 'lesser': 6, 'multidetector': 9, 'csurg': 1, 'mycot': 1, 'macrovascular': 1, 'specium': 1, 'fsg': 3, 'lifestyl': 1, 'emper': 3, 'hcv': 6, 'hyoptens': 1, 'thrill': 2, 'ersd': 1, 'hepatosplenomegali': 1, 'flexor': 1, 'erythema': 7, 'adat': 2, 'cinacalcet': 1, 'cellul': 2, 'decompress': 7, 'monophas': 1, 'veloc': 7, 'hyperparathyroid': 3, 'asciti': 4, 'guiaic': 4, 'commod': 4, 'throb': 1, 'illeu': 3, 'supsect': 1, 'reform': 12, 'articular': 1, 'veg': 2, 'metatars': 1, 'embol': 19, 'anerysm': 1, 'ao': 2, 'osteo': 2, 'vege': 1, 'regurg': 6, 'tazobactam': 28, 'avr': 6, 'tendernss': 1, 'quietli': 1, 'serolog': 2, 'ucx': 14, 'foreign': 4, 'suspician': 2, 'ale': 1, 'admisison': 1, 'cachect': 3, 'hopsic': 1, 'myositi': 1, 'dilauidid': 1, 'lbp': 1, 'nerv': 7, 'tbili': 3, 'malnutrit': 15, 'futil': 4, 'plafond': 1, 'osteoblast': 3, 'trochant': 1, 'bioprosthet': 2, 'methadon': 5, 'musculatur': 2, 'ring': 6, 'immunosuppress': 4, 'hsq': 1, 'tibial': 9, 'bruit': 5, 'ht': 3, 'bmi': 10, 'synergi': 1, 'tibiotalar': 1, 'mmp': 2, 'osteoarthr': 4, 'harrt': 2, 'dehiss': 1, 'suppl': 13, 'echodens': 1, 'haart': 4, 'dehisc': 3, 'ln': 3, 'fsgn': 1, 'carbon': 8, 'ginger': 1, 'nephrocap': 1, 'soleu': 1, 'leni': 8, 'triphas': 1, 'qhd': 1, 'viridan': 1, 'amlodipin': 5, 'subchondr': 2, 'narrow': 18, 'tyelenol': 1, 'emboli': 7, 'kal': 1, 'hydralain': 1, 'urosepsi': 5, 'cardimeg': 1, 'roughli': 5, 'entub': 1, 'agonol': 1, 'gelfoam': 1, 'clearifi': 1, 'venti': 1, 'signifc': 2, 'steadi': 5, 'tcl': 1, 'toleart': 2, 'vista': 2, 'lsubclavian': 1, 'hydroxyea': 1, 'perisplen': 3, 'serum': 19, 'bisacodyl': 8, 'blastic': 8, 'dialzi': 1, 'cmml': 1, 'prismat': 1, 'pretrach': 5, 'cortic': 7, 'cerebellar': 4, 'xx': 1, 'reso': 1, 'pluggi': 2, 'brachiocephal': 17, 'glucomet': 2, 'csf': 3, 'hiflo': 2, 'cepetim': 1, 'wegner': 1, 'dietari': 1, 'wegen': 1, 'currentl': 3, 'avblock': 1, 'thalamu': 1, 'nimv': 4, 'pericol': 1, 'tamer': 1, 'perpl': 1, 'velcro': 1, 'dimin': 2, 'diverticul': 4, 'continun': 1, 'rp': 2, 'cml': 1, 'standbi': 5, 'reinstitut': 2, 'skull': 7, 'norvsasc': 1, 'leukemia': 4, 'agb': 2, 'dudoderm': 1, 'diverticulosi': 4, 'stimilu': 1, 'ectat': 1, 'vertex': 5, 'sauc': 4, 'aros': 2, 'bronchscopi': 1, 'coxxyx': 1, 'thk': 1, 'catheter': 2, 'parament': 1, 'asysol': 1, 'lucenc': 11, 'perpendicular': 1, 'coverd': 1, 'misshapen': 1, 'beig': 2, 'exploratori': 1, 'preliminarili': 3, 'ttube': 1, 'ry': 1, 'volulm': 1, 'copoiu': 1, 'chagn': 1, 'suspend': 2, 'deciscion': 1, '^^rr': 2, 'rose': 5, 'chage': 2, 'fli': 5, 'diffficult': 1, 'adenoca': 1, 'misc': 1, 'insens': 4, 'cchour': 1, 'remot': 4, 'ocmmand': 1, 'paravertebr': 2, 'hed': 1, 'noi': 1, \"mod't\": 1, 'onthi': 2, 'peopl': 5, 'mechaniclli': 1, 'esp': 11, 'angiopathi': 1, 'hemocult': 1, 'trophic': 2, 'laparotomi': 1, 'fleck': 1, 'nted': 1, 'hydral': 5, 'abdoment': 1, 'clonazapam': 1, 'redirect': 2, 'calori': 16, 'zoysn': 3, 'est': 3, 'inhibitor': 5, 'rhytham': 1, 'reclin': 1, 'nonsens': 2, 'dinner': 5, 'cholesterol': 2, 'nli': 1, 'rhochor': 3, 'aforement': 2, 'fed': 3, 'ace': 9, 'megac': 1, 'plerual': 3, 'cereal': 1, 'sched': 2, 'omelett': 1, 'humid': 2, 'perifer': 1, 'conjuct': 1, 'yhesterday': 1, 'asympt': 1, 'church': 1, 'tepid': 2, 'requirinf': 1, 'toenail': 2, 'responc': 2, 'school': 2, 'flacid': 3, 'dobuta': 2, 'rouseabl': 1, 'profilax': 1, 'hotel': 2, 'ceftriax': 1, 'consentr': 1, 'ofr': 1, 'wehen': 1, 'howevet': 1, 'vese': 2, 'kilo': 1, 'multivessel': 2, 'diaphoresi': 2, 'taketsubo': 1, 'appopri': 1, 'reqir': 1, 'sydron': 1, 'boyfriend': 1, 'eccymosi': 2, 'thormbu': 1, 'suppos': 6, 'rnoc': 1, '^wbc': 1, 'boy': 1, 'perirect': 2, 'ceftazidim': 4, 'humolog': 1, 'prophalact': 1, 'ys': 1, 'isnp': 1, 'htd': 1, 'ventiltori': 1, \"'sst\": 1, 'esoph': 4, 'oliguria': 7, 'dysynchron': 9, 'spare': 12, 'oygen': 1, 'sluggishli': 6, 'lpew': 1, 'lovenox': 4, 'tma': 1, 'craniotomi': 2, 'vasporessin': 1, 'unrealist': 2, 'insid': 4, 'anascara': 2, 'phenytoin': 2, 'redress': 4, 'prioriti': 11, 'parametr': 1, 'pinsp': 2, 'anasrca': 1, 'snx': 5, 'manoeuv': 1, 'flextub': 1, 'intermittint': 1, 'orallli': 1, 'zoysyn': 1, 'rigor': 1, 'classif': 1, 'dilantin': 4, 'decret': 1, 'duoden': 4, 'forth': 5, 'rescuscit': 2, 'cup': 1, 'establish': 11, 'binder': 5, 'labetolol': 2, 'pivx': 1, 'slp': 7, 'trazadon': 3, 'parathyroid': 1, 'trand': 1, 'share': 7, 'stabli': 3, 'acoust': 6, 'whiteout': 1, 'dial': 2, 'engag': 3, 'epitheli': 11, 'aaa': 3, 'spill': 1, 'tsp': 4, 'thirsti': 2, 'gfr': 4, 'foi': 2, 'seat': 5, 'viscou': 1, 'labial': 2, 'protrus': 1, 'crf': 4, 'hld': 1, 'pmn': 15, 'azithro': 8, 'strict': 7, 'email': 6, 'buccal': 2, 'rlsb': 1, 'unmetabol': 1, 'calmer': 1, 'arestraint': 1, 'shadow': 8, 'tetracyclin': 2, 'extubat': 2, 'workup': 10, 'labatolol': 1, 'clonu': 5, 'fluoroquinolon': 1, 'blous': 6, 'bisbi': 1, 'inappropri': 6, 'reexpand': 1, 'underestim': 6, 'relev': 27, 'tob': 2, 'context': 8, 'retri': 4, 'ctx': 3, 'py': 1, 'lighten': 11, 'mucin': 1, 'mmv': 5, 'levothyroxin': 5, 'endobronchi': 4, 'benefif': 1, 'pallait': 1, 'oa': 1, 'occurr': 3, 'bronchiti': 4, 'dentur': 5, 'labetalol': 2, 'unwil': 2, 'motor': 5, 'couas': 1, 'outstand': 1, 'hgb': 21, 'holosyst': 2, 'reattempt': 4, 'gestur': 4, 'hemodynamicli': 1, 'nasaotrach': 1, 'fluent': 3, 'ctab': 7, 'ramya': 2, 'systolicali': 1, 'secretin': 1, 'etio': 1, 'unplan': 3, 'apici': 1, 'dyston': 2, 'mastic': 2, 'mouthcar': 5, 'propafol': 5, 'conserv': 4, 'consequ': 7, 'dwindl': 2, 'threshold': 10, 'claim': 15, 'phlegm': 1, 'narc': 2, 'facet': 2, 'disorient': 2, 'cautious': 1, 'suffici': 9, 'risbi': 3, 'edentul': 2, 'hypothyroid': 11, 'clonic': 1, 'besid': 4, 'aphonia': 1, 'reproduc': 1, 'bedsight': 1, 'phosphor': 1, 'lingual': 3, 'rhythmic': 1, 'rebronch': 1, 'cpcp': 2, 'doxercalciferol': 1, 'holosystol': 1, 'inspiratori': 19, 'attg': 2, 'intellig': 1, 'furosemid': 18, 'certain': 2, 'suspiciion': 1, 'cipso': 1, 'usip': 1, 'intramur': 1, 'destruct': 4, 'distens': 10, 'tia': 2, 'arthroplasti': 3, 'reticular': 10, 'microbubbl': 2, 'proven': 1, 'hyxpoxia': 1, 'ipf': 12, 'bore': 5, 'uip': 1, 'pfo': 7, 'transplan': 1, 'submit': 8, 'congenit': 3, 'dysmotil': 2, 'construct': 2, 'collagen': 1, 'recon': 10, 'scleroderma': 1, 'boop': 4, 'cerebrovascular': 2, 'reflux': 6, 'uid': 1, 'instrument': 2, 'lumbar': 12, 'transaort': 2, 'version': 7, 'goodby': 7, 'hallucin': 3, 'claustrophob': 1, 'rhythym': 1, 'pullback': 1, 'furthermor': 2, 'curtain': 1, 'cheeck': 1, 'tapper': 2, 'debat': 2, 'nitrat': 2, 'sedement': 1, 'spastic': 1, 'incred': 1, 'maitain': 2, 'increasd': 2, 'claustrophobia': 1, 'polit': 1, 'perf': 4, 'initiali': 2, 'revisit': 4, 'achill': 1, 'idiopath': 4, 'oxa': 2, 'pf': 3, 'chanag': 1, 'ioc': 1, 'frequ': 2, 'bleb': 2, 'deepli': 2, 'repost': 1, 'heavili': 5, 'degress': 1, 'setti': 1, 'ccn': 4, \"sx'ng\": 2, 'teradyn': 1, 'tramua': 1, 'collaber': 1, 'firmer': 2, 'hygen': 2, 'brn': 2, 'aova': 2, 'secreiton': 2, 'rap': 1, 'cataract': 5, 'big': 8, 'rhoncor': 5, 'alsdo': 1, 'tten': 1, 'rhonchour': 2, 'beginni': 1, 'asbestosi': 1, 'beginnng': 1, 'thalam': 1, 'flank': 8, 'meatu': 5, 'levofloxin': 3, 'allevi': 5, 'twave': 2, 'drng': 3, 'fic': 1, 'iwth': 1, 'rc': 1, 'notif': 5, 'vre': 6, 'preceed': 1, 'osteoarthrit': 1, 'redos': 4, 'wih': 1, 'resit': 9, 'curvilinear': 2, 'receeiv': 1, 'mattess': 1, 'urolog': 4, 'adden': 1, 'absorpt': 5, 'un': 3, 'pleasa': 1, 'fasicul': 1, 'unsuit': 1, 'balalnc': 1, 'withdrew': 3, 'unopacifi': 1, 'pellucidum': 1, 'trendelenberg': 2, 'ppf': 1, 'stg': 4, 'eitiolog': 1, 'allerg': 3, 'pararen': 2, 'worsend': 2, 'hyperkalem': 3, 'pateitn': 1, 'irrigatioin': 1, 'cavum': 1, 'invert': 1, 'verga': 1, 'appov': 1, 'norvasc': 2, 'eventaulli': 1, 'muffl': 1, 'appendix': 4, 'unarous': 4, 'plantar': 1, 'stair': 3, 'hsm': 8, 'contractur': 1, 'gonad': 1, 'orif': 2, 'align': 2, 'requier': 2, 'antimicrobi': 11, 'lenticulostri': 1, 'atalectasi': 2, 'rhinorrhea': 1, 'thr': 1, 'lp': 5, 'assoc': 4, 'seroquel': 2, 'atheroma': 3, 'infxn': 2, 'mmm': 10, 'usoh': 3, 'hemiparasi': 1, 'adnex': 1, 'heterotop': 2, 'detrol': 2, 'nsaid': 2, 'scopalamin': 4, 'menopaus': 1, 'mening': 6, 'qh': 6, 'unresponsiv': 1, 'imi': 1, 'hemiarthroplasti': 1, 'romi': 1, 'drew': 1, 'indetermin': 12, 'rm': 1, 'hemiparesi': 3, 'egd': 7, 'sma': 3, 'groan': 2, 'tsh': 7, 'cement': 1, 'yof': 5, 'downgo': 1, 'electrocauderi': 1, 'arrous': 3, 'qt': 3, 'lbbb': 2, 'doubt': 9, 'ingest': 3, 'gb': 5, 'ecchymos': 5, 'cor': 4, 'disloc': 4, 'varic': 7, 'vaso': 3, 'vasoppresin': 1, 'vasopresin': 2, 'escol': 1, 'miltipl': 2, 'lvel': 1, 'cllose': 1, 'paraplegia': 1, 'thta': 2, 'bicar': 1, 'uppon': 1, 'surrog': 2, 'therapeuitc': 1, 'tobromycin': 1, 'offici': 7, 'pendn': 1, 'zocyn': 2, 'cotn': 1, 'monitoirng': 1, 'ovb': 2, 'underway': 3, 'program': 7, 'transf': 1, 'unbal': 1, 'tobra': 5, 'pupl': 2, 'uint': 1, 'guardianship': 2, 'dssg': 1, 'uit': 1, 'flexacil': 1, 'tobro': 1, 'comand': 2, 'doputamin': 1, 'befriend': 1, 'peteci': 1, 'enorm': 1, 'digoxin': 9, 'sclca': 1, 'presumpt': 3, 'zocor': 2, 'newest': 1, 'holder': 2, 'auto': 7, 'tmp': 8, 'love': 4, 'lipidemia': 1, 'hemodynim': 16, 'levofoxacin': 1, 'dissect': 6, 'annoint': 1, 'score': 5, 'stepson': 1, 'gout': 6, 'vtachi': 2, 'plot': 2, 'kind': 1, 'glucan': 8, 'petechia': 7, 'bless': 3, 'icd': 5, 'oliguricb': 1, 'harm': 6, 'migrat': 6, 'fentayl': 3, 'ringworm': 1, 'conveni': 1, 'allopurinol': 6, 'calc': 20, 'writer': 2, 'portacath': 4, 'xrt': 7, 'smx': 7, 'rheumatoid': 4, 'arthriti': 6, 'elderi': 1, 'retent': 7, 'celexa': 2, 'ignor': 1, 'droppedfrom': 1, 'nab': 5, 'wgt': 17, 'sedtat': 2, 'sclc': 1, 'hemorrag': 1, 'alkalin': 15, 'effectivli': 1, 'gola': 1, 'magnet': 2, 'mth': 2, 'lyphanget': 1, 'protinx': 1, 'infra': 1, 'exfoli': 1, 'denial': 2, 'bee': 8, 'galactomannan': 7, 'rite': 4, 'interdisciplinari': 14, 'rectobulbar': 1, 'excess': 11, 'fing': 1, 'formula': 9, 'clarif': 5, 'cracker': 1, 'articl': 2, 'lla': 1, 'hilum': 2, \"'abl\": 1, 'thoracetesi': 1, 'puffer': 1, 'postsurg': 2, 'transud': 6, 'lefloxin': 1, 'lawyer': 2, 'frop': 1, 'diltizem': 1, 'propopfol': 1, 'speciman': 1, 'mulitsystem': 1, 'thouhg': 1, 'rewuir': 1, \"pt'scode\": 1, 'whne': 2, 'dilut': 4, 'bend': 2, 'trnasport': 1, 'cecal': 1, 'manner': 4, 'doen': 3, 'thorocolumbar': 1, 'diapragmat': 1, 'retrocrur': 1, 'ectasia': 1, 'tortous': 1, 'diaphragmat': 4, 'acuta': 1, 'eechymot': 1, 'aneursym': 1, 'zithromax': 1, 'fatti': 1, 'cult': 8, 'lipoma': 1, 'vd': 1, 'ceftrix': 1, 'bifurc': 2, 'hydroneprosi': 1, 'stoic': 1, 'predomiantli': 1, 'network': 1, 'icechip': 1, 'privaci': 2, 'tobramycin': 3, 'vistit': 1, 'cat': 6, 'miantain': 1, 'scapula': 3, 'ordor': 1, 'interfac': 1, 'enrout': 2, 'thoracoabdomin': 2, 'remian': 5, 'blur': 4, 'widen': 15, 'plasma': 2, 'plasmaforesi': 1, 'multilobular': 2, 'rpc': 2, 'ittp': 1, 'inqueri': 1, 'supra': 7, 'aystol': 1, 'mard': 1, 'activitiy': 1, 'provit': 1, 'tolerta': 1, 'rsstraint': 1, 'pearla': 2, 'plasmapheresi': 1, 'oxygent': 3, 'retart': 1, 'furhter': 3, 'wquickli': 1, 'occai': 1, 'ttp': 2, 'cld': 1, 'act': 12, 'siezur': 2, 'verapimil': 1, 'amniodaron': 2, 'hemetolog': 1, 'frig': 1, 'eyebrow': 2, 'verapmil': 1, 'dialntin': 1, 'vicari': 2, 'benigh': 1, 'reconsult': 5, 'hypernatrium': 1, 'zantac': 1, 'consolida': 1, 'dilatin': 2, 'reactiven': 1, 'therapuet': 1, 'tympan': 3, 'gvien': 2, 'hematuria': 7, 'derterior': 1, 'browni': 1, 'amirion': 1, 'trap': 5, 'amniodoron': 1, 'blod': 2, 'succinocholynin': 1, 'procan': 1, 'fosphenytoin': 1, 'oversed': 1, 'gaseou': 2, 'wise': 5, 'dgt': 1, 'reass': 2, 'rlower': 1, 'midlung': 1, 'lral': 1, 'suscept': 3, 'nbr': 1, 'urpc': 1, 'roll': 5, 'fifth': 3, 'hemobilia': 1, 'calvarium': 3, 'inceas': 1, 'ri': 1, 'ser': 1, 'stack': 4, 'scopolimin': 1, 'spontaneuosli': 1, 'ativna': 1, 'statlock': 2, 'stoke': 3, 'thread': 1, 'cotinu': 1, 'schiz': 1, 'basicali': 1, 'fluor': 1, 'qtc': 3, 'tema': 1, 'montitor': 3, 'realtim': 2, 'chol': 3, \"'girgl\": 1, 'proovid': 1, 'dryness': 1, 'ej': 3, 'curent': 2, 'hardcopi': 1, 'fmaili': 3, 'angiographi': 5, 'suitabl': 4, 'tubefe': 5, 'surpriz': 1, 'supratherapeut': 9, 'movent': 1, 'reschedul': 2, 'disciplanari': 1, 'sing': 1, 'everyon': 2, 'tyre': 1, 'smile': 2, 'elbow': 9, 'feud': 1, 'enhans': 1, 'yankeaur': 1, 'dissapoint': 1, 'nibp': 7, 'myconazol': 1, 'diaph': 1, 'mimin': 1, 'fusion': 3, 'respiratorey': 1, 'cardia': 2, 'anasthesia': 1, 'anzimet': 1, 'pneumotho': 1, 'miconizol': 1, 'quesstion': 1, 'underpenetr': 7, 'thoracenthesi': 1, 'yankuer': 1, 'suter': 1, 'tuesday': 9, 'fentynl': 1, 'hemonc': 1, 'precept': 2, 'busi': 1, 'remainpt': 1, 'error': 6, 'mim': 1, 'topler': 1, 'rtespiratori': 1, 'fentaynl': 1, 'periarea': 1, 'pipricillin': 1, 'reexpans': 2, 'nysatin': 1, 'thorencentesi': 2, 'peaceabl': 1, 'thicker': 3, 'ascult': 2, 'chaqng': 1, 'bipsi': 1, 'dequat': 1, 'otherw': 1, 'supposrt': 1, 'dangl': 2, 'vomitinig': 1, 'chardt': 1, 'eight': 3, 'saliv': 1, 'mitrazol': 1, 'dime': 1, 'thck': 1, 'pdr': 1, 'creme': 2, 'figur': 3, 'avg': 3, 'yanker': 1, 'mechinc': 1, 'brochoscopi': 2, 'pleuvex': 1, 'bronchoscpi': 1, 'lght': 1, 'conclud': 1, 'pleurex': 1, 'miconazol': 4, 'hn': 9, '^st': 6, 'fossa': 7, 'pepcid': 6, 'suberb': 1, 'polar': 1, 'dmfj': 1, 'metavis': 12, 'atherosclerosi': 4, 'evolut': 6, 'restor': 1, 'gluos': 1, 'methgb': 1, 'ggt': 7, 'aa': 5, 'thrombi': 3, 'ablat': 5, 'timecours': 1, 'cutoff': 1, 'hypertroph': 3, 'abtout': 1, '^nd': 8, 'thrombos': 2, 'diabet': 14, 'supertherapeut': 1, 'papyracea': 1, 'nkfa': 4, 'reconsclip': 1, 'pyuria': 3, 'appendag': 3, 'descript': 7, 'miner': 10, 'rhythem': 1, 'viscer': 2, 'exhal': 13, 'ventricularli': 1, 'phynelephrin': 1, 'smv': 2, 'academia': 2, 'lamina': 2, 'characterist': 2, 'hypercoagul': 1, 'microb': 1, 'thrombophilia': 1, 'glaucoma': 2, 'strike': 1, 'fibersourc': 7, 'suppli': 6, 'ubw': 1, 'massag': 5, \"jxn'al\": 1, 'vasculariz': 1, 'hemispher': 1, 'warrant': 5, 'dermatolog': 1, 'thrombolysi': 1, 'ethanol': 1, 'aksb': 1, 'rythem': 1, 'ecoli': 4, 'vivonex': 3, 'stasi': 4, 'proteu': 2, 'research': 2, 'boluss': 1, 'dlrc': 3, 'author': 3, 'superven': 6, 'multivitamin': 10, 'ich': 5, 'defecit': 2, 'hiss': 14, 'thrombo': 1, 'hyperventil': 3, 'pendin': 1, 'hocm': 1, 'revert': 2, 'lopresor': 1, 'meningioma': 2, 'nonhemorrhag': 2, 'sg': 1, 'thrombot': 3, 'season': 1, 'ddd': 2, 'mellitu': 3, 'hypocalor': 5, 'subtl': 6, 'vest': 1, 'visisbilti': 1, 'initailli': 1, 'appropiatelt': 1, 'gown': 1, 'lordot': 3, 'memeori': 1, 'sundown': 1, 'fot': 1, 'throw': 3, 'alzheim': 9, 'kyphosi': 3, 'uret': 3, 'stromal': 1, 'debil': 2, 'abcess': 5, 'mesenchym': 1, 'tree': 11, 'collasp': 1, 'taneous': 1, 'hasten': 1, 'hemiabdomen': 1, 'oldest': 1, 'parapelv': 1, 'duplic': 3, 'str': 2, 'lobul': 2, 'adamantli': 1, 'comprehend': 3, 'greatest': 2, 'fourth': 2, 'outer': 3, 'gentl': 16, 'lucid': 1, 'crement': 1, 'pleath': 1, 'distanc': 3, 'group': 3, 'prsentli': 1, 'oi': 2, 'gpt': 1, 'ride': 1, 'coar': 2, 'stagger': 1, 'incluc': 1, 'afb': 6, 'osteomyel': 2, 'azythromycin': 2, 'px': 1, 'levetiracetam': 2, 'susp': 1, 'mtp': 1, 'ultrasonograph': 2, 'obl': 1, 'minimu': 1, 'phonecal': 2, 'uncin': 1, 'fragment': 4, 'malleolu': 1, 'chiba': 1, 'lucent': 3, 'bronchiol': 2, 'eros': 1, 'hyperglycem': 2, 'ossif': 2, 'mrcp': 3, 'hypottherm': 1, 'collectio': 1, 'centrilobular': 3, 'cloog': 1, 'disp': 3, 'pnacreat': 1, 'plactment': 1, 'marker': 7, 'gastrojejunostomi': 1, 'gluteu': 1, 'periost': 1, 'desk': 1, 'collim': 5, 'calcaneu': 1, 'bound': 6, 'recc': 2, 'aspit': 1, 'cs': 1, 'regad': 1, \"treatments'\": 1, 'brisckli': 1, 'swalow': 1, 'manger': 2, 'potato': 1, 'jello': 3, 'rewarm': 1, 'drool': 2, 'pleura': 4, 'lfa': 1, 'hemorrhoid': 1, 'veyr': 1, 'dexamethason': 3, 'dicuss': 1, 'gait': 4, 'fibrothorax': 1, 'mash': 1, 'tact': 2, 'tomm': 1, 'aveolar': 2, 'hodgekin': 1, 'ivabx': 1, 'seemd': 1, 'damag': 4, 'pleuro': 1, 'critacar': 1, 'pipercillin': 1, 'rs': 1, 'optimist': 1, 'twelfth': 1, 'olanzapin': 1, 'contini': 3, 'pacu': 1, 'synchroni': 3, 'disynchron': 3, 'attack': 3, 'bleomycin': 1, 'fleet': 4, 'cisat': 1, 'serosangin': 2, 'tablet': 4, 'brow': 1, 'cisatricurium': 2, 'shr': 1, 'intermitantli': 1, 'plavix': 3, 'furrow': 1, 'seveer': 1, 'tachypnia': 1, 'regain': 4, 'wasd': 1, 'ever': 3, 'xfew': 1, 'occat': 3, 'slightest': 1, 'tachard': 1, 'caontact': 1, 'mmcg': 1, 'tachyp': 1, 'lymphpma': 1, 'hypotnes': 1, 'similarli': 1, 'bleo': 1, 'fold': 8, 'univers': 1, 'subsegment': 11, 'hodgkin': 3, 'formul': 3, 'fibrot': 8, 'whe': 1, 'reuslt': 1, 'isoridl': 1, 'trnasfer': 1, 'perian': 3, 'methylprednisolon': 10, 'sixth': 2, 'correctli': 4, 'inconti': 1, 'critcaid': 1, 'coasr': 1, 'dowm': 1, 'pronoun': 1, 'thrash': 3, 'mobilazt': 1, 'donat': 3, 'assessori': 1, 'perm': 2, 'hydrocrtison': 1, 'stitch': 1, 'restlessli': 1, 'aureu': 4, 'bilaterali': 1, 'reinit': 1, 'anal': 3, 'countri': 1, 'mophin': 1, 'pediatr': 1, 'treatement': 4, 'brath': 2, 'aspirt': 1, 'afteran': 1, 'nitroglycerin': 1, 'predomin': 8, 'subacut': 4, 'dloppler': 1, 'index': 6, 'shave': 2, 'pariet': 3, 'resdiual': 2, 'glycerin': 1, 'outcom': 8, 'gastroccult': 3, 'nif': 4, 'placemnt': 2, 'milrinon': 2, 'ocassion': 1, 'nucleu': 1, 'secrect': 3, 'tpiec': 1, 'hemmerroid': 1, 'tylenon': 1, 'urea': 1, 'rssi': 2, 'bij': 1, 'sennakot': 1, 'midazolm': 1, 'compazin': 5, 'pericardiocentesi': 1, 'breakthrough': 4, 'tke': 1, 'bereav': 2, 'ativn': 1, 'melenoma': 2, 'likley': 5, 'porli': 1, 'pericarid': 1, 'cheynn': 1, 'smal': 2, 'pg': 1, 'whatev': 2, 'ahead': 3, 'scatt': 1, 'melanoma': 3, 'evalul': 1, 'drank': 2, 'boul': 1, 'goven': 1, 'etoh': 7, 'eaten': 1, 'legthargi': 1, 'codien': 1, 'music': 2, 'disregard': 2, 'crack': 1, 'pnuemonia': 4, 'bigemin': 1, 'imrpvo': 1, 'fibr': 1, 'gentamicin': 4, 'assst': 1, 'jtube': 3, 'innomin': 2, 'inci': 1, 'intrathor': 1, 'pleurovac': 1, 'consutl': 1, 'pluera': 1, 'heparn': 1, 'drainin': 1, \"'boston\": 1, 'endur': 2, 'ativanand': 1, 'transpos': 1, 'imipenim': 1, 'esophagogastrostomi': 1, 'intacat': 1, 'pahco': 1, 'north': 1, 'sa': 4, 'egg': 1, 'feso': 1, 'vor': 1, 'genta': 2, 'autodiur': 1, 'northern': 1, 'pooli': 1, 'clearl': 1, 'incorrect': 2, 'adenoma': 3, 'pulsesd': 1, 'theradyn': 1, 'esophagogastrectomi': 1, 'caraf': 1, 'neget': 1, 'unmeasur': 1, 'anastomot': 1, 'diluadid': 2, 'dilit': 2, 'gastroesophagectomi': 1, 'irregularli': 3, 'slighti': 2, 'knick': 1, 'possilb': 1, 'urbc': 1, 'postprocedur': 1, 'metab': 2, 'mechanicli': 1, 'pee': 1, 'vecuronium': 5, 'flucoazol': 1, 'systesm': 1, 'btf': 1, 'transposit': 1, 'monito': 2, 'news': 5, 'patednt': 1, 'bibasilarri': 1, 'sson': 1, 'subpulmonari': 1, 'quaniti': 1, 'imipenem': 2, 'eposid': 1, 'soundsa': 1, 'reattach': 1, 'aspriat': 1, 'scalpel': 1, 'imtermitt': 1, 'bpsupport': 1, 'ugi': 2, 'extravas': 2, 'chck': 1, 'esophogram': 1, 'pullthrough': 2, 'imipenum': 1, 'scout': 3, 'afcter': 1, 'diaphort': 1, 'shotti': 1, 'suff': 1, 'lgt': 1, 'tag': 1, 'dng': 3, 'decomens': 1, 'sucralf': 1, 'electroyt': 1, 'amen': 4, 'disregaurd': 1, 'foloow': 1, 'epogen': 1, 'clonidin': 1, 'eager': 1, 'stream': 1, 'progrerss': 1, 'electrolt': 1, 'ectpoy': 1, 'freqnent': 1, 'pullup': 1, 'amnio': 1, 'gym': 1, 'pen': 1, 'pike': 2, 'patentci': 2, 'coun': 1, 'noectopi': 1, 'counsel': 3, 'solubl': 1, 'recommn': 1, 'tachynepn': 1, 'amioderon': 5, 'primaxin': 1, 'explanatori': 1, 'cous': 1, 'plueravac': 1, 'autodiuresi': 3, 'clench': 1, 'swing': 2, 'reuir': 1, 'mgsulfat': 2, 'lwst': 1, 'fluib': 1, 'bsp': 1, '^^hr': 1, 'fistul': 1, 'soflti': 1, 'abt': 3, 'osm': 2, 'dt': 3, 'accident': 2, 'overview': 1, 'yanquer': 1, 'joul': 2, 'icnreas': 1, 'cark': 1, 'withi': 1, 'mechanicali': 1, 'cahng': 1, 'hydropneumothorax': 3, 'vi': 6, 'rhoncii': 2, 'membership': 1, 'hepar': 3, 'consistenli': 2, 'fd': 1, 'feoli': 1, 'tail': 4, 'select': 4, 'comnt': 1, 'hepatin': 1, 'yellw': 1, 'lovefloxacin': 1, 'pig': 2, 'sytsem': 1, 'underwat': 1, 'caglucon': 1, 'autodiures': 5, 'prescrib': 5, 'scope': 6, 'bldi': 4, 'willprob': 1, 'endoscopi': 8, 'persit': 1, 'activit': 1, 'csl': 1, 'cultu': 1, 'adenosen': 1, 'multidisiciplinari': 1, 'ele': 1, 'mgnt': 1, 'smell': 3, 'hnh': 1, 'cg': 3, 'discoordiant': 1, 'threadi': 1, 'vc': 1, 'blank': 1, 'cw': 1, 'subcuta': 1, 'reolv': 1, 'untoward': 2, 'fentantyl': 1, 'sarna': 1, 'crepidu': 1, 'radal': 1, 'givent': 2, 'bllod': 1, 'toadi': 1, 'sersang': 2, 'metabil': 1, 'exclus': 3, 'thorascopi': 1, 'elastoplast': 1, 'dvr': 1, 'insulingtt': 1, 'slather': 1, 'coordin': 7, 'lasux': 1, 'wtih': 3, 'behaviour': 1, 'subcut': 1, 'fluctut': 1, 'lotion': 3, 'hyperphosphatemia': 1, 'eextrem': 1, 'heater': 1, 'creptiu': 1, 'biat': 1, 'orderd': 3, 'bactoban': 1, 'oncom': 1, 'cmg': 1, 'nruse': 1, 'thorcoscopi': 1, 'waters': 5, 'wavefrom': 1, 'seed': 2, 'trahc': 1, 'scoot': 1, 'omg': 1, 'lacter': 1, 'amphogel': 1, 'ant': 12, 'aluminum': 1, 'ceftazadim': 2, 'fluctutaion': 1, 'lax': 1, 'mainta': 3, 'oxacillin': 2, 'acisosi': 1, 'regist': 3, 'shot': 2, 'activti': 1, 'replt': 1, 'bactroban': 1, 'inquiri': 2, 'positv': 2, 'airleak': 2, 'periodci': 1, 'liber': 4, 'oo': 1, 'plcmt': 2, 'pxcr': 1, 'sanguini': 1, 'kink': 4, 'hydrox': 1, 'ceftazidin': 1, 'jepard': 1, 'ahf': 1, 'peripheri': 6, 'calendar': 1, 'inspiss': 1, 'jkpe': 2, 'obliqu': 7, 'yankour': 1, 'acquisit': 4, 'tailor': 6, 'softsorb': 3, 'unattain': 1, 'wildli': 1, 'shin': 2, 'lose': 2, 'extern': 6, 'superiorli': 3, '^psv': 1, 'surprisingli': 1, 'exor': 1, 'sofsorb': 1, 'pri': 1, 'indent': 2, 'rbreast': 1, 'unobtain': 4, 'randomli': 1, 'tib': 1, 'pneum': 2, 'intussuscipien': 1, 'metal': 3, 'pancol': 2, 'anterobas': 1, 'ileum': 1, 'nonocclus': 3, 'duodenojejun': 1, 'subseq': 2, 'aubil': 1, 'rami': 2, 'led': 9, 'amoutn': 1, 'pastor': 6, 'ausculat': 1, 'retrial': 1, 'dart': 1, 'nissen': 1, 'tension': 3, 'vac': 1, 'brim': 2, 'sphyncter': 1, 'anterobasilar': 1, 'remainin': 1, 'anasarc': 4, 'carin': 1, 'unilat': 10, 'fundopl': 1, 'mvo': 3, 'lumbosacr': 2, 'anterosept': 10, 'pkt': 2, 'pnuemo': 1, 'doesnot': 1, 'desolv': 1, 'slighlti': 2, 'soundli': 2, 'anxiolyt': 5, 'snow': 1, 'moniot': 1, 'tray': 2, 'bronchoalveolar': 1, 'amberish': 1, 'decreat': 1, 'interspac': 2, 'obsess': 1, 'afebrilewbc': 1, 'coax': 1, 'silhouet': 2, 'com': 2, 'approprietli': 1, 'semierect': 1, 'topic': 6, 'abswer': 1, 'loudli': 1, 'nutramen': 1, 'soar': 1, 'llp': 1, 'larm': 1, 'extremli': 1, 'nutramenren': 1, 'cogniz': 1, 'rf': 3, 'perpheri': 2, 'andwer': 1, 'depper': 1, 'lasiz': 1, 'diali': 1, 'neurlog': 1, 'chlorothiazid': 3, 'compet': 3, 'stylet': 2, 'app': 1, 'diuril': 5, 'essent': 3, 'rth': 1, 'susction': 1, 'amint': 1, 'gaol': 3, 'basalar': 1, 'pti': 1, 'mucousa': 1, 'daptomycin': 1, 'insuluin': 1, 'bother': 2, 'breathrough': 1, 'swabe': 1, 'coorel': 1, 'detrior': 2, 'soik': 1, 'ssic': 1, 'afbril': 1, 'highest': 4, 'epigloti': 1, 'aabout': 1, 'hypoventil': 3, 'inutb': 1, 'arrythmmia': 1, 'hypoxcemia': 1, 'anytim': 1, 'periodd': 1, 'fuo': 6, 'coccycx': 1, 'strictur': 1, 'currenlti': 3, 'famotidin': 9, 'clincal': 1, \"'sbp\": 1, 'esophog': 1, 'urgenc': 1, 'drep': 1, 'axieti': 1, 'waffel': 1, 'flair': 5, 'directli': 5, 'ateri': 1, 'thrive': 3, 'dimninsh': 1, 'iniit': 1, 'vsd': 6, 'tlyenol': 1, 'faliur': 1, 'triag': 1, 'prpogress': 1, 'lund': 1, 'extrins': 3, 'biacodyl': 1, 'lverf': 1, 'ppo': 1, 'trumphet': 1, 'stonehedg': 1, 'dimentia': 2, 'cfh': 1, 'swal': 1, 'specifc': 1, 'trazedon': 1, 'millisecond': 3, 'disicion': 1, 'laminectomi': 1, 'diverticula': 3, 'alkolot': 1, 'gluco': 1, 'inntub': 1, 'undergon': 5, 'ver': 2, 'nurisng': 1, 'blanch': 4, 'addenum': 1, 'mount': 1, 'mimim': 1, 'disimpact': 2, 'qlc': 1, 'laid': 2, 'receivd': 1, 'morhin': 2, 'flexis': 8, 'stonger': 1, 'aggiat': 1, 'sett': 1, 'kayxel': 1, 'postmortem': 1, 'breifli': 1, 'ru': 2, 'prvc': 4, 'evalut': 4, 'anticoag': 4, 'rsv': 2, 'movmement': 1, 'spous': 3, 'worri': 2, 'finerstick': 1, 'platueau': 1, 'criticaid': 3, 'hemolysi': 8, 'ballon': 2, 'blow': 1, 'lrad': 2, 'lpicc': 1, 'se': 1, 'bw': 1, 'transpleur': 2, 'ize': 1, 'transpulmonari': 2, 'safey': 1, 'troubleshoot': 1, 'vault': 2, 'sludgi': 1, 'trickl': 1, 'pseudoaneurysm': 1, 'antibiod': 3, 'dashboard': 2, 'sesha': 2, 'septat': 3, 'ghome': 1, 'preferenti': 2, 'asymmetri': 3, 'sternoclavicular': 1, 'microangiopath': 1, 'respres': 1, 'pxdb': 2, 'hyperextens': 2, 'nursin': 1, 'cerebellum': 1, 'predict': 4, 'trajectori': 2, 'condol': 2, 'persu': 1, 'aglc': 4, 'disucuss': 2, 'hypervolem': 2, 'wheelchair': 3, 'scr': 1, 'outpt': 5, 'nephrologist': 2, 'showel': 1, 'hf': 4, 'rlq': 3, 'metolazon': 1, 'nephrolist': 1, 'zozyn': 1, 'abm': 1, 'dinitr': 1, 'infrahilar': 5, 'hap': 24, 'aournd': 1, 'infilter': 1, 'phoslo': 1, 'carvedilol': 1, 'uptitr': 7, 'sking': 1, 'neuropathi': 5, 'enterococci': 2, 'matalazon': 1, 'conest': 1, 'contd': 1, 'ecal': 1, 'mosd': 1, 'atorvastatin': 8, 'vano': 1, 'coreg': 1, 'broadli': 7, 'rip': 1, 'hff': 1, 'bi': 2, 'xone': 1, 'gpr': 4, 'intract': 1, 'acei': 3, 'ranitidin': 4, 'mgt': 5, 'comfortbal': 2, 'hypovolem': 9, 'nmeb': 1, 'calcitriol': 1, 'nitropast': 1, 'bipaa': 1, 'improov': 1, 'isosorbid': 1, 'enterococcu': 4, 'neurontin': 3, 'recd': 1, 'nephrotoxin': 4, 'colonscopi': 1, 'fresh': 4, 'cefuroxim': 1, 'extrapulmonari': 1, 'wwp': 4, 'anteced': 2, 'thinner': 2, 'orophyaryng': 1, 'extuabt': 2, 'lansoprazol': 9, 'unattend': 1, \"c'd\": 3, 'escherichia': 1, 'antibito': 2, 'tacypnea': 1, 'hilu': 2, 'rquir': 1, 'opportun': 5, 'women': 1, 'mumur': 1, 'flacyl': 1, 'hypoglycemia': 3, 'prokinet': 1, 'restat': 1, 'communc': 1, 'grown': 4, 'normochrom': 1, 'mmd': 1, 'ivdu': 1, 'roomm': 1, 'providenciaa': 1, 'continues': 1, 'failiur': 1, 'iron': 6, 'medsl': 1, 'comatos': 2, 'yawn': 2, 'sputm': 1, 'overwhelm': 4, 'identif': 2, 'accid': 2, 'fof': 1, 'tachypneia': 1, 'prov': 1, 'fundament': 1, 'offend': 2, 'chornic': 2, 'encephaolopathi': 1, 'venilatori': 1, 'neoplast': 1, 'lumpectomi': 2, 'babinski': 3, 'sulfamethoxazol': 1, 'ctl': 1, 'cardiopulonari': 1, 'cloud': 2, 'mh': 2, 'normotherm': 4, 'gmmgsulf': 2, 'profil': 2, 'trimethoprim': 2, 'scar': 5, 'persistenli': 1, 'lasx': 1, 'instal': 1, 'spars': 5, 'neither': 4, 'mdrd': 2, 'decondit': 4, 'osteoporosi': 8, 'reassum': 1, 'wel': 1, 'stuartii': 1, 'sulbactam': 2, 'egfr': 1, 'hypoprofus': 1, 'forego': 1, 'hoever': 1, 'ncat': 5, 'restrat': 1, 'compli': 1, 'drown': 1, 'hysterectomi': 2, 'providentia': 1, 'wap': 1, 'chamg': 1, 'stuarti': 1, 'comf': 1, 'biped': 1, 'incapac': 1, 'cardiopulmomari': 1, 'pnemonia': 2, 'settig': 1, 'stun': 1, 'amiikacin': 1, 'peumonia': 1, 'coloni': 4, 'disuss': 1, 'nitrofurantoin': 1, 'normocyt': 2, '|': 2, 'uet': 1, 'impari': 2, 'attract': 2, 'nimenda': 1, 'hyralazin': 1, 'pin': 1, 'epith': 1, 'likelihood': 7, 'harder': 2, 'appreaci': 1, 'suctioin': 1, 'furthur': 1, 'prevacid': 7, 'hospitalist': 1, 'tca': 1, 'todya': 1, 'cefazolin': 2, 'donepezil': 2, 'providencia': 2, 'rightward': 6, 'amikacin': 2, 'scratch': 1, 'namenda': 2, 'medcial': 1, 'neuron': 3, 'sensorium': 1, 'prodrom': 1, 'uncompl': 6, 'heploc': 1, 'constanli': 1, 'perineaum': 1, 'exagger': 8, 'bang': 1, 'diaper': 1, 'reestablish': 1, 'threrfor': 1, 'extrewm': 1, 'scab': 1, 'admitt': 1, 'thoracolumbar': 3, 'iso': 2, 'intepret': 1, 'pinkish': 3, 'furrther': 1, 'investig': 4, 'idiolog': 1, 'imcomprehens': 1, 'lisw': 1, 'neuronton': 1, 'soound': 2, 'leision': 1, 'tomonitor': 1, 'prb': 1, 'rectrict': 1, 'guidelin': 2, 'flexi': 5, 'debrid': 2, 'dbp': 1, 'implement': 3, 'oitment': 1, 'respiraotri': 2, 'obses': 1, 'rheab': 1, 'coop': 1, 'seccess': 1, 'fist': 1, 'flexas': 1, 'atori': 1, 'evalaut': 2, 'applic': 10, 'notat': 1, 'dakin': 1, 'sution': 2, 'kerlex': 3, 'plactic': 1, 'plastic': 2, 'interventricular': 1, 'acetabula': 1, 'antiobiot': 1, 'hepatomegali': 2, 'hypokinet': 4, 'polysyst': 1, 'hepatolog': 4, 'pubi': 2, 'nasopharyng': 4, 'adult': 1, 'atroven': 1, 'citrar': 1, 'oxid': 4, 'preclud': 4, 'challengin': 1, 'imagin': 2, 'esld': 4, 'alveoli': 1, 'cvhd': 2, 'inaud': 1, 'dwell': 1, 'enumer': 1, 'pasp': 2, 'parasit': 2, 'assay': 5, 'tcdb': 1, 'nephrectomi': 1, 'neosynepherin': 1, 'naac': 1, 'smyrnio': 1, 'giv': 1, 'theray': 1, 'incllud': 1, 'special': 4, 'postpon': 3, 'strain': 13, 'clx': 3, 'reload': 2, 'priorit': 1, 'multicyst': 1, 'beneprotein': 5, 'viru': 3, 'synthet': 3, 'webtag': 2, 'esmolol': 2, 'hepatologist': 1, 'pkd': 1, 'chlorhex': 7, 'vasopress': 5, 'iliostomi': 1, 'femur': 2, 'hitt': 2, 'ctrl': 1, 'dex': 3, 'lipid': 7, 'equilibr': 1, 'divert': 1, 'amidodaron': 1, 'itchi': 1, 'monrn': 1, 'conitinu': 2, 'pot': 1, 'trea': 1, 'imrprov': 1, 'cef': 1, 'cvh': 1, 'kac': 1, 'thromboyctopenia': 1, 'pretest': 1, 'javascript': 2, 'cutlur': 1, 'treatjment': 1, 'keepign': 1, 'concer': 3, 'reiniti': 3, 'ptroy': 1, 'gdex': 2, 'tamiflu': 3, 'avfistula': 1, 'subtherapateut': 1, 'didnt': 1, 'trabecul': 3, 'alp': 1, 'toil': 1, 'dfa': 10, 'hepativ': 1, 'quinolon': 5, 'possibilti': 1, 'nonetheless': 2, 'earliest': 2, 'overhydr': 7, 'oseltamivir': 3, 'thrombcytopenia': 1, 'ts': 7, 'influeza': 1, 'multiorgan': 4, 'haptoglobin': 2, 'pulmonologist': 3, 'scal': 1, 'tachpnea': 3, 'contractil': 11, 'cant': 1, 'setup': 3, 'sptum': 2, 'convent': 3, 'heartsound': 1, 'atmospher': 1, 'mycolyt': 3, 'hemofilt': 1, 'givenn': 1, 'prognost': 2, 'instablil': 1, 'presoso': 1, 'ova': 2, 'bblocker': 2, 'hypokinetc': 1, 'sequestr': 2, 'hemodialyi': 1, 'prime': 3, 'sequest': 1, 'blockad': 4, 'napo': 3, 'dog': 1, 'riins': 1, 'mmghg': 1, 'poycyst': 1, 'reoslut': 1, 'meoprolol': 1, 'ddx': 18, 'superinfect': 4, 'supportuv': 1, 'circulatori': 2, 'popup': 2, 'subratherapeut': 1, 'unload': 2, 'dz': 2, 'overnighit': 1, 'ngtube': 2, 'enalapril': 1, 'campylobact': 1, 'nitric': 4, 'hypotes': 1, 'chanigng': 1, 'kpo': 1, 'pantop': 1, 'malfunct': 2, 'reactant': 1, 'metop': 1, 'stretcher': 6, 'medicaid': 6, 'intercurr': 2, 'dme': 5, 'walker': 2, 'mvi': 7, 'caltrat': 1, 'patientcodein': 1, 'tw': 1, 'steak': 1, 'remeron': 3, 'qam': 1, 'egophani': 1, 'weekli': 1, 'cautiou': 2, 'medicar': 5, 'niacin': 2, 'mediocr': 1, 'fosamax': 1, 'sensat': 3, 'exelon': 1, 'clindamycin': 3, 'medex': 3, 'rbbb': 5, 'purs': 2, 'abat': 1, 'zestril': 1, 'qualifi': 1, 'dispens': 1, 'inprov': 1, 'aggrenox': 1, 'qpm': 1, 'pauciti': 5, 'prng': 1, 'nondiagnost': 2, 'feacal': 1, 'mglopressor': 1, 'tappabl': 1, 'callout': 2, 'outand': 1, 'enquiri': 1, 'acsiti': 1, 'laculos': 1, 'litr': 2, 'soduim': 1, 'surgeon': 2, 'projectil': 1, 'atvian': 1, 'semiform': 1, 'emphat': 2, 'tachyarrhythmia': 1, 'latat': 1, 'tt': 1, 'chew': 2, 'ijv': 1, 'levaph': 2, 'neomycin': 1, 'anf': 1, 'prpofol': 1, 'offf': 1, 'woke': 3, 'vasotec': 1, 'chnage': 3, 'sleeper': 1, 'harpist': 1, 'overloaad': 1, 'boardlin': 1, 'cefriaxon': 1, 'discern': 3, 'kaexyl': 1, 'trembl': 1, 'thoughout': 2, 'tachypen': 2, 'bnon': 1, 'docus': 8, 'duraton': 1, 'diffult': 1, 'megnesium': 1, 'instantli': 1, 'breathlesn': 1, 'ninv': 1, 'earili': 1, 'guaifenessin': 1, 'guaifenesina': 1, 'girl': 1, 'jelli': 3, 'milronon': 1, 'preload': 3, 'dizzi': 2, 'miscommun': 1, 'disempact': 2, 'shifdt': 1, 'handicap': 1, 'dmr': 1, 'pitress': 1, 'hang': 3, 'vcarevu': 1, 'ringer': 1, 'substanc': 3, 'particul': 1, 'mainitan': 1, 'mutual': 2, 'acidodi': 1, 'prsent': 2, 'vagal': 1, 'dn': 2, 'preme': 2, 'rifampin': 1, 'enoxaparin': 1, 'gl': 2, 'treament': 1, 'cex': 2, 'ceas': 3, 'director': 3, 'spfc': 1, 'immunoflouresc': 1, 'chrinic': 1, 'lighthead': 1, 'laden': 1, 'signifig': 2, 'seriel': 2, 'antiemet': 1, 'disconintu': 1, 'coccidioidomycosi': 1, 'becapus': 1, 'tkcb': 1, 'cranial': 2, 'infiltraet': 1, 'ongolog': 1, 'panic': 1, 'sbna': 1, \"sbt'\": 1, 'gj': 3, 'nauseat': 1, 'vl': 5, 'bacilli': 1, 'merepenem': 1, 'proh': 1, 'atelectai': 1, 'triglycerid': 3, 'ivig': 2, 'ritalyn': 1, 'prepared': 1, 'indict': 2, 'anisocoria': 2, 'shevel': 1, 'oversensit': 1, 'pneumomathi': 1, 'afraid': 1, 'onf': 1, 'prochlorperazin': 2, 'inde': 6, 'iga': 1, 'apneaic': 1, 'ventialt': 2, 'meropemen': 1, 'fast': 5, 'jejunostomi': 2, 'rot': 1, 'adaquet': 1, 'djrx': 1, 'longterm': 2, 'cytopath': 2, 'apnvol': 2, 'lanosprazol': 1, 'gleevec': 1, 'igg': 1, 'leukocyt': 1, 'cantons': 1, 'mucormycosi': 1, 'hypercapnea': 4, 'allo': 1, 'woresen': 1, 'former': 4, 'nauseou': 2, 'bmx': 1, 'imp': 4, 'tac': 1, 'ppeg': 1, 'conscious': 2, 'lvl': 1, 'laboratori': 2, 'igm': 1, 'unsign': 1, 'warrent': 2, 'al': 1, 'traught': 1, 'emesisx': 1, 'torestart': 1, 'polymorphonuclear': 1, 'gaa': 1, 'glevac': 1, 'accum': 1, 'fibros': 1, 'emotionalsupport': 1, 'tachyn': 1, 'gleevac': 1, 'wwa': 1, 'obsruct': 1, 'hydroxid': 1, 'easilli': 1, 'gotten': 1, 'unequivoc': 1, 'mdd': 1, 'six': 6, 'shaken': 1, 'jirvovecii': 1, 'cutan': 2, 'boardelin': 1, 'sct': 2, \"'central\": 1, 'hypopig': 1, 'zydi': 2, 'stt': 1, 'cero': 1, 'allogen': 1, 'streaki': 2, 'predic': 1, 'patiient': 1, 'histoplasmosi': 1, 'lmw': 1, 'serrou': 2, 'firtst': 1, 'lscta': 3, 'vori': 2, 'extr': 5, 'byop': 1, 'bmp': 1, 'tachyapn': 1, 'cxray': 7, 'ppd': 2, 'relationship': 5, 'book': 1, 'strictli': 1, 'uneventl': 1, 'posaconasol': 1, 'rhinoviru': 1, 'disappoint': 1, 'tacro': 1, 'cocurr': 1, 'atalectat': 1, 'bcell': 1, 'blastomycosi': 1, 'lorazepan': 1, 'attepmt': 1, 'rewrot': 1, 'aspergillosi': 1, 'maintainc': 1, 'aroung': 1, 'tfeed': 2, 'rational': 1, 'pneumopathi': 1, 'galactomannin': 1, 'alphabet': 1, 'anem': 1, 'deciss': 1, 'hemodilut': 2, 'tens': 3, 'vechan': 1, 'benzodiazepin': 2, 'encas': 1, 'tacrolimu': 2, 'succes': 1, 'apparatu': 1, 'indur': 2, 'cghd': 1, 'premedicati': 1, 'mistakenli': 2, 'methlprednisolon': 1, 'gvdh': 1, 'ventimask': 2, 'eleven': 1, 'jrld': 2, \"patient'\": 8, 'deacreas': 1, 'hyperpig': 1, 'advic': 2, 'jlb': 1, 'jirovecii': 1, 'microorgan': 2, 'midazolan': 1, 'poli': 5, 'oxtcodon': 1, 'resusc': 1, 'raglan': 3, 'lcpc': 4, 'ritalin': 1, 'mgsulf': 1, 'targer': 1, 'wakeup': 3, 'atovaquon': 1, 'capsofungin': 1, 'esstenti': 1, 'shockslowli': 1, 'pyrexia': 7, 'protien': 1, 'poorfor': 1, 'intergti': 1, 'ltac': 2, 'hyperthermia': 7, 'pahs': 1, 'noripnephrin': 1, 'neur': 1, 'urem': 2, 'chlorathiazid': 1, 'emoir': 1, 'flld': 1, 'myopathi': 6, 'comanow': 1, 'broach': 1, 'ampho': 1, 'antithyroglobulin': 1, 'caspofugin': 1, 'mutlipl': 1, 'proptosi': 1, 'lytli': 1, 'signifi': 1, 'imporv': 1, 'anisarc': 2, 'nureo': 1, 'blasser': 1, 'tomoorw': 1, 'supervisor': 1, 'absorp': 1, 'serious': 2, 'junctur': 1, 'intravasc': 1, 'febun': 1, 'aski': 1, 'anisarca': 1, 'recx': 1, 'thiamin': 1, 'distrust': 2, 'vascul': 2, 'nondiarh': 1, 'refelect': 1, 'disimpactiona': 1, 'ite': 1, 'experianc': 1, 'geiven': 1, 'woiuld': 1, 'statrt': 1, 'caspo': 1, 'additon': 3, 'filur': 1, 'lk': 1, 'noter': 1, 'neurogen': 2, 'intrvasc': 1, 'reqeust': 1, 'gate': 2, 'disappear': 2, 'lactoslo': 1, 'intrvascular': 1, 'trainsient': 1, 'enceph': 3, 'method': 1, 'acitv': 1, 'epilecticu': 1, 'sym': 2, 'flucon': 1, 'areflex': 2, 'mintu': 2, 'chux': 1, 'epilepsi': 1, 'mhg': 1, 'ldiures': 1, 'kpho': 4, 'antibacteri': 1, 'sural': 1, 'depaken': 1, 'deminer': 2, 'bac': 2, 'criticad': 2, 'neuromyopathi': 2, 'anticonvuls': 2, 'undertaken': 1, 'ddavp': 1, 'antiseizur': 2, 'ishchemia': 1, 'groass': 1, 'expens': 2, 'ultrafilt': 1, 'irrat': 1, \"eo'\": 1, 'pathogen': 6, 'epilepticu': 1, 'epilispi': 1, 'nonconvuls': 1, 'miralax': 2, \"cx'\": 1, 'acitivti': 1, 'beneprotien': 1, 'concner': 1, 'hypervolemia': 2, 'encephalopthi': 1, 'lactualos': 1, 'addiiton': 1, 'polio': 1, 'doll': 2, 'optho': 2, 'unlcear': 1, 'antiboiot': 1, 'confid': 3, '^rd': 3, 'lim': 1, 'boarderlin': 1, 'sud': 2, 'diarrheal': 1, 'intensivist': 2, 'specialist': 3, 'ondepaken': 1, 'scvo': 2, 'drench': 2, 'coff': 1, 'currenli': 1, 'interven': 2, 'cirpo': 1, 'artefact': 1, 'apprec': 1, 'fololow': 1, 'skill': 2, 'uln': 2, 'contributng': 1, 'cyp': 1, 'hotn': 5, 'epsod': 1, 'decompensatuion': 1, 'procss': 1, 'desmopressin': 2, 'keppra': 3, 'tubul': 1, 'assymetri': 1, 'ev': 2, 'delic': 1, 'hotlien': 1, 'extravascular': 1, 'reamin': 2, 'psedomona': 1, 'barbitol': 1, 'ngith': 1, 'hydro': 5, 'transmin': 1, 'danger': 2, 'ophtho': 2, 'hemodyalysi': 1, 'reinfect': 1, 'neurologist': 1, 'paln': 1, 'dedic': 5, 'aacidosi': 1, 'norepit': 1, 'snore': 1, 'anasrc': 1, 'seizuir': 1, 'coours': 1, 'disabl': 2, 'inf': 2, 'valproat': 1, 'colloid': 1, 'platu': 1, 'difficutl': 1, 'cjd': 1, 'psa': 3, 'encount': 1, 'nm': 2, 'inid': 1, 'miotic': 1, 'psuedomanl': 1, 'dil': 1, 'yesteday': 1, 'atleast': 1, 'meaningful': 1, 'decrea': 2, 'pred': 2, 'spoutum': 1, 'grd': 4, 'miniut': 1, 'virul': 1, 'intrabdomin': 1, 'hasimoto': 1, 'barb': 1, 'ddecreasd': 1, 'golytley': 1, 'heo': 1, 'vgb': 1, 'abs': 1, 'parapneumon': 3, 'trransfer': 1, 'satisfi': 1, 'accumil': 1, 'oropharanyx': 1, 'transamin': 8, 'meropenam': 3, 'multidrug': 2, 'thermal': 1, 'road': 2, 'antbx': 2, 'jmuch': 1, 'yesast': 1, 'antipseudomon': 1, 'offlin': 1, 'folic': 2, 'log': 2, 'abbrevi': 2, 'scane': 1, 'peal': 1, 'pentobard': 1, 'untreat': 4, 'norepinehrin': 1, 'hotlin': 1, 'alblumin': 1, 'voicemail': 1, 'hamper': 1, 'plateaud': 1, 'anitbx': 1, 'chuck': 1, 'balnc': 1, 'xpiv': 1, 'pento': 1, 'dietarti': 1, 'bladdder': 1, 'peroxidas': 1, 'ture': 1, 'fdp': 5, 'vlo': 1, 'intermirtt': 1, 'thryoid': 1, 'norepinepherin': 1, 'tpo': 1, 'coagulopatahi': 1, 'blame': 1, 'eosinophil': 3, 'hk': 1, 'revalu': 1, 'dysfunciton': 1, 'rtisk': 1, 'pentobarb': 1, 'schistocyt': 3, 'venipunctur': 2, 'empoir': 1, 'faili': 1, 'oncal': 1, 'slim': 3, 'epilept': 1, 'addresss': 1, 'pentobarbitol': 1, 'pupillari': 4, 'opion': 2, 'requiremetn': 1, 'atatu': 1, 'divorc': 1, 'complaict': 1, 'epidod': 1, 'mach': 1, 'atni': 1, 'kepra': 1, 'qill': 1, 'academ': 1, 'stagbl': 1, 'supportso': 1, 'abgiven': 1, 'pplateau': 1, 'vascualit': 1, 'join': 2, 'norequr': 1, 'posisbl': 1, 'assement': 1, 'datbl': 1, 'convuls': 1, 'coma': 1, 'antii': 1, 'benefici': 2, 'yestereday': 1, 'blown': 1, 'psuedom': 1, 'depsit': 1, 'uc': 3, 'faith': 2, 'interactionsd': 1, 'abnl': 6, 'futher': 2, 'microbi': 1, 'liaison': 1, 'miracl': 1, 'hypoactivet': 1, 'antiepilept': 1, 'nutrtion': 1, 'restar': 2, 'synd': 1, 'dysfx': 1, 'depakot': 2, 'interf': 2, 'bitempor': 1, 'anit': 1, 'phenotin': 1, 'illiu': 1, 'golyt': 1, 'transmit': 5, 'ferrou': 1, 'antobx': 1, 'bumex': 1, 'jonh': 1, 'cruis': 1, 'montior': 3, 'leuk': 2, 'ddrainag': 1, 'apprecait': 1, 'std': 1, 'riski': 1, 'seiz': 1, 'infectionb': 1, 'intravasularli': 1, 'pentobarbit': 1, 'infectoiu': 1, 'nutrion': 1, 'reauest': 1, 'epillepsi': 1, 'eduat': 1, 'coveragw': 1, 'anacarca': 1, 'pendinh': 1, 'potneiti': 1, 'weill': 1, 'masess': 1, 'supratheraput': 1, 'antix': 1, 'golyetli': 1, 'vpa': 1, 'unewu': 1, 'dissimpact': 1, 'chlorarhiazid': 1, 'amx': 1, 'mngt': 2, 'frequenti': 1, 'midwest': 1, 'alpha': 2, 'hypoalbuminemia': 1, 'ug': 2, 'valproeic': 1, 'epilecticiu': 1, 'sensitivi': 1, 'furtehr': 2, 'leukocystosi': 1, 'consdier': 1, 'bibas': 5, 'thromobocytopenia': 1, 'hypert': 1, 'inoput': 1, 'ctiric': 1, 'golytli': 1, 'overhead': 1, 'vasculit': 1, 'hypoalbuminem': 2, 'utmost': 1, 'cvlplace': 1, 'apporx': 1, 'cefe': 1, 'hashimoto': 1, 'pseudom': 1, 'tea': 1, 'tuypcial': 1, 'osmol': 1, 'thyroglobulin': 1, 'chlorhexadin': 2, 'exempt': 1, 'vasoact': 1, 'vitmain': 1, 'compart': 3, 'wittnessin': 1, 'pseudohypha': 2, 'effusionsgiven': 1, 'follo': 1, 'ncse': 1, 'convuks': 1, 'pentobabr': 1, 'reatrt': 1, 'usd': 1, 'blockag': 1, 'reachabl': 1, 'nutrtit': 1, 'sgar': 1, 'jr': 3, 'occasionali': 1, 'faintli': 2, 'broncho': 2, 'tyellow': 2, 'cintinu': 1, 'propanolol': 1, 'discofortx': 1, 'benoprotein': 1, 'titret': 1, 'lsix': 2, 'repet': 2, 'slise': 1, '^to': 2, 'sabp': 1, 'recrtal': 1, 'bronchhiectasi': 1, 'soup': 1, 'seadtion': 1, 'tod': 1, 'methylprednison': 2, 'fenta': 2, 'fwb': 1, 'nebh': 1, 'propronol': 1, 'vigilio': 1, 'assymetr': 4, 'mlow': 1, 'subsquent': 1, 'shrug': 1, 'tkr': 1, 'finali': 1, 'dvers': 1, 'robust': 1, 'appropriatley': 2, 'comfortanbl': 1, 'supor': 1, 'wuth': 1, 'genral': 2, 'desynchronis': 1, 'fingerst': 1, 'generaslis': 1, 'unequel': 1, 'compensatori': 3, 'receiev': 2, 'acetylcystein': 2, 'placewd': 1, 'pntx': 2, 'hemastat': 1, 'occasioanlli': 1, 'warma': 1, 'whhen': 1, 'nonexpand': 1, 'occsaion': 1, 'requierd': 1, 'cardiomediastinum': 1, 'vesicular': 2, 'femer': 1, 'emoit': 1, 'trate': 1, 'dimnish': 1, 'recvd': 3, 'remnant': 1, 'diamox': 1, 'torn': 1, 'repositioniong': 1, 'dimihs': 1, 'fluentli': 1, 'nosocomi': 3, 'cleaniwth': 1, 'spoon': 2, 'gprod': 1, 'cogn': 1, 'chanhg': 1, 'isk': 1, 'diffg': 1, 'arrhytmia': 1, 'malnourish': 1, 'leuckocytosi': 1, 'withc': 1, 'eff': 2, 'finsh': 1, 'anorexia': 2, 'ecymot': 1, 'overshoot': 1, 'habit': 1, 'differentail': 1, 'secondli': 1, 'andi': 1, 'hyperchloremia': 2, 'cleanser': 4, 'effusiion': 1, 'slighli': 1, 'yesterdauy': 1, 'rebolus': 2, 'osteroarthr': 1, 'spch': 1, 'urinb': 1, 'esphog': 2, 'elixir': 1, 'smoke': 5, 'mismatch': 3, 'nowel': 1, 'shoulf': 1, 'hyperdyanam': 1, 'ftt': 1, 'axillay': 1, 'noncontributori': 2, 'subglott': 3, 'efect': 1, 'discu': 2, 'transpor': 1, 'hypophosphetemia': 1, 'efficaci': 2, 'caridiogen': 1, 'defens': 2, 'anoint': 1, 'depelet': 1, 'repe': 1, 'minand': 1, 'atlern': 1, 'ugib': 4, 'butnow': 1, 'swithc': 1, 'unanim': 3, 'clholrhexidin': 1, \"tx'ing\": 1, 'giver': 1, 'butn': 1, 'histor': 1, 'wrestl': 1, 'uncl': 2, 'agatroban': 1, 'regret': 1, 'cvc': 1, 'peridex': 4, 'tachycardica': 1, 'migth': 1, 'bipa': 1, 'remors': 1, 'valid': 3, 'biv': 1, 'discusiion': 1, 'sevelem': 1, 'manor': 1, 'thrombocytopeni': 2, 'secretio': 1, 'turgor': 3, 'chlorex': 1, 'overshadow': 1, 'teach': 2, 'unnecessari': 1, 'cosyn': 1, 'aggatroban': 2, 'amput': 1, 'lef': 1, 'mprove': 1, 'placem': 2, 'omperazol': 1, 'varec': 1, 'spuriou': 1, 'levothryoxin': 1, 'lsb': 2, 'hypomag': 1, 'pollen': 1, 'benifici': 1, 'pst': 1, 'stori': 1, 'guilt': 2, 'enteroccu': 2, 'csv': 2, 'channel': 4, 'outlook': 3, 'om': 2, 'nonessenti': 1, 'osteodystrophi': 1, 'dysfxn': 2, 'pall': 1, 'vasculartur': 1, 'capabl': 1, 'withsat': 1, 'cmrn': 1, 'inhibit': 3, 'aka': 1, 'agratroban': 1, 'cvvvh': 1, 'learn': 5, 'tighter': 1, 'overtir': 1, \"c'\": 1, 'curvej': 1, 'lusb': 4, 'assembl': 3, 'forese': 1, 'straigt': 1, 'impli': 3, 'moda': 1, 'divalproex': 1, 'pft': 3, 'repli': 1, 'lgib': 1, 'vibrat': 1, 'rehabilit': 3, 'hyperammonia': 1, 'subling': 1, 'hcl': 8, 'df': 1, 'forc': 1, 'risperodol': 1, 'unforun': 1, 'andfailur': 1, 'bd': 2, 'dtop': 1, 'metavisison': 1, 'closur': 5, 'videofluoroscop': 1, 'asd': 10, 'respiridol': 1, 'explicit': 1, 'ctg': 1, 'ammonia': 2, 'risperidon': 1, 'heavier': 2, 'vallecula': 1, 'risperadol': 1, 'iah': 1, 'diltaziem': 1, 'overwhelmingli': 1, 'flaki': 1, 'downstair': 1, 'risperd': 2, 'mood': 1, 'rpe': 2, 'macu': 2, 'aztreo': 1, 'psychotrop': 1, 'nivpp': 1, 'bipolar': 1, 'hyperkeratot': 1, 'subglotti': 1, 'basex': 1, 'ambulatori': 2, 'anomia': 1, 'tbb': 4, 'noteabl': 1, 'lye': 2, 'videofluoroscopi': 1, 'pyriform': 1, 'steam': 1, 'inj': 1, 'velar': 1, 'bvm': 1, 'readili': 5, 'incanthosi': 1, 'dysarthr': 1, 'dobbhoff': 4, 'valpor': 1, 'eob': 1, 'subc': 1, 'wfl': 2, 'bll': 1, 'hyperkeratosi': 1, 'resperidol': 1, 'phtn': 5, 'ili': 1, 'aztronam': 1, 'venturi': 1, 'disintegr': 2, 'knew': 1, 'ivfbolus': 1, 'aerob': 4, 'shd': 1, 'drak': 1, 'propuls': 1, 'prosodi': 1, 'retriev': 2, 'blac': 1, 'viseo': 1, 'meta': 6, 'multipodi': 1, 'deliber': 1, 'hemiplegia': 1, 'vestibul': 1, 'lob': 1, 'perreport': 1, 'mortuari': 1, \"'ing\": 1, 'masrk': 1, 'famuli': 1, 'miuc': 1, 'movemnet': 1, 'rosari': 1, 'monitorign': 1, 'notess': 1, 'cape': 1, 'wot': 1, 'mt': 2, 'admis': 1, 'tcpc': 1, 'transfererd': 1, 'duoserm': 1, 'oveloar': 1, 'ensym': 1, 'detetior': 1, 'diffucalti': 1, 'allovesta': 1, 'hemiblock': 1, 'influenz': 1, 'significi': 1, 'propion': 1, 'flonas': 1, 'lymphangit': 5, 'cryptococc': 3, 'hypersensit': 3, 'nephrosotomi': 1, 'asdir': 3, 'mvt': 1, 'nephrostomi': 2, 'accommod': 1, 'portocath': 1, 'nauseau': 2, 'espophag': 1, 'grey': 2, 'interpr': 1, 'pathol': 1, 'dialudid': 1, 'arrriv': 1, 'rac': 1, 'meassur': 1, 'adenoid': 1, 'serv': 1, 'imform': 1, 'reopen': 1, 'debri': 2, 'dyspen': 2, 'dxae': 3, 'radiotherapi': 2, 'resistantci': 1, 'uncompens': 1, 'stoolx': 1, 'repons': 4, 'hygein': 1, 'beacam': 1, 'hiatu': 1, 'suciton': 1, 'puffi': 1, 'hyporeflex': 1, 'extem': 2, 'suctuion': 1, 'theapi': 1, 'carbodopa': 1, 'portext': 1, 'drssg': 1, 'cog': 1, 'soial': 1, 'samll': 1, 'wasnt': 1, 'tonit': 2, 'movemt': 1, 'hempdynam': 1, 'ambuu': 1, 'amb': 2, 'reack': 1, 'desaturar': 1, 'tachpneic': 2, 'apnoea': 1, 'tachyponea': 1, 'neutran': 1, 'rhino': 1, 'preadmiss': 1, 'hyptertens': 1, 'sedateion': 1, 'vertebroplasti': 2, 'xcept': 1, 'phlebotomi': 2, 'apnic': 2, 'dssd': 1, 'wheel': 2, \"'re\": 1, 'tachypoen': 1, 'gastropathi': 1, 'imapir': 1, 'vere': 1, 'duriesi': 1, 'protector': 1, \"today'\": 3, 'manipualt': 1, 'diminich': 1, 'hepatofug': 1, 'asper': 1, 'msse': 1, 'assymmetr': 1, 'wdwing': 1, 'carevur': 1, 'sideport': 2, 'uplt': 1, 'wan': 1, 'mutlip': 1, 'admx': 1, 'autorot': 1, 'presur': 1, 'dysynchrononi': 1, 'quinci': 1, 'griamc': 1, 'fede': 1, 'murtem': 1, 'apepar': 1, 'tranfus': 2, 'gaze': 2, 'cephalosporin': 2, 'wdw': 1, 'aggressivli': 1, 'dint': 1, 'ampyema': 1, 'clotti': 1, 'incras': 1, 'breadown': 1, 'disconjug': 2, 'effor': 1, 'xeroform': 2, 'respos': 1, 'sof': 1, 'socail': 2, 'dippig': 1, 'obv': 2, 'anmt': 1, 'midday': 1, 'desync': 1, 'mush': 1, 'slug': 1, 'molar': 1, 'givenx': 1, 'reconven': 2, 'pancytopenia': 5, 'crepit': 1, 'withdrw': 1, 'drcreas': 1, 'unti': 1, 'diminsih': 1, 'resed': 1, 'presssur': 1, 'placedback': 1, 'regulari': 1, 'stepfath': 1, 'bowekl': 1, 'drk': 1, 'fw': 1, 'dy': 1, 'abund': 2, 'remaisn': 2, 'genelar': 1, 'npln': 1, 'meatou': 1, 'bradypn': 1, 'asychron': 1, 'tweezer': 1, 'autodiuris': 1, 'devepol': 1, 'unalt': 3, 'flaten': 1, 'aferil': 1, 'finsih': 1, 'dysnchron': 2, 'panu': 1, 'naloxen': 1, 'fpound': 1, 'diurs': 1, 'luq': 3, 'certainti': 2, 'nostril': 2, 'speed': 1, 'eaisli': 1, 'upcom': 1, 'anarsarca': 1, 'synchnou': 1, 'atriocav': 2, 'failer': 1, 'abreas': 1, 'conor': 1, 'entertain': 1, 'unawar': 2, 'spotan': 1, 'hypercalcemia': 3, '^ing': 1, 'crakl': 2, 'alogrhythm': 1, 'aound': 1, 'ommand': 1, 'bariair': 1, 'zeroform': 1, 'appro': 1, 'earl': 1, 'mini': 3, 'flac': 1, 'iliu': 1, 'nightim': 1, 'dminish': 1, 'afebriel': 1, 'midodin': 1, 'eythromycin': 1, 'uncomfoprt': 1, 'pneumatocel': 1, 'appx': 1, 'copuiou': 1, 'stbale': 1, 'corner': 1, 'amonst': 1, 'deuoderm': 1, 'locta': 1, 'specfic': 1, 'liguid': 1, 'pltlet': 1, 'convey': 2, 'ampl': 2, 'crepiti': 2, 'ruquir': 1, 'resur': 1, \"req'ng\": 1, 'brsk': 1, 'protoc': 1, 'inevit': 2, 'vewntilatori': 1, 'electolyt': 1, 'perfrom': 1, 'mopder': 1, 'presntli': 1, 'broke': 3, 'anchor': 1, 'counteract': 2, 'ratat': 1, 'overnigt': 2, 'faculti': 1, 'intertrochanter': 2, 'osteophyt': 5, 'prozim': 1, 'gbc': 1, 'macular': 2, 'negatiev': 1, 'femora': 2, 'judgment': 1, 'curl': 2, 'substitut': 2, 'proteinac': 1, 'fetal': 1, 'hypercholesterolemia': 4, 'osteopen': 1, 'iwa': 1, 'retropuls': 1, 'peptic': 1, 'dbc': 1, 'improvemnt': 1, 'againt': 1, 'requi': 1, 'shorterm': 1, 'hippv': 1, 'brth': 1, 'brachytherapi': 2, 'vdg': 1, 'rexpans': 1, 'allyven': 1, 'roughtli': 1, 'overdiuresi': 1, 'cheat': 1, 'cobnvers': 1, 'contacth': 1, 'elcetrolyt': 1, 'heartbeat': 1, 'bar': 1, 'vasculopath': 1, 'famiyl': 1, 'subj': 1, 'proclaim': 1, 'interview': 1, 'necklac': 1, 'thoracenteci': 1, 'initia': 1, 'earrl': 1, 'granul': 2, 'weari': 1, 'lcsw': 3, 'contac': 1, 'judici': 1, 'dostress': 1, 'dmii': 1, 'bracelet': 1, 'oin': 1, 'springwel': 1, 'hat': 1, 'metforman': 1, 'solu': 3, 'robutssin': 1, 'robitussin': 1, 'ea': 1, 'dah': 2, 'chiar': 1, 'ecreas': 1, 'patientno': 1, 'nac': 2, 'tessalon': 2, 'tessilon': 1, 'terribl': 1, 'bedtim': 3, 'hum': 1, 'suspic': 1, 'othr': 1, 'msk': 1, 'sevic': 1, 'tenueou': 1, 'sputa': 1, 'acetylcysitin': 1, 'fulmin': 1, 'doc': 1, 'recommemd': 1, 'medrol': 3, 'breathless': 3, 'muscular': 2, 'hfm': 2, 'ream': 1, 'span': 1, 'metformin': 2, 'benzon': 1, 'sane': 1, 'improvedto': 1, 'guiafenesin': 1, 'osa': 2, 'afebil': 1, 'mandarin': 1, 'facilitor': 1, 'decadron': 2, 'gastrografin': 2, 'bilatar': 1, 'ome': 4, 'nasopharyn': 1, 'kyg': 2, 'pegtub': 1, 'aswel': 1, 'fecul': 1, 'detai': 1, 'prophi': 1, 'mandibl': 1, 'sarcoid': 1, 'peepm': 1, 'sarcoidosi': 1, 'erectil': 1, \"cx'd\": 1, 'tomororw': 1, 'pneumoni': 1, 'neuropath': 2, 'friction': 3, 'ove': 1, 'progresssivli': 1, 'ino': 2, 'atypo': 1, 'mirtazapin': 1, 'palliativ': 1, 'curremt': 1, 'psuedo': 1, 'heav': 1, 'azathioprin': 1, 'zoster': 2, 'mdr': 1, 'downtitr': 1, 'achymosi': 1, 'xfere': 1, 'remaijhn': 1, 'azothioprin': 1, 'purpura': 2, 'sarcodiosi': 1, 'opxygen': 1, 'shingl': 1, 'www': 1, 'costodiaphragmat': 1, 'insepar': 2, 'encircl': 1, 'lidoderm': 1, 'nsclca': 2, 'deposit': 4, 'pemetrex': 2, 'hypopho': 1, 'stemi': 2, 'hypophosphatemia': 1, 'invad': 2, 'acebutolol': 1, 'lacta': 1, 'possiblil': 1, 'stoneman': 1, 'ami': 2, 'toc': 1, 'pamidron': 1, 'radiopac': 2, 'antion': 1, 'hrc': 1, 'reusm': 1, 'pyeloneph': 1, 'scopi': 1, 'pleaural': 1, 'carecod': 1, 'givern': 1, 'suprahilar': 3, 'disucss': 2, 'chosen': 1, 'hydroneph': 1, 'jkang': 1, 'moieti': 1, 'scopalomin': 1, 'pylenonephr': 1, 'periren': 1, 'interpretor': 1, 'respo': 1, 'cycstoscopi': 1, 'perinephr': 3, 'pyelo': 1, 'goc': 4, 'pyelonephrosi': 1, 'uvj': 1, 'ragrdu': 1, 'loin': 1, 'lithotrypsi': 1, 'pyelonephr': 2, 'en': 2, 'sufggest': 1, 'uanbl': 1, 'erinephr': 1, 'cycsto': 1, 'thougn': 1, 'fureth': 1, 'ptc': 1, \"adl'\": 1, 'ubj': 1, 'septi': 1, 'obstruuct': 1, 'hydrouret': 1, 'suprath': 1, 'maee': 1, 'podu': 1, 'clincial': 2, 'sonn': 1, 'aleven': 1, 'margina': 1, 'progess': 1, 'improvementin': 1, 'cefapim': 1, 'horizont': 1, 'emphysemat': 3, 'thia': 1, 'airmattress': 1, 'possibilit': 1, 'biaxin': 1, 'norepinephin': 1, 'chr': 1, 'electrod': 2, 'fluffi': 1, 'oxza': 1, 'disc': 4, 'airless': 2, 'endplat': 1, 'degener': 2, 'effuss': 1, 'colaps': 1, 'corect': 1, 'esophagogastr': 5, 'kinas': 1, 'hinder': 1, 'periaqueduct': 1, 'rct': 1, 'mulitifoc': 1, 'indicta': 1, 'overlap': 2, 'endocytosi': 1, 'introduct': 1, 'antinocicept': 1, 'genotyp': 1, 'terman': 1, 'glycol': 1, 'occer': 1, 'maintian': 1, 'permiss': 3, 'plataeu': 1, 'whistler': 1, 'peptid': 1, 'neurosci': 1, 'potenc': 1, 'explicitli': 2, 'elsevi': 1, 'experiment': 1, 'magnitud': 1, 'levorphanol': 1, 'pretreat': 1, 'reducedcontinu': 1, 'biomark': 1, 'importantli': 2, 'viaogt': 1, 'world': 1, 'principl': 1, 'medulla': 1, 'chavkin': 1, 'underscor': 1, 'stoutz': 1, 'choos': 1, 'amelior': 2, 'sedaton': 1, 'modulatori': 1, 'phenomenon': 1, 'cholecystokinin': 1, 'prefac': 1, 'dupen': 1, 'amplifi': 1, 'proport': 5, 'ferguson': 1, 'phenomena': 1, 'mao': 1, 'difuss': 1, 'nur': 1, 'gardel': 1, 'nonanalges': 1, 'dynorphin': 1, 'perist': 2, 'dextromethorphan': 2, 'transmiss': 3, 'vigano': 1, 'radion': 1, 'regulatori': 1, 'excent': 1, 'agonist': 3, 'rins': 1, 'bind': 1, 'molecular': 1, 'receptor': 1, 'opioid': 2, 'human': 1, 'antagonist': 1, 'recomend': 2, 'rat': 1, 'estfan': 1, 'angst': 1, 'nmda': 1, 'mediat': 1, 'pharmacodynam': 1, 'advantag': 1, 'sjogren': 1, 'arrestin': 1, 'tumour': 2, 'proglumid': 1, 'tefari': 1, 'abstract': 1, 'acknowleg': 1, 'concurr': 9, 'maleat': 1, 'inturrisi': 1, 'neurotransmitt': 1, 'colorect': 1, 'duttaroy': 1, 'accomplish': 1, 'wak': 1, 'model': 2, 'rvm': 1, 'asparagin': 1, 'methyl': 1, 'sander': 1, 'bubbl': 6, 'pharmaceut': 1, 'coin': 1, 'statist': 1, 'aspart': 1, 'mk': 1, 'affer': 1, 'circumv': 1, 'medzihradski': 1, 'progresson': 1, 'pronocicept': 1, 'glutam': 1, 'popul': 1, 'albeit': 3, 'decreasedin': 1, 'spontaneu': 1, 'counterpart': 1, 'proactiv': 1, 'cornerston': 1, 'decad': 1, 'torsad': 1, 'uniform': 1, 'methodon': 1, 'monophosph': 1, 'nondrug': 1, 'schemat': 1, 'desensit': 1, 'allodynia': 1, 'simplest': 1, 'recaptur': 1, 'pharmd': 1, 'excitatori': 1, 'encod': 1, 'glucagon': 1, 'commonli': 1, 'mrg': 1, 'amino': 1, 'decoupl': 1, 'yaksh': 1, 'fwma': 1, 'theoret': 1, 'doverti': 1, 'scientif': 1, 'camp': 1, 'purport': 1, 'pharmacokinet': 1, 'endogen': 1, 'cck': 1, 'neural': 1, 'gpcr': 1, 'scienc': 1, 'cur': 1, 'postul': 1, 'lauretti': 1, 'raehal': 1, 'overtr': 1, 'yoburn': 1, 'vanderah': 1, 'subtyp': 1, 'intrigu': 1, 'phd': 1, 'resensit': 1, 'dourish': 1, 'practic': 1, 'sponr': 1, 'nonpain': 1, 'nocicept': 1, 'elucid': 1, 'centuri': 1, 'pathway': 1, 'pathophysiolog': 1, 'cyclic': 1, 'cyclas': 1, 'mainstay': 1, 'adenylyl': 1, 'yabaluri': 1, 'hyperesthesia': 1, 'radonc': 1, 'affin': 1, 'preclin': 1, 'saeki': 1, 'urinalysi': 3, 'genet': 1, 'gif': 2, 'xd': 1, 'monomorph': 1, 'repsiratori': 1, 'unrel': 4, 'bockstael': 1, 'conflict': 1, 'theori': 1, 'promis': 1, 'amioduron': 1, 'religion': 1, 'govern': 1, 'wherebi': 1, 'interindividu': 1, 'hydrocostison': 1, 'ivarsson': 1, 'hyperalgesia': 2, 'mu': 1, 'psycholog': 1, 'foll': 3, 'sum': 1, 'ersek': 1, 'wider': 2, 'compton': 1, 'polyethylen': 1, 'facilitatori': 1, 'gene': 1, 'kappa': 1, 'portenoy': 1, 'intracellular': 2, 'deepen': 1, 'transcript': 2, 'measuresbut': 1, 'hyperalges': 1, 'brainstem': 1, 'concomit': 3, 'excit': 2, 'premis': 1, 'anitibiot': 1, 'urg': 1, 'hypothes': 1, 'celeri': 1, 'adjuv': 1, 'lotsch': 1, 'naltrexon': 1, 'price': 1, 'arnp': 1, 'mcclean': 1, 'emptiv': 1, 'deceid': 1, 'perturb': 1, 'burden': 5, 'ventromedi': 1, 'releas': 4, 'rostral': 1, 'pal': 1, 'entiti': 2, 'chindalor': 1, 'terner': 1, 'medscap': 1, 'conceptu': 1, 'reprint': 1, 'unoccupi': 1, 'analges': 1, 'tributari': 1, 'ygd': 3, 'improp': 1, 'wf': 1, 'mtx': 1, 'enbrel': 1, 'ig': 2, 'cul': 2, 'crypto': 2, 'leukapheresi': 1, 'atraumat': 2, 'xfusion': 2, 'pneumococcu': 1, 'malais': 3, 'icteru': 4, 'uot': 1, 'sterp': 1, 'blast': 1, 'sacrement': 2, 'melena': 5, 'eomi': 6, 'synthesi': 1, 'witjh': 1, 'anerob': 2, 'crise': 1, 'aar': 1, 'lysi': 2, 'leukostasi': 1, 'neuromusc': 2, 'dion': 1, 'endotoxin': 1, 'nearbi': 1, 'lymphocyt': 1, 'inand': 1, 'sinsc': 1, 'vasodilit': 1, 'granulocyt': 1, 'coolin': 1, 'tio': 1, 'pallor': 2, 'oxgen': 2, 'glianda': 1, 'pneumosepsi': 1, 'encapsul': 1, 'crystalloid': 1, 'cisatra': 1, 'athi': 1, 'matur': 1, 'reas': 1, 'rituximab': 1, 'vasodil': 1, 'patella': 1, 'elvat': 1, 'protuber': 1, 'desper': 1, 'drn': 1, 'pralysi': 1, 'interfissur': 1, 'bullou': 2, 'substrat': 1, 'redemonstr': 9, 'hird': 1, 'nsc': 1, 'birthday': 1, 'choc': 1, 'chsnge': 1, 'purus': 1, 'loopi': 1, 'phlebotomist': 1, 'dyspnic': 1, 'patint': 1, 'bronchi': 5, 'cefaclor': 1, 'signfici': 1, 'imped': 1, 'reconnect': 2, 'xoponex': 1, 'perinieum': 1, 'zoloft': 1, 'effexor': 1, 'onco': 1, 'labour': 1, 'paitent': 1, 'makes': 1, 'regen': 1, 'moxifloxicin': 1, 'facili': 1, 'reliv': 1, 'xopenex': 1, 'evloc': 1, 'pheboltomist': 1, 'echocardiogram': 2, 'ffm': 1, 'iiia': 1, 'highflow': 1, 'ffv': 1, 'cuurent': 1, 'boost': 3, 'expl': 1, 'photodynam': 1, 'brerath': 1, 'levalbuterol': 1, 'perfect': 1, 'avial': 1, 'opacit': 2, 'retrotrach': 1, 'pancolon': 1, 'minu': 2, 'intracav': 1, 'jmgw': 5, 'trv': 1, 'panproctocolon': 1, 'ventriclr': 1, 'pericolon': 1, 'infraren': 2, 'thumbprint': 1, 'merit': 2, 'hypocontractil': 2, 'fece': 1, 'shsf': 3, 'frpm': 1, 'schf': 1, 'septick': 1, 'cephalad': 1, 'pwder': 1, 'sqi': 2, 'fbr': 2, 'hyperoxygen': 1, 'lamict': 1, 'imipramin': 1, 'stabal': 1, 'opiod': 1, 'vicodin': 1, 'blat': 1, 'esbl': 4, 'svv': 4, 'herp': 1, 'evident': 1, 'resuscti': 1, 'alkalemia': 2, 'gn': 2, 'opiat': 1, 'yestserday': 1, 'vzv': 1, 'bleak': 1, 'dubhoff': 1, 'pbw': 1, 'bizarr': 1, 'para': 1, 'paracentesi': 3, 'lamotrigin': 1, 'hydrochlorid': 2, 'fibromyalga': 1, 'impov': 1, 'simplex': 1, 'flexeril': 1, 'metoclopramid': 1, 'anasarcoid': 1, 'shrunken': 2, 'disten': 1, 'scrape': 2, 'dysynchoroni': 1, 'maintin': 1, 'ninth': 2, 'seventh': 2, 'dyssynchron': 3, 'irrecover': 1, 'thalessemia': 1, 'expuls': 1, 'unparalyz': 1, 'eighth': 1, 'haloperidol': 2, 'parac': 1, 'uap': 1, 'blowout': 2, 'vilego': 1, 'taught': 1, 'morbid': 1, 'tricycl': 1, 'cisaturcurium': 1, 'dysynchor': 1, 'obstip': 5, 'nmb': 1, 'aiway': 1, 'exal': 1, 'tough': 2, 'lactulous': 1, 'lefort': 2, 'hidden': 2, 'meropenujm': 1, 'ecch': 1, 'vitk': 1, 'ne': 2, 'contr': 1, 'lvsv': 1, 'cdif': 1, 'unmet': 1, 'transvalvular': 2, 'cardic': 1, 'taccypnea': 1, 'dyne': 1, 'galactomanna': 1, 'respiratoti': 1, 'donw': 1, 'meei': 1, 'scaral': 1, 'suctionion': 1, 'argu': 2, 'valvuloplati': 1, 'ttte': 1, 'adventiti': 1, 'mepilex': 4, 'tempor': 5, 'wll': 1, 'fortun': 1, 'ducubitu': 1, 'valvulopplasti': 1, 'overdistend': 2, 'ueni': 1, 'imit': 1, 'laa': 2, 'viigileo': 1, 'jet': 4, 'gastrograffin': 1, 'ancef': 1, \"pt'\": 1, 'sklightli': 1, 'petechai': 1, 'collagenas': 1, 'awaitin': 1, 'yesterrday': 1, 'subq': 1, 'offset': 1, 'charg': 1, 'affili': 1, 'sort': 2, 'anca': 2, 'alck': 1, 'regress': 3, 'psurg': 1, 'vo': 1, 'valvuloplasti': 1, 'aovti': 1, 'aggatraban': 1, 'sqaur': 1, 'serotonin': 1, 'wiill': 1, 'becuaus': 1, 'neosinephrin': 1, 'reguir': 1, 'empath': 1, 'moitor': 1, 'exbut': 2, 'domin': 1, 'frlow': 1, 'te': 1, 'angios': 2, 'lepirudin': 1, 'streamlin': 1, 'tilt': 1, 'inotrop': 1, 'svi': 1, 'aand': 1, 'ymosi': 1, 'siadh': 2, 'eccentr': 4, 'heprin': 3, 'woudl': 1, 'hemohynam': 1, 'overnightl': 1, 'guarante': 1, 'failri': 1, 'wocrn': 1, 'bicuspid': 1, 'viatmain': 1, 'pare': 1, 'preform': 3, 'qdaili': 1, 'honest': 1, 'dcub': 1, 'isosourc': 1, 'vancoymcin': 1, 'acalcul': 1, 'inasmuch': 1, 'occult': 3, 'aov': 1, 'fwf': 1, 'dcing': 1, 'unstag': 2, 'hcfa': 2, 'valvuplasti': 1, 'enzymat': 1, 'vacno': 1, 'reater': 1, 'quiliti': 1, 'todat': 1, 'collagenes': 1, 'bidirect': 1, 'ws': 1, 'vigileo': 3, 'valoplasti': 1, 'wehich': 1, 'rouhnd': 1, 'vti': 1, 'eschar': 1, 'dubiou': 1, 'raa': 2, 'complexion': 1, 'seenbi': 1, 'vasc': 1, 'valvoplasti': 1, 'hardli': 1, 'orderedl': 1, 'antibid': 1, 'cosign': 1, 'antbiot': 1, 'thermodilut': 1, 'radiu': 1, 'achil': 1, 'wbhc': 1, 'remodel': 2, 'infectio': 1, 'valvuloplasi': 1, 'overnig': 1, 'jksd': 2, 'receheck': 1, '^d': 1, 'certifi': 3, 'euvolemia': 2, 'backward': 1, 'coagulapathi': 1, 'stood': 1, 'taccycardia': 1, 'allpurinol': 1, 'overse': 1, 'esr': 1, 'murmr': 1, 'jointli': 1, 'proced': 1, 'crp': 1, 'ai': 2, 'pallid': 1, 'wallthicken': 1, 'fals': 1, 'broadend': 1, 'ltach': 1, 'locu': 1, 'pnuemoboot': 1, 'setgment': 1, 'cholescyst': 1, 'valvulopasti': 1, 'necrotizin': 1, 'valvoplsti': 1, 'midu': 1, 'gradiernt': 1, \"onc'\": 1, 'multifactorisl': 1, 'mepiplex': 1, 'chole': 1, 'copious': 1, 'ischmia': 1, 'bronhial': 1, 'neli': 1, 'org': 1, 'therapeud': 1, 'hyperkalemi': 1, 'sinsu': 1, 'exr': 1, 'spun': 1, 'electroly': 1, 'effici': 1, 'requri': 1, 'eosinphil': 1, 'vassopress': 1, 'kayexalt': 1, 'stongi': 1, 'deactiv': 1, 'strongiloid': 1, 'contnu': 1, 'ducolax': 1, 'platea': 1, 'tital': 1, 'consensu': 1, 'fyi': 1, 'instanc': 2, 'goultur': 1, 'pii': 1, 'ovebreath': 1, 'sosyn': 1, 'aspergillu': 1, 'malignaci': 1, 'crossmatch': 2, 'bellow': 1, 'pippracillin': 1, 'linger': 1, 'hypxic': 1, 'strongyloid': 1, 'pss': 2, 'overrid': 1, 'advac': 1, 'eosinophilia': 2, 'hypxoc': 1, 'culter': 1, 'inflamatori': 2, 'dysmorph': 1, 'subtherapuet': 1, 'systoic': 1, 'hevili': 1, 'tuleremia': 1, 'galatomonan': 1, 'agglutin': 1, 'autoimmun': 1, 'pulmoari': 1, 'tum': 2, 'hormon': 1, 'vw': 1, 'hypoactic': 2, 'remiss': 2, 'dietet': 3, 'kangaroo': 1, 'gental': 1, 'diureisi': 1, 'orpharyng': 1, 'immun': 1, 'diagonisi': 1, 'adeno': 1, 'inetrv': 1, 'easleir': 1, 'steriod': 3, 'asperg': 1, 'overdistent': 2, 'histoplasma': 1, 'hypocalcemia': 1, 'decompen': 1, 'methypr': 1, 'dysncron': 1, 'pipracillin': 1, 'ige': 1, 'ple': 1, 'vr': 1, 'grad': 1, 'pmhcad': 1, 'symetr': 1, 'nont': 1, 'biter': 1, 'exterm': 2, 'overdistens': 1, 'histo': 1, 'sss': 1, 'tamsulosin': 1, 'poa': 2, 'granular': 2, 'dysrhythmia': 1, 'jrci': 3, 'entranc': 1, 'thoras': 1, 'aip': 1, 'hapto': 1, 'skip': 1, 'deminsh': 1, 'crept': 1, 'neutrophil': 2, 'tn': 1, 'whrn': 1, 'spin': 1, 'nine': 2, 'tularemia': 1, 'prostatectomi': 1, 'anecho': 1, 'nephrolithiasi': 3, 'impercept': 1, 'alongsid': 1, 'instrins': 1, 'danazol': 1, 'wiil': 1, 'espiratori': 1, 'aberrantli': 1, 'turp': 1, 'glacuoma': 1, 'cystoscop': 1, 'darvon': 1, 'aftern': 1, 'uncertainti': 1, 'unpurpos': 1, 'oxybutynin': 1, 'cci': 1, 'amout': 1, 'weel': 1, 'arthrodesi': 1, 'pper': 1, 'denis': 1, 'appi': 1, 'propoxyphen': 1, 'liek': 1, 'warn': 1, 'fewminut': 1, 'vegileo': 1, 'protnix': 1, 'esopog': 1, 'protract': 1, 'tpp': 2, 'nafcillin': 1, 'awiat': 1, 'patietn': 1, 'cistacurim': 1, 'levoxyl': 1, 'keton': 2, 'donutamn': 1, 'hyperplasia': 1, 'pancx': 1, 'scenario': 1, 'influzena': 1, 'neuromuscular': 5, 'bicard': 1, 'dobutaminin': 1, 'gastro': 1, 'recew': 1, 'leukopenia': 1, 'withdrawen': 1, 'rhabdo': 1, 'elyt': 1, 'naficillin': 1, 'fl': 1, 'recdiev': 1, 'asrriv': 1, 'xigri': 1, 'thrombopoetin': 1, 'hish': 1, 'initiait': 1, 'segemtn': 1, 'ste': 2, 'vaspressin': 1, 'lavtat': 1, 'brbpr': 1, 'summon': 1, 'flor': 1, 'file': 2, 'tendenc': 1, 'solutiuon': 1, 'curretnli': 1, 'reintroduct': 1, 'hopsit': 1, 'peesist': 1, '^sed': 1, 'denser': 2, 'estrang': 1, 'leveph': 1, 'varici': 1, 'immin': 2, 'morph': 1, 'bilaterl': 1, 'italian': 1, 'incl': 4, 'reviv': 1, 'child': 2, 'catastroph': 1, 'ambival': 2, 'octreotid': 3, 'harsher': 1, 'finbrinogen': 1, 'queri': 4, 'betweeen': 1, 'fpr': 1, 'sfv': 1, 'mar': 2, 'mdag': 2, 'comparis': 1, 'mroe': 1, 'unilater': 4, 'dvtpleas': 1, 'withdrawan': 1, 'twi': 2, 'tibc': 1, 'microorg': 2, 'lactamas': 1, 'thyroxin': 1, 'frail': 2, 'compound': 2, 'denot': 1, 'airflow': 2, 'ferritin': 1, 'seemingli': 1, 'ovrenight': 1, 'hemoconcentr': 1, 'betablock': 2, 'congreg': 1, 'othervis': 2, 'mural': 2, 'costophr': 1, 'cardiophren': 2, 'sternum': 2, 'solitari': 1, 'tomographi': 2, 'omnipaqu': 4, 'infraclavicular': 1, 'fract': 1, 'millimetr': 1, 'volumetr': 3, 'kerley': 2, 'epicardi': 2, 'unmodifi': 1, 'mycobacteri': 1, 'cau': 1, 'direction': 1, 'spicul': 1, 'ventrcular': 1, 'cavit': 3, 'hyperthyroid': 1, 'cavitari': 3, 'longitudin': 1, 'syndesmophyt': 1, 'sedond': 1, 'osteosclerot': 1, 'hypoechogen': 1, 'mildi': 2, 'ankylos': 1, 'upj': 1, 'depict': 1, 'unfold': 1, 'bulla': 2, 'calic': 1, 'hemithorac': 5, 'hepatobiliari': 5, 'ligament': 1, 'spondyl': 1, 'radioopac': 1, 'cbd': 2, 'multisequ': 1, 'frontali': 1, 'supratentori': 1, 'falx': 1, 'sac': 2, 'talc': 1, 'jbre': 1, 'hyperintens': 1, 'carcinomatosi': 1, 'ovarian': 1, 'pneumothorac': 2, 'omentum': 1, 'deriv': 2, 'hyperostosi': 1, 'pleurodesi': 1, 'cerebri': 1, 'peron': 5, 'brachiocepahl': 1, 'department': 2, 'locula': 1, 'pvt': 1, 'hyperecho': 4, 'distr': 2, 'pelviectasi': 1, 'interav': 1, 'atnf': 1, 'excis': 1, 'stump': 3, 'myopath': 1, 'hyperchlorem': 1, 'llg': 1, 'cleaner': 3, 'extrathorac': 2, 'careplan': 2, 'cleanz': 1, 'emg': 1, 'denerv': 1, 'dace': 1, 'tartrat': 3, 'synapt': 1, 'student': 2, 'doppleralb': 1, 'takeback': 1, 'vasculopathi': 1, 'oyt': 1, 'myoneuropathi': 1, 'rssbi': 1, 'hypotn': 1, 'axon': 1, 'comfor': 1, 'nost': 1, 'sensorimotor': 1, 'prei': 1, 'polyneuropathi': 1, 'diphteheroid': 1, 'myelopathi': 1, 'myasthen': 1, 'moh': 1, 'retrospect': 1, 'psoa': 1, 'prot': 2, 'hemosiderin': 1, 'hyperlipindemia': 1, 'circ': 1, 'calciumacet': 1, 'erval': 1, 'klebseilla': 1, 'pml': 1, 'retroperi': 1, 'electrophysiolog': 1, 'spp': 1, 'cornebacterium': 1, 'proctectomi': 1, 'schatzki': 1, 'ay': 1, 'midbrain': 1, 'cvicu': 1, 'rhochour': 1, 'gprotein': 1, 'phlegmon': 1, 'hypopnea': 1, 'schisto': 1, 'omit': 1, 'jxkc': 2, 'uncomfor': 1, 'botul': 1, 'nag': 1, 'nj': 1, 'axilari': 1, 'fascial': 1, 'corynebacterium': 1, 'cololostomi': 1, 'gpro': 1, 'supratherapeuticleukocytosi': 1, 'acr': 1, 'spondylolysi': 1, 'anasara': 1, 'bill': 1, 'curbsid': 1, 'doss': 1, 'volit': 1, 'anterolisthesi': 1, 'sticker': 1, 'speci': 1, 'ldn': 1, 'arhb': 2, 'usg': 1, 'pedicl': 1, 'dess': 1, 'cnsc': 1, 'extubatd': 1, 'ti': 1, 'cionsult': 1, 'hoars': 1, 'retrolisthesi': 1, 'cnsd': 1, 'dysyncroni': 1, 'omeprazol': 1, 'dissynchron': 2, 'currenltli': 1, 'sytem': 1, 'lmid': 1, 'reble': 1, 'benzonat': 1, 'born': 1, 'inact': 2, 'conven': 1, 'soln': 1, 'oragan': 1, 'nf': 1, 'ertapenem': 1, 'nu': 1, 'msiv': 2, 'ih': 2, 'zolpidem': 1, 'suctionedx': 1, 'purplish': 1, 'desynchron': 3, 'dyschroni': 1, 'conssit': 1, 'dysycron': 1, 'oversea': 1, 'woren': 1, 'nondil': 1, 'mucormyst': 1, 'desyncron': 1, 'inactiv': 1, 'wore': 1, 'cosamin': 1, 'platpressur': 1, 'opporun': 1, 'ipd': 1, 'dirti': 2, 'excavatum': 1, 'painter': 1, 'sandblast': 1, 'ascertain': 1, 'beard': 1, 'normoact': 2, 'spri': 1, 'avnrt': 2, 'pectu': 1, 'thoracostomi': 1, 'pneu': 1, 'kaposi': 1, 'pneumothrax': 1, 'pjp': 1, 'pneuomedistinum': 1, 'hyperextend': 1, 'extrapleur': 1, 'jiroveci': 1, 'ind': 1, 'sidehol': 2, 'enya': 2, 'obliter': 2, 'sarcoma': 1, 'mycafungin': 1, 'llast': 1, 'bactim': 1, 'parlyt': 1, 'dyssynchroni': 2, 'idea': 1, 'opthamolog': 1, 'deflat': 1, 'fenatanyl': 1, 'biphas': 1, 'recit': 1, 'plow': 1, 'satsin': 1, 'crazi': 1, 'nystain': 1, 'inflitr': 1, 'likey': 1, 'thrombin': 1, 'dfe': 1, 'conj': 1, 'opthal': 1, 'reparalyz': 1, 'templ': 1, 'rota': 1, 'linazolid': 1, 'rotopron': 1, 'satt': 1, 'voriconazol': 1, 'valium': 2, 'bileou': 1, 'tfresidu': 1, 'xfuse': 1, 'pretibi': 1, 'oscil': 1, 'cheek': 1, 'opciti': 1, 'cistacurium': 1, 'pnemo': 1, 'retin': 1, 'resudu': 1, 'barrotrauma': 2, 'phi': 1, 'milli': 1, 'lactilub': 1, 'exogen': 1, 'paralys': 1, 'trale': 1, 'abscent': 1, 'dehydrogenas': 1, 'specialti': 1, 'methados': 1, 'plo': 1, 'engulf': 1, 'opthalmolog': 1, 'buddist': 1, 'occaission': 1, 'familiy': 1, 'immunoglobulin': 1, 'aprreci': 1, 'anteromedi': 1, 'applli': 1, 'pnuemothorax': 1, 'bubl': 1, 'tve': 1, 'interestingli': 1, 'consistentlli': 1, 'hyp': 1, 'flexicel': 1, 'biater': 1, 'cistastacurium': 1, 'succeed': 1, 'chemosi': 1, 'cisastacurium': 1, 'toleratedongo': 1, 'intuab': 1, 'serosangiun': 1, 'concur': 2, 'homodynam': 1, 'phigh': 1, 'unchangedand': 1, 'metolozon': 1, 'tdecreas': 1, 'cisatracurim': 1, 'nitrixoxid': 1, 'persis': 2, 'pie': 1, 'anu': 1, 'cisastracurium': 1, 'diazepam': 1, 'cistracurium': 1, 'psvlevel': 1, 'nitic': 1, 'cisctracurium': 1, 'gancyclovir': 1, 'gastriti': 1, 'trali': 1, 'cisaturcoruim': 1, 'tradit': 1, 'radiopaqu': 3, 'lamivudin': 1, 'inchang': 1, 'nimbex': 1, 'bmtx': 1, 'inspit': 3, 'subjunctiv': 1, 'treatabl': 1, 'repron': 1, 'rotapron': 1, 'tolar': 1, 'reinflat': 1, 'endpoint': 1, 'ou': 1, 'clorid': 1, 'subconjunctiv': 1, 'destat': 2, 'exce': 1, \"c'ing\": 1, 'mgc': 1, 'ggancyclovir': 1, 'erythem': 1, 'standpoint': 3, 'ecmo': 1, 'south': 1, 'ladi': 2, 'continuelactilub': 1, 'fulfil': 1, 'sildenafil': 1, 'arvp': 1, 'pulmn': 1, 'visciou': 1, 'nitrou': 1, 'chemiosi': 1, 'troli': 1, 'dieresi': 1, 'proprofol': 1, 'streptococc': 1, 'attributbl': 1, 'infx': 1, 'gvh': 1, 'sanquin': 1, 'moth': 1, 'xerofoam': 1, 'afrebril': 1, 'intervascularyli': 1, 'cist': 1, 'prome': 1, 'pbishop': 2, 'ehab': 3, 'accentu': 1, 'divers': 1, 'cystectomi': 1, 'umbilicu': 1, 'outlet': 2, 'ercp': 3, 'recom': 1, 'kkgc': 3, 'hydroureteronephrosi': 1, 'urostomi': 1, 'pneumobilia': 2, 'conduit': 1, 'ileal': 1, 'idenitif': 1, 'prove': 1, 'oment': 1, 'pbec': 2, 'intrapulmonari': 1, 'noteworthi': 1, 'tasp': 1, 'sniff': 1, 'enteroccoc': 1, 'retrograd': 1, 'parvu': 1, 'listeria': 1, 'dna': 1, 'aji': 3, 'verg': 1, 'aprenchym': 1, 'ureter': 1, 'intracerebr': 1, 'fasoli': 1, 'meatal': 1, 'tardu': 1, 'malpost': 1, 'aspf': 1, 'radlin': 1, 'plum': 1, 'discoveri': 2, 'maa': 1, 'dtpa': 1, 'mci': 1, 'radiopharmaceut': 1, 'shorter': 1, 'intab': 1, 'cessat': 1, 'internvet': 1, 'upsiz': 2, 'fingerbreadth': 1, 'pneumopericardium': 1, 'baloon': 1, 'unconsci': 1, 'caudal': 1, 'huddl': 2, 'inadvert': 1, 'venotomi': 2, 'cnii': 1, 'thyromegali': 1, 'stabiol': 1, 'logic': 1, 'fouind': 1, 'blossom': 1, \"'lyte\": 1, 'silloutt': 1, 'xii': 1, 'aquir': 1, 'bode': 1, 'wdwn': 1, 'scx': 1, 'natg': 3, 'costal': 2, 'diaphgram': 1, 'intubatedclin': 1, 'mjmgb': 3, 'psuedomona': 1, 'effu': 1, 'radicl': 1, 'rarefact': 1, 'intervertebr': 2, 'chronicli': 1, \"trach'd\": 1, 'hemidiaphragmat': 1, 'atelectas': 2, 'subpulmon': 1, 'cholestat': 2, 'corticomedullari': 1, 'distol': 1, 'faiulr': 1, 'thechang': 1, 'calculi': 1, 'bileaflet': 1, 'retroaort': 1, 'technologist': 1, 'habitu': 2, 'lltc': 1, 'gsenapati': 2, 'hemipelvi': 1, 'gmsj': 1, 'mxak': 1, 'breakfast': 1, 'frapp': 1, 'neglect': 1, 'undercontrol': 1, 'inlaw': 1, 'hypersentit': 1, 'usag': 1, 'patientpercodan': 1, 'disgust': 1, 'klebsiella': 2, 'embarrass': 1, 'nonvisu': 1, 'bbl': 1, 'ivt': 1, 'invalid': 2, 'hp': 1, 'afew': 1, 'orthostat': 2, 'mra': 2, 'paremet': 1, 'kleb': 1, 'itp': 2, 'chocol': 1, 'metatstat': 1, 'kyphoplasti': 2, 'augmentin': 1, 'entercocci': 1, 'percodan': 1, 'recordspercodan': 1, 'calmli': 1, 'anger': 1, 'hrct': 1, 'metoprol': 1, 'nsip': 2, 'unasyn': 1, 'angri': 1, 'suprastom': 1, 'benadryl': 2, 'eater': 1, 'enterococc': 1, 'riesman': 1, 'autonom': 1, 'hffm': 1, 'micron': 3, 'overfeed': 1, 'noseble': 1, 'uncultur': 1, 'orang': 1, 'pansensit': 1, 'oler': 1, 'gentler': 1, 'rusb': 1, 'cour': 1, 'salt': 1, 'western': 1, 'pharygnx': 1, 'fuction': 1, 'banana': 1, 'oer': 1, 'sjorgen': 1, 'echhymosi': 1, 'pharygx': 1, 'egop': 1, 'scoop': 1, 'cdb': 1, 'polypectomi': 1, 'phargnx': 1, 'afrin': 1, 'failu': 1, 'adeuqu': 1, 'metprolol': 1, 'etco': 1, 'unassist': 2, 'toung': 1, 'nasotrachi': 1, 'flut': 1, 'appox': 1, 'rigth': 1, 'hypecarb': 1, 'toprol': 2, 'apporpri': 1, 'mie': 1, 'driven': 3, 'scca': 2, 'provd': 1, 'modestli': 1, 'cetuximab': 2, 'scc': 1, 'factori': 1, 'aspiraiton': 1, 'auditori': 1, 'xl': 1, 'alevyn': 1, 'safest': 1, 'wrinkl': 1, 'videoswallow': 1, 'whitmil': 1, 'alkylosi': 1, 'incorrectli': 1, 'whish': 1, 'aorticopulmonari': 1, 'cardiomedistin': 1, 'fee': 1, 'situationclip': 1, 'periprosthesi': 1, 'chewabl': 1, 'ophthalm': 1, 'gastroenter': 1, 'amiodoran': 1, 'ec': 1, 'trazodon': 1, 'benazepril': 1, 'olopatadin': 1, 'capsul': 2, 'laryngoscopi': 1, 'nasonex': 1, 'tolterodin': 2, 'proteas': 1, 'hematemsi': 1, 'actuat': 1, 'memantin': 1, 'hematemesi': 1, 'ultras': 1, 'patanol': 1, 'minist': 1, 'miscellan': 1, 'secretiion': 1, 'angap': 1, 'urobiln': 1, \"'lhbi\": 1, 'intuba': 1, 'urean': 1, \"'expand\": 1, 'cgi': 1, 'gemcitabin': 1, 'docetaxel': 1, \"'lcba\": 1, 'cisplatin': 1, 'mch': 1, 'pravastatin': 1, 'rdw': 1, 'calhco': 1, 'intubat': 1, 'triglyc': 1, 'trans': 1, 'baso': 1, 'xs': 1, 'african': 1, 'cholest': 1, 'ostelamavir': 1, 'pituitari': 1, 'ctropnt': 1, 'totprot': 1, 'uricacd': 1, 'renalep': 1, 'vinorelbin': 1, 'microscop': 2, 'isoenzym': 1, 'dirbili': 1, 'caltco': 1, 'hba': 1, 'carboplatin': 1, 'ingrowth': 1, 'alkpho': 1, 'ldlcalc': 1, 'intercost': 3, 'gender': 1, 'mchc': 1, 'globuln': 1, 'totbili': 1, 'hdl': 1, 'bilirub': 1, \"'lhbc\": 1, 'erlotinib': 1, 'intrepretor': 1, \"'lcbi\": 1, 'trig': 1, 'american': 1, 'paclitaxel': 1, 'ldl': 1, 'ld': 1, 'mcv': 2, 'estgfr': 1, 'dipstick': 1, 'rohila': 1, 'hypercholestolemia': 1, 'occiput': 1, 'calvari': 1, 'rsrc': 1, 'occipit': 1, 'symmetri': 1, 'myelomat': 1, 'magnum': 1, 'callu': 1, 'homogen': 1, 'cortex': 2, 'def': 1, 'shaft': 1, 'wing': 1, 'survey': 1, 'adepquatel': 1, 'humeri': 1, 'adepqu': 1, 'skeleton': 1, 'uptak': 1, 'convex': 2, 'postop': 2, 'hydropneumothorac': 1, 'rulobectomi': 1, 'preoper': 2, 'bronchocentr': 1, 'txfr': 1, 'noncardiogen': 1, 'tumesc': 1, 'akinet': 1, 'intersept': 1, 'descrb': 1, 'lymphangiitc': 1, 'artherosclerot': 1, 'findingsd': 1, 'cylindr': 1, 'arthrosclerot': 1, 'aert': 1, 'preexist': 1, 'adynam': 1, 'adenocarcinoma': 1, 'lobular': 1, 'densest': 1, 'inth': 1, 'inctrabdomin': 1, 'unenhanc': 1, 'patter': 1, 'debril': 1, 'thrombocyto': 1, 'hpeatolog': 1, 'scopalimin': 1, 'cub': 1, 'adj': 1, 'conult': 1, 'uncommon': 1, 'azithromax': 1, 'intrtstitium': 1, 'loadind': 1, 'overestim': 1, 'ib': 1, 'asterixi': 2, 'planof': 1, 'gwp': 2, 'eco': 1, 'dobutmain': 1, 'despiti': 1, 'rfa': 1, 'gwlm': 1, 'infilitr': 1, 'plced': 1, 'contritubt': 1, 'heptaolog': 1, 'fkuid': 1, 'eith': 1, 'hcc': 2, 'chirrhosi': 1, 'ifn': 1, 'mantia': 1, 'burgundi': 1, 'afig': 1, 'tachyacria': 1, 'resond': 1, 'coagulopath': 1, 'asmi': 1, 'penia': 1, 'friabl': 1, 'anmd': 1, 'mailto': 1, 'tachicard': 1, 'perocardium': 1, 'pleurisi': 1, 'haematuria': 1, 'childbirth': 1, 'actiuv': 1, 'psuh': 1, 'agion': 1, 'cardriovers': 1, 'biacrb': 1, 'hepato': 2, 'milder': 1, 'hu': 1, 'vtac': 1, 'blou': 1, 'bicep': 2, 'counsult': 1, 'bivent': 1, 'decras': 1, 'leart': 1, 'followng': 1, 'inotrpi': 1, 'unlad': 1, 'patellar': 2, 'veal': 1, 'arrythmogen': 1, 'hemodyanm': 1, 'cale': 1, 'threshod': 1, 'guafenisen': 1, 'laptop': 1, 'sel': 1, 'rhonchj': 1, 'scapolamin': 1, 'wqent': 1, 'comfot': 1, 'older': 1, 'blush': 2, 'fbca': 2, 'arteriogram': 2, 'vie': 1, 'viser': 1, 'grate': 1, 'intrathec': 1, 'metasta': 1, 'flux': 1, 'ba': 1, 'embospher': 2, 'myocardium': 1, 'paient': 1, 'fantanyl': 1, 'benedryl': 1, 'particl': 2, 'embo': 2, 'hemopysi': 1, 'epidur': 1, 'ecopi': 1, 'engin': 1, 'hctthi': 1, 'tragic': 1, 'angiogram': 1, 'supersel': 1, 'argonn': 1, 'nest': 1, 'bleeder': 1, 'requrin': 1, 'defend': 1, 'argon': 1, 'fami': 1, 'microcathet': 1, 'discount': 1, 'cauter': 1, 'backup': 1, 'deploy': 1, 'reinstutu': 1, 'notiif': 1, 'lexipro': 1, 'ly': 1, 'bandaid': 1, 'squeak': 1, 'shitft': 1, 'duculox': 1, 'behe': 1, 'reattampt': 1, 'cauteri': 1, 'intervenet': 1, 'couter': 1, 'hosptil': 1, 'palpatori': 2, 'prnbolus': 1, 'hemopytsi': 1, 'hyperexpans': 1, 'trancathet': 1, 'super': 2, 'hyperexpand': 1, 'cervicocerbr': 1, 'stc': 1, 'renegad': 1, 'apicoposterior': 1, 'omniflush': 1, 'cannul': 1, 'aortogram': 1, 'mammari': 1, 'sjbj': 1, 'vetil': 1, 'congestiona': 1, 'dlp': 2, 'gynecomastia': 1, 'mgi': 2, 'infero': 1, 'semiupright': 1, 'collom': 1, 'noncompress': 1, 'schizoaffect': 1, 'avalu': 1, 'tonsillectomi': 1, 'periodclip': 1, 'nasointestin': 1, 'emant': 1, 'ssuspect': 1, 'chylou': 1, 'steatosi': 1, 'sinusoid': 1, 'endarterectomi': 1, 'heterozyg': 1, 'vicryl': 2, 'colonoscopi': 1, 'antitrypsin': 1, 'apoptot': 1, 'octeotrid': 1, 'birth': 2, 'creatnin': 1, 'chylothorax': 1, 'arterioven': 1, 'pneomothorax': 1, 'hemachromatosi': 1, 'angiodynam': 2, 'vareci': 1, 'cryo': 1, 'girth': 1, 'pnumothorax': 1, 'avm': 3, 'pd': 2, 'mlkb': 3, 'multiphas': 1, 'mononuclear': 1, 'eg': 1, 'hepatocyt': 1, 'hfe': 1, 'anesthet': 2, 'dophoff': 1, 'text': 1, 'cirrhot': 1, 'peelaway': 1, 'precip': 1, 'cryptogen': 1, 'perisept': 1, 'malform': 1, 'cha': 1, 'chgc': 2, 'exch': 2, 'cirhhosi': 1, 'trichrom': 1, 'mangement': 1, 'parapneumonia': 1, 'pivot': 1, 'infction': 1, 'flet': 1, 'sputem': 1, 'disas': 1, 'simvastain': 1, 'prusu': 1, 'mitrial': 1, 'lllinfiltr': 1, 'ergotamin': 1, 'suppliment': 1, 'rheumat': 1, 'arenon': 1, 'lateri': 1, 'paxil': 1, 'losartan': 1, 'sydrom': 1, 'dteremin': 1, 'donepzil': 1, 'cae': 1, 'paroxetin': 1, 'coronoari': 1, 'insent': 1, 'meanin': 1, 'medialstin': 1, 'promiment': 1, 'humidif': 1, 'lambl': 1, 'premier': 1, 'intfiltr': 1, 'nonerythemat': 1, 'tng': 1, 'intersiti': 3, 'halv': 1, 'depr': 1, 'biotic': 1, 'paint': 1, 'nicat': 1, 'unstaedi': 1, 'refrain': 1, 'hemi': 2, 'maalox': 1, 'sugget': 1, 'financ': 1, 'ureathr': 1, 'oncot': 1, 'invok': 1, 'conern': 1, 'hc': 1, 'tachcardia': 1, 'alten': 1, 'dispar': 1, \"lft'\": 1, 'mediatin': 1, 'ntnd': 2, 'crestor': 1, 'centru': 1, 'excres': 1, 'effis': 1, 'asymmet': 1, 'angina': 1, 'grandaught': 1, 'deduct': 2, 'medoic': 1, 'filament': 1, 'artifactu': 2, 'vaco': 1, 'thirst': 1, 'dysarthria': 1, 'recordsno': 1, 'vasodilatori': 1, 'calv': 2, 'succinyulcholin': 1, 'wander': 1, 'enifit': 1, 'wheezez': 1, 'shore': 1, 'trak': 1, 'hemoperitoneum': 1, 'thoroughli': 1, 'pleae': 1, 'evlaut': 1, 'meastat': 1, 'larazepam': 1, 'trachestomi': 1, 'calculu': 1, 'paramediastin': 1, 'consciou': 1, 'upr': 1, 'cjmt': 1, 'peristals': 1, 'negoti': 1, 'kump': 1, 'vancopmycin': 1, 'gmpd': 1, 'periaort': 1, 'mate': 1, 'compars': 1, 'frog': 1, 'pelvocalic': 1, 'trapezoid': 1, 'mycetoma': 1, 'myocytoma': 1, 'ununit': 1, 'dexmedetomidin': 1, 'nep': 1, 'intot': 1, 'mycobacterium': 1, 'salmon': 1, 'precedex': 1, 'besyl': 1, 'nephrot': 1, 'lightheaded': 1, 'nifedipin': 1, 'isusu': 1, 'undecid': 1, 'avium': 1, 'undiagnos': 1, 'fati': 1, 'wretch': 1, 'calcitonin': 1, 'miacalcin': 1, 'acuiti': 1, 'mac': 2, 'polydipsia': 1, 'satisfact': 1, 'welcom': 1, 'pda': 2, 'spondylosi': 1, 'exel': 1, 'bronchopleur': 2, 'disinclin': 1, 'reasaon': 1, 'admidaton': 1, 'pnenmonectomi': 1, 'solmederol': 1, 'stabilil': 1, 'hyperpotassemia': 1, 'cortosol': 1, 'driver': 1, 'amidaron': 1, 'amiodarin': 1, 'coll': 1, 'bronchopneumonectomi': 1, 'rough': 1, 'bronchopulmonari': 1, 'azythro': 1, \"leni'\": 1, 'minimz': 1, 'squameou': 1, 'dehis': 1, 'detal': 1, 'fluild': 1, 'uni': 1, 'spectral': 1, 'repiatori': 1, 'mimic': 2, 'mute': 1, 'maintiain': 1, 'lactalos': 1, 'unrespos': 1, 'gtibe': 1, 'lmn': 1, 'hypoton': 1, 'reclarifi': 1, 'loudest': 1, 'memeb': 1, 'simultaen': 1, 'althoug': 1, 'acidosisi': 1, 'unspeci': 1, 'yoga': 1, 'reticularnodular': 1, 'faclid': 1, 'ascrib': 1, 'xcray': 1, 'dhghfhdlhkl': 1, 'mmt': 1, 'ventiat': 1, 'tingu': 1, 'reconfirm': 1, 'uncomfortbal': 1, 'extract': 2, 'exac': 1, 'monitorec': 1, 'roadtrip': 1, 'conisd': 1, 'presenti': 1, 'ers': 1, 'arom': 1, 'hypertent': 1, 'enitr': 1, 'midax': 1, 'mmdri': 1, 'depenc': 1, 'dermat': 1, 'tommorow': 1, 'updatefamili': 1, 'locomot': 1, 'secrit': 1, 'intersti': 2, 'subglottal': 1, 'derang': 1, 'hemodyanam': 1, 'currentt': 1, 'anaphylaxi': 1, 'pege': 1, 'defintit': 1, 'tyloenol': 1, 'prom': 1, 'performac': 1, 'axtreonam': 1, 'pite': 1, 'clinical': 1, 'tremiti': 1, 'sedret': 1, 'respriatori': 1, 'ywca': 1, 'rsvi': 1, 'indefinit': 1, 'arranag': 1, 'solumedtrol': 1, 'aztreonum': 1, 'closelyt': 1, 'cea': 2, 'cxc': 1, 'disintigr': 1, 'neet': 1, \"family'\": 1, 'emphasi': 1, 'desaturateion': 1, 'tachynpea': 1, 'thereof': 1, 'vvia': 1, 'resussit': 1, 'aarom': 1, 'atrio': 2, 'fev': 1, 'hemoptisi': 1, 'tbm': 1, 'juxtahilar': 1, 'donepizil': 1, 'thallasemia': 1, 'ctr': 2, 'revealedt': 1, 'tropi': 1, 'mutlifoc': 1, 'unrepons': 1, 'airborn': 2, 'thalassemia': 1, 'nari': 1, 'alkalos': 1, 'calvaria': 1, 'ileocec': 1, 'stom': 1, 'tuberculosi': 2, 'pector': 2, 'opaqu': 1, 'dental': 1, 'crown': 1, 'gunshot': 1, 'radio': 1, \"alzheimer'\": 1, 'magnesia': 1, 'reaccess': 1, 'cart': 1, 'protamin': 1, 'presistantli': 1, 'iddm': 1, 'steadal': 1, 'downtrend': 1, 'liekli': 1, 'zyosyn': 1, 'pigment': 1, 'cafeteria': 1, 'pmb': 1, 'dti': 1, 'baslin': 1, 'tendon': 1, 'blancheabl': 1, 'pulsat': 1, 'novolin': 1, 'antidot': 1, 'respodn': 1, 'hospis': 1, 'aspiratin': 1, 'resorpt': 1, 'comtinu': 1, 'brachioradiali': 1, 'thrussh': 1, 'pyridostigmin': 1, 'uppper': 1, 'myasthenia': 1, 'gangren': 1, 'grape': 1, 'antacid': 1, 'subcutaen': 1, 'proc': 1, 'conceiv': 1, 'pneumotharax': 1, 'reidentifi': 1, 'hyperemia': 1, 'peumothorax': 1, 'subseg': 1, 'slice': 1, 'smooth': 1, 'rjab': 1, 'cervicothorac': 1, 'interlobular': 1, 'pw': 1, 'nmka': 1, 'atrioventricular': 1, 'circular': 1, 'rahni': 1, 'targetoid': 1, 'arter': 1, 'scalp': 1, 'cryptococcosi': 1, 'likel': 1, 'diag': 1, 'perpher': 1, 'suprasellar': 1, 'streptococcu': 1, 'cryptococcu': 1, 'tel': 1, 'respirophas': 1, 'tdi': 1, 'arthralgia': 1, 'subactu': 1, 'nob': 1, 'donor': 2, 'irrhythm': 1, 'tomak': 1, 'grant': 1, 'twelv': 1, 'ventilaiton': 1, 'sugggest': 1, 'midazalam': 1, 'thickedn': 1, 'abdomn': 1, 'dissoci': 1, 'andcvc': 1, 'pulmnonari': 1, 'maximin': 1, 'arrthym': 1, 'mbi': 1, 'sulfameth': 1, 'transpulmon': 1, 'choledocolithiasi': 1, 'corticosteroid': 1, 'mivf': 1, 'intrpulmonari': 1, 'myelosuppress': 1, 'bmv': 1, 'inter': 1, 'mtb': 1, 'critaid': 1, 'trimetoprim': 1, 'frompt': 1, 'settign': 1, 'prodiv': 1, 'dollar': 1, 'rhoncrou': 1, 'afp': 1, 'macer': 1, 'echymos': 1, 'fibriogen': 1, 'lowerin': 1, 'kitchen': 1, 'ndg': 1, 'chrnic': 1, 'muscos': 1, 'friablilti': 1, '$': 1, 'leve': 1, 'burn': 1, 'scrap': 1, 'splenomeg': 1, 'lover': 1, 'hme': 1, 'emv': 1, 'pcr': 1, 'sphincterotomi': 1, 'friabil': 1, 'atheromat': 1, 'salvag': 1, 'mwf': 1, 'llb': 1, 'sah': 1, 'aphac': 1, 'cce': 1, 'paresi': 1, 'arteriographi': 1, 'tall': 1, 'dimension': 1, 'prozac': 1, 'underwhelm': 1, 'goutm': 1, 'usus': 1, 'sdh': 1, 'flight': 1, 'unclot': 1, 'npne': 1, 'gadolinium': 1, 'wellbutrin': 1, 'pmeumonia': 1, 'panc': 1, 'fuel': 1, 'patientpenicillin': 1, 'worsten': 1, 'gastroparesi': 1, 'cyberknif': 1, 'umb': 1, 'macrolid': 1, 'gemzar': 1, 'hydromorphon': 1, 'colicki': 1, 'inn': 1, 'dalilah': 1, 'guaifenisin': 1, 'lypmhangit': 1, 'perspect': 1, 'mucinex': 1, 'failuir': 1, 'rhonchu': 1, 'summar': 1, 'bedisd': 1, 'sicua': 1, 'bedsidepronounc': 1, 'spb': 1, 'im': 1}, 'pneumonia_alive': {'lab': 577, 'rt': 262, 'uo': 226, 'studi': 754, 'throughout': 532, 'height': 490, 'without': 687, 'cardiac': 664, 'pleasant': 204, 'breath': 645, 'suspici': 170, '[': 430, 'effus': 838, 'year': 906, 'desensit': 3, 'follow': 720, 'voltag': 155, 'watch': 107, 'therapi': 300, 'onset': 93, 'reaction': 314, 'circumferenti': 23, 'tmax': 459, 'signific': 605, 'gallbladd': 166, 'presenc': 112, 'difficulti': 326, 'glass': 179, 'base': 779, 'artifact': 182, '>': 710, 'techniqu': 515, 'sinu': 725, 'sleep': 398, 'progress': 612, 'statu': 861, 'underli': 290, 'allow': 210, 'date': 670, 'pic': 84, 'larg': 562, 'rare': 188, 'diminish': 486, 'law': 35, 'blood': 576, 'depress': 232, 'tte': 305, 'leak': 165, 'pulmon': 188, 'compar': 793, 'chf': 330, 'clear': 782, 'minim': 527, 'patient': 869, 'v': 392, 'soft': 703, 'reconstruct': 68, 'alert': 514, 'afebril': 541, 'remov': 471, 'abdomin': 444, 'earli': 270, 'involv': 293, ']': 427, 'contact': 358, 'today': 664, 'airspac': 127, 'hsv': 16, 'amber': 107, 'infecti': 232, 'temp': 382, 'conclus': 290, 'evalu': 778, 'elev': 528, 'regular': 358, 'tachycard': 175, 'infarct': 248, 'lack': 97, 'skin': 664, 'limb': 131, 'pvc': 241, 'br': 22, 'diagnosi': 851, 'pmh': 390, 'hungri': 35, 'amt': 540, 'eat': 204, 'global': 176, 'tamponad': 47, 'time': 801, 'unsteadi': 21, 'loos': 232, 'due': 678, 'effect': 461, 'protocol': 188, 'cont': 719, 'leav': 107, 'outpati': 135, 'cranberri': 4, 'liver': 260, 'lv': 245, 'intact': 442, 'requir': 554, 'hemodynam': 487, 'start': 572, 'l': 763, 'adequ': 525, 'ep': 28, 'ct': 617, 'ra': 381, 'persist': 524, 'neuro': 569, 'levo': 181, 'take': 439, 'palpabl': 159, 'anterior': 345, 'estim': 171, 'contrast': 593, 'toler': 634, 'cx': 390, 'sm': 207, 'test': 388, 'tx': 307, 'night': 460, 'grade': 205, 'exam': 513, 'higher': 117, 'p': 844, 'abl': 525, 'veri': 539, 'result': 579, 'cours': 437, 'line': 733, 'coars': 409, 'shift': 551, 'mr': 402, 'wa': 905, 'lb': 256, 'per': 617, 'size': 685, 'wave': 411, 'absent': 249, 'cathet': 501, 'admiss': 437, 'within': 541, 'discomfort': 230, 'mass': 319, 'transfer': 630, 'moder': 648, 'puls': 532, 'integ': 65, 'diagnost': 225, 'new': 697, 'stool': 632, 'cooper': 284, 'sever': 621, 'pressur': 447, 'gener': 547, 'femal': 269, 'pubi': 5, 'pcp': 148, 'atelectasi': 533, 'sent': 561, 'med': 597, 'defin': 95, 'white': 329, 'aid': 96, 'multipl': 514, 'eve': 109, 'anasarca': 74, 'bsa': 236, 'c': 778, 'exclud': 382, 'axial': 254, 'state': 377, 'qualiti': 322, 'margin': 125, 'pericardi': 407, 'cv': 669, 'thi': 1024, 'indic': 849, 'id': 418, 'impress': 852, 'bone': 218, 'rf': 23, 'pleural': 753, 'kidney': 248, 'mild': 707, 'stabl': 791, 'chang': 980, 'predominantli': 96, 'antecub': 23, 'gerd': 83, 'coron': 171, 'review': 599, ')': 1005, 'yellow': 491, 'concern': 483, 'prior': 824, 'orient': 503, 'felt': 164, 'otherwis': 429, 'nsg': 167, 'unabl': 451, 'bs': 596, 'process': 392, 'diff': 222, 'st': 515, 'gu': 460, 'etiolog': 234, 'bibasilar': 301, 'rhythm': 656, 'upper': 731, 'sputum': 549, 'lung': 903, 'rest': 457, 'symphysi': 46, 'could': 493, 'cap': 163, 'tricuspid': 262, 'interpret': 326, 'around': 300, 'rr': 626, 'coliti': 50, 'pain': 680, 'also': 734, 'sound': 587, 'festiv': 1, 'prophylaxi': 349, 'ls': 460, 'system': 432, 'systol': 480, 'drink': 134, 'limit': 539, 'non': 755, 'port': 348, 'hg': 305, 'bracial': 1, 'ectopi': 402, 'full': 650, 'frothi': 41, 'secret': 435, 'final': 876, 'sob': 532, 'perspect': 7, 'larger': 110, 'correl': 281, 'osseou': 210, 'tendon': 13, 'stay': 197, 'induc': 87, 'sagitt': 161, 'pattern': 282, 'suggest': 582, 'specif': 362, 'assist': 375, 'obtain': 651, 'famili': 591, 'dose': 572, 'npo': 408, 'sat': 722, 'although': 384, 'output': 334, 'antibiot': 485, 'consult': 357, 'pneumonia': 939, 'failur': 476, 'ill': 271, 'bpm': 529, 'lt': 128, 'structur': 370, 'examin': 921, 'place': 726, 'cough': 676, 'commod': 94, 'free': 499, 'arteri': 625, 'clinic': 587, 'need': 683, 'dri': 352, 'le': 183, 'one': 486, 'sepsi': 230, 'overload': 256, 'sclerot': 105, 'cold': 50, 'pulmonari': 827, 'sampl': 146, 'ox': 221, 'clamp': 74, 'admit': 928, 'access': 497, 'see': 526, 'po': 648, 'nutrit': 375, 'pelvi': 178, 'clip': 821, 'neg': 494, 'mg': 632, 'typhliti': 3, 'find': 853, \"'s\": 711, 'rel': 184, 'affect': 91, 'hr': 808, 'pt': 729, 'patent': 424, 'call': 554, 'prespar': 2, 'ambien': 41, 'product': 536, 'ab': 79, 'technic': 304, 'plan': 683, 'event': 483, 'doppler': 388, 'view': 511, 'request': 267, 'cardiomegali': 256, 'color': 475, 'tr': 245, 'edema': 741, 'qd': 121, 'f': 494, 'code': 583, 'trip': 17, 'good': 567, 'patchi': 212, '%': 832, 'colon': 169, 'pnd': 98, 'urg': 6, 'wors': 177, 'decreas': 604, 'lytic': 133, 'variant': 37, 'bedsid': 352, 'liquid': 342, 'ale': 9, 'fals': 14, 'flatten': 41, 'inflammatori': 87, 'remain': 738, 'npn': 284, 'mitral': 313, 'spleen': 186, 'seen': 785, 'much': 359, 'amount': 496, 'leaflet': 273, 'ever': 9, 'ivf': 453, 'pedal': 140, 'renal': 372, 'juic': 28, 'lesion': 363, 'pleas': 669, 'tv': 157, 'mother': 102, 'hypotens': 319, 'reason': 873, 'strand': 47, 'inform': 489, 'repres': 405, 'condit': 875, 'physiolog': 185, 'mildli': 409, 'daughter': 231, 'mid': 569, 'ventricular': 491, 'extent': 138, 'sip': 118, 'greater': 256, 'gland': 145, 'side': 609, 'ha': 906, 'rv': 258, 'may': 654, 'micu': 575, 'report': 934, 'focus': 50, 'sign': 496, 'consist': 636, 'thrombu': 131, 'low': 709, 'secondari': 331, 'tachycardia': 390, 'wall': 437, 'back': 537, 'caridomyopathi': 1, 'strength': 164, 'social': 494, 'ate': 46, 'comparison': 767, 'bladder': 172, 'pend': 497, 'last': 583, 'clindamycin': 37, 'deni': 453, 'cardiomyopathi': 41, 'high': 490, 'mm': 558, 'increas': 822, 'abd': 599, 'myocardi': 168, 'nontend': 94, 'abnorm': 515, 'vtach': 12, 'sauc': 23, 'ground': 177, 'administr': 243, 'weak': 310, 'left': 971, 'pr': 204, 'thicken': 411, 'baselin': 432, 'asymptomat': 85, 'monitor': 688, 'evid': 702, 'md': 523, 'current': 625, 'frequent': 374, 'area': 552, 'collect': 164, 'old': 918, 'r': 770, 'qr': 107, 'mac': 12, 'crackl': 389, 'contraind': 360, '#': 982, 'unremark': 350, 'diffus': 438, 'imag': 721, 'pancrea': 158, 'midnight': 156, 'resp': 651, 'biaxin': 1, 'trace': 670, 'picc': 378, 'better': 415, 'w': 820, 'possibl': 682, '&': 759, 'abx': 483, 'histori': 810, 'note': 885, 'pericardium': 257, 'allerg': 27, 'pa': 418, 'bp': 760, 'echocardiograph': 98, 'intak': 235, 'motion': 364, 'harrt': 2, 'nausea': 204, 'site': 295, 'slightli': 559, 'atrium': 362, 'gait': 73, 'sptum': 2, 'right': 972, 'aortic': 391, 'ef': 158, 'onc': 306, 'use': 521, 'day': 675, 'abdomen': 553, 'haart': 18, 'adjust': 182, 'futher': 19, 'show': 508, '@': 435, 'pm': 869, 'endstag': 1, 'excurs': 79, 'weight': 528, 'anzemet': 6, 'yr': 153, 'bilater': 719, 'boost': 29, 'crf': 26, 'balanc': 401, 'mdct': 152, 'precordi': 101, 'pcv': 7, '(': 1005, 'x': 771, 'ginger': 8, 'chair': 325, 'regurgit': 278, 'u': 574, 'treat': 397, 'opac': 661, 'fluid': 718, 'spec': 121, 'none': 536, 'dyspnea': 328, 'avoid': 138, 'small': 773, 'continu': 724, 'copiou': 159, 'previou': 774, 'fe': 35, 'hypertens': 428, 'cxr': 545, 'team': 493, 'woman': 385, 'lead': 345, 'appl': 39, 'green': 106, 'gi': 567, 'cc': 645, 'bowel': 570, 'overnight': 490, 'hiv': 63, 'hypokinesi': 93, 'comment': 461, 'normal': 849, 'poor': 441, 'tissu': 284, 'ambul': 163, 'interv': 673, 'septic': 100, 'oob': 352, 'medic': 956, 'thick': 542, 'mark': 273, 'n': 409, 'appetit': 139, 'delay': 162, 'yesterday': 453, 'major': 144, 'attenu': 67, 'tach': 49, 'foley': 541, 'bactrim': 77, 'occasion': 328, 'ob': 89, 'ok': 172, 'initi': 447, 'urin': 669, 'probabl': 459, 'nurs': 527, 'anoth': 175, 'feel': 316, 'enlarg': 430, 'lasix': 354, 'caviti': 320, 'adren': 175, 'valv': 370, 'ns': 360, 'pass': 292, 'field': 318, 'window': 181, 'ventricl': 350, 'dilat': 415, 'command': 522, 'iv': 811, 'nuero': 22, 'singl': 426, 'regard': 224, 'septum': 219, 'inpati': 257, 'heart': 738, 'ps': 318, 'chamber': 203, 'level': 604, 'locul': 114, 'interatri': 211, 'aorta': 412, 'echo': 308, 'tee': 49, 'gradient': 194, 'prolaps': 121, 'prematur': 157, 'surgeri': 347, 'placement': 561, 'sinc': 788, 'lvot': 159, 'retrocardiac': 231, 'junction': 229, 'fever': 470, 'fat': 82, 'h': 558, 'avr': 21, 'annular': 105, 'la': 229, 'portabl': 784, 'trivial': 171, 'ray': 232, 'fascicular': 52, 'pre': 229, 'cavoatri': 115, 'data': 553, 'hypertrophi': 176, 'unchang': 787, 'present': 850, 'region': 402, 'pneumothorax': 545, 'silhouett': 382, 'endocard': 96, 'block': 184, 'exist': 128, 'end': 273, 'echocardiographi': 18, 'rate': 660, 'radiograph': 592, 'complet': 524, 'ap': 749, 'recommend': 407, 'similar': 264, 'diseas': 456, 'symmetr': 305, 'coexist': 12, 'appear': 821, 'best': 84, 'thre': 2, 'pad': 83, 'transesophag': 14, 'chest': 929, 'hodgkin': 7, 'stabil': 107, 'suboptim': 149, 'mvp': 100, 'like': 713, 'mat': 12, 'man': 516, 'space': 191, 'function': 452, 'atrial': 417, 'biventricular': 75, 'decis': 169, 'suprastern': 4, 'borderlin': 221, 'preserv': 124, 'prosthesi': 32, 'implic': 42, 'lvh': 100, 'supraventricular': 24, 'multifoc': 226, 'aha': 44, 'calcif': 325, 'cm': 604, 'bioprosthet': 15, 'diamet': 242, 'promin': 349, 'contract': 104, 'lymphoma': 24, 'fibril': 200, 'extens': 304, 'lvef': 277, 'ascend': 203, 'though': 361, 'nd': 228, 'geet': 1, 'becom': 246, 'let': 61, \"n't\": 160, 'acid': 241, '``': 301, 'receiv': 600, 'procedur': 497, 'retrograd': 4, 'exercis': 63, 'troubl': 33, 'earlier': 322, 'dr': 525, 'agress': 31, 'deminish': 20, 'secreion': 2, 'lip': 114, 'translat': 34, 'secretiona': 1, 'bilat': 330, 'us': 224, 'stat': 54, 'dorsal': 6, 'supin': 248, 'problem': 215, 'pill': 125, 'infus': 422, 'set': 565, 'seet': 1, 'understand': 138, 'lower': 759, 'respir': 103, 'check': 469, 'deceas': 5, 'suct': 55, 'anesthesia': 154, 'make': 313, 'track': 126, 'superior': 203, 'round': 273, 'reflex': 92, 'susp': 7, 'becam': 237, 'rn': 336, 'blue': 29, 'wide': 115, 'transpar': 20, 'fusion': 27, 'voic': 230, 'found': 314, 'mtg': 27, 'attempt': 390, 'switch': 178, 'wob': 77, 'section': 259, 'fluse': 2, 'dual': 47, 'tegaderm': 25, 'tidal': 131, 'restart': 341, 'extern': 41, 'rig': 1, 'oclock': 1, 'period': 245, 'identifi': 380, 'fib': 137, 'monday': 106, 'central': 380, 'nonspecif': 107, 'sourc': 255, 'comfort': 410, 'co': 372, 'son': 263, 'issu': 279, 'alb': 123, 'treatment': 356, 'dopa': 17, 'secur': 158, 'stenosi': 265, 'proxim': 172, 'put': 232, 'oper': 72, 'alreadi': 99, 'awak': 330, 'therapist': 52, 'wheez': 400, 'respons': 548, 'measur': 348, 'recent': 559, 'maneuv': 43, 'oxygen': 321, 'perrla': 80, 'dim': 162, 'quad': 54, 'spong': 14, 'venodyn': 21, 'anxiou': 228, 'lumen': 246, 'lo': 153, 'duoderm': 69, 'ten': 15, 'spike': 154, 'gag': 169, 'stock': 6, 'improv': 754, 'multipodu': 25, 'autocorrect': 2, 'carri': 12, 'semi': 128, 'point': 265, 'difficult': 376, 'object': 247, 'trend': 289, 'vbg': 50, 'siginificantli': 2, 'staff': 148, 'inlin': 11, 'mode': 200, 'obey': 35, 'pump': 54, 'pale': 149, 'colac': 156, 'order': 557, 'vanco': 386, 'held': 307, 'hco': 49, 'compens': 62, 'perform': 535, 'whole': 73, 'sediment': 109, 'pmv': 90, 'avail': 324, 'disscuss': 5, 'address': 100, 'letharg': 171, 'cdi': 36, 'venou': 360, 'seem': 264, 'flatu': 97, 'statlock': 25, 'brush': 8, 'confirm': 334, 'approxim': 245, 'irrig': 34, 'psv': 227, 'desatur': 160, 'b': 448, 'inflat': 42, 'extremeti': 49, 'sch': 100, 'basil': 114, 'integr': 112, 'insomnia': 24, 'yellowish': 43, 'return': 305, 'doe': 546, 'male': 344, \"'d\": 324, 'drastic': 3, 'exit': 18, 'paus': 27, 'douderm': 9, 'withou': 2, 'brown': 254, 'rilutek': 1, 'appropri': 416, 'carevu': 225, 'trazadon': 33, 'care': 655, 'tk': 3, 'tingl': 51, 'intravascular': 20, 'remaind': 170, 'depriv': 6, 'infiltr': 541, 'friday': 50, 'three': 173, 'discuss': 451, 'perrl': 275, 'posit': 668, 'pulm': 351, 'longer': 184, 'mcg': 253, 'trach': 147, 'center': 45, 'avl': 23, 'transport': 138, 'facil': 120, 'develop': 323, 'maintain': 450, 'yankeur': 27, 'got': 141, 'lift': 104, 'simpl': 337, 'goal': 394, 'nova': 4, 'suction': 336, 'peripher': 475, 'cvbg': 1, 'motrin': 30, 'anatomi': 19, 'awok': 37, 'poorli': 78, 'run': 189, 'increa': 7, 'known': 421, 'asynchron': 4, 'seal': 71, 'midodrin': 5, 'spont': 102, 'softli': 73, 'flush': 219, 'relief': 135, 'advanc': 379, 'paplabl': 2, 'plam': 2, 'aspir': 466, 'bronchodil': 74, 'intermitt': 268, 'button': 18, 'neck': 249, 'spontan': 273, 'verifi': 40, 'muscl': 224, 'fluor': 17, 'get': 420, 'via': 514, 'longterm': 10, 'east': 20, 'almost': 92, 'altern': 118, 'abg': 507, 'mandatori': 2, 'ultrasound': 268, 'cd': 90, 'brisk': 102, 'clot': 149, 'sore': 72, 'remeron': 6, 'oligur': 19, 'venipunctur': 12, 'cent': 26, 'mv': 84, 'aggress': 197, 'risk': 270, 'flouroscop': 11, 'mechan': 187, 'rash': 251, 'tenaci': 27, 'word': 126, 'waken': 8, 'drainag': 198, 'immobl': 14, 'oriet': 1, 'novac': 1, 'intial': 21, 'realli': 42, 'speek': 3, 'vancomycin': 277, 'anxieti': 195, 'acut': 596, 'head': 442, 'employ': 22, 'universla': 1, 'two': 358, 'spo': 438, 'notifi': 191, 'touch': 121, 'rhoncher': 45, 'ivb': 16, 'apap': 12, 'criteria': 102, 'unless': 71, 'turn': 341, 'medecin': 1, 'nap': 83, 'question': 455, 'sheet': 117, 'done': 488, 'tracheostomi': 149, 'next': 280, 'pneomoboot': 1, 'flang': 10, 'undisturb': 7, 'repond': 7, 'portex': 61, 'cava': 109, 'movement': 416, 'addit': 540, 'bell': 21, 'nif': 20, 'afternoon': 351, 'someth': 44, 'reciev': 132, 'occlud': 24, 'support': 581, 'sc': 207, 'prbc': 109, 'medial': 100, 'thin': 336, 'spit': 24, 'mainli': 21, 'extrem': 567, 'whez': 4, 'english': 49, 'rhonchi': 250, 'desat': 268, 'clog': 19, 'immedi': 198, 'remark': 57, 'normalizes': 1, 'achiev': 70, 'supervis': 168, 'prn': 458, 'arm': 304, 'centr': 2, 'befor': 291, 'neuromuscular': 12, 'control': 466, 'convers': 130, 'pna': 714, 'work': 288, 'collar': 72, 'freq': 159, 'bed': 499, 'ac': 212, 'recov': 98, 'even': 400, 'becaus': 176, 'aerat': 206, 'toller': 20, 'await': 347, 'asept': 7, 'includ': 524, 'ani': 515, 'ventil': 296, 'feet': 117, 'acidosi': 109, 'mod': 258, 'ketoconazol': 2, 'map': 260, 'room': 257, 'cmv': 104, 'precaut': 434, 'bolus': 252, 'emg': 10, 'ms': 303, 'commun': 446, 'residu': 355, 'selding': 4, 'post': 566, 'repeat': 425, 'sbp': 421, 'overlaid': 2, 'qs': 69, 'ted': 4, \"''\": 265, 'sicu': 119, 'min': 512, 'modifi': 18, 'trial': 194, 'effici': 1, 'compress': 255, 'draw': 147, 'tri': 262, 'tol': 263, 'brufen': 1, 'hemo': 15, 'prognosi': 68, 'dopamin': 23, 'overbreath': 63, 'needl': 93, 'hour': 579, 'burst': 25, 'cmh': 154, 'guid': 141, 'assess': 739, 'scant': 164, 'rua': 7, 'light': 178, 'uncomfort': 83, 'bm': 396, 'cardovascular': 1, 'tomorrow': 297, 'asleep': 143, 'replct': 85, 'neruo': 8, 'brief': 121, 'static': 20, 'tip': 500, 'describ': 182, 'frustrat': 34, 'chngd': 1, 'nbp': 135, 'albuterol': 288, 'top': 111, 'respeat': 1, 'afer': 2, 'vt': 213, \"o'clock\": 4, 'descript': 45, 'vein': 357, 'keep': 346, 'meropenum': 32, 'effort': 126, 'wasreat': 1, 'pp': 79, 'approp': 26, 'gd': 31, 'subclavian': 216, 'seveal': 1, 'approx': 210, 'pedi': 38, 'forearm': 53, 'distend': 389, 'ph': 146, 'rsbi': 210, 'read': 395, 'tf': 441, 'distal': 317, 'tan': 230, 'devic': 416, 'art': 69, 'happi': 27, 'go': 301, 'fill': 190, 'less': 470, 'nuten': 2, 'deliv': 16, 'encount': 5, 'scv': 7, 'long': 255, 'previous': 317, 'breathsound': 29, 'dispo': 203, 'often': 60, 'worsen': 516, 'heal': 103, 'granddaught': 11, 'yankour': 4, 'notiifi': 1, 'ask': 258, 'pinkish': 12, 'determin': 184, 'th': 93, 'ahead': 7, 'intub': 412, 'vss': 153, 'ij': 205, 'dc': 216, 'placment': 105, 'satisfactori': 104, 'vari': 55, 'evaul': 2, 'patch': 109, 'rotat': 113, 'drop': 382, 'pmicu': 49, 'anti': 92, 'feed': 327, 'hi': 483, 'drain': 586, 'ativan': 185, 'tripl': 94, 'rm': 24, 'laminectomi': 15, 'hold': 385, 'length': 142, 'respi': 8, 'equal': 147, 'yo': 382, 'mani': 102, 'prefer': 58, 'respect': 62, 'alarm': 102, 'teen': 128, 'punctur': 74, 'disharg': 1, 'foot': 70, 'nt': 257, 'caudal': 10, 'breakdown': 132, 'hypercarbia': 42, 'sr': 467, 'accordingli': 58, 'pick': 72, 'nose': 232, 'hemmodynam': 1, 'spinal': 64, 'water': 234, 'sx': 214, 'mostli': 167, 'cvp': 175, 'vs': 423, 'xylocain': 1, 'reach': 116, 'svt': 57, 'intent': 14, 'pillow': 54, 'simv': 24, 'fashion': 84, 'buzzer': 1, 'max': 262, 'capac': 50, \"'\": 157, 'complain': 113, 'red': 186, 'nsr': 348, 'buffer': 10, 'ir': 109, 'wife': 173, 'later': 563, 'updat': 336, 'worn': 9, 'accept': 145, 'secrect': 17, 'vol': 125, 'intervent': 192, 'reposit': 226, 'peg': 172, 'diagnos': 84, 'sulfat': 118, 'inhal': 138, 'titrat': 228, 'made': 523, 'timeout': 88, 'rang': 295, 'dist': 21, 'slept': 219, 'wear': 111, 'sigh': 6, 'tlc': 95, 'hd': 105, 'look': 208, 'ring': 35, 'open': 285, 'moment': 19, 'guidanc': 148, 'guidewir': 81, 'screen': 158, 'fio': 469, 'week': 276, 'plct': 92, 'loss': 237, 'al': 12, 'insert': 216, 'latest': 305, 'fentanyl': 201, 'nh': 62, '^': 93, 'sxing': 48, 'elbow': 39, 'resolv': 398, '<': 316, 'vvg': 1, 'weaker': 16, 'mouth': 284, 'abduct': 6, 'still': 454, 'unit': 326, 'noc': 143, 'vent': 279, 'everi': 102, 'posb': 1, 'warm': 349, 'sxed': 5, 'rehab': 252, 'secr': 11, 'apnea': 92, 'awar': 377, 'second': 167, 'well': 813, 'mip': 9, 'tlcl': 34, 'tabl': 70, 'complaint': 359, 'respiratori': 647, 'awaken': 49, 'analysi': 100, 'perl': 74, 'nutren': 76, 'tonight': 204, 'tourniquet': 3, 'short': 436, 'arous': 232, 'soon': 100, 'respond': 399, 'thk': 21, 'boot': 212, 'know': 138, 'tender': 386, 'setret': 1, 'local': 197, 'wait': 111, 'leg': 228, 'cpap': 253, 'refus': 152, 'dress': 237, 'cpt': 219, 'wake': 125, 'ot': 82, 'apex': 132, 'cervic': 161, 'mso': 43, 'abp': 83, 'volum': 491, 'icu': 479, 'whit': 2, 'fairli': 113, 'approach': 93, 'tylenol': 257, 'mdi': 177, 'blb': 27, 'bb': 113, 'reassess': 86, 'htn': 287, 'morphin': 169, 'howev': 495, 'usual': 187, 'pink': 147, 'discharg': 228, 'careview': 109, 'meropenem': 64, 'lidocain': 128, 'readi': 203, 'dure': 460, 'requisit': 6, 'complic': 317, 'certain': 15, 'angiographi': 45, 'drape': 85, 'axilla': 41, 'suitabl': 25, 'drawn': 192, 'wean': 491, 'drift': 34, 'wnl': 343, 'episod': 346, 'lavag': 65, 'blister': 47, 'send': 168, 'cuff': 198, 'transient': 137, 'speak': 228, 'transfus': 154, 'mucu': 59, 'speech': 262, 'appli': 289, 'hct': 498, 'french': 108, 'ulcer': 355, \"pt'\": 13, 'ambu': 33, 'ascertain': 8, 'manag': 351, 'ltc': 3, 'chines': 10, 'deep': 303, 'cines': 1, 'reduc': 183, 'ess': 13, 'encourag': 329, 'flowsheet': 440, 'grimac': 67, 'given': 728, 'splint': 25, 'diminsh': 54, 'exp': 195, 'bag': 116, 'cl': 78, 'apneic': 38, 'tube': 539, 'abov': 556, 'special': 19, 'hydrat': 110, 'toilet': 252, 'air': 485, 'prolong': 208, 'visit': 322, 'schedul': 169, 'ibuprofen': 27, 'lg': 141, 'easili': 236, 'rhonchor': 169, 'va': 72, 'bolu': 354, 'case': 176, 'onli': 469, 'unev': 109, 'tent': 181, 'close': 327, 'q': 552, 'thigh': 67, 'clean': 122, 'puff': 33, 'chronic': 454, 'occlus': 65, 'sl': 147, 'briefli': 131, 'eye': 367, 'lamonectomi': 1, 'rue': 67, 'excess': 39, 'posiiton': 1, 'ortho': 18, 'minut': 338, 'lami': 3, 'lowest': 18, 'bump': 58, 'servic': 395, 'detail': 278, 'tailor': 55, 'distress': 453, 'meet': 188, 'insicion': 1, 'onto': 45, 'success': 213, 'doubl': 117, 'peep': 262, 'past': 361, 'incont': 34, 'sedat': 322, 'mae': 304, 'j': 68, 'lido': 12, 'prep': 110, 'scat': 6, 'hand': 216, 'move': 380, 'labil': 85, 'alter': 200, 'written': 115, 'abras': 70, 'lobe': 666, 'fellow': 92, 'impair': 187, \"tf'ing\": 10, 'gap': 37, 'cath': 293, 'rul': 166, 'except': 435, 'mmv': 28, 'redden': 99, 'vena': 111, 'oral': 456, 'ronchi': 43, 'morn': 372, 'incid': 117, 'ho': 139, 'somnul': 7, 'breakfast': 51, 'ecchymot': 31, 'junki': 11, 'humalog': 68, 'diuresi': 237, 'toerat': 2, 'littl': 291, 'ml': 469, 'food': 165, 'cad': 183, 'pulmicort': 2, 'quantiti': 28, 'distinct': 55, 'grossli': 233, 'azithro': 69, 'extend': 226, 'transferd': 2, 'ceftaz': 29, 'hygien': 78, 'alin': 139, 'symptom': 193, 'consolid': 531, 'trachea': 89, 'graviti': 72, 'pace': 88, 'rais': 193, 'independ': 101, 'hypokinet': 13, 'coverag': 305, 'follw': 17, 'aox': 42, 'imposs': 13, 'angl': 150, 'suffici': 24, 'mist': 61, 'ivhl': 1, 'perihilar': 140, 'rail': 41, 'cool': 240, 'cover': 265, 'tid': 230, 'heparin': 384, 'rll': 286, 'ad': 199, 'expans': 216, 'nice': 14, 'slight': 322, 'replac': 257, 'ro': 267, 'degre': 217, 'pul': 37, 'soc': 54, 'belli': 48, 'say': 105, 'posterior': 248, 'pnding': 30, 'precept': 9, 'pmr': 2, 'nc': 470, 'av': 62, 'lyte': 351, 'forward': 51, 'mask': 348, 'fit': 30, 'vi': 40, 'diures': 214, 'mll': 2, 'ladi': 17, 'congest': 386, 'svc': 351, 'termin': 302, 'somewhat': 270, 'pupil': 182, 'flow': 542, 'eff': 15, 'nasal': 376, 'floor': 534, 'tdo': 1, 'come': 190, 'enc': 66, 'stimul': 136, 'expiratori': 107, 'attribut': 73, 'rx': 172, 'info': 49, 'enough': 84, 'sit': 184, 'radial': 379, 'db': 113, 'mn': 168, 'seizur': 118, 'diur': 5, 'ptscurrent': 1, 'lpm': 85, 'either': 173, 'strong': 240, 'deliveri': 325, 'neb': 418, 'wire': 206, 'smaller': 102, 'atrov': 231, 'nonproduct': 87, 'ting': 174, 'basal': 162, 'yet': 183, 'costophren': 144, 'rec': 251, 'infect': 448, 'lib': 7, 'nippv': 21, 'insp': 355, 'demonstr': 423, 'thorac': 266, 'refil': 26, 'k': 519, 'septal': 160, 'thirsti': 26, 'answer': 189, 'vomit': 139, 'face': 294, 'pacemak': 71, 'pulmocort': 2, 'despit': 214, 'conjest': 3, 'humidif': 10, 'fact': 28, 'obes': 179, 'safeti': 144, 'deficit': 99, 'lock': 45, 'ss': 139, 'activ': 380, 'pnx': 42, 'diet': 478, 'lnc': 109, 'verbal': 298, 'capillari': 17, 'onrt': 2, 'swallow': 310, 'project': 211, 'csm': 31, 'precis': 15, 'lopressor': 220, 'regardless': 13, 'levoph': 87, 'unproduct': 10, 'occsion': 1, 'ln': 20, 'nvd': 6, 'cabg': 71, 'wheezez': 3, 'contninu': 4, 'poc': 121, 'endo': 198, 'riss': 157, 'ie': 30, 'lat': 244, 'midlin': 211, 'therefor': 121, 'followup': 179, 'differ': 294, 'afeb': 72, 'viger': 4, 'bile': 60, 'curv': 133, 'tact': 14, 'thousand': 1, 'insist': 16, 'accord': 90, 'form': 209, 'oxycontin': 22, 'defer': 107, 'addendum': 341, 'supervisor': 5, 'rogor': 1, 'phonecal': 2, 'spoke': 198, 'tat': 1, 'therapeut': 114, 'brother': 61, 'depend': 237, 'hx': 379, 'valu': 156, 'awhil': 3, 'sister': 90, 'lay': 28, 'provid': 452, 'dx': 127, 'instead': 52, 'ed': 321, 'myelopdysplasia': 1, 'ekg': 291, 'would': 461, 'kcl': 185, 'mor': 1, 'came': 170, 'ago': 234, 'stress': 328, 'osh': 91, 'gave': 115, 'condom': 15, 'urgent': 12, 'fax': 22, 'plt': 321, 'bank': 16, 'nebh': 2, 'risperidon': 3, 'eval': 587, 'band': 119, 'meq': 440, 'explain': 188, 'transferredback': 1, 'piv': 327, 'vano': 3, 'ama': 7, 'suppos': 15, 'flownot': 18, 'want': 267, 'levoflox': 112, 'father': 62, 'taken': 195, 'upset': 32, 'e': 279, 'film': 227, 'bite': 76, 'mentat': 55, 'appar': 222, 'amnt': 23, 'clonazepam': 21, 'significantli': 214, 'settl': 84, 'brachial': 136, 'gold': 16, 'fent': 119, 'globe': 6, 'occ': 206, 'sxn': 107, 'zone': 161, 'intab': 1, 'ye': 132, 'nonlabor': 20, 'pn': 11, 'dowm': 1, 'troponin': 205, 'embolu': 38, 'intercurr': 2, 'begun': 37, 'toll': 4, 'alseep': 1, 'gastric': 83, 'thing': 46, 'pneumomediastinum': 16, 'cell': 240, 'acquir': 258, 'sensit': 102, 'stalk': 1, 'lsubclavian': 1, 'contigu': 77, 'didnt': 3, 'wheelchair': 20, 'incrreas': 1, 'cup': 38, 'flagyl': 162, 'wz': 1, 'interven': 18, 'sinus': 126, 'maxillari': 41, 'dp': 337, 'hilar': 256, 'theraput': 8, 'clostroph': 1, 'antivir': 9, 'stomach': 251, 'portion': 457, 'acidoi': 1, 'idea': 14, 'ng': 452, 'bow': 4, 'arriv': 234, 'ivp': 164, 'said': 85, 'opt': 15, 'lymph': 347, 'fragil': 25, 'parenchyma': 88, 'restraint': 164, 'hiflow': 18, 'alot': 25, 'impos': 2, 'compat': 93, 'yelow': 5, 'disori': 49, 'reassur': 87, 'cannula': 330, 'discourag': 7, 'vers': 166, 'kvo': 81, 'dissect': 40, 'antimicrobi': 35, 'liq': 59, 'tend': 30, 'cortic': 39, 'xray': 102, 'allergi': 376, 'appeart': 1, 'antrum': 22, 'hospit': 311, 'hypox': 136, 'confluent': 78, 'opacif': 310, 'void': 163, 'forget': 31, 'heterogen': 81, 'transmitr': 14, 'pretti': 12, 'psychosoc': 3, 'coop': 12, 'carina': 199, 'densiti': 197, 'ischem': 112, 'fld': 33, 'sulci': 67, 'degrad': 12, 'mastoid': 77, 'bear': 34, 'wash': 66, 'smear': 58, 'lie': 127, 'haldol': 106, 'fentynl': 6, 'whitish': 55, 'g': 447, 'defect': 156, 'begin': 175, 'sentenc': 41, 'incr': 44, 'narcot': 47, 'cahng': 4, 'mediastin': 410, 'bil': 134, 'node': 217, 'fen': 239, 'arteriosu': 4, 'perivascular': 9, 'chart': 118, 'fair': 143, 'foci': 70, 'tree': 55, 'thereaft': 17, 'markedli': 117, 'walk': 94, 'associ': 265, 'cortex': 17, 'pituitari': 3, 'calmer': 23, 'ductu': 4, 'home': 498, 'reintub': 64, 'thrush': 42, 'drip': 165, 'stinul': 1, 'self': 210, 'venturi': 5, 'instruct': 67, 'brachiocephal': 70, 'gpc': 67, 'opportunist': 9, 'rebreath': 48, 'chain': 21, 'cp': 192, 'srr': 26, 'understandingli': 1, 'csf': 28, 'deleri': 10, 'occur': 121, 'easi': 38, 'pull': 293, 'rise': 136, 'hyperintens': 29, 'lue': 69, 'dvt': 402, 'mobil': 121, 'flat': 131, 'pe': 219, 'extuat': 2, 'extub': 264, 'extubat': 9, 'ngt': 177, 'optiray': 186, 'intraocular': 1, 'auscult': 101, 'hous': 119, 'scatter': 209, 'outflow': 17, 'req': 42, 'venti': 37, 'crise': 1, 'quiet': 93, 'becm': 1, 'decent': 9, 'direct': 171, 'intens': 41, 'cci': 10, 'agit': 275, 'nrb': 156, 'mainten': 50, 'person': 185, 'talk': 190, 'vessel': 193, 'phm': 2, 'gtt': 303, 'interstiti': 236, 'phone': 204, \"c'ed\": 65, 'nemb': 4, 'quickli': 136, 'laryng': 81, 'paranas': 66, 'reformat': 135, 'cephal': 74, 'flair': 30, 'factor': 68, 'super': 10, 'inf': 20, 'opacifi': 46, 'restless': 124, 'expir': 33, 'embol': 123, 'wind': 3, 'divid': 27, 'superimpos': 144, 'exert': 110, 'quit': 125, 'remin': 3, 'tape': 57, 'cre': 26, 'half': 68, 'pair': 45, 'unawar': 11, 'gelatin': 4, 'nystatin': 65, 'ect': 14, 'bleed': 276, 'nrm': 4, 'branch': 156, 'sec': 84, 'peak': 77, 'discret': 51, 'cerebr': 50, 'aspect': 134, 'nervou': 18, 'consider': 90, 'na': 170, 'np': 138, 'hypoxia': 337, 'visual': 394, 'apologet': 1, 'tract': 80, 'extremi': 1, 'hardcopi': 3, 'recon': 78, 'ett': 235, 'apropri': 7, 'bath': 86, 'immprov': 1, 'cyanot': 15, 'sbt': 134, 'inferior': 192, 'deceller': 1, 'went': 156, 'diarrhea': 171, 'visitor': 67, 'ck': 216, 'mech': 47, 'root': 118, 'infarc': 2, 'closer': 32, 'bun': 401, 'mediastinum': 145, 'metropolol': 4, 'antra': 1, 'spastic': 8, 'calm': 144, 'conitnu': 14, 'ionic': 31, 'main': 149, 'catheeer': 1, 'shortli': 55, 'matter': 78, 'inappropri': 27, 'ptt': 312, 'fall': 190, 'upright': 327, 'minimum': 16, 'endotrach': 252, 'thru': 63, 'reg': 122, 'lsc': 24, 'autodiures': 43, 'liter': 278, 'ice': 116, 'rousabl': 10, 'hyponatremia': 50, 'iii': 43, 'tranfer': 15, 'sd': 13, 'slowli': 187, 'ext': 313, 'wrist': 140, 'axillari': 199, 'hrr': 2, 'began': 77, 'et': 191, 'sporad': 5, 'wbc': 531, 'anox': 8, 'lessen': 16, 'impend': 16, 'overal': 348, 'dipso': 1, 'write': 49, 'lisinopril': 86, 'blunt': 94, 'gentleman': 37, 'partner': 10, 'think': 109, 'fs': 174, 'cystic': 41, 'suscept': 22, 'contour': 323, 'tachypn': 200, 'ogt': 114, 'escal': 31, 'decr': 30, 'obstruct': 280, 'faint': 59, 'restrain': 66, 'arch': 126, 'propofol': 113, 'tocycl': 1, 'roll': 61, 'pneumon': 106, 'unilat': 70, 'cut': 51, 'brain': 105, 'fluffi': 5, 'widespread': 62, 'midaz': 37, 'detect': 94, 'sxted': 8, 'subsegment': 80, 'sop': 2, 'turgor': 5, 'electrolyt': 185, 'situat': 80, 'palp': 80, 'cn': 95, 'endoc': 25, 'multiplanar': 124, 'msicu': 16, 'propafol': 8, 'sleepi': 59, 'precipit': 28, 'pao': 155, 'mi': 119, 'choroid': 1, 'enhanc': 123, 'rvfx': 1, 'obscur': 159, 'rad': 59, 'amd': 14, 'bipap': 126, 'angio': 42, 'subsequ': 181, 'cultur': 432, 'remind': 52, 'roommat': 3, 'promot': 56, 'ua': 147, 'rpt': 23, 'coug': 5, 'nod': 135, 'appreci': 271, 'helic': 51, 'sinl': 1, 'autodiresi': 1, 'relax': 68, 'fo': 35, 'chip': 82, 'cta': 310, 'thruout': 5, 'increasingli': 82, 'subtl': 66, 'gaug': 311, 'pancultur': 15, 'amplatz': 16, 'entir': 152, 'attain': 12, 'inh': 20, 'brownish': 23, 'inner': 70, 'locat': 288, 'guaiac': 97, 'resettl': 1, 'pleaw': 1, 'bllo': 1, 'proceedur': 7, 'inr': 320, 'preliminari': 76, 'soundli': 9, 'microvascular': 24, 'enter': 258, 'hemorrhag': 175, 'fic': 5, 'heme': 205, 'opaqu': 10, 'routin': 118, \"sxn'ing\": 14, 'anticip': 116, 'massachusett': 1, 'glidewir': 13, 'basic': 40, 'chage': 2, 'enuf': 1, 'sphenoid': 38, 'strip': 18, 'grandson': 12, 'qlc': 3, 'permiss': 3, 'resutur': 2, 'pyloru': 15, 'experi': 29, 'actual': 44, 'stop': 270, 'dsg': 114, 'tini': 97, 'consistantli': 29, 'errythem': 1, 'guaic': 35, 'transaminas': 11, 'first': 206, 'durng': 1, 'ultimatli': 1, 'pac': 106, 'decompress': 38, 'btw': 5, 'serial': 105, 'antibx': 137, 'total': 457, 'cribriform': 6, 'sometim': 66, 'ectop': 24, 'patholog': 210, 'li': 19, 'applic': 43, 'redress': 15, 'pro': 15, 'cancer': 140, 'clearli': 91, 'vagu': 21, 'jejunum': 28, 'give': 265, 'sutur': 80, 'reveal': 192, 'name': 129, 'hung': 14, 'occassion': 46, 'excret': 38, 'stand': 239, 'skull': 21, 'dimish': 22, 'hst': 1, 'mesenteri': 17, 'sulcu': 22, 'airat': 3, 'vigor': 45, 'tachpnia': 1, 'purul': 33, 'least': 142, 'vertex': 12, 'squeez': 48, 'exhibit': 33, 'occat': 25, 'healthi': 66, 'dtr': 64, 'tranfus': 8, 'frequenc': 70, 'apic': 181, 'reglan': 44, 'hepat': 125, 'combin': 136, 'gastrojejunostomi': 22, 'valium': 27, 'youvil': 1, 'gastr': 1, 'gj': 21, 'gain': 39, 'stiff': 44, 'particular': 24, 'believ': 44, 'plmt': 17, 'nasogastr': 182, 'pelvic': 96, 'sheath': 121, 'hypopharynx': 6, 'rectal': 150, 'rectum': 96, 'mushroom': 54, 'shut': 55, 'cardiomediastin': 249, 'mpa': 2, 'fr': 33, 'twice': 77, 'duodenum': 51, 'overnoc': 135, 'parenchym': 224, 'radiologist': 137, 'beneath': 20, 'orogastr': 26, 'tachypnea': 195, 'iron': 56, 'apc': 28, 'dampen': 46, 'kept': 97, 'cs': 15, 'cream': 149, 'reliev': 67, 'serosanguin': 30, 'middl': 208, 'email': 18, 'erythromycin': 32, 'papyracea': 6, 'spare': 35, 'percocet': 59, 'ivab': 20, 'inject': 108, 'promod': 7, 'outpt': 56, 'rij': 75, 'vecuronium': 10, 'reslt': 4, 'inguin': 64, 'intern': 286, 'udat': 1, 'slide': 261, 'rom': 76, 'vessicl': 2, 'og': 131, 'fri': 113, 'away': 115, 'alon': 85, 'hydrocephalu': 33, 'lr': 50, 'tachypneia': 2, 'througout': 7, 'normoglycem': 10, 'especi': 109, 'cuf': 40, 'four': 102, 'hydrocortison': 18, 'uop': 225, 'consciou': 14, 'expect': 120, 'migrat': 17, 'hypercapnea': 9, 'metal': 36, 'rmain': 2, 'yeterday': 2, 'sodium': 338, 'noon': 113, 'mucomyst': 31, 'prompt': 20, 'oro': 2, 'peribronchi': 36, 'mucos': 51, 'sterili': 1, 'lc': 13, 'purpos': 177, 'normotens': 59, 'prostat': 68, 'itchi': 16, 'qtt': 13, 'retrocard': 3, 'target': 40, 'anemia': 216, 'reduct': 72, 'reactiv': 150, 'steroid': 173, \"ct'\": 1, 'fluter': 1, 'content': 38, 'subject': 147, 'nm': 9, 'underneath': 6, 'squamou': 20, 'exrem': 3, 'uneven': 1, 'thank': 135, 'extravas': 16, 'intuabt': 8, 'nephew': 19, 'accuraci': 13, 'jugular': 200, 'plate': 26, 'drug': 244, 'excel': 88, 'fluoroscopi': 45, 'swollen': 52, 'pharnyx': 1, 'shot': 19, 'ssi': 91, 'benadryl': 27, 'ceftriaxon': 176, 'obviou': 93, 'vascular': 500, 'recruit': 18, 'peelaway': 1, 'derm': 50, 'slow': 202, 'cholecyst': 56, 'reportedli': 74, 'reccomend': 7, 'eventu': 91, 'highli': 42, 'cva': 109, 'intraven': 237, 'plcmt': 15, 'tvol': 6, 'recheck': 171, 'sxtn': 20, 'perc': 52, 'shiley': 14, 'diaphoret': 119, 'tuberos': 6, 'lactulos': 85, 'brachycephal': 3, 'anyth': 59, 'upon': 206, 'passiv': 35, 'log': 7, 'lamina': 8, 'birthday': 6, 'materi': 108, 'cyst': 126, 'teach': 27, '^^': 20, 'shoulder': 85, 'ca': 420, 'clr': 25, 'destruct': 40, 'gallston': 46, 'slighlti': 8, 'toward': 124, 'vial': 3, 'ethmoid': 39, 'fecal': 54, 'mucousi': 6, 'amen': 19, 'regim': 63, 'fell': 74, 'nonrespons': 9, 'angiograph': 25, 'penia': 1, 'bit': 70, 'buttock': 115, 'adenopathi': 115, 'pariet': 23, 'urinari': 149, 'febril': 154, 'hang': 10, 'fetanyl': 1, 'eyelid': 5, 'expector': 173, 'ip': 101, 'edemat': 76, 'collaps': 169, 'sput': 53, 'peel': 88, 'dermat': 17, 'fb': 39, 'qtc': 49, 'init': 27, 'exchang': 94, 'diaphragm': 143, 'connect': 27, 'coil': 50, 'perm': 6, 'consciouti': 2, 'flexitrack': 1, 'intervascularli': 2, 'trigger': 125, 'abreast': 8, 'steril': 151, 'pronounc': 72, 'pulmnari': 1, 'stransfus': 1, 'massag': 6, 'ent': 24, 'clinoid': 5, 'tracheotomi': 19, 'beom': 2, 'percutan': 52, 'cope': 49, 'thickish': 4, 'fulli': 165, 'reform': 89, 'scleraedema': 1, 'blink': 17, 'tonoc': 16, 'directli': 23, 'meical': 1, 'intracrani': 107, 'prolen': 6, 'mening': 25, 'along': 231, 'extra': 123, 'alkalosi': 76, 'late': 120, 'entri': 32, 'page': 199, 'bronchial': 182, 'noontim': 15, 'emot': 160, '^^rate': 1, 'potassium': 341, 'hydronephrosi': 90, 'bodi': 315, 'incontin': 89, 'eight': 16, 'mental': 268, 'met': 153, 'vue': 22, 'ge': 31, 'tbe': 2, 'tannish': 28, 'basi': 37, 'newli': 148, 'powder': 65, 'nursi': 1, 'necessari': 115, 'flutter': 68, 'taper': 123, 'ear': 232, 'stimulu': 24, 'tl': 18, 'angiopathi': 2, 'bl': 58, 'spur': 12, 'overli': 149, 'til': 22, 'daili': 384, 'desir': 72, 'specimen': 74, 'notic': 43, 'risb': 12, 'nure': 2, 'flaccid': 14, 'criticar': 5, 'highest': 8, 'replet': 384, 'visibl': 102, 'adquat': 6, 'fine': 101, 'sigmoid': 74, 'redd': 10, 'offer': 111, 'wakeful': 2, 'unrespons': 94, 'prelim': 45, 'resum': 156, 'afrin': 5, 'acetaminophen': 84, 'topic': 39, 'microg': 1, 'ftb': 1, 'attend': 414, 'lose': 12, 'inconsist': 70, 'member': 96, 'cadiomediastin': 1, 'overview': 2, 'canula': 35, 'essenti': 156, 'hydrocort': 9, 'distens': 45, 'accessori': 77, 'affix': 3, 'deploy': 16, 'board': 59, 'diuresis': 15, 'sub': 44, 'fasten': 11, 'consent': 160, 'incres': 6, 'bloodi': 117, 'true': 29, 'net': 84, 'silght': 1, 'plug': 120, 'insulin': 315, 'coincident': 1, 'stimlat': 1, 'wtih': 20, 'golden': 43, 'hl': 22, 'degen': 176, 'periventricular': 51, 'express': 102, 'scan': 258, 'thich': 5, 'siusiti': 1, 'variabl': 51, 'bld': 109, 'util': 60, 'fix': 103, 'bwn': 3, 'shiver': 5, 'letter': 9, 'fluoroscop': 135, 'labor': 121, 'tema': 1, 'vasculatur': 114, 'tactil': 33, 'inconsistantli': 16, 'norm': 5, 'anesth': 3, 'transduc': 18, 'far': 163, 'currenti': 1, 'vea': 88, 'confrim': 3, 'hazi': 106, 'character': 90, 'tachneic': 1, 'relat': 343, 'tone': 280, 'bsk': 10, 'paramed': 4, 'retroperitoneum': 11, 'tpn': 42, 'perhap': 53, 'antibot': 10, 'calcifi': 135, 'whether': 120, 'multi': 147, 'supdat': 1, 'simultan': 5, 'intervasc': 1, \"patient'\": 54, 'treitz': 13, 'penil': 8, 'respalor': 9, 'consid': 420, 'confort': 11, 'redemonstr': 41, 'isol': 65, 'gaseou': 8, 'partial': 244, 'firm': 63, 'cdiff': 88, 'regimen': 268, 'conray': 13, 'disposit': 309, 'frontal': 168, 'jejun': 9, 'pubic': 45, 'balloon': 43, 'ga': 204, 'stimuli': 238, 'hemidiaphragm': 140, 'potenti': 158, 'retro': 4, 'displac': 52, 'pej': 13, 'tubefe': 15, 'hypovolem': 35, 'thu': 120, 'scale': 317, 'loop': 145, 'pho': 232, 'entroclysi': 5, 'cardiomediastinum': 12, 'gastromi': 7, 'whose': 34, 'tomarrow': 8, 'travel': 35, 'refer': 202, 'semin': 16, 'afix': 2, 'nonion': 25, 'simethicon': 13, 'tfb': 28, 'clav': 2, 'invas': 330, 'hn': 32, 'bnp': 69, 'levothyroxin': 44, 'topomax': 1, 'rhonci': 28, 'wast': 100, 'lymphat': 112, 'ammonia': 9, 'recogn': 17, 'cardiovascular': 251, 'chlorid': 293, 'spine': 195, 'distort': 13, 'cloth': 277, 'lactulo': 1, 'lansoprazol': 51, 'cirrhosi': 44, 'aqua': 2, 'meld': 4, 'diabet': 147, 'finger': 239, 'stimata': 1, 'glycem': 306, 'sulbactam': 13, 'valuabl': 267, 'rml': 86, 'physic': 348, 'titl': 189, 'black': 38, 'normocephal': 206, 'lft': 106, 'aplmar': 1, 'tcurrent': 303, 'pertin': 298, 'ag': 58, 'equivoc': 17, 'lantu': 35, 'fa': 51, 'engorg': 91, 'ckmb': 177, 'airway': 310, 'ft': 62, 'zonisamid': 3, 'fibersourc': 33, 'encephalopath': 8, 'keppra': 15, 'chem': 29, 'debil': 6, 'beat': 158, 'ampicillin': 32, 'ing': 32, 'stage': 161, 'score': 23, 'vital': 374, 'hypothyroid': 59, 'tremor': 39, \"desat'\": 2, 'dm': 145, 'chief': 310, 'action': 328, 'resid': 345, 'conjunctiva': 191, 'erythema': 74, 'dsd': 77, 'vanc': 205, 'ppi': 222, 'contribut': 117, 'creatinin': 324, 'streaki': 14, 'nash': 5, 'prevacid': 43, 'infrahilar': 25, 'stick': 260, 'diffucult': 2, 'record': 235, 'moan': 31, 'attent': 242, 'asciti': 7, 'jewelri': 262, '{': 315, 'wallet': 256, 'particularli': 112, 'tropt': 141, 'deplet': 46, 'clonu': 8, 'wed': 112, 'demograph': 294, 'rifamixin': 1, 'wound': 133, 'glucos': 370, 'qh': 61, 'nad': 164, 'money': 264, 'pfi': 199, 'versiva': 1, 'hypernatremia': 67, 'presum': 153, 'cr': 364, 'ivc': 98, 'hematocrit': 297, 'radiolog': 352, 'configur': 63, 'asp': 90, 'mmhg': 353, 'cyu': 30, 'dz': 35, 'lnp': 36, 'throat': 267, 'cash': 262, 'superif': 2, 'coccyx': 160, 'membran': 36, 'quadrant': 128, 'hypernatrem': 22, 'reorient': 113, 'unasyn': 15, 'decubitu': 74, 'heel': 73, 'jmgw': 16, 'anticonvuls': 3, 'list': 90, 'vap': 318, 'tsh': 45, 'prescrib': 22, 'confus': 213, 'metoprolol': 166, 'cake': 2, 'transplant': 31, 'satur': 330, '}': 313, 'exacerb': 140, 'deveop': 2, 'withdrawn': 49, 'musculoskelet': 124, 'signatur': 266, 'credit': 262, 'disord': 77, 'jpg': 304, 'candid': 56, 'ul': 304, 'dentit': 74, 'pnuemonia': 19, 'kg': 385, 'provision': 192, 'rope': 2, 'neurolog': 302, 'asterixi': 9, 'dl': 353, 'card': 290, 'dysfunct': 132, 'temperatur': 302, 'cel': 1, 'somnol': 106, 'influenza': 118, 'environ': 61, 'compazin': 21, 'primari': 142, 'uncoop': 22, 'digoxin': 49, 'kcld': 3, 'redirect': 37, 'adendum': 3, 'cardiolog': 58, 'crit': 33, 'vest': 6, 'disorient': 12, 'agreeabl': 14, 'part': 148, 'modest': 49, 'must': 46, 'aspirin': 95, 'safe': 80, 'bisacodyl': 42, 'effac': 13, 'rebook': 1, 'behavior': 43, 'observ': 157, 'lll': 266, 'ntg': 43, 'thight': 3, 'audibl': 82, 'zyprexa': 59, 'deviat': 124, 'contin': 42, 'particip': 71, 'fissur': 66, 'lovenox': 23, 'nasopharyng': 9, 'sputem': 7, 'live': 189, 'docus': 57, 'syst': 18, 'rule': 234, 'ew': 85, 'reinsert': 28, 'recoveri': 62, 'loud': 72, 'apprehens': 5, 'ich': 19, 'posi': 1, 'ischemia': 164, 'dementia': 96, 'nstemi': 30, 'fsbg': 34, 'guiac': 115, 'atrophi': 41, 'levofloxacin': 227, 'climb': 64, 'bundl': 121, 'plavix': 29, 'craze': 1, 'pleasantli': 15, 'flu': 109, 'repolar': 56, 'comb': 36, 'cistern': 23, 'adl': 56, 'sitter': 36, 'droplet': 96, 'hs': 117, 'benign': 113, 'bedpan': 46, 'slower': 90, 'contiu': 10, 'nitro': 37, 'rbbb': 18, 'axi': 189, 'demand': 75, 'pharyng': 85, 'dnr': 172, 'interim': 112, 'qid': 133, 'scream': 7, 'conges': 1, 'unrestrain': 13, 'type': 251, 'wet': 338, 'complex': 90, 'firmli': 10, 'aerosol': 127, 'diuret': 66, 'isosorbid': 10, \"dc'ed\": 6, 'rale': 130, 'supplement': 178, 'redistribut': 46, 'mistaken': 3, 'agre': 321, 'adm': 126, 'enzym': 114, 'reinforc': 36, 'age': 141, 'shout': 7, 'indistinct': 44, 'bilatter': 1, 'multilobar': 35, 'superfici': 108, 'shin': 23, 'cpnt': 1, 'help': 256, 'declin': 100, 'xeroform': 3, 'ahf': 1, 'reflect': 220, 'spectrum': 83, 'ivabx': 10, 'gelfoam': 3, 'cmx': 11, 'pmd': 5, 'pc': 21, 'bronch': 140, 'kling': 3, 'hypoact': 112, 'broad': 131, 'cavit': 26, 'hemolyt': 6, 'unknown': 197, 'dni': 145, 'bacteria': 42, 'recal': 20, 'heard': 63, 'abroad': 1, 'platlet': 4, 'cellul': 25, 'mean': 59, 'mult': 50, 'smicu': 10, 'accompani': 75, 'amphotericin': 2, 'tortuou': 60, 'ooz': 65, 'thirst': 21, 'hyothyroid': 1, 'grew': 43, 'alveolar': 84, 'wednesday': 20, 'pressor': 135, 'compon': 187, 'focu': 106, 'hilum': 40, 'document': 119, 'die': 51, 'autoimmun': 10, 'wrap': 23, 'adjac': 145, 'cll': 10, \"con't\": 5, 'asymmetr': 83, 'focal': 416, 'pathogen': 37, 'por': 2, 'gauz': 34, 'readdress': 31, 'lucenc': 43, 'tacypn': 10, 'encephalopathi': 56, 'constitut': 121, 'nahco': 9, 'health': 113, 'infrequ': 22, 'sz': 26, 'conjunctiv': 54, 'saw': 280, 'medicaid': 13, 'di': 23, 'uremia': 9, 'resuscit': 95, 'neurolept': 3, 'ue': 103, 'dme': 15, 'yaunker': 11, 'spent': 275, 'decid': 109, 'kayexal': 14, 'antihypertens': 62, 'mwf': 4, 'incomprehens': 17, 'horn': 4, 'walker': 26, 'serum': 84, 'dextros': 39, 'hpi': 255, 'labetolol': 15, 'labetalol': 16, 'sluggish': 31, 'linisipril': 1, 'input': 93, 'zofran': 38, 'alkalot': 9, 'fatigu': 172, 'wit': 61, 'wane': 36, 'nail': 20, 'genitourinari': 94, 'suspect': 171, 'lithium': 4, 'hard': 137, 'delirium': 95, 'kayexel': 6, 'glucon': 37, 'hyperpotassemia': 4, 'dislodg': 13, 'evolut': 34, 'insipidu': 6, 'tox': 19, 'malign': 139, 'key': 287, 'wish': 85, 'dialysi': 97, 'deliri': 58, 'thought': 143, 'lactat': 160, 'obtund': 16, 'dialyz': 14, 'critic': 219, 'wax': 55, 'sugar': 164, 'certainli': 36, 'insur': 32, 'meantim': 12, 'emesi': 89, 'neut': 172, 'fh': 201, 'medicar': 10, 'cri': 57, 'paramet': 90, 'murmur': 212, 'uf': 176, 'leukoencephalopathi': 3, 'noth': 51, 'amp': 60, 'mono': 173, 'emerg': 81, 'levaquin': 126, 'caudat': 10, 'multidisciplinari': 37, 'ensu': 2, 'withdrew': 9, 'jvp': 77, 'penicillin': 53, 'session': 21, 'caus': 266, 'vision': 59, 'sq': 223, 'hemoconcentr': 9, 'stim': 45, 'copi': 77, 'viral': 119, 'proxi': 89, 'stone': 82, 'bring': 88, 'tempor': 27, 'experienc': 69, 'wretch': 3, 'wgt': 104, 'reson': 90, 'hemodialysi': 36, 'complianc': 80, 'crisi': 11, 'eo': 175, 'nourish': 150, 'unclear': 243, 'hosp': 35, 'admin': 52, 'dilantin': 20, 'proport': 7, 'referr': 69, 'differenti': 275, 'senior': 9, 'hcp': 128, 'proper': 52, 'blurri': 47, 'paranoia': 5, 'standard': 210, 'psychiatr': 89, 'happen': 44, 'calcium': 157, 'esrd': 48, 'dialys': 6, 'bipolar': 20, 'miss': 48, 'cardiopulmonari': 39, 'epilepticu': 8, 'percuss': 117, 'gm': 155, 'rapid': 189, 'life': 27, 'lacun': 6, 'withdraw': 127, 'doubt': 49, 'correct': 99, 'univers': 12, 'neuron': 15, 'interdisciplinari': 89, 'retch': 2, 'thrust': 2, 'conserv': 20, 'hyperkalemia': 31, 'inch': 222, 'pngt': 7, 'sh': 200, 'schizophrenia': 15, 'labatelol': 4, 'noxiou': 44, 'tongu': 73, 'consequ': 17, 'ventriculomegali': 3, 'boni': 83, 'bronchovascular': 16, 'mottl': 12, 'mb': 36, 'fractur': 177, 'sublux': 9, 'coronari': 209, 'endobronchi': 24, 'em': 32, 'fluidfil': 1, 'oliguria': 18, 'afib': 203, 'anteriorli': 96, 'aneurysm': 69, 'lesser': 38, 'align': 34, 'irregular': 100, 'hiatal': 44, 'pretrach': 18, 'swell': 132, 'coumadin': 139, 'summari': 84, 'vertebr': 85, 'mail': 5, 'workup': 60, 'salt': 7, 'somewhatdil': 1, 'hernia': 91, 'groundglass': 2, 'atroph': 26, 'ugi': 8, 'revis': 41, 'granuloma': 30, 'incomplet': 86, 'arthrit': 12, 'esophagu': 92, 'cpk': 31, 'dens': 125, 'lymphadenopathi': 198, 'third': 66, 'prevascular': 35, 'unenhanc': 14, 'infraren': 23, 'nodul': 158, 'lowermost': 2, 'lumbar': 85, 'prevertebr': 10, 'micua': 2, 'trauma': 64, 'shingl': 6, 'uncontrol': 14, 'distent': 79, 'secrtion': 2, 'fresh': 4, 'pco': 120, 'af': 123, 'nede': 3, 'tic': 1, 'peripheri': 33, 'simul': 3, 'telephon': 117, 'hypotenns': 1, 'necessit': 13, 'apneaic': 2, 'keyboard': 1, 'aflutt': 26, 'eti': 1, 'alerr': 1, 'unlabor': 64, 'mionitor': 1, 'sy': 65, 'reat': 1, 'rehabilit': 42, 'tp': 26, 'sludg': 28, 'dic': 21, 'matress': 6, 'shigft': 1, 'pacu': 6, 'spell': 18, 'appropriat': 2, 'nkda': 57, 'paco': 17, 'husband': 73, 'balans': 1, 'reciv': 15, 'prob': 31, 'inferolater': 55, 'novasourc': 16, 'peroid': 2, 'convert': 96, 'rrt': 59, 'might': 119, 'typer': 1, 'reacur': 1, 'gel': 27, 'electr': 8, 'stabliz': 8, 'push': 63, 'expel': 7, 'ii': 115, 'shake': 72, 'cleans': 49, 'disress': 4, 'ketpad': 1, 'incision': 23, 'qnd': 1, 'irreg': 30, 'stagei': 1, 'ti': 7, 'lopresssor': 2, 'broke': 19, 'screan': 1, 'colect': 2, 'ar': 202, 'centimet': 18, 'raf': 23, 'pericard': 20, 'perla': 36, 'comand': 9, 'arrythmia': 19, 'fibb': 1, \"rec'\": 20, 'houseoffic': 13, 'wnr': 9, 'fibrosi': 58, 'administ': 287, 'dietwith': 1, 'advers': 22, 'becasu': 3, 'whiteish': 2, 'produc': 85, 'copd': 210, 'vdg': 3, 'interact': 110, 'metacarp': 5, 'nondistend': 32, 'ankl': 61, 'coag': 90, 'occaision': 12, 'demetia': 4, 'asa': 137, 'piec': 20, 'wiggl': 37, 'lethargi': 54, 'worker': 52, 'sux': 19, 'sev': 9, 'lograd': 1, 'phebotomi': 1, 'gown': 14, 'stood': 21, 'glaucoma': 13, 'ny': 3, 'etoh': 71, 'pneumoboot': 69, 'biliou': 48, 'sw': 71, 'ness': 4, 'er': 95, 'nqwmi': 3, 'springhous': 1, 'concentr': 54, 'gout': 27, 'nonprod': 11, 'privat': 13, 'kiss': 2, 'swab': 100, 'hoh': 27, 'remot': 40, 'discolor': 12, 'abil': 75, 'lipitor': 23, 'addedum': 2, 'daycar': 3, 'big': 16, 'urolog': 22, 'dininish': 1, 'fx': 58, 'intermittantli': 13, 'sao': 103, 'memori': 30, 'scopolamin': 13, 'strongli': 29, 'repair': 67, 'quietli': 20, 'rncm': 1, 'hire': 3, 'prostrat': 2, 'az': 2, 'funer': 2, 'everyth': 24, 'step': 81, 'lih': 1, 'pager': 73, 'psh': 11, 'smoke': 57, 'shock': 128, 'tsicu': 9, 'boarder': 6, 'inc': 134, 'tm': 105, 'took': 90, 'children': 55, 'creat': 170, 'gram': 187, 'stronger': 42, 'cocci': 45, 'consensu': 5, 'hypothroid': 3, 'bruis': 49, 'alzheim': 35, 'disloc': 30, 'psoriasi': 6, 'regularli': 27, 'geriatr': 9, 'neo': 41, 'keeppt': 1, 'glu': 17, 'carbadopa': 1, 'blanch': 14, 'yell': 43, 'carbidopa': 3, 'lotion': 44, 'succ': 12, 'toprol': 11, \"have't\": 1, 'stting': 1, 'phx': 1, 'eaten': 9, 'ccu': 73, 'fu': 13, 'iter': 2, 'slt': 5, 'fail': 152, 'nimv': 6, 'uncompems': 1, 'metabol': 122, 'visabl': 4, 'physician': 315, 'nearbi': 10, 'rememb': 23, 'standbi': 48, 'rrl': 2, 'profound': 20, 'sudden': 34, 'pneumaonia': 1, 'parkinson': 24, 'levodopa': 2, 'familyinform': 1, 'gasi': 1, 'cardiovert': 4, 'dccv': 3, 'occa': 91, 'xl': 16, 'unbroken': 12, 'unsuccess': 81, 'revers': 48, 'mur': 8, 'pmhx': 63, 'yof': 24, 'backrub': 6, 'mhr': 6, 'inturb': 1, 'stooll': 1, 'constip': 130, 'maalox': 7, 'enema': 30, 'commenc': 20, 'creami': 19, 'stab': 6, 'retain': 46, 'hob': 164, 'term': 160, 'continiu': 1, 'bid': 89, 'disc': 45, 'loosen': 26, 'caregiv': 23, 'nebuils': 1, 'remian': 28, 'serev': 3, 'fullcod': 2, 'clairifi': 1, 'methylprednisolon': 22, 'add': 219, 'daibet': 1, 'thoracentesi': 88, 'hyperoxygen': 3, 'paroxysm': 15, 'clearer': 37, 'ex': 46, 'tomorro': 1, 'pure': 85, 'visist': 4, 'midnoc': 30, 'wheezi': 56, 'neic': 13, 'transfuss': 2, 'previuo': 2, 'insitu': 11, 'brought': 129, 'niec': 21, 'combiv': 48, 'hub': 4, 'pressurea': 1, 'partak': 1, 'fleet': 18, 'blew': 2, 'contniu': 1, 'pule': 3, 'tighter': 7, 'fem': 37, 'glargin': 38, 'kepft': 1, 'stroke': 78, 'humidifi': 77, 'looser': 5, 'plu': 54, 'lopress': 5, 'audilb': 1, 'exac': 8, 'inatact': 2, 'solumedrol': 70, 'inflamm': 58, 'assesss': 3, 'stope': 4, 'mainta': 13, 'distribut': 99, 'blow': 7, 'prevent': 97, 'scd': 12, 'yest': 69, 'prong': 21, 'sp': 88, 'giver': 6, 'nebulis': 1, 'contiun': 2, '$': 12, 'scoop': 4, 'thisd': 1, 'statement': 9, 'diltiazem': 77, 'rhonchu': 10, 'aim': 43, 'fm': 69, 'humid': 13, 'easier': 18, 'unfortun': 29, 'gentamicin': 17, 'physcial': 1, 'manufactur': 70, 'rta': 5, 'sqi': 15, 'syndrom': 105, 'educ': 63, 'cbc': 52, 'cefuroxim': 4, 'vehicl': 4, 'unarous': 4, 'atc': 54, 'usag': 11, 'albumin': 144, 'ldh': 153, 'ltac': 15, 'undetermin': 25, 'unassist': 29, 'enoxaparin': 7, 'protein': 108, 'plantar': 8, 'ngtd': 82, 'myopathi': 11, 'lactic': 220, 'barrier': 135, 'anion': 18, 'establish': 57, 'train': 35, 'contractur': 15, \"c'd\": 22, 'reschedul': 9, 'file': 14, 'dicharg': 2, 'metavis': 34, 'ceas': 6, 'linezolid': 33, 'layer': 110, 'bradycard': 38, 'variou': 55, 'outlin': 115, 'dehydr': 52, 'gip': 1, 'goe': 42, 'mattress': 37, 'tuesday': 33, 'gentl': 74, 'comfrot': 1, 'rsb': 2, 'deflat': 36, 'mrsa': 152, 'vasopressor': 22, 'meur': 1, 'patiet': 2, 'stretch': 10, 'awit': 2, 'thiamin': 17, 'infxn': 24, 'sharp': 45, 'obvious': 17, 'oxid': 14, 'simvastatin': 44, 'staph': 51, 'closs': 2, 'lot': 65, 'elig': 3, 'ofr': 3, 'compent': 1, 'ard': 145, 'gen': 138, 'phosphoru': 105, 'spend': 11, 'caspo': 3, 'messag': 19, 'cataract': 35, 'tc': 64, 'lul': 153, 'bradycardia': 104, 'told': 62, 'front': 18, 'tobramycin': 20, 'attni': 1, 'errat': 17, 'substanti': 145, 'unspecifi': 4, 'myocard': 8, 'bacteremia': 70, 'submit': 37, 'tire': 82, 'glenohumer': 13, 'origin': 143, 'prepar': 79, 'constantli': 30, 'kleb': 9, 'calc': 62, 'tap': 81, 'gnr': 69, 'contro': 1, 'puddl': 1, 'zantac': 12, 'integumentari': 91, 'feeed': 1, 'rod': 53, 'notabl': 165, 'epitheli': 34, 'repleat': 74, 'ampul': 1, 'indemn': 1, '^th': 23, 'uncomprehend': 1, 'cytokin': 1, 'toelrat': 4, 'arrang': 32, 'coccu': 2, 'enterococca': 1, 'challeng': 38, 'ant': 31, 'tpa': 22, 'esbl': 17, 'investig': 20, \"trach'd\": 3, 'common': 139, 'tightli': 4, 'interest': 28, 'ace': 68, 'aecret': 1, 'nab': 35, 'comprehens': 9, 'finish': 77, 'teeth': 118, 'uub': 1, 'bac': 9, 'nard': 31, 'thursday': 27, 'destin': 74, 'heent': 169, 'confer': 11, 'bmi': 69, 'meaning': 4, 'discusss': 2, 'diurees': 1, 'involut': 8, 'cancel': 34, 'toliet': 13, 'reluct': 11, 'acei': 26, 'ranitidin': 23, 'bacilli': 3, 'unlik': 120, 'ceftazidim': 26, 'deliriu': 3, 'apart': 29, 'mmol': 214, 'merepenem': 8, 'sensori': 37, 'troubleshoot': 2, 'fold': 35, 'postpon': 18, 'airmov': 3, 'knee': 81, 'encephalomalacia': 8, 'frighten': 5, 'exsuffl': 7, 'joint': 115, 'enterococcu': 19, 'polio': 3, 'empir': 119, 'frog': 2, 'qday': 22, 'optho': 1, 'speciat': 35, 'pmn': 48, 'irregularli': 21, 'alt': 179, 'caco': 4, 'pct': 5, '^nd': 36, 'pay': 11, 'saturday': 18, 'afb': 29, 'planner': 4, 'cachet': 9, 'fungu': 9, 'bc': 83, 'derecruit': 4, 'etc': 106, 'acheiv': 7, 'breakthrough': 30, 'involvemt': 1, 'grimacc': 1, 'across': 41, 'hygein': 17, 'rub': 157, 'kub': 49, 'olanazipin': 1, 'mucou': 103, 'hz': 5, 'straighten': 5, 'sick': 35, 'discontinu': 139, 'kinear': 3, 'guard': 89, 'natur': 56, 'hctz': 16, 'klebsiella': 18, 'crust': 9, 'diaper': 18, 'apprec': 6, 'frusemid': 3, 'growth': 91, 'skill': 23, 'mycobacteria': 3, 'hospic': 22, 'chlorhexidin': 29, 'djd': 9, 'opthalm': 1, 'intoler': 85, 'fast': 47, 'improvemt': 1, 'flora': 37, 'multifactori': 49, 'muir': 33, 'magnesium': 150, 'bare': 35, 'gum': 5, 'anterioli': 1, 'chlorhex': 6, 'postur': 47, 'chlorthiazid': 1, 'inplac': 25, 'dysynchroni': 76, 'grow': 60, 'lipas': 73, 'vre': 36, 'assoc': 28, 'handl': 23, 'benefit': 141, 'identif': 12, 'supra': 11, 'sensitivit': 4, 'ocular': 4, 'bypass': 19, 'flexor': 5, 'apnvol': 4, 'ophtho': 1, 'yeast': 83, 'bal': 84, 'photic': 1, 'compani': 12, 'hope': 112, 'resourc': 7, 'inward': 3, 'cognit': 73, 'bg': 40, 'fungal': 82, 'occai': 2, 'nl': 92, 'peridex': 16, 'compromis': 44, 'interview': 9, 'intracran': 1, 'sunday': 23, 'ontcool': 1, 'carotid': 57, 'mirtazapin': 8, 'tear': 94, 'ioniz': 114, 'sir': 37, 'prot': 10, 'intraventricular': 45, 'wk': 58, 'snd': 28, 'snx': 13, 'passi': 29, 'reconsult': 28, 'morpholog': 37, 'typic': 42, 'reattach': 2, 'csb': 1, 'distanc': 53, 'quieter': 4, 'ucx': 60, 'suctiong': 2, 'sulfamethoxazol': 13, 'cachect': 21, 'valvl': 1, 'anticoagul': 128, 'encourgag': 3, 'cloud': 3, 'ventilatiori': 1, 'therapuet': 6, 'voluntarili': 3, 'cg': 42, 'ppm': 23, 'cavern': 16, 'siani': 1, 'hemithorax': 114, 'vitamin': 59, 'rrr': 156, 'qod': 21, 'paralyz': 81, 'ssri': 60, 'month': 144, 'lasic': 4, 'pedn': 3, 'rpe': 40, 'straight': 25, 'passey': 16, 'bud': 16, 'exhal': 32, 'lebsiella': 1, 'hoyer': 6, 'macu': 28, 'fungemia': 3, 'pursu': 51, 'diffacult': 1, 'eeg': 31, 'trimethoprim': 25, 'mri': 118, 'surgic': 173, 'iss': 71, 'succeed': 5, 'relev': 67, 'ntinu': 2, 'bicarb': 53, 'esp': 45, 'shallow': 50, 'alittl': 9, 'heo': 1, 'resusit': 11, 'maximum': 26, 'deir': 1, 'pl': 105, 'fi': 66, 'realist': 4, 'wo': 19, 'finesh': 1, 'decompens': 90, 'soil': 5, 'veget': 57, 'ami': 11, 'sate': 74, 'ime': 1, 'epileptiform': 4, 'ointment': 41, 'decondit': 45, 'count': 156, 'jaundic': 83, 'vna': 16, 'dull': 81, 'nr': 12, 'transffer': 8, 'obtian': 1, 'torulopsi': 1, 'typeii': 1, 'tomm': 10, 'uti': 106, 'obstacl': 6, 'ongo': 130, 'ass': 26, 'inservic': 1, 'presumpt': 19, 'depart': 37, 'klesiella': 1, 'salin': 92, 'emotiion': 1, 'acknowledg': 22, 'est': 15, 'failri': 1, 'poss': 55, 'occipit': 22, 'friend': 73, 'nebul': 73, 'waveform': 101, 'mycobacterium': 4, 'synchron': 65, 'toothbrush': 1, 'drsg': 41, 'microbiolog': 154, 'oint': 10, 'mrg': 26, 'postiv': 14, 'stair': 44, 'cluster': 40, 'fee': 19, 'delerium': 24, 'dip': 49, 'sqh': 33, 'fascil': 1, 'conduct': 88, 'elexir': 1, 'pan': 93, 'piperacillin': 106, 'motor': 77, 'hep': 139, 'rtc': 22, 'erect': 65, 'myco': 3, 'qdaili': 5, 'occup': 90, 'kcal': 81, 'ncat': 18, 'dilig': 2, 'plateau': 78, 'rout': 93, 'statin': 75, 'carb': 7, 'op': 105, 'outcom': 15, 'suppli': 13, 'spuriou': 3, 'synthroid': 24, 'weekend': 58, 'vreand': 1, 'sequela': 28, 'correctli': 14, 'way': 86, 'polypharmaci': 4, \"yesterday'\": 4, 'calcul': 35, 'ionli': 1, 'locomot': 31, 'resit': 20, 'fluctuat': 57, 'wihtout': 5, 'lmw': 9, 'scab': 27, 'hgb': 88, 'protect': 258, 'lscta': 16, 'never': 49, 'caspofungin': 6, 'ineffect': 48, 'cult': 21, 'diastol': 173, 'omit': 6, 'extr': 32, 'payer': 3, 'vb': 3, 'reattempt': 12, 'vocal': 69, 'spous': 15, 'till': 54, 'aureu': 22, 'among': 4, 'attach': 18, 'worri': 12, 'flight': 21, 'ctab': 39, 'hello': 2, 'mumbl': 17, 'club': 114, 'ausc': 9, 'nitrat': 11, 'overwelm': 1, 'wore': 13, 'micropunctur': 66, 'figiti': 2, 'program': 41, 'ween': 8, \"'no\": 2, 'whi': 61, 'leukocytosi': 169, 'hypercholesterolemia': 34, 'permit': 14, 'iu': 151, 'garbl': 25, 'hip': 87, 'mom': 27, 'pneumo': 49, 'render': 14, 'pvd': 45, 'cyanosi': 130, 'entercocc': 1, 'coloni': 11, 'bu': 15, 'shallowli': 2, 'probe': 29, 'resassur': 3, 'synergi': 2, 'ventiatori': 1, 'holiday': 7, 'perfom': 3, 'asses': 21, 'throw': 9, 'clench': 5, 'medivis': 5, 'liaison': 6, 'reoccur': 5, 'stain': 111, 'vesta': 44, 'alound': 1, 'background': 33, '|': 12, 'cardiologist': 14, 'heliox': 5, 'oo': 4, 'enterrococcu': 1, 'mouthcar': 12, 'ciprofloxacin': 60, 'vit': 50, 'loc': 21, 'radiu': 10, 'press': 94, 'pip': 139, 'cor': 14, 'amylas': 71, 'transthorac': 33, 'backup': 7, 'inflict': 1, 'mycolyt': 2, 'grab': 12, 'clarif': 49, 'osm': 20, 'ntnd': 33, 'resist': 87, 'misinform': 1, 'ethic': 7, 'assest': 1, 'injuri': 96, 'annual': 1, 'anaerob': 19, 'papillari': 44, 'blocker': 131, 'sfa': 8, 'con': 48, 'reinflat': 5, 'jr': 9, 'dwindl': 5, 'claim': 69, 'dig': 40, 'financi': 7, 'zocor': 13, 'failr': 1, 'currrent': 5, 'folat': 41, 'lean': 20, 'custom': 2, 'galabrata': 1, 'approv': 59, 'subacut': 15, 'aggit': 48, 'legionella': 129, 'alo': 55, 'leuk': 15, 'commmand': 1, 'cefepim': 107, 'vavl': 1, 'ophthalm': 5, 'relaps': 8, 'sternal': 63, 'asse': 1, 'septicemia': 5, 'aero': 1, 'necrosi': 20, 'contain': 102, 'versu': 138, 'exhaust': 14, 'coordin': 47, 'kinair': 38, 'vitb': 1, 'winc': 12, 'role': 48, 'phosphat': 65, 'lawyer': 7, 'ppx': 115, 'grimic': 1, 'painm': 2, 'supoprt': 2, 'funal': 1, 'reconnect': 2, 'unimprov': 4, 'gic': 1, 'bedcloth': 1, 'deduct': 2, 'fibrinogen': 35, 'retract': 35, 'anxiolyt': 12, 'interm': 9, 'fluoro': 90, 'masshealth': 6, 'olanzapin': 27, 'llax': 1, 'author': 16, 'consectut': 1, 'rg': 3, 'tell': 38, 'spot': 83, 'nonsens': 12, 'mngt': 4, 'atelectat': 74, 'ast': 167, 'micro': 101, 'strengthen': 13, 'compet': 11, 'cmp': 3, 'repac': 1, 'weekli': 15, 'hypodens': 91, 'sulfa': 30, 'narr': 28, 'tco': 194, 'hae': 2, 'ventilatori': 150, 'dimer': 18, 'disorgan': 2, 'pgt': 5, 'icd': 51, 'antifung': 42, 'aerob': 45, 'speci': 10, 'learn': 7, 'supposedli': 2, 'chg': 21, 'frm': 2, 'deepli': 10, 'autoflow': 47, 'truli': 12, 'durat': 69, 'stemi': 17, 'particp': 1, 'ddx': 55, 'mic': 41, 'anticoag': 12, 'mov': 2, 'hyperventil': 14, 'atherosclerot': 97, 'deciph': 2, 'whenev': 17, 'inquir': 10, 'understood': 12, 'tracheal': 73, 'bilirubin': 61, 'laundri': 1, 'bili': 173, 'writer': 8, 'senna': 94, 'svr': 10, 'clarifi': 54, 'frame': 34, 'grasp': 27, 'pleth': 12, 'cefazolin': 16, 'recurr': 162, 'recur': 27, 'specieat': 1, 'tazo': 24, 'propot': 2, 'featur': 22, 'malnutrit': 50, 'mgmt': 24, 'palli': 31, 'resumpt': 9, 'rwma': 2, 'transit': 207, 'inabl': 89, 'assur': 17, 'bacteri': 145, 'lax': 17, 'buit': 1, 'bue': 31, 'glabrata': 1, 'phonat': 8, 'emphas': 104, 'outupt': 1, 'zosyn': 185, 'knowledg': 21, 'toeveri': 1, 'uroin': 1, 'import': 48, 'stiumuat': 1, 'inspiratori': 80, 'thurday': 1, 'furosemid': 119, 'nitric': 7, 'alkalin': 60, 'oropharyng': 105, 'rpr': 15, 'equip': 23, 'polici': 7, 'disturb': 19, 'cbi': 7, 'gasp': 7, 'mgt': 21, 'toxic': 54, 'nchct': 6, 'flexion': 23, 'incident': 44, 'ensur': 85, 'carbon': 23, 'mellitu': 50, 'diinish': 1, 'resussit': 7, 'tubular': 12, 'organ': 171, 'bottl': 59, 'andthat': 1, 'debilit': 5, 'activit': 3, 'ecchymos': 31, 'subglott': 16, 'redrawn': 8, 'variat': 31, 'ideal': 127, 'dysynchronu': 1, 'ryhtym': 1, 'alk': 181, 'uncompl': 67, 'reappli': 33, 'leukocytpsi': 1, 'soap': 21, 'futur': 88, 'rhonchrou': 5, 'reeval': 13, 'weakli': 34, 'pericholecyst': 22, 'periton': 25, 'mcq': 28, 'trumpet': 13, 'presuur': 1, 'descend': 76, 'chose': 2, 'iddm': 20, 'territori': 45, 'rult': 1, 'pap': 33, 'etomid': 10, 'throught': 12, 'lp': 39, 'introduc': 48, 'resolut': 184, 'conspicu': 14, 'pluggi': 12, 'trough': 91, 'coupl': 65, 'palpat': 107, 'preexist': 9, 'bottuck': 1, 'retinopathi': 8, 'gaol': 3, 'zero': 13, 'women': 13, 'travers': 16, 'amelior': 2, 'wbcc': 2, 'usus': 1, 'cohlecyst': 1, 'lcontinu': 1, 'splenic': 38, 'mvt': 5, 'hypoglycemia': 29, 'careweb': 13, 'relay': 12, 'viscou': 14, 'cephalad': 5, 'pylor': 32, 'suit': 51, 'hematoma': 87, 'wil': 5, 'cov': 11, 'perk': 1, 'dssg': 12, 'stv': 15, 'ligament': 19, 'duski': 12, 'punctat': 17, 'bottom': 28, 'triphas': 5, 'waffl': 23, 'nare': 44, 'fundu': 20, 'tracheobronch': 6, 'nst': 9, 'excori': 46, 'resudu': 2, 'epitaxi': 2, 'undergo': 33, 'motil': 16, 'pancreat': 61, 'offset': 5, 'superstiff': 2, 'mucoid': 24, 'foerarm': 1, 'mrsh': 1, 'vpshunt': 1, 'strenght': 7, 'reddend': 2, 'duct': 70, 'nn': 3, 'intra': 130, 'perinium': 1, 'beyond': 58, 'ventriculo': 1, 'protonix': 109, 'shoot': 9, 'ultrac': 8, 'ud': 16, 'albut': 6, 'zoloft': 14, 'insuffl': 11, 'rescreen': 6, 'affirm': 6, 'dyspepsia': 3, 'acalc': 3, 'quinin': 2, 'groin': 77, 'hypoxemia': 159, 'choic': 32, 'toxin': 25, 'perinephr': 15, 'fingerstick': 72, 'unsuit': 3, 'dibilit': 1, 'fsb': 61, 'kump': 10, 'apsolut': 1, 'cvl': 114, 'ptx': 112, 'anplatz': 1, 'captoril': 2, 'intrabdomin': 5, 'scar': 85, 'slate': 2, 'swan': 20, 'flumazenil': 2, 'dilut': 41, 'intraperiton': 31, 'duodem': 1, 'erythemat': 32, 'convex': 14, 'nasotrach': 19, 'ful': 5, 'appendix': 14, 'recaptur': 2, 'isodens': 5, 'retroperiton': 74, 'effct': 3, 'rim': 16, 'optim': 115, 'secreat': 60, 'hourli': 52, 'larm': 2, 'caudad': 2, 'unwil': 4, 'narcan': 14, 'dup': 15, 'ostomi': 21, 'succinycholin': 1, 'captropril': 4, 'peri': 67, 'shunt': 33, 'pcn': 28, 'levoquin': 71, 'inter': 3, 'disent': 1, 'hypernatrimia': 1, 'unifoc': 5, 'facial': 65, 'definit': 207, 'wedg': 26, 'inconsistanti': 1, 'comf': 11, 'ulnar': 8, 'dollar': 3, 'nph': 44, 'regain': 16, 'trachealbronch': 1, 'ventriculoperiton': 3, 'radiopaqu': 14, 'gluocos': 1, 'hypopharyng': 3, 'fdg': 29, \"nts'ing\": 3, 'ruq': 51, 'swang': 1, 'disp': 5, 'breat': 5, 'pigtail': 36, 'ped': 2, 'artlin': 2, 'gyral': 1, 'vasc': 5, 'paramedian': 7, 'intrapelv': 8, 'five': 33, 'tracheobronc': 1, 'captopril': 56, 'temporarili': 14, 'comp': 6, 'ganz': 17, 'reidual': 1, 'uncahng': 1, 'profoundli': 10, 'keflex': 9, 'trim': 17, 'occl': 1, 'fluro': 5, 'sump': 7, 'technologist': 2, 'yerterday': 1, 'format': 65, 'pearl': 56, 'yeasti': 8, 'couldnt': 1, 'nephrogram': 4, 'hypo': 58, 'stare': 10, 'flexitract': 2, 'contanct': 1, 'strenghth': 1, 'wir': 1, 'fwb': 19, 'trietz': 1, 'gastroparesi': 8, 'reproduc': 4, 'lcode': 1, 'ascit': 86, 'diverticul': 36, 'stockinett': 1, 'subcutan': 122, 'subdur': 21, 'asymmmetr': 1, 'cabl': 2, 'vp': 12, 'elixir': 9, 'multipodi': 11, 'pharynx': 30, 'lasi': 2, 'manipul': 31, 'periph': 25, 'pit': 80, 'cultu': 2, 'mesenter': 70, 'chole': 6, 'postpylor': 6, 'stir': 8, 'osteomyel': 22, 'diaph': 2, 'fourth': 15, 'medicin': 56, 'yearold': 1, 'dorsum': 2, 'tbb': 25, 'pneu': 2, 'peerla': 6, 'mgm': 30, 'subdeltoid': 1, 'pneumococc': 25, 'affebril': 1, 'pox': 14, 'withrr': 1, 'massiv': 38, 'saliva': 5, 'hem': 27, 'six': 39, 'lightli': 71, 'lordot': 5, 'fli': 4, 'pneumoni': 4, 'labrum': 1, 'unusu': 30, 'prof': 1, 'unsucessful': 1, 'subacromi': 1, 'obl': 3, 'bicep': 6, 'gage': 2, 'plain': 29, 'disus': 1, 'neutral': 16, 'nearli': 59, 'pneum': 4, 'quick': 26, 'tommorrow': 18, 'moderatli': 1, 'supraspinatu': 2, 'posteriorli': 51, 'subscapulari': 2, 'cardio': 54, 'spontrr': 1, 'roughli': 15, 'deform': 50, 'humer': 23, 'plexopathi': 1, 'substanc': 12, 'solid': 132, 'cuneiform': 1, 'tarsal': 1, 'airport': 1, 'abscess': 119, 'scratchi': 2, 'mellow': 1, 'cmi': 3, 'gross': 75, 'musculotendin': 1, 'articular': 6, 'fiber': 82, 'settign': 3, 'dimens': 34, 'metatars': 3, 'pd': 14, 'signal': 48, 'supp': 43, 'marrow': 31, 'flex': 28, 'beplac': 1, 'cchr': 8, 'nois': 18, 'rythm': 19, 'rusti': 12, 'sepi': 3, 'phenomenon': 10, 'subcort': 24, 'suspicion': 74, 'recenli': 1, \"cx'ed\": 1, 'cuboid': 1, 'bright': 26, 'gadolinium': 35, 'ble': 57, 'necrot': 40, 'intiat': 4, 'tea': 15, 'extensor': 3, 'tiolet': 4, 'hyperemia': 6, 'moist': 52, 'uncertain': 38, 'clavicular': 13, 'extrasystol': 6, 'diaphret': 1, 'numer': 73, 'attemp': 7, 'acromi': 1, 'fewer': 11, 'linear': 77, 'ltr': 5, 'bursa': 3, 'nuclear': 6, 'pcxr': 12, 'magnevist': 35, 'navicular': 4, 'urpc': 2, 'feasabl': 1, 'arrous': 13, 'fifth': 10, 'dulcolax': 36, 'els': 16, 'diprivan': 1, 'aberr': 9, 'eet': 1, 'infraspinatu': 2, 'decub': 67, 'diminut': 7, 'strep': 32, 'osa': 48, 'conintu': 4, 'posterolater': 9, 'im': 24, 'occn': 8, 'cat': 23, 'echogen': 56, 'yeseterday': 1, 'uret': 25, 'dentur': 48, 'oreint': 5, 'multidetector': 54, 'atyp': 95, 'bay': 2, 'personnel': 4, 'largest': 47, 'pertrud': 1, 'hypoecho': 9, 'store': 11, 'absc': 3, 'maint': 23, 'ax': 90, 'tranport': 2, 'laser': 5, 'jitteri': 4, 'hemo\\x13rrhoid': 1, 'pole': 56, 'printer': 1, 'doze': 42, 'urosepsi': 14, 'anusol': 2, 'crystal': 6, 'exophyt': 13, 'broken': 48, 'basalar': 1, 'radiolgist': 1, 'periureter': 2, 'speach': 11, 'hematuria': 45, 'coopert': 3, 'klibesella': 1, 'smooth': 16, 'axox': 11, 'ctu': 1, 'contnu': 3, 'shakey': 2, 'flood': 2, 'malfunct': 7, 'vapor': 1, 'nibp': 44, 'inct': 2, 'vaopriz': 1, 'constant': 62, 'hygen': 10, 'ach': 22, 'headach': 104, 'diphoret': 1, 'adedqu': 1, 'explan': 44, 'pee': 7, 'forc': 25, 'hack': 5, 'otherwsi': 1, 'bronchosast': 1, 'lobar': 45, 'misk': 1, 'irrit': 34, 'bark': 2, 'dischar': 1, 'followand': 1, 'stagger': 5, 'fhp': 35, 'sternotomi': 60, 'tansfer': 1, 'median': 42, 'reevalu': 45, 'metoprolo': 5, 'flash': 44, 'unbutton': 1, 'doublegard': 1, 'column': 6, 'wt': 59, 'shedul': 3, 'packet': 21, 'inlet': 91, 'decannul': 8, 'satu': 4, 'hhtm': 1, 'outli': 1, 'stem': 20, 'draig': 1, 'readjust': 11, 'cadiac': 3, 'trazodon': 22, 'cleaner': 10, 'snack': 9, 'hit': 35, 'prec': 21, 'hypotherm': 20, 'therapeud': 2, 'historian': 14, 'exaserb': 2, 'eupneic': 2, 'reserv': 20, 'lle': 45, 'bedtim': 31, 'electoly': 1, 'incourag': 5, 'psychosoci': 34, 'tight': 49, 'kilo': 2, 'miur': 2, 'argatroban': 3, 'unbrocken': 2, 'failer': 1, 'triazidon': 1, 'aplli': 7, 'hydrostat': 10, 'react': 39, 'remaian': 2, 'dangl': 16, 'hose': 2, 'hugger': 20, 'cxray': 24, 'althought': 4, 'ptmay': 1, 'lisinipril': 2, 'sympomat': 1, 'argantroban': 1, 'strengh': 1, 'appi': 14, 'random': 36, 'fam': 18, 'stoma': 26, 'receiev': 6, 'hr^': 2, 'dermi': 2, 'rep': 14, 'admiit': 2, 'mgso': 17, 'ced': 58, 'mth': 4, 'fear': 15, 'receievd': 2, 'captipril': 2, 'dt': 18, 'bair': 14, 'sig': 59, 'upto': 20, 'oxycodon': 90, 'draft': 2, 'shovel': 54, 'occas': 27, 'atr': 62, 'azithromycin': 121, 'twitch': 9, 'pacer': 63, 'loperessor': 1, 'cefriaxon': 5, 'drplet': 1, 'afebriel': 2, 'cloudi': 71, 'choke': 38, 'woken': 14, 'nepro': 13, 'inutb': 1, 'clavicl': 35, 'hypokalem': 1, 'acidemia': 11, 'phlegm': 18, 'ord': 1, 'vpace': 9, 'wosen': 2, 'fsg': 16, 'accur': 40, 'resecur': 2, \"tx'ed\": 6, 'unreason': 1, 'ut': 5, 'deposit': 11, 'deferves': 1, 'dev': 5, 'calib': 99, 'wrong': 24, 'insuln': 2, 'recehck': 1, 'perman': 24, 'cook': 6, 'eri': 2, 'yankor': 1, 'reappear': 4, 'spiromet': 43, \"sx'ing\": 13, 'beextub': 1, 'elsewher': 15, 'needi': 2, 'througho': 1, 'incent': 70, 'outpu': 1, 'adher': 11, 'power': 28, 'tolert': 7, 'andw': 1, 'ddd': 10, 'fgd': 2, 'vnaco': 1, 'disregard': 7, 'hemodynamci': 5, 'nerpo': 1, 'qt': 26, 'leftward': 46, 'coulf': 1, 'enjoy': 11, 'draingag': 2, 'rewir': 2, 'temporari': 33, 'cycl': 71, 'cop': 14, \"today'\": 14, 'pose': 4, 'adv': 21, 'dilt': 76, 'ic': 10, 'favor': 43, 'auto': 36, 'succinylcholin': 5, 'ramp': 8, 'rational': 10, 'mp': 20, 'puffi': 5, 'tibia': 6, 'sluggishli': 5, 'bloood': 2, 'antiobx': 1, 'mon': 124, 'unlabour': 7, 'steam': 5, 'rl': 13, 'zyrexa': 2, 'nonverb': 35, 'presept': 6, 'danger': 9, 'nu': 7, 'openn': 1, 'copiu': 12, 'pearla': 1, 'adapt': 21, 'sotalol': 3, 'bilatar': 2, 'foe': 7, 'reexpans': 17, 'digit': 12, 'probal': 37, 'agent': 51, 'opressor': 1, 'hiss': 49, 'ansarca': 2, 'bmx': 16, 'florid': 1, 'midnit': 17, 'weep': 31, 'multipod': 6, 'agreement': 29, 'toleat': 2, 'weepi': 12, 'ota': 18, 'underw': 60, 'applesauc': 57, 'zyprexia': 10, 'languag': 88, 'epistaxi': 45, 'univ': 7, 'aquacel': 12, '^^frequent': 1, '^bp': 5, 'wise': 8, 'cpr': 21, 'hook': 6, 'strongh': 2, 'reinstiut': 1, 'whotish': 1, 'asymetr': 1, 'takennoff': 1, 'circular': 3, 'hydralazin': 63, 'autodiuresi': 18, 'bifurc': 20, 'serou': 54, 'psycho': 2, 'dieuresi': 4, 'iurs': 1, 'hypernatremai': 1, 'carin': 11, 'additiona': 1, 'twenti': 11, 'grand': 14, 'nailb': 14, 'miconazol': 35, 'perfit': 4, 'extrim': 19, 'guidelin': 14, 'supraglott': 2, 'postop': 31, 'idos': 1, 'copmlet': 1, 'mouthwash': 5, 'bactermia': 8, 'calori': 62, 'caution': 18, 'anithypertens': 2, 'wwp': 25, 'dcd': 18, 'robitussin': 14, 'intraabdomin': 26, 'tab': 61, 'crush': 68, 'euvolem': 48, 'gallop': 65, 'requr': 6, 'gotten': 16, 'strict': 49, 'decadron': 16, 'thrombocytosi': 11, 'heamodinam': 2, 'cipro': 73, 'ric': 1, 'atn': 44, 'penetr': 74, 'nkfa': 15, 'nocturn': 15, 'chin': 38, 'guaifenesin': 23, 'slp': 69, 'cal': 49, 'lamict': 3, 'bibasilr': 3, 'thr': 5, 'hcl': 36, 'seroquel': 32, 'distant': 119, 'tbm': 10, 'recordsheparin': 1, 'mmm': 83, 'wan': 1, 'mvv': 2, 'inadequ': 59, 'hyperlipidemia': 74, 'sertralin': 7, 'quetiapin': 8, 'alway': 56, 'eomi': 56, 'interfer': 5, 'downward': 39, 'mention': 47, 'chanc': 20, 'ofm': 13, 'sa': 18, 'lamotrigin': 4, 'seed': 4, 'arrhythmia': 79, 'fistula': 48, 'offici': 17, 'delin': 29, 'prudent': 4, 'organomegali': 41, 'intersti': 4, 'stridor': 27, 'ao': 13, 'pta': 59, 'vicodin': 12, 'tracheomalacia': 19, 'tazobactam': 90, 'rigid': 34, 'machin': 33, 'autoset': 12, 'ipratroprium': 7, 'closur': 34, 'hurt': 14, 'jrld': 8, 'sensat': 60, 'shape': 28, 'contamin': 63, 'ppf': 7, 'arf': 112, 'trop': 71, 'video': 113, 'os': 47, 'granul': 14, 'phenylephrin': 13, 'oversed': 17, 'bupropion': 4, 'bronchoscopi': 101, 'scope': 18, 'laryngoscop': 1, 'pantoprazol': 96, 'context': 38, 'pseudomona': 54, 'lorazepam': 66, 'treatement': 5, 'tracheobronchiomalacia': 1, 'bronchospasm': 27, 'burn': 23, 'thrombocytopeni': 3, 'normoact': 16, 'lunch': 40, 'vicoden': 1, 'rd': 48, 'proceed': 42, 'bee': 35, 'neither': 19, 'nectar': 85, 'barium': 84, 'bcx': 81, 'lighten': 24, 'ecg': 124, 'neosynephrin': 10, 'tracheocutan': 1, 'hypocalor': 23, 'worrisom': 46, 'dysphagia': 89, 'spray': 32, 'certifi': 23, 'exagger': 13, \"amt'\": 1, 'atheroma': 15, 'spacer': 16, 'basilar': 201, 'orthostat': 6, 'regimin': 14, 'hcfa': 22, 'latter': 14, 'appendag': 17, 'bronchopneumonia': 8, 'probablyl': 1, 'throughtout': 10, 'asthma': 76, 'intcat': 1, 'utd': 2, 'pnumonia': 6, 'raa': 13, 'regul': 26, 'border': 79, 'asd': 65, 'woke': 30, 'flovent': 23, 'laa': 16, 'dosag': 42, 'releas': 32, 'benzocain': 11, 'tenou': 2, 'salesman': 2, 'intralumin': 43, 'diarrhoea': 2, 'suptum': 4, 'proce': 6, 'drinkinhg': 1, 'soung': 1, 'preacuat': 1, 'quadrent': 9, 'polysubst': 8, 'cardia': 11, 'multidiciplanari': 2, 'incresa': 9, 'blastic': 40, 'dirrhea': 3, 'dizzy': 4, 'notbal': 1, 'inact': 4, 'pleurit': 50, 'thereor': 2, 'great': 102, 'feasibl': 13, 'obliqu': 44, 'malais': 29, 'someon': 21, 'invers': 48, 'ivanbx': 2, 'sober': 4, 'tolerta': 4, 'efus': 2, 'number': 88, 'svo': 30, 'expor': 2, 'issacc': 1, 'myo': 1, 'rac': 10, 'reassurr': 3, 'dinner': 44, 'halfway': 6, 'noncontrast': 26, 'setteld': 1, 'systool': 1, 'former': 26, 'surround': 117, 'culter': 4, 'whilst': 5, 'prouctiav': 1, 'opert': 1, 'sweat': 31, 'therepay': 1, 'entre': 1, 'tachcardia': 3, 'coughin': 2, 'arrborn': 1, 'clock': 21, 'monitot': 1, 'difus': 3, 'oedema': 2, 'labe': 2, 'hrli': 23, 'percent': 12, 'drope': 8, 'fan': 9, 'tollert': 5, 'minor': 63, 'bloodwork': 2, 'abus': 89, 'tachi': 109, 'maitain': 7, 'endocrin': 100, 'aunt': 11, 'tb': 35, 'clavian': 1, 'leginella': 1, 'user': 7, 'tele': 78, 'xr': 9, 'hepc': 6, 'compliant': 28, 'airborn': 13, 'housem': 1, 'unoffici': 2, 'emphysema': 117, 'osteolyt': 10, 'wrote': 12, 'celiac': 16, 'perfus': 108, 'ductal': 46, 'plaqu': 50, 'rfa': 2, 'accentu': 13, 'biliari': 93, 'widen': 54, 'eosinophil': 23, 'asbesto': 18, 'partli': 23, 'pancreatit': 6, 'attenutaion': 1, 'aprox': 4, 'calciif': 1, 'stent': 77, 'exposur': 45, 'atenolol': 23, 'knew': 18, 'puffer': 1, 'evalut': 20, 'hypersensit': 15, 'hunger': 10, 'inspir': 53, 'pseudocyst': 4, 'multiphas': 4, 'wonder': 9, 'pseudo': 8, 'hcc': 4, 'cardiomedistin': 2, 'yeaterday': 4, 'ablat': 14, 'emphysemat': 25, 'plueral': 7, 'anomali': 3, 'amiben': 1, 'nss': 10, 'bulla': 9, 'portal': 69, 'rightward': 32, 'offic': 36, 'real': 21, 'phasether': 1, 'cryptogen': 7, 'plastic': 16, 'vesicl': 16, 'radiofrequ': 2, 'paratrach': 55, 'priior': 1, 'chill': 93, 'flexi': 16, 'predomin': 48, 'mandarin': 4, 'sphincter': 10, 'dome': 12, 'pouch': 7, 'hila': 32, 'anem': 6, 'nodular': 89, 'iwht': 1, 'mix': 77, 'threat': 6, 'centrilobular': 30, 'lingula': 51, 'smoothli': 3, 'jelli': 13, 'psych': 70, 'commut': 1, 'sizabl': 10, 'indwel': 83, 'beter': 2, 'azythromycin': 8, 'ne': 16, 'ile': 1, 'inhomogen': 2, 'dispos': 3, 'nuse': 1, 'acit': 6, 'montior': 12, 'ampho': 1, 'ppp': 44, 'flucytosin': 1, 'ealier': 2, 'difficutli': 8, 'fluconazol': 22, 'mvmt': 7, 'refriger': 3, 'ambison': 2, 'azrithomycin': 1, 'cryptococc': 7, 'bsc': 6, 'induct': 11, 'antigen': 69, 'stripe': 3, 'dat': 5, 'amb': 30, 'gradual': 81, 'bedbath': 7, 'door': 8, 'maew': 14, 'aortopulmonari': 5, 'atb': 7, 'beeper': 13, 'tue': 103, 'toe': 64, 'dark': 88, 'cardaic': 9, 'asap': 25, 'rib': 92, 'wth': 10, 'solu': 10, 'prone': 20, 'girlfriend': 9, 'softner': 4, 'undergon': 14, 'sed': 47, 'aao': 19, 'serax': 2, 'treament': 3, 'sarcoidosi': 8, 'asymp': 1, 'station': 27, 'meal': 67, 'conves': 1, 'spokesperson': 35, 'bigm': 1, 'calif': 1, 'seri': 74, 'standpoint': 29, 'nomogram': 2, 'sighn': 1, 'cross': 39, 'bronchiolectasi': 2, 'decreaz': 1, 'mx': 5, 'dedic': 30, 'chew': 16, 'evolv': 48, 'conjunct': 77, 'tail': 21, 'select': 26, 'intralobular': 5, 'nutrient': 1, 'hypoxem': 63, 'vat': 37, 'ild': 15, 'medrol': 12, 'bigemini': 18, 'intrahepat': 39, 'bt': 16, 'trap': 26, 'textur': 18, 'osmo': 2, 'bronchu': 48, 'onm': 1, 'traction': 12, 'thorax': 53, 'reas': 1, 'nonrebreath': 6, 'biopsi': 61, \"pvc'\": 2, 'joke': 5, 'bronchiectasi': 45, 'monit': 11, 'alveol': 3, 'calculi': 22, 'thhat': 1, 'leni': 44, 'strain': 28, 'resect': 60, 'interlobular': 12, 'promari': 1, 'hdsa': 3, 'edt': 2, 'eccentr': 18, 'oze': 1, 'inflow': 40, 'debrid': 14, 'occasionali': 7, 'sarna': 18, 'trnasfus': 1, 'neutropho': 8, 'barier': 1, 'adeq': 31, 'braeth': 2, 'rhytham': 3, 'ccheck': 1, 'tronchant': 1, 'mush': 3, 'hygroma': 2, 'fainf': 1, 'unwind': 1, 'hypoglycem': 14, 'thalamu': 3, 'bifront': 5, 'ssc': 4, 'hardwar': 28, 'therapaut': 1, 'edg': 53, 'statg': 1, 'lacunar': 20, 'pst': 2, 'somul': 19, 'derang': 2, 'fore': 2, 'debried': 2, 'trochant': 5, 'dement': 5, 'scratch': 11, 'bolou': 4, 'napho': 1, 'jet': 17, 'rewrit': 1, 'solomn': 1, 'puntur': 1, 'wcn': 1, 'foam': 16, 'guafenisen': 1, 'wateri': 21, 'rhonchoru': 14, 'forehead': 7, 'realiz': 11, 'avvess': 1, 'pat': 12, 'atril': 2, 'save': 9, 'coccxi': 3, 'ativa': 1, 'briskli': 20, 'breakdow': 1, 'bradi': 37, 'duflucan': 1, 'pone': 2, 'reang': 1, 'sxned': 21, 'xtra': 3, 'ordere': 3, \"antibx'siv\": 1, 'additon': 7, 'antianxieti': 9, 'thicker': 10, 'maex': 6, 'mildi': 20, 'frewq': 1, 'regurg': 10, 'preprocedur': 35, 'episd': 1, 'airb': 9, 'stert': 1, 'resportedli': 3, 'viust': 1, 'recev': 4, 'rr^': 2, 'althoug': 1, 'adventiti': 2, 'diureiss': 1, 'revertedcardiolog': 1, 'xanax': 12, 'fpp': 1, 'wht': 4, 'ecchymosi': 20, 'codein': 31, 'confluenc': 22, 'thyroid': 108, 'transfert': 1, 'heplock': 18, 'complementari': 1, 'incis': 54, 'upbeat': 2, 'properli': 26, 'pacemek': 1, 'mlc': 4, 'ffp': 28, 'homeopath': 2, 'sacral': 42, 'abit': 6, 'gtube': 17, 'passymuir': 1, 'vasopressin': 17, 'podu': 8, 'lrg': 12, 'perian': 26, 'protex': 1, 'pivot': 41, 'gluteal': 20, 'intubat': 3, 'updatedon': 1, 'hyperoxemia': 3, 'longest': 2, '^inr': 2, 'activi': 1, 'grossili': 1, 'brachi': 1, 'clonazipam': 1, 'cefapim': 14, 'mul': 7, 'flip': 14, 'ccq': 3, 'cefipim': 74, 'nka': 4, 'powed': 1, 'recevi': 4, 'amiod': 2, 'eith': 3, 'retap': 29, 'gt': 33, 'btwn': 6, 'hypoxaemiaand': 1, 'ccn': 6, 'suceed': 2, 'nausou': 1, 'decrea': 4, 'occaa': 1, 'tighten': 22, 'superf': 2, 'doctor': 25, 'accumul': 18, 'syrup': 7, 'rtw': 1, 'altepas': 2, 'meditatin': 1, 'nervous': 1, 'attemtpt': 2, 'betweeen': 1, 'patenc': 32, 'clonazapam': 3, 'play': 21, 'hundr': 6, \"'rest\": 1, 'weitht': 1, 'noutrit': 1, 'disted': 1, 'redn': 2, 'dicis': 1, 'medium': 40, 'ultim': 33, 'zip': 2, 'disten': 8, 'spasmod': 1, 'contini': 3, 'moderat': 1, 'admininst': 2, 'rvr': 52, 'inj': 6, 'pulmojnari': 1, 'predinson': 2, 'diflucan': 6, 'steriod': 27, 'lightheaded': 25, 'baslin': 8, 'litr': 15, 'print': 11, \"'tire\": 1, 'holist': 2, 'eldest': 2, 'psupp': 8, 'epidod': 1, 'cefepin': 2, 'gestur': 33, 'amio': 23, 'pnr': 2, 'cleanser': 21, 'comapzin': 1, 'perineum': 29, 'bcome': 1, 'appro': 4, 'rhinoviru': 1, 'facilit': 54, 'atropin': 14, 'bsx': 21, 'flipp': 1, 'bend': 10, 'thumb': 8, 'rednessskin': 1, 'dizzi': 43, 'belt': 9, 'naus': 3, 'towel': 6, \"am't\": 3, 'norepinephrin': 23, 'sxd': 14, 'reticular': 17, 'sundrom': 1, 'yel': 18, 'methimazol': 3, 'miconizol': 6, 'rsp': 11, 'hyperthyroid': 4, 'pant': 4, 'asynchronu': 1, 'vigir': 1, 'planninng': 1, 'uninvolv': 2, 'extremit': 28, '^activ': 1, 'postion': 16, 'occass': 22, 'montitor': 3, 'instil': 32, 'acess': 6, 'break': 43, 'breakdownn': 1, 'doppl': 2, 'prednison': 108, 'sb': 107, 'alprazolam': 5, 'nsb': 8, 'revert': 11, 'lopresor': 8, 'codien': 3, 'perirect': 10, 'electolyt': 8, 'toilett': 4, 'bldi': 11, 'music': 5, 'sacrum': 45, 'periipher': 1, 'fleck': 5, 'stretcher': 32, 'sn': 4, 'comfortabl': 1, 'fliud': 5, 'serequel': 4, 'amiodaron': 47, 'moda': 13, 'supratherapeut': 25, 'heb': 6, 'platelet': 27, 'cast': 13, 'endur': 30, 'yom': 31, 'warfarin': 35, 'hap': 93, 'pharmaci': 42, 'phenytoin': 9, 'heat': 20, 'environment': 1, 'near': 151, 'tartrat': 29, 'pulll': 1, 'diverticulosi': 33, 'cue': 41, 'urea': 3, 'mmp': 10, 'commens': 9, 'maxa': 8, 'mere': 9, 'triglycerid': 9, 'rins': 14, 'load': 65, 'confid': 6, 'cholangiogram': 1, 'hyperthryoid': 1, 'beneprotein': 28, 'femor': 131, 'intensivist': 3, 'protract': 4, 'dye': 29, 'hotn': 13, 'afterward': 26, 'endovascular': 2, 'nonpit': 1, 'ipratropium': 74, 'vm': 11, 'dyslipidemia': 15, 'granual': 1, 'phlebiti': 3, 'bromid': 33, 'lipid': 15, 'achhiev': 1, 'violent': 3, 'tub': 6, 'alkolosi': 6, 'absorb': 9, 'dead': 12, 'monosodium': 1, 'tacheostomi': 2, 'bsn': 20, 'cabgx': 3, 'ukn': 1, 'pth': 4, 'tunnel': 48, 'hemoglobin': 9, 'glutam': 1, 'pictur': 57, 'choley': 3, 'cholecystectomi': 39, 'cholecystostomi': 2, 'shif': 1, 'spars': 25, 'retri': 9, 'ctx': 66, 'abbrevi': 4, 'phenobarbit': 3, 'levetiracetam': 8, 'sem': 22, 'vdvt': 1, 'flank': 40, 'unnecessari': 6, 'cholecystosomi': 1, 'graft': 24, 'risen': 3, 'famotidin': 58, 'simpli': 17, 'plof': 7, 'epilept': 2, 'reb': 5, 'redo': 10, 'telemetri': 56, 'kepra': 1, 'trachemask': 1, 'surgeon': 12, 'drew': 3, 'hypercalcemia': 10, 'implant': 9, 'eob': 23, 'appt': 10, 'squat': 5, 'groom': 2, 'palcement': 7, 'resuspend': 1, 'vd': 13, 'convuls': 4, 'inaccur': 5, 'performac': 12, 'sustain': 42, 'dronederon': 1, 'pafib': 3, 'btca': 4, 'sqt': 1, 'sure': 50, 'subtherapeut': 23, 'foami': 2, 'suspens': 13, 'antibioit': 1, 'serratia': 2, 'wfl': 40, 'noninvas': 13, 'preced': 43, 'greatli': 37, 'seiz': 4, 'readmit': 35, 'bar': 6, 'urojet': 3, 'rlq': 11, 'motiv': 9, 'granular': 4, 'intermit': 30, 'redos': 12, 'hypovolemia': 51, 'appoint': 30, 'strenth': 2, 'ug': 2, 'entranc': 5, 'aris': 18, 'ttp': 20, 'clearanc': 58, 'doesnt': 5, 'cholesterol': 12, 'vc': 7, 'dyspneic': 46, 'elect': 27, 'household': 2, 'maxim': 37, 'ncm': 18, 'sens': 34, 'spin': 8, 'warafin': 1, 'yetserday': 1, 'hair': 5, 'dronedaron': 1, 'hypoperfus': 16, 'bph': 29, 'compart': 12, 'flomax': 7, 'lob': 15, 'exud': 22, 'anymor': 14, 'arrest': 23, 'ni': 6, 'okay': 60, 'writen': 1, 'worst': 22, 'sugic': 1, 'methylprednison': 11, 'othwis': 1, 'adaptec': 2, 'hydralizin': 18, 'harsh': 13, 'bsbl': 1, 'struggl': 7, 'hypothermia': 19, 'discoid': 8, 'neutrophil': 10, 'asystol': 2, 'enalapril': 9, 'angri': 25, 'oett': 27, 'dobhuff': 1, 'semiform': 5, 'mural': 13, 'nightgown': 2, 'aeros': 2, 'vasotec': 7, 'unsucces': 4, 'west': 20, 'peermenat': 1, 'pcw': 2, 'thoracostomi': 8, 'wrestl': 1, 'hallucinatori': 2, 'kn': 1, 'radiat': 80, 'crew': 2, 'hallucin': 33, 'kill': 8, 'thrash': 17, 'mo': 27, 'henc': 8, 'advantag': 2, 'oncologist': 18, 'ridgid': 2, 'diminis': 1, 'paralyt': 10, 'releiv': 4, 'subclav': 3, 'armstorng': 1, 'unsucess': 2, 'moistur': 14, 'clapm': 1, 'midday': 3, 'terribl': 4, 'imv': 13, 'paranoid': 10, \"'m\": 25, 'currentlli': 1, 'proof': 1, 'misc': 5, 'escap': 5, 'bandaid': 9, 'build': 17, 'dictat': 70, 'sorri': 4, 'multilpl': 1, 'nobodi': 2, 'importantli': 4, 'attack': 20, 'ncp': 1, 'harm': 8, 'divorc': 6, 'smoker': 69, 'neoplast': 14, 'propfol': 7, 'nevertheless': 12, 'reccur': 3, 'xrt': 41, 'propof': 2, 'conitinu': 2, 'paperwork': 34, 'tumor': 44, 'medistin': 5, 'cordi': 10, 'crepitu': 27, 'desprat': 1, 'reprot': 2, 'lap': 19, 'waist': 12, 'vaccum': 1, 'departur': 3, 'chemo': 44, 'design': 36, 'taht': 2, 'restarin': 1, 'maintenc': 2, 'decsion': 3, 'notibl': 1, 'abat': 5, 'orali': 1, 'delusioni': 1, 'setup': 7, 'suddenli': 12, 'indian': 3, 'stint': 1, 'beggin': 1, 'proccess': 1, 'flexibl': 5, 'empti': 27, 'shred': 1, 'gs': 21, 'metastat': 65, 'remiss': 6, 'lla': 8, 'oxicontin': 1, 'permen': 2, 'drowsi': 14, 'fom': 4, 'tachyapen': 1, 'leather': 3, 'oncolog': 34, 'bronchoscop': 10, 'plum': 1, 'hcv': 23, 'presep': 18, 'addict': 21, 'thoughtout': 2, 'perecnt': 1, 'floey': 1, 'fhpa': 7, 'dryer': 2, 'uncoil': 2, 'neuropathi': 36, 'segment': 205, 'consit': 5, 'azitromycin': 2, 'ivda': 4, 'brieflli': 1, 'pseudonoma': 1, 'immidiatli': 1, 'clonopin': 6, 'closet': 2, 'draing': 12, 'respiraotri': 3, 'amx': 3, 'morbid': 15, 'vicodan': 1, 'catch': 7, 'receipt': 2, 'acinetobact': 3, 'mgx': 4, 'tirat': 3, 'serosang': 31, 'aroussbl': 1, 'bsf': 2, 'adendun': 1, 'colostomi': 17, 'bariair': 3, 'marker': 31, 'shilli': 1, 'avg': 9, 'tran': 16, 'communc': 2, 'clonipin': 5, 'bigboy': 1, 'unstabl': 30, 'jtube': 7, 'alkp': 1, 'protector': 2, 'rsrc': 14, 'mvi': 38, 'mulitivitamin': 1, 'dhf': 3, 'cardic': 1, 'unerli': 1, 'uncommun': 3, 'spfc': 15, 'pk': 9, 'hf': 19, 'panel': 49, 'invalid': 5, 'hadsbp': 1, 'def': 7, 'insid': 13, 'qhr': 8, 'chemistri': 51, 'bicarbon': 13, 'hyperglycemia': 82, 'presur': 2, 'ferritin': 14, 'cortisol': 27, 'grayscal': 79, 'notat': 3, 'ggt': 9, 'hemorrhoid': 9, 'reciproc': 3, 'argu': 18, 'aa': 21, 'alleyvn': 1, 'avf': 27, 'equival': 14, 'linazolid': 3, 'rhoncor': 12, 'ezmolol': 1, 'dashboard': 7, 'qidach': 2, 'caliciu': 1, 'syring': 11, 'tobacco': 77, 'millimet': 2, 'hypoaldosteron': 2, 'hyperosmolar': 1, \"ce'\": 3, 'nonstag': 1, 'juven': 1, 'nephrotox': 9, 'lit': 34, 'fulll': 1, 'formula': 30, 'bind': 1, '^rd': 13, 'decel': 4, 'algorithm': 7, 'drench': 1, 'nitrit': 6, 'lcx': 9, 'medntal': 1, 'reassuringli': 1, 'gluc': 9, 'pulmocar': 1, 'somonl': 3, 'merepenum': 8, 'faster': 55, 'cytolog': 26, 'porcin': 5, 'neutra': 9, 'pottassium': 1, 'sundown': 15, 'disrrhea': 1, 'pack': 74, 'meropenim': 4, 'tricep': 3, 'act': 60, 'dif': 8, 'hyperantremia': 1, 'mca': 17, 'valid': 13, 'freeli': 43, 'peritoneum': 4, 'hemipharesi': 1, 'ipratrop': 2, 'miner': 47, \"'out\": 1, 'hear': 67, 'rigor': 26, 'atter': 1, 'broadli': 23, 'rarr': 1, 'mdr': 8, 'hsq': 14, 'rca': 9, 'capactiy': 1, 'vsd': 39, 'pda': 26, 'defici': 38, 'italian': 4, 'png': 6, 'multidrug': 2, 'metoclopramid': 15, 'jxxb': 6, 'pxdb': 7, 'upslop': 1, 'courc': 1, 'ftt': 5, 'ste': 6, 'resposit': 7, 'dng': 16, 'siadh': 26, 'omeprazol': 43, 'synthryoid': 1, 'fetl': 1, 'ture': 5, 'damag': 14, 'unk': 1, 'twi': 18, 'ratio': 24, 'suprahilar': 10, 'vigil': 4, 'malposit': 24, 'clonidin': 14, 'anteriolater': 1, 'buttack': 1, 'repo': 17, 'hyperreson': 44, 'anicter': 69, 'unstag': 8, 'ascorb': 4, 'mag': 82, 'tablet': 26, 'diaphoresi': 41, 'ts': 41, 'healthcar': 40, 'agua': 1, 'lad': 83, 'solut': 24, 'epi': 25, 'curent': 4, 'neuto': 1, 'worthwhil': 1, 'ppd': 30, 'outsid': 75, 'yesterd': 1, 'resrart': 1, 'alcohol': 96, 'eschar': 8, 'rather': 82, 'perpher': 18, 'hemiparesi': 29, 'htpn': 1, 'clostridium': 20, 'gr': 32, 'crowd': 15, 'muc': 1, 'azygo': 14, 'nickel': 3, 'normocyt': 10, 'sbo': 27, 'roscommon': 1, 'allevyn': 21, 'exch': 18, 'anterolater': 39, 'difficil': 31, 'anterospt': 1, 'augment': 97, 'rhoncer': 7, 'perday': 1, 'levof': 3, 'jksd': 18, 'improp': 1, 'restrict': 89, 'palc': 8, 'inhibitor': 30, 'brbpr': 10, 'housestaff': 30, 'haloperidol': 25, 'bblocker': 6, 'std': 5, 'illicit': 10, 'angina': 13, 'tw': 7, 'meticul': 5, 'account': 43, 'sight': 8, 'bilar': 2, 'odor': 14, 'sun': 60, 'pneumoperitoneum': 19, 'flexis': 31, 'blockad': 15, 'sclera': 115, 'grimaci': 1, 'vessl': 2, 'profus': 14, 'besid': 11, \"uti'\": 1, 'multivitamin': 59, 'option': 51, 'intev': 3, 'nursig': 1, 'acccess': 2, 'prioriti': 7, 'hrt': 21, 'sttw': 2, 'arhb': 9, 'honk': 1, 'beta': 99, 'isquit': 1, 'misplac': 5, 'elderli': 34, 'patellar': 3, 'groan': 12, 'toson': 1, 'retir': 29, 'cerebrovascular': 11, 'chlorhexadin': 2, 'catheter': 18, 'blacken': 5, 'suppl': 81, 'causal': 2, 'sion': 1, \"dri'\": 1, 'bound': 17, 'coaurs': 1, 'metop': 8, 'repet': 7, 'reclin': 13, 'legal': 36, 'tetracyclin': 12, 'guardian': 14, 'cathey': 1, 'fed': 22, 'maiten': 2, 'attorney': 8, 'pud': 46, 'fev': 9, 'churg': 3, 'itch': 21, 'numb': 53, 'everytim': 2, 'paf': 19, 'ouput': 13, 'longstand': 31, 'sud': 6, 'mssa': 21, 'manual': 33, \"md'\": 3, 'abdomihn': 1, 'repons': 2, 'bra': 2, 'coli': 20, 'bloat': 4, 'recordslosartan': 1, 'arthroplasti': 9, 'gastrointestin': 109, 'myalgia': 62, 'sock': 5, 'bronchiti': 34, 'discern': 12, 'benzonat': 6, 'migrain': 10, 'centavit': 1, 'glycol': 11, 'angioneurot': 1, 'consolod': 2, 'disimpact': 13, 'impact': 40, 'catscan': 3, 'fluticason': 25, 'tha': 6, 'consecut': 14, 'si': 17, 'milk': 17, 'furosemi': 1, 'polyethylen': 12, 'thatn': 1, 'mbue': 8, 'hypoalbuminemia': 2, 'subcentimet': 30, 'jekh': 11, 'onlin': 13, 'bathroom': 16, 'uteru': 27, 'bronchogram': 64, 'cramp': 18, 'tenac': 2, 'flew': 1, 'spiriva': 20, 'fibroid': 7, 'obstip': 8, 'modestli': 4, 'tramadol': 11, 'pneumothorac': 31, 'neurot': 1, 'osteo': 10, 'annulu': 23, 'dchf': 10, 'loratadin': 5, 'seven': 23, 'senakot': 1, 'arthriti': 30, 'advair': 35, 'silent': 34, 'angioedema': 8, 'losartan': 9, 'overt': 81, 'retent': 51, 'soband': 1, 'atorvastatin': 24, 'suppositori': 25, 'klor': 1, 'sma': 10, 'calcarb': 1, 'purs': 9, 'streak': 35, 'palpit': 78, 'precordium': 17, 'acquisit': 27, 'overdistend': 2, 'osteoarthr': 22, 'pseudomana': 1, \"legionella'\": 1, 'sticki': 7, 'divis': 43, 'pullmonari': 2, 'abund': 10, 'llq': 10, 'homemak': 4, 'miralax': 16, 'iin': 4, 'noncontributori': 3, 'prod': 66, 'instanc': 6, 'golyt': 3, 'version': 44, 'disempact': 3, 'gabapentin': 29, 'ultram': 15, 'presepsi': 2, 'glucerna': 2, 'yield': 24, 'suciton': 7, 'od': 7, 'clairfi': 1, 'zithromax': 10, 'flouroscopi': 3, 'recommenc': 3, 'ru': 2, 'inflitr': 3, 'apperci': 1, 'emisi': 2, 'aforement': 11, 'anf': 4, 'evenu': 1, 'unbal': 1, 'yankaeur': 5, 'aphas': 10, 'town': 5, 'mici': 1, 'evlauat': 1, 'ade': 2, 'spoken': 41, 'correspond': 63, 'intestin': 27, 'broncoscopi': 5, 'perti': 1, 'neoplasm': 39, 'tunnedl': 1, 'epiglott': 35, 'ultrasonograph': 15, 'vicryl': 8, 'conist': 2, 'outpouch': 1, 'ultrasonographi': 5, 'vascul': 14, 'lost': 33, 'deflect': 36, 'para': 18, 'biapic': 16, 'carcinomatosi': 5, 'shth': 6, 'int': 22, 'lymphanget': 2, 'pnemonia': 17, 'centesi': 7, 'passag': 12, 'oscult': 1, 'spillag': 4, 'absenc': 75, 'boop': 9, 'radiologistclip': 1, 'cricopharyng': 3, 'exact': 10, 'atelectas': 17, 'nonlas': 5, 'incl': 29, 'collim': 29, 'oropharynx': 59, 'peribronchiolar': 9, 'phase': 113, 'torso': 96, 'ake': 1, 'sibl': 9, 'oval': 24, 'aspergillosi': 3, 'nonenhanc': 2, 'display': 60, 'serviceclip': 4, 'aaox': 33, 'dont': 2, 'hypoattenu': 18, 'echotextur': 28, 'vori': 1, 'bibas': 24, 'anyon': 10, 'dopp': 9, 'pel': 15, 'ciwa': 22, 'duplex': 30, 'aggrav': 2, 'sebac': 4, 'transamin': 26, 'asperigillosi': 1, 'pancrat': 1, 'vault': 4, 'cbd': 21, 'niv': 28, 'reliabl': 18, 'antibioitc': 2, 'bloodting': 7, 'dep': 7, 'dysphoria': 1, \"'ing\": 6, 'scare': 12, 'deem': 17, 'prosthet': 14, 'shown': 36, 'presseur': 1, 'mycostatin': 16, 'charg': 6, 'thorcentesi': 1, 'ventilatio': 1, 'exclus': 13, 'aroung': 3, 'addtion': 4, 'sanguin': 10, 'bang': 9, 'entero': 1, 'patint': 2, 'pylori': 11, 'tu': 9, 'eqaul': 1, 'greek': 3, 'bedrail': 6, 'loccul': 1, 'zenker': 3, 'placem': 10, 'previosu': 1, 'sxt': 4, 'trachesotomi': 1, 'oet': 3, 'nifm': 1, 'sideport': 9, 'epigastr': 21, 'agrre': 1, 'overlay': 4, 'ther': 8, 'cntl': 3, 'midnght': 1, 'fc': 7, 'diffult': 1, 'preclud': 15, 'siderail': 13, 'pomot': 1, 'adeqaut': 7, 'tie': 13, 'intol': 2, 'backflow': 2, 'sxning': 18, 'sheddi': 1, 'pati': 1, 'tudi': 1, 'strategi': 13, 'soften': 9, 'tyleno': 3, 'peopl': 33, 'book': 17, 'duiresi': 4, 'assit': 10, 'epigast': 1, 'neccessari': 4, 'rsd': 1, 'eccyhmot': 1, 'pharyngoesophag': 1, 'coninu': 6, 'prospect': 2, 'bulg': 11, 'brkd': 1, 'musc': 1, 'ancef': 1, 'mayb': 34, 'outout': 3, 'bx': 31, 'medcial': 1, 'pnaumonia': 1, 'subpulmon': 7, 'diverticulum': 10, 'spon': 18, 'tack': 3, 'elong': 47, 'abt': 5, 'apneia': 1, 'rust': 8, 'chnage': 5, 'antibiod': 8, 'hyperechogen': 2, 'esphog': 1, 'nodal': 18, 'hepatoma': 1, 'neutro': 4, 'thrombosi': 91, 'collater': 15, 'nystagmoid': 1, 'nonbreath': 1, 'phosphatas': 8, 'overse': 1, 'nonobstruct': 9, 'huge': 13, 'asid': 22, 'olni': 1, 'xalatan': 2, 'fentanlyl': 1, 'uncomprehens': 2, 'nephrectomi': 12, 'grave': 6, 'durages': 5, 'cirrhot': 6, 'rythmic': 1, 'cholelithiasi': 36, 'neurontin': 39, 'aortocav': 4, 'varic': 14, 'hypoxi': 1, 'pepcid': 46, 'architectur': 9, 'heavi': 43, 'older': 12, 'skincar': 4, 'accordion': 1, 'ileu': 42, 'lowish': 2, 'seriou': 5, 'inclin': 5, 'anur': 17, 'tkcb': 4, 'frontotempor': 2, 'sbna': 9, 'celexa': 25, 'grown': 18, 'pernici': 4, 'enterobact': 7, 'qpm': 9, 'unsur': 40, 'collapps': 1, 'pneumatosi': 16, 'falgyl': 2, 'metronidazol': 54, 'pmi': 84, 'sac': 10, 'craniotomi': 7, 'withnew': 1, 'shadow': 53, 'pancytopenia': 9, 'contributori': 21, 'ica': 23, 'pfo': 19, 'pancol': 3, 'hyperinfl': 31, 'bubbl': 24, 'tambocor': 1, 'nsst': 2, 'pterion': 2, 'abomin': 1, 'mood': 15, 'vac': 8, 'unexplain': 8, 'gmdb': 3, 'pseudomembran': 2, 'transcort': 1, 'chgc': 4, 'empyema': 64, 'splenomegali': 26, 'levoflaxacin': 2, 'meningismu': 4, 'eagg': 9, 'decomp': 2, 'aneursym': 4, 'flovastin': 1, 'elicit': 13, 'stigmata': 3, 'recordspneumovax': 1, 'steadili': 13, 'dyspahgia': 2, 'nwh': 5, 'flecanid': 2, 'flecainid': 2, 'orific': 5, 'esophag': 75, 'baricat': 6, 'depakot': 13, 'narrow': 111, 'extrahepat': 15, 'foramen': 18, 'dilaudid': 42, 'subcarin': 48, 'megacolon': 12, 'qam': 18, 'blossom': 4, 'pneumovax': 3, 'valvular': 73, 'intracardiac': 17, 'habitu': 52, 'splenoren': 2, 'rheumat': 6, 'honeycomb': 10, 'flecanaid': 1, 'necessarili': 8, 'questran': 1, 'ampl': 11, 'throughput': 1, 'hydral': 17, 'iatrogen': 7, 'transvers': 41, 'tart': 2, 'stoolx': 5, 'infil': 4, 'palpapt': 1, 'silk': 14, 'spirt': 1, 'popscicl': 1, 'fxd': 3, 'tachycardiac': 5, 'bronchi': 54, 'perlla': 4, 'baracat': 2, 'lisinepril': 1, 'haldolx': 1, 'vhp': 3, 'mc': 14, 'tachypeniec': 2, 'catheth': 2, 'oz': 4, 'junctur': 1, 'benzo': 46, 'spiral': 2, 'oxygent': 7, 'linisod': 1, 'dueoderm': 4, 'tacycardia': 3, 'uac': 3, 'liezolid': 1, 'mequ': 1, 'egg': 9, 'llift': 1, 'ugib': 8, 'cmpeep': 1, 'dima': 1, 'peptomen': 3, 'drgreena': 1, 'amyla': 1, 'method': 14, 'bilou': 5, 'larynx': 8, 'distensio': 1, 'rle': 40, 'leakag': 24, 'catnap': 1, 'panic': 14, 'anesthet': 26, 'recan': 6, 'auditori': 6, 'startl': 6, 'pneunomia': 2, 'rebolus': 3, 'reddish': 2, 'imipemium': 1, 'attemt': 5, 'htx': 1, 'expens': 3, 'peptamin': 1, 'midlung': 8, 'transluc': 1, 'ducolax': 10, 'gastrograffin': 4, 'ativanx': 1, 'bilex': 1, 'awi': 3, 'paper': 32, 'fluorscop': 1, 'crea': 10, 'withdrawl': 20, 'integrt': 1, 'fifteen': 2, 'drng': 31, 'arachnoid': 5, 'teari': 10, 'palap': 2, 'sputm': 3, 'vallecula': 36, 'darken': 1, 'flucuat': 3, 'behind': 14, 'thur': 9, 'surfac': 39, 'accid': 8, 'imepenem': 2, 'extermit': 3, 'droperidol': 1, 'homogen': 34, 'tonit': 12, 'fluroscop': 2, 'ureteru': 1, 'articul': 13, 'eros': 17, 'stau': 8, 'grimmac': 6, 'spirit': 26, \"decr'\": 1, 'spillov': 23, 'antegrad': 16, 'pasi': 2, 'cooler': 2, 'intermitantli': 2, 'billiou': 3, 'imipenem': 7, 'repiratori': 5, 'particiapt': 1, 'valuewith': 1, 'diaphor': 1, 'empath': 2, 'laboratori': 12, 'speck': 5, 'unclamp': 3, 'gastrographin': 2, 'imipenum': 3, 'viscer': 9, 'truncat': 2, 'midazolam': 75, 'edno': 2, 'improvemnt': 2, 'maxillofaci': 11, 'erract': 1, 'anesthesi': 1, 'diuesi': 1, 'pocket': 24, 'endoscop': 6, 'clam': 3, 'purri': 1, 'anticoagualt': 1, 'hemi': 5, 'grip': 15, 'mash': 4, 'anaplast': 2, 'rem': 1, 'appropi': 19, 'mimin': 2, 'subcm': 2, 'acyclovir': 21, 'nodd': 4, 'mandibl': 15, 'frquesnt': 1, 'kegal': 1, 'multipurpos': 1, 'meperidin': 7, 'lanti': 6, 'aknowledg': 1, 'insuffici': 84, 'wont': 2, 'fuo': 26, 'coud': 7, 'podiatri': 6, 'thoughout': 17, 'carvu': 15, 'coffe': 23, 'lenght': 3, 'tachypen': 13, 'llightli': 1, 'pupos': 3, 'tommorow': 9, 'wob^': 1, 'chekc': 2, 'acalcul': 4, 'demerol': 10, 'phenegin': 1, 'recultur': 37, 'bout': 15, 'teh': 7, 'peripancreat': 3, 'qlcl': 2, 'evsl': 1, 'methylen': 3, 'pneumat': 10, 'dtv': 9, 'intrathorac': 18, 'practic': 9, 'lwi': 1, 'agiat': 6, 'gelatan': 1, 'liw': 1, 'bgm': 1, 'quadrupl': 2, 'patien': 4, 'rhonch': 3, 'unilater': 9, 'mycoplasma': 6, 'flouro': 3, 'darker': 4, 'pheresi': 1, 'honey': 15, 'diabetc': 1, 'airmattress': 4, 'airwari': 1, 'nutrtion': 3, 'eripher': 1, 'appropti': 1, 'weather': 5, 'flexur': 10, 'sharpli': 17, 'ltue': 1, 'oil': 11, 'pipicilln': 1, 'antiboticx': 1, 'ou': 6, 'netrothick': 1, 'affirmativley': 1, 'riski': 3, 'bmthi': 1, 'tyenol': 6, 'slough': 6, 'averag': 51, 'visul': 1, 'straw': 62, 'transger': 1, 'extralumin': 7, 'suctioin': 1, 'ivx': 7, 'taught': 10, 'peptimen': 2, \"trach'\": 2, 'armpit': 9, 'court': 9, 'muer': 2, 'fro': 23, 'crate': 1, 'lge': 27, 'cooprer': 1, 'fallen': 9, 'dem': 1, \"sx'ed\": 7, 'acidot': 14, 'pleura': 31, 'regiular': 1, 'exu': 1, 'ocassion': 5, 'hypoplast': 3, 'lcl': 1, 'heavili': 19, 'sheift': 1, 'barocat': 3, 'tachpneic': 8, 'throuhgout': 4, 'fuction': 3, 'prolin': 1, 'intremitt': 1, 'yankauer': 28, 'shook': 7, 'ostiomeat': 5, 'throghout': 1, 'coomand': 1, 'cam': 3, 'tracheobronchi': 20, 'lavarg': 5, 'brb': 13, 'gravitli': 1, 'zestril': 3, 'peq': 1, 'bf': 3, 'lenti': 1, 'actviti': 3, 'anatom': 16, 'deescal': 1, 'indicaiton': 1, 'maynot': 1, 'groov': 2, 'fatiqu': 3, 'blanket': 35, 'transaort': 7, 'gastrostomi': 35, 'com': 4, 'hallway': 5, 'bulb': 12, 'humidifc': 2, 'letherg': 1, 'flagal': 2, 'maintainc': 3, 'circumscrib': 12, 'orangish': 1, 'kind': 9, 'cu': 16, 'flaygl': 5, 'acromioclavicular': 8, 'domin': 9, 'hypertroph': 5, 'pathologist': 19, 'swollow': 9, 'vertebra': 13, 'duires': 4, 'hve': 1, 'lacutlos': 1, 'givn': 9, 'lac': 14, 'indetermin': 106, 'comforat': 2, 'shell': 1, 'steadi': 51, 'langu': 1, 'biilater': 1, 'tt': 12, 'likley': 15, 'pusl': 1, 'collabor': 26, 'uncommon': 3, 'shaft': 10, 'thyroidectomi': 9, 'accesori': 3, 'primarili': 44, 'retriev': 10, 'diffculti': 2, 'bougi': 3, 'spc': 1, 'suffer': 19, 'hymodynam': 1, 'sato': 9, 'thryoidectomi': 1, 'irregualr': 1, 'dorsali': 34, 'implement': 17, 'gone': 34, 'subcost': 14, \"'even\": 1, 'dinnertim': 2, 'cardizem': 12, 'thrombi': 20, 'protecton': 1, 'pleasent': 2, 'chorda': 51, 'institut': 9, 'presenlti': 1, 'breather': 9, 'parastern': 13, 'svn': 17, 'ccc': 61, 'pep': 3, 'npc': 13, 'hyperbar': 1, 'bronchodiltor': 1, 'hypoventil': 20, 'hypokalemia': 16, 'hypernatermia': 1, 'reorder': 11, 'mghg': 1, 'americar': 1, 'desmopressin': 2, 'usb': 3, 'young': 14, 'appropriatli': 11, 'valsartin': 1, 'callout': 9, 'adat': 20, 'hypercapn': 9, 'dysuria': 70, 'hypercarb': 44, 'valsartan': 6, 'rusb': 6, 'callbel': 4, 'grandchildren': 6, 'disabl': 15, 'loudest': 6, 'asdir': 10, 'overweight': 88, 'atarax': 1, 'diiures': 1, 'spread': 24, 'recordsac': 1, 'microorgan': 27, 'adn': 11, 'pyelonephr': 8, 'hypopituitar': 1, 'diovan': 6, 'coverg': 3, 'girl': 5, 'fena': 30, 'oh': 10, 'ddavp': 4, 'mandat': 14, 'boy': 5, 'sella': 3, 'panhypopit': 1, 'mcv': 11, 'eject': 34, 'feurea': 10, 'givenrsbi': 1, 'panhypopituitar': 1, 'comm': 39, 'alph': 2, 'decort': 23, 'saftey': 4, 'drifit': 1, 'readili': 12, 'bilt': 2, 'redict': 1, 'basilac': 2, 'tarri': 6, 'epidur': 19, 'bascil': 1, 'anticub': 3, 'comprehend': 6, 'iorn': 1, 'firmer': 2, 'tortuos': 24, 'gamma': 3, 'uci': 1, 'babi': 7, 'radiopharmeceut': 1, 'label': 13, 'whil': 1, 'capabl': 7, 'fluctuant': 2, 'listen': 31, 'cerebro': 1, 'daughet': 3, 'malleol': 1, 'radlin': 10, 'inleg': 1, 'cotinu': 4, 'yankuer': 14, 'hyotens': 3, 'severli': 6, 'abraison': 1, 'lidoderm': 9, 'nightmar': 1, 'aniticip': 1, 'vacuo': 4, 'nephrolithiasi': 25, 'periren': 4, 'transcript': 10, 'contratur': 1, 'sulfur': 1, 'bo': 18, 'colloid': 4, 'hemispher': 18, 'dysmotil': 2, 'undetect': 6, 'immediatli': 2, 'gell': 2, 'complainingof': 1, 'repeatedli': 25, 'tracer': 9, 'parasagitt': 5, 'strictli': 7, 'esophogram': 2, 'titir': 3, 'reprons': 1, 'repetit': 8, 'inquiri': 12, 'unconclus': 1, 'nauseat': 5, 'camera': 2, 'radiolabel': 1, 'endoscopi': 20, 'compleat': 2, 'advis': 32, 'autonom': 9, 'lebil': 1, 'ingest': 16, 'acceler': 11, 'scali': 2, 'ri': 8, 'autonim': 1, 'porta': 9, 'pauciti': 10, 'dynspnea': 1, 'ielostomi': 1, 'obstrn': 1, 'gadolin': 4, 'worsn': 2, 'spectral': 19, 'myocardium': 7, 'corvac': 2, 'index': 28, 'qflow': 1, 'diaphragmat': 20, 'caspofugin': 1, 'chrohn': 3, 'apprx': 2, 'mltp': 1, 'qp': 1, 'bilobar': 1, 'skelet': 9, 'epicardi': 6, 'pneumocyst': 2, 'atial': 1, 'plane': 41, 'cine': 2, 'cmr': 1, 'obx': 1, 'crohn': 9, 'ssfp': 1, 'liquidi': 4, 'breifli': 4, 'fraction': 30, 'dimeglumin': 1, 'amplitud': 28, 'appropraietli': 1, 'hyperdynam': 66, 'horizont': 5, 'compl': 3, 'gadopentet': 1, 'algorythm': 1, 'independantli': 4, 'immunosupress': 6, 'phasic': 13, 'ej': 9, 'chux': 2, 'abut': 24, 'wheat': 2, 'candi': 1, 'methadon': 24, 'immunosuppress': 17, 'ritalin': 7, 'echodens': 7, 'rvef': 1, 'axr': 3, 'asymmetri': 18, 'similarli': 13, 'poplit': 71, 'arrhymia': 1, 'customari': 1, \"'chest\": 1, 'quantit': 10, 'dtpa': 5, 'mtx': 2, 'anterosept': 55, 'emboli': 34, 'nslca': 1, 'avascular': 6, 'insult': 20, 'jvd': 47, 'propanolol': 2, 'nonsmal': 6, 'hsm': 45, 'toung': 4, 'thrombocytopenia': 29, 'rhinorrhea': 19, 'duoneb': 7, 'nsclca': 7, 'benzodiazepin': 13, 'catarac': 1, 'droop': 20, 'ome': 18, 'nsclc': 27, 'dexamethason': 15, 'lobectomi': 23, 'petellar': 1, 'anixeti': 1, 'insight': 4, 'amiodoron': 11, 'slur': 17, 'fibrin': 4, 'metastasi': 31, 'bruit': 15, 'upgo': 1, 'swish': 7, 'althrough': 1, 'hyperreflex': 1, 'nscla': 1, 'fatug': 1, 'palat': 41, 'mmd': 1, 'pontin': 5, 'paroxetin': 7, 'nonsustain': 2, 'cord': 52, 'achil': 3, 'lid': 5, 'concer': 2, 'dysfxn': 4, 'secondard': 1, 'shave': 8, 'essentailli': 1, 'anywher': 11, 'rhabdomyolysi': 3, 'upward': 26, 'inflam': 9, 'hypocalcemia': 6, 'rhabdo': 3, 'retard': 8, 'unavail': 35, 'tum': 8, 'pneumnia': 3, 'csru': 10, 'trunk': 34, 'asbestosi': 5, 'precep': 1, 'interstici': 1, 'preoper': 5, 'raw': 12, 'fatti': 29, 'subpleur': 19, 'deminer': 20, 'volumetr': 13, 'malfunt': 1, 'inferiorli': 31, 'reccommend': 3, 'corin': 1, 'deal': 12, 'extext': 6, 'deoxygen': 1, 'thoracu': 1, 'desa': 2, 'gutter': 11, 'tspine': 1, 'dental': 12, 'obsturct': 1, 'nkg': 2, 'polyp': 15, 'degener': 11, 'sho': 1, 'intervertebr': 9, 'adenoid': 3, 'colic': 4, 'metastas': 27, 'eg': 17, 'adnexa': 18, 'amalgam': 2, 'parotid': 10, 'subcorin': 1, 'penumonia': 8, 'feaml': 1, 'skeleton': 12, 'uptak': 12, 'carcinoma': 47, 'fifti': 1, 'emobol': 1, 'interrupt': 11, 'zinc': 5, 'montelukast': 6, 'fowel': 2, 'parapleg': 6, 'eosiniophilia': 1, 'cessat': 9, 'solutab': 1, 'synephrin': 2, 'ipf': 18, 'tofu': 1, 'paraplegia': 11, 'baclofen': 11, 'citrat': 11, 'glucan': 21, 'bursiti': 2, 'naloxon': 1, 'patul': 4, 'hallodol': 1, 'neurogen': 6, 'radiiograph': 1, 'wellbutrim': 2, 'homecar': 3, 'mepilex': 16, 'theophyllin': 3, 'satt': 3, 'ischial': 3, 'spep': 3, 'iodin': 24, 'wheel': 8, 'opiat': 21, 'abrupt': 9, 'panick': 2, 'viru': 16, 'ppn': 6, 'anca': 11, 'participc': 1, 'buccal': 23, 'emuls': 1, 'smell': 18, 'starter': 2, 'tg': 6, 'obssess': 1, 'mexilitin': 1, 'femur': 19, 'wrok': 1, 'upep': 2, 'wc': 7, 'lollipop': 1, 'serolog': 22, 'mucinex': 16, 'wasa': 2, 'geripsych': 1, 'samter': 1, 'hive': 31, 'spri': 3, 'klonopin': 17, 'gbm': 5, 'halodol': 7, 'spoon': 14, 'nutit': 2, 'amino': 3, 'ancillari': 2, 'myeliti': 1, 'parenter': 45, 'sereou': 1, 'strike': 7, 'fexofenadin': 6, 'consern': 1, 'nf': 6, 'preren': 34, 'glute': 5, 'vacno': 4, 'relationship': 11, 'medicat': 2, 'prealbumin': 1, 'cmo': 24, 'sampter': 1, 'premed': 6, 'ondansetron': 11, 'pseudoephedrin': 1, 'pussi': 1, 'ige': 3, 'threw': 3, 'stasi': 19, 'ishial': 1, 'persu': 4, 'pall': 4, 'cautious': 6, 'lollypop': 2, 'freak': 1, 'tenuou': 40, 'esr': 10, 'tib': 6, 'readm': 3, 'galactommanan': 1, 'rough': 3, 'mucuh': 1, 'mexiletin': 3, 'hum': 2, 'crp': 8, 'antigbm': 1, 'reguard': 6, 'cottonse': 1, 'coagulopathi': 57, 'trust': 6, 'uroqid': 1, 'triad': 1, 'anxirti': 2, 'apolog': 1, 'adamantli': 3, 'fenatyl': 2, 'breez': 1, 'coagul': 15, 'brace': 9, 'syndro': 2, 'recordsaspirin': 1, 'addt': 1, 'togeth': 16, 'refeed': 4, 'alevi': 1, 'wellbutrin': 4, 'yelllow': 5, 'reiniti': 7, 'acv': 12, 'resent': 15, 'cleasn': 2, 'speaker': 11, 'duccolax': 1, 'signif': 18, 'objecti': 1, 'cousin': 9, 'golf': 2, 'pop': 8, 'socail': 10, 'pulmonolog': 8, 'prupos': 1, 'bacitracin': 10, 'dk': 13, 'smile': 23, 'anim': 10, 'share': 47, 'sync': 2, 'slilghtli': 1, 'gent': 12, 'multilfoc': 1, 'glut': 9, 'unti': 1, 'god': 4, 'electrolty': 1, 'hh': 8, 'sedaton': 1, \"o'\": 4, 'pericar': 5, 'cotn': 4, 'willb': 2, 'possobl': 1, 'undetail': 1, 'providencia': 2, 'bridg': 25, 'vec': 6, 'trail': 14, 'incorrect': 5, 'prom': 8, 'pastey': 2, 'sse': 10, 'wdw': 1, 'distrss': 1, 'quiac': 7, 'pca': 21, 'ball': 6, 'minist': 2, 'ovebreath': 1, 'erupt': 4, 'cline': 2, 'purlul': 2, 'ordredd': 1, 'coat': 15, 'strg': 1, 'stump': 10, 'drg': 10, 'ds': 15, 'integu': 6, 'iliostomi': 2, 'oxygn': 3, 'smal': 3, 'dobhoff': 39, 'splenectomi': 7, 'integrum': 1, 'ileostomi': 9, 'scabi': 1, 'vallecular': 6, 'hemodynm': 6, 'trnf': 2, 'sang': 22, 'secreathin': 1, 'filter': 39, 'colour': 5, 'spill': 20, 'vascularight': 1, 'pyloro': 1, 'colectomi': 19, 'dophoff': 7, 'jump': 5, 'priviou': 1, 'dh': 2, 'subtot': 9, 'rssi': 11, 'duoden': 18, \"sx'ng\": 4, 'ileotomi': 1, 'nacl': 5, 'mastic': 23, 'applianc': 8, 'sero': 14, 'coar': 6, 'abrais': 3, 'counter': 1, 'perin': 22, 'abruptli': 4, 'dyspnic': 10, 'ultrason': 2, 'dyspnoic': 1, 'ident': 12, 'peptamen': 6, 'ek': 1, 'singular': 1, 'thristi': 2, 'inculin': 1, 'coved': 1, 'recievi': 2, 'predormin': 1, 'verapamil': 6, 'bbb': 7, 'facilti': 1, 'afterword': 1, 'rid': 3, 'isoptin': 1, 'covers': 1, 'defict': 1, 'grandchild': 1, 'replenish': 9, 'tachypnec': 1, 'ringer': 1, 'productv': 1, 'cvf': 1, 'spivira': 1, 'ducos': 1, 'luck': 1, 'liason': 3, 'gastic': 1, 'varapamil': 1, 'freewat': 1, 'underway': 6, 'xperson': 1, 'temder': 1, 'minitrach': 1, 'hab': 2, 'acetlycystein': 1, \"'ll\": 7, 'verapim': 1, 'glove': 2, 'asssess': 3, 'cannuala': 1, 'telfa': 4, 'yanker': 4, 'wnc': 1, 'acapella': 8, 'mini': 19, 'ssic': 4, 'inabilti': 2, 'lispro': 3, 'rosolv': 1, 'hyperact': 17, 'research': 1, 'flowbi': 3, 'cked': 1, 'custard': 23, 'brn': 5, 'suspend': 4, 'stabk': 1, 'resepct': 1, 'backsid': 8, 'peditub': 5, 'recx': 2, 'lowgrad': 4, 'piclin': 1, 'unchg': 6, 'crm': 2, 'caas': 1, 'uncomfortt': 1, 'requri': 2, 'peristalsi': 5, 'doboff': 8, 'ada': 1, 'dombero': 1, 'intro': 4, 'oxacillin': 11, 'calf': 65, 'dombro': 1, 'tuck': 20, 'frree': 1, 'tracheostom': 1, 'slip': 9, 'encoura': 1, 'quo': 2, 'rubor': 2, 'tired': 3, 'ioocc': 1, 'tare': 1, 'specialist': 7, 'rxd': 5, 'peramet': 1, 'sta': 9, 'passemuir': 4, 'chec': 1, 'cellulti': 1, 'bibasilari': 3, 'reconfirm': 7, 'dietari': 19, 'morbidli': 5, 'domboro': 1, 'redder': 2, 'ch': 10, 'developmemt': 1, 'folllow': 5, 'chged': 2, 'strate': 1, 'settinf': 1, 'macer': 3, 'hyper': 15, 'celluluit': 1, 'dht': 6, 'sqeez': 2, 'crack': 23, \"'sm\": 1, 'sleeper': 3, 'abrad': 2, 'reveiw': 6, 'appox': 2, 'advancint': 1, 'dept': 8, 'msra': 4, 'sete': 2, 'stabe': 4, 'gase': 23, 'jello': 17, 'humeru': 16, 'precuat': 5, 'demon': 1, 'centemet': 1, 'cto': 1, 'immobil': 15, 'dced': 5, 'suppot': 1, 'angiocath': 3, 'pegtub': 3, 'damp': 8, 'nj': 2, 'creas': 3, 'pericolac': 1, 'antecubit': 12, 'farther': 1, 'hemodi': 7, 'oxa': 2, 'suppport': 5, 'tonoct': 3, 'neighbor': 5, 'exceed': 5, 'linin': 2, 'harder': 7, 'dobhof': 2, 'freee': 1, 'passimuir': 1, 'bronchospast': 21, 'nonrot': 1, 'appil': 1, 'drier': 2, 'huo': 20, 'indur': 5, 'nonpurpos': 6, 'reatless': 1, 'proph': 4, 'pti': 2, 'apt': 7, 'isordil': 13, 'soak': 17, 'pediatr': 2, 'chees': 7, 'tracheostoma': 1, 'sinemet': 11, 'loudli': 8, 'tolal': 1, 'beginn': 1, 'andresp': 1, 'wiht': 12, 'inexsufl': 1, 'aquaphor': 6, 'repelt': 6, 'dfddp': 10, 'ocntact': 1, 'conscious': 13, 'neurro': 1, 'medd': 1, 'bacterem': 3, 'cufflat': 1, 'asucult': 2, 'estrang': 5, 'tune': 4, 'ceftazadin': 2, 'schizoaffect': 9, 'soldier': 1, 'azithomycin': 2, 'blind': 17, 'sing': 7, 'irish': 1, 'contractil': 28, 'akinet': 12, 'augmentat': 1, 'sulfonamid': 26, 'tamiflu': 32, 'agenc': 2, 'pitch': 6, 'sypathet': 1, 'takatsubo': 1, 'sympathet': 3, 'sequenti': 7, 'hemiblock': 7, 'quantifi': 17, 'captur': 14, 'tdi': 28, 'incurr': 1, 'antrov': 1, 'oseltamivir': 13, 'superven': 33, 'coincid': 6, 'staphylococc': 1, 'tamaflu': 2, 'pcwp': 42, 'recrudesc': 5, 'akinesi': 21, 'acoust': 24, 'cpod': 1, 'superinfect': 16, 'stitch': 14, 'episdo': 1, 'leucocytosi': 4, 'underestim': 27, 'neeed': 2, 'autoregul': 8, 'nativ': 9, 'inferosept': 10, 'mgr': 3, 'dicloxacillin': 4, 'ion': 8, \"adl'\": 1, 'tacyhcardia': 1, 'postoffic': 1, 'salmeterol': 13, 'insiratori': 1, 'aicd': 17, 'overnigt': 2, 'remnant': 11, 'cw': 5, 'ferrou': 18, 'receptor': 3, 'endors': 13, 'nephropathi': 17, 'doxazosin': 2, 'qmwf': 3, 'unwel': 2, 'hickman': 8, 'mluitpl': 1, 'dfa': 44, 'gastroenter': 5, 'sevelam': 11, 'spefic': 1, 'epogen': 10, 'shcedul': 1, 'hyperliipidemia': 1, 'supraclavicular': 103, 'epo': 7, 'parent': 26, 'orthopnea': 58, 'sneez': 2, 'juvenil': 1, \"ab'\": 3, 'timolol': 4, 'melena': 20, 'predison': 4, 'bd': 4, 'tapazol': 1, 'allopurinol': 15, 'ggo': 12, 'cracker': 20, 'antibodi': 14, 'rheumatoid': 7, 'nonprodut': 1, 'construct': 4, 'sparingli': 6, 'nephrew': 1, 'paradox': 63, 'hematochezia': 11, 'rosuvastatin': 4, 'drk': 4, 'diffiuclti': 2, 'nephrocap': 10, 'calcitriol': 5, 'suicid': 51, 'dorzolamid': 1, 'dka': 8, 'matern': 2, 'minoxidil': 2, 'ativen': 2, 'recvd': 6, 'spirometri': 44, 'fight': 15, 'threshold': 48, 'nasopharg': 1, 'oralphagheng': 1, 'noseble': 2, 'antb': 4, 'bulk': 8, 'bradycardiac': 2, 'dot': 5, 'nysatin': 1, 'rhonchii': 3, 'unrepons': 1, 'teniou': 3, 'resposnd': 1, 'respolar': 4, 'clinda': 24, 'bordelin': 1, 'essentu': 1, 'throughou': 2, 'suctiopn': 1, 'grreni': 1, 'errythemia': 1, 'traumat': 21, 'latharg': 2, 'assum': 26, 'deliber': 5, 'satisfactorili': 7, 'greenish': 20, 'exampl': 23, 'comput': 15, 'cheek': 12, 'bad': 22, 'hhn': 15, 'ofd': 1, 'sclerosi': 23, 'thread': 9, 'laid': 11, 'sbop': 1, 'antidepress': 5, 'differnt': 1, 'louder': 4, 'kpho': 19, 'neutrapho': 15, 'suprapub': 15, 'oputput': 1, 'fll': 1, 'subq': 21, 'overmed': 4, 'levoxyl': 2, 'ceftriax': 10, 'tiotropium': 13, 'thorocentesi': 5, 'intrial': 1, 'imdur': 10, 'eas': 20, 'echocardiogram': 29, 'biv': 1, 'medex': 1, 'parapneumon': 21, 'uninfect': 1, 'antihypotens': 1, 'tiotroprium': 1, 'fibrot': 20, 'abiltiy': 1, 'acylovir': 2, 'posey': 9, 'lix': 7, 'grandaught': 5, 'nutritionist': 3, 'tech': 13, 'dbe': 1, 'acyclivir': 1, 'fullstrength': 1, 'heamodynam': 1, 'drunk': 2, 'reiter': 6, 'usg': 12, 'betablock': 7, 'dobboff': 1, 'advic': 9, 'lactos': 3, 'turgur': 1, 'scatt': 5, 'neutropen': 18, 'witht': 1, 'spiroment': 1, 'promininc': 1, 'tyelenol': 5, 'seraquel': 7, 'nesiritid': 1, 'rpp': 2, 'amiodron': 1, 'dynamap': 1, 'defib': 3, 'rsc': 15, 'defibril': 13, 'natrecor': 3, 'itat': 1, 'oxicillin': 3, 'nite': 12, 'dynam': 24, 'repsons': 4, 'guess': 4, 'toursad': 1, 'rla': 6, 'jag': 3, 'anieti': 2, 'oxi': 3, 'sobo': 2, 'nml': 10, 'senekot': 2, 'inotropi': 2, 'tympan': 6, 'epstudi': 1, 'isorbid': 5, 'diuiresi': 2, 'ipmi': 1, 'deeper': 7, 'lwr': 3, 'ci': 26, 'bppp': 4, 'pb': 9, 'cdb': 52, 'repsond': 2, 'torsad': 2, 'hot': 21, 'scrotum': 19, 'nystantin': 2, 'noisi': 3, 'flaggyl': 4, 'pseudomoni': 4, 'ronchoru': 3, 'insuffic': 2, 'intrens': 1, 'afraid': 13, 'culutr': 5, 'bollu': 2, 'love': 8, 'overrid': 1, 'plat': 16, 'ceftrixon': 5, 'cartoon': 1, 'core': 8, 'seemingli': 9, 'nasopharynx': 10, 'peni': 12, 'cosyntropin': 2, 'varifi': 2, 'nasoendotrach': 2, 'presser': 5, 'floroscopi': 1, 'ambulatori': 11, 'yankaur': 17, 'fibr': 2, 'pustul': 4, 'secreton': 2, 'grren': 2, 'govem': 1, 'psi': 11, 'boarderlin': 5, 'characterist': 6, 'superiorli': 17, 'promo': 1, 'elastoplast': 2, 'acetamenophen': 1, 'seek': 19, '^^rr': 6, 'uprbc': 23, 'rplace': 1, 'phelibit': 1, 'sad': 8, 'pipercillin': 9, 'tritrat': 1, 'fir': 2, 'flunk': 1, 'inqueri': 2, 'axo': 4, 'decras': 2, 'propophol': 2, 'hydropneumothorax': 13, 'coooper': 1, 'afternon': 1, 'oohr': 1, 'acetamenoph': 1, 'spe': 1, 'vaselin': 5, '^^drng': 1, 'bibasalar': 4, 'repalc': 1, 'stuff': 2, 'neeld': 1, 'superivis': 1, 'excit': 10, 'cephalid': 1, 'nursimg': 1, \"mod't\": 1, 'steristrip': 6, 'boyfriend': 9, 'caval': 10, 'negaiv': 1, \"dc'd\": 3, 'persistantli': 5, 'channel': 12, 'toiley': 1, 'btb': 4, 'withp': 1, 'probalac': 2, 'mascer': 3, 'sectret': 7, '^^^secret': 1, 'piccc': 2, 'efect': 4, 'chnager': 1, 'obs': 2, 'uri': 14, 'avandia': 2, 'hemodilut': 9, 'hidraden': 1, 'careplan': 2, 'labia': 7, 'maleat': 10, 'microcyt': 5, 'hydraden': 1, 'overhydr': 28, 'cautiou': 12, 'rebound': 72, 'chronc': 1, 'repost': 7, 'rosiglitazon': 2, 'zocyn': 6, 'tameflu': 1, 'oseltamavir': 3, 'seat': 74, 'nto': 2, 'metformin': 15, 'ccrn': 2, 'scx': 3, 'nephrotoxin': 21, 'ceft': 3, 'belliger': 6, 'apporach': 1, 'obj': 9, 'stoke': 6, 'wheezey': 8, 'bellegeri': 1, 'tray': 10, 'alrm': 2, 'anaesthesia': 3, 'awoken': 9, 'rhocher': 1, 'transf': 4, 'prodcut': 1, 'ultrum': 1, 'initaietd': 1, 'belong': 24, 'naprosyn': 1, 'giddi': 1, 'pndg': 16, 'hemodyn': 10, 'sponaten': 4, 'untoward': 4, 'fundtion': 1, 'stethoscop': 2, 'nrsg': 2, 'workload': 4, 'curiou': 2, 'armboard': 2, 'couplet': 12, 'dobutamin': 7, 'afebreil': 1, 'pharmacolog': 4, 'deviationta': 1, 'sporat': 2, 'exsist': 1, 'photophobia': 4, 'unreliev': 2, 'photophob': 1, 'peic': 1, 'triplet': 2, 'indomethacin': 2, 'fetal': 3, 'aslo': 3, 'nsvt': 16, 'extraaxi': 6, 'bitempor': 3, 'ibuprophen': 3, 'sulfameth': 6, 'everyday': 7, 'folow': 6, 'de': 37, 'woth': 1, 'granola': 1, 'clincal': 1, 'bore': 16, 'evalaut': 7, 'suppo': 5, 'indecis': 2, 'spar': 1, 'supper': 9, 'quicker': 4, 'duc': 1, 'senecot': 2, 'ilmprov': 1, 'deast': 1, 'bactrium': 2, 'dime': 9, 'fruit': 6, 'aoid': 1, 'tto': 3, 'butter': 4, 'kitchen': 12, 'peanut': 5, 'rhand': 1, 'spurt': 1, 'torn': 5, 'preop': 8, 'surveil': 32, 'flail': 5, 'interpreter': 1, 'panorex': 4, 'apac': 3, 'disappear': 2, 'transvalvular': 9, 'blur': 15, 'periap': 3, 'molar': 2, 'intaop': 1, 'crown': 2, 'bandag': 14, 'paravalvular': 1, 'assymetr': 3, 'glycopyrrol': 12, 'mvr': 18, 'saphen': 7, 'dilaud': 3, 'semiupright': 7, 'hocm': 1, 'inapprop': 2, 'airleak': 9, 'electrod': 10, 'cardioresp': 2, 'bileaflet': 2, 'myomectomi': 1, 'antisialogogu': 8, 'antiphospholipid': 4, 'intrins': 33, 'oj': 4, 'fossa': 27, 'writh': 3, 'comit': 1, 'maee': 5, 'lieu': 4, 'rose': 17, 'cavitari': 19, 'lactalos': 4, 'antipsycot': 2, 'checklist': 5, 'bled': 9, 'reinutab': 1, 'olanzipin': 3, 'subl': 1, 'contd': 17, 'cing': 7, 'replt': 1, 'resapiratori': 1, 'ivdu': 13, 'myconazol': 7, 'specifi': 11, 'theraft': 1, 'prophylacticlli': 1, 'aralast': 1, 'flirt': 1, 'equla': 1, 'squirm': 4, 'news': 3, 'antialpha': 1, 'distened': 3, 'snore': 5, 'dissolv': 2, 'doc': 1, 'ceftazadim': 7, 'humulog': 7, 'multilumen': 9, 'ziprasidon': 1, 'magnet': 15, 'geodan': 1, 'forth': 7, 'haladol': 1, 'angiogram': 17, 'dulc': 5, 'wea': 4, 'amitryptilin': 1, 'perscib': 1, 'wether': 2, 'oximetri': 1, 'mra': 18, 'hift': 2, 'undigest': 13, 'disconnect': 15, 'respit': 1, 'broncial': 1, 'lias': 3, 'impuls': 9, 'ahd': 4, 'kerlex': 8, 'cefatzadim': 1, 'supris': 1, 'residula': 1, 'upsid': 2, 'dramat': 29, 'amitriptylin': 3, 'accident': 13, 'pin': 8, 'unfocus': 1, 'circul': 18, 'grunt': 6, 'growl': 2, 'risbi': 26, 'reduce': 1, \"c'ing\": 7, 'perpetu': 2, 'mgtid': 1, 'bisacoyl': 1, 'antitrypsin': 1, 'alpha': 5, 'distract': 5, 'corner': 11, \"'ve\": 4, 'flame': 1, 'scaley': 1, 'ngtube': 2, 'spontanoeu': 1, 'trypsin': 1, 'reden': 11, 'department': 10, 'mdght': 2, 'vegat': 1, 'depent': 2, 'cmbivent': 1, 'difficulr': 1, 'quadrapleg': 1, 'extremitit': 3, 'vegiat': 1, 'drool': 4, 'spanish': 16, 'multidisiciplinari': 2, 'staabl': 1, 'coexsist': 1, 'depressor': 1, 'secrat': 2, \"d'cd\": 8, 'gpr': 9, 'acl': 13, 'semierect': 3, 'hole': 20, 'multilocul': 6, 'intercost': 12, 'waters': 14, 'forti': 2, 'judgement': 4, 'thoracotomi': 18, 'socila': 1, 'rivert': 1, 'decresa': 1, 'overnihght': 1, 'cogh': 2, 'lihgt': 1, 'presnt': 3, 'lelev': 1, 'intertrochanter': 4, 'acth': 1, 'broaden': 35, 'tizanidin': 3, 'calibr': 8, 'lifelin': 2, 'omr': 61, 'overtli': 4, 'inclu': 1, 'financ': 1, 'org': 4, 'rehir': 1, 'ambient': 7, 'ce': 64, \"epi'\": 1, 'bact': 8, 'flare': 46, 'thorcaic': 1, 'hisotri': 1, 'pect': 1, 'licsw': 20, 'repelet': 2, 'dream': 5, 'debat': 3, 'fq': 4, 'adhes': 22, 'vesiculo': 1, 'exactli': 7, 'clergi': 16, 'tyesterday': 1, 'spnal': 1, 'rent': 4, 'cephalosporin': 10, 'glad': 2, 'nortriptylin': 4, 'subutan': 10, 'paralysi': 24, 'vesicular': 4, 'silhouet': 14, 'rapidli': 39, 'chocol': 5, 'ventimask': 11, 'pnoon': 1, 'flosheet': 1, 'fllet': 1, 'drive': 32, 'idioventricular': 3, 'serious': 4, 'syncop': 16, 'oropharyngela': 1, 'chng': 3, 'rabbi': 8, 'anger': 6, 'dirti': 16, 'facemask': 23, 'nitropast': 9, 'giv': 1, 'equilibrium': 1, 'clinician': 43, 'neutopho': 1, 'hemodynim': 12, 'gib': 35, 'busi': 8, 'afterload': 21, 'rythym': 8, 'scopalamin': 6, 'immin': 2, 'hj': 1, 'hotnsiv': 3, 'concur': 4, 'osteoporosi': 26, 'diurisei': 1, 'untreat': 8, 'death': 14, 'changedto': 1, 'citalopram': 18, 'lengthi': 13, 'heaprin': 4, 'thromu': 1, 'advoc': 5, 'subj': 3, 'charact': 5, 'appropr': 1, 'discont': 3, 'spite': 10, 'lij': 19, 'discu': 5, 'aphasia': 18, 'fxn': 30, 'instabl': 39, 'analgesia': 8, 'bye': 1, 'likelihood': 22, 'genit': 2, 'unrealist': 2, 'pci': 13, 'fulfil': 2, 'uptitr': 18, 'vasovag': 3, 'deterior': 43, 'donepezil': 11, 'llsb': 7, 'donezipil': 1, 'daugther': 4, 'memantin': 4, 'hyalin': 2, 'hemodyanm': 2, 'vulner': 1, 'tachypneac': 2, 'pulmari': 1, 'antiobiot': 12, 'flinch': 2, 'unattend': 2, 'progre': 1, 'diffficult': 1, 'gon': 1, 'traponin': 1, 'abcess': 22, 'biphas': 7, 'prebypass': 2, 'swr': 1, 'raet': 1, 'enquier': 2, 'veloc': 33, 'bollus': 2, 'indenpedantli': 1, 'milrinon': 5, 'absorbs': 1, 'imi': 2, 'pnu': 1, 'prop': 25, 'effuss': 7, 'mentali': 1, 'alkalemia': 13, 'dra': 12, 'thermodil': 1, 'pplat': 8, 'wenesday': 2, 'postbypass': 1, 'dietician': 4, 'cardiopulm': 9, 'redicat': 1, 'effust': 1, 'recognis': 2, 'reamin': 6, 'epinephrin': 14, 'creatin': 7, 'jp': 12, 'carvedilol': 14, 'stble': 1, 'hiccough': 1, 'milr': 2, 'resed': 3, 'aspriat': 5, 'diag': 10, 'antero': 1, 'testic': 1, 'inotrop': 2, 'comtin': 1, 'shiever': 1, 'thorecentesi': 2, 'cagluc': 2, 'restrart': 1, 'faintli': 1, 'bradypn': 1, 'persis': 3, 'subtheraput': 2, 'origen': 2, 'wel': 3, 'demisish': 1, 'culprit': 7, 'tnsf': 5, 'billeou': 1, 'diaphores': 1, 'thickyellowish': 1, 'corti': 2, 'beliger': 3, 'vg': 1, 'sttol': 1, 'orderd': 9, 'awean': 1, 'frang': 1, 'cardiogen': 36, 'pedial': 6, 'angioplasti': 12, 'cco': 4, 'retal': 1, 'precuaut': 1, 'stepdown': 7, 'om': 18, 'barrium': 1, 'awir': 1, 'plerur': 1, 'stit': 1, 'nhp': 1, 'sshumulog': 2, 'thermodilut': 3, 'vr': 10, 'ucg': 2, 'fentanyli': 1, 'capto': 1, 'lwsxn': 2, 'sov': 1, 'mch': 2, 'stidor': 1, 'gastroduoden': 3, 'serousangin': 4, 'lima': 3, 'booboo': 1, 'fick': 8, 'consistenli': 4, 'demor': 2, 'sbg': 1, 'signift': 1, 'greed': 1, 'defecit': 6, 'defervesc': 11, 'rewrap': 1, 'crepiti': 3, 'restaint': 4, 'sunction': 3, 'yellowbrown': 1, 'nippl': 5, 'ez': 4, 'posibl': 7, 'caglucon': 1, 'coreg': 8, 'ballon': 9, 'tvi': 5, 'rebump': 1, 'milironon': 1, 'inadvert': 5, 'mvo': 3, 'cellsav': 1, 'receic': 2, 'ond': 1, 'tof': 8, 'fentenyl': 4, 'epsiod': 3, 'wap': 5, 'purpl': 17, 'pervent': 2, 'bs^': 1, 'aucult': 3, 'yankuar': 3, 'remmind': 1, 'inth': 7, 'nuerolog': 2, 'beer': 4, 'noreepi': 1, 'norepi': 6, 'mant': 1, \"dt'\": 1, 'secondri': 1, 'chosen': 13, 'diltizem': 6, 'otc': 3, 'kerley': 6, 'pneumomia': 2, 'dilatiazem': 1, 'pleuracentesi': 1, 'addenidum': 1, 'healthey': 1, 'diltazem': 1, 'riesman': 3, 'nigth': 3, 'doripenem': 2, 'ferment': 1, 'surpris': 9, 'behav': 2, 'maxilla': 4, 'mucolyt': 2, 'hyperparathyroid': 5, 'moh': 1, 'bronchiectesi': 3, 'deropenem': 1, 'tvr': 1, 'nsaid': 13, 'parox': 1, 'ipatropium': 4, 'fluoroquinolon': 6, 'spironolacton': 7, 'pulmonologist': 11, 'psa': 8, 'dorbipenem': 1, 'fot': 2, 'chad': 11, 'qualifi': 7, 'pertusi': 2, 'pnysic': 1, 'guafenesi': 1, 'pertussi': 2, 'spicul': 9, 'recomend': 7, 'drank': 11, 'ecymosi': 1, 'vancomyc': 1, 'ultsnd': 2, 'occulud': 1, 'hest': 1, 'mitt': 9, 'blast': 5, 'que': 1, 'psycosi': 1, 'previo': 3, 'nicotin': 18, 'inepend': 1, 'upperairway': 3, 'yougart': 1, 'aeratin': 1, 'xopenex': 15, 'diffuculti': 3, 'eccymosi': 7, 'whennam': 1, 'psychosi': 9, 'aggressiv': 1, 'atelactasi': 3, 'cdc': 2, 'multilevel': 42, 'prescenc': 1, 'epulmonari': 1, 'emb': 1, 'sediat': 1, 'cooki': 12, 'pneumococcu': 4, 'slecp': 1, 'urol': 1, 'rectu': 9, 'esoph': 6, '`': 13, 'bandemia': 29, 'chemoradi': 6, 'melanoptosi': 1, 'diazepam': 12, 'gall': 13, 'hypothyrod': 1, 'failurelik': 1, 'hepatopulmonari': 1, 'chemotherapi': 30, 'esophagectomi': 5, 'esophagogastrostomi': 1, 'wegen': 6, 'ccr': 4, 'paramediastin': 10, 'brachytherapi': 3, 'pneurmonia': 2, 'cocain': 14, 'worth': 6, 'hemoptysi': 33, 'valuim': 2, 'abdominu': 2, 'durabl': 4, 'span': 13, 'hypertensioncurr': 1, 'symptomat': 27, 'vaccin': 55, 'laparotomi': 8, 'crescent': 2, 'radiotherapi': 5, 'amlodipin': 24, 'kayexyl': 2, 'pneumocysti': 18, 'shuvel': 1, 'coalesc': 6, 'hurrican': 2, 'videofluoroscopi': 29, 'dfdkq': 10, 'nari': 8, 'teaspoon': 6, \"po'\": 2, 'gastrosotmi': 2, 'perf': 9, 'aw': 1, 'manner': 12, 'hyperchol': 2, 'uni': 8, 'corticomedullari': 4, 'ceftax': 4, 'nocardiosi': 1, 'pug': 2, 'ure': 6, 'fk': 4, 'ersd': 2, 'lucid': 11, 'expecor': 1, 'sussept': 1, 'procardia': 5, 'imipenuim': 1, 'coarsen': 10, 'imp': 5, 'hast': 1, 'vibe': 1, 'tesla': 9, 'venipuctur': 1, 'substani': 2, 'hypointens': 8, 'repsir': 1, 'nocardia': 3, 'sequenc': 20, 'milki': 2, 'lrge': 6, 'olecranon': 1, 'hypercholesteremia': 2, 'imbal': 4, 'inphas': 1, 'exquisit': 1, 'effevt': 1, 'sludgi': 2, 'leftsid': 1, 'sough': 1, 'pool': 12, 'daytim': 46, 'bkft': 1, 'biscodyl': 5, 'anyway': 6, 'uninterest': 2, 'efficaci': 6, 'chlorothiasid': 1, 'chowder': 1, 'avb': 11, 'yogurt': 3, 'energi': 8, 'remenisc': 1, 'chlorothiazid': 3, 'frig': 1, 'negatiov': 1, 'engag': 20, 'sxting': 2, 'duiril': 1, 'amyloid': 4, 'wafer': 1, 'metamucil': 2, 'enoucrag': 1, 'cereal': 5, 'probabali': 1, 'dayshift': 5, 'bowl': 5, 'brighten': 1, 'sug': 4, 'eproxi': 1, 'car': 13, 'initait': 1, 'bother': 11, 'coumdadin': 1, 'howver': 1, 'nitroglycerin': 15, 'marcan': 1, 'sacroiliac': 5, 'sizeabl': 4, 'propuls': 16, 'piriform': 20, 'detox': 5, 'vestibul': 6, 'prorgess': 1, 'facet': 13, 'priest': 3, 'disfunct': 1, 'metolazon': 5, 'thrill': 9, 'tongiht': 3, 'lyy': 1, 'toiler': 1, 'elbo': 1, 'aciti': 1, 'regiman': 3, 'enag': 1, 'flattu': 1, 'infilatr': 2, 'extrmiti': 1, 'cellcept': 4, 'minlabor': 1, 'highflow': 1, 'fac': 1, 'gentli': 27, 'venogram': 11, 'vii': 4, 'injector': 1, 'urem': 4, 'fistulagram': 1, 'scalp': 6, 'stenos': 4, 'ckd': 39, 'alternan': 3, 'noncompli': 11, 'intraorbit': 1, 'tall': 4, 'carpal': 6, 'arterioven': 1, 'intracellular': 1, 'squeak': 6, 'hyperphsophatemia': 1, 'hemostasi': 13, 'translum': 1, 'skip': 3, 'hydroxizin': 1, 'orbit': 16, 'anastomosi': 9, 'xii': 14, 'fistulogram': 2, 'renagel': 4, 'huddl': 21, 'likelihoood': 1, 'hyperdens': 24, 'warrant': 32, 'overdu': 1, 'rsr': 20, 'enya': 18, 'wenckebach': 3, 'pruriti': 2, 'pulsatil': 2, 'dilit': 10, 'inattent': 2, 'percocoet': 1, 'contriubut': 1, 'noro': 1, 'jejuni': 1, 'hflu': 3, 'contr': 1, 'conjuntiv': 1, 'yetread': 1, 'handrail': 1, 'cltx': 1, 'lmore': 1, 'immunolog': 44, 'webtag': 9, 'ucltx': 1, 'acheiev': 1, 'transven': 26, 'tendenc': 10, 'immunocompromis': 56, 'split': 51, 'floridli': 1, 'turp': 8, 'slighlt': 1, 'downtrend': 11, 'avelox': 1, 'remeb': 1, 'cefpodoxim': 8, 'trand': 1, 'error': 29, 'driven': 3, 'sensitivt': 1, 'underwhelm': 4, 'chb': 3, 'florrid': 1, 'unconcern': 2, 'legionel': 3, 'concomin': 1, 'bioprosthesi': 5, 'ai': 6, 'loperamid': 2, 'wrr': 1, 'classic': 7, 'persisit': 1, 'laugh': 7, 'lupron': 5, 'hapto': 5, 'popup': 9, 'haptoglobin': 8, 'vigileo': 3, 'group': 20, 'azithroymcin': 1, 'hemolysi': 25, 'coler': 2, 'hemodyanam': 2, 'breathless': 6, 'svv': 1, 'tcdb': 14, 'laryngospasm': 1, 'atov': 1, 'neurophysiolog': 2, 'rhale': 3, 'diruesi': 6, 'sclara': 1, 'contra': 6, 'javascript': 9, 'fluild': 1, 'ld': 9, 'ketaconazol': 1, 'flesh': 2, 'rmg': 1, 'gb': 9, 'unrev': 25, 'col': 4, 'pah': 5, 'unread': 2, 'jude': 1, 'cepodoxim': 1, 'rxn': 11, 'assign': 13, 'occult': 22, 'absolut': 4, 'interpretor': 5, 'maintan': 8, 'interstitium': 3, 'movemont': 1, 'oa': 10, 'ceftz': 2, 'cetaz': 1, 'temo': 1, 'aaspir': 1, 'tachpnea': 3, 'contus': 4, 'rune': 1, 'indepemnd': 1, 'degrener': 1, 'probali': 1, 'uppper': 5, 'circumst': 11, 'vacomycin': 3, 'idiopath': 10, 'miniscul': 3, '^k': 1, 'amalyas': 1, 'salmon': 1, 'reject': 11, 'diverticuli': 4, 'fascia': 3, 'gastrojejun': 7, 'navig': 2, 'foll': 2, 'anckl': 1, 'hemolyz': 10, 'brachiel': 1, 'crepit': 2, '^bun': 1, 'wordk': 1, 'oca': 5, 'blaot': 1, 'sml': 19, 'weap': 7, '^abd': 1, 'insuff': 4, 'absorpt': 10, 'unclot': 2, 'exal': 1, 'vevel': 1, 'dismotil': 2, 'atro': 20, 'ambian': 2, 'pararen': 1, 'petroleum': 1, 'intraservic': 11, 'kmcd': 2, 'sched': 8, 'adb': 2, 'taler': 2, 'immunosuppres': 6, 'lgt': 1, 'pkt': 9, 'proteu': 8, 'yank': 1, 'kosher': 3, 'studio': 1, 'scrape': 1, 'sabath': 1, 'creatnin': 6, 'lighter': 6, 'inguni': 1, 'primairli': 1, 'bolt': 9, 'lbm': 11, 'aricept': 7, 'lotrisom': 1, 'grad': 3, 'elecv': 1, 'dyspenia': 1, 'azyg': 8, 'bulbou': 1, 'epiglotti': 5, 'hilu': 14, 'kkgc': 17, 'redraw': 10, 'immeadi': 1, 'noght': 1, 'kerlix': 4, 'bidh': 1, 'arpund': 1, '^from': 1, 'sternum': 11, '^vt': 1, 'pen': 10, 'cage': 9, 'nondiagnost': 10, 'osteophyt': 21, 'copper': 4, 'reloc': 3, 'azithromicyn': 1, 'surguri': 2, 'aaa': 14, 'angiomyolipoma': 3, 'eccymot': 18, 'afluttt': 1, 'aml': 14, 'protien': 1, 'kyphosi': 20, 'dysmetria': 1, 'extuabt': 9, 'nasotrachi': 6, 'disk': 7, 'mmcosgroveannuloplasti': 1, 'mango': 1, 'rbbi': 1, 'choos': 9, 'pramipexol': 1, 'batteri': 6, 'tsp': 31, 'formulari': 5, 'foi': 27, 'labial': 27, 'runni': 2, 'perist': 6, 'antianieti': 1, 'beig': 3, 'yesterrday': 1, 'rspiratori': 2, 'sup': 16, 'multilobular': 5, 'bul': 11, 'tolcapon': 1, 'leukocyt': 20, 'neurologist': 5, 'vasectomi': 1, 'cutur': 3, 'wb': 4, 'azithromyin': 3, 'protrud': 23, 'albeit': 5, 'polymorphonuclear': 13, 'answr': 1, 'glucagon': 7, 'cane': 9, 'resdient': 4, 'ettub': 1, 'soln': 20, 'pneumona': 5, 'drown': 3, 'bronchoalveolar': 9, 'flavor': 1, 'suck': 4, 'censu': 2, 'tachypnia': 4, 'tamsar': 1, 'fluent': 36, 'annuloplasti': 6, 'presedex': 2, 'compensatori': 9, 'ntd': 6, 'neurosurgeon': 4, 'laparoscop': 4, 'crestor': 3, 'ctga': 1, 'precedex': 7, 'inhibit': 2, 'desta': 1, 'ili': 4, 'disintegr': 11, 'ih': 22, 'spt': 9, 'precidex': 3, 'kyphot': 11, 'respirartori': 3, 'rsv': 13, 'marri': 21, 'lingual': 21, 'anitibiot': 2, 'ltach': 9, 'mirapex': 4, 'meningioma': 2, 'intellig': 7, 'acetylcystein': 4, 'inceas': 3, 'hoars': 17, 'herniat': 11, 'cfu': 7, 'incisor': 6, 'countour': 1, 'emtion': 3, 'skizophrenia': 1, 'nuetrin': 1, 'mitten': 2, 'consentr': 1, 'incoher': 4, 'scoot': 1, 'smeari': 1, 'conf': 3, 'restain': 2, 'halway': 1, 'slit': 1, 'vebal': 1, 'mough': 1, 'valpraot': 1, 'comdom': 2, 'nponproduct': 1, 'conceiv': 5, 'consistencei': 1, 'wanst': 1, 'dischag': 2, 'palsi': 7, 'fixat': 15, 'poe': 16, 'modif': 8, 'thoracolumbar': 18, 'web': 5, 'pg': 6, 'dsoft': 1, 'clossur': 1, 'scoliosi': 30, 'rotatori': 2, 'extremti': 6, 'antiseizur': 2, 'dextroscoliosi': 8, 'rous': 7, 'nector': 3, 'killian': 1, 'distor': 1, 'beam': 6, 'thymoma': 2, 'synthet': 3, 'doxil': 1, 'listeria': 2, 'wsclip': 3, 'rescucit': 4, 'hyposmol': 6, 'atend': 1, 'cisplatin': 3, 'taxol': 3, 'plasma': 2, 'hyperbilirubinemia': 4, 'neoadjuv': 1, 'reisman': 2, 'hemmoroid': 1, 'subtract': 5, 'adh': 3, 'xeloda': 1, 'unpasteur': 1, 'anecho': 4, 'ove': 2, 'ampillin': 1, 'subcapsular': 3, 'plasmapheresi': 1, 'meningoenceph': 2, 'cantones': 7, 'icter': 8, 'cytoxan': 5, 'paracentesi': 10, 'producvt': 1, 'dairi': 3, 'usclip': 5, 'enou': 1, 'hemeroid': 1, 'host': 6, 'bulki': 12, 'purula': 1, 'carboplatin': 4, 'thyoma': 1, 'adriamycin': 1, 'manifest': 17, 'tarceva': 1, 'bio': 3, 'subdiaphragmat': 67, 'lobul': 8, 'beeen': 1, 'jxkc': 6, 'osmol': 3, 'cavo': 7, 'suppress': 20, 'peipher': 1, 'polydipsia': 2, 'billiari': 2, 'paclitaxel': 1, 'encompass': 3, 'hyponatrem': 10, 'workstat': 4, 'alimta': 1, 'diplopia': 2, 'topleura': 1, 'secert': 1, 'tensilon': 1, 'myasthenia': 1, 'cardiorespiratori': 3, 'cholestat': 3, 'exel': 2, 'disconect': 1, \"huo'\": 1, 'eca': 5, 'reticul': 6, 'hepatomegali': 7, 'fidn': 1, 'comfot': 1, 'oid': 1, 'pneumotx': 1, 'mtn': 1, 'ftw': 1, 'bacteroid': 2, 'constraint': 2, 'prophylax': 1, 'sulf': 3, 'cautar': 1, 'eosphil': 1, 'precarin': 19, 'dimin': 6, 'lf': 6, 'brwn': 8, 'floos': 1, 'spasm': 19, 'folvent': 1, 'roxicet': 6, 'aqit': 1, 'amoutn': 4, 'respon': 4, 'hematopoet': 1, 'vertebroplasti': 5, 'isc': 1, 'dyapherit': 1, 'reactss': 1, 'copiuo': 5, 'nec': 3, 'sestamibi': 1, 'stoool': 3, '^rr': 6, 'pseuodomona': 1, 'wbc^': 2, 'labul': 1, 'enorm': 2, 'subsid': 21, 'revealedd': 1, 'aphon': 4, 'legnth': 2, 'tachynea': 2, 'diverticular': 2, 'wkness': 1, 'intermittenli': 2, 'tage': 1, 'thorughout': 2, 'ascess': 1, 'unresolv': 3, 'diminsish': 1, 'divert': 3, 'respo': 1, 'hr^^': 5, 'ultra': 4, 'iso': 5, 'voltga': 1, 'valsalva': 16, 'agrress': 2, 'ilestomi': 1, 'mechaniclli': 3, 'bdline': 2, 'abort': 10, 'antbx': 13, 'ctscan': 3, 'py': 4, 'tag': 3, 'sinustach': 1, 'sttled': 1, 'occus': 1, 'tyelnol': 4, 'tia': 20, 'coontrol': 1, 'ligh': 2, \"related'\": 1, 'vevn': 1, 'postsurg': 6, 'arma': 1, 'cca': 9, 'pplan': 2, 'nse': 1, 'drainabl': 9, 'psx': 2, 'hemodym': 3, 'amout': 7, 'dobbhoff': 31, 'blding': 1, 'brth': 1, 'acsecss': 1, 'viist': 1, 'ydrianiang': 1, 'technetium': 1, 'suctionin': 3, 'drian': 4, 'diamox': 20, 'broncho': 6, 'dwn': 1, 'elevati': 1, 'spcific': 1, 'perfor': 21, 'pronglon': 1, 'asmt': 1, 'apparatu': 3, 'moniotr': 6, 'craer': 1, 'mit': 4, 'billari': 1, 'tachypin': 1, 'latex': 9, 'foul': 21, 'expand': 33, 'especailli': 1, 'hemodynimc': 1, 'moderatr': 2, 'snt': 5, 'nauseaou': 2, 'functioningand': 1, 'mvment': 1, 'secrett': 2, 'distinctli': 2, 'distalmost': 2, 'pector': 11, 'ward': 2, 'simvastain': 1, 'parasept': 9, 'andevid': 1, 'cranial': 7, 'flowhseet': 1, 'pullm': 1, 'tami': 1, 'cutoff': 1, 'sesha': 6, 'levofloxicin': 9, 'ran': 6, 'osteopenia': 18, 'cnii': 3, 'rhonchou': 2, 'descent': 2, 'colonoscopi': 18, 'slice': 42, 'mainstem': 10, 'sfv': 2, 'diaures': 2, 'apec': 2, 'concurr': 31, 'subotim': 1, 'recom': 2, 'hasnt': 1, 'atv': 4, 'adequet': 2, 'seech': 2, 'pseudonorm': 5, 'ventral': 11, 'egd': 29, 'vw': 10, 'safest': 6, 'videoswallow': 7, 'ceftazidin': 3, 'sychron': 1, 'subcutaen': 1, 'situ': 21, 'occurr': 2, 'pneumotho': 1, 'distess': 3, 'zydi': 7, 'startedon': 3, 'mesh': 6, 'hysterectomi': 8, 'intermitenli': 2, 'infuenza': 1, 'stapl': 18, 'settng': 2, 'text': 7, 'judici': 7, 'arthropathi': 5, 'upgrad': 10, 'greatest': 22, 'zyti': 1, 'prilosec': 14, 'euvolemia': 7, 'tmrw': 5, 'evidenc': 22, 'encouragingli': 3, 'odd': 11, 'bss': 2, 'cfv': 1, 'airflow': 4, 'intracavitari': 1, 'mdag': 15, 'pulmn': 2, 'tem': 2, 'percordi': 1, 'nissen': 1, 'grid': 3, 'meta': 15, 'diverticula': 17, 'atrioventricular': 2, 'infx': 2, 'vacuum': 5, 'pulmonal': 4, 'subchondr': 7, 'cong': 1, 'sah': 5, 'bulbar': 1, 'dysarthria': 5, 'sylvian': 4, 'subarachnoid': 7, 'frontopariet': 3, 'injur': 3, 'restraind': 2, 'nonfunct': 1, 'decreasd': 1, 'pivx': 9, 'separ': 27, 'perirash': 1, 'afew': 1, 'nonform': 2, 'bolum': 1, 'underarm': 2, 'skew': 1, 'presid': 6, 'asbout': 1, 'etco': 4, 'legionalla': 5, 'rpc': 2, 'evidens': 1, 'rnd': 1, 'attem': 1, 'periarea': 4, 'pimpl': 1, 'miconozol': 2, 'gmpo': 1, 'overnit': 8, 'str': 17, 'osteopen': 6, 'corridor': 1, 'extyra': 1, 'retreat': 1, 'obay': 1, 'giggl': 1, 'guiaiac': 1, 'mnd': 2, 'wilth': 1, 'htcz': 1, 'fentlyl': 1, 'yogert': 2, 'edemet': 3, 'hepati': 2, 'feegingh': 1, 'hasmi': 1, 'jumbl': 1, 'abber': 1, 'strang': 4, 'ssuction': 2, 'lite': 2, 'ivpb': 9, 'consolit': 1, 'perihepat': 13, 'purplish': 3, 'adr': 3, 'mpr': 1, 'fidgeti': 4, 'hadol': 2, 'iffus': 1, 'patern': 2, 'ordr': 4, 'azm': 1, 'bilaterali': 7, 'deaf': 7, 'ruddi': 2, 'lback': 1, 'mereponuem': 1, 'fnetanyl': 1, 'neur': 2, 'reasssurr': 1, 'adaqu': 3, 'insuffi': 3, 'mycostantin': 2, 'oject': 1, \"jp'sx\": 1, 'mutipl': 7, 'ooa': 1, 'exr': 1, 'dghtr': 1, 'tolaer': 1, 'biggest': 2, 'earili': 1, 'kayexalt': 1, 'llu': 1, 'muscular': 15, 'magneisum': 1, 'colistin': 5, 'potentia': 1, 'anxious': 4, 'sift': 2, 'sennokot': 1, 'humor': 6, 'diifus': 1, 'xop': 1, 'albuter': 9, 'costyntropin': 1, 'medastin': 1, 'fdsg': 1, 'epigastrium': 8, 'clorazepam': 1, 'malleabl': 1, 'abefril': 1, 'meatey': 1, 'symmetri': 1, 'xoponex': 5, 'feburari': 1, 'evala': 1, 'electrocardiogram': 1, 'effexor': 3, 'yellaw': 1, 'laxilla': 1, 'rmeian': 1, 'urgenc': 13, \"mdi'\": 1, 'postit': 4, 'amm': 1, 'diminsih': 5, 'appopri': 2, 'wnd': 3, 'jpx': 2, 'fentyn': 8, 'magneisium': 1, 'startd': 1, 'respns': 1, 'garrul': 1, 'parit': 2, 'recommed': 3, 'gluteu': 2, 'techiniqu': 1, 'admittedli': 4, \"svn'\": 1, 'reti': 1, 'flap': 6, 'ccx': 3, 'survail': 6, 'tlcc': 1, 'dnrg': 1, 'monr': 2, 'eczema': 1, 'incorper': 1, 'qi': 2, 'mustard': 1, 'hhe': 1, 'meropeum': 1, 'washout': 8, 'upcom': 4, 'invl': 1, 'screw': 7, 'prvide': 1, 'lent': 2, 'benzodiazepen': 1, 'ivm': 1, 'pesseri': 1, 'elix': 3, 'zeroform': 1, 'daay': 1, 'circut': 1, 'etern': 1, 'totaol': 1, 'goos': 1, 'addenda': 1, 'afeberil': 1, 'cappilari': 1, 'tfeed': 7, 'repostit': 1, 'refocu': 1, 'extremli': 3, 'tubefeed': 9, 'peerl': 7, 'fame': 1, 'erethemat': 1, 'wtihout': 1, 'partic': 1, 'movment': 8, 'mdsi': 1, 'specfic': 2, 'orietn': 1, 'viabl': 2, 'mulitpl': 10, 'agig': 2, 'parapelv': 6, 'angeogram': 1, 'ccof': 1, \"ue'\": 1, 'summer': 5, 'bsd': 8, 'append': 6, 'blackish': 2, 'colostrin': 1, 'dehisc': 7, 'awaqr': 1, 'omn': 1, 'envelop': 3, 'tint': 2, 'enterectomi': 1, 'micub': 4, 'intentd': 1, 'costochondr': 2, 'placen': 1, 'reoirent': 1, 'mainatin': 2, 'anitbiot': 5, 'sixth': 4, 'minin': 1, 'lain': 1, 'devot': 2, \"de'sat\": 1, 'foeli': 1, 'insens': 21, 'metizol': 1, 'pinken': 1, 'guiaic': 16, 'faccid': 1, 'dislik': 3, 'inteq': 1, 'respitori': 5, 'suxn': 4, 'convey': 13, 'aniou': 1, 'suctio': 1, 'solubl': 3, 'depict': 8, 'servicv': 1, 'rectangular': 1, 'en': 9, \"'ye\": 2, 'roux': 4, 'rhonchial': 1, 'raspi': 5, 'awaint': 2, 'aggres': 9, 'lastnight': 2, 'objecet': 1, 'levofloxin': 6, 'survalli': 1, 'vista': 4, 'lungfield': 2, 'vancxomycin': 1, 'tanish': 5, 'thicket': 2, 'wamr': 1, 'frc': 1, 'regiem': 3, 'vasoilin': 1, 'cathart': 1, 'lizinolid': 1, 'linzolid': 1, 'relativli': 1, 'wrsit': 1, 'gien': 1, 'coas': 2, 'neglig': 3, 'enquir': 2, 'antbiot': 4, 'haerd': 1, 'cardin': 1, 'auscleat': 1, 'explin': 3, 'softsorb': 7, 'adq': 9, 'podi': 2, 'ceftadim': 1, 'vagina': 2, 'immun': 9, 'jmh': 2, 'adenosin': 5, 'cushion': 6, 'sct': 7, \"'broke\": 1, 'progess': 4, 'race': 3, 'ceftamin': 1, 'preper': 4, 'intug': 1, 'inclus': 4, 'anal': 13, 'sonc': 1, 'tfdg': 1, 'gyn': 3, 'orientd': 2, 'episdod': 1, 'sucret': 1, 'roho': 1, 'anaemia': 1, 'ceftam': 1, 'perineu': 1, 'hick': 2, 'ser': 1, \"'star\": 1, 'ampogel': 1, 'elipt': 1, 'parathyroid': 1, 'soup': 10, 'datail': 1, 'summeri': 2, 'throb': 4, 'azithromax': 6, 'adenoma': 15, 'uc': 14, 'renegel': 1, 'phosporu': 1, 'bronchopleur': 4, 'spiromt': 1, 'pneumatocel': 8, 'septa': 2, \"a'lin\": 1, 'infilto': 1, 'anzimet': 3, 'thorascop': 2, 'subcut': 6, 'cutan': 5, 'flet': 2, 'doxi': 5, 'xxl': 1, 'doxycyclin': 7, 'reso': 2, 'micronodul': 2, 'crapetu': 1, 'bariatr': 3, 'shaki': 7, 'retrospect': 8, 'oout': 1, 'allowa': 1, 'cxri': 1, 'strnum': 1, 'oppurtunist': 1, 'aprrox': 2, 'miliari': 1, 'oer': 2, 'micronodular': 3, 'pleurodesi': 7, 'dizz': 1, 'difficuti': 2, 'lert': 1, 'ellipt': 3, 'pneumodiastinum': 1, 'spb': 6, 'crepetu': 1, 'sanguni': 1, 'cervicothorac': 2, 'blebectomi': 1, 'infilpleas': 1, 'csl': 4, 'repaet': 2, 'cystotomi': 1, 'tnf': 1, 'whereabout': 1, 'cystostomi': 1, 'bien': 1, 'exutb': 1, 'catrh': 1, 'cowork': 4, 'anasarc': 6, 'intravasculari': 1, 'ecoli': 7, 'extravascularli': 2, 'pulseless': 7, 'uncompens': 2, 'escar': 2, 'cathol': 2, 'intraaxi': 2, 'comatos': 1, 'purpilish': 1, 'cardiova': 2, 'esmolol': 10, 'bib': 2, 'psychomimet': 3, 'frown': 1, 'erythem': 4, 'recondit': 1, 'sabp': 3, 'fist': 3, 'aspirs': 1, 'corneal': 6, 'unsrespons': 1, 'unobtain': 4, 'sond': 1, 'overgrowth': 3, 'infiiltr': 1, 'mabp': 1, 'decison': 1, 'afterloud': 1, 'hemorroid': 1, 'nonreact': 3, 'jaw': 24, 'pea': 11, 'whooz': 1, 'flaki': 5, 'secreet': 1, 'sati': 3, 'acx': 3, 'unfold': 12, 'riker': 1, 'jelfoam': 1, 'revisit': 7, 'smade': 1, 'aticoagul': 1, 'vagin': 11, 'pon': 11, 'cataton': 1, 'prayer': 3, 'liber': 14, 'catm': 2, 'aztreonam': 18, 'verif': 5, 'doll': 1, 'prev': 28, 'disconjug': 2, 'signifc': 5, 'irriagt': 1, 'withdarw': 1, 'mciu': 1, 'attmept': 5, 'meax': 1, 'mornign': 2, 'diaphorect': 2, 'propabl': 1, 'aroumd': 1, 'built': 1, 'remaint': 1, 'radic': 5, 'cystectomi': 3, 'mlij': 1, 'lacer': 13, 'mucuo': 1, 'resdiual': 1, 'prostetectomi': 1, 'bug': 7, 'diali': 2, 'petechia': 3, 'frequ': 3, 'montor': 4, 'dysconjug': 1, 'crawl': 4, 'meyloma': 1, 'conduit': 1, 'subtherapuet': 1, 'marijuana': 3, 'debri': 16, 'begant': 1, 'sedement': 5, 'sutr': 1, 'mucosi': 1, 'ileal': 6, 'adequt': 2, 'linen': 9, 'bialter': 3, 'gaze': 9, 'densest': 2, 'myeloma': 5, 'prostatectomi': 4, '\\x13': 2, 'agiti': 3, 'neobladd': 1, 'creation': 3, 'venodynn': 1, 'placedraing': 1, 'dump': 3, 'pulmo': 3, 'rum': 1, 'norvasc': 13, 'influ': 1, 'ppsv': 1, 'apper': 6, 'paperi': 1, 'malg': 1, 'shorten': 7, 'intubatd': 2, 'dd': 4, 'pri': 2, 'recrut': 1, 'frail': 19, 'tko': 4, 'wf': 2, 'bronchomalagia': 1, 'parametersthi': 1, 'russian': 20, 'untx': 1, 'gastrocult': 2, 'contralater': 9, 'lght': 1, 'reaccumul': 18, 'pericardiocentesi': 4, 'constrict': 13, 'wider': 3, 'convinc': 15, 'seventh': 12, 'moreov': 3, 'pericardiac': 2, 'opa': 1, 'lnco': 10, 'prestern': 1, 'extravascular': 1, 'psvt': 4, 'fosamax': 4, 'paraspin': 11, 'regurgitaton': 1, 'underpenetr': 8, 'pla': 2, 'prssure': 1, 'alvaolar': 1, 'tracheo': 6, 'elimin': 10, 'prodctiv': 1, 'sect': 1, 'epitympan': 1, 'medulla': 2, 'underdevelop': 1, 'npnn': 1, 'adminst': 3, 'delta': 5, 'fob': 1, 'vemtilatori': 1, 'rebreah': 1, 'ine': 3, 'hfn': 3, 'lingular': 28, 'serousi': 1, '^wbc': 3, 'haem': 1, 'scapula': 13, 'apear': 5, 'eright': 1, 'forgot': 1, 'intermediu': 11, 'nauseau': 3, 'yankar': 4, 'pneumonai': 1, 'ileo': 2, 'colostolmi': 1, 'preform': 6, 'optimist': 5, 'paussey': 1, 'carrier': 2, 'intouch': 1, 'oatmeal': 6, 'yellowi': 3, 'depth': 6, 'drainot': 1, 'cheer': 2, 'concommit': 1, 'conlosomi': 1, 'urostomi': 3, 'sugereon': 1, 'dirrahea': 1, 'element': 46, 'scapular': 4, 'dramaticali': 1, 'illeoconduit': 1, 'whch': 1, 'pulmologist': 1, 'nerv': 15, 'sysol': 1, 'zyperia': 1, 'cant': 5, 'doson': 1, 'kaexal': 1, 'frome': 1, 'slightlti': 1, 'dgt': 6, 'flowheet': 1, 'ileoconduit': 1, 'prognossi': 1, 'explor': 6, 'actiivti': 1, 'nhl': 5, 'ivg': 1, 'bmt': 10, 'puriti': 2, 'crossreact': 2, 'stopper': 1, 'miropenum': 1, 'potasium': 1, 'cephalasporin': 1, 'ivig': 11, 'allo': 2, 'amul': 1, 'friabl': 3, 'enterococc': 7, 'oxza': 11, 'pbec': 6, 'simplest': 2, 'dbp': 4, 'childlik': 1, 'overdos': 14, 'intto': 1, 'width': 11, 'wimper': 1, 'cervicomedullari': 1, '^^dbp': 1, '^b': 1, 'tangl': 1, 'bead': 3, 'pjc': 2, 'sooner': 5, 'normoxia': 4, 'acepella': 2, 'sel': 2, 'grabe': 1, 'orichectomi': 1, 'exce': 3, 'theravest': 1, 'duti': 1, 'granulomatu': 1, 'reddn': 1, 'heartedli': 1, 'unequ': 6, 'regiment': 15, 'thera': 1, 'repositon': 3, 'arouas': 1, 'dimins': 1, 'reslov': 2, 'pnc': 1, 'lisinpril': 2, 'osteomylitit': 1, 'execut': 1, 'perp': 4, 'creatanin': 2, 'reass': 5, 'accapela': 1, 'infra': 5, 'secretio': 4, 'child': 3, 'ocasion': 1, 'overextend': 1, 'medici': 1, 'caretak': 9, 'ofemal': 1, 'dypsnea': 5, 'atempt': 4, 'reqir': 2, 'prsent': 2, 'yhe': 2, 'volecula': 1, 'serav': 1, 'inconten': 1, 'infultr': 1, \"rx'ed\": 1, 'es': 2, 'ronchioru': 1, 'frank': 41, 'zelnorm': 1, 'stenot': 6, 'triscupid': 1, 'coarctat': 19, 'renov': 2, 'mangement': 4, 'herpain': 1, 'linger': 4, 'radium': 1, 'iwth': 4, 'preset': 2, 'phtn': 11, 'hyperpigment': 4, 'methylypredison': 1, 'woodi': 2, 'suppelement': 1, 'nivm': 1, 'propionibacterium': 1, 'hiflo': 2, 'formerli': 5, 'bleeder': 1, 'precipitatnt': 1, 'vq': 5, 'pasp': 6, 'il': 4, 'ddimer': 4, 'tomorow': 2, 'pred': 23, 'diphtheroid': 1, 'kl': 1, 'emt': 7, 'corynebacterium': 2, 'vertigo': 4, 'estblish': 2, 'recordsno': 6, 'vasoconstrict': 1, 'weean': 1, 'pyrexia': 44, 'contorl': 2, 'feacal': 1, 'paracol': 8, 'ordin': 1, 'ozz': 1, 'transud': 13, 'cocyx': 4, 'reschdul': 1, 'coccyxx': 1, 'mediacl': 1, 'hydralzin': 4, 'rectosigmoid': 6, 'clammi': 12, 'zaroxolyn': 2, 'bigemni': 2, 'survel': 3, 'infilt': 2, 'purposeful': 1, 'antx': 1, 'fentali': 2, 'fluconasol': 1, 'necess': 5, 'sooth': 2, 'cpc': 1, 'ontinu': 2, 'bein': 1, 'airclean': 1, 'trachmask': 2, 'foreatrm': 1, 'aquir': 13, 'mininm': 1, 'apperar': 1, 'intraparenchym': 9, '^p': 3, 'givenk': 1, 'bibasilarli': 4, 'inconsitantli': 2, 'stoll': 3, 'hemiarthroplasti': 6, 'pressr': 2, 'breakdoown': 1, 'contast': 1, 'defi': 1, 'appropraitley': 1, 'aircel': 1, 'hosptial': 4, 'incon': 2, 'sata': 3, 'mew': 2, 'satisfcatori': 1, 'discov': 9, 'localis': 1, 'harden': 6, 'ampi': 1, 'agon': 3, 'ocg': 1, 'offens': 1, 'elevi': 1, 'aggre': 1, 'vaginosi': 2, 'zaroxlyn': 2, 'gantri': 1, 'wheex': 1, 'posteri': 1, 'kinder': 1, 'wcc': 3, 'hydralizn': 1, 'fiscal': 1, 'aztroneum': 1, 'hue': 2, 'bodili': 3, 'committe': 1, 'tilt': 8, 'wieght': 1, 'seep': 1, 'positv': 1, 'palption': 1, 'metalazon': 1, 'vanginosi': 1, 'fsqid': 1, 'ldp': 1, 'vasolin': 4, 'mmeq': 1, 'lbo': 1, 'eccomot': 1, 'pv': 8, 'shorter': 17, 'zaroxyln': 3, 'heprin': 6, 'mcqx': 1, 'occipt': 2, 'toadi': 2, 'appaer': 1, 'responc': 8, 'grn': 2, 'respalar': 2, 'respelar': 1, 'vnetil': 1, 'aqaucel': 1, 'capsul': 18, 'jt': 5, 'zarolyn': 1, 'noncommun': 5, 'grion': 1, 'dwi': 2, 'pyret': 1, 'oedematu': 1, 'maintin': 2, 'prosthes': 3, 'led': 13, 'collector': 1, 'llarm': 2, 'aztreoneum': 1, 'perforati': 1, 'positon': 2, 'cytotox': 2, 'olansapin': 1, 'sleev': 9, 'sulcal': 6, 'hlthi': 1, 'gingerli': 1, 'hyperperfus': 1, 'formal': 32, 'loadli': 1, 'mulitpodu': 1, 'atheromat': 3, 'sheepskin': 1, 'hydralalzin': 1, 'mmgh': 1, 'oxycondon': 2, 'montipodi': 1, 'appart': 2, 'aka': 5, 'crt': 5, 'mononitr': 5, 'cerebellar': 10, 'dysrhythmia': 10, 'aztronam': 1, 'uncomf': 1, 'du': 3, 'dinitr': 4, 'jg': 2, 'pericol': 2, 'yesturday': 4, 'specimin': 2, 'sours': 2, 'agait': 2, 'acuiti': 7, 'nxt': 1, 'resplor': 1, 'trasnfer': 1, 'overnightm': 1, 'weakish': 1, 'gerner': 1, 'crrect': 1, 'montioedu': 1, 'ivfb': 4, 'anspir': 1, 'septat': 8, 'nitinol': 7, 'pullback': 2, 'jkpe': 5, 'vicin': 2, 'abandon': 3, 'redund': 8, 'calculu': 9, 'natg': 4, 'ureter': 9, 'join': 3, 'dependantli': 1, 'gwp': 10, 'tachyn': 3, 'irragt': 1, 'gastrografin': 5, 'flagli': 4, 'afflutt': 1, 'serosangi': 2, 'sweati': 2, 'sincer': 1, 'rhonchour': 6, 'intraretroperiton': 1, 'rcc': 7, 'mycobacteri': 3, 'subtrochanter': 1, 'paraaort': 8, 'acetabulum': 8, 'crest': 2, 'restag': 1, 'metstat': 1, 'sutent': 2, 'iliac': 41, 'burden': 10, 'periost': 3, 'toast': 5, 'ah': 7, 'reble': 2, 'escitalopram': 2, 'zolpidem': 7, 'choleycsytectomi': 1, 'wn': 4, 'meanwhil': 4, 'avm': 5, 'varoc': 1, 'oxal': 2, 'wthdrawal': 1, 'pallor': 24, 'grandaugth': 1, 'bedrest': 13, 'levoflaoxacin': 1, 'nadolol': 3, 'vagal': 9, 'ursodiol': 4, 'wd': 14, 'coax': 1, 'hydrochlorothiazid': 7, 'intermmitantli': 1, 'whereupon': 1, 'oppos': 8, 'ventric': 3, 'imfect': 1, 'tachypenia': 1, 'pedicl': 7, 'flr': 2, 'somehat': 2, 'gc': 3, 'alphagan': 1, 'mutlipl': 2, 'tonic': 6, 'opposit': 2, 'professor': 1, 'illus': 1, 'unwit': 5, 'quadraplegia': 4, 'siezur': 8, 'transter': 1, 'pertain': 3, 'intrathec': 3, 'epilepsi': 3, \"desat'd\": 1, 'deafferent': 1, 'esteras': 3, 'faci': 1, 'jxrl': 14, 'pseudomon': 13, 'cardiogram': 1, 'taut': 2, 'dysreflexia': 1, 'seixur': 1, 'centrum': 6, 'ictal': 3, 'caucasian': 5, 'pneumionia': 1, 'colono': 1, 'glycerin': 1, 'strernal': 1, 'spark': 2, 'antizeizur': 1, 'automon': 1, 'readdmit': 1, 'subclin': 3, 'semest': 1, 'ergocalciferol': 1, 'engin': 4, 'moon': 1, 'hyponateremia': 1, 'recreat': 4, 'carbamezapin': 1, 'maker': 5, 'kaexyl': 2, 'oxybutynin': 5, 'poop': 1, 'ulcuer': 1, 'lomotrigen': 1, 'poisitv': 1, 'tibial': 42, 'funguria': 1, 'brimonidin': 2, 'antiepilept': 2, 'spring': 1, 'teacher': 2, 'tbw': 3, 'lgr': 7, 'magic': 2, 'twave': 5, 'frankli': 5, 'tegretol': 4, 'initiali': 4, 'sarcast': 1, 'bacolfen': 1, 'cxwc': 11, 'delir': 10, 'nystagmu': 3, 'clonic': 6, 'parapsilosi': 2, 'wander': 6, 'dysflexia': 1, 'omega': 2, 'carbetolol': 1, 'quadriplegia': 5, 'bullet': 1, 'kit': 8, 'travatan': 1, 'aeruginosa': 5, 'pern': 1, 'pseudamona': 2, 'minatin': 1, 'fish': 6, 'enulos': 1, 'thoracoabdomin': 3, 'endplat': 17, 'toradol': 6, 'execept': 1, 'optimis': 1, 'breaktrough': 1, 'stylet': 7, 'recit': 2, 'thecal': 4, 'fade': 5, 'coears': 1, 'hemov': 1, 'equina': 6, 'hematom': 1, 'dependec': 1, 'herp': 15, 'ilater': 1, 'avaiabl': 1, 'punc': 1, 'determi': 1, 'plethora': 4, \"sat'\": 5, 'cariothorac': 1, 'limet': 1, 'oal': 1, 'infrahepat': 1, 'ivkcl': 1, 'disciti': 4, 'abc': 3, 'dural': 5, 'steri': 3, 'bizarr': 2, 'videotap': 1, 'psoa': 6, 'trendelenburg': 1, 'nsurg': 3, 'extradur': 2, 'mad': 2, 'comofrt': 1, 'bactroban': 3, 'hemovac': 4, 'loww': 1, 'aam': 2, 'withl': 1, 'guag': 8, 'crepid': 1, 'monotor': 2, 'lter': 2, 'dislpay': 1, 'stoo': 2, 'anu': 4, 'ise': 1, 'schmorl': 4, 'revalu': 6, 'callu': 5, 'diuress': 4, 'intraop': 6, 'cusp': 1, 'phlegmon': 2, 'duloxetin': 6, 'unil': 1, 'stri': 1, 'cauda': 6, 'ninth': 4, 'anterio': 2, 'aat': 2, 'vnetilatori': 1, 'pu': 11, 'dermatolog': 6, 'iliacu': 3, 'citi': 3, 'piccl': 1, 'hydrouret': 10, 'transmit': 11, 'urinalysi': 10, 'aldacton': 6, 'undersid': 3, 'thorsic': 1, 'prductiv': 1, 'withsmal': 1, 'drove': 2, 'retropharyng': 3, 'pdst': 1, 'ketamin': 1, 'easlli': 1, 'stopp': 2, 'applejuic': 1, 'fectal': 2, 'canal': 21, 'crept': 1, 'tlso': 1, 'fordeti': 1, 'malalign': 5, 'theet': 1, 'maiami': 1, 'instrument': 13, 'vertic': 12, 'anbx': 21, 'loculat': 1, 'fascilit': 1, 'csft': 1, 'unfett': 1, 'psychoact': 4, 'gemini': 1, 'hypospadiu': 1, 'propag': 1, 'bloodier': 1, 'kideni': 1, 'diagnsi': 1, 'thirti': 4, 'hxof': 2, 'successful': 1, \"sxn'ed\": 3, 'extrins': 5, 'analges': 7, 'prepocedur': 1, 'granulomat': 9, 'corticobas': 1, 'innomin': 6, 'kaposi': 1, 'costodiaphragmat': 1, 'screener': 6, 'hesit': 10, 'aftr': 1, 'lengthli': 2, 'rra': 1, 'rigth': 3, 'anasarka': 1, 'cogniz': 1, 'lscl': 1, 'approxam': 1, 'themselv': 2, 'gluconst': 1, 'receivi': 2, 'impercept': 1, 'sangeou': 1, 'sangin': 1, 'stich': 2, 'arris': 1, 'comfortabley': 2, 'faulti': 1, 'abmul': 1, 'sangun': 1, 'consol': 5, 'erthemat': 2, 'hounsfield': 8, 'hemothorax': 8, 'unblock': 2, 'linezilid': 1, 'caught': 4, 'dimnish': 1, 'surgifoam': 1, 'thrombolyt': 1, 'susequ': 2, 'alquez': 1, 'inde': 6, 'sanguan': 1, 'errythema': 1, 'biotic': 1, 'sofsorb': 2, 'trrend': 1, 'sanguein': 1, 'throughoutth': 1, 'precedur': 1, 'dow': 3, 'moisten': 3, 'fube': 1, 'applli': 1, 'rp': 14, 'necesit': 2, 'cortico': 1, \"parkinsons'\": 1, 'diurisis': 1, 'faecium': 1, 'pleuravac': 2, 'instal': 5, 'peroxid': 3, 'thorocotomi': 2, 'sarcoma': 1, 'dfdgf': 1, 'apa': 2, 'preocedur': 1, 'concent': 1, 'proc': 4, 'viscera': 7, 'anasarcoid': 4, 'alkaloti': 1, 'pos': 2, 'mbp': 1, 'paracetamol': 1, 'occluss': 1, 'nostril': 12, 'inrr': 1, 'clearn': 1, 'hydrogen': 2, 'pvsv': 1, 'honor': 1, 'venographi': 3, 'intrapleur': 3, 'condtiion': 1, 'surgicel': 2, 'linezalid': 1, 'parkison': 1, 'inferomedi': 2, 'bloodcx': 1, 'cheat': 1, 'cone': 2, 'pod': 15, 'thrach': 2, 'goiter': 6, 'thorocoscopi': 1, 'thoras': 6, 'trahc': 3, 'stimualt': 2, 'souc': 2, 'giacc': 1, 'advnc': 1, 'adress': 2, 'findibg': 1, 'upperlob': 2, 'toss': 4, 'seru': 1, 'evacu': 15, 'ride': 6, 'uosh': 1, 'grimis': 1, \"mvm't\": 2, 'increment': 6, 'femer': 3, 'hopeful': 2, 'assciat': 1, 'elestoplast': 1, 'intox': 7, 'gastroesophag': 29, 'hyoptn': 1, 'varicos': 3, 'ruptur': 18, 'cigarett': 11, 'raloxifen': 1, 'introduct': 3, 'pft': 21, 'acetonid': 1, 'urobil': 3, 'misoprost': 1, 'fluoxetin': 4, 'tranferrin': 1, 'tibc': 8, 'cytotec': 1, 'dlco': 2, 'aton': 1, 'anorexia': 10, 'rqeaction': 1, 'ptsd': 7, 'costrophren': 1, 'clearish': 1, 'nco': 6, 'sink': 1, 'propoxyphen': 4, 'reman': 3, 'breast': 38, 'withourt': 1, 'ket': 5, 'scaphoid': 3, 'agonist': 3, 'preferenti': 1, 'naproxen': 2, 'sytem': 3, 'evista': 1, 'leter': 1, 'agap': 9, 'imipress': 1, 'briefi': 1, 'ipa': 1, 'handihal': 1, 'synopsi': 5, 'ctropnt': 2, 'hfa': 3, 'slawwolow': 1, 'sillihett': 1, 'arthralgia': 10, 'probnp': 5, 'nervosa': 2, 'weigh': 7, 'lumpectomi': 7, 'butalbit': 2, 'reguir': 2, 'ht': 11, 'barb': 3, 'psychiatrist': 10, 'caff': 2, 'amphet': 1, 'basex': 6, 'whitmil': 6, 'warn': 3, 'folic': 13, 'mthdne': 1, 'spegr': 1, 'misoprostol': 1, 'unalt': 4, 'intensitif': 1, 'ref': 6, 'tah': 5, 'hemmorhoid': 2, 'compli': 7, 'cxrshow': 1, 'ibw': 10, 'fibromyalgia': 3, 'notdon': 4, 'abstienc': 1, 'hc': 6, 'gastriti': 17, 'triamcinolon': 3, 'acetmnphn': 3, 'conform': 3, 'fioricet': 1, 'nitr': 6, 'adam': 4, 'sublingu': 5, 'lump': 4, 'acet': 9, 'lemonad': 2, 'unisyn': 1, 'bpd': 1, 'bj': 2, 'antipyret': 6, 'treand': 2, 'proair': 2, 'pown': 1, 'sentanc': 3, 'unsaf': 13, 'perphenazin': 1, 'spirat': 2, 'td': 12, 'gastroenterolog': 4, 'boderlin': 4, 'tackynp': 1, 'pericardia': 2, 'tahbso': 1, 'ndnt': 6, 'amphetamin': 1, 'bso': 2, 'disku': 6, 'poli': 26, 'ptch': 6, 'pulsu': 6, 'sulfasalazin': 3, 'phych': 1, 'dextroamphetamin': 1, 'congenit': 19, 'secundum': 6, 'sniff': 8, 'jbre': 9, 'atrio': 5, 'phalanx': 4, 'resembl': 2, 'congruent': 4, 'pleur': 1, 'mortis': 3, 'tuberculosi': 7, 'tubercul': 2, 'leftclip': 1, 'hallux': 1, 'styloid': 1, 'valgu': 1, 'mtp': 1, 'talu': 3, 'undiagnos': 6, 'calcan': 1, 'thoracoscopi': 4, 'phalang': 3, 'cmc': 2, 'underexposur': 1, 'hre': 1, 'resuct': 1, 'inaffect': 1, 'servi': 1, 'coccidiomycosi': 2, 'exub': 6, 'nct': 1, 'pleuro': 1, 'hematolog': 20, 'splenul': 10, 'quicki': 1, 'ation': 1, 'erron': 3, 'bullou': 8, 'pils': 1, 'osmolit': 2, 'tracheomegali': 1, 'dwell': 5, 'wheen': 1, 'dicuss': 1, 'roadtrip': 1, 'regist': 5, 'sternocleidomastoid': 3, 'ultrsonograph': 1, 'armi': 1, \"lft'\": 5, 'formatio': 1, 'neub': 2, 'trandfer': 1, 'levofloxcin': 3, 'apetit': 11, 'ichi': 1, 'reamain': 1, 'snooz': 2, 'dression': 1, 'nooon': 1, 'overngiht': 4, 'eccymoisi': 1, 'wriiten': 1, 'salvag': 2, 'insu': 1, 'onleft': 1, 'sersang': 2, 'incison': 1, 'zorviax': 1, 'wcommand': 1, 'asper': 3, 'activeti': 1, 'sxnd': 4, 'consistli': 1, 'heartrat': 1, 'zoooster': 1, 'adult': 10, 'everywher': 1, 'randomli': 3, 'sternaum': 1, 'incontinencr': 1, 'tensiv': 2, 'wih': 2, 'ventolin': 4, 'pearll': 1, 'serosan': 1, 'multpl': 3, 'svg': 4, 'lcw': 4, 'tachynep': 1, 'pruiti': 1, 'amal': 2, 'consistanli': 1, 'immmedi': 1, 'epicard': 2, 'sbradi': 1, 'dilatin': 3, 'draian': 2, 'spound': 1, 'tenati': 1, 'cheang': 1, 'dermotolog': 1, 'commnad': 4, 'zoster': 13, 'ssx': 1, 'truck': 2, 'zesteril': 1, 'extremitli': 1, 'chet': 1, 'blisteri': 1, 'vericilla': 1, 'follo': 2, 'scrotal': 16, 'suppoert': 1, 'raplac': 1, 'ligi': 1, 'euqal': 1, 'aloevista': 1, 'clotti': 1, 'bsp': 2, 'zooster': 1, 'intermittingli': 2, 'catc': 1, 'sponteous': 1, 'ansthesia': 1, 'reavtiv': 1, 'ey': 2, 'vip': 3, 'waiv': 1, 'whiel': 1, 'meripenem': 3, 'merpanem': 1, 'perepher': 1, 'optmiz': 1, '\\x13transfer': 1, 'anitcoagul': 1, 'hereconfirm': 1, 'interig': 1, 'luekemia': 1, 'copazin': 2, 'leukemia': 7, 'exaust': 1, 'srackl': 1, 'continuo': 3, 'soluabl': 1, 'axil': 3, 'anitbx': 2, 'fenestr': 6, 'ureteropelv': 1, 'furthermor': 8, 'clotrimazol': 6, 'wipe': 8, 'hyperecho': 8, 'evalua': 3, 'urothelium': 1, 'clotimazol': 1, 'ccm': 1, 'apppli': 2, 'scout': 16, 'supersorb': 1, 'peripelv': 1, 'submandibular': 5, 'amorph': 3, 'crusti': 4, 'tracheoinnomin': 1, 'ucerin': 1, 'swallo': 2, 'vad': 2, 'regual': 1, 'foreign': 13, 'anticubit': 4, 'recomm': 2, 'adjunct': 3, 'blooy': 1, 'pseudoaneurysm': 7, 'parapharyng': 1, 'laryngectomi': 2, 'enyzm': 1, 'autoduiresi': 1, 'errl': 1, 'noew': 1, 'effu': 6, 'diavan': 1, 'ntp': 6, 'keton': 9, 'greeen': 1, 'hpp': 1, 'eyedrop': 2, 'doorway': 2, 'prograf': 3, 'mjoriti': 1, 'rap': 10, 'fire': 8, 'slightk': 1, 'succes': 4, 'aful': 1, 'neurotin': 1, 'treponin': 1, 'psup': 3, 'diagnsot': 1, 'remaain': 1, 'tripll': 1, 'allerigi': 1, 'gbeen': 1, 'flucanazol': 1, 'nephro': 2, 'positivli': 2, 'pregress': 1, 'puppet': 1, 'recurrenti': 1, \"^'ng\": 1, 'metaprolol': 4, 'exbub': 1, 'qaudrant': 1, 'jwk': 4, 'minimi': 2, 'delus': 2, 'box': 7, 'miseri': 1, 'blacj': 1, 'knock': 4, 'swill': 1, 'combivir': 3, 'funni': 2, 'monthli': 6, 'tessalon': 9, 'lozeng': 3, 'ambein': 1, 'dmi': 3, 'betadin': 3, 'cepacol': 2, 'seconari': 1, 'enviro': 3, 'nephrologist': 4, 'materail': 1, 'prefe': 1, 'unsupervis': 2, 'sinnis': 1, 'ultrafiltr': 6, 'dializ': 1, 'cyclosporin': 3, 'filtrat': 2, 'inquier': 4, 'quinton': 3, 'comun': 3, 'undertaken': 2, 'voluntari': 1, 'novea': 1, 'vl': 18, 'labatalol': 2, 'interf': 1, 'nown': 1, 'gurgl': 10, 'dispneaic': 1, 'ampicillan': 1, 'overwhelm': 9, 'cefrtiaxon': 1, 'avtiv': 1, 'tilet': 1, 'albulterol': 1, 'aoox': 7, 'leionella': 1, 'activrti': 1, 'tinea': 1, 'recentlli': 1, 'mepliex': 1, 'ciproflox': 1, 'nonbroken': 1, 'microb': 2, 'ngiht': 4, 'recordsbelladonna': 1, 'valerian': 1, 'thromboctopenia': 1, 'prohylaxi': 1, 'gleed': 1, 'ivmeropenum': 1, 'nppv': 6, 'acd': 6, 'app': 5, 'nightli': 5, 'fbca': 4, 'siunc': 1, 'ldn': 6, 'generak': 1, 'electron': 9, 'belladonna': 1, 'ibd': 2, 'nonocclus': 9, 'swoll': 1, 'poh': 1, 'brca': 2, \"'thumb\": 1, 'infitr': 5, 'bi': 6, 'prophylact': 20, 'warmth': 7, 'mesalamin': 2, 'alkaloid': 1, 'hytrin': 1, 'apppear': 3, 'sole': 6, 'xygri': 2, 'phi': 4, 'thoracentisi': 2, 'spiromoeteri': 1, 'bcaus': 1, 'vist': 2, 'thorocentisi': 1, 'hyperv': 1, 'extract': 9, 'likewis': 1, 'rslt': 1, 'cardiophren': 8, 'legioniella': 1, 'arter': 1, 'niddm': 8, 'glucaphag': 1, 'bracelet': 6, 'physio': 2, 'nasointestin': 9, 'lye': 1, 'lipomat': 4, 'aurgument': 1, 'trens': 1, 'funtion': 3, 'floro': 1, 'reintroduc': 4, 'mutilobar': 1, 'paralys': 6, 'upperarm': 1, 'meropanem': 1, 'contrari': 1, 'nasagmu': 1, 'dubhoff': 6, 'brreath': 1, 'accustom': 1, 'delirum': 1, 'labour': 2, '^doe': 1, 'ststu': 1, 'un': 8, 'detemin': 1, 'repletd': 1, '^restless': 1, 'presen': 1, 'inconclus': 5, 'phlebotomi': 15, 'interstit': 4, 'canot': 1, 'bigemeni': 2, 'amalys': 1, 'espec': 2, 'evetu': 1, \"tom'row\": 3, 'curs': 2, 'powerpicc': 4, 'tether': 6, 'umbil': 12, 'intrabd': 2, 'ceph': 2, 'transfix': 2, 'angular': 1, 'withstood': 1, 'pneumostat': 3, 'lltc': 12, 'unreli': 6, 'simethecon': 2, 'consutl': 2, 'stelazin': 1, 'cogentin': 2, 'psychiatri': 12, 'vew': 1, 'epidisod': 1, 'simethcon': 1, 'erythma': 1, 'flakey': 2, 'everythingthat': 1, 'mscontin': 1, 'confusedat': 1, 'thinner': 7, 'copious': 1, 'endocardidti': 1, 'bister': 1, 'discectomi': 1, 'thrombophleb': 2, 'aveno': 1, 'neurosurgeri': 5, 'erthyma': 1, 'cheny': 2, 'vetebr': 1, 'neural': 13, 'pinpoint': 4, 'serous': 1, 'demorol': 1, 'telelphon': 1, 'intrisinc': 1, 'macular': 12, 'rectovagin': 1, 'lookup': 1, 'osteomyleti': 1, 'lysi': 5, 'foramin': 11, 'debrit': 1, 'coach': 15, 'cape': 2, 'dryness': 5, 'loongterm': 1, 'johnson': 1, 'foramina': 4, 'diskiti': 3, 'vooid': 1, 'repletet': 1, 'noncompress': 5, 'mentatl': 1, 'ostreomyl': 1, 'ultrcal': 1, 'tobra': 6, 'aveeno': 1, 'tremul': 14, 'bounc': 4, 'tylenool': 1, 'veterbr': 1, 'intraabd': 1, 'obliter': 14, 'flake': 15, 'cha': 2, 'creast': 1, 'intr': 1, 'hte': 4, 'drn': 1, 'trumor': 1, 'linezoid': 2, 'parallel': 2, 'yesterdaym': 1, 'resuscitaion': 1, 'sugest': 1, \"shock'\": 1, \"'infrequ\": 1, 'rhtym': 3, 'ventriclar': 1, 'salvo': 1, 'bloddi': 1, \"'call\": 1, 'dring': 1, 'bdrest': 1, 'sppleenectomi': 1, 'sideroblast': 1, 'adenocarcinoma': 17, 'myeloid': 1, 'admisson': 1, 'myelofibrsi': 1, 'angioectasia': 2, 'cyberknif': 3, 'metaplasia': 2, 'pancreatectomi': 1, 'knob': 12, 'pneurmothorax': 1, 'analyz': 12, 'regress': 12, 'ctto': 1, 'overinfl': 8, 'pneumoth': 2, 'placmeent': 1, 'remaisn': 4, 'thoracoscop': 2, 'orientedx': 7, 'infradiaphragmat': 3, 'refrain': 2, 'cystoscopi': 6, 'diastasi': 3, 'cystocopi': 2, 'ovarian': 6, 'tehn': 1, 'nondepend': 6, 'unchnag': 1, 'hernial': 1, 'uniformli': 4, 'ctpa': 7, 'mwintain': 1, 'popsickl': 1, 'eager': 5, 'superinmpos': 1, 'energet': 1, 'discoordin': 6, 'fontal': 1, 'cardiovers': 14, 'lobd': 1, 'poisit': 1, 'rocephin': 2, 'plenti': 4, 'indciat': 1, 'guifensan': 1, 'expectorationg': 1, 'conc': 6, 'ceftrax': 1, 'physican': 1, 'sath': 1, 'vv': 2, 'instrins': 1, 'float': 2, 'volun': 1, 'annoy': 2, 'rouseabl': 2, 'genamycin': 1, 'disclos': 4, 'inmmobil': 1, 'effusio': 5, 'hpa': 2, 'venepunctur': 1, 'mersa': 1, 'unrepair': 1, 'vaxcel': 6, 'apnic': 6, 'everth': 1, 'coher': 7, 'hemiplegia': 5, 'gvhd': 2, 'guidenc': 1, 'ptosi': 1, 'allosct': 2, 'neuralgia': 2, 'lawn': 1, 'outer': 4, 'artifici': 5, 'mow': 1, 'postherpet': 1, 'clottedcan': 1, 'allogen': 3, 'silver': 6, 'angiodynam': 2, 'unus': 4, 'fistalugram': 1, 'taco': 1, 'effsuin': 2, 'basilarli': 1, 'nephrolog': 6, 'pregabalin': 3, 'faith': 1, 'stiffen': 7, 'hemorr': 1, 'sidept': 1, 'pentamidin': 3, 'herpet': 2, 'miscarriag': 2, 'dapson': 4, 'yhi': 1, 'medcat': 1, 'edeman': 2, 'cuffleak': 2, 'cellult': 1, 'encephalomalac': 2, 'semioval': 3, 'lvia': 3, 'awat': 2, 'aca': 4, 'circl': 7, 'flagi': 2, 'thoracenteci': 1, 'microvessel': 1, 'alz': 1, 'configuart': 1, 'lowwer': 1, 'psuedomona': 6, 'readvanc': 3, 'vetil': 2, 'occuls': 1, 'laxix': 1, 'individu': 6, 'withbl': 1, 'pulmonarey': 1, 'infsus': 1, 'oder': 2, 'crackli': 3, 'stiffli': 1, 'cautiosli': 1, 'periodiac': 1, 'mimick': 1, 'dreainag': 1, 'banana': 15, 'ecotpi': 2, 'reflux': 26, 'pulmicourt': 1, 'elecatr': 1, 'utilis': 1, 'pulmonaari': 1, 'graini': 2, 'endotrachael': 1, 'expres': 2, 'beneprotien': 3, 'striatonigr': 1, 'greeninsh': 3, 'dschrg': 1, 'restatr': 2, 'kid': 3, 'porvid': 1, 'alet': 1, 'drainaag': 1, 'grey': 7, 'serviv': 1, 'givenx': 2, 'pvco': 1, 'reommend': 1, 'frq': 1, 'oropharnyx': 1, 'eyebrow': 4, 'tooth': 8, 'hedo': 1, 'hypercapnia': 4, 'sechedul': 1, 'atropi': 1, 'unfib': 1, 'ncreas': 1, 'vene': 1, 'inreas': 1, 'mondday': 1, 'auscul': 2, 'ectoy': 2, 'dsa': 1, 'diruess': 1, 'striatoniagr': 1, 'claudi': 1, 'muco': 1, 'characht': 1, 'nigrostriat': 1, 'jerk': 4, 'lesson': 1, 'surprisingli': 2, 'ivbx': 1, 'veneodyn': 1, 'respiatori': 1, 'mab': 1, 'inchair': 1, 'respatori': 1, 'caridac': 1, 'pvo': 1, 'resorpt': 4, 'audabl': 1, 'undoubtedli': 2, 'suctionr': 1, 'pdr': 1, 'bilaterlli': 1, 'coxxyx': 1, 'profici': 1, 'sputumwith': 1, 'radiodens': 14, 'occason': 2, 'aniticp': 1, 'bumex': 3, 'pulmacort': 1, 'sut': 1, 'trah': 2, 'serosanquin': 1, 'benepro': 2, 'unifib': 1, 'malacia': 4, 'optomist': 1, 'facila': 1, 'diomax': 1, 'grandkid': 1, 'augmentin': 8, 'hyupernatremia': 1, 'benefib': 2, 'exager': 2, 'trachesostomi': 1, 'coveral': 1, 'abmu': 1, 'timefram': 1, 'painkish': 1, 'hyperexpans': 8, 'overlap': 7, 'jxn': 3, 'fibronodular': 2, 'otheriws': 1, 'aji': 13, 'thoracocentesi': 15, 'scotum': 2, 'chase': 3, 'instant': 1, 'atherosclerosi': 12, 'bill': 17, 'robot': 1, 'thsi': 6, 'prandial': 2, 'possiblu': 1, 'fibrothorax': 1, 'scrotom': 1, 'vivonex': 5, 'invert': 4, 'axaxox': 1, 'whiti': 1, 'disassoci': 1, 'coper': 3, 'nkma': 3, 'onflow': 1, 'levaqin': 2, 'rnage': 2, 'sevar': 1, 'match': 12, 'electroly': 5, 'creammi': 1, 'breakdownon': 1, 'wenkebach': 2, 'haemodynam': 4, 'eggcrat': 1, 'dgtr': 6, 'diauresi': 1, 'possib': 1, 'swob': 1, 'azithrommycin': 1, 'endolumin': 4, \"tx'ing\": 1, 'asplenia': 1, 'phantom': 2, 'dissemin': 6, 'insecur': 1, 'shower': 2, 'sprain': 1, '\\x13in': 1, 'fdp': 4, 'insuffci': 2, 'esbi': 1, 'sucion': 2, 'lucent': 8, 'resullt': 1, 'swivel': 3, 'dextameth': 1, 'pleasand': 1, 'pneumopericardium': 1, 'meter': 1, 'belch': 2, 'coomb': 1, 'amunt': 1, 'creme': 1, 'profil': 5, 'aputum': 1, 'bradycadia': 1, 'uat': 2, 'postict': 1, 'brownloos': 1, 'vere': 1, 'incresas': 2, 'dizzli': 1, 'dopoff': 3, 'hydrazalin': 3, 'doplpoff': 1, 'cancal': 1, 'deleriuo': 1, 'liler': 1, 'metoclopromid': 2, 'buth': 1, 'diursesi': 3, 'metaclopromid': 2, 'sewll': 1, 'virtual': 2, 'suctioend': 1, 'parvu': 1, 'comfus': 1, 'commernc': 1, 'halv': 4, 'rentent': 1, 'aveolar': 1, 'fentani': 3, 'afibril': 1, 'requirw': 1, 'initillay': 1, 'sof': 3, 'unable\\x13': 1, 'beacus': 1, 'flushe': 1, 'hymidifi': 1, 'trigemni': 1, 'doploff': 3, 'pepp': 1, 'arintg': 1, 'sligthli': 1, 'valubl': 2, 'plesa': 2, 'secet': 4, 'easliy': 1, 'blous': 14, 'mt': 8, 'pateint': 3, 'lertharg': 1, 'nb': 5, 'tardu': 1, 'behaviuor': 1, 'aggressivf': 1, 'verc': 2, 'sennakot': 2, 'trophic': 2, 'hurricain': 5, 'extubatiohn': 1, 'alteplas': 1, 'cvvh': 9, 'psotion': 1, 'orientata': 2, 'appera': 2, 'nocal': 1, 'swet': 1, 'agitataion': 2, 'nonfoc': 11, 'examib': 1, 'cocial': 1, 'panctranspl': 1, 'ventulat': 1, 'scedul': 1, 'dispar': 1, 'yankaar': 2, 'cellphon': 1, 'troughout': 1, 'trake': 1, 'eplac': 1, 'focsu': 1, 'vert': 2, 'obsewrv': 2, 'unevet': 1, 'incit': 2, 'refelx': 1, 'bolous': 1, 'parenychym': 1, 'bols': 3, 'metaclorpromid': 1, 'alsix': 1, 'tacrolimu': 7, 'ored': 4, 'inconstit': 1, 'kayaxal': 1, 'ventset': 2, 'pendind': 1, 'amiodar': 1, 'confidenti': 1, 'plani': 1, 'vancomysin': 2, 'lw': 13, 'sidehol': 9, 'afternnon': 2, 'mucopurul': 1, 'jct': 1, 'coverd': 2, 'specgr': 2, 'rbc': 43, 'iga': 5, 'scrambl': 3, 'abn': 3, 'ptca': 5, 'pseudomonax': 1, 'bbl': 7, 'lifestyl': 3, 'muffin': 2, 'sedentari': 5, 'singulair': 10, 'parasthesia': 7, 'methylpr': 8, 'serogroup': 6, 'oseo': 1, 'dog': 4, 'uric': 6, 'dessert': 1, 'titropium': 1, 'corn': 1, 'legionair': 1, 'hdr': 3, 'ccb': 6, 'desert': 1, 'dipstick': 2, 'ceftriazon': 6, 'scn': 2, 'msi': 3, 'plexi': 1, 'kick': 19, 'discard': 6, 'warmer': 5, 'aztriman': 1, 'soupi': 1, 'thic': 4, 'mystatin': 1, 'nasaotrach': 1, 'eys': 1, 'sg': 6, 'resperadol': 1, 'assistx': 1, 'cocnsist': 1, 'strept': 5, 'mva': 15, 'school': 7, 'adopt': 1, 'spironmet': 1, 'bet': 1, 'robituss': 2, 'continuosli': 1, 'bronchodial': 3, 'rush': 4, 'dulcalox': 1, 'esstenti': 1, 'tng': 2, 'amantadin': 2, 'hydraliazin': 1, 'furter': 2, 'urbc': 2, 'dopamamin': 1, 'bwel': 1, 'prolap': 1, 'cervix': 2, 'doapmin': 1, 'throughotu': 1, 'painfre': 2, 'hemangioma': 16, 'monito': 5, 'edemam': 1, 'concav': 4, 'infusimg': 1, 'illeu': 2, 'nitor': 1, 'extuba': 3, 'hepatopet': 26, 'ovenroc': 1, 'fingertip': 3, 'breathinhg': 1, 'condtion': 1, 'lorpessor': 2, 'cracl': 3, 'ith': 2, 'iabp': 5, 'amantidin': 2, 'abdomini': 4, 'saph': 1, 'posteromedi': 1, 'gasseou': 2, 'quadripl': 1, 'excis': 8, 'pneumothoorax': 1, 'pmreassess': 1, 'curvilinear': 7, 'pbm': 1, 'platelik': 3, 'colonca': 1, 'heimlich': 1, 'subc': 2, 'thermomet': 4, 'enterococ': 2, 'sicuss': 1, 'par': 2, 'ordrer': 1, 'sesni': 1, 'stabal': 8, 'negativetri': 1, 'lrd': 2, 'row': 7, 'anaphylaxi': 15, 'trx': 1, 'aresol': 2, 'hydromorphon': 12, 'hyperk': 2, 'tacro': 3, 'thrombos': 4, 'ostium': 2, 'myucomyst': 1, 'tens': 9, 'tracheobronchomalacia': 9, 'ws': 4, 'brittl': 2, 'bronc': 3, 'dxae': 2, 'pleuret': 1, 'tropinin': 4, 'hjr': 3, 'carev': 2, 'tendor': 2, 'protoc': 2, 'widow': 3, 'coracoclavicular': 1, 'aurea': 1, 'acromiohumer': 1, 'resusciat': 1, 'glenoid': 7, 'pbishop': 2, 'dysynchron': 12, 'perisplen': 4, 'contrastclip': 3, 'direcl': 1, 'shrunken': 4, 'dlp': 15, 'stbale': 4, 'ovari': 5, 'intubt': 2, 'adnex': 5, 'incompletley': 1, 'circumflex': 3, 'mgi': 15, 'lymphocyt': 9, 'mesaur': 1, 'paravertebr': 3, 'plerual': 2, 'cholecysti': 1, 'venotomi': 7, 'ath': 1, 'commnand': 2, 'clindaycin': 1, 'patinet': 4, 'interphalang': 1, 'comminut': 8, 'pneumthorax': 2, 'coupiou': 2, 'emphyema': 1, 'secreiton': 1, 'respn': 1, 'cga': 9, 'apeci': 2, 'clind': 1, 'avss': 4, 'sersanguin': 1, 'afebil': 5, 'antiretrovir': 2, 'frequentstrong': 1, 'tychypn': 1, 'rpicc': 2, 'synchroni': 3, 'solat': 1, 'exacerbaion': 1, 'nystain': 1, 'donw': 1, 'sutol': 1, 'accep': 1, 'ontrach': 1, 'hemecult': 1, 'periar': 1, 'apin': 3, 'legibl': 3, 'aaaaawait': 1, 'synch': 4, 'mediat': 6, 'island': 7, 'mob': 2, 'sabl': 1, 'rpiv': 2, 'nauseou': 4, 'wriet': 1, 'bedisd': 1, 'knownor': 1, 'hcyt': 1, 'secrertt': 1, 'lasx': 1, 'tast': 1, 'bottock': 1, 'nonfenestr': 1, 'adlib': 1, 'craet': 1, 'backach': 3, 'doubleguard': 5, 'thikc': 2, 'dischrg': 1, 'becaom': 2, 'comod': 1, 'tepid': 3, 'tool': 1, 'acoupl': 1, 'shuffl': 1, 'vaco': 2, 'lipim': 1, 'paitent': 5, 'placemnt': 2, 'isolat': 1, 'subseq': 1, 'softwrist': 1, 'brew': 3, 'ur': 1, 'downsiz': 5, 'manuev': 1, 'tacycard': 1, 'sppech': 3, 'cf': 4, 'atelectact': 1, 'cuffless': 5, 'krohn': 1, 'indiscret': 2, 'vx': 4, 'nitrotab': 1, 'expos': 7, 'dysphasia': 4, 'cardial': 1, 'signigic': 1, 'copn': 1, 'approrpi': 1, 'earlili': 1, 'pluggin': 1, 'transferrd': 1, 'uprigh': 1, 'wich': 2, 'south': 3, 'multcn': 1, 'dysarthr': 3, 'invent': 1, 'mediastinosccopi': 1, 'retrocardi': 2, 'ceftazdim': 1, 'ovoid': 3, 'emphysemia': 1, 'aebc': 2, 'encas': 8, 'costal': 5, 'adjoin': 1, 'neuropath': 4, 'charcot': 2, 'talar': 1, 'angul': 7, 'fragment': 9, 'malleolu': 1, 'dilodid': 2, 'disrupt': 4, 'plafond': 1, 'varu': 1, 'fibula': 4, 'trimalleolar': 1, 'fibular': 2, 'oxicodon': 2, 'calcaneu': 1, 'uren': 1, 'callus': 1, 'malleolar': 1, 'hindfoot': 1, 'bimalleolar': 1, 'wolfram': 2, 'ulrasound': 1, 'optic': 1, 'wolfran': 2, 'nonhemorrhag': 17, 'requiremnt': 1, 'fishi': 1, 'yello': 3, 'vag': 2, 'titat': 1, 'lbbb': 10, 'oximet': 2, 'prog': 4, 'cortison': 2, 'statusa': 1, 'captopr': 2, 'lop': 2, 'difficultli': 3, 'vacular': 2, 'sod': 1, 'emoli': 1, 'readmiss': 6, 'deped': 2, 'mediastium': 1, 'becuas': 2, 'distned': 1, 'respoit': 1, 'seriel': 4, 'stnet': 1, 'sxp': 1, 'maintenac': 1, 'assymptomat': 2, 'proscar': 1, 'incidnet': 1, 'microabras': 1, 'retim': 1, 'coocx': 1, 'midstern': 5, 'mstemi': 1, 'srx': 1, '^cri': 1, 'silli': 1, 'thankgiv': 1, 'gramstain': 1, 'tangenti': 1, 'mdnoc': 2, 'substern': 7, 'unmeasur': 1, 'melanot': 5, 'crossmatch': 5, 'rbb': 1, 'zpak': 2, 'amox': 2, 'hyperthermia': 42, 'sarcoid': 8, 'tmp': 13, 'losdartan': 1, 'crampo': 1, 'plz': 3, 'binder': 7, 'righ': 2, 'hydroxysin': 1, 'polit': 2, 'graph': 2, 'clavulan': 2, 'nifedipin': 15, 'prescribt': 1, 'glomerular': 2, 'quaic': 1, 'avgraft': 1, 'pruritu': 4, 'vanocmycin': 2, 'smx': 13, 'mptb': 6, 'bactrimm': 1, 'heav': 12, 'episodex': 1, 'bracheocephal': 2, 'matur': 4, 'convent': 9, 'nifedepin': 1, 'hematemesi': 5, 'crossmathc': 1, 'sevelamir': 3, 'contineu': 2, 'mrv': 2, 'cozaar': 3, 'niifedipin': 1, 'phleb': 1, 'notif': 9, 'reoccurr': 2, 'xerofoam': 1, 'colonscopi': 2, 'diverticulti': 1, 'maroon': 7, 'prepe': 1, 'diveriticul': 1, 'clump': 1, 'kexel': 1, 'physicv': 1, 'sweater': 2, 'pipe': 2, 'inhail': 2, 'colitisrequir': 1, 'aabg': 1, 'ren': 1, 'pharm': 8, 'magmt': 1, 'availabilti': 1, 'dur': 4, 'eventhough': 1, 'confim': 1, 'cahir': 2, 'rant': 3, 'serv': 6, 'inncid': 1, 'pendinf': 1, 'unrin': 1, 'blod': 5, 'psuedmona': 1, 'morpin': 4, 'azitinem': 1, 'prece': 1, 'slighti': 3, 'breathig': 1, 'whe': 3, 'lforearm': 1, 'sulphat': 3, 'chset': 1, 'hyperglycem': 13, 'duaderm': 2, 'intolerac': 1, 'extrimitit': 1, 'lumin': 3, 'ocean': 1, 'paxil': 9, 'chnged': 1, 'iliostomybag': 1, 'throbe': 1, 'olac': 2, 'appitit': 9, 'flatuat': 1, 'remiand': 1, 'porgress': 1, 'exersic': 1, 'leveqiun': 1, 'pseudamonsa': 1, 'makept': 1, 'inpast': 1, 'ressect': 1, 'tackycard': 1, 'antibioticss': 1, 'breathin': 2, 'luq': 8, 'panicki': 2, 'fortaz': 2, 'overexpand': 1, 'linein': 1, 'anticholinerg': 3, 'illeostomi': 2, 'lidcain': 1, 'lobectomyand': 1, 'sution': 2, 'conditoin': 1, 'zyvox': 2, 'blown': 1, 'reuir': 1, 'hyperglycamia': 1, 'peudamona': 1, 'hyperluc': 6, 'agbg': 1, 'psuedamonu': 1, 'guiafenesin': 5, 'norom': 1, 'oncontact': 1, 'milder': 5, 'antibioticd': 1, 'lquid': 2, 'deepbreath': 1, 'papsp': 1, 'revieew': 1, 'tiopropium': 1, 'tiger': 1, 'lfa': 3, 'klonipin': 3, 'adheas': 1, 'amikacin': 9, 'tipotropium': 1, 'dribbl': 1, 'lbrach': 1, 'modal': 3, 'illoestomi': 1, 'rrad': 1, 'dysautonomia': 2, 'howvev': 1, 'obstain': 1, 'hcap': 38, 'cholangio': 2, 'adenoca': 5, 'legion': 1, 'doublecoverag': 1, 'amoxicillin': 8, 'catalogu': 1, 'cholangioca': 1, 'lbp': 5, 'finasterid': 2, 'tbili': 13, 'metoprol': 3, 'graduat': 2, 'melanoma': 7, 'hyperkalem': 5, 'paliat': 1, 'radiographi': 5, 'wallpap': 1, 'lexapro': 8, 'antiparkinson': 2, 'primidon': 4, 'refresh': 1, 'pelv': 3, 'dex': 4, 'bliari': 1, 'ment': 2, 'dyskinet': 2, 'excrori': 1, 'misattach': 2, 'taker': 1, 'successu': 1, \"piv'\": 8, 'elast': 2, 'laproscop': 1, 'piviot': 2, 'hida': 5, 'ioversol': 1, 'castleman': 1, 'enterocutan': 2, 'unicentr': 1, 'ronchor': 16, 'receivl': 1, 'reigmen': 1, 'fistul': 3, 'olecranan': 1, 'endpoint': 2, 'fistuologram': 1, 'chic': 1, 'choledocholithiasi': 4, 'interior': 1, 'orif': 12, 'nutrion': 2, 'ercp': 10, 'amiodipin': 2, 'tugor': 2, 'azotemia': 9, 'respirophas': 1, 'csurg': 6, 'turner': 1, 'poi': 1, 'laxiti': 3, 'transcutan': 3, 'pec': 1, 'optimum': 1, 'wak': 1, 'nv': 3, 'shield': 1, 'aortobi': 1, 'instraspin': 1, 'visipaqu': 5, 'aspergillu': 11, 'imping': 9, 'uncovertebr': 3, 'cerebellum': 6, 'percept': 1, 'avid': 9, 'erod': 5, 'brainstem': 2, 'intraoss': 2, 'lunc': 1, 'invad': 7, 'encroach': 3, 'paraesophag': 7, 'destroy': 3, 'pet': 17, 'spinou': 2, 'abssent': 1, 'bronchorrhea': 1, 'respirtori': 4, 'nebsq': 1, 'pneumonectomi': 5, 'downt': 2, 'hematuirc': 1, 'cannul': 5, 'initial': 1, 'openingli': 1, 'stack': 2, 'efeect': 1, 'wavsform': 1, 'detial': 3, 'reviw': 2, 'nosocomi': 15, 'papain': 1, 'inpuls': 1, 'satisafcatori': 1, 'ywlloe': 1, 'therapistin': 1, 'operta': 1, 'wiothout': 1, 'memeori': 1, 'betwwen': 1, 'sliip': 1, 'risisng': 1, 'agian': 3, 'corsintropin': 1, 'unclog': 1, 'hypotent': 7, 'prozac': 6, 'realt': 2, 'lithiumm': 1, 'butt': 5, 'clipboard': 4, 'databas': 2, 'afeebril': 1, 'slid': 2, 'agitata': 1, 'sctlc': 1, 'sedtaion': 1, 'sba': 1, 'necklac': 2, 'slighli': 5, 'veceronium': 2, 'scarum': 1, 'therfeor': 1, \"cont'd\": 1, 'continuu': 1, 'vodka': 5, 'soflti': 4, 'diuris': 4, 'dermoid': 1, 'anzamet': 1, 'rifampin': 6, 'allevi': 12, 'sponten': 3, 'neostigman': 1, 'lbmx': 2, 'cortistim': 1, 'pltl': 1, 'lsw': 1, 'micxumi': 1, 'contit': 1, 'weamn': 1, 'clott': 1, 'arteriogram': 3, 'inermit': 1, 'brighter': 3, 'whithin': 1, 'spile': 1, 'dolasetron': 1, 'antiemet': 4, 'magazin': 3, 'gender': 3, 'alongsid': 10, 'abrasionx': 1, 'watersh': 3, 'drning': 1, 'lishen': 1, 'guardianship': 5, 'perrlaa': 1, 'el': 2, 'uterin': 5, 'routinc': 1, 'recc': 10, 'tnick': 1, \"'scvp\": 1, 'vegit': 6, 'upprt': 2, 'streptomycin': 1, 'guaz': 3, 'strptomycin': 1, 'subpoena': 1, 'agatroban': 1, 'propos': 4, 'discrep': 6, 'cecum': 8, 'custodi': 3, 'shifwt': 1, 'physiotherapi': 3, 'hemisper': 1, 'erali': 1, 'benedryl': 4, 'ethambutol': 1, 'spkie': 2, 'mcl': 1, 'relet': 1, 'commnec': 1, 'thkish': 2, 'opinion': 7, 'mdo': 1, 'collectio': 2, 'declar': 2, 'reexpand': 2, 'decreasedin': 1, 'decend': 2, 'sectreion': 1, 'clsose': 1, 'pyrazanamid': 1, 'sleav': 2, 'ramain': 1, 'daughetr': 1, 'interac': 1, 'tahypn': 1, 'coagulopath': 3, 'isoniazid': 2, 'phrase': 7, 'edemed': 1, 'anzimetx': 1, 'succinctli': 1, 'rapport': 7, 'srat': 1, 'plumonari': 1, 'meant': 3, 'mtb': 3, 'dampn': 1, 'haematuria': 2, 'emet': 1, 'gancyclovir': 3, 'delasetron': 1, 'vicari': 3, 'ndari': 1, 'unconsci': 1, 'rhonchiou': 2, 'espeic': 2, 'rojm': 1, 'imepenum': 1, 'imepenim': 1, 'swing': 6, 'digest': 2, 'trcheotomi': 1, 'treach': 1, 'raeb': 1, 'tolaret': 1, 'myelodysplast': 2, 'regurgat': 1, 'imipenam': 1, 'na^^': 1, 'church': 2, 'theori': 3, 'paid': 2, 'respiartori': 1, 'represn': 1, 'prr': 1, 'weam': 1, 'movemnt': 1, 'becan': 1, 'anzement': 1, 'encrust': 1, 'prresent': 1, 'matreess': 1, 'reimag': 7, 'usction': 1, 'improvementtv': 1, 'pleuroparenchym': 4, 'prcedur': 1, 'ambisom': 2, 'circuit': 7, 'apprpriat': 1, 'chalki': 1, 'serosangin': 3, 'uss': 1, 'trait': 3, 'sickl': 1, 'perisist': 2, 'scretion': 1, 'daptomycin': 2, 'rip': 3, 'allerig': 2, 'ladder': 1, 'suppert': 1, 'communic': 1, 'echoli': 1, 'urs': 1, 'cure': 2, 'portclip': 3, 'afrebril': 2, 'trede': 3, 'tylenolx': 1, 'softer': 8, 'tel': 1, 'blank': 2, 'conjuct': 2, 'overdiures': 2, 'vomitu': 2, 'uffp': 2, 'diusesi': 1, 'sag': 1, 'erythro': 2, 'pronat': 3, 'dop': 10, 'mang': 3, 'periorbit': 4, 'consistentwith': 1, 'puil': 2, 'nursng': 1, 'hyperoxia': 2, 'solv': 3, 'cisatraciriuum': 1, 'humulin': 5, 'wi': 4, 'progr': 3, 'notenurs': 1, 'regland': 1, 'mainatinig': 1, 'unopen': 2, 'rotorest': 1, 'nsicu': 1, 'kink': 7, 'midesophagu': 1, 'urien': 2, 'pharmacuet': 1, 'speciment': 1, 'popit': 2, 'witn': 1, 'throughouth': 1, 'multiposu': 1, 'deffer': 5, 'inhlaer': 1, 'anpea': 1, 'tronchoscopi': 1, 'paral': 1, 'retun': 1, 'andtherefor': 1, 'mojor': 1, 'socialwork': 2, 'peed': 1, 'adminis': 1, 'unitl': 3, 'ivl': 2, 'balacn': 2, 'expwhe': 1, 'mehtadon': 1, 'resond': 3, 'suporrt': 1, 'concult': 1, 'dopov': 1, 'wdi': 6, 'audubl': 1, 'malasia': 2, 'triadyn': 7, 'refex': 1, 'tomorrrow': 2, 'demarc': 4, 'apen': 4, 'blanc': 2, 'klonapin': 2, 'pentobarbitol': 1, 'glden': 1, 'haslimit': 1, 'essent': 2, 'amoount': 2, 'eupport': 1, 'cistatiacurium': 1, 'unrais': 1, 'tign': 1, 'supplemet': 1, 'acidod': 2, 'nlargement': 1, 'bmp': 1, 'redsid': 1, 'coma': 4, 'depsit': 2, 'venil': 1, 'sluggisli': 2, 'antibiotic': 1, 'cisatracurium': 2, 'pharmacist': 5, 'trasfus': 2, 'morphein': 1, 'transderm': 2, 'riedel': 1, 'hypergycem': 1, 'hypocapnea': 1, 'getout': 1, 'resov': 2, 'mosltli': 1, 'medciat': 2, 'periorbi': 1, 'displeas': 1, 'superad': 1, 'proprofol': 3, 'bilaer': 1, 'maitian': 1, 'combo': 4, 'luung': 1, 'slep': 1, 'hyoactiv': 1, 'iniatilli': 1, 'uurs': 1, 'cist': 1, 'emeg': 1, 'betetr': 1, 'fellto': 1, \"ambu'\": 2, 'offabx': 1, '^hr': 3, 'fowl': 2, 'ite': 1, 'dnuero': 1, 'anlkl': 1, 'sputim': 1, 'grimi': 1, '^na': 1, 'mind': 10, 'linesit': 1, 'evem': 1, 'tcdp': 5, 'hypotensv': 1, 'musculatur': 6, 'ba': 17, 'lest': 1, 'belief': 1, 'conclud': 5, 'recess': 5, 'dtiff': 1, 'abf': 1, 'sort': 8, 'auscultaion': 1, 'clasp': 1, 'sercet': 1, 'pali': 2, 'sadd': 1, 'discomfor': 1, 'hro': 1, 'lenghti': 1, 'ureg': 1, 'omg': 1, 'attmpt': 3, 'sart': 2, 'incresinng': 1, 'slightest': 2, 'frustrarion': 1, 'multiposi': 2, 'comgeal': 1, 'devid': 1, 'dioppler': 1, 'faili': 2, 'opsit': 2, 'intervascular': 1, 'pnumo': 1, 'braclet': 1, 'contct': 1, 'mmove': 1, '^^hr': 2, 'oppinion': 1, 'religi': 1, 'bot': 2, 'uncov': 3, 'refferr': 2, 'pancx': 4, 'trueli': 1, 'z': 4, 'residul': 2, 'abdom': 2, 'futil': 3, 'fgiven': 1, 'fluc': 8, 'repleatd': 1, 'cholang': 7, 'uncomforatbl': 1, 'inadvertenti': 1, 'boredom': 1, 'coough': 1, 'plummet': 1, 'otherw': 1, 'awarenss': 1, 'nasaal': 1, 'lasisx': 1, 'voucher': 2, 'cab': 4, 'vomitig': 1, 'mentaton': 1, 'diminih': 2, 'prescript': 9, 'commsnd': 1, 'inadvertantli': 1, 'cadaver': 1, 'osmot': 2, 'closley': 2, 'uppermost': 3, 'inord': 2, 'cce': 1, 'spew': 1, 'click': 2, 'transpos': 1, 'df': 13, 'normoglycemia': 1, 'andvanc': 1, 'biomark': 9, 'levit': 1, 'pmibi': 2, 'quot': 2, 'prednisom': 1, 'unretract': 1, 'dyskinesi': 2, 'acur': 2, 'qmi': 1, 'bumetanid': 2, 'hdl': 3, 'ganglia': 10, 'videofluoroscop': 8, 'stanc': 2, 'restat': 1, 'russia': 1, 'persantin': 3, 'vf': 1, 'enalopril': 2, 'ldl': 2, 'srh': 4, 'precert': 1, 'ideat': 5, 'waev': 2, 'subcot': 1, 'viedo': 1, 'cryoptherapi': 1, 'decerebr': 1, 'angin': 4, 'lactam': 4, 'endocrinologist': 2, 'intubati': 1, 'wma': 6, 'chd': 1, 'eosinophilia': 12, 'poem': 1, 'vronch': 1, 'vfib': 4, 'model': 9, 'cariac': 1, 'ppft': 4, 'continun': 1, 'unintent': 1, 'represent': 2, 'unsign': 1, 'ulyt': 4, 'requiringhd': 1, 'tacrol': 1, 'girmmac': 1, 'toiltet': 3, 'mmf': 4, 'clonzapam': 1, 'dispens': 4, 'lengthen': 4, 'accommod': 2, 'leukokcytosi': 1, 'auth': 1, 'xplant': 1, 'song': 1, 'da': 5, 'commit': 5, 'immunesuppress': 2, 'funciton': 1, 'awail': 1, 'exept': 2, 'pravastatin': 7, 'purposefuli': 1, 'pyriform': 9, 'icteru': 29, 'ketoacidosi': 1, 'velar': 3, 'betalactam': 1, 'xyphoid': 2, 'lood': 2, 'chol': 4, 'vfa': 1, 'goc': 6, 'gut': 10, 'ridg': 3, 'haltol': 1, 'cyclic': 2, 'mycophenol': 4, 'seroqul': 1, 'fumar': 5, 'nitrofurantoin': 6, 'poetri': 1, 'fluvoxamin': 1, 'upstrok': 6, 'diabetesi': 1, 'dextro': 1, 'crtx': 1, 'bronchomalacia': 5, 'fexofenidin': 1, 'brochospasm': 1, 'edentul': 11, 'intravascularli': 14, 'gej': 1, 'immigr': 1, 'sysotl': 2, 'camb': 1, 'pravastat': 1, \"i'li\": 1, 'seroquil': 4, 'tn': 6, 'nightsweat': 3, 'faiulr': 6, 'begn': 1, 'smmhg': 1, 'ivpwith': 1, 'mofetil': 3, 'fahrenheit': 1, 'resovlv': 1, 'whcih': 2, 'whee': 1, 'escort': 3, 'advisor': 3, 'converstaion': 1, 'rrom': 1, 'bourbon': 1, 'lobbi': 2, 'delusion': 2, 'behavoir': 2, 'aval': 2, 'comfirm': 2, 'caythet': 1, 'ventricuilar': 1, 'aros': 1, 'albtuerol': 2, 'vioxx': 1, 'gaurd': 4, 'defiecit': 1, 'disect': 2, 'diffaculti': 1, 'agil': 1, 'aodm': 2, 'suctioningx': 1, 'chunk': 2, 'manor': 2, 'pleasw': 1, 'roof': 3, 'occcasion': 1, 'negit': 2, 'foloow': 3, 'maintian': 5, 'allen': 1, 'probuct': 1, 'nasasl': 1, 'accordf': 1, 'cbp': 4, 'aspleen': 1, 'awel': 1, 'biatrial': 3, 'floswsheet': 1, 'whenn': 1, 'rescussit': 2, 'lymphangit': 7, 'furhter': 4, 'pleuric': 1, 'diarreah': 1, 'ahen': 1, 'bouls': 1, 'sistend': 1, 'accquir': 1, 'memeb': 1, 'appetiet': 1, 'perpipher': 2, 'yaunk': 1, 'origion': 1, 'coorel': 2, 'wnt': 1, 'residua': 5, 'nine': 7, 'baqth': 1, \"mov't\": 1, 'retin': 1, 'interup': 5, 'anwser': 1, 'cavogram': 1, 'fructur': 1, 'effuis': 1, 'conferm': 1, 'elevet': 2, 'deseas': 1, 'arousabel': 1, 'replecmenbt': 1, 'park': 6, \"pe'\": 2, 'hipoxia': 1, 'tarnsfr': 1, 'ensym': 1, 'penidng': 2, 'vte': 6, 'gingeral': 5, 'atert': 1, 'combi': 2, 'dateto': 1, 'quarter': 8, 'nactiv': 1, 'psychot': 7, 'nfb': 4, 'portacath': 11, 'wqith': 3, 'tolerat': 1, 'hcit': 1, 'tylenlol': 1, 'hypertent': 1, 'portocath': 2, 'experenc': 1, 'oar': 1, 'auscalt': 1, 'buttuck': 4, 'generalis': 2, 'aoung': 1, 'atrest': 1, 'approprait': 1, 'wavew': 1, 'perip': 2, 'surrent': 1, 'pasti': 4, 'coaars': 1, 'deepen': 1, 'penicllan': 1, 'ocassioan': 1, 'cocyyx': 1, 'million': 4, 'substitut': 4, 'bolos': 1, 'lisw': 4, 'backupset': 1, 'stiil': 1, 'sex': 1, 'isod': 1, 'valastran': 1, 'currenltli': 1, 'hypervolem': 8, 'sctl': 2, 'readminist': 1, 'lmp': 3, 'vet': 2, 'hich': 1, 'softlt': 1, 'thinnet': 1, 'wg': 2, 'seroussang': 1, 'hey': 1, '^ing': 1, 'shampoo': 1, 'microgram': 1, 'bicuspid': 2, 'creap': 1, 'magsulf': 1, 'cvc': 9, 'asbp': 1, 'ral': 1, 'quaniti': 2, 'streptococc': 1, 'pne': 1, 'mineralocorticoid': 1, 'gg': 7, 'interferon': 3, 'hydrocodon': 10, 'polycythemia': 3, 'betaglucan': 1, 'ribavarin': 1, 'possibiliy': 1, 'fludrocortison': 3, 'counsel': 6, 'methyprednison': 3, 'galactomanan': 4, 'galactomannan': 17, 'decomepns': 1, 'cortef': 2, 'discribt': 1, 'mone': 1, 'pica': 2, 'crave': 1, 'initilli': 1, 'assertain': 1, 'ciger': 1, 'pupl': 3, 'malform': 2, 'mastoidectomi': 1, 'suboccipit': 1, \"did't\": 1, 'chicken': 2, 'strictur': 14, 'bagun': 1, 'ogd': 1, 'opr': 1, 'comfrtabl': 1, 'noodl': 2, 'unaffect': 2, 'oesophag': 1, 'lfluid': 1, 'jejunocutan': 1, 'diaprosi': 1, 'sobclin': 1, 'ygd': 7, 'quesiton': 3, 'subtherapi': 1, 'multivessel': 7, 'rulobectomi': 1, 'gvn': 1, 'seroid': 1, 'imitrex': 2, 'agb': 1, 'whith': 2, 'initrex': 1, 'gassi': 4, 'minit': 1, 'vegetarian': 4, 'nectrar': 1, 'anxioud': 1, 'lev': 1, 'jovial': 1, 'trazedon': 3, 'dypneic': 1, 'ahv': 2, 'mgiv': 2, 'awaitng': 4, 'minmal': 3, 'quanit': 1, 'evernt': 1, 'floxacin': 1, 'sulpha': 1, 'aorticopulmonari': 2, 'grill': 2, 'hyperplasia': 1, 'lighthead': 4, 'uninterpret': 6, 'afternooon': 2, 'inspit': 4, 'gand': 1, 'difficalti': 1, 'icreas': 3, 'tenant': 1, 'azythromacyn': 1, 'monitoirng': 1, 'shelter': 5, 'homeless': 9, 'inn': 2, 'imprrov': 1, 'precari': 1, 'search': 5, 'lume': 1, 'wbat': 1, 'simva': 3, 'hype': 1, 'desaturadt': 1, 'slighltli': 2, 'glucocorticoid': 2, 'procidex': 1, 'hemmorrhag': 2, 'appred': 1, 'achi': 3, 'multicfoc': 1, 'degrees': 1, 'extran': 1, 'perocet': 2, 'recevd': 1, 'prochlorperazin': 8, 'nafcillin': 6, 'dah': 11, 'dialudid': 3, 'hemmorhag': 5, 'cryoglobulin': 3, 'agter': 2, 'cyanocobalamin': 6, 'criticaid': 14, 'yesteday': 3, 'covera': 1, 'adequetli': 1, 'endometriosi': 2, 'anticp': 3, 'limitedli': 1, 'ingli': 1, 'showscrackl': 1, 'amlodapin': 1, 'vitd': 4, 'lebatalol': 1, 'rw': 8, 'diclox': 1, 'lossess': 1, 'avt': 1, 'vut': 1, 'predic': 1, 'sleap': 1, 'holosyst': 3, 'facemast': 1, 'acetominophen': 2, 'bland': 4, 'nafcilin': 1, 'therex': 10, 'pach': 1, 'cacarb': 1, 'rimantidin': 2, 'hrc': 3, 'repsiratori': 4, 'tka': 1, 'rhonki': 2, 'iprotrop': 1, 'blade': 2, 'capillar': 1, 'dvelop': 1, 'supress': 6, 'wegner': 3, 'chiropractor': 1, 'artifactu': 7, 'positit': 2, 'concomit': 9, 'alv': 4, 'reinstitut': 3, 'vasculit': 2, 'compfort': 1, 'prednsion': 2, 'dissynchroni': 1, 'lcpc': 18, 'improov': 4, 'parang': 1, 'nurisng': 3, 'calendar': 2, 'mostlli': 1, 'pharyg': 1, 'coumidin': 1, 'bivalv': 2, 'glutteal': 1, 'nyha': 1, 'cond': 4, 'gat': 1, 'meticulu': 1, 'shaunessi': 1, 'corel': 1, 'mexiliten': 1, 'ivfluid': 1, 'class': 3, 'coocyx': 4, 'orienterd': 1, 'avellyn': 1, 'benifit': 1, 'alevyn': 3, 'nno': 1, 'intubationl': 1, 'origress': 1, 'striat': 1, 'slurri': 1, 'hyperenhanc': 3, 'visapaqu': 2, 'supersel': 1, 'pseudoanuerysm': 1, 'transcend': 1, 'arteriotomi': 1, 'upsiz': 6, 'embo': 1, 'midport': 1, 'microwir': 1, 'intraren': 5, 'microcoil': 1, 'trancathet': 1, 'trv': 4, 'stc': 1, 'renegad': 1, 'microcathet': 2, 'cobra': 4, 'addl': 5, 'palpatori': 1, 'balkan': 1, 'restrian': 1, 'slugish': 2, 'weakeer': 1, 'progrewss': 1, 'blodd': 1, 'stqrt': 1, 'naseltrachea': 1, 'feedw': 1, 'whren': 1, 'hgealth': 1, 'coinsid': 2, 'staart': 1, 'phosphor': 6, 'commannd': 1, 'lomotil': 2, 'diissoriiennt': 1, 'ppt': 2, 'yankeuur': 1, 'pphlegm': 1, 'circ': 3, 'abfas': 1, 'metroprolol': 6, 'toleratin': 1, 'meqkcl': 2, 'promoot': 1, 'encouraag': 2, 'obeyi': 1, 'bowwel': 1, 'turrn': 1, 'expidit': 1, 'lymphedema': 1, 'mitoxantron': 1, 'enrol': 1, 'chop': 4, 'transform': 7, 'infraclavicular': 2, 'ppossibl': 1, 'ctabd': 1, 'qweek': 2, 'drinker': 5, 'follicular': 1, 'war': 3, 'orthostasi': 3, 'enhancemnt': 1, 'sidewal': 3, 'msir': 2, 'megestrol': 4, 'antibioc': 1, 'pleurisi': 4, 'igg': 10, 'fludarabin': 1, 'xenopi': 1, 'proctiti': 3, 'hcd': 1, 'qmonth': 1, 'thrive': 4, 'malodor': 2, 'spectrim': 1, 'chemotherapeut': 2, 'pleuriti': 1, 'rituximab': 1, 'pericolon': 1, 'loperamind': 1, 'bendamustin': 1, 'pentamadin': 1, 'refractori': 10, 'hyptens': 1, 'multicent': 1, 'zevalin': 1, 'fibrou': 3, 'anterolisthesi': 12, 'pinu': 1, 'penu': 1, 'interposit': 6, 'tattoo': 2, 'queri': 11, 'chilaid': 1, 'ventr': 1, 'peal': 1, 'gnawl': 1, 'omf': 2, 'rove': 2, 'grind': 3, 'prox': 3, 'becomc': 1, 'pnbt': 2, 'impli': 3, 'mepiplex': 4, 'glucogon': 3, 'decubetu': 1, 'holler': 1, 'speciman': 2, 'junct': 1, 'phenegran': 1, 'exxerct': 1, 'lct': 2, 'wegd': 1, 'nsc': 1, 'inp': 2, 'tylonol': 2, 'nut': 2, 'pulonari': 4, 'killer': 1, 'hemidiaphragmat': 7, 'protrus': 5, 'tolerart': 1, 'suprabas': 3, 'lsctab': 3, 'odour': 1, 'hyperelev': 1, 'omni': 4, 'enabl': 9, 'twist': 2, 'thorencentesi': 1, 'tension': 9, 'mgoxid': 1, 'esay': 1, 'inconisit': 1, 'cdif': 7, 'esmolo': 1, 'broach': 3, 'addendun': 1, 'resplet': 1, 'reprep': 1, 'bond': 1, 'sponan': 1, 'vacol': 1, 'understatand': 1, 'ibupropin': 1, 'fuse': 5, 'muxhroom': 1, 'kayexol': 2, 'incoprehensibel': 1, 'resul': 2, 'buttox': 2, 'mnimal': 1, 'gardianship': 2, 'galrgin': 1, 'psycot': 2, 'cove': 3, 'mfpvc': 1, 'dexamethison': 1, 'quiver': 1, 'dialat': 5, 'forev': 1, 'defitilid': 1, 'oversea': 2, 'interogat': 1, 'nurten': 1, 'esmollol': 1, 'bananna': 3, 'thyrotoxicosi': 1, 'requiri': 2, 'voiec': 1, 'taperd': 1, 'voriconazol': 4, 'prenison': 1, 'guaicc': 1, 'hiccup': 3, 'thyroplastym': 1, 'multiform': 5, 'omli': 1, 'wsa': 1, 'bigemin': 3, 'awe': 1, 'rambl': 2, 'reposist': 1, 'visualis': 2, 'bace': 1, 'zoysn': 5, 'icepack': 1, 'cring': 1, 'unccop': 1, 'ril': 1, 'vioe': 1, 'sogt': 1, 'blankli': 1, 'bruse': 3, 'nioght': 1, 'bari': 3, 'hemeodynam': 1, 'glottic': 1, 'readmt': 1, 'polymorph': 1, 'aforment': 1, 'mormimg': 1, 'thyroidtoxosi': 1, 'capoten': 1, 'offend': 6, 'qac': 2, 'thyrombocytopenia': 1, 'irat': 1, 'thyrotoxosi': 1, 'eveal': 1, 'hop': 3, 'sponatan': 1, 'hormon': 3, 'itm': 1, 'multipli': 2, 'defilitid': 1, 'ventricularli': 2, 'normothermia': 1, 'weaken': 6, 'interog': 2, 'boggi': 2, '^respons': 1, 'whisper': 2, 'avpac': 1, 'furtur': 1, 'disoreint': 1, 'hic': 1, 'extrub': 1, 'extremeit': 1, 'monitorfor': 1, \"bolus'\": 1, 'continuy': 1, 'lime': 2, 'persent': 1, 'porrel': 1, 'effectand': 1, 'bpcuff': 1, 'portibl': 1, 'spotan': 4, 'quanitifi': 1, 'bolusn': 1, 'amioderon': 6, 'positio': 1, 'lrad': 1, 'outlook': 3, 'tanninsh': 1, 'grim': 2, 'infilr': 1, 'detriment': 1, 'foer': 1, 'avp': 2, 'sbp^': 1, 'attept': 1, 'erceiv': 1, 'bll': 6, 'ver': 3, 'dysnchroni': 1, 'bracheal': 1, 'dantrolen': 1, 'klitchen': 1, 'dilerium': 1, 'coccyc': 2, 'psycholog': 2, 'chatter': 1, 'overninght': 1, 'impiar': 1, 'uterol': 1, 'nightshift': 1, 'thyroidoxicosi': 1, 'rashi': 1, 'baselineand': 1, 'procudt': 1, 'grochong': 1, 'liguid': 4, 'disynchronu': 1, 'orientx': 1, 'thyroidtoxicosi': 1, 'correctiom': 1, 'fixationg': 1, 'defervec': 1, 'tylenlo': 1, 'guardain': 1, 'dofetilid': 3, 'movt': 9, 'zyprea': 2, 'rforearm': 1, 'incraes': 1, '^amt': 2, 'compensart': 1, 'unsynchron': 1, 'slind': 1, 'wakeup': 9, 'storm': 1, 'fluoproscop': 1, 'nummer': 1, 'yearl': 1, 'altho': 1, 'ordeer': 1, 'stromg': 1, 'dimenish': 1, 'mandril': 1, 'infreq': 3, 'gass': 2, 'steer': 1, 'apyrexi': 1, 'penectomi': 1, 'fsq': 3, 'mem': 1, 'dmfj': 9, 'diltitazem': 1, 'kleenex': 1, 'sucralaf': 3, 'ectat': 6, 'deriv': 8, 'increass': 2, \"cap'\": 1, 'habit': 11, 'coph': 1, 'sulcruf': 1, 'bronchietasi': 2, 'epsisod': 1, 'nyastatin': 2, 'sucralf': 10, 'midinsp': 1, 'luceni': 1, 'adeno': 9, 'significnatli': 1, 'solumdedrol': 1, 'chemoradiotherapi': 2, 'athosclerot': 1, 'tachyapn': 1, 'stori': 10, 'emprir': 1, 'humdifi': 1, 'unmpress': 1, 'oat': 1, 'rochi': 1, 'beg': 2, 'tachyarrhythemia': 1, 'xopen': 1, 'bronchiestasi': 1, 'sdh': 12, 'abdomni': 1, 'unimpress': 7, 'emphasi': 9, 'vancomycina': 1, 'unremarkalb': 1, 'methemoglobinem': 2, 'reachabl': 1, 'curvatur': 4, 'skinfold': 1, 'levoconcav': 1, 'creram': 1, 'attemtp': 3, 'saccrum': 1, 'buttck': 1, 'diffcult': 1, 'airay': 1, 'wherr': 1, 'meuromuscular': 1, 'cappillari': 1, 'path': 13, 'bilter': 2, 'scl': 6, 'scapolamin': 1, 'scopalimin': 4, 'witwh': 1, 'chack': 3, 'envrion': 1, 'nutran': 1, 'encorag': 1, 'monitior': 4, 'scolapamin': 1, 'phoc': 1, 'upperextrim': 1, 'cousr': 1, 'elav': 4, 'evrs': 1, 'sucit': 1, 'specialti': 4, 'witg': 1, 'unchag': 9, 'svl': 1, 'willfrequ': 1, 'vai': 1, 'meteprolol': 1, 'sinusitu': 1, 'impov': 3, 'unersid': 1, 'alkilosi': 1, 'remeain': 1, 'rsba': 1, 'mond': 2, 'antihtn': 4, 'addentum': 1, 'careiew': 1, '^o': 1, 'asprat': 1, 'chiar': 2, 'ewn': 1, 'tryiong': 1, 'pupport': 1, 'scop': 1, 'maagnesium': 1, 'dne': 1, 'pthad': 1, 'foolw': 1, 'diuril': 6, 'significat': 1, 'paion': 1, 'extriem': 1, 'linizolid': 1, 'allvyn': 1, 'ausculat': 1, 'rtr': 1, 'pipracillin': 1, 'interventin': 1, 'whixh': 1, 'norva': 1, 'creeatinin': 1, 'coares': 1, 'restrait': 1, 'isopa': 1, 'undgest': 1, 'aalevyn': 1, 'froom': 1, 'passion': 1, 'nformat': 1, 'afibb': 1, 'taccycardia': 1, 'scoplamin': 1, 'albuterolq': 1, 'repit': 1, 'recalibr': 3, 'deuoderm': 1, 'rezero': 1, 'aspt': 1, 'pickat': 1, 'visciou': 3, 'deci': 1, 'abraiooon': 1, 'suctionedd': 1, 'buttiock': 1, 'actic': 1, 'orderedsx': 1, 'postcholecystectomi': 1, 'stuck': 14, 'feend': 1, 'deg': 6, 'comofort': 1, 'unir': 1, 'mainitain': 1, 'tickl': 1, 'rlp': 1, 'assessori': 1, 'effert': 1, 'asphagia': 1, 'uppon': 1, 'plsnned': 1, 'concret': 1, 'lorazapam': 6, 'unablt': 2, 'aloevesta': 5, 'bronchopulmonari': 6, 'flusi': 1, 'aggrev': 1, 'curer': 1, 'movingg': 1, 'outbreak': 1, 'cefitim': 1, 'degress': 3, 'difiiculti': 1, 'difficultyl': 1, 'fiv': 1, 'interspac': 4, 'satrt': 2, 'recoop': 1, 'mot': 1, 'distr': 3, 'diliazem': 1, 'levoquen': 1, 'assiss': 1, 'liqiud': 2, 'oaao': 1, 'toleart': 1, 'quiton': 1, 'mcourtney': 1, 'stuf': 4, 'diarrh': 1, '^tf': 1, 'leisur': 1, 'occassin': 1, 'flowshhet': 1, 'axieti': 3, \"'puff\": 1, 'dialsysi': 1, '^emot': 1, 'mea': 2, 'ovomit': 1, 'hypersomul': 1, 'decidec': 1, 'dimidnsh': 1, 'perinum': 1, 'infusu': 1, 'petamen': 1, 'straightcath': 1, 'tibe': 1, 'perscrib': 2, 'dto': 2, 'ischeam': 1, 'placedin': 2, 'jejunostomi': 7, 'goa': 1, 'steristip': 1, 'sucton': 1, 'nillson': 1, 'sputur': 1, 'trapez': 1, 'guiack': 1, 'dilaudud': 1, 'dialyisi': 1, 'minitor': 2, 'propafenon': 2, 'banaa': 1, 'sudsid': 1, 'ssci': 1, 'extrememli': 3, 'normotherm': 6, 'trrach': 1, \"did'nt\": 1, 'mushi': 1, 'increase': 1, 'subsequnt': 1, 'crrt': 7, 'plac': 3, 'sponatn': 2, 'trsch': 1, 'permacath': 1, 'nea': 1, 'vitla': 1, 'perocoet': 1, 'trxfer': 1, 'inserted': 1, 'haparin': 1, 'decres': 7, 'reassuanc': 1, 'ectpoy': 1, 'edemad': 1, 'spiritu': 3, 'cvvhdf': 4, 'deficiet': 2, 'opium': 1, 'staight': 1, 'fpr': 5, 'bilaterr': 1, 'hospial': 1, 'maintanc': 3, 'tolet': 1, 'toiletri': 1, 'palpibl': 5, 'brachialend': 1, 'mcgkgmin': 1, 'ddto': 1, 'collor': 1, 'aslong': 1, 'plcaement': 1, 'cardiothorac': 6, 'thoraciuc': 1, '^act': 1, 'olanzpin': 1, 'graviiti': 1, 'boast': 1, 'acidiosi': 1, 'bless': 1, 'withtranspar': 1, 'albimin': 1, 'thik': 1, 'aletern': 1, 'acebutolol': 1, 'ammount': 4, 'brea': 1, 'smaill': 1, 'passmuir': 1, 'tononc': 1, 'perfer': 1, 'refrig': 1, 'tinctur': 1, 'ectopii': 1, 'llllung': 1, 'weanec': 1, 'globabl': 1, 'tpt': 1, 'tma': 2, 'pvr': 2, 'femori': 1, 'unheal': 1, 'sgl': 2, 'bk': 3, 'amput': 4, 'nonheal': 2, 'kiebasella': 1, 'ptfe': 1, 'profunda': 1, 'seg': 4, 'au': 3, 'asst': 2, 'ukp': 1, 'awr': 1, 'singlesemi': 1, 'metab': 1, 'morhpin': 3, 'hemodyalysi': 1, 'dge': 1, 'npt': 1, 'thoraci': 2, 'subcutaneu': 1, \"'nd\": 1, 'bolusu': 1, 'hug': 1, 'carevur': 1, 'radiata': 1, 'nucleu': 3, 'corona': 1, 'retrocardiacli': 1, 'interhemispher': 1, 'parafalcin': 1, 'ascrib': 2, 'shine': 1, 'prviou': 1, 'farsi': 3, 'toleratig': 1, 'ea': 6, 'mal': 3, 'respiron': 1, 'fasi': 1, 'tampan': 1, 'restrin': 2, 'road': 2, 'accu': 1, 'cheeck': 1, 'phsical': 1, 'usn': 1, 'shockfev': 1, 'tug': 4, 'vare': 2, 'bloodsugar': 2, 'dieures': 1, 'pmin': 2, 'fer': 2, 'plant': 3, 'progrss': 1, 'alkylosi': 5, 'preseent': 1, 'esophog': 5, 'peristalt': 3, 'tracheoesophag': 2, 'infraobliqu': 1, 'retrostern': 2, 'pnumothorax': 2, 'tachyracdia': 1, 'sqllow': 1, 'prioir': 1, 'frer': 1, 'tremour': 1, 'meropenium': 2, 'jibberish': 2, 'humung': 1, 'yesterda': 2, 'antibioyc': 1, 'ffrequent': 1, 'doea': 1, 'iposit': 1, 'ragtim': 1, 'promptli': 6, 'levc': 1, 'pear': 2, 'esophagoesophag': 1, 'myoton': 1, 'comaprison': 1, 'dyphagia': 1, 'dystrophi': 1, 'antilordot': 1, 'haustral': 1, 'rat': 1, 'breth': 2, 'involuntarili': 1, 'oncal': 2, 'haad': 1, 'inflt': 1, 'shrug': 2, 'copnsolid': 1, 'acha': 1, 'inreliev': 1, 'fexis': 2, 'wosren': 1, 'osteomeat': 1, 'sandpap': 1, 'plegia': 1, 'oxocodon': 1, 'atrv': 1, 'razor': 2, 'halo': 3, 'tirtat': 1, 'samal': 2, 'curlix': 1, 'inprov': 3, 'reation': 1, 'asess': 5, 'possibilti': 3, 'kinaid': 1, 'stooper': 1, 'fenantyl': 2, 'oprogrss': 1, 'phenylenphrin': 1, 'andat': 1, 'bedid': 1, 'bode': 1, 'rescreend': 1, 'rese': 1, 'diconnect': 1, 'mucamyst': 1, 'bronchiol': 14, 'mediastern': 1, 'librium': 1, 'toth': 1, 'soical': 1, 'imrpov': 2, 'orag': 1, 'nonischem': 2, 'tampondad': 1, 'xday': 1, 'braos': 1, 'ib': 6, 'lactualos': 1, 'xfer': 1, 'subsuuent': 1, 'sweet': 2, 'inpout': 1, 'wallsx': 1, 'pneuthorax': 1, 'extremitiy': 2, 'decreasinbg': 1, 'strroid': 1, 'pntx': 2, 'transbronchoscop': 1, 'oth': 2, 'yestareday': 1, 'proven': 4, 'patientno': 13, 'focla': 1, 'polic': 3, 'autodiruesi': 1, 'freew': 1, 'leuckocytosi': 2, 'dta': 1, 'drainagedecreas': 1, 'diaseas': 1, 'sclc': 5, 'sca': 1, 'sclca': 2, 'scotch': 2, 'icnreas': 1, 'hemoptosi': 1, 'intiait': 1, 'ctube': 3, 'spescif': 1, 'hyperacut': 1, 'menig': 1, '^st': 19, 'someh': 1, 'cholic': 1, 'indol': 3, 'conu': 6, 'genotyp': 4, 'tricyc': 2, 'imporv': 5, 'strap': 4, 'visa': 2, 'etcc': 1, 'indinavir': 1, 'psuedoaneurysm': 1, 'polypoid': 2, 'tprot': 3, 'sym': 5, 'assay': 11, 'shouder': 1, 'spondylot': 2, 'discogen': 1, 'saccular': 1, 'mandibular': 2, 'interpolar': 11, 'lifespan': 1, 'dystroph': 4, 'diarrheal': 1, 'replic': 1, 'remaov': 1, 'cahin': 1, 'assymetri': 1, 'hiatel': 2, 'activitu': 1, 'fasciiti': 2, 'intermedi': 12, 'pathog': 1, 'previousnot': 1, 'thermal': 1, 'retropuls': 8, 'preliminarili': 4, 'dbili': 3, 'appaear': 1, 'anmd': 1, 'questionn': 1, 'trigemin': 4, 'heartburn': 6, 'ileocec': 1, 'heroin': 4, 'ling': 1, 'gynecomastia': 4, 'fascit': 1, 'forumulari': 1, 'cubit': 2, 'coagulas': 6, 'weightbear': 1, 'lamivudin': 5, 'suprapatellar': 5, 'stavudin': 2, 'abnl': 8, 'ritonavir': 5, 'diazoxid': 1, 'gif': 7, 'scrrene': 1, 'althou': 1, 'gordona': 1, 'fianc': 6, 'throu': 1, 'willl': 5, 'changesd': 1, 'tricycl': 1, 'compound': 9, 'bleb': 5, 'circumcis': 2, 'mlkb': 9, 'eopgen': 1, 'maroonish': 1, 'hypopigment': 1, 'turbul': 1, 'reconsid': 5, 'entiti': 3, 'undect': 1, 'lipodystrophi': 1, 'retinpathi': 1, 'hb': 10, 'scution': 3, 'adenoviru': 2, 'masl': 1, 'bllede': 1, 'guerney': 1, 'startedc': 2, 'intubaton': 2, 'equilibr': 2, 'vaso': 5, 'expiratoy': 1, 'chafen': 1, 'vulva': 1, 'rb': 2, 'grandgaught': 1, 'ressrp': 1, 'opportun': 2, 'uli': 1, 'tolwel': 1, 'closest': 1, 'sust': 1, 'cariopulmonari': 1, 'tunr': 1, 'ofobvi': 1, 'mount': 3, 'corrol': 1, 'grandgtr': 1, 'goalrateof': 1, 'methi': 1, 'buck': 4, 'hemarroid': 1, 'stg': 6, 'nursung': 1, 'conton': 1, 'acq': 1, 'tracehostomi': 1, 'trachealmalasia': 1, 'eletrolyt': 1, 'recommedn': 2, \"suxn'\": 1, 'mck': 4, 'secrtet': 1, 'eletroly': 1, 'hctand': 1, 'miracl': 1, 'alkolot': 2, 'telephonn': 1, 'aplast': 1, 'pplacement': 1, \"movm't\": 1, 'profofol': 2, 'desitin': 2, 'tolerar': 1, 'granddtr': 1, 'rdw': 6, 'fluctat': 1, 'biplan': 1, 'qmowefr': 1, 'nutmeg': 1, 'epoetin': 3, 'interdepend': 2, 'caridogen': 1, 'myositi': 2, 'cateth': 1, 'hepatopathi': 3, 'clx': 9, 'retic': 12, 'sirolum': 1, 'nonishcem': 1, 'groln': 1, 'sirolimu': 1, 'lassix': 1, 'hazard': 2, 'admissionon': 1, 'succin': 3, 'silhouette': 1, 'nupren': 2, 'zozyn': 6, 'pmb': 3, 'nidu': 4, 'fibromat': 1, 'bidirect': 1, 'daugher': 3, 'archiv': 2, 'csv': 2, 'fav': 1, 'moraxella': 3, 'auotdiures': 1, 'zemplar': 1, 'gttt': 1, 'immunocomprimis': 1, 'vitasl': 1, 'nifedipem': 1, 'alfa': 3, 'insuffil': 1, 'solidli': 1, 'antib': 3, 'passeymu': 1, 'syndom': 2, \"ok'\": 1, 'obt': 3, 'insipid': 1, 'popcycl': 1, 'suffil': 1, 'gii': 1, '^ed': 1, 'vale': 1, 'ambung': 1, 'axia': 1, 'stron': 1, 'guven': 1, '^e': 1, 'autodiuresis': 1, 'tacki': 2, 'abotu': 1, 'freqenc': 1, 'popsicl': 2, 'spaud': 1, 'eleva': 3, 'recievieng': 1, 'american': 2, 'neget': 1, 'reload': 2, 'giav': 1, 'somtim': 1, 'desmopresson': 1, 'tracheostoni': 2, 'mg^ed': 1, 'sphere': 1, 'aspiratoin': 1, 'coctail': 1, 'aerosl': 1, 'paln': 2, 'puv': 1, 'wofran': 1, 'burp': 3, 'ecotopi': 1, 'wasplac': 1, 'drawback': 2, 'pot': 3, 'extremetiew': 1, 'ddvap': 1, 'insuffal': 1, 'stepfath': 1, 'exsuffol': 1, 'inspect': 8, 'diabeti': 2, 'fater': 1, 'secretiosn': 2, 'pane': 3, 'fluccuat': 1, 'rehydr': 6, 'sadden': 1, 'destatur': 1, 'venapunctur': 1, 'asl': 2, 'cefedipin': 1, 'lunchtim': 4, 'mouthdisplay': 1, 'suffic': 1, 'diuresisng': 3, 'exsuffal': 1, 'cricopharyngeu': 1, 'dismiss': 1, 'inexsuffl': 5, 'apli': 2, 'titratd': 1, 'inex': 1, 'protest': 1, 'smart': 1, 'smll': 1, 'ensuffolat': 1, 'suffol': 1, 'detach': 4, 'disappoint': 1, 'upddat': 1, 'whezz': 2, 'multinodular': 2, 'impr': 1, 'extem': 5, 'rc': 3, 'tkvo': 1, 'albeterol': 1, 'glugocaon': 1, 'percussor': 1, 'cathetr': 2, 'insul': 3, 'antibio': 2, 'passmuy': 1, 'genral': 1, 'pseudoseizur': 2, 'calmli': 2, 'incred': 1, 'thrghoutht': 1, 'dilant': 1, 'tfor': 2, 'pvl': 2, 'stime': 1, 'ivpush': 1, 'acc': 3, 'conuslt': 1, 'varianc': 2, 'dangers': 1, 'incas': 2, 'rpotocol': 1, 'lnl': 1, 'olh': 1, 'pancreasruq': 1, 'healh': 1, 'omlet': 1, 'sensic': 1, 'soda': 2, 'everyon': 5, 'requier': 4, 'hotel': 3, 'anwer': 1, 'clap': 3, 'lliquid': 2, 'conglomer': 5, 'imagin': 4, 'nonengorg': 1, 'methicillin': 2, 'adequitli': 1, 'parahilar': 2, 'sensor': 1, 'encoourag': 1, 'proplem': 1, 'flov': 1, 'ethanol': 5, 'drane': 1, 'steoroid': 2, 'ducclox': 1, 'casu': 2, 'aspiratioin': 1, 'glargen': 2, 'swithch': 1, 'spech': 1, 'yankhaur': 1, 'increament': 1, 'surgey': 1, 'eefect': 1, 'upperback': 1, 'newer': 4, 'toknow': 1, 'oxazepam': 1, 'phenasept': 1, 'earach': 2, 'admissison': 1, 'enew': 1, 'placeon': 1, 'otoscop': 1, 'lontgstand': 1, 'smudg': 3, 'previoui': 1, 'mechanci': 1, 'cess': 1, 'ptcont': 1, 'asist': 1, 'secreaton': 1, 'bronchiectat': 1, 'prurit': 3, 'tital': 3, 'sucstion': 1, 'foward': 1, 'excersis': 2, 'outdat': 4, 'creatinint': 1, 'hemidiaphram': 2, 'lenghthi': 1, 'ambival': 1, 'intermitta': 1, 'ltye': 2, 'market': 1, 'seation': 3, 'polymyx': 2, 'angap': 1, 'anguin': 1, 'insertedl': 1, 'albuteroliprtropium': 1, 'patientciprofloxacin': 1, \"'lhbi\": 1, 'intuba': 1, 'urean': 1, \"'expand\": 1, 'aado': 1, \"'lcba\": 1, 'menthol': 1, 'baso': 1, 'xs': 4, 'cephalexin': 9, \"'lgbc\": 1, 'neomi': 2, 'caltco': 1, 'monteleukast': 2, 'monohydr': 6, 'myelo': 4, 'romi': 18, 'allergist': 2, 'mchc': 1, 'pullmomnari': 1, \"'lhbc\": 1, 'sting': 3, 'camphor': 1, 'noninvasii': 1, 'rvsp': 2, 'cortisporin': 2, 'falur': 1, 'amberin': 1, 'bilbasilar': 1, 'aptt': 1, 'occasin': 1, 'plcment': 1, 'nasopharyg': 1, 'regurgi': 2, 'irradi': 2, 'mibi': 2, 'legionnella': 1, 'elucid': 1, 'entertain': 1, 'defienc': 1, 'prophi': 6, 'dysphag': 2, 'barrel': 1, 'tiotropim': 1, 'hepatosplenomegali': 3, 'consiult': 1, 'alsogoign': 1, 'haa': 2, 'scleral': 31, 'axithro': 1, 'fluctuanc': 4, 'tetanu': 5, 'vasospasm': 2, 'cptq': 1, 'cefepimin': 1, 'incenet': 1, 'potato': 4, 'dependend': 1, 'interc': 1, 'gravi': 2, 'brochomalacia': 1, 'inappropiatli': 1, 'lathrgic': 1, 'seret': 3, 'bno': 3, 'entrain': 2, 'pancak': 2, 'compromsi': 1, 'willcont': 1, 'hemodiaysi': 1, 'unwrap': 1, 'shoe': 2, 'demin': 1, 'pleasnt': 1, 'cvvhd': 8, 'hypercoagul': 2, 'withn': 1, 'nebulizor': 1, 'malignan': 1, 'colonographi': 1, 'expcept': 1, 'dialter': 1, 'hearp': 1, 'reader': 1, 'fludrocort': 1, 'marigin': 1, 'forgett': 1, 'glucophag': 1, 'faciltiy': 2, 'glugophag': 1, 'oxymetri': 1, 'homicid': 1, 'crytogen': 1, 'menstrual': 3, 'menstral': 1, 'oop': 3, 'fbg': 1, 'goodpastur': 2, 'ivt': 5, 'aep': 2, 'percocett': 2, 'azetronam': 2, 'aip': 3, 'spurriou': 1, 'proteas': 2, 'tochair': 1, 'rheum': 8, 'firsttwo': 1, 'amilodipin': 1, 'nsip': 8, 'chlamydia': 3, 'pancreas': 1, 'antihypertensiveslisinopril': 1, 'streptococcu': 5, 'weeenkd': 1, 'hall': 2, 'contam': 2, 'dlpicc': 2, 'wkd': 1, 'unwean': 1, 'asympt': 1, 'meatu': 3, 'resuslt': 1, 'odrer': 1, 'reepitheal': 1, 'rtn': 1, 'game': 2, 'drssg': 2, 'rect': 1, 'growin': 2, 'coucgh': 1, 'hypoxiaun': 1, 'cathert': 2, 'rith': 2, 'thouroughli': 1, 'resend': 15, 'ist': 2, 'davb': 1, 'allcyn': 1, 'usal': 1, 'gester': 2, 'opiod': 3, 'zaroxylyn': 1, 'mint': 1, 'recollect': 3, 'remaim': 1, 'resparol': 1, 'wll': 3, 'merpenum': 1, 'meripeneum': 1, 'respik': 7, 'hemoptasi': 2, 'captorpril': 1, 'coarsw': 1, 'caraf': 7, 'survelli': 2, 'secrition': 1, 'fluconozol': 2, 'feisti': 1, 'respelor': 1, 'suctioni': 1, 'pnuemo': 2, 'blkt': 1, \"stool'\": 1, 'duahgter': 1, 'headphon': 1, 'tremend': 2, 'ttube': 1, 'regur': 1, 'walkman': 1, 'mortal': 5, 'hypxic': 1, 'propens': 3, 'ifo': 1, 'hematurea': 1, 'ta': 2, 'extremley': 1, 'kphosphat': 1, 'pointintg': 1, 'maxiaml': 1, 'knowm': 2, 'reccurr': 1, 'blledi': 1, 'carafatefoley': 1, 'surgergi': 1, 'suxtion': 1, 'antienxitey': 1, 'draninag': 1, 'perenium': 1, '^^secret': 1, 'ecter': 1, 'perviou': 1, 'hemorrag': 3, 'gather': 2, 'vgb': 1, 'stomachach': 1, 'fole': 2, 'ponder': 1, 'laxi': 1, 'bbr': 5, \"'avb\": 1, 'availibilti': 1, 'resplar': 1, 'meripenum': 1, 'antivert': 1, 'sevral': 1, 'chenyn': 1, 'morepenum': 1, 'potect': 1, 'frequant': 1, 'prostesi': 1, 'addhes': 1, 'pleueral': 1, 'sucess': 5, '^level': 1, 'nostool': 2, 'oon': 2, 'ditropan': 4, 'bigem': 1, 'distendedw': 1, 'pwdr': 2, 'uncap': 1, 'benefici': 9, 'uvolem': 2, 'intract': 2, 'dogoxin': 1, 'goosebump': 1, 'chr': 3, 'restlessn': 2, 'dopral': 1, 'tring': 1, 'ocntinu': 1, 'dressin': 2, 'narc': 4, 'rink': 1, \"dc'ing\": 2, 'approri': 1, 'alklos': 1, 'famuli': 2, 'deconditon': 1, 'diursi': 3, 'compla': 1, 'inadvertant': 1, 'drawer': 1, 'tz': 3, 'heve': 2, 'halidol': 1, 'infom': 1, 'nightcloth': 1, 'lookig': 1, 'natrocor': 1, 'subcl': 2, 'rsing': 1, 'nitrostat': 1, 'chift': 1, 'mrsp': 1, 'ovb': 1, 'miripenim': 1, 'hemehct': 1, 'lisonopril': 1, 'appripri': 1, 'dlc': 1, 'meclizin': 2, 'weanin': 2, 'suport': 2, 'pseodomona': 1, 'untifung': 1, 'meclazin': 1, 'ultrfiltr': 1, 'freg': 2, 'tot': 4, 'requird': 1, 'encephalomalat': 1, 'bcsn': 1, 'afm': 2, 'oneumo': 1, 'explanant': 1, 'leas': 1, 'vivid': 1, 'cxarevu': 1, 'cellular': 10, 'erffect': 1, 'statr': 1, 'serousang': 1, 'unsettl': 2, 'peridcardi': 1, 'llopressor': 1, 'mmdri': 1, 'sss': 2, 'purpur': 1, 'cholan': 1, 'aocd': 1, 'echymosi': 1, 'cellulit': 1, 'unifi': 2, 'terazosin': 3, 'mismatch': 5, 'mlhh': 4, 'fibe': 1, 'accd': 1, 'trp': 1, 'ppain': 1, 'hemptysi': 1, 'proccedur': 1, 'disrepair': 1, 'clumsi': 2, 'countri': 2, 'cost': 1, 'agitaiton': 1, 'atternoy': 1, 'dlrc': 10, 'cylindr': 2, 'bronchogen': 1, 'statist': 2, \"examination'\": 1, 'pseudolymphoma': 1, 'beginng': 1, 'fidgit': 1, 'signfic': 8, 'aaax': 1, 'thoractomi': 3, 'fool': 1, 'throacotomi': 2, 'uncertainti': 1, 'cinch': 1, 'childhood': 6, 'muscou': 1, 'mjmgb': 4, 'applu': 1, 'buspar': 1, 'hyperlipedemia': 1, 'constel': 6, 'isosorbitr': 1, 'oupt': 3, 'ppv': 5, 'sned': 1, 'eunatrem': 1, 'thoracenteisi': 1, 'curtain': 1, 'continueto': 2, 'hgh': 1, 'inbetween': 4, 'bread': 1, 'lipoma': 3, 'raaya': 1, 'wirst': 1, 'mh': 4, 'unplan': 1, 'candidt': 1, 'contributor': 9, 'hypernatreamia': 1, 'atelectesi': 3, 'pitcher': 1, 'risperidol': 2, 'paraoxysm': 2, 'converas': 1, 'necessar': 1, 'lbka': 1, 'interlobar': 3, 'bka': 2, 'iiia': 1, 'opioid': 5, 'avitan': 1, 'managemnt': 1, 'discoveri': 9, 'eighth': 3, 'replat': 2, 'epigatrium': 1, 'hepatolog': 10, 'brcm': 1, 'hypona': 2, 'jkang': 2, 'lactolos': 3, 'unresect': 2, 'rifaximin': 6, 'msiv': 1, 'esld': 6, 'hepatocellular': 2, 'angioma': 1, 'ingrowth': 2, 'eoimi': 1, 'spider': 1, 'fulmin': 1, 'paraumbil': 2, 'factori': 3, 'lusb': 5, 'perpendicular': 1, 'boluss': 2, 'actor': 1, 'improvemet': 2, 'viscos': 1, 'myeloprolif': 1, 'enal': 1, 'fracutur': 1, 'pylonephr': 2, 'crystaluria': 1, 'duplic': 6, 'hyperviscous': 1, 'sown': 2, 'ibratroprium': 1, 'forcibl': 1, \"abx'\": 2, 'forthi': 1, 'neh': 1, 'throughoutshift': 1, 'aidc': 1, 'endarterectomi': 2, 'sedment': 1, 'punct': 1, 'icecream': 5, 'rh': 7, 'chondroid': 1, 'proectiv': 1, 'craiotomi': 1, 'sxth': 1, 'ressist': 1, 'givensec': 1, 'sf': 4, 'pinch': 2, 'ecreas': 1, 'caors': 1, 'hydralasin': 1, 'gliburid': 1, 'vascil': 1, 'pivsx': 1, 'plced': 1, 'secretioin': 3, 'swear': 3, 'epoc': 1, 'nivv': 1, 'badli': 1, 'gor': 1, 'rightarm': 1, 'enchondroma': 3, 'hypercabnia': 1, 'purrul': 1, 'cranio': 1, 'nipb': 1, 'recordrd': 1, 'ipmt': 1, 'born': 2, 'supraren': 1, 'decdreas': 1, 'blackhead': 1, 'noncalcifi': 2, 'duodenojejun': 1, 'diffusley': 1, 'peform': 2, 'yeloow': 1, 'intussuscept': 3, 'multisequ': 8, 'airbourn': 1, 'interrog': 7, 'dest': 1, 'phenergan': 3, 'rage': 9, 'doxcyclin': 1, 'heavier': 1, 'liqid': 1, 'negativev': 1, 'restles': 1, 'follwo': 2, 'drainiag': 1, 'crepet': 1, 'signifig': 1, 'ceffus': 1, 'overnth': 1, 'indwell': 1, 'micanazol': 1, 'rctest': 1, 'peripneumon': 1, 'trash': 1, 'slojw': 1, 'earlli': 1, 'continy': 1, 'properlli': 1, 'racem': 4, 'ivcd': 2, 'cocktail': 1, 'dysnpea': 2, 'rescusit': 3, 'colchicin': 3, 'cardiovascularno': 1, 'nondisplac': 6, 'creol': 2, 'hypointes': 1, 'diaphysi': 1, 'globular': 2, 'dti': 1, 'avuls': 4, 'ganglion': 1, 'quadricep': 1, 'hemmorahg': 1, 'tricompart': 1, 'enthesophyt': 1, 'patella': 4, 'fave': 1, 'sleepfor': 1, 'zithromycin': 1, 'guaifenesen': 1, 'calyc': 1, 'peridiaphragmat': 1, 'vasogen': 2, 'infiltra': 2, 'extrapleur': 2, 'calvarium': 4, 'postobstruct': 10, 'insuf': 1, 'assessmend': 1, 'sequal': 2, 'hse': 3, 'ordeal': 1, 'grandual': 1, 'opthamolog': 1, 'pantaprazol': 1, 'delic': 1, 'pma': 2, 'bidmcon': 1, 'carinii': 7, 'lact': 4, 'hypoalbumenia': 1, 'decread': 1, \"mae'\": 1, 'ptesent': 1, 'thinnest': 1, 'ganciclovir': 3, 'aroiund': 1, 'hypoxiaclin': 1, 'watermelon': 1, 'swellin': 1, 'almond': 1, 'rhv': 1, 'precardiovers': 2, 'mpv': 1, 'rpv': 1, 'denot': 1, 'hepatofug': 2, 'lpv': 1, 'mhv': 1, 'streptokinas': 1, 'tonsil': 2, 'ampulla': 2, 'notepad': 1, 'sulph': 1, 'sultat': 1, 'dropplet': 1, 'antireject': 2, 'curc': 1, 'contor': 1, 'valganciclovir': 3, 'k^': 1, 'carvadlol': 1, 'tigh': 1, 'posaconazol': 2, 'nassal': 1, 'irriat': 1, 'previu': 1, 'proconazol': 1, 'pocasonazol': 1, 'lrrt': 1, 'extert': 1, 'rfoley': 1, 'mucor': 1, 'dmii': 10, 'accordac': 1, 'atg': 1, 'inseretd': 1, 'dminish': 1, 'aspitar': 1, 'replinish': 1, 'dn': 1, 'possbili': 1, 'triadym': 1, \"cx'd\": 2, 'ofth': 1, 'volatg': 1, 'threadi': 1, 'tbc': 1, 'cahtet': 1, 'tacypnea': 4, 'eso': 3, 'disign': 1, 'tricki': 2, 'recriut': 1, 'placec': 1, 'rif': 1, 'subclavien': 2, 'realtim': 2, 'rifazimin': 1, 'triodyn': 1, 'hemocult': 1, 'glide': 1, 'quardant': 1, 'brop': 1, 'htnsive': 2, 'survil': 1, 'loke': 1, 'fantanyl': 1, 'aggiat': 2, 'afor': 1, 'phianc': 1, 'cehal': 1, 'tback': 1, 'tonu': 1, 'vassopressin': 3, 'culur': 1, 'leumen': 1, 'auxilliari': 1, 'discus': 1, 'osteochondr': 1, 'umbilicu': 3, 'oxygentaion': 1, 'incompat': 3, 'aft': 2, 'qolden': 1, 'contrinu': 1, 'neomycin': 1, 'dessican': 1, 'mucousa': 1, 'doubbl': 1, 'absprption': 1, 'fryiabl': 1, 'thime': 1, 'hydrothorax': 3, 'incontact': 1, '^resiudu': 1, 'sytol': 1, 'wart': 1, 'overdistens': 1, 'heparina': 1, 'cherri': 1, 'rhoncii': 1, 'skikn': 1, 'retart': 2, 'aldoacton': 1, 'isthmu': 1, 'pencil': 2, 'sxi': 1, 'diaphram': 2, 'necc': 1, 'formul': 4, 'esopag': 1, 'manouev': 1, 'macro': 5, 'exterm': 2, 'cytarabin': 1, 'crypto': 5, 'gp': 5, 'toxo': 5, 'cardiomypathi': 1, 'nro': 1, 'idarubicin': 1, 'jail': 2, 'adrenerg': 3, 'indipendantli': 1, 'broncheictasi': 2, 'coranari': 1, 'antiphospolipid': 1, 'metnal': 2, 'aspergilli': 2, 'symm': 1, 'diarreha': 1, 'biapsi': 1, 'shoiwng': 1, 'heterosexu': 1, 'bronchietesi': 1, 'suppliment': 7, 'interuppt': 1, 'admisison': 3, 'zidovudin': 1, 'atleast': 3, 'oi': 1, 'ks': 9, 'devleop': 1, 'rhonchronu': 1, 'tmof': 1, 'phospholipid': 2, 'preacaut': 1, 'yankeaur': 1, 'intercours': 1, 'synd': 1, 'sensorium': 2, 'hypervolemia': 5, 'antiphsopholid': 1, 'atovaquon': 2, 'gastropathi': 1, 'shld': 2, 'withheld': 4, 'edu': 4, 'equabr': 1, 'respositiong': 1, 'toxicit': 1, 'hematura': 2, 'breathi': 3, 'attdg': 1, 'meastu': 1, 'regualt': 1, 'pleasur': 3, 'amikcain': 1, 'fungitel': 1, 'ardsnet': 12, 'aztrenonam': 1, 'shldr': 3, 'predominantley': 1, 'celaxa': 1, 'lactulso': 1, 'sightli': 1, 'blasto': 1, 'setttl': 1, 'gentamycin': 6, 'cand': 1, 'rhonic': 1, 'cytopenia': 3, 'proxial': 1, 'azostrenam': 1, 'coccido': 1, 'atid': 1, 'leukopenia': 11, 'interestingli': 4, 'laisix': 2, 'tsay': 1, 'azathioprin': 4, 'elyt': 2, 'hyperna': 3, 'botharm': 1, 'bromnchscopsi': 1, 'aztreo': 1, 'susc': 1, 'secreiotn': 1, 'fw': 6, 'lumbosacr': 4, 'thash': 2, 'acetazolamid': 14, 'spp': 4, 'urethr': 5, 'diiuresi': 1, 'repat': 1, 'doxyclin': 1, 'additiion': 1, 'areteri': 1, 'signficantli': 3, 'subset': 2, 'antibid': 3, 'gcsf': 3, 'bunni': 1, 'bitten': 2, 'essentiali': 1, 'coccidio': 1, 'thickenen': 1, 'ig': 6, 'blastomycosi': 1, 'parvo': 1, 'histo': 4, 'erythemia': 1, 'doss': 9, 'lenal': 1, 'haldo': 3, 'primaquin': 6, 'rectovesicular': 1, 'volit': 5, 'diuures': 1, 'paresthesia': 2, 'hematur': 1, 'bia': 6, 'obrain': 1, 'extremeluy': 1, 'neupogen': 5, 'follolw': 1, 'rifaxamin': 2, 'tularemia': 1, 'episiod': 1, 'vando': 1, 'biba': 3, 'lamintectomi': 1, 'xblood': 1, 'nil': 4, 'reced': 2, 'suger': 2, 'atavan': 1, 'ebl': 1, 'mevacor': 1, 'lovastatin': 2, 'pilmonari': 2, 'orthoped': 2, 'proceduro': 1, 'duir': 2, 'nonetheless': 2, 'challang': 1, 'onn': 1, 'ckr': 1, 'tpiec': 1, 'backpain': 3, 'negati': 1, 'ceart': 1, 'costochodr': 1, 'tmep': 1, 'levoflaxin': 1, 'yesterdat': 1, 'obv': 4, 'atibiot': 2, 'appendectomi': 6, 'reacat': 1, 'cear': 1, 'surther': 1, 'suppost': 3, 'withwbc': 1, 'bacterimia': 2, 'swelll': 1, 'cefopim': 5, 'anxiuo': 3, 'reenter': 2, 'approprit': 1, 'tcl': 2, 'wtd': 1, 'intergr': 2, 'intracrania': 2, 'pharang': 1, 'vigour': 3, 'gelaten': 1, 'tibiali': 3, 'quadroplegia': 1, 'reportsd': 1, 'expectoart': 1, 'ntsx': 2, 'foey': 1, 'decubit': 3, 'gdi': 1, 'oxcycodn': 1, 'gluet': 1, 'season': 5, 'endrocrin': 1, 'occupi': 6, 'transitori': 1, 'atrovnet': 2, 'sale': 1, 'paracardium': 1, 'resultsar': 1, 'rej': 2, 'rin': 1, 'gatorad': 1, 'dad': 5, \"mie'\": 1, 'seatbelt': 1, 'qustion': 1, 'desatsur': 1, 'aelrt': 1, 'brochoscopi': 1, 'moth': 2, 'claustraphobia': 1, 'uncahang': 1, 'eom': 8, 'scvo': 3, 'genuin': 1, 'sbd': 1, 'itnub': 1, 'dimiinsh': 1, 'hyoid': 1, 'sling': 6, 'comiv': 2, 'aerstion': 1, 'altough': 1, 'deserv': 1, 'positiv': 1, 'mf': 3, 'rhythym': 3, 'liquig': 1, 'tortur': 1, 'cdv': 1, 'chemic': 7, 'lousi': 2, 'crampi': 4, 'reslult': 1, 'stokea': 1, 'zpt': 1, 'granchildren': 1, 'colligenas': 1, \"'cheyn\": 1, 'relfex': 1, 'subtherapeurt': 1, 'egophani': 4, 'extubatiuon': 1, 'copuld': 1, 'abtibiot': 1, 'stringlik': 1, 'dsrg': 1, 'laft': 1, 'tropl': 1, 'frquent': 1, 'opein': 1, 'damper': 1, 'threshhold': 2, 'tropic': 1, 'intubatioin': 1, 'perhilar': 1, 'concolid': 1, 'spect': 3, 'grandfath': 2, 'physcian': 1, 'cevic': 1, 'hydrazlin': 1, 'fridg': 2, 'pneumothorx': 1, 'lag': 3, 'niphedipin': 2, 'schiziod': 1, 'ginen': 1, 'nitika': 1, 'qestion': 1, 'phrenic': 3, 'bathtub': 1, 'director': 3, 'ispok': 1, 'forlab': 1, 'nipedipin': 1, 'warter': 1, 'rnging': 1, 'overflow': 3, 'intqact': 1, 'vido': 1, 'particl': 3, 'imipenim': 1, 'psorasi': 1, 'admitt': 3, 'listhesi': 2, 'perifissur': 2, 'grate': 1, 'divertucul': 1, 'sveral': 1, 'isminim': 1, 'administrationg': 1, 'removen': 1, 'slx': 1, 'acord': 1, 'encapsul': 1, 'evaluat': 2, 'yea': 2, 'broccoli': 1, 'ridig': 1, 'presenti': 1, 'nasoenter': 5, 'anterolithesi': 1, 'ectoppi': 1, 'cxt': 1, 'dope': 1, 'efffus': 2, 'placer': 1, 'impinenum': 1, 'imipenemen': 1, 'retrolisthesi': 3, 'xiphoid': 1, 'obstracion': 1, 'invol': 1, 'desato': 1, 'serquoel': 1, 'albutrol': 1, 'echymot': 2, 'flatulos': 1, 'ecymot': 1, 'ddsg': 1, 'tharapi': 1, 'verapmil': 1, 'exers': 1, 'prelet': 1, 'osteoblast': 3, 'klc': 1, 'lactuloc': 1, 'lee': 1, 'surig': 1, 'plebotomi': 1, 'atria': 5, 'empiriacl': 1, 'menier': 1, 'patientgentamicin': 1, 'sought': 3, 'breaht': 1, 'usoh': 7, 'ditazem': 1, 'dabx': 1, 'ramya': 2, 'attest': 1, 'gfr': 7, 'ronchuru': 1, 'hyrdrat': 1, 'haze': 8, 'hemipelvi': 4, 'perilumbar': 1, 'lupu': 6, 'lupsu': 1, 'sle': 5, 'aglc': 5, 'pf': 6, 'wherea': 4, 'chornic': 2, 'markinga': 1, 'dli': 1, 'obliteran': 3, 'nonvascular': 4, 'ectoyp': 1, 'reiorient': 1, 'inci': 1, 'elastiplast': 1, 'anasarci': 1, 'inub': 1, 'thobe': 1, 'reapli': 1, 'ventiat': 2, 'othewis': 1, 'thoracotmi': 1, 'caglu': 1, 'sgot': 1, 'serrosanguin': 1, 'antigrav': 1, 'extubatuon': 1, 'bialt': 1, 'respilor': 2, 'drnge': 1, 'entireti': 3, 'eng': 1, 'asjac': 1, 'ichem': 1, 'meso': 2, 'neng': 1, 'vancoymcin': 2, 'trilept': 3, 'dcm': 3, 'oxcarbazepin': 2, 'similari': 1, 'syn': 2, 'stanbi': 1, 'airbolu': 1, 'autolog': 2, 'defec': 1, 'huband': 1, 'awkward': 1, 'geiven': 1, 'bronchospas': 1, 'tbf': 1, 'satg': 2, 'passezmuir': 1, 'diuresesd': 1, 'passeymiur': 1, 'dposit': 1, 'trasfer': 4, 'bilaterl': 1, 'indium': 1, 'methelen': 1, 'trila': 1, 'preoxygen': 3, 'acalculu': 2, 'cstm': 2, 'postprocedur': 1, 'ave': 1, 'hith': 1, 'ticken': 2, 'perpheri': 2, 'appeaer': 1, 'oobtc': 3, 'ventac': 1, 'anasacar': 1, 'desatt': 2, 'tilll': 1, 'catapril': 1, 'hdp': 2, 'desesitizaion': 1, 'pmeumococc': 1, 'respilar': 1, 'perifer': 2, 'dissappear': 1, 'initailli': 4, 'nonopacifi': 1, 'polysinu': 1, 'passeymuir': 1, 'solwli': 1, 'maxliofaci': 1, 'ovenight': 2, 'asymptompat': 1, 'jean': 1, 'technician': 2, 'hardli': 1, 'sectet': 1, 'nag': 2, 'changemad': 1, 'pddp': 1, 'malrot': 1, 'quentin': 1, 'dropp': 3, 'sewn': 2, \"fxn'ing\": 1, 'recquir': 1, 'genear': 1, 'swna': 1, 'juncki': 1, 'galium': 1, 'surveli': 1, 'will^': 1, 'hydracholathiazid': 1, 'gallium': 1, 'extrememti': 1, 'furnish': 1, 'azthromycin': 1, 'mml': 1, 'rxed': 2, 'sicial': 1, 'bovina': 1, \"'sr\": 1, 'ddrop': 1, 'infusint': 1, 'bivonna': 1, 'leakso': 1, '^sob': 1, 'diostress': 1, 'danglk': 1, 'intermittentlki': 1, 'ndka': 1, 'subequ': 1, 'mylasia': 1, 'arraang': 1, 'trachial': 2, 'arrial': 1, 'extrathorac': 1, 'reorinet': 1, 'rnow': 1, 'scm': 2, 'enteroflex': 1, 'interacted': 1, 'adjacet': 1, 'wirh': 1, 'piecem': 6, 'cranki': 1, 'millisecond': 7, 'evidnec': 1, 'vanoc': 1, 'siphon': 1, 'yearli': 1, 'phlebolith': 2, 'ressussit': 1, 'bullosa': 2, 'arousalb': 1, 'dchart': 1, 'dlaryng': 1, 'abuss': 1, 'cartilag': 3, 'prolif': 1, 'subscapular': 2, 'osteoarthrit': 1, 'pericathet': 1, 'hypervascular': 1, 'giant': 2, 'blcx': 1, 'freqent': 1, 'tendinopathi': 1, 'synovi': 4, 'helthcar': 1, 'presist': 2, 'decedron': 1, 'communuc': 1, 'imrov': 3, 'dnystatin': 1, 'onoc': 1, 'vti': 1, \"sx'nd\": 1, 'boug': 1, 'venbtil': 1, 'eit': 1, 'ffinard': 1, 'plade': 1, 'hungeri': 1, 'enlg': 1, 'atelect': 2, 'subtend': 1, 'fico': 1, 'bucal': 1, 'aread': 1, 'appropir': 1, 'knod': 1, 'secretionsin': 1, 'metorpolol': 1, 'nskin': 1, 'areound': 1, 'evev': 2, 'imnprov': 1, 'boulus': 1, 'dsng': 1, 'atttempt': 1, 'arrhytmia': 1, 'weanm': 1, 'fenatanyl': 2, 'muchroom': 1, 'dimisah': 1, 'excacerb': 2, 'calear': 1, 'breakdowon': 1, 'vestra': 1, 'minu': 5, 'hrwith': 1, 'visitir': 1, 'agtiat': 1, 'functon': 1, 'motuh': 1, 'oldest': 4, 'arn': 1, 'fentnayl': 1, 'slightl': 1, 'rewuir': 1, 'cointrol': 1, 'occasionl': 1, 'rft': 1, 'tubeeffect': 1, 'tthick': 1, 'urinein': 1, 'lightind': 1, 'barimaxx': 2, 'throght': 1, 'novosourc': 2, 'waithout': 1, 'carevi': 1, 'enocurag': 1, 'chunki': 1, 'stamina': 1, 'sweatinbg': 1, 'dirues': 4, 'sheed': 1, 'diagnosit': 2, 'surigfoam': 1, 'regualr': 1, 'naesthesia': 1, 'tappabl': 2, 'quench': 1, 'falsli': 1, 'percus': 1, 'polychamb': 1, 'indigest': 2, 'guidwir': 3, 'lidocan': 1, 'metropol': 1, 'lenghth': 1, 'echymott': 1, 'tympani': 1, 'bibasliar': 1, 'amioderom': 1, 'hbv': 7, 'hbc': 1, 'testa': 1, 'tuberculin': 1, 'atim': 1, 'pneumonthorax': 2, 'cnt': 3, 'elctrolyt': 1, 'methodon': 3, 'toxoplasmosi': 3, 'phyusic': 1, 'pitfal': 1, 'notch': 4, 'giveng': 1, 'bsck': 1, 'beef': 1, 'dia': 1, 'disciplanari': 1, 'antituss': 2, 'fct': 1, 'hmd': 1, 'somethim': 1, 'unlobor': 1, 'vedio': 1, 'smaal': 1, 'precat': 1, 'multpil': 1, 'atraumat': 19, 'sensi': 8, 'gurd': 1, 'strangul': 2, 'pediscop': 1, 'difficuli': 1, \"dp'\": 1, 'miuc': 2, 'partn': 1, 'ulc': 1, 'plavi': 1, 'uncuf': 5, 'recordsvancomycin': 1, 'guiafenisen': 2, 'patientvancomycin': 1, 'ileum': 6, 'incarcer': 3, 'vomt': 3, 'obstuct': 3, 'possiblil': 1, 'atelctasi': 2, 'mcu': 2, 'omelett': 1, 'clonipan': 1, 'neutr': 1, 'brochial': 3, 'stolen': 1, 'furth': 1, 'rape': 1, 'isnt': 1, 'ivrn': 2, 'revel': 2, 'sudaf': 1, 'intramur': 6, 'creep': 1, 'aliv': 7, 'prepart': 2, 'scabe': 1, 'ascist': 1, 'nonvisu': 2, 'considerabley': 1, 'basebal': 1, 'hydro': 8, 'supportof': 1, 'alternatey': 1, 'dimininish': 1, 'sllevyn': 1, 'emphesema': 1, 'emtot': 1, 'labetelol': 1, 'trick': 1, 'itnerv': 1, 'eras': 2, 'dvd': 3, 'tachypenea': 2, 'pittind': 1, 'prefor': 1, 'afebrl': 1, 'inapprori': 1, 'arrestn': 1, 'kidni': 1, 'snxing': 1, 'burger': 1, 'irregur': 1, 'hinder': 1, 'suppor': 2, 'receheck': 1, 'papular': 4, 'effusionsm': 1, 'witih': 1, 'bronchspast': 1, 'ltitrat': 1, 'eposod': 1, 'promd': 1, 'brachiocepal': 1, 'todya': 1, 'outweigh': 6, 'recussit': 1, 'eitolog': 1, 'probabilti': 1, 'fmaili': 1, 'suppitori': 1, 'menstruat': 1, 'reasur': 1, 'troph': 2, 'mechnic': 1, 'pattent': 1, 'vedrs': 1, 'inu': 2, 'ovcer': 1, 'signifiacnt': 1, 'comfor': 1, 'coherr': 1, 'orrali': 1, 'psch': 1, 'mucosa': 16, 'pneumoccoc': 1, 'mar': 2, 'ceftr': 1, 'fidgiti': 1, 'trnbasfer': 1, 'wouldnt': 1, 'inapropri': 1, 'ood': 1, 'bben': 1, 'klonidin': 1, 'parnoid': 1, 'appetiti': 2, 'microneb': 2, 'willfollow': 1, 'moprn': 1, 'strepto': 1, 'figeti': 1, 'astatu': 1, 'lisinopri': 1, 'releif': 2, 'wheezs': 1, 'clonepin': 1, 'soungd': 1, 'bacaus': 1, 'bilatearlli': 1, 'anisocoria': 1, 'emolli': 2, 'witgh': 1, 'drnr': 1, 'tpo': 1, 'seur': 1, 'fereq': 1, 'informaion': 1, 'coorper': 1, 'opo': 1, 'desper': 1, 'icm': 1, 'intersitit': 1, 'fulid': 2, 'resovl': 1, 'inferolat': 1, 'possibly': 1, 'eosinophila': 3, 'balc': 1, 'uriun': 2, 'hcf': 1, 'postinfecti': 2, 'curbsid': 4, 'intrapericardi': 3, 'recommen': 1, 'sequala': 1, 'ctz': 2, 'gorssli': 1, 'ruleout': 1, 'contant': 1, 'supplementari': 2, 'checkup': 1, 'dial': 2, 'isorsorbid': 1, 'ak': 1, 'kyg': 6, 'setback': 11, 'guafenesin': 1, 'telemet': 1, 'lowsi': 1, 'ventriculoar': 1, 'aspiratio': 1, 'moaner': 1, 'anuria': 7, 'nontheless': 1, 'parenchyema': 1, 'bedchair': 1, 'improiv': 1, 'thoraic': 1, 'mvso': 1, 'lungsound': 1, 'filll': 2, 'protamin': 3, 'aatmpt': 1, 'draiang': 1, 'sheat': 1, 'leov': 1, 'partiallli': 1, 'augement': 1, 'carbomed': 1, 'productuv': 1, 'msvo': 1, 'hespan': 1, 'presnet': 1, 'serousnangin': 1, 'perki': 1, 'presentplan': 1, 'antiobot': 1, 'unload': 2, 'upurc': 1, 'fling': 1, 'pocoumadin': 1, 'prouctiv': 1, 'dobut': 3, 'mebul': 1, 'invagin': 2, 'ttttto': 1, 'afebrik': 1, 'continnu': 1, 'equat': 1, 'waffelr': 1, 'intermitten': 1, 'thrusday': 1, 'beacam': 1, 'steorid': 1, 'wothout': 1, 'doxycylin': 2, 'cepatim': 1, 'aboukt': 1, 'doxcycyclin': 1, 'farm': 1, 'pinsp': 1, 'steoriod': 1, 'lighli': 1, 'iintub': 1, 'cortisyn': 1, 'pheregan': 1, 'rwhite': 1, 'unopacifi': 1, 'biliour': 1, 'deliou': 1, 'gluccos': 1, 'trqansfer': 1, 'diahrrea': 2, 'probrabl': 1, 'detal': 1, 'lasr': 1, 'mous': 1, 'endocran': 1, 'cefapin': 1, 'tsummaryinform': 2, 'nw': 2, 's|': 2, 'kbo': 2, 'eqe': 2, 'augapha': 2, 'jy': 2, '^lze': 2, 'zqqqq': 1, 'xoq': 2, 'xf': 2, 'neuck': 2, 'vmc': 2, 'euq': 2, 'fsp': 2, '^j': 1, 'uvwxyz': 1, 'ucto': 2, 'tq': 2, 'uh': 2, 'rkdz': 2, 'bfm': 2, 'shpplt': 2, 'compobj': 2, 'omkkfk^k': 1, 'dfhm': 2, 'ee': 2, \"p'\": 2, 'aocrf': 2, 'vhi': 2, 'iend': 2, 'ik': 2, 'olwl': 2, 'dotxppoc': 2, 'shphct': 2, 'wdeu': 2, 'um': 2, 'kd': 2, 'yhwv': 2, 'ze': 2, 'cjojqj^jaj': 2, '|w': 2, 'sidatx^': 2, 'fghijklm': 1, 'ooo': 3, 'heiy': 2, 'wlz': 2, 'zwc': 2, \"'t\": 3, 'dcl': 1, 'qfeqfkq': 2, '|k^': 2, 'jh': 2, 'fsx': 2, 'antibitot': 1, 'rkd': 2, 'jojpjqj^jnho': 1, 'ymj': 2, 'jm': 2, 'buxf': 2, 'jkd': 1, 'lkdv': 2, 'microsoft': 2, 'dq': 2, 'oyz': 2, 'gpl': 2, 'vdx': 2, 'iy': 2, 'if^': 2, 'ttttttl': 2, 'f|l': 2, 'v^vgvhvrvsv': 1, 'ff': 4, 'odi': 1, 'vvvvvvvv': 1, '^jajmh': 1, 'rdata': 1, 'cuyi': 2, 'c^': 2, 'jjj': 2, '|x': 2, 'jx': 3, 'ui': 2, 'km': 2, 'lx': 3, 'cjojqj': 2, 'xg': 2, 'fj': 2, 'xil': 1, 'aqo': 2, 'gkdg': 2, 'dfk': 2, 'aub': 2, 'sjpa': 2, 'minutey': 1, 'miig': 2, 'hkt': 2, 'nghch': 2, 'thh': 1, 'vfv': 2, 'dw': 6, 'abcdefghijklmnopqrstuvwxyz': 2, 'ppbp': 2, 'dpx': 1, '^jaju': 1, 'receveiv': 1, 'nxrv': 2, 'ibxg': 2, \"wegener'\": 1, 'xn': 2, 'b^': 2, '|u': 2, 'ggg': 2, 'psn': 2, 'txf': 2, 'hlvo': 2, 'yd': 2, 'jigi': 2, 'hhhnnn': 2, 'moroxella': 1, 'pfq': 2, 'uu': 2, 'ei': 2, 'moraxelia': 1, 'ycu': 2, 'uyl': 2, 'vhvivrvsv': 1, 'nnn': 2, 'ydf': 2, 'zw': 2, 'header': 2, 'gx': 2, 'trpw': 1, 'cjuajh': 2, 'tez': 2, 'dxfdl': 2, 'hyesh': 2, 'khe': 2, 'xx': 5, '|yy': 2, '|bc': 2, 'gsp': 2, 'ein': 1, 'lcj': 2, 'rs^': 2, 'qb|': 2, 'fswi': 2, 'ajh': 2, 'gh': 2, 'xm': 2, 'qvu': 2, 'vo': 2, 'lzpl': 2, 'qxbk': 2, '^jaj': 2, 'txe': 2, 'hke': 2, 'initiati': 1, 'vthf': 2, 'svttttlq': 2, 'pi': 3, 'onw': 2, 't|t': 1, 'ftth': 2, 'suu': 2, 'adx': 1, 'rqujf': 2, 'gt^': 2, 'xy': 2, 'dj': 2, 'mnpj': 2, 'v|': 1, 'ffj': 2, 'mnoz': 1, 'ko': 2, 'tni': 2, 'a^': 2, 'dhuorq': 2, 'rqb': 2, 'fp': 2, 'qqov': 2, 'fl': 7, 'ovk': 2, 'wla': 2, 'cjojqj^jajmhsh': 2, 'jv': 2, 'jl': 2, 'ke': 2, 'sft': 2, 'dtj': 2, 'lh': 6, 'qf': 2, 'emr': 2, \"dzz'\": 2, 'zhdk': 2, 'xq': 2, 'aeijk': 1, 'rwsi': 2, 'cjojqju^jajh': 2, 'xcompobj': 1, 'gw': 2, 'zxz': 2, 'ae': 5, 'cjojqju^jaj': 2, '|c': 2, 'granulomatosi': 2, 'begkm': 1, 'odf': 2, 'zex': 2, 'nocdxi': 1, 'ldf': 2, 'zo': 2, 'aeu': 2, 'tin': 4, '^sx': 2, 'hy': 3, 'eee': 2, 'jj': 2, 'pwow': 2, '^i': 2, 'ojqj^jh': 2, 'yuim': 2, 'vpcsp': 2, 'ji': 2, '^jajmhsh': 2, '^|d': 2, 'dob': 4, 'gq': 1, 'iap': 2, '^jajh': 2, 'bv': 2, 'xdrn': 2, 'idatx^': 2, '|s': 2, 'nvo': 2, 'qlcccc': 1, 'ec': 6, 'nenl': 2, 'ffqp': 2, 'cdehijknowxyz^': 1, 'rs': 8, 'pz': 1, 'xv': 2, 'fff': 2, '|q': 2, 'cjojqj^j': 2, 'shphgb': 2, 'yt': 2, 'ifgd': 2, 'ay': 3, 'kpsp': 2, 'kmdv': 2, 'xvuy': 2, 'ocio': 2, 'bre': 1, 'iz': 2, 'fkd': 1, '|ff': 2, 'vgpi': 2, 'ol': 2, 'schema': 2, 'mbd': 2, 'ttooe': 2, 'smixu': 2, 'uvvvvv': 1, 'documentsummaryinform': 2, 'outstand': 3, 'numpag': 2, 'durin': 2, 'jxfh': 1, 'hzyh': 2, 'bfiu': 2, 'pyl': 1, 'hyw': 2, 'chlorhexdin': 1, 'cb': 4, 'ifa': 2, 'zd': 2, 'smarttag': 2, 's|f': 2, 'uy': 2, 'hxjgu': 2, 'jva': 2, 'fug': 2, 'b|': 2, 'o|': 2, 'cj': 3, 'oy': 3, 'qg': 2, 'zvhk': 2, 'abrsxbhk': 1, 'nrvliiu': 2, 'ifl': 2, 'vh': 2, '|||': 2, 'yh': 2, 'plntl': 2, 'granulamoti': 1, 'qdwu': 2, 'gkd': 2, 'xppocnot': 2, 'cxpq': 2, 'waejg': 2, 'jz': 2, 'chema': 1, 'ffv': 2, 'nz': 2, 'bsb': 2, 'zlkb': 2, 'gqt': 2, 'zg': 2, 'mq': 2, 'fy': 2, 'mdfl': 2, 'f|uf': 2, 'qld': 2, 'kzmwc': 2, '^g': 2, 'ftd': 2, 'z^': 2, 'tro': 2, 'postalcod': 2, 'ilji': 2, 'adehjk': 1, \"'uqg\": 2, 'zfn': 2, 'okpwp': 2, 'ribi': 2, 'vbjbj': 1, 'nffhf': 2, 'xh': 2, 'shpwbc': 2, 'bw^cw': 2, 'qefeiq': 2, \"b'\": 2, \"w'\": 2, 'tsc': 2, 'ia': 5, 'yfgga': 2, 'wiil': 1, 'hvah': 2, 'vtl': 2, 'objectpool': 2, 'qxq': 2, 'mndm': 2, 'qqq': 2, 'oxcn': 2, 'eb': 2, 'ztm': 2, 'ttit': 2, 'yl': 1, '|cl': 1, 'cebq': 2, 'mu': 3, 'fpu': 2, 'svttttt': 2, 'mmmhhh': 2, 'agsa': 2, 'cjojqjz': 1, 'oq': 2, 'jw': 2, 'pj': 2, 'wdl': 2, 'fip': 1, 'cee': 2, 'urn': 3, 'zza': 2, 'cjojqj^jajh': 2, 'eutttt': 2, 'ebx': 2, 'tktot': 1, 'srgb': 2, 'ihdr': 2, 'zuo': 2, 'cjajmhnhujh': 2, 'hw': 2, 'eyfp': 2, 'jxut': 2, 'abh': 1, 'itenk': 2, 'abrxbhk': 1, 'bdlt': 2, 'tmtntotzt': 1, 'xp': 2, 'cjojpjqj^jnho': 2, 'ryhc': 2, 'ejk': 2, 'elh': 2, 'vfx': 2, 'oih': 2, 'cjojqjuv^jaj': 1, 'hhh': 2, 'laf': 2, 'syv': 2, 'qxi': 2, 'ihdrvfw': 2, 'lwc': 3, 'gqq': 2, 'worddocu': 1, 'abcd': 1, 'jpn|zb': 2, 'cjaj': 2, 'mvz': 2, 'cjojqj^jajhr': 1, 'cjajh': 2, 'patientbactrim': 1, '|vi': 2, 'mzm': 2, 'kkkggg': 2, 'gbi': 2, 'u^kq^': 2, 'se': 8, '^qj': 2, 'tj': 2, 'qn': 2, 'cq': 2, 'stx': 2, 'ejo': 2, 'vdegg': 2, 'aj': 2, 'lz': 2, 'acxci': 2, 'rybx': 2, 'fpbrushpbrushpbrush': 2, 'metabolit': 2, 'uz': 2, 'lzra': 2, 'zkd': 2, \"amaa'\": 2, 'dulxo': 2, 'z|': 2, 'cpvmh': 2, 'ccg': 2, 'wvmyvu': 2, \"con'\": 1, 'petichea': 1, 'clenser': 1, 'lipirudin': 1, 'multipodo': 1, 'bluish': 1, 'schizoid': 1, 'deceras': 2, 'crazi': 2, 'alright': 1, 'kinda': 1, 'occaasion': 1, 'occaison': 1, 'hypob': 1, 'prohibit': 3, 'nondil': 3, 'overgrown': 1, 'cardigen': 1, 'vanilla': 2, 'liberali': 1, 'unsignific': 1, 'intraaort': 1, 'surgi': 1, 'palpab': 1, 'doscomfort': 1, 'hypokensi': 1, 'fiberopt': 7, 'ele': 1, 'stade': 1, 'mpb': 2, 'costovertebr': 2, 'indcat': 1, 'pernium': 1, 'bioten': 1, 'ckeck': 1, 'ivgtt': 1, 'claw': 1, 'mobitz': 3, 'televis': 2, 'schitzophrenia': 2, 'wrm': 1, 'asssit': 1, 'agrastat': 1, 'selectivley': 1, 'amnioderon': 2, 'acount': 1, 'te': 6, 'harass': 1, 'lepirudin': 1, 'sj': 1, 'guic': 2, 'gaurdian': 2, 'plaxiv': 1, 'appettit': 2, 'ttake': 1, 'uneffect': 1, 'depit': 1, 'inco': 1, '^lft': 1, 'stmulat': 1, 'absoprt': 1, 'preceed': 3, 'haloldol': 1, 'genic': 1, 'clobetasol': 2, 'sheathless': 1, 'ciprovloxacin': 1, 'baloon': 2, 'efffect': 2, 'generali': 1, 'dexonid': 1, 'treatmetn': 1, 'lepiruden': 1, 'favorit': 3, 'abdomi': 1, 'apici': 1, 'afbril': 1, 'aibp': 1, 'inceasingli': 1, 'diliri': 1, 'atchi': 1, 'singificantli': 1, 'olanzepin': 5, 'compuress': 1, 'echolalia': 1, 'wick': 2, 'propion': 4, 'conver': 1, 'chlorothizid': 1, 'bivent': 1, 'coke': 3, 'therapeaut': 1, 'fake': 1, 'bouuock': 1, 'fingernail': 2, 'arthrosi': 1, 'somebodi': 1, 'cardimyopathi': 1, 'barriercream': 1, 'doom': 1, 'iapb': 1, 'ux': 2, 'cefep': 2, 'pysch': 1, 'elvat': 2, 'pw': 2, 'postplac': 1, 'uncomfor': 1, 'neutopenia': 2, 'abou': 1, 'cardura': 1, 'actat': 1, 'guifenesin': 1, 'desatto': 1, 'coompazin': 1, 'cooperatv': 1, 'bhad': 1, 'currnet': 1, 'nauseax': 1, 'moral': 1, 'coomod': 1, 'cintinnu': 1, 'withexert': 1, 'worseningdyspnea': 1, 'indep': 2, 'accapella': 1, 'aand': 1, 'transiaent': 1, 'hypoxicwith': 1, 'accapulla': 1, 'herniorrohapi': 1, 'celebrex': 4, 'invok': 4, 'plagu': 2, 'dysplasia': 3, 'subsquent': 1, 'supplier': 1, 'pyloroplasti': 1, 'transhiat': 1, 'phelgm': 1, 'europ': 1, 'backpack': 1, 'sulcraf': 1, 'doxepin': 2, 'inhous': 2, 'grandpar': 1, 'bronchopulm': 2, 'sigific': 1, 'pericardectomi': 2, 'hydo': 1, 'spirocar': 2, 'pericardiectomi': 2, 'hiistori': 1, 'toridol': 1, 'dropelt': 1, 'miniaml': 1, 'tarnsfer': 1, 'presenetd': 1, 'recievd': 2, 'crakl': 2, 'desaturt': 1, 'sucction': 1, 'approprietli': 1, 'positionsl': 1, 'sv': 5, 'anarcarca': 1, 'lotrimin': 2, 'speciamn': 1, 'doent': 1, 'benaprotein': 1, 'qvar': 5, 'aab': 1, 'anasacara': 1, 'plead': 2, 'coarser': 1, 'cirrhossi': 1, 'laisx': 3, 'tonnic': 1, 'intxoci': 1, 'plase': 1, 'agitit': 1, 'mickael': 1, 'broth': 2, 'handhold': 1, 'rradial': 1, 'budd': 1, 'synchronis': 1, 'chiari': 2, 'prothesi': 1, 'pper': 1, 'enterocolon': 1, 'lbase': 1, 'bpg': 1, 'sycop': 1, 'regrugit': 1, 'roomat': 1, 'reddenend': 1, 'downstair': 3, 'polymyxin': 1, 'nonmobil': 1, 'patellofemor': 5, 'interventricular': 1, 'dissip': 2, 'aftert': 1, 'nighttim': 3, 'lymphma': 1, 'bcl': 1, 'presyncop': 4, 'negoti': 4, 'tra': 1, 'surg': 1, 'overaggress': 1, 'feldberg': 2, 'hypdenisti': 1, 'haemodinamicalyy': 1, 'caridiolog': 1, 'midthigh': 1, 'typhil': 1, 'unnit': 1, 'metclopromoid': 1, 'gwlm': 7, 'ebv': 6, 'hamstr': 2, 'accomplish': 3, 'aneyrysm': 1, 'nadir': 7, 'lq': 1, 'pound': 6, 'prednisolon': 3, 'hypdens': 2, 'immunoreact': 1, 'avanti': 1, 'haemodinam': 6, 'retest': 1, 'neutropenia': 7, 'dlbcl': 1, 'medaplex': 1, 'multistep': 3, 'nodosum': 1, 'teritori': 1, 'resurfac': 1, 'gmpd': 2, 'merit': 1, 'eshap': 1, 'methotrex': 4, 'alopecia': 2, 'fwd': 3, 'tdt': 1, 'ophth': 3, 'viridan': 4, 'lentiform': 2, 'conso': 1, 'pressuer': 1, 'protcet': 1, 'su': 2, 'heatlh': 1, 'otn': 1, 'maser': 1, 'effeort': 1, 'edma': 1, 'sldo': 1, 'dehis': 1, 'resultur': 1, 'pannu': 4, 'gleut': 1, 'nbrh': 1, 'corpor': 1, 'valsatran': 1, 'grant': 2, 'periwound': 1, 'cgi': 1, 'tolerac': 1, 'synchronousl': 1, 'titer': 5, 'quset': 1, 'biot': 1, 'urv': 1, 'abbras': 1, 'employe': 4, 'sarosang': 1, 'limen': 1, 'tissur': 2, 'menag': 1, 'wrinkl': 1, 'var': 1, 'spokeperson': 1, 'tiss': 1, 'bovin': 3, 'infact': 3, 'ror': 1, 'unitr': 1, 'progrress': 1, 'trachh': 1, 'admittd': 2, 'cpa': 3, 'fss': 5, 'phd': 7, 'deppest': 1, 'commcar': 1, 'healthnet': 1, 'prune': 1, 'couch': 3, 'undrer': 1, 'job': 3, 'viz': 2, 'trachobronchomalacia': 2, 'doesnot': 2, 'aras': 1, 'welfar': 1, 'conplet': 2, 'poen': 1, 'ovar': 1, 'oopen': 1, 'penitr': 1, 'amder': 1, 'vangin': 1, 'eph': 3, 'pickwickian': 1, 'raglan': 4, 'hydram': 2, 'unemploy': 4, 'bacterema': 1, 'anthypertens': 1, 'midzon': 1, 'troponinin': 1, 'anc': 7, 'myopath': 1, 'resper': 1, 'intramuscular': 2, 'blush': 1, 'vasculr': 1, 'extrav': 2, 'differneti': 1, 'hid': 2, 'levopflox': 1, 'egc': 1, 'creativ': 1, 'liquifi': 1, 'hematomoa': 1, 'golytyl': 1, 'wxt': 1, 'trendin': 1, 'horrifi': 1, 'bicard': 1, 'allianc': 1, 'otomastoid': 1, 'birthdat': 1, 'mushrrom': 2, 'vernight': 1, 'tre': 1, 'elder': 3, 'rnp': 1, 'tubat': 1, 'supervion': 1, 'instersti': 1, 'critcal': 1, 'colonosocpi': 1, 'ipmn': 1, 'prominec': 1, 'ple': 2, 'cftx': 3, 'circumfer': 1, 'backward': 2, 'ransfus': 1, 'jrci': 6, 'acutli': 1, 'onogo': 1, 'intramedullari': 4, 'golytli': 1, 'priro': 1, 'fial': 1, 'wjm': 4, 'llnezolid': 1, 'pseudohypha': 3, 'perfrom': 1, 'len': 3, 'rheumatolog': 4, 'maltophila': 1, 'amidoneron': 1, 'pian': 1, 'disciplinari': 4, 'dificult': 1, 'nicardipin': 2, 'hemofiltr': 1, 'enterobacteria': 1, 'yeasterday': 1, 'pulmoanri': 1, 'multilob': 2, 'scanti': 1, 'anytim': 4, 'reuqir': 1, 'cvicu': 10, 'transaxi': 3, 'enterbact': 1, 'cloacea': 1, 'aean': 1, 'piggi': 1, 'edenam': 1, 'difinit': 1, 'neueo': 1, 'hyperconcentr': 1, 'dysrhymia': 1, 'cloaca': 2, 'stenotrophoma': 1, 'offf': 1, 'bodyfrom': 1, 'stenotrophomana': 1, 'criticad': 4, 'maltophilia': 1, 'tranfert': 1, 'xanthomona': 2, 'cvvhf': 1, 'rpo': 1, 'esophagram': 3, 'immunodef': 1, 'mulipl': 1, 'tertiari': 2, 'esophg': 1, 'aferbil': 1, 'recuur': 1, 'schatzki': 1, 'radiologu': 1, 'pipricillin': 1, 'ijv': 4, 'lig': 2, 'appleid': 1, 'eurcerin': 1, 'eccchymot': 1, 'plaesent': 1, 'fugasl': 1, '^l': 1, 'trak': 4, 'abnormalti': 1, 'propohylaxi': 1, 'rerurn': 1, 'driver': 1, 'malnourish': 11, 'cannulu': 1, 'perll': 1, 'lmwh': 5, 'parencyhm': 1, \"she'\": 1, 'prejejunostomi': 1, 'popul': 1, 'cachexia': 3, 'thrombot': 2, 'deteriori': 1, 'effer': 2, 'njear': 1, 'osteoperosi': 1, 'gastrectomi': 4, 'preload': 6, 'hemidia': 1, 'zetia': 3, 'donepin': 1, 'spondylosi': 9, 'phragm': 1, 'fin': 5, 'hemidiapragmat': 1, 'temt': 1, 'collap': 1, 'pottassiun': 1, 'ariceot': 1, 'rhythn': 1, 'kci': 1, 'namenda': 4, 'carecu': 1, 'transfom': 1, 'chondrocalcif': 1, 'pantopr': 1, 'ldlcalc': 1, 'currant': 2, 'homorrhag': 1, 'neglect': 4, 'physiptherapi': 1, 'diltiezem': 2, 'flaygli': 1, 'cef': 1, 'aaddit': 1, 'dependedt': 1, 'duirng': 1, 'hemeparesi': 2, 'purposel': 1, 'srtrting': 1, 'yestday': 1, 'desatuturaion': 1, 'stt': 2, 'chondrocalcinosi': 1, 'pisotriquetr': 1, 'immolilz': 1, 'transfusuion': 1, 'celecoxib': 1, 'complexion': 2, 'downgo': 5, 'metopr': 1, 'quadtant': 1, 'duilut': 2, 'nutrien': 1, 'antix': 2, 'sini': 1, 'beaselin': 1, 'hemorrhagica': 1, 'trigli': 1, 'pentopr': 1, 'syp': 2, 'epidos': 1, 'galactomannon': 1, 'peron': 17, 'conv': 1, 'proteinuria': 4, 'rpgn': 1, 'fbr': 8, 'gof': 1, 'spu': 4, 'flut': 10, 'kalexal': 1, 'imuran': 2, 'latent': 1, 'immunoflouresc': 5, 'parainfluenza': 7, 'parahypotyriod': 1, 'pyridoxin': 1, 'inpt': 3, 'nephrot': 3, 'tiw': 2, 'boxer': 2, 'paraflu': 2, 'fda': 2, 'acna': 1, 'granulocyt': 3, 'rrv': 3, 'atovoquon': 1, 'xopenox': 1, 'virus': 5, 'antigranulocyt': 1, 'tpmp': 1, 'apreci': 1, 'settin': 1, 'jirovecii': 5, 'tpmt': 1, 'parvoviru': 1, 'filbril': 1, 'muddi': 2, 'normocellular': 1, 'gn': 6, 'phop': 1, 'glipizid': 8, 'aova': 6, 'outlet': 3, 'creatitin': 2, 'portegues': 1, 'hypovelemia': 1, 'actu': 3, 'rediscuss': 4, 'bearhugg': 1, 'henatoma': 1, 'spontaneosli': 1, 'allyven': 1, 'electropyt': 1, 'grma': 1, 'pcpap': 1, 'grovid': 1, 'increasinli': 2, 'drese': 1, 'ratedecreas': 1, 'rto': 3, \"'want\": 1, 'cang': 1, 'alleyn': 1, 'herat': 1, 'zofram': 1, 'trasit': 2, 'hover': 6, 'healtyh': 1, 'neurotropho': 1, 'accompain': 1, 'hypophosphemia': 1, 'parameter': 1, 'autoamput': 1, 'deadspac': 2, 'novent': 1, 'anamia': 1, 'transx': 1, 'necros': 1, 'venetd': 1, 'criticid': 1, 'increaas': 1, 'irig': 1, 'overdiuresi': 2, 'noty': 1, 'feww': 1, 'basck': 1, 'diurs': 5, 'grap': 1, 'potassim': 1, 'onscarum': 1, 'correspod': 1, 'watrer': 1, 'ststolic': 1, 'accet': 1, 'reddden': 1, 'inconsisitanli': 1, 'blader': 1, 'accessari': 1, 'student': 8, 'sdedat': 1, 'prednisoln': 1, 'lisix': 1, 'respondi': 1, 'ocverag': 1, 'nephrostomi': 3, 'uuper': 1, '^up': 1, 'normali': 1, 'significamt': 1, '^^bp': 1, 'anattempt': 1, 'quinidin': 2, 'aproach': 1, 'cereb': 1, 'carot': 1, 'thrombectomi': 3, 'terumo': 1, 'arteriographi': 3, 'multilink': 1, 'thromboembol': 8, 'oc': 2, 'exuber': 1, 'merci': 1, 'coaxial': 1, 'celer': 1, 'supraclinoid': 2, 'recannul': 1, 'stagnant': 1, 'hydrophil': 1, 'petrou': 2, 'thrombolysi': 1, 'elaps': 1, 'pedion': 1, 'roadmap': 2, 'voyag': 1, 'inset': 2, 'excercis': 3, 'dementiacopd': 1, 'djrc': 1, 'floven': 1, 'micronas': 1, 'cohes': 3, 'darcoidosi': 1, 'dimension': 2, 'radi': 1, 'dlnc': 6, 'lyrica': 9, 'acetabulem': 1, 'withhold': 5, 'paracentr': 2, 'persever': 5, 'ankylosi': 1, 'budesonid': 2, 'pregabilin': 1, 'mania': 1, 'charger': 2, 'darvocet': 1, 'prd': 1, 'boniva': 2, 'bioavr': 1, 'snbp': 1, 'supratherapeuti': 1, 'tendin': 2, 'prodrom': 6, 'dilitazem': 1, 'emphasema': 1, 'pt\\x13': 1, 'mardarin': 1, 'blanchabl': 4, 'trigemini': 1, 'rrana': 1, 'epigloti': 1, 'occiput': 1, 'polytrauma': 1, 'struck': 3, 'dsgauz': 1, 'puesdomona': 1, 'scene': 2, 'cerivc': 1, 'freighten': 1, 'vincent': 1, 'pedestrian': 1, 'parkview': 1, 'pneumohemothorax': 1, 'dailli': 2, 'diaphys': 1, 'minivan': 1, 'starv': 1, 'intratrach': 2, 'abdomon': 1, 'aquecel': 1, 'den': 1, 'retrocrur': 3, 'hemicolectomi': 2, 'headed': 3, 'extreiti': 2, 'modr': 1, 'dilaut': 1, 'reanastomosi': 1, 'abuterol': 1, 'consum': 1, 'smallest': 2, 'quiescent': 2, 'dbc': 4, 'hyperexpand': 6, 'shfd': 5, 'hemorhag': 1, 'regen': 1, 'hpylori': 1, 'itp': 1, 'ipra': 2, 'regener': 1, 'staf': 3, 'asplen': 1, 'areat': 1, 'fhold': 1, 'lympadenopathi': 2, 'subren': 2, 'enker': 1, 'zentker': 1, 'carpometacarp': 1, 'parieto': 2, 'corrobor': 4, 'hemotolgi': 1, 'seros': 1, 'tampanad': 1, 'leukopenica': 1, 'amenorrhea': 1, 'pancytopen': 3, 'dna': 2, 'birth': 1, 'spleenomegali': 2, 'herbal': 1, 'tacchycardia': 1, 'glucosamin': 1, 'erythematosu': 2, 'tacchi': 1, 'tamponand': 1, 'cardiomeg': 5, 'flax': 1, 'complement': 2, 'unemp': 1, 'merepenen': 1, 'diminh': 1, 'emper': 3, 'flexas': 2, 'weakn': 1, 'prision': 1, 'drainm': 1, \"req'\": 2, 'dysnea': 1, 'mnoc': 1, 'genta': 3, 'oos': 1, 'streph': 1, 'lug': 1, 'compair': 1, 'rhochoru': 1, 'extans': 1, 'ercent': 1, 'gol': 1, 'squeev': 1, 'allyvyn': 1, 'squeek': 1, '^^wob': 2, 'sorb': 2, 'caller': 1, 'caspofungen': 1, 'meropenam': 3, 'canulla': 1, 'oprer': 1, 'mlsof': 1, 'replacinf': 1, 'exrcis': 1, 'caspfungin': 1, 'candidemia': 1, 'benifib': 1, 'hrmodynam': 2, 'proppofol': 2, 'ssoft': 1, 'swalow': 1, 'queation': 1, 'fenta': 2, 'contiunu': 1, 'casperfungin': 1, 'constrast': 1, 'atriocav': 1, 'luquid': 1, 'absess': 1, 'jaudic': 1, 'positioin': 1, 'akin': 1, \"abg'\": 2, 'ulser': 1, 'nasalpharyng': 1, 'endothorac': 1, 'stonger': 1, 'sampp': 1, 'movabl': 2, 'acetalazolamid': 1, 'pleual': 1, 'thio': 1, 'cirrosi': 1, 'fungmia': 1, 'bacteriamia': 1, 'peat': 2, 'benopro': 1, 'throath': 1, 'superimposit': 2, 'visistor': 1, 'stil': 3, 'meropemen': 1, 'maaintain': 1, 'aersol': 3, 'poa': 6, 'midli': 4, 'nonrebrath': 1, 'upperextrem': 1, 'myulti': 1, 'picclin': 1, 'intaubt': 2, 'shr': 1, 'beliv': 2, 'respnd': 1, 'carv': 1, 'cocciin': 1, 'delemia': 1, 'mnonitor': 1, 'ield': 1, 'kayexalaet': 1, 'diatstol': 1, 'wheterh': 1, 'mole': 1, 'peptic': 5, 'repletiion': 1, 'levofloxaciin': 2, 'auscultaton': 1, 'orienetd': 1, 'applesuac': 1, 'antiarrythm': 3, 'iconsolid': 1, 'carbohydr': 5, 'compes': 1, 'claustrophobia': 2, 'tachyarrythmia': 1, 'nsrvt': 1, 'procuct': 1, 'puttin': 1, 'toothett': 3, 'levalbuterol': 2, 'montiro': 1, 'cml': 3, 'compasin': 1, 'lef': 1, 'txed': 1, 'hypotenion': 1, 'att': 2, 'yesterdya': 1, 'orreg': 2, 'clturesd': 1, 'patientcodein': 2, 'falx': 1, 'gretar': 1, 'autoreg': 1, 'disodium': 1, 'hypoporfus': 1, 'meme': 1, 'extracrani': 4, 'caroti': 1, 'smolder': 1, 'mirtazipin': 1, 'abnml': 2, 'empriic': 1, 'neuo': 1, 'hide': 4, 'possibel': 2, 'pamidron': 4, 'amopunt': 1, 'longitudin': 4, 'ptot': 1, 'sytolilc': 1, 'functio': 1, 'coclostomi': 1, 'colr': 2, 'ectpi': 1, 'exhbit': 1, 'impaiir': 1, 'abal': 1, 'reolv': 1, 'mnth': 1, 'phenylepherin': 1, 'flutterto': 1, 'presusr': 1, 'admsion': 1, 'robitiussin': 1, 'eventaulli': 1, 'fluorinef': 1, 'resucuit': 1, 'aysmptomat': 1, 'spprimari': 1, 'penumonectomi': 1, 'fremitu': 3, 'egophoni': 7, 'preacher': 1, 'spondylolisthesi': 1, 'seedi': 1, 'perph': 1, 'earil': 1, 'scotal': 1, 'fussi': 1, 'penial': 1, 'atelectati': 1, 'please': 1, 'statiu': 1, 'prepsep': 1, 'lma': 2, 'humifi': 1, 'linearli': 1, 'hemodynamioc': 1, 'ambiem': 1, 'clozapin': 3, 'doen': 1, 'leguionella': 1, 'appropiatelt': 1, 'infilter': 4, 'hifi': 1, 'phychiatr': 1, 'propofl': 2, 'ipap': 2, 'uag': 2, 'epap': 2, 'propofopl': 1, 'insignific': 4, 'shore': 3, 'detrol': 1, 'midst': 2, 'classifi': 3, 'pgi': 6, 'ocd': 3, 'combineb': 1, 'exaccerb': 2, 'rgm': 2, 'rotari': 1, 'unpredict': 1, 'thiothixen': 1, 'bcoz': 2, 'thymic': 1, 'schizo': 2, 'hha': 2, 'dishcarg': 1, 'ranbl': 1, 'repositio': 2, 'ddri': 1, 'portoven': 1, 'pboot': 2, 'intermittenlti': 1, 'calicum': 2, 'tubs': 1, 'tlow': 1, 'comnfort': 1, 'hsift': 1, 'tomographi': 6, 'aprv': 2, 'amdinist': 1, 'dresss': 1, 'emtoin': 1, 'plow': 1, 'regimn': 2, 'ctsx': 1, 'recuper': 1, 'undrain': 1, 'aggitit': 1, 'lesi': 1, 'thoarcic': 1, 'mrone': 1, 'apicolater': 1, 'aparatu': 1, 'bronchscopi': 2, 'thorcotomi': 1, 'deverfesc': 1, 'suppres': 2, 'anteroposteriorli': 1, 'careveiw': 1, 'phigh': 1, 'eahn': 2, 'interfac': 2, 'shsf': 8, 'ehad': 2, 'replar': 1, 'network': 1, 'rapi': 1, 'sgnific': 1, 'scane': 1, 'criti': 1, 'rextub': 1, 'aqaugel': 1, 'dischang': 1, 'deformati': 1, 'rheumatiod': 1, 'dopper': 2, 'balx': 1, 'stringi': 2, 'miscel': 2, 'neuroendocrin': 3, 'extuab': 2, 'zosi': 1, 'carbotaxel': 1, 'srranegemnt': 1, 'halloween': 1, 'checmotherapi': 1, 'feasibili': 1, 'asymetri': 3, 'fna': 1, 'asx': 3, 'palliat': 3, 'proclhorperazin': 1, 'paraneoplast': 1, 'cremat': 1, 'afibwith': 1, 'famiili': 1, 'ainstem': 1, 'cefepema': 1, 'patienttetracyclin': 1, 'asv': 1, 'tumour': 3, 'xtr': 1, 'militari': 2, 'filgastrin': 1, 'arranegemnt': 1, 'ivss': 1, 'metast': 2, 'hsopic': 1, 'buri': 2, 'taxel': 1, 'rlung': 1, 'curabl': 1, 'tohold': 1, 'treamtnet': 1, 'referrs': 1, 'mucocys': 1, 'liekli': 4, 'finsih': 1, 'iregularli': 1, 'prommin': 1, 'unprofession': 1, 'decb': 1, 'abdomino': 1, 'leukopen': 2, 'exppiraotri': 1, 'dures': 2, 'speed': 3, 'tumeo': 1, 'realtiv': 2, 'feautr': 1, 'lyphadenopathi': 2, 'applicat': 1, 'anticpagul': 1, 'diltiazim': 1, 'peritransf': 1, 'suppment': 1, 'bisphosphon': 1, 'restar': 2, 'contoinu': 1, 'checmo': 1, 'nuetropen': 1, 'undifferenti': 1, 'bllod': 3, 'conflict': 7, 'ocurs': 1, 'intrabronchi': 1, 'fibrill': 1, 'extensis': 1, 'futurw': 1, 'hex': 2, 'worsend': 1, 'shge': 1, 'methyprednisolon': 2, 'thoruhgout': 1, 'sast': 3, 'bec': 1, 'nauseua': 1, 'unremak': 1, 'pacut': 1, 'imorov': 1, 'endoleak': 1, 'aortobifem': 1, 'aortoenter': 1, 'multichamb': 1, 'endograft': 1, 'possbl': 2, 'galbladd': 2, 'tmin': 1, 'pivott': 1, 'morphon': 2, 'hyperattenu': 2, 'junctiion': 1, 'aorto': 1, 'preasur': 1, 'ower': 1, 'discussiion': 1, 'cliber': 1, 'monitro': 1, 'periaort': 2, 'hyperoximia': 1, 'evar': 1, 'thrughout': 1, 'bedroom': 2, 'fowler': 4, 'nnote': 1, 'actuallli': 2, 'occasioanl': 1, 'abe': 1, 'innappropi': 1, 'loressor': 1, 'argument': 5, 'coasr': 1, 'oreient': 1, 'awawk': 1, 'posv': 1, 'resposn': 1, 'intregr': 1, 'seadtion': 1, 'yancher': 1, 'inatct': 1, 'inittiali': 1, 'czrevu': 1, 'basellin': 1, 'mre': 1, 'andf': 2, 'retraint': 1, 'thicwhit': 1, 'rerestrain': 1, 'demostr': 1, 'ned': 1, 'glassi': 1, 'azitroamycin': 1, 'indentif': 1, 'beclov': 1, 'ceftraixon': 3, 'humidi': 1, 'intunb': 1, 'pantamidin': 1, 'keratio': 1, 'aztreom': 1, 'nifidipin': 1, 'nidepin': 1, 'requist': 1, 'lactulous': 2, 'desatru': 1, 'exsufl': 2, 'ffm': 1, 'squees': 1, 'vascath': 1, 'inertact': 1, 'diast': 3, 'seroneg': 2, 'lvedv': 1, 'cvo': 2, 'thermoregul': 1, 'ogilivi': 1, 'concerv': 1, 'duod': 1, 'regurgitatiaon': 1, 'jewleri': 1, 'culltur': 3, 'withperf': 1, 'bpsyst': 1, 'hrrr': 1, 'guillan': 2, 'fremetu': 1, 'drymm': 1, 'denei': 1, 'vasodil': 8, 'overcom': 1, 'syphili': 2, 'yankaw': 2, 'mdp': 3, 'preventit': 1, 'ymf': 7, 'mci': 6, 'radiopharmaceut': 6, 'meat': 3, 'megac': 2, 'coccyg': 4, 'gemcitabin': 2, 'obstr': 1, 'djrx': 1, 'bronchosopi': 1, 'pemetrex': 2, 'whiteout': 7, 'unhook': 1, 'osteodystrophi': 2, 'jvg': 5, 'chonic': 2, 'infl': 1, 'jerki': 1, 'pscyh': 1, 'warrent': 2, 'serequil': 2, 'menatl': 1, 'coamnd': 1, 'thenpt': 1, 'repoet': 1, 'cetriaxon': 4, 'diffucalti': 1, 'placc': 1, 'consisitenetli': 1, 'levofloxacillin': 2, 'desptit': 1, 'stubborn': 1, 'antihistamin': 1, 'arthoplasti': 1, 'halsol': 1, 'repitit': 1, 'guiafenisin': 1, 'adit': 1, 'atrail': 1, 'disynchroni': 1, 'ajdunct': 1, 'avaial': 1, 'unstimul': 3, 'prvc': 8, 'concens': 1, 'disychron': 1, 'pertussin': 1, 'adequit': 1, 'strenal': 1, 'fortun': 3, 'trydin': 1, 'dysynchronon': 1, 'azithrmycin': 1, 'radioopac': 1, 'radiopac': 3, 'shfit': 1, 'prehypertens': 1, 'indomethecin': 1, 'agrees': 1, 'simplifi': 1, 'behalf': 5, 'primarli': 1, 'conest': 2, 'aib': 1, 'dimisnih': 1, 'item': 6, \"'and\": 1, \"does'nt\": 2, 'oncom': 2, 'vva': 1, 'relatuv': 1, 'nsclung': 1, 'nac': 5, 'pilonid': 2, 'apar': 1, 'neutropnia': 1, 'pneumoia': 2, 'tachpneiuc': 1, 'serevet': 1, 'veru': 1, 'atrient': 1, 'lso': 1, 'paprecita': 1, 'inlcud': 1, 'sotolol': 1, 'restor': 5, 'accompan': 1, 'drawal': 1, 'admx': 1, 'epmpyema': 1, 'nam': 2, 'diarhea': 1, 'amongst': 2, 'vsicu': 1, 'hame': 1, 'auacel': 1, 'ehtic': 1, 'sscp': 2, 'hemdynam': 2, 'vicu': 1, 'gangrren': 1, 'spftsorb': 1, 'usu': 1, 'kinnaer': 1, 'neosyenphrin': 1, 'toleer': 1, 'dcoper': 1, 'downslop': 4, 'ogtub': 1, 'givrn': 1, 'pericariectomi': 1, 'metopropolol': 1, 'amniodaron': 1, 'toletr': 1, 'respones': 1, 'feelow': 1, 'ahpb': 1, 'turniong': 1, 'pal': 2, 'rythem': 2, 'ssinsulin': 1, 'bretah': 1, 'mastectomi': 2, 'neurosarcoid': 2, 'neurosarcoidosi': 2, 'overdr': 1, 'supertherapeut': 3, 'stablizi': 1, 'corticosteroid': 5, 'startedprednison': 1, 'folri': 1, 'affes': 1, 'quid': 1, 'unlikley': 2, 'wdwn': 2, 'hyst': 1, 'possit': 1, 'likey': 4, 'broader': 4, 'didnot': 1, 'urnin': 1, 'obe': 1, 'odererd': 1, 'wallker': 1, 'withu': 1, 'pseudamon': 1, 'eccyhmosi': 1, 'punch': 2, 'antipsychot': 6, 'nonformulari': 1, 'cfl': 1, 'jeviti': 3, 'orthoponea': 1, 'lisnopril': 1, 'uncl': 2, 'hyperchlorem': 5, 'showel': 1, 'ret': 1, 'cardioprotect': 1, 'reanal': 1, 'hypoglyceamia': 1, '^tth': 1, 'risperd': 5, 'albutero': 1, 'carbepenem': 1, 'ditiazem': 2, 'tachypneak': 1, 'hyperlipidema': 2, 'viremia': 1, 'dysynch': 1, 'sbplow': 1, 'ciontinu': 1, 'systoc': 1, 'justifi': 2, 'epoeitin': 1, 'judg': 1, 'effecti': 1, 'trsat': 1, 'noncuf': 1, 'cilastatin': 2, 'biacodyl': 1, 'esomeprazol': 1, 'tidac': 1, 'gangcyclovir': 1, 'clincial': 3, 'pseud': 1, 'portuges': 4, 'pneumnonia': 2, 'hypercholesterol': 1, 'tunnl': 1, 'hitt': 1, 'finsulin': 1, 'csa': 1, 'diltiazam': 2, 'trendingdong': 1, 'rechck': 1, 'spl': 1, 'fise': 1, 'cntinu': 1, 'transplat': 1, 'humalin': 1, 'incontinen': 1, 'guestur': 1, 'susbequet': 1, 'antipseudomon': 1, 'fondapar': 1, 'aeurginosa': 1, 'pseudocholinesteras': 1, 'unph': 1, 'asthama': 1, 'transufs': 1, 'correlatingpt': 1, 'quinolon': 6, 'tryin': 1, 'protugues': 1, 'mailto': 3, 'pansensit': 3, 'stength': 1, 'qb': 1, 'novolog': 2, 'edam': 1, 'diaylsi': 1, 'inspitori': 1, 'diltazam': 1, 'hypophosphatemia': 5, 'aureginosa': 1, 'distresss': 1, 'wrespiratori': 1, 'endocrinolog': 1, 'ngsf': 2, 'suctionedfor': 1, 'priscrib': 1, 'tbg': 1, 'wp': 1, 'pseudoma': 1, 'overdialyz': 1, 'ssment': 1, 'susbequ': 1, 'exo': 1, 'incorpor': 1, 'hdfor': 1, 'daylight': 1, 'trabnsient': 1, 'mannag': 2, 'tft': 4, 'vpice': 1, 'cog': 1, 'preround': 2, 'azb': 2, 'sensitivi': 7, 'hemodialyiisi': 1, 'recreas': 1, 'medivion': 1, 'tuptak': 1, 'dound': 1, 'pseudomna': 1, 'hemodialyz': 1, 'calctbg': 1, 'humullin': 1, 'hbg': 2, 'jjf': 1, 'convertig': 1, 'cnsd': 2, 'staphaur': 1, 'demonstrate': 1, 'twf': 3, 'minocyclin': 1, 'birder': 1, 'aureou': 1, 'fati': 1, 'diphenhydramin': 3, 'pannicul': 1, 'exploratori': 2, 'viscu': 1, 'wounc': 1, 'duo': 2, 'baium': 1, 'appendic': 1, 'exlap': 2, 'peach': 1, 'omentum': 3, 'turbid': 3, 'sigmoidectomi': 1, 'collectino': 1, 'plactment': 3, 'trajectori': 1, 'mixtur': 2, 'peritin': 1, 'anastomot': 1, 'knowd': 1, 'transpulmon': 1, 'abnom': 2, 'hp': 2, 'expedit': 2, 'odl': 1, 'worsten': 3, 'infiltar': 1, 'pregnant': 3, 'biospi': 4, 'neumon': 1, 'dysonea': 2, 'dermatomyos': 1, 'insomia': 1, 'hypereosinophil': 1, 'progressov': 1, 'trasnfger': 1, 'tbbx': 2, 'macrophag': 1, 'diluadid': 2, 'hme': 2, 'motnh': 1, 'treponem': 1, 'asterixisi': 1, 'mice': 1, 'vdrl': 1, 'rodent': 1, 'hemochromatosi': 2, 'tna': 1, 'ippv': 2, 'ascet': 3, 'enceph': 7, 'bilarer': 1, 'ceruloplasmin': 1, 'demyelin': 3, 'asterix': 1, 'hlh': 1, 'colorless': 1, 'elus': 2, 'sprue': 1, 'bedsi': 1, 'priorit': 1, 'leptospira': 1, 'lyme': 1, 'choriomening': 1, 'lymphomcyt': 1, 'vzv': 2, 'noninfecti': 5, 'sjogren': 1, 'arboviru': 1, 'whichev': 1, 'lymphocytochoriomening': 1, 'hhv': 2, 'postinflammatori': 1, 'abid': 2, 'vhhc': 1, 'recusit': 1, 'igm': 5, 'ivsion': 1, 'leptospirosi': 1, 'gaa': 1, 'hyptotens': 1, 'lethospirosi': 1, 'ttg': 1, 'pcr': 10, 'hhc': 1, 'visi': 1, 'leptomening': 7, 'pivet': 1, 'tbna': 1, 'bcse': 1, 'syphilli': 1, 'multiorgan': 3, 'hereditari': 1, 'histoplasma': 3, 'behcet': 1, 'noncardiogen': 2, 'otoxoc': 1, 'lymphocytosi': 2, 'mutat': 2, 'hanta': 2, 'lymphocyctosi': 1, 'aliment': 1, 'ehrilichia': 1, 'monocyt': 1, 'gdextros': 1, 'boipsi': 1, 'contibut': 2, 'cytometri': 2, 'unrel': 6, 'ondansetrol': 1, 'hemolys': 2, 'ration': 2, 'cound': 1, 'effis': 1, 'thrirsti': 1, 'hav': 2, 'multisystem': 1, 'erlichiosi': 1, 'abdnorm': 1, 'vector': 1, 'galactomann': 1, 'pantoprozol': 2, 'restricion': 1, 'thrombotytopenia': 1, 'hypoalbuminem': 1, 'spirochet': 1, 'entak': 1, 'varicella': 3, 'lympanopathi': 1, 'electrophoresi': 1, 'abnormail': 1, 'ehrlichia': 3, 'pulsesl': 1, 'cecal': 3, 'loom': 1, 'ogilvi': 3, 'ureterovesicular': 1, 'umbrella': 2, 'cecu': 1, 'ehospit': 1, 'dimminish': 1, 'iavb': 1, 'withouth': 1, 'rtrad': 1, 'distraught': 2, 'radail': 1, 'levadopa': 2, 'frequantli': 1, 'perspir': 1, 'predniselon': 1, 'unsupport': 5, 'imper': 1, 'fopr': 1, 'candidia': 1, 'thorough': 1, 'doa': 1, 'pilot': 1, 'palabl': 1, 'tracheiti': 2, 'mididrin': 1, 'percodan': 2, 'rhd': 3, 'pinki': 1, 'asacol': 2, 'furthur': 2, 'tranx': 4, 'ccon': 1, 'nwb': 1, 'receiven': 1, 'xxx': 4, 'tachicard': 1, 'effcet': 1, 'atroven': 2, 'coolneb': 1, 'withsob': 1, 'cought': 2, 'refkect': 1, 'glyburid': 4, 'hoem': 1, 'titrabl': 1, 'jplace': 1, 'melenoma': 1, 'amytriptylin': 1, 'suboptimalwil': 1, 'iiic': 1, 'ocver': 1, 'onoclogist': 1, 'compel': 3, 'titanium': 1, 'ifn': 2, 'elavil': 1, 'bst': 1, 'glyberid': 1, 'stanidng': 1, 'arthroma': 1, 'unkink': 1, 'hypothyr': 1, 'lvf': 2, 'azipthromycin': 1, 'affabl': 1, 'fn': 8, 'hosoit': 1, 'shiftmetabol': 1, 'amll': 1, 'cchang': 1, 'aroun': 1, 'clariti': 1, 'haspain': 1, 'palit': 1, 'irrrig': 1, 'proedur': 1, 'lpuls': 1, 'irrigant': 1, 'alum': 1, 'faairli': 1, 'fidget': 1, 'percoet': 1, 'lith': 1, 'uper': 1, 'coccyn': 1, 'holdup': 1, 'adenomatoid': 1, 'trolard': 1, 'periradicular': 1, 'stomat': 1, 'pachi': 1, 'osteomyl': 2, 'impar': 1, 'vertebrobasilar': 1, 'bactreial': 1, 'adduct': 3, 'dissatisfi': 1, 'nslc': 1, 'appolog': 1, 'fiduci': 2, 'knife': 1, 'senc': 2, 'acutelyworsen': 1, 'oe': 1, 'pleurovac': 1, 'interpos': 1, 'wate': 1, 'glycerid': 1, 'lockout': 1, 'polymyalgia': 1, 'tkr': 7, 'hypocholesterolemia': 1, 'osteotomi': 1, 'psox': 1, 'rescan': 2, 'kyphoscoliosi': 4, 'bonchovascular': 1, 'misdirect': 1, 'pneuomothorax': 1, 'cymbalta': 6, 'mvoe': 1, 'descib': 2, 'dopaim': 1, 'kayaxol': 1, 'simmilar': 1, 'cholecyctilit': 1, 'tubef': 1, 'giuac': 1, 'poosibl': 1, 'pleuural': 1, 'toom': 1, 'strait': 1, 'categori': 2, 'wafe': 1, 'zyprexin': 1, 'hell': 2, 'verab': 1, 'doputamin': 1, 'dobutamon': 1, 'duoern': 1, 'mrge': 2, 'shatter': 1, 'hurri': 1, 'danglig': 1, 'lone': 2, 'carckl': 1, 'thallium': 2, 'comtinu': 2, 'patter': 1, 'occassionali': 2, 'dopain': 1, 'histamin': 2, 'cholinerg': 1, 'pleaural': 2, 'perhr': 1, 'herapin': 1, 'oink': 1, 'deoderm': 1, 'warfain': 1, 'bale': 2, 'cantanker': 1, 'viabil': 2, 'ectasia': 5, 'paresi': 3, 'cct': 4, 'upgaz': 1, 'urban': 1, 'ambigu': 1, 'valproic': 4, 'prohress': 1, 'myoglobinuria': 1, 'hypexia': 1, 'survey': 1, 'sagit': 1, 'antiplatelet': 3, 'bifasicular': 1, 'acetabular': 4, 'brachioradiali': 1, 'decrement': 2, 'spat': 1, 'adequatli': 1, 'eveid': 2, 'claustrophob': 3, 'coopar': 1, 'asever': 1, 'iubprofen': 1, 'restarint': 1, 'exersis': 1, 'rightsid': 1, 'bedlin': 1, 'sttemp': 1, 'dariculopahti': 1, 'strido': 1, 'radiculopathi': 2, 'unmet': 1, 'bpap': 2, 'scca': 2, 'underlyinig': 1, 'scc': 8, 'omem': 1, 'submucos': 1, 'radiculopahti': 1, 'reccomedn': 1, 'medaistin': 1, 'dmultipl': 1, 'sttempt': 1, 'nirs': 1, 'flag': 1, 'premorbid': 1, 'surger': 1, 'radioluc': 3, 'negaitv': 2, 'ashen': 2, 'industri': 1, 'cea': 4, 'ureteroscopi': 2, 'anastamosi': 2, 'chk': 1, 'emaci': 2, 'attg': 6, 'metopralol': 1, 'nonradiopaqu': 1, 'lavo': 1, 'chect': 1, 'azithrimycin': 1, 'clopidogrel': 4, 'alp': 2, 'reportedthat': 1, 'qmonday': 1, 'lsb': 2, 'steatohepat': 1, 'indict': 2, 'downto': 1, 'altaplas': 1, 'appropx': 1, 'adminsit': 1, 'reck': 1, 'opaciti': 1, 'elevaet': 1, 'pss': 1, 'povh': 1, 'bldg': 1, 'mpsc': 1, 'hydroxyurea': 3, 'geriatrician': 1, 'heati': 1, 'infeciton': 1, 'hydrea': 1, 'calledto': 1, 'edmat': 1, 'wsd': 1, 'prevou': 2, 'mkore': 1, 'extubt': 3, 'ceftazin': 1, 'phoin': 1, 'mushroon': 2, 'tridyn': 1, 'vietnames': 1, 'erd': 1, 'dssd': 3, 'hydorcortison': 1, 'mimim': 1, 'astreonam': 1, 'appropropri': 1, 'vocabulari': 1, 'viocodin': 1, 'constent': 1, 'vareniclin': 1, 'dehydratioin': 1, 'hypomagnisemia': 1, 'chantix': 1, 'lymp': 1, 'considert': 1, 'dicc': 1, \"day'\": 1, 'fup': 2, 'ncslc': 1, 'hk': 5, 'besyl': 2, 'cuad': 1, 'polymicrobi': 7, 'liuqid': 1, 'posterioli': 1, 'verbiag': 1, 'proceur': 1, \"'a\": 1, 'valuium': 1, 'eustachian': 3, 'tendini': 1, 'corda': 1, 'tread': 1, 'meningism': 1, 'banalc': 1, 'signfici': 4, 'bismuth': 1, 'cholest': 2, 'totprot': 1, 'hemidiaphrapm': 1, 'shelik': 1, 'kaopect': 1, 'hrct': 4, 'pendi': 1, 'aksb': 2, 'subsalicyl': 1, 'arso': 1, '^d': 1, 'pizza': 1, 'midclavicl': 1, 'psuedomon': 1, 'albutreol': 1, 'insmal': 1, 'cepefim': 1, 'producitv': 1, 'prgress': 1, \"cx'\": 2, 'soudn': 1, 'satisafctori': 1, 'endocardit': 1, 'availi': 1, 'twelv': 1, 'hydralyzin': 1, 'weaend': 1, 'occul': 1, 'baratr': 1, 'dyne': 2, 'scelera': 1, 'unablet': 1, 'invest': 1, 'moniotor': 1, 'comppens': 1, 'prc': 2, 'ptr': 1, 'procudur': 1, 'ont': 1, 'recept': 2, 'antcip': 1, 'erythremat': 1, 'betamethason': 2, 'cryo': 1, 'surprizingli': 1, 'abnormalitiy': 1, 'clobestsol': 1, 'maintaint': 1, 'superviss': 1, 'legionna': 1, 'vigilantli': 2, 'liner': 2, 'choleysist': 1, 'recv': 1, 'fuid': 1, 'assault': 3, 'verb': 1, 'rear': 1, 'sequent': 1, 'ectopt': 1, 'toil': 1, 'pase': 1, 'reposons': 1, 'hist': 1, 'panu': 2, 'cuvrv': 1, 'favour': 1, 'graphic': 1, 'pychiatr': 1, 'microdata': 2, 'hypernatrium': 1, 'todat': 2, 'lrage': 1, 'verbalis': 1, 'subclavi': 1, 'peeep': 1, 'interpert': 1, 'transpulmonari': 2, 'wain': 1, 'cholecyt': 1, 'nonadher': 1, 'femerol': 1, 'mting': 1, 'amont': 1, 'adust': 1, 'rlc': 1, 'effctiv': 1, 'clobestol': 1, 'precauion': 1, 'freuqent': 1, 'pfr': 2, 'schizoprenia': 1, 'laast': 1, 'movem': 1, 'posiibl': 1, 'condidt': 1, 'legionnair': 3, 'qti': 1, 'depo': 1, 'riclast': 1, 'clinici': 1, 'sclqae': 1, 'intetmitt': 1, 'empric': 2, 'andm': 1, 'lmidron': 1, 'mie': 3, 'ibandron': 2, 'nocuturn': 1, 'delec': 1, 'orlb': 1, 'colum': 2, 'ridden': 1, 'pecocet': 1, 'incenitv': 1, 'convalesc': 1, 'bonchiti': 1, 'hypenatremia': 1, 'monomorph': 2, 'shit': 1, 'legnionella': 1, 'rhochi': 1, 'persev': 3, 'aspiraiton': 1, 'gentlr': 1, 'morphic': 1, 'pneuomonia': 2, 'intraprocedur': 2, 'serivc': 1, 'asb': 1, 'obatin': 1, 'poulmonari': 1, 'reconsclip': 2, 'completli': 1, 'catopril': 1, 'visitng': 1, 'suciotn': 1, 'mucomist': 3, 'atart': 1, 'nusr': 1, 'cul': 1, 'outwardli': 1, 'especilli': 1, 'laryhg': 1, 'nremain': 1, 'famli': 1, 'hemodynamicli': 2, 'akinwat': 1, 'infectin': 1, \"tf'\": 2, 'resucit': 2, 'mulitlobular': 1, 'plugg': 1, 'larang': 1, 'intiti': 4, 'nmb': 1, 'cpcp': 2, 'stomcach': 1, 'retroperitonael': 1, \"'snsr\": 1, 'dipp': 1, 'hopsit': 2, 'sucraf': 1, 'callou': 1, 'vytorin': 1, 'endometri': 2, 'fluticasin': 1, 'hyperplast': 3, 'choleycystectomi': 1, 'xri': 1, 'phenobarb': 3, 'malabsorpt': 1, 'clarithromycin': 2, 'hydrobromid': 3, 'nasonex': 1, 'tylenolol': 2, 'boil': 1, 'bailar': 1, 'grandmoth': 2, 'hepaticojejunostomi': 1, 'adj': 3, 'neutrapen': 1, 'pjp': 5, 'myelosupress': 1, 'myocardia': 2, 'readd': 1, 'cefepem': 2, 'pellucidum': 2, 'cwia': 1, 'condsid': 1, 'stoneman': 1, 'outburst': 2, 'schf': 3, 'orthodrom': 1, 'childdren': 1, 'danazol': 1, 'chaplain': 2, 'bbker': 1, 'bradypnea': 1, 'vibrio': 1, 'string': 1, 'eminclud': 1, 'hydroxylurea': 1, 'hematologist': 1, 'hazzi': 1, 'dexmedetomidin': 3, 'antagonist': 2, 'acidoci': 1, 'eia': 5, 'surrog': 1, 'alkelem': 1, 'dopplear': 1, 'cultru': 1, 'myelofibrosi': 1, 'hypothryroid': 1, 'angiotensin': 1, 'etiomad': 1, 'jhere': 1, 'bioavailibilti': 1, 'yersinia': 1, 'neuromusc': 2, 'pentoxifyllin': 1, 'pentoxyfillin': 1, 'fece': 7, 'cortstim': 3, 'vpa': 2, 'ish': 2, 'glucont': 1, 'accordigli': 1, 'fmask': 1, 'euthyroid': 1, 'campylobact': 2, 'coagulapath': 1, 'intron': 1, 'ohter': 1, 'serel': 1, 'draiin': 1, 'lllpna': 1, 'congeat': 1, 'fley': 1, 'sriel': 1, 'diffrenc': 1, 'cmii': 1, 'prethicken': 4, 'regurgittaion': 1, 'ivh': 2, 'bradicard': 1, 'kinet': 4, 'pyrimethamin': 1, 'vascularpreserv': 1, 'aswer': 1, 'knuckl': 1, 'hyperreflexia': 1, 'icp': 2, 'dexemethason': 1, 'transamitini': 1, 'clorhexedin': 1, 'affair': 1, 'perimesencephal': 1, 'hypoton': 5, 'encephalpathi': 1, 'haartwith': 1, 'diari': 2, 'cepftim': 1, 'youngest': 1, 'secrest': 2, 'myoclonu': 4, 'decompos': 1, 'geograph': 2, 'hypernutremia': 2, 'practition': 2, 'barotrauma': 4, 'insynchron': 1, 'hypereflexia': 1, 'reticulocyt': 2, 'manomet': 2, 'tting': 1, 'disproportion': 1, 'initai': 1, 'assista': 1, 'confront': 2, 'microorg': 3, 'contempl': 2, 'tracjh': 1, 'trippl': 3, 'tynelol': 1, 'hmo': 1, 'recieiv': 2, 'dramtic': 1, 'reinvolv': 1, 'soduim': 1, 'chlorhexedin': 1, 'surviv': 3, 'unorthodox': 1, 'tor': 1, 'fenanyl': 1, 'scew': 1, 'chlor': 1, 'ong': 1, 'unprompt': 1, 'pml': 3, 'gangren': 5, 'contribtuion': 1, 'dital': 1, 'diulatin': 1, 'hpome': 1, 'pharmd': 3, 'stagnat': 1, 'retsart': 1, 'popular': 3, 'recrudes': 1, 'tuft': 1, 'immatur': 2, 'openli': 1, 'gerealo': 1, 'familiar': 3, 'gre': 2, 'phlebotom': 1, 'takeoff': 1, 'shink': 1, 'precuss': 1, 'purchas': 1, 'etiol': 1, 'leukoencephalopati': 1, 'litter': 1, 'arv': 2, 'defend': 3, 'botain': 1, 'colleg': 2, 'onog': 1, 'xigri': 1, 'microbi': 1, 'nacrot': 1, 'uncal': 2, 'pointer': 1, 'mpression': 2, 'unasses': 1, 'mannitol': 1, 'hypercholorem': 1, 'decin': 1, 'peac': 3, 'washcloth': 1, \"gnr'\": 1, 'sulfadizin': 1, 'pentobarbit': 2, 'ototox': 1, 'blee': 2, 'shrink': 3, 'seiaur': 1, 'leukencephalopathi': 1, 'rdia': 1, 'unsatisfi': 1, 'macrocyt': 3, 'ritonovir': 2, 'bradyca': 1, 'covner': 1, 'apnpr': 1, 'aminoglycosid': 3, 'certif': 1, 'ogress': 1, 'entens': 1, 'consost': 1, 'vestibular': 2, 'dysregul': 3, 'acrocyanosi': 1, 'radiocontrast': 1, 'reyetaz': 1, 'hyperhydr': 1, 'thlenol': 1, 'reconstitut': 4, 'cryptococcu': 1, 'interst': 1, 'senstiv': 1, 'severaql': 1, 'opf': 1, 'clindmycin': 1, 'edit': 2, 'microischem': 1, 'myocolonu': 1, 'consumpt': 5, 'atax': 1, 'wing': 1, 'firsthand': 1, 'pneumococ': 1, 'jiroveci': 6, 'bloodpressur': 2, 'bel': 1, 'microangiopathi': 1, 'primaqin': 1, 'orhtostasi': 1, 'naficillin': 1, 'calcitonin': 2, 'unlikl': 1, 'vacn': 1, 'idic': 1, 'stohnman': 1, 'melana': 2, 'micafungin': 3, 'thyromegali': 12, 'excruci': 1, 'whinc': 1, 'antim': 1, 'hiatu': 6, 'finerg': 1, 'foudn': 1, 'mosaic': 4, 'narcopt': 1, 'empiricali': 1, 'velcad': 2, 'rarefact': 1, 'hydrochlorid': 2, 'mpowel': 1, 'tordol': 1, 'bzd': 2, 'biater': 9, 'sevelem': 2, 'bruie': 1, 'simplex': 3, 'poison': 2, 'intim': 4, 'illiopsoa': 1, 'ilopsoa': 1, 'shellfish': 3, 'diagon': 1, 'trabecul': 4, 'housekeep': 2, 'various': 1, 'atalectasi': 5, 'primquin': 1, 'oof': 1, 'iliopsoa': 1, 'traansfer': 1, 'trasnlat': 1, 'certainti': 2, 'refusu': 1, 'interduc': 1, 'lanzoprazol': 1, 'unur': 1, 'pneumoina': 1, 'pansystol': 1, 'resisit': 1, 'shose': 1, 'ketorolac': 3, 'primaquon': 1, 'hypov': 1, 'unmask': 2, 'voriconozol': 1, 'infectio': 1, 'prison': 4, 'myelomat': 1, 'methylnaltrexon': 2, 'hu': 2, 'aneur': 2, 'tamsulosin': 3, 'hyposed': 1, 'tricor': 2, 'managemet': 1, 'progres': 2, 'anticoagulatoion': 1, 'murmr': 1, 'narcotica': 1, 'guidan': 1, 'whees': 1, 'weari': 1, 'unfamiliar': 1, 'metoptolol': 1, 'protuber': 4, 'altert': 1, 'hars': 1, 'array': 1, 'omnipaqu': 22, 'ldic': 1, 'triangular': 2, 'ptv': 1, 'feversclin': 1, 'aspf': 2, 'achondroplasia': 1, 'imptov': 1, 'eved': 1, 'muconazol': 1, 'elevetd': 1, 'yanuak': 1, 'hemotoma': 1, 'hipox': 1, 'buttok': 1, 'antifangin': 1, 'monitoro': 1, 'probem': 1, 'antifangian': 1, 'toput': 1, 'tolow': 1, 'rknee': 1, 'palac': 1, 'sedet': 1, 'extubaton': 1, 'divalproex': 4, 'dopplier': 1, 'endeavor': 1, 'erythemet': 1, 'bmsx': 1, 'revascular': 2, 'anascol': 1, 'mylanta': 1, 'ammmonia': 1, 'substrat': 3, 'caveat': 1, 'elabor': 1, 'acidophillu': 1, 'grm': 1, 'revelatori': 1, 'ditress': 2, 'triag': 2, 'therectomi': 1, 'sand': 1, 'calv': 4, 'diphtheria': 1, 'paget': 2, 'bicalutamid': 1, 'diptheria': 1, 'currenlti': 2, 'polychondr': 2, 'ocuvit': 1, 'verstiva': 1, 'edeam': 3, 'fvc': 4, 'issus': 1, 'infuluenza': 1, 'voltatg': 1, 'ferrousul': 1, 'devat': 1, 'sectrtion': 2, 'garb': 1, 'specifici': 1, 'wln': 1, 'cctime': 1, 'levagquin': 1, 'continui': 1, 'lipomatosi': 1, 'recumb': 1, 'combivi': 1, 'coa': 1, 'sodiuma': 1, 'comt': 1, 'intlat': 1, 'bdz': 1, 'figur': 2, 'billat': 1, 'sheriff': 1, 'onb': 1, 'bicarp': 1, 'alkalem': 1, 'harbor': 1, 'supratentori': 4, 'hunulin': 1, 'igh': 1, 'porencephal': 1, 'respitor': 1, 'burr': 4, 'normotensiv': 1, 'croupi': 1, 'permeabl': 1, 'covg': 1, 'magnitud': 1, 'shoudl': 1, 'villag': 1, 'lubric': 1, 'resuiscit': 1, 'springwel': 1, 'paranoa': 1, 'nok': 2, 'sequestr': 1, 'sttwc': 1, 'hemachromatosi': 1, 'winter': 2, 'hemochromotosi': 1, 'vasalva': 1, 'hemachomotosi': 1, 'orign': 2, 'noncontigu': 1, 'nonradi': 1, 'pelclip': 1, 'superclavicular': 1, 'osteophytosi': 2, 'ym': 2, 'confin': 2, 'resuccit': 1, 'dcough': 1, 'mimic': 1, 'parameterd': 1, 'dsh': 1, 'withdrwal': 1, 'tsamiflu': 1, 'recimmend': 1, 'famoitidin': 1, 'swithc': 1, 'neosynepherin': 1, '^wob': 5, 'revi': 1, 'unprepar': 1, 'moicro': 1, 'hostil': 1, 'osteltamavir': 1, 'poetic': 1, 'cation': 1, 'vibrant': 1, 'una': 5, 'photo': 1, 'copeou': 1, 'represnt': 1, 'scarl': 1, 'osteltamivir': 1, 'compenas': 1, 'aeronaut': 1, 'withdrawa': 1, 'casopressin': 1, 'levofloxaxin': 1, 'receivng': 2, 'initail': 2, 'offlevoph': 1, 'hitchcock': 1, 'lrx': 1, 'latu': 1, 'interrogat': 1, 'lacat': 4, 'madanock': 1, 'sureg': 1, 'duiresis': 1, 'maskj': 1, \"ext'\": 1, 'antitbiot': 1, 'cleat': 1, 'obtaijn': 1, 'transferrin': 2, 'centropulmonari': 1, 'mipt': 1, 'purlent': 1, 'tricuspud': 1, 'mucormyst': 3, 'hypokines': 1, 'appropriatr': 1, 'und': 2, 'nbr': 1, 'inferiormost': 1, 'prb': 1, 'guzzl': 1, 'racotomi': 1, 'pantoea': 1, \"he'\": 1, 'recnt': 1, 'drainaga': 1, 'lactamas': 5, 'tnt': 3, 'cardiomyopath': 1, 'prethickn': 1, 'tho': 1, 'hyolaryng': 3, 'azityhromycin': 1, 'afternnoon': 1, 'deglutit': 3, 'hld': 3, 'herni': 1, 'lordosi': 3, 'subinsular': 3, 'volar': 2, 'suboptima': 1, 'radiocarp': 1, 'mraf': 2, 'juglar': 1, 'cathter': 2, 'ehab': 8, 'fingerbreadth': 4, 'subcuticular': 4, 'coorespond': 1, 'esophagogastr': 3, 'reoper': 2, 'dish': 3, 'rosacea': 2, 'cholectomi': 1, 'depolar': 4, 'posteroinferior': 1, 'nterval': 1, 'scanner': 6, 'parkinsonian': 1, 'juxtahilar': 1, 'gadavist': 3, 'peribronchovascular': 13, 'gsenapati': 2, 'innumer': 3, 'distinguish': 6, 'suprasellar': 4, 'calcifict': 1, 'initiatio': 1, 'bronchoalveloar': 1, 'gmsj': 4, 'scopi': 1, 'zosoyn': 1, 'oain': 1, 'mucho': 1, 'hctcheck': 1, 'ileiostomi': 1, 'maleana': 1, 'basliic': 1, 'positi': 1, 'vomittr': 1, 'semisupin': 1, 'hyperextend': 1, 'penumon': 1, 'plea': 2, 'npv': 1, 'tour': 3, 'poco': 1, 'melaena': 1, 'ltec': 1, 'tthrough': 1, 'gargl': 1, 'morther': 1, 'obli': 1, 'ueo': 1, 'egu': 1, 'axcellari': 1, 'thalam': 3, 'egdv': 1, 'witb': 1, 'continuum': 1, 'scertion': 1, 'ostomoy': 1, 'oesophg': 1, 'supratherpeut': 1, 'thankscarolyn': 1, 'unprovok': 1, 'retropreiton': 1, 'oglivi': 1, 'olveckzi': 1, 'teratoma': 2, 'hypernam': 1, 'qthur': 1, 'salpingo': 1, 'microaspir': 1, 'wine': 4, 'mucocel': 1, 'alendron': 1, 'zoyn': 1, 'nonimmun': 1, 'oophorectomi': 2, 'mgu': 1, 'recenetli': 1, 'ubiquit': 1, 'nonsmok': 2, 'imay': 1, 'chelona': 1, 'prevail': 1, \"'great\": 1, 'asprin': 3, 'adminit': 1, 'infiltart': 1, 'pigment': 1, 'pneuomina': 1, 'historectomi': 1, 'peristals': 1, 'ammen': 1, 'macrolid': 3, 'kwnown': 1, 'pansinus': 2, 'masp': 1, 'usiti': 1, 'immunodefici': 6, 'monotherapi': 4, 'subnorm': 1, 'sequest': 2, 'spetic': 1, 'immunoglobulin': 1, 'defuci': 1, 'serotonin': 5, 'veg': 1, 'antrostomi': 1, 'meatal': 1, 'sin': 1, 'kgm': 1, 'ethmoidectomi': 1, 'hsc': 3, 'subclass': 1, 'development': 5, 'tbi': 4, 'airless': 3, 'tahcycardia': 1, 'panc': 1, 'ramu': 2, 'ossifican': 1, 'heterotop': 4, 'ossif': 5, 'osteosarcoma': 1, 'rami': 1, 'truama': 1, 'ossifi': 1, 'parost': 1, 'medullari': 4, 'chondrosarcoma': 1, 'coanda': 1, 'retina': 1, 'hyoxemia': 1, 'scheme': 1, 'resuspens': 1, 'trazamin': 1, 'hyperphospatemia': 1, 'stabli': 9, 'kayexak': 1, 'arth': 1, 'hyperphosphotemia': 1, 'apsir': 1, 'gerontololgi': 1, 'sevalam': 2, 'phosph': 1, 'kayexcel': 1, 'tenosynov': 1, 'cib': 2, 'brath': 1, 'rocefin': 1, 'zileuton': 1, 'treadmil': 1, 'supsect': 1, 'orthopn': 1, 'suspcion': 1, 'meformin': 1, 'timecours': 3, 'nongap': 2, 'agma': 2, 'leukotrien': 1, 'crx': 1, 'trhough': 1, 'inhib': 1, 'rhocnher': 1, 'feverish': 2, 'wrape': 1, 'triplk': 1, 'sorftsorb': 1, 'gran': 1, 'plateu': 1, 'ammonium': 1, 'bootsa': 1, 'auitopeep': 1, 'coccobaccili': 1, 'slideboard': 5, 'pneumonboot': 1, 'miplex': 1, 'bldcx': 1, 'levop': 1, 'placeemtn': 1, 'biat': 1, 'metiplex': 1, 'dori': 1, 'negx': 1, 'throrac': 1, 'antianxietolyt': 1, 'liumen': 1, 'pulmomari': 3, 'clonapin': 1, 'adpat': 1, 'serosangui': 1, 'amykacin': 1, 'softworb': 1, 'properti': 3, 'peripeg': 1, 'curlex': 1, 'doribax': 1, 'bumper': 1, 'cechet': 1, 'darbopenem': 1, 'pleomorph': 1, 'bronk': 1, 'cechect': 2, 'diffusedli': 1, 'hiold': 1, 'skeptic': 1, 'hopwev': 1, 'peek': 1, 'dbl': 1, 'bilster': 1, 'tracheomalcia': 1, 'vurrent': 1, 'duodrem': 1, 'toerlat': 1, 'thyoid': 1, 'sellar': 1, 'moxifloxacin': 7, 'macroadenoma': 1, 'diuresd': 1, 'macradenoma': 1, 'demis': 3, 'alzhiem': 1, 'arousbl': 1, 'hemithorac': 3, 'hypochlorem': 1, 'remodel': 1, 'ream': 1, 'alzeim': 1, 'bournwood': 1, 'nonsept': 1, 'dust': 1, 'shirt': 1, 'useless': 1, 'kneeleft': 1, 'gabapenton': 1, 'airtrap': 3, 'distruct': 1, 'thorazin': 1, 'agiit': 1, 'restricti': 1, 'arthrocentesi': 2, 'febreil': 1, 'hypogammaglobulinemia': 3, 'hcg': 1, 'inebri': 1, 'appris': 1, 'phenazopyridin': 1, 'unimpair': 1, 'dentist': 1, 'gabopentum': 2, 'collagen': 1, 'carinatum': 1, 'vistaril': 1, 'hydroxyzin': 4, 'obsess': 1, 'psychotrop': 2, 'dignosi': 1, 'crede': 1, 'gammaglobulinemia': 1, 'orthopedist': 1, 'slam': 1, 'snap': 2, 'epithet': 1, 'pleurectomi': 1, 'atelectai': 2, 'oit': 1, 'public': 4, 'salicyl': 1, 'kneereplac': 1, 'osteonecrosi': 1, 'pectu': 2, 'duri': 3, 'lulobectomi': 1, 'senapati': 1, 'ventericular': 1, 'repos': 1, 'expecetd': 1, 'antimirobi': 1, 'precuationsplan': 1, 'turbinectomi': 1, 'completley': 1, 'septalectomi': 1, 'unexpect': 4, 'navi': 1, 'isometr': 3, 'entail': 1, 'rythum': 1, 'trespass': 1, 'rhc': 3, 'leukcytosi': 2, 'pastpt': 1, 'pride': 1, 'sildenafil': 2, 'denser': 5, 'renounc': 1, 'estat': 1, 'cystiti': 4, 'dyskinesia': 1, 'uleg': 1, 'consistn': 1, 'hypercholeserolemia': 1, 'tspn': 4, 'aceess': 1, 'complan': 1, 'welcom': 2, 'disconcert': 1, 'mendehlson': 1, 'prosatectomi': 1, 'pericardialcenti': 1, 'cte': 1, 'propanalol': 1, 'huid': 1, 'tenofovir': 2, 'freeca': 1, 'sldh': 1, 'uln': 1, 'rehospit': 3, 'paracentisi': 1, 'schistocyt': 1, 'slump': 1, 'inconti': 2, 'pldh': 1, 'sticker': 4, 'beforehand': 1, 'rrva': 1, 'sofa': 1, 'hemetemesi': 1, 'cdifff': 1, 'opportunitist': 1, 'abacavir': 2, 'tbil': 1, 'smv': 3, 'capaci': 1, 'cmrepeat': 1, 'radiologymaureen': 1, 'gastroview': 1, 'txp': 2, 'surgeru': 1, 'repes': 1, 'refilm': 1, 'vdrf': 1, 'consolodi': 1, 'ptft': 1, 'gastro': 1, 'olt': 3, 'disea': 2, 'resi': 1, 'dohboff': 1, 'brachiocepahl': 1, 'hemotocrit': 1, 'otiti': 1, 'media': 1, 'toxoplamosi': 1, 'crystalloid': 2, 'thalassemia': 1, 'mycin': 2, 'predescrib': 1, 'cefaclor': 1, 'inforc': 1, 'beign': 2, 'ceclor': 1, 'nifediipin': 1, 'undo': 1, 'raynoid': 1, 'asss': 1, 'effusi': 1, 'nurseri': 1, 'aztrenam': 1, 'bicycl': 1, 'intrinis': 1, 'admtt': 1, 'sizewis': 1, 'bumpi': 1, \"leni'\": 1, 'antidep': 1, 'eu': 1, 'sertalin': 1, 'cannibu': 1, 'cannabi': 1, 'ajust': 2, 'cannabinoid': 1, 'welder': 1, 'incontint': 1, 'heppa': 1, 'anxou': 1, 'atiavan': 1, 'thump': 1, 'subarachanoid': 1, 'valcyt': 3, 'valgancyclovir': 2, 'parathesia': 1, 'uip': 4, 'valcyclovir': 1, 'hepe': 1, 'neagtiv': 1, 'aeipf': 1, 'faecal': 1, 'acetylcystin': 2, 'valacyclovir': 1, 'macroph': 1, 'herps': 1, 'vangcyclovir': 1, 'arachynoid': 1, 'bronchoscpi': 1, 'ceftraiaxon': 1, 'incontinac': 1, 'invovel': 1, 'ctdz': 1, 'rhiniti': 2, 'pck': 1, 'myxomat': 1, 'abpa': 1, 'pansinusitu': 1, 'reop': 1, 'wold': 1, 'amitiptyllin': 1, 'librari': 1, 'sidedweak': 1, 'suspician': 2, 'aneurysn': 1, 'eospinophilia': 1, 'librarian': 1, 'precip': 1, 'uk': 2, 'brocnhoscopi': 1, 'silicosi': 1, 'diagsnosi': 1, 'cep': 1, 'reapir': 1, 'prevoid': 1, \"morning'ha\": 1, 'condensan': 1, 'nomin': 1, 'adjacebt': 1, 'midclavicular': 4, 'osteiti': 1, 'ilii': 1, 'sjbj': 5, 'fissu': 1, 'patial': 1, 'shortn': 3, 'sugesst': 1, 'glan': 1, 'encephlopath': 1, 'rrc': 1, 'seasion': 1, 'medistiastinum': 1, 'hyponutremia': 1, 'effsuion': 1, 'obstrut': 1, 'temporali': 1, 'inping': 1, 'mesial': 2, 'seas': 1, 'pachymening': 4, 'aortopulmon': 1, 'flextur': 2, 'autism': 1, 'autist': 1, 'destrucitv': 1, 'heaven': 1, 'upstair': 3, 'mediatinum': 1, 'suclavian': 1, 'odynophagia': 4, 'hyperton': 2, 'scull': 1, 'evdeic': 1, 'trig': 3, 'seiszur': 1, 'calvari': 1, 'dendrit': 1, 'legfor': 1, 'orthogon': 2, 'sunitinib': 1, 'lm': 2, 'threaten': 3, 'rxcg': 1, 'rveal': 1, 'fosphenytoin': 1, 'micromass': 1, 'sciatica': 1, \"perf'\": 1, 'indirect': 3, 'enterographi': 1, 'tenth': 2, 'twelfth': 1, 'microcytosi': 1, 'narrowest': 1, 'hyperem': 1, 'eleventh': 1, 'volvulu': 4, 'proctoscopi': 1, 'sigmoidoscopi': 1, 'cholecalciferol': 3, 'predict': 3, \"grave'\": 1, 'erectil': 1, 'radioact': 2, 'radioi': 1, 'readress': 1, 'atribut': 1, 'refut': 1, 'hypoaesthesia': 1, 'dysfuct': 2, 'tachcyardia': 1, 'signifi': 1, 'postcentr': 1, 'gyriform': 1, 'gyru': 2, 'arbout': 1, 'predispos': 4, 'unwilling': 1, 'ipsilater': 1, 'magnum': 1, 'laryngoscopi': 2, 'reivew': 1, 'globu': 1, 'overnigh': 1, 'hba': 5, 'infero': 3, 'adc': 4, 'enzyem': 1, 'grd': 1, 'cth': 2, 'oversew': 1, 'udergo': 1, 'lllasp': 1, 'robust': 6, 'tonsillar': 1, 'melen': 1, 'thourough': 1, 'postcontrast': 1, 'tonsilar': 1, 'microhemorrhag': 2, 'flak': 1, 'modax': 2, 'pallidu': 1, 'sew': 1, 'gastrotomi': 2, 'laparatomi': 1, 'reismann': 1, 'volu': 1, 'difficuolt': 1, 'approximatli': 1, 'lactolas': 1, 'fascicul': 1, 'ppli': 1, 'chirrosi': 1, 'gentler': 1, 'coursa': 1, 'heterotopia': 1, 'restlessli': 1, 'agres': 1, 'patientnafcillin': 1, 'intracerebr': 2, 'nephriti': 1, 'eslc': 1, 'elb': 1, 'meropenenem': 1, 'elsd': 1, 'propranolol': 1, 'axon': 2, 'polymyopathi': 1, 'bedridden': 1, 'mmt': 6, 'polyneuropathi': 3, 'neosynephin': 1, 'humiditifi': 1, 'harvest': 2, 'guac': 1, 'encpehalopath': 1, 'hitler': 1, 'boat': 1, 'compelt': 1, 'hypovolm': 1, 'overlaod': 2, 'adequaci': 2, 'perisepsi': 1, 'fse': 1, 'hoy': 1, 'nmed': 3, 'intrac': 1, 'devi': 1, 'electrophysiolog': 1, 'iadl': 2, 'wocrn': 1, 'recordsnafcillin': 1, 'followl': 1, 'deltoid': 2, 'lactuols': 1, 'stm': 2, 'myoclon': 3, 'hempdynam': 2, 'valuat': 1, 'abilti': 1, 'crtical': 1, 'safer': 1, 'thiock': 1, 'repsositio': 1, 'spesi': 1, 'depelt': 1, 'withsept': 1, 'initati': 1, 'flatter': 2, 'leucopenia': 1, 'bradykinet': 1, 'inclement': 1, 'propel': 1, 'necktar': 1, 'polymyoneuropathi': 1, 'pge': 1, 'lecopenia': 1, 'pterygoid': 1, 'nadalol': 1, 'mulitfoc': 1, 'delist': 1, 'propofaol': 1, 'chirossi': 1, 'varici': 1, 'inatak': 1, 'swall': 1, 'weanign': 1, 'indent': 3, 'epicondyl': 2, 'intradur': 2, 'apach': 1, 'prognost': 1, 'desonid': 1, 'patientmercuri': 1, 'geritrician': 1, 'dfif': 1, 'sclen': 1, 'mercuri': 1, 'ammoni': 1, 'hydroxyzon': 1, 'citri': 1, 'lactact': 2, 'intemitt': 1, 'isir': 1, 'guanifensin': 1, 'hypoixia': 1, 'orba': 1, \"parkinson'\": 1, 'sweetcorn': 1, 'strikingli': 1, 'nephrolithotomi': 1, 'parksinson': 1, 'isdn': 2, 'flower': 2, 'avapro': 1, \"romi'\": 1, 'promis': 3, 'jam': 1, 'concerngin': 1, 'oncomycosi': 1, 'effius': 1, \"pcp'\": 1, 'xygen': 1, 'hlp': 1, 'processbi': 1, 'irbesartan': 1, 'hga': 3, 'fyi': 2, 'intrapulmonari': 6, 'flashback': 1, 'pvk': 1, 'minax': 2, 'eichinococcu': 1, 'sye': 1, 'roto': 1, 'weel': 1, 'aemia': 1, 'oncol': 1, 'mosit': 1, 'chart^': 1, 'rotopron': 2, 'schmerzther': 1, 'nur': 1, 'anest': 1, 'hantaviru': 1, 'tryadyn': 1, 'doee': 1, 'ctg': 4, 'mlhr': 1, 'echinococcu': 1, 'nmda': 1, 'variablil': 1, 'clin': 2, 'mkm': 1, 'anesthesiolog': 1, 'raidal': 2, 'portugues': 3, 'rss': 1, 'maxax': 2, 'critici': 1, 'doxicyclin': 2, 'prcv': 1, 'entamoeba': 1, 'mcafungin': 1, 'pneumomedistin': 1, 'mucl': 1, 'annum': 1, 'patiient': 1, 'modb': 1, 'hyoglycemia': 1, 'feedback': 1, 'cvm': 1, 'notfallm': 1, 'elvev': 1, 'rotapron': 1, 'tward': 1, 'cart': 3, 'respriatori': 7, 'mgc': 1, 'thrombocytopen': 2, 'algorhythm': 1, 'hyperalgesia': 2, 'unsatgebal': 1, 'anathesiol': 1, 'mve': 1, 'secanodari': 1, 'pron': 1, 'shd': 3, 'intensivm': 1, 'eosionphil': 1, 'trendelenberg': 3, 'crosstoler': 1, 'lcm': 1, 'pneumonmediastinum': 1, 'limt': 1, 'wriggl': 1, 'glragin': 1, 'calyx': 1, 'pylostomi': 1, 'nephrotomi': 1, 'replc': 1, 'anesthesiologist': 1, 'sillhouhett': 1, 'aanterior': 1, 'anteroposterior': 1, 'solitari': 5, 'falciform': 2, 'obstruc': 1, 'neoesophagu': 1, 'bellow': 1, 'provoc': 1, 'rheumatologist': 1, 'floromethalon': 1, 'rattli': 2, 'dypspnea': 1, 'minimun': 1, 'cvid': 2, 'butun': 1, 'pneumonvax': 1, 'ipr': 1, 'baker': 1, 'dimentia': 1, 'chewabl': 3, 'sohx': 1, 'olsetamivir': 1, 'hydroxid': 5, 'abv': 1, 'bilroth': 1, 'pectic': 1, 'dir': 2, 'bairhugg': 1, 'whirl': 1, 'novolin': 2, 'bronchoconstrict': 1, 'actuat': 2, 'claclium': 1, 'eventr': 2, 'guifensien': 1, 'mgmnt': 1, '^rdl': 1, 'subjac': 1, 'pseudoobstruct': 1, 'fahx': 1, 'cutlur': 4, 'estgfr': 1, 'fliuid': 1, 'remid': 1, 'farr': 1, 'sphincterotomi': 1, 'myofasci': 1, 'epzicom': 1, 'mep': 1, 'eelvat': 1, 'atazanavir': 1, 'unremarakbl': 1, 'reyataz': 1, 'piroxicam': 1, 'hprn': 1, 'hypoventili': 1, 'narcoti': 1, 'pneumonianow': 1, 'coff': 1, 'hopefuil': 1, 'rpaid': 1, 'ism': 1, 'bucket': 1, 'flumenazil': 1, 'whc': 1, 'pint': 1, 'deprees': 1, 'signic': 1, 'emei': 1, 'clininc': 1, 'qual': 1, 'epilecticu': 1, 'lactuls': 1, 'duie': 1, 'umen': 1, 'cotninu': 2, 'cig': 2, 'deleriumt': 1, 'tremen': 2, 'donut': 1, 'mens': 2, 'unidentifi': 2, 'decorticaiton': 1, 'trilob': 1, 'hyropneumothorax': 1, 'immodium': 3, 'grp': 1, 'multicoc': 1, 'antidepend': 1, 'pyeloplasti': 1, 'tld': 1, 'nteract': 1, 'improvt': 2, 'thallasemia': 1, 'dysarththia': 1, 'gfamili': 1, 'stumbl': 1, 'vmr': 1, 'pnanot': 1, 'dyarthria': 1, 'farmer': 1, 'cefapem': 1, 'uplift': 1, 'curl': 8, 'stube': 1, 'arisen': 1, 'uniform': 2, 'vasculartur': 1, 'chroninc': 1, 'fiorin': 1, 'desipramin': 1, 'afford': 2, 'affor': 1, 'dehyr': 1, 'becsu': 1, 'caffien': 1, 'tongith': 1, 'intertrigo': 1, 'leginonella': 1, 'fllow': 1, 'consolidatioin': 1, 'underi': 1, 'toprolol': 1, 'crash': 1, 'land': 1, 'signai': 1, 'silhoutt': 1, 'cbg': 3, 'plale': 1, 'hepatobiliari': 4, 'dysfunt': 1, 'epistaxsi': 1, 'dofetillid': 1, 'gradulli': 1, 'cigar': 1, 'hssi': 3, 'metforman': 1, 'quinadin': 1, 'schwannoma': 2, 'utter': 2, 'excor': 1, 'sgift': 1, 'bdg': 1, 'postvoid': 1, 'kayaxel': 1, 'hyperphosphatemia': 2, 'glomerulonephr': 2, 'intratubular': 1, 'mirolax': 1, 'ralesb': 1, 'condens': 1, 'ducolox': 1, 'shapr': 1, 'stereotact': 1, 'enxt': 1, 'puplmonari': 1, 'inout': 1, 'toleran': 1, 'varix': 1, 'spleno': 2, 'splenoport': 1, 'bronchiolar': 3, 'rightr': 1, 'cementoplasti': 1, 'pseudoarthrosi': 1, 'ankylos': 1, 'spondyl': 1, 'opacitii': 1, 'conceal': 2, 'currnetli': 1, 'obtur': 1, 'overfe': 2, 'leukodytosi': 1, 'contsip': 1, 'levl': 1, 'pyschosi': 1, 'hystrectomi': 1, 'hemiperisi': 1, 'fliter': 1, 'theresid': 2, 'intravertebr': 1, \"'better\": 1, 'brim': 1, 'consitp': 1, 'sorbitol': 1, 'resiz': 1, 'patientprednison': 1, 'subarrachnoid': 1, 'addomen': 1, 'monitori': 1, 'opteas': 3, 'gonald': 1, 'hyerkalemia': 1, 'px': 3, 'aiha': 1, 'preme': 1, 'hypogammaglobinemia': 1, 'inard': 1, 'bedamustin': 1, 'rituxan': 1, 'histroy': 3, 'liklihood': 1, 'hospitalizait': 1, 'galss': 1, 'acycolovir': 1, 'pleuridex': 1, 'aihi': 1, 'onppi': 1, 'pnau': 1, 'zosn': 1, 'atelectatsi': 1, 'fcn': 1, 'pansinu': 1, 'subgal': 2, 'dysf': 1, 'arang': 1, 'bluid': 2, 'holosystol': 3, 'lsinoprel': 1, 'duaghter': 1, 'spustum': 1, 'slntg': 2, 'stablliz': 1, 'arl': 1, 'cratinin': 1, 'shilouett': 1, 'migratori': 1, 'evenli': 1, 'exceedingli': 1, 'raynaud': 1, 'isnorm': 1, 'proportio': 1, 'overestim': 2, 'imapir': 1, 'diuresesi': 1, 'surv': 2, 'cefetriazidim': 1, 'techngu': 1, 'vcabg': 1, 'feso': 3, 'macaroni': 1, 'nafcililn': 1, 'uee': 1, 'spbt': 1, 'hypophon': 1, 'finesterid': 1, 'aneurism': 1, 'catecholamin': 1, 'fmssa': 1, 'catecholami': 1, 'laq': 2, 'extrmeitii': 1, 'hepb': 1, 'satuat': 1, 'flonas': 2, 'resons': 2, 'patientlidocain': 1, 'comporomis': 1, 'contamini': 1, 'sefl': 1, 'whiff': 1, 'buyt': 1, 'extremu': 1, 'ical': 1, 'mirco': 1, 'frigidi': 1, 'aarom': 1, 'reintubt': 1, 'naf': 2, 'atlectesi': 1, 'dsitress': 1, 'dissoci': 1, 'isorhythm': 1, 'neoesophag': 1, 'morphinel': 1, 'prelmininari': 1, 'bidew': 1, 'betaseron': 1, 'porch': 1, 'levoflaoxin': 1, 'fentanyla': 1, 'normo': 3, 'lomictil': 1, 'antoibiot': 1, 'msntal': 1, 'millimetr': 2, 'borderl': 1, 'additino': 1, 'dextroconvex': 2, 'groshung': 1, 'heteregen': 2, 'radio': 4, 'anchor': 1, 'opacificaton': 1, 'cisterna': 2, 'cariat': 1, 'ajnd': 1, 'magna': 2, 'mepelex': 1, 'ult': 1, 'impedi': 2, 'tapabl': 1, 'inexpect': 1, 'bpmaintain': 1, 'descid': 2, 'dysnychromi': 1, 'unexpectedli': 1, 'proir': 1, 'mycocardi': 1, 'aceiv': 1, 'mulitdisciplinari': 1, 'alkalsosi': 1, 'plana': 1, 'bacj': 2, 'deffrer': 1, 'teanaou': 1, 'genesi': 1, 'multidisicplinari': 1, 'dnh': 2, 'negativebal': 1, 'nio': 1, 'respiaratori': 1, 'talli': 1, 'egfr': 3, 'levoxacin': 1, 'uterotomi': 1, 'prcocet': 1, 'resrict': 1, 'cardiazem': 1, 'bankart': 1, 'beverag': 2, 'thiamain': 1, 'somewher': 1, 'agita': 1, 'teanm': 1, 'trazdon': 1, 'nake': 2, 'pantri': 1, 'macdonald': 1, 'increaseili': 1, 'street': 2, 'beng': 1, 'atlectasi': 3, 'clilnic': 1, 'smalll': 1, 'pleurx': 3, 'percardi': 1, 'slthough': 1, \"cxr'\": 1, 'seeen': 1, 'torqu': 1, 'condyl': 2, 'choyk': 3, 'subclaviam': 1, 'othervis': 2, 'erlotinib': 1, 'lifetim': 1, 'afsn': 3, 'spinemetastas': 1, 'metorrolol': 1, 'lisinopriltoler': 1, 'rode': 1, 'ismo': 1, 'successs': 1, 'triamteren': 2, 'dand': 1, 'outputbun': 1, 'pepicd': 1, 'holder': 2, \"bartter'\": 1, 'tremain': 1, 'uro': 1, \"bs'\": 3, 'posthypercapnia': 1, 'clime': 1, 'feeder': 1, 'hyperaldo': 1, 'lenient': 1, 'comtamin': 1, 'alkali': 1, 'urethra': 2, 'startw': 1, \"copd'er\": 1, 'exogen': 1, 'gitelman': 1, 'msk': 3, 'ribcag': 1, 'pcm': 2, 'subliguin': 1, 'hypecapnia': 1, 'rhaspi': 1, 'aortobifemor': 1, 'sinia': 1, 'havewith': 1, 'bronchodi': 1, 'amphysema': 1, 'abxif': 1, 'murmer': 3, 'hypok': 1, 'fasoli': 1, 'placent': 1, 'branow': 1, 'urether': 1, 'mesothelioma': 1, 'influenc': 3, 'actiiv': 1, 'albulmin': 1, 'notori': 1, 'procainamid': 1, 'amlitud': 1, 'rlsb': 1, 'toy': 1, 'neehdam': 1, 'approximatley': 1, 'hpothyroid': 1, 'nasophareng': 1, 'projectil': 2, 'fagitu': 1, 'intfiltr': 1, 'predisposit': 2, 'electropheresi': 1, 'endogastr': 2, 'chagn': 3, 'tricupsid': 1, 'reasonbl': 1, 'vactiv': 1, 'mobilix': 1, 'spiromitri': 1, 'dyfunct': 1, 'suspiscion': 1, 'bleedi': 1, 'antimicribi': 2, 'inspiritori': 1, 'mobila': 1, 'nest': 1, 'mitrial': 1, 'sihgtli': 1, 'doeswel': 1, 'tricusp': 1, 'guiafisen': 1, 'guiafisin': 1, 'rewiev': 1, 'coumaidn': 1, 'robotussin': 1, 'intend': 5, 'fruther': 1, 'asix': 1, 'rcvd': 1, 'arimidex': 2, 'clodidin': 1, 'colllaps': 1, 'pharyn': 1, 'collasps': 2, 'catapr': 1, 'bpmed': 1, 'holo': 1, 'unnessari': 1, 'mirilax': 1, 'unenthusiast': 1, 'lipm': 1, 'antihyperglycem': 1, 'alzhem': 1, 'jolt': 1, 'anerob': 1, 'levaph': 1, 'alezhiem': 1, 'clozaril': 2, 'setment': 1, 'diarrheaclin': 1, 'tributari': 2, 'periport': 2, 'ileiti': 1, 'painclin': 1, 'mesent': 1, 'rmlobectomi': 1, 'rllobectomi': 1, 'rmlobe': 1, 'extremtli': 1, 'asthmaticu': 1, 'rmatiti': 1, 'hyperten': 1, 'hypercarbi': 1, 'capaicti': 1, 'precaust': 1, 'divers': 2, 'continueud': 1, 'wihoutout': 1, 'spina': 1, 'bifida': 1, 'receov': 1, 'harshcough': 1, 'rhythmic': 1, 'attribuatlb': 1, 'epress': 2, 'repor': 1, 'melon': 1, 'solumedeol': 1, 'peristom': 1, 'atop': 1, 'psychogen': 2, 'twin': 1, 'crutch': 1, 'tibiotalar': 1, 'metaphysi': 1, 'peronei': 1, 'pulem': 1, 'eyeh': 2, 'hemifraphragm': 1, 'osbuscr': 1, 'tricsupid': 1, 'chylou': 1, 'ffectiv': 1, 'thoracentsi': 1, 'vacat': 2, 'motnior': 1, 'nppvand': 1, 'talc': 2, 'triglyc': 1, 'cronic': 1, 'retens': 3, 'mgpo': 2, 'crhonic': 1, 'accodringli': 1, 'bigger': 3, 'zanax': 1, 'pleuradesi': 2, \"wbc'\": 1, 'adjuv': 1, 'resampl': 1, 'elevatin': 1, 'threshol': 1, 'nrbc': 2, 'lyphangt': 1, 'hypoventialt': 1, 'imprvo': 1, 'reticulonodular': 1, 'chord': 1, 'rosenmul': 1, 'laryngocel': 1, 'venetricular': 1, 'regurit': 1, 'miser': 1, 'paetnci': 1, 'disucss': 1, 'isulin': 1, 'hate': 2, 'weanto': 1, 'decreasedurin': 1, 'mechin': 1, 'erst': 1, 'foloey': 1, 'andincreas': 1, 'isssu': 1, 'flicker': 1, 'adjec': 1, 'thoraco': 1, 'ibili': 1, 'olanzaoin': 1, 'desynchron': 1, 'ino': 2, 'peramivir': 1, 'rhochor': 3, 'tolerainc': 1, 'acetazolimid': 1, 'aslix': 1, 'amlodopin': 1, 'intpret': 1, 'unsuccessful': 1, 'merrem': 1, 'seconday': 1, 'tachyc': 1, 'initit': 1, 'decreaas': 1, 'paramavir': 1, 'unneccessari': 1, 'nowt': 1, 'famotadin': 2, 'postivi': 1, 'swiych': 1, 'axiila': 1, 'versedearli': 1, 'rhythem': 1, 'merapenum': 1, 'dy': 4, 'mistak': 1, 'abio': 1, 'woudl': 2, 'evercar': 1, 'hypertriglyceridemia': 2, 'abdominopelv': 2, 'murmu': 1, 'gemfibrozil': 1, 'andp': 1, 'chlorehex': 1, 'nimbex': 1, 'monostat': 1, 'famoticidin': 1, 'risbio': 1, 'remp': 1, 'compatibel': 1, 'meropenun': 1, 'racepinephrin': 2, 'anticio': 1, 'flitter': 1, 'lastli': 2, 'flewxis': 1, 'profession': 1, 'cahneg': 1, 'lash': 1, 'nrrr': 2, 'nitrou': 2, 'culturt': 1, 'furosimid': 1, 'softi': 1, 'permavir': 1, 'extracardiac': 1, 'misregistr': 1, 'extracharg': 1, 'coronaryclip': 1, 'gate': 3, 'morph': 1, 'corevalv': 1, 'afffect': 1, 'hxhap': 1, 'emograph': 1, 'trachwostomi': 1, 'unrespos': 1, 'intravasc': 2, 'ftom': 1, 'hoock': 1, 'haemolys': 1, 'saag': 1, 'maculopapular': 5, 'pupli': 1, 'rrla': 1, 'uncreas': 1, 'fecul': 1, 'secretari': 1, 'ilw': 2, 'rectis': 1, 'silvaden': 1, 'sulfadiazin': 1, 'comorbid': 5, 'newlli': 1, 'likelyhood': 1, 'intertrigin': 1, 'spontaneo': 1, 'inxn': 1, 'elctorlyt': 1, 'highgat': 1, 'silverden': 1, 'diatal': 1, 'hyporact': 1, 'therfor': 1, 'desquam': 2, 'minimallli': 1, 'obstruciton': 1, 'possibilit': 2, 'lazix': 1, 'subcu': 1, 'athrosclerosi': 1, 'silvidin': 1, 'sklill': 1, 'maliganaci': 1, 'desquamit': 1, 'psl': 1, 'lill': 1, 'veinou': 1, 'andtibiot': 1, 'foun': 1, 'tranmit': 1, 'irrevers': 1, 'intertriginu': 1, 'sensitiv': 1, 'counteract': 1, 'meetin': 2, 'setrt': 1, 'cidp': 1, 'apathet': 2, 'humolog': 1, 'guaiaic': 2, 'encourab': 1, 'cipd': 1, 'revisu': 1, 'venitil': 2, 'cavitatari': 1, 'allso': 1, 'reli': 3, 'cavi': 1, 'fortuit': 1, 'fhph': 1, 'urti': 1, 'mistreat': 1, 'deceid': 1, 'neumonia': 2, 'adept': 1, 'conjunctivi': 1, 'painless': 1, 'rase': 1, 'freguent': 1, 'hibiclen': 2, 'scrub': 2, 'pediatrian': 1, 'pathway': 2, 'svi': 1, 'folowup': 1, 'xc': 3, 'tempropariet': 1, 'thte': 1, 'moonlight': 1, 'mvc': 3, 'pursuit': 1, 'symtomat': 2, 'alkpho': 3, 'clearl': 1, 'frx': 1, 'airbag': 1, 'hemoperitoneum': 1, 'prnding': 1, 'lungsrhocher': 1, 'tarlov': 1, 'neurosurg': 5, 'fund': 1, 'unecessari': 1, 'notar': 1, 'patc': 1, 'giardia': 1, 'tachytachypena': 1, 'rheumatalog': 1, 'sourceunlik': 1, 'dispit': 1, 'psm': 1, 'historyand': 1, 'eleimin': 1, 'rev': 1, 'neuroforamin': 1, 'stae': 1, 'dtage': 1, 'ppresent': 1, 'notari': 1, 'anteroinferior': 1, 'umcomfort': 1, 'shnge': 1, 'meplix': 1, 'quadreplegia': 1, 'bugl': 1, 'relateddt': 1, 'cpao': 1, 'neurosug': 1, 'myelomalacia': 1, 'meningocel': 1, 'bronciectesi': 1, 'vommit': 2, 'diaviat': 1, 'successfuli': 1, 'gurgel': 1, 'promient': 1, 'imprssion': 1, 'antibito': 2, 'gastrointenstin': 1, 'timelin': 1, 'multlipl': 1, 'porit': 1, 'bancemia': 1, 'singnific': 1, 'macrocytosi': 1, 'bloodshot': 2, 'infilitr': 2, 'parenhcyma': 1, 'snif': 3, 'appopria': 1, 'lnr': 1, 'hbga': 1, 'hyperlimidemia': 1, 'pernin': 1, 'alheim': 1, 'admisis': 1, 'depleat': 1, 'hemidriagphram': 1, 'orophar': 2, 'ronchuou': 1, 'downgrad': 1, 'unkonwn': 1, 'pur': 1, 'novemeb': 1, 'rcxr': 1, 'unkown': 2, 'hypetens': 1, 'ischmic': 1, 'hydrocortisol': 1, 'chemotherpay': 1, 'tndr': 1, 'pyridium': 1, 'artefact': 3, 'shigella': 1, 'samonella': 1, 'amyloidosi': 1, 'benc': 1, 'hypocortisol': 1, 'transloc': 2, 'thoracoplasti': 2, 'chnge': 1, 'poteni': 1, 'march': 2, 'methemoglobinemia': 1, 'arc': 1, 'desk': 1, 'suffoc': 3, 'cooximetri': 1, 'circumor': 1, 'juxtaren': 1, 'thyromeg': 2, 'multidisciplnari': 1, 'fume': 1, 'periesophag': 1, 'academ': 1, 'mwm': 2, 'heaviest': 1, 'numerour': 1, 'breeth': 1, 'visibil': 1, 'macroscop': 1, 'esopheg': 1, 'serrat': 1, 'ged': 1, 'postradi': 1, 'contend': 1, 'methehemoglobinemia': 1, 'rebah': 1, 'repart': 1, 'candidiasi': 3, 'entrant': 1, 'unhelp': 1, 'asnwer': 1, 'nortriptyllin': 1, 'addison': 1, 'asympomat': 1, 'concert': 1, 'avrt': 1, 'avnrt': 3, 'mztb': 1, 'svcbrachiocephal': 1, 'trochlear': 1, 'congruenc': 1, 'radiocapitellar': 1, 'osteosclerot': 2, 'differeti': 1, 'thiazid': 1, 'vnon': 1, 'parainflu': 1, 'rvh': 1, 'jild': 1, 'stneosi': 1, 'rhf': 1, 'derlium': 1, 'withsever': 1, 'hypoglyecem': 1, 'yestderday': 1, 'tuna': 2, 'hypersensitivit': 1, \"alzhiemer'\": 1, 'sib': 1, 'violenc': 1, 'sweatimg': 1, 'murder': 1, 'stratif': 1, 'cirrhoit': 1, 'gallon': 1, 'neurvascularli': 1, 'hallucinosi': 1, 'robberi': 1, 'bush': 1, 'retroact': 1, 'barret': 1, 'bail': 1, 'outpatietn': 1, 'pilori': 1, 'sacrific': 1, 'atm': 1, 'stonosi': 1, 'uncharacterist': 1, 'aandox': 1, 'decidedli': 1, 'benardyl': 1, 'concomitt': 1, 'garag': 1, 'sope': 1, 'apnoea': 1, 'dyspnoea': 1, 'bkr': 2, 'talonavicular': 1, 'enco': 1, 'hypoadren': 1, 'capnocytophagia': 1, 'capnocytophaga': 1, 'crackel': 3, 'histoplasmosi': 1, 'hrx': 1, 'placeement': 1, 'hypenatremai': 1, 'tonsilectomi': 1, 'nbnb': 1, 'nonbloodi': 1, 'aduibl': 1, 'friction': 2, 'pasv': 2, 'pneumobilia': 3, 'hyporthyroid': 1, 'dil': 2, 'hemondynam': 1, 'sweep': 1, 'klebsiela': 1, 'elevart': 1, 'privileg': 1, 'amakacin': 1, 'fondaparenox': 1, 'hemodynamm': 1, 'pizzaria': 1, 'tobramcyin': 1, 'creatini': 1, 'fondoparinaux': 1, 'ropinirol': 1, 'aci': 2, 'perid': 1, 'vegetataion': 1, 'ariv': 1, 'tracheosotomi': 1, 'carbapenem': 4, 'fondapaurinox': 1, 'colestin': 1, 'amicacin': 1, 'ropirnol': 1, 'jllw': 1, 'amikacina': 1, 'panscan': 1, 'acinetobactor': 1, 'psotiv': 1, 'chane': 2, 'fondaparinox': 1, 'copnt': 1, 'nrsa': 1, 'wtith': 1, 'infiltrat': 1, 'bisocadyl': 1, 'autodiureisi': 1, 'tachypnc': 1, 'cnst': 1, 'aggess': 1, 'fondaparinux': 1, 'icub': 1, 'carbacephem': 2, 'heidiaph': 1, 'micor': 1, 'pvv': 1, 'toxicitiy': 1, \"plateau'd\": 1, 'tagamet': 1, 'cholestasi': 4, 'cimetidin': 1, 'cinemet': 2, 'artain': 1, 'clacium': 1, 'rhocnhor': 1, 'colisitin': 1, 'colisitina': 1, 'veggi': 1, 'tream': 1, 'acinitobact': 1, 'durind': 1, 'syntrhoid': 1, 'collistin': 1, 'aoritc': 1, 'carita': 2, \"babinksi'\": 1, 'detrusor': 1, 'fwf': 1, 'dcing': 1, 'hypotenst': 1, 'hypnatremia': 1, 'gpcocci': 1, 'acteremia': 1, 'fondaparinoux': 1, 'stressor': 1, 'baumannii': 1, 'levidopa': 1, 'sill': 1, 'inhaledq': 1, 'fondaparineux': 1, 'withfev': 1, 'discount': 1, 'heha': 1, 'acineterbact': 1, 'fonduparinox': 1, 'owner': 3, 'fondaprinux': 1, 'restaur': 2, 'recycl': 1, 'moliz': 1, 'antiboiod': 1, 'nit': 3, 'bovona': 1, 'requip': 1, 'infetcion': 1, 'wherebi': 2, 'hopspial': 1, 'patienttagamet': 1, 'acinobact': 1, 'bovi': 1, 'gegtaion': 1, 'effuion': 1, 'untll': 1, 'staphylococci': 2, 'acenitobact': 1, 'eblow': 1, 'anasrca': 1, 'traceostomi': 1, 'amikasin': 1, 'antiparkinsonian': 1, 'desimpact': 1, 'colstin': 1, 'unforunt': 1, 'recult': 1, 'pseudoman': 1, 'mayi': 1, 'compliat': 1, 'inal': 1, 'colisitn': 1, 'hat': 1, 'intermiitt': 1, 'expansil': 1, 'vast': 1, 'debulk': 1, 'limitng': 1, 'movent': 1, 'atmosair': 1, 'meriplex': 1, 'chrome': 1, 'morohin': 1, 'mutipodu': 1, 'salivari': 2, 'suvmax': 1, 'enthesopathi': 1, 'ostearthr': 1, 'tricompartment': 1, 'entesophyt': 1, 'fluorodeoxyglucos': 2, 'glucomet': 2, 'emiss': 2, 'bronchoesophag': 1, 'esophagotrach': 1, 'fistu': 1, 'fistual': 1, 'fibros': 2, 'pave': 1, 'precent': 1, 'organz': 1, 'mensenter': 1, 'qweekli': 1, 'tachycrad': 1, 'throuhg': 1, 'fior': 1, 'modear': 1, 'cumul': 1, 'crti': 1, 'lminim': 1, 'attritub': 1, 'hypxoem': 1, 'qwk': 1, 'emtricitabin': 1, 'appeal': 2, 'inftrat': 1, 'bicrab': 1, 'folllw': 2, 'restabil': 1, 'propylen': 1, 'siad': 1, 'hepatotox': 2, 'maxiallari': 1, 'orophargyng': 1, 'revela': 1, 'darunovir': 1, 'ucl': 1, 'choli': 1, 'stillrequir': 1, 'ritonivir': 1, 'kollef': 1, 'cultr': 1, 'human': 5, 'roadblock': 1, 'woirsenign': 1, 'brinch': 1, 'solvent': 1, 'tmask': 1, 'qualit': 1, 'transaminti': 1, 'msm': 1, 'remina': 1, 'hypothesi': 1, 'onboard': 1, 'liais': 1, 'ceil': 1, 'reliv': 1, 'prefus': 1, 'downmini': 1, 'prepylor': 1, 'intertwin': 1, 'crae': 1, 'affer': 2, 'bolusof': 1, 'thearapi': 1, 'darunavir': 1, 'breakthough': 1, 'duploff': 1, 'mpove': 1, 'dexder': 1, 'satisfi': 3, 'miniz': 1, 'ssdi': 1, 'brnch': 1, 'phynelephrin': 1, 'sreat': 1, 'pedifeed': 1, 'minib': 3, 'bristl': 1, 'thoroughli': 2, 'improvo': 1, 'addednum': 1, 'tandem': 1, 'imped': 3, 'mehtoadon': 1, 'trednign': 1, 'xcr': 1, 'truvada': 1, 'osmolar': 2, 'pharmacokinet': 1, 'surreal': 1, 'cortsintropin': 1, 'sedation^': 1, 'mess': 1, 'cholangiopathi': 1, 'siahd': 1, 'uninterrupt': 2, 'bou': 1, 'faqilur': 1, 'mout': 1, 'ptbd': 1, '^^sedat': 1, 'monocytosi': 1, 'noectopi': 1, 'pvm': 1, 'ucr': 1, 'freshli': 1, 'seroqeil': 1, 'incongru': 1, 'linsinopril': 1, 'quietiapin': 1, 'decruit': 1, 'groggi': 1, 'adedd': 1, 'predat': 1, 'psychic': 1, 'fastest': 1, 'blackberri': 2, 'anit': 1, 'mirror': 1, 'uosm': 1, 'unaoutput': 1, 'spreadsheet': 1, 'vavlular': 1, 'ethomid': 1, 'ballot': 1, 'concerntrt': 1, 'serquel': 1, 'alphabet': 2, 'lipemia': 1, 'gurgli': 1, 'teenag': 1, 'autopeep': 3, 'respind': 1, 'sedationd': 1, 'butopen': 1, 'seroqeul': 1, 'biplanar': 1, 'wihen': 1, 'diaphgragm': 1, 'snort': 2, 'wahs': 1, 'clother': 1, 'quetapin': 1, 'interdispers': 1, 'quietipin': 1, 'pmc': 1, 'mpore': 1, 'hm': 1, 'phenyephrin': 2, 'mildili': 1, 'gungal': 1, 'malox': 1, 'crical': 1, 'meropenen': 1, 'morp': 1, 'seratralin': 1, 'transillumin': 1, 'coxiella': 1, 'aspergil': 1, 'stoop': 2, 'apprecci': 1, 'retd': 1, 'methylprednisilon': 1, 'babesia': 1, 'imageri': 1, 'nonerythemat': 1, 'mypathi': 1, 'epeatedli': 1, 'yawn': 3, 'murumur': 1, 'lcmv': 1, 'errythemat': 1, 'tranamin': 1, 'cessast': 1, 'yesterdav': 1, 'pneumobooot': 1, 'antimicorbi': 1, 'img': 1, 'nape': 1, 'dv': 1, 'gulactomannan': 1, 'orgin': 1, 'medazolam': 1, \"we'll\": 1, 'peliv': 1, 'sap': 1, 'anxiion': 1, 'parencyhyma': 1, 'overf': 1, 'scitch': 1, 'furrow': 1, 'psychotherapi': 4, 'iniit': 1, 'swtich': 2, 'swich': 2, 'phtsical': 1, 'frighted': 1, 'dysyncroni': 1, 'resolved': 1, 'mulifoc': 1, 'hydrocortinson': 1, 'weaningfrom': 1, 'rhocncher': 2, 'faiilur': 1, 'brow': 1, 'hepain': 1, 'targetd': 1, 'resight': 1, 'paraly': 1, 'propogol': 1, 'lcsw': 5, 'hsould': 1, 'rohila': 2, 'lnare': 1, 'pie': 1, 'kneel': 1, 'shop': 2, 'outweight': 2, 'grandneic': 1, 'newspap': 1, 'forhead': 1, 'expi': 1, 'sweeti': 1, 'rvat': 1, 'tsurg': 2, 'miniamlli': 1, 'paracardiac': 1, 'volvodynia': 1, 'tachyarrhythmia': 3, 'osbstruct': 1, 'apapc': 1, 'infiltrt': 1, 'infilttr': 1, 'hypomagnesemia': 2, 'prnumonia': 1, 'plurit': 1, 'tessolan': 1, 'ceftiaxon': 2, 'infliltr': 1, 'anouth': 1, 'pyogen': 1, 'contineud': 2, 'saat': 1, 'pcompobj': 1, 'wfrwcw': 1, \"hct'\": 1, '^m': 1, 'jk': 2, 'tuvwxyz': 1, 'crxbcklrv|': 1, 'jf': 1, 'ajmhsh': 1, 'secrtetit': 1, 'pow': 1, 'bjbj': 1, 'msworddocword': 1, 'abcdefghijklmnopqr': 1, 'trpnpu': 1, 'paragraph': 1, 'premolar': 1, 'aui': 1, 'imd': 1, 'aho': 1, 'ethmod': 1, 'normalcj': 1, 'cytomegaloviru': 4, 'adipos': 1, 'auvst': 1, 'histor': 1, 'bakc': 1, 'kdc': 1, 'nect': 1, 'drt': 1, 'noteparentid': 1, 'atuhi|': 1, 'ahsd': 1, 'tihr': 1, 'versioneditnotestatustemplateidautologout': 1, 'micolozol': 1, 'o^o^o': 1, 'rredden': 1, 'tachypniec': 1, 'cjojqj^jaju': 1, 'totachypnea': 1, 'subclavain': 1, 'modular': 2, 'cjojqjuv^jajh': 1, 'jkdb': 1, 'secretit': 1, 'je': 1, 'increasd': 1, 'lpd': 1, 'cdefghijklmnopqrstuvwxyz': 1, 'canin': 1, 'djwbkti': 1, 'j^': 1, 'abdb': 1, 'kdm': 1, 'maxillay': 1, 'omkikmkkdgd': 1, 'ddefault': 1, 'fkda': 1, 'cjojqj^jajnutren': 1, 'lotrimen': 1, 'epidosd': 1, 'hyperlink': 1, 'hajmh': 1, 'vvvvv': 1, \"'worddocu\": 1, 'diuriesi': 1, 'anbpz': 1, 'abcdefghij': 1, 'vancomydin': 1, 'posisbl': 1, 'cd|b': 1, 'ksim': 1, 'fmicrosoft': 1, 'cepapim': 1, 'galactomannin': 1, '^jajmhnhu': 1, 'closemod': 1, 'vn': 1, 'clotrimizol': 1, 'gqu': 1, 'xdlt': 1, 'versedt': 1, 'kdi': 1, 'rebronch': 1, 'printmod': 1, 'fontvi': 1, 'kda': 1, 'ijpn': 1, 'vtabl': 1, 'cjojqj^jajc': 1, 'vvvv': 1, 'abcdelmop': 1, 'promethazin': 1, 'vasodialtori': 1, 'noroviru': 2, 'specturm': 1, 'vanvo': 2, 'bmv': 1, 'utox': 2, 'virul': 1, 'hemoli': 1, 'sicker': 1, 'ki': 1, 'inversu': 1, \"kartagener'\": 1, 'dextrocardia': 1, 'kartagen': 1, 'exacerabt': 1, 'commonli': 2, 'levoscoliosi': 1, 'kkaliannan': 1, 'earliest': 2, 'topogram': 1, 'lumber': 1, 'conmsist': 1, 'mdcta': 1, 'glioblastoma': 1, 'posttreat': 1, 'omniflush': 2, 'gliobastoma': 1, 'arctic': 1, 'bevacizumab': 1, 'bentson': 2, 'ventriculostomi': 3, 'suspic': 1, 'intraves': 1, 'bloom': 1, 'pleuritc': 1, 'commissur': 1, 'hemosiderin': 2, 'panlobular': 1, 'despoit': 1, 'uniqu': 1, 'rani': 1, 'bilari': 1, 'biloma': 1, 'nonehmorrhag': 1, 'periprocedur': 1, 'mutter': 1, 'fol': 1, 'outpit': 1, 'azitho': 1, 'herril': 1, 'babbl': 1, 'disinhibit': 1, 'civil': 1, 'opacu': 1, 'nonhogdekin': 1, 'anzythromycin': 1, 'cholersterol': 1, 'peera': 1, 'femalw': 1, 'varieti': 5, 'legonella': 1, 'barrir': 1, 'meralgia': 1, 'laterdo': 1, 'bacteriruia': 1, 'saltin': 1, 'exercs': 1, 'parethetica': 1, 'tli': 1, 'sputrum': 1, 'reequilibr': 2, 'ive': 1, 'calor': 2, 'nvalid': 1, 'guafenassin': 1, 'persian': 1, 'afrebil': 1, 'immed': 1, 'diffenti': 1, 'concord': 1, 'cna': 1, 'tarc': 1, 'boundari': 1, 'farsai': 1, 'methyl': 2, 'dysmorph': 1, 'guifenasin': 1, 'ngativ': 1, 'urobilin': 1, 'spkem': 1, 'nurns': 1, 'reset': 1, 'skirt': 1, 'ifp': 1, 'bacturia': 3, 'critlcal': 1, 'dysnchron': 1, 'mucumyst': 1, 'urobiligen': 1, 'diverticulsi': 1, 'avanc': 1, 'bacteriuria': 1, 'anteriro': 1, 'resort': 1, 'prodict': 1, 'transffr': 1, 'parasthetica': 1, 'paresthetica': 1, 'mislead': 1, 'cogent': 1, 'qbedtim': 1, 'oclac': 1, 'abrat': 1, 'microscop': 2, 'exten': 1, 'guanefisin': 1, 'cefedim': 1, 'discontiu': 1, 'beep': 2, 'subsequen': 1, 'bruic': 1, 'merlgia': 1, 'tussiv': 1, 'aysmmetri': 1, 'timi': 1, 'ostial': 2, 'rewarm': 1, 'meniscectomi': 1, 'ciloxan': 1, 'otic': 1, 'rhonor': 1, 'atttemp': 1, 'mucuou': 1, 'euvolum': 1, 'cotnineu': 1, 'arthrosclerot': 1, 'appx': 1, 'cmpathi': 1, 'metases': 1, 'nother': 1, 'hypervolum': 1, 'pericod': 1, 'supratherapuet': 1, 'arr': 1, 'cholangiocarcinoma': 1, 'dicontinu': 1, 'unlcear': 1, 'quadrigemin': 1, 'insepar': 1, 'pyelo': 2, 'faliur': 1, 'transvagin': 1, 'transabdomin': 2, 'perigest': 1, 'rump': 1, 'gestat': 1, 'intrauterin': 1, 'pregnanc': 2, 'referenc': 1, 'chromosom': 1, 'delet': 1, 'gasteau': 1, 'gastaut': 1, 'sbi': 1, 'hypopkinesi': 1, 'subopitm': 1, 'transposit': 1, 'anteromedi': 2, 'ffnding': 1, 'inturpetur': 1, 'magnesia': 5, 'patientpenicillin': 2, 'hollow': 1, 'plax': 1, 'tempsiv': 1, 'whichi': 1, 'uncoopr': 1, 'sucat': 1, 'frost': 1, 'axe': 2, 'sax': 1, 'dipo': 1, 'rspons': 1, 'hctof': 1, 'senili': 1, 'unintellig': 3, 'henodynam': 1, 'cholinesteras': 1, 'sacram': 1, 'hemidi': 1, 'respositon': 1, 'contantli': 1, 'annunci': 1, 'hypopho': 1, 'lasxi': 1, 'hyrdatoinwith': 1, 'cefalosporin': 1, 'sensitivti': 1, 'speka': 1, 'perinueum': 1, 'arcu': 1, 'crcl': 1, 'incessantli': 1, 'gun': 1, 'kkaliann': 2, 'breathhold': 1, 'trocar': 1, 'onsit': 1, 'viii': 1, 'infratentori': 1, 'isoecho': 1, 'prove': 1, 'duderm': 1, 'dupplex': 1, 'hliv': 1, 'vean': 1, 'pckd': 1, 'immens': 1, 'ronchii': 1, 'prefilt': 1, 'tranplant': 1, 'polycyst': 1, 'cpnsult': 1, 'bipsi': 1, 'diuoderm': 1, 'prieiou': 1, 'autosom': 1, 'linezold': 1, 'overfeed': 3, 'mitodrin': 1, 'neprologost': 1, 'prismas': 1, 'effusdion': 1, 'postfilt': 1, 'mero': 1, 'pblm': 1, 'thoracenthesi': 1, 'likelyt': 1, 'currentl': 1, 'pcld': 1, 'spongett': 2, 'chevron': 1, 'malnutritrion': 1, 'wopman': 1, 'sifnific': 1, 'periop': 3, 'rescu': 1, 'ligthli': 1, 'venopunctur': 2, 'undisplac': 1, 'coapt': 1, 'uncement': 1, 'teamunabel': 1, 'sectionsclip': 1, 'pacement': 1, 'ingrow': 1, 'possil': 1, 'demat': 1, 'vei': 1, 'astound': 1, 'perplex': 2, 'menigit': 1, 'explana': 1, 'enucl': 1, 'hemodynaimc': 1, 'calcifion': 1, 'withb': 1, 'frequenti': 1, 'cefeim': 1, 'resusci': 1, 'hyperlycemia': 1, 'nucchal': 1, 'similiar': 1, 'huumalong': 1, 'cephalomalacia': 1, 'checkstool': 1, 'toxicolog': 3, 'diluat': 1, 'meningit': 2, 'svce': 2, 'provigil': 1, 'myxedema': 1, 'blueberri': 1, 'nonspec': 1, 'alththough': 1, 'provgigil': 1, 'appeard': 1, 'ketosi': 1, 'sprinkl': 1, 'valproat': 1, 'crap': 1, 'respiratoy': 2, 'topimax': 1, 'wakekup': 1, 'triglyericd': 1, 'uptrend': 1, 'sugeri': 2, 'seqeunc': 1, 'topiram': 2, 'methylnaltraxon': 1, 'underfe': 2, 'innappri': 1, 'dulcolox': 1, 'frap': 1, 'manaul': 1, 'uation': 1, 'starvat': 2, 'biweekli': 1, 'hypopotassemia': 1, 'topamax': 2, 'notabley': 1, \"'re\": 1, 'ouch': 1, 'confound': 1, 'dilitiazem': 1, 'ato': 1, 'caregroup': 1, 'addiiton': 1, 'equilib': 1, 'cardioembol': 1, 'chlorosept': 1, 'cghc': 1, 'requilibri': 1, 'minimz': 1, 'ocnsid': 1, 'critial': 1, 'subcrit': 1, 'partway': 1, 'lasixc': 1, 'enterocol': 1, 'dissimilar': 1, 'indistinguish': 1, 'hemorrhoidectomi': 1, 'checkbook': 1, 'hsl': 1, 'dietitian': 1, 'dysambul': 1, 'urologist': 1, 'cholecystisit': 1, 'lasdyt': 1, 'randitin': 1, 'fuel': 1, 'hint': 1, 'vibrat': 2, 'reexamin': 2, 'abraid': 1, 'tirtrat': 1, 'trazadonea': 1, 'brielli': 1, 'pip^^': 1, 'precautionari': 1, 'fbmp': 1, 'mysteri': 1, 'entrap': 1, 'errand': 1, 'lenezolid': 1, 'freelanc': 1, 'interspers': 2, 'cutaen': 1, 'snu': 1, 'feedng': 1, 'mwedic': 1, 'xfuse': 1, 'sidenafil': 1, 'prosac': 1, 'intiub': 1, 'irrtiat': 1, 'rind': 1, 'sprint': 2, 'peribronchovasc': 1, 'milkshak': 2, 'slidenafil': 1, 'previs': 2, 'aurv': 1, 'pnm': 1, 'propolol': 1, 'mull': 1, 'psychopharm': 1, 'analyst': 1, 'tedium': 1, 'radiol': 1, 'albican': 2, 'thoracentes': 1, 'stoic': 1, 'ethmoidali': 1, 'colas': 1, 'throracentesi': 1, 'editor': 1, 'reigimen': 1, 'evaluatw': 1, 'dexm': 1, 'ubw': 2, 'ventilatit': 1, 'haemophilu': 1, 'calmin': 1, 'multivit': 2, 'cacecth': 1, 'electrolyet': 1, 'barorauma': 1, \"cib'\": 1, 'impir': 1, 'papul': 2, 'tachyp': 1, 'txt': 1, 'eater': 1, 'treatabl': 2, 'drrock': 1, 'triamcinolin': 1, 'defalt': 1, 'thoracensi': 1, 'ecanazol': 1, 'peco': 1, 'vasodialtor': 1, 'dor': 1, 'pessi': 1, 'nutropho': 1, 'labtap': 1, 'rrin': 1, 'eosinophillia': 1, 'fovea': 1, 'ritilan': 1, 'corazepan': 1, 'psychotherapist': 1, 'casemgmt': 1, 'tchypnic': 1, 'jungian': 1, 'blucan': 1, 'murki': 1, 'perrir': 1, 'psychologist': 1, 'plseval': 1, 'psychopharmocolog': 1, 'enterococci': 1, 'mgbld': 1, 'manometri': 1, 'sliglhtli': 1, 'hypoallergen': 1, 'thoracantesi': 1, 'unbleach': 1, 'geodon': 1, 'peribroncholar': 1, 'vom': 1, 'anxiolysi': 1, 'comfotali': 1, 'incorrectli': 1, 'amountsof': 1, 'estol': 1, 'saquinavir': 1, 'iloson': 1, 'venit': 1, 'koh': 1, 'intercos': 1, 'achieiv': 1, 'afp': 1, 'uvolemia': 1, 'remedi': 1, 'devlop': 1, 'amyotroph': 1, 'cenral': 1, 'myelolysi': 1, 'repositin': 1, 'alf': 2, 'cephlic': 1, 'attn': 1, 'bradykinesia': 1, 'diert': 1, 'cpbt': 1, 'adeuat': 1, 'upc': 2, 'task': 2, 'dulcoloax': 1, 'epic': 1, 'orthonpea': 1, 'inquiz': 1, 'mindo': 1, 'rafib': 1, 'mmg': 1, 'mepalex': 1, 'girth': 1, 'tumb': 1, 'tympanit': 1, 'plf': 1, 'ilu': 1, 'indescret': 1, 'closureat': 1, 'dexter': 2, 'xct': 1, 'milranon': 1, 'lsca': 1, 'ecasa': 1, 'kefzol': 1, 'createn': 1, '^cre': 1, 'arom': 1, 'presurg': 1, 'polyval': 2, 'pulmoray': 1, 'mue': 2, 'velopharyng': 1, 'addntl': 1, 'explant': 1, 'rept': 1, 'ketalac': 1, 'lasixd': 1, 'chlortahlidon': 1, 'andxiou': 1, 'klonipen': 1, 'hctat': 1, 'aryepiglott': 1, 'preferr': 1, 'augementin': 1, 'masspro': 1, 'repositionpt': 1, 'tamilfu': 1, 'freundii': 1, 'unclean': 1, 'bur': 1, 'reistant': 1, 'discontd': 1, 'uco': 1, 'oxycoceon': 1, 'fai': 1, 'hytpertens': 1, 'citrobactor': 1, 'unreport': 1, 'minimla': 1, 'solument': 1, 'presidex': 1, 'citrobact': 1, 'nephtotoxin': 1, 'systemat': 1, 'angiti': 1, 'packyear': 1, 'parplegia': 1, 'basesabg': 1, 'cae': 1, 'tittrat': 1, 'understan': 1, 'alkalod': 1, 'compliact': 1, 'notablw': 1, 'placemen': 1, 'beselin': 1, 'arytenoid': 1, 'floppi': 1, 'inexsuffal': 1, 'porpofol': 1, 'qafternoon': 1, 'deinf': 1, 'iam': 1, 'flouroquinolon': 1, 'turnaround': 1, 'senit': 1, 'symptathet': 1, 'reitub': 1, 'akskasj': 1, 'insufl': 1, 'proprol': 1, 'prevsiou': 1, 'xpeep': 1, 'ntx': 2, 'gentamyin': 1, 'binocular': 1, 'sevret': 1, 'collis': 2, 'wmay': 1, 'chlorthalidon': 1, 'autodiurs': 1, 'agenda': 1, 'loer': 1, 'chlorthiadon': 1, 'turbin': 1, 'wetter': 1, 'levph': 1, 'oxybutnin': 1, 'coac': 1, 'imroov': 1, 'arthir': 1, 'schd': 2, 'fluroquinolon': 2, 'unobstruct': 1, 'appeasr': 1, 'seoncdray': 1, 'viusliz': 1, 'vasculopath': 1, 'delat': 1, 'llleffus': 1, 'hyrdalazin': 1, 'systolicali': 1, 'hyperfus': 1, 'relart': 1, 'nafficillin': 1, 'suctionnig': 1, 'tympanet': 2, 'soputum': 1, 'cmmaureen': 1, 'aesthesia': 1, 'mnot': 1, 'vanomycin': 1, 'descquamatin': 1, 'gmca': 1, 'tors': 1, 'fenatnyl': 1, 'semiloos': 1, 'elec': 1, 'howevr': 1, 'intrvascular': 1, 'unalb': 1, 'shoift': 1, 'monitoir': 1, 'moniotir': 1, 'eysterday': 1, 'ertyhemat': 1, 'trolyt': 1, 'yedterday': 1, 'consisten': 1, 'trunkal': 1, 'eucerin': 1, 'specific': 1, 'dsay': 1, 'lactobacillu': 3, 'respira': 1, 'derma': 1, 'tansient': 1, 'contribnut': 1, 'accetp': 1, 'exfoli': 1, 'albuminemia': 1, 'spontanes': 1, 'pede': 1, 'vential': 1, 'gmmg': 1, 'infutur': 1, 'sett': 2, 'ocmv': 1, 'msn': 1, 'conern': 1, 'probiot': 1, 'overdistent': 1, 'upop': 1, 'conscent': 1, 'uncompromis': 1, 'rete': 1, 'cefipm': 1, 'conditon': 1, 'aroud': 1, 'contt': 1, 'misconcept': 1, 'hower': 1, 'monitir': 1, 'eucarin': 1, 'hemid': 1, 'hydrocerin': 1, 'sto': 1, 'mgsulf': 1, 'cacet': 1, 'fluricason': 1, 'lifelong': 1, 'mirtazepin': 2, 'serotyp': 2, 'propriat': 1, 'malig': 2, 'bromchial': 1, 'colc': 1, 'sufflat': 1, 'sherriff': 1, 'npleas': 1, 'grnd': 1, 'gstain': 1, 'toasess': 1, 'movementx': 1, 'kernel': 3, 'interdigit': 2, 'exotropia': 1, 'amand': 1, \"ble'\": 2, 'midazalam': 1, 'eft': 1, 'largevolum': 1, 'multivitiamin': 1, 'apprear': 1, 'methpr': 1, 'broncu': 1, 'enzymat': 1, 'methypr': 1, 'zosym': 1, 'plau': 1, 'idid': 1, 'commensur': 2, 'wheze': 1, 'immuno': 1, 'globulin': 1, 'gravitiy': 1, 'shear': 1, 'bias': 1, 'omin': 1, 'nonprogress': 2, 'anitcoag': 1, 'bandermia': 1, 'trigemineni': 1, 'recoment': 1, 'amikican': 1, 'meropenom': 1, 'multifactoir': 1, 'dermatom': 1, 'responsiv': 1, 'allyvn': 1, 'abluterol': 1, 'contramin': 1, 'flexocel': 1, 'decubi': 2, 'hemodiaylsi': 1, 'protacol': 1, 'math': 1, 'envioron': 1, 'lymphoplasmoct': 1, 'paradoxu': 2, 'wakler': 1, 'tapin': 1, 'hypotn': 2, 'malt': 1, 'terrifi': 1, 'persuad': 1, 'lympoma': 1, 'reprogram': 1, 'ddi': 1, 'palpitaiton': 1, 'satellit': 2, 'clote': 1, 'vastcular': 1, 'obliteraion': 1, 'additioanlli': 1, 'anioplasti': 1, 'revsion': 1, 'lymphoid': 1, 'fxnal': 1, 'cytogenet': 1, 'sash': 1, 'pleurex': 2, 'parodoxu': 1, 'slack': 1, 'renali': 1, 'hypercalcem': 1, 'etio': 2, 'dbcd': 1, 'anticoaul': 1, 'levsin': 1, 'rhoncouru': 1, 'hemiparet': 1, 'jplacement': 1, 'incras': 1, 'pneuonia': 1, 'refin': 3, 'gk': 1, 'amn': 1, 'hemangiomata': 1, 'acetaminoph': 1, 'doxylam': 1, 'flexeril': 1, 'mantain': 2, 'signfiic': 1, 'cyclobenzaprin': 1, 'murphi': 1, 'brachicephal': 1, 'bochdalek': 1, 'pgr': 1, 'pulsat': 1, 'mute': 1, 'consul': 2, 'meningitidi': 1, 'compos': 1, 'hindi': 1, 'usa': 2, 'contimin': 1, 'sectrion': 1, 'normalwithout': 1, 'neisseria': 1, 'fould': 1, 'player': 1, 'phenobard': 1, 'babinski': 1, 'ppeg': 1, 'ooob': 1, 'pgtube': 1, 'reimburs': 1, \"dep't\": 1, 'pineal': 2, 'dispers': 1, 'dialect': 1, 'meningid': 1, 'poba': 1, 'hepatotoxi': 1, 'palvix': 1, 'cite': 1, 'cmpi': 1, 'icc': 1, 'accru': 1, 'farenheit': 1, 'neisseiria': 1, 'reactant': 2, 'instabilti': 1, 'prx': 1, 'somnel': 1, 'stiffman': 1, 'anaphi': 1, 'dizepam': 1, 'hpyotens': 1, 'musckl': 1, 'tablespoon': 2, 'tussilon': 1, 'hempotysi': 1, 'african': 1, 'buproprion': 1, 'hemopysi': 1, 'preview': 1, 'intraparenchyma': 1, 'magarw': 2, 'txcf': 1, 'pnemothorax': 1, \"it'\": 1, 'concuss': 1, 'chadashvili': 1, 'hemopneumatocyst': 1, 'peripartum': 1, 'shorntess': 1, 'concomitantli': 1, 'fnh': 2, 'lumpect': 1, 'falcin': 1, 'szm': 1, 'rmca': 1, 'subfalcin': 1, 'dminant': 1, 'appearsto': 1, 'lymphomat': 1, 'trabecular': 1, 'ischium': 1, 'preoccupi': 1, 'masslik': 1, 'quikli': 1, 'periumbil': 2, 'persistec': 1, 'attebnd': 1, 'periextub': 1, 'simethacon': 1, 'celsiu': 1, 'dorm': 1, 'obta': 1, 'exbuat': 1, 'triat': 1, 'aformet': 1, 'normotensv': 1, 'ceftra': 1, 'clavic': 1, 'yogart': 1, 'includec': 1, 'hac': 1, 'familu': 1, 'miscommun': 1, 'shiift': 1, 'adjit': 1, 'fuconazol': 1, 'lacross': 1, 'bronchosocpi': 1, 'cot': 1, 'fulconazol': 1, 'lpicc': 1, 'taccypn': 2, 'zyprex': 1, 'aiway': 1, 'ablil': 1, 'miconzol': 1, 'nutritin': 1, 'majorli': 1, 'cextriaxon': 1, 'malai': 1, 'backgroun': 1, 'navalbin': 1, 'maineten': 1, 'dyspnia': 1, 'nopain': 1, 'bipass': 1, 'pyuria': 3, 'immunochromogen': 1, 'patientlipitor': 1, 'hgba': 2, 'rjab': 2, 'blend': 1, 'perifoc': 1, 'woren': 1, 'transcrib': 1, 'excert': 1, 'suv': 2, 'mel': 1, 'ataxia': 2, 'explicitli': 2, 'philosophi': 1, 'miarlex': 1, 'broaod': 1, 'calenadar': 1, 'pnuemon': 1, 'miralex': 1, 'voluem': 1, 'diffiulti': 1, 'gound': 1, 'ventliat': 1, 'lethal': 1, 'tonsillectomi': 1, 'incur': 1, 'comensur': 1, 'gingiv': 1, 'anesthia': 1, 'heparinoid': 1, 'hfm': 1, 'etoposid': 1, 'hopitilaz': 1, 'starl': 1, 'withtout': 1, 'sympathi': 1, 'rchf': 1, 'losmap': 1, 'ostia': 1, 'situationclip': 1, 'presacr': 1, 'intestiti': 1, 'pnaeumomia': 1, 'tolterodin': 1, 'ctc': 1, 'intracerebellar': 1, 'optison': 3, 'proximmali': 1, 'oncern': 1, 'periampullari': 1, 'pse': 1, 'lethari': 1, 'asso': 1, 'udomona': 1, 'nere': 1, 'downhil': 1, 'omezprazol': 1, 'setti': 1, 'isoton': 1, 'earlyy': 1, \"alzheimer'\": 1, 'misestim': 1, 'carvidolol': 1, 'amputaton': 1, 'seropquel': 1, 'inpneumonia': 1, 'rag': 1, 'delierum': 1, 'grapefruit': 1, 'nausa': 1, 'mrcp': 2, 'asm': 1, 'proteinac': 2, 'repositioningof': 1, 'craniocerv': 1, 'scleroderma': 2, 'brodoefel': 1, 'pretracha': 1, 'iac': 1, 'deveat': 1, 'fascial': 1, 'recol': 1, 'drainaig': 1, 'pharaynx': 1, 'resolu': 1, 'pulmona': 1, 'mtt': 1, 'rkcb': 2, 'precentr': 1, 'ctp': 1, 'gratitud': 1, 'defeat': 1, 'discouragr': 1, 'diconstinu': 1, 'unhappi': 1, 'highlight': 1, 'aftet': 2, 'aphagia': 1, 'acknowledeg': 1, 'mirabili': 1, 'worsesn': 1, 'acidem': 1, 'olgivi': 1, 'isosourc': 2, 'subglot': 1, 'olgilvi': 1, 'renarrow': 1, 'consenu': 1, 'combat': 1, 'drag': 1, 'outreach': 1, 'ronchouru': 1, 'supratheraopeut': 1, 'pneumotosi': 1, 'meplex': 1, 'cefe': 1, 'mbi': 1, 'ramitidin': 1, 'aminsom': 1, 'pericari': 1, 'itraconazol': 1, 'opaticit': 1, 'hisoto': 1, 'oseltamivr': 1, 'precut': 1, 'andmoist': 1, 'muffl': 1, 'canc': 1, 'resolev': 1, 'cerruloplasmin': 1, 'circardian': 1, 'incom': 1, 'hyperphophatemia': 1, 'insilun': 1, 'hypnot': 1, 'prussur': 1, 'procedurel': 1, 'buckl': 2, 'swine': 1, 'inaud': 1, 'denerv': 1, 'rneal': 1, 'aluminum': 1, 'sural': 1, 'maxillori': 1, 'olu': 1, 'unspeci': 1, 'dermatotomi': 1, 'cholecystisi': 1, 'athough': 1, 'elat': 1, 'lidaocain': 1, 'lidocaint': 1, 'guaifenisen': 1, 'oscil': 1, 'cavaatri': 1, 'apn': 1, 'aspirgillu': 1, 'speicat': 1, 'pleae': 1, 'influenz': 2, 'afl': 1, 'sevalem': 1, 'trachestomi': 1, 'electromyographi': 1, 'cholecyts': 1, 'fespiratori': 1, \"le'\": 1, 'difficl': 1, 'cxx': 1, 'advanbc': 1, 'gauic': 1, 'voicemail': 1, 'gerontolog': 2, 'mgd': 1, 'mold': 2, 'intermediari': 1, 'dff': 1, 'abbx': 1, 'sensitivitei': 1, 'tosay': 1, 'tnd': 1, 'keayxal': 1, 'maibor': 1, 'cvhh': 1, 'cammnd': 1, 'transist': 1, 'phelobotomi': 1, 'signiticantli': 1, 'lansprazol': 1, 'tachypnoea': 1, 'rhab': 1, 'hydrox': 1, '^sedat': 1, 'lansoprosol': 1, 'tunel': 1, 'hypoterm': 1, 'encouragec': 1, 'bradycardi': 1, 'leukocyto': 1, 'treshold': 1, 'aloud': 1, 'aluminium': 1, 'benterobact': 1, 'commnd': 1, 'ccv': 1, 'consold': 1, 'patientzosyn': 1, 'wjll': 1, 'straigh': 1, 'lund': 1, 'tobro': 1, 'doff': 1, 'panlobar': 1, 'dexreas': 1, 'lovul': 1, 'consolidationi': 1, 'steepli': 1, 'preval': 1, 'zygoma': 1, 'wooden': 1, 'monasteri': 1, 'disshelvel': 1, 'contingu': 1, 'bibsilar': 1, 'pelvicalic': 1, 'billroth': 1, 'fisula': 1, 'psbo': 1, 'colorect': 1, 'upstream': 1, 'undistend': 1, 'goo': 1, 'oversewn': 1, 'vagotomi': 1, 'antrectomi': 1, 'dieat': 1, 'macrobid': 1, 'emypema': 1, 'meniscu': 1, 'gastroenterostomi': 1, 'ano': 2, 'uncin': 1, 'prostatomegali': 1, 'epiphren': 1, 'oment': 1, 'monitror': 1, 'nsmall': 1, 'cin': 1, 'drinkl': 1, 'musculoskel': 1, 'ttherapi': 1, 'monophon': 2, 'insufficieni': 1, 'undecid': 1, 'agr': 1, 'rteam': 1, 'hypofunct': 1, 'pneumoectomi': 1, 'nay': 1, 'xanthalesma': 2, 'paraceliac': 1, 'sessioin': 1, 'angigoraphi': 1, 'porb': 1, 'scopolimin': 1, 'quenn': 1, 'queani': 1, 'wenchbach': 1, 'bacillu': 2, 'lmca': 1, 'subconjuctiv': 1, 'queen': 1, 'neosinephrin': 1, 'extubalt': 1, 'ccontinu': 1, 'examinedv': 1, 'actinomycosi': 1, 'iniat': 1, 'percentag': 1, 'pronosi': 1, 'coronori': 1, 'withot': 1, 'rsi': 1, 'ascul': 1, 'rhilar': 1, 'zaroxylin': 1, 'ccfree': 1, 'actinomyc': 1, 'medisastinoscopi': 1, 'invovl': 2, 'sysolt': 1, 'celtic': 1, 'grumpi': 1, 'queeni': 1, 'nicknam': 1, 'consultatoin': 1, 'commmun': 1, 'rxt': 1, 'metolamin': 1, 'metolazin': 1, 'pneumectomi': 1, 'atorva': 1, 'subconjunctiv': 1, 'microadenoma': 1, 'pallit': 1, 'mediastinoscopi': 2, 'rast': 1, 'abiopsi': 1, 'wsasstent': 1, 'beceaus': 1, 'testicular': 2, 'ransfer': 1, 'gvh': 1, 'datasheet': 1, 'awka': 1, 'necessri': 1, 'nscl': 1, 'dependen': 1, 'rvedp': 1, 'iimpress': 1, 'llnp': 1, 'paciti': 1, 'hypotenisv': 1, 'singific': 1, 'supplment': 2, 'bhc': 1, 'adentul': 1, 'pathophysiolog': 2, 'tatient': 1, 'absens': 1, 'caphosol': 1, 'medco': 1, 'retail': 2, 'patho': 1, 'indewpend': 1, 'bcb': 1, 'interlaminar': 1, 'nasophargyng': 1, 'neutrpeni': 1, 'biphenotyp': 1, 'accredo': 1, 'tenabl': 1, 'galleria': 1, 'ppo': 1, 'poorer': 1, 'leukem': 1, 'feder': 1, 'dinitrit': 1, 'isodil': 1, 'gerim': 1, 'hazzard': 1, 'reinfors': 1, 'fequenc': 1, 'deficet': 1, 'vot': 1, 'capg': 1, 'cefpodox': 1, 'demonstrat': 1, 'monintor': 1, 'mrsg': 1, 'discsuss': 1, 'echhymosi': 1, 'cepifim': 1, 'eicu': 1, 'grandduaght': 1, 'hypernateremia': 1, 'asian': 1, 'hael': 1, 'nosocmi': 1, 'srcotal': 1, 'deseryl': 1, 'failurepleas': 1, 'keen': 1, 'swap': 1, 'daqi': 1, 'haldolo': 1, 'hypercoagu': 1, 'ronchu': 1, 'craniocaud': 2, 'lgi': 1, 'oncot': 1, 'fentayl': 1, 'producint': 1, 'amlopidin': 2, 'vasalin': 1, 'scren': 1, 'tavchypnea': 1, 'inihibit': 1, 'adventit': 1, 'countershock': 1, 'fucntion': 1, 'nutrtit': 1, 'bibpap': 1, 'vitk': 1, 'ctm': 2, 'coolig': 1, 'chlrohexidin': 1, 'trando': 1, 'lgib': 1, 'menisc': 1, 'antiphospholid': 1, 'rrrr': 1, 'nned': 1, 'carbamazapin': 1, 'follicul': 1, 'roover': 1, 'marriag': 1, 'redman': 1, 'dipyrimadol': 1, 'antigoagul': 1, 'migran': 1, 'clutter': 1, 'nembut': 1, 'nonblanch': 1, 'dipyridimol': 1, 'trendalapril': 1, 'pnet': 1, 'evalyu': 1, 'addiion': 1, 'neuroectoderm': 1, 'atx': 1, 'rexray': 1, 'intabut': 1, 'piic': 1, 'parietooccipit': 1, 'tnding': 1, 'audbil': 1, 'foolowup': 1, 'trachael': 1, 'neeb': 1, 'racim': 1, 'ureterocel': 1, 'circumfirenti': 1, 'multisept': 1, 'underdistent': 1, 'nonemerg': 1, 'benztropin': 1, 'worseniong': 1, 'scallop': 1, 'bronchioalveolar': 2, 'phareng': 1, 'neuropsych': 1, 'risperdon': 1, 'rhnochor': 1, 'resperidon': 1, 'mediasin': 1, 'diffuss': 1, 'hypovelem': 1, 'intuib': 1, 'soulmedrol': 1, 'azithromcin': 1, 'weigt': 1, 'deyhdrat': 1, 'maintianedencourag': 1, 'lunesta': 1, 'orer': 1, 'tachypnaec': 1, 'superolater': 1, 'dypena': 1, 'periprosthet': 1, 'porto': 1, 'macronodular': 1, 'artial': 1, 'immunocpmpromis': 1, 'mammari': 1, 'periappendic': 1, 'atret': 1, 'discetomi': 1, 'leukesteras': 1, 'dydrat': 1, 'lugn': 1, 'ceasarin': 1, 'pneoumonia': 1, 'dominantli': 1, 'methocarbamol': 1, 'edmea': 1, 'anerusym': 1, 'pannel': 1, 'hasa': 1, 'spasma': 1, 'echinococc': 1, 'liquefi': 1, 'mxak': 1, 'parot': 2, 'assumo': 1, 'ketonazol': 1, 'acanthosi': 1, 'incipi': 1, 'alchohol': 1, 'recipt': 2, 'maggot': 1, 'cashier': 2, 'nigrican': 1, 'periscrot': 1, 'witdraw': 1, 'intracarda': 1, 'tpp': 1, 'consilid': 1, 'lej': 1, 'spontatn': 1, 'diomox': 1, 'ranch': 1, 'gicven': 1, 'swaloow': 1, 'nauseu': 1, 'stiumul': 1, 'dorsiflex': 1, 'tetrolog': 1, 'iivi': 1, 'apl': 1, 'rvot': 1, 'sell': 1, 'crisper': 1, 'afebrilex': 1, 'ateletasi': 1, 'factt': 1, 'ptpexp': 1, 'anticardiolipin': 1, 'chearlead': 1, 'fallot': 1, 'anxierti': 1, 'ertapenem': 2, 'tetralog': 1, 'collectioin': 1, 'wqean': 1, 'microsheath': 1, 'hydrocel': 1, 'testi': 1, \"fournier'\": 1, 'gliosi': 1, 'monophas': 1, 'gangeren': 1, 'ventricukar': 1, 'epididymi': 1, 'cfa': 2, 'fournier': 1, 'fronm': 1, 'fuzzi': 1, 'barrocat': 1, 'pleasnatli': 1, 'absecess': 1, 'shotti': 1, 'lhr': 1, 'admssion': 1, 'terrigori': 1, 'mph': 1, 'claritin': 1, 'osteosrthr': 1, 'gulp': 1, 'anterolatrer': 1, 'suspicisi': 1, 'hospitalist': 1, 'neckles': 1, 'rosari': 2, 'nexium': 1, 'velcro': 1, 'perserv': 1, 'beed': 1, 'pendent': 1, 'zoraxolyn': 1, 'hyperesthesia': 1, 'vancomyin': 1, 'bilirubinemia': 1, 'script': 1, 'valvulopathi': 1, 'lingua': 1, 'nonpurul': 1, 'lim': 2, 'seborrh': 1, 'hel': 1, 'respiraotyr': 1, 'acetozolamid': 1, 'mistook': 1, 'nasaltrach': 1, 'lyric': 1, 'aifib': 1, 'aifb': 1, 'encelopathi': 1, 'ethylsuccin': 1, 'narcosi': 1, 'sebhorr': 1, 'macrodantin': 1, 'leukemi': 1, 'hemorrhioid': 1, 'unamen': 1, 'ptand': 1, 'palliatv': 1, 'actonel': 2, 'pericaridi': 1, 'renin': 1, 'identili': 1, 'tohomethat': 1, 'miscovascular': 1, 'ifptmakesit': 1, 'simpathet': 1, 'andhousestaff': 1, 'pseudohyperkalemia': 1, 'recordsibandron': 1, 'aldosteron': 1, 'confirmatori': 1, 'paracardiaocentesi': 1, 'vaginoplasti': 1, 'risedron': 1, 'tinnitu': 1, 'dyssynchroni': 1, 'nonenlarg': 1, 'unfinish': 1, 'lfurosemid': 1, 'neuropsychiatr': 1, 'balit': 1, 'gerentolog': 1, 'multiinfact': 1, 'escherichia': 1, 'overshadow': 1, 'lacuna': 1, 'ascult': 1, 'mandabl': 1, 'coin': 1, 'economist': 1, 'german': 1, 'wwii': 1, 'republ': 1, 'youth': 1, 'emigr': 1, 'silica': 1, 'transbronch': 1, 'retak': 1, 'madiastinl': 1, 'traceabl': 1, 'dexemedetomidin': 1, 'transbronchi': 1, 'epicent': 1, 'incldu': 1, 'fft': 1, 'ttransit': 1, 'rtigid': 1, 'odonyphagia': 1, 'ebu': 1, 'fromprevi': 1, 'aor': 1, 'reread': 1, 'histolog': 1, 'capitol': 1, 'ppiv': 1, 'mupirocin': 1, 'azirthomycin': 1, 'nuchal': 1, 'quadriparesi': 1, 'mam': 1, 'petit': 1, 'auop': 2, 'carbamazepin': 1, 'diganosedmr': 1, 'percipat': 1, 'contol': 1, 'craclk': 1, 'liquidsand': 1, 'significnat': 1, 'irregluari': 1, 'pneumovaccin': 1, 'increasedto': 1, 'initr': 1, 'historyof': 1, 'previosli': 1, 'periord': 1, 'hemplegia': 1, 'venlafaxin': 2, 'shor': 1, 'trasud': 1, 'underfeed': 1, 'depressoin': 1, 'dietet': 1, 'semc': 1, 'inconsistn': 1, 'emal': 1, 'sqcca': 1, 'thinf': 1, \"bp'\": 1, 'sqqca': 1, 'hunch': 1, 'jointli': 1, 'phenothiazin': 1, 'helmet': 1, 'casemanag': 1, 'atorv': 1, 'radat': 1, 'urinanalysi': 1, \"crohn'\": 1, 'resusc': 1, 'larnyng': 1, 'zyphoid': 1, 'worriesom': 1, 'synergist': 1, 'ganapentin': 1, 'latanoprost': 2, 'wetread': 1, 'pretest': 1, 'ahaustr': 1, 'acromimum': 1, 'pancolon': 1, 'tachacardia': 1, 'juxta': 1, 'hydroureteronephrosi': 1, 'eassess': 1, 'hepatosteatosi': 1, 'adomin': 1, 'tac': 1, 'hypoenhanc': 1, 'dyspena': 1, 'tracheobronchomalacea': 1, 'parainfluenz': 1, 'silicon': 1, 'collasp': 1, 'sitagliptin': 1, 'spalid': 1, 'maiinstem': 1, 'ofoadm': 1, 'resterd': 1, 'reinstat': 1, 'aspart': 1, 'mine': 1, 'coal': 1, 'toungu': 1, 'procrit': 1, 'otherday': 1, 'satbl': 1, 'ly': 1, 'dash': 1, 'kavitha': 1, 'compartment': 1, 'procliv': 1, 'triger': 1, 'mysolin': 1, 'trimethadion': 1, 'urimet': 1, 'llb': 1, 'phenacemid': 1, 'barbitur': 1, 'potient': 1, 'receivedo': 1, 'paramethadion': 1, 'antiocoagul': 1, 'outright': 1, 'xanthoma': 2, 'hydantoin': 1, 'clnical': 1, 'subcultur': 1, 'enteroccocu': 1, 'pericyst': 1, 'dillit': 1, 'cystoscop': 1, 'iliav': 1, 'follwup': 1, 'exerc': 1, 'osit': 1, 'tropn': 1, 'asbcess': 1, 'omprov': 1, 'superirli': 1, 'datng': 1, 'fusiform': 2, 'lafb': 1, 'abrubtli': 1, 'klmn': 1, 'reinfarct': 1, 'thett': 1, 'oxcodon': 1, 'gapapentin': 1, 'cellut': 1, \"rec'd\": 1, 'estrogen': 1, 'hyptertens': 1, 'apspir': 1, 'conjug': 1, 'ariway': 1, 'arrea': 1, 'dieulafoy': 1, 'dipyridamol': 2, 'tetrofosmin': 1, 'incostistantli': 1, 'envolv': 1, 'cauter': 1, 'takutsubo': 1, 'tasp': 1, 'ligamentum': 1, 'flavum': 1, 'edisyl': 1, 'poto': 1, 'orthastat': 1, 'autosct': 1, 'inspiss': 1, 'thrombyocytopenia': 1, 'analogu': 1, 'wrosen': 1, 'flurazepam': 1, 'dvtt': 1, \"hodgkin'\": 1, 'anthracot': 1, 'thug': 1, 'steep': 1, 'hemodyam': 1, 'hayfev': 1, 'sihgnific': 1, 'hashimoto': 1, 'mantl': 1, 'pautosct': 1, 'sctp': 1, 'dalman': 1, 'supradiaphragmat': 1, 'quantif': 1, 'unrecogn': 2, 'rsvg': 1, 'omc': 1, 'tigecyclin': 2, 'enterobacteriacea': 1, 'kleibsella': 2, 'throthi': 1, 'carbapenas': 1, 'etest': 1, \"cva'\": 1, 'lobotomi': 1, 'streptococci': 1, 'insular': 1, 'carbapenemas': 1, 'sti': 1, 'cvd': 1, 'intuab': 2, 'rtight': 1, 'staphylococcu': 1, 'cloget': 1, 'thoracoplasi': 1, 'choana': 1, 'subaort': 1, 'inferoposterolater': 1, 'suggetsin': 1, 'ossicl': 1, 'aspergilloma': 1, 'mde': 1, 'nitrogen': 1, 'tmpsmx': 1, 'stenothrophomona': 1, 'linguist': 1, 'blame': 1, 'annn': 1, 'stenotrophomona': 1, 'acom': 1, 'chronicallyt': 1, 'hemodyamn': 1, 'recspleas': 1, 'mitochondri': 1, 'ctapb': 1, 'metaboli': 1, 'anascarca': 1, 'sodabicarb': 1, 'intraadomin': 1, 'conduc': 1, 'lopinavir': 1, 'kkxa': 1, 'cytospin': 1, 'asciet': 1, 'parascentesi': 1, 'knw': 1, 'tatoo': 1, 'boewl': 1, 'thjicken': 1, 'carnitin': 1, 'drowsey': 1, 'tuirn': 1, 'bic': 1, 'paracenthesi': 1, 'nevirapin': 1, 'acetylcystien': 1, 'thymu': 1, 'ocp': 1, 'noteworthi': 2, 'intrafissur': 1, 'sclear': 1, 'retenion': 1, 'cichect': 1, 'antocoagul': 1, 'hbr': 1, 'cozar': 1, 'cantanes': 1, 'dextromethorphan': 2, 'dayquil': 1, 'hypocontractil': 1, 'awaitte': 1, 'secteion': 1, 'opth': 1, 'roe': 1, 'heoarin': 1, 'maxilo': 1, 'patl': 1, 'peridont': 1, 'adjus': 1, 'beief': 1, 'periodont': 1, 'sfyb': 1, 'toot': 1, 'exeryt': 1, 'currenli': 1, 'prostati': 1, 'counmadin': 1, 'contribtori': 1, 'sucrulf': 1, 'cheng': 1, 'unconvinc': 1, 'axiallyacquir': 1, 'suspict': 1, 'recombin': 1, 'whim': 1, 'driop': 1, 'likelyb': 1, 'rhionch': 1, 'signirficantli': 1, 'peridontatl': 1, 'cxed': 1, 'gtt^': 1, 'petrolatum': 1, 'accucheck': 2, 'forsmal': 1, 'fider': 1, 'dentistri': 1, 'tge': 1, 'shft': 1, 'lene': 1, 'throacic': 1, 'coumdin': 1, 'benaprotien': 1, 'exculud': 1, 'surroundiong': 1, 'paremet': 1, 'meropenenm': 1, 'pbt': 1, 'sunu': 1, 'paramt': 1, 'underpneumat': 1, 'coniz': 1, 'lossd': 1, 'predinison': 1, 'ondesetron': 1, 'prolactin': 1, 'nunintent': 1, 'fsh': 1, 'fibrmyalgia': 1, 'gasteoperesi': 1, 'levealbutenol': 1, 'gujarati': 1, 'intraadbomin': 1, 'hypochr': 1, 'oxgen': 1, 'fragili': 1, 'macroci': 1, 'isoenzym': 1, 'anisoci': 1, 'methacryl': 1, 'excoriati': 1, 'airwi': 1, 'oxytoca': 1, 'felxis': 1, 'bebrid': 1, 'opact': 1, 'cement': 1, 'pltclmp': 1, 'lovemox': 1, 'mresult': 1, 'beath': 1, 'exertionsbp': 1, 'likekli': 1, 'ischiorect': 1, 'enarterctomi': 1, 'wbxrt': 1, 'ezetimib': 1, 'afteroon': 1, 'afiib': 1, 'challebg': 1, 'avert': 1, 'che': 1, 'appoprio': 1, 'castgr': 1, 'nasuea': 1, 'hmed': 1, 'levitiracetam': 1, 'eosinphil': 1, 'vassopress': 1, 'preripher': 1, 'strongyloid': 1, 'reanl': 1, 'vasopress': 1, 'tufe': 1, 'dopler': 1, 'aranesp': 1, 'kpo': 1, 'afar': 1, 'paracardi': 1, 'forego': 1, 'counterproduct': 1, 'apg': 1, 'plesaent': 1, 'nerphrot': 1, 'cretainin': 1, 'nephrit': 1, 'cartid': 1, 'catert': 1, 'scarbosa': 1, 'antral': 1, 'thoarcentesi': 1, 'lens': 1, 'seqeuala': 1, 'eratosi': 1, 'actin': 2, 'precautionst': 1, 'dyeiodin': 1, 'earlob': 1, 'systolo': 1, 'endotoxin': 1, 'vasodilit': 1, 'cephalexinunknown': 1, 'flutison': 1, 'vancomycindiarrhea': 1, 'sensitiviti': 1, 'senil': 1, 'tand': 1, 'forarm': 1, 'ontiotropium': 1, 'neropenum': 1, 'synthesi': 1, 'lipopolysaccharid': 1, 'guiaac': 1, 'saber': 1, 'evidenv': 1, 'tygecyclin': 1, 'vasoopressor': 1, 'swith': 1, 'insta': 1, 'piccin': 1, 'purpura': 1, 'corus': 1, 'telphon': 1, 'avn': 2, 'suggesst': 1, 'prokaryot': 1, 'adequaut': 1, 'transan': 1, 'inhibitori': 1, 'elevat': 1, 'preoccup': 1, 'hypothairoid': 1, 'lampectomi': 1, 'herpez': 1, 'upload': 1, 'hypothes': 1, 'begain': 1, \"'overdos\": 1, 'skeletel': 1, 'rqmnt': 1, 'scopolomin': 1, 'neosyneph': 1, 'cleanout': 1, 'pules': 1, 'cheyennn': 1, 'recompt': 1, 'recomp': 1, 'heroic': 1, 'tbd': 1, 'fentanli': 1, 'venitlatori': 1, 'techinc': 1, 'duoerm': 1, 'nimenda': 1, 'honeymoon': 1, 'fibersoourc': 1, 'slowl': 1, 'innumber': 1, 'demonstart': 1, 'esophagel': 1, 'symptomatolog': 1, 'outing': 1, 'chron': 2, 'segmetn': 1, 'polar': 1, 'llr': 1, 'claudic': 2, 'thombosi': 1, 'thearapeut': 1, 'evh': 1, 'paient': 1, 'ccath': 1, 'cuplet': 1, 'firefight': 1, 'valvuloplasti': 1, '^pa': 1, 'recuss': 1, 'rgurgit': 1, 'pulsati': 1, 'marit': 1, 'beclomethason': 1, 'advir': 2, 'carvedi': 1, 'contracta': 1, 'replaced': 1, 'dipropion': 1, 'neostigmin': 1, 'detali': 1, 'cod': 1, 'exagerr': 1, 'rumbl': 1, 'thear': 1, 'carotidendarterectomi': 1, 'duresi': 1, 'dacron': 1, 'guaifenasin': 1, 'plasti': 1, 'swann': 1, 'oozi': 1, '^pvc': 1, 'consitist': 1, 'grascil': 1, 'supracondylar': 1, 'proton': 1, 'pdf': 1, 'kyphoscoloiosi': 1, 'cartridg': 1, 'hajdu': 1, 'multiplan': 1, 'perfect': 1, 'ongong': 1, 'aftermn': 1, 'blockshortli': 1, 'traheotomi': 1, 'senstit': 1, 'peniciliin': 1, 'lk': 1, 'nonurg': 2, 'judgment': 1, 'airpal': 1, 'hebreb': 2, 'presentdu': 1, 'ebsl': 1, 'interventionl': 1, 'psueudomona': 1, 'ealuat': 1, 'hoverjack': 1, 'ascept': 1, 'caleld': 1, 'hemidiaghragm': 1, 'sreen': 1, 'bradyarrhythmia': 1, 'resectionand': 1, 'san': 1, 'tather': 1, 'miltifacori': 1, 'attampt': 1, 'xcc': 1, 'pseuomona': 1, 'cpqp': 1, 'pantoiprazol': 1, 'eupnic': 1, 'txfer': 1, 'pseudoon': 1, 'upj': 1, 'thck': 1, 'isp': 1, 'cogwheel': 1, 'onccur': 1, 'gsurg': 1, 'inbteween': 1, 'dysfx': 1, 'nightim': 1, 'roght': 1, 'pylenephr': 1, 'acidifi': 1, 'nnon': 1, 'moonitor': 1, 'abhorr': 1, 'thromboemboli': 1, 'provok': 1, 'psuedamona': 1, 'levothyrox': 1, \"peg'\": 1, 'prmari': 1, 'infranod': 1, 'msec': 1, 'hovermatt': 1, 'neurmuscular': 1, 'aberrantli': 1, 'nephrosi': 1, 'pyramid': 1, 'calic': 1, 'subment': 1, 'follect': 1, \"still'\": 1, 'montgumeri': 1, 'trachealbronchomalacia': 1, 'scr': 1, 'trifluor': 1, 'venolfax': 1, 'diaghram': 1, 'meropemem': 1, 'receivingiv': 1, 'bronchiectai': 1, 'mycon': 1, 'atrorv': 1, 'slippag': 1, 'attrov': 1, 'methacholin': 1, 'omep': 1, 'videostriposcopi': 1, 'glotti': 1, 'vcd': 1, 'stroboscopi': 1, 'mainstay': 1, 'guaifensin': 1, 'omeprozol': 1, 'azithromcyin': 1, 'saf': 1, 'pexi': 1, 'unbchang': 1, 'swim': 1, 'chokehold': 1, 'depres': 1, 'career': 1, 'aspiri': 1, 'hypernatremiawith': 1, 'slig': 1, 'eavluat': 1, 'infet': 1, 'presentw': 1, 'periphr': 1, 'hypoplasia': 1, 'llow': 1, 'shx': 1, 'physicianclip': 1, 'catter': 1, 'positiona': 1, 'imppress': 1, 'slg': 1, 'antur': 1, 'tenosi': 1, 'amtter': 1, 'femora': 1, 'palin': 1, 'hecerebr': 1, 'hydrothrorax': 1, 'demeylin': 1, 'failiur': 1, 'decreeas': 1, 'resolvi': 1, 'dao': 1, 'bronchspasm': 1, 'cultprit': 1, 'anco': 1, 'squirmi': 1, 'evant': 1, 'attd': 1, 'tamoxifen': 1, 'cehst': 1, 'keratos': 1, 'nitrglycerin': 1, 'exacurb': 1, 'niacin': 1, 'nameda': 1, 'arousib': 1, 'kayexil': 1, 'vitreou': 1, 'fornic': 1, 'handwritten': 1, 'achalsia': 1, 'achalasia': 1, 'rehba': 1, 'lunvch': 1, 'conrol': 1, 'produt': 1, 'botox': 1, 'orpharyng': 1, 'shelf': 1, 'prespil': 1, 'overlod': 1, 'rln': 1, 'acinar': 1, 'agt': 1, 'sublobar': 1, 'embarrass': 1, 'virtu': 1, 'meadiastinoscopi': 1, 'mandira': 1, 'aereat': 1, 'fungoid': 1, 'pneumocephalu': 1, 'rxra': 1, 'angioedem': 1, 'neurocheck': 1, 'osteoarthtr': 1, 'ctcl': 1, 'erythroderm': 1, 'neurologici': 1, 'mycosi': 1, 'angioinvas': 1, 'pcabgx': 1, 'withcvl': 1, 'trochanter': 1, 'pulldown': 1, 'etz': 1, 'enchanc': 1, 'superifci': 1, 'laparascop': 1, 'interlock': 1, 'perivarcular': 1, 'seroma': 1, 'sarum': 1, 'muli': 1, 'latherg': 1, 'antierior': 1, 'fiberspourc': 1, 'chornz': 1, 'intraperitonea': 1, 'spigelian': 1, 'chonz': 1, 'hypercholestremia': 1, 'gwilliam': 1, 'cavieti': 1, 'extrus': 1, 'underdistens': 1, 'disarray': 1, 'aponeurosi': 1, 'tailur': 1, 'eed': 1, 'gad': 1, 'transuc': 1, 'colpo': 1, 'anaphlyaxi': 1, 'garden': 1, 'mucro': 1, 'colposcopi': 1, \"lemiere'\": 1, 'headacn': 1, 'anarob': 1, 'epidu': 1, 'somonol': 1, 'transduct': 1, 'extubu': 1, 'accomani': 1, 'thankyou': 1, 'cofluent': 1, 'immunofluoresc': 1, 'excus': 1, 'mexican': 1, 'substranti': 1, 'reportsh': 1, 'osaltamivir': 1, 'flagylcefipim': 1, 'multiofoc': 1, 'hmm': 1, 'couh': 1, 'fluctauat': 1, 'flucauat': 1, 'apperenli': 1, 'pateitn': 1, 'nasatrach': 1, 'repetet': 1, 'discon': 1, 'infer': 1, 'monitort': 1, 'ronchrou': 1, 'nasti': 1, 'qshift': 1, 'encouagr': 1, 'aphonia': 1, 'berath': 1, 'reddent': 1}}\n"
     ]
    }
   ],
   "source": [
    "print(note_appearance_counter)"
   ]
  },
  {
   "cell_type": "code",
   "execution_count": null,
   "metadata": {},
   "outputs": [],
   "source": []
  },
  {
   "cell_type": "code",
   "execution_count": null,
   "metadata": {},
   "outputs": [],
   "source": []
  },
  {
   "cell_type": "code",
   "execution_count": 39,
   "metadata": {},
   "outputs": [],
   "source": [
    "# # get hyper-paramters n_fold and threshold from user input\n",
    "n_fold = float(3)\n",
    "threshold = float(0.02)\n",
    "\n",
    "frequent_word_lists = {}\n",
    "factor = {}"
   ]
  },
  {
   "cell_type": "code",
   "execution_count": 40,
   "metadata": {},
   "outputs": [
    {
     "name": "stdout",
     "output_type": "stream",
     "text": [
      "pneumonia_dead has 11678 unique words!\n",
      "pneumonia_alive has 22572 unique words!\n",
      "finished making frequent words list for pneumonia_alive\n"
     ]
    }
   ],
   "source": [
    "\"\"\"function description:\n",
    "for each disease in note_appearance_counter\n",
    "    1. checks whether a word in disease file is frequent(frequency standard as defined by factor, n_fold, and threshold)\n",
    "    2. adds to frequent_word_list\n",
    "\"\"\"\n",
    "\n",
    "# def find_frequent_word(note_appearance_counter, frequent_word_lists, number_of_notes, factor, n_fold, threshold):\n",
    "\n",
    "# calculate normalizing factor for each disease\n",
    "note_sum = 0\n",
    "\n",
    "# Count from two labels\n",
    "for disease in number_of_notes:\n",
    "    note_sum += float(number_of_notes[disease])\n",
    "    \n",
    "for disease in number_of_notes:\n",
    "    factor[disease] = number_of_notes[disease] / note_sum\n",
    "\n",
    "# determine frequent word for each disease file\n",
    "for disease in note_appearance_counter:\n",
    "    frequent_word_lists[disease] = []\n",
    "\n",
    "    print(disease + \" has \" + str(len(note_appearance_counter[disease])) + \" unique words!\")\n",
    "\n",
    "    for word in note_appearance_counter[disease]:\n",
    "        \n",
    "        freq_check = True\n",
    "        for check_disease in note_appearance_counter:\n",
    "            \n",
    "            if not disease == check_disease:\n",
    "                if word in note_appearance_counter[check_disease]:\n",
    "                    if not (note_appearance_counter[disease][word] / note_appearance_counter[check_disease][word] / factor[disease] * factor[check_disease] > n_fold \\\n",
    "                        and note_appearance_counter[disease][word] > (number_of_notes[disease] * threshold)):\n",
    "\n",
    "                        freq_check = False\n",
    "                        break\n",
    "\n",
    "                else:\n",
    "                    if not (note_appearance_counter[disease][word] > n_fold and note_appearance_counter[disease][word] > (number_of_notes[disease] * threshold)):\n",
    "                        freq_check = False\n",
    "                        break\n",
    "        if freq_check:\n",
    "            frequent_word_lists[disease].append((word))\n",
    "            # Create a tuple of word and its count\n",
    "#             frequent_word_lists[disease].append((word, note_appearance_counter[disease][word]))\n",
    "\n",
    "        \n",
    "\n",
    "print(\"finished making frequent words list for \" + disease)"
   ]
  },
  {
   "cell_type": "code",
   "execution_count": 41,
   "metadata": {
    "scrolled": true
   },
   "outputs": [
    {
     "name": "stdout",
     "output_type": "stream",
     "text": [
      "1419.0\n",
      "{'pneumonia_dead': 0.17758985200845667, 'pneumonia_alive': 0.8224101479915433}\n"
     ]
    }
   ],
   "source": [
    "print(note_sum)\n",
    "print(factor)\n",
    "\n",
    "# number of notes\n",
    "# 58029.0\n",
    "# {'pneumonia_dead': 0.2049837150390322, 'pneumonia_alive': 0.7950162849609678}"
   ]
  },
  {
   "cell_type": "code",
   "execution_count": 42,
   "metadata": {
    "scrolled": true
   },
   "outputs": [
    {
     "name": "stdout",
     "output_type": "stream",
     "text": [
      "187\n",
      "112\n"
     ]
    }
   ],
   "source": [
    "print(len(frequent_word_lists['pneumonia_dead']))\n",
    "print(len(frequent_word_lists['pneumonia_alive']))"
   ]
  },
  {
   "cell_type": "code",
   "execution_count": 43,
   "metadata": {
    "scrolled": true
   },
   "outputs": [
    {
     "name": "stdout",
     "output_type": "stream",
     "text": [
      "{'pneumonia_dead': ['mottl', 'death', 'clinician', 'vasopressin', 'norepinephrin', 'arrest', 'paralyt', 'autopeep', 'dic', 'hypercapn', 'bicarbon', 'expir', 'hypothermia', 'anur', 'azotemia', 'profound', 'pea', 'arrang', 'suffer', 'clergi', 'phenylephrin', 'funer', 'cpr', 'recruit', 'pcv', 'refractori', 'unrespons', 'sluggish', 'gum', 'dk', 'dni', 'pinpoint', 'nonpurpos', 'cmo', 'dnr', 'mso', 'wish', 'levoph', 'priest', 'hypotent', 'option', 'pronounc', 'purpl', 'prognosi', 'dead', 'institut', 'grim', 'acv', 'bye', 'mortem', 'agreement', 'asystol', 'life', 'centimet', 'synch', 'peac', 'cathol', 'sync', 'surviv', 'duski', 'pulseless', 'suppport', 'defibril', 'vasopressor', 'corneal', 'agon', 'seriou', 'cvvhdf', 'acidot', 'pfr', 'deterior', 'deliv', 'rusti', 'vtach', 'crrt', 'cvvhd', 'hemothorax', 'cvvh', 'neosynephrin', 'ethic', 'elimin', 'levof', 'mtg', 'declin', 'hypotherm', 'maroon', 'unequ', 'pray', 'lc', 'among', 'hugger', 'cyanot', 'brb', 'pitressin', 'lw', 'ffp', 'bair', 'nahco', 'autopsi', 'bairhugg', 'zero', 'rabbi', 'town', 'syring', 'escal', 'motil', 'sml', 'discoordin', 'absorb', 'triadyn', 'paco', 'bank', 'morgu', 'norepi', 'neo', 'circuit', 'prayer', \"tf'ing\", 'unstabl', 'hunger', 'mind', 'dopamin', 'hung', 'polici', 'intiat', 'moan', 'cantones', 'palli', 'readdress', 'dobutamin', 'underneath', 'anuria', 'gurgl', 'hospic', 'platelet', 'oncologist', 'platlet', 'quadrent', 'oligur', 'core', 'gut', 'griev', 'cardiovert', 'twitch', 'cisatracurium', 'sacrament', 'plat', 'liw', 'crt', 'grave', 'heroic', 'occupi', 'struggl', 'opinion', 'gentamycin', 'icter', 'themselv', 'meaning', 'ardsnet', 'pplat', 'fibrinogen', 'tubular', 'sibl', 'vasoconstrict', 'gasp', 'hook', 'tran', 'realist', 'aricept', 'analgesia', 'dorsal', 'declar', 'dysynchron', 'sluggishli', 'prioriti', 'ipf', 'goodby', 'hemodynim', 'petechia', 'harm', 'underpenetr', 'ggt', 'led', 'pastor', 'chlorhex', 'inde', 'abnl'], 'pneumonia_alive': ['pleasant', 'commod', 'ambien', 'gait', 'chair', 'ambul', 'oob', 'lift', 'supervis', 'rm', 'splint', 'puff', 'breakfast', 'aox', 'db', 'lpm', 'lat', 'cup', 'foci', 'hyperintens', 'venti', 'laryng', 'chip', 'jejunum', 'plate', 'qtc', 'cloth', 'jewelri', 'wallet', 'money', 'dz', 'cash', 'signatur', 'redirect', 'behavior', 'zyprexa', 'pharyng', 'hilum', 'align', 'rehabilit', 'lotion', 'unassist', 'deflat', 'muir', 'passi', 'distanc', 'cg', 'rpe', 'macu', 'mrg', 'stair', 'motor', 'locomot', 'scab', 'probe', 'ntnd', 'olanzapin', 'mellitu', 'bottl', 'scar', 'captopril', 'pneumococc', 'gadolinium', 'magnevist', 'osa', 'im', 'forc', 'spiromet', 'incent', 'postop', 'seroquel', 'sensat', 'video', 'nectar', 'barium', 'asthma', 'sweat', 'amb', 'pivot', 'lightheaded', 'dizzi', 'endur', 'bromid', 'ctx', 'wfl', 'readmit', 'angri', 'paperwork', 'freeli', 'rigor', 'omeprazol', 'diaphoresi', 'solut', 'ppd', 'pneumothorac', 'silent', 'divis', 'gabapentin', 'aaox', 'habitu', 'vallecula', 'homogen', 'spirit', 'unavail', 'fatti', 'hive', 'tdi', 'echocardiogram', 'cdb', 'seat', 'videofluoroscopi', 'slice']}\n"
     ]
    }
   ],
   "source": [
    "print(frequent_word_lists)"
   ]
  },
  {
   "cell_type": "markdown",
   "metadata": {},
   "source": [
    "### 2. Co-occurrence generation\n",
    "FP-growth"
   ]
  },
  {
   "cell_type": "code",
   "execution_count": 44,
   "metadata": {},
   "outputs": [],
   "source": [
    "FREQUENT_WORD_LIST = frequent_word_lists['pneumonia_dead'] + frequent_word_lists['pneumonia_alive']"
   ]
  },
  {
   "cell_type": "code",
   "execution_count": 45,
   "metadata": {
    "scrolled": true
   },
   "outputs": [
    {
     "name": "stdout",
     "output_type": "stream",
     "text": [
      "\n",
      "word dictionary created!\n",
      "\n",
      "{'mottl': 1, 'death': 2, 'clinician': 3, 'vasopressin': 4, 'norepinephrin': 5, 'arrest': 6, 'paralyt': 7, 'autopeep': 8, 'dic': 9, 'hypercapn': 10, 'bicarbon': 11, 'expir': 12, 'hypothermia': 13, 'anur': 14, 'azotemia': 15, 'profound': 16, 'pea': 17, 'arrang': 18, 'suffer': 19, 'clergi': 20, 'phenylephrin': 21, 'funer': 22, 'cpr': 23, 'recruit': 24, 'pcv': 25, 'refractori': 26, 'unrespon': 27, 'sluggish': 28, 'gum': 29, 'dk': 30, 'dni': 31, 'pinpoint': 32, 'nonpurpo': 33, 'cmo': 34, 'dnr': 35, 'mso': 36, 'wish': 37, 'levoph': 38, 'priest': 39, 'hypot': 40, 'option': 41, 'pronounc': 42, 'purpl': 43, 'prognosi': 44, 'dead': 45, 'institut': 46, 'grim': 47, 'acv': 48, 'bye': 49, 'mortem': 50, 'agreement': 51, 'asystol': 52, 'life': 53, 'centimet': 54, 'synch': 55, 'peac': 56, 'cathol': 57, 'sync': 58, 'surviv': 59, 'duski': 60, 'pulseless': 61, 'suppport': 62, 'defibril': 63, 'vasopressor': 64, 'corneal': 65, 'agon': 66, 'seriou': 67, 'cvvhdf': 68, 'acidot': 69, 'pfr': 70, 'deterior': 71, 'deliv': 72, 'rusti': 73, 'vtach': 74, 'crrt': 75, 'cvvhd': 76, 'hemothorax': 77, 'cvvh': 78, 'neosynephrin': 79, 'ethic': 80, 'elimin': 81, 'levof': 82, 'mtg': 83, 'declin': 84, 'hypotherm': 85, 'maroon': 86, 'unequ': 87, 'pray': 88, 'lc': 89, 'among': 90, 'hugger': 91, 'cyanot': 92, 'brb': 93, 'pitressin': 94, 'lw': 95, 'ffp': 96, 'bair': 97, 'nahco': 98, 'autopsi': 99, 'bairhugg': 100, 'zero': 101, 'rabbi': 102, 'town': 103, 'syre': 104, 'escal': 105, 'motil': 106, 'sml': 107, 'discoordin': 108, 'absorb': 109, 'triadyn': 110, 'paco': 111, 'bank': 112, 'morgu': 113, 'norepi': 114, 'neo': 115, 'circuit': 116, 'prayer': 117, \"tf'ing\": 118, 'unstabl': 119, 'hunger': 120, 'mind': 121, 'dopamin': 122, 'hung': 123, 'polici': 124, 'intiat': 125, 'moan': 126, 'canton': 127, 'palli': 128, 'readdress': 129, 'dobutamin': 130, 'underneath': 131, 'anuria': 132, 'gurgl': 133, 'hospic': 134, 'platelet': 135, 'oncologist': 136, 'platlet': 137, 'quadrent': 138, 'oligur': 139, 'core': 140, 'gut': 141, 'griev': 142, 'cardiovert': 143, 'twitch': 144, 'cisatracurium': 145, 'sacrament': 146, 'plat': 147, 'liw': 148, 'crt': 149, 'grave': 150, 'heroic': 151, 'occupi': 152, 'struggl': 153, 'opinion': 154, 'gentamycin': 155, 'icter': 156, 'themselv': 157, 'mean': 158, 'ardsnet': 159, 'pplat': 160, 'fibrinogen': 161, 'tubular': 162, 'sibl': 163, 'vasoconstrict': 164, 'gasp': 165, 'hook': 166, 'tran': 167, 'realist': 168, 'aricept': 169, 'analgesia': 170, 'dorsal': 171, 'declar': 172, 'dysynchron': 173, 'sluggishli': 174, 'prioriti': 175, 'ipf': 176, 'goodbi': 177, 'hemodynim': 178, 'petechia': 179, 'harm': 180, 'underpenetr': 181, 'ggt': 182, 'led': 183, 'pastor': 184, 'chlorhex': 185, 'ind': 186, 'abnl': 187, 'pleasant': 188, 'commod': 189, 'ambien': 190, 'gait': 191, 'chair': 192, 'ambul': 193, 'oob': 194, 'lift': 195, 'supervi': 196, 'rm': 197, 'splint': 198, 'puff': 199, 'breakfast': 200, 'aox': 201, 'db': 202, 'lpm': 203, 'lat': 204, 'cup': 205, 'foci': 206, 'hyperinten': 207, 'venti': 208, 'laryng': 209, 'chip': 210, 'jejunum': 211, 'plate': 212, 'qtc': 213, 'cloth': 214, 'jewelri': 215, 'wallet': 216, 'money': 217, 'dz': 218, 'cash': 219, 'signatur': 220, 'redirect': 221, 'behavior': 222, 'zyprexa': 223, 'pharyng': 224, 'hilum': 225, 'align': 226, 'rehabilit': 227, 'lotion': 228, 'unassist': 229, 'deflat': 230, 'muir': 231, 'passi': 232, 'distanc': 233, 'cg': 234, 'rpe': 235, 'macu': 236, 'mrg': 237, 'stair': 238, 'motor': 239, 'locomot': 240, 'scab': 241, 'probe': 242, 'ntnd': 243, 'olanzapin': 244, 'mellitu': 245, 'bottl': 246, 'scar': 247, 'captopril': 248, 'pneumococc': 249, 'gadolinium': 250, 'magnevist': 251, 'osa': 252, 'im': 253, 'forc': 254, 'spiromet': 255, 'incent': 256, 'postop': 257, 'seroquel': 258, 'sensat': 259, 'video': 260, 'nectar': 261, 'barium': 262, 'asthma': 263, 'sweat': 264, 'amb': 265, 'pivot': 266, 'lighthead': 267, 'dizzi': 268, 'endur': 269, 'bromid': 270, 'ctx': 271, 'wfl': 272, 'readmit': 273, 'angri': 274, 'paperwork': 275, 'freeli': 276, 'rigor': 277, 'omeprazol': 278, 'diaphoresi': 279, 'solut': 280, 'ppd': 281, 'pneumothorac': 282, 'silent': 283, 'divi': 284, 'gabapentin': 285, 'aaox': 286, 'habitu': 287, 'vallecula': 288, 'homogen': 289, 'spirit': 290, 'unavail': 291, 'fatti': 292, 'hive': 293, 'tdi': 294, 'echocardiogram': 295, 'cdb': 296, 'seat': 297, 'videofluoroscopi': 298, 'slice': 299}\n"
     ]
    }
   ],
   "source": [
    "\"\"\"function description:\n",
    "generates frequent word set for the disease\n",
    "\"\"\"\n",
    "word_dict = {}\n",
    "word_id = 1\n",
    "stemmer = PorterStemmer()\n",
    "\n",
    "\n",
    "for word in FREQUENT_WORD_LIST:\n",
    "    if not word == \"WORD\":\n",
    "        word_dict[stemmer.stem(word.strip())] = word_id\n",
    "        word_id += 1\n",
    "             \n",
    "print(\"\\nword dictionary created!\\n\")\n",
    "print(word_dict)\n"
   ]
  },
  {
   "cell_type": "markdown",
   "metadata": {},
   "source": [
    "### Implementetion with python for FP_growth"
   ]
  },
  {
   "cell_type": "code",
   "execution_count": 67,
   "metadata": {
    "scrolled": true
   },
   "outputs": [
    {
     "name": "stderr",
     "output_type": "stream",
     "text": [
      "100%|██████████| 11895/11895 [01:13<00:00, 161.75it/s]\n",
      "  0%|          | 14/46134 [00:00<05:37, 136.60it/s]"
     ]
    },
    {
     "name": "stdout",
     "output_type": "stream",
     "text": [
      "FP growth input for pneumonia_dead generated!\n"
     ]
    },
    {
     "name": "stderr",
     "output_type": "stream",
     "text": [
      "100%|██████████| 46134/46134 [04:39<00:00, 164.83it/s]"
     ]
    },
    {
     "name": "stdout",
     "output_type": "stream",
     "text": [
      "FP growth input for pneumonia_alive generated!\n"
     ]
    },
    {
     "name": "stderr",
     "output_type": "stream",
     "text": [
      "\n"
     ]
    }
   ],
   "source": [
    "# http://rasbt.github.io/mlxtend/user_guide/frequent_patterns/fpgrowth/\n",
    "import os\n",
    "import operator\n",
    "from pathlib import Path\n",
    "from mlxtend.frequent_patterns import fpgrowth\n",
    "from mlxtend.preprocessing import TransactionEncoder\n",
    "import pandas as pd\n",
    "\n",
    "# ----\n",
    "def fp_growth_input_per_patient_python(disease_name, disease_df, word_dict, min_support, label):\n",
    "    \n",
    "    # For dataframe\n",
    "    patient_id_lst = []\n",
    "    patient_cooc_lst = []\n",
    "    patient_cooc_minsup_lst = []\n",
    "    patient_label_lst = []\n",
    "    patient_note_cnt = []\n",
    "    patient_feature_lst = []\n",
    "    patient_feature_idx_lst = []\n",
    "    \n",
    "    # --------------    \n",
    "    patient_id = -1\n",
    "    note_cnt = 0\n",
    "    patient_note_list = []\n",
    "    \n",
    "    # read line in from file (each line is one note)\n",
    "    for index, row in tqdm(disease_df.iterrows(), total=disease_df.shape[0]):\n",
    "        \n",
    "        # only regard certain type of notes\n",
    "        patient_id_check = int(row['SUBJECT_ID_x'])\n",
    "        note = re.sub(r'\\[\\*\\*(.*?)\\*\\*\\]|[_,\\d\\*:~=\\.\\-\\+\\\\/]+', ' ', row['TEXT'])\n",
    "        patient_word_set = set()\n",
    "    \n",
    "#         print(f\"patient_id_check: {patient_id_check}, patient_id: {patient_id}\")\n",
    "        # if patient id has changed, end sequence and start new sequence\n",
    "        if not patient_id == patient_id_check and not patient_id == -1:\n",
    "            te = TransactionEncoder()\n",
    "            te_ary = te.fit(patient_note_list).transform(patient_note_list)\n",
    "            df = pd.DataFrame(te_ary, columns=te.columns_)\n",
    "            df_itemsets = fpgrowth(df, min_support=min_support, use_colnames=True)\n",
    "            \n",
    "            cooc_tmp = []\n",
    "            cooc_minsup_tmp = []\n",
    "            cooc_feature_tmp = []\n",
    "            cooc_feature_idx_tmp = []\n",
    "            \n",
    "            for index, row in df_itemsets.iterrows():\n",
    "                if len(row['itemsets']) == 1:\n",
    "                    word = list(row['itemsets'])[0]\n",
    "                    min_sup = row['support']\n",
    "                    cooc_feature_tmp.append(min_sup)\n",
    "                    cooc_feature_idx_tmp.append(word)\n",
    "                    \n",
    "                if len(row['itemsets']) == 2:\n",
    "                    cooc_ = list(row['itemsets'])\n",
    "                    cooc_tmp.append(cooc_)\n",
    "                    cooc_minsup_tmp.append(row['support'])\n",
    "            \n",
    "#             for index, row in df_itemsets.iterrows():\n",
    "#                 if len(row['itemsets']) == 1:\n",
    "#                     word = list(row['itemsets'])[0]\n",
    "#                     min_sup = row['support']\n",
    "#                     if word not in word_dict_df:\n",
    "#                         word_dict_df[word] = min_sup\n",
    "                    \n",
    "#                 if len(row['itemsets']) == 2:\n",
    "#                     cooc_ = list(row['itemsets'])\n",
    "#                     cooc_tmp.append([[cooc_[0], word_dict_df[cooc_[0]]], [cooc_[1], word_dict_df[cooc_[1]]]])\n",
    "#                     cooc_minsup_tmp.append(row['support'])\n",
    "                    \n",
    "          \n",
    "            # Update glob lists\n",
    "            patient_id_lst.append(patient_id)\n",
    "            patient_cooc_lst.append(cooc_tmp)\n",
    "            patient_cooc_minsup_lst.append(cooc_minsup_tmp)\n",
    "            patient_label_lst.append(label)\n",
    "            patient_note_cnt.append(note_cnt)\n",
    "            \n",
    "            patient_feature_lst.append(cooc_feature_tmp)\n",
    "            patient_feature_idx_lst.append(cooc_feature_idx_tmp)\n",
    "            \n",
    "            # Reset local lists\n",
    "            patient_note_list = []\n",
    "            note_cnt = 0\n",
    "                    \n",
    "        # update patient id\n",
    "        patient_id = patient_id_check\n",
    "        tokenized_note = word_tokenize(note)\n",
    "        note_cnt += 1\n",
    "\n",
    "        # loop through each word in note to count word belonging to each disease\n",
    "        for word in tokenized_note:\n",
    "            stemmed_word = stemmer.stem(word.lower())       \n",
    "            if stemmed_word in word_dict:\n",
    "                    patient_word_set.add(stemmed_word)\n",
    "\n",
    "        templst = []\n",
    "        for word in patient_word_set:\n",
    "            templst.append(word)\n",
    "\n",
    "        if templst:\n",
    "            patient_note_list.append(templst)\n",
    "    \n",
    "    # Last patient info\n",
    "    te = TransactionEncoder()\n",
    "    te_ary = te.fit(patient_note_list).transform(patient_note_list)\n",
    "    df = pd.DataFrame(te_ary, columns=te.columns_)\n",
    "    df_itemsets = fpgrowth(df, min_support=min_support, use_colnames=True)\n",
    "            \n",
    "    cooc_tmp = []\n",
    "    cooc_minsup_tmp = []\n",
    "    \n",
    "    #-----\n",
    "    cooc_feature_tmp = []\n",
    "    cooc_feature_idx_tmp = []\n",
    "            \n",
    "    for index, row in df_itemsets.iterrows():\n",
    "        if len(row['itemsets']) == 1:\n",
    "            word = list(row['itemsets'])[0]\n",
    "            min_sup = row['support']\n",
    "            cooc_feature_tmp.append(min_sup)\n",
    "            cooc_feature_idx_tmp.append(word)\n",
    "    #-----\n",
    "            \n",
    "    for index, row in df_itemsets.iterrows():\n",
    "        if len(row['itemsets']) == 2:\n",
    "            cooc_tmp.append(row['itemsets'])\n",
    "            cooc_minsup_tmp.append(row['support'])\n",
    "                    \n",
    "            \n",
    "    # Update glob lists\n",
    "    patient_id_lst.append(patient_id)\n",
    "    patient_cooc_lst.append(cooc_tmp)\n",
    "    patient_cooc_minsup_lst.append(cooc_minsup_tmp)\n",
    "    patient_label_lst.append(label)\n",
    "    patient_note_cnt.append(note_cnt)\n",
    "    \n",
    "    patient_feature_lst.append(cooc_feature_tmp)\n",
    "    patient_feature_idx_lst.append(cooc_feature_idx_tmp)\n",
    "    \n",
    "#     print(f\"patient_id_lst: {len(patient_id_lst)} patient_cooc_lst: {len(patient_cooc_lst)} patient_cooc_minsup_lst: {len(patient_cooc_minsup_lst)} patient_label_lst: {len(patient_label_lst)} patient_note_cnt: {len(patient_note_cnt)}\")\n",
    "    print(\"FP growth input for \" + disease_name + \" generated!\")\n",
    "    return pd.DataFrame({\"patient_id\":patient_id_lst, \"patient_cooc\":patient_cooc_lst, \"cooc_minsup\":patient_cooc_minsup_lst, \"cooc_feature\":patient_feature_lst, \"cooc_feature_idx\":patient_feature_idx_lst ,\"label\":patient_label_lst, \"note_cnt\":patient_note_cnt})\n",
    "\n",
    "pneumonia_dead_cooc_df = fp_growth_input_per_patient_python(\"pneumonia_dead\", pneumonia_dead_no_disch, word_dict, 0.4, -1)\n",
    "pneumonia_alive_cooc_df = fp_growth_input_per_patient_python(\"pneumonia_alive\", pneumonia_alive_no_disch, word_dict, 0.4, 1)"
   ]
  },
  {
   "cell_type": "code",
   "execution_count": 68,
   "metadata": {
    "scrolled": true
   },
   "outputs": [
    {
     "data": {
      "text/html": [
       "<div>\n",
       "<style scoped>\n",
       "    .dataframe tbody tr th:only-of-type {\n",
       "        vertical-align: middle;\n",
       "    }\n",
       "\n",
       "    .dataframe tbody tr th {\n",
       "        vertical-align: top;\n",
       "    }\n",
       "\n",
       "    .dataframe thead th {\n",
       "        text-align: right;\n",
       "    }\n",
       "</style>\n",
       "<table border=\"1\" class=\"dataframe\">\n",
       "  <thead>\n",
       "    <tr style=\"text-align: right;\">\n",
       "      <th></th>\n",
       "      <th>patient_id</th>\n",
       "      <th>patient_cooc</th>\n",
       "      <th>cooc_minsup</th>\n",
       "      <th>cooc_feature</th>\n",
       "      <th>cooc_feature_idx</th>\n",
       "      <th>label</th>\n",
       "      <th>note_cnt</th>\n",
       "    </tr>\n",
       "  </thead>\n",
       "  <tbody>\n",
       "    <tr>\n",
       "      <th>0</th>\n",
       "      <td>111</td>\n",
       "      <td>[[pea, arrest], [pea, vasopressin], [arrest, v...</td>\n",
       "      <td>[0.8333333333333334, 0.6666666666666666, 0.666...</td>\n",
       "      <td>[1.0, 0.8333333333333334, 0.6666666666666666, ...</td>\n",
       "      <td>[arrest, pea, vasopressin, cpr, death]</td>\n",
       "      <td>-1</td>\n",
       "      <td>12</td>\n",
       "    </tr>\n",
       "    <tr>\n",
       "      <th>1</th>\n",
       "      <td>346</td>\n",
       "      <td>[]</td>\n",
       "      <td>[]</td>\n",
       "      <td>[0.42857142857142855]</td>\n",
       "      <td>[sluggish]</td>\n",
       "      <td>-1</td>\n",
       "      <td>25</td>\n",
       "    </tr>\n",
       "    <tr>\n",
       "      <th>2</th>\n",
       "      <td>404</td>\n",
       "      <td>[[death, paco]]</td>\n",
       "      <td>[1.0]</td>\n",
       "      <td>[1.0, 1.0]</td>\n",
       "      <td>[paco, death]</td>\n",
       "      <td>-1</td>\n",
       "      <td>3</td>\n",
       "    </tr>\n",
       "    <tr>\n",
       "      <th>3</th>\n",
       "      <td>546</td>\n",
       "      <td>[]</td>\n",
       "      <td>[]</td>\n",
       "      <td>[]</td>\n",
       "      <td>[]</td>\n",
       "      <td>-1</td>\n",
       "      <td>6</td>\n",
       "    </tr>\n",
       "    <tr>\n",
       "      <th>4</th>\n",
       "      <td>618</td>\n",
       "      <td>[]</td>\n",
       "      <td>[]</td>\n",
       "      <td>[]</td>\n",
       "      <td>[]</td>\n",
       "      <td>-1</td>\n",
       "      <td>16</td>\n",
       "    </tr>\n",
       "    <tr>\n",
       "      <th>...</th>\n",
       "      <td>...</td>\n",
       "      <td>...</td>\n",
       "      <td>...</td>\n",
       "      <td>...</td>\n",
       "      <td>...</td>\n",
       "      <td>...</td>\n",
       "      <td>...</td>\n",
       "    </tr>\n",
       "    <tr>\n",
       "      <th>247</th>\n",
       "      <td>97181</td>\n",
       "      <td>[[dni, dnr]]</td>\n",
       "      <td>[0.625]</td>\n",
       "      <td>[0.625, 0.625]</td>\n",
       "      <td>[dnr, dni]</td>\n",
       "      <td>-1</td>\n",
       "      <td>30</td>\n",
       "    </tr>\n",
       "    <tr>\n",
       "      <th>248</th>\n",
       "      <td>97795</td>\n",
       "      <td>[]</td>\n",
       "      <td>[]</td>\n",
       "      <td>[0.5952380952380952]</td>\n",
       "      <td>[levoph]</td>\n",
       "      <td>-1</td>\n",
       "      <td>60</td>\n",
       "    </tr>\n",
       "    <tr>\n",
       "      <th>249</th>\n",
       "      <td>98009</td>\n",
       "      <td>[[dni, dnr]]</td>\n",
       "      <td>[0.46153846153846156]</td>\n",
       "      <td>[0.46153846153846156, 0.46153846153846156, 0.5...</td>\n",
       "      <td>[dnr, dni, palli]</td>\n",
       "      <td>-1</td>\n",
       "      <td>33</td>\n",
       "    </tr>\n",
       "    <tr>\n",
       "      <th>250</th>\n",
       "      <td>98299</td>\n",
       "      <td>[]</td>\n",
       "      <td>[]</td>\n",
       "      <td>[0.4666666666666667]</td>\n",
       "      <td>[cmo]</td>\n",
       "      <td>-1</td>\n",
       "      <td>29</td>\n",
       "    </tr>\n",
       "    <tr>\n",
       "      <th>251</th>\n",
       "      <td>98597</td>\n",
       "      <td>[]</td>\n",
       "      <td>[]</td>\n",
       "      <td>[1.0]</td>\n",
       "      <td>[underpenetr]</td>\n",
       "      <td>-1</td>\n",
       "      <td>2</td>\n",
       "    </tr>\n",
       "  </tbody>\n",
       "</table>\n",
       "<p>252 rows × 7 columns</p>\n",
       "</div>"
      ],
      "text/plain": [
       "     patient_id                                       patient_cooc  \\\n",
       "0           111  [[pea, arrest], [pea, vasopressin], [arrest, v...   \n",
       "1           346                                                 []   \n",
       "2           404                                    [[death, paco]]   \n",
       "3           546                                                 []   \n",
       "4           618                                                 []   \n",
       "..          ...                                                ...   \n",
       "247       97181                                       [[dni, dnr]]   \n",
       "248       97795                                                 []   \n",
       "249       98009                                       [[dni, dnr]]   \n",
       "250       98299                                                 []   \n",
       "251       98597                                                 []   \n",
       "\n",
       "                                           cooc_minsup  \\\n",
       "0    [0.8333333333333334, 0.6666666666666666, 0.666...   \n",
       "1                                                   []   \n",
       "2                                                [1.0]   \n",
       "3                                                   []   \n",
       "4                                                   []   \n",
       "..                                                 ...   \n",
       "247                                            [0.625]   \n",
       "248                                                 []   \n",
       "249                              [0.46153846153846156]   \n",
       "250                                                 []   \n",
       "251                                                 []   \n",
       "\n",
       "                                          cooc_feature  \\\n",
       "0    [1.0, 0.8333333333333334, 0.6666666666666666, ...   \n",
       "1                                [0.42857142857142855]   \n",
       "2                                           [1.0, 1.0]   \n",
       "3                                                   []   \n",
       "4                                                   []   \n",
       "..                                                 ...   \n",
       "247                                     [0.625, 0.625]   \n",
       "248                               [0.5952380952380952]   \n",
       "249  [0.46153846153846156, 0.46153846153846156, 0.5...   \n",
       "250                               [0.4666666666666667]   \n",
       "251                                              [1.0]   \n",
       "\n",
       "                           cooc_feature_idx  label  note_cnt  \n",
       "0    [arrest, pea, vasopressin, cpr, death]     -1        12  \n",
       "1                                [sluggish]     -1        25  \n",
       "2                             [paco, death]     -1         3  \n",
       "3                                        []     -1         6  \n",
       "4                                        []     -1        16  \n",
       "..                                      ...    ...       ...  \n",
       "247                              [dnr, dni]     -1        30  \n",
       "248                                [levoph]     -1        60  \n",
       "249                       [dnr, dni, palli]     -1        33  \n",
       "250                                   [cmo]     -1        29  \n",
       "251                           [underpenetr]     -1         2  \n",
       "\n",
       "[252 rows x 7 columns]"
      ]
     },
     "execution_count": 68,
     "metadata": {},
     "output_type": "execute_result"
    }
   ],
   "source": [
    "pneumonia_dead_cooc_df"
   ]
  },
  {
   "cell_type": "code",
   "execution_count": 69,
   "metadata": {},
   "outputs": [
    {
     "name": "stdout",
     "output_type": "stream",
     "text": [
      "74\n"
     ]
    }
   ],
   "source": [
    "cnt_ = 0\n",
    "for i, (index, row) in enumerate(pneumonia_dead_cooc_df.iterrows()):\n",
    "    if row['patient_cooc']:\n",
    "        cnt_ += 1\n",
    "print(cnt_)\n",
    "# 230 min_sup = 0.1\n",
    "# 74 min_sup = 0.4\n",
    "# 94 min_sup = 0.3"
   ]
  },
  {
   "cell_type": "code",
   "execution_count": 70,
   "metadata": {},
   "outputs": [
    {
     "data": {
      "text/html": [
       "<div>\n",
       "<style scoped>\n",
       "    .dataframe tbody tr th:only-of-type {\n",
       "        vertical-align: middle;\n",
       "    }\n",
       "\n",
       "    .dataframe tbody tr th {\n",
       "        vertical-align: top;\n",
       "    }\n",
       "\n",
       "    .dataframe thead th {\n",
       "        text-align: right;\n",
       "    }\n",
       "</style>\n",
       "<table border=\"1\" class=\"dataframe\">\n",
       "  <thead>\n",
       "    <tr style=\"text-align: right;\">\n",
       "      <th></th>\n",
       "      <th>patient_id</th>\n",
       "      <th>patient_cooc</th>\n",
       "      <th>cooc_minsup</th>\n",
       "      <th>cooc_feature</th>\n",
       "      <th>cooc_feature_idx</th>\n",
       "      <th>label</th>\n",
       "      <th>note_cnt</th>\n",
       "    </tr>\n",
       "  </thead>\n",
       "  <tbody>\n",
       "    <tr>\n",
       "      <th>0</th>\n",
       "      <td>68</td>\n",
       "      <td>[]</td>\n",
       "      <td>[]</td>\n",
       "      <td>[0.5, 0.5]</td>\n",
       "      <td>[commod, ambul]</td>\n",
       "      <td>1</td>\n",
       "      <td>18</td>\n",
       "    </tr>\n",
       "    <tr>\n",
       "      <th>1</th>\n",
       "      <td>85</td>\n",
       "      <td>[]</td>\n",
       "      <td>[]</td>\n",
       "      <td>[1.0]</td>\n",
       "      <td>[lat]</td>\n",
       "      <td>1</td>\n",
       "      <td>8</td>\n",
       "    </tr>\n",
       "    <tr>\n",
       "      <th>2</th>\n",
       "      <td>94</td>\n",
       "      <td>[]</td>\n",
       "      <td>[]</td>\n",
       "      <td>[]</td>\n",
       "      <td>[]</td>\n",
       "      <td>1</td>\n",
       "      <td>100</td>\n",
       "    </tr>\n",
       "    <tr>\n",
       "      <th>3</th>\n",
       "      <td>165</td>\n",
       "      <td>[]</td>\n",
       "      <td>[]</td>\n",
       "      <td>[1.0]</td>\n",
       "      <td>[habitu]</td>\n",
       "      <td>1</td>\n",
       "      <td>2</td>\n",
       "    </tr>\n",
       "    <tr>\n",
       "      <th>4</th>\n",
       "      <td>211</td>\n",
       "      <td>[]</td>\n",
       "      <td>[]</td>\n",
       "      <td>[]</td>\n",
       "      <td>[]</td>\n",
       "      <td>1</td>\n",
       "      <td>24</td>\n",
       "    </tr>\n",
       "    <tr>\n",
       "      <th>...</th>\n",
       "      <td>...</td>\n",
       "      <td>...</td>\n",
       "      <td>...</td>\n",
       "      <td>...</td>\n",
       "      <td>...</td>\n",
       "      <td>...</td>\n",
       "      <td>...</td>\n",
       "    </tr>\n",
       "    <tr>\n",
       "      <th>1162</th>\n",
       "      <td>99560</td>\n",
       "      <td>[]</td>\n",
       "      <td>[]</td>\n",
       "      <td>[0.5, 0.5]</td>\n",
       "      <td>[lat, among]</td>\n",
       "      <td>1</td>\n",
       "      <td>12</td>\n",
       "    </tr>\n",
       "    <tr>\n",
       "      <th>1163</th>\n",
       "      <td>99647</td>\n",
       "      <td>[]</td>\n",
       "      <td>[]</td>\n",
       "      <td>[]</td>\n",
       "      <td>[]</td>\n",
       "      <td>1</td>\n",
       "      <td>58</td>\n",
       "    </tr>\n",
       "    <tr>\n",
       "      <th>1164</th>\n",
       "      <td>99781</td>\n",
       "      <td>[[video, barium], [motor, barium], [barium, la...</td>\n",
       "      <td>[0.5, 0.5, 0.5, 0.5, 0.5, 0.5]</td>\n",
       "      <td>[1.0, 0.5, 0.5, 0.5]</td>\n",
       "      <td>[barium, video, motor, laryng]</td>\n",
       "      <td>1</td>\n",
       "      <td>8</td>\n",
       "    </tr>\n",
       "    <tr>\n",
       "      <th>1165</th>\n",
       "      <td>99912</td>\n",
       "      <td>[[dni, dnr]]</td>\n",
       "      <td>[0.6555555555555556]</td>\n",
       "      <td>[0.7722222222222223, 0.6555555555555556]</td>\n",
       "      <td>[dnr, dni]</td>\n",
       "      <td>1</td>\n",
       "      <td>226</td>\n",
       "    </tr>\n",
       "    <tr>\n",
       "      <th>1166</th>\n",
       "      <td>99937</td>\n",
       "      <td>[]</td>\n",
       "      <td>[]</td>\n",
       "      <td>[1.0]</td>\n",
       "      <td>[habitu]</td>\n",
       "      <td>1</td>\n",
       "      <td>6</td>\n",
       "    </tr>\n",
       "  </tbody>\n",
       "</table>\n",
       "<p>1167 rows × 7 columns</p>\n",
       "</div>"
      ],
      "text/plain": [
       "      patient_id                                       patient_cooc  \\\n",
       "0             68                                                 []   \n",
       "1             85                                                 []   \n",
       "2             94                                                 []   \n",
       "3            165                                                 []   \n",
       "4            211                                                 []   \n",
       "...          ...                                                ...   \n",
       "1162       99560                                                 []   \n",
       "1163       99647                                                 []   \n",
       "1164       99781  [[video, barium], [motor, barium], [barium, la...   \n",
       "1165       99912                                       [[dni, dnr]]   \n",
       "1166       99937                                                 []   \n",
       "\n",
       "                         cooc_minsup  \\\n",
       "0                                 []   \n",
       "1                                 []   \n",
       "2                                 []   \n",
       "3                                 []   \n",
       "4                                 []   \n",
       "...                              ...   \n",
       "1162                              []   \n",
       "1163                              []   \n",
       "1164  [0.5, 0.5, 0.5, 0.5, 0.5, 0.5]   \n",
       "1165            [0.6555555555555556]   \n",
       "1166                              []   \n",
       "\n",
       "                                  cooc_feature  \\\n",
       "0                                   [0.5, 0.5]   \n",
       "1                                        [1.0]   \n",
       "2                                           []   \n",
       "3                                        [1.0]   \n",
       "4                                           []   \n",
       "...                                        ...   \n",
       "1162                                [0.5, 0.5]   \n",
       "1163                                        []   \n",
       "1164                      [1.0, 0.5, 0.5, 0.5]   \n",
       "1165  [0.7722222222222223, 0.6555555555555556]   \n",
       "1166                                     [1.0]   \n",
       "\n",
       "                    cooc_feature_idx  label  note_cnt  \n",
       "0                    [commod, ambul]      1        18  \n",
       "1                              [lat]      1         8  \n",
       "2                                 []      1       100  \n",
       "3                           [habitu]      1         2  \n",
       "4                                 []      1        24  \n",
       "...                              ...    ...       ...  \n",
       "1162                    [lat, among]      1        12  \n",
       "1163                              []      1        58  \n",
       "1164  [barium, video, motor, laryng]      1         8  \n",
       "1165                      [dnr, dni]      1       226  \n",
       "1166                        [habitu]      1         6  \n",
       "\n",
       "[1167 rows x 7 columns]"
      ]
     },
     "execution_count": 70,
     "metadata": {},
     "output_type": "execute_result"
    }
   ],
   "source": [
    "pneumonia_alive_cooc_df"
   ]
  },
  {
   "cell_type": "code",
   "execution_count": 71,
   "metadata": {},
   "outputs": [
    {
     "name": "stdout",
     "output_type": "stream",
     "text": [
      "230\n"
     ]
    }
   ],
   "source": [
    "cnt_ = 0\n",
    "for i, (index, row) in enumerate(pneumonia_alive_cooc_df.iterrows()):\n",
    "    if row['patient_cooc']:\n",
    "        cnt_ += 1\n",
    "print(cnt_)\n",
    "# 763 min_sup = 0.1\n",
    "# 230 min_sup = 0.4\n",
    "# 381 min_sup = 0.3"
   ]
  },
  {
   "cell_type": "code",
   "execution_count": null,
   "metadata": {},
   "outputs": [],
   "source": []
  },
  {
   "cell_type": "code",
   "execution_count": null,
   "metadata": {},
   "outputs": [],
   "source": []
  },
  {
   "cell_type": "code",
   "execution_count": null,
   "metadata": {},
   "outputs": [],
   "source": []
  },
  {
   "cell_type": "markdown",
   "metadata": {},
   "source": [
    "### Train the model"
   ]
  },
  {
   "cell_type": "code",
   "execution_count": 72,
   "metadata": {},
   "outputs": [],
   "source": [
    "import pandas as pd\n",
    "import numpy as np\n",
    "\n",
    "import stellargraph as sg\n",
    "from stellargraph.mapper import PaddedGraphGenerator\n",
    "from stellargraph.layer import GCNSupervisedGraphClassification\n",
    "from stellargraph import StellarGraph\n",
    "\n",
    "from stellargraph import datasets\n",
    "\n",
    "from sklearn import model_selection\n",
    "from IPython.display import display, HTML\n",
    "\n",
    "from tensorflow.keras import Model\n",
    "from tensorflow.keras.optimizers import Adam\n",
    "from tensorflow.keras.layers import Dense\n",
    "from tensorflow.keras.losses import binary_crossentropy\n",
    "from tensorflow.keras.callbacks import EarlyStopping\n",
    "import tensorflow as tf\n",
    "import matplotlib.pyplot as plt"
   ]
  },
  {
   "cell_type": "code",
   "execution_count": 73,
   "metadata": {},
   "outputs": [
    {
     "name": "stdout",
     "output_type": "stream",
     "text": [
      "[name: \"/device:CPU:0\"\n",
      "device_type: \"CPU\"\n",
      "memory_limit: 268435456\n",
      "locality {\n",
      "}\n",
      "incarnation: 3007099081087331608\n",
      ", name: \"/device:XLA_CPU:0\"\n",
      "device_type: \"XLA_CPU\"\n",
      "memory_limit: 17179869184\n",
      "locality {\n",
      "}\n",
      "incarnation: 15171654306070061200\n",
      "physical_device_desc: \"device: XLA_CPU device\"\n",
      ", name: \"/device:XLA_GPU:0\"\n",
      "device_type: \"XLA_GPU\"\n",
      "memory_limit: 17179869184\n",
      "locality {\n",
      "}\n",
      "incarnation: 590661149172368399\n",
      "physical_device_desc: \"device: XLA_GPU device\"\n",
      ", name: \"/device:XLA_GPU:1\"\n",
      "device_type: \"XLA_GPU\"\n",
      "memory_limit: 17179869184\n",
      "locality {\n",
      "}\n",
      "incarnation: 3649484382674049965\n",
      "physical_device_desc: \"device: XLA_GPU device\"\n",
      ", name: \"/device:XLA_GPU:2\"\n",
      "device_type: \"XLA_GPU\"\n",
      "memory_limit: 17179869184\n",
      "locality {\n",
      "}\n",
      "incarnation: 8612401666718261616\n",
      "physical_device_desc: \"device: XLA_GPU device\"\n",
      ", name: \"/device:XLA_GPU:3\"\n",
      "device_type: \"XLA_GPU\"\n",
      "memory_limit: 17179869184\n",
      "locality {\n",
      "}\n",
      "incarnation: 10622237493309752039\n",
      "physical_device_desc: \"device: XLA_GPU device\"\n",
      "]\n"
     ]
    }
   ],
   "source": [
    "# https://medium.com/@kegui/how-do-i-know-i-am-running-keras-model-on-gpu-a9cdcc24f986\n",
    "from tensorflow.python.client import device_lib\n",
    "print(device_lib.list_local_devices())"
   ]
  },
  {
   "cell_type": "markdown",
   "metadata": {},
   "source": [
    "### Load the data"
   ]
  },
  {
   "cell_type": "code",
   "execution_count": 74,
   "metadata": {
    "scrolled": true
   },
   "outputs": [
    {
     "name": "stdout",
     "output_type": "stream",
     "text": [
      "graphs: 74, labels: 74\n",
      "graphs: 304, labels: 304\n"
     ]
    }
   ],
   "source": [
    "from stellargraph import StellarGraph\n",
    "\n",
    "def create_graph_list(pd_df):\n",
    "    graphs = []\n",
    "    labels = []\n",
    "\n",
    "    for index, row in pd_df.iterrows():\n",
    "        if row['patient_cooc']:\n",
    "            source = []\n",
    "            target = []\n",
    "            edge_feature = []\n",
    "            \n",
    "            feature_node = []\n",
    "            feature_idx = []\n",
    "            \n",
    "            for cooc in row['patient_cooc']:\n",
    "                source.append(cooc[0])\n",
    "                target.append(cooc[1])\n",
    "                \n",
    "            for feature in row['cooc_minsup']:\n",
    "                edge_feature.append(feature)\n",
    "            \n",
    "            # Node feature and index\n",
    "            for node_feature in row['cooc_feature']:\n",
    "                feature_node.append(node_feature)\n",
    "                \n",
    "            for node_idx in row['cooc_feature_idx']:\n",
    "                feature_idx.append(node_idx)\n",
    "                \n",
    "#             print(\"source:\", source)\n",
    "#             print(\"target:\", target)\n",
    "#             print(\"edge_feature\", edge_feature)\n",
    "            \n",
    "#             square_edges = pd.DataFrame({\"source\": source, \"target\": target, \"edge_feature\":edge_feature})\n",
    "            square_node_data = pd.DataFrame({\"feature_src\":feature_node}, index=feature_idx)\n",
    "            square_edges = pd.DataFrame({\"source\": source, \"target\": target})\n",
    "          \n",
    "            square = StellarGraph(square_node_data, square_edges)\n",
    "            graphs.append(square)\n",
    "            labels.append(row['label'])\n",
    "#             break\n",
    "            \n",
    "            \n",
    "    return graphs, labels\n",
    "\n",
    "graphs = []\n",
    "labels = []\n",
    "features = []\n",
    "\n",
    "graph_1, label_1 = create_graph_list(pneumonia_dead_cooc_df)\n",
    "graph_2, label_2 = create_graph_list(pneumonia_alive_cooc_df)\n",
    "\n",
    "graphs.extend(graph_1)\n",
    "labels.extend(label_1)\n",
    "print(f\"graphs: {len(graphs)}, labels: {len(labels)}\")\n",
    "graphs.extend(graph_2)\n",
    "labels.extend(label_2)\n",
    "print(f\"graphs: {len(graphs)}, labels: {len(labels)}\")"
   ]
  },
  {
   "cell_type": "code",
   "execution_count": 75,
   "metadata": {},
   "outputs": [
    {
     "name": "stdout",
     "output_type": "stream",
     "text": [
      "StellarGraph: Undirected multigraph\n",
      " Nodes: 5, Edges: 7\n",
      "\n",
      " Node types:\n",
      "  default: [5]\n",
      "    Features: float32 vector, length 1\n",
      "    Edge types: default-default->default\n",
      "\n",
      " Edge types:\n",
      "    default-default->default: [7]\n",
      "        Weights: all 1 (default)\n",
      "        Features: none\n"
     ]
    }
   ],
   "source": [
    "print(graphs[0].info())"
   ]
  },
  {
   "cell_type": "code",
   "execution_count": 76,
   "metadata": {},
   "outputs": [
    {
     "name": "stdout",
     "output_type": "stream",
     "text": [
      "StellarGraph: Undirected multigraph\n",
      " Nodes: 2, Edges: 1\n",
      "\n",
      " Node types:\n",
      "  default: [2]\n",
      "    Features: float32 vector, length 1\n",
      "    Edge types: default-default->default\n",
      "\n",
      " Edge types:\n",
      "    default-default->default: [1]\n",
      "        Weights: all 1 (default)\n",
      "        Features: none\n"
     ]
    }
   ],
   "source": [
    "print(graphs[1].info())"
   ]
  },
  {
   "cell_type": "code",
   "execution_count": 77,
   "metadata": {},
   "outputs": [
    {
     "data": {
      "text/html": [
       "<div>\n",
       "<style scoped>\n",
       "    .dataframe tbody tr th:only-of-type {\n",
       "        vertical-align: middle;\n",
       "    }\n",
       "\n",
       "    .dataframe tbody tr th {\n",
       "        vertical-align: top;\n",
       "    }\n",
       "\n",
       "    .dataframe thead th {\n",
       "        text-align: right;\n",
       "    }\n",
       "</style>\n",
       "<table border=\"1\" class=\"dataframe\">\n",
       "  <thead>\n",
       "    <tr style=\"text-align: right;\">\n",
       "      <th></th>\n",
       "      <th>nodes</th>\n",
       "      <th>edges</th>\n",
       "    </tr>\n",
       "  </thead>\n",
       "  <tbody>\n",
       "    <tr>\n",
       "      <th>count</th>\n",
       "      <td>304.0</td>\n",
       "      <td>304.0</td>\n",
       "    </tr>\n",
       "    <tr>\n",
       "      <th>mean</th>\n",
       "      <td>2.9</td>\n",
       "      <td>2.4</td>\n",
       "    </tr>\n",
       "    <tr>\n",
       "      <th>std</th>\n",
       "      <td>1.2</td>\n",
       "      <td>3.0</td>\n",
       "    </tr>\n",
       "    <tr>\n",
       "      <th>min</th>\n",
       "      <td>2.0</td>\n",
       "      <td>1.0</td>\n",
       "    </tr>\n",
       "    <tr>\n",
       "      <th>25%</th>\n",
       "      <td>2.0</td>\n",
       "      <td>1.0</td>\n",
       "    </tr>\n",
       "    <tr>\n",
       "      <th>50%</th>\n",
       "      <td>3.0</td>\n",
       "      <td>1.0</td>\n",
       "    </tr>\n",
       "    <tr>\n",
       "      <th>75%</th>\n",
       "      <td>3.0</td>\n",
       "      <td>3.0</td>\n",
       "    </tr>\n",
       "    <tr>\n",
       "      <th>max</th>\n",
       "      <td>9.0</td>\n",
       "      <td>24.0</td>\n",
       "    </tr>\n",
       "  </tbody>\n",
       "</table>\n",
       "</div>"
      ],
      "text/plain": [
       "       nodes  edges\n",
       "count  304.0  304.0\n",
       "mean     2.9    2.4\n",
       "std      1.2    3.0\n",
       "min      2.0    1.0\n",
       "25%      2.0    1.0\n",
       "50%      3.0    1.0\n",
       "75%      3.0    3.0\n",
       "max      9.0   24.0"
      ]
     },
     "execution_count": 77,
     "metadata": {},
     "output_type": "execute_result"
    }
   ],
   "source": [
    "summary = pd.DataFrame(\n",
    "    [(g.number_of_nodes(), g.number_of_edges()) for g in graphs],\n",
    "    columns=[\"nodes\", \"edges\"],\n",
    ")\n",
    "summary.describe().round(1)"
   ]
  },
  {
   "cell_type": "code",
   "execution_count": 78,
   "metadata": {},
   "outputs": [],
   "source": [
    "graph_labels = pd.Series(labels)"
   ]
  },
  {
   "cell_type": "code",
   "execution_count": 79,
   "metadata": {},
   "outputs": [
    {
     "name": "stdout",
     "output_type": "stream",
     "text": [
      "0     -1\n",
      "1     -1\n",
      "2     -1\n",
      "3     -1\n",
      "4     -1\n",
      "      ..\n",
      "299    1\n",
      "300    1\n",
      "301    1\n",
      "302    1\n",
      "303    1\n",
      "Length: 304, dtype: int64\n"
     ]
    }
   ],
   "source": [
    "print(graph_labels)"
   ]
  },
  {
   "cell_type": "code",
   "execution_count": 80,
   "metadata": {},
   "outputs": [
    {
     "data": {
      "text/html": [
       "<div>\n",
       "<style scoped>\n",
       "    .dataframe tbody tr th:only-of-type {\n",
       "        vertical-align: middle;\n",
       "    }\n",
       "\n",
       "    .dataframe tbody tr th {\n",
       "        vertical-align: top;\n",
       "    }\n",
       "\n",
       "    .dataframe thead th {\n",
       "        text-align: right;\n",
       "    }\n",
       "</style>\n",
       "<table border=\"1\" class=\"dataframe\">\n",
       "  <thead>\n",
       "    <tr style=\"text-align: right;\">\n",
       "      <th></th>\n",
       "      <th>0</th>\n",
       "    </tr>\n",
       "  </thead>\n",
       "  <tbody>\n",
       "    <tr>\n",
       "      <th>1</th>\n",
       "      <td>230</td>\n",
       "    </tr>\n",
       "    <tr>\n",
       "      <th>-1</th>\n",
       "      <td>74</td>\n",
       "    </tr>\n",
       "  </tbody>\n",
       "</table>\n",
       "</div>"
      ],
      "text/plain": [
       "      0\n",
       " 1  230\n",
       "-1   74"
      ]
     },
     "execution_count": 80,
     "metadata": {},
     "output_type": "execute_result"
    }
   ],
   "source": [
    "graph_labels.value_counts().to_frame()"
   ]
  },
  {
   "cell_type": "code",
   "execution_count": 81,
   "metadata": {},
   "outputs": [],
   "source": [
    "graph_labels = pd.get_dummies(graph_labels, drop_first=True)"
   ]
  },
  {
   "cell_type": "code",
   "execution_count": 82,
   "metadata": {},
   "outputs": [
    {
     "name": "stdout",
     "output_type": "stream",
     "text": [
      "<class 'pandas.core.frame.DataFrame'>\n"
     ]
    }
   ],
   "source": [
    "print(type(graph_labels))"
   ]
  },
  {
   "cell_type": "code",
   "execution_count": 83,
   "metadata": {},
   "outputs": [
    {
     "data": {
      "text/html": [
       "<div>\n",
       "<style scoped>\n",
       "    .dataframe tbody tr th:only-of-type {\n",
       "        vertical-align: middle;\n",
       "    }\n",
       "\n",
       "    .dataframe tbody tr th {\n",
       "        vertical-align: top;\n",
       "    }\n",
       "\n",
       "    .dataframe thead th {\n",
       "        text-align: right;\n",
       "    }\n",
       "</style>\n",
       "<table border=\"1\" class=\"dataframe\">\n",
       "  <thead>\n",
       "    <tr style=\"text-align: right;\">\n",
       "      <th></th>\n",
       "      <th>1</th>\n",
       "    </tr>\n",
       "  </thead>\n",
       "  <tbody>\n",
       "    <tr>\n",
       "      <th>0</th>\n",
       "      <td>0</td>\n",
       "    </tr>\n",
       "    <tr>\n",
       "      <th>1</th>\n",
       "      <td>0</td>\n",
       "    </tr>\n",
       "    <tr>\n",
       "      <th>2</th>\n",
       "      <td>0</td>\n",
       "    </tr>\n",
       "    <tr>\n",
       "      <th>3</th>\n",
       "      <td>0</td>\n",
       "    </tr>\n",
       "    <tr>\n",
       "      <th>4</th>\n",
       "      <td>0</td>\n",
       "    </tr>\n",
       "    <tr>\n",
       "      <th>...</th>\n",
       "      <td>...</td>\n",
       "    </tr>\n",
       "    <tr>\n",
       "      <th>299</th>\n",
       "      <td>1</td>\n",
       "    </tr>\n",
       "    <tr>\n",
       "      <th>300</th>\n",
       "      <td>1</td>\n",
       "    </tr>\n",
       "    <tr>\n",
       "      <th>301</th>\n",
       "      <td>1</td>\n",
       "    </tr>\n",
       "    <tr>\n",
       "      <th>302</th>\n",
       "      <td>1</td>\n",
       "    </tr>\n",
       "    <tr>\n",
       "      <th>303</th>\n",
       "      <td>1</td>\n",
       "    </tr>\n",
       "  </tbody>\n",
       "</table>\n",
       "<p>304 rows × 1 columns</p>\n",
       "</div>"
      ],
      "text/plain": [
       "     1\n",
       "0    0\n",
       "1    0\n",
       "2    0\n",
       "3    0\n",
       "4    0\n",
       "..  ..\n",
       "299  1\n",
       "300  1\n",
       "301  1\n",
       "302  1\n",
       "303  1\n",
       "\n",
       "[304 rows x 1 columns]"
      ]
     },
     "execution_count": 83,
     "metadata": {},
     "output_type": "execute_result"
    }
   ],
   "source": [
    "graph_labels"
   ]
  },
  {
   "cell_type": "code",
   "execution_count": 84,
   "metadata": {},
   "outputs": [],
   "source": [
    "generator = PaddedGraphGenerator(graphs=graphs)"
   ]
  },
  {
   "cell_type": "code",
   "execution_count": 85,
   "metadata": {},
   "outputs": [],
   "source": [
    "def create_graph_classification_model(generator):\n",
    "    gc_model = GCNSupervisedGraphClassification(\n",
    "        layer_sizes=[64, 64],\n",
    "        activations=[\"relu\", \"relu\"],\n",
    "        generator=generator,\n",
    "        dropout=0.5,\n",
    "    )\n",
    "    x_inp, x_out = gc_model.in_out_tensors()\n",
    "    predictions = Dense(units=32, activation=\"relu\")(x_out)\n",
    "    predictions = Dense(units=16, activation=\"relu\")(predictions)\n",
    "    predictions = Dense(units=1, activation=\"sigmoid\")(predictions)\n",
    "\n",
    "    # Let's create the Keras model and prepare it for training\n",
    "    model = Model(inputs=x_inp, outputs=predictions)\n",
    "    model.compile(optimizer=Adam(0.005), loss=binary_crossentropy, metrics=[\"acc\"])\n",
    "\n",
    "    return model"
   ]
  },
  {
   "cell_type": "markdown",
   "metadata": {},
   "source": [
    "### Train the model\n",
    "\n",
    "We can now train the model using the model's `fit` method. First, we specify some important training parameters such as the number of training epochs, number of fold for cross validation and the number of time to repeat cross validation."
   ]
  },
  {
   "cell_type": "code",
   "execution_count": 86,
   "metadata": {},
   "outputs": [],
   "source": [
    "epochs = 200  # maximum number of training epochs\n",
    "folds = 10  # the number of folds for k-fold cross validation\n",
    "n_repeats = 5  # the number of repeats for repeated k-fold cross validation"
   ]
  },
  {
   "cell_type": "code",
   "execution_count": 87,
   "metadata": {},
   "outputs": [],
   "source": [
    "es = EarlyStopping(\n",
    "    monitor=\"val_loss\", min_delta=0, patience=25, restore_best_weights=True\n",
    ")"
   ]
  },
  {
   "cell_type": "code",
   "execution_count": 88,
   "metadata": {},
   "outputs": [],
   "source": [
    "def train_fold(model, train_gen, test_gen, es, epochs):\n",
    "    history = model.fit(\n",
    "        train_gen, epochs=epochs, validation_data=test_gen, verbose=0, callbacks=[es],\n",
    "    )\n",
    "    # calculate performance on the test data and return along with history\n",
    "    test_metrics = model.evaluate(test_gen, verbose=0)\n",
    "    test_acc = test_metrics[model.metrics_names.index(\"acc\")]\n",
    "\n",
    "    return history, test_acc"
   ]
  },
  {
   "cell_type": "code",
   "execution_count": 89,
   "metadata": {},
   "outputs": [],
   "source": [
    "def get_generators(train_index, test_index, graph_labels, batch_size):\n",
    "    train_gen = generator.flow(\n",
    "        train_index, targets=graph_labels.iloc[train_index].values, batch_size=batch_size\n",
    "    )\n",
    "    test_gen = generator.flow(\n",
    "        test_index, targets=graph_labels.iloc[test_index].values, batch_size=batch_size\n",
    "    )\n",
    "\n",
    "    return train_gen, test_gen"
   ]
  },
  {
   "cell_type": "code",
   "execution_count": 90,
   "metadata": {
    "scrolled": true
   },
   "outputs": [
    {
     "name": "stdout",
     "output_type": "stream",
     "text": [
      "Training and evaluating on fold 1 out of 50...\n",
      "Training and evaluating on fold 2 out of 50...\n",
      "Training and evaluating on fold 3 out of 50...\n",
      "Training and evaluating on fold 4 out of 50...\n",
      "Training and evaluating on fold 5 out of 50...\n",
      "Training and evaluating on fold 6 out of 50...\n",
      "Training and evaluating on fold 7 out of 50...\n",
      "Training and evaluating on fold 8 out of 50...\n",
      "Training and evaluating on fold 9 out of 50...\n",
      "Training and evaluating on fold 10 out of 50...\n",
      "Training and evaluating on fold 11 out of 50...\n",
      "Training and evaluating on fold 12 out of 50...\n",
      "Training and evaluating on fold 13 out of 50...\n",
      "Training and evaluating on fold 14 out of 50...\n",
      "Training and evaluating on fold 15 out of 50...\n",
      "Training and evaluating on fold 16 out of 50...\n",
      "Training and evaluating on fold 17 out of 50...\n",
      "Training and evaluating on fold 18 out of 50...\n",
      "Training and evaluating on fold 19 out of 50...\n",
      "Training and evaluating on fold 20 out of 50...\n",
      "Training and evaluating on fold 21 out of 50...\n",
      "Training and evaluating on fold 22 out of 50...\n",
      "Training and evaluating on fold 23 out of 50...\n",
      "Training and evaluating on fold 24 out of 50...\n",
      "Training and evaluating on fold 25 out of 50...\n",
      "Training and evaluating on fold 26 out of 50...\n",
      "Training and evaluating on fold 27 out of 50...\n",
      "Training and evaluating on fold 28 out of 50...\n",
      "Training and evaluating on fold 29 out of 50...\n",
      "Training and evaluating on fold 30 out of 50...\n",
      "Training and evaluating on fold 31 out of 50...\n",
      "Training and evaluating on fold 32 out of 50...\n",
      "Training and evaluating on fold 33 out of 50...\n",
      "Training and evaluating on fold 34 out of 50...\n",
      "Training and evaluating on fold 35 out of 50...\n",
      "Training and evaluating on fold 36 out of 50...\n",
      "Training and evaluating on fold 37 out of 50...\n",
      "Training and evaluating on fold 38 out of 50...\n",
      "Training and evaluating on fold 39 out of 50...\n",
      "Training and evaluating on fold 40 out of 50...\n",
      "Training and evaluating on fold 41 out of 50...\n",
      "Training and evaluating on fold 42 out of 50...\n",
      "Training and evaluating on fold 43 out of 50...\n",
      "Training and evaluating on fold 44 out of 50...\n",
      "Training and evaluating on fold 45 out of 50...\n",
      "Training and evaluating on fold 46 out of 50...\n",
      "Training and evaluating on fold 47 out of 50...\n",
      "Training and evaluating on fold 48 out of 50...\n",
      "Training and evaluating on fold 49 out of 50...\n",
      "Training and evaluating on fold 50 out of 50...\n"
     ]
    }
   ],
   "source": [
    "test_accs = []\n",
    "\n",
    "stratified_folds = model_selection.RepeatedStratifiedKFold(\n",
    "    n_splits=folds, n_repeats=n_repeats\n",
    ").split(graph_labels, graph_labels)\n",
    "\n",
    "for i, (train_index, test_index) in enumerate(stratified_folds):\n",
    "    print(f\"Training and evaluating on fold {i+1} out of {folds * n_repeats}...\")\n",
    "    train_gen, test_gen = get_generators(\n",
    "        train_index, test_index, graph_labels, batch_size=30\n",
    "    )\n",
    "\n",
    "    model = create_graph_classification_model(generator)\n",
    "\n",
    "    history, acc = train_fold(model, train_gen, test_gen, es, epochs)\n",
    "\n",
    "    test_accs.append(acc)"
   ]
  },
  {
   "cell_type": "code",
   "execution_count": 91,
   "metadata": {},
   "outputs": [
    {
     "name": "stdout",
     "output_type": "stream",
     "text": [
      "Accuracy over all folds mean: 75.7% and std: 1.2%\n"
     ]
    }
   ],
   "source": [
    "print(f\"Accuracy over all folds mean: {np.mean(test_accs)*100:.3}% and std: {np.std(test_accs)*100:.2}%\")"
   ]
  },
  {
   "cell_type": "code",
   "execution_count": 92,
   "metadata": {},
   "outputs": [
    {
     "data": {
      "text/plain": [
       "Text(0, 0.5, 'Count')"
      ]
     },
     "execution_count": 92,
     "metadata": {},
     "output_type": "execute_result"
    },
    {
     "data": {
      "image/png": "[encoded data removed]",
      "text/plain": [
       "<Figure size 576x432 with 1 Axes>"
      ]
     },
     "metadata": {
      "needs_background": "light"
     },
     "output_type": "display_data"
    }
   ],
   "source": [
    "plt.figure(figsize=(8, 6))\n",
    "plt.hist(test_accs)\n",
    "plt.xlabel(\"Accuracy\")\n",
    "plt.ylabel(\"Count\")"
   ]
  },
  {
   "cell_type": "code",
   "execution_count": null,
   "metadata": {},
   "outputs": [],
   "source": []
  },
  {
   "cell_type": "code",
   "execution_count": null,
   "metadata": {},
   "outputs": [],
   "source": []
  },
  {
   "cell_type": "code",
   "execution_count": null,
   "metadata": {},
   "outputs": [],
   "source": []
  },
  {
   "cell_type": "code",
   "execution_count": null,
   "metadata": {},
   "outputs": [],
   "source": []
  },
  {
   "cell_type": "code",
   "execution_count": null,
   "metadata": {},
   "outputs": [],
   "source": []
  },
  {
   "cell_type": "code",
   "execution_count": null,
   "metadata": {},
   "outputs": [],
   "source": []
  },
  {
   "cell_type": "code",
   "execution_count": null,
   "metadata": {},
   "outputs": [],
   "source": []
  },
  {
   "cell_type": "markdown",
   "metadata": {},
   "source": [
    "### Implementation for spmf java"
   ]
  },
  {
   "cell_type": "code",
   "execution_count": null,
   "metadata": {},
   "outputs": [],
   "source": [
    "import operator\n",
    "\n",
    "\"\"\"function description:\n",
    "generates patient word itemset for each disease\n",
    "\"\"\"\n",
    "# # define stemmer\n",
    "# stemmer = PorterStemmer()\n",
    "\n",
    "def generate_FP_input_per_note(disease_name, disease_df, word_dict):\n",
    "    with open(disease_name, \"w\") as output_fp:\n",
    "\n",
    "        # write the coverted dic for the text\n",
    "        # od = collections.OrderedDict(sorted(word_dict.items()))\n",
    "        od = sorted(word_dict.items(), key = operator.itemgetter(1))\n",
    "        output_fp.write(\"@CONVERTED_FROM_TEXT\")\n",
    "        output_fp.write(\"\\n\")\n",
    "        # for k, v in od.iteritems():\n",
    "        for k,v in od:\n",
    "            output_fp.write(\"@ITEM=\")\n",
    "            output_fp.write(str(v))\n",
    "            output_fp.write(\"=\")\n",
    "            output_fp.write(str(k))\n",
    "            output_fp.write(\"\\n\")\n",
    "\n",
    "        # read line in from file (each line is one note)\n",
    "        for index, row in tqdm(disease_df.iterrows(), total=disease_df.shape[0]):\n",
    "            # if not \"Physician\" in line[4]:\n",
    "            #     continue\n",
    "                    \n",
    "            word_set = set()\n",
    "            note = row['TEXT']\n",
    "\n",
    "            tokenized_note = word_tokenize(note)\n",
    "\n",
    "            # loop through each word in note to count word belonging to each disease\n",
    "            for word in tokenized_note:\n",
    "                stemmed_word = stemmer.stem(word.lower())\n",
    "                if stemmed_word in word_dict:\n",
    "                    word_set.add(stemmed_word)\n",
    "\n",
    "            templst = []\n",
    "            for word in word_set:\n",
    "                templst.append(word_dict[word])\n",
    "\n",
    "            templst.sort()\n",
    "            for x in range(len(templst) - 1):\n",
    "                output_fp.write(str(templst[x]) + \" \")\n",
    "\n",
    "            if templst:\n",
    "                output_fp.write(str(templst[len(templst)-1]))\n",
    "                output_fp.write(\"\\n\")\n",
    "            \n",
    "    print(\"FP growth input for \" + disease_name + \" generated!\")\n",
    "\n",
    "# Given as a parameter\n",
    "generate_FP_input_per_note(\"pneumonia_dead\", pneumonia_dead_no_disch, word_dict)\n",
    "generate_FP_input_per_note(\"pneumonia_alive\", pneumonia_alive_no_disch, word_dict)\n"
   ]
  },
  {
   "cell_type": "code",
   "execution_count": null,
   "metadata": {},
   "outputs": [],
   "source": []
  },
  {
   "cell_type": "code",
   "execution_count": null,
   "metadata": {},
   "outputs": [],
   "source": []
  },
  {
   "cell_type": "code",
   "execution_count": null,
   "metadata": {},
   "outputs": [],
   "source": []
  },
  {
   "cell_type": "code",
   "execution_count": null,
   "metadata": {},
   "outputs": [],
   "source": [
    "import os\n",
    "import operator\n",
    "from pathlib import Path\n",
    "\n",
    "# ----\n",
    "def fp_growth_input_per_patient(disease_name, disease_df, word_dict):\n",
    "    \n",
    "    disease_path = os.path.join(\"./tmp\", disease_name, \"inputs\")\n",
    "    if not os.path.exists(disease_path):\n",
    "        os.makedirs(disease_path)\n",
    "        \n",
    "    patient_id = -1\n",
    "#     patient_word_set = set()\n",
    "    patient_note_list = []\n",
    "    \n",
    "    # read line in from file (each line is one note)\n",
    "    for index, row in tqdm(disease_df.iterrows(), total=disease_df.shape[0]):\n",
    "        # only regard certain type of notes\n",
    "        patient_id_check = int(row['SUBJECT_ID_x'])\n",
    "        note = re.sub(r'\\[\\*\\*(.*?)\\*\\*\\]|[_,\\d\\*:~=\\.\\-\\+\\\\/]+', ' ', row['TEXT'])\n",
    "        patient_word_set = set()\n",
    "    \n",
    "#         print(f\"patient_id_check: {patient_id_check}, patient_id: {patient_id}\")\n",
    "        # if patient id has changed, end sequence and start new sequence\n",
    "        if not patient_id == patient_id_check and not patient_id == -1:\n",
    "        \n",
    "#             disease_path = \"./tmp/\" + disease_name\n",
    "            file_name = str(patient_id) + '_' + disease_name\n",
    "            file_path = os.path.join(disease_path, file_name)\n",
    "            \n",
    "            with open(file_path, \"w\") as output_fp:\n",
    "                # write the coverted dic for the text\n",
    "                # od = collections.OrderedDict(sorted(word_dict.items()))\n",
    "    \n",
    "                od = sorted(word_dict.items(), key = operator.itemgetter(1))\n",
    "                output_fp.write(\"@CONVERTED_FROM_TEXT\")\n",
    "                output_fp.write(\"\\n\")\n",
    "                # for k, v in od.iteritems():\n",
    "                for k,v in od:\n",
    "                    output_fp.write(\"@ITEM=\")\n",
    "                    output_fp.write(str(v))\n",
    "                    output_fp.write(\"=\")\n",
    "                    output_fp.write(str(k))\n",
    "                    output_fp.write(\"\\n\")\n",
    "\n",
    "                for item in patient_note_list:\n",
    "                    for x in range(len(item) - 1):\n",
    "                        output_fp.write(str(item[x]) + \" \")\n",
    "\n",
    "                    if item:\n",
    "                        output_fp.write(str(item[len(item)-1]))\n",
    "                        output_fp.write(\"\\n\")\n",
    "\n",
    "                patient_note_list = []\n",
    "                \n",
    "\n",
    "                    \n",
    "        # update patient id\n",
    "        patient_id = patient_id_check\n",
    "        tokenized_note = word_tokenize(note)\n",
    "\n",
    "        # loop through each word in note to count word belonging to each disease\n",
    "        for word in tokenized_note:\n",
    "            stemmed_word = stemmer.stem(word.lower())       \n",
    "            if stemmed_word in word_dict:\n",
    "                    patient_word_set.add(stemmed_word)\n",
    "\n",
    "        templst = []\n",
    "        for word in patient_word_set:\n",
    "            templst.append(word_dict[word])\n",
    "\n",
    "        templst.sort()\n",
    "        patient_note_list.append(templst)\n",
    "        \n",
    "            \n",
    "    print(\"FP growth input for \" + disease_name + \" generated!\")\n",
    "\n",
    "fp_growth_input_per_patient(\"pneumonia_dead\", pneumonia_dead_no_disch, word_dict)\n",
    "fp_growth_input_per_patient(\"pneumonia_alive\", pneumonia_alive_no_disch, word_dict)\n",
    "\n"
   ]
  },
  {
   "cell_type": "code",
   "execution_count": null,
   "metadata": {},
   "outputs": [],
   "source": [
    "import os, subprocess\n",
    "print(os.getcwd())\n",
    "os.system('ls -l')\n",
    "# process = subprocess.Popen([\"java -jar spmf run FPGrowth_itemsets pneumonia_dead FP_out_test 3%\"])\n",
    "# process.wait()"
   ]
  },
  {
   "cell_type": "code",
   "execution_count": null,
   "metadata": {
    "scrolled": true
   },
   "outputs": [],
   "source": [
    "import os, subprocess\n",
    "from tqdm import tqdm\n",
    "def fp_growth_output_per_pratient(disease_name):\n",
    "#     spmf = ['java', '-jar', 'spmf.jar', 'run', 'FPGrowth_itemsets']\n",
    "    minsup = '70%'\n",
    "    inputdir = os.path.join(\"./tmp\", disease_name, \"inputs\")\n",
    "    \n",
    "    outputdir = os.path.join(\"./tmp\", disease_name, \"outputs\")\n",
    "    if not os.path.exists(outputdir):\n",
    "        os.makedirs(outputdir)\n",
    "        \n",
    "    for patient_file in tqdm(os.listdir(inputdir)):\n",
    "#         print(patient_file)\n",
    "        input_ = os.path.join(inputdir, patient_file)\n",
    "        output_ = os.path.join(outputdir, patient_file)\n",
    "#         print(f\"input_: {input_}\")\n",
    "#         print(f\"output_: {output_}\")\n",
    "        command = ['java', '-jar', 'spmf.jar', 'run', 'FPGrowth_itemsets', input_, output_, minsup]\n",
    "#         print(f\"command: {command}\")\n",
    "        subprocess.call(command)\n",
    "\n",
    "        \n",
    "\n",
    "fp_growth_output_per_pratient(\"pneumonia_dead\")\n",
    "fp_growth_output_per_pratient(\"pneumonia_alive\")\n",
    "    "
   ]
  },
  {
   "cell_type": "code",
   "execution_count": null,
   "metadata": {
    "scrolled": true
   },
   "outputs": [],
   "source": [
    "def findItemSets(fileName, length_OfItemSet):\n",
    "\n",
    "    file_read = fileName\n",
    "    lengthOfItemSet = int(length_OfItemSet)\n",
    "\n",
    "    wordlst = []\n",
    "    with open(file_read, \"r\") as fp:\n",
    "        for line in fp:\n",
    "            line = line.split()\n",
    "            if line:\n",
    "                wordlst.append(line)\n",
    "\n",
    "    coocurrencies = []\n",
    "\n",
    "    for listitem in wordlst:\n",
    "\n",
    "        if len(listitem) == (lengthOfItemSet + 2):\n",
    "            coocurrencies.append(listitem)\n",
    "\n",
    "    output = sorted(coocurrencies, key=lambda x: int(x[-1]))\n",
    "\n",
    "\n",
    "    for x in reversed(output):\n",
    "        if lengthOfItemSet == 2:\n",
    "            print(\"%s %s %s\" % (x[0], x[1], x[3]))\n",
    "        elif lengthOfItemSet == 3:\n",
    "            print(\"%s %s %s %s\" % (x[0], x[1], x[2], x[4]))\n",
    "        elif lengthOfItemSet == 4:\n",
    "            print(\"%s %s %s %s %s\" % (x[0], x[1], x[2], x[3], x[5]))\n",
    "        elif lengthOfItemSet == 5:\n",
    "            print(\"%s %s %s %s %s %s\" % (x[0], x[1], x[2], x[3], x[4], x[6]))\n",
    "            \n",
    "# findItemSets('FP_growth_pneumonia_alive_output.txt', 2)\n",
    "findItemSets('./tmp/111_out.txt', 2)"
   ]
  },
  {
   "cell_type": "code",
   "execution_count": null,
   "metadata": {},
   "outputs": [],
   "source": []
  }
 ],
 "metadata": {
  "kernelspec": {
   "display_name": "Python 3",
   "language": "python",
   "name": "python3"
  },
  "language_info": {
   "codemirror_mode": {
    "name": "ipython",
    "version": 3
   },
   "file_extension": ".py",
   "mimetype": "text/x-python",
   "name": "python",
   "nbconvert_exporter": "python",
   "pygments_lexer": "ipython3",
   "version": "3.7.6"
  }
 },
 "nbformat": 4,
 "nbformat_minor": 4
}
