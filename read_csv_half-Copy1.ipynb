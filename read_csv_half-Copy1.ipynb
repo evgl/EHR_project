{
 "cells": [
  {
   "cell_type": "markdown",
   "metadata": {},
   "source": [
    "### Data extraction\n",
    "Extract data from MIMIC-III"
   ]
  },
  {
   "cell_type": "code",
   "execution_count": 3,
   "metadata": {},
   "outputs": [
    {
     "data": {
      "text/html": [
       "        <script type=\"text/javascript\">\n",
       "        window.PlotlyConfig = {MathJaxConfig: 'local'};\n",
       "        if (window.MathJax) {MathJax.Hub.Config({SVG: {font: \"STIX-Web\"}});}\n",
       "        if (typeof require !== 'undefined') {\n",
       "        require.undef(\"plotly\");\n",
       "        requirejs.config({\n",
       "            paths: {\n",
       "                'plotly': ['https://cdn.plot.ly/plotly-latest.min']\n",
       "            }\n",
       "        });\n",
       "        require(['plotly'], function(Plotly) {\n",
       "            window._Plotly = Plotly;\n",
       "        });\n",
       "        }\n",
       "        </script>\n",
       "        "
      ]
     },
     "metadata": {},
     "output_type": "display_data"
    }
   ],
   "source": [
    "import time\n",
    "import numpy as np \n",
    "import pandas as pd\n",
    "import matplotlib.pyplot as plt\n",
    "import seaborn as sns\n",
    "from tqdm import tqdm\n",
    "\n",
    "# import re\n",
    "\n",
    "# import plotly.graph_objs as go\n",
    "# import plotly.plotly as py\n",
    "import cufflinks\n",
    "# from IPython.core.interactiveshell import InteractiveShell\n",
    "# import plotly.figure_factory as ff\n",
    "# InteractiveShell.ast_node_interactivity = 'all'\n",
    "# from plotly.offline import iplot\n",
    "cufflinks.go_offline()\n",
    "cufflinks.set_config_file(world_readable=True, theme='pearl')"
   ]
  },
  {
   "cell_type": "code",
   "execution_count": 4,
   "metadata": {},
   "outputs": [
    {
     "name": "stderr",
     "output_type": "stream",
     "text": [
      "/data/home/evgenii/anaconda3/lib/python3.7/site-packages/IPython/core/interactiveshell.py:3063: DtypeWarning:\n",
      "\n",
      "Columns (4,5) have mixed types.Specify dtype option on import or set low_memory=False.\n",
      "\n"
     ]
    },
    {
     "name": "stdout",
     "output_type": "stream",
     "text": [
      "41.94098210334778\n"
     ]
    }
   ],
   "source": [
    "# Import pandas \n",
    "import pandas as pd \n",
    "\n",
    "start = time.time()\n",
    "# reading csv file \n",
    "admissions_df = pd.read_csv(\"../MIMIC-III/ADMISSIONS.csv\")\n",
    "noteevents_df = pd.read_csv(\"../MIMIC-III/NOTEEVENTS.csv\") \n",
    "end = time.time()\n",
    "print(end - start)\n"
   ]
  },
  {
   "cell_type": "code",
   "execution_count": 5,
   "metadata": {},
   "outputs": [],
   "source": [
    "# diagnosis = df.DIAGNOSIS.unique()\n",
    "# #PNEUMONIA\n",
    "# for i in diagnosis:\n",
    "#     print(f\"[{i}]\")\n",
    "# data = df.copy()\n",
    "# data.info()\n",
    "\n",
    "# pneumonia_df = data.loc[df['DIAGNOSIS'] == 'PNEUMONIA']\n",
    "# pneumonia_df.info()"
   ]
  },
  {
   "cell_type": "code",
   "execution_count": 6,
   "metadata": {
    "scrolled": true
   },
   "outputs": [
    {
     "data": {
      "text/html": [
       "<div>\n",
       "<style scoped>\n",
       "    .dataframe tbody tr th:only-of-type {\n",
       "        vertical-align: middle;\n",
       "    }\n",
       "\n",
       "    .dataframe tbody tr th {\n",
       "        vertical-align: top;\n",
       "    }\n",
       "\n",
       "    .dataframe thead th {\n",
       "        text-align: right;\n",
       "    }\n",
       "</style>\n",
       "<table border=\"1\" class=\"dataframe\">\n",
       "  <thead>\n",
       "    <tr style=\"text-align: right;\">\n",
       "      <th></th>\n",
       "      <th>ROW_ID</th>\n",
       "      <th>SUBJECT_ID</th>\n",
       "      <th>HADM_ID</th>\n",
       "      <th>ADMITTIME</th>\n",
       "      <th>DISCHTIME</th>\n",
       "      <th>DEATHTIME</th>\n",
       "      <th>ADMISSION_TYPE</th>\n",
       "      <th>ADMISSION_LOCATION</th>\n",
       "      <th>DISCHARGE_LOCATION</th>\n",
       "      <th>INSURANCE</th>\n",
       "      <th>LANGUAGE</th>\n",
       "      <th>RELIGION</th>\n",
       "      <th>MARITAL_STATUS</th>\n",
       "      <th>ETHNICITY</th>\n",
       "      <th>EDREGTIME</th>\n",
       "      <th>EDOUTTIME</th>\n",
       "      <th>DIAGNOSIS</th>\n",
       "      <th>HOSPITAL_EXPIRE_FLAG</th>\n",
       "      <th>HAS_CHARTEVENTS_DATA</th>\n",
       "    </tr>\n",
       "  </thead>\n",
       "  <tbody>\n",
       "    <tr>\n",
       "      <th>0</th>\n",
       "      <td>21</td>\n",
       "      <td>22</td>\n",
       "      <td>165315</td>\n",
       "      <td>2196-04-09 12:26:00</td>\n",
       "      <td>2196-04-10 15:54:00</td>\n",
       "      <td>NaN</td>\n",
       "      <td>EMERGENCY</td>\n",
       "      <td>EMERGENCY ROOM ADMIT</td>\n",
       "      <td>DISC-TRAN CANCER/CHLDRN H</td>\n",
       "      <td>Private</td>\n",
       "      <td>NaN</td>\n",
       "      <td>UNOBTAINABLE</td>\n",
       "      <td>MARRIED</td>\n",
       "      <td>WHITE</td>\n",
       "      <td>2196-04-09 10:06:00</td>\n",
       "      <td>2196-04-09 13:24:00</td>\n",
       "      <td>BENZODIAZEPINE OVERDOSE</td>\n",
       "      <td>0</td>\n",
       "      <td>1</td>\n",
       "    </tr>\n",
       "    <tr>\n",
       "      <th>1</th>\n",
       "      <td>22</td>\n",
       "      <td>23</td>\n",
       "      <td>152223</td>\n",
       "      <td>2153-09-03 07:15:00</td>\n",
       "      <td>2153-09-08 19:10:00</td>\n",
       "      <td>NaN</td>\n",
       "      <td>ELECTIVE</td>\n",
       "      <td>PHYS REFERRAL/NORMAL DELI</td>\n",
       "      <td>HOME HEALTH CARE</td>\n",
       "      <td>Medicare</td>\n",
       "      <td>NaN</td>\n",
       "      <td>CATHOLIC</td>\n",
       "      <td>MARRIED</td>\n",
       "      <td>WHITE</td>\n",
       "      <td>NaN</td>\n",
       "      <td>NaN</td>\n",
       "      <td>CORONARY ARTERY DISEASE\\CORONARY ARTERY BYPASS...</td>\n",
       "      <td>0</td>\n",
       "      <td>1</td>\n",
       "    </tr>\n",
       "    <tr>\n",
       "      <th>2</th>\n",
       "      <td>23</td>\n",
       "      <td>23</td>\n",
       "      <td>124321</td>\n",
       "      <td>2157-10-18 19:34:00</td>\n",
       "      <td>2157-10-25 14:00:00</td>\n",
       "      <td>NaN</td>\n",
       "      <td>EMERGENCY</td>\n",
       "      <td>TRANSFER FROM HOSP/EXTRAM</td>\n",
       "      <td>HOME HEALTH CARE</td>\n",
       "      <td>Medicare</td>\n",
       "      <td>ENGL</td>\n",
       "      <td>CATHOLIC</td>\n",
       "      <td>MARRIED</td>\n",
       "      <td>WHITE</td>\n",
       "      <td>NaN</td>\n",
       "      <td>NaN</td>\n",
       "      <td>BRAIN MASS</td>\n",
       "      <td>0</td>\n",
       "      <td>1</td>\n",
       "    </tr>\n",
       "    <tr>\n",
       "      <th>3</th>\n",
       "      <td>24</td>\n",
       "      <td>24</td>\n",
       "      <td>161859</td>\n",
       "      <td>2139-06-06 16:14:00</td>\n",
       "      <td>2139-06-09 12:48:00</td>\n",
       "      <td>NaN</td>\n",
       "      <td>EMERGENCY</td>\n",
       "      <td>TRANSFER FROM HOSP/EXTRAM</td>\n",
       "      <td>HOME</td>\n",
       "      <td>Private</td>\n",
       "      <td>NaN</td>\n",
       "      <td>PROTESTANT QUAKER</td>\n",
       "      <td>SINGLE</td>\n",
       "      <td>WHITE</td>\n",
       "      <td>NaN</td>\n",
       "      <td>NaN</td>\n",
       "      <td>INTERIOR MYOCARDIAL INFARCTION</td>\n",
       "      <td>0</td>\n",
       "      <td>1</td>\n",
       "    </tr>\n",
       "    <tr>\n",
       "      <th>4</th>\n",
       "      <td>25</td>\n",
       "      <td>25</td>\n",
       "      <td>129635</td>\n",
       "      <td>2160-11-02 02:06:00</td>\n",
       "      <td>2160-11-05 14:55:00</td>\n",
       "      <td>NaN</td>\n",
       "      <td>EMERGENCY</td>\n",
       "      <td>EMERGENCY ROOM ADMIT</td>\n",
       "      <td>HOME</td>\n",
       "      <td>Private</td>\n",
       "      <td>NaN</td>\n",
       "      <td>UNOBTAINABLE</td>\n",
       "      <td>MARRIED</td>\n",
       "      <td>WHITE</td>\n",
       "      <td>2160-11-02 01:01:00</td>\n",
       "      <td>2160-11-02 04:27:00</td>\n",
       "      <td>ACUTE CORONARY SYNDROME</td>\n",
       "      <td>0</td>\n",
       "      <td>1</td>\n",
       "    </tr>\n",
       "    <tr>\n",
       "      <th>...</th>\n",
       "      <td>...</td>\n",
       "      <td>...</td>\n",
       "      <td>...</td>\n",
       "      <td>...</td>\n",
       "      <td>...</td>\n",
       "      <td>...</td>\n",
       "      <td>...</td>\n",
       "      <td>...</td>\n",
       "      <td>...</td>\n",
       "      <td>...</td>\n",
       "      <td>...</td>\n",
       "      <td>...</td>\n",
       "      <td>...</td>\n",
       "      <td>...</td>\n",
       "      <td>...</td>\n",
       "      <td>...</td>\n",
       "      <td>...</td>\n",
       "      <td>...</td>\n",
       "      <td>...</td>\n",
       "    </tr>\n",
       "    <tr>\n",
       "      <th>58971</th>\n",
       "      <td>58594</td>\n",
       "      <td>98800</td>\n",
       "      <td>191113</td>\n",
       "      <td>2131-03-30 21:13:00</td>\n",
       "      <td>2131-04-02 15:02:00</td>\n",
       "      <td>NaN</td>\n",
       "      <td>EMERGENCY</td>\n",
       "      <td>CLINIC REFERRAL/PREMATURE</td>\n",
       "      <td>HOME</td>\n",
       "      <td>Private</td>\n",
       "      <td>ENGL</td>\n",
       "      <td>NOT SPECIFIED</td>\n",
       "      <td>SINGLE</td>\n",
       "      <td>WHITE</td>\n",
       "      <td>2131-03-30 19:44:00</td>\n",
       "      <td>2131-03-30 22:41:00</td>\n",
       "      <td>TRAUMA</td>\n",
       "      <td>0</td>\n",
       "      <td>1</td>\n",
       "    </tr>\n",
       "    <tr>\n",
       "      <th>58972</th>\n",
       "      <td>58595</td>\n",
       "      <td>98802</td>\n",
       "      <td>101071</td>\n",
       "      <td>2151-03-05 20:00:00</td>\n",
       "      <td>2151-03-06 09:10:00</td>\n",
       "      <td>2151-03-06 09:10:00</td>\n",
       "      <td>EMERGENCY</td>\n",
       "      <td>CLINIC REFERRAL/PREMATURE</td>\n",
       "      <td>DEAD/EXPIRED</td>\n",
       "      <td>Medicare</td>\n",
       "      <td>ENGL</td>\n",
       "      <td>CATHOLIC</td>\n",
       "      <td>WIDOWED</td>\n",
       "      <td>WHITE</td>\n",
       "      <td>2151-03-05 17:23:00</td>\n",
       "      <td>2151-03-05 21:06:00</td>\n",
       "      <td>SAH</td>\n",
       "      <td>1</td>\n",
       "      <td>1</td>\n",
       "    </tr>\n",
       "    <tr>\n",
       "      <th>58973</th>\n",
       "      <td>58596</td>\n",
       "      <td>98805</td>\n",
       "      <td>122631</td>\n",
       "      <td>2200-09-12 07:15:00</td>\n",
       "      <td>2200-09-20 12:08:00</td>\n",
       "      <td>NaN</td>\n",
       "      <td>ELECTIVE</td>\n",
       "      <td>PHYS REFERRAL/NORMAL DELI</td>\n",
       "      <td>HOME HEALTH CARE</td>\n",
       "      <td>Private</td>\n",
       "      <td>ENGL</td>\n",
       "      <td>NOT SPECIFIED</td>\n",
       "      <td>MARRIED</td>\n",
       "      <td>WHITE</td>\n",
       "      <td>NaN</td>\n",
       "      <td>NaN</td>\n",
       "      <td>RENAL CANCER/SDA</td>\n",
       "      <td>0</td>\n",
       "      <td>1</td>\n",
       "    </tr>\n",
       "    <tr>\n",
       "      <th>58974</th>\n",
       "      <td>58597</td>\n",
       "      <td>98813</td>\n",
       "      <td>170407</td>\n",
       "      <td>2128-11-11 02:29:00</td>\n",
       "      <td>2128-12-22 13:11:00</td>\n",
       "      <td>NaN</td>\n",
       "      <td>EMERGENCY</td>\n",
       "      <td>EMERGENCY ROOM ADMIT</td>\n",
       "      <td>SNF</td>\n",
       "      <td>Private</td>\n",
       "      <td>ENGL</td>\n",
       "      <td>CATHOLIC</td>\n",
       "      <td>MARRIED</td>\n",
       "      <td>WHITE</td>\n",
       "      <td>2128-11-10 23:48:00</td>\n",
       "      <td>2128-11-11 03:16:00</td>\n",
       "      <td>S/P FALL</td>\n",
       "      <td>0</td>\n",
       "      <td>0</td>\n",
       "    </tr>\n",
       "    <tr>\n",
       "      <th>58975</th>\n",
       "      <td>58598</td>\n",
       "      <td>98813</td>\n",
       "      <td>190264</td>\n",
       "      <td>2131-10-25 03:09:00</td>\n",
       "      <td>2131-10-26 17:44:00</td>\n",
       "      <td>NaN</td>\n",
       "      <td>EMERGENCY</td>\n",
       "      <td>CLINIC REFERRAL/PREMATURE</td>\n",
       "      <td>HOME</td>\n",
       "      <td>Private</td>\n",
       "      <td>ENGL</td>\n",
       "      <td>CATHOLIC</td>\n",
       "      <td>MARRIED</td>\n",
       "      <td>WHITE</td>\n",
       "      <td>2131-10-25 00:08:00</td>\n",
       "      <td>2131-10-25 04:35:00</td>\n",
       "      <td>INTRACRANIAL HEMORRHAGE</td>\n",
       "      <td>0</td>\n",
       "      <td>1</td>\n",
       "    </tr>\n",
       "  </tbody>\n",
       "</table>\n",
       "<p>58976 rows × 19 columns</p>\n",
       "</div>"
      ],
      "text/plain": [
       "       ROW_ID  SUBJECT_ID  HADM_ID            ADMITTIME            DISCHTIME  \\\n",
       "0          21          22   165315  2196-04-09 12:26:00  2196-04-10 15:54:00   \n",
       "1          22          23   152223  2153-09-03 07:15:00  2153-09-08 19:10:00   \n",
       "2          23          23   124321  2157-10-18 19:34:00  2157-10-25 14:00:00   \n",
       "3          24          24   161859  2139-06-06 16:14:00  2139-06-09 12:48:00   \n",
       "4          25          25   129635  2160-11-02 02:06:00  2160-11-05 14:55:00   \n",
       "...       ...         ...      ...                  ...                  ...   \n",
       "58971   58594       98800   191113  2131-03-30 21:13:00  2131-04-02 15:02:00   \n",
       "58972   58595       98802   101071  2151-03-05 20:00:00  2151-03-06 09:10:00   \n",
       "58973   58596       98805   122631  2200-09-12 07:15:00  2200-09-20 12:08:00   \n",
       "58974   58597       98813   170407  2128-11-11 02:29:00  2128-12-22 13:11:00   \n",
       "58975   58598       98813   190264  2131-10-25 03:09:00  2131-10-26 17:44:00   \n",
       "\n",
       "                 DEATHTIME ADMISSION_TYPE         ADMISSION_LOCATION  \\\n",
       "0                      NaN      EMERGENCY       EMERGENCY ROOM ADMIT   \n",
       "1                      NaN       ELECTIVE  PHYS REFERRAL/NORMAL DELI   \n",
       "2                      NaN      EMERGENCY  TRANSFER FROM HOSP/EXTRAM   \n",
       "3                      NaN      EMERGENCY  TRANSFER FROM HOSP/EXTRAM   \n",
       "4                      NaN      EMERGENCY       EMERGENCY ROOM ADMIT   \n",
       "...                    ...            ...                        ...   \n",
       "58971                  NaN      EMERGENCY  CLINIC REFERRAL/PREMATURE   \n",
       "58972  2151-03-06 09:10:00      EMERGENCY  CLINIC REFERRAL/PREMATURE   \n",
       "58973                  NaN       ELECTIVE  PHYS REFERRAL/NORMAL DELI   \n",
       "58974                  NaN      EMERGENCY       EMERGENCY ROOM ADMIT   \n",
       "58975                  NaN      EMERGENCY  CLINIC REFERRAL/PREMATURE   \n",
       "\n",
       "              DISCHARGE_LOCATION INSURANCE LANGUAGE           RELIGION  \\\n",
       "0      DISC-TRAN CANCER/CHLDRN H   Private      NaN       UNOBTAINABLE   \n",
       "1               HOME HEALTH CARE  Medicare      NaN           CATHOLIC   \n",
       "2               HOME HEALTH CARE  Medicare     ENGL           CATHOLIC   \n",
       "3                           HOME   Private      NaN  PROTESTANT QUAKER   \n",
       "4                           HOME   Private      NaN       UNOBTAINABLE   \n",
       "...                          ...       ...      ...                ...   \n",
       "58971                       HOME   Private     ENGL      NOT SPECIFIED   \n",
       "58972               DEAD/EXPIRED  Medicare     ENGL           CATHOLIC   \n",
       "58973           HOME HEALTH CARE   Private     ENGL      NOT SPECIFIED   \n",
       "58974                        SNF   Private     ENGL           CATHOLIC   \n",
       "58975                       HOME   Private     ENGL           CATHOLIC   \n",
       "\n",
       "      MARITAL_STATUS ETHNICITY            EDREGTIME            EDOUTTIME  \\\n",
       "0            MARRIED     WHITE  2196-04-09 10:06:00  2196-04-09 13:24:00   \n",
       "1            MARRIED     WHITE                  NaN                  NaN   \n",
       "2            MARRIED     WHITE                  NaN                  NaN   \n",
       "3             SINGLE     WHITE                  NaN                  NaN   \n",
       "4            MARRIED     WHITE  2160-11-02 01:01:00  2160-11-02 04:27:00   \n",
       "...              ...       ...                  ...                  ...   \n",
       "58971         SINGLE     WHITE  2131-03-30 19:44:00  2131-03-30 22:41:00   \n",
       "58972        WIDOWED     WHITE  2151-03-05 17:23:00  2151-03-05 21:06:00   \n",
       "58973        MARRIED     WHITE                  NaN                  NaN   \n",
       "58974        MARRIED     WHITE  2128-11-10 23:48:00  2128-11-11 03:16:00   \n",
       "58975        MARRIED     WHITE  2131-10-25 00:08:00  2131-10-25 04:35:00   \n",
       "\n",
       "                                               DIAGNOSIS  \\\n",
       "0                                BENZODIAZEPINE OVERDOSE   \n",
       "1      CORONARY ARTERY DISEASE\\CORONARY ARTERY BYPASS...   \n",
       "2                                             BRAIN MASS   \n",
       "3                         INTERIOR MYOCARDIAL INFARCTION   \n",
       "4                                ACUTE CORONARY SYNDROME   \n",
       "...                                                  ...   \n",
       "58971                                             TRAUMA   \n",
       "58972                                                SAH   \n",
       "58973                                   RENAL CANCER/SDA   \n",
       "58974                                           S/P FALL   \n",
       "58975                            INTRACRANIAL HEMORRHAGE   \n",
       "\n",
       "       HOSPITAL_EXPIRE_FLAG  HAS_CHARTEVENTS_DATA  \n",
       "0                         0                     1  \n",
       "1                         0                     1  \n",
       "2                         0                     1  \n",
       "3                         0                     1  \n",
       "4                         0                     1  \n",
       "...                     ...                   ...  \n",
       "58971                     0                     1  \n",
       "58972                     1                     1  \n",
       "58973                     0                     1  \n",
       "58974                     0                     0  \n",
       "58975                     0                     1  \n",
       "\n",
       "[58976 rows x 19 columns]"
      ]
     },
     "execution_count": 6,
     "metadata": {},
     "output_type": "execute_result"
    }
   ],
   "source": [
    "admissions_df"
   ]
  },
  {
   "cell_type": "code",
   "execution_count": 7,
   "metadata": {
    "scrolled": true
   },
   "outputs": [
    {
     "name": "stdout",
     "output_type": "stream",
     "text": [
      "<class 'pandas.core.frame.DataFrame'>\n",
      "RangeIndex: 2083180 entries, 0 to 2083179\n",
      "Data columns (total 11 columns):\n",
      " #   Column       Dtype  \n",
      "---  ------       -----  \n",
      " 0   ROW_ID       int64  \n",
      " 1   SUBJECT_ID   int64  \n",
      " 2   HADM_ID      float64\n",
      " 3   CHARTDATE    object \n",
      " 4   CHARTTIME    object \n",
      " 5   STORETIME    object \n",
      " 6   CATEGORY     object \n",
      " 7   DESCRIPTION  object \n",
      " 8   CGID         float64\n",
      " 9   ISERROR      float64\n",
      " 10  TEXT         object \n",
      "dtypes: float64(3), int64(2), object(6)\n",
      "memory usage: 174.8+ MB\n"
     ]
    }
   ],
   "source": [
    "noteevents_df.info()"
   ]
  },
  {
   "cell_type": "code",
   "execution_count": 8,
   "metadata": {},
   "outputs": [
    {
     "name": "stdout",
     "output_type": "stream",
     "text": [
      "<class 'pandas.core.frame.DataFrame'>\n",
      "RangeIndex: 58976 entries, 0 to 58975\n",
      "Data columns (total 19 columns):\n",
      " #   Column                Non-Null Count  Dtype \n",
      "---  ------                --------------  ----- \n",
      " 0   ROW_ID                58976 non-null  int64 \n",
      " 1   SUBJECT_ID            58976 non-null  int64 \n",
      " 2   HADM_ID               58976 non-null  int64 \n",
      " 3   ADMITTIME             58976 non-null  object\n",
      " 4   DISCHTIME             58976 non-null  object\n",
      " 5   DEATHTIME             5854 non-null   object\n",
      " 6   ADMISSION_TYPE        58976 non-null  object\n",
      " 7   ADMISSION_LOCATION    58976 non-null  object\n",
      " 8   DISCHARGE_LOCATION    58976 non-null  object\n",
      " 9   INSURANCE             58976 non-null  object\n",
      " 10  LANGUAGE              33644 non-null  object\n",
      " 11  RELIGION              58518 non-null  object\n",
      " 12  MARITAL_STATUS        48848 non-null  object\n",
      " 13  ETHNICITY             58976 non-null  object\n",
      " 14  EDREGTIME             30877 non-null  object\n",
      " 15  EDOUTTIME             30877 non-null  object\n",
      " 16  DIAGNOSIS             58951 non-null  object\n",
      " 17  HOSPITAL_EXPIRE_FLAG  58976 non-null  int64 \n",
      " 18  HAS_CHARTEVENTS_DATA  58976 non-null  int64 \n",
      "dtypes: int64(5), object(14)\n",
      "memory usage: 8.5+ MB\n"
     ]
    }
   ],
   "source": [
    "admissions_df.info()"
   ]
  },
  {
   "cell_type": "code",
   "execution_count": 9,
   "metadata": {},
   "outputs": [
    {
     "data": {
      "text/plain": [
       "\"\\n>>> left\\n  transaction_id user_id     value\\n0              A   Peter  1.867558\\n1              B    John -0.977278\\n2              C    John  0.950088\\n3              D    Anna -0.151357\\n>>> right\\n  user_id favorite_color\\n0    Paul           blue\\n1    Mary           blue\\n2    John            red\\n3    Anna            NaN\\n\\n---------\\n>>> left.merge(right, on='user_id', how='left', indicator=True)\\n  transaction_id user_id     value favorite_color     _merge\\n0              A   Peter  1.867558            NaN  left_only\\n1              B    John -0.977278            red       both\\n2              C    John  0.950088            red       both\\n3              D    Anna -0.151357            NaN       both\\n\\n---------\\nleft.merge(right.rename({'user_id': 'user_id_r'}, axis=1),\\n               left_on='user_id', right_on='user_id_r', how='left')\\n               \\n  transaction_id user_id     value user_id_r favorite_color\\n0              A   Peter  1.867558       NaN            NaN\\n1              B    John -0.977278      John            red\\n2              C    John  0.950088      John            red\\n3              D    Anna -0.151357      Anna            NaN\\n---------\\nselect\\n    t.transaction_id\\n    , t.user_id\\n    , t.value\\n    , u.user_id as user_id_r\\n    , u.favorite_color\\nfrom\\n    transactions t\\n    left join\\n    users u\\n    on t.user_id = u.user_id\\n;\\n\""
      ]
     },
     "execution_count": 9,
     "metadata": {},
     "output_type": "execute_result"
    }
   ],
   "source": [
    "# https://towardsdatascience.com/left-join-with-pandas-data-frames-in-python-c29c85089ba4\n",
    "# left_join = noteevents_df.join(admissions_df.set_index('HADM_ID'), on='HADM_ID')\n",
    "# left_join = noteevents_df.set_index('HADM_ID').join(admissions_df.set_index('HADM_ID'))\n",
    "\"\"\"\n",
    ">>> left\n",
    "  transaction_id user_id     value\n",
    "0              A   Peter  1.867558\n",
    "1              B    John -0.977278\n",
    "2              C    John  0.950088\n",
    "3              D    Anna -0.151357\n",
    ">>> right\n",
    "  user_id favorite_color\n",
    "0    Paul           blue\n",
    "1    Mary           blue\n",
    "2    John            red\n",
    "3    Anna            NaN\n",
    "\n",
    "---------\n",
    ">>> left.merge(right, on='user_id', how='left', indicator=True)\n",
    "  transaction_id user_id     value favorite_color     _merge\n",
    "0              A   Peter  1.867558            NaN  left_only\n",
    "1              B    John -0.977278            red       both\n",
    "2              C    John  0.950088            red       both\n",
    "3              D    Anna -0.151357            NaN       both\n",
    "\n",
    "---------\n",
    "left.merge(right.rename({'user_id': 'user_id_r'}, axis=1),\n",
    "               left_on='user_id', right_on='user_id_r', how='left')\n",
    "               \n",
    "  transaction_id user_id     value user_id_r favorite_color\n",
    "0              A   Peter  1.867558       NaN            NaN\n",
    "1              B    John -0.977278      John            red\n",
    "2              C    John  0.950088      John            red\n",
    "3              D    Anna -0.151357      Anna            NaN\n",
    "---------\n",
    "select\n",
    "    t.transaction_id\n",
    "    , t.user_id\n",
    "    , t.value\n",
    "    , u.user_id as user_id_r\n",
    "    , u.favorite_color\n",
    "from\n",
    "    transactions t\n",
    "    left join\n",
    "    users u\n",
    "    on t.user_id = u.user_id\n",
    ";\n",
    "\"\"\""
   ]
  },
  {
   "cell_type": "code",
   "execution_count": 10,
   "metadata": {},
   "outputs": [
    {
     "name": "stdout",
     "output_type": "stream",
     "text": [
      "24.58938455581665\n"
     ]
    }
   ],
   "source": [
    "start = time.time()\n",
    "# Left join of two dataframes\n",
    "note_admiss_df_left = noteevents_df.merge(admissions_df, on='HADM_ID', how='left', indicator=True)\n",
    "end = time.time()\n",
    "print(end - start)"
   ]
  },
  {
   "cell_type": "code",
   "execution_count": 11,
   "metadata": {
    "scrolled": false
   },
   "outputs": [
    {
     "name": "stdout",
     "output_type": "stream",
     "text": [
      "<class 'pandas.core.frame.DataFrame'>\n",
      "Int64Index: 2083180 entries, 0 to 2083179\n",
      "Data columns (total 30 columns):\n",
      " #   Column                Dtype   \n",
      "---  ------                -----   \n",
      " 0   ROW_ID_x              int64   \n",
      " 1   SUBJECT_ID_x          int64   \n",
      " 2   HADM_ID               float64 \n",
      " 3   CHARTDATE             object  \n",
      " 4   CHARTTIME             object  \n",
      " 5   STORETIME             object  \n",
      " 6   CATEGORY              object  \n",
      " 7   DESCRIPTION           object  \n",
      " 8   CGID                  float64 \n",
      " 9   ISERROR               float64 \n",
      " 10  TEXT                  object  \n",
      " 11  ROW_ID_y              float64 \n",
      " 12  SUBJECT_ID_y          float64 \n",
      " 13  ADMITTIME             object  \n",
      " 14  DISCHTIME             object  \n",
      " 15  DEATHTIME             object  \n",
      " 16  ADMISSION_TYPE        object  \n",
      " 17  ADMISSION_LOCATION    object  \n",
      " 18  DISCHARGE_LOCATION    object  \n",
      " 19  INSURANCE             object  \n",
      " 20  LANGUAGE              object  \n",
      " 21  RELIGION              object  \n",
      " 22  MARITAL_STATUS        object  \n",
      " 23  ETHNICITY             object  \n",
      " 24  EDREGTIME             object  \n",
      " 25  EDOUTTIME             object  \n",
      " 26  DIAGNOSIS             object  \n",
      " 27  HOSPITAL_EXPIRE_FLAG  float64 \n",
      " 28  HAS_CHARTEVENTS_DATA  float64 \n",
      " 29  _merge                category\n",
      "dtypes: category(1), float64(7), int64(2), object(20)\n",
      "memory usage: 478.8+ MB\n"
     ]
    }
   ],
   "source": [
    "note_admiss_df_left.info()"
   ]
  },
  {
   "cell_type": "code",
   "execution_count": 12,
   "metadata": {},
   "outputs": [
    {
     "data": {
      "text/plain": [
       "(2083180, 30)"
      ]
     },
     "execution_count": 12,
     "metadata": {},
     "output_type": "execute_result"
    }
   ],
   "source": [
    "note_admiss_df_left.shape"
   ]
  },
  {
   "cell_type": "code",
   "execution_count": 13,
   "metadata": {
    "scrolled": false
   },
   "outputs": [
    {
     "data": {
      "text/html": [
       "<div>\n",
       "<style scoped>\n",
       "    .dataframe tbody tr th:only-of-type {\n",
       "        vertical-align: middle;\n",
       "    }\n",
       "\n",
       "    .dataframe tbody tr th {\n",
       "        vertical-align: top;\n",
       "    }\n",
       "\n",
       "    .dataframe thead th {\n",
       "        text-align: right;\n",
       "    }\n",
       "</style>\n",
       "<table border=\"1\" class=\"dataframe\">\n",
       "  <thead>\n",
       "    <tr style=\"text-align: right;\">\n",
       "      <th></th>\n",
       "      <th>DIAGNOSIS</th>\n",
       "      <th>SUBJECT_ID_x</th>\n",
       "      <th>SUBJECT_ID_y</th>\n",
       "      <th>DESCRIPTION</th>\n",
       "      <th>CATEGORY</th>\n",
       "    </tr>\n",
       "  </thead>\n",
       "  <tbody>\n",
       "    <tr>\n",
       "      <th>0</th>\n",
       "      <td>RT LOWER LOBE PNEUMONIA</td>\n",
       "      <td>22532</td>\n",
       "      <td>22532.0</td>\n",
       "      <td>Report</td>\n",
       "      <td>Discharge summary</td>\n",
       "    </tr>\n",
       "    <tr>\n",
       "      <th>1</th>\n",
       "      <td>CHRONIC OBSTRUCTIVE PULMONARY DISEASE</td>\n",
       "      <td>13702</td>\n",
       "      <td>13702.0</td>\n",
       "      <td>Report</td>\n",
       "      <td>Discharge summary</td>\n",
       "    </tr>\n",
       "    <tr>\n",
       "      <th>2</th>\n",
       "      <td>TRACHEALBRONCHEAL MALACEA/SDA</td>\n",
       "      <td>13702</td>\n",
       "      <td>13702.0</td>\n",
       "      <td>Report</td>\n",
       "      <td>Discharge summary</td>\n",
       "    </tr>\n",
       "    <tr>\n",
       "      <th>3</th>\n",
       "      <td>ASTHMA;COPD EXACERBATION</td>\n",
       "      <td>13702</td>\n",
       "      <td>13702.0</td>\n",
       "      <td>Report</td>\n",
       "      <td>Discharge summary</td>\n",
       "    </tr>\n",
       "    <tr>\n",
       "      <th>4</th>\n",
       "      <td>S/P FALL;TELEMETRY</td>\n",
       "      <td>26880</td>\n",
       "      <td>26880.0</td>\n",
       "      <td>Report</td>\n",
       "      <td>Discharge summary</td>\n",
       "    </tr>\n",
       "    <tr>\n",
       "      <th>...</th>\n",
       "      <td>...</td>\n",
       "      <td>...</td>\n",
       "      <td>...</td>\n",
       "      <td>...</td>\n",
       "      <td>...</td>\n",
       "    </tr>\n",
       "    <tr>\n",
       "      <th>2083175</th>\n",
       "      <td>NEWBORN</td>\n",
       "      <td>31097</td>\n",
       "      <td>31097.0</td>\n",
       "      <td>Report</td>\n",
       "      <td>Nursing/other</td>\n",
       "    </tr>\n",
       "    <tr>\n",
       "      <th>2083176</th>\n",
       "      <td>NEWBORN</td>\n",
       "      <td>31097</td>\n",
       "      <td>31097.0</td>\n",
       "      <td>Report</td>\n",
       "      <td>Nursing/other</td>\n",
       "    </tr>\n",
       "    <tr>\n",
       "      <th>2083177</th>\n",
       "      <td>NEWBORN</td>\n",
       "      <td>31097</td>\n",
       "      <td>31097.0</td>\n",
       "      <td>Report</td>\n",
       "      <td>Nursing/other</td>\n",
       "    </tr>\n",
       "    <tr>\n",
       "      <th>2083178</th>\n",
       "      <td>NEWBORN</td>\n",
       "      <td>31097</td>\n",
       "      <td>31097.0</td>\n",
       "      <td>Report</td>\n",
       "      <td>Nursing/other</td>\n",
       "    </tr>\n",
       "    <tr>\n",
       "      <th>2083179</th>\n",
       "      <td>NEWBORN</td>\n",
       "      <td>31097</td>\n",
       "      <td>31097.0</td>\n",
       "      <td>Report</td>\n",
       "      <td>Nursing/other</td>\n",
       "    </tr>\n",
       "  </tbody>\n",
       "</table>\n",
       "<p>2083180 rows × 5 columns</p>\n",
       "</div>"
      ],
      "text/plain": [
       "                                     DIAGNOSIS  SUBJECT_ID_x  SUBJECT_ID_y  \\\n",
       "0                      RT LOWER LOBE PNEUMONIA         22532       22532.0   \n",
       "1        CHRONIC OBSTRUCTIVE PULMONARY DISEASE         13702       13702.0   \n",
       "2                TRACHEALBRONCHEAL MALACEA/SDA         13702       13702.0   \n",
       "3                     ASTHMA;COPD EXACERBATION         13702       13702.0   \n",
       "4                           S/P FALL;TELEMETRY         26880       26880.0   \n",
       "...                                        ...           ...           ...   \n",
       "2083175                                NEWBORN         31097       31097.0   \n",
       "2083176                                NEWBORN         31097       31097.0   \n",
       "2083177                                NEWBORN         31097       31097.0   \n",
       "2083178                                NEWBORN         31097       31097.0   \n",
       "2083179                                NEWBORN         31097       31097.0   \n",
       "\n",
       "        DESCRIPTION           CATEGORY  \n",
       "0            Report  Discharge summary  \n",
       "1            Report  Discharge summary  \n",
       "2            Report  Discharge summary  \n",
       "3            Report  Discharge summary  \n",
       "4            Report  Discharge summary  \n",
       "...             ...                ...  \n",
       "2083175      Report      Nursing/other  \n",
       "2083176      Report      Nursing/other  \n",
       "2083177      Report      Nursing/other  \n",
       "2083178      Report      Nursing/other  \n",
       "2083179      Report      Nursing/other  \n",
       "\n",
       "[2083180 rows x 5 columns]"
      ]
     },
     "execution_count": 13,
     "metadata": {},
     "output_type": "execute_result"
    }
   ],
   "source": [
    "# df1 = df[['a','b']]\n",
    "note_admiss_df_left[['DIAGNOSIS', 'SUBJECT_ID_x', 'SUBJECT_ID_y','DESCRIPTION', 'CATEGORY']]"
   ]
  },
  {
   "cell_type": "code",
   "execution_count": 14,
   "metadata": {
    "scrolled": true
   },
   "outputs": [],
   "source": [
    "pneumonia_df = note_admiss_df_left.loc[note_admiss_df_left[\"DIAGNOSIS\"] == 'PNEUMONIA', ['ROW_ID_x', 'SUBJECT_ID_x', 'HADM_ID', 'CHARTDATE', 'CHARTTIME', 'STORETIME', 'CATEGORY', 'DESCRIPTION', 'CGID', 'ISERROR', 'TEXT', 'ADMITTIME', 'DISCHTIME', 'DEATHTIME', 'ADMISSION_TYPE', 'DIAGNOSIS', 'HAS_CHARTEVENTS_DATA']]"
   ]
  },
  {
   "cell_type": "code",
   "execution_count": null,
   "metadata": {
    "scrolled": false
   },
   "outputs": [],
   "source": []
  },
  {
   "cell_type": "code",
   "execution_count": 15,
   "metadata": {
    "scrolled": true
   },
   "outputs": [
    {
     "data": {
      "text/plain": [
       "(59727, 17)"
      ]
     },
     "execution_count": 15,
     "metadata": {},
     "output_type": "execute_result"
    }
   ],
   "source": [
    "pneumonia_df.shape"
   ]
  },
  {
   "cell_type": "code",
   "execution_count": 16,
   "metadata": {
    "scrolled": false
   },
   "outputs": [
    {
     "data": {
      "application/vnd.plotly.v1+json": {
       "config": {
        "linkText": "Export to plot.ly",
        "plotlyServerURL": "https://plot.ly",
        "showLink": true
       },
       "data": [
        {
         "marker": {
          "color": "rgba(255, 153, 51, 0.6)",
          "line": {
           "color": "rgba(255, 153, 51, 1.0)",
           "width": 1
          }
         },
         "name": "CATEGORY",
         "orientation": "v",
         "text": "",
         "type": "bar",
         "x": [
          "Nursing",
          "Nursing/other",
          "Radiology",
          "Physician ",
          "ECG",
          "Respiratory ",
          "Discharge summary",
          "Echo",
          "General",
          "Nutrition",
          "Rehab Services",
          "Social Work",
          "Case Management ",
          "Pharmacy",
          "Consult"
         ],
         "y": [
          13256,
          12693,
          11723,
          10643,
          4469,
          2454,
          1698,
          949,
          680,
          638,
          231,
          142,
          135,
          15,
          1
         ]
        }
       ],
       "layout": {
        "legend": {
         "bgcolor": "#F5F6F9",
         "font": {
          "color": "#4D5663"
         }
        },
        "paper_bgcolor": "#F5F6F9",
        "plot_bgcolor": "#F5F6F9",
        "template": {
         "data": {
          "bar": [
           {
            "error_x": {
             "color": "#2a3f5f"
            },
            "error_y": {
             "color": "#2a3f5f"
            },
            "marker": {
             "line": {
              "color": "#E5ECF6",
              "width": 0.5
             }
            },
            "type": "bar"
           }
          ],
          "barpolar": [
           {
            "marker": {
             "line": {
              "color": "#E5ECF6",
              "width": 0.5
             }
            },
            "type": "barpolar"
           }
          ],
          "carpet": [
           {
            "aaxis": {
             "endlinecolor": "#2a3f5f",
             "gridcolor": "white",
             "linecolor": "white",
             "minorgridcolor": "white",
             "startlinecolor": "#2a3f5f"
            },
            "baxis": {
             "endlinecolor": "#2a3f5f",
             "gridcolor": "white",
             "linecolor": "white",
             "minorgridcolor": "white",
             "startlinecolor": "#2a3f5f"
            },
            "type": "carpet"
           }
          ],
          "choropleth": [
           {
            "colorbar": {
             "outlinewidth": 0,
             "ticks": ""
            },
            "type": "choropleth"
           }
          ],
          "contour": [
           {
            "colorbar": {
             "outlinewidth": 0,
             "ticks": ""
            },
            "colorscale": [
             [
              0,
              "#0d0887"
             ],
             [
              0.1111111111111111,
              "#46039f"
             ],
             [
              0.2222222222222222,
              "#7201a8"
             ],
             [
              0.3333333333333333,
              "#9c179e"
             ],
             [
              0.4444444444444444,
              "#bd3786"
             ],
             [
              0.5555555555555556,
              "#d8576b"
             ],
             [
              0.6666666666666666,
              "#ed7953"
             ],
             [
              0.7777777777777778,
              "#fb9f3a"
             ],
             [
              0.8888888888888888,
              "#fdca26"
             ],
             [
              1,
              "#f0f921"
             ]
            ],
            "type": "contour"
           }
          ],
          "contourcarpet": [
           {
            "colorbar": {
             "outlinewidth": 0,
             "ticks": ""
            },
            "type": "contourcarpet"
           }
          ],
          "heatmap": [
           {
            "colorbar": {
             "outlinewidth": 0,
             "ticks": ""
            },
            "colorscale": [
             [
              0,
              "#0d0887"
             ],
             [
              0.1111111111111111,
              "#46039f"
             ],
             [
              0.2222222222222222,
              "#7201a8"
             ],
             [
              0.3333333333333333,
              "#9c179e"
             ],
             [
              0.4444444444444444,
              "#bd3786"
             ],
             [
              0.5555555555555556,
              "#d8576b"
             ],
             [
              0.6666666666666666,
              "#ed7953"
             ],
             [
              0.7777777777777778,
              "#fb9f3a"
             ],
             [
              0.8888888888888888,
              "#fdca26"
             ],
             [
              1,
              "#f0f921"
             ]
            ],
            "type": "heatmap"
           }
          ],
          "heatmapgl": [
           {
            "colorbar": {
             "outlinewidth": 0,
             "ticks": ""
            },
            "colorscale": [
             [
              0,
              "#0d0887"
             ],
             [
              0.1111111111111111,
              "#46039f"
             ],
             [
              0.2222222222222222,
              "#7201a8"
             ],
             [
              0.3333333333333333,
              "#9c179e"
             ],
             [
              0.4444444444444444,
              "#bd3786"
             ],
             [
              0.5555555555555556,
              "#d8576b"
             ],
             [
              0.6666666666666666,
              "#ed7953"
             ],
             [
              0.7777777777777778,
              "#fb9f3a"
             ],
             [
              0.8888888888888888,
              "#fdca26"
             ],
             [
              1,
              "#f0f921"
             ]
            ],
            "type": "heatmapgl"
           }
          ],
          "histogram": [
           {
            "marker": {
             "colorbar": {
              "outlinewidth": 0,
              "ticks": ""
             }
            },
            "type": "histogram"
           }
          ],
          "histogram2d": [
           {
            "colorbar": {
             "outlinewidth": 0,
             "ticks": ""
            },
            "colorscale": [
             [
              0,
              "#0d0887"
             ],
             [
              0.1111111111111111,
              "#46039f"
             ],
             [
              0.2222222222222222,
              "#7201a8"
             ],
             [
              0.3333333333333333,
              "#9c179e"
             ],
             [
              0.4444444444444444,
              "#bd3786"
             ],
             [
              0.5555555555555556,
              "#d8576b"
             ],
             [
              0.6666666666666666,
              "#ed7953"
             ],
             [
              0.7777777777777778,
              "#fb9f3a"
             ],
             [
              0.8888888888888888,
              "#fdca26"
             ],
             [
              1,
              "#f0f921"
             ]
            ],
            "type": "histogram2d"
           }
          ],
          "histogram2dcontour": [
           {
            "colorbar": {
             "outlinewidth": 0,
             "ticks": ""
            },
            "colorscale": [
             [
              0,
              "#0d0887"
             ],
             [
              0.1111111111111111,
              "#46039f"
             ],
             [
              0.2222222222222222,
              "#7201a8"
             ],
             [
              0.3333333333333333,
              "#9c179e"
             ],
             [
              0.4444444444444444,
              "#bd3786"
             ],
             [
              0.5555555555555556,
              "#d8576b"
             ],
             [
              0.6666666666666666,
              "#ed7953"
             ],
             [
              0.7777777777777778,
              "#fb9f3a"
             ],
             [
              0.8888888888888888,
              "#fdca26"
             ],
             [
              1,
              "#f0f921"
             ]
            ],
            "type": "histogram2dcontour"
           }
          ],
          "mesh3d": [
           {
            "colorbar": {
             "outlinewidth": 0,
             "ticks": ""
            },
            "type": "mesh3d"
           }
          ],
          "parcoords": [
           {
            "line": {
             "colorbar": {
              "outlinewidth": 0,
              "ticks": ""
             }
            },
            "type": "parcoords"
           }
          ],
          "pie": [
           {
            "automargin": true,
            "type": "pie"
           }
          ],
          "scatter": [
           {
            "marker": {
             "colorbar": {
              "outlinewidth": 0,
              "ticks": ""
             }
            },
            "type": "scatter"
           }
          ],
          "scatter3d": [
           {
            "line": {
             "colorbar": {
              "outlinewidth": 0,
              "ticks": ""
             }
            },
            "marker": {
             "colorbar": {
              "outlinewidth": 0,
              "ticks": ""
             }
            },
            "type": "scatter3d"
           }
          ],
          "scattercarpet": [
           {
            "marker": {
             "colorbar": {
              "outlinewidth": 0,
              "ticks": ""
             }
            },
            "type": "scattercarpet"
           }
          ],
          "scattergeo": [
           {
            "marker": {
             "colorbar": {
              "outlinewidth": 0,
              "ticks": ""
             }
            },
            "type": "scattergeo"
           }
          ],
          "scattergl": [
           {
            "marker": {
             "colorbar": {
              "outlinewidth": 0,
              "ticks": ""
             }
            },
            "type": "scattergl"
           }
          ],
          "scattermapbox": [
           {
            "marker": {
             "colorbar": {
              "outlinewidth": 0,
              "ticks": ""
             }
            },
            "type": "scattermapbox"
           }
          ],
          "scatterpolar": [
           {
            "marker": {
             "colorbar": {
              "outlinewidth": 0,
              "ticks": ""
             }
            },
            "type": "scatterpolar"
           }
          ],
          "scatterpolargl": [
           {
            "marker": {
             "colorbar": {
              "outlinewidth": 0,
              "ticks": ""
             }
            },
            "type": "scatterpolargl"
           }
          ],
          "scatterternary": [
           {
            "marker": {
             "colorbar": {
              "outlinewidth": 0,
              "ticks": ""
             }
            },
            "type": "scatterternary"
           }
          ],
          "surface": [
           {
            "colorbar": {
             "outlinewidth": 0,
             "ticks": ""
            },
            "colorscale": [
             [
              0,
              "#0d0887"
             ],
             [
              0.1111111111111111,
              "#46039f"
             ],
             [
              0.2222222222222222,
              "#7201a8"
             ],
             [
              0.3333333333333333,
              "#9c179e"
             ],
             [
              0.4444444444444444,
              "#bd3786"
             ],
             [
              0.5555555555555556,
              "#d8576b"
             ],
             [
              0.6666666666666666,
              "#ed7953"
             ],
             [
              0.7777777777777778,
              "#fb9f3a"
             ],
             [
              0.8888888888888888,
              "#fdca26"
             ],
             [
              1,
              "#f0f921"
             ]
            ],
            "type": "surface"
           }
          ],
          "table": [
           {
            "cells": {
             "fill": {
              "color": "#EBF0F8"
             },
             "line": {
              "color": "white"
             }
            },
            "header": {
             "fill": {
              "color": "#C8D4E3"
             },
             "line": {
              "color": "white"
             }
            },
            "type": "table"
           }
          ]
         },
         "layout": {
          "annotationdefaults": {
           "arrowcolor": "#2a3f5f",
           "arrowhead": 0,
           "arrowwidth": 1
          },
          "coloraxis": {
           "colorbar": {
            "outlinewidth": 0,
            "ticks": ""
           }
          },
          "colorscale": {
           "diverging": [
            [
             0,
             "#8e0152"
            ],
            [
             0.1,
             "#c51b7d"
            ],
            [
             0.2,
             "#de77ae"
            ],
            [
             0.3,
             "#f1b6da"
            ],
            [
             0.4,
             "#fde0ef"
            ],
            [
             0.5,
             "#f7f7f7"
            ],
            [
             0.6,
             "#e6f5d0"
            ],
            [
             0.7,
             "#b8e186"
            ],
            [
             0.8,
             "#7fbc41"
            ],
            [
             0.9,
             "#4d9221"
            ],
            [
             1,
             "#276419"
            ]
           ],
           "sequential": [
            [
             0,
             "#0d0887"
            ],
            [
             0.1111111111111111,
             "#46039f"
            ],
            [
             0.2222222222222222,
             "#7201a8"
            ],
            [
             0.3333333333333333,
             "#9c179e"
            ],
            [
             0.4444444444444444,
             "#bd3786"
            ],
            [
             0.5555555555555556,
             "#d8576b"
            ],
            [
             0.6666666666666666,
             "#ed7953"
            ],
            [
             0.7777777777777778,
             "#fb9f3a"
            ],
            [
             0.8888888888888888,
             "#fdca26"
            ],
            [
             1,
             "#f0f921"
            ]
           ],
           "sequentialminus": [
            [
             0,
             "#0d0887"
            ],
            [
             0.1111111111111111,
             "#46039f"
            ],
            [
             0.2222222222222222,
             "#7201a8"
            ],
            [
             0.3333333333333333,
             "#9c179e"
            ],
            [
             0.4444444444444444,
             "#bd3786"
            ],
            [
             0.5555555555555556,
             "#d8576b"
            ],
            [
             0.6666666666666666,
             "#ed7953"
            ],
            [
             0.7777777777777778,
             "#fb9f3a"
            ],
            [
             0.8888888888888888,
             "#fdca26"
            ],
            [
             1,
             "#f0f921"
            ]
           ]
          },
          "colorway": [
           "#636efa",
           "#EF553B",
           "#00cc96",
           "#ab63fa",
           "#FFA15A",
           "#19d3f3",
           "#FF6692",
           "#B6E880",
           "#FF97FF",
           "#FECB52"
          ],
          "font": {
           "color": "#2a3f5f"
          },
          "geo": {
           "bgcolor": "white",
           "lakecolor": "white",
           "landcolor": "#E5ECF6",
           "showlakes": true,
           "showland": true,
           "subunitcolor": "white"
          },
          "hoverlabel": {
           "align": "left"
          },
          "hovermode": "closest",
          "mapbox": {
           "style": "light"
          },
          "paper_bgcolor": "white",
          "plot_bgcolor": "#E5ECF6",
          "polar": {
           "angularaxis": {
            "gridcolor": "white",
            "linecolor": "white",
            "ticks": ""
           },
           "bgcolor": "#E5ECF6",
           "radialaxis": {
            "gridcolor": "white",
            "linecolor": "white",
            "ticks": ""
           }
          },
          "scene": {
           "xaxis": {
            "backgroundcolor": "#E5ECF6",
            "gridcolor": "white",
            "gridwidth": 2,
            "linecolor": "white",
            "showbackground": true,
            "ticks": "",
            "zerolinecolor": "white"
           },
           "yaxis": {
            "backgroundcolor": "#E5ECF6",
            "gridcolor": "white",
            "gridwidth": 2,
            "linecolor": "white",
            "showbackground": true,
            "ticks": "",
            "zerolinecolor": "white"
           },
           "zaxis": {
            "backgroundcolor": "#E5ECF6",
            "gridcolor": "white",
            "gridwidth": 2,
            "linecolor": "white",
            "showbackground": true,
            "ticks": "",
            "zerolinecolor": "white"
           }
          },
          "shapedefaults": {
           "line": {
            "color": "#2a3f5f"
           }
          },
          "ternary": {
           "aaxis": {
            "gridcolor": "white",
            "linecolor": "white",
            "ticks": ""
           },
           "baxis": {
            "gridcolor": "white",
            "linecolor": "white",
            "ticks": ""
           },
           "bgcolor": "#E5ECF6",
           "caxis": {
            "gridcolor": "white",
            "linecolor": "white",
            "ticks": ""
           }
          },
          "title": {
           "x": 0.05
          },
          "xaxis": {
           "automargin": true,
           "gridcolor": "white",
           "linecolor": "white",
           "ticks": "",
           "title": {
            "standoff": 15
           },
           "zerolinecolor": "white",
           "zerolinewidth": 2
          },
          "yaxis": {
           "automargin": true,
           "gridcolor": "white",
           "linecolor": "white",
           "ticks": "",
           "title": {
            "standoff": 15
           },
           "zerolinecolor": "white",
           "zerolinewidth": 2
          }
         }
        },
        "title": {
         "font": {
          "color": "#4D5663"
         },
         "text": "Number of category kinds in noteevents"
        },
        "xaxis": {
         "gridcolor": "#E1E5ED",
         "showgrid": true,
         "tickfont": {
          "color": "#4D5663"
         },
         "title": {
          "font": {
           "color": "#4D5663"
          },
          "text": ""
         },
         "zerolinecolor": "#E1E5ED"
        },
        "yaxis": {
         "gridcolor": "#E1E5ED",
         "showgrid": true,
         "tickfont": {
          "color": "#4D5663"
         },
         "title": {
          "font": {
           "color": "#4D5663"
          },
          "text": "Number of notes"
         },
         "zerolinecolor": "#E1E5ED"
        }
       }
      },
      "text/html": [
       "<div>\n",
       "        \n",
       "        \n",
       "            <div id=\"413b86f8-53b0-4ffe-aafd-cc1723dae28f\" class=\"plotly-graph-div\" style=\"height:525px; width:100%;\"></div>\n",
       "            <script type=\"text/javascript\">\n",
       "                require([\"plotly\"], function(Plotly) {\n",
       "                    window.PLOTLYENV=window.PLOTLYENV || {};\n",
       "                    window.PLOTLYENV.BASE_URL='https://plot.ly';\n",
       "                    \n",
       "                if (document.getElementById(\"413b86f8-53b0-4ffe-aafd-cc1723dae28f\")) {\n",
       "                    Plotly.newPlot(\n",
       "                        '413b86f8-53b0-4ffe-aafd-cc1723dae28f',\n",
       "                        [{\"marker\": {\"color\": \"rgba(255, 153, 51, 0.6)\", \"line\": {\"color\": \"rgba(255, 153, 51, 1.0)\", \"width\": 1}}, \"name\": \"CATEGORY\", \"orientation\": \"v\", \"text\": \"\", \"type\": \"bar\", \"x\": [\"Nursing\", \"Nursing/other\", \"Radiology\", \"Physician \", \"ECG\", \"Respiratory \", \"Discharge summary\", \"Echo\", \"General\", \"Nutrition\", \"Rehab Services\", \"Social Work\", \"Case Management \", \"Pharmacy\", \"Consult\"], \"y\": [13256, 12693, 11723, 10643, 4469, 2454, 1698, 949, 680, 638, 231, 142, 135, 15, 1]}],\n",
       "                        {\"legend\": {\"bgcolor\": \"#F5F6F9\", \"font\": {\"color\": \"#4D5663\"}}, \"paper_bgcolor\": \"#F5F6F9\", \"plot_bgcolor\": \"#F5F6F9\", \"template\": {\"data\": {\"bar\": [{\"error_x\": {\"color\": \"#2a3f5f\"}, \"error_y\": {\"color\": \"#2a3f5f\"}, \"marker\": {\"line\": {\"color\": \"#E5ECF6\", \"width\": 0.5}}, \"type\": \"bar\"}], \"barpolar\": [{\"marker\": {\"line\": {\"color\": \"#E5ECF6\", \"width\": 0.5}}, \"type\": \"barpolar\"}], \"carpet\": [{\"aaxis\": {\"endlinecolor\": \"#2a3f5f\", \"gridcolor\": \"white\", \"linecolor\": \"white\", \"minorgridcolor\": \"white\", \"startlinecolor\": \"#2a3f5f\"}, \"baxis\": {\"endlinecolor\": \"#2a3f5f\", \"gridcolor\": \"white\", \"linecolor\": \"white\", \"minorgridcolor\": \"white\", \"startlinecolor\": \"#2a3f5f\"}, \"type\": \"carpet\"}], \"choropleth\": [{\"colorbar\": {\"outlinewidth\": 0, \"ticks\": \"\"}, \"type\": \"choropleth\"}], \"contour\": [{\"colorbar\": {\"outlinewidth\": 0, \"ticks\": \"\"}, \"colorscale\": [[0.0, \"#0d0887\"], [0.1111111111111111, \"#46039f\"], [0.2222222222222222, \"#7201a8\"], [0.3333333333333333, \"#9c179e\"], [0.4444444444444444, \"#bd3786\"], [0.5555555555555556, \"#d8576b\"], [0.6666666666666666, \"#ed7953\"], [0.7777777777777778, \"#fb9f3a\"], [0.8888888888888888, \"#fdca26\"], [1.0, \"#f0f921\"]], \"type\": \"contour\"}], \"contourcarpet\": [{\"colorbar\": {\"outlinewidth\": 0, \"ticks\": \"\"}, \"type\": \"contourcarpet\"}], \"heatmap\": [{\"colorbar\": {\"outlinewidth\": 0, \"ticks\": \"\"}, \"colorscale\": [[0.0, \"#0d0887\"], [0.1111111111111111, \"#46039f\"], [0.2222222222222222, \"#7201a8\"], [0.3333333333333333, \"#9c179e\"], [0.4444444444444444, \"#bd3786\"], [0.5555555555555556, \"#d8576b\"], [0.6666666666666666, \"#ed7953\"], [0.7777777777777778, \"#fb9f3a\"], [0.8888888888888888, \"#fdca26\"], [1.0, \"#f0f921\"]], \"type\": \"heatmap\"}], \"heatmapgl\": [{\"colorbar\": {\"outlinewidth\": 0, \"ticks\": \"\"}, \"colorscale\": [[0.0, \"#0d0887\"], [0.1111111111111111, \"#46039f\"], [0.2222222222222222, \"#7201a8\"], [0.3333333333333333, \"#9c179e\"], [0.4444444444444444, \"#bd3786\"], [0.5555555555555556, \"#d8576b\"], [0.6666666666666666, \"#ed7953\"], [0.7777777777777778, \"#fb9f3a\"], [0.8888888888888888, \"#fdca26\"], [1.0, \"#f0f921\"]], \"type\": \"heatmapgl\"}], \"histogram\": [{\"marker\": {\"colorbar\": {\"outlinewidth\": 0, \"ticks\": \"\"}}, \"type\": \"histogram\"}], \"histogram2d\": [{\"colorbar\": {\"outlinewidth\": 0, \"ticks\": \"\"}, \"colorscale\": [[0.0, \"#0d0887\"], [0.1111111111111111, \"#46039f\"], [0.2222222222222222, \"#7201a8\"], [0.3333333333333333, \"#9c179e\"], [0.4444444444444444, \"#bd3786\"], [0.5555555555555556, \"#d8576b\"], [0.6666666666666666, \"#ed7953\"], [0.7777777777777778, \"#fb9f3a\"], [0.8888888888888888, \"#fdca26\"], [1.0, \"#f0f921\"]], \"type\": \"histogram2d\"}], \"histogram2dcontour\": [{\"colorbar\": {\"outlinewidth\": 0, \"ticks\": \"\"}, \"colorscale\": [[0.0, \"#0d0887\"], [0.1111111111111111, \"#46039f\"], [0.2222222222222222, \"#7201a8\"], [0.3333333333333333, \"#9c179e\"], [0.4444444444444444, \"#bd3786\"], [0.5555555555555556, \"#d8576b\"], [0.6666666666666666, \"#ed7953\"], [0.7777777777777778, \"#fb9f3a\"], [0.8888888888888888, \"#fdca26\"], [1.0, \"#f0f921\"]], \"type\": \"histogram2dcontour\"}], \"mesh3d\": [{\"colorbar\": {\"outlinewidth\": 0, \"ticks\": \"\"}, \"type\": \"mesh3d\"}], \"parcoords\": [{\"line\": {\"colorbar\": {\"outlinewidth\": 0, \"ticks\": \"\"}}, \"type\": \"parcoords\"}], \"pie\": [{\"automargin\": true, \"type\": \"pie\"}], \"scatter\": [{\"marker\": {\"colorbar\": {\"outlinewidth\": 0, \"ticks\": \"\"}}, \"type\": \"scatter\"}], \"scatter3d\": [{\"line\": {\"colorbar\": {\"outlinewidth\": 0, \"ticks\": \"\"}}, \"marker\": {\"colorbar\": {\"outlinewidth\": 0, \"ticks\": \"\"}}, \"type\": \"scatter3d\"}], \"scattercarpet\": [{\"marker\": {\"colorbar\": {\"outlinewidth\": 0, \"ticks\": \"\"}}, \"type\": \"scattercarpet\"}], \"scattergeo\": [{\"marker\": {\"colorbar\": {\"outlinewidth\": 0, \"ticks\": \"\"}}, \"type\": \"scattergeo\"}], \"scattergl\": [{\"marker\": {\"colorbar\": {\"outlinewidth\": 0, \"ticks\": \"\"}}, \"type\": \"scattergl\"}], \"scattermapbox\": [{\"marker\": {\"colorbar\": {\"outlinewidth\": 0, \"ticks\": \"\"}}, \"type\": \"scattermapbox\"}], \"scatterpolar\": [{\"marker\": {\"colorbar\": {\"outlinewidth\": 0, \"ticks\": \"\"}}, \"type\": \"scatterpolar\"}], \"scatterpolargl\": [{\"marker\": {\"colorbar\": {\"outlinewidth\": 0, \"ticks\": \"\"}}, \"type\": \"scatterpolargl\"}], \"scatterternary\": [{\"marker\": {\"colorbar\": {\"outlinewidth\": 0, \"ticks\": \"\"}}, \"type\": \"scatterternary\"}], \"surface\": [{\"colorbar\": {\"outlinewidth\": 0, \"ticks\": \"\"}, \"colorscale\": [[0.0, \"#0d0887\"], [0.1111111111111111, \"#46039f\"], [0.2222222222222222, \"#7201a8\"], [0.3333333333333333, \"#9c179e\"], [0.4444444444444444, \"#bd3786\"], [0.5555555555555556, \"#d8576b\"], [0.6666666666666666, \"#ed7953\"], [0.7777777777777778, \"#fb9f3a\"], [0.8888888888888888, \"#fdca26\"], [1.0, \"#f0f921\"]], \"type\": \"surface\"}], \"table\": [{\"cells\": {\"fill\": {\"color\": \"#EBF0F8\"}, \"line\": {\"color\": \"white\"}}, \"header\": {\"fill\": {\"color\": \"#C8D4E3\"}, \"line\": {\"color\": \"white\"}}, \"type\": \"table\"}]}, \"layout\": {\"annotationdefaults\": {\"arrowcolor\": \"#2a3f5f\", \"arrowhead\": 0, \"arrowwidth\": 1}, \"coloraxis\": {\"colorbar\": {\"outlinewidth\": 0, \"ticks\": \"\"}}, \"colorscale\": {\"diverging\": [[0, \"#8e0152\"], [0.1, \"#c51b7d\"], [0.2, \"#de77ae\"], [0.3, \"#f1b6da\"], [0.4, \"#fde0ef\"], [0.5, \"#f7f7f7\"], [0.6, \"#e6f5d0\"], [0.7, \"#b8e186\"], [0.8, \"#7fbc41\"], [0.9, \"#4d9221\"], [1, \"#276419\"]], \"sequential\": [[0.0, \"#0d0887\"], [0.1111111111111111, \"#46039f\"], [0.2222222222222222, \"#7201a8\"], [0.3333333333333333, \"#9c179e\"], [0.4444444444444444, \"#bd3786\"], [0.5555555555555556, \"#d8576b\"], [0.6666666666666666, \"#ed7953\"], [0.7777777777777778, \"#fb9f3a\"], [0.8888888888888888, \"#fdca26\"], [1.0, \"#f0f921\"]], \"sequentialminus\": [[0.0, \"#0d0887\"], [0.1111111111111111, \"#46039f\"], [0.2222222222222222, \"#7201a8\"], [0.3333333333333333, \"#9c179e\"], [0.4444444444444444, \"#bd3786\"], [0.5555555555555556, \"#d8576b\"], [0.6666666666666666, \"#ed7953\"], [0.7777777777777778, \"#fb9f3a\"], [0.8888888888888888, \"#fdca26\"], [1.0, \"#f0f921\"]]}, \"colorway\": [\"#636efa\", \"#EF553B\", \"#00cc96\", \"#ab63fa\", \"#FFA15A\", \"#19d3f3\", \"#FF6692\", \"#B6E880\", \"#FF97FF\", \"#FECB52\"], \"font\": {\"color\": \"#2a3f5f\"}, \"geo\": {\"bgcolor\": \"white\", \"lakecolor\": \"white\", \"landcolor\": \"#E5ECF6\", \"showlakes\": true, \"showland\": true, \"subunitcolor\": \"white\"}, \"hoverlabel\": {\"align\": \"left\"}, \"hovermode\": \"closest\", \"mapbox\": {\"style\": \"light\"}, \"paper_bgcolor\": \"white\", \"plot_bgcolor\": \"#E5ECF6\", \"polar\": {\"angularaxis\": {\"gridcolor\": \"white\", \"linecolor\": \"white\", \"ticks\": \"\"}, \"bgcolor\": \"#E5ECF6\", \"radialaxis\": {\"gridcolor\": \"white\", \"linecolor\": \"white\", \"ticks\": \"\"}}, \"scene\": {\"xaxis\": {\"backgroundcolor\": \"#E5ECF6\", \"gridcolor\": \"white\", \"gridwidth\": 2, \"linecolor\": \"white\", \"showbackground\": true, \"ticks\": \"\", \"zerolinecolor\": \"white\"}, \"yaxis\": {\"backgroundcolor\": \"#E5ECF6\", \"gridcolor\": \"white\", \"gridwidth\": 2, \"linecolor\": \"white\", \"showbackground\": true, \"ticks\": \"\", \"zerolinecolor\": \"white\"}, \"zaxis\": {\"backgroundcolor\": \"#E5ECF6\", \"gridcolor\": \"white\", \"gridwidth\": 2, \"linecolor\": \"white\", \"showbackground\": true, \"ticks\": \"\", \"zerolinecolor\": \"white\"}}, \"shapedefaults\": {\"line\": {\"color\": \"#2a3f5f\"}}, \"ternary\": {\"aaxis\": {\"gridcolor\": \"white\", \"linecolor\": \"white\", \"ticks\": \"\"}, \"baxis\": {\"gridcolor\": \"white\", \"linecolor\": \"white\", \"ticks\": \"\"}, \"bgcolor\": \"#E5ECF6\", \"caxis\": {\"gridcolor\": \"white\", \"linecolor\": \"white\", \"ticks\": \"\"}}, \"title\": {\"x\": 0.05}, \"xaxis\": {\"automargin\": true, \"gridcolor\": \"white\", \"linecolor\": \"white\", \"ticks\": \"\", \"title\": {\"standoff\": 15}, \"zerolinecolor\": \"white\", \"zerolinewidth\": 2}, \"yaxis\": {\"automargin\": true, \"gridcolor\": \"white\", \"linecolor\": \"white\", \"ticks\": \"\", \"title\": {\"standoff\": 15}, \"zerolinecolor\": \"white\", \"zerolinewidth\": 2}}}, \"title\": {\"font\": {\"color\": \"#4D5663\"}, \"text\": \"Number of category kinds in noteevents\"}, \"xaxis\": {\"gridcolor\": \"#E1E5ED\", \"showgrid\": true, \"tickfont\": {\"color\": \"#4D5663\"}, \"title\": {\"font\": {\"color\": \"#4D5663\"}, \"text\": \"\"}, \"zerolinecolor\": \"#E1E5ED\"}, \"yaxis\": {\"gridcolor\": \"#E1E5ED\", \"showgrid\": true, \"tickfont\": {\"color\": \"#4D5663\"}, \"title\": {\"font\": {\"color\": \"#4D5663\"}, \"text\": \"Number of notes\"}, \"zerolinecolor\": \"#E1E5ED\"}},\n",
       "                        {\"showLink\": true, \"linkText\": \"Export to plot.ly\", \"plotlyServerURL\": \"https://plot.ly\", \"responsive\": true}\n",
       "                    ).then(function(){\n",
       "                            \n",
       "var gd = document.getElementById('413b86f8-53b0-4ffe-aafd-cc1723dae28f');\n",
       "var x = new MutationObserver(function (mutations, observer) {{\n",
       "        var display = window.getComputedStyle(gd).display;\n",
       "        if (!display || display === 'none') {{\n",
       "            console.log([gd, 'removed!']);\n",
       "            Plotly.purge(gd);\n",
       "            observer.disconnect();\n",
       "        }}\n",
       "}});\n",
       "\n",
       "// Listen for the removal of the full notebook cells\n",
       "var notebookContainer = gd.closest('#notebook-container');\n",
       "if (notebookContainer) {{\n",
       "    x.observe(notebookContainer, {childList: true});\n",
       "}}\n",
       "\n",
       "// Listen for the clearing of the current output cell\n",
       "var outputEl = gd.closest('.output');\n",
       "if (outputEl) {{\n",
       "    x.observe(outputEl, {childList: true});\n",
       "}}\n",
       "\n",
       "                        })\n",
       "                };\n",
       "                });\n",
       "            </script>\n",
       "        </div>"
      ]
     },
     "metadata": {},
     "output_type": "display_data"
    }
   ],
   "source": [
    "pneumonia_df['CATEGORY'].value_counts().sort_values(ascending=False).iplot(kind='bar', yTitle='Number of notes', \n",
    "                                                                title='Number of category kinds in noteevents')"
   ]
  },
  {
   "cell_type": "code",
   "execution_count": 17,
   "metadata": {},
   "outputs": [],
   "source": [
    "#pneumonia_no_disch_df = pneumonia_df.loc[pneumonia_df[\"CATEGORY\"] != 'Discharge summary', ['ROW_ID_x', 'SUBJECT_ID_x', 'HADM_ID', 'CHARTDATE', 'CHARTTIME', 'STORETIME', 'CATEGORY', 'DESCRIPTION', 'CGID', 'ISERROR', 'TEXT', 'ADMITTIME', 'DISCHTIME', 'DEATHTIME', 'ADMISSION_TYPE', 'DIAGNOSIS', 'HAS_CHARTEVENTS_DATA']]\n",
    "pneumonia_no_disch_df = pneumonia_df.loc[pneumonia_df[\"CATEGORY\"] != 'Discharge summary', ['ROW_ID_x','SUBJECT_ID_x','CHARTDATE','STORETIME','CATEGORY','DESCRIPTION','TEXT', 'DEATHTIME']]"
   ]
  },
  {
   "cell_type": "code",
   "execution_count": 18,
   "metadata": {
    "scrolled": false
   },
   "outputs": [
    {
     "data": {
      "application/vnd.plotly.v1+json": {
       "config": {
        "linkText": "Export to plot.ly",
        "plotlyServerURL": "https://plot.ly",
        "showLink": true
       },
       "data": [
        {
         "marker": {
          "color": "rgba(255, 153, 51, 0.6)",
          "line": {
           "color": "rgba(255, 153, 51, 1.0)",
           "width": 1
          }
         },
         "name": "CATEGORY",
         "orientation": "v",
         "text": "",
         "type": "bar",
         "x": [
          "Nursing",
          "Nursing/other",
          "Radiology",
          "Physician ",
          "ECG",
          "Respiratory ",
          "Echo",
          "General",
          "Nutrition",
          "Rehab Services",
          "Social Work",
          "Case Management ",
          "Pharmacy",
          "Consult"
         ],
         "y": [
          13256,
          12693,
          11723,
          10643,
          4469,
          2454,
          949,
          680,
          638,
          231,
          142,
          135,
          15,
          1
         ]
        }
       ],
       "layout": {
        "legend": {
         "bgcolor": "#F5F6F9",
         "font": {
          "color": "#4D5663"
         }
        },
        "paper_bgcolor": "#F5F6F9",
        "plot_bgcolor": "#F5F6F9",
        "template": {
         "data": {
          "bar": [
           {
            "error_x": {
             "color": "#2a3f5f"
            },
            "error_y": {
             "color": "#2a3f5f"
            },
            "marker": {
             "line": {
              "color": "#E5ECF6",
              "width": 0.5
             }
            },
            "type": "bar"
           }
          ],
          "barpolar": [
           {
            "marker": {
             "line": {
              "color": "#E5ECF6",
              "width": 0.5
             }
            },
            "type": "barpolar"
           }
          ],
          "carpet": [
           {
            "aaxis": {
             "endlinecolor": "#2a3f5f",
             "gridcolor": "white",
             "linecolor": "white",
             "minorgridcolor": "white",
             "startlinecolor": "#2a3f5f"
            },
            "baxis": {
             "endlinecolor": "#2a3f5f",
             "gridcolor": "white",
             "linecolor": "white",
             "minorgridcolor": "white",
             "startlinecolor": "#2a3f5f"
            },
            "type": "carpet"
           }
          ],
          "choropleth": [
           {
            "colorbar": {
             "outlinewidth": 0,
             "ticks": ""
            },
            "type": "choropleth"
           }
          ],
          "contour": [
           {
            "colorbar": {
             "outlinewidth": 0,
             "ticks": ""
            },
            "colorscale": [
             [
              0,
              "#0d0887"
             ],
             [
              0.1111111111111111,
              "#46039f"
             ],
             [
              0.2222222222222222,
              "#7201a8"
             ],
             [
              0.3333333333333333,
              "#9c179e"
             ],
             [
              0.4444444444444444,
              "#bd3786"
             ],
             [
              0.5555555555555556,
              "#d8576b"
             ],
             [
              0.6666666666666666,
              "#ed7953"
             ],
             [
              0.7777777777777778,
              "#fb9f3a"
             ],
             [
              0.8888888888888888,
              "#fdca26"
             ],
             [
              1,
              "#f0f921"
             ]
            ],
            "type": "contour"
           }
          ],
          "contourcarpet": [
           {
            "colorbar": {
             "outlinewidth": 0,
             "ticks": ""
            },
            "type": "contourcarpet"
           }
          ],
          "heatmap": [
           {
            "colorbar": {
             "outlinewidth": 0,
             "ticks": ""
            },
            "colorscale": [
             [
              0,
              "#0d0887"
             ],
             [
              0.1111111111111111,
              "#46039f"
             ],
             [
              0.2222222222222222,
              "#7201a8"
             ],
             [
              0.3333333333333333,
              "#9c179e"
             ],
             [
              0.4444444444444444,
              "#bd3786"
             ],
             [
              0.5555555555555556,
              "#d8576b"
             ],
             [
              0.6666666666666666,
              "#ed7953"
             ],
             [
              0.7777777777777778,
              "#fb9f3a"
             ],
             [
              0.8888888888888888,
              "#fdca26"
             ],
             [
              1,
              "#f0f921"
             ]
            ],
            "type": "heatmap"
           }
          ],
          "heatmapgl": [
           {
            "colorbar": {
             "outlinewidth": 0,
             "ticks": ""
            },
            "colorscale": [
             [
              0,
              "#0d0887"
             ],
             [
              0.1111111111111111,
              "#46039f"
             ],
             [
              0.2222222222222222,
              "#7201a8"
             ],
             [
              0.3333333333333333,
              "#9c179e"
             ],
             [
              0.4444444444444444,
              "#bd3786"
             ],
             [
              0.5555555555555556,
              "#d8576b"
             ],
             [
              0.6666666666666666,
              "#ed7953"
             ],
             [
              0.7777777777777778,
              "#fb9f3a"
             ],
             [
              0.8888888888888888,
              "#fdca26"
             ],
             [
              1,
              "#f0f921"
             ]
            ],
            "type": "heatmapgl"
           }
          ],
          "histogram": [
           {
            "marker": {
             "colorbar": {
              "outlinewidth": 0,
              "ticks": ""
             }
            },
            "type": "histogram"
           }
          ],
          "histogram2d": [
           {
            "colorbar": {
             "outlinewidth": 0,
             "ticks": ""
            },
            "colorscale": [
             [
              0,
              "#0d0887"
             ],
             [
              0.1111111111111111,
              "#46039f"
             ],
             [
              0.2222222222222222,
              "#7201a8"
             ],
             [
              0.3333333333333333,
              "#9c179e"
             ],
             [
              0.4444444444444444,
              "#bd3786"
             ],
             [
              0.5555555555555556,
              "#d8576b"
             ],
             [
              0.6666666666666666,
              "#ed7953"
             ],
             [
              0.7777777777777778,
              "#fb9f3a"
             ],
             [
              0.8888888888888888,
              "#fdca26"
             ],
             [
              1,
              "#f0f921"
             ]
            ],
            "type": "histogram2d"
           }
          ],
          "histogram2dcontour": [
           {
            "colorbar": {
             "outlinewidth": 0,
             "ticks": ""
            },
            "colorscale": [
             [
              0,
              "#0d0887"
             ],
             [
              0.1111111111111111,
              "#46039f"
             ],
             [
              0.2222222222222222,
              "#7201a8"
             ],
             [
              0.3333333333333333,
              "#9c179e"
             ],
             [
              0.4444444444444444,
              "#bd3786"
             ],
             [
              0.5555555555555556,
              "#d8576b"
             ],
             [
              0.6666666666666666,
              "#ed7953"
             ],
             [
              0.7777777777777778,
              "#fb9f3a"
             ],
             [
              0.8888888888888888,
              "#fdca26"
             ],
             [
              1,
              "#f0f921"
             ]
            ],
            "type": "histogram2dcontour"
           }
          ],
          "mesh3d": [
           {
            "colorbar": {
             "outlinewidth": 0,
             "ticks": ""
            },
            "type": "mesh3d"
           }
          ],
          "parcoords": [
           {
            "line": {
             "colorbar": {
              "outlinewidth": 0,
              "ticks": ""
             }
            },
            "type": "parcoords"
           }
          ],
          "pie": [
           {
            "automargin": true,
            "type": "pie"
           }
          ],
          "scatter": [
           {
            "marker": {
             "colorbar": {
              "outlinewidth": 0,
              "ticks": ""
             }
            },
            "type": "scatter"
           }
          ],
          "scatter3d": [
           {
            "line": {
             "colorbar": {
              "outlinewidth": 0,
              "ticks": ""
             }
            },
            "marker": {
             "colorbar": {
              "outlinewidth": 0,
              "ticks": ""
             }
            },
            "type": "scatter3d"
           }
          ],
          "scattercarpet": [
           {
            "marker": {
             "colorbar": {
              "outlinewidth": 0,
              "ticks": ""
             }
            },
            "type": "scattercarpet"
           }
          ],
          "scattergeo": [
           {
            "marker": {
             "colorbar": {
              "outlinewidth": 0,
              "ticks": ""
             }
            },
            "type": "scattergeo"
           }
          ],
          "scattergl": [
           {
            "marker": {
             "colorbar": {
              "outlinewidth": 0,
              "ticks": ""
             }
            },
            "type": "scattergl"
           }
          ],
          "scattermapbox": [
           {
            "marker": {
             "colorbar": {
              "outlinewidth": 0,
              "ticks": ""
             }
            },
            "type": "scattermapbox"
           }
          ],
          "scatterpolar": [
           {
            "marker": {
             "colorbar": {
              "outlinewidth": 0,
              "ticks": ""
             }
            },
            "type": "scatterpolar"
           }
          ],
          "scatterpolargl": [
           {
            "marker": {
             "colorbar": {
              "outlinewidth": 0,
              "ticks": ""
             }
            },
            "type": "scatterpolargl"
           }
          ],
          "scatterternary": [
           {
            "marker": {
             "colorbar": {
              "outlinewidth": 0,
              "ticks": ""
             }
            },
            "type": "scatterternary"
           }
          ],
          "surface": [
           {
            "colorbar": {
             "outlinewidth": 0,
             "ticks": ""
            },
            "colorscale": [
             [
              0,
              "#0d0887"
             ],
             [
              0.1111111111111111,
              "#46039f"
             ],
             [
              0.2222222222222222,
              "#7201a8"
             ],
             [
              0.3333333333333333,
              "#9c179e"
             ],
             [
              0.4444444444444444,
              "#bd3786"
             ],
             [
              0.5555555555555556,
              "#d8576b"
             ],
             [
              0.6666666666666666,
              "#ed7953"
             ],
             [
              0.7777777777777778,
              "#fb9f3a"
             ],
             [
              0.8888888888888888,
              "#fdca26"
             ],
             [
              1,
              "#f0f921"
             ]
            ],
            "type": "surface"
           }
          ],
          "table": [
           {
            "cells": {
             "fill": {
              "color": "#EBF0F8"
             },
             "line": {
              "color": "white"
             }
            },
            "header": {
             "fill": {
              "color": "#C8D4E3"
             },
             "line": {
              "color": "white"
             }
            },
            "type": "table"
           }
          ]
         },
         "layout": {
          "annotationdefaults": {
           "arrowcolor": "#2a3f5f",
           "arrowhead": 0,
           "arrowwidth": 1
          },
          "coloraxis": {
           "colorbar": {
            "outlinewidth": 0,
            "ticks": ""
           }
          },
          "colorscale": {
           "diverging": [
            [
             0,
             "#8e0152"
            ],
            [
             0.1,
             "#c51b7d"
            ],
            [
             0.2,
             "#de77ae"
            ],
            [
             0.3,
             "#f1b6da"
            ],
            [
             0.4,
             "#fde0ef"
            ],
            [
             0.5,
             "#f7f7f7"
            ],
            [
             0.6,
             "#e6f5d0"
            ],
            [
             0.7,
             "#b8e186"
            ],
            [
             0.8,
             "#7fbc41"
            ],
            [
             0.9,
             "#4d9221"
            ],
            [
             1,
             "#276419"
            ]
           ],
           "sequential": [
            [
             0,
             "#0d0887"
            ],
            [
             0.1111111111111111,
             "#46039f"
            ],
            [
             0.2222222222222222,
             "#7201a8"
            ],
            [
             0.3333333333333333,
             "#9c179e"
            ],
            [
             0.4444444444444444,
             "#bd3786"
            ],
            [
             0.5555555555555556,
             "#d8576b"
            ],
            [
             0.6666666666666666,
             "#ed7953"
            ],
            [
             0.7777777777777778,
             "#fb9f3a"
            ],
            [
             0.8888888888888888,
             "#fdca26"
            ],
            [
             1,
             "#f0f921"
            ]
           ],
           "sequentialminus": [
            [
             0,
             "#0d0887"
            ],
            [
             0.1111111111111111,
             "#46039f"
            ],
            [
             0.2222222222222222,
             "#7201a8"
            ],
            [
             0.3333333333333333,
             "#9c179e"
            ],
            [
             0.4444444444444444,
             "#bd3786"
            ],
            [
             0.5555555555555556,
             "#d8576b"
            ],
            [
             0.6666666666666666,
             "#ed7953"
            ],
            [
             0.7777777777777778,
             "#fb9f3a"
            ],
            [
             0.8888888888888888,
             "#fdca26"
            ],
            [
             1,
             "#f0f921"
            ]
           ]
          },
          "colorway": [
           "#636efa",
           "#EF553B",
           "#00cc96",
           "#ab63fa",
           "#FFA15A",
           "#19d3f3",
           "#FF6692",
           "#B6E880",
           "#FF97FF",
           "#FECB52"
          ],
          "font": {
           "color": "#2a3f5f"
          },
          "geo": {
           "bgcolor": "white",
           "lakecolor": "white",
           "landcolor": "#E5ECF6",
           "showlakes": true,
           "showland": true,
           "subunitcolor": "white"
          },
          "hoverlabel": {
           "align": "left"
          },
          "hovermode": "closest",
          "mapbox": {
           "style": "light"
          },
          "paper_bgcolor": "white",
          "plot_bgcolor": "#E5ECF6",
          "polar": {
           "angularaxis": {
            "gridcolor": "white",
            "linecolor": "white",
            "ticks": ""
           },
           "bgcolor": "#E5ECF6",
           "radialaxis": {
            "gridcolor": "white",
            "linecolor": "white",
            "ticks": ""
           }
          },
          "scene": {
           "xaxis": {
            "backgroundcolor": "#E5ECF6",
            "gridcolor": "white",
            "gridwidth": 2,
            "linecolor": "white",
            "showbackground": true,
            "ticks": "",
            "zerolinecolor": "white"
           },
           "yaxis": {
            "backgroundcolor": "#E5ECF6",
            "gridcolor": "white",
            "gridwidth": 2,
            "linecolor": "white",
            "showbackground": true,
            "ticks": "",
            "zerolinecolor": "white"
           },
           "zaxis": {
            "backgroundcolor": "#E5ECF6",
            "gridcolor": "white",
            "gridwidth": 2,
            "linecolor": "white",
            "showbackground": true,
            "ticks": "",
            "zerolinecolor": "white"
           }
          },
          "shapedefaults": {
           "line": {
            "color": "#2a3f5f"
           }
          },
          "ternary": {
           "aaxis": {
            "gridcolor": "white",
            "linecolor": "white",
            "ticks": ""
           },
           "baxis": {
            "gridcolor": "white",
            "linecolor": "white",
            "ticks": ""
           },
           "bgcolor": "#E5ECF6",
           "caxis": {
            "gridcolor": "white",
            "linecolor": "white",
            "ticks": ""
           }
          },
          "title": {
           "x": 0.05
          },
          "xaxis": {
           "automargin": true,
           "gridcolor": "white",
           "linecolor": "white",
           "ticks": "",
           "title": {
            "standoff": 15
           },
           "zerolinecolor": "white",
           "zerolinewidth": 2
          },
          "yaxis": {
           "automargin": true,
           "gridcolor": "white",
           "linecolor": "white",
           "ticks": "",
           "title": {
            "standoff": 15
           },
           "zerolinecolor": "white",
           "zerolinewidth": 2
          }
         }
        },
        "title": {
         "font": {
          "color": "#4D5663"
         },
         "text": "Number of category kinds in noteevents"
        },
        "xaxis": {
         "gridcolor": "#E1E5ED",
         "showgrid": true,
         "tickfont": {
          "color": "#4D5663"
         },
         "title": {
          "font": {
           "color": "#4D5663"
          },
          "text": ""
         },
         "zerolinecolor": "#E1E5ED"
        },
        "yaxis": {
         "gridcolor": "#E1E5ED",
         "showgrid": true,
         "tickfont": {
          "color": "#4D5663"
         },
         "title": {
          "font": {
           "color": "#4D5663"
          },
          "text": "Number of notes"
         },
         "zerolinecolor": "#E1E5ED"
        }
       }
      },
      "text/html": [
       "<div>\n",
       "        \n",
       "        \n",
       "            <div id=\"6837312b-1873-45bc-8ec4-daaf78a97ce5\" class=\"plotly-graph-div\" style=\"height:525px; width:100%;\"></div>\n",
       "            <script type=\"text/javascript\">\n",
       "                require([\"plotly\"], function(Plotly) {\n",
       "                    window.PLOTLYENV=window.PLOTLYENV || {};\n",
       "                    window.PLOTLYENV.BASE_URL='https://plot.ly';\n",
       "                    \n",
       "                if (document.getElementById(\"6837312b-1873-45bc-8ec4-daaf78a97ce5\")) {\n",
       "                    Plotly.newPlot(\n",
       "                        '6837312b-1873-45bc-8ec4-daaf78a97ce5',\n",
       "                        [{\"marker\": {\"color\": \"rgba(255, 153, 51, 0.6)\", \"line\": {\"color\": \"rgba(255, 153, 51, 1.0)\", \"width\": 1}}, \"name\": \"CATEGORY\", \"orientation\": \"v\", \"text\": \"\", \"type\": \"bar\", \"x\": [\"Nursing\", \"Nursing/other\", \"Radiology\", \"Physician \", \"ECG\", \"Respiratory \", \"Echo\", \"General\", \"Nutrition\", \"Rehab Services\", \"Social Work\", \"Case Management \", \"Pharmacy\", \"Consult\"], \"y\": [13256, 12693, 11723, 10643, 4469, 2454, 949, 680, 638, 231, 142, 135, 15, 1]}],\n",
       "                        {\"legend\": {\"bgcolor\": \"#F5F6F9\", \"font\": {\"color\": \"#4D5663\"}}, \"paper_bgcolor\": \"#F5F6F9\", \"plot_bgcolor\": \"#F5F6F9\", \"template\": {\"data\": {\"bar\": [{\"error_x\": {\"color\": \"#2a3f5f\"}, \"error_y\": {\"color\": \"#2a3f5f\"}, \"marker\": {\"line\": {\"color\": \"#E5ECF6\", \"width\": 0.5}}, \"type\": \"bar\"}], \"barpolar\": [{\"marker\": {\"line\": {\"color\": \"#E5ECF6\", \"width\": 0.5}}, \"type\": \"barpolar\"}], \"carpet\": [{\"aaxis\": {\"endlinecolor\": \"#2a3f5f\", \"gridcolor\": \"white\", \"linecolor\": \"white\", \"minorgridcolor\": \"white\", \"startlinecolor\": \"#2a3f5f\"}, \"baxis\": {\"endlinecolor\": \"#2a3f5f\", \"gridcolor\": \"white\", \"linecolor\": \"white\", \"minorgridcolor\": \"white\", \"startlinecolor\": \"#2a3f5f\"}, \"type\": \"carpet\"}], \"choropleth\": [{\"colorbar\": {\"outlinewidth\": 0, \"ticks\": \"\"}, \"type\": \"choropleth\"}], \"contour\": [{\"colorbar\": {\"outlinewidth\": 0, \"ticks\": \"\"}, \"colorscale\": [[0.0, \"#0d0887\"], [0.1111111111111111, \"#46039f\"], [0.2222222222222222, \"#7201a8\"], [0.3333333333333333, \"#9c179e\"], [0.4444444444444444, \"#bd3786\"], [0.5555555555555556, \"#d8576b\"], [0.6666666666666666, \"#ed7953\"], [0.7777777777777778, \"#fb9f3a\"], [0.8888888888888888, \"#fdca26\"], [1.0, \"#f0f921\"]], \"type\": \"contour\"}], \"contourcarpet\": [{\"colorbar\": {\"outlinewidth\": 0, \"ticks\": \"\"}, \"type\": \"contourcarpet\"}], \"heatmap\": [{\"colorbar\": {\"outlinewidth\": 0, \"ticks\": \"\"}, \"colorscale\": [[0.0, \"#0d0887\"], [0.1111111111111111, \"#46039f\"], [0.2222222222222222, \"#7201a8\"], [0.3333333333333333, \"#9c179e\"], [0.4444444444444444, \"#bd3786\"], [0.5555555555555556, \"#d8576b\"], [0.6666666666666666, \"#ed7953\"], [0.7777777777777778, \"#fb9f3a\"], [0.8888888888888888, \"#fdca26\"], [1.0, \"#f0f921\"]], \"type\": \"heatmap\"}], \"heatmapgl\": [{\"colorbar\": {\"outlinewidth\": 0, \"ticks\": \"\"}, \"colorscale\": [[0.0, \"#0d0887\"], [0.1111111111111111, \"#46039f\"], [0.2222222222222222, \"#7201a8\"], [0.3333333333333333, \"#9c179e\"], [0.4444444444444444, \"#bd3786\"], [0.5555555555555556, \"#d8576b\"], [0.6666666666666666, \"#ed7953\"], [0.7777777777777778, \"#fb9f3a\"], [0.8888888888888888, \"#fdca26\"], [1.0, \"#f0f921\"]], \"type\": \"heatmapgl\"}], \"histogram\": [{\"marker\": {\"colorbar\": {\"outlinewidth\": 0, \"ticks\": \"\"}}, \"type\": \"histogram\"}], \"histogram2d\": [{\"colorbar\": {\"outlinewidth\": 0, \"ticks\": \"\"}, \"colorscale\": [[0.0, \"#0d0887\"], [0.1111111111111111, \"#46039f\"], [0.2222222222222222, \"#7201a8\"], [0.3333333333333333, \"#9c179e\"], [0.4444444444444444, \"#bd3786\"], [0.5555555555555556, \"#d8576b\"], [0.6666666666666666, \"#ed7953\"], [0.7777777777777778, \"#fb9f3a\"], [0.8888888888888888, \"#fdca26\"], [1.0, \"#f0f921\"]], \"type\": \"histogram2d\"}], \"histogram2dcontour\": [{\"colorbar\": {\"outlinewidth\": 0, \"ticks\": \"\"}, \"colorscale\": [[0.0, \"#0d0887\"], [0.1111111111111111, \"#46039f\"], [0.2222222222222222, \"#7201a8\"], [0.3333333333333333, \"#9c179e\"], [0.4444444444444444, \"#bd3786\"], [0.5555555555555556, \"#d8576b\"], [0.6666666666666666, \"#ed7953\"], [0.7777777777777778, \"#fb9f3a\"], [0.8888888888888888, \"#fdca26\"], [1.0, \"#f0f921\"]], \"type\": \"histogram2dcontour\"}], \"mesh3d\": [{\"colorbar\": {\"outlinewidth\": 0, \"ticks\": \"\"}, \"type\": \"mesh3d\"}], \"parcoords\": [{\"line\": {\"colorbar\": {\"outlinewidth\": 0, \"ticks\": \"\"}}, \"type\": \"parcoords\"}], \"pie\": [{\"automargin\": true, \"type\": \"pie\"}], \"scatter\": [{\"marker\": {\"colorbar\": {\"outlinewidth\": 0, \"ticks\": \"\"}}, \"type\": \"scatter\"}], \"scatter3d\": [{\"line\": {\"colorbar\": {\"outlinewidth\": 0, \"ticks\": \"\"}}, \"marker\": {\"colorbar\": {\"outlinewidth\": 0, \"ticks\": \"\"}}, \"type\": \"scatter3d\"}], \"scattercarpet\": [{\"marker\": {\"colorbar\": {\"outlinewidth\": 0, \"ticks\": \"\"}}, \"type\": \"scattercarpet\"}], \"scattergeo\": [{\"marker\": {\"colorbar\": {\"outlinewidth\": 0, \"ticks\": \"\"}}, \"type\": \"scattergeo\"}], \"scattergl\": [{\"marker\": {\"colorbar\": {\"outlinewidth\": 0, \"ticks\": \"\"}}, \"type\": \"scattergl\"}], \"scattermapbox\": [{\"marker\": {\"colorbar\": {\"outlinewidth\": 0, \"ticks\": \"\"}}, \"type\": \"scattermapbox\"}], \"scatterpolar\": [{\"marker\": {\"colorbar\": {\"outlinewidth\": 0, \"ticks\": \"\"}}, \"type\": \"scatterpolar\"}], \"scatterpolargl\": [{\"marker\": {\"colorbar\": {\"outlinewidth\": 0, \"ticks\": \"\"}}, \"type\": \"scatterpolargl\"}], \"scatterternary\": [{\"marker\": {\"colorbar\": {\"outlinewidth\": 0, \"ticks\": \"\"}}, \"type\": \"scatterternary\"}], \"surface\": [{\"colorbar\": {\"outlinewidth\": 0, \"ticks\": \"\"}, \"colorscale\": [[0.0, \"#0d0887\"], [0.1111111111111111, \"#46039f\"], [0.2222222222222222, \"#7201a8\"], [0.3333333333333333, \"#9c179e\"], [0.4444444444444444, \"#bd3786\"], [0.5555555555555556, \"#d8576b\"], [0.6666666666666666, \"#ed7953\"], [0.7777777777777778, \"#fb9f3a\"], [0.8888888888888888, \"#fdca26\"], [1.0, \"#f0f921\"]], \"type\": \"surface\"}], \"table\": [{\"cells\": {\"fill\": {\"color\": \"#EBF0F8\"}, \"line\": {\"color\": \"white\"}}, \"header\": {\"fill\": {\"color\": \"#C8D4E3\"}, \"line\": {\"color\": \"white\"}}, \"type\": \"table\"}]}, \"layout\": {\"annotationdefaults\": {\"arrowcolor\": \"#2a3f5f\", \"arrowhead\": 0, \"arrowwidth\": 1}, \"coloraxis\": {\"colorbar\": {\"outlinewidth\": 0, \"ticks\": \"\"}}, \"colorscale\": {\"diverging\": [[0, \"#8e0152\"], [0.1, \"#c51b7d\"], [0.2, \"#de77ae\"], [0.3, \"#f1b6da\"], [0.4, \"#fde0ef\"], [0.5, \"#f7f7f7\"], [0.6, \"#e6f5d0\"], [0.7, \"#b8e186\"], [0.8, \"#7fbc41\"], [0.9, \"#4d9221\"], [1, \"#276419\"]], \"sequential\": [[0.0, \"#0d0887\"], [0.1111111111111111, \"#46039f\"], [0.2222222222222222, \"#7201a8\"], [0.3333333333333333, \"#9c179e\"], [0.4444444444444444, \"#bd3786\"], [0.5555555555555556, \"#d8576b\"], [0.6666666666666666, \"#ed7953\"], [0.7777777777777778, \"#fb9f3a\"], [0.8888888888888888, \"#fdca26\"], [1.0, \"#f0f921\"]], \"sequentialminus\": [[0.0, \"#0d0887\"], [0.1111111111111111, \"#46039f\"], [0.2222222222222222, \"#7201a8\"], [0.3333333333333333, \"#9c179e\"], [0.4444444444444444, \"#bd3786\"], [0.5555555555555556, \"#d8576b\"], [0.6666666666666666, \"#ed7953\"], [0.7777777777777778, \"#fb9f3a\"], [0.8888888888888888, \"#fdca26\"], [1.0, \"#f0f921\"]]}, \"colorway\": [\"#636efa\", \"#EF553B\", \"#00cc96\", \"#ab63fa\", \"#FFA15A\", \"#19d3f3\", \"#FF6692\", \"#B6E880\", \"#FF97FF\", \"#FECB52\"], \"font\": {\"color\": \"#2a3f5f\"}, \"geo\": {\"bgcolor\": \"white\", \"lakecolor\": \"white\", \"landcolor\": \"#E5ECF6\", \"showlakes\": true, \"showland\": true, \"subunitcolor\": \"white\"}, \"hoverlabel\": {\"align\": \"left\"}, \"hovermode\": \"closest\", \"mapbox\": {\"style\": \"light\"}, \"paper_bgcolor\": \"white\", \"plot_bgcolor\": \"#E5ECF6\", \"polar\": {\"angularaxis\": {\"gridcolor\": \"white\", \"linecolor\": \"white\", \"ticks\": \"\"}, \"bgcolor\": \"#E5ECF6\", \"radialaxis\": {\"gridcolor\": \"white\", \"linecolor\": \"white\", \"ticks\": \"\"}}, \"scene\": {\"xaxis\": {\"backgroundcolor\": \"#E5ECF6\", \"gridcolor\": \"white\", \"gridwidth\": 2, \"linecolor\": \"white\", \"showbackground\": true, \"ticks\": \"\", \"zerolinecolor\": \"white\"}, \"yaxis\": {\"backgroundcolor\": \"#E5ECF6\", \"gridcolor\": \"white\", \"gridwidth\": 2, \"linecolor\": \"white\", \"showbackground\": true, \"ticks\": \"\", \"zerolinecolor\": \"white\"}, \"zaxis\": {\"backgroundcolor\": \"#E5ECF6\", \"gridcolor\": \"white\", \"gridwidth\": 2, \"linecolor\": \"white\", \"showbackground\": true, \"ticks\": \"\", \"zerolinecolor\": \"white\"}}, \"shapedefaults\": {\"line\": {\"color\": \"#2a3f5f\"}}, \"ternary\": {\"aaxis\": {\"gridcolor\": \"white\", \"linecolor\": \"white\", \"ticks\": \"\"}, \"baxis\": {\"gridcolor\": \"white\", \"linecolor\": \"white\", \"ticks\": \"\"}, \"bgcolor\": \"#E5ECF6\", \"caxis\": {\"gridcolor\": \"white\", \"linecolor\": \"white\", \"ticks\": \"\"}}, \"title\": {\"x\": 0.05}, \"xaxis\": {\"automargin\": true, \"gridcolor\": \"white\", \"linecolor\": \"white\", \"ticks\": \"\", \"title\": {\"standoff\": 15}, \"zerolinecolor\": \"white\", \"zerolinewidth\": 2}, \"yaxis\": {\"automargin\": true, \"gridcolor\": \"white\", \"linecolor\": \"white\", \"ticks\": \"\", \"title\": {\"standoff\": 15}, \"zerolinecolor\": \"white\", \"zerolinewidth\": 2}}}, \"title\": {\"font\": {\"color\": \"#4D5663\"}, \"text\": \"Number of category kinds in noteevents\"}, \"xaxis\": {\"gridcolor\": \"#E1E5ED\", \"showgrid\": true, \"tickfont\": {\"color\": \"#4D5663\"}, \"title\": {\"font\": {\"color\": \"#4D5663\"}, \"text\": \"\"}, \"zerolinecolor\": \"#E1E5ED\"}, \"yaxis\": {\"gridcolor\": \"#E1E5ED\", \"showgrid\": true, \"tickfont\": {\"color\": \"#4D5663\"}, \"title\": {\"font\": {\"color\": \"#4D5663\"}, \"text\": \"Number of notes\"}, \"zerolinecolor\": \"#E1E5ED\"}},\n",
       "                        {\"showLink\": true, \"linkText\": \"Export to plot.ly\", \"plotlyServerURL\": \"https://plot.ly\", \"responsive\": true}\n",
       "                    ).then(function(){\n",
       "                            \n",
       "var gd = document.getElementById('6837312b-1873-45bc-8ec4-daaf78a97ce5');\n",
       "var x = new MutationObserver(function (mutations, observer) {{\n",
       "        var display = window.getComputedStyle(gd).display;\n",
       "        if (!display || display === 'none') {{\n",
       "            console.log([gd, 'removed!']);\n",
       "            Plotly.purge(gd);\n",
       "            observer.disconnect();\n",
       "        }}\n",
       "}});\n",
       "\n",
       "// Listen for the removal of the full notebook cells\n",
       "var notebookContainer = gd.closest('#notebook-container');\n",
       "if (notebookContainer) {{\n",
       "    x.observe(notebookContainer, {childList: true});\n",
       "}}\n",
       "\n",
       "// Listen for the clearing of the current output cell\n",
       "var outputEl = gd.closest('.output');\n",
       "if (outputEl) {{\n",
       "    x.observe(outputEl, {childList: true});\n",
       "}}\n",
       "\n",
       "                        })\n",
       "                };\n",
       "                });\n",
       "            </script>\n",
       "        </div>"
      ]
     },
     "metadata": {},
     "output_type": "display_data"
    }
   ],
   "source": [
    "pneumonia_no_disch_df['CATEGORY'].value_counts().sort_values(ascending=False).iplot(kind='bar', yTitle='Number of notes', \n",
    "                                                                title='Number of category kinds in noteevents')"
   ]
  },
  {
   "cell_type": "code",
   "execution_count": 19,
   "metadata": {},
   "outputs": [
    {
     "name": "stdout",
     "output_type": "stream",
     "text": [
      "<class 'pandas.core.frame.DataFrame'>\n",
      "Int64Index: 58029 entries, 59103 to 2066669\n",
      "Data columns (total 8 columns):\n",
      " #   Column        Non-Null Count  Dtype \n",
      "---  ------        --------------  ----- \n",
      " 0   ROW_ID_x      58029 non-null  int64 \n",
      " 1   SUBJECT_ID_x  58029 non-null  int64 \n",
      " 2   CHARTDATE     58029 non-null  object\n",
      " 3   STORETIME     40888 non-null  object\n",
      " 4   CATEGORY      58029 non-null  object\n",
      " 5   DESCRIPTION   58029 non-null  object\n",
      " 6   TEXT          58029 non-null  object\n",
      " 7   DEATHTIME     11895 non-null  object\n",
      "dtypes: int64(2), object(6)\n",
      "memory usage: 4.0+ MB\n"
     ]
    }
   ],
   "source": [
    "pneumonia_no_disch_df.info()"
   ]
  },
  {
   "cell_type": "code",
   "execution_count": 20,
   "metadata": {},
   "outputs": [
    {
     "data": {
      "text/plain": [
       "(58029, 8)"
      ]
     },
     "execution_count": 20,
     "metadata": {},
     "output_type": "execute_result"
    }
   ],
   "source": [
    "pneumonia_no_disch_df.shape"
   ]
  },
  {
   "cell_type": "code",
   "execution_count": 21,
   "metadata": {},
   "outputs": [],
   "source": [
    "pneumonia_alive_no_disch = pneumonia_no_disch_df[pneumonia_no_disch_df.DEATHTIME.isnull()]\n",
    "pneumonia_dead_no_disch = pneumonia_no_disch_df[pneumonia_no_disch_df.DEATHTIME.notnull()]"
   ]
  },
  {
   "cell_type": "code",
   "execution_count": 22,
   "metadata": {},
   "outputs": [
    {
     "data": {
      "text/plain": [
       "(11895, 8)"
      ]
     },
     "execution_count": 22,
     "metadata": {},
     "output_type": "execute_result"
    }
   ],
   "source": [
    "pneumonia_dead_no_disch.shape"
   ]
  },
  {
   "cell_type": "code",
   "execution_count": 23,
   "metadata": {},
   "outputs": [
    {
     "data": {
      "text/plain": [
       "(46134, 8)"
      ]
     },
     "execution_count": 23,
     "metadata": {},
     "output_type": "execute_result"
    }
   ],
   "source": [
    "pneumonia_alive_no_disch.shape"
   ]
  },
  {
   "cell_type": "code",
   "execution_count": 24,
   "metadata": {},
   "outputs": [],
   "source": [
    "pneumonia_alive_no_disch = pneumonia_alive_no_disch.sort_values(by=['SUBJECT_ID_x','CHARTDATE', 'ROW_ID_x'])\n",
    "pneumonia_dead_no_disch = pneumonia_dead_no_disch.sort_values(by=['SUBJECT_ID_x','CHARTDATE', 'ROW_ID_x'])"
   ]
  },
  {
   "cell_type": "code",
   "execution_count": 25,
   "metadata": {},
   "outputs": [
    {
     "data": {
      "application/vnd.plotly.v1+json": {
       "config": {
        "linkText": "Export to plot.ly",
        "plotlyServerURL": "https://plot.ly",
        "showLink": true
       },
       "data": [
        {
         "marker": {
          "color": "rgba(255, 153, 51, 0.6)",
          "line": {
           "color": "rgba(255, 153, 51, 1.0)",
           "width": 1
          }
         },
         "name": "CATEGORY",
         "orientation": "v",
         "text": "",
         "type": "bar",
         "x": [
          "Nursing",
          "Nursing/other",
          "Radiology",
          "Physician ",
          "ECG",
          "Respiratory ",
          "Echo",
          "Nutrition",
          "General",
          "Rehab Services",
          "Case Management ",
          "Social Work",
          "Pharmacy"
         ],
         "y": [
          10574,
          10043,
          9448,
          8431,
          3623,
          1831,
          782,
          489,
          486,
          207,
          106,
          100,
          14
         ]
        }
       ],
       "layout": {
        "legend": {
         "bgcolor": "#F5F6F9",
         "font": {
          "color": "#4D5663"
         }
        },
        "paper_bgcolor": "#F5F6F9",
        "plot_bgcolor": "#F5F6F9",
        "template": {
         "data": {
          "bar": [
           {
            "error_x": {
             "color": "#2a3f5f"
            },
            "error_y": {
             "color": "#2a3f5f"
            },
            "marker": {
             "line": {
              "color": "#E5ECF6",
              "width": 0.5
             }
            },
            "type": "bar"
           }
          ],
          "barpolar": [
           {
            "marker": {
             "line": {
              "color": "#E5ECF6",
              "width": 0.5
             }
            },
            "type": "barpolar"
           }
          ],
          "carpet": [
           {
            "aaxis": {
             "endlinecolor": "#2a3f5f",
             "gridcolor": "white",
             "linecolor": "white",
             "minorgridcolor": "white",
             "startlinecolor": "#2a3f5f"
            },
            "baxis": {
             "endlinecolor": "#2a3f5f",
             "gridcolor": "white",
             "linecolor": "white",
             "minorgridcolor": "white",
             "startlinecolor": "#2a3f5f"
            },
            "type": "carpet"
           }
          ],
          "choropleth": [
           {
            "colorbar": {
             "outlinewidth": 0,
             "ticks": ""
            },
            "type": "choropleth"
           }
          ],
          "contour": [
           {
            "colorbar": {
             "outlinewidth": 0,
             "ticks": ""
            },
            "colorscale": [
             [
              0,
              "#0d0887"
             ],
             [
              0.1111111111111111,
              "#46039f"
             ],
             [
              0.2222222222222222,
              "#7201a8"
             ],
             [
              0.3333333333333333,
              "#9c179e"
             ],
             [
              0.4444444444444444,
              "#bd3786"
             ],
             [
              0.5555555555555556,
              "#d8576b"
             ],
             [
              0.6666666666666666,
              "#ed7953"
             ],
             [
              0.7777777777777778,
              "#fb9f3a"
             ],
             [
              0.8888888888888888,
              "#fdca26"
             ],
             [
              1,
              "#f0f921"
             ]
            ],
            "type": "contour"
           }
          ],
          "contourcarpet": [
           {
            "colorbar": {
             "outlinewidth": 0,
             "ticks": ""
            },
            "type": "contourcarpet"
           }
          ],
          "heatmap": [
           {
            "colorbar": {
             "outlinewidth": 0,
             "ticks": ""
            },
            "colorscale": [
             [
              0,
              "#0d0887"
             ],
             [
              0.1111111111111111,
              "#46039f"
             ],
             [
              0.2222222222222222,
              "#7201a8"
             ],
             [
              0.3333333333333333,
              "#9c179e"
             ],
             [
              0.4444444444444444,
              "#bd3786"
             ],
             [
              0.5555555555555556,
              "#d8576b"
             ],
             [
              0.6666666666666666,
              "#ed7953"
             ],
             [
              0.7777777777777778,
              "#fb9f3a"
             ],
             [
              0.8888888888888888,
              "#fdca26"
             ],
             [
              1,
              "#f0f921"
             ]
            ],
            "type": "heatmap"
           }
          ],
          "heatmapgl": [
           {
            "colorbar": {
             "outlinewidth": 0,
             "ticks": ""
            },
            "colorscale": [
             [
              0,
              "#0d0887"
             ],
             [
              0.1111111111111111,
              "#46039f"
             ],
             [
              0.2222222222222222,
              "#7201a8"
             ],
             [
              0.3333333333333333,
              "#9c179e"
             ],
             [
              0.4444444444444444,
              "#bd3786"
             ],
             [
              0.5555555555555556,
              "#d8576b"
             ],
             [
              0.6666666666666666,
              "#ed7953"
             ],
             [
              0.7777777777777778,
              "#fb9f3a"
             ],
             [
              0.8888888888888888,
              "#fdca26"
             ],
             [
              1,
              "#f0f921"
             ]
            ],
            "type": "heatmapgl"
           }
          ],
          "histogram": [
           {
            "marker": {
             "colorbar": {
              "outlinewidth": 0,
              "ticks": ""
             }
            },
            "type": "histogram"
           }
          ],
          "histogram2d": [
           {
            "colorbar": {
             "outlinewidth": 0,
             "ticks": ""
            },
            "colorscale": [
             [
              0,
              "#0d0887"
             ],
             [
              0.1111111111111111,
              "#46039f"
             ],
             [
              0.2222222222222222,
              "#7201a8"
             ],
             [
              0.3333333333333333,
              "#9c179e"
             ],
             [
              0.4444444444444444,
              "#bd3786"
             ],
             [
              0.5555555555555556,
              "#d8576b"
             ],
             [
              0.6666666666666666,
              "#ed7953"
             ],
             [
              0.7777777777777778,
              "#fb9f3a"
             ],
             [
              0.8888888888888888,
              "#fdca26"
             ],
             [
              1,
              "#f0f921"
             ]
            ],
            "type": "histogram2d"
           }
          ],
          "histogram2dcontour": [
           {
            "colorbar": {
             "outlinewidth": 0,
             "ticks": ""
            },
            "colorscale": [
             [
              0,
              "#0d0887"
             ],
             [
              0.1111111111111111,
              "#46039f"
             ],
             [
              0.2222222222222222,
              "#7201a8"
             ],
             [
              0.3333333333333333,
              "#9c179e"
             ],
             [
              0.4444444444444444,
              "#bd3786"
             ],
             [
              0.5555555555555556,
              "#d8576b"
             ],
             [
              0.6666666666666666,
              "#ed7953"
             ],
             [
              0.7777777777777778,
              "#fb9f3a"
             ],
             [
              0.8888888888888888,
              "#fdca26"
             ],
             [
              1,
              "#f0f921"
             ]
            ],
            "type": "histogram2dcontour"
           }
          ],
          "mesh3d": [
           {
            "colorbar": {
             "outlinewidth": 0,
             "ticks": ""
            },
            "type": "mesh3d"
           }
          ],
          "parcoords": [
           {
            "line": {
             "colorbar": {
              "outlinewidth": 0,
              "ticks": ""
             }
            },
            "type": "parcoords"
           }
          ],
          "pie": [
           {
            "automargin": true,
            "type": "pie"
           }
          ],
          "scatter": [
           {
            "marker": {
             "colorbar": {
              "outlinewidth": 0,
              "ticks": ""
             }
            },
            "type": "scatter"
           }
          ],
          "scatter3d": [
           {
            "line": {
             "colorbar": {
              "outlinewidth": 0,
              "ticks": ""
             }
            },
            "marker": {
             "colorbar": {
              "outlinewidth": 0,
              "ticks": ""
             }
            },
            "type": "scatter3d"
           }
          ],
          "scattercarpet": [
           {
            "marker": {
             "colorbar": {
              "outlinewidth": 0,
              "ticks": ""
             }
            },
            "type": "scattercarpet"
           }
          ],
          "scattergeo": [
           {
            "marker": {
             "colorbar": {
              "outlinewidth": 0,
              "ticks": ""
             }
            },
            "type": "scattergeo"
           }
          ],
          "scattergl": [
           {
            "marker": {
             "colorbar": {
              "outlinewidth": 0,
              "ticks": ""
             }
            },
            "type": "scattergl"
           }
          ],
          "scattermapbox": [
           {
            "marker": {
             "colorbar": {
              "outlinewidth": 0,
              "ticks": ""
             }
            },
            "type": "scattermapbox"
           }
          ],
          "scatterpolar": [
           {
            "marker": {
             "colorbar": {
              "outlinewidth": 0,
              "ticks": ""
             }
            },
            "type": "scatterpolar"
           }
          ],
          "scatterpolargl": [
           {
            "marker": {
             "colorbar": {
              "outlinewidth": 0,
              "ticks": ""
             }
            },
            "type": "scatterpolargl"
           }
          ],
          "scatterternary": [
           {
            "marker": {
             "colorbar": {
              "outlinewidth": 0,
              "ticks": ""
             }
            },
            "type": "scatterternary"
           }
          ],
          "surface": [
           {
            "colorbar": {
             "outlinewidth": 0,
             "ticks": ""
            },
            "colorscale": [
             [
              0,
              "#0d0887"
             ],
             [
              0.1111111111111111,
              "#46039f"
             ],
             [
              0.2222222222222222,
              "#7201a8"
             ],
             [
              0.3333333333333333,
              "#9c179e"
             ],
             [
              0.4444444444444444,
              "#bd3786"
             ],
             [
              0.5555555555555556,
              "#d8576b"
             ],
             [
              0.6666666666666666,
              "#ed7953"
             ],
             [
              0.7777777777777778,
              "#fb9f3a"
             ],
             [
              0.8888888888888888,
              "#fdca26"
             ],
             [
              1,
              "#f0f921"
             ]
            ],
            "type": "surface"
           }
          ],
          "table": [
           {
            "cells": {
             "fill": {
              "color": "#EBF0F8"
             },
             "line": {
              "color": "white"
             }
            },
            "header": {
             "fill": {
              "color": "#C8D4E3"
             },
             "line": {
              "color": "white"
             }
            },
            "type": "table"
           }
          ]
         },
         "layout": {
          "annotationdefaults": {
           "arrowcolor": "#2a3f5f",
           "arrowhead": 0,
           "arrowwidth": 1
          },
          "coloraxis": {
           "colorbar": {
            "outlinewidth": 0,
            "ticks": ""
           }
          },
          "colorscale": {
           "diverging": [
            [
             0,
             "#8e0152"
            ],
            [
             0.1,
             "#c51b7d"
            ],
            [
             0.2,
             "#de77ae"
            ],
            [
             0.3,
             "#f1b6da"
            ],
            [
             0.4,
             "#fde0ef"
            ],
            [
             0.5,
             "#f7f7f7"
            ],
            [
             0.6,
             "#e6f5d0"
            ],
            [
             0.7,
             "#b8e186"
            ],
            [
             0.8,
             "#7fbc41"
            ],
            [
             0.9,
             "#4d9221"
            ],
            [
             1,
             "#276419"
            ]
           ],
           "sequential": [
            [
             0,
             "#0d0887"
            ],
            [
             0.1111111111111111,
             "#46039f"
            ],
            [
             0.2222222222222222,
             "#7201a8"
            ],
            [
             0.3333333333333333,
             "#9c179e"
            ],
            [
             0.4444444444444444,
             "#bd3786"
            ],
            [
             0.5555555555555556,
             "#d8576b"
            ],
            [
             0.6666666666666666,
             "#ed7953"
            ],
            [
             0.7777777777777778,
             "#fb9f3a"
            ],
            [
             0.8888888888888888,
             "#fdca26"
            ],
            [
             1,
             "#f0f921"
            ]
           ],
           "sequentialminus": [
            [
             0,
             "#0d0887"
            ],
            [
             0.1111111111111111,
             "#46039f"
            ],
            [
             0.2222222222222222,
             "#7201a8"
            ],
            [
             0.3333333333333333,
             "#9c179e"
            ],
            [
             0.4444444444444444,
             "#bd3786"
            ],
            [
             0.5555555555555556,
             "#d8576b"
            ],
            [
             0.6666666666666666,
             "#ed7953"
            ],
            [
             0.7777777777777778,
             "#fb9f3a"
            ],
            [
             0.8888888888888888,
             "#fdca26"
            ],
            [
             1,
             "#f0f921"
            ]
           ]
          },
          "colorway": [
           "#636efa",
           "#EF553B",
           "#00cc96",
           "#ab63fa",
           "#FFA15A",
           "#19d3f3",
           "#FF6692",
           "#B6E880",
           "#FF97FF",
           "#FECB52"
          ],
          "font": {
           "color": "#2a3f5f"
          },
          "geo": {
           "bgcolor": "white",
           "lakecolor": "white",
           "landcolor": "#E5ECF6",
           "showlakes": true,
           "showland": true,
           "subunitcolor": "white"
          },
          "hoverlabel": {
           "align": "left"
          },
          "hovermode": "closest",
          "mapbox": {
           "style": "light"
          },
          "paper_bgcolor": "white",
          "plot_bgcolor": "#E5ECF6",
          "polar": {
           "angularaxis": {
            "gridcolor": "white",
            "linecolor": "white",
            "ticks": ""
           },
           "bgcolor": "#E5ECF6",
           "radialaxis": {
            "gridcolor": "white",
            "linecolor": "white",
            "ticks": ""
           }
          },
          "scene": {
           "xaxis": {
            "backgroundcolor": "#E5ECF6",
            "gridcolor": "white",
            "gridwidth": 2,
            "linecolor": "white",
            "showbackground": true,
            "ticks": "",
            "zerolinecolor": "white"
           },
           "yaxis": {
            "backgroundcolor": "#E5ECF6",
            "gridcolor": "white",
            "gridwidth": 2,
            "linecolor": "white",
            "showbackground": true,
            "ticks": "",
            "zerolinecolor": "white"
           },
           "zaxis": {
            "backgroundcolor": "#E5ECF6",
            "gridcolor": "white",
            "gridwidth": 2,
            "linecolor": "white",
            "showbackground": true,
            "ticks": "",
            "zerolinecolor": "white"
           }
          },
          "shapedefaults": {
           "line": {
            "color": "#2a3f5f"
           }
          },
          "ternary": {
           "aaxis": {
            "gridcolor": "white",
            "linecolor": "white",
            "ticks": ""
           },
           "baxis": {
            "gridcolor": "white",
            "linecolor": "white",
            "ticks": ""
           },
           "bgcolor": "#E5ECF6",
           "caxis": {
            "gridcolor": "white",
            "linecolor": "white",
            "ticks": ""
           }
          },
          "title": {
           "x": 0.05
          },
          "xaxis": {
           "automargin": true,
           "gridcolor": "white",
           "linecolor": "white",
           "ticks": "",
           "title": {
            "standoff": 15
           },
           "zerolinecolor": "white",
           "zerolinewidth": 2
          },
          "yaxis": {
           "automargin": true,
           "gridcolor": "white",
           "linecolor": "white",
           "ticks": "",
           "title": {
            "standoff": 15
           },
           "zerolinecolor": "white",
           "zerolinewidth": 2
          }
         }
        },
        "title": {
         "font": {
          "color": "#4D5663"
         },
         "text": "Number of category kinds in pneumonia alive"
        },
        "xaxis": {
         "gridcolor": "#E1E5ED",
         "showgrid": true,
         "tickfont": {
          "color": "#4D5663"
         },
         "title": {
          "font": {
           "color": "#4D5663"
          },
          "text": ""
         },
         "zerolinecolor": "#E1E5ED"
        },
        "yaxis": {
         "gridcolor": "#E1E5ED",
         "showgrid": true,
         "tickfont": {
          "color": "#4D5663"
         },
         "title": {
          "font": {
           "color": "#4D5663"
          },
          "text": "Number of notes"
         },
         "zerolinecolor": "#E1E5ED"
        }
       }
      },
      "text/html": [
       "<div>\n",
       "        \n",
       "        \n",
       "            <div id=\"22b35960-6213-464b-96ce-9ab125b167fb\" class=\"plotly-graph-div\" style=\"height:525px; width:100%;\"></div>\n",
       "            <script type=\"text/javascript\">\n",
       "                require([\"plotly\"], function(Plotly) {\n",
       "                    window.PLOTLYENV=window.PLOTLYENV || {};\n",
       "                    window.PLOTLYENV.BASE_URL='https://plot.ly';\n",
       "                    \n",
       "                if (document.getElementById(\"22b35960-6213-464b-96ce-9ab125b167fb\")) {\n",
       "                    Plotly.newPlot(\n",
       "                        '22b35960-6213-464b-96ce-9ab125b167fb',\n",
       "                        [{\"marker\": {\"color\": \"rgba(255, 153, 51, 0.6)\", \"line\": {\"color\": \"rgba(255, 153, 51, 1.0)\", \"width\": 1}}, \"name\": \"CATEGORY\", \"orientation\": \"v\", \"text\": \"\", \"type\": \"bar\", \"x\": [\"Nursing\", \"Nursing/other\", \"Radiology\", \"Physician \", \"ECG\", \"Respiratory \", \"Echo\", \"Nutrition\", \"General\", \"Rehab Services\", \"Case Management \", \"Social Work\", \"Pharmacy\"], \"y\": [10574, 10043, 9448, 8431, 3623, 1831, 782, 489, 486, 207, 106, 100, 14]}],\n",
       "                        {\"legend\": {\"bgcolor\": \"#F5F6F9\", \"font\": {\"color\": \"#4D5663\"}}, \"paper_bgcolor\": \"#F5F6F9\", \"plot_bgcolor\": \"#F5F6F9\", \"template\": {\"data\": {\"bar\": [{\"error_x\": {\"color\": \"#2a3f5f\"}, \"error_y\": {\"color\": \"#2a3f5f\"}, \"marker\": {\"line\": {\"color\": \"#E5ECF6\", \"width\": 0.5}}, \"type\": \"bar\"}], \"barpolar\": [{\"marker\": {\"line\": {\"color\": \"#E5ECF6\", \"width\": 0.5}}, \"type\": \"barpolar\"}], \"carpet\": [{\"aaxis\": {\"endlinecolor\": \"#2a3f5f\", \"gridcolor\": \"white\", \"linecolor\": \"white\", \"minorgridcolor\": \"white\", \"startlinecolor\": \"#2a3f5f\"}, \"baxis\": {\"endlinecolor\": \"#2a3f5f\", \"gridcolor\": \"white\", \"linecolor\": \"white\", \"minorgridcolor\": \"white\", \"startlinecolor\": \"#2a3f5f\"}, \"type\": \"carpet\"}], \"choropleth\": [{\"colorbar\": {\"outlinewidth\": 0, \"ticks\": \"\"}, \"type\": \"choropleth\"}], \"contour\": [{\"colorbar\": {\"outlinewidth\": 0, \"ticks\": \"\"}, \"colorscale\": [[0.0, \"#0d0887\"], [0.1111111111111111, \"#46039f\"], [0.2222222222222222, \"#7201a8\"], [0.3333333333333333, \"#9c179e\"], [0.4444444444444444, \"#bd3786\"], [0.5555555555555556, \"#d8576b\"], [0.6666666666666666, \"#ed7953\"], [0.7777777777777778, \"#fb9f3a\"], [0.8888888888888888, \"#fdca26\"], [1.0, \"#f0f921\"]], \"type\": \"contour\"}], \"contourcarpet\": [{\"colorbar\": {\"outlinewidth\": 0, \"ticks\": \"\"}, \"type\": \"contourcarpet\"}], \"heatmap\": [{\"colorbar\": {\"outlinewidth\": 0, \"ticks\": \"\"}, \"colorscale\": [[0.0, \"#0d0887\"], [0.1111111111111111, \"#46039f\"], [0.2222222222222222, \"#7201a8\"], [0.3333333333333333, \"#9c179e\"], [0.4444444444444444, \"#bd3786\"], [0.5555555555555556, \"#d8576b\"], [0.6666666666666666, \"#ed7953\"], [0.7777777777777778, \"#fb9f3a\"], [0.8888888888888888, \"#fdca26\"], [1.0, \"#f0f921\"]], \"type\": \"heatmap\"}], \"heatmapgl\": [{\"colorbar\": {\"outlinewidth\": 0, \"ticks\": \"\"}, \"colorscale\": [[0.0, \"#0d0887\"], [0.1111111111111111, \"#46039f\"], [0.2222222222222222, \"#7201a8\"], [0.3333333333333333, \"#9c179e\"], [0.4444444444444444, \"#bd3786\"], [0.5555555555555556, \"#d8576b\"], [0.6666666666666666, \"#ed7953\"], [0.7777777777777778, \"#fb9f3a\"], [0.8888888888888888, \"#fdca26\"], [1.0, \"#f0f921\"]], \"type\": \"heatmapgl\"}], \"histogram\": [{\"marker\": {\"colorbar\": {\"outlinewidth\": 0, \"ticks\": \"\"}}, \"type\": \"histogram\"}], \"histogram2d\": [{\"colorbar\": {\"outlinewidth\": 0, \"ticks\": \"\"}, \"colorscale\": [[0.0, \"#0d0887\"], [0.1111111111111111, \"#46039f\"], [0.2222222222222222, \"#7201a8\"], [0.3333333333333333, \"#9c179e\"], [0.4444444444444444, \"#bd3786\"], [0.5555555555555556, \"#d8576b\"], [0.6666666666666666, \"#ed7953\"], [0.7777777777777778, \"#fb9f3a\"], [0.8888888888888888, \"#fdca26\"], [1.0, \"#f0f921\"]], \"type\": \"histogram2d\"}], \"histogram2dcontour\": [{\"colorbar\": {\"outlinewidth\": 0, \"ticks\": \"\"}, \"colorscale\": [[0.0, \"#0d0887\"], [0.1111111111111111, \"#46039f\"], [0.2222222222222222, \"#7201a8\"], [0.3333333333333333, \"#9c179e\"], [0.4444444444444444, \"#bd3786\"], [0.5555555555555556, \"#d8576b\"], [0.6666666666666666, \"#ed7953\"], [0.7777777777777778, \"#fb9f3a\"], [0.8888888888888888, \"#fdca26\"], [1.0, \"#f0f921\"]], \"type\": \"histogram2dcontour\"}], \"mesh3d\": [{\"colorbar\": {\"outlinewidth\": 0, \"ticks\": \"\"}, \"type\": \"mesh3d\"}], \"parcoords\": [{\"line\": {\"colorbar\": {\"outlinewidth\": 0, \"ticks\": \"\"}}, \"type\": \"parcoords\"}], \"pie\": [{\"automargin\": true, \"type\": \"pie\"}], \"scatter\": [{\"marker\": {\"colorbar\": {\"outlinewidth\": 0, \"ticks\": \"\"}}, \"type\": \"scatter\"}], \"scatter3d\": [{\"line\": {\"colorbar\": {\"outlinewidth\": 0, \"ticks\": \"\"}}, \"marker\": {\"colorbar\": {\"outlinewidth\": 0, \"ticks\": \"\"}}, \"type\": \"scatter3d\"}], \"scattercarpet\": [{\"marker\": {\"colorbar\": {\"outlinewidth\": 0, \"ticks\": \"\"}}, \"type\": \"scattercarpet\"}], \"scattergeo\": [{\"marker\": {\"colorbar\": {\"outlinewidth\": 0, \"ticks\": \"\"}}, \"type\": \"scattergeo\"}], \"scattergl\": [{\"marker\": {\"colorbar\": {\"outlinewidth\": 0, \"ticks\": \"\"}}, \"type\": \"scattergl\"}], \"scattermapbox\": [{\"marker\": {\"colorbar\": {\"outlinewidth\": 0, \"ticks\": \"\"}}, \"type\": \"scattermapbox\"}], \"scatterpolar\": [{\"marker\": {\"colorbar\": {\"outlinewidth\": 0, \"ticks\": \"\"}}, \"type\": \"scatterpolar\"}], \"scatterpolargl\": [{\"marker\": {\"colorbar\": {\"outlinewidth\": 0, \"ticks\": \"\"}}, \"type\": \"scatterpolargl\"}], \"scatterternary\": [{\"marker\": {\"colorbar\": {\"outlinewidth\": 0, \"ticks\": \"\"}}, \"type\": \"scatterternary\"}], \"surface\": [{\"colorbar\": {\"outlinewidth\": 0, \"ticks\": \"\"}, \"colorscale\": [[0.0, \"#0d0887\"], [0.1111111111111111, \"#46039f\"], [0.2222222222222222, \"#7201a8\"], [0.3333333333333333, \"#9c179e\"], [0.4444444444444444, \"#bd3786\"], [0.5555555555555556, \"#d8576b\"], [0.6666666666666666, \"#ed7953\"], [0.7777777777777778, \"#fb9f3a\"], [0.8888888888888888, \"#fdca26\"], [1.0, \"#f0f921\"]], \"type\": \"surface\"}], \"table\": [{\"cells\": {\"fill\": {\"color\": \"#EBF0F8\"}, \"line\": {\"color\": \"white\"}}, \"header\": {\"fill\": {\"color\": \"#C8D4E3\"}, \"line\": {\"color\": \"white\"}}, \"type\": \"table\"}]}, \"layout\": {\"annotationdefaults\": {\"arrowcolor\": \"#2a3f5f\", \"arrowhead\": 0, \"arrowwidth\": 1}, \"coloraxis\": {\"colorbar\": {\"outlinewidth\": 0, \"ticks\": \"\"}}, \"colorscale\": {\"diverging\": [[0, \"#8e0152\"], [0.1, \"#c51b7d\"], [0.2, \"#de77ae\"], [0.3, \"#f1b6da\"], [0.4, \"#fde0ef\"], [0.5, \"#f7f7f7\"], [0.6, \"#e6f5d0\"], [0.7, \"#b8e186\"], [0.8, \"#7fbc41\"], [0.9, \"#4d9221\"], [1, \"#276419\"]], \"sequential\": [[0.0, \"#0d0887\"], [0.1111111111111111, \"#46039f\"], [0.2222222222222222, \"#7201a8\"], [0.3333333333333333, \"#9c179e\"], [0.4444444444444444, \"#bd3786\"], [0.5555555555555556, \"#d8576b\"], [0.6666666666666666, \"#ed7953\"], [0.7777777777777778, \"#fb9f3a\"], [0.8888888888888888, \"#fdca26\"], [1.0, \"#f0f921\"]], \"sequentialminus\": [[0.0, \"#0d0887\"], [0.1111111111111111, \"#46039f\"], [0.2222222222222222, \"#7201a8\"], [0.3333333333333333, \"#9c179e\"], [0.4444444444444444, \"#bd3786\"], [0.5555555555555556, \"#d8576b\"], [0.6666666666666666, \"#ed7953\"], [0.7777777777777778, \"#fb9f3a\"], [0.8888888888888888, \"#fdca26\"], [1.0, \"#f0f921\"]]}, \"colorway\": [\"#636efa\", \"#EF553B\", \"#00cc96\", \"#ab63fa\", \"#FFA15A\", \"#19d3f3\", \"#FF6692\", \"#B6E880\", \"#FF97FF\", \"#FECB52\"], \"font\": {\"color\": \"#2a3f5f\"}, \"geo\": {\"bgcolor\": \"white\", \"lakecolor\": \"white\", \"landcolor\": \"#E5ECF6\", \"showlakes\": true, \"showland\": true, \"subunitcolor\": \"white\"}, \"hoverlabel\": {\"align\": \"left\"}, \"hovermode\": \"closest\", \"mapbox\": {\"style\": \"light\"}, \"paper_bgcolor\": \"white\", \"plot_bgcolor\": \"#E5ECF6\", \"polar\": {\"angularaxis\": {\"gridcolor\": \"white\", \"linecolor\": \"white\", \"ticks\": \"\"}, \"bgcolor\": \"#E5ECF6\", \"radialaxis\": {\"gridcolor\": \"white\", \"linecolor\": \"white\", \"ticks\": \"\"}}, \"scene\": {\"xaxis\": {\"backgroundcolor\": \"#E5ECF6\", \"gridcolor\": \"white\", \"gridwidth\": 2, \"linecolor\": \"white\", \"showbackground\": true, \"ticks\": \"\", \"zerolinecolor\": \"white\"}, \"yaxis\": {\"backgroundcolor\": \"#E5ECF6\", \"gridcolor\": \"white\", \"gridwidth\": 2, \"linecolor\": \"white\", \"showbackground\": true, \"ticks\": \"\", \"zerolinecolor\": \"white\"}, \"zaxis\": {\"backgroundcolor\": \"#E5ECF6\", \"gridcolor\": \"white\", \"gridwidth\": 2, \"linecolor\": \"white\", \"showbackground\": true, \"ticks\": \"\", \"zerolinecolor\": \"white\"}}, \"shapedefaults\": {\"line\": {\"color\": \"#2a3f5f\"}}, \"ternary\": {\"aaxis\": {\"gridcolor\": \"white\", \"linecolor\": \"white\", \"ticks\": \"\"}, \"baxis\": {\"gridcolor\": \"white\", \"linecolor\": \"white\", \"ticks\": \"\"}, \"bgcolor\": \"#E5ECF6\", \"caxis\": {\"gridcolor\": \"white\", \"linecolor\": \"white\", \"ticks\": \"\"}}, \"title\": {\"x\": 0.05}, \"xaxis\": {\"automargin\": true, \"gridcolor\": \"white\", \"linecolor\": \"white\", \"ticks\": \"\", \"title\": {\"standoff\": 15}, \"zerolinecolor\": \"white\", \"zerolinewidth\": 2}, \"yaxis\": {\"automargin\": true, \"gridcolor\": \"white\", \"linecolor\": \"white\", \"ticks\": \"\", \"title\": {\"standoff\": 15}, \"zerolinecolor\": \"white\", \"zerolinewidth\": 2}}}, \"title\": {\"font\": {\"color\": \"#4D5663\"}, \"text\": \"Number of category kinds in pneumonia alive\"}, \"xaxis\": {\"gridcolor\": \"#E1E5ED\", \"showgrid\": true, \"tickfont\": {\"color\": \"#4D5663\"}, \"title\": {\"font\": {\"color\": \"#4D5663\"}, \"text\": \"\"}, \"zerolinecolor\": \"#E1E5ED\"}, \"yaxis\": {\"gridcolor\": \"#E1E5ED\", \"showgrid\": true, \"tickfont\": {\"color\": \"#4D5663\"}, \"title\": {\"font\": {\"color\": \"#4D5663\"}, \"text\": \"Number of notes\"}, \"zerolinecolor\": \"#E1E5ED\"}},\n",
       "                        {\"showLink\": true, \"linkText\": \"Export to plot.ly\", \"plotlyServerURL\": \"https://plot.ly\", \"responsive\": true}\n",
       "                    ).then(function(){\n",
       "                            \n",
       "var gd = document.getElementById('22b35960-6213-464b-96ce-9ab125b167fb');\n",
       "var x = new MutationObserver(function (mutations, observer) {{\n",
       "        var display = window.getComputedStyle(gd).display;\n",
       "        if (!display || display === 'none') {{\n",
       "            console.log([gd, 'removed!']);\n",
       "            Plotly.purge(gd);\n",
       "            observer.disconnect();\n",
       "        }}\n",
       "}});\n",
       "\n",
       "// Listen for the removal of the full notebook cells\n",
       "var notebookContainer = gd.closest('#notebook-container');\n",
       "if (notebookContainer) {{\n",
       "    x.observe(notebookContainer, {childList: true});\n",
       "}}\n",
       "\n",
       "// Listen for the clearing of the current output cell\n",
       "var outputEl = gd.closest('.output');\n",
       "if (outputEl) {{\n",
       "    x.observe(outputEl, {childList: true});\n",
       "}}\n",
       "\n",
       "                        })\n",
       "                };\n",
       "                });\n",
       "            </script>\n",
       "        </div>"
      ]
     },
     "metadata": {},
     "output_type": "display_data"
    }
   ],
   "source": [
    "pneumonia_alive_no_disch['CATEGORY'].value_counts().sort_values(ascending=False).iplot(kind='bar', yTitle='Number of notes', \n",
    "                                                                title='Number of category kinds in pneumonia alive')"
   ]
  },
  {
   "cell_type": "code",
   "execution_count": 26,
   "metadata": {
    "scrolled": false
   },
   "outputs": [
    {
     "data": {
      "application/vnd.plotly.v1+json": {
       "config": {
        "linkText": "Export to plot.ly",
        "plotlyServerURL": "https://plot.ly",
        "showLink": true
       },
       "data": [
        {
         "marker": {
          "color": "rgba(255, 153, 51, 0.6)",
          "line": {
           "color": "rgba(255, 153, 51, 1.0)",
           "width": 1
          }
         },
         "name": "CATEGORY",
         "orientation": "v",
         "text": "",
         "type": "bar",
         "x": [
          "Nursing",
          "Nursing/other",
          "Radiology",
          "Physician ",
          "ECG",
          "Respiratory ",
          "General",
          "Echo",
          "Nutrition",
          "Social Work",
          "Case Management ",
          "Rehab Services",
          "Consult",
          "Pharmacy"
         ],
         "y": [
          2682,
          2650,
          2275,
          2212,
          846,
          623,
          194,
          167,
          149,
          42,
          29,
          24,
          1,
          1
         ]
        }
       ],
       "layout": {
        "legend": {
         "bgcolor": "#F5F6F9",
         "font": {
          "color": "#4D5663"
         }
        },
        "paper_bgcolor": "#F5F6F9",
        "plot_bgcolor": "#F5F6F9",
        "template": {
         "data": {
          "bar": [
           {
            "error_x": {
             "color": "#2a3f5f"
            },
            "error_y": {
             "color": "#2a3f5f"
            },
            "marker": {
             "line": {
              "color": "#E5ECF6",
              "width": 0.5
             }
            },
            "type": "bar"
           }
          ],
          "barpolar": [
           {
            "marker": {
             "line": {
              "color": "#E5ECF6",
              "width": 0.5
             }
            },
            "type": "barpolar"
           }
          ],
          "carpet": [
           {
            "aaxis": {
             "endlinecolor": "#2a3f5f",
             "gridcolor": "white",
             "linecolor": "white",
             "minorgridcolor": "white",
             "startlinecolor": "#2a3f5f"
            },
            "baxis": {
             "endlinecolor": "#2a3f5f",
             "gridcolor": "white",
             "linecolor": "white",
             "minorgridcolor": "white",
             "startlinecolor": "#2a3f5f"
            },
            "type": "carpet"
           }
          ],
          "choropleth": [
           {
            "colorbar": {
             "outlinewidth": 0,
             "ticks": ""
            },
            "type": "choropleth"
           }
          ],
          "contour": [
           {
            "colorbar": {
             "outlinewidth": 0,
             "ticks": ""
            },
            "colorscale": [
             [
              0,
              "#0d0887"
             ],
             [
              0.1111111111111111,
              "#46039f"
             ],
             [
              0.2222222222222222,
              "#7201a8"
             ],
             [
              0.3333333333333333,
              "#9c179e"
             ],
             [
              0.4444444444444444,
              "#bd3786"
             ],
             [
              0.5555555555555556,
              "#d8576b"
             ],
             [
              0.6666666666666666,
              "#ed7953"
             ],
             [
              0.7777777777777778,
              "#fb9f3a"
             ],
             [
              0.8888888888888888,
              "#fdca26"
             ],
             [
              1,
              "#f0f921"
             ]
            ],
            "type": "contour"
           }
          ],
          "contourcarpet": [
           {
            "colorbar": {
             "outlinewidth": 0,
             "ticks": ""
            },
            "type": "contourcarpet"
           }
          ],
          "heatmap": [
           {
            "colorbar": {
             "outlinewidth": 0,
             "ticks": ""
            },
            "colorscale": [
             [
              0,
              "#0d0887"
             ],
             [
              0.1111111111111111,
              "#46039f"
             ],
             [
              0.2222222222222222,
              "#7201a8"
             ],
             [
              0.3333333333333333,
              "#9c179e"
             ],
             [
              0.4444444444444444,
              "#bd3786"
             ],
             [
              0.5555555555555556,
              "#d8576b"
             ],
             [
              0.6666666666666666,
              "#ed7953"
             ],
             [
              0.7777777777777778,
              "#fb9f3a"
             ],
             [
              0.8888888888888888,
              "#fdca26"
             ],
             [
              1,
              "#f0f921"
             ]
            ],
            "type": "heatmap"
           }
          ],
          "heatmapgl": [
           {
            "colorbar": {
             "outlinewidth": 0,
             "ticks": ""
            },
            "colorscale": [
             [
              0,
              "#0d0887"
             ],
             [
              0.1111111111111111,
              "#46039f"
             ],
             [
              0.2222222222222222,
              "#7201a8"
             ],
             [
              0.3333333333333333,
              "#9c179e"
             ],
             [
              0.4444444444444444,
              "#bd3786"
             ],
             [
              0.5555555555555556,
              "#d8576b"
             ],
             [
              0.6666666666666666,
              "#ed7953"
             ],
             [
              0.7777777777777778,
              "#fb9f3a"
             ],
             [
              0.8888888888888888,
              "#fdca26"
             ],
             [
              1,
              "#f0f921"
             ]
            ],
            "type": "heatmapgl"
           }
          ],
          "histogram": [
           {
            "marker": {
             "colorbar": {
              "outlinewidth": 0,
              "ticks": ""
             }
            },
            "type": "histogram"
           }
          ],
          "histogram2d": [
           {
            "colorbar": {
             "outlinewidth": 0,
             "ticks": ""
            },
            "colorscale": [
             [
              0,
              "#0d0887"
             ],
             [
              0.1111111111111111,
              "#46039f"
             ],
             [
              0.2222222222222222,
              "#7201a8"
             ],
             [
              0.3333333333333333,
              "#9c179e"
             ],
             [
              0.4444444444444444,
              "#bd3786"
             ],
             [
              0.5555555555555556,
              "#d8576b"
             ],
             [
              0.6666666666666666,
              "#ed7953"
             ],
             [
              0.7777777777777778,
              "#fb9f3a"
             ],
             [
              0.8888888888888888,
              "#fdca26"
             ],
             [
              1,
              "#f0f921"
             ]
            ],
            "type": "histogram2d"
           }
          ],
          "histogram2dcontour": [
           {
            "colorbar": {
             "outlinewidth": 0,
             "ticks": ""
            },
            "colorscale": [
             [
              0,
              "#0d0887"
             ],
             [
              0.1111111111111111,
              "#46039f"
             ],
             [
              0.2222222222222222,
              "#7201a8"
             ],
             [
              0.3333333333333333,
              "#9c179e"
             ],
             [
              0.4444444444444444,
              "#bd3786"
             ],
             [
              0.5555555555555556,
              "#d8576b"
             ],
             [
              0.6666666666666666,
              "#ed7953"
             ],
             [
              0.7777777777777778,
              "#fb9f3a"
             ],
             [
              0.8888888888888888,
              "#fdca26"
             ],
             [
              1,
              "#f0f921"
             ]
            ],
            "type": "histogram2dcontour"
           }
          ],
          "mesh3d": [
           {
            "colorbar": {
             "outlinewidth": 0,
             "ticks": ""
            },
            "type": "mesh3d"
           }
          ],
          "parcoords": [
           {
            "line": {
             "colorbar": {
              "outlinewidth": 0,
              "ticks": ""
             }
            },
            "type": "parcoords"
           }
          ],
          "pie": [
           {
            "automargin": true,
            "type": "pie"
           }
          ],
          "scatter": [
           {
            "marker": {
             "colorbar": {
              "outlinewidth": 0,
              "ticks": ""
             }
            },
            "type": "scatter"
           }
          ],
          "scatter3d": [
           {
            "line": {
             "colorbar": {
              "outlinewidth": 0,
              "ticks": ""
             }
            },
            "marker": {
             "colorbar": {
              "outlinewidth": 0,
              "ticks": ""
             }
            },
            "type": "scatter3d"
           }
          ],
          "scattercarpet": [
           {
            "marker": {
             "colorbar": {
              "outlinewidth": 0,
              "ticks": ""
             }
            },
            "type": "scattercarpet"
           }
          ],
          "scattergeo": [
           {
            "marker": {
             "colorbar": {
              "outlinewidth": 0,
              "ticks": ""
             }
            },
            "type": "scattergeo"
           }
          ],
          "scattergl": [
           {
            "marker": {
             "colorbar": {
              "outlinewidth": 0,
              "ticks": ""
             }
            },
            "type": "scattergl"
           }
          ],
          "scattermapbox": [
           {
            "marker": {
             "colorbar": {
              "outlinewidth": 0,
              "ticks": ""
             }
            },
            "type": "scattermapbox"
           }
          ],
          "scatterpolar": [
           {
            "marker": {
             "colorbar": {
              "outlinewidth": 0,
              "ticks": ""
             }
            },
            "type": "scatterpolar"
           }
          ],
          "scatterpolargl": [
           {
            "marker": {
             "colorbar": {
              "outlinewidth": 0,
              "ticks": ""
             }
            },
            "type": "scatterpolargl"
           }
          ],
          "scatterternary": [
           {
            "marker": {
             "colorbar": {
              "outlinewidth": 0,
              "ticks": ""
             }
            },
            "type": "scatterternary"
           }
          ],
          "surface": [
           {
            "colorbar": {
             "outlinewidth": 0,
             "ticks": ""
            },
            "colorscale": [
             [
              0,
              "#0d0887"
             ],
             [
              0.1111111111111111,
              "#46039f"
             ],
             [
              0.2222222222222222,
              "#7201a8"
             ],
             [
              0.3333333333333333,
              "#9c179e"
             ],
             [
              0.4444444444444444,
              "#bd3786"
             ],
             [
              0.5555555555555556,
              "#d8576b"
             ],
             [
              0.6666666666666666,
              "#ed7953"
             ],
             [
              0.7777777777777778,
              "#fb9f3a"
             ],
             [
              0.8888888888888888,
              "#fdca26"
             ],
             [
              1,
              "#f0f921"
             ]
            ],
            "type": "surface"
           }
          ],
          "table": [
           {
            "cells": {
             "fill": {
              "color": "#EBF0F8"
             },
             "line": {
              "color": "white"
             }
            },
            "header": {
             "fill": {
              "color": "#C8D4E3"
             },
             "line": {
              "color": "white"
             }
            },
            "type": "table"
           }
          ]
         },
         "layout": {
          "annotationdefaults": {
           "arrowcolor": "#2a3f5f",
           "arrowhead": 0,
           "arrowwidth": 1
          },
          "coloraxis": {
           "colorbar": {
            "outlinewidth": 0,
            "ticks": ""
           }
          },
          "colorscale": {
           "diverging": [
            [
             0,
             "#8e0152"
            ],
            [
             0.1,
             "#c51b7d"
            ],
            [
             0.2,
             "#de77ae"
            ],
            [
             0.3,
             "#f1b6da"
            ],
            [
             0.4,
             "#fde0ef"
            ],
            [
             0.5,
             "#f7f7f7"
            ],
            [
             0.6,
             "#e6f5d0"
            ],
            [
             0.7,
             "#b8e186"
            ],
            [
             0.8,
             "#7fbc41"
            ],
            [
             0.9,
             "#4d9221"
            ],
            [
             1,
             "#276419"
            ]
           ],
           "sequential": [
            [
             0,
             "#0d0887"
            ],
            [
             0.1111111111111111,
             "#46039f"
            ],
            [
             0.2222222222222222,
             "#7201a8"
            ],
            [
             0.3333333333333333,
             "#9c179e"
            ],
            [
             0.4444444444444444,
             "#bd3786"
            ],
            [
             0.5555555555555556,
             "#d8576b"
            ],
            [
             0.6666666666666666,
             "#ed7953"
            ],
            [
             0.7777777777777778,
             "#fb9f3a"
            ],
            [
             0.8888888888888888,
             "#fdca26"
            ],
            [
             1,
             "#f0f921"
            ]
           ],
           "sequentialminus": [
            [
             0,
             "#0d0887"
            ],
            [
             0.1111111111111111,
             "#46039f"
            ],
            [
             0.2222222222222222,
             "#7201a8"
            ],
            [
             0.3333333333333333,
             "#9c179e"
            ],
            [
             0.4444444444444444,
             "#bd3786"
            ],
            [
             0.5555555555555556,
             "#d8576b"
            ],
            [
             0.6666666666666666,
             "#ed7953"
            ],
            [
             0.7777777777777778,
             "#fb9f3a"
            ],
            [
             0.8888888888888888,
             "#fdca26"
            ],
            [
             1,
             "#f0f921"
            ]
           ]
          },
          "colorway": [
           "#636efa",
           "#EF553B",
           "#00cc96",
           "#ab63fa",
           "#FFA15A",
           "#19d3f3",
           "#FF6692",
           "#B6E880",
           "#FF97FF",
           "#FECB52"
          ],
          "font": {
           "color": "#2a3f5f"
          },
          "geo": {
           "bgcolor": "white",
           "lakecolor": "white",
           "landcolor": "#E5ECF6",
           "showlakes": true,
           "showland": true,
           "subunitcolor": "white"
          },
          "hoverlabel": {
           "align": "left"
          },
          "hovermode": "closest",
          "mapbox": {
           "style": "light"
          },
          "paper_bgcolor": "white",
          "plot_bgcolor": "#E5ECF6",
          "polar": {
           "angularaxis": {
            "gridcolor": "white",
            "linecolor": "white",
            "ticks": ""
           },
           "bgcolor": "#E5ECF6",
           "radialaxis": {
            "gridcolor": "white",
            "linecolor": "white",
            "ticks": ""
           }
          },
          "scene": {
           "xaxis": {
            "backgroundcolor": "#E5ECF6",
            "gridcolor": "white",
            "gridwidth": 2,
            "linecolor": "white",
            "showbackground": true,
            "ticks": "",
            "zerolinecolor": "white"
           },
           "yaxis": {
            "backgroundcolor": "#E5ECF6",
            "gridcolor": "white",
            "gridwidth": 2,
            "linecolor": "white",
            "showbackground": true,
            "ticks": "",
            "zerolinecolor": "white"
           },
           "zaxis": {
            "backgroundcolor": "#E5ECF6",
            "gridcolor": "white",
            "gridwidth": 2,
            "linecolor": "white",
            "showbackground": true,
            "ticks": "",
            "zerolinecolor": "white"
           }
          },
          "shapedefaults": {
           "line": {
            "color": "#2a3f5f"
           }
          },
          "ternary": {
           "aaxis": {
            "gridcolor": "white",
            "linecolor": "white",
            "ticks": ""
           },
           "baxis": {
            "gridcolor": "white",
            "linecolor": "white",
            "ticks": ""
           },
           "bgcolor": "#E5ECF6",
           "caxis": {
            "gridcolor": "white",
            "linecolor": "white",
            "ticks": ""
           }
          },
          "title": {
           "x": 0.05
          },
          "xaxis": {
           "automargin": true,
           "gridcolor": "white",
           "linecolor": "white",
           "ticks": "",
           "title": {
            "standoff": 15
           },
           "zerolinecolor": "white",
           "zerolinewidth": 2
          },
          "yaxis": {
           "automargin": true,
           "gridcolor": "white",
           "linecolor": "white",
           "ticks": "",
           "title": {
            "standoff": 15
           },
           "zerolinecolor": "white",
           "zerolinewidth": 2
          }
         }
        },
        "title": {
         "font": {
          "color": "#4D5663"
         },
         "text": "Number of category kinds in pneumonia alive"
        },
        "xaxis": {
         "gridcolor": "#E1E5ED",
         "showgrid": true,
         "tickfont": {
          "color": "#4D5663"
         },
         "title": {
          "font": {
           "color": "#4D5663"
          },
          "text": ""
         },
         "zerolinecolor": "#E1E5ED"
        },
        "yaxis": {
         "gridcolor": "#E1E5ED",
         "showgrid": true,
         "tickfont": {
          "color": "#4D5663"
         },
         "title": {
          "font": {
           "color": "#4D5663"
          },
          "text": "Number of notes"
         },
         "zerolinecolor": "#E1E5ED"
        }
       }
      },
      "text/html": [
       "<div>\n",
       "        \n",
       "        \n",
       "            <div id=\"6ee83d30-36cc-4c1a-8283-bdf31cdf8709\" class=\"plotly-graph-div\" style=\"height:525px; width:100%;\"></div>\n",
       "            <script type=\"text/javascript\">\n",
       "                require([\"plotly\"], function(Plotly) {\n",
       "                    window.PLOTLYENV=window.PLOTLYENV || {};\n",
       "                    window.PLOTLYENV.BASE_URL='https://plot.ly';\n",
       "                    \n",
       "                if (document.getElementById(\"6ee83d30-36cc-4c1a-8283-bdf31cdf8709\")) {\n",
       "                    Plotly.newPlot(\n",
       "                        '6ee83d30-36cc-4c1a-8283-bdf31cdf8709',\n",
       "                        [{\"marker\": {\"color\": \"rgba(255, 153, 51, 0.6)\", \"line\": {\"color\": \"rgba(255, 153, 51, 1.0)\", \"width\": 1}}, \"name\": \"CATEGORY\", \"orientation\": \"v\", \"text\": \"\", \"type\": \"bar\", \"x\": [\"Nursing\", \"Nursing/other\", \"Radiology\", \"Physician \", \"ECG\", \"Respiratory \", \"General\", \"Echo\", \"Nutrition\", \"Social Work\", \"Case Management \", \"Rehab Services\", \"Consult\", \"Pharmacy\"], \"y\": [2682, 2650, 2275, 2212, 846, 623, 194, 167, 149, 42, 29, 24, 1, 1]}],\n",
       "                        {\"legend\": {\"bgcolor\": \"#F5F6F9\", \"font\": {\"color\": \"#4D5663\"}}, \"paper_bgcolor\": \"#F5F6F9\", \"plot_bgcolor\": \"#F5F6F9\", \"template\": {\"data\": {\"bar\": [{\"error_x\": {\"color\": \"#2a3f5f\"}, \"error_y\": {\"color\": \"#2a3f5f\"}, \"marker\": {\"line\": {\"color\": \"#E5ECF6\", \"width\": 0.5}}, \"type\": \"bar\"}], \"barpolar\": [{\"marker\": {\"line\": {\"color\": \"#E5ECF6\", \"width\": 0.5}}, \"type\": \"barpolar\"}], \"carpet\": [{\"aaxis\": {\"endlinecolor\": \"#2a3f5f\", \"gridcolor\": \"white\", \"linecolor\": \"white\", \"minorgridcolor\": \"white\", \"startlinecolor\": \"#2a3f5f\"}, \"baxis\": {\"endlinecolor\": \"#2a3f5f\", \"gridcolor\": \"white\", \"linecolor\": \"white\", \"minorgridcolor\": \"white\", \"startlinecolor\": \"#2a3f5f\"}, \"type\": \"carpet\"}], \"choropleth\": [{\"colorbar\": {\"outlinewidth\": 0, \"ticks\": \"\"}, \"type\": \"choropleth\"}], \"contour\": [{\"colorbar\": {\"outlinewidth\": 0, \"ticks\": \"\"}, \"colorscale\": [[0.0, \"#0d0887\"], [0.1111111111111111, \"#46039f\"], [0.2222222222222222, \"#7201a8\"], [0.3333333333333333, \"#9c179e\"], [0.4444444444444444, \"#bd3786\"], [0.5555555555555556, \"#d8576b\"], [0.6666666666666666, \"#ed7953\"], [0.7777777777777778, \"#fb9f3a\"], [0.8888888888888888, \"#fdca26\"], [1.0, \"#f0f921\"]], \"type\": \"contour\"}], \"contourcarpet\": [{\"colorbar\": {\"outlinewidth\": 0, \"ticks\": \"\"}, \"type\": \"contourcarpet\"}], \"heatmap\": [{\"colorbar\": {\"outlinewidth\": 0, \"ticks\": \"\"}, \"colorscale\": [[0.0, \"#0d0887\"], [0.1111111111111111, \"#46039f\"], [0.2222222222222222, \"#7201a8\"], [0.3333333333333333, \"#9c179e\"], [0.4444444444444444, \"#bd3786\"], [0.5555555555555556, \"#d8576b\"], [0.6666666666666666, \"#ed7953\"], [0.7777777777777778, \"#fb9f3a\"], [0.8888888888888888, \"#fdca26\"], [1.0, \"#f0f921\"]], \"type\": \"heatmap\"}], \"heatmapgl\": [{\"colorbar\": {\"outlinewidth\": 0, \"ticks\": \"\"}, \"colorscale\": [[0.0, \"#0d0887\"], [0.1111111111111111, \"#46039f\"], [0.2222222222222222, \"#7201a8\"], [0.3333333333333333, \"#9c179e\"], [0.4444444444444444, \"#bd3786\"], [0.5555555555555556, \"#d8576b\"], [0.6666666666666666, \"#ed7953\"], [0.7777777777777778, \"#fb9f3a\"], [0.8888888888888888, \"#fdca26\"], [1.0, \"#f0f921\"]], \"type\": \"heatmapgl\"}], \"histogram\": [{\"marker\": {\"colorbar\": {\"outlinewidth\": 0, \"ticks\": \"\"}}, \"type\": \"histogram\"}], \"histogram2d\": [{\"colorbar\": {\"outlinewidth\": 0, \"ticks\": \"\"}, \"colorscale\": [[0.0, \"#0d0887\"], [0.1111111111111111, \"#46039f\"], [0.2222222222222222, \"#7201a8\"], [0.3333333333333333, \"#9c179e\"], [0.4444444444444444, \"#bd3786\"], [0.5555555555555556, \"#d8576b\"], [0.6666666666666666, \"#ed7953\"], [0.7777777777777778, \"#fb9f3a\"], [0.8888888888888888, \"#fdca26\"], [1.0, \"#f0f921\"]], \"type\": \"histogram2d\"}], \"histogram2dcontour\": [{\"colorbar\": {\"outlinewidth\": 0, \"ticks\": \"\"}, \"colorscale\": [[0.0, \"#0d0887\"], [0.1111111111111111, \"#46039f\"], [0.2222222222222222, \"#7201a8\"], [0.3333333333333333, \"#9c179e\"], [0.4444444444444444, \"#bd3786\"], [0.5555555555555556, \"#d8576b\"], [0.6666666666666666, \"#ed7953\"], [0.7777777777777778, \"#fb9f3a\"], [0.8888888888888888, \"#fdca26\"], [1.0, \"#f0f921\"]], \"type\": \"histogram2dcontour\"}], \"mesh3d\": [{\"colorbar\": {\"outlinewidth\": 0, \"ticks\": \"\"}, \"type\": \"mesh3d\"}], \"parcoords\": [{\"line\": {\"colorbar\": {\"outlinewidth\": 0, \"ticks\": \"\"}}, \"type\": \"parcoords\"}], \"pie\": [{\"automargin\": true, \"type\": \"pie\"}], \"scatter\": [{\"marker\": {\"colorbar\": {\"outlinewidth\": 0, \"ticks\": \"\"}}, \"type\": \"scatter\"}], \"scatter3d\": [{\"line\": {\"colorbar\": {\"outlinewidth\": 0, \"ticks\": \"\"}}, \"marker\": {\"colorbar\": {\"outlinewidth\": 0, \"ticks\": \"\"}}, \"type\": \"scatter3d\"}], \"scattercarpet\": [{\"marker\": {\"colorbar\": {\"outlinewidth\": 0, \"ticks\": \"\"}}, \"type\": \"scattercarpet\"}], \"scattergeo\": [{\"marker\": {\"colorbar\": {\"outlinewidth\": 0, \"ticks\": \"\"}}, \"type\": \"scattergeo\"}], \"scattergl\": [{\"marker\": {\"colorbar\": {\"outlinewidth\": 0, \"ticks\": \"\"}}, \"type\": \"scattergl\"}], \"scattermapbox\": [{\"marker\": {\"colorbar\": {\"outlinewidth\": 0, \"ticks\": \"\"}}, \"type\": \"scattermapbox\"}], \"scatterpolar\": [{\"marker\": {\"colorbar\": {\"outlinewidth\": 0, \"ticks\": \"\"}}, \"type\": \"scatterpolar\"}], \"scatterpolargl\": [{\"marker\": {\"colorbar\": {\"outlinewidth\": 0, \"ticks\": \"\"}}, \"type\": \"scatterpolargl\"}], \"scatterternary\": [{\"marker\": {\"colorbar\": {\"outlinewidth\": 0, \"ticks\": \"\"}}, \"type\": \"scatterternary\"}], \"surface\": [{\"colorbar\": {\"outlinewidth\": 0, \"ticks\": \"\"}, \"colorscale\": [[0.0, \"#0d0887\"], [0.1111111111111111, \"#46039f\"], [0.2222222222222222, \"#7201a8\"], [0.3333333333333333, \"#9c179e\"], [0.4444444444444444, \"#bd3786\"], [0.5555555555555556, \"#d8576b\"], [0.6666666666666666, \"#ed7953\"], [0.7777777777777778, \"#fb9f3a\"], [0.8888888888888888, \"#fdca26\"], [1.0, \"#f0f921\"]], \"type\": \"surface\"}], \"table\": [{\"cells\": {\"fill\": {\"color\": \"#EBF0F8\"}, \"line\": {\"color\": \"white\"}}, \"header\": {\"fill\": {\"color\": \"#C8D4E3\"}, \"line\": {\"color\": \"white\"}}, \"type\": \"table\"}]}, \"layout\": {\"annotationdefaults\": {\"arrowcolor\": \"#2a3f5f\", \"arrowhead\": 0, \"arrowwidth\": 1}, \"coloraxis\": {\"colorbar\": {\"outlinewidth\": 0, \"ticks\": \"\"}}, \"colorscale\": {\"diverging\": [[0, \"#8e0152\"], [0.1, \"#c51b7d\"], [0.2, \"#de77ae\"], [0.3, \"#f1b6da\"], [0.4, \"#fde0ef\"], [0.5, \"#f7f7f7\"], [0.6, \"#e6f5d0\"], [0.7, \"#b8e186\"], [0.8, \"#7fbc41\"], [0.9, \"#4d9221\"], [1, \"#276419\"]], \"sequential\": [[0.0, \"#0d0887\"], [0.1111111111111111, \"#46039f\"], [0.2222222222222222, \"#7201a8\"], [0.3333333333333333, \"#9c179e\"], [0.4444444444444444, \"#bd3786\"], [0.5555555555555556, \"#d8576b\"], [0.6666666666666666, \"#ed7953\"], [0.7777777777777778, \"#fb9f3a\"], [0.8888888888888888, \"#fdca26\"], [1.0, \"#f0f921\"]], \"sequentialminus\": [[0.0, \"#0d0887\"], [0.1111111111111111, \"#46039f\"], [0.2222222222222222, \"#7201a8\"], [0.3333333333333333, \"#9c179e\"], [0.4444444444444444, \"#bd3786\"], [0.5555555555555556, \"#d8576b\"], [0.6666666666666666, \"#ed7953\"], [0.7777777777777778, \"#fb9f3a\"], [0.8888888888888888, \"#fdca26\"], [1.0, \"#f0f921\"]]}, \"colorway\": [\"#636efa\", \"#EF553B\", \"#00cc96\", \"#ab63fa\", \"#FFA15A\", \"#19d3f3\", \"#FF6692\", \"#B6E880\", \"#FF97FF\", \"#FECB52\"], \"font\": {\"color\": \"#2a3f5f\"}, \"geo\": {\"bgcolor\": \"white\", \"lakecolor\": \"white\", \"landcolor\": \"#E5ECF6\", \"showlakes\": true, \"showland\": true, \"subunitcolor\": \"white\"}, \"hoverlabel\": {\"align\": \"left\"}, \"hovermode\": \"closest\", \"mapbox\": {\"style\": \"light\"}, \"paper_bgcolor\": \"white\", \"plot_bgcolor\": \"#E5ECF6\", \"polar\": {\"angularaxis\": {\"gridcolor\": \"white\", \"linecolor\": \"white\", \"ticks\": \"\"}, \"bgcolor\": \"#E5ECF6\", \"radialaxis\": {\"gridcolor\": \"white\", \"linecolor\": \"white\", \"ticks\": \"\"}}, \"scene\": {\"xaxis\": {\"backgroundcolor\": \"#E5ECF6\", \"gridcolor\": \"white\", \"gridwidth\": 2, \"linecolor\": \"white\", \"showbackground\": true, \"ticks\": \"\", \"zerolinecolor\": \"white\"}, \"yaxis\": {\"backgroundcolor\": \"#E5ECF6\", \"gridcolor\": \"white\", \"gridwidth\": 2, \"linecolor\": \"white\", \"showbackground\": true, \"ticks\": \"\", \"zerolinecolor\": \"white\"}, \"zaxis\": {\"backgroundcolor\": \"#E5ECF6\", \"gridcolor\": \"white\", \"gridwidth\": 2, \"linecolor\": \"white\", \"showbackground\": true, \"ticks\": \"\", \"zerolinecolor\": \"white\"}}, \"shapedefaults\": {\"line\": {\"color\": \"#2a3f5f\"}}, \"ternary\": {\"aaxis\": {\"gridcolor\": \"white\", \"linecolor\": \"white\", \"ticks\": \"\"}, \"baxis\": {\"gridcolor\": \"white\", \"linecolor\": \"white\", \"ticks\": \"\"}, \"bgcolor\": \"#E5ECF6\", \"caxis\": {\"gridcolor\": \"white\", \"linecolor\": \"white\", \"ticks\": \"\"}}, \"title\": {\"x\": 0.05}, \"xaxis\": {\"automargin\": true, \"gridcolor\": \"white\", \"linecolor\": \"white\", \"ticks\": \"\", \"title\": {\"standoff\": 15}, \"zerolinecolor\": \"white\", \"zerolinewidth\": 2}, \"yaxis\": {\"automargin\": true, \"gridcolor\": \"white\", \"linecolor\": \"white\", \"ticks\": \"\", \"title\": {\"standoff\": 15}, \"zerolinecolor\": \"white\", \"zerolinewidth\": 2}}}, \"title\": {\"font\": {\"color\": \"#4D5663\"}, \"text\": \"Number of category kinds in pneumonia alive\"}, \"xaxis\": {\"gridcolor\": \"#E1E5ED\", \"showgrid\": true, \"tickfont\": {\"color\": \"#4D5663\"}, \"title\": {\"font\": {\"color\": \"#4D5663\"}, \"text\": \"\"}, \"zerolinecolor\": \"#E1E5ED\"}, \"yaxis\": {\"gridcolor\": \"#E1E5ED\", \"showgrid\": true, \"tickfont\": {\"color\": \"#4D5663\"}, \"title\": {\"font\": {\"color\": \"#4D5663\"}, \"text\": \"Number of notes\"}, \"zerolinecolor\": \"#E1E5ED\"}},\n",
       "                        {\"showLink\": true, \"linkText\": \"Export to plot.ly\", \"plotlyServerURL\": \"https://plot.ly\", \"responsive\": true}\n",
       "                    ).then(function(){\n",
       "                            \n",
       "var gd = document.getElementById('6ee83d30-36cc-4c1a-8283-bdf31cdf8709');\n",
       "var x = new MutationObserver(function (mutations, observer) {{\n",
       "        var display = window.getComputedStyle(gd).display;\n",
       "        if (!display || display === 'none') {{\n",
       "            console.log([gd, 'removed!']);\n",
       "            Plotly.purge(gd);\n",
       "            observer.disconnect();\n",
       "        }}\n",
       "}});\n",
       "\n",
       "// Listen for the removal of the full notebook cells\n",
       "var notebookContainer = gd.closest('#notebook-container');\n",
       "if (notebookContainer) {{\n",
       "    x.observe(notebookContainer, {childList: true});\n",
       "}}\n",
       "\n",
       "// Listen for the clearing of the current output cell\n",
       "var outputEl = gd.closest('.output');\n",
       "if (outputEl) {{\n",
       "    x.observe(outputEl, {childList: true});\n",
       "}}\n",
       "\n",
       "                        })\n",
       "                };\n",
       "                });\n",
       "            </script>\n",
       "        </div>"
      ]
     },
     "metadata": {},
     "output_type": "display_data"
    }
   ],
   "source": [
    "pneumonia_dead_no_disch['CATEGORY'].value_counts().sort_values(ascending=False).iplot(kind='bar', yTitle='Number of notes', \n",
    "                                                                title='Number of category kinds in pneumonia alive')"
   ]
  },
  {
   "cell_type": "code",
   "execution_count": 27,
   "metadata": {},
   "outputs": [
    {
     "data": {
      "text/html": [
       "<div>\n",
       "<style scoped>\n",
       "    .dataframe tbody tr th:only-of-type {\n",
       "        vertical-align: middle;\n",
       "    }\n",
       "\n",
       "    .dataframe tbody tr th {\n",
       "        vertical-align: top;\n",
       "    }\n",
       "\n",
       "    .dataframe thead th {\n",
       "        text-align: right;\n",
       "    }\n",
       "</style>\n",
       "<table border=\"1\" class=\"dataframe\">\n",
       "  <thead>\n",
       "    <tr style=\"text-align: right;\">\n",
       "      <th></th>\n",
       "      <th>ROW_ID_x</th>\n",
       "      <th>SUBJECT_ID_x</th>\n",
       "      <th>CHARTDATE</th>\n",
       "      <th>STORETIME</th>\n",
       "      <th>CATEGORY</th>\n",
       "      <th>DESCRIPTION</th>\n",
       "      <th>TEXT</th>\n",
       "      <th>DEATHTIME</th>\n",
       "    </tr>\n",
       "  </thead>\n",
       "  <tbody>\n",
       "    <tr>\n",
       "      <th>137480</th>\n",
       "      <td>149869</td>\n",
       "      <td>68</td>\n",
       "      <td>2173-12-15</td>\n",
       "      <td>NaN</td>\n",
       "      <td>ECG</td>\n",
       "      <td>Report</td>\n",
       "      <td>Sinus tachycardia. Compared to the previous tr...</td>\n",
       "      <td>NaN</td>\n",
       "    </tr>\n",
       "    <tr>\n",
       "      <th>137481</th>\n",
       "      <td>149870</td>\n",
       "      <td>68</td>\n",
       "      <td>2173-12-15</td>\n",
       "      <td>NaN</td>\n",
       "      <td>ECG</td>\n",
       "      <td>Report</td>\n",
       "      <td>Sinus rhythm. Delayed anterior precordial R wa...</td>\n",
       "      <td>NaN</td>\n",
       "    </tr>\n",
       "    <tr>\n",
       "      <th>1259578</th>\n",
       "      <td>1261173</td>\n",
       "      <td>68</td>\n",
       "      <td>2173-12-16</td>\n",
       "      <td>2173-12-16 05:09:00</td>\n",
       "      <td>Nursing/other</td>\n",
       "      <td>Report</td>\n",
       "      <td>Micu nsg admission note\\n41yo female with AIDS...</td>\n",
       "      <td>NaN</td>\n",
       "    </tr>\n",
       "    <tr>\n",
       "      <th>1259579</th>\n",
       "      <td>1261174</td>\n",
       "      <td>68</td>\n",
       "      <td>2173-12-16</td>\n",
       "      <td>2173-12-16 17:08:00</td>\n",
       "      <td>Nursing/other</td>\n",
       "      <td>Report</td>\n",
       "      <td>NSG 0700-1900\\nEvents: Attempted eating breakf...</td>\n",
       "      <td>NaN</td>\n",
       "    </tr>\n",
       "    <tr>\n",
       "      <th>1258821</th>\n",
       "      <td>1261175</td>\n",
       "      <td>68</td>\n",
       "      <td>2173-12-16</td>\n",
       "      <td>2173-12-16 17:18:00</td>\n",
       "      <td>Nursing/other</td>\n",
       "      <td>Report</td>\n",
       "      <td>Resp Care\\n\\nSputum induction obtained for PCP...</td>\n",
       "      <td>NaN</td>\n",
       "    </tr>\n",
       "    <tr>\n",
       "      <th>...</th>\n",
       "      <td>...</td>\n",
       "      <td>...</td>\n",
       "      <td>...</td>\n",
       "      <td>...</td>\n",
       "      <td>...</td>\n",
       "      <td>...</td>\n",
       "      <td>...</td>\n",
       "      <td>...</td>\n",
       "    </tr>\n",
       "    <tr>\n",
       "      <th>1129253</th>\n",
       "      <td>1138542</td>\n",
       "      <td>99937</td>\n",
       "      <td>2128-05-11</td>\n",
       "      <td>NaN</td>\n",
       "      <td>Radiology</td>\n",
       "      <td>CHEST (PORTABLE AP)</td>\n",
       "      <td>[**2128-5-11**] 11:57 AM\\n CHEST (PORTABLE AP)...</td>\n",
       "      <td>NaN</td>\n",
       "    </tr>\n",
       "    <tr>\n",
       "      <th>1129150</th>\n",
       "      <td>1138569</td>\n",
       "      <td>99937</td>\n",
       "      <td>2128-05-11</td>\n",
       "      <td>NaN</td>\n",
       "      <td>Radiology</td>\n",
       "      <td>CTA CHEST W&amp;W/O C&amp;RECONS, NON-CORONARY</td>\n",
       "      <td>[**2128-5-11**] 1:44 PM\\n CTA CHEST W&amp;W/O C&amp;RE...</td>\n",
       "      <td>NaN</td>\n",
       "    </tr>\n",
       "    <tr>\n",
       "      <th>148040</th>\n",
       "      <td>130595</td>\n",
       "      <td>99937</td>\n",
       "      <td>2128-05-12</td>\n",
       "      <td>NaN</td>\n",
       "      <td>ECG</td>\n",
       "      <td>Report</td>\n",
       "      <td>Normal sinus rhythm. Compared to tracing #1 no...</td>\n",
       "      <td>NaN</td>\n",
       "    </tr>\n",
       "    <tr>\n",
       "      <th>1129514</th>\n",
       "      <td>1138666</td>\n",
       "      <td>99937</td>\n",
       "      <td>2128-05-12</td>\n",
       "      <td>NaN</td>\n",
       "      <td>Radiology</td>\n",
       "      <td>CHEST (PORTABLE AP)</td>\n",
       "      <td>[**2128-5-12**] 7:27 AM\\n CHEST (PORTABLE AP) ...</td>\n",
       "      <td>NaN</td>\n",
       "    </tr>\n",
       "    <tr>\n",
       "      <th>65449</th>\n",
       "      <td>65037</td>\n",
       "      <td>99937</td>\n",
       "      <td>2128-05-13</td>\n",
       "      <td>NaN</td>\n",
       "      <td>Echo</td>\n",
       "      <td>Report</td>\n",
       "      <td>PATIENT/TEST INFORMATION:\\nIndication: Left ve...</td>\n",
       "      <td>NaN</td>\n",
       "    </tr>\n",
       "  </tbody>\n",
       "</table>\n",
       "<p>46134 rows × 8 columns</p>\n",
       "</div>"
      ],
      "text/plain": [
       "         ROW_ID_x  SUBJECT_ID_x   CHARTDATE            STORETIME  \\\n",
       "137480     149869            68  2173-12-15                  NaN   \n",
       "137481     149870            68  2173-12-15                  NaN   \n",
       "1259578   1261173            68  2173-12-16  2173-12-16 05:09:00   \n",
       "1259579   1261174            68  2173-12-16  2173-12-16 17:08:00   \n",
       "1258821   1261175            68  2173-12-16  2173-12-16 17:18:00   \n",
       "...           ...           ...         ...                  ...   \n",
       "1129253   1138542         99937  2128-05-11                  NaN   \n",
       "1129150   1138569         99937  2128-05-11                  NaN   \n",
       "148040     130595         99937  2128-05-12                  NaN   \n",
       "1129514   1138666         99937  2128-05-12                  NaN   \n",
       "65449       65037         99937  2128-05-13                  NaN   \n",
       "\n",
       "              CATEGORY                             DESCRIPTION  \\\n",
       "137480             ECG                                  Report   \n",
       "137481             ECG                                  Report   \n",
       "1259578  Nursing/other                                  Report   \n",
       "1259579  Nursing/other                                  Report   \n",
       "1258821  Nursing/other                                  Report   \n",
       "...                ...                                     ...   \n",
       "1129253      Radiology                     CHEST (PORTABLE AP)   \n",
       "1129150      Radiology  CTA CHEST W&W/O C&RECONS, NON-CORONARY   \n",
       "148040             ECG                                  Report   \n",
       "1129514      Radiology                     CHEST (PORTABLE AP)   \n",
       "65449             Echo                                  Report   \n",
       "\n",
       "                                                      TEXT DEATHTIME  \n",
       "137480   Sinus tachycardia. Compared to the previous tr...       NaN  \n",
       "137481   Sinus rhythm. Delayed anterior precordial R wa...       NaN  \n",
       "1259578  Micu nsg admission note\\n41yo female with AIDS...       NaN  \n",
       "1259579  NSG 0700-1900\\nEvents: Attempted eating breakf...       NaN  \n",
       "1258821  Resp Care\\n\\nSputum induction obtained for PCP...       NaN  \n",
       "...                                                    ...       ...  \n",
       "1129253  [**2128-5-11**] 11:57 AM\\n CHEST (PORTABLE AP)...       NaN  \n",
       "1129150  [**2128-5-11**] 1:44 PM\\n CTA CHEST W&W/O C&RE...       NaN  \n",
       "148040   Normal sinus rhythm. Compared to tracing #1 no...       NaN  \n",
       "1129514  [**2128-5-12**] 7:27 AM\\n CHEST (PORTABLE AP) ...       NaN  \n",
       "65449    PATIENT/TEST INFORMATION:\\nIndication: Left ve...       NaN  \n",
       "\n",
       "[46134 rows x 8 columns]"
      ]
     },
     "execution_count": 27,
     "metadata": {},
     "output_type": "execute_result"
    }
   ],
   "source": [
    "pneumonia_alive_no_disch"
   ]
  },
  {
   "cell_type": "code",
   "execution_count": 28,
   "metadata": {},
   "outputs": [
    {
     "data": {
      "text/plain": [
       "252"
      ]
     },
     "execution_count": 28,
     "metadata": {},
     "output_type": "execute_result"
    }
   ],
   "source": [
    "# Number of patients\n",
    "pneumonia_dead_no_disch['SUBJECT_ID_x'].nunique()"
   ]
  },
  {
   "cell_type": "code",
   "execution_count": 29,
   "metadata": {
    "scrolled": true
   },
   "outputs": [
    {
     "data": {
      "text/plain": [
       "1167"
      ]
     },
     "execution_count": 29,
     "metadata": {},
     "output_type": "execute_result"
    }
   ],
   "source": [
    "# Number of patients\n",
    "pneumonia_alive_no_disch['SUBJECT_ID_x'].nunique()"
   ]
  },
  {
   "cell_type": "code",
   "execution_count": 30,
   "metadata": {},
   "outputs": [],
   "source": [
    "# import text handling tool\n",
    "from nltk.tokenize import word_tokenize\n",
    "from nltk.corpus import stopwords\n",
    "from nltk.stem import PorterStemmer\n",
    "\n",
    "from collections import Counter\n",
    "\n",
    "import sys\n",
    "import re\n",
    "import csv\n",
    "import os.path\n",
    "\n",
    "# define constants\n",
    "# RESULT_HEADER = \"WORD, FREQUENCY\\n\"\n",
    "MIN_SEQ_LEN = 4\n",
    "USE_1_N_SEQ = 2\n",
    "\n",
    "\n",
    "# words that do not have meaning (can be modified later)\n",
    "USELESS_WORDS = [\"a\", \"the\", \"he\", \"she\", \",\", \".\", \"?\", \"!\", \":\", \";\", \"+\", \"*\", \"**\"\\\n",
    "                 \"your\", \"you\"]\n",
    "\n",
    "# count up the frequency of every word in every disease file\n",
    "stemmer = PorterStemmer()\n",
    "# create set of words to ignore in text\n",
    "stop_words = set(stopwords.words('english'))\n",
    "\n",
    "for word in USELESS_WORDS:\n",
    "    stop_words.add(word)"
   ]
  },
  {
   "cell_type": "code",
   "execution_count": null,
   "metadata": {},
   "outputs": [],
   "source": []
  },
  {
   "cell_type": "code",
   "execution_count": 31,
   "metadata": {},
   "outputs": [
    {
     "name": "stderr",
     "output_type": "stream",
     "text": [
      "100%|██████████| 11895/11895 [00:01<00:00, 8681.01it/s]\n",
      "100%|██████████| 46134/46134 [00:05<00:00, 8531.29it/s]\n"
     ]
    }
   ],
   "source": [
    "\n",
    "#----------\n",
    "def count_notes_per_patient(disease_df):\n",
    "    patient_id_to_num_notes = {}\n",
    "    patient_id = -1\n",
    "    note_counter = 0\n",
    "            \n",
    "    for index, row in tqdm(disease_df.iterrows(), total=disease_df.shape[0]):\n",
    "        patient_id_check = int(row['SUBJECT_ID_x'])\n",
    "                \n",
    "        if not patient_id == patient_id_check:\n",
    "            patient_id_to_num_notes[patient_id] = note_counter\n",
    "            note_counter = 1\n",
    "        else:\n",
    "            note_counter += 1\n",
    "                    \n",
    "        patient_id = patient_id_check\n",
    "                \n",
    "    patient_id_to_num_notes[patient_id] = note_counter\n",
    "    del patient_id_to_num_notes[-1]\n",
    "    return patient_id_to_num_notes\n",
    "\n",
    "patient_id_to_num_notes = {}\n",
    "patient_id_to_num_notes['pneumonia_dead'] = count_notes_per_patient(pneumonia_dead_no_disch)\n",
    "patient_id_to_num_notes['pneumonia_alive'] = count_notes_per_patient(pneumonia_alive_no_disch)"
   ]
  },
  {
   "cell_type": "code",
   "execution_count": 32,
   "metadata": {},
   "outputs": [
    {
     "data": {
      "text/plain": [
       "{'pneumonia_dead': {111: 12,\n",
       "  346: 25,\n",
       "  404: 3,\n",
       "  546: 6,\n",
       "  618: 16,\n",
       "  705: 15,\n",
       "  726: 48,\n",
       "  1039: 55,\n",
       "  1556: 37,\n",
       "  1872: 3,\n",
       "  1944: 56,\n",
       "  2286: 69,\n",
       "  2990: 166,\n",
       "  3055: 29,\n",
       "  3099: 13,\n",
       "  3201: 8,\n",
       "  3526: 7,\n",
       "  3773: 6,\n",
       "  3881: 20,\n",
       "  4122: 51,\n",
       "  4754: 101,\n",
       "  4811: 21,\n",
       "  5476: 1,\n",
       "  5494: 22,\n",
       "  5774: 104,\n",
       "  5786: 152,\n",
       "  5913: 1,\n",
       "  6133: 68,\n",
       "  6735: 13,\n",
       "  6745: 13,\n",
       "  6973: 36,\n",
       "  6981: 8,\n",
       "  7277: 66,\n",
       "  7310: 8,\n",
       "  7924: 9,\n",
       "  7977: 9,\n",
       "  9908: 11,\n",
       "  9984: 15,\n",
       "  10302: 100,\n",
       "  10510: 86,\n",
       "  10545: 10,\n",
       "  10642: 10,\n",
       "  11049: 14,\n",
       "  11209: 9,\n",
       "  11395: 41,\n",
       "  12530: 24,\n",
       "  12849: 50,\n",
       "  13098: 46,\n",
       "  13566: 23,\n",
       "  14125: 9,\n",
       "  14514: 96,\n",
       "  14965: 25,\n",
       "  15159: 15,\n",
       "  15251: 11,\n",
       "  15396: 17,\n",
       "  15566: 37,\n",
       "  15853: 45,\n",
       "  16275: 17,\n",
       "  16344: 27,\n",
       "  16622: 51,\n",
       "  16684: 29,\n",
       "  17122: 16,\n",
       "  17354: 5,\n",
       "  17802: 64,\n",
       "  17983: 65,\n",
       "  18094: 23,\n",
       "  18736: 35,\n",
       "  18768: 46,\n",
       "  18848: 205,\n",
       "  18971: 26,\n",
       "  19243: 25,\n",
       "  19323: 6,\n",
       "  19390: 21,\n",
       "  19463: 20,\n",
       "  19535: 59,\n",
       "  19754: 13,\n",
       "  19827: 22,\n",
       "  19833: 58,\n",
       "  19872: 10,\n",
       "  20006: 8,\n",
       "  20023: 9,\n",
       "  20190: 6,\n",
       "  21046: 101,\n",
       "  21094: 36,\n",
       "  21427: 10,\n",
       "  21502: 102,\n",
       "  21580: 52,\n",
       "  21676: 12,\n",
       "  21699: 7,\n",
       "  21979: 11,\n",
       "  22735: 15,\n",
       "  23660: 12,\n",
       "  23795: 78,\n",
       "  24181: 13,\n",
       "  24582: 37,\n",
       "  24725: 57,\n",
       "  24730: 19,\n",
       "  24854: 25,\n",
       "  25003: 182,\n",
       "  25046: 7,\n",
       "  25774: 61,\n",
       "  25975: 9,\n",
       "  26474: 89,\n",
       "  26578: 15,\n",
       "  26716: 41,\n",
       "  26774: 3,\n",
       "  26849: 33,\n",
       "  27005: 5,\n",
       "  27145: 24,\n",
       "  27421: 61,\n",
       "  27431: 5,\n",
       "  27496: 7,\n",
       "  27504: 72,\n",
       "  27639: 221,\n",
       "  28004: 13,\n",
       "  28072: 34,\n",
       "  28178: 202,\n",
       "  28427: 6,\n",
       "  28498: 25,\n",
       "  28726: 34,\n",
       "  28750: 19,\n",
       "  28906: 32,\n",
       "  28907: 13,\n",
       "  28933: 394,\n",
       "  29105: 468,\n",
       "  29588: 72,\n",
       "  29647: 26,\n",
       "  29872: 225,\n",
       "  30476: 174,\n",
       "  30549: 12,\n",
       "  30614: 8,\n",
       "  30699: 14,\n",
       "  30786: 9,\n",
       "  30941: 110,\n",
       "  31030: 168,\n",
       "  31134: 24,\n",
       "  31139: 9,\n",
       "  31451: 48,\n",
       "  31556: 57,\n",
       "  31690: 18,\n",
       "  31692: 35,\n",
       "  32050: 34,\n",
       "  32326: 24,\n",
       "  32618: 42,\n",
       "  41546: 25,\n",
       "  43937: 6,\n",
       "  44851: 274,\n",
       "  45381: 16,\n",
       "  46589: 26,\n",
       "  46763: 6,\n",
       "  47045: 9,\n",
       "  48632: 147,\n",
       "  49079: 20,\n",
       "  49683: 3,\n",
       "  49922: 13,\n",
       "  50093: 8,\n",
       "  50231: 3,\n",
       "  50556: 216,\n",
       "  50859: 537,\n",
       "  51914: 313,\n",
       "  52010: 12,\n",
       "  53105: 115,\n",
       "  53399: 78,\n",
       "  54193: 85,\n",
       "  54401: 14,\n",
       "  54408: 2,\n",
       "  54739: 75,\n",
       "  54946: 7,\n",
       "  55400: 5,\n",
       "  55570: 14,\n",
       "  55887: 37,\n",
       "  55944: 34,\n",
       "  55987: 20,\n",
       "  56390: 19,\n",
       "  56648: 8,\n",
       "  56854: 170,\n",
       "  57091: 88,\n",
       "  57102: 35,\n",
       "  58702: 479,\n",
       "  59260: 11,\n",
       "  59437: 26,\n",
       "  60849: 2,\n",
       "  60868: 6,\n",
       "  61652: 7,\n",
       "  61667: 30,\n",
       "  63039: 8,\n",
       "  65513: 8,\n",
       "  68044: 40,\n",
       "  68095: 23,\n",
       "  68184: 5,\n",
       "  68308: 8,\n",
       "  68860: 14,\n",
       "  69719: 13,\n",
       "  69745: 25,\n",
       "  69776: 17,\n",
       "  70226: 8,\n",
       "  70447: 9,\n",
       "  72930: 11,\n",
       "  73811: 9,\n",
       "  73888: 109,\n",
       "  74316: 2,\n",
       "  74444: 81,\n",
       "  74686: 75,\n",
       "  75824: 10,\n",
       "  76282: 21,\n",
       "  76827: 2,\n",
       "  77382: 10,\n",
       "  78241: 3,\n",
       "  78388: 14,\n",
       "  79008: 27,\n",
       "  79055: 21,\n",
       "  79222: 18,\n",
       "  79877: 156,\n",
       "  80637: 148,\n",
       "  80678: 9,\n",
       "  80737: 46,\n",
       "  80805: 79,\n",
       "  81437: 27,\n",
       "  82393: 5,\n",
       "  82769: 85,\n",
       "  83932: 2,\n",
       "  84474: 34,\n",
       "  85160: 8,\n",
       "  85258: 52,\n",
       "  85404: 11,\n",
       "  85797: 9,\n",
       "  86007: 35,\n",
       "  86394: 4,\n",
       "  86684: 11,\n",
       "  86832: 67,\n",
       "  86863: 8,\n",
       "  86872: 326,\n",
       "  88193: 16,\n",
       "  88660: 11,\n",
       "  90256: 18,\n",
       "  91350: 19,\n",
       "  92074: 28,\n",
       "  92278: 52,\n",
       "  92331: 42,\n",
       "  93422: 7,\n",
       "  94341: 2,\n",
       "  94997: 9,\n",
       "  95280: 23,\n",
       "  95803: 18,\n",
       "  95830: 33,\n",
       "  95933: 56,\n",
       "  96699: 85,\n",
       "  97181: 30,\n",
       "  97795: 60,\n",
       "  98009: 33,\n",
       "  98299: 29,\n",
       "  98597: 2},\n",
       " 'pneumonia_alive': {68: 18,\n",
       "  85: 8,\n",
       "  94: 100,\n",
       "  165: 2,\n",
       "  211: 24,\n",
       "  224: 8,\n",
       "  231: 75,\n",
       "  283: 131,\n",
       "  357: 17,\n",
       "  368: 45,\n",
       "  370: 13,\n",
       "  384: 26,\n",
       "  426: 10,\n",
       "  509: 34,\n",
       "  514: 7,\n",
       "  596: 23,\n",
       "  674: 16,\n",
       "  707: 29,\n",
       "  711: 537,\n",
       "  770: 83,\n",
       "  773: 74,\n",
       "  899: 17,\n",
       "  1096: 17,\n",
       "  1135: 32,\n",
       "  1163: 12,\n",
       "  1174: 42,\n",
       "  1180: 5,\n",
       "  1283: 3,\n",
       "  1332: 66,\n",
       "  1339: 134,\n",
       "  1546: 21,\n",
       "  1568: 22,\n",
       "  1601: 12,\n",
       "  1606: 13,\n",
       "  1642: 4,\n",
       "  1660: 23,\n",
       "  1895: 22,\n",
       "  1923: 23,\n",
       "  2029: 175,\n",
       "  2090: 179,\n",
       "  2098: 26,\n",
       "  2128: 31,\n",
       "  2170: 9,\n",
       "  2187: 30,\n",
       "  2208: 139,\n",
       "  2337: 8,\n",
       "  2378: 57,\n",
       "  2386: 18,\n",
       "  2452: 22,\n",
       "  2508: 22,\n",
       "  2561: 126,\n",
       "  2585: 9,\n",
       "  2589: 92,\n",
       "  2590: 5,\n",
       "  2628: 218,\n",
       "  2658: 16,\n",
       "  2732: 12,\n",
       "  2784: 23,\n",
       "  2823: 21,\n",
       "  3070: 8,\n",
       "  3100: 70,\n",
       "  3154: 22,\n",
       "  3220: 28,\n",
       "  3277: 35,\n",
       "  3347: 15,\n",
       "  3359: 15,\n",
       "  3516: 11,\n",
       "  3602: 18,\n",
       "  3623: 116,\n",
       "  3641: 57,\n",
       "  3676: 49,\n",
       "  3830: 80,\n",
       "  3860: 203,\n",
       "  3862: 22,\n",
       "  3865: 8,\n",
       "  3895: 6,\n",
       "  3935: 44,\n",
       "  3952: 20,\n",
       "  3975: 34,\n",
       "  4109: 9,\n",
       "  4155: 23,\n",
       "  4236: 14,\n",
       "  4275: 45,\n",
       "  4316: 13,\n",
       "  4317: 106,\n",
       "  4328: 23,\n",
       "  4388: 14,\n",
       "  4454: 5,\n",
       "  4467: 12,\n",
       "  4489: 21,\n",
       "  4494: 18,\n",
       "  4584: 39,\n",
       "  4588: 80,\n",
       "  4641: 23,\n",
       "  4694: 19,\n",
       "  4804: 6,\n",
       "  5030: 49,\n",
       "  5145: 9,\n",
       "  5244: 113,\n",
       "  5264: 115,\n",
       "  5360: 19,\n",
       "  5434: 24,\n",
       "  5476: 36,\n",
       "  5516: 31,\n",
       "  5536: 21,\n",
       "  5564: 30,\n",
       "  5579: 14,\n",
       "  5609: 39,\n",
       "  5619: 25,\n",
       "  5631: 9,\n",
       "  5681: 9,\n",
       "  5691: 12,\n",
       "  5727: 41,\n",
       "  5761: 85,\n",
       "  5819: 19,\n",
       "  5904: 16,\n",
       "  5937: 61,\n",
       "  6038: 4,\n",
       "  6143: 15,\n",
       "  6176: 5,\n",
       "  6183: 17,\n",
       "  6206: 7,\n",
       "  6279: 20,\n",
       "  6378: 112,\n",
       "  6398: 11,\n",
       "  6557: 16,\n",
       "  6603: 15,\n",
       "  6884: 43,\n",
       "  6901: 8,\n",
       "  6915: 190,\n",
       "  7107: 230,\n",
       "  7169: 9,\n",
       "  7271: 117,\n",
       "  7356: 12,\n",
       "  7363: 284,\n",
       "  7492: 58,\n",
       "  7569: 32,\n",
       "  7603: 39,\n",
       "  7666: 9,\n",
       "  7700: 68,\n",
       "  7787: 18,\n",
       "  7849: 96,\n",
       "  7936: 3,\n",
       "  8070: 69,\n",
       "  8312: 29,\n",
       "  8337: 22,\n",
       "  8366: 25,\n",
       "  8471: 15,\n",
       "  8512: 16,\n",
       "  8515: 21,\n",
       "  8532: 9,\n",
       "  8556: 71,\n",
       "  8803: 4,\n",
       "  8895: 10,\n",
       "  8900: 11,\n",
       "  9124: 18,\n",
       "  9128: 2,\n",
       "  9253: 76,\n",
       "  9304: 12,\n",
       "  9332: 7,\n",
       "  9457: 6,\n",
       "  9505: 2,\n",
       "  9518: 80,\n",
       "  9544: 228,\n",
       "  9727: 37,\n",
       "  9736: 19,\n",
       "  9859: 12,\n",
       "  9871: 17,\n",
       "  9957: 15,\n",
       "  9973: 59,\n",
       "  10057: 144,\n",
       "  10207: 36,\n",
       "  10299: 167,\n",
       "  10304: 8,\n",
       "  10377: 125,\n",
       "  10502: 9,\n",
       "  10581: 11,\n",
       "  10589: 18,\n",
       "  10626: 72,\n",
       "  10635: 6,\n",
       "  10666: 84,\n",
       "  10675: 13,\n",
       "  10761: 9,\n",
       "  10830: 14,\n",
       "  10848: 16,\n",
       "  10950: 23,\n",
       "  11003: 63,\n",
       "  11018: 24,\n",
       "  11061: 11,\n",
       "  11065: 40,\n",
       "  11197: 14,\n",
       "  11236: 58,\n",
       "  11247: 6,\n",
       "  11275: 26,\n",
       "  11313: 9,\n",
       "  11320: 66,\n",
       "  11421: 37,\n",
       "  11446: 13,\n",
       "  11593: 19,\n",
       "  11616: 64,\n",
       "  11671: 14,\n",
       "  11702: 7,\n",
       "  11708: 44,\n",
       "  11747: 20,\n",
       "  11762: 10,\n",
       "  11829: 25,\n",
       "  11850: 23,\n",
       "  11860: 11,\n",
       "  11932: 18,\n",
       "  11989: 17,\n",
       "  12028: 221,\n",
       "  12140: 36,\n",
       "  12177: 53,\n",
       "  12183: 26,\n",
       "  12274: 9,\n",
       "  12312: 13,\n",
       "  12380: 45,\n",
       "  12508: 136,\n",
       "  12567: 61,\n",
       "  12585: 4,\n",
       "  12629: 43,\n",
       "  12633: 11,\n",
       "  12799: 77,\n",
       "  12803: 21,\n",
       "  12824: 21,\n",
       "  13123: 10,\n",
       "  13329: 22,\n",
       "  13330: 13,\n",
       "  13503: 15,\n",
       "  13546: 20,\n",
       "  13577: 7,\n",
       "  13593: 20,\n",
       "  13615: 10,\n",
       "  13627: 31,\n",
       "  13664: 120,\n",
       "  13728: 13,\n",
       "  13748: 21,\n",
       "  13864: 5,\n",
       "  13881: 2,\n",
       "  14035: 12,\n",
       "  14144: 24,\n",
       "  14172: 9,\n",
       "  14193: 8,\n",
       "  14256: 26,\n",
       "  14269: 21,\n",
       "  14309: 13,\n",
       "  14342: 20,\n",
       "  14385: 14,\n",
       "  14507: 9,\n",
       "  14520: 56,\n",
       "  14705: 17,\n",
       "  14805: 16,\n",
       "  14855: 96,\n",
       "  14975: 23,\n",
       "  15046: 86,\n",
       "  15054: 33,\n",
       "  15301: 5,\n",
       "  15347: 4,\n",
       "  15361: 15,\n",
       "  15472: 13,\n",
       "  15590: 85,\n",
       "  15716: 323,\n",
       "  15852: 15,\n",
       "  15875: 192,\n",
       "  16038: 89,\n",
       "  16053: 17,\n",
       "  16076: 397,\n",
       "  16102: 6,\n",
       "  16129: 22,\n",
       "  16147: 7,\n",
       "  16216: 17,\n",
       "  16275: 90,\n",
       "  16318: 12,\n",
       "  16367: 47,\n",
       "  16384: 48,\n",
       "  16409: 40,\n",
       "  16412: 8,\n",
       "  16438: 28,\n",
       "  16468: 15,\n",
       "  16469: 20,\n",
       "  16479: 7,\n",
       "  16492: 6,\n",
       "  16554: 19,\n",
       "  16560: 8,\n",
       "  16685: 1,\n",
       "  16733: 14,\n",
       "  16755: 24,\n",
       "  16800: 12,\n",
       "  16802: 27,\n",
       "  16850: 14,\n",
       "  16975: 186,\n",
       "  16992: 42,\n",
       "  17107: 6,\n",
       "  17149: 17,\n",
       "  17150: 23,\n",
       "  17250: 28,\n",
       "  17260: 10,\n",
       "  17276: 10,\n",
       "  17539: 24,\n",
       "  17547: 9,\n",
       "  17617: 4,\n",
       "  17631: 19,\n",
       "  17664: 24,\n",
       "  17722: 8,\n",
       "  17764: 3,\n",
       "  17795: 215,\n",
       "  17843: 37,\n",
       "  17882: 6,\n",
       "  17903: 7,\n",
       "  17906: 88,\n",
       "  18082: 22,\n",
       "  18123: 146,\n",
       "  18233: 8,\n",
       "  18250: 2,\n",
       "  18281: 61,\n",
       "  18320: 207,\n",
       "  18353: 16,\n",
       "  18365: 10,\n",
       "  18459: 33,\n",
       "  18637: 35,\n",
       "  18673: 38,\n",
       "  18681: 10,\n",
       "  18737: 7,\n",
       "  18999: 40,\n",
       "  19029: 4,\n",
       "  19036: 12,\n",
       "  19164: 20,\n",
       "  19463: 14,\n",
       "  19569: 4,\n",
       "  19653: 30,\n",
       "  19698: 79,\n",
       "  19793: 37,\n",
       "  19803: 9,\n",
       "  19833: 77,\n",
       "  19851: 83,\n",
       "  19859: 14,\n",
       "  19940: 9,\n",
       "  20061: 7,\n",
       "  20086: 85,\n",
       "  20133: 121,\n",
       "  20181: 204,\n",
       "  20187: 25,\n",
       "  20263: 6,\n",
       "  20265: 7,\n",
       "  20289: 63,\n",
       "  20381: 10,\n",
       "  20425: 103,\n",
       "  20528: 37,\n",
       "  20580: 1,\n",
       "  20598: 31,\n",
       "  20600: 16,\n",
       "  20624: 32,\n",
       "  20643: 20,\n",
       "  20804: 25,\n",
       "  20899: 17,\n",
       "  20951: 8,\n",
       "  20979: 26,\n",
       "  21037: 21,\n",
       "  21056: 9,\n",
       "  21093: 60,\n",
       "  21255: 3,\n",
       "  21269: 279,\n",
       "  21277: 23,\n",
       "  21301: 16,\n",
       "  21350: 18,\n",
       "  21548: 7,\n",
       "  21581: 11,\n",
       "  21737: 7,\n",
       "  21745: 5,\n",
       "  21764: 7,\n",
       "  22019: 2,\n",
       "  22180: 5,\n",
       "  22192: 5,\n",
       "  22287: 10,\n",
       "  22432: 6,\n",
       "  22450: 11,\n",
       "  22520: 63,\n",
       "  22534: 4,\n",
       "  22580: 10,\n",
       "  22624: 43,\n",
       "  22667: 72,\n",
       "  22684: 14,\n",
       "  22706: 8,\n",
       "  22754: 44,\n",
       "  22855: 47,\n",
       "  22921: 2,\n",
       "  23028: 22,\n",
       "  23109: 2,\n",
       "  23131: 49,\n",
       "  23161: 29,\n",
       "  23215: 9,\n",
       "  23318: 15,\n",
       "  23418: 22,\n",
       "  23423: 11,\n",
       "  23451: 26,\n",
       "  23568: 8,\n",
       "  23657: 34,\n",
       "  23734: 15,\n",
       "  23763: 21,\n",
       "  23847: 9,\n",
       "  24099: 2,\n",
       "  24170: 2,\n",
       "  24178: 209,\n",
       "  24276: 82,\n",
       "  24344: 290,\n",
       "  24483: 7,\n",
       "  24535: 23,\n",
       "  24562: 10,\n",
       "  24569: 20,\n",
       "  24622: 1,\n",
       "  24687: 45,\n",
       "  24807: 41,\n",
       "  24847: 12,\n",
       "  24868: 57,\n",
       "  24903: 45,\n",
       "  25001: 25,\n",
       "  25016: 78,\n",
       "  25038: 66,\n",
       "  25097: 42,\n",
       "  25117: 38,\n",
       "  25225: 17,\n",
       "  25256: 30,\n",
       "  25295: 59,\n",
       "  25326: 17,\n",
       "  25373: 158,\n",
       "  25406: 5,\n",
       "  25515: 18,\n",
       "  25526: 86,\n",
       "  25579: 27,\n",
       "  25591: 61,\n",
       "  25671: 11,\n",
       "  25750: 107,\n",
       "  25775: 38,\n",
       "  25844: 22,\n",
       "  25860: 9,\n",
       "  25861: 16,\n",
       "  25889: 20,\n",
       "  25941: 86,\n",
       "  26036: 11,\n",
       "  26040: 79,\n",
       "  26052: 3,\n",
       "  26080: 5,\n",
       "  26097: 65,\n",
       "  26118: 60,\n",
       "  26311: 28,\n",
       "  26391: 64,\n",
       "  26398: 14,\n",
       "  26469: 52,\n",
       "  26542: 55,\n",
       "  26601: 58,\n",
       "  26638: 155,\n",
       "  26727: 10,\n",
       "  26797: 8,\n",
       "  26869: 11,\n",
       "  26884: 5,\n",
       "  26887: 4,\n",
       "  26956: 23,\n",
       "  27003: 18,\n",
       "  27036: 10,\n",
       "  27043: 30,\n",
       "  27047: 41,\n",
       "  27049: 14,\n",
       "  27089: 24,\n",
       "  27121: 89,\n",
       "  27143: 135,\n",
       "  27172: 9,\n",
       "  27179: 118,\n",
       "  27194: 60,\n",
       "  27269: 19,\n",
       "  27367: 84,\n",
       "  27371: 17,\n",
       "  27431: 33,\n",
       "  27486: 2,\n",
       "  27576: 84,\n",
       "  27597: 60,\n",
       "  27600: 28,\n",
       "  27677: 11,\n",
       "  27726: 59,\n",
       "  27729: 70,\n",
       "  27752: 11,\n",
       "  27800: 12,\n",
       "  27809: 18,\n",
       "  27823: 31,\n",
       "  27879: 13,\n",
       "  27886: 30,\n",
       "  27999: 25,\n",
       "  28050: 20,\n",
       "  28055: 4,\n",
       "  28073: 74,\n",
       "  28093: 21,\n",
       "  28103: 16,\n",
       "  28164: 159,\n",
       "  28173: 124,\n",
       "  28230: 23,\n",
       "  28291: 36,\n",
       "  28298: 31,\n",
       "  28356: 10,\n",
       "  28527: 46,\n",
       "  28530: 24,\n",
       "  28642: 2,\n",
       "  28668: 3,\n",
       "  28671: 33,\n",
       "  28689: 5,\n",
       "  28717: 23,\n",
       "  28729: 73,\n",
       "  28742: 7,\n",
       "  28758: 94,\n",
       "  28827: 12,\n",
       "  28843: 1,\n",
       "  28884: 12,\n",
       "  28932: 24,\n",
       "  28935: 4,\n",
       "  28939: 4,\n",
       "  28973: 152,\n",
       "  29007: 9,\n",
       "  29043: 12,\n",
       "  29093: 5,\n",
       "  29096: 21,\n",
       "  29102: 18,\n",
       "  29129: 15,\n",
       "  29137: 8,\n",
       "  29139: 17,\n",
       "  29141: 27,\n",
       "  29219: 19,\n",
       "  29240: 10,\n",
       "  29274: 17,\n",
       "  29350: 18,\n",
       "  29377: 80,\n",
       "  29379: 21,\n",
       "  29456: 22,\n",
       "  29478: 32,\n",
       "  29501: 6,\n",
       "  29503: 11,\n",
       "  29504: 18,\n",
       "  29513: 65,\n",
       "  29528: 5,\n",
       "  29556: 5,\n",
       "  29566: 17,\n",
       "  29619: 18,\n",
       "  29638: 15,\n",
       "  29639: 26,\n",
       "  29660: 9,\n",
       "  29703: 12,\n",
       "  29866: 12,\n",
       "  29872: 14,\n",
       "  29913: 11,\n",
       "  29919: 24,\n",
       "  29927: 63,\n",
       "  29965: 26,\n",
       "  29972: 7,\n",
       "  30010: 7,\n",
       "  30015: 36,\n",
       "  30139: 529,\n",
       "  30208: 18,\n",
       "  30227: 35,\n",
       "  30287: 23,\n",
       "  30299: 1,\n",
       "  30301: 117,\n",
       "  30316: 17,\n",
       "  30365: 47,\n",
       "  30490: 17,\n",
       "  30501: 10,\n",
       "  30505: 33,\n",
       "  30561: 6,\n",
       "  30575: 6,\n",
       "  30599: 24,\n",
       "  30631: 11,\n",
       "  30663: 24,\n",
       "  30696: 54,\n",
       "  30786: 11,\n",
       "  30798: 14,\n",
       "  30860: 28,\n",
       "  31003: 45,\n",
       "  31183: 129,\n",
       "  31216: 80,\n",
       "  31221: 17,\n",
       "  31262: 28,\n",
       "  31298: 13,\n",
       "  31332: 59,\n",
       "  31361: 20,\n",
       "  31442: 32,\n",
       "  31470: 17,\n",
       "  31516: 74,\n",
       "  31528: 60,\n",
       "  31544: 11,\n",
       "  31580: 34,\n",
       "  31585: 39,\n",
       "  31610: 17,\n",
       "  31660: 3,\n",
       "  31664: 45,\n",
       "  31692: 23,\n",
       "  31723: 17,\n",
       "  31813: 234,\n",
       "  31942: 102,\n",
       "  31986: 41,\n",
       "  32018: 145,\n",
       "  32061: 11,\n",
       "  32106: 18,\n",
       "  32135: 12,\n",
       "  32161: 25,\n",
       "  32181: 8,\n",
       "  32183: 27,\n",
       "  32193: 16,\n",
       "  32268: 6,\n",
       "  32286: 117,\n",
       "  32355: 6,\n",
       "  32367: 42,\n",
       "  32394: 6,\n",
       "  32414: 485,\n",
       "  32436: 271,\n",
       "  32583: 5,\n",
       "  32605: 19,\n",
       "  32639: 12,\n",
       "  32740: 48,\n",
       "  32746: 11,\n",
       "  32773: 112,\n",
       "  32790: 103,\n",
       "  40059: 11,\n",
       "  40124: 68,\n",
       "  40246: 20,\n",
       "  40370: 11,\n",
       "  40442: 107,\n",
       "  40456: 43,\n",
       "  40576: 48,\n",
       "  40631: 4,\n",
       "  40911: 35,\n",
       "  41192: 45,\n",
       "  41373: 28,\n",
       "  41434: 10,\n",
       "  41446: 8,\n",
       "  41890: 7,\n",
       "  41958: 5,\n",
       "  41962: 10,\n",
       "  41976: 177,\n",
       "  42009: 30,\n",
       "  42035: 49,\n",
       "  42054: 18,\n",
       "  42194: 1,\n",
       "  42346: 30,\n",
       "  42458: 9,\n",
       "  42515: 38,\n",
       "  42572: 17,\n",
       "  42715: 21,\n",
       "  42794: 6,\n",
       "  42924: 3,\n",
       "  43067: 90,\n",
       "  43074: 18,\n",
       "  43112: 394,\n",
       "  43128: 1,\n",
       "  43147: 150,\n",
       "  43305: 48,\n",
       "  43323: 15,\n",
       "  43937: 4,\n",
       "  43943: 6,\n",
       "  43959: 3,\n",
       "  44146: 16,\n",
       "  44206: 5,\n",
       "  44214: 30,\n",
       "  44326: 8,\n",
       "  44437: 12,\n",
       "  44530: 2,\n",
       "  44534: 37,\n",
       "  44741: 8,\n",
       "  44787: 7,\n",
       "  44829: 55,\n",
       "  44841: 19,\n",
       "  44848: 2,\n",
       "  45193: 11,\n",
       "  45280: 9,\n",
       "  45435: 7,\n",
       "  46011: 61,\n",
       "  46335: 49,\n",
       "  46366: 42,\n",
       "  46415: 53,\n",
       "  46521: 14,\n",
       "  46728: 34,\n",
       "  46926: 1,\n",
       "  46961: 1,\n",
       "  47216: 17,\n",
       "  47219: 67,\n",
       "  47407: 2,\n",
       "  47467: 6,\n",
       "  47670: 7,\n",
       "  47747: 12,\n",
       "  47852: 95,\n",
       "  47930: 5,\n",
       "  48058: 4,\n",
       "  48143: 6,\n",
       "  48297: 11,\n",
       "  48340: 7,\n",
       "  48660: 343,\n",
       "  48687: 15,\n",
       "  48750: 8,\n",
       "  48812: 36,\n",
       "  48837: 14,\n",
       "  48929: 7,\n",
       "  49292: 18,\n",
       "  49510: 31,\n",
       "  49558: 347,\n",
       "  49623: 9,\n",
       "  49747: 7,\n",
       "  49764: 10,\n",
       "  49963: 4,\n",
       "  50007: 4,\n",
       "  50041: 10,\n",
       "  50093: 6,\n",
       "  50257: 11,\n",
       "  50294: 20,\n",
       "  50409: 75,\n",
       "  50762: 8,\n",
       "  50772: 17,\n",
       "  50807: 21,\n",
       "  50828: 126,\n",
       "  50911: 81,\n",
       "  50998: 29,\n",
       "  51195: 29,\n",
       "  51237: 11,\n",
       "  51401: 33,\n",
       "  51418: 68,\n",
       "  51497: 3,\n",
       "  51545: 97,\n",
       "  51601: 5,\n",
       "  51607: 5,\n",
       "  51669: 10,\n",
       "  51933: 5,\n",
       "  52011: 8,\n",
       "  52054: 1,\n",
       "  52172: 13,\n",
       "  52191: 46,\n",
       "  52307: 5,\n",
       "  52452: 5,\n",
       "  52606: 54,\n",
       "  52622: 5,\n",
       "  52898: 6,\n",
       "  52957: 52,\n",
       "  53119: 7,\n",
       "  53160: 13,\n",
       "  53173: 14,\n",
       "  53534: 9,\n",
       "  53650: 15,\n",
       "  53743: 151,\n",
       "  53749: 6,\n",
       "  53847: 14,\n",
       "  54172: 6,\n",
       "  54197: 13,\n",
       "  54305: 8,\n",
       "  54514: 116,\n",
       "  54709: 9,\n",
       "  54741: 5,\n",
       "  54832: 7,\n",
       "  54922: 2,\n",
       "  55059: 17,\n",
       "  55074: 7,\n",
       "  55188: 9,\n",
       "  55571: 212,\n",
       "  55700: 4,\n",
       "  55753: 37,\n",
       "  55841: 14,\n",
       "  55920: 17,\n",
       "  56027: 7,\n",
       "  56229: 31,\n",
       "  56440: 9,\n",
       "  56490: 12,\n",
       "  56621: 11,\n",
       "  56635: 2,\n",
       "  56772: 31,\n",
       "  56798: 4,\n",
       "  56867: 16,\n",
       "  56874: 51,\n",
       "  57050: 205,\n",
       "  57081: 32,\n",
       "  57157: 5,\n",
       "  57277: 19,\n",
       "  57290: 15,\n",
       "  57449: 17,\n",
       "  57788: 36,\n",
       "  57795: 7,\n",
       "  57889: 105,\n",
       "  58105: 49,\n",
       "  58242: 6,\n",
       "  58264: 7,\n",
       "  58286: 20,\n",
       "  58416: 3,\n",
       "  58433: 51,\n",
       "  58522: 9,\n",
       "  58580: 5,\n",
       "  58610: 13,\n",
       "  58631: 15,\n",
       "  58732: 5,\n",
       "  58794: 32,\n",
       "  58810: 10,\n",
       "  58955: 6,\n",
       "  59275: 1,\n",
       "  59278: 17,\n",
       "  59411: 6,\n",
       "  59496: 75,\n",
       "  59765: 300,\n",
       "  59789: 10,\n",
       "  59801: 2,\n",
       "  59822: 14,\n",
       "  59903: 483,\n",
       "  59943: 121,\n",
       "  60003: 9,\n",
       "  60050: 4,\n",
       "  60130: 44,\n",
       "  60674: 10,\n",
       "  60685: 4,\n",
       "  60958: 8,\n",
       "  60977: 9,\n",
       "  61005: 10,\n",
       "  61084: 216,\n",
       "  61195: 9,\n",
       "  61259: 83,\n",
       "  61331: 4,\n",
       "  61630: 19,\n",
       "  61738: 6,\n",
       "  61886: 6,\n",
       "  62231: 4,\n",
       "  62239: 5,\n",
       "  62284: 6,\n",
       "  62402: 56,\n",
       "  62641: 8,\n",
       "  62733: 9,\n",
       "  62858: 120,\n",
       "  63145: 25,\n",
       "  63327: 16,\n",
       "  63351: 10,\n",
       "  63362: 7,\n",
       "  63430: 56,\n",
       "  63499: 32,\n",
       "  63560: 25,\n",
       "  63943: 31,\n",
       "  63968: 10,\n",
       "  64160: 4,\n",
       "  64232: 28,\n",
       "  64249: 7,\n",
       "  64715: 17,\n",
       "  65004: 11,\n",
       "  65027: 1,\n",
       "  65033: 2,\n",
       "  65164: 4,\n",
       "  65361: 20,\n",
       "  65435: 40,\n",
       "  65449: 6,\n",
       "  65515: 5,\n",
       "  65582: 576,\n",
       "  65594: 9,\n",
       "  65692: 25,\n",
       "  65710: 18,\n",
       "  65837: 47,\n",
       "  66002: 636,\n",
       "  66009: 373,\n",
       "  66206: 12,\n",
       "  66412: 5,\n",
       "  66492: 1,\n",
       "  66549: 36,\n",
       "  66556: 20,\n",
       "  66671: 32,\n",
       "  66739: 1,\n",
       "  66753: 8,\n",
       "  66823: 21,\n",
       "  67053: 238,\n",
       "  67111: 16,\n",
       "  67117: 19,\n",
       "  67408: 15,\n",
       "  67446: 8,\n",
       "  67796: 7,\n",
       "  67844: 7,\n",
       "  67887: 13,\n",
       "  68059: 3,\n",
       "  68315: 3,\n",
       "  68591: 7,\n",
       "  68791: 13,\n",
       "  68836: 7,\n",
       "  68839: 21,\n",
       "  68905: 3,\n",
       "  68944: 39,\n",
       "  68962: 1,\n",
       "  69098: 12,\n",
       "  69158: 13,\n",
       "  69250: 4,\n",
       "  69296: 13,\n",
       "  69359: 26,\n",
       "  69380: 265,\n",
       "  69483: 26,\n",
       "  69546: 64,\n",
       "  69556: 11,\n",
       "  69578: 7,\n",
       "  69673: 6,\n",
       "  69776: 53,\n",
       "  69799: 6,\n",
       "  69932: 6,\n",
       "  70285: 2,\n",
       "  70466: 18,\n",
       "  70476: 22,\n",
       "  70492: 10,\n",
       "  70563: 3,\n",
       "  70645: 29,\n",
       "  70682: 48,\n",
       "  70728: 12,\n",
       "  71107: 9,\n",
       "  71108: 220,\n",
       "  71220: 45,\n",
       "  71336: 5,\n",
       "  71377: 39,\n",
       "  71915: 6,\n",
       "  71943: 4,\n",
       "  71983: 3,\n",
       "  72229: 189,\n",
       "  72230: 154,\n",
       "  72233: 2,\n",
       "  72378: 7,\n",
       "  72532: 6,\n",
       "  72714: 4,\n",
       "  72751: 35,\n",
       "  73043: 3,\n",
       "  73107: 479,\n",
       "  73129: 105,\n",
       "  73388: 37,\n",
       "  73389: 87,\n",
       "  73479: 3,\n",
       "  73686: 4,\n",
       "  73713: 458,\n",
       "  73770: 9,\n",
       "  73808: 49,\n",
       "  73899: 2,\n",
       "  73941: 7,\n",
       "  74016: 8,\n",
       "  74253: 388,\n",
       "  74505: 32,\n",
       "  74562: 98,\n",
       "  74640: 7,\n",
       "  74654: 7,\n",
       "  75047: 3,\n",
       "  75107: 124,\n",
       "  75200: 87,\n",
       "  75387: 14,\n",
       "  75446: 34,\n",
       "  75609: 5,\n",
       "  75640: 45,\n",
       "  75741: 8,\n",
       "  75782: 90,\n",
       "  75806: 3,\n",
       "  75983: 9,\n",
       "  76021: 39,\n",
       "  76056: 1,\n",
       "  76074: 31,\n",
       "  76141: 4,\n",
       "  76178: 22,\n",
       "  76437: 5,\n",
       "  76446: 18,\n",
       "  76476: 3,\n",
       "  76797: 6,\n",
       "  76915: 8,\n",
       "  76993: 13,\n",
       "  77019: 8,\n",
       "  77128: 9,\n",
       "  77177: 14,\n",
       "  77237: 198,\n",
       "  77279: 2,\n",
       "  77434: 18,\n",
       "  77453: 2,\n",
       "  77469: 31,\n",
       "  77676: 4,\n",
       "  77690: 19,\n",
       "  77697: 10,\n",
       "  77816: 8,\n",
       "  77947: 11,\n",
       "  78017: 2,\n",
       "  78086: 110,\n",
       "  78565: 78,\n",
       "  78705: 3,\n",
       "  78707: 16,\n",
       "  78859: 5,\n",
       "  78914: 13,\n",
       "  79079: 18,\n",
       "  79090: 16,\n",
       "  79115: 12,\n",
       "  79292: 15,\n",
       "  80045: 6,\n",
       "  80106: 5,\n",
       "  80218: 13,\n",
       "  80430: 10,\n",
       "  80722: 3,\n",
       "  80813: 11,\n",
       "  80825: 3,\n",
       "  81114: 58,\n",
       "  81223: 39,\n",
       "  81233: 22,\n",
       "  81436: 9,\n",
       "  81745: 28,\n",
       "  81840: 25,\n",
       "  81960: 8,\n",
       "  81992: 11,\n",
       "  82100: 74,\n",
       "  82104: 2,\n",
       "  82150: 84,\n",
       "  82202: 28,\n",
       "  82211: 647,\n",
       "  82309: 9,\n",
       "  ...}}"
      ]
     },
     "execution_count": 32,
     "metadata": {},
     "output_type": "execute_result"
    }
   ],
   "source": [
    "patient_id_to_num_notes"
   ]
  },
  {
   "cell_type": "code",
   "execution_count": 33,
   "metadata": {},
   "outputs": [
    {
     "name": "stdout",
     "output_type": "stream",
     "text": [
      "252\n",
      "1167\n"
     ]
    }
   ],
   "source": [
    "print(len(patient_id_to_num_notes['pneumonia_dead']))\n",
    "print(len(patient_id_to_num_notes['pneumonia_alive']))"
   ]
  },
  {
   "cell_type": "code",
   "execution_count": 34,
   "metadata": {
    "scrolled": true
   },
   "outputs": [
    {
     "data": {
      "text/html": [
       "<div>\n",
       "<style scoped>\n",
       "    .dataframe tbody tr th:only-of-type {\n",
       "        vertical-align: middle;\n",
       "    }\n",
       "\n",
       "    .dataframe tbody tr th {\n",
       "        vertical-align: top;\n",
       "    }\n",
       "\n",
       "    .dataframe thead th {\n",
       "        text-align: right;\n",
       "    }\n",
       "</style>\n",
       "<table border=\"1\" class=\"dataframe\">\n",
       "  <thead>\n",
       "    <tr style=\"text-align: right;\">\n",
       "      <th></th>\n",
       "      <th>ROW_ID_x</th>\n",
       "      <th>SUBJECT_ID_x</th>\n",
       "      <th>DESCRIPTION</th>\n",
       "      <th>TEXT</th>\n",
       "      <th>DEATHTIME</th>\n",
       "    </tr>\n",
       "  </thead>\n",
       "  <tbody>\n",
       "    <tr>\n",
       "      <th>70391</th>\n",
       "      <td>70124</td>\n",
       "      <td>111</td>\n",
       "      <td>Report</td>\n",
       "      <td>PATIENT/TEST INFORMATION:\\nIndication: s/p PEA...</td>\n",
       "      <td>2144-07-01 14:55:00</td>\n",
       "    </tr>\n",
       "    <tr>\n",
       "      <th>142529</th>\n",
       "      <td>151749</td>\n",
       "      <td>111</td>\n",
       "      <td>Report</td>\n",
       "      <td>Compared to the previous tracing QRS voltage i...</td>\n",
       "      <td>2144-07-01 14:55:00</td>\n",
       "    </tr>\n",
       "    <tr>\n",
       "      <th>142097</th>\n",
       "      <td>151750</td>\n",
       "      <td>111</td>\n",
       "      <td>Report</td>\n",
       "      <td>Normal sinus rhythm, rate 80.  Biatrial abnorm...</td>\n",
       "      <td>2144-07-01 14:55:00</td>\n",
       "    </tr>\n",
       "    <tr>\n",
       "      <th>142303</th>\n",
       "      <td>151751</td>\n",
       "      <td>111</td>\n",
       "      <td>Report</td>\n",
       "      <td>Normal sinus rhythm.  Q waves in leads V1-V2 c...</td>\n",
       "      <td>2144-07-01 14:55:00</td>\n",
       "    </tr>\n",
       "    <tr>\n",
       "      <th>380576</th>\n",
       "      <td>375732</td>\n",
       "      <td>111</td>\n",
       "      <td>Physician Resident Admission Note</td>\n",
       "      <td>Chief Complaint:  respiratory distress\\n   HPI...</td>\n",
       "      <td>2144-07-01 14:55:00</td>\n",
       "    </tr>\n",
       "    <tr>\n",
       "      <th>380109</th>\n",
       "      <td>375744</td>\n",
       "      <td>111</td>\n",
       "      <td>ICU Event Note</td>\n",
       "      <td>Clinician:  Nurse\\n   Pt admitted from the ED ...</td>\n",
       "      <td>2144-07-01 14:55:00</td>\n",
       "    </tr>\n",
       "    <tr>\n",
       "      <th>379907</th>\n",
       "      <td>375749</td>\n",
       "      <td>111</td>\n",
       "      <td>Physician Resident/Attending Admission Note - ...</td>\n",
       "      <td>Chief Complaint:  respiratory distress\\n   HPI...</td>\n",
       "      <td>2144-07-01 14:55:00</td>\n",
       "    </tr>\n",
       "    <tr>\n",
       "      <th>379806</th>\n",
       "      <td>375753</td>\n",
       "      <td>111</td>\n",
       "      <td>Social Work Admission Note</td>\n",
       "      <td>Social Work Initial Note:\\n   Family Informati...</td>\n",
       "      <td>2144-07-01 14:55:00</td>\n",
       "    </tr>\n",
       "    <tr>\n",
       "      <th>379909</th>\n",
       "      <td>375760</td>\n",
       "      <td>111</td>\n",
       "      <td>ICU Event Note</td>\n",
       "      <td>TITLE:\\n   Clinician:  Resident\\n   Patient ex...</td>\n",
       "      <td>2144-07-01 14:55:00</td>\n",
       "    </tr>\n",
       "    <tr>\n",
       "      <th>1066971</th>\n",
       "      <td>1079317</td>\n",
       "      <td>111</td>\n",
       "      <td>CHEST (PORTABLE AP)</td>\n",
       "      <td>[**2144-7-1**] 2:43 AM\\n CHEST (PORTABLE AP)  ...</td>\n",
       "      <td>2144-07-01 14:55:00</td>\n",
       "    </tr>\n",
       "    <tr>\n",
       "      <th>1065833</th>\n",
       "      <td>1079339</td>\n",
       "      <td>111</td>\n",
       "      <td>CHEST (PORTABLE AP)</td>\n",
       "      <td>[**2144-7-1**] 7:27 AM\\n CHEST (PORTABLE AP); ...</td>\n",
       "      <td>2144-07-01 14:55:00</td>\n",
       "    </tr>\n",
       "    <tr>\n",
       "      <th>1067121</th>\n",
       "      <td>1079351</td>\n",
       "      <td>111</td>\n",
       "      <td>CHEST PORT. LINE PLACEMENT</td>\n",
       "      <td>[**2144-7-1**] 9:01 AM\\n CHEST PORT. LINE PLAC...</td>\n",
       "      <td>2144-07-01 14:55:00</td>\n",
       "    </tr>\n",
       "  </tbody>\n",
       "</table>\n",
       "</div>"
      ],
      "text/plain": [
       "         ROW_ID_x  SUBJECT_ID_x  \\\n",
       "70391       70124           111   \n",
       "142529     151749           111   \n",
       "142097     151750           111   \n",
       "142303     151751           111   \n",
       "380576     375732           111   \n",
       "380109     375744           111   \n",
       "379907     375749           111   \n",
       "379806     375753           111   \n",
       "379909     375760           111   \n",
       "1066971   1079317           111   \n",
       "1065833   1079339           111   \n",
       "1067121   1079351           111   \n",
       "\n",
       "                                               DESCRIPTION  \\\n",
       "70391                                               Report   \n",
       "142529                                              Report   \n",
       "142097                                              Report   \n",
       "142303                                              Report   \n",
       "380576                   Physician Resident Admission Note   \n",
       "380109                                      ICU Event Note   \n",
       "379907   Physician Resident/Attending Admission Note - ...   \n",
       "379806                          Social Work Admission Note   \n",
       "379909                                      ICU Event Note   \n",
       "1066971                                CHEST (PORTABLE AP)   \n",
       "1065833                                CHEST (PORTABLE AP)   \n",
       "1067121                         CHEST PORT. LINE PLACEMENT   \n",
       "\n",
       "                                                      TEXT  \\\n",
       "70391    PATIENT/TEST INFORMATION:\\nIndication: s/p PEA...   \n",
       "142529   Compared to the previous tracing QRS voltage i...   \n",
       "142097   Normal sinus rhythm, rate 80.  Biatrial abnorm...   \n",
       "142303   Normal sinus rhythm.  Q waves in leads V1-V2 c...   \n",
       "380576   Chief Complaint:  respiratory distress\\n   HPI...   \n",
       "380109   Clinician:  Nurse\\n   Pt admitted from the ED ...   \n",
       "379907   Chief Complaint:  respiratory distress\\n   HPI...   \n",
       "379806   Social Work Initial Note:\\n   Family Informati...   \n",
       "379909   TITLE:\\n   Clinician:  Resident\\n   Patient ex...   \n",
       "1066971  [**2144-7-1**] 2:43 AM\\n CHEST (PORTABLE AP)  ...   \n",
       "1065833  [**2144-7-1**] 7:27 AM\\n CHEST (PORTABLE AP); ...   \n",
       "1067121  [**2144-7-1**] 9:01 AM\\n CHEST PORT. LINE PLAC...   \n",
       "\n",
       "                   DEATHTIME  \n",
       "70391    2144-07-01 14:55:00  \n",
       "142529   2144-07-01 14:55:00  \n",
       "142097   2144-07-01 14:55:00  \n",
       "142303   2144-07-01 14:55:00  \n",
       "380576   2144-07-01 14:55:00  \n",
       "380109   2144-07-01 14:55:00  \n",
       "379907   2144-07-01 14:55:00  \n",
       "379806   2144-07-01 14:55:00  \n",
       "379909   2144-07-01 14:55:00  \n",
       "1066971  2144-07-01 14:55:00  \n",
       "1065833  2144-07-01 14:55:00  \n",
       "1067121  2144-07-01 14:55:00  "
      ]
     },
     "execution_count": 34,
     "metadata": {},
     "output_type": "execute_result"
    }
   ],
   "source": [
    "pneumonia_dead_no_disch.loc[pneumonia_dead_no_disch[\"SUBJECT_ID_x\"] == 111, ['ROW_ID_x','SUBJECT_ID_x','DESCRIPTION','TEXT', 'DEATHTIME']]"
   ]
  },
  {
   "cell_type": "code",
   "execution_count": 35,
   "metadata": {
    "scrolled": true
   },
   "outputs": [],
   "source": [
    "# tmp_df = pneumonia_dead_no_disch.loc[pneumonia_dead_no_disch[\"SUBJECT_ID_x\"] == 111, ['DESCRIPTION','TEXT']]\n",
    "# for index, row in tmp_df.iterrows():\n",
    "#     print(row['DESCRIPTION'])\n",
    "#     print(row['TEXT'])\n",
    "#     print('-'*80)"
   ]
  },
  {
   "cell_type": "code",
   "execution_count": null,
   "metadata": {},
   "outputs": [],
   "source": []
  },
  {
   "cell_type": "code",
   "execution_count": 36,
   "metadata": {
    "scrolled": true
   },
   "outputs": [],
   "source": [
    "# row_cnt = 0\n",
    "# note_cnt = 0\n",
    "# for index, row in pneumonia_alive_no_disch.iterrows():\n",
    "#     row_cnt += 1\n",
    "#     note = re.sub(r'\\[\\*\\*(.*?)\\*\\*\\]|[_,\\d\\*:~=\\.\\-\\+\\\\/]+', ' ', row['TEXT'])\n",
    "#     tokenized_note = word_tokenize(note)\n",
    "       \n",
    "#     if 'money' in tokenized_note :\n",
    "#         note_cnt += 1\n",
    "#         print(f\"#{row_cnt}) {note_cnt}) {row['ROW_ID_x']} : {row['SUBJECT_ID_x']} ==> [{row['DESCRIPTION']}]\")\n",
    "    \n",
    "    "
   ]
  },
  {
   "cell_type": "code",
   "execution_count": 37,
   "metadata": {
    "scrolled": true
   },
   "outputs": [],
   "source": [
    "# row_cnt = 0\n",
    "# note_cnt = 0\n",
    "# for index, row in pneumonia_alive_no_disch.iterrows():\n",
    "#     row_cnt += 1\n",
    "#     note = re.sub(r'\\[\\*\\*(.*?)\\*\\*\\]|[_,\\d\\*:~=\\.\\-\\+\\\\/]+', ' ', row['TEXT'])\n",
    "#     tokenized_note = word_tokenize(note)\n",
    "    \n",
    "#     if 'money' in tokenized_note and 'wallet' in tokenized_note:\n",
    "#         note_cnt += 1\n",
    "#         print(f\"#{row_cnt}) {note_cnt}) {row['ROW_ID_x']} : {row['SUBJECT_ID_x']} ==> [{row['DESCRIPTION']}]\")\n",
    "# #         print(row['TEXT'])\n",
    "# #         print('-'*80)"
   ]
  },
  {
   "cell_type": "code",
   "execution_count": null,
   "metadata": {},
   "outputs": [],
   "source": []
  },
  {
   "cell_type": "code",
   "execution_count": null,
   "metadata": {},
   "outputs": [],
   "source": []
  },
  {
   "cell_type": "code",
   "execution_count": null,
   "metadata": {},
   "outputs": [],
   "source": []
  },
  {
   "cell_type": "code",
   "execution_count": null,
   "metadata": {},
   "outputs": [],
   "source": []
  },
  {
   "cell_type": "code",
   "execution_count": 38,
   "metadata": {},
   "outputs": [
    {
     "name": "stderr",
     "output_type": "stream",
     "text": [
      "100%|██████████| 11895/11895 [00:47<00:00, 248.19it/s]\n",
      "  0%|          | 23/46134 [00:00<03:26, 223.39it/s]"
     ]
    },
    {
     "name": "stdout",
     "output_type": "stream",
     "text": [
      "5989 note events\n",
      "finished counting frequent words for patients!\n"
     ]
    },
    {
     "name": "stderr",
     "output_type": "stream",
     "text": [
      "100%|██████████| 46134/46134 [02:59<00:00, 257.22it/s]"
     ]
    },
    {
     "name": "stdout",
     "output_type": "stream",
     "text": [
      "23172 note events\n",
      "finished counting frequent words for patients!\n"
     ]
    },
    {
     "name": "stderr",
     "output_type": "stream",
     "text": [
      "\n"
     ]
    }
   ],
   "source": [
    "def count_words_per_patient(disease_df, patient_id_to_num_notes):\n",
    "    note_appearance_counter = {}\n",
    "    number_of_patients = 0 # number of patients\n",
    "    note_counter = 0\n",
    "\n",
    "# -----------\n",
    "    patient_id = -1\n",
    "    word_set = set()\n",
    "    note_event_counter = 0\n",
    "\n",
    "    # Iterate through each note\n",
    "    for index, row in tqdm(disease_df.iterrows(), total=disease_df.shape[0]):\n",
    "\n",
    "        \n",
    "        patient_id_check = int(row['SUBJECT_ID_x'])\n",
    "    \n",
    "        # if patient id has changed, end sequence and start new sequence\n",
    "        if not patient_id == patient_id_check:\n",
    "            number_of_patients += 1\n",
    "            note_event_counter = 0\n",
    "        \n",
    "            for word in word_set:\n",
    "                if word in note_appearance_counter:\n",
    "                    note_appearance_counter[word] += 1\n",
    "                else:\n",
    "                    note_appearance_counter[word] = 1\n",
    "\n",
    "        \n",
    "            # reset word_set\n",
    "            word_set = set()\n",
    "        \n",
    "        # update patient id\n",
    "        patient_id = patient_id_check\n",
    "\n",
    "            \n",
    "        if patient_id_to_num_notes[patient_id_check] <= MIN_SEQ_LEN:\n",
    "            continue\n",
    "            \n",
    "        if note_event_counter < patient_id_to_num_notes[patient_id] // USE_1_N_SEQ:\n",
    "            note_event_counter += 1\n",
    "            continue\n",
    "                \n",
    "        note_counter += 1\n",
    "        note = re.sub(r'\\[\\*\\*(.*?)\\*\\*\\]|[_,\\d\\*:~=\\.\\-\\+\\\\/]+', ' ', row['TEXT'])\n",
    "        tokenized_note = word_tokenize(note)\n",
    "        \n",
    "        \n",
    "        for word in tokenized_note:\n",
    "            stemmed_word = stemmer.stem(word.lower())\n",
    "            if not stemmed_word in stop_words:\n",
    "                word_set.add(stemmed_word)\n",
    "    \n",
    "    print(str(note_counter) + \" note events\")\n",
    "    print(\"finished counting frequent words for patients!\")\n",
    "#     return note_counter, note_appearance_counter\n",
    "    return number_of_patients, note_appearance_counter\n",
    "\n",
    "# variable dictionaries\n",
    "number_of_notes = {}\n",
    "note_appearance_counter = {}\n",
    "\n",
    "number_of_notes['pneumonia_dead'], note_appearance_counter['pneumonia_dead'] = count_words_per_patient(pneumonia_dead_no_disch, patient_id_to_num_notes['pneumonia_dead'])\n",
    "number_of_notes['pneumonia_alive'], note_appearance_counter['pneumonia_alive'] = count_words_per_patient(pneumonia_alive_no_disch, patient_id_to_num_notes['pneumonia_alive'])"
   ]
  },
  {
   "cell_type": "code",
   "execution_count": 39,
   "metadata": {},
   "outputs": [
    {
     "data": {
      "text/plain": [
       "{'pneumonia_dead': 252, 'pneumonia_alive': 1167}"
      ]
     },
     "execution_count": 39,
     "metadata": {},
     "output_type": "execute_result"
    }
   ],
   "source": [
    "number_of_notes"
   ]
  },
  {
   "cell_type": "code",
   "execution_count": 40,
   "metadata": {},
   "outputs": [
    {
     "name": "stdout",
     "output_type": "stream",
     "text": [
      "{'pneumonia_dead': {'wave': 81, 'right': 211, 'old': 200, 'trend': 68, 'rr': 150, 'respiratiori': 1, 'low': 172, 'vap': 72, 'sulcu': 7, 'guard': 18, 'costophren': 30, 'etho': 2, 'po': 143, 'cvl': 42, 'stress': 66, 'methylpr': 5, 'major': 40, 'pco': 36, 'tcurrent': 61, 'meantim': 3, 'underli': 79, 'answer': 59, 'distant': 27, 'versu': 30, 'adl': 9, '%': 188, 'normal': 164, 'nutrit': 85, 'rebound': 8, 'bandemia': 11, 'u': 143, 'angl': 28, 'product': 99, 'densiti': 45, 'amylas': 17, 'lobe': 142, 'one': 117, 'report': 205, 'dl': 70, 'puls': 133, '>': 160, 'fix': 29, 'dilat': 85, 'drip': 79, 'servic': 92, 'increas': 196, 'poor': 134, 'vital': 80, 'tobacco': 15, 'calcif': 59, 'extens': 86, 'k': 116, 'p': 193, 'caucasian': 2, 'new': 160, 'anterior': 62, 'hemodynam': 111, 'medic': 217, 'intervent': 65, 'heart': 157, 'son': 89, 'arrang': 21, 'dextros': 11, 'diagnosi': 176, 'concern': 114, 'cpr': 32, 'might': 41, 'defer': 39, 'receiv': 151, 'mmol': 49, 'given': 180, 'bicarbon': 9, 'wait': 34, 'resid': 111, 'went': 50, 'appropri': 101, 'met': 61, 'person': 33, 'recent': 129, 'infus': 111, 'femal': 61, 'failur': 141, 'lipas': 16, 'artic': 2, 'tachycardia': 94, 'list': 25, 'ceftriaxon': 24, 'assist': 81, 'small': 184, 'svc': 87, 'ptx': 24, 'data': 132, 'note': 199, 'global': 31, 'termin': 88, 'think': 20, 'npo': 121, 'admit': 194, 'appear': 201, 'patient': 205, 'kg': 111, 'c': 177, 'monitor': 174, 'gener': 124, 'want': 92, 'dr': 150, 'hi': 121, 'lymph': 71, 'taken': 60, 'spontan': 91, 'n': 70, 'ml': 99, 'flatten': 7, 'fluticason': 2, 'restrict': 24, 'studi': 160, 'stomach': 93, 'tender': 82, 'e': 64, 'subsequ': 50, 'dose': 137, 'comment': 93, 'infiltr': 112, 'bipap': 43, 'map': 90, 'et': 95, 'clergi': 16, 'full': 124, 'woman': 83, 'pneumothorax': 118, 'hco': 15, 'short': 86, 'drain': 144, 'respiratori': 166, 'bili': 47, 'simvastatin': 4, 'encourag': 43, 'start': 154, 'region': 80, 'allergi': 82, 'volum': 119, 'preren': 12, 'pneumoboot': 25, 'loss': 52, 'agre': 84, 'trop': 16, 'fen': 44, 'chief': 63, 'apic': 43, 'septic': 41, 'alcohol': 15, 'situat': 29, 'spent': 65, 'inferior': 37, 'cm': 141, 'bicarb': 28, 'pao': 66, 'initi': 132, 'ye': 42, 'albumin': 49, 'serial': 23, 'etiolog': 57, 'head': 114, 'drug': 55, 'discuss': 156, 'band': 44, 'ph': 61, 'mouth': 82, 'sat': 167, 'hous': 20, 'peripher': 97, 'review': 135, 'consolid': 110, 'reason': 199, 'min': 142, 'anicter': 12, 'atrial': 90, 'ekg': 67, 'rub': 32, 'admiss': 88, 'around': 76, 'stool': 150, 'sputum': 132, 'icu': 108, 'physic': 72, 'vancomycin': 69, 'elig': 3, 'husband': 35, 'ulcer': 81, 'unchang': 179, 'port': 83, 'growth': 28, 'demonstr': 88, 'simultan': 2, 'hyperlipidemia': 9, 'emot': 68, 'pea': 8, 'murmur': 42, 'lung': 203, 'like': 172, 'visual': 109, 'acut': 134, 'venou': 99, 'mid': 138, 'sr': 94, 'system': 99, 'field': 72, 'vasopressin': 27, 'cathet': 130, 'bs': 138, 'issu': 84, 'ap': 175, 'minut': 91, 'improv': 167, 'mcg': 105, 'took': 27, 'refractori': 8, 'tidal': 47, 'condit': 206, 'rosc': 1, 'followup': 38, 'evalu': 173, 'gallop': 7, 'sepsi': 79, 'hospit': 75, 'resp': 163, 'bed': 103, 'ivf': 111, 'leukocytosi': 37, 'level': 148, 'elderli': 5, 'physician': 107, 'gaug': 57, 'gap': 11, 'exchang': 20, 'park': 4, 'soft': 154, 'grief': 2, 'prevent': 35, 'develop': 87, 'acidosi': 70, 'block': 44, 'sun': 14, 'view': 119, 'acidem': 4, 'abg': 143, 'consult': 99, 'law': 18, 'hyperinfl': 5, 'unremark': 66, 'without': 143, 'malign': 32, 'multipl': 128, 'use': 112, 'stabl': 177, 'fio': 119, 'emphysema': 28, 'process': 94, 'ij': 79, 'commun': 88, 'time': 188, 'glucos': 82, '[': 80, 'tmax': 105, 'absent': 62, 'amp': 21, 'transfus': 52, 'bilater': 175, 'va': 11, 'expir': 58, 'med': 141, 'left': 216, 'dx': 29, 'micu': 131, 'bowel': 151, 'hct': 122, 'laundri': 1, 'enzym': 32, 'ct': 132, 'electrolyt': 43, 'previou': 172, 'pho': 56, 'ed': 61, '(': 229, 'lactic': 54, 'phenylephrin': 16, 'mass': 65, 'pna': 151, 'alk': 47, ']': 80, 'emphas': 19, 'intact': 103, 'gtt': 134, 'placement': 143, 'contour': 68, 'breath': 162, 'chemistri': 16, 'clinic': 117, 'next': 81, 'express': 42, 'sign': 110, 'event': 121, 'daughter': 84, 'w': 177, 'meal': 10, 'mosf': 3, 'distress': 118, 'ecg': 31, 'sick': 18, 'continu': 176, 'paralyt': 16, 'hpi': 58, 'atenolol': 4, ')': 229, 'mottl': 15, 'chest': 206, 'calcium': 55, 'copi': 13, 'deni': 66, 'cr': 88, 'fall': 42, 'health': 39, 'superimpos': 56, 'sclera': 23, 'room': 70, 'recurr': 33, 'cxr': 136, 'addict': 8, 'sodium': 63, 'live': 42, 'interv': 156, 'could': 111, 'along': 46, 'ul': 64, 'disconnect': 2, 'aroudn': 1, 'question': 128, 'may': 142, 'member': 57, 'sw': 33, 'ng': 131, 'state': 94, 'intern': 78, 'statin': 17, 'code': 135, 'heent': 34, 'care': 171, 'spokesperson': 10, 'hl': 5, 'progress': 166, 'past': 77, 'suffer': 13, 'sbp': 114, 'profound': 13, 'non': 170, 'dic': 20, 'ro': 63, 'privat': 7, 'qday': 4, 'mode': 73, 'htn': 50, 'requir': 145, 'aggress': 62, 'logist': 2, 'howev': 131, 'ischem': 31, 'aspirin': 11, 'neut': 43, 'pedal': 41, 'tach': 21, 'upright': 57, 'hypercapn': 6, 'infecti': 53, 'urin': 165, 'hilar': 36, 'boni': 11, 'entir': 36, 'onli': 153, 'proxi': 40, 'presep': 6, 'later': 115, 'occup': 18, 'earli': 73, 'attempt': 119, 'transient': 33, 'tf': 110, 'exceed': 3, 'girlfriend': 2, 'promin': 65, 'repres': 91, 'presum': 40, 'impress': 176, 'coagulopathi': 20, 'anoth': 58, 'agenc': 1, 'abov': 158, 'second': 40, 'acid': 56, 'pip': 58, 'sinc': 186, 'inquir': 4, 'devic': 94, 'hour': 154, 'ca': 105, 'unabl': 130, 'albuterol': 58, 'ventilatori': 63, 'insulin': 80, 'complaint': 68, 'antibiot': 102, 'seen': 157, 'hypotens': 131, 'funer': 16, 'famili': 167, 'bpm': 102, 'ipratropium': 6, 'sound': 151, 'fir': 2, 'anion': 8, 'record': 46, 'repeat': 107, 'q': 136, 'well': 180, 'metabol': 52, 'stroke': 14, 'er': 19, 'primari': 43, 'got': 28, 'infect': 100, 'endotrach': 98, 'wbc': 131, 'examin': 202, 'radiolog': 68, 'signific': 121, 'arf': 34, 'day': 160, 'titl': 38, 'adjust': 59, 'father': 16, 'autopeep': 6, 'protocol': 57, 'wa': 210, 'nodular': 15, 'shock': 66, 'despit': 90, 'show': 131, 'radiograph': 127, 'hematoma': 20, 'insp': 84, 'pcv': 14, 'limb': 32, 'attend': 94, 'pericardi': 61, 'check': 116, 'brother': 29, 'arteri': 119, 'resourc': 3, 'aspir': 108, 'prior': 186, 'evid': 141, 'speak': 65, 'form': 38, 'meq': 92, 'immedi': 45, 'bradi': 12, 'ill': 73, 'warfarin': 5, 'seem': 69, 'decid': 61, 'social': 138, 'comparison': 166, 'would': 127, 'acl': 4, 'eo': 44, 'tiotropium': 1, 'carina': 78, 'verapamil': 2, 'nc': 62, 'insert': 61, 'blood': 141, 'hold': 90, 'long': 58, 'also': 175, 'add': 51, 'cough': 125, 'present': 189, 'place': 196, 'bolus': 98, 'previous': 80, 'feel': 52, 'peep': 106, 'plt': 82, 'x': 185, 'renal': 107, 'f': 111, 'set': 141, 'legal': 10, 'boot': 52, 'keep': 104, 'lower': 166, 'found': 81, 'key': 61, 'upper': 162, 'unsuccess': 37, 'regular': 66, 'abnorm': 102, 'recruit': 14, 'arrest': 27, 'inh': 3, 'detail': 69, 'assess': 176, 'follow': 159, 'pleural': 176, 'bedsid': 127, 'replet': 84, 'enter': 58, 'coars': 117, 'cardiac': 156, 'lifelin': 1, 'unrespons': 78, 'tc': 12, 'inr': 88, 'propofol': 31, 'azotemia': 6, 'cool': 67, 'inflammatori': 22, 'homemak': 1, 'hr': 189, 'veteran': 1, 'statu': 197, 'provid': 114, 'today': 148, 'baselin': 86, 'unemploy': 1, 'jugular': 68, 'pre': 73, 'lab': 132, 'ext': 68, 'manual': 14, 'disposit': 64, 'inform': 122, 'hypercapnia': 4, 'know': 27, 'yo': 75, 'final': 196, 'mmhg': 71, 'dure': 114, 'death': 42, 'total': 119, 'function': 95, 'l': 171, 'tip': 126, 'support': 171, 'anur': 28, 'pmh': 78, 'licsw': 11, 'blocker': 33, 'visit': 106, 'rhythm': 126, 'b': 106, 'exam': 110, 'pupil': 73, 'obtain': 159, 'offer': 47, 'thorac': 49, 'h': 136, 'cmh': 51, 'involv': 85, 'pt': 179, '#': 211, 'ani': 142, 'critic': 66, 'histori': 173, 'aortic': 68, 'effus': 183, 'iadl': 1, 'edema': 182, 'ventil': 129, 'cardiomediastin': 48, 'marri': 4, 'clip': 175, 'distend': 108, 'degre': 47, 'elder': 1, 'home': 99, 'balanc': 85, 'sinu': 139, 'manag': 90, 'salmeterol': 1, 'cage': 1, 'cv': 136, 'though': 89, 'voltag': 35, 'tube': 161, 'none': 113, 'afternoon': 103, 'portion': 101, 'mix': 30, 'work': 87, 'ha': 212, 'deliveri': 63, 'spoke': 86, 'ast': 48, \"c'ed\": 12, 'team': 141, 'pressor': 87, 'levofloxacin': 40, 'mandat': 6, 'r': 178, 'two': 87, 'still': 115, 'neck': 50, 'addendum': 98, 'md': 134, 'cultur': 100, 'worsen': 162, 'ratio': 7, 'sever': 172, 'rij': 35, 'fluid': 183, 'includ': 113, 'cremat': 3, 'hazi': 30, 'flowsheet': 113, 'undetect': 3, 'lvef': 38, 'line': 183, 'arriv': 82, 'rel': 59, 'lactat': 47, 'consist': 152, 'bp': 181, 'imag': 136, 'differenti': 70, 'copd': 45, 'jvp': 18, 'slide': 50, 'hypovolemia': 12, 'approxim': 72, 'elev': 122, 'mg': 163, 'access': 113, 'g': 96, 'rate': 165, 'friend': 32, 'last': 148, 'central': 107, 'drop': 120, 'hepat': 27, 'come': 72, 'lead': 83, '<': 77, 'organomegali': 4, 'independ': 19, 'epinephrin': 9, 'hypertens': 82, 'chang': 222, 'intub': 147, 'dvt': 79, 'need': 155, 'hypothermia': 13, 'ns': 119, 'effort': 47, 'rapid': 61, 'depress': 51, 'recommend': 82, 'appoint': 7, 'resuscit': 44, 'stay': 55, 'clear': 163, 'jpg': 63, 'design': 10, 'pneumonia': 203, 'current': 158, 'mono': 43, 'contact': 91, 'extrem': 141, 'nurs': 141, 'experienc': 17, 'eeg': 7, 'control': 101, 'section': 56, 'empir': 36, 'norepinephrin': 22, 'prophylaxi': 70, 'post': 131, 'understand': 45, 'wean': 118, 'protect': 61, 'st': 140, 'known': 85, 'addit': 117, 'bag': 43, 'rml': 18, 'saw': 64, 'notabl': 38, 'glycem': 62, 'scale': 61, 'aris': 6, 'year': 195, 'exclud': 72, 'thi': 230, 'prepar': 21, 'fissur': 12, 'interim': 26, 'alt': 53, 'psychiatr': 14, 'ga': 70, 'epi': 11, 'plan': 161, 'niec': 13, 'employ': 7, 'portabl': 178, 'opac': 148, 'phone': 47, 'echo': 58, 'morn': 93, 'cvp': 66, 'weak': 65, 'compar': 163, 'connect': 7, 'arch': 15, 'pm': 197, 'retrocardiac': 50, 'hcp': 52, 'point': 75, 'atropin': 8, 'ptt': 80, 'amount': 132, 'clinician': 41, 'tazo': 9, 'differ': 81, 'abdomen': 119, 'approx': 62, 'morphin': 100, 'whole': 8, 'ting': 58, 'scant': 72, 'ectopi': 98, 'amt': 126, 'piv': 61, 'reciev': 38, 'iv': 179, 'dk': 11, 'allevyn': 8, 'overbreath': 38, 'restless': 42, 'sedat': 109, 'posit': 166, 'tlcl': 13, 'abd': 152, 'warm': 77, 'gi': 145, 'success': 48, 'cmx': 3, 'toler': 128, 'obes': 32, 'billiou': 1, 'fecal': 16, 'coccyx': 61, 'rsc': 8, 'slough': 5, 'squeez': 16, 'spite': 5, 'inplac': 5, 'npn': 76, 'output': 108, 'gum': 6, 'rt': 68, 'movement': 112, 'rn': 94, 'chng': 1, 'move': 96, 'refer': 33, 'wheezi': 10, 'react': 10, 'ms': 81, 'cefepim': 27, 'make': 108, 'patent': 97, 'skin': 153, 'soap': 7, 'gulteal': 1, 'vari': 13, 'pain': 164, 'tonoc': 2, 'adequ': 106, 'mdi': 53, 'rang': 76, 'episod': 87, 'alo': 24, 'inc': 43, 'agit': 74, 'dni': 104, 'ineffect': 13, 'unsupport': 1, 'alert': 78, 'yellow': 111, 'cmv': 52, 'nt': 60, 'bite': 19, 'buttock': 26, 'command': 117, 'observ': 25, 'vent': 103, 'effect': 131, 'often': 14, 'expriatori': 1, 'nontend': 28, 'matter': 21, 'respir': 45, 'thick': 126, 'resolv': 86, 'better': 80, 'ps': 81, 'pressur': 128, 'expect': 54, 'moder': 161, 'track': 29, 'sore': 18, 'dim': 36, 'diminish': 103, 'base': 165, 'size': 143, 'ac': 81, 'drainag': 53, 'ogt': 71, 'palpat': 34, 'sed': 23, 'detect': 32, \"'s\": 184, 'decis': 96, 'due': 169, 'sxning': 8, 'tol': 66, 'gave': 34, 'less': 111, 'done': 111, 'dark': 43, 'latest': 34, 'bloodcultur': 1, 'sometim': 16, 'ls': 113, 'lll': 64, 'respond': 111, 'site': 79, 'lt': 48, 'epiderm': 1, 'quadrant': 40, 'inhal': 21, 'reflex': 33, 'pend': 113, 'cc': 156, 'occasion': 89, 'residu': 83, 'greater': 60, \"'d\": 89, 'impair': 47, 'gm': 40, 'mae': 51, 'reassess': 30, 'sc': 42, 'purpos': 60, 'light': 49, 'ii': 20, 'exp': 45, 'psv': 59, 'occ': 56, 'awar': 125, 'rest': 85, 'see': 148, 'lubric': 3, 'perrla': 25, 'hm': 2, 'dampen': 14, 'hemoglobin': 2, 'urinari': 29, 'anemia': 34, 'micro': 24, 'good': 119, 'extub': 74, 'rsbi': 63, 'sxn': 44, 'appli': 83, 'call': 139, 'wheez': 83, 'foley': 142, 'le': 32, 'cmo': 94, 'back': 136, 'via': 117, 'tx': 72, 'stage': 53, 'vt': 87, 'radial': 94, 'atrov': 43, 'duoderm': 30, 'tongu': 13, 'v': 104, 'cont': 170, 'discourag': 4, 'dress': 52, 'bleed': 77, 'decreas': 161, 'gu': 110, 'sampl': 32, 'amber': 39, 'bm': 86, 'wash': 14, 'sicu': 27, 'copiou': 49, 'fld': 14, 'stop': 93, 'wnl': 82, 'push': 19, 'reveal': 64, 'otherwis': 100, 'abx': 116, 'mm': 122, 'fs': 45, 'discomfort': 59, 'secret': 124, 'nacl': 5, 'vpace': 4, 'layer': 27, 'rsccvl': 1, 'heparin': 77, 'bacteri': 27, 'waveform': 34, 'sluggish': 21, 'mod': 71, 'sm': 64, 'gluteal': 4, 'voic': 72, 'pace': 23, 'pvc': 73, 'page': 48, 'vs': 106, 'frequent': 92, 'prn': 116, 'crackl': 86, 'btwn': 2, 'simv': 6, 'suction': 118, 'tlcvl': 1, 'restraint': 44, 'drawn': 63, 'threat': 2, 'virtual': 4, 'minim': 147, 'hernia': 19, '@': 110, 'grimac': 39, 'maintain': 122, 'abl': 122, 'administ': 63, 'throat': 62, 'slightli': 131, 'protud': 1, 'rla': 2, 'eye': 117, 'swith': 2, 'freq': 42, 'self': 42, 'vers': 68, 'hypoact': 70, 'stimul': 61, 'accomod': 1, 'goal': 116, 'clean': 36, 'doe': 135, 'order': 129, 'contract': 18, 'notic': 16, 'made': 180, 'heme': 57, 'respons': 149, 'bolu': 108, 'exit': 9, 'arm': 78, 'ooz': 40, 'comfort': 153, 'perform': 96, 'open': 98, 'aeb': 1, 'shift': 155, 'dnr': 138, 'equal': 41, 'cpap': 63, 'cream': 38, 'neuro': 134, 'overnoc': 38, 'sent': 125, 'updat': 107, 'wrist': 41, 'hand': 62, 'oral': 113, 'hourli': 26, 'touch': 41, 'vanc': 53, 'intermitt': 72, 'alin': 53, 'sx': 69, 'nonpurpos': 6, 'dri': 78, 'labil': 29, 'carevu': 68, 'poc': 35, 'meet': 105, 'treat': 105, 'perrl': 55, 'veri': 152, 'night': 104, 'remain': 193, 'held': 86, 'lot': 16, 'blink': 5, 'art': 29, 'breast': 10, 'pale': 39, 'afebril': 105, 'rec': 75, 'close': 83, 'vss': 32, 'mental': 66, 'limit': 122, 'feet': 45, 'oil': 2, 'sequenti': 2, 'turn': 98, 'vesta': 15, 'riss': 39, 'tylenol': 66, 'foam': 5, 'pinpoint': 12, 'gag': 45, 'lo': 43, 'coccxi': 2, 'forearm': 8, 'suggest': 133, 'flexion': 3, 'flovent': 7, 'minimum': 7, 'antifung': 13, 'reach': 30, 'advanc': 92, 'doppler': 86, 'temp': 102, 'throughout': 145, 'bloodi': 50, 'oder': 3, 'diarrhea': 27, 'safeti': 33, 'myocardi': 38, 'margin': 43, 'drowsi': 4, 'anterolater': 3, 'stand': 42, 'believ': 16, \"''\": 67, 'precordi': 18, 'neg': 110, 'take': 85, 'paranoid': 2, 'mushroom': 13, '``': 74, 'ago': 44, 'lopressor': 54, 'hyperact': 5, 'af': 32, 'infarct': 60, 'slept': 28, 'forget': 3, 'nap': 13, 'intrins': 7, 'transit': 44, 'golden': 13, 'hurt': 1, 'afib': 54, 'diffus': 115, 'longer': 43, 'pass': 86, 'unclear': 60, 'essenti': 47, 'historian': 1, 'cta': 47, 'maintan': 1, 'coumadin': 19, 'yesterday': 99, 'sta': 2, 'twice': 17, 'grand': 5, 'possibl': 165, 'id': 116, 'flagyl': 52, 'chronic': 93, 'hostil': 1, 'trace': 131, 'ra': 68, 'foleu': 1, 'em': 11, 'late': 33, 'liquid': 60, 'flare': 6, 'floor': 64, 'ble': 16, 'orient': 78, 'hosp': 10, 'convert': 25, 'diff': 53, 'nsr': 75, 'affect': 16, 'dilt': 15, 'away': 28, 'sip': 20, 'oxycontin': 3, 'upstair': 1, 'overnight': 110, 'confus': 41, 'conduct': 21, 'occa': 24, 'specif': 89, 'wk': 9, 'cap': 24, 'midlin': 54, 'sludg': 5, 'ngt': 69, 'rotat': 36, 'focal': 69, 'overal': 100, 'diagnost': 41, 'singl': 108, 'extra': 24, 'vascular': 117, 'segment': 37, 'ischemia': 46, 'invers': 16, 'bile': 20, 'almost': 18, 'biliari': 21, 'gallston': 13, 'lethargi': 14, 'lesion': 61, 'path': 4, 'vein': 73, 'within': 111, 'mild': 132, 'paranas': 18, 'foci': 5, 'indic': 183, 'eval': 127, 'mayb': 8, 'lft': 27, 'oxygen': 102, 'gallbladd': 35, 'patholog': 27, 'organ': 59, 'float': 4, 'hepatopathi': 1, 'portal': 20, 'intra': 29, 'antegrad': 2, 'us': 62, 'allow': 66, 'microvascular': 7, 'contraind': 61, 'persist': 117, 'intracrani': 27, 'kidney': 58, 'esophagu': 19, 'complet': 103, 'atelectasi': 97, 'white': 79, 'slow': 50, 'mastoid': 22, 'air': 121, 'scatter': 47, 'cours': 98, 'cell': 58, 'apex': 37, 'gastric': 38, 'routin': 20, 'osseou': 43, 'ultrasound': 50, 'lacunar': 8, 'lentiform': 1, 'avl': 7, 'overt': 13, 'tissu': 49, 'pulmonari': 179, 'nonshadow': 1, 'axial': 46, 'chf': 75, 'proxim': 44, 'periventricular': 13, 'nuclei': 1, 'measur': 128, 'tachypnea': 53, 'ventricular': 95, 'mark': 67, 'liver': 57, 'date': 125, 'techniqu': 92, 'locat': 73, 'surround': 29, 'slight': 83, 'find': 179, 'multifoc': 68, 'duct': 13, 'coil': 16, 'echotextur': 3, 'vessel': 34, 'ball': 3, 'secondari': 79, 'inspir': 7, 'side': 145, 'silhouett': 84, 'common': 31, 'man': 120, 'associ': 51, 'colon': 41, 'supin': 58, 'flow': 108, 'malposit': 10, 'junction': 68, 'markedli': 26, 'hemorrhag': 59, 'cirrhosi': 10, 'thirteen': 2, 'attenu': 12, 'ge': 14, 'obstruct': 80, 'ascit': 36, 'overload': 65, 'hydronephrosi': 24, 'structur': 66, 'subcort': 3, 'hypopharynx': 2, 'identifi': 69, 'fundu': 9, 'contrast': 102, 'irregular': 25, 'sinus': 23, 'preserv': 24, 'ax': 33, 'liquidi': 2, 'mso': 46, 'ho': 53, 'congest': 78, 'ob': 25, 'labor': 45, 'wish': 78, 'piec': 6, 'result': 115, 'relief': 29, 'pnx': 13, 'tan': 80, 'ett': 98, 'deminish': 10, 'reslut': 1, 'risb': 2, 'reposit': 70, 'vea': 25, 'onc': 87, 'brown': 74, 'clariti': 3, 'febril': 33, 'front': 6, 'request': 90, 'male': 76, 'gauz': 8, 'firm': 37, 'abdomin': 99, 'whether': 21, '^': 31, 'mgm': 7, 'extend': 60, 'rll': 66, 'green': 37, 'convers': 34, 'facial': 20, 'bring': 13, 'sy': 20, 'english': 8, 'grade': 35, 'tickl': 1, 'ativan': 65, 'nsg': 54, 'uncomfort': 40, 'chart': 32, \"'\": 36, 'rectal': 51, 'nose': 55, 'pmicu': 20, 'await': 92, \"n't\": 38, 'per': 161, 'systol': 99, 'transfer': 91, 'levoph': 68, 'local': 32, 'accept': 44, 'airway': 80, 'yankauer': 5, 'sd': 5, 'concentr': 25, 'ks': 3, 'necrosi': 7, 'cx': 85, 'awak': 62, 'invas': 69, 'reccomend': 3, 'pndg': 3, 'hypoattenu': 7, 'activ': 71, 'poorli': 33, 'complex': 26, 'fail': 55, 'wiggl': 6, 'uo': 65, 'approp': 5, 'tri': 79, 'dc': 63, 'suspici': 28, 'red': 55, 'proceedur': 1, 'pocket': 6, 'ealier': 1, 'inconsist': 15, 'nuero': 7, 'doze': 10, 'senna': 24, 'reduc': 42, 'fi': 37, 'collaps': 55, 'diuresi': 42, 'run': 62, 'vsl': 1, 'suport': 3, 'bibasilar': 66, 'mostli': 31, 'patchi': 41, 'grim': 6, 'viabl': 3, 'probabl': 114, 'respalo': 1, 'high': 133, 'reactiv': 47, 'earlier': 100, 'dead': 22, 'palpabl': 33, 'postobstruct': 3, 'space': 48, 'sourc': 62, 'icreas': 1, 'institut': 7, 'numer': 20, 'volvulu': 1, 'liter': 80, 'spasm': 3, 'narr': 9, 'hemodyn': 2, 'ah': 3, 'focu': 47, 'thrush': 8, 'togeth': 9, 'fever': 94, 'period': 73, 'neoplasm': 10, 'titrat': 106, 'nod': 42, 'nevertheless': 3, 'therapi': 87, 'givn': 5, 'nd': 51, 'outsid': 15, 'respon': 5, 'rare': 52, 'eve': 35, 'multi': 47, 'gen': 32, 'bid': 14, 'alter': 52, 'follw': 7, 'bronchoscopi': 30, 'window': 33, 'begin': 59, 'repond': 2, 'suppositori': 4, 'ad': 62, 'pronounc': 64, 'airspac': 43, 'lay': 5, 'calm': 29, 'whiteish': 1, 'arous': 60, 'background': 12, 'rhonchi': 68, 'paraesophag': 2, 'anasarca': 31, 'sheet': 37, 'far': 40, 'leg': 46, 'shake': 26, 'becom': 80, 'senekot': 2, 'bulki': 2, 'lymphadenopathi': 34, 'noxiou': 28, 'pulm': 97, 'sleep': 84, 'kick': 5, 'board': 19, 'ther': 3, 'bronchodil': 14, 'inflat': 9, 'motion': 58, 'sine': 1, 'inconsistantli': 4, 'kickinga': 1, 'pit': 29, 'mv': 28, 'thru': 14, 'cn': 10, 'gross': 16, 'go': 68, '^^': 11, 'priest': 27, 'dulcolax': 10, 'bow': 3, 'visibl': 30, 'ing': 10, 'ray': 54, 'withdraw': 68, 'housestaff': 8, 'maximum': 7, 'svt': 24, 'benefit': 36, 'cabg': 17, 'organo': 1, 'perla': 15, 'obstruc': 1, 'restaint': 2, 'simpl': 70, 'diseas': 118, 'antb': 5, 'remin': 3, 'rd': 14, 'difficult': 119, 'degrad': 4, 'bcx': 13, 'half': 17, 'said': 27, 'ionic': 3, 'fragil': 7, 'edemat': 27, 'stimuli': 104, 'pneumon': 20, 'climb': 16, 'extremit': 8, 'verbal': 82, 'siderail': 6, 'easili': 44, 'partial': 53, 'lumen': 74, 'unev': 22, 'fair': 32, 'middl': 32, 'broncial': 2, 'fluctuat': 14, 'gather': 5, 'subclavian': 51, 'round': 66, 'grab': 5, 'suct': 18, 'hypotent': 6, 'necrot': 12, 'tko': 2, 'prolong': 38, 'gd': 10, 'hd': 40, 'andswer': 1, 'letharg': 49, 'biopsi': 15, 'obey': 11, 'tire': 18, 'mrsa': 35, 'pleuracentesi': 1, 'prognosi': 67, 'although': 95, 'cad': 41, 'mn': 41, 'came': 51, 'littl': 91, 'respirtori': 2, 'stabil': 29, 'integ': 18, 'sediment': 37, 'opacif': 92, 'overinfl': 3, 'toilet': 45, 'max': 69, 'help': 71, 'ask': 75, 'larg': 137, 'spike': 28, 'color': 97, 'vanco': 109, 'restart': 75, 'purpl': 16, 'tachycard': 47, 'ivb': 9, 'area': 117, 'risen': 1, 'cancer': 41, 'pmd': 1, 'amintain': 1, 'bone': 34, 'mechan': 69, 'noo': 1, 'obj': 1, 'staff': 47, 'object': 62, 'unrestrain': 8, 'lg': 38, 'loop': 48, 'respolar': 2, 'contain': 19, 'coronari': 34, 'cuff': 52, 'tl': 7, 'heavi': 14, 'pull': 66, 'pox': 6, 'pl': 28, 'enlarg': 79, 'pheripher': 1, 'risk': 62, 'lasix': 72, 'respalar': 1, 'tv': 58, 'optiray': 24, 'spont': 27, 'cardio': 15, 'stim': 13, 'colac': 37, 'bath': 19, 'cathart': 2, 'pleas': 158, 'careview': 34, 'uprbc': 14, 'look': 56, 'metrondiazol': 1, 'unit': 90, 'option': 36, 'modest': 8, 'feed': 87, 'hemolyz': 1, 'cpa': 2, 'prbc': 51, 'fo': 12, 'pearl': 11, 'obviou': 39, 'even': 100, 'thorax': 16, 'hiatal': 9, 'noc': 36, 'respalor': 2, 'ab': 22, 'metronidazol': 16, 'put': 55, 'alarm': 28, 'immobl': 3, 'peerla': 4, 'thisk': 1, 'tubefeed': 3, 'spo': 97, 'precaut': 63, 'sl': 26, 'dd': 3, 'rsmall': 1, 'opacifi': 12, 'bue': 12, 'thought': 39, 'somewhat': 53, 'tripl': 31, 'bronch': 44, 'integr': 35, 'uop': 56, 'toe': 24, 'facil': 12, 'thu': 32, 'obscur': 41, 'regard': 83, 'darker': 2, 'mediastin': 83, 'get': 98, 'knob': 3, 'extent': 39, 'rebolu': 1, 'zone': 30, 'beyond': 23, 'word': 24, 'way': 32, 'perihilar': 37, 'lrge': 1, 'began': 33, 'teen': 29, 'ensu': 2, 'haldol': 21, 'movment': 3, 'antibx': 39, 'decison': 1, 'mask': 66, 'plateau': 43, 'autoflow': 28, 'calcifi': 33, 'complianc': 30, 'dramat': 8, 'evelv': 1, 'dispo': 43, 'incr': 10, 'lnc': 14, 'letter': 4, 'bye': 6, 'difficulti': 61, 'respondibng': 1, 'swell': 22, 'vomit': 30, 'decidd': 1, 'criteria': 18, 'iliac': 10, 'toliet': 5, 'term': 43, 'mainli': 12, 'overli': 45, 'hard': 23, 'nasogastr': 79, 'nrb': 46, 'surgic': 44, 'accord': 30, 'dysynchroni': 34, 'bilat': 73, 'quickli': 45, 'bun': 98, 'redden': 25, 'pap': 18, 'cl': 19, 'centimet': 12, 'shoulder': 19, 'pink': 49, 'bo': 5, 'reevalu': 12, 'loos': 52, 'reintub': 19, 'pictur': 20, 'everyth': 9, 'let': 19, 'tomorrow': 65, 'levo': 67, 'yest': 13, 'steadili': 3, 'crest': 1, 'combiv': 13, 'face': 59, 'alveolar': 33, 'moment': 10, 'interact': 22, 'infil': 1, 'remov': 110, 'mortem': 12, 'trach': 40, 'summeri': 1, 'node': 33, 'mcq': 15, 'aprv': 4, 'tlc': 31, '&': 126, 'plug': 43, 'definit': 48, 'tear': 34, 'maew': 4, 'vol': 44, 'pulmon': 32, 'wors': 53, 'ectub': 1, 'bb': 33, 'cpt': 34, 'young': 1, 'therapeut': 36, 'levoflox': 29, 'promot': 19, 'fib': 47, 'depth': 4, 'substanti': 44, 'nonspecif': 26, 'alreadi': 27, 'desat': 66, 'treatment': 90, 'kq': 2, 'hypoxia': 104, 'desatur': 58, 'pb': 3, 'contist': 1, 'functin': 1, 'synch': 8, 'coocyx': 1, 'breakdown': 46, 'fb': 18, 'fiber': 16, 'confort': 4, 'na': 39, 'becam': 89, 'pan': 30, 'asystol': 33, 'belli': 8, 'continnu': 2, 'rectum': 26, 'paramet': 27, 'notifi': 87, 'pursu': 19, 'constantli': 11, 'ild': 5, 'give': 77, 'cre': 7, 'fe': 6, 'sbt': 31, 'avail': 65, 'pattern': 79, 'wrote': 7, 'regimin': 4, 'wife': 53, 'shortli': 15, 'og': 51, 'sump': 3, 'problem': 55, 'lightli': 16, 'contempl': 1, 'befor': 76, 'satisfactori': 23, 'life': 29, 'fibrosi': 20, 'agreement': 26, 'reportedli': 16, 'lighter': 2, 'doxycyclin': 2, 'hx': 59, 'comlet': 1, 'tachypn': 56, 'hardwar': 6, 'healthi': 5, 'interstiti': 59, 'azygo': 4, 'comfirm': 1, 'breathsound': 5, 'spon': 11, 'tracheostomi': 33, 'sharp': 13, 'incres': 2, 'grandson': 6, 'settl': 27, 'totol': 1, 'three': 35, 'ensur': 15, 'narcot': 13, 'theraput': 2, 'lavag': 30, 'kcl': 40, 'saturday': 10, 'intens': 5, 'borderlin': 49, 'yet': 46, 'tent': 28, 'perl': 27, 'remai': 2, 'lpm': 5, 'quit': 28, 'mattress': 13, 'mildli': 76, 'becaus': 42, 'mad': 4, 'acv': 10, 'satur': 48, 'excel': 15, 'ngtd': 22, 'grandchildren': 2, 'anesthesia': 29, 'paradox': 13, 'soon': 21, 'talk': 52, 'instabl': 24, 'strong': 37, 'divid': 10, 'appetit': 13, 'spanish': 3, 'lunch': 4, 'soc': 21, 'nasal': 59, 'ss': 31, 'minor': 8, 'poss': 21, 'reg': 28, 'duski': 10, 'accessori': 31, 'hypox': 45, 'ice': 10, 'asleep': 14, 'episdo': 1, 'cover': 72, 'confirm': 83, 'sync': 7, 'hiv': 5, 'financila': 1, 'zosyn': 67, 'sporad': 2, 'fsb': 18, 'fruit': 1, 'kid': 2, 'antigen': 11, 'cannula': 38, 'watch': 16, 'ltr': 1, 'pcp': 36, 'pag': 3, 'rail': 3, 'througout': 5, 'wind': 1, 'bit': 22, 'eat': 26, 'deteri': 1, 'picc': 59, 'pn': 6, 'bigger': 2, 'pneumocysti': 5, 'compr': 1, 'draw': 44, 'frequenc': 13, 'pnd': 27, 'noon': 29, 'ppn': 4, 'incont': 9, 'dyspneic': 9, 'children': 24, 'custard': 3, 'induc': 23, 'reorient': 15, 'coliti': 19, 'lnp': 4, 'mgx': 3, 'free': 97, 'intak': 43, 'bedpan': 4, 'ass': 9, 'fingerstick': 17, 'address': 43, 'qod': 4, 'wear': 10, 'thank': 19, 'nr': 5, 'oj': 1, 'slowli': 52, 'palp': 15, 'azithromycin': 22, 'nonproduct': 10, 'sob': 79, 'qhr': 5, 'xray': 28, 'guaifenesin': 3, 'decr': 6, 'disori': 7, 'spell': 4, 'fell': 16, 'doubl': 34, 'hover': 5, 'sedimen': 2, 'return': 91, 'leav': 26, 'amnt': 2, 'weepi': 2, 'membran': 10, 'closer': 4, 'juic': 5, 'cathol': 8, 'food': 18, 'send': 38, 'gaurdianship': 1, 'codein': 8, 'aaox': 2, 'hiflow': 4, 'retinopathi': 1, 'softner': 1, 'heplock': 6, 'confluent': 23, 'induct': 3, 'deficit': 14, 'lorazepam': 16, 'mani': 40, 'ect': 5, 'sugar': 32, 'balloon': 14, 'bay': 1, 'diet': 57, 'punctur': 15, 'implant': 2, 'trigger': 39, 'restr': 2, 'age': 21, 'stamp': 1, 'bacitracin': 1, 'pleurit': 4, 'tfr': 1, 'softli': 24, 'assum': 10, 'guid': 28, 'visitor': 13, 'fungal': 19, 'fa': 8, 'overcom': 2, 'machin': 13, 'descis': 1, 'cramp': 1, 'humidifi': 12, 'procedur': 99, 'potenti': 48, 'unsaf': 3, 'cdiff': 19, 'atrium': 66, 'shovel': 10, 'caus': 63, 'neb': 70, 'np': 15, 'fluconazol': 9, 'much': 83, 'fit': 5, 'aunt': 2, 'anywher': 4, 'nonprod': 2, 'recov': 26, 'pr': 49, 'basil': 12, 'axitey': 1, 'stat': 21, 'vision': 12, 'babi': 2, 'dopa': 7, 'gluc': 5, 'npc': 5, 'straight': 3, 'obatin': 2, 'enc': 5, 'welfar': 1, 'exert': 9, 'moniotr': 4, 'replac': 55, 'peac': 12, 'fx': 10, 'antecub': 4, 'awaken': 14, 'occular': 1, 'tommorrow': 9, 'psi': 6, 'mucou': 35, 'lat': 11, 'guardian': 6, 'coverag': 67, 'sister': 43, 'lack': 28, 'mention': 20, 'fm': 15, 'exurt': 1, 'name': 30, 'endo': 54, 'water': 54, 'felt': 44, 'muscl': 58, 'carinii': 2, 'incontin': 19, 'nrbm': 4, 'quad': 12, 'ox': 23, 'especi': 22, 'isol': 16, 'save': 3, 'void': 21, 'inflam': 4, 'shallow': 21, 'pu': 2, 'chaplain': 5, 'mother': 27, 'alseep': 1, 'specimen': 22, 'els': 8, 'center': 17, 'syrup': 2, 'sleev': 3, 'anxiou': 53, 'lost': 7, 'whi': 15, 'hyponatremia': 6, 'anxieti': 44, 'tolarg': 1, 'plu': 13, 'dip': 12, 'fine': 24, 'assign': 4, 'surviv': 11, 'magso': 2, 'chip': 5, 'fro': 7, 'stick': 48, 'apart': 5, 'listen': 5, 'occassion': 12, 'tenuou': 24, 'edg': 6, 'soften': 3, 'rrt': 16, 'lift': 7, 'wall': 84, 'multipodu': 8, 'armboard': 1, 'particip': 14, 'acidot': 23, 'ip': 27, 'load': 27, 'cardiomegali': 48, 'needl': 13, 'lb': 38, 'septum': 33, 'coarser': 1, 'fulli': 38, 'tone': 60, 'cvvhd': 14, 'hemodi': 2, 'neosynephrin': 18, 'hemodialysi': 16, 'necessari': 40, 'tele': 18, 'lidocain': 19, 'configur': 8, 'radiologist': 17, 'postion': 4, 'sternal': 18, 'replct': 10, 'xylocain': 1, 'daili': 72, 'wob': 31, 'chge': 1, 'pericardium': 39, 'ccu': 13, 'dsg': 34, 'grossli': 46, 'thin': 69, 'revis': 9, 'cyu': 6, 'tunnel': 8, 'weep': 16, 'afeb': 20, 'supervisig': 1, 'regurgit': 42, 'pfr': 7, 'peel': 16, 'attent': 41, 'test': 65, 'dup': 4, 'precis': 4, 'co': 66, 'standard': 78, 'absorbs': 1, 'everi': 29, 'inpati': 43, 'lido': 2, 'ef': 43, 'entri': 9, 'equivoc': 6, 'lv': 38, 'drape': 15, 'vena': 25, 'either': 36, 'tape': 21, 'crrt': 11, 'angiograph': 9, 'chged': 1, 'femor': 39, 'reappli': 3, 'predominantli': 25, \"'ll\": 1, 'conclus': 47, 'rib': 15, 'rx': 36, 'leak': 50, '^^wob': 2, 'plaement': 1, 'cardiolog': 24, 'kinair': 7, 'usual': 31, 'thoracentesi': 21, 'bacteremia': 10, 'fentanyl': 79, 'jerk': 4, 'tabl': 14, 'quiac': 5, 'number': 30, 'quentin': 1, 'posterior': 48, 'rusti': 9, 'fibril': 54, 'transven': 4, 'seal': 17, 'unchg': 1, 'blade': 2, 'paper': 6, 'consent': 39, 'nutren': 25, 'tte': 46, 'ica': 6, 'focus': 27, 'supervis': 12, 'surgigel': 3, 'pla': 1, 'hemhroid': 1, 'gr': 10, 'blb': 9, 'superior': 42, 'hydrocortison': 11, 'axillari': 42, 'ivp': 56, 'plct': 10, 'jerki': 1, 'branch': 34, 'hg': 52, 'sux': 5, 'moist': 14, 'deterior': 30, 'anticip': 21, 'tract': 17, 'mexiliten': 1, 'upon': 57, 'vassopressin': 2, 'adequato': 1, 'damp': 4, 'vtach': 15, 'cava': 25, 'dual': 14, 'aquacel': 6, 'guidanc': 19, 'asymmetr': 24, 'creat': 70, 'cavoatri': 28, 'lascer': 1, 'valv': 58, 'told': 18, 'wire': 36, 'insomnia': 4, 'contin': 12, 'wo': 6, 'steroid': 42, 'decub': 12, 'pill': 13, 'tap': 21, 'lessen': 4, 'aquasel': 1, 'toward': 45, 'rv': 38, 'belong': 14, 'fashion': 16, 'aicd': 3, 'midnit': 2, 'jeopard': 1, 'lyte': 79, 'greatli': 8, 'fluoroscop': 18, 'util': 19, 'emerg': 28, 'vasopressor': 21, 'fem': 19, 'streak': 10, 'project': 53, 'till': 19, 'weight': 86, 'thicken': 66, 'micropunctur': 11, 'leaflet': 39, 'bsa': 32, 'stuck': 5, 'ppi': 49, 'adapt': 13, 'interatri': 30, 'suppport': 6, 'opsit': 2, 'dysfunct': 42, 'agon': 24, 'syst': 1, 'reject': 1, 'five': 3, 'dsging': 1, 'anti': 22, 'bil': 39, 'compens': 21, 'deep': 40, 'sanguin': 6, 'oh': 1, 'flush': 45, 'diminsh': 13, 'switch': 47, 'beat': 46, 'anatomi': 5, 'venopunctur': 2, 'secur': 31, 'nite': 2, 'height': 77, 'cbc': 21, 'hrli': 2, 'percutan': 4, 'defibril': 10, 'tannish': 8, 'overnit': 3, 'bundl': 29, 'toxic': 17, 'sero': 3, 'incis': 9, 'restrain': 17, 'cath': 77, 'anyth': 17, 'dced': 3, 'guidewir': 10, 'french': 20, 'depart': 8, 'hep': 31, 'citrat': 6, 'consumpt': 2, 'pacemak': 15, 'desynchroni': 1, 'fire': 2, 'moistur': 7, 'oett': 15, 'sput': 14, 'fellow': 39, 'hytap': 1, 'fractur': 25, 'sch': 11, 'readi': 37, 'poe': 10, 'dsd': 18, 'cal': 13, 'temperatur': 28, 'mlc': 2, 'alleyvn': 1, 'mexiletin': 1, 'semi': 40, 'gel': 9, 'aerat': 47, 'steril': 25, 'spt': 2, 'mech': 17, 'hypokinesi': 25, 'seriou': 7, 'extext': 3, 'pulseless': 6, 'fluoro': 13, 'prep': 20, 'technic': 50, 'subcutan': 23, 'interrog': 1, 'clot': 41, 'creation': 1, 'duplex': 10, 'aloevesta': 2, 'chg': 9, 'ecchymot': 9, 'ar': 28, 'pacer': 12, 'ideal': 40, 'prednison': 22, 'septal': 28, 'suboptim': 28, 'qid': 24, 'clearer': 12, 'sutur': 17, 'cvvhdf': 6, 'mitral': 44, 'deliv': 12, 'resum': 37, 'chamber': 21, 'dialysi': 41, 'amiodaron': 22, 'tell': 11, 'bypass': 7, 'scrub': 1, 'iintub': 1, 'cvvh': 17, 'interpret': 59, 'rxed': 1, 'aorta': 65, 'wound': 32, 'hit': 14, 'mortum': 4, 'wide': 35, 'bigemini': 8, 'screen': 24, 'prolen': 1, 'lump': 2, 'guiac': 20, 'dermabond': 1, 'graft': 9, 'th': 19, 'barrier': 38, 'reseal': 1, 'explain': 46, 'reduct': 13, 'fairli': 21, 'fent': 46, 'shown': 12, 'documetn': 1, 'knee': 8, 'pneumo': 13, 'accompani': 24, 'complic': 61, 'inject': 19, 'lock': 4, 'obvious': 6, 'patenc': 9, 'hemothorax': 6, 'sheath': 21, 'corneal': 18, 'adaptic': 1, 'inch': 46, 'readjust': 6, 'direct': 38, 'say': 34, 'tid': 31, 'melanot': 1, 'heel': 14, 'cleans': 18, 'crit': 15, 'assessment': 1, 'qualiti': 54, 'cp': 29, 'ventricl': 59, 'ir': 24, 'tortuou': 13, 'lue': 18, 'among': 6, 'rhonchor': 43, 'areaa': 1, 'comress': 1, 'vnet': 1, 'intrus': 1, 'dicat': 1, 'yankaur': 7, 'separ': 5, 'gratitud': 3, 'cagluc': 4, 'biliou': 25, 'multisystem': 5, 'near': 36, 'umbil': 2, 'lw': 9, 'hypotherm': 19, 'end': 90, 'levoquin': 13, 'bulb': 2, 'ion': 3, 'patch': 28, 'minior': 2, 'peri': 15, 'finger': 44, 'aggreement': 1, 'wd': 3, 'first': 47, 'pray': 6, 'heat': 2, 'hugger': 20, 'translat': 10, 'recheck': 40, 'palm': 1, 'hope': 41, 'rom': 10, 'glucon': 13, 'cyanot': 14, 'woud': 1, 'bodi': 79, 'determin': 43, 'exposur': 8, 'briskli': 7, 'friendli': 1, 'miss': 4, 'draing': 6, 'languag': 14, 'defib': 2, 'kvo': 22, 'delin': 4, 'rlle': 1, 'jp': 4, 'hypo': 22, 'pleth': 5, 'passiv': 3, 'import': 9, 'ue': 21, 'lc': 9, 'manitain': 2, 'brownish': 11, 'dra': 1, 'bg': 15, 'ear': 60, 'least': 44, 'blue': 12, 'black': 11, 'sao': 25, 'pick': 17, 'cpncp': 1, 'msi': 2, 'declin': 66, 'frequet': 1, 'step': 21, 'ethic': 8, 'dtr': 28, 'mulit': 2, 'occur': 34, 'neurolog': 63, 'distal': 59, 'qd': 22, 'reconcil': 1, 'di': 5, 'fore': 1, 'smaller': 23, 'scl': 4, 'larger': 30, 'lingular': 3, 'mucousi': 2, 'aid': 21, 'coag': 26, 'bld': 25, 'plane': 7, 'suit': 6, 'content': 17, 'tremor': 9, 'gastrectomi': 1, 'fighter': 2, 'bagdsd': 1, 'stiff': 11, 'towel': 4, 'pitressin': 7, 'fear': 8, 'apneic': 12, 'briefli': 35, 'incisin': 1, 'rise': 50, 'bair': 18, 'sctotum': 1, 'convict': 1, 'hungri': 7, 'estrem': 1, 'tpa': 6, 'fingertip': 2, 'lengthli': 1, 'twenti': 4, 'br': 3, 'sacrum': 13, 'dopp': 4, 'quinton': 3, 'wherea': 2, 'tm': 12, 'collect': 43, 'levofloxicin': 1, 'kept': 38, 'futur': 27, 'forehead': 4, 'scrotal': 4, 'administr': 37, 'tpn': 27, 'purluant': 1, 'asp': 27, 'vigor': 15, 'perfus': 24, 'surgeri': 45, 'best': 29, 'esrd': 14, 'incison': 1, 'glu': 8, 'ctic': 1, 'exhaust': 4, 'occl': 1, 'lle': 8, 'drianag': 1, 'realiti': 2, 'slogh': 1, 'ultrafiltr': 4, 'evel': 2, 'battl': 1, 'placemen': 1, 'bilou': 3, 'levof': 7, 'appreci': 64, 'wed': 28, 'mtg': 27, 'sad': 5, 'emesi': 21, 'rle': 5, 'brb': 9, 'gromac': 1, 'desir': 23, 'refil': 6, 'adb': 1, 'cooler': 4, 'quintin': 2, 'cloudi': 28, 'assit': 2, 'ioniz': 34, 'foul': 5, 'great': 28, 'tmap': 1, 'preop': 1, 'dm': 23, 'avpac': 2, 'upc': 1, 'gentli': 7, 'spiritu': 4, 'vitamin': 14, 'die': 31, 'maroon': 8, 'lengthi': 5, 'unless': 12, 'bright': 12, 'apnea': 21, 'diaphragm': 51, 'swollen': 14, 'shut': 28, 'ie': 7, 'bilingu': 1, 'correct': 33, 'fasia': 1, 'chanc': 7, 'fri': 24, 'requirin': 1, 'elimin': 7, 'rewir': 3, 'uffp': 4, 'escar': 1, 'relax': 11, 'pager': 10, 'tonight': 45, 'pac': 35, 'nectot': 1, 'schedul': 36, 'av': 17, 'nearli': 10, 'trust': 2, 'sec': 24, 'protonix': 38, 'spend': 5, 'fluc': 2, 'irrig': 15, 'clacium': 1, 'digit': 3, 'scrotum': 6, 'wt': 7, 'follwo': 2, 'licw': 2, 'serou': 26, 'etc': 32, 'consid': 99, 'describ': 38, 'drb': 2, 'hesit': 3, 'clamp': 24, 'stapl': 4, 'purul': 9, 'mulitpl': 3, 'gase': 11, 'bare': 7, 'caludin': 1, 'sacral': 10, 'compromis': 25, 'length': 26, 'gelatin': 2, 'butt': 2, 'scan': 57, 'brought': 32, 'secreat': 24, 'attitud': 1, 'vaselin': 2, 'gib': 11, 'filter': 13, 'accesori': 2, 'rue': 13, 'linear': 11, 'nml': 5, 'heal': 18, 'ffp': 24, 'grayish': 3, 'infrequ': 12, 'fight': 3, 'unequ': 6, 'wonder': 3, 'weekend': 21, 'mucoid': 3, 'inciis': 1, 'flagli': 1, 'meticul': 2, 'accur': 15, 'portugues': 1, 'inlin': 1, 'butr': 1, 'atool': 1, 'diamet': 28, 'nois': 4, 'gradual': 21, 'primarili': 18, 'brief': 27, 'acknowledg': 10, 'achi': 1, 'paco': 12, 'atro': 7, 'tirtat': 1, 'rigid': 7, 'ongo': 30, 'rrectal': 1, 'unsuccessful': 2, 'write': 15, 'prayer': 8, 'ssri': 10, 'sucion': 1, 'dp': 72, 'fromn': 2, 'compliant': 7, 'upset': 14, 'shape': 7, 'snd': 9, 'appropriatli': 7, 'cd': 17, 'asymptomat': 8, 'caregiv': 3, 'expans': 50, 'gentleman': 6, 'suc': 1, 'appar': 47, 'peroxid': 1, 'sprint': 1, 'autopsi': 37, 'parti': 1, 'intermit': 9, 'noiw': 1, 'discoordin': 8, 'unlik': 35, 'exercis': 10, 'increaseda': 1, 'mucu': 22, 'addendeum': 1, 'endocrin': 21, 'lsc': 8, 'carevi': 1, 'sentenc': 7, 'yel': 1, 'decent': 3, 'chane': 3, \"'m\": 4, 'sure': 16, '{': 64, 'kub': 19, 'station': 3, 'oob': 18, 'dialys': 2, \"'ve\": 2, 'higher': 41, 'symptomat': 6, 'someth': 8, 'reglan': 18, 'hob': 49, 'worker': 22, 'uq': 1, 'label': 1, 'render': 3, 'coffe': 12, 'poitiv': 1, 'reflect': 49, 'gain': 7, 'inccreas': 1, 'antibodi': 8, '}': 64, 'nkda': 11, 'blanket': 17, 'written': 31, 'alb': 25, 'cri': 16, 'realli': 11, 'drsg': 11, 'saddl': 1, 'slint': 1, 'pseudamona': 1, 'blding': 1, 'oth': 2, 'lantu': 4, 'pad': 23, 'town': 7, 'jitteri': 2, 'thing': 15, 'tgd': 1, 'reassur': 23, 'empti': 6, 'torso': 25, 'peroid': 1, 'vue': 6, 'reserv': 12, 'walk': 9, 'coupl': 23, 'stare': 3, 'facilit': 14, 'hhad': 1, 'rhochi': 1, 'pseudomona': 11, 'expiratori': 20, 'corrul': 1, 'caution': 3, 'nausea': 28, 'morgu': 17, 'perin': 3, 'aprox': 1, 'messag': 7, 'drive': 16, 'subsid': 3, 'mf': 2, 'ashen': 4, 'valuabl': 21, 'foot': 17, 'correl': 59, 'woken': 4, 'grin': 1, 'ventolin': 2, 'awok': 3, 'aggit': 12, 'seizur': 23, 'discharg': 32, 'seret': 1, 'tachi': 31, 'peg': 31, 'adminsit': 1, 'finish': 11, 'chair': 17, 'mouht': 1, 'accuraci': 3, 'minimali': 2, 'rehydr': 2, 'gauard': 1, 'nahco': 6, 'hypoglycem': 2, 'mr': 68, 'pp': 24, 'asssess': 1, 'pgt': 3, 'mobil': 10, 'nervous': 1, 'relat': 81, 'highli': 8, 'happi': 7, 'periph': 4, 'type': 62, 'couplet': 3, 'colleg': 1, 'skew': 1, 'dorsali': 9, 'subtherapeut': 4, 'aim': 13, 'distract': 1, 'reddish': 1, 'perk': 2, 'hy': 1, 'bc': 20, 'meanwhil': 1, 'disscuss': 1, 'loc': 8, 'true': 8, 'rhoncher': 9, 'target': 10, 'valu': 36, 'lavarg': 3, 'nepro': 6, 'mentat': 5, 'week': 49, 'duederm': 1, 'uf': 35, 'photo': 1, 'sleepi': 6, 'iii': 13, 'compress': 52, 'balnac': 1, 'minit': 1, 'ileu': 21, 'norepi': 7, 'infreq': 2, 'neo': 37, 'pul': 11, 'surfac': 7, 'pretti': 4, 'nwith': 1, 'strength': 19, 'ach': 2, 'atr': 9, 'eas': 11, 'ssi': 30, 'tarri': 2, 'resist': 28, 'auscult': 33, 'tast': 1, 'sours': 2, 'main': 45, 'stoma': 5, 'dialyisi': 1, 'glargen': 2, 'rhonchial': 2, 'superfici': 18, 'bruis': 18, 'disturb': 4, 'graviti': 16, 'significantli': 58, 'reliev': 17, 'intercanula': 1, 'stem': 11, 'blanchabl': 2, 'stumul': 1, 'derm': 7, 'environ': 11, 'granula': 1, 'door': 3, 'sq': 44, 'recal': 3, 'ope': 2, 'nbp': 36, 'rehab': 39, 'excori': 11, \"tf'ing\": 9, 'triadyn': 7, 'zofran': 9, 'greenish': 11, 'modul': 1, 'comput': 3, 'fianrd': 1, 'surpris': 2, 'admin': 13, 'antidepress': 3, 'throught': 3, 'warmer': 4, 'peak': 28, 'except': 94, 'hig': 3, 'dializ': 2, 'dvd': 1, 'stau': 5, 'bradycard': 16, 'frame': 4, 'renmain': 1, 'pic': 16, 'inner': 10, 'dilaudid': 9, 'troubl': 7, 'oincreas': 1, 'sxing': 15, 'asymthomat': 1, 'taut': 1, 'portex': 6, 'mst': 1, 'consi': 1, 'quo': 2, 'gnd': 2, 'sxtn': 3, 'endoc': 11, 'grip': 5, 'neutrapho': 5, 'puff': 2, 'pleasur': 2, 'stpo': 1, 'fuild': 1, 'player': 1, 'yl': 1, 'erythro': 3, 'clearanc': 7, 'thigh': 10, 'titer': 2, 'prev': 8, 'drink': 10, 'ivpb': 2, 'break': 20, 'spec': 31, 'sp': 17, 'roommat': 1, 'tend': 12, 'challang': 1, 'survail': 1, 'escal': 30, 'circuit': 7, 'multipod': 1, 'freg': 2, 'lie': 24, 'remav': 1, 'ran': 5, 'withdrawn': 20, 'escap': 1, 'bactrim': 18, 'shoot': 1, 'erythromycin': 6, 'redraw': 5, 'bank': 15, 'receic': 1, 'hip': 20, 'ced': 11, 'fifteen': 1, 'prone': 6, 'anniversari': 1, 'dyspnea': 53, 'pa': 51, 'enjoy': 4, 'hydrogen': 1, 'flat': 32, 'quiet': 33, 'repeatedli': 9, 'sml': 13, 'acidod': 2, 'discolor': 4, 'shop': 1, 'concernsa': 1, 'profoundli': 3, 'delay': 32, 'polymorph': 3, 'midodrin': 3, 'oncpap': 1, 'protein': 30, 'gtube': 3, 'transport': 48, 'bronc': 2, 'dialyz': 6, 'ic': 2, 'mean': 18, 'resolut': 29, 'motil': 13, 'beir': 1, 'brisk': 35, 'item': 3, 'cope': 25, 'promod': 5, 'build': 2, 'easi': 5, 'flsd': 1, 'ked': 1, 'emycin': 2, 'rul': 49, 'afterward': 8, 'clock': 4, 'discard': 4, 'cipro': 19, 'gabapentin': 2, 'absorbt': 2, 'prob': 8, 'perineum': 9, 'msicu': 1, 'freeli': 3, 'part': 40, 'crx': 2, 'douderm': 4, 'atc': 11, 'calibr': 3, 'stimulu': 13, 'integumentari': 13, 'reincert': 1, 'zero': 14, 'li': 9, 'pk': 3, 'stale': 1, 'ambu': 15, 'infact': 2, 'bairhugg': 6, 'perlla': 1, 'resent': 4, 'visabl': 1, 'pvd': 14, 'bedrest': 4, 'vioxx': 1, 'drift': 13, 'trachesotomi': 1, 'flatu': 17, 'hem': 8, 'luck': 2, 'marroon': 1, 'gt': 7, 'trail': 5, 'mucomyst': 8, 'decubitu': 15, 'salin': 20, 'mbp': 2, 'bond': 3, 'perianl': 1, 'lethgar': 1, 'avoid': 31, 'multip': 1, 'sid': 1, 'syring': 8, 'audibl': 25, 'asynchron': 3, 'refus': 32, 'trial': 45, 'abc': 2, 'canula': 6, 'nnpn': 1, 'uppr': 1, 'liq': 15, 'oint': 2, 'heperin': 2, 'glargin': 5, 'mvr': 2, 'clearli': 30, 'pharm': 2, 'req': 18, 'never': 14, 'somul': 4, 'alot': 7, 'net': 16, 'account': 9, 'beinfit': 1, 'tue': 28, 'catch': 1, 'absorb': 8, 'bout': 4, 'ok': 37, 'pigtail': 9, 'advers': 12, 'rabbi': 6, 'tight': 13, 'happen': 9, 'chunki': 2, 'ayt': 1, 'hs': 11, 'fewer': 4, 'waen': 1, 'ten': 3, 'eccymoisi': 1, 'duodersm': 1, 'dialysis': 2, 'depend': 55, 'match': 7, 'nonsustain': 1, 'fan': 1, 'nickel': 1, 'glug': 1, 'memori': 6, 'coumidin': 1, 'weaker': 5, 'settin': 1, 'card': 42, 'heard': 21, 'initit': 2, 'vbg': 12, 'begun': 8, 'hemo': 2, 'herniat': 2, 'session': 3, 'cooper': 26, 'chem': 9, 'secrtion': 1, 'hydrat': 23, 'si': 5, 'reasobali': 1, 'soda': 1, 'shook': 2, 'reaction': 40, 'phenergan': 1, 'unsustain': 2, 'broncheal': 1, 'properli': 11, 'prisma': 1, 'bottom': 4, 'enough': 24, 'pleasant': 14, 'epo': 1, 'huge': 5, 'nss': 5, 'os': 7, 'tsicu': 3, 'icecream': 2, 'errat': 5, 'pet': 6, 'yr': 34, 'bronchospasm': 6, 'coagul': 5, 'adm': 23, 'sulphat': 1, 'unexplain': 4, 'irrit': 9, 'spoken': 10, 'sulci': 16, 'meant': 1, 'enhanc': 16, 'rediscuss': 5, 'taper': 19, 'faint': 8, 'diagnos': 15, 'bx': 10, 'jaw': 5, 'rpt': 6, '^bp': 2, 'gc': 3, 'squamo': 1, 'solumedrol': 19, 'basilar': 33, 'oncolog': 15, 'tot': 1, 'medicin': 12, 'deveolp': 1, 'tacypn': 4, 'rythm': 5, 'ew': 16, 'edt': 3, 'nippv': 12, 'beforehand': 1, 'mlph': 1, \"'finish\": 1, 'expector': 17, 'chemotherapi': 10, 'yea': 1, 'nad': 21, 'nodul': 22, 'brain': 27, 'commenc': 6, 'cistern': 8, 'metastasi': 4, 'therefor': 36, 'rash': 42, 'mind': 7, 'rather': 26, 'newli': 32, 'onset': 14, '^rr': 4, 'indigest': 1, 'ectop': 6, 'burst': 16, 'raf': 4, 'preliminari': 16, 'metastas': 10, 'sponten': 1, 'squamou': 7, 'guifenasin': 1, 'sit': 29, 'tighten': 7, 'fidgiti': 1, 'diltiazem': 16, 'diaphoret': 28, 'carotid': 17, 'bronchospast': 3, 'hunger': 8, 'dest': 1, 'exact': 5, 'nrm': 1, 'prelim': 13, 'breat': 2, 'supress': 2, 'spread': 12, 'unstabl': 30, 'niv': 12, 'diures': 39, 'sudden': 11, 'clr': 10, 'dnrdni': 1, 'sato': 2, 'demand': 21, 'quick': 4, 'rebreath': 14, 'nonoper': 1, 'carcinoma': 18, 'monday': 21, 'nil': 1, '^hr': 2, 'labia': 2, 'suppress': 6, 'extrahepat': 2, 'rcd': 1, 'fhp': 12, 'dept': 3, 'reinsert': 6, 'dementia': 23, 'musculoskelet': 26, 'breah': 1, 'crystal': 2, 'pancrea': 37, 'insuffici': 19, 'decres': 4, 'flex': 8, 'intermittenli': 2, 'precipit': 6, 'third': 17, 'unusu': 12, 'neurolept': 1, 'ductal': 6, 'supplement': 33, 'conntact': 1, 'hypothroid': 1, 'gnr': 17, 'hemidiaphragm': 19, 'fluoroscopi': 8, 'ceftaz': 8, 'uti': 33, 'frontal': 40, 'incomprehens': 7, 'parenchym': 62, 'regim': 14, 'ocd': 1, 'vit': 14, 'cholecyst': 22, 'pericholecyst': 11, 'pmhx': 9, 'mb': 10, 'curtail': 1, 'rbc': 12, 'tegretol': 1, 'polici': 6, 'pneumnia': 1, 'chapl': 1, 'groin': 24, 'etomid': 4, 'vanoc': 1, 'deaf': 2, 'stiffneck': 1, 'dopamin': 15, 'synthroid': 6, 'bph': 5, 'cpk': 9, 'cortisol': 10, 'mgso': 3, 'gram': 43, 'insuff': 2, 'succinylcholin': 1, 'adren': 41, 'trachea': 20, 'rale': 33, 'sinimet': 1, 'psoriasi': 1, 'levaquin': 20, 'hung': 10, 'brather': 1, 'mul': 2, 'constip': 21, 'devedlop': 1, 'cycl': 14, 'anaerob': 11, 'incontincn': 1, 'signif': 2, 'additin': 1, 'parkinson': 8, 'fact': 12, 'djd': 1, 'advis': 13, 'caviti': 51, 'abp': 34, 'biacarb': 1, 'pressort': 1, 'jaundic': 19, 'bin': 1, 'prematur': 30, 'eventu': 23, 'axi': 37, 'root': 20, 'fascicular': 12, 'eject': 8, 'deviat': 23, 'four': 16, 'rerrl': 1, 'akinesi': 2, 'acceler': 4, 'fraction': 9, 'kayexly': 1, 'tricuspid': 38, 'lcl': 1, 'stenosi': 42, 'unavail': 2, 'crea': 2, 'la': 28, 'pack': 10, 'estim': 32, 'epix': 1, 'trivial': 18, 'qr': 27, 'bbb': 3, 'situt': 1, 'chorda': 11, 'physiolog': 38, 'hyperkalemia': 11, 'rais': 40, 'atn': 23, 'thereaft': 6, 'laryng': 5, 'froom': 1, 'wrap': 6, 'accurr': 1, 'pnding': 8, 'impend': 7, 'discov': 3, 'ointment': 13, 'brachycephal': 1, 'unfortun': 7, 'resusit': 4, 'hyperkalcemia': 1, 'intit': 2, 'pcn': 9, 'intiat': 7, 'locul': 22, 'anfio': 1, 'nondistend': 15, 'blister': 16, 'qtt': 6, 'cordi': 4, 'film': 48, 'blind': 3, 'multilobar': 7, 'silverdin': 1, 'hypoperfus': 7, 'potassium': 53, 'fhpa': 2, 'deceas': 3, 'angio': 7, 'sb': 22, 'formal': 9, 'heartrat': 1, 'psychosoci': 9, 'bloat': 2, 'extremti': 1, 'mutipl': 4, 'cantones': 6, 'anbx': 5, 'daddi': 1, 'palli': 34, 'progonisi': 1, 'trough': 24, 'educ': 5, 'signic': 2, 'incid': 26, 'mimini': 1, 'agig': 1, 'mlq': 1, 'progr': 1, 'lip': 33, 'spontani': 1, 'fentanul': 1, 'plam': 1, 'unreact': 2, 'desicion': 1, 'physcian': 2, 'signfic': 4, 'extrim': 4, 'knopff': 1, 'nutriton': 1, 'hygien': 8, 'respect': 20, 'fentnyl': 1, 'goodresult': 1, 'mist': 12, 'moan': 21, 'scopolamin': 7, 'tacycard': 3, 'dad': 3, 'pat': 3, 'zinc': 1, 'extermit': 2, 'durng': 1, '^wob': 2, 'fliud': 5, 'respelor': 1, 'suspect': 38, 'mat': 1, 'ot': 8, 'extubatin': 1, 'sorder': 1, 'gone': 14, 'presenc': 27, 'srr': 7, 'ozz': 3, 'ua': 33, 'kling': 1, 'achiv': 1, 'aflutt': 10, 'hub': 1, 'conver': 1, 'acc': 3, 'quantifi': 4, 'rtc': 4, 'prefer': 9, 'eitolog': 1, 'eccymot': 7, 'compon': 47, 'puulent': 1, 'symptom': 31, 'phase': 13, 'exipr': 1, 'echocardiograph': 16, 'stain': 31, 'extremeti': 19, 'variabl': 17, 'exist': 38, 'tegram': 1, 'ascend': 28, 'instruct': 10, 'tegaderm': 3, 'tachypniec': 2, 'exxtrmiti': 1, 'apc': 4, 'supraventricular': 11, 'extrasystol': 1, 'ota': 3, 'overlay': 3, 'supp': 11, 'tachypneac': 2, 'flap': 2, 'lacer': 4, 'strip': 4, 'extrmiti': 1, 'tamponad': 12, 'tracheobronch': 2, 'nonadh': 1, 'gs': 8, 'eipsod': 1, 'readdress': 21, 'restin': 1, 'mag': 13, 'kneecap': 1, 'exud': 6, 'guag': 2, 'pff': 1, 'repeaet': 1, 'serosang': 13, 'faamili': 1, 'sangaiou': 1, 'downt': 2, 'diastol': 37, 'contol': 1, 'artifici': 5, 'dysfnc': 1, 'dehydr': 7, 'frustrat': 6, 'unreliev': 2, 'calf': 11, 'ccb': 1, 'steri': 2, 'plea': 2, 'tachcard': 1, 'nebul': 9, 'neglig': 2, 'nephew': 10, 'cardiogen': 19, 'complain': 10, 'speech': 31, 'serax': 1, 'triplet': 2, 'mordem': 1, 'enzm': 1, 'higest': 1, 'recevi': 1, 'benzo': 6, 'bss': 1, 'pcxr': 4, 'introduc': 7, 'tegraderm': 1, 'anytmim': 1, 'odor': 4, 'inquier': 1, 'senior': 4, \"am'\": 1, 'ck': 51, 'slur': 2, 'nail': 8, 'podi': 2, 'undigest': 2, 'junki': 6, \"o'\": 1, 'aurea': 1, 'addedum': 1, 'uncontrol': 4, 'ultrac': 3, 'intraventricular': 13, 'parenchyma': 23, 'coras': 2, 'regimen': 55, 'cefepin': 2, 'rhonci': 8, 'dss': 1, 'comcomit': 1, 'reciv': 4, 'lss': 1, 'bigem': 1, 'bliater': 1, 'sitter': 4, 'garbl': 7, 'border': 12, 'anuria': 7, 'hypozia': 1, 'throughtout': 1, 'pci': 2, 'smear': 18, 'expel': 2, 'trigem': 1, 'incontinec': 1, 'cefempin': 1, 'whisper': 1, 'venodyn': 7, 'dev': 2, 'particularli': 25, 'nare': 14, 'nonverb': 7, 'haze': 3, 'imv': 5, 'nph': 9, 'posteriorli': 11, 'thruought': 1, 'perivascular': 1, 'transpar': 6, 'intermittantli': 2, 'somewat': 1, 'unlabor': 12, 'bigemeni': 1, 'stabliz': 3, 'niddm': 1, 'accu': 1, 'inferiorli': 9, 'transpat': 1, 'pump': 7, 'clog': 4, 'wihtout': 1, 'cocci': 10, 'thruout': 3, 'broader': 3, 'staph': 9, 'recogn': 9, 'morpholog': 12, 'rca': 4, 'lrg': 5, 'contamint': 1, 'bt': 5, 'curv': 23, 'crisi': 3, 'avhb': 1, 'nstemi': 11, 'retain': 11, 'pharynx': 6, 'judgement': 3, 'worseni': 1, 'ecchymosi': 9, 'gurgl': 7, 'discontinu': 34, 'indwel': 23, 'real': 7, 'bronchial': 39, 'recalibr': 3, 'occas': 9, 'lobar': 12, 'combin': 34, 'scd': 5, 'prog': 2, 'defin': 15, 'dobut': 2, 'pedi': 11, 'indistinct': 8, 'pgi': 3, 'cordu': 1, 'inotropi': 1, 'pleuroparenchym': 1, 'underneath': 6, 'psych': 7, 'cortu': 1, 'purlpl': 1, 'sensit': 26, 'ltyellow': 1, 'reappil': 1, 'avb': 3, 'rod': 14, 'alon': 14, 'trigemini': 1, 'toss': 1, 'tha': 3, 'regularli': 7, 'inconsistenli': 1, 'diruesi': 2, 'zaroxolyn': 1, 'resecur': 1, 'collector': 1, 'lodg': 1, 'captorpil': 1, 'sulfat': 33, 'ft': 8, 'mumbl': 8, 'splint': 1, 'dopper': 1, 'rxn': 6, 'stent': 24, 'dobutamin': 12, 'airmatress': 1, 'rh': 3, 'frothi': 8, 'xr': 1, 'contamin': 9, 'comb': 5, 'hh': 2, 'waffl': 7, 'captopril': 3, 'verifi': 16, 'avbl': 1, 'bandag': 4, 'troponin': 55, 'variou': 8, 'appil': 1, 'mi': 24, 'bl': 13, 'oropharynx': 10, 'lcyu': 1, 'metoprolol': 28, 'rule': 40, 'nsvt': 4, 'intregr': 1, 'teeth': 38, 'yankeur': 4, 'inclus': 3, 'swallow': 39, 'circul': 8, 'diuresis': 2, 'proph': 4, 'cut': 14, 'palab': 1, 'midnight': 32, 'egt': 1, 'sustain': 16, 'addtion': 2, 'defect': 29, 'workload': 1, 'immobil': 2, \"dc'ed\": 2, 'lul': 43, 'stabilz': 2, 'trip': 4, 'hyrocortison': 1, 'doctor': 12, 'strenght': 1, 'platlet': 6, 'freind': 1, 'hrt': 4, 'norm': 2, 'teari': 2, 'platelet': 20, 'solut': 1, 'shth': 1, 'cavo': 2, 'vaxcel': 1, 'tumor': 18, 'resposit': 3, 'serosanq': 1, 'multilumen': 3, 'tfb': 4, 'oxycodon': 9, 'prophylact': 3, 'travel': 8, 'count': 36, 'document': 33, 'increasingli': 35, 'enviro': 1, 'bronchou': 1, 'hospic': 24, 'capac': 9, 'nonlas': 1, 'ud': 1, 'ep': 7, 'mainten': 8, 'tenou': 2, 'penumopericardium': 1, 'adenosin': 4, 'dcd': 6, 'til': 4, 'evolv': 18, 'amiodoron': 4, 'pericadi': 1, 'pe': 48, 'sensori': 3, 'trun': 1, 'pulsu': 1, 'fr': 13, 'dysneic': 1, 'cent': 3, 'instil': 7, 'init': 8, 'cot': 2, 'reiter': 3, 'bronchu': 15, 'successful': 2, 'incident': 10, 'mx': 1, 'okay': 12, 'cardiologist': 4, 'unprod': 1, 'ivab': 6, 'placment': 9, 'ds': 6, 'axox': 1, 'trim': 2, 'adquat': 2, 'rhonchoru': 7, 'partner': 5, 'oncologist': 12, 'unsur': 6, 'cari': 1, 'wet': 62, 'spirit': 1, 'int': 3, 'russian': 7, 'slower': 14, 'decomp': 1, 'quadrent': 6, 'decompenst': 1, 'discus': 1, 'aspect': 21, 'doboff': 5, 'asa': 32, 'dictat': 18, 'prompt': 4, 'inncont': 1, 'mistaken': 1, 'medial': 13, 'rrespons': 1, 'decompens': 27, 'produc': 20, 'urethra': 2, 'aerosol': 20, 'discusst': 1, 'teaspoon': 1, 'engorg': 21, 'abort': 4, 'pateint': 2, 'ex': 8, 'amplitud': 3, 'granddaught': 6, 'dopoff': 1, 'video': 8, 'nectar': 6, 'pure': 10, \"^'ing\": 1, 'anticoagul': 28, 'trauma': 10, 'frank': 11, 'skinfold': 1, 'conjunct': 11, 'dislodg': 6, 'condom': 2, 'undergo': 19, 'honey': 2, 'wax': 6, 'faster': 13, 'cardiovascular': 57, 'pud': 6, \"^'ingli\": 1, 'oropharyng': 16, 'cbi': 4, 'telephon': 24, 'beta': 23, 'dobhoff': 6, 'retract': 11, 'ursdiol': 1, 'isolat': 1, 'maneuv': 12, 'participatori': 1, 'reformat': 19, 'scv': 2, 'periport': 1, 'mold': 1, 'pel': 7, 'broken': 11, 'pubic': 8, 'nypernatremia': 1, 'easier': 4, 'cyst': 26, 'preced': 11, 'bmt': 3, 'bladder': 53, 'stronger': 6, 'multiplanar': 17, 'nephrolog': 4, 'bilirubin': 20, 'analyz': 7, 'sxted': 1, 'gvhd': 3, 'grow': 16, 'pheresi': 3, 'grasp': 2, 'weap': 4, 'typhliti': 1, 'prolaps': 24, 'ucler': 2, 'ess': 4, 'regul': 6, 'glidewir': 5, 'retroperitoneum': 1, 'timeout': 10, 'soak': 5, 'pole': 9, 'deoderm': 1, 'nard': 4, 'shedul': 1, 'folow': 3, 'retroperiton': 14, 'flumazenil': 2, 'intrahepat': 4, 'upward': 11, 'obstacl': 1, 'silk': 6, 'cecum': 4, 'symphysi': 10, 'lvot': 23, 'gland': 26, 'baracat': 2, 'peditub': 1, 'rvr': 20, 'influenc': 4, 'bloodting': 3, 'griev': 9, 'presser': 2, 'acidosid': 1, 'correspond': 9, 'pelvi': 42, 'mdct': 26, 'cellcept': 3, 'sup': 2, 'sorb': 4, 'biggest': 1, 'pursestr': 1, 'distinct': 15, 'pneumococc': 1, 'adjac': 31, 'serviceclip': 2, 'noth': 18, 'syndrom': 19, 'info': 17, 'mvp': 17, 'minmal': 2, 'percocet': 8, 'meropenem': 25, 'dens': 31, 'byt': 2, 'ground': 32, 'hepatopet': 8, 'inflamm': 10, 'palpalbl': 1, 'pneumocac': 1, 'sxt': 2, 'aass': 1, 'constrict': 1, 'refe': 3, 'achiev': 19, 'toxin': 8, 'nodal': 4, 'gradient': 29, 'midnoc': 8, 'transplant': 10, 'inlet': 22, 'acquir': 37, 'transjugular': 2, 'subcentimet': 5, 'humalog': 11, 'elong': 7, 'encephalopathi': 14, 'lytic': 19, 'remark': 8, 'cardiovert': 8, 'natur': 17, 'overnt': 1, 'tini': 10, 'transjug': 1, 'unknown': 44, 'ganciclovir': 1, 'approach': 24, 'gut': 7, 'surgicel': 4, 'aml': 2, 'evidenc': 6, 'alway': 9, 'plasmaphoresi': 1, 'formalin': 1, 'core': 7, 'agent': 14, 'edamat': 3, 'speciat': 9, 'oligur': 14, 'proper': 11, 'preprocedur': 8, 'ptcont': 1, 'rifaximin': 3, 'cholestasi': 2, 'ursodiol': 1, 'spleen': 32, 'surgifoam': 2, 'flicker': 1, 'fam': 7, 'stich': 1, 'neutropen': 4, 'amplatz': 2, 'tr': 32, 'phersi': 1, 'weeep': 1, 'cellular': 4, 'granulomat': 4, 'lij': 12, 'hyper': 3, 'calicif': 1, 'ident': 3, 'psc': 2, 'rtrad': 2, 'kerlix': 5, 'retap': 14, 'rsp': 3, 'nst': 2, 'abras': 12, 'ppp': 9, 'whinc': 1, 'lactolos': 1, 'meropenum': 9, 'urisodil': 1, 'semin': 3, 'speaker': 4, 'porta': 4, 'pharesi': 1, 'kayexal': 5, 'urisodiol': 1, 'paus': 5, 'amio': 13, 'lanti': 1, 'explan': 13, 'guidenc': 1, 'uremia': 4, 'host': 2, 'presept': 2, 'everyday': 3, 'flumazin': 1, 'ruq': 12, 'ivc': 11, 'pej': 2, 'caudat': 2, 'rescu': 2, 'transcathet': 1, 'punctat': 2, 'cateth': 1, 'recoveri': 21, 'sxned': 8, 'prostat': 15, 'abut': 6, 'hemostasi': 4, 'npp': 1, 'anyway': 4, 'intraven': 38, 'vesicl': 3, 'unrsp': 2, 'hepatoren': 3, 'intraservic': 3, 'calib': 18, 'sequela': 4, 'acyclovir': 5, 'bsk': 2, 'nl': 22, 'peripancreat': 2, 'mult': 17, 'bear': 9, 'blunt': 17, 'stride': 1, 'cue': 8, 'element': 14, 'fusarium': 1, 'constant': 11, 'rrad': 1, 'gancylovir': 1, 'actual': 13, 'sclerot': 14, 'ivaband': 1, 'humulog': 1, 'psup': 3, 'cobra': 2, 'dfinit': 1, 'lactulos': 21, 'hyptens': 2, 'dop': 6, 'fucntion': 1, 'fsbg': 9, 'coud': 1, 'hypoecho': 2, 'behind': 4, 'careweb': 2, 'transaminas': 4, 'nailb': 8, 'hepati': 3, 'basic': 7, '^lft': 1, 'tne': 1, 'store': 2, 'similar': 58, 'viremia': 2, 'downward': 15, 'cavh': 1, 'ni': 1, 'wake': 41, 'equival': 4, 'ltf': 1, 'cook': 2, 'marrow': 4, 'mainatain': 1, 'yeild': 1, 'cistatricurium': 1, 'stretch': 5, 'copiu': 4, 'territori': 13, 'cirrohosi': 1, 'televis': 1, 'firmli': 2, 'nystatin': 9, 'palc': 2, 'bump': 14, 'remaind': 29, 'pulmasours': 1, 'cisatracurium': 6, 'intervet': 1, 'abscess': 21, 'obt': 1, 'droop': 2, 'bronchspast': 1, 'foramen': 6, 'cchr': 2, 'retreiv': 1, 'hypernatremia': 11, 'wer': 1, 'skinn': 1, 'echogen': 7, 'wether': 4, 'pillow': 10, 'chin': 7, 'compat': 22, 'basi': 9, 'caspofungin': 4, 'neutral': 1, 'descend': 16, 'premed': 5, 'vigiou': 1, 'fluse': 2, 'wedg': 9, 'paralysi': 6, 'pneumomediastenum': 1, 'metastat': 26, 'grayscal': 10, 'subdiaphragmat': 10, 'poplit': 14, 'seee': 1, 'effert': 2, 'rust': 3, 'vitot': 1, 'meripenum': 1, 'case': 28, 'train': 6, 'vebal': 1, 'asid': 5, 'strongli': 9, 'bolt': 3, 'unintellig': 2, 'buttuck': 2, 'washin': 1, 'glass': 23, 'sphenoid': 6, 'spnt': 1, 'thich': 3, 'toller': 3, 'chemic': 5, 'lunf': 1, 'soooo': 1, 'spurt': 1, 'oximetri': 3, 'teniou': 2, 'solid': 17, 'miq': 1, 'hyporthermia': 1, 'paracentisi': 1, 'seri': 12, 'fungu': 4, 'erect': 10, 'nabicarb': 1, 'pneumoperitoneum': 4, 'propranalol': 1, 'ard': 58, 'tracheobronchi': 3, 'mvmt': 4, 'wrong': 5, 'meripenim': 1, 'adn': 6, 'valsalva': 2, 'wane': 3, 'beneath': 8, 'ibuprofen': 3, 'paralyz': 36, 'inder': 1, 'erron': 1, 'prder': 1, 'manuev': 2, 'esent': 1, 'atb': 4, 'medium': 8, 'tenaci': 12, 'diregard': 1, 'paral': 2, 'latter': 7, 'instead': 9, 'extremitiy': 3, 'veget': 8, 'suddenli': 6, 'cholelithiasi': 14, 'paramedian': 3, 'shunt': 13, 'hiccup': 3, 'gold': 2, 'fdg': 10, 'ween': 2, 'seven': 7, 'mucos': 10, 'excurs': 8, 'isuprel': 1, 'neruo': 4, 'seedi': 1, 'top': 33, 'supprot': 1, 'worrisom': 5, 'orali': 1, 'repsons': 3, 'pulmasourc': 2, 'satisfactorili': 4, 'barotrauma': 3, 'bronish': 1, 'hydralasin': 1, 'distent': 28, 'tyelnol': 2, 'echocardigram': 1, 'snt': 4, 'motrin': 3, 'mediastinum': 42, 'bronchogram': 11, 'thrombu': 20, 'fentenyl': 3, 'temporari': 7, 'schdule': 1, 'hypernatrem': 3, 'lge': 4, 'addendium': 2, 'ldh': 43, 'pancreat': 11, 'intrapelv': 1, 'novasourc': 7, 'widespread': 26, 'midazolam': 39, 'receivng': 2, 'pseudomhypha': 1, 'malacia': 2, 'infuss': 1, 'narrativen': 1, 'stone': 21, 'pc': 12, 'bud': 6, 'bu': 5, 'inpiratori': 1, 'intracardiac': 4, 'meropenim': 1, 'replenish': 3, 'artifact': 37, 'pneumomediastinum': 7, 'grimmac': 4, 'aler': 1, 'endocard': 15, 'spot': 10, 'fentyn': 2, 'pose': 3, 'flexur': 5, 'nova': 1, 'conitnu': 4, 'fc': 5, 'origin': 31, 'sigmoid': 17, 'addend': 1, 'lid': 3, 'mic': 17, 'consistantli': 6, 'merepenim': 1, 'rave': 1, 'fungemia': 5, 'qualit': 1, 'cop': 6, 'bradycardia': 24, 'confluenc': 4, 'ettub': 3, 'stv': 2, 'gastroesophag': 16, 'friday': 15, 'posterolater': 2, 'psupp': 1, 'severli': 2, 'powder': 8, 'subcapsular': 1, 'bal': 18, 'halidol': 1, 'thrombosi': 10, 'oval': 6, 'catheth': 2, 'recur': 5, 'alkalosi': 20, 'clavicl': 11, 'merepeum': 1, 'candidemia': 2, 'merepenum': 2, 'splenic': 6, 'sxd': 5, 'clump': 1, 'yeast': 20, 'augment': 16, 'contiu': 3, 'meripenem': 1, 'conintu': 2, 'hydralazin': 13, 'pulmonolog': 2, 'east': 5, 'distribut': 24, 'shaggi': 1, 'wit': 13, 'manipul': 11, 'muach': 1, 'twitch': 9, 'hydrocephalu': 9, 'spc': 1, 'optim': 39, 'dist': 8, 'muster': 1, 'softer': 2, 'safe': 16, 'pipo': 1, 'heterogen': 20, 'secriton': 1, 'fluconzol': 1, 'cardiomyopathi': 9, 'prodcedur': 1, 'maintentnc': 1, 'serosanguin': 8, 'telemeti': 1, 'chap': 1, 'cholecystectomi': 3, 'read': 87, 'ddimer': 1, 'cefepinm': 1, 'notabel': 1, 'dynam': 4, 'averag': 10, 'panel': 15, 'amiriodin': 1, 'adher': 2, 'fallen': 1, 'strand': 9, 'scleral': 7, 'stalk': 1, 'withheld': 2, 'apap': 1, 'diltazem': 2, 'clavicular': 7, 'mgq': 1, 'vagin': 2, 'insul': 1, 'fluro': 2, 'neurtopen': 1, 'plat': 12, 'celiac': 6, 'ored': 1, 'fagyl': 1, 'signal': 5, 'pylor': 9, 'chemo': 10, 'neuropenia': 1, 'cerebro': 1, 'ccx': 2, 'ilier': 1, 'degen': 23, 'flouro': 2, 'neutopenia': 1, 'recultur': 9, 'nadir': 1, 'axilla': 11, 'conc': 4, 'character': 17, 'alertarous': 1, 'electr': 5, 'urien': 1, 'intraabdomin': 4, 'prosthesi': 5, 'endolumin': 1, 'amriodon': 1, 'sight': 1, 'neutrapen': 2, 'fat': 13, 'cardiovers': 3, 'lorazapam': 1, 'xpeep': 1, 'hydrocort': 5, 'fluconozol': 1, 'uup': 1, 'outflow': 5, 'lingula': 7, 'aha': 8, 'normotens': 12, 'metroprolol': 1, 'nutropenia': 1, 'requestiong': 1, 'ilatori': 1, 'separt': 1, 'materi': 21, 'injuri': 19, 'sacrament': 10, 'micor': 1, 'sunction': 1, 'akwa': 1, 'attach': 7, 'nephrogram': 3, 'eccyomot': 1, 'j': 10, 'jejunum': 2, 'attemp': 3, 'flagal': 1, 'difficil': 12, 'mp': 4, 'ouput': 2, 'virgou': 1, 'peticha': 2, 'degree': 1, 'pancutur': 1, 'ebv': 2, 'consecut': 3, 'steristrip': 1, 'sphincter': 3, 'annular': 18, 'liw': 6, 'postpylor': 4, 'hyperdynam': 22, 'intial': 8, 'alkalot': 5, 'crt': 6, 'remiain': 1, 'vicin': 2, 'periton': 5, 'alet': 1, 'tactil': 20, 'ceil': 1, 'polyp': 4, 'diverticulum': 1, 'nonion': 7, 'individu': 3, 'invol': 1, 'uncertain': 14, 'absenc': 17, 'tirtrat': 1, 'dimens': 5, 'apheres': 1, 'attribut': 18, 'appropi': 5, 'fentani': 3, 'sytol': 1, 'mucosa': 5, 'rescan': 3, 'rythmm': 2, 'uac': 1, 'whitish': 5, 'yell': 8, 'reden': 2, 'megacolon': 6, 'balm': 1, 'arrhythmia': 13, 'onto': 6, 'interupt': 2, 'smicu': 2, 'dif': 3, 'symmetr': 59, 'winc': 3, 'ilw': 1, 'jejun': 2, 'nativ': 4, 'uromet': 1, 'houseoffic': 6, 'azt': 1, 'claoric': 1, 'neutropenia': 1, 'bolusof': 1, 'reoccur': 3, 'edmat': 1, 'yield': 6, 'ave': 1, 'cefipim': 15, 'lymphoma': 7, 'wth': 2, 'apeci': 1, 'ceptim': 1, 'adenopathi': 17, 'exampl': 6, 'hypertrophi': 32, 'intralumin': 9, 'reliabl': 4, 'petichia': 2, 'weakli': 8, 'pylori': 2, 'ambisom': 2, 'confer': 7, 'hypodens': 21, 'impact': 10, 'mc': 4, 'telemetri': 17, 'lcw': 3, 'foey': 1, 'irreg': 7, 'cold': 11, 'vagina': 1, 'cardaic': 2, 'sub': 11, 'anc': 2, 'flaygl': 2, 'atroph': 7, 'mycostatin': 4, 'hydrea': 1, 'cystic': 8, 'overwir': 1, 'mesenteri': 2, 'pyloru': 5, 'ampi': 1, 'pair': 12, 'chain': 8, 'nonr': 2, 'msof': 2, 'particular': 9, 'flaccid': 5, 'aneorb': 1, 'convinc': 2, 'chb': 4, 'ampicillin': 6, 'withdrawl': 10, 'baricat': 2, 'amyloid': 1, 'rememb': 1, 'constel': 1, 'mail': 4, 'stenot': 1, 'barocat': 2, 'idioventricular': 1, 'postur': 8, 'ultim': 13, 'decort': 4, 'disord': 20, 'anasarka': 1, 'inferolater': 11, 'nonreact': 3, 'grave': 19, 'oppos': 4, 'tme': 1, 'bottl': 4, 'amoung': 1, 'nsicu': 1, 'atov': 1, 'equip': 3, 'flu': 13, 'ntg': 4, 'droplet': 10, 'ontain': 1, 'nitro': 8, 'hear': 16, 'cardizem': 2, 'atelectat': 9, 'accordingli': 12, 'viral': 17, 'linen': 4, 'longstand': 4, 'exhibit': 9, 'distess': 1, 'overid': 1, 'percaut': 1, 'heroic': 6, 'tachycardiac': 3, 'hypokalemia': 3, 'batteri': 1, 'restoril': 1, 'bypap': 1, 'fryabl': 1, 'supper': 1, 'applesauc': 6, 'sleepign': 1, 'slip': 4, 'apetit': 1, 'gastrostomi': 6, 'mri': 18, 'tp': 6, 'appl': 6, 'cross': 8, 'cerebr': 10, 'nonobstruct': 5, 'fax': 1, 'souc': 1, 'intraperiton': 12, 'interrupt': 2, 'goe': 7, 'palat': 4, 'involut': 3, 'pathologist': 1, 'pneumatosi': 6, 'spiromet': 3, 'ate': 4, 'influenza': 18, 'undisturb': 4, 'revrs': 1, 'cu': 2, 'format': 8, 'awhil': 3, 'typic': 9, 'barium': 6, 'requisit': 2, 'misplac': 2, 'crush': 13, 'breather': 2, 'nonrebreath': 4, 'phlebolith': 2, 'nauseu': 1, 'spirometri': 5, 'bathroom': 3, 'spillov': 3, 'intailli': 1, 'cardiopulmonari': 10, 'necessit': 8, 'aphas': 5, 'accesss': 1, 'variat': 5, 'featur': 6, 'prod': 9, 'flownot': 4, 'flip': 2, 'perfor': 12, 'dysphagia': 9, 'perp': 1, 'lite': 1, 'inv': 1, 'aphasia': 2, 'pharyng': 6, 'pseudoinfarct': 1, 'amd': 5, 'sz': 5, 'suspicion': 17, 'tuck': 3, 'penetr': 6, 'incent': 4, 'speciment': 1, 'revers': 24, 'collabor': 6, 'applesaus': 1, 'linebut': 1, 'unproduct': 5, 'pleur': 2, 'massiv': 18, 'sterilli': 1, 'realiz': 3, 'pleurx': 1, 'pleuravac': 3, 'unsymptomat': 1, 'hemithorax': 32, 'occupi': 6, 'eventuallt': 1, 'esidu': 1, 'solidfi': 1, 'choic': 6, 'adit': 1, 'familt': 4, 'indfus': 1, 'stff': 1, 'misfir': 1, 'negtiv': 1, 'desitin': 2, 'trumpet': 6, 'chase': 1, 'anymor': 6, 'adament': 1, 'param': 1, 'flail': 3, 'tick': 1, 'enema': 9, 'weigh': 2, 'thursday': 9, 'toleav': 1, 'leakag': 7, 'bialter': 1, 'shnge': 1, 'reeval': 4, 'incon': 2, 'persistantli': 2, 'oet': 1, 'coaars': 1, 'myleodysplesia': 1, 'tachyarrythmia': 2, 'struggl': 6, 'inflow': 5, 'desenex': 1, 'somnol': 21, 'flall': 1, 'agian': 2, 'ultra': 3, 'nonlabor': 1, 'bennzodiazpin': 1, 'topar': 1, 'mon': 34, 'colorng': 1, 'euvolem': 11, 'ut': 1, 'sedatiooon': 1, 'papillari': 8, 'noght': 1, 'kayexil': 1, 'fractio': 1, 'retal': 1, 'fill': 36, 'asap': 3, 'correspong': 1, 'synchron': 31, 'venoboot': 1, 'sooth': 1, 'month': 23, 'agress': 12, 'upto': 3, 'ref': 1, 'car': 2, 'kayexel': 3, 'aaat': 1, 'aslo': 2, 'fatigu': 20, 'promptli': 2, 'reappear': 3, 'occass': 6, 'napho': 1, 'exyl': 1, 'absolut': 1, 'candid': 16, 'pllacement': 1, 'wateri': 5, 'sescret': 1, 'fss': 1, 'propos': 3, 'overbreathin': 1, 'ia': 2, 'contribut': 29, 'vaccin': 7, 'rescusit': 1, 'normocephal': 46, 'lad': 8, 'sulfonamid': 2, 'splenectomi': 3, 'tacchypn': 1, 'sulfa': 4, 'clarifi': 19, 'rrr': 32, 'cognit': 6, 'osteopenia': 6, 'legionella': 29, 'asbesto': 5, 'ronchi': 12, 'tacchycardia': 1, 'percuss': 29, 'cavern': 3, 'opinion': 6, 'pipe': 1, 'thorazin': 1, 'ppx': 27, 'atherosclerot': 21, 'nsclc': 4, 'tacchycard': 1, 'avid': 2, 'smoker': 5, 'clinda': 5, 'noninvas': 8, 'spetic': 1, 'creatinin': 51, 'narcan': 7, 'bacteria': 4, 'regardless': 1, 'rituxan': 1, 'healthcar': 10, 'hsv': 2, 'delir': 2, 'dull': 22, 'plaqu': 7, 'outlin': 21, 'lymphat': 22, 'delerium': 2, 'charact': 2, 'penicillin': 11, 'sedentari': 2, 'vat': 4, 'discrep': 1, 'offic': 8, 'vertebr': 13, 'comm': 9, 'atrophi': 11, 'hemolyt': 3, 'gerd': 15, 'penumonia': 1, 'resect': 9, 'housekeep': 1, 'sir': 9, 'fludarabin': 2, 'retir': 8, 'oxyfast': 1, 'conjunctiva': 42, 'palliat': 5, 'deplet': 12, 'cervic': 25, 'ymf': 3, 'nppv': 3, 'pantoprazol': 27, 'deleri': 2, 'wast': 20, 'hypercarbia': 14, 'cord': 4, 'underw': 12, 'dfdkq': 2, 'iu': 40, 'benign': 18, 'factor': 17, 'omr': 8, 'nitrit': 2, 'sclerosi': 8, 'asses': 2, 'kansasii': 1, 'supraclavicular': 16, 'nonsepecif': 1, '`': 3, 'choke': 6, 'microbiolog': 35, 'summari': 13, 'gent': 5, 'reveiw': 4, 'sstem': 1, 'thoroughout': 1, 'toradol': 1, 'rad': 18, 'neic': 4, 'ileostomi': 3, 'clavian': 1, 'antibot': 3, 'gentamycin': 7, 'criticar': 5, 'hosptial': 1, 'rl': 4, 'addnedum': 1, 'cousin': 5, 'andrl': 1, 'inrincreas': 1, 'recomm': 1, 'occn': 3, 'fentanli': 2, 'azithomycin': 1, 'bridg': 10, 'icter': 6, 'nadolol': 2, 'kr': 1, 'ppor': 1, 'altern': 25, 'sedimentari': 1, 'illeostomi': 1, 'tem': 1, 'centrum': 3, 'jwk': 1, 'osh': 19, 'slugglish': 2, 'semioval': 2, 'unresponsinv': 1, 'trancfer': 1, 'mca': 4, 'unbrocken': 1, 'leagal': 1, 'respoms': 1, 'encephalomalacia': 1, 'delta': 2, 'slugish': 2, 'vacuo': 1, 'ethmoid': 4, 'dwi': 2, 'ganglia': 6, 'etachi': 1, 'diltiasem': 1, 'basal': 32, 'pian': 1, 'lacrilub': 2, 'situ': 9, 'combo': 2, 'sang': 5, 'acidemia': 5, 'platelett': 2, 'resucit': 3, 'ganz': 5, 'ortho': 2, 'rep': 3, 'collar': 6, 'sugest': 2, 'approv': 9, 'stridor': 4, 'loosen': 6, 'drg': 5, 'imobil': 1, 'brace': 1, 'bsd': 2, 'prounounc': 1, 'aggres': 2, 'orbit': 6, 'diltizam': 1, 'matress': 2, 'flattu': 1, 'urgent': 7, 'reccent': 1, 'ordinari': 1, 'tech': 5, 'hot': 4, 'dto': 1, 'pcwp': 7, 'orthoped': 2, 'amountsa': 1, 'creatanin': 1, 'paw': 2, 'swan': 6, 'parcial': 1, 'applianc': 3, 'aat': 1, 'lap': 2, 'mgmt': 8, 'ci': 11, 'worst': 4, 'preiou': 1, 'csm': 4, 'oxigen': 1, 'aproppri': 1, 'lateer': 1, 'inmobil': 1, 'htc': 1, 'occlut': 1, 'colectomi': 2, 'bronchcoscopi': 1, 'fistula': 11, 'anteriorli': 19, 'pfi': 37, 'therapist': 10, 'incomplet': 16, 'proceed': 11, 'consider': 22, 'technician': 1, 'fena': 10, 'pertin': 41, 'rout': 34, 'subject': 30, 'multifactori': 18, 'unrev': 5, 'tco': 45, 'conjunctiv': 10, 'themselv': 8, 'cuf': 5, 'cov': 6, 'club': 18, 'ardsnet': 10, 'circumst': 5, 'deliri': 11, 'phosphoru': 28, 'hyperreson': 6, 'loud': 17, 'stenotrophomona': 1, 'sh': 48, 'provision': 35, 'thrombocytopenia': 16, 'gpc': 16, 'split': 8, 'ckmb': 42, 'dchf': 3, 'palpit': 7, 'preoxygen': 3, 'smudg': 1, 'kayelexal': 1, \"ce'\": 1, 'brush': 1, 'dep': 3, 'traumat': 6, 'action': 62, 'immunolog': 7, 'mof': 2, 'transform': 2, 'dlnc': 1, 'fammili': 1, 'gg': 2, 'intravascular': 7, 'folat': 4, 'hive': 2, 'role': 15, 'immunocompromis': 8, 'ronchor': 5, 'guaiac': 10, 'subclav': 1, 'percept': 1, 'thoracotomi': 3, 'iss': 13, 'fuse': 2, 'swivel': 1, 'hypotensiona': 1, 'gastrointestin': 17, 'demograph': 48, 'signfiic': 1, 'leukem': 1, 'dentit': 12, 'coomb': 2, 'daytim': 8, 'challeng': 14, 'suppor': 1, 'reconsid': 3, 'reson': 14, 'orthopnea': 9, 'fentand': 1, 'dimsh': 1, 'gear': 3, 'fh': 48, 'meaning': 7, 'tropt': 37, 'jctn': 1, 'kayexl': 1, 'symptiom': 1, 'broad': 36, 'cyanosi': 19, 'florid': 1, 'kcal': 21, 'bad': 6, 'lvh': 14, 'numb': 7, 'thyroid': 16, 'captur': 7, 'press': 34, 'spesi': 1, 'must': 9, 'inaccur': 3, 'hydocorison': 1, 'manufactur': 22, 'reguard': 4, 'kit': 4, 'hydorcortison': 1, 'aeruginosa': 2, 'framework': 1, 'abruptli': 3, 'myalgia': 9, 'overweight': 18, 'amongst': 5, 'lr': 11, 'genitourinari': 14, 'across': 13, 'blurri': 8, 'stock': 1, 'tracheotomi': 5, 'pseudomon': 5, 'disadvantag': 1, 'tubular': 9, 'apprear': 1, 'ibw': 3, 'fxn': 8, 'chlorhexidin': 6, 'defici': 4, 'una': 2, 'acd': 3, 'transloc': 1, 'pmi': 16, 'hydrostat': 2, 'afterload': 5, 'dimer': 5, 'connector': 1, 'cvo': 3, 'abus': 14, 'ckd': 6, 'input': 22, 'nourish': 24, 'pneuomonia': 1, 'epistaxi': 8, 'willl': 2, 'deal': 7, 'search': 2, 'atyp': 22, 'hyperglycemia': 17, 'pplat': 9, 'bayonet': 1, 'suicid': 8, 'ori': 2, 'pah': 1, 'contributor': 3, 'promotil': 1, 'flutter': 15, 'retrach': 1, 'pmv': 23, 'transfomr': 1, 'ure': 3, 'diuret': 6, 'lymphocytosi': 1, 'hypoxem': 26, 'fibrinogen': 23, 'presist': 2, 'aranesp': 1, 'wma': 4, 'insult': 11, 'sooner': 5, 'ventricuar': 1, 'lipitor': 8, 'biatrial': 2, 'respoiratori': 1, 'ogtub': 3, 'sqh': 7, 'hematolog': 6, 'spectrum': 25, 'parenter': 8, 'ce': 15, 'hemodynma': 1, 'ent': 6, 'chose': 1, 'flora': 11, 'ag': 17, 'dimish': 6, 'midaz': 19, 'joint': 19, 'avellyn': 1, 'magnesium': 29, 'empyema': 5, 'chlorid': 42, 'destin': 28, 'probal': 5, 'adviso': 1, 'random': 6, 'iodin': 5, 'kayexyl': 1, 'maxim': 16, 'sens': 9, 'constitut': 23, 'dysuria': 8, 'tingl': 7, 'shiley': 2, 'feasibl': 7, 'headach': 13, 'intravascularli': 5, 'cll': 3, 'kyphoscoliosi': 3, 'caretak': 4, 'respirat': 1, 'reposist': 1, 'caregriv': 1, 'crisp': 1, 'commqand': 1, 'taker': 2, 'spinal': 10, 'tenti': 1, 'hemodyna': 1, 'creatin': 3, 'plain': 3, 'mitochondri': 1, 'hypercarb': 19, 'postiv': 3, 'agiti': 1, 'intermittingli': 1, 'resembl': 1, 'wheezey': 2, 'bolou': 1, 'whenev': 2, 'occlus': 11, 'ment': 1, 'pusl': 1, 'development': 2, 'scoliot': 1, 'intuabt': 2, 'mainstem': 5, 'carview': 1, 'sig': 15, 'elav': 1, 'dimminish': 2, 'drpped': 1, 'scoliosi': 4, 'wednesday': 9, 'bolusx': 1, 'functio': 1, 'repo': 3, 'afibril': 1, 'occlud': 6, 'pouch': 2, 'cdi': 4, 'destur': 1, 'reasur': 1, 'scortal': 1, 'increa': 4, 'wiht': 3, 'redd': 1, 'pneumonectomi': 4, 'rbsi': 1, 'dificult': 1, 'retard': 3, 'pool': 7, 'secr': 2, 'dyski': 1, 'ostomi': 6, 'deform': 11, 'inbetween': 2, 'temporarili': 4, 'percent': 3, 'rhip': 1, 'monit': 2, 'cancel': 9, 'blankli': 1, 'oze': 1, 'dampenend': 1, 'serosanquen': 1, 'dye': 4, 'anxou': 1, 'stimmuli': 1, 'spine': 29, 'craem': 1, 'multidiciplanari': 1, 'skelet': 3, 'fixat': 2, 'saliva': 1, 'undetermin': 12, 'picclin': 2, 'vasoconstrict': 6, 'cear': 1, 'sibl': 11, 'helath': 1, 'reluct': 6, 'breakdonw': 1, 'daqi': 1, 'illeostmi': 1, 'venco': 1, 'seek': 5, 'attorney': 3, 'sectret': 2, 'frighten': 1, 'bibasilair': 1, 'booth': 1, 'colostomi': 3, 'rrl': 1, 'nh': 14, 'atelectesi': 1, 'gasp': 10, 'phcp': 1, 'bedridden': 1, 'qs': 5, 'approc': 1, 'rocecet': 1, 'power': 3, 'aloc': 1, 'beefi': 1, 'transthorac': 10, 'sequenc': 6, 'conspicu': 2, 'ambien': 2, 'carvu': 2, 'hook': 8, 'aox': 3, 'obtund': 6, 'elect': 10, 'culmin': 1, 'cytolog': 10, 'toiltet': 1, 'swab': 16, 'recev': 3, 'onward': 1, 'needi': 1, 'outpur': 1, 'susequ': 1, 'displac': 6, 'vf': 2, 'tox': 5, 'vasopessor': 1, 'nipv': 1, 'uprb': 1, 'opt': 3, 'paperwork': 2, 'eu': 2, 'rapidli': 16, 'hack': 1, 'vip': 2, 'scali': 1, 'median': 6, 'workier': 1, 'intrathorac': 9, 'apt': 1, 'actu': 1, 'mo': 4, 'inotor': 1, 'subcarin': 10, 'maximun': 2, 'revea': 1, 'realist': 6, 'osteophytosi': 1, 'careveu': 1, 'inguin': 9, 'colour': 5, 'respi': 2, 'peritrach': 1, 'insur': 11, 'nrbmfor': 1, 'esophag': 25, 'hypobowel': 1, 'retro': 1, 'barrium': 1, 'sternotomi': 13, 'vestra': 1, 'cannt': 1, 'anaplast': 1, 'inutabt': 1, 'noontim': 3, 'dig': 6, 'fluiid': 1, 'enthesopath': 1, 'hight': 1, 'svr': 4, 'largest': 7, 'dat': 1, 'coron': 23, 'anatom': 7, 'tran': 11, 'dosag': 5, 'outgrowth': 1, 'consistanli': 1, 'coexist': 3, 'textur': 5, 'prevascular': 8, 'broaden': 13, 'hida': 4, 'hav': 1, 'harsh': 1, 'fludrocort': 1, 'toelrat': 2, 'cholang': 2, 'gall': 3, 'reconstruct': 7, 'pyret': 1, 'hypoexemia': 1, 'forward': 15, 'elicit': 4, 'succ': 4, 'sic': 1, 'phenylepherin': 1, 'etonom': 1, 'noncontrast': 9, 'smapl': 1, 'sagitt': 22, 'pelvic': 17, 'contra': 1, 'onlin': 1, 'forgetful': 1, 'sling': 1, 'delirium': 16, 'signatur': 19, 'singulair': 1, 'comaprison': 1, 'hypoxemia': 38, 'echymot': 2, 'citalopram': 4, 'polycyst': 2, 'humeru': 3, 'cct': 2, 'jekh': 1, 'nasopharynx': 2, 'cash': 18, 'aricept': 6, 'hcap': 9, 'granuloma': 4, 'lit': 6, 'ramu': 2, 'thallium': 1, 'paf': 3, 'nwb': 1, 'sate': 11, 'asymptommat': 1, 'presenst': 1, 'tortuos': 2, 'exacerb': 18, 'llq': 4, 'resless': 1, 'diovan': 2, 'zyprexa': 4, 'hematocrit': 36, 'spiriva': 2, 'durat': 17, 'headneg': 1, 'demostr': 1, 'acheiv': 2, 'cigarett': 1, 'aortobiiliac': 1, 'humer': 3, 'avf': 11, 'wallet': 17, 'jxrl': 2, 'jewelri': 18, 'money': 18, 'divis': 3, 'cloth': 19, 'innumer': 4, 'intermediu': 3, 'contributori': 4, 'lisinopril': 8, 'asthma': 4, 'wct': 1, 'credit': 19, 'paroxysm': 3, 'sevalam': 1, 'creon': 1, 'flash': 11, 'analysi': 19, 'advair': 3, 'yom': 6, 'discret': 6, 'cardiomedi': 1, 'moreov': 3, 'ppm': 6, 'slh': 1, 'affix': 1, 'adv': 4, 'calcul': 5, 'floflan': 1, 'prec': 1, 'quantiti': 3, 'taler': 1, 'assid': 1, 'diladid': 1, 'viagra': 1, 'tvol': 1, 'sucess': 2, 'ramp': 2, 'exactli': 1, 'straighten': 2, 'millivolt': 1, 'milliamp': 1, 'buck': 4, 'lowest': 5, 'grappel': 1, 'erythemat': 5, 'ceftazdim': 1, 'alvealor': 1, 'creep': 4, 'tof': 3, 'argatroban': 3, 'anxious': 1, 'irrevers': 4, 'flolan': 2, 'swann': 1, 'sclerodactyl': 1, 'vigil': 4, 'asssist': 2, 'overngiht': 1, 'eet': 1, 'acetaminophen': 12, 'unreli': 4, 'nanogram': 1, 'rsr': 5, 'truli': 3, 'onvernight': 1, 'swanganz': 2, 'hemmorrag': 1, 'play': 5, 'excret': 5, 'brachial': 20, 'paramont': 1, 'wbcc': 2, 'lunchtim': 1, 'con': 8, 'corti': 2, 'gingeral': 1, 'imposs': 4, 'hickman': 2, 'certainli': 19, 'pvr': 4, 'adeq': 10, 'dlpic': 1, 'cisatracuriun': 1, 'raw': 3, 'cost': 2, 'loperamid': 1, 'transduc': 4, 'aliv': 5, 'earlob': 2, 'expecter': 1, 'mobilizi': 1, 'nausa': 1, 'nobodi': 1, 'slate': 1, 'crackel': 1, 'variant': 8, 'fick': 3, 'floa': 1, 'itch': 4, 'gastrocult': 1, 'optimum': 1, 'guaic': 7, 'distennd': 1, 'pharmacolog': 5, 'cco': 2, 'de': 8, 'univ': 3, 'ulnar': 2, 'hemostat': 3, 'mgiv': 2, 'hemoptysi': 10, 'svo': 8, 'remedi': 1, 'firn': 1, 'sunday': 5, 'leftward': 9, 'phosphat': 21, 'loger': 1, 'cutur': 1, 'ovisit': 1, 'plaec': 1, 'settong': 1, 'antrum': 7, 'derecruit': 5, 'accumul': 6, 'ccc': 6, 'gyy': 1, 'disconect': 1, 'drainig': 2, 'travers': 6, 'pharmaci': 11, 'sctl': 1, 'pogt': 1, 'neutra': 5, 'aztreonam': 5, 'pancultur': 7, 'nuse': 1, 'parallel': 2, 'aztronem': 1, 'regiment': 3, 'becasu': 1, 'inforc': 2, 'antecubit': 3, 'wil': 4, 'chill': 7, 'crepitu': 7, 'peribronchi': 3, 'comprehens': 3, 'trunk': 4, 'aprrox': 1, 'expand': 13, 'paratrach': 8, 'dissemin': 3, 'capillari': 4, 'ressusit': 1, 'aortopulmon': 1, 'straw': 9, 'nonpapular': 1, 'lucon': 1, 'yello': 1, 'evacu': 3, 'stripe': 1, 'reaccumul': 8, 'wnr': 2, 'aztreonem': 1, 'packet': 3, 'lun': 1, 'hte': 1, 'maint': 10, 'arhythmia': 1, 'hoh': 4, 'ivx': 1, 'huo': 4, 'maex': 1, 'entrant': 1, 'orthodrom': 1, 'pulmunari': 1, 'remind': 8, 'betw': 1, 'psvt': 1, 'vacat': 2, \"huo'\": 1, 'marjor': 1, 'cfm': 1, 'arrythmia': 4, 'agreeabl': 4, 'bsx': 2, 'anyon': 2, 'spit': 2, 'duti': 1, 'announc': 1, 'admittedto': 1, 'ampul': 1, 'outpati': 17, 'db': 8, 'yellowish': 5, 'handl': 4, 'vertic': 4, 'yset': 1, 'pave': 1, 'nrbfm': 2, 'bvmr': 1, 'afebrel': 1, 'peristalsi': 1, 'redistribut': 7, 'restain': 1, 'cluster': 8, 'lag': 2, 'bonchodil': 1, 'nasotrach': 3, 'oout': 1, 'linezolid': 7, 'nervou': 2, 'sesatur': 1, 'hematur': 1, 'paraspin': 2, 'isordil': 2, 'recycl': 2, 'vocal': 6, 'indicatedat': 1, 'sligthli': 1, 'advoc': 3, 'cva': 16, 'oropharnx': 2, 'coat': 3, 'antral': 2, 'hole': 9, 'partli': 9, 'nebx': 1, 'bronchopulomari': 1, 'repolar': 8, 'creami': 6, 'epsiod': 3, 'joke': 1, 'verif': 1, 'clammi': 5, 'snake': 1, 'anim': 3, 'oinment': 1, 'attemtp': 3, 'cong': 2, 'coher': 1, 'flouroscopi': 1, 'tracheal': 10, 'peni': 3, 'omber': 1, 'wetter': 1, 'radiat': 14, 'vace': 1, 'dulcalox': 1, 'duodenum': 9, 'conray': 2, 'volumin': 1, 'assur': 8, 'passag': 2, 'prong': 4, 'inabl': 23, 'thinnish': 1, 'rous': 3, 'permit': 3, 'ssc': 1, 'elsewher': 2, 'lenght': 1, 'nemb': 1, 'incsec': 1, 'gastroduoden': 1, 'plmt': 2, 'consistac': 1, 'aever': 1, 'dubbhoff': 1, 'enzim': 1, 'pro': 5, 'yankuar': 1, 'microneb': 1, \"pvc'\": 1, 'interactiv': 1, 'attmept': 1, 'clearsecret': 1, 'substern': 2, 'orogastrc': 1, 'smoothli': 1, 'linezloid': 1, 'hoff': 1, 'effectof': 1, 'burnt': 1, 'attain': 4, 'npa': 1, 'probmot': 1, 'perc': 6, 'weam': 1, 'intestin': 8, 'tirat': 1, 'spray': 5, 'perman': 3, 'earil': 1, 'indepth': 1, 'neosenephrin': 1, 'abn': 1, 'button': 3, 'boarder': 1, 'ineffectu': 2, 'conditon': 1, 'ration': 3, 'distraught': 2, 'asytol': 3, 'anoxia': 2, 'repsond': 2, 'holiday': 4, 'toungu': 1, 'abrupt': 4, 'belief': 2, 'nsw': 1, 'religi': 3, 'respitatori': 1, 'orthodox': 2, '^peep': 2, 'anox': 3, 'honor': 1, 'solarium': 1, 'reinforc': 6, 'eyelid': 4, 'pta': 8, \"rec'\": 6, 'recept': 2, 'mere': 2, 'increment': 3, 'parent': 4, 'eveninng': 1, \"sx'ing\": 3, 'pulsatil': 2, 'belt': 1, 'sibil': 1, 'collap': 2, 'posey': 2, 'someon': 4, 'orophanyng': 1, 'lean': 4, 'grunt': 2, 'autism': 1, 'dignifi': 1, 'experi': 10, 'peerl': 1, 'uteru': 6, 'sugic': 1, 'aneurysm': 8, 'stab': 1, 'dob': 1, 'adnexa': 3, 'taa': 1, 'endometri': 2, 'oper': 8, 'pem': 1, 'op': 8, 'unresolv': 2, 'nb': 2, 'fibroid': 2, 'bulg': 1, 'obstetr': 1, 'automat': 2, 'endometrium': 1, 'print': 1, 'endovagin': 1, 'intiti': 1, 'respitori': 4, 'varri': 1, 'inexplic': 1, 'backsid': 2, 'cisatracrium': 1, 'physican': 2, 'famil': 4, 'bibap': 1, 'deeper': 2, 'varrifi': 1, 'facemask': 7, 'ansesthesia': 1, 'adendum': 2, 'dur': 1, 'cista': 1, 'indweel': 1, 'somnul': 3, 'ziprasidon': 1, 'recumb': 2, 'aplli': 2, 'plethora': 2, 'generalis': 2, 'lha': 1, 'geodon': 1, 'valproic': 2, 'mom': 5, 'ditiazem': 1, 'lcan': 1, 'avss': 1, 'lbr': 1, 'yesterda': 2, 'abaras': 1, 'imbal': 4, 'dyspnoic': 1, 'whose': 5, 'tanish': 3, 'myeloma': 4, 'obstr': 2, 'analgesia': 6, 'glenohumer': 2, 'cardiopulm': 2, 'prupos': 1, 'physio': 2, 'awaitng': 2, 'repiratori': 2, 'cephal': 9, 'scater': 1, 'occaision': 4, 'microdata': 1, 'cirul': 1, 'sv': 2, 'abomin': 1, 'calor': 2, 'profus': 3, 'adminst': 1, 'btw': 3, 'sucton': 1, 'inadequ': 12, 'incarcer': 2, 'sem': 7, 'intoler': 24, 'dorsal': 6, 'extraordinari': 2, 'carri': 5, 'adam': 3, 'sbo': 7, 'neob': 4, 'wcc': 1, 'repleat': 8, 'simplifi': 1, 'sesi': 1, 'resu': 3, 'understood': 5, 'dysnchronu': 1, 'referr': 14, 'oft': 1, 'flood': 1, 'ciprofloxacin': 13, 'multidisciplinari': 9, 'ascul': 1, 'symptommat': 1, 'nephrotox': 1, 'display': 11, 'mgting': 1, 'coli': 4, 'feurea': 5, 'dismal': 2, 'onu': 1, 'dire': 1, 'sole': 2, 'prop': 4, 'shfit': 1, 'intussuscept': 2, 'declar': 7, 'manifest': 6, 'neighbor': 2, 'rdf': 1, 'persuad': 1, 'ventral': 1, 'obviat': 1, 'repair': 9, 'muddi': 4, 'adhes': 5, 'incision': 1, 'cast': 7, 'hyperdens': 8, 'lymphoprolif': 1, 'splenul': 3, 'transvers': 7, 'intermedi': 4, 'precarin': 3, 'paraaort': 4, 'extralumin': 3, 'annulu': 4, 'tachomyopathi': 1, 'honeycomb': 2, 'reticul': 3, 'sacroiliac': 2, 'transesophag': 3, 'prune': 2, 'mlhh': 1, 'canal': 3, 'interpolar': 3, 'anastomosi': 2, 'clostridium': 5, 'traction': 2, 'mesenter': 15, 'multilevel': 6, 'perihepat': 5, 'helic': 8, 'proctiti': 1, 'hemicolectomi': 2, 'biventricular': 7, 'paracol': 4, 'valvular': 10, 'accordion': 1, 'implic': 7, 'subpleur': 6, 'txpb': 2, 'echocardiographi': 3, 'milk': 3, 'ileocolon': 1, 'tee': 11, 'bronchiectasi': 7, 'subcost': 1, 'prox': 1, 'aortopulmonari': 2, 'aberr': 2, 'gutter': 5, 'gun': 1, 'vasculatur': 12, 'hospitil': 1, 'deflect': 3, 'maxillari': 7, 'moisten': 3, 'pali': 2, 'god': 1, '\\x13pt': 1, 'ambul': 6, \"'sundown\": 1, 'unbroken': 4, 'swollow': 1, 'awil': 1, 'epiglott': 3, 'bnp': 9, 'witch': 1, 'od': 5, 'statement': 1, 'laser': 1, 'kill': 3, 'slightl': 1, 'illicit': 3, 'explainig': 1, 'aao': 5, 'subarachnoid': 1, 'psychiatri': 2, 'slowley': 1, 'produst': 1, 'dayshift': 3, 'strategi': 3, 'metopolol': 1, 'hose': 1, 'hyperchol': 1, 'upt': 2, 'pleasantli': 1, 'duoguard': 1, 'tranfer': 1, 'silent': 2, \"po'\": 2, \"piv'\": 1, 'vna': 7, 'piperacillin': 36, 'ronchoru': 1, 'explor': 3, 'rtn': 1, 'insist': 3, 'drwn': 1, 'biapic': 3, 'sete': 1, 'lobectomi': 5, 'hila': 4, 'grew': 6, 'simethicon': 3, 'agigt': 1, 'tab': 9, 'bibpap': 2, 'rhonchou': 2, 'tub': 1, 'eccessori': 1, 'interest': 13, \"cc'sfor\": 1, 'repsir': 2, 'resend': 4, 'strep': 4, 'pngt': 4, 'disagre': 1, 'abil': 16, 'perhap': 15, 'scare': 4, 'notitifi': 1, 'levoflaxacin': 1, 'morin': 1, 'entireti': 2, 'requr': 4, 'mulleri': 1, 'propfol': 2, 'diflucan': 4, 'outcv': 1, 'guaz': 1, 'immediatli': 1, 'racem': 1, 'cocyx': 2, 'tb': 5, 'relay': 4, 'heliox': 4, 'svn': 1, 'conctact': 1, 'sharpli': 3, 'arway': 1, 'skincar': 2, 'tachycarid': 1, 'thrust': 1, 'bp^': 1, 'remanin': 1, 'fetanyl': 2, 'integu': 3, 'orogastr': 13, 'emper': 3, 'contigu': 16, 'abi': 1, 'tyelenol': 1, 'supsect': 1, 'lifestyl': 1, 'vege': 1, 'foreign': 4, 'methadon': 5, 'ginger': 1, 'kal': 1, 'metatars': 1, 'hyoptens': 1, 'triphas': 1, 'harrt': 2, 'quietli': 1, 'jvd': 10, 'ring': 6, 'synergi': 1, 'ankl': 10, 'prosthet': 2, 'thrill': 2, 'reform': 12, 'articular': 1, 'hydralain': 1, 'endors': 3, 'dilauidid': 1, 'suspician': 2, 'suppl': 13, 'immunosuppress': 4, 'fsg': 3, 'regurg': 6, 'lesser': 6, 'dorsum': 1, 'musculatur': 2, 'mmp': 2, 'surveil': 5, 'imping': 2, 'veloc': 7, 'specium': 1, 'embol': 19, 'mycot': 1, 'haart': 4, 'hsq': 1, 'hyperparathyroid': 3, 'osteolyt': 4, 'tbili': 3, 'guiaic': 4, 'amlodipin': 5, 'veg': 2, 'deem': 4, 'hbv': 1, 'adat': 2, 'sevelam': 1, 'antihypertens': 9, 'osteoblast': 3, 'throb': 1, 'nephropathi': 3, 'echodens': 1, 'osteoarthr': 4, 'macrovascular': 1, 'subchondr': 2, 'cinacalcet': 1, 'heb': 1, 'candidaci': 2, 'illeu': 3, 'hepatosplenomegali': 1, 'viridan': 1, 'fsgn': 1, 'anerysm': 1, 'circumscrib': 1, 'cxwc': 4, 'favor': 12, 'soleu': 1, 'csurg': 1, 'serolog': 2, 'embolu': 12, 'plafond': 1, 'ucx': 14, 'futil': 4, 'cachect': 3, 'nephrocap': 1, 'bruit': 5, 'hcv': 6, 'asciti': 4, 'myositi': 1, 'sfyb': 1, 'circumferenti': 2, 'dehisc': 3, 'decompress': 7, 'ale': 1, 'mssa': 5, 'qhd': 1, 'ht': 3, 'narrow': 18, 'tibial': 9, 'bmi': 10, 'tazobactam': 28, 'nerv': 7, 'emboli': 7, 'carbon': 8, 'ersd': 1, 'bioprosthet': 2, 'flexor': 1, 'ln': 3, 'hopsic': 1, 'pve': 1, 'erythema': 7, 'trochant': 1, 'dehiss': 1, 'commod': 4, 'lbp': 1, 'ao': 2, 'admisison': 1, 'multidetector': 9, 'vegit': 2, 'avr': 6, 'leni': 8, 'splenomegali': 3, 'cellul': 2, 'tendernss': 1, 'osteo': 2, 'rim': 2, 'rock': 1, 'tu': 1, 'tibiotalar': 1, 'monophas': 1, 'malnutrit': 15, 'urosepsi': 5, 'entub': 1, 'cardimeg': 1, 'roughli': 5, 'gelfoam': 1, 'agonol': 1, 'clearifi': 1, 'venti': 1, 'parament': 1, 'stimilu': 1, 'reso': 1, 'brachiocephal': 17, 'coverd': 1, 'perpendicular': 1, 'diverticulosi': 4, 'continun': 1, 'pericol': 1, 'leukemia': 4, 'pretrach': 5, 'bisacodyl': 8, 'pluggi': 2, 'vista': 2, 'hydroxyea': 1, 'dietari': 1, 'cortic': 7, 'serum': 19, 'ectat': 1, 'catheter': 2, 'perpl': 1, 'dudoderm': 1, 'glucomet': 2, 'asysol': 1, 'cml': 1, 'sauc': 4, 'tcl': 1, 'tamer': 1, 'xx': 1, 'agb': 2, 'toleart': 2, 'wegen': 1, 'rp': 2, 'thk': 1, 'perisplen': 3, 'blastic': 8, 'coxxyx': 1, 'csf': 3, 'standbi': 5, 'cepetim': 1, 'skull': 7, 'prismat': 1, 'reinstitut': 2, 'dimin': 2, 'cerebellar': 4, 'thalamu': 1, 'diverticul': 4, 'dialzi': 1, 'vertex': 5, 'cmml': 1, 'aros': 2, 'hiflo': 2, 'signifc': 2, 'bronchscopi': 1, 'avblock': 1, 'norvsasc': 1, 'lucenc': 11, 'nimv': 4, 'wegner': 1, 'lsubclavian': 1, 'currentl': 3, 'velcro': 1, 'steadi': 5, 'diffficult': 1, 'ocmmand': 1, 'paravertebr': 2, '^^rr': 2, 'angiopathi': 1, 'ry': 1, 'preliminarili': 3, 'hed': 1, 'mechaniclli': 1, 'misc': 1, 'copoiu': 1, 'peopl': 5, 'rose': 5, 'ttube': 1, 'misshapen': 1, 'cchour': 1, 'fleck': 1, 'trophic': 2, 'laparotomi': 1, 'chage': 2, 'onthi': 2, 'exploratori': 1, 'insens': 4, 'chagn': 1, 'volulm': 1, 'nted': 1, 'hemocult': 1, 'esp': 11, \"mod't\": 1, 'beig': 2, 'noi': 1, 'deciscion': 1, 'suspend': 2, 'fli': 5, 'adenoca': 1, 'remot': 4, 'megac': 1, 'est': 3, 'sched': 2, 'hydral': 5, 'cholesterol': 2, 'rhochor': 3, 'inhibitor': 5, 'rhytham': 1, 'plerual': 3, 'nonsens': 2, 'redirect': 2, 'nli': 1, 'abdoment': 1, 'aforement': 2, 'humid': 2, 'ace': 9, 'zoysn': 3, 'dinner': 5, 'cereal': 1, 'clonazapam': 1, 'fed': 3, 'calori': 16, 'omelett': 1, 'reclin': 1, 'wehen': 1, 'boyfriend': 1, 'ceftazidim': 4, 'eccymosi': 2, 'taketsubo': 1, 'ofr': 1, 'boy': 1, 'ventiltori': 1, \"'sst\": 1, 'rnoc': 1, 'humolog': 1, 'requirinf': 1, 'isnp': 1, 'consentr': 1, 'conjuct': 1, 'asympt': 1, 'flacid': 3, 'hotel': 2, 'multivessel': 2, 'htd': 1, 'kilo': 1, 'ceftriax': 1, 'perifer': 1, 'diaphoresi': 2, 'rouseabl': 1, 'ys': 1, 'appopri': 1, 'thormbu': 1, 'church': 1, 'suppos': 6, 'school': 2, 'dobuta': 2, 'profilax': 1, 'toenail': 2, 'yhesterday': 1, 'howevet': 1, 'prophalact': 1, 'reqir': 1, 'perirect': 2, '^wbc': 1, 'tepid': 2, 'sydron': 1, 'responc': 2, 'vese': 2, 'rigor': 1, 'esoph': 4, 'insid': 4, 'dysynchron': 9, 'manoeuv': 1, 'prioriti': 11, 'lpew': 1, 'tma': 1, 'dilantin': 4, 'flextub': 1, 'oygen': 1, 'vasporessin': 1, 'spare': 12, 'zoysyn': 1, 'redress': 4, 'decret': 1, 'forth': 5, 'anasrca': 1, 'sluggishli': 6, 'anascara': 2, 'phenytoin': 2, 'rescuscit': 2, 'intermittint': 1, 'parametr': 1, 'classif': 1, 'duoden': 4, 'craniotomi': 2, 'snx': 5, 'lovenox': 4, 'unrealist': 2, 'oliguria': 7, 'pinsp': 2, 'orallli': 1, 'relev': 27, 'besid': 4, 'trazadon': 3, 'systolicali': 1, 'fluoroquinolon': 1, 'spill': 1, 'unplan': 3, 'trand': 1, 'epitheli': 11, 'viscou': 1, 'lingual': 3, 'unmetabol': 1, 'fluent': 3, 'crf': 4, 'tsp': 4, 'stabli': 3, 'inspiratori': 19, 'extubat': 2, 'labial': 2, 'reexpand': 1, 'cpcp': 2, 'couas': 1, 'furosemid': 18, 'clonic': 1, 'outstand': 1, 'hgb': 21, 'hemodynamicli': 1, 'risbi': 3, 'apici': 1, 'doxercalciferol': 1, 'pivx': 1, 'blous': 6, 'pmn': 15, 'bisbi': 1, 'suffici': 9, 'workup': 10, 'certain': 2, 'threshold': 10, 'calmer': 1, 'mmv': 5, 'py': 1, 'rhythmic': 1, 'benefif': 1, 'share': 7, 'aphonia': 1, 'ramya': 2, 'phlegm': 1, 'nasaotrach': 1, 'dwindl': 2, 'acoust': 6, 'engag': 3, 'mucin': 1, 'phosphor': 1, 'unwil': 2, 'mastic': 2, 'oa': 1, 'buccal': 2, 'gfr': 4, 'arestraint': 1, 'lighten': 11, 'claim': 15, 'retri': 4, 'motor': 5, 'cipso': 1, 'ctab': 7, 'disorient': 2, 'whiteout': 1, 'dial': 2, 'protrus': 1, 'parathyroid': 1, 'hypothyroid': 11, 'cup': 1, 'email': 6, 'cautious': 1, 'levothyroxin': 5, 'establish': 11, 'pallait': 1, 'occurr': 3, 'reproduc': 1, 'tetracyclin': 2, 'foi': 2, 'rebronch': 1, 'intellig': 1, 'hld': 1, 'conserv': 4, 'labetalol': 2, 'inappropri': 6, 'attg': 2, 'bronchiti': 4, 'dyston': 2, 'propafol': 5, 'endobronchi': 4, 'shadow': 8, 'suspiciion': 1, 'holosyst': 2, 'azithro': 8, 'bedsight': 1, 'facet': 2, 'consequ': 7, 'binder': 5, 'rlsb': 1, 'thirsti': 2, 'mouthcar': 5, 'underestim': 6, 'reattempt': 4, 'labatolol': 1, 'dentur': 5, 'edentul': 2, 'etio': 1, 'narc': 2, 'gestur': 4, 'aaa': 3, 'labetolol': 2, 'secretin': 1, 'ctx': 3, 'strict': 7, 'tob': 2, 'context': 8, 'seat': 5, 'clonu': 5, 'holosystol': 1, 'slp': 7, 'uid': 1, 'transaort': 2, 'distens': 10, 'destruct': 4, 'scleroderma': 1, 'submit': 8, 'intramur': 1, 'dysmotil': 2, 'reflux': 6, 'ipf': 12, 'cerebrovascular': 2, 'version': 7, 'usip': 1, 'collagen': 1, 'reticular': 10, 'hyxpoxia': 1, 'instrument': 2, 'lumbar': 12, 'proven': 1, 'congenit': 3, 'tia': 2, 'boop': 4, 'construct': 2, 'bore': 5, 'uip': 1, 'transplan': 1, 'recon': 10, 'pfo': 7, 'microbubbl': 2, 'arthroplasti': 3, 'rhythym': 1, 'incred': 1, 'spastic': 1, 'goodby': 7, 'curtain': 1, 'claustrophob': 1, 'nitrat': 2, 'claustrophobia': 1, 'sedement': 1, 'debat': 2, 'furthermor': 2, 'hallucin': 3, 'tapper': 2, 'pullback': 1, 'maitain': 2, 'cheeck': 1, 'increasd': 2, 'revisit': 4, 'polit': 1, 'achill': 1, 'perf': 4, 'initiali': 2, 'teradyn': 1, 'repost': 1, 'firmer': 2, 'heavili': 5, 'ccn': 4, 'bleb': 2, 'oxa': 2, 'setti': 1, 'ioc': 1, 'tramua': 1, 'idiopath': 4, 'collaber': 1, 'degress': 1, 'deepli': 2, 'chanag': 1, 'pf': 3, \"sx'ng\": 2, 'frequ': 2, 'big': 8, 'rap': 1, 'rhonchour': 2, 'brn': 2, 'alsdo': 1, 'aova': 2, 'hygen': 2, 'cataract': 5, 'rhoncor': 5, 'tten': 1, 'secreiton': 2, 'allevi': 5, 'wih': 1, 'osteoarthrit': 1, 'preceed': 1, 'hyperkalem': 3, 'notif': 5, 'eventaulli': 1, 'drng': 3, 'receeiv': 1, 'fic': 1, 'pararen': 2, 'mattess': 1, 'pateitn': 1, 'appov': 1, 'adden': 1, 'iwth': 1, 'norvasc': 2, 'beginnng': 1, 'withdrew': 3, 'verga': 1, 'thalam': 1, 'levofloxin': 3, 'cavum': 1, 'eitiolog': 1, 'curvilinear': 2, 'ppf': 1, 'urolog': 4, 'flank': 8, 'unsuit': 1, 'redos': 4, 'meatu': 5, 'twave': 2, 'un': 3, 'stg': 4, 'trendelenberg': 2, 'vre': 6, 'resit': 9, 'unopacifi': 1, 'worsend': 2, 'irrigatioin': 1, 'invert': 1, 'absorpt': 5, 'pellucidum': 1, 'balalnc': 1, 'pleasa': 1, 'allerg': 3, 'rc': 1, 'fasicul': 1, 'asbestosi': 1, 'beginni': 1, 'lenticulostri': 1, 'thr': 1, 'hemiparasi': 1, 'arrous': 3, 'adnex': 1, 'hemiarthroplasti': 1, 'ecchymos': 5, 'scopalamin': 4, 'muffl': 1, 'drew': 1, 'rhinorrhea': 1, 'mmm': 10, 'detrol': 2, 'cor': 4, 'assoc': 4, 'mening': 6, 'cement': 1, 'ingest': 3, 'qh': 6, 'plantar': 1, 'tsh': 7, 'indetermin': 12, 'unresponsiv': 1, 'menopaus': 1, 'romi': 1, 'rm': 1, 'disloc': 4, 'seroquel': 2, 'unarous': 4, 'atheroma': 3, 'align': 2, 'sma': 3, 'atalectasi': 2, 'requier': 2, 'gb': 5, 'lp': 5, 'lbbb': 2, 'gonad': 1, 'electrocauderi': 1, 'hemiparesi': 3, 'appendix': 4, 'heterotop': 2, 'hsm': 8, 'downgo': 1, 'varic': 7, 'egd': 7, 'contractur': 1, 'infxn': 2, 'stair': 3, 'nsaid': 2, 'doubt': 9, 'groan': 2, 'yof': 5, 'usoh': 3, 'imi': 1, 'orif': 2, 'qt': 3, 'antimicrobi': 11, 'guardianship': 2, 'vaso': 3, 'uppon': 1, 'ovb': 2, 'tobra': 5, 'therapeuitc': 1, 'pendn': 1, 'escol': 1, 'offici': 7, 'doputamin': 1, 'paraplegia': 1, 'thta': 2, 'underway': 3, 'vasoppresin': 1, 'monitoirng': 1, 'dssg': 1, 'flexacil': 1, 'cllose': 1, 'miltipl': 2, 'uint': 1, 'tobro': 1, 'comand': 2, 'uit': 1, 'unbal': 1, 'pupl': 2, 'tobromycin': 1, 'transf': 1, 'program': 7, 'zocyn': 2, 'bicar': 1, 'lvel': 1, 'cotn': 1, 'surrog': 2, 'befriend': 1, 'vasopresin': 2, 'sclca': 1, 'calc': 20, 'sclc': 1, 'glucan': 8, 'interdisciplinari': 14, 'tmp': 8, 'annoint': 1, 'hemodynim': 16, 'exfoli': 1, 'hemorrag': 1, 'arthriti': 6, 'droppedfrom': 1, 'digoxin': 9, 'denial': 2, 'nab': 5, 'xrt': 7, 'newest': 1, 'protinx': 1, 'conveni': 1, 'bless': 3, 'galactomannan': 7, 'writer': 2, 'sedtat': 2, 'gout': 6, 'enorm': 1, 'plot': 2, 'dissect': 6, 'fing': 1, 'smx': 7, 'excess': 11, 'rectobulbar': 1, 'presumpt': 3, 'wgt': 17, 'gola': 1, 'magnet': 2, 'icd': 5, 'effectivli': 1, 'mth': 2, 'rite': 4, 'peteci': 1, 'ignor': 1, 'love': 4, 'celexa': 2, 'harm': 6, 'stepson': 1, 'levofoxacin': 1, 'fentayl': 3, 'holder': 2, 'kind': 1, 'elderi': 1, 'zocor': 2, 'bee': 8, 'petechia': 7, 'formula': 9, 'alkalin': 15, 'vtachi': 2, 'allopurinol': 6, 'lyphanget': 1, 'infra': 1, 'auto': 7, 'rheumatoid': 4, 'retent': 7, 'lipidemia': 1, 'ringworm': 1, 'score': 5, 'portacath': 4, 'migrat': 6, 'oliguricb': 1, 'clarif': 5, 'cracker': 1, 'transud': 6, 'hilum': 2, 'puffer': 1, 'thoracetesi': 1, 'articl': 2, \"'abl\": 1, 'postsurg': 2, 'lla': 1, 'frop': 1, 'lefloxin': 1, \"pt'scode\": 1, 'rewuir': 1, 'trnasport': 1, 'propopfol': 1, 'speciman': 1, 'whne': 2, 'dilut': 4, 'thouhg': 1, 'diltizem': 1, 'mulitsystem': 1, 'bend': 2, 'lawyer': 2, 'hydroneprosi': 1, 'cult': 8, 'bifurc': 2, 'tortous': 1, 'diapragmat': 1, 'thorocolumbar': 1, 'vd': 1, 'doen': 3, 'eechymot': 1, 'diaphragmat': 4, 'ectasia': 1, 'cecal': 1, 'fatti': 1, 'predomiantli': 1, 'retrocrur': 1, 'acuta': 1, 'zithromax': 1, 'aneursym': 1, 'stoic': 1, 'manner': 4, 'lipoma': 1, 'ceftrix': 1, 'vistit': 1, 'icechip': 1, 'privaci': 2, 'network': 1, 'tobramycin': 3, 'wquickli': 1, 'verapmil': 1, 'interfac': 1, 'calvarium': 3, 'ordor': 1, 'therapuet': 1, 'occai': 1, 'consolida': 1, 'succinocholynin': 1, 'dgt': 1, 'amirion': 1, 'rpc': 2, 'cld': 1, 'supra': 7, 'hemobilia': 1, 'ttp': 2, 'plasmaforesi': 1, 'reconsult': 5, 'blur': 4, 'widen': 15, 'reass': 2, 'trap': 5, 'thoracoabdomin': 2, 'derterior': 1, 'vicari': 2, 'lral': 1, 'act': 12, 'wise': 5, 'procan': 1, 'roll': 5, 'plasmapheresi': 1, 'activitiy': 1, 'mard': 1, 'rlower': 1, 'midlung': 1, 'browni': 1, 'urpc': 1, 'zantac': 1, 'inceas': 1, 'aystol': 1, 'gaseou': 2, 'hemetolog': 1, 'hematuria': 7, 'gvien': 2, 'tolerta': 1, 'remian': 5, 'suscept': 3, 'blod': 2, 'oversed': 1, 'enrout': 2, 'dilatin': 2, 'tympan': 3, 'retart': 1, 'furhter': 3, 'fifth': 3, 'scapula': 3, 'siezur': 2, 'amniodoron': 1, 'ri': 1, 'inqueri': 1, 'rsstraint': 1, 'nbr': 1, 'provit': 1, 'plasma': 2, 'ittp': 1, 'fosphenytoin': 1, 'amniodaron': 2, 'benigh': 1, 'pearla': 2, 'eyebrow': 2, 'verapimil': 1, 'multilobular': 2, 'reactiven': 1, 'oxygent': 3, 'hypernatrium': 1, 'miantain': 1, 'cat': 6, 'ser': 1, 'dialntin': 1, 'frig': 1, 'thread': 1, \"'girgl\": 1, 'cotinu': 1, 'realtim': 2, 'qtc': 3, 'fluor': 1, 'tema': 1, 'dryness': 1, 'proovid': 1, 'fmaili': 3, 'scopolimin': 1, 'stack': 4, 'tubefe': 5, 'stoke': 3, 'angiographi': 5, 'ativna': 1, 'schiz': 1, 'curent': 2, 'suitabl': 4, 'montitor': 3, 'statlock': 2, 'hardcopi': 1, 'chol': 3, 'ej': 3, 'basicali': 1, 'spontaneuosli': 1, 'reschedul': 2, 'smile': 2, 'everyon': 2, 'dissapoint': 1, 'supratherapeut': 9, 'enhans': 1, 'nibp': 7, 'disciplanari': 1, 'yankeaur': 1, 'surpriz': 1, 'tyre': 1, 'elbow': 9, 'sing': 1, 'feud': 1, 'movent': 1, 'fentynl': 1, 'eight': 3, 'pneumotho': 1, 'periarea': 1, 'figur': 3, 'lght': 1, 'busi': 1, 'thoracenthesi': 1, 'reexpans': 2, 'anzimet': 1, 'cardia': 2, 'suter': 1, 'yankuer': 1, 'yanker': 1, 'tuesday': 9, 'remainpt': 1, 'brochoscopi': 2, 'dequat': 1, 'fusion': 3, 'bronchoscpi': 1, 'vomitinig': 1, 'creme': 2, 'otherw': 1, 'mimin': 1, 'pdr': 1, 'thck': 1, 'topler': 1, 'respiratorey': 1, 'dangl': 2, 'thorencentesi': 2, 'fentaynl': 1, 'anasthesia': 1, 'precept': 2, 'error': 6, 'pleuvex': 1, 'saliv': 1, 'mim': 1, 'diaph': 1, 'myconazol': 1, 'supposrt': 1, 'mechinc': 1, 'bipsi': 1, 'underpenetr': 7, 'nysatin': 1, 'pipricillin': 1, 'conclud': 1, 'quesstion': 1, 'miconizol': 1, 'rtespiratori': 1, 'ascult': 2, 'mitrazol': 1, 'dime': 1, 'miconazol': 4, 'thicker': 3, 'hemonc': 1, 'chardt': 1, 'peaceabl': 1, 'chaqng': 1, 'pleurex': 1, 'avg': 3, 'abtout': 1, '^st': 6, 'dmfj': 1, 'ablat': 5, 'ventricularli': 1, 'defecit': 2, 'thrombophilia': 1, 'thrombos': 2, 'mellitu': 3, 'academia': 2, 'exhal': 13, 'ethanol': 1, 'ddd': 2, 'thrombi': 3, 'lopresor': 1, 'vasculariz': 1, 'thrombo': 1, 'vivonex': 3, 'research': 2, '^nd': 8, 'fossa': 7, 'meningioma': 2, 'polar': 1, 'rhythem': 1, 'appendag': 3, 'nonhemorrhag': 2, 'dermatolog': 1, 'reconsclip': 1, 'hocm': 1, 'thrombot': 3, 'smv': 2, 'hypercoagul': 1, 'miner': 10, 'fibersourc': 7, 'timecours': 1, 'glaucoma': 2, \"jxn'al\": 1, 'pyuria': 3, 'strike': 1, 'restor': 1, 'ich': 5, 'ubw': 1, 'sg': 1, 'atherosclerosi': 4, 'aksb': 1, 'metavis': 12, 'boluss': 1, 'supertherapeut': 1, 'hemispher': 1, 'microb': 1, 'stasi': 4, 'author': 3, 'pepcid': 6, 'descript': 7, 'aa': 5, 'hn': 9, 'lamina': 2, 'nkfa': 4, 'hypocalor': 5, 'massag': 5, 'ecoli': 4, 'gluos': 1, 'multivitamin': 10, 'pendin': 1, 'rythem': 1, 'season': 1, 'ggt': 7, 'proteu': 2, 'papyracea': 1, 'revert': 2, 'hyperventil': 3, 'phynelephrin': 1, 'methgb': 1, 'hypertroph': 3, 'viscer': 2, 'dlrc': 3, 'cutoff': 1, 'suppli': 6, 'hiss': 14, 'superven': 6, 'thrombolysi': 1, 'suberb': 1, 'diabet': 14, 'warrant': 5, 'characterist': 2, 'evolut': 6, 'fot': 1, 'sundown': 1, 'subtl': 6, 'initailli': 1, 'lordot': 3, 'visisbilti': 1, 'memeori': 1, 'throw': 3, 'vest': 1, 'gown': 1, 'appropiatelt': 1, 'alzheim': 9, 'parapelv': 1, 'stromal': 1, 'hasten': 1, 'taneous': 1, 'hemiabdomen': 1, 'lobul': 2, 'abcess': 5, 'debil': 2, 'uret': 3, 'mesenchym': 1, 'str': 2, 'oldest': 1, 'tree': 11, 'adamantli': 1, 'duplic': 3, 'comprehend': 3, 'collasp': 1, 'greatest': 2, 'kyphosi': 3, 'outer': 3, 'pleath': 1, 'distanc': 3, 'fourth': 2, 'crement': 1, 'lucid': 1, 'coar': 2, 'prsentli': 1, 'gentl': 16, 'ride': 1, 'group': 3, 'oi': 2, 'gpt': 1, 'afb': 6, 'stagger': 1, 'ultrasonograph': 2, 'mtp': 1, 'periost': 1, 'obl': 1, 'bronchiol': 2, 'susp': 1, 'calcaneu': 1, 'cloog': 1, 'levetiracetam': 2, 'azythromycin': 2, 'gluteu': 1, 'chiba': 1, 'disp': 3, 'collectio': 1, 'phonecal': 2, 'malleolu': 1, 'hypottherm': 1, 'hyperglycem': 2, 'mrcp': 3, 'px': 1, 'gastrojejunostomi': 1, 'minimu': 1, 'bound': 6, 'incluc': 1, 'ossif': 2, 'collim': 5, 'lucent': 3, 'pnacreat': 1, 'plactment': 1, 'centrilobular': 3, 'osteomyel': 2, 'desk': 1, 'fragment': 4, 'recc': 2, 'eros': 1, 'marker': 7, 'uncin': 1, 'aspit': 1, 'brisckli': 1, 'fibrothorax': 1, 'regad': 1, 'swalow': 1, 'drool': 2, 'potato': 1, 'cs': 1, \"treatments'\": 1, 'hemorrhoid': 1, 'pleura': 4, 'mash': 1, 'lfa': 1, 'jello': 3, 'manger': 2, 'dicuss': 1, 'gait': 4, 'rewarm': 1, 'dexamethason': 3, 'veyr': 1, 'disynchron': 3, 'subsegment': 11, 'pacu': 1, 'mmcg': 1, 'bleo': 1, 'bleomycin': 1, 'tact': 2, 'twelfth': 1, 'caontact': 1, 'brow': 1, 'hodgkin': 3, 'univers': 1, 'ivabx': 1, 'critacar': 1, 'formul': 3, 'pleuro': 1, 'optimist': 1, 'tablet': 4, 'wasd': 1, 'rs': 1, 'shr': 1, 'fleet': 4, 'cisat': 1, 'damag': 4, 'fibrot': 8, 'furrow': 1, 'contini': 3, 'plavix': 3, 'tachard': 1, 'serosangin': 2, 'intermitantli': 1, 'ever': 3, 'occat': 3, 'seveer': 1, 'cisatricurium': 2, 'fold': 8, 'olanzapin': 1, 'synchroni': 3, 'slightest': 1, 'tachypnia': 1, 'attack': 3, 'xfew': 1, 'lymphpma': 1, 'similarli': 1, 'aveolar': 2, 'hodgekin': 1, 'tomm': 1, 'regain': 4, 'pipercillin': 1, 'hypotnes': 1, 'seemd': 1, 'tachyp': 1, 'inconti': 1, 'correctli': 4, 'critcaid': 1, 'methylprednisolon': 10, 'isoridl': 1, 'whe': 1, 'perian': 3, 'reuslt': 1, 'trnasfer': 1, 'sixth': 2, 'assessori': 1, 'mophin': 1, 'anal': 3, 'pediatr': 1, 'afteran': 1, 'brath': 2, 'reinit': 1, 'countri': 1, 'aspirt': 1, 'donat': 3, 'coasr': 1, 'nitroglycerin': 1, 'dowm': 1, 'bilaterali': 1, 'hydrocrtison': 1, 'perm': 2, 'stitch': 1, 'mobilazt': 1, 'aureu': 4, 'thrash': 3, 'pronoun': 1, 'restlessli': 1, 'treatement': 4, 'outcom': 8, 'bij': 1, 'shave': 2, 'index': 6, 'tpiec': 1, 'midazolm': 1, 'rssi': 2, 'urea': 1, 'placemnt': 2, 'secrect': 3, 'gastroccult': 3, 'tylenon': 1, 'dloppler': 1, 'ocassion': 1, 'resdiual': 2, 'pariet': 3, 'nucleu': 1, 'sennakot': 1, 'glycerin': 1, 'hemmerroid': 1, 'milrinon': 2, 'nif': 4, 'predomin': 8, 'subacut': 4, 'pg': 1, 'pericardiocentesi': 1, 'ativn': 1, 'scatt': 1, 'pericarid': 1, 'melanoma': 3, 'compazin': 5, 'porli': 1, 'tke': 1, 'cheynn': 1, 'bereav': 2, 'melenoma': 2, 'likley': 5, 'smal': 2, 'evalul': 1, 'breakthrough': 4, 'whatev': 2, 'ahead': 3, 'crack': 1, 'eaten': 1, 'goven': 1, 'music': 2, 'pnuemonia': 4, 'legthargi': 1, 'disregard': 2, 'etoh': 7, 'codien': 1, 'bigemin': 1, 'imrpvo': 1, 'boul': 1, 'drank': 2, 'urbc': 1, 'ugi': 2, 'clench': 1, 'systesm': 1, 'ativanand': 1, 'explanatori': 1, 'counsel': 3, 'postprocedur': 1, 'metab': 2, 'intrathor': 1, 'vi': 6, 'dng': 3, 'slighti': 2, 'caraf': 1, 'flucoazol': 1, 'overview': 1, 'sson': 1, 'cultu': 1, 'endur': 2, 'neget': 1, 'pullup': 1, 'rhoncii': 2, 'imipenum': 1, 'prescrib': 5, 'solubl': 1, 'progrerss': 1, 'transposit': 1, 'patednt': 1, 'incorrect': 2, 'select': 4, 'drainin': 1, 'pulsesd': 1, 'possilb': 1, 'pig': 2, 'autodiur': 1, 'pluera': 1, 'autodiures': 5, 'gastroesophagectomi': 1, 'heparn': 1, 'clonidin': 1, 'amen': 4, 'egg': 1, 'gym': 1, 'anastomot': 1, 'reattach': 1, 'underwat': 1, 'shotti': 1, 'consistenli': 2, 'lwst': 1, '^^hr': 1, 'bsp': 1, 'withi': 1, 'bpsupport': 1, 'imipenim': 1, 'soundsa': 1, 'bibasilarri': 1, 'suff': 1, 'osm': 2, 'assst': 1, 'mgsulfat': 2, 'gentamicin': 4, 'recommn': 1, 'fd': 1, 'hydropneumothorax': 3, 'monito': 2, 'aspriat': 1, 'electrolt': 1, 'abt': 3, 'csl': 1, 'eager': 1, 'lgt': 1, 'esophagogastrostomi': 1, 'sytsem': 1, 'yanquer': 1, 'soflti': 1, 'electroyt': 1, 'extravas': 2, 'diluadid': 2, 'autodiuresi': 3, 'reuir': 1, 'unmeasur': 1, 'accident': 2, 'icnreas': 1, 'cark': 1, 'knick': 1, 'sa': 4, 'news': 5, 'endoscopi': 8, 'vecuronium': 5, 'imipenem': 2, 'patentci': 2, 'pee': 1, 'irregularli': 3, 'theradyn': 1, 'plueravac': 1, 'stream': 1, 'sucralf': 1, 'vor': 1, 'tachynepn': 1, 'dilit': 2, 'clearl': 1, 'esophagogastrectomi': 1, 'feoli': 1, 'eposid': 1, 'pike': 2, 'inci': 1, 'pullthrough': 2, 'hepar': 3, 'decomens': 1, 'amnio': 1, 'ectpoy': 1, 'foloow': 1, 'amioderon': 5, 'northern': 1, 'noectopi': 1, 'mechanicli': 1, 'membership': 1, 'caglucon': 1, 'fluib': 1, 'comnt': 1, 'hepatin': 1, 'north': 1, 'cahng': 1, 'transpos': 1, 'btf': 1, 'pahco': 1, 'coun': 1, 'pleurovac': 1, 'esophogram': 1, 'diaphort': 1, 'persit': 1, 'imtermitt': 1, 'feso': 1, 'willprob': 1, 'swing': 2, 'cous': 1, 'tail': 4, 'subpulmonari': 1, 'freqnent': 1, 'jtube': 3, 'joul': 2, 'consutl': 1, 'mechanicali': 1, 'dt': 3, 'adenoma': 3, 'genta': 2, 'tag': 1, 'scout': 3, 'lovefloxacin': 1, 'scope': 6, 'bldi': 4, 'pooli': 1, \"'boston\": 1, 'disregaurd': 1, 'chck': 1, 'activit': 1, 'quaniti': 1, 'scalpel': 1, 'innomin': 2, 'fistul': 1, 'epogen': 1, 'intacat': 1, 'pen': 1, 'yellw': 1, 'afcter': 1, 'primaxin': 1, 'fibr': 1, 'ele': 1, 'threadi': 1, 'discoordiant': 1, 'adenosen': 1, 'blank': 1, 'hnh': 1, 'smell': 3, 'vc': 1, 'cg': 3, 'mgnt': 1, 'multidisiciplinari': 1, 'hydrox': 1, 'mainta': 3, 'fluctutaion': 1, 'periodci': 1, 'nruse': 1, 'creptiu': 1, 'wtih': 3, 'ceftazidin': 1, 'ant': 12, 'cmg': 1, 'fentantyl': 1, 'acisosi': 1, 'seed': 2, 'thorcoscopi': 1, 'fluctut': 1, 'liber': 4, 'jepard': 1, 'hyperphosphatemia': 1, 'oncom': 1, 'subcut': 1, 'trahc': 1, 'radal': 1, 'sarna': 1, 'kink': 4, 'plcmt': 2, 'toadi': 1, 'oo': 1, 'positv': 2, 'pxcr': 1, 'oxacillin': 2, 'sersang': 2, 'reolv': 1, 'lotion': 3, 'ceftazadim': 2, 'sanguini': 1, 'crepidu': 1, 'eextrem': 1, 'lacter': 1, 'insulingtt': 1, 'replt': 1, 'lasux': 1, 'subcuta': 1, 'heater': 1, 'behaviour': 1, 'orderd': 3, 'waters': 5, 'lax': 1, 'activti': 1, 'shot': 2, 'regist': 3, 'bactroban': 1, 'omg': 1, 'slather': 1, 'metabil': 1, 'givent': 2, 'airleak': 2, 'biat': 1, 'wavefrom': 1, 'thorascopi': 1, 'inquiri': 2, 'elastoplast': 1, 'aluminum': 1, 'exclus': 3, 'coordin': 7, 'bllod': 1, 'scoot': 1, 'bactoban': 1, 'untoward': 2, 'cw': 1, 'dvr': 1, 'amphogel': 1, 'inspiss': 1, 'yankour': 1, 'ahf': 1, 'jkpe': 2, 'acquisit': 4, 'obliqu': 7, 'calendar': 1, 'peripheri': 6, 'tailor': 6, 'unattain': 1, 'unobtain': 4, 'anterosept': 10, 'rbreast': 1, 'sphyncter': 1, 'retrial': 1, 'pkt': 2, 'tib': 1, 'pancol': 2, 'remainin': 1, 'lose': 2, 'led': 9, 'duodenojejun': 1, 'nissen': 1, 'ausculat': 1, 'subseq': 2, 'doesnot': 1, 'pri': 1, 'shin': 2, 'unilat': 10, 'amoutn': 1, 'surprisingli': 1, 'pnuemo': 1, 'indent': 2, 'vac': 1, 'brim': 2, 'carin': 1, 'fundopl': 1, 'lumbosacr': 2, 'mvo': 3, 'wildli': 1, 'rami': 2, 'anterobasilar': 1, 'randomli': 1, 'extern': 6, 'ileum': 1, 'softsorb': 3, 'anasarc': 4, 'pastor': 6, 'nonocclus': 3, 'tension': 3, 'superiorli': 3, 'dart': 1, '^psv': 1, 'pneum': 2, 'anterobas': 1, 'intussuscipien': 1, 'aubil': 1, 'exor': 1, 'metal': 3, 'sofsorb': 1, 'snow': 1, 'obsess': 1, 'bronchoalveolar': 1, 'tray': 2, 'soundli': 2, 'afebrilewbc': 1, 'moniot': 1, 'anxiolyt': 5, 'amberish': 1, 'silhouet': 2, 'desolv': 1, 'interspac': 2, 'com': 2, 'coax': 1, 'decreat': 1, 'slighlti': 2, 'nutramenren': 1, 'essent': 3, 'rf': 3, 'swabe': 1, 'highest': 4, 'basalar': 1, 'diuril': 5, 'topic': 6, 'chlorothiazid': 3, 'bother': 2, 'depper': 1, 'lasiz': 1, 'andwer': 1, 'llp': 1, 'pti': 1, 'gaol': 3, 'perpheri': 2, 'app': 1, 'insuluin': 1, 'susction': 1, 'breathrough': 1, 'daptomycin': 1, 'epigloti': 1, 'ssic': 1, 'extremli': 1, 'neurlog': 1, 'approprietli': 1, 'abswer': 1, 'amint': 1, 'rth': 1, 'larm': 1, 'soar': 1, 'semierect': 1, 'stylet': 2, 'afbril': 1, 'diali': 1, 'soik': 1, 'cogniz': 1, 'mucousa': 1, 'compet': 3, 'detrior': 2, 'nutramen': 1, 'loudli': 1, 'coorel': 1, 'currenlti': 3, 'triag': 1, 'iniit': 1, 'ateri': 1, 'hypoventil': 3, 'anytim': 1, 'prpogress': 1, 'axieti': 1, 'esophog': 1, 'tlyenol': 1, 'dimninsh': 1, 'thrive': 3, 'drep': 1, 'flair': 5, 'coccycx': 1, 'arrythmmia': 1, 'fuo': 6, 'extrins': 3, 'waffel': 1, 'inutb': 1, 'directli': 5, 'clincal': 1, 'urgenc': 1, 'periodd': 1, 'faliur': 1, 'famotidin': 9, 'aabout': 1, 'strictur': 1, 'biacodyl': 1, \"'sbp\": 1, 'hypoxcemia': 1, 'vsd': 6, 'lverf': 1, 'lund': 1, 'ppo': 1, 'stonehedg': 1, 'trumphet': 1, 'trazedon': 1, 'millisecond': 3, 'swal': 1, 'laminectomi': 1, 'specifc': 1, 'dimentia': 2, 'disicion': 1, 'cfh': 1, 'diverticula': 3, 'ver': 2, 'stonger': 1, 'worri': 2, 'receivd': 1, 'mimim': 1, 'blow': 1, 'kayxel': 1, 'blanch': 4, 'ize': 1, 'morhin': 2, 'spous': 3, 'disimpact': 2, 'safey': 1, 'movmement': 1, 'sett': 1, 'ballon': 2, 'anticoag': 4, 'mount': 1, 'trickl': 1, 'bw': 1, 'undergon': 5, 'ru': 2, 'pseudoaneurysm': 1, 'transpleur': 2, 'se': 1, 'qlc': 1, 'rsv': 2, 'vault': 2, 'troubleshoot': 1, 'prvc': 4, 'breifli': 1, 'lrad': 2, 'gluco': 1, 'postmortem': 1, 'addenum': 1, 'sludgi': 1, 'antibiod': 3, 'laid': 2, 'nurisng': 1, 'alkolot': 1, 'finerstick': 1, 'hemolysi': 8, 'flexis': 8, 'platueau': 1, 'aggiat': 1, 'inntub': 1, 'lpicc': 1, 'evalut': 4, 'transpulmonari': 2, 'criticaid': 3, 'preferenti': 2, 'ghome': 1, 'microangiopath': 1, 'pxdb': 2, 'respres': 1, 'dashboard': 2, 'septat': 3, 'asymmetri': 3, 'hyperextens': 2, 'sesha': 2, 'nursin': 1, 'cerebellum': 1, 'sternoclavicular': 1, 'condol': 2, 'predict': 4, 'trajectori': 2, 'abm': 1, 'matalazon': 1, 'improov': 1, 'xone': 1, 'persu': 1, 'showel': 1, 'nephrolist': 1, 'infilter': 1, 'wheelchair': 3, 'broadli': 7, 'dinitr': 1, 'gpr': 4, 'intract': 1, 'bipaa': 1, 'conest': 1, 'rip': 1, 'isosorbid': 1, 'contd': 1, 'carvedilol': 1, 'outpt': 5, 'enterococci': 2, 'phoslo': 1, 'aglc': 4, 'neurontin': 3, 'hff': 1, 'ecal': 1, 'nitropast': 1, 'coreg': 1, 'acei': 3, 'hypovolem': 9, 'zozyn': 1, 'sking': 1, 'mosd': 1, 'metolazon': 1, 'scr': 1, 'atorvastatin': 8, 'bi': 2, 'calcitriol': 1, 'comfortbal': 2, 'hypervolem': 2, 'ranitidin': 4, 'disucuss': 2, 'vano': 1, 'nmeb': 1, 'infrahilar': 5, 'neuropathi': 5, 'nephrotoxin': 4, 'aournd': 1, 'nephrologist': 2, 'hap': 24, 'uptitr': 7, 'enterococcu': 4, 'mgt': 5, 'rlq': 3, 'recd': 1, 'hf': 4, 'persistenli': 1, 'opportun': 5, 'anteced': 2, 'decondit': 4, 'neither': 4, 'cardiopulonari': 1, 'prevacid': 7, 'comf': 1, 'sensorium': 1, 'sputm': 1, 'pnemonia': 2, 'scar': 5, 'failiur': 1, 'epith': 1, 'ctl': 1, 'neoplast': 1, 'neuron': 3, 'suctioin': 1, 'prokinet': 1, 'peumonia': 1, 'harder': 2, 'extrapulmonari': 1, 'offend': 2, 'scratch': 1, 'babinski': 3, 'prodrom': 1, 'compli': 1, 'overwhelm': 4, 'rquir': 1, 'osteoporosi': 8, 'disuss': 1, 'cefazolin': 2, 'donepezil': 2, 'hysterectomi': 2, 'mdrd': 2, 'rightward': 6, 'sulbactam': 2, 'comatos': 2, 'profil': 2, 'settig': 1, 'roomm': 1, 'tca': 1, 'nimenda': 1, 'pin': 1, 'reassum': 1, 'providenciaa': 1, 'thinner': 2, 'venilatori': 1, 'restrat': 1, 'normocyt': 2, 'appreaci': 1, 'amiikacin': 1, 'grown': 4, 'wel': 1, 'tacypnea': 1, 'antibito': 2, 'colonscopi': 1, 'yawn': 2, 'hypoprofus': 1, 'forego': 1, 'hoever': 1, 'drown': 1, 'escherichia': 1, 'wwp': 4, 'impari': 2, 'stun': 1, 'women': 1, 'flacyl': 1, 'normochrom': 1, 'hospitalist': 1, 'cardiopulmomari': 1, 'hilu': 2, 'hypoglycemia': 3, 'trimethoprim': 2, 'mumur': 1, 'hyralazin': 1, '|': 2, 'stuarti': 1, 'extuabt': 2, 'encephaolopathi': 1, 'accid': 2, 'spars': 5, 'biped': 1, 'attract': 2, 'lumpectomi': 2, 'medcial': 1, 'ncat': 5, 'lansoprazol': 9, 'instal': 1, 'ivdu': 1, 'chamg': 1, 'likelihood': 7, 'uet': 1, 'mh': 2, 'lasx': 1, 'chornic': 2, 'providentia': 1, 'fundament': 1, 'wap': 1, 'medsl': 1, 'normotherm': 4, 'stuartii': 1, 'prov': 1, 'sulfamethoxazol': 1, \"c'd\": 3, 'cloud': 2, 'unattend': 1, 'iron': 6, 'providencia': 2, 'identif': 2, 'egfr': 1, 'amikacin': 2, 'communc': 1, 'namenda': 2, 'nitrofurantoin': 1, 'gmmgsulf': 2, 'restat': 1, 'incapac': 1, 'orophyaryng': 1, 'cefuroxim': 1, 'uncompl': 6, 'tachypneia': 1, 'furthur': 1, 'coloni': 4, 'mmd': 1, 'fresh': 4, 'continues': 1, 'fof': 1, 'todya': 1, 'heploc': 1, 'lisw': 1, 'threrfor': 1, 'admitt': 1, 'constanli': 1, 'perineaum': 1, 'thoracolumbar': 3, 'reestablish': 1, 'extrewm': 1, 'iso': 2, 'scab': 1, 'furrther': 1, 'intepret': 1, 'investig': 4, 'idiolog': 1, 'exagger': 8, 'neuronton': 1, 'bang': 1, 'pinkish': 3, 'diaper': 1, 'imcomprehens': 1, 'soound': 2, 'leision': 1, 'tomonitor': 1, 'obses': 1, 'applic': 10, 'implement': 3, 'rheab': 1, 'dbp': 1, 'seccess': 1, 'guidelin': 2, 'prb': 1, 'rectrict': 1, 'respiraotri': 2, 'kerlex': 3, 'plactic': 1, 'flexi': 5, 'coop': 1, 'oitment': 1, 'dakin': 1, 'evalaut': 2, 'plastic': 2, 'atori': 1, 'notat': 1, 'flexas': 1, 'fist': 1, 'debrid': 2, 'sution': 2, 'parasit': 2, 'cutlur': 1, 'dog': 1, 'thromboyctopenia': 1, 'conitinu': 2, 'chlorhex': 7, 'kac': 1, 'citrar': 1, 'clx': 3, 'keepign': 1, 'napo': 3, 'mmghg': 1, 'hepatolog': 4, 'superinfect': 4, 'imrprov': 1, 'unload': 2, 'mycolyt': 3, 'atroven': 1, 'reiniti': 3, 'influeza': 1, 'tcdb': 1, 'subratherapeut': 1, 'alp': 1, 'hemodialyi': 1, 'lipid': 7, 'poycyst': 1, 'dz': 2, 'hitt': 2, 'giv': 1, 'ts': 7, 'hepatomegali': 2, 'didnt': 1, 'sequestr': 2, 'blockad': 4, 'monrn': 1, 'vasopress': 5, 'priorit': 1, 'pot': 1, 'nephrectomi': 1, 'ova': 2, 'adult': 1, 'viru': 3, 'beneprotein': 5, 'femur': 2, 'synthet': 3, 'esmolol': 2, 'tamiflu': 3, 'amidodaron': 1, 'enalapril': 1, 'chanigng': 1, 'imagin': 2, 'webtag': 2, 'heartsound': 1, 'dex': 3, 'thrombcytopenia': 1, 'interventricular': 1, 'setup': 3, 'treatjment': 1, 'nitric': 4, 'possibilti': 1, 'reoslut': 1, 'bblocker': 2, 'iliostomi': 1, 'campylobact': 1, 'equilibr': 1, 'incllud': 1, 'earliest': 2, 'challengin': 1, 'ngtube': 2, 'enumer': 1, 'pasp': 2, 'pretest': 1, 'sequest': 1, 'inaud': 1, 'ptroy': 1, 'cvh': 1, 'antiobiot': 1, 'gdex': 2, 'reactant': 1, 'supportuv': 1, 'trea': 1, 'hepativ': 1, 'metop': 1, 'dfa': 10, 'nasopharyng': 4, 'cvhd': 2, 'neosynepherin': 1, 'hepatologist': 1, 'special': 4, 'toil': 1, 'reload': 2, 'presoso': 1, 'alveoli': 1, 'cant': 1, 'javascript': 2, 'riins': 1, 'ctrl': 1, 'givenn': 1, 'dwell': 1, 'overhydr': 7, 'ddx': 18, 'preclud': 4, 'hypokinetc': 1, 'multiorgan': 4, 'circulatori': 2, 'acetabula': 1, 'malfunct': 2, 'pkd': 1, 'atmospher': 1, 'prognost': 2, 'hemofilt': 1, 'popup': 2, 'instablil': 1, 'hypokinet': 4, 'contractil': 11, 'smyrnio': 1, 'polysyst': 1, 'oxid': 4, 'avfistula': 1, 'scal': 1, 'cef': 1, 'tachpnea': 3, 'naac': 1, 'subtherapateut': 1, 'theray': 1, 'kpo': 1, 'postpon': 3, 'itchi': 1, 'nonetheless': 2, 'oseltamivir': 3, 'convent': 3, 'trabecul': 3, 'concer': 3, 'esld': 4, 'hypotes': 1, 'divert': 1, 'pantop': 1, 'pubi': 2, 'pulmonologist': 3, 'strain': 13, 'sptum': 2, 'meoprolol': 1, 'prime': 3, 'overnighit': 1, 'assay': 5, 'haptoglobin': 2, 'multicyst': 1, 'quinolon': 5, 'stretcher': 6, 'qpm': 1, 'purs': 2, 'exelon': 1, 'qualifi': 1, 'egophani': 1, 'intercurr': 2, 'aggrenox': 1, 'medicar': 5, 'abat': 1, 'mediocr': 1, 'tw': 1, 'medicaid': 6, 'steak': 1, 'fosamax': 1, 'dispens': 1, 'mvi': 7, 'clindamycin': 3, 'caltrat': 1, 'zestril': 1, 'walker': 2, 'inprov': 1, 'weekli': 1, 'medex': 3, 'niacin': 2, 'sensat': 3, 'qam': 1, 'dme': 5, 'rbbb': 5, 'cautiou': 2, 'remeron': 3, 'patientcodein': 1, 'nondiagnost': 2, 'tappabl': 1, 'laculos': 1, 'acsiti': 1, 'feacal': 1, 'semiform': 1, 'callout': 2, 'soduim': 1, 'projectil': 1, 'mglopressor': 1, 'outand': 1, 'surgeon': 2, 'atvian': 1, 'pauciti': 5, 'emphat': 2, 'latat': 1, 'enquiri': 1, 'prng': 1, 'tachyarrhythmia': 1, 'litr': 2, 'anf': 1, 'ijv': 1, 'prpofol': 1, 'levaph': 2, 'neomycin': 1, 'offf': 1, 'chnage': 3, 'vasotec': 1, 'woke': 3, 'chew': 2, 'tt': 1, 'preload': 3, 'bnon': 1, 'overloaad': 1, 'guaifenesina': 1, 'girl': 1, 'earili': 1, 'breathlesn': 1, 'cefriaxon': 1, 'guaifenessin': 1, 'docus': 8, 'sleeper': 1, 'shifdt': 1, 'diffult': 1, 'duraton': 1, 'thoughout': 2, 'miscommun': 1, 'trembl': 1, 'dizzi': 2, 'instantli': 1, 'boardlin': 1, 'megnesium': 1, 'discern': 3, 'disempact': 2, 'harpist': 1, 'milronon': 1, 'kaexyl': 1, 'jelli': 3, 'tachypen': 2, 'ninv': 1, 'substanc': 3, 'acidodi': 1, 'pitress': 1, 'mainitan': 1, 'hang': 3, 'vcarevu': 1, 'handicap': 1, 'prsent': 2, 'vagal': 1, 'mutual': 2, 'ringer': 1, 'dmr': 1, 'particul': 1, 'tkcb': 1, 'tac': 1, 'methlprednisolon': 1, 'attepmt': 1, 'strictli': 1, 'emesisx': 1, 'deciss': 1, 'former': 4, 'rewrot': 1, 'cutan': 2, 'emotionalsupport': 1, 'unsign': 1, 'mdd': 1, 'gleevac': 1, 'gl': 2, 'raglan': 3, 'panic': 1, 'ongolog': 1, 'inde': 6, 'atovaquon': 1, 'tacrolimu': 2, 'targer': 1, 'patiient': 1, 'coccidioidomycosi': 1, 'apparatu': 1, 'preme': 2, 'oxtcodon': 1, 'jirovecii': 1, 'cxray': 7, 'gj': 3, 'treament': 1, 'glevac': 1, 'adaquet': 1, 'benzodiazepin': 2, 'vl': 5, 'six': 6, 'meropemen': 1, 'poli': 5, 'book': 1, 'mistakenli': 2, 'tachyn': 1, 'stt': 1, 'al': 1, 'jlb': 1, 'becapus': 1, 'obsruct': 1, 'igm': 1, 'laboratori': 2, 'allogen': 1, 'succes': 1, 'advic': 2, 'tachyapn': 1, 'cghd': 1, 'warrent': 2, 'hypopig': 1, 'rifampin': 1, 'proh': 1, 'gaa': 1, 'antiemet': 1, 'unequivoc': 1, 'leukocyt': 1, 'maintainc': 1, 'extr': 5, \"patient'\": 8, 'cero': 1, 'posaconasol': 1, 'tacro': 1, 'easilli': 1, 'gotten': 1, 'atelectai': 1, 'laden': 1, 'cex': 2, 'cocurr': 1, \"'central\": 1, 'imp': 4, 'nauseat': 1, 'ceas': 3, 'uneventl': 1, 'signifig': 2, 'aroung': 1, 'gleevec': 1, 'capsofungin': 1, 'cytopath': 2, 'polymorphonuclear': 1, 'ppeg': 1, 'pneumopathi': 1, 'rhinoviru': 1, 'sct': 2, 'cranial': 2, 'midazolan': 1, 'iga': 1, 'eleven': 1, 'torestart': 1, 'conscious': 2, 'apnvol': 2, 'aspergillosi': 1, 'afraid': 1, 'resusc': 1, 'jrld': 2, 'traught': 1, 'shaken': 1, 'pneumomathi': 1, 'premedicati': 1, 'ritalin': 1, 'vechan': 1, 'lorazepan': 1, 'ventimask': 2, 'fast': 5, 'lighthead': 1, 'histoplasmosi': 1, 'atalectat': 1, 'tfeed': 2, 'ppd': 2, 'tens': 3, 'microorgan': 2, 'jirvovecii': 1, 'bacilli': 1, 'wwa': 1, 'anisocoria': 2, 'immunoflouresc': 1, 'anem': 1, 'longterm': 2, \"sbt'\": 1, 'rot': 1, 'dn': 2, 'disappoint': 1, 'merepenem': 1, 'gvdh': 1, 'hemodilut': 2, 'alphabet': 1, 'streaki': 2, 'bmx': 1, 'blastomycosi': 1, 'deacreas': 1, 'predic': 1, 'mgsulf': 1, 'jejunostomi': 2, 'relationship': 5, 'ivig': 2, 'lcpc': 4, 'rational': 1, 'galactomannin': 1, 'boardelin': 1, 'bcell': 1, 'hyperpig': 1, 'zydi': 2, 'fibros': 1, 'prochlorperazin': 2, 'woresen': 1, 'serrou': 2, 'director': 3, 'hydroxid': 1, 'onf': 1, 'spfc': 1, 'enoxaparin': 1, 'chrinic': 1, 'triglycerid': 3, 'cantons': 1, 'oversensit': 1, 'infiltraet': 1, 'lscta': 3, 'accum': 1, 'bmp': 1, 'ritalyn': 1, 'indur': 2, 'firtst': 1, 'mucormycosi': 1, 'lanosprazol': 1, 'encas': 1, 'ventialt': 2, 'indict': 2, 'apneaic': 1, 'lvl': 1, 'lmw': 1, 'sbna': 1, 'allo': 1, 'nauseou': 2, 'wakeup': 3, 'igg': 1, 'djrx': 1, 'disconintu': 1, 'vori': 2, 'shevel': 1, 'prepared': 1, 'hypercapnea': 4, 'seriel': 2, 'byop': 1, 'areflex': 2, 'vasculit': 1, 'imporv': 1, 'contributng': 1, 'golytli': 1, 'miracl': 1, 'inid': 1, 'miniut': 1, 'undertaken': 1, 'flld': 1, 'abbrevi': 2, 'chux': 1, 'disappear': 2, 'mintu': 2, 'criticad': 2, 'ampho': 1, 'cirpo': 1, 'pentobarb': 1, 'furtehr': 2, 'unlcear': 1, 'miralax': 2, 'epilecticu': 1, 'enceph': 3, 'pupillari': 4, 'osmol': 1, 'barbitol': 1, 'encephalopthi': 1, 'cjd': 1, 'balnc': 1, 'valproeic': 1, 'assement': 1, 'caspofugin': 1, 'untreat': 4, 'pendinh': 1, 'grd': 4, 'phenotin': 1, 'golyetli': 1, 'usd': 1, 'nm': 2, 'kepra': 1, 'acitv': 1, 'ctiric': 1, 'supportso': 1, 'antibacteri': 1, 'log': 2, 'pred': 2, 'vasoact': 1, 'seizuir': 1, 'abnl': 6, 'hyperthermia': 7, 'amx': 1, 'intravasularli': 1, 'epillepsi': 1, 'microbi': 1, 'yesast': 1, 'anitbx': 1, 'concner': 1, 'pathogen': 6, 'seiz': 1, 'epilispi': 1, 'liaison': 1, 'neurologist': 1, 'uc': 3, 'norequr': 1, 'anisarca': 1, 'beneprotien': 1, 'transamin': 8, 'antii': 1, 'multidrug': 2, 'bibas': 5, 'diarrheal': 1, 'irrat': 1, 'utmost': 1, 'vascualit': 1, 'yesteday': 1, 'bumex': 1, 'consdier': 1, 'colloid': 1, 'empoir': 1, 'ncse': 1, 'hypervolemia': 2, 'thyroglobulin': 1, 'expens': 2, 'hemodyalysi': 1, 'filur': 1, 'dysfx': 1, 'dissimpact': 1, 'posisbl': 1, 'rtisk': 1, 'flucon': 1, 'absorp': 1, 'thryoid': 1, 'frequenti': 1, 'antiepilept': 1, 'yestereday': 1, 'qill': 1, 'effusionsgiven': 1, 'barb': 1, 'complaict': 1, 'serious': 2, 'assymetri': 1, 'norepit': 1, 'blown': 1, 'nonconvuls': 1, 'esstenti': 1, 'junctur': 1, 'hotn': 5, 'intrvasc': 1, '^rd': 3, 'norepinepherin': 1, 'epilepticu': 1, 'fololow': 1, 'ldiures': 1, 'unewu': 1, 'cyp': 1, 'hotlin': 1, 'coveragw': 1, 'shockslowli': 1, 'golytley': 1, 'apprecait': 1, 'anasrc': 1, 'interf': 2, 'depaken': 1, 'broach': 1, 'peal': 1, 'encount': 1, 'woiuld': 1, 'lim': 1, 'noripnephrin': 1, 'lk': 1, 'meropenam': 3, 'neurogen': 2, 'convuks': 1, 'statrt': 1, 'depakot': 2, 'febun': 1, 'ug': 2, 'tea': 1, 'masess': 1, 'venipunctur': 2, 'plateaud': 1, 'ture': 1, 'blame': 1, 'dysfunciton': 1, 'dil': 1, 'keppra': 3, 'optho': 2, 'psuedom': 1, 'apporx': 1, 'ev': 2, 'anacarca': 1, 'decrea': 2, 'thermal': 1, 'acitivti': 1, 'artefact': 1, 'futher': 2, 'danger': 2, 'blockag': 1, 'ultrafilt': 1, 'folic': 2, 'peroxidas': 1, 'hotlien': 1, 'protien': 1, 'antipseudomon': 1, 'polio': 1, 'hydro': 5, 'vascul': 2, 'requiremetn': 1, 'scvo': 2, 'trainsient': 1, 'vgb': 1, 'poorfor': 1, 'doll': 2, 'procss': 1, 'ishchemia': 1, 'satisfi': 1, 'antobx': 1, 'atni': 1, 'pento': 1, 'pentobarbitol': 1, 'leukocystosi': 1, 'psa': 3, 'chlorathiazid': 1, 'extravascular': 1, 'delic': 1, 'transmit': 5, 'infectionb': 1, 'virul': 1, 'sensitivi': 1, 'tubul': 1, 'hypoactivet': 1, 'std': 1, \"eo'\": 1, 'snore': 1, 'psuedomanl': 1, 'interactionsd': 1, 'slim': 3, 'apprec': 1, 'depsit': 1, 'coours': 1, 'meaningful': 1, 'aski': 1, 'currenli': 1, 'jonh': 1, 'follo': 1, 'oropharanyx': 1, 'noter': 1, 'ddrainag': 1, 'cvlplace': 1, 'epsod': 1, 'xpiv': 1, 'deminer': 2, 'refelect': 1, 'eosinophil': 3, 'difficutl': 1, 'paln': 1, 'experianc': 1, 'nutrion': 1, 'gate': 2, 'decompensatuion': 1, 'thiamin': 1, 'proptosi': 1, 'opion': 2, 'antiboiot': 1, 'antbx': 2, 'specialist': 3, 'emoir': 1, 'interven': 2, 'platu': 1, 'boarderlin': 1, 'cruis': 1, 'schistocyt': 3, 'kpho': 4, 'chlorarhiazid': 1, 'overhead': 1, 'trransfer': 1, 'inoput': 1, 'desmopressin': 2, 'anit': 1, 'intermirtt': 1, 'vitmain': 1, 'inf': 2, 'alpha': 2, 'pentobard': 1, 'intensivist': 2, 'revalu': 1, 'neuromyopathi': 2, 'leuk': 2, 'atleast': 1, 'disimpactiona': 1, 'midwest': 1, 'recx': 1, 'dedic': 5, 'norepinehrin': 1, 'groass': 1, 'road': 2, 'accumil': 1, 'exempt': 1, 'lactoslo': 1, 'weill': 1, 'riski': 1, 'convuls': 1, 'hashimoto': 1, 'ngith': 1, 'ltac': 2, 'ophtho': 2, 'bac': 2, 'vpa': 1, 'bladdder': 1, 'sud': 2, 'lactualos': 1, 'tuypcial': 1, 'nondiarh': 1, 'hk': 1, 'chlorhexadin': 2, 'mach': 1, 'bitempor': 1, \"cx'\": 1, 'pyrexia': 7, 'hypert': 1, 'intrvascular': 1, 'antiseizur': 2, 'coagulopatahi': 1, 'compart': 3, 'pseudom': 1, 'datbl': 1, 'restar': 2, 'transmin': 1, 'tomoorw': 1, 'ondepaken': 1, 'mhg': 1, 'pentobabr': 1, 'skill': 2, 'epidod': 1, 'neur': 1, 'wittnessin': 1, 'divorc': 1, 'blasser': 1, 'reatrt': 1, 'parapneumon': 3, 'aacidosi': 1, 'epilept': 1, 'offlin': 1, 'addresss': 1, 'ite': 1, 'academ': 1, 'sym': 2, 'faith': 2, 'urem': 2, 'epilepsi': 1, 'supervisor': 1, 'confid': 3, 'valproat': 1, 'pplateau': 1, 'faili': 1, 'epilecticiu': 1, 'myopathi': 6, 'golyt': 1, 'ddecreasd': 1, 'synd': 1, 'anisarc': 2, 'reauest': 1, 'miotic': 1, 'vlo': 1, 'lytli': 1, 'abs': 1, 'nureo': 1, 'benefici': 2, 'hypoalbuminemia': 1, 'drench': 2, 'mutlipl': 1, 'ddavp': 1, 'caspo': 1, 'scane': 1, 'jmuch': 1, 'geiven': 1, 'abgiven': 1, 'hypoalbuminem': 2, 'alblumin': 1, 'intrabdomin': 1, 'distrust': 2, 'potneiti': 1, 'sural': 1, 'dietarti': 1, 'reachabl': 1, 'tpo': 1, 'pahs': 1, 'montior': 3, 'intravasc': 1, 'reinfect': 1, 'mngt': 2, 'heo': 1, 'hasimoto': 1, 'cefe': 1, 'stagbl': 1, 'psedomona': 1, 'pseudohypha': 2, 'coff': 1, 'infectoiu': 1, 'antithyroglobulin': 1, 'uln': 2, 'disabl': 2, 'hamper': 1, 'comanow': 1, 'reqeust': 1, 'eduat': 1, 'pentobarbit': 1, 'ferrou': 1, 'intergti': 1, 'additon': 3, 'spoutum': 1, 'antix': 1, 'thromobocytopenia': 1, 'reamin': 2, 'join': 2, 'voicemail': 1, 'illiu': 1, 'fdp': 5, 'atatu': 1, 'addiiton': 1, 'oncal': 1, 'chuck': 1, 'nutrtion': 1, 'nutrtit': 1, 'anticonvuls': 2, 'method': 1, 'signifi': 1, 'supratheraput': 1, 'sgar': 1, 'coma': 1, 'discofortx': 1, 'warma': 1, 'unequel': 1, 'compensatori': 3, 'tod': 1, 'hemastat': 1, 'supor': 1, 'repet': 2, 'comfortanbl': 1, 'assymetr': 4, 'seadtion': 1, 'occasioanlli': 1, 'slise': 1, 'occsaion': 1, 'pntx': 2, 'lsix': 2, 'wuth': 1, 'robust': 1, 'appropriatley': 2, 'desynchronis': 1, 'cardiomediastinum': 1, 'generaslis': 1, 'occasionali': 1, 'tkr': 1, 'nebh': 1, 'propanolol': 1, 'propronol': 1, 'mlow': 1, 'fingerst': 1, 'vigilio': 1, 'placewd': 1, 'vesicular': 2, 'fenta': 2, 'genral': 2, 'faintli': 2, 'recvd': 3, 'trate': 1, 'fwb': 1, 'whhen': 1, 'subsquent': 1, 'bronchhiectasi': 1, 'diamox': 1, 'soup': 1, 'requierd': 1, 'benoprotein': 1, 'recrtal': 1, 'methylprednison': 2, 'jr': 3, 'emoit': 1, 'receiev': 2, 'dimnish': 1, 'nonexpand': 1, 'sabp': 1, 'remnant': 1, 'finali': 1, 'shrug': 1, 'acetylcystein': 2, 'broncho': 2, 'cintinu': 1, '^to': 2, 'dvers': 1, 'titret': 1, 'tyellow': 2, 'femer': 1, 'withc': 1, 'rebolus': 2, 'nosocomi': 3, 'effusiion': 1, 'diffg': 1, 'fluentli': 1, 'spch': 1, 'repositioniong': 1, 'slighli': 1, 'efect': 1, 'ecymot': 1, 'hyperchloremia': 2, 'urinb': 1, 'hyperdyanam': 1, 'differentail': 1, 'secondli': 1, 'anorexia': 2, 'elixir': 1, 'nowel': 1, 'mismatch': 3, 'malnourish': 1, 'dimihs': 1, 'yesterdauy': 1, 'overshoot': 1, 'finsh': 1, 'isk': 1, 'osteroarthr': 1, 'andi': 1, 'habit': 1, 'shoulf': 1, 'ftt': 1, 'smoke': 5, 'leuckocytosi': 1, 'cleaniwth': 1, 'arrhytmia': 1, 'spoon': 2, 'axillay': 1, 'cleanser': 4, 'noncontributori': 2, 'eff': 2, 'discu': 2, 'gprod': 1, 'chanhg': 1, 'subglott': 3, 'esphog': 2, 'torn': 1, 'cogn': 1, 'anoint': 1, 'aggatroban': 2, 'agratroban': 1, 'lef': 1, 'impli': 3, 'hypomag': 1, \"tx'ing\": 1, 'curvej': 1, 'teach': 2, 'uncl': 2, 'capabl': 1, 'vasculartur': 1, 'stori': 1, 'ugib': 4, 'hypophosphetemia': 1, 'om': 2, 'pst': 1, 'agatroban': 1, 'remors': 1, 'swithc': 1, \"c'\": 1, 'guilt': 2, 'unnecessari': 1, 'mprove': 1, 'defens': 2, 'cmrn': 1, 'butnow': 1, 'regret': 1, 'valid': 3, 'outlook': 3, 'clholrhexidin': 1, 'aka': 1, 'chlorex': 1, 'overshadow': 1, 'histor': 1, 'osteodystrophi': 1, 'unanim': 3, 'learn': 5, 'secretio': 1, 'csv': 2, 'tighter': 1, 'spuriou': 1, 'biv': 1, 'atlern': 1, 'overtir': 1, 'omperazol': 1, 'straigt': 1, 'depelet': 1, 'butn': 1, 'pollen': 1, 'placem': 2, 'forese': 1, 'transpor': 1, 'wrestl': 1, 'lusb': 4, 'pall': 1, 'peridex': 4, 'enteroccu': 2, 'discusiion': 1, 'repe': 1, 'assembl': 3, 'cosyn': 1, 'amput': 1, 'turgor': 3, 'bipa': 1, 'cvc': 1, 'migth': 1, 'levothryoxin': 1, 'withsat': 1, 'cvvvh': 1, 'manor': 1, 'sevelem': 1, 'benifici': 1, 'varec': 1, 'efficaci': 2, 'caridiogen': 1, 'nonessenti': 1, 'giver': 1, 'dysfxn': 2, 'minand': 1, 'lsb': 2, 'tachycardica': 1, 'thrombocytopeni': 2, 'channel': 4, 'inhibit': 3, 'diltaziem': 1, 'hemiplegia': 1, 'aztreo': 1, 'hcl': 8, 'meta': 6, 'basex': 1, 'videofluoroscop': 1, 'dobbhoff': 4, 'moda': 1, 'closur': 5, 'wfl': 2, 'venturi': 1, 'hyperkeratosi': 1, 'bipolar': 1, 'downstair': 1, 'prosodi': 1, 'vallecula': 1, 'resperidol': 1, 'explicit': 1, 'deliber': 1, 'eob': 1, 'aztronam': 1, 'lye': 2, 'propuls': 1, 'rpe': 2, 'viseo': 1, 'iah': 1, 'valpor': 1, 'asd': 10, 'vibrat': 1, 'andfailur': 1, 'steam': 1, 'pyriform': 1, 'mood': 1, 'lgib': 1, 'incanthosi': 1, 'inj': 1, 'blac': 1, 'multipodi': 1, 'flaki': 1, 'vestibul': 1, 'macu': 2, 'retriev': 2, 'ambulatori': 2, 'phtn': 5, 'risperadol': 1, 'drak': 1, 'risperd': 2, 'hyperkeratot': 1, 'df': 1, 'ammonia': 2, 'subglotti': 1, 'lob': 1, 'disintegr': 2, 'repli': 1, 'knew': 1, 'risperodol': 1, 'subling': 1, 'bvm': 1, 'aerob': 4, 'shd': 1, 'psychotrop': 1, 'bd': 2, 'nivpp': 1, 'unforun': 1, 'forc': 1, 'divalproex': 1, 'ili': 1, 'ivfbolus': 1, 'velar': 1, 'hyperammonia': 1, 'bll': 1, 'anomia': 1, 'subc': 1, 'tbb': 4, 'noteabl': 1, 'risperidon': 1, 'overwhelmingli': 1, 'metavisison': 1, 'pft': 3, 'respiridol': 1, 'dysarthr': 1, 'heavier': 2, 'readili': 5, 'videofluoroscopi': 1, 'dtop': 1, 'ctg': 1, 'rehabilit': 3, 'diffucalti': 1, 'movemnet': 1, 'notess': 1, 'perreport': 1, \"'ing\": 1, 'oveloar': 1, 'rosari': 1, 'ensym': 1, 'masrk': 1, 'miuc': 1, 'mortuari': 1, 'cape': 1, 'famuli': 1, 'duoserm': 1, 'admis': 1, 'transfererd': 1, 'mt': 2, 'tcpc': 1, 'monitorign': 1, 'wot': 1, 'detetior': 1, 'hemiblock': 1, 'allovesta': 1, 'nephrosotomi': 1, 'influenz': 1, 'accommod': 1, 'hypersensit': 3, 'lymphangit': 5, 'portocath': 1, 'significi': 1, 'mvt': 1, 'asdir': 3, 'flonas': 1, 'cryptococc': 3, 'propion': 1, 'nephrostomi': 2, 'grey': 2, 'radiotherapi': 2, 'debri': 2, 'dialudid': 1, 'espophag': 1, 'dxae': 3, 'nauseau': 2, 'rac': 1, 'interpr': 1, 'pathol': 1, 'serv': 1, 'imform': 1, 'arrriv': 1, 'dyspen': 2, 'adenoid': 1, 'meassur': 1, 'reopen': 1, 'resistantci': 1, 'portext': 1, 'soial': 1, 'drssg': 1, 'amb': 2, 'puffi': 1, \"'re\": 1, 'xcept': 1, 'beacam': 1, 'reack': 1, 'vertebroplasti': 2, 'wasnt': 1, 'wheel': 2, 'tonit': 2, 'sedateion': 1, 'theapi': 1, 'suciton': 1, 'ambuu': 1, 'tachpneic': 2, 'hiatu': 1, 'tachypoen': 1, 'stoolx': 1, 'samll': 1, 'rhino': 1, 'hempdynam': 1, 'apnoea': 1, 'movemt': 1, 'phlebotomi': 2, 'dssd': 1, 'tachyponea': 1, 'extem': 2, 'cog': 1, 'uncompens': 1, 'suctuion': 1, 'hyporeflex': 1, 'carbodopa': 1, 'hyptertens': 1, 'hygein': 1, 'repons': 4, 'desaturar': 1, 'preadmiss': 1, 'apnic': 2, 'neutran': 1, 'nightim': 1, 'wdwing': 1, 'eaisli': 1, 'presssur': 1, 'locta': 1, 'hepatofug': 1, 'diminsih': 1, 'unti': 1, 'pneumatocel': 1, 'pancytopenia': 5, 'slug': 1, 'effor': 1, '^ing': 1, 'entertain': 1, 'anarsarca': 1, 'reconven': 2, 'drcreas': 1, 'ampyema': 1, 'ommand': 1, 'givenx': 1, 'spotan': 1, 'npln': 1, 'incras': 1, 'genelar': 1, 'unalt': 3, 'abreas': 1, 'fede': 1, 'xeroform': 2, \"today'\": 3, 'gastropathi': 1, 'brsk': 1, 'anmt': 1, 'aound': 1, 'nostril': 2, 'resed': 1, 'aggressivli': 1, 'convey': 2, 'synchnou': 1, 'crakl': 2, 'earl': 1, 'flaten': 1, 'dippig': 1, 'bradypn': 1, 'apepar': 1, 'stepfath': 1, 'tranfus': 2, 'gaze': 2, 'dint': 1, 'dy': 1, 'afebriel': 1, 'mutlip': 1, 'finsih': 1, 'wdw': 1, 'protoc': 1, 'luq': 3, 'naloxen': 1, 'asychron': 1, 'crepiti': 2, 'conor': 1, 'manipualt': 1, 'aferil': 1, 'ampl': 2, 'presntli': 1, 'breadown': 1, 'dysnchron': 2, 'fw': 1, 'failer': 1, 'inevit': 2, 'midday': 1, 'appro': 1, 'diminich': 1, 'copuiou': 1, 'atriocav': 2, 'vewntilatori': 1, 'presur': 1, \"req'ng\": 1, 'assymmetr': 1, 'placedback': 1, 'griamc': 1, 'speed': 1, 'flac': 1, 'disconjug': 2, 'obv': 2, 'mush': 1, 'wan': 1, 'specfic': 1, 'iliu': 1, 'dysynchrononi': 1, 'fpound': 1, 'withdrw': 1, 'murtem': 1, 'deuoderm': 1, 'mopder': 1, 'zeroform': 1, 'asper': 1, 'liguid': 1, 'ruquir': 1, 'remaisn': 2, 'overnigt': 2, 'desync': 1, 'resur': 1, 'mini': 3, 'diurs': 1, 'tweezer': 1, 'imapir': 1, 'autorot': 1, 'socail': 2, 'abund': 2, 'meatou': 1, 'pltlet': 1, 'molar': 1, 'quinci': 1, 'alogrhythm': 1, 'hypercalcemia': 3, 'panu': 1, 'broke': 3, 'upcom': 1, 'midodin': 1, 'unawar': 2, 'counteract': 2, 'uncomfoprt': 1, 'bariair': 1, 'ratat': 1, 'respos': 1, 'drk': 1, 'bowekl': 1, 'sideport': 2, 'certainti': 2, 'appx': 1, 'corner': 1, 'autodiuris': 1, 'vere': 1, 'clotti': 1, 'dminish': 1, 'uplt': 1, 'sof': 1, 'electolyt': 1, 'perfrom': 1, 'msse': 1, 'anchor': 1, 'regulari': 1, 'duriesi': 1, 'devepol': 1, 'admx': 1, 'amonst': 1, 'protector': 1, 'cephalosporin': 2, 'eythromycin': 1, 'crepit': 1, 'carevur': 1, 'stbale': 1, 'hypercholesterolemia': 4, 'femora': 2, 'gbc': 1, 'osteophyt': 5, 'iwa': 1, 'judgment': 1, 'curl': 2, 'proteinac': 1, 'substitut': 2, 'macular': 2, 'faculti': 1, 'peptic': 1, 'prozim': 1, 'negatiev': 1, 'fetal': 1, 'intertrochanter': 2, 'retropuls': 1, 'osteopen': 1, 'hippv': 1, 'improvemnt': 1, 'againt': 1, 'dbc': 1, 'requi': 1, 'shorterm': 1, 'brachytherapi': 2, 'vdg': 1, 'brth': 1, 'rexpans': 1, 'thoracenteci': 1, 'overdiuresi': 1, 'proclaim': 1, 'judici': 1, 'heartbeat': 1, 'subj': 1, 'famiyl': 1, 'cheat': 1, 'roughtli': 1, 'earrl': 1, 'initia': 1, 'lcsw': 3, 'bracelet': 1, 'granul': 2, 'necklac': 1, 'elcetrolyt': 1, 'interview': 1, 'weari': 1, 'hat': 1, 'contac': 1, 'springwel': 1, 'dmii': 1, 'oin': 1, 'vasculopath': 1, 'contacth': 1, 'bar': 1, 'dostress': 1, 'allyven': 1, 'cobnvers': 1, 'bedtim': 3, 'ecreas': 1, 'solu': 3, 'metforman': 1, 'improvedto': 1, 'suspic': 1, 'hum': 1, 'guiafenesin': 1, 'hfm': 2, 'ea': 1, 'tessilon': 1, 'patientno': 1, 'robutssin': 1, 'doc': 1, 'metformin': 2, 'acetylcysitin': 1, 'tenueou': 1, 'recommemd': 1, 'terribl': 1, 'span': 1, 'sevic': 1, 'robitussin': 1, 'msk': 1, 'medrol': 3, 'breathless': 3, 'benzon': 1, 'tessalon': 2, 'dah': 2, 'nac': 2, 'osa': 2, 'fulmin': 1, 'ream': 1, 'sane': 1, 'othr': 1, 'chiar': 1, 'muscular': 2, 'sputa': 1, 'fecul': 1, 'gastrografin': 2, 'nasopharyn': 1, 'decadron': 2, 'pegtub': 1, 'afebil': 1, 'kyg': 2, 'aswel': 1, 'mandarin': 1, 'bilatar': 1, 'facilitor': 1, 'ome': 4, 'prophi': 1, 'shingl': 1, 'sarcoidosi': 1, 'remaijhn': 1, 'pneumoni': 1, 'mirtazapin': 1, 'detai': 1, 'ino': 2, 'palliativ': 1, 'progresssivli': 1, 'downtitr': 1, 'sarcoid': 1, 'psuedo': 1, 'friction': 3, 'peepm': 1, 'azothioprin': 1, 'mandibl': 1, 'xfere': 1, 'neuropath': 2, 'purpura': 2, 'azathioprin': 1, 'mdr': 1, 'curremt': 1, 'tomororw': 1, 'opxygen': 1, 'ove': 1, 'heav': 1, 'achymosi': 1, 'zoster': 2, 'atypo': 1, \"cx'd\": 1, 'erectil': 1, 'sarcodiosi': 1, 'lidoderm': 1, 'www': 1, 'radiopac': 2, 'pemetrex': 2, 'possiblil': 1, 'acebutolol': 1, 'nsclca': 2, 'hypophosphatemia': 1, 'lacta': 1, 'stemi': 2, 'stoneman': 1, 'encircl': 1, 'hypopho': 1, 'deposit': 4, 'toc': 1, 'ami': 2, 'invad': 2, 'pamidron': 1, 'insepar': 2, 'costodiaphragmat': 1, 'uanbl': 1, 'uvj': 1, \"adl'\": 1, 'hrc': 1, 'jkang': 1, 'scopi': 1, 'suprahilar': 3, 'goc': 4, 'septi': 1, 'interpretor': 1, 'perinephr': 3, 'reusm': 1, 'erinephr': 1, 'pleaural': 1, 'loin': 1, 'periren': 1, 'chosen': 1, 'thougn': 1, 'lithotrypsi': 1, 'pyeloneph': 1, 'givern': 1, 'sufggest': 1, 'ubj': 1, 'pyelonephrosi': 1, 'disucss': 2, 'pylenonephr': 1, 'ptc': 1, 'suprath': 1, 'antion': 1, 'en': 2, 'ragrdu': 1, 'respo': 1, 'carecod': 1, 'hydroneph': 1, 'cycsto': 1, 'scopalomin': 1, 'cycstoscopi': 1, 'fureth': 1, 'moieti': 1, 'pyelo': 1, 'hydrouret': 1, 'obstruuct': 1, 'pyelonephr': 2, 'electrod': 2, 'airmattress': 1, 'thia': 1, 'improvementin': 1, 'horizont': 1, 'progess': 1, 'chr': 1, 'clincial': 2, 'aleven': 1, 'sonn': 1, 'podu': 1, 'margina': 1, 'emphysemat': 3, 'possibilit': 1, 'norepinephin': 1, 'maee': 1, 'fluffi': 1, 'biaxin': 1, 'cefapim': 1, 'disc': 4, 'effuss': 1, 'oxza': 1, 'airless': 2, 'endplat': 1, 'degener': 2, 'corect': 1, 'colaps': 1, 'esophagogastr': 5, 'medzihradski': 1, 'affin': 1, 'mediat': 1, 'gene': 1, 'peptid': 1, 'excent': 1, 'cck': 1, 'advantag': 1, 'dourish': 1, 'promis': 1, 'counterpart': 1, 'cholecystokinin': 1, 'duttaroy': 1, 'model': 2, 'indicta': 1, 'rostral': 1, 'preclin': 1, 'nondrug': 1, 'excitatori': 1, 'deceid': 1, 'asparagin': 1, 'receptor': 1, 'naltrexon': 1, 'bockstael': 1, 'proport': 5, 'modulatori': 1, 'gpcr': 1, 'scienc': 1, 'simplest': 1, 'scientif': 1, 'proglumid': 1, 'elsevi': 1, 'sjogren': 1, 'opioid': 2, 'pathway': 1, 'urg': 1, 'permiss': 3, 'intrigu': 1, 'accomplish': 1, 'spontaneu': 1, 'medulla': 1, 'raehal': 1, 'decad': 1, 'polyethylen': 1, 'reducedcontinu': 1, 'antinocicept': 1, 'wherebi': 1, 'abstract': 1, 'lauretti': 1, 'saeki': 1, 'rins': 1, 'periaqueduct': 1, 'monomorph': 1, 'elucid': 1, 'molecular': 1, 'hypothes': 1, 'amioduron': 1, 'recomend': 2, 'proactiv': 1, 'arrestin': 1, 'mu': 1, 'centuri': 1, 'lotsch': 1, 'amino': 1, 'yaksh': 1, 'nocicept': 1, 'progresson': 1, 'premis': 1, 'terman': 1, 'methodon': 1, 'bubbl': 6, 'recaptur': 1, 'occer': 1, 'ferguson': 1, 'pharmacokinet': 1, 'decreasedin': 1, 'terner': 1, 'prefac': 1, 'biomark': 1, 'cyclas': 1, 'hinder': 1, 'bind': 1, 'interindividu': 1, 'mulitifoc': 1, 'plataeu': 1, 'rvm': 1, 'desensit': 1, 'endocytosi': 1, 'celeri': 1, 'affer': 1, 'concomit': 3, 'dextromethorphan': 2, 'circumv': 1, 'unrel': 4, 'pharmacodynam': 1, 'phenomena': 1, 'regulatori': 1, 'maleat': 1, 'potenc': 1, 'colorect': 1, 'maintian': 1, 'radonc': 1, 'statist': 1, 'aspart': 1, 'entiti': 2, 'principl': 1, 'facilitatori': 1, 'rat': 1, 'anitibiot': 1, 'medscap': 1, 'kinas': 1, 'monophosph': 1, 'hyperalges': 1, 'estfan': 1, 'price': 1, 'pharmd': 1, 'amelior': 2, 'albeit': 3, 'underscor': 1, 'burden': 5, 'psycholog': 1, 'mrg': 1, 'urinalysi': 3, 'mao': 1, 'genet': 1, 'resensit': 1, 'ventromedi': 1, 'dupen': 1, 'repsiratori': 1, 'endogen': 1, 'angst': 1, 'brainstem': 1, 'importantli': 2, 'subtyp': 1, 'pharmaceut': 1, 'genotyp': 1, 'concurr': 9, 'kappa': 1, 'nonanalges': 1, 'transcript': 2, 'sander': 1, 'antagonist': 1, 'explicitli': 2, 'excit': 2, 'measuresbut': 1, 'sedaton': 1, 'arnp': 1, 'nonpain': 1, 'perturb': 1, 'adenylyl': 1, 'emptiv': 1, 'portenoy': 1, 'glutam': 1, 'neurotransmitt': 1, 'hyperesthesia': 1, 'neurosci': 1, 'hydrocostison': 1, 'pal': 1, 'gardel': 1, 'neural': 1, 'pathophysiolog': 1, 'overtr': 1, 'cornerston': 1, 'tumour': 2, 'torsad': 1, 'mainstay': 1, 'nmda': 1, 'phd': 1, 'overlap': 2, 'radion': 1, 'human': 1, 'compton': 1, 'releas': 4, 'doverti': 1, 'xd': 1, 'camp': 1, 'vanderah': 1, 'chindalor': 1, 'methyl': 1, 'mcclean': 1, 'adjuv': 1, 'choos': 1, 'theoret': 1, 'introduct': 1, 'yabaluri': 1, 'ersek': 1, 'schemat': 1, 'nur': 1, 'stoutz': 1, 'unoccupi': 1, 'sponr': 1, 'sum': 1, 'ivarsson': 1, 'gif': 2, 'fwma': 1, 'hyperalgesia': 2, 'wider': 2, 'pronocicept': 1, 'chavkin': 1, 'dynorphin': 1, 'experiment': 1, 'agonist': 3, 'reprint': 1, 'glucagon': 1, 'transmiss': 3, 'postul': 1, 'commonli': 1, 'acknowleg': 1, 'yoburn': 1, 'inturrisi': 1, 'viaogt': 1, 'perist': 2, 'allodynia': 1, 'conflict': 1, 'glycol': 1, 'conceptu': 1, 'encod': 1, 'world': 1, 'levorphanol': 1, 'vigano': 1, 'decoupl': 1, 'theori': 1, 'whistler': 1, 'uniform': 1, 'difuss': 1, 'magnitud': 1, 'purport': 1, 'popul': 1, 'practic': 1, 'cyclic': 1, 'tefari': 1, 'deepen': 1, 'govern': 1, 'phenomenon': 1, 'wak': 1, 'amplifi': 1, 'analges': 1, 'intracellular': 2, 'coin': 1, 'cur': 1, 'pretreat': 1, 'religion': 1, 'mk': 1, 'foll': 3, 'rct': 1, 'improp': 1, 'ygd': 3, 'enbrel': 1, 'wf': 1, 'mtx': 1, 'tributari': 1, 'protuber': 1, 'rituximab': 1, 'neuromusc': 2, 'pallor': 2, 'crystalloid': 1, 'pneumosepsi': 1, 'melena': 5, 'tio': 1, 'pneumococcu': 1, 'icteru': 4, 'lysi': 2, 'uot': 1, 'granulocyt': 1, 'coolin': 1, 'aar': 1, 'sterp': 1, 'elvat': 1, 'nearbi': 1, 'eomi': 6, 'sacrement': 2, 'crypto': 2, 'glianda': 1, 'witjh': 1, 'athi': 1, 'blast': 1, 'leukapheresi': 1, 'ig': 2, 'dion': 1, 'lymphocyt': 1, 'vasodil': 1, 'drn': 1, 'crise': 1, 'sinsc': 1, 'atraumat': 2, 'anerob': 2, 'encapsul': 1, 'cul': 2, 'synthesi': 1, 'vasodilit': 1, 'xfusion': 2, 'inand': 1, 'matur': 1, 'leukostasi': 1, 'oxgen': 2, 'malais': 3, 'patella': 1, 'reas': 1, 'desper': 1, 'endotoxin': 1, 'pralysi': 1, 'cisatra': 1, 'bullou': 2, 'interfissur': 1, 'substrat': 1, 'redemonstr': 9, 'hird': 1, 'patint': 1, 'ffm': 1, 'avial': 1, 'signfici': 1, 'brerath': 1, 'purus': 1, 'retrotrach': 1, 'facili': 1, 'chsnge': 1, 'imped': 1, 'xoponex': 1, 'phlebotomist': 1, 'echocardiogram': 2, 'cefaclor': 1, 'nsc': 1, 'paitent': 1, 'highflow': 1, 'pheboltomist': 1, 'reliv': 1, 'photodynam': 1, 'reconnect': 2, 'loopi': 1, 'boost': 3, 'labour': 1, 'xopenex': 1, 'perinieum': 1, 'iiia': 1, 'opacit': 2, 'perfect': 1, 'dyspnic': 1, 'cuurent': 1, 'choc': 1, 'birthday': 1, 'evloc': 1, 'bronchi': 5, 'levalbuterol': 1, 'onco': 1, 'moxifloxicin': 1, 'effexor': 1, 'expl': 1, 'regen': 1, 'ffv': 1, 'zoloft': 1, 'makes': 1, 'hypocontractil': 2, 'pericolon': 1, 'pancolon': 1, 'jmgw': 5, 'trv': 1, 'minu': 2, 'merit': 2, 'intracav': 1, 'panproctocolon': 1, 'fece': 1, 'infraren': 2, 'ventriclr': 1, 'thumbprint': 1, 'septick': 1, 'shsf': 3, 'cephalad': 1, 'frpm': 1, 'schf': 1, 'yestserday': 1, 'lamict': 1, 'lactulous': 1, 'scrape': 2, 'anasarcoid': 1, 'vilego': 1, 'disten': 1, 'resuscti': 1, 'bizarr': 1, 'tricycl': 1, 'dyssynchron': 3, 'maintin': 1, 'taught': 1, 'fbr': 2, 'nmb': 1, 'lamotrigin': 1, 'exal': 1, 'stabal': 1, 'morbid': 1, 'para': 1, 'eighth': 1, 'obstip': 5, 'hydrochlorid': 2, 'opiod': 1, 'evident': 1, 'impov': 1, 'gn': 2, 'metoclopramid': 1, 'paracentesi': 3, 'dubhoff': 1, 'hyperoxygen': 1, 'aiway': 1, 'ninth': 2, 'herp': 1, 'alkalemia': 2, 'fibromyalga': 1, 'flexeril': 1, 'seventh': 2, 'haloperidol': 2, 'sqi': 2, 'shrunken': 2, 'imipramin': 1, 'blowout': 2, 'blat': 1, 'dysynchoroni': 1, 'vicodin': 1, 'tough': 2, 'opiat': 1, 'pwder': 1, 'vzv': 1, 'svv': 4, 'hidden': 2, 'simplex': 1, 'irrecover': 1, 'expuls': 1, 'esbl': 4, 'parac': 1, 'unparalyz': 1, 'dysynchor': 1, 'pbw': 1, 'lefort': 2, 'uap': 1, 'bleak': 1, 'thalessemia': 1, 'cisaturcurium': 1, 'valoplasti': 1, 'viatmain': 1, 'te': 1, 'jointli': 1, 'donw': 1, 'wocrn': 1, 'unstag': 2, 'lepirudin': 1, 'dcub': 1, 'adventiti': 1, 'argu': 2, 'valvulopasti': 1, 'overdistend': 2, 'occult': 3, 'fals': 1, 'wiill': 1, 'lvsv': 1, 'angios': 2, 'contr': 1, 'ecch': 1, 'taccycardia': 1, 'murmr': 1, 'scaral': 1, 'hcfa': 2, 'allpurinol': 1, 'dyne': 1, 'pallid': 1, 'petechai': 1, 'orderedl': 1, 'overse': 1, 'todat': 1, 'neosinephrin': 1, 'valvuloplasi': 1, 'failri': 1, 'jksd': 2, 'ai': 2, 'bicuspid': 1, 'sort': 2, 'esr': 1, 'eschar': 1, 'seenbi': 1, 'coagulapathi': 1, 'ws': 1, 'pnuemoboot': 1, 'collagenas': 1, 'jet': 4, 'wll': 1, 'inasmuch': 1, 'vitk': 1, 'valvoplasti': 1, 'fwf': 1, 'dubiou': 1, 'thermodilut': 1, 'tempor': 5, \"onc'\": 1, 'heprin': 3, 'taccypnea': 1, 'radiu': 1, 'isosourc': 1, 'complexion': 1, 'valvoplsti': 1, 'serotonin': 1, 'aov': 1, 'becuaus': 1, 'wbhc': 1, 'eccentr': 4, 'sklightli': 1, 'vancoymcin': 1, 'domin': 1, 'necrotizin': 1, 'collagenes': 1, 'dcing': 1, 'offset': 1, 'infectio': 1, 'guarante': 1, 'psurg': 1, 'pare': 1, 'quiliti': 1, 'yesterrday': 1, 'imit': 1, 'qdaili': 1, 'moitor': 1, 'inotrop': 1, 'streamlin': 1, 'cdif': 1, 'valvuplasti': 1, 'vigileo': 3, 'viigileo': 1, 'ueni': 1, 'midu': 1, 'vasc': 1, 'bidirect': 1, 'euvolemia': 2, 'wallthicken': 1, 'acalcul': 1, 'cosign': 1, '^d': 1, 'overnig': 1, 'fortun': 1, 'chole': 1, 'awaitin': 1, 'anca': 2, 'mepilex': 4, 'unmet': 1, 'empath': 1, 'locu': 1, 'regress': 3, 'multifactorisl': 1, 'aovti': 1, 'ltach': 1, 'valvulopplasti': 1, 'suctionion': 1, 'crp': 1, 'overnightl': 1, 'reater': 1, 'remodel': 2, 'aggatraban': 1, 'honest': 1, 'gradiernt': 1, 'cholescyst': 1, 'laa': 2, 'ducubitu': 1, 'affili': 1, 'vo': 1, 'raa': 2, 'broadend': 1, 'respiratoti': 1, 'antibid': 1, 'certifi': 3, 'meropenujm': 1, 'wehich': 1, \"pt'\": 1, 'stood': 1, 'receheck': 1, 'reguir': 1, 'transvalvular': 2, 'proced': 1, 'subq': 1, 'ne': 2, 'hardli': 1, 'preform': 3, 'enzymat': 1, 'exbut': 2, 'cardic': 1, 'sqaur': 1, 'aand': 1, 'ttte': 1, 'ymosi': 1, 'rouhnd': 1, 'setgment': 1, 'valvuloplasti': 1, 'antbiot': 1, 'vacno': 1, 'ancef': 1, 'charg': 1, 'meei': 1, 'galactomanna': 1, 'mepiplex': 1, 'woudl': 1, 'alck': 1, 'achil': 1, 'vti': 1, 'siadh': 2, 'valvuloplati': 1, 'hemohynam': 1, 'tilt': 1, 'frlow': 1, 'svi': 1, 'gastrograffin': 1, 'backward': 1, 'neutrophil': 2, 'diureisi': 1, 'histo': 1, 'autoimmun': 1, 'orpharyng': 1, 'consensu': 1, 'nont': 1, 'dysncron': 1, 'crept': 1, 'nine': 2, 'pippracillin': 1, 'crossmatch': 2, 'tamsulosin': 1, 'methypr': 1, 'kangaroo': 1, 'gental': 1, 'aspergillu': 1, 'ige': 1, 'sinsu': 1, 'dysrhythmia': 1, 'pii': 1, 'symetr': 1, 'overdistent': 2, 'grad': 1, 'ple': 1, 'neli': 1, 'malignaci': 1, 'jrci': 3, 'agglutin': 1, 'spun': 1, 'ducolax': 1, 'strongyloid': 1, 'pulmoari': 1, 'hapto': 1, 'overrid': 1, 'culter': 1, 'advac': 1, 'requri': 1, 'adeno': 1, 'dietet': 3, 'exterm': 2, 'eosinophilia': 2, 'overdistens': 1, 'tum': 2, 'hypxic': 1, 'pss': 2, 'tital': 1, 'subtherapuet': 1, 'hyperkalemi': 1, 'bellow': 1, 'decompen': 1, 'deminsh': 1, 'asperg': 1, 'copious': 1, 'entranc': 1, 'dysmorph': 1, 'sosyn': 1, 'biter': 1, 'ovebreath': 1, 'deactiv': 1, 'thoras': 1, 'vw': 1, 'spin': 1, 'vr': 1, 'galatomonan': 1, 'pmhcad': 1, 'kayexalt': 1, 'contnu': 1, 'goultur': 1, 'aip': 1, 'tuleremia': 1, 'remiss': 2, 'exr': 1, 'immun': 1, 'hypoactic': 2, 'platea': 1, 'ischmia': 1, 'strongiloid': 1, 'eosinphil': 1, 'tularemia': 1, 'linger': 1, 'diagonisi': 1, 'stongi': 1, 'steriod': 3, 'effici': 1, 'inflamatori': 2, 'hypocalcemia': 1, 'hevili': 1, 'granular': 2, 'sss': 1, 'therapeud': 1, 'histoplasma': 1, 'instanc': 2, 'inetrv': 1, 'bronhial': 1, 'org': 1, 'vassopress': 1, 'electroly': 1, 'tn': 1, 'hormon': 1, 'systoic': 1, 'pipracillin': 1, 'fyi': 1, 'hypxoc': 1, 'easleir': 1, 'whrn': 1, 'poa': 2, 'skip': 1, 'anecho': 1, 'alongsid': 1, 'nephrolithiasi': 3, 'impercept': 1, 'prostatectomi': 1, 'warn': 1, 'aberrantli': 1, 'amout': 1, 'turp': 1, 'pper': 1, 'espiratori': 1, 'cci': 1, 'unpurpos': 1, 'oxybutynin': 1, 'appi': 1, 'glacuoma': 1, 'wiil': 1, 'aftern': 1, 'arthrodesi': 1, 'weel': 1, 'darvon': 1, 'danazol': 1, 'denis': 1, 'instrins': 1, 'uncertainti': 1, 'cystoscop': 1, 'propoxyphen': 1, 'liek': 1, 'initiait': 1, 'xigri': 1, 'gastro': 1, 'keton': 2, 'nafcillin': 1, 'rhabdo': 1, 'fewminut': 1, 'leukopenia': 1, 'bicard': 1, 'hish': 1, 'donutamn': 1, 'naficillin': 1, 'esopog': 1, 'awiat': 1, 'thrombopoetin': 1, 'patietn': 1, 'ste': 2, 'vegileo': 1, 'levoxyl': 1, 'hyperplasia': 1, 'tpp': 2, 'recdiev': 1, 'influzena': 1, 'segemtn': 1, 'asrriv': 1, 'cistacurim': 1, 'pancx': 1, 'withdrawen': 1, 'elyt': 1, 'neuromuscular': 5, 'scenario': 1, 'protract': 1, 'protnix': 1, 'recew': 1, 'fl': 1, 'dobutaminin': 1, 'tendenc': 1, 'catastroph': 1, 'varici': 1, 'bilaterl': 1, 'curretnli': 1, 'octreotid': 3, 'morph': 1, 'summon': 1, 'hopsit': 1, 'finbrinogen': 1, 'immin': 2, 'italian': 1, 'reintroduct': 1, 'solutiuon': 1, 'lavtat': 1, 'flor': 1, '^sed': 1, 'file': 2, 'peesist': 1, 'brbpr': 1, 'reviv': 1, 'denser': 2, 'vaspressin': 1, 'estrang': 1, 'harsher': 1, 'leveph': 1, 'ambival': 2, 'incl': 4, 'child': 2, 'mar': 2, 'queri': 4, 'comparis': 1, 'dvtpleas': 1, 'mroe': 1, 'fpr': 1, 'sfv': 1, 'unilater': 4, 'betweeen': 1, 'mdag': 2, 'compound': 2, 'twi': 2, 'congreg': 1, 'withdrawan': 1, 'betablock': 2, 'thyroxin': 1, 'tibc': 1, 'mural': 2, 'microorg': 2, 'airflow': 2, 'frail': 2, 'ovrenight': 1, 'ferritin': 1, 'hemoconcentr': 1, 'seemingli': 1, 'denot': 1, 'lactamas': 1, 'othervis': 2, 'costophr': 1, 'cardiophren': 2, 'millimetr': 1, 'tomographi': 2, 'kerley': 2, 'omnipaqu': 4, 'sternum': 2, 'volumetr': 3, 'fract': 1, 'epicardi': 2, 'solitari': 1, 'infraclavicular': 1, 'unmodifi': 1, 'mycobacteri': 1, 'osteosclerot': 1, 'sedond': 1, 'depict': 1, 'hepatobiliari': 5, 'spondyl': 1, 'calic': 1, 'direction': 1, 'cavitari': 3, 'syndesmophyt': 1, 'cbd': 2, 'upj': 1, 'longitudin': 1, 'hyperthyroid': 1, 'hypoechogen': 1, 'mildi': 2, 'cau': 1, 'radioopac': 1, 'spicul': 1, 'bulla': 2, 'ankylos': 1, 'unfold': 1, 'ventrcular': 1, 'hemithorac': 5, 'ligament': 1, 'cavit': 3, 'department': 2, 'hyperostosi': 1, 'hyperintens': 1, 'multisequ': 1, 'cerebri': 1, 'falx': 1, 'ovarian': 1, 'deriv': 2, 'pleurodesi': 1, 'pneumothorac': 2, 'sac': 2, 'locula': 1, 'omentum': 1, 'jbre': 1, 'peron': 5, 'brachiocepahl': 1, 'supratentori': 1, 'frontali': 1, 'talc': 1, 'carcinomatosi': 1, 'hyperecho': 4, 'distr': 2, 'pvt': 1, 'pelviectasi': 1, 'interav': 1, 'extrathorac': 2, 'myasthen': 1, 'omit': 1, 'midbrain': 1, 'ldn': 1, 'prei': 1, 'sticker': 1, 'dess': 1, 'pml': 1, 'denerv': 1, 'retrospect': 1, 'hypopnea': 1, 'cnsd': 1, 'hemosiderin': 1, 'anterolisthesi': 1, 'careplan': 2, 'takeback': 1, 'stump': 3, 'nag': 1, 'retroperi': 1, 'cornebacterium': 1, 'rhochour': 1, 'cionsult': 1, 'dace': 1, 'gpro': 1, 'phlegmon': 1, 'comfor': 1, 'psoa': 1, 'spondylolysi': 1, 'pedicl': 1, 'emg': 1, 'axon': 1, 'schisto': 1, 'ti': 1, 'prot': 2, 'circ': 1, 'cnsc': 1, 'vasculopathi': 1, 'extubatd': 1, 'jxkc': 2, 'calciumacet': 1, 'bill': 1, 'uncomfor': 1, 'axilari': 1, 'hyperlipindemia': 1, 'proctectomi': 1, 'speci': 1, 'corynebacterium': 1, 'cololostomi': 1, 'botul': 1, 'moh': 1, 'cleanz': 1, 'synapt': 1, 'oyt': 1, 'student': 2, 'llg': 1, 'erval': 1, 'atnf': 1, 'cvicu': 1, 'sensorimotor': 1, 'fascial': 1, 'retrolisthesi': 1, 'hoars': 1, 'schatzki': 1, 'anasara': 1, 'usg': 1, 'curbsid': 1, 'hypotn': 1, 'myelopathi': 1, 'myopath': 1, 'electrophysiolog': 1, 'doss': 1, 'hyperchlorem': 1, 'ay': 1, 'klebseilla': 1, 'excis': 1, 'cleaner': 3, 'volit': 1, 'tartrat': 3, 'myoneuropathi': 1, 'nost': 1, 'rssbi': 1, 'doppleralb': 1, 'arhb': 2, 'nj': 1, 'polyneuropathi': 1, 'acr': 1, 'supratherapeuticleukocytosi': 1, 'spp': 1, 'diphteheroid': 1, 'gprotein': 1, 'ipd': 1, 'zolpidem': 1, 'opporun': 1, 'lmid': 1, 'purplish': 1, 'spri': 1, 'inact': 2, 'msiv': 2, 'normoact': 2, 'avnrt': 2, 'dyschroni': 1, 'born': 1, 'oversea': 1, 'woren': 1, 'ertapenem': 1, 'soln': 1, 'dysycron': 1, 'sandblast': 1, 'nondil': 1, 'nf': 1, 'desynchron': 3, 'suctionedx': 1, 'sytem': 1, 'desyncron': 1, 'conssit': 1, 'excavatum': 1, 'pectu': 1, 'wore': 1, 'dysyncroni': 1, 'omeprazol': 1, 'mucormyst': 1, 'dirti': 2, 'beard': 1, 'platpressur': 1, 'inactiv': 1, 'benzonat': 1, 'dissynchron': 2, 'ih': 2, 'oragan': 1, 'conven': 1, 'currenltli': 1, 'nu': 1, 'reble': 1, 'cosamin': 1, 'ascertain': 1, 'painter': 1, 'sarcoma': 1, 'pneu': 1, 'pneuomedistinum': 1, 'ind': 1, 'pjp': 1, 'enya': 2, 'sidehol': 2, 'hyperextend': 1, 'jiroveci': 1, 'thoracostomi': 1, 'obliter': 2, 'kaposi': 1, 'pneumothrax': 1, 'extrapleur': 1, 'oscil': 1, 'anu': 1, 'ecmo': 1, 'subconjunctiv': 1, 'aprreci': 1, 'tradit': 1, 'nystain': 1, 'dyssynchroni': 2, 'repron': 1, 'cisatracurim': 1, 'anteromedi': 1, 'crazi': 1, 'toleratedongo': 1, 'metolozon': 1, 'dfe': 1, 'treatabl': 1, 'psvlevel': 1, 'llast': 1, 'trale': 1, 'consistentlli': 1, 'bmtx': 1, 'methados': 1, 'specialti': 1, 'fenatanyl': 1, 'conj': 1, 'endpoint': 1, 'opthal': 1, 'applli': 1, 'homodynam': 1, 'engulf': 1, 'chemiosi': 1, 'valium': 2, 'persis': 2, 'thrombin': 1, 'cisaturcoruim': 1, 'tve': 1, 'visciou': 1, 'ladi': 2, 'erythem': 1, 'recit': 1, 'continuelactilub': 1, 'opciti': 1, 'proprofol': 1, 'opthamolog': 1, 'phi': 1, 'moth': 1, 'prome': 1, 'familiy': 1, 'gvh': 1, 'exogen': 1, 'biphas': 1, 'intervascularyli': 1, 'idea': 1, 'fulfil': 1, 'arvp': 1, 'sildenafil': 1, 'exce': 1, 'concur': 2, 'pretibi': 1, 'cheek': 1, 'mycafungin': 1, 'bubl': 1, 'cisastacurium': 1, 'radiopaqu': 3, 'gancyclovir': 1, 'cistastacurium': 1, 'chemosi': 1, 'dieresi': 1, 'templ': 1, 'xerofoam': 1, 'tolar': 1, 'trali': 1, 'succeed': 1, 'linazolid': 1, 'cist': 1, 'satt': 1, 'mgc': 1, 'pnuemothorax': 1, 'rota': 1, 'hyp': 1, 'pulmn': 1, 'flexicel': 1, 'parlyt': 1, 'streptococc': 1, 'rotopron': 1, 'bileou': 1, 'attributbl': 1, 'xfuse': 1, 'abscent': 1, 'nitrixoxid': 1, 'inspit': 3, 'sanquin': 1, 'subjunctiv': 1, 'nimbex': 1, 'south': 1, 'plo': 1, 'pie': 1, 'clorid': 1, 'serosangiun': 1, 'dehydrogenas': 1, 'infx': 1, 'occaission': 1, 'interestingli': 1, 'cisastracurium': 1, 'tdecreas': 1, 'paralys': 1, 'plow': 1, 'satsin': 1, 'buddist': 1, 'cisctracurium': 1, 'resudu': 1, 'likey': 1, 'ggancyclovir': 1, 'nitrou': 1, 'diazepam': 1, 'biater': 1, 'cistacurium': 1, 'unchangedand': 1, 'standpoint': 3, 'immunoglobulin': 1, \"c'ing\": 1, 'pnemo': 1, 'cistracurium': 1, 'troli': 1, 'intuab': 1, 'barrotrauma': 2, 'inflitr': 1, 'phigh': 1, 'reparalyz': 1, 'afrebril': 1, 'nitic': 1, 'retin': 1, 'deflat': 1, 'ou': 1, 'inchang': 1, 'rotapron': 1, 'reinflat': 1, 'lamivudin': 1, 'gastriti': 1, 'destat': 2, 'bactim': 1, 'milli': 1, 'opthalmolog': 1, 'tfresidu': 1, 'lactilub': 1, 'voriconazol': 1, 'recom': 1, 'pbishop': 2, 'cystectomi': 1, 'idenitif': 1, 'pneumobilia': 2, 'prove': 1, 'conduit': 1, 'kkgc': 3, 'umbilicu': 1, 'hydroureteronephrosi': 1, 'ercp': 3, 'urostomi': 1, 'accentu': 1, 'outlet': 2, 'divers': 1, 'ileal': 1, 'oment': 1, 'pbec': 2, 'ehab': 3, 'noteworthi': 1, 'intrapulmonari': 1, 'tasp': 1, 'sniff': 1, 'aji': 3, 'ureter': 1, 'aprenchym': 1, 'verg': 1, 'tardu': 1, 'listeria': 1, 'parvu': 1, 'dna': 1, 'malpost': 1, 'intracerebr': 1, 'fasoli': 1, 'retrograd': 1, 'meatal': 1, 'enteroccoc': 1, 'aspf': 1, 'plum': 1, 'discoveri': 2, 'dtpa': 1, 'radlin': 1, 'maa': 1, 'radiopharmaceut': 1, 'mci': 1, 'intab': 1, 'huddl': 2, 'shorter': 1, 'fingerbreadth': 1, 'upsiz': 2, 'caudal': 1, 'pneumopericardium': 1, 'inadvert': 1, 'unconsci': 1, 'cessat': 1, 'baloon': 1, 'venotomi': 2, 'internvet': 1, 'aquir': 1, 'silloutt': 1, \"'lyte\": 1, 'fouind': 1, 'stabiol': 1, 'cnii': 1, 'bode': 1, 'blossom': 1, 'scx': 1, 'xii': 1, 'wdwn': 1, 'thyromegali': 1, 'logic': 1, 'costal': 2, 'natg': 3, 'diaphgram': 1, 'intubatedclin': 1, 'mjmgb': 3, 'rarefact': 1, 'effu': 1, 'atelectas': 2, \"trach'd\": 1, 'cholestat': 2, 'chronicli': 1, 'psuedomona': 1, 'hemidiaphragmat': 1, 'intervertebr': 2, 'subpulmon': 1, 'radicl': 1, 'faiulr': 1, 'bileaflet': 1, 'technologist': 1, 'corticomedullari': 1, 'calculi': 1, 'thechang': 1, 'distol': 1, 'retroaort': 1, 'habitu': 2, 'lltc': 1, 'gmsj': 1, 'gsenapati': 2, 'hemipelvi': 1, 'mxak': 1, 'angri': 1, 'embarrass': 1, 'percodan': 1, 'kleb': 1, 'breakfast': 1, 'nonvisu': 1, 'patientpercodan': 1, 'usag': 1, 'invalid': 2, 'klebsiella': 2, 'frapp': 1, 'ivt': 1, 'disgust': 1, 'metoprol': 1, 'micron': 3, 'anger': 1, 'nsip': 2, 'neglect': 1, 'autonom': 1, 'benadryl': 2, 'recordspercodan': 1, 'enterococc': 1, 'augmentin': 1, 'hrct': 1, 'orthostat': 2, 'kyphoplasti': 2, 'hp': 1, 'riesman': 1, 'suprastom': 1, 'afew': 1, 'metatstat': 1, 'undercontrol': 1, 'hypersentit': 1, 'mra': 2, 'entercocci': 1, 'calmli': 1, 'chocol': 1, 'inlaw': 1, 'paremet': 1, 'eater': 1, 'itp': 2, 'hffm': 1, 'unasyn': 1, 'bbl': 1, 'fuction': 1, 'afrin': 1, 'western': 1, 'pharygnx': 1, 'noseble': 1, 'orang': 1, 'egop': 1, 'oler': 1, 'pharygx': 1, 'pansensit': 1, 'gentler': 1, 'phargnx': 1, 'salt': 1, 'echhymosi': 1, 'uncultur': 1, 'banana': 1, 'oer': 1, 'sjorgen': 1, 'cdb': 1, 'polypectomi': 1, 'scoop': 1, 'overfeed': 1, 'cour': 1, 'rusb': 1, 'driven': 3, 'modestli': 1, 'toung': 1, 'incorrectli': 1, 'wrinkl': 1, 'metprolol': 1, 'whish': 1, 'alevyn': 1, 'etco': 1, 'videoswallow': 1, 'adeuqu': 1, 'apporpri': 1, 'whitmil': 1, 'mie': 1, 'auditori': 1, 'cetuximab': 2, 'appox': 1, 'flut': 1, 'failu': 1, 'provd': 1, 'safest': 1, 'aspiraiton': 1, 'unassist': 2, 'alkylosi': 1, 'scc': 1, 'scca': 2, 'toprol': 2, 'xl': 1, 'factori': 1, 'rigth': 1, 'nasotrachi': 1, 'hypecarb': 1, 'cardiomedistin': 1, 'aorticopulmonari': 1, 'situationclip': 1, 'fee': 1, 'periprosthesi': 1, 'capsul': 2, 'ultras': 1, 'actuat': 1, 'hematemsi': 1, 'proteas': 1, 'laryngoscopi': 1, 'patanol': 1, 'ophthalm': 1, 'amiodoran': 1, 'hematemesi': 1, 'benazepril': 1, 'trazodon': 1, 'olopatadin': 1, 'memantin': 1, 'chewabl': 1, 'tolterodin': 2, 'minist': 1, 'nasonex': 1, 'ec': 1, 'gastroenter': 1, 'microscop': 2, 'hypercholestolemia': 1, 'ld': 1, 'cholest': 1, 'erlotinib': 1, 'totprot': 1, 'intercost': 3, \"'expand\": 1, 'urean': 1, 'dirbili': 1, \"'lhbi\": 1, 'totbili': 1, 'calhco': 1, 'rohila': 1, 'gemcitabin': 1, 'globuln': 1, 'caltco': 1, 'urobiln': 1, 'miscellan': 1, 'ctropnt': 1, 'estgfr': 1, 'american': 1, 'trans': 1, 'paclitaxel': 1, 'mcv': 2, 'vinorelbin': 1, 'cgi': 1, 'hdl': 1, 'ldlcalc': 1, 'hba': 1, 'bilirub': 1, 'xs': 1, 'baso': 1, 'intrepretor': 1, 'mch': 1, \"'lcbi\": 1, 'secretiion': 1, 'intubat': 1, 'ostelamavir': 1, 'carboplatin': 1, 'ingrowth': 1, 'mchc': 1, 'ldl': 1, 'triglyc': 1, \"'lhbc\": 1, 'cisplatin': 1, 'african': 1, 'pituitari': 1, 'pravastatin': 1, 'isoenzym': 1, 'alkpho': 1, 'uricacd': 1, 'rdw': 1, \"'lcba\": 1, 'dipstick': 1, 'trig': 1, 'angap': 1, 'renalep': 1, 'gender': 1, 'intuba': 1, 'docetaxel': 1, 'symmetri': 1, 'occiput': 1, 'uptak': 1, 'survey': 1, 'rsrc': 1, 'adepquatel': 1, 'def': 1, 'cortex': 2, 'magnum': 1, 'calvari': 1, 'skeleton': 1, 'callu': 1, 'humeri': 1, 'wing': 1, 'homogen': 1, 'occipit': 1, 'myelomat': 1, 'shaft': 1, 'adepqu': 1, 'convex': 2, 'txfr': 1, 'noncardiogen': 1, 'preoper': 2, 'bronchocentr': 1, 'hydropneumothorac': 1, 'rulobectomi': 1, 'postop': 2, 'tumesc': 1, 'descrb': 1, 'preexist': 1, 'densest': 1, 'inctrabdomin': 1, 'findingsd': 1, 'inth': 1, 'unenhanc': 1, 'lobular': 1, 'arthrosclerot': 1, 'akinet': 1, 'lymphangiitc': 1, 'intersept': 1, 'cylindr': 1, 'adenocarcinoma': 1, 'aert': 1, 'artherosclerot': 1, 'patter': 1, 'adynam': 1, 'actiuv': 1, 'followng': 1, 'despiti': 1, 'bicep': 2, 'unlad': 1, 'agion': 1, 'psuh': 1, 'hpeatolog': 1, 'planof': 1, 'decras': 1, 'conult': 1, 'dobutmain': 1, 'mailto': 1, 'heptaolog': 1, 'resond': 1, 'penia': 1, 'childbirth': 1, 'cardriovers': 1, 'scopalimin': 1, 'coagulopath': 1, 'intrtstitium': 1, 'haematuria': 1, 'asterixi': 2, 'mantia': 1, 'bivent': 1, 'hepato': 2, 'gwp': 2, 'arrythmogen': 1, 'afig': 1, 'infilitr': 1, 'adj': 1, 'eco': 1, 'hu': 1, 'cale': 1, 'debril': 1, 'anmd': 1, 'perocardium': 1, 'rfa': 1, 'veal': 1, 'blou': 1, 'uncommon': 1, 'threshod': 1, 'hcc': 2, 'leart': 1, 'eith': 1, 'plced': 1, 'pleurisi': 1, 'vtac': 1, 'thrombocyto': 1, 'friabl': 1, 'loadind': 1, 'gwlm': 1, 'burgundi': 1, 'counsult': 1, 'patellar': 2, 'overestim': 1, 'inotrpi': 1, 'milder': 1, 'biacrb': 1, 'cub': 1, 'asmi': 1, 'tachicard': 1, 'azithromax': 1, 'hemodyanm': 1, 'tachyacria': 1, 'contritubt': 1, 'chirrhosi': 1, 'ib': 1, 'ifn': 1, 'fkuid': 1, 'prnbolus': 1, 'cauter': 1, 'hctthi': 1, 'guafenisen': 1, 'argonn': 1, 'couter': 1, 'paient': 1, 'duculox': 1, 'tragic': 1, 'older': 1, 'angiogram': 1, 'bandaid': 1, 'rhonchj': 1, 'benedryl': 1, 'reattampt': 1, 'blush': 2, 'nest': 1, 'bleeder': 1, 'grate': 1, 'notiif': 1, 'sel': 1, 'supersel': 1, 'hemopysi': 1, 'hosptil': 1, 'requrin': 1, 'arteriogram': 2, 'defend': 1, 'epidur': 1, 'palpatori': 2, 'intervenet': 1, 'fbca': 2, 'metasta': 1, 'squeak': 1, 'cauteri': 1, 'myocardium': 1, 'backup': 1, 'intrathec': 1, 'comfot': 1, 'argon': 1, 'fantanyl': 1, 'embospher': 2, 'laptop': 1, 'shitft': 1, 'discount': 1, 'reinstutu': 1, 'wqent': 1, 'ecopi': 1, 'vie': 1, 'embo': 2, 'fami': 1, 'ly': 1, 'flux': 1, 'viser': 1, 'ba': 1, 'microcathet': 1, 'behe': 1, 'deploy': 1, 'particl': 2, 'engin': 1, 'scapolamin': 1, 'lexipro': 1, 'hyperexpans': 1, 'stc': 1, 'trancathet': 1, 'super': 2, 'cannul': 1, 'aortogram': 1, 'cervicocerbr': 1, 'apicoposterior': 1, 'hyperexpand': 1, 'hemopytsi': 1, 'renegad': 1, 'mammari': 1, 'omniflush': 1, 'congestiona': 1, 'mgi': 2, 'sjbj': 1, 'noncompress': 1, 'schizoaffect': 1, 'infero': 1, 'vetil': 1, 'semiupright': 1, 'collom': 1, 'gynecomastia': 1, 'dlp': 2, 'endarterectomi': 1, 'trichrom': 1, 'malform': 1, 'hfe': 1, 'octeotrid': 1, 'dophoff': 1, 'angiodynam': 2, 'cirhhosi': 1, 'steatosi': 1, 'pnumothorax': 1, 'avalu': 1, 'chylothorax': 1, 'pd': 2, 'apoptot': 1, 'precip': 1, 'cryptogen': 1, 'hepatocyt': 1, 'hemachromatosi': 1, 'vareci': 1, 'creatnin': 1, 'arterioven': 1, 'cryo': 1, 'peelaway': 1, 'pneomothorax': 1, 'periodclip': 1, 'mlkb': 3, 'heterozyg': 1, 'vicryl': 2, 'eg': 1, 'sinusoid': 1, 'antitrypsin': 1, 'emant': 1, 'birth': 2, 'cirrhot': 1, 'cha': 1, 'nasointestin': 1, 'anesthet': 2, 'mononuclear': 1, 'perisept': 1, 'ssuspect': 1, 'colonoscopi': 1, 'exch': 2, 'text': 1, 'avm': 3, 'multiphas': 1, 'chylou': 1, 'girth': 1, 'tonsillectomi': 1, 'chgc': 2, 'coronoari': 1, 'mitrial': 1, 'simvastain': 1, 'infction': 1, 'sydrom': 1, 'donepzil': 1, 'prusu': 1, 'rheumat': 1, 'parapneumonia': 1, 'pivot': 1, 'paroxetin': 1, 'disas': 1, 'lateri': 1, 'cae': 1, 'sputem': 1, 'ergotamin': 1, 'paxil': 1, 'mangement': 1, 'dteremin': 1, 'suppliment': 1, 'flet': 1, 'lllinfiltr': 1, 'losartan': 1, 'arenon': 1, 'mediatin': 1, 'grandaught': 1, 'paint': 1, 'recordsno': 1, 'angina': 1, 'intersiti': 3, 'medialstin': 1, 'biotic': 1, 'hemi': 2, 'refrain': 1, 'oncot': 1, 'alten': 1, 'dispar': 1, 'deduct': 2, 'premier': 1, 'financ': 1, 'calv': 2, \"lft'\": 1, 'hc': 1, 'tachcardia': 1, 'depr': 1, 'insent': 1, 'promiment': 1, 'ureathr': 1, 'centru': 1, 'thirst': 1, 'conern': 1, 'vaco': 1, 'asymmet': 1, 'invok': 1, 'intfiltr': 1, 'crestor': 1, 'dysarthria': 1, 'halv': 1, 'filament': 1, 'maalox': 1, 'humidif': 1, 'lambl': 1, 'excres': 1, 'sugget': 1, 'artifactu': 2, 'tng': 1, 'nonerythemat': 1, 'meanin': 1, 'unstaedi': 1, 'nicat': 1, 'vasodilatori': 1, 'medoic': 1, 'ntnd': 2, 'effis': 1, 'wheezez': 1, 'wander': 1, 'shore': 1, 'enifit': 1, 'succinyulcholin': 1, 'frog': 1, 'paramediastin': 1, 'cjmt': 1, 'larazepam': 1, 'evlaut': 1, 'mate': 1, 'trachestomi': 1, 'hemoperitoneum': 1, 'peristals': 1, 'pelvocalic': 1, 'pleae': 1, 'negoti': 1, 'consciou': 1, 'vancopmycin': 1, 'kump': 1, 'thoroughli': 1, 'meastat': 1, 'gmpd': 1, 'calculu': 1, 'trak': 1, 'upr': 1, 'compars': 1, 'periaort': 1, 'myocytoma': 1, 'mycetoma': 1, 'trapezoid': 1, 'ununit': 1, 'avium': 1, 'welcom': 1, 'intot': 1, 'undecid': 1, 'acuiti': 1, 'precedex': 1, 'dexmedetomidin': 1, 'lightheaded': 1, 'nifedipin': 1, 'polydipsia': 1, 'besyl': 1, 'mycobacterium': 1, 'miacalcin': 1, 'wretch': 1, 'nephrot': 1, 'undiagnos': 1, 'satisfact': 1, 'salmon': 1, 'calcitonin': 1, 'isusu': 1, 'nep': 1, 'fati': 1, 'mac': 2, 'spondylosi': 1, 'pda': 2, 'coll': 1, 'azythro': 1, 'amiodarin': 1, 'reasaon': 1, \"leni'\": 1, 'driver': 1, 'disinclin': 1, 'bronchopulmonari': 1, 'fluild': 1, 'cortosol': 1, 'exel': 1, 'amidaron': 1, 'detal': 1, 'minimz': 1, 'rough': 1, 'hyperpotassemia': 1, 'bronchopneumonectomi': 1, 'admidaton': 1, 'stabilil': 1, 'pnenmonectomi': 1, 'solmederol': 1, 'bronchopleur': 2, 'dehis': 1, 'squameou': 1, 'repiatori': 1, 'spectral': 1, 'uni': 1, 'vvia': 1, 'reticularnodular': 1, 'acidosisi': 1, 'intersti': 2, 'extract': 2, 'faclid': 1, 'roadtrip': 1, 'hypertent': 1, 'subglottal': 1, 'dermat': 1, 'simultaen': 1, 'anaphylaxi': 1, 'unrespos': 1, 'clinical': 1, 'indefinit': 1, 'cea': 2, 'disintigr': 1, 'closelyt': 1, 'currentt': 1, 'locomot': 1, 'tyloenol': 1, 'loudest': 1, 'arom': 1, 'hemodyanam': 1, 'cxc': 1, 'pege': 1, 'dhghfhdlhkl': 1, 'ywca': 1, 'reclarifi': 1, 'aarom': 1, \"family'\": 1, 'exac': 1, 'presenti': 1, 'resussit': 1, 'axtreonam': 1, 'reconfirm': 1, 'midax': 1, 'mimic': 2, 'hypoton': 1, 'neet': 1, 'sedret': 1, 'mmt': 1, 'gtibe': 1, 'memeb': 1, 'pite': 1, 'arranag': 1, 'secrit': 1, 'mmdri': 1, 'desaturateion': 1, 'tommorow': 1, 'althoug': 1, 'lactalos': 1, 'conisd': 1, 'respriatori': 1, 'enitr': 1, 'aztreonum': 1, 'maintiain': 1, 'solumedtrol': 1, 'yoga': 1, 'emphasi': 1, 'tremiti': 1, 'monitorec': 1, 'ascrib': 1, 'mute': 1, 'rsvi': 1, 'depenc': 1, 'updatefamili': 1, 'lmn': 1, 'derang': 1, 'tingu': 1, 'ers': 1, 'performac': 1, 'prom': 1, 'defintit': 1, 'tachynpea': 1, 'thereof': 1, 'unspeci': 1, 'ventiat': 1, 'uncomfortbal': 1, 'xcray': 1, 'atrio': 2, 'fev': 1, 'tbm': 1, 'juxtahilar': 1, 'hemoptisi': 1, 'revealedt': 1, 'thalassemia': 1, 'mutlifoc': 1, 'ctr': 2, 'thallasemia': 1, 'airborn': 2, 'tropi': 1, 'unrepons': 1, 'donepizil': 1, 'ileocec': 1, 'nari': 1, 'stom': 1, 'tuberculosi': 2, 'calvaria': 1, 'alkalos': 1, 'gunshot': 1, 'radio': 1, 'pector': 2, 'dental': 1, 'crown': 1, 'opaqu': 1, 'pyridostigmin': 1, 'presistantli': 1, 'hospis': 1, 'grape': 1, 'uppper': 1, 'zyosyn': 1, 'magnesia': 1, 'dti': 1, 'pmb': 1, 'gangren': 1, 'downtrend': 1, 'protamin': 1, \"alzheimer'\": 1, 'baslin': 1, 'iddm': 1, 'liekli': 1, 'brachioradiali': 1, 'steadal': 1, 'novolin': 1, 'respodn': 1, 'cart': 1, 'antidot': 1, 'antacid': 1, 'myasthenia': 1, 'pulsat': 1, 'tendon': 1, 'thrussh': 1, 'cafeteria': 1, 'pigment': 1, 'reaccess': 1, 'comtinu': 1, 'aspiratin': 1, 'resorpt': 1, 'blancheabl': 1, 'peumothorax': 1, 'conceiv': 1, 'pneumotharax': 1, 'hyperemia': 1, 'subcutaen': 1, 'reidentifi': 1, 'proc': 1, 'slice': 1, 'cervicothorac': 1, 'nmka': 1, 'subseg': 1, 'pw': 1, 'interlobular': 1, 'rjab': 1, 'smooth': 1, 'circular': 1, 'arter': 1, 'rahni': 1, 'targetoid': 1, 'atrioventricular': 1, 'suprasellar': 1, 'perpher': 1, 'diag': 1, 'streptococcu': 1, 'tel': 1, 'cryptococcosi': 1, 'scalp': 1, 'likel': 1, 'cryptococcu': 1, 'tdi': 1, 'arthralgia': 1, 'respirophas': 1, 'subactu': 1, 'irrhythm': 1, 'donor': 2, 'nob': 1, 'sugggest': 1, 'twelv': 1, 'tomak': 1, 'maximin': 1, 'grant': 1, 'ventilaiton': 1, 'pulmnonari': 1, 'mbi': 1, 'abdomn': 1, 'andcvc': 1, 'dissoci': 1, 'thickedn': 1, 'midazalam': 1, 'arrthym': 1, 'fibriogen': 1, 'leve': 1, 'emv': 1, 'lover': 1, 'afp': 1, 'prodiv': 1, 'trimetoprim': 1, 'kitchen': 1, 'transpulmon': 1, 'scrap': 1, 'critaid': 1, 'intrpulmonari': 1, 'splenomeg': 1, 'mivf': 1, 'muscos': 1, 'corticosteroid': 1, 'bmv': 1, 'mtb': 1, 'friabil': 1, 'sphincterotomi': 1, 'echymos': 1, 'chrnic': 1, 'frompt': 1, 'ndg': 1, '$': 1, 'macer': 1, 'lowerin': 1, 'inter': 1, 'friablilti': 1, 'rhoncrou': 1, 'dollar': 1, 'hme': 1, 'choledocolithiasi': 1, 'sulfameth': 1, 'burn': 1, 'pcr': 1, 'myelosuppress': 1, 'settign': 1, 'sah': 1, 'arteriographi': 1, 'wellbutrin': 1, 'aphac': 1, 'prozac': 1, 'underwhelm': 1, 'usus': 1, 'cce': 1, 'unclot': 1, 'paresi': 1, 'llb': 1, 'sdh': 1, 'mwf': 1, 'salvag': 1, 'goutm': 1, 'atheromat': 1, 'flight': 1, 'npne': 1, 'gadolinium': 1, 'tall': 1, 'dimension': 1, 'cyberknif': 1, 'pmeumonia': 1, 'hydromorphon': 1, 'colicki': 1, 'inn': 1, 'gemzar': 1, 'patientpenicillin': 1, 'worsten': 1, 'umb': 1, 'fuel': 1, 'panc': 1, 'macrolid': 1, 'gastroparesi': 1, 'perspect': 1, 'guaifenisin': 1, 'lypmhangit': 1, 'failuir': 1, 'rhonchu': 1, 'mucinex': 1, 'dalilah': 1, 'summar': 1, 'spb': 1, 'sicua': 1, 'bedisd': 1, 'im': 1, 'bedsidepronounc': 1}, 'pneumonia_alive': {'myocardi': 168, 'appetit': 139, 'right': 972, 'cardiomyopathi': 41, 'wave': 411, 'old': 918, 'extent': 138, 'caviti': 320, 'rr': 626, 'low': 709, 'cx': 390, 'ectopi': 402, 'pic': 84, 'wall': 437, 'amt': 540, 'ob': 89, 'po': 648, 'diagnost': 225, 'caridomyopathi': 1, 'outpati': 135, 'iv': 811, 'major': 144, 'result': 579, 'cardiomegali': 256, 'lb': 256, 'abd': 599, 'lesion': 363, 'underli': 290, 'mild': 707, 'within': 541, 'gi': 567, '%': 832, 'normal': 849, 'nutrit': 375, 'u': 574, 'toler': 634, 'uo': 226, 'product': 536, 'yr': 153, 'one': 486, 'report': 934, '>': 710, 'puls': 532, 'dilat': 415, 'pancrea': 158, 'glass': 179, 'increas': 822, 'suspici': 170, 'poor': 441, 'allow': 210, 'hiv': 63, 'onc': 306, 'ginger': 8, 'npn': 284, 'contraind': 360, 'p': 844, 'new': 697, 'anterior': 345, 'hemodynam': 487, 'output': 334, 'medic': 956, 'diffus': 438, 'pericardium': 257, 'atelectasi': 533, 'diagnosi': 851, 'concern': 483, 'pass': 292, 'nuero': 22, 'cours': 437, 'rt': 262, 'watch': 107, 'correl': 281, 'harrt': 2, 'regurgit': 278, 'femal': 269, 'pcp': 148, 'failur': 476, 'tachycardia': 390, 'yesterday': 453, 'assist': 375, 'small': 773, 'test': 388, 'green': 106, 'note': 885, 'patent': 424, 'global': 176, 'skin': 664, 'trip': 17, 'possibl': 682, 'adequ': 525, 'pain': 680, 'bibasilar': 301, 'admit': 928, 'npo': 408, 'patient': 869, 'c': 778, 'ef': 158, 'rf': 23, 'monitor': 688, 'gener': 547, 'eat': 204, 'difficulti': 326, 'ra': 381, 'mark': 273, 'n': 409, 'patchi': 212, 'flatten': 41, 'lv': 245, 'probabl': 459, 'studi': 754, 'ambul': 163, 'alert': 514, 'appl': 39, 'high': 490, 'dose': 572, 'yellow': 491, 'comment': 461, 'secondari': 331, 'palpabl': 159, 'full': 650, 'picc': 378, 'woman': 385, 'colon': 169, 'command': 522, 'effect': 461, 'start': 572, 'predominantli': 96, 'pnd': 98, 'sip': 118, 'chair': 325, 'nontend': 94, 'thick': 542, 'conclus': 290, 'transfer': 630, 'septic': 100, 'presenc': 112, 'leak': 165, 'better': 415, 'pressur': 447, 'ground': 177, 'asymptomat': 85, 'spleen': 186, 'moder': 648, 'induc': 87, 'initi': 447, 'diminish': 486, 'etiolog': 234, 'coliti': 50, 'base': 779, 'size': 685, 'festiv': 1, 'free': 499, 'mr': 402, 'intak': 235, 'sat': 722, 'therapi': 300, 'reason': 873, 'review': 599, \"'s\": 711, 'perspect': 7, 'rare': 188, 'eve': 109, 'due': 678, 'admiss': 437, 'bladder': 172, 'margin': 125, 'around': 300, 'stool': 632, 'endstag': 1, 'sputum': 549, 'drink': 134, 'port': 348, 'ambien': 41, 'window': 181, 'qd': 121, 'lung': 903, 'mid': 569, 'airspac': 127, 'larger': 110, 'system': 432, 'field': 318, 'tte': 305, 'focus': 50, 'ls': 460, 'bs': 596, 'cathet': 501, 'tr': 245, 'condit': 875, 'sob': 532, 'site': 295, 'loos': 232, 'thrombu': 131, 'evalu': 778, 'aid': 96, 'lt': 128, 'sepsi': 230, 'resp': 651, 'unsteadi': 21, 'ivf': 453, 'ate': 46, 'anasarca': 74, 'spec': 121, 'pend': 497, 'hg': 305, 'levo': 181, 'cc': 645, 'soft': 703, 'occasion': 328, 'boost': 29, 'haart': 18, 'view': 511, 'greater': 256, 'consult': 357, 'law': 35, 'unremark': 350, 'without': 687, 'use': 521, 'multipl': 514, 'sleep': 398, 'strand': 47, 'stabl': 791, 'leav': 107, 'process': 392, 'time': 801, 'vtach': 12, 'abdomin': 444, '[': 430, 'tmax': 459, 'rest': 457, 'absent': 249, 'see': 526, 'typhliti': 3, 'bilater': 719, 'hsv': 16, 'anzemet': 6, 'med': 597, 'left': 971, 'valv': 370, 'micu': 575, 'bowel': 570, 'motion': 364, 'id': 418, 'juic': 28, 'chf': 330, 'avoid': 138, 'crf': 26, 'hungri': 35, 'remov': 471, 'ventricular': 491, 'ct': 617, 'previou': 774, 'date': 670, 'techniqu': 515, 'liquid': 342, 'good': 567, '(': 1005, 'find': 853, 'mass': 319, 'br': 22, ']': 427, 'intact': 442, 'breath': 645, 'side': 609, 'rv': 258, 'clinic': 587, 'daughter': 231, 'sign': 496, 'bactrim': 77, 'w': 820, 'event': 483, 'diff': 222, 'oob': 352, 'call': 554, 'prespar': 2, 'foley': 541, 'le': 183, 'cranberri': 4, 'continu': 724, 'affect': 91, 'higher': 117, ')': 1005, '&': 759, 'back': 537, 'clindamycin': 37, 'tx': 307, 'sauc': 23, 'deni': 453, 'systol': 480, 'pulmon': 188, 'overnight': 490, 'collect': 164, 'wors': 177, 'v': 392, 'cont': 719, 'echocardiograph': 98, 'structur': 370, 'cxr': 545, 'sclerot': 105, 'decreas': 604, 'contrast': 593, 'could': 493, 'interv': 673, 'gu': 460, 'sampl': 146, 'may': 654, 'amber': 107, 'administr': 243, 'weight': 528, 'state': 377, 'thicken': 411, 'code': 583, 'leaflet': 273, 'bsa': 236, 'progress': 612, 'copiou': 159, 'non': 755, 'precordi': 101, 'requir': 554, 'gerd': 83, 'otherwis': 429, 'pedal': 140, 'neg': 494, 'tach': 49, 'abx': 483, 'infecti': 232, 'urin': 669, 'mm': 558, 'excurs': 79, 'fals': 14, 'ep': 28, 'ever': 9, 'indic': 849, 'atrium': 362, 'discomfort': 230, 'secret': 435, 'earli': 270, 'desensit': 3, 'much': 359, 'tricuspid': 262, 'repres': 405, 'impress': 852, 'anoth': 175, 'unabl': 451, 'dyspnea': 328, 'ok': 172, 'sm': 207, 'pa': 418, 'seen': 785, 'antibiot': 485, 'bracial': 1, 'hypotens': 319, 'famili': 591, 'bpm': 529, 'sound': 587, 'white': 329, 'pvc': 241, 'pr': 204, 'defin': 95, 'height': 490, 'frequent': 374, 'crackl': 389, 'examin': 921, 'signific': 605, 'onset': 93, 'day': 675, 'although': 384, 'adjust': 182, 'futher': 19, 'protocol': 188, 'wa': 905, 'show': 508, 'pcv': 7, 'limb': 131, 'pericardi': 407, 'strength': 164, 'axial': 254, 'minim': 527, 'prior': 824, 'grade': 205, 'arteri': 625, 'evid': 702, 'trace': 670, 'integ': 65, 'ill': 271, '@': 435, 'circumferenti': 23, 'social': 494, 'abl': 525, 'comparison': 767, 'slightli': 559, 'antecub': 23, 'orient': 503, 'blood': 576, 'cold': 50, 'ale': 9, 'fe': 35, 'pubi': 5, 'also': 734, 'cough': 676, 'adren': 175, 'place': 726, 'larg': 562, 'feel': 316, 'x': 771, 'renal': 372, 'color': 475, 'delay': 162, 'tachycard': 175, 'area': 552, 'f': 494, 'pattern': 282, 'upper': 731, 'regular': 358, 'abnorm': 515, 'bone': 218, 'follow': 720, 'pleural': 753, 'gait': 73, 'bedsid': 352, 'coars': 409, 'cardiac': 664, 'lack': 97, 'coron': 171, 'overload': 256, 'inflammatori': 87, 'specif': 362, 'hr': 808, 'statu': 861, 'today': 664, 'estim': 171, 'baselin': 432, 'tamponad': 47, 'urg': 6, 'lab': 577, 'inform': 489, 'symphysi': 46, 'artifact': 182, 'hypokinesi': 93, 'final': 876, 'l': 763, 'pmh': 390, 'gland': 145, 'variant': 37, 'rhythm': 656, 'exam': 513, 'singl': 426, 'sptum': 2, 'obtain': 651, 'enlarg': 430, 'lasix': 354, 'involv': 293, 'pt': 729, '#': 982, 'shift': 551, 'felt': 164, 'histori': 810, 'aortic': 391, 'effus': 838, 'tv': 157, 'qr': 107, 'technic': 304, 'edema': 741, 'take': 439, 'neuro': 569, 'clip': 821, 'ox': 221, 'balanc': 401, 'tendon': 13, 'sinu': 725, 'sent': 561, 'cv': 669, 'pleas': 669, 'voltag': 155, 'infarct': 248, 'none': 536, 'gallbladd': 166, 'ha': 906, 'lytic': 133, 'team': 493, 'cooper': 284, 'r': 770, 'persist': 524, 'md': 523, 'dri': 352, 'allerg': 27, 'kidney': 248, 'frothi': 41, 'sever': 621, 'mitral': 313, 'fluid': 718, 'request': 267, 'treat': 397, 'line': 733, 'mother': 102, 'rel': 184, 'veri': 539, 'consist': 636, 'bp': 760, 'imag': 721, 'night': 460, 'remain': 738, 'commod': 94, 'elev': 528, 'mg': 632, 'clamp': 74, 'access': 497, 'osseou': 210, 'interpret': 326, 'last': 583, 'tissu': 284, 'lead': 345, 'pulmonari': 827, 'pelvi': 178, 'hypertens': 428, 'chang': 980, 'nsg': 167, 'need': 683, 'afebril': 541, 'mdct': 152, 'ns': 360, 'depress': 232, 'reconstruct': 68, 'mildli': 409, 'ab': 79, 'liver': 260, 'limit': 539, 'clear': 782, 'stay': 197, 'reaction': 314, 'biaxin': 1, 'pneumonia': 939, 'contact': 358, 'current': 625, 'nurs': 527, 'prophylaxi': 349, 'st': 515, 'suggest': 582, 'per': 617, 'year': 906, 'midnight': 156, 'attenu': 67, 'exclud': 382, 'thi': 1024, 'plan': 683, 'physiolog': 185, 'opac': 661, 'temp': 382, 'throughout': 532, 'doppler': 388, 'weak': 310, 'pleasant': 204, 'compar': 793, 'nausea': 204, 'sagitt': 161, 'mac': 12, 'pm': 869, 'qualiti': 322, 'amount': 496, 'ventricl': 350, 'cap': 163, 'abdomen': 553, 'decis': 169, 'transesophag': 14, 'function': 452, 'atrial': 417, 'pad': 83, 'lymphoma': 24, 'interatri': 211, 'fibril': 200, 'lvot': 159, 'diamet': 242, 'exist': 128, 'surgeri': 347, 'best': 84, 'thre': 2, 'unchang': 787, 'h': 558, 'annular': 105, 'endocard': 96, 'trivial': 171, 'coexist': 12, 'ascend': 203, 'like': 713, 'septum': 219, 'bioprosthet': 15, 'suprastern': 4, 'though': 361, 'ap': 749, 'echocardiographi': 18, 'end': 273, 'promin': 349, 'biventricular': 75, 'level': 604, 'sinc': 788, 'calcif': 325, 'extens': 304, 'suboptim': 149, 'block': 184, 'gradient': 194, 'similar': 264, 'heart': 738, 'complet': 524, 'lvef': 277, 'chamber': 203, 'fascicular': 52, 'aha': 44, 'rate': 660, 'tee': 49, 'supraventricular': 24, 'data': 553, 'cavoatri': 115, 'borderlin': 221, 'radiograph': 592, 'mvp': 100, 'aorta': 412, 'inpati': 257, 'appear': 821, 'locul': 114, 'prolaps': 121, 'stabil': 107, 'prosthesi': 32, 'recommend': 407, 'mat': 12, 'multifoc': 226, 'avr': 21, 'symmetr': 305, 'placement': 561, 'silhouett': 382, 'present': 850, 'man': 516, 'hypertrophi': 176, 'ray': 232, 'pneumothorax': 545, 'space': 191, 'junction': 229, 'lvh': 100, 'la': 229, 'region': 402, 'chest': 929, 'ps': 318, 'implic': 42, 'fat': 82, 'cm': 604, 'portabl': 784, 'diseas': 456, 'echo': 308, 'fever': 470, 'hodgkin': 7, 'retrocardiac': 231, 'contract': 104, 'prematur': 157, 'pre': 229, 'regard': 224, 'preserv': 124, 'approx': 210, 'morphin': 169, 'whole': 73, 'trend': 289, 'complain': 113, 'speech': 262, 'rhonchor': 169, 'mip': 9, 'posiiton': 1, 'lift': 104, 'inlin': 11, 'scant': 164, 'respeat': 1, 'multipodu': 25, 'reciev': 132, 'awak': 330, 'troubl': 33, 'almost': 92, 'overbreath': 63, 'sxing': 48, 'word': 126, 'sedat': 322, 'posit': 668, 'poorli': 78, 'needl': 93, 'teen': 128, 'tlcl': 34, 'therapist': 52, 'brief': 121, 'warm': 349, 'top': 111, 'success': 213, 'secretiona': 1, 'approp': 26, 'asleep': 143, 'tri': 262, 'confirm': 334, 'lobe': 666, 'somnul': 7, 'yellowish': 43, 'evaul': 2, 'maneuv': 43, 'trazadon': 33, 'dc': 216, 'servic': 395, 'lidocain': 128, 'patch': 109, 'reposit': 226, 'red': 186, 'replct': 85, 'abp': 83, 'xylocain': 1, 'wob': 77, 'portex': 61, 'normalizes': 1, 'universla': 1, 'intervent': 192, 'son': 263, 'scv': 7, 'thin': 336, 'air': 485, 'receiv': 600, 'certain': 15, 'given': 728, 'foot': 70, 'ambu': 33, 'movement': 416, 'wait': 111, 'appropri': 416, 'spinal': 64, 'dispo': 203, 'rn': 336, 'recent': 559, 'get': 420, 'move': 380, 'fluor': 17, 'reduc': 183, 'infus': 422, 'ring': 35, 'ultrasound': 268, 'ms': 303, 'oligur': 19, 'make': 313, 'co': 372, 'translat': 34, 'run': 189, 'everi': 102, 'lido': 12, 'vari': 55, 'susp': 7, 'mostli': 167, 'whit': 2, 'awok': 37, 'ativan': 185, 'mdi': 177, 'rang': 295, 'toller': 20, 'hi': 483, 'intravascular': 20, 'dr': 525, 'spontan': 273, 'ronchi': 43, 'episod': 346, 'intial': 21, 'determin': 184, 'ortho': 18, 'drape': 85, 'meropenem': 64, 'ot': 82, 'lowest': 18, 'tender': 386, 'discharg': 228, 'vena': 111, 'paplabl': 2, 'earlier': 322, 'criteria': 102, 'cmv': 104, 'nt': 257, 'infiltr': 541, 'mmv': 28, 'map': 260, 'nose': 232, 'puff': 33, 'hco': 49, 'short': 436, 'drain': 586, 'sourc': 255, 'bump': 58, 'friday': 50, 'peg': 172, 'vent': 279, 'respiratori': 647, 'encourag': 329, 'often': 60, 'draw': 147, 'volum': 491, 'read': 395, 'loss': 237, \"n't\": 160, 'respir': 103, 'resolv': 398, 'mainli': 21, 'incont': 34, 'cd': 90, \"pt'\": 13, 'collar': 72, 'diagnos': 84, 'local': 197, 'remaind': 170, 'period': 245, 'sore': 72, 'track': 126, 'motrin': 30, 'usual': 187, 'blue': 29, 'titrat': 228, 'dim': 162, 'head': 442, 'pick': 72, 'ac': 212, 'discuss': 451, 'ph': 146, 'mouth': 284, 'drainag': 198, 'fentanyl': 201, 'pp': 79, 'peripher': 475, 'withou': 2, 'spong': 14, 'min': 512, 'drift': 34, 'nd': 228, 'tabl': 70, 'address': 100, 'bilat': 330, 'thigh': 67, 'wear': 111, 'tol': 263, 'ho': 139, 'asept': 7, 'alter': 200, 'medial': 100, 'less': 470, 'icu': 479, 'insicion': 1, 'redden': 99, 'vancomycin': 277, 'seal': 71, 'effici': 1, 'done': 488, 'ulcer': 355, 'distal': 317, 'repond': 7, 'centr': 2, 'flatu': 97, 'latest': 305, 'cl': 78, 'stock': 6, 'acut': 596, 'pink': 147, 'venou': 360, 'modifi': 18, 'vein': 357, '``': 301, 'venodyn': 21, 'sr': 467, 'nutren': 76, 'supervis': 168, 'issu': 279, 'button': 18, 'minut': 338, 'respond': 399, 'improv': 754, 'mcg': 253, 'tourniquet': 3, 'fill': 190, 'tidal': 131, 'tk': 3, 'blb': 27, 'dorsal': 6, 'superior': 203, 'laminectomi': 15, 'bed': 499, 'occlus': 65, 'exercis': 63, 'arous': 232, 'carri': 12, 'respi': 8, 'rhonchi': 250, 'encount': 5, 'inhal': 138, 'reflex': 92, 'nap': 83, 'yankour': 4, 'plct': 92, 'gap': 37, 'doubl': 117, 'hemmodynam': 1, 'happi': 27, 'let': 61, 'tomorrow': 297, 'mucu': 59, 'sheet': 117, 'residu': 355, 'develop': 323, 'acidosi': 109, 'leg': 228, 'return': 305, 'becom': 246, 'abg': 507, \"'d\": 324, 'impair': 187, 'geet': 1, 'mae': 304, 'reassess': 86, 'sc': 207, 'incid': 117, 'pneomoboot': 1, 'pulm': 351, 'accordingli': 58, 'light': 178, 'fio': 469, 'transpar': 20, 'excess': 39, 'exp': 195, 'psv': 227, 'prefer': 58, 'commun': 446, 'ij': 205, 'dual': 47, '^': 93, 'guidanc': 148, 'awar': 377, 'cava': 109, 'worn': 9, 'transfus': 154, 'apneic': 38, 'va': 72, 'moment': 19, 'perrla': 80, 'briefli': 131, 'bronchodil': 74, 'cardovascular': 1, 'inflat': 42, 'special': 19, 'vvg': 1, 'hct': 498, 'english': 49, 'chronic': 454, 'proxim': 172, 'undisturb': 7, 'insomnia': 24, 'mv': 84, 'send': 168, 'ted': 4, 'trach': 147, 'pill': 125, 'go': 301, 'asynchron': 4, 'pna': 714, 'rsbi': 210, 'ess': 13, 'refus': 152, 'trial': 194, 'apap': 12, 'next': 280, 'supin': 248, 'siginificantli': 2, 'fusion': 27, 'fashion': 84, 'appli': 289, 'distress': 453, 'wheez': 400, 'svt': 57, 'mani': 102, 'pmicu': 49, 'tlc': 95, 'secrect': 17, 'someth': 44, 'granddaught': 11, 'via': 514, 'pump': 54, 'mandatori': 2, 'vol': 125, 'vt': 213, 'rm': 24, 'clog': 19, 'duoderm': 69, 'disscuss': 5, 'simpl': 337, 'bb': 113, 'oper': 72, 'room': 257, 'cpt': 219, 'punctur': 74, 'dress': 237, 'accept': 145, 'venipunctur': 12, 'medecin': 1, 'pillow': 54, 'rhoncher': 45, 'rig': 1, 'question': 455, 'difficult': 376, 'bm': 396, 'emg': 10, 'fib': 137, 'longterm': 10, 'disharg': 1, 'nonspecif': 107, 'softli': 73, 'lip': 114, 'care': 655, 'lamonectomi': 1, 'sicu': 119, 'past': 361, 'guid': 141, 'extremeti': 49, 'sbp': 421, 'alreadi': 99, 'achiev': 70, 'desat': 268, 'chines': 10, 'treatment': 356, 'wnl': 343, 'mode': 200, 'htn': 287, 'aggress': 197, 'howev': 495, 'chngd': 1, 'capac': 50, 'intent': 14, 'cvbg': 1, 'week': 276, 'caudal': 10, 'timeout': 88, 'onli': 469, 'procedur': 497, 'requisit': 6, 'anti': 92, 'desatur': 160, 'whez': 4, 'buffer': 10, 'occlud': 24, 'easili': 236, 'later': 563, 'waken': 8, 'tan': 230, 'compens': 62, 'lumen': 246, 'unev': 109, 'deep': 303, 'transient': 137, 'attempt': 390, 'thk': 21, 'deminish': 20, 'slept': 219, 'tf': 441, 'rash': 251, 'oxygen': 321, 'scat': 6, 'seet': 1, 'second': 167, 'breakdown': 132, 'abov': 556, 'oclock': 1, 'cdi': 36, 'flush': 219, 'acid': 241, 'subclavian': 216, 'diminsh': 54, 'selding': 4, 'devic': 416, 'abras': 70, 'hour': 579, 'round': 273, 'albuterol': 288, 'mod': 258, 'suct': 55, 'dopamin': 23, 'complaint': 359, 'switch': 178, 'recov': 98, 'tegaderm': 25, 'prolong': 208, 'compress': 255, 'nh': 62, 'voic': 230, 'anatomi': 19, 'gd': 31, 'meropenum': 32, 'secur': 158, 'plam': 2, 'hd': 105, 'becam': 237, 'repeat': 425, 'mtg': 27, 'vs': 423, 'basil': 114, 'stat': 54, 'q': 552, 'well': 813, 'prn': 458, 'apex': 132, 'letharg': 171, 'got': 141, 'obey': 35, 'nuten': 2, 'simv': 24, 'prognosi': 68, 'sxed': 5, 'pedi': 38, 'fluse': 2, 'dopa': 17, 'stenosi': 265, 'suction': 336, 'deceas': 5, 'avl': 23, 'convers': 130, 'drawn': 192, 'angiographi': 45, 'written': 115, 'flang': 10, 'drastic': 3, 'notifi': 191, 'check': 469, 'increa': 7, 'aspir': 466, 'speak': 228, 'ten': 15, 'immedi': 198, 'cath': 293, 'ibuprofen': 27, 'seem': 264, 'grimac': 67, 'guidewir': 81, 'maintain': 450, 'uncomfort': 83, 'burst': 25, 'alb': 123, 'sediment': 109, 'french': 108, 'eye': 367, \"'\": 157, 'insert': 216, 'toilet': 252, 'awaken': 49, 'long': 255, 'hold': 385, 'realli': 42, 'max': 262, 'freq': 159, 'bolus': 252, 'ask': 258, 'unless': 71, 'intub': 412, 'previous': 317, 'abduct': 6, 'peep': 262, 'avail': 324, 'vanco': 386, 'notiifi': 1, 'spike': 154, 'restart': 341, 'ivb': 16, 'midodrin': 5, 'set': 565, 'descript': 45, 'boot': 212, 'keep': 346, 'lower': 759, 'found': 314, 'await': 347, 'detail': 278, 'apnea': 92, 'oriet': 1, 'extern': 41, 'mechan': 187, 'assess': 739, 'wife': 173, 'fellow': 92, 'transport': 138, 'sch': 100, 'readi': 203, 'goal': 394, 'clean': 122, 'staff': 148, 'identifi': 380, 'doe': 546, 'object': 247, 'order': 557, 'problem': 215, 'lg': 141, 'agress': 31, 'paus': 27, 'semi': 128, 'secr': 11, 'made': 523, 'satisfactori': 104, 'cuff': 198, 'befor': 291, 'know': 138, 'respons': 548, 'yo': 382, 'neuromuscular': 12, 'aerat': 206, 'dure': 460, 'bolu': 354, 'cervic': 161, 'blister': 47, 'mso': 43, 'weaker': 16, 'tip': 500, 'support': 581, 'rilutek': 1, 'respect': 62, 'exit': 18, 'arm': 304, 'rotat': 113, 'tonight': 204, 'tingl': 51, 'visit': 322, 'j': 68, 'tenaci': 27, 'water': 234, 'schedul': 169, 'comfort': 410, 'b': 448, 'bell': 21, \"''\": 265, 'perform': 535, 'open': 285, 'cent': 26, 'sulfat': 118, 'cmh': 154, 'ani': 515, 'risk': 270, 'prep': 110, 'muscl': 224, 'equal': 147, 'elbow': 39, 'cpap': 253, 'hypercarbia': 42, 'ventil': 296, 'spont': 102, 'distend': 389, 'vbg': 50, 'quad': 54, 'speek': 3, 'retrograd': 4, 'secreion': 2, 'clot': 149, 'splint': 25, 'relief': 135, 'manag': 351, 'colac': 156, 'updat': 336, 'hemo': 15, 'east': 20, 'ahead': 7, 'tube': 539, 'hand': 216, 'irrig': 34, 'oral': 456, 'afternoon': 351, 'work': 288, 'careview': 109, 'touch': 121, 'breathsound': 29, 'nbp': 135, 'pinkish': 12, 'qs': 69, 'brufen': 1, 'two': 358, 'still': 454, 'tracheostomi': 149, 'us': 224, 'look': 208, 'intermitt': 268, 'remark': 57, 'rehab': 252, 'static': 20, 'sx': 214, 'neck': 249, 'brown': 254, 'setret': 1, 'labil': 85, 'sigh': 6, 'worsen': 516, 'brisk': 102, 'carevu': 225, 'hydrat': 110, 'autocorrect': 2, 'includ': 524, \"tf'ing\": 10, 'deliv': 16, 'wasreat': 1, 'flowsheet': 440, 'three': 173, 'male': 344, 'longer': 184, 'unit': 326, 'meet': 188, 'describ': 182, 'lami': 3, 'perrl': 275, 'nif': 20, 'lavag': 65, 'suitabl': 25, 'feed': 327, 'approxim': 245, 'held': 307, 'altern': 118, 'verifi': 40, 'center': 45, 'central': 380, 'drop': 382, 'frustrat': 34, 'art': 69, 'prbc': 109, '<': 316, 'case': 176, 'novac': 1, 'tent': 181, 'onto': 45, 'anxiou': 228, 'even': 400, 'pale': 149, 'analysi': 100, 'screen': 158, 'length': 142, 'wide': 115, 'anxieti': 195, 'perl': 74, 'noc': 143, 'statlock': 25, 'close': 327, 'effort': 126, 'remeron': 6, 'measur': 348, 'placment': 105, 'vss': 153, 'becaus': 176, 'feet': 117, \"o'clock\": 4, 'th': 93, 'depriv': 6, 'brush': 8, 'ketoconazol': 2, 'alarm': 102, 'posb': 1, 'extrem': 567, 'put': 232, 'cines': 1, 'except': 435, 'immobl': 14, 'control': 466, 'section': 259, 'wake': 125, 'fairli': 113, 'yankeur': 27, 'dist': 21, 'turn': 341, 'post': 566, 'rul': 166, 'understand': 138, 'tylenol': 257, 'rue': 67, 'nsr': 348, 'wean': 491, 'overlaid': 2, 'known': 421, 'spo': 438, 'addit': 540, 'anesthesia': 154, 'gag': 169, 'lo': 153, 'bag': 116, 'sl': 147, 'precaut': 434, 'tailor': 55, 'complic': 317, 'soon': 100, 'flouroscop': 11, 'nova': 4, 'heal': 103, 'spit': 24, 'monday': 106, 'forearm': 53, 'tripl': 94, 'seveal': 1, 'afer': 2, 'approach': 93, 'rua': 7, 'buzzer': 1, 'reach': 116, 'employ': 22, 'advanc': 379, 'ascertain': 8, 'cvp': 175, 'morn': 372, 'integr': 112, 'facil': 120, 'point': 265, 'al': 12, 'axilla': 41, 'douderm': 9, 'ltc': 3, 'ir': 109, 'pmv': 90, 'neruo': 8, 'ting': 174, 'costophren': 144, 'soc': 54, 'azithro': 69, 'nasal': 376, 'ss': 139, 'quantiti': 28, 'activ': 380, 'perihilar': 140, 'lopressor': 220, 'answer': 189, 'db': 113, 'ivhl': 1, 'angl': 150, 'breakfast': 51, 'cover': 265, 'obes': 179, 'mask': 348, 'k': 519, 'ladi': 17, 'grossli': 233, 'afeb': 72, 'info': 49, 'extend': 226, 'nvd': 6, 'svc': 351, 'diuresi': 237, 'precis': 15, 'termin': 302, 'lnc': 109, 'rail': 41, 'junki': 11, 'vomit': 139, 'seizur': 118, 'ml': 469, 'tdo': 1, 'slight': 322, 'either': 173, 'thirsti': 26, 'flow': 542, 'rx': 172, 'mll': 2, 'transferd': 2, 'expans': 216, 'consolid': 531, 'unproduct': 10, 'vi': 40, 'congest': 386, 'posterior': 248, 'follw': 17, 'ceftaz': 29, 'demonstr': 423, 'ad': 199, 'smaller': 102, 'nonproduct': 87, 'pnding': 30, 'followup': 179, 'regardless': 13, 'wheezez': 3, 'face': 294, 'aox': 42, 'wire': 206, 'food': 165, 'nippv': 21, 'ptscurrent': 1, 'floor': 534, 'lib': 7, 'symptom': 193, 'deficit': 99, 'cabg': 71, 'basal': 162, 'lyte': 351, 'atrov': 231, 'radial': 379, 'diet': 478, 'pulmicort': 2, 'pmr': 2, 'project': 211, 'safeti': 144, 'ro': 267, 'curv': 133, 'toerat': 2, 'onrt': 2, 'verbal': 298, 'imposs': 13, 'therefor': 121, 'neb': 418, 'heparin': 384, 'fit': 30, 'attribut': 73, 'pace': 88, 'belli': 48, 'infect': 448, 'refil': 26, 'cad': 183, 'mn': 168, 'pul': 37, 'despit': 214, 'insp': 355, 'littl': 291, 'pulmocort': 2, 'enc': 66, 'nice': 14, 'replac': 257, 'precept': 9, 'nc': 470, 'pacemak': 71, 'viger': 4, 'lat': 244, 'coverag': 305, 'stimul': 136, 'ie': 30, 'levoph': 87, 'cool': 240, 'sit': 184, 'trachea': 89, 'midlin': 211, 'hygien': 78, 'humalog': 68, 'endo': 198, 'graviti': 72, 'av': 62, 'pupil': 182, 'bile': 60, 'thorac': 266, 'csm': 31, 'degre': 217, 'contninu': 4, 'pnx': 42, 'ecchymot': 31, 'deliveri': 325, 'septal': 160, 'diur': 5, 'ln': 20, 'alin': 139, 'eff': 15, 'capillari': 17, 'poc': 121, 'rll': 286, 'diures': 214, 'come': 190, 'yet': 183, 'independ': 101, 'lpm': 85, 'rec': 251, 'mist': 61, 'forward': 51, 'expiratori': 107, 'fact': 28, 'swallow': 310, 'riss': 157, 'occsion': 1, 'lock': 45, 'conjest': 3, 'somewhat': 270, 'hypokinet': 13, 'suffici': 24, 'humidif': 10, 'enough': 84, 'say': 105, 'distinct': 55, 'tid': 230, 'strong': 240, 'differ': 294, 'rais': 193, 'ekg': 291, 'flownot': 18, 'piv': 327, 'gave': 115, 'insist': 16, 'hx': 379, 'stress': 328, 'osh': 91, 'tact': 14, 'tat': 1, 'ago': 234, 'instead': 52, 'eval': 587, 'lay': 28, 'nebh': 2, 'spoke': 198, 'rogor': 1, 'supervisor': 5, 'addendum': 341, 'thousand': 1, 'suppos': 15, 'defer': 107, 'kcl': 185, 'father': 62, 'came': 170, 'dx': 127, 'brother': 61, 'mor': 1, 'want': 267, 'form': 209, 'meq': 440, 'taken': 195, 'ed': 321, 'explain': 188, 'transferredback': 1, 'risperidon': 3, 'would': 461, 'phonecal': 2, 'urgent': 12, 'myelopdysplasia': 1, 'plt': 321, 'awhil': 3, 'condom': 15, 'oxycontin': 22, 'depend': 237, 'bank': 16, 'fax': 22, 'sister': 90, 'therapeut': 114, 'provid': 452, 'vano': 3, 'levoflox': 112, 'valu': 156, 'band': 119, 'ama': 7, 'accord': 90, 'sd': 13, 'fentynl': 6, 'lue': 69, 'thereaft': 17, 'subsegment': 80, 'zone': 161, 'divid': 27, 'contigu': 77, 'reg': 122, 'restless': 124, 'brachiocephal': 70, 'stinul': 1, 'hypox': 136, 'began': 77, 'globe': 6, 'pair': 45, 'ice': 116, 'laryng': 81, 'metropolol': 4, 'haldol': 106, 'densiti': 197, 'maxillari': 41, 'chain': 21, 'extuat': 2, 'drip': 165, 'intab': 1, 'forget': 31, 'autodiresi': 1, 'consider': 90, 'antra': 1, 'reformat': 135, 'precipit': 28, 'sporad': 5, 'mastoid': 77, 'cannula': 330, 'went': 156, 'person': 185, 'ck': 216, 'incr': 44, 'hyperintens': 29, 'wheelchair': 20, 'rousabl': 10, 'venti': 37, 'antrum': 22, 'extremi': 1, 'write': 49, 'intercurr': 2, 'ductu': 4, 'think': 109, 'flagyl': 162, 'aspect': 134, 'wind': 3, 'cyanot': 15, 'lymph': 347, 'intraocular': 1, 'agit': 275, 'calmer': 23, 'nystatin': 65, 'stomach': 251, 'e': 279, 'dp': 337, 'kvo': 81, 'endoc': 25, 'subsequ': 181, 'tape': 57, 'bipap': 126, 'bite': 76, 'appeart': 1, 'et': 191, 'parenchyma': 88, 'cup': 38, 'sulci': 67, 'pn': 11, 'enhanc': 123, 'markedli': 117, 'upset': 32, 'allergi': 376, 'cerebr': 50, 'matter': 78, 'liter': 278, 'nervou': 18, 'fen': 239, 'obstruct': 280, 'situat': 80, 'inferior': 192, 'cortic': 39, 'faint': 59, 'thrush': 42, 'spastic': 8, 'srr': 26, 'pao': 155, 'ye': 132, 'nrb': 156, 'nod': 135, 'hrr': 2, 'mediastinum': 145, 'gentleman': 37, 'sinus': 126, 'ogt': 114, 'dipso': 1, 'hous': 119, 'detect': 94, 'ua': 147, 'appar': 222, 'smear': 58, 'ngt': 177, 'quickli': 136, 'bun': 401, 'mobil': 121, 'slowli': 187, 'occur': 121, 'palp': 80, 'begin': 175, 'rpt': 23, 'cci': 10, 'visual': 394, 'root': 118, 'multiplanar': 124, 'wz': 1, 'calm': 144, 'xray': 102, 'hospit': 311, 'reintub': 64, 'embol': 123, 'sxted': 8, 'axillari': 199, 'interven': 18, 'dissect': 40, 'ivp': 164, 'decr': 30, 'disori': 49, 'outflow': 17, 'branch': 156, 'coug': 5, 'roommat': 3, 'tract': 80, 'tend': 30, 'perivascular': 9, 'scatter': 209, 'unawar': 11, 'lsc': 24, 'escal': 31, 'amnt': 23, 'impend': 16, 'sentenc': 41, 'occ': 206, 'incrreas': 1, 'psychosoc': 3, 'idea': 14, 'expir': 33, 'closer': 32, 'rise': 136, 'apologet': 1, 'bear': 34, 'roll': 61, 'decent': 9, 'lie': 127, 'thru': 63, 'venturi': 5, 'stalk': 1, 'cn': 95, 'electrolyt': 185, 'unilat': 70, 'hiflow': 18, 'blunt': 94, 'extub': 264, 'opt': 15, 'lessen': 16, 'gtt': 303, 'deceller': 1, 'vessel': 193, 'confluent': 78, 'node': 217, 'contour': 323, 'bow': 4, 'sxn': 107, 'inf': 20, 'ect': 14, 'liq': 59, 'rad': 59, 'brachial': 136, 'flair': 30, 'immprov': 1, 'fall': 190, 'superimpos': 144, 'discourag': 7, 'clonazepam': 21, 'bleed': 276, 'remin': 3, 'promot': 56, 'thruout': 5, 'becm': 1, 'wash': 66, 'degrad': 12, 'diarrhea': 171, 'half': 68, 'ng': 452, 'brain': 105, 'mentat': 55, 'visitor': 67, 'helic': 51, 'req': 42, 'fld': 33, 'said': 85, 'ionic': 31, 'cortex': 17, 'fragil': 25, 'compat': 93, 'midaz': 37, 'alot': 25, 'ischem': 112, 'pneumon': 106, 'upright': 327, 'remind': 52, 'hilar': 256, 'apropri': 7, 'hypoxia': 337, 'bil': 134, 'mainten': 50, 'foci': 70, 'ett': 235, 'extubat': 9, 'fs': 174, 'nonlabor': 20, 'sleepi': 59, 'np': 138, 'fair': 143, 'widespread': 62, 'iii': 43, 'instruct': 67, 'arteriosu': 4, 'coop': 12, 'embolu': 38, 'yelow': 5, 'crise': 1, 'toll': 4, 'na': 170, 'csf': 28, 'infarc': 2, 'antivir': 9, 'appreci': 271, 'suscept': 22, 'cell': 240, 'quiet': 93, 'flat': 131, 'endotrach': 252, 'wbc': 531, 'super': 10, 'pretti': 12, 'restraint': 164, 'sinl': 1, 'inappropri': 27, 'restrain': 66, 'nemb': 4, 'exert': 110, 'turgor': 5, 'opacif': 310, 'rvfx': 1, 'anox': 8, 'cre': 26, 'tree': 55, 'chart': 118, 'sensit': 102, 'carina': 199, 'opportunist': 9, 'sbt': 134, 'self': 210, 'acquir': 258, 'vers': 166, 'cephal': 74, 'auscult': 101, 'gpc': 67, 'tranfer': 15, 'dowm': 1, 'pe': 219, 'main': 149, 'angio': 42, 'propofol': 113, 'shortli': 55, 'autodiures': 43, 'choroid': 1, 'ext': 313, 'catheeer': 1, 'paranas': 66, 'mech': 47, 'pneumomediastinum': 16, 'relax': 68, 'significantli': 214, 'overal': 348, 'phm': 2, 'pull': 293, 'pituitari': 3, 'thing': 46, 'sec': 84, 'deleri': 10, 'tachypn': 200, 'optiray': 186, 'reassur': 87, 'interstiti': 236, 'home': 498, 'lisinopril': 86, 'propafol': 8, 'bath': 86, 'wrist': 140, 'begun': 37, 'walk': 94, 'void': 163, 'portion': 457, \"c'ed\": 65, 'cultur': 432, 'settl': 84, 'whitish': 55, 'cahng': 4, 'nrm': 4, 'narcot': 47, 'arriv': 234, 'alseep': 1, 'theraput': 8, 'fluffi': 5, 'tocycl': 1, 'film': 227, 'cta': 310, 'gastric': 83, 'intens': 41, 'didnt': 3, 'g': 447, 'amd': 14, 'factor': 68, 'acidoi': 1, 'understandingli': 1, 'troponin': 205, 'fo': 35, 'easi': 38, 'sop': 2, 'quit': 125, 'gold': 16, 'recon': 78, 'hyponatremia': 50, 'dvt': 402, 'gelatin': 4, 'lsubclavian': 1, 'mi': 119, 'discret': 51, 'impos': 2, 'hardcopi': 3, 'cystic': 41, 'clostroph': 1, 'peak': 77, 'rebreath': 48, 'fent': 119, 'associ': 265, 'talk': 190, 'cut': 51, 'opacifi': 46, 'chip': 82, 'partner': 10, 'conitnu': 14, 'transmitr': 14, 'minimum': 16, 'msicu': 16, 'phone': 204, 'direct': 171, 'arch': 126, 'ptt': 312, 'obscur': 159, 'antimicrobi': 35, 'heterogen': 81, 'cp': 192, 'mediastin': 410, 'defect': 156, 'nephew': 19, 'displac': 52, 'reccomend': 7, 'fulli': 165, 'consciouti': 2, 'distens': 45, 'serosanguin': 30, 'antibx': 137, 'particular': 24, 'inconsist': 70, 'destruct': 40, 'first': 206, 'essenti': 156, 'pubic': 45, 'routin': 118, 'fluter': 1, 'recheck': 171, 'periventricular': 51, 'wtih': 20, 'flexitrack': 1, 'buttock': 115, 'tema': 1, 'angiograph': 25, 'cyst': 126, 'lc': 13, 'ear': 232, 'lose': 12, 'fic': 5, 'serial': 105, 'fluoroscopi': 45, 'drug': 244, 'dtr': 64, 'thank': 135, 'subject': 147, 'penil': 8, 'vascular': 500, 'simultan': 5, 'mucousi': 6, 'resutur': 2, 'spare': 35, 'gaug': 311, 'far': 163, 'acetaminophen': 84, 'content': 38, 'upon': 206, 'perhap': 53, 'teach': 27, 'nm': 9, 'topic': 39, 'cuf': 40, 'log': 7, 'overview': 2, 'tubefe': 15, 'toward': 124, 'hypovolem': 35, 'subtl': 66, 'glidewir': 13, 'reglan': 44, 'clav': 2, 'kept': 97, 'sodium': 338, 'trigger': 125, 'increasingli': 82, 'plate': 26, 'peelaway': 1, 'stand': 239, 'airat': 3, 'retroperitoneum': 11, 'reveal': 192, 'conray': 13, 'potenti': 158, 'gain': 39, 'dermat': 17, 'basi': 37, 'stimlat': 1, 'occat': 25, 'bronchial': 182, 'risb': 12, 'golden': 43, 'birthday': 6, 'gj': 21, 'tannish': 28, 'late': 120, 'coil': 50, 'preliminari': 76, 'pariet': 23, 'strip': 18, 'permiss': 3, 'name': 129, 'reportedli': 74, 'hung': 14, 'offer': 111, 'diaphoret': 119, 'amen': 19, 'cream': 149, 'perm': 6, 'overnoc': 135, 'vue': 22, 'ftb': 1, 'vessicl': 2, 'degen': 176, 'redemonstr': 41, 'migrat': 17, 'valium': 27, 'adquat': 6, 'penia': 1, 'perc': 52, 'ge': 31, 'btw': 5, 'sheath': 121, 'connect': 27, 'bloodi': 117, 'pelvic': 96, 'thu': 120, 'spur': 12, 'coincident': 1, 'affix': 3, 'extra': 123, 'ip': 101, 'uneven': 1, 'character': 90, 'gallston': 46, 'vasculatur': 114, 'tone': 280, 'durng': 1, 'angiopathi': 2, 'anesth': 3, 'patholog': 210, 'necessari': 115, 'fix': 103, 'tvol': 6, 'sphenoid': 38, 'reslt': 4, 'paramed': 4, 'thich': 5, 'ceftriaxon': 176, 'collaps': 169, 'rom': 76, 'percocet': 59, 'bit': 70, 'bodi': 315, 'entri': 32, 'passiv': 35, 'frequenc': 70, 'accuraci': 13, 'overli': 149, 'expect': 120, 'nure': 2, 'highest': 8, 'guaiac': 97, 'multi': 147, 'tranfus': 8, 'hydrocort': 9, 'consent': 160, 'cva': 109, 'relat': 343, 'hydrocortison': 18, 'cs': 15, 'highli': 42, 'bld': 109, 'febril': 154, 'purpos': 177, 'board': 59, 'normotens': 59, 'dampen': 46, 'tfb': 28, 'anemia': 216, '^^': 20, 'pharnyx': 1, 'soundli': 9, 'travel': 35, 'visibl': 102, 'shiver': 5, 'supdat': 1, 'balloon': 43, 'pancultur': 15, 'true': 29, \"patient'\": 54, 'target': 40, 'hl': 22, 'edemat': 76, 'fb': 39, 'insulin': 315, 'intracrani': 107, 'twice': 77, 'materi': 108, 'hst': 1, 'beneath': 20, 'anyth': 59, 'plmt': 17, 'ssi': 91, 'peribronchi': 36, 'yeterday': 2, 'cancer': 140, 'alon': 85, 'afix': 2, 'pro': 15, 'squamou': 20, 'sput': 53, 'fri': 113, 'steril': 151, 'errythem': 1, 'fr': 33, 'reliev': 67, 'intervasc': 1, 'jejunum': 28, 'derm': 50, 'cardiomediastin': 249, 'ultimatli': 1, 'vertex': 12, 'slighlti': 8, 'incres': 6, 'grandson': 12, 'sutur': 80, 'cribriform': 6, 'slide': 261, 'specimen': 74, 'extravas': 16, 'clr': 25, 'ivab': 20, 'respalor': 9, 'bl': 58, 'tini': 97, 'youvil': 1, 'experi': 29, 'scale': 317, 'retrocard': 3, 'mucos': 51, 'potassium': 341, 'inner': 70, 'vial': 3, 'applic': 43, 'enuf': 1, 'fecal': 54, 'pleaw': 1, 'radiologist': 137, 'proceedur': 7, 'calcifi': 135, 'flaccid': 14, 'eight': 16, 'simethicon': 13, 'met': 153, 'througout': 7, 'tonoc': 16, 'letter': 9, 'vecuronium': 10, 'tachypnea': 195, 'sxtn': 20, 'tbe': 2, 'reactiv': 150, 'antibot': 10, 'hang': 10, 'regimen': 268, 'bllo': 1, 'noon': 113, 'lr': 50, 'brownish': 23, 'hydronephrosi': 90, 'email': 18, 'least': 142, 'mpa': 2, 'prompt': 20, 'currenti': 1, 'outpt': 56, 'inguin': 64, 'emot': 160, 'shoulder': 85, 'tracheotomi': 19, 'sometim': 66, 'cardiomediastinum': 12, 'amplatz': 16, 'parenchym': 224, 'tactil': 33, 'clinoid': 5, 'regim': 63, 'slow': 202, 'firm': 63, 'stiff': 44, 'plcmt': 15, 'redress': 15, 'benadryl': 27, 'inconsistantli': 16, 'pho': 232, 'locat': 288, 'nonion': 25, 'wakeful': 2, 'rectal': 150, 'express': 102, 'retro': 4, 'expector': 173, 'excret': 38, 'plug': 120, 'consciou': 14, 'erythromycin': 32, 'util': 60, 'nonrespons': 9, 'hypopharynx': 6, 'member': 96, 'tpn': 42, 'intern': 286, 'whose': 34, 'exhibit': 33, 'gaseou': 8, 'stop': 270, 'stimuli': 238, 'bwn': 3, 'partial': 244, 'gastrojejunostomi': 22, 'confort': 11, 'combin': 136, 'page': 199, 'whether': 120, 'desir': 72, 'apc': 28, 'underneath': 6, 'semin': 16, 'redd': 10, 'shot': 19, 'recruit': 18, 'inh': 20, 'diaphragm': 143, 'directli': 23, 'replet': 384, 'rmain': 2, 'thickish': 4, 'notic': 43, 'tl': 18, 'total': 457, 'lamina': 8, 'pac': 106, 'believ': 44, 'labor': 121, 'eyelid': 5, 'healthi': 66, 'incontin': 89, 'abreast': 8, 'resum': 156, 'massag': 6, 'cope': 49, 'hepat': 125, 'promod': 7, 'guaic': 35, 'prolen': 6, 'pej': 13, 'scan': 258, 'mental': 268, 'microg': 1, 'fine': 101, 'attain': 12, 'excel': 88, 'diuresis': 15, 'flutter': 68, 'ga': 204, 'jejun': 9, 'stimulu': 24, 'sigmoid': 74, 'sulcu': 22, \"ct'\": 1, 'prostat': 68, 'afrin': 5, 'tachneic': 1, 'accessori': 77, 'consistantli': 29, 'siusiti': 1, 'sterili': 1, 'squeez': 48, 'daili': 384, 'li': 19, 'dsg': 114, 'qtc': 49, 'refer': 202, 'peel': 88, 'massachusett': 1, 'intraven': 237, 'reform': 89, 'ethmoid': 39, 'scleraedema': 1, 'stransfus': 1, 'apic': 181, 'norm': 5, 'taper': 123, 'nasogastr': 182, 'hemidiaphragm': 140, 'criticar': 5, 'powder': 65, 'eventu': 91, 'vagu': 21, 'papyracea': 6, 'gastromi': 7, 'frontal': 168, 'pronounc': 72, 'mening': 25, 'tomarrow': 8, 'fell': 74, 'microvascular': 24, 'vea': 88, 'exchang': 94, 'anticip': 116, 'mucomyst': 31, 'bsk': 10, \"sxn'ing\": 14, 'iron': 56, 'itchi': 16, 'cholecyst': 56, 'adenopathi': 115, 'urinari': 149, 'steroid': 173, 'intuabt': 8, 'entroclysi': 5, 'four': 102, 'pulmnari': 1, 'canula': 35, 'brachycephal': 3, 'alkalosi': 76, 'hemorrhag': 175, 'ent': 24, 'confrim': 3, 'fluoroscop': 135, 'actual': 44, 'beom': 2, 'along': 231, 'clearli': 91, 'vigor': 45, 'variabl': 51, 'duodenum': 51, 'dimish': 22, 'lactulos': 85, 'net': 84, 'entir': 152, 'mushroom': 54, 'cdiff': 88, 'treitz': 13, 'noontim': 15, 'middl': 208, 'ca': 420, 'exrem': 3, 'qlc': 3, 'oro': 2, 'newli': 148, 'chage': 2, 'udat': 1, 'til': 22, 'percutan': 52, 'rectum': 96, 'skull': 21, 'meical': 1, 'attend': 414, 'transaminas': 11, 'normoglycem': 10, 'fasten': 11, 'resettl': 1, 'ectop': 24, 'transduc': 18, 'give': 265, 'decompress': 38, 'silght': 1, 'swollen': 52, 'shut': 55, 'enter': 258, 'unrespons': 94, 'inr': 320, 'og': 131, 'loop': 145, 'jugular': 200, 'disposit': 309, 'heme': 205, 'deploy': 16, 'sub': 44, 'qtt': 13, 'especi': 109, 'isol': 65, 'cadiomediastin': 1, 'basic': 40, 'gastr': 1, 'opaqu': 10, 'tachpnia': 1, 'init': 27, 'shiley': 14, 'tachypneia': 2, 'consid': 420, 'rij': 75, 'hazi': 106, 'prelim': 45, 'hypercapnea': 9, 'fetanyl': 1, 'purul': 33, 'blink': 17, 'obviou': 93, '^^rate': 1, 'hydrocephalu': 33, 'reduct': 72, 'nursi': 1, 'inject': 108, 'mesenteri': 17, 'away': 115, 'intervascularli': 2, 'tuberos': 6, 'pyloru': 15, 'uop': 225, 'metal': 36, 'occassion': 46, 'orogastr': 26, 'versiva': 1, 'vap': 318, 'contribut': 117, 'invas': 330, 'normocephal': 206, 'pfi': 199, 'tcurrent': 303, 'signatur': 266, 'dl': 353, 'coccyx': 160, 'musculoskelet': 124, 'action': 328, 'configur': 63, 'vital': 374, 'finger': 239, 'valuabl': 267, 'rope': 2, 'cyu': 30, 'resid': 345, 'list': 90, 'attent': 242, 'kg': 385, 'equivoc': 17, 'hypothyroid': 59, 'distort': 13, 'prevacid': 43, 'aplmar': 1, 'stimata': 1, 'chief': 310, 'rhonci': 28, 'pertin': 298, 'cash': 262, 'sulbactam': 13, 'black': 38, 'reorient': 113, 'lnp': 36, 'ampicillin': 32, 'diffucult': 2, 'physic': 348, 'jmgw': 16, 'neurolog': 302, 'zonisamid': 3, 'levothyroxin': 44, 'cake': 2, 'creatinin': 324, 'superif': 2, 'particularli': 112, 'lft': 106, 'quadrant': 128, 'debil': 6, 'bnp': 69, 'tremor': 39, 'nash': 5, 'decubitu': 74, 'qh': 61, 'glucos': 370, 'tsh': 45, 'membran': 36, 'hypernatrem': 22, 'exacerb': 140, '{': 315, 'withdrawn': 49, 'engorg': 91, 'hypernatremia': 67, 'lymphat': 112, 'ing': 32, 'rifamixin': 1, 'cirrhosi': 44, 'stage': 161, 'cr': 364, \"desat'\": 2, 'asterixi': 9, 'hematocrit': 297, 'nad': 164, 'ul': 304, 'ag': 58, 'ammonia': 9, 'asp': 90, 'topomax': 1, 'demograph': 294, 'recogn': 17, 'keppra': 15, 'ppi': 222, 'fa': 51, 'dysfunct': 132, 'dentit': 74, 'disord': 77, 'chlorid': 293, 'prescrib': 22, '}': 313, 'presum': 153, 'beat': 158, 'record': 235, 'wed': 112, 'radiolog': 352, 'aqua': 2, 'titl': 189, 'asciti': 7, 'transplant': 31, 'dm': 145, 'provision': 192, 'throat': 267, 'wallet': 256, 'pnuemonia': 19, 'fibersourc': 33, 'jewelri': 262, 'money': 264, 'conjunctiva': 191, 'dsd': 77, 'airway': 310, 'dz': 35, 'temperatur': 302, 'cardiovascular': 251, 'deplet': 46, 'hn': 32, 'mmhg': 353, 'ckmb': 177, 'lantu': 35, 'streaki': 14, 'cloth': 277, 'lansoprazol': 51, 'card': 290, 'diabet': 147, 'wast': 100, 'ft': 62, 'infrahilar': 25, 'tropt': 141, 'lactulo': 1, 'chem': 29, 'vanc': 205, 'deveop': 2, 'credit': 262, 'erythema': 74, 'meld': 4, 'score': 23, 'wound': 133, 'ivc': 98, 'cel': 1, 'moan': 31, 'unasyn': 15, 'clonu': 8, 'candid': 56, 'jpg': 304, 'metoprolol': 166, 'satur': 330, 'rml': 86, 'anticonvuls': 3, 'spine': 195, 'glycem': 306, 'encephalopath': 8, 'confus': 213, 'stick': 260, 'heel': 73, 'disorient': 12, 'particip': 71, 'complex': 90, 'slower': 90, 'adl': 56, 'must': 46, 'reinsert': 28, \"dc'ed\": 6, 'dementia': 96, 'adm': 126, 'diuret': 66, 'posi': 1, 'redistribut': 46, 'firmli': 10, 'bisacodyl': 42, 'digoxin': 49, 'ich': 19, 'supplement': 178, 'observ': 157, 'conges': 1, 'agre': 321, 'cardiolog': 58, 'isosorbid': 10, 'sitter': 36, 'bedpan': 46, 'nasopharyng': 9, 'flu': 109, 'ntg': 43, 'mistaken': 3, 'droplet': 96, 'axi': 189, 'nitro': 37, 'lll': 266, 'compazin': 21, 'repolar': 56, 'type': 251, 'aerosol': 127, 'docus': 57, 'influenza': 118, 'ew': 85, 'deviat': 124, 'contin': 42, 'enzym': 114, 'audibl': 82, 'zyprexa': 59, 'redirect': 37, 'live': 189, 'age': 141, 'scream': 7, 'plavix': 29, 'somnol': 106, 'atrophi': 41, 'cistern': 23, 'aspirin': 95, 'nstemi': 30, 'climb': 64, 'syst': 18, 'sputem': 7, 'loud': 72, 'primari': 142, 'fsbg': 34, 'hs': 117, 'uncoop': 22, 'bundl': 121, 'shout': 7, 'pleasantli': 15, 'craze': 1, 'behavior': 43, 'contiu': 10, 'apprehens': 5, 'unrestrain': 13, 'rale': 130, 'adendum': 3, 'thight': 3, 'ischemia': 164, 'reinforc': 36, 'dnr': 172, 'environ': 61, 'kcld': 3, 'levofloxacin': 227, 'rebook': 1, 'lovenox': 23, 'qid': 133, 'pharyng': 85, 'comb': 36, 'benign': 113, 'effac': 13, 'modest': 49, 'rbbb': 18, 'guiac': 115, 'agreeabl': 14, 'vest': 6, 'demand': 75, 'rule': 234, 'recoveri': 62, 'safe': 80, 'fissur': 66, 'interim': 112, 'wet': 338, 'part': 148, 'crit': 33, 'abroad': 1, 'cmx': 11, 'por': 2, 'adjac': 145, 'grew': 43, 'thirst': 21, 'gauz': 34, 'hyothyroid': 1, 'dni': 145, 'hilum': 40, 'platlet': 4, 'focu': 106, 'wrap': 23, 'declin': 100, 'kling': 3, 'autoimmun': 10, 'ivabx': 10, 'bacteria': 42, 'ahf': 1, 'asymmetr': 83, 'alveolar': 84, 'mult': 50, 'spectrum': 83, 'tacypn': 10, 'compon': 187, 'shin': 23, 'document': 119, 'wednesday': 20, 'hemolyt': 6, 'reflect': 220, 'pathogen': 37, 'amphotericin': 2, 'indistinct': 44, 'pc': 21, 'die': 51, 'help': 256, 'pmd': 5, 'hypoact': 112, 'superfici': 108, 'xeroform': 3, 'focal': 416, 'ooz': 65, 'readdress': 31, 'heard': 63, 'recal': 20, 'bilatter': 1, 'gelfoam': 3, 'mean': 59, 'pressor': 135, 'broad': 131, 'multilobar': 35, 'lucenc': 43, 'smicu': 10, \"con't\": 5, 'cellul': 25, 'accompani': 75, 'unknown': 197, 'bronch': 140, 'cpnt': 1, 'cavit': 26, 'cll': 10, 'tortuou': 60, 'retch': 2, 'paranoia': 5, 'linisipril': 1, 'meantim': 12, 'ensu': 2, 'delirium': 95, 'epilepticu': 8, 'consequ': 17, 'hemodialysi': 36, 'hyperkalemia': 31, 'interdisciplinari': 89, 'complianc': 80, 'noth': 51, 'senior': 9, 'dextros': 39, 'unclear': 243, 'neurolept': 3, 'standard': 210, 'nail': 20, 'glucon': 37, 'suspect': 171, 'alkalot': 9, 'miss': 48, 'medicar': 10, 'percuss': 117, 'hosp': 35, 'dilantin': 20, 'ue': 103, 'nahco': 9, 'spent': 275, 'hard': 137, 'tox': 19, 'medicaid': 13, 'schizophrenia': 15, 'genitourinari': 94, 'univers': 12, 'leukoencephalopathi': 3, 'insipidu': 6, 'pngt': 7, 'blurri': 47, 'di': 23, 'murmur': 212, 'incomprehens': 17, 'serum': 84, 'insur': 32, 'noxiou': 44, 'gm': 155, 'malign': 139, 'conjunctiv': 54, 'viral': 119, 'amp': 60, 'wgt': 104, 'antihypertens': 62, 'withdrew': 9, 'withdraw': 127, 'dialys': 6, 'hpi': 255, 'penicillin': 53, 'sugar': 164, 'obtund': 16, 'calcium': 157, 'copi': 77, 'health': 113, 'emerg': 81, 'tongu': 73, 'referr': 69, 'deliri': 58, 'conserv': 20, 'bipolar': 20, 'crisi': 11, 'esrd': 48, 'neut': 172, 'uf': 176, 'proxi': 89, 'proport': 7, 'multidisciplinari': 37, 'caus': 266, 'wretch': 3, 'walker': 26, 'labetalol': 16, 'sluggish': 31, 'certainli': 36, 'mwf': 4, 'labetolol': 15, 'lacun': 6, 'emesi': 89, 'stone': 82, 'vision': 59, 'happen': 44, 'reson': 90, 'hemoconcentr': 9, 'neuron': 15, 'tempor': 27, 'paramet': 90, 'wane': 36, 'decid': 109, 'sh': 200, 'dislodg': 13, 'eo': 175, 'cri': 57, 'hyperpotassemia': 4, 'cardiopulmonari': 39, 'kayexal': 14, 'key': 287, 'correct': 99, 'wax': 55, 'ventriculomegali': 3, 'constitut': 121, 'input': 93, 'nourish': 150, 'dialyz': 14, 'life': 27, 'fh': 201, 'levaquin': 126, 'thrust': 2, 'labatelol': 4, 'wish': 85, 'critic': 219, 'horn': 4, 'kayexel': 6, 'stim': 45, 'lithium': 4, 'sq': 223, 'session': 21, 'uremia': 9, 'encephalopathi': 56, 'fatigu': 172, 'wit': 61, 'dialysi': 97, 'lactat': 160, 'doubt': 49, 'dme': 15, 'differenti': 275, 'jvp': 77, 'zofran': 38, 'sz': 26, 'bring': 88, 'yaunker': 11, 'rapid': 189, 'proper': 52, 'resuscit': 95, 'caudat': 10, 'admin': 52, 'experienc': 69, 'mono': 173, 'saw': 280, 'thought': 143, 'infrequ': 22, 'psychiatr': 89, 'inch': 222, 'hcp': 128, 'evolut': 34, 'summari': 84, 'anteriorli': 96, 'somewhatdil': 1, 'shingl': 6, 'lowermost': 2, 'incomplet': 86, 'sublux': 9, 'ugi': 8, 'afib': 203, 'workup': 60, 'revis': 41, 'third': 66, 'pretrach': 18, 'aneurysm': 69, 'swell': 132, 'em': 32, 'dens': 125, 'irregular': 100, 'granuloma': 30, 'lesser': 38, 'fluidfil': 1, 'mail': 5, 'lymphadenopathi': 198, 'groundglass': 2, 'salt': 7, 'mb': 36, 'mottl': 12, 'micua': 2, 'nodul': 158, 'arthrit': 12, 'prevertebr': 10, 'vertebr': 85, 'unenhanc': 14, 'boni': 83, 'align': 34, 'trauma': 64, 'lumbar': 85, 'cpk': 31, 'coumadin': 139, 'hernia': 91, 'fractur': 177, 'coronari': 209, 'prevascular': 35, 'atroph': 26, 'endobronchi': 24, 'esophagu': 92, 'infraren': 23, 'hiatal': 44, 'oliguria': 18, 'bronchovascular': 16, 'rrt': 59, 'houseoffic': 13, 'pacu': 6, 'pco': 120, 'paco': 17, 'electr': 8, 'might': 119, 'stagei': 1, 'ketpad': 1, 'tp': 26, 'uncontrol': 14, 'convert': 96, 'distent': 79, 'lopresssor': 2, 'reciv': 15, 'mionitor': 1, 'aflutt': 26, 'expel': 7, 'pericard': 20, 'keyboard': 1, 'husband': 73, 'nede': 3, 'centimet': 18, 'broke': 19, 'appropriat': 2, 'spell': 18, 'shake': 72, 'ii': 115, 'unlabor': 64, 'alerr': 1, 'stabliz': 8, 'matress': 6, 'tic': 1, 'simul': 3, 'perla': 36, 'fibb': 1, 'sludg': 28, 'hypotenns': 1, 'dic': 21, 'push': 63, 'screan': 1, 'reacur': 1, 'novasourc': 16, 'af': 123, 'balans': 1, 'nkda': 57, 'ti': 7, 'comand': 9, 'apneaic': 2, 'typer': 1, 'irreg': 30, 'shigft': 1, 'inferolater': 55, 'raf': 23, 'eti': 1, 'necessit': 13, 'disress': 4, 'gel': 27, 'peroid': 2, 'ar': 202, 'rehabilit': 42, 'secrtion': 2, 'telephon': 117, 'incision': 23, 'arrythmia': 19, 'sy': 65, 'reat': 1, \"rec'\": 20, 'qnd': 1, 'fresh': 4, 'peripheri': 33, 'prob': 31, 'cleans': 49, 'colect': 2, 'fibrosi': 58, 'whiteish': 2, 'produc': 85, 'advers': 22, 'becasu': 3, 'copd': 210, 'administ': 287, 'vdg': 3, 'wnr': 9, 'dietwith': 1, 'concentr': 54, 'big': 16, 'psh': 11, 'strongli': 29, 'tsicu': 9, 'biliou': 48, 'wiggl': 37, 'lih': 1, 'ness': 4, 'quietli': 20, 'ankl': 61, 'inc': 134, 'addedum': 2, 'hypothroid': 3, 'asa': 137, 'pneumoboot': 69, 'children': 55, 'hoh': 27, 'sao': 103, 'lipitor': 23, 'stood': 21, 'ny': 3, 'step': 81, 'stronger': 42, 'gout': 27, 'kiss': 2, 'lograd': 1, 'took': 90, 'coag': 90, 'abil': 75, 'boarder': 6, 'everyth': 24, 'sux': 19, 'prostrat': 2, 'daycar': 3, 'intermittantli': 13, 'creat': 170, 'interact': 110, 'hire': 3, 'nqwmi': 3, 'tm': 105, 'worker': 52, 'cocci': 45, 'disloc': 30, 'sw': 71, 'privat': 13, 'phebotomi': 1, 'piec': 20, 'consensu': 5, 'rncm': 1, 'nonprod': 11, 'urolog': 22, 'funer': 2, 'demetia': 4, 'er': 95, 'dininish': 1, 'shock': 128, 'gram': 187, 'discolor': 12, 'fx': 58, 'metacarp': 5, 'smoke': 57, 'swab': 100, 'nondistend': 32, 'etoh': 71, 'glaucoma': 13, 'memori': 30, 'occaision': 12, 'pager': 73, 'bruis': 49, 'psoriasi': 6, 'sev': 9, 'lethargi': 54, 'repair': 67, 'springhous': 1, 'scopolamin': 13, 'gown': 14, 'alzheim': 35, 'az': 2, 'remot': 40, 'fail': 152, 'ccu': 73, 'eaten': 9, 'blanch': 14, 'visabl': 4, 'nearbi': 10, 'unbroken': 12, 'rememb': 23, 'dccv': 3, 'uncompems': 1, 'physician': 315, 'fu': 13, 'slt': 5, 'inturb': 1, 'pmhx': 63, 'keeppt': 1, 'lotion': 44, 'stting': 1, 'occa': 91, 'gasi': 1, 'rrl': 2, 'profound': 20, \"have't\": 1, 'phx': 1, 'glu': 17, 'mhr': 6, 'stooll': 1, 'geriatr': 9, 'mur': 8, 'metabol': 122, 'standbi': 48, 'neo': 41, 'carbidopa': 3, 'iter': 2, 'levodopa': 2, 'unsuccess': 81, 'regularli': 27, 'familyinform': 1, 'constip': 130, 'cardiovert': 4, 'backrub': 6, 'yell': 43, 'carbadopa': 1, 'toprol': 11, 'xl': 16, 'yof': 24, 'sudden': 34, 'nimv': 6, 'parkinson': 24, 'succ': 12, 'pneumaonia': 1, 'maalox': 7, 'revers': 48, 'stope': 4, 'contniu': 1, 'neic': 13, 'mainta': 13, 'blow': 7, 'wheezi': 56, 'pule': 3, 'easier': 18, 'stab': 6, 'nebulis': 1, 'retain': 46, 'term': 160, 'looser': 5, 'caregiv': 23, 'thoracentesi': 88, 'visist': 4, 'insitu': 11, 'bid': 89, 'inflamm': 58, 'hub': 4, 'enema': 30, 'loosen': 26, 'solumedrol': 70, 'sp': 88, 'methylprednisolon': 22, 'prevent': 97, 'yest': 69, 'creami': 19, 'combiv': 48, 'tomorro': 1, 'statement': 9, 'fleet': 18, 'aim': 43, 'ex': 46, 'glargin': 38, 'giver': 6, 'hob': 164, 'fem': 37, 'commenc': 20, 'pure': 85, 'nebuils': 1, 'kepft': 1, 'thisd': 1, 'humidifi': 77, 'prong': 21, 'contiun': 2, 'remian': 28, 'scd': 12, 'stroke': 78, 'inatact': 2, 'midnoc': 30, 'tighter': 7, 'daibet': 1, 'exac': 8, 'add': 219, 'blew': 2, 'humid': 13, 'fullcod': 2, '$': 12, 'previuo': 2, 'fm': 69, 'assesss': 3, 'serev': 3, 'diltiazem': 77, 'disc': 45, 'rhonchu': 10, 'scoop': 4, 'transfuss': 2, 'partak': 1, 'distribut': 99, 'paroxysm': 15, 'clearer': 37, 'clairifi': 1, 'lopress': 5, 'pressurea': 1, 'plu': 54, 'brought': 129, 'hyperoxygen': 3, 'continiu': 1, 'audilb': 1, 'niec': 21, 'among': 4, 'llax': 1, 'sunday': 23, 'est': 15, 'chlorthiazid': 1, 'afb': 29, 'funal': 1, 'calc': 62, 'relev': 67, 'acknowledg': 22, 'resumpt': 9, 'amylas': 71, 'frm': 2, 'voluntarili': 3, 'clench': 5, 'transit': 207, 'decondit': 45, 'stretch': 10, 'ongo': 130, 'mri': 118, 'arrang': 32, 'supra': 11, 'encephalomalacia': 8, 'involvemt': 1, 'cognit': 73, 'fi': 66, 'cefepim': 107, 'hope': 112, 'cluster': 40, 'omit': 6, 'ssri': 60, 'klebsiella': 18, 'ineffect': 48, 'derecruit': 4, 'common': 139, 'bili': 173, 'cytokin': 1, 'chlorhex': 6, 'reappli': 33, 'mirtazapin': 8, 'narr': 28, 'redrawn': 8, 'snd': 28, 'kinear': 3, 'rout': 93, 'epitheli': 34, 'garbl': 25, 'qod': 21, 'goe': 42, 'multifactori': 49, 'intoler': 85, 'vocal': 69, 'unlik': 120, 'bilirubin': 61, 'deciph': 2, 'grow': 60, 'grasp': 27, 'thursday': 27, 'tco': 194, 'anterioli': 1, 'galabrata': 1, 'patiet': 2, 'septicemia': 5, 'ophthalm': 5, 'club': 114, 'probe': 29, 'olanazipin': 1, 'lactic': 220, 'kub': 49, 'tap': 81, 'understood': 12, 'nonsens': 12, 'delerium': 24, 'resusit': 11, 'wihtout': 5, 'exsuffl': 7, 'render': 14, 'phosphoru': 105, 'mycolyt': 2, 'inspiratori': 80, 'scab': 27, 'andthat': 1, 'obtian': 1, 'teeth': 118, 'occup': 90, 'grimacc': 1, 'repac': 1, 'interview': 9, 'bacteri': 145, 'caspofungin': 6, 'mellitu': 50, 'custom': 2, 'financi': 7, 'pan': 93, 'nard': 31, 'weekli': 15, 'exhal': 32, 'stemi': 17, 'permit': 14, 'liaison': 6, 'cg': 42, 'ioniz': 114, 'toxic': 54, 'papillari': 44, 'svr': 10, 'sir': 37, 'vitamin': 59, 'furosemid': 119, 'drsg': 41, \"'no\": 2, 'mgmt': 24, 'relaps': 8, 'comfrot': 1, 'esp': 45, 'obstacl': 6, 'buit': 1, 'month': 144, 'inward': 3, 'unassist': 29, 'contain': 102, 'jr': 9, 'resit': 20, 'snx': 13, 'chg': 21, 'lean': 20, 'hgb': 88, 'program': 41, 'awit': 2, 'coordin': 47, 'train': 35, 'pmn': 48, 'notabl': 165, 'prepar': 79, 'fee': 19, 'annual': 1, 'uncomprehend': 1, 'hemithorax': 114, 'reattach': 2, 'specieat': 1, 'malnutrit': 50, 'vavl': 1, 'tazo': 24, 'djd': 9, 'csb': 1, 'necrosi': 20, 'guard': 89, 'messag': 19, 'rwma': 2, '^nd': 36, 'transffer': 8, 'therapuet': 6, 'locomot': 31, 'versu': 138, 'failri': 1, 'kleb': 9, 'ceftazidim': 26, 'reschedul': 9, 'handl': 23, 'passi': 29, 'misinform': 1, 'sfa': 8, 'passey': 16, 'clarifi': 54, 'syndrom': 105, 'mmol': 214, 'rrr': 156, 'reluct': 11, 'usag': 11, 'folat': 41, 'vitb': 1, 'aggit': 48, 'submit': 37, 'cefazolin': 16, 'resassur': 3, 'contro': 1, 'painm': 2, 'ppx': 115, 'finish': 77, 'ant': 31, 'linezolid': 33, 'jaundic': 83, 'role': 48, 'rpe': 40, 'bicarb': 53, 'bg': 40, 'kinair': 38, 'surgic': 173, 'bacteremia': 70, 'realist': 4, 'cachet': 9, 'ass': 26, 'elexir': 1, 'deduct': 2, 'attni': 1, 'asse': 1, 'gen': 138, 'approv': 59, 'rub': 157, 'fascil': 1, 'pgt': 5, 'elig': 3, 'consectut': 1, 'educ': 63, 'uub': 1, 'spous': 15, 'decompens': 90, 'cor': 14, 'whenev': 17, 'quieter': 4, 'commmand': 1, 'photic': 1, 'reconnect': 2, 'iss': 71, 'tuesday': 33, 'osm': 20, 'medivis': 5, 'ventiatori': 1, 'indemn': 1, 'vit': 50, 'dwindl': 5, 'deir': 1, 'gentamicin': 17, 'nitrat': 11, 'tpa': 22, 'micro': 101, 'outlin': 115, 'unfortun': 29, 'tear': 94, 'bc': 83, 'fungu': 9, 'loc': 21, 'extr': 32, 'klesiella': 1, 'op': 105, 'unarous': 4, 'micropunctur': 66, 'staph': 51, 'anxiolyt': 12, 'learn': 7, 'erect': 65, 'fungal': 82, 'assur': 17, 'optho': 1, 'nitric': 7, 'mycobacterium': 4, 'dysynchronu': 1, 'dig': 40, 'layer': 110, 'challeng': 38, 'pip': 139, 'glenohumer': 13, 'anticoagul': 128, 'ard': 145, 'ventilatori': 150, 'typeii': 1, 'prot': 10, 'ucx': 60, 'cbc': 52, 'fold': 35, 'inservic': 1, 'injuri': 96, 'pursu': 51, 'straight': 25, 'troubleshoot': 2, 'heliox': 5, 'wore': 13, 'paralyz': 81, 'cataract': 35, 'depart': 37, 'hep': 139, 'polio': 3, 'comprehens': 9, 'resist': 87, 'resussit': 7, 'mucou': 103, 'caco': 4, 'ampul': 1, 'sensori': 37, 'spuriou': 3, 'radiu': 10, 'attach': 18, 'disturb': 19, 'pay': 11, 'entercocc': 1, 'spend': 11, 'meaning': 4, 'ceas': 6, 'flexor': 5, 'rhonchrou': 5, 'veget': 57, 'piperacillin': 106, 'ideal': 127, 'diaper': 18, 'infxn': 24, 'masshealth': 6, 'sharp': 45, 'claim': 69, \"yesterday'\": 4, 'diastol': 173, 'natur': 56, 'bypass': 19, 'friend': 73, 'cyanosi': 130, 'bare': 35, 'whi': 61, 'aureu': 22, 'cardiologist': 14, 'kcal': 81, 'nchct': 6, 'subglott': 16, 'macu': 28, 'asses': 21, 'compet': 11, 'motor': 77, 'ppm': 23, 'bue': 31, 'planner': 4, 'bradycard': 38, 'succeed': 5, 'ween': 8, 'flexion': 23, 'undetermin': 25, 'apart': 29, 'weekend': 58, 'press': 94, 'frame': 34, 'encourgag': 3, 'ctab': 39, 'retract': 35, 'apprec': 6, 'airmov': 3, 'outcom': 15, 'calcul': 35, 'torulopsi': 1, 'poss': 55, 'way': 86, 'phosphat': 65, 'hypercholesterolemia': 34, 'supoprt': 2, 'manufactur': 70, 'sternal': 63, 'unimprov': 4, 'gum': 5, 'hae': 2, 'apnvol': 4, 'straighten': 5, 'myco': 3, 'speciat': 35, 'frusemid': 3, 'lipas': 73, 'synergi': 2, 'soap': 21, 'thurday': 1, 'interm': 9, 'intraventricular': 45, 'cavern': 16, 'simvastatin': 44, 'toliet': 13, 'pleth': 12, 'distanc': 53, 'atherosclerot': 97, 'thiamin': 17, 'interest': 28, 'mrg': 26, 'palli': 31, \"trach'd\": 3, 'hz': 5, 'qdaili': 5, 'albumin': 144, 'grimic': 1, 'irregularli': 21, 'dysynchroni': 76, 'equip': 23, 'across': 41, 'ontcool': 1, 'fast': 47, 'hctz': 16, 'disorgan': 2, 'involut': 8, 'uti': 106, 'siani': 1, 'establish': 57, 'muir': 33, 'diffacult': 1, 'peridex': 16, 'speci': 10, 'leukocytosi': 169, 'mom': 27, 'tubular': 12, 'metavis': 34, 'sqi': 15, 'repleat': 74, 'leukocytpsi': 1, 'vreand': 1, 'plantar': 8, 'outupt': 1, 'acei': 26, 'presumpt': 19, 'bacilli': 3, 'knowledg': 21, 'laundri': 1, 'alk': 181, 'gic': 1, 'opthalm': 1, 'count': 156, 'icd': 51, 'holiday': 7, 'benefit': 141, 'diurees': 1, 'chlorhexidin': 29, 'meur': 1, 'rta': 5, 'postur': 47, 'ryhtym': 1, 'hip': 87, 'enterococca': 1, 'futur': 88, 'ldh': 153, 'ocular': 4, 'leuk': 15, 'particp': 1, 'till': 54, 'trimethoprim': 25, 'stain': 111, 'typic': 42, 'hospic': 22, 'qday': 22, 'ime': 1, 'acheiv': 7, 'compent': 1, 'discontinu': 139, 'backup': 7, '|': 12, 'fluctuat': 57, 'waveform': 101, 'inquir': 10, 'stiumuat': 1, 'grab': 12, 'ddx': 55, 'closs': 2, 'synthroid': 24, 'myocard': 8, 'dimer': 18, 'author': 16, 'tire': 82, 'cachect': 21, 'merepenem': 8, 'ltac': 15, 'ophtho': 1, 'tightli': 4, 'resourc': 7, 'bud': 16, 'bu': 15, 'bac': 9, 'deepli': 10, 'strengthen': 13, 'rod': 53, 'protein': 108, 'synchron': 65, 'gip': 1, 'ncat': 18, 'wk': 58, 'aerob': 45, 'bmi': 69, 'ace': 68, 'vre': 36, 'blocker': 131, 'pl': 105, 'fluoro': 90, 'carbon': 23, 'toeveri': 1, 'mumbl': 17, 'spot': 83, 'oropharyng': 105, 'cbi': 7, 'puddl': 1, 'valvl': 1, 'etc': 106, 'toelrat': 4, 'polypharmaci': 4, 'inflict': 1, 'shallow': 50, 'iu': 151, 'skill': 23, 'tell': 38, 'saturday': 18, 'ami': 11, 'lot': 65, 'pct': 5, 'subacut': 15, 'mattress': 37, 'vb': 3, 'eeg': 31, 'winc': 12, 'bedcloth': 1, 'vesta': 44, 'knee': 81, 'pneumo': 49, 'intracran': 1, 'obvious': 17, 'conduct': 88, 'antifung': 42, 'clarif': 49, 'lawyer': 7, 'nebul': 73, 'ventilatiori': 1, 'microbiolog': 154, 'atc': 54, 'rsb': 2, 'origin': 143, 'integumentari': 91, 'errat': 17, 'mic': 41, 'oxid': 14, 'worri': 12, 'finesh': 1, 'phonat': 8, 'aecret': 1, 'occai': 2, 'enterrococcu': 1, 'inplac': 25, 'plateau': 78, 'autoflow': 47, 'fungemia': 3, 'cult': 21, 'zosyn': 185, 'soil': 5, 'frog': 2, 'sulfa': 30, 'lul': 153, 'senna': 94, 'bradycardia': 104, 'assest': 1, 'shallowli': 2, 'legionella': 129, 'ofr': 3, 'fibrinogen': 35, 'transthorac': 33, 'alo': 55, 'myopathi': 11, 'reoccur': 5, 'epileptiform': 4, 'ecchymos': 31, 'compani': 12, 'gnr': 69, 'import': 48, 'pvd': 45, 'nab': 35, 'mouthcar': 12, 'lebsiella': 1, 'reconsult': 28, 'correctli': 14, 'postiv': 14, 'lasic': 4, 'enoxaparin': 7, 'ethic': 7, 'mov': 2, 'nr': 12, 'writer': 8, 'growth': 91, 'sulfamethoxazol': 13, 'frighten': 5, 'payer': 3, 'sequela': 28, 'reattempt': 12, 'assoc': 28, 'bal': 84, \"c'd\": 22, 'cloud': 3, 'organ': 171, 'crust': 9, 'background': 33, 'sensitivit': 4, 'caspo': 3, 'perfom': 3, 'hyperventil': 14, 'physcial': 1, '^th': 23, 'sate': 74, 'atelectat': 74, 'truli': 12, 'ausc': 9, 'postpon': 18, 'salin': 92, 'rtc': 22, 'nl': 92, 'sqh': 33, 'reeval': 13, 'aero': 1, 'told': 62, 'wo': 19, 'oo': 4, 'dull': 81, 'identif': 12, 'lscta': 16, 'debilit': 5, 'emphas': 104, 'recur': 27, 'esbl': 17, 'diinish': 1, 'ointment': 41, 'anticoag': 12, 'maximum': 26, 'sick': 35, 'figiti': 2, 'hello': 2, 'hoyer': 6, 'discusss': 2, 'tracheal': 73, 'oint': 10, 'polici': 7, 'vasopressor': 22, 'recurr': 162, 'flora': 37, 'durat': 69, 'zantac': 12, 'propot': 2, 'substanti': 145, 'statin': 75, 'suppli': 13, 'heent': 169, 'coccu': 2, 'supposedli': 2, 'morpholog': 37, 'never': 49, 'con': 48, 'exhaust': 14, 'joint': 115, 'mycobacteria': 3, 'ciprofloxacin': 60, 'magnesium': 150, 'carb': 7, 'ntinu': 2, 'pedn': 3, 'confer': 11, 'hypodens': 91, 'destin': 74, 'toothbrush': 1, 'deliriu': 3, 'inabl': 89, 'feeed': 1, 'front': 18, 'file': 14, 'deflat': 36, 'anion': 18, 'mngt': 4, 'unspecifi': 4, 'mrsa': 152, 'heo': 1, 'currrent': 5, 'suctiong': 2, 'olanzapin': 27, 'constantli': 30, 'gasp': 7, 'zocor': 13, 'yeast': 83, 'lax': 17, 'lmw': 9, 'gentl': 74, 'investig': 20, 'ranitidin': 23, 'overwelm': 1, 'rpr': 15, 'reinflat': 5, 'tobramycin': 20, 'throw': 9, 'tc': 64, 'breakthrough': 30, 'alkalin': 60, 'variat': 31, 'occipit': 22, 'cmp': 3, 'featur': 22, 'alittl': 9, 'emotiion': 1, 'alound': 1, 'vna': 16, 'ntnd': 33, 'carotid': 57, 'flight': 21, 'cefuroxim': 4, 'contractur': 15, 'cancel': 34, 'uncompl': 67, 'hygein': 17, 'ast': 167, 'stair': 44, 'improvemt': 1, 'ensur': 85, 'dicharg': 2, 'vehicl': 4, 'dilig': 2, 'incident': 44, 'ionli': 1, 'anaerob': 19, 'activit': 3, 'dehydr': 52, 'failr': 1, 'variou': 55, 'compromis': 44, 'coloni': 11, 'dip': 49, 'tomm': 10, 'barrier': 135, 'rg': 3, 'mgt': 21, 'empir': 119, 'enterococcu': 19, 'ngtd': 82, 'protect': 258, 'glabrata': 1, 'alt': 179, 'bottl': 59, 'uroin': 1, 'choic': 32, 'levoquin': 71, 'fsb': 61, 'territori': 45, 'triphas': 5, 'rescreen': 6, 'ultrac': 8, 'comf': 11, 'erythemat': 32, 'acalc': 3, 'trumpet': 13, 'vpshunt': 1, 'viscou': 14, 'narcan': 14, 'swang': 1, 'artlin': 2, 'scar': 85, 'cov': 11, 'pericholecyst': 22, 'mesenter': 70, 'cephalad': 5, 'albut': 6, 'trachealbronch': 1, 'cultu': 2, 'gluocos': 1, 'usus': 1, 'wbcc': 2, 'occl': 1, 'five': 33, 'ud': 16, 'captropril': 4, 'descend': 76, 'fwb': 19, 'fluro': 5, 'wedg': 26, 'insuffl': 11, 'retroperiton': 74, 'relay': 12, 'flumazenil': 2, 'dibilit': 1, 'pylor': 32, 'sump': 7, 'inter': 3, 'epitaxi': 2, 'coupl': 65, 'couldnt': 1, 'stare': 10, 'presuur': 1, 'waffl': 23, 'pearl': 56, 'facial': 65, 'bottuck': 1, 'affirm': 6, 'quinin': 2, 'cvl': 114, 'cohlecyst': 1, 'lcontinu': 1, 'duski': 12, 'lasi': 2, 'apsolut': 1, 'perinium': 1, 'succinycholin': 1, 'ptx': 112, 'pluggi': 12, 'contanct': 1, 'hypo': 58, 'hypernatrimia': 1, 'conspicu': 14, 'recaptur': 2, 'trough': 91, 'captoril': 2, 'asymmmetr': 1, 'anplatz': 1, 'intra': 130, 'periph': 25, 'dssg': 12, 'mcq': 28, 'perk': 1, 'format': 65, 'lcode': 1, 'pharynx': 30, 'pcn': 28, 'toxin': 25, 'technologist': 2, 'caudad': 2, 'disent': 1, 'unwil': 4, 'yerterday': 1, 'lp': 39, 'radiopaqu': 14, 'isodens': 5, 'ascit': 86, 'tracheobronch': 6, 'strenghth': 1, 'nephrogram': 4, 'temporarili': 14, 'mvt': 5, 'yeasti': 8, 'gastroparesi': 8, 'dollar': 3, 'excori': 46, 'multipodi': 11, 'captopril': 56, 'paramedian': 7, 'shunt': 33, 'foerarm': 1, 'secreat': 60, 'cabl': 2, 'throught': 12, 'ulnar': 8, 'fdg': 29, 'mucoid': 24, \"nts'ing\": 3, 'offset': 5, 'beyond': 58, 'hypoxemia': 159, 'trietz': 1, 'peri': 67, 'ful': 5, 'postpylor': 6, 'mrsh': 1, 'dup': 15, 'preexist': 9, 'ganz': 17, 'amelior': 2, 'women': 13, 'reidual': 1, 'intraperiton': 31, 'periton': 25, 'fingerstick': 72, 'tracheobronc': 1, 'nph': 44, 'stockinett': 1, 'hypopharyng': 3, 'reproduc': 4, 'elixir': 9, 'pit': 80, 'disp': 5, 'shoot': 9, 'vasc': 5, 'gaol': 3, 'fundu': 20, 'hypoglycemia': 29, 'iddm': 20, 'pancreat': 61, 'intrapelv': 8, 'comp': 6, 'dilut': 41, 'nst': 9, 'chole': 6, 'duct': 70, 'profoundli': 10, 'appendix': 14, 'ventriculo': 1, 'ostomi': 21, 'protonix': 109, 'hourli': 52, 'resolut': 184, 'motil': 16, 'ped': 2, 'breat': 5, 'ruq': 51, 'punctat': 17, 'vp': 12, 'rim': 16, 'regain': 16, 'resudu': 2, 'effct': 3, 'dyspepsia': 3, 'introduc': 48, 'zero': 13, 'nn': 3, 'stv': 15, 'strenght': 7, 'nasotrach': 19, 'uncahng': 1, 'superstiff': 2, 'palpat': 107, 'perinephr': 15, 'ventriculoperiton': 3, 'pap': 33, 'travers': 16, 'nare': 44, 'duodem': 1, 'inconsistanti': 1, 'suit': 51, 'wir': 1, 'intrabdomin': 5, 'retinopathi': 8, 'definit': 207, 'chose': 2, 'groin': 77, 'etomid': 10, 'keflex': 9, 'weakli': 34, 'splenic': 38, 'unifoc': 5, 'pigtail': 36, 'kump': 10, 'swan': 20, 'hematoma': 87, 'unsuit': 3, 'wil': 5, 'careweb': 13, 'subdur': 21, 'undergo': 33, 'slate': 2, 'larm': 2, 'diverticul': 36, 'subcutan': 122, 'reddend': 2, 'flexitract': 2, 'manipul': 31, 'ligament': 19, 'optim': 115, 'trim': 17, 'convex': 14, 'rult': 1, 'gyral': 1, 'zoloft': 14, 'bottom': 28, 'magnevist': 35, 'nois': 18, 'substanc': 12, 'yearold': 1, 'pneumococc': 25, 'pcxr': 12, 'pneu': 2, 'affebril': 1, 'metatars': 3, 'flex': 28, 'subdeltoid': 1, 'obl': 3, 'arrous': 13, 'mgm': 30, 'unusu': 30, 'ltr': 5, 'plexopathi': 1, 'cuneiform': 1, 'labrum': 1, 'subacromi': 1, 'pneumoni': 4, 'articular': 6, 'numer': 73, 'plain': 29, 'posterolater': 9, 'fourth': 15, 'strep': 32, 'dorsum': 2, 'hyperemia': 6, 'rusti': 12, 'withrr': 1, 'bicep': 6, 'nuclear': 6, 'hem': 27, 'abscess': 119, 'acromi': 1, 'eet': 1, 'posteriorli': 51, 'moist': 52, 'moderatli': 1, 'prof': 1, 'pd': 14, 'solid': 132, 'tbb': 25, 'medicin': 56, 'cchr': 8, 'subscapulari': 2, 'disus': 1, 'rythm': 19, 'decub': 67, 'tarsal': 1, 'gross': 75, 'roughli': 15, 'dulcolax': 36, 'uncertain': 38, 'tea': 15, 'clavicular': 13, 'urpc': 2, 'diprivan': 1, 'bursa': 3, 'lordot': 5, 'extensor': 3, 'infraspinatu': 2, 'occn': 8, 'dimens': 34, 'intiat': 4, 'fiber': 82, 'neutral': 16, 'necrot': 40, 'unsucessful': 1, 'gage': 2, 'airport': 1, 'fewer': 11, 'extrasystol': 6, 'cmi': 3, 'humer': 23, 'fifth': 10, 'scratchi': 2, 'supp': 43, 'bright': 26, 'tommorrow': 18, 'diaph': 2, 'signal': 48, 'feasabl': 1, 'im': 24, 'supraspinatu': 2, 'musculotendin': 1, 'subcort': 24, 'conintu': 4, 'lightli': 71, 'diaphret': 1, 'deform': 50, 'pox': 14, 'beplac': 1, 'nearli': 59, 'attemp': 7, 'osteomyel': 22, 'stir': 8, 'cardio': 54, 'massiv': 38, 'tiolet': 4, 'six': 39, 'gadolinium': 35, 'phenomenon': 10, 'els': 16, 'fli': 4, 'pneum': 4, 'osa': 48, 'mellow': 1, 'cuboid': 1, 'suspicion': 74, 'spontrr': 1, 'ble': 57, 'peerla': 6, 'quick': 26, 'linear': 77, 'recenli': 1, 'navicular': 4, 'saliva': 5, 'settign': 3, 'diminut': 7, 'aberr': 9, 'sepi': 3, \"cx'ed\": 1, 'marrow': 31, 'crystal': 6, 'shakey': 2, 'maint': 23, 'doze': 42, 'vapor': 1, 'broken': 48, 'speach': 11, 'anusol': 2, 'printer': 1, 'smooth': 16, 'basalar': 1, 'urosepsi': 14, 'hemo\\x13rrhoid': 1, 'absc': 3, 'laser': 5, 'uret': 25, 'dentur': 48, 'tranport': 2, 'exophyt': 13, 'bay': 2, 'pertrud': 1, 'echogen': 56, 'nibp': 44, 'ax': 90, 'yeseterday': 1, 'flood': 2, 'hematuria': 45, 'pole': 56, 'vaopriz': 1, 'ctu': 1, 'hypoecho': 9, 'contnu': 3, 'oreint': 5, 'largest': 47, 'malfunct': 7, 'radiolgist': 1, 'coopert': 3, 'jitteri': 4, 'atyp': 95, 'store': 11, 'inct': 2, 'periureter': 2, 'multidetector': 54, 'klibesella': 1, 'axox': 11, 'personnel': 4, 'cat': 23, 'hack': 5, 'otherwsi': 1, 'irrit': 34, 'pee': 7, 'adedqu': 1, 'constant': 62, 'hygen': 10, 'bark': 2, 'lobar': 45, 'diphoret': 1, 'ach': 22, 'explan': 44, 'bronchosast': 1, 'misk': 1, 'forc': 25, 'headach': 104, 'bedtim': 31, 'prec': 21, 'fhp': 35, 'stagger': 5, 'metoprolo': 5, 'hypotherm': 20, 'remaian': 2, 'dermi': 2, 'psychosoci': 34, 'unbrocken': 2, 'median': 42, 'historian': 14, 'aplli': 7, 'react': 39, 'hugger': 20, 'hhtm': 1, 'rep': 14, 'lisinipril': 2, 'admiit': 2, 'miur': 2, 'snack': 9, 'fam': 18, 'incourag': 5, 'receievd': 2, 'argatroban': 3, 'outli': 1, 'reevalu': 45, 'fear': 15, 'bair': 14, 'unbutton': 1, 'appi': 14, 'sig': 59, 'sternotomi': 60, 'kilo': 2, 'strengh': 1, 'therapeud': 2, 'exaserb': 2, 'mth': 4, 'ced': 58, 'hydrostat': 10, 'electoly': 1, 'cleaner': 10, 'trazodon': 22, 'lle': 45, 'dt': 18, 'captipril': 2, 'hr^': 2, 'tight': 49, 'dangl': 16, 'cxray': 24, 'hose': 2, 'mgso': 17, 'shedul': 3, 'althought': 4, 'inlet': 91, 'random': 36, 'followand': 1, 'eupneic': 2, 'cadiac': 3, 'stoma': 26, 'tansfer': 1, 'failer': 1, 'stem': 20, 'receiev': 6, 'reserv': 20, 'ptmay': 1, 'wt': 59, 'sympomat': 1, 'draig': 1, 'decannul': 8, 'dischar': 1, 'flash': 44, 'hit': 35, 'doublegard': 1, 'argantroban': 1, 'satu': 4, 'column': 6, 'packet': 21, 'readjust': 11, 'triazidon': 1, 'upto': 20, 'azithromycin': 121, 'shovel': 54, 'pacer': 63, 'cefriaxon': 5, 'occas': 27, 'loperessor': 1, 'drplet': 1, 'twitch': 9, 'oxycodon': 90, 'atr': 62, 'draft': 2, 'afebriel': 2, 'tolert': 7, 'througho': 1, 'andw': 1, 'vnaco': 1, \"sx'ing\": 13, 'acidemia': 11, 'woken': 14, 'hemodynamci': 5, 'unreason': 1, 'ord': 1, 'calib': 99, 'fsg': 16, 'deferves': 1, 'phlegm': 18, 'recehck': 1, 'spiromet': 43, 'dev': 5, 'beextub': 1, 'adher': 11, 'yankor': 1, 'clavicl': 35, 'insuln': 2, 'nepro': 13, 'vpace': 9, 'inutb': 1, 'wrong': 24, \"tx'ed\": 6, 'elsewher': 15, 'ut': 5, 'cloudi': 71, 'fgd': 2, 'eri': 2, 'wosen': 2, 'disregard': 7, 'deposit': 11, 'ddd': 10, 'resecur': 2, 'outpu': 1, 'reappear': 4, 'hypokalem': 1, 'needi': 2, 'nerpo': 1, 'incent': 70, 'cook': 6, 'power': 28, 'perman': 24, 'accur': 40, 'choke': 38, 'leftward': 46, 'coulf': 1, 'qt': 26, 'bloood': 2, 'applesauc': 57, 'adv': 21, 'reinstiut': 1, 'dieuresi': 4, 'tibia': 6, 'asymetr': 1, 'ramp': 8, 'draingag': 2, 'cop': 14, 'agent': 51, 'cpr': 21, 'copiu': 12, 'weep': 31, 'puffi': 5, 'bifurc': 20, 'languag': 88, 'ansarca': 2, 'sotalol': 3, 'reexpans': 17, 'psycho': 2, '^bp': 5, 'nonverb': 35, 'temporari': 33, 'rl': 13, 'strongh': 2, 'wise': 8, 'weepi': 12, 'whotish': 1, 'aquacel': 12, 'multipod': 6, 'hook': 6, 'grand': 14, 'twenti': 11, 'antiobx': 1, 'midnit': 17, 'sluggishli': 5, '^^frequent': 1, 'adapt': 21, 'hiss': 49, 'favor': 43, 'carin': 11, 'perfit': 4, 'steam': 5, 'mon': 124, 'probal': 37, 'enjoy': 11, 'zyprexia': 10, 'takennoff': 1, 'unlabour': 7, 'danger': 9, 'ota': 18, 'succinylcholin': 5, 'nailb': 14, 'extrim': 19, 'bilatar': 2, 'toleat': 2, 'hydralazin': 63, 'ic': 10, 'rewir': 2, \"today'\": 14, 'epistaxi': 45, 'agreement': 29, 'bmx': 16, 'circular': 3, 'underw': 60, 'mp': 20, 'digit': 12, 'presept': 6, 'serou': 54, 'openn': 1, 'opressor': 1, 'cycl': 71, 'foe': 7, 'zyrexa': 2, 'miconazol': 35, 'pearla': 1, 'autodiuresi': 18, 'hypernatremai': 1, 'florid': 1, 'pose': 4, 'rational': 10, 'univ': 7, 'auto': 36, 'dilt': 76, 'nu': 7, 'iurs': 1, 'additiona': 1, 'atn': 44, 'fistula': 48, 'lunch': 40, 'os': 47, 'lamotrigin': 4, 'thr': 5, 'alway': 56, 'distant': 119, 'bronchospasm': 27, 'tbm': 10, 'heamodinam': 2, 'neosynephrin': 10, 'idos': 1, 'worrisom': 46, 'proceed': 42, 'rigid': 34, 'tracheobronchiomalacia': 1, 'anithypertens': 2, 'sa': 18, 'neither': 19, 'wwp': 25, 'intraabdomin': 26, 'hcl': 36, 'tab': 61, 'normoact': 16, 'jrld': 8, 'offici': 17, 'delin': 29, 'nocturn': 15, 'guidelin': 14, 'trop': 71, 'shape': 28, 'autoset': 12, 'seed': 4, 'intersti': 4, 'supraglott': 2, 'lamict': 3, 'eomi': 56, 'bronchoscopi': 101, 'stridor': 27, 'tracheocutan': 1, 'mmm': 83, 'hyperlipidemia': 74, 'vicoden': 1, 'gallop': 65, 'sertralin': 7, 'guaifenesin': 23, 'closur': 34, 'copmlet': 1, 'phenylephrin': 13, 'bupropion': 4, 'quetiapin': 8, 'ecg': 124, 'lorazepam': 66, 'requr': 6, 'video': 113, 'tracheomalacia': 19, 'nectar': 85, 'thrombocytosi': 11, 'rd': 48, 'chin': 38, 'mouthwash': 5, 'seroquel': 32, 'bcx': 81, 'decadron': 16, 'wan': 1, 'barium': 84, 'machin': 33, 'granul': 14, 'hurt': 14, 'ppf': 7, 'dcd': 18, 'crush': 68, 'robitussin': 14, 'arf': 112, 'euvolem': 48, 'oversed': 17, 'gotten': 16, 'ric': 1, 'interfer': 5, 'bee': 35, 'strict': 49, 'scope': 18, 'mention': 47, 'chanc': 20, 'cal': 49, 'thrombocytopeni': 3, 'sensat': 60, 'nkfa': 15, 'tazobactam': 90, 'pantoprazol': 96, 'dysphagia': 89, 'lighten': 24, 'hypocalor': 23, 'vicodin': 12, 'pta': 59, 'contamin': 63, 'context': 38, 'mvv': 2, 'bactermia': 8, 'postop': 31, 'downward': 39, 'prudent': 4, 'laryngoscop': 1, 'arrhythmia': 79, 'ipratroprium': 7, 'ao': 13, 'organomegali': 41, 'pseudomona': 54, 'penetr': 74, 'caution': 18, 'bibasilr': 3, 'cipro': 73, 'burn': 23, 'recordsheparin': 1, 'ofm': 13, 'inadequ': 59, 'slp': 69, 'calori': 62, 'treatement': 5, 'laa': 16, \"amt'\": 1, 'spacer': 16, 'raa': 13, 'releas': 32, 'benzocain': 11, 'appendag': 17, 'certifi': 23, 'pnumonia': 6, 'border': 79, 'throughtout': 10, 'basilar': 201, 'probablyl': 1, 'bronchopneumonia': 8, 'regul': 26, 'intcat': 1, 'asd': 65, 'orthostat': 6, 'atheroma': 15, 'regimin': 14, 'woke': 30, 'dosag': 42, 'exagger': 13, 'latter': 14, 'asthma': 76, 'utd': 2, 'hcfa': 22, 'spray': 32, 'flovent': 23, 'minor': 63, 'thereor': 2, 'tele': 78, 'leginella': 1, 'inact': 4, 'bloodwork': 2, 'quadrent': 9, 'surround': 117, 'clavian': 1, 'efus': 2, 'tachi': 109, 'compliant': 28, 'former': 26, 'number': 88, 'suptum': 4, 'systool': 1, 'rac': 10, 'dirrhea': 3, 'cardia': 11, 'diarrhoea': 2, 'monitot': 1, 'unoffici': 2, 'reassurr': 3, 'prouctiav': 1, 'incresa': 9, 'endocrin': 100, 'tollert': 5, 'user': 7, 'hepc': 6, 'soung': 1, 'proce': 6, 'issacc': 1, 'dizzy': 4, 'intralumin': 43, 'myo': 1, 'opert': 1, 'therepay': 1, 'salesman': 2, 'airborn': 13, 'pleurit': 50, 'invers': 48, 'notbal': 1, 'culter': 4, 'preacuat': 1, 'difus': 3, 'tenou': 2, 'tolerta': 4, 'aunt': 11, 'blastic': 40, 'expor': 2, 'hrli': 23, 'tb': 35, 'great': 102, 'housem': 1, 'halfway': 6, 'someon': 21, 'obliqu': 44, 'drope': 8, 'coughin': 2, 'abus': 89, 'fan': 9, 'whilst': 5, 'sober': 4, 'oedema': 2, 'tachcardia': 3, 'arrborn': 1, 'percent': 12, 'malais': 29, 'entre': 1, 'setteld': 1, 'drinkinhg': 1, 'maitain': 7, 'xr': 9, 'labe': 2, 'dinner': 44, 'sweat': 31, 'feasibl': 13, 'clock': 21, 'multidiciplanari': 2, 'noncontrast': 26, 'svo': 30, 'ivanbx': 2, 'polysubst': 8, 'aprox': 4, 'yeaterday': 4, 'vesicl': 16, 'ductal': 46, 'asbesto': 18, 'eosinophil': 23, 'exposur': 45, 'puffer': 1, 'rightward': 32, 'anomali': 3, 'widen': 54, 'plueral': 7, 'pseudocyst': 4, 'rfa': 2, 'partli': 23, 'attenutaion': 1, 'osteolyt': 10, 'pseudo': 8, 'emphysema': 117, 'ablat': 14, 'cryptogen': 7, 'plaqu': 50, 'hypersensit': 15, 'phasether': 1, 'atenolol': 23, 'hcc': 4, 'offic': 36, 'perfus': 108, 'calciif': 1, 'cardiomedistin': 2, 'radiofrequ': 2, 'biliari': 93, 'knew': 18, 'real': 21, 'priior': 1, 'emphysemat': 25, 'amiben': 1, 'accentu': 13, 'chill': 93, 'inspir': 53, 'celiac': 16, 'wrote': 12, 'bulla': 9, 'plastic': 16, 'hunger': 10, 'stent': 77, 'paratrach': 55, 'portal': 69, 'multiphas': 4, 'evalut': 20, 'pancreatit': 6, 'wonder': 9, 'nss': 10, 'sphincter': 10, 'hila': 32, 'dome': 12, 'iwht': 1, 'lingula': 51, 'anem': 6, 'pouch': 7, 'flexi': 16, 'commut': 1, 'nodular': 89, 'threat': 6, 'psych': 70, 'mandarin': 4, 'centrilobular': 30, 'mix': 77, 'smoothli': 3, 'predomin': 48, 'jelli': 13, 'sizabl': 10, 'flucytosin': 1, 'gradual': 81, 'ealier': 2, 'dispos': 3, 'antigen': 69, 'amb': 30, 'ampho': 1, 'azythromycin': 8, 'dark': 88, 'ne': 16, 'azrithomycin': 1, 'induct': 11, 'bedbath': 7, 'maew': 14, 'nuse': 1, 'beter': 2, 'bsc': 6, 'beeper': 13, 'tue': 103, 'fluconazol': 22, 'indwel': 83, 'ile': 1, 'ppp': 44, 'montior': 12, 'difficutli': 8, 'mvmt': 7, 'refriger': 3, 'asap': 25, 'dat': 5, 'inhomogen': 2, 'atb': 7, 'cardaic': 9, 'door': 8, 'ambison': 2, 'cryptococc': 7, 'aortopulmonari': 5, 'stripe': 3, 'acit': 6, 'toe': 64, 'serax': 2, 'osmo': 2, 'sarcoidosi': 8, 'solu': 10, 'nomogram': 2, 'hypoxem': 63, 'cross': 39, 'decreaz': 1, 'rib': 92, 'standpoint': 29, 'thhat': 1, 'promari': 1, 'sed': 47, 'conves': 1, 'wth': 10, 'trap': 26, 'calif': 1, 'joke': 5, 'interlobular': 12, 'traction': 12, 'tail': 21, 'station': 27, 'softner': 4, 'meal': 67, 'seri': 74, 'asymp': 1, 'vat': 37, 'nutrient': 1, 'undergon': 14, 'aao': 19, 'spokesperson': 35, 'bt': 16, 'onm': 1, 'prone': 20, 'dedic': 30, 'girlfriend': 9, 'calculi': 22, 'bronchiolectasi': 2, 'resect': 60, 'biopsi': 61, 'nonrebreath': 6, 'bigm': 1, 'select': 26, 'evolv': 48, 'treament': 3, 'hdsa': 3, 'ild': 15, 'conjunct': 77, 'intrahepat': 39, 'medrol': 12, \"pvc'\": 2, 'chew': 16, 'strain': 28, 'alveol': 3, 'textur': 18, 'intralobular': 5, 'monit': 11, 'sighn': 1, 'reas': 1, 'bronchu': 48, 'mx': 5, 'bronchiectasi': 45, 'bigemini': 18, 'thorax': 53, 'leni': 44, 'edg': 53, 'unwind': 1, 'hygroma': 2, 'hypoglycem': 14, 'wcn': 1, 'fore': 2, 'occasionali': 7, 'bolou': 4, 'rhytham': 3, 'dement': 5, 'sarna': 18, 'edt': 2, 'tronchant': 1, 'jet': 17, 'debried': 2, 'rewrit': 1, 'braeth': 2, 'mush': 3, 'inflow': 40, 'fainf': 1, 'statg': 1, 'derang': 2, 'somul': 19, 'therapaut': 1, 'pst': 2, 'adeq': 31, 'barier': 1, 'trnasfus': 1, 'ssc': 4, 'puntur': 1, 'thalamu': 3, 'solomn': 1, 'hardwar': 28, 'bifront': 5, 'napho': 1, 'trochant': 5, 'eccentr': 18, 'neutropho': 8, 'ccheck': 1, 'lacunar': 20, 'scratch': 11, 'oze': 1, 'debrid': 14, 'hypoxaemiaand': 1, 'meditatin': 1, 'clonazipam': 1, 'amiod': 2, '^activ': 1, 'holist': 2, 'alprazolam': 5, 'doctor': 25, 'cefepin': 2, 'serequel': 4, 'accumul': 18, 'regurg': 10, 'naus': 3, 'passymuir': 1, 'powed': 1, 'adventiti': 2, 'guafenisen': 1, 'yel': 18, 'codein': 31, 'play': 21, 'baslin': 8, 'comfortabl': 1, 'ultim': 33, 'hyperthyroid': 4, 'disten': 8, 'grossili': 1, 'redn': 2, 'eldest': 2, 'miconizol': 6, 'lopresor': 8, 'rvr': 52, 'occass': 22, 'bend': 10, 'attemtpt': 2, 'facilit': 54, 'thumb': 8, 'syrup': 7, 'norepinephrin': 23, 'fpp': 1, 'doppl': 2, 'print': 11, 'spasmod': 1, 'litr': 15, 'zip': 2, 'postion': 16, 'pulmojnari': 1, 'dicis': 1, 'duflucan': 1, 'vigir': 1, 'occaa': 1, 'sundrom': 1, 'belt': 9, 'nervous': 1, 'pant': 4, 'lightheaded': 25, 'stert': 1, 'frewq': 1, 'towel': 6, 'updatedon': 1, 'sacrum': 45, 'music': 5, 'resportedli': 3, 'forehead': 7, 'ecchymosi': 20, 'decrea': 4, 'realiz': 11, 'mildi': 20, 'periipher': 1, 'bradi': 37, 'intubat': 3, 'perian': 26, 'inj': 6, 'rednessskin': 1, 'flip': 14, 'medium': 40, 'mul': 7, 'save': 9, 'asynchronu': 1, 'appro': 4, 'amiodaron': 47, 'brachi': 1, 'airb': 9, 'antianxieti': 9, 'clonazapam': 3, 'bsx': 21, 'rtw': 1, 'ffp': 28, 'coccxi': 3, 'thyroid': 108, 'patenc': 32, 'rhinoviru': 1, 'xanax': 12, 'ccq': 3, 'fliud': 5, 'revertedcardiolog': 1, 'preprocedur': 35, 'nausou': 1, 'pivot': 41, 'pnr': 2, 'uninvolv': 2, 'suceed': 2, 'admininst': 2, 'sb': 107, 'viust': 1, 'hundr': 6, 'maex': 6, 'vasopressin': 17, 'break': 43, 'nsb': 8, 'sn': 4, 'althoug': 1, 'pacemek': 1, 'noutrit': 1, 'rr^': 2, 'diflucan': 6, 'longest': 2, \"antibx'siv\": 1, 'fleck': 5, 'reticular': 17, 'superf': 2, 'retap': 29, 'rsp': 11, 'gluteal': 20, 'btwn': 6, '^inr': 2, 'incis': 54, 'eith': 3, 'gtube': 17, 'mlc': 4, 'amio': 23, 'transfert': 1, 'acess': 6, 'instil': 32, 'nka': 4, 'prednison': 108, 'breakdownn': 1, 'epidod': 1, 'disted': 1, 'montitor': 3, 'sacral': 42, 'atril': 2, 'cefapim': 14, 'wateri': 21, 'perineum': 29, 'complementari': 1, 'atropin': 14, 'sxned': 21, 'breakdow': 1, 'homeopath': 2, 'pat': 12, 'recevi': 4, 'episd': 1, 'confluenc': 22, 'steriod': 27, 'briskli': 20, 'moderat': 1, 'wht': 4, 'psupp': 8, 'ccn': 6, 'cefipim': 74, 'upbeat': 2, 'pone': 2, 'hyperoxemia': 3, 'revert': 11, 'gt': 33, 'methimazol': 3, \"am't\": 3, 'podu': 8, 'heplock': 18, 'altepas': 2, 'comapzin': 1, 'gestur': 33, 'contini': 3, 'lrg': 12, 'predinson': 2, 'protex': 1, 'extremit': 28, 'ativa': 1, 'abit': 6, 'weitht': 1, 'sxd': 14, 'xtra': 3, \"'tire\": 1, 'dizzi': 43, \"'rest\": 1, 'bldi': 11, 'toilett': 4, 'electolyt': 8, 'avvess': 1, 'tighten': 22, 'perirect': 10, 'planninng': 1, 'recev': 4, 'cleanser': 21, 'bcome': 1, 'codien': 3, 'additon': 7, 'flipp': 1, 'reang': 1, 'stretcher': 32, 'activi': 1, 'thicker': 10, 'foam': 16, 'rhonchoru': 14, 'properli': 26, 'betweeen': 1, 'ordere': 3, 'diureiss': 1, 'cholecystectomi': 39, 'tunnel': 48, 'abbrevi': 4, 'nonpit': 1, 'preced': 43, 'levetiracetam': 8, 'mmp': 10, 'intermit': 30, 'moda': 13, 'pictur': 57, 'pharmaci': 42, 'kepra': 1, 'bsn': 20, 'wfl': 40, 'sure': 50, 'supratherapeut': 25, 'elect': 27, 'endur': 30, 'seiz': 4, 'alkolosi': 6, 'phenytoin': 9, 'bph': 29, 'cabgx': 3, 'lipid': 15, 'resuspend': 1, 'dronedaron': 1, 'sqt': 1, 'unnecessari': 6, 'phlebiti': 3, 'appoint': 30, 'yetserday': 1, 'mere': 9, 'rlq': 11, 'hypoperfus': 16, 'rins': 14, 'eob': 23, 'hotn': 13, 'diverticulosi': 33, 'household': 2, 'motiv': 9, 'dyslipidemia': 15, 'palcement': 7, 'beneprotein': 28, 'environment': 1, 'dead': 12, 'groom': 2, 'femor': 131, 'sem': 22, 'vm': 11, 'ttp': 20, 'cholesterol': 12, 'dronederon': 1, 'vd': 13, 'urojet': 3, 'strenth': 2, 'warafin': 1, 'hemoglobin': 9, 'subtherapeut': 23, 'ug': 2, 'greatli': 37, 'implant': 9, 'squat': 5, 'ipratropium': 74, 'phenobarbit': 3, 'surgeon': 12, 'flank': 40, 'redos': 12, 'warfarin': 35, 'pafib': 3, 'tacheostomi': 2, 'violent': 3, 'simpli': 17, 'reb': 5, 'shif': 1, 'protract': 4, 'pth': 4, 'retri': 9, 'graft': 24, 'antibioit': 1, 'suspens': 13, 'endovascular': 2, 'hair': 5, 'load': 65, 'doesnt': 5, 'inaccur': 5, 'pulll': 1, 'tub': 6, 'monosodium': 1, 'redo': 10, 'clearanc': 58, 'drew': 3, 'noninvas': 13, 'serratia': 2, 'urea': 3, 'entranc': 5, 'intensivist': 3, 'heb': 6, 'ukn': 1, 'lob': 15, 'spin': 8, 'convuls': 4, 'spars': 25, 'commens': 9, 'appt': 10, 'glutam': 1, 'cholecystosomi': 1, 'readmit': 35, 'compart': 12, 'hypovolemia': 51, 'yom': 31, 'dye': 29, 'ncm': 18, 'afterward': 26, 'maxa': 8, 'aris': 18, 'epilept': 2, 'flomax': 7, 'cholecystostomi': 2, 'near': 151, 'cholangiogram': 1, 'confid': 6, 'heat': 20, 'trachemask': 1, 'dyspneic': 46, 'platelet': 27, 'hypercalcemia': 10, 'triglycerid': 9, 'vc': 7, 'granular': 4, 'cue': 41, 'plof': 7, 'btca': 4, 'foami': 2, 'achhiev': 1, 'absorb': 9, 'granual': 1, 'telemetri': 56, 'tartrat': 29, 'bromid': 33, 'performac': 12, 'ctx': 66, 'risen': 3, 'maxim': 37, 'sens': 34, 'hyperthryoid': 1, 'vdvt': 1, 'exud': 22, 'famotidin': 58, 'bar': 6, 'hap': 93, 'cast': 13, 'choley': 3, 'sustain': 42, 'angri': 25, 'nightgown': 2, 'neutrophil': 10, 'hydralizin': 18, 'sugic': 1, 'mural': 13, 'discoid': 8, 'writen': 1, 'enalapril': 9, 'anymor': 14, 'dobhuff': 1, 'aeros': 2, 'semiform': 5, 'bsbl': 1, 'struggl': 7, 'asystol': 2, 'vasotec': 7, 'adaptec': 2, 'arrest': 23, 'oett': 27, 'methylprednison': 11, 'worst': 22, 'unsucces': 4, 'harsh': 13, 'okay': 60, 'hypothermia': 19, 'othwis': 1, 'ni': 6, 'bandaid': 9, 'waist': 12, 'drowsi': 14, 'proccess': 1, 'crew': 2, 'vaccum': 1, 'orali': 1, 'mo': 27, 'henc': 8, 'flexibl': 5, 'conitinu': 2, 'misc': 5, 'advantag': 2, 'multilpl': 1, 'propof': 2, 'pcw': 2, 'wrestl': 1, 'tachyapen': 1, 'beggin': 1, 'dictat': 70, 'abat': 5, 'xrt': 41, 'ridgid': 2, 'nevertheless': 12, 'maintenc': 2, 'smoker': 69, 'subclav': 3, 'stint': 1, 'tumor': 44, 'reccur': 3, 'oncolog': 34, 'imv': 13, 'medistin': 5, 'armstorng': 1, 'leather': 3, 'kill': 8, \"'m\": 25, 'importantli': 4, 'escap': 5, 'thoracostomi': 8, 'unsucess': 2, 'paralyt': 10, 'delusioni': 1, 'setup': 7, 'paperwork': 34, 'radiat': 80, 'lla': 8, 'sorri': 4, 'terribl': 4, 'propfol': 7, 'neoplast': 14, 'releiv': 4, 'paranoid': 10, 'harm': 8, 'permen': 2, 'taht': 2, 'fom': 4, 'decsion': 3, 'currentlli': 1, 'kn': 1, 'diminis': 1, 'hallucinatori': 2, 'oxicontin': 1, 'crepitu': 27, 'lap': 19, 'metastat': 65, 'proof': 1, 'shred': 1, 'hallucin': 33, 'moistur': 14, 'chemo': 44, 'nobodi': 2, 'attack': 20, 'reprot': 2, 'gs': 21, 'desprat': 1, 'empti': 27, 'cordi': 10, 'clapm': 1, 'suddenli': 12, 'remiss': 6, 'midday': 3, 'indian': 3, 'bronchoscop': 10, 'departur': 3, 'restarin': 1, 'divorc': 6, 'build': 17, 'notibl': 1, 'thrash': 17, 'design': 36, 'oncologist': 18, 'ncp': 1, 'west': 20, 'peermenat': 1, 'thoughtout': 2, 'fhpa': 7, 'floey': 1, 'dryer': 2, 'plum': 1, 'perecnt': 1, 'brieflli': 1, 'addict': 21, 'uncoil': 2, 'azitromycin': 2, 'presep': 18, 'hcv': 23, 'consit': 5, 'segment': 205, 'ivda': 4, 'neuropathi': 36, 'draing': 12, 'mgx': 4, 'pseudonoma': 1, 'respiraotri': 3, 'closet': 2, 'bariair': 3, 'morbid': 15, 'amx': 3, 'vicodan': 1, 'colostomi': 17, 'catch': 7, 'bigboy': 1, 'communc': 2, 'adendun': 1, 'bsf': 2, 'clonopin': 6, 'acinetobact': 3, 'aroussbl': 1, 'tran': 16, 'immidiatli': 1, 'serosang': 31, 'marker': 31, 'clonipin': 5, 'shilli': 1, 'receipt': 2, 'tirat': 3, 'avg': 9, 'hadsbp': 1, 'lad': 83, 'insid': 13, 'besid': 11, 'grimaci': 1, 'tobacco': 77, 'bicarbon': 13, 'roscommon': 1, 'vessl': 2, 'palc': 8, 'fulll': 1, 'crowd': 15, 'solut': 24, 'unstag': 8, 'panel': 49, 'hear': 67, 'dng': 16, 'cerebrovascular': 11, 'tablet': 26, 'sbo': 27, 'angina': 13, 'isquit': 1, 'argu': 18, 'clostridium': 20, 'hyperantremia': 1, 'ipratrop': 2, 'algorithm': 7, 'perday': 1, 'qidach': 2, 'hyperreson': 44, 'hyperosmolar': 1, 'misplac': 5, 'gluc': 9, 'avf': 27, 'hemiparesi': 29, 'ftt': 5, 'lcx': 9, 'grayscal': 79, 'multidrug': 2, 'mag': 82, 'clonidin': 14, 'curent': 4, 'azygo': 14, 'ts': 41, 'rhoncer': 7, 'dashboard': 7, 'groan': 12, 'honk': 1, \"ce'\": 3, 'blockad': 15, 'porcin': 5, 'valid': 13, 'hf': 19, 'upslop': 1, 'unk': 1, 'allevyn': 21, '^rd': 13, 'jksd': 18, 'disrrhea': 1, 'odor': 14, 'prioriti': 7, 'synthryoid': 1, 'yesterd': 1, 'eschar': 8, 'sight': 8, 'hrt': 21, 'juven': 1, 'alcohol': 96, 'tw': 7, 'suppl': 81, 'decel': 4, 'capactiy': 1, 'gr': 32, 'hsq': 14, 'italian': 4, 'neutra': 9, 'ascorb': 4, 'chemistri': 51, 'illicit': 10, 'bind': 1, 'ste': 6, 'sclera': 115, 'diaphoresi': 41, 'ture': 5, 'pneumoperitoneum': 19, 'ferritin': 14, \"'out\": 1, 'mca': 17, 'rather': 82, 'nephrotox': 9, 'reassuringli': 1, 'normocyt': 10, 'bblocker': 6, 'miner': 47, 'brbpr': 10, 'medntal': 1, 'retir': 29, 'dhf': 3, 'agua': 1, 'pack': 74, 'formula': 30, 'pulmocar': 1, 'anterospt': 1, 'difficil': 31, 'metoclopramid': 15, 'ratio': 24, 'option': 51, 'unerli': 1, 'std': 5, 'vsd': 39, 'uncommun': 3, 'presur': 2, 'meticul': 5, 'muc': 1, 'linazolid': 3, 'rigor': 26, 'anterolater': 39, 'twi': 18, 'hemipharesi': 1, 'broadli': 23, 'invalid': 5, 'fetl': 1, 'metop': 8, 'coaurs': 1, 'tricep': 3, 'lit': 34, 'anicter': 69, 'atter': 1, 'haloperidol': 25, 'inhibitor': 30, 'ppd': 30, 'vigil': 4, 'causal': 2, 'resposit': 7, 'neuto': 1, 'sundown': 15, 'mvi': 38, 'housestaff': 30, 'malposit': 24, 'damag': 14, 'defici': 38, 'def': 7, 'levof': 3, 'cortisol': 27, 'cytolog': 26, 'mdr': 8, 'meropenim': 4, 'aa': 21, 'alleyvn': 1, 'chlorhexadin': 2, 'resrart': 1, 'bilar': 2, 'pxdb': 7, 'hyperglycemia': 82, 'buttack': 1, 'unstabl': 30, 'exch': 18, 'nitrit': 6, 'dif': 8, 'intev': 3, 'blacken': 5, 'beta': 99, 'mulitivitamin': 1, \"uti'\": 1, 'millimet': 2, 'freeli': 43, 'ezmolol': 1, 'improp': 1, 'peritoneum': 4, 'multivitamin': 59, 'somonl': 3, 'pk': 9, 'sion': 1, 'toson': 1, 'nursig': 1, 'restrict': 89, 'pda': 26, 'suprahilar': 10, 'ggt': 9, 'spfc': 15, 'caliciu': 1, 'outsid': 75, 'perpher': 18, 'drench': 1, 'qhr': 8, 'elderli': 34, 'rsrc': 14, 'sun': 60, 'act': 60, 'sttw': 2, 'healthcar': 40, 'jxxb': 6, 'catheter': 18, 'patellar': 3, 'syring': 11, 'hemorrhoid': 9, 'nonstag': 1, 'cardic': 1, 'worthwhil': 1, 'jtube': 7, 'rca': 9, 'account': 43, 'png': 6, 'repo': 17, 'merepenum': 8, 'alkp': 1, 'bound': 17, 'pottassium': 1, 'augment': 97, 'omeprazol': 43, 'nickel': 3, 'htpn': 1, 'faster': 55, 'rarr': 1, 'rhoncor': 12, 'courc': 1, 'acccess': 2, 'siadh': 26, 'arhb': 9, 'notat': 3, 'flexis': 31, 'reciproc': 3, 'protector': 2, 'profus': 14, 'equival': 14, 'anteriolater': 1, \"dri'\": 1, 'epi': 25, 'hypoaldosteron': 2, 'repet': 7, 'attorney': 8, 'tetracyclin': 12, 'legal': 36, 'guardian': 14, 'pud': 46, 'cathey': 1, 'fed': 22, 'maiten': 2, 'reclin': 13, 'onlin': 13, 'abund': 10, 'modestli': 4, 'purs': 9, 'klor': 1, 'uteru': 27, 'bloat': 4, 'arthriti': 30, 'calcarb': 1, 'loratadin': 5, 'iin': 4, 'fluticason': 25, 'myalgia': 62, 'neurot': 1, 'catscan': 3, 'golyt': 3, 'angioneurot': 1, 'annulu': 23, 'senakot': 1, 'jekh': 11, 'recordslosartan': 1, 'miralax': 16, 'bronchogram': 64, \"md'\": 3, 'consolod': 2, 'tramadol': 11, 'hypoalbuminemia': 2, 'abdomihn': 1, 'suppositori': 25, 'fev': 9, 'paf': 19, 'pseudomana': 1, 'disimpact': 13, 'furosemi': 1, 'presepsi': 2, 'overt': 81, 'precordium': 17, 'version': 44, 'centavit': 1, 'llq': 10, 'osteoarthr': 22, 'overdistend': 2, 'everytim': 2, 'longstand': 31, 'spiriva': 20, 'obstip': 8, 'streak': 35, 'pneumothorac': 31, 'thatn': 1, 'gastrointestin': 109, 'mbue': 8, 'ultram': 15, 'instanc': 6, 'cramp': 18, 'migrain': 10, 'glycol': 11, 'impact': 40, 'sma': 10, 'atorvastatin': 24, \"legionella'\": 1, 'coli': 20, 'sock': 5, 'acquisit': 27, 'bathroom': 16, 'fibroid': 7, 'sud': 6, 'mssa': 21, 'pullmonari': 2, 'subcentimet': 30, 'homemak': 4, 'tha': 6, 'flew': 1, 'bronchiti': 34, 'divis': 43, 'manual': 33, 'silent': 34, 'bra': 2, 'prod': 66, 'discern': 12, 'dchf': 10, 'tenac': 2, 'disempact': 3, 'angioedema': 8, 'retent': 51, 'benzonat': 6, 'churg': 3, 'palpit': 78, 'noncontributori': 3, 'ouput': 13, 'milk': 17, 'si': 17, 'itch': 21, 'repons': 2, 'polyethylen': 12, 'losartan': 9, 'advair': 35, 'sticki': 7, 'arthroplasti': 9, 'osteo': 10, 'gabapentin': 29, 'numb': 53, 'seven': 23, 'consecut': 14, 'soband': 1, 'anf': 4, 'spoken': 41, 'yield': 24, 'emisi': 2, 'yankaeur': 5, 'suciton': 7, 'od': 7, 'inflitr': 3, 'flouroscopi': 3, 'ru': 2, 'zithromax': 10, 'evlauat': 1, 'aforement': 11, 'recommenc': 3, 'unbal': 1, 'aphas': 10, 'town': 5, 'ade': 2, 'clairfi': 1, 'mici': 1, 'glucerna': 2, 'apperci': 1, 'evenu': 1, 'deflect': 36, 'biapic': 16, 'ultrasonograph': 15, 'atelectas': 17, 'lymphanget': 2, 'spillag': 4, 'tunnedl': 1, 'broncoscopi': 5, 'radiologistclip': 1, 'neoplasm': 39, 'shth': 6, 'epiglott': 35, 'pnemonia': 17, 'ultrasonographi': 5, 'para': 18, 'oscult': 1, 'absenc': 75, 'outpouch': 1, 'centesi': 7, 'nonlas': 5, 'passag': 12, 'perti': 1, 'vicryl': 8, 'collim': 29, 'vascul': 14, 'conist': 2, 'cricopharyng': 3, 'boop': 9, 'exact': 10, 'correspond': 63, 'lost': 33, 'carcinomatosi': 5, 'oropharynx': 59, 'incl': 29, 'intestin': 27, 'int': 22, 'hypoattenu': 18, 'ciwa': 22, 'serviceclip': 4, 'aspergillosi': 3, 'pel': 15, 'pancrat': 1, 'dont': 2, 'aggrav': 2, 'asperigillosi': 1, 'cbd': 21, 'oval': 24, 'sebac': 4, 'aaox': 33, 'phase': 113, 'dopp': 9, 'peribronchiolar': 9, 'display': 60, 'vault': 4, 'transamin': 26, 'sibl': 9, 'bibas': 24, 'ake': 1, 'torso': 96, 'vori': 1, 'duplex': 30, 'niv': 28, 'nonenhanc': 2, 'echotextur': 28, 'anyon': 10, 'fc': 7, 'soften': 9, 'greek': 3, 'pharyngoesophag': 1, 'eqaul': 1, 'patint': 2, 'epigast': 1, 'mayb': 34, 'placem': 10, 'duiresi': 4, 'dysphoria': 1, \"'ing\": 6, 'epigastr': 21, 'prosthet': 14, 'rsd': 1, 'brkd': 1, 'entero': 1, 'ventilatio': 1, 'previosu': 1, 'cntl': 3, 'pnaumonia': 1, 'tudi': 1, 'bedrail': 6, 'nifm': 1, 'bx': 31, 'peopl': 33, 'sxning': 18, 'trachesotomi': 1, 'scare': 12, 'deem': 17, 'sxt': 4, 'diverticulum': 10, 'intol': 2, 'ther': 8, 'oet': 3, 'antibioitc': 2, 'pomot': 1, 'neccessari': 4, 'reliabl': 18, 'diffult': 1, 'backflow': 2, 'pylori': 11, 'apneia': 1, 'siderail': 13, 'sanguin': 10, 'agrre': 1, 'sideport': 9, 'strategi': 13, 'preclud': 15, 'adeqaut': 7, 'abt': 5, 'tyleno': 3, 'assit': 10, 'overlay': 4, 'chnage': 5, 'presseur': 1, 'bulg': 11, 'medcial': 1, 'ancef': 1, 'musc': 1, 'charg': 6, 'prospect': 2, 'pati': 1, 'antibiod': 8, 'midnght': 1, 'elong': 47, 'eccyhmot': 1, 'rust': 8, 'bang': 9, 'spon': 18, 'mycostatin': 16, 'sheddi': 1, 'thorcentesi': 1, 'aroung': 3, 'bloodting': 7, 'outout': 3, 'tack': 3, 'exclus': 13, 'coninu': 6, 'book': 17, 'zenker': 3, 'dep': 7, 'loccul': 1, 'subpulmon': 7, 'shown': 36, 'tu': 9, 'tie': 13, 'addtion': 4, 'nonbreath': 1, 'nephrectomi': 12, 'fentanlyl': 1, 'xalatan': 2, 'rythmic': 1, 'nonobstruct': 9, 'aortocav': 4, 'neurontin': 39, 'thrombosi': 91, 'olni': 1, 'hyperechogen': 2, 'phosphatas': 8, 'nodal': 18, 'collater': 15, 'neutro': 4, 'cirrhot': 6, 'nystagmoid': 1, 'grave': 6, 'varic': 14, 'cholelithiasi': 36, 'esphog': 1, 'durages': 5, 'uncomprehens': 2, 'hepatoma': 1, 'huge': 13, 'asid': 22, 'overse': 1, 'tkcb': 4, 'decomp': 2, 'unexplain': 8, 'pancytopenia': 9, 'rheumat': 6, 'pseudomembran': 2, 'foramen': 18, 'pneumovax': 3, 'nwh': 5, 'eagg': 9, 'architectur': 9, 'aneursym': 4, 'skincar': 4, 'pernici': 4, 'contributori': 21, 'transcort': 1, 'splenoren': 2, 'pfo': 19, 'gmdb': 3, 'older': 12, 'tambocor': 1, 'extrahepat': 15, 'qpm': 9, 'flecainid': 2, 'nsst': 2, 'flecanaid': 1, 'subcarin': 48, 'pancol': 3, 'flecanid': 2, 'collapps': 1, 'bubbl': 24, 'pneumatosi': 16, 'steadili': 13, 'esophag': 75, 'pterion': 2, 'depakot': 13, 'blossom': 4, 'lowish': 2, 'mood': 15, 'ileu': 42, 'flovastin': 1, 'meningismu': 4, 'grown': 18, 'seriou': 5, 'frontotempor': 2, 'abomin': 1, 'metronidazol': 54, 'dilaudid': 42, 'orific': 5, 'falgyl': 2, 'baricat': 6, 'inclin': 5, 'enterobact': 7, 'levoflaxacin': 2, 'sac': 10, 'habitu': 52, 'pmi': 84, 'celexa': 25, 'pepcid': 46, 'valvular': 73, 'questran': 1, 'intracardiac': 17, 'accordion': 1, 'narrow': 111, 'withnew': 1, 'heavi': 43, 'anur': 17, 'qam': 18, 'dyspahgia': 2, 'megacolon': 12, 'shadow': 53, 'recordspneumovax': 1, 'elicit': 13, 'hypoxi': 1, 'necessarili': 8, 'honeycomb': 10, 'stigmata': 3, 'ica': 23, 'hyperinfl': 31, 'vac': 8, 'empyema': 64, 'sbna': 9, 'craniotomi': 7, 'splenomegali': 26, 'unsur': 40, 'chgc': 4, 'ampl': 11, 'throughput': 1, 'acidot': 14, 'actviti': 3, 'transaort': 7, 'maxillofaci': 11, 'transvers': 41, 'extermit': 3, 'court': 9, 'slough': 6, 'deescal': 1, 'wob^': 1, 'chekc': 2, 'meperidin': 7, 'intrathorac': 18, 'netrothick': 1, 'diaphor': 1, 'mycoplasma': 6, 'withdrawl': 20, 'ivx': 7, 'bilex': 1, 'averag': 51, 'hypoplast': 3, 'eripher': 1, 'indicaiton': 1, 'sputm': 3, 'transger': 1, 'pheresi': 1, 'catnap': 1, 'integrt': 1, 'clam': 3, 'lwi': 1, 'fallen': 9, 'regiular': 1, 'dtv': 9, 'panic': 14, 'cam': 3, 'linisod': 1, 'fluroscop': 2, 'stoolx': 5, 'podiatri': 6, 'larynx': 8, 'mimin': 2, 'ugib': 8, 'distensio': 1, 'coffe': 23, 'fxd': 3, 'tachypeniec': 2, 'imipenum': 3, 'bgm': 1, 'palap': 2, 'mequ': 1, 'iatrogen': 7, 'blanket': 35, 'edno': 2, \"sx'ed\": 7, 'suctioin': 1, 'silk': 14, 'peptimen': 2, 'vallecula': 36, 'sharpli': 17, 'bronchi': 54, 'baracat': 2, 'attemt': 5, 'egg': 9, 'throuhgout': 4, 'subcm': 2, 'taught': 10, 'expens': 3, 'flouro': 3, 'oz': 4, 'hemi': 5, 'recultur': 37, 'darker': 4, 'fuction': 3, 'airmattress': 4, 'junctur': 1, 'gastrostomi': 35, 'billiou': 3, 'benzo': 46, 'methylen': 3, 'laboratori': 12, 'bf': 3, 'prolin': 1, 'vhp': 3, 'coomand': 1, 'haldolx': 1, 'yankauer': 28, 'dem': 1, 'droperidol': 1, 'tyenol': 6, 'purri': 1, 'paper': 32, 'particiapt': 1, 'leakag': 24, 'frquesnt': 1, 'groov': 2, 'reddish': 2, 'airwari': 1, 'pupos': 3, 'diabetc': 1, 'ducolax': 10, 'anaplast': 2, 'lavarg': 5, 'aknowledg': 1, 'arachnoid': 5, 'intermitantli': 2, 'phenegin': 1, 'tracheobronchi': 20, 'awi': 3, 'thur': 9, 'ocassion': 5, 'surfac': 39, 'patien': 4, 'anticoagualt': 1, 'unilater': 9, 'pasi': 2, 'muer': 2, 'com': 4, 'imepenem': 2, 'eros': 17, 'ativanx': 1, 'fluorscop': 1, 'evsl': 1, \"trach'\": 2, 'rem': 1, 'stau': 8, 'sheift': 1, 'tachypen': 13, 'darken': 1, 'tacycardia': 3, 'spirit': 26, 'pneunomia': 2, 'liw': 1, 'rebolus': 3, 'bulb': 12, 'insuffici': 84, 'gravitli': 1, 'articul': 13, 'imipenem': 7, 'extralumin': 7, 'fatiqu': 3, 'grip': 15, 'startl': 6, 'tart': 2, 'heavili': 19, 'llightli': 1, 'tonit': 12, 'liezolid': 1, 'htx': 1, 'improvemnt': 2, 'bmthi': 1, 'erract': 1, 'tachpneic': 8, 'ltue': 1, 'rhonch': 3, 'peptomen': 3, 'infil': 4, 'recan': 6, 'lge': 27, 'tommorow': 9, 'llift': 1, 'throghout': 1, 'auditori': 6, 'midlung': 8, 'pneumat': 10, 'imipemium': 1, 'mash': 4, 'spiral': 2, 'zestril': 3, 'peptamin': 1, 'acalcul': 4, 'nodd': 4, 'fifteen': 2, 'ostiomeat': 5, 'midazolam': 75, 'appropi': 19, 'riski': 3, 'thoughout': 17, 'lcl': 1, 'accid': 8, 'brb': 13, 'cooler': 2, 'lenght': 3, 'repiratori': 5, 'gelatan': 1, 'tachycardiac': 5, 'affirmativley': 1, 'gastrographin': 2, 'empath': 2, 'honey': 15, 'multipurpos': 1, 'appropti': 1, 'anatom': 16, 'lanti': 6, 'grimmac': 6, 'ureteru': 1, 'anesthet': 26, 'exu': 1, 'lenti': 1, 'uac': 3, 'diuesi': 1, 'anesthesi': 1, 'flexur': 10, 'demerol': 10, 'hallway': 5, 'weather': 5, 'agiat': 6, 'kegal': 1, 'lisinepril': 1, 'cooprer': 1, 'amyla': 1, 'pocket': 24, 'quadrupl': 2, 'endoscop': 6, 'perlla': 4, 'teh': 7, 'drng': 31, 'hydral': 17, 'teari': 10, \"decr'\": 1, 'wont': 2, 'maynot': 1, 'popscicl': 1, 'unclamp': 3, 'speck': 5, 'acyclovir': 21, 'carvu': 15, 'flucuat': 3, 'peripancreat': 3, 'intremitt': 1, 'qlcl': 2, 'barocat': 3, 'visul': 1, 'catheth': 2, 'viscer': 9, 'transluc': 1, 'pleura': 31, 'palpapt': 1, 'mandibl': 15, 'spirt': 1, 'fuo': 26, 'antegrad': 16, 'valuewith': 1, 'bout': 15, 'mc': 14, 'bilou': 5, 'rle': 40, 'coud': 7, 'ou': 6, 'behind': 14, 'cmpeep': 1, 'spillov': 23, 'crea': 10, 'antiboticx': 1, 'truncat': 2, 'homogen': 34, 'dueoderm': 4, 'crate': 1, 'peq': 1, 'pipicilln': 1, 'dima': 1, 'practic': 9, 'shook': 7, 'straw': 62, 'oil': 11, 'nutrtion': 3, 'oxygent': 7, 'gastrograffin': 4, 'method': 14, 'fro': 23, 'armpit': 9, 'drgreena': 1, 'acromioclavicular': 8, 'humidifc': 2, 'swollow': 9, 'pathologist': 19, 'letherg': 1, 'hypertroph': 5, 'cu': 16, 'maintainc': 3, 'circumscrib': 12, 'kind': 9, 'flagal': 2, 'flaygl': 5, 'orangish': 1, 'domin': 9, 'hve': 1, 'comforat': 2, 'lac': 14, 'vertebra': 13, 'givn': 9, 'indetermin': 106, 'lacutlos': 1, 'duires': 4, 'primarili': 44, 'shell': 1, 'bougi': 3, 'thyroidectomi': 9, 'hymodynam': 1, 'langu': 1, 'dorsali': 34, 'pusl': 1, 'uncommon': 3, 'irregualr': 1, 'suffer': 19, 'likley': 15, 'biilater': 1, 'diffculti': 2, 'shaft': 10, 'tt': 12, 'spc': 1, 'sato': 9, 'accesori': 3, 'retriev': 10, 'thryoidectomi': 1, 'steadi': 51, 'collabor': 26, 'implement': 17, 'dinnertim': 2, \"'even\": 1, 'institut': 9, 'parastern': 13, 'gone': 34, 'cardizem': 12, 'breather': 9, 'presenlti': 1, 'pleasent': 2, 'protecton': 1, 'thrombi': 20, 'subcost': 14, 'chorda': 51, 'npc': 13, 'pep': 3, 'svn': 17, 'ccc': 61, 'hypopituitar': 1, 'sella': 3, 'girl': 5, 'coverg': 3, 'hypoventil': 20, 'hypernatermia': 1, 'valsartin': 1, 'overweight': 88, 'boy': 5, 'fena': 30, 'appropriatli': 11, 'reorder': 11, 'diiures': 1, 'hypercarb': 44, 'loudest': 6, 'callbel': 4, 'ddavp': 4, 'mghg': 1, 'microorgan': 27, 'adat': 20, 'eject': 34, 'atarax': 1, 'usb': 3, 'panhypopit': 1, 'desmopressin': 2, 'givenrsbi': 1, 'hyperbar': 1, 'diovan': 6, 'mcv': 11, 'young': 14, 'callout': 9, 'comm': 39, 'hypercapn': 9, 'bronchodiltor': 1, 'oh': 10, 'americar': 1, 'adn': 11, 'feurea': 10, 'valsartan': 6, 'disabl': 15, 'hypokalemia': 16, 'dysuria': 70, 'mandat': 14, 'asdir': 10, 'recordsac': 1, 'spread': 24, 'rusb': 6, 'pyelonephr': 8, 'grandchildren': 6, 'panhypopituitar': 1, 'firmer': 2, 'drifit': 1, 'tortuos': 24, 'saftey': 4, 'redict': 1, 'iorn': 1, 'decort': 23, 'bilt': 2, 'alph': 2, 'bascil': 1, 'tarri': 6, 'readili': 12, 'comprehend': 6, 'basilac': 2, 'epidur': 19, 'anticub': 3, 'sulfur': 1, 'lidoderm': 9, 'gamma': 3, 'nightmar': 1, 'cotinu': 4, 'scali': 2, 'parasagitt': 5, 'endoscopi': 20, 'fluctuant': 2, 'compleat': 2, 'daughet': 3, 'strictli': 7, 'nephrolithiasi': 25, 'esophogram': 2, 'hyotens': 3, 'dysmotil': 2, 'severli': 6, 'contratur': 1, 'bo': 18, 'yankuer': 14, 'periren': 4, 'reprons': 1, 'ingest': 16, 'autonim': 1, 'autonom': 9, 'hemispher': 18, 'capabl': 7, 'abraison': 1, 'acceler': 11, 'label': 13, 'uci': 1, 'radiopharmeceut': 1, 'transcript': 10, 'whil': 1, 'immediatli': 2, 'repetit': 8, 'repeatedli': 25, 'babi': 7, 'malleol': 1, 'complainingof': 1, 'radiolabel': 1, 'ri': 8, 'cerebro': 1, 'tracer': 9, 'nauseat': 5, 'aniticip': 1, 'colloid': 4, 'radlin': 10, 'lebil': 1, 'inleg': 1, 'undetect': 6, 'camera': 2, 'inquiri': 12, 'unconclus': 1, 'vacuo': 4, 'titir': 3, 'listen': 31, 'gell': 2, 'advis': 32, 'bilobar': 1, 'ssfp': 1, 'abut': 24, 'anterosept': 55, 'gadopentet': 1, 'methadon': 24, 'immunosupress': 6, 'horizont': 5, 'hyperdynam': 66, 'index': 28, 'chux': 2, 'mtx': 2, 'dynspnea': 1, 'dimeglumin': 1, 'ritalin': 7, 'compl': 3, 'immunosuppress': 17, 'ielostomi': 1, 'appropraietli': 1, 'pneumocyst': 2, 'gadolin': 4, 'caspofugin': 1, 'dtpa': 5, 'algorythm': 1, 'qp': 1, 'plane': 41, 'diaphragmat': 20, 'chrohn': 3, 'independantli': 4, 'rvef': 1, 'spectral': 19, 'obx': 1, 'echodens': 7, \"'chest\": 1, 'epicardi': 6, 'myocardium': 7, 'amplitud': 28, 'arrhymia': 1, 'customari': 1, 'cine': 2, 'fraction': 30, 'liquidi': 4, 'obstrn': 1, 'wheat': 2, 'crohn': 9, 'worsn': 2, 'phasic': 13, 'asymmetri': 18, 'axr': 3, 'breifli': 4, 'qflow': 1, 'porta': 9, 'pauciti': 10, 'quantit': 10, 'poplit': 71, 'mltp': 1, 'emboli': 34, 'similarli': 13, 'cmr': 1, 'atial': 1, 'corvac': 2, 'apprx': 2, 'skelet': 9, 'ej': 9, 'candi': 1, 'nscla': 1, 'lid': 5, 'fatug': 1, 'toung': 4, 'duoneb': 7, 'nonsmal': 6, 'lobectomi': 23, 'upgo': 1, 'jvd': 47, 'slur': 17, 'pontin': 5, 'insult': 20, 'althrough': 1, 'nsclc': 27, 'petellar': 1, 'rhinorrhea': 19, 'paroxetin': 7, 'palat': 41, 'propanolol': 2, 'droop': 20, 'nsclca': 7, 'catarac': 1, 'avascular': 6, 'metastasi': 31, 'concer': 2, 'swish': 7, 'anixeti': 1, 'bruit': 15, 'amiodoron': 11, 'thrombocytopenia': 29, 'fibrin': 4, 'nonsustain': 2, 'benzodiazepin': 13, 'hsm': 45, 'insight': 4, 'cord': 52, 'achil': 3, 'dexamethason': 15, 'mmd': 1, 'nslca': 1, 'ome': 18, 'hyperreflex': 1, 'rhabdo': 3, 'shave': 8, 'hypocalcemia': 6, 'pneumnia': 3, 'csru': 10, 'dysfxn': 4, 'anywher': 11, 'rhabdomyolysi': 3, 'unavail': 35, 'upward': 26, 'trunk': 34, 'retard': 8, 'secondard': 1, 'tum': 8, 'inflam': 9, 'essentailli': 1, 'deminer': 20, 'volumetr': 13, 'malfunt': 1, 'preoper': 5, 'inferiorli': 31, 'fatti': 29, 'raw': 12, 'interstici': 1, 'subpleur': 19, 'reccommend': 3, 'precep': 1, 'asbestosi': 5, 'amalgam': 2, 'eg': 17, 'deoxygen': 1, 'emobol': 1, 'adnexa': 18, 'uptak': 12, 'degener': 11, 'thoracu': 1, 'interrupt': 11, 'parotid': 10, 'polyp': 15, 'nkg': 2, 'desa': 2, 'penumonia': 8, 'dental': 12, 'subcorin': 1, 'obsturct': 1, 'skeleton': 12, 'metastas': 27, 'corin': 1, 'colic': 4, 'deal': 12, 'extext': 6, 'fifti': 1, 'adenoid': 3, 'tspine': 1, 'intervertebr': 9, 'feaml': 1, 'sho': 1, 'carcinoma': 47, 'gutter': 11, 'pussi': 1, 'eosiniophilia': 1, 'glucan': 21, 'obssess': 1, 'hum': 2, 'mexilitin': 1, 'wheel': 8, 'sereou': 1, 'geripsych': 1, 'patul': 4, 'ondansetron': 11, 'brace': 9, 'alevi': 1, 'participc': 1, 'nf': 6, 'serolog': 22, 'premed': 6, 'theophyllin': 3, 'galactommanan': 1, 'fexofenadin': 6, 'bursiti': 2, 'lollipop': 1, 'readm': 3, 'halodol': 7, 'anxirti': 2, 'parapleg': 6, 'fenatyl': 2, 'pseudoephedrin': 1, 'emuls': 1, 'ige': 3, 'tg': 6, 'viru': 16, 'femur': 19, 'esr': 10, 'amino': 3, 'hive': 31, 'preren': 34, 'apolog': 1, 'togeth': 16, 'wellbutrin': 4, 'syndro': 2, 'neurogen': 6, 'breez': 1, 'cmo': 24, 'uroqid': 1, 'tofu': 1, 'glute': 5, 'synephrin': 2, 'montelukast': 6, 'solutab': 1, 'medicat': 2, 'rough': 3, 'citrat': 11, 'buccal': 23, 'gbm': 5, 'mexiletin': 3, 'radiiograph': 1, 'antigbm': 1, 'starter': 2, 'ischial': 3, 'upep': 2, 'klonopin': 17, 'satt': 3, 'strike': 7, 'persu': 4, 'reguard': 6, 'spri': 3, 'refeed': 4, 'tib': 6, 'ppn': 6, 'cautious': 6, 'ipf': 18, 'pall': 4, 'homecar': 3, 'smell': 18, 'nutit': 2, 'abrupt': 9, 'stasi': 19, 'anca': 11, 'mepilex': 16, 'fowel': 2, 'adamantli': 3, 'threw': 3, 'prealbumin': 1, 'spoon': 14, 'trust': 6, 'mucuh': 1, 'crp': 8, 'relationship': 11, 'wrok': 1, 'tenuou': 40, 'opiat': 21, 'triad': 1, 'zinc': 5, 'wasa': 2, 'coagul': 15, 'naloxon': 1, 'paraplegia': 11, 'sampter': 1, 'samter': 1, 'myeliti': 1, 'parenter': 45, 'ancillari': 2, 'consern': 1, 'baclofen': 11, 'addt': 1, 'coagulopathi': 57, 'vacno': 4, 'iodin': 24, 'hallodol': 1, 'wc': 7, 'recordsaspirin': 1, 'spep': 3, 'cessat': 9, 'wellbutrim': 2, 'freak': 1, 'ishial': 1, 'cottonse': 1, 'mucinex': 16, 'lollypop': 2, 'panick': 2, 'socail': 10, 'willb': 2, 'cleasn': 2, 'dk': 13, 'sync': 2, 'god': 4, 'smile': 23, 'unti': 1, 'multilfoc': 1, \"o'\": 4, 'resent': 15, 'share': 47, 'quiac': 7, 'undetail': 1, 'gent': 12, 'trail': 14, 'possobl': 1, 'vec': 6, 'providencia': 2, 'cousin': 9, 'ball': 6, 'anim': 10, 'ovebreath': 1, 'wdw': 1, 'bacitracin': 10, 'reiniti': 7, 'electrolty': 1, 'slilghtli': 1, 'yelllow': 5, 'sedaton': 1, 'incorrect': 5, 'bridg': 25, 'prupos': 1, 'golf': 2, 'glut': 9, 'speaker': 11, 'pop': 8, 'pericar': 5, 'prom': 8, 'minist': 2, 'duccolax': 1, 'pulmonolog': 8, 'pca': 21, 'hh': 8, 'cotn': 4, 'signif': 18, 'acv': 12, 'objecti': 1, 'sse': 10, 'distrss': 1, 'pastey': 2, 'stump': 10, 'ileostomi': 9, 'splenectomi': 7, 'spill': 20, 'sang': 22, 'vallecular': 6, 'dophoff': 7, 'dh': 2, 'oxygn': 3, 'priviou': 1, 'colour': 5, 'coat': 15, 'rssi': 11, 'drg': 10, 'subtot': 9, 'ileotomi': 1, 'vascularight': 1, 'ordredd': 1, 'erupt': 4, 'scabi': 1, 'cline': 2, 'nacl': 5, 'coar': 6, 'integrum': 1, 'purlul': 2, 'smal': 3, 'iliostomi': 2, 'mastic': 23, 'sero': 14, 'applianc': 8, 'pyloro': 1, 'trnf': 2, 'duoden': 18, 'hemodynm': 6, 'jump': 5, 'strg': 1, 'integu': 6, 'filter': 39, 'secreathin': 1, 'ds': 15, \"sx'ng\": 4, 'colectomi': 19, 'dobhoff': 39, 'hab': 2, 'varapamil': 1, 'liason': 3, 'counter': 1, 'verapim': 1, 'gastic': 1, 'rosolv': 1, 'abrais': 3, 'inculin': 1, 'abruptli': 4, 'inabilti': 2, 'xperson': 1, 'isoptin': 1, \"'ll\": 7, 'afterword': 1, 'thristi': 2, 'asssess': 3, 'cvf': 1, 'underway': 6, 'luck': 1, 'productv': 1, 'yanker': 4, 'freewat': 1, 'peptamen': 6, 'cannuala': 1, 'facilti': 1, 'dyspnoic': 1, 'glove': 2, 'ident': 12, 'defict': 1, 'hyperact': 17, 'dyspnic': 10, 'ultrason': 2, 'temder': 1, 'ssic': 4, 'spivira': 1, 'verapamil': 6, 'singular': 1, 'ducos': 1, 'ringer': 1, 'recievi': 2, 'covers': 1, 'telfa': 4, 'replenish': 9, 'predormin': 1, 'wnc': 1, 'acapella': 8, 'rid': 3, 'bbb': 7, 'coved': 1, 'lispro': 3, 'grandchild': 1, 'ek': 1, 'tachypnec': 1, 'mini': 19, 'acetlycystein': 1, 'minitrach': 1, 'research': 1, 'perin': 22, 'slip': 9, 'dept': 8, 'passimuir': 1, 'immobil': 15, 'sete': 2, 'morbidli': 5, 'cked': 1, 'apt': 7, 'tracheostoma': 1, 'doboff': 8, 'dietari': 19, 'peramet': 1, 'creas': 3, 'oxa': 2, 'backsid': 8, 'damp': 8, 'cto': 1, 'chec': 1, 'soak': 17, 'freee': 1, 'flowbi': 3, 'rxd': 5, 'bibasilari': 3, 'antecubit': 12, 'crm': 2, 'redder': 2, 'peditub': 5, 'bronchospast': 21, 'harder': 7, 'gase': 23, 'calf': 65, 'proph': 4, 'sqeez': 2, 'stabe': 4, 'tare': 1, 'lowgrad': 4, 'peristalsi': 5, 'custard': 23, 'msra': 4, 'uncomfortt': 1, 'dht': 6, 'pediatr': 2, 'ada': 1, 'dombero': 1, 'appox': 2, 'suppport': 5, 'resepct': 1, 'requri': 2, 'intro': 4, 'reconfirm': 7, 'rubor': 2, 'pericolac': 1, 'chees': 7, 'tired': 3, 'ioocc': 1, 'tuck': 20, 'nonrot': 1, 'encoura': 1, 'crack': 23, 'hemodi': 7, 'reveiw': 6, 'quo': 2, 'drier': 2, 'humeru': 16, 'farther': 1, 'huo': 20, 'unchg': 6, 'specialist': 7, 'angiocath': 3, 'frree': 1, 'sleeper': 3, 'piclin': 1, 'hyper': 15, 'pegtub': 3, 'recx': 2, 'jello': 17, 'exceed': 5, 'strate': 1, 'macer': 3, 'domboro': 1, 'cellulti': 1, 'tracheostom': 1, 'suppot': 1, 'demon': 1, 'neighbor': 5, 'nonpurpos': 6, 'appil': 1, 'abrad': 2, \"'sm\": 1, 'centemet': 1, 'chged': 2, 'caas': 1, 'developmemt': 1, 'isordil': 13, 'brn': 5, 'celluluit': 1, 'ch': 10, 'advancint': 1, 'precuat': 5, 'oxacillin': 11, 'indur': 5, 'settinf': 1, 'pti': 2, 'stabk': 1, 'sta': 9, 'dced': 5, 'dombro': 1, 'linin': 2, 'reatless': 1, 'passemuir': 4, 'nj': 2, 'suspend': 4, 'dobhof': 2, 'folllow': 5, 'tonoct': 3, 'beginn': 1, 'conscious': 13, 'andresp': 1, 'dfddp': 10, 'bacterem': 3, 'inexsufl': 1, 'sinemet': 11, 'aquaphor': 6, 'medd': 1, 'tolal': 1, 'wiht': 12, 'asucult': 2, 'neurro': 1, 'repelt': 6, 'ocntact': 1, 'loudli': 8, 'cufflat': 1, 'estrang': 5, 'sing': 7, 'azithomycin': 2, 'schizoaffect': 9, 'irish': 1, 'soldier': 1, 'ceftazadin': 2, 'blind': 17, 'tune': 4, 'contractil': 28, 'tacyhcardia': 1, 'nativ': 9, 'incurr': 1, \"adl'\": 1, 'episdo': 1, 'sulfonamid': 26, 'ion': 8, 'tdi': 28, 'tamiflu': 32, 'augmentat': 1, 'underestim': 27, 'tamaflu': 2, 'quantifi': 17, 'superinfect': 16, 'acoust': 24, 'aicd': 17, 'recrudesc': 5, 'insiratori': 1, 'oseltamivir': 13, 'akinesi': 21, 'autoregul': 8, 'pitch': 6, 'leucocytosi': 4, 'agenc': 2, 'akinet': 12, 'pcwp': 42, 'superven': 33, 'neeed': 2, 'takatsubo': 1, 'dicloxacillin': 4, 'inferosept': 10, 'hemiblock': 7, 'salmeterol': 13, 'stitch': 14, 'coincid': 6, 'staphylococc': 1, 'antrov': 1, 'postoffic': 1, 'remnant': 11, 'sympathet': 3, 'overnigt': 2, 'sypathet': 1, 'sequenti': 7, 'mgr': 3, 'captur': 14, 'cpod': 1, 'hematochezia': 11, 'melena': 20, 'parent': 26, 'mluitpl': 1, 'nonprodut': 1, 'dfa': 44, 'endors': 13, 'sevelam': 11, 'nephropathi': 17, 'rosuvastatin': 4, 'receptor': 3, 'matern': 2, 'drk': 4, 'sneez': 2, 'qmwf': 3, 'cracker': 20, 'doxazosin': 2, 'antibodi': 14, 'dka': 8, 'hickman': 8, 'recvd': 6, 'ativen': 2, 'shcedul': 1, 'sparingli': 6, 'orthopnea': 58, 'ggo': 12, 'nephrocap': 10, 'spirometri': 44, 'minoxidil': 2, 'calcitriol': 5, 'timolol': 4, 'spefic': 1, 'ferrou': 18, 'nephrew': 1, 'allopurinol': 15, 'predison': 4, 'dorzolamid': 1, 'rheumatoid': 7, 'juvenil': 1, 'construct': 4, 'hyperliipidemia': 1, 'bd': 4, 'suicid': 51, \"ab'\": 3, 'epogen': 10, 'gastroenter': 5, 'paradox': 63, 'cw': 5, 'supraclavicular': 103, 'unwel': 2, 'epo': 7, 'diffiuclti': 2, 'tapazol': 1, 'errythemia': 1, 'noseble': 2, 'satisfactorili': 7, 'threshold': 48, 'suctiopn': 1, 'rhonchii': 3, 'clinda': 24, 'dot': 5, 'teniou': 3, 'exampl': 23, 'latharg': 2, 'bordelin': 1, 'oralphagheng': 1, 'antb': 4, 'bradycardiac': 2, 'assum': 26, 'cheek': 12, 'throughou': 2, 'resposnd': 1, 'bulk': 8, 'essentu': 1, 'respolar': 4, 'nysatin': 1, 'grreni': 1, 'nasopharg': 1, 'unrepons': 1, 'greenish': 20, 'comput': 15, 'bad': 22, 'traumat': 21, 'fight': 15, 'deliber': 5, 'thread': 9, 'hhn': 15, 'oputput': 1, 'neutrapho': 15, 'ofd': 1, 'kpho': 19, 'sbop': 1, 'laid': 11, 'suprapub': 15, 'louder': 4, 'differnt': 1, 'sclerosi': 23, 'antidepress': 5, 'uninfect': 1, 'thorocentesi': 5, 'echocardiogram': 29, 'subq': 21, 'overmed': 4, 'imdur': 10, 'tiotroprium': 1, 'ceftriax': 10, 'fibrot': 20, 'levoxyl': 2, 'fll': 1, 'intrial': 1, 'eas': 20, 'tiotropium': 13, 'medex': 1, 'biv': 1, 'parapneumon': 21, 'antihypotens': 1, 'tyelenol': 5, 'betablock': 7, 'grandaught': 5, 'scatt': 5, 'advic': 9, 'neutropen': 18, 'nutritionist': 3, 'spiroment': 1, 'fullstrength': 1, 'drunk': 2, 'acylovir': 2, 'promininc': 1, 'lactos': 3, 'tech': 13, 'witht': 1, 'lix': 7, 'posey': 9, 'dbe': 1, 'heamodynam': 1, 'seraquel': 7, 'abiltiy': 1, 'dobboff': 1, 'reiter': 6, 'usg': 12, 'acyclivir': 1, 'turgur': 1, 'jag': 3, 'toursad': 1, 'rpp': 2, 'rsc': 15, 'itat': 1, 'repsons': 4, 'defib': 3, 'ipmi': 1, 'lwr': 3, 'guess': 4, 'dynam': 24, 'isorbid': 5, 'senekot': 2, 'epstudi': 1, 'dynamap': 1, 'repsond': 2, 'diuiresi': 2, 'anieti': 2, 'nesiritid': 1, 'natrecor': 3, 'pb': 9, 'amiodron': 1, 'hot': 21, 'deeper': 7, 'nite': 12, 'defibril': 13, 'tympan': 6, 'inotropi': 2, 'sobo': 2, 'rla': 6, 'ci': 26, 'cdb': 52, 'oxi': 3, 'bppp': 4, 'nml': 10, 'oxicillin': 3, 'torsad': 2, 'core': 8, 'ceftrixon': 5, 'afraid': 13, 'insuffic': 2, 'nasopharynx': 10, 'cartoon': 1, 'nasoendotrach': 2, 'floroscopi': 1, 'peni': 12, 'overrid': 1, 'intrens': 1, 'flaggyl': 4, 'love': 8, 'cosyntropin': 2, 'plat': 16, 'nystantin': 2, 'seemingli': 9, 'bollu': 2, 'yankaur': 17, 'varifi': 2, 'scrotum': 19, 'presser': 5, 'culutr': 5, 'ronchoru': 3, 'pseudomoni': 4, 'noisi': 3, 'ambulatori': 11, 'steristrip': 6, 'coooper': 1, 'repalc': 1, '^^rr': 6, \"dc'd\": 3, 'boyfriend': 9, 'cephalid': 1, 'efect': 4, 'negaiv': 1, 'btb': 4, 'promo': 1, 'spe': 1, 'acetamenophen': 1, 'propophol': 2, 'seek': 19, 'pustul': 4, 'rplace': 1, 'sectret': 7, 'withp': 1, 'flunk': 1, 'toiley': 1, 'afternon': 1, 'boarderlin': 5, 'mascer': 3, 'stuff': 2, 'phelibit': 1, 'persistantli': 5, 'bibasalar': 4, 'caval': 10, 'probalac': 2, 'hydropneumothorax': 13, '^^drng': 1, 'acetamenoph': 1, 'excit': 10, 'fir': 2, 'sad': 8, 'decras': 2, '^^^secret': 1, 'secreton': 2, 'oohr': 1, 'psi': 11, 'axo': 4, 'piccc': 2, 'neeld': 1, 'tritrat': 1, 'superivis': 1, 'inqueri': 2, 'channel': 12, \"mod't\": 1, 'nursimg': 1, 'uprbc': 23, 'superiorli': 17, 'characterist': 6, 'elastoplast': 2, 'chnager': 1, 'vaselin': 5, 'govem': 1, 'pipercillin': 9, 'fibr': 2, 'grren': 2, 'repost': 7, 'rebound': 72, 'chronc': 1, 'ccrn': 2, 'hydraden': 1, 'uri': 14, 'microcyt': 5, 'nto': 2, 'metformin': 15, 'obs': 2, 'scx': 3, 'overhydr': 28, 'hidraden': 1, 'rosiglitazon': 2, 'hemodilut': 9, 'tameflu': 1, 'oseltamavir': 3, 'nephrotoxin': 21, 'maleat': 10, 'zocyn': 6, 'avandia': 2, 'seat': 74, 'cautiou': 12, 'careplan': 2, 'labia': 7, 'pndg': 16, 'ceft': 3, 'hemodyn': 10, 'alrm': 2, 'wheezey': 8, 'awoken': 9, 'belliger': 6, 'rhocher': 1, 'tray': 10, 'belong': 24, 'naprosyn': 1, 'stoke': 6, 'anaesthesia': 3, 'ultrum': 1, 'bellegeri': 1, 'giddi': 1, 'obj': 9, 'transf': 4, 'apporach': 1, 'initaietd': 1, 'prodcut': 1, 'fundtion': 1, 'stethoscop': 2, 'sponaten': 4, 'untoward': 4, 'nrsg': 2, 'workload': 4, 'armboard': 2, 'afebreil': 1, 'deviationta': 1, 'couplet': 12, 'dobutamin': 7, 'curiou': 2, 'pharmacolog': 4, 'triplet': 2, 'indomethacin': 2, 'photophobia': 4, 'photophob': 1, 'sporat': 2, 'fetal': 3, 'exsist': 1, 'peic': 1, 'bitempor': 3, 'extraaxi': 6, 'ibuprophen': 3, 'aslo': 3, 'unreliev': 2, 'nsvt': 16, 'supper': 9, 'suppo': 5, 'woth': 1, 'indecis': 2, 'fruit': 6, 'aoid': 1, 'kitchen': 12, 'spurt': 1, 'ilmprov': 1, 'deast': 1, 'spar': 1, 'quicker': 4, 'folow': 6, 'butter': 4, 'senecot': 2, 'clincal': 1, 'rhand': 1, 'evalaut': 7, 'peanut': 5, 'dime': 9, 'everyday': 7, 'bore': 16, 'sulfameth': 6, 'granola': 1, 'de': 37, 'bactrium': 2, 'duc': 1, 'tto': 3, 'electrod': 10, 'intrins': 33, 'antisialogogu': 8, 'molar': 2, 'assymetr': 3, 'disappear': 2, 'myomectomi': 1, 'blur': 15, 'flail': 5, 'surveil': 32, 'transvalvular': 9, 'apac': 3, 'bileaflet': 2, 'hocm': 1, 'intaop': 1, 'glycopyrrol': 12, 'interpreter': 1, 'mvr': 18, 'saphen': 7, 'crown': 2, 'antiphospholipid': 4, 'semiupright': 7, 'preop': 8, 'periap': 3, 'panorex': 4, 'paravalvular': 1, 'airleak': 9, 'cardioresp': 2, 'bandag': 14, 'inapprop': 2, 'dilaud': 3, 'torn': 5, 'writh': 3, 'spontanoeu': 1, 'olanzipin': 3, 'dramat': 29, 'undigest': 13, 'prophylacticlli': 1, 'kerlex': 8, 'doc': 1, 'rose': 17, 'cefatzadim': 1, 'cing': 7, \"'ve\": 4, 'distened': 3, 'equla': 1, 'wether': 2, 'disconnect': 15, 'broncial': 1, 'antitrypsin': 1, 'aralast': 1, 'risbi': 26, 'angiogram': 17, 'fossa': 27, 'haladol': 1, 'respit': 1, 'growl': 2, 'oximetri': 1, 'lieu': 4, 'cavitari': 19, 'geodan': 1, 'mgtid': 1, 'distract': 5, 'magnet': 15, 'pin': 8, 'theraft': 1, 'bisacoyl': 1, 'supris': 1, 'upsid': 2, 'reinutab': 1, 'ngtube': 2, 'mra': 18, 'dulc': 5, 'scaley': 1, 'snore': 5, 'accident': 13, 'unfocus': 1, 'department': 10, 'checklist': 5, 'news': 3, 'trypsin': 1, 'contd': 17, 'oj': 4, 'bled': 9, 'amitryptilin': 1, 'multilumen': 9, 'forth': 7, 'resapiratori': 1, 'alpha': 5, 'lactalos': 4, 'squirm': 4, 'flirt': 1, 'replt': 1, 'amitriptylin': 3, 'ivdu': 13, 'flame': 1, 'antialpha': 1, 'reden': 11, 'perpetu': 2, 'circul': 18, 'antipsycot': 2, 'ziprasidon': 1, 'impuls': 9, 'dissolv': 2, \"c'ing\": 7, 'perscib': 1, 'comit': 1, 'specifi': 11, 'humulog': 7, 'ceftazadim': 7, 'wea': 4, 'lias': 3, 'corner': 11, 'myconazol': 7, 'subl': 1, 'residula': 1, 'reduce': 1, 'maee': 5, 'hift': 2, 'grunt': 6, 'ahd': 4, 'spanish': 16, 'difficulr': 1, 'gpr': 9, 'drool': 4, \"d'cd\": 8, 'cmbivent': 1, 'secrat': 2, 'depent': 2, 'depressor': 1, 'staabl': 1, 'quadrapleg': 1, 'vegiat': 1, 'vegat': 1, 'coexsist': 1, 'acl': 13, 'mdght': 2, 'extremitit': 3, 'multidisiciplinari': 2, 'multilocul': 6, 'judgement': 4, 'forti': 2, 'thoracotomi': 18, 'hole': 20, 'intercost': 12, 'semierect': 3, 'waters': 14, 'cogh': 2, 'socila': 1, 'decresa': 1, 'overnihght': 1, 'lihgt': 1, 'rivert': 1, 'lelev': 1, 'presnt': 3, 'calibr': 8, 'inclu': 1, 'exactli': 7, 'acth': 1, \"epi'\": 1, 'clergi': 16, 'spnal': 1, 'dream': 5, 'tyesterday': 1, 'rehir': 1, 'pect': 1, 'tizanidin': 3, 'financ': 1, 'overtli': 4, 'ce': 64, 'nortriptylin': 4, 'glad': 2, 'subutan': 10, 'bact': 8, 'rent': 4, 'vesicular': 4, 'debat': 3, 'silhouet': 14, 'org': 4, 'ambient': 7, 'repelet': 2, 'vesiculo': 1, 'paralysi': 24, 'intertrochanter': 4, 'flare': 46, 'fq': 4, 'lifelin': 2, 'licsw': 20, 'broaden': 35, 'hisotri': 1, 'adhes': 22, 'omr': 61, 'thorcaic': 1, 'cephalosporin': 10, 'ventimask': 11, 'pnoon': 1, 'fllet': 1, 'flosheet': 1, 'chocol': 5, 'rapidli': 39, 'vasovag': 3, 'syncop': 16, 'citalopram': 18, 'anger': 6, 'untreat': 8, 'deterior': 43, 'vulner': 1, 'hyalin': 2, 'genit': 2, 'memantin': 4, 'lengthi': 13, 'heaprin': 4, 'death': 14, 'giv': 1, 'appropr': 1, 'hotnsiv': 3, 'unrealist': 2, 'serious': 4, 'drive': 32, 'osteoporosi': 26, 'donezipil': 1, 'donepezil': 11, 'rythym': 8, 'scopalamin': 6, 'fulfil': 2, 'llsb': 7, 'idioventricular': 3, 'charact': 5, 'concur': 4, 'analgesia': 8, 'facemask': 23, 'discont': 3, 'tachypneac': 2, 'equilibrium': 1, 'uptitr': 18, 'instabl': 39, 'clinician': 43, 'hemodynim': 12, 'busi': 8, 'subj': 3, 'advoc': 5, 'immin': 2, 'fxn': 30, 'lij': 19, 'afterload': 21, 'dirti': 16, 'discu': 5, 'daugther': 4, 'likelihood': 22, 'hj': 1, 'neutopho': 1, 'spite': 10, 'oropharyngela': 1, 'chng': 3, 'bye': 1, 'pci': 13, 'nitropast': 9, 'thromu': 1, 'diurisei': 1, 'rabbi': 8, 'changedto': 1, 'hemodyanm': 2, 'aphasia': 18, 'gib': 35, 'dietician': 4, 'abcess': 22, 'demor': 2, 'wenesday': 2, 'gon': 1, 'restrart': 1, 'rebump': 1, 'coreg': 8, 'tvi': 5, 'awir': 1, 'defecit': 6, 'lima': 3, 'om': 18, 'faintli': 1, 'antero': 1, 'inadvert': 5, 'fentanyli': 1, 'mvo': 3, 'orderd': 9, 'gastroduoden': 3, 'retal': 1, 'prop': 25, 'serousangin': 4, 'stidor': 1, 'traponin': 1, 'greed': 1, 'resed': 3, 'persis': 3, 'precuaut': 1, 'cardiogen': 36, 'consistenli': 4, 'comtin': 1, 'mentali': 1, 'effust': 1, 'absorbs': 1, 'swr': 1, 'creatin': 7, 'dra': 12, 'bradypn': 1, 'veloc': 33, 'postbypass': 1, 'biphas': 7, 'indenpedantli': 1, 'ballon': 9, 'barrium': 1, 'signift': 1, 'sttol': 1, 'lwsxn': 2, 'posibl': 7, 'prebypass': 2, 'nippl': 5, 'thorecentesi': 2, 'aspriat': 5, 'crepiti': 3, 'pulmari': 1, 'shiever': 1, 'pnu': 1, 'thermodilut': 3, 'sov': 1, 'wel': 3, 'sunction': 3, 'pedial': 6, 'milrinon': 5, 'epinephrin': 14, 'culprit': 7, 'cco': 4, 'enquier': 2, 'frang': 1, 'yellowbrown': 1, 'antiobiot': 12, 'origen': 2, 'alkalemia': 13, 'ucg': 2, 'jp': 12, 'sshumulog': 2, 'carvedilol': 14, 'rewrap': 1, 'inotrop': 2, 'redicat': 1, 'booboo': 1, 'restaint': 4, 'diag': 10, 'corti': 2, 'vr': 10, 'effuss': 7, 'plerur': 1, 'thermodil': 1, 'progre': 1, 'flinch': 2, 'defervesc': 11, 'caglucon': 1, 'cellsav': 1, 'vg': 1, 'pplat': 8, 'ez': 4, 'milr': 2, 'recognis': 2, 'hiccough': 1, 'capto': 1, 'diffficult': 1, 'cagluc': 2, 'stble': 1, 'angioplasti': 12, 'diaphores': 1, 'stepdown': 7, 'unattend': 2, 'nhp': 1, 'testic': 1, 'beliger': 3, 'raet': 1, 'thickyellowish': 1, 'cardiopulm': 9, 'mch': 2, 'demisish': 1, 'awean': 1, 'tnsf': 5, 'fick': 8, 'stit': 1, 'reamin': 6, 'milironon': 1, 'subtheraput': 2, 'sbg': 1, 'imi': 2, 'billeou': 1, 'bollus': 2, 'noreepi': 1, 'wap': 5, 'mant': 1, 'remmind': 1, 'tof': 8, 'fentenyl': 4, 'epsiod': 3, 'inth': 7, 'bs^': 1, 'receic': 2, 'ond': 1, 'pervent': 2, 'norepi': 6, 'aucult': 3, 'purpl': 17, 'yankuar': 3, 'nuerolog': 2, \"dt'\": 1, 'beer': 4, 'kerley': 6, 'pneumomia': 2, 'healthey': 1, 'chosen': 13, 'secondri': 1, 'diltazem': 1, 'riesman': 3, 'addenidum': 1, 'pleuracentesi': 1, 'otc': 3, 'diltizem': 6, 'nigth': 3, 'dilatiazem': 1, 'deropenem': 1, 'ferment': 1, 'tvr': 1, 'guafenesi': 1, 'maxilla': 4, 'fluoroquinolon': 6, 'qualifi': 7, 'spironolacton': 7, 'pertusi': 2, 'mucolyt': 2, 'parox': 1, 'hyperparathyroid': 5, 'fot': 2, 'moh': 1, 'doripenem': 2, 'pulmonologist': 11, 'bronchiectesi': 3, 'ipatropium': 4, 'behav': 2, 'dorbipenem': 1, 'chad': 11, 'psa': 8, 'nsaid': 13, 'pertussi': 2, 'surpris': 9, 'pnysic': 1, 'nicotin': 18, 'cooki': 12, 'ultsnd': 2, 'eccymosi': 7, 'recomend': 7, 'previo': 3, 'psycosi': 1, 'aggressiv': 1, 'occulud': 1, 'ecymosi': 1, 'upperairway': 3, 'multilevel': 42, 'xopenex': 15, 'whennam': 1, 'hest': 1, 'cdc': 2, 'vancomyc': 1, 'blast': 5, 'yougart': 1, 'psychosi': 9, 'epulmonari': 1, 'que': 1, 'aeratin': 1, 'spicul': 9, 'sediat': 1, 'prescenc': 1, 'drank': 11, 'emb': 1, 'diffuculti': 3, 'inepend': 1, 'mitt': 9, 'atelactasi': 3, 'pneumococcu': 4, 'slecp': 1, 'vaccin': 55, 'esoph': 6, 'urol': 1, 'esophagectomi': 5, 'radiotherapi': 5, 'failurelik': 1, 'bandemia': 29, 'diazepam': 12, 'paramediastin': 10, 'hypothyrod': 1, 'pneumocysti': 18, 'amlodipin': 24, 'abdominu': 2, 'cocain': 14, 'symptomat': 27, 'chemotherapi': 30, 'chemoradi': 6, 'worth': 6, 'hypertensioncurr': 1, 'wegen': 6, 'span': 13, 'durabl': 4, 'laparotomi': 8, 'kayexyl': 2, 'esophagogastrostomi': 1, 'rectu': 9, 'crescent': 2, 'valuim': 2, 'pneurmonia': 2, 'shuvel': 1, 'gall': 13, 'brachytherapi': 3, 'hepatopulmonari': 1, 'ccr': 4, 'melanoptosi': 1, 'hemoptysi': 33, '`': 13, 'aw': 1, 'hurrican': 2, 'coalesc': 6, 'teaspoon': 6, 'gastrosotmi': 2, 'nari': 8, 'perf': 9, 'videofluoroscopi': 29, \"po'\": 2, 'dfdkq': 10, 'milki': 2, 'lrge': 6, 'hypointens': 8, 'sussept': 1, 'ure': 6, 'fk': 4, 'effevt': 1, 'sequenc': 20, 'expecor': 1, 'repsir': 1, 'inphas': 1, 'tesla': 9, 'lucid': 11, 'substani': 2, 'olecranon': 1, 'imbal': 4, 'coarsen': 10, 'leftsid': 1, 'pug': 2, 'corticomedullari': 4, 'venipuctur': 1, 'ceftax': 4, 'hyperchol': 2, 'uni': 8, 'sludgi': 2, 'hypercholesteremia': 2, 'nocardia': 3, 'imp': 5, 'manner': 12, 'procardia': 5, 'ersd': 2, 'nocardiosi': 1, 'exquisit': 1, 'imipenuim': 1, 'vibe': 1, 'hast': 1, 'sough': 1, 'chlorothiasid': 1, 'efficaci': 6, 'anyway': 6, 'chowder': 1, 'sxting': 2, 'negatiov': 1, 'duiril': 1, 'energi': 8, 'amyloid': 4, 'yogurt': 3, 'remenisc': 1, 'wafer': 1, 'chlorothiazid': 3, 'metamucil': 2, 'brighten': 1, 'engag': 20, 'bowl': 5, 'daytim': 46, 'dayshift': 5, 'probabali': 1, 'bkft': 1, 'uninterest': 2, 'avb': 11, 'pool': 12, 'enoucrag': 1, 'cereal': 5, 'biscodyl': 5, 'frig': 1, 'initait': 1, 'sug': 4, 'howver': 1, 'bother': 11, 'coumdadin': 1, 'nitroglycerin': 15, 'eproxi': 1, 'car': 13, 'marcan': 1, 'detox': 5, 'piriform': 20, 'sacroiliac': 5, 'vestibul': 6, 'propuls': 16, 'sizeabl': 4, 'facet': 13, 'fac': 1, 'minlabor': 1, 'tongiht': 3, 'elbo': 1, 'thrill': 9, 'aciti': 1, 'prorgess': 1, 'disfunct': 1, 'highflow': 1, 'regiman': 3, 'priest': 3, 'flattu': 1, 'toiler': 1, 'metolazon': 5, 'lyy': 1, 'gentli': 27, 'extrmiti': 1, 'infilatr': 2, 'enag': 1, 'cellcept': 4, 'venogram': 11, 'hyperdens': 24, 'urem': 4, 'hemostasi': 13, 'carpal': 6, 'pulsatil': 2, 'alternan': 3, 'renagel': 4, 'huddl': 21, 'intraorbit': 1, 'enya': 18, 'percocoet': 1, 'rsr': 20, 'dilit': 10, 'orbit': 16, 'anastomosi': 9, 'squeak': 6, 'pruriti': 2, 'hyperphsophatemia': 1, 'translum': 1, 'likelihoood': 1, 'xii': 14, 'arterioven': 1, 'overdu': 1, 'hydroxizin': 1, 'fistulagram': 1, 'scalp': 6, 'ckd': 39, 'wenckebach': 3, 'stenos': 4, 'warrant': 32, 'vii': 4, 'noncompli': 11, 'tall': 4, 'intracellular': 1, 'inattent': 2, 'skip': 3, 'fistulogram': 2, 'injector': 1, 'ld': 9, 'driven': 3, 'contriubut': 1, 'contra': 6, 'flesh': 2, 'tendenc': 10, 'handrail': 1, 'jude': 1, 'remeb': 1, 'azithroymcin': 1, 'ai': 6, 'immunolog': 44, 'unread': 2, 'unconcern': 2, 'rmg': 1, 'svv': 1, 'chb': 3, 'trand': 1, 'ketaconazol': 1, 'atov': 1, 'immunocompromis': 56, 'jejuni': 1, 'florrid': 1, 'transven': 26, 'col': 4, 'downtrend': 11, 'hemodyanam': 2, 'avelox': 1, 'vigileo': 3, 'unrev': 25, 'wrr': 1, 'webtag': 9, 'bioprosthesi': 5, 'ucltx': 1, 'fluild': 1, 'lupron': 5, 'underwhelm': 4, 'haptoglobin': 8, 'legionel': 3, 'javascript': 9, 'floridli': 1, 'sensitivt': 1, 'hapto': 5, 'lmore': 1, 'slighlt': 1, 'tcdb': 14, 'classic': 7, 'gb': 9, 'hflu': 3, 'contr': 1, 'loperamid': 2, 'error': 29, 'noro': 1, 'sclara': 1, 'breathless': 6, 'cefpodoxim': 8, 'split': 51, 'rhale': 3, 'neurophysiolog': 2, 'turp': 8, 'diruesi': 6, 'group': 20, 'cltx': 1, 'hemolysi': 25, 'laryngospasm': 1, 'acheiev': 1, 'cepodoxim': 1, 'popup': 9, 'pah': 5, 'yetread': 1, 'coler': 2, 'persisit': 1, 'concomin': 1, 'conjuntiv': 1, 'laugh': 7, 'interpretor': 5, 'occult': 22, 'maintan': 8, 'rxn': 11, 'interstitium': 3, 'absolut': 4, 'assign': 13, 'vacomycin': 3, 'uppper': 5, 'temo': 1, 'indepemnd': 1, 'tachpnea': 3, 'aaspir': 1, 'movemont': 1, 'probali': 1, 'circumst': 11, 'ceftz': 2, 'contus': 4, 'oa': 10, 'cetaz': 1, 'rune': 1, 'degrener': 1, 'oca': 5, 'wordk': 1, 'taler': 2, 'brachiel': 1, 'atro': 20, 'diverticuli': 4, 'exal': 1, 'blaot': 1, 'navig': 2, 'pkt': 9, 'sched': 8, 'intraservic': 11, 'proteu': 8, 'pararen': 1, 'gastrojejun': 7, 'immunosuppres': 6, '^bun': 1, 'weap': 7, '^abd': 1, 'ambian': 2, 'miniscul': 3, 'unclot': 2, 'reject': 11, 'dismotil': 2, 'idiopath': 10, 'vevel': 1, 'adb': 2, 'petroleum': 1, 'sml': 19, 'insuff': 4, '^k': 1, 'amalyas': 1, 'anckl': 1, 'lgt': 1, 'kmcd': 2, 'absorpt': 10, 'hemolyz': 10, 'salmon': 1, 'fascia': 3, 'foll': 2, 'crepit': 2, 'bolt': 9, 'primairli': 1, 'grad': 3, 'inguni': 1, 'aricept': 7, 'studio': 1, 'dyspenia': 1, 'elecv': 1, 'scrape': 1, 'creatnin': 6, 'sabath': 1, 'lbm': 11, 'lighter': 6, 'kosher': 3, 'lotrisom': 1, 'yank': 1, 'epiglotti': 5, 'kkgc': 17, 'azyg': 8, 'hilu': 14, 'bulbou': 1, 'immeadi': 1, 'redraw': 10, 'kerlix': 4, 'noght': 1, '^vt': 1, 'cage': 9, 'sternum': 11, '^from': 1, 'arpund': 1, 'bidh': 1, 'pen': 10, 'aml': 14, 'osteophyt': 21, 'nondiagnost': 10, 'reloc': 3, 'surguri': 2, 'eccymot': 18, 'angiomyolipoma': 3, 'afluttt': 1, 'copper': 4, 'aaa': 14, 'azithromicyn': 1, 'suck': 4, 'lingual': 21, 'soln': 20, 'fluent': 36, 'tsp': 31, 'annuloplasti': 6, 'labial': 27, 'neurologist': 5, 'pramipexol': 1, 'runni': 2, 'wb': 4, 'cane': 9, 'mirapex': 4, 'batteri': 6, 'disk': 7, 'presedex': 2, 'mango': 1, 'laparoscop': 4, 'sup': 16, 'vasectomi': 1, 'flavor': 1, 'meningioma': 2, 'answr': 1, 'tamsar': 1, 'bronchoalveolar': 9, 'desta': 1, 'leukocyt': 20, 'inceas': 3, 'respirartori': 3, 'pneumona': 5, 'rsv': 13, 'ntd': 6, 'protien': 1, 'mmcosgroveannuloplasti': 1, 'neurosurgeon': 4, 'polymorphonuclear': 13, 'drown': 3, 'anitibiot': 2, 'cutur': 3, 'ctga': 1, 'albeit': 5, 'yesterrday': 1, 'rspiratori': 2, 'dysmetria': 1, 'foi': 27, 'crestor': 3, 'intellig': 7, 'disintegr': 11, 'extuabt': 9, 'tachypnia': 4, 'spt': 9, 'hoars': 17, 'ltach': 9, 'marri': 21, 'rbbi': 1, 'beig': 3, 'ih': 22, 'kyphot': 11, 'resdient': 4, 'compensatori': 9, 'ili': 4, 'ettub': 1, 'choos': 9, 'protrud': 23, 'precedex': 7, 'precidex': 3, 'formulari': 5, 'glucagon': 7, 'azithromyin': 3, 'perist': 6, 'cfu': 7, 'censu': 2, 'tolcapon': 1, 'herniat': 11, 'acetylcystein': 4, 'bul': 11, 'multilobular': 5, 'inhibit': 2, 'nasotrachi': 6, 'antianieti': 1, 'kyphosi': 20, 'incisor': 6, 'restain': 2, 'conf': 3, 'mitten': 2, 'consentr': 1, 'countour': 1, 'halway': 1, 'slit': 1, 'skizophrenia': 1, 'mough': 1, 'smeari': 1, 'incoher': 4, 'emtion': 3, 'nuetrin': 1, 'vebal': 1, 'scoot': 1, 'pg': 6, 'extremti': 6, 'killian': 1, 'dischag': 2, 'conceiv': 5, 'nector': 3, 'consistencei': 1, 'rotatori': 2, 'dsoft': 1, 'nponproduct': 1, 'clossur': 1, 'dextroscoliosi': 8, 'modif': 8, 'thoracolumbar': 18, 'palsi': 7, 'scoliosi': 30, 'web': 5, 'rous': 7, 'valpraot': 1, 'poe': 16, 'distor': 1, 'antiseizur': 2, 'wanst': 1, 'fixat': 15, 'comdom': 2, 'meningoenceph': 2, 'bio': 3, 'enou': 1, 'tensilon': 1, 'encompass': 3, 'hyponatrem': 10, 'peipher': 1, 'lobul': 8, 'thyoma': 1, 'diplopia': 2, 'tarceva': 1, 'cantones': 7, 'synthet': 3, 'rescucit': 4, 'listeria': 2, 'osmol': 3, 'usclip': 5, 'producvt': 1, 'thymoma': 2, 'beam': 6, 'dairi': 3, 'ampillin': 1, 'cavo': 7, 'hyperbilirubinemia': 4, 'subcapsular': 3, 'cholestat': 3, 'wsclip': 3, 'bulki': 12, 'reisman': 2, 'workstat': 4, 'plasmapheresi': 1, 'paclitaxel': 1, 'polydipsia': 2, 'hyposmol': 6, 'alimta': 1, 'hemmoroid': 1, 'billiari': 2, 'cytoxan': 5, 'icter': 8, 'secert': 1, 'carboplatin': 4, 'unpasteur': 1, 'subtract': 5, 'hemeroid': 1, 'subdiaphragmat': 67, 'topleura': 1, 'beeen': 1, 'myasthenia': 1, 'cardiorespiratori': 3, 'cisplatin': 3, 'plasma': 2, 'manifest': 17, 'adriamycin': 1, 'host': 6, 'ove': 2, 'paracentesi': 10, 'xeloda': 1, 'anecho': 4, 'jxkc': 6, 'adh': 3, 'taxol': 3, 'atend': 1, 'suppress': 20, 'doxil': 1, 'neoadjuv': 1, 'purula': 1, 'tage': 1, 'isc': 1, 'wkness': 1, 'sttled': 1, 'folvent': 1, 'copiuo': 5, 'respon': 4, 'dobbhoff': 31, 'hr^^': 5, 'technetium': 1, 'brwn': 8, 'diminsish': 1, 'hematopoet': 1, 'revealedd': 1, 'apparatu': 3, 'exel': 2, 'mvment': 1, 'hemodynimc': 1, 'ultra': 4, 'nse': 1, 'craer': 1, 'diamox': 20, 'functioningand': 1, 'blding': 1, 'reactss': 1, 'ligh': 2, 'latex': 9, 'thorughout': 2, 'hepatomegali': 7, 'psx': 2, 'floos': 1, 'pplan': 2, 'ascess': 1, 'ftw': 1, 'postsurg': 6, 'sulf': 3, 'subsid': 21, 'pneumotx': 1, 'agrress': 2, 'sestamibi': 1, 'mechaniclli': 3, 'py': 4, 'spasm': 19, 'vertebroplasti': 5, 'labul': 1, 'pseuodomona': 1, 'constraint': 2, 'mtn': 1, 'elevati': 1, 'cca': 9, 'abort': 10, 'nauseaou': 2, 'wbc^': 2, 'dyapherit': 1, 'vevn': 1, 'iso': 5, 'drian': 4, 'billari': 1, 'valsalva': 16, 'foul': 21, 'acsecss': 1, 'respo': 1, 'mit': 4, 'fidn': 1, 'moderatr': 2, \"huo'\": 1, 'eca': 5, 'stoool': 3, 'bdline': 2, 'tyelnol': 4, 'snt': 5, 'spcific': 1, 'antbx': 13, 'disconect': 1, 'enorm': 2, 'hemodym': 3, 'roxicet': 6, 'amoutn': 4, 'brth': 1, 'aqit': 1, 'cautar': 1, 'lf': 6, 'legnth': 2, 'tachypin': 1, 'ydrianiang': 1, 'perfor': 21, 'comfot': 1, 'asmt': 1, 'intermittenli': 2, 'secrett': 2, 'precarin': 19, 'amout': 7, 'eosphil': 1, 'sinustach': 1, 'reticul': 6, 'ctscan': 3, 'viist': 1, \"related'\": 1, 'pronglon': 1, 'dwn': 1, 'suctionin': 3, 'especailli': 1, 'ilestomi': 1, 'occus': 1, 'unresolv': 3, '^rr': 6, 'coontrol': 1, 'divert': 3, 'tag': 3, 'moniotr': 6, 'diverticular': 2, 'aphon': 4, 'prophylax': 1, 'dimin': 6, 'expand': 33, 'tia': 20, 'bacteroid': 2, 'broncho': 6, 'oid': 1, 'nec': 3, 'drainabl': 9, 'arma': 1, 'voltga': 1, 'tachynea': 2, 'judici': 7, 'bss': 2, 'meta': 15, 'ceftazidin': 3, 'sesha': 6, 'tem': 2, 'seech': 2, 'subchondr': 7, 'settng': 2, 'pseudonorm': 5, 'grid': 3, 'pullm': 1, 'colonoscopi': 18, 'stapl': 18, 'text': 7, 'sfv': 2, 'diverticula': 17, 'sychron': 1, 'osteopenia': 18, 'hysterectomi': 8, 'airflow': 4, 'subcutaen': 1, 'atrioventricular': 2, 'levofloxicin': 9, 'arthropathi': 5, 'encouragingli': 3, 'odd': 11, 'startedon': 3, 'egd': 29, 'infuenza': 1, 'flowhseet': 1, 'distinctli': 2, 'cranial': 7, 'simvastain': 1, 'evidenc': 22, 'parasept': 9, 'intermitenli': 2, 'situ': 21, 'pulmn': 2, 'recom': 2, 'tami': 1, 'videoswallow': 7, 'intracavitari': 1, 'cnii': 3, 'occurr': 2, 'percordi': 1, 'ward': 2, 'ran': 6, 'euvolemia': 7, 'pector': 11, 'distalmost': 2, 'concurr': 31, 'distess': 3, 'slice': 42, 'vw': 10, 'infx': 2, 'hasnt': 1, 'subotim': 1, 'tmrw': 5, 'greatest': 22, 'upgrad': 10, 'zydi': 7, 'zyti': 1, 'pneumotho': 1, 'rhonchou': 2, 'nissen': 1, 'adequet': 2, 'mainstem': 10, 'cutoff': 1, 'apec': 2, 'atv': 4, 'safest': 6, 'descent': 2, 'pulmonal': 4, 'diaures': 2, 'mdag': 15, 'prilosec': 14, 'andevid': 1, 'ventral': 11, 'mesh': 6, 'vacuum': 5, 'cfv': 1, 'subarachnoid': 7, 'dysarthria': 5, 'frontopariet': 3, 'injur': 3, 'sah': 5, 'cong': 1, 'bulbar': 1, 'sylvian': 4, 'presid': 6, 'separ': 27, 'nonfunct': 1, 'periarea': 4, 'yogert': 2, 'rnd': 1, 'retreat': 1, 'restraind': 2, 'perirash': 1, 'extyra': 1, 'feegingh': 1, 'pivx': 9, 'evidens': 1, 'guiaiac': 1, 'corridor': 1, 'rpc': 2, 'purplish': 3, 'miconozol': 2, 'etco': 4, 'fidgeti': 4, 'pimpl': 1, 'underarm': 2, 'skew': 1, 'mnd': 2, 'hasmi': 1, 'nonform': 2, 'edemet': 3, 'bolum': 1, 'htcz': 1, 'osteopen': 6, 'gmpo': 1, 'abber': 1, 'decreasd': 1, 'consolit': 1, 'ivpb': 9, 'jumbl': 1, 'wilth': 1, 'hadol': 2, 'perihepat': 13, 'afew': 1, 'adr': 3, 'overnit': 8, 'strang': 4, 'giggl': 1, 'fentlyl': 1, 'asbout': 1, 'attem': 1, 'mpr': 1, 'str': 17, 'obay': 1, 'ssuction': 2, 'hepati': 2, 'lite': 2, 'legionalla': 5, 'iffus': 1, 'deaf': 7, 'ordr': 4, 'bilaterali': 7, 'patern': 2, 'azm': 1, 'malleabl': 1, 'lback': 1, 'diminsih': 5, 'llu': 1, 'reasssurr': 1, 'reti': 1, 'summer': 5, 'respns': 1, 'anxious': 4, 'bsd': 8, 'washout': 8, 'blackish': 2, 'pesseri': 1, 'fdsg': 1, 'xop': 1, 'evala': 1, 'sift': 2, 'abefril': 1, 'partic': 1, 'potentia': 1, 'flap': 6, 'screw': 7, 'repostit': 1, 'tolaer': 1, 'costyntropin': 1, 'ccx': 3, 'postit': 4, 'effexor': 3, 'lent': 2, 'biggest': 2, 'muscular': 15, 'monr': 2, 'eczema': 1, 'peerl': 7, 'qi': 2, 'ooa': 1, 'hhe': 1, 'rmeian': 1, 'garrul': 1, 'mycostantin': 2, 'colistin': 5, 'append': 6, 'clorazepam': 1, 'xoponex': 5, 'colostrin': 1, 'refocu': 1, 'medastin': 1, 'albuter': 9, 'humor': 6, 'totaol': 1, 'mdsi': 1, 'wnd': 3, 'ruddi': 2, \"svn'\": 1, 'insuffi': 3, 'dehisc': 7, 'magneisum': 1, 'urgenc': 13, 'recommed': 3, 'cappilari': 1, 'meatey': 1, 'tlcc': 1, 'mereponuem': 1, 'awaqr': 1, 'electrocardiogram': 1, 'parit': 2, 'parapelv': 6, 'dnrg': 1, 'meropeum': 1, 'mutipl': 7, 'fame': 1, 'dghtr': 1, 'afeberil': 1, 'viabl': 2, 'techiniqu': 1, 'earili': 1, 'ccof': 1, 'tfeed': 7, 'gluteu': 2, 'amm': 1, 'mustard': 1, 'survail': 6, 'circut': 1, 'daay': 1, \"jp'sx\": 1, 'specfic': 2, 'goos': 1, 'oject': 1, 'orietn': 1, 'wtihout': 1, 'kayexalt': 1, 'extremli': 3, 'feburari': 1, 'benzodiazepen': 1, 'elix': 3, 'prvide': 1, 'zeroform': 1, 'invl': 1, 'omn': 1, 'exr': 1, 'mulitpl': 10, 'neur': 2, 'diifus': 1, 'fentyn': 8, 'laxilla': 1, 'symmetri': 1, 'epigastrium': 8, 'movment': 8, 'etern': 1, 'addenda': 1, 'sennokot': 1, 'angeogram': 1, 'erethemat': 1, 'upcom': 4, 'incorper': 1, 'agig': 2, 'fnetanyl': 1, 'appopri': 2, 'adaqu': 3, 'admittedli': 4, 'yellaw': 1, 'jpx': 2, 'ivm': 1, 'magneisium': 1, \"ue'\": 1, 'startd': 1, 'tubefeed': 9, \"mdi'\": 1, 'envelop': 3, 'respitori': 5, 'micub': 4, 'convey': 13, 'depict': 8, 'faccid': 1, 'inteq': 1, 'anitbiot': 5, 'reoirent': 1, 'pinken': 1, 'foeli': 1, 'minin': 1, 'lain': 1, 'guiaic': 16, 'aggres': 9, 'suxn': 4, 'mainatin': 2, \"'ye\": 2, 'aniou': 1, 'lastnight': 2, 'costochondr': 2, 'rectangular': 1, 'servicv': 1, 'tint': 2, 'awaint': 2, 'solubl': 3, 'insens': 21, 'en': 9, 'metizol': 1, 'dislik': 3, 'rhonchial': 1, 'roux': 4, 'placen': 1, 'sixth': 4, \"de'sat\": 1, 'raspi': 5, 'intentd': 1, 'enterectomi': 1, 'suctio': 1, 'devot': 2, 'thicket': 2, 'vista': 4, 'objecet': 1, 'gien': 1, 'auscleat': 1, 'vancxomycin': 1, 'linzolid': 1, 'regiem': 3, 'levofloxin': 6, 'relativli': 1, 'tanish': 5, 'lizinolid': 1, 'wamr': 1, 'antbiot': 4, 'enquir': 2, 'haerd': 1, 'wrsit': 1, 'explin': 3, 'cathart': 1, 'coas': 2, 'frc': 1, 'vasoilin': 1, 'lungfield': 2, 'cardin': 1, 'survalli': 1, 'neglig': 3, 'preper': 4, 'tfdg': 1, 'perineu': 1, 'anaemia': 1, 'ceftamin': 1, 'podi': 2, 'progess': 4, 'hick': 2, 'cushion': 6, 'ceftadim': 1, 'anal': 13, 'episdod': 1, \"'star\": 1, 'adq': 9, 'orientd': 2, 'sucret': 1, 'sonc': 1, 'roho': 1, 'adenosin': 5, 'intug': 1, 'vagina': 2, 'softsorb': 7, 'race': 3, 'jmh': 2, 'gyn': 3, 'immun': 9, 'ceftam': 1, 'inclus': 4, 'ser': 1, \"'broke\": 1, 'sct': 7, 'ampogel': 1, 'parathyroid': 1, 'phosporu': 1, 'throb': 4, 'summeri': 2, 'renegel': 1, 'adenoma': 15, 'uc': 14, 'soup': 10, 'elipt': 1, 'azithromax': 6, 'datail': 1, 'shaki': 7, 'reso': 2, 'cervicothorac': 2, 'difficuti': 2, 'thorascop': 2, 'pneumatocel': 8, 'xxl': 1, 'ellipt': 3, 'oout': 1, 'repaet': 2, 'lert': 1, 'septa': 2, 'cutan': 5, 'anzimet': 3, 'crepetu': 1, 'strnum': 1, 'blebectomi': 1, 'subcut': 6, 'spb': 6, 'pleurodesi': 7, 'infilto': 1, 'crapetu': 1, \"a'lin\": 1, 'pneumodiastinum': 1, 'oer': 2, 'oppurtunist': 1, 'infilpleas': 1, 'csl': 4, 'retrospect': 8, 'allowa': 1, 'aprrox': 2, 'bariatr': 3, 'doxycyclin': 7, 'dizz': 1, 'cxri': 1, 'flet': 2, 'doxi': 5, 'sanguni': 1, 'miliari': 1, 'spiromt': 1, 'bronchopleur': 4, 'micronodul': 2, 'micronodular': 3, 'bien': 1, 'tnf': 1, 'cystostomi': 1, 'extravascularli': 2, 'cowork': 4, 'catrh': 1, 'intravasculari': 1, 'anasarc': 6, 'cystotomi': 1, 'whereabout': 1, 'exutb': 1, 'ecoli': 7, 'intraaxi': 2, 'aspirs': 1, 'revisit': 7, 'sati': 3, 'riker': 1, 'unobtain': 4, 'decison': 1, 'mabp': 1, 'frown': 1, 'erythem': 4, 'prayer': 3, 'esmolol': 10, 'infiiltr': 1, 'catm': 2, 'comatos': 1, 'jaw': 24, 'liber': 14, 'prev': 28, 'pea': 11, 'whooz': 1, 'secreet': 1, 'acx': 3, 'cathol': 2, 'verif': 5, 'aztreonam': 18, 'aticoagul': 1, 'sond': 1, 'cataton': 1, 'hemorroid': 1, 'uncompens': 2, 'vagin': 11, 'overgrowth': 3, 'nonreact': 3, 'bib': 2, 'escar': 2, 'jelfoam': 1, 'doll': 1, 'pulseless': 7, 'cardiova': 2, 'unfold': 12, 'purpilish': 1, 'sabp': 3, 'afterloud': 1, 'psychomimet': 3, 'fist': 3, 'flaki': 5, 'smade': 1, 'pon': 11, 'recondit': 1, 'unsrespons': 1, 'corneal': 6, 'dysconjug': 1, 'built': 1, 'montor': 4, 'irriagt': 1, 'mciu': 1, 'bug': 7, 'sutr': 1, 'debri': 16, 'mucosi': 1, 'rum': 1, 'dump': 3, 'remaint': 1, 'cystectomi': 3, 'propabl': 1, 'prostatectomi': 4, 'agiti': 3, 'meyloma': 1, 'conduit': 1, 'mucuo': 1, 'gaze': 9, 'densest': 2, 'meax': 1, 'venodynn': 1, 'bialter': 3, 'norvasc': 13, 'mlij': 1, 'linen': 9, 'radic': 5, 'begant': 1, 'sedement': 5, 'disconjug': 2, 'ppsv': 1, 'placedraing': 1, 'myeloma': 5, 'diaphorect': 2, 'pulmo': 3, 'lacer': 13, 'petechia': 3, 'resdiual': 1, 'crawl': 4, 'withdarw': 1, 'influ': 1, 'creation': 3, 'ileal': 6, 'adequt': 2, 'attmept': 5, 'prostetectomi': 1, 'signifc': 5, 'mornign': 2, 'aroumd': 1, '\\x13': 2, 'diali': 2, 'marijuana': 3, 'neobladd': 1, 'subtherapuet': 1, 'frequ': 3, 'russian': 20, 'intubatd': 2, 'contralater': 9, 'bronchomalagia': 1, 'wf': 2, 'paperi': 1, 'shorten': 7, 'lght': 1, 'untx': 1, 'parametersthi': 1, 'frail': 19, 'pri': 2, 'tko': 4, 'recrut': 1, 'malg': 1, 'gastrocult': 2, 'reaccumul': 18, 'apper': 6, 'dd': 4, 'pericardiocentesi': 4, 'convinc': 15, 'pericardiac': 2, 'wider': 3, 'moreov': 3, 'opa': 1, 'constrict': 13, 'seventh': 12, 'paraspin': 11, 'prestern': 1, 'fosamax': 4, 'psvt': 4, 'extravascular': 1, 'lnco': 10, 'regurgitaton': 1, 'pla': 2, 'tracheo': 6, 'alvaolar': 1, 'underpenetr': 8, 'prssure': 1, 'npnn': 1, 'prodctiv': 1, 'delta': 5, 'sect': 1, 'elimin': 10, 'epitympan': 1, 'underdevelop': 1, 'medulla': 2, 'adminst': 3, 'ine': 3, 'rebreah': 1, 'fob': 1, 'lingular': 28, 'haem': 1, 'serousi': 1, 'hfn': 3, 'vemtilatori': 1, '^wbc': 3, 'yankar': 4, 'illeoconduit': 1, 'colostolmi': 1, 'dgt': 6, 'dramaticali': 1, 'zyperia': 1, 'concommit': 1, 'slightlti': 1, 'yellowi': 3, 'whch': 1, 'nauseau': 3, 'optimist': 5, 'forgot': 1, 'ileoconduit': 1, 'drainot': 1, 'preform': 6, 'element': 46, 'ileo': 2, 'cant': 5, 'actiivti': 1, 'depth': 6, 'urostomi': 3, 'flowheet': 1, 'scapular': 4, 'carrier': 2, 'apear': 5, 'oatmeal': 6, 'paussey': 1, 'scapula': 13, 'doson': 1, 'conlosomi': 1, 'sysol': 1, 'intouch': 1, 'kaexal': 1, 'nerv': 15, 'cheer': 2, 'intermediu': 11, 'dirrahea': 1, 'prognossi': 1, 'pneumonai': 1, 'frome': 1, 'pulmologist': 1, 'sugereon': 1, 'explor': 6, 'eright': 1, 'miropenum': 1, 'potasium': 1, 'friabl': 3, 'ivig': 11, 'stopper': 1, 'puriti': 2, 'cephalasporin': 1, 'crossreact': 2, 'ivg': 1, 'nhl': 5, 'bmt': 10, 'amul': 1, 'allo': 2, 'pbec': 6, 'enterococc': 7, 'oxza': 11, 'cervicomedullari': 1, 'dbp': 4, 'tangl': 1, '^b': 1, 'intto': 1, '^^dbp': 1, 'simplest': 2, 'overdos': 14, 'childlik': 1, 'bead': 3, 'width': 11, 'wimper': 1, 'thera': 1, 'medici': 1, 'pjc': 2, 'duti': 1, 'execut': 1, 'reslov': 2, 'grabe': 1, 'theravest': 1, 'sooner': 5, 'repositon': 3, 'lisinpril': 2, 'acepella': 2, 'reass': 5, 'accapela': 1, 'osteomylitit': 1, 'arouas': 1, 'exce': 3, 'secretio': 4, 'overextend': 1, 'regiment': 15, 'sel': 2, 'creatanin': 2, 'orichectomi': 1, 'ocasion': 1, 'normoxia': 4, 'pnc': 1, 'reddn': 1, 'heartedli': 1, 'infra': 5, 'perp': 4, 'granulomatu': 1, 'dimins': 1, 'unequ': 6, 'child': 3, 'caretak': 9, 'atempt': 4, 'yhe': 2, 'ofemal': 1, 'prsent': 2, 'dypsnea': 5, 'reqir': 2, 'inconten': 1, 'infultr': 1, 'es': 2, \"rx'ed\": 1, 'frank': 41, 'ronchioru': 1, 'serav': 1, 'volecula': 1, 'zelnorm': 1, 'stenot': 6, 'coarctat': 19, 'triscupid': 1, 'emt': 7, 'phtn': 11, 'renov': 2, 'propionibacterium': 1, 'vertigo': 4, 'ddimer': 4, 'methylypredison': 1, 'kl': 1, 'il': 4, 'preset': 2, 'recordsno': 6, 'corynebacterium': 2, 'iwth': 4, 'nivm': 1, 'pred': 23, 'hyperpigment': 4, 'bleeder': 1, 'vasoconstrict': 1, 'vq': 5, 'suppelement': 1, 'radium': 1, 'mangement': 4, 'precipitatnt': 1, 'diphtheroid': 1, 'pasp': 6, 'estblish': 2, 'tomorow': 2, 'hiflo': 2, 'woodi': 2, 'formerli': 5, 'linger': 4, 'herpain': 1, 'ontinu': 2, 'ampi': 1, 'bigemni': 2, 'aztroneum': 1, 'mmgh': 1, 'appaer': 1, 'hemiarthroplasti': 6, 'gingerli': 1, 'du': 3, 'wheex': 1, 'agait': 2, 'hosptial': 4, 'jg': 2, 'appart': 2, 'zaroxyln': 3, 'pv': 8, 'respelar': 1, 'wcc': 3, 'bibasilarli': 4, 'dwi': 2, 'vanginosi': 1, 'eccomot': 1, 'stoll': 3, 'fiscal': 1, 'montipodi': 1, 'oedematu': 1, 'sheepskin': 1, 'localis': 1, 'overnightm': 1, 'mew': 2, 'zaroxolyn': 2, 'cerebellar': 10, 'respalar': 2, 'maintin': 2, 'occipt': 2, 'pyret': 1, 'contorl': 2, 'responc': 8, 'intraparenchym': 9, 'posteri': 1, 'capsul': 18, 'hydralzin': 4, 'breakdoown': 1, 'aztronam': 1, 'aka': 5, 'dysrhythmia': 10, 'dinitr': 4, 'montioedu': 1, 'prosthes': 3, 'ordin': 1, 'led': 13, 'ozz': 1, 'cpc': 1, 'purposeful': 1, 'hue': 2, 'clammi': 12, 'positv': 1, 'discov': 9, 'hydralizn': 1, 'rectosigmoid': 6, 'yesturday': 4, 'mcqx': 1, 'bein': 1, 'zaroxlyn': 2, 'aqaucel': 1, 'ivfb': 4, 'seep': 1, 'fluconasol': 1, 'zarolyn': 1, 'heprin': 6, 'sours': 2, 'vasolin': 4, 'collector': 1, 'kinder': 1, 'sleev': 9, 'givenk': 1, 'survel': 3, 'formal': 32, 'aquir': 13, 'inconsitantli': 2, 'ldp': 1, 'weakish': 1, 'pericol': 2, 'lbo': 1, 'crt': 5, 'metalazon': 1, 'mononitr': 5, 'aggre': 1, 'resplor': 1, 'defi': 1, 'shorter': 17, 'llarm': 2, 'toadi': 2, 'sulcal': 6, 'mediacl': 1, 'positon': 2, 'mmeq': 1, 'offens': 1, 'agon': 3, 'coccyxx': 1, 'infilt': 2, 'mulitpodu': 1, 'specimin': 2, 'appropraitley': 1, 'sooth': 2, 'aztreoneum': 1, 'trasnfer': 1, 'harden': 6, 'crrect': 1, 'pyrexia': 44, 'grion': 1, 'olansapin': 1, 'oxycondon': 2, 'cytotox': 2, '^p': 3, 'gerner': 1, 'hydralalzin': 1, 'mininm': 1, 'reschdul': 1, 'nxt': 1, 'fsqid': 1, 'gantri': 1, 'grn': 2, 'airclean': 1, 'jt': 5, 'acuiti': 7, 'palption': 1, 'perforati': 1, 'feacal': 1, 'sata': 3, 'incon': 2, 'weean': 1, 'transud': 13, 'pressr': 2, 'bodili': 3, 'hlthi': 1, 'elevi': 1, 'noncommun': 5, 'ocg': 1, 'contast': 1, 'paracol': 8, 'cocyx': 4, 'apperar': 1, 'fentali': 2, 'atheromat': 3, 'foreatrm': 1, 'vaginosi': 2, 'uncomf': 1, 'satisfcatori': 1, 'trachmask': 2, 'tilt': 8, 'loadli': 1, 'committe': 1, 'antx': 1, 'hyperperfus': 1, 'wieght': 1, 'necess': 5, 'vnetil': 1, 'aircel': 1, 'ureter': 9, 'septat': 8, 'vicin': 2, 'nitinol': 7, 'dependantli': 1, 'redund': 8, 'jkpe': 5, 'gwp': 10, 'abandon': 3, 'natg': 4, 'calculu': 9, 'pullback': 2, 'join': 3, 'anspir': 1, 'gastrografin': 5, 'rhonchour': 6, 'sweati': 2, 'sincer': 1, 'intraretroperiton': 1, 'serosangi': 2, 'afflutt': 1, 'irragt': 1, 'tachyn': 3, 'flagli': 4, 'sutent': 2, 'periost': 3, 'paraaort': 8, 'iliac': 41, 'burden': 10, 'restag': 1, 'toast': 5, 'crest': 2, 'subtrochanter': 1, 'rcc': 7, 'mycobacteri': 3, 'metstat': 1, 'acetabulum': 8, 'levoflaoxacin': 1, 'zolpidem': 7, 'pallor': 24, 'wd': 14, 'ah': 7, 'ursodiol': 4, 'bedrest': 13, 'oxal': 2, 'hydrochlorothiazid': 7, 'meanwhil': 4, 'varoc': 1, 'escitalopram': 2, 'vagal': 9, 'nadolol': 3, 'choleycsytectomi': 1, 'grandaugth': 1, 'coax': 1, 'wthdrawal': 1, 'avm': 5, 'wn': 4, 'reble': 2, 'somehat': 2, 'intermmitantli': 1, 'ventric': 3, 'tachypenia': 1, 'gc': 3, 'pedicl': 7, 'flr': 2, 'oppos': 8, 'imfect': 1, 'whereupon': 1, 'seixur': 1, 'travatan': 1, 'caucasian': 5, 'pern': 1, 'pertain': 3, 'ictal': 3, 'magic': 2, 'frankli': 5, 'ergocalciferol': 1, 'dysflexia': 1, 'omega': 2, 'tegretol': 4, 'ulcuer': 1, 'carbamezapin': 1, \"desat'd\": 1, 'pseudamona': 2, 'jxrl': 14, 'transter': 1, 'parapsilosi': 2, 'clonic': 6, 'quadriplegia': 5, 'hyponateremia': 1, 'antiepilept': 2, 'professor': 1, 'lomotrigen': 1, 'carbetolol': 1, 'brimonidin': 2, 'strernal': 1, 'teacher': 2, 'maker': 5, 'delir': 10, 'antizeizur': 1, 'spring': 1, 'nystagmu': 3, 'bacolfen': 1, 'pneumionia': 1, 'poisitv': 1, 'wander': 6, 'automon': 1, 'tonic': 6, 'centrum': 6, 'taut': 2, 'kit': 8, 'aeruginosa': 5, 'enulos': 1, 'opposit': 2, 'pseudomon': 13, 'dysreflexia': 1, 'oxybutynin': 5, 'sarcast': 1, 'subclin': 3, 'minatin': 1, 'moon': 1, 'cardiogram': 1, 'initiali': 4, 'spark': 2, 'intrathec': 3, 'siezur': 8, 'twave': 5, 'quadraplegia': 4, 'unwit': 5, 'tibial': 42, 'bullet': 1, 'lgr': 7, 'glycerin': 1, 'kaexyl': 2, 'colono': 1, 'illus': 1, 'recreat': 4, 'epilepsi': 3, 'poop': 1, 'funguria': 1, 'mutlipl': 2, 'readdmit': 1, 'tbw': 3, 'cxwc': 11, 'esteras': 3, 'deafferent': 1, 'engin': 4, 'semest': 1, 'faci': 1, 'fish': 6, 'alphagan': 1, 'punc': 1, 'nsurg': 3, 'anu': 4, 'hemov': 1, 'ilater': 1, 'comofrt': 1, 'anterio': 2, 'equina': 6, 'trendelenburg': 1, 'prductiv': 1, 'fectal': 2, 'videotap': 1, 'dependec': 1, 'withl': 1, 'dural': 5, 'dislpay': 1, 'drove': 2, 'crept': 1, 'tlso': 1, 'bizarr': 2, 'breaktrough': 1, 'extradur': 2, 'stylet': 7, 'endplat': 17, 'piccl': 1, 'recit': 2, 'anbx': 21, 'cusp': 1, 'ivkcl': 1, 'aldacton': 6, 'dermatolog': 6, 'phlegmon': 2, 'thoracoabdomin': 3, 'psoa': 6, 'cariothorac': 1, 'ise': 1, 'cauda': 6, 'thecal': 4, 'thorsic': 1, 'disciti': 4, 'optimis': 1, 'undersid': 3, 'loculat': 1, 'hematom': 1, 'stopp': 2, 'loww': 1, 'coears': 1, 'callu': 5, 'toradol': 6, 'stri': 1, 'infrahepat': 1, 'transmit': 11, 'theet': 1, 'easlli': 1, 'ninth': 4, 'herp': 15, 'crepid': 1, 'fordeti': 1, 'intraop': 6, 'fade': 5, 'duloxetin': 6, 'lter': 2, 'urinalysi': 10, 'diuress': 4, 'canal': 21, 'determi': 1, 'malalign': 5, 'withsmal': 1, 'revalu': 6, 'unil': 1, 'avaiabl': 1, 'instrument': 13, 'limet': 1, \"sat'\": 5, 'pdst': 1, 'bactroban': 3, 'hemovac': 4, 'ketamin': 1, 'execept': 1, 'guag': 8, 'maiami': 1, 'hydrouret': 10, 'steri': 3, 'iliacu': 3, 'vertic': 12, 'plethora': 4, 'citi': 3, 'stoo': 2, 'abc': 3, 'monotor': 2, 'oal': 1, 'vnetilatori': 1, 'aat': 2, 'retropharyng': 3, 'applejuic': 1, 'pu': 11, 'schmorl': 4, 'mad': 2, 'aam': 2, 'gemini': 1, 'thirti': 4, 'diagnsi': 1, 'prepocedur': 1, 'fascilit': 1, 'bloodier': 1, 'psychoact': 4, 'hypospadiu': 1, 'csft': 1, 'extrins': 5, 'unfett': 1, 'propag': 1, 'hxof': 2, 'successful': 1, 'analges': 7, \"sxn'ed\": 3, 'kideni': 1, 'sarcoma': 1, 'corticobas': 1, 'consol': 5, 'peroxid': 3, 'screener': 6, 'trahc': 3, 'themselv': 2, 'inde': 6, 'lengthli': 2, 'lscl': 1, \"parkinsons'\": 1, 'hounsfield': 8, 'anasarcoid': 4, 'hopeful': 2, 'occluss': 1, 'biotic': 1, 'concent': 1, 'diurisis': 1, 'arris': 1, 'applli': 1, 'uosh': 1, 'alquez': 1, 'throughoutth': 1, 'sangin': 1, 'adress': 2, 'seru': 1, 'nostril': 12, 'hemothorax': 8, 'giacc': 1, 'faulti': 1, 'linezalid': 1, 'preocedur': 1, 'sanguan': 1, 'inferomedi': 2, 'errythema': 1, 'faecium': 1, 'fube': 1, 'sanguein': 1, 'clearn': 1, 'venographi': 3, 'trrend': 1, 'elestoplast': 1, 'cortico': 1, 'unblock': 2, 'abmul': 1, 'pod': 15, 'inrr': 1, 'rigth': 3, 'evacu': 15, 'bloodcx': 1, 'susequ': 2, 'femer': 3, 'surgicel': 2, 'dfdgf': 1, 'pvsv': 1, 'moisten': 3, 'necesit': 2, 'approxam': 1, 'precedur': 1, 'goiter': 6, 'surgifoam': 1, 'cheat': 1, 'stich': 2, 'erthemat': 2, 'sangeou': 1, 'thorocotomi': 2, 'granulomat': 9, 'thrach': 2, 'thoras': 6, 'assciat': 1, 'hydrogen': 2, 'receivi': 2, 'anasarka': 1, 'linezilid': 1, 'ride': 6, 'instal': 5, \"mvm't\": 2, 'thrombolyt': 1, 'hesit': 10, 'costodiaphragmat': 1, 'condtiion': 1, 'increment': 6, 'caught': 4, 'alkaloti': 1, 'upperlob': 2, 'aftr': 1, 'souc': 2, 'gluconst': 1, 'comfortabley': 2, 'mbp': 1, 'grimis': 1, 'stimualt': 2, 'pleuravac': 2, 'viscera': 7, 'sangun': 1, 'rp': 14, 'rra': 1, 'apa': 2, 'kaposi': 1, 'dow': 3, 'paracetamol': 1, 'intrapleur': 3, 'parkison': 1, 'toss': 4, 'thorocoscopi': 1, 'honor': 1, 'pos': 2, 'dimnish': 1, 'cone': 2, 'findibg': 1, 'advnc': 1, 'proc': 4, 'innomin': 6, 'cogniz': 1, 'impercept': 1, 'sofsorb': 2, 'varicos': 3, 'hyoptn': 1, 'intox': 7, 'gastroesophag': 29, 'ruptur': 18, 'caff': 2, 'basex': 6, 'lemonad': 2, 'whitmil': 6, 'sink': 1, 'fluoxetin': 4, 'spegr': 1, 'spirat': 2, 'sytem': 3, 'rqeaction': 1, 'cxrshow': 1, 'probnp': 5, 'clearish': 1, 'unalt': 4, 'pown': 1, 'butalbit': 2, 'bj': 2, 'cytotec': 1, 'pulsu': 6, 'abstienc': 1, 'poli': 26, 'costrophren': 1, 'breast': 38, 'disku': 6, 'td': 12, 'synopsi': 5, 'amphet': 1, 'bso': 2, 'compli': 7, 'barb': 3, 'warn': 3, 'sentanc': 3, 'leter': 1, 'handihal': 1, 'dextroamphetamin': 1, 'acet': 9, 'arthralgia': 10, 'nervosa': 2, 'fibromyalgia': 3, 'weigh': 7, 'ctropnt': 2, 'anorexia': 10, 'fioricet': 1, 'ptch': 6, 'unsaf': 13, 'tackynp': 1, 'reman': 3, 'boderlin': 4, 'psychiatrist': 10, 'ptsd': 7, 'folic': 13, 'acetonid': 1, 'hc': 6, 'ht': 11, 'treand': 2, 'hemmorhoid': 2, 'preferenti': 1, 'phych': 1, 'proair': 2, 'propoxyphen': 4, 'ket': 5, 'notdon': 4, 'tah': 5, 'mthdne': 1, 'bpd': 1, 'nco': 6, 'ibw': 10, 'triamcinolon': 3, 'sublingu': 5, 'ndnt': 6, 'dlco': 2, 'perphenazin': 1, 'naproxen': 2, 'evista': 1, 'cigarett': 11, 'slawwolow': 1, 'lumpectomi': 7, 'withourt': 1, 'sulfasalazin': 3, 'briefi': 1, 'lump': 4, 'unisyn': 1, 'nitr': 6, 'acetmnphn': 3, 'antipyret': 6, 'tibc': 8, 'urobil': 3, 'introduct': 3, 'raloxifen': 1, 'reguir': 2, 'hfa': 3, 'gastroenterolog': 4, 'aton': 1, 'adam': 4, 'amphetamin': 1, 'agonist': 3, 'sillihett': 1, 'pft': 21, 'pericardia': 2, 'conform': 3, 'ipa': 1, 'imipress': 1, 'misoprost': 1, 'ref': 6, 'tranferrin': 1, 'gastriti': 17, 'scaphoid': 3, 'misoprostol': 1, 'agap': 9, 'tahbso': 1, 'intensitif': 1, 'congenit': 19, 'secundum': 6, 'sniff': 8, 'jbre': 9, 'atrio': 5, 'pleur': 1, 'leftclip': 1, 'valgu': 1, 'resembl': 2, 'mortis': 3, 'mtp': 1, 'congruent': 4, 'styloid': 1, 'talu': 3, 'hallux': 1, 'thoracoscopi': 4, 'phalang': 3, 'calcan': 1, 'phalanx': 4, 'tuberculosi': 7, 'cmc': 2, 'underexposur': 1, 'undiagnos': 6, 'tubercul': 2, 'resuct': 1, 'formatio': 1, 'splenul': 10, 'ultrsonograph': 1, 'bullou': 8, 'nct': 1, 'exub': 6, 'wheen': 1, 'pils': 1, 'pleuro': 1, 'quicki': 1, 'osmolit': 2, 'hematolog': 20, 'coccidiomycosi': 2, 'roadtrip': 1, 'dwell': 5, 'ation': 1, 'tracheomegali': 1, 'dicuss': 1, \"lft'\": 5, 'servi': 1, 'regist': 5, 'erron': 3, 'inaffect': 1, 'hre': 1, 'sternocleidomastoid': 3, 'armi': 1, 'neub': 2, 'apetit': 11, 'reamain': 1, 'levofloxcin': 3, 'ichi': 1, 'snooz': 2, 'trandfer': 1, 'wih': 2, 'heartrat': 1, 'bsp': 2, 'wcommand': 1, 'follo': 2, 'sternaum': 1, 'adult': 10, 'ventolin': 4, 'catc': 1, 'zorviax': 1, 'onleft': 1, 'ey': 2, 'blisteri': 1, 'zesteril': 1, 'ansthesia': 1, 'intermittingli': 2, 'activeti': 1, 'overngiht': 4, 'dression': 1, 'truck': 2, 'tensiv': 2, 'dermotolog': 1, 'zoooster': 1, 'sersang': 2, 'tenati': 1, 'chet': 1, 'sbradi': 1, 'scrotal': 16, 'extremitli': 1, 'aloevista': 1, 'incison': 1, 'sxnd': 4, 'consistli': 1, 'tachynep': 1, 'vericilla': 1, 'svg': 4, 'lcw': 4, 'incontinencr': 1, 'euqal': 1, 'nooon': 1, 'immmedi': 1, 'multpl': 3, 'dilatin': 3, 'everywher': 1, 'salvag': 2, 'eccymoisi': 1, 'clotti': 1, 'epicard': 2, 'randomli': 3, 'draian': 2, 'ssx': 1, 'consistanli': 1, 'reavtiv': 1, 'pruiti': 1, 'asper': 3, 'sponteous': 1, 'amal': 2, 'cheang': 1, 'zoster': 13, 'spound': 1, 'pearll': 1, 'suppoert': 1, 'raplac': 1, 'commnad': 4, 'serosan': 1, 'wriiten': 1, 'ligi': 1, 'zooster': 1, 'insu': 1, 'vip': 3, 'waiv': 1, 'whiel': 1, 'perepher': 1, 'optmiz': 1, 'meripenem': 3, 'merpanem': 1, '\\x13transfer': 1, 'anitcoagul': 1, 'leukemia': 7, 'srackl': 1, 'copazin': 2, 'luekemia': 1, 'continuo': 3, 'exaust': 1, 'hereconfirm': 1, 'interig': 1, 'hyperecho': 8, 'soluabl': 1, 'axil': 3, 'supersorb': 1, 'clotrimazol': 6, 'evalua': 3, 'ccm': 1, 'clotimazol': 1, 'fenestr': 6, 'ureteropelv': 1, 'anitbx': 2, 'furthermor': 8, 'peripelv': 1, 'scout': 16, 'urothelium': 1, 'wipe': 8, 'apppli': 2, 'foreign': 13, 'laryngectomi': 2, 'blooy': 1, 'ucerin': 1, 'anticubit': 4, 'amorph': 3, 'swallo': 2, 'crusti': 4, 'recomm': 2, 'pseudoaneurysm': 7, 'tracheoinnomin': 1, 'parapharyng': 1, 'submandibular': 5, 'adjunct': 3, 'regual': 1, 'vad': 2, 'rap': 10, 'remaain': 1, 'prograf': 3, 'keton': 9, 'ntp': 6, 'effu': 6, 'enyzm': 1, 'recurrenti': 1, 'slightk': 1, 'succes': 4, 'autoduiresi': 1, 'mjoriti': 1, 'treponin': 1, 'greeen': 1, 'jwk': 4, 'minimi': 2, 'errl': 1, 'exbub': 1, 'puppet': 1, 'qaudrant': 1, 'nephro': 2, 'psup': 3, 'eyedrop': 2, 'positivli': 2, 'delus': 2, 'neurotin': 1, 'gbeen': 1, 'fire': 8, 'metaprolol': 4, 'doorway': 2, 'aful': 1, 'allerigi': 1, \"^'ng\": 1, 'pregress': 1, 'hpp': 1, 'noew': 1, 'box': 7, 'diagnsot': 1, 'diavan': 1, 'tripll': 1, 'flucanazol': 1, 'blacj': 1, 'combivir': 3, 'swill': 1, 'miseri': 1, 'knock': 4, 'betadin': 3, 'funni': 2, 'monthli': 6, 'lozeng': 3, 'ambein': 1, 'cepacol': 2, 'tessalon': 9, 'dmi': 3, 'filtrat': 2, 'inquier': 4, 'materail': 1, 'undertaken': 2, 'nown': 1, 'voluntari': 1, 'interf': 1, 'unsupervis': 2, 'cyclosporin': 3, 'sinnis': 1, 'quinton': 3, 'enviro': 3, 'gurgl': 10, 'ultrafiltr': 6, 'labatalol': 2, 'comun': 3, 'seconari': 1, 'vl': 18, 'nephrologist': 4, 'novea': 1, 'dializ': 1, 'prefe': 1, 'activrti': 1, 'avtiv': 1, 'cefrtiaxon': 1, 'dispneaic': 1, 'aoox': 7, 'tilet': 1, 'albulterol': 1, 'ampicillan': 1, 'leionella': 1, 'overwhelm': 9, 'infitr': 5, 'tinea': 1, 'nightli': 5, 'recordsbelladonna': 1, 'swoll': 1, 'thromboctopenia': 1, 'fbca': 4, 'mesalamin': 2, 'ibd': 2, 'ldn': 6, 'electron': 9, 'mepliex': 1, 'warmth': 7, 'belladonna': 1, 'gleed': 1, 'poh': 1, 'prophylact': 20, 'microb': 2, 'alkaloid': 1, 'acd': 6, 'app': 5, 'generak': 1, 'ciproflox': 1, 'bi': 6, 'nonbroken': 1, 'valerian': 1, 'recentlli': 1, 'ivmeropenum': 1, 'siunc': 1, 'brca': 2, 'nppv': 6, 'ngiht': 4, 'nonocclus': 9, \"'thumb\": 1, 'prohylaxi': 1, 'hytrin': 1, 'sole': 6, 'apppear': 3, 'hyperv': 1, 'vist': 2, 'likewis': 1, 'phi': 4, 'bcaus': 1, 'rslt': 1, 'extract': 9, 'thorocentisi': 1, 'xygri': 2, 'spiromoeteri': 1, 'thoracentisi': 2, 'legioniella': 1, 'cardiophren': 8, 'arter': 1, 'niddm': 8, 'bracelet': 6, 'glucaphag': 1, 'curs': 2, 'reintroduc': 4, 'repletd': 1, 'mutilobar': 1, 'lye': 1, 'ststu': 1, 'labour': 2, 'evetu': 1, 'bigemeni': 2, 'floro': 1, 'aurgument': 1, 'upperarm': 1, 'accustom': 1, 'amalys': 1, 'phlebotomi': 15, 'detemin': 1, 'delirum': 1, 'presen': 1, 'physio': 2, \"tom'row\": 3, 'contrari': 1, 'interstit': 4, 'un': 8, 'funtion': 3, 'nasagmu': 1, 'nasointestin': 9, '^restless': 1, 'paralys': 6, 'brreath': 1, 'espec': 2, 'canot': 1, 'lipomat': 4, 'trens': 1, 'dubhoff': 6, 'inconclus': 5, '^doe': 1, 'meropanem': 1, 'tether': 6, 'powerpicc': 4, 'umbil': 12, 'intrabd': 2, 'pneumostat': 3, 'angular': 1, 'withstood': 1, 'lltc': 12, 'transfix': 2, 'ceph': 2, 'simethcon': 1, 'vew': 1, 'unreli': 6, 'psychiatri': 12, 'consutl': 2, 'cogentin': 2, 'stelazin': 1, 'epidisod': 1, 'simethecon': 2, 'loongterm': 1, 'mscontin': 1, 'foramin': 11, 'veterbr': 1, 'tylenool': 1, 'mentatl': 1, 'johnson': 1, 'tobra': 6, 'cheny': 2, 'intr': 1, 'ostreomyl': 1, 'trumor': 1, 'lysi': 5, 'erthyma': 1, 'dryness': 5, 'intrisinc': 1, 'diskiti': 3, 'copious': 1, 'linezoid': 2, 'demorol': 1, 'coach': 15, 'flakey': 2, 'debrit': 1, 'flake': 15, 'serous': 1, 'rectovagin': 1, 'ultrcal': 1, 'noncompress': 5, 'macular': 12, 'intraabd': 1, 'confusedat': 1, 'lookup': 1, 'thrombophleb': 2, 'cape': 2, 'thinner': 7, 'tremul': 14, 'discectomi': 1, 'vooid': 1, 'obliter': 14, 'drn': 1, 'bounc': 4, 'neurosurgeri': 5, 'aveeno': 1, 'repletet': 1, 'cha': 2, 'bister': 1, 'aveno': 1, 'endocardidti': 1, 'neural': 13, 'osteomyleti': 1, 'telelphon': 1, 'erythma': 1, 'everythingthat': 1, 'creast': 1, 'pinpoint': 4, 'foramina': 4, 'vetebr': 1, 'hte': 4, 'bloddi': 1, 'sugest': 1, \"'infrequ\": 1, 'yesterdaym': 1, 'bdrest': 1, 'rhtym': 3, 'parallel': 2, 'dring': 1, \"shock'\": 1, 'salvo': 1, 'ventriclar': 1, \"'call\": 1, 'resuscitaion': 1, 'metaplasia': 2, 'sideroblast': 1, 'cyberknif': 3, 'pancreatectomi': 1, 'angioectasia': 2, 'myeloid': 1, 'myelofibrsi': 1, 'adenocarcinoma': 17, 'sppleenectomi': 1, 'admisson': 1, 'knob': 12, 'pneurmothorax': 1, 'ctto': 1, 'analyz': 12, 'overinfl': 8, 'regress': 12, 'pneumoth': 2, 'placmeent': 1, 'thoracoscop': 2, 'infradiaphragmat': 3, 'orientedx': 7, 'remaisn': 4, 'refrain': 2, 'cystoscopi': 6, 'ctpa': 7, 'hernial': 1, 'ovarian': 6, 'uniformli': 4, 'diastasi': 3, 'tehn': 1, 'unchnag': 1, 'cystocopi': 2, 'nondepend': 6, 'energet': 1, 'cardiovers': 14, 'indciat': 1, 'discoordin': 6, 'mwintain': 1, 'ceftrax': 1, 'physican': 1, 'superinmpos': 1, 'popsickl': 1, 'guifensan': 1, 'rocephin': 2, 'expectorationg': 1, 'eager': 5, 'fontal': 1, 'plenti': 4, 'poisit': 1, 'conc': 6, 'lobd': 1, 'hemiplegia': 5, 'mersa': 1, 'unrepair': 1, 'sath': 1, 'hpa': 2, 'volun': 1, 'annoy': 2, 'vaxcel': 6, 'effusio': 5, 'float': 2, 'disclos': 4, 'venepunctur': 1, 'coher': 7, 'rouseabl': 2, 'vv': 2, 'inmmobil': 1, 'instrins': 1, 'everth': 1, 'apnic': 6, 'genamycin': 1, 'effsuin': 2, 'mow': 1, 'clottedcan': 1, 'outer': 4, 'faith': 1, 'allogen': 3, 'miscarriag': 2, 'angiodynam': 2, 'stiffen': 7, 'nephrolog': 6, 'gvhd': 2, 'hemorr': 1, 'pregabalin': 3, 'herpet': 2, 'basilarli': 1, 'dapson': 4, 'unus': 4, 'postherpet': 1, 'pentamidin': 3, 'ptosi': 1, 'guidenc': 1, 'taco': 1, 'lawn': 1, 'allosct': 2, 'silver': 6, 'artifici': 5, 'neuralgia': 2, 'fistalugram': 1, 'sidept': 1, 'edeman': 2, 'cuffleak': 2, 'yhi': 1, 'medcat': 1, 'cellult': 1, 'thoracenteci': 1, 'circl': 7, 'semioval': 3, 'aca': 4, 'flagi': 2, 'alz': 1, 'awat': 2, 'microvessel': 1, 'lvia': 3, 'encephalomalac': 2, 'grey': 7, 'serviv': 1, 'suctionr': 1, 'hyupernatremia': 1, 'jerk': 4, 'reflux': 26, 'diruess': 1, 'stiffli': 1, 'sputumwith': 1, 'grandkid': 1, 'givenx': 2, 'coxxyx': 1, 'vetil': 2, 'atropi': 1, 'beneprotien': 3, 'greeninsh': 3, 'mondday': 1, 'hypercapnia': 4, 'configuart': 1, 'readvanc': 3, 'bumex': 3, 'benefib': 2, 'characht': 1, 'coveral': 1, 'mimick': 1, 'dschrg': 1, 'respiatori': 1, 'optomist': 1, 'crackli': 3, 'laxix': 1, 'pvo': 1, 'lowwer': 1, 'dreainag': 1, 'kid': 3, 'pulmacort': 1, 'sechedul': 1, 'mab': 1, 'dsa': 1, 'timefram': 1, 'ivbx': 1, 'caridac': 1, 'expres': 2, 'inreas': 1, 'exager': 2, 'infsus': 1, 'augmentin': 8, 'striatonigr': 1, 'pdr': 1, 'psuedomona': 6, 'porvid': 1, 'graini': 2, 'abmu': 1, 'tooth': 8, 'inchair': 1, 'oder': 2, 'veneodyn': 1, 'pulmonarey': 1, 'serosanquin': 1, 'alet': 1, 'unifib': 1, 'oropharnyx': 1, 'reommend': 1, 'ncreas': 1, 'individu': 6, 'hedo': 1, 'nigrostriat': 1, 'striatoniagr': 1, 'frq': 1, 'ecotpi': 2, 'drainaag': 1, 'banana': 15, 'malacia': 4, 'audabl': 1, 'endotrachael': 1, 'diomax': 1, 'pvco': 1, 'resorpt': 4, 'facila': 1, 'lesson': 1, 'auscul': 2, 'trachesostomi': 1, 'pulmonaari': 1, 'painkish': 1, 'elecatr': 1, 'benepro': 2, 'muco': 1, 'ectoy': 2, 'aniticp': 1, 'sut': 1, 'unfib': 1, 'trah': 2, 'cautiosli': 1, 'profici': 1, 'bilaterlli': 1, 'surprisingli': 2, 'vene': 1, 'respatori': 1, 'occason': 2, 'radiodens': 14, 'undoubtedli': 2, 'utilis': 1, 'withbl': 1, 'periodiac': 1, 'claudi': 1, 'eyebrow': 4, 'occuls': 1, 'restatr': 2, 'pulmicourt': 1, 'aji': 13, 'overlap': 7, 'otheriws': 1, 'thoracocentesi': 15, 'jxn': 3, 'hyperexpans': 8, 'fibronodular': 2, 'possiblu': 1, 'fibrothorax': 1, 'thsi': 6, 'atherosclerosi': 12, 'chase': 3, 'robot': 1, 'prandial': 2, 'scrotom': 1, 'instant': 1, 'scotum': 2, 'axaxox': 1, 'invert': 4, 'bill': 17, 'vivonex': 5, 'eggcrat': 1, 'rnage': 2, 'levaqin': 2, 'disassoci': 1, 'onflow': 1, 'nkma': 3, 'possib': 1, 'haemodynam': 4, 'coper': 3, 'swob': 1, 'sevar': 1, 'electroly': 5, 'whiti': 1, 'creammi': 1, 'match': 12, 'breakdownon': 1, 'diauresi': 1, 'wenkebach': 2, 'dgtr': 6, 'endolumin': 4, \"tx'ing\": 1, 'insecur': 1, 'azithrommycin': 1, 'phantom': 2, 'dissemin': 6, 'asplenia': 1, 'sprain': 1, 'shower': 2, '\\x13in': 1, 'meter': 1, 'pleasand': 1, 'sucion': 2, 'brownloos': 1, 'profil': 5, 'resullt': 1, 'postict': 1, 'dextameth': 1, 'swivel': 3, 'belch': 2, 'creme': 1, 'uat': 2, 'insuffci': 2, 'coomb': 1, 'pneumopericardium': 1, 'lucent': 8, 'bradycadia': 1, 'esbi': 1, 'amunt': 1, 'aputum': 1, 'fdp': 4, 'cellphon': 1, 'cocial': 1, 'amiodar': 1, 'troughout': 1, 'pepp': 1, 'buth': 1, 'deleriuo': 1, 'jct': 1, 'vancomysin': 2, 'sidehol': 9, 'metaclorpromid': 1, 'tacrolimu': 7, 'behaviuor': 1, 'swet': 1, 'panctranspl': 1, 'obsewrv': 2, 'hydrazalin': 3, 'ored': 4, 'cancal': 1, 'suctioend': 1, 'mt': 8, 'comfus': 1, 'blous': 14, 'diursesi': 3, 'verc': 2, 'coverd': 2, 'mucopurul': 1, 'incresas': 2, 'tardu': 1, 'dispar': 1, 'alsix': 1, 'hymidifi': 1, 'trigemni': 1, 'trake': 1, 'parvu': 1, 'unevet': 1, 'sewll': 1, 'trophic': 2, 'liler': 1, 'hurricain': 5, 'plani': 1, 'commernc': 1, 'vert': 2, 'orientata': 2, 'psotion': 1, 'pendind': 1, 'doploff': 3, 'afternnon': 2, 'examib': 1, 'arintg': 1, 'alteplas': 1, 'dopoff': 3, 'initillay': 1, 'agitataion': 2, 'flushe': 1, 'inconstit': 1, 'lertharg': 1, 'secet': 4, 'fentani': 3, 'beacus': 1, 'eplac': 1, 'rentent': 1, 'ventulat': 1, 'nb': 5, 'bolous': 1, 'halv': 4, 'ventset': 2, 'sennakot': 2, 'parenychym': 1, 'metoclopromid': 2, 'cvvh': 9, 'requirw': 1, 'metaclopromid': 2, 'extubatiohn': 1, 'bols': 3, 'confidenti': 1, 'lw': 13, 'refelx': 1, 'valubl': 2, 'sligthli': 1, 'yankaar': 2, 'incit': 2, 'unable\\x13': 1, 'scedul': 1, 'pateint': 3, 'afibril': 1, 'plesa': 2, 'doplpoff': 1, 'nocal': 1, 'virtual': 2, 'vere': 1, 'nonfoc': 11, 'sof': 3, 'aggressivf': 1, 'aveolar': 1, 'easliy': 1, 'dizzli': 1, 'appera': 2, 'kayaxal': 1, 'focsu': 1, 'methylpr': 8, 'lifestyl': 3, 'dog': 4, 'iga': 5, 'singulair': 10, 'hdr': 3, 'corn': 1, 'pseudomonax': 1, 'abn': 3, 'ceftriazon': 6, 'specgr': 2, 'parasthesia': 7, 'legionair': 1, 'muffin': 2, 'rbc': 43, 'sedentari': 5, 'scrambl': 3, 'dessert': 1, 'titropium': 1, 'serogroup': 6, 'bbl': 7, 'ptca': 5, 'ccb': 6, 'dipstick': 2, 'oseo': 1, 'uric': 6, 'desert': 1, 'sg': 6, 'scn': 2, 'msi': 3, 'nasaotrach': 1, 'kick': 19, 'plexi': 1, 'assistx': 1, 'soupi': 1, 'mystatin': 1, 'thic': 4, 'cocnsist': 1, 'aztriman': 1, 'eys': 1, 'warmer': 5, 'discard': 6, 'resperadol': 1, 'continuosli': 1, 'bet': 1, 'adopt': 1, 'dulcalox': 1, 'bronchodial': 3, 'school': 7, 'strept': 5, 'robituss': 2, 'mva': 15, 'spironmet': 1, 'rush': 4, 'cracl': 3, 'esstenti': 1, 'hydraliazin': 1, 'urbc': 2, 'doapmin': 1, 'cervix': 2, 'nitor': 1, 'breathinhg': 1, 'throughotu': 1, 'hepatopet': 26, 'amantadin': 2, 'tng': 2, 'ith': 2, 'fingertip': 3, 'concav': 4, 'illeu': 2, 'condtion': 1, 'amantidin': 2, 'infusimg': 1, 'monito': 5, 'furter': 2, 'prolap': 1, 'iabp': 5, 'bwel': 1, 'hemangioma': 16, 'ovenroc': 1, 'painfre': 2, 'lorpessor': 2, 'edemam': 1, 'dopamamin': 1, 'extuba': 3, 'posteromedi': 1, 'quadripl': 1, 'saph': 1, 'gasseou': 2, 'abdomini': 4, 'pmreassess': 1, 'pbm': 1, 'subc': 2, 'heimlich': 1, 'excis': 8, 'pneumothoorax': 1, 'curvilinear': 7, 'colonca': 1, 'platelik': 3, 'aresol': 2, 'hydromorphon': 12, 'hyperk': 2, 'enterococ': 2, 'stabal': 8, 'sesni': 1, 'sicuss': 1, 'thermomet': 4, 'trx': 1, 'negativetri': 1, 'tacro': 3, 'par': 2, 'row': 7, 'lrd': 2, 'anaphylaxi': 15, 'ordrer': 1, 'pleuret': 1, 'dxae': 2, 'ostium': 2, 'ws': 4, 'tens': 9, 'tracheobronchomalacia': 9, 'thrombos': 4, 'brittl': 2, 'bronc': 3, 'myucomyst': 1, 'tropinin': 4, 'carev': 2, 'protoc': 2, 'hjr': 3, 'tendor': 2, 'aurea': 1, 'resusciat': 1, 'widow': 3, 'glenoid': 7, 'coracoclavicular': 1, 'acromiohumer': 1, 'paravertebr': 3, 'dysynchron': 12, 'incompletley': 1, 'circumflex': 3, 'adnex': 5, 'pbishop': 2, 'mgi': 15, 'direcl': 1, 'cholecysti': 1, 'shrunken': 4, 'plerual': 2, 'mesaur': 1, 'intubt': 2, 'lymphocyt': 9, 'perisplen': 4, 'contrastclip': 3, 'venotomi': 7, 'ovari': 5, 'dlp': 15, 'stbale': 4, 'ath': 1, 'interphalang': 1, 'sersanguin': 1, 'coupiou': 2, 'pneumthorax': 2, 'apeci': 2, 'emphyema': 1, 'avss': 4, 'respn': 1, 'patinet': 4, 'cga': 9, 'commnand': 2, 'clind': 1, 'comminut': 8, 'clindaycin': 1, 'secreiton': 1, 'isolat': 1, 'mediat': 6, 'shuffl': 1, 'knownor': 1, 'donw': 1, 'nystain': 1, 'dischrg': 1, 'acoupl': 1, 'sabl': 1, 'ur': 1, 'subseq': 1, 'afebil': 5, 'aaaaawait': 1, 'lipim': 1, 'periar': 1, 'frequentstrong': 1, 'wriet': 1, 'sppech': 3, 'bottock': 1, 'apin': 3, 'hcyt': 1, 'legibl': 3, 'backach': 3, 'tast': 1, 'manuev': 1, 'becaom': 2, 'island': 7, 'cf': 4, 'downsiz': 5, 'adlib': 1, 'mob': 2, 'vaco': 2, 'doubleguard': 5, 'tychypn': 1, 'comod': 1, 'thikc': 2, 'secrertt': 1, 'rpiv': 2, 'placemnt': 2, 'solat': 1, 'sutol': 1, 'bedisd': 1, 'synch': 4, 'synchroni': 3, 'craet': 1, 'accep': 1, 'tepid': 3, 'antiretrovir': 2, 'lasx': 1, 'hemecult': 1, 'softwrist': 1, 'paitent': 5, 'atelectact': 1, 'brew': 3, 'exacerbaion': 1, 'nonfenestr': 1, 'cuffless': 5, 'nauseou': 4, 'ontrach': 1, 'tool': 1, 'tacycard': 1, 'rpicc': 2, 'signigic': 1, 'krohn': 1, 'nitrotab': 1, 'cardial': 1, 'expos': 7, 'vx': 4, 'indiscret': 2, 'dysphasia': 4, 'copn': 1, 'approrpi': 1, 'invent': 1, 'ovoid': 3, 'ceftazdim': 1, 'uprigh': 1, 'transferrd': 1, 'mediastinosccopi': 1, 'south': 3, 'multcn': 1, 'dysarthr': 3, 'wich': 2, 'pluggin': 1, 'earlili': 1, 'retrocardi': 2, 'costal': 5, 'emphysemia': 1, 'aebc': 2, 'encas': 8, 'neuropath': 4, 'dilodid': 2, 'adjoin': 1, 'talar': 1, 'fragment': 9, 'varu': 1, 'malleolar': 1, 'calcaneu': 1, 'plafond': 1, 'disrupt': 4, 'hindfoot': 1, 'oxicodon': 2, 'uren': 1, 'callus': 1, 'fibular': 2, 'bimalleolar': 1, 'charcot': 2, 'angul': 7, 'malleolu': 1, 'fibula': 4, 'trimalleolar': 1, 'nonhemorrhag': 17, 'optic': 1, 'wolfran': 2, 'requiremnt': 1, 'wolfram': 2, 'ulrasound': 1, 'vag': 2, 'yello': 3, 'fishi': 1, 'oximet': 2, 'prog': 4, 'lbbb': 10, 'titat': 1, 'cortison': 2, 'lop': 2, 'sod': 1, 'becuas': 2, 'sxp': 1, 'distned': 1, 'vacular': 2, 'respoit': 1, 'deped': 2, 'retim': 1, 'incidnet': 1, 'coocx': 1, 'difficultli': 3, 'mediastium': 1, 'emoli': 1, 'microabras': 1, 'captopr': 2, 'readmiss': 6, 'stnet': 1, 'maintenac': 1, 'assymptomat': 2, 'midstern': 5, 'proscar': 1, 'seriel': 4, 'statusa': 1, 'silli': 1, 'gramstain': 1, 'tangenti': 1, 'mstemi': 1, '^cri': 1, 'thankgiv': 1, 'srx': 1, 'mdnoc': 2, 'substern': 7, 'unmeasur': 1, 'crampo': 1, 'tmp': 13, 'binder': 7, 'cozaar': 3, 'mptb': 6, 'losdartan': 1, 'hydroxysin': 1, 'prescribt': 1, 'niifedipin': 1, 'polit': 2, 'smx': 13, 'nifedipin': 15, 'sarcoid': 8, 'zpak': 2, 'sevelamir': 3, 'hyperthermia': 42, 'hematemesi': 5, 'quaic': 1, 'convent': 9, 'episodex': 1, 'rbb': 1, 'glomerular': 2, 'bactrimm': 1, 'avgraft': 1, 'righ': 2, 'graph': 2, 'nifedepin': 1, 'bracheocephal': 2, 'matur': 4, 'pruritu': 4, 'crossmatch': 5, 'heav': 12, 'plz': 3, 'vanocmycin': 2, 'clavulan': 2, 'crossmathc': 1, 'mrv': 2, 'contineu': 2, 'amox': 2, 'melanot': 5, 'notif': 9, 'phleb': 1, 'reoccurr': 2, 'xerofoam': 1, 'diverticulti': 1, 'prepe': 1, 'clump': 1, 'maroon': 7, 'colonscopi': 2, 'diveriticul': 1, 'tackycard': 1, 'olac': 2, 'azitinem': 1, 'iliostomybag': 1, 'lumin': 3, 'lquid': 2, 'guiafenesin': 5, 'fortaz': 2, 'leveqiun': 1, 'slighti': 3, 'inncid': 1, 'sweater': 2, 'paxil': 9, 'antibioticss': 1, 'psuedmona': 1, 'blod': 5, 'confim': 1, 'lforearm': 1, 'morpin': 4, 'breathig': 1, 'antibioticd': 1, 'makept': 1, 'tiger': 1, 'blown': 1, 'prece': 1, 'chset': 1, 'porgress': 1, 'aabg': 1, 'peudamona': 1, 'dribbl': 1, 'kexel': 1, 'unrin': 1, 'serv': 6, 'agbg': 1, 'anticholinerg': 3, 'inpast': 1, 'luq': 8, 'papsp': 1, 'rant': 3, 'exersic': 1, 'deepbreath': 1, 'ren': 1, 'norom': 1, 'throbe': 1, 'ressect': 1, 'reuir': 1, 'overexpand': 1, 'illeostomi': 2, 'inhail': 2, 'eventhough': 1, 'hyperglycamia': 1, 'sution': 2, 'cahir': 2, 'lobectomyand': 1, 'sulphat': 3, 'psuedamonu': 1, 'oncontact': 1, 'lbrach': 1, 'colitisrequir': 1, 'whe': 3, 'breathin': 2, 'illoestomi': 1, 'remiand': 1, 'hyperluc': 6, 'duaderm': 2, 'intolerac': 1, 'linein': 1, 'physicv': 1, 'adheas': 1, 'ocean': 1, 'klonipin': 3, 'panicki': 2, 'magmt': 1, 'flatuat': 1, 'tiopropium': 1, 'pipe': 2, 'conditoin': 1, 'zyvox': 2, 'availabilti': 1, 'rrad': 1, 'pseudamonsa': 1, 'lfa': 3, 'extrimitit': 1, 'hyperglycem': 13, 'appitit': 9, 'pharm': 8, 'milder': 5, 'lidcain': 1, 'amikacin': 9, 'revieew': 1, 'tipotropium': 1, 'pendinf': 1, 'dur': 4, 'chnged': 1, 'modal': 3, 'graduat': 2, 'hyperkalem': 5, 'metoprol': 3, 'hcap': 38, 'melanoma': 7, 'howvev': 1, 'dysautonomia': 2, 'amoxicillin': 8, 'tbili': 13, 'paliat': 1, 'finasterid': 2, 'catalogu': 1, 'legion': 1, 'cholangio': 2, 'obstain': 1, 'doublecoverag': 1, 'cholangioca': 1, 'lbp': 5, 'adenoca': 5, 'elast': 2, 'fistuologram': 1, 'pelv': 3, 'misattach': 2, 'ioversol': 1, 'successu': 1, 'laproscop': 1, 'reigmen': 1, 'excrori': 1, 'endpoint': 2, \"piv'\": 8, 'tugor': 2, 'enterocutan': 2, 'ronchor': 16, 'dex': 4, 'ercp': 10, 'bliari': 1, 'amiodipin': 2, 'interior': 1, 'hida': 5, 'receivl': 1, 'radiographi': 5, 'castleman': 1, 'nutrion': 2, 'lexapro': 8, 'dyskinet': 2, 'primidon': 4, 'azotemia': 9, 'wallpap': 1, 'olecranan': 1, 'unicentr': 1, 'taker': 1, 'antiparkinson': 2, 'refresh': 1, 'ment': 2, 'piviot': 2, 'choledocholithiasi': 4, 'fistul': 3, 'chic': 1, 'orif': 12, 'turner': 1, 'poi': 1, 'respirophas': 1, 'csurg': 6, 'transcutan': 3, 'pec': 1, 'optimum': 1, 'laxiti': 3, 'nv': 3, 'shield': 1, 'wak': 1, 'instraspin': 1, 'aortobi': 1, 'visipaqu': 5, 'aspergillu': 11, 'pet': 17, 'intraoss': 2, 'destroy': 3, 'avid': 9, 'uncovertebr': 3, 'imping': 9, 'percept': 1, 'spinou': 2, 'paraesophag': 7, 'brainstem': 2, 'encroach': 3, 'cerebellum': 6, 'erod': 5, 'lunc': 1, 'invad': 7, 'nebsq': 1, 'openingli': 1, 'cannul': 5, 'hematuirc': 1, 'respirtori': 4, 'pneumonectomi': 5, 'bronchorrhea': 1, 'downt': 2, 'abssent': 1, 'initial': 1, 'scarum': 1, 'nosocomi': 15, 'realt': 2, 'satisafcatori': 1, 'slighli': 5, 'detial': 3, 'therapistin': 1, 'wiothout': 1, 'lithiumm': 1, 'risisng': 1, 'betwwen': 1, 'therfeor': 1, 'corsintropin': 1, 'sctlc': 1, 'slid': 2, 'clipboard': 4, 'afeebril': 1, 'stack': 2, 'prozac': 6, 'inpuls': 1, 'sliip': 1, 'agitata': 1, 'wavsform': 1, 'necklac': 2, 'agian': 3, 'hypotent': 7, 'memeori': 1, 'efeect': 1, 'unclog': 1, 'papain': 1, 'ywlloe': 1, 'veceronium': 2, \"cont'd\": 1, 'databas': 2, 'soflti': 4, 'continuu': 1, 'sba': 1, 'butt': 5, 'reviw': 2, 'sedtaion': 1, 'vodka': 5, 'operta': 1, 'guardianship': 5, 'trcheotomi': 1, 'represn': 1, 'echoli': 1, 'raeb': 1, 'treach': 1, 'ethambutol': 1, 'lsw': 1, 'clsose': 1, 'delasetron': 1, 'micxumi': 1, 'portclip': 3, 'chalki': 1, 'ndari': 1, 'phrase': 7, 'collectio': 2, 'dampn': 1, 'usction': 1, 'regurgat': 1, 'dermoid': 1, 'discrep': 6, 'sleav': 2, 'succinctli': 1, 'streptomycin': 1, 'agatroban': 1, 'isoniazid': 2, 'reexpand': 2, 'trede': 3, 'cecum': 8, 'uterin': 5, 'matreess': 1, 'pltl': 1, 'neostigman': 1, 'upprt': 2, 'plumonari': 1, 'gender': 3, 'communic': 1, 'myelodysplast': 2, 'espeic': 2, 'benedryl': 4, 'imepenum': 1, 'emet': 1, 'cure': 2, 'rhonchiou': 2, \"'scvp\": 1, 'opinion': 7, 'daughetr': 1, 'commnec': 1, 'vicari': 3, 'decreasedin': 1, 'cortistim': 1, 'anzamet': 1, 'rifampin': 6, 'coagulopath': 3, 'respiartori': 1, 'antiemet': 4, 'alongsid': 10, 'lishen': 1, 'haematuria': 2, 'paid': 2, 'encrust': 1, 'rojm': 1, 'apprpriat': 1, 'mcl': 1, 'urs': 1, 'rapport': 7, 'watersh': 3, 'perisist': 2, 'unconsci': 1, 'custodi': 3, 'digest': 2, 'gancyclovir': 3, 'arteriogram': 3, 'mdo': 1, 'imepenim': 1, 'whithin': 1, 'na^^': 1, 'improvementtv': 1, 'hemisper': 1, 'becan': 1, 'srat': 1, 'edemed': 1, 'sickl': 1, 'imipenam': 1, 'prresent': 1, 'physiotherapi': 3, 'diuris': 4, 'movemnt': 1, 'brighter': 3, 'suppert': 1, 'subpoena': 1, 'allerig': 2, 'rip': 3, 'pyrazanamid': 1, 'interac': 1, 'clott': 1, 'circuit': 7, 'prcedur': 1, 'anzimetx': 1, 'guaz': 3, 'daptomycin': 2, 'blank': 2, 'pleuroparenchym': 4, 'lbmx': 2, 'spkie': 2, 'weamn': 1, 'sponten': 3, 'declar': 2, 'contit': 1, 'vegit': 6, 'weam': 1, 'perrlaa': 1, 'propos': 4, 'el': 2, 'allevi': 12, 'prr': 1, 'meant': 3, 'dolasetron': 1, 'drning': 1, 'thkish': 2, 'shifwt': 1, 'tolaret': 1, 'swing': 6, 'magazin': 3, 'relet': 1, 'trait': 3, 'abrasionx': 1, 'decend': 2, 'inermit': 1, 'strptomycin': 1, 'afrebril': 2, 'mtb': 3, 'anzement': 1, 'ambisom': 2, 'tel': 1, 'serosangin': 3, 'sectreion': 1, 'church': 2, 'tylenolx': 1, 'theori': 3, 'reimag': 7, 'scretion': 1, 'routinc': 1, 'tnick': 1, 'recc': 10, 'ladder': 1, 'uss': 1, 'ramain': 1, 'erali': 1, 'spile': 1, 'softer': 8, 'tahypn': 1, 'sag': 1, 'erythro': 2, 'conjuct': 2, 'vomitu': 2, 'overdiures': 2, 'uffp': 2, 'diusesi': 1, 'balacn': 2, 'nursng': 1, 'peed': 1, 'hypergycem': 1, 'cisatracurium': 2, 'kink': 7, 'audubl': 1, 'eupport': 1, 'socialwork': 2, 'luung': 1, 'ivl': 2, 'witn': 1, 'blanc': 2, 'consistentwith': 1, 'slep': 1, 'midesophagu': 1, 'redsid': 1, 'refex': 1, 'hyperoxia': 2, 'displeas': 1, 'hyoactiv': 1, 'resond': 3, 'antibiotic': 1, 'inhlaer': 1, 'popit': 2, 'emeg': 1, 'periorbi': 1, 'maitian': 1, 'combo': 4, 'medciat': 2, 'urien': 2, 'essent': 2, 'proprofol': 3, 'mojor': 1, 'multiposu': 1, 'venil': 1, 'deffer': 5, 'hypocapnea': 1, 'unrais': 1, 'klonapin': 2, 'unopen': 2, 'andtherefor': 1, 'superad': 1, 'unitl': 3, 'mainatinig': 1, 'pronat': 3, 'paral': 1, 'riedel': 1, 'pentobarbitol': 1, 'triadyn': 7, 'adminis': 1, 'transderm': 2, 'trasfus': 2, 'depsit': 2, 'iniatilli': 1, 'cist': 1, 'resov': 2, 'mehtadon': 1, 'pharmacist': 5, 'humulin': 5, 'progr': 3, 'solv': 3, 'regland': 1, 'acidod': 2, 'puil': 2, 'wdi': 6, 'throughouth': 1, 'suporrt': 1, 'periorbit': 4, 'notenurs': 1, 'expwhe': 1, 'glden': 1, 'speciment': 1, 'anpea': 1, 'cistatiacurium': 1, 'dopov': 1, 'tign': 1, 'nsicu': 1, 'uurs': 1, 'pharmacuet': 1, 'getout': 1, 'morphein': 1, 'apen': 4, 'bmp': 1, 'malasia': 2, 'haslimit': 1, 'concult': 1, 'mosltli': 1, 'betetr': 1, 'dop': 10, 'cisatraciriuum': 1, 'supplemet': 1, 'sluggisli': 2, 'tronchoscopi': 1, 'bilaer': 1, 'tomorrrow': 2, 'nlargement': 1, 'amoount': 2, 'demarc': 4, 'retun': 1, 'rotorest': 1, 'mang': 3, 'wi': 4, 'coma': 4, 'fowl': 2, 'pnumo': 1, 'incresinng': 1, '^na': 1, 'frustrarion': 1, 'repleatd': 1, 'dtiff': 1, 'religi': 1, 'trueli': 1, 'mmove': 1, \"ambu'\": 2, 'refferr': 2, '^^hr': 2, 'recess': 5, 'sort': 8, 'musculatur': 6, 'lenghti': 1, 'bot': 2, 'z': 4, 'abdom': 2, 'grimi': 1, 'braclet': 1, 'devid': 1, 'conclud': 5, 'fluc': 8, 'evem': 1, 'cholang': 7, '^hr': 3, 'attmpt': 3, 'discomfor': 1, 'auscultaion': 1, 'uncov': 3, 'lest': 1, 'offabx': 1, 'opsit': 2, 'slightest': 2, 'omg': 1, 'sadd': 1, 'residul': 2, 'dioppler': 1, 'hypotensv': 1, 'hro': 1, 'ite': 1, 'dnuero': 1, 'pali': 2, 'anlkl': 1, 'faili': 2, 'tcdp': 5, 'multiposi': 2, 'fgiven': 1, 'linesit': 1, 'abf': 1, 'comgeal': 1, 'oppinion': 1, 'fellto': 1, 'contct': 1, 'ureg': 1, 'clasp': 1, 'sart': 2, 'uncomforatbl': 1, 'mind': 10, 'intervascular': 1, 'belief': 1, 'ba': 17, 'futil': 3, 'pancx': 4, 'sercet': 1, 'sputim': 1, 'lasisx': 1, 'voucher': 2, 'plummet': 1, 'mentaton': 1, 'coough': 1, 'boredom': 1, 'inadvertantli': 1, 'nasaal': 1, 'vomitig': 1, 'diminih': 2, 'commsnd': 1, 'awarenss': 1, 'cab': 4, 'otherw': 1, 'prescript': 9, 'inadvertenti': 1, 'ketoacidosi': 1, 'purposefuli': 1, 'haltol': 1, 'cryoptherapi': 1, 'smmhg': 1, 'enalopril': 2, 'lactam': 4, 'camb': 1, 'gej': 1, 'stanc': 2, 'videofluoroscop': 8, 'sysotl': 2, 'unsign': 1, 'accommod': 2, 'xplant': 1, 'subcot': 1, 'dispens': 4, 'model': 9, 'resovlv': 1, 'cce': 1, 'funciton': 1, 'begn': 1, 'upstrok': 6, 'ivpwith': 1, 'ldl': 2, 'srh': 4, 'pravastatin': 7, 'vronch': 1, 'cadaver': 1, 'betalactam': 1, 'immunesuppress': 2, 'cariac': 1, 'ppft': 4, 'crtx': 1, 'commit': 5, 'chol': 4, 'immigr': 1, 'waev': 2, 'inord': 2, 'continun': 1, 'unretract': 1, 'normoglycemia': 1, 'lood': 2, 'viedo': 1, 'mofetil': 3, 'poetri': 1, 'mmf': 4, 'auth': 1, 'russia': 1, 'biomark': 9, 'angin': 4, 'chd': 1, 'closley': 2, 'xyphoid': 2, 'pyriform': 9, 'spew': 1, \"i'li\": 1, 'osmot': 2, 'clonzapam': 1, 'ganglia': 10, 'pravastat': 1, 'bronchomalacia': 5, 'brochospasm': 1, 'eosinophilia': 12, 'click': 2, 'lengthen': 4, 'seroquil': 4, 'decerebr': 1, 'qmi': 1, 'ulyt': 4, 'gut': 10, 'da': 5, 'uppermost': 3, 'intubati': 1, 'bumetanid': 2, 'endocrinologist': 2, 'fexofenidin': 1, 'df': 13, 'fahrenheit': 1, 'hdl': 3, 'precert': 1, 'toiltet': 3, 'vfa': 1, 'pmibi': 2, 'seroqul': 1, 'fumar': 5, 'awail': 1, 'tacrol': 1, 'transpos': 1, 'ridg': 3, 'poem': 1, 'vf': 1, 'song': 1, 'faiulr': 6, 'persantin': 3, 'diabetesi': 1, 'velar': 3, 'exept': 2, 'icteru': 29, 'wma': 6, 'andvanc': 1, 'goc': 6, 'acur': 2, 'quot': 2, 'unintent': 1, 'nightsweat': 3, 'represent': 2, 'edentul': 11, 'mycophenol': 4, 'dextro': 1, 'vfib': 4, 'tn': 6, 'dyskinesi': 2, 'prednisom': 1, 'nitrofurantoin': 6, 'restat': 1, 'ideat': 5, 'requiringhd': 1, 'girmmac': 1, 'cyclic': 2, 'leukokcytosi': 1, 'fluvoxamin': 1, 'levit': 1, 'intravascularli': 14, 'whee': 1, 'delusion': 2, 'advisor': 3, 'bourbon': 1, 'rrom': 1, 'converstaion': 1, 'lobbi': 2, 'whcih': 2, 'escort': 3, 'behavoir': 2, 'albtuerol': 2, 'ventricuilar': 1, 'caythet': 1, 'aval': 2, 'aros': 1, 'comfirm': 2, 'gaurd': 4, 'diffaculti': 1, 'disect': 2, 'vioxx': 1, 'defiecit': 1, 'roof': 3, 'aodm': 2, 'pleasw': 1, 'suctioningx': 1, 'chunk': 2, 'agil': 1, 'manor': 2, 'wnt': 1, 'negit': 2, 'occcasion': 1, 'cbp': 4, 'perpipher': 2, 'memeb': 1, 'baqth': 1, 'sistend': 1, 'appetiet': 1, 'whenn': 1, 'diarreah': 1, 'biatrial': 3, 'awel': 1, 'yaunk': 1, 'nasasl': 1, 'lymphangit': 7, 'accquir': 1, 'origion': 1, 'furhter': 4, 'accordf': 1, 'foloow': 3, 'bouls': 1, 'rescussit': 2, 'allen': 1, 'ahen': 1, 'nine': 7, \"mov't\": 1, 'residua': 5, 'floswsheet': 1, 'probuct': 1, 'maintian': 5, 'pleuric': 1, 'aspleen': 1, 'coorel': 2, 'arousabel': 1, 'conferm': 1, 'anwser': 1, 'cavogram': 1, 'elevet': 2, 'hipoxia': 1, 'interup': 5, 'ensym': 1, 'tarnsfr': 1, 'park': 6, 'deseas': 1, 'fructur': 1, 'effuis': 1, 'retin': 1, 'replecmenbt': 1, \"pe'\": 2, 'combi': 2, 'vte': 6, 'dateto': 1, 'tolerat': 1, 'psychot': 7, 'nactiv': 1, 'quarter': 8, 'hypertent': 1, 'gingeral': 5, 'portocath': 2, 'wqith': 3, 'penidng': 2, 'tylenlol': 1, 'portacath': 11, 'atert': 1, 'nfb': 4, 'hcit': 1, 'buttuck': 4, 'auscalt': 1, 'lisw': 4, 'surrent': 1, 'generalis': 2, 'perip': 2, 'isod': 1, 'wavew': 1, 'atrest': 1, 'substitut': 4, 'coaars': 1, 'million': 4, 'sex': 1, 'approprait': 1, 'stiil': 1, 'pasti': 4, 'penicllan': 1, 'aoung': 1, 'backupset': 1, 'bolos': 1, 'experenc': 1, 'deepen': 1, 'oar': 1, 'ocassioan': 1, 'cocyyx': 1, 'wg': 2, 'sctl': 2, 'readminist': 1, 'valastran': 1, 'lmp': 3, 'thinnet': 1, 'hich': 1, 'vet': 2, 'hypervolem': 8, 'softlt': 1, 'currenltli': 1, 'seroussang': 1, 'hey': 1, '^ing': 1, 'creap': 1, 'bicuspid': 2, 'streptococc': 1, 'shampoo': 1, 'microgram': 1, 'asbp': 1, 'magsulf': 1, 'cvc': 9, 'pne': 1, 'ral': 1, 'quaniti': 2, 'possibiliy': 1, 'gg': 7, 'polycythemia': 3, 'counsel': 6, 'galactomannan': 17, 'decomepns': 1, 'methyprednison': 3, 'fludrocortison': 3, 'ribavarin': 1, 'mineralocorticoid': 1, 'betaglucan': 1, 'interferon': 3, 'hydrocodon': 10, 'galactomanan': 4, 'suboccipit': 1, 'malform': 2, 'initilli': 1, 'pica': 2, 'cortef': 2, 'assertain': 1, 'ciger': 1, 'crave': 1, 'mastoidectomi': 1, 'pupl': 3, 'discribt': 1, 'mone': 1, 'oesophag': 1, 'diaprosi': 1, 'chicken': 2, 'bagun': 1, 'comfrtabl': 1, 'noodl': 2, 'lfluid': 1, 'ogd': 1, 'opr': 1, 'jejunocutan': 1, \"did't\": 1, 'unaffect': 2, 'strictur': 14, 'ygd': 7, 'sobclin': 1, 'rulobectomi': 1, 'subtherapi': 1, 'quesiton': 3, 'multivessel': 7, 'imitrex': 2, 'gvn': 1, 'agb': 1, 'initrex': 1, 'seroid': 1, 'whith': 2, 'minit': 1, 'gassi': 4, 'lev': 1, 'vegetarian': 4, 'nectrar': 1, 'anxioud': 1, 'dypneic': 1, 'ahv': 2, 'trazedon': 3, 'jovial': 1, 'minmal': 3, 'quanit': 1, 'awaitng': 4, 'mgiv': 2, 'floxacin': 1, 'evernt': 1, 'sulpha': 1, 'uninterpret': 6, 'gand': 1, 'grill': 2, 'lighthead': 4, 'inspit': 4, 'hyperplasia': 1, 'afternooon': 2, 'aorticopulmonari': 2, 'inn': 2, 'tenant': 1, 'shelter': 5, 'icreas': 3, 'monitoirng': 1, 'azythromacyn': 1, 'difficalti': 1, 'homeless': 9, 'vasculit': 2, 'achi': 3, 'adequetli': 1, 'dvelop': 1, 'covera': 1, 'cacarb': 1, 'showscrackl': 1, 'limitedli': 1, 'ingli': 1, 'lossess': 1, 'sleap': 1, 'rhonki': 2, 'reinstitut': 3, 'dissynchroni': 1, 'yesteday': 3, 'nafcilin': 1, 'vut': 1, 'nafcillin': 6, 'compfort': 1, 'iprotrop': 1, 'prednsion': 2, 'multicfoc': 1, 'capillar': 1, 'precari': 1, 'agter': 2, 'concomit': 9, 'facemast': 1, 'hemmorrhag': 2, 'hype': 1, 'dah': 11, 'slighltli': 2, 'rimantidin': 2, 'wbat': 1, 'criticaid': 14, 'perocet': 2, 'lume': 1, 'recevd': 1, 'dialudid': 3, 'extran': 1, 'cyanocobalamin': 6, 'blade': 2, 'repsiratori': 4, 'diclox': 1, 'therex': 10, 'simva': 3, 'degrees': 1, 'search': 5, 'predic': 1, 'glucocorticoid': 2, 'supress': 6, 'lcpc': 18, 'rw': 8, 'pach': 1, 'vitd': 4, 'holosyst': 3, 'bland': 4, 'improov': 4, 'hrc': 3, 'prochlorperazin': 8, 'avt': 1, 'artifactu': 7, 'acetominophen': 2, 'lebatalol': 1, 'anticp': 3, 'positit': 2, 'appred': 1, 'imprrov': 1, 'chiropractor': 1, 'desaturadt': 1, 'endometriosi': 2, 'hemmorhag': 5, 'cryoglobulin': 3, 'amlodapin': 1, 'wegner': 3, 'tka': 1, 'procidex': 1, 'alv': 4, 'meticulu': 1, 'shaunessi': 1, 'ivfluid': 1, 'cond': 4, 'alevyn': 3, 'nno': 1, 'bivalv': 2, 'pharyg': 1, 'nyha': 1, 'mostlli': 1, 'mexiliten': 1, 'parang': 1, 'origress': 1, 'gat': 1, 'class': 3, 'avellyn': 1, 'coocyx': 4, 'calendar': 2, 'coumidin': 1, 'benifit': 1, 'orienterd': 1, 'nurisng': 3, 'intubationl': 1, 'corel': 1, 'glutteal': 1, 'palpatori': 1, 'microwir': 1, 'midport': 1, 'embo': 1, 'hyperenhanc': 3, 'microcoil': 1, 'striat': 1, 'trv': 4, 'upsiz': 6, 'cobra': 4, 'trancathet': 1, 'supersel': 1, 'addl': 5, 'microcathet': 2, 'balkan': 1, 'pseudoanuerysm': 1, 'stc': 1, 'arteriotomi': 1, 'visapaqu': 2, 'intraren': 5, 'slurri': 1, 'transcend': 1, 'renegad': 1, 'encouraag': 2, 'yankeuur': 1, 'expidit': 1, 'lomotil': 2, 'staart': 1, 'naseltrachea': 1, 'bowwel': 1, 'diissoriiennt': 1, 'stqrt': 1, 'whren': 1, 'promoot': 1, 'obeyi': 1, 'metroprolol': 6, 'toleratin': 1, 'coinsid': 2, 'meqkcl': 2, 'restrian': 1, 'phosphor': 6, 'ppt': 2, 'circ': 3, 'pphlegm': 1, 'blodd': 1, 'hgealth': 1, 'progrewss': 1, 'commannd': 1, 'feedw': 1, 'slugish': 2, 'turrn': 1, 'weakeer': 1, 'abfas': 1, 'rituximab': 1, 'spectrim': 1, 'ctabd': 1, 'enhancemnt': 1, 'transform': 7, 'pericolon': 1, 'hcd': 1, 'infraclavicular': 2, 'mitoxantron': 1, 'sidewal': 3, 'multicent': 1, 'thrive': 4, 'refractori': 10, 'megestrol': 4, 'qmonth': 1, 'xenopi': 1, 'msir': 2, 'chop': 4, 'bendamustin': 1, 'qweek': 2, 'follicular': 1, 'ppossibl': 1, 'pleuriti': 1, 'proctiti': 3, 'hyptens': 1, 'enrol': 1, 'malodor': 2, 'lymphedema': 1, 'chemotherapeut': 2, 'antibioc': 1, 'fludarabin': 1, 'war': 3, 'orthostasi': 3, 'drinker': 5, 'igg': 10, 'pleurisi': 4, 'pentamadin': 1, 'zevalin': 1, 'loperamind': 1, 'tattoo': 2, 'penu': 1, 'pinu': 1, 'fibrou': 3, 'chilaid': 1, 'queri': 11, 'interposit': 6, 'anterolisthesi': 12, 'ventr': 1, 'gnawl': 1, 'rove': 2, 'impli': 3, 'omf': 2, 'peal': 1, 'grind': 3, 'mepiplex': 4, 'prox': 3, 'pnbt': 2, 'becomc': 1, 'junct': 1, 'glucogon': 3, 'speciman': 2, 'decubetu': 1, 'holler': 1, 'phenegran': 1, 'wegd': 1, 'exxerct': 1, 'lct': 2, 'killer': 1, 'protrus': 5, 'lsctab': 3, 'omni': 4, 'nsc': 1, 'nut': 2, 'pulonari': 4, 'suprabas': 3, 'hyperelev': 1, 'inp': 2, 'odour': 1, 'hemidiaphragmat': 7, 'tolerart': 1, 'tylonol': 2, 'mgoxid': 1, 'tension': 9, 'thorencentesi': 1, 'enabl': 9, 'twist': 2, 'effectand': 1, 'grochong': 1, 'kayexol': 2, 'defitilid': 1, 'thyroplastym': 1, 'icepack': 1, 'mnimal': 1, 'uterol': 1, 'quanitifi': 1, 'ventricularli': 2, 'prenison': 1, 'rambl': 2, 'bananna': 3, 'wsa': 1, 'avp': 2, 'thyroidoxicosi': 1, 'spotan': 4, '^amt': 2, 'persent': 1, 'thyrotoxosi': 1, 'porrel': 1, 'quiver': 1, 'hic': 1, 'overninght': 1, 'bigemin': 3, 'offend': 6, 'interog': 2, 'bruse': 3, 'foer': 1, 'reprep': 1, 'dantrolen': 1, 'outlook': 3, 'continuy': 1, 'galrgin': 1, 'thyroidtoxicosi': 1, 'dofetilid': 3, 'muxhroom': 1, 'nightshift': 1, 'understatand': 1, 'unsynchron': 1, 'readmt': 1, 'whisper': 2, 'broach': 3, 'thyroidtoxosi': 1, 'orientx': 1, 'fuse': 5, 'multiform': 5, 'sogt': 1, 'guardain': 1, 'visualis': 2, 'zyprea': 2, 'guaicc': 1, 'lime': 2, 'taperd': 1, 'infilr': 1, 'cring': 1, 'normothermia': 1, 'requiri': 2, 'correctiom': 1, 'baselineand': 1, 'bolusn': 1, 'lrad': 1, 'itm': 1, 'gardianship': 2, 'incraes': 1, 'glottic': 1, 'mfpvc': 1, 'disoreint': 1, 'hiccup': 3, 'aforment': 1, 'ril': 1, 'extremeit': 1, 'ver': 3, 'sponan': 1, 'resul': 2, 'tylenlo': 1, 'dysnchroni': 1, 'hemeodynam': 1, 'fixationg': 1, 'nioght': 1, 'furtur': 1, 'rashi': 1, 'bace': 1, 'psycholog': 2, 'dialat': 5, 'sbp^': 1, 'storm': 1, 'forev': 1, 'voiec': 1, 'oversea': 2, 'buttox': 2, 'cdif': 7, 'cove': 3, 'dexamethison': 1, 'dilerium': 1, 'interogat': 1, 'multipli': 2, 'defilitid': 1, 'psycot': 2, 'tanninsh': 1, 'impiar': 1, 'rforearm': 1, 'thyrombocytopenia': 1, 'qac': 2, '^respons': 1, 'thyrotoxicosi': 1, 'polymorph': 1, 'amioderon': 6, 'compensart': 1, \"bolus'\": 1, 'nurten': 1, 'bari': 3, 'bpcuff': 1, 'positio': 1, 'mormimg': 1, 'liguid': 4, 'sponatan': 1, 'vioe': 1, 'disynchronu': 1, 'reposist': 1, 'esay': 1, 'portibl': 1, 'irat': 1, 'vacol': 1, 'defervec': 1, 'bll': 6, 'grim': 2, 'ibupropin': 1, 'klitchen': 1, 'erceiv': 1, 'boggi': 2, 'esmollol': 1, 'bond': 1, 'bracheal': 1, 'esmolo': 1, 'movt': 9, 'procudt': 1, 'weaken': 6, 'unccop': 1, 'addendun': 1, 'capoten': 1, 'awe': 1, 'extrub': 1, 'monitorfor': 1, 'avpac': 1, 'hormon': 3, 'inconisit': 1, 'detriment': 1, 'chatter': 1, 'wakeup': 9, 'hop': 3, 'coccyc': 2, 'eveal': 1, 'zoysn': 5, 'blankli': 1, 'attept': 1, 'slind': 1, 'resplet': 1, 'omli': 1, 'incoprehensibel': 1, 'voriconazol': 4, 'steer': 1, 'gass': 2, 'dimenish': 1, 'altho': 1, 'stromg': 1, 'yearl': 1, 'fluoproscop': 1, 'infreq': 3, 'nummer': 1, 'ordeer': 1, 'mandril': 1, 'apyrexi': 1, 'penectomi': 1, 'sulcruf': 1, 'chemoradiotherapi': 2, 'midinsp': 1, 'dmfj': 9, 'fsq': 3, 'stori': 10, 'unimpress': 7, 'unmpress': 1, 'luceni': 1, 'rochi': 1, 'tachyarrhythemia': 1, 'epsisod': 1, 'tachyapn': 1, 'abdomni': 1, 'sdh': 12, 'adeno': 9, 'bronchiestasi': 1, 'bronchietasi': 2, 'humdifi': 1, 'coph': 1, \"cap'\": 1, 'emprir': 1, 'athosclerot': 1, 'sucralf': 10, 'solumdedrol': 1, 'nyastatin': 2, 'sucralaf': 3, 'deriv': 8, 'xopen': 1, 'beg': 2, 'oat': 1, 'vancomycina': 1, 'significnatli': 1, 'emphasi': 9, 'methemoglobinem': 2, 'unremarkalb': 1, 'ectat': 6, 'diltitazem': 1, 'reachabl': 1, 'increass': 2, 'habit': 11, 'mem': 1, 'kleenex': 1, 'creram': 1, 'skinfold': 1, 'curvatur': 4, 'levoconcav': 1, 'meuromuscular': 1, 'creeatinin': 1, 'foolw': 1, 'addentum': 1, 'monitior': 4, 'pupport': 1, 'nformat': 1, 'sucit': 1, 'diuril': 6, 'remeain': 1, 'tryiong': 1, 'undgest': 1, 'bilter': 2, 'pthad': 1, 'wherr': 1, 'path': 13, 'specialti': 4, 'deci': 1, 'interventin': 1, 'afibb': 1, 'taccycardia': 1, 'passion': 1, 'cousr': 1, 'cappillari': 1, 'linizolid': 1, 'sinusitu': 1, 'actic': 1, 'norva': 1, 'pickat': 1, 'rtr': 1, 'isopa': 1, 'phoc': 1, 'abraiooon': 1, 'suctionedd': 1, 'visciou': 3, 'allvyn': 1, 'upperextrim': 1, 'envrion': 1, 'scopalimin': 4, 'antihtn': 4, 'scop': 1, 'meteprolol': 1, 'scl': 6, 'whixh': 1, '^o': 1, 'rezero': 1, 'buttiock': 1, 'impov': 3, 'svl': 1, 'orderedsx': 1, 'extriem': 1, 'restrait': 1, 'froom': 1, 'evrs': 1, 'aspt': 1, 'airay': 1, 'witg': 1, 'witwh': 1, 'attemtp': 3, 'elav': 4, 'careiew': 1, 'rsba': 1, 'paion': 1, 'nutran': 1, 'deuoderm': 1, 'encorag': 1, 'dne': 1, 'chiar': 2, 'unchag': 9, 'unersid': 1, 'ausculat': 1, 'significat': 1, 'repit': 1, 'mond': 2, 'saccrum': 1, 'maagnesium': 1, 'albuterolq': 1, 'asprat': 1, 'diffcult': 1, 'recalibr': 3, 'buttck': 1, 'chack': 3, 'scolapamin': 1, 'pipracillin': 1, 'willfrequ': 1, 'ewn': 1, 'alkilosi': 1, 'scapolamin': 1, 'vai': 1, 'coares': 1, 'scoplamin': 1, 'aalevyn': 1, 'postcholecystectomi': 1, 'uppon': 1, 'flusi': 1, 'assessori': 1, 'feend': 1, 'difiiculti': 1, 'curer': 1, 'diliazem': 1, 'unir': 1, 'lorazapam': 6, 'outbreak': 1, 'fiv': 1, 'deg': 6, 'concret': 1, 'bronchopulmonari': 6, 'rlp': 1, 'mainitain': 1, 'comofort': 1, 'movingg': 1, 'distr': 3, 'stuck': 14, 'aggrev': 1, 'mot': 1, 'recoop': 1, 'satrt': 2, 'asphagia': 1, 'plsnned': 1, 'cefitim': 1, 'degress': 3, 'interspac': 4, 'effert': 1, 'unablt': 2, 'aloevesta': 5, 'levoquen': 1, 'tickl': 1, 'difficultyl': 1, 'trrach': 1, 'subsequnt': 1, 'thoraciuc': 1, 'weanec': 1, 'trapez': 1, 'tibe': 1, 'perfer': 1, 'deficiet': 2, 'dialsysi': 1, 'guiack': 1, 'brea': 1, 'acidiosi': 1, 'ammount': 4, 'extrememli': 3, 'perscrib': 2, 'fpr': 5, \"'puff\": 1, 'goa': 1, 'maintanc': 3, 'graviiti': 1, \"did'nt\": 1, 'haparin': 1, 'nillson': 1, 'reassuanc': 1, 'mcourtney': 1, 'stuf': 4, '^act': 1, 'inserted': 1, 'trxfer': 1, 'aslong': 1, 'staight': 1, 'bless': 1, 'perocoet': 1, 'opium': 1, 'plcaement': 1, 'straightcath': 1, 'olanzpin': 1, 'acebutolol': 1, 'perinum': 1, 'hypersomul': 1, 'decidec': 1, 'collor': 1, 'toleart': 1, 'ovomit': 1, 'minitor': 2, 'ischeam': 1, 'withtranspar': 1, 'banaa': 1, 'dialyisi': 1, 'trsch': 1, 'liqiud': 2, 'plac': 3, 'assiss': 1, 'mea': 2, 'albimin': 1, 'decres': 7, 'sponatn': 2, 'nea': 1, 'llllung': 1, '^emot': 1, 'hospial': 1, 'steristip': 1, 'palpibl': 5, 'tinctur': 1, 'mcgkgmin': 1, 'permacath': 1, 'toiletri': 1, 'infusu': 1, 'dimidnsh': 1, 'smaill': 1, 'tolet': 1, 'diarrh': 1, 'ectpoy': 1, 'spiritu': 3, 'ddto': 1, 'tononc': 1, 'occassin': 1, 'thik': 1, 'jejunostomi': 7, 'bilaterr': 1, 'vitla': 1, 'sucton': 1, 'brachialend': 1, 'boast': 1, 'axieti': 3, 'crrt': 7, 'dilaudud': 1, 'normotherm': 6, 'mushi': 1, 'ectopii': 1, '^tf': 1, 'sudsid': 1, 'sputur': 1, 'propafenon': 2, 'quiton': 1, 'petamen': 1, 'passmuir': 1, 'leisur': 1, 'dto': 2, 'cvvhdf': 4, 'increase': 1, 'cardiothorac': 6, 'edemad': 1, 'flowshhet': 1, 'placedin': 2, 'oaao': 1, 'ssci': 1, 'aletern': 1, 'refrig': 1, 'nonheal': 2, 'unheal': 1, 'ptfe': 1, 'kiebasella': 1, 'profunda': 1, 'pvr': 2, 'globabl': 1, 'tma': 2, 'seg': 4, 'bk': 3, 'amput': 4, 'tpt': 1, 'femori': 1, 'sgl': 2, 'au': 3, 'asst': 2, 'morhpin': 3, 'ukp': 1, 'npt': 1, 'metab': 1, 'thoraci': 2, 'subcutaneu': 1, 'dge': 1, 'awr': 1, \"'nd\": 1, 'singlesemi': 1, 'hemodyalysi': 1, 'parafalcin': 1, 'ascrib': 2, 'shine': 1, 'hug': 1, 'prviou': 1, 'radiata': 1, 'corona': 1, 'nucleu': 3, 'bolusu': 1, 'retrocardiacli': 1, 'interhemispher': 1, 'carevur': 1, 'restrin': 2, 'ea': 6, 'accu': 1, 'respiron': 1, 'road': 2, 'mal': 3, 'fasi': 1, 'tampan': 1, 'farsi': 3, 'toleratig': 1, 'usn': 1, 'shockfev': 1, 'cheeck': 1, 'phsical': 1, 'vare': 2, 'fer': 2, 'pmin': 2, 'tug': 4, 'progrss': 1, 'bloodsugar': 2, 'alkylosi': 5, 'dieures': 1, 'plant': 3, 'esophog': 5, 'infraobliqu': 1, 'tracheoesophag': 2, 'preseent': 1, 'peristalt': 3, 'pnumothorax': 2, 'retrostern': 2, 'tachyracdia': 1, 'iposit': 1, 'doea': 1, 'jibberish': 2, 'humung': 1, 'frer': 1, 'prioir': 1, 'antibioyc': 1, 'yesterda': 2, 'ffrequent': 1, 'ragtim': 1, 'meropenium': 2, 'tremour': 1, 'sqllow': 1, 'comaprison': 1, 'myoton': 1, 'dyphagia': 1, 'pear': 2, 'levc': 1, 'promptli': 6, 'esophagoesophag': 1, 'dystrophi': 1, 'rat': 1, 'tirtat': 1, 'atrv': 1, 'involuntarili': 1, 'fexis': 2, 'copnsolid': 1, 'sandpap': 1, 'breth': 2, 'oxocodon': 1, 'osteomeat': 1, 'inflt': 1, 'haustral': 1, 'samal': 2, 'inreliev': 1, 'inprov': 3, 'wosren': 1, 'antilordot': 1, 'curlix': 1, 'haad': 1, 'shrug': 2, 'plegia': 1, 'acha': 1, 'oncal': 2, 'razor': 2, 'halo': 3, 'andat': 1, 'oprogrss': 1, 'stooper': 1, 'fenantyl': 2, 'bode': 1, 'reation': 1, 'bedid': 1, 'possibilti': 3, 'phenylenphrin': 1, 'kinaid': 1, 'rescreend': 1, 'asess': 5, 'mucamyst': 1, 'soical': 1, 'librium': 1, 'rese': 1, 'toth': 1, 'mediastern': 1, 'diconnect': 1, 'bronchiol': 14, 'transbronchoscop': 1, 'dta': 1, 'pntx': 2, 'sweet': 2, 'intiait': 1, 'orag': 1, 'focla': 1, 'decreasinbg': 1, 'polic': 3, 'tampondad': 1, 'leuckocytosi': 2, 'oth': 2, 'autodiruesi': 1, 'xday': 1, 'sclca': 2, 'hemoptosi': 1, 'freew': 1, 'nonischem': 2, 'inpout': 1, 'extremitiy': 2, 'braos': 1, 'icnreas': 1, 'scotch': 2, 'sclc': 5, 'diaseas': 1, 'wallsx': 1, 'yestareday': 1, 'patientno': 13, 'strroid': 1, 'lactualos': 1, 'proven': 4, 'subsuuent': 1, 'ctube': 3, 'pneuthorax': 1, 'drainagedecreas': 1, 'xfer': 1, 'hyperacut': 1, 'spescif': 1, 'sca': 1, 'ib': 6, 'imrpov': 2, 'hiatel': 2, 'compound': 9, 'imporv': 5, 'stavudin': 2, '^st': 19, 'pathog': 1, 'cahin': 1, 'discogen': 1, 'turbul': 1, 'indinavir': 1, 'bleb': 5, 'indol': 3, 'abnl': 8, 'conu': 6, 'dbili': 3, 'heartburn': 6, 'throu': 1, 'tricycl': 1, 'diarrheal': 1, 'suprapatellar': 5, 'eopgen': 1, 'strap': 4, 'weightbear': 1, 'retropuls': 8, 'assymetri': 1, 'intermedi': 12, 'preliminarili': 4, 'ileocec': 1, 'mandibular': 2, 'ritonavir': 5, 'tprot': 3, 'thermal': 1, 'reconsid': 5, 'coagulas': 6, 'hypopigment': 1, 'psuedoaneurysm': 1, 'activitu': 1, 'fasciiti': 2, 'visa': 2, 'entiti': 3, 'cholic': 1, 'lipodystrophi': 1, 'menig': 1, 'remaov': 1, 'anmd': 1, 'ling': 1, 'retinpathi': 1, 'interpolar': 11, 'fianc': 6, 'diazoxid': 1, 'genotyp': 4, 'someh': 1, 'previousnot': 1, 'willl': 5, 'replic': 1, 'fascit': 1, 'questionn': 1, 'gynecomastia': 4, 'cubit': 2, 'spondylot': 2, 'althou': 1, 'sym': 5, 'trigemin': 4, 'heroin': 4, 'tricyc': 2, 'etcc': 1, 'appaear': 1, 'gif': 7, 'changesd': 1, 'undect': 1, 'scrrene': 1, 'mlkb': 9, 'circumcis': 2, 'shouder': 1, 'lamivudin': 5, 'polypoid': 2, 'maroonish': 1, 'assay': 11, 'lifespan': 1, 'dystroph': 4, 'gordona': 1, 'saccular': 1, 'forumulari': 1, 'hb': 10, 'scution': 3, 'masl': 1, 'bllede': 1, 'adenoviru': 2, 'intubaton': 2, 'startedc': 2, 'guerney': 1, 'equilibr': 2, 'opportun': 2, 'grandgtr': 1, 'miracl': 1, 'grandgaught': 1, 'buck': 4, 'secrtet': 1, \"suxn'\": 1, 'tunr': 1, 'methi': 1, 'tracehostomi': 1, 'vulva': 1, 'eletrolyt': 1, 'conton': 1, 'closest': 1, 'stg': 6, 'uli': 1, 'eletroly': 1, 'aplast': 1, 'rb': 2, 'hemarroid': 1, 'tolwel': 1, 'ofobvi': 1, 'desitin': 2, 'tolerar': 1, 'corrol': 1, 'sust': 1, 'nursung': 1, 'cariopulmonari': 1, 'expiratoy': 1, 'chafen': 1, 'vaso': 5, \"movm't\": 1, 'granddtr': 1, 'recommedn': 2, 'trachealmalasia': 1, 'mck': 4, 'goalrateof': 1, 'pplacement': 1, 'acq': 1, 'hctand': 1, 'mount': 3, 'telephonn': 1, 'profofol': 2, 'alkolot': 2, 'ressrp': 1, 'moraxella': 3, 'vitasl': 1, 'clx': 9, 'admissionon': 1, 'immunocomprimis': 1, 'nidu': 4, 'myositi': 2, 'biplan': 1, 'fav': 1, 'nifedipem': 1, 'auotdiures': 1, 'archiv': 2, 'sirolum': 1, 'nonishcem': 1, 'nutmeg': 1, 'silhouette': 1, 'succin': 3, 'pmb': 3, 'gttt': 1, 'nupren': 2, 'epoetin': 3, 'csv': 2, 'hazard': 2, 'rdw': 6, 'zozyn': 6, 'bidirect': 1, 'zemplar': 1, 'caridogen': 1, 'lassix': 1, 'cateth': 1, 'hepatopathi': 3, 'daugher': 3, 'retic': 12, 'interdepend': 2, 'sirolimu': 1, 'qmowefr': 1, 'alfa': 3, 'fluctat': 1, 'fibromat': 1, 'groln': 1, 'passmuy': 1, 'drawback': 2, 'apli': 2, 'upddat': 1, 'insuffal': 1, 'suffil': 1, 'obt': 3, 'passeymu': 1, 'pvl': 2, 'neget': 1, 'extremetiew': 1, 'coctail': 1, 'titratd': 1, 'extem': 5, 'whezz': 2, 'insul': 3, 'pseudoseizur': 2, 'aspiratoin': 1, 'smart': 1, 'puv': 1, 'calmli': 2, 'antibio': 2, 'spaud': 1, 'giav': 1, 'inspect': 8, 'dilant': 1, 'cathetr': 2, '^e': 1, 'eleva': 3, 'pot': 3, 'stime': 1, 'multinodular': 2, 'autodiuresis': 1, 'albeterol': 1, 'popcycl': 1, 'rehydr': 6, 'tfor': 2, 'desmopresson': 1, 'stepfath': 1, 'tracheostoni': 2, 'mg^ed': 1, 'pane': 3, 'detach': 4, 'genral': 1, 'recievieng': 1, 'ambung': 1, 'inexsuffl': 5, 'wofran': 1, 'vale': 1, 'ddvap': 1, 'stron': 1, 'burp': 3, 'antib': 3, 'mouthdisplay': 1, 'aerosl': 1, 'exsuffol': 1, 'fluccuat': 1, \"ok'\": 1, 'ecotopi': 1, 'paln': 2, 'axia': 1, 'asl': 2, 'cricopharyngeu': 1, 'suffic': 1, 'somtim': 1, 'wasplac': 1, 'cefedipin': 1, 'reload': 2, 'sphere': 1, 'exsuffal': 1, 'fater': 1, 'venapunctur': 1, 'gii': 1, 'suffol': 1, 'disappoint': 1, 'freqenc': 1, '^ed': 1, 'insipid': 1, 'diabeti': 2, 'ensuffolat': 1, 'protest': 1, 'solidli': 1, 'guven': 1, 'glugocaon': 1, 'smll': 1, 'impr': 1, 'incred': 1, 'tacki': 2, 'abotu': 1, 'tkvo': 1, 'american': 2, 'lunchtim': 4, 'syndom': 2, 'thrghoutht': 1, 'secretiosn': 2, 'inex': 1, 'sadden': 1, 'percussor': 1, 'dismiss': 1, 'rc': 3, 'diuresisng': 3, 'popsicl': 2, 'insuffil': 1, 'destatur': 1, 'dangers': 1, 'incas': 2, 'acc': 3, 'varianc': 2, 'conuslt': 1, 'ivpush': 1, 'rpotocol': 1, 'lnl': 1, 'omlet': 1, 'adequitli': 1, 'proplem': 1, 'olh': 1, 'nonengorg': 1, 'anwer': 1, 'lliquid': 2, 'everyon': 5, 'imagin': 4, 'pancreasruq': 1, 'conglomer': 5, 'parahilar': 2, 'steoroid': 2, 'hotel': 3, 'clap': 3, 'requier': 4, 'methicillin': 2, 'encoourag': 1, 'ethanol': 5, 'flov': 1, 'healh': 1, 'soda': 2, 'sensor': 1, 'sensic': 1, 'drane': 1, 'casu': 2, 'spech': 1, 'ducclox': 1, 'aspiratioin': 1, 'swithch': 1, 'glargen': 2, 'foward': 1, 'previoui': 1, 'seation': 3, 'surgey': 1, 'ptcont': 1, 'newer': 4, 'asist': 1, 'sucstion': 1, 'outdat': 4, 'secreaton': 1, 'excersis': 2, 'prurit': 3, 'phenasept': 1, 'increament': 1, 'upperback': 1, 'admissison': 1, 'creatinint': 1, 'oxazepam': 1, 'ltye': 2, 'otoscop': 1, 'cess': 1, 'hemidiaphram': 2, 'market': 1, 'bronchiectat': 1, 'placeon': 1, 'mechanci': 1, 'eefect': 1, 'enew': 1, 'intermitta': 1, 'lenghthi': 1, 'smudg': 3, 'lontgstand': 1, 'ambival': 1, 'tital': 3, 'earach': 2, 'yankhaur': 1, 'toknow': 1, 'pullmomnari': 1, 'monohydr': 6, 'camphor': 1, \"'expand\": 1, 'urean': 1, 'falur': 1, \"'lhbi\": 1, 'cortisporin': 2, 'allergist': 2, 'neomi': 2, 'aado': 1, 'caltco': 1, 'insertedl': 1, 'romi': 18, 'xs': 4, 'anguin': 1, \"'lgbc\": 1, 'patientciprofloxacin': 1, 'baso': 1, 'sting': 3, 'mchc': 1, 'polymyx': 2, 'monteleukast': 2, 'cephalexin': 9, 'rvsp': 2, \"'lhbc\": 1, 'albuteroliprtropium': 1, 'menthol': 1, \"'lcba\": 1, 'myelo': 4, 'angap': 1, 'noninvasii': 1, 'intuba': 1, 'amberin': 1, 'occasin': 1, 'bilbasilar': 1, 'aptt': 1, 'plcment': 1, 'nasopharyg': 1, 'irradi': 2, 'regurgi': 2, 'elucid': 1, 'defienc': 1, 'mibi': 2, 'entertain': 1, 'legionnella': 1, 'tiotropim': 1, 'prophi': 6, 'haa': 2, 'tetanu': 5, 'barrel': 1, 'scleral': 31, 'hepatosplenomegali': 3, 'alsogoign': 1, 'vasospasm': 2, 'consiult': 1, 'fluctuanc': 4, 'axithro': 1, 'dysphag': 2, 'entrain': 2, 'cptq': 1, 'bno': 3, 'inappropiatli': 1, 'interc': 1, 'lathrgic': 1, 'seret': 3, 'potato': 4, 'cefepimin': 1, 'pancak': 2, 'dependend': 1, 'brochomalacia': 1, 'incenet': 1, 'gravi': 2, 'compromsi': 1, 'cvvhd': 8, 'demin': 1, 'pleasnt': 1, 'shoe': 2, 'hemodiaysi': 1, 'willcont': 1, 'unwrap': 1, 'expcept': 1, 'hypercoagul': 2, 'colonographi': 1, 'withn': 1, 'nebulizor': 1, 'hearp': 1, 'malignan': 1, 'dialter': 1, 'reader': 1, 'marigin': 1, 'fludrocort': 1, 'glucophag': 1, 'forgett': 1, 'glugophag': 1, 'faciltiy': 2, 'tochair': 1, 'amilodipin': 1, 'homicid': 1, 'firsttwo': 1, 'goodpastur': 2, 'proteas': 2, 'ivt': 5, 'percocett': 2, 'pancreas': 1, 'wkd': 1, 'menstral': 1, 'nsip': 8, 'weeenkd': 1, 'fbg': 1, 'azetronam': 2, 'menstrual': 3, 'streptococcu': 5, 'antihypertensiveslisinopril': 1, 'hall': 2, 'oxymetri': 1, 'oop': 3, 'aip': 3, 'crytogen': 1, 'dlpicc': 2, 'spurriou': 1, 'aep': 2, 'chlamydia': 3, 'contam': 2, 'rheum': 8, '^level': 1, 'hematurea': 1, 'sucess': 5, 'oon': 2, 'ponder': 1, 'hemorrag': 3, 'compla': 1, 'drssg': 2, 'rsing': 1, 'intract': 2, 'blkt': 1, 'requird': 1, 'resend': 15, 'inadvertant': 1, 'prostesi': 1, 'extremley': 1, 'caraf': 7, 'natrocor': 1, 'ttube': 1, 'gester': 2, 'game': 2, 'chenyn': 1, 'famuli': 2, 'coucgh': 1, 'ecter': 1, 'mint': 1, 'maxiaml': 1, 'antienxitey': 1, 'gather': 2, 'captorpril': 1, 'headphon': 1, 'uncap': 1, 'rect': 1, 'meclazin': 1, 'dressin': 2, 'tring': 1, \"'avb\": 1, 'blledi': 1, 'lookig': 1, 'meripenum': 1, 'drawer': 1, 'draninag': 1, 'merpenum': 1, 'rink': 1, 'pointintg': 1, 'goosebump': 1, 'heve': 2, 'suport': 2, 'ist': 2, 'ditropan': 4, 'fluconozol': 2, 'addhes': 1, 'pleueral': 1, 'mrsp': 1, 'reccurr': 1, \"dc'ing\": 2, 'wll': 3, 'perviou': 1, 'resparol': 1, 'carafatefoley': 1, 'opiod': 3, 'perenium': 1, 'sevral': 1, 'ta': 2, 'meatu': 3, 'cathert': 2, 'allcyn': 1, 'hemoptasi': 2, 'vgb': 1, 'hypxic': 1, 'nightcloth': 1, 'distendedw': 1, 'miripenim': 1, 'tremend': 2, 'walkman': 1, 'nitrostat': 1, 'chift': 1, 'respelor': 1, 'suxtion': 1, 'meripeneum': 1, 'unwean': 1, 'ifo': 1, 'survelli': 2, 'bbr': 5, 'approri': 1, 'chr': 3, 'freg': 2, 'hemehct': 1, 'fole': 2, 'mortal': 5, 'knowm': 2, 'alklos': 1, 'restlessn': 2, 'regur': 1, '^^secret': 1, 'deconditon': 1, 'uvolem': 2, 'ultrfiltr': 1, 'resuslt': 1, 'resplar': 1, 'appripri': 1, 'meclizin': 2, 'surgergi': 1, 'duahgter': 1, 'reepitheal': 1, 'usal': 1, 'recollect': 3, 'secrition': 1, 'thouroughli': 1, 'ovb': 1, 'potect': 1, 'subcl': 2, 'pseodomona': 1, 'propens': 3, 'lisonopril': 1, 'respik': 7, \"stool'\": 1, 'weanin': 2, 'bigem': 1, 'diursi': 3, 'rith': 2, 'benefici': 9, 'laxi': 1, 'asympt': 1, 'infom': 1, 'tot': 4, 'halidol': 1, 'dlc': 1, 'dogoxin': 1, 'tz': 3, 'pnuemo': 2, 'narc': 4, 'coarsw': 1, 'nostool': 2, 'antivert': 1, 'morepenum': 1, 'ocntinu': 1, 'zaroxylyn': 1, 'stomachach': 1, 'feisti': 1, 'hypoxiaun': 1, 'availibilti': 1, 'growin': 2, 'davb': 1, 'kphosphat': 1, 'odrer': 1, 'untifung': 1, 'dopral': 1, 'pwdr': 2, 'rtn': 1, 'suctioni': 1, 'remaim': 1, 'frequant': 1, 'oneumo': 1, 'explanant': 1, 'bcsn': 1, 'afm': 2, 'encephalomalat': 1, 'leas': 1, 'unsettl': 2, 'vivid': 1, 'serousang': 1, 'erffect': 1, 'statr': 1, 'cellular': 10, 'llopressor': 1, 'cxarevu': 1, 'peridcardi': 1, 'mmdri': 1, 'cellulit': 1, 'purpur': 1, 'aocd': 1, 'sss': 2, 'mismatch': 5, 'unifi': 2, 'terazosin': 3, 'echymosi': 1, 'cholan': 1, 'mlhh': 4, 'trp': 1, 'accd': 1, 'hemptysi': 1, 'disrepair': 1, 'fibe': 1, 'ppain': 1, 'proccedur': 1, 'clumsi': 2, 'countri': 2, 'agitaiton': 1, 'cost': 1, 'atternoy': 1, \"examination'\": 1, 'dlrc': 10, 'cylindr': 2, 'pseudolymphoma': 1, 'bronchogen': 1, 'statist': 2, 'beginng': 1, 'aaax': 1, 'fidgit': 1, 'signfic': 8, 'throacotomi': 2, 'fool': 1, 'thoractomi': 3, 'uncertainti': 1, 'childhood': 6, 'cinch': 1, 'mjmgb': 4, 'muscou': 1, 'applu': 1, 'mh': 4, 'bread': 1, 'unplan': 1, 'oupt': 3, 'constel': 6, 'curtain': 1, 'ppv': 5, 'candidt': 1, 'paraoxysm': 2, 'thoracenteisi': 1, 'buspar': 1, 'sned': 1, 'raaya': 1, 'atelectesi': 3, 'continueto': 2, 'inbetween': 4, 'hyperlipedemia': 1, 'risperidol': 2, 'eunatrem': 1, 'lipoma': 3, 'wirst': 1, 'pitcher': 1, 'contributor': 9, 'isosorbitr': 1, 'hypernatreamia': 1, 'hgh': 1, 'bka': 2, 'iiia': 1, 'lbka': 1, 'necessar': 1, 'converas': 1, 'interlobar': 3, 'epigatrium': 1, 'angioma': 1, 'perpendicular': 1, 'msiv': 1, 'replat': 2, 'jkang': 2, 'rifaximin': 6, 'lusb': 5, 'eoimi': 1, 'hepatolog': 10, 'paraumbil': 2, 'eighth': 3, 'discoveri': 9, 'lactolos': 3, 'hypona': 2, 'unresect': 2, 'brcm': 1, 'esld': 6, 'ingrowth': 2, 'opioid': 5, 'avitan': 1, 'factori': 3, 'fulmin': 1, 'managemnt': 1, 'spider': 1, 'hepatocellular': 2, 'forcibl': 1, 'ibratroprium': 1, 'actor': 1, 'boluss': 2, 'myeloprolif': 1, 'improvemet': 2, 'enal': 1, 'pylonephr': 2, 'viscos': 1, 'hyperviscous': 1, 'fracutur': 1, 'crystaluria': 1, 'duplic': 6, 'sown': 2, \"abx'\": 2, 'neh': 1, 'forthi': 1, 'endarterectomi': 2, 'throughoutshift': 1, 'sedment': 1, 'aidc': 1, 'icecream': 5, 'ecreas': 1, 'pinch': 2, 'givensec': 1, 'punct': 1, 'hydralasin': 1, 'purrul': 1, 'chondroid': 1, 'gor': 1, 'ressist': 1, 'badli': 1, 'nivv': 1, 'swear': 3, 'pivsx': 1, 'vascil': 1, 'caors': 1, 'gliburid': 1, 'sxth': 1, 'secretioin': 3, 'sf': 4, 'plced': 1, 'rh': 7, 'craiotomi': 1, 'enchondroma': 3, 'proectiv': 1, 'hypercabnia': 1, 'epoc': 1, 'rightarm': 1, 'noncalcifi': 2, 'blackhead': 1, 'yeloow': 1, 'recordrd': 1, 'born': 2, 'duodenojejun': 1, 'ipmt': 1, 'supraren': 1, 'nipb': 1, 'diffusley': 1, 'cranio': 1, 'intussuscept': 3, 'decdreas': 1, 'peform': 2, 'multisequ': 8, 'rage': 9, 'interrog': 7, 'dest': 1, 'airbourn': 1, 'phenergan': 3, 'doxcyclin': 1, 'micanazol': 1, 'liqid': 1, 'restles': 1, 'ceffus': 1, 'negativev': 1, 'slojw': 1, 'properlli': 1, 'racem': 4, 'rctest': 1, 'heavier': 1, 'overnth': 1, 'trash': 1, 'follwo': 2, 'peripneumon': 1, 'signifig': 1, 'crepet': 1, 'drainiag': 1, 'indwell': 1, 'earlli': 1, 'continy': 1, 'rescusit': 3, 'colchicin': 3, 'dysnpea': 2, 'ivcd': 2, 'cardiovascularno': 1, 'cocktail': 1, 'dti': 1, 'avuls': 4, 'hypointes': 1, 'diaphysi': 1, 'nondisplac': 6, 'globular': 2, 'hemmorahg': 1, 'tricompart': 1, 'creol': 2, 'enthesophyt': 1, 'quadricep': 1, 'patella': 4, 'ganglion': 1, 'fave': 1, 'zithromycin': 1, 'guaifenesen': 1, 'sleepfor': 1, 'calvarium': 4, 'calyc': 1, 'postobstruct': 10, 'infiltra': 2, 'peridiaphragmat': 1, 'vasogen': 2, 'extrapleur': 2, 'pma': 2, 'thinnest': 1, 'opthamolog': 1, 'lact': 4, 'decread': 1, 'pantaprazol': 1, 'insuf': 1, 'sequal': 2, 'assessmend': 1, 'bidmcon': 1, \"mae'\": 1, 'ordeal': 1, 'hypoalbumenia': 1, 'grandual': 1, 'carinii': 7, 'ptesent': 1, 'hse': 3, 'delic': 1, 'ganciclovir': 3, 'hypoxiaclin': 1, 'swellin': 1, 'watermelon': 1, 'almond': 1, 'aroiund': 1, 'precardiovers': 2, 'lpv': 1, 'rpv': 1, 'hepatofug': 2, 'mhv': 1, 'rhv': 1, 'mpv': 1, 'denot': 1, 'notepad': 1, 'tonsil': 2, 'streptokinas': 1, 'ampulla': 2, 'dropplet': 1, 'atg': 1, 'previu': 1, 'contor': 1, 'sulph': 1, 'posaconazol': 2, 'sultat': 1, 'nassal': 1, 'aspitar': 1, 'carvadlol': 1, 'proconazol': 1, 'antireject': 2, 'tigh': 1, 'inseretd': 1, 'k^': 1, 'irriat': 1, 'mucor': 1, 'accordac': 1, 'rfoley': 1, 'pocasonazol': 1, 'dmii': 10, 'dminish': 1, 'valganciclovir': 3, 'lrrt': 1, 'extert': 1, 'curc': 1, 'isthmu': 1, 'manouev': 1, 'formul': 4, 'brop': 1, 'absprption': 1, 'rhoncii': 1, 'subclavien': 2, 'leumen': 1, 'retart': 2, 'ofth': 1, 'hemocult': 1, 'triadym': 1, 'tricki': 2, 'rifazimin': 1, 'culur': 1, 'qolden': 1, 'heparina': 1, 'oxygentaion': 1, 'fryiabl': 1, 'realtim': 2, 'loke': 1, 'osteochondr': 1, 'eso': 3, 'survil': 1, 'tonu': 1, 'dessican': 1, 'esopag': 1, 'diaphram': 2, 'overdistens': 1, 'tacypnea': 4, 'wart': 1, 'threadi': 1, 'afor': 1, 'incontact': 1, 'rif': 1, 'cehal': 1, 'discus': 1, 'tback': 1, 'volatg': 1, 'aft': 2, 'doubbl': 1, 'glide': 1, 'umbilicu': 3, 'thime': 1, 'replinish': 1, 'dn': 1, 'sytol': 1, 'auxilliari': 1, 'htnsive': 2, 'recriut': 1, 'fantanyl': 1, \"cx'd\": 2, 'disign': 1, 'phianc': 1, 'hydrothorax': 3, 'aldoacton': 1, 'sxi': 1, 'placec': 1, 'triodyn': 1, 'incompat': 3, 'vassopressin': 3, 'necc': 1, 'cherri': 1, 'neomycin': 1, 'skikn': 1, 'possbili': 1, '^resiudu': 1, 'pencil': 2, 'tbc': 1, 'contrinu': 1, 'aggiat': 2, 'cahtet': 1, 'mucousa': 1, 'quardant': 1, 'ks': 9, 'antiphospolipid': 1, 'diarreha': 1, 'symm': 1, 'metnal': 2, 'devleop': 1, 'jail': 2, 'synd': 1, 'sensorium': 2, 'coranari': 1, 'macro': 5, 'intercours': 1, 'shoiwng': 1, 'crypto': 5, 'preacaut': 1, 'cytarabin': 1, 'rhonchronu': 1, 'adrenerg': 3, 'atovaquon': 2, 'cardiomypathi': 1, 'phospholipid': 2, 'atleast': 3, 'broncheictasi': 2, 'heterosexu': 1, 'yankeaur': 1, 'aspergilli': 2, 'bronchietesi': 1, 'zidovudin': 1, 'antiphsopholid': 1, 'exterm': 2, 'interuppt': 1, 'tmof': 1, 'nro': 1, 'suppliment': 7, 'idarubicin': 1, 'hypervolemia': 5, 'indipendantli': 1, 'oi': 1, 'admisison': 3, 'toxo': 5, 'biapsi': 1, 'gp': 5, 'repat': 1, 'bitten': 2, 'aztreo': 1, 'leukopenia': 11, 'histo': 4, 'amikcain': 1, 'coccido': 1, 'bia': 6, 'atid': 1, 'primaquin': 6, 'withheld': 4, 'obrain': 1, 'ardsnet': 12, 'botharm': 1, 'diuures': 1, 'elyt': 2, 'gastropathi': 1, 'meastu': 1, 'laisix': 2, 'secreiotn': 1, 'hyperna': 3, 'rhonic': 1, 'susc': 1, 'thash': 2, 'signficantli': 3, 'paresthesia': 2, 'hematur': 1, 'additiion': 1, 'parvo': 1, 'edu': 4, 'gcsf': 3, 'rifaxamin': 2, 'blasto': 1, 'neupogen': 5, 'extremeluy': 1, 'shld': 2, 'lumbosacr': 4, 'predominantley': 1, 'bromnchscopsi': 1, 'lactulso': 1, 'azathioprin': 4, 'fw': 6, 'toxicit': 1, 'haldo': 3, 'urethr': 5, 'rectovesicular': 1, 'thickenen': 1, 'lenal': 1, 'celaxa': 1, 'pleasur': 3, 'gentamycin': 6, 'cytopenia': 3, 'cand': 1, 'fungitel': 1, 'bunni': 1, 'shldr': 3, 'tsay': 1, 'interestingli': 4, 'attdg': 1, 'subset': 2, 'follolw': 1, 'blastomycosi': 1, 'doxyclin': 1, 'aztrenonam': 1, 'tularemia': 1, 'breathi': 3, 'doss': 9, 'coccidio': 1, 'essentiali': 1, 'equabr': 1, 'antibid': 3, 'erythemia': 1, 'respositiong': 1, 'setttl': 1, 'regualt': 1, 'diiuresi': 1, 'areteri': 1, 'ig': 6, 'sightli': 1, 'volit': 5, 'acetazolamid': 14, 'azostrenam': 1, 'proxial': 1, 'hematura': 2, 'spp': 4, 'episiod': 1, 'suger': 2, 'ebl': 1, 'atavan': 1, 'lamintectomi': 1, 'biba': 3, 'mevacor': 1, 'reced': 2, 'vando': 1, 'lovastatin': 2, 'xblood': 1, 'nil': 4, 'pilmonari': 2, 'proceduro': 1, 'orthoped': 2, 'backpain': 3, 'tpiec': 1, 'onn': 1, 'challang': 1, 'nonetheless': 2, 'duir': 2, 'ckr': 1, 'appendectomi': 6, 'negati': 1, 'atibiot': 2, 'ceart': 1, 'anxiuo': 3, 'bacterimia': 2, 'tmep': 1, 'levoflaxin': 1, 'withwbc': 1, 'obv': 4, 'reacat': 1, 'costochodr': 1, 'cear': 1, 'suppost': 3, 'cefopim': 5, 'yesterdat': 1, 'surther': 1, 'swelll': 1, 'quadroplegia': 1, 'oxcycodn': 1, 'vigour': 3, 'season': 5, 'wtd': 1, 'expectoart': 1, 'tibiali': 3, 'tcl': 2, 'endrocrin': 1, 'decubit': 3, 'ntsx': 2, 'approprit': 1, 'intracrania': 2, 'foey': 1, 'pharang': 1, 'gdi': 1, 'intergr': 2, 'gelaten': 1, 'reenter': 2, 'gluet': 1, 'reportsd': 1, 'occupi': 6, 'paracardium': 1, 'resultsar': 1, 'atrovnet': 2, 'transitori': 1, 'rej': 2, 'sale': 1, 'aelrt': 1, 'seatbelt': 1, 'moth': 2, \"mie'\": 1, 'desatsur': 1, 'eom': 8, 'brochoscopi': 1, 'uncahang': 1, 'gatorad': 1, 'claustraphobia': 1, 'qustion': 1, 'rin': 1, 'dad': 5, 'hyoid': 1, 'sling': 6, 'aerstion': 1, 'genuin': 1, 'dimiinsh': 1, 'scvo': 3, 'altough': 1, 'deserv': 1, 'sbd': 1, 'itnub': 1, 'comiv': 2, 'rhythym': 3, 'mf': 3, 'positiv': 1, 'tortur': 1, 'chemic': 7, 'liquig': 1, 'cdv': 1, 'crampi': 4, 'lousi': 2, 'relfex': 1, 'abtibiot': 1, 'egophani': 4, 'dsrg': 1, 'spect': 3, 'laft': 1, 'extubatiuon': 1, 'colligenas': 1, 'stokea': 1, 'concolid': 1, 'granchildren': 1, 'grandfath': 2, 'damper': 1, 'opein': 1, 'frquent': 1, 'intubatioin': 1, 'perhilar': 1, 'threshhold': 2, 'reslult': 1, 'zpt': 1, 'tropl': 1, 'copuld': 1, 'subtherapeurt': 1, 'stringlik': 1, \"'cheyn\": 1, 'tropic': 1, 'bathtub': 1, 'cevic': 1, 'fridg': 2, 'slx': 1, 'cxt': 1, 'nitika': 1, 'director': 3, 'imipenim': 1, 'hydrazlin': 1, 'lag': 3, 'broccoli': 1, 'nasoenter': 5, 'anterolithesi': 1, 'ridig': 1, 'dope': 1, 'admitt': 3, 'niphedipin': 2, 'ectoppi': 1, 'vido': 1, 'ginen': 1, 'impinenum': 1, 'pneumothorx': 1, 'listhesi': 2, 'schiziod': 1, 'ispok': 1, 'yea': 2, 'phrenic': 3, 'overflow': 3, 'imipenemen': 1, 'placer': 1, 'intqact': 1, 'nipedipin': 1, 'grate': 1, 'removen': 1, 'warter': 1, 'isminim': 1, 'physcian': 1, 'presenti': 1, 'encapsul': 1, 'retrolisthesi': 3, 'perifissur': 2, 'particl': 3, 'efffus': 2, 'administrationg': 1, 'divertucul': 1, 'evaluat': 2, 'sveral': 1, 'rnging': 1, 'qestion': 1, 'acord': 1, 'psorasi': 1, 'forlab': 1, 'obstracion': 1, 'verapmil': 1, 'flatulos': 1, 'echymot': 2, 'ecymot': 1, 'serquoel': 1, 'atria': 5, 'exers': 1, 'lee': 1, 'osteoblast': 3, 'invol': 1, 'klc': 1, 'ddsg': 1, 'surig': 1, 'xiphoid': 1, 'tharapi': 1, 'lactuloc': 1, 'desato': 1, 'prelet': 1, 'albutrol': 1, 'plebotomi': 1, 'patientgentamicin': 1, 'dabx': 1, 'hyrdrat': 1, 'ramya': 2, 'attest': 1, 'sought': 3, 'empiriacl': 1, 'ronchuru': 1, 'breaht': 1, 'menier': 1, 'ditazem': 1, 'gfr': 7, 'usoh': 7, 'lupsu': 1, 'haze': 8, 'lupu': 6, 'sle': 5, 'hemipelvi': 4, 'perilumbar': 1, 'chornic': 2, 'markinga': 1, 'aglc': 5, 'wherea': 4, 'dli': 1, 'nonvascular': 4, 'pf': 6, 'obliteran': 3, 'thobe': 1, 'sgot': 1, 'serrosanguin': 1, 'reiorient': 1, 'ectoyp': 1, 'bialt': 1, 'respilor': 2, 'elastiplast': 1, 'othewis': 1, 'inub': 1, 'anasarci': 1, 'entireti': 3, 'inci': 1, 'caglu': 1, 'thoracotmi': 1, 'extubatuon': 1, 'drnge': 1, 'reapli': 1, 'antigrav': 1, 'ventiat': 2, 'ichem': 1, 'meso': 2, 'eng': 1, 'neng': 1, 'oxcarbazepin': 2, 'similari': 1, 'trilept': 3, 'asjac': 1, 'dcm': 3, 'vancoymcin': 2, 'solwli': 1, 'polysinu': 1, 'technician': 2, 'trila': 1, 'methelen': 1, 'catapril': 1, 'tbf': 1, 'postprocedur': 1, 'pddp': 1, 'sewn': 2, 'malrot': 1, 'bronchospas': 1, 'respilar': 1, 'pmeumococc': 1, 'hydracholathiazid': 1, 'appeaer': 1, 'preoxygen': 3, 'gallium': 1, 'indium': 1, 'ventac': 1, 'swna': 1, 'nag': 2, 'anasacar': 1, 'recquir': 1, 'autolog': 2, 'cstm': 2, 'perpheri': 2, 'initailli': 4, 'perifer': 2, 'sectet': 1, 'desesitizaion': 1, 'maxliofaci': 1, 'dissappear': 1, 'ticken': 2, 'genear': 1, 'asymptompat': 1, 'furnish': 1, 'passeymuir': 1, 'bilaterl': 1, 'airbolu': 1, 'hdp': 2, 'huband': 1, 'stanbi': 1, 'nonopacifi': 1, \"fxn'ing\": 1, 'tilll': 1, 'desatt': 2, 'diuresesd': 1, 'surveli': 1, 'awkward': 1, 'dposit': 1, 'ovenight': 2, 'galium': 1, 'extrememti': 1, 'syn': 2, 'dropp': 3, 'oobtc': 3, 'acalculu': 2, 'ave': 1, 'quentin': 1, 'satg': 2, 'trasfer': 4, 'geiven': 1, 'passezmuir': 1, 'hardli': 1, 'jean': 1, 'will^': 1, 'passeymiur': 1, 'hith': 1, 'defec': 1, 'juncki': 1, 'changemad': 1, 'azthromycin': 1, 'rxed': 2, 'mml': 1, 'mylasia': 1, 'danglk': 1, 'leakso': 1, '^sob': 1, 'ddrop': 1, 'subequ': 1, 'arraang': 1, 'diostress': 1, 'intermittentlki': 1, 'bivonna': 1, 'sicial': 1, 'infusint': 1, 'ndka': 1, 'trachial': 2, 'bovina': 1, \"'sr\": 1, 'extrathorac': 1, 'millisecond': 7, 'bullosa': 2, 'interacted': 1, 'cranki': 1, 'yearli': 1, 'scm': 2, 'vanoc': 1, 'evidnec': 1, 'phlebolith': 2, 'wirh': 1, 'reorinet': 1, 'arrial': 1, 'adjacet': 1, 'rnow': 1, 'arousalb': 1, 'ressussit': 1, 'piecem': 6, 'dlaryng': 1, 'enteroflex': 1, 'abuss': 1, 'siphon': 1, 'dchart': 1, 'osteoarthrit': 1, 'cartilag': 3, 'presist': 2, 'hypervascular': 1, 'giant': 2, 'subscapular': 2, 'tendinopathi': 1, 'synovi': 4, 'helthcar': 1, 'blcx': 1, 'freqent': 1, 'pericathet': 1, 'prolif': 1, 'hungeri': 1, 'ffinard': 1, 'boug': 1, 'venbtil': 1, 'dnystatin': 1, 'eit': 1, 'plade': 1, \"sx'nd\": 1, 'decedron': 1, 'imrov': 3, 'vti': 1, 'communuc': 1, 'onoc': 1, 'atelect': 2, 'subtend': 1, 'enlg': 1, 'sheed': 1, 'dimisah': 1, 'calear': 1, 'nskin': 1, 'imnprov': 1, 'novosourc': 2, 'enocurag': 1, 'waithout': 1, 'barimaxx': 2, 'weanm': 1, 'dirues': 4, 'bucal': 1, 'occasionl': 1, 'areound': 1, 'metorpolol': 1, 'rewuir': 1, 'aread': 1, 'visitir': 1, 'carevi': 1, 'muchroom': 1, 'lightind': 1, 'slightl': 1, 'minu': 5, 'vestra': 1, 'sweatinbg': 1, 'motuh': 1, 'surigfoam': 1, 'urinein': 1, 'arn': 1, 'atttempt': 1, 'evev': 2, 'excacerb': 2, 'fenatanyl': 2, 'throght': 1, 'secretionsin': 1, 'chunki': 1, 'oldest': 4, 'rft': 1, 'arrhytmia': 1, 'tubeeffect': 1, 'cointrol': 1, 'stamina': 1, 'diagnosit': 2, 'boulus': 1, 'agtiat': 1, 'hrwith': 1, 'dsng': 1, 'fentnayl': 1, 'functon': 1, 'knod': 1, 'fico': 1, 'tthick': 1, 'breakdowon': 1, 'appropir': 1, 'percus': 1, 'tappabl': 2, 'metropol': 1, 'guidwir': 3, 'lidocan': 1, 'lenghth': 1, 'tympani': 1, 'falsli': 1, 'quench': 1, 'indigest': 2, 'echymott': 1, 'naesthesia': 1, 'amioderom': 1, 'regualr': 1, 'bibasliar': 1, 'polychamb': 1, 'cnt': 3, 'hbc': 1, 'methodon': 3, 'tuberculin': 1, 'hbv': 7, 'testa': 1, 'elctrolyt': 1, 'toxoplasmosi': 3, 'atim': 1, 'phyusic': 1, 'pneumonthorax': 2, 'pitfal': 1, 'notch': 4, 'bsck': 1, 'beef': 1, 'giveng': 1, 'vedio': 1, 'fct': 1, 'smaal': 1, 'unlobor': 1, 'precat': 1, 'hmd': 1, 'disciplanari': 1, 'somethim': 1, 'dia': 1, 'antituss': 2, 'atelctasi': 2, 'incarcer': 3, 'strangul': 2, 'recordsvancomycin': 1, 'possiblil': 1, 'pediscop': 1, \"dp'\": 1, 'miuc': 2, 'difficuli': 1, 'multpil': 1, 'partn': 1, 'ulc': 1, 'guiafenisen': 2, 'atraumat': 19, 'patientvancomycin': 1, 'ileum': 6, 'vomt': 3, 'gurd': 1, 'plavi': 1, 'uncuf': 5, 'obstuct': 3, 'sensi': 8, 'mcu': 2, 'omelett': 1, 'clonipan': 1, 'neutr': 1, 'isnt': 1, 'rape': 1, 'revel': 2, 'stolen': 1, 'brochial': 3, 'furth': 1, 'ivrn': 2, 'sudaf': 1, 'kidni': 1, 'nonvisu': 2, 'scabe': 1, 'ascist': 1, 'emphesema': 1, 'creep': 1, 'intramur': 6, 'arrestn': 1, 'inapprori': 1, 'dimininish': 1, 'afebrl': 1, 'considerabley': 1, 'supportof': 1, 'labetelol': 1, 'pittind': 1, 'sllevyn': 1, 'trick': 1, 'alternatey': 1, 'emtot': 1, 'itnerv': 1, 'aliv': 7, 'hydro': 8, 'tachypenea': 2, 'prepart': 2, 'prefor': 1, 'eras': 2, 'basebal': 1, 'snxing': 1, 'dvd': 3, 'burger': 1, 'irregur': 1, 'ltitrat': 1, 'menstruat': 1, 'troph': 2, 'promd': 1, 'brachiocepal': 1, 'probabilti': 1, 'receheck': 1, 'fmaili': 1, 'bronchspast': 1, 'eitolog': 1, 'recussit': 1, 'hinder': 1, 'outweigh': 6, 'suppor': 2, 'witih': 1, 'reasur': 1, 'eposod': 1, 'effusionsm': 1, 'papular': 4, 'suppitori': 1, 'todya': 1, 'soungd': 1, 'appetiti': 2, 'psch': 1, 'willfollow': 1, 'wouldnt': 1, 'ood': 1, 'pneumoccoc': 1, 'mar': 2, 'comfor': 1, 'trnbasfer': 1, 'bacaus': 1, 'coherr': 1, 'strepto': 1, 'wheezs': 1, 'clonepin': 1, 'astatu': 1, 'vedrs': 1, 'bben': 1, 'inapropri': 1, 'inu': 2, 'moprn': 1, 'mucosa': 16, 'ovcer': 1, 'microneb': 2, 'lisinopri': 1, 'fidgiti': 1, 'signifiacnt': 1, 'releif': 2, 'orrali': 1, 'ceftr': 1, 'pattent': 1, 'klonidin': 1, 'figeti': 1, 'mechnic': 1, 'parnoid': 1, 'emolli': 2, 'coorper': 1, 'bilatearlli': 1, 'anisocoria': 1, 'opo': 1, 'tpo': 1, 'seur': 1, 'drnr': 1, 'desper': 1, 'witgh': 1, 'fereq': 1, 'informaion': 1, 'ak': 1, 'moaner': 1, 'gorssli': 1, 'intrapericardi': 3, 'icm': 1, 'dial': 2, 'guafenesin': 1, 'ctz': 2, 'inferolat': 1, 'supplementari': 2, 'anuria': 7, 'isorsorbid': 1, 'sequala': 1, 'recommen': 1, 'balc': 1, 'bedchair': 1, 'setback': 11, 'aspiratio': 1, 'fulid': 2, 'parenchyema': 1, 'eosinophila': 3, 'telemet': 1, 'possibly': 1, 'kyg': 6, 'contant': 1, 'nontheless': 1, 'ventriculoar': 1, 'intersitit': 1, 'lowsi': 1, 'resovl': 1, 'uriun': 2, 'postinfecti': 2, 'checkup': 1, 'curbsid': 4, 'ruleout': 1, 'hcf': 1, 'mebul': 1, 'upurc': 1, 'filll': 2, 'aatmpt': 1, 'leov': 1, 'serousnangin': 1, 'ttttto': 1, 'partiallli': 1, 'protamin': 3, 'thoraic': 1, 'afebrik': 1, 'unload': 2, 'draiang': 1, 'presnet': 1, 'hespan': 1, 'productuv': 1, 'antiobot': 1, 'augement': 1, 'presentplan': 1, 'lungsound': 1, 'invagin': 2, 'carbomed': 1, 'mvso': 1, 'dobut': 3, 'equat': 1, 'continnu': 1, 'fling': 1, 'waffelr': 1, 'perki': 1, 'prouctiv': 1, 'improiv': 1, 'sheat': 1, 'pocoumadin': 1, 'msvo': 1, 'intermitten': 1, 'trqansfer': 1, 'doxycylin': 2, 'beacam': 1, 'diahrrea': 2, 'farm': 1, 'thrusday': 1, 'deliou': 1, 'lasr': 1, 'gluccos': 1, 'steorid': 1, 'cepatim': 1, 'rwhite': 1, 'cefapin': 1, 'cortisyn': 1, 'biliour': 1, 'detal': 1, 'doxcycyclin': 1, 'mous': 1, 'wothout': 1, 'aboukt': 1, 'unopacifi': 1, 'pheregan': 1, 'endocran': 1, 'probrabl': 1, 'iintub': 1, 'lighli': 1, 'steoriod': 1, 'pinsp': 1, 'vhi': 2, 'lz': 2, 'dtj': 2, 'bdlt': 2, 'mndm': 2, 'rqujf': 2, 'fug': 2, 'tro': 2, 'buxf': 2, 'stx': 2, 'ffqp': 2, 'gsp': 2, 'postalcod': 2, 'hxjgu': 2, 'mvz': 2, 'yfgga': 2, 'jl': 2, 'qvu': 2, 'cq': 2, 'qld': 2, 'pyl': 1, 'fpbrushpbrushpbrush': 2, '^jaj': 2, 'jva': 2, 'rkdz': 2, 'ifl': 2, 'mnpj': 2, 'xppocnot': 2, 'rybx': 2, 'metabolit': 2, 'cjojqju^jaj': 2, '|vi': 2, 'cjojqj^j': 2, 'odf': 2, 'lcj': 2, 'plntl': 2, \"amaa'\": 2, 'aeu': 2, 'rkd': 2, 'omkkfk^k': 1, 'mzm': 2, '^qj': 2, 'shphgb': 2, 'ffj': 2, 'ol': 2, 'aj': 2, 'fghijklm': 1, 'zwc': 2, '|s': 2, 'begkm': 1, 'hyw': 2, 'jxfh': 1, '|u': 2, 'lh': 6, 'qxbk': 2, 'zfn': 2, 'ee': 2, 'txf': 2, '^jajmhsh': 2, 'hkt': 2, \"'t\": 3, 'sjpa': 2, 'xil': 1, 'ymj': 2, 'chema': 1, 'uvwxyz': 1, 'kbo': 2, 'rdata': 1, 'uyl': 2, 'durin': 2, 'receveiv': 1, 'xy': 2, 's|f': 2, 'dq': 2, 'wdeu': 2, 'fj': 2, 'trpw': 1, 'tin': 4, 'dj': 2, 'moroxella': 1, 'outstand': 3, 'abrxbhk': 1, 'hke': 2, 'zxz': 2, 'cjojqj^jajmhsh': 2, 'abcd': 1, 'ei': 2, 'qefeiq': 2, 'ejk': 2, 'tni': 2, '|cl': 1, 'aqo': 2, 'zhdk': 2, 'dotxppoc': 2, 'jx': 3, 'vmc': 2, 'txe': 2, 'svttttt': 2, 'dulxo': 2, 'zkd': 2, 'ydf': 2, 'jm': 2, 'zw': 2, 'shphct': 2, 'ia': 5, 'zg': 2, 'cpvmh': 2, 'cjuajh': 2, 'uvvvvv': 1, 'qdwu': 2, 'ribi': 2, 'ui': 2, 'srgb': 2, 'cjojpjqj^jnho': 2, 'mu': 3, 'smixu': 2, 'yhwv': 2, 'u^kq^': 2, 'iend': 2, 'jxut': 2, '|q': 2, 'adehjk': 1, 'eqe': 2, 'hw': 2, 'qf': 2, 'mnoz': 1, 'ftd': 2, '^|d': 2, 'ajh': 2, 'kpsp': 2, 'aocrf': 2, 'ein': 1, 'ik': 2, 'aub': 2, \"p'\": 2, 'uy': 2, 'jkd': 1, 'objectpool': 2, 'onw': 2, 'dxfdl': 2, 'ggg': 2, 'dpx': 1, 'nw': 2, 'lzra': 2, 'qfeqfkq': 2, 'fff': 2, 'kkkggg': 2, 'gw': 2, '|bc': 2, 'ji': 2, 'psn': 2, 'if^': 2, 'gpl': 2, 'zvhk': 2, 'hy': 3, 'neuck': 2, 'xdrn': 2, 'hzyh': 2, 'xp': 2, 'gkdg': 2, '^i': 2, 'fpu': 2, 'fsp': 2, 'tktot': 1, 'vgpi': 2, 'jw': 2, 'ebx': 2, 'ttooe': 2, 'schema': 2, 'abrsxbhk': 1, 'mmmhhh': 2, 'gqt': 2, 'se': 8, \"w'\": 2, 'dcl': 1, 'jpn|zb': 2, 'cjojqj': 2, \"dzz'\": 2, 'cebq': 2, 'qg': 2, '^jajmh': 1, 'sft': 2, 'xm': 2, 'eyfp': 2, 'jojpjqj^jnho': 1, 'wla': 2, 'xvuy': 2, 'ifgd': 2, 'zza': 2, 'tez': 2, 'ycu': 2, 'eb': 2, 'lkdv': 2, 'iap': 2, '|ff': 2, 'tsummaryinform': 2, 'qxi': 2, 'cjajmhnhujh': 2, 'dfk': 2, 'vfx': 2, 'ko': 2, 'eee': 2, 'v|': 1, 'oxcn': 2, 'vdx': 2, 'pfq': 2, 'moraxelia': 1, 'urn': 3, 'ilji': 2, 'lwc': 3, 'ovk': 2, 'olwl': 2, 'hyesh': 2, 'antibitot': 1, 'uh': 2, 'hhh': 2, 'svttttlq': 2, 'z|': 2, 'euq': 2, 'zlkb': 2, 'jz': 2, 'ppbp': 2, 'patientbactrim': 1, 'f|l': 2, 'nenl': 2, 'sidatx^': 2, 'zqqqq': 1, '^lze': 2, 'nz': 2, 'cdehijknowxyz^': 1, 'vpcsp': 2, 'yt': 2, 'xv': 2, 'gqq': 2, 'xn': 2, 'ihdrvfw': 2, 'xf': 2, 'c^': 2, 'cjojqj^jajh': 2, 'pz': 1, 'nffhf': 2, 'tmtntotzt': 1, \"wegener'\": 1, 'granulomatosi': 2, 'bv': 2, 'nnn': 2, 'yl': 1, 'vbjbj': 1, 'ttit': 2, 'kzmwc': 2, 'ae': 5, 'jigi': 2, 'nvo': 2, 's|': 2, '^sx': 2, 'xg': 2, 'rs': 8, '|x': 2, 'wdl': 2, 'gh': 2, 'oq': 2, '^jaju': 1, 'ccg': 2, 'laf': 2, 'vdegg': 2, 'numpag': 2, 'oy': 3, 'qlcccc': 1, \"b'\": 2, 'wiil': 1, 'xx': 5, 'xq': 2, 'fkd': 1, 'abh': 1, 'wvmyvu': 2, 'chlorhexdin': 1, 'zuo': 2, 'ztm': 2, 'zex': 2, 'adx': 1, 'suu': 2, 'tsc': 2, 'ooo': 3, 'jjj': 2, 'lx': 3, 'documentsummaryinform': 2, 'tj': 2, 'ldf': 2, 'abcdefghijklmnopqrstuvwxyz': 2, 'uz': 2, 'dw': 6, '|k^': 2, 'km': 2, 'miig': 2, 'gx': 2, 'wlz': 2, 'cj': 3, 'lzpl': 2, 'nocdxi': 1, 'mbd': 2, 'nghch': 2, 'vh': 2, 'rwsi': 2, 'worddocu': 1, 'ifa': 2, 'odi': 1, 'augapha': 2, 'aeijk': 1, 'tq': 2, 'ojqj^jh': 2, 'uu': 2, 'gbi': 2, 'fp': 2, 'qb|': 2, 'yuim': 2, 'yd': 2, 'b|': 2, 'jj': 2, 'vvvvvvvv': 1, 'kmdv': 2, 'oih': 2, 'ke': 2, 'header': 2, 'ffv': 2, 'gq': 1, 'eutttt': 2, '|||': 2, 'vfv': 2, 'cjojqj^jajhr': 1, 'jv': 2, 'shpwbc': 2, 'vo': 2, 'a^': 2, 'dfhm': 2, 'ocio': 2, 'ze': 2, 'ejo': 2, 'initiati': 1, 'gt^': 2, 'qn': 2, 'hvah': 2, 'hhhnnn': 2, 'dob': 4, 'o|': 2, 'ay': 3, 'bfiu': 2, 'ttttttl': 2, 'cjajh': 2, 'v^vgvhvrvsv': 1, 'pwow': 2, 'pj': 2, 'vhvivrvsv': 1, 'thh': 1, '^jajh': 2, 'okpwp': 2, '^g': 2, 'idatx^': 2, 'acxci': 2, 'cjojqj^jaj': 2, 'zd': 2, \"'uqg\": 2, 'ryhc': 2, 'waejg': 2, 'ucto': 2, 'rs^': 2, 'oyz': 2, '|yy': 2, 'xoq': 2, 't|t': 1, 'bfm': 2, 'compobj': 2, 'cee': 2, 'bw^cw': 2, 'jy': 2, 'granulamoti': 1, 'qqq': 2, '|c': 2, 'ftth': 2, 'mq': 2, 'ihdr': 2, 'cjaj': 2, 'fy': 2, 'cxpq': 2, 'fswi': 2, 'vthf': 2, 'cuyi': 2, 'fsx': 2, 'xh': 2, 'b^': 2, 'ibxg': 2, 'elh': 2, 'heiy': 2, 'emr': 2, 'qqov': 2, 'shpplt': 2, '^j': 1, 'cb': 4, 'um': 2, 'z^': 2, 'agsa': 2, 'cjojqjz': 1, 'qxq': 2, 'nxrv': 2, 'zo': 2, 'iy': 2, 'nrvliiu': 2, 'rqb': 2, 'f|uf': 2, 'microsoft': 2, 'bre': 1, 'syv': 2, 'fip': 1, 'yh': 2, 'minutey': 1, 'vtl': 2, 'itenk': 2, 'mdfl': 2, 'cjojqju^jajh': 2, 'dhuorq': 2, 'khe': 2, 'hlvo': 2, 'ff': 4, 'iz': 2, 'pi': 3, 'ec': 6, '|w': 2, 'gkd': 2, 'smarttag': 2, 'fl': 7, 'bsb': 2, 'jh': 2, 'kd': 2, 'xcompobj': 1, 'cjojqjuv^jaj': 1, 'doscomfort': 1, 'fiberopt': 7, 'sheathless': 1, 'preceed': 3, 'arthrosi': 1, 'televis': 2, 'te': 6, 'liberali': 1, 'vanilla': 2, 'echolalia': 1, 'bluish': 1, 'conver': 1, 'lepirudin': 1, 'crazi': 2, 'indcat': 1, 'wrm': 1, 'harass': 1, 'schizoid': 1, 'amnioderon': 2, 'pysch': 1, 'absoprt': 1, 'atchi': 1, 'wick': 2, 'cardigen': 1, 'sj': 1, 'apici': 1, 'alright': 1, 'fingernail': 2, 'multipodo': 1, 'palpab': 1, 'bioten': 1, 'generali': 1, 'guic': 2, 'depit': 1, 'deceras': 2, 'therapeaut': 1, 'efffect': 2, 'claw': 1, \"con'\": 1, 'treatmetn': 1, 'nondil': 3, 'bouuock': 1, 'overgrown': 1, 'fake': 1, 'bivent': 1, 'doom': 1, 'intraaort': 1, 'ciprovloxacin': 1, 'asssit': 1, 'iapb': 1, 'ux': 2, 'cardimyopathi': 1, 'baloon': 2, 'plaxiv': 1, 'occaasion': 1, 'afbril': 1, 'lipirudin': 1, 'mobitz': 3, 'surgi': 1, 'dexonid': 1, 'diliri': 1, 'mpb': 2, 'elvat': 2, 'somebodi': 1, 'haloldol': 1, 'clenser': 1, 'aibp': 1, 'occaison': 1, 'ivgtt': 1, 'inco': 1, 'inceasingli': 1, 'kinda': 1, 'ckeck': 1, 'prohibit': 3, 'ttake': 1, 'compuress': 1, 'favorit': 3, 'unsignific': 1, 'clobetasol': 2, 'acount': 1, 'pw': 2, 'olanzepin': 5, 'coke': 3, 'propion': 4, 'costovertebr': 2, 'cefep': 2, 'ele': 1, 'uneffect': 1, 'gaurdian': 2, 'hypokensi': 1, 'agrastat': 1, 'stade': 1, 'selectivley': 1, 'lepiruden': 1, 'abdomi': 1, 'chlorothizid': 1, 'schitzophrenia': 2, 'pernium': 1, 'barriercream': 1, 'stmulat': 1, 'appettit': 2, '^lft': 1, 'genic': 1, 'petichea': 1, 'singificantli': 1, 'hypob': 1, 'postplac': 1, 'uncomfor': 1, 'cardura': 1, 'abou': 1, 'actat': 1, 'guifenesin': 1, 'neutopenia': 2, 'moral': 1, 'cintinnu': 1, 'bhad': 1, 'accapulla': 1, 'desatto': 1, 'coompazin': 1, 'withexert': 1, 'aand': 1, 'accapella': 1, 'nauseax': 1, 'coomod': 1, 'currnet': 1, 'transiaent': 1, 'hypoxicwith': 1, 'indep': 2, 'worseningdyspnea': 1, 'cooperatv': 1, 'grandpar': 1, 'sulcraf': 1, 'phelgm': 1, 'dysplasia': 3, 'supplier': 1, 'pyloroplasti': 1, 'invok': 4, 'plagu': 2, 'europ': 1, 'backpack': 1, 'transhiat': 1, 'subsquent': 1, 'celebrex': 4, 'doxepin': 2, 'bronchopulm': 2, 'herniorrohapi': 1, 'inhous': 2, 'hiistori': 1, 'sigific': 1, 'pericardectomi': 2, 'hydo': 1, 'pericardiectomi': 2, 'spirocar': 2, 'toridol': 1, 'presenetd': 1, 'desaturt': 1, 'crakl': 2, 'dropelt': 1, 'tarnsfer': 1, 'recievd': 2, 'miniaml': 1, 'anasacara': 1, 'qvar': 5, 'doent': 1, 'aab': 1, 'anarcarca': 1, 'sucction': 1, 'approprietli': 1, 'benaprotein': 1, 'sv': 5, 'speciamn': 1, 'positionsl': 1, 'lotrimin': 2, 'laisx': 3, 'coarser': 1, 'rradial': 1, 'agitit': 1, 'intxoci': 1, 'budd': 1, 'tonnic': 1, 'broth': 2, 'synchronis': 1, 'chiari': 2, 'handhold': 1, 'plead': 2, 'cirrhossi': 1, 'plase': 1, 'mickael': 1, 'bpg': 1, 'pper': 1, 'lbase': 1, 'prothesi': 1, 'enterocolon': 1, 'polymyxin': 1, 'regrugit': 1, 'patellofemor': 5, 'nonmobil': 1, 'roomat': 1, 'sycop': 1, 'downstair': 3, 'reddenend': 1, 'nodosum': 1, 'haemodinam': 6, 'methotrex': 4, 'lentiform': 2, 'metclopromoid': 1, 'aneyrysm': 1, 'dlbcl': 1, 'tdt': 1, 'accomplish': 3, 'feldberg': 2, 'nadir': 7, 'alopecia': 2, 'avanti': 1, 'presyncop': 4, 'dissip': 2, 'caridiolog': 1, 'pound': 6, 'resurfac': 1, 'negoti': 4, 'interventricular': 1, 'medaplex': 1, 'viridan': 4, 'hamstr': 2, 'immunoreact': 1, 'haemodinamicalyy': 1, 'teritori': 1, 'ebv': 6, 'lymphma': 1, 'tra': 1, 'hypdens': 2, 'retest': 1, 'surg': 1, 'hypdenisti': 1, 'eshap': 1, 'overaggress': 1, 'merit': 1, 'unnit': 1, 'aftert': 1, 'midthigh': 1, 'fwd': 3, 'bcl': 1, 'nighttim': 3, 'ophth': 3, 'neutropenia': 7, 'lq': 1, 'gwlm': 7, 'multistep': 3, 'typhil': 1, 'gmpd': 2, 'prednisolon': 3, 'commcar': 1, 'var': 1, 'resultur': 1, 'gleut': 1, 'nbrh': 1, 'raglan': 4, 'pannu': 4, 'admittd': 2, 'doesnot': 2, 'trachobronchomalacia': 2, 'ovar': 1, 'conplet': 2, 'periwound': 1, 'valsatran': 1, 'unemploy': 4, 'trachh': 1, 'fss': 5, 'couch': 3, 'sldo': 1, 'bacterema': 1, 'spokeperson': 1, 'progrress': 1, 'conso': 1, 'vangin': 1, 'undrer': 1, 'sarosang': 1, 'maser': 1, 'viz': 2, 'urv': 1, 'hydram': 2, 'welfar': 1, 'synchronousl': 1, 'tiss': 1, 'ror': 1, 'biot': 1, 'oopen': 1, 'deppest': 1, 'protcet': 1, 'quset': 1, 'heatlh': 1, 'healthnet': 1, 'aras': 1, 'titer': 5, 'limen': 1, 'pressuer': 1, 'amder': 1, 'anthypertens': 1, 'unitr': 1, 'otn': 1, 'abbras': 1, 'su': 2, 'cpa': 3, 'edma': 1, 'penitr': 1, 'tolerac': 1, 'phd': 7, 'pickwickian': 1, 'wrinkl': 1, 'infact': 3, 'eph': 3, 'employe': 4, 'prune': 1, 'grant': 2, 'tissur': 2, 'corpor': 1, 'cgi': 1, 'bovin': 3, 'menag': 1, 'job': 3, 'effeort': 1, 'poen': 1, 'dehis': 1, 'midzon': 1, 'golytli': 1, 'trendin': 1, 'egc': 1, 'wxt': 1, 'extrav': 2, 'allianc': 1, 'ransfus': 1, 'supervion': 1, 'fial': 1, 'birthdat': 1, 'liquifi': 1, 'ipmn': 1, 'hematomoa': 1, 'rnp': 1, 'bicard': 1, 'ple': 2, 'jrci': 6, 'blush': 1, 'intramedullari': 4, 'mushrrom': 2, 'len': 3, 'acutli': 1, 'hid': 2, 'cftx': 3, 'differneti': 1, 'vasculr': 1, 'priro': 1, 'llnezolid': 1, 'vernight': 1, 'circumfer': 1, 'myopath': 1, 'otomastoid': 1, 'resper': 1, 'levopflox': 1, 'horrifi': 1, 'wjm': 4, 'intramuscular': 2, 'colonosocpi': 1, 'critcal': 1, 'creativ': 1, 'pseudohypha': 3, 'prominec': 1, 'tre': 1, 'perfrom': 1, 'elder': 3, 'anc': 7, 'onogo': 1, 'troponinin': 1, 'rheumatolog': 4, 'instersti': 1, 'backward': 2, 'golytyl': 1, 'tubat': 1, 'nicardipin': 2, 'hyperconcentr': 1, 'piggi': 1, 'enterbact': 1, 'anytim': 4, 'cloaca': 2, 'criticad': 4, 'hemofiltr': 1, 'enterobacteria': 1, 'pian': 1, 'bodyfrom': 1, 'pulmoanri': 1, 'reuqir': 1, 'stenotrophoma': 1, 'aean': 1, 'maltophila': 1, 'offf': 1, 'dysrhymia': 1, 'disciplinari': 4, 'cvicu': 10, 'edenam': 1, 'stenotrophomana': 1, 'cvvhf': 1, 'xanthomona': 2, 'maltophilia': 1, 'amidoneron': 1, 'dificult': 1, 'tranfert': 1, 'yeasterday': 1, 'difinit': 1, 'transaxi': 3, 'scanti': 1, 'neueo': 1, 'cloacea': 1, 'multilob': 2, 'fugasl': 1, 'esophg': 1, 'eurcerin': 1, 'plaesent': 1, 'ijv': 4, 'appleid': 1, 'eccchymot': 1, 'mulipl': 1, '^l': 1, 'aferbil': 1, 'lig': 2, 'recuur': 1, 'esophagram': 3, 'pipricillin': 1, 'schatzki': 1, 'rpo': 1, 'immunodef': 1, 'tertiari': 2, 'radiologu': 1, 'preload': 6, 'osteoperosi': 1, 'cannulu': 1, 'perll': 1, 'lmwh': 5, 'parencyhm': 1, 'rerurn': 1, 'driver': 1, 'gastrectomi': 4, 'deteriori': 1, 'thrombot': 2, 'abnormalti': 1, \"she'\": 1, 'malnourish': 11, 'prejejunostomi': 1, 'njear': 1, 'cachexia': 3, 'popul': 1, 'trak': 4, 'effer': 2, 'propohylaxi': 1, 'phragm': 1, 'donepin': 1, 'fin': 5, 'zetia': 3, 'hemidiapragmat': 1, 'hemidia': 1, 'spondylosi': 9, 'carecu': 1, 'temt': 1, 'rhythn': 1, 'collap': 1, 'pottassiun': 1, 'namenda': 4, 'kci': 1, 'ariceot': 1, 'desatuturaion': 1, 'dependedt': 1, 'duirng': 1, 'immolilz': 1, 'aaddit': 1, 'ldlcalc': 1, 'conv': 1, 'chondrocalcif': 1, 'currant': 2, 'stt': 2, 'metopr': 1, 'yestday': 1, 'purposel': 1, 'nutrien': 1, 'trigli': 1, 'pentopr': 1, 'quadtant': 1, 'neglect': 4, 'syp': 2, 'duilut': 2, 'complexion': 2, 'downgo': 5, 'flaygli': 1, 'pantopr': 1, 'celecoxib': 1, 'sini': 1, 'beaselin': 1, 'chondrocalcinosi': 1, 'hemorrhagica': 1, 'homorrhag': 1, 'transfom': 1, 'cef': 1, 'transfusuion': 1, 'pisotriquetr': 1, 'srtrting': 1, 'hemeparesi': 2, 'diltiezem': 2, 'peron': 17, 'antix': 2, 'physiptherapi': 1, 'epidos': 1, 'galactomannon': 1, 'kalexal': 1, 'apreci': 1, 'gof': 1, 'acna': 1, 'parvoviru': 1, 'atovoquon': 1, 'latent': 1, 'granulocyt': 3, 'parainfluenza': 7, 'rpgn': 1, 'tpmp': 1, 'xopenox': 1, 'pyridoxin': 1, 'tiw': 2, 'immunoflouresc': 5, 'parahypotyriod': 1, 'flut': 10, 'phop': 1, 'fda': 2, 'antigranulocyt': 1, 'jirovecii': 5, 'paraflu': 2, 'boxer': 2, 'nephrot': 3, 'inpt': 3, 'imuran': 2, 'normocellular': 1, 'virus': 5, 'settin': 1, 'gn': 6, 'filbril': 1, 'muddi': 2, 'fbr': 8, 'tpmt': 1, 'rrv': 3, 'proteinuria': 4, 'spu': 4, 'actu': 3, 'rediscuss': 4, 'hypovelemia': 1, 'portegues': 1, 'aova': 6, 'creatitin': 2, 'glipizid': 8, 'outlet': 3, 'increasinli': 2, 'deadspac': 2, 'grma': 1, 'accompain': 1, 'anamia': 1, 'neurotropho': 1, 'venetd': 1, 'bearhugg': 1, 'hypophosphemia': 1, \"'want\": 1, 'hover': 6, 'trasit': 2, 'zofram': 1, 'spontaneosli': 1, 'parameter': 1, 'transx': 1, 'cang': 1, 'autoamput': 1, 'electropyt': 1, 'pcpap': 1, 'ratedecreas': 1, 'healtyh': 1, 'grovid': 1, 'rto': 3, 'alleyn': 1, 'necros': 1, 'herat': 1, 'drese': 1, 'allyven': 1, 'henatoma': 1, 'novent': 1, 'correspod': 1, 'overdiuresi': 2, 'criticid': 1, 'increaas': 1, '^^bp': 1, 'uuper': 1, 'onscarum': 1, 'quinidin': 2, 'ocverag': 1, 'anattempt': 1, 'normali': 1, 'noty': 1, 'accessari': 1, 'significamt': 1, 'irig': 1, 'student': 8, 'inconsisitanli': 1, 'ststolic': 1, 'sdedat': 1, 'potassim': 1, 'accet': 1, 'grap': 1, 'basck': 1, 'watrer': 1, 'respondi': 1, 'lisix': 1, 'prednisoln': 1, '^up': 1, 'reddden': 1, 'blader': 1, 'feww': 1, 'nephrostomi': 3, 'diurs': 5, 'multilink': 1, 'arteriographi': 3, 'merci': 1, 'hydrophil': 1, 'petrou': 2, 'thromboembol': 8, 'pedion': 1, 'coaxial': 1, 'aproach': 1, 'supraclinoid': 2, 'celer': 1, 'thrombectomi': 3, 'stagnant': 1, 'voyag': 1, 'carot': 1, 'elaps': 1, 'thrombolysi': 1, 'exuber': 1, 'recannul': 1, 'cereb': 1, 'terumo': 1, 'oc': 2, 'roadmap': 2, 'excercis': 3, 'inset': 2, 'dementiacopd': 1, 'micronas': 1, 'djrc': 1, 'floven': 1, 'dlnc': 6, 'cohes': 3, 'radi': 1, 'persever': 5, 'acetabulem': 1, 'ankylosi': 1, 'withhold': 5, 'darcoidosi': 1, 'paracentr': 2, 'lyrica': 9, 'dimension': 2, 'prd': 1, 'snbp': 1, 'budesonid': 2, 'charger': 2, 'supratherapeuti': 1, 'darvocet': 1, 'bioavr': 1, 'pregabilin': 1, 'tendin': 2, 'mania': 1, 'prodrom': 6, 'boniva': 2, 'mardarin': 1, 'emphasema': 1, 'pt\\x13': 1, 'epigloti': 1, 'dilitazem': 1, 'trigemini': 1, 'blanchabl': 4, 'rrana': 1, 'struck': 3, 'pneumohemothorax': 1, 'cerivc': 1, 'occiput': 1, 'starv': 1, 'dsgauz': 1, 'scene': 2, 'pedestrian': 1, 'diaphys': 1, 'intratrach': 2, 'aquecel': 1, 'puesdomona': 1, 'parkview': 1, 'abdomon': 1, 'minivan': 1, 'dailli': 2, 'polytrauma': 1, 'vincent': 1, 'freighten': 1, 'den': 1, 'reanastomosi': 1, 'extreiti': 2, 'hemicolectomi': 2, 'modr': 1, 'retrocrur': 3, 'dilaut': 1, 'headed': 3, 'areat': 1, 'shfd': 5, 'dbc': 4, 'asplen': 1, 'subren': 2, 'quiescent': 2, 'abuterol': 1, 'smallest': 2, 'ipra': 2, 'staf': 3, 'lympadenopathi': 2, 'regener': 1, 'consum': 1, 'itp': 1, 'fhold': 1, 'regen': 1, 'hyperexpand': 6, 'hpylori': 1, 'hemorhag': 1, 'enker': 1, 'zentker': 1, 'parieto': 2, 'carpometacarp': 1, 'corrobor': 4, 'leukopenica': 1, 'tacchycardia': 1, 'tamponand': 1, 'tacchi': 1, 'tampanad': 1, 'unemp': 1, 'cardiomeg': 5, 'dna': 2, 'complement': 2, 'glucosamin': 1, 'flax': 1, 'amenorrhea': 1, 'herbal': 1, 'seros': 1, 'birth': 1, 'hemotolgi': 1, 'erythematosu': 2, 'spleenomegali': 2, 'pancytopen': 3, 'casperfungin': 1, 'replacinf': 1, 'stonger': 1, 'proppofol': 2, '^^wob': 2, 'mlsof': 1, 'compair': 1, 'diminh': 1, 'emper': 3, \"abg'\": 2, 'acetalazolamid': 1, \"req'\": 2, 'gol': 1, 'mnoc': 1, 'sorb': 2, 'bacteriamia': 1, 'peat': 2, 'caspfungin': 1, 'benifib': 1, 'meropenam': 3, 'dysnea': 1, 'squeev': 1, 'constrast': 1, 'squeek': 1, 'positioin': 1, 'fungmia': 1, 'lug': 1, 'luquid': 1, 'atriocav': 1, 'sampp': 1, 'prision': 1, 'exrcis': 1, 'merepenen': 1, 'nasalpharyng': 1, 'hrmodynam': 2, 'movabl': 2, 'benopro': 1, 'endothorac': 1, 'jaudic': 1, 'cirrosi': 1, 'streph': 1, 'fenta': 2, 'rhochoru': 1, 'absess': 1, 'oprer': 1, 'allyvyn': 1, 'caspofungen': 1, 'ercent': 1, 'weakn': 1, 'canulla': 1, 'swalow': 1, 'thio': 1, 'oos': 1, 'contiunu': 1, 'ulser': 1, 'drainm': 1, 'ssoft': 1, 'candidemia': 1, 'pleual': 1, 'genta': 3, 'queation': 1, 'flexas': 2, 'extans': 1, 'caller': 1, 'akin': 1, 'stil': 3, 'ield': 1, 'beliv': 2, 'mnonitor': 1, 'midli': 4, 'aersol': 3, 'respnd': 1, 'shr': 1, 'maaintain': 1, 'upperextrem': 1, 'superimposit': 2, 'visistor': 1, 'throath': 1, 'delemia': 1, 'cocciin': 1, 'carv': 1, 'nonrebrath': 1, 'meropemen': 1, 'intaubt': 2, 'myulti': 1, 'poa': 6, 'picclin': 1, 'wheterh': 1, 'kayexalaet': 1, 'peptic': 5, 'mole': 1, 'diatstol': 1, 'orienetd': 1, 'applesuac': 1, 'carbohydr': 5, 'claustrophobia': 2, 'iconsolid': 1, 'repletiion': 1, 'antiarrythm': 3, 'levofloxaciin': 2, 'compes': 1, 'auscultaton': 1, 'nsrvt': 1, 'tachyarrythmia': 1, 'procuct': 1, 'toothett': 3, 'levalbuterol': 2, 'puttin': 1, 'compasin': 1, 'hypotenion': 1, 'lef': 1, 'montiro': 1, 'cml': 3, 'txed': 1, 'smolder': 1, 'neuo': 1, 'falx': 1, 'yesterdya': 1, 'empriic': 1, 'caroti': 1, 'extracrani': 4, 'hypoporfus': 1, 'autoreg': 1, 'hide': 4, 'orreg': 2, 'clturesd': 1, 'meme': 1, 'abnml': 2, 'gretar': 1, 'mirtazipin': 1, 'att': 2, 'possibel': 2, 'disodium': 1, 'pamidron': 4, 'patientcodein': 2, 'colr': 2, 'ptot': 1, 'impaiir': 1, 'coclostomi': 1, 'ectpi': 1, 'sytolilc': 1, 'longitudin': 4, 'functio': 1, 'exhbit': 1, 'amopunt': 1, 'aysmptomat': 1, 'eventaulli': 1, 'mnth': 1, 'penumonectomi': 1, 'flutterto': 1, 'reolv': 1, 'abal': 1, 'egophoni': 7, 'resucuit': 1, 'fremitu': 3, 'spprimari': 1, 'robitiussin': 1, 'admsion': 1, 'fluorinef': 1, 'phenylepherin': 1, 'presusr': 1, 'preacher': 1, 'spondylolisthesi': 1, 'penial': 1, 'seedi': 1, 'statiu': 1, 'lma': 2, 'earil': 1, 'prepsep': 1, 'perph': 1, 'hemodynamioc': 1, 'linearli': 1, 'please': 1, 'humifi': 1, 'atelectati': 1, 'fussi': 1, 'scotal': 1, 'rotari': 1, 'epap': 2, 'exaccerb': 2, 'uag': 2, 'thymic': 1, 'thiothixen': 1, 'infilter': 4, 'ambiem': 1, 'detrol': 1, 'classifi': 3, 'doen': 1, 'combineb': 1, 'ocd': 3, 'bcoz': 2, 'phychiatr': 1, 'insignific': 4, 'hifi': 1, 'midst': 2, 'unpredict': 1, 'pgi': 6, 'ipap': 2, 'schizo': 2, 'propofl': 2, 'propofopl': 1, 'shore': 3, 'appropiatelt': 1, 'leguionella': 1, 'clozapin': 3, 'rgm': 2, 'hha': 2, 'ranbl': 1, 'dishcarg': 1, 'repositio': 2, 'thoarcic': 1, 'amdinist': 1, 'dresss': 1, 'mrone': 1, 'regimn': 2, 'aparatu': 1, 'emtoin': 1, 'suppres': 2, 'deverfesc': 1, 'ctsx': 1, 'careveiw': 1, 'comnfort': 1, 'anteroposteriorli': 1, 'apicolater': 1, 'aprv': 2, 'phigh': 1, 'aggitit': 1, 'calicum': 2, 'ddri': 1, 'tubs': 1, 'undrain': 1, 'recuper': 1, 'tomographi': 6, 'lesi': 1, 'tlow': 1, 'plow': 1, 'intermittenlti': 1, 'bronchscopi': 2, 'thorcotomi': 1, 'portoven': 1, 'hsift': 1, 'pboot': 2, 'interfac': 2, 'ehad': 2, 'shsf': 8, 'replar': 1, 'eahn': 2, 'sgnific': 1, 'network': 1, 'rapi': 1, 'dischang': 1, 'aqaugel': 1, 'scane': 1, 'rextub': 1, 'balx': 1, 'stringi': 2, 'dopper': 2, 'deformati': 1, 'criti': 1, 'rheumatiod': 1, 'metast': 2, 'tumeo': 1, 'unprofession': 1, 'paraneoplast': 1, 'xtr': 1, 'undifferenti': 1, 'anticpagul': 1, 'intrabronchi': 1, 'asymetri': 3, 'treamtnet': 1, 'exppiraotri': 1, 'iregularli': 1, 'referrs': 1, 'bllod': 3, 'arranegemnt': 1, 'extuab': 2, 'nuetropen': 1, 'hex': 2, 'futurw': 1, 'curabl': 1, 'carbotaxel': 1, 'rlung': 1, 'finsih': 1, 'leukopen': 2, 'militari': 2, 'zosi': 1, 'buri': 2, 'peritransf': 1, 'palliat': 3, 'hsopic': 1, 'tohold': 1, 'ocurs': 1, 'cremat': 1, 'feasibili': 1, 'srranegemnt': 1, 'mucocys': 1, 'ainstem': 1, 'lyphadenopathi': 2, 'bisphosphon': 1, 'suppment': 1, 'applicat': 1, 'speed': 3, 'decb': 1, 'asx': 3, 'asv': 1, 'fna': 1, 'miscel': 2, 'diltiazim': 1, 'extensis': 1, 'checmo': 1, 'checmotherapi': 1, 'famiili': 1, 'worsend': 1, 'contoinu': 1, 'restar': 2, 'proclhorperazin': 1, 'tumour': 3, 'abdomino': 1, 'patienttetracyclin': 1, 'taxel': 1, 'fibrill': 1, 'ivss': 1, 'dures': 2, 'conflict': 7, 'feautr': 1, 'liekli': 4, 'afibwith': 1, 'realtiv': 2, 'filgastrin': 1, 'cefepema': 1, 'halloween': 1, 'prommin': 1, 'neuroendocrin': 3, 'methyprednisolon': 2, 'thoruhgout': 1, 'shge': 1, 'sast': 3, 'bec': 1, 'discussiion': 1, 'hyperattenu': 2, 'unremak': 1, 'morphon': 2, 'aortoenter': 1, 'possbl': 2, 'nauseua': 1, 'cliber': 1, 'aortobifem': 1, 'galbladd': 2, 'endoleak': 1, 'endograft': 1, 'pacut': 1, 'ower': 1, 'pivott': 1, 'tmin': 1, 'evar': 1, 'monitro': 1, 'imorov': 1, 'aorto': 1, 'multichamb': 1, 'junctiion': 1, 'thrughout': 1, 'preasur': 1, 'periaort': 2, 'hyperoximia': 1, 'actuallli': 2, 'bedroom': 2, 'occasioanl': 1, 'innappropi': 1, 'fowler': 4, 'nnote': 1, 'argument': 5, 'loressor': 1, 'abe': 1, 'resposn': 1, 'andf': 2, 'czrevu': 1, 'posv': 1, 'basellin': 1, 'mre': 1, 'seadtion': 1, 'awawk': 1, 'oreient': 1, 'coasr': 1, 'inittiali': 1, 'inatct': 1, 'yancher': 1, 'intregr': 1, 'ned': 1, 'rerestrain': 1, 'demostr': 1, 'retraint': 1, 'thicwhit': 1, 'glassi': 1, 'humidi': 1, 'azitroamycin': 1, 'indentif': 1, 'beclov': 1, 'ceftraixon': 3, 'nifidipin': 1, 'nidepin': 1, 'aztreom': 1, 'pantamidin': 1, 'intunb': 1, 'keratio': 1, 'lactulous': 2, 'ffm': 1, 'exsufl': 2, 'desatru': 1, 'requist': 1, 'squees': 1, 'vascath': 1, 'diast': 3, 'inertact': 1, 'guillan': 2, 'seroneg': 2, 'withperf': 1, 'ogilivi': 1, 'thermoregul': 1, 'fremetu': 1, 'hrrr': 1, 'bpsyst': 1, 'syphili': 2, 'lvedv': 1, 'denei': 1, 'jewleri': 1, 'overcom': 1, 'vasodil': 8, 'duod': 1, 'culltur': 3, 'concerv': 1, 'regurgitatiaon': 1, 'cvo': 2, 'drymm': 1, 'megac': 2, 'mci': 6, 'meat': 3, 'preventit': 1, 'coccyg': 4, 'mdp': 3, 'radiopharmaceut': 6, 'ymf': 7, 'yankaw': 2, 'whiteout': 7, 'gemcitabin': 2, 'pemetrex': 2, 'obstr': 1, 'djrx': 1, 'bronchosopi': 1, 'jvg': 5, 'warrent': 2, 'jerki': 1, 'osteodystrophi': 2, 'chonic': 2, 'pscyh': 1, 'serequil': 2, 'unhook': 1, 'infl': 1, 'placc': 1, 'diffucalti': 1, 'repoet': 1, 'thenpt': 1, 'levofloxacillin': 2, 'coamnd': 1, 'cetriaxon': 4, 'consisitenetli': 1, 'menatl': 1, 'desptit': 1, 'stubborn': 1, 'halsol': 1, 'repitit': 1, 'guiafenisin': 1, 'antihistamin': 1, 'arthoplasti': 1, 'ajdunct': 1, 'adit': 1, 'radiopac': 3, 'unstimul': 3, 'concens': 1, 'strenal': 1, 'avaial': 1, 'adequit': 1, 'fortun': 3, 'azithrmycin': 1, 'trydin': 1, 'radioopac': 1, 'prvc': 8, 'dysynchronon': 1, 'pertussin': 1, 'atrail': 1, 'disychron': 1, 'disynchroni': 1, 'shfit': 1, 'prehypertens': 1, 'indomethecin': 1, 'agrees': 1, 'conest': 2, 'dimisnih': 1, 'simplifi': 1, 'behalf': 5, 'aib': 1, 'item': 6, 'primarli': 1, 'oncom': 2, \"does'nt\": 2, \"'and\": 1, 'paprecita': 1, 'lso': 1, 'relatuv': 1, 'vva': 1, 'nsclung': 1, 'atrient': 1, 'neutropnia': 1, 'tachpneiuc': 1, 'pneumoia': 2, 'sotolol': 1, 'apar': 1, 'inlcud': 1, 'pilonid': 2, 'serevet': 1, 'nac': 5, 'veru': 1, 'restor': 5, 'epmpyema': 1, 'accompan': 1, 'drawal': 1, 'admx': 1, 'nam': 2, 'neosyenphrin': 1, 'amongst': 2, 'diarhea': 1, 'auacel': 1, 'spftsorb': 1, 'hemdynam': 2, 'kinnaer': 1, 'usu': 1, 'vicu': 1, 'ehtic': 1, 'gangrren': 1, 'sscp': 2, 'vsicu': 1, 'hame': 1, 'dcoper': 1, 'toleer': 1, 'rythem': 2, 'bretah': 1, 'givrn': 1, 'metopropolol': 1, 'ogtub': 1, 'feelow': 1, 'pericariectomi': 1, 'respones': 1, 'turniong': 1, 'ahpb': 1, 'ssinsulin': 1, 'downslop': 4, 'toletr': 1, 'amniodaron': 1, 'pal': 2, 'affes': 1, 'folri': 1, 'overdr': 1, 'mastectomi': 2, 'unlikley': 2, 'neurosarcoidosi': 2, 'supertherapeut': 3, 'corticosteroid': 5, 'stablizi': 1, 'wdwn': 2, 'quid': 1, 'neurosarcoid': 2, 'startedprednison': 1, 'broader': 4, 'hyst': 1, 'possit': 1, 'likey': 4, 'urnin': 1, 'obe': 1, 'wallker': 1, 'didnot': 1, 'odererd': 1, 'withu': 1, 'antipsychot': 6, 'eccyhmosi': 1, 'cfl': 1, 'jeviti': 3, 'punch': 2, 'nonformulari': 1, 'pseudamon': 1, 'showel': 1, 'hyperchlorem': 5, 'cardioprotect': 1, 'orthoponea': 1, '^tth': 1, 'uncl': 2, 'risperd': 5, 'lisnopril': 1, 'reanal': 1, 'carbepenem': 1, 'ret': 1, 'hypoglyceamia': 1, 'albutero': 1, 'transufs': 1, 'overdialyz': 1, 'hypercholesterol': 1, 'medivion': 1, 'jjf': 1, 'hypophosphatemia': 5, 'correlatingpt': 1, 'endocrinolog': 1, 'sbplow': 1, 'tachypneak': 1, 'novolog': 2, 'daylight': 1, 'fondapar': 1, 'incontinen': 1, 'finsulin': 1, 'justifi': 2, 'humullin': 1, 'mailto': 3, 'hitt': 1, 'cnsd': 2, 'dysynch': 1, 'vpice': 1, 'pseudoma': 1, 'trabnsient': 1, 'trendingdong': 1, 'tbg': 1, 'diltiazam': 2, 'qb': 1, 'humalin': 1, 'priscrib': 1, 'tryin': 1, 'clincial': 3, 'hemodialyiisi': 1, 'guestur': 1, 'stength': 1, 'diltazam': 1, 'trsat': 1, 'systoc': 1, 'hdfor': 1, 'antipseudomon': 1, 'pseud': 1, 'preround': 2, 'hbg': 2, 'tunnl': 1, 'sensitivi': 7, 'pseudomna': 1, 'hyperlipidema': 2, 'susbequet': 1, 'pansensit': 3, 'tuptak': 1, 'aureginosa': 1, 'dound': 1, 'cilastatin': 2, 'diaylsi': 1, 'asthama': 1, 'azb': 2, 'incorpor': 1, 'rechck': 1, 'tidac': 1, 'esomeprazol': 1, 'inspitori': 1, 'ssment': 1, 'pneumnonia': 2, 'portuges': 4, 'recreas': 1, 'biacodyl': 1, 'spl': 1, 'gangcyclovir': 1, 'epoeitin': 1, 'exo': 1, 'hemodialyz': 1, 'distresss': 1, 'cntinu': 1, 'wp': 1, 'aeurginosa': 1, 'convertig': 1, 'ciontinu': 1, 'calctbg': 1, 'suctionedfor': 1, 'unph': 1, 'pseudocholinesteras': 1, 'susbequ': 1, 'transplat': 1, 'csa': 1, 'ditiazem': 2, 'fise': 1, 'mannag': 2, 'wrespiratori': 1, 'cog': 1, 'judg': 1, 'tft': 4, 'noncuf': 1, 'viremia': 1, 'effecti': 1, 'ngsf': 2, 'edam': 1, 'protugues': 1, 'quinolon': 6, 'pannicul': 1, 'aureou': 1, 'twf': 3, 'minocyclin': 1, 'diphenhydramin': 3, 'staphaur': 1, 'birder': 1, 'demonstrate': 1, 'fati': 1, 'peritin': 1, 'collectino': 1, 'trajectori': 1, 'mixtur': 2, 'appendic': 1, 'wounc': 1, 'duo': 2, 'peach': 1, 'exlap': 2, 'omentum': 3, 'exploratori': 2, 'sigmoidectomi': 1, 'baium': 1, 'plactment': 3, 'turbid': 3, 'anastomot': 1, 'viscu': 1, 'hypereosinophil': 1, 'biospi': 4, 'dysonea': 2, 'pregnant': 3, 'knowd': 1, 'odl': 1, 'transpulmon': 1, 'progressov': 1, 'trasnfger': 1, 'dermatomyos': 1, 'macrophag': 1, 'worsten': 3, 'tbbx': 2, 'hp': 2, 'insomia': 1, 'motnh': 1, 'infiltar': 1, 'neumon': 1, 'hme': 2, 'diluadid': 2, 'expedit': 2, 'abnom': 2, 'erlichiosi': 1, 'entak': 1, 'hereditari': 1, 'enceph': 7, 'tbna': 1, 'gdextros': 1, 'lymphocyctosi': 1, 'spirochet': 1, 'ivsion': 1, 'rodent': 1, 'sprue': 1, 'asterixisi': 1, 'mutat': 2, 'ippv': 2, 'ondansetrol': 1, 'vhhc': 1, 'asterix': 1, 'hlh': 1, 'electrophoresi': 1, 'lympanopathi': 1, 'noninfecti': 5, 'sjogren': 1, 'thrombotytopenia': 1, 'hav': 2, 'ascet': 3, 'leptospira': 1, 'pcr': 10, 'priorit': 1, 'multisystem': 1, 'cound': 1, 'igm': 5, 'restricion': 1, 'abid': 2, 'galactomann': 1, 'pantoprozol': 2, 'otoxoc': 1, 'hyptotens': 1, 'choriomening': 1, 'gaa': 1, 'hemolys': 2, 'postinflammatori': 1, 'ehrlichia': 3, 'leptospirosi': 1, 'unrel': 6, 'bedsi': 1, 'aliment': 1, 'arboviru': 1, 'hanta': 2, 'ehrilichia': 1, 'demyelin': 3, 'hemochromatosi': 2, 'vector': 1, 'leptomening': 7, 'visi': 1, 'behcet': 1, 'pulsesl': 1, 'pivet': 1, 'ration': 2, 'mice': 1, 'multiorgan': 3, 'tna': 1, 'lymphomcyt': 1, 'abnormail': 1, 'vdrl': 1, 'boipsi': 1, 'syphilli': 1, 'treponem': 1, 'lethospirosi': 1, 'lymphocytochoriomening': 1, 'cytometri': 2, 'hhv': 2, 'colorless': 1, 'noncardiogen': 2, 'lymphocytosi': 2, 'vzv': 2, 'hhc': 1, 'abdnorm': 1, 'recusit': 1, 'hypoalbuminem': 1, 'histoplasma': 3, 'bilarer': 1, 'elus': 2, 'contibut': 2, 'ttg': 1, 'bcse': 1, 'thrirsti': 1, 'ceruloplasmin': 1, 'lyme': 1, 'monocyt': 1, 'whichev': 1, 'varicella': 3, 'effis': 1, 'umbrella': 2, 'ureterovesicular': 1, 'loom': 1, 'cecal': 3, 'cecu': 1, 'ehospit': 1, 'ogilvi': 3, 'mididrin': 1, 'fopr': 1, 'unsupport': 5, 'thorough': 1, 'levadopa': 2, 'doa': 1, 'distraught': 2, 'pilot': 1, 'dimminish': 1, 'palabl': 1, 'frequantli': 1, 'imper': 1, 'perspir': 1, 'rtrad': 1, 'tracheiti': 2, 'withouth': 1, 'candidia': 1, 'predniselon': 1, 'iavb': 1, 'radail': 1, 'percodan': 2, 'rhd': 3, 'tranx': 4, 'nwb': 1, 'ccon': 1, 'pinki': 1, 'receiven': 1, 'asacol': 2, 'furthur': 2, 'xxx': 4, 'cought': 2, 'atroven': 2, 'coolneb': 1, 'tachicard': 1, 'withsob': 1, 'effcet': 1, 'refkect': 1, 'amytriptylin': 1, 'titrabl': 1, 'elavil': 1, 'titanium': 1, 'onoclogist': 1, 'hoem': 1, 'stanidng': 1, 'melenoma': 1, 'glyburid': 4, 'glyberid': 1, 'jplace': 1, 'ocver': 1, 'bst': 1, 'compel': 3, 'suboptimalwil': 1, 'iiic': 1, 'ifn': 2, 'unkink': 1, 'arthroma': 1, 'azipthromycin': 1, 'hosoit': 1, 'lvf': 2, 'hypothyr': 1, 'affabl': 1, 'fn': 8, 'cchang': 1, 'faairli': 1, 'alum': 1, 'irrrig': 1, 'palit': 1, 'haspain': 1, 'lpuls': 1, 'irrigant': 1, 'proedur': 1, 'amll': 1, 'shiftmetabol': 1, 'aroun': 1, 'percoet': 1, 'coccyn': 1, 'uper': 1, 'clariti': 1, 'lith': 1, 'fidget': 1, 'trolard': 1, 'adenomatoid': 1, 'holdup': 1, 'stomat': 1, 'impar': 1, 'pachi': 1, 'osteomyl': 2, 'bactreial': 1, 'periradicular': 1, 'vertebrobasilar': 1, 'adduct': 3, 'appolog': 1, 'dissatisfi': 1, 'nslc': 1, 'acutelyworsen': 1, 'knife': 1, 'oe': 1, 'fiduci': 2, 'senc': 2, 'kyphoscoliosi': 4, 'interpos': 1, 'polymyalgia': 1, 'hypocholesterolemia': 1, 'psox': 1, 'glycerid': 1, 'misdirect': 1, 'pleurovac': 1, 'tkr': 7, 'pneuomothorax': 1, 'osteotomi': 1, 'wate': 1, 'rescan': 2, 'lockout': 1, 'bonchovascular': 1, 'pleaural': 2, 'verab': 1, 'deoderm': 1, 'strait': 1, 'carckl': 1, 'dobutamon': 1, 'warfain': 1, 'shatter': 1, 'poosibl': 1, 'kayaxol': 1, 'dopaim': 1, 'perhr': 1, 'viabil': 2, 'occassionali': 2, 'hell': 2, 'categori': 2, 'histamin': 2, 'cymbalta': 6, 'danglig': 1, 'tubef': 1, 'dopain': 1, 'cholecyctilit': 1, 'cholinerg': 1, 'thallium': 2, 'giuac': 1, 'mvoe': 1, 'herapin': 1, 'bale': 2, 'oink': 1, 'patter': 1, 'simmilar': 1, 'hurri': 1, 'descib': 2, 'doputamin': 1, 'lone': 2, 'wafe': 1, 'zyprexin': 1, 'cantanker': 1, 'mrge': 2, 'toom': 1, 'duoern': 1, 'pleuural': 1, 'comtinu': 2, 'upgaz': 1, 'ambigu': 1, 'cct': 4, 'bifasicular': 1, 'hypexia': 1, 'decrement': 2, 'valproic': 4, 'survey': 1, 'ectasia': 5, 'myoglobinuria': 1, 'acetabular': 4, 'brachioradiali': 1, 'paresi': 3, 'prohress': 1, 'adequatli': 1, 'urban': 1, 'eveid': 2, 'spat': 1, 'sagit': 1, 'antiplatelet': 3, 'iubprofen': 1, 'exersis': 1, 'asever': 1, 'claustrophob': 3, 'restarint': 1, 'rightsid': 1, 'coopar': 1, 'radiculopahti': 1, 'submucos': 1, 'sttemp': 1, 'strido': 1, 'medaistin': 1, 'omem': 1, 'sttempt': 1, 'unmet': 1, 'scc': 8, 'scca': 2, 'radiculopathi': 2, 'bpap': 2, 'reccomedn': 1, 'dariculopahti': 1, 'underlyinig': 1, 'dmultipl': 1, 'bedlin': 1, 'nirs': 1, 'surger': 1, 'ashen': 2, 'flag': 1, 'industri': 1, 'chk': 1, 'ureteroscopi': 2, 'anastamosi': 2, 'premorbid': 1, 'negaitv': 2, 'radioluc': 3, 'metopralol': 1, 'attg': 6, 'cea': 4, 'emaci': 2, 'nonradiopaqu': 1, 'lavo': 1, 'chect': 1, 'azithrimycin': 1, 'qmonday': 1, 'clopidogrel': 4, 'lsb': 2, 'steatohepat': 1, 'alp': 2, 'reportedthat': 1, 'adminsit': 1, 'downto': 1, 'altaplas': 1, 'appropx': 1, 'indict': 2, 'reck': 1, 'calledto': 1, 'bldg': 1, 'mpsc': 1, 'geriatrician': 1, 'heati': 1, 'infeciton': 1, 'elevaet': 1, 'pss': 1, 'hydrea': 1, 'povh': 1, 'hydroxyurea': 3, 'opaciti': 1, 'wsd': 1, 'extubt': 3, 'hydorcortison': 1, 'edmat': 1, 'tridyn': 1, 'prevou': 2, 'ceftazin': 1, 'dssd': 3, 'vietnames': 1, 'phoin': 1, 'erd': 1, 'mushroon': 2, 'mkore': 1, 'mimim': 1, 'astreonam': 1, 'appropropri': 1, 'chantix': 1, 'vareniclin': 1, 'hypomagnisemia': 1, 'vocabulari': 1, 'lymp': 1, 'dicc': 1, 'dehydratioin': 1, 'viocodin': 1, 'ncslc': 1, 'constent': 1, 'considert': 1, \"day'\": 1, 'fup': 2, 'cuad': 1, 'polymicrobi': 7, 'besyl': 2, 'hk': 5, 'liuqid': 1, \"'a\": 1, 'verbiag': 1, 'posterioli': 1, 'tendini': 1, 'corda': 1, 'proceur': 1, 'valuium': 1, 'eustachian': 3, 'tread': 1, 'kaopect': 1, 'cholest': 2, 'totprot': 1, 'signfici': 4, 'shelik': 1, 'aksb': 2, 'hrct': 4, 'bismuth': 1, 'meningism': 1, 'hemidiaphrapm': 1, 'subsalicyl': 1, 'pendi': 1, 'banalc': 1, 'midclavicl': 1, 'psuedomon': 1, 'arso': 1, '^d': 1, 'pizza': 1, 'producitv': 1, 'prgress': 1, 'cepefim': 1, \"cx'\": 2, 'albutreol': 1, 'insmal': 1, 'invest': 1, 'cuvrv': 1, 'unablet': 1, 'superviss': 1, 'nonadher': 1, 'hydralyzin': 1, 'mting': 1, 'posiibl': 1, 'rlc': 1, 'clobestsol': 1, 'pychiatr': 1, 'interpert': 1, 'comppens': 1, 'effctiv': 1, 'dyne': 2, 'qti': 1, 'endocardit': 1, 'todat': 2, 'sequent': 1, 'precauion': 1, 'occul': 1, 'twelv': 1, 'subclavi': 1, 'legionna': 1, 'assault': 3, 'depo': 1, 'scelera': 1, 'cryo': 1, 'soudn': 1, 'procudur': 1, 'betamethason': 2, 'weaend': 1, 'clobestol': 1, 'freuqent': 1, 'fuid': 1, 'microdata': 2, 'femerol': 1, 'peeep': 1, 'amont': 1, 'recept': 2, 'transpulmonari': 2, 'baratr': 1, 'ont': 1, 'schizoprenia': 1, 'pfr': 2, 'pase': 1, 'reposons': 1, 'surprizingli': 1, 'abnormalitiy': 1, 'toil': 1, 'hist': 1, 'satisafctori': 1, 'wain': 1, 'favour': 1, 'graphic': 1, 'verbalis': 1, 'availi': 1, 'lrage': 1, 'choleysist': 1, 'maintaint': 1, 'recv': 1, 'antcip': 1, 'prc': 2, 'ptr': 1, 'erythremat': 1, 'panu': 2, 'legionnair': 3, 'verb': 1, 'moniotor': 1, 'ectopt': 1, 'vigilantli': 2, 'cholecyt': 1, 'liner': 2, 'condidt': 1, 'laast': 1, 'rear': 1, 'movem': 1, 'adust': 1, 'hypernatrium': 1, 'ibandron': 2, 'ridden': 1, 'intetmitt': 1, 'sclqae': 1, 'delec': 1, 'hypenatremia': 1, 'clinici': 1, 'mie': 3, 'colum': 2, 'lmidron': 1, 'pecocet': 1, 'bonchiti': 1, 'nocuturn': 1, 'convalesc': 1, 'empric': 2, 'riclast': 1, 'incenitv': 1, 'orlb': 1, 'andm': 1, 'monomorph': 2, 'legnionella': 1, 'shit': 1, 'morphic': 1, 'persev': 3, 'aspiraiton': 1, 'pneuomonia': 2, 'rhochi': 1, 'gentlr': 1, 'intiti': 4, 'resucit': 2, 'stomcach': 1, 'visitng': 1, 'nusr': 1, 'cpcp': 2, 'suciotn': 1, 'hemodynamicli': 2, 'nmb': 1, 'infectin': 1, 'larang': 1, 'atart': 1, 'serivc': 1, 'akinwat': 1, 'reconsclip': 2, 'poulmonari': 1, 'retroperitonael': 1, 'plugg': 1, 'obatin': 1, 'famli': 1, 'cul': 1, 'completli': 1, 'especilli': 1, 'mucomist': 3, 'catopril': 1, \"tf'\": 2, 'intraprocedur': 2, 'laryhg': 1, 'nremain': 1, 'asb': 1, 'mulitlobular': 1, \"'snsr\": 1, 'outwardli': 1, 'hopsit': 2, 'fluticasin': 1, 'endometri': 2, 'sucraf': 1, 'callou': 1, 'vytorin': 1, 'dipp': 1, 'hyperplast': 3, 'xri': 1, 'choleycystectomi': 1, 'boil': 1, 'tylenolol': 2, 'bailar': 1, 'grandmoth': 2, 'hydrobromid': 3, 'malabsorpt': 1, 'phenobarb': 3, 'nasonex': 1, 'clarithromycin': 2, 'adj': 3, 'hepaticojejunostomi': 1, 'readd': 1, 'pjp': 5, 'neutrapen': 1, 'myelosupress': 1, 'myocardia': 2, 'condsid': 1, 'outburst': 2, 'stoneman': 1, 'pellucidum': 2, 'cwia': 1, 'cefepem': 2, 'orthodrom': 1, 'schf': 3, 'childdren': 1, 'string': 1, 'acidoci': 1, 'glucont': 1, 'bbker': 1, 'yersinia': 1, 'cultru': 1, 'fmask': 1, 'bioavailibilti': 1, 'pentoxyfillin': 1, 'jhere': 1, 'myelofibrosi': 1, 'pentoxifyllin': 1, 'danazol': 1, 'angiotensin': 1, 'coagulapath': 1, 'campylobact': 2, 'fece': 7, 'chaplain': 2, 'neuromusc': 2, 'accordigli': 1, 'alkelem': 1, 'hydroxylurea': 1, 'bradypnea': 1, 'vibrio': 1, 'antagonist': 2, 'vpa': 2, 'surrog': 1, 'etiomad': 1, 'hypothryroid': 1, 'hematologist': 1, 'intron': 1, 'eminclud': 1, 'dopplear': 1, 'dexmedetomidin': 3, 'cortstim': 3, 'euthyroid': 1, 'ish': 2, 'ohter': 1, 'hazzi': 1, 'eia': 5, 'sriel': 1, 'serel': 1, 'draiin': 1, 'lllpna': 1, 'fley': 1, 'congeat': 1, 'prethicken': 4, 'regurgittaion': 1, 'diffrenc': 1, 'ivh': 2, 'cmii': 1, 'bradicard': 1, 'reinvolv': 1, 'diari': 2, 'xigri': 1, 'recieiv': 2, 'seiaur': 1, 'ong': 1, 'tting': 1, 'reyetaz': 1, 'myoclonu': 4, 'decin': 1, 'ritonovir': 2, 'hmo': 1, 'radiocontrast': 1, 'clorhexedin': 1, 'gerealo': 1, 'microbi': 1, 'takeoff': 1, 'tracjh': 1, 'reticulocyt': 2, 'diulatin': 1, 'soduim': 1, 'nacrot': 1, 'washcloth': 1, 'reconstitut': 4, 'acrocyanosi': 1, 'pml': 3, 'openli': 1, 'shrink': 3, 'consost': 1, 'macrocyt': 3, 'chlor': 1, \"gnr'\": 1, 'precuss': 1, 'initai': 1, 'leukencephalopathi': 1, 'dital': 1, 'blee': 2, 'ogress': 1, 'aswer': 1, 'retsart': 1, 'contribtuion': 1, 'mannitol': 1, 'leukoencephalopati': 1, 'knuckl': 1, 'gangren': 5, 'etiol': 1, 'arv': 2, 'colleg': 2, 'geograph': 2, 'botain': 1, 'gre': 2, 'thlenol': 1, 'contempl': 2, 'trippl': 3, 'hypoton': 5, 'uncal': 2, 'assista': 1, 'defend': 3, 'popular': 3, 'youngest': 1, 'mpression': 2, 'vestibular': 2, 'manomet': 2, 'certif': 1, 'cryptococcu': 1, 'unprompt': 1, 'haartwith': 1, 'ototox': 1, 'practition': 2, 'barotrauma': 4, 'pharmd': 3, 'scew': 1, 'transamitini': 1, 'shink': 1, 'decompos': 1, 'cepftim': 1, 'dexemethason': 1, 'hyperreflexia': 1, 'hypernutremia': 2, 'affair': 1, 'disproportion': 1, 'litter': 1, 'sulfadizin': 1, 'kinet': 4, 'tuft': 1, 'unorthodox': 1, 'entens': 1, 'vascularpreserv': 1, 'hpome': 1, 'surviv': 3, 'dysregul': 3, 'perimesencephal': 1, 'unasses': 1, 'recrudes': 1, 'chlorhexedin': 1, 'tor': 1, 'hypereflexia': 1, 'apnpr': 1, 'phlebotom': 1, 'purchas': 1, 'dramtic': 1, 'microorg': 3, 'fenanyl': 1, 'icp': 2, 'hyperhydr': 1, 'confront': 2, 'insynchron': 1, 'unsatisfi': 1, 'covner': 1, 'onog': 1, 'hypercholorem': 1, 'peac': 3, 'pointer': 1, 'pentobarbit': 2, 'bradyca': 1, 'aminoglycosid': 3, 'stagnat': 1, 'pyrimethamin': 1, 'tynelol': 1, 'immatur': 2, 'familiar': 3, 'rdia': 1, 'secrest': 2, 'encephalpathi': 1, 'shose': 1, 'primaqin': 1, 'micafungin': 3, 'primquin': 1, 'managemet': 1, 'bloodpressur': 2, 'unfamiliar': 1, 'trasnlat': 1, 'lanzoprazol': 1, 'velcad': 2, 'shellfish': 3, 'tricor': 2, 'antim': 1, 'hyposed': 1, 'melana': 2, 'primaquon': 1, 'bel': 1, 'tamsulosin': 3, 'murmr': 1, 'poison': 2, 'ilopsoa': 1, 'rarefact': 1, 'anticoagulatoion': 1, 'narcotica': 1, 'traansfer': 1, 'prison': 4, 'methylnaltrexon': 2, 'naficillin': 1, 'atax': 1, 'hiatu': 6, 'bzd': 2, 'excruci': 1, 'unmask': 2, 'orhtostasi': 1, 'hydrochlorid': 2, 'unlikl': 1, 'housekeep': 2, 'tordol': 1, 'aneur': 2, 'severaql': 1, 'intim': 4, 'unur': 1, 'firsthand': 1, 'refusu': 1, 'metoptolol': 1, 'calcitonin': 2, 'guidan': 1, 'hu': 2, 'idic': 1, 'infectio': 1, 'progres': 2, 'voriconozol': 1, 'finerg': 1, 'mpowel': 1, 'foudn': 1, 'vacn': 1, 'microangiopathi': 1, 'edit': 2, 'narcopt': 1, 'stohnman': 1, 'atalectasi': 5, 'whinc': 1, 'mosaic': 4, 'microischem': 1, 'thyromegali': 12, 'consumpt': 5, 'iliopsoa': 1, 'altert': 1, 'myelomat': 1, 'illiopsoa': 1, 'sevelem': 2, 'protuber': 4, 'interst': 1, 'biater': 9, 'opf': 1, 'hypov': 1, 'pneumoina': 1, 'diagon': 1, 'clindmycin': 1, 'simplex': 3, 'resisit': 1, 'jiroveci': 6, 'interduc': 1, 'various': 1, 'myocolonu': 1, 'pansystol': 1, 'trabecul': 4, 'bruie': 1, 'certainti': 2, 'empiricali': 1, 'ketorolac': 3, 'weari': 1, 'whees': 1, 'wing': 1, 'oof': 1, 'senstiv': 1, 'pneumococ': 1, 'hars': 1, 'aspf': 2, 'omnipaqu': 22, 'ldic': 1, 'ptv': 1, 'feversclin': 1, 'array': 1, 'achondroplasia': 1, 'triangular': 2, 'buttok': 1, 'probem': 1, 'hipox': 1, 'antifangian': 1, 'extubaton': 1, 'yanuak': 1, 'tolow': 1, 'monitoro': 1, 'sedet': 1, 'hemotoma': 1, 'imptov': 1, 'antifangin': 1, 'palac': 1, 'rknee': 1, 'muconazol': 1, 'eved': 1, 'toput': 1, 'elevetd': 1, 'triag': 2, 'revelatori': 1, 'substrat': 3, 'mylanta': 1, 'anascol': 1, 'elabor': 1, 'ammmonia': 1, 'dopplier': 1, 'sand': 1, 'acidophillu': 1, 'therectomi': 1, 'ditress': 2, 'calv': 4, 'revascular': 2, 'endeavor': 1, 'erythemet': 1, 'divalproex': 4, 'grm': 1, 'caveat': 1, 'bmsx': 1, 'currenlti': 2, 'fvc': 4, 'paget': 2, 'bicalutamid': 1, 'infuluenza': 1, 'verstiva': 1, 'diphtheria': 1, 'edeam': 3, 'devat': 1, 'polychondr': 2, 'diptheria': 1, 'issus': 1, 'ferrousul': 1, 'ocuvit': 1, 'voltatg': 1, 'levagquin': 1, 'intlat': 1, 'cctime': 1, 'comt': 1, 'wln': 1, 'bdz': 1, 'continui': 1, 'recumb': 1, 'alkalem': 1, 'onb': 1, 'figur': 2, 'bicarp': 1, 'billat': 1, 'garb': 1, 'sodiuma': 1, 'sectrtion': 2, 'sheriff': 1, 'specifici': 1, 'combivi': 1, 'lipomatosi': 1, 'coa': 1, 'igh': 1, 'harbor': 1, 'hunulin': 1, 'porencephal': 1, 'respitor': 1, 'burr': 4, 'normotensiv': 1, 'supratentori': 4, 'paranoa': 1, 'croupi': 1, 'resuiscit': 1, 'shoudl': 1, 'lubric': 1, 'permeabl': 1, 'springwel': 1, 'villag': 1, 'magnitud': 1, 'covg': 1, 'noncontigu': 1, 'vasalva': 1, 'pelclip': 1, 'sttwc': 1, 'hemachromatosi': 1, 'winter': 2, 'orign': 2, 'hemachomotosi': 1, 'sequestr': 1, 'nonradi': 1, 'nok': 2, 'hemochromotosi': 1, 'osteophytosi': 2, 'confin': 2, 'ym': 2, 'superclavicular': 1, 'famoitidin': 1, 'dsh': 1, 'initail': 2, 'tsamiflu': 1, 'copeou': 1, 'levofloxaxin': 1, 'unprepar': 1, 'compenas': 1, 'swithc': 1, 'casopressin': 1, 'resuccit': 1, 'madanock': 1, 'dcough': 1, 'recimmend': 1, 'lrx': 1, 'lacat': 4, 'poetic': 1, 'photo': 1, 'sureg': 1, 'withdrawa': 1, 'osteltamivir': 1, 'mimic': 1, 'scarl': 1, 'vibrant': 1, 'interrogat': 1, '^wob': 5, 'represnt': 1, 'hitchcock': 1, 'latu': 1, 'neosynepherin': 1, 'withdrwal': 1, 'una': 5, 'revi': 1, 'aeronaut': 1, 'receivng': 2, 'hostil': 1, 'moicro': 1, 'cation': 1, 'osteltamavir': 1, 'offlevoph': 1, 'parameterd': 1, \"ext'\": 1, 'maskj': 1, 'appropriatr': 1, 'purlent': 1, 'hypokines': 1, 'mipt': 1, 'obtaijn': 1, 'und': 2, 'duiresis': 1, 'transferrin': 2, 'antitbiot': 1, 'centropulmonari': 1, 'mucormyst': 3, 'nbr': 1, 'inferiormost': 1, 'tricuspud': 1, 'cleat': 1, 'prb': 1, 'tho': 1, 'deglutit': 3, 'azityhromycin': 1, 'tnt': 3, 'hld': 3, 'pantoea': 1, 'racotomi': 1, 'afternnoon': 1, \"he'\": 1, 'drainaga': 1, 'lactamas': 5, 'recnt': 1, 'prethickn': 1, 'cardiomyopath': 1, 'hyolaryng': 3, 'guzzl': 1, 'suboptima': 1, 'volar': 2, 'herni': 1, 'radiocarp': 1, 'lordosi': 3, 'subinsular': 3, 'mraf': 2, 'cathter': 2, 'esophagogastr': 3, 'juglar': 1, 'reoper': 2, 'fingerbreadth': 4, 'coorespond': 1, 'ehab': 8, 'subcuticular': 4, 'cholectomi': 1, 'dish': 3, 'rosacea': 2, 'depolar': 4, 'nterval': 1, 'scanner': 6, 'posteroinferior': 1, 'parkinsonian': 1, 'gmsj': 4, 'calcifict': 1, 'peribronchovascular': 13, 'initiatio': 1, 'suprasellar': 4, 'gsenapati': 2, 'gadavist': 3, 'distinguish': 6, 'bronchoalveloar': 1, 'innumer': 3, 'juxtahilar': 1, 'witb': 1, 'semisupin': 1, 'npv': 1, 'ostomoy': 1, 'supratherpeut': 1, 'egdv': 1, 'ueo': 1, 'maleana': 1, 'thankscarolyn': 1, 'obli': 1, 'melaena': 1, 'positi': 1, 'zosoyn': 1, 'hctcheck': 1, 'continuum': 1, 'morther': 1, 'ltec': 1, 'tthrough': 1, 'ileiostomi': 1, 'basliic': 1, 'hyperextend': 1, 'axcellari': 1, 'gargl': 1, 'thalam': 3, 'oain': 1, 'tour': 3, 'scertion': 1, 'plea': 2, 'oesophg': 1, 'mucho': 1, 'scopi': 1, 'penumon': 1, 'poco': 1, 'vomittr': 1, 'egu': 1, 'oglivi': 1, 'olveckzi': 1, 'unprovok': 1, 'retropreiton': 1, 'mgu': 1, 'qthur': 1, 'chelona': 1, 'prevail': 1, 'oophorectomi': 2, 'wine': 4, 'microaspir': 1, 'zoyn': 1, 'teratoma': 2, 'alendron': 1, 'hypernam': 1, 'nonsmok': 2, \"'great\": 1, 'imay': 1, 'mucocel': 1, 'nonimmun': 1, 'asprin': 3, 'ubiquit': 1, 'adminit': 1, 'recenetli': 1, 'salpingo': 1, 'infiltart': 1, 'ammen': 1, 'peristals': 1, 'pneuomina': 1, 'historectomi': 1, 'macrolid': 3, 'pigment': 1, 'kwnown': 1, 'hsc': 3, 'monotherapi': 4, 'ethmoidectomi': 1, 'sin': 1, 'immunoglobulin': 1, 'spetic': 1, 'masp': 1, 'veg': 1, 'subclass': 1, 'usiti': 1, 'pansinus': 2, 'immunodefici': 6, 'kgm': 1, 'subnorm': 1, 'antrostomi': 1, 'defuci': 1, 'serotonin': 5, 'sequest': 2, 'meatal': 1, 'development': 5, 'tahcycardia': 1, 'tbi': 4, 'airless': 3, 'truama': 1, 'ramu': 2, 'parost': 1, 'ossifican': 1, 'ossifi': 1, 'ossif': 5, 'rami': 1, 'panc': 1, 'medullari': 4, 'heterotop': 4, 'osteosarcoma': 1, 'chondrosarcoma': 1, 'coanda': 1, 'kayexak': 1, 'hyperphospatemia': 1, 'apsir': 1, 'resuspens': 1, 'hyoxemia': 1, 'trazamin': 1, 'brath': 1, 'phosph': 1, 'stabli': 9, 'kayexcel': 1, 'tenosynov': 1, 'arth': 1, 'sevalam': 2, 'retina': 1, 'scheme': 1, 'hyperphosphotemia': 1, 'cib': 2, 'gerontololgi': 1, 'supsect': 1, 'nongap': 2, 'meformin': 1, 'feverish': 2, 'rhocnher': 1, 'orthopn': 1, 'treadmil': 1, 'suspcion': 1, 'timecours': 3, 'agma': 2, 'inhib': 1, 'rocefin': 1, 'zileuton': 1, 'leukotrien': 1, 'trhough': 1, 'crx': 1, 'levop': 1, 'triplk': 1, 'peek': 1, 'liumen': 1, 'bronk': 1, 'auitopeep': 1, 'darbopenem': 1, 'clonapin': 1, 'duodrem': 1, 'vurrent': 1, 'gran': 1, 'pleomorph': 1, 'skeptic': 1, 'bootsa': 1, 'throrac': 1, 'miplex': 1, 'sorftsorb': 1, 'peripeg': 1, 'curlex': 1, 'plateu': 1, 'placeemtn': 1, 'hopwev': 1, 'serosangui': 1, 'dori': 1, 'pulmomari': 3, 'ammonium': 1, 'adpat': 1, 'bldcx': 1, 'wrape': 1, 'bilster': 1, 'bumper': 1, 'toerlat': 1, 'dbl': 1, 'pneumonboot': 1, 'hiold': 1, 'diffusedli': 1, 'negx': 1, 'antianxietolyt': 1, 'coccobaccili': 1, 'doribax': 1, 'softworb': 1, 'cechect': 2, 'tracheomalcia': 1, 'properti': 3, 'amykacin': 1, 'metiplex': 1, 'slideboard': 5, 'cechet': 1, 'biat': 1, 'alzeim': 1, 'diuresd': 1, 'sellar': 1, 'hypochlorem': 1, 'alzhiem': 1, 'ream': 1, 'demis': 3, 'macroadenoma': 1, 'hemithorac': 3, 'moxifloxacin': 7, 'remodel': 1, 'thyoid': 1, 'macradenoma': 1, 'arousbl': 1, 'dust': 1, 'orthopedist': 1, 'thorazin': 1, 'obsess': 1, 'dignosi': 1, 'public': 4, 'phenazopyridin': 1, 'salicyl': 1, 'distruct': 1, 'oit': 1, 'slam': 1, 'airtrap': 3, 'appris': 1, 'crede': 1, 'epithet': 1, 'hydroxyzin': 4, 'shirt': 1, 'collagen': 1, 'pleurectomi': 1, 'arthrocentesi': 2, 'pectu': 2, 'nonsept': 1, 'atelectai': 2, 'gabopentum': 2, 'vistaril': 1, 'hypogammaglobulinemia': 3, 'agiit': 1, 'febreil': 1, 'gabapenton': 1, 'useless': 1, 'hcg': 1, 'inebri': 1, 'osteonecrosi': 1, 'restricti': 1, 'dentist': 1, 'kneereplac': 1, 'psychotrop': 2, 'unimpair': 1, 'bournwood': 1, 'snap': 2, 'gammaglobulinemia': 1, 'kneeleft': 1, 'carinatum': 1, 'lulobectomi': 1, 'repos': 1, 'senapati': 1, 'ventericular': 1, 'duri': 3, 'turbinectomi': 1, 'antimirobi': 1, 'precuationsplan': 1, 'completley': 1, 'expecetd': 1, 'septalectomi': 1, 'unexpect': 4, 'aceess': 1, 'renounc': 1, 'welcom': 2, 'mendehlson': 1, 'complan': 1, 'rythum': 1, 'entail': 1, 'isometr': 3, 'tspn': 4, 'consistn': 1, 'cystiti': 4, 'hypercholeserolemia': 1, 'sildenafil': 2, 'leukcytosi': 2, 'navi': 1, 'estat': 1, 'prosatectomi': 1, 'denser': 5, 'disconcert': 1, 'trespass': 1, 'rhc': 3, 'dyskinesia': 1, 'pastpt': 1, 'uleg': 1, 'pride': 1, 'pericardialcenti': 1, 'inconti': 2, 'cdifff': 1, 'huid': 1, 'rrva': 1, 'sofa': 1, 'propanalol': 1, 'schistocyt': 1, 'beforehand': 1, 'abacavir': 2, 'paracentisi': 1, 'smv': 3, 'sticker': 4, 'opportunitist': 1, 'hemetemesi': 1, 'freeca': 1, 'slump': 1, 'uln': 1, 'tenofovir': 2, 'sldh': 1, 'cte': 1, 'rehospit': 3, 'tbil': 1, 'pldh': 1, 'capaci': 1, 'cmrepeat': 1, 'radiologymaureen': 1, 'gastroview': 1, 'gastro': 1, 'repes': 1, 'resi': 1, 'dohboff': 1, 'refilm': 1, 'surgeru': 1, 'disea': 2, 'ptft': 1, 'brachiocepahl': 1, 'olt': 3, 'vdrf': 1, 'consolodi': 1, 'txp': 2, 'crystalloid': 2, 'thalassemia': 1, 'otiti': 1, 'media': 1, 'toxoplamosi': 1, 'hemotocrit': 1, 'undo': 1, 'asss': 1, 'cefaclor': 1, 'nurseri': 1, 'ceclor': 1, 'inforc': 1, 'nifediipin': 1, 'raynoid': 1, 'effusi': 1, 'predescrib': 1, 'aztrenam': 1, 'mycin': 2, 'beign': 2, 'bicycl': 1, 'intrinis': 1, 'cannabinoid': 1, \"leni'\": 1, 'sertalin': 1, 'cannabi': 1, 'ajust': 2, 'eu': 1, 'antidep': 1, 'admtt': 1, 'bumpi': 1, 'sizewis': 1, 'cannibu': 1, 'valgancyclovir': 2, 'valacyclovir': 1, 'aeipf': 1, 'valcyclovir': 1, 'macroph': 1, 'vangcyclovir': 1, 'atiavan': 1, 'herps': 1, 'hepe': 1, 'bronchoscpi': 1, 'faecal': 1, 'incontint': 1, 'parathesia': 1, 'valcyt': 3, 'incontinac': 1, 'heppa': 1, 'thump': 1, 'welder': 1, 'arachynoid': 1, 'uip': 4, 'acetylcystin': 2, 'ceftraiaxon': 1, 'anxou': 1, 'subarachanoid': 1, 'neagtiv': 1, 'reapir': 1, 'sidedweak': 1, 'eospinophilia': 1, 'amitiptyllin': 1, 'suspician': 2, 'librari': 1, 'silicosi': 1, 'precip': 1, 'pck': 1, 'ctdz': 1, 'pansinusitu': 1, 'librarian': 1, 'cep': 1, 'reop': 1, 'myxomat': 1, 'diagsnosi': 1, 'wold': 1, 'aneurysn': 1, 'brocnhoscopi': 1, 'rhiniti': 2, 'abpa': 1, 'invovel': 1, 'uk': 2, 'ilii': 1, 'midclavicular': 4, \"morning'ha\": 1, 'condensan': 1, 'nomin': 1, 'osteiti': 1, 'prevoid': 1, 'adjacebt': 1, 'sjbj': 5, 'fissu': 1, 'shortn': 3, 'glan': 1, 'sugesst': 1, 'patial': 1, 'upstair': 3, 'seasion': 1, 'evdeic': 1, 'sciatica': 1, 'threaten': 3, 'flextur': 2, 'temporali': 1, 'destrucitv': 1, 'rrc': 1, 'hyponutremia': 1, 'suclavian': 1, 'rveal': 1, 'autist': 1, 'legfor': 1, 'pachymening': 4, 'lm': 2, 'mediatinum': 1, 'hyperton': 2, 'seas': 1, 'orthogon': 2, 'calvari': 1, 'sunitinib': 1, 'dendrit': 1, 'medistiastinum': 1, 'aortopulmon': 1, 'inping': 1, 'seiszur': 1, 'micromass': 1, 'trig': 3, 'encephlopath': 1, 'scull': 1, 'effsuion': 1, 'odynophagia': 4, 'mesial': 2, 'heaven': 1, 'obstrut': 1, 'fosphenytoin': 1, 'rxcg': 1, 'autism': 1, \"perf'\": 1, 'indirect': 3, 'enterographi': 1, 'tenth': 2, 'twelfth': 1, 'eleventh': 1, 'volvulu': 4, 'narrowest': 1, 'microcytosi': 1, 'hyperem': 1, 'sigmoidoscopi': 1, 'proctoscopi': 1, 'atribut': 1, 'cholecalciferol': 3, 'readress': 1, 'radioi': 1, 'radioact': 2, 'predict': 3, \"grave'\": 1, 'erectil': 1, 'flak': 1, 'modax': 2, 'postcentr': 1, 'hypoaesthesia': 1, 'grd': 1, 'ipsilater': 1, 'microhemorrhag': 2, 'unwilling': 1, 'hba': 5, 'laparatomi': 1, 'gyru': 2, 'infero': 3, 'reivew': 1, 'postcontrast': 1, 'thourough': 1, 'cth': 2, 'gyriform': 1, 'robust': 6, 'tachcyardia': 1, 'pallidu': 1, 'sew': 1, 'adc': 4, 'gastrotomi': 2, 'tonsillar': 1, 'predispos': 4, 'melen': 1, 'reismann': 1, 'arbout': 1, 'globu': 1, 'refut': 1, 'udergo': 1, 'dysfuct': 2, 'lllasp': 1, 'laryngoscopi': 2, 'magnum': 1, 'oversew': 1, 'tonsilar': 1, 'overnigh': 1, 'signifi': 1, 'enzyem': 1, 'volu': 1, 'nmed': 3, 'harvest': 2, 'pterygoid': 1, 'recordsnafcillin': 1, 'wocrn': 1, 'followl': 1, 'initati': 1, 'hempdynam': 2, 'humiditifi': 1, 'fascicul': 1, 'thiock': 1, 'crtical': 1, 'leucopenia': 1, 'difficuolt': 1, 'elb': 1, 'deltoid': 2, 'varici': 1, 'repsositio': 1, 'agres': 1, 'necktar': 1, 'meropenenem': 1, 'guac': 1, 'approximatli': 1, 'polymyopathi': 1, 'nephriti': 1, 'abilti': 1, 'mulitfoc': 1, 'axon': 2, 'hitler': 1, 'swall': 1, 'encpehalopath': 1, 'propel': 1, 'hypovolm': 1, 'flatter': 2, 'bedridden': 1, 'elsd': 1, 'nadalol': 1, 'mmt': 6, 'restlessli': 1, 'compelt': 1, 'patientnafcillin': 1, 'spesi': 1, 'adequaci': 2, 'chirrosi': 1, 'perisepsi': 1, 'stm': 2, 'depelt': 1, 'gentler': 1, 'inclement': 1, 'heterotopia': 1, 'chirossi': 1, 'boat': 1, 'weanign': 1, 'delist': 1, 'withsept': 1, 'propranolol': 1, 'ppli': 1, 'electrophysiolog': 1, 'overlaod': 2, 'valuat': 1, 'devi': 1, 'inatak': 1, 'propofaol': 1, 'pge': 1, 'eslc': 1, 'fse': 1, 'hoy': 1, 'safer': 1, 'lactolas': 1, 'lecopenia': 1, 'polymyoneuropathi': 1, 'intracerebr': 2, 'intrac': 1, 'lactuols': 1, 'iadl': 2, 'neosynephin': 1, 'myoclon': 3, 'bradykinet': 1, 'polyneuropathi': 3, 'coursa': 1, 'intradur': 2, 'epicondyl': 2, 'indent': 3, 'dfif': 1, 'sclen': 1, 'apach': 1, 'mercuri': 1, 'ammoni': 1, 'intemitt': 1, 'lactact': 2, 'desonid': 1, 'isir': 1, 'citri': 1, 'guanifensin': 1, 'prognost': 1, 'geritrician': 1, 'patientmercuri': 1, 'hydroxyzon': 1, 'hypoixia': 1, 'orba': 1, 'parksinson': 1, 'strikingli': 1, 'sweetcorn': 1, \"parkinson'\": 1, 'isdn': 2, 'nephrolithotomi': 1, 'irbesartan': 1, 'effius': 1, 'hlp': 1, 'flower': 2, 'promis': 3, 'hga': 3, 'oncomycosi': 1, \"romi'\": 1, 'processbi': 1, 'xygen': 1, 'avapro': 1, 'jam': 1, 'concerngin': 1, \"pcp'\": 1, 'fyi': 2, 'anesthesiolog': 1, 'crosstoler': 1, 'roto': 1, 'pneumonmediastinum': 1, 'doxicyclin': 2, 'entamoeba': 1, 'pvk': 1, 'patiient': 1, 'annum': 1, 'mcafungin': 1, 'modb': 1, 'lcm': 1, 'schmerzther': 1, 'sye': 1, 'flashback': 1, 'cvm': 1, 'secanodari': 1, 'pneumomedistin': 1, 'elvev': 1, 'prcv': 1, 'hyoglycemia': 1, 'intrapulmonari': 6, 'mlhr': 1, 'glragin': 1, 'maxax': 2, 'intensivm': 1, 'mucl': 1, 'mkm': 1, 'aemia': 1, 'anest': 1, 'thrombocytopen': 2, 'wriggl': 1, 'mve': 1, 'critici': 1, 'eosionphil': 1, 'mgc': 1, 'rotopron': 2, 'mosit': 1, 'doee': 1, 'tryadyn': 1, 'hantaviru': 1, 'respriatori': 7, 'cart': 3, 'trendelenberg': 3, 'weel': 1, 'chart^': 1, 'shd': 3, 'unsatgebal': 1, 'pron': 1, 'nmda': 1, 'minax': 2, 'eichinococcu': 1, 'clin': 2, 'nur': 1, 'rss': 1, 'echinococcu': 1, 'hyperalgesia': 2, 'variablil': 1, 'feedback': 1, 'tward': 1, 'rotapron': 1, 'notfallm': 1, 'raidal': 2, 'ctg': 4, 'anathesiol': 1, 'oncol': 1, 'limt': 1, 'algorhythm': 1, 'portugues': 3, 'calyx': 1, 'pylostomi': 1, 'replc': 1, 'nephrotomi': 1, 'anesthesiologist': 1, 'sillhouhett': 1, 'aanterior': 1, 'anteroposterior': 1, 'solitari': 5, 'falciform': 2, 'obstruc': 1, 'neoesophagu': 1, 'bellow': 1, 'cvid': 2, 'rheumatologist': 1, 'minimun': 1, 'dypspnea': 1, 'floromethalon': 1, 'butun': 1, 'ipr': 1, 'rattli': 2, 'pneumonvax': 1, 'provoc': 1, 'dir': 2, 'cutlur': 4, 'sohx': 1, 'mgmnt': 1, 'actuat': 2, 'subjac': 1, 'baker': 1, 'bronchoconstrict': 1, 'bairhugg': 1, 'hydroxid': 5, 'fliuid': 1, 'fahx': 1, 'eventr': 2, 'pectic': 1, 'estgfr': 1, '^rdl': 1, 'guifensien': 1, 'bilroth': 1, 'dimentia': 1, 'novolin': 2, 'chewabl': 3, 'claclium': 1, 'abv': 1, 'remid': 1, 'olsetamivir': 1, 'pseudoobstruct': 1, 'whirl': 1, 'farr': 1, 'sphincterotomi': 1, 'myofasci': 1, 'epzicom': 1, 'atazanavir': 1, 'eelvat': 1, 'reyataz': 1, 'piroxicam': 1, 'hypoventili': 1, 'unremarakbl': 1, 'mep': 1, 'narcoti': 1, 'hprn': 1, 'ism': 1, 'cotninu': 2, 'qual': 1, 'clininc': 1, 'epilecticu': 1, 'signic': 1, 'tremen': 2, 'lactuls': 1, 'pneumonianow': 1, 'whc': 1, 'duie': 1, 'umen': 1, 'rpaid': 1, 'donut': 1, 'emei': 1, 'mens': 2, 'cig': 2, 'coff': 1, 'flumenazil': 1, 'deleriumt': 1, 'hopefuil': 1, 'deprees': 1, 'bucket': 1, 'pint': 1, 'decorticaiton': 1, 'improvt': 2, 'grp': 1, 'hyropneumothorax': 1, 'unidentifi': 2, 'nteract': 1, 'antidepend': 1, 'trilob': 1, 'pyeloplasti': 1, 'tld': 1, 'multicoc': 1, 'immodium': 3, 'vmr': 1, 'cefapem': 1, 'stumbl': 1, 'gfamili': 1, 'dyarthria': 1, 'dysarththia': 1, 'thallasemia': 1, 'farmer': 1, 'pnanot': 1, 'stube': 1, 'curl': 8, 'arisen': 1, 'uplift': 1, 'uniform': 2, 'afford': 2, 'fiorin': 1, 'caffien': 1, 'tongith': 1, 'dehyr': 1, 'vasculartur': 1, 'becsu': 1, 'intertrigo': 1, 'fllow': 1, 'affor': 1, 'leginonella': 1, 'desipramin': 1, 'chroninc': 1, 'quinadin': 1, 'plale': 1, 'metforman': 1, 'consolidatioin': 1, 'land': 1, 'dysfunt': 1, 'schwannoma': 2, 'dofetillid': 1, 'silhoutt': 1, 'underi': 1, 'signai': 1, 'sgift': 1, 'utter': 2, 'hssi': 3, 'cigar': 1, 'cbg': 3, 'epistaxsi': 1, 'hepatobiliari': 4, 'toprolol': 1, 'excor': 1, 'crash': 1, 'gradulli': 1, 'inout': 1, 'mirolax': 1, 'bdg': 1, 'enxt': 1, 'stereotact': 1, 'shapr': 1, 'hyperphosphatemia': 2, 'puplmonari': 1, 'intratubular': 1, 'kayaxel': 1, 'ducolox': 1, 'condens': 1, 'postvoid': 1, 'glomerulonephr': 2, 'toleran': 1, 'ralesb': 1, 'splenoport': 1, 'spleno': 2, 'varix': 1, 'rightr': 1, 'bronchiolar': 3, 'cementoplasti': 1, 'pseudoarthrosi': 1, 'spondyl': 1, 'opacitii': 1, 'ankylos': 1, 'conceal': 2, 'obtur': 1, 'currnetli': 1, 'theresid': 2, 'contsip': 1, 'opteas': 3, 'hemiperisi': 1, 'addomen': 1, 'intravertebr': 1, 'monitori': 1, 'sorbitol': 1, 'gonald': 1, 'levl': 1, 'resiz': 1, 'leukodytosi': 1, 'patientprednison': 1, 'consitp': 1, 'fliter': 1, 'overfe': 2, 'subarrachnoid': 1, 'brim': 1, \"'better\": 1, 'hystrectomi': 1, 'pyschosi': 1, 'hyerkalemia': 1, 'hypogammaglobinemia': 1, 'liklihood': 1, 'aiha': 1, 'onppi': 1, 'pleuridex': 1, 'rituxan': 1, 'zosn': 1, 'preme': 1, 'px': 3, 'hospitalizait': 1, 'inard': 1, 'bedamustin': 1, 'acycolovir': 1, 'galss': 1, 'aihi': 1, 'histroy': 3, 'pnau': 1, 'atelectatsi': 1, 'duaghter': 1, 'lsinoprel': 1, 'subgal': 2, 'pansinu': 1, 'fcn': 1, 'stablliz': 1, 'arang': 1, 'spustum': 1, 'slntg': 2, 'bluid': 2, 'dysf': 1, 'holosystol': 3, 'arl': 1, 'cratinin': 1, 'migratori': 1, 'evenli': 1, 'shilouett': 1, 'exceedingli': 1, 'isnorm': 1, 'raynaud': 1, 'overestim': 2, 'proportio': 1, 'catecholamin': 1, 'comporomis': 1, 'spbt': 1, 'aneurism': 1, 'techngu': 1, 'macaroni': 1, 'contamini': 1, 'reintubt': 1, 'resons': 2, 'buyt': 1, 'fmssa': 1, 'ical': 1, 'whiff': 1, 'hepb': 1, 'aarom': 1, 'nafcililn': 1, 'surv': 2, 'cefetriazidim': 1, 'laq': 2, 'naf': 2, 'extrmeitii': 1, 'diuresesi': 1, 'uee': 1, 'finesterid': 1, 'flonas': 2, 'hypophon': 1, 'imapir': 1, 'catecholami': 1, 'frigidi': 1, 'feso': 3, 'mirco': 1, 'patientlidocain': 1, 'sefl': 1, 'extremu': 1, 'satuat': 1, 'vcabg': 1, 'atlectesi': 1, 'dsitress': 1, 'isorhythm': 1, 'dissoci': 1, 'neoesophag': 1, 'levoflaoxin': 1, 'msntal': 1, 'bidew': 1, 'betaseron': 1, 'antoibiot': 1, 'lomictil': 1, 'fentanyla': 1, 'normo': 3, 'morphinel': 1, 'prelmininari': 1, 'porch': 1, 'millimetr': 2, 'borderl': 1, 'groshung': 1, 'dextroconvex': 2, 'radio': 4, 'heteregen': 2, 'additino': 1, 'opacificaton': 1, 'anchor': 1, 'cariat': 1, 'ajnd': 1, 'cisterna': 2, 'magna': 2, 'deffrer': 1, 'negativebal': 1, 'ult': 1, 'dnh': 2, 'descid': 2, 'impedi': 2, 'multidisicplinari': 1, 'mulitdisciplinari': 1, 'mycocardi': 1, 'dysnychromi': 1, 'genesi': 1, 'unexpectedli': 1, 'proir': 1, 'aceiv': 1, 'tapabl': 1, 'plana': 1, 'nio': 1, 'mepelex': 1, 'alkalsosi': 1, 'inexpect': 1, 'bpmaintain': 1, 'teanaou': 1, 'respiaratori': 1, 'bacj': 2, 'resrict': 1, 'prcocet': 1, 'uterotomi': 1, 'talli': 1, 'bankart': 1, 'egfr': 3, 'levoxacin': 1, 'cardiazem': 1, 'somewher': 1, 'thiamain': 1, 'clilnic': 1, 'street': 2, 'nake': 2, 'teanm': 1, 'agita': 1, 'atlectasi': 3, 'macdonald': 1, 'beverag': 2, 'pantri': 1, 'trazdon': 1, 'beng': 1, 'increaseili': 1, 'percardi': 1, 'pleurx': 3, 'smalll': 1, 'slthough': 1, 'choyk': 3, 'seeen': 1, \"cxr'\": 1, 'condyl': 2, 'torqu': 1, 'othervis': 2, 'subclaviam': 1, 'erlotinib': 1, 'afsn': 3, 'spinemetastas': 1, 'lifetim': 1, 'ismo': 1, 'triamteren': 2, 'metorrolol': 1, 'lisinopriltoler': 1, 'outputbun': 1, 'rode': 1, 'dand': 1, 'successs': 1, 'clime': 1, 'lenient': 1, 'aortobifemor': 1, 'startw': 1, 'sinia': 1, 'rhaspi': 1, 'feeder': 1, 'amphysema': 1, 'tremain': 1, 'alkali': 1, 'hypecapnia': 1, 'gitelman': 1, 'exogen': 1, 'hypok': 1, 'posthypercapnia': 1, 'ribcag': 1, 'fasoli': 1, 'branow': 1, 'hyperaldo': 1, 'subliguin': 1, 'pcm': 2, 'uro': 1, 'urethra': 2, \"bartter'\": 1, 'comtamin': 1, \"copd'er\": 1, \"bs'\": 3, 'bronchodi': 1, 'holder': 2, 'havewith': 1, 'placent': 1, 'pepicd': 1, 'msk': 3, 'murmer': 3, 'abxif': 1, 'urether': 1, 'mesothelioma': 1, 'procainamid': 1, 'albulmin': 1, 'actiiv': 1, 'influenc': 3, 'notori': 1, 'amlitud': 1, 'rlsb': 1, 'neehdam': 1, 'predisposit': 2, 'intfiltr': 1, 'hpothyroid': 1, 'fagitu': 1, 'projectil': 2, 'approximatley': 1, 'toy': 1, 'nasophareng': 1, 'electropheresi': 1, 'tricupsid': 1, 'endogastr': 2, 'chagn': 3, 'guiafisin': 1, 'rewiev': 1, 'mitrial': 1, 'mobila': 1, 'guiafisen': 1, 'spiromitri': 1, 'tricusp': 1, 'sihgtli': 1, 'reasonbl': 1, 'bleedi': 1, 'vactiv': 1, 'nest': 1, 'mobilix': 1, 'robotussin': 1, 'antimicribi': 2, 'doeswel': 1, 'inspiritori': 1, 'suspiscion': 1, 'dyfunct': 1, 'coumaidn': 1, 'intend': 5, 'colllaps': 1, 'rcvd': 1, 'asix': 1, 'holo': 1, 'bpmed': 1, 'catapr': 1, 'unnessari': 1, 'lipm': 1, 'clodidin': 1, 'pharyn': 1, 'arimidex': 2, 'mirilax': 1, 'collasps': 2, 'unenthusiast': 1, 'fruther': 1, 'jolt': 1, 'levaph': 1, 'alezhiem': 1, 'alzhem': 1, 'clozaril': 2, 'anerob': 1, 'antihyperglycem': 1, 'setment': 1, 'painclin': 1, 'periport': 2, 'tributari': 2, 'ileiti': 1, 'diarrheaclin': 1, 'mesent': 1, 'rmlobectomi': 1, 'rllobectomi': 1, 'extremtli': 1, 'rmlobe': 1, 'hypercarbi': 1, 'peristom': 1, 'asthmaticu': 1, 'capaicti': 1, 'continueud': 1, 'harshcough': 1, 'rhythmic': 1, 'epress': 2, 'bifida': 1, 'rmatiti': 1, 'receov': 1, 'atop': 1, 'attribuatlb': 1, 'hyperten': 1, 'psychogen': 2, 'solumedeol': 1, 'spina': 1, 'repor': 1, 'divers': 2, 'melon': 1, 'twin': 1, 'precaust': 1, 'wihoutout': 1, 'crutch': 1, 'peronei': 1, 'tibiotalar': 1, 'metaphysi': 1, 'pulem': 1, 'eyeh': 2, 'hemifraphragm': 1, 'osbuscr': 1, 'tricsupid': 1, 'elevatin': 1, 'thoracentsi': 1, 'retens': 3, 'resampl': 1, 'reticulonodular': 1, 'bigger': 3, 'adjuv': 1, 'imprvo': 1, 'pleuradesi': 2, 'accodringli': 1, \"wbc'\": 1, 'nrbc': 2, 'motnior': 1, 'threshol': 1, 'cronic': 1, 'nppvand': 1, 'lyphangt': 1, 'mgpo': 2, 'zanax': 1, 'vacat': 2, 'triglyc': 1, 'ffectiv': 1, 'crhonic': 1, 'talc': 2, 'chylou': 1, 'hypoventialt': 1, 'laryngocel': 1, 'rosenmul': 1, 'chord': 1, 'regurit': 1, 'venetricular': 1, 'weanto': 1, 'paetnci': 1, 'hate': 2, 'miser': 1, 'disucss': 1, 'andincreas': 1, 'foloey': 1, 'decreasedurin': 1, 'erst': 1, 'isulin': 1, 'mechin': 1, 'racepinephrin': 2, 'unsuccessful': 1, 'versedearli': 1, 'postivi': 1, 'amlodopin': 1, 'rhochor': 3, 'famotadin': 2, 'seconday': 1, 'adjec': 1, 'acetazolimid': 1, 'intpret': 1, 'isssu': 1, 'desynchron': 1, 'paramavir': 1, 'evercar': 1, 'lastli': 2, 'rhythem': 1, 'anticio': 1, 'tolerainc': 1, 'abdominopelv': 2, 'risbio': 1, 'nowt': 1, 'dy': 4, 'peramivir': 1, 'permavir': 1, 'softi': 1, 'murmu': 1, 'swiych': 1, 'hypertriglyceridemia': 2, 'ino': 2, 'flicker': 1, 'merapenum': 1, 'flewxis': 1, 'nimbex': 1, 'decreaas': 1, 'compatibel': 1, 'monostat': 1, 'meropenun': 1, 'nrrr': 2, 'famoticidin': 1, 'unneccessari': 1, 'flitter': 1, 'thoraco': 1, 'nitrou': 2, 'chlorehex': 1, 'culturt': 1, 'furosimid': 1, 'axiila': 1, 'lash': 1, 'abio': 1, 'andp': 1, 'mistak': 1, 'ibili': 1, 'profession': 1, 'aslix': 1, 'remp': 1, 'woudl': 2, 'initit': 1, 'cahneg': 1, 'olanzaoin': 1, 'tachyc': 1, 'gemfibrozil': 1, 'merrem': 1, 'extracardiac': 1, 'gate': 3, 'morph': 1, 'extracharg': 1, 'misregistr': 1, 'coronaryclip': 1, 'corevalv': 1, 'emograph': 1, 'silvidin': 1, 'rectis': 1, 'obstruciton': 1, 'foun': 1, 'andtibiot': 1, 'secretari': 1, 'newlli': 1, 'unrespos': 1, 'subcu': 1, 'elctorlyt': 1, 'comorbid': 5, 'haemolys': 1, 'likelyhood': 1, 'athrosclerosi': 1, 'desquam': 2, 'sklill': 1, 'tranmit': 1, 'therfor': 1, 'psl': 1, 'veinou': 1, 'saag': 1, 'fecul': 1, 'pupli': 1, 'hxhap': 1, 'maculopapular': 5, 'diatal': 1, 'uncreas': 1, 'hoock': 1, 'silverden': 1, 'desquamit': 1, 'lill': 1, 'intertriginu': 1, 'rrla': 1, 'minimallli': 1, 'sulfadiazin': 1, 'trachwostomi': 1, 'possibilit': 2, 'ftom': 1, 'sensitiv': 1, 'ilw': 2, 'hyporact': 1, 'lazix': 1, 'irrevers': 1, 'inxn': 1, 'afffect': 1, 'counteract': 1, 'maliganaci': 1, 'intravasc': 2, 'silvaden': 1, 'highgat': 1, 'spontaneo': 1, 'intertrigin': 1, 'meetin': 2, 'humolog': 1, 'deceid': 1, 'cipd': 1, 'reli': 3, 'fortuit': 1, 'adept': 1, 'encourab': 1, 'apathet': 2, 'cavitatari': 1, 'revisu': 1, 'fhph': 1, 'allso': 1, 'neumonia': 2, 'cidp': 1, 'mistreat': 1, 'setrt': 1, 'venitil': 2, 'urti': 1, 'cavi': 1, 'guaiaic': 2, 'rase': 1, 'conjunctivi': 1, 'freguent': 1, 'painless': 1, 'xc': 3, 'folowup': 1, 'pathway': 2, 'hibiclen': 2, 'scrub': 2, 'svi': 1, 'pediatrian': 1, 'tempropariet': 1, 'thte': 1, 'eleimin': 1, 'fund': 1, 'umcomfort': 1, 'hemoperitoneum': 1, 'notari': 1, 'mvc': 3, 'bugl': 1, 'unecessari': 1, 'airbag': 1, 'frx': 1, 'dtage': 1, 'ppresent': 1, 'pursuit': 1, 'prnding': 1, 'lungsrhocher': 1, 'sourceunlik': 1, 'dispit': 1, 'meningocel': 1, 'myelomalacia': 1, 'quadreplegia': 1, 'rev': 1, 'neuroforamin': 1, 'cpao': 1, 'clearl': 1, 'neurosug': 1, 'rheumatalog': 1, 'historyand': 1, 'notar': 1, 'meplix': 1, 'alkpho': 3, 'stae': 1, 'psm': 1, 'tachytachypena': 1, 'symtomat': 2, 'tarlov': 1, 'patc': 1, 'anteroinferior': 1, 'shnge': 1, 'neurosurg': 5, 'moonlight': 1, 'giardia': 1, 'relateddt': 1, 'bronciectesi': 1, 'bloodshot': 2, 'admisis': 1, 'depleat': 1, 'hyperlimidemia': 1, 'promient': 1, 'macrocytosi': 1, 'bancemia': 1, 'parenhcyma': 1, 'lnr': 1, 'hemidriagphram': 1, 'imprssion': 1, 'successfuli': 1, 'snif': 3, 'orophar': 2, 'gurgel': 1, 'alheim': 1, 'singnific': 1, 'multlipl': 1, 'ronchuou': 1, 'timelin': 1, 'appopria': 1, 'infilitr': 2, 'porit': 1, 'hbga': 1, 'gastrointenstin': 1, 'antibito': 2, 'pernin': 1, 'vommit': 2, 'diaviat': 1, 'unkonwn': 1, 'rcxr': 1, 'novemeb': 1, 'downgrad': 1, 'pur': 1, 'unkown': 2, 'hypetens': 1, 'samonella': 1, 'benc': 1, 'shigella': 1, 'tndr': 1, 'hydrocortisol': 1, 'transloc': 2, 'artefact': 3, 'hypocortisol': 1, 'ischmic': 1, 'pyridium': 1, 'chemotherpay': 1, 'amyloidosi': 1, 'thoracoplasti': 2, 'chnge': 1, 'methehemoglobinemia': 1, 'poteni': 1, 'march': 2, 'numerour': 1, 'juxtaren': 1, 'serrat': 1, 'periesophag': 1, 'postradi': 1, 'ged': 1, 'visibil': 1, 'contend': 1, 'thyromeg': 2, 'heaviest': 1, 'macroscop': 1, 'methemoglobinemia': 1, 'multidisciplnari': 1, 'circumor': 1, 'esopheg': 1, 'suffoc': 3, 'breeth': 1, 'desk': 1, 'arc': 1, 'cooximetri': 1, 'academ': 1, 'fume': 1, 'mwm': 2, 'avnrt': 3, 'avrt': 1, 'asnwer': 1, 'entrant': 1, 'nortriptyllin': 1, 'concert': 1, 'repart': 1, 'rebah': 1, 'addison': 1, 'unhelp': 1, 'asympomat': 1, 'candidiasi': 3, 'svcbrachiocephal': 1, 'mztb': 1, 'radiocapitellar': 1, 'congruenc': 1, 'trochlear': 1, 'osteosclerot': 2, 'differeti': 1, 'parainflu': 1, 'rvh': 1, 'thiazid': 1, 'vnon': 1, 'jild': 1, 'hypersensitivit': 1, 'tuna': 2, 'stneosi': 1, 'derlium': 1, 'withsever': 1, \"alzhiemer'\": 1, 'rhf': 1, 'hypoglyecem': 1, 'yestderday': 1, 'murder': 1, 'bush': 1, 'cirrhoit': 1, 'robberi': 1, 'hallucinosi': 1, 'sweatimg': 1, 'bail': 1, 'barret': 1, 'neurvascularli': 1, 'sacrific': 1, 'stratif': 1, 'sib': 1, 'violenc': 1, 'gallon': 1, 'retroact': 1, 'outpatietn': 1, 'pilori': 1, 'atm': 1, 'concomitt': 1, 'decidedli': 1, 'benardyl': 1, 'aandox': 1, 'stonosi': 1, 'uncharacterist': 1, 'garag': 1, 'apnoea': 1, 'sope': 1, 'dyspnoea': 1, 'talonavicular': 1, 'enco': 1, 'bkr': 2, 'hypoadren': 1, 'histoplasmosi': 1, 'crackel': 3, 'capnocytophaga': 1, 'capnocytophagia': 1, 'hypenatremai': 1, 'placeement': 1, 'hrx': 1, 'pneumobilia': 3, 'elevart': 1, 'friction': 2, 'dil': 2, 'klebsiela': 1, 'hyporthyroid': 1, 'sweep': 1, 'hemondynam': 1, 'pasv': 2, 'nbnb': 1, 'aduibl': 1, 'tonsilectomi': 1, 'nonbloodi': 1, 'privileg': 1, 'acinobact': 1, 'intermiitt': 1, 'levidopa': 1, 'antiparkinsonian': 1, 'carbacephem': 2, 'cnst': 1, 'acteremia': 1, 'perid': 1, 'aoritc': 1, 'chane': 2, 'bisocadyl': 1, 'infiltrat': 1, 'acenitobact': 1, 'tachypnc': 1, 'aci': 2, 'cinemet': 2, 'collistin': 1, 'ariv': 1, 'gpcocci': 1, 'nit': 3, 'colestin': 1, 'psotiv': 1, 'bovona': 1, 'acineterbact': 1, 'requip': 1, 'infetcion': 1, 'fondaprinux': 1, 'colisitin': 1, 'colisitina': 1, 'amakacin': 1, 'wherebi': 2, 'stressor': 1, 'owner': 3, 'pvv': 1, 'carita': 2, 'ropirnol': 1, 'wtith': 1, 'fondaparineux': 1, 'icub': 1, 'recycl': 1, 'bovi': 1, 'vegetataion': 1, 'cimetidin': 1, 'fondapaurinox': 1, 'syntrhoid': 1, 'fondaparinoux': 1, 'artain': 1, 'veggi': 1, 'compliat': 1, 'hopspial': 1, 'fwf': 1, 'hat': 1, 'inhaledq': 1, 'amikacina': 1, 'micor': 1, 'hypnatremia': 1, 'patienttagamet': 1, 'baumannii': 1, 'clacium': 1, 'heha': 1, 'effuion': 1, 'nrsa': 1, 'dcing': 1, 'fondaparenox': 1, 'staphylococci': 2, 'autodiureisi': 1, 'fondaparinux': 1, 'cholestasi': 4, 'untll': 1, 'tream': 1, 'fonduparinox': 1, 'mayi': 1, 'acinetobactor': 1, 'inal': 1, \"babinksi'\": 1, 'fondoparinaux': 1, 'acinitobact': 1, 'anasrca': 1, 'eblow': 1, 'pizzaria': 1, 'desimpact': 1, 'sill': 1, 'panscan': 1, 'hypotenst': 1, 'amikasin': 1, 'fondaparinox': 1, 'restaur': 2, 'traceostomi': 1, 'toxicitiy': 1, 'creatini': 1, 'withfev': 1, 'durind': 1, 'ropinirol': 1, 'hemodynamm': 1, 'discount': 1, 'pseudoman': 1, 'copnt': 1, 'rhocnhor': 1, 'amicacin': 1, 'moliz': 1, 'recult': 1, 'tagamet': 1, 'tracheosotomi': 1, 'gegtaion': 1, 'colisitn': 1, 'heidiaph': 1, 'colstin': 1, 'jllw': 1, 'detrusor': 1, \"plateau'd\": 1, 'tobramcyin': 1, 'carbapenem': 4, 'aggess': 1, 'antiboiod': 1, 'unforunt': 1, 'expansil': 1, 'vast': 1, 'debulk': 1, 'meriplex': 1, 'atmosair': 1, 'mutipodu': 1, 'limitng': 1, 'chrome': 1, 'movent': 1, 'morohin': 1, 'esophagotrach': 1, 'tricompartment': 1, 'entesophyt': 1, 'enthesopathi': 1, 'fistu': 1, 'glucomet': 2, 'bronchoesophag': 1, 'fluorodeoxyglucos': 2, 'suvmax': 1, 'ostearthr': 1, 'fistual': 1, 'salivari': 2, 'emiss': 2, 'fibros': 2, 'pave': 1, 'organz': 1, 'mensenter': 1, 'precent': 1, 'msm': 1, 'brinch': 1, 'onboard': 1, 'psychic': 1, 'darunavir': 1, 'intertwin': 1, 'crti': 1, 'unaoutput': 1, 'bicrab': 1, 'ucr': 1, 'roadblock': 1, 'minib': 3, 'lminim': 1, 'cultr': 1, 'cortsintropin': 1, 'emtricitabin': 1, 'choli': 1, 'siahd': 1, 'snort': 2, 'autopeep': 3, 'thoroughli': 2, 'tachycrad': 1, 'cholangiopathi': 1, 'seroqeul': 1, 'remina': 1, 'ucl': 1, 'duploff': 1, 'crae': 1, 'revela': 1, 'mess': 1, 'gurgli': 1, 'tmask': 1, 'respind': 1, 'quietipin': 1, 'incongru': 1, 'predat': 1, 'fior': 1, 'mirror': 1, 'appeal': 2, 'blackberri': 2, '^^sedat': 1, 'woirsenign': 1, 'pharmacokinet': 1, 'solvent': 1, 'folllw': 2, 'orophargyng': 1, 'uosm': 1, 'propylen': 1, 'throuhg': 1, 'miniz': 1, 'hypxoem': 1, 'breakthough': 1, 'seroqeil': 1, 'adedd': 1, 'affer': 2, 'uninterrupt': 2, 'linsinopril': 1, 'bristl': 1, 'satisfi': 3, 'stillrequir': 1, 'siad': 1, 'improvo': 1, 'ssdi': 1, 'serquel': 1, 'prefus': 1, 'attritub': 1, 'pvm': 1, 'diaphgragm': 1, 'dexder': 1, 'phenyephrin': 2, 'ceil': 1, 'sreat': 1, 'trednign': 1, 'sedationd': 1, 'anit': 1, 'clother': 1, 'mpore': 1, 'quetapin': 1, 'malox': 1, 'vavlular': 1, 'kollef': 1, 'surreal': 1, 'inftrat': 1, 'addednum': 1, 'wahs': 1, 'ptbd': 1, 'osmolar': 2, 'transaminti': 1, 'noectopi': 1, 'alphabet': 2, 'ballot': 1, 'decruit': 1, 'pedifeed': 1, 'biplanar': 1, 'qweekli': 1, 'modear': 1, 'gungal': 1, 'wihen': 1, 'hepatotox': 2, 'downmini': 1, 'xcr': 1, 'mpove': 1, 'restabil': 1, 'human': 5, 'interdispers': 1, 'truvada': 1, 'qualit': 1, 'pmc': 1, 'concerntrt': 1, 'bolusof': 1, 'cumul': 1, 'imped': 3, 'brnch': 1, 'groggi': 1, 'reliv': 1, 'sedation^': 1, 'prepylor': 1, 'liais': 1, 'phynelephrin': 1, 'hm': 1, 'spreadsheet': 1, 'mildili': 1, 'butopen': 1, 'tandem': 1, 'teenag': 1, 'monocytosi': 1, 'fastest': 1, 'quietiapin': 1, 'ethomid': 1, 'hypothesi': 1, 'qwk': 1, 'faqilur': 1, 'darunovir': 1, 'mout': 1, 'ritonivir': 1, 'mehtoadon': 1, 'lipemia': 1, 'bou': 1, 'thearapi': 1, 'freshli': 1, 'maxiallari': 1, 'sap': 1, 'psychotherapi': 4, 'iniit': 1, 'rohila': 2, 'peliv': 1, 'errythemat': 1, 'nape': 1, 'parencyhyma': 1, 'lcsw': 5, 'transillumin': 1, 'gulactomannan': 1, 'resolved': 1, 'rhocncher': 2, 'dysyncroni': 1, 'medazolam': 1, 'pneumobooot': 1, 'mypathi': 1, 'meropenen': 1, 'lcmv': 1, 'paraly': 1, 'apprecci': 1, 'hsould': 1, 'faiilur': 1, 'furrow': 1, 'retd': 1, 'yawn': 3, 'propogol': 1, 'hydrocortinson': 1, 'resight': 1, 'dv': 1, 'cessast': 1, 'antimicorbi': 1, 'coxiella': 1, \"we'll\": 1, 'swich': 2, 'hepain': 1, 'tranamin': 1, 'imageri': 1, 'methylprednisilon': 1, 'stoop': 2, 'targetd': 1, 'mulifoc': 1, 'aspergil': 1, 'epeatedli': 1, 'orgin': 1, 'swtich': 2, 'morp': 1, 'img': 1, 'brow': 1, 'weaningfrom': 1, 'crical': 1, 'anxiion': 1, 'murumur': 1, 'nonerythemat': 1, 'babesia': 1, 'yesterdav': 1, 'lnare': 1, 'frighted': 1, 'seratralin': 1, 'scitch': 1, 'overf': 1, 'phtsical': 1, 'sweeti': 1, 'kneel': 1, 'expi': 1, 'grandneic': 1, 'pie': 1, 'shop': 2, 'outweight': 2, 'newspap': 1, 'forhead': 1, 'rvat': 1, 'tsurg': 2, 'miniamlli': 1, 'osbstruct': 1, 'volvodynia': 1, 'paracardiac': 1, 'tachyarrhythmia': 3, 'ceftiaxon': 2, 'anouth': 1, 'infilttr': 1, 'saat': 1, 'prnumonia': 1, 'apapc': 1, 'plurit': 1, 'pyogen': 1, 'hypomagnesemia': 2, 'infliltr': 1, 'infiltrt': 1, 'tessolan': 1, 'contineud': 2, 'jk': 2, 'ahsd': 1, 'aui': 1, 'pcompobj': 1, 'secrtetit': 1, '^jajmhnhu': 1, 'jf': 1, 'cd|b': 1, '^m': 1, 'je': 1, 'ksim': 1, 'kda': 1, 'hyperlink': 1, 'maxillay': 1, 'canin': 1, 'o^o^o': 1, 'posisbl': 1, 'subclavain': 1, 'pow': 1, 'bjbj': 1, 'ijpn': 1, 'abcdelmop': 1, 'closemod': 1, 'aho': 1, 'adipos': 1, 'wfrwcw': 1, 'kdc': 1, 'histor': 1, 'msworddocword': 1, 'abcdefghijklmnopqr': 1, 'tuvwxyz': 1, 'printmod': 1, 'epidosd': 1, 'vtabl': 1, 'modular': 2, 'xdlt': 1, 'fkda': 1, 'secretit': 1, 'drt': 1, 'lpd': 1, 'auvst': 1, 'vvvv': 1, 'fmicrosoft': 1, 'atuhi|': 1, 'ajmhsh': 1, 'hajmh': 1, 'cytomegaloviru': 4, \"'worddocu\": 1, 'noteparentid': 1, 'totachypnea': 1, 'clotrimizol': 1, 'jkdb': 1, 'omkikmkkdgd': 1, 'cjojqj^jajc': 1, 'fontvi': 1, 'gqu': 1, 'rebronch': 1, \"hct'\": 1, 'cdefghijklmnopqrstuvwxyz': 1, 'paragraph': 1, 'cjojqj^jajnutren': 1, 'tachypniec': 1, 'nect': 1, 'djwbkti': 1, 'versedt': 1, 'trpnpu': 1, 'bakc': 1, 'anbpz': 1, 'j^': 1, 'galactomannin': 1, 'increasd': 1, 'kdm': 1, 'kdi': 1, 'cjojqj^jaju': 1, 'imd': 1, 'vvvvv': 1, 'ddefault': 1, 'vancomydin': 1, 'premolar': 1, 'rredden': 1, 'abcdefghij': 1, 'versioneditnotestatustemplateidautologout': 1, 'lotrimen': 1, 'crxbcklrv|': 1, 'cjojqjuv^jajh': 1, 'vn': 1, 'micolozol': 1, 'tihr': 1, 'cepapim': 1, 'ethmod': 1, 'normalcj': 1, 'abdb': 1, 'diuriesi': 1, 'vasodialtori': 1, 'promethazin': 1, 'noroviru': 2, 'bmv': 1, 'utox': 2, 'vanvo': 2, 'specturm': 1, 'sicker': 1, 'hemoli': 1, 'virul': 1, 'ki': 1, 'dextrocardia': 1, 'kartagen': 1, \"kartagener'\": 1, 'inversu': 1, 'exacerabt': 1, 'commonli': 2, 'levoscoliosi': 1, 'kkaliannan': 1, 'topogram': 1, 'earliest': 2, 'lumber': 1, 'conmsist': 1, 'mdcta': 1, 'bloom': 1, 'suspic': 1, 'ventriculostomi': 3, 'bevacizumab': 1, 'gliobastoma': 1, 'posttreat': 1, 'bentson': 2, 'omniflush': 2, 'glioblastoma': 1, 'intraves': 1, 'arctic': 1, 'pleuritc': 1, 'commissur': 1, 'hemosiderin': 2, 'panlobular': 1, 'nonehmorrhag': 1, 'periprocedur': 1, 'uniqu': 1, 'despoit': 1, 'biloma': 1, 'bilari': 1, 'rani': 1, 'herril': 1, 'femalw': 1, 'disinhibit': 1, 'legonella': 1, 'nonhogdekin': 1, 'opacu': 1, 'mutter': 1, 'fol': 1, 'azitho': 1, 'civil': 1, 'outpit': 1, 'varieti': 5, 'anzythromycin': 1, 'peera': 1, 'cholersterol': 1, 'babbl': 1, 'ngativ': 1, 'concord': 1, 'avanc': 1, 'nurns': 1, 'boundari': 1, 'bacteriruia': 1, 'farsai': 1, 'urobilin': 1, 'guifenasin': 1, 'immed': 1, 'tussiv': 1, 'abrat': 1, 'microscop': 2, 'afrebil': 1, 'parasthetica': 1, 'tli': 1, 'guafenassin': 1, 'mislead': 1, 'resort': 1, 'exercs': 1, 'nvalid': 1, 'oclac': 1, 'cna': 1, 'qbedtim': 1, 'spkem': 1, 'dysnchron': 1, 'merlgia': 1, 'ifp': 1, 'mucumyst': 1, 'subsequen': 1, 'cefedim': 1, 'transffr': 1, 'saltin': 1, 'dysmorph': 1, 'anteriro': 1, 'bruic': 1, 'reequilibr': 2, 'persian': 1, 'exten': 1, 'paresthetica': 1, 'meralgia': 1, 'bacturia': 3, 'diverticulsi': 1, 'calor': 2, 'bacteriuria': 1, 'parethetica': 1, 'ive': 1, 'diffenti': 1, 'tarc': 1, 'methyl': 2, 'cogent': 1, 'laterdo': 1, 'reset': 1, 'sputrum': 1, 'skirt': 1, 'barrir': 1, 'critlcal': 1, 'prodict': 1, 'urobiligen': 1, 'beep': 2, 'discontiu': 1, 'guanefisin': 1, 'meniscectomi': 1, 'ciloxan': 1, 'otic': 1, 'ostial': 2, 'timi': 1, 'aysmmetri': 1, 'rhonor': 1, 'rewarm': 1, 'mucuou': 1, 'cmpathi': 1, 'euvolum': 1, 'cotnineu': 1, 'nother': 1, 'unlcear': 1, 'dicontinu': 1, 'hypervolum': 1, 'arthrosclerot': 1, 'arr': 1, 'appx': 1, 'supratherapuet': 1, 'metases': 1, 'pericod': 1, 'cholangiocarcinoma': 1, 'atttemp': 1, 'faliur': 1, 'pyelo': 2, 'quadrigemin': 1, 'insepar': 1, 'perigest': 1, 'rump': 1, 'intrauterin': 1, 'gestat': 1, 'pregnanc': 2, 'transabdomin': 2, 'transvagin': 1, 'referenc': 1, 'gasteau': 1, 'chromosom': 1, 'gastaut': 1, 'delet': 1, 'sbi': 1, 'hypopkinesi': 1, 'subopitm': 1, 'anteromedi': 2, 'ffnding': 1, 'transposit': 1, 'dipo': 1, 'whichi': 1, 'magnesia': 5, 'tempsiv': 1, 'frost': 1, 'patientpenicillin': 2, 'axe': 2, 'hollow': 1, 'sucat': 1, 'sax': 1, 'uncoopr': 1, 'plax': 1, 'inturpetur': 1, 'hctof': 1, 'crcl': 1, 'annunci': 1, 'unintellig': 3, 'respositon': 1, 'sacram': 1, 'cefalosporin': 1, 'speka': 1, 'perinueum': 1, 'sensitivti': 1, 'hemidi': 1, 'senili': 1, 'hyrdatoinwith': 1, 'incessantli': 1, 'cholinesteras': 1, 'hypopho': 1, 'lasxi': 1, 'rspons': 1, 'arcu': 1, 'henodynam': 1, 'contantli': 1, 'gun': 1, 'isoecho': 1, 'prove': 1, 'breathhold': 1, 'kkaliann': 2, 'onsit': 1, 'viii': 1, 'trocar': 1, 'infratentori': 1, 'mitodrin': 1, 'tranplant': 1, 'linezold': 1, 'thoracenthesi': 1, 'hliv': 1, 'sifnific': 1, 'malnutritrion': 1, 'effusdion': 1, 'prefilt': 1, 'prieiou': 1, 'chevron': 1, 'currentl': 1, 'pblm': 1, 'ronchii': 1, 'mero': 1, 'vean': 1, 'polycyst': 1, 'immens': 1, 'prismas': 1, 'postfilt': 1, 'ligthli': 1, 'pckd': 1, 'likelyt': 1, 'wopman': 1, 'autosom': 1, 'pcld': 1, 'periop': 3, 'dupplex': 1, 'duderm': 1, 'neprologost': 1, 'rescu': 1, 'spongett': 2, 'bipsi': 1, 'overfeed': 3, 'cpnsult': 1, 'diuoderm': 1, 'uncement': 1, 'pacement': 1, 'venopunctur': 2, 'coapt': 1, 'possil': 1, 'sectionsclip': 1, 'teamunabel': 1, 'ingrow': 1, 'undisplac': 1, 'vei': 1, 'demat': 1, 'menigit': 1, 'toxicolog': 3, 'hemodynaimc': 1, 'cefeim': 1, 'meningit': 2, 'resusci': 1, 'huumalong': 1, 'checkstool': 1, 'diluat': 1, 'nucchal': 1, 'enucl': 1, 'calcifion': 1, 'similiar': 1, 'cephalomalacia': 1, 'explana': 1, 'perplex': 2, 'astound': 1, 'withb': 1, 'frequenti': 1, 'hyperlycemia': 1, 'biweekli': 1, 'starvat': 2, 'topamax': 2, 'wakekup': 1, \"'re\": 1, 'underfe': 2, 'nonspec': 1, 'manaul': 1, 'frap': 1, 'topimax': 1, 'hypopotassemia': 1, 'provigil': 1, 'seqeunc': 1, 'provgigil': 1, 'uptrend': 1, 'methylnaltraxon': 1, 'appeard': 1, 'notabley': 1, 'innappri': 1, 'crap': 1, 'respiratoy': 2, 'ketosi': 1, 'svce': 2, 'valproat': 1, 'blueberri': 1, 'uation': 1, 'sugeri': 2, 'triglyericd': 1, 'dulcolox': 1, 'alththough': 1, 'ouch': 1, 'sprinkl': 1, 'topiram': 2, 'myxedema': 1, 'dilitiazem': 1, 'lasixc': 1, 'equilib': 1, 'requilibri': 1, 'caregroup': 1, 'critial': 1, 'cardioembol': 1, 'enterocol': 1, 'cghc': 1, 'ocnsid': 1, 'subcrit': 1, 'confound': 1, 'partway': 1, 'minimz': 1, 'addiiton': 1, 'ato': 1, 'chlorosept': 1, 'dissimilar': 1, 'indistinguish': 1, 'dysambul': 1, 'dietitian': 1, 'hsl': 1, 'urologist': 1, 'hemorrhoidectomi': 1, 'checkbook': 1, 'psychologist': 1, 'pip^^': 1, 'thoracensi': 1, 'rrin': 1, 'sprint': 2, 'cacecth': 1, 'snu': 1, 'tedium': 1, 'treatabl': 2, 'dexm': 1, 'ethmoidali': 1, 'errand': 1, 'ecanazol': 1, 'txt': 1, 'haemophilu': 1, 'peribroncholar': 1, 'papul': 2, 'fuel': 1, 'interspers': 2, 'aurv': 1, 'multivit': 2, 'evaluatw': 1, 'randitin': 1, 'entrap': 1, 'lasdyt': 1, 'eater': 1, 'sliglhtli': 1, 'pessi': 1, 'psychopharm': 1, 'albican': 2, 'hint': 1, 'impir': 1, 'ventilatit': 1, 'propolol': 1, 'geodon': 1, 'cutaen': 1, 'colas': 1, 'blucan': 1, 'mysteri': 1, 'drrock': 1, 'previs': 2, 'murki': 1, 'vibrat': 2, 'pnm': 1, 'peribronchovasc': 1, 'prosac': 1, 'thoracantesi': 1, 'mwedic': 1, 'triamcinolin': 1, 'psychopharmocolog': 1, 'radiol': 1, 'plseval': 1, 'ubw': 2, 'irrtiat': 1, 'intiub': 1, 'electrolyet': 1, 'fovea': 1, 'xfuse': 1, 'enterococci': 1, 'mull': 1, 'slidenafil': 1, 'tirtrat': 1, 'dor': 1, 'defalt': 1, 'fbmp': 1, 'mgbld': 1, 'thoracentes': 1, 'manometri': 1, 'hypoallergen': 1, 'perrir': 1, 'vom': 1, 'lenezolid': 1, 'comfotali': 1, 'barorauma': 1, \"cib'\": 1, 'rind': 1, 'incorrectli': 1, 'vasodialtor': 1, 'cholecystisit': 1, 'editor': 1, 'corazepan': 1, 'anxiolysi': 1, 'throracentesi': 1, 'calmin': 1, 'trazadonea': 1, 'eosinophillia': 1, 'precautionari': 1, 'analyst': 1, 'reigimen': 1, 'ritilan': 1, 'brielli': 1, 'freelanc': 1, 'nutropho': 1, 'labtap': 1, 'unbleach': 1, 'abraid': 1, 'milkshak': 2, 'reexamin': 2, 'tchypnic': 1, 'sidenafil': 1, 'stoic': 1, 'jungian': 1, 'feedng': 1, 'psychotherapist': 1, 'casemgmt': 1, 'peco': 1, 'tachyp': 1, 'achieiv': 1, 'afp': 1, 'venit': 1, 'estol': 1, 'saquinavir': 1, 'koh': 1, 'iloson': 1, 'uvolemia': 1, 'intercos': 1, 'amountsof': 1, 'remedi': 1, 'alf': 2, 'cephlic': 1, 'repositin': 1, 'devlop': 1, 'myelolysi': 1, 'cenral': 1, 'amyotroph': 1, 'createn': 1, 'mue': 2, 'mmg': 1, 'diert': 1, 'inquiz': 1, 'mindo': 1, 'arom': 1, 'lsca': 1, 'tympanit': 1, 'cpbt': 1, 'mepalex': 1, 'dulcoloax': 1, 'milranon': 1, 'xct': 1, 'presurg': 1, 'ilu': 1, 'ecasa': 1, 'epic': 1, 'task': 2, 'plf': 1, 'tumb': 1, 'closureat': 1, 'orthonpea': 1, 'upc': 2, 'indescret': 1, 'bradykinesia': 1, 'dexter': 2, '^cre': 1, 'polyval': 2, 'adeuat': 1, 'attn': 1, 'kefzol': 1, 'girth': 1, 'rafib': 1, 'pulmoray': 1, 'levph': 1, 'oxycoceon': 1, 'symptathet': 1, 'ntx': 2, 'minimla': 1, 'loer': 1, 'senit': 1, 'hctat': 1, 'basesabg': 1, 'alkalod': 1, 'tamilfu': 1, 'chlorthalidon': 1, 'rept': 1, 'akskasj': 1, 'porpofol': 1, 'chlortahlidon': 1, 'arytenoid': 1, 'masspro': 1, 'insufl': 1, 'uco': 1, 'gentamyin': 1, 'collis': 2, 'prevsiou': 1, 'xpeep': 1, 'klonipen': 1, 'turnaround': 1, 'floppi': 1, 'autodiurs': 1, 'placemen': 1, 'understan': 1, 'reistant': 1, 'oxybutnin': 1, 'nephtotoxin': 1, 'unclean': 1, 'packyear': 1, 'solument': 1, 'unreport': 1, 'schd': 2, 'repositionpt': 1, 'qafternoon': 1, 'angiti': 1, 'augementin': 1, 'discontd': 1, 'hytpertens': 1, 'aryepiglott': 1, 'velopharyng': 1, 'agenda': 1, 'beselin': 1, 'proprol': 1, 'deinf': 1, 'inexsuffal': 1, 'turbin': 1, 'freundii': 1, 'binocular': 1, 'presidex': 1, 'chlorthiadon': 1, 'reitub': 1, 'fluroquinolon': 2, 'andxiou': 1, 'iam': 1, 'imroov': 1, 'ketalac': 1, 'compliact': 1, 'preferr': 1, 'flouroquinolon': 1, 'bur': 1, 'arthir': 1, 'fai': 1, 'explant': 1, 'cae': 1, 'addntl': 1, 'wetter': 1, 'citrobactor': 1, 'tittrat': 1, 'notablw': 1, 'sevret': 1, 'wmay': 1, 'parplegia': 1, 'lasixd': 1, 'coac': 1, 'citrobact': 1, 'systemat': 1, 'unobstruct': 1, 'soputum': 1, 'systolicali': 1, 'hyrdalazin': 1, 'viusliz': 1, 'relart': 1, 'llleffus': 1, 'appeasr': 1, 'tympanet': 2, 'delat': 1, 'vasculopath': 1, 'nafficillin': 1, 'seoncdray': 1, 'hyperfus': 1, 'suctionnig': 1, 'cmmaureen': 1, 'yedterday': 1, 'derma': 1, 'upop': 1, 'spontanes': 1, 'aesthesia': 1, 'eucarin': 1, 'msn': 1, 'shoift': 1, 'eucerin': 1, 'contribnut': 1, 'sto': 1, 'hydrocerin': 1, 'aroud': 1, 'elec': 1, 'gmmg': 1, 'ocmv': 1, 'overdistent': 1, 'conditon': 1, 'hower': 1, 'conscent': 1, 'cefipm': 1, 'monitoir': 1, 'monitir': 1, 'hemid': 1, 'misconcept': 1, 'moniotir': 1, 'dsay': 1, 'conern': 1, 'respira': 1, 'rete': 1, 'tansient': 1, 'semiloos': 1, 'pede': 1, 'howevr': 1, 'sett': 2, 'trolyt': 1, 'fenatnyl': 1, 'ertyhemat': 1, 'intrvascular': 1, 'infutur': 1, 'gmca': 1, 'mgsulf': 1, 'probiot': 1, 'accetp': 1, 'uncompromis': 1, 'descquamatin': 1, 'eysterday': 1, 'exfoli': 1, 'mnot': 1, 'consisten': 1, 'lactobacillu': 3, 'vential': 1, 'trunkal': 1, 'vanomycin': 1, 'contt': 1, 'tors': 1, 'unalb': 1, 'specific': 1, 'albuminemia': 1, 'colc': 1, 'propriat': 1, 'malig': 2, 'sherriff': 1, 'mirtazepin': 2, 'cacet': 1, 'serotyp': 2, 'fluricason': 1, 'bromchial': 1, 'sufflat': 1, 'lifelong': 1, 'gstain': 1, 'broncu': 1, 'largevolum': 1, 'eft': 1, 'methypr': 1, 'midazalam': 1, 'wheze': 1, 'commensur': 2, 'toasess': 1, 'npleas': 1, 'kernel': 3, 'methpr': 1, 'multivitiamin': 1, 'movementx': 1, 'apprear': 1, 'zosym': 1, \"ble'\": 2, 'amand': 1, 'grnd': 1, 'idid': 1, 'interdigit': 2, 'plau': 1, 'enzymat': 1, 'exotropia': 1, 'globulin': 1, 'immuno': 1, 'bandermia': 1, 'omin': 1, 'contramin': 1, 'shear': 1, 'hemodiaylsi': 1, 'abluterol': 1, 'multifactoir': 1, 'decubi': 2, 'anitcoag': 1, 'allyvn': 1, 'recoment': 1, 'flexocel': 1, 'meropenom': 1, 'bias': 1, 'envioron': 1, 'responsiv': 1, 'protacol': 1, 'trigemineni': 1, 'nonprogress': 2, 'gravitiy': 1, 'dermatom': 1, 'amikican': 1, 'math': 1, 'additioanlli': 1, 'tapin': 1, 'reprogram': 1, 'paradoxu': 2, 'hypercalcem': 1, 'ddi': 1, 'revsion': 1, 'obliteraion': 1, 'sash': 1, 'palpitaiton': 1, 'parodoxu': 1, 'renali': 1, 'fxnal': 1, 'terrifi': 1, 'satellit': 2, 'slack': 1, 'wakler': 1, 'lymphoplasmoct': 1, 'persuad': 1, 'vastcular': 1, 'malt': 1, 'cytogenet': 1, 'clote': 1, 'pleurex': 2, 'lympoma': 1, 'hypotn': 2, 'anioplasti': 1, 'lymphoid': 1, 'dbcd': 1, 'etio': 2, 'rhoncouru': 1, 'levsin': 1, 'hemiparet': 1, 'anticoaul': 1, 'jplacement': 1, 'incras': 1, 'acetaminoph': 1, 'pneuonia': 1, 'flexeril': 1, 'hemangiomata': 1, 'gk': 1, 'amn': 1, 'refin': 3, 'mantain': 2, 'murphi': 1, 'signfiic': 1, 'cyclobenzaprin': 1, 'doxylam': 1, 'pulsat': 1, 'brachicephal': 1, 'bochdalek': 1, 'pgr': 1, 'neisseiria': 1, 'compos': 1, 'dialect': 1, 'hepatotoxi': 1, 'palvix': 1, 'babinski': 1, 'pineal': 2, 'meningid': 1, 'hindi': 1, 'icc': 1, 'ppeg': 1, 'contimin': 1, 'reactant': 2, 'player': 1, 'neisseria': 1, 'dispers': 1, 'pgtube': 1, 'meningitidi': 1, 'cmpi': 1, \"dep't\": 1, 'cite': 1, 'consul': 2, 'reimburs': 1, 'sectrion': 1, 'mute': 1, 'ooob': 1, 'usa': 2, 'normalwithout': 1, 'poba': 1, 'farenheit': 1, 'accru': 1, 'phenobard': 1, 'fould': 1, 'prx': 1, 'dizepam': 1, 'musckl': 1, 'instabilti': 1, 'somnel': 1, 'hpyotens': 1, 'stiffman': 1, 'anaphi': 1, 'tussilon': 1, 'buproprion': 1, 'tablespoon': 2, 'hemopysi': 1, 'african': 1, 'hempotysi': 1, 'preview': 1, \"it'\": 1, 'chadashvili': 1, 'intraparenchyma': 1, 'txcf': 1, 'concuss': 1, 'hemopneumatocyst': 1, 'magarw': 2, 'pnemothorax': 1, 'shorntess': 1, 'peripartum': 1, 'concomitantli': 1, 'lumpect': 1, 'fnh': 2, 'falcin': 1, 'szm': 1, 'rmca': 1, 'subfalcin': 1, 'trabecular': 1, 'dminant': 1, 'appearsto': 1, 'preoccupi': 1, 'lymphomat': 1, 'ischium': 1, 'masslik': 1, 'fulconazol': 1, 'hac': 1, 'obta': 1, 'quikli': 1, 'dorm': 1, 'lacross': 1, 'ceftra': 1, 'adjit': 1, 'periumbil': 2, 'fuconazol': 1, 'ablil': 1, 'bronchosocpi': 1, 'aformet': 1, 'lpicc': 1, 'aiway': 1, 'normotensv': 1, 'majorli': 1, 'simethacon': 1, 'periextub': 1, 'exbuat': 1, 'triat': 1, 'includec': 1, 'attebnd': 1, 'clavic': 1, 'miconzol': 1, 'cot': 1, 'shiift': 1, 'familu': 1, 'yogart': 1, 'persistec': 1, 'celsiu': 1, 'miscommun': 1, 'zyprex': 1, 'nutritin': 1, 'taccypn': 2, 'navalbin': 1, 'malai': 1, 'backgroun': 1, 'maineten': 1, 'dyspnia': 1, 'cextriaxon': 1, 'nopain': 1, 'immunochromogen': 1, 'hgba': 2, 'patientlipitor': 1, 'bipass': 1, 'pyuria': 3, 'transcrib': 1, 'woren': 1, 'blend': 1, 'rjab': 2, 'perifoc': 1, 'excert': 1, 'diffiulti': 1, 'broaod': 1, 'gingiv': 1, 'lethal': 1, 'miralex': 1, 'philosophi': 1, 'tonsillectomi': 1, 'anesthia': 1, 'pnuemon': 1, 'voluem': 1, 'comensur': 1, 'explicitli': 2, 'suv': 2, 'ventliat': 1, 'gound': 1, 'heparinoid': 1, 'hopitilaz': 1, 'calenadar': 1, 'hfm': 1, 'incur': 1, 'mel': 1, 'miarlex': 1, 'ataxia': 2, 'etoposid': 1, 'withtout': 1, 'sympathi': 1, 'starl': 1, 'losmap': 1, 'rchf': 1, 'presacr': 1, 'situationclip': 1, 'intestiti': 1, 'ostia': 1, 'pnaeumomia': 1, 'ctc': 1, 'tolterodin': 1, 'intracerebellar': 1, 'optison': 3, 'proximmali': 1, 'periampullari': 1, 'oncern': 1, 'isoton': 1, 'lethari': 1, 'setti': 1, 'nere': 1, 'pse': 1, 'asso': 1, 'downhil': 1, 'omezprazol': 1, 'udomona': 1, 'inpneumonia': 1, 'delierum': 1, \"alzheimer'\": 1, 'earlyy': 1, 'misestim': 1, 'amputaton': 1, 'seropquel': 1, 'carvidolol': 1, 'rag': 1, 'asm': 1, 'proteinac': 2, 'mrcp': 2, 'grapefruit': 1, 'nausa': 1, 'repositioningof': 1, 'scleroderma': 2, 'pretracha': 1, 'craniocerv': 1, 'brodoefel': 1, 'resolu': 1, 'pharaynx': 1, 'deveat': 1, 'fascial': 1, 'drainaig': 1, 'iac': 1, 'recol': 1, 'pulmona': 1, 'ctp': 1, 'mtt': 1, 'rkcb': 2, 'precentr': 1, 'unhappi': 1, 'gratitud': 1, 'discouragr': 1, 'defeat': 1, 'diconstinu': 1, 'highlight': 1, 'aftet': 2, 'consenu': 1, 'acknowledeg': 1, 'subglot': 1, 'worsesn': 1, 'ronchouru': 1, 'drag': 1, 'olgilvi': 1, 'pneumotosi': 1, 'isosourc': 2, 'mirabili': 1, 'aphagia': 1, 'supratheraopeut': 1, 'combat': 1, 'mbi': 1, 'meplex': 1, 'acidem': 1, 'renarrow': 1, 'outreach': 1, 'cefe': 1, 'olgivi': 1, 'ramitidin': 1, 'opaticit': 1, 'hisoto': 1, 'oseltamivr': 1, 'aminsom': 1, 'pericari': 1, 'precut': 1, 'itraconazol': 1, 'oscil': 1, 'keayxal': 1, 'mold': 2, 'resolev': 1, 'cholecyts': 1, 'aspirgillu': 1, 'influenz': 2, 'panlobar': 1, '^sedat': 1, 'tnd': 1, 'sevalem': 1, 'pleae': 1, 'cholecystisi': 1, 'guaifenisen': 1, 'dermatotomi': 1, 'difficl': 1, 'denerv': 1, 'cavaatri': 1, 'lund': 1, 'olu': 1, 'patientzosyn': 1, 'swine': 1, 'cxx': 1, 'speicat': 1, 'maibor': 1, 'leukocyto': 1, 'andmoist': 1, 'electromyographi': 1, 'tachypnoea': 1, 'afl': 1, 'buckl': 2, 'dff': 1, 'encouragec': 1, 'advanbc': 1, 'cerruloplasmin': 1, 'elat': 1, 'hypoterm': 1, 'lidaocain': 1, \"le'\": 1, 'maxillori': 1, 'inaud': 1, 'aluminum': 1, 'tunel': 1, 'incom': 1, 'hydrox': 1, 'canc': 1, 'rhab': 1, 'signiticantli': 1, 'phelobotomi': 1, 'tosay': 1, 'doff': 1, 'commnd': 1, 'treshold': 1, 'abbx': 1, 'benterobact': 1, 'tobro': 1, 'lansprazol': 1, 'bradycardi': 1, 'mgd': 1, 'sensitivitei': 1, 'aluminium': 1, 'transist': 1, 'athough': 1, 'insilun': 1, 'rneal': 1, 'gerontolog': 2, 'apn': 1, 'muffl': 1, 'trachestomi': 1, 'lansoprosol': 1, 'prussur': 1, 'hyperphophatemia': 1, 'gauic': 1, 'circardian': 1, 'aloud': 1, 'intermediari': 1, 'sural': 1, 'fespiratori': 1, 'ccv': 1, 'cvhh': 1, 'lidocaint': 1, 'straigh': 1, 'hypnot': 1, 'procedurel': 1, 'voicemail': 1, 'unspeci': 1, 'cammnd': 1, 'consold': 1, 'wjll': 1, 'lovul': 1, 'dexreas': 1, 'consolidationi': 1, 'preval': 1, 'steepli': 1, 'wooden': 1, 'zygoma': 1, 'monasteri': 1, 'disshelvel': 1, 'upstream': 1, 'oversewn': 1, 'psbo': 1, 'vagotomi': 1, 'pelvicalic': 1, 'billroth': 1, 'undistend': 1, 'antrectomi': 1, 'contingu': 1, 'colorect': 1, 'goo': 1, 'bibsilar': 1, 'fisula': 1, 'dieat': 1, 'macrobid': 1, 'meniscu': 1, 'emypema': 1, 'gastroenterostomi': 1, 'epiphren': 1, 'prostatomegali': 1, 'oment': 1, 'ano': 2, 'uncin': 1, 'subconjunctiv': 1, 'ccfree': 1, 'rhilar': 1, 'undecid': 1, 'nsmall': 1, 'abiopsi': 1, 'angigoraphi': 1, 'withot': 1, 'quenn': 1, 'grumpi': 1, 'neosinephrin': 1, 'pallit': 1, 'subconjuctiv': 1, 'coronori': 1, 'queeni': 1, 'pneumectomi': 1, 'bacillu': 2, 'actinomyc': 1, 'gvh': 1, 'nscl': 1, 'percentag': 1, 'pronosi': 1, 'actinomycosi': 1, 'wsasstent': 1, 'consultatoin': 1, 'zaroxylin': 1, 'rteam': 1, 'medisastinoscopi': 1, 'metolazin': 1, 'awka': 1, 'ccontinu': 1, 'metolamin': 1, 'hypofunct': 1, 'ransfer': 1, 'wenchbach': 1, 'rsi': 1, 'testicular': 2, 'lmca': 1, 'extubalt': 1, 'mediastinoscopi': 2, 'drinkl': 1, 'celtic': 1, 'ascul': 1, 'rxt': 1, 'insufficieni': 1, 'nay': 1, 'examinedv': 1, 'necessri': 1, 'microadenoma': 1, 'monophon': 2, 'iniat': 1, 'agr': 1, 'datasheet': 1, 'rvedp': 1, 'cin': 1, 'nicknam': 1, 'scopolimin': 1, 'queani': 1, 'porb': 1, 'xanthalesma': 2, 'sysolt': 1, 'pneumoectomi': 1, 'invovl': 2, 'musculoskel': 1, 'commmun': 1, 'queen': 1, 'rast': 1, 'paraceliac': 1, 'dependen': 1, 'monitror': 1, 'atorva': 1, 'sessioin': 1, 'beceaus': 1, 'ttherapi': 1, 'iimpress': 1, 'singific': 1, 'supplment': 2, 'llnp': 1, 'hypotenisv': 1, 'paciti': 1, 'tatient': 1, 'bhc': 1, 'adentul': 1, 'pathophysiolog': 2, 'absens': 1, 'nasophargyng': 1, 'interlaminar': 1, 'indewpend': 1, 'neutrpeni': 1, 'poorer': 1, 'bcb': 1, 'dinitrit': 1, 'biphenotyp': 1, 'patho': 1, 'medco': 1, 'ppo': 1, 'leukem': 1, 'caphosol': 1, 'accredo': 1, 'retail': 2, 'galleria': 1, 'feder': 1, 'tenabl': 1, 'fequenc': 1, 'deficet': 1, 'hazzard': 1, 'reinfors': 1, 'isodil': 1, 'gerim': 1, 'mrsg': 1, 'monintor': 1, 'capg': 1, 'echhymosi': 1, 'cefpodox': 1, 'cepifim': 1, 'demonstrat': 1, 'grandduaght': 1, 'eicu': 1, 'vot': 1, 'discsuss': 1, 'srcotal': 1, 'tavchypnea': 1, 'scren': 1, 'failurepleas': 1, 'inihibit': 1, 'vasalin': 1, 'nosocmi': 1, 'swap': 1, 'oncot': 1, 'deseryl': 1, 'adventit': 1, 'countershock': 1, 'ronchu': 1, 'fentayl': 1, 'asian': 1, 'hypercoagu': 1, 'hypernateremia': 1, 'daqi': 1, 'hael': 1, 'craniocaud': 2, 'lgi': 1, 'keen': 1, 'amlopidin': 2, 'haldolo': 1, 'fucntion': 1, 'producint': 1, 'nutrtit': 1, 'coolig': 1, 'roover': 1, 'bibpap': 1, 'menisc': 1, 'trando': 1, 'nonblanch': 1, 'carbamazapin': 1, 'rrrr': 1, 'trendalapril': 1, 'chlrohexidin': 1, 'ctm': 2, 'follicul': 1, 'nembut': 1, 'dipyridimol': 1, 'vitk': 1, 'redman': 1, 'dipyrimadol': 1, 'lgib': 1, 'nned': 1, 'marriag': 1, 'antiphospholid': 1, 'antigoagul': 1, 'clutter': 1, 'migran': 1, 'atx': 1, 'parietooccipit': 1, 'rexray': 1, 'addiion': 1, 'neuroectoderm': 1, 'intabut': 1, 'piic': 1, 'evalyu': 1, 'pnet': 1, 'trachael': 1, 'foolowup': 1, 'racim': 1, 'tnding': 1, 'neeb': 1, 'audbil': 1, 'multisept': 1, 'underdistent': 1, 'nonemerg': 1, 'circumfirenti': 1, 'ureterocel': 1, 'resperidon': 1, 'bronchioalveolar': 2, 'risperdon': 1, 'scallop': 1, 'benztropin': 1, 'neuropsych': 1, 'phareng': 1, 'rhnochor': 1, 'worseniong': 1, 'mediasin': 1, 'diffuss': 1, 'lunesta': 1, 'maintianedencourag': 1, 'orer': 1, 'weigt': 1, 'deyhdrat': 1, 'azithromcin': 1, 'intuib': 1, 'soulmedrol': 1, 'hypovelem': 1, 'tachypnaec': 1, 'dypena': 1, 'superolater': 1, 'periprosthet': 1, 'macronodular': 1, 'porto': 1, 'artial': 1, 'atret': 1, 'mammari': 1, 'immunocpmpromis': 1, 'periappendic': 1, 'hasa': 1, 'discetomi': 1, 'lugn': 1, 'edmea': 1, 'pneoumonia': 1, 'dydrat': 1, 'dominantli': 1, 'pannel': 1, 'ceasarin': 1, 'leukesteras': 1, 'methocarbamol': 1, 'anerusym': 1, 'spasma': 1, 'mxak': 1, 'echinococc': 1, 'liquefi': 1, 'parot': 2, 'ketonazol': 1, 'assumo': 1, 'cashier': 2, 'alchohol': 1, 'witdraw': 1, 'incipi': 1, 'recipt': 2, 'periscrot': 1, 'nigrican': 1, 'maggot': 1, 'acanthosi': 1, 'ranch': 1, 'chearlead': 1, 'ertapenem': 2, 'diomox': 1, 'stiumul': 1, 'crisper': 1, 'ptpexp': 1, 'nauseu': 1, 'tetrolog': 1, 'collectioin': 1, 'iivi': 1, 'microsheath': 1, 'apl': 1, 'tetralog': 1, 'spontatn': 1, 'fallot': 1, 'factt': 1, 'afebrilex': 1, 'gicven': 1, 'rvot': 1, 'tpp': 1, 'anxierti': 1, 'intracarda': 1, 'swaloow': 1, 'lej': 1, 'anticardiolipin': 1, 'dorsiflex': 1, 'ateletasi': 1, 'sell': 1, 'consilid': 1, 'wqean': 1, 'hydrocel': 1, \"fournier'\": 1, 'epididymi': 1, 'gliosi': 1, 'cfa': 2, 'testi': 1, 'gangeren': 1, 'ventricukar': 1, 'fournier': 1, 'monophas': 1, 'shotti': 1, 'absecess': 1, 'barrocat': 1, 'fuzzi': 1, 'fronm': 1, 'pleasnatli': 1, 'vancomyin': 1, 'pendent': 1, 'beed': 1, 'admssion': 1, 'rosari': 2, 'terrigori': 1, 'mph': 1, 'hospitalist': 1, 'gulp': 1, 'anterolatrer': 1, 'perserv': 1, 'nexium': 1, 'suspicisi': 1, 'claritin': 1, 'hyperesthesia': 1, 'zoraxolyn': 1, 'neckles': 1, 'velcro': 1, 'lhr': 1, 'osteosrthr': 1, 'script': 1, 'bilirubinemia': 1, 'valvulopathi': 1, 'lingua': 1, 'nonpurul': 1, 'macrodantin': 1, 'respiraotyr': 1, 'ethylsuccin': 1, 'seborrh': 1, 'lim': 2, 'sebhorr': 1, 'hel': 1, 'encelopathi': 1, 'acetozolamid': 1, 'aifib': 1, 'narcosi': 1, 'mistook': 1, 'aifb': 1, 'nasaltrach': 1, 'lyric': 1, 'simpathet': 1, 'risedron': 1, 'hemorrhioid': 1, 'miscovascular': 1, 'actonel': 2, 'ifptmakesit': 1, 'pericaridi': 1, 'confirmatori': 1, 'unamen': 1, 'recordsibandron': 1, 'renin': 1, 'tohomethat': 1, 'aldosteron': 1, 'leukemi': 1, 'paracardiaocentesi': 1, 'palliatv': 1, 'vaginoplasti': 1, 'identili': 1, 'andhousestaff': 1, 'tinnitu': 1, 'ptand': 1, 'pseudohyperkalemia': 1, 'nonenlarg': 1, 'dyssynchroni': 1, 'gerentolog': 1, 'wwii': 1, 'escherichia': 1, 'lfurosemid': 1, 'balit': 1, 'overshadow': 1, 'economist': 1, 'mandabl': 1, 'german': 1, 'republ': 1, 'emigr': 1, 'lacuna': 1, 'neuropsychiatr': 1, 'multiinfact': 1, 'youth': 1, 'unfinish': 1, 'ascult': 1, 'coin': 1, 'aor': 1, 'madiastinl': 1, 'silica': 1, 'fft': 1, 'fromprevi': 1, 'epicent': 1, 'incldu': 1, 'odonyphagia': 1, 'histolog': 1, 'retak': 1, 'reread': 1, 'capitol': 1, 'transbronch': 1, 'transbronchi': 1, 'ebu': 1, 'rtigid': 1, 'dexemedetomidin': 1, 'traceabl': 1, 'ttransit': 1, 'ppiv': 1, 'auop': 2, 'mam': 1, 'petit': 1, 'nuchal': 1, 'diganosedmr': 1, 'mupirocin': 1, 'azirthomycin': 1, 'carbamazepin': 1, 'percipat': 1, 'quadriparesi': 1, 'historyof': 1, 'pneumovaccin': 1, 'initr': 1, 'liquidsand': 1, 'increasedto': 1, 'significnat': 1, 'irregluari': 1, 'craclk': 1, 'contol': 1, 'previosli': 1, 'underfeed': 1, 'venlafaxin': 2, 'shor': 1, 'depressoin': 1, 'hemplegia': 1, 'periord': 1, 'dietet': 1, 'trasud': 1, 'inconsistn': 1, 'semc': 1, 'phenothiazin': 1, 'resusc': 1, 'jointli': 1, 'larnyng': 1, 'emal': 1, 'sqqca': 1, 'helmet': 1, 'casemanag': 1, \"bp'\": 1, 'hunch': 1, 'radat': 1, 'atorv': 1, \"crohn'\": 1, 'thinf': 1, 'urinanalysi': 1, 'sqcca': 1, 'synergist': 1, 'worriesom': 1, 'wetread': 1, 'ganapentin': 1, 'latanoprost': 2, 'zyphoid': 1, 'pretest': 1, 'ahaustr': 1, 'dyspena': 1, 'tac': 1, 'adomin': 1, 'pancolon': 1, 'hydroureteronephrosi': 1, 'juxta': 1, 'eassess': 1, 'hepatosteatosi': 1, 'tachacardia': 1, 'acromimum': 1, 'hypoenhanc': 1, 'dash': 1, 'sitagliptin': 1, 'collasp': 1, 'otherday': 1, 'parainfluenz': 1, 'toungu': 1, 'ofoadm': 1, 'mine': 1, 'aspart': 1, 'reinstat': 1, 'satbl': 1, 'tracheobronchomalacea': 1, 'silicon': 1, 'resterd': 1, 'procrit': 1, 'spalid': 1, 'ly': 1, 'coal': 1, 'maiinstem': 1, 'kavitha': 1, 'compartment': 1, 'triger': 1, 'trimethadion': 1, 'hydantoin': 1, 'paramethadion': 1, 'urimet': 1, 'receivedo': 1, 'xanthoma': 2, 'phenacemid': 1, 'procliv': 1, 'mysolin': 1, 'potient': 1, 'llb': 1, 'antiocoagul': 1, 'barbitur': 1, 'outright': 1, 'follwup': 1, 'superirli': 1, 'pericyst': 1, 'exerc': 1, 'subcultur': 1, 'asbcess': 1, 'clnical': 1, 'enteroccocu': 1, 'omprov': 1, 'iliav': 1, 'dillit': 1, 'cystoscop': 1, 'osit': 1, 'tropn': 1, 'cellut': 1, 'gapapentin': 1, 'klmn': 1, 'reinfarct': 1, 'abrubtli': 1, 'lafb': 1, 'conjug': 1, 'thett': 1, \"rec'd\": 1, 'estrogen': 1, 'oxcodon': 1, 'fusiform': 2, 'hyptertens': 1, 'apspir': 1, 'datng': 1, 'ariway': 1, 'dieulafoy': 1, 'incostistantli': 1, 'cauter': 1, 'tetrofosmin': 1, 'envolv': 1, 'arrea': 1, 'dipyridamol': 2, 'flavum': 1, 'takutsubo': 1, 'tasp': 1, 'ligamentum': 1, 'dalman': 1, 'inspiss': 1, 'dvtt': 1, 'thug': 1, 'mantl': 1, 'pautosct': 1, 'poto': 1, 'quantif': 1, 'steep': 1, 'analogu': 1, 'wrosen': 1, 'orthastat': 1, 'autosct': 1, 'edisyl': 1, 'rsvg': 1, 'omc': 1, 'anthracot': 1, 'hemodyam': 1, 'sctp': 1, 'flurazepam': 1, \"hodgkin'\": 1, 'hashimoto': 1, 'supradiaphragmat': 1, 'hayfev': 1, 'unrecogn': 2, 'sihgnific': 1, 'thrombyocytopenia': 1, 'kleibsella': 2, 'streptococci': 1, 'lobotomi': 1, 'carbapenas': 1, 'intuab': 2, 'carbapenemas': 1, 'tigecyclin': 2, 'throthi': 1, 'enterobacteriacea': 1, 'etest': 1, 'cvd': 1, 'insular': 1, 'rtight': 1, \"cva'\": 1, 'sti': 1, 'staphylococcu': 1, 'subaort': 1, 'choana': 1, 'cloget': 1, 'thoracoplasi': 1, 'inferoposterolater': 1, 'ossicl': 1, 'suggetsin': 1, 'recspleas': 1, 'mde': 1, 'stenothrophomona': 1, 'acom': 1, 'tmpsmx': 1, 'chronicallyt': 1, 'nitrogen': 1, 'blame': 1, 'aspergilloma': 1, 'linguist': 1, 'stenotrophomona': 1, 'hemodyamn': 1, 'annn': 1, 'tatoo': 1, 'knw': 1, 'mitochondri': 1, 'paracenthesi': 1, 'acetylcystien': 1, 'nevirapin': 1, 'conduc': 1, 'anascarca': 1, 'thjicken': 1, 'lopinavir': 1, 'cytospin': 1, 'bic': 1, 'sodabicarb': 1, 'intraadomin': 1, 'asciet': 1, 'boewl': 1, 'kkxa': 1, 'metaboli': 1, 'ctapb': 1, 'carnitin': 1, 'parascentesi': 1, 'drowsey': 1, 'tuirn': 1, 'thymu': 1, 'noteworthi': 2, 'intrafissur': 1, 'ocp': 1, 'hypocontractil': 1, 'cichect': 1, 'hbr': 1, 'cozar': 1, 'antocoagul': 1, 'dextromethorphan': 2, 'dayquil': 1, 'retenion': 1, 'cantanes': 1, 'sclear': 1, 'throacic': 1, 'dentistri': 1, 'beief': 1, 'lene': 1, 'gtt^': 1, 'secteion': 1, 'fider': 1, 'coumdin': 1, 'tge': 1, 'underpneumat': 1, 'accucheck': 2, 'pbt': 1, 'exeryt': 1, 'suspict': 1, 'toot': 1, 'rhionch': 1, 'petrolatum': 1, 'shft': 1, 'sunu': 1, 'roe': 1, 'peridontatl': 1, 'whim': 1, 'paremet': 1, 'counmadin': 1, 'exculud': 1, 'forsmal': 1, 'benaprotien': 1, 'currenli': 1, 'sucrulf': 1, 'unconvinc': 1, 'heoarin': 1, 'maxilo': 1, 'awaitte': 1, 'surroundiong': 1, 'paramt': 1, 'cheng': 1, 'driop': 1, 'prostati': 1, 'axiallyacquir': 1, 'meropenenm': 1, 'adjus': 1, 'signirficantli': 1, 'periodont': 1, 'cxed': 1, 'opth': 1, 'sfyb': 1, 'contribtori': 1, 'recombin': 1, 'likelyb': 1, 'patl': 1, 'peridont': 1, 'nunintent': 1, 'gasteoperesi': 1, 'coniz': 1, 'ondesetron': 1, 'fibrmyalgia': 1, 'fsh': 1, 'prolactin': 1, 'lossd': 1, 'levealbutenol': 1, 'predinison': 1, 'cement': 1, 'anisoci': 1, 'isoenzym': 1, 'fragili': 1, 'oxytoca': 1, 'opact': 1, 'intraadbomin': 1, 'gujarati': 1, 'hypochr': 1, 'macroci': 1, 'airwi': 1, 'methacryl': 1, 'felxis': 1, 'bebrid': 1, 'pltclmp': 1, 'oxgen': 1, 'excoriati': 1, 'mresult': 1, 'exertionsbp': 1, 'lovemox': 1, 'beath': 1, 'likekli': 1, 'ischiorect': 1, 'enarterctomi': 1, 'ezetimib': 1, 'wbxrt': 1, 'afteroon': 1, 'avert': 1, 'challebg': 1, 'che': 1, 'nasuea': 1, 'hmed': 1, 'castgr': 1, 'appoprio': 1, 'afiib': 1, 'levitiracetam': 1, 'dopler': 1, 'vasopress': 1, 'strongyloid': 1, 'preripher': 1, 'tufe': 1, 'reanl': 1, 'eosinphil': 1, 'aranesp': 1, 'kpo': 1, 'vassopress': 1, 'afar': 1, 'paracardi': 1, 'counterproduct': 1, 'apg': 1, 'forego': 1, 'plesaent': 1, 'scarbosa': 1, 'nephrit': 1, 'cartid': 1, 'nerphrot': 1, 'antral': 1, 'cretainin': 1, 'catert': 1, 'thoarcentesi': 1, 'lens': 1, 'seqeuala': 1, 'prokaryot': 1, 'lipopolysaccharid': 1, 'insta': 1, 'forarm': 1, 'neropenum': 1, 'tygecyclin': 1, 'swith': 1, 'guiaac': 1, 'endotoxin': 1, 'adequaut': 1, 'systolo': 1, 'avn': 2, 'eratosi': 1, 'saber': 1, 'suggesst': 1, 'evidenv': 1, 'transan': 1, 'piccin': 1, 'vasoopressor': 1, 'dyeiodin': 1, 'inhibitori': 1, 'actin': 2, 'cephalexinunknown': 1, 'tand': 1, 'synthesi': 1, 'vasodilit': 1, 'precautionst': 1, 'corus': 1, 'flutison': 1, 'purpura': 1, 'sensitiviti': 1, 'ontiotropium': 1, 'earlob': 1, 'vancomycindiarrhea': 1, 'senil': 1, 'telphon': 1, 'hypothes': 1, 'preoccup': 1, 'lampectomi': 1, 'hypothairoid': 1, 'upload': 1, 'elevat': 1, 'herpez': 1, 'begain': 1, \"'overdos\": 1, 'techinc': 1, 'cleanout': 1, 'fibersoourc': 1, 'scopolomin': 1, 'recomp': 1, 'neosyneph': 1, 'tbd': 1, 'duoerm': 1, 'rqmnt': 1, 'cheyennn': 1, 'nimenda': 1, 'venitlatori': 1, 'recompt': 1, 'honeymoon': 1, 'fentanli': 1, 'heroic': 1, 'skeletel': 1, 'pules': 1, 'esophagel': 1, 'demonstart': 1, 'innumber': 1, 'chron': 2, 'outing': 1, 'symptomatolog': 1, 'slowl': 1, 'segmetn': 1, 'carvedi': 1, 'evh': 1, 'llr': 1, 'thearapeut': 1, 'replaced': 1, 'thear': 1, 'recuss': 1, 'exagerr': 1, 'paient': 1, 'guaifenasin': 1, 'polar': 1, '^pa': 1, 'neostigmin': 1, 'contracta': 1, 'plasti': 1, 'cod': 1, 'carotidendarterectomi': 1, 'firefight': 1, 'dacron': 1, 'ccath': 1, 'detali': 1, 'rgurgit': 1, 'beclomethason': 1, 'marit': 1, 'thombosi': 1, 'swann': 1, 'cuplet': 1, 'pulsati': 1, 'rumbl': 1, '^pvc': 1, 'oozi': 1, 'advir': 2, 'claudic': 2, 'duresi': 1, 'dipropion': 1, 'valvuloplasti': 1, 'grascil': 1, 'consitist': 1, 'supracondylar': 1, 'multiplan': 1, 'kyphoscoloiosi': 1, 'cartridg': 1, 'proton': 1, 'perfect': 1, 'hajdu': 1, 'pdf': 1, 'ongong': 1, 'nightim': 1, 'onccur': 1, 'pylenephr': 1, 'abhorr': 1, 'levothyrox': 1, 'neurmuscular': 1, 'attampt': 1, 'hemidiaghragm': 1, 'psuedamona': 1, 'xcc': 1, 'thck': 1, \"peg'\": 1, 'ealuat': 1, 'pseudoon': 1, 'cpqp': 1, 'dysfx': 1, 'caleld': 1, 'eupnic': 1, 'interventionl': 1, 'tather': 1, 'infranod': 1, 'judgment': 1, 'bradyarrhythmia': 1, 'aftermn': 1, 'lk': 1, 'san': 1, 'txfer': 1, 'sreen': 1, 'presentdu': 1, 'peniciliin': 1, 'gsurg': 1, 'ebsl': 1, 'hovermatt': 1, 'hebreb': 2, 'senstit': 1, 'psueudomona': 1, 'cogwheel': 1, 'acidifi': 1, 'ascept': 1, 'msec': 1, 'nonurg': 2, 'traheotomi': 1, 'blockshortli': 1, 'prmari': 1, 'provok': 1, 'hoverjack': 1, 'upj': 1, 'pseuomona': 1, 'pantoiprazol': 1, 'isp': 1, 'roght': 1, 'thromboemboli': 1, 'airpal': 1, 'nnon': 1, 'inbteween': 1, 'miltifacori': 1, 'resectionand': 1, 'moonitor': 1, 'aberrantli': 1, 'calic': 1, 'pyramid': 1, 'nephrosi': 1, \"still'\": 1, 'subment': 1, 'follect': 1, 'venolfax': 1, 'trifluor': 1, 'slippag': 1, 'diaghram': 1, 'meropemem': 1, 'scr': 1, 'attrov': 1, 'receivingiv': 1, 'trachealbronchomalacia': 1, 'atrorv': 1, 'mycon': 1, 'bronchiectai': 1, 'montgumeri': 1, 'omep': 1, 'stroboscopi': 1, 'videostriposcopi': 1, 'azithromcyin': 1, 'vcd': 1, 'omeprozol': 1, 'glotti': 1, 'guaifensin': 1, 'methacholin': 1, 'mainstay': 1, 'aspiri': 1, 'unbchang': 1, 'eavluat': 1, 'depres': 1, 'career': 1, 'saf': 1, 'hypernatremiawith': 1, 'chokehold': 1, 'swim': 1, 'slig': 1, 'infet': 1, 'pexi': 1, 'hypoplasia': 1, 'presentw': 1, 'shx': 1, 'periphr': 1, 'llow': 1, 'hecerebr': 1, 'physicianclip': 1, 'femora': 1, 'hydrothrorax': 1, 'demeylin': 1, 'positiona': 1, 'slg': 1, 'tenosi': 1, 'imppress': 1, 'amtter': 1, 'catter': 1, 'palin': 1, 'antur': 1, 'evant': 1, 'anco': 1, 'failiur': 1, 'cultprit': 1, 'resolvi': 1, 'bronchspasm': 1, 'attd': 1, 'decreeas': 1, 'squirmi': 1, 'dao': 1, 'arousib': 1, 'vitreou': 1, 'nameda': 1, 'cehst': 1, 'handwritten': 1, 'fornic': 1, 'kayexil': 1, 'niacin': 1, 'nitrglycerin': 1, 'exacurb': 1, 'keratos': 1, 'tamoxifen': 1, 'botox': 1, 'produt': 1, 'achalsia': 1, 'lunvch': 1, 'rehba': 1, 'conrol': 1, 'achalasia': 1, 'orpharyng': 1, 'agt': 1, 'shelf': 1, 'overlod': 1, 'rln': 1, 'acinar': 1, 'prespil': 1, 'sublobar': 1, 'embarrass': 1, 'mandira': 1, 'aereat': 1, 'meadiastinoscopi': 1, 'virtu': 1, 'pneumocephalu': 1, 'fungoid': 1, 'ctcl': 1, 'angioedem': 1, 'neurologici': 1, 'mycosi': 1, 'neurocheck': 1, 'erythroderm': 1, 'rxra': 1, 'osteoarthtr': 1, 'angioinvas': 1, 'pcabgx': 1, 'withcvl': 1, 'perivarcular': 1, 'superifci': 1, 'laparascop': 1, 'etz': 1, 'enchanc': 1, 'interlock': 1, 'seroma': 1, 'trochanter': 1, 'pulldown': 1, 'eed': 1, 'spigelian': 1, 'gwilliam': 1, 'hypercholestremia': 1, 'extrus': 1, 'antierior': 1, 'intraperitonea': 1, 'tailur': 1, 'chonz': 1, 'muli': 1, 'chornz': 1, 'latherg': 1, 'fiberspourc': 1, 'aponeurosi': 1, 'disarray': 1, 'underdistens': 1, 'sarum': 1, 'cavieti': 1, 'transduct': 1, 'garden': 1, \"lemiere'\": 1, 'anaphlyaxi': 1, 'colpo': 1, 'epidu': 1, 'extubu': 1, 'gad': 1, 'anarob': 1, 'transuc': 1, 'headacn': 1, 'accomani': 1, 'colposcopi': 1, 'mucro': 1, 'somonol': 1, 'thankyou': 1, 'cofluent': 1, 'osaltamivir': 1, 'immunofluoresc': 1, 'substranti': 1, 'excus': 1, 'reportsh': 1, 'mexican': 1, 'nasatrach': 1, 'pateitn': 1, 'repetet': 1, 'hmm': 1, 'infer': 1, 'reddent': 1, 'berath': 1, 'multiofoc': 1, 'monitort': 1, 'encouagr': 1, 'discon': 1, 'aphonia': 1, 'apperenli': 1, 'qshift': 1, 'flucauat': 1, 'couh': 1, 'ronchrou': 1, 'flagylcefipim': 1, 'fluctauat': 1, 'nasti': 1}}\n"
     ]
    }
   ],
   "source": [
    "print(note_appearance_counter)"
   ]
  },
  {
   "cell_type": "code",
   "execution_count": null,
   "metadata": {},
   "outputs": [],
   "source": []
  },
  {
   "cell_type": "code",
   "execution_count": null,
   "metadata": {},
   "outputs": [],
   "source": []
  },
  {
   "cell_type": "code",
   "execution_count": 41,
   "metadata": {},
   "outputs": [],
   "source": [
    "# # get hyper-paramters n_fold and threshold from user input\n",
    "n_fold = float(3)\n",
    "threshold = float(0.02)\n",
    "\n",
    "frequent_word_lists = {}\n",
    "factor = {}"
   ]
  },
  {
   "cell_type": "code",
   "execution_count": 42,
   "metadata": {},
   "outputs": [
    {
     "name": "stdout",
     "output_type": "stream",
     "text": [
      "pneumonia_dead has 11678 unique words!\n",
      "pneumonia_alive has 22572 unique words!\n",
      "finished making frequent words list for pneumonia_alive\n"
     ]
    }
   ],
   "source": [
    "\"\"\"function description:\n",
    "for each disease in note_appearance_counter\n",
    "    1. checks whether a word in disease file is frequent(frequency standard as defined by factor, n_fold, and threshold)\n",
    "    2. adds to frequent_word_list\n",
    "\"\"\"\n",
    "\n",
    "# def find_frequent_word(note_appearance_counter, frequent_word_lists, number_of_notes, factor, n_fold, threshold):\n",
    "\n",
    "# calculate normalizing factor for each disease\n",
    "note_sum = 0\n",
    "\n",
    "# Count from two labels\n",
    "for disease in number_of_notes:\n",
    "    note_sum += float(number_of_notes[disease])\n",
    "    \n",
    "for disease in number_of_notes:\n",
    "    factor[disease] = number_of_notes[disease] / note_sum\n",
    "\n",
    "# determine frequent word for each disease file\n",
    "for disease in note_appearance_counter:\n",
    "    frequent_word_lists[disease] = []\n",
    "\n",
    "    print(disease + \" has \" + str(len(note_appearance_counter[disease])) + \" unique words!\")\n",
    "\n",
    "    for word in note_appearance_counter[disease]:\n",
    "        \n",
    "        freq_check = True\n",
    "        for check_disease in note_appearance_counter:\n",
    "            \n",
    "            if not disease == check_disease:\n",
    "                if word in note_appearance_counter[check_disease]:\n",
    "                    if not (note_appearance_counter[disease][word] / note_appearance_counter[check_disease][word] / factor[disease] * factor[check_disease] > n_fold \\\n",
    "                        and note_appearance_counter[disease][word] > (number_of_notes[disease] * threshold)):\n",
    "\n",
    "                        freq_check = False\n",
    "                        break\n",
    "\n",
    "                else:\n",
    "                    if not (note_appearance_counter[disease][word] > n_fold and note_appearance_counter[disease][word] > (number_of_notes[disease] * threshold)):\n",
    "                        freq_check = False\n",
    "                        break\n",
    "        if freq_check:\n",
    "            frequent_word_lists[disease].append((word))\n",
    "            # Create a tuple of word and its count\n",
    "#             frequent_word_lists[disease].append((word, note_appearance_counter[disease][word]))\n",
    "\n",
    "        \n",
    "\n",
    "print(\"finished making frequent words list for \" + disease)"
   ]
  },
  {
   "cell_type": "code",
   "execution_count": 43,
   "metadata": {
    "scrolled": true
   },
   "outputs": [
    {
     "name": "stdout",
     "output_type": "stream",
     "text": [
      "1419.0\n",
      "{'pneumonia_dead': 0.17758985200845667, 'pneumonia_alive': 0.8224101479915433}\n"
     ]
    }
   ],
   "source": [
    "print(note_sum)\n",
    "print(factor)\n",
    "\n",
    "# number of notes\n",
    "# 58029.0\n",
    "# {'pneumonia_dead': 0.2049837150390322, 'pneumonia_alive': 0.7950162849609678}"
   ]
  },
  {
   "cell_type": "code",
   "execution_count": 44,
   "metadata": {
    "scrolled": true
   },
   "outputs": [
    {
     "name": "stdout",
     "output_type": "stream",
     "text": [
      "187\n",
      "112\n"
     ]
    }
   ],
   "source": [
    "print(len(frequent_word_lists['pneumonia_dead']))\n",
    "print(len(frequent_word_lists['pneumonia_alive']))"
   ]
  },
  {
   "cell_type": "code",
   "execution_count": 45,
   "metadata": {
    "scrolled": true
   },
   "outputs": [
    {
     "name": "stdout",
     "output_type": "stream",
     "text": [
      "{'pneumonia_dead': ['arrang', 'cpr', 'bicarbon', 'clergi', 'pea', 'vasopressin', 'refractori', 'expir', 'phenylephrin', 'paralyt', 'mottl', 'suffer', 'profound', 'dic', 'hypercapn', 'funer', 'autopeep', 'pcv', 'recruit', 'arrest', 'unrespons', 'azotemia', 'death', 'anur', 'hypothermia', 'norepinephrin', 'clinician', 'dk', 'gum', 'dni', 'cmo', 'sluggish', 'dnr', 'nonpurpos', 'pinpoint', 'mso', 'wish', 'levoph', 'grim', 'dead', 'institut', 'pronounc', 'priest', 'hypotent', 'prognosi', 'purpl', 'option', 'bye', 'centimet', 'mortem', 'synch', 'asystol', 'life', 'agreement', 'acv', 'duski', 'sync', 'cathol', 'peac', 'surviv', 'acidot', 'cvvhd', 'neosynephrin', 'pfr', 'crrt', 'rusti', 'deterior', 'vtach', 'vasopressor', 'suppport', 'agon', 'defibril', 'seriou', 'pulseless', 'cvvhdf', 'deliv', 'cvvh', 'hemothorax', 'corneal', 'among', 'lw', 'hypotherm', 'pray', 'hugger', 'cyanot', 'lc', 'declin', 'ethic', 'pitressin', 'bair', 'levof', 'mtg', 'brb', 'maroon', 'elimin', 'ffp', 'unequ', 'paco', 'prayer', 'autopsi', 'discoordin', 'town', 'morgu', 'nahco', 'norepi', 'neo', \"tf'ing\", 'triadyn', 'escal', 'circuit', 'bank', 'sml', 'motil', 'zero', 'bairhugg', 'syring', 'absorb', 'rabbi', 'mind', 'hunger', 'unstabl', 'polici', 'dopamin', 'hung', 'intiat', 'cantones', 'palli', 'moan', 'readdress', 'anuria', 'gurgl', 'underneath', 'dobutamin', 'platlet', 'platelet', 'hospic', 'oncologist', 'quadrent', 'griev', 'cardiovert', 'gut', 'core', 'oligur', 'cisatracurium', 'twitch', 'plat', 'sacrament', 'liw', 'crt', 'grave', 'heroic', 'occupi', 'struggl', 'opinion', 'gentamycin', 'icter', 'themselv', 'ardsnet', 'meaning', 'tubular', 'pplat', 'fibrinogen', 'vasoconstrict', 'sibl', 'gasp', 'hook', 'realist', 'tran', 'aricept', 'analgesia', 'dorsal', 'declar', 'dysynchron', 'prioriti', 'sluggishli', 'ipf', 'goodby', 'hemodynim', 'harm', 'petechia', 'underpenetr', 'ggt', 'led', 'pastor', 'chlorhex', 'inde', 'abnl'], 'pneumonia_alive': ['ambul', 'chair', 'ambien', 'oob', 'gait', 'commod', 'pleasant', 'lift', 'puff', 'supervis', 'rm', 'splint', 'db', 'breakfast', 'aox', 'lat', 'lpm', 'laryng', 'hyperintens', 'venti', 'cup', 'foci', 'chip', 'plate', 'jejunum', 'qtc', 'signatur', 'cash', 'wallet', 'jewelri', 'money', 'dz', 'cloth', 'zyprexa', 'redirect', 'behavior', 'pharyng', 'hilum', 'align', 'rehabilit', 'lotion', 'probe', 'scab', 'mellitu', 'cg', 'unassist', 'locomot', 'passi', 'rpe', 'macu', 'motor', 'distanc', 'mrg', 'muir', 'deflat', 'olanzapin', 'ntnd', 'stair', 'bottl', 'scar', 'captopril', 'magnevist', 'pneumococc', 'im', 'gadolinium', 'osa', 'forc', 'spiromet', 'incent', 'video', 'nectar', 'seroquel', 'barium', 'sensat', 'postop', 'asthma', 'sweat', 'amb', 'lightheaded', 'pivot', 'dizzi', 'wfl', 'endur', 'readmit', 'bromid', 'ctx', 'angri', 'paperwork', 'solut', 'diaphoresi', 'rigor', 'ppd', 'freeli', 'omeprazol', 'pneumothorac', 'divis', 'silent', 'gabapentin', 'aaox', 'habitu', 'vallecula', 'spirit', 'homogen', 'unavail', 'fatti', 'hive', 'tdi', 'echocardiogram', 'cdb', 'seat', 'videofluoroscopi', 'slice']}\n"
     ]
    }
   ],
   "source": [
    "print(frequent_word_lists)"
   ]
  },
  {
   "cell_type": "markdown",
   "metadata": {},
   "source": [
    "### 2. Co-occurrence generation\n",
    "FP-growth"
   ]
  },
  {
   "cell_type": "code",
   "execution_count": null,
   "metadata": {},
   "outputs": [],
   "source": [
    "FREQUENT_WORD_LIST = frequent_word_lists['pneumonia_dead'] + frequent_word_lists['pneumonia_alive']"
   ]
  },
  {
   "cell_type": "code",
   "execution_count": null,
   "metadata": {
    "scrolled": true
   },
   "outputs": [],
   "source": [
    "\"\"\"function description:\n",
    "generates frequent word set for the disease\n",
    "\"\"\"\n",
    "word_dict = {}\n",
    "word_id = 1\n",
    "stemmer = PorterStemmer()\n",
    "\n",
    "\n",
    "for word in FREQUENT_WORD_LIST:\n",
    "    if not word == \"WORD\":\n",
    "        word_dict[stemmer.stem(word.strip())] = word_id\n",
    "        word_id += 1\n",
    "             \n",
    "print(\"\\nword dictionary created!\\n\")\n",
    "print(word_dict)\n"
   ]
  },
  {
   "cell_type": "markdown",
   "metadata": {},
   "source": [
    "### Implementetion with python for FP_growth"
   ]
  },
  {
   "cell_type": "code",
   "execution_count": null,
   "metadata": {
    "scrolled": true
   },
   "outputs": [],
   "source": [
    "# http://rasbt.github.io/mlxtend/user_guide/frequent_patterns/fpgrowth/\n",
    "import os\n",
    "import operator\n",
    "from pathlib import Path\n",
    "from mlxtend.frequent_patterns import fpgrowth\n",
    "from mlxtend.preprocessing import TransactionEncoder\n",
    "import pandas as pd\n",
    "\n",
    "# ----\n",
    "def fp_growth_input_per_patient_python(disease_name, disease_df, word_dict, min_support, label):\n",
    "    \n",
    "    # For dataframe\n",
    "    patient_id_lst = []\n",
    "    patient_cooc_lst = []\n",
    "    patient_cooc_minsup_lst = []\n",
    "    patient_label_lst = []\n",
    "    patient_note_cnt = []\n",
    "    patient_feature_lst = []\n",
    "    patient_feature_idx_lst = []\n",
    "    \n",
    "    # --------------    \n",
    "    patient_id = -1\n",
    "    note_cnt = 0\n",
    "    patient_note_list = []\n",
    "    \n",
    "    # read line in from file (each line is one note)\n",
    "    for index, row in tqdm(disease_df.iterrows(), total=disease_df.shape[0]):\n",
    "        \n",
    "        # only regard certain type of notes\n",
    "        patient_id_check = int(row['SUBJECT_ID_x'])\n",
    "        note = re.sub(r'\\[\\*\\*(.*?)\\*\\*\\]|[_,\\d\\*:~=\\.\\-\\+\\\\/]+', ' ', row['TEXT'])\n",
    "        patient_word_set = set()\n",
    "    \n",
    "#         print(f\"patient_id_check: {patient_id_check}, patient_id: {patient_id}\")\n",
    "        # if patient id has changed, end sequence and start new sequence\n",
    "        if not patient_id == patient_id_check and not patient_id == -1:\n",
    "            te = TransactionEncoder()\n",
    "            te_ary = te.fit(patient_note_list).transform(patient_note_list)\n",
    "            df = pd.DataFrame(te_ary, columns=te.columns_)\n",
    "            df_itemsets = fpgrowth(df, min_support=min_support, use_colnames=True)\n",
    "            \n",
    "            cooc_tmp = []\n",
    "            cooc_minsup_tmp = []\n",
    "            cooc_feature_tmp = []\n",
    "            cooc_feature_idx_tmp = []\n",
    "            \n",
    "            for index, row in df_itemsets.iterrows():\n",
    "                if len(row['itemsets']) == 1:\n",
    "                    word = list(row['itemsets'])[0]\n",
    "                    min_sup = row['support']\n",
    "                    cooc_feature_tmp.append(min_sup)\n",
    "                    cooc_feature_idx_tmp.append(word)\n",
    "                    \n",
    "                if len(row['itemsets']) == 2:\n",
    "                    cooc_ = list(row['itemsets'])\n",
    "                    cooc_tmp.append(cooc_)\n",
    "                    cooc_minsup_tmp.append(row['support'])\n",
    "            \n",
    "#             for index, row in df_itemsets.iterrows():\n",
    "#                 if len(row['itemsets']) == 1:\n",
    "#                     word = list(row['itemsets'])[0]\n",
    "#                     min_sup = row['support']\n",
    "#                     if word not in word_dict_df:\n",
    "#                         word_dict_df[word] = min_sup\n",
    "                    \n",
    "#                 if len(row['itemsets']) == 2:\n",
    "#                     cooc_ = list(row['itemsets'])\n",
    "#                     cooc_tmp.append([[cooc_[0], word_dict_df[cooc_[0]]], [cooc_[1], word_dict_df[cooc_[1]]]])\n",
    "#                     cooc_minsup_tmp.append(row['support'])\n",
    "                    \n",
    "          \n",
    "            # Update glob lists\n",
    "            patient_id_lst.append(patient_id)\n",
    "            patient_cooc_lst.append(cooc_tmp)\n",
    "            patient_cooc_minsup_lst.append(cooc_minsup_tmp)\n",
    "            patient_label_lst.append(label)\n",
    "            patient_note_cnt.append(note_cnt)\n",
    "            \n",
    "            patient_feature_lst.append(cooc_feature_tmp)\n",
    "            patient_feature_idx_lst.append(cooc_feature_idx_tmp)\n",
    "            \n",
    "            # Reset local lists\n",
    "            patient_note_list = []\n",
    "            note_cnt = 0\n",
    "                    \n",
    "        # update patient id\n",
    "        patient_id = patient_id_check\n",
    "        tokenized_note = word_tokenize(note)\n",
    "        note_cnt += 1\n",
    "\n",
    "        # loop through each word in note to count word belonging to each disease\n",
    "        for word in tokenized_note:\n",
    "            stemmed_word = stemmer.stem(word.lower())       \n",
    "            if stemmed_word in word_dict:\n",
    "                    patient_word_set.add(stemmed_word)\n",
    "\n",
    "        templst = []\n",
    "        for word in patient_word_set:\n",
    "            templst.append(word)\n",
    "\n",
    "        if templst:\n",
    "            patient_note_list.append(templst)\n",
    "    \n",
    "    # Last patient info\n",
    "    te = TransactionEncoder()\n",
    "    te_ary = te.fit(patient_note_list).transform(patient_note_list)\n",
    "    df = pd.DataFrame(te_ary, columns=te.columns_)\n",
    "    df_itemsets = fpgrowth(df, min_support=min_support, use_colnames=True)\n",
    "            \n",
    "    cooc_tmp = []\n",
    "    cooc_minsup_tmp = []\n",
    "    \n",
    "    #-----\n",
    "    cooc_feature_tmp = []\n",
    "    cooc_feature_idx_tmp = []\n",
    "            \n",
    "    for index, row in df_itemsets.iterrows():\n",
    "        if len(row['itemsets']) == 1:\n",
    "            word = list(row['itemsets'])[0]\n",
    "            min_sup = row['support']\n",
    "            cooc_feature_tmp.append(min_sup)\n",
    "            cooc_feature_idx_tmp.append(word)\n",
    "    #-----\n",
    "            \n",
    "    for index, row in df_itemsets.iterrows():\n",
    "        if len(row['itemsets']) == 2:\n",
    "            cooc_tmp.append(row['itemsets'])\n",
    "            cooc_minsup_tmp.append(row['support'])\n",
    "                    \n",
    "            \n",
    "    # Update glob lists\n",
    "    patient_id_lst.append(patient_id)\n",
    "    patient_cooc_lst.append(cooc_tmp)\n",
    "    patient_cooc_minsup_lst.append(cooc_minsup_tmp)\n",
    "    patient_label_lst.append(label)\n",
    "    patient_note_cnt.append(note_cnt)\n",
    "    \n",
    "    patient_feature_lst.append(cooc_feature_tmp)\n",
    "    patient_feature_idx_lst.append(cooc_feature_idx_tmp)\n",
    "    \n",
    "#     print(f\"patient_id_lst: {len(patient_id_lst)} patient_cooc_lst: {len(patient_cooc_lst)} patient_cooc_minsup_lst: {len(patient_cooc_minsup_lst)} patient_label_lst: {len(patient_label_lst)} patient_note_cnt: {len(patient_note_cnt)}\")\n",
    "    print(\"FP growth input for \" + disease_name + \" generated!\")\n",
    "    return pd.DataFrame({\"patient_id\":patient_id_lst, \"patient_cooc\":patient_cooc_lst, \"cooc_minsup\":patient_cooc_minsup_lst, \"cooc_feature\":patient_feature_lst, \"cooc_feature_idx\":patient_feature_idx_lst ,\"label\":patient_label_lst, \"note_cnt\":patient_note_cnt})\n",
    "\n",
    "pneumonia_dead_cooc_df = fp_growth_input_per_patient_python(\"pneumonia_dead\", pneumonia_dead_no_disch, word_dict, 0.4, -1)\n",
    "pneumonia_alive_cooc_df = fp_growth_input_per_patient_python(\"pneumonia_alive\", pneumonia_alive_no_disch, word_dict, 0.4, 1)"
   ]
  },
  {
   "cell_type": "code",
   "execution_count": null,
   "metadata": {
    "scrolled": true
   },
   "outputs": [],
   "source": [
    "pneumonia_dead_cooc_df"
   ]
  },
  {
   "cell_type": "code",
   "execution_count": null,
   "metadata": {},
   "outputs": [],
   "source": [
    "cnt_ = 0\n",
    "for i, (index, row) in enumerate(pneumonia_dead_cooc_df.iterrows()):\n",
    "    if row['patient_cooc']:\n",
    "        cnt_ += 1\n",
    "print(cnt_)\n",
    "# 230 min_sup = 0.1\n",
    "# 74 min_sup = 0.4\n",
    "# 94 min_sup = 0.3"
   ]
  },
  {
   "cell_type": "code",
   "execution_count": null,
   "metadata": {},
   "outputs": [],
   "source": [
    "pneumonia_alive_cooc_df"
   ]
  },
  {
   "cell_type": "code",
   "execution_count": null,
   "metadata": {},
   "outputs": [],
   "source": [
    "cnt_ = 0\n",
    "for i, (index, row) in enumerate(pneumonia_alive_cooc_df.iterrows()):\n",
    "    if row['patient_cooc']:\n",
    "        cnt_ += 1\n",
    "print(cnt_)\n",
    "# 763 min_sup = 0.1\n",
    "# 230 min_sup = 0.4\n",
    "# 381 min_sup = 0.3"
   ]
  },
  {
   "cell_type": "code",
   "execution_count": null,
   "metadata": {},
   "outputs": [],
   "source": []
  },
  {
   "cell_type": "code",
   "execution_count": null,
   "metadata": {},
   "outputs": [],
   "source": []
  },
  {
   "cell_type": "code",
   "execution_count": null,
   "metadata": {},
   "outputs": [],
   "source": []
  },
  {
   "cell_type": "markdown",
   "metadata": {},
   "source": [
    "### Train the model"
   ]
  },
  {
   "cell_type": "code",
   "execution_count": null,
   "metadata": {},
   "outputs": [],
   "source": [
    "import pandas as pd\n",
    "import numpy as np\n",
    "\n",
    "import stellargraph as sg\n",
    "from stellargraph.mapper import PaddedGraphGenerator\n",
    "from stellargraph.layer import GCNSupervisedGraphClassification\n",
    "from stellargraph import StellarGraph\n",
    "\n",
    "from stellargraph import datasets\n",
    "\n",
    "from sklearn import model_selection\n",
    "from IPython.display import display, HTML\n",
    "\n",
    "from tensorflow.keras import Model\n",
    "from tensorflow.keras.optimizers import Adam\n",
    "from tensorflow.keras.layers import Dense\n",
    "from tensorflow.keras.losses import binary_crossentropy\n",
    "from tensorflow.keras.callbacks import EarlyStopping\n",
    "import tensorflow as tf\n",
    "import matplotlib.pyplot as plt"
   ]
  },
  {
   "cell_type": "code",
   "execution_count": null,
   "metadata": {},
   "outputs": [],
   "source": [
    "# https://medium.com/@kegui/how-do-i-know-i-am-running-keras-model-on-gpu-a9cdcc24f986\n",
    "from tensorflow.python.client import device_lib\n",
    "print(device_lib.list_local_devices())"
   ]
  },
  {
   "cell_type": "markdown",
   "metadata": {},
   "source": [
    "### Load the data"
   ]
  },
  {
   "cell_type": "code",
   "execution_count": null,
   "metadata": {
    "scrolled": true
   },
   "outputs": [],
   "source": [
    "from stellargraph import StellarGraph\n",
    "\n",
    "def create_graph_list(pd_df):\n",
    "    graphs = []\n",
    "    labels = []\n",
    "\n",
    "    for index, row in pd_df.iterrows():\n",
    "        if row['patient_cooc']:\n",
    "            source = []\n",
    "            target = []\n",
    "            edge_feature = []\n",
    "            \n",
    "            feature_node = []\n",
    "            feature_idx = []\n",
    "            \n",
    "            for cooc in row['patient_cooc']:\n",
    "                source.append(cooc[0])\n",
    "                target.append(cooc[1])\n",
    "                \n",
    "            for feature in row['cooc_minsup']:\n",
    "                edge_feature.append(feature)\n",
    "            \n",
    "            # Node feature and index\n",
    "            for node_feature in row['cooc_feature']:\n",
    "                feature_node.append(node_feature)\n",
    "                \n",
    "            for node_idx in row['cooc_feature_idx']:\n",
    "                feature_idx.append(node_idx)\n",
    "                \n",
    "#             print(\"source:\", source)\n",
    "#             print(\"target:\", target)\n",
    "#             print(\"edge_feature\", edge_feature)\n",
    "            \n",
    "#             square_edges = pd.DataFrame({\"source\": source, \"target\": target, \"edge_feature\":edge_feature})\n",
    "            square_node_data = pd.DataFrame({\"feature_src\":feature_node}, index=feature_idx)\n",
    "            square_edges = pd.DataFrame({\"source\": source, \"target\": target})\n",
    "          \n",
    "            square = StellarGraph(square_node_data, square_edges)\n",
    "            graphs.append(square)\n",
    "            labels.append(row['label'])\n",
    "#             break\n",
    "            \n",
    "            \n",
    "    return graphs, labels\n",
    "\n",
    "graphs = []\n",
    "labels = []\n",
    "features = []\n",
    "\n",
    "graph_1, label_1 = create_graph_list(pneumonia_dead_cooc_df)\n",
    "graph_2, label_2 = create_graph_list(pneumonia_alive_cooc_df)\n",
    "\n",
    "graphs.extend(graph_1)\n",
    "labels.extend(label_1)\n",
    "print(f\"graphs: {len(graphs)}, labels: {len(labels)}\")\n",
    "graphs.extend(graph_2)\n",
    "labels.extend(label_2)\n",
    "print(f\"graphs: {len(graphs)}, labels: {len(labels)}\")"
   ]
  },
  {
   "cell_type": "code",
   "execution_count": null,
   "metadata": {},
   "outputs": [],
   "source": [
    "print(graphs[0].info())"
   ]
  },
  {
   "cell_type": "code",
   "execution_count": null,
   "metadata": {},
   "outputs": [],
   "source": [
    "print(graphs[1].info())"
   ]
  },
  {
   "cell_type": "code",
   "execution_count": null,
   "metadata": {},
   "outputs": [],
   "source": [
    "summary = pd.DataFrame(\n",
    "    [(g.number_of_nodes(), g.number_of_edges()) for g in graphs],\n",
    "    columns=[\"nodes\", \"edges\"],\n",
    ")\n",
    "summary.describe().round(1)"
   ]
  },
  {
   "cell_type": "code",
   "execution_count": null,
   "metadata": {},
   "outputs": [],
   "source": [
    "graph_labels = pd.Series(labels)"
   ]
  },
  {
   "cell_type": "code",
   "execution_count": null,
   "metadata": {},
   "outputs": [],
   "source": [
    "print(graph_labels)"
   ]
  },
  {
   "cell_type": "code",
   "execution_count": null,
   "metadata": {},
   "outputs": [],
   "source": [
    "graph_labels.value_counts().to_frame()"
   ]
  },
  {
   "cell_type": "code",
   "execution_count": null,
   "metadata": {},
   "outputs": [],
   "source": [
    "graph_labels = pd.get_dummies(graph_labels, drop_first=True)"
   ]
  },
  {
   "cell_type": "code",
   "execution_count": null,
   "metadata": {},
   "outputs": [],
   "source": [
    "print(type(graph_labels))"
   ]
  },
  {
   "cell_type": "code",
   "execution_count": null,
   "metadata": {},
   "outputs": [],
   "source": [
    "graph_labels"
   ]
  },
  {
   "cell_type": "code",
   "execution_count": null,
   "metadata": {},
   "outputs": [],
   "source": [
    "generator = PaddedGraphGenerator(graphs=graphs)"
   ]
  },
  {
   "cell_type": "code",
   "execution_count": null,
   "metadata": {},
   "outputs": [],
   "source": [
    "def create_graph_classification_model(generator):\n",
    "    gc_model = GCNSupervisedGraphClassification(\n",
    "        layer_sizes=[64, 64],\n",
    "        activations=[\"relu\", \"relu\"],\n",
    "        generator=generator,\n",
    "        dropout=0.5,\n",
    "    )\n",
    "    x_inp, x_out = gc_model.in_out_tensors()\n",
    "    predictions = Dense(units=32, activation=\"relu\")(x_out)\n",
    "    predictions = Dense(units=16, activation=\"relu\")(predictions)\n",
    "    predictions = Dense(units=1, activation=\"sigmoid\")(predictions)\n",
    "\n",
    "    # Let's create the Keras model and prepare it for training\n",
    "    model = Model(inputs=x_inp, outputs=predictions)\n",
    "    model.compile(optimizer=Adam(0.005), loss=binary_crossentropy, metrics=[\"acc\"])\n",
    "\n",
    "    return model"
   ]
  },
  {
   "cell_type": "markdown",
   "metadata": {},
   "source": [
    "### Train the model\n",
    "\n",
    "We can now train the model using the model's `fit` method. First, we specify some important training parameters such as the number of training epochs, number of fold for cross validation and the number of time to repeat cross validation."
   ]
  },
  {
   "cell_type": "code",
   "execution_count": null,
   "metadata": {},
   "outputs": [],
   "source": [
    "epochs = 200  # maximum number of training epochs\n",
    "folds = 10  # the number of folds for k-fold cross validation\n",
    "n_repeats = 5  # the number of repeats for repeated k-fold cross validation"
   ]
  },
  {
   "cell_type": "code",
   "execution_count": null,
   "metadata": {},
   "outputs": [],
   "source": [
    "es = EarlyStopping(\n",
    "    monitor=\"val_loss\", min_delta=0, patience=25, restore_best_weights=True\n",
    ")"
   ]
  },
  {
   "cell_type": "code",
   "execution_count": null,
   "metadata": {},
   "outputs": [],
   "source": [
    "def train_fold(model, train_gen, test_gen, es, epochs):\n",
    "    history = model.fit(\n",
    "        train_gen, epochs=epochs, validation_data=test_gen, verbose=0, callbacks=[es],\n",
    "    )\n",
    "    # calculate performance on the test data and return along with history\n",
    "    test_metrics = model.evaluate(test_gen, verbose=0)\n",
    "    test_acc = test_metrics[model.metrics_names.index(\"acc\")]\n",
    "\n",
    "    return history, test_acc"
   ]
  },
  {
   "cell_type": "code",
   "execution_count": null,
   "metadata": {},
   "outputs": [],
   "source": [
    "def get_generators(train_index, test_index, graph_labels, batch_size):\n",
    "    train_gen = generator.flow(\n",
    "        train_index, targets=graph_labels.iloc[train_index].values, batch_size=batch_size\n",
    "    )\n",
    "    test_gen = generator.flow(\n",
    "        test_index, targets=graph_labels.iloc[test_index].values, batch_size=batch_size\n",
    "    )\n",
    "\n",
    "    return train_gen, test_gen"
   ]
  },
  {
   "cell_type": "code",
   "execution_count": null,
   "metadata": {
    "scrolled": true
   },
   "outputs": [],
   "source": [
    "test_accs = []\n",
    "\n",
    "stratified_folds = model_selection.RepeatedStratifiedKFold(\n",
    "    n_splits=folds, n_repeats=n_repeats\n",
    ").split(graph_labels, graph_labels)\n",
    "\n",
    "for i, (train_index, test_index) in enumerate(stratified_folds):\n",
    "    print(f\"Training and evaluating on fold {i+1} out of {folds * n_repeats}...\")\n",
    "    train_gen, test_gen = get_generators(\n",
    "        train_index, test_index, graph_labels, batch_size=30\n",
    "    )\n",
    "\n",
    "    model = create_graph_classification_model(generator)\n",
    "\n",
    "    history, acc = train_fold(model, train_gen, test_gen, es, epochs)\n",
    "\n",
    "    test_accs.append(acc)"
   ]
  },
  {
   "cell_type": "code",
   "execution_count": null,
   "metadata": {},
   "outputs": [],
   "source": [
    "print(f\"Accuracy over all folds mean: {np.mean(test_accs)*100:.3}% and std: {np.std(test_accs)*100:.2}%\")"
   ]
  },
  {
   "cell_type": "code",
   "execution_count": null,
   "metadata": {},
   "outputs": [],
   "source": [
    "plt.figure(figsize=(8, 6))\n",
    "plt.hist(test_accs)\n",
    "plt.xlabel(\"Accuracy\")\n",
    "plt.ylabel(\"Count\")"
   ]
  },
  {
   "cell_type": "code",
   "execution_count": null,
   "metadata": {},
   "outputs": [],
   "source": []
  },
  {
   "cell_type": "code",
   "execution_count": null,
   "metadata": {},
   "outputs": [],
   "source": []
  },
  {
   "cell_type": "code",
   "execution_count": null,
   "metadata": {},
   "outputs": [],
   "source": []
  },
  {
   "cell_type": "code",
   "execution_count": null,
   "metadata": {},
   "outputs": [],
   "source": []
  },
  {
   "cell_type": "code",
   "execution_count": null,
   "metadata": {},
   "outputs": [],
   "source": []
  },
  {
   "cell_type": "code",
   "execution_count": null,
   "metadata": {},
   "outputs": [],
   "source": []
  },
  {
   "cell_type": "code",
   "execution_count": null,
   "metadata": {},
   "outputs": [],
   "source": []
  },
  {
   "cell_type": "markdown",
   "metadata": {},
   "source": [
    "### Implementation for spmf java"
   ]
  },
  {
   "cell_type": "code",
   "execution_count": null,
   "metadata": {},
   "outputs": [],
   "source": [
    "import operator\n",
    "\n",
    "\"\"\"function description:\n",
    "generates patient word itemset for each disease\n",
    "\"\"\"\n",
    "# # define stemmer\n",
    "# stemmer = PorterStemmer()\n",
    "\n",
    "def generate_FP_input_per_note(disease_name, disease_df, word_dict):\n",
    "    with open(disease_name, \"w\") as output_fp:\n",
    "\n",
    "        # write the coverted dic for the text\n",
    "        # od = collections.OrderedDict(sorted(word_dict.items()))\n",
    "        od = sorted(word_dict.items(), key = operator.itemgetter(1))\n",
    "        output_fp.write(\"@CONVERTED_FROM_TEXT\")\n",
    "        output_fp.write(\"\\n\")\n",
    "        # for k, v in od.iteritems():\n",
    "        for k,v in od:\n",
    "            output_fp.write(\"@ITEM=\")\n",
    "            output_fp.write(str(v))\n",
    "            output_fp.write(\"=\")\n",
    "            output_fp.write(str(k))\n",
    "            output_fp.write(\"\\n\")\n",
    "\n",
    "        # read line in from file (each line is one note)\n",
    "        for index, row in tqdm(disease_df.iterrows(), total=disease_df.shape[0]):\n",
    "            # if not \"Physician\" in line[4]:\n",
    "            #     continue\n",
    "                    \n",
    "            word_set = set()\n",
    "            note = row['TEXT']\n",
    "\n",
    "            tokenized_note = word_tokenize(note)\n",
    "\n",
    "            # loop through each word in note to count word belonging to each disease\n",
    "            for word in tokenized_note:\n",
    "                stemmed_word = stemmer.stem(word.lower())\n",
    "                if stemmed_word in word_dict:\n",
    "                    word_set.add(stemmed_word)\n",
    "\n",
    "            templst = []\n",
    "            for word in word_set:\n",
    "                templst.append(word_dict[word])\n",
    "\n",
    "            templst.sort()\n",
    "            for x in range(len(templst) - 1):\n",
    "                output_fp.write(str(templst[x]) + \" \")\n",
    "\n",
    "            if templst:\n",
    "                output_fp.write(str(templst[len(templst)-1]))\n",
    "                output_fp.write(\"\\n\")\n",
    "            \n",
    "    print(\"FP growth input for \" + disease_name + \" generated!\")\n",
    "\n",
    "# Given as a parameter\n",
    "generate_FP_input_per_note(\"pneumonia_dead\", pneumonia_dead_no_disch, word_dict)\n",
    "generate_FP_input_per_note(\"pneumonia_alive\", pneumonia_alive_no_disch, word_dict)\n"
   ]
  },
  {
   "cell_type": "code",
   "execution_count": null,
   "metadata": {},
   "outputs": [],
   "source": []
  },
  {
   "cell_type": "code",
   "execution_count": null,
   "metadata": {},
   "outputs": [],
   "source": []
  },
  {
   "cell_type": "code",
   "execution_count": null,
   "metadata": {},
   "outputs": [],
   "source": []
  },
  {
   "cell_type": "code",
   "execution_count": null,
   "metadata": {},
   "outputs": [],
   "source": [
    "import os\n",
    "import operator\n",
    "from pathlib import Path\n",
    "\n",
    "# ----\n",
    "def fp_growth_input_per_patient(disease_name, disease_df, word_dict):\n",
    "    \n",
    "    disease_path = os.path.join(\"./tmp\", disease_name, \"inputs\")\n",
    "    if not os.path.exists(disease_path):\n",
    "        os.makedirs(disease_path)\n",
    "        \n",
    "    patient_id = -1\n",
    "#     patient_word_set = set()\n",
    "    patient_note_list = []\n",
    "    \n",
    "    # read line in from file (each line is one note)\n",
    "    for index, row in tqdm(disease_df.iterrows(), total=disease_df.shape[0]):\n",
    "        # only regard certain type of notes\n",
    "        patient_id_check = int(row['SUBJECT_ID_x'])\n",
    "        note = re.sub(r'\\[\\*\\*(.*?)\\*\\*\\]|[_,\\d\\*:~=\\.\\-\\+\\\\/]+', ' ', row['TEXT'])\n",
    "        patient_word_set = set()\n",
    "    \n",
    "#         print(f\"patient_id_check: {patient_id_check}, patient_id: {patient_id}\")\n",
    "        # if patient id has changed, end sequence and start new sequence\n",
    "        if not patient_id == patient_id_check and not patient_id == -1:\n",
    "        \n",
    "#             disease_path = \"./tmp/\" + disease_name\n",
    "            file_name = str(patient_id) + '_' + disease_name\n",
    "            file_path = os.path.join(disease_path, file_name)\n",
    "            \n",
    "            with open(file_path, \"w\") as output_fp:\n",
    "                # write the coverted dic for the text\n",
    "                # od = collections.OrderedDict(sorted(word_dict.items()))\n",
    "    \n",
    "                od = sorted(word_dict.items(), key = operator.itemgetter(1))\n",
    "                output_fp.write(\"@CONVERTED_FROM_TEXT\")\n",
    "                output_fp.write(\"\\n\")\n",
    "                # for k, v in od.iteritems():\n",
    "                for k,v in od:\n",
    "                    output_fp.write(\"@ITEM=\")\n",
    "                    output_fp.write(str(v))\n",
    "                    output_fp.write(\"=\")\n",
    "                    output_fp.write(str(k))\n",
    "                    output_fp.write(\"\\n\")\n",
    "\n",
    "                for item in patient_note_list:\n",
    "                    for x in range(len(item) - 1):\n",
    "                        output_fp.write(str(item[x]) + \" \")\n",
    "\n",
    "                    if item:\n",
    "                        output_fp.write(str(item[len(item)-1]))\n",
    "                        output_fp.write(\"\\n\")\n",
    "\n",
    "                patient_note_list = []\n",
    "                \n",
    "\n",
    "                    \n",
    "        # update patient id\n",
    "        patient_id = patient_id_check\n",
    "        tokenized_note = word_tokenize(note)\n",
    "\n",
    "        # loop through each word in note to count word belonging to each disease\n",
    "        for word in tokenized_note:\n",
    "            stemmed_word = stemmer.stem(word.lower())       \n",
    "            if stemmed_word in word_dict:\n",
    "                    patient_word_set.add(stemmed_word)\n",
    "\n",
    "        templst = []\n",
    "        for word in patient_word_set:\n",
    "            templst.append(word_dict[word])\n",
    "\n",
    "        templst.sort()\n",
    "        patient_note_list.append(templst)\n",
    "        \n",
    "            \n",
    "    print(\"FP growth input for \" + disease_name + \" generated!\")\n",
    "\n",
    "fp_growth_input_per_patient(\"pneumonia_dead\", pneumonia_dead_no_disch, word_dict)\n",
    "fp_growth_input_per_patient(\"pneumonia_alive\", pneumonia_alive_no_disch, word_dict)\n",
    "\n"
   ]
  },
  {
   "cell_type": "code",
   "execution_count": null,
   "metadata": {},
   "outputs": [],
   "source": [
    "import os, subprocess\n",
    "print(os.getcwd())\n",
    "os.system('ls -l')\n",
    "# process = subprocess.Popen([\"java -jar spmf run FPGrowth_itemsets pneumonia_dead FP_out_test 3%\"])\n",
    "# process.wait()"
   ]
  },
  {
   "cell_type": "code",
   "execution_count": null,
   "metadata": {
    "scrolled": true
   },
   "outputs": [],
   "source": [
    "import os, subprocess\n",
    "from tqdm import tqdm\n",
    "def fp_growth_output_per_pratient(disease_name):\n",
    "#     spmf = ['java', '-jar', 'spmf.jar', 'run', 'FPGrowth_itemsets']\n",
    "    minsup = '70%'\n",
    "    inputdir = os.path.join(\"./tmp\", disease_name, \"inputs\")\n",
    "    \n",
    "    outputdir = os.path.join(\"./tmp\", disease_name, \"outputs\")\n",
    "    if not os.path.exists(outputdir):\n",
    "        os.makedirs(outputdir)\n",
    "        \n",
    "    for patient_file in tqdm(os.listdir(inputdir)):\n",
    "#         print(patient_file)\n",
    "        input_ = os.path.join(inputdir, patient_file)\n",
    "        output_ = os.path.join(outputdir, patient_file)\n",
    "#         print(f\"input_: {input_}\")\n",
    "#         print(f\"output_: {output_}\")\n",
    "        command = ['java', '-jar', 'spmf.jar', 'run', 'FPGrowth_itemsets', input_, output_, minsup]\n",
    "#         print(f\"command: {command}\")\n",
    "        subprocess.call(command)\n",
    "\n",
    "        \n",
    "\n",
    "fp_growth_output_per_pratient(\"pneumonia_dead\")\n",
    "fp_growth_output_per_pratient(\"pneumonia_alive\")\n",
    "    "
   ]
  },
  {
   "cell_type": "code",
   "execution_count": null,
   "metadata": {
    "scrolled": true
   },
   "outputs": [],
   "source": [
    "def findItemSets(fileName, length_OfItemSet):\n",
    "\n",
    "    file_read = fileName\n",
    "    lengthOfItemSet = int(length_OfItemSet)\n",
    "\n",
    "    wordlst = []\n",
    "    with open(file_read, \"r\") as fp:\n",
    "        for line in fp:\n",
    "            line = line.split()\n",
    "            if line:\n",
    "                wordlst.append(line)\n",
    "\n",
    "    coocurrencies = []\n",
    "\n",
    "    for listitem in wordlst:\n",
    "\n",
    "        if len(listitem) == (lengthOfItemSet + 2):\n",
    "            coocurrencies.append(listitem)\n",
    "\n",
    "    output = sorted(coocurrencies, key=lambda x: int(x[-1]))\n",
    "\n",
    "\n",
    "    for x in reversed(output):\n",
    "        if lengthOfItemSet == 2:\n",
    "            print(\"%s %s %s\" % (x[0], x[1], x[3]))\n",
    "        elif lengthOfItemSet == 3:\n",
    "            print(\"%s %s %s %s\" % (x[0], x[1], x[2], x[4]))\n",
    "        elif lengthOfItemSet == 4:\n",
    "            print(\"%s %s %s %s %s\" % (x[0], x[1], x[2], x[3], x[5]))\n",
    "        elif lengthOfItemSet == 5:\n",
    "            print(\"%s %s %s %s %s %s\" % (x[0], x[1], x[2], x[3], x[4], x[6]))\n",
    "            \n",
    "# findItemSets('FP_growth_pneumonia_alive_output.txt', 2)\n",
    "findItemSets('./tmp/111_out.txt', 2)"
   ]
  },
  {
   "cell_type": "code",
   "execution_count": null,
   "metadata": {},
   "outputs": [],
   "source": []
  }
 ],
 "metadata": {
  "kernelspec": {
   "display_name": "Python 3",
   "language": "python",
   "name": "python3"
  },
  "language_info": {
   "codemirror_mode": {
    "name": "ipython",
    "version": 3
   },
   "file_extension": ".py",
   "mimetype": "text/x-python",
   "name": "python",
   "nbconvert_exporter": "python",
   "pygments_lexer": "ipython3",
   "version": "3.7.6"
  }
 },
 "nbformat": 4,
 "nbformat_minor": 4
}
