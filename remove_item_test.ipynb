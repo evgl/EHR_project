{
 "cells": [
  {
   "cell_type": "code",
   "execution_count": 1,
   "metadata": {},
   "outputs": [],
   "source": [
    "import os\n",
    "import pandas as pd\n",
    "import numpy as np\n",
    "import json\n",
    "import tensorflow as tf\n",
    "import matplotlib.pyplot as plt\n",
    "import functions\n",
    "from functions import extract_data, count_notes_per_patient, logger, count_words_per_patient, find_frequent_word, find_cooc_per_patient\n",
    "from functions import cooc_log_odd_score, sequence2vec, other_emb\n",
    "from functions import create_graphs_lists, train_model\n",
    "from nltk.stem import PorterStemmer\n",
    "from sklearn import model_selection"
   ]
  },
  {
   "cell_type": "code",
   "execution_count": 2,
   "metadata": {},
   "outputs": [],
   "source": [
    "# Input vars --->\n",
    "disease_name = 'PNEUMONIA'\n",
    "database_path = '../MIMIC-III'\n",
    "inputs_path = os.path.join('data/inputs/', disease_name)\n",
    "\n",
    "patient_id_to_num_notes = {}\n",
    "\n",
    "number_of_patients = {}\n",
    "note_appearance_counter = {}\n",
    "## Step 4\n",
    "n_fold = float(3)\n",
    "threshold = float(0.01)\n",
    "frequent_word_lists = {}\n",
    "\n",
    "min_sup = 0.15\n",
    "# Input vars ---<"
   ]
  },
  {
   "cell_type": "code",
   "execution_count": 3,
   "metadata": {},
   "outputs": [
    {
     "name": "stderr",
     "output_type": "stream",
     "text": [
      "2021-01-15 17:03:31,543 - Get and normalize weights in co-occurrences...\n"
     ]
    }
   ],
   "source": [
    "# Read json\n",
    "with open(os.path.join(inputs_path,'patient_node_0.json'), 'r') as fp:\n",
    "    patient_node_0 = json.load(fp)\n",
    "with open(os.path.join(inputs_path,'patient_node_1.json'), 'r') as fp:\n",
    "    patient_node_1 = json.load(fp)\n",
    "# Read txt with tuples\n",
    "dic = ''\n",
    "with open(os.path.join(inputs_path,'patient_cooc_0.txt'),'r') as f:\n",
    "         for i in f.readlines():\n",
    "            dic=i #string\n",
    "patient_cooc_0 = eval(dic) # this is orignal dict with instace dict\n",
    "\n",
    "dic = ''\n",
    "with open(os.path.join(inputs_path,'patient_cooc_1.txt'),'r') as f:\n",
    "         for i in f.readlines():\n",
    "            dic=i #string\n",
    "patient_cooc_1 = eval(dic) # this is orignal dict with instace dict\n",
    "\n",
    "# Step 6\n",
    "logger.info(\"Get and normalize weights in co-occurrences...\")\n",
    "patient_cooc_set, normalized_cooc_odd_scores = cooc_log_odd_score(patient_cooc_0, patient_cooc_1, )\n"
   ]
  },
  {
   "cell_type": "code",
   "execution_count": 4,
   "metadata": {},
   "outputs": [],
   "source": [
    "sequence2vec = np.load(os.path.join(inputs_path,'sequence2vec.npy'), allow_pickle=True)"
   ]
  },
  {
   "cell_type": "code",
   "execution_count": 6,
   "metadata": {},
   "outputs": [
    {
     "name": "stderr",
     "output_type": "stream",
     "text": [
      "2021-01-15 17:08:11,781 - Create graphs, graph labels, train and test data...\n"
     ]
    },
    {
     "name": "stdout",
     "output_type": "stream",
     "text": [
      "44.0\n",
      "162\n"
     ]
    }
   ],
   "source": [
    "# Step 8\n",
    "# Create graphs, graph labels, train and test data\n",
    "logger.info(\"Create graphs, graph labels, train and test data...\")\n",
    "graphs, graph_labels, train_index, test_index = create_graphs_lists(patient_cooc_0, patient_cooc_1, normalized_cooc_odd_scores, sequence2vec)\n"
   ]
  },
  {
   "cell_type": "code",
   "execution_count": 7,
   "metadata": {},
   "outputs": [
    {
     "data": {
      "text/html": [
       "<div>\n",
       "<style scoped>\n",
       "    .dataframe tbody tr th:only-of-type {\n",
       "        vertical-align: middle;\n",
       "    }\n",
       "\n",
       "    .dataframe tbody tr th {\n",
       "        vertical-align: top;\n",
       "    }\n",
       "\n",
       "    .dataframe thead th {\n",
       "        text-align: right;\n",
       "    }\n",
       "</style>\n",
       "<table border=\"1\" class=\"dataframe\">\n",
       "  <thead>\n",
       "    <tr style=\"text-align: right;\">\n",
       "      <th></th>\n",
       "      <th>1</th>\n",
       "    </tr>\n",
       "  </thead>\n",
       "  <tbody>\n",
       "    <tr>\n",
       "      <th>0</th>\n",
       "      <td>0</td>\n",
       "    </tr>\n",
       "    <tr>\n",
       "      <th>1</th>\n",
       "      <td>0</td>\n",
       "    </tr>\n",
       "    <tr>\n",
       "      <th>2</th>\n",
       "      <td>0</td>\n",
       "    </tr>\n",
       "    <tr>\n",
       "      <th>3</th>\n",
       "      <td>0</td>\n",
       "    </tr>\n",
       "    <tr>\n",
       "      <th>4</th>\n",
       "      <td>0</td>\n",
       "    </tr>\n",
       "    <tr>\n",
       "      <th>...</th>\n",
       "      <td>...</td>\n",
       "    </tr>\n",
       "    <tr>\n",
       "      <th>883</th>\n",
       "      <td>1</td>\n",
       "    </tr>\n",
       "    <tr>\n",
       "      <th>884</th>\n",
       "      <td>1</td>\n",
       "    </tr>\n",
       "    <tr>\n",
       "      <th>885</th>\n",
       "      <td>1</td>\n",
       "    </tr>\n",
       "    <tr>\n",
       "      <th>886</th>\n",
       "      <td>1</td>\n",
       "    </tr>\n",
       "    <tr>\n",
       "      <th>887</th>\n",
       "      <td>1</td>\n",
       "    </tr>\n",
       "  </tbody>\n",
       "</table>\n",
       "<p>888 rows × 1 columns</p>\n",
       "</div>"
      ],
      "text/plain": [
       "     1\n",
       "0    0\n",
       "1    0\n",
       "2    0\n",
       "3    0\n",
       "4    0\n",
       "..  ..\n",
       "883  1\n",
       "884  1\n",
       "885  1\n",
       "886  1\n",
       "887  1\n",
       "\n",
       "[888 rows x 1 columns]"
      ]
     },
     "execution_count": 7,
     "metadata": {},
     "output_type": "execute_result"
    }
   ],
   "source": [
    "graph_labels"
   ]
  },
  {
   "cell_type": "code",
   "execution_count": 13,
   "metadata": {},
   "outputs": [],
   "source": [
    "new_test_index = np.concatenate((train_index, test_index))"
   ]
  },
  {
   "cell_type": "code",
   "execution_count": 17,
   "metadata": {},
   "outputs": [
    {
     "data": {
      "text/plain": [
       "array([178, 182,  33,  30,  19,  26, 165, 187,  15, 185,  42,   1, 195,\n",
       "       179, 175,  37, 186,  36, 171, 164, 192,  20, 202,   8,  41, 198,\n",
       "        40, 177,  32, 174,  39, 205,  43, 196,  12,  23,  18, 189, 169,\n",
       "       168,   7,  34, 190,   2,  16,  38, 166,  22, 180,  24,   5,   6,\n",
       "       184, 181, 199,   9, 206,  21, 191, 163,  10, 170, 167,   0, 203,\n",
       "       176, 201, 172,  25, 193, 183,  29,  27, 197, 204,   4, 173, 194,\n",
       "        11, 188,  13,  17,  28,  31,  35,   3,  14, 200])"
      ]
     },
     "execution_count": 17,
     "metadata": {},
     "output_type": "execute_result"
    }
   ],
   "source": [
    "test_index"
   ]
  },
  {
   "cell_type": "code",
   "execution_count": 14,
   "metadata": {},
   "outputs": [
    {
     "data": {
      "text/plain": [
       "array([820, 462, 661, 578, 735, 619, 446, 737, 538, 861, 583, 732, 876,\n",
       "       425,  68, 879, 265, 466, 428, 149, 486, 132, 703, 509, 288, 289,\n",
       "       577, 319, 327, 464, 108, 822, 818, 317, 632, 700, 598, 324, 719,\n",
       "       767, 309, 532, 587, 819, 417, 368, 390, 279, 489, 404, 122, 300,\n",
       "       762, 471, 824, 479, 744, 838, 389, 238, 626,  80, 690, 273, 260,\n",
       "       268, 136,  53, 445,  94, 551, 118, 754,  57, 826, 262, 857, 627,\n",
       "       490, 539, 365, 353, 447, 663, 408, 716, 320, 870, 522, 444, 791,\n",
       "       595, 301, 728, 777, 335,  52, 442,  72, 835, 734, 485, 582, 611,\n",
       "       413,  54, 675, 473, 510, 352, 693, 261, 492, 725, 741, 350, 714,\n",
       "       102, 671, 565, 860,  77, 525,  67, 610, 154,  61, 286, 775, 695,\n",
       "       569, 678, 665, 250,  86, 814, 351, 236, 670, 812, 638, 789, 519,\n",
       "       568, 399, 502, 225, 592, 457, 813, 505, 677, 608, 602, 329,  49,\n",
       "       237, 649, 360, 474, 623, 808, 207, 497, 128, 684, 755,  60, 590,\n",
       "        83, 325, 394, 469, 381, 615, 226, 783, 129, 666, 766, 800, 837,\n",
       "       752, 276, 694, 571, 212, 540, 790, 749, 564, 481, 344, 491, 278,\n",
       "        84, 421, 228, 463, 217, 272, 337, 511, 281, 844, 240, 697, 403,\n",
       "       452, 739, 315, 866, 705,  75, 378, 480, 850, 162, 220, 727, 763,\n",
       "        89, 100, 723, 287, 864, 400, 589, 280, 881, 483, 398, 630, 736,\n",
       "       339, 664, 573, 883, 531, 555,  93, 235, 545, 560, 150, 518, 465,\n",
       "       636, 776, 423, 443, 804, 798, 852, 537, 145, 159, 544, 576, 488,\n",
       "       259, 527,  87, 130, 621, 395, 535, 356, 612, 815, 252, 382, 453,\n",
       "       770, 243, 594, 295, 606, 874, 603, 303, 720, 707, 239, 575, 794,\n",
       "       297, 604, 534, 512, 107, 657, 409, 415, 460, 456, 625, 682, 354,\n",
       "       713, 396, 484, 218, 141, 383, 285, 761, 349, 868, 554, 264, 601,\n",
       "       722, 549, 647, 773, 385, 438, 591, 507,  58, 873, 781, 548, 618,\n",
       "       563, 416, 530, 768, 613, 292, 142, 495, 708, 160, 718, 267, 672,\n",
       "       146, 157, 328, 709, 283, 643, 816, 224, 859, 556, 298, 745, 135,\n",
       "        56, 299, 134, 127, 209, 503, 644, 296, 374, 269,  96, 515, 832,\n",
       "       437, 499, 271, 887, 274, 245, 674, 676, 845, 119, 831, 562, 528,\n",
       "        62, 367, 120, 441,  82, 786, 516, 375, 616, 449, 370, 314, 807,\n",
       "       126, 222, 414, 110, 620,  45,  66, 757, 688, 494,  91,  70, 696,\n",
       "       795, 346, 645, 412, 439, 771, 797, 839, 151, 397, 232, 227, 123,\n",
       "       513, 468,  98, 726, 827, 112,  97, 427, 796, 371, 506, 429, 542,\n",
       "       836, 422, 501, 401, 242, 448, 366, 514, 758, 710, 233, 277, 213,\n",
       "       581, 266, 680, 729, 347, 153, 363, 829, 624, 376, 406, 546,  48,\n",
       "        81, 472, 559, 667, 241, 418, 431, 877, 290, 656, 210, 597, 454,\n",
       "       430, 843, 221, 750, 355, 377, 386, 424, 805, 584, 405,  64, 681,\n",
       "       817, 214, 379, 543, 570, 105, 294, 208, 648, 433,  78, 392,  79,\n",
       "       622, 523,  85, 348, 579, 596, 712, 756, 524, 834, 740, 332, 387,\n",
       "       885,  73, 248, 683, 641, 865, 310, 391, 635, 246, 586, 858, 380,\n",
       "       553, 854, 487,  46, 792, 256, 702, 782, 306, 580, 659, 652, 258,\n",
       "       330, 869,  59,  95, 642, 541, 121, 343, 793, 660, 275, 748, 231,\n",
       "       855, 651, 823, 342, 155, 435, 500, 106, 144,  99, 566, 508, 689,\n",
       "       450, 529, 840, 140, 282, 504, 673, 336, 572, 223, 687, 307, 699,\n",
       "       373, 331, 614, 669, 426, 784, 113, 785, 104, 116,  51, 856, 323,\n",
       "       655,  65, 434, 772, 318, 341, 211, 550, 617, 536, 717, 760, 407,\n",
       "       293, 715, 779, 521, 628, 769, 257, 650, 574, 219, 216, 633, 114,\n",
       "       585, 131, 830, 778, 334, 103, 333, 402, 459, 733,  63, 588, 419,\n",
       "       701,  44, 631, 640, 253, 470, 801, 862, 799, 724, 393, 152, 607,\n",
       "       270, 600, 764,  47, 811, 249, 533, 828, 886, 848, 803, 833, 161,\n",
       "        55, 654, 345, 629, 567, 747, 478, 482, 109, 698, 849, 851, 730,\n",
       "       244, 156,  92, 137, 593, 609, 229, 788, 825, 496, 685, 526, 686,\n",
       "       357, 639, 863, 340, 880, 359, 234, 557, 746, 493, 599, 759, 305,\n",
       "       410, 668, 304, 111, 362, 498, 411, 871, 322, 101, 420, 312, 658,\n",
       "       743, 364, 476, 561, 255, 882, 634, 263, 810, 711, 117, 751, 787,\n",
       "       361, 774, 302, 451, 467, 254, 461, 738, 552, 884, 841, 147, 867,\n",
       "       125, 384, 321, 765,  90, 115, 809, 284, 679, 458, 721, 731, 388,\n",
       "       653, 124, 475, 215, 637, 558,  88, 358, 706, 440, 455, 143, 477,\n",
       "       138, 878, 432, 308, 247, 853, 436, 872, 802, 251,  50, 372, 691,\n",
       "       547, 313, 517, 875, 806, 753, 821, 291, 662,  71, 704, 605, 326,\n",
       "       311, 139,  74,  76, 520, 692, 133, 646, 846, 780, 148, 842, 230,\n",
       "       316, 338, 369, 847,  69, 158, 742, 178, 182,  33,  30,  19,  26,\n",
       "       165, 187,  15, 185,  42,   1, 195, 179, 175,  37, 186,  36, 171,\n",
       "       164, 192,  20, 202,   8,  41, 198,  40, 177,  32, 174,  39, 205,\n",
       "        43, 196,  12,  23,  18, 189, 169, 168,   7,  34, 190,   2,  16,\n",
       "        38, 166,  22, 180,  24,   5,   6, 184, 181, 199,   9, 206,  21,\n",
       "       191, 163,  10, 170, 167,   0, 203, 176, 201, 172,  25, 193, 183,\n",
       "        29,  27, 197, 204,   4, 173, 194,  11, 188,  13,  17,  28,  31,\n",
       "        35,   3,  14, 200])"
      ]
     },
     "execution_count": 14,
     "metadata": {},
     "output_type": "execute_result"
    }
   ],
   "source": [
    "new_test_index"
   ]
  },
  {
   "cell_type": "code",
   "execution_count": 18,
   "metadata": {},
   "outputs": [],
   "source": [
    "test_accs, test_f1_score, test_precision, test_recall, test_auc = train_model(graphs, graph_labels, train_index, new_test_index, \"seq2vec\", disease_name)"
   ]
  },
  {
   "cell_type": "code",
   "execution_count": 20,
   "metadata": {},
   "outputs": [
    {
     "name": "stdout",
     "output_type": "stream",
     "text": [
      "test_accs: 0.920045018196106, test_f1_score: 0.9455599188804626, test_precision: 0.9034280180931091, test_recall: 0.9986111521720886, test_auc: 0.9530362486839294\n"
     ]
    }
   ],
   "source": [
    "print(f\"test_accs: {test_accs}, test_f1_score: {test_f1_score}, test_precision: {test_precision}, test_recall: {test_recall}, test_auc: {test_auc}\")"
   ]
  },
  {
   "cell_type": "code",
   "execution_count": null,
   "metadata": {},
   "outputs": [],
   "source": []
  }
 ],
 "metadata": {
  "kernelspec": {
   "display_name": "Python 3",
   "language": "python",
   "name": "python3"
  },
  "language_info": {
   "codemirror_mode": {
    "name": "ipython",
    "version": 3
   },
   "file_extension": ".py",
   "mimetype": "text/x-python",
   "name": "python",
   "nbconvert_exporter": "python",
   "pygments_lexer": "ipython3",
   "version": "3.6.3"
  }
 },
 "nbformat": 4,
 "nbformat_minor": 4
}
