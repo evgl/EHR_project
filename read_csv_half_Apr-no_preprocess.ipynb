{
 "cells": [
  {
   "cell_type": "markdown",
   "metadata": {},
   "source": [
    "### Data extraction\n",
    "Extract data from MIMIC-III"
   ]
  },
  {
   "cell_type": "code",
   "execution_count": 1,
   "metadata": {
    "scrolled": true
   },
   "outputs": [
    {
     "data": {
      "text/html": [
       "        <script type=\"text/javascript\">\n",
       "        window.PlotlyConfig = {MathJaxConfig: 'local'};\n",
       "        if (window.MathJax) {MathJax.Hub.Config({SVG: {font: \"STIX-Web\"}});}\n",
       "        if (typeof require !== 'undefined') {\n",
       "        require.undef(\"plotly\");\n",
       "        requirejs.config({\n",
       "            paths: {\n",
       "                'plotly': ['https://cdn.plot.ly/plotly-latest.min']\n",
       "            }\n",
       "        });\n",
       "        require(['plotly'], function(Plotly) {\n",
       "            window._Plotly = Plotly;\n",
       "        });\n",
       "        }\n",
       "        </script>\n",
       "        "
      ]
     },
     "metadata": {},
     "output_type": "display_data"
    }
   ],
   "source": [
    "import time\n",
    "import numpy as np \n",
    "import pandas as pd\n",
    "import matplotlib.pyplot as plt\n",
    "import seaborn as sns\n",
    "from tqdm import tqdm\n",
    "import cufflinks\n",
    "\n",
    "cufflinks.go_offline()\n",
    "cufflinks.set_config_file(world_readable=True, theme='pearl')"
   ]
  },
  {
   "cell_type": "code",
   "execution_count": 2,
   "metadata": {},
   "outputs": [
    {
     "name": "stderr",
     "output_type": "stream",
     "text": [
      "/data/home/evgenii/anaconda3/lib/python3.7/site-packages/IPython/core/interactiveshell.py:3063: DtypeWarning:\n",
      "\n",
      "Columns (4,5) have mixed types.Specify dtype option on import or set low_memory=False.\n",
      "\n"
     ]
    },
    {
     "name": "stdout",
     "output_type": "stream",
     "text": [
      "70.83860993385315\n"
     ]
    }
   ],
   "source": [
    "# Import pandas \n",
    "import pandas as pd \n",
    "\n",
    "start = time.time()\n",
    "# reading csv file \n",
    "admissions_df = pd.read_csv(\"../MIMIC-III/ADMISSIONS.csv\")\n",
    "noteevents_df = pd.read_csv(\"../MIMIC-III/NOTEEVENTS.csv\") \n",
    "end = time.time()\n",
    "print(end - start)\n"
   ]
  },
  {
   "cell_type": "code",
   "execution_count": 3,
   "metadata": {},
   "outputs": [
    {
     "name": "stdout",
     "output_type": "stream",
     "text": [
      "5.864101409912109\n"
     ]
    }
   ],
   "source": [
    "start = time.time()\n",
    "# Left join of two dataframes\n",
    "note_admiss_df_left = noteevents_df.merge(admissions_df, on='HADM_ID', how='left', indicator=True)\n",
    "end = time.time()\n",
    "print(end - start)"
   ]
  },
  {
   "cell_type": "code",
   "execution_count": 4,
   "metadata": {
    "scrolled": false
   },
   "outputs": [
    {
     "data": {
      "text/html": [
       "<div>\n",
       "<style scoped>\n",
       "    .dataframe tbody tr th:only-of-type {\n",
       "        vertical-align: middle;\n",
       "    }\n",
       "\n",
       "    .dataframe tbody tr th {\n",
       "        vertical-align: top;\n",
       "    }\n",
       "\n",
       "    .dataframe thead th {\n",
       "        text-align: right;\n",
       "    }\n",
       "</style>\n",
       "<table border=\"1\" class=\"dataframe\">\n",
       "  <thead>\n",
       "    <tr style=\"text-align: right;\">\n",
       "      <th></th>\n",
       "      <th>DIAGNOSIS</th>\n",
       "      <th>SUBJECT_ID_x</th>\n",
       "      <th>SUBJECT_ID_y</th>\n",
       "      <th>DESCRIPTION</th>\n",
       "      <th>CATEGORY</th>\n",
       "    </tr>\n",
       "  </thead>\n",
       "  <tbody>\n",
       "    <tr>\n",
       "      <th>0</th>\n",
       "      <td>RT LOWER LOBE PNEUMONIA</td>\n",
       "      <td>22532</td>\n",
       "      <td>22532.0</td>\n",
       "      <td>Report</td>\n",
       "      <td>Discharge summary</td>\n",
       "    </tr>\n",
       "    <tr>\n",
       "      <th>1</th>\n",
       "      <td>CHRONIC OBSTRUCTIVE PULMONARY DISEASE</td>\n",
       "      <td>13702</td>\n",
       "      <td>13702.0</td>\n",
       "      <td>Report</td>\n",
       "      <td>Discharge summary</td>\n",
       "    </tr>\n",
       "    <tr>\n",
       "      <th>2</th>\n",
       "      <td>TRACHEALBRONCHEAL MALACEA/SDA</td>\n",
       "      <td>13702</td>\n",
       "      <td>13702.0</td>\n",
       "      <td>Report</td>\n",
       "      <td>Discharge summary</td>\n",
       "    </tr>\n",
       "    <tr>\n",
       "      <th>3</th>\n",
       "      <td>ASTHMA;COPD EXACERBATION</td>\n",
       "      <td>13702</td>\n",
       "      <td>13702.0</td>\n",
       "      <td>Report</td>\n",
       "      <td>Discharge summary</td>\n",
       "    </tr>\n",
       "    <tr>\n",
       "      <th>4</th>\n",
       "      <td>S/P FALL;TELEMETRY</td>\n",
       "      <td>26880</td>\n",
       "      <td>26880.0</td>\n",
       "      <td>Report</td>\n",
       "      <td>Discharge summary</td>\n",
       "    </tr>\n",
       "    <tr>\n",
       "      <th>...</th>\n",
       "      <td>...</td>\n",
       "      <td>...</td>\n",
       "      <td>...</td>\n",
       "      <td>...</td>\n",
       "      <td>...</td>\n",
       "    </tr>\n",
       "    <tr>\n",
       "      <th>2083175</th>\n",
       "      <td>NEWBORN</td>\n",
       "      <td>31097</td>\n",
       "      <td>31097.0</td>\n",
       "      <td>Report</td>\n",
       "      <td>Nursing/other</td>\n",
       "    </tr>\n",
       "    <tr>\n",
       "      <th>2083176</th>\n",
       "      <td>NEWBORN</td>\n",
       "      <td>31097</td>\n",
       "      <td>31097.0</td>\n",
       "      <td>Report</td>\n",
       "      <td>Nursing/other</td>\n",
       "    </tr>\n",
       "    <tr>\n",
       "      <th>2083177</th>\n",
       "      <td>NEWBORN</td>\n",
       "      <td>31097</td>\n",
       "      <td>31097.0</td>\n",
       "      <td>Report</td>\n",
       "      <td>Nursing/other</td>\n",
       "    </tr>\n",
       "    <tr>\n",
       "      <th>2083178</th>\n",
       "      <td>NEWBORN</td>\n",
       "      <td>31097</td>\n",
       "      <td>31097.0</td>\n",
       "      <td>Report</td>\n",
       "      <td>Nursing/other</td>\n",
       "    </tr>\n",
       "    <tr>\n",
       "      <th>2083179</th>\n",
       "      <td>NEWBORN</td>\n",
       "      <td>31097</td>\n",
       "      <td>31097.0</td>\n",
       "      <td>Report</td>\n",
       "      <td>Nursing/other</td>\n",
       "    </tr>\n",
       "  </tbody>\n",
       "</table>\n",
       "<p>2083180 rows × 5 columns</p>\n",
       "</div>"
      ],
      "text/plain": [
       "                                     DIAGNOSIS  SUBJECT_ID_x  SUBJECT_ID_y  \\\n",
       "0                      RT LOWER LOBE PNEUMONIA         22532       22532.0   \n",
       "1        CHRONIC OBSTRUCTIVE PULMONARY DISEASE         13702       13702.0   \n",
       "2                TRACHEALBRONCHEAL MALACEA/SDA         13702       13702.0   \n",
       "3                     ASTHMA;COPD EXACERBATION         13702       13702.0   \n",
       "4                           S/P FALL;TELEMETRY         26880       26880.0   \n",
       "...                                        ...           ...           ...   \n",
       "2083175                                NEWBORN         31097       31097.0   \n",
       "2083176                                NEWBORN         31097       31097.0   \n",
       "2083177                                NEWBORN         31097       31097.0   \n",
       "2083178                                NEWBORN         31097       31097.0   \n",
       "2083179                                NEWBORN         31097       31097.0   \n",
       "\n",
       "        DESCRIPTION           CATEGORY  \n",
       "0            Report  Discharge summary  \n",
       "1            Report  Discharge summary  \n",
       "2            Report  Discharge summary  \n",
       "3            Report  Discharge summary  \n",
       "4            Report  Discharge summary  \n",
       "...             ...                ...  \n",
       "2083175      Report      Nursing/other  \n",
       "2083176      Report      Nursing/other  \n",
       "2083177      Report      Nursing/other  \n",
       "2083178      Report      Nursing/other  \n",
       "2083179      Report      Nursing/other  \n",
       "\n",
       "[2083180 rows x 5 columns]"
      ]
     },
     "execution_count": 4,
     "metadata": {},
     "output_type": "execute_result"
    }
   ],
   "source": [
    "note_admiss_df_left[['DIAGNOSIS', 'SUBJECT_ID_x', 'SUBJECT_ID_y','DESCRIPTION', 'CATEGORY']]"
   ]
  },
  {
   "cell_type": "code",
   "execution_count": 5,
   "metadata": {
    "scrolled": true
   },
   "outputs": [],
   "source": [
    "pneumonia_df = note_admiss_df_left.loc[note_admiss_df_left[\"DIAGNOSIS\"] == 'PNEUMONIA', ['ROW_ID_x', 'SUBJECT_ID_x', 'HADM_ID', 'CHARTDATE', 'CHARTTIME', 'STORETIME', 'CATEGORY', 'DESCRIPTION', 'CGID', 'ISERROR', 'TEXT', 'ADMITTIME', 'DISCHTIME', 'DEATHTIME', 'ADMISSION_TYPE', 'DIAGNOSIS', 'HAS_CHARTEVENTS_DATA']]"
   ]
  },
  {
   "cell_type": "code",
   "execution_count": 6,
   "metadata": {},
   "outputs": [],
   "source": [
    "#pneumonia_no_disch_df = pneumonia_df.loc[pneumonia_df[\"CATEGORY\"] != 'Discharge summary', ['ROW_ID_x', 'SUBJECT_ID_x', 'HADM_ID', 'CHARTDATE', 'CHARTTIME', 'STORETIME', 'CATEGORY', 'DESCRIPTION', 'CGID', 'ISERROR', 'TEXT', 'ADMITTIME', 'DISCHTIME', 'DEATHTIME', 'ADMISSION_TYPE', 'DIAGNOSIS', 'HAS_CHARTEVENTS_DATA']]\n",
    "pneumonia_no_disch_df = pneumonia_df.loc[pneumonia_df[\"CATEGORY\"] != 'Discharge summary', ['ROW_ID_x','SUBJECT_ID_x','CHARTDATE','STORETIME','CATEGORY','DESCRIPTION','TEXT', 'DEATHTIME']]"
   ]
  },
  {
   "cell_type": "code",
   "execution_count": 7,
   "metadata": {},
   "outputs": [],
   "source": [
    "pneumonia_alive_no_disch = pneumonia_no_disch_df[pneumonia_no_disch_df.DEATHTIME.isnull()]\n",
    "pneumonia_dead_no_disch = pneumonia_no_disch_df[pneumonia_no_disch_df.DEATHTIME.notnull()]"
   ]
  },
  {
   "cell_type": "code",
   "execution_count": 8,
   "metadata": {},
   "outputs": [
    {
     "data": {
      "text/plain": [
       "(11895, 8)"
      ]
     },
     "execution_count": 8,
     "metadata": {},
     "output_type": "execute_result"
    }
   ],
   "source": [
    "pneumonia_dead_no_disch.shape"
   ]
  },
  {
   "cell_type": "code",
   "execution_count": 9,
   "metadata": {},
   "outputs": [
    {
     "data": {
      "text/plain": [
       "(46134, 8)"
      ]
     },
     "execution_count": 9,
     "metadata": {},
     "output_type": "execute_result"
    }
   ],
   "source": [
    "pneumonia_alive_no_disch.shape"
   ]
  },
  {
   "cell_type": "code",
   "execution_count": 10,
   "metadata": {},
   "outputs": [],
   "source": [
    "pneumonia_alive_no_disch = pneumonia_alive_no_disch.sort_values(by=['SUBJECT_ID_x','CHARTDATE', 'ROW_ID_x'])\n",
    "pneumonia_dead_no_disch = pneumonia_dead_no_disch.sort_values(by=['SUBJECT_ID_x','CHARTDATE', 'ROW_ID_x'])"
   ]
  },
  {
   "cell_type": "code",
   "execution_count": 11,
   "metadata": {},
   "outputs": [
    {
     "data": {
      "text/plain": [
       "252"
      ]
     },
     "execution_count": 11,
     "metadata": {},
     "output_type": "execute_result"
    }
   ],
   "source": [
    "# Number of patients\n",
    "pneumonia_dead_no_disch['SUBJECT_ID_x'].nunique()"
   ]
  },
  {
   "cell_type": "code",
   "execution_count": 12,
   "metadata": {
    "scrolled": true
   },
   "outputs": [
    {
     "data": {
      "text/plain": [
       "1167"
      ]
     },
     "execution_count": 12,
     "metadata": {},
     "output_type": "execute_result"
    }
   ],
   "source": [
    "# Number of patients\n",
    "pneumonia_alive_no_disch['SUBJECT_ID_x'].nunique()"
   ]
  },
  {
   "cell_type": "code",
   "execution_count": 13,
   "metadata": {},
   "outputs": [],
   "source": [
    "# import text handling tool\n",
    "from nltk.tokenize import word_tokenize\n",
    "from nltk.corpus import stopwords\n",
    "from nltk.stem import PorterStemmer\n",
    "\n",
    "from collections import Counter\n",
    "\n",
    "import sys\n",
    "import re\n",
    "import csv\n",
    "import os.path\n",
    "\n",
    "# define constants\n",
    "# RESULT_HEADER = \"WORD, FREQUENCY\\n\"\n",
    "MIN_SEQ_LEN = 4\n",
    "USE_1_N_SEQ = 2\n",
    "\n",
    "\n",
    "# words that do not have meaning (can be modified later)\n",
    "USELESS_WORDS = [\"a\", \"the\", \"he\", \"she\", \",\", \".\", \"?\", \"!\", \":\", \";\", \"+\", \"*\", \"**\"\\\n",
    "                 \"your\", \"you\"]\n",
    "\n",
    "# count up the frequency of every word in every disease file\n",
    "stemmer = PorterStemmer()\n",
    "# create set of words to ignore in text\n",
    "stop_words = set(stopwords.words('english'))\n",
    "\n",
    "for word in USELESS_WORDS:\n",
    "    stop_words.add(word)"
   ]
  },
  {
   "cell_type": "code",
   "execution_count": 14,
   "metadata": {},
   "outputs": [
    {
     "name": "stderr",
     "output_type": "stream",
     "text": [
      "100%|██████████| 11895/11895 [00:01<00:00, 9029.47it/s]\n",
      "100%|██████████| 46134/46134 [00:05<00:00, 9199.37it/s]\n"
     ]
    }
   ],
   "source": [
    "\n",
    "#----------\n",
    "def count_notes_per_patient(disease_df):\n",
    "    patient_id_to_num_notes = {}\n",
    "    patient_id = -1\n",
    "    note_counter = 0\n",
    "            \n",
    "    for index, row in tqdm(disease_df.iterrows(), total=disease_df.shape[0]):\n",
    "        patient_id_check = int(row['SUBJECT_ID_x'])\n",
    "                \n",
    "        if not patient_id == patient_id_check:\n",
    "            patient_id_to_num_notes[patient_id] = note_counter\n",
    "            note_counter = 1\n",
    "        else:\n",
    "            note_counter += 1\n",
    "                    \n",
    "        patient_id = patient_id_check\n",
    "                \n",
    "    patient_id_to_num_notes[patient_id] = note_counter\n",
    "    del patient_id_to_num_notes[-1]\n",
    "    return patient_id_to_num_notes\n",
    "\n",
    "patient_id_to_num_notes = {}\n",
    "patient_id_to_num_notes['pneumonia_dead'] = count_notes_per_patient(pneumonia_dead_no_disch)\n",
    "patient_id_to_num_notes['pneumonia_alive'] = count_notes_per_patient(pneumonia_alive_no_disch)"
   ]
  },
  {
   "cell_type": "code",
   "execution_count": 15,
   "metadata": {},
   "outputs": [
    {
     "name": "stderr",
     "output_type": "stream",
     "text": [
      "100%|██████████| 11895/11895 [00:48<00:00, 245.49it/s]\n",
      "  0%|          | 22/46134 [00:00<03:29, 219.76it/s]"
     ]
    },
    {
     "name": "stdout",
     "output_type": "stream",
     "text": [
      "5989 note events\n",
      "finished counting frequent words for patients!\n"
     ]
    },
    {
     "name": "stderr",
     "output_type": "stream",
     "text": [
      "100%|██████████| 46134/46134 [02:59<00:00, 257.67it/s]"
     ]
    },
    {
     "name": "stdout",
     "output_type": "stream",
     "text": [
      "23172 note events\n",
      "finished counting frequent words for patients!\n"
     ]
    },
    {
     "name": "stderr",
     "output_type": "stream",
     "text": [
      "\n"
     ]
    }
   ],
   "source": [
    "def count_words_per_patient(disease_df, patient_id_to_num_notes):\n",
    "    note_appearance_counter = {}\n",
    "    number_of_patients = 0 # number of patients\n",
    "    note_counter = 0\n",
    "\n",
    "# -----------\n",
    "    patient_id = -1\n",
    "    word_set = set()\n",
    "    note_event_counter = 0\n",
    "\n",
    "    # Iterate through each note\n",
    "    for index, row in tqdm(disease_df.iterrows(), total=disease_df.shape[0]):\n",
    "\n",
    "        \n",
    "        patient_id_check = int(row['SUBJECT_ID_x'])\n",
    "    \n",
    "        # if patient id has changed, end sequence and start new sequence\n",
    "        if not patient_id == patient_id_check:\n",
    "            number_of_patients += 1\n",
    "            note_event_counter = 0\n",
    "        \n",
    "            for word in word_set:\n",
    "                if word in note_appearance_counter:\n",
    "                    note_appearance_counter[word] += 1\n",
    "                else:\n",
    "                    note_appearance_counter[word] = 1\n",
    "\n",
    "        \n",
    "            # reset word_set\n",
    "            word_set = set()\n",
    "        \n",
    "        # update patient id\n",
    "        patient_id = patient_id_check\n",
    "\n",
    "            \n",
    "        if patient_id_to_num_notes[patient_id_check] <= MIN_SEQ_LEN:\n",
    "            continue\n",
    "            \n",
    "        if note_event_counter < patient_id_to_num_notes[patient_id] // USE_1_N_SEQ:\n",
    "            note_event_counter += 1\n",
    "            continue\n",
    "                \n",
    "        note_counter += 1\n",
    "        note = re.sub(r'\\[\\*\\*(.*?)\\*\\*\\]|[_,\\d\\*:~=\\.\\-\\+\\\\/]+', ' ', row['TEXT'])\n",
    "        tokenized_note = word_tokenize(note)\n",
    "        \n",
    "        \n",
    "        for word in tokenized_note:\n",
    "            stemmed_word = stemmer.stem(word.lower())\n",
    "            if not stemmed_word in stop_words:\n",
    "                word_set.add(stemmed_word)\n",
    "    \n",
    "    print(str(note_counter) + \" note events\")\n",
    "    print(\"finished counting frequent words for patients!\")\n",
    "#     return note_counter, note_appearance_counter\n",
    "    return number_of_patients, note_appearance_counter\n",
    "\n",
    "# variable dictionaries\n",
    "number_of_notes = {}\n",
    "note_appearance_counter = {}\n",
    "\n",
    "number_of_notes['pneumonia_dead'], note_appearance_counter['pneumonia_dead'] = count_words_per_patient(pneumonia_dead_no_disch, patient_id_to_num_notes['pneumonia_dead'])\n",
    "number_of_notes['pneumonia_alive'], note_appearance_counter['pneumonia_alive'] = count_words_per_patient(pneumonia_alive_no_disch, patient_id_to_num_notes['pneumonia_alive'])"
   ]
  },
  {
   "cell_type": "code",
   "execution_count": 16,
   "metadata": {},
   "outputs": [],
   "source": [
    "# # get hyper-paramters n_fold and threshold from user input\n",
    "n_fold = float(3)\n",
    "threshold = float(0.01)\n",
    "\n",
    "frequent_word_lists = {}\n",
    "factor = {}"
   ]
  },
  {
   "cell_type": "code",
   "execution_count": 17,
   "metadata": {},
   "outputs": [
    {
     "name": "stdout",
     "output_type": "stream",
     "text": [
      "pneumonia_dead has 11678 unique words!\n",
      "pneumonia_alive has 22572 unique words!\n",
      "finished making frequent words list for pneumonia_alive\n"
     ]
    }
   ],
   "source": [
    "\"\"\"function description:\n",
    "for each disease in note_appearance_counter\n",
    "    1. checks whether a word in disease file is frequent(frequency standard as defined by factor, n_fold, and threshold)\n",
    "    2. adds to frequent_word_list\n",
    "\"\"\"\n",
    "\n",
    "# def find_frequent_word(note_appearance_counter, frequent_word_lists, number_of_notes, factor, n_fold, threshold):\n",
    "\n",
    "# calculate normalizing factor for each disease\n",
    "note_sum = 0\n",
    "\n",
    "# Count from two labels\n",
    "for disease in number_of_notes:\n",
    "    note_sum += float(number_of_notes[disease])\n",
    "    \n",
    "for disease in number_of_notes:\n",
    "    factor[disease] = number_of_notes[disease] / note_sum\n",
    "\n",
    "# determine frequent word for each disease file\n",
    "for disease in note_appearance_counter:\n",
    "    frequent_word_lists[disease] = []\n",
    "\n",
    "    print(disease + \" has \" + str(len(note_appearance_counter[disease])) + \" unique words!\")\n",
    "\n",
    "    for word in note_appearance_counter[disease]:\n",
    "        \n",
    "        freq_check = True\n",
    "        for check_disease in note_appearance_counter:\n",
    "            \n",
    "            if not disease == check_disease:\n",
    "                if word in note_appearance_counter[check_disease]:\n",
    "                    if not (note_appearance_counter[disease][word] / note_appearance_counter[check_disease][word] / factor[disease] * factor[check_disease] > n_fold \\\n",
    "                        and note_appearance_counter[disease][word] > (number_of_notes[disease] * threshold)):\n",
    "\n",
    "                        freq_check = False\n",
    "                        break\n",
    "\n",
    "                else:\n",
    "                    if not (note_appearance_counter[disease][word] > n_fold and note_appearance_counter[disease][word] > (number_of_notes[disease] * threshold)):\n",
    "                        freq_check = False\n",
    "                        break\n",
    "        if freq_check:\n",
    "            frequent_word_lists[disease].append((word))\n",
    "            # Create a tuple of word and its count\n",
    "#             frequent_word_lists[disease].append((word, note_appearance_counter[disease][word]))\n",
    "\n",
    "        \n",
    "\n",
    "print(\"finished making frequent words list for \" + disease)"
   ]
  },
  {
   "cell_type": "code",
   "execution_count": 18,
   "metadata": {},
   "outputs": [
    {
     "name": "stdout",
     "output_type": "stream",
     "text": [
      "454\n",
      "329\n"
     ]
    }
   ],
   "source": [
    "print(len(frequent_word_lists['pneumonia_dead']))\n",
    "print(len(frequent_word_lists['pneumonia_alive']))"
   ]
  },
  {
   "cell_type": "markdown",
   "metadata": {},
   "source": [
    "### 2. Co-occurrence generation"
   ]
  },
  {
   "cell_type": "code",
   "execution_count": 19,
   "metadata": {},
   "outputs": [
    {
     "name": "stdout",
     "output_type": "stream",
     "text": [
      "783\n",
      "783\n"
     ]
    }
   ],
   "source": [
    "FREQUENT_WORD_LIST = frequent_word_lists['pneumonia_dead'] + frequent_word_lists['pneumonia_alive']\n",
    "print(len(FREQUENT_WORD_LIST))\n",
    "print(len(set(FREQUENT_WORD_LIST)))"
   ]
  },
  {
   "cell_type": "code",
   "execution_count": 20,
   "metadata": {
    "scrolled": true
   },
   "outputs": [
    {
     "name": "stdout",
     "output_type": "stream",
     "text": [
      "\n",
      "word dictionary created! Length: 783\n",
      "\n",
      "{'cremat': 1, 'vasopressin': 2, 'anur': 3, 'phenylephrin': 4, 'bicarbon': 5, 'mottl': 6, 'cpr': 7, 'arrest': 8, 'clinician': 9, 'arrang': 10, 'unrespon': 11, 'pea': 12, 'park': 13, 'hypercapnia': 14, 'refractori': 15, 'elig': 16, 'norepinephrin': 17, 'profound': 18, 'dic': 19, 'azotemia': 20, 'hypothermia': 21, 'acidem': 22, 'hypercapn': 23, 'funer': 24, 'paralyt': 25, 'suffer': 26, 'death': 27, 'autopeep': 28, 'clergi': 29, 'recruit': 30, 'expir': 31, 'pcv': 32, 'slough': 33, 'lubric': 34, 'gum': 35, 'sluggish': 36, 'dnr': 37, 'nacl': 38, 'cmo': 39, 'pinpoint': 40, 'virtual': 41, 'dk': 42, 'dni': 43, 'nonpurpo': 44, 'oder': 45, 'float': 46, 'mso': 47, 'clariti': 48, 'levoph': 49, 'wish': 50, 'institut': 51, 'pronounc': 52, 'option': 53, 'grim': 54, 'bow': 55, 'hypot': 56, 'respon': 57, 'prognosi': 58, 'purpl': 59, 'dd': 60, 'remin': 61, 'suport': 62, 'dead': 63, 'peerla': 64, 'gather': 65, 'viabl': 66, 'priest': 67, 'antb': 68, 'asystol': 69, 'acv': 70, 'synch': 71, 'mad': 72, 'aprv': 73, 'centimet': 74, 'depth': 75, 'life': 76, 'mortem': 77, 'bye': 78, 'agreement': 79, 'througout': 80, 'cathol': 81, 'peac': 82, 'ppn': 83, 'chaplain': 84, 'duski': 85, 'surviv': 86, 'sync': 87, 'mgx': 88, 'moniotr': 89, 'hover': 90, 'nrbm': 91, 'vtach': 92, 'quiac': 93, 'acidot': 94, 'defibril': 95, 'cvvh': 96, 'mortum': 97, 'cvvhd': 98, 'pulseless': 99, 'crrt': 100, 'cvvhdf': 101, 'seriou': 102, 'neosynephrin': 103, 'rusti': 104, 'agon': 105, 'deterior': 106, 'hemothorax': 107, 'corneal': 108, 'suppport': 109, 'deliv': 110, 'pfr': 111, 'vasopressor': 112, 'jerk': 113, 'unequ': 114, 'declin': 115, 'rewir': 116, 'spiritu': 117, 'hypotherm': 118, 'scl': 119, 'gratitud': 120, 'pray': 121, 'bair': 122, 'cooler': 123, 'hugger': 124, 'ultrafiltr': 125, 'towel': 126, 'multisystem': 127, 'pitressin': 128, 'uffp': 129, 'ffp': 130, 'ethic': 131, 'maroon': 132, 'quinton': 133, 'lc': 134, 'cyanot': 135, 'among': 136, 'brb': 137, 'mtg': 138, 'cagluc': 139, 'elimin': 140, 'lw': 141, 'levof': 142, 'bank': 143, 'motil': 144, 'ashen': 145, 'morgu': 146, 'sml': 147, 'nahco': 148, 'absorb': 149, 'promod': 150, 'town': 151, 'asynchron': 152, 'neo': 153, 'bond': 154, 'autopsi': 155, 'erythro': 156, 'prayer': 157, 'bairhugg': 158, 'zero': 159, 'rabbi': 160, 'discoordin': 161, 'ran': 162, 'triadyn': 163, 'paco': 164, 'chane': 165, 'discard': 166, \"tf'ing\": 167, 'circuit': 168, 'polymorph': 169, 'norepi': 170, 'warmer': 171, 'escal': 172, 'syre': 173, 'unstabl': 174, '^rr': 175, 'rediscuss': 176, 'mind': 177, 'hunger': 178, 'edt': 179, 'gc': 180, 'hung': 181, 'polici': 182, 'dopamin': 183, 'intiat': 184, 'palli': 185, 'canton': 186, 'tacycard': 187, 'moan': 188, 'overlay': 189, 'ozz': 190, 'artifici': 191, 'fliud': 192, 'readdress': 193, 'acc': 194, 'dobutamin': 195, 'underneath': 196, 'recalibr': 197, 'judgement': 198, 'inclu': 199, 'proph': 200, 'broader': 201, 'anuria': 202, 'gurgl': 203, 'adenosin': 204, 'hospic': 205, 'oncologist': 206, 'platlet': 207, 'platelet': 208, 'quadrent': 209, 'nephrolog': 210, 'influenc': 211, 'oligur': 212, 'gut': 213, 'cellcept': 214, 'surgicel': 215, 'pheresi': 216, 'core': 217, 'kerlix': 218, 'hepati': 219, 'cardiovert': 220, 'psup': 221, 'griev': 222, 'anyway': 223, 'sorb': 224, 'gvhd': 225, 'fentenyl': 226, 'cisatracurium': 227, 'fc': 228, 'extremitiy': 229, 'grimmac': 230, 'hiccup': 231, 'barotrauma': 232, 'chemic': 233, 'twitch': 234, 'snt': 235, 'oximetri': 236, 'caspofungin': 237, 'preme': 238, 'ettub': 239, 'wether': 240, 'fungemia': 241, 'repson': 242, 'pose': 243, 'plat': 244, 'rescan': 245, 'sacrament': 246, 'crt': 247, 'nephrogram': 248, 'lcw': 249, 'liw': 250, 'fentani': 251, 'conc': 252, 'postpylor': 253, 'mail': 254, 'grave': 255, 'nonreact': 256, 'chb': 257, 'heroic': 258, 'awhil': 259, 'nonrebreath': 260, 'occupi': 261, 'pleuravac': 262, 'ultra': 263, 'familt': 264, 'propo': 265, 'struggl': 266, 'reappear': 267, 'palliat': 268, 'opinion': 269, 'reveiw': 270, 'gentamycin': 271, 'icter': 272, 'criticar': 273, 'resucit': 274, 'pplat': 275, 'ardsnet': 276, 'wma': 277, 'themselv': 278, 'cvo': 279, 'preoxygen': 280, 'reguard': 281, 'sooner': 282, 'ogtub': 283, 'mean': 284, 'fibrinogen': 285, 'tubular': 286, 'amongst': 287, 'abruptli': 288, 'pneumonectomi': 289, 'kyphoscoliosi': 290, 'vasoconstrict': 291, 'sibl': 292, 'gasp': 293, 'hook': 294, 'recev': 295, 'tran': 296, 'colour': 297, 'hida': 298, 'realist': 299, 'aricept': 300, 'innum': 301, 'moreov': 302, 'creep': 303, 'aliv': 304, 'pvr': 305, 'argatroban': 306, 'buck': 307, 'pharmacolog': 308, 'unr': 309, 'irrev': 310, 'vigil': 311, 'derecruit': 312, 'wil': 313, 'epsiod': 314, 'attemtp': 315, 'eyelid': 316, 'ration': 317, 'religi': 318, 'famil': 319, 'respitori': 320, 'myeloma': 321, 'imbal': 322, 'analgesia': 323, 'neob': 324, 'adam': 325, 'declar': 326, 'dorsal': 327, 'muddi': 328, 'moisten': 329, 'od': 330, 'diflucan': 331, 'requr': 332, 'heliox': 333, 'futil': 334, 'illeu': 335, 'osteoblast': 336, 'emper': 337, 'nimv': 338, 'perisplen': 339, 'currentl': 340, 'preliminarili': 341, 'fli': 342, 'rhochor': 343, 'plerual': 344, 'dysynchron': 345, 'prioriti': 346, 'forth': 347, 'sluggishli': 348, 'esoph': 349, 'binder': 350, 'unplan': 351, 'occurr': 352, 'ipf': 353, 'goodbi': 354, 'ccn': 355, 'meatu': 356, 'stg': 357, 'unar': 358, 'scopalamin': 359, 'tobra': 360, 'petechia': 361, 'rite': 362, 'bless': 363, 'harm': 364, 'fentayl': 365, 'hemodynim': 366, 'doen': 367, 'furhter': 368, 'calvarium': 369, 'chol': 370, 'stack': 371, 'fmaili': 372, 'montitor': 373, 'underpenetr': 374, 'figur': 375, 'massag': 376, 'thrombot': 377, 'pyuria': 378, 'ggt': 379, 'outer': 380, 'mrcp': 381, 'contini': 382, 'formul': 383, 'synchroni': 384, 'treatement': 385, 'news': 386, 'amioderon': 387, 'led': 388, 'pastor': 389, 'unobtain': 390, 'mvo': 391, 'anasarc': 392, 'essent': 393, 'chlorothiazid': 394, 'gaol': 395, 'diuril': 396, 'thrive': 397, 'currenlti': 398, 'predict': 399, 'aglc': 400, 'fresh': 401, 'normotherm': 402, 'babinski': 403, 'opportun': 404, 'dex': 405, 'esld': 406, 'multiorgan': 407, 'chlorhex': 408, 'vasopress': 409, 'concer': 410, 'trabecul': 411, 'quinolon': 412, 'tachpnea': 413, 'synthet': 414, 'mycolyt': 415, 'medex': 416, 'imp': 417, 'director': 418, 'raglan': 419, 'ind': 420, 'pupillari': 421, 'grd': 422, 'meropenam': 423, 'fdp': 424, 'schistocyt': 425, 'abnl': 426, 'assymetr': 427, 'learn': 428, 'outlook': 429, 'inhibit': 430, 'impli': 431, 'lusb': 432, 'lymphangit': 433, 'dxae': 434, 'repon': 435, 'unalt': 436, 'friction': 437, 'goc': 438, 'esophagogastr': 439, 'permiss': 440, 'proport': 441, 'unrel': 442, 'foll': 443, 'agonist': 444, 'svv': 445, 'vigileo': 446, 'dietet': 447, 'hemithorac': 448, 'hepatobiliari': 449, 'desynchron': 450, 'inspit': 451, 'natg': 452, 'mjmgb': 453, 'driven': 454, 'gait': 455, 'ambien': 456, 'pleasant': 457, 'ambul': 458, 'chair': 459, 'commod': 460, 'fal': 461, 'oob': 462, 'unsteadi': 463, 'laminectomi': 464, 'rm': 465, 'bell': 466, 'static': 467, 'supervi': 468, 'intent': 469, 'fluor': 470, 'modifi': 471, 'spong': 472, 'thk': 473, 'splint': 474, 'puff': 475, 'lift': 476, 'lpm': 477, 'db': 478, 'nice': 479, 'aox': 480, 'breakfast': 481, 'lat': 482, 'fax': 483, 'msicu': 484, 'laryng': 485, 'tranfer': 486, 'transmitr': 487, 'cup': 488, 'idea': 489, 'nonlabor': 490, 'hyperinten': 491, 'venti': 492, 'clonazepam': 493, 'chip': 494, 'calmer': 495, 'foci': 496, 'dermat': 497, 'spur': 498, 'treitz': 499, 'plate': 500, 'jejunum': 501, 'gastrojejunostomi': 502, \"sxn'ing\": 503, 'itchi': 504, 'qtc': 505, 'consciou': 506, 'deploy': 507, 'vagu': 508, 'cs': 509, 'signatur': 510, 'wallet': 511, 'unasyn': 512, 'money': 513, 'cloth': 514, 'cash': 515, 'distort': 516, 'jewelri': 517, 'dz': 518, 'behavior': 519, 'zyprexa': 520, 'redirect': 521, 'pharyng': 522, 'uncoop': 523, 'effac': 524, 'pleasantli': 525, 'syst': 526, 'thirst': 527, 'hilum': 528, 'bipolar': 529, 'schizophrenia': 530, 'bronchovascular': 531, 'align': 532, 'arthrit': 533, 'unenhanc': 534, 'pericard': 535, 'rehabilit': 536, 'incis': 537, 'stood': 538, 'gown': 539, 'quietli': 540, 'xl': 541, 'fu': 542, 'rememb': 543, 'lotion': 544, 'compani': 545, 'knowledg': 546, 'occipit': 547, 'fee': 548, 'rpe': 549, 'passey': 550, 'distanc': 551, 'mellitu': 552, 'unassist': 553, 'cg': 554, 'hctz': 555, 'olanzapin': 556, 'thiamin': 557, 'scab': 558, 'weekli': 559, 'stair': 560, 'diaper': 561, 'probe': 562, 'passi': 563, 'ntnd': 564, 'locomot': 565, 'motor': 566, 'contractur': 567, 'muir': 568, 'rpr': 569, 'strengthen': 570, '^th': 571, 'bottl': 572, 'hygein': 573, 'macu': 574, 'flight': 575, 'lax': 576, 'mrg': 577, 'deflat': 578, 'subdur': 579, 'iddm': 580, 'captopril': 581, 'ligament': 582, 'scar': 583, 'vp': 584, 'ud': 585, 'fwb': 586, 'zoloft': 587, 'viscou': 588, 'pneumococc': 589, 'tea': 590, 'magnevist': 591, 'gadolinium': 592, 'neutral': 593, 'im': 594, 'osa': 595, 'exophyt': 596, 'smooth': 597, 'forc': 598, 'trazodon': 599, 'appi': 600, 'prec': 601, 'historian': 602, 'phlegm': 603, 'incent': 604, 'spiromet': 605, 'bmx': 606, 'nocturn': 607, 'burn': 608, 'barium': 609, 'robitussin': 610, 'tracheomalacia': 611, 'video': 612, 'autoset': 613, 'gotten': 614, 'ofm': 615, 'seroquel': 616, 'sensat': 617, 'postop': 618, 'nectar': 619, 'overs': 620, 'hurt': 621, 'asthma': 622, 'spacer': 623, 'sweat': 624, 'knew': 625, 'dome': 626, 'beeper': 627, 'amb': 628, 'calculi': 629, 'sarna': 630, 'pivot': 631, 'lighthead': 632, 'cefapim': 633, 'dizzi': 634, 'yel': 635, 'xanax': 636, 'rin': 637, 'suspen': 638, 'dyslipidemia': 639, 'readmit': 640, 'eob': 641, 'endur': 642, 'lob': 643, 'ctx': 644, 'bromid': 645, 'simpli': 646, 'bsn': 647, 'ncm': 648, 'wfl': 649, 'angri': 650, 'hydralizin': 651, 'neoplast': 652, 'waist': 653, 'west': 654, 'paperwork': 655, 'morbid': 656, 'rsrc': 657, 'ferritin': 658, 'solut': 659, 'freeli': 660, 'metoclopramid': 661, 'omeprazol': 662, 'spfc': 663, 'ppd': 664, 'rigor': 665, 'clonidin': 666, 'hsq': 667, 'sundown': 668, 'crowd': 669, 'perpher': 670, 'diaphoresi': 671, 'ultram': 672, 'gabapentin': 673, 'cramp': 674, 'silent': 675, 'precordium': 676, 'pneumothorac': 677, 'divi': 678, 'para': 679, 'ciwa': 680, 'aaox': 681, 'book': 682, 'tie': 683, 'epigastr': 684, 'collat': 685, 'mood': 686, 'qam': 687, 'habitu': 688, 'homogen': 689, 'spirit': 690, 'method': 691, 'vallecula': 692, 'ero': 693, 'panic': 694, 'mandibl': 695, 'articul': 696, 'pathologist': 697, 'lac': 698, 'vertebra': 699, 'parastern': 700, 'subcost': 701, 'svn': 702, 'young': 703, 'epidur': 704, 'yankuer': 705, 'hemisph': 706, 'phasic': 707, 'spectral': 708, 'rhinorrhea': 709, 'unavail': 710, 'fatti': 711, 'eg': 712, 'opiat': 713, 'hive': 714, 'mucinex': 715, 'klonopin': 716, 'pca': 717, 'spill': 718, 'dietari': 719, 'crack': 720, 'stitch': 721, 'tdi': 722, 'ferrou': 723, 'cracker': 724, 'ggo': 725, 'hhn': 726, 'suprapub': 727, 'subq': 728, 'echocardiogram': 729, 'cdb': 730, 'uri': 731, 'seat': 732, 'glycopyrrol': 733, 'contd': 734, 'angiogram': 735, 'syncop': 736, 'angioplasti': 737, 'carvedilol': 738, 'xopenex': 739, 'nicotin': 740, 'cooki': 741, 'cocain': 742, 'videofluoroscopi': 743, 'nitroglycerin': 744, 'piriform': 745, 'propul': 746, 'xii': 747, 'tcdb': 748, 'leukocyt': 749, 'hoar': 750, 'protrud': 751, 'soln': 752, 'diamox': 753, 'colonoscopi': 754, 'prilosec': 755, 'slice': 756, 'overdo': 757, 'coarctat': 758, 'shorter': 759, 'herp': 760, 'endplat': 761, 'pod': 762, 'ruptur': 763, 'td': 764, 'gastriti': 765, 'coach': 766, 'flake': 767, 'tremul': 768, 'adenocarcinoma': 769, 'radioden': 770, 'banana': 771, 'thoracocentesi': 772, 'bill': 773, 'mva': 774, 'hemangioma': 775, 'anaphylaxi': 776, 'nifedipin': 777, 'ba': 778, 'strictur': 779, 'retic': 780, 'romi': 781, 'acetazolamid': 782, 'peribronchovascular': 783}\n"
     ]
    }
   ],
   "source": [
    "\"\"\"function description:\n",
    "generates frequent word set for the disease\n",
    "\"\"\"\n",
    "word_dict = {}\n",
    "word_id = 1\n",
    "stemmer = PorterStemmer()\n",
    "\n",
    "\n",
    "for word in FREQUENT_WORD_LIST:\n",
    "    if not word == \"WORD\":\n",
    "        word_dict[stemmer.stem(word.strip())] = word_id\n",
    "        word_id += 1\n",
    "             \n",
    "print(f\"\\nword dictionary created! Length: {len(word_dict)}\\n\")\n",
    "print(word_dict)"
   ]
  },
  {
   "cell_type": "code",
   "execution_count": null,
   "metadata": {},
   "outputs": [],
   "source": []
  },
  {
   "cell_type": "markdown",
   "metadata": {},
   "source": [
    "### Count co-occurrences per patient"
   ]
  },
  {
   "cell_type": "code",
   "execution_count": null,
   "metadata": {
    "scrolled": true
   },
   "outputs": [
    {
     "name": "stderr",
     "output_type": "stream",
     "text": [
      "100%|██████████| 11895/11895 [10:32<00:00, 18.80it/s] \n",
      " 21%|██▏       | 9902/46134 [04:40<02:27, 245.31it/s]  "
     ]
    }
   ],
   "source": [
    "# Comparison algorithms\n",
    "# Apriori, Fpgrowth, fp_max\n",
    "\n",
    "# Apriori\n",
    "import pandas as pd\n",
    "\n",
    "from mlxtend.preprocessing import TransactionEncoder\n",
    "from mlxtend.frequent_patterns import fpgrowth\n",
    "\n",
    "# ----\n",
    "def apr_patterns_per_patient_python(disease_df, min_support):\n",
    "    \n",
    "    # For dataframe\n",
    "    patient_cooc_dict = {}\n",
    "    patient_node_dict = {}\n",
    "    patient_note_cnt = {}\n",
    "    patient_itemset_dict = {}\n",
    "    \n",
    "    # --------------    \n",
    "    patient_id = -1\n",
    "    note_cnt = 0\n",
    "    patient_note_list = []\n",
    "    \n",
    "    # read line in from file (each line is one note)\n",
    "    for index, row in tqdm(disease_df.iterrows(), total=disease_df.shape[0]):\n",
    "        \n",
    "        # only regard certain type of notes\n",
    "        patient_id_check = int(row['SUBJECT_ID_x'])\n",
    "        note = re.sub(r'\\[\\*\\*(.*?)\\*\\*\\]|[_,\\d\\*:~=\\.\\-\\+\\\\/]+', ' ', row['TEXT'])\n",
    "        patient_word_set = set()\n",
    "    \n",
    "#         print(f\"patient_id_check: {patient_id_check}, patient_id: {patient_id}\")\n",
    "        # if patient id has changed, end sequence and start new sequence\n",
    "        if not patient_id == patient_id_check and not patient_id == -1:\n",
    "            te = TransactionEncoder()\n",
    "            te_ary = te.fit(patient_note_list).transform(patient_note_list)\n",
    "            df = pd.DataFrame(te_ary, columns=te.columns_)\n",
    "            df_itemsets = fpgrowth(df, min_support=min_support, use_colnames=True)\n",
    "            \n",
    "            cooc_tmp = []\n",
    "            cooc_minsup_tmp = []\n",
    "            node_minsup_tmp = []\n",
    "            cooc_node_idx_tmp = []\n",
    "            itemsets_tmp = []\n",
    "            \n",
    "            for index, row in df_itemsets.iterrows():\n",
    "                if len(row['itemsets']) == 1:\n",
    "                    word = list(row['itemsets'])[0]\n",
    "                    min_sup = row['support']\n",
    "\n",
    "                    node_minsup_tmp.append(len(patient_note_list) * row['support'])\n",
    "                    cooc_node_idx_tmp.append(word)\n",
    "                    \n",
    "                if len(row['itemsets']) == 2:\n",
    "                    cooc_ = sorted(list(row['itemsets']))\n",
    "                    cooc_tmp.append(cooc_)\n",
    "                    cooc_minsup_tmp.append(len(patient_note_list) * row['support'])\n",
    "\n",
    "                if len(row['itemsets']) >= 2:\n",
    "                    itemset = sorted(list(row['itemsets']))\n",
    "                    itemsets_tmp.append(itemset)\n",
    "                    \n",
    "            \n",
    "            cooc_dict = {}\n",
    "\n",
    "            for num, i in enumerate(cooc_tmp):\n",
    "                if tuple(i) not in cooc_dict:\n",
    "                    cooc_dict[tuple(i)] = cooc_minsup_tmp[num]\n",
    "\n",
    "\n",
    "            node_dict = {}\n",
    "            for num, i in enumerate(cooc_node_idx_tmp):\n",
    "                if i not in node_dict:\n",
    "                    node_dict[i] = node_minsup_tmp[num]\n",
    "\n",
    "            # Update glob lists\n",
    "            if patient_id not in patient_cooc_dict:\n",
    "                patient_cooc_dict[patient_id] = cooc_dict\n",
    "                patient_node_dict[patient_id] = node_dict\n",
    "                patient_note_cnt[patient_id] = note_cnt\n",
    "                patient_itemset_dict[patient_id] = itemsets_tmp\n",
    "    \n",
    "            else:\n",
    "                print(f\"patient_id: {patient_id} is already in the dictionary!\")\n",
    "            \n",
    "            \n",
    "            # Reset local lists\n",
    "            patient_note_list = []\n",
    "            note_cnt = 0\n",
    "                    \n",
    "        # update patient id\n",
    "        patient_id = patient_id_check\n",
    "        tokenized_note = word_tokenize(note)\n",
    "        note_cnt += 1\n",
    "\n",
    "        # loop through each word in note to count word belonging to each disease\n",
    "        for word in tokenized_note:\n",
    "            stemmed_word = stemmer.stem(word.lower())       \n",
    "#             if stemmed_word in word_dict:\n",
    "            patient_word_set.add(stemmed_word)\n",
    "\n",
    "        templst = []\n",
    "        for word in patient_word_set:\n",
    "            templst.append(word)\n",
    "\n",
    "        if templst:\n",
    "            patient_note_list.append(templst)\n",
    "    \n",
    "    # Last patient info\n",
    "    te = TransactionEncoder()\n",
    "    te_ary = te.fit(patient_note_list).transform(patient_note_list)\n",
    "    df = pd.DataFrame(te_ary, columns=te.columns_)\n",
    "    df_itemsets = fpgrowth(df, min_support=min_support, use_colnames=True)\n",
    "            \n",
    "    cooc_tmp = []\n",
    "    cooc_minsup_tmp = []\n",
    "    #-----\n",
    "    node_minsup_tmp = []\n",
    "    cooc_node_idx_tmp = []\n",
    "    itemsets_tmp = []\n",
    "            \n",
    "    for index, row in df_itemsets.iterrows():\n",
    "        if len(row['itemsets']) == 1:\n",
    "            word = list(row['itemsets'])[0]\n",
    "            node_minsup_tmp.append(len(patient_note_list) * row['support'])\n",
    "            cooc_node_idx_tmp.append(word)\n",
    "\n",
    "        if len(row['itemsets']) == 2:\n",
    "            cooc_ = sorted(list(row['itemsets']))\n",
    "            cooc_tmp.append(cooc_)\n",
    "            cooc_minsup_tmp.append(len(patient_note_list) * row['support'])\n",
    "\n",
    "        if len(row['itemsets']) >= 2:\n",
    "            itemset = sorted(list(row['itemsets']))\n",
    "            itemsets_tmp.append(itemset)\n",
    "\n",
    "    cooc_dict = {}\n",
    "\n",
    "    for num, i in enumerate(cooc_tmp):\n",
    "        if tuple(i) not in cooc_dict:\n",
    "            cooc_dict[tuple(i)] = cooc_minsup_tmp[num]\n",
    "\n",
    "\n",
    "    node_dict = {}\n",
    "    for num, i in enumerate(cooc_node_idx_tmp):\n",
    "        if i not in node_dict:\n",
    "            node_dict[i] = node_minsup_tmp[num]\n",
    "    \n",
    "                \n",
    "\n",
    "    # Update glob lists\n",
    "    if patient_id not in patient_cooc_dict:\n",
    "        patient_cooc_dict[patient_id] = cooc_dict\n",
    "        patient_node_dict[patient_id] = node_dict\n",
    "        patient_note_cnt[patient_id] = note_cnt\n",
    "        patient_itemset_dict[patient_id] = itemsets_tmp\n",
    "    else:\n",
    "        print(f\"patient_id: {patient_id} is already in the dictionary!\")\n",
    "\n",
    "    return patient_node_dict, patient_cooc_dict, patient_itemset_dict, patient_note_cnt\n",
    "\n",
    "apr_patient_node_0, apr_patient_cooc_0, apr_patient_itemset_0, apr_patient_note_num_0 = apr_patterns_per_patient_python(pneumonia_dead_no_disch, 0.999)\n",
    "apr_patient_node_1, apr_patient_cooc_1, apr_patient_itemset_1, apr_patient_note_num_1 = apr_patterns_per_patient_python(pneumonia_alive_no_disch, 0.999)"
   ]
  },
  {
   "cell_type": "code",
   "execution_count": null,
   "metadata": {},
   "outputs": [],
   "source": [
    "# Create a set of all unique co-occurrences from both group\n",
    "patient_cooc_set = set()\n",
    "patient_cooc_0_dict = {}\n",
    "patient_cooc_1_dict = {}\n",
    "\n",
    "for k, v in apr_patient_cooc_0.items():\n",
    "    for item in v:\n",
    "        patient_cooc_set.add(item)\n",
    "        if item not in patient_cooc_0_dict:\n",
    "            patient_cooc_0_dict[item] = v[item]\n",
    "        else:\n",
    "            patient_cooc_0_dict[item] = patient_cooc_0_dict[item] + v[item]\n",
    "            \n",
    "    \n",
    "for k, v in apr_patient_cooc_1.items():\n",
    "    for item in v:\n",
    "        patient_cooc_set.add(item)\n",
    "        if item not in patient_cooc_1_dict:\n",
    "            patient_cooc_1_dict[item] = v[item]\n",
    "        else:\n",
    "            patient_cooc_1_dict[item] = patient_cooc_1_dict[item] + v[item]"
   ]
  },
  {
   "cell_type": "code",
   "execution_count": null,
   "metadata": {},
   "outputs": [],
   "source": [
    "print(len(patient_cooc_set))\n",
    "print(len(patient_cooc_0_dict))\n",
    "print(len(patient_cooc_1_dict))"
   ]
  },
  {
   "cell_type": "code",
   "execution_count": null,
   "metadata": {},
   "outputs": [],
   "source": [
    "import math\n",
    "patient_cooc_odd_scores = {}\n",
    "for set_item in patient_cooc_set:\n",
    "    if set_item in patient_cooc_0_dict and set_item in patient_cooc_1_dict: \n",
    "        d_prob = patient_cooc_0_dict[set_item]/(patient_cooc_0_dict[set_item] + patient_cooc_1_dict[set_item])\n",
    "        a_prob = patient_cooc_1_dict[set_item]/(patient_cooc_0_dict[set_item] + patient_cooc_1_dict[set_item])\n",
    "        log_odd_score = math.log((a_prob + 0.001)/(d_prob+0.001))\n",
    "        patient_cooc_odd_scores[set_item] = log_odd_score\n",
    "    elif set_item in patient_cooc_0_dict:\n",
    "        log_odd_score = math.log((0.001)/(1.001))\n",
    "        patient_cooc_odd_scores[set_item] = log_odd_score\n",
    "    elif set_item in patient_cooc_1_dict:\n",
    "        log_odd_score = math.log((1.001)/(0.001))\n",
    "        patient_cooc_odd_scores[set_item] = log_odd_score"
   ]
  },
  {
   "cell_type": "code",
   "execution_count": null,
   "metadata": {},
   "outputs": [],
   "source": [
    "patient_cooc_odd_scores"
   ]
  },
  {
   "cell_type": "code",
   "execution_count": null,
   "metadata": {},
   "outputs": [],
   "source": [
    "# Data normalization\n",
    "import numpy\n",
    "def data_norm(cooc_odd_scores):\n",
    "\n",
    "    def norm_arr(array):\n",
    "        arr = numpy.array(list(array))\n",
    "        start = 0\n",
    "        end = 1\n",
    "        width = end - start\n",
    "        res = (arr - arr.min())/(arr.max() - arr.min()) * width + start\n",
    "        return res.tolist()\n",
    "\n",
    "    cooc_keys, cooc_values = zip(*cooc_odd_scores.items())\n",
    "    new_cooc_odd_scores = dict(zip(cooc_keys, norm_arr(cooc_values)))\n",
    "\n",
    "    return new_cooc_odd_scores\n",
    "\n",
    "new_patient_cooc_odd_scores = data_norm(patient_cooc_odd_scores)"
   ]
  },
  {
   "cell_type": "code",
   "execution_count": null,
   "metadata": {},
   "outputs": [],
   "source": []
  },
  {
   "cell_type": "code",
   "execution_count": null,
   "metadata": {},
   "outputs": [],
   "source": [
    "# Additional code to label node words\n",
    "apr_patient_node_set = set()\n",
    "apr_patient_node_0_dict = {}\n",
    "apr_patient_node_1_dict = {}\n",
    "    \n",
    "for k, v in apr_patient_node_0.items():\n",
    "    for item in v:\n",
    "        apr_patient_node_set.add(item)\n",
    "        \n",
    "        if item not in apr_patient_node_0_dict:\n",
    "            apr_patient_node_0_dict[item] = v[item]\n",
    "        else:\n",
    "            apr_patient_node_0_dict[item] = apr_patient_node_0_dict[item] + v[item]\n",
    "        \n",
    "    \n",
    "for k, v in apr_patient_node_1.items():\n",
    "    for item in v:\n",
    "        apr_patient_node_set.add(item)\n",
    "        \n",
    "        if item not in apr_patient_node_1_dict:\n",
    "            apr_patient_node_1_dict[item] = v[item]\n",
    "        else:\n",
    "            apr_patient_node_1_dict[item] = apr_patient_node_1_dict[item] + v[item]"
   ]
  },
  {
   "cell_type": "code",
   "execution_count": null,
   "metadata": {},
   "outputs": [],
   "source": [
    "print(len(apr_patient_node_set))\n",
    "print(len(apr_patient_node_0_dict))\n",
    "print(len(apr_patient_node_1_dict))"
   ]
  },
  {
   "cell_type": "code",
   "execution_count": null,
   "metadata": {},
   "outputs": [],
   "source": [
    "apr_patient_node_odd_scores = {}\n",
    "\n",
    "for set_item in apr_patient_node_set:\n",
    "    if set_item in apr_patient_node_0_dict and set_item in apr_patient_node_1_dict:\n",
    "        d_prob = apr_patient_node_0_dict[set_item]/(apr_patient_node_0_dict[set_item] + apr_patient_node_1_dict[set_item])\n",
    "        a_prob = apr_patient_node_1_dict[set_item]/(apr_patient_node_0_dict[set_item] + apr_patient_node_1_dict[set_item])\n",
    "        log_odd_score = math.log((a_prob + 0.001)/(d_prob+0.001))\n",
    "        apr_patient_node_odd_scores[set_item] = log_odd_score\n",
    "    elif set_item in apr_patient_node_0_dict:\n",
    "        log_odd_score = math.log((0.001)/(1.001))\n",
    "        apr_patient_node_odd_scores[set_item] = log_odd_score\n",
    "    elif set_item in apr_patient_node_1_dict:\n",
    "        log_odd_score = math.log((1.001)/(0.001))\n",
    "        apr_patient_node_odd_scores[set_item] = log_odd_score"
   ]
  },
  {
   "cell_type": "code",
   "execution_count": null,
   "metadata": {},
   "outputs": [],
   "source": [
    "print(apr_patient_node_odd_scores)"
   ]
  },
  {
   "cell_type": "code",
   "execution_count": null,
   "metadata": {},
   "outputs": [],
   "source": [
    "apr_patient_square_node_data = pd.DataFrame({'node':list(apr_patient_node_odd_scores.keys()), 'feature':list(apr_patient_node_odd_scores.values())})\n",
    "apr_patient_square_node_data"
   ]
  },
  {
   "cell_type": "code",
   "execution_count": null,
   "metadata": {},
   "outputs": [],
   "source": [
    "apr_patient_square_node_id_data = apr_patient_square_node_data.set_index(\"node\")\n",
    "apr_patient_square_node_id_data['subject'] = [\"positive\" if r['feature'] > 0 else \"negative\" for i, r in apr_patient_square_node_id_data.iterrows()]\n",
    "apr_patient_square_node_id_data"
   ]
  },
  {
   "cell_type": "code",
   "execution_count": null,
   "metadata": {},
   "outputs": [],
   "source": [
    "apr_subjects = apr_patient_square_node_id_data[\"subject\"]\n",
    "apr_subjects"
   ]
  },
  {
   "cell_type": "code",
   "execution_count": null,
   "metadata": {},
   "outputs": [],
   "source": []
  },
  {
   "cell_type": "code",
   "execution_count": null,
   "metadata": {
    "scrolled": true
   },
   "outputs": [],
   "source": [
    "# Create a list of all itemsets\n",
    "apr_itemsets = []\n",
    "\n",
    "for k,v in tqdm(apr_patient_itemset_0.items()):\n",
    "    \n",
    "    for i in v:  \n",
    "        if i not in apr_itemsets:\n",
    "            apr_itemsets.append(i)\n",
    "    \n",
    "for k,v in tqdm(apr_patient_itemset_1.items()):\n",
    "    for i in v:\n",
    "        if i not in apr_itemsets:\n",
    "            apr_itemsets.append(i)"
   ]
  },
  {
   "cell_type": "code",
   "execution_count": null,
   "metadata": {},
   "outputs": [],
   "source": [
    "print(len(apr_itemsets))"
   ]
  },
  {
   "cell_type": "code",
   "execution_count": null,
   "metadata": {
    "scrolled": true
   },
   "outputs": [],
   "source": [
    "print(apr_itemsets[:100])"
   ]
  },
  {
   "cell_type": "markdown",
   "metadata": {},
   "source": [
    "#### Create embeddings from apr_cooc"
   ]
  },
  {
   "cell_type": "code",
   "execution_count": null,
   "metadata": {},
   "outputs": [],
   "source": [
    "from sklearn.manifold import TSNE\n",
    "from gensim.models import Word2Vec"
   ]
  },
  {
   "cell_type": "code",
   "execution_count": null,
   "metadata": {},
   "outputs": [],
   "source": [
    "apr_cooc_model_patient = Word2Vec(\n",
    "    apr_itemsets, size=128, window=5, min_count=0, sg=1, workers=4, iter=1\n",
    ")"
   ]
  },
  {
   "cell_type": "code",
   "execution_count": null,
   "metadata": {
    "scrolled": true
   },
   "outputs": [],
   "source": [
    "emb = apr_cooc_model_patient.wv[\"cmo\"]\n",
    "emb"
   ]
  },
  {
   "cell_type": "markdown",
   "metadata": {},
   "source": [
    "#### Visualise node embeddings for apr_cooc"
   ]
  },
  {
   "cell_type": "code",
   "execution_count": null,
   "metadata": {},
   "outputs": [],
   "source": [
    "# Retrieve node embeddings and corresponding subjects\n",
    "patient_node_ids = apr_cooc_model_patient.wv.index2word  # list of node IDs\n",
    "patient_weighted_node_embeddings = (\n",
    "    apr_cooc_model_patient.wv.vectors\n",
    ")  # numpy.ndarray of size number of nodes times embeddings dimensionality\n",
    "# the gensim ordering may not match the StellarGraph one, so rearrange\n",
    "patient_node_targets = apr_subjects.loc[patient_node_ids].astype(\"category\")"
   ]
  },
  {
   "cell_type": "code",
   "execution_count": null,
   "metadata": {},
   "outputs": [],
   "source": [
    "# Apply t-SNE transformation on node embeddings\n",
    "tsne = TSNE(n_components=2, random_state=42)\n",
    "patient_weighted_node_embeddings_2d = tsne.fit_transform(patient_weighted_node_embeddings)"
   ]
  },
  {
   "cell_type": "code",
   "execution_count": null,
   "metadata": {},
   "outputs": [],
   "source": [
    "# draw the points\n",
    "alpha = 0.7\n",
    "\n",
    "plt.figure(figsize=(10, 8))\n",
    "plt.scatter(\n",
    "    patient_weighted_node_embeddings_2d[:, 0],\n",
    "    patient_weighted_node_embeddings_2d[:, 1],\n",
    "    c=patient_node_targets.cat.codes,\n",
    "    cmap=\"jet\",\n",
    "    alpha=0.7,\n",
    ")\n",
    "plt.show()"
   ]
  },
  {
   "cell_type": "code",
   "execution_count": null,
   "metadata": {},
   "outputs": [],
   "source": []
  },
  {
   "cell_type": "code",
   "execution_count": null,
   "metadata": {},
   "outputs": [],
   "source": [
    "# Create a random vector for words that are not in a dictionary\n",
    "apr_node_emb_dict = {}\n",
    "rand_vec_cnt = 0\n",
    "for index, row in apr_patient_square_node_id_data.iterrows():\n",
    "    try:\n",
    "        if index not in apr_node_emb_dict:\n",
    "            apr_node_emb_dict[index] = apr_cooc_model_patient.wv[index]\n",
    "        else:\n",
    "            print(f\"index: {index} is already in a dictionary!\")\n",
    "    except KeyError:\n",
    "        rand_vec_cnt += 1\n",
    "        apr_node_emb_dict[index] = np.random.normal(scale=0.6, size=128)\n",
    "\n",
    "print(f\"random vector counter is {rand_vec_cnt}\")"
   ]
  },
  {
   "cell_type": "code",
   "execution_count": null,
   "metadata": {},
   "outputs": [],
   "source": []
  },
  {
   "cell_type": "markdown",
   "metadata": {},
   "source": [
    "### Load the data"
   ]
  },
  {
   "cell_type": "code",
   "execution_count": null,
   "metadata": {},
   "outputs": [],
   "source": [
    "import pandas as pd\n",
    "import numpy as np\n",
    "\n",
    "import stellargraph as sg\n",
    "from stellargraph.mapper import PaddedGraphGenerator\n",
    "from stellargraph.layer import GCNSupervisedGraphClassification\n",
    "from stellargraph import StellarGraph\n",
    "\n",
    "from stellargraph import datasets\n",
    "\n",
    "from sklearn import model_selection\n",
    "from IPython.display import display, HTML\n",
    "\n",
    "from tensorflow.keras import Model\n",
    "from tensorflow.keras.optimizers import Adam\n",
    "from tensorflow.keras.layers import Dense\n",
    "from tensorflow.keras.losses import binary_crossentropy\n",
    "from tensorflow.keras.callbacks import EarlyStopping\n",
    "import tensorflow as tf\n",
    "import matplotlib.pyplot as plt\n",
    "\n",
    "seed = 42\n",
    "numpy.random.seed(seed)\n",
    "tf.random.set_seed(seed)\n",
    "sg.random.set_seed(seed)"
   ]
  },
  {
   "cell_type": "markdown",
   "metadata": {},
   "source": [
    "#### Train apr"
   ]
  },
  {
   "cell_type": "code",
   "execution_count": null,
   "metadata": {
    "scrolled": true
   },
   "outputs": [],
   "source": [
    "from collections import defaultdict\n",
    "\n",
    "def create_apr_graph_list(patient_cooc_dict, cooc_odd_scores, node_emb_dict, label):\n",
    "    \n",
    "    graphs = []\n",
    "    labels = []\n",
    "    \n",
    "    for key,row in patient_cooc_dict.items():\n",
    "     \n",
    "        if row:\n",
    "            source = []\n",
    "            target = []\n",
    "            # edge_weight = []\n",
    "            \n",
    "            node_feature = []\n",
    "            node_idx = []\n",
    "            for cooc in row:\n",
    "                source.extend([cooc[0], cooc[1]])\n",
    "                target.extend([cooc[1], cooc[0]])\n",
    "                # edge_weight.extend([cooc_odd_scores[cooc], cooc_odd_scores[cooc]])\n",
    "        \n",
    "            node_idx = list(set(source + target))\n",
    "    \n",
    "            # Create a dataframe of only nodes\n",
    "            square_node_data = pd.DataFrame(\n",
    "                index=node_idx)\n",
    "            \n",
    "#             square_node_data['feature'] = [1] * len(node_idx)\n",
    "            \n",
    "            # Create a dictionary for each column for a vector\n",
    "            node_features = defaultdict(list)\n",
    "            for node in node_idx:\n",
    "                for i, vec in enumerate(node_emb_dict[node]):\n",
    "                    node_features['w_' + str(i)].append(vec)\n",
    "        \n",
    "            # Add columns to a dataframe\n",
    "            for k, v in node_features.items():\n",
    "              \n",
    "                square_node_data[k] = v\n",
    "\n",
    "            square_edges = pd.DataFrame({ \n",
    "                \"source\": source, \n",
    "                \"target\": target, \n",
    "                # \"weight\":edge_weight\n",
    "            })\n",
    "        \n",
    "            square = StellarGraph({\"corner\": square_node_data}, {\"line\": square_edges})\n",
    "            graphs.append(square)\n",
    "            labels.append(label)\n",
    "            \n",
    "    return graphs, labels\n",
    "\n",
    "graphs = []\n",
    "labels = []\n",
    "\n",
    "# patient_weighted_node_emb_dict\n",
    "graph_0, label_0 = create_apr_graph_list(apr_patient_cooc_0, new_patient_cooc_odd_scores, apr_node_emb_dict, -1)\n",
    "graph_1, label_1 = create_apr_graph_list(apr_patient_cooc_1, new_patient_cooc_odd_scores, apr_node_emb_dict, 1)\n",
    "\n",
    "graphs.extend(graph_0)\n",
    "labels.extend(label_0)\n",
    "print(f\"graphs_0: {len(graphs)}, labels_0: {len(labels)}\")\n",
    "graphs.extend(graph_1)\n",
    "labels.extend(label_1)\n",
    "print(f\"graphs_1: {len(graph_1)}, labels_1: {len(label_1)}\")\n",
    "print(f\"graphs: {len(graphs)}, labels: {len(labels)}\")"
   ]
  },
  {
   "cell_type": "code",
   "execution_count": null,
   "metadata": {},
   "outputs": [],
   "source": [
    "# prepare test and train datasets\n",
    "test_cnt = int(len(graphs)*0.1)/2\n",
    "print(test_cnt)\n",
    "\n",
    "pos_start = len(graph_0)\n",
    "print(pos_start)\n",
    "\n",
    "test_arr = []\n",
    "train_arr = []\n",
    "for i, v in enumerate(graphs):\n",
    "    # Take first items for neg set\n",
    "    if i < test_cnt:\n",
    "        test_arr.append(i)    \n",
    "    elif i > pos_start and i <= pos_start + test_cnt:\n",
    "        test_arr.append(i)    \n",
    "    else:\n",
    "        train_arr.append(i)"
   ]
  },
  {
   "cell_type": "code",
   "execution_count": null,
   "metadata": {},
   "outputs": [],
   "source": [
    "import random\n",
    "seed = 42\n",
    "c = list(test_arr)\n",
    "random.Random(seed).shuffle(c)\n",
    "test_arr =  c"
   ]
  },
  {
   "cell_type": "code",
   "execution_count": null,
   "metadata": {},
   "outputs": [],
   "source": [
    "c = list(train_arr)\n",
    "random.Random(seed).shuffle(c)\n",
    "train_arr =  c"
   ]
  },
  {
   "cell_type": "code",
   "execution_count": null,
   "metadata": {},
   "outputs": [],
   "source": [
    "train_index = np.array(train_arr)\n",
    "test_index = np.array(test_arr)"
   ]
  },
  {
   "cell_type": "code",
   "execution_count": null,
   "metadata": {
    "scrolled": true
   },
   "outputs": [],
   "source": [
    "print(len(test_index))\n",
    "print(test_index)"
   ]
  },
  {
   "cell_type": "code",
   "execution_count": null,
   "metadata": {
    "scrolled": true
   },
   "outputs": [],
   "source": [
    "print(len(train_index))\n",
    "print(train_index)"
   ]
  },
  {
   "cell_type": "code",
   "execution_count": null,
   "metadata": {},
   "outputs": [],
   "source": [
    "print(test_arr)"
   ]
  },
  {
   "cell_type": "code",
   "execution_count": null,
   "metadata": {},
   "outputs": [],
   "source": [
    "# # shuffle the data\n",
    "# import random\n",
    "# seed = 42\n",
    "\n",
    "# c = list(zip(graphs, labels))\n",
    "# random.Random(seed).shuffle(c)\n",
    "\n",
    "# graphs, labels = zip(*c)"
   ]
  },
  {
   "cell_type": "code",
   "execution_count": null,
   "metadata": {
    "scrolled": true
   },
   "outputs": [],
   "source": [
    "print(labels)"
   ]
  },
  {
   "cell_type": "code",
   "execution_count": null,
   "metadata": {},
   "outputs": [],
   "source": []
  },
  {
   "cell_type": "code",
   "execution_count": null,
   "metadata": {},
   "outputs": [],
   "source": []
  },
  {
   "cell_type": "code",
   "execution_count": null,
   "metadata": {},
   "outputs": [],
   "source": []
  },
  {
   "cell_type": "code",
   "execution_count": null,
   "metadata": {},
   "outputs": [],
   "source": []
  },
  {
   "cell_type": "code",
   "execution_count": null,
   "metadata": {},
   "outputs": [],
   "source": [
    "print(graphs[175].info())"
   ]
  },
  {
   "cell_type": "code",
   "execution_count": null,
   "metadata": {},
   "outputs": [],
   "source": [
    "print(graphs[0].node_features())\n",
    "print(len(graphs[0].node_features()[0]))"
   ]
  },
  {
   "cell_type": "code",
   "execution_count": null,
   "metadata": {},
   "outputs": [],
   "source": [
    "print(graphs[100].info())"
   ]
  },
  {
   "cell_type": "code",
   "execution_count": null,
   "metadata": {},
   "outputs": [],
   "source": []
  },
  {
   "cell_type": "code",
   "execution_count": null,
   "metadata": {},
   "outputs": [],
   "source": [
    "summary = pd.DataFrame(\n",
    "    [(g.number_of_nodes(), g.number_of_edges()) for g in graphs],\n",
    "    columns=[\"nodes\", \"edges\"],\n",
    ")\n",
    "summary.describe().round(1)"
   ]
  },
  {
   "cell_type": "code",
   "execution_count": null,
   "metadata": {},
   "outputs": [],
   "source": [
    "graph_labels = pd.Series(labels)"
   ]
  },
  {
   "cell_type": "code",
   "execution_count": null,
   "metadata": {},
   "outputs": [],
   "source": [
    "print(graph_labels)"
   ]
  },
  {
   "cell_type": "code",
   "execution_count": null,
   "metadata": {},
   "outputs": [],
   "source": [
    "graph_labels.value_counts().to_frame()"
   ]
  },
  {
   "cell_type": "code",
   "execution_count": null,
   "metadata": {},
   "outputs": [],
   "source": [
    "graph_labels = pd.get_dummies(graph_labels, drop_first=True)"
   ]
  },
  {
   "cell_type": "code",
   "execution_count": null,
   "metadata": {},
   "outputs": [],
   "source": [
    "print(type(graph_labels))"
   ]
  },
  {
   "cell_type": "code",
   "execution_count": null,
   "metadata": {},
   "outputs": [],
   "source": [
    "graph_labels"
   ]
  },
  {
   "cell_type": "code",
   "execution_count": null,
   "metadata": {},
   "outputs": [],
   "source": [
    "generator = PaddedGraphGenerator(graphs=graphs)"
   ]
  },
  {
   "cell_type": "code",
   "execution_count": null,
   "metadata": {},
   "outputs": [],
   "source": [
    "def create_graph_classification_model(generator):\n",
    "    gc_model = GCNSupervisedGraphClassification(\n",
    "        layer_sizes=[64, 64],\n",
    "        activations=[\"relu\", \"relu\"],\n",
    "        generator=generator,\n",
    "        dropout=0.5,\n",
    "    )\n",
    "    x_inp, x_out = gc_model.in_out_tensors()\n",
    "    predictions = Dense(units=32, activation=\"relu\")(x_out)\n",
    "    predictions = Dense(units=16, activation=\"relu\")(predictions)\n",
    "    predictions = Dense(units=1, activation=\"sigmoid\")(predictions)\n",
    "\n",
    "    # Let's create the Keras model and prepare it for training\n",
    "    model = Model(inputs=x_inp, outputs=predictions)\n",
    "    model.compile(optimizer=Adam(0.005), loss=binary_crossentropy, metrics=[\"acc\"])\n",
    "\n",
    "    return model"
   ]
  },
  {
   "cell_type": "code",
   "execution_count": null,
   "metadata": {},
   "outputs": [],
   "source": [
    "epochs = 200  # maximum number of training epochs\n",
    "# folds = 10  # the number of folds for k-fold cross validation\n",
    "# n_repeats = 5  # the number of repeats for repeated k-fold cross validation"
   ]
  },
  {
   "cell_type": "code",
   "execution_count": null,
   "metadata": {},
   "outputs": [],
   "source": [
    "es = EarlyStopping(\n",
    "    monitor=\"val_loss\", min_delta=0, patience=25, restore_best_weights=True\n",
    ")"
   ]
  },
  {
   "cell_type": "code",
   "execution_count": null,
   "metadata": {},
   "outputs": [],
   "source": []
  },
  {
   "cell_type": "code",
   "execution_count": null,
   "metadata": {},
   "outputs": [],
   "source": []
  },
  {
   "cell_type": "code",
   "execution_count": null,
   "metadata": {},
   "outputs": [],
   "source": []
  },
  {
   "cell_type": "code",
   "execution_count": null,
   "metadata": {},
   "outputs": [],
   "source": [
    "# To train in folds\n",
    "def train_fold(model, train_gen, test_gen, es, epochs):\n",
    "    history = model.fit(\n",
    "        train_gen, epochs=epochs, validation_data=test_gen, verbose=0, callbacks=[es],\n",
    "    )\n",
    "    # calculate performance on the test data and return along with history\n",
    "    test_metrics = model.evaluate(test_gen, verbose=0)\n",
    "    test_acc = test_metrics[model.metrics_names.index(\"acc\")]\n",
    "\n",
    "    return history, test_acc"
   ]
  },
  {
   "cell_type": "code",
   "execution_count": null,
   "metadata": {},
   "outputs": [],
   "source": [
    "# To train in folds\n",
    "def get_generators(train_index, test_index, graph_labels, batch_size):\n",
    "    train_gen = generator.flow(\n",
    "        train_index, targets=graph_labels.iloc[train_index].values, weighted=True, batch_size=batch_size, shuffle=False, seed=42\n",
    "    )\n",
    "    test_gen = generator.flow(\n",
    "        test_index, targets=graph_labels.iloc[test_index].values, weighted=True, batch_size=batch_size, shuffle=False, seed=42\n",
    "    )\n",
    "\n",
    "    return train_gen, test_gen"
   ]
  },
  {
   "cell_type": "code",
   "execution_count": null,
   "metadata": {
    "scrolled": true
   },
   "outputs": [],
   "source": [
    "# # To train in folds\n",
    "# test_accs = []\n",
    "\n",
    "# stratified_folds = model_selection.RepeatedStratifiedKFold(\n",
    "#     n_splits=folds, n_repeats=n_repeats\n",
    "# ).split(graph_labels, graph_labels)\n",
    "\n",
    "# for i, (train_index, test_index) in enumerate(stratified_folds):\n",
    "#     print(f\"Training and evaluating on fold {i+1} out of {folds * n_repeats}...\")\n",
    "#     train_gen, test_gen = get_generators(\n",
    "#         train_index, test_index, graph_labels, batch_size=30\n",
    "#     )\n",
    "\n",
    "#     model = create_graph_classification_model(generator)\n",
    "\n",
    "#     history, acc = train_fold(model, train_gen, test_gen, es, epochs)\n",
    "\n",
    "#     test_accs.append(acc)"
   ]
  },
  {
   "cell_type": "code",
   "execution_count": null,
   "metadata": {
    "scrolled": true
   },
   "outputs": [],
   "source": [
    "# To train in folds\n",
    "test_accs = []\n",
    "\n",
    "# stratified_folds = model_selection.RepeatedStratifiedKFold(\n",
    "#     n_splits=folds, n_repeats=n_repeats\n",
    "# ).split(graph_labels, graph_labels)\n",
    "\n",
    "# for i, (train_index, test_index) in enumerate(stratified_folds):\n",
    "for i in range(50):\n",
    "    print(f\"Training and evaluating on fold {i+1}...\")\n",
    "    \n",
    "    train_gen, test_gen = get_generators(\n",
    "        train_index, test_index, graph_labels, batch_size=30\n",
    "    )\n",
    "\n",
    "    model = create_graph_classification_model(generator)\n",
    "\n",
    "    history, acc = train_fold(model, train_gen, test_gen, es, epochs)\n",
    "\n",
    "    test_accs.append(acc)"
   ]
  },
  {
   "cell_type": "code",
   "execution_count": null,
   "metadata": {},
   "outputs": [],
   "source": []
  },
  {
   "cell_type": "code",
   "execution_count": null,
   "metadata": {},
   "outputs": [],
   "source": [
    "# 1: Accuracy over all folds mean: 76.0% and std: 1.8%\n",
    "# 2: Accuracy over all folds mean: 75.7% and std: 4.7%\n",
    "# 3: Accuracy over all folds mean: 73.8% and std: 1.9%\n",
    "# 4: Accuracy over all folds mean: 76.2% and std: 4.2%\n",
    "# 5: Accuracy over all folds mean: 70.3% and std: 5.3%\n",
    "# 6: Accuracy over all folds mean: 74.0% and std: 5.2%\n",
    "\n",
    "#---------- After setting seed\n",
    "# 1: Accuracy over all folds mean: 73.5% and std: 6.7%\n",
    "# 2: Accuracy over all folds mean: 73.3% and std: 3.9%\n",
    "# 3: Accuracy over all folds mean: 74.7% and std: 3.9%\n",
    "# 4: Accuracy over all folds mean: 74.4% and std: 2.0%\n",
    "# 5: Accuracy over all folds mean: 74.2% and std: 1.6%\n",
    "# 6: Accuracy over all folds mean: 74.3% and std: 2.4%\n",
    "\n",
    "# Sepsis\n",
    "# 1: Accuracy over all folds mean: 76.3% and std: 2.4%\n",
    "print(\n",
    "    f\"Accuracy over all folds mean: {np.mean(test_accs)*100:.3}% and std: {np.std(test_accs)*100:.2}%\"\n",
    ")"
   ]
  },
  {
   "cell_type": "code",
   "execution_count": null,
   "metadata": {},
   "outputs": [],
   "source": [
    "plt.figure(figsize=(8, 6))\n",
    "plt.hist(test_accs)\n",
    "plt.xlabel(\"Accuracy\")\n",
    "plt.ylabel(\"Count\")"
   ]
  },
  {
   "cell_type": "code",
   "execution_count": null,
   "metadata": {},
   "outputs": [],
   "source": []
  },
  {
   "cell_type": "code",
   "execution_count": null,
   "metadata": {},
   "outputs": [],
   "source": [
    "# 2nd try\n",
    "print(\n",
    "    f\"Accuracy over all folds mean: {np.mean(test_accs)*100:.3}% and std: {np.std(test_accs)*100:.2}%\"\n",
    ")"
   ]
  },
  {
   "cell_type": "code",
   "execution_count": null,
   "metadata": {},
   "outputs": [],
   "source": [
    "plt.figure(figsize=(8, 6))\n",
    "plt.hist(test_accs)\n",
    "plt.xlabel(\"Accuracy\")\n",
    "plt.ylabel(\"Count\")"
   ]
  },
  {
   "cell_type": "code",
   "execution_count": null,
   "metadata": {},
   "outputs": [],
   "source": []
  },
  {
   "cell_type": "code",
   "execution_count": null,
   "metadata": {},
   "outputs": [],
   "source": []
  },
  {
   "cell_type": "code",
   "execution_count": null,
   "metadata": {},
   "outputs": [],
   "source": []
  },
  {
   "cell_type": "code",
   "execution_count": null,
   "metadata": {},
   "outputs": [],
   "source": [
    "# # # shuffle the data\n",
    "# import random\n",
    "\n",
    "# c = list(zip(graphs, labels))\n",
    "# random.shuffle(c)\n",
    "\n",
    "# graphs, labels = zip(*c)"
   ]
  },
  {
   "cell_type": "code",
   "execution_count": null,
   "metadata": {
    "scrolled": true
   },
   "outputs": [],
   "source": [
    "# stratified_folds = model_selection.RepeatedStratifiedKFold(\n",
    "#     n_splits=10, n_repeats=5\n",
    "# ).split(graph_labels, graph_labels)\n",
    "\n",
    "# for i, (train_index, test_index) in enumerate(stratified_folds):\n",
    "#     print(f\"\\ntrain_index: \\n{train_index}\\ntest_index: \\n{test_index}\\n\")\n",
    "#     break\n",
    "# print(f\"train: {len(train_index)}, test: {len(test_index)}\")"
   ]
  },
  {
   "cell_type": "code",
   "execution_count": null,
   "metadata": {
    "scrolled": true
   },
   "outputs": [],
   "source": [
    "type(graph_labels.iloc[train_index].values)"
   ]
  },
  {
   "cell_type": "code",
   "execution_count": null,
   "metadata": {
    "scrolled": true
   },
   "outputs": [],
   "source": [
    "graph_labels.iloc[test_index].values"
   ]
  },
  {
   "cell_type": "code",
   "execution_count": null,
   "metadata": {},
   "outputs": [],
   "source": [
    "train_index.shape"
   ]
  },
  {
   "cell_type": "code",
   "execution_count": null,
   "metadata": {},
   "outputs": [],
   "source": [
    "train_gen = generator.flow(\n",
    "        train_index, targets=graph_labels.iloc[train_index].values, batch_size=40, shuffle=False, seed=42)\n",
    "test_gen = generator.flow(\n",
    "    test_index, targets=graph_labels.iloc[test_index].values, batch_size=40, shuffle=False, seed=42)"
   ]
  },
  {
   "cell_type": "code",
   "execution_count": null,
   "metadata": {
    "scrolled": true
   },
   "outputs": [],
   "source": [
    "model = create_graph_classification_model(generator)\n",
    "\n",
    "history = model.fit(\n",
    "        train_gen, epochs=200, validation_data=test_gen, verbose=1, callbacks=[es])"
   ]
  },
  {
   "cell_type": "code",
   "execution_count": null,
   "metadata": {},
   "outputs": [],
   "source": [
    "# calculate performance on the test data and return along with history\n",
    "# Node features all 1, edge features all 1\n",
    "test_metrics = model.evaluate(test_gen, verbose=1)\n",
    "test_acc = test_metrics[model.metrics_names.index(\"acc\")]"
   ]
  },
  {
   "cell_type": "code",
   "execution_count": null,
   "metadata": {},
   "outputs": [],
   "source": [
    "# not_weighted\n",
    "print(test_metrics)\n",
    "#test loss, test acc: [0.5977194905281067, 0.6794871687889099]\n",
    "# 2nd try: [0.6099531650543213, 0.7435897588729858]\n",
    "# 3: [0.6134859919548035, 0.692307710647583]\n",
    "# 4: [0.5708641409873962, 0.7564102411270142]\n",
    "print(test_acc)"
   ]
  },
  {
   "cell_type": "code",
   "execution_count": null,
   "metadata": {
    "scrolled": true
   },
   "outputs": [],
   "source": [
    "print(\"Generate predictions for samples\")\n",
    "predictions = model.predict(test_gen, verbose=0)\n",
    "print(\"predictions shape:\", predictions.shape)\n",
    "# predictions shape: (79, 1)\n",
    "print(predictions)"
   ]
  },
  {
   "cell_type": "markdown",
   "metadata": {},
   "source": [
    "[[0.9633641 ]\n",
    " [0.9572478 ]\n",
    " [0.92709166]\n",
    " [0.67149305]\n",
    " [0.75392646]\n",
    " [0.80909836]\n",
    " [0.8878052 ]\n",
    " [0.35882965]\n",
    " [0.8740735 ]\n",
    " [0.9488548 ]\n",
    " [0.71857995]\n",
    " [0.8417202 ]\n",
    " [0.77317935]\n",
    " [0.97507536]\n",
    " [0.7930052 ]\n",
    " [0.3096424 ]\n",
    " [0.81946105]\n",
    " [0.3233545 ]\n",
    " [0.75175   ]\n",
    " [0.79594046]\n",
    " [0.2881279 ]\n",
    " [0.42757368]\n",
    " [0.35783005]\n",
    " [0.53080255]\n",
    " [0.42272243]\n",
    " [0.8731016 ]\n",
    " [0.2651747 ]\n",
    " [0.9176288 ]\n",
    " [0.8412247 ]\n",
    " [0.84611094]\n",
    " [0.899879  ]\n",
    " [0.4730718 ]\n",
    " [0.6183011 ]\n",
    " [0.8530265 ]\n",
    " [0.38916534]\n",
    " [0.41842264]\n",
    " [0.90864706]\n",
    " [0.82059276]\n",
    " [0.89827585]\n",
    " [0.31872994]\n",
    " [0.9104121 ]\n",
    " [0.8878981 ]\n",
    " [0.4407365 ]\n",
    " [0.6909543 ]\n",
    " [0.75392646]\n",
    " [0.88234955]\n",
    " [0.75392646]\n",
    " [0.75392646]\n",
    " [0.2803172 ]\n",
    " [0.8783453 ]\n",
    " [0.6334169 ]\n",
    " [0.8953688 ]\n",
    " [0.9676844 ]\n",
    " [0.46171212]\n",
    " [0.42416874]\n",
    " [0.7234482 ]\n",
    " [0.93954104]\n",
    " [0.7739153 ]\n",
    " [0.37732255]\n",
    " [0.7243462 ]\n",
    " [0.975207  ]\n",
    " [0.39652586]\n",
    " [0.6909691 ]\n",
    " [0.75392646]\n",
    " [0.3582555 ]\n",
    " [0.75392646]\n",
    " [0.94787574]\n",
    " [0.47389334]\n",
    " [0.9733413 ]\n",
    " [0.75392646]\n",
    " [0.931447  ]\n",
    " [0.53550804]\n",
    " [0.31291372]\n",
    " [0.3546905 ]\n",
    " [0.75392646]\n",
    " [0.75392646]\n",
    " [0.3483727 ]\n",
    " [0.7502146 ]]"
   ]
  },
  {
   "cell_type": "code",
   "execution_count": null,
   "metadata": {
    "scrolled": true
   },
   "outputs": [],
   "source": [
    "print(test_gen.targets)"
   ]
  },
  {
   "cell_type": "code",
   "execution_count": null,
   "metadata": {},
   "outputs": [],
   "source": []
  },
  {
   "cell_type": "code",
   "execution_count": null,
   "metadata": {},
   "outputs": [],
   "source": []
  },
  {
   "cell_type": "code",
   "execution_count": null,
   "metadata": {
    "scrolled": true
   },
   "outputs": [],
   "source": [
    "print(temp_test)"
   ]
  },
  {
   "cell_type": "code",
   "execution_count": null,
   "metadata": {},
   "outputs": [],
   "source": [
    "temp_test = np.array(test_gen.targets)"
   ]
  },
  {
   "cell_type": "code",
   "execution_count": null,
   "metadata": {
    "scrolled": true
   },
   "outputs": [],
   "source": [
    "print(y_pred)"
   ]
  },
  {
   "cell_type": "code",
   "execution_count": null,
   "metadata": {},
   "outputs": [],
   "source": [
    "from sklearn.metrics import classification_report\n",
    "import numpy as np\n",
    "\n",
    "y_test = np.argmax(temp_test, axis=1) # Convert one-hot to index\n",
    "y_pred = model.predict(test_gen)\n",
    "\n",
    "print(classification_report(y_test, y_pred))"
   ]
  },
  {
   "cell_type": "code",
   "execution_count": null,
   "metadata": {},
   "outputs": [],
   "source": []
  }
 ],
 "metadata": {
  "kernelspec": {
   "display_name": "Python 3",
   "language": "python",
   "name": "python3"
  },
  "language_info": {
   "codemirror_mode": {
    "name": "ipython",
    "version": 3
   },
   "file_extension": ".py",
   "mimetype": "text/x-python",
   "name": "python",
   "nbconvert_exporter": "python",
   "pygments_lexer": "ipython3",
   "version": "3.7.6"
  }
 },
 "nbformat": 4,
 "nbformat_minor": 4
}
