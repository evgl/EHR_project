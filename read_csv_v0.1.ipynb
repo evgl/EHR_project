{
 "cells": [
  {
   "cell_type": "markdown",
   "metadata": {},
   "source": [
    "### Data extraction\n",
    "Extract data from MIMIC-III"
   ]
  },
  {
   "cell_type": "code",
   "execution_count": 1,
   "metadata": {},
   "outputs": [
    {
     "data": {
      "text/html": [
       "        <script type=\"text/javascript\">\n",
       "        window.PlotlyConfig = {MathJaxConfig: 'local'};\n",
       "        if (window.MathJax) {MathJax.Hub.Config({SVG: {font: \"STIX-Web\"}});}\n",
       "        if (typeof require !== 'undefined') {\n",
       "        require.undef(\"plotly\");\n",
       "        requirejs.config({\n",
       "            paths: {\n",
       "                'plotly': ['https://cdn.plot.ly/plotly-latest.min']\n",
       "            }\n",
       "        });\n",
       "        require(['plotly'], function(Plotly) {\n",
       "            window._Plotly = Plotly;\n",
       "        });\n",
       "        }\n",
       "        </script>\n",
       "        "
      ]
     },
     "metadata": {},
     "output_type": "display_data"
    }
   ],
   "source": [
    "import time\n",
    "import numpy as np \n",
    "import pandas as pd\n",
    "import matplotlib.pyplot as plt\n",
    "import seaborn as sns\n",
    "from tqdm import tqdm\n",
    "\n",
    "# import re\n",
    "\n",
    "# import plotly.graph_objs as go\n",
    "# import plotly.plotly as py\n",
    "import cufflinks\n",
    "# from IPython.core.interactiveshell import InteractiveShell\n",
    "# import plotly.figure_factory as ff\n",
    "# InteractiveShell.ast_node_interactivity = 'all'\n",
    "# from plotly.offline import iplot\n",
    "cufflinks.go_offline()\n",
    "cufflinks.set_config_file(world_readable=True, theme='pearl')"
   ]
  },
  {
   "cell_type": "code",
   "execution_count": 2,
   "metadata": {},
   "outputs": [
    {
     "name": "stderr",
     "output_type": "stream",
     "text": [
      "/data/home/evgenii/anaconda3/lib/python3.7/site-packages/IPython/core/interactiveshell.py:3063: DtypeWarning:\n",
      "\n",
      "Columns (4,5) have mixed types.Specify dtype option on import or set low_memory=False.\n",
      "\n"
     ]
    },
    {
     "name": "stdout",
     "output_type": "stream",
     "text": [
      "40.204376459121704\n"
     ]
    }
   ],
   "source": [
    "# Import pandas \n",
    "import pandas as pd \n",
    "\n",
    "start = time.time()\n",
    "# reading csv file \n",
    "admissions_df = pd.read_csv(\"../MIMIC-III/ADMISSIONS.csv\")\n",
    "noteevents_df = pd.read_csv(\"../MIMIC-III/NOTEEVENTS.csv\") \n",
    "end = time.time()\n",
    "print(end - start)\n"
   ]
  },
  {
   "cell_type": "code",
   "execution_count": 3,
   "metadata": {},
   "outputs": [],
   "source": [
    "# diagnosis = df.DIAGNOSIS.unique()\n",
    "# #PNEUMONIA\n",
    "# for i in diagnosis:\n",
    "#     print(f\"[{i}]\")\n",
    "# data = df.copy()\n",
    "# data.info()\n",
    "\n",
    "# pneumonia_df = data.loc[df['DIAGNOSIS'] == 'PNEUMONIA']\n",
    "# pneumonia_df.info()"
   ]
  },
  {
   "cell_type": "code",
   "execution_count": 4,
   "metadata": {
    "scrolled": true
   },
   "outputs": [
    {
     "data": {
      "text/html": [
       "<div>\n",
       "<style scoped>\n",
       "    .dataframe tbody tr th:only-of-type {\n",
       "        vertical-align: middle;\n",
       "    }\n",
       "\n",
       "    .dataframe tbody tr th {\n",
       "        vertical-align: top;\n",
       "    }\n",
       "\n",
       "    .dataframe thead th {\n",
       "        text-align: right;\n",
       "    }\n",
       "</style>\n",
       "<table border=\"1\" class=\"dataframe\">\n",
       "  <thead>\n",
       "    <tr style=\"text-align: right;\">\n",
       "      <th></th>\n",
       "      <th>ROW_ID</th>\n",
       "      <th>SUBJECT_ID</th>\n",
       "      <th>HADM_ID</th>\n",
       "      <th>ADMITTIME</th>\n",
       "      <th>DISCHTIME</th>\n",
       "      <th>DEATHTIME</th>\n",
       "      <th>ADMISSION_TYPE</th>\n",
       "      <th>ADMISSION_LOCATION</th>\n",
       "      <th>DISCHARGE_LOCATION</th>\n",
       "      <th>INSURANCE</th>\n",
       "      <th>LANGUAGE</th>\n",
       "      <th>RELIGION</th>\n",
       "      <th>MARITAL_STATUS</th>\n",
       "      <th>ETHNICITY</th>\n",
       "      <th>EDREGTIME</th>\n",
       "      <th>EDOUTTIME</th>\n",
       "      <th>DIAGNOSIS</th>\n",
       "      <th>HOSPITAL_EXPIRE_FLAG</th>\n",
       "      <th>HAS_CHARTEVENTS_DATA</th>\n",
       "    </tr>\n",
       "  </thead>\n",
       "  <tbody>\n",
       "    <tr>\n",
       "      <th>0</th>\n",
       "      <td>21</td>\n",
       "      <td>22</td>\n",
       "      <td>165315</td>\n",
       "      <td>2196-04-09 12:26:00</td>\n",
       "      <td>2196-04-10 15:54:00</td>\n",
       "      <td>NaN</td>\n",
       "      <td>EMERGENCY</td>\n",
       "      <td>EMERGENCY ROOM ADMIT</td>\n",
       "      <td>DISC-TRAN CANCER/CHLDRN H</td>\n",
       "      <td>Private</td>\n",
       "      <td>NaN</td>\n",
       "      <td>UNOBTAINABLE</td>\n",
       "      <td>MARRIED</td>\n",
       "      <td>WHITE</td>\n",
       "      <td>2196-04-09 10:06:00</td>\n",
       "      <td>2196-04-09 13:24:00</td>\n",
       "      <td>BENZODIAZEPINE OVERDOSE</td>\n",
       "      <td>0</td>\n",
       "      <td>1</td>\n",
       "    </tr>\n",
       "    <tr>\n",
       "      <th>1</th>\n",
       "      <td>22</td>\n",
       "      <td>23</td>\n",
       "      <td>152223</td>\n",
       "      <td>2153-09-03 07:15:00</td>\n",
       "      <td>2153-09-08 19:10:00</td>\n",
       "      <td>NaN</td>\n",
       "      <td>ELECTIVE</td>\n",
       "      <td>PHYS REFERRAL/NORMAL DELI</td>\n",
       "      <td>HOME HEALTH CARE</td>\n",
       "      <td>Medicare</td>\n",
       "      <td>NaN</td>\n",
       "      <td>CATHOLIC</td>\n",
       "      <td>MARRIED</td>\n",
       "      <td>WHITE</td>\n",
       "      <td>NaN</td>\n",
       "      <td>NaN</td>\n",
       "      <td>CORONARY ARTERY DISEASE\\CORONARY ARTERY BYPASS...</td>\n",
       "      <td>0</td>\n",
       "      <td>1</td>\n",
       "    </tr>\n",
       "    <tr>\n",
       "      <th>2</th>\n",
       "      <td>23</td>\n",
       "      <td>23</td>\n",
       "      <td>124321</td>\n",
       "      <td>2157-10-18 19:34:00</td>\n",
       "      <td>2157-10-25 14:00:00</td>\n",
       "      <td>NaN</td>\n",
       "      <td>EMERGENCY</td>\n",
       "      <td>TRANSFER FROM HOSP/EXTRAM</td>\n",
       "      <td>HOME HEALTH CARE</td>\n",
       "      <td>Medicare</td>\n",
       "      <td>ENGL</td>\n",
       "      <td>CATHOLIC</td>\n",
       "      <td>MARRIED</td>\n",
       "      <td>WHITE</td>\n",
       "      <td>NaN</td>\n",
       "      <td>NaN</td>\n",
       "      <td>BRAIN MASS</td>\n",
       "      <td>0</td>\n",
       "      <td>1</td>\n",
       "    </tr>\n",
       "    <tr>\n",
       "      <th>3</th>\n",
       "      <td>24</td>\n",
       "      <td>24</td>\n",
       "      <td>161859</td>\n",
       "      <td>2139-06-06 16:14:00</td>\n",
       "      <td>2139-06-09 12:48:00</td>\n",
       "      <td>NaN</td>\n",
       "      <td>EMERGENCY</td>\n",
       "      <td>TRANSFER FROM HOSP/EXTRAM</td>\n",
       "      <td>HOME</td>\n",
       "      <td>Private</td>\n",
       "      <td>NaN</td>\n",
       "      <td>PROTESTANT QUAKER</td>\n",
       "      <td>SINGLE</td>\n",
       "      <td>WHITE</td>\n",
       "      <td>NaN</td>\n",
       "      <td>NaN</td>\n",
       "      <td>INTERIOR MYOCARDIAL INFARCTION</td>\n",
       "      <td>0</td>\n",
       "      <td>1</td>\n",
       "    </tr>\n",
       "    <tr>\n",
       "      <th>4</th>\n",
       "      <td>25</td>\n",
       "      <td>25</td>\n",
       "      <td>129635</td>\n",
       "      <td>2160-11-02 02:06:00</td>\n",
       "      <td>2160-11-05 14:55:00</td>\n",
       "      <td>NaN</td>\n",
       "      <td>EMERGENCY</td>\n",
       "      <td>EMERGENCY ROOM ADMIT</td>\n",
       "      <td>HOME</td>\n",
       "      <td>Private</td>\n",
       "      <td>NaN</td>\n",
       "      <td>UNOBTAINABLE</td>\n",
       "      <td>MARRIED</td>\n",
       "      <td>WHITE</td>\n",
       "      <td>2160-11-02 01:01:00</td>\n",
       "      <td>2160-11-02 04:27:00</td>\n",
       "      <td>ACUTE CORONARY SYNDROME</td>\n",
       "      <td>0</td>\n",
       "      <td>1</td>\n",
       "    </tr>\n",
       "    <tr>\n",
       "      <th>...</th>\n",
       "      <td>...</td>\n",
       "      <td>...</td>\n",
       "      <td>...</td>\n",
       "      <td>...</td>\n",
       "      <td>...</td>\n",
       "      <td>...</td>\n",
       "      <td>...</td>\n",
       "      <td>...</td>\n",
       "      <td>...</td>\n",
       "      <td>...</td>\n",
       "      <td>...</td>\n",
       "      <td>...</td>\n",
       "      <td>...</td>\n",
       "      <td>...</td>\n",
       "      <td>...</td>\n",
       "      <td>...</td>\n",
       "      <td>...</td>\n",
       "      <td>...</td>\n",
       "      <td>...</td>\n",
       "    </tr>\n",
       "    <tr>\n",
       "      <th>58971</th>\n",
       "      <td>58594</td>\n",
       "      <td>98800</td>\n",
       "      <td>191113</td>\n",
       "      <td>2131-03-30 21:13:00</td>\n",
       "      <td>2131-04-02 15:02:00</td>\n",
       "      <td>NaN</td>\n",
       "      <td>EMERGENCY</td>\n",
       "      <td>CLINIC REFERRAL/PREMATURE</td>\n",
       "      <td>HOME</td>\n",
       "      <td>Private</td>\n",
       "      <td>ENGL</td>\n",
       "      <td>NOT SPECIFIED</td>\n",
       "      <td>SINGLE</td>\n",
       "      <td>WHITE</td>\n",
       "      <td>2131-03-30 19:44:00</td>\n",
       "      <td>2131-03-30 22:41:00</td>\n",
       "      <td>TRAUMA</td>\n",
       "      <td>0</td>\n",
       "      <td>1</td>\n",
       "    </tr>\n",
       "    <tr>\n",
       "      <th>58972</th>\n",
       "      <td>58595</td>\n",
       "      <td>98802</td>\n",
       "      <td>101071</td>\n",
       "      <td>2151-03-05 20:00:00</td>\n",
       "      <td>2151-03-06 09:10:00</td>\n",
       "      <td>2151-03-06 09:10:00</td>\n",
       "      <td>EMERGENCY</td>\n",
       "      <td>CLINIC REFERRAL/PREMATURE</td>\n",
       "      <td>DEAD/EXPIRED</td>\n",
       "      <td>Medicare</td>\n",
       "      <td>ENGL</td>\n",
       "      <td>CATHOLIC</td>\n",
       "      <td>WIDOWED</td>\n",
       "      <td>WHITE</td>\n",
       "      <td>2151-03-05 17:23:00</td>\n",
       "      <td>2151-03-05 21:06:00</td>\n",
       "      <td>SAH</td>\n",
       "      <td>1</td>\n",
       "      <td>1</td>\n",
       "    </tr>\n",
       "    <tr>\n",
       "      <th>58973</th>\n",
       "      <td>58596</td>\n",
       "      <td>98805</td>\n",
       "      <td>122631</td>\n",
       "      <td>2200-09-12 07:15:00</td>\n",
       "      <td>2200-09-20 12:08:00</td>\n",
       "      <td>NaN</td>\n",
       "      <td>ELECTIVE</td>\n",
       "      <td>PHYS REFERRAL/NORMAL DELI</td>\n",
       "      <td>HOME HEALTH CARE</td>\n",
       "      <td>Private</td>\n",
       "      <td>ENGL</td>\n",
       "      <td>NOT SPECIFIED</td>\n",
       "      <td>MARRIED</td>\n",
       "      <td>WHITE</td>\n",
       "      <td>NaN</td>\n",
       "      <td>NaN</td>\n",
       "      <td>RENAL CANCER/SDA</td>\n",
       "      <td>0</td>\n",
       "      <td>1</td>\n",
       "    </tr>\n",
       "    <tr>\n",
       "      <th>58974</th>\n",
       "      <td>58597</td>\n",
       "      <td>98813</td>\n",
       "      <td>170407</td>\n",
       "      <td>2128-11-11 02:29:00</td>\n",
       "      <td>2128-12-22 13:11:00</td>\n",
       "      <td>NaN</td>\n",
       "      <td>EMERGENCY</td>\n",
       "      <td>EMERGENCY ROOM ADMIT</td>\n",
       "      <td>SNF</td>\n",
       "      <td>Private</td>\n",
       "      <td>ENGL</td>\n",
       "      <td>CATHOLIC</td>\n",
       "      <td>MARRIED</td>\n",
       "      <td>WHITE</td>\n",
       "      <td>2128-11-10 23:48:00</td>\n",
       "      <td>2128-11-11 03:16:00</td>\n",
       "      <td>S/P FALL</td>\n",
       "      <td>0</td>\n",
       "      <td>0</td>\n",
       "    </tr>\n",
       "    <tr>\n",
       "      <th>58975</th>\n",
       "      <td>58598</td>\n",
       "      <td>98813</td>\n",
       "      <td>190264</td>\n",
       "      <td>2131-10-25 03:09:00</td>\n",
       "      <td>2131-10-26 17:44:00</td>\n",
       "      <td>NaN</td>\n",
       "      <td>EMERGENCY</td>\n",
       "      <td>CLINIC REFERRAL/PREMATURE</td>\n",
       "      <td>HOME</td>\n",
       "      <td>Private</td>\n",
       "      <td>ENGL</td>\n",
       "      <td>CATHOLIC</td>\n",
       "      <td>MARRIED</td>\n",
       "      <td>WHITE</td>\n",
       "      <td>2131-10-25 00:08:00</td>\n",
       "      <td>2131-10-25 04:35:00</td>\n",
       "      <td>INTRACRANIAL HEMORRHAGE</td>\n",
       "      <td>0</td>\n",
       "      <td>1</td>\n",
       "    </tr>\n",
       "  </tbody>\n",
       "</table>\n",
       "<p>58976 rows × 19 columns</p>\n",
       "</div>"
      ],
      "text/plain": [
       "       ROW_ID  SUBJECT_ID  HADM_ID            ADMITTIME            DISCHTIME  \\\n",
       "0          21          22   165315  2196-04-09 12:26:00  2196-04-10 15:54:00   \n",
       "1          22          23   152223  2153-09-03 07:15:00  2153-09-08 19:10:00   \n",
       "2          23          23   124321  2157-10-18 19:34:00  2157-10-25 14:00:00   \n",
       "3          24          24   161859  2139-06-06 16:14:00  2139-06-09 12:48:00   \n",
       "4          25          25   129635  2160-11-02 02:06:00  2160-11-05 14:55:00   \n",
       "...       ...         ...      ...                  ...                  ...   \n",
       "58971   58594       98800   191113  2131-03-30 21:13:00  2131-04-02 15:02:00   \n",
       "58972   58595       98802   101071  2151-03-05 20:00:00  2151-03-06 09:10:00   \n",
       "58973   58596       98805   122631  2200-09-12 07:15:00  2200-09-20 12:08:00   \n",
       "58974   58597       98813   170407  2128-11-11 02:29:00  2128-12-22 13:11:00   \n",
       "58975   58598       98813   190264  2131-10-25 03:09:00  2131-10-26 17:44:00   \n",
       "\n",
       "                 DEATHTIME ADMISSION_TYPE         ADMISSION_LOCATION  \\\n",
       "0                      NaN      EMERGENCY       EMERGENCY ROOM ADMIT   \n",
       "1                      NaN       ELECTIVE  PHYS REFERRAL/NORMAL DELI   \n",
       "2                      NaN      EMERGENCY  TRANSFER FROM HOSP/EXTRAM   \n",
       "3                      NaN      EMERGENCY  TRANSFER FROM HOSP/EXTRAM   \n",
       "4                      NaN      EMERGENCY       EMERGENCY ROOM ADMIT   \n",
       "...                    ...            ...                        ...   \n",
       "58971                  NaN      EMERGENCY  CLINIC REFERRAL/PREMATURE   \n",
       "58972  2151-03-06 09:10:00      EMERGENCY  CLINIC REFERRAL/PREMATURE   \n",
       "58973                  NaN       ELECTIVE  PHYS REFERRAL/NORMAL DELI   \n",
       "58974                  NaN      EMERGENCY       EMERGENCY ROOM ADMIT   \n",
       "58975                  NaN      EMERGENCY  CLINIC REFERRAL/PREMATURE   \n",
       "\n",
       "              DISCHARGE_LOCATION INSURANCE LANGUAGE           RELIGION  \\\n",
       "0      DISC-TRAN CANCER/CHLDRN H   Private      NaN       UNOBTAINABLE   \n",
       "1               HOME HEALTH CARE  Medicare      NaN           CATHOLIC   \n",
       "2               HOME HEALTH CARE  Medicare     ENGL           CATHOLIC   \n",
       "3                           HOME   Private      NaN  PROTESTANT QUAKER   \n",
       "4                           HOME   Private      NaN       UNOBTAINABLE   \n",
       "...                          ...       ...      ...                ...   \n",
       "58971                       HOME   Private     ENGL      NOT SPECIFIED   \n",
       "58972               DEAD/EXPIRED  Medicare     ENGL           CATHOLIC   \n",
       "58973           HOME HEALTH CARE   Private     ENGL      NOT SPECIFIED   \n",
       "58974                        SNF   Private     ENGL           CATHOLIC   \n",
       "58975                       HOME   Private     ENGL           CATHOLIC   \n",
       "\n",
       "      MARITAL_STATUS ETHNICITY            EDREGTIME            EDOUTTIME  \\\n",
       "0            MARRIED     WHITE  2196-04-09 10:06:00  2196-04-09 13:24:00   \n",
       "1            MARRIED     WHITE                  NaN                  NaN   \n",
       "2            MARRIED     WHITE                  NaN                  NaN   \n",
       "3             SINGLE     WHITE                  NaN                  NaN   \n",
       "4            MARRIED     WHITE  2160-11-02 01:01:00  2160-11-02 04:27:00   \n",
       "...              ...       ...                  ...                  ...   \n",
       "58971         SINGLE     WHITE  2131-03-30 19:44:00  2131-03-30 22:41:00   \n",
       "58972        WIDOWED     WHITE  2151-03-05 17:23:00  2151-03-05 21:06:00   \n",
       "58973        MARRIED     WHITE                  NaN                  NaN   \n",
       "58974        MARRIED     WHITE  2128-11-10 23:48:00  2128-11-11 03:16:00   \n",
       "58975        MARRIED     WHITE  2131-10-25 00:08:00  2131-10-25 04:35:00   \n",
       "\n",
       "                                               DIAGNOSIS  \\\n",
       "0                                BENZODIAZEPINE OVERDOSE   \n",
       "1      CORONARY ARTERY DISEASE\\CORONARY ARTERY BYPASS...   \n",
       "2                                             BRAIN MASS   \n",
       "3                         INTERIOR MYOCARDIAL INFARCTION   \n",
       "4                                ACUTE CORONARY SYNDROME   \n",
       "...                                                  ...   \n",
       "58971                                             TRAUMA   \n",
       "58972                                                SAH   \n",
       "58973                                   RENAL CANCER/SDA   \n",
       "58974                                           S/P FALL   \n",
       "58975                            INTRACRANIAL HEMORRHAGE   \n",
       "\n",
       "       HOSPITAL_EXPIRE_FLAG  HAS_CHARTEVENTS_DATA  \n",
       "0                         0                     1  \n",
       "1                         0                     1  \n",
       "2                         0                     1  \n",
       "3                         0                     1  \n",
       "4                         0                     1  \n",
       "...                     ...                   ...  \n",
       "58971                     0                     1  \n",
       "58972                     1                     1  \n",
       "58973                     0                     1  \n",
       "58974                     0                     0  \n",
       "58975                     0                     1  \n",
       "\n",
       "[58976 rows x 19 columns]"
      ]
     },
     "execution_count": 4,
     "metadata": {},
     "output_type": "execute_result"
    }
   ],
   "source": [
    "admissions_df"
   ]
  },
  {
   "cell_type": "code",
   "execution_count": 5,
   "metadata": {
    "scrolled": true
   },
   "outputs": [
    {
     "name": "stdout",
     "output_type": "stream",
     "text": [
      "<class 'pandas.core.frame.DataFrame'>\n",
      "RangeIndex: 2083180 entries, 0 to 2083179\n",
      "Data columns (total 11 columns):\n",
      " #   Column       Dtype  \n",
      "---  ------       -----  \n",
      " 0   ROW_ID       int64  \n",
      " 1   SUBJECT_ID   int64  \n",
      " 2   HADM_ID      float64\n",
      " 3   CHARTDATE    object \n",
      " 4   CHARTTIME    object \n",
      " 5   STORETIME    object \n",
      " 6   CATEGORY     object \n",
      " 7   DESCRIPTION  object \n",
      " 8   CGID         float64\n",
      " 9   ISERROR      float64\n",
      " 10  TEXT         object \n",
      "dtypes: float64(3), int64(2), object(6)\n",
      "memory usage: 174.8+ MB\n"
     ]
    }
   ],
   "source": [
    "noteevents_df.info()"
   ]
  },
  {
   "cell_type": "code",
   "execution_count": 6,
   "metadata": {},
   "outputs": [
    {
     "name": "stdout",
     "output_type": "stream",
     "text": [
      "<class 'pandas.core.frame.DataFrame'>\n",
      "RangeIndex: 58976 entries, 0 to 58975\n",
      "Data columns (total 19 columns):\n",
      " #   Column                Non-Null Count  Dtype \n",
      "---  ------                --------------  ----- \n",
      " 0   ROW_ID                58976 non-null  int64 \n",
      " 1   SUBJECT_ID            58976 non-null  int64 \n",
      " 2   HADM_ID               58976 non-null  int64 \n",
      " 3   ADMITTIME             58976 non-null  object\n",
      " 4   DISCHTIME             58976 non-null  object\n",
      " 5   DEATHTIME             5854 non-null   object\n",
      " 6   ADMISSION_TYPE        58976 non-null  object\n",
      " 7   ADMISSION_LOCATION    58976 non-null  object\n",
      " 8   DISCHARGE_LOCATION    58976 non-null  object\n",
      " 9   INSURANCE             58976 non-null  object\n",
      " 10  LANGUAGE              33644 non-null  object\n",
      " 11  RELIGION              58518 non-null  object\n",
      " 12  MARITAL_STATUS        48848 non-null  object\n",
      " 13  ETHNICITY             58976 non-null  object\n",
      " 14  EDREGTIME             30877 non-null  object\n",
      " 15  EDOUTTIME             30877 non-null  object\n",
      " 16  DIAGNOSIS             58951 non-null  object\n",
      " 17  HOSPITAL_EXPIRE_FLAG  58976 non-null  int64 \n",
      " 18  HAS_CHARTEVENTS_DATA  58976 non-null  int64 \n",
      "dtypes: int64(5), object(14)\n",
      "memory usage: 8.5+ MB\n"
     ]
    }
   ],
   "source": [
    "admissions_df.info()"
   ]
  },
  {
   "cell_type": "code",
   "execution_count": 7,
   "metadata": {},
   "outputs": [
    {
     "data": {
      "text/plain": [
       "\"\\n>>> left\\n  transaction_id user_id     value\\n0              A   Peter  1.867558\\n1              B    John -0.977278\\n2              C    John  0.950088\\n3              D    Anna -0.151357\\n>>> right\\n  user_id favorite_color\\n0    Paul           blue\\n1    Mary           blue\\n2    John            red\\n3    Anna            NaN\\n\\n---------\\n>>> left.merge(right, on='user_id', how='left', indicator=True)\\n  transaction_id user_id     value favorite_color     _merge\\n0              A   Peter  1.867558            NaN  left_only\\n1              B    John -0.977278            red       both\\n2              C    John  0.950088            red       both\\n3              D    Anna -0.151357            NaN       both\\n\\n---------\\nleft.merge(right.rename({'user_id': 'user_id_r'}, axis=1),\\n               left_on='user_id', right_on='user_id_r', how='left')\\n               \\n  transaction_id user_id     value user_id_r favorite_color\\n0              A   Peter  1.867558       NaN            NaN\\n1              B    John -0.977278      John            red\\n2              C    John  0.950088      John            red\\n3              D    Anna -0.151357      Anna            NaN\\n---------\\nselect\\n    t.transaction_id\\n    , t.user_id\\n    , t.value\\n    , u.user_id as user_id_r\\n    , u.favorite_color\\nfrom\\n    transactions t\\n    left join\\n    users u\\n    on t.user_id = u.user_id\\n;\\n\""
      ]
     },
     "execution_count": 7,
     "metadata": {},
     "output_type": "execute_result"
    }
   ],
   "source": [
    "# https://towardsdatascience.com/left-join-with-pandas-data-frames-in-python-c29c85089ba4\n",
    "# left_join = noteevents_df.join(admissions_df.set_index('HADM_ID'), on='HADM_ID')\n",
    "# left_join = noteevents_df.set_index('HADM_ID').join(admissions_df.set_index('HADM_ID'))\n",
    "\"\"\"\n",
    ">>> left\n",
    "  transaction_id user_id     value\n",
    "0              A   Peter  1.867558\n",
    "1              B    John -0.977278\n",
    "2              C    John  0.950088\n",
    "3              D    Anna -0.151357\n",
    ">>> right\n",
    "  user_id favorite_color\n",
    "0    Paul           blue\n",
    "1    Mary           blue\n",
    "2    John            red\n",
    "3    Anna            NaN\n",
    "\n",
    "---------\n",
    ">>> left.merge(right, on='user_id', how='left', indicator=True)\n",
    "  transaction_id user_id     value favorite_color     _merge\n",
    "0              A   Peter  1.867558            NaN  left_only\n",
    "1              B    John -0.977278            red       both\n",
    "2              C    John  0.950088            red       both\n",
    "3              D    Anna -0.151357            NaN       both\n",
    "\n",
    "---------\n",
    "left.merge(right.rename({'user_id': 'user_id_r'}, axis=1),\n",
    "               left_on='user_id', right_on='user_id_r', how='left')\n",
    "               \n",
    "  transaction_id user_id     value user_id_r favorite_color\n",
    "0              A   Peter  1.867558       NaN            NaN\n",
    "1              B    John -0.977278      John            red\n",
    "2              C    John  0.950088      John            red\n",
    "3              D    Anna -0.151357      Anna            NaN\n",
    "---------\n",
    "select\n",
    "    t.transaction_id\n",
    "    , t.user_id\n",
    "    , t.value\n",
    "    , u.user_id as user_id_r\n",
    "    , u.favorite_color\n",
    "from\n",
    "    transactions t\n",
    "    left join\n",
    "    users u\n",
    "    on t.user_id = u.user_id\n",
    ";\n",
    "\"\"\""
   ]
  },
  {
   "cell_type": "code",
   "execution_count": 8,
   "metadata": {},
   "outputs": [
    {
     "name": "stdout",
     "output_type": "stream",
     "text": [
      "5.101799249649048\n"
     ]
    }
   ],
   "source": [
    "start = time.time()\n",
    "# Left join of two dataframes\n",
    "note_admiss_df_left = noteevents_df.merge(admissions_df, on='HADM_ID', how='left', indicator=True)\n",
    "end = time.time()\n",
    "print(end - start)"
   ]
  },
  {
   "cell_type": "code",
   "execution_count": 9,
   "metadata": {
    "scrolled": false
   },
   "outputs": [
    {
     "name": "stdout",
     "output_type": "stream",
     "text": [
      "<class 'pandas.core.frame.DataFrame'>\n",
      "Int64Index: 2083180 entries, 0 to 2083179\n",
      "Data columns (total 30 columns):\n",
      " #   Column                Dtype   \n",
      "---  ------                -----   \n",
      " 0   ROW_ID_x              int64   \n",
      " 1   SUBJECT_ID_x          int64   \n",
      " 2   HADM_ID               float64 \n",
      " 3   CHARTDATE             object  \n",
      " 4   CHARTTIME             object  \n",
      " 5   STORETIME             object  \n",
      " 6   CATEGORY              object  \n",
      " 7   DESCRIPTION           object  \n",
      " 8   CGID                  float64 \n",
      " 9   ISERROR               float64 \n",
      " 10  TEXT                  object  \n",
      " 11  ROW_ID_y              float64 \n",
      " 12  SUBJECT_ID_y          float64 \n",
      " 13  ADMITTIME             object  \n",
      " 14  DISCHTIME             object  \n",
      " 15  DEATHTIME             object  \n",
      " 16  ADMISSION_TYPE        object  \n",
      " 17  ADMISSION_LOCATION    object  \n",
      " 18  DISCHARGE_LOCATION    object  \n",
      " 19  INSURANCE             object  \n",
      " 20  LANGUAGE              object  \n",
      " 21  RELIGION              object  \n",
      " 22  MARITAL_STATUS        object  \n",
      " 23  ETHNICITY             object  \n",
      " 24  EDREGTIME             object  \n",
      " 25  EDOUTTIME             object  \n",
      " 26  DIAGNOSIS             object  \n",
      " 27  HOSPITAL_EXPIRE_FLAG  float64 \n",
      " 28  HAS_CHARTEVENTS_DATA  float64 \n",
      " 29  _merge                category\n",
      "dtypes: category(1), float64(7), int64(2), object(20)\n",
      "memory usage: 478.8+ MB\n"
     ]
    }
   ],
   "source": [
    "note_admiss_df_left.info()"
   ]
  },
  {
   "cell_type": "code",
   "execution_count": 10,
   "metadata": {},
   "outputs": [
    {
     "data": {
      "text/plain": [
       "(2083180, 30)"
      ]
     },
     "execution_count": 10,
     "metadata": {},
     "output_type": "execute_result"
    }
   ],
   "source": [
    "note_admiss_df_left.shape"
   ]
  },
  {
   "cell_type": "code",
   "execution_count": 11,
   "metadata": {
    "scrolled": false
   },
   "outputs": [
    {
     "data": {
      "text/html": [
       "<div>\n",
       "<style scoped>\n",
       "    .dataframe tbody tr th:only-of-type {\n",
       "        vertical-align: middle;\n",
       "    }\n",
       "\n",
       "    .dataframe tbody tr th {\n",
       "        vertical-align: top;\n",
       "    }\n",
       "\n",
       "    .dataframe thead th {\n",
       "        text-align: right;\n",
       "    }\n",
       "</style>\n",
       "<table border=\"1\" class=\"dataframe\">\n",
       "  <thead>\n",
       "    <tr style=\"text-align: right;\">\n",
       "      <th></th>\n",
       "      <th>DIAGNOSIS</th>\n",
       "      <th>SUBJECT_ID_x</th>\n",
       "      <th>SUBJECT_ID_y</th>\n",
       "      <th>DESCRIPTION</th>\n",
       "      <th>CATEGORY</th>\n",
       "    </tr>\n",
       "  </thead>\n",
       "  <tbody>\n",
       "    <tr>\n",
       "      <th>0</th>\n",
       "      <td>RT LOWER LOBE PNEUMONIA</td>\n",
       "      <td>22532</td>\n",
       "      <td>22532.0</td>\n",
       "      <td>Report</td>\n",
       "      <td>Discharge summary</td>\n",
       "    </tr>\n",
       "    <tr>\n",
       "      <th>1</th>\n",
       "      <td>CHRONIC OBSTRUCTIVE PULMONARY DISEASE</td>\n",
       "      <td>13702</td>\n",
       "      <td>13702.0</td>\n",
       "      <td>Report</td>\n",
       "      <td>Discharge summary</td>\n",
       "    </tr>\n",
       "    <tr>\n",
       "      <th>2</th>\n",
       "      <td>TRACHEALBRONCHEAL MALACEA/SDA</td>\n",
       "      <td>13702</td>\n",
       "      <td>13702.0</td>\n",
       "      <td>Report</td>\n",
       "      <td>Discharge summary</td>\n",
       "    </tr>\n",
       "    <tr>\n",
       "      <th>3</th>\n",
       "      <td>ASTHMA;COPD EXACERBATION</td>\n",
       "      <td>13702</td>\n",
       "      <td>13702.0</td>\n",
       "      <td>Report</td>\n",
       "      <td>Discharge summary</td>\n",
       "    </tr>\n",
       "    <tr>\n",
       "      <th>4</th>\n",
       "      <td>S/P FALL;TELEMETRY</td>\n",
       "      <td>26880</td>\n",
       "      <td>26880.0</td>\n",
       "      <td>Report</td>\n",
       "      <td>Discharge summary</td>\n",
       "    </tr>\n",
       "    <tr>\n",
       "      <th>...</th>\n",
       "      <td>...</td>\n",
       "      <td>...</td>\n",
       "      <td>...</td>\n",
       "      <td>...</td>\n",
       "      <td>...</td>\n",
       "    </tr>\n",
       "    <tr>\n",
       "      <th>2083175</th>\n",
       "      <td>NEWBORN</td>\n",
       "      <td>31097</td>\n",
       "      <td>31097.0</td>\n",
       "      <td>Report</td>\n",
       "      <td>Nursing/other</td>\n",
       "    </tr>\n",
       "    <tr>\n",
       "      <th>2083176</th>\n",
       "      <td>NEWBORN</td>\n",
       "      <td>31097</td>\n",
       "      <td>31097.0</td>\n",
       "      <td>Report</td>\n",
       "      <td>Nursing/other</td>\n",
       "    </tr>\n",
       "    <tr>\n",
       "      <th>2083177</th>\n",
       "      <td>NEWBORN</td>\n",
       "      <td>31097</td>\n",
       "      <td>31097.0</td>\n",
       "      <td>Report</td>\n",
       "      <td>Nursing/other</td>\n",
       "    </tr>\n",
       "    <tr>\n",
       "      <th>2083178</th>\n",
       "      <td>NEWBORN</td>\n",
       "      <td>31097</td>\n",
       "      <td>31097.0</td>\n",
       "      <td>Report</td>\n",
       "      <td>Nursing/other</td>\n",
       "    </tr>\n",
       "    <tr>\n",
       "      <th>2083179</th>\n",
       "      <td>NEWBORN</td>\n",
       "      <td>31097</td>\n",
       "      <td>31097.0</td>\n",
       "      <td>Report</td>\n",
       "      <td>Nursing/other</td>\n",
       "    </tr>\n",
       "  </tbody>\n",
       "</table>\n",
       "<p>2083180 rows × 5 columns</p>\n",
       "</div>"
      ],
      "text/plain": [
       "                                     DIAGNOSIS  SUBJECT_ID_x  SUBJECT_ID_y  \\\n",
       "0                      RT LOWER LOBE PNEUMONIA         22532       22532.0   \n",
       "1        CHRONIC OBSTRUCTIVE PULMONARY DISEASE         13702       13702.0   \n",
       "2                TRACHEALBRONCHEAL MALACEA/SDA         13702       13702.0   \n",
       "3                     ASTHMA;COPD EXACERBATION         13702       13702.0   \n",
       "4                           S/P FALL;TELEMETRY         26880       26880.0   \n",
       "...                                        ...           ...           ...   \n",
       "2083175                                NEWBORN         31097       31097.0   \n",
       "2083176                                NEWBORN         31097       31097.0   \n",
       "2083177                                NEWBORN         31097       31097.0   \n",
       "2083178                                NEWBORN         31097       31097.0   \n",
       "2083179                                NEWBORN         31097       31097.0   \n",
       "\n",
       "        DESCRIPTION           CATEGORY  \n",
       "0            Report  Discharge summary  \n",
       "1            Report  Discharge summary  \n",
       "2            Report  Discharge summary  \n",
       "3            Report  Discharge summary  \n",
       "4            Report  Discharge summary  \n",
       "...             ...                ...  \n",
       "2083175      Report      Nursing/other  \n",
       "2083176      Report      Nursing/other  \n",
       "2083177      Report      Nursing/other  \n",
       "2083178      Report      Nursing/other  \n",
       "2083179      Report      Nursing/other  \n",
       "\n",
       "[2083180 rows x 5 columns]"
      ]
     },
     "execution_count": 11,
     "metadata": {},
     "output_type": "execute_result"
    }
   ],
   "source": [
    "# df1 = df[['a','b']]\n",
    "note_admiss_df_left[['DIAGNOSIS', 'SUBJECT_ID_x', 'SUBJECT_ID_y','DESCRIPTION', 'CATEGORY']]"
   ]
  },
  {
   "cell_type": "code",
   "execution_count": 12,
   "metadata": {
    "scrolled": true
   },
   "outputs": [],
   "source": [
    "pneumonia_df = note_admiss_df_left.loc[note_admiss_df_left[\"DIAGNOSIS\"] == 'PNEUMONIA', ['ROW_ID_x', 'SUBJECT_ID_x', 'HADM_ID', 'CHARTDATE', 'CHARTTIME', 'STORETIME', 'CATEGORY', 'DESCRIPTION', 'CGID', 'ISERROR', 'TEXT', 'ADMITTIME', 'DISCHTIME', 'DEATHTIME', 'ADMISSION_TYPE', 'DIAGNOSIS', 'HAS_CHARTEVENTS_DATA']]"
   ]
  },
  {
   "cell_type": "code",
   "execution_count": null,
   "metadata": {
    "scrolled": false
   },
   "outputs": [],
   "source": []
  },
  {
   "cell_type": "code",
   "execution_count": 13,
   "metadata": {
    "scrolled": true
   },
   "outputs": [
    {
     "data": {
      "text/plain": [
       "(59727, 17)"
      ]
     },
     "execution_count": 13,
     "metadata": {},
     "output_type": "execute_result"
    }
   ],
   "source": [
    "pneumonia_df.shape"
   ]
  },
  {
   "cell_type": "code",
   "execution_count": 14,
   "metadata": {
    "scrolled": false
   },
   "outputs": [
    {
     "data": {
      "application/vnd.plotly.v1+json": {
       "config": {
        "linkText": "Export to plot.ly",
        "plotlyServerURL": "https://plot.ly",
        "showLink": true
       },
       "data": [
        {
         "marker": {
          "color": "rgba(255, 153, 51, 0.6)",
          "line": {
           "color": "rgba(255, 153, 51, 1.0)",
           "width": 1
          }
         },
         "name": "CATEGORY",
         "orientation": "v",
         "text": "",
         "type": "bar",
         "x": [
          "Nursing",
          "Nursing/other",
          "Radiology",
          "Physician ",
          "ECG",
          "Respiratory ",
          "Discharge summary",
          "Echo",
          "General",
          "Nutrition",
          "Rehab Services",
          "Social Work",
          "Case Management ",
          "Pharmacy",
          "Consult"
         ],
         "y": [
          13256,
          12693,
          11723,
          10643,
          4469,
          2454,
          1698,
          949,
          680,
          638,
          231,
          142,
          135,
          15,
          1
         ]
        }
       ],
       "layout": {
        "legend": {
         "bgcolor": "#F5F6F9",
         "font": {
          "color": "#4D5663"
         }
        },
        "paper_bgcolor": "#F5F6F9",
        "plot_bgcolor": "#F5F6F9",
        "template": {
         "data": {
          "bar": [
           {
            "error_x": {
             "color": "#2a3f5f"
            },
            "error_y": {
             "color": "#2a3f5f"
            },
            "marker": {
             "line": {
              "color": "#E5ECF6",
              "width": 0.5
             }
            },
            "type": "bar"
           }
          ],
          "barpolar": [
           {
            "marker": {
             "line": {
              "color": "#E5ECF6",
              "width": 0.5
             }
            },
            "type": "barpolar"
           }
          ],
          "carpet": [
           {
            "aaxis": {
             "endlinecolor": "#2a3f5f",
             "gridcolor": "white",
             "linecolor": "white",
             "minorgridcolor": "white",
             "startlinecolor": "#2a3f5f"
            },
            "baxis": {
             "endlinecolor": "#2a3f5f",
             "gridcolor": "white",
             "linecolor": "white",
             "minorgridcolor": "white",
             "startlinecolor": "#2a3f5f"
            },
            "type": "carpet"
           }
          ],
          "choropleth": [
           {
            "colorbar": {
             "outlinewidth": 0,
             "ticks": ""
            },
            "type": "choropleth"
           }
          ],
          "contour": [
           {
            "colorbar": {
             "outlinewidth": 0,
             "ticks": ""
            },
            "colorscale": [
             [
              0,
              "#0d0887"
             ],
             [
              0.1111111111111111,
              "#46039f"
             ],
             [
              0.2222222222222222,
              "#7201a8"
             ],
             [
              0.3333333333333333,
              "#9c179e"
             ],
             [
              0.4444444444444444,
              "#bd3786"
             ],
             [
              0.5555555555555556,
              "#d8576b"
             ],
             [
              0.6666666666666666,
              "#ed7953"
             ],
             [
              0.7777777777777778,
              "#fb9f3a"
             ],
             [
              0.8888888888888888,
              "#fdca26"
             ],
             [
              1,
              "#f0f921"
             ]
            ],
            "type": "contour"
           }
          ],
          "contourcarpet": [
           {
            "colorbar": {
             "outlinewidth": 0,
             "ticks": ""
            },
            "type": "contourcarpet"
           }
          ],
          "heatmap": [
           {
            "colorbar": {
             "outlinewidth": 0,
             "ticks": ""
            },
            "colorscale": [
             [
              0,
              "#0d0887"
             ],
             [
              0.1111111111111111,
              "#46039f"
             ],
             [
              0.2222222222222222,
              "#7201a8"
             ],
             [
              0.3333333333333333,
              "#9c179e"
             ],
             [
              0.4444444444444444,
              "#bd3786"
             ],
             [
              0.5555555555555556,
              "#d8576b"
             ],
             [
              0.6666666666666666,
              "#ed7953"
             ],
             [
              0.7777777777777778,
              "#fb9f3a"
             ],
             [
              0.8888888888888888,
              "#fdca26"
             ],
             [
              1,
              "#f0f921"
             ]
            ],
            "type": "heatmap"
           }
          ],
          "heatmapgl": [
           {
            "colorbar": {
             "outlinewidth": 0,
             "ticks": ""
            },
            "colorscale": [
             [
              0,
              "#0d0887"
             ],
             [
              0.1111111111111111,
              "#46039f"
             ],
             [
              0.2222222222222222,
              "#7201a8"
             ],
             [
              0.3333333333333333,
              "#9c179e"
             ],
             [
              0.4444444444444444,
              "#bd3786"
             ],
             [
              0.5555555555555556,
              "#d8576b"
             ],
             [
              0.6666666666666666,
              "#ed7953"
             ],
             [
              0.7777777777777778,
              "#fb9f3a"
             ],
             [
              0.8888888888888888,
              "#fdca26"
             ],
             [
              1,
              "#f0f921"
             ]
            ],
            "type": "heatmapgl"
           }
          ],
          "histogram": [
           {
            "marker": {
             "colorbar": {
              "outlinewidth": 0,
              "ticks": ""
             }
            },
            "type": "histogram"
           }
          ],
          "histogram2d": [
           {
            "colorbar": {
             "outlinewidth": 0,
             "ticks": ""
            },
            "colorscale": [
             [
              0,
              "#0d0887"
             ],
             [
              0.1111111111111111,
              "#46039f"
             ],
             [
              0.2222222222222222,
              "#7201a8"
             ],
             [
              0.3333333333333333,
              "#9c179e"
             ],
             [
              0.4444444444444444,
              "#bd3786"
             ],
             [
              0.5555555555555556,
              "#d8576b"
             ],
             [
              0.6666666666666666,
              "#ed7953"
             ],
             [
              0.7777777777777778,
              "#fb9f3a"
             ],
             [
              0.8888888888888888,
              "#fdca26"
             ],
             [
              1,
              "#f0f921"
             ]
            ],
            "type": "histogram2d"
           }
          ],
          "histogram2dcontour": [
           {
            "colorbar": {
             "outlinewidth": 0,
             "ticks": ""
            },
            "colorscale": [
             [
              0,
              "#0d0887"
             ],
             [
              0.1111111111111111,
              "#46039f"
             ],
             [
              0.2222222222222222,
              "#7201a8"
             ],
             [
              0.3333333333333333,
              "#9c179e"
             ],
             [
              0.4444444444444444,
              "#bd3786"
             ],
             [
              0.5555555555555556,
              "#d8576b"
             ],
             [
              0.6666666666666666,
              "#ed7953"
             ],
             [
              0.7777777777777778,
              "#fb9f3a"
             ],
             [
              0.8888888888888888,
              "#fdca26"
             ],
             [
              1,
              "#f0f921"
             ]
            ],
            "type": "histogram2dcontour"
           }
          ],
          "mesh3d": [
           {
            "colorbar": {
             "outlinewidth": 0,
             "ticks": ""
            },
            "type": "mesh3d"
           }
          ],
          "parcoords": [
           {
            "line": {
             "colorbar": {
              "outlinewidth": 0,
              "ticks": ""
             }
            },
            "type": "parcoords"
           }
          ],
          "pie": [
           {
            "automargin": true,
            "type": "pie"
           }
          ],
          "scatter": [
           {
            "marker": {
             "colorbar": {
              "outlinewidth": 0,
              "ticks": ""
             }
            },
            "type": "scatter"
           }
          ],
          "scatter3d": [
           {
            "line": {
             "colorbar": {
              "outlinewidth": 0,
              "ticks": ""
             }
            },
            "marker": {
             "colorbar": {
              "outlinewidth": 0,
              "ticks": ""
             }
            },
            "type": "scatter3d"
           }
          ],
          "scattercarpet": [
           {
            "marker": {
             "colorbar": {
              "outlinewidth": 0,
              "ticks": ""
             }
            },
            "type": "scattercarpet"
           }
          ],
          "scattergeo": [
           {
            "marker": {
             "colorbar": {
              "outlinewidth": 0,
              "ticks": ""
             }
            },
            "type": "scattergeo"
           }
          ],
          "scattergl": [
           {
            "marker": {
             "colorbar": {
              "outlinewidth": 0,
              "ticks": ""
             }
            },
            "type": "scattergl"
           }
          ],
          "scattermapbox": [
           {
            "marker": {
             "colorbar": {
              "outlinewidth": 0,
              "ticks": ""
             }
            },
            "type": "scattermapbox"
           }
          ],
          "scatterpolar": [
           {
            "marker": {
             "colorbar": {
              "outlinewidth": 0,
              "ticks": ""
             }
            },
            "type": "scatterpolar"
           }
          ],
          "scatterpolargl": [
           {
            "marker": {
             "colorbar": {
              "outlinewidth": 0,
              "ticks": ""
             }
            },
            "type": "scatterpolargl"
           }
          ],
          "scatterternary": [
           {
            "marker": {
             "colorbar": {
              "outlinewidth": 0,
              "ticks": ""
             }
            },
            "type": "scatterternary"
           }
          ],
          "surface": [
           {
            "colorbar": {
             "outlinewidth": 0,
             "ticks": ""
            },
            "colorscale": [
             [
              0,
              "#0d0887"
             ],
             [
              0.1111111111111111,
              "#46039f"
             ],
             [
              0.2222222222222222,
              "#7201a8"
             ],
             [
              0.3333333333333333,
              "#9c179e"
             ],
             [
              0.4444444444444444,
              "#bd3786"
             ],
             [
              0.5555555555555556,
              "#d8576b"
             ],
             [
              0.6666666666666666,
              "#ed7953"
             ],
             [
              0.7777777777777778,
              "#fb9f3a"
             ],
             [
              0.8888888888888888,
              "#fdca26"
             ],
             [
              1,
              "#f0f921"
             ]
            ],
            "type": "surface"
           }
          ],
          "table": [
           {
            "cells": {
             "fill": {
              "color": "#EBF0F8"
             },
             "line": {
              "color": "white"
             }
            },
            "header": {
             "fill": {
              "color": "#C8D4E3"
             },
             "line": {
              "color": "white"
             }
            },
            "type": "table"
           }
          ]
         },
         "layout": {
          "annotationdefaults": {
           "arrowcolor": "#2a3f5f",
           "arrowhead": 0,
           "arrowwidth": 1
          },
          "coloraxis": {
           "colorbar": {
            "outlinewidth": 0,
            "ticks": ""
           }
          },
          "colorscale": {
           "diverging": [
            [
             0,
             "#8e0152"
            ],
            [
             0.1,
             "#c51b7d"
            ],
            [
             0.2,
             "#de77ae"
            ],
            [
             0.3,
             "#f1b6da"
            ],
            [
             0.4,
             "#fde0ef"
            ],
            [
             0.5,
             "#f7f7f7"
            ],
            [
             0.6,
             "#e6f5d0"
            ],
            [
             0.7,
             "#b8e186"
            ],
            [
             0.8,
             "#7fbc41"
            ],
            [
             0.9,
             "#4d9221"
            ],
            [
             1,
             "#276419"
            ]
           ],
           "sequential": [
            [
             0,
             "#0d0887"
            ],
            [
             0.1111111111111111,
             "#46039f"
            ],
            [
             0.2222222222222222,
             "#7201a8"
            ],
            [
             0.3333333333333333,
             "#9c179e"
            ],
            [
             0.4444444444444444,
             "#bd3786"
            ],
            [
             0.5555555555555556,
             "#d8576b"
            ],
            [
             0.6666666666666666,
             "#ed7953"
            ],
            [
             0.7777777777777778,
             "#fb9f3a"
            ],
            [
             0.8888888888888888,
             "#fdca26"
            ],
            [
             1,
             "#f0f921"
            ]
           ],
           "sequentialminus": [
            [
             0,
             "#0d0887"
            ],
            [
             0.1111111111111111,
             "#46039f"
            ],
            [
             0.2222222222222222,
             "#7201a8"
            ],
            [
             0.3333333333333333,
             "#9c179e"
            ],
            [
             0.4444444444444444,
             "#bd3786"
            ],
            [
             0.5555555555555556,
             "#d8576b"
            ],
            [
             0.6666666666666666,
             "#ed7953"
            ],
            [
             0.7777777777777778,
             "#fb9f3a"
            ],
            [
             0.8888888888888888,
             "#fdca26"
            ],
            [
             1,
             "#f0f921"
            ]
           ]
          },
          "colorway": [
           "#636efa",
           "#EF553B",
           "#00cc96",
           "#ab63fa",
           "#FFA15A",
           "#19d3f3",
           "#FF6692",
           "#B6E880",
           "#FF97FF",
           "#FECB52"
          ],
          "font": {
           "color": "#2a3f5f"
          },
          "geo": {
           "bgcolor": "white",
           "lakecolor": "white",
           "landcolor": "#E5ECF6",
           "showlakes": true,
           "showland": true,
           "subunitcolor": "white"
          },
          "hoverlabel": {
           "align": "left"
          },
          "hovermode": "closest",
          "mapbox": {
           "style": "light"
          },
          "paper_bgcolor": "white",
          "plot_bgcolor": "#E5ECF6",
          "polar": {
           "angularaxis": {
            "gridcolor": "white",
            "linecolor": "white",
            "ticks": ""
           },
           "bgcolor": "#E5ECF6",
           "radialaxis": {
            "gridcolor": "white",
            "linecolor": "white",
            "ticks": ""
           }
          },
          "scene": {
           "xaxis": {
            "backgroundcolor": "#E5ECF6",
            "gridcolor": "white",
            "gridwidth": 2,
            "linecolor": "white",
            "showbackground": true,
            "ticks": "",
            "zerolinecolor": "white"
           },
           "yaxis": {
            "backgroundcolor": "#E5ECF6",
            "gridcolor": "white",
            "gridwidth": 2,
            "linecolor": "white",
            "showbackground": true,
            "ticks": "",
            "zerolinecolor": "white"
           },
           "zaxis": {
            "backgroundcolor": "#E5ECF6",
            "gridcolor": "white",
            "gridwidth": 2,
            "linecolor": "white",
            "showbackground": true,
            "ticks": "",
            "zerolinecolor": "white"
           }
          },
          "shapedefaults": {
           "line": {
            "color": "#2a3f5f"
           }
          },
          "ternary": {
           "aaxis": {
            "gridcolor": "white",
            "linecolor": "white",
            "ticks": ""
           },
           "baxis": {
            "gridcolor": "white",
            "linecolor": "white",
            "ticks": ""
           },
           "bgcolor": "#E5ECF6",
           "caxis": {
            "gridcolor": "white",
            "linecolor": "white",
            "ticks": ""
           }
          },
          "title": {
           "x": 0.05
          },
          "xaxis": {
           "automargin": true,
           "gridcolor": "white",
           "linecolor": "white",
           "ticks": "",
           "title": {
            "standoff": 15
           },
           "zerolinecolor": "white",
           "zerolinewidth": 2
          },
          "yaxis": {
           "automargin": true,
           "gridcolor": "white",
           "linecolor": "white",
           "ticks": "",
           "title": {
            "standoff": 15
           },
           "zerolinecolor": "white",
           "zerolinewidth": 2
          }
         }
        },
        "title": {
         "font": {
          "color": "#4D5663"
         },
         "text": "Number of category kinds in noteevents"
        },
        "xaxis": {
         "gridcolor": "#E1E5ED",
         "showgrid": true,
         "tickfont": {
          "color": "#4D5663"
         },
         "title": {
          "font": {
           "color": "#4D5663"
          },
          "text": ""
         },
         "zerolinecolor": "#E1E5ED"
        },
        "yaxis": {
         "gridcolor": "#E1E5ED",
         "showgrid": true,
         "tickfont": {
          "color": "#4D5663"
         },
         "title": {
          "font": {
           "color": "#4D5663"
          },
          "text": "Number of notes"
         },
         "zerolinecolor": "#E1E5ED"
        }
       }
      },
      "text/html": [
       "<div>\n",
       "        \n",
       "        \n",
       "            <div id=\"347d3f02-3dfb-4bda-a2b2-cf20a3bdfe56\" class=\"plotly-graph-div\" style=\"height:525px; width:100%;\"></div>\n",
       "            <script type=\"text/javascript\">\n",
       "                require([\"plotly\"], function(Plotly) {\n",
       "                    window.PLOTLYENV=window.PLOTLYENV || {};\n",
       "                    window.PLOTLYENV.BASE_URL='https://plot.ly';\n",
       "                    \n",
       "                if (document.getElementById(\"347d3f02-3dfb-4bda-a2b2-cf20a3bdfe56\")) {\n",
       "                    Plotly.newPlot(\n",
       "                        '347d3f02-3dfb-4bda-a2b2-cf20a3bdfe56',\n",
       "                        [{\"marker\": {\"color\": \"rgba(255, 153, 51, 0.6)\", \"line\": {\"color\": \"rgba(255, 153, 51, 1.0)\", \"width\": 1}}, \"name\": \"CATEGORY\", \"orientation\": \"v\", \"text\": \"\", \"type\": \"bar\", \"x\": [\"Nursing\", \"Nursing/other\", \"Radiology\", \"Physician \", \"ECG\", \"Respiratory \", \"Discharge summary\", \"Echo\", \"General\", \"Nutrition\", \"Rehab Services\", \"Social Work\", \"Case Management \", \"Pharmacy\", \"Consult\"], \"y\": [13256, 12693, 11723, 10643, 4469, 2454, 1698, 949, 680, 638, 231, 142, 135, 15, 1]}],\n",
       "                        {\"legend\": {\"bgcolor\": \"#F5F6F9\", \"font\": {\"color\": \"#4D5663\"}}, \"paper_bgcolor\": \"#F5F6F9\", \"plot_bgcolor\": \"#F5F6F9\", \"template\": {\"data\": {\"bar\": [{\"error_x\": {\"color\": \"#2a3f5f\"}, \"error_y\": {\"color\": \"#2a3f5f\"}, \"marker\": {\"line\": {\"color\": \"#E5ECF6\", \"width\": 0.5}}, \"type\": \"bar\"}], \"barpolar\": [{\"marker\": {\"line\": {\"color\": \"#E5ECF6\", \"width\": 0.5}}, \"type\": \"barpolar\"}], \"carpet\": [{\"aaxis\": {\"endlinecolor\": \"#2a3f5f\", \"gridcolor\": \"white\", \"linecolor\": \"white\", \"minorgridcolor\": \"white\", \"startlinecolor\": \"#2a3f5f\"}, \"baxis\": {\"endlinecolor\": \"#2a3f5f\", \"gridcolor\": \"white\", \"linecolor\": \"white\", \"minorgridcolor\": \"white\", \"startlinecolor\": \"#2a3f5f\"}, \"type\": \"carpet\"}], \"choropleth\": [{\"colorbar\": {\"outlinewidth\": 0, \"ticks\": \"\"}, \"type\": \"choropleth\"}], \"contour\": [{\"colorbar\": {\"outlinewidth\": 0, \"ticks\": \"\"}, \"colorscale\": [[0.0, \"#0d0887\"], [0.1111111111111111, \"#46039f\"], [0.2222222222222222, \"#7201a8\"], [0.3333333333333333, \"#9c179e\"], [0.4444444444444444, \"#bd3786\"], [0.5555555555555556, \"#d8576b\"], [0.6666666666666666, \"#ed7953\"], [0.7777777777777778, \"#fb9f3a\"], [0.8888888888888888, \"#fdca26\"], [1.0, \"#f0f921\"]], \"type\": \"contour\"}], \"contourcarpet\": [{\"colorbar\": {\"outlinewidth\": 0, \"ticks\": \"\"}, \"type\": \"contourcarpet\"}], \"heatmap\": [{\"colorbar\": {\"outlinewidth\": 0, \"ticks\": \"\"}, \"colorscale\": [[0.0, \"#0d0887\"], [0.1111111111111111, \"#46039f\"], [0.2222222222222222, \"#7201a8\"], [0.3333333333333333, \"#9c179e\"], [0.4444444444444444, \"#bd3786\"], [0.5555555555555556, \"#d8576b\"], [0.6666666666666666, \"#ed7953\"], [0.7777777777777778, \"#fb9f3a\"], [0.8888888888888888, \"#fdca26\"], [1.0, \"#f0f921\"]], \"type\": \"heatmap\"}], \"heatmapgl\": [{\"colorbar\": {\"outlinewidth\": 0, \"ticks\": \"\"}, \"colorscale\": [[0.0, \"#0d0887\"], [0.1111111111111111, \"#46039f\"], [0.2222222222222222, \"#7201a8\"], [0.3333333333333333, \"#9c179e\"], [0.4444444444444444, \"#bd3786\"], [0.5555555555555556, \"#d8576b\"], [0.6666666666666666, \"#ed7953\"], [0.7777777777777778, \"#fb9f3a\"], [0.8888888888888888, \"#fdca26\"], [1.0, \"#f0f921\"]], \"type\": \"heatmapgl\"}], \"histogram\": [{\"marker\": {\"colorbar\": {\"outlinewidth\": 0, \"ticks\": \"\"}}, \"type\": \"histogram\"}], \"histogram2d\": [{\"colorbar\": {\"outlinewidth\": 0, \"ticks\": \"\"}, \"colorscale\": [[0.0, \"#0d0887\"], [0.1111111111111111, \"#46039f\"], [0.2222222222222222, \"#7201a8\"], [0.3333333333333333, \"#9c179e\"], [0.4444444444444444, \"#bd3786\"], [0.5555555555555556, \"#d8576b\"], [0.6666666666666666, \"#ed7953\"], [0.7777777777777778, \"#fb9f3a\"], [0.8888888888888888, \"#fdca26\"], [1.0, \"#f0f921\"]], \"type\": \"histogram2d\"}], \"histogram2dcontour\": [{\"colorbar\": {\"outlinewidth\": 0, \"ticks\": \"\"}, \"colorscale\": [[0.0, \"#0d0887\"], [0.1111111111111111, \"#46039f\"], [0.2222222222222222, \"#7201a8\"], [0.3333333333333333, \"#9c179e\"], [0.4444444444444444, \"#bd3786\"], [0.5555555555555556, \"#d8576b\"], [0.6666666666666666, \"#ed7953\"], [0.7777777777777778, \"#fb9f3a\"], [0.8888888888888888, \"#fdca26\"], [1.0, \"#f0f921\"]], \"type\": \"histogram2dcontour\"}], \"mesh3d\": [{\"colorbar\": {\"outlinewidth\": 0, \"ticks\": \"\"}, \"type\": \"mesh3d\"}], \"parcoords\": [{\"line\": {\"colorbar\": {\"outlinewidth\": 0, \"ticks\": \"\"}}, \"type\": \"parcoords\"}], \"pie\": [{\"automargin\": true, \"type\": \"pie\"}], \"scatter\": [{\"marker\": {\"colorbar\": {\"outlinewidth\": 0, \"ticks\": \"\"}}, \"type\": \"scatter\"}], \"scatter3d\": [{\"line\": {\"colorbar\": {\"outlinewidth\": 0, \"ticks\": \"\"}}, \"marker\": {\"colorbar\": {\"outlinewidth\": 0, \"ticks\": \"\"}}, \"type\": \"scatter3d\"}], \"scattercarpet\": [{\"marker\": {\"colorbar\": {\"outlinewidth\": 0, \"ticks\": \"\"}}, \"type\": \"scattercarpet\"}], \"scattergeo\": [{\"marker\": {\"colorbar\": {\"outlinewidth\": 0, \"ticks\": \"\"}}, \"type\": \"scattergeo\"}], \"scattergl\": [{\"marker\": {\"colorbar\": {\"outlinewidth\": 0, \"ticks\": \"\"}}, \"type\": \"scattergl\"}], \"scattermapbox\": [{\"marker\": {\"colorbar\": {\"outlinewidth\": 0, \"ticks\": \"\"}}, \"type\": \"scattermapbox\"}], \"scatterpolar\": [{\"marker\": {\"colorbar\": {\"outlinewidth\": 0, \"ticks\": \"\"}}, \"type\": \"scatterpolar\"}], \"scatterpolargl\": [{\"marker\": {\"colorbar\": {\"outlinewidth\": 0, \"ticks\": \"\"}}, \"type\": \"scatterpolargl\"}], \"scatterternary\": [{\"marker\": {\"colorbar\": {\"outlinewidth\": 0, \"ticks\": \"\"}}, \"type\": \"scatterternary\"}], \"surface\": [{\"colorbar\": {\"outlinewidth\": 0, \"ticks\": \"\"}, \"colorscale\": [[0.0, \"#0d0887\"], [0.1111111111111111, \"#46039f\"], [0.2222222222222222, \"#7201a8\"], [0.3333333333333333, \"#9c179e\"], [0.4444444444444444, \"#bd3786\"], [0.5555555555555556, \"#d8576b\"], [0.6666666666666666, \"#ed7953\"], [0.7777777777777778, \"#fb9f3a\"], [0.8888888888888888, \"#fdca26\"], [1.0, \"#f0f921\"]], \"type\": \"surface\"}], \"table\": [{\"cells\": {\"fill\": {\"color\": \"#EBF0F8\"}, \"line\": {\"color\": \"white\"}}, \"header\": {\"fill\": {\"color\": \"#C8D4E3\"}, \"line\": {\"color\": \"white\"}}, \"type\": \"table\"}]}, \"layout\": {\"annotationdefaults\": {\"arrowcolor\": \"#2a3f5f\", \"arrowhead\": 0, \"arrowwidth\": 1}, \"coloraxis\": {\"colorbar\": {\"outlinewidth\": 0, \"ticks\": \"\"}}, \"colorscale\": {\"diverging\": [[0, \"#8e0152\"], [0.1, \"#c51b7d\"], [0.2, \"#de77ae\"], [0.3, \"#f1b6da\"], [0.4, \"#fde0ef\"], [0.5, \"#f7f7f7\"], [0.6, \"#e6f5d0\"], [0.7, \"#b8e186\"], [0.8, \"#7fbc41\"], [0.9, \"#4d9221\"], [1, \"#276419\"]], \"sequential\": [[0.0, \"#0d0887\"], [0.1111111111111111, \"#46039f\"], [0.2222222222222222, \"#7201a8\"], [0.3333333333333333, \"#9c179e\"], [0.4444444444444444, \"#bd3786\"], [0.5555555555555556, \"#d8576b\"], [0.6666666666666666, \"#ed7953\"], [0.7777777777777778, \"#fb9f3a\"], [0.8888888888888888, \"#fdca26\"], [1.0, \"#f0f921\"]], \"sequentialminus\": [[0.0, \"#0d0887\"], [0.1111111111111111, \"#46039f\"], [0.2222222222222222, \"#7201a8\"], [0.3333333333333333, \"#9c179e\"], [0.4444444444444444, \"#bd3786\"], [0.5555555555555556, \"#d8576b\"], [0.6666666666666666, \"#ed7953\"], [0.7777777777777778, \"#fb9f3a\"], [0.8888888888888888, \"#fdca26\"], [1.0, \"#f0f921\"]]}, \"colorway\": [\"#636efa\", \"#EF553B\", \"#00cc96\", \"#ab63fa\", \"#FFA15A\", \"#19d3f3\", \"#FF6692\", \"#B6E880\", \"#FF97FF\", \"#FECB52\"], \"font\": {\"color\": \"#2a3f5f\"}, \"geo\": {\"bgcolor\": \"white\", \"lakecolor\": \"white\", \"landcolor\": \"#E5ECF6\", \"showlakes\": true, \"showland\": true, \"subunitcolor\": \"white\"}, \"hoverlabel\": {\"align\": \"left\"}, \"hovermode\": \"closest\", \"mapbox\": {\"style\": \"light\"}, \"paper_bgcolor\": \"white\", \"plot_bgcolor\": \"#E5ECF6\", \"polar\": {\"angularaxis\": {\"gridcolor\": \"white\", \"linecolor\": \"white\", \"ticks\": \"\"}, \"bgcolor\": \"#E5ECF6\", \"radialaxis\": {\"gridcolor\": \"white\", \"linecolor\": \"white\", \"ticks\": \"\"}}, \"scene\": {\"xaxis\": {\"backgroundcolor\": \"#E5ECF6\", \"gridcolor\": \"white\", \"gridwidth\": 2, \"linecolor\": \"white\", \"showbackground\": true, \"ticks\": \"\", \"zerolinecolor\": \"white\"}, \"yaxis\": {\"backgroundcolor\": \"#E5ECF6\", \"gridcolor\": \"white\", \"gridwidth\": 2, \"linecolor\": \"white\", \"showbackground\": true, \"ticks\": \"\", \"zerolinecolor\": \"white\"}, \"zaxis\": {\"backgroundcolor\": \"#E5ECF6\", \"gridcolor\": \"white\", \"gridwidth\": 2, \"linecolor\": \"white\", \"showbackground\": true, \"ticks\": \"\", \"zerolinecolor\": \"white\"}}, \"shapedefaults\": {\"line\": {\"color\": \"#2a3f5f\"}}, \"ternary\": {\"aaxis\": {\"gridcolor\": \"white\", \"linecolor\": \"white\", \"ticks\": \"\"}, \"baxis\": {\"gridcolor\": \"white\", \"linecolor\": \"white\", \"ticks\": \"\"}, \"bgcolor\": \"#E5ECF6\", \"caxis\": {\"gridcolor\": \"white\", \"linecolor\": \"white\", \"ticks\": \"\"}}, \"title\": {\"x\": 0.05}, \"xaxis\": {\"automargin\": true, \"gridcolor\": \"white\", \"linecolor\": \"white\", \"ticks\": \"\", \"title\": {\"standoff\": 15}, \"zerolinecolor\": \"white\", \"zerolinewidth\": 2}, \"yaxis\": {\"automargin\": true, \"gridcolor\": \"white\", \"linecolor\": \"white\", \"ticks\": \"\", \"title\": {\"standoff\": 15}, \"zerolinecolor\": \"white\", \"zerolinewidth\": 2}}}, \"title\": {\"font\": {\"color\": \"#4D5663\"}, \"text\": \"Number of category kinds in noteevents\"}, \"xaxis\": {\"gridcolor\": \"#E1E5ED\", \"showgrid\": true, \"tickfont\": {\"color\": \"#4D5663\"}, \"title\": {\"font\": {\"color\": \"#4D5663\"}, \"text\": \"\"}, \"zerolinecolor\": \"#E1E5ED\"}, \"yaxis\": {\"gridcolor\": \"#E1E5ED\", \"showgrid\": true, \"tickfont\": {\"color\": \"#4D5663\"}, \"title\": {\"font\": {\"color\": \"#4D5663\"}, \"text\": \"Number of notes\"}, \"zerolinecolor\": \"#E1E5ED\"}},\n",
       "                        {\"showLink\": true, \"linkText\": \"Export to plot.ly\", \"plotlyServerURL\": \"https://plot.ly\", \"responsive\": true}\n",
       "                    ).then(function(){\n",
       "                            \n",
       "var gd = document.getElementById('347d3f02-3dfb-4bda-a2b2-cf20a3bdfe56');\n",
       "var x = new MutationObserver(function (mutations, observer) {{\n",
       "        var display = window.getComputedStyle(gd).display;\n",
       "        if (!display || display === 'none') {{\n",
       "            console.log([gd, 'removed!']);\n",
       "            Plotly.purge(gd);\n",
       "            observer.disconnect();\n",
       "        }}\n",
       "}});\n",
       "\n",
       "// Listen for the removal of the full notebook cells\n",
       "var notebookContainer = gd.closest('#notebook-container');\n",
       "if (notebookContainer) {{\n",
       "    x.observe(notebookContainer, {childList: true});\n",
       "}}\n",
       "\n",
       "// Listen for the clearing of the current output cell\n",
       "var outputEl = gd.closest('.output');\n",
       "if (outputEl) {{\n",
       "    x.observe(outputEl, {childList: true});\n",
       "}}\n",
       "\n",
       "                        })\n",
       "                };\n",
       "                });\n",
       "            </script>\n",
       "        </div>"
      ]
     },
     "metadata": {},
     "output_type": "display_data"
    }
   ],
   "source": [
    "pneumonia_df['CATEGORY'].value_counts().sort_values(ascending=False).iplot(kind='bar', yTitle='Number of notes', \n",
    "                                                                title='Number of category kinds in noteevents')"
   ]
  },
  {
   "cell_type": "code",
   "execution_count": 15,
   "metadata": {},
   "outputs": [],
   "source": [
    "#pneumonia_no_disch_df = pneumonia_df.loc[pneumonia_df[\"CATEGORY\"] != 'Discharge summary', ['ROW_ID_x', 'SUBJECT_ID_x', 'HADM_ID', 'CHARTDATE', 'CHARTTIME', 'STORETIME', 'CATEGORY', 'DESCRIPTION', 'CGID', 'ISERROR', 'TEXT', 'ADMITTIME', 'DISCHTIME', 'DEATHTIME', 'ADMISSION_TYPE', 'DIAGNOSIS', 'HAS_CHARTEVENTS_DATA']]\n",
    "pneumonia_no_disch_df = pneumonia_df.loc[pneumonia_df[\"CATEGORY\"] != 'Discharge summary', ['ROW_ID_x','SUBJECT_ID_x','CHARTDATE','STORETIME','CATEGORY','DESCRIPTION','TEXT', 'DEATHTIME']]"
   ]
  },
  {
   "cell_type": "code",
   "execution_count": 16,
   "metadata": {
    "scrolled": false
   },
   "outputs": [
    {
     "data": {
      "application/vnd.plotly.v1+json": {
       "config": {
        "linkText": "Export to plot.ly",
        "plotlyServerURL": "https://plot.ly",
        "showLink": true
       },
       "data": [
        {
         "marker": {
          "color": "rgba(255, 153, 51, 0.6)",
          "line": {
           "color": "rgba(255, 153, 51, 1.0)",
           "width": 1
          }
         },
         "name": "CATEGORY",
         "orientation": "v",
         "text": "",
         "type": "bar",
         "x": [
          "Nursing",
          "Nursing/other",
          "Radiology",
          "Physician ",
          "ECG",
          "Respiratory ",
          "Echo",
          "General",
          "Nutrition",
          "Rehab Services",
          "Social Work",
          "Case Management ",
          "Pharmacy",
          "Consult"
         ],
         "y": [
          13256,
          12693,
          11723,
          10643,
          4469,
          2454,
          949,
          680,
          638,
          231,
          142,
          135,
          15,
          1
         ]
        }
       ],
       "layout": {
        "legend": {
         "bgcolor": "#F5F6F9",
         "font": {
          "color": "#4D5663"
         }
        },
        "paper_bgcolor": "#F5F6F9",
        "plot_bgcolor": "#F5F6F9",
        "template": {
         "data": {
          "bar": [
           {
            "error_x": {
             "color": "#2a3f5f"
            },
            "error_y": {
             "color": "#2a3f5f"
            },
            "marker": {
             "line": {
              "color": "#E5ECF6",
              "width": 0.5
             }
            },
            "type": "bar"
           }
          ],
          "barpolar": [
           {
            "marker": {
             "line": {
              "color": "#E5ECF6",
              "width": 0.5
             }
            },
            "type": "barpolar"
           }
          ],
          "carpet": [
           {
            "aaxis": {
             "endlinecolor": "#2a3f5f",
             "gridcolor": "white",
             "linecolor": "white",
             "minorgridcolor": "white",
             "startlinecolor": "#2a3f5f"
            },
            "baxis": {
             "endlinecolor": "#2a3f5f",
             "gridcolor": "white",
             "linecolor": "white",
             "minorgridcolor": "white",
             "startlinecolor": "#2a3f5f"
            },
            "type": "carpet"
           }
          ],
          "choropleth": [
           {
            "colorbar": {
             "outlinewidth": 0,
             "ticks": ""
            },
            "type": "choropleth"
           }
          ],
          "contour": [
           {
            "colorbar": {
             "outlinewidth": 0,
             "ticks": ""
            },
            "colorscale": [
             [
              0,
              "#0d0887"
             ],
             [
              0.1111111111111111,
              "#46039f"
             ],
             [
              0.2222222222222222,
              "#7201a8"
             ],
             [
              0.3333333333333333,
              "#9c179e"
             ],
             [
              0.4444444444444444,
              "#bd3786"
             ],
             [
              0.5555555555555556,
              "#d8576b"
             ],
             [
              0.6666666666666666,
              "#ed7953"
             ],
             [
              0.7777777777777778,
              "#fb9f3a"
             ],
             [
              0.8888888888888888,
              "#fdca26"
             ],
             [
              1,
              "#f0f921"
             ]
            ],
            "type": "contour"
           }
          ],
          "contourcarpet": [
           {
            "colorbar": {
             "outlinewidth": 0,
             "ticks": ""
            },
            "type": "contourcarpet"
           }
          ],
          "heatmap": [
           {
            "colorbar": {
             "outlinewidth": 0,
             "ticks": ""
            },
            "colorscale": [
             [
              0,
              "#0d0887"
             ],
             [
              0.1111111111111111,
              "#46039f"
             ],
             [
              0.2222222222222222,
              "#7201a8"
             ],
             [
              0.3333333333333333,
              "#9c179e"
             ],
             [
              0.4444444444444444,
              "#bd3786"
             ],
             [
              0.5555555555555556,
              "#d8576b"
             ],
             [
              0.6666666666666666,
              "#ed7953"
             ],
             [
              0.7777777777777778,
              "#fb9f3a"
             ],
             [
              0.8888888888888888,
              "#fdca26"
             ],
             [
              1,
              "#f0f921"
             ]
            ],
            "type": "heatmap"
           }
          ],
          "heatmapgl": [
           {
            "colorbar": {
             "outlinewidth": 0,
             "ticks": ""
            },
            "colorscale": [
             [
              0,
              "#0d0887"
             ],
             [
              0.1111111111111111,
              "#46039f"
             ],
             [
              0.2222222222222222,
              "#7201a8"
             ],
             [
              0.3333333333333333,
              "#9c179e"
             ],
             [
              0.4444444444444444,
              "#bd3786"
             ],
             [
              0.5555555555555556,
              "#d8576b"
             ],
             [
              0.6666666666666666,
              "#ed7953"
             ],
             [
              0.7777777777777778,
              "#fb9f3a"
             ],
             [
              0.8888888888888888,
              "#fdca26"
             ],
             [
              1,
              "#f0f921"
             ]
            ],
            "type": "heatmapgl"
           }
          ],
          "histogram": [
           {
            "marker": {
             "colorbar": {
              "outlinewidth": 0,
              "ticks": ""
             }
            },
            "type": "histogram"
           }
          ],
          "histogram2d": [
           {
            "colorbar": {
             "outlinewidth": 0,
             "ticks": ""
            },
            "colorscale": [
             [
              0,
              "#0d0887"
             ],
             [
              0.1111111111111111,
              "#46039f"
             ],
             [
              0.2222222222222222,
              "#7201a8"
             ],
             [
              0.3333333333333333,
              "#9c179e"
             ],
             [
              0.4444444444444444,
              "#bd3786"
             ],
             [
              0.5555555555555556,
              "#d8576b"
             ],
             [
              0.6666666666666666,
              "#ed7953"
             ],
             [
              0.7777777777777778,
              "#fb9f3a"
             ],
             [
              0.8888888888888888,
              "#fdca26"
             ],
             [
              1,
              "#f0f921"
             ]
            ],
            "type": "histogram2d"
           }
          ],
          "histogram2dcontour": [
           {
            "colorbar": {
             "outlinewidth": 0,
             "ticks": ""
            },
            "colorscale": [
             [
              0,
              "#0d0887"
             ],
             [
              0.1111111111111111,
              "#46039f"
             ],
             [
              0.2222222222222222,
              "#7201a8"
             ],
             [
              0.3333333333333333,
              "#9c179e"
             ],
             [
              0.4444444444444444,
              "#bd3786"
             ],
             [
              0.5555555555555556,
              "#d8576b"
             ],
             [
              0.6666666666666666,
              "#ed7953"
             ],
             [
              0.7777777777777778,
              "#fb9f3a"
             ],
             [
              0.8888888888888888,
              "#fdca26"
             ],
             [
              1,
              "#f0f921"
             ]
            ],
            "type": "histogram2dcontour"
           }
          ],
          "mesh3d": [
           {
            "colorbar": {
             "outlinewidth": 0,
             "ticks": ""
            },
            "type": "mesh3d"
           }
          ],
          "parcoords": [
           {
            "line": {
             "colorbar": {
              "outlinewidth": 0,
              "ticks": ""
             }
            },
            "type": "parcoords"
           }
          ],
          "pie": [
           {
            "automargin": true,
            "type": "pie"
           }
          ],
          "scatter": [
           {
            "marker": {
             "colorbar": {
              "outlinewidth": 0,
              "ticks": ""
             }
            },
            "type": "scatter"
           }
          ],
          "scatter3d": [
           {
            "line": {
             "colorbar": {
              "outlinewidth": 0,
              "ticks": ""
             }
            },
            "marker": {
             "colorbar": {
              "outlinewidth": 0,
              "ticks": ""
             }
            },
            "type": "scatter3d"
           }
          ],
          "scattercarpet": [
           {
            "marker": {
             "colorbar": {
              "outlinewidth": 0,
              "ticks": ""
             }
            },
            "type": "scattercarpet"
           }
          ],
          "scattergeo": [
           {
            "marker": {
             "colorbar": {
              "outlinewidth": 0,
              "ticks": ""
             }
            },
            "type": "scattergeo"
           }
          ],
          "scattergl": [
           {
            "marker": {
             "colorbar": {
              "outlinewidth": 0,
              "ticks": ""
             }
            },
            "type": "scattergl"
           }
          ],
          "scattermapbox": [
           {
            "marker": {
             "colorbar": {
              "outlinewidth": 0,
              "ticks": ""
             }
            },
            "type": "scattermapbox"
           }
          ],
          "scatterpolar": [
           {
            "marker": {
             "colorbar": {
              "outlinewidth": 0,
              "ticks": ""
             }
            },
            "type": "scatterpolar"
           }
          ],
          "scatterpolargl": [
           {
            "marker": {
             "colorbar": {
              "outlinewidth": 0,
              "ticks": ""
             }
            },
            "type": "scatterpolargl"
           }
          ],
          "scatterternary": [
           {
            "marker": {
             "colorbar": {
              "outlinewidth": 0,
              "ticks": ""
             }
            },
            "type": "scatterternary"
           }
          ],
          "surface": [
           {
            "colorbar": {
             "outlinewidth": 0,
             "ticks": ""
            },
            "colorscale": [
             [
              0,
              "#0d0887"
             ],
             [
              0.1111111111111111,
              "#46039f"
             ],
             [
              0.2222222222222222,
              "#7201a8"
             ],
             [
              0.3333333333333333,
              "#9c179e"
             ],
             [
              0.4444444444444444,
              "#bd3786"
             ],
             [
              0.5555555555555556,
              "#d8576b"
             ],
             [
              0.6666666666666666,
              "#ed7953"
             ],
             [
              0.7777777777777778,
              "#fb9f3a"
             ],
             [
              0.8888888888888888,
              "#fdca26"
             ],
             [
              1,
              "#f0f921"
             ]
            ],
            "type": "surface"
           }
          ],
          "table": [
           {
            "cells": {
             "fill": {
              "color": "#EBF0F8"
             },
             "line": {
              "color": "white"
             }
            },
            "header": {
             "fill": {
              "color": "#C8D4E3"
             },
             "line": {
              "color": "white"
             }
            },
            "type": "table"
           }
          ]
         },
         "layout": {
          "annotationdefaults": {
           "arrowcolor": "#2a3f5f",
           "arrowhead": 0,
           "arrowwidth": 1
          },
          "coloraxis": {
           "colorbar": {
            "outlinewidth": 0,
            "ticks": ""
           }
          },
          "colorscale": {
           "diverging": [
            [
             0,
             "#8e0152"
            ],
            [
             0.1,
             "#c51b7d"
            ],
            [
             0.2,
             "#de77ae"
            ],
            [
             0.3,
             "#f1b6da"
            ],
            [
             0.4,
             "#fde0ef"
            ],
            [
             0.5,
             "#f7f7f7"
            ],
            [
             0.6,
             "#e6f5d0"
            ],
            [
             0.7,
             "#b8e186"
            ],
            [
             0.8,
             "#7fbc41"
            ],
            [
             0.9,
             "#4d9221"
            ],
            [
             1,
             "#276419"
            ]
           ],
           "sequential": [
            [
             0,
             "#0d0887"
            ],
            [
             0.1111111111111111,
             "#46039f"
            ],
            [
             0.2222222222222222,
             "#7201a8"
            ],
            [
             0.3333333333333333,
             "#9c179e"
            ],
            [
             0.4444444444444444,
             "#bd3786"
            ],
            [
             0.5555555555555556,
             "#d8576b"
            ],
            [
             0.6666666666666666,
             "#ed7953"
            ],
            [
             0.7777777777777778,
             "#fb9f3a"
            ],
            [
             0.8888888888888888,
             "#fdca26"
            ],
            [
             1,
             "#f0f921"
            ]
           ],
           "sequentialminus": [
            [
             0,
             "#0d0887"
            ],
            [
             0.1111111111111111,
             "#46039f"
            ],
            [
             0.2222222222222222,
             "#7201a8"
            ],
            [
             0.3333333333333333,
             "#9c179e"
            ],
            [
             0.4444444444444444,
             "#bd3786"
            ],
            [
             0.5555555555555556,
             "#d8576b"
            ],
            [
             0.6666666666666666,
             "#ed7953"
            ],
            [
             0.7777777777777778,
             "#fb9f3a"
            ],
            [
             0.8888888888888888,
             "#fdca26"
            ],
            [
             1,
             "#f0f921"
            ]
           ]
          },
          "colorway": [
           "#636efa",
           "#EF553B",
           "#00cc96",
           "#ab63fa",
           "#FFA15A",
           "#19d3f3",
           "#FF6692",
           "#B6E880",
           "#FF97FF",
           "#FECB52"
          ],
          "font": {
           "color": "#2a3f5f"
          },
          "geo": {
           "bgcolor": "white",
           "lakecolor": "white",
           "landcolor": "#E5ECF6",
           "showlakes": true,
           "showland": true,
           "subunitcolor": "white"
          },
          "hoverlabel": {
           "align": "left"
          },
          "hovermode": "closest",
          "mapbox": {
           "style": "light"
          },
          "paper_bgcolor": "white",
          "plot_bgcolor": "#E5ECF6",
          "polar": {
           "angularaxis": {
            "gridcolor": "white",
            "linecolor": "white",
            "ticks": ""
           },
           "bgcolor": "#E5ECF6",
           "radialaxis": {
            "gridcolor": "white",
            "linecolor": "white",
            "ticks": ""
           }
          },
          "scene": {
           "xaxis": {
            "backgroundcolor": "#E5ECF6",
            "gridcolor": "white",
            "gridwidth": 2,
            "linecolor": "white",
            "showbackground": true,
            "ticks": "",
            "zerolinecolor": "white"
           },
           "yaxis": {
            "backgroundcolor": "#E5ECF6",
            "gridcolor": "white",
            "gridwidth": 2,
            "linecolor": "white",
            "showbackground": true,
            "ticks": "",
            "zerolinecolor": "white"
           },
           "zaxis": {
            "backgroundcolor": "#E5ECF6",
            "gridcolor": "white",
            "gridwidth": 2,
            "linecolor": "white",
            "showbackground": true,
            "ticks": "",
            "zerolinecolor": "white"
           }
          },
          "shapedefaults": {
           "line": {
            "color": "#2a3f5f"
           }
          },
          "ternary": {
           "aaxis": {
            "gridcolor": "white",
            "linecolor": "white",
            "ticks": ""
           },
           "baxis": {
            "gridcolor": "white",
            "linecolor": "white",
            "ticks": ""
           },
           "bgcolor": "#E5ECF6",
           "caxis": {
            "gridcolor": "white",
            "linecolor": "white",
            "ticks": ""
           }
          },
          "title": {
           "x": 0.05
          },
          "xaxis": {
           "automargin": true,
           "gridcolor": "white",
           "linecolor": "white",
           "ticks": "",
           "title": {
            "standoff": 15
           },
           "zerolinecolor": "white",
           "zerolinewidth": 2
          },
          "yaxis": {
           "automargin": true,
           "gridcolor": "white",
           "linecolor": "white",
           "ticks": "",
           "title": {
            "standoff": 15
           },
           "zerolinecolor": "white",
           "zerolinewidth": 2
          }
         }
        },
        "title": {
         "font": {
          "color": "#4D5663"
         },
         "text": "Number of category kinds in noteevents"
        },
        "xaxis": {
         "gridcolor": "#E1E5ED",
         "showgrid": true,
         "tickfont": {
          "color": "#4D5663"
         },
         "title": {
          "font": {
           "color": "#4D5663"
          },
          "text": ""
         },
         "zerolinecolor": "#E1E5ED"
        },
        "yaxis": {
         "gridcolor": "#E1E5ED",
         "showgrid": true,
         "tickfont": {
          "color": "#4D5663"
         },
         "title": {
          "font": {
           "color": "#4D5663"
          },
          "text": "Number of notes"
         },
         "zerolinecolor": "#E1E5ED"
        }
       }
      },
      "text/html": [
       "<div>\n",
       "        \n",
       "        \n",
       "            <div id=\"e6956254-7091-4686-98d6-84965d79c9c5\" class=\"plotly-graph-div\" style=\"height:525px; width:100%;\"></div>\n",
       "            <script type=\"text/javascript\">\n",
       "                require([\"plotly\"], function(Plotly) {\n",
       "                    window.PLOTLYENV=window.PLOTLYENV || {};\n",
       "                    window.PLOTLYENV.BASE_URL='https://plot.ly';\n",
       "                    \n",
       "                if (document.getElementById(\"e6956254-7091-4686-98d6-84965d79c9c5\")) {\n",
       "                    Plotly.newPlot(\n",
       "                        'e6956254-7091-4686-98d6-84965d79c9c5',\n",
       "                        [{\"marker\": {\"color\": \"rgba(255, 153, 51, 0.6)\", \"line\": {\"color\": \"rgba(255, 153, 51, 1.0)\", \"width\": 1}}, \"name\": \"CATEGORY\", \"orientation\": \"v\", \"text\": \"\", \"type\": \"bar\", \"x\": [\"Nursing\", \"Nursing/other\", \"Radiology\", \"Physician \", \"ECG\", \"Respiratory \", \"Echo\", \"General\", \"Nutrition\", \"Rehab Services\", \"Social Work\", \"Case Management \", \"Pharmacy\", \"Consult\"], \"y\": [13256, 12693, 11723, 10643, 4469, 2454, 949, 680, 638, 231, 142, 135, 15, 1]}],\n",
       "                        {\"legend\": {\"bgcolor\": \"#F5F6F9\", \"font\": {\"color\": \"#4D5663\"}}, \"paper_bgcolor\": \"#F5F6F9\", \"plot_bgcolor\": \"#F5F6F9\", \"template\": {\"data\": {\"bar\": [{\"error_x\": {\"color\": \"#2a3f5f\"}, \"error_y\": {\"color\": \"#2a3f5f\"}, \"marker\": {\"line\": {\"color\": \"#E5ECF6\", \"width\": 0.5}}, \"type\": \"bar\"}], \"barpolar\": [{\"marker\": {\"line\": {\"color\": \"#E5ECF6\", \"width\": 0.5}}, \"type\": \"barpolar\"}], \"carpet\": [{\"aaxis\": {\"endlinecolor\": \"#2a3f5f\", \"gridcolor\": \"white\", \"linecolor\": \"white\", \"minorgridcolor\": \"white\", \"startlinecolor\": \"#2a3f5f\"}, \"baxis\": {\"endlinecolor\": \"#2a3f5f\", \"gridcolor\": \"white\", \"linecolor\": \"white\", \"minorgridcolor\": \"white\", \"startlinecolor\": \"#2a3f5f\"}, \"type\": \"carpet\"}], \"choropleth\": [{\"colorbar\": {\"outlinewidth\": 0, \"ticks\": \"\"}, \"type\": \"choropleth\"}], \"contour\": [{\"colorbar\": {\"outlinewidth\": 0, \"ticks\": \"\"}, \"colorscale\": [[0.0, \"#0d0887\"], [0.1111111111111111, \"#46039f\"], [0.2222222222222222, \"#7201a8\"], [0.3333333333333333, \"#9c179e\"], [0.4444444444444444, \"#bd3786\"], [0.5555555555555556, \"#d8576b\"], [0.6666666666666666, \"#ed7953\"], [0.7777777777777778, \"#fb9f3a\"], [0.8888888888888888, \"#fdca26\"], [1.0, \"#f0f921\"]], \"type\": \"contour\"}], \"contourcarpet\": [{\"colorbar\": {\"outlinewidth\": 0, \"ticks\": \"\"}, \"type\": \"contourcarpet\"}], \"heatmap\": [{\"colorbar\": {\"outlinewidth\": 0, \"ticks\": \"\"}, \"colorscale\": [[0.0, \"#0d0887\"], [0.1111111111111111, \"#46039f\"], [0.2222222222222222, \"#7201a8\"], [0.3333333333333333, \"#9c179e\"], [0.4444444444444444, \"#bd3786\"], [0.5555555555555556, \"#d8576b\"], [0.6666666666666666, \"#ed7953\"], [0.7777777777777778, \"#fb9f3a\"], [0.8888888888888888, \"#fdca26\"], [1.0, \"#f0f921\"]], \"type\": \"heatmap\"}], \"heatmapgl\": [{\"colorbar\": {\"outlinewidth\": 0, \"ticks\": \"\"}, \"colorscale\": [[0.0, \"#0d0887\"], [0.1111111111111111, \"#46039f\"], [0.2222222222222222, \"#7201a8\"], [0.3333333333333333, \"#9c179e\"], [0.4444444444444444, \"#bd3786\"], [0.5555555555555556, \"#d8576b\"], [0.6666666666666666, \"#ed7953\"], [0.7777777777777778, \"#fb9f3a\"], [0.8888888888888888, \"#fdca26\"], [1.0, \"#f0f921\"]], \"type\": \"heatmapgl\"}], \"histogram\": [{\"marker\": {\"colorbar\": {\"outlinewidth\": 0, \"ticks\": \"\"}}, \"type\": \"histogram\"}], \"histogram2d\": [{\"colorbar\": {\"outlinewidth\": 0, \"ticks\": \"\"}, \"colorscale\": [[0.0, \"#0d0887\"], [0.1111111111111111, \"#46039f\"], [0.2222222222222222, \"#7201a8\"], [0.3333333333333333, \"#9c179e\"], [0.4444444444444444, \"#bd3786\"], [0.5555555555555556, \"#d8576b\"], [0.6666666666666666, \"#ed7953\"], [0.7777777777777778, \"#fb9f3a\"], [0.8888888888888888, \"#fdca26\"], [1.0, \"#f0f921\"]], \"type\": \"histogram2d\"}], \"histogram2dcontour\": [{\"colorbar\": {\"outlinewidth\": 0, \"ticks\": \"\"}, \"colorscale\": [[0.0, \"#0d0887\"], [0.1111111111111111, \"#46039f\"], [0.2222222222222222, \"#7201a8\"], [0.3333333333333333, \"#9c179e\"], [0.4444444444444444, \"#bd3786\"], [0.5555555555555556, \"#d8576b\"], [0.6666666666666666, \"#ed7953\"], [0.7777777777777778, \"#fb9f3a\"], [0.8888888888888888, \"#fdca26\"], [1.0, \"#f0f921\"]], \"type\": \"histogram2dcontour\"}], \"mesh3d\": [{\"colorbar\": {\"outlinewidth\": 0, \"ticks\": \"\"}, \"type\": \"mesh3d\"}], \"parcoords\": [{\"line\": {\"colorbar\": {\"outlinewidth\": 0, \"ticks\": \"\"}}, \"type\": \"parcoords\"}], \"pie\": [{\"automargin\": true, \"type\": \"pie\"}], \"scatter\": [{\"marker\": {\"colorbar\": {\"outlinewidth\": 0, \"ticks\": \"\"}}, \"type\": \"scatter\"}], \"scatter3d\": [{\"line\": {\"colorbar\": {\"outlinewidth\": 0, \"ticks\": \"\"}}, \"marker\": {\"colorbar\": {\"outlinewidth\": 0, \"ticks\": \"\"}}, \"type\": \"scatter3d\"}], \"scattercarpet\": [{\"marker\": {\"colorbar\": {\"outlinewidth\": 0, \"ticks\": \"\"}}, \"type\": \"scattercarpet\"}], \"scattergeo\": [{\"marker\": {\"colorbar\": {\"outlinewidth\": 0, \"ticks\": \"\"}}, \"type\": \"scattergeo\"}], \"scattergl\": [{\"marker\": {\"colorbar\": {\"outlinewidth\": 0, \"ticks\": \"\"}}, \"type\": \"scattergl\"}], \"scattermapbox\": [{\"marker\": {\"colorbar\": {\"outlinewidth\": 0, \"ticks\": \"\"}}, \"type\": \"scattermapbox\"}], \"scatterpolar\": [{\"marker\": {\"colorbar\": {\"outlinewidth\": 0, \"ticks\": \"\"}}, \"type\": \"scatterpolar\"}], \"scatterpolargl\": [{\"marker\": {\"colorbar\": {\"outlinewidth\": 0, \"ticks\": \"\"}}, \"type\": \"scatterpolargl\"}], \"scatterternary\": [{\"marker\": {\"colorbar\": {\"outlinewidth\": 0, \"ticks\": \"\"}}, \"type\": \"scatterternary\"}], \"surface\": [{\"colorbar\": {\"outlinewidth\": 0, \"ticks\": \"\"}, \"colorscale\": [[0.0, \"#0d0887\"], [0.1111111111111111, \"#46039f\"], [0.2222222222222222, \"#7201a8\"], [0.3333333333333333, \"#9c179e\"], [0.4444444444444444, \"#bd3786\"], [0.5555555555555556, \"#d8576b\"], [0.6666666666666666, \"#ed7953\"], [0.7777777777777778, \"#fb9f3a\"], [0.8888888888888888, \"#fdca26\"], [1.0, \"#f0f921\"]], \"type\": \"surface\"}], \"table\": [{\"cells\": {\"fill\": {\"color\": \"#EBF0F8\"}, \"line\": {\"color\": \"white\"}}, \"header\": {\"fill\": {\"color\": \"#C8D4E3\"}, \"line\": {\"color\": \"white\"}}, \"type\": \"table\"}]}, \"layout\": {\"annotationdefaults\": {\"arrowcolor\": \"#2a3f5f\", \"arrowhead\": 0, \"arrowwidth\": 1}, \"coloraxis\": {\"colorbar\": {\"outlinewidth\": 0, \"ticks\": \"\"}}, \"colorscale\": {\"diverging\": [[0, \"#8e0152\"], [0.1, \"#c51b7d\"], [0.2, \"#de77ae\"], [0.3, \"#f1b6da\"], [0.4, \"#fde0ef\"], [0.5, \"#f7f7f7\"], [0.6, \"#e6f5d0\"], [0.7, \"#b8e186\"], [0.8, \"#7fbc41\"], [0.9, \"#4d9221\"], [1, \"#276419\"]], \"sequential\": [[0.0, \"#0d0887\"], [0.1111111111111111, \"#46039f\"], [0.2222222222222222, \"#7201a8\"], [0.3333333333333333, \"#9c179e\"], [0.4444444444444444, \"#bd3786\"], [0.5555555555555556, \"#d8576b\"], [0.6666666666666666, \"#ed7953\"], [0.7777777777777778, \"#fb9f3a\"], [0.8888888888888888, \"#fdca26\"], [1.0, \"#f0f921\"]], \"sequentialminus\": [[0.0, \"#0d0887\"], [0.1111111111111111, \"#46039f\"], [0.2222222222222222, \"#7201a8\"], [0.3333333333333333, \"#9c179e\"], [0.4444444444444444, \"#bd3786\"], [0.5555555555555556, \"#d8576b\"], [0.6666666666666666, \"#ed7953\"], [0.7777777777777778, \"#fb9f3a\"], [0.8888888888888888, \"#fdca26\"], [1.0, \"#f0f921\"]]}, \"colorway\": [\"#636efa\", \"#EF553B\", \"#00cc96\", \"#ab63fa\", \"#FFA15A\", \"#19d3f3\", \"#FF6692\", \"#B6E880\", \"#FF97FF\", \"#FECB52\"], \"font\": {\"color\": \"#2a3f5f\"}, \"geo\": {\"bgcolor\": \"white\", \"lakecolor\": \"white\", \"landcolor\": \"#E5ECF6\", \"showlakes\": true, \"showland\": true, \"subunitcolor\": \"white\"}, \"hoverlabel\": {\"align\": \"left\"}, \"hovermode\": \"closest\", \"mapbox\": {\"style\": \"light\"}, \"paper_bgcolor\": \"white\", \"plot_bgcolor\": \"#E5ECF6\", \"polar\": {\"angularaxis\": {\"gridcolor\": \"white\", \"linecolor\": \"white\", \"ticks\": \"\"}, \"bgcolor\": \"#E5ECF6\", \"radialaxis\": {\"gridcolor\": \"white\", \"linecolor\": \"white\", \"ticks\": \"\"}}, \"scene\": {\"xaxis\": {\"backgroundcolor\": \"#E5ECF6\", \"gridcolor\": \"white\", \"gridwidth\": 2, \"linecolor\": \"white\", \"showbackground\": true, \"ticks\": \"\", \"zerolinecolor\": \"white\"}, \"yaxis\": {\"backgroundcolor\": \"#E5ECF6\", \"gridcolor\": \"white\", \"gridwidth\": 2, \"linecolor\": \"white\", \"showbackground\": true, \"ticks\": \"\", \"zerolinecolor\": \"white\"}, \"zaxis\": {\"backgroundcolor\": \"#E5ECF6\", \"gridcolor\": \"white\", \"gridwidth\": 2, \"linecolor\": \"white\", \"showbackground\": true, \"ticks\": \"\", \"zerolinecolor\": \"white\"}}, \"shapedefaults\": {\"line\": {\"color\": \"#2a3f5f\"}}, \"ternary\": {\"aaxis\": {\"gridcolor\": \"white\", \"linecolor\": \"white\", \"ticks\": \"\"}, \"baxis\": {\"gridcolor\": \"white\", \"linecolor\": \"white\", \"ticks\": \"\"}, \"bgcolor\": \"#E5ECF6\", \"caxis\": {\"gridcolor\": \"white\", \"linecolor\": \"white\", \"ticks\": \"\"}}, \"title\": {\"x\": 0.05}, \"xaxis\": {\"automargin\": true, \"gridcolor\": \"white\", \"linecolor\": \"white\", \"ticks\": \"\", \"title\": {\"standoff\": 15}, \"zerolinecolor\": \"white\", \"zerolinewidth\": 2}, \"yaxis\": {\"automargin\": true, \"gridcolor\": \"white\", \"linecolor\": \"white\", \"ticks\": \"\", \"title\": {\"standoff\": 15}, \"zerolinecolor\": \"white\", \"zerolinewidth\": 2}}}, \"title\": {\"font\": {\"color\": \"#4D5663\"}, \"text\": \"Number of category kinds in noteevents\"}, \"xaxis\": {\"gridcolor\": \"#E1E5ED\", \"showgrid\": true, \"tickfont\": {\"color\": \"#4D5663\"}, \"title\": {\"font\": {\"color\": \"#4D5663\"}, \"text\": \"\"}, \"zerolinecolor\": \"#E1E5ED\"}, \"yaxis\": {\"gridcolor\": \"#E1E5ED\", \"showgrid\": true, \"tickfont\": {\"color\": \"#4D5663\"}, \"title\": {\"font\": {\"color\": \"#4D5663\"}, \"text\": \"Number of notes\"}, \"zerolinecolor\": \"#E1E5ED\"}},\n",
       "                        {\"showLink\": true, \"linkText\": \"Export to plot.ly\", \"plotlyServerURL\": \"https://plot.ly\", \"responsive\": true}\n",
       "                    ).then(function(){\n",
       "                            \n",
       "var gd = document.getElementById('e6956254-7091-4686-98d6-84965d79c9c5');\n",
       "var x = new MutationObserver(function (mutations, observer) {{\n",
       "        var display = window.getComputedStyle(gd).display;\n",
       "        if (!display || display === 'none') {{\n",
       "            console.log([gd, 'removed!']);\n",
       "            Plotly.purge(gd);\n",
       "            observer.disconnect();\n",
       "        }}\n",
       "}});\n",
       "\n",
       "// Listen for the removal of the full notebook cells\n",
       "var notebookContainer = gd.closest('#notebook-container');\n",
       "if (notebookContainer) {{\n",
       "    x.observe(notebookContainer, {childList: true});\n",
       "}}\n",
       "\n",
       "// Listen for the clearing of the current output cell\n",
       "var outputEl = gd.closest('.output');\n",
       "if (outputEl) {{\n",
       "    x.observe(outputEl, {childList: true});\n",
       "}}\n",
       "\n",
       "                        })\n",
       "                };\n",
       "                });\n",
       "            </script>\n",
       "        </div>"
      ]
     },
     "metadata": {},
     "output_type": "display_data"
    }
   ],
   "source": [
    "pneumonia_no_disch_df['CATEGORY'].value_counts().sort_values(ascending=False).iplot(kind='bar', yTitle='Number of notes', \n",
    "                                                                title='Number of category kinds in noteevents')"
   ]
  },
  {
   "cell_type": "code",
   "execution_count": 17,
   "metadata": {},
   "outputs": [
    {
     "name": "stdout",
     "output_type": "stream",
     "text": [
      "<class 'pandas.core.frame.DataFrame'>\n",
      "Int64Index: 58029 entries, 59103 to 2066669\n",
      "Data columns (total 8 columns):\n",
      " #   Column        Non-Null Count  Dtype \n",
      "---  ------        --------------  ----- \n",
      " 0   ROW_ID_x      58029 non-null  int64 \n",
      " 1   SUBJECT_ID_x  58029 non-null  int64 \n",
      " 2   CHARTDATE     58029 non-null  object\n",
      " 3   STORETIME     40888 non-null  object\n",
      " 4   CATEGORY      58029 non-null  object\n",
      " 5   DESCRIPTION   58029 non-null  object\n",
      " 6   TEXT          58029 non-null  object\n",
      " 7   DEATHTIME     11895 non-null  object\n",
      "dtypes: int64(2), object(6)\n",
      "memory usage: 4.0+ MB\n"
     ]
    }
   ],
   "source": [
    "pneumonia_no_disch_df.info()"
   ]
  },
  {
   "cell_type": "code",
   "execution_count": 18,
   "metadata": {},
   "outputs": [
    {
     "data": {
      "text/plain": [
       "(58029, 8)"
      ]
     },
     "execution_count": 18,
     "metadata": {},
     "output_type": "execute_result"
    }
   ],
   "source": [
    "pneumonia_no_disch_df.shape"
   ]
  },
  {
   "cell_type": "code",
   "execution_count": 19,
   "metadata": {},
   "outputs": [],
   "source": [
    "pneumonia_alive_no_disch = pneumonia_no_disch_df[pneumonia_no_disch_df.DEATHTIME.isnull()]\n",
    "pneumonia_dead_no_disch = pneumonia_no_disch_df[pneumonia_no_disch_df.DEATHTIME.notnull()]"
   ]
  },
  {
   "cell_type": "code",
   "execution_count": 20,
   "metadata": {},
   "outputs": [
    {
     "data": {
      "text/plain": [
       "(11895, 8)"
      ]
     },
     "execution_count": 20,
     "metadata": {},
     "output_type": "execute_result"
    }
   ],
   "source": [
    "pneumonia_dead_no_disch.shape"
   ]
  },
  {
   "cell_type": "code",
   "execution_count": 21,
   "metadata": {},
   "outputs": [
    {
     "data": {
      "text/plain": [
       "(46134, 8)"
      ]
     },
     "execution_count": 21,
     "metadata": {},
     "output_type": "execute_result"
    }
   ],
   "source": [
    "pneumonia_alive_no_disch.shape"
   ]
  },
  {
   "cell_type": "code",
   "execution_count": 22,
   "metadata": {},
   "outputs": [],
   "source": [
    "pneumonia_alive_no_disch = pneumonia_alive_no_disch.sort_values(by=['SUBJECT_ID_x','CHARTDATE', 'ROW_ID_x'])\n",
    "pneumonia_dead_no_disch = pneumonia_dead_no_disch.sort_values(by=['SUBJECT_ID_x','CHARTDATE', 'ROW_ID_x'])"
   ]
  },
  {
   "cell_type": "code",
   "execution_count": 23,
   "metadata": {},
   "outputs": [
    {
     "data": {
      "application/vnd.plotly.v1+json": {
       "config": {
        "linkText": "Export to plot.ly",
        "plotlyServerURL": "https://plot.ly",
        "showLink": true
       },
       "data": [
        {
         "marker": {
          "color": "rgba(255, 153, 51, 0.6)",
          "line": {
           "color": "rgba(255, 153, 51, 1.0)",
           "width": 1
          }
         },
         "name": "CATEGORY",
         "orientation": "v",
         "text": "",
         "type": "bar",
         "x": [
          "Nursing",
          "Nursing/other",
          "Radiology",
          "Physician ",
          "ECG",
          "Respiratory ",
          "Echo",
          "Nutrition",
          "General",
          "Rehab Services",
          "Case Management ",
          "Social Work",
          "Pharmacy"
         ],
         "y": [
          10574,
          10043,
          9448,
          8431,
          3623,
          1831,
          782,
          489,
          486,
          207,
          106,
          100,
          14
         ]
        }
       ],
       "layout": {
        "legend": {
         "bgcolor": "#F5F6F9",
         "font": {
          "color": "#4D5663"
         }
        },
        "paper_bgcolor": "#F5F6F9",
        "plot_bgcolor": "#F5F6F9",
        "template": {
         "data": {
          "bar": [
           {
            "error_x": {
             "color": "#2a3f5f"
            },
            "error_y": {
             "color": "#2a3f5f"
            },
            "marker": {
             "line": {
              "color": "#E5ECF6",
              "width": 0.5
             }
            },
            "type": "bar"
           }
          ],
          "barpolar": [
           {
            "marker": {
             "line": {
              "color": "#E5ECF6",
              "width": 0.5
             }
            },
            "type": "barpolar"
           }
          ],
          "carpet": [
           {
            "aaxis": {
             "endlinecolor": "#2a3f5f",
             "gridcolor": "white",
             "linecolor": "white",
             "minorgridcolor": "white",
             "startlinecolor": "#2a3f5f"
            },
            "baxis": {
             "endlinecolor": "#2a3f5f",
             "gridcolor": "white",
             "linecolor": "white",
             "minorgridcolor": "white",
             "startlinecolor": "#2a3f5f"
            },
            "type": "carpet"
           }
          ],
          "choropleth": [
           {
            "colorbar": {
             "outlinewidth": 0,
             "ticks": ""
            },
            "type": "choropleth"
           }
          ],
          "contour": [
           {
            "colorbar": {
             "outlinewidth": 0,
             "ticks": ""
            },
            "colorscale": [
             [
              0,
              "#0d0887"
             ],
             [
              0.1111111111111111,
              "#46039f"
             ],
             [
              0.2222222222222222,
              "#7201a8"
             ],
             [
              0.3333333333333333,
              "#9c179e"
             ],
             [
              0.4444444444444444,
              "#bd3786"
             ],
             [
              0.5555555555555556,
              "#d8576b"
             ],
             [
              0.6666666666666666,
              "#ed7953"
             ],
             [
              0.7777777777777778,
              "#fb9f3a"
             ],
             [
              0.8888888888888888,
              "#fdca26"
             ],
             [
              1,
              "#f0f921"
             ]
            ],
            "type": "contour"
           }
          ],
          "contourcarpet": [
           {
            "colorbar": {
             "outlinewidth": 0,
             "ticks": ""
            },
            "type": "contourcarpet"
           }
          ],
          "heatmap": [
           {
            "colorbar": {
             "outlinewidth": 0,
             "ticks": ""
            },
            "colorscale": [
             [
              0,
              "#0d0887"
             ],
             [
              0.1111111111111111,
              "#46039f"
             ],
             [
              0.2222222222222222,
              "#7201a8"
             ],
             [
              0.3333333333333333,
              "#9c179e"
             ],
             [
              0.4444444444444444,
              "#bd3786"
             ],
             [
              0.5555555555555556,
              "#d8576b"
             ],
             [
              0.6666666666666666,
              "#ed7953"
             ],
             [
              0.7777777777777778,
              "#fb9f3a"
             ],
             [
              0.8888888888888888,
              "#fdca26"
             ],
             [
              1,
              "#f0f921"
             ]
            ],
            "type": "heatmap"
           }
          ],
          "heatmapgl": [
           {
            "colorbar": {
             "outlinewidth": 0,
             "ticks": ""
            },
            "colorscale": [
             [
              0,
              "#0d0887"
             ],
             [
              0.1111111111111111,
              "#46039f"
             ],
             [
              0.2222222222222222,
              "#7201a8"
             ],
             [
              0.3333333333333333,
              "#9c179e"
             ],
             [
              0.4444444444444444,
              "#bd3786"
             ],
             [
              0.5555555555555556,
              "#d8576b"
             ],
             [
              0.6666666666666666,
              "#ed7953"
             ],
             [
              0.7777777777777778,
              "#fb9f3a"
             ],
             [
              0.8888888888888888,
              "#fdca26"
             ],
             [
              1,
              "#f0f921"
             ]
            ],
            "type": "heatmapgl"
           }
          ],
          "histogram": [
           {
            "marker": {
             "colorbar": {
              "outlinewidth": 0,
              "ticks": ""
             }
            },
            "type": "histogram"
           }
          ],
          "histogram2d": [
           {
            "colorbar": {
             "outlinewidth": 0,
             "ticks": ""
            },
            "colorscale": [
             [
              0,
              "#0d0887"
             ],
             [
              0.1111111111111111,
              "#46039f"
             ],
             [
              0.2222222222222222,
              "#7201a8"
             ],
             [
              0.3333333333333333,
              "#9c179e"
             ],
             [
              0.4444444444444444,
              "#bd3786"
             ],
             [
              0.5555555555555556,
              "#d8576b"
             ],
             [
              0.6666666666666666,
              "#ed7953"
             ],
             [
              0.7777777777777778,
              "#fb9f3a"
             ],
             [
              0.8888888888888888,
              "#fdca26"
             ],
             [
              1,
              "#f0f921"
             ]
            ],
            "type": "histogram2d"
           }
          ],
          "histogram2dcontour": [
           {
            "colorbar": {
             "outlinewidth": 0,
             "ticks": ""
            },
            "colorscale": [
             [
              0,
              "#0d0887"
             ],
             [
              0.1111111111111111,
              "#46039f"
             ],
             [
              0.2222222222222222,
              "#7201a8"
             ],
             [
              0.3333333333333333,
              "#9c179e"
             ],
             [
              0.4444444444444444,
              "#bd3786"
             ],
             [
              0.5555555555555556,
              "#d8576b"
             ],
             [
              0.6666666666666666,
              "#ed7953"
             ],
             [
              0.7777777777777778,
              "#fb9f3a"
             ],
             [
              0.8888888888888888,
              "#fdca26"
             ],
             [
              1,
              "#f0f921"
             ]
            ],
            "type": "histogram2dcontour"
           }
          ],
          "mesh3d": [
           {
            "colorbar": {
             "outlinewidth": 0,
             "ticks": ""
            },
            "type": "mesh3d"
           }
          ],
          "parcoords": [
           {
            "line": {
             "colorbar": {
              "outlinewidth": 0,
              "ticks": ""
             }
            },
            "type": "parcoords"
           }
          ],
          "pie": [
           {
            "automargin": true,
            "type": "pie"
           }
          ],
          "scatter": [
           {
            "marker": {
             "colorbar": {
              "outlinewidth": 0,
              "ticks": ""
             }
            },
            "type": "scatter"
           }
          ],
          "scatter3d": [
           {
            "line": {
             "colorbar": {
              "outlinewidth": 0,
              "ticks": ""
             }
            },
            "marker": {
             "colorbar": {
              "outlinewidth": 0,
              "ticks": ""
             }
            },
            "type": "scatter3d"
           }
          ],
          "scattercarpet": [
           {
            "marker": {
             "colorbar": {
              "outlinewidth": 0,
              "ticks": ""
             }
            },
            "type": "scattercarpet"
           }
          ],
          "scattergeo": [
           {
            "marker": {
             "colorbar": {
              "outlinewidth": 0,
              "ticks": ""
             }
            },
            "type": "scattergeo"
           }
          ],
          "scattergl": [
           {
            "marker": {
             "colorbar": {
              "outlinewidth": 0,
              "ticks": ""
             }
            },
            "type": "scattergl"
           }
          ],
          "scattermapbox": [
           {
            "marker": {
             "colorbar": {
              "outlinewidth": 0,
              "ticks": ""
             }
            },
            "type": "scattermapbox"
           }
          ],
          "scatterpolar": [
           {
            "marker": {
             "colorbar": {
              "outlinewidth": 0,
              "ticks": ""
             }
            },
            "type": "scatterpolar"
           }
          ],
          "scatterpolargl": [
           {
            "marker": {
             "colorbar": {
              "outlinewidth": 0,
              "ticks": ""
             }
            },
            "type": "scatterpolargl"
           }
          ],
          "scatterternary": [
           {
            "marker": {
             "colorbar": {
              "outlinewidth": 0,
              "ticks": ""
             }
            },
            "type": "scatterternary"
           }
          ],
          "surface": [
           {
            "colorbar": {
             "outlinewidth": 0,
             "ticks": ""
            },
            "colorscale": [
             [
              0,
              "#0d0887"
             ],
             [
              0.1111111111111111,
              "#46039f"
             ],
             [
              0.2222222222222222,
              "#7201a8"
             ],
             [
              0.3333333333333333,
              "#9c179e"
             ],
             [
              0.4444444444444444,
              "#bd3786"
             ],
             [
              0.5555555555555556,
              "#d8576b"
             ],
             [
              0.6666666666666666,
              "#ed7953"
             ],
             [
              0.7777777777777778,
              "#fb9f3a"
             ],
             [
              0.8888888888888888,
              "#fdca26"
             ],
             [
              1,
              "#f0f921"
             ]
            ],
            "type": "surface"
           }
          ],
          "table": [
           {
            "cells": {
             "fill": {
              "color": "#EBF0F8"
             },
             "line": {
              "color": "white"
             }
            },
            "header": {
             "fill": {
              "color": "#C8D4E3"
             },
             "line": {
              "color": "white"
             }
            },
            "type": "table"
           }
          ]
         },
         "layout": {
          "annotationdefaults": {
           "arrowcolor": "#2a3f5f",
           "arrowhead": 0,
           "arrowwidth": 1
          },
          "coloraxis": {
           "colorbar": {
            "outlinewidth": 0,
            "ticks": ""
           }
          },
          "colorscale": {
           "diverging": [
            [
             0,
             "#8e0152"
            ],
            [
             0.1,
             "#c51b7d"
            ],
            [
             0.2,
             "#de77ae"
            ],
            [
             0.3,
             "#f1b6da"
            ],
            [
             0.4,
             "#fde0ef"
            ],
            [
             0.5,
             "#f7f7f7"
            ],
            [
             0.6,
             "#e6f5d0"
            ],
            [
             0.7,
             "#b8e186"
            ],
            [
             0.8,
             "#7fbc41"
            ],
            [
             0.9,
             "#4d9221"
            ],
            [
             1,
             "#276419"
            ]
           ],
           "sequential": [
            [
             0,
             "#0d0887"
            ],
            [
             0.1111111111111111,
             "#46039f"
            ],
            [
             0.2222222222222222,
             "#7201a8"
            ],
            [
             0.3333333333333333,
             "#9c179e"
            ],
            [
             0.4444444444444444,
             "#bd3786"
            ],
            [
             0.5555555555555556,
             "#d8576b"
            ],
            [
             0.6666666666666666,
             "#ed7953"
            ],
            [
             0.7777777777777778,
             "#fb9f3a"
            ],
            [
             0.8888888888888888,
             "#fdca26"
            ],
            [
             1,
             "#f0f921"
            ]
           ],
           "sequentialminus": [
            [
             0,
             "#0d0887"
            ],
            [
             0.1111111111111111,
             "#46039f"
            ],
            [
             0.2222222222222222,
             "#7201a8"
            ],
            [
             0.3333333333333333,
             "#9c179e"
            ],
            [
             0.4444444444444444,
             "#bd3786"
            ],
            [
             0.5555555555555556,
             "#d8576b"
            ],
            [
             0.6666666666666666,
             "#ed7953"
            ],
            [
             0.7777777777777778,
             "#fb9f3a"
            ],
            [
             0.8888888888888888,
             "#fdca26"
            ],
            [
             1,
             "#f0f921"
            ]
           ]
          },
          "colorway": [
           "#636efa",
           "#EF553B",
           "#00cc96",
           "#ab63fa",
           "#FFA15A",
           "#19d3f3",
           "#FF6692",
           "#B6E880",
           "#FF97FF",
           "#FECB52"
          ],
          "font": {
           "color": "#2a3f5f"
          },
          "geo": {
           "bgcolor": "white",
           "lakecolor": "white",
           "landcolor": "#E5ECF6",
           "showlakes": true,
           "showland": true,
           "subunitcolor": "white"
          },
          "hoverlabel": {
           "align": "left"
          },
          "hovermode": "closest",
          "mapbox": {
           "style": "light"
          },
          "paper_bgcolor": "white",
          "plot_bgcolor": "#E5ECF6",
          "polar": {
           "angularaxis": {
            "gridcolor": "white",
            "linecolor": "white",
            "ticks": ""
           },
           "bgcolor": "#E5ECF6",
           "radialaxis": {
            "gridcolor": "white",
            "linecolor": "white",
            "ticks": ""
           }
          },
          "scene": {
           "xaxis": {
            "backgroundcolor": "#E5ECF6",
            "gridcolor": "white",
            "gridwidth": 2,
            "linecolor": "white",
            "showbackground": true,
            "ticks": "",
            "zerolinecolor": "white"
           },
           "yaxis": {
            "backgroundcolor": "#E5ECF6",
            "gridcolor": "white",
            "gridwidth": 2,
            "linecolor": "white",
            "showbackground": true,
            "ticks": "",
            "zerolinecolor": "white"
           },
           "zaxis": {
            "backgroundcolor": "#E5ECF6",
            "gridcolor": "white",
            "gridwidth": 2,
            "linecolor": "white",
            "showbackground": true,
            "ticks": "",
            "zerolinecolor": "white"
           }
          },
          "shapedefaults": {
           "line": {
            "color": "#2a3f5f"
           }
          },
          "ternary": {
           "aaxis": {
            "gridcolor": "white",
            "linecolor": "white",
            "ticks": ""
           },
           "baxis": {
            "gridcolor": "white",
            "linecolor": "white",
            "ticks": ""
           },
           "bgcolor": "#E5ECF6",
           "caxis": {
            "gridcolor": "white",
            "linecolor": "white",
            "ticks": ""
           }
          },
          "title": {
           "x": 0.05
          },
          "xaxis": {
           "automargin": true,
           "gridcolor": "white",
           "linecolor": "white",
           "ticks": "",
           "title": {
            "standoff": 15
           },
           "zerolinecolor": "white",
           "zerolinewidth": 2
          },
          "yaxis": {
           "automargin": true,
           "gridcolor": "white",
           "linecolor": "white",
           "ticks": "",
           "title": {
            "standoff": 15
           },
           "zerolinecolor": "white",
           "zerolinewidth": 2
          }
         }
        },
        "title": {
         "font": {
          "color": "#4D5663"
         },
         "text": "Number of category kinds in pneumonia alive"
        },
        "xaxis": {
         "gridcolor": "#E1E5ED",
         "showgrid": true,
         "tickfont": {
          "color": "#4D5663"
         },
         "title": {
          "font": {
           "color": "#4D5663"
          },
          "text": ""
         },
         "zerolinecolor": "#E1E5ED"
        },
        "yaxis": {
         "gridcolor": "#E1E5ED",
         "showgrid": true,
         "tickfont": {
          "color": "#4D5663"
         },
         "title": {
          "font": {
           "color": "#4D5663"
          },
          "text": "Number of notes"
         },
         "zerolinecolor": "#E1E5ED"
        }
       }
      },
      "text/html": [
       "<div>\n",
       "        \n",
       "        \n",
       "            <div id=\"f4c6719c-6f77-4843-9078-34150c583292\" class=\"plotly-graph-div\" style=\"height:525px; width:100%;\"></div>\n",
       "            <script type=\"text/javascript\">\n",
       "                require([\"plotly\"], function(Plotly) {\n",
       "                    window.PLOTLYENV=window.PLOTLYENV || {};\n",
       "                    window.PLOTLYENV.BASE_URL='https://plot.ly';\n",
       "                    \n",
       "                if (document.getElementById(\"f4c6719c-6f77-4843-9078-34150c583292\")) {\n",
       "                    Plotly.newPlot(\n",
       "                        'f4c6719c-6f77-4843-9078-34150c583292',\n",
       "                        [{\"marker\": {\"color\": \"rgba(255, 153, 51, 0.6)\", \"line\": {\"color\": \"rgba(255, 153, 51, 1.0)\", \"width\": 1}}, \"name\": \"CATEGORY\", \"orientation\": \"v\", \"text\": \"\", \"type\": \"bar\", \"x\": [\"Nursing\", \"Nursing/other\", \"Radiology\", \"Physician \", \"ECG\", \"Respiratory \", \"Echo\", \"Nutrition\", \"General\", \"Rehab Services\", \"Case Management \", \"Social Work\", \"Pharmacy\"], \"y\": [10574, 10043, 9448, 8431, 3623, 1831, 782, 489, 486, 207, 106, 100, 14]}],\n",
       "                        {\"legend\": {\"bgcolor\": \"#F5F6F9\", \"font\": {\"color\": \"#4D5663\"}}, \"paper_bgcolor\": \"#F5F6F9\", \"plot_bgcolor\": \"#F5F6F9\", \"template\": {\"data\": {\"bar\": [{\"error_x\": {\"color\": \"#2a3f5f\"}, \"error_y\": {\"color\": \"#2a3f5f\"}, \"marker\": {\"line\": {\"color\": \"#E5ECF6\", \"width\": 0.5}}, \"type\": \"bar\"}], \"barpolar\": [{\"marker\": {\"line\": {\"color\": \"#E5ECF6\", \"width\": 0.5}}, \"type\": \"barpolar\"}], \"carpet\": [{\"aaxis\": {\"endlinecolor\": \"#2a3f5f\", \"gridcolor\": \"white\", \"linecolor\": \"white\", \"minorgridcolor\": \"white\", \"startlinecolor\": \"#2a3f5f\"}, \"baxis\": {\"endlinecolor\": \"#2a3f5f\", \"gridcolor\": \"white\", \"linecolor\": \"white\", \"minorgridcolor\": \"white\", \"startlinecolor\": \"#2a3f5f\"}, \"type\": \"carpet\"}], \"choropleth\": [{\"colorbar\": {\"outlinewidth\": 0, \"ticks\": \"\"}, \"type\": \"choropleth\"}], \"contour\": [{\"colorbar\": {\"outlinewidth\": 0, \"ticks\": \"\"}, \"colorscale\": [[0.0, \"#0d0887\"], [0.1111111111111111, \"#46039f\"], [0.2222222222222222, \"#7201a8\"], [0.3333333333333333, \"#9c179e\"], [0.4444444444444444, \"#bd3786\"], [0.5555555555555556, \"#d8576b\"], [0.6666666666666666, \"#ed7953\"], [0.7777777777777778, \"#fb9f3a\"], [0.8888888888888888, \"#fdca26\"], [1.0, \"#f0f921\"]], \"type\": \"contour\"}], \"contourcarpet\": [{\"colorbar\": {\"outlinewidth\": 0, \"ticks\": \"\"}, \"type\": \"contourcarpet\"}], \"heatmap\": [{\"colorbar\": {\"outlinewidth\": 0, \"ticks\": \"\"}, \"colorscale\": [[0.0, \"#0d0887\"], [0.1111111111111111, \"#46039f\"], [0.2222222222222222, \"#7201a8\"], [0.3333333333333333, \"#9c179e\"], [0.4444444444444444, \"#bd3786\"], [0.5555555555555556, \"#d8576b\"], [0.6666666666666666, \"#ed7953\"], [0.7777777777777778, \"#fb9f3a\"], [0.8888888888888888, \"#fdca26\"], [1.0, \"#f0f921\"]], \"type\": \"heatmap\"}], \"heatmapgl\": [{\"colorbar\": {\"outlinewidth\": 0, \"ticks\": \"\"}, \"colorscale\": [[0.0, \"#0d0887\"], [0.1111111111111111, \"#46039f\"], [0.2222222222222222, \"#7201a8\"], [0.3333333333333333, \"#9c179e\"], [0.4444444444444444, \"#bd3786\"], [0.5555555555555556, \"#d8576b\"], [0.6666666666666666, \"#ed7953\"], [0.7777777777777778, \"#fb9f3a\"], [0.8888888888888888, \"#fdca26\"], [1.0, \"#f0f921\"]], \"type\": \"heatmapgl\"}], \"histogram\": [{\"marker\": {\"colorbar\": {\"outlinewidth\": 0, \"ticks\": \"\"}}, \"type\": \"histogram\"}], \"histogram2d\": [{\"colorbar\": {\"outlinewidth\": 0, \"ticks\": \"\"}, \"colorscale\": [[0.0, \"#0d0887\"], [0.1111111111111111, \"#46039f\"], [0.2222222222222222, \"#7201a8\"], [0.3333333333333333, \"#9c179e\"], [0.4444444444444444, \"#bd3786\"], [0.5555555555555556, \"#d8576b\"], [0.6666666666666666, \"#ed7953\"], [0.7777777777777778, \"#fb9f3a\"], [0.8888888888888888, \"#fdca26\"], [1.0, \"#f0f921\"]], \"type\": \"histogram2d\"}], \"histogram2dcontour\": [{\"colorbar\": {\"outlinewidth\": 0, \"ticks\": \"\"}, \"colorscale\": [[0.0, \"#0d0887\"], [0.1111111111111111, \"#46039f\"], [0.2222222222222222, \"#7201a8\"], [0.3333333333333333, \"#9c179e\"], [0.4444444444444444, \"#bd3786\"], [0.5555555555555556, \"#d8576b\"], [0.6666666666666666, \"#ed7953\"], [0.7777777777777778, \"#fb9f3a\"], [0.8888888888888888, \"#fdca26\"], [1.0, \"#f0f921\"]], \"type\": \"histogram2dcontour\"}], \"mesh3d\": [{\"colorbar\": {\"outlinewidth\": 0, \"ticks\": \"\"}, \"type\": \"mesh3d\"}], \"parcoords\": [{\"line\": {\"colorbar\": {\"outlinewidth\": 0, \"ticks\": \"\"}}, \"type\": \"parcoords\"}], \"pie\": [{\"automargin\": true, \"type\": \"pie\"}], \"scatter\": [{\"marker\": {\"colorbar\": {\"outlinewidth\": 0, \"ticks\": \"\"}}, \"type\": \"scatter\"}], \"scatter3d\": [{\"line\": {\"colorbar\": {\"outlinewidth\": 0, \"ticks\": \"\"}}, \"marker\": {\"colorbar\": {\"outlinewidth\": 0, \"ticks\": \"\"}}, \"type\": \"scatter3d\"}], \"scattercarpet\": [{\"marker\": {\"colorbar\": {\"outlinewidth\": 0, \"ticks\": \"\"}}, \"type\": \"scattercarpet\"}], \"scattergeo\": [{\"marker\": {\"colorbar\": {\"outlinewidth\": 0, \"ticks\": \"\"}}, \"type\": \"scattergeo\"}], \"scattergl\": [{\"marker\": {\"colorbar\": {\"outlinewidth\": 0, \"ticks\": \"\"}}, \"type\": \"scattergl\"}], \"scattermapbox\": [{\"marker\": {\"colorbar\": {\"outlinewidth\": 0, \"ticks\": \"\"}}, \"type\": \"scattermapbox\"}], \"scatterpolar\": [{\"marker\": {\"colorbar\": {\"outlinewidth\": 0, \"ticks\": \"\"}}, \"type\": \"scatterpolar\"}], \"scatterpolargl\": [{\"marker\": {\"colorbar\": {\"outlinewidth\": 0, \"ticks\": \"\"}}, \"type\": \"scatterpolargl\"}], \"scatterternary\": [{\"marker\": {\"colorbar\": {\"outlinewidth\": 0, \"ticks\": \"\"}}, \"type\": \"scatterternary\"}], \"surface\": [{\"colorbar\": {\"outlinewidth\": 0, \"ticks\": \"\"}, \"colorscale\": [[0.0, \"#0d0887\"], [0.1111111111111111, \"#46039f\"], [0.2222222222222222, \"#7201a8\"], [0.3333333333333333, \"#9c179e\"], [0.4444444444444444, \"#bd3786\"], [0.5555555555555556, \"#d8576b\"], [0.6666666666666666, \"#ed7953\"], [0.7777777777777778, \"#fb9f3a\"], [0.8888888888888888, \"#fdca26\"], [1.0, \"#f0f921\"]], \"type\": \"surface\"}], \"table\": [{\"cells\": {\"fill\": {\"color\": \"#EBF0F8\"}, \"line\": {\"color\": \"white\"}}, \"header\": {\"fill\": {\"color\": \"#C8D4E3\"}, \"line\": {\"color\": \"white\"}}, \"type\": \"table\"}]}, \"layout\": {\"annotationdefaults\": {\"arrowcolor\": \"#2a3f5f\", \"arrowhead\": 0, \"arrowwidth\": 1}, \"coloraxis\": {\"colorbar\": {\"outlinewidth\": 0, \"ticks\": \"\"}}, \"colorscale\": {\"diverging\": [[0, \"#8e0152\"], [0.1, \"#c51b7d\"], [0.2, \"#de77ae\"], [0.3, \"#f1b6da\"], [0.4, \"#fde0ef\"], [0.5, \"#f7f7f7\"], [0.6, \"#e6f5d0\"], [0.7, \"#b8e186\"], [0.8, \"#7fbc41\"], [0.9, \"#4d9221\"], [1, \"#276419\"]], \"sequential\": [[0.0, \"#0d0887\"], [0.1111111111111111, \"#46039f\"], [0.2222222222222222, \"#7201a8\"], [0.3333333333333333, \"#9c179e\"], [0.4444444444444444, \"#bd3786\"], [0.5555555555555556, \"#d8576b\"], [0.6666666666666666, \"#ed7953\"], [0.7777777777777778, \"#fb9f3a\"], [0.8888888888888888, \"#fdca26\"], [1.0, \"#f0f921\"]], \"sequentialminus\": [[0.0, \"#0d0887\"], [0.1111111111111111, \"#46039f\"], [0.2222222222222222, \"#7201a8\"], [0.3333333333333333, \"#9c179e\"], [0.4444444444444444, \"#bd3786\"], [0.5555555555555556, \"#d8576b\"], [0.6666666666666666, \"#ed7953\"], [0.7777777777777778, \"#fb9f3a\"], [0.8888888888888888, \"#fdca26\"], [1.0, \"#f0f921\"]]}, \"colorway\": [\"#636efa\", \"#EF553B\", \"#00cc96\", \"#ab63fa\", \"#FFA15A\", \"#19d3f3\", \"#FF6692\", \"#B6E880\", \"#FF97FF\", \"#FECB52\"], \"font\": {\"color\": \"#2a3f5f\"}, \"geo\": {\"bgcolor\": \"white\", \"lakecolor\": \"white\", \"landcolor\": \"#E5ECF6\", \"showlakes\": true, \"showland\": true, \"subunitcolor\": \"white\"}, \"hoverlabel\": {\"align\": \"left\"}, \"hovermode\": \"closest\", \"mapbox\": {\"style\": \"light\"}, \"paper_bgcolor\": \"white\", \"plot_bgcolor\": \"#E5ECF6\", \"polar\": {\"angularaxis\": {\"gridcolor\": \"white\", \"linecolor\": \"white\", \"ticks\": \"\"}, \"bgcolor\": \"#E5ECF6\", \"radialaxis\": {\"gridcolor\": \"white\", \"linecolor\": \"white\", \"ticks\": \"\"}}, \"scene\": {\"xaxis\": {\"backgroundcolor\": \"#E5ECF6\", \"gridcolor\": \"white\", \"gridwidth\": 2, \"linecolor\": \"white\", \"showbackground\": true, \"ticks\": \"\", \"zerolinecolor\": \"white\"}, \"yaxis\": {\"backgroundcolor\": \"#E5ECF6\", \"gridcolor\": \"white\", \"gridwidth\": 2, \"linecolor\": \"white\", \"showbackground\": true, \"ticks\": \"\", \"zerolinecolor\": \"white\"}, \"zaxis\": {\"backgroundcolor\": \"#E5ECF6\", \"gridcolor\": \"white\", \"gridwidth\": 2, \"linecolor\": \"white\", \"showbackground\": true, \"ticks\": \"\", \"zerolinecolor\": \"white\"}}, \"shapedefaults\": {\"line\": {\"color\": \"#2a3f5f\"}}, \"ternary\": {\"aaxis\": {\"gridcolor\": \"white\", \"linecolor\": \"white\", \"ticks\": \"\"}, \"baxis\": {\"gridcolor\": \"white\", \"linecolor\": \"white\", \"ticks\": \"\"}, \"bgcolor\": \"#E5ECF6\", \"caxis\": {\"gridcolor\": \"white\", \"linecolor\": \"white\", \"ticks\": \"\"}}, \"title\": {\"x\": 0.05}, \"xaxis\": {\"automargin\": true, \"gridcolor\": \"white\", \"linecolor\": \"white\", \"ticks\": \"\", \"title\": {\"standoff\": 15}, \"zerolinecolor\": \"white\", \"zerolinewidth\": 2}, \"yaxis\": {\"automargin\": true, \"gridcolor\": \"white\", \"linecolor\": \"white\", \"ticks\": \"\", \"title\": {\"standoff\": 15}, \"zerolinecolor\": \"white\", \"zerolinewidth\": 2}}}, \"title\": {\"font\": {\"color\": \"#4D5663\"}, \"text\": \"Number of category kinds in pneumonia alive\"}, \"xaxis\": {\"gridcolor\": \"#E1E5ED\", \"showgrid\": true, \"tickfont\": {\"color\": \"#4D5663\"}, \"title\": {\"font\": {\"color\": \"#4D5663\"}, \"text\": \"\"}, \"zerolinecolor\": \"#E1E5ED\"}, \"yaxis\": {\"gridcolor\": \"#E1E5ED\", \"showgrid\": true, \"tickfont\": {\"color\": \"#4D5663\"}, \"title\": {\"font\": {\"color\": \"#4D5663\"}, \"text\": \"Number of notes\"}, \"zerolinecolor\": \"#E1E5ED\"}},\n",
       "                        {\"showLink\": true, \"linkText\": \"Export to plot.ly\", \"plotlyServerURL\": \"https://plot.ly\", \"responsive\": true}\n",
       "                    ).then(function(){\n",
       "                            \n",
       "var gd = document.getElementById('f4c6719c-6f77-4843-9078-34150c583292');\n",
       "var x = new MutationObserver(function (mutations, observer) {{\n",
       "        var display = window.getComputedStyle(gd).display;\n",
       "        if (!display || display === 'none') {{\n",
       "            console.log([gd, 'removed!']);\n",
       "            Plotly.purge(gd);\n",
       "            observer.disconnect();\n",
       "        }}\n",
       "}});\n",
       "\n",
       "// Listen for the removal of the full notebook cells\n",
       "var notebookContainer = gd.closest('#notebook-container');\n",
       "if (notebookContainer) {{\n",
       "    x.observe(notebookContainer, {childList: true});\n",
       "}}\n",
       "\n",
       "// Listen for the clearing of the current output cell\n",
       "var outputEl = gd.closest('.output');\n",
       "if (outputEl) {{\n",
       "    x.observe(outputEl, {childList: true});\n",
       "}}\n",
       "\n",
       "                        })\n",
       "                };\n",
       "                });\n",
       "            </script>\n",
       "        </div>"
      ]
     },
     "metadata": {},
     "output_type": "display_data"
    }
   ],
   "source": [
    "pneumonia_alive_no_disch['CATEGORY'].value_counts().sort_values(ascending=False).iplot(kind='bar', yTitle='Number of notes', \n",
    "                                                                title='Number of category kinds in pneumonia alive')"
   ]
  },
  {
   "cell_type": "code",
   "execution_count": 24,
   "metadata": {
    "scrolled": false
   },
   "outputs": [
    {
     "data": {
      "application/vnd.plotly.v1+json": {
       "config": {
        "linkText": "Export to plot.ly",
        "plotlyServerURL": "https://plot.ly",
        "showLink": true
       },
       "data": [
        {
         "marker": {
          "color": "rgba(255, 153, 51, 0.6)",
          "line": {
           "color": "rgba(255, 153, 51, 1.0)",
           "width": 1
          }
         },
         "name": "CATEGORY",
         "orientation": "v",
         "text": "",
         "type": "bar",
         "x": [
          "Nursing",
          "Nursing/other",
          "Radiology",
          "Physician ",
          "ECG",
          "Respiratory ",
          "General",
          "Echo",
          "Nutrition",
          "Social Work",
          "Case Management ",
          "Rehab Services",
          "Pharmacy",
          "Consult"
         ],
         "y": [
          2682,
          2650,
          2275,
          2212,
          846,
          623,
          194,
          167,
          149,
          42,
          29,
          24,
          1,
          1
         ]
        }
       ],
       "layout": {
        "legend": {
         "bgcolor": "#F5F6F9",
         "font": {
          "color": "#4D5663"
         }
        },
        "paper_bgcolor": "#F5F6F9",
        "plot_bgcolor": "#F5F6F9",
        "template": {
         "data": {
          "bar": [
           {
            "error_x": {
             "color": "#2a3f5f"
            },
            "error_y": {
             "color": "#2a3f5f"
            },
            "marker": {
             "line": {
              "color": "#E5ECF6",
              "width": 0.5
             }
            },
            "type": "bar"
           }
          ],
          "barpolar": [
           {
            "marker": {
             "line": {
              "color": "#E5ECF6",
              "width": 0.5
             }
            },
            "type": "barpolar"
           }
          ],
          "carpet": [
           {
            "aaxis": {
             "endlinecolor": "#2a3f5f",
             "gridcolor": "white",
             "linecolor": "white",
             "minorgridcolor": "white",
             "startlinecolor": "#2a3f5f"
            },
            "baxis": {
             "endlinecolor": "#2a3f5f",
             "gridcolor": "white",
             "linecolor": "white",
             "minorgridcolor": "white",
             "startlinecolor": "#2a3f5f"
            },
            "type": "carpet"
           }
          ],
          "choropleth": [
           {
            "colorbar": {
             "outlinewidth": 0,
             "ticks": ""
            },
            "type": "choropleth"
           }
          ],
          "contour": [
           {
            "colorbar": {
             "outlinewidth": 0,
             "ticks": ""
            },
            "colorscale": [
             [
              0,
              "#0d0887"
             ],
             [
              0.1111111111111111,
              "#46039f"
             ],
             [
              0.2222222222222222,
              "#7201a8"
             ],
             [
              0.3333333333333333,
              "#9c179e"
             ],
             [
              0.4444444444444444,
              "#bd3786"
             ],
             [
              0.5555555555555556,
              "#d8576b"
             ],
             [
              0.6666666666666666,
              "#ed7953"
             ],
             [
              0.7777777777777778,
              "#fb9f3a"
             ],
             [
              0.8888888888888888,
              "#fdca26"
             ],
             [
              1,
              "#f0f921"
             ]
            ],
            "type": "contour"
           }
          ],
          "contourcarpet": [
           {
            "colorbar": {
             "outlinewidth": 0,
             "ticks": ""
            },
            "type": "contourcarpet"
           }
          ],
          "heatmap": [
           {
            "colorbar": {
             "outlinewidth": 0,
             "ticks": ""
            },
            "colorscale": [
             [
              0,
              "#0d0887"
             ],
             [
              0.1111111111111111,
              "#46039f"
             ],
             [
              0.2222222222222222,
              "#7201a8"
             ],
             [
              0.3333333333333333,
              "#9c179e"
             ],
             [
              0.4444444444444444,
              "#bd3786"
             ],
             [
              0.5555555555555556,
              "#d8576b"
             ],
             [
              0.6666666666666666,
              "#ed7953"
             ],
             [
              0.7777777777777778,
              "#fb9f3a"
             ],
             [
              0.8888888888888888,
              "#fdca26"
             ],
             [
              1,
              "#f0f921"
             ]
            ],
            "type": "heatmap"
           }
          ],
          "heatmapgl": [
           {
            "colorbar": {
             "outlinewidth": 0,
             "ticks": ""
            },
            "colorscale": [
             [
              0,
              "#0d0887"
             ],
             [
              0.1111111111111111,
              "#46039f"
             ],
             [
              0.2222222222222222,
              "#7201a8"
             ],
             [
              0.3333333333333333,
              "#9c179e"
             ],
             [
              0.4444444444444444,
              "#bd3786"
             ],
             [
              0.5555555555555556,
              "#d8576b"
             ],
             [
              0.6666666666666666,
              "#ed7953"
             ],
             [
              0.7777777777777778,
              "#fb9f3a"
             ],
             [
              0.8888888888888888,
              "#fdca26"
             ],
             [
              1,
              "#f0f921"
             ]
            ],
            "type": "heatmapgl"
           }
          ],
          "histogram": [
           {
            "marker": {
             "colorbar": {
              "outlinewidth": 0,
              "ticks": ""
             }
            },
            "type": "histogram"
           }
          ],
          "histogram2d": [
           {
            "colorbar": {
             "outlinewidth": 0,
             "ticks": ""
            },
            "colorscale": [
             [
              0,
              "#0d0887"
             ],
             [
              0.1111111111111111,
              "#46039f"
             ],
             [
              0.2222222222222222,
              "#7201a8"
             ],
             [
              0.3333333333333333,
              "#9c179e"
             ],
             [
              0.4444444444444444,
              "#bd3786"
             ],
             [
              0.5555555555555556,
              "#d8576b"
             ],
             [
              0.6666666666666666,
              "#ed7953"
             ],
             [
              0.7777777777777778,
              "#fb9f3a"
             ],
             [
              0.8888888888888888,
              "#fdca26"
             ],
             [
              1,
              "#f0f921"
             ]
            ],
            "type": "histogram2d"
           }
          ],
          "histogram2dcontour": [
           {
            "colorbar": {
             "outlinewidth": 0,
             "ticks": ""
            },
            "colorscale": [
             [
              0,
              "#0d0887"
             ],
             [
              0.1111111111111111,
              "#46039f"
             ],
             [
              0.2222222222222222,
              "#7201a8"
             ],
             [
              0.3333333333333333,
              "#9c179e"
             ],
             [
              0.4444444444444444,
              "#bd3786"
             ],
             [
              0.5555555555555556,
              "#d8576b"
             ],
             [
              0.6666666666666666,
              "#ed7953"
             ],
             [
              0.7777777777777778,
              "#fb9f3a"
             ],
             [
              0.8888888888888888,
              "#fdca26"
             ],
             [
              1,
              "#f0f921"
             ]
            ],
            "type": "histogram2dcontour"
           }
          ],
          "mesh3d": [
           {
            "colorbar": {
             "outlinewidth": 0,
             "ticks": ""
            },
            "type": "mesh3d"
           }
          ],
          "parcoords": [
           {
            "line": {
             "colorbar": {
              "outlinewidth": 0,
              "ticks": ""
             }
            },
            "type": "parcoords"
           }
          ],
          "pie": [
           {
            "automargin": true,
            "type": "pie"
           }
          ],
          "scatter": [
           {
            "marker": {
             "colorbar": {
              "outlinewidth": 0,
              "ticks": ""
             }
            },
            "type": "scatter"
           }
          ],
          "scatter3d": [
           {
            "line": {
             "colorbar": {
              "outlinewidth": 0,
              "ticks": ""
             }
            },
            "marker": {
             "colorbar": {
              "outlinewidth": 0,
              "ticks": ""
             }
            },
            "type": "scatter3d"
           }
          ],
          "scattercarpet": [
           {
            "marker": {
             "colorbar": {
              "outlinewidth": 0,
              "ticks": ""
             }
            },
            "type": "scattercarpet"
           }
          ],
          "scattergeo": [
           {
            "marker": {
             "colorbar": {
              "outlinewidth": 0,
              "ticks": ""
             }
            },
            "type": "scattergeo"
           }
          ],
          "scattergl": [
           {
            "marker": {
             "colorbar": {
              "outlinewidth": 0,
              "ticks": ""
             }
            },
            "type": "scattergl"
           }
          ],
          "scattermapbox": [
           {
            "marker": {
             "colorbar": {
              "outlinewidth": 0,
              "ticks": ""
             }
            },
            "type": "scattermapbox"
           }
          ],
          "scatterpolar": [
           {
            "marker": {
             "colorbar": {
              "outlinewidth": 0,
              "ticks": ""
             }
            },
            "type": "scatterpolar"
           }
          ],
          "scatterpolargl": [
           {
            "marker": {
             "colorbar": {
              "outlinewidth": 0,
              "ticks": ""
             }
            },
            "type": "scatterpolargl"
           }
          ],
          "scatterternary": [
           {
            "marker": {
             "colorbar": {
              "outlinewidth": 0,
              "ticks": ""
             }
            },
            "type": "scatterternary"
           }
          ],
          "surface": [
           {
            "colorbar": {
             "outlinewidth": 0,
             "ticks": ""
            },
            "colorscale": [
             [
              0,
              "#0d0887"
             ],
             [
              0.1111111111111111,
              "#46039f"
             ],
             [
              0.2222222222222222,
              "#7201a8"
             ],
             [
              0.3333333333333333,
              "#9c179e"
             ],
             [
              0.4444444444444444,
              "#bd3786"
             ],
             [
              0.5555555555555556,
              "#d8576b"
             ],
             [
              0.6666666666666666,
              "#ed7953"
             ],
             [
              0.7777777777777778,
              "#fb9f3a"
             ],
             [
              0.8888888888888888,
              "#fdca26"
             ],
             [
              1,
              "#f0f921"
             ]
            ],
            "type": "surface"
           }
          ],
          "table": [
           {
            "cells": {
             "fill": {
              "color": "#EBF0F8"
             },
             "line": {
              "color": "white"
             }
            },
            "header": {
             "fill": {
              "color": "#C8D4E3"
             },
             "line": {
              "color": "white"
             }
            },
            "type": "table"
           }
          ]
         },
         "layout": {
          "annotationdefaults": {
           "arrowcolor": "#2a3f5f",
           "arrowhead": 0,
           "arrowwidth": 1
          },
          "coloraxis": {
           "colorbar": {
            "outlinewidth": 0,
            "ticks": ""
           }
          },
          "colorscale": {
           "diverging": [
            [
             0,
             "#8e0152"
            ],
            [
             0.1,
             "#c51b7d"
            ],
            [
             0.2,
             "#de77ae"
            ],
            [
             0.3,
             "#f1b6da"
            ],
            [
             0.4,
             "#fde0ef"
            ],
            [
             0.5,
             "#f7f7f7"
            ],
            [
             0.6,
             "#e6f5d0"
            ],
            [
             0.7,
             "#b8e186"
            ],
            [
             0.8,
             "#7fbc41"
            ],
            [
             0.9,
             "#4d9221"
            ],
            [
             1,
             "#276419"
            ]
           ],
           "sequential": [
            [
             0,
             "#0d0887"
            ],
            [
             0.1111111111111111,
             "#46039f"
            ],
            [
             0.2222222222222222,
             "#7201a8"
            ],
            [
             0.3333333333333333,
             "#9c179e"
            ],
            [
             0.4444444444444444,
             "#bd3786"
            ],
            [
             0.5555555555555556,
             "#d8576b"
            ],
            [
             0.6666666666666666,
             "#ed7953"
            ],
            [
             0.7777777777777778,
             "#fb9f3a"
            ],
            [
             0.8888888888888888,
             "#fdca26"
            ],
            [
             1,
             "#f0f921"
            ]
           ],
           "sequentialminus": [
            [
             0,
             "#0d0887"
            ],
            [
             0.1111111111111111,
             "#46039f"
            ],
            [
             0.2222222222222222,
             "#7201a8"
            ],
            [
             0.3333333333333333,
             "#9c179e"
            ],
            [
             0.4444444444444444,
             "#bd3786"
            ],
            [
             0.5555555555555556,
             "#d8576b"
            ],
            [
             0.6666666666666666,
             "#ed7953"
            ],
            [
             0.7777777777777778,
             "#fb9f3a"
            ],
            [
             0.8888888888888888,
             "#fdca26"
            ],
            [
             1,
             "#f0f921"
            ]
           ]
          },
          "colorway": [
           "#636efa",
           "#EF553B",
           "#00cc96",
           "#ab63fa",
           "#FFA15A",
           "#19d3f3",
           "#FF6692",
           "#B6E880",
           "#FF97FF",
           "#FECB52"
          ],
          "font": {
           "color": "#2a3f5f"
          },
          "geo": {
           "bgcolor": "white",
           "lakecolor": "white",
           "landcolor": "#E5ECF6",
           "showlakes": true,
           "showland": true,
           "subunitcolor": "white"
          },
          "hoverlabel": {
           "align": "left"
          },
          "hovermode": "closest",
          "mapbox": {
           "style": "light"
          },
          "paper_bgcolor": "white",
          "plot_bgcolor": "#E5ECF6",
          "polar": {
           "angularaxis": {
            "gridcolor": "white",
            "linecolor": "white",
            "ticks": ""
           },
           "bgcolor": "#E5ECF6",
           "radialaxis": {
            "gridcolor": "white",
            "linecolor": "white",
            "ticks": ""
           }
          },
          "scene": {
           "xaxis": {
            "backgroundcolor": "#E5ECF6",
            "gridcolor": "white",
            "gridwidth": 2,
            "linecolor": "white",
            "showbackground": true,
            "ticks": "",
            "zerolinecolor": "white"
           },
           "yaxis": {
            "backgroundcolor": "#E5ECF6",
            "gridcolor": "white",
            "gridwidth": 2,
            "linecolor": "white",
            "showbackground": true,
            "ticks": "",
            "zerolinecolor": "white"
           },
           "zaxis": {
            "backgroundcolor": "#E5ECF6",
            "gridcolor": "white",
            "gridwidth": 2,
            "linecolor": "white",
            "showbackground": true,
            "ticks": "",
            "zerolinecolor": "white"
           }
          },
          "shapedefaults": {
           "line": {
            "color": "#2a3f5f"
           }
          },
          "ternary": {
           "aaxis": {
            "gridcolor": "white",
            "linecolor": "white",
            "ticks": ""
           },
           "baxis": {
            "gridcolor": "white",
            "linecolor": "white",
            "ticks": ""
           },
           "bgcolor": "#E5ECF6",
           "caxis": {
            "gridcolor": "white",
            "linecolor": "white",
            "ticks": ""
           }
          },
          "title": {
           "x": 0.05
          },
          "xaxis": {
           "automargin": true,
           "gridcolor": "white",
           "linecolor": "white",
           "ticks": "",
           "title": {
            "standoff": 15
           },
           "zerolinecolor": "white",
           "zerolinewidth": 2
          },
          "yaxis": {
           "automargin": true,
           "gridcolor": "white",
           "linecolor": "white",
           "ticks": "",
           "title": {
            "standoff": 15
           },
           "zerolinecolor": "white",
           "zerolinewidth": 2
          }
         }
        },
        "title": {
         "font": {
          "color": "#4D5663"
         },
         "text": "Number of category kinds in pneumonia alive"
        },
        "xaxis": {
         "gridcolor": "#E1E5ED",
         "showgrid": true,
         "tickfont": {
          "color": "#4D5663"
         },
         "title": {
          "font": {
           "color": "#4D5663"
          },
          "text": ""
         },
         "zerolinecolor": "#E1E5ED"
        },
        "yaxis": {
         "gridcolor": "#E1E5ED",
         "showgrid": true,
         "tickfont": {
          "color": "#4D5663"
         },
         "title": {
          "font": {
           "color": "#4D5663"
          },
          "text": "Number of notes"
         },
         "zerolinecolor": "#E1E5ED"
        }
       }
      },
      "text/html": [
       "<div>\n",
       "        \n",
       "        \n",
       "            <div id=\"7136ecce-2ac9-4439-a968-02b9c0ed716b\" class=\"plotly-graph-div\" style=\"height:525px; width:100%;\"></div>\n",
       "            <script type=\"text/javascript\">\n",
       "                require([\"plotly\"], function(Plotly) {\n",
       "                    window.PLOTLYENV=window.PLOTLYENV || {};\n",
       "                    window.PLOTLYENV.BASE_URL='https://plot.ly';\n",
       "                    \n",
       "                if (document.getElementById(\"7136ecce-2ac9-4439-a968-02b9c0ed716b\")) {\n",
       "                    Plotly.newPlot(\n",
       "                        '7136ecce-2ac9-4439-a968-02b9c0ed716b',\n",
       "                        [{\"marker\": {\"color\": \"rgba(255, 153, 51, 0.6)\", \"line\": {\"color\": \"rgba(255, 153, 51, 1.0)\", \"width\": 1}}, \"name\": \"CATEGORY\", \"orientation\": \"v\", \"text\": \"\", \"type\": \"bar\", \"x\": [\"Nursing\", \"Nursing/other\", \"Radiology\", \"Physician \", \"ECG\", \"Respiratory \", \"General\", \"Echo\", \"Nutrition\", \"Social Work\", \"Case Management \", \"Rehab Services\", \"Pharmacy\", \"Consult\"], \"y\": [2682, 2650, 2275, 2212, 846, 623, 194, 167, 149, 42, 29, 24, 1, 1]}],\n",
       "                        {\"legend\": {\"bgcolor\": \"#F5F6F9\", \"font\": {\"color\": \"#4D5663\"}}, \"paper_bgcolor\": \"#F5F6F9\", \"plot_bgcolor\": \"#F5F6F9\", \"template\": {\"data\": {\"bar\": [{\"error_x\": {\"color\": \"#2a3f5f\"}, \"error_y\": {\"color\": \"#2a3f5f\"}, \"marker\": {\"line\": {\"color\": \"#E5ECF6\", \"width\": 0.5}}, \"type\": \"bar\"}], \"barpolar\": [{\"marker\": {\"line\": {\"color\": \"#E5ECF6\", \"width\": 0.5}}, \"type\": \"barpolar\"}], \"carpet\": [{\"aaxis\": {\"endlinecolor\": \"#2a3f5f\", \"gridcolor\": \"white\", \"linecolor\": \"white\", \"minorgridcolor\": \"white\", \"startlinecolor\": \"#2a3f5f\"}, \"baxis\": {\"endlinecolor\": \"#2a3f5f\", \"gridcolor\": \"white\", \"linecolor\": \"white\", \"minorgridcolor\": \"white\", \"startlinecolor\": \"#2a3f5f\"}, \"type\": \"carpet\"}], \"choropleth\": [{\"colorbar\": {\"outlinewidth\": 0, \"ticks\": \"\"}, \"type\": \"choropleth\"}], \"contour\": [{\"colorbar\": {\"outlinewidth\": 0, \"ticks\": \"\"}, \"colorscale\": [[0.0, \"#0d0887\"], [0.1111111111111111, \"#46039f\"], [0.2222222222222222, \"#7201a8\"], [0.3333333333333333, \"#9c179e\"], [0.4444444444444444, \"#bd3786\"], [0.5555555555555556, \"#d8576b\"], [0.6666666666666666, \"#ed7953\"], [0.7777777777777778, \"#fb9f3a\"], [0.8888888888888888, \"#fdca26\"], [1.0, \"#f0f921\"]], \"type\": \"contour\"}], \"contourcarpet\": [{\"colorbar\": {\"outlinewidth\": 0, \"ticks\": \"\"}, \"type\": \"contourcarpet\"}], \"heatmap\": [{\"colorbar\": {\"outlinewidth\": 0, \"ticks\": \"\"}, \"colorscale\": [[0.0, \"#0d0887\"], [0.1111111111111111, \"#46039f\"], [0.2222222222222222, \"#7201a8\"], [0.3333333333333333, \"#9c179e\"], [0.4444444444444444, \"#bd3786\"], [0.5555555555555556, \"#d8576b\"], [0.6666666666666666, \"#ed7953\"], [0.7777777777777778, \"#fb9f3a\"], [0.8888888888888888, \"#fdca26\"], [1.0, \"#f0f921\"]], \"type\": \"heatmap\"}], \"heatmapgl\": [{\"colorbar\": {\"outlinewidth\": 0, \"ticks\": \"\"}, \"colorscale\": [[0.0, \"#0d0887\"], [0.1111111111111111, \"#46039f\"], [0.2222222222222222, \"#7201a8\"], [0.3333333333333333, \"#9c179e\"], [0.4444444444444444, \"#bd3786\"], [0.5555555555555556, \"#d8576b\"], [0.6666666666666666, \"#ed7953\"], [0.7777777777777778, \"#fb9f3a\"], [0.8888888888888888, \"#fdca26\"], [1.0, \"#f0f921\"]], \"type\": \"heatmapgl\"}], \"histogram\": [{\"marker\": {\"colorbar\": {\"outlinewidth\": 0, \"ticks\": \"\"}}, \"type\": \"histogram\"}], \"histogram2d\": [{\"colorbar\": {\"outlinewidth\": 0, \"ticks\": \"\"}, \"colorscale\": [[0.0, \"#0d0887\"], [0.1111111111111111, \"#46039f\"], [0.2222222222222222, \"#7201a8\"], [0.3333333333333333, \"#9c179e\"], [0.4444444444444444, \"#bd3786\"], [0.5555555555555556, \"#d8576b\"], [0.6666666666666666, \"#ed7953\"], [0.7777777777777778, \"#fb9f3a\"], [0.8888888888888888, \"#fdca26\"], [1.0, \"#f0f921\"]], \"type\": \"histogram2d\"}], \"histogram2dcontour\": [{\"colorbar\": {\"outlinewidth\": 0, \"ticks\": \"\"}, \"colorscale\": [[0.0, \"#0d0887\"], [0.1111111111111111, \"#46039f\"], [0.2222222222222222, \"#7201a8\"], [0.3333333333333333, \"#9c179e\"], [0.4444444444444444, \"#bd3786\"], [0.5555555555555556, \"#d8576b\"], [0.6666666666666666, \"#ed7953\"], [0.7777777777777778, \"#fb9f3a\"], [0.8888888888888888, \"#fdca26\"], [1.0, \"#f0f921\"]], \"type\": \"histogram2dcontour\"}], \"mesh3d\": [{\"colorbar\": {\"outlinewidth\": 0, \"ticks\": \"\"}, \"type\": \"mesh3d\"}], \"parcoords\": [{\"line\": {\"colorbar\": {\"outlinewidth\": 0, \"ticks\": \"\"}}, \"type\": \"parcoords\"}], \"pie\": [{\"automargin\": true, \"type\": \"pie\"}], \"scatter\": [{\"marker\": {\"colorbar\": {\"outlinewidth\": 0, \"ticks\": \"\"}}, \"type\": \"scatter\"}], \"scatter3d\": [{\"line\": {\"colorbar\": {\"outlinewidth\": 0, \"ticks\": \"\"}}, \"marker\": {\"colorbar\": {\"outlinewidth\": 0, \"ticks\": \"\"}}, \"type\": \"scatter3d\"}], \"scattercarpet\": [{\"marker\": {\"colorbar\": {\"outlinewidth\": 0, \"ticks\": \"\"}}, \"type\": \"scattercarpet\"}], \"scattergeo\": [{\"marker\": {\"colorbar\": {\"outlinewidth\": 0, \"ticks\": \"\"}}, \"type\": \"scattergeo\"}], \"scattergl\": [{\"marker\": {\"colorbar\": {\"outlinewidth\": 0, \"ticks\": \"\"}}, \"type\": \"scattergl\"}], \"scattermapbox\": [{\"marker\": {\"colorbar\": {\"outlinewidth\": 0, \"ticks\": \"\"}}, \"type\": \"scattermapbox\"}], \"scatterpolar\": [{\"marker\": {\"colorbar\": {\"outlinewidth\": 0, \"ticks\": \"\"}}, \"type\": \"scatterpolar\"}], \"scatterpolargl\": [{\"marker\": {\"colorbar\": {\"outlinewidth\": 0, \"ticks\": \"\"}}, \"type\": \"scatterpolargl\"}], \"scatterternary\": [{\"marker\": {\"colorbar\": {\"outlinewidth\": 0, \"ticks\": \"\"}}, \"type\": \"scatterternary\"}], \"surface\": [{\"colorbar\": {\"outlinewidth\": 0, \"ticks\": \"\"}, \"colorscale\": [[0.0, \"#0d0887\"], [0.1111111111111111, \"#46039f\"], [0.2222222222222222, \"#7201a8\"], [0.3333333333333333, \"#9c179e\"], [0.4444444444444444, \"#bd3786\"], [0.5555555555555556, \"#d8576b\"], [0.6666666666666666, \"#ed7953\"], [0.7777777777777778, \"#fb9f3a\"], [0.8888888888888888, \"#fdca26\"], [1.0, \"#f0f921\"]], \"type\": \"surface\"}], \"table\": [{\"cells\": {\"fill\": {\"color\": \"#EBF0F8\"}, \"line\": {\"color\": \"white\"}}, \"header\": {\"fill\": {\"color\": \"#C8D4E3\"}, \"line\": {\"color\": \"white\"}}, \"type\": \"table\"}]}, \"layout\": {\"annotationdefaults\": {\"arrowcolor\": \"#2a3f5f\", \"arrowhead\": 0, \"arrowwidth\": 1}, \"coloraxis\": {\"colorbar\": {\"outlinewidth\": 0, \"ticks\": \"\"}}, \"colorscale\": {\"diverging\": [[0, \"#8e0152\"], [0.1, \"#c51b7d\"], [0.2, \"#de77ae\"], [0.3, \"#f1b6da\"], [0.4, \"#fde0ef\"], [0.5, \"#f7f7f7\"], [0.6, \"#e6f5d0\"], [0.7, \"#b8e186\"], [0.8, \"#7fbc41\"], [0.9, \"#4d9221\"], [1, \"#276419\"]], \"sequential\": [[0.0, \"#0d0887\"], [0.1111111111111111, \"#46039f\"], [0.2222222222222222, \"#7201a8\"], [0.3333333333333333, \"#9c179e\"], [0.4444444444444444, \"#bd3786\"], [0.5555555555555556, \"#d8576b\"], [0.6666666666666666, \"#ed7953\"], [0.7777777777777778, \"#fb9f3a\"], [0.8888888888888888, \"#fdca26\"], [1.0, \"#f0f921\"]], \"sequentialminus\": [[0.0, \"#0d0887\"], [0.1111111111111111, \"#46039f\"], [0.2222222222222222, \"#7201a8\"], [0.3333333333333333, \"#9c179e\"], [0.4444444444444444, \"#bd3786\"], [0.5555555555555556, \"#d8576b\"], [0.6666666666666666, \"#ed7953\"], [0.7777777777777778, \"#fb9f3a\"], [0.8888888888888888, \"#fdca26\"], [1.0, \"#f0f921\"]]}, \"colorway\": [\"#636efa\", \"#EF553B\", \"#00cc96\", \"#ab63fa\", \"#FFA15A\", \"#19d3f3\", \"#FF6692\", \"#B6E880\", \"#FF97FF\", \"#FECB52\"], \"font\": {\"color\": \"#2a3f5f\"}, \"geo\": {\"bgcolor\": \"white\", \"lakecolor\": \"white\", \"landcolor\": \"#E5ECF6\", \"showlakes\": true, \"showland\": true, \"subunitcolor\": \"white\"}, \"hoverlabel\": {\"align\": \"left\"}, \"hovermode\": \"closest\", \"mapbox\": {\"style\": \"light\"}, \"paper_bgcolor\": \"white\", \"plot_bgcolor\": \"#E5ECF6\", \"polar\": {\"angularaxis\": {\"gridcolor\": \"white\", \"linecolor\": \"white\", \"ticks\": \"\"}, \"bgcolor\": \"#E5ECF6\", \"radialaxis\": {\"gridcolor\": \"white\", \"linecolor\": \"white\", \"ticks\": \"\"}}, \"scene\": {\"xaxis\": {\"backgroundcolor\": \"#E5ECF6\", \"gridcolor\": \"white\", \"gridwidth\": 2, \"linecolor\": \"white\", \"showbackground\": true, \"ticks\": \"\", \"zerolinecolor\": \"white\"}, \"yaxis\": {\"backgroundcolor\": \"#E5ECF6\", \"gridcolor\": \"white\", \"gridwidth\": 2, \"linecolor\": \"white\", \"showbackground\": true, \"ticks\": \"\", \"zerolinecolor\": \"white\"}, \"zaxis\": {\"backgroundcolor\": \"#E5ECF6\", \"gridcolor\": \"white\", \"gridwidth\": 2, \"linecolor\": \"white\", \"showbackground\": true, \"ticks\": \"\", \"zerolinecolor\": \"white\"}}, \"shapedefaults\": {\"line\": {\"color\": \"#2a3f5f\"}}, \"ternary\": {\"aaxis\": {\"gridcolor\": \"white\", \"linecolor\": \"white\", \"ticks\": \"\"}, \"baxis\": {\"gridcolor\": \"white\", \"linecolor\": \"white\", \"ticks\": \"\"}, \"bgcolor\": \"#E5ECF6\", \"caxis\": {\"gridcolor\": \"white\", \"linecolor\": \"white\", \"ticks\": \"\"}}, \"title\": {\"x\": 0.05}, \"xaxis\": {\"automargin\": true, \"gridcolor\": \"white\", \"linecolor\": \"white\", \"ticks\": \"\", \"title\": {\"standoff\": 15}, \"zerolinecolor\": \"white\", \"zerolinewidth\": 2}, \"yaxis\": {\"automargin\": true, \"gridcolor\": \"white\", \"linecolor\": \"white\", \"ticks\": \"\", \"title\": {\"standoff\": 15}, \"zerolinecolor\": \"white\", \"zerolinewidth\": 2}}}, \"title\": {\"font\": {\"color\": \"#4D5663\"}, \"text\": \"Number of category kinds in pneumonia alive\"}, \"xaxis\": {\"gridcolor\": \"#E1E5ED\", \"showgrid\": true, \"tickfont\": {\"color\": \"#4D5663\"}, \"title\": {\"font\": {\"color\": \"#4D5663\"}, \"text\": \"\"}, \"zerolinecolor\": \"#E1E5ED\"}, \"yaxis\": {\"gridcolor\": \"#E1E5ED\", \"showgrid\": true, \"tickfont\": {\"color\": \"#4D5663\"}, \"title\": {\"font\": {\"color\": \"#4D5663\"}, \"text\": \"Number of notes\"}, \"zerolinecolor\": \"#E1E5ED\"}},\n",
       "                        {\"showLink\": true, \"linkText\": \"Export to plot.ly\", \"plotlyServerURL\": \"https://plot.ly\", \"responsive\": true}\n",
       "                    ).then(function(){\n",
       "                            \n",
       "var gd = document.getElementById('7136ecce-2ac9-4439-a968-02b9c0ed716b');\n",
       "var x = new MutationObserver(function (mutations, observer) {{\n",
       "        var display = window.getComputedStyle(gd).display;\n",
       "        if (!display || display === 'none') {{\n",
       "            console.log([gd, 'removed!']);\n",
       "            Plotly.purge(gd);\n",
       "            observer.disconnect();\n",
       "        }}\n",
       "}});\n",
       "\n",
       "// Listen for the removal of the full notebook cells\n",
       "var notebookContainer = gd.closest('#notebook-container');\n",
       "if (notebookContainer) {{\n",
       "    x.observe(notebookContainer, {childList: true});\n",
       "}}\n",
       "\n",
       "// Listen for the clearing of the current output cell\n",
       "var outputEl = gd.closest('.output');\n",
       "if (outputEl) {{\n",
       "    x.observe(outputEl, {childList: true});\n",
       "}}\n",
       "\n",
       "                        })\n",
       "                };\n",
       "                });\n",
       "            </script>\n",
       "        </div>"
      ]
     },
     "metadata": {},
     "output_type": "display_data"
    }
   ],
   "source": [
    "pneumonia_dead_no_disch['CATEGORY'].value_counts().sort_values(ascending=False).iplot(kind='bar', yTitle='Number of notes', \n",
    "                                                                title='Number of category kinds in pneumonia alive')"
   ]
  },
  {
   "cell_type": "code",
   "execution_count": 25,
   "metadata": {},
   "outputs": [
    {
     "data": {
      "text/html": [
       "<div>\n",
       "<style scoped>\n",
       "    .dataframe tbody tr th:only-of-type {\n",
       "        vertical-align: middle;\n",
       "    }\n",
       "\n",
       "    .dataframe tbody tr th {\n",
       "        vertical-align: top;\n",
       "    }\n",
       "\n",
       "    .dataframe thead th {\n",
       "        text-align: right;\n",
       "    }\n",
       "</style>\n",
       "<table border=\"1\" class=\"dataframe\">\n",
       "  <thead>\n",
       "    <tr style=\"text-align: right;\">\n",
       "      <th></th>\n",
       "      <th>ROW_ID_x</th>\n",
       "      <th>SUBJECT_ID_x</th>\n",
       "      <th>CHARTDATE</th>\n",
       "      <th>STORETIME</th>\n",
       "      <th>CATEGORY</th>\n",
       "      <th>DESCRIPTION</th>\n",
       "      <th>TEXT</th>\n",
       "      <th>DEATHTIME</th>\n",
       "    </tr>\n",
       "  </thead>\n",
       "  <tbody>\n",
       "    <tr>\n",
       "      <th>137480</th>\n",
       "      <td>149869</td>\n",
       "      <td>68</td>\n",
       "      <td>2173-12-15</td>\n",
       "      <td>NaN</td>\n",
       "      <td>ECG</td>\n",
       "      <td>Report</td>\n",
       "      <td>Sinus tachycardia. Compared to the previous tr...</td>\n",
       "      <td>NaN</td>\n",
       "    </tr>\n",
       "    <tr>\n",
       "      <th>137481</th>\n",
       "      <td>149870</td>\n",
       "      <td>68</td>\n",
       "      <td>2173-12-15</td>\n",
       "      <td>NaN</td>\n",
       "      <td>ECG</td>\n",
       "      <td>Report</td>\n",
       "      <td>Sinus rhythm. Delayed anterior precordial R wa...</td>\n",
       "      <td>NaN</td>\n",
       "    </tr>\n",
       "    <tr>\n",
       "      <th>1259578</th>\n",
       "      <td>1261173</td>\n",
       "      <td>68</td>\n",
       "      <td>2173-12-16</td>\n",
       "      <td>2173-12-16 05:09:00</td>\n",
       "      <td>Nursing/other</td>\n",
       "      <td>Report</td>\n",
       "      <td>Micu nsg admission note\\n41yo female with AIDS...</td>\n",
       "      <td>NaN</td>\n",
       "    </tr>\n",
       "    <tr>\n",
       "      <th>1259579</th>\n",
       "      <td>1261174</td>\n",
       "      <td>68</td>\n",
       "      <td>2173-12-16</td>\n",
       "      <td>2173-12-16 17:08:00</td>\n",
       "      <td>Nursing/other</td>\n",
       "      <td>Report</td>\n",
       "      <td>NSG 0700-1900\\nEvents: Attempted eating breakf...</td>\n",
       "      <td>NaN</td>\n",
       "    </tr>\n",
       "    <tr>\n",
       "      <th>1258821</th>\n",
       "      <td>1261175</td>\n",
       "      <td>68</td>\n",
       "      <td>2173-12-16</td>\n",
       "      <td>2173-12-16 17:18:00</td>\n",
       "      <td>Nursing/other</td>\n",
       "      <td>Report</td>\n",
       "      <td>Resp Care\\n\\nSputum induction obtained for PCP...</td>\n",
       "      <td>NaN</td>\n",
       "    </tr>\n",
       "    <tr>\n",
       "      <th>...</th>\n",
       "      <td>...</td>\n",
       "      <td>...</td>\n",
       "      <td>...</td>\n",
       "      <td>...</td>\n",
       "      <td>...</td>\n",
       "      <td>...</td>\n",
       "      <td>...</td>\n",
       "      <td>...</td>\n",
       "    </tr>\n",
       "    <tr>\n",
       "      <th>1129253</th>\n",
       "      <td>1138542</td>\n",
       "      <td>99937</td>\n",
       "      <td>2128-05-11</td>\n",
       "      <td>NaN</td>\n",
       "      <td>Radiology</td>\n",
       "      <td>CHEST (PORTABLE AP)</td>\n",
       "      <td>[**2128-5-11**] 11:57 AM\\n CHEST (PORTABLE AP)...</td>\n",
       "      <td>NaN</td>\n",
       "    </tr>\n",
       "    <tr>\n",
       "      <th>1129150</th>\n",
       "      <td>1138569</td>\n",
       "      <td>99937</td>\n",
       "      <td>2128-05-11</td>\n",
       "      <td>NaN</td>\n",
       "      <td>Radiology</td>\n",
       "      <td>CTA CHEST W&amp;W/O C&amp;RECONS, NON-CORONARY</td>\n",
       "      <td>[**2128-5-11**] 1:44 PM\\n CTA CHEST W&amp;W/O C&amp;RE...</td>\n",
       "      <td>NaN</td>\n",
       "    </tr>\n",
       "    <tr>\n",
       "      <th>148040</th>\n",
       "      <td>130595</td>\n",
       "      <td>99937</td>\n",
       "      <td>2128-05-12</td>\n",
       "      <td>NaN</td>\n",
       "      <td>ECG</td>\n",
       "      <td>Report</td>\n",
       "      <td>Normal sinus rhythm. Compared to tracing #1 no...</td>\n",
       "      <td>NaN</td>\n",
       "    </tr>\n",
       "    <tr>\n",
       "      <th>1129514</th>\n",
       "      <td>1138666</td>\n",
       "      <td>99937</td>\n",
       "      <td>2128-05-12</td>\n",
       "      <td>NaN</td>\n",
       "      <td>Radiology</td>\n",
       "      <td>CHEST (PORTABLE AP)</td>\n",
       "      <td>[**2128-5-12**] 7:27 AM\\n CHEST (PORTABLE AP) ...</td>\n",
       "      <td>NaN</td>\n",
       "    </tr>\n",
       "    <tr>\n",
       "      <th>65449</th>\n",
       "      <td>65037</td>\n",
       "      <td>99937</td>\n",
       "      <td>2128-05-13</td>\n",
       "      <td>NaN</td>\n",
       "      <td>Echo</td>\n",
       "      <td>Report</td>\n",
       "      <td>PATIENT/TEST INFORMATION:\\nIndication: Left ve...</td>\n",
       "      <td>NaN</td>\n",
       "    </tr>\n",
       "  </tbody>\n",
       "</table>\n",
       "<p>46134 rows × 8 columns</p>\n",
       "</div>"
      ],
      "text/plain": [
       "         ROW_ID_x  SUBJECT_ID_x   CHARTDATE            STORETIME  \\\n",
       "137480     149869            68  2173-12-15                  NaN   \n",
       "137481     149870            68  2173-12-15                  NaN   \n",
       "1259578   1261173            68  2173-12-16  2173-12-16 05:09:00   \n",
       "1259579   1261174            68  2173-12-16  2173-12-16 17:08:00   \n",
       "1258821   1261175            68  2173-12-16  2173-12-16 17:18:00   \n",
       "...           ...           ...         ...                  ...   \n",
       "1129253   1138542         99937  2128-05-11                  NaN   \n",
       "1129150   1138569         99937  2128-05-11                  NaN   \n",
       "148040     130595         99937  2128-05-12                  NaN   \n",
       "1129514   1138666         99937  2128-05-12                  NaN   \n",
       "65449       65037         99937  2128-05-13                  NaN   \n",
       "\n",
       "              CATEGORY                             DESCRIPTION  \\\n",
       "137480             ECG                                  Report   \n",
       "137481             ECG                                  Report   \n",
       "1259578  Nursing/other                                  Report   \n",
       "1259579  Nursing/other                                  Report   \n",
       "1258821  Nursing/other                                  Report   \n",
       "...                ...                                     ...   \n",
       "1129253      Radiology                     CHEST (PORTABLE AP)   \n",
       "1129150      Radiology  CTA CHEST W&W/O C&RECONS, NON-CORONARY   \n",
       "148040             ECG                                  Report   \n",
       "1129514      Radiology                     CHEST (PORTABLE AP)   \n",
       "65449             Echo                                  Report   \n",
       "\n",
       "                                                      TEXT DEATHTIME  \n",
       "137480   Sinus tachycardia. Compared to the previous tr...       NaN  \n",
       "137481   Sinus rhythm. Delayed anterior precordial R wa...       NaN  \n",
       "1259578  Micu nsg admission note\\n41yo female with AIDS...       NaN  \n",
       "1259579  NSG 0700-1900\\nEvents: Attempted eating breakf...       NaN  \n",
       "1258821  Resp Care\\n\\nSputum induction obtained for PCP...       NaN  \n",
       "...                                                    ...       ...  \n",
       "1129253  [**2128-5-11**] 11:57 AM\\n CHEST (PORTABLE AP)...       NaN  \n",
       "1129150  [**2128-5-11**] 1:44 PM\\n CTA CHEST W&W/O C&RE...       NaN  \n",
       "148040   Normal sinus rhythm. Compared to tracing #1 no...       NaN  \n",
       "1129514  [**2128-5-12**] 7:27 AM\\n CHEST (PORTABLE AP) ...       NaN  \n",
       "65449    PATIENT/TEST INFORMATION:\\nIndication: Left ve...       NaN  \n",
       "\n",
       "[46134 rows x 8 columns]"
      ]
     },
     "execution_count": 25,
     "metadata": {},
     "output_type": "execute_result"
    }
   ],
   "source": [
    "pneumonia_alive_no_disch"
   ]
  },
  {
   "cell_type": "code",
   "execution_count": 26,
   "metadata": {},
   "outputs": [
    {
     "data": {
      "text/plain": [
       "252"
      ]
     },
     "execution_count": 26,
     "metadata": {},
     "output_type": "execute_result"
    }
   ],
   "source": [
    "# Number of patients\n",
    "pneumonia_dead_no_disch['SUBJECT_ID_x'].nunique()"
   ]
  },
  {
   "cell_type": "code",
   "execution_count": 27,
   "metadata": {},
   "outputs": [
    {
     "data": {
      "text/plain": [
       "1167"
      ]
     },
     "execution_count": 27,
     "metadata": {},
     "output_type": "execute_result"
    }
   ],
   "source": [
    "# Number of patients\n",
    "pneumonia_alive_no_disch['SUBJECT_ID_x'].nunique()"
   ]
  },
  {
   "cell_type": "code",
   "execution_count": 28,
   "metadata": {},
   "outputs": [],
   "source": [
    "# import text handling tool\n",
    "from nltk.tokenize import word_tokenize\n",
    "from nltk.corpus import stopwords\n",
    "from nltk.stem import PorterStemmer\n",
    "\n",
    "from collections import Counter\n",
    "\n",
    "import sys\n",
    "import re\n",
    "import csv\n",
    "import os.path\n",
    "\n",
    "# define constants\n",
    "RESULT_HEADER = \"WORD, FREQUENCY\\n\"\n",
    "\n",
    "# words that do not have meaning (can be modified later)\n",
    "USELESS_WORDS = [\"a\", \"the\", \"he\", \"she\", \",\", \".\", \"?\", \"!\", \":\", \";\", \"+\", \"*\", \"**\"\\\n",
    "                 \"your\", \"you\"]\n",
    "\n",
    "# count up the frequency of every word in every disease file\n",
    "stemmer = PorterStemmer()\n",
    "# create set of words to ignore in text\n",
    "stop_words = set(stopwords.words('english'))\n",
    "\n",
    "for word in USELESS_WORDS:\n",
    "    stop_words.add(word)"
   ]
  },
  {
   "cell_type": "code",
   "execution_count": 29,
   "metadata": {},
   "outputs": [
    {
     "name": "stderr",
     "output_type": "stream",
     "text": [
      "100%|██████████| 11895/11895 [00:01<00:00, 6317.00it/s]\n",
      "  1%|          | 409/46134 [00:00<00:11, 4089.41it/s]"
     ]
    },
    {
     "name": "stdout",
     "output_type": "stream",
     "text": [
      "11895 note events\n",
      "finished counting frequent words for patients!\n"
     ]
    },
    {
     "name": "stderr",
     "output_type": "stream",
     "text": [
      "100%|██████████| 46134/46134 [00:07<00:00, 5871.11it/s]\n"
     ]
    },
    {
     "name": "stdout",
     "output_type": "stream",
     "text": [
      "46134 note events\n",
      "finished counting frequent words for patients!\n"
     ]
    }
   ],
   "source": [
    "def count_words_per_patient(disease_df):\n",
    "    note_appearance_counter = {}\n",
    "    number_of_patients = 0\n",
    "    note_counter = 0\n",
    "\n",
    "\n",
    "    patient_id = -1\n",
    "    word_set = set()\n",
    "\n",
    "    # Iterate through each note\n",
    "    for index, row in tqdm(disease_df.iterrows(), total=disease_df.shape[0]):\n",
    "\n",
    "        note_counter += 1\n",
    "        patient_id_check = int(row['SUBJECT_ID_x'])\n",
    "    \n",
    "        # if patient id has changed, end sequence and start new sequence\n",
    "        if not patient_id == patient_id_check:\n",
    "            number_of_patients += 1\n",
    "        \n",
    "            for word in word_set:\n",
    "                if word in note_appearance_counter:\n",
    "                    note_appearance_counter[word] += 1\n",
    "                else:\n",
    "                    note_appearance_counter[word] = 1\n",
    "\n",
    "        \n",
    "            # reset word_set\n",
    "            word_set = set()\n",
    "        \n",
    "            # update patient id\n",
    "            patient_id = patient_id_check\n",
    "        \n",
    "            note = re.sub(r'\\[\\*\\*(.*?)\\*\\*\\]|[_,\\d\\*:~=\\.\\-\\+\\\\/]+', ' ', row['TEXT'])\n",
    "            tokenized_note = word_tokenize(note)\n",
    "        \n",
    "        \n",
    "            for word in tokenized_note:\n",
    "                stemmed_word = stemmer.stem(word.lower())\n",
    "                if not stemmed_word in stop_words:\n",
    "                    word_set.add(stemmed_word)\n",
    "    \n",
    "    print(str(note_counter) + \" note events\")\n",
    "    print(\"finished counting frequent words for patients!\")\n",
    "#     return note_counter, note_appearance_counter\n",
    "    return number_of_patients, note_appearance_counter\n",
    "\n",
    "number_of_notes = {}\n",
    "note_appearance_counter = {}\n",
    "\n",
    "number_of_notes['pneumonia_dead'], note_appearance_counter['pneumonia_dead'] = count_words_per_patient(pneumonia_dead_no_disch)\n",
    "number_of_notes['pneumonia_alive'], note_appearance_counter['pneumonia_alive'] = count_words_per_patient(pneumonia_alive_no_disch)"
   ]
  },
  {
   "cell_type": "code",
   "execution_count": 30,
   "metadata": {},
   "outputs": [
    {
     "data": {
      "text/plain": [
       "{'pneumonia_dead': 252, 'pneumonia_alive': 1167}"
      ]
     },
     "execution_count": 30,
     "metadata": {},
     "output_type": "execute_result"
    }
   ],
   "source": [
    "number_of_notes"
   ]
  },
  {
   "cell_type": "code",
   "execution_count": 31,
   "metadata": {},
   "outputs": [
    {
     "name": "stdout",
     "output_type": "stream",
     "text": [
      "{'pneumonia_dead': {'test': 21, 'statu': 23, 'caviti': 18, 'none': 22, 'wa': 15, 'ventricular': 100, 'unusu': 2, 'hg': 17, 'prior': 36, 'hr': 20, 'wall': 26, 'hypokinesi': 9, 'interpret': 24, 'portabl': 20, 'indic': 33, 'rv': 19, 'size': 22, '%': 20, '(': 35, 'p': 15, 'biventricular': 6, 'effus': 27, 'contrast': 24, 'global': 10, 'limit': 12, 'find': 45, 'thick': 8, 'chamber': 7, 'ventricl': 21, 'qualiti': 24, 'lb': 16, 'trivial': 8, 'pea': 1, 'thi': 22, 'pleural': 9, 'time': 22, 'arrest': 2, 'moder': 19, 'evalu': 11, 'conclus': 20, 'mm': 17, 'inpati': 18, 'focus': 4, 'function': 19, 'technic': 22, 'patient': 26, 'bp': 20, 'right': 69, 'pericardium': 19, 'left': 120, 'date': 35, 'view': 9, 'lv': 19, 'doppler': 21, 'new': 16, 'review': 12, 'small': 11, 'inform': 20, 'weight': 16, 'lvef': 19, 'tte': 20, 'physiolog': 11, 'compar': 106, 'imag': 16, 'bsa': 15, 'pericardi': 20, 'height': 16, ')': 35, 'dysfunct': 5, 'color': 20, 'adequ': 15, 'normal': 53, 'studi': 17, 'free': 15, 'systol': 19, 'bpm': 20, 'analysi': 3, 'previou': 189, 'trace': 209, 'chang': 117, 'pace': 14, '#': 78, 'pacemak': 2, 'rhythm': 111, 'signific': 43, 'consist': 17, 'anterior': 39, 'wave': 109, 'lead': 60, 'comparison': 50, 'myocardi': 41, 'late': 9, 'transit': 14, 'avail': 39, 'infarct': 41, 'sinu': 180, 'q': 22, 'tachycardia': 87, 'st': 85, 'slow': 5, 'atrial': 94, 'segment': 21, 'persist': 8, 'mark': 12, 'rather': 3, 'depress': 18, 'rate': 65, 'ha': 37, 'respons': 18, 'fibril': 38, 'remain': 7, 'rapid': 16, 'upper': 9, 'delay': 27, 'iii': 6, 'borderlin': 11, 'ectopi': 15, 'relat': 5, 'may': 28, 'prematur': 25, 'indetermin': 11, 'age': 12, 'faster': 16, 'clinic': 49, 'avf': 9, 'ii': 9, 'flatten': 7, 'sinc': 68, 'abnorm': 78, 'artifact': 27, 'suggest': 57, 'conduct': 24, 'inferior': 30, 'intraventricular': 14, 'probabl': 31, 'baselin': 27, 'consid': 21, 'beat': 16, 'correl': 42, 'low': 32, 'earli': 8, 'throughout': 3, 'r': 40, 'voltag': 38, 'progress': 27, 'lvh': 8, 'v': 35, 'old': 19, 'nonspecif': 17, 'qr': 25, 'later': 25, 'due': 22, 'bundl': 41, 'block': 55, 'branch': 41, 'variant': 5, 'last': 4, 'ecg': 9, 'poor': 20, 'form': 1, 'otherwis': 13, 'difficult': 11, 'modest': 7, 'non': 56, 'precordi': 20, 'assess': 11, 'lower': 9, 'make': 8, 'axi': 48, 'deviat': 36, 'amplitud': 3, 'specif': 45, 'morpholog': 4, 'similar': 15, 'pm': 11, 'markedli': 8, 'biatrial': 3, 'enlarg': 14, 'repolar': 16, 'diffus': 18, 'rightward': 2, 'longer': 7, 'appear': 19, 'first': 4, 'present': 30, 'degre': 5, 'shift': 4, 'differ': 2, 'although': 11, 'evid': 9, 'addit': 3, 'partli': 4, 'undetermin': 6, 'possibl': 20, 'limb': 17, 'offer': 1, 'ischemia': 18, 'pac': 1, 'frequent': 8, 'activ': 5, 'uncertain': 1, 'ectop': 4, 'decreas': 8, 'gener': 14, 'interv': 22, 'prolong': 9, 'broad': 1, 'question': 4, 'narrow': 2, 'mechan': 3, 'regulasr': 1, 'complex': 7, 'opac': 6, 'impress': 20, 'tube': 2, 'visual': 6, 'tip': 3, 'subsequ': 1, 'read': 5, 'recommend': 7, 'line': 4, 'text': 1, 'year': 12, 'radiograph': 4, 'post': 1, 'ct': 7, 'heal': 2, 'aneurysm': 2, 'rib': 3, 'well': 9, 'fractur': 3, 'side': 6, 'endotrach': 2, 'ccc': 1, 'abov': 3, 'respiratori': 3, 'expans': 1, 'aortic': 20, 'dr': 1, 'get': 1, 'infect': 3, 'involv': 4, 'wed': 1, 'vs': 1, 'lung': 11, 'intub': 1, 'lobul': 1, 'report': 16, 'appropri': 2, 'mediastinum': 3, 'demonstr': 1, 'examin': 13, 'condit': 12, 'lobe': 9, 'structur': 9, 'contour': 5, 'admit': 4, 'wet': 5, 'pneumonia': 11, 'mid': 5, 'pleas': 3, 'medic': 13, 'aneur': 1, 'discuss': 1, 'repres': 5, 'retrocardiac': 2, 'supin': 1, 'nasogastr': 1, 'carina': 3, 'aspir': 1, 'klmn': 1, 'cm': 7, 'could': 8, 'osseou': 1, 'mass': 5, 'clip': 12, 'larg': 3, 'distress': 4, 'reason': 12, 'ap': 6, 'like': 12, 'final': 12, 'bilater': 7, 'diaphragm': 3, 'frontal': 5, 'termin': 3, 'male': 3, 'patchi': 4, 'chest': 11, 'man': 9, 'team': 2, 'superior': 1, 'page': 1, 'eval': 6, 'junction': 3, 'short': 12, 'pr': 9, 'unsuit': 1, 'elev': 10, 'injuri': 2, 'underli': 3, 'seen': 31, 'extens': 7, 'septal': 13, 'plane': 1, 'suboptim': 10, 'tamponad': 4, 'significantli': 3, 'wors': 1, 'emerg': 3, 'repeat': 7, 'fellow': 3, 'reveal': 1, '>': 13, 'sign': 5, 'echocardiograph': 8, 'imposs': 1, 'eject': 2, 'without': 9, 'locul': 1, 'fraction': 2, 'motion': 17, 'befor': 1, 'cardiolog': 2, 'constrict': 1, 'posit': 9, 'ef': 3, 'echo': 5, 'comment': 11, 'perform': 2, 'fulli': 5, 'rest': 11, 'previous': 6, 'sever': 12, 'estim': 7, 'call': 3, 'statement': 1, 'valvular': 3, 'focal': 9, 'definit': 2, 'window': 4, 'sub': 1, 'exclud': 16, 'overal': 12, 'optim': 2, 'improv': 6, 'invert': 2, 'avl': 6, 'hypertrophi': 41, 'followup': 5, 'howev': 6, 'increas': 30, 'couplet': 1, 'includ': 7, 'record': 4, 'invers': 9, 'absent': 8, 'downslop': 1, 'occasion': 3, 'inferolater': 6, 'process': 11, 'ischem': 4, 'secondari': 7, 'tachycard': 3, \"''\": 3, '``': 3, 'chaotic': 1, 'multipl': 7, 'slower': 8, 'qtc': 3, 'metabol': 1, 'drug': 3, 'effect': 3, 'regular': 4, 'supraventricular': 6, 'widen': 2, 'diagnost': 35, 'type': 7, 'pattern': 13, 'interim': 11, 'tricuspid': 18, 'valv': 18, 'thicken': 14, 'atrium': 17, 'leaflet': 17, 'ra': 17, 'onli': 2, 'pulmonari': 28, 'ar': 15, 'pulmon': 13, 'la': 13, 'interatri': 16, 'septum': 16, 'mildli': 17, 'arteri': 20, 'note': 12, 'heart': 15, 'somat': 1, 'standard': 3, 'tremor': 1, 'extrasystol': 1, 'upright': 2, 'long': 2, 'l': 5, 'determin': 5, 'rotat': 2, 'nlead': 1, 'clockwis': 1, 'strain': 3, 'except': 4, 'major': 3, 'fascicular': 20, 'sequenti': 2, \"'\": 8, 'rsr': 7, 'irregular': 3, 'vi': 4, 'irregularli': 1, 'acut': 8, 'somewhat': 3, 'redistribut': 1, 'product': 4, 'breath': 6, 'sob': 4, 'vascular': 4, 'cough': 4, 'sat': 4, 'fever': 5, 'minim': 4, 'clear': 2, 'peripher': 1, 'within': 9, 'consolid': 4, 'tortuos': 1, 'ascend': 10, 'aorta': 17, 'dilat': 15, 'confluent': 2, 'separ': 1, 'tortuou': 1, 'middl': 2, 'section': 1, 'provid': 1, 'histori': 8, 'angiogram': 1, 'area': 5, 'keep': 1, 'promin': 16, 'descend': 2, 'identifi': 3, 'multifoc': 7, 'pna': 8, 'see': 3, 'thorac': 3, 'woman': 3, 'airspac': 4, 'dictat': 1, 'dissect': 1, 'incomplet': 7, 'part': 4, 'anterosept': 12, 'versu': 7, 'less': 6, 'rule': 3, 'averag': 4, 'suspici': 3, 'alon': 1, 'much': 3, 'leftward': 5, 'end': 2, 'mitral': 16, 'expect': 1, 'veget': 1, 'dehisc': 1, '[': 14, 'w': 7, ']': 14, 'diastol': 2, 'slightli': 10, 'overload': 6, 'diamet': 14, 'ring': 1, 'endocard': 3, 'annulu': 1, 'respir': 2, 'full': 18, 'volum': 5, 'dure': 2, 'worsen': 2, 'mvr': 1, 'symmetr': 8, 'tr': 15, '<': 4, 'mild': 18, 'gradient': 9, 'diseas': 9, 'given': 3, 'mmhg': 3, 'pa': 18, 'hypertens': 15, 'ascit': 1, 'avr': 3, 'intrins': 1, 'veloc': 2, 'echodens': 1, 'prosthesi': 2, 'vigor': 1, 'mobil': 1, 'mr': 16, 'regurgit': 16, 'higher': 1, 'prosthet': 1, 'bioprosthet': 2, 'partial': 2, 'complet': 18, 'c': 7, 'ivc': 2, 'pressur': 8, 'high': 3, 'set': 1, 'acoust': 1, 'least': 5, 'near': 1, 'shadow': 1, 'underestim': 2, 'veri': 5, 'pasp': 1, 'hyperdynam': 3, 'perviou': 1, 'import': 2, 'cardiogen': 1, 'natur': 2, 'infiltr': 5, 'exert': 1, 'central': 2, 'obscur': 2, 'peri': 1, 'hospit': 3, 'led': 1, 'made': 2, 'chf': 2, 'intens': 1, 'sternotomi': 1, 'state': 3, 'treat': 2, 'densiti': 2, 'infecti': 4, 'parenchym': 1, 'bronchial': 1, 'doubt': 1, 'exist': 3, '&': 3, 'alreadi': 2, 'either': 1, 'surgeri': 1, 'shed': 1, 'thu': 1, 'latter': 1, 'observ': 2, 'unchang': 7, 'mostli': 1, 'posterior': 3, 'cuf': 1, 'typic': 1, 'locat': 1, 'recent': 4, 'bypass': 1, 'absenc': 2, 'lat': 3, 'discharg': 2, 'surgic': 2, 'cardiac': 10, 'ani': 3, 'presenc': 2, 'edema': 4, 'sinus': 3, 'md': 1, 'regress': 1, 'context': 1, 'flutter': 2, 'certainti': 1, 'paroxysm': 1, 'infero': 1, 'matter': 1, 'delta': 1, 'head': 2, 'white': 1, 'iv': 5, 'bleed': 2, 'ich': 1, 'lacun': 1, 'shake': 1, 'mucos': 1, 'paranas': 2, 'maxillari': 2, 'grossli': 1, 'intracrani': 2, 'mental': 1, 'contraind': 4, 'hemorrhag': 3, 'hemispher': 1, 'caudat': 1, 'kcld': 1, 'scan': 1, 'cerebellar': 1, 'differenti': 3, 'preserv': 4, 'ms': 5, 'coumadin': 1, 'techniqu': 4, 'midlin': 2, 'hydrocephalu': 1, 'cerebr': 1, 'hypoplast': 1, 'tc': 2, 'aberr': 2, 'conducti': 1, 'contract': 6, 'precordium': 2, 'across': 2, 'puls': 1, 'annular': 8, 'flow': 3, 'lipomat': 1, 'calcif': 10, 'stenosi': 9, 'root': 8, 'outpati': 2, 'chorda': 3, 'anterolater': 4, 'nodal': 1, 'wenckebach': 1, 'av': 1, 'top': 1, 'dissoci': 1, 'sequenc': 1, 'submit': 1, 'describ': 3, 'metabolc': 1, 'tall': 2, 'peak': 1, 'rbbb': 1, 'ekg': 2, 'gone': 1, 'qt': 1, 'easliy': 1, 'evolv': 1, 'apic': 5, 'elsewher': 1, 'calcifi': 3, 'level': 17, 'care': 4, 'result': 5, 'becaus': 1, 'transthorac': 1, 'heavili': 1, 'number': 1, 'houseoffic': 3, 'quantifi': 1, 'wide': 1, 'earlier': 1, 'hemiblock': 2, 'replac': 1, 'contractil': 3, 'elong': 2, 'prolaps': 5, 'tdi': 1, 'papillari': 2, 'ps': 8, 'fill': 1, 'region': 8, 'lvot': 9, 'pcwp': 1, 'tissu': 1, 'mvp': 5, 'e': 2, 'muscl': 2, 'reflect': 1, 'infract': 1, 'qs': 1, 'deflect': 1, 'diminish': 1, 'control': 3, 'shorter': 1, 'also': 6, 'mean': 2, 'configur': 2, 'placement': 2, 'variat': 1, 'demand': 1, 'depolar': 1, 'slight': 2, 'resolv': 1, 'j': 1, 'point': 1, 'appar': 2, 'intermitt': 1, 'toward': 1, 'consider': 1, 'tendenc': 1, 'mar': 2, 'continu': 4, 'cavoatri': 1, 'obtain': 4, 'desatur': 1, 'background': 1, 'pneumothorax': 4, 'metastat': 1, 'singl': 4, 'ij': 2, 'project': 2, 'rll': 1, 'patholog': 2, 'obstruct': 1, 'transaort': 1, 'congest': 2, 'failur': 2, 'paramet': 1, 'outflow': 1, 'output': 1, 'defect': 6, 'arch': 2, 'hypotens': 2, 'excurs': 4, 'good': 4, 'vsd': 3, 'asd': 4, 'waveform': 1, 'loss': 2, 'diagnosi': 3, 'widespread': 1, 'silhouet': 1, 'picc': 3, 'svc': 2, 'hemidiaphragm': 1, 'vent': 1, 'cardiomediastin': 1, 'via': 1, 'opacif': 3, 'compat': 1, 'substanti': 1, 'ett': 1, 'silhouett': 1, 'ard': 1, 'ventil': 3, 'phone': 1, 'commun': 2, 'cathet': 3, 'criteria': 5, 'ventricujlar': 1, 'met': 3, 'retract': 1, 'scatter': 2, 'fibrosi': 3, 'linear': 1, 'superimpos': 1, 'osh': 4, 'overli': 2, 'unremark': 2, 'chronic': 4, 'predominantli': 1, 'atyp': 2, 'tent': 1, 'hx': 4, 'deform': 1, 'diffiuclt': 1, 'biapic': 1, 'hila': 1, 'outsid': 2, 'interstiti': 1, 'known': 2, 'favor': 2, 'mediastin': 4, 'hiv': 2, 'incident': 1, 'bilat': 1, 'upward': 2, 'pronounc': 1, 'resp': 3, 'transfer': 4, 'cc': 1, 'yo': 2, 'monitor': 2, 'piv': 1, 'tylenol': 1, 'levofloxicin': 1, 'hosp': 1, 'troponin': 1, 'place': 2, 'resusit': 1, 'foley': 1, 'famili': 2, 'pmh': 2, 'pt': 3, 'ns': 1, 'sidtress': 1, 'receiv': 1, 'pulm': 1, 'fluid': 4, 'mg': 2, 'cpap': 2, 'nrb': 1, 'cxr': 2, 'u': 1, '@': 2, '^': 1, 'f': 1, 'reciev': 1, 'asa': 1, 'micu': 3, 'temp': 2, 'enzym': 1, 'code': 2, 'rr': 3, 'lasix': 1, 'adm': 1, 'access': 1, \"'s\": 2, 'direct': 1, 'posteriorli': 1, 'bodi': 1, 'eccentr': 1, 'jet': 1, 'initi': 1, 'forc': 1, 'transplant': 2, 'chill': 1, 'corrobor': 1, 'portion': 1, 'ground': 1, 'symptom': 2, 'hilar': 2, 'acquir': 2, 'medial': 1, 'onset': 1, 'cont': 2, 'two': 2, 'great': 1, 'meet': 1, 'fri': 1, 'intraven': 1, 'sagitt': 1, 'airway': 1, 'detect': 1, 'coron': 1, 'spleen': 1, 'x': 2, 'mycobacteri': 1, 'viral': 1, 'associ': 1, 'updat': 1, 'helic': 1, 'fungal': 1, 'must': 1, 'bronchogram': 1, 'pnemonia': 1, 'base': 5, 'mdct': 2, 'main': 2, 'distribut': 3, 'ppd': 1, 'subsegment': 1, 'reformat': 1, 'glass': 1, 'organ': 1, 'done': 1, 'bacteri': 1, 'axillari': 1, 'patent': 1, 'valu': 1, 'liver': 2, 'bone': 1, 'lymphadenopathi': 1, 'doe': 1, 'vessel': 1, 'kkgc': 1, 'air': 2, 'dashboard': 1, 'node': 1, 'depart': 1, 'marrow': 1, 'week': 1, 'venetricular': 1, 'onc': 1, 'transmitr': 1, 'echocardiographi': 1, 'hypo': 2, 'transesophag': 1, 'dyskinesi': 1, 'distal': 4, 'best': 1, 'tee': 1, 'half': 1, 'dyskinet': 1, 'lad': 1, 'thrombu': 3, 'cad': 2, 'decel': 1, 'telephon': 2, 'ts': 2, 'support': 2, 'consequ': 1, 'interact': 1, 'vmyocardi': 1, 'mildi': 2, 'cardiomyopathi': 1, 'implic': 2, 'aha': 2, 'prophylaxi': 3, 'threshold': 1, 'inhibitor': 1, 'data': 3, 'index': 2, 'ace': 1, 'blocker': 1, 'beta': 1, 'min': 3, 'regard': 2, 'need': 3, 'benefit': 1, 'rel': 1, 'decis': 2, 'physician': 1, 'order': 1, 'offic': 1, 'correspond': 1, 'day': 3, 'thrombi': 1, 'apex': 1, 'hypoxoem': 1, 'inferosept': 1, 'horizont': 1, 'sag': 1, 'upslop': 1, 'embol': 3, 'interven': 1, 'minor': 1, 'joint': 1, 'redemonstr': 1, 'monday': 1, 'remot': 1, 'concern': 2, 'defin': 1, 'pigtail': 1, 'engorg': 1, 'remov': 2, 'drain': 2, 'measur': 2, 'pneumo': 1, 'ill': 1, 'came': 1, 'smaller': 1, \"'rul'ectomi\": 1, 'schedul': 1, 'drainag': 1, 'rul': 1, 'h': 3, 'approxim': 2, 'acromioclavicular': 1, 'abscess': 1, 'degen': 1, 'subcost': 1, 'coarctat': 1, 'vertic': 2, 'aspf': 1, 'relev': 1, 'metastasi': 1, 'multiplanar': 1, 'visibl': 1, 'mon': 2, 'tini': 1, 'reform': 1, 'sulci': 1, 'cancer': 1, 'metastas': 1, 'headach': 1, 'show': 2, 'amount': 1, 'mri': 1, 'sequela': 1, 'worrisom': 1, 'highli': 1, 'girth': 1, 'hap': 1, 'pho': 1, 'mono': 1, 'gaug': 1, 'approx': 1, 'amylas': 1, 'band': 1, 'prilosec': 1, 'home': 2, 'wheez': 2, 'sale': 1, 'tid': 1, 'warm': 1, 'balanc': 1, 'follow': 1, 'g': 1, 'appreci': 1, 'stabl': 1, 'lymph': 1, 'creatin': 1, 'cultur': 1, 'allergi': 1, 'heparin': 1, 'floor': 1, 'hit': 1, 'flank': 1, 'use': 1, 'list': 1, 'iron': 1, 'sediment': 1, 'carotid': 1, 'ppi': 1, 'sensat': 1, 'intact': 1, 'gram': 1, 'hpi': 1, 'mononuclear': 1, 'alb': 1, 'eom': 1, 'current': 2, 'tap': 1, 'ca': 1, 'cellul': 1, 'ul': 1, 'sinusoid': 1, 'devic': 1, 'ivf': 1, '{': 1, 'self': 1, 'hepatoren': 1, 'upto': 1, 'hour': 2, 'wound': 1, 'sound': 1, 'prostat': 1, 'avoid': 1, 'take': 1, 'daili': 1, 'vital': 1, 'lnc': 1, '}': 1, 'brother': 1, 'deliveri': 2, 'experienc': 1, 'inflamm': 1, 'gerd': 1, 'extrem': 1, 'rare': 1, 'suppl': 1, 'crackl': 1, 'nutrit': 1, 'vacular': 1, 'cannula': 1, 'zosyn': 1, 'pleasant': 2, 'paracentesi': 1, 'employ': 1, 'father': 1, 'turbid': 1, 'varic': 1, 'nephrotoxin': 1, 'insp': 1, 'ppx': 1, 'glycem': 1, 'physic': 1, 'renal': 1, 'biliari': 1, 'bowel': 1, 'abl': 1, 'plt': 1, 'alt': 1, 'hct': 1, 'gentleman': 1, 'icu': 1, 'fen': 1, 'ua': 1, 'overnight': 1, 'biopsi': 1, 'oral': 1, 'tear': 1, 'ast': 1, 'social': 1, 'heterozyg': 1, 'apoptot': 1, 'endarterectomi': 1, 'daughter': 1, 'us': 1, 'asterixi': 1, 'aox': 1, 'nasal': 1, 'ng': 1, 'neck': 1, 'serum': 1, 'skin': 1, 'confirm': 2, 'pain': 2, 'wbc': 1, 'slip': 1, 'legionella': 1, 'nephew': 1, 'tf': 1, 'trend': 1, 'tobacco': 1, 'diet': 1, 'infrequ': 1, 'per': 3, 'ext': 1, 'illicit': 1, 'stool': 1, 'glu': 1, 'tattoo': 1, 'hemachromatosi': 1, 'epitheli': 1, 'jaundic': 1, 'spo': 1, 'cirrhosi': 1, 'deposit': 1, 'sclera': 1, 'strength': 1, 'colonoscopi': 1, 'distend': 1, 'caraf': 1, 'hfe': 1, 'blood': 1, 'neuro': 1, 'accept': 1, 'inch': 1, 'vap': 1, 'plan': 2, 'incras': 1, 'grade': 1, 'bicarb': 1, 'lyte': 1, 'b': 1, 'work': 1, 'mmm': 1, 'admiss': 1, 'chief': 1, 'prot': 1, 'abdomin': 1, 'transfus': 1, 'vanc': 1, 'infus': 1, 'stain': 1, 'cor': 1, 'aliv': 1, 'cryptogen': 1, 'cl': 1, 'summari': 1, 'alcohol': 1, 'sputum': 2, 'radiolog': 1, 'octreotid': 1, 'recurr': 1, 'jvp': 1, 'dispo': 1, 'antitrypsin': 1, 'trichrom': 1, 'antibiot': 2, 'malign': 1, 'serosanguin': 1, 'med': 1, 'qid': 1, 'lab': 1, 'kg': 1, 'look': 1, 'bili': 1, 'hepatocyt': 1, 'inr': 1, 'command': 1, 'na': 1, 'total': 1, 'hep': 2, 'albumin': 1, 'taken': 1, 'problem': 1, 'nontend': 1, 'jpg': 1, 'endoscopi': 1, 'cell': 1, 'mother': 1, 'k': 1, 'sister': 1, 'notifi': 1, 'cipro': 1, 'stress': 1, 'omr': 1, 'complaint': 1, 'hypoact': 1, 'establish': 1, 'disposit': 1, 'resum': 1, 'hemodynam': 1, 'feet': 1, 'bm': 1, 'start': 1, 'lipas': 1, 'lactulos': 1, 'neg': 1, 'healthi': 1, 'replet': 1, 'heent': 1, 'rec': 2, 'pierc': 1, 'pd': 1, 'flowsheet': 1, 'vitamin': 1, 'pet': 1, 'prn': 1, 'ml': 1, 'urin': 1, 'elbow': 1, 'hi': 1, 'nephrolithiasi': 1, 'alpha': 1, 'thought': 1, 'dvt': 1, 'deni': 2, 'verbal': 1, 'bun': 1, 'contribut': 1, 'dilaudid': 1, 'sodium': 1, 'soft': 1, 'alk': 1, 'arriv': 2, 'steatosi': 1, 'afebril': 2, 'abras': 1, 'po': 1, 'past': 1, 'cr': 1, 'sc': 1, 'anicter': 1, 'die': 1, 'ciprofloxacin': 1, 'abd': 1, 'chylothorax': 1, 'today': 2, 'dl': 1, 'syndrom': 1, 'ulcer': 1, 'htn': 1, 'creatinin': 1, 'dose': 1, 'neut': 1, 'midodrin': 1, 'pit': 1, 'system': 1, 'eo': 1, 'fine': 1, 'relax': 1, 'paradox': 1, 'impair': 1, 'inflow': 1, 'flat': 1, 'thank': 1, 'exchang': 1, 'perivascular': 1, 'copd': 1, 'correct': 1, 'femal': 1, 'preced': 1, 'anoth': 1, 'advanc': 1, 'dehydr': 1, 'express': 1, 'cavit': 1, 'develop': 1, 'tipp': 1, 'institut': 1, 'noteworthi': 1, 'eagg': 1, 'check': 1, 'assum': 1, 'cavitari': 1, 'intra': 1, 'unstabl': 1, 'fib': 1, 'pht': 1, 'pneumonectomi': 1, 'minut': 1, 'one': 1, 'wander': 1, 'wire': 1, 'extend': 1, 'speaker': 1, 'humidifi': 1, 'requir': 1, 'scrape': 1, 'neuromuscular': 1, 'sentenc': 1, 'tx': 1, 'coil': 1, 'solumedrol': 1, 'accompani': 1, 'snd': 1, 'friend': 1, 'stand': 1, 'iliac': 1, 'knee': 1, 'mask': 1, 'bactrim': 1, 'emot': 1, 'stay': 1, 'bronchiectasi': 1, 'scrap': 1, 'inhal': 1, 'rhonchi': 1, 'ed': 1, 'hematoma': 1, 'shunt': 1, 'historian': 1, 'intracardiac': 1, 'action': 1, 'restrict': 1, 'hypoxia': 1, 'burn': 1, 'nurs': 1, 'fall': 1, 'back': 1, 'kitchen': 1, 'speak': 1, 'cd': 1, 'ask': 1, 'accid': 1, 'graft': 1, 'attempt': 1, 'hob': 1, 'walker': 1, 'lg': 1, 'comfort': 1, 'intern': 1, 'pancytopenia': 1, 'sr': 1, 'assist': 1, 'green': 1, 'neb': 1, 'allow': 1, 'dx': 1, 'anxieti': 1, 'translat': 1, 'rebreath': 1, 'retroperiton': 1, 'orient': 1, 'visit': 1, 'adjust': 1}, 'pneumonia_alive': {'trace': 920, 'previou': 847, 'faster': 59, 'heart': 118, '#': 420, 'tachycardia': 372, 'sinu': 816, 'rate': 265, 'compar': 505, 'morpholog': 8, 'wa': 73, 'prior': 159, 'interv': 135, 'lead': 258, 'fascicular': 93, 'p': 79, 'like': 72, 'seen': 158, 'rhythm': 476, 'atrial': 412, 'progress': 106, 'exclud': 68, 'clinic': 228, 'wave': 484, 'v': 130, 'block': 194, 'occur': 4, 'top': 13, 'infarct': 167, 'case': 3, 'current': 22, 'variabl': 3, 'left': 464, 'myocardi': 154, 'qr': 100, 'multifoc': 21, 'appear': 101, 'suggest': 236, 'anterosept': 39, 'anterior': 158, 'axi': 183, 'deviat': 117, 'correl': 187, 'supraventricular': 23, 'due': 82, 'r': 207, 'poor': 70, 'ventricular': 361, 'sinc': 276, 'onli': 7, 'nonspecif': 71, 'st': 379, 'signific': 185, 'chang': 530, 'voltag': 156, 'hypertrophi': 121, 'sustain': 3, 'segment': 82, 'indetermin': 45, 'age': 45, 'diffus': 112, 'non': 291, 'longer': 38, 'inferior': 135, 'specif': 240, 'appreci': 15, 'branch': 121, 'undetermin': 17, 'resolv': 23, 'flutter': 17, 'possibl': 152, 'right': 307, 'bundl': 121, 'later': 135, 'prematur': 135, 'q': 87, 'absent': 32, 'incomplet': 20, 'prolong': 74, 'beat': 99, 'contour': 45, 'reason': 137, 'evid': 63, 'opac': 70, 'impress': 156, 'interstiti': 13, 'within': 71, 'indic': 152, 'infiltr': 40, '(': 209, 'size': 113, 'wors': 8, 'lat': 49, 'effus': 165, 'final': 135, 'mediastin': 44, 'pm': 108, 'limit': 92, 'carinii': 1, 'pneumonia': 106, 'find': 199, 'bilater': 47, 'medic': 141, 'year': 125, 'failur': 24, 'thi': 176, 'vascular': 28, 'old': 146, 'cough': 39, 'evalu': 58, 'pleural': 94, 'pa': 98, 'increas': 148, 'parenchym': 8, 'pneumocysti': 2, 'pulmonari': 117, 'male': 21, 'set': 16, 'chest': 133, 'radiograph': 66, 'compat': 8, 'man': 71, 'host': 1, 'unremark': 36, 'revis': 2, 'soft': 23, 'tissu': 22, 'fever': 51, 'immunocompromis': 2, 'pneumothorax': 56, '&': 54, 'report': 150, 'osseou': 22, ')': 211, 'pcp': 4, 'examin': 140, 'condit': 136, 'normal': 290, 'structur': 58, 'clip': 134, 'much': 6, 'new': 105, 'ecg': 30, 'probabl': 147, 'baselin': 120, 'make': 33, 'present': 155, 'assess': 60, 'difficult': 68, 'complex': 42, 'rbbb': 5, 'mark': 46, 'abnorm': 327, 'qs': 7, 'avl': 28, 'invers': 36, 'major': 23, 'fibril': 146, 'defect': 22, 'conduct': 75, 'intraventricular': 38, 'ga': 5, 'cardiomediastin': 13, 'stabl': 21, 'comparison': 285, 'costophren': 11, 'thicken': 57, 'hilar': 39, 'unchang': 31, 'short': 54, 'breath': 45, 'describ': 10, 'sob': 21, 'angl': 10, 'difficulti': 3, 'repres': 33, 'secret': 9, 'stomach': 9, 'slight': 23, 'lower': 75, 'pna': 54, 'atelectasi': 34, 'distend': 3, 'eval': 44, 'clear': 55, 'previous': 28, 'woman': 46, 'lobe': 60, 'al': 2, 'less': 59, 'modest': 33, 'avail': 184, 'earlier': 20, 'date': 117, 'depress': 51, 'ischem': 10, 'ha': 155, 'given': 39, 'way': 4, 'state': 5, 'may': 120, 'pattern': 47, 'anterolater': 40, 'diagnost': 163, 'ween': 1, 'si': 1, 'ischemia': 64, 'artifact': 135, 'etc': 7, 'vertic': 4, 'respons': 79, 'could': 45, 'overload': 13, 'rapid': 61, 'somewhat': 17, 'repolar': 56, 'averag': 3, 'slower': 32, 'mar': 3, 'low': 167, 'hydropneumothorax': 2, 'upper': 48, 'rotat': 8, 'ap': 73, 'extrem': 11, 'portabl': 117, 'base': 41, 'respiratori': 34, 'recommend': 31, 'repeat': 20, 'entir': 6, 'enlarg': 59, 'motion': 62, 'opacif': 24, 'character': 3, 'patient': 113, 'dedic': 1, 'fluid': 16, 'view': 63, 'involv': 17, 'small': 56, 'lung': 107, 'blood': 16, 'singl': 30, 'mildli': 60, 'dens': 14, 'track': 3, 'studi': 86, 'along': 9, 'apex': 20, 'pressur': 41, 'flatten': 30, 'extens': 23, 'nondiagnost': 3, 'strain': 7, 'note': 68, 'consid': 94, 'mild': 91, 'delay': 101, 'borderlin': 77, 'ectopi': 59, 'quit': 5, 'syndrom': 7, 'frequent': 21, 'consider': 9, 'promin': 87, 'fast': 4, 'rais': 23, 'pace': 53, 'sequenti': 4, 'sens': 5, 'underli': 35, 'becaus': 6, 'hr': 73, '%': 70, 'smicu': 1, 'red': 2, '``': 7, 'antibiot': 11, 'time': 81, 'id': 3, 'replac': 16, 'wheez': 4, 'bp': 73, 'pta': 2, 'fhpa': 1, 'move': 4, 'yesterday': 5, 'see': 14, \"'s\": 29, 'knee': 1, 'bs': 4, 'alert': 7, 'without': 45, 'rt': 3, 'coccyx': 1, 'lasix': 1, 'transfer': 13, \"''\": 7, 'cc': 12, 'lt': 2, 'deni': 8, 'desat': 2, 'terribl': 1, 'cultur': 7, 'product': 12, 'skin': 11, 'cours': 9, 'shoulder': 2, 'detail': 5, 'pmh': 5, 'dime': 1, 'pain': 23, 'expiratori': 1, 'sat': 15, 'get': 6, 'nausea': 9, 'eccymot': 1, 'hypoxia': 18, 'tegaderm': 1, 'angio': 1, 'intermitt': 5, 'last': 17, 'hpa': 1, 'afebril': 5, 'access': 8, 'resp': 11, 'admit': 39, 'void': 3, 'mid': 37, 'hx': 12, 'stool': 9, 'complaint': 8, 'place': 17, 'abdomen': 13, 'gi': 8, 'pt': 13, 'leg': 5, 'area': 22, 'hypertens': 34, 'broken': 1, 'veri': 16, 'sound': 15, 'l': 18, 'extremitti': 1, 'good': 21, 'neuro': 6, 'vomit': 7, 'nc': 7, 'yo': 10, 'nsg': 3, 'inflitr': 1, 'doe': 13, 'admiss': 13, 'thoughout': 1, 'site': 5, 'bowel': 12, 'neg': 6, 'foley': 8, 'cardiac': 49, 'arm': 9, 'mastectomi': 1, 'bilat': 1, 'reciev': 1, 'frozen': 1, 'multipl': 24, 'movement': 5, 'osteo': 1, 'orient': 8, 'forearm': 1, 'abl': 2, 'earli': 47, 'wall': 87, 'somat': 1, 'margin': 4, 'tremor': 1, 'simul': 1, 'hemiblock': 4, 'improv': 25, 'iii': 23, 'avf': 23, 'ii': 22, 'howev': 23, 'biphas': 2, 'record': 16, 'late': 38, 'transit': 56, 'focal': 41, 'consolid': 50, 'consist': 82, 'resolut': 14, 'document': 6, 'follow': 18, 'precordium': 3, 'technic': 79, 'leftward': 28, 'hazi': 7, 'perihilar': 14, 'surround': 3, 'obtain': 35, 'patchi': 22, 'edema': 41, 'infect': 19, 'film': 7, 'show': 17, 'airspac': 15, 'versu': 11, 'treatment': 12, 'greater': 11, 'larg': 28, 'otherwis': 102, 'rightward': 18, 'bradycardia': 28, 'primari': 10, 'qtc': 15, 'statu': 87, 'tube': 28, 'tip': 32, 'tracheostomi': 12, 'residu': 2, 'cardiomegali': 7, 'clavicl': 4, 'moder': 68, 'hypox': 3, 'trach': 2, 'concern': 21, 'retrocardiac': 10, 'obes': 6, 'post': 17, 'ptx': 3, 'level': 57, 'also': 49, 'vasculatur': 11, 'recent': 29, 'side': 26, 'diseas': 40, 'asymmetr': 6, 'venticuloperiton': 1, 'upright': 23, 'shunt': 4, 'overli': 11, 'field': 17, 'travers': 1, 'includ': 42, 'cathet': 14, 'tc': 6, 'definit': 24, 'relat': 24, 'accompani': 3, 'acut': 57, 'part': 19, 'evolut': 7, 'inferolater': 27, 'amplitud': 18, 'junction': 15, 'cannoit': 1, 'limb': 80, 'trigemin': 1, 'quadrigemin': 1, 'higher': 4, 'appar': 17, 'rest': 49, 'type': 9, 'qualiti': 71, 'first': 17, 'degre': 27, 'collaps': 12, 'curvilinear': 1, 'zone': 10, 'rule': 17, 'dyspnea': 10, 'pulmonal': 1, 'combin': 10, 'plu': 4, 'excit': 3, 'voiltag': 1, 'physiolog': 32, 'slightli': 30, 'cor': 1, 'second': 5, 'pre': 2, 'peak': 7, 'criteria': 8, 'wander': 3, 'fulfil': 2, 'millimet': 2, 'analyz': 2, 'vi': 10, 'tall': 3, 'precordi': 92, 'supraventricularrhythm': 1, 'ectop': 15, 'process': 40, 'fairli': 1, 'width': 4, 'fusion': 2, 'spike': 3, 'narrow': 6, 'decreas': 49, 'rhyth': 1, 'interim': 56, 'discrib': 1, 'posterior': 16, 'configur': 9, 'pr': 32, 'extrasystol': 4, 'pat': 1, 'run': 1, 'asp': 2, 'chf': 15, 'aorta': 61, 'air': 24, 'histori': 73, 'tortuou': 5, 'effuion': 1, 'cva': 4, 'room': 2, 'remaind': 4, 'peg': 4, 'illdefin': 1, 'bronchogram': 5, 'distress': 14, 'followup': 14, 'spar': 1, 'diagnosi': 33, 'ard': 2, 'differenti': 8, 'hemorrhag': 13, 'rel': 12, 'although': 41, 'atyp': 10, 'slow': 18, 'center': 2, 'pneumon': 5, 'portion': 10, 'convex': 4, 'spine': 11, 'extent': 8, 'middl': 9, 'scoliosi': 5, 'infil': 1, 'lesser': 3, 'two': 13, 'thorac': 18, 'pvc': 1, 'omit': 1, 'faulti': 1, 'analysi': 6, 'subsequ': 6, 'ct': 45, 'servic': 5, 'well': 55, 'procedur': 7, 'barocat': 1, 'hour': 20, 'n': 8, 'identifi': 21, 'distinct': 2, 'aspir': 19, 'baracat': 1, 'drink': 1, 'continu': 15, 'pacemak': 11, 'regular': 17, 'tn': 1, 'biatrial': 14, 'septal': 41, 'partli': 6, 'chronic': 27, 'superimpos': 5, 'symmetr': 27, 'c': 36, 'silhouett': 25, 'cardio': 1, 'remain': 25, 'return': 6, 'none': 85, 'thrombosi': 1, 'thrombu': 6, 'compress': 8, 'ext': 3, 'wet': 22, 'unilat': 1, 'read': 24, 'vein': 7, 'intralumin': 1, 'superfici': 2, 'waveform': 1, 'poplit': 2, 'augment': 1, 'sun': 4, 'common': 2, 'dvet': 1, 'ultrasound': 3, 'clot': 1, 'doppler': 66, 'femor': 2, 'deep': 3, 'imag': 76, 'demonstr': 16, 'color': 66, 'sga': 2, 'swell': 1, 'variant': 22, 'pericard': 4, 'mean': 8, 'h': 15, 'would': 10, 'calcif': 37, 'plaqu': 1, 'asbesto': 1, 'exposur': 2, 'hemidiaphragm': 8, 'alveolar': 4, 'engorg': 4, 'congest': 24, 'mrsa': 2, 'mass': 22, 'per': 19, 'approxim': 6, 'minut': 9, 'occasion': 23, 'critria': 1, 'cavit': 4, 'similar': 40, 'question': 18, 'persist': 33, 'space': 7, 'seizur': 4, 'rod': 2, 'round': 6, 'cxr': 19, 'minim': 21, 'palsi': 3, 'cerebr': 4, 'sz': 2, 'lucenc': 2, 'rll': 6, 'darker': 1, 'cpr': 1, 'gaug': 5, 'might': 3, 'line': 20, 'taper': 2, 'sign': 19, 'head': 19, 'home': 10, 'constitut': 4, 'conjunctiva': 3, 'warm': 4, 'balanc': 6, 'tachypnea': 4, 'sle': 1, 'factor': 4, 'radial': 6, 'throat': 6, 'impair': 6, 'free': 64, 'lft': 3, 'thymoma': 1, 'drain': 7, 'tcurrent': 6, 'reaction': 2, 'allergi': 9, 'tomorrow': 2, 'heparin': 5, 'heme': 2, 'cytoxan': 1, 'cellcept': 1, 'cancer': 9, 'use': 13, 'vs': 6, 'brbpr': 1, 'defer': 1, 'children': 1, 'pleura': 2, 'intub': 18, 'gram': 2, 'hpi': 6, '@': 3, 'tmax': 7, 'bank': 1, 'observ': 4, 'carboplatin': 1, 'mouth': 2, 'attent': 5, 'devic': 5, 'diagnos': 6, 'ivf': 9, '{': 9, 'fatigu': 4, 'dri': 5, 'thin': 6, 'bell': 1, 'integumentari': 3, 'vital': 6, 'caus': 8, 'lnc': 2, 'occup': 5, '}': 9, 'e': 13, 'adriamycin': 1, 'deliveri': 4, 'rash': 6, 'serolog': 1, 'crackl': 6, 'known': 8, 'nutrit': 6, 'cannula': 3, 'musculoskelet': 3, 'lb': 62, 'albuterol': 3, 'check': 7, 'autoimmun': 1, 'ani': 7, 'cardiovascular': 4, 'therapeut': 1, 'uf': 3, 'month': 5, 'synthet': 1, 'help': 5, 'insp': 6, 'glycem': 6, 'physic': 6, 'sp': 1, 'respond': 4, 'qd': 2, 'loss': 12, 'requir': 11, 'tender': 9, 'natur': 3, 'murmur': 6, 'emerg': 11, 'icu': 8, 'ideal': 3, 'overnight': 3, 'instruct': 1, 'levaquin': 2, 'drug': 9, 'radiat': 4, 'mention': 4, 'leukocytosi': 5, 'gener': 60, 'review': 36, 'inflammatori': 3, 'social': 9, 'eye': 4, 'metastat': 4, 'day': 21, 'argu': 1, 'prophylaxi': 14, 'nasal': 4, 'icter': 1, 'ng': 11, 'colac': 2, 'piv': 6, 'diabet': 2, 'chef': 1, 'treat': 8, 'slowli': 1, 'beam': 1, 'wbc': 4, 'volum': 26, 'say': 2, 'lul': 3, 'tf': 6, 'trend': 3, 'cisplatin': 1, 'tobacco': 6, 'diet': 6, 'wast': 2, 'sq': 5, 'mani': 2, 'dp': 4, 'peripher': 7, 'hospic': 1, 'elev': 33, 'onc': 3, 'discuss': 15, 'jaundic': 2, 'receiv': 7, 'spo': 9, 'ipratropium': 3, 'sclera': 3, 'regimen': 3, 'curv': 2, 'vap': 5, 'plan': 13, 'grade': 11, 'nose': 4, 'lyte': 2, 'work': 5, 'sure': 1, 'chief': 6, 'pictur': 3, 'ns': 7, 'abdomin': 12, 'function': 66, 'strip': 2, 'vanc': 2, 'infus': 7, 'alcohol': 7, 'sputum': 10, 'radiolog': 8, 'mg': 6, 'potsasium': 1, 'paclitaxel': 1, 'flare': 1, 'count': 1, 'malign': 3, 'yellow': 4, '[': 41, 'oncologist': 1, 'weight': 65, ']': 42, 'taxol': 1, 'send': 2, 'white': 6, 'puls': 13, 'lab': 8, 'enzym': 3, 'iv': 38, 'systol': 67, 'droop': 2, 'look': 4, 'hyponatrem': 1, 'inr': 2, 'plasmapheresi': 2, 'command': 5, 'microscop': 1, 'data': 17, 'total': 7, 'water': 1, 'jpg': 6, 'cell': 9, 'metastas': 3, 'worsen': 19, 'xeloda': 1, 'care': 21, 'diplopia': 1, 'plasma': 1, 'though': 9, 'seek': 1, 'stress': 6, 'mmhg': 23, 'penicillin': 3, 'go': 3, 'lid': 1, 'disposit': 6, 'headach': 4, 'comment': 49, 'one': 8, 'rescucit': 1, 'hemodynam': 6, 'temp': 4, 'complain': 3, 'rr': 8, 'call': 13, 'weekli': 1, 'liver': 9, 'lactulos': 1, 'thoracentesi': 3, 'quadrant': 4, 'cycl': 5, 'consult': 7, 'come': 2, 'ms': 17, 'commun': 10, 'meq': 2, 'steroid': 2, 'week': 9, 'ove': 1, 'bpm': 67, 'flowsheet': 6, 'must': 2, 'manag': 4, 'bandemia': 2, 'hyponatremia': 2, 'neoadjuv': 1, 'symptom': 7, 'perrl': 4, 'high': 11, 'tone': 4, 'found': 7, 'obstruct': 3, 'ml': 9, 'paralyz': 1, 'urin': 11, 'levofloxacin': 8, 'normocephal': 4, 'hepat': 6, 'simpl': 8, 'code': 6, 'control': 18, 'diarrhea': 5, 'siadh': 2, 'monitor': 11, 'dvt': 6, 'er': 5, 'ed': 12, 'thick': 41, 'expans': 4, 'full': 53, 'beeen': 1, 'oxygen': 11, 'lpm': 1, 'rise': 1, 'sodium': 3, 'arriv': 11, 'restrict': 3, 'lack': 2, 'ear': 8, 'nodul': 5, 'husband': 1, 'southern': 1, 'alimta': 1, 'marri': 1, 'cachect': 1, 'develop': 8, 'ladi': 1, 'tarceva': 1, 'empir': 1, 'famili': 9, 'prednison': 3, 'initi': 8, 'offer': 1, 'ammonia': 1, 'neurolog': 4, 'po': 9, 'past': 7, 'doxil': 1, 'min': 14, 'need': 15, 'osmol': 1, 'neb': 6, 'extern': 2, 'resect': 3, 'ulcer': 7, 'complet': 60, 'drop': 4, 'pmi': 1, 'etiolog': 10, 'dose': 7, 'gentl': 1, 'myasthenia': 1, 'team': 2, 'contact': 8, 'system': 7, 'suppress': 1, 'muscl': 14, 'neutrophil': 2, 'suboptim': 37, 'contractil': 12, 'rv': 56, 'visual': 30, 'mitral': 61, 'lvh': 19, 'significantli': 13, 'contrast': 92, 'inpati': 63, 'focus': 15, 'pericardium': 65, 'acoust': 8, 'bsa': 58, 'deoress': 1, 'annular': 26, 'tricuspid': 60, 'valv': 62, 'hg': 64, 'interpret': 74, 'dilat': 55, 'least': 8, 'shadow': 8, 'aortic': 66, 'pulmon': 39, 'lv': 53, 'pericardi': 66, 'surgeri': 9, 'test': 66, 'caviti': 61, 'gradient': 36, 'underestim': 9, 'ra': 50, 'conclus': 67, 'mm': 76, 'echo': 29, 'broadli': 1, 'interatri': 54, 'septum': 56, 'avr': 3, 'tte': 63, 'height': 59, 'adequ': 45, 'sever': 36, 'prosthesi': 2, 'window': 20, 'ventricl': 74, 'atrium': 62, 'mr': 50, 'regurgit': 58, 'leaflet': 59, 'bioprosthet': 2, 'la': 51, 'inform': 68, 'lvef': 56, 'arteri': 64, 'ativ': 1, 'bigemini': 3, 'discern': 2, 'calcifi': 13, 'chamber': 47, '>': 49, 'elong': 8, 'flow': 12, 'stenosi': 45, 'region': 51, 'trivial': 38, 'obscur': 16, 'deminer': 1, 'fractur': 13, 'satur': 6, 'associ': 21, 'chin': 2, 'suspect': 1, 'result': 11, 'posteriorli': 2, 'posit': 54, 'keep': 3, 'wedg': 5, 'vessel': 8, 'frontal': 24, 'pronounc': 12, 'subtl': 6, 'kyphosi': 2, 'ar': 48, 'diamet': 48, 'root': 22, 'lvot': 32, 'tr': 49, 'ascend': 40, 'fulli': 17, 'excurs': 16, 'overal': 35, 'unavail': 6, 'addit': 16, 'invert': 4, 'uncertain': 15, 'placement': 21, 'sternum': 1, 'differ': 12, 'physician': 4, 'order': 7, 'offic': 3, 'correspond': 5, 'tamponad': 13, 'brief': 3, 'echocardiograph': 21, 'diastol': 15, 'variat': 8, 'circumferenti': 8, 'exam': 22, 'copd': 3, 'indistinct': 3, 'picc': 5, 'reflect': 5, 'beyond': 1, 'compon': 8, 'subclavian': 7, 'multilobar': 4, 'bibasilar': 9, 'supin': 5, 'brachiocephal': 2, 'hypercarbia': 1, 'third': 2, 'w': 48, 'delin': 2, 'osh': 15, 'throughout': 17, 'aerat': 10, 'provid': 10, 'hemithorax': 9, 'adjac': 10, 'asthma': 1, 'bodi': 14, 'habitu': 8, 'hypercarb': 1, 'techniqu': 35, 'morbid': 1, 'except': 10, 'minor': 15, 'organ': 4, 'coil': 1, 'defin': 4, 'endotrach': 9, 'abov': 24, 'dr': 15, 'ill': 6, 'local': 2, 'context': 3, 'proxim': 4, 'back': 3, 'carina': 12, 'cholecystectomi': 2, 'ett': 7, 'cm': 34, 'coexist': 1, 'superiorli': 2, 'basilar': 14, 'clavicular': 1, 'suspici': 8, 'esophagu': 3, 'enter': 2, 'superior': 13, 'recurr': 5, 'grossli': 7, 'today': 15, 'dx': 1, 'pulm': 4, 'heterogen': 3, 'mesenter': 1, 'pelvi': 3, 'symphysi': 1, 'celiac': 1, 'loop': 3, 'patholog': 8, 'oral': 5, 'cyst': 2, 'sagitt': 6, 'coron': 6, 'spleen': 3, 'lesion': 11, 'parapelv': 1, 'wed': 2, 'axial': 14, 'sclerot': 5, 'amt': 6, 'kidney': 4, 'adren': 2, 'bladder': 1, 'contraind': 26, 'pubi': 1, 'nonion': 3, 'reconstruct': 4, 'phase': 1, 'pancrea': 2, 'administr': 7, 'patent': 5, 'lumbar': 2, 'gallbladd': 2, 'bone': 12, 'gland': 2, 'optiray': 4, 'allow': 3, 'lytic': 4, 'degen': 8, 'optim': 2, 'rare': 4, 'diagost': 1, 'secondari': 21, 'account': 1, 'mwave': 1, 'paus': 1, 'unsuit': 2, 'embolu': 8, 'metabol': 7, 'decis': 8, 'aha': 8, 'risk': 5, 'endocard': 9, 'hypotens': 13, 'hypokinesi': 22, 'biventricular': 11, 'estim': 25, 'global': 28, 'regard': 10, 'toxin': 2, 'cad': 9, 'satisfactori': 1, 'visapaqu': 1, 'bolu': 7, 'essenti': 2, 'pleurit': 2, 'acquir': 9, 'cont': 8, 'administ': 7, 'airway': 6, 'visipaqu': 1, 'fill': 9, 'malb': 1, 'calib': 1, 'inject': 5, 'hort': 1, 'mdct': 4, 'inlet': 3, 'anatomi': 1, 'contigu': 9, 'spondylolisthesi': 1, 'tue': 4, 'equal': 2, 'recon': 1, 'cta': 4, 'emboli': 2, 'perform': 29, 'mpr': 1, 'axillari': 2, 'embol': 5, 'valu': 1, 'lymphadenopathi': 6, 'bronchi': 2, 'ionic': 3, 'pe': 7, 'mechan': 18, 'latter': 1, 'arrhythmia': 9, 'tachi': 3, 'basal': 27, 'transmitr': 6, 'dysfunct': 15, 'wire': 7, 'apic': 18, 'hypo': 11, 'akinet': 13, 'inflow': 6, 'inferosept': 6, 'akinesi': 12, 'veloc': 6, 'attach': 3, 'correctli': 1, 'arf': 2, 'hiv': 9, 'central': 10, 'svc': 7, 'vl': 1, 'cd': 1, 'k': 1, 'ij': 4, 'hi': 8, 'venou': 6, 'sex': 1, 'revers': 5, 'crackel': 1, 'hardwar': 3, 'toward': 2, 'surgic': 4, 'cervic': 6, 'partial': 13, 'shift': 17, 'outsid': 7, 'hospit': 9, 'canal': 2, 'matter': 5, 'ethmoid': 2, 'medial': 3, 'bleed': 8, 'sulci': 6, 'inner': 1, 'lacun': 3, 'mucos': 5, 'paranas': 8, 'maxillari': 4, 'microvascular': 3, 'intracrani': 8, 'cerumen': 2, 'scan': 7, 'amount': 9, 'periventricular': 3, 'preserv': 15, 'sinus': 12, 'unrespons': 2, 'midlin': 14, 'shorter': 6, 'implic': 7, 'cardiogen': 3, 'end': 4, 'annuloplasti': 2, 'transaort': 1, 'papillari': 10, 'g': 6, 'shock': 5, 'ring': 2, 'mv': 1, 'constel': 1, 'houseoffic': 4, 'telephon': 5, 'hct': 5, 'hematocrit': 1, 'collect': 3, 'intraperiton': 1, 'uret': 1, 'psoa': 1, 'helic': 3, 'unopacifi': 1, 'creat': 1, 'drainag': 4, 'distal': 15, 'bump': 1, 'percutan': 1, 'adnex': 1, 'b': 6, 'asssess': 1, 'perc': 1, 'creatinin': 1, 'point': 8, 'abscess': 5, 'rectum': 1, 'retroperiton': 1, 'contract': 20, 'aberr': 5, 'int': 1, 'disturb': 2, 'horizont': 1, 'frankli': 2, 'prolaps': 23, 'arch': 18, 'inferi': 1, 'hyperluc': 1, 'th': 1, 'feasibl': 4, 'distort': 2, 'mandibl': 2, 'project': 6, 'standard': 8, 'nasogastr': 6, 'dictat': 2, 'postur': 1, 'warrant': 2, 'swegment': 1, 'downslop': 3, 'densiti': 6, 'metal': 4, 'stroke': 1, 'better': 8, 'qt': 2, 'fine': 2, 'expand': 1, 'ro': 3, 'breat': 1, 'mainli': 2, 'destruct': 1, 'cabg': 3, 'median': 1, 'metastasi': 2, 'scatter': 5, 'attenu': 1, 'foci': 5, 'great': 2, 'intraven': 6, 'parapneumon': 1, 'colon': 2, 'lymph': 5, 'sternotomi': 3, 'innumer': 1, 'infecti': 8, 'predominantli': 4, 'ca': 8, 'ascit': 1, 'thoracotomi': 1, 'materi': 4, 'contain': 4, 'empyema': 1, 'ethiodol': 1, 'bubbl': 1, 'debil': 1, 'presenc': 8, 'node': 4, 'thoracoscopi': 1, 'digitali': 1, 'clockwis': 1, 'deeper': 1, 'gastrostomi': 1, 'rul': 4, 'nodular': 4, 'hilum': 3, 'lobul': 1, 'smaller': 4, 'reverst': 1, 'configuratioj': 1, 'fellow': 8, 'cardiolog': 8, 'number': 5, 'determin': 16, 'chorda': 14, 'diphas': 1, 'reduc': 6, 'atrio': 6, 'hypokinet': 2, 'veget': 3, 'coapt': 2, 'transesophag': 1, 'bicuspid': 1, 'ef': 6, 'congenit': 2, 'hypocontractil': 1, 'mvp': 20, 'coanda': 1, 'effect': 15, 'hyperdynam': 5, 'ventil': 12, 'fail': 2, 'eccentr': 2, 'jet': 2, 'secundum': 1, 'jugular': 8, 'distens': 1, 'tract': 5, 'coarctat': 8, 'outflow': 3, 'insignific': 1, 'tape': 1, 'patiernt': 1, 'wider': 3, 'long': 5, 'electrolyt': 5, 'measur': 12, 'activ': 8, 'via': 8, 'electrod': 3, 'benefit': 3, 'et': 6, 'absenc': 2, 'attempt': 2, 'blunt': 4, 'lie': 3, 'humer': 2, 'femal': 13, 'exagger': 3, 'ray': 6, 'x': 19, 'screw': 1, 'plate': 1, 'irregular': 6, 'tachycard': 6, 'sag': 1, 'irregularli': 1, 'relax': 5, 'tvi': 3, 'encephalopathi': 1, 'ablat': 1, 'granul': 1, 'teeth': 3, 'resid': 2, 'pea': 1, 'nh': 2, 'arrest': 1, 'near': 7, 'anox': 1, 'tongu': 1, 'extract': 2, 'vt': 1, 'action': 3, 'levo': 3, 'ago': 4, 'done': 6, 'ew': 3, 'damag': 2, 'bite': 1, 'brain': 7, 'cefapim': 1, 'bronch': 1, 'injuri': 3, 'ground': 3, 'travel': 1, 'abroad': 1, 'multiplanar': 5, 'onset': 3, 'accord': 3, 'linear': 3, 'stay': 1, 'confirm': 4, 'scar': 4, 'evolv': 4, 'protocol': 1, 'six': 1, 'aquir': 2, 'discret': 2, 'hypersensit': 1, 'reformat': 6, 'glass': 3, 'intraarteri': 1, 'pneumothorac': 2, 'ctu': 1, 'ensur': 4, 'five': 2, 'boul': 1, 'episod': 4, 'pleas': 19, 'hand': 3, 'written': 1, 'chart': 1, 'frequenc': 3, 'support': 14, 'suction': 3, 'mostli': 1, 'awak': 3, 'reveal': 3, 'tan': 2, 'ventilatori': 3, 'close': 3, 'carevu': 1, 'abg': 4, 'appropri': 7, 'markedli': 10, 'inferiorli': 5, 'esophagogastr': 1, 'cardiopulmonari': 6, 'necessari': 1, 'port': 7, 'fungal': 1, 'extend': 8, 'massiv': 1, 'unlikey': 1, 'substanti': 4, 'quantifi': 4, 'excel': 1, 'particularli': 6, 'med': 3, 'rml': 5, 'cavitari': 3, 'parenchyma': 1, 'pseudonorm': 2, 'four': 1, 'distribut': 3, 'pnm': 1, 'bacteri': 4, 'card': 1, 'gu': 5, 'pill': 1, 'friend': 1, 'whz': 1, 'mask': 1, 'held': 1, 'made': 11, 'pend': 5, 'floor': 6, 'tol': 1, 'teen': 1, 'taken': 2, 'befor': 5, 'aros': 1, 'dure': 11, 'atr': 1, 'subsid': 1, 'alb': 1, 'nurs': 6, 'arous': 2, 'bipap': 2, 'sent': 7, 'ditropan': 1, 'ausc': 1, 'upon': 5, 'titrat': 2, 'take': 6, 'recov': 1, 'sbp': 5, 'insulin': 2, 'awar': 1, 'night': 4, 'turn': 1, 'pleasant': 1, 'gtt': 1, 'somnul': 1, 'md': 5, 'u': 5, 'visit': 2, 'makest': 1, 'pf': 1, \"'\": 19, 'rsr': 13, 'perhap': 3, 'rather': 4, 'gangren': 1, 'locul': 9, 'best': 4, 'anteriorli': 2, 'necrot': 2, 'spicul': 1, 'live': 6, 'facil': 2, 'dfddp': 3, 'complic': 6, 'pmhx': 1, 'border': 8, 'restor': 1, 'confluent': 8, 'locat': 6, 'minu': 4, 'millisecond': 6, 'plane': 6, 'durat': 5, 'j': 5, 'infact': 1, 'half': 2, 'diminish': 10, 'displac': 1, 'hila': 3, 'rib': 6, 'fixat': 1, 'flex': 1, 'widen': 3, 'flub': 1, 'neck': 7, 'pedicl': 1, 'advanc': 6, 'list': 2, 'aspect': 1, 'centimet': 2, 'redistribut': 3, 'termin': 8, 'witout': 1, 'deflect': 4, 'layer': 2, 'satisfactorili': 1, 'cross': 3, 'bedsid': 7, 'recumb': 1, 'eject': 8, 'detect': 3, 'fraction': 7, 'outpati': 2, 'transmur': 2, 'temperatur': 1, 'hyperinfl': 2, 'av': 1, 'clearli': 3, 'immedi': 1, 'element': 3, 'epicardium': 1, 'rap': 2, 'respir': 7, 'tether': 2, 'constrict': 4, '<': 17, 'cellular': 3, 'largest': 1, 'echodens': 1, 'inflamm': 3, 'echoluc': 1, 'becom': 2, 'descend': 3, 'ivc': 14, 'therefor': 1, 'miniatur': 1, 'proper': 1, 'taller': 1, 'tini': 3, 'lll': 6, 'interstitium': 1, 'ganz': 1, 'newli': 2, 'peribronchi': 2, 'swan': 1, 'kmcd': 1, 'hypoventil': 1, 'main': 8, 'esp': 1, 'spars': 1, 'insert': 2, 'intern': 6, 'preoper': 1, 'pacer': 3, 'precodi': 1, 'tdi': 6, 'ps': 23, 'threshold': 2, 'inhibitor': 2, 'index': 6, 'ace': 2, 'blocker': 3, 'beta': 3, 'pcwp': 6, 'imposs': 2, 'flat': 1, 'depolar': 9, 'chill': 6, 'prescript': 2, 'salmeterol': 1, 'exert': 1, 'boniva': 1, 'touch': 2, 'f': 9, 'organomegali': 1, 'acetaminophen': 2, 'dysuria': 4, 'atelactasi': 1, 'budesonid': 1, 'direct': 4, 'pack': 1, 'subcutan': 3, 'iron': 2, 'click': 1, 'ppi': 4, 'lisinopril': 1, 'promethazin': 1, 'rebound': 1, 'palpit': 2, 'insomnia': 1, 'statin': 2, 'sir': 1, 'sulfasalazin': 1, 'lidocain': 2, 'daili': 4, 'releas': 2, 'experienc': 1, 'suppl': 2, 'spiriva': 1, 'sr': 3, 'scale': 2, 'calcium': 1, 'ekg': 2, 'urgenc': 2, 'folat': 3, 'mildi': 3, 'everi': 2, 'fen': 4, 'ua': 4, 'solumedrol': 1, 'guard': 1, 'wellbutrin': 1, 'exacerb': 3, 'cyanosi': 1, 'bromid': 2, 'ibandron': 1, 'refil': 1, 'micro': 1, 'flexeril': 1, 'multivitamin': 1, 'atenolol': 2, 'meal': 1, 'twice': 2, 'azithromycin': 2, 'illicit': 1, 'suppli': 1, 'ferrou': 1, 'titl': 1, 'add': 2, 'sucralf': 1, 'immobl': 1, 'inch': 1, 'tablet': 1, 'lad': 4, 'tendin': 1, 'acid': 3, 'oropharynx': 1, 'pregabalin': 1, 'hypovolemia': 3, 'rebreath': 2, 'folic': 1, 'jvp': 1, 'ceftriaxon': 2, 'machineri': 1, 'club': 1, 'aaa': 1, 'mania': 1, 'twi': 1, 'cyanocobalamin': 2, 'inh': 2, 'invas': 4, 'pantoprazol': 1, 'inhal': 1, 'gain': 1, 'mucosa': 1, 'hs': 1, 'bupropion': 1, 'nrb': 2, 'ngtd': 1, 'weak': 4, 'fe': 1, 'trazodon': 1, 'hold': 3, 'propoxyphen': 1, 'otc': 1, 'defici': 1, 'myalgia': 2, 'disku': 1, 'disk': 1, 'start': 10, 'nebul': 1, 'amitriptylin': 1, 'dosag': 2, 'cv': 5, 'replet': 1, 'heent': 2, 'capsul': 1, 'cream': 1, 'aspirin': 3, 'rec': 3, 'even': 5, 'prescrib': 1, 'rang': 3, 'vitamin': 2, 'lipitor': 1, 'cyclobenzaprin': 1, 'bedtim': 1, 'spasm': 1, 'perfus': 1, 'gm': 2, 'crohn': 2, 'refer': 3, 'lmx': 1, 'stand': 2, 'trigger': 3, 'wear': 3, 'rhinorrhea': 1, 'oper': 2, 'fluticason': 1, 'hydromorphon': 2, 'darvocet': 1, 'arthralgia': 1, 'microbiolog': 4, 'atorvastatin': 1, 'tizanidin': 1, 'dilaudid': 1, 'hypercholesterolemia': 2, 'liter': 2, 'sepsi': 5, 'three': 4, 'sulfat': 1, 'asa': 2, 'appoint': 1, 'slide': 1, 'tab': 1, 'microcyt': 1, 'anti': 2, 'handihal': 1, 'consequ': 2, 'anicter': 1, 'anemia': 5, 'tiotropium': 1, 'drive': 1, 'mcg': 2, 'urgent': 3, 'supratherapeuti': 1, 'advair': 1, 'hcl': 1, 'cuff': 3, 'htn': 4, 'decompens': 1, 'lyrica': 1, 'puff': 1, 'encas': 1, 'intrathorac': 5, 'duoden': 1, 'torso': 1, 'rcc': 1, 'renal': 4, 'carcinoma': 2, 'toxic': 3, 'substanc': 1, 'pericardiocentesi': 1, 'behind': 1, 'accumul': 1, 'notifi': 4, 'reassess': 2, 'person': 4, 'segmenmt': 1, 'semi': 5, 'pneumatocel': 1, 'remov': 5, 'vent': 4, 'pinkish': 1, 'nrbm': 1, 'ambu': 1, 'dni': 3, 'fed': 1, 'open': 1, 'ls': 2, 'react': 1, 'co': 1, 'answer': 2, 'lactat': 4, 'pupil': 2, 'slept': 1, 'emot': 1, 'dm': 1, 'legal': 1, 'transffer': 1, 'put': 2, 'watch': 1, 'flagyl': 2, 'vss': 1, 'nkda': 1, 'lymphedema': 1, 'next': 4, 'guardian': 1, 'intact': 6, 'alzheim': 1, 'integu': 1, 'ul': 1, 'dnr': 3, 'vanco': 3, 'remark': 2, 'ask': 1, 'breast': 4, 'precaut': 1, 'lit': 1, 'micu': 3, 'bm': 2, 'amber': 1, 'food': 4, 'bag': 1, 'sleepi': 2, 'afib': 1, 'file': 1, 'dementia': 1, 'cath': 1, 'letharg': 1, 'cyanos': 1, 'output': 1, 'reciv': 1, 'levoquin': 1, 'em': 2, 'transplant': 2, 'highli': 3, 'suit': 1, 'translplant': 1, 'rhonchi': 5, 'effort': 1, 'cardiopulm': 1, 'approach': 5, 'sequenc': 2, 'cholecyst': 1, 'gb': 1, 'hemangioma': 1, 'us': 1, 'basi': 1, 'hyperecho': 1, 'sx': 1, 'contribut': 2, 'offset': 1, 'dimens': 2, 'multiphas': 1, 'kcld': 1, 'hypoecho': 1, 'stone': 1, 'abd': 5, 'fnh': 1, 'ruq': 2, 'mri': 8, 'incident': 1, 'greatest': 2, 'portal': 1, 'nonemerg': 1, 'fatti': 1, 'ubnchang': 1, 'cdi': 1, 'prn': 4, 'tachypn': 3, 'midnight': 1, 'inadequ': 2, 'toler': 5, 'inspir': 1, 'lumen': 2, 'portacath': 2, 'grasp': 1, 'daughter': 1, 'clamp': 1, 'occlus': 1, 'resist': 1, 'coars': 1, 'inpir': 1, 'wrist': 1, 'morphin': 2, 'strong': 1, 'esophagectomi': 1, 'palpabl': 1, 'steristrip': 1, 'rn': 1, 'graviti': 1, 'lap': 1, 'tubefeed': 1, 'throb': 1, 'wean': 5, 'heplock': 1, 'assist': 4, 'zosyn': 2, 'map': 3, 'radic': 1, 'needl': 1, 'cdb': 1, 'constant': 2, 'dress': 2, 'tsicu': 1, 'roxicet': 1, 'perivascular': 1, 'unalt': 1, 'preced': 1, 'unilater': 2, 'exist': 3, 'erect': 1, 'haze': 1, 'bypass': 1, 'sit': 2, 'coronari': 5, 'fissur': 5, 'cortic': 1, 'atrophi': 4, 'ongo': 2, 'lacunar': 1, 'signic': 1, 'diathesi': 1, 'lentiform': 2, 'ganglia': 5, 'attend': 2, 'hematoma': 2, 'cavern': 1, 'carotid': 2, 'boni': 3, 'disclos': 1, 'herniat': 2, 'centrum': 1, 'hemispher': 1, 'subdur': 2, 'caudat': 1, 'semioval': 1, 'nucleu': 2, 'insuff': 1, 'atherosclerot': 3, 'sequela': 1, 'milder': 1, 'effac': 1, 'mix': 1, 'subfalcin': 2, 'territori': 6, 'phone': 2, 'jbre': 1, 'hypodens': 6, 'addendum': 1, 'ts': 7, 'vsd': 7, 'pda': 4, 'facilit': 1, 'ft': 1, 'heel': 1, 'palp': 1, 'bil': 1, 'adm': 1, 'aid': 2, 'dist': 1, 'cpt': 1, 'abx': 1, 'appetit': 1, 'feel': 3, 'becam': 1, 'decras': 1, 'intak': 2, 'freq': 1, 'inexafl': 1, 'almost': 1, 'polio': 1, 'inc': 2, 'nsr': 2, 'hydrat': 1, 'wide': 6, 'neoplasm': 1, 'tx': 1, 'sulcu': 1, 'cephal': 1, 'staff': 2, 'paratrach': 1, 'rhonci': 1, 'stripe': 1, 'viral': 2, 'display': 1, 'mediastinum': 9, 'varicella': 1, 'mycoplasma': 1, 'outer': 1, 'acquisit': 1, 'lingula': 2, 'reactiv': 3, 'cmv': 1, 'ie': 1, 'shortli': 1, 'reticular': 1, 'jiroveci': 1, 'iindetermin': 1, 'parotid': 1, 'eg': 1, 'uniform': 1, 'cxwc': 1, 'tonsillar': 1, 'retropharyng': 1, 'fat': 4, 'mon': 3, 'adenoid': 1, 'tonsil': 1, 'swallow': 3, 'lingual': 1, 'piriform': 1, 'prevertebr': 1, 'sore': 1, 'parapharyng': 1, 'epiglotti': 1, 'prevert': 1, 'epiglott': 1, 'chain': 1, 'coincid': 1, 'widespread': 4, 'visibl': 1, 'unknown': 5, 'explain': 1, 'worrisom': 3, 'origin': 2, 'lipomat': 2, 'bounc': 1, 'asd': 9, 'valvular': 7, 'bronchiectasi': 2, 'correct': 3, 'tuberculosi': 1, 'thought': 2, 'emphysema': 5, 'respr': 1, 'traction': 2, 'scapula': 1, 'inhibit': 1, 'peripheri': 1, 'cuf': 1, 'lethargi': 1, 'sternal': 1, 'debrid': 1, 'closur': 1, 'mvr': 2, 'couplet': 4, 'intrins': 5, 'parastern': 1, 'decel': 2, 'percent': 3, 'architectur': 1, 'presum': 3, 'stage': 1, 'fibrosi': 3, 'sarcoidosi': 1, 'honeycomb': 1, 'easili': 2, 'bullou': 1, 'sarcoid': 2, 'predomin': 1, 'triplet': 1, 'hyperacut': 3, 'hyperkalemia': 6, 'rale': 1, 'pl': 1, 'focu': 3, 'clearanc': 1, 'ventricularli': 1, 'regurgittaion': 1, 'vigor': 1, 'eustachian': 1, 'seem': 3, 'paradox': 2, 'regress': 1, 'isol': 3, 'fistul': 1, 'format': 3, 'prefer': 1, 'opclin': 1, 'op': 1, 'fistula': 1, 'version': 3, 'potenti': 2, 'among': 1, 'possilb': 1, 'tachyarrhythmia': 1, 'infrequ': 1, 'tia': 1, 'salin': 4, 'sourc': 6, 'maneuv': 2, 'oval': 1, 'unabl': 13, 'event': 4, 'cooper': 9, 'foramen': 1, 'cerebrovascular': 1, 'agit': 3, 'pfo': 1, 'outlin': 1, 'intra': 5, 'tendenc': 1, 'filll': 1, 'lulobectomi': 1, 'resynchron': 1, 'dyssynchron': 1, 'therapi': 1, 'kyphot': 1, 'deform': 3, 'mental': 8, 'vertebr': 1, 'cage': 1, 'shaft': 1, 'dyskinesi': 2, 'dyskinet': 3, 'curvatur': 2, 'tb': 3, 'thoracolumbar': 1, 'favor': 1, 'scoliot': 2, 'hemoptysi': 2, 'shape': 3, 'notabl': 6, 'regul': 1, 'certifi': 1, 'raa': 1, 'section': 1, 'drip': 1, 'mail': 1, 'sedat': 3, 'complianc': 1, 'atheroma': 1, 'suboptimald': 1, 'esophag': 3, 'dissect': 1, 'tee': 1, 'hcfa': 1, 'appendag': 1, 'propofol': 1, 'efect': 1, 'gyri': 1, 'remot': 3, 'interventricular': 1, 'ipf': 2, 'occipit': 2, 'alter': 7, 'ich': 5, 'intrev': 1, 'vasogen': 2, 'ventiricul': 1, 'horn': 1, 'mastoid': 6, 'extra': 1, 'sah': 1, 'pariet': 1, 'intraparenchym': 1, 'subarachnoid': 1, 'cerebellum': 2, 'certainti': 1, 'induc': 1, 'perf': 1, 'shake': 1, 'dyssynchroni': 1, 'primarili': 1, 'cardiophren': 2, 'provision': 1, 'pfi': 1, 'seat': 2, 'jekh': 2, 'spinal': 2, 'hemidiaphragmat': 1, 'aneurysm': 5, 'inferobas': 1, 'pad': 3, 'valsava': 1, 'vena': 2, 'scout': 1, 'tent': 2, 'cava': 2, 'upward': 2, 'submit': 1, 'pearl': 1, 'nka': 1, 'came': 1, 'ngt': 1, 'spectrum': 1, 'kept': 1, 'transport': 3, 'ativan': 1, 'vecuronium': 1, 'gag': 1, 'dark': 2, 'independ': 2, 'wife': 2, 'broad': 3, 'await': 1, 'captur': 2, 'across': 2, 'pole': 2, 'hydrocephalu': 2, 'sensit': 4, 'collpas': 1, 'feed': 2, 'endobronchi': 1, 'uplift': 1, 'plug': 1, 'fluffi': 1, 'demand': 4, 'unclear': 4, 'quiescenc': 1, 'swing': 1, 'hypocalcemia': 1, 'transtion': 1, 'clarifi': 4, 'faint': 1, 'confus': 2, 'pd': 1, \"yesterday'\": 1, 'stapl': 1, 'diagonst': 1, 'posterolater': 1, 'callu': 1, 'similarli': 2, 'trachea': 3, 'azithro': 3, 'lock': 1, 'aebc': 1, 'elsewher': 4, 'rwma': 1, 'aberrantli': 2, 'avm': 1, 'vp': 2, 'tendon': 1, 'pap': 1, 'thu': 2, 'larger': 2, 'atria': 1, 'fals': 1, 'affect': 1, 'varieti': 1, 'lymphat': 3, 'mlhh': 3, 'diaphraphm': 1, 'diaphragm': 4, 'legionnair': 1, 'dz': 1, 'ln': 2, 'sniff': 6, 'ht': 1, 'flail': 1, 'scallop': 1, 'tvp': 1, 'wavi': 1, 'unstabl': 6, 'scoop': 2, 'upslop': 1, 'tachycardi': 1, 'dramat': 1, 'doubl': 1, 'dynam': 1, 'progess': 1, 'atroph': 1, 'turbin': 1, 'spur': 2, 'retent': 1, 'chr': 1, 'auditori': 1, 'globe': 1, 'clinician': 1, 'sweat': 1, 'melena': 1, 'maintain': 4, 'hunger': 1, 'ctx': 2, 'life': 1, 'splint': 1, 'pursu': 1, 'syncop': 1, 'pass': 2, 'tox': 1, 'spent': 2, 'brought': 1, 'stori': 1, 'perceiv': 1, 'pursuit': 1, 'reliev': 1, 'problem': 4, 'abus': 1, 'alon': 3, 'intox': 1, 'black': 1, 'sensorium': 1, 'regain': 1, 'either': 4, 'burn': 1, 'ciwa': 1, 'fall': 2, 'consumpt': 1, 'osteomyel': 1, 'factur': 1, 'thiamin': 1, 'gallon': 1, 'orthostat': 1, 'ortho': 1, 'dt': 1, 'typic': 2, 'telemetri': 2, 'peptic': 1, 'loc': 1, 'certainli': 1, 'rapidli': 1, 'etoh': 1, 'discomfort': 1, 'tonight': 1, 'addict': 1, 'trauma': 1, 'conscious': 1, 'classic': 2, 'presumpt': 1, 'vodka': 1, 'ye': 1, 'pmv': 2, 'destin': 2, 'kg': 2, 'overbreath': 1, 'cmh': 2, 'sbt': 1, 'rout': 2, 'vol': 2, 'accordingli': 1, 'tidal': 2, 'press': 2, 'demograph': 2, 'synchron': 1, 'accept': 1, 'comfort': 3, 'fio': 2, 'rsbi': 1, 'peep': 2, 'dysynchroni': 2, 'manufactur': 2, 'pac': 1, 'kub': 1, 'alreadi': 1, 'radn': 1, 'entireti': 1, 'obviou': 1, 'eros': 1, 'decr': 1, 'biapic': 2, 'interven': 1, 'nodal': 1, 'entrant': 1, 'reciproc': 1, 'orthodrom': 1, 'inversu': 1, 'situ': 1, 'priro': 1, 'anteosept': 1, 'opacifi': 1, 'vertex': 1, 'scalp': 1, 'frontopariet': 1, 'ventriculoperiton': 1, 'sphenoid': 4, 'gbm': 1, 'falx': 1, 'tempor': 2, 'cistern': 2, 'craniotomi': 2, 'temporopariet': 1, 'preexist': 1, 'nsip': 1, 'omr': 2, 'radigraph': 1, 'ild': 1, 'uniformli': 1, 'multivessel': 1, 'still': 2, 'bronchovascular': 3, 'crowd': 2, 'accentu': 2, 'pneumothoarx': 1, 'joint': 3, 'glenohumer': 2, 'sublux': 1, 'acromiohumer': 1, 'acromioclavicular': 1, 'multilevel': 3, 'undergon': 2, 'nonprod': 1, 'nonproduct': 1, 'chnage': 1, 'nearli': 2, 'hyperthermia': 1, 'fuo': 1, 'pyrexia': 1, 'abnl': 1, 'unwit': 1, 'rport': 1, 'met': 2, 'strike': 1, 'streak': 1, 'algorithm': 1, 'fri': 1, 'involut': 1, 'encephalomalacia': 2, 'serious': 1, 'obliter': 2, 'thyroid': 1, 'hap': 1, 'pho': 1, 'sleep': 1, 'disabl': 1, 'oxycontin': 1, 'dilaud': 1, 'rub': 1, 'syndom': 1, 'unfortun': 1, 'ivig': 1, 'speech': 1, 'leni': 1, 'got': 1, 'npo': 3, 'rectal': 1, 'gylcol': 1, 'withdraw': 1, 'eat': 2, 'antibodi': 1, 'reviev': 1, 'ptt': 1, 'fo': 1, 'leukopenia': 1, 'around': 3, 'dulcolax': 1, 'dip': 1, 'wheelchair': 1, 'intial': 1, 'rehab': 1, 'gabapentin': 1, 'filter': 1, 'qam': 1, 'flair': 1, 'iodin': 1, 'sugar': 1, 'asymptomat': 2, 'magnesium': 1, 'yr': 1, 'let': 1, 'genitourinari': 2, 'workup': 1, 'face': 1, 'goal': 2, 'electr': 1, 'ppx': 3, 'nauseou': 1, 'proxi': 1, 'mirapex': 1, 'eeg': 1, 'alt': 1, 'supraclavicular': 1, 'biopsi': 2, 'unrev': 1, 'stiffperson': 1, 'septic': 1, 'ast': 1, 'oxycodon': 1, 'polyethylen': 1, 'multi': 1, 'intervens': 1, 'aox': 1, 'anaphi': 1, 'cook': 1, 'gad': 1, 'cortisol': 1, 'cutur': 1, 'egd': 2, 'rhonchor': 2, 'admis': 1, 'lightheaded': 1, 'wnl': 2, 'recal': 1, 'urinari': 2, 'xweek': 1, 'hemiparesi': 1, 'disord': 2, 'hcp': 2, 'orthopnea': 1, 'gastrointestin': 2, 'housekeep': 1, 'valium': 1, 'emg': 1, 'demerol': 1, 'eight': 1, 'antiemet': 1, 'indwel': 1, 'summari': 1, 'emesi': 2, 'constip': 1, 'diazepam': 1, 'tylenol': 2, 'fentanyl': 2, 'lactic': 2, 'excess': 1, 'spastic': 1, 'mmol': 2, 'atropin': 1, 'protonix': 1, 'hydoxid': 1, 'bili': 1, 'pump': 1, 'spray': 1, 'stiff': 1, 'loos': 1, 'baclofen': 1, 'derm': 1, 'albumin': 1, 'febril': 1, 'diff': 2, 'dopamin': 1, 'coverag': 1, 'erythema': 1, 'mexiletin': 1, 'shower': 1, 'morn': 2, 'reg': 1, 'liduid': 1, 'diamox': 1, 'anticoagul': 2, 'nerv': 1, 'stiffman': 1, 'reflex': 1, 'instabilti': 1, 'imuran': 1, 'autonom': 1, 'tri': 1, 'senna': 1, 'rnow': 1, 'health': 1, 'alk': 1, 'mitochondri': 1, 'qpm': 1, 'sinemet': 1, 'desatur': 1, 'pressor': 1, 'cr': 3, 'rituxan': 1, 'walk': 1, 'discharg': 2, 'adenopathi': 1, 'dl': 1, 'dizepam': 1, 'coumadin': 1, 'phenol': 1, 'beneath': 1, 'anoth': 1, 'lacer': 1, 'conjunct': 1, 'withdrawn': 1, 'overexpans': 1, 'cannul': 1, 'compensatori': 1, 'alongsid': 1, 'avoid': 2, 'inadvert': 1, 'closer': 1, 'vat': 1, 'trabecul': 1, 'osa': 1, 'saw': 1, 'supplement': 1, 'mulitfoc': 1, 'agre': 1, 'dull': 1, 'tamiflu': 1, 'influenza': 2, 'verbal': 2, 'marijuana': 1, 'bronchial': 2, 'legionella': 1, 'gs': 1, 'key': 1, 'percuss': 1, 'pneumococc': 1, 'compromis': 1, 'predict': 1, 'stimuli': 1, 'dfa': 1, 'student': 1, 'psycholog': 1, 'contributori': 1, 'vacuo': 1, 'reform': 1, 'ex': 1, 'siphon': 1, 'hyperdens': 2, 'cytotox': 1, 'mca': 1, 'inconsist': 1, 'oncern': 1, 'ivnerfs': 1, 'facial': 1, 'subcort': 1, 'occult': 1, 'strongli': 1, 'subcarin': 1, 'splay': 1, 'scleroderma': 1, 'bvh': 1, 'pysician': 1, 'infrahilar': 2, 'cover': 1, 'peri': 1, 'sicu': 1, 'oil': 1, 'miner': 1, 'prepar': 1, 'lax': 1, 'exogen': 1, 'lipoid': 1, 'profound': 1, 'occupi': 1, 'practic': 1, 'campu': 1, 'latest': 1, 'diaphragmat': 1, 'establish': 1, 'abbrevi': 1, 'young': 1, 'traciong': 1, 'unit': 1, 'intoler': 2, 'valsartan': 1, 'amoxicillin': 1, 'vision': 1, 'tsh': 2, 'miss': 1, 'tid': 1, 'xrt': 1, 'despit': 1, 'pci': 1, 'guaiac': 1, 'hypothyroid': 2, 'hyperlipidemia': 1, 'recur': 1, 'dehydr': 2, 'trial': 1, 'uri': 1, 'suspicion': 1, 'euvolem': 1, 'bl': 1, 'rca': 1, 'prompt': 1, 'eovulem': 1, 'forget': 1, 'coliti': 1, 'prelim': 1, 'cystiti': 1, 'rose': 1, 'felt': 2, 'levothyroxin': 2, 'cbc': 1, 'ductal': 1, 'went': 2, 'anxiou': 1, 'uosm': 1, 'agma': 1, 'mcv': 1, 'benign': 1, 'isordil': 1, 'appendectomi': 1, 'roto': 1, 'pancreat': 1, 'hyperton': 1, 'osm': 1, 'bronchiti': 1, 'ih': 1, 'son': 1, 'disori': 1, 'alkylosi': 1, 'anion': 1, 'build': 1, 'na': 1, 'comm': 1, 'simvastatin': 1, 'refus': 1, 'sister': 2, 'adl': 1, 'cn': 1, 'atrov': 1, 'dinitr': 1, 'glucos': 1, 'ag': 1, 'vit': 1, 'thyroxin': 1, 'drawn': 1, 'aerosol': 1, 'interdisciplinari': 2, 'mononitr': 1, 'poli': 1, 'delta': 1, 'outpt': 1, 'soln': 1, 'isosorbid': 1, 'hydralazin': 1, 'nightsweat': 1, 'disp': 1, 'bun': 2, 'cap': 2, 'imdur': 1, 'gap': 1, 'began': 1, 'tire': 1, 'nl': 1, 'overweight': 1, 'sc': 1, 'nourish': 1, 'know': 1, 'uti': 1, 'noncontributori': 1, 'lumpectomi': 1, 'osteopen': 1, 'sutur': 1, 'poorli': 1, 'profoundli': 1, 'probablhi': 1, 'hep': 2, 'seventh': 1, 'pnx': 1, 'simv': 1, 'ph': 1, 'hypoxemia': 1, 'instabl': 1, 'refractori': 1, 'quiet': 1, 'figur': 1, 'rhoncher': 1, 'bronchoscopi': 1, 'hemodynim': 1, 'ting': 1, 'claim': 1, 'scant': 1, 'adjust': 1, 'defibril': 1, 'xfer': 1, 'littl': 1, 'tumor': 1, 'neutropenia': 1, 'hemopytsi': 1, 'infero': 2, 'crista': 1, 'length': 1, 'deltam': 1, 'unusu': 1, 'concentr': 1, 'cardiomyopathi': 1, 'thrombi': 1, 'takostubo': 1, 'skelet': 1, 'depend': 2, 'nhl': 1, 'strand': 1, 'atelectat': 2, 'paramediastin': 1, 'myelodysplast': 1, 'hydrostat': 1, 'subdiaphragmat': 1, 'tailor': 1, 'anasarca': 1, 'inferoposterior': 1, 'aspf': 1, 'exact': 1, 'basil': 1, 'obliqu': 1, 'sl': 1, 'shallow': 1, 'hopper': 1, 'lingular': 1, 'recess': 1, 'sesha': 2, 'infeci': 1, 'meropenem': 1, 'numer': 1, 'linezolid': 1, 'ipsilater': 1, 'streaki': 1, 'pure': 1, 'satsclin': 1, 'unless': 1, 'unlik': 1, 'tap': 1, 'redevelop': 1, 'revcetn': 1, 'aicd': 1, 'introduc': 1, 'princip': 1, 'wwp': 1, 'arpis': 1, 'nd': 1, 'accecessori': 1, 'predisposit': 1, 'sensat': 1, 'preren': 1, 'coas': 1, 'clozaril': 1, 'bloodi': 1, 'innumber': 1, 'chew': 1, 'ssri': 1, 'often': 1, 'impact': 1, 'meat': 1, 'ge': 1, 'assault': 1, 'latex': 1, 'development': 1, 'cut': 1, 'clozapin': 1, 'overreplac': 1, 'vers': 1, 'caught': 1, 'normoact': 1, 'depakot': 1, 'zofran': 1, 'group': 1, 'anxieti': 1, 'wheezi': 1, 'foreign': 1, 'dispo': 1, 'cx': 1, 'esophagel': 1, 'mother': 1, 'bipolar': 1, 'biliou': 1, 'sitter': 1, 'gen': 1, 'hernia': 1, 'le': 1, 'hiatal': 1, 'piec': 1, 'outburst': 1, 'educ': 1, 'zyprexa': 1, 'midazolam': 1, 'reportedli': 1, 'nt': 1, 'sick': 1, 'jvd': 1, 'asacol': 1, 'far': 1, 'callout': 1, 'rhonchoru': 1, 'stuck': 1, 'give': 1, 'klonopin': 1, 'strictur': 1, 'pnuemon': 1, 'actual': 1, 'bilatar': 1, 'aggress': 1, 'clonazepam': 1, 'intervent': 1, 'frank': 1, 'hole': 1, 'og': 1, 'queri': 1, 'ot': 1, 'immunosupress': 1, 'tortuos': 1, 'llq': 1, 'immunosuppress': 1, 'diverticul': 1, 'baslin': 1, 'prodcut': 1, 'proptosi': 1, 'pneumat': 1, 'vasc': 1, 'rigth': 1, 'period': 1, 'resembl': 1, 'fallen': 1, 'acceler': 1, 'barium': 1, 'hear': 1}}\n"
     ]
    }
   ],
   "source": [
    "print(note_appearance_counter)"
   ]
  },
  {
   "cell_type": "code",
   "execution_count": null,
   "metadata": {},
   "outputs": [],
   "source": []
  },
  {
   "cell_type": "code",
   "execution_count": null,
   "metadata": {},
   "outputs": [],
   "source": []
  },
  {
   "cell_type": "code",
   "execution_count": 50,
   "metadata": {},
   "outputs": [],
   "source": [
    "# # get hyper-paramters n_fold and threshold from user input\n",
    "n_fold = float(2)\n",
    "threshold = float(0.01)\n",
    "\n",
    "frequent_word_lists = {}\n",
    "factor = {}"
   ]
  },
  {
   "cell_type": "code",
   "execution_count": 51,
   "metadata": {},
   "outputs": [
    {
     "name": "stdout",
     "output_type": "stream",
     "text": [
      "pneumonia_dead has 1350 unique words!\n",
      "pneumonia_alive has 2962 unique words!\n",
      "finished making frequent words list for pneumonia_alive\n"
     ]
    }
   ],
   "source": [
    "\"\"\"function description:\n",
    "for each disease in note_appearance_counter\n",
    "    1. checks whether a word in disease file is frequent(frequency standard as defined by factor, n_fold, and threshold)\n",
    "    2. adds to frequent_word_list\n",
    "\"\"\"\n",
    "\n",
    "# def find_frequent_word(note_appearance_counter, frequent_word_lists, number_of_notes, factor, n_fold, threshold):\n",
    "\n",
    "# calculate normalizing factor for each disease\n",
    "note_sum = 0\n",
    "\n",
    "# Count from two labels\n",
    "for disease in number_of_notes:\n",
    "    note_sum += float(number_of_notes[disease])\n",
    "    \n",
    "for disease in number_of_notes:\n",
    "    factor[disease] = number_of_notes[disease] / note_sum\n",
    "\n",
    "# determine frequent word for each disease file\n",
    "for disease in note_appearance_counter:\n",
    "    frequent_word_lists[disease] = []\n",
    "\n",
    "    print(disease + \" has \" + str(len(note_appearance_counter[disease])) + \" unique words!\")\n",
    "\n",
    "    for word in note_appearance_counter[disease]:\n",
    "        \n",
    "        freq_check = True\n",
    "        for check_disease in note_appearance_counter:\n",
    "#             print(f\"check_disease: {check_disease}\")\n",
    "#             print(f\"disease: {disease}\")\n",
    "#             print(f\"freq_check: {freq_check}\")\n",
    "#             print(\"---\")\n",
    "            \n",
    "            if not disease == check_disease:\n",
    "#                 print(f\"Entered if not disease == check_disease...\")\n",
    "                if word in note_appearance_counter[check_disease]:\n",
    "#                     print(f\"Entered if word in note_appearance_counter[check_disease]...\")\n",
    "                    if not (note_appearance_counter[disease][word] / note_appearance_counter[check_disease][word] / factor[disease] * factor[check_disease] > n_fold \\\n",
    "                        and note_appearance_counter[disease][word] > (number_of_notes[disease] * threshold)):\n",
    "#                         print(f\"Entered formula calculation...\")\n",
    "\n",
    "                        freq_check = False\n",
    "                        break\n",
    "\n",
    "                else:\n",
    "#                     print(f\"Entered else if word in note_appearance_counter[check_disease]...\")\n",
    "                    if not (note_appearance_counter[disease][word] > n_fold and note_appearance_counter[disease][word] > (number_of_notes[disease] * threshold)):\n",
    "#                         print(f\"Entered second formula calculation...\")\n",
    "                        freq_check = False\n",
    "                        break\n",
    "#             print(\"=\" * 60)\n",
    "#             print(f\"freq_check: {freq_check}\")\n",
    "#             print(\"End of second inner for loop\")\n",
    "        if freq_check:\n",
    "#             print(\"Entered freq_check\")\n",
    "            frequent_word_lists[disease].append((word, note_appearance_counter[disease][word]))\n",
    "#         print(\"-\" * 60)\n",
    "        \n",
    "\n",
    "print(\"finished making frequent words list for \" + disease)"
   ]
  },
  {
   "cell_type": "code",
   "execution_count": 52,
   "metadata": {
    "scrolled": true
   },
   "outputs": [
    {
     "name": "stdout",
     "output_type": "stream",
     "text": [
      "1419.0\n",
      "{'pneumonia_dead': 0.17758985200845667, 'pneumonia_alive': 0.8224101479915433}\n"
     ]
    }
   ],
   "source": [
    "print(note_sum)\n",
    "print(factor)"
   ]
  },
  {
   "cell_type": "code",
   "execution_count": 53,
   "metadata": {
    "scrolled": true
   },
   "outputs": [
    {
     "name": "stdout",
     "output_type": "stream",
     "text": [
      "36\n",
      "114\n"
     ]
    }
   ],
   "source": [
    "print(len(frequent_word_lists['pneumonia_dead']))\n",
    "print(len(frequent_word_lists['pneumonia_alive']))"
   ]
  },
  {
   "cell_type": "code",
   "execution_count": 54,
   "metadata": {},
   "outputs": [
    {
     "name": "stdout",
     "output_type": "stream",
     "text": [
      "{'pneumonia_dead': [('biventricular', 6), ('analysi', 3), ('rather', 3), ('morpholog', 4), ('markedli', 8), ('partli', 4), ('activ', 5), ('rib', 3), ('diaphragm', 3), ('ef', 3), ('tachycard', 3), ('type', 7), ('rsr', 7), ('irregular', 3), ('versu', 7), ('averag', 4), ('much', 3), ('overload', 6), ('hypertens', 15), ('avr', 3), ('least', 5), ('hyperdynam', 3), ('state', 3), ('infecti', 4), ('exist', 3), ('result', 5), ('houseoffic', 3), ('asd', 4), ('picc', 3), ('criteria', 5), ('met', 3), ('fibrosi', 3), ('micu', 3), ('distribut', 3), ('thrombu', 3), ('embol', 3)], 'pneumonia_alive': [('top', 13), ('current', 22), ('appreci', 15), ('resolv', 23), ('reason', 137), ('opac', 70), ('interstiti', 13), ('lat', 49), ('final', 135), ('mediastin', 44), ('pm', 108), ('pneumonia', 106), ('medic', 141), ('year', 125), ('failur', 24), ('cough', 39), ('pleural', 94), ('set', 16), ('chest', 133), ('radiograph', 66), ('unremark', 36), ('soft', 23), ('tissu', 22), ('fever', 51), ('pneumothorax', 56), ('&', 54), ('report', 150), ('osseou', 22), ('examin', 140), ('condit', 136), ('clip', 134), ('cardiomediastin', 13), ('stabl', 21), ('hilar', 39), ('slight', 23), ('atelectasi', 34), ('clear', 55), ('woman', 46), ('less', 59), ('earlier', 20), ('given', 39), ('anterolater', 40), ('ap', 73), ('respiratori', 34), ('lung', 107), ('blood', 16), ('dens', 14), ('apex', 20), ('rais', 23), ('underli', 35), ('replac', 16), (\"'s\", 29), ('cc', 12), ('pain', 23), ('hypoxia', 18), ('admit', 39), ('abdomen', 13), ('sound', 15), ('doe', 13), ('admiss', 13), ('bowel', 12), ('consolid', 50), ('resolut', 14), ('follow', 18), ('perihilar', 14), ('edema', 41), ('treatment', 12), ('larg', 28), ('bradycardia', 28), ('tube', 28), ('tip', 32), ('tracheostomi', 12), ('concern', 21), ('post', 17), ('upright', 23), ('field', 17), ('definit', 24), ('collaps', 12), ('air', 24), ('diagnosi', 33), ('rel', 12), ('hour', 20), ('aspir', 19), ('silhouett', 25), ('demonstr', 16), ('congest', 24), ('cxr', 19), ('head', 19), ('use', 13), ('intub', 18), ('discuss', 15), ('abdomin', 12), ('puls', 13), ('worsen', 19), ('ed', 12), ('associ', 21), ('pronounc', 12), ('uncertain', 15), ('placement', 21), ('exam', 22), ('bodi', 14), ('minor', 15), ('dr', 15), ('basilar', 14), ('superior', 13), ('axial', 14), ('bone', 12), ('perform', 29), ('basal', 27), ('akinet', 13), ('akinesi', 12), ('femal', 13), ('x', 19), ('unabl', 13)]}\n"
     ]
    }
   ],
   "source": [
    "print(frequent_word_lists)"
   ]
  },
  {
   "cell_type": "code",
   "execution_count": null,
   "metadata": {},
   "outputs": [],
   "source": []
  },
  {
   "cell_type": "code",
   "execution_count": null,
   "metadata": {},
   "outputs": [],
   "source": []
  }
 ],
 "metadata": {
  "kernelspec": {
   "display_name": "Python 3",
   "language": "python",
   "name": "python3"
  },
  "language_info": {
   "codemirror_mode": {
    "name": "ipython",
    "version": 3
   },
   "file_extension": ".py",
   "mimetype": "text/x-python",
   "name": "python",
   "nbconvert_exporter": "python",
   "pygments_lexer": "ipython3",
   "version": "3.7.6"
  }
 },
 "nbformat": 4,
 "nbformat_minor": 4
}
