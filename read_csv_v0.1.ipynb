{
 "cells": [
  {
   "cell_type": "markdown",
   "metadata": {},
   "source": [
    "### Data extraction\n",
    "Extract data from MIMIC-III"
   ]
  },
  {
   "cell_type": "code",
   "execution_count": 1,
   "metadata": {},
   "outputs": [
    {
     "data": {
      "text/html": [
       "        <script type=\"text/javascript\">\n",
       "        window.PlotlyConfig = {MathJaxConfig: 'local'};\n",
       "        if (window.MathJax) {MathJax.Hub.Config({SVG: {font: \"STIX-Web\"}});}\n",
       "        if (typeof require !== 'undefined') {\n",
       "        require.undef(\"plotly\");\n",
       "        requirejs.config({\n",
       "            paths: {\n",
       "                'plotly': ['https://cdn.plot.ly/plotly-latest.min']\n",
       "            }\n",
       "        });\n",
       "        require(['plotly'], function(Plotly) {\n",
       "            window._Plotly = Plotly;\n",
       "        });\n",
       "        }\n",
       "        </script>\n",
       "        "
      ]
     },
     "metadata": {},
     "output_type": "display_data"
    }
   ],
   "source": [
    "import time\n",
    "import numpy as np \n",
    "import pandas as pd\n",
    "import matplotlib.pyplot as plt\n",
    "import seaborn as sns\n",
    "from tqdm import tqdm\n",
    "\n",
    "# import re\n",
    "\n",
    "# import plotly.graph_objs as go\n",
    "# import plotly.plotly as py\n",
    "import cufflinks\n",
    "# from IPython.core.interactiveshell import InteractiveShell\n",
    "# import plotly.figure_factory as ff\n",
    "# InteractiveShell.ast_node_interactivity = 'all'\n",
    "# from plotly.offline import iplot\n",
    "cufflinks.go_offline()\n",
    "cufflinks.set_config_file(world_readable=True, theme='pearl')"
   ]
  },
  {
   "cell_type": "code",
   "execution_count": 2,
   "metadata": {},
   "outputs": [
    {
     "name": "stderr",
     "output_type": "stream",
     "text": [
      "/data/home/evgenii/anaconda3/lib/python3.7/site-packages/IPython/core/interactiveshell.py:3063: DtypeWarning:\n",
      "\n",
      "Columns (4,5) have mixed types.Specify dtype option on import or set low_memory=False.\n",
      "\n"
     ]
    },
    {
     "name": "stdout",
     "output_type": "stream",
     "text": [
      "39.05887031555176\n"
     ]
    }
   ],
   "source": [
    "# Import pandas \n",
    "import pandas as pd \n",
    "\n",
    "start = time.time()\n",
    "# reading csv file \n",
    "admissions_df = pd.read_csv(\"../MIMIC-III/ADMISSIONS.csv\")\n",
    "noteevents_df = pd.read_csv(\"../MIMIC-III/NOTEEVENTS.csv\") \n",
    "end = time.time()\n",
    "print(end - start)\n"
   ]
  },
  {
   "cell_type": "code",
   "execution_count": 3,
   "metadata": {},
   "outputs": [],
   "source": [
    "# diagnosis = df.DIAGNOSIS.unique()\n",
    "# #PNEUMONIA\n",
    "# for i in diagnosis:\n",
    "#     print(f\"[{i}]\")\n",
    "# data = df.copy()\n",
    "# data.info()\n",
    "\n",
    "# pneumonia_df = data.loc[df['DIAGNOSIS'] == 'PNEUMONIA']\n",
    "# pneumonia_df.info()"
   ]
  },
  {
   "cell_type": "code",
   "execution_count": 4,
   "metadata": {
    "scrolled": true
   },
   "outputs": [
    {
     "data": {
      "text/html": [
       "<div>\n",
       "<style scoped>\n",
       "    .dataframe tbody tr th:only-of-type {\n",
       "        vertical-align: middle;\n",
       "    }\n",
       "\n",
       "    .dataframe tbody tr th {\n",
       "        vertical-align: top;\n",
       "    }\n",
       "\n",
       "    .dataframe thead th {\n",
       "        text-align: right;\n",
       "    }\n",
       "</style>\n",
       "<table border=\"1\" class=\"dataframe\">\n",
       "  <thead>\n",
       "    <tr style=\"text-align: right;\">\n",
       "      <th></th>\n",
       "      <th>ROW_ID</th>\n",
       "      <th>SUBJECT_ID</th>\n",
       "      <th>HADM_ID</th>\n",
       "      <th>ADMITTIME</th>\n",
       "      <th>DISCHTIME</th>\n",
       "      <th>DEATHTIME</th>\n",
       "      <th>ADMISSION_TYPE</th>\n",
       "      <th>ADMISSION_LOCATION</th>\n",
       "      <th>DISCHARGE_LOCATION</th>\n",
       "      <th>INSURANCE</th>\n",
       "      <th>LANGUAGE</th>\n",
       "      <th>RELIGION</th>\n",
       "      <th>MARITAL_STATUS</th>\n",
       "      <th>ETHNICITY</th>\n",
       "      <th>EDREGTIME</th>\n",
       "      <th>EDOUTTIME</th>\n",
       "      <th>DIAGNOSIS</th>\n",
       "      <th>HOSPITAL_EXPIRE_FLAG</th>\n",
       "      <th>HAS_CHARTEVENTS_DATA</th>\n",
       "    </tr>\n",
       "  </thead>\n",
       "  <tbody>\n",
       "    <tr>\n",
       "      <th>0</th>\n",
       "      <td>21</td>\n",
       "      <td>22</td>\n",
       "      <td>165315</td>\n",
       "      <td>2196-04-09 12:26:00</td>\n",
       "      <td>2196-04-10 15:54:00</td>\n",
       "      <td>NaN</td>\n",
       "      <td>EMERGENCY</td>\n",
       "      <td>EMERGENCY ROOM ADMIT</td>\n",
       "      <td>DISC-TRAN CANCER/CHLDRN H</td>\n",
       "      <td>Private</td>\n",
       "      <td>NaN</td>\n",
       "      <td>UNOBTAINABLE</td>\n",
       "      <td>MARRIED</td>\n",
       "      <td>WHITE</td>\n",
       "      <td>2196-04-09 10:06:00</td>\n",
       "      <td>2196-04-09 13:24:00</td>\n",
       "      <td>BENZODIAZEPINE OVERDOSE</td>\n",
       "      <td>0</td>\n",
       "      <td>1</td>\n",
       "    </tr>\n",
       "    <tr>\n",
       "      <th>1</th>\n",
       "      <td>22</td>\n",
       "      <td>23</td>\n",
       "      <td>152223</td>\n",
       "      <td>2153-09-03 07:15:00</td>\n",
       "      <td>2153-09-08 19:10:00</td>\n",
       "      <td>NaN</td>\n",
       "      <td>ELECTIVE</td>\n",
       "      <td>PHYS REFERRAL/NORMAL DELI</td>\n",
       "      <td>HOME HEALTH CARE</td>\n",
       "      <td>Medicare</td>\n",
       "      <td>NaN</td>\n",
       "      <td>CATHOLIC</td>\n",
       "      <td>MARRIED</td>\n",
       "      <td>WHITE</td>\n",
       "      <td>NaN</td>\n",
       "      <td>NaN</td>\n",
       "      <td>CORONARY ARTERY DISEASE\\CORONARY ARTERY BYPASS...</td>\n",
       "      <td>0</td>\n",
       "      <td>1</td>\n",
       "    </tr>\n",
       "    <tr>\n",
       "      <th>2</th>\n",
       "      <td>23</td>\n",
       "      <td>23</td>\n",
       "      <td>124321</td>\n",
       "      <td>2157-10-18 19:34:00</td>\n",
       "      <td>2157-10-25 14:00:00</td>\n",
       "      <td>NaN</td>\n",
       "      <td>EMERGENCY</td>\n",
       "      <td>TRANSFER FROM HOSP/EXTRAM</td>\n",
       "      <td>HOME HEALTH CARE</td>\n",
       "      <td>Medicare</td>\n",
       "      <td>ENGL</td>\n",
       "      <td>CATHOLIC</td>\n",
       "      <td>MARRIED</td>\n",
       "      <td>WHITE</td>\n",
       "      <td>NaN</td>\n",
       "      <td>NaN</td>\n",
       "      <td>BRAIN MASS</td>\n",
       "      <td>0</td>\n",
       "      <td>1</td>\n",
       "    </tr>\n",
       "    <tr>\n",
       "      <th>3</th>\n",
       "      <td>24</td>\n",
       "      <td>24</td>\n",
       "      <td>161859</td>\n",
       "      <td>2139-06-06 16:14:00</td>\n",
       "      <td>2139-06-09 12:48:00</td>\n",
       "      <td>NaN</td>\n",
       "      <td>EMERGENCY</td>\n",
       "      <td>TRANSFER FROM HOSP/EXTRAM</td>\n",
       "      <td>HOME</td>\n",
       "      <td>Private</td>\n",
       "      <td>NaN</td>\n",
       "      <td>PROTESTANT QUAKER</td>\n",
       "      <td>SINGLE</td>\n",
       "      <td>WHITE</td>\n",
       "      <td>NaN</td>\n",
       "      <td>NaN</td>\n",
       "      <td>INTERIOR MYOCARDIAL INFARCTION</td>\n",
       "      <td>0</td>\n",
       "      <td>1</td>\n",
       "    </tr>\n",
       "    <tr>\n",
       "      <th>4</th>\n",
       "      <td>25</td>\n",
       "      <td>25</td>\n",
       "      <td>129635</td>\n",
       "      <td>2160-11-02 02:06:00</td>\n",
       "      <td>2160-11-05 14:55:00</td>\n",
       "      <td>NaN</td>\n",
       "      <td>EMERGENCY</td>\n",
       "      <td>EMERGENCY ROOM ADMIT</td>\n",
       "      <td>HOME</td>\n",
       "      <td>Private</td>\n",
       "      <td>NaN</td>\n",
       "      <td>UNOBTAINABLE</td>\n",
       "      <td>MARRIED</td>\n",
       "      <td>WHITE</td>\n",
       "      <td>2160-11-02 01:01:00</td>\n",
       "      <td>2160-11-02 04:27:00</td>\n",
       "      <td>ACUTE CORONARY SYNDROME</td>\n",
       "      <td>0</td>\n",
       "      <td>1</td>\n",
       "    </tr>\n",
       "    <tr>\n",
       "      <th>...</th>\n",
       "      <td>...</td>\n",
       "      <td>...</td>\n",
       "      <td>...</td>\n",
       "      <td>...</td>\n",
       "      <td>...</td>\n",
       "      <td>...</td>\n",
       "      <td>...</td>\n",
       "      <td>...</td>\n",
       "      <td>...</td>\n",
       "      <td>...</td>\n",
       "      <td>...</td>\n",
       "      <td>...</td>\n",
       "      <td>...</td>\n",
       "      <td>...</td>\n",
       "      <td>...</td>\n",
       "      <td>...</td>\n",
       "      <td>...</td>\n",
       "      <td>...</td>\n",
       "      <td>...</td>\n",
       "    </tr>\n",
       "    <tr>\n",
       "      <th>58971</th>\n",
       "      <td>58594</td>\n",
       "      <td>98800</td>\n",
       "      <td>191113</td>\n",
       "      <td>2131-03-30 21:13:00</td>\n",
       "      <td>2131-04-02 15:02:00</td>\n",
       "      <td>NaN</td>\n",
       "      <td>EMERGENCY</td>\n",
       "      <td>CLINIC REFERRAL/PREMATURE</td>\n",
       "      <td>HOME</td>\n",
       "      <td>Private</td>\n",
       "      <td>ENGL</td>\n",
       "      <td>NOT SPECIFIED</td>\n",
       "      <td>SINGLE</td>\n",
       "      <td>WHITE</td>\n",
       "      <td>2131-03-30 19:44:00</td>\n",
       "      <td>2131-03-30 22:41:00</td>\n",
       "      <td>TRAUMA</td>\n",
       "      <td>0</td>\n",
       "      <td>1</td>\n",
       "    </tr>\n",
       "    <tr>\n",
       "      <th>58972</th>\n",
       "      <td>58595</td>\n",
       "      <td>98802</td>\n",
       "      <td>101071</td>\n",
       "      <td>2151-03-05 20:00:00</td>\n",
       "      <td>2151-03-06 09:10:00</td>\n",
       "      <td>2151-03-06 09:10:00</td>\n",
       "      <td>EMERGENCY</td>\n",
       "      <td>CLINIC REFERRAL/PREMATURE</td>\n",
       "      <td>DEAD/EXPIRED</td>\n",
       "      <td>Medicare</td>\n",
       "      <td>ENGL</td>\n",
       "      <td>CATHOLIC</td>\n",
       "      <td>WIDOWED</td>\n",
       "      <td>WHITE</td>\n",
       "      <td>2151-03-05 17:23:00</td>\n",
       "      <td>2151-03-05 21:06:00</td>\n",
       "      <td>SAH</td>\n",
       "      <td>1</td>\n",
       "      <td>1</td>\n",
       "    </tr>\n",
       "    <tr>\n",
       "      <th>58973</th>\n",
       "      <td>58596</td>\n",
       "      <td>98805</td>\n",
       "      <td>122631</td>\n",
       "      <td>2200-09-12 07:15:00</td>\n",
       "      <td>2200-09-20 12:08:00</td>\n",
       "      <td>NaN</td>\n",
       "      <td>ELECTIVE</td>\n",
       "      <td>PHYS REFERRAL/NORMAL DELI</td>\n",
       "      <td>HOME HEALTH CARE</td>\n",
       "      <td>Private</td>\n",
       "      <td>ENGL</td>\n",
       "      <td>NOT SPECIFIED</td>\n",
       "      <td>MARRIED</td>\n",
       "      <td>WHITE</td>\n",
       "      <td>NaN</td>\n",
       "      <td>NaN</td>\n",
       "      <td>RENAL CANCER/SDA</td>\n",
       "      <td>0</td>\n",
       "      <td>1</td>\n",
       "    </tr>\n",
       "    <tr>\n",
       "      <th>58974</th>\n",
       "      <td>58597</td>\n",
       "      <td>98813</td>\n",
       "      <td>170407</td>\n",
       "      <td>2128-11-11 02:29:00</td>\n",
       "      <td>2128-12-22 13:11:00</td>\n",
       "      <td>NaN</td>\n",
       "      <td>EMERGENCY</td>\n",
       "      <td>EMERGENCY ROOM ADMIT</td>\n",
       "      <td>SNF</td>\n",
       "      <td>Private</td>\n",
       "      <td>ENGL</td>\n",
       "      <td>CATHOLIC</td>\n",
       "      <td>MARRIED</td>\n",
       "      <td>WHITE</td>\n",
       "      <td>2128-11-10 23:48:00</td>\n",
       "      <td>2128-11-11 03:16:00</td>\n",
       "      <td>S/P FALL</td>\n",
       "      <td>0</td>\n",
       "      <td>0</td>\n",
       "    </tr>\n",
       "    <tr>\n",
       "      <th>58975</th>\n",
       "      <td>58598</td>\n",
       "      <td>98813</td>\n",
       "      <td>190264</td>\n",
       "      <td>2131-10-25 03:09:00</td>\n",
       "      <td>2131-10-26 17:44:00</td>\n",
       "      <td>NaN</td>\n",
       "      <td>EMERGENCY</td>\n",
       "      <td>CLINIC REFERRAL/PREMATURE</td>\n",
       "      <td>HOME</td>\n",
       "      <td>Private</td>\n",
       "      <td>ENGL</td>\n",
       "      <td>CATHOLIC</td>\n",
       "      <td>MARRIED</td>\n",
       "      <td>WHITE</td>\n",
       "      <td>2131-10-25 00:08:00</td>\n",
       "      <td>2131-10-25 04:35:00</td>\n",
       "      <td>INTRACRANIAL HEMORRHAGE</td>\n",
       "      <td>0</td>\n",
       "      <td>1</td>\n",
       "    </tr>\n",
       "  </tbody>\n",
       "</table>\n",
       "<p>58976 rows × 19 columns</p>\n",
       "</div>"
      ],
      "text/plain": [
       "       ROW_ID  SUBJECT_ID  HADM_ID            ADMITTIME            DISCHTIME  \\\n",
       "0          21          22   165315  2196-04-09 12:26:00  2196-04-10 15:54:00   \n",
       "1          22          23   152223  2153-09-03 07:15:00  2153-09-08 19:10:00   \n",
       "2          23          23   124321  2157-10-18 19:34:00  2157-10-25 14:00:00   \n",
       "3          24          24   161859  2139-06-06 16:14:00  2139-06-09 12:48:00   \n",
       "4          25          25   129635  2160-11-02 02:06:00  2160-11-05 14:55:00   \n",
       "...       ...         ...      ...                  ...                  ...   \n",
       "58971   58594       98800   191113  2131-03-30 21:13:00  2131-04-02 15:02:00   \n",
       "58972   58595       98802   101071  2151-03-05 20:00:00  2151-03-06 09:10:00   \n",
       "58973   58596       98805   122631  2200-09-12 07:15:00  2200-09-20 12:08:00   \n",
       "58974   58597       98813   170407  2128-11-11 02:29:00  2128-12-22 13:11:00   \n",
       "58975   58598       98813   190264  2131-10-25 03:09:00  2131-10-26 17:44:00   \n",
       "\n",
       "                 DEATHTIME ADMISSION_TYPE         ADMISSION_LOCATION  \\\n",
       "0                      NaN      EMERGENCY       EMERGENCY ROOM ADMIT   \n",
       "1                      NaN       ELECTIVE  PHYS REFERRAL/NORMAL DELI   \n",
       "2                      NaN      EMERGENCY  TRANSFER FROM HOSP/EXTRAM   \n",
       "3                      NaN      EMERGENCY  TRANSFER FROM HOSP/EXTRAM   \n",
       "4                      NaN      EMERGENCY       EMERGENCY ROOM ADMIT   \n",
       "...                    ...            ...                        ...   \n",
       "58971                  NaN      EMERGENCY  CLINIC REFERRAL/PREMATURE   \n",
       "58972  2151-03-06 09:10:00      EMERGENCY  CLINIC REFERRAL/PREMATURE   \n",
       "58973                  NaN       ELECTIVE  PHYS REFERRAL/NORMAL DELI   \n",
       "58974                  NaN      EMERGENCY       EMERGENCY ROOM ADMIT   \n",
       "58975                  NaN      EMERGENCY  CLINIC REFERRAL/PREMATURE   \n",
       "\n",
       "              DISCHARGE_LOCATION INSURANCE LANGUAGE           RELIGION  \\\n",
       "0      DISC-TRAN CANCER/CHLDRN H   Private      NaN       UNOBTAINABLE   \n",
       "1               HOME HEALTH CARE  Medicare      NaN           CATHOLIC   \n",
       "2               HOME HEALTH CARE  Medicare     ENGL           CATHOLIC   \n",
       "3                           HOME   Private      NaN  PROTESTANT QUAKER   \n",
       "4                           HOME   Private      NaN       UNOBTAINABLE   \n",
       "...                          ...       ...      ...                ...   \n",
       "58971                       HOME   Private     ENGL      NOT SPECIFIED   \n",
       "58972               DEAD/EXPIRED  Medicare     ENGL           CATHOLIC   \n",
       "58973           HOME HEALTH CARE   Private     ENGL      NOT SPECIFIED   \n",
       "58974                        SNF   Private     ENGL           CATHOLIC   \n",
       "58975                       HOME   Private     ENGL           CATHOLIC   \n",
       "\n",
       "      MARITAL_STATUS ETHNICITY            EDREGTIME            EDOUTTIME  \\\n",
       "0            MARRIED     WHITE  2196-04-09 10:06:00  2196-04-09 13:24:00   \n",
       "1            MARRIED     WHITE                  NaN                  NaN   \n",
       "2            MARRIED     WHITE                  NaN                  NaN   \n",
       "3             SINGLE     WHITE                  NaN                  NaN   \n",
       "4            MARRIED     WHITE  2160-11-02 01:01:00  2160-11-02 04:27:00   \n",
       "...              ...       ...                  ...                  ...   \n",
       "58971         SINGLE     WHITE  2131-03-30 19:44:00  2131-03-30 22:41:00   \n",
       "58972        WIDOWED     WHITE  2151-03-05 17:23:00  2151-03-05 21:06:00   \n",
       "58973        MARRIED     WHITE                  NaN                  NaN   \n",
       "58974        MARRIED     WHITE  2128-11-10 23:48:00  2128-11-11 03:16:00   \n",
       "58975        MARRIED     WHITE  2131-10-25 00:08:00  2131-10-25 04:35:00   \n",
       "\n",
       "                                               DIAGNOSIS  \\\n",
       "0                                BENZODIAZEPINE OVERDOSE   \n",
       "1      CORONARY ARTERY DISEASE\\CORONARY ARTERY BYPASS...   \n",
       "2                                             BRAIN MASS   \n",
       "3                         INTERIOR MYOCARDIAL INFARCTION   \n",
       "4                                ACUTE CORONARY SYNDROME   \n",
       "...                                                  ...   \n",
       "58971                                             TRAUMA   \n",
       "58972                                                SAH   \n",
       "58973                                   RENAL CANCER/SDA   \n",
       "58974                                           S/P FALL   \n",
       "58975                            INTRACRANIAL HEMORRHAGE   \n",
       "\n",
       "       HOSPITAL_EXPIRE_FLAG  HAS_CHARTEVENTS_DATA  \n",
       "0                         0                     1  \n",
       "1                         0                     1  \n",
       "2                         0                     1  \n",
       "3                         0                     1  \n",
       "4                         0                     1  \n",
       "...                     ...                   ...  \n",
       "58971                     0                     1  \n",
       "58972                     1                     1  \n",
       "58973                     0                     1  \n",
       "58974                     0                     0  \n",
       "58975                     0                     1  \n",
       "\n",
       "[58976 rows x 19 columns]"
      ]
     },
     "execution_count": 4,
     "metadata": {},
     "output_type": "execute_result"
    }
   ],
   "source": [
    "admissions_df"
   ]
  },
  {
   "cell_type": "code",
   "execution_count": 5,
   "metadata": {
    "scrolled": true
   },
   "outputs": [
    {
     "name": "stdout",
     "output_type": "stream",
     "text": [
      "<class 'pandas.core.frame.DataFrame'>\n",
      "RangeIndex: 2083180 entries, 0 to 2083179\n",
      "Data columns (total 11 columns):\n",
      " #   Column       Dtype  \n",
      "---  ------       -----  \n",
      " 0   ROW_ID       int64  \n",
      " 1   SUBJECT_ID   int64  \n",
      " 2   HADM_ID      float64\n",
      " 3   CHARTDATE    object \n",
      " 4   CHARTTIME    object \n",
      " 5   STORETIME    object \n",
      " 6   CATEGORY     object \n",
      " 7   DESCRIPTION  object \n",
      " 8   CGID         float64\n",
      " 9   ISERROR      float64\n",
      " 10  TEXT         object \n",
      "dtypes: float64(3), int64(2), object(6)\n",
      "memory usage: 174.8+ MB\n"
     ]
    }
   ],
   "source": [
    "noteevents_df.info()"
   ]
  },
  {
   "cell_type": "code",
   "execution_count": 6,
   "metadata": {},
   "outputs": [
    {
     "name": "stdout",
     "output_type": "stream",
     "text": [
      "<class 'pandas.core.frame.DataFrame'>\n",
      "RangeIndex: 58976 entries, 0 to 58975\n",
      "Data columns (total 19 columns):\n",
      " #   Column                Non-Null Count  Dtype \n",
      "---  ------                --------------  ----- \n",
      " 0   ROW_ID                58976 non-null  int64 \n",
      " 1   SUBJECT_ID            58976 non-null  int64 \n",
      " 2   HADM_ID               58976 non-null  int64 \n",
      " 3   ADMITTIME             58976 non-null  object\n",
      " 4   DISCHTIME             58976 non-null  object\n",
      " 5   DEATHTIME             5854 non-null   object\n",
      " 6   ADMISSION_TYPE        58976 non-null  object\n",
      " 7   ADMISSION_LOCATION    58976 non-null  object\n",
      " 8   DISCHARGE_LOCATION    58976 non-null  object\n",
      " 9   INSURANCE             58976 non-null  object\n",
      " 10  LANGUAGE              33644 non-null  object\n",
      " 11  RELIGION              58518 non-null  object\n",
      " 12  MARITAL_STATUS        48848 non-null  object\n",
      " 13  ETHNICITY             58976 non-null  object\n",
      " 14  EDREGTIME             30877 non-null  object\n",
      " 15  EDOUTTIME             30877 non-null  object\n",
      " 16  DIAGNOSIS             58951 non-null  object\n",
      " 17  HOSPITAL_EXPIRE_FLAG  58976 non-null  int64 \n",
      " 18  HAS_CHARTEVENTS_DATA  58976 non-null  int64 \n",
      "dtypes: int64(5), object(14)\n",
      "memory usage: 8.5+ MB\n"
     ]
    }
   ],
   "source": [
    "admissions_df.info()"
   ]
  },
  {
   "cell_type": "code",
   "execution_count": 7,
   "metadata": {},
   "outputs": [
    {
     "data": {
      "text/plain": [
       "\"\\n>>> left\\n  transaction_id user_id     value\\n0              A   Peter  1.867558\\n1              B    John -0.977278\\n2              C    John  0.950088\\n3              D    Anna -0.151357\\n>>> right\\n  user_id favorite_color\\n0    Paul           blue\\n1    Mary           blue\\n2    John            red\\n3    Anna            NaN\\n\\n---------\\n>>> left.merge(right, on='user_id', how='left', indicator=True)\\n  transaction_id user_id     value favorite_color     _merge\\n0              A   Peter  1.867558            NaN  left_only\\n1              B    John -0.977278            red       both\\n2              C    John  0.950088            red       both\\n3              D    Anna -0.151357            NaN       both\\n\\n---------\\nleft.merge(right.rename({'user_id': 'user_id_r'}, axis=1),\\n               left_on='user_id', right_on='user_id_r', how='left')\\n               \\n  transaction_id user_id     value user_id_r favorite_color\\n0              A   Peter  1.867558       NaN            NaN\\n1              B    John -0.977278      John            red\\n2              C    John  0.950088      John            red\\n3              D    Anna -0.151357      Anna            NaN\\n---------\\nselect\\n    t.transaction_id\\n    , t.user_id\\n    , t.value\\n    , u.user_id as user_id_r\\n    , u.favorite_color\\nfrom\\n    transactions t\\n    left join\\n    users u\\n    on t.user_id = u.user_id\\n;\\n\""
      ]
     },
     "execution_count": 7,
     "metadata": {},
     "output_type": "execute_result"
    }
   ],
   "source": [
    "# https://towardsdatascience.com/left-join-with-pandas-data-frames-in-python-c29c85089ba4\n",
    "# left_join = noteevents_df.join(admissions_df.set_index('HADM_ID'), on='HADM_ID')\n",
    "# left_join = noteevents_df.set_index('HADM_ID').join(admissions_df.set_index('HADM_ID'))\n",
    "\"\"\"\n",
    ">>> left\n",
    "  transaction_id user_id     value\n",
    "0              A   Peter  1.867558\n",
    "1              B    John -0.977278\n",
    "2              C    John  0.950088\n",
    "3              D    Anna -0.151357\n",
    ">>> right\n",
    "  user_id favorite_color\n",
    "0    Paul           blue\n",
    "1    Mary           blue\n",
    "2    John            red\n",
    "3    Anna            NaN\n",
    "\n",
    "---------\n",
    ">>> left.merge(right, on='user_id', how='left', indicator=True)\n",
    "  transaction_id user_id     value favorite_color     _merge\n",
    "0              A   Peter  1.867558            NaN  left_only\n",
    "1              B    John -0.977278            red       both\n",
    "2              C    John  0.950088            red       both\n",
    "3              D    Anna -0.151357            NaN       both\n",
    "\n",
    "---------\n",
    "left.merge(right.rename({'user_id': 'user_id_r'}, axis=1),\n",
    "               left_on='user_id', right_on='user_id_r', how='left')\n",
    "               \n",
    "  transaction_id user_id     value user_id_r favorite_color\n",
    "0              A   Peter  1.867558       NaN            NaN\n",
    "1              B    John -0.977278      John            red\n",
    "2              C    John  0.950088      John            red\n",
    "3              D    Anna -0.151357      Anna            NaN\n",
    "---------\n",
    "select\n",
    "    t.transaction_id\n",
    "    , t.user_id\n",
    "    , t.value\n",
    "    , u.user_id as user_id_r\n",
    "    , u.favorite_color\n",
    "from\n",
    "    transactions t\n",
    "    left join\n",
    "    users u\n",
    "    on t.user_id = u.user_id\n",
    ";\n",
    "\"\"\""
   ]
  },
  {
   "cell_type": "code",
   "execution_count": 8,
   "metadata": {},
   "outputs": [
    {
     "name": "stdout",
     "output_type": "stream",
     "text": [
      "4.359818696975708\n"
     ]
    }
   ],
   "source": [
    "start = time.time()\n",
    "# Left join of two dataframes\n",
    "note_admiss_df_left = noteevents_df.merge(admissions_df, on='HADM_ID', how='left', indicator=True)\n",
    "end = time.time()\n",
    "print(end - start)"
   ]
  },
  {
   "cell_type": "code",
   "execution_count": 9,
   "metadata": {
    "scrolled": false
   },
   "outputs": [
    {
     "name": "stdout",
     "output_type": "stream",
     "text": [
      "<class 'pandas.core.frame.DataFrame'>\n",
      "Int64Index: 2083180 entries, 0 to 2083179\n",
      "Data columns (total 30 columns):\n",
      " #   Column                Dtype   \n",
      "---  ------                -----   \n",
      " 0   ROW_ID_x              int64   \n",
      " 1   SUBJECT_ID_x          int64   \n",
      " 2   HADM_ID               float64 \n",
      " 3   CHARTDATE             object  \n",
      " 4   CHARTTIME             object  \n",
      " 5   STORETIME             object  \n",
      " 6   CATEGORY              object  \n",
      " 7   DESCRIPTION           object  \n",
      " 8   CGID                  float64 \n",
      " 9   ISERROR               float64 \n",
      " 10  TEXT                  object  \n",
      " 11  ROW_ID_y              float64 \n",
      " 12  SUBJECT_ID_y          float64 \n",
      " 13  ADMITTIME             object  \n",
      " 14  DISCHTIME             object  \n",
      " 15  DEATHTIME             object  \n",
      " 16  ADMISSION_TYPE        object  \n",
      " 17  ADMISSION_LOCATION    object  \n",
      " 18  DISCHARGE_LOCATION    object  \n",
      " 19  INSURANCE             object  \n",
      " 20  LANGUAGE              object  \n",
      " 21  RELIGION              object  \n",
      " 22  MARITAL_STATUS        object  \n",
      " 23  ETHNICITY             object  \n",
      " 24  EDREGTIME             object  \n",
      " 25  EDOUTTIME             object  \n",
      " 26  DIAGNOSIS             object  \n",
      " 27  HOSPITAL_EXPIRE_FLAG  float64 \n",
      " 28  HAS_CHARTEVENTS_DATA  float64 \n",
      " 29  _merge                category\n",
      "dtypes: category(1), float64(7), int64(2), object(20)\n",
      "memory usage: 478.8+ MB\n"
     ]
    }
   ],
   "source": [
    "note_admiss_df_left.info()"
   ]
  },
  {
   "cell_type": "code",
   "execution_count": 10,
   "metadata": {},
   "outputs": [
    {
     "data": {
      "text/plain": [
       "(2083180, 30)"
      ]
     },
     "execution_count": 10,
     "metadata": {},
     "output_type": "execute_result"
    }
   ],
   "source": [
    "note_admiss_df_left.shape"
   ]
  },
  {
   "cell_type": "code",
   "execution_count": 11,
   "metadata": {
    "scrolled": false
   },
   "outputs": [
    {
     "data": {
      "text/html": [
       "<div>\n",
       "<style scoped>\n",
       "    .dataframe tbody tr th:only-of-type {\n",
       "        vertical-align: middle;\n",
       "    }\n",
       "\n",
       "    .dataframe tbody tr th {\n",
       "        vertical-align: top;\n",
       "    }\n",
       "\n",
       "    .dataframe thead th {\n",
       "        text-align: right;\n",
       "    }\n",
       "</style>\n",
       "<table border=\"1\" class=\"dataframe\">\n",
       "  <thead>\n",
       "    <tr style=\"text-align: right;\">\n",
       "      <th></th>\n",
       "      <th>DIAGNOSIS</th>\n",
       "      <th>SUBJECT_ID_x</th>\n",
       "      <th>SUBJECT_ID_y</th>\n",
       "      <th>DESCRIPTION</th>\n",
       "      <th>CATEGORY</th>\n",
       "    </tr>\n",
       "  </thead>\n",
       "  <tbody>\n",
       "    <tr>\n",
       "      <th>0</th>\n",
       "      <td>RT LOWER LOBE PNEUMONIA</td>\n",
       "      <td>22532</td>\n",
       "      <td>22532.0</td>\n",
       "      <td>Report</td>\n",
       "      <td>Discharge summary</td>\n",
       "    </tr>\n",
       "    <tr>\n",
       "      <th>1</th>\n",
       "      <td>CHRONIC OBSTRUCTIVE PULMONARY DISEASE</td>\n",
       "      <td>13702</td>\n",
       "      <td>13702.0</td>\n",
       "      <td>Report</td>\n",
       "      <td>Discharge summary</td>\n",
       "    </tr>\n",
       "    <tr>\n",
       "      <th>2</th>\n",
       "      <td>TRACHEALBRONCHEAL MALACEA/SDA</td>\n",
       "      <td>13702</td>\n",
       "      <td>13702.0</td>\n",
       "      <td>Report</td>\n",
       "      <td>Discharge summary</td>\n",
       "    </tr>\n",
       "    <tr>\n",
       "      <th>3</th>\n",
       "      <td>ASTHMA;COPD EXACERBATION</td>\n",
       "      <td>13702</td>\n",
       "      <td>13702.0</td>\n",
       "      <td>Report</td>\n",
       "      <td>Discharge summary</td>\n",
       "    </tr>\n",
       "    <tr>\n",
       "      <th>4</th>\n",
       "      <td>S/P FALL;TELEMETRY</td>\n",
       "      <td>26880</td>\n",
       "      <td>26880.0</td>\n",
       "      <td>Report</td>\n",
       "      <td>Discharge summary</td>\n",
       "    </tr>\n",
       "    <tr>\n",
       "      <th>...</th>\n",
       "      <td>...</td>\n",
       "      <td>...</td>\n",
       "      <td>...</td>\n",
       "      <td>...</td>\n",
       "      <td>...</td>\n",
       "    </tr>\n",
       "    <tr>\n",
       "      <th>2083175</th>\n",
       "      <td>NEWBORN</td>\n",
       "      <td>31097</td>\n",
       "      <td>31097.0</td>\n",
       "      <td>Report</td>\n",
       "      <td>Nursing/other</td>\n",
       "    </tr>\n",
       "    <tr>\n",
       "      <th>2083176</th>\n",
       "      <td>NEWBORN</td>\n",
       "      <td>31097</td>\n",
       "      <td>31097.0</td>\n",
       "      <td>Report</td>\n",
       "      <td>Nursing/other</td>\n",
       "    </tr>\n",
       "    <tr>\n",
       "      <th>2083177</th>\n",
       "      <td>NEWBORN</td>\n",
       "      <td>31097</td>\n",
       "      <td>31097.0</td>\n",
       "      <td>Report</td>\n",
       "      <td>Nursing/other</td>\n",
       "    </tr>\n",
       "    <tr>\n",
       "      <th>2083178</th>\n",
       "      <td>NEWBORN</td>\n",
       "      <td>31097</td>\n",
       "      <td>31097.0</td>\n",
       "      <td>Report</td>\n",
       "      <td>Nursing/other</td>\n",
       "    </tr>\n",
       "    <tr>\n",
       "      <th>2083179</th>\n",
       "      <td>NEWBORN</td>\n",
       "      <td>31097</td>\n",
       "      <td>31097.0</td>\n",
       "      <td>Report</td>\n",
       "      <td>Nursing/other</td>\n",
       "    </tr>\n",
       "  </tbody>\n",
       "</table>\n",
       "<p>2083180 rows × 5 columns</p>\n",
       "</div>"
      ],
      "text/plain": [
       "                                     DIAGNOSIS  SUBJECT_ID_x  SUBJECT_ID_y  \\\n",
       "0                      RT LOWER LOBE PNEUMONIA         22532       22532.0   \n",
       "1        CHRONIC OBSTRUCTIVE PULMONARY DISEASE         13702       13702.0   \n",
       "2                TRACHEALBRONCHEAL MALACEA/SDA         13702       13702.0   \n",
       "3                     ASTHMA;COPD EXACERBATION         13702       13702.0   \n",
       "4                           S/P FALL;TELEMETRY         26880       26880.0   \n",
       "...                                        ...           ...           ...   \n",
       "2083175                                NEWBORN         31097       31097.0   \n",
       "2083176                                NEWBORN         31097       31097.0   \n",
       "2083177                                NEWBORN         31097       31097.0   \n",
       "2083178                                NEWBORN         31097       31097.0   \n",
       "2083179                                NEWBORN         31097       31097.0   \n",
       "\n",
       "        DESCRIPTION           CATEGORY  \n",
       "0            Report  Discharge summary  \n",
       "1            Report  Discharge summary  \n",
       "2            Report  Discharge summary  \n",
       "3            Report  Discharge summary  \n",
       "4            Report  Discharge summary  \n",
       "...             ...                ...  \n",
       "2083175      Report      Nursing/other  \n",
       "2083176      Report      Nursing/other  \n",
       "2083177      Report      Nursing/other  \n",
       "2083178      Report      Nursing/other  \n",
       "2083179      Report      Nursing/other  \n",
       "\n",
       "[2083180 rows x 5 columns]"
      ]
     },
     "execution_count": 11,
     "metadata": {},
     "output_type": "execute_result"
    }
   ],
   "source": [
    "# df1 = df[['a','b']]\n",
    "note_admiss_df_left[['DIAGNOSIS', 'SUBJECT_ID_x', 'SUBJECT_ID_y','DESCRIPTION', 'CATEGORY']]"
   ]
  },
  {
   "cell_type": "code",
   "execution_count": 12,
   "metadata": {
    "scrolled": true
   },
   "outputs": [],
   "source": [
    "pneumonia_df = note_admiss_df_left.loc[note_admiss_df_left[\"DIAGNOSIS\"] == 'PNEUMONIA', ['ROW_ID_x', 'SUBJECT_ID_x', 'HADM_ID', 'CHARTDATE', 'CHARTTIME', 'STORETIME', 'CATEGORY', 'DESCRIPTION', 'CGID', 'ISERROR', 'TEXT', 'ADMITTIME', 'DISCHTIME', 'DEATHTIME', 'ADMISSION_TYPE', 'DIAGNOSIS', 'HAS_CHARTEVENTS_DATA']]"
   ]
  },
  {
   "cell_type": "code",
   "execution_count": null,
   "metadata": {
    "scrolled": false
   },
   "outputs": [],
   "source": []
  },
  {
   "cell_type": "code",
   "execution_count": 13,
   "metadata": {
    "scrolled": true
   },
   "outputs": [
    {
     "data": {
      "text/plain": [
       "(59727, 17)"
      ]
     },
     "execution_count": 13,
     "metadata": {},
     "output_type": "execute_result"
    }
   ],
   "source": [
    "pneumonia_df.shape"
   ]
  },
  {
   "cell_type": "code",
   "execution_count": 14,
   "metadata": {
    "scrolled": false
   },
   "outputs": [
    {
     "data": {
      "application/vnd.plotly.v1+json": {
       "config": {
        "linkText": "Export to plot.ly",
        "plotlyServerURL": "https://plot.ly",
        "showLink": true
       },
       "data": [
        {
         "marker": {
          "color": "rgba(255, 153, 51, 0.6)",
          "line": {
           "color": "rgba(255, 153, 51, 1.0)",
           "width": 1
          }
         },
         "name": "CATEGORY",
         "orientation": "v",
         "text": "",
         "type": "bar",
         "x": [
          "Nursing",
          "Nursing/other",
          "Radiology",
          "Physician ",
          "ECG",
          "Respiratory ",
          "Discharge summary",
          "Echo",
          "General",
          "Nutrition",
          "Rehab Services",
          "Social Work",
          "Case Management ",
          "Pharmacy",
          "Consult"
         ],
         "y": [
          13256,
          12693,
          11723,
          10643,
          4469,
          2454,
          1698,
          949,
          680,
          638,
          231,
          142,
          135,
          15,
          1
         ]
        }
       ],
       "layout": {
        "legend": {
         "bgcolor": "#F5F6F9",
         "font": {
          "color": "#4D5663"
         }
        },
        "paper_bgcolor": "#F5F6F9",
        "plot_bgcolor": "#F5F6F9",
        "template": {
         "data": {
          "bar": [
           {
            "error_x": {
             "color": "#2a3f5f"
            },
            "error_y": {
             "color": "#2a3f5f"
            },
            "marker": {
             "line": {
              "color": "#E5ECF6",
              "width": 0.5
             }
            },
            "type": "bar"
           }
          ],
          "barpolar": [
           {
            "marker": {
             "line": {
              "color": "#E5ECF6",
              "width": 0.5
             }
            },
            "type": "barpolar"
           }
          ],
          "carpet": [
           {
            "aaxis": {
             "endlinecolor": "#2a3f5f",
             "gridcolor": "white",
             "linecolor": "white",
             "minorgridcolor": "white",
             "startlinecolor": "#2a3f5f"
            },
            "baxis": {
             "endlinecolor": "#2a3f5f",
             "gridcolor": "white",
             "linecolor": "white",
             "minorgridcolor": "white",
             "startlinecolor": "#2a3f5f"
            },
            "type": "carpet"
           }
          ],
          "choropleth": [
           {
            "colorbar": {
             "outlinewidth": 0,
             "ticks": ""
            },
            "type": "choropleth"
           }
          ],
          "contour": [
           {
            "colorbar": {
             "outlinewidth": 0,
             "ticks": ""
            },
            "colorscale": [
             [
              0,
              "#0d0887"
             ],
             [
              0.1111111111111111,
              "#46039f"
             ],
             [
              0.2222222222222222,
              "#7201a8"
             ],
             [
              0.3333333333333333,
              "#9c179e"
             ],
             [
              0.4444444444444444,
              "#bd3786"
             ],
             [
              0.5555555555555556,
              "#d8576b"
             ],
             [
              0.6666666666666666,
              "#ed7953"
             ],
             [
              0.7777777777777778,
              "#fb9f3a"
             ],
             [
              0.8888888888888888,
              "#fdca26"
             ],
             [
              1,
              "#f0f921"
             ]
            ],
            "type": "contour"
           }
          ],
          "contourcarpet": [
           {
            "colorbar": {
             "outlinewidth": 0,
             "ticks": ""
            },
            "type": "contourcarpet"
           }
          ],
          "heatmap": [
           {
            "colorbar": {
             "outlinewidth": 0,
             "ticks": ""
            },
            "colorscale": [
             [
              0,
              "#0d0887"
             ],
             [
              0.1111111111111111,
              "#46039f"
             ],
             [
              0.2222222222222222,
              "#7201a8"
             ],
             [
              0.3333333333333333,
              "#9c179e"
             ],
             [
              0.4444444444444444,
              "#bd3786"
             ],
             [
              0.5555555555555556,
              "#d8576b"
             ],
             [
              0.6666666666666666,
              "#ed7953"
             ],
             [
              0.7777777777777778,
              "#fb9f3a"
             ],
             [
              0.8888888888888888,
              "#fdca26"
             ],
             [
              1,
              "#f0f921"
             ]
            ],
            "type": "heatmap"
           }
          ],
          "heatmapgl": [
           {
            "colorbar": {
             "outlinewidth": 0,
             "ticks": ""
            },
            "colorscale": [
             [
              0,
              "#0d0887"
             ],
             [
              0.1111111111111111,
              "#46039f"
             ],
             [
              0.2222222222222222,
              "#7201a8"
             ],
             [
              0.3333333333333333,
              "#9c179e"
             ],
             [
              0.4444444444444444,
              "#bd3786"
             ],
             [
              0.5555555555555556,
              "#d8576b"
             ],
             [
              0.6666666666666666,
              "#ed7953"
             ],
             [
              0.7777777777777778,
              "#fb9f3a"
             ],
             [
              0.8888888888888888,
              "#fdca26"
             ],
             [
              1,
              "#f0f921"
             ]
            ],
            "type": "heatmapgl"
           }
          ],
          "histogram": [
           {
            "marker": {
             "colorbar": {
              "outlinewidth": 0,
              "ticks": ""
             }
            },
            "type": "histogram"
           }
          ],
          "histogram2d": [
           {
            "colorbar": {
             "outlinewidth": 0,
             "ticks": ""
            },
            "colorscale": [
             [
              0,
              "#0d0887"
             ],
             [
              0.1111111111111111,
              "#46039f"
             ],
             [
              0.2222222222222222,
              "#7201a8"
             ],
             [
              0.3333333333333333,
              "#9c179e"
             ],
             [
              0.4444444444444444,
              "#bd3786"
             ],
             [
              0.5555555555555556,
              "#d8576b"
             ],
             [
              0.6666666666666666,
              "#ed7953"
             ],
             [
              0.7777777777777778,
              "#fb9f3a"
             ],
             [
              0.8888888888888888,
              "#fdca26"
             ],
             [
              1,
              "#f0f921"
             ]
            ],
            "type": "histogram2d"
           }
          ],
          "histogram2dcontour": [
           {
            "colorbar": {
             "outlinewidth": 0,
             "ticks": ""
            },
            "colorscale": [
             [
              0,
              "#0d0887"
             ],
             [
              0.1111111111111111,
              "#46039f"
             ],
             [
              0.2222222222222222,
              "#7201a8"
             ],
             [
              0.3333333333333333,
              "#9c179e"
             ],
             [
              0.4444444444444444,
              "#bd3786"
             ],
             [
              0.5555555555555556,
              "#d8576b"
             ],
             [
              0.6666666666666666,
              "#ed7953"
             ],
             [
              0.7777777777777778,
              "#fb9f3a"
             ],
             [
              0.8888888888888888,
              "#fdca26"
             ],
             [
              1,
              "#f0f921"
             ]
            ],
            "type": "histogram2dcontour"
           }
          ],
          "mesh3d": [
           {
            "colorbar": {
             "outlinewidth": 0,
             "ticks": ""
            },
            "type": "mesh3d"
           }
          ],
          "parcoords": [
           {
            "line": {
             "colorbar": {
              "outlinewidth": 0,
              "ticks": ""
             }
            },
            "type": "parcoords"
           }
          ],
          "pie": [
           {
            "automargin": true,
            "type": "pie"
           }
          ],
          "scatter": [
           {
            "marker": {
             "colorbar": {
              "outlinewidth": 0,
              "ticks": ""
             }
            },
            "type": "scatter"
           }
          ],
          "scatter3d": [
           {
            "line": {
             "colorbar": {
              "outlinewidth": 0,
              "ticks": ""
             }
            },
            "marker": {
             "colorbar": {
              "outlinewidth": 0,
              "ticks": ""
             }
            },
            "type": "scatter3d"
           }
          ],
          "scattercarpet": [
           {
            "marker": {
             "colorbar": {
              "outlinewidth": 0,
              "ticks": ""
             }
            },
            "type": "scattercarpet"
           }
          ],
          "scattergeo": [
           {
            "marker": {
             "colorbar": {
              "outlinewidth": 0,
              "ticks": ""
             }
            },
            "type": "scattergeo"
           }
          ],
          "scattergl": [
           {
            "marker": {
             "colorbar": {
              "outlinewidth": 0,
              "ticks": ""
             }
            },
            "type": "scattergl"
           }
          ],
          "scattermapbox": [
           {
            "marker": {
             "colorbar": {
              "outlinewidth": 0,
              "ticks": ""
             }
            },
            "type": "scattermapbox"
           }
          ],
          "scatterpolar": [
           {
            "marker": {
             "colorbar": {
              "outlinewidth": 0,
              "ticks": ""
             }
            },
            "type": "scatterpolar"
           }
          ],
          "scatterpolargl": [
           {
            "marker": {
             "colorbar": {
              "outlinewidth": 0,
              "ticks": ""
             }
            },
            "type": "scatterpolargl"
           }
          ],
          "scatterternary": [
           {
            "marker": {
             "colorbar": {
              "outlinewidth": 0,
              "ticks": ""
             }
            },
            "type": "scatterternary"
           }
          ],
          "surface": [
           {
            "colorbar": {
             "outlinewidth": 0,
             "ticks": ""
            },
            "colorscale": [
             [
              0,
              "#0d0887"
             ],
             [
              0.1111111111111111,
              "#46039f"
             ],
             [
              0.2222222222222222,
              "#7201a8"
             ],
             [
              0.3333333333333333,
              "#9c179e"
             ],
             [
              0.4444444444444444,
              "#bd3786"
             ],
             [
              0.5555555555555556,
              "#d8576b"
             ],
             [
              0.6666666666666666,
              "#ed7953"
             ],
             [
              0.7777777777777778,
              "#fb9f3a"
             ],
             [
              0.8888888888888888,
              "#fdca26"
             ],
             [
              1,
              "#f0f921"
             ]
            ],
            "type": "surface"
           }
          ],
          "table": [
           {
            "cells": {
             "fill": {
              "color": "#EBF0F8"
             },
             "line": {
              "color": "white"
             }
            },
            "header": {
             "fill": {
              "color": "#C8D4E3"
             },
             "line": {
              "color": "white"
             }
            },
            "type": "table"
           }
          ]
         },
         "layout": {
          "annotationdefaults": {
           "arrowcolor": "#2a3f5f",
           "arrowhead": 0,
           "arrowwidth": 1
          },
          "coloraxis": {
           "colorbar": {
            "outlinewidth": 0,
            "ticks": ""
           }
          },
          "colorscale": {
           "diverging": [
            [
             0,
             "#8e0152"
            ],
            [
             0.1,
             "#c51b7d"
            ],
            [
             0.2,
             "#de77ae"
            ],
            [
             0.3,
             "#f1b6da"
            ],
            [
             0.4,
             "#fde0ef"
            ],
            [
             0.5,
             "#f7f7f7"
            ],
            [
             0.6,
             "#e6f5d0"
            ],
            [
             0.7,
             "#b8e186"
            ],
            [
             0.8,
             "#7fbc41"
            ],
            [
             0.9,
             "#4d9221"
            ],
            [
             1,
             "#276419"
            ]
           ],
           "sequential": [
            [
             0,
             "#0d0887"
            ],
            [
             0.1111111111111111,
             "#46039f"
            ],
            [
             0.2222222222222222,
             "#7201a8"
            ],
            [
             0.3333333333333333,
             "#9c179e"
            ],
            [
             0.4444444444444444,
             "#bd3786"
            ],
            [
             0.5555555555555556,
             "#d8576b"
            ],
            [
             0.6666666666666666,
             "#ed7953"
            ],
            [
             0.7777777777777778,
             "#fb9f3a"
            ],
            [
             0.8888888888888888,
             "#fdca26"
            ],
            [
             1,
             "#f0f921"
            ]
           ],
           "sequentialminus": [
            [
             0,
             "#0d0887"
            ],
            [
             0.1111111111111111,
             "#46039f"
            ],
            [
             0.2222222222222222,
             "#7201a8"
            ],
            [
             0.3333333333333333,
             "#9c179e"
            ],
            [
             0.4444444444444444,
             "#bd3786"
            ],
            [
             0.5555555555555556,
             "#d8576b"
            ],
            [
             0.6666666666666666,
             "#ed7953"
            ],
            [
             0.7777777777777778,
             "#fb9f3a"
            ],
            [
             0.8888888888888888,
             "#fdca26"
            ],
            [
             1,
             "#f0f921"
            ]
           ]
          },
          "colorway": [
           "#636efa",
           "#EF553B",
           "#00cc96",
           "#ab63fa",
           "#FFA15A",
           "#19d3f3",
           "#FF6692",
           "#B6E880",
           "#FF97FF",
           "#FECB52"
          ],
          "font": {
           "color": "#2a3f5f"
          },
          "geo": {
           "bgcolor": "white",
           "lakecolor": "white",
           "landcolor": "#E5ECF6",
           "showlakes": true,
           "showland": true,
           "subunitcolor": "white"
          },
          "hoverlabel": {
           "align": "left"
          },
          "hovermode": "closest",
          "mapbox": {
           "style": "light"
          },
          "paper_bgcolor": "white",
          "plot_bgcolor": "#E5ECF6",
          "polar": {
           "angularaxis": {
            "gridcolor": "white",
            "linecolor": "white",
            "ticks": ""
           },
           "bgcolor": "#E5ECF6",
           "radialaxis": {
            "gridcolor": "white",
            "linecolor": "white",
            "ticks": ""
           }
          },
          "scene": {
           "xaxis": {
            "backgroundcolor": "#E5ECF6",
            "gridcolor": "white",
            "gridwidth": 2,
            "linecolor": "white",
            "showbackground": true,
            "ticks": "",
            "zerolinecolor": "white"
           },
           "yaxis": {
            "backgroundcolor": "#E5ECF6",
            "gridcolor": "white",
            "gridwidth": 2,
            "linecolor": "white",
            "showbackground": true,
            "ticks": "",
            "zerolinecolor": "white"
           },
           "zaxis": {
            "backgroundcolor": "#E5ECF6",
            "gridcolor": "white",
            "gridwidth": 2,
            "linecolor": "white",
            "showbackground": true,
            "ticks": "",
            "zerolinecolor": "white"
           }
          },
          "shapedefaults": {
           "line": {
            "color": "#2a3f5f"
           }
          },
          "ternary": {
           "aaxis": {
            "gridcolor": "white",
            "linecolor": "white",
            "ticks": ""
           },
           "baxis": {
            "gridcolor": "white",
            "linecolor": "white",
            "ticks": ""
           },
           "bgcolor": "#E5ECF6",
           "caxis": {
            "gridcolor": "white",
            "linecolor": "white",
            "ticks": ""
           }
          },
          "title": {
           "x": 0.05
          },
          "xaxis": {
           "automargin": true,
           "gridcolor": "white",
           "linecolor": "white",
           "ticks": "",
           "title": {
            "standoff": 15
           },
           "zerolinecolor": "white",
           "zerolinewidth": 2
          },
          "yaxis": {
           "automargin": true,
           "gridcolor": "white",
           "linecolor": "white",
           "ticks": "",
           "title": {
            "standoff": 15
           },
           "zerolinecolor": "white",
           "zerolinewidth": 2
          }
         }
        },
        "title": {
         "font": {
          "color": "#4D5663"
         },
         "text": "Number of category kinds in noteevents"
        },
        "xaxis": {
         "gridcolor": "#E1E5ED",
         "showgrid": true,
         "tickfont": {
          "color": "#4D5663"
         },
         "title": {
          "font": {
           "color": "#4D5663"
          },
          "text": ""
         },
         "zerolinecolor": "#E1E5ED"
        },
        "yaxis": {
         "gridcolor": "#E1E5ED",
         "showgrid": true,
         "tickfont": {
          "color": "#4D5663"
         },
         "title": {
          "font": {
           "color": "#4D5663"
          },
          "text": "Number of notes"
         },
         "zerolinecolor": "#E1E5ED"
        }
       }
      },
      "text/html": [
       "<div>\n",
       "        \n",
       "        \n",
       "            <div id=\"525a5d23-ab24-436a-8db5-5762ba88318d\" class=\"plotly-graph-div\" style=\"height:525px; width:100%;\"></div>\n",
       "            <script type=\"text/javascript\">\n",
       "                require([\"plotly\"], function(Plotly) {\n",
       "                    window.PLOTLYENV=window.PLOTLYENV || {};\n",
       "                    window.PLOTLYENV.BASE_URL='https://plot.ly';\n",
       "                    \n",
       "                if (document.getElementById(\"525a5d23-ab24-436a-8db5-5762ba88318d\")) {\n",
       "                    Plotly.newPlot(\n",
       "                        '525a5d23-ab24-436a-8db5-5762ba88318d',\n",
       "                        [{\"marker\": {\"color\": \"rgba(255, 153, 51, 0.6)\", \"line\": {\"color\": \"rgba(255, 153, 51, 1.0)\", \"width\": 1}}, \"name\": \"CATEGORY\", \"orientation\": \"v\", \"text\": \"\", \"type\": \"bar\", \"x\": [\"Nursing\", \"Nursing/other\", \"Radiology\", \"Physician \", \"ECG\", \"Respiratory \", \"Discharge summary\", \"Echo\", \"General\", \"Nutrition\", \"Rehab Services\", \"Social Work\", \"Case Management \", \"Pharmacy\", \"Consult\"], \"y\": [13256, 12693, 11723, 10643, 4469, 2454, 1698, 949, 680, 638, 231, 142, 135, 15, 1]}],\n",
       "                        {\"legend\": {\"bgcolor\": \"#F5F6F9\", \"font\": {\"color\": \"#4D5663\"}}, \"paper_bgcolor\": \"#F5F6F9\", \"plot_bgcolor\": \"#F5F6F9\", \"template\": {\"data\": {\"bar\": [{\"error_x\": {\"color\": \"#2a3f5f\"}, \"error_y\": {\"color\": \"#2a3f5f\"}, \"marker\": {\"line\": {\"color\": \"#E5ECF6\", \"width\": 0.5}}, \"type\": \"bar\"}], \"barpolar\": [{\"marker\": {\"line\": {\"color\": \"#E5ECF6\", \"width\": 0.5}}, \"type\": \"barpolar\"}], \"carpet\": [{\"aaxis\": {\"endlinecolor\": \"#2a3f5f\", \"gridcolor\": \"white\", \"linecolor\": \"white\", \"minorgridcolor\": \"white\", \"startlinecolor\": \"#2a3f5f\"}, \"baxis\": {\"endlinecolor\": \"#2a3f5f\", \"gridcolor\": \"white\", \"linecolor\": \"white\", \"minorgridcolor\": \"white\", \"startlinecolor\": \"#2a3f5f\"}, \"type\": \"carpet\"}], \"choropleth\": [{\"colorbar\": {\"outlinewidth\": 0, \"ticks\": \"\"}, \"type\": \"choropleth\"}], \"contour\": [{\"colorbar\": {\"outlinewidth\": 0, \"ticks\": \"\"}, \"colorscale\": [[0.0, \"#0d0887\"], [0.1111111111111111, \"#46039f\"], [0.2222222222222222, \"#7201a8\"], [0.3333333333333333, \"#9c179e\"], [0.4444444444444444, \"#bd3786\"], [0.5555555555555556, \"#d8576b\"], [0.6666666666666666, \"#ed7953\"], [0.7777777777777778, \"#fb9f3a\"], [0.8888888888888888, \"#fdca26\"], [1.0, \"#f0f921\"]], \"type\": \"contour\"}], \"contourcarpet\": [{\"colorbar\": {\"outlinewidth\": 0, \"ticks\": \"\"}, \"type\": \"contourcarpet\"}], \"heatmap\": [{\"colorbar\": {\"outlinewidth\": 0, \"ticks\": \"\"}, \"colorscale\": [[0.0, \"#0d0887\"], [0.1111111111111111, \"#46039f\"], [0.2222222222222222, \"#7201a8\"], [0.3333333333333333, \"#9c179e\"], [0.4444444444444444, \"#bd3786\"], [0.5555555555555556, \"#d8576b\"], [0.6666666666666666, \"#ed7953\"], [0.7777777777777778, \"#fb9f3a\"], [0.8888888888888888, \"#fdca26\"], [1.0, \"#f0f921\"]], \"type\": \"heatmap\"}], \"heatmapgl\": [{\"colorbar\": {\"outlinewidth\": 0, \"ticks\": \"\"}, \"colorscale\": [[0.0, \"#0d0887\"], [0.1111111111111111, \"#46039f\"], [0.2222222222222222, \"#7201a8\"], [0.3333333333333333, \"#9c179e\"], [0.4444444444444444, \"#bd3786\"], [0.5555555555555556, \"#d8576b\"], [0.6666666666666666, \"#ed7953\"], [0.7777777777777778, \"#fb9f3a\"], [0.8888888888888888, \"#fdca26\"], [1.0, \"#f0f921\"]], \"type\": \"heatmapgl\"}], \"histogram\": [{\"marker\": {\"colorbar\": {\"outlinewidth\": 0, \"ticks\": \"\"}}, \"type\": \"histogram\"}], \"histogram2d\": [{\"colorbar\": {\"outlinewidth\": 0, \"ticks\": \"\"}, \"colorscale\": [[0.0, \"#0d0887\"], [0.1111111111111111, \"#46039f\"], [0.2222222222222222, \"#7201a8\"], [0.3333333333333333, \"#9c179e\"], [0.4444444444444444, \"#bd3786\"], [0.5555555555555556, \"#d8576b\"], [0.6666666666666666, \"#ed7953\"], [0.7777777777777778, \"#fb9f3a\"], [0.8888888888888888, \"#fdca26\"], [1.0, \"#f0f921\"]], \"type\": \"histogram2d\"}], \"histogram2dcontour\": [{\"colorbar\": {\"outlinewidth\": 0, \"ticks\": \"\"}, \"colorscale\": [[0.0, \"#0d0887\"], [0.1111111111111111, \"#46039f\"], [0.2222222222222222, \"#7201a8\"], [0.3333333333333333, \"#9c179e\"], [0.4444444444444444, \"#bd3786\"], [0.5555555555555556, \"#d8576b\"], [0.6666666666666666, \"#ed7953\"], [0.7777777777777778, \"#fb9f3a\"], [0.8888888888888888, \"#fdca26\"], [1.0, \"#f0f921\"]], \"type\": \"histogram2dcontour\"}], \"mesh3d\": [{\"colorbar\": {\"outlinewidth\": 0, \"ticks\": \"\"}, \"type\": \"mesh3d\"}], \"parcoords\": [{\"line\": {\"colorbar\": {\"outlinewidth\": 0, \"ticks\": \"\"}}, \"type\": \"parcoords\"}], \"pie\": [{\"automargin\": true, \"type\": \"pie\"}], \"scatter\": [{\"marker\": {\"colorbar\": {\"outlinewidth\": 0, \"ticks\": \"\"}}, \"type\": \"scatter\"}], \"scatter3d\": [{\"line\": {\"colorbar\": {\"outlinewidth\": 0, \"ticks\": \"\"}}, \"marker\": {\"colorbar\": {\"outlinewidth\": 0, \"ticks\": \"\"}}, \"type\": \"scatter3d\"}], \"scattercarpet\": [{\"marker\": {\"colorbar\": {\"outlinewidth\": 0, \"ticks\": \"\"}}, \"type\": \"scattercarpet\"}], \"scattergeo\": [{\"marker\": {\"colorbar\": {\"outlinewidth\": 0, \"ticks\": \"\"}}, \"type\": \"scattergeo\"}], \"scattergl\": [{\"marker\": {\"colorbar\": {\"outlinewidth\": 0, \"ticks\": \"\"}}, \"type\": \"scattergl\"}], \"scattermapbox\": [{\"marker\": {\"colorbar\": {\"outlinewidth\": 0, \"ticks\": \"\"}}, \"type\": \"scattermapbox\"}], \"scatterpolar\": [{\"marker\": {\"colorbar\": {\"outlinewidth\": 0, \"ticks\": \"\"}}, \"type\": \"scatterpolar\"}], \"scatterpolargl\": [{\"marker\": {\"colorbar\": {\"outlinewidth\": 0, \"ticks\": \"\"}}, \"type\": \"scatterpolargl\"}], \"scatterternary\": [{\"marker\": {\"colorbar\": {\"outlinewidth\": 0, \"ticks\": \"\"}}, \"type\": \"scatterternary\"}], \"surface\": [{\"colorbar\": {\"outlinewidth\": 0, \"ticks\": \"\"}, \"colorscale\": [[0.0, \"#0d0887\"], [0.1111111111111111, \"#46039f\"], [0.2222222222222222, \"#7201a8\"], [0.3333333333333333, \"#9c179e\"], [0.4444444444444444, \"#bd3786\"], [0.5555555555555556, \"#d8576b\"], [0.6666666666666666, \"#ed7953\"], [0.7777777777777778, \"#fb9f3a\"], [0.8888888888888888, \"#fdca26\"], [1.0, \"#f0f921\"]], \"type\": \"surface\"}], \"table\": [{\"cells\": {\"fill\": {\"color\": \"#EBF0F8\"}, \"line\": {\"color\": \"white\"}}, \"header\": {\"fill\": {\"color\": \"#C8D4E3\"}, \"line\": {\"color\": \"white\"}}, \"type\": \"table\"}]}, \"layout\": {\"annotationdefaults\": {\"arrowcolor\": \"#2a3f5f\", \"arrowhead\": 0, \"arrowwidth\": 1}, \"coloraxis\": {\"colorbar\": {\"outlinewidth\": 0, \"ticks\": \"\"}}, \"colorscale\": {\"diverging\": [[0, \"#8e0152\"], [0.1, \"#c51b7d\"], [0.2, \"#de77ae\"], [0.3, \"#f1b6da\"], [0.4, \"#fde0ef\"], [0.5, \"#f7f7f7\"], [0.6, \"#e6f5d0\"], [0.7, \"#b8e186\"], [0.8, \"#7fbc41\"], [0.9, \"#4d9221\"], [1, \"#276419\"]], \"sequential\": [[0.0, \"#0d0887\"], [0.1111111111111111, \"#46039f\"], [0.2222222222222222, \"#7201a8\"], [0.3333333333333333, \"#9c179e\"], [0.4444444444444444, \"#bd3786\"], [0.5555555555555556, \"#d8576b\"], [0.6666666666666666, \"#ed7953\"], [0.7777777777777778, \"#fb9f3a\"], [0.8888888888888888, \"#fdca26\"], [1.0, \"#f0f921\"]], \"sequentialminus\": [[0.0, \"#0d0887\"], [0.1111111111111111, \"#46039f\"], [0.2222222222222222, \"#7201a8\"], [0.3333333333333333, \"#9c179e\"], [0.4444444444444444, \"#bd3786\"], [0.5555555555555556, \"#d8576b\"], [0.6666666666666666, \"#ed7953\"], [0.7777777777777778, \"#fb9f3a\"], [0.8888888888888888, \"#fdca26\"], [1.0, \"#f0f921\"]]}, \"colorway\": [\"#636efa\", \"#EF553B\", \"#00cc96\", \"#ab63fa\", \"#FFA15A\", \"#19d3f3\", \"#FF6692\", \"#B6E880\", \"#FF97FF\", \"#FECB52\"], \"font\": {\"color\": \"#2a3f5f\"}, \"geo\": {\"bgcolor\": \"white\", \"lakecolor\": \"white\", \"landcolor\": \"#E5ECF6\", \"showlakes\": true, \"showland\": true, \"subunitcolor\": \"white\"}, \"hoverlabel\": {\"align\": \"left\"}, \"hovermode\": \"closest\", \"mapbox\": {\"style\": \"light\"}, \"paper_bgcolor\": \"white\", \"plot_bgcolor\": \"#E5ECF6\", \"polar\": {\"angularaxis\": {\"gridcolor\": \"white\", \"linecolor\": \"white\", \"ticks\": \"\"}, \"bgcolor\": \"#E5ECF6\", \"radialaxis\": {\"gridcolor\": \"white\", \"linecolor\": \"white\", \"ticks\": \"\"}}, \"scene\": {\"xaxis\": {\"backgroundcolor\": \"#E5ECF6\", \"gridcolor\": \"white\", \"gridwidth\": 2, \"linecolor\": \"white\", \"showbackground\": true, \"ticks\": \"\", \"zerolinecolor\": \"white\"}, \"yaxis\": {\"backgroundcolor\": \"#E5ECF6\", \"gridcolor\": \"white\", \"gridwidth\": 2, \"linecolor\": \"white\", \"showbackground\": true, \"ticks\": \"\", \"zerolinecolor\": \"white\"}, \"zaxis\": {\"backgroundcolor\": \"#E5ECF6\", \"gridcolor\": \"white\", \"gridwidth\": 2, \"linecolor\": \"white\", \"showbackground\": true, \"ticks\": \"\", \"zerolinecolor\": \"white\"}}, \"shapedefaults\": {\"line\": {\"color\": \"#2a3f5f\"}}, \"ternary\": {\"aaxis\": {\"gridcolor\": \"white\", \"linecolor\": \"white\", \"ticks\": \"\"}, \"baxis\": {\"gridcolor\": \"white\", \"linecolor\": \"white\", \"ticks\": \"\"}, \"bgcolor\": \"#E5ECF6\", \"caxis\": {\"gridcolor\": \"white\", \"linecolor\": \"white\", \"ticks\": \"\"}}, \"title\": {\"x\": 0.05}, \"xaxis\": {\"automargin\": true, \"gridcolor\": \"white\", \"linecolor\": \"white\", \"ticks\": \"\", \"title\": {\"standoff\": 15}, \"zerolinecolor\": \"white\", \"zerolinewidth\": 2}, \"yaxis\": {\"automargin\": true, \"gridcolor\": \"white\", \"linecolor\": \"white\", \"ticks\": \"\", \"title\": {\"standoff\": 15}, \"zerolinecolor\": \"white\", \"zerolinewidth\": 2}}}, \"title\": {\"font\": {\"color\": \"#4D5663\"}, \"text\": \"Number of category kinds in noteevents\"}, \"xaxis\": {\"gridcolor\": \"#E1E5ED\", \"showgrid\": true, \"tickfont\": {\"color\": \"#4D5663\"}, \"title\": {\"font\": {\"color\": \"#4D5663\"}, \"text\": \"\"}, \"zerolinecolor\": \"#E1E5ED\"}, \"yaxis\": {\"gridcolor\": \"#E1E5ED\", \"showgrid\": true, \"tickfont\": {\"color\": \"#4D5663\"}, \"title\": {\"font\": {\"color\": \"#4D5663\"}, \"text\": \"Number of notes\"}, \"zerolinecolor\": \"#E1E5ED\"}},\n",
       "                        {\"showLink\": true, \"linkText\": \"Export to plot.ly\", \"plotlyServerURL\": \"https://plot.ly\", \"responsive\": true}\n",
       "                    ).then(function(){\n",
       "                            \n",
       "var gd = document.getElementById('525a5d23-ab24-436a-8db5-5762ba88318d');\n",
       "var x = new MutationObserver(function (mutations, observer) {{\n",
       "        var display = window.getComputedStyle(gd).display;\n",
       "        if (!display || display === 'none') {{\n",
       "            console.log([gd, 'removed!']);\n",
       "            Plotly.purge(gd);\n",
       "            observer.disconnect();\n",
       "        }}\n",
       "}});\n",
       "\n",
       "// Listen for the removal of the full notebook cells\n",
       "var notebookContainer = gd.closest('#notebook-container');\n",
       "if (notebookContainer) {{\n",
       "    x.observe(notebookContainer, {childList: true});\n",
       "}}\n",
       "\n",
       "// Listen for the clearing of the current output cell\n",
       "var outputEl = gd.closest('.output');\n",
       "if (outputEl) {{\n",
       "    x.observe(outputEl, {childList: true});\n",
       "}}\n",
       "\n",
       "                        })\n",
       "                };\n",
       "                });\n",
       "            </script>\n",
       "        </div>"
      ]
     },
     "metadata": {},
     "output_type": "display_data"
    }
   ],
   "source": [
    "pneumonia_df['CATEGORY'].value_counts().sort_values(ascending=False).iplot(kind='bar', yTitle='Number of notes', \n",
    "                                                                title='Number of category kinds in noteevents')"
   ]
  },
  {
   "cell_type": "code",
   "execution_count": 15,
   "metadata": {},
   "outputs": [],
   "source": [
    "#pneumonia_no_disch_df = pneumonia_df.loc[pneumonia_df[\"CATEGORY\"] != 'Discharge summary', ['ROW_ID_x', 'SUBJECT_ID_x', 'HADM_ID', 'CHARTDATE', 'CHARTTIME', 'STORETIME', 'CATEGORY', 'DESCRIPTION', 'CGID', 'ISERROR', 'TEXT', 'ADMITTIME', 'DISCHTIME', 'DEATHTIME', 'ADMISSION_TYPE', 'DIAGNOSIS', 'HAS_CHARTEVENTS_DATA']]\n",
    "pneumonia_no_disch_df = pneumonia_df.loc[pneumonia_df[\"CATEGORY\"] != 'Discharge summary', ['ROW_ID_x','SUBJECT_ID_x','CHARTDATE','STORETIME','CATEGORY','DESCRIPTION','TEXT', 'DEATHTIME']]"
   ]
  },
  {
   "cell_type": "code",
   "execution_count": 16,
   "metadata": {
    "scrolled": false
   },
   "outputs": [
    {
     "data": {
      "application/vnd.plotly.v1+json": {
       "config": {
        "linkText": "Export to plot.ly",
        "plotlyServerURL": "https://plot.ly",
        "showLink": true
       },
       "data": [
        {
         "marker": {
          "color": "rgba(255, 153, 51, 0.6)",
          "line": {
           "color": "rgba(255, 153, 51, 1.0)",
           "width": 1
          }
         },
         "name": "CATEGORY",
         "orientation": "v",
         "text": "",
         "type": "bar",
         "x": [
          "Nursing",
          "Nursing/other",
          "Radiology",
          "Physician ",
          "ECG",
          "Respiratory ",
          "Echo",
          "General",
          "Nutrition",
          "Rehab Services",
          "Social Work",
          "Case Management ",
          "Pharmacy",
          "Consult"
         ],
         "y": [
          13256,
          12693,
          11723,
          10643,
          4469,
          2454,
          949,
          680,
          638,
          231,
          142,
          135,
          15,
          1
         ]
        }
       ],
       "layout": {
        "legend": {
         "bgcolor": "#F5F6F9",
         "font": {
          "color": "#4D5663"
         }
        },
        "paper_bgcolor": "#F5F6F9",
        "plot_bgcolor": "#F5F6F9",
        "template": {
         "data": {
          "bar": [
           {
            "error_x": {
             "color": "#2a3f5f"
            },
            "error_y": {
             "color": "#2a3f5f"
            },
            "marker": {
             "line": {
              "color": "#E5ECF6",
              "width": 0.5
             }
            },
            "type": "bar"
           }
          ],
          "barpolar": [
           {
            "marker": {
             "line": {
              "color": "#E5ECF6",
              "width": 0.5
             }
            },
            "type": "barpolar"
           }
          ],
          "carpet": [
           {
            "aaxis": {
             "endlinecolor": "#2a3f5f",
             "gridcolor": "white",
             "linecolor": "white",
             "minorgridcolor": "white",
             "startlinecolor": "#2a3f5f"
            },
            "baxis": {
             "endlinecolor": "#2a3f5f",
             "gridcolor": "white",
             "linecolor": "white",
             "minorgridcolor": "white",
             "startlinecolor": "#2a3f5f"
            },
            "type": "carpet"
           }
          ],
          "choropleth": [
           {
            "colorbar": {
             "outlinewidth": 0,
             "ticks": ""
            },
            "type": "choropleth"
           }
          ],
          "contour": [
           {
            "colorbar": {
             "outlinewidth": 0,
             "ticks": ""
            },
            "colorscale": [
             [
              0,
              "#0d0887"
             ],
             [
              0.1111111111111111,
              "#46039f"
             ],
             [
              0.2222222222222222,
              "#7201a8"
             ],
             [
              0.3333333333333333,
              "#9c179e"
             ],
             [
              0.4444444444444444,
              "#bd3786"
             ],
             [
              0.5555555555555556,
              "#d8576b"
             ],
             [
              0.6666666666666666,
              "#ed7953"
             ],
             [
              0.7777777777777778,
              "#fb9f3a"
             ],
             [
              0.8888888888888888,
              "#fdca26"
             ],
             [
              1,
              "#f0f921"
             ]
            ],
            "type": "contour"
           }
          ],
          "contourcarpet": [
           {
            "colorbar": {
             "outlinewidth": 0,
             "ticks": ""
            },
            "type": "contourcarpet"
           }
          ],
          "heatmap": [
           {
            "colorbar": {
             "outlinewidth": 0,
             "ticks": ""
            },
            "colorscale": [
             [
              0,
              "#0d0887"
             ],
             [
              0.1111111111111111,
              "#46039f"
             ],
             [
              0.2222222222222222,
              "#7201a8"
             ],
             [
              0.3333333333333333,
              "#9c179e"
             ],
             [
              0.4444444444444444,
              "#bd3786"
             ],
             [
              0.5555555555555556,
              "#d8576b"
             ],
             [
              0.6666666666666666,
              "#ed7953"
             ],
             [
              0.7777777777777778,
              "#fb9f3a"
             ],
             [
              0.8888888888888888,
              "#fdca26"
             ],
             [
              1,
              "#f0f921"
             ]
            ],
            "type": "heatmap"
           }
          ],
          "heatmapgl": [
           {
            "colorbar": {
             "outlinewidth": 0,
             "ticks": ""
            },
            "colorscale": [
             [
              0,
              "#0d0887"
             ],
             [
              0.1111111111111111,
              "#46039f"
             ],
             [
              0.2222222222222222,
              "#7201a8"
             ],
             [
              0.3333333333333333,
              "#9c179e"
             ],
             [
              0.4444444444444444,
              "#bd3786"
             ],
             [
              0.5555555555555556,
              "#d8576b"
             ],
             [
              0.6666666666666666,
              "#ed7953"
             ],
             [
              0.7777777777777778,
              "#fb9f3a"
             ],
             [
              0.8888888888888888,
              "#fdca26"
             ],
             [
              1,
              "#f0f921"
             ]
            ],
            "type": "heatmapgl"
           }
          ],
          "histogram": [
           {
            "marker": {
             "colorbar": {
              "outlinewidth": 0,
              "ticks": ""
             }
            },
            "type": "histogram"
           }
          ],
          "histogram2d": [
           {
            "colorbar": {
             "outlinewidth": 0,
             "ticks": ""
            },
            "colorscale": [
             [
              0,
              "#0d0887"
             ],
             [
              0.1111111111111111,
              "#46039f"
             ],
             [
              0.2222222222222222,
              "#7201a8"
             ],
             [
              0.3333333333333333,
              "#9c179e"
             ],
             [
              0.4444444444444444,
              "#bd3786"
             ],
             [
              0.5555555555555556,
              "#d8576b"
             ],
             [
              0.6666666666666666,
              "#ed7953"
             ],
             [
              0.7777777777777778,
              "#fb9f3a"
             ],
             [
              0.8888888888888888,
              "#fdca26"
             ],
             [
              1,
              "#f0f921"
             ]
            ],
            "type": "histogram2d"
           }
          ],
          "histogram2dcontour": [
           {
            "colorbar": {
             "outlinewidth": 0,
             "ticks": ""
            },
            "colorscale": [
             [
              0,
              "#0d0887"
             ],
             [
              0.1111111111111111,
              "#46039f"
             ],
             [
              0.2222222222222222,
              "#7201a8"
             ],
             [
              0.3333333333333333,
              "#9c179e"
             ],
             [
              0.4444444444444444,
              "#bd3786"
             ],
             [
              0.5555555555555556,
              "#d8576b"
             ],
             [
              0.6666666666666666,
              "#ed7953"
             ],
             [
              0.7777777777777778,
              "#fb9f3a"
             ],
             [
              0.8888888888888888,
              "#fdca26"
             ],
             [
              1,
              "#f0f921"
             ]
            ],
            "type": "histogram2dcontour"
           }
          ],
          "mesh3d": [
           {
            "colorbar": {
             "outlinewidth": 0,
             "ticks": ""
            },
            "type": "mesh3d"
           }
          ],
          "parcoords": [
           {
            "line": {
             "colorbar": {
              "outlinewidth": 0,
              "ticks": ""
             }
            },
            "type": "parcoords"
           }
          ],
          "pie": [
           {
            "automargin": true,
            "type": "pie"
           }
          ],
          "scatter": [
           {
            "marker": {
             "colorbar": {
              "outlinewidth": 0,
              "ticks": ""
             }
            },
            "type": "scatter"
           }
          ],
          "scatter3d": [
           {
            "line": {
             "colorbar": {
              "outlinewidth": 0,
              "ticks": ""
             }
            },
            "marker": {
             "colorbar": {
              "outlinewidth": 0,
              "ticks": ""
             }
            },
            "type": "scatter3d"
           }
          ],
          "scattercarpet": [
           {
            "marker": {
             "colorbar": {
              "outlinewidth": 0,
              "ticks": ""
             }
            },
            "type": "scattercarpet"
           }
          ],
          "scattergeo": [
           {
            "marker": {
             "colorbar": {
              "outlinewidth": 0,
              "ticks": ""
             }
            },
            "type": "scattergeo"
           }
          ],
          "scattergl": [
           {
            "marker": {
             "colorbar": {
              "outlinewidth": 0,
              "ticks": ""
             }
            },
            "type": "scattergl"
           }
          ],
          "scattermapbox": [
           {
            "marker": {
             "colorbar": {
              "outlinewidth": 0,
              "ticks": ""
             }
            },
            "type": "scattermapbox"
           }
          ],
          "scatterpolar": [
           {
            "marker": {
             "colorbar": {
              "outlinewidth": 0,
              "ticks": ""
             }
            },
            "type": "scatterpolar"
           }
          ],
          "scatterpolargl": [
           {
            "marker": {
             "colorbar": {
              "outlinewidth": 0,
              "ticks": ""
             }
            },
            "type": "scatterpolargl"
           }
          ],
          "scatterternary": [
           {
            "marker": {
             "colorbar": {
              "outlinewidth": 0,
              "ticks": ""
             }
            },
            "type": "scatterternary"
           }
          ],
          "surface": [
           {
            "colorbar": {
             "outlinewidth": 0,
             "ticks": ""
            },
            "colorscale": [
             [
              0,
              "#0d0887"
             ],
             [
              0.1111111111111111,
              "#46039f"
             ],
             [
              0.2222222222222222,
              "#7201a8"
             ],
             [
              0.3333333333333333,
              "#9c179e"
             ],
             [
              0.4444444444444444,
              "#bd3786"
             ],
             [
              0.5555555555555556,
              "#d8576b"
             ],
             [
              0.6666666666666666,
              "#ed7953"
             ],
             [
              0.7777777777777778,
              "#fb9f3a"
             ],
             [
              0.8888888888888888,
              "#fdca26"
             ],
             [
              1,
              "#f0f921"
             ]
            ],
            "type": "surface"
           }
          ],
          "table": [
           {
            "cells": {
             "fill": {
              "color": "#EBF0F8"
             },
             "line": {
              "color": "white"
             }
            },
            "header": {
             "fill": {
              "color": "#C8D4E3"
             },
             "line": {
              "color": "white"
             }
            },
            "type": "table"
           }
          ]
         },
         "layout": {
          "annotationdefaults": {
           "arrowcolor": "#2a3f5f",
           "arrowhead": 0,
           "arrowwidth": 1
          },
          "coloraxis": {
           "colorbar": {
            "outlinewidth": 0,
            "ticks": ""
           }
          },
          "colorscale": {
           "diverging": [
            [
             0,
             "#8e0152"
            ],
            [
             0.1,
             "#c51b7d"
            ],
            [
             0.2,
             "#de77ae"
            ],
            [
             0.3,
             "#f1b6da"
            ],
            [
             0.4,
             "#fde0ef"
            ],
            [
             0.5,
             "#f7f7f7"
            ],
            [
             0.6,
             "#e6f5d0"
            ],
            [
             0.7,
             "#b8e186"
            ],
            [
             0.8,
             "#7fbc41"
            ],
            [
             0.9,
             "#4d9221"
            ],
            [
             1,
             "#276419"
            ]
           ],
           "sequential": [
            [
             0,
             "#0d0887"
            ],
            [
             0.1111111111111111,
             "#46039f"
            ],
            [
             0.2222222222222222,
             "#7201a8"
            ],
            [
             0.3333333333333333,
             "#9c179e"
            ],
            [
             0.4444444444444444,
             "#bd3786"
            ],
            [
             0.5555555555555556,
             "#d8576b"
            ],
            [
             0.6666666666666666,
             "#ed7953"
            ],
            [
             0.7777777777777778,
             "#fb9f3a"
            ],
            [
             0.8888888888888888,
             "#fdca26"
            ],
            [
             1,
             "#f0f921"
            ]
           ],
           "sequentialminus": [
            [
             0,
             "#0d0887"
            ],
            [
             0.1111111111111111,
             "#46039f"
            ],
            [
             0.2222222222222222,
             "#7201a8"
            ],
            [
             0.3333333333333333,
             "#9c179e"
            ],
            [
             0.4444444444444444,
             "#bd3786"
            ],
            [
             0.5555555555555556,
             "#d8576b"
            ],
            [
             0.6666666666666666,
             "#ed7953"
            ],
            [
             0.7777777777777778,
             "#fb9f3a"
            ],
            [
             0.8888888888888888,
             "#fdca26"
            ],
            [
             1,
             "#f0f921"
            ]
           ]
          },
          "colorway": [
           "#636efa",
           "#EF553B",
           "#00cc96",
           "#ab63fa",
           "#FFA15A",
           "#19d3f3",
           "#FF6692",
           "#B6E880",
           "#FF97FF",
           "#FECB52"
          ],
          "font": {
           "color": "#2a3f5f"
          },
          "geo": {
           "bgcolor": "white",
           "lakecolor": "white",
           "landcolor": "#E5ECF6",
           "showlakes": true,
           "showland": true,
           "subunitcolor": "white"
          },
          "hoverlabel": {
           "align": "left"
          },
          "hovermode": "closest",
          "mapbox": {
           "style": "light"
          },
          "paper_bgcolor": "white",
          "plot_bgcolor": "#E5ECF6",
          "polar": {
           "angularaxis": {
            "gridcolor": "white",
            "linecolor": "white",
            "ticks": ""
           },
           "bgcolor": "#E5ECF6",
           "radialaxis": {
            "gridcolor": "white",
            "linecolor": "white",
            "ticks": ""
           }
          },
          "scene": {
           "xaxis": {
            "backgroundcolor": "#E5ECF6",
            "gridcolor": "white",
            "gridwidth": 2,
            "linecolor": "white",
            "showbackground": true,
            "ticks": "",
            "zerolinecolor": "white"
           },
           "yaxis": {
            "backgroundcolor": "#E5ECF6",
            "gridcolor": "white",
            "gridwidth": 2,
            "linecolor": "white",
            "showbackground": true,
            "ticks": "",
            "zerolinecolor": "white"
           },
           "zaxis": {
            "backgroundcolor": "#E5ECF6",
            "gridcolor": "white",
            "gridwidth": 2,
            "linecolor": "white",
            "showbackground": true,
            "ticks": "",
            "zerolinecolor": "white"
           }
          },
          "shapedefaults": {
           "line": {
            "color": "#2a3f5f"
           }
          },
          "ternary": {
           "aaxis": {
            "gridcolor": "white",
            "linecolor": "white",
            "ticks": ""
           },
           "baxis": {
            "gridcolor": "white",
            "linecolor": "white",
            "ticks": ""
           },
           "bgcolor": "#E5ECF6",
           "caxis": {
            "gridcolor": "white",
            "linecolor": "white",
            "ticks": ""
           }
          },
          "title": {
           "x": 0.05
          },
          "xaxis": {
           "automargin": true,
           "gridcolor": "white",
           "linecolor": "white",
           "ticks": "",
           "title": {
            "standoff": 15
           },
           "zerolinecolor": "white",
           "zerolinewidth": 2
          },
          "yaxis": {
           "automargin": true,
           "gridcolor": "white",
           "linecolor": "white",
           "ticks": "",
           "title": {
            "standoff": 15
           },
           "zerolinecolor": "white",
           "zerolinewidth": 2
          }
         }
        },
        "title": {
         "font": {
          "color": "#4D5663"
         },
         "text": "Number of category kinds in noteevents"
        },
        "xaxis": {
         "gridcolor": "#E1E5ED",
         "showgrid": true,
         "tickfont": {
          "color": "#4D5663"
         },
         "title": {
          "font": {
           "color": "#4D5663"
          },
          "text": ""
         },
         "zerolinecolor": "#E1E5ED"
        },
        "yaxis": {
         "gridcolor": "#E1E5ED",
         "showgrid": true,
         "tickfont": {
          "color": "#4D5663"
         },
         "title": {
          "font": {
           "color": "#4D5663"
          },
          "text": "Number of notes"
         },
         "zerolinecolor": "#E1E5ED"
        }
       }
      },
      "text/html": [
       "<div>\n",
       "        \n",
       "        \n",
       "            <div id=\"860eb5c1-d907-4a5b-a387-419645d26dac\" class=\"plotly-graph-div\" style=\"height:525px; width:100%;\"></div>\n",
       "            <script type=\"text/javascript\">\n",
       "                require([\"plotly\"], function(Plotly) {\n",
       "                    window.PLOTLYENV=window.PLOTLYENV || {};\n",
       "                    window.PLOTLYENV.BASE_URL='https://plot.ly';\n",
       "                    \n",
       "                if (document.getElementById(\"860eb5c1-d907-4a5b-a387-419645d26dac\")) {\n",
       "                    Plotly.newPlot(\n",
       "                        '860eb5c1-d907-4a5b-a387-419645d26dac',\n",
       "                        [{\"marker\": {\"color\": \"rgba(255, 153, 51, 0.6)\", \"line\": {\"color\": \"rgba(255, 153, 51, 1.0)\", \"width\": 1}}, \"name\": \"CATEGORY\", \"orientation\": \"v\", \"text\": \"\", \"type\": \"bar\", \"x\": [\"Nursing\", \"Nursing/other\", \"Radiology\", \"Physician \", \"ECG\", \"Respiratory \", \"Echo\", \"General\", \"Nutrition\", \"Rehab Services\", \"Social Work\", \"Case Management \", \"Pharmacy\", \"Consult\"], \"y\": [13256, 12693, 11723, 10643, 4469, 2454, 949, 680, 638, 231, 142, 135, 15, 1]}],\n",
       "                        {\"legend\": {\"bgcolor\": \"#F5F6F9\", \"font\": {\"color\": \"#4D5663\"}}, \"paper_bgcolor\": \"#F5F6F9\", \"plot_bgcolor\": \"#F5F6F9\", \"template\": {\"data\": {\"bar\": [{\"error_x\": {\"color\": \"#2a3f5f\"}, \"error_y\": {\"color\": \"#2a3f5f\"}, \"marker\": {\"line\": {\"color\": \"#E5ECF6\", \"width\": 0.5}}, \"type\": \"bar\"}], \"barpolar\": [{\"marker\": {\"line\": {\"color\": \"#E5ECF6\", \"width\": 0.5}}, \"type\": \"barpolar\"}], \"carpet\": [{\"aaxis\": {\"endlinecolor\": \"#2a3f5f\", \"gridcolor\": \"white\", \"linecolor\": \"white\", \"minorgridcolor\": \"white\", \"startlinecolor\": \"#2a3f5f\"}, \"baxis\": {\"endlinecolor\": \"#2a3f5f\", \"gridcolor\": \"white\", \"linecolor\": \"white\", \"minorgridcolor\": \"white\", \"startlinecolor\": \"#2a3f5f\"}, \"type\": \"carpet\"}], \"choropleth\": [{\"colorbar\": {\"outlinewidth\": 0, \"ticks\": \"\"}, \"type\": \"choropleth\"}], \"contour\": [{\"colorbar\": {\"outlinewidth\": 0, \"ticks\": \"\"}, \"colorscale\": [[0.0, \"#0d0887\"], [0.1111111111111111, \"#46039f\"], [0.2222222222222222, \"#7201a8\"], [0.3333333333333333, \"#9c179e\"], [0.4444444444444444, \"#bd3786\"], [0.5555555555555556, \"#d8576b\"], [0.6666666666666666, \"#ed7953\"], [0.7777777777777778, \"#fb9f3a\"], [0.8888888888888888, \"#fdca26\"], [1.0, \"#f0f921\"]], \"type\": \"contour\"}], \"contourcarpet\": [{\"colorbar\": {\"outlinewidth\": 0, \"ticks\": \"\"}, \"type\": \"contourcarpet\"}], \"heatmap\": [{\"colorbar\": {\"outlinewidth\": 0, \"ticks\": \"\"}, \"colorscale\": [[0.0, \"#0d0887\"], [0.1111111111111111, \"#46039f\"], [0.2222222222222222, \"#7201a8\"], [0.3333333333333333, \"#9c179e\"], [0.4444444444444444, \"#bd3786\"], [0.5555555555555556, \"#d8576b\"], [0.6666666666666666, \"#ed7953\"], [0.7777777777777778, \"#fb9f3a\"], [0.8888888888888888, \"#fdca26\"], [1.0, \"#f0f921\"]], \"type\": \"heatmap\"}], \"heatmapgl\": [{\"colorbar\": {\"outlinewidth\": 0, \"ticks\": \"\"}, \"colorscale\": [[0.0, \"#0d0887\"], [0.1111111111111111, \"#46039f\"], [0.2222222222222222, \"#7201a8\"], [0.3333333333333333, \"#9c179e\"], [0.4444444444444444, \"#bd3786\"], [0.5555555555555556, \"#d8576b\"], [0.6666666666666666, \"#ed7953\"], [0.7777777777777778, \"#fb9f3a\"], [0.8888888888888888, \"#fdca26\"], [1.0, \"#f0f921\"]], \"type\": \"heatmapgl\"}], \"histogram\": [{\"marker\": {\"colorbar\": {\"outlinewidth\": 0, \"ticks\": \"\"}}, \"type\": \"histogram\"}], \"histogram2d\": [{\"colorbar\": {\"outlinewidth\": 0, \"ticks\": \"\"}, \"colorscale\": [[0.0, \"#0d0887\"], [0.1111111111111111, \"#46039f\"], [0.2222222222222222, \"#7201a8\"], [0.3333333333333333, \"#9c179e\"], [0.4444444444444444, \"#bd3786\"], [0.5555555555555556, \"#d8576b\"], [0.6666666666666666, \"#ed7953\"], [0.7777777777777778, \"#fb9f3a\"], [0.8888888888888888, \"#fdca26\"], [1.0, \"#f0f921\"]], \"type\": \"histogram2d\"}], \"histogram2dcontour\": [{\"colorbar\": {\"outlinewidth\": 0, \"ticks\": \"\"}, \"colorscale\": [[0.0, \"#0d0887\"], [0.1111111111111111, \"#46039f\"], [0.2222222222222222, \"#7201a8\"], [0.3333333333333333, \"#9c179e\"], [0.4444444444444444, \"#bd3786\"], [0.5555555555555556, \"#d8576b\"], [0.6666666666666666, \"#ed7953\"], [0.7777777777777778, \"#fb9f3a\"], [0.8888888888888888, \"#fdca26\"], [1.0, \"#f0f921\"]], \"type\": \"histogram2dcontour\"}], \"mesh3d\": [{\"colorbar\": {\"outlinewidth\": 0, \"ticks\": \"\"}, \"type\": \"mesh3d\"}], \"parcoords\": [{\"line\": {\"colorbar\": {\"outlinewidth\": 0, \"ticks\": \"\"}}, \"type\": \"parcoords\"}], \"pie\": [{\"automargin\": true, \"type\": \"pie\"}], \"scatter\": [{\"marker\": {\"colorbar\": {\"outlinewidth\": 0, \"ticks\": \"\"}}, \"type\": \"scatter\"}], \"scatter3d\": [{\"line\": {\"colorbar\": {\"outlinewidth\": 0, \"ticks\": \"\"}}, \"marker\": {\"colorbar\": {\"outlinewidth\": 0, \"ticks\": \"\"}}, \"type\": \"scatter3d\"}], \"scattercarpet\": [{\"marker\": {\"colorbar\": {\"outlinewidth\": 0, \"ticks\": \"\"}}, \"type\": \"scattercarpet\"}], \"scattergeo\": [{\"marker\": {\"colorbar\": {\"outlinewidth\": 0, \"ticks\": \"\"}}, \"type\": \"scattergeo\"}], \"scattergl\": [{\"marker\": {\"colorbar\": {\"outlinewidth\": 0, \"ticks\": \"\"}}, \"type\": \"scattergl\"}], \"scattermapbox\": [{\"marker\": {\"colorbar\": {\"outlinewidth\": 0, \"ticks\": \"\"}}, \"type\": \"scattermapbox\"}], \"scatterpolar\": [{\"marker\": {\"colorbar\": {\"outlinewidth\": 0, \"ticks\": \"\"}}, \"type\": \"scatterpolar\"}], \"scatterpolargl\": [{\"marker\": {\"colorbar\": {\"outlinewidth\": 0, \"ticks\": \"\"}}, \"type\": \"scatterpolargl\"}], \"scatterternary\": [{\"marker\": {\"colorbar\": {\"outlinewidth\": 0, \"ticks\": \"\"}}, \"type\": \"scatterternary\"}], \"surface\": [{\"colorbar\": {\"outlinewidth\": 0, \"ticks\": \"\"}, \"colorscale\": [[0.0, \"#0d0887\"], [0.1111111111111111, \"#46039f\"], [0.2222222222222222, \"#7201a8\"], [0.3333333333333333, \"#9c179e\"], [0.4444444444444444, \"#bd3786\"], [0.5555555555555556, \"#d8576b\"], [0.6666666666666666, \"#ed7953\"], [0.7777777777777778, \"#fb9f3a\"], [0.8888888888888888, \"#fdca26\"], [1.0, \"#f0f921\"]], \"type\": \"surface\"}], \"table\": [{\"cells\": {\"fill\": {\"color\": \"#EBF0F8\"}, \"line\": {\"color\": \"white\"}}, \"header\": {\"fill\": {\"color\": \"#C8D4E3\"}, \"line\": {\"color\": \"white\"}}, \"type\": \"table\"}]}, \"layout\": {\"annotationdefaults\": {\"arrowcolor\": \"#2a3f5f\", \"arrowhead\": 0, \"arrowwidth\": 1}, \"coloraxis\": {\"colorbar\": {\"outlinewidth\": 0, \"ticks\": \"\"}}, \"colorscale\": {\"diverging\": [[0, \"#8e0152\"], [0.1, \"#c51b7d\"], [0.2, \"#de77ae\"], [0.3, \"#f1b6da\"], [0.4, \"#fde0ef\"], [0.5, \"#f7f7f7\"], [0.6, \"#e6f5d0\"], [0.7, \"#b8e186\"], [0.8, \"#7fbc41\"], [0.9, \"#4d9221\"], [1, \"#276419\"]], \"sequential\": [[0.0, \"#0d0887\"], [0.1111111111111111, \"#46039f\"], [0.2222222222222222, \"#7201a8\"], [0.3333333333333333, \"#9c179e\"], [0.4444444444444444, \"#bd3786\"], [0.5555555555555556, \"#d8576b\"], [0.6666666666666666, \"#ed7953\"], [0.7777777777777778, \"#fb9f3a\"], [0.8888888888888888, \"#fdca26\"], [1.0, \"#f0f921\"]], \"sequentialminus\": [[0.0, \"#0d0887\"], [0.1111111111111111, \"#46039f\"], [0.2222222222222222, \"#7201a8\"], [0.3333333333333333, \"#9c179e\"], [0.4444444444444444, \"#bd3786\"], [0.5555555555555556, \"#d8576b\"], [0.6666666666666666, \"#ed7953\"], [0.7777777777777778, \"#fb9f3a\"], [0.8888888888888888, \"#fdca26\"], [1.0, \"#f0f921\"]]}, \"colorway\": [\"#636efa\", \"#EF553B\", \"#00cc96\", \"#ab63fa\", \"#FFA15A\", \"#19d3f3\", \"#FF6692\", \"#B6E880\", \"#FF97FF\", \"#FECB52\"], \"font\": {\"color\": \"#2a3f5f\"}, \"geo\": {\"bgcolor\": \"white\", \"lakecolor\": \"white\", \"landcolor\": \"#E5ECF6\", \"showlakes\": true, \"showland\": true, \"subunitcolor\": \"white\"}, \"hoverlabel\": {\"align\": \"left\"}, \"hovermode\": \"closest\", \"mapbox\": {\"style\": \"light\"}, \"paper_bgcolor\": \"white\", \"plot_bgcolor\": \"#E5ECF6\", \"polar\": {\"angularaxis\": {\"gridcolor\": \"white\", \"linecolor\": \"white\", \"ticks\": \"\"}, \"bgcolor\": \"#E5ECF6\", \"radialaxis\": {\"gridcolor\": \"white\", \"linecolor\": \"white\", \"ticks\": \"\"}}, \"scene\": {\"xaxis\": {\"backgroundcolor\": \"#E5ECF6\", \"gridcolor\": \"white\", \"gridwidth\": 2, \"linecolor\": \"white\", \"showbackground\": true, \"ticks\": \"\", \"zerolinecolor\": \"white\"}, \"yaxis\": {\"backgroundcolor\": \"#E5ECF6\", \"gridcolor\": \"white\", \"gridwidth\": 2, \"linecolor\": \"white\", \"showbackground\": true, \"ticks\": \"\", \"zerolinecolor\": \"white\"}, \"zaxis\": {\"backgroundcolor\": \"#E5ECF6\", \"gridcolor\": \"white\", \"gridwidth\": 2, \"linecolor\": \"white\", \"showbackground\": true, \"ticks\": \"\", \"zerolinecolor\": \"white\"}}, \"shapedefaults\": {\"line\": {\"color\": \"#2a3f5f\"}}, \"ternary\": {\"aaxis\": {\"gridcolor\": \"white\", \"linecolor\": \"white\", \"ticks\": \"\"}, \"baxis\": {\"gridcolor\": \"white\", \"linecolor\": \"white\", \"ticks\": \"\"}, \"bgcolor\": \"#E5ECF6\", \"caxis\": {\"gridcolor\": \"white\", \"linecolor\": \"white\", \"ticks\": \"\"}}, \"title\": {\"x\": 0.05}, \"xaxis\": {\"automargin\": true, \"gridcolor\": \"white\", \"linecolor\": \"white\", \"ticks\": \"\", \"title\": {\"standoff\": 15}, \"zerolinecolor\": \"white\", \"zerolinewidth\": 2}, \"yaxis\": {\"automargin\": true, \"gridcolor\": \"white\", \"linecolor\": \"white\", \"ticks\": \"\", \"title\": {\"standoff\": 15}, \"zerolinecolor\": \"white\", \"zerolinewidth\": 2}}}, \"title\": {\"font\": {\"color\": \"#4D5663\"}, \"text\": \"Number of category kinds in noteevents\"}, \"xaxis\": {\"gridcolor\": \"#E1E5ED\", \"showgrid\": true, \"tickfont\": {\"color\": \"#4D5663\"}, \"title\": {\"font\": {\"color\": \"#4D5663\"}, \"text\": \"\"}, \"zerolinecolor\": \"#E1E5ED\"}, \"yaxis\": {\"gridcolor\": \"#E1E5ED\", \"showgrid\": true, \"tickfont\": {\"color\": \"#4D5663\"}, \"title\": {\"font\": {\"color\": \"#4D5663\"}, \"text\": \"Number of notes\"}, \"zerolinecolor\": \"#E1E5ED\"}},\n",
       "                        {\"showLink\": true, \"linkText\": \"Export to plot.ly\", \"plotlyServerURL\": \"https://plot.ly\", \"responsive\": true}\n",
       "                    ).then(function(){\n",
       "                            \n",
       "var gd = document.getElementById('860eb5c1-d907-4a5b-a387-419645d26dac');\n",
       "var x = new MutationObserver(function (mutations, observer) {{\n",
       "        var display = window.getComputedStyle(gd).display;\n",
       "        if (!display || display === 'none') {{\n",
       "            console.log([gd, 'removed!']);\n",
       "            Plotly.purge(gd);\n",
       "            observer.disconnect();\n",
       "        }}\n",
       "}});\n",
       "\n",
       "// Listen for the removal of the full notebook cells\n",
       "var notebookContainer = gd.closest('#notebook-container');\n",
       "if (notebookContainer) {{\n",
       "    x.observe(notebookContainer, {childList: true});\n",
       "}}\n",
       "\n",
       "// Listen for the clearing of the current output cell\n",
       "var outputEl = gd.closest('.output');\n",
       "if (outputEl) {{\n",
       "    x.observe(outputEl, {childList: true});\n",
       "}}\n",
       "\n",
       "                        })\n",
       "                };\n",
       "                });\n",
       "            </script>\n",
       "        </div>"
      ]
     },
     "metadata": {},
     "output_type": "display_data"
    }
   ],
   "source": [
    "pneumonia_no_disch_df['CATEGORY'].value_counts().sort_values(ascending=False).iplot(kind='bar', yTitle='Number of notes', \n",
    "                                                                title='Number of category kinds in noteevents')"
   ]
  },
  {
   "cell_type": "code",
   "execution_count": 17,
   "metadata": {},
   "outputs": [
    {
     "name": "stdout",
     "output_type": "stream",
     "text": [
      "<class 'pandas.core.frame.DataFrame'>\n",
      "Int64Index: 58029 entries, 59103 to 2066669\n",
      "Data columns (total 8 columns):\n",
      " #   Column        Non-Null Count  Dtype \n",
      "---  ------        --------------  ----- \n",
      " 0   ROW_ID_x      58029 non-null  int64 \n",
      " 1   SUBJECT_ID_x  58029 non-null  int64 \n",
      " 2   CHARTDATE     58029 non-null  object\n",
      " 3   STORETIME     40888 non-null  object\n",
      " 4   CATEGORY      58029 non-null  object\n",
      " 5   DESCRIPTION   58029 non-null  object\n",
      " 6   TEXT          58029 non-null  object\n",
      " 7   DEATHTIME     11895 non-null  object\n",
      "dtypes: int64(2), object(6)\n",
      "memory usage: 4.0+ MB\n"
     ]
    }
   ],
   "source": [
    "pneumonia_no_disch_df.info()"
   ]
  },
  {
   "cell_type": "code",
   "execution_count": 18,
   "metadata": {},
   "outputs": [
    {
     "data": {
      "text/plain": [
       "(58029, 8)"
      ]
     },
     "execution_count": 18,
     "metadata": {},
     "output_type": "execute_result"
    }
   ],
   "source": [
    "pneumonia_no_disch_df.shape"
   ]
  },
  {
   "cell_type": "code",
   "execution_count": 19,
   "metadata": {},
   "outputs": [],
   "source": [
    "pneumonia_alive_no_disch = pneumonia_no_disch_df[pneumonia_no_disch_df.DEATHTIME.isnull()]\n",
    "pneumonia_dead_no_disch = pneumonia_no_disch_df[pneumonia_no_disch_df.DEATHTIME.notnull()]"
   ]
  },
  {
   "cell_type": "code",
   "execution_count": 20,
   "metadata": {},
   "outputs": [
    {
     "data": {
      "text/plain": [
       "(11895, 8)"
      ]
     },
     "execution_count": 20,
     "metadata": {},
     "output_type": "execute_result"
    }
   ],
   "source": [
    "pneumonia_dead_no_disch.shape"
   ]
  },
  {
   "cell_type": "code",
   "execution_count": 21,
   "metadata": {},
   "outputs": [
    {
     "data": {
      "text/plain": [
       "(46134, 8)"
      ]
     },
     "execution_count": 21,
     "metadata": {},
     "output_type": "execute_result"
    }
   ],
   "source": [
    "pneumonia_alive_no_disch.shape"
   ]
  },
  {
   "cell_type": "code",
   "execution_count": 22,
   "metadata": {},
   "outputs": [],
   "source": [
    "pneumonia_alive_no_disch = pneumonia_alive_no_disch.sort_values(by=['SUBJECT_ID_x','CHARTDATE', 'ROW_ID_x'])\n",
    "pneumonia_dead_no_disch = pneumonia_dead_no_disch.sort_values(by=['SUBJECT_ID_x','CHARTDATE', 'ROW_ID_x'])"
   ]
  },
  {
   "cell_type": "code",
   "execution_count": 23,
   "metadata": {},
   "outputs": [
    {
     "data": {
      "application/vnd.plotly.v1+json": {
       "config": {
        "linkText": "Export to plot.ly",
        "plotlyServerURL": "https://plot.ly",
        "showLink": true
       },
       "data": [
        {
         "marker": {
          "color": "rgba(255, 153, 51, 0.6)",
          "line": {
           "color": "rgba(255, 153, 51, 1.0)",
           "width": 1
          }
         },
         "name": "CATEGORY",
         "orientation": "v",
         "text": "",
         "type": "bar",
         "x": [
          "Nursing",
          "Nursing/other",
          "Radiology",
          "Physician ",
          "ECG",
          "Respiratory ",
          "Echo",
          "Nutrition",
          "General",
          "Rehab Services",
          "Case Management ",
          "Social Work",
          "Pharmacy"
         ],
         "y": [
          10574,
          10043,
          9448,
          8431,
          3623,
          1831,
          782,
          489,
          486,
          207,
          106,
          100,
          14
         ]
        }
       ],
       "layout": {
        "legend": {
         "bgcolor": "#F5F6F9",
         "font": {
          "color": "#4D5663"
         }
        },
        "paper_bgcolor": "#F5F6F9",
        "plot_bgcolor": "#F5F6F9",
        "template": {
         "data": {
          "bar": [
           {
            "error_x": {
             "color": "#2a3f5f"
            },
            "error_y": {
             "color": "#2a3f5f"
            },
            "marker": {
             "line": {
              "color": "#E5ECF6",
              "width": 0.5
             }
            },
            "type": "bar"
           }
          ],
          "barpolar": [
           {
            "marker": {
             "line": {
              "color": "#E5ECF6",
              "width": 0.5
             }
            },
            "type": "barpolar"
           }
          ],
          "carpet": [
           {
            "aaxis": {
             "endlinecolor": "#2a3f5f",
             "gridcolor": "white",
             "linecolor": "white",
             "minorgridcolor": "white",
             "startlinecolor": "#2a3f5f"
            },
            "baxis": {
             "endlinecolor": "#2a3f5f",
             "gridcolor": "white",
             "linecolor": "white",
             "minorgridcolor": "white",
             "startlinecolor": "#2a3f5f"
            },
            "type": "carpet"
           }
          ],
          "choropleth": [
           {
            "colorbar": {
             "outlinewidth": 0,
             "ticks": ""
            },
            "type": "choropleth"
           }
          ],
          "contour": [
           {
            "colorbar": {
             "outlinewidth": 0,
             "ticks": ""
            },
            "colorscale": [
             [
              0,
              "#0d0887"
             ],
             [
              0.1111111111111111,
              "#46039f"
             ],
             [
              0.2222222222222222,
              "#7201a8"
             ],
             [
              0.3333333333333333,
              "#9c179e"
             ],
             [
              0.4444444444444444,
              "#bd3786"
             ],
             [
              0.5555555555555556,
              "#d8576b"
             ],
             [
              0.6666666666666666,
              "#ed7953"
             ],
             [
              0.7777777777777778,
              "#fb9f3a"
             ],
             [
              0.8888888888888888,
              "#fdca26"
             ],
             [
              1,
              "#f0f921"
             ]
            ],
            "type": "contour"
           }
          ],
          "contourcarpet": [
           {
            "colorbar": {
             "outlinewidth": 0,
             "ticks": ""
            },
            "type": "contourcarpet"
           }
          ],
          "heatmap": [
           {
            "colorbar": {
             "outlinewidth": 0,
             "ticks": ""
            },
            "colorscale": [
             [
              0,
              "#0d0887"
             ],
             [
              0.1111111111111111,
              "#46039f"
             ],
             [
              0.2222222222222222,
              "#7201a8"
             ],
             [
              0.3333333333333333,
              "#9c179e"
             ],
             [
              0.4444444444444444,
              "#bd3786"
             ],
             [
              0.5555555555555556,
              "#d8576b"
             ],
             [
              0.6666666666666666,
              "#ed7953"
             ],
             [
              0.7777777777777778,
              "#fb9f3a"
             ],
             [
              0.8888888888888888,
              "#fdca26"
             ],
             [
              1,
              "#f0f921"
             ]
            ],
            "type": "heatmap"
           }
          ],
          "heatmapgl": [
           {
            "colorbar": {
             "outlinewidth": 0,
             "ticks": ""
            },
            "colorscale": [
             [
              0,
              "#0d0887"
             ],
             [
              0.1111111111111111,
              "#46039f"
             ],
             [
              0.2222222222222222,
              "#7201a8"
             ],
             [
              0.3333333333333333,
              "#9c179e"
             ],
             [
              0.4444444444444444,
              "#bd3786"
             ],
             [
              0.5555555555555556,
              "#d8576b"
             ],
             [
              0.6666666666666666,
              "#ed7953"
             ],
             [
              0.7777777777777778,
              "#fb9f3a"
             ],
             [
              0.8888888888888888,
              "#fdca26"
             ],
             [
              1,
              "#f0f921"
             ]
            ],
            "type": "heatmapgl"
           }
          ],
          "histogram": [
           {
            "marker": {
             "colorbar": {
              "outlinewidth": 0,
              "ticks": ""
             }
            },
            "type": "histogram"
           }
          ],
          "histogram2d": [
           {
            "colorbar": {
             "outlinewidth": 0,
             "ticks": ""
            },
            "colorscale": [
             [
              0,
              "#0d0887"
             ],
             [
              0.1111111111111111,
              "#46039f"
             ],
             [
              0.2222222222222222,
              "#7201a8"
             ],
             [
              0.3333333333333333,
              "#9c179e"
             ],
             [
              0.4444444444444444,
              "#bd3786"
             ],
             [
              0.5555555555555556,
              "#d8576b"
             ],
             [
              0.6666666666666666,
              "#ed7953"
             ],
             [
              0.7777777777777778,
              "#fb9f3a"
             ],
             [
              0.8888888888888888,
              "#fdca26"
             ],
             [
              1,
              "#f0f921"
             ]
            ],
            "type": "histogram2d"
           }
          ],
          "histogram2dcontour": [
           {
            "colorbar": {
             "outlinewidth": 0,
             "ticks": ""
            },
            "colorscale": [
             [
              0,
              "#0d0887"
             ],
             [
              0.1111111111111111,
              "#46039f"
             ],
             [
              0.2222222222222222,
              "#7201a8"
             ],
             [
              0.3333333333333333,
              "#9c179e"
             ],
             [
              0.4444444444444444,
              "#bd3786"
             ],
             [
              0.5555555555555556,
              "#d8576b"
             ],
             [
              0.6666666666666666,
              "#ed7953"
             ],
             [
              0.7777777777777778,
              "#fb9f3a"
             ],
             [
              0.8888888888888888,
              "#fdca26"
             ],
             [
              1,
              "#f0f921"
             ]
            ],
            "type": "histogram2dcontour"
           }
          ],
          "mesh3d": [
           {
            "colorbar": {
             "outlinewidth": 0,
             "ticks": ""
            },
            "type": "mesh3d"
           }
          ],
          "parcoords": [
           {
            "line": {
             "colorbar": {
              "outlinewidth": 0,
              "ticks": ""
             }
            },
            "type": "parcoords"
           }
          ],
          "pie": [
           {
            "automargin": true,
            "type": "pie"
           }
          ],
          "scatter": [
           {
            "marker": {
             "colorbar": {
              "outlinewidth": 0,
              "ticks": ""
             }
            },
            "type": "scatter"
           }
          ],
          "scatter3d": [
           {
            "line": {
             "colorbar": {
              "outlinewidth": 0,
              "ticks": ""
             }
            },
            "marker": {
             "colorbar": {
              "outlinewidth": 0,
              "ticks": ""
             }
            },
            "type": "scatter3d"
           }
          ],
          "scattercarpet": [
           {
            "marker": {
             "colorbar": {
              "outlinewidth": 0,
              "ticks": ""
             }
            },
            "type": "scattercarpet"
           }
          ],
          "scattergeo": [
           {
            "marker": {
             "colorbar": {
              "outlinewidth": 0,
              "ticks": ""
             }
            },
            "type": "scattergeo"
           }
          ],
          "scattergl": [
           {
            "marker": {
             "colorbar": {
              "outlinewidth": 0,
              "ticks": ""
             }
            },
            "type": "scattergl"
           }
          ],
          "scattermapbox": [
           {
            "marker": {
             "colorbar": {
              "outlinewidth": 0,
              "ticks": ""
             }
            },
            "type": "scattermapbox"
           }
          ],
          "scatterpolar": [
           {
            "marker": {
             "colorbar": {
              "outlinewidth": 0,
              "ticks": ""
             }
            },
            "type": "scatterpolar"
           }
          ],
          "scatterpolargl": [
           {
            "marker": {
             "colorbar": {
              "outlinewidth": 0,
              "ticks": ""
             }
            },
            "type": "scatterpolargl"
           }
          ],
          "scatterternary": [
           {
            "marker": {
             "colorbar": {
              "outlinewidth": 0,
              "ticks": ""
             }
            },
            "type": "scatterternary"
           }
          ],
          "surface": [
           {
            "colorbar": {
             "outlinewidth": 0,
             "ticks": ""
            },
            "colorscale": [
             [
              0,
              "#0d0887"
             ],
             [
              0.1111111111111111,
              "#46039f"
             ],
             [
              0.2222222222222222,
              "#7201a8"
             ],
             [
              0.3333333333333333,
              "#9c179e"
             ],
             [
              0.4444444444444444,
              "#bd3786"
             ],
             [
              0.5555555555555556,
              "#d8576b"
             ],
             [
              0.6666666666666666,
              "#ed7953"
             ],
             [
              0.7777777777777778,
              "#fb9f3a"
             ],
             [
              0.8888888888888888,
              "#fdca26"
             ],
             [
              1,
              "#f0f921"
             ]
            ],
            "type": "surface"
           }
          ],
          "table": [
           {
            "cells": {
             "fill": {
              "color": "#EBF0F8"
             },
             "line": {
              "color": "white"
             }
            },
            "header": {
             "fill": {
              "color": "#C8D4E3"
             },
             "line": {
              "color": "white"
             }
            },
            "type": "table"
           }
          ]
         },
         "layout": {
          "annotationdefaults": {
           "arrowcolor": "#2a3f5f",
           "arrowhead": 0,
           "arrowwidth": 1
          },
          "coloraxis": {
           "colorbar": {
            "outlinewidth": 0,
            "ticks": ""
           }
          },
          "colorscale": {
           "diverging": [
            [
             0,
             "#8e0152"
            ],
            [
             0.1,
             "#c51b7d"
            ],
            [
             0.2,
             "#de77ae"
            ],
            [
             0.3,
             "#f1b6da"
            ],
            [
             0.4,
             "#fde0ef"
            ],
            [
             0.5,
             "#f7f7f7"
            ],
            [
             0.6,
             "#e6f5d0"
            ],
            [
             0.7,
             "#b8e186"
            ],
            [
             0.8,
             "#7fbc41"
            ],
            [
             0.9,
             "#4d9221"
            ],
            [
             1,
             "#276419"
            ]
           ],
           "sequential": [
            [
             0,
             "#0d0887"
            ],
            [
             0.1111111111111111,
             "#46039f"
            ],
            [
             0.2222222222222222,
             "#7201a8"
            ],
            [
             0.3333333333333333,
             "#9c179e"
            ],
            [
             0.4444444444444444,
             "#bd3786"
            ],
            [
             0.5555555555555556,
             "#d8576b"
            ],
            [
             0.6666666666666666,
             "#ed7953"
            ],
            [
             0.7777777777777778,
             "#fb9f3a"
            ],
            [
             0.8888888888888888,
             "#fdca26"
            ],
            [
             1,
             "#f0f921"
            ]
           ],
           "sequentialminus": [
            [
             0,
             "#0d0887"
            ],
            [
             0.1111111111111111,
             "#46039f"
            ],
            [
             0.2222222222222222,
             "#7201a8"
            ],
            [
             0.3333333333333333,
             "#9c179e"
            ],
            [
             0.4444444444444444,
             "#bd3786"
            ],
            [
             0.5555555555555556,
             "#d8576b"
            ],
            [
             0.6666666666666666,
             "#ed7953"
            ],
            [
             0.7777777777777778,
             "#fb9f3a"
            ],
            [
             0.8888888888888888,
             "#fdca26"
            ],
            [
             1,
             "#f0f921"
            ]
           ]
          },
          "colorway": [
           "#636efa",
           "#EF553B",
           "#00cc96",
           "#ab63fa",
           "#FFA15A",
           "#19d3f3",
           "#FF6692",
           "#B6E880",
           "#FF97FF",
           "#FECB52"
          ],
          "font": {
           "color": "#2a3f5f"
          },
          "geo": {
           "bgcolor": "white",
           "lakecolor": "white",
           "landcolor": "#E5ECF6",
           "showlakes": true,
           "showland": true,
           "subunitcolor": "white"
          },
          "hoverlabel": {
           "align": "left"
          },
          "hovermode": "closest",
          "mapbox": {
           "style": "light"
          },
          "paper_bgcolor": "white",
          "plot_bgcolor": "#E5ECF6",
          "polar": {
           "angularaxis": {
            "gridcolor": "white",
            "linecolor": "white",
            "ticks": ""
           },
           "bgcolor": "#E5ECF6",
           "radialaxis": {
            "gridcolor": "white",
            "linecolor": "white",
            "ticks": ""
           }
          },
          "scene": {
           "xaxis": {
            "backgroundcolor": "#E5ECF6",
            "gridcolor": "white",
            "gridwidth": 2,
            "linecolor": "white",
            "showbackground": true,
            "ticks": "",
            "zerolinecolor": "white"
           },
           "yaxis": {
            "backgroundcolor": "#E5ECF6",
            "gridcolor": "white",
            "gridwidth": 2,
            "linecolor": "white",
            "showbackground": true,
            "ticks": "",
            "zerolinecolor": "white"
           },
           "zaxis": {
            "backgroundcolor": "#E5ECF6",
            "gridcolor": "white",
            "gridwidth": 2,
            "linecolor": "white",
            "showbackground": true,
            "ticks": "",
            "zerolinecolor": "white"
           }
          },
          "shapedefaults": {
           "line": {
            "color": "#2a3f5f"
           }
          },
          "ternary": {
           "aaxis": {
            "gridcolor": "white",
            "linecolor": "white",
            "ticks": ""
           },
           "baxis": {
            "gridcolor": "white",
            "linecolor": "white",
            "ticks": ""
           },
           "bgcolor": "#E5ECF6",
           "caxis": {
            "gridcolor": "white",
            "linecolor": "white",
            "ticks": ""
           }
          },
          "title": {
           "x": 0.05
          },
          "xaxis": {
           "automargin": true,
           "gridcolor": "white",
           "linecolor": "white",
           "ticks": "",
           "title": {
            "standoff": 15
           },
           "zerolinecolor": "white",
           "zerolinewidth": 2
          },
          "yaxis": {
           "automargin": true,
           "gridcolor": "white",
           "linecolor": "white",
           "ticks": "",
           "title": {
            "standoff": 15
           },
           "zerolinecolor": "white",
           "zerolinewidth": 2
          }
         }
        },
        "title": {
         "font": {
          "color": "#4D5663"
         },
         "text": "Number of category kinds in pneumonia alive"
        },
        "xaxis": {
         "gridcolor": "#E1E5ED",
         "showgrid": true,
         "tickfont": {
          "color": "#4D5663"
         },
         "title": {
          "font": {
           "color": "#4D5663"
          },
          "text": ""
         },
         "zerolinecolor": "#E1E5ED"
        },
        "yaxis": {
         "gridcolor": "#E1E5ED",
         "showgrid": true,
         "tickfont": {
          "color": "#4D5663"
         },
         "title": {
          "font": {
           "color": "#4D5663"
          },
          "text": "Number of notes"
         },
         "zerolinecolor": "#E1E5ED"
        }
       }
      },
      "text/html": [
       "<div>\n",
       "        \n",
       "        \n",
       "            <div id=\"82bed84b-e5b1-4c9f-a19f-e6eb0fa60ab6\" class=\"plotly-graph-div\" style=\"height:525px; width:100%;\"></div>\n",
       "            <script type=\"text/javascript\">\n",
       "                require([\"plotly\"], function(Plotly) {\n",
       "                    window.PLOTLYENV=window.PLOTLYENV || {};\n",
       "                    window.PLOTLYENV.BASE_URL='https://plot.ly';\n",
       "                    \n",
       "                if (document.getElementById(\"82bed84b-e5b1-4c9f-a19f-e6eb0fa60ab6\")) {\n",
       "                    Plotly.newPlot(\n",
       "                        '82bed84b-e5b1-4c9f-a19f-e6eb0fa60ab6',\n",
       "                        [{\"marker\": {\"color\": \"rgba(255, 153, 51, 0.6)\", \"line\": {\"color\": \"rgba(255, 153, 51, 1.0)\", \"width\": 1}}, \"name\": \"CATEGORY\", \"orientation\": \"v\", \"text\": \"\", \"type\": \"bar\", \"x\": [\"Nursing\", \"Nursing/other\", \"Radiology\", \"Physician \", \"ECG\", \"Respiratory \", \"Echo\", \"Nutrition\", \"General\", \"Rehab Services\", \"Case Management \", \"Social Work\", \"Pharmacy\"], \"y\": [10574, 10043, 9448, 8431, 3623, 1831, 782, 489, 486, 207, 106, 100, 14]}],\n",
       "                        {\"legend\": {\"bgcolor\": \"#F5F6F9\", \"font\": {\"color\": \"#4D5663\"}}, \"paper_bgcolor\": \"#F5F6F9\", \"plot_bgcolor\": \"#F5F6F9\", \"template\": {\"data\": {\"bar\": [{\"error_x\": {\"color\": \"#2a3f5f\"}, \"error_y\": {\"color\": \"#2a3f5f\"}, \"marker\": {\"line\": {\"color\": \"#E5ECF6\", \"width\": 0.5}}, \"type\": \"bar\"}], \"barpolar\": [{\"marker\": {\"line\": {\"color\": \"#E5ECF6\", \"width\": 0.5}}, \"type\": \"barpolar\"}], \"carpet\": [{\"aaxis\": {\"endlinecolor\": \"#2a3f5f\", \"gridcolor\": \"white\", \"linecolor\": \"white\", \"minorgridcolor\": \"white\", \"startlinecolor\": \"#2a3f5f\"}, \"baxis\": {\"endlinecolor\": \"#2a3f5f\", \"gridcolor\": \"white\", \"linecolor\": \"white\", \"minorgridcolor\": \"white\", \"startlinecolor\": \"#2a3f5f\"}, \"type\": \"carpet\"}], \"choropleth\": [{\"colorbar\": {\"outlinewidth\": 0, \"ticks\": \"\"}, \"type\": \"choropleth\"}], \"contour\": [{\"colorbar\": {\"outlinewidth\": 0, \"ticks\": \"\"}, \"colorscale\": [[0.0, \"#0d0887\"], [0.1111111111111111, \"#46039f\"], [0.2222222222222222, \"#7201a8\"], [0.3333333333333333, \"#9c179e\"], [0.4444444444444444, \"#bd3786\"], [0.5555555555555556, \"#d8576b\"], [0.6666666666666666, \"#ed7953\"], [0.7777777777777778, \"#fb9f3a\"], [0.8888888888888888, \"#fdca26\"], [1.0, \"#f0f921\"]], \"type\": \"contour\"}], \"contourcarpet\": [{\"colorbar\": {\"outlinewidth\": 0, \"ticks\": \"\"}, \"type\": \"contourcarpet\"}], \"heatmap\": [{\"colorbar\": {\"outlinewidth\": 0, \"ticks\": \"\"}, \"colorscale\": [[0.0, \"#0d0887\"], [0.1111111111111111, \"#46039f\"], [0.2222222222222222, \"#7201a8\"], [0.3333333333333333, \"#9c179e\"], [0.4444444444444444, \"#bd3786\"], [0.5555555555555556, \"#d8576b\"], [0.6666666666666666, \"#ed7953\"], [0.7777777777777778, \"#fb9f3a\"], [0.8888888888888888, \"#fdca26\"], [1.0, \"#f0f921\"]], \"type\": \"heatmap\"}], \"heatmapgl\": [{\"colorbar\": {\"outlinewidth\": 0, \"ticks\": \"\"}, \"colorscale\": [[0.0, \"#0d0887\"], [0.1111111111111111, \"#46039f\"], [0.2222222222222222, \"#7201a8\"], [0.3333333333333333, \"#9c179e\"], [0.4444444444444444, \"#bd3786\"], [0.5555555555555556, \"#d8576b\"], [0.6666666666666666, \"#ed7953\"], [0.7777777777777778, \"#fb9f3a\"], [0.8888888888888888, \"#fdca26\"], [1.0, \"#f0f921\"]], \"type\": \"heatmapgl\"}], \"histogram\": [{\"marker\": {\"colorbar\": {\"outlinewidth\": 0, \"ticks\": \"\"}}, \"type\": \"histogram\"}], \"histogram2d\": [{\"colorbar\": {\"outlinewidth\": 0, \"ticks\": \"\"}, \"colorscale\": [[0.0, \"#0d0887\"], [0.1111111111111111, \"#46039f\"], [0.2222222222222222, \"#7201a8\"], [0.3333333333333333, \"#9c179e\"], [0.4444444444444444, \"#bd3786\"], [0.5555555555555556, \"#d8576b\"], [0.6666666666666666, \"#ed7953\"], [0.7777777777777778, \"#fb9f3a\"], [0.8888888888888888, \"#fdca26\"], [1.0, \"#f0f921\"]], \"type\": \"histogram2d\"}], \"histogram2dcontour\": [{\"colorbar\": {\"outlinewidth\": 0, \"ticks\": \"\"}, \"colorscale\": [[0.0, \"#0d0887\"], [0.1111111111111111, \"#46039f\"], [0.2222222222222222, \"#7201a8\"], [0.3333333333333333, \"#9c179e\"], [0.4444444444444444, \"#bd3786\"], [0.5555555555555556, \"#d8576b\"], [0.6666666666666666, \"#ed7953\"], [0.7777777777777778, \"#fb9f3a\"], [0.8888888888888888, \"#fdca26\"], [1.0, \"#f0f921\"]], \"type\": \"histogram2dcontour\"}], \"mesh3d\": [{\"colorbar\": {\"outlinewidth\": 0, \"ticks\": \"\"}, \"type\": \"mesh3d\"}], \"parcoords\": [{\"line\": {\"colorbar\": {\"outlinewidth\": 0, \"ticks\": \"\"}}, \"type\": \"parcoords\"}], \"pie\": [{\"automargin\": true, \"type\": \"pie\"}], \"scatter\": [{\"marker\": {\"colorbar\": {\"outlinewidth\": 0, \"ticks\": \"\"}}, \"type\": \"scatter\"}], \"scatter3d\": [{\"line\": {\"colorbar\": {\"outlinewidth\": 0, \"ticks\": \"\"}}, \"marker\": {\"colorbar\": {\"outlinewidth\": 0, \"ticks\": \"\"}}, \"type\": \"scatter3d\"}], \"scattercarpet\": [{\"marker\": {\"colorbar\": {\"outlinewidth\": 0, \"ticks\": \"\"}}, \"type\": \"scattercarpet\"}], \"scattergeo\": [{\"marker\": {\"colorbar\": {\"outlinewidth\": 0, \"ticks\": \"\"}}, \"type\": \"scattergeo\"}], \"scattergl\": [{\"marker\": {\"colorbar\": {\"outlinewidth\": 0, \"ticks\": \"\"}}, \"type\": \"scattergl\"}], \"scattermapbox\": [{\"marker\": {\"colorbar\": {\"outlinewidth\": 0, \"ticks\": \"\"}}, \"type\": \"scattermapbox\"}], \"scatterpolar\": [{\"marker\": {\"colorbar\": {\"outlinewidth\": 0, \"ticks\": \"\"}}, \"type\": \"scatterpolar\"}], \"scatterpolargl\": [{\"marker\": {\"colorbar\": {\"outlinewidth\": 0, \"ticks\": \"\"}}, \"type\": \"scatterpolargl\"}], \"scatterternary\": [{\"marker\": {\"colorbar\": {\"outlinewidth\": 0, \"ticks\": \"\"}}, \"type\": \"scatterternary\"}], \"surface\": [{\"colorbar\": {\"outlinewidth\": 0, \"ticks\": \"\"}, \"colorscale\": [[0.0, \"#0d0887\"], [0.1111111111111111, \"#46039f\"], [0.2222222222222222, \"#7201a8\"], [0.3333333333333333, \"#9c179e\"], [0.4444444444444444, \"#bd3786\"], [0.5555555555555556, \"#d8576b\"], [0.6666666666666666, \"#ed7953\"], [0.7777777777777778, \"#fb9f3a\"], [0.8888888888888888, \"#fdca26\"], [1.0, \"#f0f921\"]], \"type\": \"surface\"}], \"table\": [{\"cells\": {\"fill\": {\"color\": \"#EBF0F8\"}, \"line\": {\"color\": \"white\"}}, \"header\": {\"fill\": {\"color\": \"#C8D4E3\"}, \"line\": {\"color\": \"white\"}}, \"type\": \"table\"}]}, \"layout\": {\"annotationdefaults\": {\"arrowcolor\": \"#2a3f5f\", \"arrowhead\": 0, \"arrowwidth\": 1}, \"coloraxis\": {\"colorbar\": {\"outlinewidth\": 0, \"ticks\": \"\"}}, \"colorscale\": {\"diverging\": [[0, \"#8e0152\"], [0.1, \"#c51b7d\"], [0.2, \"#de77ae\"], [0.3, \"#f1b6da\"], [0.4, \"#fde0ef\"], [0.5, \"#f7f7f7\"], [0.6, \"#e6f5d0\"], [0.7, \"#b8e186\"], [0.8, \"#7fbc41\"], [0.9, \"#4d9221\"], [1, \"#276419\"]], \"sequential\": [[0.0, \"#0d0887\"], [0.1111111111111111, \"#46039f\"], [0.2222222222222222, \"#7201a8\"], [0.3333333333333333, \"#9c179e\"], [0.4444444444444444, \"#bd3786\"], [0.5555555555555556, \"#d8576b\"], [0.6666666666666666, \"#ed7953\"], [0.7777777777777778, \"#fb9f3a\"], [0.8888888888888888, \"#fdca26\"], [1.0, \"#f0f921\"]], \"sequentialminus\": [[0.0, \"#0d0887\"], [0.1111111111111111, \"#46039f\"], [0.2222222222222222, \"#7201a8\"], [0.3333333333333333, \"#9c179e\"], [0.4444444444444444, \"#bd3786\"], [0.5555555555555556, \"#d8576b\"], [0.6666666666666666, \"#ed7953\"], [0.7777777777777778, \"#fb9f3a\"], [0.8888888888888888, \"#fdca26\"], [1.0, \"#f0f921\"]]}, \"colorway\": [\"#636efa\", \"#EF553B\", \"#00cc96\", \"#ab63fa\", \"#FFA15A\", \"#19d3f3\", \"#FF6692\", \"#B6E880\", \"#FF97FF\", \"#FECB52\"], \"font\": {\"color\": \"#2a3f5f\"}, \"geo\": {\"bgcolor\": \"white\", \"lakecolor\": \"white\", \"landcolor\": \"#E5ECF6\", \"showlakes\": true, \"showland\": true, \"subunitcolor\": \"white\"}, \"hoverlabel\": {\"align\": \"left\"}, \"hovermode\": \"closest\", \"mapbox\": {\"style\": \"light\"}, \"paper_bgcolor\": \"white\", \"plot_bgcolor\": \"#E5ECF6\", \"polar\": {\"angularaxis\": {\"gridcolor\": \"white\", \"linecolor\": \"white\", \"ticks\": \"\"}, \"bgcolor\": \"#E5ECF6\", \"radialaxis\": {\"gridcolor\": \"white\", \"linecolor\": \"white\", \"ticks\": \"\"}}, \"scene\": {\"xaxis\": {\"backgroundcolor\": \"#E5ECF6\", \"gridcolor\": \"white\", \"gridwidth\": 2, \"linecolor\": \"white\", \"showbackground\": true, \"ticks\": \"\", \"zerolinecolor\": \"white\"}, \"yaxis\": {\"backgroundcolor\": \"#E5ECF6\", \"gridcolor\": \"white\", \"gridwidth\": 2, \"linecolor\": \"white\", \"showbackground\": true, \"ticks\": \"\", \"zerolinecolor\": \"white\"}, \"zaxis\": {\"backgroundcolor\": \"#E5ECF6\", \"gridcolor\": \"white\", \"gridwidth\": 2, \"linecolor\": \"white\", \"showbackground\": true, \"ticks\": \"\", \"zerolinecolor\": \"white\"}}, \"shapedefaults\": {\"line\": {\"color\": \"#2a3f5f\"}}, \"ternary\": {\"aaxis\": {\"gridcolor\": \"white\", \"linecolor\": \"white\", \"ticks\": \"\"}, \"baxis\": {\"gridcolor\": \"white\", \"linecolor\": \"white\", \"ticks\": \"\"}, \"bgcolor\": \"#E5ECF6\", \"caxis\": {\"gridcolor\": \"white\", \"linecolor\": \"white\", \"ticks\": \"\"}}, \"title\": {\"x\": 0.05}, \"xaxis\": {\"automargin\": true, \"gridcolor\": \"white\", \"linecolor\": \"white\", \"ticks\": \"\", \"title\": {\"standoff\": 15}, \"zerolinecolor\": \"white\", \"zerolinewidth\": 2}, \"yaxis\": {\"automargin\": true, \"gridcolor\": \"white\", \"linecolor\": \"white\", \"ticks\": \"\", \"title\": {\"standoff\": 15}, \"zerolinecolor\": \"white\", \"zerolinewidth\": 2}}}, \"title\": {\"font\": {\"color\": \"#4D5663\"}, \"text\": \"Number of category kinds in pneumonia alive\"}, \"xaxis\": {\"gridcolor\": \"#E1E5ED\", \"showgrid\": true, \"tickfont\": {\"color\": \"#4D5663\"}, \"title\": {\"font\": {\"color\": \"#4D5663\"}, \"text\": \"\"}, \"zerolinecolor\": \"#E1E5ED\"}, \"yaxis\": {\"gridcolor\": \"#E1E5ED\", \"showgrid\": true, \"tickfont\": {\"color\": \"#4D5663\"}, \"title\": {\"font\": {\"color\": \"#4D5663\"}, \"text\": \"Number of notes\"}, \"zerolinecolor\": \"#E1E5ED\"}},\n",
       "                        {\"showLink\": true, \"linkText\": \"Export to plot.ly\", \"plotlyServerURL\": \"https://plot.ly\", \"responsive\": true}\n",
       "                    ).then(function(){\n",
       "                            \n",
       "var gd = document.getElementById('82bed84b-e5b1-4c9f-a19f-e6eb0fa60ab6');\n",
       "var x = new MutationObserver(function (mutations, observer) {{\n",
       "        var display = window.getComputedStyle(gd).display;\n",
       "        if (!display || display === 'none') {{\n",
       "            console.log([gd, 'removed!']);\n",
       "            Plotly.purge(gd);\n",
       "            observer.disconnect();\n",
       "        }}\n",
       "}});\n",
       "\n",
       "// Listen for the removal of the full notebook cells\n",
       "var notebookContainer = gd.closest('#notebook-container');\n",
       "if (notebookContainer) {{\n",
       "    x.observe(notebookContainer, {childList: true});\n",
       "}}\n",
       "\n",
       "// Listen for the clearing of the current output cell\n",
       "var outputEl = gd.closest('.output');\n",
       "if (outputEl) {{\n",
       "    x.observe(outputEl, {childList: true});\n",
       "}}\n",
       "\n",
       "                        })\n",
       "                };\n",
       "                });\n",
       "            </script>\n",
       "        </div>"
      ]
     },
     "metadata": {},
     "output_type": "display_data"
    }
   ],
   "source": [
    "pneumonia_alive_no_disch['CATEGORY'].value_counts().sort_values(ascending=False).iplot(kind='bar', yTitle='Number of notes', \n",
    "                                                                title='Number of category kinds in pneumonia alive')"
   ]
  },
  {
   "cell_type": "code",
   "execution_count": 24,
   "metadata": {
    "scrolled": false
   },
   "outputs": [
    {
     "data": {
      "application/vnd.plotly.v1+json": {
       "config": {
        "linkText": "Export to plot.ly",
        "plotlyServerURL": "https://plot.ly",
        "showLink": true
       },
       "data": [
        {
         "marker": {
          "color": "rgba(255, 153, 51, 0.6)",
          "line": {
           "color": "rgba(255, 153, 51, 1.0)",
           "width": 1
          }
         },
         "name": "CATEGORY",
         "orientation": "v",
         "text": "",
         "type": "bar",
         "x": [
          "Nursing",
          "Nursing/other",
          "Radiology",
          "Physician ",
          "ECG",
          "Respiratory ",
          "General",
          "Echo",
          "Nutrition",
          "Social Work",
          "Case Management ",
          "Rehab Services",
          "Pharmacy",
          "Consult"
         ],
         "y": [
          2682,
          2650,
          2275,
          2212,
          846,
          623,
          194,
          167,
          149,
          42,
          29,
          24,
          1,
          1
         ]
        }
       ],
       "layout": {
        "legend": {
         "bgcolor": "#F5F6F9",
         "font": {
          "color": "#4D5663"
         }
        },
        "paper_bgcolor": "#F5F6F9",
        "plot_bgcolor": "#F5F6F9",
        "template": {
         "data": {
          "bar": [
           {
            "error_x": {
             "color": "#2a3f5f"
            },
            "error_y": {
             "color": "#2a3f5f"
            },
            "marker": {
             "line": {
              "color": "#E5ECF6",
              "width": 0.5
             }
            },
            "type": "bar"
           }
          ],
          "barpolar": [
           {
            "marker": {
             "line": {
              "color": "#E5ECF6",
              "width": 0.5
             }
            },
            "type": "barpolar"
           }
          ],
          "carpet": [
           {
            "aaxis": {
             "endlinecolor": "#2a3f5f",
             "gridcolor": "white",
             "linecolor": "white",
             "minorgridcolor": "white",
             "startlinecolor": "#2a3f5f"
            },
            "baxis": {
             "endlinecolor": "#2a3f5f",
             "gridcolor": "white",
             "linecolor": "white",
             "minorgridcolor": "white",
             "startlinecolor": "#2a3f5f"
            },
            "type": "carpet"
           }
          ],
          "choropleth": [
           {
            "colorbar": {
             "outlinewidth": 0,
             "ticks": ""
            },
            "type": "choropleth"
           }
          ],
          "contour": [
           {
            "colorbar": {
             "outlinewidth": 0,
             "ticks": ""
            },
            "colorscale": [
             [
              0,
              "#0d0887"
             ],
             [
              0.1111111111111111,
              "#46039f"
             ],
             [
              0.2222222222222222,
              "#7201a8"
             ],
             [
              0.3333333333333333,
              "#9c179e"
             ],
             [
              0.4444444444444444,
              "#bd3786"
             ],
             [
              0.5555555555555556,
              "#d8576b"
             ],
             [
              0.6666666666666666,
              "#ed7953"
             ],
             [
              0.7777777777777778,
              "#fb9f3a"
             ],
             [
              0.8888888888888888,
              "#fdca26"
             ],
             [
              1,
              "#f0f921"
             ]
            ],
            "type": "contour"
           }
          ],
          "contourcarpet": [
           {
            "colorbar": {
             "outlinewidth": 0,
             "ticks": ""
            },
            "type": "contourcarpet"
           }
          ],
          "heatmap": [
           {
            "colorbar": {
             "outlinewidth": 0,
             "ticks": ""
            },
            "colorscale": [
             [
              0,
              "#0d0887"
             ],
             [
              0.1111111111111111,
              "#46039f"
             ],
             [
              0.2222222222222222,
              "#7201a8"
             ],
             [
              0.3333333333333333,
              "#9c179e"
             ],
             [
              0.4444444444444444,
              "#bd3786"
             ],
             [
              0.5555555555555556,
              "#d8576b"
             ],
             [
              0.6666666666666666,
              "#ed7953"
             ],
             [
              0.7777777777777778,
              "#fb9f3a"
             ],
             [
              0.8888888888888888,
              "#fdca26"
             ],
             [
              1,
              "#f0f921"
             ]
            ],
            "type": "heatmap"
           }
          ],
          "heatmapgl": [
           {
            "colorbar": {
             "outlinewidth": 0,
             "ticks": ""
            },
            "colorscale": [
             [
              0,
              "#0d0887"
             ],
             [
              0.1111111111111111,
              "#46039f"
             ],
             [
              0.2222222222222222,
              "#7201a8"
             ],
             [
              0.3333333333333333,
              "#9c179e"
             ],
             [
              0.4444444444444444,
              "#bd3786"
             ],
             [
              0.5555555555555556,
              "#d8576b"
             ],
             [
              0.6666666666666666,
              "#ed7953"
             ],
             [
              0.7777777777777778,
              "#fb9f3a"
             ],
             [
              0.8888888888888888,
              "#fdca26"
             ],
             [
              1,
              "#f0f921"
             ]
            ],
            "type": "heatmapgl"
           }
          ],
          "histogram": [
           {
            "marker": {
             "colorbar": {
              "outlinewidth": 0,
              "ticks": ""
             }
            },
            "type": "histogram"
           }
          ],
          "histogram2d": [
           {
            "colorbar": {
             "outlinewidth": 0,
             "ticks": ""
            },
            "colorscale": [
             [
              0,
              "#0d0887"
             ],
             [
              0.1111111111111111,
              "#46039f"
             ],
             [
              0.2222222222222222,
              "#7201a8"
             ],
             [
              0.3333333333333333,
              "#9c179e"
             ],
             [
              0.4444444444444444,
              "#bd3786"
             ],
             [
              0.5555555555555556,
              "#d8576b"
             ],
             [
              0.6666666666666666,
              "#ed7953"
             ],
             [
              0.7777777777777778,
              "#fb9f3a"
             ],
             [
              0.8888888888888888,
              "#fdca26"
             ],
             [
              1,
              "#f0f921"
             ]
            ],
            "type": "histogram2d"
           }
          ],
          "histogram2dcontour": [
           {
            "colorbar": {
             "outlinewidth": 0,
             "ticks": ""
            },
            "colorscale": [
             [
              0,
              "#0d0887"
             ],
             [
              0.1111111111111111,
              "#46039f"
             ],
             [
              0.2222222222222222,
              "#7201a8"
             ],
             [
              0.3333333333333333,
              "#9c179e"
             ],
             [
              0.4444444444444444,
              "#bd3786"
             ],
             [
              0.5555555555555556,
              "#d8576b"
             ],
             [
              0.6666666666666666,
              "#ed7953"
             ],
             [
              0.7777777777777778,
              "#fb9f3a"
             ],
             [
              0.8888888888888888,
              "#fdca26"
             ],
             [
              1,
              "#f0f921"
             ]
            ],
            "type": "histogram2dcontour"
           }
          ],
          "mesh3d": [
           {
            "colorbar": {
             "outlinewidth": 0,
             "ticks": ""
            },
            "type": "mesh3d"
           }
          ],
          "parcoords": [
           {
            "line": {
             "colorbar": {
              "outlinewidth": 0,
              "ticks": ""
             }
            },
            "type": "parcoords"
           }
          ],
          "pie": [
           {
            "automargin": true,
            "type": "pie"
           }
          ],
          "scatter": [
           {
            "marker": {
             "colorbar": {
              "outlinewidth": 0,
              "ticks": ""
             }
            },
            "type": "scatter"
           }
          ],
          "scatter3d": [
           {
            "line": {
             "colorbar": {
              "outlinewidth": 0,
              "ticks": ""
             }
            },
            "marker": {
             "colorbar": {
              "outlinewidth": 0,
              "ticks": ""
             }
            },
            "type": "scatter3d"
           }
          ],
          "scattercarpet": [
           {
            "marker": {
             "colorbar": {
              "outlinewidth": 0,
              "ticks": ""
             }
            },
            "type": "scattercarpet"
           }
          ],
          "scattergeo": [
           {
            "marker": {
             "colorbar": {
              "outlinewidth": 0,
              "ticks": ""
             }
            },
            "type": "scattergeo"
           }
          ],
          "scattergl": [
           {
            "marker": {
             "colorbar": {
              "outlinewidth": 0,
              "ticks": ""
             }
            },
            "type": "scattergl"
           }
          ],
          "scattermapbox": [
           {
            "marker": {
             "colorbar": {
              "outlinewidth": 0,
              "ticks": ""
             }
            },
            "type": "scattermapbox"
           }
          ],
          "scatterpolar": [
           {
            "marker": {
             "colorbar": {
              "outlinewidth": 0,
              "ticks": ""
             }
            },
            "type": "scatterpolar"
           }
          ],
          "scatterpolargl": [
           {
            "marker": {
             "colorbar": {
              "outlinewidth": 0,
              "ticks": ""
             }
            },
            "type": "scatterpolargl"
           }
          ],
          "scatterternary": [
           {
            "marker": {
             "colorbar": {
              "outlinewidth": 0,
              "ticks": ""
             }
            },
            "type": "scatterternary"
           }
          ],
          "surface": [
           {
            "colorbar": {
             "outlinewidth": 0,
             "ticks": ""
            },
            "colorscale": [
             [
              0,
              "#0d0887"
             ],
             [
              0.1111111111111111,
              "#46039f"
             ],
             [
              0.2222222222222222,
              "#7201a8"
             ],
             [
              0.3333333333333333,
              "#9c179e"
             ],
             [
              0.4444444444444444,
              "#bd3786"
             ],
             [
              0.5555555555555556,
              "#d8576b"
             ],
             [
              0.6666666666666666,
              "#ed7953"
             ],
             [
              0.7777777777777778,
              "#fb9f3a"
             ],
             [
              0.8888888888888888,
              "#fdca26"
             ],
             [
              1,
              "#f0f921"
             ]
            ],
            "type": "surface"
           }
          ],
          "table": [
           {
            "cells": {
             "fill": {
              "color": "#EBF0F8"
             },
             "line": {
              "color": "white"
             }
            },
            "header": {
             "fill": {
              "color": "#C8D4E3"
             },
             "line": {
              "color": "white"
             }
            },
            "type": "table"
           }
          ]
         },
         "layout": {
          "annotationdefaults": {
           "arrowcolor": "#2a3f5f",
           "arrowhead": 0,
           "arrowwidth": 1
          },
          "coloraxis": {
           "colorbar": {
            "outlinewidth": 0,
            "ticks": ""
           }
          },
          "colorscale": {
           "diverging": [
            [
             0,
             "#8e0152"
            ],
            [
             0.1,
             "#c51b7d"
            ],
            [
             0.2,
             "#de77ae"
            ],
            [
             0.3,
             "#f1b6da"
            ],
            [
             0.4,
             "#fde0ef"
            ],
            [
             0.5,
             "#f7f7f7"
            ],
            [
             0.6,
             "#e6f5d0"
            ],
            [
             0.7,
             "#b8e186"
            ],
            [
             0.8,
             "#7fbc41"
            ],
            [
             0.9,
             "#4d9221"
            ],
            [
             1,
             "#276419"
            ]
           ],
           "sequential": [
            [
             0,
             "#0d0887"
            ],
            [
             0.1111111111111111,
             "#46039f"
            ],
            [
             0.2222222222222222,
             "#7201a8"
            ],
            [
             0.3333333333333333,
             "#9c179e"
            ],
            [
             0.4444444444444444,
             "#bd3786"
            ],
            [
             0.5555555555555556,
             "#d8576b"
            ],
            [
             0.6666666666666666,
             "#ed7953"
            ],
            [
             0.7777777777777778,
             "#fb9f3a"
            ],
            [
             0.8888888888888888,
             "#fdca26"
            ],
            [
             1,
             "#f0f921"
            ]
           ],
           "sequentialminus": [
            [
             0,
             "#0d0887"
            ],
            [
             0.1111111111111111,
             "#46039f"
            ],
            [
             0.2222222222222222,
             "#7201a8"
            ],
            [
             0.3333333333333333,
             "#9c179e"
            ],
            [
             0.4444444444444444,
             "#bd3786"
            ],
            [
             0.5555555555555556,
             "#d8576b"
            ],
            [
             0.6666666666666666,
             "#ed7953"
            ],
            [
             0.7777777777777778,
             "#fb9f3a"
            ],
            [
             0.8888888888888888,
             "#fdca26"
            ],
            [
             1,
             "#f0f921"
            ]
           ]
          },
          "colorway": [
           "#636efa",
           "#EF553B",
           "#00cc96",
           "#ab63fa",
           "#FFA15A",
           "#19d3f3",
           "#FF6692",
           "#B6E880",
           "#FF97FF",
           "#FECB52"
          ],
          "font": {
           "color": "#2a3f5f"
          },
          "geo": {
           "bgcolor": "white",
           "lakecolor": "white",
           "landcolor": "#E5ECF6",
           "showlakes": true,
           "showland": true,
           "subunitcolor": "white"
          },
          "hoverlabel": {
           "align": "left"
          },
          "hovermode": "closest",
          "mapbox": {
           "style": "light"
          },
          "paper_bgcolor": "white",
          "plot_bgcolor": "#E5ECF6",
          "polar": {
           "angularaxis": {
            "gridcolor": "white",
            "linecolor": "white",
            "ticks": ""
           },
           "bgcolor": "#E5ECF6",
           "radialaxis": {
            "gridcolor": "white",
            "linecolor": "white",
            "ticks": ""
           }
          },
          "scene": {
           "xaxis": {
            "backgroundcolor": "#E5ECF6",
            "gridcolor": "white",
            "gridwidth": 2,
            "linecolor": "white",
            "showbackground": true,
            "ticks": "",
            "zerolinecolor": "white"
           },
           "yaxis": {
            "backgroundcolor": "#E5ECF6",
            "gridcolor": "white",
            "gridwidth": 2,
            "linecolor": "white",
            "showbackground": true,
            "ticks": "",
            "zerolinecolor": "white"
           },
           "zaxis": {
            "backgroundcolor": "#E5ECF6",
            "gridcolor": "white",
            "gridwidth": 2,
            "linecolor": "white",
            "showbackground": true,
            "ticks": "",
            "zerolinecolor": "white"
           }
          },
          "shapedefaults": {
           "line": {
            "color": "#2a3f5f"
           }
          },
          "ternary": {
           "aaxis": {
            "gridcolor": "white",
            "linecolor": "white",
            "ticks": ""
           },
           "baxis": {
            "gridcolor": "white",
            "linecolor": "white",
            "ticks": ""
           },
           "bgcolor": "#E5ECF6",
           "caxis": {
            "gridcolor": "white",
            "linecolor": "white",
            "ticks": ""
           }
          },
          "title": {
           "x": 0.05
          },
          "xaxis": {
           "automargin": true,
           "gridcolor": "white",
           "linecolor": "white",
           "ticks": "",
           "title": {
            "standoff": 15
           },
           "zerolinecolor": "white",
           "zerolinewidth": 2
          },
          "yaxis": {
           "automargin": true,
           "gridcolor": "white",
           "linecolor": "white",
           "ticks": "",
           "title": {
            "standoff": 15
           },
           "zerolinecolor": "white",
           "zerolinewidth": 2
          }
         }
        },
        "title": {
         "font": {
          "color": "#4D5663"
         },
         "text": "Number of category kinds in pneumonia alive"
        },
        "xaxis": {
         "gridcolor": "#E1E5ED",
         "showgrid": true,
         "tickfont": {
          "color": "#4D5663"
         },
         "title": {
          "font": {
           "color": "#4D5663"
          },
          "text": ""
         },
         "zerolinecolor": "#E1E5ED"
        },
        "yaxis": {
         "gridcolor": "#E1E5ED",
         "showgrid": true,
         "tickfont": {
          "color": "#4D5663"
         },
         "title": {
          "font": {
           "color": "#4D5663"
          },
          "text": "Number of notes"
         },
         "zerolinecolor": "#E1E5ED"
        }
       }
      },
      "text/html": [
       "<div>\n",
       "        \n",
       "        \n",
       "            <div id=\"1cb4da60-a7a9-45e1-9984-7f332e9cf437\" class=\"plotly-graph-div\" style=\"height:525px; width:100%;\"></div>\n",
       "            <script type=\"text/javascript\">\n",
       "                require([\"plotly\"], function(Plotly) {\n",
       "                    window.PLOTLYENV=window.PLOTLYENV || {};\n",
       "                    window.PLOTLYENV.BASE_URL='https://plot.ly';\n",
       "                    \n",
       "                if (document.getElementById(\"1cb4da60-a7a9-45e1-9984-7f332e9cf437\")) {\n",
       "                    Plotly.newPlot(\n",
       "                        '1cb4da60-a7a9-45e1-9984-7f332e9cf437',\n",
       "                        [{\"marker\": {\"color\": \"rgba(255, 153, 51, 0.6)\", \"line\": {\"color\": \"rgba(255, 153, 51, 1.0)\", \"width\": 1}}, \"name\": \"CATEGORY\", \"orientation\": \"v\", \"text\": \"\", \"type\": \"bar\", \"x\": [\"Nursing\", \"Nursing/other\", \"Radiology\", \"Physician \", \"ECG\", \"Respiratory \", \"General\", \"Echo\", \"Nutrition\", \"Social Work\", \"Case Management \", \"Rehab Services\", \"Pharmacy\", \"Consult\"], \"y\": [2682, 2650, 2275, 2212, 846, 623, 194, 167, 149, 42, 29, 24, 1, 1]}],\n",
       "                        {\"legend\": {\"bgcolor\": \"#F5F6F9\", \"font\": {\"color\": \"#4D5663\"}}, \"paper_bgcolor\": \"#F5F6F9\", \"plot_bgcolor\": \"#F5F6F9\", \"template\": {\"data\": {\"bar\": [{\"error_x\": {\"color\": \"#2a3f5f\"}, \"error_y\": {\"color\": \"#2a3f5f\"}, \"marker\": {\"line\": {\"color\": \"#E5ECF6\", \"width\": 0.5}}, \"type\": \"bar\"}], \"barpolar\": [{\"marker\": {\"line\": {\"color\": \"#E5ECF6\", \"width\": 0.5}}, \"type\": \"barpolar\"}], \"carpet\": [{\"aaxis\": {\"endlinecolor\": \"#2a3f5f\", \"gridcolor\": \"white\", \"linecolor\": \"white\", \"minorgridcolor\": \"white\", \"startlinecolor\": \"#2a3f5f\"}, \"baxis\": {\"endlinecolor\": \"#2a3f5f\", \"gridcolor\": \"white\", \"linecolor\": \"white\", \"minorgridcolor\": \"white\", \"startlinecolor\": \"#2a3f5f\"}, \"type\": \"carpet\"}], \"choropleth\": [{\"colorbar\": {\"outlinewidth\": 0, \"ticks\": \"\"}, \"type\": \"choropleth\"}], \"contour\": [{\"colorbar\": {\"outlinewidth\": 0, \"ticks\": \"\"}, \"colorscale\": [[0.0, \"#0d0887\"], [0.1111111111111111, \"#46039f\"], [0.2222222222222222, \"#7201a8\"], [0.3333333333333333, \"#9c179e\"], [0.4444444444444444, \"#bd3786\"], [0.5555555555555556, \"#d8576b\"], [0.6666666666666666, \"#ed7953\"], [0.7777777777777778, \"#fb9f3a\"], [0.8888888888888888, \"#fdca26\"], [1.0, \"#f0f921\"]], \"type\": \"contour\"}], \"contourcarpet\": [{\"colorbar\": {\"outlinewidth\": 0, \"ticks\": \"\"}, \"type\": \"contourcarpet\"}], \"heatmap\": [{\"colorbar\": {\"outlinewidth\": 0, \"ticks\": \"\"}, \"colorscale\": [[0.0, \"#0d0887\"], [0.1111111111111111, \"#46039f\"], [0.2222222222222222, \"#7201a8\"], [0.3333333333333333, \"#9c179e\"], [0.4444444444444444, \"#bd3786\"], [0.5555555555555556, \"#d8576b\"], [0.6666666666666666, \"#ed7953\"], [0.7777777777777778, \"#fb9f3a\"], [0.8888888888888888, \"#fdca26\"], [1.0, \"#f0f921\"]], \"type\": \"heatmap\"}], \"heatmapgl\": [{\"colorbar\": {\"outlinewidth\": 0, \"ticks\": \"\"}, \"colorscale\": [[0.0, \"#0d0887\"], [0.1111111111111111, \"#46039f\"], [0.2222222222222222, \"#7201a8\"], [0.3333333333333333, \"#9c179e\"], [0.4444444444444444, \"#bd3786\"], [0.5555555555555556, \"#d8576b\"], [0.6666666666666666, \"#ed7953\"], [0.7777777777777778, \"#fb9f3a\"], [0.8888888888888888, \"#fdca26\"], [1.0, \"#f0f921\"]], \"type\": \"heatmapgl\"}], \"histogram\": [{\"marker\": {\"colorbar\": {\"outlinewidth\": 0, \"ticks\": \"\"}}, \"type\": \"histogram\"}], \"histogram2d\": [{\"colorbar\": {\"outlinewidth\": 0, \"ticks\": \"\"}, \"colorscale\": [[0.0, \"#0d0887\"], [0.1111111111111111, \"#46039f\"], [0.2222222222222222, \"#7201a8\"], [0.3333333333333333, \"#9c179e\"], [0.4444444444444444, \"#bd3786\"], [0.5555555555555556, \"#d8576b\"], [0.6666666666666666, \"#ed7953\"], [0.7777777777777778, \"#fb9f3a\"], [0.8888888888888888, \"#fdca26\"], [1.0, \"#f0f921\"]], \"type\": \"histogram2d\"}], \"histogram2dcontour\": [{\"colorbar\": {\"outlinewidth\": 0, \"ticks\": \"\"}, \"colorscale\": [[0.0, \"#0d0887\"], [0.1111111111111111, \"#46039f\"], [0.2222222222222222, \"#7201a8\"], [0.3333333333333333, \"#9c179e\"], [0.4444444444444444, \"#bd3786\"], [0.5555555555555556, \"#d8576b\"], [0.6666666666666666, \"#ed7953\"], [0.7777777777777778, \"#fb9f3a\"], [0.8888888888888888, \"#fdca26\"], [1.0, \"#f0f921\"]], \"type\": \"histogram2dcontour\"}], \"mesh3d\": [{\"colorbar\": {\"outlinewidth\": 0, \"ticks\": \"\"}, \"type\": \"mesh3d\"}], \"parcoords\": [{\"line\": {\"colorbar\": {\"outlinewidth\": 0, \"ticks\": \"\"}}, \"type\": \"parcoords\"}], \"pie\": [{\"automargin\": true, \"type\": \"pie\"}], \"scatter\": [{\"marker\": {\"colorbar\": {\"outlinewidth\": 0, \"ticks\": \"\"}}, \"type\": \"scatter\"}], \"scatter3d\": [{\"line\": {\"colorbar\": {\"outlinewidth\": 0, \"ticks\": \"\"}}, \"marker\": {\"colorbar\": {\"outlinewidth\": 0, \"ticks\": \"\"}}, \"type\": \"scatter3d\"}], \"scattercarpet\": [{\"marker\": {\"colorbar\": {\"outlinewidth\": 0, \"ticks\": \"\"}}, \"type\": \"scattercarpet\"}], \"scattergeo\": [{\"marker\": {\"colorbar\": {\"outlinewidth\": 0, \"ticks\": \"\"}}, \"type\": \"scattergeo\"}], \"scattergl\": [{\"marker\": {\"colorbar\": {\"outlinewidth\": 0, \"ticks\": \"\"}}, \"type\": \"scattergl\"}], \"scattermapbox\": [{\"marker\": {\"colorbar\": {\"outlinewidth\": 0, \"ticks\": \"\"}}, \"type\": \"scattermapbox\"}], \"scatterpolar\": [{\"marker\": {\"colorbar\": {\"outlinewidth\": 0, \"ticks\": \"\"}}, \"type\": \"scatterpolar\"}], \"scatterpolargl\": [{\"marker\": {\"colorbar\": {\"outlinewidth\": 0, \"ticks\": \"\"}}, \"type\": \"scatterpolargl\"}], \"scatterternary\": [{\"marker\": {\"colorbar\": {\"outlinewidth\": 0, \"ticks\": \"\"}}, \"type\": \"scatterternary\"}], \"surface\": [{\"colorbar\": {\"outlinewidth\": 0, \"ticks\": \"\"}, \"colorscale\": [[0.0, \"#0d0887\"], [0.1111111111111111, \"#46039f\"], [0.2222222222222222, \"#7201a8\"], [0.3333333333333333, \"#9c179e\"], [0.4444444444444444, \"#bd3786\"], [0.5555555555555556, \"#d8576b\"], [0.6666666666666666, \"#ed7953\"], [0.7777777777777778, \"#fb9f3a\"], [0.8888888888888888, \"#fdca26\"], [1.0, \"#f0f921\"]], \"type\": \"surface\"}], \"table\": [{\"cells\": {\"fill\": {\"color\": \"#EBF0F8\"}, \"line\": {\"color\": \"white\"}}, \"header\": {\"fill\": {\"color\": \"#C8D4E3\"}, \"line\": {\"color\": \"white\"}}, \"type\": \"table\"}]}, \"layout\": {\"annotationdefaults\": {\"arrowcolor\": \"#2a3f5f\", \"arrowhead\": 0, \"arrowwidth\": 1}, \"coloraxis\": {\"colorbar\": {\"outlinewidth\": 0, \"ticks\": \"\"}}, \"colorscale\": {\"diverging\": [[0, \"#8e0152\"], [0.1, \"#c51b7d\"], [0.2, \"#de77ae\"], [0.3, \"#f1b6da\"], [0.4, \"#fde0ef\"], [0.5, \"#f7f7f7\"], [0.6, \"#e6f5d0\"], [0.7, \"#b8e186\"], [0.8, \"#7fbc41\"], [0.9, \"#4d9221\"], [1, \"#276419\"]], \"sequential\": [[0.0, \"#0d0887\"], [0.1111111111111111, \"#46039f\"], [0.2222222222222222, \"#7201a8\"], [0.3333333333333333, \"#9c179e\"], [0.4444444444444444, \"#bd3786\"], [0.5555555555555556, \"#d8576b\"], [0.6666666666666666, \"#ed7953\"], [0.7777777777777778, \"#fb9f3a\"], [0.8888888888888888, \"#fdca26\"], [1.0, \"#f0f921\"]], \"sequentialminus\": [[0.0, \"#0d0887\"], [0.1111111111111111, \"#46039f\"], [0.2222222222222222, \"#7201a8\"], [0.3333333333333333, \"#9c179e\"], [0.4444444444444444, \"#bd3786\"], [0.5555555555555556, \"#d8576b\"], [0.6666666666666666, \"#ed7953\"], [0.7777777777777778, \"#fb9f3a\"], [0.8888888888888888, \"#fdca26\"], [1.0, \"#f0f921\"]]}, \"colorway\": [\"#636efa\", \"#EF553B\", \"#00cc96\", \"#ab63fa\", \"#FFA15A\", \"#19d3f3\", \"#FF6692\", \"#B6E880\", \"#FF97FF\", \"#FECB52\"], \"font\": {\"color\": \"#2a3f5f\"}, \"geo\": {\"bgcolor\": \"white\", \"lakecolor\": \"white\", \"landcolor\": \"#E5ECF6\", \"showlakes\": true, \"showland\": true, \"subunitcolor\": \"white\"}, \"hoverlabel\": {\"align\": \"left\"}, \"hovermode\": \"closest\", \"mapbox\": {\"style\": \"light\"}, \"paper_bgcolor\": \"white\", \"plot_bgcolor\": \"#E5ECF6\", \"polar\": {\"angularaxis\": {\"gridcolor\": \"white\", \"linecolor\": \"white\", \"ticks\": \"\"}, \"bgcolor\": \"#E5ECF6\", \"radialaxis\": {\"gridcolor\": \"white\", \"linecolor\": \"white\", \"ticks\": \"\"}}, \"scene\": {\"xaxis\": {\"backgroundcolor\": \"#E5ECF6\", \"gridcolor\": \"white\", \"gridwidth\": 2, \"linecolor\": \"white\", \"showbackground\": true, \"ticks\": \"\", \"zerolinecolor\": \"white\"}, \"yaxis\": {\"backgroundcolor\": \"#E5ECF6\", \"gridcolor\": \"white\", \"gridwidth\": 2, \"linecolor\": \"white\", \"showbackground\": true, \"ticks\": \"\", \"zerolinecolor\": \"white\"}, \"zaxis\": {\"backgroundcolor\": \"#E5ECF6\", \"gridcolor\": \"white\", \"gridwidth\": 2, \"linecolor\": \"white\", \"showbackground\": true, \"ticks\": \"\", \"zerolinecolor\": \"white\"}}, \"shapedefaults\": {\"line\": {\"color\": \"#2a3f5f\"}}, \"ternary\": {\"aaxis\": {\"gridcolor\": \"white\", \"linecolor\": \"white\", \"ticks\": \"\"}, \"baxis\": {\"gridcolor\": \"white\", \"linecolor\": \"white\", \"ticks\": \"\"}, \"bgcolor\": \"#E5ECF6\", \"caxis\": {\"gridcolor\": \"white\", \"linecolor\": \"white\", \"ticks\": \"\"}}, \"title\": {\"x\": 0.05}, \"xaxis\": {\"automargin\": true, \"gridcolor\": \"white\", \"linecolor\": \"white\", \"ticks\": \"\", \"title\": {\"standoff\": 15}, \"zerolinecolor\": \"white\", \"zerolinewidth\": 2}, \"yaxis\": {\"automargin\": true, \"gridcolor\": \"white\", \"linecolor\": \"white\", \"ticks\": \"\", \"title\": {\"standoff\": 15}, \"zerolinecolor\": \"white\", \"zerolinewidth\": 2}}}, \"title\": {\"font\": {\"color\": \"#4D5663\"}, \"text\": \"Number of category kinds in pneumonia alive\"}, \"xaxis\": {\"gridcolor\": \"#E1E5ED\", \"showgrid\": true, \"tickfont\": {\"color\": \"#4D5663\"}, \"title\": {\"font\": {\"color\": \"#4D5663\"}, \"text\": \"\"}, \"zerolinecolor\": \"#E1E5ED\"}, \"yaxis\": {\"gridcolor\": \"#E1E5ED\", \"showgrid\": true, \"tickfont\": {\"color\": \"#4D5663\"}, \"title\": {\"font\": {\"color\": \"#4D5663\"}, \"text\": \"Number of notes\"}, \"zerolinecolor\": \"#E1E5ED\"}},\n",
       "                        {\"showLink\": true, \"linkText\": \"Export to plot.ly\", \"plotlyServerURL\": \"https://plot.ly\", \"responsive\": true}\n",
       "                    ).then(function(){\n",
       "                            \n",
       "var gd = document.getElementById('1cb4da60-a7a9-45e1-9984-7f332e9cf437');\n",
       "var x = new MutationObserver(function (mutations, observer) {{\n",
       "        var display = window.getComputedStyle(gd).display;\n",
       "        if (!display || display === 'none') {{\n",
       "            console.log([gd, 'removed!']);\n",
       "            Plotly.purge(gd);\n",
       "            observer.disconnect();\n",
       "        }}\n",
       "}});\n",
       "\n",
       "// Listen for the removal of the full notebook cells\n",
       "var notebookContainer = gd.closest('#notebook-container');\n",
       "if (notebookContainer) {{\n",
       "    x.observe(notebookContainer, {childList: true});\n",
       "}}\n",
       "\n",
       "// Listen for the clearing of the current output cell\n",
       "var outputEl = gd.closest('.output');\n",
       "if (outputEl) {{\n",
       "    x.observe(outputEl, {childList: true});\n",
       "}}\n",
       "\n",
       "                        })\n",
       "                };\n",
       "                });\n",
       "            </script>\n",
       "        </div>"
      ]
     },
     "metadata": {},
     "output_type": "display_data"
    }
   ],
   "source": [
    "pneumonia_dead_no_disch['CATEGORY'].value_counts().sort_values(ascending=False).iplot(kind='bar', yTitle='Number of notes', \n",
    "                                                                title='Number of category kinds in pneumonia alive')"
   ]
  },
  {
   "cell_type": "code",
   "execution_count": 25,
   "metadata": {},
   "outputs": [
    {
     "data": {
      "text/html": [
       "<div>\n",
       "<style scoped>\n",
       "    .dataframe tbody tr th:only-of-type {\n",
       "        vertical-align: middle;\n",
       "    }\n",
       "\n",
       "    .dataframe tbody tr th {\n",
       "        vertical-align: top;\n",
       "    }\n",
       "\n",
       "    .dataframe thead th {\n",
       "        text-align: right;\n",
       "    }\n",
       "</style>\n",
       "<table border=\"1\" class=\"dataframe\">\n",
       "  <thead>\n",
       "    <tr style=\"text-align: right;\">\n",
       "      <th></th>\n",
       "      <th>ROW_ID_x</th>\n",
       "      <th>SUBJECT_ID_x</th>\n",
       "      <th>CHARTDATE</th>\n",
       "      <th>STORETIME</th>\n",
       "      <th>CATEGORY</th>\n",
       "      <th>DESCRIPTION</th>\n",
       "      <th>TEXT</th>\n",
       "      <th>DEATHTIME</th>\n",
       "    </tr>\n",
       "  </thead>\n",
       "  <tbody>\n",
       "    <tr>\n",
       "      <th>137480</th>\n",
       "      <td>149869</td>\n",
       "      <td>68</td>\n",
       "      <td>2173-12-15</td>\n",
       "      <td>NaN</td>\n",
       "      <td>ECG</td>\n",
       "      <td>Report</td>\n",
       "      <td>Sinus tachycardia. Compared to the previous tr...</td>\n",
       "      <td>NaN</td>\n",
       "    </tr>\n",
       "    <tr>\n",
       "      <th>137481</th>\n",
       "      <td>149870</td>\n",
       "      <td>68</td>\n",
       "      <td>2173-12-15</td>\n",
       "      <td>NaN</td>\n",
       "      <td>ECG</td>\n",
       "      <td>Report</td>\n",
       "      <td>Sinus rhythm. Delayed anterior precordial R wa...</td>\n",
       "      <td>NaN</td>\n",
       "    </tr>\n",
       "    <tr>\n",
       "      <th>1259578</th>\n",
       "      <td>1261173</td>\n",
       "      <td>68</td>\n",
       "      <td>2173-12-16</td>\n",
       "      <td>2173-12-16 05:09:00</td>\n",
       "      <td>Nursing/other</td>\n",
       "      <td>Report</td>\n",
       "      <td>Micu nsg admission note\\n41yo female with AIDS...</td>\n",
       "      <td>NaN</td>\n",
       "    </tr>\n",
       "    <tr>\n",
       "      <th>1259579</th>\n",
       "      <td>1261174</td>\n",
       "      <td>68</td>\n",
       "      <td>2173-12-16</td>\n",
       "      <td>2173-12-16 17:08:00</td>\n",
       "      <td>Nursing/other</td>\n",
       "      <td>Report</td>\n",
       "      <td>NSG 0700-1900\\nEvents: Attempted eating breakf...</td>\n",
       "      <td>NaN</td>\n",
       "    </tr>\n",
       "    <tr>\n",
       "      <th>1258821</th>\n",
       "      <td>1261175</td>\n",
       "      <td>68</td>\n",
       "      <td>2173-12-16</td>\n",
       "      <td>2173-12-16 17:18:00</td>\n",
       "      <td>Nursing/other</td>\n",
       "      <td>Report</td>\n",
       "      <td>Resp Care\\n\\nSputum induction obtained for PCP...</td>\n",
       "      <td>NaN</td>\n",
       "    </tr>\n",
       "    <tr>\n",
       "      <th>...</th>\n",
       "      <td>...</td>\n",
       "      <td>...</td>\n",
       "      <td>...</td>\n",
       "      <td>...</td>\n",
       "      <td>...</td>\n",
       "      <td>...</td>\n",
       "      <td>...</td>\n",
       "      <td>...</td>\n",
       "    </tr>\n",
       "    <tr>\n",
       "      <th>1129253</th>\n",
       "      <td>1138542</td>\n",
       "      <td>99937</td>\n",
       "      <td>2128-05-11</td>\n",
       "      <td>NaN</td>\n",
       "      <td>Radiology</td>\n",
       "      <td>CHEST (PORTABLE AP)</td>\n",
       "      <td>[**2128-5-11**] 11:57 AM\\n CHEST (PORTABLE AP)...</td>\n",
       "      <td>NaN</td>\n",
       "    </tr>\n",
       "    <tr>\n",
       "      <th>1129150</th>\n",
       "      <td>1138569</td>\n",
       "      <td>99937</td>\n",
       "      <td>2128-05-11</td>\n",
       "      <td>NaN</td>\n",
       "      <td>Radiology</td>\n",
       "      <td>CTA CHEST W&amp;W/O C&amp;RECONS, NON-CORONARY</td>\n",
       "      <td>[**2128-5-11**] 1:44 PM\\n CTA CHEST W&amp;W/O C&amp;RE...</td>\n",
       "      <td>NaN</td>\n",
       "    </tr>\n",
       "    <tr>\n",
       "      <th>148040</th>\n",
       "      <td>130595</td>\n",
       "      <td>99937</td>\n",
       "      <td>2128-05-12</td>\n",
       "      <td>NaN</td>\n",
       "      <td>ECG</td>\n",
       "      <td>Report</td>\n",
       "      <td>Normal sinus rhythm. Compared to tracing #1 no...</td>\n",
       "      <td>NaN</td>\n",
       "    </tr>\n",
       "    <tr>\n",
       "      <th>1129514</th>\n",
       "      <td>1138666</td>\n",
       "      <td>99937</td>\n",
       "      <td>2128-05-12</td>\n",
       "      <td>NaN</td>\n",
       "      <td>Radiology</td>\n",
       "      <td>CHEST (PORTABLE AP)</td>\n",
       "      <td>[**2128-5-12**] 7:27 AM\\n CHEST (PORTABLE AP) ...</td>\n",
       "      <td>NaN</td>\n",
       "    </tr>\n",
       "    <tr>\n",
       "      <th>65449</th>\n",
       "      <td>65037</td>\n",
       "      <td>99937</td>\n",
       "      <td>2128-05-13</td>\n",
       "      <td>NaN</td>\n",
       "      <td>Echo</td>\n",
       "      <td>Report</td>\n",
       "      <td>PATIENT/TEST INFORMATION:\\nIndication: Left ve...</td>\n",
       "      <td>NaN</td>\n",
       "    </tr>\n",
       "  </tbody>\n",
       "</table>\n",
       "<p>46134 rows × 8 columns</p>\n",
       "</div>"
      ],
      "text/plain": [
       "         ROW_ID_x  SUBJECT_ID_x   CHARTDATE            STORETIME  \\\n",
       "137480     149869            68  2173-12-15                  NaN   \n",
       "137481     149870            68  2173-12-15                  NaN   \n",
       "1259578   1261173            68  2173-12-16  2173-12-16 05:09:00   \n",
       "1259579   1261174            68  2173-12-16  2173-12-16 17:08:00   \n",
       "1258821   1261175            68  2173-12-16  2173-12-16 17:18:00   \n",
       "...           ...           ...         ...                  ...   \n",
       "1129253   1138542         99937  2128-05-11                  NaN   \n",
       "1129150   1138569         99937  2128-05-11                  NaN   \n",
       "148040     130595         99937  2128-05-12                  NaN   \n",
       "1129514   1138666         99937  2128-05-12                  NaN   \n",
       "65449       65037         99937  2128-05-13                  NaN   \n",
       "\n",
       "              CATEGORY                             DESCRIPTION  \\\n",
       "137480             ECG                                  Report   \n",
       "137481             ECG                                  Report   \n",
       "1259578  Nursing/other                                  Report   \n",
       "1259579  Nursing/other                                  Report   \n",
       "1258821  Nursing/other                                  Report   \n",
       "...                ...                                     ...   \n",
       "1129253      Radiology                     CHEST (PORTABLE AP)   \n",
       "1129150      Radiology  CTA CHEST W&W/O C&RECONS, NON-CORONARY   \n",
       "148040             ECG                                  Report   \n",
       "1129514      Radiology                     CHEST (PORTABLE AP)   \n",
       "65449             Echo                                  Report   \n",
       "\n",
       "                                                      TEXT DEATHTIME  \n",
       "137480   Sinus tachycardia. Compared to the previous tr...       NaN  \n",
       "137481   Sinus rhythm. Delayed anterior precordial R wa...       NaN  \n",
       "1259578  Micu nsg admission note\\n41yo female with AIDS...       NaN  \n",
       "1259579  NSG 0700-1900\\nEvents: Attempted eating breakf...       NaN  \n",
       "1258821  Resp Care\\n\\nSputum induction obtained for PCP...       NaN  \n",
       "...                                                    ...       ...  \n",
       "1129253  [**2128-5-11**] 11:57 AM\\n CHEST (PORTABLE AP)...       NaN  \n",
       "1129150  [**2128-5-11**] 1:44 PM\\n CTA CHEST W&W/O C&RE...       NaN  \n",
       "148040   Normal sinus rhythm. Compared to tracing #1 no...       NaN  \n",
       "1129514  [**2128-5-12**] 7:27 AM\\n CHEST (PORTABLE AP) ...       NaN  \n",
       "65449    PATIENT/TEST INFORMATION:\\nIndication: Left ve...       NaN  \n",
       "\n",
       "[46134 rows x 8 columns]"
      ]
     },
     "execution_count": 25,
     "metadata": {},
     "output_type": "execute_result"
    }
   ],
   "source": [
    "pneumonia_alive_no_disch"
   ]
  },
  {
   "cell_type": "code",
   "execution_count": 26,
   "metadata": {},
   "outputs": [
    {
     "data": {
      "text/plain": [
       "252"
      ]
     },
     "execution_count": 26,
     "metadata": {},
     "output_type": "execute_result"
    }
   ],
   "source": [
    "# Number of patients\n",
    "pneumonia_dead_no_disch['SUBJECT_ID_x'].nunique()"
   ]
  },
  {
   "cell_type": "code",
   "execution_count": 27,
   "metadata": {},
   "outputs": [
    {
     "data": {
      "text/plain": [
       "1167"
      ]
     },
     "execution_count": 27,
     "metadata": {},
     "output_type": "execute_result"
    }
   ],
   "source": [
    "# Number of patients\n",
    "pneumonia_alive_no_disch['SUBJECT_ID_x'].nunique()"
   ]
  },
  {
   "cell_type": "code",
   "execution_count": 28,
   "metadata": {},
   "outputs": [],
   "source": [
    "# import text handling tool\n",
    "from nltk.tokenize import word_tokenize\n",
    "from nltk.corpus import stopwords\n",
    "from nltk.stem import PorterStemmer\n",
    "\n",
    "from collections import Counter\n",
    "\n",
    "import sys\n",
    "import re\n",
    "import csv\n",
    "import os.path\n",
    "\n",
    "# define constants\n",
    "RESULT_HEADER = \"WORD, FREQUENCY\\n\"\n",
    "\n",
    "# words that do not have meaning (can be modified later)\n",
    "USELESS_WORDS = [\"a\", \"the\", \"he\", \"she\", \",\", \".\", \"?\", \"!\", \":\", \";\", \"+\", \"*\", \"**\"\\\n",
    "                 \"your\", \"you\"]\n",
    "\n",
    "# count up the frequency of every word in every disease file\n",
    "stemmer = PorterStemmer()\n",
    "# create set of words to ignore in text\n",
    "stop_words = set(stopwords.words('english'))\n",
    "\n",
    "for word in USELESS_WORDS:\n",
    "    stop_words.add(word)"
   ]
  },
  {
   "cell_type": "code",
   "execution_count": 29,
   "metadata": {},
   "outputs": [
    {
     "name": "stderr",
     "output_type": "stream",
     "text": [
      "100%|██████████| 11895/11895 [00:01<00:00, 6299.96it/s]\n",
      "  1%|          | 558/46134 [00:00<00:08, 5546.13it/s]"
     ]
    },
    {
     "name": "stdout",
     "output_type": "stream",
     "text": [
      "11895 note events\n",
      "finished counting frequent words for patients!\n"
     ]
    },
    {
     "name": "stderr",
     "output_type": "stream",
     "text": [
      "100%|██████████| 46134/46134 [00:07<00:00, 5916.56it/s]"
     ]
    },
    {
     "name": "stdout",
     "output_type": "stream",
     "text": [
      "46134 note events\n",
      "finished counting frequent words for patients!\n"
     ]
    },
    {
     "name": "stderr",
     "output_type": "stream",
     "text": [
      "\n"
     ]
    }
   ],
   "source": [
    "def count_words_per_patient(disease_df):\n",
    "    note_appearance_counter = {}\n",
    "    number_of_patients = 0\n",
    "    note_counter = 0\n",
    "\n",
    "\n",
    "    patient_id = -1\n",
    "    word_set = set()\n",
    "\n",
    "    # Iterate through each note\n",
    "    for index, row in tqdm(disease_df.iterrows(), total=disease_df.shape[0]):\n",
    "\n",
    "        note_counter += 1\n",
    "        patient_id_check = int(row['SUBJECT_ID_x'])\n",
    "    \n",
    "        # if patient id has changed, end sequence and start new sequence\n",
    "        if not patient_id == patient_id_check:\n",
    "            number_of_patients += 1\n",
    "        \n",
    "            for word in word_set:\n",
    "                if word in note_appearance_counter:\n",
    "                    note_appearance_counter[word] += 1\n",
    "                else:\n",
    "                    note_appearance_counter[word] = 1\n",
    "\n",
    "        \n",
    "            # reset word_set\n",
    "            word_set = set()\n",
    "        \n",
    "            # update patient id\n",
    "            patient_id = patient_id_check\n",
    "        \n",
    "            note = re.sub(r'\\[\\*\\*(.*?)\\*\\*\\]|[_,\\d\\*:~=\\.\\-\\+\\\\/]+', ' ', row['TEXT'])\n",
    "            tokenized_note = word_tokenize(note)\n",
    "        \n",
    "        \n",
    "            for word in tokenized_note:\n",
    "                stemmed_word = stemmer.stem(word.lower())\n",
    "                if not stemmed_word in stop_words:\n",
    "                    word_set.add(stemmed_word)\n",
    "    \n",
    "    print(str(note_counter) + \" note events\")\n",
    "    print(\"finished counting frequent words for patients!\")\n",
    "#     return note_counter, note_appearance_counter\n",
    "    return number_of_patients, note_appearance_counter\n",
    "\n",
    "number_of_notes = {}\n",
    "note_appearance_counter = {}\n",
    "\n",
    "number_of_notes['pneumonia_dead'], note_appearance_counter['pneumonia_dead'] = count_words_per_patient(pneumonia_dead_no_disch)\n",
    "number_of_notes['pneumonia_alive'], note_appearance_counter['pneumonia_alive'] = count_words_per_patient(pneumonia_alive_no_disch)"
   ]
  },
  {
   "cell_type": "code",
   "execution_count": 30,
   "metadata": {},
   "outputs": [
    {
     "data": {
      "text/plain": [
       "{'pneumonia_dead': 252, 'pneumonia_alive': 1167}"
      ]
     },
     "execution_count": 30,
     "metadata": {},
     "output_type": "execute_result"
    }
   ],
   "source": [
    "number_of_notes"
   ]
  },
  {
   "cell_type": "code",
   "execution_count": 31,
   "metadata": {},
   "outputs": [
    {
     "name": "stdout",
     "output_type": "stream",
     "text": [
      "{'pneumonia_dead': {'function': 19, 'color': 20, 'indic': 33, 'statu': 23, 'hr': 20, 'wall': 26, 'inpati': 18, 'none': 22, 'focus': 4, 'height': 16, 'thi': 22, 'prior': 36, 'left': 120, 'physiolog': 11, 'biventricular': 6, 'lvef': 19, 'time': 22, 'global': 10, 'hypokinesi': 9, 'small': 11, 'new': 16, 'systol': 19, 'bp': 20, 'p': 15, 'evalu': 11, 'lv': 19, 'doppler': 21, 'pleural': 9, 'effus': 27, '(': 35, 'trivial': 8, 'bpm': 20, 'size': 22, 'find': 45, 'right': 69, 'free': 15, 'portabl': 20, 'inform': 20, 'normal': 53, 'conclus': 20, 'pea': 1, 'date': 35, 'tte': 20, 'contrast': 24, 'adequ': 15, 'test': 21, 'bsa': 15, 'rv': 19, 'technic': 22, 'lb': 16, ')': 35, 'mm': 17, 'caviti': 18, 'studi': 17, 'wa': 15, 'chamber': 7, 'qualiti': 24, 'unusu': 2, 'weight': 16, 'imag': 16, 'arrest': 2, '%': 20, 'interpret': 24, 'moder': 19, 'compar': 106, 'limit': 12, 'patient': 26, 'ventricl': 21, 'review': 12, 'pericardi': 20, 'dysfunct': 5, 'thick': 8, 'hg': 17, 'view': 9, 'pericardium': 19, 'ventricular': 100, '#': 78, 'previou': 189, 'analysi': 3, 'rhythm': 111, 'trace': 209, 'pace': 14, 'signific': 43, 'pacemak': 2, 'chang': 117, 'anterior': 39, 'lead': 60, 'consist': 17, 'sinu': 180, 'avail': 39, 'myocardi': 41, 'tachycardia': 87, 'q': 22, 'late': 9, 'infarct': 41, 'transit': 14, 'wave': 109, 'comparison': 50, 'ha': 37, 'rate': 65, 'slow': 5, 'persist': 8, 'segment': 21, 'st': 85, 'rather': 3, 'fibril': 38, 'depress': 18, 'respons': 18, 'rapid': 16, 'remain': 7, 'mark': 12, 'atrial': 94, 'conduct': 24, 'may': 28, 'probabl': 31, 'age': 12, 'ectopi': 15, 'indetermin': 11, 'baselin': 27, 'prematur': 25, 'intraventricular': 14, 'suggest': 57, 'inferior': 30, 'borderlin': 11, 'clinic': 49, 'avf': 9, 'abnorm': 78, 'upper': 9, 'iii': 6, 'faster': 16, 'relat': 5, 'ii': 9, 'flatten': 7, 'consid': 21, 'sinc': 68, 'artifact': 27, 'delay': 27, 'beat': 16, 'correl': 42, 'voltag': 38, 'r': 40, 'low': 32, 'progress': 27, 'earli': 8, 'throughout': 3, 'v': 35, 'lvh': 8, 'nonspecif': 17, 'qr': 25, 'old': 19, 'later': 25, 'due': 22, 'branch': 41, 'bundl': 41, 'block': 55, 'poor': 20, 'variant': 5, 'ecg': 9, 'last': 4, 'modest': 7, 'amplitud': 3, 'deviat': 36, 'otherwis': 13, 'precordi': 20, 'form': 1, 'assess': 11, 'lower': 9, 'non': 56, 'difficult': 11, 'axi': 48, 'specif': 45, 'make': 8, 'longer': 7, 'differ': 2, 'repolar': 16, 'markedli': 8, 'first': 4, 'shift': 4, 'diffus': 18, 'degre': 5, 'morpholog': 4, 'biatrial': 3, 'enlarg': 14, 'rightward': 2, 'appear': 19, 'although': 11, 'similar': 15, 'present': 30, 'pm': 11, 'offer': 1, 'possibl': 20, 'limb': 17, 'ischemia': 18, 'partli': 4, 'undetermin': 6, 'evid': 9, 'addit': 3, 'pac': 1, 'frequent': 8, 'decreas': 8, 'gener': 14, 'uncertain': 1, 'ectop': 4, 'activ': 5, 'interv': 22, 'prolong': 9, 'broad': 1, 'complex': 7, 'narrow': 2, 'question': 4, 'mechan': 3, 'regulasr': 1, 'get': 1, 'line': 4, 'patchi': 4, 'aneur': 1, 'could': 8, 'lung': 11, 'visual': 6, 'infect': 3, 'man': 9, 'examin': 13, 'eval': 6, 'tip': 3, 'rib': 3, 'involv': 4, 'page': 1, 'chest': 11, 'superior': 1, 'termin': 3, 'retrocardiac': 2, 'final': 12, 'team': 2, 'aneurysm': 2, 'ccc': 1, 'repres': 5, 'pneumonia': 11, 'larg': 3, 'lobe': 9, 'nasogastr': 1, 'year': 12, 'supin': 1, 'klmn': 1, 'carina': 3, 'bilater': 7, 'like': 12, 'intub': 1, 'report': 16, 'clip': 12, 'endotrach': 2, 'tube': 2, 'discuss': 1, 'demonstr': 1, 'read': 5, 'wed': 1, 'ap': 6, 'side': 6, 'fractur': 3, 'ct': 7, 'radiograph': 4, 'appropri': 2, 'mid': 5, 'well': 9, 'expans': 1, 'subsequ': 1, 'mass': 5, 'vs': 1, 'frontal': 5, 'diaphragm': 3, 'heal': 2, 'distress': 4, 'aspir': 1, 'mediastinum': 3, 'abov': 3, 'respiratori': 3, 'osseou': 1, 'recommend': 7, 'impress': 20, 'admit': 4, 'contour': 5, 'post': 1, 'text': 1, 'pleas': 3, 'wet': 5, 'cm': 7, 'aortic': 20, 'condit': 12, 'male': 3, 'structur': 9, 'medic': 13, 'reason': 12, 'opac': 6, 'dr': 1, 'lobul': 1, 'short': 12, 'pr': 9, 'junction': 3, 'unsuit': 1, 'elev': 10, 'injuri': 2, 'seen': 31, 'underli': 3, 'extens': 7, 'septal': 13, 'plane': 1, 'locul': 1, 'echo': 5, 'sign': 5, 'suboptim': 10, 'repeat': 7, 'echocardiograph': 8, 'window': 4, '>': 13, 'optim': 2, 'fulli': 5, 'imposs': 1, 'previous': 6, 'motion': 17, 'sever': 12, 'call': 3, 'exclud': 16, 'sub': 1, 'befor': 1, 'tamponad': 4, 'comment': 11, 'statement': 1, 'valvular': 3, 'focal': 9, 'definit': 2, 'without': 9, 'significantli': 3, 'perform': 2, 'posit': 9, 'eject': 2, 'fellow': 3, 'emerg': 3, 'estim': 7, 'constrict': 1, 'fraction': 2, 'cardiolog': 2, 'overal': 12, 'reveal': 1, 'wors': 1, 'ef': 3, 'rest': 11, 'invert': 2, 'avl': 6, 'improv': 6, 'hypertrophi': 41, 'increas': 30, 'invers': 9, 'followup': 5, 'howev': 6, 'couplet': 1, 'record': 4, 'includ': 7, 'absent': 8, 'inferolater': 6, 'process': 11, 'ischem': 4, 'occasion': 3, 'downslop': 1, 'secondari': 7, 'tachycard': 3, 'chaotic': 1, \"''\": 3, 'multipl': 7, '``': 3, 'slower': 8, 'drug': 3, 'effect': 3, 'qtc': 3, 'metabol': 1, 'regular': 4, 'supraventricular': 6, 'widen': 2, 'diagnost': 35, 'pattern': 13, 'type': 7, 'interim': 11, 'onli': 2, 'la': 13, 'septum': 16, 'valv': 18, 'arteri': 20, 'pulmon': 13, 'pulmonari': 28, 'ra': 17, 'atrium': 17, 'leaflet': 17, 'ar': 15, 'mildli': 17, 'thicken': 14, 'interatri': 16, 'tricuspid': 18, 'note': 12, 'heart': 15, 'tremor': 1, 'standard': 3, 'somat': 1, 'l': 5, 'upright': 2, 'long': 2, 'extrasystol': 1, 'determin': 5, 'clockwis': 1, 'rotat': 2, 'nlead': 1, 'strain': 3, 'except': 4, 'major': 3, 'fascicular': 20, 'sequenti': 2, 'irregular': 3, 'vi': 4, 'irregularli': 1, 'rsr': 7, \"'\": 8, 'somewhat': 3, 'minim': 4, 'product': 4, 'vascular': 4, 'cough': 4, 'clear': 2, 'breath': 6, 'redistribut': 1, 'sob': 4, 'sat': 4, 'acut': 8, 'fever': 5, 'keep': 1, 'section': 1, 'histori': 8, 'confluent': 2, 'middl': 2, 'woman': 3, 'dictat': 1, 'dilat': 15, 'peripher': 1, 'within': 9, 'consolid': 4, 'promin': 16, 'tortuos': 1, 'descend': 2, 'thorac': 3, 'pna': 8, 'identifi': 3, 'tortuou': 1, 'see': 3, 'area': 5, 'separ': 1, 'ascend': 10, 'multifoc': 7, 'provid': 1, 'airspac': 4, 'angiogram': 1, 'aorta': 17, 'dissect': 1, 'less': 6, 'incomplet': 7, 'versu': 7, 'part': 4, 'anterosept': 12, 'rule': 3, 'leftward': 5, 'averag': 4, 'much': 3, 'suspici': 3, 'alon': 1, 'mild': 18, 'diastol': 2, 'symmetr': 8, 'full': 18, 'vigor': 1, 'intrins': 1, 'prosthet': 1, 'hypertens': 15, 'mr': 16, 'tr': 15, 'diseas': 9, 'partial': 2, 'mvr': 1, 'echodens': 1, 'expect': 1, 'mitral': 16, 'mobil': 1, 'bioprosthet': 2, 'veget': 1, 'dure': 2, 'veloc': 2, 'pa': 18, 'ascit': 1, 'worsen': 2, 'c': 7, 'ivc': 2, '[': 14, 'gradient': 9, 'pressur': 8, 'dehisc': 1, '<': 4, 'given': 3, 'endocard': 3, 'prosthesi': 2, 'respir': 2, ']': 14, 'regurgit': 16, 'diamet': 14, 'slightli': 10, 'mmhg': 3, 'annulu': 1, 'overload': 6, 'higher': 1, 'avr': 3, 'volum': 5, 'complet': 18, 'ring': 1, 'w': 7, 'end': 2, 'veri': 5, 'least': 5, 'shadow': 1, 'set': 1, 'pasp': 1, 'hyperdynam': 3, 'acoust': 1, 'underestim': 2, 'high': 3, 'near': 1, 'perviou': 1, 'sinus': 3, 'mostli': 1, 'discharg': 2, 'thu': 1, 'cuf': 1, 'central': 2, 'observ': 2, 'made': 2, 'densiti': 2, 'natur': 2, 'typic': 1, 'cardiogen': 1, 'exist': 3, 'doubt': 1, 'md': 1, 'alreadi': 2, 'either': 1, 'latter': 1, 'sternotomi': 1, 'chf': 2, 'absenc': 2, '&': 3, 'surgeri': 1, 'bypass': 1, 'bronchial': 1, 'locat': 1, 'cardiac': 10, 'obscur': 2, 'recent': 4, 'regress': 1, 'import': 2, 'posterior': 3, 'intens': 1, 'peri': 1, 'infecti': 4, 'treat': 2, 'led': 1, 'lat': 3, 'presenc': 2, 'infiltr': 5, 'unchang': 7, 'edema': 4, 'hospit': 3, 'exert': 1, 'surgic': 2, 'ani': 3, 'shed': 1, 'state': 3, 'parenchym': 1, 'paroxysm': 1, 'flutter': 2, 'context': 1, 'certainti': 1, 'infero': 1, 'iv': 5, 'contraind': 4, 'midlin': 2, 'hypoplast': 1, 'mental': 1, 'shake': 1, 'bleed': 2, 'hemispher': 1, 'scan': 1, 'grossli': 1, 'lacun': 1, 'maxillari': 2, 'caudat': 1, 'cerebellar': 1, 'delta': 1, 'ms': 5, 'head': 2, 'coumadin': 1, 'techniqu': 4, 'preserv': 4, 'hydrocephalu': 1, 'matter': 1, 'mucos': 1, 'hemorrhag': 3, 'kcld': 1, 'white': 1, 'paranas': 2, 'ich': 1, 'differenti': 3, 'cerebr': 1, 'intracrani': 2, 'tc': 2, 'aberr': 2, 'conducti': 1, 'contract': 6, 'across': 2, 'precordium': 2, 'chorda': 3, 'flow': 3, 'lipomat': 1, 'annular': 8, 'puls': 1, 'calcif': 10, 'stenosi': 9, 'outpati': 2, 'root': 8, 'nodal': 1, 'av': 1, 'anterolater': 4, 'wenckebach': 1, 'top': 1, 'dissoci': 1, 'submit': 1, 'sequenc': 1, 'describ': 3, 'metabolc': 1, 'tall': 2, 'peak': 1, 'rbbb': 1, 'ekg': 2, 'qt': 1, 'gone': 1, 'evolv': 1, 'easliy': 1, 'elsewher': 1, 'apic': 5, 'calcifi': 3, 'heavili': 1, 'result': 5, 'transthorac': 1, 'care': 4, 'becaus': 1, 'houseoffic': 3, 'number': 1, 'level': 17, 'quantifi': 1, 'wide': 1, 'earlier': 1, 'hemiblock': 2, 'replac': 1, 'lvot': 9, 'e': 2, 'region': 8, 'pcwp': 1, 'tissu': 1, 'fill': 1, 'tdi': 1, 'muscl': 2, 'prolaps': 5, 'papillari': 2, 'contractil': 3, 'elong': 2, 'ps': 8, 'mvp': 5, 'reflect': 1, 'infract': 1, 'qs': 1, 'deflect': 1, 'diminish': 1, 'control': 3, 'shorter': 1, 'also': 6, 'mean': 2, 'configur': 2, 'variat': 1, 'placement': 2, 'demand': 1, 'depolar': 1, 'slight': 2, 'resolv': 1, 'j': 1, 'appar': 2, 'point': 1, 'intermitt': 1, 'consider': 1, 'toward': 1, 'tendenc': 1, 'continu': 4, 'mar': 2, 'background': 1, 'obtain': 4, 'ij': 2, 'pneumothorax': 4, 'cavoatri': 1, 'project': 2, 'metastat': 1, 'desatur': 1, 'singl': 4, 'rll': 1, 'output': 1, 'patholog': 2, 'congest': 2, 'outflow': 1, 'failur': 2, 'obstruct': 1, 'paramet': 1, 'transaort': 1, 'arch': 2, 'excurs': 4, 'good': 4, 'defect': 6, 'vsd': 3, 'asd': 4, 'hypotens': 2, 'waveform': 1, 'silhouet': 1, 'opacif': 3, 'ard': 1, 'cathet': 3, 'diagnosi': 3, 'substanti': 1, 'vent': 1, 'picc': 3, 'phone': 1, 'cardiomediastin': 1, 'svc': 2, 'compat': 1, 'ett': 1, 'silhouett': 1, 'via': 1, 'ventil': 3, 'commun': 2, 'loss': 2, 'widespread': 1, 'hemidiaphragm': 1, 'criteria': 5, 'ventricujlar': 1, 'met': 3, 'superimpos': 1, 'scatter': 2, 'tent': 1, 'predominantli': 1, 'atyp': 2, 'deform': 1, 'upward': 2, 'unremark': 2, 'hiv': 2, 'overli': 2, 'linear': 1, 'incident': 1, 'known': 2, 'hx': 4, 'outsid': 2, 'interstiti': 1, 'biapic': 1, 'retract': 1, 'hila': 1, 'osh': 4, 'fibrosi': 3, 'mediastin': 4, 'bilat': 1, 'chronic': 4, 'favor': 2, 'diffiuclt': 1, 'pronounc': 1, 'place': 2, 'pmh': 2, 'ns': 1, 'yo': 2, 'troponin': 1, '@': 2, 'famili': 2, 'pulm': 1, 'fluid': 4, 'f': 1, 'asa': 1, 'enzym': 1, 'receiv': 1, 'resp': 3, 'nrb': 1, 'access': 1, 'hosp': 1, 'levofloxicin': 1, 'piv': 1, 'adm': 1, 'tylenol': 1, 'foley': 1, 'temp': 2, 'cpap': 2, 'transfer': 4, 'lasix': 1, 'resusit': 1, 'rr': 3, 'reciev': 1, 'mg': 2, '^': 1, 'cxr': 2, 'monitor': 2, 'code': 2, 'pt': 3, 'micu': 3, 'cc': 1, 'sidtress': 1, 'u': 1, 'direct': 1, 'eccentr': 1, 'bodi': 1, 'posteriorli': 1, 'jet': 1, \"'s\": 2, 'initi': 1, 'forc': 1, 'symptom': 2, 'ground': 1, 'glass': 1, 'airway': 1, 'coron': 1, 'transplant': 2, 'main': 2, 'lymphadenopathi': 1, 'intraven': 1, 'must': 1, 'patent': 1, 'distribut': 3, 'onset': 1, 'node': 1, 'sagitt': 1, 'doe': 1, 'base': 5, 'organ': 1, 'valu': 1, 'great': 1, 'x': 2, 'kkgc': 1, 'subsegment': 1, 'helic': 1, 'medial': 1, 'reformat': 1, 'air': 2, 'dashboard': 1, 'hilar': 2, 'chill': 1, 'bone': 1, 'mycobacteri': 1, 'pnemonia': 1, 'fungal': 1, 'bronchogram': 1, 'marrow': 1, 'portion': 1, 'depart': 1, 'two': 2, 'corrobor': 1, 'vessel': 1, 'bacteri': 1, 'mdct': 2, 'detect': 1, 'meet': 1, 'liver': 2, 'viral': 1, 'associ': 1, 'acquir': 2, 'axillari': 1, 'fri': 1, 'cont': 2, 'spleen': 1, 'ppd': 1, 'week': 1, 'done': 1, 'updat': 1, 'venetricular': 1, 'onc': 1, 'dyskinet': 1, 'telephon': 2, 'transesophag': 1, 'lad': 1, 'best': 1, 'thrombu': 3, 'dyskinesi': 1, 'distal': 4, 'cad': 2, 'hypo': 2, 'transmitr': 1, 'echocardiographi': 1, 'tee': 1, 'decel': 1, 'half': 1, 'interact': 1, 'ts': 2, 'support': 2, 'consequ': 1, 'vmyocardi': 1, 'aha': 2, 'blocker': 1, 'beta': 1, 'index': 2, 'min': 3, 'inhibitor': 1, 'prophylaxi': 3, 'data': 3, 'regard': 2, 'threshold': 1, 'cardiomyopathi': 1, 'implic': 2, 'decis': 2, 'benefit': 1, 'ace': 1, 'mildi': 2, 'rel': 1, 'need': 3, 'order': 1, 'physician': 1, 'correspond': 1, 'offic': 1, 'day': 3, 'thrombi': 1, 'apex': 1, 'hypoxoem': 1, 'inferosept': 1, 'upslop': 1, 'horizont': 1, 'sag': 1, 'embol': 3, 'interven': 1, 'minor': 1, 'acromioclavicular': 1, 'pneumo': 1, 'drainag': 1, 'came': 1, 'degen': 1, 'remot': 1, 'measur': 2, 'monday': 1, 'smaller': 1, 'schedul': 1, 'defin': 1, 'approxim': 2, 'joint': 1, 'drain': 2, 'ill': 1, 'pigtail': 1, 'redemonstr': 1, 'engorg': 1, 'remov': 2, 'concern': 2, 'h': 3, 'abscess': 1, 'rul': 1, \"'rul'ectomi\": 1, 'subcost': 1, 'coarctat': 1, 'vertic': 2, 'amount': 1, 'headach': 1, 'show': 2, 'metastas': 1, 'sulci': 1, 'aspf': 1, 'mri': 1, 'mon': 2, 'tini': 1, 'sequela': 1, 'relev': 1, 'visibl': 1, 'metastasi': 1, 'cancer': 1, 'reform': 1, 'multiplanar': 1, 'highli': 1, 'worrisom': 1, 'colonoscopi': 1, 'caraf': 1, 'stool': 1, 'nephrotoxin': 1, 'zosyn': 1, 'med': 1, 'deni': 2, 'inr': 1, 'octreotid': 1, 'home': 2, 'follow': 1, 'tap': 1, 'daili': 1, 'icu': 1, 'serosanguin': 1, 'tobacco': 1, 'omr': 1, 'neg': 1, 'cultur': 1, 'daughter': 1, 'lnc': 1, 'diet': 1, 'sound': 1, 'albumin': 1, 'sodium': 1, 'look': 1, 'wbc': 1, 'sister': 1, 'upto': 1, 'system': 1, 'endoscopi': 1, 'pierc': 1, 'appreci': 1, 'syndrom': 1, 'die': 1, 'nephrolithiasi': 1, 'mononuclear': 1, 'abl': 1, 'vacular': 1, 'prot': 1, 'thought': 1, 'prn': 1, 'iron': 1, 'sinusoid': 1, 'apoptot': 1, 'plan': 2, 'incras': 1, 'paracentesi': 1, 'carotid': 1, 'transfus': 1, 'neuro': 1, 'band': 1, 'hemachromatosi': 1, 'legionella': 1, 'work': 1, 'kg': 1, 'take': 1, 'ng': 1, 'alcohol': 1, 'devic': 1, 'vanc': 1, 'father': 1, 'g': 1, 'experienc': 1, 'resum': 1, 'notifi': 1, 'pit': 1, 'social': 1, 'hit': 1, 'replet': 1, 'infus': 1, 'sputum': 2, 'hypoact': 1, 'employ': 1, 'dose': 1, 'cr': 1, 'tf': 1, 'accept': 1, 'hfe': 1, 'midodrin': 1, 'mono': 1, 'inch': 1, 'hi': 1, 'pleasant': 2, 'htn': 1, 'rare': 1, 'girth': 1, 'radiolog': 1, 'cellul': 1, 'heparin': 1, 'mother': 1, 'heent': 1, 'heterozyg': 1, 'alb': 1, 'biopsi': 1, 'alt': 1, 'eom': 1, 'start': 1, 'balanc': 1, 'per': 3, 'skin': 1, 'flowsheet': 1, 'po': 1, 'plt': 1, 'hemodynam': 1, 'mmm': 1, 'bun': 1, 'sclera': 1, 'list': 1, 'sediment': 1, 'strength': 1, 'grade': 1, 'stabl': 1, 'trichrom': 1, 'jaundic': 1, 'crackl': 1, 'suppl': 1, 'rec': 2, 'contribut': 1, 'infrequ': 1, 'problem': 1, 'pet': 1, 'disposit': 1, 'ppi': 1, 'insp': 1, 'sensat': 1, 'lab': 1, 'glu': 1, 'brother': 1, 'tid': 1, 'sale': 1, 'sc': 1, 'wheez': 2, 'bm': 1, 'wound': 1, 'qid': 1, 'k': 1, 'aox': 1, 'approx': 1, 'prostat': 1, 'tear': 1, 'cryptogen': 1, 'alpha': 1, 'current': 2, 'afebril': 2, 'gram': 1, 'today': 2, 'pho': 1, 'vital': 1, 'soft': 1, 'renal': 1, 'avoid': 1, 'trend': 1, 'ml': 1, 'glycem': 1, 'biliari': 1, 'hap': 1, 'summari': 1, 'na': 1, 'epitheli': 1, 'hepatocyt': 1, 'dvt': 1, 'aliv': 1, 'cipro': 1, 'ciprofloxacin': 1, 'intact': 1, 'pd': 1, 'cirrhosi': 1, 'past': 1, 'nasal': 1, 'illicit': 1, 'abdomin': 1, 'dilaudid': 1, 'ppx': 1, 'neck': 1, 'warm': 1, 'physic': 1, 'serum': 1, 'admiss': 1, 'flank': 1, 'eo': 1, 'malign': 1, 'hep': 2, 'establish': 1, 'taken': 1, 'self': 1, 'spo': 1, 'antibiot': 2, 'inflamm': 1, 'ca': 1, 'neut': 1, 'turbid': 1, 'confirm': 2, 'use': 1, 'deliveri': 2, 'fen': 1, 'antitrypsin': 1, 'jpg': 1, 'abd': 1, 'floor': 1, 'arriv': 2, 'anicter': 1, 'varic': 1, 'asterixi': 1, 'distend': 1, 'us': 1, 'hpi': 1, 'chylothorax': 1, 'gerd': 1, 'bicarb': 1, 'nutrit': 1, 'oral': 1, 'chief': 1, 'extrem': 1, 'amylas': 1, 'nontend': 1, 'nephew': 1, '{': 1, 'dl': 1, 'bowel': 1, 'blood': 1, 'feet': 1, 'lyte': 1, 'ulcer': 1, 'hour': 2, 'creatinin': 1, 'endarterectomi': 1, 'healthi': 1, 'ua': 1, 'pain': 2, 'jvp': 1, 'hepatoren': 1, 'cor': 1, 'gentleman': 1, 'gaug': 1, 'slip': 1, 'ast': 1, 'alk': 1, 'creatin': 1, 'stain': 1, 'urin': 1, 'abras': 1, 'b': 1, 'bili': 1, 'prilosec': 1, 'vap': 1, 'lymph': 1, 'total': 1, 'stress': 1, 'lactulos': 1, 'hct': 1, 'ul': 1, '}': 1, 'ivf': 1, 'complaint': 1, 'lipas': 1, 'recurr': 1, 'dispo': 1, 'cl': 1, 'cell': 1, 'verbal': 1, 'cannula': 1, 'vitamin': 1, 'ext': 1, 'deposit': 1, 'elbow': 1, 'allergi': 1, 'overnight': 1, 'command': 1, 'steatosi': 1, 'tattoo': 1, 'fine': 1, 'inflow': 1, 'paradox': 1, 'relax': 1, 'impair': 1, 'flat': 1, 'noteworthi': 1, 'correct': 1, 'copd': 1, 'dehydr': 1, 'perivascular': 1, 'anoth': 1, 'assum': 1, 'develop': 1, 'advanc': 1, 'preced': 1, 'tipp': 1, 'exchang': 1, 'express': 1, 'cavit': 1, 'cavitari': 1, 'femal': 1, 'thank': 1, 'check': 1, 'eagg': 1, 'institut': 1, 'intra': 1, 'unstabl': 1, 'pht': 1, 'pneumonectomi': 1, 'fib': 1, 'minut': 1, 'one': 1, 'wander': 1, 'wire': 1, 'extend': 1, 'action': 1, 'iliac': 1, 'neb': 1, 'adjust': 1, 'mask': 1, 'stand': 1, 'lg': 1, 'knee': 1, 'hematoma': 1, 'emot': 1, 'cd': 1, 'assist': 1, 'scrape': 1, 'rhonchi': 1, 'comfort': 1, 'allow': 1, 'tx': 1, 'bactrim': 1, 'fall': 1, 'burn': 1, 'speaker': 1, 'scrap': 1, 'hypoxia': 1, 'restrict': 1, 'snd': 1, 'intracardiac': 1, 'attempt': 1, 'orient': 1, 'speak': 1, 'visit': 1, 'neuromuscular': 1, 'ed': 1, 'historian': 1, 'walker': 1, 'retroperiton': 1, 'accid': 1, 'green': 1, 'sr': 1, 'translat': 1, 'intern': 1, 'inhal': 1, 'nurs': 1, 'humidifi': 1, 'kitchen': 1, 'anxieti': 1, 'shunt': 1, 'dx': 1, 'graft': 1, 'solumedrol': 1, 'coil': 1, 'requir': 1, 'accompani': 1, 'back': 1, 'pancytopenia': 1, 'rebreath': 1, 'hob': 1, 'bronchiectasi': 1, 'sentenc': 1, 'stay': 1, 'ask': 1, 'friend': 1}, 'pneumonia_alive': {'#': 420, 'previou': 847, 'compar': 505, 'sinu': 816, 'tachycardia': 372, 'trace': 920, 'faster': 59, 'rate': 265, 'heart': 118, 'anterior': 158, 'fascicular': 93, 'v': 130, 'occur': 4, 'myocardi': 154, 'prior': 159, 'left': 464, 'infarct': 167, 'exclud': 68, 'deviat': 117, 'interv': 135, 'progress': 106, 'qr': 100, 'p': 79, 'poor': 70, 'r': 207, 'suggest': 236, 'rhythm': 476, 'current': 22, 'case': 3, 'block': 194, 'clinic': 228, 'like': 72, 'variabl': 3, 'morpholog': 8, 'anterosept': 39, 'appear': 101, 'wa': 73, 'wave': 484, 'supraventricular': 23, 'lead': 258, 'multifoc': 21, 'axi': 183, 'top': 13, 'correl': 187, 'seen': 158, 'due': 82, 'atrial': 412, 'voltag': 156, 'onli': 7, 'hypertrophi': 121, 'sinc': 276, 'signific': 185, 'chang': 530, 'nonspecif': 71, 'st': 379, 'ventricular': 361, 'age': 45, 'longer': 38, 'indetermin': 45, 'inferior': 135, 'diffus': 112, 'segment': 82, 'appreci': 15, 'sustain': 3, 'non': 291, 'specif': 240, 'resolv': 23, 'flutter': 17, 'branch': 121, 'possibl': 152, 'right': 307, 'undetermin': 17, 'later': 135, 'bundl': 121, 'absent': 32, 'incomplet': 20, 'prematur': 135, 'q': 87, 'prolong': 74, 'beat': 99, 'immunocompromis': 2, 'carinii': 1, 'indic': 152, 'increas': 148, 'thi': 176, 'radiograph': 66, 'compat': 8, 'man': 71, 'tissu': 22, 'year': 125, 'effus': 165, 'evalu': 58, 'unremark': 36, 'examin': 140, '&': 54, 'vascular': 28, '(': 209, 'condit': 136, 'cough': 39, 'find': 199, 'size': 113, 'within': 71, 'pneumothorax': 56, 'lat': 49, 'old': 146, 'pulmonari': 117, 'interstiti': 13, 'much': 6, 'host': 1, 'normal': 290, 'bilater': 47, 'revis': 2, 'chest': 133, 'soft': 23, 'pa': 98, 'failur': 24, 'report': 150, 'mediastin': 44, ')': 211, 'male': 21, 'clip': 134, 'final': 135, 'structur': 58, 'medic': 141, 'pneumocysti': 2, 'infiltr': 40, 'reason': 137, 'opac': 70, 'osseou': 22, 'set': 16, 'limit': 92, 'wors': 8, 'impress': 156, 'pneumonia': 106, 'pm': 108, 'evid': 63, 'pcp': 4, 'contour': 45, 'pleural': 94, 'parenchym': 8, 'fever': 51, 'ecg': 30, 'new': 105, 'complex': 42, 'present': 155, 'difficult': 68, 'probabl': 147, 'baselin': 120, 'assess': 60, 'make': 33, 'mark': 46, 'rbbb': 5, 'invers': 36, 'avl': 28, 'abnorm': 327, 'qs': 7, 'major': 23, 'conduct': 75, 'fibril': 146, 'defect': 22, 'intraventricular': 38, 'less': 59, 'cardiomediastin': 13, 'woman': 46, 'short': 54, 'ga': 5, 'slight': 23, 'hilar': 39, 'eval': 44, 'previous': 28, 'atelectasi': 34, 'costophren': 11, 'clear': 55, 'stomach': 9, 'breath': 45, 'angl': 10, 'pna': 54, 'secret': 9, 'distend': 3, 'lower': 75, 'sob': 21, 'al': 2, 'thicken': 57, 'unchang': 31, 'repres': 33, 'describ': 10, 'difficulti': 3, 'comparison': 285, 'lobe': 60, 'stabl': 21, 'modest': 33, 'avail': 184, 'date': 117, 'ischem': 10, 'depress': 51, 'earlier': 20, 'ha': 155, 'given': 39, 'way': 4, 'may': 120, 'could': 45, 'si': 1, 'ween': 1, 'overload': 13, 'ischemia': 64, 'diagnost': 163, 'anterolater': 40, 'pattern': 47, 'etc': 7, 'rapid': 61, 'vertic': 4, 'artifact': 135, 'state': 5, 'respons': 79, 'somewhat': 17, 'repolar': 56, 'averag': 3, 'slower': 32, 'mar': 3, 'character': 3, 'dens': 14, 'lung': 107, 'fluid': 16, 'track': 3, 'entir': 6, 'along': 9, 'base': 41, 'small': 56, 'low': 167, 'opacif': 24, 'pressur': 41, 'blood': 16, 'motion': 62, 'repeat': 20, 'portabl': 117, 'involv': 17, 'singl': 30, 'upper': 48, 'studi': 86, 'rotat': 8, 'mildli': 60, 'enlarg': 59, 'hydropneumothorax': 2, 'respiratori': 34, 'apex': 20, 'recommend': 31, 'patient': 113, 'ap': 73, 'dedic': 1, 'view': 63, 'extrem': 11, 'flatten': 30, 'extens': 23, 'nondiagnost': 3, 'note': 68, 'strain': 7, 'consid': 94, 'mild': 91, 'borderlin': 77, 'delay': 101, 'fast': 4, 'ectopi': 59, 'consider': 9, 'promin': 87, 'frequent': 21, 'quit': 5, 'syndrom': 7, 'rais': 23, 'underli': 35, 'becaus': 6, 'sequenti': 4, 'sens': 5, 'pace': 53, 'get': 6, 'pmh': 5, 'stool': 9, 'yo': 10, 'site': 5, 'inflitr': 1, 'desat': 2, 'alert': 7, 'knee': 1, 'gi': 8, 'access': 8, 'void': 3, 'smicu': 1, 'deni': 8, 'foley': 8, 'thoughout': 1, 'leg': 5, 'pta': 2, 'dime': 1, 'nc': 7, 'shoulder': 2, 'reciev': 1, 'nausea': 9, 'hypertens': 34, 'wheez': 4, 'replac': 16, 'neg': 6, 'move': 4, 'movement': 5, 'veri': 16, 'cultur': 7, 'time': 81, 'doe': 13, 'hypoxia': 18, 'bp': 73, 'bowel': 12, 'sound': 15, \"''\": 7, 'afebril': 5, 'multipl': 24, 'arm': 9, 'orient': 8, 'red': 2, 'pain': 23, 'area': 22, 'sat': 15, '%': 70, 'detail': 5, 'good': 21, 'lt': 2, 'expiratori': 1, 'bs': 4, 'coccyx': 1, 'terribl': 1, 'hr': 73, 'mid': 37, 'product': 12, 'abdomen': 13, 'vomit': 7, 'osteo': 1, 'cardiac': 49, 'hx': 12, 'transfer': 13, 'see': 14, 'complaint': 8, 'without': 45, 'skin': 11, '``': 7, 'pt': 13, 'admiss': 13, 'frozen': 1, 'abl': 2, 'cc': 12, 'admit': 39, 'mastectomi': 1, 'last': 17, 'extremitti': 1, 'place': 17, 'cours': 9, 'angio': 1, 'forearm': 1, 'l': 18, 'resp': 11, 'hpa': 1, 'yesterday': 5, 'intermitt': 5, \"'s\": 29, 'fhpa': 1, 'antibiot': 11, 'bilat': 1, 'lasix': 1, 'broken': 1, 'rt': 3, 'eccymot': 1, 'tegaderm': 1, 'nsg': 3, 'id': 3, 'neuro': 6, 'earli': 47, 'simul': 1, 'wall': 87, 'tremor': 1, 'somat': 1, 'hemiblock': 4, 'margin': 4, 'howev': 23, 'avf': 23, 'biphas': 2, 'improv': 25, 'iii': 23, 'record': 16, 'ii': 22, 'transit': 56, 'late': 38, 'document': 6, 'consolid': 50, 'focal': 41, 'consist': 82, 'resolut': 14, 'follow': 18, 'precordium': 3, 'leftward': 28, 'technic': 79, 'patchi': 22, 'obtain': 35, 'infect': 19, 'perihilar': 14, 'versu': 11, 'greater': 11, 'film': 7, 'surround': 3, 'show': 17, 'hazi': 7, 'edema': 41, 'airspac': 15, 'treatment': 12, 'larg': 28, 'otherwis': 102, 'rightward': 18, 'bradycardia': 28, 'primari': 10, 'qtc': 15, 'statu': 87, 'level': 57, 'concern': 21, 'vasculatur': 11, 'cardiomegali': 7, 'tip': 32, 'obes': 6, 'trach': 2, 'tracheostomi': 12, 'retrocardiac': 10, 'ptx': 3, 'tube': 28, 'hypox': 3, 'moder': 68, 'residu': 2, 'also': 49, 'clavicl': 4, 'post': 17, 'upright': 23, 'cathet': 14, 'overli': 11, 'field': 17, 'asymmetr': 6, 'recent': 29, 'venticuloperiton': 1, 'shunt': 4, 'side': 26, 'travers': 1, 'includ': 42, 'diseas': 40, 'tc': 6, 'accompani': 3, 'definit': 24, 'relat': 24, 'part': 19, 'evolut': 7, 'acut': 57, 'amplitud': 18, 'inferolater': 27, 'junction': 15, 'cannoit': 1, 'trigemin': 1, 'quadrigemin': 1, 'limb': 80, 'higher': 4, 'type': 9, 'appar': 17, 'rest': 49, 'first': 17, 'degre': 27, 'qualiti': 71, 'dyspnea': 10, 'collaps': 12, 'zone': 10, 'curvilinear': 1, 'rule': 17, 'physiolog': 32, 'combin': 10, 'slightli': 30, 'voiltag': 1, 'plu': 4, 'second': 5, 'pre': 2, 'cor': 1, 'excit': 3, 'peak': 7, 'pulmonal': 1, 'vi': 10, 'tall': 3, 'fulfil': 2, 'millimet': 2, 'wander': 3, 'analyz': 2, 'criteria': 8, 'precordi': 92, 'supraventricularrhythm': 1, 'ectop': 15, 'process': 40, 'fusion': 2, 'fairli': 1, 'narrow': 6, 'width': 4, 'spike': 3, 'decreas': 49, 'rhyth': 1, 'interim': 56, 'discrib': 1, 'configur': 9, 'posterior': 16, 'pr': 32, 'run': 1, 'pat': 1, 'extrasystol': 4, 'chf': 15, 'effuion': 1, 'histori': 73, 'asp': 2, 'air': 24, 'peg': 4, 'room': 2, 'aorta': 61, 'tortuou': 5, 'remaind': 4, 'cva': 4, 'illdefin': 1, 'distress': 14, 'bronchogram': 5, 'hemorrhag': 13, 'rel': 12, 'followup': 14, 'ard': 2, 'diagnosi': 33, 'spar': 1, 'atyp': 10, 'differenti': 8, 'although': 41, 'slow': 18, 'convex': 4, 'center': 2, 'scoliosi': 5, 'infil': 1, 'thorac': 18, 'lesser': 3, 'extent': 8, 'pneumon': 5, 'portion': 10, 'spine': 11, 'two': 13, 'middl': 9, 'pvc': 1, 'omit': 1, 'analysi': 6, 'faulti': 1, 'distinct': 2, 'barocat': 1, 'procedur': 7, 'hour': 20, 'baracat': 1, 'identifi': 21, 'ct': 45, 'servic': 5, 'subsequ': 6, 'well': 55, 'aspir': 19, 'n': 8, 'drink': 1, 'continu': 15, 'pacemak': 11, 'regular': 17, 'tn': 1, 'biatrial': 14, 'septal': 41, 'partli': 6, 'chronic': 27, 'cardio': 1, 'superimpos': 5, 'symmetr': 27, 'silhouett': 25, 'c': 36, 'remain': 25, 'return': 6, 'common': 2, 'color': 66, 'superfici': 2, 'none': 85, 'dvet': 1, 'thrombu': 6, 'thrombosi': 1, 'compress': 8, 'poplit': 2, 'wet': 22, 'unilat': 1, 'sun': 4, 'ext': 3, 'femor': 2, 'intralumin': 1, 'swell': 1, 'clot': 1, 'sga': 2, 'imag': 76, 'demonstr': 16, 'ultrasound': 3, 'read': 24, 'augment': 1, 'vein': 7, 'deep': 3, 'waveform': 1, 'doppler': 66, 'variant': 22, 'pericard': 4, 'mean': 8, 'h': 15, 'would': 10, 'mass': 22, 'plaqu': 1, 'calcif': 37, 'alveolar': 4, 'asbesto': 1, 'hemidiaphragm': 8, 'engorg': 4, 'congest': 24, 'mrsa': 2, 'exposur': 2, 'approxim': 6, 'minut': 9, 'per': 19, 'critria': 1, 'occasion': 23, 'rod': 2, 'seizur': 4, 'space': 7, 'minim': 21, 'sz': 2, 'round': 6, 'persist': 33, 'lucenc': 2, 'cavit': 4, 'rll': 6, 'palsi': 3, 'cxr': 19, 'similar': 40, 'question': 18, 'cerebr': 4, 'symptom': 7, 'tmax': 7, 'neb': 6, 'enzym': 3, 'complain': 3, 'elev': 33, 'neurolog': 4, 'paralyz': 1, 'inr': 2, 'rr': 8, 'home': 10, 'yellow': 4, 'icu': 8, 'tobacco': 6, 'consult': 7, 'help': 5, 'natur': 3, 'beam': 1, 'eye': 4, 'lnc': 2, 'diet': 6, 'nodul': 5, 'adriamycin': 1, 'metastat': 4, 'worsen': 19, 'gentl': 1, 'tarceva': 1, 'pmi': 1, 'discuss': 15, 'look': 4, 'sodium': 3, 'uf': 3, '[': 41, 'wbc': 4, 'ms': 17, 'tone': 4, 'expans': 4, 'curv': 2, 'peripher': 7, 'qd': 2, 'come': 2, 'system': 7, 'known': 8, 'instruct': 1, 'thin': 6, 'sure': 1, 'xeloda': 1, 'penicillin': 3, 'weight': 65, 'bank': 1, 'fatigu': 4, 'mg': 6, 'day': 21, 'tender': 9, 'ladi': 1, 'sle': 1, 'plan': 13, 'white': 6, 'thymoma': 1, 'factor': 4, 'nose': 4, 'volum': 26, 'complet': 60, 'sq': 5, 'sp': 1, 'mention': 4, 'ipratropium': 3, 'dri': 5, 'metastas': 3, 'attent': 5, 'famili': 9, 'throat': 6, 'work': 5, 'systol': 67, 'oxygen': 11, 'headach': 4, 'cisplatin': 1, 'ng': 11, 'wast': 2, 'prednison': 3, 'alcohol': 7, 'devic': 5, 'osmol': 1, 'vanc': 2, 'code': 6, 'reaction': 2, 'autoimmun': 1, 'children': 1, 'rash': 6, 'review': 36, 'min': 14, 'lul': 3, 'pleura': 2, 'social': 9, 'cytoxan': 1, 'weekli': 1, 'prophylaxi': 14, 'microscop': 1, 'extern': 2, 'infus': 7, 'sputum': 10, 'ove': 1, 'dose': 7, 'tf': 6, 'siadh': 2, 'darker': 1, 'paclitaxel': 1, 'rise': 1, 'conjunctiva': 3, 'radiolog': 8, 'develop': 8, 'heparin': 5, 'though': 9, 'vs': 6, 'comment': 49, 'ammonia': 1, 'defer': 1, 'balanc': 6, 'muscl': 14, 'ideal': 3, 'flowsheet': 6, 'heme': 2, 'po': 9, 'hemodynam': 6, 'count': 1, 'mani': 2, 'sclera': 3, 'quadrant': 4, 'inflammatori': 3, 'liver': 9, 'grade': 11, 'requir': 11, 'colac': 2, 'potsasium': 1, 'integumentari': 3, 'check': 7, 'jaundic': 2, 'radial': 6, 'diabet': 2, 'chef': 1, 'crackl': 6, 'droop': 2, 'simpl': 8, 'high': 11, 'caus': 8, 'lft': 3, 'beeen': 1, 'thick': 41, 'line': 20, 'disposit': 6, 'hyponatremia': 2, 'say': 2, 'insp': 6, 'lab': 8, 'hospic': 1, 'temp': 4, 'full': 53, 'slowli': 1, 'normocephal': 4, 'murmur': 6, 'drop': 4, 'care': 21, 'data': 17, 'serolog': 1, 'offer': 1, 'water': 1, 'restrict': 3, 'cpr': 1, 'ear': 8, 'gram': 2, 'brbpr': 1, 'vital': 6, 'intub': 18, 'carboplatin': 1, 'trend': 3, 'ml': 9, 'glycem': 6, 'southern': 1, 'empir': 1, 'monitor': 11, 'dvt': 6, 'rescucit': 1, 'ns': 7, 'cachect': 1, 'mouth': 2, 'flare': 1, 'past': 7, 'plasmapheresi': 2, 'er': 5, 'head': 19, 'drain': 7, 'nasal': 4, 'radiat': 4, 'thoracentesi': 3, 'abdomin': 12, 'warm': 4, 'lb': 62, 'physic': 6, 'icter': 1, 'tcurrent': 6, 'musculoskelet': 3, 'one': 8, 'cycl': 5, ']': 42, 'bandemia': 2, 'onc': 3, 'month': 5, 'strip': 2, 'dp': 4, 'obstruct': 3, 'lpm': 1, 'bell': 1, 'contact': 8, 'receiv': 7, 'mmhg': 23, 'gener': 60, 'commun': 10, 'loss': 12, 'malign': 3, 'bpm': 67, 'synthet': 1, 'husband': 1, 'spo': 9, 'meq': 2, 'week': 9, 'ani': 7, 'use': 13, 'deliveri': 4, 'function': 66, 'hepat': 6, 'iv': 38, 'manag': 4, 'jpg': 6, 'e': 13, 'arriv': 11, 'drug': 9, 'taper': 2, 'sign': 19, 'therapeut': 1, 'initi': 8, 'constitut': 4, 'observ': 4, 'regimen': 3, 'lid': 1, 'steroid': 2, 'control': 18, 'team': 2, 'hpi': 6, 'diplopia': 1, 'levaquin': 2, 'must': 2, 'albuterol': 3, 'nutrit': 6, 'chief': 6, 'argu': 1, 'myasthenia': 1, '{': 9, 'puls': 13, 'alimta': 1, 'lyte': 2, 'ulcer': 7, 'cellcept': 1, 'send': 2, 'plasma': 1, 'gaug': 5, 'call': 13, 'urin': 11, 'ed': 12, 'levofloxacin': 8, 'resect': 3, 'leukocytosi': 5, 'marri': 1, 'tomorrow': 2, 'oncologist': 1, 'perrl': 4, 'cardiovascular': 4, 'vap': 5, 'hyponatrem': 1, 'piv': 6, 'total': 7, 'stress': 6, 'respond': 4, 'lactulos': 1, 'seek': 1, 'go': 3, '}': 9, 'etiolog': 10, 'ivf': 9, 'found': 7, 'lack': 2, 'impair': 6, '@': 3, 'occup': 5, 'cell': 9, 'neutrophil': 2, 'tachypnea': 4, 'emerg': 11, 'treat': 8, 'cannula': 3, 'free': 64, 'allergi': 9, 'overnight': 3, 'neoadjuv': 1, 'doxil': 1, 'diarrhea': 5, 'cancer': 9, 'command': 5, 'diagnos': 6, 'need': 15, 'suppress': 1, 'might': 3, 'taxol': 1, 'pictur': 3, 'echo': 29, 'focus': 15, 'la': 51, 'visual': 30, 'lvef': 56, 'dilat': 55, 'suboptim': 37, 'conclus': 67, 'atrium': 62, 'test': 66, 'caviti': 61, 'deoress': 1, 'mr': 50, 'annular': 26, 'hg': 64, 'interatri': 54, 'tricuspid': 60, 'pericardium': 65, 'window': 20, 'lvh': 19, 'septum': 56, 'arteri': 64, 'pulmon': 39, 'mitral': 61, 'bioprosthet': 2, 'least': 8, 'ra': 50, 'tte': 63, 'contrast': 92, 'leaflet': 59, 'mm': 76, 'sever': 36, 'ventricl': 74, 'pericardi': 66, 'broadli': 1, 'shadow': 8, 'inpati': 63, 'gradient': 36, 'valv': 62, 'lv': 53, 'surgeri': 9, 'adequ': 45, 'bsa': 58, 'rv': 56, 'significantli': 13, 'prosthesi': 2, 'interpret': 74, 'regurgit': 58, 'acoust': 8, 'height': 59, 'contractil': 12, 'underestim': 9, 'aortic': 66, 'inform': 68, 'avr': 3, 'bigemini': 3, 'discern': 2, 'ativ': 1, 'flow': 12, 'calcifi': 13, 'region': 51, '>': 49, 'trivial': 38, 'chamber': 47, 'stenosi': 45, 'elong': 8, 'kyphosi': 2, 'satur': 6, 'suspect': 1, 'result': 11, 'deminer': 1, 'fractur': 13, 'keep': 3, 'frontal': 24, 'obscur': 16, 'wedg': 5, 'posit': 54, 'chin': 2, 'vessel': 8, 'pronounc': 12, 'posteriorli': 2, 'subtl': 6, 'associ': 21, 'lvot': 32, 'tr': 49, 'fulli': 17, 'excurs': 16, 'ar': 48, 'ascend': 40, 'unavail': 6, 'diamet': 48, 'overal': 35, 'root': 22, 'invert': 4, 'placement': 21, 'differ': 12, 'sternum': 1, 'uncertain': 15, 'addit': 16, 'order': 7, 'physician': 4, 'correspond': 5, 'offic': 3, 'diastol': 15, 'echocardiograph': 21, 'brief': 3, 'circumferenti': 8, 'tamponad': 13, 'variat': 8, 'reflect': 5, 'bibasilar': 9, 'subclavian': 7, 'indistinct': 3, 'picc': 5, 'compon': 8, 'beyond': 1, 'copd': 3, 'brachiocephal': 2, 'supin': 5, 'exam': 22, 'multilobar': 4, 'aerat': 10, 'adjac': 10, 'throughout': 17, 'hemithorax': 9, 'asthma': 1, 'hypercarb': 1, 'delin': 2, 'bodi': 14, 'third': 2, 'habitu': 8, 'techniqu': 35, 'osh': 15, 'hypercarbia': 1, 'morbid': 1, 'provid': 10, 'w': 48, 'except': 10, 'minor': 15, 'organ': 4, 'coexist': 1, 'superior': 13, 'clavicular': 1, 'local': 2, 'superiorli': 2, 'carina': 12, 'esophagu': 3, 'cholecystectomi': 2, 'endotrach': 9, 'defin': 4, 'basilar': 14, 'ett': 7, 'ill': 6, 'context': 3, 'suspici': 8, 'abov': 24, 'enter': 2, 'coil': 1, 'cm': 34, 'back': 3, 'proxim': 4, 'dr': 15, 'dx': 1, 'pulm': 4, 'today': 15, 'grossli': 7, 'recurr': 5, 'heterogen': 3, 'nonion': 3, 'celiac': 1, 'optiray': 4, 'pancrea': 2, 'phase': 1, 'contraind': 26, 'lytic': 4, 'symphysi': 1, 'coron': 6, 'allow': 3, 'patent': 5, 'parapelv': 1, 'oral': 5, 'lesion': 11, 'sagitt': 6, 'optim': 2, 'kidney': 4, 'pubi': 1, 'degen': 8, 'axial': 14, 'wed': 2, 'loop': 3, 'patholog': 8, 'lumbar': 2, 'amt': 6, 'gallbladd': 2, 'reconstruct': 4, 'bone': 12, 'bladder': 1, 'adren': 2, 'gland': 2, 'administr': 7, 'mesenter': 1, 'sclerot': 5, 'pelvi': 3, 'cyst': 2, 'spleen': 3, 'rare': 4, 'diagost': 1, 'secondari': 21, 'mwave': 1, 'paus': 1, 'account': 1, 'unsuit': 2, 'aha': 8, 'metabol': 7, 'regard': 10, 'embolu': 8, 'risk': 5, 'biventricular': 11, 'decis': 8, 'hypokinesi': 22, 'endocard': 9, 'toxin': 2, 'hypotens': 13, 'cad': 9, 'global': 28, 'estim': 25, 'satisfactori': 1, 'pleurit': 2, 'hort': 1, 'calib': 1, 'inlet': 3, 'airway': 6, 'emboli': 2, 'recon': 1, 'lymphadenopathi': 6, 'bronchi': 2, 'equal': 2, 'malb': 1, 'valu': 1, 'tue': 4, 'essenti': 2, 'pe': 7, 'ionic': 3, 'fill': 9, 'visapaqu': 1, 'cta': 4, 'mpr': 1, 'perform': 29, 'visipaqu': 1, 'embol': 5, 'mdct': 4, 'spondylolisthesi': 1, 'administ': 7, 'anatomi': 1, 'acquir': 9, 'axillari': 2, 'cont': 8, 'inject': 5, 'bolu': 7, 'contigu': 9, 'arrhythmia': 9, 'tachi': 3, 'latter': 1, 'mechan': 18, 'inflow': 6, 'basal': 27, 'akinesi': 12, 'veloc': 6, 'akinet': 13, 'apic': 18, 'dysfunct': 15, 'wire': 7, 'hypo': 11, 'transmitr': 6, 'inferosept': 6, 'attach': 3, 'correctli': 1, 'k': 1, 'ij': 4, 'cd': 1, 'hiv': 9, 'central': 10, 'vl': 1, 'arf': 2, 'svc': 7, 'venou': 6, 'hi': 8, 'sex': 1, 'revers': 5, 'hardwar': 3, 'cervic': 6, 'crackel': 1, 'shift': 17, 'toward': 2, 'surgic': 4, 'partial': 13, 'hospit': 9, 'outsid': 7, 'amount': 9, 'sinus': 12, 'inner': 1, 'midlin': 14, 'cerumen': 2, 'bleed': 8, 'unrespons': 2, 'canal': 2, 'scan': 7, 'microvascular': 3, 'sulci': 6, 'periventricular': 3, 'lacun': 3, 'maxillari': 4, 'medial': 3, 'ethmoid': 2, 'preserv': 15, 'matter': 5, 'mucos': 5, 'paranas': 8, 'intracrani': 8, 'shorter': 6, 'g': 6, 'telephon': 5, 'mv': 1, 'cardiogen': 3, 'houseoffic': 4, 'implic': 7, 'constel': 1, 'shock': 5, 'papillari': 10, 'annuloplasti': 2, 'transaort': 1, 'ring': 2, 'end': 4, 'drainag': 4, 'asssess': 1, 'rectum': 1, 'collect': 3, 'creatinin': 1, 'helic': 3, 'retroperiton': 1, 'b': 6, 'bump': 1, 'point': 8, 'distal': 15, 'hct': 5, 'uret': 1, 'unopacifi': 1, 'adnex': 1, 'hematocrit': 1, 'abscess': 5, 'creat': 1, 'percutan': 1, 'perc': 1, 'psoa': 1, 'intraperiton': 1, 'contract': 20, 'aberr': 5, 'disturb': 2, 'int': 1, 'horizont': 1, 'frankli': 2, 'arch': 18, 'prolaps': 23, 'inferi': 1, 'postur': 1, 'mandibl': 2, 'nasogastr': 6, 'dictat': 2, 'hyperluc': 1, 'feasibl': 4, 'project': 6, 'distort': 2, 'standard': 8, 'warrant': 2, 'th': 1, 'swegment': 1, 'downslop': 3, 'metal': 4, 'stroke': 1, 'better': 8, 'densiti': 6, 'qt': 2, 'fine': 2, 'destruct': 1, 'expand': 1, 'breat': 1, 'ro': 3, 'mainli': 2, 'cabg': 3, 'scatter': 5, 'predominantli': 4, 'contain': 4, 'thoracotomi': 1, 'intraven': 6, 'node': 4, 'great': 2, 'colon': 2, 'ascit': 1, 'debil': 1, 'sternotomi': 3, 'median': 1, 'attenu': 1, 'foci': 5, 'lymph': 5, 'bubbl': 1, 'materi': 4, 'infecti': 8, 'thoracoscopi': 1, 'metastasi': 2, 'parapneumon': 1, 'presenc': 8, 'innumer': 1, 'ca': 8, 'ethiodol': 1, 'empyema': 1, 'digitali': 1, 'clockwis': 1, 'deeper': 1, 'gastrostomi': 1, 'smaller': 4, 'rul': 4, 'nodular': 4, 'hilum': 3, 'lobul': 1, 'reverst': 1, 'configuratioj': 1, 'chorda': 14, 'number': 5, 'fellow': 8, 'cardiolog': 8, 'determin': 16, 'diphas': 1, 'atrio': 6, 'reduc': 6, 'coanda': 1, 'fail': 2, 'hypokinet': 2, 'coapt': 2, 'transesophag': 1, 'congenit': 2, 'effect': 15, 'veget': 3, 'bicuspid': 1, 'eccentr': 2, 'ventil': 12, 'hyperdynam': 5, 'hypocontractil': 1, 'jet': 2, 'ef': 6, 'mvp': 20, 'coarctat': 8, 'distens': 1, 'jugular': 8, 'tract': 5, 'outflow': 3, 'secundum': 1, 'insignific': 1, 'tape': 1, 'patiernt': 1, 'wider': 3, 'long': 5, 'electrolyt': 5, 'measur': 12, 'activ': 8, 'et': 6, 'benefit': 3, 'via': 8, 'electrod': 3, 'absenc': 2, 'lie': 3, 'attempt': 2, 'blunt': 4, 'exagger': 3, 'humer': 2, 'ray': 6, 'femal': 13, 'x': 19, 'plate': 1, 'screw': 1, 'irregular': 6, 'sag': 1, 'tachycard': 6, 'irregularli': 1, 'tvi': 3, 'relax': 5, 'tongu': 1, 'action': 3, 'ew': 3, 'anox': 1, 'ago': 4, 'resid': 2, 'vt': 1, 'ablat': 1, 'pea': 1, 'cefapim': 1, 'bronch': 1, 'encephalopathi': 1, 'teeth': 3, 'bite': 1, 'granul': 1, 'extract': 2, 'levo': 3, 'arrest': 1, 'brain': 7, 'done': 6, 'nh': 2, 'injuri': 3, 'damag': 2, 'near': 7, 'evolv': 4, 'ground': 3, 'glass': 3, 'scar': 4, 'six': 1, 'onset': 3, 'protocol': 1, 'boul': 1, 'abroad': 1, 'aquir': 2, 'five': 2, 'linear': 3, 'discret': 2, 'ensur': 4, 'ctu': 1, 'accord': 3, 'episod': 4, 'travel': 1, 'reformat': 6, 'hypersensit': 1, 'pneumothorac': 2, 'stay': 1, 'confirm': 4, 'multiplanar': 5, 'intraarteri': 1, 'chart': 1, 'hand': 3, 'pleas': 19, 'written': 1, 'frequenc': 3, 'mostli': 1, 'appropri': 7, 'ventilatori': 3, 'support': 14, 'carevu': 1, 'tan': 2, 'awak': 3, 'abg': 4, 'reveal': 3, 'suction': 3, 'close': 3, 'markedli': 10, 'inferiorli': 5, 'esophagogastr': 1, 'massiv': 1, 'port': 7, 'cardiopulmonari': 6, 'fungal': 1, 'extend': 8, 'unlikey': 1, 'necessari': 1, 'substanti': 4, 'quantifi': 4, 'excel': 1, 'particularli': 6, 'med': 3, 'rml': 5, 'parenchyma': 1, 'cavitari': 3, 'pseudonorm': 2, 'four': 1, 'bacteri': 4, 'pnm': 1, 'distribut': 3, 'teen': 1, 'mask': 1, 'floor': 6, 'sent': 7, 'recov': 1, 'insulin': 2, 'take': 6, 'held': 1, 'made': 11, 'aros': 1, 'pill': 1, 'ausc': 1, 'gu': 5, 'subsid': 1, 'dure': 11, 'sbp': 5, 'night': 4, 'md': 5, 'somnul': 1, 'whz': 1, 'visit': 2, 'pleasant': 1, 'u': 5, 'atr': 1, 'titrat': 2, 'befor': 5, 'alb': 1, 'nurs': 6, 'ditropan': 1, 'gtt': 1, 'upon': 5, 'awar': 1, 'pend': 5, 'tol': 1, 'turn': 1, 'taken': 2, 'arous': 2, 'card': 1, 'bipap': 2, 'friend': 1, 'makest': 1, 'pf': 1, 'perhap': 3, 'rsr': 13, \"'\": 19, 'rather': 4, 'locul': 9, 'necrot': 2, 'spicul': 1, 'anteriorli': 2, 'best': 4, 'gangren': 1, 'live': 6, 'complic': 6, 'facil': 2, 'border': 8, 'dfddp': 3, 'pmhx': 1, 'restor': 1, 'confluent': 8, 'locat': 6, 'minu': 4, 'durat': 5, 'millisecond': 6, 'plane': 6, 'j': 5, 'infact': 1, 'half': 2, 'diminish': 10, 'displac': 1, 'rib': 6, 'hila': 3, 'fixat': 1, 'flex': 1, 'termin': 8, 'widen': 3, 'pedicl': 1, 'redistribut': 3, 'flub': 1, 'advanc': 6, 'neck': 7, 'aspect': 1, 'centimet': 2, 'list': 2, 'witout': 1, 'deflect': 4, 'cross': 3, 'recumb': 1, 'bedsid': 7, 'layer': 2, 'satisfactorili': 1, 'outpati': 2, 'eject': 8, 'detect': 3, 'fraction': 7, 'transmur': 2, 'hyperinfl': 2, 'temperatur': 1, 'av': 1, 'immedi': 1, 'clearli': 3, 'becom': 2, 'echoluc': 1, 'epicardium': 1, 'descend': 3, 'echodens': 1, 'element': 3, 'ivc': 14, 'rap': 2, 'cellular': 3, 'largest': 1, '<': 17, 'respir': 7, 'constrict': 4, 'tether': 2, 'inflamm': 3, 'therefor': 1, 'proper': 1, 'taller': 1, 'miniatur': 1, 'tini': 3, 'hypoventil': 1, 'esp': 1, 'preoper': 1, 'kmcd': 1, 'main': 8, 'insert': 2, 'peribronchi': 2, 'intern': 6, 'ganz': 1, 'spars': 1, 'newli': 2, 'lll': 6, 'interstitium': 1, 'swan': 1, 'pacer': 3, 'precodi': 1, 'blocker': 3, 'beta': 3, 'index': 6, 'pcwp': 6, 'inhibitor': 2, 'threshold': 2, 'ace': 2, 'tdi': 6, 'ps': 23, 'imposs': 2, 'flat': 1, 'depolar': 9, 'tiotropium': 1, 'stand': 2, 'palpit': 2, 'liter': 2, 'mucosa': 1, 'lisinopril': 1, 'bupropion': 1, 'twi': 1, 'myalgia': 2, 'daili': 4, 'subcutan': 3, 'sulfat': 1, 'lad': 4, 'puff': 1, 'handihal': 1, 'even': 5, 'lidocain': 2, 'immobl': 1, 'chill': 6, 'defici': 1, 'hypercholesterolemia': 2, 'solumedrol': 1, 'rang': 3, 'supratherapeuti': 1, 'invas': 4, 'iron': 2, 'sulfasalazin': 1, 'rebound': 1, 'rebreath': 2, 'decompens': 1, 'flexeril': 1, 'mcg': 2, 'cyanosi': 1, 'bromid': 2, 'calcium': 1, 'hypovolemia': 3, 'slide': 1, 'prescript': 2, 'lmx': 1, 'nrb': 2, 'azithromycin': 2, 'atenolol': 2, 'club': 1, 'folic': 1, 'disku': 1, 'experienc': 1, 'gm': 2, 'spasm': 1, 'organomegali': 1, 'replet': 1, 'urgent': 3, 'cyanocobalamin': 2, 'promethazin': 1, 'meal': 1, 'inch': 1, 'ceftriaxon': 2, 'htn': 4, 'heent': 2, 'inhal': 1, 'three': 4, 'tab': 1, 'start': 10, 'fluticason': 1, 'aspirin': 3, 'acid': 3, 'pregabalin': 1, 'gain': 1, 'urgenc': 2, 'releas': 2, 'ibandron': 1, 'lyrica': 1, 'consequ': 2, 'statin': 2, 'hcl': 1, 'scale': 2, 'sucralf': 1, 'suppl': 2, 'rec': 3, 'suppli': 1, 'appoint': 1, 'titl': 1, 'pantoprazol': 1, 'asa': 2, 'arthralgia': 1, 'ppi': 4, 'bedtim': 1, 'refil': 1, 'aaa': 1, 'atelactasi': 1, 'nebul': 1, 'salmeterol': 1, 'propoxyphen': 1, 'tizanidin': 1, 'trigger': 3, 'add': 2, 'oper': 2, 'tendin': 1, 'hs': 1, 'disk': 1, 'refer': 3, 'inh': 2, 'folat': 3, 'crohn': 2, 'microbiolog': 4, 'advair': 1, 'microcyt': 1, 'ekg': 2, 'illicit': 1, 'dilaudid': 1, 'spiriva': 1, 'lipitor': 1, 'amitriptylin': 1, 'mildi': 3, 'anemia': 5, 'micro': 1, 'wear': 3, 'acetaminophen': 2, 'everi': 2, 'prescrib': 1, 'dosag': 2, 'exert': 1, 'darvocet': 1, 'fen': 4, 'hydromorphon': 2, 'anicter': 1, 'direct': 4, 'sir': 1, 'click': 1, 'oropharynx': 1, 'sepsi': 5, 'f': 9, 'trazodon': 1, 'dysuria': 4, 'perfus': 1, 'ua': 4, 'jvp': 1, 'ferrou': 1, 'budesonid': 1, 'fe': 1, 'guard': 1, 'insomnia': 1, 'sr': 3, 'mania': 1, 'rhinorrhea': 1, 'weak': 4, 'cuff': 3, 'tablet': 1, 'atorvastatin': 1, 'wellbutrin': 1, 'cv': 5, 'otc': 1, 'machineri': 1, 'capsul': 1, 'cyclobenzaprin': 1, 'multivitamin': 1, 'touch': 2, 'pack': 1, 'vitamin': 2, 'anti': 2, 'drive': 1, 'ngtd': 1, 'twice': 2, 'boniva': 1, 'hold': 3, 'exacerb': 3, 'cream': 1, 'torso': 1, 'duoden': 1, 'renal': 4, 'intrathorac': 5, 'carcinoma': 2, 'rcc': 1, 'encas': 1, 'substanc': 1, 'toxic': 3, 'behind': 1, 'pericardiocentesi': 1, 'notifi': 4, 'accumul': 1, 'person': 4, 'reassess': 2, 'segmenmt': 1, 'pneumatocel': 1, 'semi': 5, 'vent': 4, 'remov': 5, 'food': 4, 'co': 1, 'vanco': 3, 'sleepi': 2, 'react': 1, 'emot': 1, 'bag': 1, 'ambu': 1, 'dm': 1, 'pinkish': 1, 'next': 4, 'em': 2, 'flagyl': 2, 'put': 2, 'slept': 1, 'dementia': 1, 'lymphedema': 1, 'answer': 2, 'bm': 2, 'transffer': 1, 'legal': 1, 'fed': 1, 'lactat': 4, 'dnr': 3, 'open': 1, 'letharg': 1, 'breast': 4, 'cyanos': 1, 'guardian': 1, 'vss': 1, 'output': 1, 'intact': 6, 'dni': 3, 'afib': 1, 'alzheim': 1, 'remark': 2, 'ul': 1, 'cath': 1, 'file': 1, 'nrbm': 1, 'nkda': 1, 'pupil': 2, 'integu': 1, 'precaut': 1, 'ls': 2, 'lit': 1, 'amber': 1, 'ask': 1, 'reciv': 1, 'levoquin': 1, 'micu': 3, 'watch': 1, 'highli': 3, 'transplant': 2, 'rhonchi': 5, 'approach': 5, 'suit': 1, 'cardiopulm': 1, 'translplant': 1, 'effort': 1, 'hemangioma': 1, 'offset': 1, 'stone': 1, 'abd': 5, 'sequenc': 2, 'fnh': 1, 'us': 1, 'multiphas': 1, 'hypoecho': 1, 'dimens': 2, 'hyperecho': 1, 'incident': 1, 'mri': 8, 'fatti': 1, 'greatest': 2, 'gb': 1, 'cholecyst': 1, 'basi': 1, 'portal': 1, 'kcld': 1, 'sx': 1, 'ruq': 2, 'nonemerg': 1, 'contribut': 2, 'ubnchang': 1, 'steristrip': 1, 'occlus': 1, 'zosyn': 2, 'throb': 1, 'assist': 4, 'tubefeed': 1, 'needl': 1, 'inpir': 1, 'coars': 1, 'lumen': 2, 'inadequ': 2, 'rn': 1, 'daughter': 1, 'map': 3, 'esophagectomi': 1, 'heplock': 1, 'palpabl': 1, 'tsicu': 1, 'clamp': 1, 'wean': 5, 'morphin': 2, 'inspir': 1, 'cdb': 1, 'cdi': 1, 'graviti': 1, 'dress': 2, 'constant': 2, 'wrist': 1, 'grasp': 1, 'radic': 1, 'tachypn': 3, 'resist': 1, 'prn': 4, 'strong': 1, 'midnight': 1, 'roxicet': 1, 'portacath': 2, 'lap': 1, 'toler': 5, 'perivascular': 1, 'exist': 3, 'unilater': 2, 'haze': 1, 'preced': 1, 'bypass': 1, 'unalt': 1, 'erect': 1, 'fissur': 5, 'sit': 2, 'coronari': 5, 'atrophi': 4, 'hematoma': 2, 'cavern': 1, 'effac': 1, 'subdur': 2, 'boni': 3, 'phone': 2, 'lacunar': 1, 'attend': 2, 'nucleu': 2, 'hemispher': 1, 'centrum': 1, 'ongo': 2, 'signic': 1, 'cortic': 1, 'lentiform': 2, 'territori': 6, 'caudat': 1, 'atherosclerot': 3, 'subfalcin': 2, 'herniat': 2, 'hypodens': 6, 'mix': 1, 'disclos': 1, 'sequela': 1, 'diathesi': 1, 'insuff': 1, 'semioval': 1, 'addendum': 1, 'ganglia': 5, 'jbre': 1, 'milder': 1, 'carotid': 2, 'vsd': 7, 'ts': 7, 'pda': 4, 'adm': 1, 'becam': 1, 'aid': 2, 'ft': 1, 'inc': 2, 'decras': 1, 'facilit': 1, 'heel': 1, 'inexafl': 1, 'almost': 1, 'bil': 1, 'appetit': 1, 'hydrat': 1, 'feel': 3, 'palp': 1, 'intak': 2, 'polio': 1, 'cpt': 1, 'nsr': 2, 'abx': 1, 'dist': 1, 'freq': 1, 'wide': 6, 'neoplasm': 1, 'tx': 1, 'cephal': 1, 'staff': 2, 'sulcu': 1, 'acquisit': 1, 'stripe': 1, 'varicella': 1, 'display': 1, 'jiroveci': 1, 'paratrach': 1, 'cmv': 1, 'mycoplasma': 1, 'rhonci': 1, 'reactiv': 3, 'outer': 1, 'mediastinum': 9, 'shortli': 1, 'reticular': 1, 'ie': 1, 'viral': 2, 'lingula': 2, 'iindetermin': 1, 'tonsillar': 1, 'cxwc': 1, 'parapharyng': 1, 'prevert': 1, 'lingual': 1, 'epiglott': 1, 'eg': 1, 'prevertebr': 1, 'epiglotti': 1, 'mon': 3, 'parotid': 1, 'uniform': 1, 'sore': 1, 'fat': 4, 'piriform': 1, 'swallow': 3, 'chain': 1, 'tonsil': 1, 'adenoid': 1, 'retropharyng': 1, 'coincid': 1, 'unknown': 5, 'origin': 2, 'explain': 1, 'worrisom': 3, 'visibl': 1, 'widespread': 4, 'lipomat': 2, 'bounc': 1, 'asd': 9, 'valvular': 7, 'emphysema': 5, 'scapula': 1, 'correct': 3, 'traction': 2, 'respr': 1, 'tuberculosi': 1, 'thought': 2, 'bronchiectasi': 2, 'inhibit': 1, 'peripheri': 1, 'cuf': 1, 'mvr': 2, 'debrid': 1, 'closur': 1, 'lethargi': 1, 'sternal': 1, 'couplet': 4, 'intrins': 5, 'decel': 2, 'parastern': 1, 'percent': 3, 'presum': 3, 'architectur': 1, 'stage': 1, 'predomin': 1, 'bullou': 1, 'easili': 2, 'sarcoidosi': 1, 'honeycomb': 1, 'sarcoid': 2, 'fibrosi': 3, 'triplet': 1, 'hyperkalemia': 6, 'hyperacut': 3, 'pl': 1, 'focu': 3, 'clearanc': 1, 'rale': 1, 'ventricularli': 1, 'vigor': 1, 'regurgittaion': 1, 'eustachian': 1, 'seem': 3, 'paradox': 2, 'regress': 1, 'isol': 3, 'version': 3, 'opclin': 1, 'op': 1, 'fistula': 1, 'among': 1, 'prefer': 1, 'format': 3, 'fistul': 1, 'potenti': 2, 'tachyarrhythmia': 1, 'possilb': 1, 'infrequ': 1, 'salin': 4, 'agit': 3, 'sourc': 6, 'cerebrovascular': 1, 'pfo': 1, 'event': 4, 'unabl': 13, 'foramen': 1, 'cooper': 9, 'tia': 1, 'maneuv': 2, 'oval': 1, 'outlin': 1, 'intra': 5, 'tendenc': 1, 'filll': 1, 'lulobectomi': 1, 'resynchron': 1, 'dyssynchron': 1, 'therapi': 1, 'shaft': 1, 'vertebr': 1, 'mental': 8, 'cage': 1, 'kyphot': 1, 'deform': 3, 'dyskinet': 3, 'dyskinesi': 2, 'curvatur': 2, 'tb': 3, 'notabl': 6, 'hemoptysi': 2, 'scoliot': 2, 'shape': 3, 'thoracolumbar': 1, 'favor': 1, 'atheroma': 1, 'regul': 1, 'section': 1, 'suboptimald': 1, 'appendag': 1, 'esophag': 3, 'sedat': 3, 'hcfa': 1, 'raa': 1, 'complianc': 1, 'dissect': 1, 'drip': 1, 'certifi': 1, 'tee': 1, 'propofol': 1, 'mail': 1, 'interventricular': 1, 'intraparenchym': 1, 'horn': 1, 'intrev': 1, 'occipit': 2, 'vasogen': 2, 'ipf': 2, 'gyri': 1, 'remot': 3, 'subarachnoid': 1, 'efect': 1, 'pariet': 1, 'cerebellum': 2, 'sah': 1, 'ventiricul': 1, 'mastoid': 6, 'extra': 1, 'alter': 7, 'ich': 5, 'shake': 1, 'certainti': 1, 'dyssynchroni': 1, 'primarili': 1, 'induc': 1, 'perf': 1, 'cardiophren': 2, 'hemidiaphragmat': 1, 'pfi': 1, 'provision': 1, 'jekh': 2, 'spinal': 2, 'seat': 2, 'inferobas': 1, 'valsava': 1, 'pad': 3, 'aneurysm': 5, 'tent': 2, 'upward': 2, 'cava': 2, 'scout': 1, 'vena': 2, 'submit': 1, 'nka': 1, 'transport': 3, 'gag': 1, 'independ': 2, 'await': 1, 'came': 1, 'broad': 3, 'wife': 2, 'kept': 1, 'ativan': 1, 'pearl': 1, 'ngt': 1, 'vecuronium': 1, 'dark': 2, 'spectrum': 1, 'captur': 2, 'across': 2, 'pole': 2, 'sensit': 4, 'hydrocephalu': 2, 'feed': 2, 'fluffi': 1, 'plug': 1, 'uplift': 1, 'endobronchi': 1, 'collpas': 1, 'quiescenc': 1, 'unclear': 4, 'demand': 4, 'swing': 1, 'hypocalcemia': 1, 'transtion': 1, 'clarifi': 4, 'faint': 1, 'confus': 2, 'pd': 1, 'stapl': 1, \"yesterday'\": 1, 'diagonst': 1, 'posterolater': 1, 'callu': 1, 'trachea': 3, 'similarli': 2, 'azithro': 3, 'lock': 1, 'elsewher': 4, 'aebc': 1, 'rwma': 1, 'aberrantli': 2, 'vp': 2, 'avm': 1, 'thu': 2, 'fals': 1, 'larger': 2, 'tendon': 1, 'pap': 1, 'atria': 1, 'affect': 1, 'legionnair': 1, 'mlhh': 3, 'dz': 1, 'diaphraphm': 1, 'varieti': 1, 'diaphragm': 4, 'lymphat': 3, 'ln': 2, 'sniff': 6, 'ht': 1, 'flail': 1, 'scallop': 1, 'tvp': 1, 'wavi': 1, 'unstabl': 6, 'scoop': 2, 'dramat': 1, 'upslop': 1, 'tachycardi': 1, 'doubl': 1, 'dynam': 1, 'progess': 1, 'spur': 2, 'retent': 1, 'globe': 1, 'turbin': 1, 'auditori': 1, 'chr': 1, 'atroph': 1, 'problem': 4, 'spent': 2, 'sensorium': 1, 'telemetri': 2, 'pass': 2, 'discomfort': 1, 'orthostat': 1, 'ciwa': 1, 'reliev': 1, 'rapidli': 1, 'alon': 3, 'regain': 1, 'fall': 2, 'ortho': 1, 'burn': 1, 'maintain': 4, 'brought': 1, 'typic': 2, 'dt': 1, 'factur': 1, 'ctx': 2, 'conscious': 1, 'abus': 1, 'vodka': 1, 'either': 4, 'tonight': 1, 'pursu': 1, 'loc': 1, 'sweat': 1, 'syncop': 1, 'clinician': 1, 'presumpt': 1, 'thiamin': 1, 'intox': 1, 'melena': 1, 'tox': 1, 'trauma': 1, 'classic': 2, 'peptic': 1, 'etoh': 1, 'stori': 1, 'perceiv': 1, 'certainli': 1, 'addict': 1, 'hunger': 1, 'consumpt': 1, 'black': 1, 'pursuit': 1, 'osteomyel': 1, 'splint': 1, 'gallon': 1, 'life': 1, 'rout': 2, 'kg': 2, 'sbt': 1, 'ye': 1, 'comfort': 3, 'accordingli': 1, 'demograph': 2, 'manufactur': 2, 'pmv': 2, 'accept': 1, 'fio': 2, 'cmh': 2, 'overbreath': 1, 'vol': 2, 'destin': 2, 'dysynchroni': 2, 'synchron': 1, 'press': 2, 'rsbi': 1, 'peep': 2, 'tidal': 2, 'pac': 1, 'kub': 1, 'alreadi': 1, 'decr': 1, 'obviou': 1, 'eros': 1, 'interven': 1, 'entireti': 1, 'radn': 1, 'biapic': 2, 'reciproc': 1, 'nodal': 1, 'entrant': 1, 'orthodrom': 1, 'inversu': 1, 'situ': 1, 'priro': 1, 'anteosept': 1, 'vertex': 1, 'opacifi': 1, 'gbm': 1, 'frontopariet': 1, 'scalp': 1, 'cistern': 2, 'ventriculoperiton': 1, 'sphenoid': 4, 'craniotomi': 2, 'temporopariet': 1, 'tempor': 2, 'falx': 1, 'radigraph': 1, 'preexist': 1, 'omr': 2, 'ild': 1, 'nsip': 1, 'uniformli': 1, 'multivessel': 1, 'still': 2, 'bronchovascular': 3, 'pneumothoarx': 1, 'crowd': 2, 'accentu': 2, 'acromioclavicular': 1, 'sublux': 1, 'multilevel': 3, 'acromiohumer': 1, 'glenohumer': 2, 'joint': 3, 'nonproduct': 1, 'undergon': 2, 'nonprod': 1, 'chnage': 1, 'nearli': 2, 'pyrexia': 1, 'fuo': 1, 'hyperthermia': 1, 'unwit': 1, 'abnl': 1, 'rport': 1, 'met': 2, 'strike': 1, 'algorithm': 1, 'encephalomalacia': 2, 'involut': 1, 'fri': 1, 'streak': 1, 'obliter': 2, 'serious': 1, 'thyroid': 1, 'liduid': 1, 'senna': 1, 'filter': 1, 'cortisol': 1, 'let': 1, 'imuran': 1, 'stiffman': 1, 'qam': 1, 'face': 1, 'egd': 2, 'tri': 1, 'dopamin': 1, 'withdraw': 1, 'morn': 2, 'electr': 1, 'goal': 2, 'albumin': 1, 'pressor': 1, 'wnl': 2, 'qpm': 1, 'erythema': 1, 'eight': 1, 'fentanyl': 2, 'gad': 1, 'protonix': 1, 'npo': 3, 'gabapentin': 1, 'septic': 1, 'hcp': 2, 'ptt': 1, 'mirapex': 1, 'oxycontin': 1, 'antibodi': 1, 'yr': 1, 'constip': 1, 'gylcol': 1, 'workup': 1, 'unrev': 1, 'intial': 1, 'stiff': 1, 'disord': 2, 'reg': 1, 'discharg': 2, 'rehab': 1, 'admis': 1, 'eat': 2, 'lightheaded': 1, 'shower': 1, 'coverag': 1, 'sinemet': 1, 'cr': 3, 'magnesium': 1, 'baclofen': 1, 'dip': 1, 'iodin': 1, 'genitourinari': 2, 'demerol': 1, 'diazepam': 1, 'biopsi': 2, 'alt': 1, 'recal': 1, 'emg': 1, 'mitochondri': 1, 'coumadin': 1, 'antiemet': 1, 'multi': 1, 'rnow': 1, 'speech': 1, 'spray': 1, 'health': 1, 'excess': 1, 'gastrointestin': 2, 'asymptomat': 2, 'around': 3, 'dulcolax': 1, 'adenopathi': 1, 'sleep': 1, 'atropin': 1, 'wheelchair': 1, 'lactic': 2, 'oxycodon': 1, 'aox': 1, 'dilaud': 1, 'rituxan': 1, 'housekeep': 1, 'dizepam': 1, 'pho': 1, 'hap': 1, 'derm': 1, 'summari': 1, 'anticoagul': 2, 'leni': 1, 'diff': 2, 'syndom': 1, 'emesi': 2, 'desatur': 1, 'ppx': 3, 'nauseou': 1, 'phenol': 1, 'indwel': 1, 'febril': 1, 'tylenol': 2, 'nerv': 1, 'instabilti': 1, 'valium': 1, 'rectal': 1, 'stiffperson': 1, 'mexiletin': 1, 'diamox': 1, 'cutur': 1, 'anaphi': 1, 'rub': 1, 'proxi': 1, 'xweek': 1, 'hemiparesi': 1, 'polyethylen': 1, 'dl': 1, 'hydoxid': 1, 'orthopnea': 1, 'walk': 1, 'reviev': 1, 'fo': 1, 'leukopenia': 1, 'got': 1, 'sugar': 1, 'rhonchor': 2, 'reflex': 1, 'ast': 1, 'ivig': 1, 'flair': 1, 'alk': 1, 'bili': 1, 'spastic': 1, 'autonom': 1, 'unfortun': 1, 'urinari': 2, 'pump': 1, 'intervens': 1, 'mmol': 2, 'supraclavicular': 1, 'eeg': 1, 'cook': 1, 'disabl': 1, 'loos': 1, 'alongsid': 1, 'overexpans': 1, 'cannul': 1, 'withdrawn': 1, 'avoid': 2, 'beneath': 1, 'anoth': 1, 'closer': 1, 'vat': 1, 'inadvert': 1, 'lacer': 1, 'conjunct': 1, 'compensatori': 1, 'osa': 1, 'trabecul': 1, 'agre': 1, 'tamiflu': 1, 'student': 1, 'legionella': 1, 'contributori': 1, 'influenza': 2, 'dfa': 1, 'compromis': 1, 'pneumococc': 1, 'percuss': 1, 'dull': 1, 'saw': 1, 'predict': 1, 'supplement': 1, 'psycholog': 1, 'stimuli': 1, 'gs': 1, 'bronchial': 2, 'verbal': 2, 'marijuana': 1, 'key': 1, 'mulitfoc': 1, 'oncern': 1, 'cytotox': 1, 'siphon': 1, 'vacuo': 1, 'ex': 1, 'mca': 1, 'inconsist': 1, 'reform': 1, 'hyperdens': 2, 'ivnerfs': 1, 'occult': 1, 'facial': 1, 'subcort': 1, 'strongli': 1, 'subcarin': 1, 'scleroderma': 1, 'splay': 1, 'bvh': 1, 'peri': 1, 'cover': 1, 'pysician': 1, 'infrahilar': 2, 'sicu': 1, 'prepar': 1, 'lax': 1, 'lipoid': 1, 'exogen': 1, 'miner': 1, 'oil': 1, 'profound': 1, 'campu': 1, 'latest': 1, 'occupi': 1, 'establish': 1, 'diaphragmat': 1, 'practic': 1, 'abbrevi': 1, 'young': 1, 'traciong': 1, 'tsh': 2, 'gap': 1, 'recur': 1, 'cap': 2, 'ag': 1, 'appendectomi': 1, 'comm': 1, 'uti': 1, 'prompt': 1, 'alkylosi': 1, 'agma': 1, 'osm': 1, 'hypothyroid': 2, 'cystiti': 1, 'delta': 1, 'sister': 2, 'eovulem': 1, 'isordil': 1, 'adl': 1, 'isosorbid': 1, 'anxiou': 1, 'unit': 1, 'lumpectomi': 1, 'interdisciplinari': 2, 'disp': 1, 'levothyroxin': 2, 'ductal': 1, 'trial': 1, 'guaiac': 1, 'felt': 2, 'benign': 1, 'hyperlipidemia': 1, 'roto': 1, 'euvolem': 1, 'nourish': 1, 'disori': 1, 'tire': 1, 'vit': 1, 'nl': 1, 'overweight': 1, 'bun': 2, 'intoler': 2, 'soln': 1, 'hydralazin': 1, 'atrov': 1, 'began': 1, 'tid': 1, 'cn': 1, 'sc': 1, 'xrt': 1, 'pancreat': 1, 'poli': 1, 'cbc': 1, 'dehydr': 2, 'vision': 1, 'suspicion': 1, 'aerosol': 1, 'uri': 1, 'na': 1, 'glucos': 1, 'mononitr': 1, 'prelim': 1, 'miss': 1, 'anion': 1, 'know': 1, 'rose': 1, 'forget': 1, 'outpt': 1, 'rca': 1, 'amoxicillin': 1, 'son': 1, 'nightsweat': 1, 'mcv': 1, 'noncontributori': 1, 'drawn': 1, 'uosm': 1, 'imdur': 1, 'went': 2, 'pci': 1, 'bl': 1, 'coliti': 1, 'thyroxin': 1, 'simvastatin': 1, 'build': 1, 'ih': 1, 'despit': 1, 'bronchiti': 1, 'refus': 1, 'hyperton': 1, 'dinitr': 1, 'valsartan': 1, 'profoundli': 1, 'poorli': 1, 'sutur': 1, 'osteopen': 1, 'probablhi': 1, 'seventh': 1, 'hep': 2, 'pnx': 1, 'adjust': 1, 'hemodynim': 1, 'claim': 1, 'refractori': 1, 'instabl': 1, 'figur': 1, 'ting': 1, 'scant': 1, 'simv': 1, 'bronchoscopi': 1, 'quiet': 1, 'rhoncher': 1, 'ph': 1, 'hypoxemia': 1, 'xfer': 1, 'defibril': 1, 'tumor': 1, 'littl': 1, 'neutropenia': 1, 'hemopytsi': 1, 'infero': 2, 'crista': 1, 'length': 1, 'deltam': 1, 'concentr': 1, 'unusu': 1, 'cardiomyopathi': 1, 'thrombi': 1, 'takostubo': 1, 'myelodysplast': 1, 'tailor': 1, 'subdiaphragmat': 1, 'atelectat': 2, 'depend': 2, 'skelet': 1, 'anasarca': 1, 'paramediastin': 1, 'nhl': 1, 'strand': 1, 'hydrostat': 1, 'inferoposterior': 1, 'obliqu': 1, 'sl': 1, 'shallow': 1, 'basil': 1, 'hopper': 1, 'exact': 1, 'aspf': 1, 'recess': 1, 'lingular': 1, 'sesha': 2, 'numer': 1, 'infeci': 1, 'meropenem': 1, 'linezolid': 1, 'ipsilater': 1, 'streaki': 1, 'satsclin': 1, 'pure': 1, 'unless': 1, 'unlik': 1, 'redevelop': 1, 'revcetn': 1, 'tap': 1, 'aicd': 1, 'introduc': 1, 'princip': 1, 'wheezi': 1, 'stuck': 1, 'caught': 1, 'actual': 1, 'reportedli': 1, 'impact': 1, 'preren': 1, 'normoact': 1, 'sitter': 1, 'foreign': 1, 'give': 1, 'far': 1, 'biliou': 1, 'group': 1, 'anxieti': 1, 'educ': 1, 'coas': 1, 'rhonchoru': 1, 'le': 1, 'piec': 1, 'development': 1, 'strictur': 1, 'klonopin': 1, 'mother': 1, 'intervent': 1, 'clozapin': 1, 'hiatal': 1, 'asacol': 1, 'sensat': 1, 'assault': 1, 'aggress': 1, 'bloodi': 1, 'callout': 1, 'midazolam': 1, 'jvd': 1, 'depakot': 1, 'clozaril': 1, 'sick': 1, 'vers': 1, 'predisposit': 1, 'arpis': 1, 'overreplac': 1, 'cx': 1, 'esophagel': 1, 'ssri': 1, 'bipolar': 1, 'nt': 1, 'wwp': 1, 'often': 1, 'ge': 1, 'accecessori': 1, 'outburst': 1, 'cut': 1, 'latex': 1, 'zyprexa': 1, 'meat': 1, 'chew': 1, 'gen': 1, 'bilatar': 1, 'pnuemon': 1, 'hernia': 1, 'zofran': 1, 'dispo': 1, 'clonazepam': 1, 'nd': 1, 'innumber': 1, 'frank': 1, 'og': 1, 'queri': 1, 'ot': 1, 'hole': 1, 'immunosupress': 1, 'llq': 1, 'diverticul': 1, 'tortuos': 1, 'immunosuppress': 1, 'baslin': 1, 'prodcut': 1, 'pneumat': 1, 'proptosi': 1, 'vasc': 1, 'rigth': 1, 'period': 1, 'resembl': 1, 'fallen': 1, 'acceler': 1, 'barium': 1, 'hear': 1}}\n"
     ]
    }
   ],
   "source": [
    "print(note_appearance_counter)"
   ]
  },
  {
   "cell_type": "code",
   "execution_count": null,
   "metadata": {},
   "outputs": [],
   "source": []
  },
  {
   "cell_type": "code",
   "execution_count": null,
   "metadata": {},
   "outputs": [],
   "source": []
  },
  {
   "cell_type": "code",
   "execution_count": 32,
   "metadata": {},
   "outputs": [],
   "source": [
    "# # get hyper-paramters n_fold and threshold from user input\n",
    "n_fold = float(2)\n",
    "threshold = float(0.01)\n",
    "\n",
    "frequent_word_lists = {}\n",
    "factor = {}"
   ]
  },
  {
   "cell_type": "code",
   "execution_count": 33,
   "metadata": {},
   "outputs": [
    {
     "name": "stdout",
     "output_type": "stream",
     "text": [
      "pneumonia_dead has 1350 unique words!\n",
      "pneumonia_alive has 2962 unique words!\n",
      "finished making frequent words list for pneumonia_alive\n"
     ]
    }
   ],
   "source": [
    "\"\"\"function description:\n",
    "for each disease in note_appearance_counter\n",
    "    1. checks whether a word in disease file is frequent(frequency standard as defined by factor, n_fold, and threshold)\n",
    "    2. adds to frequent_word_list\n",
    "\"\"\"\n",
    "\n",
    "# def find_frequent_word(note_appearance_counter, frequent_word_lists, number_of_notes, factor, n_fold, threshold):\n",
    "\n",
    "# calculate normalizing factor for each disease\n",
    "note_sum = 0\n",
    "\n",
    "# Count from two labels\n",
    "for disease in number_of_notes:\n",
    "    note_sum += float(number_of_notes[disease])\n",
    "    \n",
    "for disease in number_of_notes:\n",
    "    factor[disease] = number_of_notes[disease] / note_sum\n",
    "\n",
    "# determine frequent word for each disease file\n",
    "for disease in note_appearance_counter:\n",
    "    frequent_word_lists[disease] = []\n",
    "\n",
    "    print(disease + \" has \" + str(len(note_appearance_counter[disease])) + \" unique words!\")\n",
    "\n",
    "    for word in note_appearance_counter[disease]:\n",
    "        \n",
    "        freq_check = True\n",
    "        for check_disease in note_appearance_counter:\n",
    "            \n",
    "            if not disease == check_disease:\n",
    "                if word in note_appearance_counter[check_disease]:\n",
    "                    if not (note_appearance_counter[disease][word] / note_appearance_counter[check_disease][word] / factor[disease] * factor[check_disease] > n_fold \\\n",
    "                        and note_appearance_counter[disease][word] > (number_of_notes[disease] * threshold)):\n",
    "\n",
    "                        freq_check = False\n",
    "                        break\n",
    "\n",
    "                else:\n",
    "                    if not (note_appearance_counter[disease][word] > n_fold and note_appearance_counter[disease][word] > (number_of_notes[disease] * threshold)):\n",
    "                        freq_check = False\n",
    "                        break\n",
    "        if freq_check:\n",
    "            frequent_word_lists[disease].append((word, note_appearance_counter[disease][word]))\n",
    "        \n",
    "\n",
    "print(\"finished making frequent words list for \" + disease)"
   ]
  },
  {
   "cell_type": "code",
   "execution_count": 34,
   "metadata": {
    "scrolled": true
   },
   "outputs": [
    {
     "name": "stdout",
     "output_type": "stream",
     "text": [
      "1419.0\n",
      "{'pneumonia_dead': 0.17758985200845667, 'pneumonia_alive': 0.8224101479915433}\n"
     ]
    }
   ],
   "source": [
    "print(note_sum)\n",
    "print(factor)"
   ]
  },
  {
   "cell_type": "code",
   "execution_count": 35,
   "metadata": {
    "scrolled": true
   },
   "outputs": [
    {
     "name": "stdout",
     "output_type": "stream",
     "text": [
      "36\n",
      "114\n"
     ]
    }
   ],
   "source": [
    "print(len(frequent_word_lists['pneumonia_dead']))\n",
    "print(len(frequent_word_lists['pneumonia_alive']))"
   ]
  },
  {
   "cell_type": "code",
   "execution_count": 36,
   "metadata": {},
   "outputs": [
    {
     "name": "stdout",
     "output_type": "stream",
     "text": [
      "{'pneumonia_dead': [('biventricular', 6), ('analysi', 3), ('rather', 3), ('markedli', 8), ('morpholog', 4), ('partli', 4), ('activ', 5), ('rib', 3), ('diaphragm', 3), ('ef', 3), ('tachycard', 3), ('type', 7), ('irregular', 3), ('rsr', 7), ('versu', 7), ('averag', 4), ('much', 3), ('hypertens', 15), ('overload', 6), ('avr', 3), ('least', 5), ('hyperdynam', 3), ('exist', 3), ('infecti', 4), ('state', 3), ('result', 5), ('houseoffic', 3), ('asd', 4), ('picc', 3), ('criteria', 5), ('met', 3), ('fibrosi', 3), ('micu', 3), ('distribut', 3), ('thrombu', 3), ('embol', 3)], 'pneumonia_alive': [('current', 22), ('top', 13), ('appreci', 15), ('resolv', 23), ('radiograph', 66), ('tissu', 22), ('year', 125), ('unremark', 36), ('examin', 140), ('&', 54), ('condit', 136), ('cough', 39), ('pneumothorax', 56), ('lat', 49), ('interstiti', 13), ('chest', 133), ('soft', 23), ('failur', 24), ('report', 150), ('mediastin', 44), ('clip', 134), ('final', 135), ('medic', 141), ('reason', 137), ('opac', 70), ('osseou', 22), ('set', 16), ('pneumonia', 106), ('pm', 108), ('pleural', 94), ('fever', 51), ('less', 59), ('cardiomediastin', 13), ('woman', 46), ('slight', 23), ('hilar', 39), ('atelectasi', 34), ('clear', 55), ('stabl', 21), ('earlier', 20), ('given', 39), ('anterolater', 40), ('dens', 14), ('lung', 107), ('blood', 16), ('respiratori', 34), ('apex', 20), ('ap', 73), ('rais', 23), ('underli', 35), ('replac', 16), ('doe', 13), ('hypoxia', 18), ('bowel', 12), ('sound', 15), ('pain', 23), ('abdomen', 13), ('admiss', 13), ('cc', 12), ('admit', 39), (\"'s\", 29), ('consolid', 50), ('resolut', 14), ('follow', 18), ('perihilar', 14), ('edema', 41), ('treatment', 12), ('larg', 28), ('bradycardia', 28), ('concern', 21), ('tip', 32), ('tracheostomi', 12), ('tube', 28), ('post', 17), ('upright', 23), ('field', 17), ('definit', 24), ('collaps', 12), ('air', 24), ('rel', 12), ('diagnosi', 33), ('hour', 20), ('aspir', 19), ('silhouett', 25), ('demonstr', 16), ('congest', 24), ('cxr', 19), ('worsen', 19), ('discuss', 15), ('intub', 18), ('head', 19), ('abdomin', 12), ('use', 13), ('puls', 13), ('ed', 12), ('pronounc', 12), ('associ', 21), ('placement', 21), ('uncertain', 15), ('exam', 22), ('bodi', 14), ('minor', 15), ('superior', 13), ('basilar', 14), ('dr', 15), ('axial', 14), ('bone', 12), ('perform', 29), ('basal', 27), ('akinesi', 12), ('akinet', 13), ('femal', 13), ('x', 19), ('unabl', 13)]}\n"
     ]
    }
   ],
   "source": [
    "print(frequent_word_lists)"
   ]
  },
  {
   "cell_type": "code",
   "execution_count": null,
   "metadata": {},
   "outputs": [],
   "source": []
  },
  {
   "cell_type": "code",
   "execution_count": null,
   "metadata": {},
   "outputs": [],
   "source": []
  }
 ],
 "metadata": {
  "kernelspec": {
   "display_name": "Python 3",
   "language": "python",
   "name": "python3"
  },
  "language_info": {
   "codemirror_mode": {
    "name": "ipython",
    "version": 3
   },
   "file_extension": ".py",
   "mimetype": "text/x-python",
   "name": "python",
   "nbconvert_exporter": "python",
   "pygments_lexer": "ipython3",
   "version": "3.7.6"
  }
 },
 "nbformat": 4,
 "nbformat_minor": 4
}
