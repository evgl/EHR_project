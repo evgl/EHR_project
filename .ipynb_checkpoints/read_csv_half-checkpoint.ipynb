{
 "cells": [
  {
   "cell_type": "markdown",
   "metadata": {},
   "source": [
    "### Data extraction\n",
    "Extract data from MIMIC-III"
   ]
  },
  {
   "cell_type": "code",
   "execution_count": 1,
   "metadata": {},
   "outputs": [
    {
     "data": {
      "text/html": [
       "        <script type=\"text/javascript\">\n",
       "        window.PlotlyConfig = {MathJaxConfig: 'local'};\n",
       "        if (window.MathJax) {MathJax.Hub.Config({SVG: {font: \"STIX-Web\"}});}\n",
       "        if (typeof require !== 'undefined') {\n",
       "        require.undef(\"plotly\");\n",
       "        requirejs.config({\n",
       "            paths: {\n",
       "                'plotly': ['https://cdn.plot.ly/plotly-latest.min']\n",
       "            }\n",
       "        });\n",
       "        require(['plotly'], function(Plotly) {\n",
       "            window._Plotly = Plotly;\n",
       "        });\n",
       "        }\n",
       "        </script>\n",
       "        "
      ]
     },
     "metadata": {},
     "output_type": "display_data"
    }
   ],
   "source": [
    "import time\n",
    "import numpy as np \n",
    "import pandas as pd\n",
    "import matplotlib.pyplot as plt\n",
    "import seaborn as sns\n",
    "from tqdm import tqdm\n",
    "\n",
    "# import re\n",
    "\n",
    "# import plotly.graph_objs as go\n",
    "# import plotly.plotly as py\n",
    "import cufflinks\n",
    "# from IPython.core.interactiveshell import InteractiveShell\n",
    "# import plotly.figure_factory as ff\n",
    "# InteractiveShell.ast_node_interactivity = 'all'\n",
    "# from plotly.offline import iplot\n",
    "cufflinks.go_offline()\n",
    "cufflinks.set_config_file(world_readable=True, theme='pearl')"
   ]
  },
  {
   "cell_type": "code",
   "execution_count": 2,
   "metadata": {},
   "outputs": [
    {
     "name": "stderr",
     "output_type": "stream",
     "text": [
      "/data/home/evgenii/anaconda3/lib/python3.7/site-packages/IPython/core/interactiveshell.py:3063: DtypeWarning:\n",
      "\n",
      "Columns (4,5) have mixed types.Specify dtype option on import or set low_memory=False.\n",
      "\n"
     ]
    },
    {
     "name": "stdout",
     "output_type": "stream",
     "text": [
      "37.181488037109375\n"
     ]
    }
   ],
   "source": [
    "# Import pandas \n",
    "import pandas as pd \n",
    "\n",
    "start = time.time()\n",
    "# reading csv file \n",
    "admissions_df = pd.read_csv(\"../MIMIC-III/ADMISSIONS.csv\")\n",
    "noteevents_df = pd.read_csv(\"../MIMIC-III/NOTEEVENTS.csv\") \n",
    "end = time.time()\n",
    "print(end - start)\n"
   ]
  },
  {
   "cell_type": "code",
   "execution_count": 3,
   "metadata": {},
   "outputs": [],
   "source": [
    "# diagnosis = df.DIAGNOSIS.unique()\n",
    "# #PNEUMONIA\n",
    "# for i in diagnosis:\n",
    "#     print(f\"[{i}]\")\n",
    "# data = df.copy()\n",
    "# data.info()\n",
    "\n",
    "# pneumonia_df = data.loc[df['DIAGNOSIS'] == 'PNEUMONIA']\n",
    "# pneumonia_df.info()"
   ]
  },
  {
   "cell_type": "code",
   "execution_count": 4,
   "metadata": {
    "scrolled": true
   },
   "outputs": [
    {
     "data": {
      "text/html": [
       "<div>\n",
       "<style scoped>\n",
       "    .dataframe tbody tr th:only-of-type {\n",
       "        vertical-align: middle;\n",
       "    }\n",
       "\n",
       "    .dataframe tbody tr th {\n",
       "        vertical-align: top;\n",
       "    }\n",
       "\n",
       "    .dataframe thead th {\n",
       "        text-align: right;\n",
       "    }\n",
       "</style>\n",
       "<table border=\"1\" class=\"dataframe\">\n",
       "  <thead>\n",
       "    <tr style=\"text-align: right;\">\n",
       "      <th></th>\n",
       "      <th>ROW_ID</th>\n",
       "      <th>SUBJECT_ID</th>\n",
       "      <th>HADM_ID</th>\n",
       "      <th>ADMITTIME</th>\n",
       "      <th>DISCHTIME</th>\n",
       "      <th>DEATHTIME</th>\n",
       "      <th>ADMISSION_TYPE</th>\n",
       "      <th>ADMISSION_LOCATION</th>\n",
       "      <th>DISCHARGE_LOCATION</th>\n",
       "      <th>INSURANCE</th>\n",
       "      <th>LANGUAGE</th>\n",
       "      <th>RELIGION</th>\n",
       "      <th>MARITAL_STATUS</th>\n",
       "      <th>ETHNICITY</th>\n",
       "      <th>EDREGTIME</th>\n",
       "      <th>EDOUTTIME</th>\n",
       "      <th>DIAGNOSIS</th>\n",
       "      <th>HOSPITAL_EXPIRE_FLAG</th>\n",
       "      <th>HAS_CHARTEVENTS_DATA</th>\n",
       "    </tr>\n",
       "  </thead>\n",
       "  <tbody>\n",
       "    <tr>\n",
       "      <th>0</th>\n",
       "      <td>21</td>\n",
       "      <td>22</td>\n",
       "      <td>165315</td>\n",
       "      <td>2196-04-09 12:26:00</td>\n",
       "      <td>2196-04-10 15:54:00</td>\n",
       "      <td>NaN</td>\n",
       "      <td>EMERGENCY</td>\n",
       "      <td>EMERGENCY ROOM ADMIT</td>\n",
       "      <td>DISC-TRAN CANCER/CHLDRN H</td>\n",
       "      <td>Private</td>\n",
       "      <td>NaN</td>\n",
       "      <td>UNOBTAINABLE</td>\n",
       "      <td>MARRIED</td>\n",
       "      <td>WHITE</td>\n",
       "      <td>2196-04-09 10:06:00</td>\n",
       "      <td>2196-04-09 13:24:00</td>\n",
       "      <td>BENZODIAZEPINE OVERDOSE</td>\n",
       "      <td>0</td>\n",
       "      <td>1</td>\n",
       "    </tr>\n",
       "    <tr>\n",
       "      <th>1</th>\n",
       "      <td>22</td>\n",
       "      <td>23</td>\n",
       "      <td>152223</td>\n",
       "      <td>2153-09-03 07:15:00</td>\n",
       "      <td>2153-09-08 19:10:00</td>\n",
       "      <td>NaN</td>\n",
       "      <td>ELECTIVE</td>\n",
       "      <td>PHYS REFERRAL/NORMAL DELI</td>\n",
       "      <td>HOME HEALTH CARE</td>\n",
       "      <td>Medicare</td>\n",
       "      <td>NaN</td>\n",
       "      <td>CATHOLIC</td>\n",
       "      <td>MARRIED</td>\n",
       "      <td>WHITE</td>\n",
       "      <td>NaN</td>\n",
       "      <td>NaN</td>\n",
       "      <td>CORONARY ARTERY DISEASE\\CORONARY ARTERY BYPASS...</td>\n",
       "      <td>0</td>\n",
       "      <td>1</td>\n",
       "    </tr>\n",
       "    <tr>\n",
       "      <th>2</th>\n",
       "      <td>23</td>\n",
       "      <td>23</td>\n",
       "      <td>124321</td>\n",
       "      <td>2157-10-18 19:34:00</td>\n",
       "      <td>2157-10-25 14:00:00</td>\n",
       "      <td>NaN</td>\n",
       "      <td>EMERGENCY</td>\n",
       "      <td>TRANSFER FROM HOSP/EXTRAM</td>\n",
       "      <td>HOME HEALTH CARE</td>\n",
       "      <td>Medicare</td>\n",
       "      <td>ENGL</td>\n",
       "      <td>CATHOLIC</td>\n",
       "      <td>MARRIED</td>\n",
       "      <td>WHITE</td>\n",
       "      <td>NaN</td>\n",
       "      <td>NaN</td>\n",
       "      <td>BRAIN MASS</td>\n",
       "      <td>0</td>\n",
       "      <td>1</td>\n",
       "    </tr>\n",
       "    <tr>\n",
       "      <th>3</th>\n",
       "      <td>24</td>\n",
       "      <td>24</td>\n",
       "      <td>161859</td>\n",
       "      <td>2139-06-06 16:14:00</td>\n",
       "      <td>2139-06-09 12:48:00</td>\n",
       "      <td>NaN</td>\n",
       "      <td>EMERGENCY</td>\n",
       "      <td>TRANSFER FROM HOSP/EXTRAM</td>\n",
       "      <td>HOME</td>\n",
       "      <td>Private</td>\n",
       "      <td>NaN</td>\n",
       "      <td>PROTESTANT QUAKER</td>\n",
       "      <td>SINGLE</td>\n",
       "      <td>WHITE</td>\n",
       "      <td>NaN</td>\n",
       "      <td>NaN</td>\n",
       "      <td>INTERIOR MYOCARDIAL INFARCTION</td>\n",
       "      <td>0</td>\n",
       "      <td>1</td>\n",
       "    </tr>\n",
       "    <tr>\n",
       "      <th>4</th>\n",
       "      <td>25</td>\n",
       "      <td>25</td>\n",
       "      <td>129635</td>\n",
       "      <td>2160-11-02 02:06:00</td>\n",
       "      <td>2160-11-05 14:55:00</td>\n",
       "      <td>NaN</td>\n",
       "      <td>EMERGENCY</td>\n",
       "      <td>EMERGENCY ROOM ADMIT</td>\n",
       "      <td>HOME</td>\n",
       "      <td>Private</td>\n",
       "      <td>NaN</td>\n",
       "      <td>UNOBTAINABLE</td>\n",
       "      <td>MARRIED</td>\n",
       "      <td>WHITE</td>\n",
       "      <td>2160-11-02 01:01:00</td>\n",
       "      <td>2160-11-02 04:27:00</td>\n",
       "      <td>ACUTE CORONARY SYNDROME</td>\n",
       "      <td>0</td>\n",
       "      <td>1</td>\n",
       "    </tr>\n",
       "    <tr>\n",
       "      <th>...</th>\n",
       "      <td>...</td>\n",
       "      <td>...</td>\n",
       "      <td>...</td>\n",
       "      <td>...</td>\n",
       "      <td>...</td>\n",
       "      <td>...</td>\n",
       "      <td>...</td>\n",
       "      <td>...</td>\n",
       "      <td>...</td>\n",
       "      <td>...</td>\n",
       "      <td>...</td>\n",
       "      <td>...</td>\n",
       "      <td>...</td>\n",
       "      <td>...</td>\n",
       "      <td>...</td>\n",
       "      <td>...</td>\n",
       "      <td>...</td>\n",
       "      <td>...</td>\n",
       "      <td>...</td>\n",
       "    </tr>\n",
       "    <tr>\n",
       "      <th>58971</th>\n",
       "      <td>58594</td>\n",
       "      <td>98800</td>\n",
       "      <td>191113</td>\n",
       "      <td>2131-03-30 21:13:00</td>\n",
       "      <td>2131-04-02 15:02:00</td>\n",
       "      <td>NaN</td>\n",
       "      <td>EMERGENCY</td>\n",
       "      <td>CLINIC REFERRAL/PREMATURE</td>\n",
       "      <td>HOME</td>\n",
       "      <td>Private</td>\n",
       "      <td>ENGL</td>\n",
       "      <td>NOT SPECIFIED</td>\n",
       "      <td>SINGLE</td>\n",
       "      <td>WHITE</td>\n",
       "      <td>2131-03-30 19:44:00</td>\n",
       "      <td>2131-03-30 22:41:00</td>\n",
       "      <td>TRAUMA</td>\n",
       "      <td>0</td>\n",
       "      <td>1</td>\n",
       "    </tr>\n",
       "    <tr>\n",
       "      <th>58972</th>\n",
       "      <td>58595</td>\n",
       "      <td>98802</td>\n",
       "      <td>101071</td>\n",
       "      <td>2151-03-05 20:00:00</td>\n",
       "      <td>2151-03-06 09:10:00</td>\n",
       "      <td>2151-03-06 09:10:00</td>\n",
       "      <td>EMERGENCY</td>\n",
       "      <td>CLINIC REFERRAL/PREMATURE</td>\n",
       "      <td>DEAD/EXPIRED</td>\n",
       "      <td>Medicare</td>\n",
       "      <td>ENGL</td>\n",
       "      <td>CATHOLIC</td>\n",
       "      <td>WIDOWED</td>\n",
       "      <td>WHITE</td>\n",
       "      <td>2151-03-05 17:23:00</td>\n",
       "      <td>2151-03-05 21:06:00</td>\n",
       "      <td>SAH</td>\n",
       "      <td>1</td>\n",
       "      <td>1</td>\n",
       "    </tr>\n",
       "    <tr>\n",
       "      <th>58973</th>\n",
       "      <td>58596</td>\n",
       "      <td>98805</td>\n",
       "      <td>122631</td>\n",
       "      <td>2200-09-12 07:15:00</td>\n",
       "      <td>2200-09-20 12:08:00</td>\n",
       "      <td>NaN</td>\n",
       "      <td>ELECTIVE</td>\n",
       "      <td>PHYS REFERRAL/NORMAL DELI</td>\n",
       "      <td>HOME HEALTH CARE</td>\n",
       "      <td>Private</td>\n",
       "      <td>ENGL</td>\n",
       "      <td>NOT SPECIFIED</td>\n",
       "      <td>MARRIED</td>\n",
       "      <td>WHITE</td>\n",
       "      <td>NaN</td>\n",
       "      <td>NaN</td>\n",
       "      <td>RENAL CANCER/SDA</td>\n",
       "      <td>0</td>\n",
       "      <td>1</td>\n",
       "    </tr>\n",
       "    <tr>\n",
       "      <th>58974</th>\n",
       "      <td>58597</td>\n",
       "      <td>98813</td>\n",
       "      <td>170407</td>\n",
       "      <td>2128-11-11 02:29:00</td>\n",
       "      <td>2128-12-22 13:11:00</td>\n",
       "      <td>NaN</td>\n",
       "      <td>EMERGENCY</td>\n",
       "      <td>EMERGENCY ROOM ADMIT</td>\n",
       "      <td>SNF</td>\n",
       "      <td>Private</td>\n",
       "      <td>ENGL</td>\n",
       "      <td>CATHOLIC</td>\n",
       "      <td>MARRIED</td>\n",
       "      <td>WHITE</td>\n",
       "      <td>2128-11-10 23:48:00</td>\n",
       "      <td>2128-11-11 03:16:00</td>\n",
       "      <td>S/P FALL</td>\n",
       "      <td>0</td>\n",
       "      <td>0</td>\n",
       "    </tr>\n",
       "    <tr>\n",
       "      <th>58975</th>\n",
       "      <td>58598</td>\n",
       "      <td>98813</td>\n",
       "      <td>190264</td>\n",
       "      <td>2131-10-25 03:09:00</td>\n",
       "      <td>2131-10-26 17:44:00</td>\n",
       "      <td>NaN</td>\n",
       "      <td>EMERGENCY</td>\n",
       "      <td>CLINIC REFERRAL/PREMATURE</td>\n",
       "      <td>HOME</td>\n",
       "      <td>Private</td>\n",
       "      <td>ENGL</td>\n",
       "      <td>CATHOLIC</td>\n",
       "      <td>MARRIED</td>\n",
       "      <td>WHITE</td>\n",
       "      <td>2131-10-25 00:08:00</td>\n",
       "      <td>2131-10-25 04:35:00</td>\n",
       "      <td>INTRACRANIAL HEMORRHAGE</td>\n",
       "      <td>0</td>\n",
       "      <td>1</td>\n",
       "    </tr>\n",
       "  </tbody>\n",
       "</table>\n",
       "<p>58976 rows × 19 columns</p>\n",
       "</div>"
      ],
      "text/plain": [
       "       ROW_ID  SUBJECT_ID  HADM_ID            ADMITTIME            DISCHTIME  \\\n",
       "0          21          22   165315  2196-04-09 12:26:00  2196-04-10 15:54:00   \n",
       "1          22          23   152223  2153-09-03 07:15:00  2153-09-08 19:10:00   \n",
       "2          23          23   124321  2157-10-18 19:34:00  2157-10-25 14:00:00   \n",
       "3          24          24   161859  2139-06-06 16:14:00  2139-06-09 12:48:00   \n",
       "4          25          25   129635  2160-11-02 02:06:00  2160-11-05 14:55:00   \n",
       "...       ...         ...      ...                  ...                  ...   \n",
       "58971   58594       98800   191113  2131-03-30 21:13:00  2131-04-02 15:02:00   \n",
       "58972   58595       98802   101071  2151-03-05 20:00:00  2151-03-06 09:10:00   \n",
       "58973   58596       98805   122631  2200-09-12 07:15:00  2200-09-20 12:08:00   \n",
       "58974   58597       98813   170407  2128-11-11 02:29:00  2128-12-22 13:11:00   \n",
       "58975   58598       98813   190264  2131-10-25 03:09:00  2131-10-26 17:44:00   \n",
       "\n",
       "                 DEATHTIME ADMISSION_TYPE         ADMISSION_LOCATION  \\\n",
       "0                      NaN      EMERGENCY       EMERGENCY ROOM ADMIT   \n",
       "1                      NaN       ELECTIVE  PHYS REFERRAL/NORMAL DELI   \n",
       "2                      NaN      EMERGENCY  TRANSFER FROM HOSP/EXTRAM   \n",
       "3                      NaN      EMERGENCY  TRANSFER FROM HOSP/EXTRAM   \n",
       "4                      NaN      EMERGENCY       EMERGENCY ROOM ADMIT   \n",
       "...                    ...            ...                        ...   \n",
       "58971                  NaN      EMERGENCY  CLINIC REFERRAL/PREMATURE   \n",
       "58972  2151-03-06 09:10:00      EMERGENCY  CLINIC REFERRAL/PREMATURE   \n",
       "58973                  NaN       ELECTIVE  PHYS REFERRAL/NORMAL DELI   \n",
       "58974                  NaN      EMERGENCY       EMERGENCY ROOM ADMIT   \n",
       "58975                  NaN      EMERGENCY  CLINIC REFERRAL/PREMATURE   \n",
       "\n",
       "              DISCHARGE_LOCATION INSURANCE LANGUAGE           RELIGION  \\\n",
       "0      DISC-TRAN CANCER/CHLDRN H   Private      NaN       UNOBTAINABLE   \n",
       "1               HOME HEALTH CARE  Medicare      NaN           CATHOLIC   \n",
       "2               HOME HEALTH CARE  Medicare     ENGL           CATHOLIC   \n",
       "3                           HOME   Private      NaN  PROTESTANT QUAKER   \n",
       "4                           HOME   Private      NaN       UNOBTAINABLE   \n",
       "...                          ...       ...      ...                ...   \n",
       "58971                       HOME   Private     ENGL      NOT SPECIFIED   \n",
       "58972               DEAD/EXPIRED  Medicare     ENGL           CATHOLIC   \n",
       "58973           HOME HEALTH CARE   Private     ENGL      NOT SPECIFIED   \n",
       "58974                        SNF   Private     ENGL           CATHOLIC   \n",
       "58975                       HOME   Private     ENGL           CATHOLIC   \n",
       "\n",
       "      MARITAL_STATUS ETHNICITY            EDREGTIME            EDOUTTIME  \\\n",
       "0            MARRIED     WHITE  2196-04-09 10:06:00  2196-04-09 13:24:00   \n",
       "1            MARRIED     WHITE                  NaN                  NaN   \n",
       "2            MARRIED     WHITE                  NaN                  NaN   \n",
       "3             SINGLE     WHITE                  NaN                  NaN   \n",
       "4            MARRIED     WHITE  2160-11-02 01:01:00  2160-11-02 04:27:00   \n",
       "...              ...       ...                  ...                  ...   \n",
       "58971         SINGLE     WHITE  2131-03-30 19:44:00  2131-03-30 22:41:00   \n",
       "58972        WIDOWED     WHITE  2151-03-05 17:23:00  2151-03-05 21:06:00   \n",
       "58973        MARRIED     WHITE                  NaN                  NaN   \n",
       "58974        MARRIED     WHITE  2128-11-10 23:48:00  2128-11-11 03:16:00   \n",
       "58975        MARRIED     WHITE  2131-10-25 00:08:00  2131-10-25 04:35:00   \n",
       "\n",
       "                                               DIAGNOSIS  \\\n",
       "0                                BENZODIAZEPINE OVERDOSE   \n",
       "1      CORONARY ARTERY DISEASE\\CORONARY ARTERY BYPASS...   \n",
       "2                                             BRAIN MASS   \n",
       "3                         INTERIOR MYOCARDIAL INFARCTION   \n",
       "4                                ACUTE CORONARY SYNDROME   \n",
       "...                                                  ...   \n",
       "58971                                             TRAUMA   \n",
       "58972                                                SAH   \n",
       "58973                                   RENAL CANCER/SDA   \n",
       "58974                                           S/P FALL   \n",
       "58975                            INTRACRANIAL HEMORRHAGE   \n",
       "\n",
       "       HOSPITAL_EXPIRE_FLAG  HAS_CHARTEVENTS_DATA  \n",
       "0                         0                     1  \n",
       "1                         0                     1  \n",
       "2                         0                     1  \n",
       "3                         0                     1  \n",
       "4                         0                     1  \n",
       "...                     ...                   ...  \n",
       "58971                     0                     1  \n",
       "58972                     1                     1  \n",
       "58973                     0                     1  \n",
       "58974                     0                     0  \n",
       "58975                     0                     1  \n",
       "\n",
       "[58976 rows x 19 columns]"
      ]
     },
     "execution_count": 4,
     "metadata": {},
     "output_type": "execute_result"
    }
   ],
   "source": [
    "admissions_df"
   ]
  },
  {
   "cell_type": "code",
   "execution_count": 5,
   "metadata": {
    "scrolled": true
   },
   "outputs": [
    {
     "name": "stdout",
     "output_type": "stream",
     "text": [
      "<class 'pandas.core.frame.DataFrame'>\n",
      "RangeIndex: 2083180 entries, 0 to 2083179\n",
      "Data columns (total 11 columns):\n",
      " #   Column       Dtype  \n",
      "---  ------       -----  \n",
      " 0   ROW_ID       int64  \n",
      " 1   SUBJECT_ID   int64  \n",
      " 2   HADM_ID      float64\n",
      " 3   CHARTDATE    object \n",
      " 4   CHARTTIME    object \n",
      " 5   STORETIME    object \n",
      " 6   CATEGORY     object \n",
      " 7   DESCRIPTION  object \n",
      " 8   CGID         float64\n",
      " 9   ISERROR      float64\n",
      " 10  TEXT         object \n",
      "dtypes: float64(3), int64(2), object(6)\n",
      "memory usage: 174.8+ MB\n"
     ]
    }
   ],
   "source": [
    "noteevents_df.info()"
   ]
  },
  {
   "cell_type": "code",
   "execution_count": 6,
   "metadata": {},
   "outputs": [
    {
     "name": "stdout",
     "output_type": "stream",
     "text": [
      "<class 'pandas.core.frame.DataFrame'>\n",
      "RangeIndex: 58976 entries, 0 to 58975\n",
      "Data columns (total 19 columns):\n",
      " #   Column                Non-Null Count  Dtype \n",
      "---  ------                --------------  ----- \n",
      " 0   ROW_ID                58976 non-null  int64 \n",
      " 1   SUBJECT_ID            58976 non-null  int64 \n",
      " 2   HADM_ID               58976 non-null  int64 \n",
      " 3   ADMITTIME             58976 non-null  object\n",
      " 4   DISCHTIME             58976 non-null  object\n",
      " 5   DEATHTIME             5854 non-null   object\n",
      " 6   ADMISSION_TYPE        58976 non-null  object\n",
      " 7   ADMISSION_LOCATION    58976 non-null  object\n",
      " 8   DISCHARGE_LOCATION    58976 non-null  object\n",
      " 9   INSURANCE             58976 non-null  object\n",
      " 10  LANGUAGE              33644 non-null  object\n",
      " 11  RELIGION              58518 non-null  object\n",
      " 12  MARITAL_STATUS        48848 non-null  object\n",
      " 13  ETHNICITY             58976 non-null  object\n",
      " 14  EDREGTIME             30877 non-null  object\n",
      " 15  EDOUTTIME             30877 non-null  object\n",
      " 16  DIAGNOSIS             58951 non-null  object\n",
      " 17  HOSPITAL_EXPIRE_FLAG  58976 non-null  int64 \n",
      " 18  HAS_CHARTEVENTS_DATA  58976 non-null  int64 \n",
      "dtypes: int64(5), object(14)\n",
      "memory usage: 8.5+ MB\n"
     ]
    }
   ],
   "source": [
    "admissions_df.info()"
   ]
  },
  {
   "cell_type": "code",
   "execution_count": 7,
   "metadata": {},
   "outputs": [
    {
     "data": {
      "text/plain": [
       "\"\\n>>> left\\n  transaction_id user_id     value\\n0              A   Peter  1.867558\\n1              B    John -0.977278\\n2              C    John  0.950088\\n3              D    Anna -0.151357\\n>>> right\\n  user_id favorite_color\\n0    Paul           blue\\n1    Mary           blue\\n2    John            red\\n3    Anna            NaN\\n\\n---------\\n>>> left.merge(right, on='user_id', how='left', indicator=True)\\n  transaction_id user_id     value favorite_color     _merge\\n0              A   Peter  1.867558            NaN  left_only\\n1              B    John -0.977278            red       both\\n2              C    John  0.950088            red       both\\n3              D    Anna -0.151357            NaN       both\\n\\n---------\\nleft.merge(right.rename({'user_id': 'user_id_r'}, axis=1),\\n               left_on='user_id', right_on='user_id_r', how='left')\\n               \\n  transaction_id user_id     value user_id_r favorite_color\\n0              A   Peter  1.867558       NaN            NaN\\n1              B    John -0.977278      John            red\\n2              C    John  0.950088      John            red\\n3              D    Anna -0.151357      Anna            NaN\\n---------\\nselect\\n    t.transaction_id\\n    , t.user_id\\n    , t.value\\n    , u.user_id as user_id_r\\n    , u.favorite_color\\nfrom\\n    transactions t\\n    left join\\n    users u\\n    on t.user_id = u.user_id\\n;\\n\""
      ]
     },
     "execution_count": 7,
     "metadata": {},
     "output_type": "execute_result"
    }
   ],
   "source": [
    "# https://towardsdatascience.com/left-join-with-pandas-data-frames-in-python-c29c85089ba4\n",
    "# left_join = noteevents_df.join(admissions_df.set_index('HADM_ID'), on='HADM_ID')\n",
    "# left_join = noteevents_df.set_index('HADM_ID').join(admissions_df.set_index('HADM_ID'))\n",
    "\"\"\"\n",
    ">>> left\n",
    "  transaction_id user_id     value\n",
    "0              A   Peter  1.867558\n",
    "1              B    John -0.977278\n",
    "2              C    John  0.950088\n",
    "3              D    Anna -0.151357\n",
    ">>> right\n",
    "  user_id favorite_color\n",
    "0    Paul           blue\n",
    "1    Mary           blue\n",
    "2    John            red\n",
    "3    Anna            NaN\n",
    "\n",
    "---------\n",
    ">>> left.merge(right, on='user_id', how='left', indicator=True)\n",
    "  transaction_id user_id     value favorite_color     _merge\n",
    "0              A   Peter  1.867558            NaN  left_only\n",
    "1              B    John -0.977278            red       both\n",
    "2              C    John  0.950088            red       both\n",
    "3              D    Anna -0.151357            NaN       both\n",
    "\n",
    "---------\n",
    "left.merge(right.rename({'user_id': 'user_id_r'}, axis=1),\n",
    "               left_on='user_id', right_on='user_id_r', how='left')\n",
    "               \n",
    "  transaction_id user_id     value user_id_r favorite_color\n",
    "0              A   Peter  1.867558       NaN            NaN\n",
    "1              B    John -0.977278      John            red\n",
    "2              C    John  0.950088      John            red\n",
    "3              D    Anna -0.151357      Anna            NaN\n",
    "---------\n",
    "select\n",
    "    t.transaction_id\n",
    "    , t.user_id\n",
    "    , t.value\n",
    "    , u.user_id as user_id_r\n",
    "    , u.favorite_color\n",
    "from\n",
    "    transactions t\n",
    "    left join\n",
    "    users u\n",
    "    on t.user_id = u.user_id\n",
    ";\n",
    "\"\"\""
   ]
  },
  {
   "cell_type": "code",
   "execution_count": 8,
   "metadata": {},
   "outputs": [
    {
     "name": "stdout",
     "output_type": "stream",
     "text": [
      "5.427806615829468\n"
     ]
    }
   ],
   "source": [
    "start = time.time()\n",
    "# Left join of two dataframes\n",
    "note_admiss_df_left = noteevents_df.merge(admissions_df, on='HADM_ID', how='left', indicator=True)\n",
    "end = time.time()\n",
    "print(end - start)"
   ]
  },
  {
   "cell_type": "code",
   "execution_count": 9,
   "metadata": {
    "scrolled": false
   },
   "outputs": [
    {
     "name": "stdout",
     "output_type": "stream",
     "text": [
      "<class 'pandas.core.frame.DataFrame'>\n",
      "Int64Index: 2083180 entries, 0 to 2083179\n",
      "Data columns (total 30 columns):\n",
      " #   Column                Dtype   \n",
      "---  ------                -----   \n",
      " 0   ROW_ID_x              int64   \n",
      " 1   SUBJECT_ID_x          int64   \n",
      " 2   HADM_ID               float64 \n",
      " 3   CHARTDATE             object  \n",
      " 4   CHARTTIME             object  \n",
      " 5   STORETIME             object  \n",
      " 6   CATEGORY              object  \n",
      " 7   DESCRIPTION           object  \n",
      " 8   CGID                  float64 \n",
      " 9   ISERROR               float64 \n",
      " 10  TEXT                  object  \n",
      " 11  ROW_ID_y              float64 \n",
      " 12  SUBJECT_ID_y          float64 \n",
      " 13  ADMITTIME             object  \n",
      " 14  DISCHTIME             object  \n",
      " 15  DEATHTIME             object  \n",
      " 16  ADMISSION_TYPE        object  \n",
      " 17  ADMISSION_LOCATION    object  \n",
      " 18  DISCHARGE_LOCATION    object  \n",
      " 19  INSURANCE             object  \n",
      " 20  LANGUAGE              object  \n",
      " 21  RELIGION              object  \n",
      " 22  MARITAL_STATUS        object  \n",
      " 23  ETHNICITY             object  \n",
      " 24  EDREGTIME             object  \n",
      " 25  EDOUTTIME             object  \n",
      " 26  DIAGNOSIS             object  \n",
      " 27  HOSPITAL_EXPIRE_FLAG  float64 \n",
      " 28  HAS_CHARTEVENTS_DATA  float64 \n",
      " 29  _merge                category\n",
      "dtypes: category(1), float64(7), int64(2), object(20)\n",
      "memory usage: 478.8+ MB\n"
     ]
    }
   ],
   "source": [
    "note_admiss_df_left.info()"
   ]
  },
  {
   "cell_type": "code",
   "execution_count": 10,
   "metadata": {},
   "outputs": [
    {
     "data": {
      "text/plain": [
       "(2083180, 30)"
      ]
     },
     "execution_count": 10,
     "metadata": {},
     "output_type": "execute_result"
    }
   ],
   "source": [
    "note_admiss_df_left.shape"
   ]
  },
  {
   "cell_type": "code",
   "execution_count": 11,
   "metadata": {
    "scrolled": false
   },
   "outputs": [
    {
     "data": {
      "text/html": [
       "<div>\n",
       "<style scoped>\n",
       "    .dataframe tbody tr th:only-of-type {\n",
       "        vertical-align: middle;\n",
       "    }\n",
       "\n",
       "    .dataframe tbody tr th {\n",
       "        vertical-align: top;\n",
       "    }\n",
       "\n",
       "    .dataframe thead th {\n",
       "        text-align: right;\n",
       "    }\n",
       "</style>\n",
       "<table border=\"1\" class=\"dataframe\">\n",
       "  <thead>\n",
       "    <tr style=\"text-align: right;\">\n",
       "      <th></th>\n",
       "      <th>DIAGNOSIS</th>\n",
       "      <th>SUBJECT_ID_x</th>\n",
       "      <th>SUBJECT_ID_y</th>\n",
       "      <th>DESCRIPTION</th>\n",
       "      <th>CATEGORY</th>\n",
       "    </tr>\n",
       "  </thead>\n",
       "  <tbody>\n",
       "    <tr>\n",
       "      <th>0</th>\n",
       "      <td>RT LOWER LOBE PNEUMONIA</td>\n",
       "      <td>22532</td>\n",
       "      <td>22532.0</td>\n",
       "      <td>Report</td>\n",
       "      <td>Discharge summary</td>\n",
       "    </tr>\n",
       "    <tr>\n",
       "      <th>1</th>\n",
       "      <td>CHRONIC OBSTRUCTIVE PULMONARY DISEASE</td>\n",
       "      <td>13702</td>\n",
       "      <td>13702.0</td>\n",
       "      <td>Report</td>\n",
       "      <td>Discharge summary</td>\n",
       "    </tr>\n",
       "    <tr>\n",
       "      <th>2</th>\n",
       "      <td>TRACHEALBRONCHEAL MALACEA/SDA</td>\n",
       "      <td>13702</td>\n",
       "      <td>13702.0</td>\n",
       "      <td>Report</td>\n",
       "      <td>Discharge summary</td>\n",
       "    </tr>\n",
       "    <tr>\n",
       "      <th>3</th>\n",
       "      <td>ASTHMA;COPD EXACERBATION</td>\n",
       "      <td>13702</td>\n",
       "      <td>13702.0</td>\n",
       "      <td>Report</td>\n",
       "      <td>Discharge summary</td>\n",
       "    </tr>\n",
       "    <tr>\n",
       "      <th>4</th>\n",
       "      <td>S/P FALL;TELEMETRY</td>\n",
       "      <td>26880</td>\n",
       "      <td>26880.0</td>\n",
       "      <td>Report</td>\n",
       "      <td>Discharge summary</td>\n",
       "    </tr>\n",
       "    <tr>\n",
       "      <th>...</th>\n",
       "      <td>...</td>\n",
       "      <td>...</td>\n",
       "      <td>...</td>\n",
       "      <td>...</td>\n",
       "      <td>...</td>\n",
       "    </tr>\n",
       "    <tr>\n",
       "      <th>2083175</th>\n",
       "      <td>NEWBORN</td>\n",
       "      <td>31097</td>\n",
       "      <td>31097.0</td>\n",
       "      <td>Report</td>\n",
       "      <td>Nursing/other</td>\n",
       "    </tr>\n",
       "    <tr>\n",
       "      <th>2083176</th>\n",
       "      <td>NEWBORN</td>\n",
       "      <td>31097</td>\n",
       "      <td>31097.0</td>\n",
       "      <td>Report</td>\n",
       "      <td>Nursing/other</td>\n",
       "    </tr>\n",
       "    <tr>\n",
       "      <th>2083177</th>\n",
       "      <td>NEWBORN</td>\n",
       "      <td>31097</td>\n",
       "      <td>31097.0</td>\n",
       "      <td>Report</td>\n",
       "      <td>Nursing/other</td>\n",
       "    </tr>\n",
       "    <tr>\n",
       "      <th>2083178</th>\n",
       "      <td>NEWBORN</td>\n",
       "      <td>31097</td>\n",
       "      <td>31097.0</td>\n",
       "      <td>Report</td>\n",
       "      <td>Nursing/other</td>\n",
       "    </tr>\n",
       "    <tr>\n",
       "      <th>2083179</th>\n",
       "      <td>NEWBORN</td>\n",
       "      <td>31097</td>\n",
       "      <td>31097.0</td>\n",
       "      <td>Report</td>\n",
       "      <td>Nursing/other</td>\n",
       "    </tr>\n",
       "  </tbody>\n",
       "</table>\n",
       "<p>2083180 rows × 5 columns</p>\n",
       "</div>"
      ],
      "text/plain": [
       "                                     DIAGNOSIS  SUBJECT_ID_x  SUBJECT_ID_y  \\\n",
       "0                      RT LOWER LOBE PNEUMONIA         22532       22532.0   \n",
       "1        CHRONIC OBSTRUCTIVE PULMONARY DISEASE         13702       13702.0   \n",
       "2                TRACHEALBRONCHEAL MALACEA/SDA         13702       13702.0   \n",
       "3                     ASTHMA;COPD EXACERBATION         13702       13702.0   \n",
       "4                           S/P FALL;TELEMETRY         26880       26880.0   \n",
       "...                                        ...           ...           ...   \n",
       "2083175                                NEWBORN         31097       31097.0   \n",
       "2083176                                NEWBORN         31097       31097.0   \n",
       "2083177                                NEWBORN         31097       31097.0   \n",
       "2083178                                NEWBORN         31097       31097.0   \n",
       "2083179                                NEWBORN         31097       31097.0   \n",
       "\n",
       "        DESCRIPTION           CATEGORY  \n",
       "0            Report  Discharge summary  \n",
       "1            Report  Discharge summary  \n",
       "2            Report  Discharge summary  \n",
       "3            Report  Discharge summary  \n",
       "4            Report  Discharge summary  \n",
       "...             ...                ...  \n",
       "2083175      Report      Nursing/other  \n",
       "2083176      Report      Nursing/other  \n",
       "2083177      Report      Nursing/other  \n",
       "2083178      Report      Nursing/other  \n",
       "2083179      Report      Nursing/other  \n",
       "\n",
       "[2083180 rows x 5 columns]"
      ]
     },
     "execution_count": 11,
     "metadata": {},
     "output_type": "execute_result"
    }
   ],
   "source": [
    "# df1 = df[['a','b']]\n",
    "note_admiss_df_left[['DIAGNOSIS', 'SUBJECT_ID_x', 'SUBJECT_ID_y','DESCRIPTION', 'CATEGORY']]"
   ]
  },
  {
   "cell_type": "code",
   "execution_count": 12,
   "metadata": {
    "scrolled": true
   },
   "outputs": [],
   "source": [
    "pneumonia_df = note_admiss_df_left.loc[note_admiss_df_left[\"DIAGNOSIS\"] == 'PNEUMONIA', ['ROW_ID_x', 'SUBJECT_ID_x', 'HADM_ID', 'CHARTDATE', 'CHARTTIME', 'STORETIME', 'CATEGORY', 'DESCRIPTION', 'CGID', 'ISERROR', 'TEXT', 'ADMITTIME', 'DISCHTIME', 'DEATHTIME', 'ADMISSION_TYPE', 'DIAGNOSIS', 'HAS_CHARTEVENTS_DATA']]"
   ]
  },
  {
   "cell_type": "code",
   "execution_count": null,
   "metadata": {
    "scrolled": false
   },
   "outputs": [],
   "source": []
  },
  {
   "cell_type": "code",
   "execution_count": 13,
   "metadata": {
    "scrolled": true
   },
   "outputs": [
    {
     "data": {
      "text/plain": [
       "(59727, 17)"
      ]
     },
     "execution_count": 13,
     "metadata": {},
     "output_type": "execute_result"
    }
   ],
   "source": [
    "pneumonia_df.shape"
   ]
  },
  {
   "cell_type": "code",
   "execution_count": 14,
   "metadata": {
    "scrolled": false
   },
   "outputs": [
    {
     "data": {
      "application/vnd.plotly.v1+json": {
       "config": {
        "linkText": "Export to plot.ly",
        "plotlyServerURL": "https://plot.ly",
        "showLink": true
       },
       "data": [
        {
         "marker": {
          "color": "rgba(255, 153, 51, 0.6)",
          "line": {
           "color": "rgba(255, 153, 51, 1.0)",
           "width": 1
          }
         },
         "name": "CATEGORY",
         "orientation": "v",
         "text": "",
         "type": "bar",
         "x": [
          "Nursing",
          "Nursing/other",
          "Radiology",
          "Physician ",
          "ECG",
          "Respiratory ",
          "Discharge summary",
          "Echo",
          "General",
          "Nutrition",
          "Rehab Services",
          "Social Work",
          "Case Management ",
          "Pharmacy",
          "Consult"
         ],
         "y": [
          13256,
          12693,
          11723,
          10643,
          4469,
          2454,
          1698,
          949,
          680,
          638,
          231,
          142,
          135,
          15,
          1
         ]
        }
       ],
       "layout": {
        "legend": {
         "bgcolor": "#F5F6F9",
         "font": {
          "color": "#4D5663"
         }
        },
        "paper_bgcolor": "#F5F6F9",
        "plot_bgcolor": "#F5F6F9",
        "template": {
         "data": {
          "bar": [
           {
            "error_x": {
             "color": "#2a3f5f"
            },
            "error_y": {
             "color": "#2a3f5f"
            },
            "marker": {
             "line": {
              "color": "#E5ECF6",
              "width": 0.5
             }
            },
            "type": "bar"
           }
          ],
          "barpolar": [
           {
            "marker": {
             "line": {
              "color": "#E5ECF6",
              "width": 0.5
             }
            },
            "type": "barpolar"
           }
          ],
          "carpet": [
           {
            "aaxis": {
             "endlinecolor": "#2a3f5f",
             "gridcolor": "white",
             "linecolor": "white",
             "minorgridcolor": "white",
             "startlinecolor": "#2a3f5f"
            },
            "baxis": {
             "endlinecolor": "#2a3f5f",
             "gridcolor": "white",
             "linecolor": "white",
             "minorgridcolor": "white",
             "startlinecolor": "#2a3f5f"
            },
            "type": "carpet"
           }
          ],
          "choropleth": [
           {
            "colorbar": {
             "outlinewidth": 0,
             "ticks": ""
            },
            "type": "choropleth"
           }
          ],
          "contour": [
           {
            "colorbar": {
             "outlinewidth": 0,
             "ticks": ""
            },
            "colorscale": [
             [
              0,
              "#0d0887"
             ],
             [
              0.1111111111111111,
              "#46039f"
             ],
             [
              0.2222222222222222,
              "#7201a8"
             ],
             [
              0.3333333333333333,
              "#9c179e"
             ],
             [
              0.4444444444444444,
              "#bd3786"
             ],
             [
              0.5555555555555556,
              "#d8576b"
             ],
             [
              0.6666666666666666,
              "#ed7953"
             ],
             [
              0.7777777777777778,
              "#fb9f3a"
             ],
             [
              0.8888888888888888,
              "#fdca26"
             ],
             [
              1,
              "#f0f921"
             ]
            ],
            "type": "contour"
           }
          ],
          "contourcarpet": [
           {
            "colorbar": {
             "outlinewidth": 0,
             "ticks": ""
            },
            "type": "contourcarpet"
           }
          ],
          "heatmap": [
           {
            "colorbar": {
             "outlinewidth": 0,
             "ticks": ""
            },
            "colorscale": [
             [
              0,
              "#0d0887"
             ],
             [
              0.1111111111111111,
              "#46039f"
             ],
             [
              0.2222222222222222,
              "#7201a8"
             ],
             [
              0.3333333333333333,
              "#9c179e"
             ],
             [
              0.4444444444444444,
              "#bd3786"
             ],
             [
              0.5555555555555556,
              "#d8576b"
             ],
             [
              0.6666666666666666,
              "#ed7953"
             ],
             [
              0.7777777777777778,
              "#fb9f3a"
             ],
             [
              0.8888888888888888,
              "#fdca26"
             ],
             [
              1,
              "#f0f921"
             ]
            ],
            "type": "heatmap"
           }
          ],
          "heatmapgl": [
           {
            "colorbar": {
             "outlinewidth": 0,
             "ticks": ""
            },
            "colorscale": [
             [
              0,
              "#0d0887"
             ],
             [
              0.1111111111111111,
              "#46039f"
             ],
             [
              0.2222222222222222,
              "#7201a8"
             ],
             [
              0.3333333333333333,
              "#9c179e"
             ],
             [
              0.4444444444444444,
              "#bd3786"
             ],
             [
              0.5555555555555556,
              "#d8576b"
             ],
             [
              0.6666666666666666,
              "#ed7953"
             ],
             [
              0.7777777777777778,
              "#fb9f3a"
             ],
             [
              0.8888888888888888,
              "#fdca26"
             ],
             [
              1,
              "#f0f921"
             ]
            ],
            "type": "heatmapgl"
           }
          ],
          "histogram": [
           {
            "marker": {
             "colorbar": {
              "outlinewidth": 0,
              "ticks": ""
             }
            },
            "type": "histogram"
           }
          ],
          "histogram2d": [
           {
            "colorbar": {
             "outlinewidth": 0,
             "ticks": ""
            },
            "colorscale": [
             [
              0,
              "#0d0887"
             ],
             [
              0.1111111111111111,
              "#46039f"
             ],
             [
              0.2222222222222222,
              "#7201a8"
             ],
             [
              0.3333333333333333,
              "#9c179e"
             ],
             [
              0.4444444444444444,
              "#bd3786"
             ],
             [
              0.5555555555555556,
              "#d8576b"
             ],
             [
              0.6666666666666666,
              "#ed7953"
             ],
             [
              0.7777777777777778,
              "#fb9f3a"
             ],
             [
              0.8888888888888888,
              "#fdca26"
             ],
             [
              1,
              "#f0f921"
             ]
            ],
            "type": "histogram2d"
           }
          ],
          "histogram2dcontour": [
           {
            "colorbar": {
             "outlinewidth": 0,
             "ticks": ""
            },
            "colorscale": [
             [
              0,
              "#0d0887"
             ],
             [
              0.1111111111111111,
              "#46039f"
             ],
             [
              0.2222222222222222,
              "#7201a8"
             ],
             [
              0.3333333333333333,
              "#9c179e"
             ],
             [
              0.4444444444444444,
              "#bd3786"
             ],
             [
              0.5555555555555556,
              "#d8576b"
             ],
             [
              0.6666666666666666,
              "#ed7953"
             ],
             [
              0.7777777777777778,
              "#fb9f3a"
             ],
             [
              0.8888888888888888,
              "#fdca26"
             ],
             [
              1,
              "#f0f921"
             ]
            ],
            "type": "histogram2dcontour"
           }
          ],
          "mesh3d": [
           {
            "colorbar": {
             "outlinewidth": 0,
             "ticks": ""
            },
            "type": "mesh3d"
           }
          ],
          "parcoords": [
           {
            "line": {
             "colorbar": {
              "outlinewidth": 0,
              "ticks": ""
             }
            },
            "type": "parcoords"
           }
          ],
          "pie": [
           {
            "automargin": true,
            "type": "pie"
           }
          ],
          "scatter": [
           {
            "marker": {
             "colorbar": {
              "outlinewidth": 0,
              "ticks": ""
             }
            },
            "type": "scatter"
           }
          ],
          "scatter3d": [
           {
            "line": {
             "colorbar": {
              "outlinewidth": 0,
              "ticks": ""
             }
            },
            "marker": {
             "colorbar": {
              "outlinewidth": 0,
              "ticks": ""
             }
            },
            "type": "scatter3d"
           }
          ],
          "scattercarpet": [
           {
            "marker": {
             "colorbar": {
              "outlinewidth": 0,
              "ticks": ""
             }
            },
            "type": "scattercarpet"
           }
          ],
          "scattergeo": [
           {
            "marker": {
             "colorbar": {
              "outlinewidth": 0,
              "ticks": ""
             }
            },
            "type": "scattergeo"
           }
          ],
          "scattergl": [
           {
            "marker": {
             "colorbar": {
              "outlinewidth": 0,
              "ticks": ""
             }
            },
            "type": "scattergl"
           }
          ],
          "scattermapbox": [
           {
            "marker": {
             "colorbar": {
              "outlinewidth": 0,
              "ticks": ""
             }
            },
            "type": "scattermapbox"
           }
          ],
          "scatterpolar": [
           {
            "marker": {
             "colorbar": {
              "outlinewidth": 0,
              "ticks": ""
             }
            },
            "type": "scatterpolar"
           }
          ],
          "scatterpolargl": [
           {
            "marker": {
             "colorbar": {
              "outlinewidth": 0,
              "ticks": ""
             }
            },
            "type": "scatterpolargl"
           }
          ],
          "scatterternary": [
           {
            "marker": {
             "colorbar": {
              "outlinewidth": 0,
              "ticks": ""
             }
            },
            "type": "scatterternary"
           }
          ],
          "surface": [
           {
            "colorbar": {
             "outlinewidth": 0,
             "ticks": ""
            },
            "colorscale": [
             [
              0,
              "#0d0887"
             ],
             [
              0.1111111111111111,
              "#46039f"
             ],
             [
              0.2222222222222222,
              "#7201a8"
             ],
             [
              0.3333333333333333,
              "#9c179e"
             ],
             [
              0.4444444444444444,
              "#bd3786"
             ],
             [
              0.5555555555555556,
              "#d8576b"
             ],
             [
              0.6666666666666666,
              "#ed7953"
             ],
             [
              0.7777777777777778,
              "#fb9f3a"
             ],
             [
              0.8888888888888888,
              "#fdca26"
             ],
             [
              1,
              "#f0f921"
             ]
            ],
            "type": "surface"
           }
          ],
          "table": [
           {
            "cells": {
             "fill": {
              "color": "#EBF0F8"
             },
             "line": {
              "color": "white"
             }
            },
            "header": {
             "fill": {
              "color": "#C8D4E3"
             },
             "line": {
              "color": "white"
             }
            },
            "type": "table"
           }
          ]
         },
         "layout": {
          "annotationdefaults": {
           "arrowcolor": "#2a3f5f",
           "arrowhead": 0,
           "arrowwidth": 1
          },
          "coloraxis": {
           "colorbar": {
            "outlinewidth": 0,
            "ticks": ""
           }
          },
          "colorscale": {
           "diverging": [
            [
             0,
             "#8e0152"
            ],
            [
             0.1,
             "#c51b7d"
            ],
            [
             0.2,
             "#de77ae"
            ],
            [
             0.3,
             "#f1b6da"
            ],
            [
             0.4,
             "#fde0ef"
            ],
            [
             0.5,
             "#f7f7f7"
            ],
            [
             0.6,
             "#e6f5d0"
            ],
            [
             0.7,
             "#b8e186"
            ],
            [
             0.8,
             "#7fbc41"
            ],
            [
             0.9,
             "#4d9221"
            ],
            [
             1,
             "#276419"
            ]
           ],
           "sequential": [
            [
             0,
             "#0d0887"
            ],
            [
             0.1111111111111111,
             "#46039f"
            ],
            [
             0.2222222222222222,
             "#7201a8"
            ],
            [
             0.3333333333333333,
             "#9c179e"
            ],
            [
             0.4444444444444444,
             "#bd3786"
            ],
            [
             0.5555555555555556,
             "#d8576b"
            ],
            [
             0.6666666666666666,
             "#ed7953"
            ],
            [
             0.7777777777777778,
             "#fb9f3a"
            ],
            [
             0.8888888888888888,
             "#fdca26"
            ],
            [
             1,
             "#f0f921"
            ]
           ],
           "sequentialminus": [
            [
             0,
             "#0d0887"
            ],
            [
             0.1111111111111111,
             "#46039f"
            ],
            [
             0.2222222222222222,
             "#7201a8"
            ],
            [
             0.3333333333333333,
             "#9c179e"
            ],
            [
             0.4444444444444444,
             "#bd3786"
            ],
            [
             0.5555555555555556,
             "#d8576b"
            ],
            [
             0.6666666666666666,
             "#ed7953"
            ],
            [
             0.7777777777777778,
             "#fb9f3a"
            ],
            [
             0.8888888888888888,
             "#fdca26"
            ],
            [
             1,
             "#f0f921"
            ]
           ]
          },
          "colorway": [
           "#636efa",
           "#EF553B",
           "#00cc96",
           "#ab63fa",
           "#FFA15A",
           "#19d3f3",
           "#FF6692",
           "#B6E880",
           "#FF97FF",
           "#FECB52"
          ],
          "font": {
           "color": "#2a3f5f"
          },
          "geo": {
           "bgcolor": "white",
           "lakecolor": "white",
           "landcolor": "#E5ECF6",
           "showlakes": true,
           "showland": true,
           "subunitcolor": "white"
          },
          "hoverlabel": {
           "align": "left"
          },
          "hovermode": "closest",
          "mapbox": {
           "style": "light"
          },
          "paper_bgcolor": "white",
          "plot_bgcolor": "#E5ECF6",
          "polar": {
           "angularaxis": {
            "gridcolor": "white",
            "linecolor": "white",
            "ticks": ""
           },
           "bgcolor": "#E5ECF6",
           "radialaxis": {
            "gridcolor": "white",
            "linecolor": "white",
            "ticks": ""
           }
          },
          "scene": {
           "xaxis": {
            "backgroundcolor": "#E5ECF6",
            "gridcolor": "white",
            "gridwidth": 2,
            "linecolor": "white",
            "showbackground": true,
            "ticks": "",
            "zerolinecolor": "white"
           },
           "yaxis": {
            "backgroundcolor": "#E5ECF6",
            "gridcolor": "white",
            "gridwidth": 2,
            "linecolor": "white",
            "showbackground": true,
            "ticks": "",
            "zerolinecolor": "white"
           },
           "zaxis": {
            "backgroundcolor": "#E5ECF6",
            "gridcolor": "white",
            "gridwidth": 2,
            "linecolor": "white",
            "showbackground": true,
            "ticks": "",
            "zerolinecolor": "white"
           }
          },
          "shapedefaults": {
           "line": {
            "color": "#2a3f5f"
           }
          },
          "ternary": {
           "aaxis": {
            "gridcolor": "white",
            "linecolor": "white",
            "ticks": ""
           },
           "baxis": {
            "gridcolor": "white",
            "linecolor": "white",
            "ticks": ""
           },
           "bgcolor": "#E5ECF6",
           "caxis": {
            "gridcolor": "white",
            "linecolor": "white",
            "ticks": ""
           }
          },
          "title": {
           "x": 0.05
          },
          "xaxis": {
           "automargin": true,
           "gridcolor": "white",
           "linecolor": "white",
           "ticks": "",
           "title": {
            "standoff": 15
           },
           "zerolinecolor": "white",
           "zerolinewidth": 2
          },
          "yaxis": {
           "automargin": true,
           "gridcolor": "white",
           "linecolor": "white",
           "ticks": "",
           "title": {
            "standoff": 15
           },
           "zerolinecolor": "white",
           "zerolinewidth": 2
          }
         }
        },
        "title": {
         "font": {
          "color": "#4D5663"
         },
         "text": "Number of category kinds in noteevents"
        },
        "xaxis": {
         "gridcolor": "#E1E5ED",
         "showgrid": true,
         "tickfont": {
          "color": "#4D5663"
         },
         "title": {
          "font": {
           "color": "#4D5663"
          },
          "text": ""
         },
         "zerolinecolor": "#E1E5ED"
        },
        "yaxis": {
         "gridcolor": "#E1E5ED",
         "showgrid": true,
         "tickfont": {
          "color": "#4D5663"
         },
         "title": {
          "font": {
           "color": "#4D5663"
          },
          "text": "Number of notes"
         },
         "zerolinecolor": "#E1E5ED"
        }
       }
      },
      "text/html": [
       "<div>\n",
       "        \n",
       "        \n",
       "            <div id=\"5ea0e91c-5aa3-4775-b849-fa15f7890677\" class=\"plotly-graph-div\" style=\"height:525px; width:100%;\"></div>\n",
       "            <script type=\"text/javascript\">\n",
       "                require([\"plotly\"], function(Plotly) {\n",
       "                    window.PLOTLYENV=window.PLOTLYENV || {};\n",
       "                    window.PLOTLYENV.BASE_URL='https://plot.ly';\n",
       "                    \n",
       "                if (document.getElementById(\"5ea0e91c-5aa3-4775-b849-fa15f7890677\")) {\n",
       "                    Plotly.newPlot(\n",
       "                        '5ea0e91c-5aa3-4775-b849-fa15f7890677',\n",
       "                        [{\"marker\": {\"color\": \"rgba(255, 153, 51, 0.6)\", \"line\": {\"color\": \"rgba(255, 153, 51, 1.0)\", \"width\": 1}}, \"name\": \"CATEGORY\", \"orientation\": \"v\", \"text\": \"\", \"type\": \"bar\", \"x\": [\"Nursing\", \"Nursing/other\", \"Radiology\", \"Physician \", \"ECG\", \"Respiratory \", \"Discharge summary\", \"Echo\", \"General\", \"Nutrition\", \"Rehab Services\", \"Social Work\", \"Case Management \", \"Pharmacy\", \"Consult\"], \"y\": [13256, 12693, 11723, 10643, 4469, 2454, 1698, 949, 680, 638, 231, 142, 135, 15, 1]}],\n",
       "                        {\"legend\": {\"bgcolor\": \"#F5F6F9\", \"font\": {\"color\": \"#4D5663\"}}, \"paper_bgcolor\": \"#F5F6F9\", \"plot_bgcolor\": \"#F5F6F9\", \"template\": {\"data\": {\"bar\": [{\"error_x\": {\"color\": \"#2a3f5f\"}, \"error_y\": {\"color\": \"#2a3f5f\"}, \"marker\": {\"line\": {\"color\": \"#E5ECF6\", \"width\": 0.5}}, \"type\": \"bar\"}], \"barpolar\": [{\"marker\": {\"line\": {\"color\": \"#E5ECF6\", \"width\": 0.5}}, \"type\": \"barpolar\"}], \"carpet\": [{\"aaxis\": {\"endlinecolor\": \"#2a3f5f\", \"gridcolor\": \"white\", \"linecolor\": \"white\", \"minorgridcolor\": \"white\", \"startlinecolor\": \"#2a3f5f\"}, \"baxis\": {\"endlinecolor\": \"#2a3f5f\", \"gridcolor\": \"white\", \"linecolor\": \"white\", \"minorgridcolor\": \"white\", \"startlinecolor\": \"#2a3f5f\"}, \"type\": \"carpet\"}], \"choropleth\": [{\"colorbar\": {\"outlinewidth\": 0, \"ticks\": \"\"}, \"type\": \"choropleth\"}], \"contour\": [{\"colorbar\": {\"outlinewidth\": 0, \"ticks\": \"\"}, \"colorscale\": [[0.0, \"#0d0887\"], [0.1111111111111111, \"#46039f\"], [0.2222222222222222, \"#7201a8\"], [0.3333333333333333, \"#9c179e\"], [0.4444444444444444, \"#bd3786\"], [0.5555555555555556, \"#d8576b\"], [0.6666666666666666, \"#ed7953\"], [0.7777777777777778, \"#fb9f3a\"], [0.8888888888888888, \"#fdca26\"], [1.0, \"#f0f921\"]], \"type\": \"contour\"}], \"contourcarpet\": [{\"colorbar\": {\"outlinewidth\": 0, \"ticks\": \"\"}, \"type\": \"contourcarpet\"}], \"heatmap\": [{\"colorbar\": {\"outlinewidth\": 0, \"ticks\": \"\"}, \"colorscale\": [[0.0, \"#0d0887\"], [0.1111111111111111, \"#46039f\"], [0.2222222222222222, \"#7201a8\"], [0.3333333333333333, \"#9c179e\"], [0.4444444444444444, \"#bd3786\"], [0.5555555555555556, \"#d8576b\"], [0.6666666666666666, \"#ed7953\"], [0.7777777777777778, \"#fb9f3a\"], [0.8888888888888888, \"#fdca26\"], [1.0, \"#f0f921\"]], \"type\": \"heatmap\"}], \"heatmapgl\": [{\"colorbar\": {\"outlinewidth\": 0, \"ticks\": \"\"}, \"colorscale\": [[0.0, \"#0d0887\"], [0.1111111111111111, \"#46039f\"], [0.2222222222222222, \"#7201a8\"], [0.3333333333333333, \"#9c179e\"], [0.4444444444444444, \"#bd3786\"], [0.5555555555555556, \"#d8576b\"], [0.6666666666666666, \"#ed7953\"], [0.7777777777777778, \"#fb9f3a\"], [0.8888888888888888, \"#fdca26\"], [1.0, \"#f0f921\"]], \"type\": \"heatmapgl\"}], \"histogram\": [{\"marker\": {\"colorbar\": {\"outlinewidth\": 0, \"ticks\": \"\"}}, \"type\": \"histogram\"}], \"histogram2d\": [{\"colorbar\": {\"outlinewidth\": 0, \"ticks\": \"\"}, \"colorscale\": [[0.0, \"#0d0887\"], [0.1111111111111111, \"#46039f\"], [0.2222222222222222, \"#7201a8\"], [0.3333333333333333, \"#9c179e\"], [0.4444444444444444, \"#bd3786\"], [0.5555555555555556, \"#d8576b\"], [0.6666666666666666, \"#ed7953\"], [0.7777777777777778, \"#fb9f3a\"], [0.8888888888888888, \"#fdca26\"], [1.0, \"#f0f921\"]], \"type\": \"histogram2d\"}], \"histogram2dcontour\": [{\"colorbar\": {\"outlinewidth\": 0, \"ticks\": \"\"}, \"colorscale\": [[0.0, \"#0d0887\"], [0.1111111111111111, \"#46039f\"], [0.2222222222222222, \"#7201a8\"], [0.3333333333333333, \"#9c179e\"], [0.4444444444444444, \"#bd3786\"], [0.5555555555555556, \"#d8576b\"], [0.6666666666666666, \"#ed7953\"], [0.7777777777777778, \"#fb9f3a\"], [0.8888888888888888, \"#fdca26\"], [1.0, \"#f0f921\"]], \"type\": \"histogram2dcontour\"}], \"mesh3d\": [{\"colorbar\": {\"outlinewidth\": 0, \"ticks\": \"\"}, \"type\": \"mesh3d\"}], \"parcoords\": [{\"line\": {\"colorbar\": {\"outlinewidth\": 0, \"ticks\": \"\"}}, \"type\": \"parcoords\"}], \"pie\": [{\"automargin\": true, \"type\": \"pie\"}], \"scatter\": [{\"marker\": {\"colorbar\": {\"outlinewidth\": 0, \"ticks\": \"\"}}, \"type\": \"scatter\"}], \"scatter3d\": [{\"line\": {\"colorbar\": {\"outlinewidth\": 0, \"ticks\": \"\"}}, \"marker\": {\"colorbar\": {\"outlinewidth\": 0, \"ticks\": \"\"}}, \"type\": \"scatter3d\"}], \"scattercarpet\": [{\"marker\": {\"colorbar\": {\"outlinewidth\": 0, \"ticks\": \"\"}}, \"type\": \"scattercarpet\"}], \"scattergeo\": [{\"marker\": {\"colorbar\": {\"outlinewidth\": 0, \"ticks\": \"\"}}, \"type\": \"scattergeo\"}], \"scattergl\": [{\"marker\": {\"colorbar\": {\"outlinewidth\": 0, \"ticks\": \"\"}}, \"type\": \"scattergl\"}], \"scattermapbox\": [{\"marker\": {\"colorbar\": {\"outlinewidth\": 0, \"ticks\": \"\"}}, \"type\": \"scattermapbox\"}], \"scatterpolar\": [{\"marker\": {\"colorbar\": {\"outlinewidth\": 0, \"ticks\": \"\"}}, \"type\": \"scatterpolar\"}], \"scatterpolargl\": [{\"marker\": {\"colorbar\": {\"outlinewidth\": 0, \"ticks\": \"\"}}, \"type\": \"scatterpolargl\"}], \"scatterternary\": [{\"marker\": {\"colorbar\": {\"outlinewidth\": 0, \"ticks\": \"\"}}, \"type\": \"scatterternary\"}], \"surface\": [{\"colorbar\": {\"outlinewidth\": 0, \"ticks\": \"\"}, \"colorscale\": [[0.0, \"#0d0887\"], [0.1111111111111111, \"#46039f\"], [0.2222222222222222, \"#7201a8\"], [0.3333333333333333, \"#9c179e\"], [0.4444444444444444, \"#bd3786\"], [0.5555555555555556, \"#d8576b\"], [0.6666666666666666, \"#ed7953\"], [0.7777777777777778, \"#fb9f3a\"], [0.8888888888888888, \"#fdca26\"], [1.0, \"#f0f921\"]], \"type\": \"surface\"}], \"table\": [{\"cells\": {\"fill\": {\"color\": \"#EBF0F8\"}, \"line\": {\"color\": \"white\"}}, \"header\": {\"fill\": {\"color\": \"#C8D4E3\"}, \"line\": {\"color\": \"white\"}}, \"type\": \"table\"}]}, \"layout\": {\"annotationdefaults\": {\"arrowcolor\": \"#2a3f5f\", \"arrowhead\": 0, \"arrowwidth\": 1}, \"coloraxis\": {\"colorbar\": {\"outlinewidth\": 0, \"ticks\": \"\"}}, \"colorscale\": {\"diverging\": [[0, \"#8e0152\"], [0.1, \"#c51b7d\"], [0.2, \"#de77ae\"], [0.3, \"#f1b6da\"], [0.4, \"#fde0ef\"], [0.5, \"#f7f7f7\"], [0.6, \"#e6f5d0\"], [0.7, \"#b8e186\"], [0.8, \"#7fbc41\"], [0.9, \"#4d9221\"], [1, \"#276419\"]], \"sequential\": [[0.0, \"#0d0887\"], [0.1111111111111111, \"#46039f\"], [0.2222222222222222, \"#7201a8\"], [0.3333333333333333, \"#9c179e\"], [0.4444444444444444, \"#bd3786\"], [0.5555555555555556, \"#d8576b\"], [0.6666666666666666, \"#ed7953\"], [0.7777777777777778, \"#fb9f3a\"], [0.8888888888888888, \"#fdca26\"], [1.0, \"#f0f921\"]], \"sequentialminus\": [[0.0, \"#0d0887\"], [0.1111111111111111, \"#46039f\"], [0.2222222222222222, \"#7201a8\"], [0.3333333333333333, \"#9c179e\"], [0.4444444444444444, \"#bd3786\"], [0.5555555555555556, \"#d8576b\"], [0.6666666666666666, \"#ed7953\"], [0.7777777777777778, \"#fb9f3a\"], [0.8888888888888888, \"#fdca26\"], [1.0, \"#f0f921\"]]}, \"colorway\": [\"#636efa\", \"#EF553B\", \"#00cc96\", \"#ab63fa\", \"#FFA15A\", \"#19d3f3\", \"#FF6692\", \"#B6E880\", \"#FF97FF\", \"#FECB52\"], \"font\": {\"color\": \"#2a3f5f\"}, \"geo\": {\"bgcolor\": \"white\", \"lakecolor\": \"white\", \"landcolor\": \"#E5ECF6\", \"showlakes\": true, \"showland\": true, \"subunitcolor\": \"white\"}, \"hoverlabel\": {\"align\": \"left\"}, \"hovermode\": \"closest\", \"mapbox\": {\"style\": \"light\"}, \"paper_bgcolor\": \"white\", \"plot_bgcolor\": \"#E5ECF6\", \"polar\": {\"angularaxis\": {\"gridcolor\": \"white\", \"linecolor\": \"white\", \"ticks\": \"\"}, \"bgcolor\": \"#E5ECF6\", \"radialaxis\": {\"gridcolor\": \"white\", \"linecolor\": \"white\", \"ticks\": \"\"}}, \"scene\": {\"xaxis\": {\"backgroundcolor\": \"#E5ECF6\", \"gridcolor\": \"white\", \"gridwidth\": 2, \"linecolor\": \"white\", \"showbackground\": true, \"ticks\": \"\", \"zerolinecolor\": \"white\"}, \"yaxis\": {\"backgroundcolor\": \"#E5ECF6\", \"gridcolor\": \"white\", \"gridwidth\": 2, \"linecolor\": \"white\", \"showbackground\": true, \"ticks\": \"\", \"zerolinecolor\": \"white\"}, \"zaxis\": {\"backgroundcolor\": \"#E5ECF6\", \"gridcolor\": \"white\", \"gridwidth\": 2, \"linecolor\": \"white\", \"showbackground\": true, \"ticks\": \"\", \"zerolinecolor\": \"white\"}}, \"shapedefaults\": {\"line\": {\"color\": \"#2a3f5f\"}}, \"ternary\": {\"aaxis\": {\"gridcolor\": \"white\", \"linecolor\": \"white\", \"ticks\": \"\"}, \"baxis\": {\"gridcolor\": \"white\", \"linecolor\": \"white\", \"ticks\": \"\"}, \"bgcolor\": \"#E5ECF6\", \"caxis\": {\"gridcolor\": \"white\", \"linecolor\": \"white\", \"ticks\": \"\"}}, \"title\": {\"x\": 0.05}, \"xaxis\": {\"automargin\": true, \"gridcolor\": \"white\", \"linecolor\": \"white\", \"ticks\": \"\", \"title\": {\"standoff\": 15}, \"zerolinecolor\": \"white\", \"zerolinewidth\": 2}, \"yaxis\": {\"automargin\": true, \"gridcolor\": \"white\", \"linecolor\": \"white\", \"ticks\": \"\", \"title\": {\"standoff\": 15}, \"zerolinecolor\": \"white\", \"zerolinewidth\": 2}}}, \"title\": {\"font\": {\"color\": \"#4D5663\"}, \"text\": \"Number of category kinds in noteevents\"}, \"xaxis\": {\"gridcolor\": \"#E1E5ED\", \"showgrid\": true, \"tickfont\": {\"color\": \"#4D5663\"}, \"title\": {\"font\": {\"color\": \"#4D5663\"}, \"text\": \"\"}, \"zerolinecolor\": \"#E1E5ED\"}, \"yaxis\": {\"gridcolor\": \"#E1E5ED\", \"showgrid\": true, \"tickfont\": {\"color\": \"#4D5663\"}, \"title\": {\"font\": {\"color\": \"#4D5663\"}, \"text\": \"Number of notes\"}, \"zerolinecolor\": \"#E1E5ED\"}},\n",
       "                        {\"showLink\": true, \"linkText\": \"Export to plot.ly\", \"plotlyServerURL\": \"https://plot.ly\", \"responsive\": true}\n",
       "                    ).then(function(){\n",
       "                            \n",
       "var gd = document.getElementById('5ea0e91c-5aa3-4775-b849-fa15f7890677');\n",
       "var x = new MutationObserver(function (mutations, observer) {{\n",
       "        var display = window.getComputedStyle(gd).display;\n",
       "        if (!display || display === 'none') {{\n",
       "            console.log([gd, 'removed!']);\n",
       "            Plotly.purge(gd);\n",
       "            observer.disconnect();\n",
       "        }}\n",
       "}});\n",
       "\n",
       "// Listen for the removal of the full notebook cells\n",
       "var notebookContainer = gd.closest('#notebook-container');\n",
       "if (notebookContainer) {{\n",
       "    x.observe(notebookContainer, {childList: true});\n",
       "}}\n",
       "\n",
       "// Listen for the clearing of the current output cell\n",
       "var outputEl = gd.closest('.output');\n",
       "if (outputEl) {{\n",
       "    x.observe(outputEl, {childList: true});\n",
       "}}\n",
       "\n",
       "                        })\n",
       "                };\n",
       "                });\n",
       "            </script>\n",
       "        </div>"
      ]
     },
     "metadata": {},
     "output_type": "display_data"
    }
   ],
   "source": [
    "pneumonia_df['CATEGORY'].value_counts().sort_values(ascending=False).iplot(kind='bar', yTitle='Number of notes', \n",
    "                                                                title='Number of category kinds in noteevents')"
   ]
  },
  {
   "cell_type": "code",
   "execution_count": 15,
   "metadata": {},
   "outputs": [],
   "source": [
    "#pneumonia_no_disch_df = pneumonia_df.loc[pneumonia_df[\"CATEGORY\"] != 'Discharge summary', ['ROW_ID_x', 'SUBJECT_ID_x', 'HADM_ID', 'CHARTDATE', 'CHARTTIME', 'STORETIME', 'CATEGORY', 'DESCRIPTION', 'CGID', 'ISERROR', 'TEXT', 'ADMITTIME', 'DISCHTIME', 'DEATHTIME', 'ADMISSION_TYPE', 'DIAGNOSIS', 'HAS_CHARTEVENTS_DATA']]\n",
    "pneumonia_no_disch_df = pneumonia_df.loc[pneumonia_df[\"CATEGORY\"] != 'Discharge summary', ['ROW_ID_x','SUBJECT_ID_x','CHARTDATE','STORETIME','CATEGORY','DESCRIPTION','TEXT', 'DEATHTIME']]"
   ]
  },
  {
   "cell_type": "code",
   "execution_count": 16,
   "metadata": {
    "scrolled": false
   },
   "outputs": [
    {
     "data": {
      "application/vnd.plotly.v1+json": {
       "config": {
        "linkText": "Export to plot.ly",
        "plotlyServerURL": "https://plot.ly",
        "showLink": true
       },
       "data": [
        {
         "marker": {
          "color": "rgba(255, 153, 51, 0.6)",
          "line": {
           "color": "rgba(255, 153, 51, 1.0)",
           "width": 1
          }
         },
         "name": "CATEGORY",
         "orientation": "v",
         "text": "",
         "type": "bar",
         "x": [
          "Nursing",
          "Nursing/other",
          "Radiology",
          "Physician ",
          "ECG",
          "Respiratory ",
          "Echo",
          "General",
          "Nutrition",
          "Rehab Services",
          "Social Work",
          "Case Management ",
          "Pharmacy",
          "Consult"
         ],
         "y": [
          13256,
          12693,
          11723,
          10643,
          4469,
          2454,
          949,
          680,
          638,
          231,
          142,
          135,
          15,
          1
         ]
        }
       ],
       "layout": {
        "legend": {
         "bgcolor": "#F5F6F9",
         "font": {
          "color": "#4D5663"
         }
        },
        "paper_bgcolor": "#F5F6F9",
        "plot_bgcolor": "#F5F6F9",
        "template": {
         "data": {
          "bar": [
           {
            "error_x": {
             "color": "#2a3f5f"
            },
            "error_y": {
             "color": "#2a3f5f"
            },
            "marker": {
             "line": {
              "color": "#E5ECF6",
              "width": 0.5
             }
            },
            "type": "bar"
           }
          ],
          "barpolar": [
           {
            "marker": {
             "line": {
              "color": "#E5ECF6",
              "width": 0.5
             }
            },
            "type": "barpolar"
           }
          ],
          "carpet": [
           {
            "aaxis": {
             "endlinecolor": "#2a3f5f",
             "gridcolor": "white",
             "linecolor": "white",
             "minorgridcolor": "white",
             "startlinecolor": "#2a3f5f"
            },
            "baxis": {
             "endlinecolor": "#2a3f5f",
             "gridcolor": "white",
             "linecolor": "white",
             "minorgridcolor": "white",
             "startlinecolor": "#2a3f5f"
            },
            "type": "carpet"
           }
          ],
          "choropleth": [
           {
            "colorbar": {
             "outlinewidth": 0,
             "ticks": ""
            },
            "type": "choropleth"
           }
          ],
          "contour": [
           {
            "colorbar": {
             "outlinewidth": 0,
             "ticks": ""
            },
            "colorscale": [
             [
              0,
              "#0d0887"
             ],
             [
              0.1111111111111111,
              "#46039f"
             ],
             [
              0.2222222222222222,
              "#7201a8"
             ],
             [
              0.3333333333333333,
              "#9c179e"
             ],
             [
              0.4444444444444444,
              "#bd3786"
             ],
             [
              0.5555555555555556,
              "#d8576b"
             ],
             [
              0.6666666666666666,
              "#ed7953"
             ],
             [
              0.7777777777777778,
              "#fb9f3a"
             ],
             [
              0.8888888888888888,
              "#fdca26"
             ],
             [
              1,
              "#f0f921"
             ]
            ],
            "type": "contour"
           }
          ],
          "contourcarpet": [
           {
            "colorbar": {
             "outlinewidth": 0,
             "ticks": ""
            },
            "type": "contourcarpet"
           }
          ],
          "heatmap": [
           {
            "colorbar": {
             "outlinewidth": 0,
             "ticks": ""
            },
            "colorscale": [
             [
              0,
              "#0d0887"
             ],
             [
              0.1111111111111111,
              "#46039f"
             ],
             [
              0.2222222222222222,
              "#7201a8"
             ],
             [
              0.3333333333333333,
              "#9c179e"
             ],
             [
              0.4444444444444444,
              "#bd3786"
             ],
             [
              0.5555555555555556,
              "#d8576b"
             ],
             [
              0.6666666666666666,
              "#ed7953"
             ],
             [
              0.7777777777777778,
              "#fb9f3a"
             ],
             [
              0.8888888888888888,
              "#fdca26"
             ],
             [
              1,
              "#f0f921"
             ]
            ],
            "type": "heatmap"
           }
          ],
          "heatmapgl": [
           {
            "colorbar": {
             "outlinewidth": 0,
             "ticks": ""
            },
            "colorscale": [
             [
              0,
              "#0d0887"
             ],
             [
              0.1111111111111111,
              "#46039f"
             ],
             [
              0.2222222222222222,
              "#7201a8"
             ],
             [
              0.3333333333333333,
              "#9c179e"
             ],
             [
              0.4444444444444444,
              "#bd3786"
             ],
             [
              0.5555555555555556,
              "#d8576b"
             ],
             [
              0.6666666666666666,
              "#ed7953"
             ],
             [
              0.7777777777777778,
              "#fb9f3a"
             ],
             [
              0.8888888888888888,
              "#fdca26"
             ],
             [
              1,
              "#f0f921"
             ]
            ],
            "type": "heatmapgl"
           }
          ],
          "histogram": [
           {
            "marker": {
             "colorbar": {
              "outlinewidth": 0,
              "ticks": ""
             }
            },
            "type": "histogram"
           }
          ],
          "histogram2d": [
           {
            "colorbar": {
             "outlinewidth": 0,
             "ticks": ""
            },
            "colorscale": [
             [
              0,
              "#0d0887"
             ],
             [
              0.1111111111111111,
              "#46039f"
             ],
             [
              0.2222222222222222,
              "#7201a8"
             ],
             [
              0.3333333333333333,
              "#9c179e"
             ],
             [
              0.4444444444444444,
              "#bd3786"
             ],
             [
              0.5555555555555556,
              "#d8576b"
             ],
             [
              0.6666666666666666,
              "#ed7953"
             ],
             [
              0.7777777777777778,
              "#fb9f3a"
             ],
             [
              0.8888888888888888,
              "#fdca26"
             ],
             [
              1,
              "#f0f921"
             ]
            ],
            "type": "histogram2d"
           }
          ],
          "histogram2dcontour": [
           {
            "colorbar": {
             "outlinewidth": 0,
             "ticks": ""
            },
            "colorscale": [
             [
              0,
              "#0d0887"
             ],
             [
              0.1111111111111111,
              "#46039f"
             ],
             [
              0.2222222222222222,
              "#7201a8"
             ],
             [
              0.3333333333333333,
              "#9c179e"
             ],
             [
              0.4444444444444444,
              "#bd3786"
             ],
             [
              0.5555555555555556,
              "#d8576b"
             ],
             [
              0.6666666666666666,
              "#ed7953"
             ],
             [
              0.7777777777777778,
              "#fb9f3a"
             ],
             [
              0.8888888888888888,
              "#fdca26"
             ],
             [
              1,
              "#f0f921"
             ]
            ],
            "type": "histogram2dcontour"
           }
          ],
          "mesh3d": [
           {
            "colorbar": {
             "outlinewidth": 0,
             "ticks": ""
            },
            "type": "mesh3d"
           }
          ],
          "parcoords": [
           {
            "line": {
             "colorbar": {
              "outlinewidth": 0,
              "ticks": ""
             }
            },
            "type": "parcoords"
           }
          ],
          "pie": [
           {
            "automargin": true,
            "type": "pie"
           }
          ],
          "scatter": [
           {
            "marker": {
             "colorbar": {
              "outlinewidth": 0,
              "ticks": ""
             }
            },
            "type": "scatter"
           }
          ],
          "scatter3d": [
           {
            "line": {
             "colorbar": {
              "outlinewidth": 0,
              "ticks": ""
             }
            },
            "marker": {
             "colorbar": {
              "outlinewidth": 0,
              "ticks": ""
             }
            },
            "type": "scatter3d"
           }
          ],
          "scattercarpet": [
           {
            "marker": {
             "colorbar": {
              "outlinewidth": 0,
              "ticks": ""
             }
            },
            "type": "scattercarpet"
           }
          ],
          "scattergeo": [
           {
            "marker": {
             "colorbar": {
              "outlinewidth": 0,
              "ticks": ""
             }
            },
            "type": "scattergeo"
           }
          ],
          "scattergl": [
           {
            "marker": {
             "colorbar": {
              "outlinewidth": 0,
              "ticks": ""
             }
            },
            "type": "scattergl"
           }
          ],
          "scattermapbox": [
           {
            "marker": {
             "colorbar": {
              "outlinewidth": 0,
              "ticks": ""
             }
            },
            "type": "scattermapbox"
           }
          ],
          "scatterpolar": [
           {
            "marker": {
             "colorbar": {
              "outlinewidth": 0,
              "ticks": ""
             }
            },
            "type": "scatterpolar"
           }
          ],
          "scatterpolargl": [
           {
            "marker": {
             "colorbar": {
              "outlinewidth": 0,
              "ticks": ""
             }
            },
            "type": "scatterpolargl"
           }
          ],
          "scatterternary": [
           {
            "marker": {
             "colorbar": {
              "outlinewidth": 0,
              "ticks": ""
             }
            },
            "type": "scatterternary"
           }
          ],
          "surface": [
           {
            "colorbar": {
             "outlinewidth": 0,
             "ticks": ""
            },
            "colorscale": [
             [
              0,
              "#0d0887"
             ],
             [
              0.1111111111111111,
              "#46039f"
             ],
             [
              0.2222222222222222,
              "#7201a8"
             ],
             [
              0.3333333333333333,
              "#9c179e"
             ],
             [
              0.4444444444444444,
              "#bd3786"
             ],
             [
              0.5555555555555556,
              "#d8576b"
             ],
             [
              0.6666666666666666,
              "#ed7953"
             ],
             [
              0.7777777777777778,
              "#fb9f3a"
             ],
             [
              0.8888888888888888,
              "#fdca26"
             ],
             [
              1,
              "#f0f921"
             ]
            ],
            "type": "surface"
           }
          ],
          "table": [
           {
            "cells": {
             "fill": {
              "color": "#EBF0F8"
             },
             "line": {
              "color": "white"
             }
            },
            "header": {
             "fill": {
              "color": "#C8D4E3"
             },
             "line": {
              "color": "white"
             }
            },
            "type": "table"
           }
          ]
         },
         "layout": {
          "annotationdefaults": {
           "arrowcolor": "#2a3f5f",
           "arrowhead": 0,
           "arrowwidth": 1
          },
          "coloraxis": {
           "colorbar": {
            "outlinewidth": 0,
            "ticks": ""
           }
          },
          "colorscale": {
           "diverging": [
            [
             0,
             "#8e0152"
            ],
            [
             0.1,
             "#c51b7d"
            ],
            [
             0.2,
             "#de77ae"
            ],
            [
             0.3,
             "#f1b6da"
            ],
            [
             0.4,
             "#fde0ef"
            ],
            [
             0.5,
             "#f7f7f7"
            ],
            [
             0.6,
             "#e6f5d0"
            ],
            [
             0.7,
             "#b8e186"
            ],
            [
             0.8,
             "#7fbc41"
            ],
            [
             0.9,
             "#4d9221"
            ],
            [
             1,
             "#276419"
            ]
           ],
           "sequential": [
            [
             0,
             "#0d0887"
            ],
            [
             0.1111111111111111,
             "#46039f"
            ],
            [
             0.2222222222222222,
             "#7201a8"
            ],
            [
             0.3333333333333333,
             "#9c179e"
            ],
            [
             0.4444444444444444,
             "#bd3786"
            ],
            [
             0.5555555555555556,
             "#d8576b"
            ],
            [
             0.6666666666666666,
             "#ed7953"
            ],
            [
             0.7777777777777778,
             "#fb9f3a"
            ],
            [
             0.8888888888888888,
             "#fdca26"
            ],
            [
             1,
             "#f0f921"
            ]
           ],
           "sequentialminus": [
            [
             0,
             "#0d0887"
            ],
            [
             0.1111111111111111,
             "#46039f"
            ],
            [
             0.2222222222222222,
             "#7201a8"
            ],
            [
             0.3333333333333333,
             "#9c179e"
            ],
            [
             0.4444444444444444,
             "#bd3786"
            ],
            [
             0.5555555555555556,
             "#d8576b"
            ],
            [
             0.6666666666666666,
             "#ed7953"
            ],
            [
             0.7777777777777778,
             "#fb9f3a"
            ],
            [
             0.8888888888888888,
             "#fdca26"
            ],
            [
             1,
             "#f0f921"
            ]
           ]
          },
          "colorway": [
           "#636efa",
           "#EF553B",
           "#00cc96",
           "#ab63fa",
           "#FFA15A",
           "#19d3f3",
           "#FF6692",
           "#B6E880",
           "#FF97FF",
           "#FECB52"
          ],
          "font": {
           "color": "#2a3f5f"
          },
          "geo": {
           "bgcolor": "white",
           "lakecolor": "white",
           "landcolor": "#E5ECF6",
           "showlakes": true,
           "showland": true,
           "subunitcolor": "white"
          },
          "hoverlabel": {
           "align": "left"
          },
          "hovermode": "closest",
          "mapbox": {
           "style": "light"
          },
          "paper_bgcolor": "white",
          "plot_bgcolor": "#E5ECF6",
          "polar": {
           "angularaxis": {
            "gridcolor": "white",
            "linecolor": "white",
            "ticks": ""
           },
           "bgcolor": "#E5ECF6",
           "radialaxis": {
            "gridcolor": "white",
            "linecolor": "white",
            "ticks": ""
           }
          },
          "scene": {
           "xaxis": {
            "backgroundcolor": "#E5ECF6",
            "gridcolor": "white",
            "gridwidth": 2,
            "linecolor": "white",
            "showbackground": true,
            "ticks": "",
            "zerolinecolor": "white"
           },
           "yaxis": {
            "backgroundcolor": "#E5ECF6",
            "gridcolor": "white",
            "gridwidth": 2,
            "linecolor": "white",
            "showbackground": true,
            "ticks": "",
            "zerolinecolor": "white"
           },
           "zaxis": {
            "backgroundcolor": "#E5ECF6",
            "gridcolor": "white",
            "gridwidth": 2,
            "linecolor": "white",
            "showbackground": true,
            "ticks": "",
            "zerolinecolor": "white"
           }
          },
          "shapedefaults": {
           "line": {
            "color": "#2a3f5f"
           }
          },
          "ternary": {
           "aaxis": {
            "gridcolor": "white",
            "linecolor": "white",
            "ticks": ""
           },
           "baxis": {
            "gridcolor": "white",
            "linecolor": "white",
            "ticks": ""
           },
           "bgcolor": "#E5ECF6",
           "caxis": {
            "gridcolor": "white",
            "linecolor": "white",
            "ticks": ""
           }
          },
          "title": {
           "x": 0.05
          },
          "xaxis": {
           "automargin": true,
           "gridcolor": "white",
           "linecolor": "white",
           "ticks": "",
           "title": {
            "standoff": 15
           },
           "zerolinecolor": "white",
           "zerolinewidth": 2
          },
          "yaxis": {
           "automargin": true,
           "gridcolor": "white",
           "linecolor": "white",
           "ticks": "",
           "title": {
            "standoff": 15
           },
           "zerolinecolor": "white",
           "zerolinewidth": 2
          }
         }
        },
        "title": {
         "font": {
          "color": "#4D5663"
         },
         "text": "Number of category kinds in noteevents"
        },
        "xaxis": {
         "gridcolor": "#E1E5ED",
         "showgrid": true,
         "tickfont": {
          "color": "#4D5663"
         },
         "title": {
          "font": {
           "color": "#4D5663"
          },
          "text": ""
         },
         "zerolinecolor": "#E1E5ED"
        },
        "yaxis": {
         "gridcolor": "#E1E5ED",
         "showgrid": true,
         "tickfont": {
          "color": "#4D5663"
         },
         "title": {
          "font": {
           "color": "#4D5663"
          },
          "text": "Number of notes"
         },
         "zerolinecolor": "#E1E5ED"
        }
       }
      },
      "text/html": [
       "<div>\n",
       "        \n",
       "        \n",
       "            <div id=\"afd843b7-db0a-4a00-a0a2-c686115eafa8\" class=\"plotly-graph-div\" style=\"height:525px; width:100%;\"></div>\n",
       "            <script type=\"text/javascript\">\n",
       "                require([\"plotly\"], function(Plotly) {\n",
       "                    window.PLOTLYENV=window.PLOTLYENV || {};\n",
       "                    window.PLOTLYENV.BASE_URL='https://plot.ly';\n",
       "                    \n",
       "                if (document.getElementById(\"afd843b7-db0a-4a00-a0a2-c686115eafa8\")) {\n",
       "                    Plotly.newPlot(\n",
       "                        'afd843b7-db0a-4a00-a0a2-c686115eafa8',\n",
       "                        [{\"marker\": {\"color\": \"rgba(255, 153, 51, 0.6)\", \"line\": {\"color\": \"rgba(255, 153, 51, 1.0)\", \"width\": 1}}, \"name\": \"CATEGORY\", \"orientation\": \"v\", \"text\": \"\", \"type\": \"bar\", \"x\": [\"Nursing\", \"Nursing/other\", \"Radiology\", \"Physician \", \"ECG\", \"Respiratory \", \"Echo\", \"General\", \"Nutrition\", \"Rehab Services\", \"Social Work\", \"Case Management \", \"Pharmacy\", \"Consult\"], \"y\": [13256, 12693, 11723, 10643, 4469, 2454, 949, 680, 638, 231, 142, 135, 15, 1]}],\n",
       "                        {\"legend\": {\"bgcolor\": \"#F5F6F9\", \"font\": {\"color\": \"#4D5663\"}}, \"paper_bgcolor\": \"#F5F6F9\", \"plot_bgcolor\": \"#F5F6F9\", \"template\": {\"data\": {\"bar\": [{\"error_x\": {\"color\": \"#2a3f5f\"}, \"error_y\": {\"color\": \"#2a3f5f\"}, \"marker\": {\"line\": {\"color\": \"#E5ECF6\", \"width\": 0.5}}, \"type\": \"bar\"}], \"barpolar\": [{\"marker\": {\"line\": {\"color\": \"#E5ECF6\", \"width\": 0.5}}, \"type\": \"barpolar\"}], \"carpet\": [{\"aaxis\": {\"endlinecolor\": \"#2a3f5f\", \"gridcolor\": \"white\", \"linecolor\": \"white\", \"minorgridcolor\": \"white\", \"startlinecolor\": \"#2a3f5f\"}, \"baxis\": {\"endlinecolor\": \"#2a3f5f\", \"gridcolor\": \"white\", \"linecolor\": \"white\", \"minorgridcolor\": \"white\", \"startlinecolor\": \"#2a3f5f\"}, \"type\": \"carpet\"}], \"choropleth\": [{\"colorbar\": {\"outlinewidth\": 0, \"ticks\": \"\"}, \"type\": \"choropleth\"}], \"contour\": [{\"colorbar\": {\"outlinewidth\": 0, \"ticks\": \"\"}, \"colorscale\": [[0.0, \"#0d0887\"], [0.1111111111111111, \"#46039f\"], [0.2222222222222222, \"#7201a8\"], [0.3333333333333333, \"#9c179e\"], [0.4444444444444444, \"#bd3786\"], [0.5555555555555556, \"#d8576b\"], [0.6666666666666666, \"#ed7953\"], [0.7777777777777778, \"#fb9f3a\"], [0.8888888888888888, \"#fdca26\"], [1.0, \"#f0f921\"]], \"type\": \"contour\"}], \"contourcarpet\": [{\"colorbar\": {\"outlinewidth\": 0, \"ticks\": \"\"}, \"type\": \"contourcarpet\"}], \"heatmap\": [{\"colorbar\": {\"outlinewidth\": 0, \"ticks\": \"\"}, \"colorscale\": [[0.0, \"#0d0887\"], [0.1111111111111111, \"#46039f\"], [0.2222222222222222, \"#7201a8\"], [0.3333333333333333, \"#9c179e\"], [0.4444444444444444, \"#bd3786\"], [0.5555555555555556, \"#d8576b\"], [0.6666666666666666, \"#ed7953\"], [0.7777777777777778, \"#fb9f3a\"], [0.8888888888888888, \"#fdca26\"], [1.0, \"#f0f921\"]], \"type\": \"heatmap\"}], \"heatmapgl\": [{\"colorbar\": {\"outlinewidth\": 0, \"ticks\": \"\"}, \"colorscale\": [[0.0, \"#0d0887\"], [0.1111111111111111, \"#46039f\"], [0.2222222222222222, \"#7201a8\"], [0.3333333333333333, \"#9c179e\"], [0.4444444444444444, \"#bd3786\"], [0.5555555555555556, \"#d8576b\"], [0.6666666666666666, \"#ed7953\"], [0.7777777777777778, \"#fb9f3a\"], [0.8888888888888888, \"#fdca26\"], [1.0, \"#f0f921\"]], \"type\": \"heatmapgl\"}], \"histogram\": [{\"marker\": {\"colorbar\": {\"outlinewidth\": 0, \"ticks\": \"\"}}, \"type\": \"histogram\"}], \"histogram2d\": [{\"colorbar\": {\"outlinewidth\": 0, \"ticks\": \"\"}, \"colorscale\": [[0.0, \"#0d0887\"], [0.1111111111111111, \"#46039f\"], [0.2222222222222222, \"#7201a8\"], [0.3333333333333333, \"#9c179e\"], [0.4444444444444444, \"#bd3786\"], [0.5555555555555556, \"#d8576b\"], [0.6666666666666666, \"#ed7953\"], [0.7777777777777778, \"#fb9f3a\"], [0.8888888888888888, \"#fdca26\"], [1.0, \"#f0f921\"]], \"type\": \"histogram2d\"}], \"histogram2dcontour\": [{\"colorbar\": {\"outlinewidth\": 0, \"ticks\": \"\"}, \"colorscale\": [[0.0, \"#0d0887\"], [0.1111111111111111, \"#46039f\"], [0.2222222222222222, \"#7201a8\"], [0.3333333333333333, \"#9c179e\"], [0.4444444444444444, \"#bd3786\"], [0.5555555555555556, \"#d8576b\"], [0.6666666666666666, \"#ed7953\"], [0.7777777777777778, \"#fb9f3a\"], [0.8888888888888888, \"#fdca26\"], [1.0, \"#f0f921\"]], \"type\": \"histogram2dcontour\"}], \"mesh3d\": [{\"colorbar\": {\"outlinewidth\": 0, \"ticks\": \"\"}, \"type\": \"mesh3d\"}], \"parcoords\": [{\"line\": {\"colorbar\": {\"outlinewidth\": 0, \"ticks\": \"\"}}, \"type\": \"parcoords\"}], \"pie\": [{\"automargin\": true, \"type\": \"pie\"}], \"scatter\": [{\"marker\": {\"colorbar\": {\"outlinewidth\": 0, \"ticks\": \"\"}}, \"type\": \"scatter\"}], \"scatter3d\": [{\"line\": {\"colorbar\": {\"outlinewidth\": 0, \"ticks\": \"\"}}, \"marker\": {\"colorbar\": {\"outlinewidth\": 0, \"ticks\": \"\"}}, \"type\": \"scatter3d\"}], \"scattercarpet\": [{\"marker\": {\"colorbar\": {\"outlinewidth\": 0, \"ticks\": \"\"}}, \"type\": \"scattercarpet\"}], \"scattergeo\": [{\"marker\": {\"colorbar\": {\"outlinewidth\": 0, \"ticks\": \"\"}}, \"type\": \"scattergeo\"}], \"scattergl\": [{\"marker\": {\"colorbar\": {\"outlinewidth\": 0, \"ticks\": \"\"}}, \"type\": \"scattergl\"}], \"scattermapbox\": [{\"marker\": {\"colorbar\": {\"outlinewidth\": 0, \"ticks\": \"\"}}, \"type\": \"scattermapbox\"}], \"scatterpolar\": [{\"marker\": {\"colorbar\": {\"outlinewidth\": 0, \"ticks\": \"\"}}, \"type\": \"scatterpolar\"}], \"scatterpolargl\": [{\"marker\": {\"colorbar\": {\"outlinewidth\": 0, \"ticks\": \"\"}}, \"type\": \"scatterpolargl\"}], \"scatterternary\": [{\"marker\": {\"colorbar\": {\"outlinewidth\": 0, \"ticks\": \"\"}}, \"type\": \"scatterternary\"}], \"surface\": [{\"colorbar\": {\"outlinewidth\": 0, \"ticks\": \"\"}, \"colorscale\": [[0.0, \"#0d0887\"], [0.1111111111111111, \"#46039f\"], [0.2222222222222222, \"#7201a8\"], [0.3333333333333333, \"#9c179e\"], [0.4444444444444444, \"#bd3786\"], [0.5555555555555556, \"#d8576b\"], [0.6666666666666666, \"#ed7953\"], [0.7777777777777778, \"#fb9f3a\"], [0.8888888888888888, \"#fdca26\"], [1.0, \"#f0f921\"]], \"type\": \"surface\"}], \"table\": [{\"cells\": {\"fill\": {\"color\": \"#EBF0F8\"}, \"line\": {\"color\": \"white\"}}, \"header\": {\"fill\": {\"color\": \"#C8D4E3\"}, \"line\": {\"color\": \"white\"}}, \"type\": \"table\"}]}, \"layout\": {\"annotationdefaults\": {\"arrowcolor\": \"#2a3f5f\", \"arrowhead\": 0, \"arrowwidth\": 1}, \"coloraxis\": {\"colorbar\": {\"outlinewidth\": 0, \"ticks\": \"\"}}, \"colorscale\": {\"diverging\": [[0, \"#8e0152\"], [0.1, \"#c51b7d\"], [0.2, \"#de77ae\"], [0.3, \"#f1b6da\"], [0.4, \"#fde0ef\"], [0.5, \"#f7f7f7\"], [0.6, \"#e6f5d0\"], [0.7, \"#b8e186\"], [0.8, \"#7fbc41\"], [0.9, \"#4d9221\"], [1, \"#276419\"]], \"sequential\": [[0.0, \"#0d0887\"], [0.1111111111111111, \"#46039f\"], [0.2222222222222222, \"#7201a8\"], [0.3333333333333333, \"#9c179e\"], [0.4444444444444444, \"#bd3786\"], [0.5555555555555556, \"#d8576b\"], [0.6666666666666666, \"#ed7953\"], [0.7777777777777778, \"#fb9f3a\"], [0.8888888888888888, \"#fdca26\"], [1.0, \"#f0f921\"]], \"sequentialminus\": [[0.0, \"#0d0887\"], [0.1111111111111111, \"#46039f\"], [0.2222222222222222, \"#7201a8\"], [0.3333333333333333, \"#9c179e\"], [0.4444444444444444, \"#bd3786\"], [0.5555555555555556, \"#d8576b\"], [0.6666666666666666, \"#ed7953\"], [0.7777777777777778, \"#fb9f3a\"], [0.8888888888888888, \"#fdca26\"], [1.0, \"#f0f921\"]]}, \"colorway\": [\"#636efa\", \"#EF553B\", \"#00cc96\", \"#ab63fa\", \"#FFA15A\", \"#19d3f3\", \"#FF6692\", \"#B6E880\", \"#FF97FF\", \"#FECB52\"], \"font\": {\"color\": \"#2a3f5f\"}, \"geo\": {\"bgcolor\": \"white\", \"lakecolor\": \"white\", \"landcolor\": \"#E5ECF6\", \"showlakes\": true, \"showland\": true, \"subunitcolor\": \"white\"}, \"hoverlabel\": {\"align\": \"left\"}, \"hovermode\": \"closest\", \"mapbox\": {\"style\": \"light\"}, \"paper_bgcolor\": \"white\", \"plot_bgcolor\": \"#E5ECF6\", \"polar\": {\"angularaxis\": {\"gridcolor\": \"white\", \"linecolor\": \"white\", \"ticks\": \"\"}, \"bgcolor\": \"#E5ECF6\", \"radialaxis\": {\"gridcolor\": \"white\", \"linecolor\": \"white\", \"ticks\": \"\"}}, \"scene\": {\"xaxis\": {\"backgroundcolor\": \"#E5ECF6\", \"gridcolor\": \"white\", \"gridwidth\": 2, \"linecolor\": \"white\", \"showbackground\": true, \"ticks\": \"\", \"zerolinecolor\": \"white\"}, \"yaxis\": {\"backgroundcolor\": \"#E5ECF6\", \"gridcolor\": \"white\", \"gridwidth\": 2, \"linecolor\": \"white\", \"showbackground\": true, \"ticks\": \"\", \"zerolinecolor\": \"white\"}, \"zaxis\": {\"backgroundcolor\": \"#E5ECF6\", \"gridcolor\": \"white\", \"gridwidth\": 2, \"linecolor\": \"white\", \"showbackground\": true, \"ticks\": \"\", \"zerolinecolor\": \"white\"}}, \"shapedefaults\": {\"line\": {\"color\": \"#2a3f5f\"}}, \"ternary\": {\"aaxis\": {\"gridcolor\": \"white\", \"linecolor\": \"white\", \"ticks\": \"\"}, \"baxis\": {\"gridcolor\": \"white\", \"linecolor\": \"white\", \"ticks\": \"\"}, \"bgcolor\": \"#E5ECF6\", \"caxis\": {\"gridcolor\": \"white\", \"linecolor\": \"white\", \"ticks\": \"\"}}, \"title\": {\"x\": 0.05}, \"xaxis\": {\"automargin\": true, \"gridcolor\": \"white\", \"linecolor\": \"white\", \"ticks\": \"\", \"title\": {\"standoff\": 15}, \"zerolinecolor\": \"white\", \"zerolinewidth\": 2}, \"yaxis\": {\"automargin\": true, \"gridcolor\": \"white\", \"linecolor\": \"white\", \"ticks\": \"\", \"title\": {\"standoff\": 15}, \"zerolinecolor\": \"white\", \"zerolinewidth\": 2}}}, \"title\": {\"font\": {\"color\": \"#4D5663\"}, \"text\": \"Number of category kinds in noteevents\"}, \"xaxis\": {\"gridcolor\": \"#E1E5ED\", \"showgrid\": true, \"tickfont\": {\"color\": \"#4D5663\"}, \"title\": {\"font\": {\"color\": \"#4D5663\"}, \"text\": \"\"}, \"zerolinecolor\": \"#E1E5ED\"}, \"yaxis\": {\"gridcolor\": \"#E1E5ED\", \"showgrid\": true, \"tickfont\": {\"color\": \"#4D5663\"}, \"title\": {\"font\": {\"color\": \"#4D5663\"}, \"text\": \"Number of notes\"}, \"zerolinecolor\": \"#E1E5ED\"}},\n",
       "                        {\"showLink\": true, \"linkText\": \"Export to plot.ly\", \"plotlyServerURL\": \"https://plot.ly\", \"responsive\": true}\n",
       "                    ).then(function(){\n",
       "                            \n",
       "var gd = document.getElementById('afd843b7-db0a-4a00-a0a2-c686115eafa8');\n",
       "var x = new MutationObserver(function (mutations, observer) {{\n",
       "        var display = window.getComputedStyle(gd).display;\n",
       "        if (!display || display === 'none') {{\n",
       "            console.log([gd, 'removed!']);\n",
       "            Plotly.purge(gd);\n",
       "            observer.disconnect();\n",
       "        }}\n",
       "}});\n",
       "\n",
       "// Listen for the removal of the full notebook cells\n",
       "var notebookContainer = gd.closest('#notebook-container');\n",
       "if (notebookContainer) {{\n",
       "    x.observe(notebookContainer, {childList: true});\n",
       "}}\n",
       "\n",
       "// Listen for the clearing of the current output cell\n",
       "var outputEl = gd.closest('.output');\n",
       "if (outputEl) {{\n",
       "    x.observe(outputEl, {childList: true});\n",
       "}}\n",
       "\n",
       "                        })\n",
       "                };\n",
       "                });\n",
       "            </script>\n",
       "        </div>"
      ]
     },
     "metadata": {},
     "output_type": "display_data"
    }
   ],
   "source": [
    "pneumonia_no_disch_df['CATEGORY'].value_counts().sort_values(ascending=False).iplot(kind='bar', yTitle='Number of notes', \n",
    "                                                                title='Number of category kinds in noteevents')"
   ]
  },
  {
   "cell_type": "code",
   "execution_count": 17,
   "metadata": {},
   "outputs": [
    {
     "name": "stdout",
     "output_type": "stream",
     "text": [
      "<class 'pandas.core.frame.DataFrame'>\n",
      "Int64Index: 58029 entries, 59103 to 2066669\n",
      "Data columns (total 8 columns):\n",
      " #   Column        Non-Null Count  Dtype \n",
      "---  ------        --------------  ----- \n",
      " 0   ROW_ID_x      58029 non-null  int64 \n",
      " 1   SUBJECT_ID_x  58029 non-null  int64 \n",
      " 2   CHARTDATE     58029 non-null  object\n",
      " 3   STORETIME     40888 non-null  object\n",
      " 4   CATEGORY      58029 non-null  object\n",
      " 5   DESCRIPTION   58029 non-null  object\n",
      " 6   TEXT          58029 non-null  object\n",
      " 7   DEATHTIME     11895 non-null  object\n",
      "dtypes: int64(2), object(6)\n",
      "memory usage: 4.0+ MB\n"
     ]
    }
   ],
   "source": [
    "pneumonia_no_disch_df.info()"
   ]
  },
  {
   "cell_type": "code",
   "execution_count": 18,
   "metadata": {},
   "outputs": [
    {
     "data": {
      "text/plain": [
       "(58029, 8)"
      ]
     },
     "execution_count": 18,
     "metadata": {},
     "output_type": "execute_result"
    }
   ],
   "source": [
    "pneumonia_no_disch_df.shape"
   ]
  },
  {
   "cell_type": "code",
   "execution_count": 19,
   "metadata": {},
   "outputs": [],
   "source": [
    "pneumonia_alive_no_disch = pneumonia_no_disch_df[pneumonia_no_disch_df.DEATHTIME.isnull()]\n",
    "pneumonia_dead_no_disch = pneumonia_no_disch_df[pneumonia_no_disch_df.DEATHTIME.notnull()]"
   ]
  },
  {
   "cell_type": "code",
   "execution_count": 20,
   "metadata": {},
   "outputs": [
    {
     "data": {
      "text/plain": [
       "(11895, 8)"
      ]
     },
     "execution_count": 20,
     "metadata": {},
     "output_type": "execute_result"
    }
   ],
   "source": [
    "pneumonia_dead_no_disch.shape"
   ]
  },
  {
   "cell_type": "code",
   "execution_count": 21,
   "metadata": {},
   "outputs": [
    {
     "data": {
      "text/plain": [
       "(46134, 8)"
      ]
     },
     "execution_count": 21,
     "metadata": {},
     "output_type": "execute_result"
    }
   ],
   "source": [
    "pneumonia_alive_no_disch.shape"
   ]
  },
  {
   "cell_type": "code",
   "execution_count": 22,
   "metadata": {},
   "outputs": [],
   "source": [
    "pneumonia_alive_no_disch = pneumonia_alive_no_disch.sort_values(by=['SUBJECT_ID_x','CHARTDATE', 'ROW_ID_x'])\n",
    "pneumonia_dead_no_disch = pneumonia_dead_no_disch.sort_values(by=['SUBJECT_ID_x','CHARTDATE', 'ROW_ID_x'])"
   ]
  },
  {
   "cell_type": "code",
   "execution_count": 23,
   "metadata": {},
   "outputs": [
    {
     "data": {
      "application/vnd.plotly.v1+json": {
       "config": {
        "linkText": "Export to plot.ly",
        "plotlyServerURL": "https://plot.ly",
        "showLink": true
       },
       "data": [
        {
         "marker": {
          "color": "rgba(255, 153, 51, 0.6)",
          "line": {
           "color": "rgba(255, 153, 51, 1.0)",
           "width": 1
          }
         },
         "name": "CATEGORY",
         "orientation": "v",
         "text": "",
         "type": "bar",
         "x": [
          "Nursing",
          "Nursing/other",
          "Radiology",
          "Physician ",
          "ECG",
          "Respiratory ",
          "Echo",
          "Nutrition",
          "General",
          "Rehab Services",
          "Case Management ",
          "Social Work",
          "Pharmacy"
         ],
         "y": [
          10574,
          10043,
          9448,
          8431,
          3623,
          1831,
          782,
          489,
          486,
          207,
          106,
          100,
          14
         ]
        }
       ],
       "layout": {
        "legend": {
         "bgcolor": "#F5F6F9",
         "font": {
          "color": "#4D5663"
         }
        },
        "paper_bgcolor": "#F5F6F9",
        "plot_bgcolor": "#F5F6F9",
        "template": {
         "data": {
          "bar": [
           {
            "error_x": {
             "color": "#2a3f5f"
            },
            "error_y": {
             "color": "#2a3f5f"
            },
            "marker": {
             "line": {
              "color": "#E5ECF6",
              "width": 0.5
             }
            },
            "type": "bar"
           }
          ],
          "barpolar": [
           {
            "marker": {
             "line": {
              "color": "#E5ECF6",
              "width": 0.5
             }
            },
            "type": "barpolar"
           }
          ],
          "carpet": [
           {
            "aaxis": {
             "endlinecolor": "#2a3f5f",
             "gridcolor": "white",
             "linecolor": "white",
             "minorgridcolor": "white",
             "startlinecolor": "#2a3f5f"
            },
            "baxis": {
             "endlinecolor": "#2a3f5f",
             "gridcolor": "white",
             "linecolor": "white",
             "minorgridcolor": "white",
             "startlinecolor": "#2a3f5f"
            },
            "type": "carpet"
           }
          ],
          "choropleth": [
           {
            "colorbar": {
             "outlinewidth": 0,
             "ticks": ""
            },
            "type": "choropleth"
           }
          ],
          "contour": [
           {
            "colorbar": {
             "outlinewidth": 0,
             "ticks": ""
            },
            "colorscale": [
             [
              0,
              "#0d0887"
             ],
             [
              0.1111111111111111,
              "#46039f"
             ],
             [
              0.2222222222222222,
              "#7201a8"
             ],
             [
              0.3333333333333333,
              "#9c179e"
             ],
             [
              0.4444444444444444,
              "#bd3786"
             ],
             [
              0.5555555555555556,
              "#d8576b"
             ],
             [
              0.6666666666666666,
              "#ed7953"
             ],
             [
              0.7777777777777778,
              "#fb9f3a"
             ],
             [
              0.8888888888888888,
              "#fdca26"
             ],
             [
              1,
              "#f0f921"
             ]
            ],
            "type": "contour"
           }
          ],
          "contourcarpet": [
           {
            "colorbar": {
             "outlinewidth": 0,
             "ticks": ""
            },
            "type": "contourcarpet"
           }
          ],
          "heatmap": [
           {
            "colorbar": {
             "outlinewidth": 0,
             "ticks": ""
            },
            "colorscale": [
             [
              0,
              "#0d0887"
             ],
             [
              0.1111111111111111,
              "#46039f"
             ],
             [
              0.2222222222222222,
              "#7201a8"
             ],
             [
              0.3333333333333333,
              "#9c179e"
             ],
             [
              0.4444444444444444,
              "#bd3786"
             ],
             [
              0.5555555555555556,
              "#d8576b"
             ],
             [
              0.6666666666666666,
              "#ed7953"
             ],
             [
              0.7777777777777778,
              "#fb9f3a"
             ],
             [
              0.8888888888888888,
              "#fdca26"
             ],
             [
              1,
              "#f0f921"
             ]
            ],
            "type": "heatmap"
           }
          ],
          "heatmapgl": [
           {
            "colorbar": {
             "outlinewidth": 0,
             "ticks": ""
            },
            "colorscale": [
             [
              0,
              "#0d0887"
             ],
             [
              0.1111111111111111,
              "#46039f"
             ],
             [
              0.2222222222222222,
              "#7201a8"
             ],
             [
              0.3333333333333333,
              "#9c179e"
             ],
             [
              0.4444444444444444,
              "#bd3786"
             ],
             [
              0.5555555555555556,
              "#d8576b"
             ],
             [
              0.6666666666666666,
              "#ed7953"
             ],
             [
              0.7777777777777778,
              "#fb9f3a"
             ],
             [
              0.8888888888888888,
              "#fdca26"
             ],
             [
              1,
              "#f0f921"
             ]
            ],
            "type": "heatmapgl"
           }
          ],
          "histogram": [
           {
            "marker": {
             "colorbar": {
              "outlinewidth": 0,
              "ticks": ""
             }
            },
            "type": "histogram"
           }
          ],
          "histogram2d": [
           {
            "colorbar": {
             "outlinewidth": 0,
             "ticks": ""
            },
            "colorscale": [
             [
              0,
              "#0d0887"
             ],
             [
              0.1111111111111111,
              "#46039f"
             ],
             [
              0.2222222222222222,
              "#7201a8"
             ],
             [
              0.3333333333333333,
              "#9c179e"
             ],
             [
              0.4444444444444444,
              "#bd3786"
             ],
             [
              0.5555555555555556,
              "#d8576b"
             ],
             [
              0.6666666666666666,
              "#ed7953"
             ],
             [
              0.7777777777777778,
              "#fb9f3a"
             ],
             [
              0.8888888888888888,
              "#fdca26"
             ],
             [
              1,
              "#f0f921"
             ]
            ],
            "type": "histogram2d"
           }
          ],
          "histogram2dcontour": [
           {
            "colorbar": {
             "outlinewidth": 0,
             "ticks": ""
            },
            "colorscale": [
             [
              0,
              "#0d0887"
             ],
             [
              0.1111111111111111,
              "#46039f"
             ],
             [
              0.2222222222222222,
              "#7201a8"
             ],
             [
              0.3333333333333333,
              "#9c179e"
             ],
             [
              0.4444444444444444,
              "#bd3786"
             ],
             [
              0.5555555555555556,
              "#d8576b"
             ],
             [
              0.6666666666666666,
              "#ed7953"
             ],
             [
              0.7777777777777778,
              "#fb9f3a"
             ],
             [
              0.8888888888888888,
              "#fdca26"
             ],
             [
              1,
              "#f0f921"
             ]
            ],
            "type": "histogram2dcontour"
           }
          ],
          "mesh3d": [
           {
            "colorbar": {
             "outlinewidth": 0,
             "ticks": ""
            },
            "type": "mesh3d"
           }
          ],
          "parcoords": [
           {
            "line": {
             "colorbar": {
              "outlinewidth": 0,
              "ticks": ""
             }
            },
            "type": "parcoords"
           }
          ],
          "pie": [
           {
            "automargin": true,
            "type": "pie"
           }
          ],
          "scatter": [
           {
            "marker": {
             "colorbar": {
              "outlinewidth": 0,
              "ticks": ""
             }
            },
            "type": "scatter"
           }
          ],
          "scatter3d": [
           {
            "line": {
             "colorbar": {
              "outlinewidth": 0,
              "ticks": ""
             }
            },
            "marker": {
             "colorbar": {
              "outlinewidth": 0,
              "ticks": ""
             }
            },
            "type": "scatter3d"
           }
          ],
          "scattercarpet": [
           {
            "marker": {
             "colorbar": {
              "outlinewidth": 0,
              "ticks": ""
             }
            },
            "type": "scattercarpet"
           }
          ],
          "scattergeo": [
           {
            "marker": {
             "colorbar": {
              "outlinewidth": 0,
              "ticks": ""
             }
            },
            "type": "scattergeo"
           }
          ],
          "scattergl": [
           {
            "marker": {
             "colorbar": {
              "outlinewidth": 0,
              "ticks": ""
             }
            },
            "type": "scattergl"
           }
          ],
          "scattermapbox": [
           {
            "marker": {
             "colorbar": {
              "outlinewidth": 0,
              "ticks": ""
             }
            },
            "type": "scattermapbox"
           }
          ],
          "scatterpolar": [
           {
            "marker": {
             "colorbar": {
              "outlinewidth": 0,
              "ticks": ""
             }
            },
            "type": "scatterpolar"
           }
          ],
          "scatterpolargl": [
           {
            "marker": {
             "colorbar": {
              "outlinewidth": 0,
              "ticks": ""
             }
            },
            "type": "scatterpolargl"
           }
          ],
          "scatterternary": [
           {
            "marker": {
             "colorbar": {
              "outlinewidth": 0,
              "ticks": ""
             }
            },
            "type": "scatterternary"
           }
          ],
          "surface": [
           {
            "colorbar": {
             "outlinewidth": 0,
             "ticks": ""
            },
            "colorscale": [
             [
              0,
              "#0d0887"
             ],
             [
              0.1111111111111111,
              "#46039f"
             ],
             [
              0.2222222222222222,
              "#7201a8"
             ],
             [
              0.3333333333333333,
              "#9c179e"
             ],
             [
              0.4444444444444444,
              "#bd3786"
             ],
             [
              0.5555555555555556,
              "#d8576b"
             ],
             [
              0.6666666666666666,
              "#ed7953"
             ],
             [
              0.7777777777777778,
              "#fb9f3a"
             ],
             [
              0.8888888888888888,
              "#fdca26"
             ],
             [
              1,
              "#f0f921"
             ]
            ],
            "type": "surface"
           }
          ],
          "table": [
           {
            "cells": {
             "fill": {
              "color": "#EBF0F8"
             },
             "line": {
              "color": "white"
             }
            },
            "header": {
             "fill": {
              "color": "#C8D4E3"
             },
             "line": {
              "color": "white"
             }
            },
            "type": "table"
           }
          ]
         },
         "layout": {
          "annotationdefaults": {
           "arrowcolor": "#2a3f5f",
           "arrowhead": 0,
           "arrowwidth": 1
          },
          "coloraxis": {
           "colorbar": {
            "outlinewidth": 0,
            "ticks": ""
           }
          },
          "colorscale": {
           "diverging": [
            [
             0,
             "#8e0152"
            ],
            [
             0.1,
             "#c51b7d"
            ],
            [
             0.2,
             "#de77ae"
            ],
            [
             0.3,
             "#f1b6da"
            ],
            [
             0.4,
             "#fde0ef"
            ],
            [
             0.5,
             "#f7f7f7"
            ],
            [
             0.6,
             "#e6f5d0"
            ],
            [
             0.7,
             "#b8e186"
            ],
            [
             0.8,
             "#7fbc41"
            ],
            [
             0.9,
             "#4d9221"
            ],
            [
             1,
             "#276419"
            ]
           ],
           "sequential": [
            [
             0,
             "#0d0887"
            ],
            [
             0.1111111111111111,
             "#46039f"
            ],
            [
             0.2222222222222222,
             "#7201a8"
            ],
            [
             0.3333333333333333,
             "#9c179e"
            ],
            [
             0.4444444444444444,
             "#bd3786"
            ],
            [
             0.5555555555555556,
             "#d8576b"
            ],
            [
             0.6666666666666666,
             "#ed7953"
            ],
            [
             0.7777777777777778,
             "#fb9f3a"
            ],
            [
             0.8888888888888888,
             "#fdca26"
            ],
            [
             1,
             "#f0f921"
            ]
           ],
           "sequentialminus": [
            [
             0,
             "#0d0887"
            ],
            [
             0.1111111111111111,
             "#46039f"
            ],
            [
             0.2222222222222222,
             "#7201a8"
            ],
            [
             0.3333333333333333,
             "#9c179e"
            ],
            [
             0.4444444444444444,
             "#bd3786"
            ],
            [
             0.5555555555555556,
             "#d8576b"
            ],
            [
             0.6666666666666666,
             "#ed7953"
            ],
            [
             0.7777777777777778,
             "#fb9f3a"
            ],
            [
             0.8888888888888888,
             "#fdca26"
            ],
            [
             1,
             "#f0f921"
            ]
           ]
          },
          "colorway": [
           "#636efa",
           "#EF553B",
           "#00cc96",
           "#ab63fa",
           "#FFA15A",
           "#19d3f3",
           "#FF6692",
           "#B6E880",
           "#FF97FF",
           "#FECB52"
          ],
          "font": {
           "color": "#2a3f5f"
          },
          "geo": {
           "bgcolor": "white",
           "lakecolor": "white",
           "landcolor": "#E5ECF6",
           "showlakes": true,
           "showland": true,
           "subunitcolor": "white"
          },
          "hoverlabel": {
           "align": "left"
          },
          "hovermode": "closest",
          "mapbox": {
           "style": "light"
          },
          "paper_bgcolor": "white",
          "plot_bgcolor": "#E5ECF6",
          "polar": {
           "angularaxis": {
            "gridcolor": "white",
            "linecolor": "white",
            "ticks": ""
           },
           "bgcolor": "#E5ECF6",
           "radialaxis": {
            "gridcolor": "white",
            "linecolor": "white",
            "ticks": ""
           }
          },
          "scene": {
           "xaxis": {
            "backgroundcolor": "#E5ECF6",
            "gridcolor": "white",
            "gridwidth": 2,
            "linecolor": "white",
            "showbackground": true,
            "ticks": "",
            "zerolinecolor": "white"
           },
           "yaxis": {
            "backgroundcolor": "#E5ECF6",
            "gridcolor": "white",
            "gridwidth": 2,
            "linecolor": "white",
            "showbackground": true,
            "ticks": "",
            "zerolinecolor": "white"
           },
           "zaxis": {
            "backgroundcolor": "#E5ECF6",
            "gridcolor": "white",
            "gridwidth": 2,
            "linecolor": "white",
            "showbackground": true,
            "ticks": "",
            "zerolinecolor": "white"
           }
          },
          "shapedefaults": {
           "line": {
            "color": "#2a3f5f"
           }
          },
          "ternary": {
           "aaxis": {
            "gridcolor": "white",
            "linecolor": "white",
            "ticks": ""
           },
           "baxis": {
            "gridcolor": "white",
            "linecolor": "white",
            "ticks": ""
           },
           "bgcolor": "#E5ECF6",
           "caxis": {
            "gridcolor": "white",
            "linecolor": "white",
            "ticks": ""
           }
          },
          "title": {
           "x": 0.05
          },
          "xaxis": {
           "automargin": true,
           "gridcolor": "white",
           "linecolor": "white",
           "ticks": "",
           "title": {
            "standoff": 15
           },
           "zerolinecolor": "white",
           "zerolinewidth": 2
          },
          "yaxis": {
           "automargin": true,
           "gridcolor": "white",
           "linecolor": "white",
           "ticks": "",
           "title": {
            "standoff": 15
           },
           "zerolinecolor": "white",
           "zerolinewidth": 2
          }
         }
        },
        "title": {
         "font": {
          "color": "#4D5663"
         },
         "text": "Number of category kinds in pneumonia alive"
        },
        "xaxis": {
         "gridcolor": "#E1E5ED",
         "showgrid": true,
         "tickfont": {
          "color": "#4D5663"
         },
         "title": {
          "font": {
           "color": "#4D5663"
          },
          "text": ""
         },
         "zerolinecolor": "#E1E5ED"
        },
        "yaxis": {
         "gridcolor": "#E1E5ED",
         "showgrid": true,
         "tickfont": {
          "color": "#4D5663"
         },
         "title": {
          "font": {
           "color": "#4D5663"
          },
          "text": "Number of notes"
         },
         "zerolinecolor": "#E1E5ED"
        }
       }
      },
      "text/html": [
       "<div>\n",
       "        \n",
       "        \n",
       "            <div id=\"d2728235-00dc-42b4-a8c8-a6d7bcf6774e\" class=\"plotly-graph-div\" style=\"height:525px; width:100%;\"></div>\n",
       "            <script type=\"text/javascript\">\n",
       "                require([\"plotly\"], function(Plotly) {\n",
       "                    window.PLOTLYENV=window.PLOTLYENV || {};\n",
       "                    window.PLOTLYENV.BASE_URL='https://plot.ly';\n",
       "                    \n",
       "                if (document.getElementById(\"d2728235-00dc-42b4-a8c8-a6d7bcf6774e\")) {\n",
       "                    Plotly.newPlot(\n",
       "                        'd2728235-00dc-42b4-a8c8-a6d7bcf6774e',\n",
       "                        [{\"marker\": {\"color\": \"rgba(255, 153, 51, 0.6)\", \"line\": {\"color\": \"rgba(255, 153, 51, 1.0)\", \"width\": 1}}, \"name\": \"CATEGORY\", \"orientation\": \"v\", \"text\": \"\", \"type\": \"bar\", \"x\": [\"Nursing\", \"Nursing/other\", \"Radiology\", \"Physician \", \"ECG\", \"Respiratory \", \"Echo\", \"Nutrition\", \"General\", \"Rehab Services\", \"Case Management \", \"Social Work\", \"Pharmacy\"], \"y\": [10574, 10043, 9448, 8431, 3623, 1831, 782, 489, 486, 207, 106, 100, 14]}],\n",
       "                        {\"legend\": {\"bgcolor\": \"#F5F6F9\", \"font\": {\"color\": \"#4D5663\"}}, \"paper_bgcolor\": \"#F5F6F9\", \"plot_bgcolor\": \"#F5F6F9\", \"template\": {\"data\": {\"bar\": [{\"error_x\": {\"color\": \"#2a3f5f\"}, \"error_y\": {\"color\": \"#2a3f5f\"}, \"marker\": {\"line\": {\"color\": \"#E5ECF6\", \"width\": 0.5}}, \"type\": \"bar\"}], \"barpolar\": [{\"marker\": {\"line\": {\"color\": \"#E5ECF6\", \"width\": 0.5}}, \"type\": \"barpolar\"}], \"carpet\": [{\"aaxis\": {\"endlinecolor\": \"#2a3f5f\", \"gridcolor\": \"white\", \"linecolor\": \"white\", \"minorgridcolor\": \"white\", \"startlinecolor\": \"#2a3f5f\"}, \"baxis\": {\"endlinecolor\": \"#2a3f5f\", \"gridcolor\": \"white\", \"linecolor\": \"white\", \"minorgridcolor\": \"white\", \"startlinecolor\": \"#2a3f5f\"}, \"type\": \"carpet\"}], \"choropleth\": [{\"colorbar\": {\"outlinewidth\": 0, \"ticks\": \"\"}, \"type\": \"choropleth\"}], \"contour\": [{\"colorbar\": {\"outlinewidth\": 0, \"ticks\": \"\"}, \"colorscale\": [[0.0, \"#0d0887\"], [0.1111111111111111, \"#46039f\"], [0.2222222222222222, \"#7201a8\"], [0.3333333333333333, \"#9c179e\"], [0.4444444444444444, \"#bd3786\"], [0.5555555555555556, \"#d8576b\"], [0.6666666666666666, \"#ed7953\"], [0.7777777777777778, \"#fb9f3a\"], [0.8888888888888888, \"#fdca26\"], [1.0, \"#f0f921\"]], \"type\": \"contour\"}], \"contourcarpet\": [{\"colorbar\": {\"outlinewidth\": 0, \"ticks\": \"\"}, \"type\": \"contourcarpet\"}], \"heatmap\": [{\"colorbar\": {\"outlinewidth\": 0, \"ticks\": \"\"}, \"colorscale\": [[0.0, \"#0d0887\"], [0.1111111111111111, \"#46039f\"], [0.2222222222222222, \"#7201a8\"], [0.3333333333333333, \"#9c179e\"], [0.4444444444444444, \"#bd3786\"], [0.5555555555555556, \"#d8576b\"], [0.6666666666666666, \"#ed7953\"], [0.7777777777777778, \"#fb9f3a\"], [0.8888888888888888, \"#fdca26\"], [1.0, \"#f0f921\"]], \"type\": \"heatmap\"}], \"heatmapgl\": [{\"colorbar\": {\"outlinewidth\": 0, \"ticks\": \"\"}, \"colorscale\": [[0.0, \"#0d0887\"], [0.1111111111111111, \"#46039f\"], [0.2222222222222222, \"#7201a8\"], [0.3333333333333333, \"#9c179e\"], [0.4444444444444444, \"#bd3786\"], [0.5555555555555556, \"#d8576b\"], [0.6666666666666666, \"#ed7953\"], [0.7777777777777778, \"#fb9f3a\"], [0.8888888888888888, \"#fdca26\"], [1.0, \"#f0f921\"]], \"type\": \"heatmapgl\"}], \"histogram\": [{\"marker\": {\"colorbar\": {\"outlinewidth\": 0, \"ticks\": \"\"}}, \"type\": \"histogram\"}], \"histogram2d\": [{\"colorbar\": {\"outlinewidth\": 0, \"ticks\": \"\"}, \"colorscale\": [[0.0, \"#0d0887\"], [0.1111111111111111, \"#46039f\"], [0.2222222222222222, \"#7201a8\"], [0.3333333333333333, \"#9c179e\"], [0.4444444444444444, \"#bd3786\"], [0.5555555555555556, \"#d8576b\"], [0.6666666666666666, \"#ed7953\"], [0.7777777777777778, \"#fb9f3a\"], [0.8888888888888888, \"#fdca26\"], [1.0, \"#f0f921\"]], \"type\": \"histogram2d\"}], \"histogram2dcontour\": [{\"colorbar\": {\"outlinewidth\": 0, \"ticks\": \"\"}, \"colorscale\": [[0.0, \"#0d0887\"], [0.1111111111111111, \"#46039f\"], [0.2222222222222222, \"#7201a8\"], [0.3333333333333333, \"#9c179e\"], [0.4444444444444444, \"#bd3786\"], [0.5555555555555556, \"#d8576b\"], [0.6666666666666666, \"#ed7953\"], [0.7777777777777778, \"#fb9f3a\"], [0.8888888888888888, \"#fdca26\"], [1.0, \"#f0f921\"]], \"type\": \"histogram2dcontour\"}], \"mesh3d\": [{\"colorbar\": {\"outlinewidth\": 0, \"ticks\": \"\"}, \"type\": \"mesh3d\"}], \"parcoords\": [{\"line\": {\"colorbar\": {\"outlinewidth\": 0, \"ticks\": \"\"}}, \"type\": \"parcoords\"}], \"pie\": [{\"automargin\": true, \"type\": \"pie\"}], \"scatter\": [{\"marker\": {\"colorbar\": {\"outlinewidth\": 0, \"ticks\": \"\"}}, \"type\": \"scatter\"}], \"scatter3d\": [{\"line\": {\"colorbar\": {\"outlinewidth\": 0, \"ticks\": \"\"}}, \"marker\": {\"colorbar\": {\"outlinewidth\": 0, \"ticks\": \"\"}}, \"type\": \"scatter3d\"}], \"scattercarpet\": [{\"marker\": {\"colorbar\": {\"outlinewidth\": 0, \"ticks\": \"\"}}, \"type\": \"scattercarpet\"}], \"scattergeo\": [{\"marker\": {\"colorbar\": {\"outlinewidth\": 0, \"ticks\": \"\"}}, \"type\": \"scattergeo\"}], \"scattergl\": [{\"marker\": {\"colorbar\": {\"outlinewidth\": 0, \"ticks\": \"\"}}, \"type\": \"scattergl\"}], \"scattermapbox\": [{\"marker\": {\"colorbar\": {\"outlinewidth\": 0, \"ticks\": \"\"}}, \"type\": \"scattermapbox\"}], \"scatterpolar\": [{\"marker\": {\"colorbar\": {\"outlinewidth\": 0, \"ticks\": \"\"}}, \"type\": \"scatterpolar\"}], \"scatterpolargl\": [{\"marker\": {\"colorbar\": {\"outlinewidth\": 0, \"ticks\": \"\"}}, \"type\": \"scatterpolargl\"}], \"scatterternary\": [{\"marker\": {\"colorbar\": {\"outlinewidth\": 0, \"ticks\": \"\"}}, \"type\": \"scatterternary\"}], \"surface\": [{\"colorbar\": {\"outlinewidth\": 0, \"ticks\": \"\"}, \"colorscale\": [[0.0, \"#0d0887\"], [0.1111111111111111, \"#46039f\"], [0.2222222222222222, \"#7201a8\"], [0.3333333333333333, \"#9c179e\"], [0.4444444444444444, \"#bd3786\"], [0.5555555555555556, \"#d8576b\"], [0.6666666666666666, \"#ed7953\"], [0.7777777777777778, \"#fb9f3a\"], [0.8888888888888888, \"#fdca26\"], [1.0, \"#f0f921\"]], \"type\": \"surface\"}], \"table\": [{\"cells\": {\"fill\": {\"color\": \"#EBF0F8\"}, \"line\": {\"color\": \"white\"}}, \"header\": {\"fill\": {\"color\": \"#C8D4E3\"}, \"line\": {\"color\": \"white\"}}, \"type\": \"table\"}]}, \"layout\": {\"annotationdefaults\": {\"arrowcolor\": \"#2a3f5f\", \"arrowhead\": 0, \"arrowwidth\": 1}, \"coloraxis\": {\"colorbar\": {\"outlinewidth\": 0, \"ticks\": \"\"}}, \"colorscale\": {\"diverging\": [[0, \"#8e0152\"], [0.1, \"#c51b7d\"], [0.2, \"#de77ae\"], [0.3, \"#f1b6da\"], [0.4, \"#fde0ef\"], [0.5, \"#f7f7f7\"], [0.6, \"#e6f5d0\"], [0.7, \"#b8e186\"], [0.8, \"#7fbc41\"], [0.9, \"#4d9221\"], [1, \"#276419\"]], \"sequential\": [[0.0, \"#0d0887\"], [0.1111111111111111, \"#46039f\"], [0.2222222222222222, \"#7201a8\"], [0.3333333333333333, \"#9c179e\"], [0.4444444444444444, \"#bd3786\"], [0.5555555555555556, \"#d8576b\"], [0.6666666666666666, \"#ed7953\"], [0.7777777777777778, \"#fb9f3a\"], [0.8888888888888888, \"#fdca26\"], [1.0, \"#f0f921\"]], \"sequentialminus\": [[0.0, \"#0d0887\"], [0.1111111111111111, \"#46039f\"], [0.2222222222222222, \"#7201a8\"], [0.3333333333333333, \"#9c179e\"], [0.4444444444444444, \"#bd3786\"], [0.5555555555555556, \"#d8576b\"], [0.6666666666666666, \"#ed7953\"], [0.7777777777777778, \"#fb9f3a\"], [0.8888888888888888, \"#fdca26\"], [1.0, \"#f0f921\"]]}, \"colorway\": [\"#636efa\", \"#EF553B\", \"#00cc96\", \"#ab63fa\", \"#FFA15A\", \"#19d3f3\", \"#FF6692\", \"#B6E880\", \"#FF97FF\", \"#FECB52\"], \"font\": {\"color\": \"#2a3f5f\"}, \"geo\": {\"bgcolor\": \"white\", \"lakecolor\": \"white\", \"landcolor\": \"#E5ECF6\", \"showlakes\": true, \"showland\": true, \"subunitcolor\": \"white\"}, \"hoverlabel\": {\"align\": \"left\"}, \"hovermode\": \"closest\", \"mapbox\": {\"style\": \"light\"}, \"paper_bgcolor\": \"white\", \"plot_bgcolor\": \"#E5ECF6\", \"polar\": {\"angularaxis\": {\"gridcolor\": \"white\", \"linecolor\": \"white\", \"ticks\": \"\"}, \"bgcolor\": \"#E5ECF6\", \"radialaxis\": {\"gridcolor\": \"white\", \"linecolor\": \"white\", \"ticks\": \"\"}}, \"scene\": {\"xaxis\": {\"backgroundcolor\": \"#E5ECF6\", \"gridcolor\": \"white\", \"gridwidth\": 2, \"linecolor\": \"white\", \"showbackground\": true, \"ticks\": \"\", \"zerolinecolor\": \"white\"}, \"yaxis\": {\"backgroundcolor\": \"#E5ECF6\", \"gridcolor\": \"white\", \"gridwidth\": 2, \"linecolor\": \"white\", \"showbackground\": true, \"ticks\": \"\", \"zerolinecolor\": \"white\"}, \"zaxis\": {\"backgroundcolor\": \"#E5ECF6\", \"gridcolor\": \"white\", \"gridwidth\": 2, \"linecolor\": \"white\", \"showbackground\": true, \"ticks\": \"\", \"zerolinecolor\": \"white\"}}, \"shapedefaults\": {\"line\": {\"color\": \"#2a3f5f\"}}, \"ternary\": {\"aaxis\": {\"gridcolor\": \"white\", \"linecolor\": \"white\", \"ticks\": \"\"}, \"baxis\": {\"gridcolor\": \"white\", \"linecolor\": \"white\", \"ticks\": \"\"}, \"bgcolor\": \"#E5ECF6\", \"caxis\": {\"gridcolor\": \"white\", \"linecolor\": \"white\", \"ticks\": \"\"}}, \"title\": {\"x\": 0.05}, \"xaxis\": {\"automargin\": true, \"gridcolor\": \"white\", \"linecolor\": \"white\", \"ticks\": \"\", \"title\": {\"standoff\": 15}, \"zerolinecolor\": \"white\", \"zerolinewidth\": 2}, \"yaxis\": {\"automargin\": true, \"gridcolor\": \"white\", \"linecolor\": \"white\", \"ticks\": \"\", \"title\": {\"standoff\": 15}, \"zerolinecolor\": \"white\", \"zerolinewidth\": 2}}}, \"title\": {\"font\": {\"color\": \"#4D5663\"}, \"text\": \"Number of category kinds in pneumonia alive\"}, \"xaxis\": {\"gridcolor\": \"#E1E5ED\", \"showgrid\": true, \"tickfont\": {\"color\": \"#4D5663\"}, \"title\": {\"font\": {\"color\": \"#4D5663\"}, \"text\": \"\"}, \"zerolinecolor\": \"#E1E5ED\"}, \"yaxis\": {\"gridcolor\": \"#E1E5ED\", \"showgrid\": true, \"tickfont\": {\"color\": \"#4D5663\"}, \"title\": {\"font\": {\"color\": \"#4D5663\"}, \"text\": \"Number of notes\"}, \"zerolinecolor\": \"#E1E5ED\"}},\n",
       "                        {\"showLink\": true, \"linkText\": \"Export to plot.ly\", \"plotlyServerURL\": \"https://plot.ly\", \"responsive\": true}\n",
       "                    ).then(function(){\n",
       "                            \n",
       "var gd = document.getElementById('d2728235-00dc-42b4-a8c8-a6d7bcf6774e');\n",
       "var x = new MutationObserver(function (mutations, observer) {{\n",
       "        var display = window.getComputedStyle(gd).display;\n",
       "        if (!display || display === 'none') {{\n",
       "            console.log([gd, 'removed!']);\n",
       "            Plotly.purge(gd);\n",
       "            observer.disconnect();\n",
       "        }}\n",
       "}});\n",
       "\n",
       "// Listen for the removal of the full notebook cells\n",
       "var notebookContainer = gd.closest('#notebook-container');\n",
       "if (notebookContainer) {{\n",
       "    x.observe(notebookContainer, {childList: true});\n",
       "}}\n",
       "\n",
       "// Listen for the clearing of the current output cell\n",
       "var outputEl = gd.closest('.output');\n",
       "if (outputEl) {{\n",
       "    x.observe(outputEl, {childList: true});\n",
       "}}\n",
       "\n",
       "                        })\n",
       "                };\n",
       "                });\n",
       "            </script>\n",
       "        </div>"
      ]
     },
     "metadata": {},
     "output_type": "display_data"
    }
   ],
   "source": [
    "pneumonia_alive_no_disch['CATEGORY'].value_counts().sort_values(ascending=False).iplot(kind='bar', yTitle='Number of notes', \n",
    "                                                                title='Number of category kinds in pneumonia alive')"
   ]
  },
  {
   "cell_type": "code",
   "execution_count": 24,
   "metadata": {
    "scrolled": false
   },
   "outputs": [
    {
     "data": {
      "application/vnd.plotly.v1+json": {
       "config": {
        "linkText": "Export to plot.ly",
        "plotlyServerURL": "https://plot.ly",
        "showLink": true
       },
       "data": [
        {
         "marker": {
          "color": "rgba(255, 153, 51, 0.6)",
          "line": {
           "color": "rgba(255, 153, 51, 1.0)",
           "width": 1
          }
         },
         "name": "CATEGORY",
         "orientation": "v",
         "text": "",
         "type": "bar",
         "x": [
          "Nursing",
          "Nursing/other",
          "Radiology",
          "Physician ",
          "ECG",
          "Respiratory ",
          "General",
          "Echo",
          "Nutrition",
          "Social Work",
          "Case Management ",
          "Rehab Services",
          "Consult",
          "Pharmacy"
         ],
         "y": [
          2682,
          2650,
          2275,
          2212,
          846,
          623,
          194,
          167,
          149,
          42,
          29,
          24,
          1,
          1
         ]
        }
       ],
       "layout": {
        "legend": {
         "bgcolor": "#F5F6F9",
         "font": {
          "color": "#4D5663"
         }
        },
        "paper_bgcolor": "#F5F6F9",
        "plot_bgcolor": "#F5F6F9",
        "template": {
         "data": {
          "bar": [
           {
            "error_x": {
             "color": "#2a3f5f"
            },
            "error_y": {
             "color": "#2a3f5f"
            },
            "marker": {
             "line": {
              "color": "#E5ECF6",
              "width": 0.5
             }
            },
            "type": "bar"
           }
          ],
          "barpolar": [
           {
            "marker": {
             "line": {
              "color": "#E5ECF6",
              "width": 0.5
             }
            },
            "type": "barpolar"
           }
          ],
          "carpet": [
           {
            "aaxis": {
             "endlinecolor": "#2a3f5f",
             "gridcolor": "white",
             "linecolor": "white",
             "minorgridcolor": "white",
             "startlinecolor": "#2a3f5f"
            },
            "baxis": {
             "endlinecolor": "#2a3f5f",
             "gridcolor": "white",
             "linecolor": "white",
             "minorgridcolor": "white",
             "startlinecolor": "#2a3f5f"
            },
            "type": "carpet"
           }
          ],
          "choropleth": [
           {
            "colorbar": {
             "outlinewidth": 0,
             "ticks": ""
            },
            "type": "choropleth"
           }
          ],
          "contour": [
           {
            "colorbar": {
             "outlinewidth": 0,
             "ticks": ""
            },
            "colorscale": [
             [
              0,
              "#0d0887"
             ],
             [
              0.1111111111111111,
              "#46039f"
             ],
             [
              0.2222222222222222,
              "#7201a8"
             ],
             [
              0.3333333333333333,
              "#9c179e"
             ],
             [
              0.4444444444444444,
              "#bd3786"
             ],
             [
              0.5555555555555556,
              "#d8576b"
             ],
             [
              0.6666666666666666,
              "#ed7953"
             ],
             [
              0.7777777777777778,
              "#fb9f3a"
             ],
             [
              0.8888888888888888,
              "#fdca26"
             ],
             [
              1,
              "#f0f921"
             ]
            ],
            "type": "contour"
           }
          ],
          "contourcarpet": [
           {
            "colorbar": {
             "outlinewidth": 0,
             "ticks": ""
            },
            "type": "contourcarpet"
           }
          ],
          "heatmap": [
           {
            "colorbar": {
             "outlinewidth": 0,
             "ticks": ""
            },
            "colorscale": [
             [
              0,
              "#0d0887"
             ],
             [
              0.1111111111111111,
              "#46039f"
             ],
             [
              0.2222222222222222,
              "#7201a8"
             ],
             [
              0.3333333333333333,
              "#9c179e"
             ],
             [
              0.4444444444444444,
              "#bd3786"
             ],
             [
              0.5555555555555556,
              "#d8576b"
             ],
             [
              0.6666666666666666,
              "#ed7953"
             ],
             [
              0.7777777777777778,
              "#fb9f3a"
             ],
             [
              0.8888888888888888,
              "#fdca26"
             ],
             [
              1,
              "#f0f921"
             ]
            ],
            "type": "heatmap"
           }
          ],
          "heatmapgl": [
           {
            "colorbar": {
             "outlinewidth": 0,
             "ticks": ""
            },
            "colorscale": [
             [
              0,
              "#0d0887"
             ],
             [
              0.1111111111111111,
              "#46039f"
             ],
             [
              0.2222222222222222,
              "#7201a8"
             ],
             [
              0.3333333333333333,
              "#9c179e"
             ],
             [
              0.4444444444444444,
              "#bd3786"
             ],
             [
              0.5555555555555556,
              "#d8576b"
             ],
             [
              0.6666666666666666,
              "#ed7953"
             ],
             [
              0.7777777777777778,
              "#fb9f3a"
             ],
             [
              0.8888888888888888,
              "#fdca26"
             ],
             [
              1,
              "#f0f921"
             ]
            ],
            "type": "heatmapgl"
           }
          ],
          "histogram": [
           {
            "marker": {
             "colorbar": {
              "outlinewidth": 0,
              "ticks": ""
             }
            },
            "type": "histogram"
           }
          ],
          "histogram2d": [
           {
            "colorbar": {
             "outlinewidth": 0,
             "ticks": ""
            },
            "colorscale": [
             [
              0,
              "#0d0887"
             ],
             [
              0.1111111111111111,
              "#46039f"
             ],
             [
              0.2222222222222222,
              "#7201a8"
             ],
             [
              0.3333333333333333,
              "#9c179e"
             ],
             [
              0.4444444444444444,
              "#bd3786"
             ],
             [
              0.5555555555555556,
              "#d8576b"
             ],
             [
              0.6666666666666666,
              "#ed7953"
             ],
             [
              0.7777777777777778,
              "#fb9f3a"
             ],
             [
              0.8888888888888888,
              "#fdca26"
             ],
             [
              1,
              "#f0f921"
             ]
            ],
            "type": "histogram2d"
           }
          ],
          "histogram2dcontour": [
           {
            "colorbar": {
             "outlinewidth": 0,
             "ticks": ""
            },
            "colorscale": [
             [
              0,
              "#0d0887"
             ],
             [
              0.1111111111111111,
              "#46039f"
             ],
             [
              0.2222222222222222,
              "#7201a8"
             ],
             [
              0.3333333333333333,
              "#9c179e"
             ],
             [
              0.4444444444444444,
              "#bd3786"
             ],
             [
              0.5555555555555556,
              "#d8576b"
             ],
             [
              0.6666666666666666,
              "#ed7953"
             ],
             [
              0.7777777777777778,
              "#fb9f3a"
             ],
             [
              0.8888888888888888,
              "#fdca26"
             ],
             [
              1,
              "#f0f921"
             ]
            ],
            "type": "histogram2dcontour"
           }
          ],
          "mesh3d": [
           {
            "colorbar": {
             "outlinewidth": 0,
             "ticks": ""
            },
            "type": "mesh3d"
           }
          ],
          "parcoords": [
           {
            "line": {
             "colorbar": {
              "outlinewidth": 0,
              "ticks": ""
             }
            },
            "type": "parcoords"
           }
          ],
          "pie": [
           {
            "automargin": true,
            "type": "pie"
           }
          ],
          "scatter": [
           {
            "marker": {
             "colorbar": {
              "outlinewidth": 0,
              "ticks": ""
             }
            },
            "type": "scatter"
           }
          ],
          "scatter3d": [
           {
            "line": {
             "colorbar": {
              "outlinewidth": 0,
              "ticks": ""
             }
            },
            "marker": {
             "colorbar": {
              "outlinewidth": 0,
              "ticks": ""
             }
            },
            "type": "scatter3d"
           }
          ],
          "scattercarpet": [
           {
            "marker": {
             "colorbar": {
              "outlinewidth": 0,
              "ticks": ""
             }
            },
            "type": "scattercarpet"
           }
          ],
          "scattergeo": [
           {
            "marker": {
             "colorbar": {
              "outlinewidth": 0,
              "ticks": ""
             }
            },
            "type": "scattergeo"
           }
          ],
          "scattergl": [
           {
            "marker": {
             "colorbar": {
              "outlinewidth": 0,
              "ticks": ""
             }
            },
            "type": "scattergl"
           }
          ],
          "scattermapbox": [
           {
            "marker": {
             "colorbar": {
              "outlinewidth": 0,
              "ticks": ""
             }
            },
            "type": "scattermapbox"
           }
          ],
          "scatterpolar": [
           {
            "marker": {
             "colorbar": {
              "outlinewidth": 0,
              "ticks": ""
             }
            },
            "type": "scatterpolar"
           }
          ],
          "scatterpolargl": [
           {
            "marker": {
             "colorbar": {
              "outlinewidth": 0,
              "ticks": ""
             }
            },
            "type": "scatterpolargl"
           }
          ],
          "scatterternary": [
           {
            "marker": {
             "colorbar": {
              "outlinewidth": 0,
              "ticks": ""
             }
            },
            "type": "scatterternary"
           }
          ],
          "surface": [
           {
            "colorbar": {
             "outlinewidth": 0,
             "ticks": ""
            },
            "colorscale": [
             [
              0,
              "#0d0887"
             ],
             [
              0.1111111111111111,
              "#46039f"
             ],
             [
              0.2222222222222222,
              "#7201a8"
             ],
             [
              0.3333333333333333,
              "#9c179e"
             ],
             [
              0.4444444444444444,
              "#bd3786"
             ],
             [
              0.5555555555555556,
              "#d8576b"
             ],
             [
              0.6666666666666666,
              "#ed7953"
             ],
             [
              0.7777777777777778,
              "#fb9f3a"
             ],
             [
              0.8888888888888888,
              "#fdca26"
             ],
             [
              1,
              "#f0f921"
             ]
            ],
            "type": "surface"
           }
          ],
          "table": [
           {
            "cells": {
             "fill": {
              "color": "#EBF0F8"
             },
             "line": {
              "color": "white"
             }
            },
            "header": {
             "fill": {
              "color": "#C8D4E3"
             },
             "line": {
              "color": "white"
             }
            },
            "type": "table"
           }
          ]
         },
         "layout": {
          "annotationdefaults": {
           "arrowcolor": "#2a3f5f",
           "arrowhead": 0,
           "arrowwidth": 1
          },
          "coloraxis": {
           "colorbar": {
            "outlinewidth": 0,
            "ticks": ""
           }
          },
          "colorscale": {
           "diverging": [
            [
             0,
             "#8e0152"
            ],
            [
             0.1,
             "#c51b7d"
            ],
            [
             0.2,
             "#de77ae"
            ],
            [
             0.3,
             "#f1b6da"
            ],
            [
             0.4,
             "#fde0ef"
            ],
            [
             0.5,
             "#f7f7f7"
            ],
            [
             0.6,
             "#e6f5d0"
            ],
            [
             0.7,
             "#b8e186"
            ],
            [
             0.8,
             "#7fbc41"
            ],
            [
             0.9,
             "#4d9221"
            ],
            [
             1,
             "#276419"
            ]
           ],
           "sequential": [
            [
             0,
             "#0d0887"
            ],
            [
             0.1111111111111111,
             "#46039f"
            ],
            [
             0.2222222222222222,
             "#7201a8"
            ],
            [
             0.3333333333333333,
             "#9c179e"
            ],
            [
             0.4444444444444444,
             "#bd3786"
            ],
            [
             0.5555555555555556,
             "#d8576b"
            ],
            [
             0.6666666666666666,
             "#ed7953"
            ],
            [
             0.7777777777777778,
             "#fb9f3a"
            ],
            [
             0.8888888888888888,
             "#fdca26"
            ],
            [
             1,
             "#f0f921"
            ]
           ],
           "sequentialminus": [
            [
             0,
             "#0d0887"
            ],
            [
             0.1111111111111111,
             "#46039f"
            ],
            [
             0.2222222222222222,
             "#7201a8"
            ],
            [
             0.3333333333333333,
             "#9c179e"
            ],
            [
             0.4444444444444444,
             "#bd3786"
            ],
            [
             0.5555555555555556,
             "#d8576b"
            ],
            [
             0.6666666666666666,
             "#ed7953"
            ],
            [
             0.7777777777777778,
             "#fb9f3a"
            ],
            [
             0.8888888888888888,
             "#fdca26"
            ],
            [
             1,
             "#f0f921"
            ]
           ]
          },
          "colorway": [
           "#636efa",
           "#EF553B",
           "#00cc96",
           "#ab63fa",
           "#FFA15A",
           "#19d3f3",
           "#FF6692",
           "#B6E880",
           "#FF97FF",
           "#FECB52"
          ],
          "font": {
           "color": "#2a3f5f"
          },
          "geo": {
           "bgcolor": "white",
           "lakecolor": "white",
           "landcolor": "#E5ECF6",
           "showlakes": true,
           "showland": true,
           "subunitcolor": "white"
          },
          "hoverlabel": {
           "align": "left"
          },
          "hovermode": "closest",
          "mapbox": {
           "style": "light"
          },
          "paper_bgcolor": "white",
          "plot_bgcolor": "#E5ECF6",
          "polar": {
           "angularaxis": {
            "gridcolor": "white",
            "linecolor": "white",
            "ticks": ""
           },
           "bgcolor": "#E5ECF6",
           "radialaxis": {
            "gridcolor": "white",
            "linecolor": "white",
            "ticks": ""
           }
          },
          "scene": {
           "xaxis": {
            "backgroundcolor": "#E5ECF6",
            "gridcolor": "white",
            "gridwidth": 2,
            "linecolor": "white",
            "showbackground": true,
            "ticks": "",
            "zerolinecolor": "white"
           },
           "yaxis": {
            "backgroundcolor": "#E5ECF6",
            "gridcolor": "white",
            "gridwidth": 2,
            "linecolor": "white",
            "showbackground": true,
            "ticks": "",
            "zerolinecolor": "white"
           },
           "zaxis": {
            "backgroundcolor": "#E5ECF6",
            "gridcolor": "white",
            "gridwidth": 2,
            "linecolor": "white",
            "showbackground": true,
            "ticks": "",
            "zerolinecolor": "white"
           }
          },
          "shapedefaults": {
           "line": {
            "color": "#2a3f5f"
           }
          },
          "ternary": {
           "aaxis": {
            "gridcolor": "white",
            "linecolor": "white",
            "ticks": ""
           },
           "baxis": {
            "gridcolor": "white",
            "linecolor": "white",
            "ticks": ""
           },
           "bgcolor": "#E5ECF6",
           "caxis": {
            "gridcolor": "white",
            "linecolor": "white",
            "ticks": ""
           }
          },
          "title": {
           "x": 0.05
          },
          "xaxis": {
           "automargin": true,
           "gridcolor": "white",
           "linecolor": "white",
           "ticks": "",
           "title": {
            "standoff": 15
           },
           "zerolinecolor": "white",
           "zerolinewidth": 2
          },
          "yaxis": {
           "automargin": true,
           "gridcolor": "white",
           "linecolor": "white",
           "ticks": "",
           "title": {
            "standoff": 15
           },
           "zerolinecolor": "white",
           "zerolinewidth": 2
          }
         }
        },
        "title": {
         "font": {
          "color": "#4D5663"
         },
         "text": "Number of category kinds in pneumonia alive"
        },
        "xaxis": {
         "gridcolor": "#E1E5ED",
         "showgrid": true,
         "tickfont": {
          "color": "#4D5663"
         },
         "title": {
          "font": {
           "color": "#4D5663"
          },
          "text": ""
         },
         "zerolinecolor": "#E1E5ED"
        },
        "yaxis": {
         "gridcolor": "#E1E5ED",
         "showgrid": true,
         "tickfont": {
          "color": "#4D5663"
         },
         "title": {
          "font": {
           "color": "#4D5663"
          },
          "text": "Number of notes"
         },
         "zerolinecolor": "#E1E5ED"
        }
       }
      },
      "text/html": [
       "<div>\n",
       "        \n",
       "        \n",
       "            <div id=\"cbcb2ae7-0891-4901-a0f8-8799f947a27d\" class=\"plotly-graph-div\" style=\"height:525px; width:100%;\"></div>\n",
       "            <script type=\"text/javascript\">\n",
       "                require([\"plotly\"], function(Plotly) {\n",
       "                    window.PLOTLYENV=window.PLOTLYENV || {};\n",
       "                    window.PLOTLYENV.BASE_URL='https://plot.ly';\n",
       "                    \n",
       "                if (document.getElementById(\"cbcb2ae7-0891-4901-a0f8-8799f947a27d\")) {\n",
       "                    Plotly.newPlot(\n",
       "                        'cbcb2ae7-0891-4901-a0f8-8799f947a27d',\n",
       "                        [{\"marker\": {\"color\": \"rgba(255, 153, 51, 0.6)\", \"line\": {\"color\": \"rgba(255, 153, 51, 1.0)\", \"width\": 1}}, \"name\": \"CATEGORY\", \"orientation\": \"v\", \"text\": \"\", \"type\": \"bar\", \"x\": [\"Nursing\", \"Nursing/other\", \"Radiology\", \"Physician \", \"ECG\", \"Respiratory \", \"General\", \"Echo\", \"Nutrition\", \"Social Work\", \"Case Management \", \"Rehab Services\", \"Consult\", \"Pharmacy\"], \"y\": [2682, 2650, 2275, 2212, 846, 623, 194, 167, 149, 42, 29, 24, 1, 1]}],\n",
       "                        {\"legend\": {\"bgcolor\": \"#F5F6F9\", \"font\": {\"color\": \"#4D5663\"}}, \"paper_bgcolor\": \"#F5F6F9\", \"plot_bgcolor\": \"#F5F6F9\", \"template\": {\"data\": {\"bar\": [{\"error_x\": {\"color\": \"#2a3f5f\"}, \"error_y\": {\"color\": \"#2a3f5f\"}, \"marker\": {\"line\": {\"color\": \"#E5ECF6\", \"width\": 0.5}}, \"type\": \"bar\"}], \"barpolar\": [{\"marker\": {\"line\": {\"color\": \"#E5ECF6\", \"width\": 0.5}}, \"type\": \"barpolar\"}], \"carpet\": [{\"aaxis\": {\"endlinecolor\": \"#2a3f5f\", \"gridcolor\": \"white\", \"linecolor\": \"white\", \"minorgridcolor\": \"white\", \"startlinecolor\": \"#2a3f5f\"}, \"baxis\": {\"endlinecolor\": \"#2a3f5f\", \"gridcolor\": \"white\", \"linecolor\": \"white\", \"minorgridcolor\": \"white\", \"startlinecolor\": \"#2a3f5f\"}, \"type\": \"carpet\"}], \"choropleth\": [{\"colorbar\": {\"outlinewidth\": 0, \"ticks\": \"\"}, \"type\": \"choropleth\"}], \"contour\": [{\"colorbar\": {\"outlinewidth\": 0, \"ticks\": \"\"}, \"colorscale\": [[0.0, \"#0d0887\"], [0.1111111111111111, \"#46039f\"], [0.2222222222222222, \"#7201a8\"], [0.3333333333333333, \"#9c179e\"], [0.4444444444444444, \"#bd3786\"], [0.5555555555555556, \"#d8576b\"], [0.6666666666666666, \"#ed7953\"], [0.7777777777777778, \"#fb9f3a\"], [0.8888888888888888, \"#fdca26\"], [1.0, \"#f0f921\"]], \"type\": \"contour\"}], \"contourcarpet\": [{\"colorbar\": {\"outlinewidth\": 0, \"ticks\": \"\"}, \"type\": \"contourcarpet\"}], \"heatmap\": [{\"colorbar\": {\"outlinewidth\": 0, \"ticks\": \"\"}, \"colorscale\": [[0.0, \"#0d0887\"], [0.1111111111111111, \"#46039f\"], [0.2222222222222222, \"#7201a8\"], [0.3333333333333333, \"#9c179e\"], [0.4444444444444444, \"#bd3786\"], [0.5555555555555556, \"#d8576b\"], [0.6666666666666666, \"#ed7953\"], [0.7777777777777778, \"#fb9f3a\"], [0.8888888888888888, \"#fdca26\"], [1.0, \"#f0f921\"]], \"type\": \"heatmap\"}], \"heatmapgl\": [{\"colorbar\": {\"outlinewidth\": 0, \"ticks\": \"\"}, \"colorscale\": [[0.0, \"#0d0887\"], [0.1111111111111111, \"#46039f\"], [0.2222222222222222, \"#7201a8\"], [0.3333333333333333, \"#9c179e\"], [0.4444444444444444, \"#bd3786\"], [0.5555555555555556, \"#d8576b\"], [0.6666666666666666, \"#ed7953\"], [0.7777777777777778, \"#fb9f3a\"], [0.8888888888888888, \"#fdca26\"], [1.0, \"#f0f921\"]], \"type\": \"heatmapgl\"}], \"histogram\": [{\"marker\": {\"colorbar\": {\"outlinewidth\": 0, \"ticks\": \"\"}}, \"type\": \"histogram\"}], \"histogram2d\": [{\"colorbar\": {\"outlinewidth\": 0, \"ticks\": \"\"}, \"colorscale\": [[0.0, \"#0d0887\"], [0.1111111111111111, \"#46039f\"], [0.2222222222222222, \"#7201a8\"], [0.3333333333333333, \"#9c179e\"], [0.4444444444444444, \"#bd3786\"], [0.5555555555555556, \"#d8576b\"], [0.6666666666666666, \"#ed7953\"], [0.7777777777777778, \"#fb9f3a\"], [0.8888888888888888, \"#fdca26\"], [1.0, \"#f0f921\"]], \"type\": \"histogram2d\"}], \"histogram2dcontour\": [{\"colorbar\": {\"outlinewidth\": 0, \"ticks\": \"\"}, \"colorscale\": [[0.0, \"#0d0887\"], [0.1111111111111111, \"#46039f\"], [0.2222222222222222, \"#7201a8\"], [0.3333333333333333, \"#9c179e\"], [0.4444444444444444, \"#bd3786\"], [0.5555555555555556, \"#d8576b\"], [0.6666666666666666, \"#ed7953\"], [0.7777777777777778, \"#fb9f3a\"], [0.8888888888888888, \"#fdca26\"], [1.0, \"#f0f921\"]], \"type\": \"histogram2dcontour\"}], \"mesh3d\": [{\"colorbar\": {\"outlinewidth\": 0, \"ticks\": \"\"}, \"type\": \"mesh3d\"}], \"parcoords\": [{\"line\": {\"colorbar\": {\"outlinewidth\": 0, \"ticks\": \"\"}}, \"type\": \"parcoords\"}], \"pie\": [{\"automargin\": true, \"type\": \"pie\"}], \"scatter\": [{\"marker\": {\"colorbar\": {\"outlinewidth\": 0, \"ticks\": \"\"}}, \"type\": \"scatter\"}], \"scatter3d\": [{\"line\": {\"colorbar\": {\"outlinewidth\": 0, \"ticks\": \"\"}}, \"marker\": {\"colorbar\": {\"outlinewidth\": 0, \"ticks\": \"\"}}, \"type\": \"scatter3d\"}], \"scattercarpet\": [{\"marker\": {\"colorbar\": {\"outlinewidth\": 0, \"ticks\": \"\"}}, \"type\": \"scattercarpet\"}], \"scattergeo\": [{\"marker\": {\"colorbar\": {\"outlinewidth\": 0, \"ticks\": \"\"}}, \"type\": \"scattergeo\"}], \"scattergl\": [{\"marker\": {\"colorbar\": {\"outlinewidth\": 0, \"ticks\": \"\"}}, \"type\": \"scattergl\"}], \"scattermapbox\": [{\"marker\": {\"colorbar\": {\"outlinewidth\": 0, \"ticks\": \"\"}}, \"type\": \"scattermapbox\"}], \"scatterpolar\": [{\"marker\": {\"colorbar\": {\"outlinewidth\": 0, \"ticks\": \"\"}}, \"type\": \"scatterpolar\"}], \"scatterpolargl\": [{\"marker\": {\"colorbar\": {\"outlinewidth\": 0, \"ticks\": \"\"}}, \"type\": \"scatterpolargl\"}], \"scatterternary\": [{\"marker\": {\"colorbar\": {\"outlinewidth\": 0, \"ticks\": \"\"}}, \"type\": \"scatterternary\"}], \"surface\": [{\"colorbar\": {\"outlinewidth\": 0, \"ticks\": \"\"}, \"colorscale\": [[0.0, \"#0d0887\"], [0.1111111111111111, \"#46039f\"], [0.2222222222222222, \"#7201a8\"], [0.3333333333333333, \"#9c179e\"], [0.4444444444444444, \"#bd3786\"], [0.5555555555555556, \"#d8576b\"], [0.6666666666666666, \"#ed7953\"], [0.7777777777777778, \"#fb9f3a\"], [0.8888888888888888, \"#fdca26\"], [1.0, \"#f0f921\"]], \"type\": \"surface\"}], \"table\": [{\"cells\": {\"fill\": {\"color\": \"#EBF0F8\"}, \"line\": {\"color\": \"white\"}}, \"header\": {\"fill\": {\"color\": \"#C8D4E3\"}, \"line\": {\"color\": \"white\"}}, \"type\": \"table\"}]}, \"layout\": {\"annotationdefaults\": {\"arrowcolor\": \"#2a3f5f\", \"arrowhead\": 0, \"arrowwidth\": 1}, \"coloraxis\": {\"colorbar\": {\"outlinewidth\": 0, \"ticks\": \"\"}}, \"colorscale\": {\"diverging\": [[0, \"#8e0152\"], [0.1, \"#c51b7d\"], [0.2, \"#de77ae\"], [0.3, \"#f1b6da\"], [0.4, \"#fde0ef\"], [0.5, \"#f7f7f7\"], [0.6, \"#e6f5d0\"], [0.7, \"#b8e186\"], [0.8, \"#7fbc41\"], [0.9, \"#4d9221\"], [1, \"#276419\"]], \"sequential\": [[0.0, \"#0d0887\"], [0.1111111111111111, \"#46039f\"], [0.2222222222222222, \"#7201a8\"], [0.3333333333333333, \"#9c179e\"], [0.4444444444444444, \"#bd3786\"], [0.5555555555555556, \"#d8576b\"], [0.6666666666666666, \"#ed7953\"], [0.7777777777777778, \"#fb9f3a\"], [0.8888888888888888, \"#fdca26\"], [1.0, \"#f0f921\"]], \"sequentialminus\": [[0.0, \"#0d0887\"], [0.1111111111111111, \"#46039f\"], [0.2222222222222222, \"#7201a8\"], [0.3333333333333333, \"#9c179e\"], [0.4444444444444444, \"#bd3786\"], [0.5555555555555556, \"#d8576b\"], [0.6666666666666666, \"#ed7953\"], [0.7777777777777778, \"#fb9f3a\"], [0.8888888888888888, \"#fdca26\"], [1.0, \"#f0f921\"]]}, \"colorway\": [\"#636efa\", \"#EF553B\", \"#00cc96\", \"#ab63fa\", \"#FFA15A\", \"#19d3f3\", \"#FF6692\", \"#B6E880\", \"#FF97FF\", \"#FECB52\"], \"font\": {\"color\": \"#2a3f5f\"}, \"geo\": {\"bgcolor\": \"white\", \"lakecolor\": \"white\", \"landcolor\": \"#E5ECF6\", \"showlakes\": true, \"showland\": true, \"subunitcolor\": \"white\"}, \"hoverlabel\": {\"align\": \"left\"}, \"hovermode\": \"closest\", \"mapbox\": {\"style\": \"light\"}, \"paper_bgcolor\": \"white\", \"plot_bgcolor\": \"#E5ECF6\", \"polar\": {\"angularaxis\": {\"gridcolor\": \"white\", \"linecolor\": \"white\", \"ticks\": \"\"}, \"bgcolor\": \"#E5ECF6\", \"radialaxis\": {\"gridcolor\": \"white\", \"linecolor\": \"white\", \"ticks\": \"\"}}, \"scene\": {\"xaxis\": {\"backgroundcolor\": \"#E5ECF6\", \"gridcolor\": \"white\", \"gridwidth\": 2, \"linecolor\": \"white\", \"showbackground\": true, \"ticks\": \"\", \"zerolinecolor\": \"white\"}, \"yaxis\": {\"backgroundcolor\": \"#E5ECF6\", \"gridcolor\": \"white\", \"gridwidth\": 2, \"linecolor\": \"white\", \"showbackground\": true, \"ticks\": \"\", \"zerolinecolor\": \"white\"}, \"zaxis\": {\"backgroundcolor\": \"#E5ECF6\", \"gridcolor\": \"white\", \"gridwidth\": 2, \"linecolor\": \"white\", \"showbackground\": true, \"ticks\": \"\", \"zerolinecolor\": \"white\"}}, \"shapedefaults\": {\"line\": {\"color\": \"#2a3f5f\"}}, \"ternary\": {\"aaxis\": {\"gridcolor\": \"white\", \"linecolor\": \"white\", \"ticks\": \"\"}, \"baxis\": {\"gridcolor\": \"white\", \"linecolor\": \"white\", \"ticks\": \"\"}, \"bgcolor\": \"#E5ECF6\", \"caxis\": {\"gridcolor\": \"white\", \"linecolor\": \"white\", \"ticks\": \"\"}}, \"title\": {\"x\": 0.05}, \"xaxis\": {\"automargin\": true, \"gridcolor\": \"white\", \"linecolor\": \"white\", \"ticks\": \"\", \"title\": {\"standoff\": 15}, \"zerolinecolor\": \"white\", \"zerolinewidth\": 2}, \"yaxis\": {\"automargin\": true, \"gridcolor\": \"white\", \"linecolor\": \"white\", \"ticks\": \"\", \"title\": {\"standoff\": 15}, \"zerolinecolor\": \"white\", \"zerolinewidth\": 2}}}, \"title\": {\"font\": {\"color\": \"#4D5663\"}, \"text\": \"Number of category kinds in pneumonia alive\"}, \"xaxis\": {\"gridcolor\": \"#E1E5ED\", \"showgrid\": true, \"tickfont\": {\"color\": \"#4D5663\"}, \"title\": {\"font\": {\"color\": \"#4D5663\"}, \"text\": \"\"}, \"zerolinecolor\": \"#E1E5ED\"}, \"yaxis\": {\"gridcolor\": \"#E1E5ED\", \"showgrid\": true, \"tickfont\": {\"color\": \"#4D5663\"}, \"title\": {\"font\": {\"color\": \"#4D5663\"}, \"text\": \"Number of notes\"}, \"zerolinecolor\": \"#E1E5ED\"}},\n",
       "                        {\"showLink\": true, \"linkText\": \"Export to plot.ly\", \"plotlyServerURL\": \"https://plot.ly\", \"responsive\": true}\n",
       "                    ).then(function(){\n",
       "                            \n",
       "var gd = document.getElementById('cbcb2ae7-0891-4901-a0f8-8799f947a27d');\n",
       "var x = new MutationObserver(function (mutations, observer) {{\n",
       "        var display = window.getComputedStyle(gd).display;\n",
       "        if (!display || display === 'none') {{\n",
       "            console.log([gd, 'removed!']);\n",
       "            Plotly.purge(gd);\n",
       "            observer.disconnect();\n",
       "        }}\n",
       "}});\n",
       "\n",
       "// Listen for the removal of the full notebook cells\n",
       "var notebookContainer = gd.closest('#notebook-container');\n",
       "if (notebookContainer) {{\n",
       "    x.observe(notebookContainer, {childList: true});\n",
       "}}\n",
       "\n",
       "// Listen for the clearing of the current output cell\n",
       "var outputEl = gd.closest('.output');\n",
       "if (outputEl) {{\n",
       "    x.observe(outputEl, {childList: true});\n",
       "}}\n",
       "\n",
       "                        })\n",
       "                };\n",
       "                });\n",
       "            </script>\n",
       "        </div>"
      ]
     },
     "metadata": {},
     "output_type": "display_data"
    }
   ],
   "source": [
    "pneumonia_dead_no_disch['CATEGORY'].value_counts().sort_values(ascending=False).iplot(kind='bar', yTitle='Number of notes', \n",
    "                                                                title='Number of category kinds in pneumonia alive')"
   ]
  },
  {
   "cell_type": "code",
   "execution_count": 25,
   "metadata": {},
   "outputs": [
    {
     "data": {
      "text/html": [
       "<div>\n",
       "<style scoped>\n",
       "    .dataframe tbody tr th:only-of-type {\n",
       "        vertical-align: middle;\n",
       "    }\n",
       "\n",
       "    .dataframe tbody tr th {\n",
       "        vertical-align: top;\n",
       "    }\n",
       "\n",
       "    .dataframe thead th {\n",
       "        text-align: right;\n",
       "    }\n",
       "</style>\n",
       "<table border=\"1\" class=\"dataframe\">\n",
       "  <thead>\n",
       "    <tr style=\"text-align: right;\">\n",
       "      <th></th>\n",
       "      <th>ROW_ID_x</th>\n",
       "      <th>SUBJECT_ID_x</th>\n",
       "      <th>CHARTDATE</th>\n",
       "      <th>STORETIME</th>\n",
       "      <th>CATEGORY</th>\n",
       "      <th>DESCRIPTION</th>\n",
       "      <th>TEXT</th>\n",
       "      <th>DEATHTIME</th>\n",
       "    </tr>\n",
       "  </thead>\n",
       "  <tbody>\n",
       "    <tr>\n",
       "      <th>137480</th>\n",
       "      <td>149869</td>\n",
       "      <td>68</td>\n",
       "      <td>2173-12-15</td>\n",
       "      <td>NaN</td>\n",
       "      <td>ECG</td>\n",
       "      <td>Report</td>\n",
       "      <td>Sinus tachycardia. Compared to the previous tr...</td>\n",
       "      <td>NaN</td>\n",
       "    </tr>\n",
       "    <tr>\n",
       "      <th>137481</th>\n",
       "      <td>149870</td>\n",
       "      <td>68</td>\n",
       "      <td>2173-12-15</td>\n",
       "      <td>NaN</td>\n",
       "      <td>ECG</td>\n",
       "      <td>Report</td>\n",
       "      <td>Sinus rhythm. Delayed anterior precordial R wa...</td>\n",
       "      <td>NaN</td>\n",
       "    </tr>\n",
       "    <tr>\n",
       "      <th>1259578</th>\n",
       "      <td>1261173</td>\n",
       "      <td>68</td>\n",
       "      <td>2173-12-16</td>\n",
       "      <td>2173-12-16 05:09:00</td>\n",
       "      <td>Nursing/other</td>\n",
       "      <td>Report</td>\n",
       "      <td>Micu nsg admission note\\n41yo female with AIDS...</td>\n",
       "      <td>NaN</td>\n",
       "    </tr>\n",
       "    <tr>\n",
       "      <th>1259579</th>\n",
       "      <td>1261174</td>\n",
       "      <td>68</td>\n",
       "      <td>2173-12-16</td>\n",
       "      <td>2173-12-16 17:08:00</td>\n",
       "      <td>Nursing/other</td>\n",
       "      <td>Report</td>\n",
       "      <td>NSG 0700-1900\\nEvents: Attempted eating breakf...</td>\n",
       "      <td>NaN</td>\n",
       "    </tr>\n",
       "    <tr>\n",
       "      <th>1258821</th>\n",
       "      <td>1261175</td>\n",
       "      <td>68</td>\n",
       "      <td>2173-12-16</td>\n",
       "      <td>2173-12-16 17:18:00</td>\n",
       "      <td>Nursing/other</td>\n",
       "      <td>Report</td>\n",
       "      <td>Resp Care\\n\\nSputum induction obtained for PCP...</td>\n",
       "      <td>NaN</td>\n",
       "    </tr>\n",
       "    <tr>\n",
       "      <th>...</th>\n",
       "      <td>...</td>\n",
       "      <td>...</td>\n",
       "      <td>...</td>\n",
       "      <td>...</td>\n",
       "      <td>...</td>\n",
       "      <td>...</td>\n",
       "      <td>...</td>\n",
       "      <td>...</td>\n",
       "    </tr>\n",
       "    <tr>\n",
       "      <th>1129253</th>\n",
       "      <td>1138542</td>\n",
       "      <td>99937</td>\n",
       "      <td>2128-05-11</td>\n",
       "      <td>NaN</td>\n",
       "      <td>Radiology</td>\n",
       "      <td>CHEST (PORTABLE AP)</td>\n",
       "      <td>[**2128-5-11**] 11:57 AM\\n CHEST (PORTABLE AP)...</td>\n",
       "      <td>NaN</td>\n",
       "    </tr>\n",
       "    <tr>\n",
       "      <th>1129150</th>\n",
       "      <td>1138569</td>\n",
       "      <td>99937</td>\n",
       "      <td>2128-05-11</td>\n",
       "      <td>NaN</td>\n",
       "      <td>Radiology</td>\n",
       "      <td>CTA CHEST W&amp;W/O C&amp;RECONS, NON-CORONARY</td>\n",
       "      <td>[**2128-5-11**] 1:44 PM\\n CTA CHEST W&amp;W/O C&amp;RE...</td>\n",
       "      <td>NaN</td>\n",
       "    </tr>\n",
       "    <tr>\n",
       "      <th>148040</th>\n",
       "      <td>130595</td>\n",
       "      <td>99937</td>\n",
       "      <td>2128-05-12</td>\n",
       "      <td>NaN</td>\n",
       "      <td>ECG</td>\n",
       "      <td>Report</td>\n",
       "      <td>Normal sinus rhythm. Compared to tracing #1 no...</td>\n",
       "      <td>NaN</td>\n",
       "    </tr>\n",
       "    <tr>\n",
       "      <th>1129514</th>\n",
       "      <td>1138666</td>\n",
       "      <td>99937</td>\n",
       "      <td>2128-05-12</td>\n",
       "      <td>NaN</td>\n",
       "      <td>Radiology</td>\n",
       "      <td>CHEST (PORTABLE AP)</td>\n",
       "      <td>[**2128-5-12**] 7:27 AM\\n CHEST (PORTABLE AP) ...</td>\n",
       "      <td>NaN</td>\n",
       "    </tr>\n",
       "    <tr>\n",
       "      <th>65449</th>\n",
       "      <td>65037</td>\n",
       "      <td>99937</td>\n",
       "      <td>2128-05-13</td>\n",
       "      <td>NaN</td>\n",
       "      <td>Echo</td>\n",
       "      <td>Report</td>\n",
       "      <td>PATIENT/TEST INFORMATION:\\nIndication: Left ve...</td>\n",
       "      <td>NaN</td>\n",
       "    </tr>\n",
       "  </tbody>\n",
       "</table>\n",
       "<p>46134 rows × 8 columns</p>\n",
       "</div>"
      ],
      "text/plain": [
       "         ROW_ID_x  SUBJECT_ID_x   CHARTDATE            STORETIME  \\\n",
       "137480     149869            68  2173-12-15                  NaN   \n",
       "137481     149870            68  2173-12-15                  NaN   \n",
       "1259578   1261173            68  2173-12-16  2173-12-16 05:09:00   \n",
       "1259579   1261174            68  2173-12-16  2173-12-16 17:08:00   \n",
       "1258821   1261175            68  2173-12-16  2173-12-16 17:18:00   \n",
       "...           ...           ...         ...                  ...   \n",
       "1129253   1138542         99937  2128-05-11                  NaN   \n",
       "1129150   1138569         99937  2128-05-11                  NaN   \n",
       "148040     130595         99937  2128-05-12                  NaN   \n",
       "1129514   1138666         99937  2128-05-12                  NaN   \n",
       "65449       65037         99937  2128-05-13                  NaN   \n",
       "\n",
       "              CATEGORY                             DESCRIPTION  \\\n",
       "137480             ECG                                  Report   \n",
       "137481             ECG                                  Report   \n",
       "1259578  Nursing/other                                  Report   \n",
       "1259579  Nursing/other                                  Report   \n",
       "1258821  Nursing/other                                  Report   \n",
       "...                ...                                     ...   \n",
       "1129253      Radiology                     CHEST (PORTABLE AP)   \n",
       "1129150      Radiology  CTA CHEST W&W/O C&RECONS, NON-CORONARY   \n",
       "148040             ECG                                  Report   \n",
       "1129514      Radiology                     CHEST (PORTABLE AP)   \n",
       "65449             Echo                                  Report   \n",
       "\n",
       "                                                      TEXT DEATHTIME  \n",
       "137480   Sinus tachycardia. Compared to the previous tr...       NaN  \n",
       "137481   Sinus rhythm. Delayed anterior precordial R wa...       NaN  \n",
       "1259578  Micu nsg admission note\\n41yo female with AIDS...       NaN  \n",
       "1259579  NSG 0700-1900\\nEvents: Attempted eating breakf...       NaN  \n",
       "1258821  Resp Care\\n\\nSputum induction obtained for PCP...       NaN  \n",
       "...                                                    ...       ...  \n",
       "1129253  [**2128-5-11**] 11:57 AM\\n CHEST (PORTABLE AP)...       NaN  \n",
       "1129150  [**2128-5-11**] 1:44 PM\\n CTA CHEST W&W/O C&RE...       NaN  \n",
       "148040   Normal sinus rhythm. Compared to tracing #1 no...       NaN  \n",
       "1129514  [**2128-5-12**] 7:27 AM\\n CHEST (PORTABLE AP) ...       NaN  \n",
       "65449    PATIENT/TEST INFORMATION:\\nIndication: Left ve...       NaN  \n",
       "\n",
       "[46134 rows x 8 columns]"
      ]
     },
     "execution_count": 25,
     "metadata": {},
     "output_type": "execute_result"
    }
   ],
   "source": [
    "pneumonia_alive_no_disch"
   ]
  },
  {
   "cell_type": "code",
   "execution_count": 26,
   "metadata": {},
   "outputs": [
    {
     "data": {
      "text/plain": [
       "252"
      ]
     },
     "execution_count": 26,
     "metadata": {},
     "output_type": "execute_result"
    }
   ],
   "source": [
    "# Number of patients\n",
    "pneumonia_dead_no_disch['SUBJECT_ID_x'].nunique()"
   ]
  },
  {
   "cell_type": "code",
   "execution_count": 27,
   "metadata": {
    "scrolled": true
   },
   "outputs": [
    {
     "data": {
      "text/plain": [
       "1167"
      ]
     },
     "execution_count": 27,
     "metadata": {},
     "output_type": "execute_result"
    }
   ],
   "source": [
    "# Number of patients\n",
    "pneumonia_alive_no_disch['SUBJECT_ID_x'].nunique()"
   ]
  },
  {
   "cell_type": "code",
   "execution_count": 28,
   "metadata": {},
   "outputs": [],
   "source": [
    "# import text handling tool\n",
    "from nltk.tokenize import word_tokenize\n",
    "from nltk.corpus import stopwords\n",
    "from nltk.stem import PorterStemmer\n",
    "\n",
    "from collections import Counter\n",
    "\n",
    "import sys\n",
    "import re\n",
    "import csv\n",
    "import os.path\n",
    "\n",
    "# define constants\n",
    "# RESULT_HEADER = \"WORD, FREQUENCY\\n\"\n",
    "MIN_SEQ_LEN = 4\n",
    "USE_1_N_SEQ = 2\n",
    "\n",
    "\n",
    "# words that do not have meaning (can be modified later)\n",
    "USELESS_WORDS = [\"a\", \"the\", \"he\", \"she\", \",\", \".\", \"?\", \"!\", \":\", \";\", \"+\", \"*\", \"**\"\\\n",
    "                 \"your\", \"you\"]\n",
    "\n",
    "# count up the frequency of every word in every disease file\n",
    "stemmer = PorterStemmer()\n",
    "# create set of words to ignore in text\n",
    "stop_words = set(stopwords.words('english'))\n",
    "\n",
    "for word in USELESS_WORDS:\n",
    "    stop_words.add(word)"
   ]
  },
  {
   "cell_type": "code",
   "execution_count": null,
   "metadata": {},
   "outputs": [],
   "source": []
  },
  {
   "cell_type": "code",
   "execution_count": 29,
   "metadata": {},
   "outputs": [
    {
     "name": "stderr",
     "output_type": "stream",
     "text": [
      "100%|██████████| 11895/11895 [00:01<00:00, 9179.00it/s]\n",
      "100%|██████████| 46134/46134 [00:05<00:00, 9194.34it/s]\n"
     ]
    }
   ],
   "source": [
    "\n",
    "#----------\n",
    "def count_notes_per_patient(disease_df):\n",
    "    patient_id_to_num_notes = {}\n",
    "    patient_id = -1\n",
    "    note_counter = 0\n",
    "            \n",
    "    for index, row in tqdm(disease_df.iterrows(), total=disease_df.shape[0]):\n",
    "        patient_id_check = int(row['SUBJECT_ID_x'])\n",
    "                \n",
    "        if not patient_id == patient_id_check:\n",
    "            patient_id_to_num_notes[patient_id] = note_counter\n",
    "            note_counter = 1\n",
    "        else:\n",
    "            note_counter += 1\n",
    "                    \n",
    "        patient_id = patient_id_check\n",
    "                \n",
    "    patient_id_to_num_notes[patient_id] = note_counter\n",
    "    del patient_id_to_num_notes[-1]\n",
    "    return patient_id_to_num_notes\n",
    "\n",
    "patient_id_to_num_notes = {}\n",
    "patient_id_to_num_notes['pneumonia_dead'] = count_notes_per_patient(pneumonia_dead_no_disch)\n",
    "patient_id_to_num_notes['pneumonia_alive'] = count_notes_per_patient(pneumonia_alive_no_disch)"
   ]
  },
  {
   "cell_type": "code",
   "execution_count": 30,
   "metadata": {},
   "outputs": [
    {
     "data": {
      "text/plain": [
       "{'pneumonia_dead': {111: 12,\n",
       "  346: 25,\n",
       "  404: 3,\n",
       "  546: 6,\n",
       "  618: 16,\n",
       "  705: 15,\n",
       "  726: 48,\n",
       "  1039: 55,\n",
       "  1556: 37,\n",
       "  1872: 3,\n",
       "  1944: 56,\n",
       "  2286: 69,\n",
       "  2990: 166,\n",
       "  3055: 29,\n",
       "  3099: 13,\n",
       "  3201: 8,\n",
       "  3526: 7,\n",
       "  3773: 6,\n",
       "  3881: 20,\n",
       "  4122: 51,\n",
       "  4754: 101,\n",
       "  4811: 21,\n",
       "  5476: 1,\n",
       "  5494: 22,\n",
       "  5774: 104,\n",
       "  5786: 152,\n",
       "  5913: 1,\n",
       "  6133: 68,\n",
       "  6735: 13,\n",
       "  6745: 13,\n",
       "  6973: 36,\n",
       "  6981: 8,\n",
       "  7277: 66,\n",
       "  7310: 8,\n",
       "  7924: 9,\n",
       "  7977: 9,\n",
       "  9908: 11,\n",
       "  9984: 15,\n",
       "  10302: 100,\n",
       "  10510: 86,\n",
       "  10545: 10,\n",
       "  10642: 10,\n",
       "  11049: 14,\n",
       "  11209: 9,\n",
       "  11395: 41,\n",
       "  12530: 24,\n",
       "  12849: 50,\n",
       "  13098: 46,\n",
       "  13566: 23,\n",
       "  14125: 9,\n",
       "  14514: 96,\n",
       "  14965: 25,\n",
       "  15159: 15,\n",
       "  15251: 11,\n",
       "  15396: 17,\n",
       "  15566: 37,\n",
       "  15853: 45,\n",
       "  16275: 17,\n",
       "  16344: 27,\n",
       "  16622: 51,\n",
       "  16684: 29,\n",
       "  17122: 16,\n",
       "  17354: 5,\n",
       "  17802: 64,\n",
       "  17983: 65,\n",
       "  18094: 23,\n",
       "  18736: 35,\n",
       "  18768: 46,\n",
       "  18848: 205,\n",
       "  18971: 26,\n",
       "  19243: 25,\n",
       "  19323: 6,\n",
       "  19390: 21,\n",
       "  19463: 20,\n",
       "  19535: 59,\n",
       "  19754: 13,\n",
       "  19827: 22,\n",
       "  19833: 58,\n",
       "  19872: 10,\n",
       "  20006: 8,\n",
       "  20023: 9,\n",
       "  20190: 6,\n",
       "  21046: 101,\n",
       "  21094: 36,\n",
       "  21427: 10,\n",
       "  21502: 102,\n",
       "  21580: 52,\n",
       "  21676: 12,\n",
       "  21699: 7,\n",
       "  21979: 11,\n",
       "  22735: 15,\n",
       "  23660: 12,\n",
       "  23795: 78,\n",
       "  24181: 13,\n",
       "  24582: 37,\n",
       "  24725: 57,\n",
       "  24730: 19,\n",
       "  24854: 25,\n",
       "  25003: 182,\n",
       "  25046: 7,\n",
       "  25774: 61,\n",
       "  25975: 9,\n",
       "  26474: 89,\n",
       "  26578: 15,\n",
       "  26716: 41,\n",
       "  26774: 3,\n",
       "  26849: 33,\n",
       "  27005: 5,\n",
       "  27145: 24,\n",
       "  27421: 61,\n",
       "  27431: 5,\n",
       "  27496: 7,\n",
       "  27504: 72,\n",
       "  27639: 221,\n",
       "  28004: 13,\n",
       "  28072: 34,\n",
       "  28178: 202,\n",
       "  28427: 6,\n",
       "  28498: 25,\n",
       "  28726: 34,\n",
       "  28750: 19,\n",
       "  28906: 32,\n",
       "  28907: 13,\n",
       "  28933: 394,\n",
       "  29105: 468,\n",
       "  29588: 72,\n",
       "  29647: 26,\n",
       "  29872: 225,\n",
       "  30476: 174,\n",
       "  30549: 12,\n",
       "  30614: 8,\n",
       "  30699: 14,\n",
       "  30786: 9,\n",
       "  30941: 110,\n",
       "  31030: 168,\n",
       "  31134: 24,\n",
       "  31139: 9,\n",
       "  31451: 48,\n",
       "  31556: 57,\n",
       "  31690: 18,\n",
       "  31692: 35,\n",
       "  32050: 34,\n",
       "  32326: 24,\n",
       "  32618: 42,\n",
       "  41546: 25,\n",
       "  43937: 6,\n",
       "  44851: 274,\n",
       "  45381: 16,\n",
       "  46589: 26,\n",
       "  46763: 6,\n",
       "  47045: 9,\n",
       "  48632: 147,\n",
       "  49079: 20,\n",
       "  49683: 3,\n",
       "  49922: 13,\n",
       "  50093: 8,\n",
       "  50231: 3,\n",
       "  50556: 216,\n",
       "  50859: 537,\n",
       "  51914: 313,\n",
       "  52010: 12,\n",
       "  53105: 115,\n",
       "  53399: 78,\n",
       "  54193: 85,\n",
       "  54401: 14,\n",
       "  54408: 2,\n",
       "  54739: 75,\n",
       "  54946: 7,\n",
       "  55400: 5,\n",
       "  55570: 14,\n",
       "  55887: 37,\n",
       "  55944: 34,\n",
       "  55987: 20,\n",
       "  56390: 19,\n",
       "  56648: 8,\n",
       "  56854: 170,\n",
       "  57091: 88,\n",
       "  57102: 35,\n",
       "  58702: 479,\n",
       "  59260: 11,\n",
       "  59437: 26,\n",
       "  60849: 2,\n",
       "  60868: 6,\n",
       "  61652: 7,\n",
       "  61667: 30,\n",
       "  63039: 8,\n",
       "  65513: 8,\n",
       "  68044: 40,\n",
       "  68095: 23,\n",
       "  68184: 5,\n",
       "  68308: 8,\n",
       "  68860: 14,\n",
       "  69719: 13,\n",
       "  69745: 25,\n",
       "  69776: 17,\n",
       "  70226: 8,\n",
       "  70447: 9,\n",
       "  72930: 11,\n",
       "  73811: 9,\n",
       "  73888: 109,\n",
       "  74316: 2,\n",
       "  74444: 81,\n",
       "  74686: 75,\n",
       "  75824: 10,\n",
       "  76282: 21,\n",
       "  76827: 2,\n",
       "  77382: 10,\n",
       "  78241: 3,\n",
       "  78388: 14,\n",
       "  79008: 27,\n",
       "  79055: 21,\n",
       "  79222: 18,\n",
       "  79877: 156,\n",
       "  80637: 148,\n",
       "  80678: 9,\n",
       "  80737: 46,\n",
       "  80805: 79,\n",
       "  81437: 27,\n",
       "  82393: 5,\n",
       "  82769: 85,\n",
       "  83932: 2,\n",
       "  84474: 34,\n",
       "  85160: 8,\n",
       "  85258: 52,\n",
       "  85404: 11,\n",
       "  85797: 9,\n",
       "  86007: 35,\n",
       "  86394: 4,\n",
       "  86684: 11,\n",
       "  86832: 67,\n",
       "  86863: 8,\n",
       "  86872: 326,\n",
       "  88193: 16,\n",
       "  88660: 11,\n",
       "  90256: 18,\n",
       "  91350: 19,\n",
       "  92074: 28,\n",
       "  92278: 52,\n",
       "  92331: 42,\n",
       "  93422: 7,\n",
       "  94341: 2,\n",
       "  94997: 9,\n",
       "  95280: 23,\n",
       "  95803: 18,\n",
       "  95830: 33,\n",
       "  95933: 56,\n",
       "  96699: 85,\n",
       "  97181: 30,\n",
       "  97795: 60,\n",
       "  98009: 33,\n",
       "  98299: 29,\n",
       "  98597: 2},\n",
       " 'pneumonia_alive': {68: 18,\n",
       "  85: 8,\n",
       "  94: 100,\n",
       "  165: 2,\n",
       "  211: 24,\n",
       "  224: 8,\n",
       "  231: 75,\n",
       "  283: 131,\n",
       "  357: 17,\n",
       "  368: 45,\n",
       "  370: 13,\n",
       "  384: 26,\n",
       "  426: 10,\n",
       "  509: 34,\n",
       "  514: 7,\n",
       "  596: 23,\n",
       "  674: 16,\n",
       "  707: 29,\n",
       "  711: 537,\n",
       "  770: 83,\n",
       "  773: 74,\n",
       "  899: 17,\n",
       "  1096: 17,\n",
       "  1135: 32,\n",
       "  1163: 12,\n",
       "  1174: 42,\n",
       "  1180: 5,\n",
       "  1283: 3,\n",
       "  1332: 66,\n",
       "  1339: 134,\n",
       "  1546: 21,\n",
       "  1568: 22,\n",
       "  1601: 12,\n",
       "  1606: 13,\n",
       "  1642: 4,\n",
       "  1660: 23,\n",
       "  1895: 22,\n",
       "  1923: 23,\n",
       "  2029: 175,\n",
       "  2090: 179,\n",
       "  2098: 26,\n",
       "  2128: 31,\n",
       "  2170: 9,\n",
       "  2187: 30,\n",
       "  2208: 139,\n",
       "  2337: 8,\n",
       "  2378: 57,\n",
       "  2386: 18,\n",
       "  2452: 22,\n",
       "  2508: 22,\n",
       "  2561: 126,\n",
       "  2585: 9,\n",
       "  2589: 92,\n",
       "  2590: 5,\n",
       "  2628: 218,\n",
       "  2658: 16,\n",
       "  2732: 12,\n",
       "  2784: 23,\n",
       "  2823: 21,\n",
       "  3070: 8,\n",
       "  3100: 70,\n",
       "  3154: 22,\n",
       "  3220: 28,\n",
       "  3277: 35,\n",
       "  3347: 15,\n",
       "  3359: 15,\n",
       "  3516: 11,\n",
       "  3602: 18,\n",
       "  3623: 116,\n",
       "  3641: 57,\n",
       "  3676: 49,\n",
       "  3830: 80,\n",
       "  3860: 203,\n",
       "  3862: 22,\n",
       "  3865: 8,\n",
       "  3895: 6,\n",
       "  3935: 44,\n",
       "  3952: 20,\n",
       "  3975: 34,\n",
       "  4109: 9,\n",
       "  4155: 23,\n",
       "  4236: 14,\n",
       "  4275: 45,\n",
       "  4316: 13,\n",
       "  4317: 106,\n",
       "  4328: 23,\n",
       "  4388: 14,\n",
       "  4454: 5,\n",
       "  4467: 12,\n",
       "  4489: 21,\n",
       "  4494: 18,\n",
       "  4584: 39,\n",
       "  4588: 80,\n",
       "  4641: 23,\n",
       "  4694: 19,\n",
       "  4804: 6,\n",
       "  5030: 49,\n",
       "  5145: 9,\n",
       "  5244: 113,\n",
       "  5264: 115,\n",
       "  5360: 19,\n",
       "  5434: 24,\n",
       "  5476: 36,\n",
       "  5516: 31,\n",
       "  5536: 21,\n",
       "  5564: 30,\n",
       "  5579: 14,\n",
       "  5609: 39,\n",
       "  5619: 25,\n",
       "  5631: 9,\n",
       "  5681: 9,\n",
       "  5691: 12,\n",
       "  5727: 41,\n",
       "  5761: 85,\n",
       "  5819: 19,\n",
       "  5904: 16,\n",
       "  5937: 61,\n",
       "  6038: 4,\n",
       "  6143: 15,\n",
       "  6176: 5,\n",
       "  6183: 17,\n",
       "  6206: 7,\n",
       "  6279: 20,\n",
       "  6378: 112,\n",
       "  6398: 11,\n",
       "  6557: 16,\n",
       "  6603: 15,\n",
       "  6884: 43,\n",
       "  6901: 8,\n",
       "  6915: 190,\n",
       "  7107: 230,\n",
       "  7169: 9,\n",
       "  7271: 117,\n",
       "  7356: 12,\n",
       "  7363: 284,\n",
       "  7492: 58,\n",
       "  7569: 32,\n",
       "  7603: 39,\n",
       "  7666: 9,\n",
       "  7700: 68,\n",
       "  7787: 18,\n",
       "  7849: 96,\n",
       "  7936: 3,\n",
       "  8070: 69,\n",
       "  8312: 29,\n",
       "  8337: 22,\n",
       "  8366: 25,\n",
       "  8471: 15,\n",
       "  8512: 16,\n",
       "  8515: 21,\n",
       "  8532: 9,\n",
       "  8556: 71,\n",
       "  8803: 4,\n",
       "  8895: 10,\n",
       "  8900: 11,\n",
       "  9124: 18,\n",
       "  9128: 2,\n",
       "  9253: 76,\n",
       "  9304: 12,\n",
       "  9332: 7,\n",
       "  9457: 6,\n",
       "  9505: 2,\n",
       "  9518: 80,\n",
       "  9544: 228,\n",
       "  9727: 37,\n",
       "  9736: 19,\n",
       "  9859: 12,\n",
       "  9871: 17,\n",
       "  9957: 15,\n",
       "  9973: 59,\n",
       "  10057: 144,\n",
       "  10207: 36,\n",
       "  10299: 167,\n",
       "  10304: 8,\n",
       "  10377: 125,\n",
       "  10502: 9,\n",
       "  10581: 11,\n",
       "  10589: 18,\n",
       "  10626: 72,\n",
       "  10635: 6,\n",
       "  10666: 84,\n",
       "  10675: 13,\n",
       "  10761: 9,\n",
       "  10830: 14,\n",
       "  10848: 16,\n",
       "  10950: 23,\n",
       "  11003: 63,\n",
       "  11018: 24,\n",
       "  11061: 11,\n",
       "  11065: 40,\n",
       "  11197: 14,\n",
       "  11236: 58,\n",
       "  11247: 6,\n",
       "  11275: 26,\n",
       "  11313: 9,\n",
       "  11320: 66,\n",
       "  11421: 37,\n",
       "  11446: 13,\n",
       "  11593: 19,\n",
       "  11616: 64,\n",
       "  11671: 14,\n",
       "  11702: 7,\n",
       "  11708: 44,\n",
       "  11747: 20,\n",
       "  11762: 10,\n",
       "  11829: 25,\n",
       "  11850: 23,\n",
       "  11860: 11,\n",
       "  11932: 18,\n",
       "  11989: 17,\n",
       "  12028: 221,\n",
       "  12140: 36,\n",
       "  12177: 53,\n",
       "  12183: 26,\n",
       "  12274: 9,\n",
       "  12312: 13,\n",
       "  12380: 45,\n",
       "  12508: 136,\n",
       "  12567: 61,\n",
       "  12585: 4,\n",
       "  12629: 43,\n",
       "  12633: 11,\n",
       "  12799: 77,\n",
       "  12803: 21,\n",
       "  12824: 21,\n",
       "  13123: 10,\n",
       "  13329: 22,\n",
       "  13330: 13,\n",
       "  13503: 15,\n",
       "  13546: 20,\n",
       "  13577: 7,\n",
       "  13593: 20,\n",
       "  13615: 10,\n",
       "  13627: 31,\n",
       "  13664: 120,\n",
       "  13728: 13,\n",
       "  13748: 21,\n",
       "  13864: 5,\n",
       "  13881: 2,\n",
       "  14035: 12,\n",
       "  14144: 24,\n",
       "  14172: 9,\n",
       "  14193: 8,\n",
       "  14256: 26,\n",
       "  14269: 21,\n",
       "  14309: 13,\n",
       "  14342: 20,\n",
       "  14385: 14,\n",
       "  14507: 9,\n",
       "  14520: 56,\n",
       "  14705: 17,\n",
       "  14805: 16,\n",
       "  14855: 96,\n",
       "  14975: 23,\n",
       "  15046: 86,\n",
       "  15054: 33,\n",
       "  15301: 5,\n",
       "  15347: 4,\n",
       "  15361: 15,\n",
       "  15472: 13,\n",
       "  15590: 85,\n",
       "  15716: 323,\n",
       "  15852: 15,\n",
       "  15875: 192,\n",
       "  16038: 89,\n",
       "  16053: 17,\n",
       "  16076: 397,\n",
       "  16102: 6,\n",
       "  16129: 22,\n",
       "  16147: 7,\n",
       "  16216: 17,\n",
       "  16275: 90,\n",
       "  16318: 12,\n",
       "  16367: 47,\n",
       "  16384: 48,\n",
       "  16409: 40,\n",
       "  16412: 8,\n",
       "  16438: 28,\n",
       "  16468: 15,\n",
       "  16469: 20,\n",
       "  16479: 7,\n",
       "  16492: 6,\n",
       "  16554: 19,\n",
       "  16560: 8,\n",
       "  16685: 1,\n",
       "  16733: 14,\n",
       "  16755: 24,\n",
       "  16800: 12,\n",
       "  16802: 27,\n",
       "  16850: 14,\n",
       "  16975: 186,\n",
       "  16992: 42,\n",
       "  17107: 6,\n",
       "  17149: 17,\n",
       "  17150: 23,\n",
       "  17250: 28,\n",
       "  17260: 10,\n",
       "  17276: 10,\n",
       "  17539: 24,\n",
       "  17547: 9,\n",
       "  17617: 4,\n",
       "  17631: 19,\n",
       "  17664: 24,\n",
       "  17722: 8,\n",
       "  17764: 3,\n",
       "  17795: 215,\n",
       "  17843: 37,\n",
       "  17882: 6,\n",
       "  17903: 7,\n",
       "  17906: 88,\n",
       "  18082: 22,\n",
       "  18123: 146,\n",
       "  18233: 8,\n",
       "  18250: 2,\n",
       "  18281: 61,\n",
       "  18320: 207,\n",
       "  18353: 16,\n",
       "  18365: 10,\n",
       "  18459: 33,\n",
       "  18637: 35,\n",
       "  18673: 38,\n",
       "  18681: 10,\n",
       "  18737: 7,\n",
       "  18999: 40,\n",
       "  19029: 4,\n",
       "  19036: 12,\n",
       "  19164: 20,\n",
       "  19463: 14,\n",
       "  19569: 4,\n",
       "  19653: 30,\n",
       "  19698: 79,\n",
       "  19793: 37,\n",
       "  19803: 9,\n",
       "  19833: 77,\n",
       "  19851: 83,\n",
       "  19859: 14,\n",
       "  19940: 9,\n",
       "  20061: 7,\n",
       "  20086: 85,\n",
       "  20133: 121,\n",
       "  20181: 204,\n",
       "  20187: 25,\n",
       "  20263: 6,\n",
       "  20265: 7,\n",
       "  20289: 63,\n",
       "  20381: 10,\n",
       "  20425: 103,\n",
       "  20528: 37,\n",
       "  20580: 1,\n",
       "  20598: 31,\n",
       "  20600: 16,\n",
       "  20624: 32,\n",
       "  20643: 20,\n",
       "  20804: 25,\n",
       "  20899: 17,\n",
       "  20951: 8,\n",
       "  20979: 26,\n",
       "  21037: 21,\n",
       "  21056: 9,\n",
       "  21093: 60,\n",
       "  21255: 3,\n",
       "  21269: 279,\n",
       "  21277: 23,\n",
       "  21301: 16,\n",
       "  21350: 18,\n",
       "  21548: 7,\n",
       "  21581: 11,\n",
       "  21737: 7,\n",
       "  21745: 5,\n",
       "  21764: 7,\n",
       "  22019: 2,\n",
       "  22180: 5,\n",
       "  22192: 5,\n",
       "  22287: 10,\n",
       "  22432: 6,\n",
       "  22450: 11,\n",
       "  22520: 63,\n",
       "  22534: 4,\n",
       "  22580: 10,\n",
       "  22624: 43,\n",
       "  22667: 72,\n",
       "  22684: 14,\n",
       "  22706: 8,\n",
       "  22754: 44,\n",
       "  22855: 47,\n",
       "  22921: 2,\n",
       "  23028: 22,\n",
       "  23109: 2,\n",
       "  23131: 49,\n",
       "  23161: 29,\n",
       "  23215: 9,\n",
       "  23318: 15,\n",
       "  23418: 22,\n",
       "  23423: 11,\n",
       "  23451: 26,\n",
       "  23568: 8,\n",
       "  23657: 34,\n",
       "  23734: 15,\n",
       "  23763: 21,\n",
       "  23847: 9,\n",
       "  24099: 2,\n",
       "  24170: 2,\n",
       "  24178: 209,\n",
       "  24276: 82,\n",
       "  24344: 290,\n",
       "  24483: 7,\n",
       "  24535: 23,\n",
       "  24562: 10,\n",
       "  24569: 20,\n",
       "  24622: 1,\n",
       "  24687: 45,\n",
       "  24807: 41,\n",
       "  24847: 12,\n",
       "  24868: 57,\n",
       "  24903: 45,\n",
       "  25001: 25,\n",
       "  25016: 78,\n",
       "  25038: 66,\n",
       "  25097: 42,\n",
       "  25117: 38,\n",
       "  25225: 17,\n",
       "  25256: 30,\n",
       "  25295: 59,\n",
       "  25326: 17,\n",
       "  25373: 158,\n",
       "  25406: 5,\n",
       "  25515: 18,\n",
       "  25526: 86,\n",
       "  25579: 27,\n",
       "  25591: 61,\n",
       "  25671: 11,\n",
       "  25750: 107,\n",
       "  25775: 38,\n",
       "  25844: 22,\n",
       "  25860: 9,\n",
       "  25861: 16,\n",
       "  25889: 20,\n",
       "  25941: 86,\n",
       "  26036: 11,\n",
       "  26040: 79,\n",
       "  26052: 3,\n",
       "  26080: 5,\n",
       "  26097: 65,\n",
       "  26118: 60,\n",
       "  26311: 28,\n",
       "  26391: 64,\n",
       "  26398: 14,\n",
       "  26469: 52,\n",
       "  26542: 55,\n",
       "  26601: 58,\n",
       "  26638: 155,\n",
       "  26727: 10,\n",
       "  26797: 8,\n",
       "  26869: 11,\n",
       "  26884: 5,\n",
       "  26887: 4,\n",
       "  26956: 23,\n",
       "  27003: 18,\n",
       "  27036: 10,\n",
       "  27043: 30,\n",
       "  27047: 41,\n",
       "  27049: 14,\n",
       "  27089: 24,\n",
       "  27121: 89,\n",
       "  27143: 135,\n",
       "  27172: 9,\n",
       "  27179: 118,\n",
       "  27194: 60,\n",
       "  27269: 19,\n",
       "  27367: 84,\n",
       "  27371: 17,\n",
       "  27431: 33,\n",
       "  27486: 2,\n",
       "  27576: 84,\n",
       "  27597: 60,\n",
       "  27600: 28,\n",
       "  27677: 11,\n",
       "  27726: 59,\n",
       "  27729: 70,\n",
       "  27752: 11,\n",
       "  27800: 12,\n",
       "  27809: 18,\n",
       "  27823: 31,\n",
       "  27879: 13,\n",
       "  27886: 30,\n",
       "  27999: 25,\n",
       "  28050: 20,\n",
       "  28055: 4,\n",
       "  28073: 74,\n",
       "  28093: 21,\n",
       "  28103: 16,\n",
       "  28164: 159,\n",
       "  28173: 124,\n",
       "  28230: 23,\n",
       "  28291: 36,\n",
       "  28298: 31,\n",
       "  28356: 10,\n",
       "  28527: 46,\n",
       "  28530: 24,\n",
       "  28642: 2,\n",
       "  28668: 3,\n",
       "  28671: 33,\n",
       "  28689: 5,\n",
       "  28717: 23,\n",
       "  28729: 73,\n",
       "  28742: 7,\n",
       "  28758: 94,\n",
       "  28827: 12,\n",
       "  28843: 1,\n",
       "  28884: 12,\n",
       "  28932: 24,\n",
       "  28935: 4,\n",
       "  28939: 4,\n",
       "  28973: 152,\n",
       "  29007: 9,\n",
       "  29043: 12,\n",
       "  29093: 5,\n",
       "  29096: 21,\n",
       "  29102: 18,\n",
       "  29129: 15,\n",
       "  29137: 8,\n",
       "  29139: 17,\n",
       "  29141: 27,\n",
       "  29219: 19,\n",
       "  29240: 10,\n",
       "  29274: 17,\n",
       "  29350: 18,\n",
       "  29377: 80,\n",
       "  29379: 21,\n",
       "  29456: 22,\n",
       "  29478: 32,\n",
       "  29501: 6,\n",
       "  29503: 11,\n",
       "  29504: 18,\n",
       "  29513: 65,\n",
       "  29528: 5,\n",
       "  29556: 5,\n",
       "  29566: 17,\n",
       "  29619: 18,\n",
       "  29638: 15,\n",
       "  29639: 26,\n",
       "  29660: 9,\n",
       "  29703: 12,\n",
       "  29866: 12,\n",
       "  29872: 14,\n",
       "  29913: 11,\n",
       "  29919: 24,\n",
       "  29927: 63,\n",
       "  29965: 26,\n",
       "  29972: 7,\n",
       "  30010: 7,\n",
       "  30015: 36,\n",
       "  30139: 529,\n",
       "  30208: 18,\n",
       "  30227: 35,\n",
       "  30287: 23,\n",
       "  30299: 1,\n",
       "  30301: 117,\n",
       "  30316: 17,\n",
       "  30365: 47,\n",
       "  30490: 17,\n",
       "  30501: 10,\n",
       "  30505: 33,\n",
       "  30561: 6,\n",
       "  30575: 6,\n",
       "  30599: 24,\n",
       "  30631: 11,\n",
       "  30663: 24,\n",
       "  30696: 54,\n",
       "  30786: 11,\n",
       "  30798: 14,\n",
       "  30860: 28,\n",
       "  31003: 45,\n",
       "  31183: 129,\n",
       "  31216: 80,\n",
       "  31221: 17,\n",
       "  31262: 28,\n",
       "  31298: 13,\n",
       "  31332: 59,\n",
       "  31361: 20,\n",
       "  31442: 32,\n",
       "  31470: 17,\n",
       "  31516: 74,\n",
       "  31528: 60,\n",
       "  31544: 11,\n",
       "  31580: 34,\n",
       "  31585: 39,\n",
       "  31610: 17,\n",
       "  31660: 3,\n",
       "  31664: 45,\n",
       "  31692: 23,\n",
       "  31723: 17,\n",
       "  31813: 234,\n",
       "  31942: 102,\n",
       "  31986: 41,\n",
       "  32018: 145,\n",
       "  32061: 11,\n",
       "  32106: 18,\n",
       "  32135: 12,\n",
       "  32161: 25,\n",
       "  32181: 8,\n",
       "  32183: 27,\n",
       "  32193: 16,\n",
       "  32268: 6,\n",
       "  32286: 117,\n",
       "  32355: 6,\n",
       "  32367: 42,\n",
       "  32394: 6,\n",
       "  32414: 485,\n",
       "  32436: 271,\n",
       "  32583: 5,\n",
       "  32605: 19,\n",
       "  32639: 12,\n",
       "  32740: 48,\n",
       "  32746: 11,\n",
       "  32773: 112,\n",
       "  32790: 103,\n",
       "  40059: 11,\n",
       "  40124: 68,\n",
       "  40246: 20,\n",
       "  40370: 11,\n",
       "  40442: 107,\n",
       "  40456: 43,\n",
       "  40576: 48,\n",
       "  40631: 4,\n",
       "  40911: 35,\n",
       "  41192: 45,\n",
       "  41373: 28,\n",
       "  41434: 10,\n",
       "  41446: 8,\n",
       "  41890: 7,\n",
       "  41958: 5,\n",
       "  41962: 10,\n",
       "  41976: 177,\n",
       "  42009: 30,\n",
       "  42035: 49,\n",
       "  42054: 18,\n",
       "  42194: 1,\n",
       "  42346: 30,\n",
       "  42458: 9,\n",
       "  42515: 38,\n",
       "  42572: 17,\n",
       "  42715: 21,\n",
       "  42794: 6,\n",
       "  42924: 3,\n",
       "  43067: 90,\n",
       "  43074: 18,\n",
       "  43112: 394,\n",
       "  43128: 1,\n",
       "  43147: 150,\n",
       "  43305: 48,\n",
       "  43323: 15,\n",
       "  43937: 4,\n",
       "  43943: 6,\n",
       "  43959: 3,\n",
       "  44146: 16,\n",
       "  44206: 5,\n",
       "  44214: 30,\n",
       "  44326: 8,\n",
       "  44437: 12,\n",
       "  44530: 2,\n",
       "  44534: 37,\n",
       "  44741: 8,\n",
       "  44787: 7,\n",
       "  44829: 55,\n",
       "  44841: 19,\n",
       "  44848: 2,\n",
       "  45193: 11,\n",
       "  45280: 9,\n",
       "  45435: 7,\n",
       "  46011: 61,\n",
       "  46335: 49,\n",
       "  46366: 42,\n",
       "  46415: 53,\n",
       "  46521: 14,\n",
       "  46728: 34,\n",
       "  46926: 1,\n",
       "  46961: 1,\n",
       "  47216: 17,\n",
       "  47219: 67,\n",
       "  47407: 2,\n",
       "  47467: 6,\n",
       "  47670: 7,\n",
       "  47747: 12,\n",
       "  47852: 95,\n",
       "  47930: 5,\n",
       "  48058: 4,\n",
       "  48143: 6,\n",
       "  48297: 11,\n",
       "  48340: 7,\n",
       "  48660: 343,\n",
       "  48687: 15,\n",
       "  48750: 8,\n",
       "  48812: 36,\n",
       "  48837: 14,\n",
       "  48929: 7,\n",
       "  49292: 18,\n",
       "  49510: 31,\n",
       "  49558: 347,\n",
       "  49623: 9,\n",
       "  49747: 7,\n",
       "  49764: 10,\n",
       "  49963: 4,\n",
       "  50007: 4,\n",
       "  50041: 10,\n",
       "  50093: 6,\n",
       "  50257: 11,\n",
       "  50294: 20,\n",
       "  50409: 75,\n",
       "  50762: 8,\n",
       "  50772: 17,\n",
       "  50807: 21,\n",
       "  50828: 126,\n",
       "  50911: 81,\n",
       "  50998: 29,\n",
       "  51195: 29,\n",
       "  51237: 11,\n",
       "  51401: 33,\n",
       "  51418: 68,\n",
       "  51497: 3,\n",
       "  51545: 97,\n",
       "  51601: 5,\n",
       "  51607: 5,\n",
       "  51669: 10,\n",
       "  51933: 5,\n",
       "  52011: 8,\n",
       "  52054: 1,\n",
       "  52172: 13,\n",
       "  52191: 46,\n",
       "  52307: 5,\n",
       "  52452: 5,\n",
       "  52606: 54,\n",
       "  52622: 5,\n",
       "  52898: 6,\n",
       "  52957: 52,\n",
       "  53119: 7,\n",
       "  53160: 13,\n",
       "  53173: 14,\n",
       "  53534: 9,\n",
       "  53650: 15,\n",
       "  53743: 151,\n",
       "  53749: 6,\n",
       "  53847: 14,\n",
       "  54172: 6,\n",
       "  54197: 13,\n",
       "  54305: 8,\n",
       "  54514: 116,\n",
       "  54709: 9,\n",
       "  54741: 5,\n",
       "  54832: 7,\n",
       "  54922: 2,\n",
       "  55059: 17,\n",
       "  55074: 7,\n",
       "  55188: 9,\n",
       "  55571: 212,\n",
       "  55700: 4,\n",
       "  55753: 37,\n",
       "  55841: 14,\n",
       "  55920: 17,\n",
       "  56027: 7,\n",
       "  56229: 31,\n",
       "  56440: 9,\n",
       "  56490: 12,\n",
       "  56621: 11,\n",
       "  56635: 2,\n",
       "  56772: 31,\n",
       "  56798: 4,\n",
       "  56867: 16,\n",
       "  56874: 51,\n",
       "  57050: 205,\n",
       "  57081: 32,\n",
       "  57157: 5,\n",
       "  57277: 19,\n",
       "  57290: 15,\n",
       "  57449: 17,\n",
       "  57788: 36,\n",
       "  57795: 7,\n",
       "  57889: 105,\n",
       "  58105: 49,\n",
       "  58242: 6,\n",
       "  58264: 7,\n",
       "  58286: 20,\n",
       "  58416: 3,\n",
       "  58433: 51,\n",
       "  58522: 9,\n",
       "  58580: 5,\n",
       "  58610: 13,\n",
       "  58631: 15,\n",
       "  58732: 5,\n",
       "  58794: 32,\n",
       "  58810: 10,\n",
       "  58955: 6,\n",
       "  59275: 1,\n",
       "  59278: 17,\n",
       "  59411: 6,\n",
       "  59496: 75,\n",
       "  59765: 300,\n",
       "  59789: 10,\n",
       "  59801: 2,\n",
       "  59822: 14,\n",
       "  59903: 483,\n",
       "  59943: 121,\n",
       "  60003: 9,\n",
       "  60050: 4,\n",
       "  60130: 44,\n",
       "  60674: 10,\n",
       "  60685: 4,\n",
       "  60958: 8,\n",
       "  60977: 9,\n",
       "  61005: 10,\n",
       "  61084: 216,\n",
       "  61195: 9,\n",
       "  61259: 83,\n",
       "  61331: 4,\n",
       "  61630: 19,\n",
       "  61738: 6,\n",
       "  61886: 6,\n",
       "  62231: 4,\n",
       "  62239: 5,\n",
       "  62284: 6,\n",
       "  62402: 56,\n",
       "  62641: 8,\n",
       "  62733: 9,\n",
       "  62858: 120,\n",
       "  63145: 25,\n",
       "  63327: 16,\n",
       "  63351: 10,\n",
       "  63362: 7,\n",
       "  63430: 56,\n",
       "  63499: 32,\n",
       "  63560: 25,\n",
       "  63943: 31,\n",
       "  63968: 10,\n",
       "  64160: 4,\n",
       "  64232: 28,\n",
       "  64249: 7,\n",
       "  64715: 17,\n",
       "  65004: 11,\n",
       "  65027: 1,\n",
       "  65033: 2,\n",
       "  65164: 4,\n",
       "  65361: 20,\n",
       "  65435: 40,\n",
       "  65449: 6,\n",
       "  65515: 5,\n",
       "  65582: 576,\n",
       "  65594: 9,\n",
       "  65692: 25,\n",
       "  65710: 18,\n",
       "  65837: 47,\n",
       "  66002: 636,\n",
       "  66009: 373,\n",
       "  66206: 12,\n",
       "  66412: 5,\n",
       "  66492: 1,\n",
       "  66549: 36,\n",
       "  66556: 20,\n",
       "  66671: 32,\n",
       "  66739: 1,\n",
       "  66753: 8,\n",
       "  66823: 21,\n",
       "  67053: 238,\n",
       "  67111: 16,\n",
       "  67117: 19,\n",
       "  67408: 15,\n",
       "  67446: 8,\n",
       "  67796: 7,\n",
       "  67844: 7,\n",
       "  67887: 13,\n",
       "  68059: 3,\n",
       "  68315: 3,\n",
       "  68591: 7,\n",
       "  68791: 13,\n",
       "  68836: 7,\n",
       "  68839: 21,\n",
       "  68905: 3,\n",
       "  68944: 39,\n",
       "  68962: 1,\n",
       "  69098: 12,\n",
       "  69158: 13,\n",
       "  69250: 4,\n",
       "  69296: 13,\n",
       "  69359: 26,\n",
       "  69380: 265,\n",
       "  69483: 26,\n",
       "  69546: 64,\n",
       "  69556: 11,\n",
       "  69578: 7,\n",
       "  69673: 6,\n",
       "  69776: 53,\n",
       "  69799: 6,\n",
       "  69932: 6,\n",
       "  70285: 2,\n",
       "  70466: 18,\n",
       "  70476: 22,\n",
       "  70492: 10,\n",
       "  70563: 3,\n",
       "  70645: 29,\n",
       "  70682: 48,\n",
       "  70728: 12,\n",
       "  71107: 9,\n",
       "  71108: 220,\n",
       "  71220: 45,\n",
       "  71336: 5,\n",
       "  71377: 39,\n",
       "  71915: 6,\n",
       "  71943: 4,\n",
       "  71983: 3,\n",
       "  72229: 189,\n",
       "  72230: 154,\n",
       "  72233: 2,\n",
       "  72378: 7,\n",
       "  72532: 6,\n",
       "  72714: 4,\n",
       "  72751: 35,\n",
       "  73043: 3,\n",
       "  73107: 479,\n",
       "  73129: 105,\n",
       "  73388: 37,\n",
       "  73389: 87,\n",
       "  73479: 3,\n",
       "  73686: 4,\n",
       "  73713: 458,\n",
       "  73770: 9,\n",
       "  73808: 49,\n",
       "  73899: 2,\n",
       "  73941: 7,\n",
       "  74016: 8,\n",
       "  74253: 388,\n",
       "  74505: 32,\n",
       "  74562: 98,\n",
       "  74640: 7,\n",
       "  74654: 7,\n",
       "  75047: 3,\n",
       "  75107: 124,\n",
       "  75200: 87,\n",
       "  75387: 14,\n",
       "  75446: 34,\n",
       "  75609: 5,\n",
       "  75640: 45,\n",
       "  75741: 8,\n",
       "  75782: 90,\n",
       "  75806: 3,\n",
       "  75983: 9,\n",
       "  76021: 39,\n",
       "  76056: 1,\n",
       "  76074: 31,\n",
       "  76141: 4,\n",
       "  76178: 22,\n",
       "  76437: 5,\n",
       "  76446: 18,\n",
       "  76476: 3,\n",
       "  76797: 6,\n",
       "  76915: 8,\n",
       "  76993: 13,\n",
       "  77019: 8,\n",
       "  77128: 9,\n",
       "  77177: 14,\n",
       "  77237: 198,\n",
       "  77279: 2,\n",
       "  77434: 18,\n",
       "  77453: 2,\n",
       "  77469: 31,\n",
       "  77676: 4,\n",
       "  77690: 19,\n",
       "  77697: 10,\n",
       "  77816: 8,\n",
       "  77947: 11,\n",
       "  78017: 2,\n",
       "  78086: 110,\n",
       "  78565: 78,\n",
       "  78705: 3,\n",
       "  78707: 16,\n",
       "  78859: 5,\n",
       "  78914: 13,\n",
       "  79079: 18,\n",
       "  79090: 16,\n",
       "  79115: 12,\n",
       "  79292: 15,\n",
       "  80045: 6,\n",
       "  80106: 5,\n",
       "  80218: 13,\n",
       "  80430: 10,\n",
       "  80722: 3,\n",
       "  80813: 11,\n",
       "  80825: 3,\n",
       "  81114: 58,\n",
       "  81223: 39,\n",
       "  81233: 22,\n",
       "  81436: 9,\n",
       "  81745: 28,\n",
       "  81840: 25,\n",
       "  81960: 8,\n",
       "  81992: 11,\n",
       "  82100: 74,\n",
       "  82104: 2,\n",
       "  82150: 84,\n",
       "  82202: 28,\n",
       "  82211: 647,\n",
       "  82309: 9,\n",
       "  ...}}"
      ]
     },
     "execution_count": 30,
     "metadata": {},
     "output_type": "execute_result"
    }
   ],
   "source": [
    "patient_id_to_num_notes"
   ]
  },
  {
   "cell_type": "code",
   "execution_count": 31,
   "metadata": {},
   "outputs": [
    {
     "name": "stdout",
     "output_type": "stream",
     "text": [
      "252\n",
      "1167\n"
     ]
    }
   ],
   "source": [
    "print(len(patient_id_to_num_notes['pneumonia_dead']))\n",
    "print(len(patient_id_to_num_notes['pneumonia_alive']))"
   ]
  },
  {
   "cell_type": "code",
   "execution_count": 32,
   "metadata": {
    "scrolled": true
   },
   "outputs": [
    {
     "data": {
      "text/html": [
       "<div>\n",
       "<style scoped>\n",
       "    .dataframe tbody tr th:only-of-type {\n",
       "        vertical-align: middle;\n",
       "    }\n",
       "\n",
       "    .dataframe tbody tr th {\n",
       "        vertical-align: top;\n",
       "    }\n",
       "\n",
       "    .dataframe thead th {\n",
       "        text-align: right;\n",
       "    }\n",
       "</style>\n",
       "<table border=\"1\" class=\"dataframe\">\n",
       "  <thead>\n",
       "    <tr style=\"text-align: right;\">\n",
       "      <th></th>\n",
       "      <th>ROW_ID_x</th>\n",
       "      <th>SUBJECT_ID_x</th>\n",
       "      <th>DESCRIPTION</th>\n",
       "      <th>TEXT</th>\n",
       "      <th>DEATHTIME</th>\n",
       "    </tr>\n",
       "  </thead>\n",
       "  <tbody>\n",
       "    <tr>\n",
       "      <th>70391</th>\n",
       "      <td>70124</td>\n",
       "      <td>111</td>\n",
       "      <td>Report</td>\n",
       "      <td>PATIENT/TEST INFORMATION:\\nIndication: s/p PEA...</td>\n",
       "      <td>2144-07-01 14:55:00</td>\n",
       "    </tr>\n",
       "    <tr>\n",
       "      <th>142529</th>\n",
       "      <td>151749</td>\n",
       "      <td>111</td>\n",
       "      <td>Report</td>\n",
       "      <td>Compared to the previous tracing QRS voltage i...</td>\n",
       "      <td>2144-07-01 14:55:00</td>\n",
       "    </tr>\n",
       "    <tr>\n",
       "      <th>142097</th>\n",
       "      <td>151750</td>\n",
       "      <td>111</td>\n",
       "      <td>Report</td>\n",
       "      <td>Normal sinus rhythm, rate 80.  Biatrial abnorm...</td>\n",
       "      <td>2144-07-01 14:55:00</td>\n",
       "    </tr>\n",
       "    <tr>\n",
       "      <th>142303</th>\n",
       "      <td>151751</td>\n",
       "      <td>111</td>\n",
       "      <td>Report</td>\n",
       "      <td>Normal sinus rhythm.  Q waves in leads V1-V2 c...</td>\n",
       "      <td>2144-07-01 14:55:00</td>\n",
       "    </tr>\n",
       "    <tr>\n",
       "      <th>380576</th>\n",
       "      <td>375732</td>\n",
       "      <td>111</td>\n",
       "      <td>Physician Resident Admission Note</td>\n",
       "      <td>Chief Complaint:  respiratory distress\\n   HPI...</td>\n",
       "      <td>2144-07-01 14:55:00</td>\n",
       "    </tr>\n",
       "    <tr>\n",
       "      <th>380109</th>\n",
       "      <td>375744</td>\n",
       "      <td>111</td>\n",
       "      <td>ICU Event Note</td>\n",
       "      <td>Clinician:  Nurse\\n   Pt admitted from the ED ...</td>\n",
       "      <td>2144-07-01 14:55:00</td>\n",
       "    </tr>\n",
       "    <tr>\n",
       "      <th>379907</th>\n",
       "      <td>375749</td>\n",
       "      <td>111</td>\n",
       "      <td>Physician Resident/Attending Admission Note - ...</td>\n",
       "      <td>Chief Complaint:  respiratory distress\\n   HPI...</td>\n",
       "      <td>2144-07-01 14:55:00</td>\n",
       "    </tr>\n",
       "    <tr>\n",
       "      <th>379806</th>\n",
       "      <td>375753</td>\n",
       "      <td>111</td>\n",
       "      <td>Social Work Admission Note</td>\n",
       "      <td>Social Work Initial Note:\\n   Family Informati...</td>\n",
       "      <td>2144-07-01 14:55:00</td>\n",
       "    </tr>\n",
       "    <tr>\n",
       "      <th>379909</th>\n",
       "      <td>375760</td>\n",
       "      <td>111</td>\n",
       "      <td>ICU Event Note</td>\n",
       "      <td>TITLE:\\n   Clinician:  Resident\\n   Patient ex...</td>\n",
       "      <td>2144-07-01 14:55:00</td>\n",
       "    </tr>\n",
       "    <tr>\n",
       "      <th>1066971</th>\n",
       "      <td>1079317</td>\n",
       "      <td>111</td>\n",
       "      <td>CHEST (PORTABLE AP)</td>\n",
       "      <td>[**2144-7-1**] 2:43 AM\\n CHEST (PORTABLE AP)  ...</td>\n",
       "      <td>2144-07-01 14:55:00</td>\n",
       "    </tr>\n",
       "    <tr>\n",
       "      <th>1065833</th>\n",
       "      <td>1079339</td>\n",
       "      <td>111</td>\n",
       "      <td>CHEST (PORTABLE AP)</td>\n",
       "      <td>[**2144-7-1**] 7:27 AM\\n CHEST (PORTABLE AP); ...</td>\n",
       "      <td>2144-07-01 14:55:00</td>\n",
       "    </tr>\n",
       "    <tr>\n",
       "      <th>1067121</th>\n",
       "      <td>1079351</td>\n",
       "      <td>111</td>\n",
       "      <td>CHEST PORT. LINE PLACEMENT</td>\n",
       "      <td>[**2144-7-1**] 9:01 AM\\n CHEST PORT. LINE PLAC...</td>\n",
       "      <td>2144-07-01 14:55:00</td>\n",
       "    </tr>\n",
       "  </tbody>\n",
       "</table>\n",
       "</div>"
      ],
      "text/plain": [
       "         ROW_ID_x  SUBJECT_ID_x  \\\n",
       "70391       70124           111   \n",
       "142529     151749           111   \n",
       "142097     151750           111   \n",
       "142303     151751           111   \n",
       "380576     375732           111   \n",
       "380109     375744           111   \n",
       "379907     375749           111   \n",
       "379806     375753           111   \n",
       "379909     375760           111   \n",
       "1066971   1079317           111   \n",
       "1065833   1079339           111   \n",
       "1067121   1079351           111   \n",
       "\n",
       "                                               DESCRIPTION  \\\n",
       "70391                                               Report   \n",
       "142529                                              Report   \n",
       "142097                                              Report   \n",
       "142303                                              Report   \n",
       "380576                   Physician Resident Admission Note   \n",
       "380109                                      ICU Event Note   \n",
       "379907   Physician Resident/Attending Admission Note - ...   \n",
       "379806                          Social Work Admission Note   \n",
       "379909                                      ICU Event Note   \n",
       "1066971                                CHEST (PORTABLE AP)   \n",
       "1065833                                CHEST (PORTABLE AP)   \n",
       "1067121                         CHEST PORT. LINE PLACEMENT   \n",
       "\n",
       "                                                      TEXT  \\\n",
       "70391    PATIENT/TEST INFORMATION:\\nIndication: s/p PEA...   \n",
       "142529   Compared to the previous tracing QRS voltage i...   \n",
       "142097   Normal sinus rhythm, rate 80.  Biatrial abnorm...   \n",
       "142303   Normal sinus rhythm.  Q waves in leads V1-V2 c...   \n",
       "380576   Chief Complaint:  respiratory distress\\n   HPI...   \n",
       "380109   Clinician:  Nurse\\n   Pt admitted from the ED ...   \n",
       "379907   Chief Complaint:  respiratory distress\\n   HPI...   \n",
       "379806   Social Work Initial Note:\\n   Family Informati...   \n",
       "379909   TITLE:\\n   Clinician:  Resident\\n   Patient ex...   \n",
       "1066971  [**2144-7-1**] 2:43 AM\\n CHEST (PORTABLE AP)  ...   \n",
       "1065833  [**2144-7-1**] 7:27 AM\\n CHEST (PORTABLE AP); ...   \n",
       "1067121  [**2144-7-1**] 9:01 AM\\n CHEST PORT. LINE PLAC...   \n",
       "\n",
       "                   DEATHTIME  \n",
       "70391    2144-07-01 14:55:00  \n",
       "142529   2144-07-01 14:55:00  \n",
       "142097   2144-07-01 14:55:00  \n",
       "142303   2144-07-01 14:55:00  \n",
       "380576   2144-07-01 14:55:00  \n",
       "380109   2144-07-01 14:55:00  \n",
       "379907   2144-07-01 14:55:00  \n",
       "379806   2144-07-01 14:55:00  \n",
       "379909   2144-07-01 14:55:00  \n",
       "1066971  2144-07-01 14:55:00  \n",
       "1065833  2144-07-01 14:55:00  \n",
       "1067121  2144-07-01 14:55:00  "
      ]
     },
     "execution_count": 32,
     "metadata": {},
     "output_type": "execute_result"
    }
   ],
   "source": [
    "pneumonia_dead_no_disch.loc[pneumonia_dead_no_disch[\"SUBJECT_ID_x\"] == 111, ['ROW_ID_x','SUBJECT_ID_x','DESCRIPTION','TEXT', 'DEATHTIME']]"
   ]
  },
  {
   "cell_type": "code",
   "execution_count": 33,
   "metadata": {
    "scrolled": true
   },
   "outputs": [],
   "source": [
    "# tmp_df = pneumonia_dead_no_disch.loc[pneumonia_dead_no_disch[\"SUBJECT_ID_x\"] == 111, ['DESCRIPTION','TEXT']]\n",
    "# for index, row in tmp_df.iterrows():\n",
    "#     print(row['DESCRIPTION'])\n",
    "#     print(row['TEXT'])\n",
    "#     print('-'*80)"
   ]
  },
  {
   "cell_type": "code",
   "execution_count": null,
   "metadata": {},
   "outputs": [],
   "source": []
  },
  {
   "cell_type": "code",
   "execution_count": 34,
   "metadata": {
    "scrolled": true
   },
   "outputs": [],
   "source": [
    "# row_cnt = 0\n",
    "# note_cnt = 0\n",
    "# for index, row in pneumonia_alive_no_disch.iterrows():\n",
    "#     row_cnt += 1\n",
    "#     note = re.sub(r'\\[\\*\\*(.*?)\\*\\*\\]|[_,\\d\\*:~=\\.\\-\\+\\\\/]+', ' ', row['TEXT'])\n",
    "#     tokenized_note = word_tokenize(note)\n",
    "       \n",
    "#     if 'money' in tokenized_note :\n",
    "#         note_cnt += 1\n",
    "#         print(f\"#{row_cnt}) {note_cnt}) {row['ROW_ID_x']} : {row['SUBJECT_ID_x']} ==> [{row['DESCRIPTION']}]\")\n",
    "    \n",
    "    "
   ]
  },
  {
   "cell_type": "code",
   "execution_count": 35,
   "metadata": {
    "scrolled": true
   },
   "outputs": [],
   "source": [
    "# row_cnt = 0\n",
    "# note_cnt = 0\n",
    "# for index, row in pneumonia_alive_no_disch.iterrows():\n",
    "#     row_cnt += 1\n",
    "#     note = re.sub(r'\\[\\*\\*(.*?)\\*\\*\\]|[_,\\d\\*:~=\\.\\-\\+\\\\/]+', ' ', row['TEXT'])\n",
    "#     tokenized_note = word_tokenize(note)\n",
    "    \n",
    "#     if 'money' in tokenized_note and 'wallet' in tokenized_note:\n",
    "#         note_cnt += 1\n",
    "#         print(f\"#{row_cnt}) {note_cnt}) {row['ROW_ID_x']} : {row['SUBJECT_ID_x']} ==> [{row['DESCRIPTION']}]\")\n",
    "# #         print(row['TEXT'])\n",
    "# #         print('-'*80)"
   ]
  },
  {
   "cell_type": "code",
   "execution_count": null,
   "metadata": {},
   "outputs": [],
   "source": []
  },
  {
   "cell_type": "code",
   "execution_count": null,
   "metadata": {},
   "outputs": [],
   "source": []
  },
  {
   "cell_type": "code",
   "execution_count": null,
   "metadata": {},
   "outputs": [],
   "source": []
  },
  {
   "cell_type": "code",
   "execution_count": null,
   "metadata": {},
   "outputs": [],
   "source": []
  },
  {
   "cell_type": "code",
   "execution_count": 36,
   "metadata": {},
   "outputs": [
    {
     "name": "stderr",
     "output_type": "stream",
     "text": [
      "100%|██████████| 11895/11895 [00:47<00:00, 251.56it/s]\n",
      "  0%|          | 13/46134 [00:00<06:19, 121.51it/s]"
     ]
    },
    {
     "name": "stdout",
     "output_type": "stream",
     "text": [
      "5989 note events\n",
      "finished counting frequent words for patients!\n"
     ]
    },
    {
     "name": "stderr",
     "output_type": "stream",
     "text": [
      "100%|██████████| 46134/46134 [02:59<00:00, 257.28it/s]"
     ]
    },
    {
     "name": "stdout",
     "output_type": "stream",
     "text": [
      "23172 note events\n",
      "finished counting frequent words for patients!\n"
     ]
    },
    {
     "name": "stderr",
     "output_type": "stream",
     "text": [
      "\n"
     ]
    }
   ],
   "source": [
    "def count_words_per_patient(disease_df, patient_id_to_num_notes):\n",
    "    note_appearance_counter = {}\n",
    "    number_of_patients = 0 # number of patients\n",
    "    note_counter = 0\n",
    "\n",
    "# -----------\n",
    "    patient_id = -1\n",
    "    word_set = set()\n",
    "    note_event_counter = 0\n",
    "\n",
    "    # Iterate through each note\n",
    "    for index, row in tqdm(disease_df.iterrows(), total=disease_df.shape[0]):\n",
    "\n",
    "        \n",
    "        patient_id_check = int(row['SUBJECT_ID_x'])\n",
    "    \n",
    "        # if patient id has changed, end sequence and start new sequence\n",
    "        if not patient_id == patient_id_check:\n",
    "            number_of_patients += 1\n",
    "            note_event_counter = 0\n",
    "        \n",
    "            for word in word_set:\n",
    "                if word in note_appearance_counter:\n",
    "                    note_appearance_counter[word] += 1\n",
    "                else:\n",
    "                    note_appearance_counter[word] = 1\n",
    "\n",
    "        \n",
    "            # reset word_set\n",
    "            word_set = set()\n",
    "        \n",
    "        # update patient id\n",
    "        patient_id = patient_id_check\n",
    "\n",
    "            \n",
    "        if patient_id_to_num_notes[patient_id_check] <= MIN_SEQ_LEN:\n",
    "            continue\n",
    "            \n",
    "        if note_event_counter < patient_id_to_num_notes[patient_id] // USE_1_N_SEQ:\n",
    "            note_event_counter += 1\n",
    "            continue\n",
    "                \n",
    "        note_counter += 1\n",
    "        note = re.sub(r'\\[\\*\\*(.*?)\\*\\*\\]|[_,\\d\\*:~=\\.\\-\\+\\\\/]+', ' ', row['TEXT'])\n",
    "        tokenized_note = word_tokenize(note)\n",
    "        \n",
    "        \n",
    "        for word in tokenized_note:\n",
    "            stemmed_word = stemmer.stem(word.lower())\n",
    "            if not stemmed_word in stop_words:\n",
    "                word_set.add(stemmed_word)\n",
    "    \n",
    "    print(str(note_counter) + \" note events\")\n",
    "    print(\"finished counting frequent words for patients!\")\n",
    "#     return note_counter, note_appearance_counter\n",
    "    return number_of_patients, note_appearance_counter\n",
    "\n",
    "# variable dictionaries\n",
    "number_of_notes = {}\n",
    "note_appearance_counter = {}\n",
    "\n",
    "number_of_notes['pneumonia_dead'], note_appearance_counter['pneumonia_dead'] = count_words_per_patient(pneumonia_dead_no_disch, patient_id_to_num_notes['pneumonia_dead'])\n",
    "number_of_notes['pneumonia_alive'], note_appearance_counter['pneumonia_alive'] = count_words_per_patient(pneumonia_alive_no_disch, patient_id_to_num_notes['pneumonia_alive'])"
   ]
  },
  {
   "cell_type": "code",
   "execution_count": 37,
   "metadata": {},
   "outputs": [
    {
     "data": {
      "text/plain": [
       "{'pneumonia_dead': 252, 'pneumonia_alive': 1167}"
      ]
     },
     "execution_count": 37,
     "metadata": {},
     "output_type": "execute_result"
    }
   ],
   "source": [
    "number_of_notes"
   ]
  },
  {
   "cell_type": "code",
   "execution_count": 38,
   "metadata": {},
   "outputs": [
    {
     "name": "stdout",
     "output_type": "stream",
     "text": [
      "{'pneumonia_dead': {'edema': 182, 'artic': 2, 'sinu': 139, 'stabl': 177, 'region': 80, 'post': 131, 'offer': 47, 'consist': 152, 'empir': 36, 'lymph': 71, 'dvt': 79, 'intervent': 65, 'death': 42, 'know': 27, 'peep': 106, 'mix': 30, 'mosf': 3, 'lifelin': 1, 'ventil': 129, 'ns': 119, 'pmh': 78, 'past': 77, 'anicter': 12, 'come': 72, 'around': 76, 'infect': 100, 'cage': 1, 'seen': 157, 'use': 112, 'aspir': 108, '(': 229, 'social': 138, 'level': 148, 'new': 160, 'rij': 35, 'pna': 151, 'mcg': 105, 'current': 158, 'leukocytosi': 37, 'year': 195, 'rr': 150, 'hematoma': 20, 'sulcu': 7, 'aspirin': 11, 'homemak': 1, 'patient': 205, 'pericardi': 61, 'mmol': 49, 'saw': 64, 'psychiatr': 14, 'ptt': 80, 'sinc': 186, 'dilat': 85, 'nutrit': 85, 'comparison': 166, 'cv': 136, 'proxi': 40, 'mono': 43, 'tf': 110, 'refractori': 8, 'portion': 101, 'team': 141, 'amp': 21, 'sw': 33, 'chang': 222, 'effus': 183, 'acidosi': 70, 'aggress': 62, 'ast': 48, 'scale': 61, 'vital': 80, 'today': 148, 'acl': 4, 'park': 4, 'rel': 59, 'full': 124, 'hr': 189, 'sign': 110, 'volum': 119, 'weak': 65, 'appear': 201, 'care': 171, 'et': 95, 'spontan': 91, 'malign': 32, 'ye': 42, 'mode': 73, 'physician': 107, 'cr': 88, 'n': 70, 'boot': 52, 'jugular': 68, 'hct': 122, 'hcp': 52, 'meal': 10, 'abnorm': 102, 'might': 41, 'h': 136, 'marri': 4, 'rml': 18, 'bedsid': 127, 'bowel': 151, 'want': 92, 'glucos': 82, 'room': 70, 'radiograph': 127, 'atenolol': 4, 'consult': 99, 'expir': 58, 'calcium': 55, 'present': 189, 'daughter': 84, 'bpm': 102, 'famili': 167, 'grief': 2, 'termin': 88, 'commun': 88, 'fluid': 183, 'bs': 138, 'gtt': 134, 'fio': 119, 'examin': 202, 'copi': 13, 'access': 113, 'hospit': 75, 'hepat': 27, 'well': 180, 'chemistri': 16, 'jpg': 63, 'mottl': 15, 'stomach': 93, 'earli': 73, 'promin': 65, 'loss': 52, 'flowsheet': 113, 'regular': 66, 'unchang': 179, 'control': 101, 'u': 143, 'replet': 84, 'drain': 144, 'also': 175, 'dextros': 11, 'rapid': 61, 'intact': 103, 'q': 136, 'cool': 67, 'previous': 80, 'tach': 21, 'contact': 91, 'report': 205, 'radiolog': 68, 'depress': 51, 'lipas': 16, 'exchang': 20, 'block': 44, 'exceed': 3, 'hco': 15, 'howev': 131, 'right': 211, 'occup': 18, 'p': 193, 'studi': 160, 'resourc': 3, 'acidem': 4, 'situat': 29, 'qday': 4, 'bilater': 175, 'hypertens': 82, 'costophren': 30, 'ga': 70, 'compar': 163, 'blood': 141, 'recent': 129, 'exclud': 72, 'peripher': 97, 'cvp': 66, 'suffer': 13, 'bed': 103, 'extens': 86, 'devic': 94, 'septic': 41, 'neut': 43, 'normal': 164, 'got': 28, 'hi': 121, 'opac': 148, 'f': 111, 'lead': 83, 'va': 11, 'kg': 111, 'stool': 150, 'stress': 66, 'form': 38, 'arch': 15, 'servic': 92, 'distend': 108, 'health': 39, 'albumin': 49, 'lung': 203, 'ij': 79, 'pcv': 14, 'vancomycin': 69, 'rub': 32, 'given': 180, 'propofol': 31, 'recommend': 82, 'simultan': 2, 'inquir': 4, ']': 80, 'funer': 16, 'niec': 13, 'tender': 82, 'note': 199, 'unrespons': 78, 'evalu': 173, 'agre': 84, 'small': 184, 'ratio': 7, 'caucasian': 2, 'non': 170, 'glycem': 62, 'ap': 175, 'titl': 38, 'hyperlipidemia': 9, 'physic': 72, 'intern': 78, 'baselin': 86, 'salmeterol': 1, 'need': 155, 'urin': 165, 'neck': 50, 'lower': 166, 'obtain': 159, 'sputum': 132, 'addendum': 98, \"c'ed\": 12, 'bp': 181, 'concern': 114, 'hous': 20, 'presum': 40, '<': 77, 'still': 115, 'jvp': 18, 'bolus': 98, 'puls': 133, 'initi': 132, 'worsen': 162, 'vasopressin': 27, 'receiv': 151, 'nc': 62, 'anoth': 58, 'approxim': 72, 'sodium': 63, 'morn': 93, 'aortic': 68, 'followup': 38, 'ischem': 31, 'ed': 61, 'ptx': 24, 'protocol': 57, 'w': 177, 'respiratori': 166, 'appoint': 7, 'point': 75, 'bicarb': 28, 'flatten': 7, 'underli': 79, 'key': 61, 'tiotropium': 1, 'visual': 109, 'ca': 105, 'epi': 11, 'pip': 58, 'encourag': 43, 'ani': 142, 'hyperinfl': 5, 'cultur': 100, 'inform': 122, 'breath': 162, 'superimpos': 56, '%': 188, 'interv': 156, 'acid': 56, 'clear': 163, 'apic': 43, 'albuterol': 58, 'reason': 199, 'ph': 61, 'next': 81, 'respiratiori': 1, 'pho': 56, 'disconnect': 2, 'tube': 161, 'lvef': 38, 'ventilatori': 63, 'global': 31, 'seem': 69, 'detail': 69, 'guard': 18, 'amount': 132, 'dose': 137, 'versu': 30, 'member': 57, 'dl': 70, 'eo': 44, 'prior': 186, 'bag': 43, 'meq': 92, 'repeat': 107, 'design': 10, 'echo': 58, 'agenc': 1, 'renal': 107, 'hemodynam': 111, 'differenti': 70, 'one': 117, 'process': 94, 'think': 20, 'manual': 14, 'cardiac': 156, 'carina': 78, 'cm': 141, 'preren': 12, 'port': 83, 'sat': 167, 'rosc': 1, 'retrocardiac': 50, 'assist': 81, 'heent': 34, 'arriv': 82, 'shock': 66, 'previou': 172, 'ct': 132, 'iadl': 1, 'onli': 153, 'lobe': 142, 'provid': 114, 'yo': 75, 'arrest': 27, 'cpr': 32, 'like': 172, 'epinephrin': 9, 'clip': 175, 'function': 95, 'includ': 113, 'infecti': 53, 'adjust': 59, 'live': 42, 'girlfriend': 2, 'fix': 29, 'central': 107, 'sound': 151, 'plan': 161, 'entir': 36, 'spokesperson': 10, 'cough': 125, 'despit': 90, 'statu': 197, 'visit': 106, 'distant': 27, 'calcif': 59, 'second': 40, '[': 80, 'soft': 154, 'eeg': 7, 'diagnosi': 176, 'long': 58, 'day': 160, 'ext': 68, 'data': 132, 'acut': 134, 'pre': 73, 'sbp': 114, 'speak': 65, 'contour': 68, 'alk': 47, 'elev': 122, 'inh': 3, 'could': 111, 'transient': 33, 'set': 141, 'two': 87, 'atrial': 90, 'absent': 62, 'question': 128, 'growth': 28, 'md': 134, 'icu': 108, 'mass': 65, 'son': 89, 'bradi': 12, 'ul': 64, 'repres': 91, 'unemploy': 1, 'x': 185, 'insulin': 80, 'admit': 194, 'resuscit': 44, 'gaug': 57, 'exam': 110, 'nurs': 141, 'stay': 55, 'thi': 230, 'issu': 84, 'htn': 50, 'fir': 2, 'husband': 35, 'autopeep': 6, 'tc': 12, 'vap': 72, 'ceftriaxon': 24, 'tachycardia': 94, 'along': 46, 'aroudn': 1, 'went': 50, 'presep': 6, 'employ': 7, 'infiltr': 112, 'micu': 131, 'clergi': 16, 'short': 86, 'min': 142, 'hazi': 30, 'record': 46, 'defer': 39, 'afternoon': 103, 'clinician': 41, 'unremark': 66, 'bili': 47, 'recruit': 14, 'privat': 7, 'addit': 117, 'levofloxacin': 40, 'adl': 9, 'rebound': 8, 'decid': 61, 'pedal': 41, 'stroke': 14, 'attempt': 119, 'ecg': 31, 'head': 114, 'cathet': 130, 'simvastatin': 4, 'etiolog': 57, 'requir': 145, 'medic': 217, 'hpi': 58, 'abg': 143, 'endotrach': 98, 'profound': 13, 'veteran': 1, 'prevent': 35, 'c': 177, 'organomegali': 4, 'arrang': 21, 'ng': 131, 'nodular': 15, 'intub': 147, 'cremat': 3, 'licsw': 11, 'minut': 91, 'coagulopathi': 20, 'later': 115, 'histori': 173, 'follow': 159, 'npo': 121, 'lab': 132, 'fissur': 12, 'pressor': 87, 'spent': 65, 'plt': 82, 'pleural': 176, 'paralyt': 16, 'pm': 197, 'pneumothorax': 118, 'antibiot': 102, 'discuss': 156, 'warfarin': 5, 'l': 171, 'tobacco': 15, 'review': 135, 'pneumoboot': 25, 'restrict': 24, 'person': 33, 'section': 56, 'metabol': 52, 'tip': 126, 'insert': 61, 'mg': 163, 'enter': 58, 'emot': 68, 'portabl': 178, 'k': 116, '>': 160, 'complaint': 68, 'final': 196, 'without': 143, 'upright': 57, 'band': 44, 'st': 140, 'fluticason': 2, 'understand': 45, 'hypothermia': 13, 'dx': 29, 'placement': 143, 'experienc': 17, 'imag': 136, 'independ': 19, 'would': 127, 'wean': 118, ')': 229, 'serial': 23, 'venou': 99, 'progress': 166, 'anterior': 62, 'upper': 162, 'low': 172, 'woman': 83, 'view': 119, 'anur': 28, 'list': 25, 'balanc': 85, 'keep': 104, 'found': 81, 'ill': 73, 'old': 200, 'undetect': 3, 'aris': 6, 'murmur': 42, 'abdomen': 119, 'boni': 11, 'evid': 141, 'cxr': 136, 'gap': 11, 'wa': 210, 'multipl': 128, 'hypercapn': 6, 'infus': 111, 'r': 178, 'sr': 94, 'inflammatori': 22, 'work': 87, 'line': 183, 'hypotens': 131, 'express': 42, 'product': 99, 'meantim': 3, 'tcurrent': 61, 'allergi': 82, 'alcohol': 15, 'prophylaxi': 70, 'tazo': 9, 'fen': 44, 'elig': 3, 'heart': 157, 'trop': 16, 'condit': 206, 'connect': 7, 'voltag': 35, 'bicarbon': 9, 'elderli': 5, '#': 211, 'map': 90, 'ipratropium': 6, 'cardiomediastin': 48, 'drip': 79, 'gener': 124, 'bandemia': 11, 'friend': 32, 'coars': 117, 'deni': 66, 'subsequ': 50, 'dr': 150, 'resp': 163, 'drop': 120, 'ml': 99, 'pt': 179, 'sever': 172, 'none': 113, 'father': 16, 'distress': 118, 'wait': 34, 'insp': 84, 'verapamil': 2, 'ekg': 67, 'time': 188, 'hypercapnia': 4, 'logist': 2, 'hour': 154, 'develop': 87, 'immedi': 45, 'critic': 66, 'mandat': 6, 'sick': 18, 'start': 154, 'pao': 66, 'bipap': 43, 'ha': 212, 'feel': 52, 'dure': 114, 'brother': 29, 'deliveri': 63, 'phenylephrin': 16, 'thorac': 49, 'fall': 42, 'consolid': 110, 'effort': 47, 'trend': 68, 'transfus': 52, 'support': 171, 'spoke': 86, 'angl': 28, 'med': 141, 'densiti': 45, 'left': 216, 'degre': 47, 'pea': 8, 'femal': 61, 'signific': 121, 'arf': 34, 'law': 18, 'known': 85, 'poor': 134, 'er': 19, 'assess': 176, 'enzym': 32, 'chest': 206, 'pneumonia': 203, 'extrem': 141, 'hypovolemia': 12, 'azotemia': 6, 'attend': 94, 'electrolyt': 43, 'last': 148, 'add': 51, 'may': 142, 'pupil': 73, 'laundri': 1, 'anion': 8, 'took': 27, 'sun': 14, 'pco': 36, 'continu': 176, 'blocker': 33, 'lactic': 54, 'recurr': 33, 'system': 99, 'taken': 60, 'increas': 196, 'clinic': 117, 'tmax': 105, 'admiss': 88, 'total': 119, 'sclera': 23, 'copd': 45, 'abov': 158, 'slide': 50, 'po': 143, 'improv': 167, 'check': 116, 'limb': 32, 'ro': 63, 'alt': 53, 'place': 196, 'chief': 63, 'atropin': 8, 'ivf': 111, 'failur': 141, 'emphysema': 28, 'legal': 10, 'b': 106, 'lactat': 47, 'home': 99, 'disposit': 64, 'sepsi': 79, 'ulcer': 81, 'event': 121, 'met': 61, 'cmh': 51, 'dic': 20, 'though': 89, 'drug': 55, 'inferior': 37, 'methylpr': 5, 'hl': 5, 'manag': 90, 'answer': 59, 'mouth': 82, 'primari': 43, 'e': 64, 'hilar': 36, 'gallop': 7, 'amylas': 17, 'statin': 17, 'protect': 61, 'rhythm': 126, 'involv': 85, 'demonstr': 88, 'emphas': 19, 'unabl': 130, 'impress': 176, 'differ': 81, 'wave': 81, 'code': 135, 'elder': 1, 'field': 72, 'etho': 2, 'svc': 87, 'phone': 47, 'comment': 93, 'unsuccess': 37, 'notabl': 38, 'wbc': 131, 'monitor': 174, 'show': 131, 'cvl': 42, 'inr': 88, 'major': 40, 'mid': 138, 'norepinephrin': 22, 'appropri': 101, 'addict': 8, 'interim': 26, 'tidal': 47, 'state': 94, 'prepar': 21, 'hold': 90, 'resid': 111, 'g': 96, 'rate': 165, 'arteri': 119, 'mmhg': 71, 'unsupport': 1, 'light': 49, 'vesta': 15, 'appli': 83, 'respons': 149, 'updat': 107, 'lt': 48, 'alo': 24, 'gag': 45, 'sluggish': 21, 'base': 165, 'abd': 152, 'toler': 128, 'carevu': 68, 'vari': 13, 'held': 86, 'detect': 32, 'sampl': 32, 'amber': 39, 'sedat': 109, 'throughout': 145, 'dnr': 138, 'coccxi': 2, 'radial': 94, 'quadrant': 40, 'fecal': 16, 'ting': 58, 'perrl': 55, 'rang': 76, 'mm': 122, 'expect': 54, 'push': 19, 'vss': 32, 'squeez': 16, 'make': 108, 'bacteri': 27, 'anemia': 34, 'inc': 43, 'virtual': 4, 'observ': 25, 'slough': 5, 'treat': 105, 'extub': 74, 'advanc': 92, 'fld': 14, 'le': 32, 'discomfort': 59, 'occasion': 89, 'dk': 11, 'eye': 117, 'heme': 57, 'aeb': 1, 'self': 42, 'react': 10, 'doe': 135, 'freq': 42, 'whole': 8, 'gum': 6, 'gave': 34, 'latest': 34, 'ooz': 40, 'inhal': 21, 'reach': 30, 'effect': 131, 'bloodcultur': 1, 'hm': 2, 'less': 111, 'reassess': 30, 'equal': 41, 'touch': 41, 'success': 48, '@': 110, 'restless': 42, 'obes': 32, 'iv': 179, 'sed': 23, 'pvc': 73, 'cefepim': 27, 'decis': 96, 'close': 83, 'gm': 40, 'pale': 39, 'administ': 63, 'arm': 78, 'sicu': 27, 'billiou': 1, 'drawn': 63, 'cont': 170, 'epiderm': 1, 'throat': 62, 'thick': 126, 'afebril': 105, 'alert': 78, 'size': 143, 'piv': 61, 'accomod': 1, 'moder': 161, 'overnoc': 38, 'duoderm': 30, 'wash': 14, 'move': 96, 'sx': 69, 'night': 104, \"'d\": 89, 'nacl': 5, 'dampen': 14, 'limit': 122, 'labil': 29, 'rec': 75, 'vers': 68, 'bolu': 108, 'movement': 112, 'intermitt': 72, 'vent': 103, 'turn': 98, 'atrov': 43, 'suction': 118, 'simv': 6, 'goal': 116, 'rla': 2, 'refer': 33, 'better': 80, 'waveform': 34, 'bloodi': 50, 'drainag': 53, 'cmx': 3, 'wheez': 83, 'foam': 5, 'nonpurpos': 6, 'cream': 38, 'remain': 193, 'vt': 87, 'purpos': 60, 'stimul': 61, 'tlcl': 13, 'swith': 2, 'wrist': 41, 'pinpoint': 12, 'tx': 72, 'amt': 126, 'dark': 43, 'made': 180, 'cpap': 63, 'page': 48, 'suggest': 133, 'rsccvl': 1, 'tonoc': 2, 'restraint': 44, 'stop': 93, 'minimum': 7, 'ms': 81, 'breast': 10, 'gi': 145, 'gu': 110, 'bm': 86, 'scant': 72, 'notic': 16, 'maintain': 122, 'abx': 116, 'sometim': 16, 'resolv': 86, 'ps': 81, 'hand': 62, 'reflex': 33, 'call': 139, 'soap': 7, 'voic': 72, 'often': 14, 'gulteal': 1, 'ac': 81, 'btwn': 2, 'threat': 2, 'pressur': 128, 'posit': 166, 'respir': 45, 'mental': 66, 'oral': 113, 'lo': 43, 'residu': 83, 'decreas': 161, 'ogt': 71, 'wnl': 82, 'rn': 94, 'sxning': 8, 'warm': 77, 'adequ': 106, 'feet': 45, 'flexion': 3, 'foley': 142, 'due': 169, 'vs': 106, 'protud': 1, 'urinari': 29, 'order': 129, 'mod': 71, 'via': 117, 'exp': 45, 'ineffect': 13, 'fs': 45, 'skin': 153, 'command': 117, 'hourli': 26, 'psv': 59, 'discourag': 4, 'exit': 9, 'awar': 125, 'pend': 113, 'back': 136, 'hernia': 19, 'sxn': 44, 'clean': 36, 'sc': 42, 'art': 29, 'otherwis': 100, 'nontend': 28, 'greater': 60, 'coccyx': 61, 'alin': 53, 'chng': 1, 'sequenti': 2, 'oil': 2, 'doppler': 86, 'ectopi': 98, 'crackl': 86, 'respond': 111, 'blink': 5, 'minim': 147, \"'s\": 184, 'cc': 156, 'dim': 36, 'lot': 16, 'tylenol': 66, 'cmo': 94, 'sore': 18, 'heparin': 77, 'pace': 23, 'patent': 97, 'reveal': 64, 'sent': 125, 'bite': 19, 'palpat': 34, 'reciev': 38, 'occ': 56, 'layer': 27, 'meet': 105, 'npn': 76, 'grimac': 39, 'spite': 5, 'yellow': 111, 'episod': 87, 'cmv': 52, 'dni': 104, 'flovent': 7, 'rsbi': 63, 'hemoglobin': 2, 'comfort': 153, 'rest': 85, 'output': 108, 'antifung': 13, 'open': 98, 'ii': 20, 'slightli': 131, 'sm': 64, 'contract': 18, 'lubric': 3, 'mae': 51, 'agit': 74, 'buttock': 26, 'neuro': 134, 'good': 119, 'done': 111, 'diminish': 103, 'dress': 52, 'riss': 39, 'perrla': 25, 'gluteal': 4, 'tlcvl': 1, 'poc': 35, 'mdi': 53, 'nt': 60, 'inplac': 5, 'lll': 64, 'temp': 102, 'expriatori': 1, 'vanc': 53, 'shift': 155, 'forearm': 8, 'ls': 113, 'perform': 96, 'overbreath': 38, 'veri': 152, 'bleed': 77, 'allevyn': 8, 'track': 29, 'approx': 62, 'matter': 21, 'dri': 78, 'hypoact': 70, 'v': 104, 'abl': 122, 'secret': 124, 'rt': 68, 'site': 79, 'rsc': 8, 'stage': 53, 'morphin': 100, 'tol': 66, 'micro': 24, 'frequent': 92, 'copiou': 49, 'vpace': 4, 'prn': 116, 'see': 148, 'pain': 164, 'tongu': 13, 'impair': 47, 'wheezi': 10, 'chronic': 93, 'afib': 54, 'affect': 16, 'ble': 16, 'late': 33, 'diffus': 115, 'oxycontin': 3, 'occa': 24, 'nsr': 75, 'twice': 17, 'safeti': 33, 'believ': 16, 'ra': 68, 'paranoid': 2, 'neg': 110, 'coumadin': 19, 'hostil': 1, 'overnight': 110, 'specif': 89, 'af': 32, \"''\": 67, 'flagyl': 52, 'infarct': 60, 'possibl': 165, 'wk': 9, 'take': 85, 'convert': 25, 'flare': 6, 'historian': 1, 'maintan': 1, 'longer': 43, 'away': 28, 'orient': 78, 'confus': 41, 'trace': 131, 'floor': 64, 'margin': 43, 'id': 116, 'nap': 13, 'ago': 44, 'dilt': 15, 'foleu': 1, 'hosp': 10, 'conduct': 21, 'hurt': 1, '``': 74, 'cta': 47, 'golden': 13, 'oder': 3, 'diff': 53, 'anterolater': 3, 'lopressor': 54, 'transit': 44, 'yesterday': 99, 'stand': 42, 'sta': 2, 'grand': 5, 'hyperact': 5, 'slept': 28, 'pass': 86, 'essenti': 47, 'liquid': 60, 'forget': 3, 'unclear': 60, 'intrins': 7, 'mushroom': 13, 'myocardi': 38, 'precordi': 18, 'sip': 20, 'cap': 24, 'diarrhea': 27, 'drowsi': 4, 'em': 11, 'upstair': 1, 'paranas': 18, 'nonshadow': 1, 'esophagu': 19, 'overt': 13, 'coil': 16, 'inspir': 7, 'multifoc': 68, 'vascular': 117, 'path': 4, 'mastoid': 22, 'invers': 16, 'preserv': 24, 'foci': 5, 'lacunar': 8, 'bile': 20, 'sinus': 23, 'white': 79, 'nuclei': 1, 'supin': 58, 'tissu': 49, 'find': 179, 'biliari': 21, 'rotat': 36, 'gallston': 13, 'mark': 67, 'duct': 13, 'hepatopathi': 1, 'side': 145, 'midlin': 54, 'ventricular': 95, 'surround': 29, 'eval': 127, 'markedli': 26, 'hypopharynx': 2, 'indic': 183, 'overal': 100, 'measur': 128, 'identifi': 69, 'focal': 69, 'structur': 66, 'slight': 83, 'atelectasi': 97, 'sludg': 5, 'thirteen': 2, 'within': 111, 'contrast': 102, 'lentiform': 1, 'slow': 50, 'lft': 27, 'lethargi': 14, 'silhouett': 84, 'tachypnea': 53, 'mild': 132, 'ascit': 36, 'cell': 58, 'malposit': 10, 'scatter': 47, 'ultrasound': 50, 'echotextur': 3, 'hemorrhag': 59, 'hydronephrosi': 24, 'apex': 37, 'irregular': 25, 'singl': 108, 'antegrad': 2, 'portal': 20, 'almost': 18, 'patholog': 27, 'liver': 57, 'float': 4, 'intra': 29, 'cirrhosi': 10, 'oxygen': 102, 'periventricular': 13, 'proxim': 44, 'intracrani': 27, 'cours': 98, 'osseou': 43, 'chf': 75, 'lesion': 61, 'date': 125, 'axial': 46, 'kidney': 58, 'pulmonari': 179, 'routin': 20, 'diagnost': 41, 'avl': 7, 'gallbladd': 35, 'flow': 108, 'obstruct': 80, 'ball': 3, 'overload': 65, 'techniqu': 92, 'extra': 24, 'attenu': 12, 'man': 120, 'locat': 73, 'contraind': 61, 'ge': 14, 'vein': 73, 'air': 121, 'us': 62, 'complet': 103, 'ngt': 69, 'colon': 41, 'junction': 68, 'fundu': 9, 'common': 31, 'organ': 59, 'subcort': 3, 'mayb': 8, 'allow': 66, 'persist': 117, 'associ': 51, 'segment': 37, 'ischemia': 46, 'vessel': 34, 'secondari': 79, 'microvascular': 7, 'gastric': 38, 'nose': 55, 'male': 76, 'await': 92, \"'\": 36, 'rectal': 51, 'ho': 53, 'ett': 98, 'convers': 34, 'liquidi': 2, 'result': 115, 'firm': 37, 'green': 37, 'reslut': 1, 'ob': 25, 'pnx': 13, 'request': 90, 'piec': 6, 'brown': 74, 'yankauer': 5, 'sy': 20, 'grade': 35, 'mgm': 7, 'english': 8, 'deminish': 10, 'reposit': 70, 'febril': 33, 'pmicu': 20, 'ax': 33, 'tan': 80, 'facial': 20, 'vea': 25, 'wish': 78, 'clariti': 3, '^': 31, 'airway': 80, 'per': 161, \"n't\": 38, 'abdomin': 99, 'risb': 2, 'whether': 21, 'gauz': 8, 'rll': 66, 'levoph': 68, 'tickl': 1, 'extend': 60, 'accept': 44, 'front': 6, 'bring': 13, 'systol': 99, 'nsg': 54, 'onc': 87, 'uncomfort': 40, 'mso': 46, 'chart': 32, 'ativan': 65, 'relief': 29, 'local': 32, 'transfer': 91, 'labor': 45, 'congest': 78, 'tv': 58, 'loop': 48, 'reccomend': 3, 'help': 71, 'said': 27, 'fluctuat': 14, 'lay': 5, 'immobl': 3, 'partial': 53, 'thought': 39, 'spike': 28, 'biopsi': 15, 'overinfl': 3, 'color': 97, 'sourc': 62, 'withdraw': 68, 'pleas': 158, 'period': 73, 'cad': 41, 'get': 98, 'institut': 7, 'respirtori': 2, 'doze': 10, 'spasm': 3, 'spo': 97, 'mediastin': 83, 'alarm': 28, 'sl': 26, 'suspici': 28, 'board': 19, 'becom': 80, 'whiteish': 1, 'ah': 3, 'awak': 62, 'tire': 18, 'broncial': 2, 'fragil': 7, 'bue': 12, 'reactiv': 47, 'rsmall': 1, 'noxiou': 28, 'tripl': 31, 'togeth': 9, 'bid': 14, 'organo': 1, 'darker': 2, 'ionic': 3, 'pheripher': 1, 'hypoattenu': 7, 'bibasilar': 66, 'cpa': 2, 'degrad': 4, 'rd': 14, 'pronounc': 64, 'pndg': 3, 'uop': 56, 'obviou': 39, 'arous': 60, 'bronchodil': 14, 'metronidazol': 16, 'background': 12, 'obey': 11, 'ask': 75, 'inconsist': 15, 'lymphadenopathi': 34, 'wiggl': 6, 'earlier': 100, 'pox': 6, 'patchi': 41, 'senna': 24, 'bronchoscopi': 30, 'nevertheless': 3, 'larg': 137, 'lumen': 74, 'somewhat': 53, 'perla': 15, 'coronari': 34, 'stabil': 29, 'careview': 34, 'hypotent': 6, 'leg': 46, 'cabg': 17, 'necrosi': 7, 'gen': 32, 'thorax': 16, 'restaint': 2, 'fi': 37, 'andswer': 1, 'middl': 32, 'bcx': 13, 'metrondiazol': 1, 'subclavian': 51, 'ing': 10, 'bulki': 2, 'paraesophag': 2, 'risk': 62, 'alter': 52, 'dead': 22, 'therapi': 87, 'bath': 19, 'fair': 32, 'cx': 85, 'ab': 22, 'motion': 58, 'difficult': 119, 'amintain': 1, 'half': 17, 'integ': 18, 'staff': 47, 'maximum': 7, 'grab': 5, 'obj': 1, 'verbal': 82, 'extremit': 8, 'prolong': 38, 'airspac': 43, 'multi': 47, 'ealier': 1, 'narr': 9, 'obstruc': 1, 'priest': 27, 'collaps': 55, 'tl': 7, 'suppositori': 4, 'probabl': 114, 'facil': 12, 'liter': 80, 'diseas': 118, 'remin': 3, 'area': 117, 'option': 36, 'noc': 36, 'kick': 5, 'sleep': 84, 'thrush': 8, 'respalo': 1, 'max': 69, 'mostli': 31, 'pit': 29, 'housestaff': 8, 'nd': 51, 'dd': 3, 'bow': 3, 'obscur': 41, 'grim': 6, 'thisk': 1, 'modest': 8, 'fo': 12, 'tko': 2, 'uprbc': 14, 'activ': 71, 'restart': 75, 'follw': 7, 'sd': 5, 'toilet': 45, 'cn': 10, 'approp': 5, 'dc': 63, 'cancer': 41, 'look': 56, 'outsid': 15, 'respalor': 2, 'cathart': 2, 'pleuracentesi': 1, 'ther': 3, 'mrsa': 35, 'heavi': 14, 'numer': 20, 'peerla': 4, 'nuero': 7, 'thru': 14, 'calm': 29, 'rare': 52, 'fail': 55, 'gross': 16, 'pl': 28, 'toe': 24, 'lg': 38, 'round': 66, 'tachycard': 47, 'contain': 19, 'pulm': 97, 'pearl': 11, 'opacif': 92, 'go': 68, 'prognosi': 67, 'vsl': 1, 'tri': 79, 'invas': 69, 'palpabl': 33, 'ks': 3, 'easili': 44, 'bone': 34, 'icreas': 1, 'stimuli': 104, 'red': 55, 'vanco': 109, 'optiray': 24, 'even': 100, 'postobstruct': 3, 'put': 55, 'stim': 13, 'volvulu': 1, 'hd': 40, 'prbc': 51, 'nod': 42, 'gd': 10, 'complex': 26, 'unrestrain': 8, 'dulcolax': 10, 'diuresi': 42, 'anasarca': 31, 'repond': 2, 'ivb': 9, 'opacifi': 12, 'suct': 18, 'colac': 37, 'gather': 5, 'mn': 41, 'lasix': 72, 'mechan': 69, 'spont': 27, 'integr': 35, 'hiatal': 9, 'sheet': 37, 'eve': 35, 'shake': 26, 'givn': 5, 'svt': 24, 'viabl': 3, 'respon': 5, 'titrat': 106, 'pneumon': 20, 'hemolyz': 1, '^^': 11, 'cuff': 52, 'neoplasm': 10, 'feed': 87, 'far': 40, 'focu': 47, 'sediment': 37, 'high': 133, 'climb': 16, 'window': 33, 'run': 62, 'hemodyn': 2, 'purpl': 16, 'unev': 22, 'came': 51, 'sine': 1, 'concentr': 25, 'tubefeed': 3, 'enlarg': 79, 'fever': 94, 'mv': 28, 'inflat': 9, 'risen': 1, 'visibl': 30, 'cardio': 15, 'noo': 1, 'although': 95, 'begin': 59, 'bronch': 44, 'inconsistantli': 4, 'antb': 5, 'suport': 3, 'letharg': 49, 'edemat': 27, 'littl': 91, 'benefit': 36, 'necrot': 12, 'rhonchi': 68, 'unit': 90, 'siderail': 6, 'reduc': 42, 'proceedur': 1, 'respalar': 1, 'senekot': 2, 'space': 48, 'kickinga': 1, 'pocket': 6, 'respolar': 2, 'precaut': 63, 'ad': 62, 'pmd': 1, 'thu': 32, 'poorli': 33, 'object': 62, 'uo': 65, 'pull': 66, 'ray': 54, 'regard': 83, 'simpl': 70, 'reevalu': 12, 'contist': 1, 'way': 32, 'tent': 28, 'bilat': 73, 'definit': 48, 'word': 24, 'depth': 4, 'quit': 28, 'substanti': 44, 'hard': 23, 'regimin': 4, 'combiv': 13, 'movment': 3, 'spon': 11, 'og': 51, '&': 126, 'saturday': 10, 'grandchildren': 2, 'swell': 22, 'lpm': 5, 'levo': 67, 'antibx': 39, 'overli': 45, 'criteria': 18, 'tracheostomi': 33, 'node': 33, 'alreadi': 27, 'coocyx': 1, 'intens': 5, 'extent': 39, 'belli': 8, 'bye': 6, 'teen': 29, 'pb': 3, 'let': 19, 'plug': 43, 'vol': 44, 'yest': 13, 'pink': 49, 'theraput': 2, 'crest': 1, 'totol': 1, 'quickli': 45, 'nonspecif': 26, 'divid': 10, 'fibrosi': 20, 'satisfactori': 23, 'mad': 4, 'complianc': 30, 'ensur': 15, 'plateau': 43, 'settl': 27, 'reintub': 19, 'rebolu': 1, 'fb': 18, 'mask': 66, 'calcifi': 33, 'wrote': 7, 'acv': 10, 'rectum': 26, 'constantli': 11, 'levoflox': 29, 'comlet': 1, 'lavag': 30, 'beyond': 23, 'toliet': 5, 'mainli': 12, 'agreement': 26, 'strong': 37, 'notifi': 87, 'cpt': 34, 'pap': 18, 'mortem': 12, 'perihilar': 37, 'paramet': 27, 'accord': 30, 'dysynchroni': 34, 'ild': 5, 'lightli': 16, 'knob': 3, 'kcl': 40, 'talk': 52, 'moment': 10, 'ectub': 1, 'nasogastr': 79, 'mildli': 76, 'fiber': 16, 'face': 59, 'alveolar': 33, 'nrb': 46, 'problem': 55, 'soon': 21, 'becam': 89, 'loos': 52, 'autoflow': 28, 'ngtd': 22, 'fib': 47, 'becaus': 42, 'ensu': 2, 'comfirm': 1, 'hx': 59, 'grandson': 6, 'anesthesia': 29, 'promot': 19, 'functin': 1, 'pursu': 19, 'reportedli': 16, 'young': 1, 'haldol': 21, 'cre': 7, 'pictur': 20, 'synch': 8, 'breathsound': 5, 'hardwar': 6, 'doxycyclin': 2, 'bb': 33, 'lnc': 14, 'decidd': 1, 'tachypn': 56, 'paradox': 13, 'remai': 2, 'surgic': 44, 'evelv': 1, 'give': 77, 'kq': 2, 'azygo': 4, 'iliac': 10, 'mcq': 15, 'shortli': 15, 'tear': 34, 'dispo': 43, 'infil': 1, 'dramat': 8, 'decison': 1, 'aprv': 4, 'cl': 19, 'therapeut': 36, 'life': 29, 'trach': 40, 'instabl': 24, 'yet': 46, 'interstiti': 59, 'confort': 4, 'incres': 2, 'bo': 5, 'summeri': 1, 'contempl': 1, 'satur': 48, 'avail': 65, 'tlc': 31, 'interact': 22, 'maew': 4, 'zone': 30, 'tomorrow': 65, 'three': 35, 'bun': 98, 'everyth': 9, 'incr': 10, 'shoulder': 19, 'pattern': 79, 'excel': 15, 'term': 43, 'befor': 76, 'treatment': 90, 'lrge': 1, 'hypoxia': 104, 'borderlin': 49, 'asystol': 33, 'perl': 27, 'letter': 4, 'began': 33, 'continnu': 2, 'wors': 53, 'steadili': 3, 'desat': 66, 'sump': 3, 'centimet': 12, 'sharp': 13, 'respondibng': 1, 'lighter': 2, 'vomit': 30, 'fe': 6, 'desatur': 58, 'narcot': 13, 'redden': 25, 'na': 39, 'healthi': 5, 'wife': 53, 'breakdown': 46, 'remov': 110, 'pulmon': 32, 'pan': 30, 'mattress': 13, 'sbt': 31, 'difficulti': 61, 'amnt': 2, 'pag': 3, 'decr': 6, 'aaox': 2, 'pleurit': 4, 'pn': 6, 'dyspneic': 9, 'cannula': 38, 'diet': 57, 'dopa': 7, 'chip': 5, 'stat': 21, 'nr': 5, 'fine': 24, 'eat': 26, 'replac': 55, 'stick': 48, 'ox': 23, 'juic': 5, 'asleep': 14, 'hyponatremia': 6, 'descis': 1, 'intak': 43, 'cathol': 8, 'shallow': 21, 'slowli': 52, 'softner': 1, 'qhr': 5, 'accessori': 31, 'muscl': 58, 'noon': 29, 'sync': 7, 'pcp': 36, 'age': 21, 'unsaf': 3, 'tolarg': 1, 'exurt': 1, 'awaken': 14, 'custard': 3, 'especi': 22, 'bit': 22, 'anywher': 4, 'humidifi': 12, 'kid': 2, 'palp': 15, 'financila': 1, 'exert': 9, 'nonprod': 2, 'deteri': 1, 'induct': 3, 'assum': 10, 'lack': 28, 'neb': 70, 'closer': 4, 'stamp': 1, 'caus': 63, 'basil': 12, 'confirm': 83, 'cramp': 1, 'carinii': 2, 'draw': 44, 'hover': 5, 'save': 3, 'potenti': 48, 'nasal': 59, 'machin': 13, 'lost': 7, 'incontin': 19, 'frequenc': 13, 'weepi': 2, 'disori': 7, 'anxiou': 53, 'ect': 5, 'npc': 5, 'cdiff': 19, 'surviv': 11, 'nrbm': 4, 'axitey': 1, 'inflam': 4, 'pr': 49, 'pneumocysti': 5, 'guaifenesin': 3, 'appetit': 13, 'name': 30, 'lat': 11, 'azithromycin': 22, 'spell': 4, 'soc': 21, 'xray': 28, 'fruit': 1, 'water': 54, 'induc': 23, 'mother': 27, 'gaurdianship': 1, 'procedur': 99, 'endo': 54, 'fit': 5, 'address': 43, 'fell': 16, 'visitor': 13, 'tfr': 1, 'fluconazol': 9, 'softli': 24, 'vision': 12, 'sugar': 32, 'send': 38, 'hypox': 45, 'mani': 40, 'duski': 10, 'restr': 2, 'fm': 15, 'syrup': 2, 'retinopathi': 1, 'deficit': 14, 'plu': 13, 'implant': 2, 'psi': 6, 'guid': 28, 'ss': 31, 'fsb': 18, 'assign': 4, 'ice': 10, 'ppn': 4, 'leav': 26, 'recov': 26, 'quad': 12, 'fingerstick': 17, 'felt': 44, 'occular': 1, 'poss': 21, 'alseep': 1, 'fx': 10, 'fro': 7, 'zosyn': 67, 'codein': 8, 'gluc': 5, 'punctur': 15, 'np': 15, 'tommorrow': 9, 'membran': 10, 'hiv': 5, 'picc': 59, 'balloon': 14, 'compr': 1, 'anxieti': 44, 'mention': 20, 'tenuou': 24, 'mucou': 35, 'reorient': 15, 'hiflow': 4, 'specimen': 22, 'free': 97, 'atrium': 66, 'obatin': 2, 'ltr': 1, 'wind': 1, 'welfar': 1, 'fa': 8, 'bay': 1, 'lorazepam': 16, 'ass': 9, 'pnd': 27, 'guardian': 6, 'cover': 72, 'sister': 43, 'antigen': 11, 'thank': 19, 'enc': 5, 'lunch': 4, 'magso': 2, 'lnp': 4, 'sob': 79, 'apart': 5, 'oj': 1, 'spanish': 3, 'trigger': 39, 'bigger': 2, 'fungal': 19, 'void': 21, 'children': 24, 'doubl': 34, 'els': 8, 'rail': 3, 'listen': 5, 'aunt': 2, 'coliti': 19, 'reg': 28, 'peac': 12, 'dip': 12, 'whi': 15, 'heplock': 6, 'pu': 2, 'minor': 8, 'return': 91, 'food': 18, 'sedimen': 2, 'shovel': 10, 'watch': 16, 'coverag': 67, 'moniotr': 4, 'babi': 2, 'qod': 4, 'much': 83, 'straight': 3, 'bacitracin': 1, 'sporad': 2, 'througout': 5, 'episdo': 1, 'occassion': 12, 'sleev': 3, 'center': 17, 'bedpan': 4, 'overcom': 2, 'antecub': 4, 'incont': 9, 'nonproduct': 10, 'isol': 16, 'mgx': 3, 'chaplain': 5, 'confluent': 23, 'wear': 10, 'consent': 39, 'cleans': 18, 'direct': 38, 'fire': 2, 'height': 77, 'weight': 86, 'diminsh': 13, 'cavoatri': 28, 'ecchymot': 9, 'suppport': 6, 'anti': 22, 'daili': 72, 'iintub': 1, 'tte': 46, 'afeb': 20, 'bundl': 29, 'jerki': 1, 'depart': 8, 'percutan': 4, 'radiologist': 17, 'aerat': 47, 'contin': 12, 'nutren': 25, 'interrog': 1, 'jeopard': 1, 'either': 36, 'upon': 57, 'cal': 13, 'cvvhdf': 6, 'qid': 24, 'subcutan': 23, 'rx': 36, 'hytap': 1, 'pfr': 7, 'scrub': 1, 'toward': 45, 'chg': 9, 'wo': 6, 'seal': 17, 'th': 19, 'wob': 31, 'chge': 1, 'bil': 39, 'assessment': 1, 'qualiti': 54, 'pulseless': 6, 'venopunctur': 2, 'fent': 46, 'thicken': 66, 'flush': 45, 'ar': 28, 'say': 34, 'lidocain': 19, 'blb': 9, 'fluoroscop': 18, 'ppi': 49, 'aquacel': 6, 'superior': 42, 'citrat': 6, 'steroid': 42, 'hydrocortison': 11, 'co': 66, 'test': 65, 'regurgit': 42, 'mitral': 44, 'compens': 21, 'wire': 36, 'interpret': 59, 'insomnia': 4, 'rxed': 1, 'damp': 4, 'french': 20, 'grossli': 46, 'tract': 17, 'syst': 1, 'lock': 4, 'transven': 4, 'suboptim': 28, 'sutur': 17, 'quentin': 1, 'lift': 7, 'angiograph': 9, 'predominantli': 25, 'nite': 2, 'rusti': 9, 'clot': 41, 'xylocain': 1, 'documetn': 1, 'lb': 38, 'weep': 16, 'chamber': 21, 'told': 18, 'tele': 18, 'cyu': 6, 'cava': 25, 'edg': 6, 'deterior': 30, 'inch': 46, 'lascer': 1, 'hemhroid': 1, 'adequato': 1, 'tape': 21, 'guidewir': 10, 'ir': 24, 'leak': 50, 'surgigel': 3, 'ventricl': 59, 'sch': 11, 'mlc': 2, 'sux': 5, 'poe': 10, 'reduct': 13, 'multipodu': 8, 'fashion': 16, 'creat': 70, 'vasopressor': 21, 'accompani': 24, 'equivoc': 6, 'reseal': 1, 'shown': 12, 'fractur': 25, 'fluoro': 13, 'opsit': 2, 'agon': 24, 'streak': 10, 'ef': 43, 'usual': 31, 'mexiliten': 1, 'attent': 41, 'oh': 1, 'vtach': 15, 'crrt': 11, 'tabl': 14, 'axillari': 42, 'hep': 31, 'standard': 78, 'dual': 14, 'gel': 9, 'valv': 58, 'pacemak': 15, \"'ll\": 1, 'sero': 3, 'tap': 21, 'semi': 40, 'tell': 11, 'vassopressin': 2, 'inject': 19, 'complic': 61, 'neosynephrin': 18, 'prolen': 1, 'fulli': 38, 'bigemini': 8, 'ccu': 13, 'midnit': 2, 'inpati': 43, 'tone': 60, 'anticip': 21, 'thoracentesi': 21, 'supervisig': 1, 'extext': 3, 'steril': 25, 'wall': 84, 'util': 19, 'heel': 14, 'reject': 1, 'gr': 10, 'conclus': 47, 'desynchroni': 1, 'temperatur': 28, 'dysfunct': 42, 'precis': 4, 'bypass': 7, 'hypokinesi': 25, 'ip': 27, 'cvvh': 17, 'ideal': 40, 'anyth': 17, 'cardiolog': 24, 'moistur': 7, 'barrier': 38, 'sanguin': 6, 'bacteremia': 10, 'hrli': 2, 'decub': 12, 'hemodi': 2, 'unchg': 1, 'quiac': 5, 'anatomi': 5, 'lido': 2, 'hg': 52, 'pericardium': 39, 'alleyvn': 1, 'knee': 8, 'deliv': 12, 'dsging': 1, 'ica': 6, 'defibril': 10, 'aorta': 65, 'coarser': 1, 'absorbs': 1, 'vena': 25, 'tannish': 8, 'paper': 6, 'incis': 9, 'focus': 27, 'leaflet': 39, 'reappli': 3, 'pill': 13, 'thin': 69, 'seriou': 7, 'lyte': 79, 'jerk': 4, '^^wob': 2, 'lessen': 4, 'posterior': 48, 'replct': 10, 'sput': 14, 'aloevesta': 2, 'cvvhd': 14, 'septum': 33, 'dsd': 18, 'cath': 77, 'number': 30, 'micropunctur': 11, 'five': 3, 'amiodaron': 22, 'clearer': 12, 'fibril': 54, 'crit': 15, 'project': 53, 'screen': 24, 'secur': 31, 'wound': 32, 'blade': 2, 'prednison': 22, 'interatri': 30, 'pneumo': 13, 'mexiletin': 1, 'graft': 9, 'configur': 8, 'asymmetr': 24, 'plaement': 1, 'necessari': 40, 'lump': 2, 'dsg': 34, 'fairli': 21, 'oett': 15, 'peel': 16, 'pla': 1, 'armboard': 1, 'ivp': 56, 'readi': 37, 'tunnel': 8, 'prep': 20, 'consumpt': 2, 'till': 19, 'aicd': 3, 'guidanc': 19, 'load': 27, 'mortum': 4, 'patenc': 9, 'hemodialysi': 16, 'toxic': 17, 'deep': 40, 'duplex': 10, 'sheath': 21, 'technic': 50, 'septal': 28, 'melanot': 1, 'cp': 29, 'everi': 29, 'rrt': 16, 'particip': 14, 'cardiomegali': 48, 'obvious': 6, 'postion': 4, 'aquasel': 1, 'rv': 38, 'belong': 14, 'acidot': 23, 'needl': 13, 'adaptic': 1, 'fellow': 39, 'dermabond': 1, 'moist': 14, 'stuck': 5, 'restrain': 17, 'entri': 9, 'explain': 46, 'dced': 3, 'spt': 2, 'cbc': 21, 'fem': 19, 'plct': 10, 'hit': 14, 'supervis': 12, 'overnit': 3, 'mech': 17, 'adapt': 13, 'soften': 3, 'fentanyl': 79, 'revis': 9, 'readjust': 6, 'greatli': 8, 'dup': 4, 'lv': 38, 'sternal': 18, 'femor': 39, 'corneal': 18, 'guiac': 20, 'hemothorax': 6, 'tid': 31, 'tortuou': 13, 'bsa': 32, 'branch': 34, 'kinair': 7, 'beat': 46, 'drape': 15, 'switch': 47, 'dialysi': 41, 'emerg': 28, 'pacer': 12, 'wide': 35, 'chged': 1, 'rib': 15, 'creation': 1, 'resum': 37, 'recheck': 40, 'ue': 21, 'mucoid': 3, 'av': 17, 'great': 28, 'ultrafiltr': 4, 'clacium': 1, 'umbil': 2, 'bare': 7, 'quintin': 2, 'hope': 41, 'levof': 7, 'flagli': 1, 'gentli': 7, 'irrig': 15, 'apneic': 12, 'ffp': 24, 'ctic': 1, 'sad': 5, 'wed': 28, 'refil': 6, 'uffp': 4, 'fore': 1, 'hypo': 22, 'diaphragm': 51, 'fri': 24, 'nml': 5, 'draing': 6, 'brought': 32, 'di': 5, 'rlle': 1, 'scan': 57, 'ioniz': 34, 'linear': 11, 'preop': 1, 'among': 6, 'finger': 44, 'brownish': 11, 'bg': 15, 'placemen': 1, 'gratitud': 3, 'butt': 2, 'filter': 13, 'wonder': 3, 'pitressin': 7, 'evel': 2, 'vaselin': 2, 'adb': 1, 'mucousi': 2, 'kept': 38, 'distal': 59, 'heal': 18, 'attitud': 1, 'accesori': 2, 'sec': 24, 'import': 9, 'languag': 14, 'cagluc': 4, 'pick': 17, 'multisystem': 5, 'lue': 18, 'lengthli': 1, 'rom': 10, 'weekend': 21, 'surgeri': 45, 'occl': 1, 'gromac': 1, 'clamp': 24, 'compromis': 25, 'spiritu': 4, 'bagdsd': 1, 'follwo': 2, 'fear': 8, 'friendli': 1, 'dm': 23, 'plane': 7, 'unless': 12, 'protonix': 38, 'reconcil': 1, 'purul': 9, 'cooler': 4, 'pager': 10, 'kvo': 22, 'bld': 25, 'die': 31, 'hesit': 3, 'biliou': 25, 'rise': 50, 'dra': 1, 'dtr': 28, 'meticul': 2, 'slogh': 1, 'digit': 3, 'rue': 13, 'cyanot': 14, 'etc': 32, 'aggreement': 1, 'unequ': 6, 'shut': 28, 'exposur': 8, 'sctotum': 1, 'collect': 43, 'qd': 22, 'rhonchor': 43, 'incisin': 1, 'pray': 6, 'hypotherm': 19, 'rewir': 3, 'battl': 1, 'trust': 2, 'msi': 2, 'heat': 2, 'spend': 5, 'scrotum': 6, 'mulit': 2, 'fluc': 2, 'relax': 11, 'pleth': 5, 'blue': 12, 'yankaur': 7, 'exhaust': 4, 'secreat': 24, 'sacrum': 13, 'ion': 3, 'first': 47, 'elimin': 7, 'nectot': 1, 'appreci': 64, 'manitain': 2, 'ear': 60, 'caludin': 1, 'asp': 27, 'levofloxicin': 1, 'foul': 5, 'licw': 2, 'tpn': 27, 'gase': 11, 'translat': 10, 'drianag': 1, 'length': 26, 'vnet': 1, 'scrotal': 4, 'ethic': 8, 'separ': 5, 'minior': 2, 'brb': 9, 'comress': 1, 'wherea': 2, 'esrd': 14, 'dopp': 4, 'fight': 3, 'hugger': 20, 'twenti': 4, 'occur': 34, 'aid': 21, 'peri': 15, 'assit': 2, 'chanc': 7, 'miss': 4, 'stiff': 11, 'defib': 2, 'end': 90, 'forehead': 4, 'content': 17, 'gastrectomi': 1, 'sacral': 10, 'tmap': 1, 'pac': 35, 'correct': 33, 'bair': 18, 'futur': 27, 'vigor': 15, 'cloudi': 28, 'upc': 1, 'gib': 11, 'fingertip': 2, 'bodi': 79, 'jp': 4, 'schedul': 36, 'accur': 15, 'neurolog': 63, 'passiv': 3, 'woud': 1, 'fighter': 2, 'towel': 4, 'portugues': 1, 'apnea': 21, 'declin': 66, 'bright': 12, 'mulitpl': 3, 'ie': 7, 'delin': 4, 'bilou': 3, 'tm': 12, 'lingular': 3, 'fasia': 1, 'rle': 5, 'purluant': 1, 'desir': 23, 'lle': 8, 'grayish': 3, 'serou': 26, 'vitamin': 14, 'hungri': 7, 'realiti': 2, 'tonight': 45, 'determin': 43, 'infrequ': 12, 'briskli': 7, 'drb': 2, 'frequet': 1, 'perfus': 24, 'inciis': 1, 'briefli': 35, 'glu': 8, 'lengthi': 5, 'incison': 1, 'describ': 38, 'convict': 1, 'areaa': 1, 'emesi': 21, 'tremor': 9, 'step': 21, 'wd': 3, 'black': 11, 'cpncp': 1, 'mtg': 27, 'estrem': 1, 'escar': 1, 'glucon': 13, 'dicat': 1, 'sao': 25, 'br': 3, 'administr': 37, 'least': 44, 'wt': 7, 'bilingu': 1, 'tpa': 6, 'levoquin': 13, 'best': 29, 'larger': 30, 'requirin': 1, 'avpac': 2, 'palm': 1, 'stapl': 4, 'lw': 9, 'smaller': 23, 'lc': 9, 'intrus': 1, 'maroon': 8, 'coag': 26, 'suit': 6, 'consid': 99, 'near': 36, 'scl': 4, 'patch': 28, 'nearli': 10, 'swollen': 14, 'bulb': 2, 'quinton': 3, 'gelatin': 2, 'fifteen': 1, 'drift': 13, 'mobil': 10, 'blanchabl': 2, 'throught': 3, 'herniat': 2, 'fianrd': 1, 'hob': 49, 'clock': 4, 'neutrapho': 5, 'drsg': 11, 'drink': 10, 'render': 3, 'rrectal': 1, 'ssi': 30, 'cri': 16, 'fewer': 4, 'yl': 1, 'stimulu': 13, 'nickel': 1, 'delay': 32, 'peg': 31, 'gain': 7, 'discolor': 4, 'ssri': 10, 'meanwhil': 1, 'ced': 11, 'thing': 15, 'empti': 6, 'caregiv': 3, 'reasobali': 1, 'afterward': 8, 'disturb': 4, 'portex': 6, 'perin': 3, 'coumidin': 1, 'bedrest': 4, 'sleepi': 6, 'chem': 9, 'subtherapeut': 4, 'fromn': 2, 'li': 9, 'coffe': 12, 'prev': 8, 'refus': 32, 'transport': 48, 'perineum': 9, 'tue': 28, 'town': 7, 'addendeum': 1, 'chunki': 2, 'sucion': 1, 'hhad': 1, 'properli': 11, 'paco': 12, 'station': 3, 'stau': 5, 'rhoncher': 9, 'grip': 5, 'endocrin': 21, 'concernsa': 1, 'rul': 49, \"tf'ing\": 9, 'advers': 12, 'reglan': 18, 'sxing': 15, 'nwith': 1, 'atro': 7, 'torso': 25, 'sxtn': 3, 'highli': 8, 'autopsi': 37, 'ic': 2, 'stare': 3, 'pad': 23, 'peroid': 1, 'primarili': 18, 'drive': 16, 'fuild': 1, 'unsuccessful': 2, 'brisk': 35, 'huge': 5, 'alb': 25, 'auscult': 33, 'remav': 1, 'withdrawn': 20, 'aprox': 1, 'pleasur': 2, 'epo': 1, 'decent': 3, 'integumentari': 13, 'pigtail': 9, 'blding': 1, 'net': 16, 'caution': 3, 'pseudomona': 11, 'escap': 1, 'suc': 1, 'seret': 1, 'symptomat': 6, 'absorb': 8, 'lantu': 4, 'heperin': 2, 'subsid': 3, 'hydrat': 23, 'happen': 9, 'profoundli': 3, 'ked': 1, 'carevi': 1, 'mf': 2, 'gradual': 21, 'resolut': 29, 'greenish': 11, 'dp': 72, 'granula': 1, 'stem': 11, 'salin': 20, 'hypoglycem': 2, 'ope': 2, 'inccreas': 1, 'chane': 3, 'pa': 51, 'ach': 2, 'comput': 3, 'trachesotomi': 1, 'strength': 19, 'facilit': 14, 'gentleman': 6, 'pretti': 4, 'tast': 1, 'sprint': 1, 'anniversari': 1, 'roommat': 1, 'nepro': 6, 'reassur': 23, 'unsustain': 2, 'main': 45, 'significantli': 58, 'multipod': 1, 'nss': 5, 'compress': 52, 'vue': 6, 'atc': 11, 'atr': 9, 'asssess': 1, 'escal': 30, 'balnac': 1, 'sours': 2, 'ok': 37, 'asymptomat': 8, 'tend': 12, 'dilaudid': 9, 'rabbi': 6, 'frame': 4, 'distract': 1, 'avoid': 31, 'uf': 35, 'lethgar': 1, 'kub': 19, 'higher': 41, 'morgu': 17, 'douderm': 4, 'oint': 2, 'surpris': 2, 'warmer': 4, 'session': 3, 'liq': 15, 'grin': 1, 'asynchron': 3, 'soda': 1, 'crx': 2, 'sq': 44, 'bradycard': 16, 'exercis': 10, 'zero': 14, 'part': 40, 'intercanula': 1, 'break': 20, 'mentat': 5, 'mucu': 22, 'correl': 59, 'sml': 13, 'week': 49, 'chair': 17, 'shape': 7, 'polymorph': 3, 'skew': 1, 'freeli': 3, 'protein': 30, 'woken': 4, 'recal': 3, 'match': 7, 'uq': 1, 'oob': 18, 'redraw': 5, 'antibodi': 8, 'mr': 68, 'promod': 5, 'waen': 1, 'tgd': 1, 'uppr': 1, 'alot': 7, 'dvd': 1, 'renmain': 1, 'bronc': 2, 'achi': 1, 'superfici': 18, 'appropriatli': 7, 'gabapentin': 2, 'ivpb': 2, 'door': 3, 'oncpap': 1, 'nahco': 6, 'periph': 4, 'visabl': 1, '}': 64, 'rhochi': 1, 'shoot': 1, 'reaction': 40, 'yel': 1, 'ayt': 1, 'bc': 20, 'flsd': 1, 'happi': 7, 'increaseda': 1, 'lavarg': 3, 'multip': 1, 'cd': 17, 'aim': 13, 'hip': 20, 'pgt': 3, 'loc': 8, 'glargin': 5, 'valuabl': 21, 'prone': 6, 'cipro': 19, 'discard': 4, 'minimali': 2, 'glug': 1, 'poitiv': 1, 'hs': 11, 'discoordin': 8, 'gauard': 1, 'marroon': 1, 'parti': 1, 'calibr': 3, 'depend': 55, 'reflect': 49, 'expans': 50, 'cooper': 26, 'enough': 24, 'shop': 1, 'modul': 1, 'accuraci': 3, 'disscuss': 1, 'cope': 25, 'ashen': 4, 'mean': 18, 'tarri': 2, 'initit': 2, 'consi': 1, 'infact': 2, 'prob': 8, 'perianl': 1, 'norepi': 7, 'rehydr': 2, 'rehab': 39, 'erythromycin': 6, 'ten': 3, 'written': 31, 'pseudamona': 1, 'infreq': 2, 'slint': 1, 'syring': 8, 'hig': 3, 'tight': 13, 'perlla': 1, 'pvd': 14, 'eas': 11, 'lie': 24, 'never': 14, 'memori': 6, 'survail': 1, 'admin': 13, 'nbp': 36, 'nausea': 28, 'duederm': 1, 'pul': 11, 'tirtat': 1, 'acknowledg': 10, 'adminsit': 1, \"'ve\": 2, 'brief': 27, 'neo': 37, 'upset': 14, 'environ': 11, 'realli': 11, 'bairhugg': 6, 'beinfit': 1, 'taut': 1, 'abc': 2, 'peroxid': 1, 'inner': 10, 'derm': 7, 'hem': 8, 'build': 2, 'gt': 7, 'antidepress': 3, 'appar': 47, 'dyspnea': 53, 'audibl': 25, 'puff': 2, 'sp': 17, 'vioxx': 1, 'jitteri': 2, 'saddl': 1, 'prisma': 1, 'resent': 4, 'reliev': 17, 'valu': 36, 'mst': 1, 'reddish': 1, 'expiratori': 20, 'beir': 1, 'circuit': 7, \"'m\": 4, 'sid': 1, 'discharg': 32, 'nervous': 1, 'rigid': 7, 'flatu': 17, 'dorsali': 9, 'worker': 22, 'bactrim': 18, 'label': 1, 'receic': 1, 'emycin': 2, 'ileu': 21, 'reserv': 12, 'except': 94, 'broncheal': 1, 'eccymoisi': 1, 'butr': 1, 'dialysis': 2, 'hemo': 2, 'pleasant': 14, 'stale': 1, 'gnd': 2, 'noiw': 1, 'unlik': 35, 'blanket': 17, 'si': 5, 'bruis': 18, 'item': 3, 'clearanc': 7, 'mouht': 1, 'fan': 1, 'gtube': 3, 'bottom': 4, 'nnpn': 1, 'walk': 9, 'hydrogen': 1, 'lsc': 8, 'intermit': 9, 'surfac': 7, 'heard': 21, 'repeatedli': 9, 'titer': 2, 'bond': 3, 'triadyn': 7, 'enjoy': 4, 'messag': 7, 'write': 15, 'iii': 13, 'trail': 5, 'couplet': 3, 'catch': 1, 'bank': 15, 'decubitu': 15, 'prayer': 8, 'resist': 28, 'dialyisi': 1, 'card': 42, 'relat': 81, 'asymthomat': 1, 'vbg': 12, 'type': 62, 'oth': 2, 'begun': 8, 'mucomyst': 8, 'corrul': 1, 'pharm': 2, 'acidod': 2, 'erythro': 3, 'dializ': 2, 'aggit': 12, 'awok': 3, 'weaker': 5, 'photo': 1, 'pic': 16, 'pk': 3, 'stumul': 1, 'spec': 31, 'dialyz': 6, 'easi': 5, 'stpo': 1, 'rhonchial': 2, '{': 64, 'reincert': 1, 'pp': 24, 'bout': 4, 'true': 8, 'ran': 5, 'atool': 1, 'tachi': 31, 'quiet': 33, 'zofran': 9, 'settin': 1, 'challang': 1, 'freg': 2, 'endoc': 11, 'clearli': 30, 'luck': 2, 'canula': 6, 'sure': 16, 'nonsustain': 1, 'trial': 45, 'midodrin': 3, 'graviti': 16, 'shook': 2, 'compliant': 7, 'diamet': 28, 'coupl': 23, 'motil': 13, 'quo': 2, 'ambu': 15, 'seizur': 23, 'excori': 11, 'mbp': 2, 'somul': 4, 'account': 9, 'someth': 8, 'minit': 1, 'stoma': 5, 'foot': 17, 'req': 18, 'target': 10, 'absorbt': 2, 'msicu': 1, 'colleg': 1, 'inlin': 1, 'mvr': 2, 'peak': 28, 'phenergan': 1, 'troubl': 7, 'oincreas': 1, 'flat': 32, 'duodersm': 1, 'finish': 11, 'player': 1, 'secrtion': 1, 'nkda': 11, 'glargen': 2, 'snd': 9, 'sentenc': 7, 'hy': 1, 'ongo': 30, 'nois': 4, 'dialys': 2, 'thigh': 10, 'ventolin': 2, 'perk': 2, 'guifenasin': 1, 'beforehand': 1, 'spread': 12, 'chemotherapi': 10, 'sponten': 1, 'newli': 32, 'nodul': 22, 'metastasi': 4, 'pet': 6, 'metastas': 10, 'supress': 2, 'tsicu': 3, 'tot': 1, 'sit': 29, \"'finish\": 1, 'rebreath': 14, 'cistern': 8, 'oncolog': 15, 'taper': 19, 'nil': 1, 'fidgiti': 1, 'tighten': 7, 'rediscuss': 5, 'dnrdni': 1, 'breat': 2, 'sato': 2, 'rather': 26, '^bp': 2, 'deveolp': 1, 'sulphat': 1, 'bronchospasm': 6, 'quick': 4, 'mind': 7, 'icecream': 2, 'dest': 1, 'edt': 3, 'rythm': 5, 'spoken': 10, 'enhanc': 16, 'basilar': 33, 'sulci': 16, 'brain': 27, 'ectop': 6, 'nrm': 1, 'clr': 10, 'tacypn': 4, 'jaw': 5, 'monday': 21, 'yr': 34, 'carotid': 17, 'exact': 5, 'bx': 10, 'adm': 23, 'diures': 39, 'os': 7, 'squamou': 7, 'unexplain': 4, 'nonoper': 1, 'unstabl': 30, 'medicin': 12, 'prelim': 13, 'gc': 3, 'suppress': 6, 'faint': 8, 'demand': 21, 'squamo': 1, 'coagul': 5, 'meant': 1, 'diaphoret': 28, 'solumedrol': 19, 'onset': 14, 'nippv': 12, 'rpt': 6, '^rr': 4, 'expector': 17, '^hr': 2, 'errat': 5, 'labia': 2, 'indigest': 1, 'yea': 1, 'diagnos': 15, 'ew': 16, 'rash': 42, 'therefor': 36, 'bronchospast': 3, 'raf': 4, 'nad': 21, 'niv': 12, 'burst': 16, 'irrit': 9, 'sudden': 11, 'hunger': 8, 'commenc': 6, 'diltiazem': 16, 'preliminari': 16, 'carcinoma': 18, 'mlph': 1, 'hypothroid': 1, 'ceftaz': 8, 'conntact': 1, 'third': 17, 'trachea': 20, 'constip': 21, 'fhp': 12, 'levaquin': 20, 'stiffneck': 1, 'dementia': 23, 'rale': 33, 'breah': 1, 'additin': 1, 'gram': 43, 'adren': 41, 'vanoc': 1, 'musculoskelet': 26, 'sinimet': 1, 'tegretol': 1, 'bph': 5, 'fluoroscopi': 8, 'frontal': 40, 'uti': 33, 'mb': 10, 'pneumnia': 1, 'mgso': 3, 'djd': 1, 'pericholecyst': 11, 'brather': 1, 'devedlop': 1, 'cortisol': 10, 'dopamin': 15, 'intermittenli': 2, 'groin': 24, 'extrahepat': 2, 'precipit': 6, 'parkinson': 8, 'dept': 3, 'hemidiaphragm': 19, 'pancrea': 37, 'decres': 4, 'gnr': 17, 'hung': 10, 'incontincn': 1, 'cycl': 14, 'anaerob': 11, 'chapl': 1, 'signif': 2, 'pmhx': 9, 'insuff': 2, 'cholecyst': 22, 'synthroid': 6, 'ocd': 1, 'curtail': 1, 'rcd': 1, 'psoriasi': 1, 'flex': 8, 'unusu': 12, 'supplement': 33, 'neurolept': 1, 'succinylcholin': 1, 'regim': 14, 'reinsert': 6, 'parenchym': 62, 'advis': 13, 'cpk': 9, 'fact': 12, 'incomprehens': 7, 'insuffici': 19, 'mul': 2, 'polici': 6, 'crystal': 2, 'ductal': 6, 'deaf': 2, 'rbc': 12, 'etomid': 4, 'vit': 14, 'prematur': 30, 'estim': 32, 'pack': 10, 'trivial': 18, 'acceler': 4, 'physiolog': 38, 'pressort': 1, 'kayexly': 1, 'abp': 34, 'root': 20, 'deviat': 23, 'unavail': 2, 'four': 16, 'caviti': 51, 'fraction': 9, 'crea': 2, 'lcl': 1, 'eventu': 23, 'epix': 1, 'bin': 1, 'situt': 1, 'qr': 27, 'akinesi': 2, 'rerrl': 1, 'la': 28, 'axi': 37, 'chorda': 11, 'hyperkalemia': 11, 'tricuspid': 38, 'bbb': 3, 'stenosi': 42, 'biacarb': 1, 'eject': 8, 'fascicular': 12, 'jaundic': 19, 'rais': 40, 'blister': 16, 'potassium': 53, 'anfio': 1, 'thereaft': 6, 'cordi': 4, 'ointment': 13, 'pcn': 9, 'impend': 7, 'resusit': 4, 'locul': 22, 'atn': 23, 'unfortun': 7, 'qtt': 6, 'accurr': 1, 'discov': 3, 'brachycephal': 1, 'wrap': 6, 'laryng': 5, 'hypoperfus': 7, 'multilobar': 7, 'blind': 3, 'silverdin': 1, 'film': 48, 'froom': 1, 'hyperkalcemia': 1, 'pnding': 8, 'intit': 2, 'nondistend': 15, 'intiat': 7, 'fhpa': 2, 'sb': 22, 'deceas': 3, 'angio': 7, 'cantones': 6, 'tacycard': 3, 'moan': 21, 'palli': 34, 'hygien': 8, 'bloat': 2, 'trough': 24, 'mlq': 1, 'mist': 12, 'spontani': 1, 'signfic': 4, 'nutriton': 1, 'heartrat': 1, 'desicion': 1, 'anbx': 5, 'progr': 1, 'respect': 20, 'scopolamin': 7, 'formal': 9, 'mutipl': 4, 'knopff': 1, 'physcian': 2, 'dad': 3, 'lip': 33, 'unreact': 2, 'daddi': 1, 'extremti': 1, 'signic': 2, 'progonisi': 1, 'fentnyl': 1, 'fentanul': 1, 'extrim': 4, 'plam': 1, 'mimini': 1, 'educ': 5, 'agig': 1, 'incid': 26, 'psychosoci': 9, 'goodresult': 1, 'ua': 33, 'hub': 1, 'fliud': 5, 'supp': 11, 'gs': 8, 'dehydr': 7, 'repeaet': 1, 'lacer': 4, 'ccb': 1, 'restin': 1, 'mat': 1, 'aflutt': 10, 'contol': 1, 'extermit': 2, 'faamili': 1, 'pat': 3, 'tracheobronch': 2, 'tegram': 1, 'strip': 4, 'puulent': 1, 'steri': 2, 'compon': 47, 'serosang': 13, 'conver': 1, 'guag': 2, 'respelor': 1, 'exipr': 1, 'eccymot': 7, 'quantifi': 4, 'extrasystol': 1, 'extubatin': 1, 'variabl': 17, 'nebul': 9, 'symptom': 31, 'ozz': 3, 'apc': 4, 'suspect': 38, 'downt': 2, 'artifici': 5, 'plea': 2, 'phase': 13, 'echocardiograph': 16, 'stain': 31, 'frustrat': 6, 'calf': 11, 'flap': 2, 'eitolog': 1, 'tegaderm': 3, 'exist': 38, 'ota': 3, 'rtc': 4, '^wob': 2, 'overlay': 3, 'neglig': 2, 'achiv': 1, 'diastol': 37, 'acc': 3, 'tachypniec': 2, 'srr': 7, 'mag': 13, 'zinc': 1, 'extremeti': 19, 'dysfnc': 1, 'instruct': 10, 'kneecap': 1, 'tamponad': 12, 'readdress': 21, 'ascend': 28, 'unreliev': 2, 'exud': 6, 'tachcard': 1, 'tachypneac': 2, 'supraventricular': 11, 'eipsod': 1, 'gone': 14, 'presenc': 27, 'sangaiou': 1, 'ot': 8, 'prefer': 9, 'exxtrmiti': 1, 'pff': 1, 'kling': 1, 'nonadh': 1, 'sorder': 1, 'durng': 1, 'extrmiti': 1, 'stabliz': 3, 'pci': 2, 'cefempin': 1, 'nail': 8, 'variou': 8, 'gurgl': 7, 'pharynx': 6, 'ultrac': 3, 'transpar': 6, 'circul': 8, 'stent': 24, 'indwel': 23, 'bt': 5, 'recalibr': 3, 'staph': 9, 'regimen': 55, 'curv': 23, 'cut': 14, 'nephew': 10, 'lcyu': 1, 'bigemeni': 1, 'intregr': 1, 'garbl': 7, 'pedi': 11, 'unlabor': 12, 'benzo': 6, 'particularli': 25, 'appil': 1, 'metoprolol': 28, 'rhonci': 8, 'rod': 14, \"am'\": 1, 'psych': 7, 'resecur': 1, 'whisper': 1, 'morpholog': 12, 'cocci': 10, 'purlpl': 1, 'ecchymosi': 9, 'reciv': 4, 'enzm': 1, 'sensit': 26, 'captopril': 3, 'trigemini': 1, 'throughtout': 1, 'dev': 2, 'cardiogen': 19, 'pgi': 3, 'defect': 29, 'recogn': 9, 'serax': 1, 'sitter': 4, 'bigem': 1, 'cefepin': 2, 'dobut': 2, 'defin': 15, 'tha': 3, 'oropharynx': 10, 'sulfat': 33, 'expel': 2, 'prog': 2, 'proph': 4, 'nph': 9, 'rca': 4, 'venodyn': 7, 'junki': 6, 'niddm': 1, 'cortu': 1, 'trigem': 1, 'intraventricular': 13, 'ck': 51, 'uncontrol': 4, 'egt': 1, 'lss': 1, 'occas': 9, 'rule': 40, \"o'\": 1, 'speech': 31, 'nare': 14, 'waffl': 7, 'nonverb': 7, 'alon': 14, 'thruought': 1, 'anytmim': 1, 'captorpil': 1, 'retain': 11, 'perivascular': 1, 'mi': 24, 'pleuroparenchym': 1, 'avbl': 1, 'aurea': 1, 'nsvt': 4, 'ft': 8, 'troponin': 55, 'senior': 4, 'introduc': 7, 'palab': 1, 'lobar': 12, 'diruesi': 2, 'contamint': 1, 'recevi': 1, 'posteriorli': 11, 'smear': 18, 'discontinu': 34, 'reappil': 1, 'verifi': 16, 'mordem': 1, 'mumbl': 8, 'addtion': 2, 'regularli': 7, 'bandag': 4, 'xr': 1, 'accu': 1, 'border': 12, 'imv': 5, 'addedum': 1, 'inotropi': 1, 'clog': 4, 'diuresis': 2, 'bliater': 1, 'odor': 4, 'crisi': 3, 'ltyellow': 1, 'coras': 2, 'comb': 5, 'sustain': 16, 'lrg': 5, 'higest': 1, 'podi': 2, 'yankeur': 4, 'tegraderm': 1, 'real': 7, 'indistinct': 8, 'pump': 7, 'complain': 10, 'worseni': 1, 'bronchial': 39, 'avhb': 1, 'judgement': 3, 'inclus': 3, 'triplet': 2, 'cordu': 1, 'hypozia': 1, 'broader': 3, 'transpat': 1, 'thruout': 3, 'swallow': 39, 'pcxr': 4, 'somewat': 1, 'dopper': 1, 'nstemi': 11, 'bss': 1, 'inconsistenli': 1, 'airmatress': 1, 'underneath': 6, 'avb': 3, 'contamin': 9, 'frothi': 8, 'anuria': 7, 'scd': 5, 'splint': 1, 'hh': 2, 'collector': 1, 'bl': 13, 'lodg': 1, 'intermittantli': 2, 'rh': 3, 'comcomit': 1, 'undigest': 2, 'incontinec': 1, 'wihtout': 1, 'inferiorli': 9, 'dss': 1, 'parenchyma': 23, 'teeth': 38, 'slur': 2, 'midnight': 32, 'toss': 1, 'rxn': 6, 'haze': 3, 'combin': 34, 'inquier': 1, 'zaroxolyn': 1, 'dobutamin': 12, 'rhonchoru': 7, 'norm': 2, 'trip': 4, 'unprod': 1, 'fr': 13, 'hrt': 4, 'ivab': 6, 'bronchou': 1, 'axox': 1, 'platelet': 20, 'platlet': 6, 'immobil': 2, 'tenou': 2, 'hyrocortison': 1, 'stabilz': 2, 'capac': 9, 'lul': 43, 'tfb': 4, 'pulsu': 1, 'reiter': 3, 'strenght': 1, 'teari': 2, 'oncologist': 12, 'mainten': 8, 'hospic': 24, 'ud': 1, 'successful': 2, 'serosanq': 1, 'count': 36, 'pericadi': 1, 'freind': 1, 'pe': 48, 'dysneic': 1, 'ep': 7, 'vaxcel': 1, 'incident': 10, 'dcd': 6, 'unsur': 6, 'travel': 8, 'shth': 1, 'instil': 7, 'penumopericardium': 1, 'wet': 62, 'spirit': 1, 'sensori': 3, 'cent': 3, 'cari': 1, 'til': 4, 'int': 3, 'trun': 1, 'cavo': 2, 'solut': 1, 'resposit': 3, 'prophylact': 3, 'init': 8, 'enviro': 1, 'evolv': 18, \"dc'ed\": 2, 'document': 33, 'mx': 1, 'partner': 5, 'trim': 2, 'cot': 2, 'multilumen': 3, 'placment': 9, 'cardiologist': 4, 'oxycodon': 9, 'tumor': 18, 'okay': 12, 'adenosin': 4, 'workload': 1, 'amiodoron': 4, 'increasingli': 35, 'nonlas': 1, 'ds': 6, 'bronchu': 15, 'doctor': 12, 'adquat': 2, 'decomp': 1, 'condom': 2, 'granddaught': 6, 'doboff': 5, 'undergo': 19, 'medial': 13, 'russian': 7, 'telephon': 24, 'skinfold': 1, 'abort': 4, 'wax': 6, \"^'ing\": 1, 'pateint': 2, 'engorg': 21, 'inncont': 1, 'cbi': 4, 'ex': 8, 'faster': 13, 'pud': 6, 'amplitud': 3, 'decompenst': 1, 'teaspoon': 1, 'cardiovascular': 57, 'pure': 10, 'trauma': 10, 'anticoagul': 28, 'quadrent': 6, 'dictat': 18, 'conjunct': 11, 'honey': 2, 'oropharyng': 16, 'dobhoff': 6, 'video': 8, 'dopoff': 1, 'beta': 23, 'urethra': 2, 'frank': 11, 'discusst': 1, 'produc': 20, \"^'ingli\": 1, 'aerosol': 20, 'retract': 11, 'aspect': 21, 'rrespons': 1, 'decompens': 27, 'nectar': 6, 'prompt': 4, 'discus': 1, 'asa': 32, 'mistaken': 1, 'dislodg': 6, 'slower': 14, 'cavh': 1, 'nephrolog': 4, 'npp': 1, 'phersi': 1, 'tini': 10, 'rvr': 20, 'weeep': 1, 'upward': 11, 'ppp': 9, 'periport': 1, 'pneumocac': 1, 'ptcont': 1, 'kerlix': 5, 'vesicl': 3, 'analyz': 7, 'element': 14, 'acidosid': 1, 'pole': 9, 'ivaband': 1, 'presser': 2, 'dop': 6, 'distinct': 15, 'ursodiol': 1, 'obstacl': 1, 'weap': 4, 'uremia': 4, 'oligur': 14, 'mvp': 17, 'flumazenil': 2, 'gancylovir': 1, 'downward': 15, 'encephalopathi': 14, 'abras': 12, 'urisodil': 1, 'semin': 3, 'bsk': 2, 'pharesi': 1, 'neutropen': 4, 'alway': 9, 'rtrad': 2, 'unrsp': 2, 'speciat': 9, 'retroperiton': 14, 'bmt': 3, 'cholestasi': 2, 'sorb': 4, 'folow': 3, 'fusarium': 1, 'inflamm': 10, 'equival': 4, 'marrow': 4, 'lactolos': 1, 'punctat': 2, 'cardiovert': 8, 'similar': 58, 'humalog': 11, 'nst': 2, 'hepatoren': 3, 'acquir': 37, 'intrahepat': 4, 'hyper': 3, 'noth': 18, 'bilirubin': 20, 'transjugular': 2, 'core': 7, 'mult': 17, 'paus': 5, 'store': 2, 'amplatz': 2, 'ground': 32, 'hypoecho': 2, 'rrad': 1, 'viremia': 2, 'cellular': 4, 'sup': 2, 'sxt': 2, 'symphysi': 10, 'fam': 7, 'achiev': 19, 'typhliti': 1, 'refe': 3, 'recoveri': 21, 'tr': 32, 'pelvi': 42, 'ursdiol': 1, 'lvot': 23, 'ident': 3, 'guidenc': 1, 'soak': 5, 'actual': 13, 'ruq': 12, 'basic': 7, 'influenc': 4, 'constant': 11, 'hepatopet': 8, 'coud': 1, 'hemostasi': 4, 'acyclovir': 5, 'correspond': 9, 'agent': 14, 'sequela': 4, 'broken': 11, 'ni': 1, 'glidewir': 5, 'adjac': 31, 'spleen': 32, 'cateth': 1, 'psup': 3, 'prostat': 15, 'isolat': 1, 'pheresi': 3, 'midnoc': 8, 'flumazin': 1, 'stride': 1, 'careweb': 2, 'aml': 2, 'palpalbl': 1, 'timeout': 10, 'natur': 17, 'cook': 2, 'cue': 8, 'silk': 6, 'pubic': 8, 'baracat': 2, 'peditub': 1, 'ess': 4, 'preprocedur': 8, 'blunt': 17, 'easier': 4, 'remark': 8, 'plasmaphoresi': 1, 'rsp': 3, 'grasp': 2, 'preced': 11, 'meropenum': 9, 'proper': 11, 'meropenem': 25, 'transjug': 1, 'anyway': 4, 'cobra': 2, 'flicker': 1, 'mold': 1, 'maneuv': 12, 'gut': 7, 'urisodiol': 1, 'reformat': 19, 'gradient': 29, 'byt': 2, 'dens': 31, 'subcentimet': 5, 'bear': 9, 'lanti': 1, 'participatori': 1, 'biggest': 1, 'stich': 1, 'nypernatremia': 1, 'nodal': 4, 'calib': 18, 'dfinit': 1, 'serviceclip': 2, 'formalin': 1, 'ivc': 11, 'bladder': 53, 'mainatain': 1, 'aass': 1, 'hyptens': 2, 'mdct': 26, 'elong': 7, 'scv': 2, 'humulog': 1, 'fsbg': 9, 'intraven': 38, '^lft': 1, 'ganciclovir': 1, 'everyday': 3, 'evidenc': 6, 'pel': 7, 'transplant': 10, 'cecum': 4, 'multiplanar': 17, 'rescu': 2, 'explan': 13, 'presept': 2, 'cyst': 26, 'info': 17, 'calicif': 1, 'caudat': 2, 'edamat': 3, 'behind': 4, 'nailb': 8, 'minmal': 2, 'unknown': 44, 'porta': 4, 'host': 2, 'shedul': 1, 'lytic': 19, 'sclerot': 14, 'retroperitoneum': 1, 'abut': 6, 'retap': 14, 'prolaps': 24, 'stronger': 6, 'sxned': 8, 'lij': 12, 'amio': 13, 'tne': 1, 'approach': 24, 'overnt': 1, 'pursestr': 1, 'surgifoam': 2, 'granulomat': 4, 'lactulos': 21, 'psc': 2, 'ucler': 2, 'peripancreat': 2, 'cellcept': 3, 'rifaximin': 3, 'constrict': 1, 'bloodting': 3, 'percocet': 8, 'pneumococc': 1, 'toxin': 8, 'transcathet': 1, 'syndrom': 19, 'gland': 26, 'whinc': 1, 'grow': 16, 'ltf': 1, 'hepati': 3, 'intraservic': 3, 'speaker': 4, 'pej': 2, 'sxted': 1, 'wake': 41, 'nl': 22, 'kayexal': 5, 'inlet': 22, 'deoderm': 1, 'regul': 6, 'fucntion': 1, 'nard': 4, 'griev': 9, 'transaminas': 4, 'gvhd': 3, 'surgicel': 4, 'shunt': 13, 'toller': 3, 'mediastinum': 42, 'aler': 1, 'extremitiy': 3, 'isuprel': 1, 'stone': 21, 'distent': 28, 'candidemia': 2, 'latter': 7, 'rave': 1, 'alkalosi': 20, 'neruo': 4, 'softer': 2, 'esent': 1, 'novasourc': 7, 'snt': 4, 'pulmasourc': 2, 'neutral': 1, 'meripenum': 1, 'wrong': 5, 'buttuck': 2, 'splenic': 6, 'cirrohosi': 1, 'thrombu': 20, 'tracheobronchi': 3, 'nova': 1, 'ween': 2, 'motrin': 3, 'top': 33, 'fdg': 10, 'wedg': 9, 'temporari': 7, 'veget': 8, 'augment': 16, 'powder': 8, 'hydralazin': 13, 'teniou': 2, 'pneumomediastenum': 1, 'fungu': 4, 'pseudomhypha': 1, 'basi': 9, 'wit': 13, 'satisfactorili': 4, 'hyporthermia': 1, 'pancreat': 11, 'lge': 4, 'safe': 16, 'bronchspast': 1, 'shaggi': 1, 'pose': 3, 'addendium': 2, 'hypernatrem': 3, 'washin': 1, 'pulmasours': 1, 'mucos': 10, 'seri': 12, 'intrapelv': 1, 'tyelnol': 2, 'subcapsular': 1, 'confluenc': 4, 'sxd': 5, 'conintu': 2, 'muster': 1, 'cholelithiasi': 14, 'unintellig': 2, 'chemic': 5, 'bronish': 1, 'effert': 2, 'retreiv': 1, 'metastat': 26, 'adn': 6, 'cistatricurium': 1, 'spnt': 1, 'oval': 6, 'fentenyl': 3, 'paral': 2, 'dist': 8, 'lid': 3, 'clump': 1, 'sigmoid': 17, 'worrisom': 5, 'ldh': 43, 'infuss': 1, 'oximetri': 3, 'cisatracurium': 6, 'caspofungin': 4, 'meripenem': 1, 'addend': 1, 'heterogen': 20, 'erect': 10, 'secriton': 1, 'paralysi': 6, 'nabicarb': 1, 'schdule': 1, 'seven': 7, 'strongli': 9, 'receivng': 2, 'obt': 1, 'paramedian': 3, 'hiccup': 3, 'meripenim': 1, 'diregard': 1, 'twitch': 9, 'fc': 5, 'erron': 1, 'case': 28, 'paracentisi': 1, 'wether': 4, 'instead': 9, 'spot': 10, 'clavicl': 11, 'cop': 6, 'prder': 1, 'artifact': 37, 'muach': 1, 'bal': 18, 'friday': 15, 'hypernatremia': 11, 'solid': 17, 'valsalva': 2, 'foramen': 6, 'origin': 31, 'thrombosi': 10, 'manipul': 11, 'halidol': 1, 'manuev': 2, 'pc': 12, 'ard': 58, 'medium': 8, 'supprot': 1, 'propranalol': 1, 'psupp': 1, 'echocardigram': 1, 'copiu': 4, 'inder': 1, 'contiu': 3, 'consistantli': 6, 'intervet': 1, 'inpiratori': 1, 'premed': 5, 'rust': 3, 'glass': 23, 'stretch': 5, 'cchr': 2, 'merepenim': 1, 'vitot': 1, 'recur': 5, 'flexur': 5, 'suddenli': 6, 'territori': 13, 'tenaci': 12, 'bump': 14, 'compat': 22, 'poplit': 14, 'droop': 2, 'mic': 17, 'soooo': 1, 'catheth': 2, 'thich': 3, 'yeast': 20, 'palc': 2, 'grimmac': 4, 'merepeum': 1, 'miq': 1, 'spc': 1, 'optim': 39, 'abscess': 21, 'widespread': 26, 'train': 6, 'atb': 4, 'stv': 2, 'bolt': 3, 'excurs': 8, 'wer': 1, 'ettub': 3, 'descend': 16, 'endocard': 15, 'hydralasin': 1, 'posterolater': 2, 'firmli': 2, 'lunf': 1, 'pulmonolog': 2, 'narrativen': 1, 'fentyn': 2, 'seedi': 1, 'subdiaphragmat': 10, 'repsons': 3, 'fluse': 2, 'east': 5, 'replenish': 3, 'bronchogram': 11, 'nystatin': 9, 'vigiou': 1, 'intracardiac': 4, 'merepenum': 2, 'malacia': 2, 'beneath': 8, 'pipo': 1, 'echogen': 7, 'sphenoid': 6, 'wane': 3, 'midazolam': 39, 'grayscal': 10, 'qualit': 1, 'conitnu': 4, 'gastroesophag': 16, 'pneumomediastinum': 7, 'fungemia': 5, 'barotrauma': 3, 'meropenim': 1, 'gold': 2, 'remaind': 29, 'pillow': 10, 'ibuprofen': 3, 'mvmt': 4, 'distribut': 24, 'orali': 1, 'televis': 1, 'spurt': 1, 'hydrocephalu': 9, 'bud': 6, 'bradycardia': 24, 'vebal': 1, 'pneumoperitoneum': 4, 'severli': 2, 'skinn': 1, 'bu': 5, 'yeild': 1, 'seee': 1, 'asid': 5, 'chin': 7, 'paralyz': 36, 'polyp': 4, 'jejun': 2, 'attribut': 18, 'fluconozol': 1, 'adenopathi': 17, 'cholecystectomi': 3, 'balm': 1, 'aha': 8, 'akwa': 1, 'foey': 1, 'neutopenia': 1, 'amriodon': 1, 'intial': 8, 'plat': 12, 'pyloru': 5, 'lingula': 7, 'whitish': 5, 'mycostatin': 4, 'attemp': 3, 'postpylor': 4, 'rythmm': 2, 'alertarous': 1, 'nutropenia': 1, 'atroph': 7, 'read': 87, 'hydrea': 1, 'mucosa': 5, 'maintentnc': 1, 'strand': 9, 'nativ': 4, 'prosthesi': 5, 'urien': 1, 'diltazem': 2, 'ebv': 2, 'liw': 6, 'apeci': 1, 'weakli': 8, 'prodcedur': 1, 'hydrocort': 5, 'remiain': 1, 'lymphoma': 7, 'absenc': 17, 'degen': 23, 'normotens': 12, 'megacolon': 6, 'pylori': 2, 'nadir': 1, 'ccx': 2, 'scleral': 7, 'bolusof': 1, 'eccyomot': 1, 'intraabdomin': 4, 'mgq': 1, 'vicin': 2, 'ave': 1, 'sytol': 1, 'winc': 3, 'onto': 6, 'neurtopen': 1, 'separt': 1, 'endolumin': 1, 'alet': 1, 'insul': 1, 'fluconzol': 1, 'pancutur': 1, 'uncertain': 14, 'houseoffic': 6, 'crt': 6, 'outflow': 5, 'fagyl': 1, 'wth': 2, 'dimens': 5, 'cardiovers': 3, 'character': 17, 'interupt': 2, 'metroprolol': 1, 'injuri': 19, 'adher': 2, 'alkalot': 5, 'claoric': 1, 'virgou': 1, 'pylor': 9, 'materi': 21, 'appropi': 5, 'smicu': 2, 'xpeep': 1, 'steristrip': 1, 'ilatori': 1, 'cerebro': 1, 'petichia': 2, 'ceptim': 1, 'attach': 7, 'tactil': 20, 'signal': 5, 'diverticulum': 1, 'tirtrat': 1, 'uac': 1, 'ceil': 1, 'hyperdynam': 22, 'recultur': 9, 'impact': 10, 'nephrogram': 3, 'difficil': 12, 'periton': 5, 'flouro': 2, 'neutropenia': 1, 'sacrament': 10, 'overwir': 1, 'ouput': 2, 'cefipim': 15, 'invol': 1, 'consecut': 3, 'apheres': 1, 'notabel': 1, 'cefepinm': 1, 'vagina': 1, 'lorazapam': 1, 'sub': 11, 'mesenteri': 2, 'annular': 18, 'axilla': 11, 'telemeti': 1, 'degree': 1, 'j': 10, 'requestiong': 1, 'reden': 2, 'ilw': 1, 'panel': 15, 'vagin': 2, 'electr': 5, 'chemo': 10, 'chap': 1, 'withheld': 2, 'uromet': 1, 'fallen': 1, 'cardaic': 2, 'neuropenia': 1, 'fentani': 3, 'reliabl': 4, 'telemetri': 17, 'mc': 4, 'individu': 3, 'cardiomyopathi': 9, 'ambisom': 2, 'jejunum': 2, 'conc': 4, 'uup': 1, 'serosanguin': 8, 'rescan': 3, 'ored': 1, 'anc': 2, 'ilier': 1, 'azt': 1, 'cystic': 8, 'yield': 6, 'flagal': 1, 'flaygl': 2, 'lcw': 3, 'mp': 4, 'reoccur': 3, 'yell': 8, 'arrhythmia': 13, 'hypodens': 21, 'intralumin': 9, 'fat': 13, 'confer': 7, 'fluro': 2, 'symmetr': 59, 'hypertrophi': 32, 'micor': 1, 'amiriodin': 1, 'celiac': 6, 'stalk': 1, 'edmat': 1, 'cold': 11, 'peticha': 2, 'exampl': 6, 'averag': 10, 'ddimer': 1, 'sunction': 1, 'sphincter': 3, 'dif': 3, 'nonion': 7, 'irreg': 7, 'clavicular': 7, 'dynam': 4, 'sight': 1, 'neutrapen': 2, 'apap': 1, 'idioventricular': 1, 'withdrawl': 10, 'inferolater': 11, 'msof': 2, 'disord': 20, 'decort': 4, 'bottl': 4, 'barocat': 2, 'oppos': 4, 'baricat': 2, 'amyloid': 1, 'constel': 1, 'ampi': 1, 'postur': 8, 'nonreact': 3, 'stenot': 1, 'rememb': 1, 'particular': 9, 'aneorb': 1, 'flaccid': 5, 'chain': 8, 'anasarka': 1, 'pair': 12, 'mail': 4, 'tme': 1, 'ampicillin': 6, 'ultim': 13, 'grave': 19, 'chb': 4, 'convinc': 2, 'nonr': 2, 'overid': 1, 'batteri': 1, 'atelectat': 9, 'ntg': 4, 'cardizem': 2, 'distess': 1, 'exhibit': 9, 'hear': 16, 'ontain': 1, 'equip': 3, 'fryabl': 1, 'heroic': 6, 'atov': 1, 'longstand': 4, 'percaut': 1, 'nsicu': 1, 'amoung': 1, 'viral': 17, 'bypap': 1, 'hypokalemia': 3, 'accordingli': 12, 'droplet': 10, 'tachycardiac': 3, 'flu': 13, 'nitro': 8, 'restoril': 1, 'linen': 4, 'breather': 2, 'interrupt': 2, 'goe': 7, 'linebut': 1, 'spirometri': 5, 'appl': 6, 'cross': 8, 'spillov': 3, 'pneumatosi': 6, 'sleepign': 1, 'fax': 1, 'pharyng': 6, 'requisit': 2, 'flownot': 4, 'aphas': 5, 'format': 8, 'slip': 4, 'apetit': 1, 'involut': 3, 'mri': 18, 'featur': 6, 'speciment': 1, 'sz': 5, 'necessit': 8, 'perfor': 12, 'accesss': 1, 'tp': 6, 'palat': 4, 'nauseu': 1, 'prod': 9, 'penetr': 6, 'perp': 1, 'flip': 2, 'cerebr': 10, 'collabor': 6, 'influenza': 18, 'variat': 5, 'revrs': 1, 'suspicion': 17, 'inv': 1, 'intailli': 1, 'spiromet': 3, 'cu': 2, 'applesaus': 1, 'supper': 1, 'undisturb': 4, 'cardiopulmonari': 10, 'barium': 6, 'misplac': 2, 'aphasia': 2, 'nonrebreath': 4, 'ate': 4, 'awhil': 3, 'revers': 24, 'phlebolith': 2, 'tuck': 3, 'nonobstruct': 5, 'applesauc': 6, 'intraperiton': 12, 'amd': 5, 'pseudoinfarct': 1, 'typic': 9, 'souc': 1, 'dysphagia': 9, 'lite': 1, 'gastrostomi': 6, 'bathroom': 3, 'pathologist': 1, 'incent': 4, 'crush': 13, 'pleurx': 1, 'hemithorax': 32, 'unproduct': 5, 'realiz': 3, 'occupi': 6, 'massiv': 18, 'pleuravac': 3, 'unsymptomat': 1, 'pleur': 2, 'sterilli': 1, 'incon': 2, 'inflow': 5, 'candid': 16, 'tachyarrythmia': 2, 'colorng': 1, 'kayexil': 1, 'aaat': 1, 'topar': 1, 'papillari': 8, 'param': 1, 'pllacement': 1, 'esidu': 1, 'chase': 1, 'enema': 9, 'bennzodiazpin': 1, 'tick': 1, 'oet': 1, 'desenex': 1, 'eventuallt': 1, 'somnol': 21, 'absolut': 1, 'flail': 3, 'struggl': 6, 'flall': 1, 'exyl': 1, 'fractio': 1, 'thursday': 9, 'fatigu': 20, 'promptli': 2, 'fss': 1, 'coaars': 1, 'ut': 1, 'agian': 2, 'venoboot': 1, 'familt': 4, 'agress': 12, 'choic': 6, 'weigh': 2, 'adament': 1, 'kayexel': 3, 'trumpet': 6, 'aslo': 2, 'stff': 1, 'upto': 3, 'ref': 1, 'adit': 1, 'asap': 3, 'wateri': 5, 'occass': 6, 'euvolem': 11, 'napho': 1, 'solidfi': 1, 'negtiv': 1, 'reeval': 4, 'ultra': 3, 'propos': 3, 'persistantli': 2, 'retal': 1, 'sedatiooon': 1, 'sooth': 1, 'misfir': 1, 'sescret': 1, 'car': 2, 'indfus': 1, 'myleodysplesia': 1, 'fill': 36, 'nonlabor': 1, 'desitin': 2, 'correspong': 1, 'month': 23, 'reappear': 3, 'noght': 1, 'mon': 34, 'bialter': 1, 'leakag': 7, 'toleav': 1, 'synchron': 31, 'anymor': 6, 'overbreathin': 1, 'shnge': 1, 'conjunctiva': 42, 'offic': 8, 'penicillin': 11, 'tacchycard': 1, 'sulfonamid': 2, 'pipe': 1, 'discrep': 1, 'sedentari': 2, 'legionella': 29, 'omr': 8, 'bacteria': 4, 'fludarabin': 2, 'comm': 9, 'benign': 18, 'creatinin': 51, 'deplet': 12, 'wast': 20, 'noninvas': 8, 'ppx': 27, 'iu': 40, 'palliat': 5, 'delir': 2, 'gerd': 15, 'asses': 2, 'outlin': 21, 'delerium': 2, 'nsclc': 4, 'asbesto': 5, 'vaccin': 7, 'housekeep': 1, 'hypercarbia': 14, 'sir': 9, 'narcan': 7, 'nitrit': 2, 'kansasii': 1, 'lad': 8, 'ia': 2, 'deleri': 2, 'underw': 12, 'percuss': 29, 'factor': 17, 'healthcar': 10, 'cognit': 6, 'atrophi': 11, 'thorazin': 1, 'choke': 6, 'ymf': 3, 'clinda': 5, 'cavern': 3, 'splenectomi': 3, 'dull': 22, 'sclerosi': 8, 'supraclavicular': 16, 'nonsepecif': 1, 'rescusit': 1, 'vertebr': 13, 'atherosclerot': 21, 'rituxan': 1, 'contribut': 29, 'osteopenia': 6, 'microbiolog': 35, 'opinion': 6, 'regardless': 1, 'cord': 4, 'smoker': 5, 'tacchycardia': 1, 'avid': 2, 'cervic': 25, 'spetic': 1, 'oxyfast': 1, 'hemolyt': 3, 'hsv': 2, '`': 3, 'retir': 8, 'penumonia': 1, 'vat': 4, 'lymphat': 22, 'nppv': 3, 'tacchypn': 1, 'pantoprazol': 27, 'clarifi': 19, 'ronchi': 12, 'sulfa': 4, 'charact': 2, 'rrr': 32, 'dfdkq': 2, 'resect': 9, 'plaqu': 7, 'normocephal': 46, 'rad': 18, 'thoroughout': 1, 'toradol': 1, 'sstem': 1, 'summari': 13, 'reveiw': 4, 'gent': 5, 'bridg': 10, 'ppor': 1, 'rl': 4, 'neic': 4, 'cousin': 5, 'fentanli': 2, 'icter': 6, 'altern': 25, 'criticar': 5, 'ileostomi': 3, 'andrl': 1, 'hosptial': 1, 'illeostomi': 1, 'occn': 3, 'addnedum': 1, 'antibot': 3, 'azithomycin': 1, 'nadolol': 2, 'sedimentari': 1, 'kr': 1, 'inrincreas': 1, 'clavian': 1, 'recomm': 1, 'gentamycin': 7, 'ethmoid': 4, 'dwi': 2, 'encephalomalacia': 1, 'leagal': 1, 'delta': 2, 'ganglia': 6, 'tem': 1, 'mca': 4, 'osh': 19, 'diltiasem': 1, 'jwk': 1, 'semioval': 2, 'unresponsinv': 1, 'slugglish': 2, 'pian': 1, 'vacuo': 1, 'centrum': 3, 'trancfer': 1, 'slugish': 2, 'etachi': 1, 'unbrocken': 1, 'respoms': 1, 'basal': 32, 'ci': 11, 'orbit': 6, 'rep': 3, 'dto': 1, 'imobil': 1, 'hot': 4, 'tech': 5, 'htc': 1, 'prounounc': 1, 'aggres': 2, 'aat': 1, 'aproppri': 1, 'oxigen': 1, 'stridor': 4, 'lap': 2, 'preiou': 1, 'ortho': 2, 'sang': 5, 'parcial': 1, 'diltizam': 1, 'drg': 5, 'ganz': 5, 'pcwp': 7, 'swan': 6, 'inmobil': 1, 'occlut': 1, 'collar': 6, 'applianc': 3, 'sugest': 2, 'bronchcoscopi': 1, 'platelett': 2, 'reccent': 1, 'loosen': 6, 'brace': 1, 'urgent': 7, 'lacrilub': 2, 'resucit': 3, 'colectomi': 2, 'paw': 2, 'creatanin': 1, 'approv': 9, 'amountsa': 1, 'acidemia': 5, 'mgmt': 8, 'worst': 4, 'lateer': 1, 'combo': 2, 'situ': 9, 'bsd': 2, 'flattu': 1, 'ordinari': 1, 'orthoped': 2, 'csm': 4, 'matress': 2, 'dimsh': 1, 'thoracotomi': 3, 'amongst': 5, 'chose': 1, 'sens': 9, 'wma': 4, 'dentit': 12, 'cll': 3, 'themselv': 8, 'fxn': 8, 'dep': 3, 'ardsnet': 10, 'subclav': 1, 'dchf': 3, 'transloc': 1, 'chlorhexidin': 6, 'overweight': 18, 'hematolog': 6, 'technician': 1, 'stock': 1, 'thrombocytopenia': 16, 'empyema': 5, 'immunocompromis': 8, 'blurri': 8, 'mof': 2, 'intravascular': 7, 'cvo': 3, 'hyperreson': 6, 'hydrostat': 2, 'tco': 45, 'input': 22, 'iss': 13, 'folat': 4, 'maxim': 16, 'midaz': 19, 'smudg': 1, 'lr': 11, 'gear': 3, 'presist': 2, 'flora': 11, 'manufactur': 22, 'apprear': 1, 'ent': 6, 'nourish': 24, 'adviso': 1, 'pmi': 16, 'leukem': 1, 'kayexl': 1, 'fammili': 1, 'anteriorli': 19, 'kayexyl': 1, 'club': 18, 'sqh': 7, 'ckmb': 42, 'rout': 34, 'avellyn': 1, 'cyanosi': 19, 'reson': 14, 'suicid': 8, 'gastrointestin': 17, 'hemodynma': 1, 'aranesp': 1, 'ronchor': 5, 'diuret': 6, 'ce': 15, 'destin': 28, 'intravascularli': 5, 'genitourinari': 14, 'tracheotomi': 5, 'framework': 1, 'atyp': 22, 'transform': 2, 'fibrinogen': 23, 'pseudomon': 5, 'fentand': 1, 'pneuomonia': 1, 'ckd': 6, 'must': 9, 'probal': 5, 'unrev': 5, 'daytim': 8, 'subject': 30, 'connector': 1, 'ag': 17, 'lvh': 14, 'thyroid': 16, 'flutter': 15, 'epistaxi': 8, 'cuf': 5, 'preoxygen': 3, 'headach': 13, 'sh': 48, 'reguard': 4, 'tubular': 9, 'kayelexal': 1, 'circumst': 5, 'random': 6, 'therapist': 10, 'reconsid': 3, 'action': 62, 'pfi': 37, 'lipitor': 8, 'hive': 2, 'disadvantag': 1, 'sooner': 5, 'immunolog': 7, 'ogtub': 3, 'loud': 17, 'across': 13, 'provision': 35, 'kcal': 21, 'demograph': 48, 'dysuria': 8, 'swivel': 1, 'spesi': 1, 'palpit': 7, 'abus': 14, 'proceed': 11, 'myalgia': 9, 'challeng': 14, 'multifactori': 18, 'tropt': 37, 'aeruginosa': 2, 'ure': 3, 'phosphoru': 28, 'iodin': 5, 'insult': 11, 'press': 34, 'meaning': 7, 'promotil': 1, 'split': 8, 'broad': 36, 'una': 2, 'jctn': 1, 'incomplet': 16, 'parenter': 8, 'hypotensiona': 1, 'numb': 7, \"ce'\": 1, 'respoiratori': 1, 'defici': 4, 'dimish': 6, 'stenotrophomona': 1, 'abruptli': 3, 'deliri': 11, 'willl': 2, 'afterload': 5, 'spectrum': 25, 'consider': 22, 'fh': 48, 'signfiic': 1, 'pmv': 23, 'inaccur': 3, 'role': 15, 'bayonet': 1, 'ibw': 3, 'percept': 1, 'chlorid': 42, 'deal': 7, 'joint': 19, 'gpc': 16, 'florid': 1, 'constitut': 23, 'lymphocytosi': 1, 'pah': 1, 'hypoxem': 26, 'hydorcortison': 1, 'acd': 3, 'suppor': 1, 'search': 2, 'biatrial': 2, 'conjunctiv': 10, 'ventricuar': 1, 'tingl': 7, 'hyperglycemia': 17, 'traumat': 6, 'gg': 2, 'bad': 6, 'brush': 1, 'hydocorison': 1, 'pplat': 9, 'symptiom': 1, 'feasibl': 7, 'pertin': 41, 'dlnc': 1, 'retrach': 1, 'transfomr': 1, 'fena': 10, 'magnesium': 29, 'shiley': 2, 'guaiac': 10, 'fistula': 11, 'fuse': 2, 'orthopnea': 9, 'dimer': 5, 'coomb': 2, 'contributor': 3, 'kit': 4, 'ori': 2, 'cov': 6, 'captur': 7, 'serosanquen': 1, 'bolusx': 1, 'temporarili': 4, 'ostomi': 6, 'hemodyna': 1, 'drpped': 1, 'occlud': 6, 'pneumonectomi': 4, 'destur': 1, 'resembl': 1, 'dificult': 1, 'undetermin': 12, 'scortal': 1, 'saliva': 1, 'creatin': 3, 'inbetween': 2, 'hypercarb': 19, 'reposist': 1, 'plain': 3, 'postiv': 3, 'anxou': 1, 'reasur': 1, 'craem': 1, 'fixat': 2, 'whenev': 2, 'sig': 15, 'functio': 1, 'commqand': 1, 'rbsi': 1, 'dyski': 1, 'pool': 7, 'wheezey': 2, 'bolou': 1, 'pouch': 2, 'redd': 1, 'carview': 1, 'scoliosi': 4, 'tenti': 1, 'rhip': 1, 'kyphoscoliosi': 3, 'secr': 2, 'stimmuli': 1, 'spine': 29, 'multidiciplanari': 1, 'ment': 1, 'respirat': 1, 'dampenend': 1, 'caregriv': 1, 'cdi': 4, 'percent': 3, 'occlus': 11, 'wednesday': 9, 'dye': 4, 'mainstem': 5, 'scoliot': 1, 'development': 2, 'retard': 3, 'oze': 1, 'skelet': 3, 'dimminish': 2, 'increa': 4, 'blankli': 1, 'spinal': 10, 'mitochondri': 1, 'agiti': 1, 'wiht': 3, 'taker': 2, 'picclin': 2, 'intuabt': 2, 'monit': 2, 'intermittingli': 1, 'crisp': 1, 'caretak': 4, 'afibril': 1, 'deform': 11, 'cancel': 9, 'elav': 1, 'repo': 3, 'pusl': 1, 'vasoconstrict': 6, 'sibl': 11, 'cear': 1, 'atelectesi': 1, 'breakdonw': 1, 'venco': 1, 'daqi': 1, 'gasp': 10, 'approc': 1, 'rocecet': 1, 'illeostmi': 1, 'rrl': 1, 'bedridden': 1, 'power': 3, 'reluct': 6, 'phcp': 1, 'attorney': 3, 'nh': 14, 'qs': 5, 'booth': 1, 'colostomi': 3, 'seek': 5, 'helath': 1, 'sectret': 2, 'bibasilair': 1, 'frighten': 1, 'sequenc': 6, 'swab': 16, 'transthorac': 10, 'aloc': 1, 'cytolog': 10, 'recev': 3, 'conspicu': 2, 'ambien': 2, 'beefi': 1, 'needi': 1, 'obtund': 6, 'carvu': 2, 'culmin': 1, 'onward': 1, 'outpur': 1, 'elect': 10, 'aox': 3, 'hook': 8, 'toiltet': 1, 'susequ': 1, 'rapidli': 16, 'uprb': 1, 'vf': 2, 'paperwork': 2, 'opt': 3, 'eu': 2, 'vasopessor': 1, 'nipv': 1, 'tox': 5, 'displac': 6, 'pyret': 1, 'pelvic': 17, 'osteophytosi': 1, 'hypoexemia': 1, 'cannt': 1, 'gall': 3, 'etonom': 1, 'sternotomi': 13, 'hight': 1, 'maximun': 2, 'hida': 4, 'median': 6, 'textur': 5, 'careveu': 1, 'harsh': 1, 'phenylepherin': 1, 'anaplast': 1, 'noncontrast': 9, 'tran': 11, 'scali': 1, 'mo': 4, 'subcarin': 10, 'succ': 4, 'vip': 2, 'noontim': 3, 'esophag': 25, 'reconstruct': 7, 'apt': 1, 'anatom': 7, 'forward': 15, 'smapl': 1, 'intrathorac': 9, 'peritrach': 1, 'hav': 1, 'cholang': 2, 'enthesopath': 1, 'hypobowel': 1, 'colour': 5, 'inguin': 9, 'actu': 1, 'svr': 4, 'revea': 1, 'realist': 6, 'fludrocort': 1, 'toelrat': 2, 'broaden': 13, 'dosag': 5, 'respi': 2, 'workier': 1, 'nrbmfor': 1, 'dat': 1, 'vestra': 1, 'retro': 1, 'coexist': 3, 'inutabt': 1, 'sagitt': 22, 'inotor': 1, 'largest': 7, 'dig': 6, 'outgrowth': 1, 'insur': 11, 'fluiid': 1, 'elicit': 4, 'coron': 23, 'prevascular': 8, 'hack': 1, 'sic': 1, 'consistanli': 1, 'barrium': 1, 'humeru': 3, 'nwb': 1, 'contra': 1, 'headneg': 1, 'signatur': 19, 'zyprexa': 4, 'tortuos': 2, 'hcap': 9, 'divis': 3, 'sate': 11, 'presenst': 1, 'cardiomedi': 1, 'llq': 4, 'resless': 1, 'asymptommat': 1, 'onlin': 1, 'discret': 6, 'flash': 11, 'acheiv': 2, 'wct': 1, 'jewelri': 18, 'citalopram': 4, 'diovan': 2, 'intermediu': 3, 'hematocrit': 36, 'asthma': 4, 'delirium': 16, 'singulair': 1, 'yom': 6, 'ramu': 2, 'paroxysm': 3, 'ppm': 6, 'analysi': 19, 'sling': 1, 'forgetful': 1, 'avf': 11, 'polycyst': 2, 'cigarett': 1, 'wallet': 17, 'granuloma': 4, 'creon': 1, 'cash': 18, 'spiriva': 2, 'jxrl': 2, 'innumer': 4, 'humer': 3, 'aortobiiliac': 1, 'paf': 3, 'money': 18, 'comaprison': 1, 'thallium': 1, 'moreov': 3, 'exacerb': 18, 'cloth': 19, 'contributori': 4, 'sevalam': 1, 'aricept': 6, 'lit': 6, 'credit': 19, 'jekh': 1, 'cct': 2, 'advair': 3, 'demostr': 1, 'nasopharynx': 2, 'lisinopril': 8, 'hypoxemia': 38, 'echymot': 2, 'durat': 17, 'pharmacolog': 5, 'aliv': 5, 'corti': 2, 'earlob': 2, 'floa': 1, 'raw': 3, 'nobodi': 1, 'acetaminophen': 12, 'adeq': 10, 'floflan': 1, 'nanogram': 1, 'slh': 1, 'hemostat': 3, 'lowest': 5, 'cisatracuriun': 1, 'affix': 1, 'mobilizi': 1, 'grappel': 1, 'hemmorrag': 1, 'variant': 8, 'mgiv': 2, 'pvr': 4, 'crackel': 1, 'anxious': 1, 'assid': 1, 'flolan': 2, 'itch': 4, 'straighten': 2, 'ceftazdim': 1, 'adv': 4, 'erythemat': 5, 'guaic': 7, 'hemoptysi': 10, 'exactli': 1, 'onvernight': 1, 'de': 8, 'milliamp': 1, 'paramont': 1, 'irrevers': 4, 'univ': 3, 'certainli': 19, 'expecter': 1, 'millivolt': 1, 'play': 5, 'creep': 4, 'nausa': 1, 'cco': 2, 'distennd': 1, 'brachial': 20, 'swann': 1, 'slate': 1, 'rsr': 5, 'taler': 1, 'calcul': 5, 'ramp': 2, 'asssist': 2, 'fick': 3, 'imposs': 4, 'loperamid': 1, 'wbcc': 2, 'prec': 1, 'remedi': 1, 'cost': 2, 'ulnar': 2, 'argatroban': 3, 'optimum': 1, 'lunchtim': 1, 'hickman': 2, 'vigil': 4, 'excret': 5, 'gingeral': 1, 'tvol': 1, 'quantiti': 3, 'tof': 3, 'truli': 3, 'alvealor': 1, 'buck': 4, 'unreli': 4, 'eet': 1, 'viagra': 1, 'swanganz': 2, 'svo': 8, 'sclerodactyl': 1, 'sucess': 2, 'con': 8, 'transduc': 4, 'overngiht': 1, 'dlpic': 1, 'gastrocult': 1, 'diladid': 1, 'accumul': 6, 'pancultur': 7, 'leftward': 9, 'evacu': 3, 'firn': 1, 'expand': 13, 'yello': 1, 'settong': 1, 'peribronchi': 3, 'phosphat': 21, 'comprehens': 3, 'aztronem': 1, 'nuse': 1, 'dissemin': 3, 'straw': 9, 'loger': 1, 'pogt': 1, 'antecubit': 3, 'wil': 4, 'inforc': 2, 'aztreonem': 1, 'trunk': 4, 'ovisit': 1, 'reaccumul': 8, 'sunday': 5, 'becasu': 1, 'ressusit': 1, 'capillari': 4, 'drainig': 2, 'aprrox': 1, 'cutur': 1, 'neutra': 5, 'disconect': 1, 'wnr': 2, 'lun': 1, 'nonpapular': 1, 'travers': 6, 'ccc': 6, 'paratrach': 8, 'aztreonam': 5, 'pharmaci': 11, 'stripe': 1, 'parallel': 2, 'packet': 3, 'gyy': 1, 'lucon': 1, 'chill': 7, 'crepitu': 7, 'plaec': 1, 'regiment': 3, 'aortopulmon': 1, 'hte': 1, 'sctl': 1, 'antrum': 7, 'derecruit': 5, 'anyon': 2, \"huo'\": 1, 'huo': 4, 'maint': 10, 'orthodrom': 1, 'vacat': 2, 'entrant': 1, 'remind': 8, 'pulmunari': 1, 'bsx': 2, 'marjor': 1, 'arhythmia': 1, 'ivx': 1, 'maex': 1, 'hoh': 4, 'psvt': 1, 'cfm': 1, 'agreeabl': 4, 'spit': 2, 'arrythmia': 4, 'betw': 1, 'admittedto': 1, 'ampul': 1, 'duti': 1, 'announc': 1, 'effectof': 1, 'substern': 2, 'smoothli': 1, 'cva': 16, 'weam': 1, 'burnt': 1, 'vace': 1, 'incsec': 1, 'bonchodil': 1, 'consistac': 1, 'lag': 2, 'anim': 3, 'radiat': 14, 'interactiv': 1, 'sesatur': 1, 'perc': 6, 'plmt': 2, 'nasotrach': 3, 'oropharnx': 2, 'hoff': 1, 'oout': 1, 'assur': 8, 'restain': 1, 'advoc': 3, 'enzim': 1, 'tracheal': 10, \"pvc'\": 1, 'isordil': 2, 'coher': 1, 'perman': 3, 'gastroduoden': 1, 'afebrel': 1, 'dulcalox': 1, 'inabl': 23, 'spray': 5, 'pro': 5, 'rous': 3, 'linezolid': 7, 'joke': 1, 'elsewher': 2, 'hole': 9, 'clammi': 5, 'snake': 1, 'cluster': 8, 'attemtp': 3, 'nebx': 1, 'clearsecret': 1, 'nemb': 1, 'aever': 1, 'sligthli': 1, 'hematur': 1, 'peni': 3, 'handl': 4, 'yankuar': 1, 'outpati': 17, 'passag': 2, 'nervou': 2, 'peristalsi': 1, 'attain': 4, 'orogastrc': 1, 'db': 8, 'nrbfm': 2, 'antral': 2, 'attmept': 1, 'vocal': 6, 'tirat': 1, 'dubbhoff': 1, 'yset': 1, 'flouroscopi': 1, 'probmot': 1, 'redistribut': 7, 'coat': 3, 'wetter': 1, 'oinment': 1, 'bvmr': 1, 'prong': 4, 'verif': 1, 'indicatedat': 1, 'microneb': 1, 'pave': 1, 'linezloid': 1, 'partli': 9, 'conray': 2, 'ssc': 1, 'recycl': 2, 'omber': 1, 'yellowish': 5, 'bronchopulomari': 1, 'vertic': 4, 'permit': 3, 'repolar': 8, 'thinnish': 1, 'creami': 6, 'npa': 1, 'lenght': 1, 'epsiod': 3, 'volumin': 1, 'intestin': 8, 'duodenum': 9, 'cong': 2, 'paraspin': 2, 'holiday': 4, 'religi': 3, 'anox': 3, '^peep': 2, 'asytol': 3, 'belief': 2, 'eyelid': 4, 'honor': 1, 'indepth': 1, 'reinforc': 6, 'neosenephrin': 1, 'pta': 8, 'button': 3, 'repsond': 2, 'conditon': 1, 'distraught': 2, 'earil': 1, 'respitatori': 1, 'abrupt': 4, 'anoxia': 2, 'mere': 2, 'recept': 2, 'toungu': 1, 'orthodox': 2, \"rec'\": 6, 'ration': 3, 'abn': 1, 'boarder': 1, 'solarium': 1, 'nsw': 1, 'ineffectu': 2, 'eveninng': 1, 'lean': 4, 'peerl': 1, 'collap': 2, 'dignifi': 1, 'increment': 3, 'sibil': 1, 'experi': 10, 'belt': 1, 'parent': 4, 'autism': 1, 'grunt': 2, \"sx'ing\": 3, 'pulsatil': 2, 'orophanyng': 1, 'posey': 2, 'someon': 4, 'aneurysm': 8, 'print': 1, 'sugic': 1, 'unresolv': 2, 'uteru': 6, 'bulg': 1, 'fibroid': 2, 'endometrium': 1, 'pem': 1, 'dob': 1, 'stab': 1, 'endovagin': 1, 'endometri': 2, 'obstetr': 1, 'taa': 1, 'op': 8, 'oper': 8, 'nb': 2, 'automat': 2, 'adnexa': 3, 'backsid': 2, 'intiti': 1, 'famil': 4, 'dur': 1, 'ansesthesia': 1, 'adendum': 2, 'bibap': 1, 'varrifi': 1, 'respitori': 4, 'varri': 1, 'facemask': 7, 'deeper': 2, 'inexplic': 1, 'cista': 1, 'cisatracrium': 1, 'physican': 2, 'scater': 1, 'generalis': 2, 'sucton': 1, 'mom': 5, 'awaitng': 2, 'inadequ': 12, 'occaision': 4, 'ditiazem': 1, 'repiratori': 2, 'btw': 3, 'prupos': 1, 'microdata': 1, 'somnul': 3, 'lcan': 1, 'indweel': 1, 'abomin': 1, 'plethora': 2, 'cirul': 1, 'adminst': 1, 'profus': 3, 'abaras': 1, 'whose': 5, 'obstr': 2, 'tanish': 3, 'cardiopulm': 2, 'geodon': 1, 'valproic': 2, 'ziprasidon': 1, 'physio': 2, 'sv': 2, 'lbr': 1, 'yesterda': 2, 'recumb': 2, 'avss': 1, 'analgesia': 6, 'cephal': 9, 'glenohumer': 2, 'myeloma': 4, 'lha': 1, 'calor': 2, 'imbal': 4, 'aplli': 2, 'dyspnoic': 1, 'dire': 1, 'oft': 1, 'obviat': 1, 'intussuscept': 2, 'sbo': 7, 'shfit': 1, 'ascul': 1, 'display': 11, 'resu': 3, 'sesi': 1, 'carri': 5, 'cast': 7, 'incarcer': 2, 'incision': 1, 'adam': 3, 'manifest': 6, 'repair': 9, 'multidisciplinari': 9, 'persuad': 1, 'declar': 7, 'onu': 1, 'sem': 7, 'referr': 14, 'feurea': 5, 'flood': 1, 'simplifi': 1, 'mgting': 1, 'rdf': 1, 'understood': 5, 'dismal': 2, 'symptommat': 1, 'intoler': 24, 'muddi': 4, 'ciprofloxacin': 13, 'dysnchronu': 1, 'prop': 4, 'repleat': 8, 'adhes': 5, 'nephrotox': 1, 'ventral': 1, 'dorsal': 6, 'neob': 4, 'extraordinari': 2, 'neighbor': 2, 'sole': 2, 'wcc': 1, 'coli': 4, 'aortopulmonari': 2, 'mesenter': 15, 'gutter': 5, 'biventricular': 7, 'precarin': 3, 'interpolar': 3, 'anastomosi': 2, 'reticul': 3, 'lymphoprolif': 1, 'traction': 2, 'perihepat': 5, 'canal': 3, 'tachomyopathi': 1, 'subcost': 1, 'transvers': 7, 'subpleur': 6, 'bronchiectasi': 7, 'txpb': 2, 'clostridium': 5, 'multilevel': 6, 'hyperdens': 8, 'honeycomb': 2, 'echocardiographi': 3, 'splenul': 3, 'tee': 11, 'paracol': 4, 'accordion': 1, 'paraaort': 4, 'aberr': 2, 'implic': 7, 'prune': 2, 'intermedi': 4, 'transesophag': 3, 'annulu': 4, 'extralumin': 3, 'valvular': 10, 'mlhh': 1, 'sacroiliac': 2, 'helic': 8, 'proctiti': 1, 'prox': 1, 'milk': 3, 'hemicolectomi': 2, 'ileocolon': 1, 'epiglott': 3, 'ronchoru': 1, 'upt': 2, 'laser': 1, 'unbroken': 4, 'swollow': 1, 'explor': 3, \"piv'\": 1, 'dayshift': 3, 'kill': 3, 'maxillari': 7, 'deflect': 3, 'psychiatri': 2, 'rtn': 1, 'ambul': 6, 'moisten': 3, 'od': 5, 'duoguard': 1, 'hose': 1, 'awil': 1, 'hospitil': 1, 'explainig': 1, 'tranfer': 1, 'hyperchol': 1, 'piperacillin': 36, \"po'\": 2, 'aao': 5, 'god': 1, '\\x13pt': 1, 'subarachnoid': 1, 'witch': 1, 'slightl': 1, 'pali': 2, 'vna': 7, 'gun': 1, 'produst': 1, 'silent': 2, 'metopolol': 1, 'pleasantli': 1, 'vasculatur': 12, 'strategi': 3, 'illicit': 3, \"'sundown\": 1, 'slowley': 1, 'statement': 1, 'bnp': 9, 'tb': 5, 'sete': 1, 'agigt': 1, 'notitifi': 1, 'levoflaxacin': 1, 'requr': 4, 'resend': 4, 'rhonchou': 2, 'guaz': 1, 'sharpli': 3, 'arway': 1, 'grew': 6, 'heliox': 4, 'outcv': 1, 'scare': 4, 'hila': 4, 'conctact': 1, 'immediatli': 1, 'insist': 3, 'drwn': 1, 'tub': 1, 'orogastr': 13, 'mulleri': 1, 'morin': 1, 'simethicon': 3, \"cc'sfor\": 1, 'thrust': 1, 'interest': 13, 'strep': 4, 'disagre': 1, 'integu': 3, 'diflucan': 4, 'bibpap': 2, 'lobectomi': 5, 'repsir': 2, 'eccessori': 1, 'racem': 1, 'skincar': 2, 'relay': 4, 'pngt': 4, 'remanin': 1, 'tab': 9, 'perhap': 15, 'propfol': 2, 'svn': 1, 'cocyx': 2, 'biapic': 3, 'fetanyl': 2, 'bp^': 1, 'tachycarid': 1, 'entireti': 2, 'abil': 16, 'hydralain': 1, 'cellul': 2, 'jvd': 10, 'pve': 1, 'anerysm': 1, 'qhd': 1, 'mssa': 5, 'kal': 1, 'osteo': 2, 'musculatur': 2, 'osteolyt': 4, 'dehisc': 3, 'subchondr': 2, 'veloc': 7, 'monophas': 1, 'specium': 1, 'methadon': 5, 'lbp': 1, 'bioprosthet': 2, 'sevelam': 1, 'viridan': 1, 'serolog': 2, 'haart': 4, 'carbon': 8, 'cinacalcet': 1, 'hyperparathyroid': 3, 'ln': 3, 'futil': 4, 'rock': 1, 'endors': 3, 'circumscrib': 1, 'prosthet': 2, 'tu': 1, 'soleu': 1, 'antihypertens': 9, 'hbv': 1, 'bmi': 10, 'dilauidid': 1, 'osteoblast': 3, 'hyoptens': 1, 'tazobactam': 28, 'ale': 1, 'quietli': 1, 'hepatosplenomegali': 1, 'circumferenti': 2, 'ring': 6, 'ucx': 14, 'admisison': 1, 'myositi': 1, 'harrt': 2, 'osteoarthr': 4, 'decompress': 7, 'emboli': 7, 'suppl': 13, 'dorsum': 1, 'deem': 4, 'avr': 6, 'veg': 2, 'lesser': 6, 'vege': 1, 'throb': 1, 'reform': 12, 'hopsic': 1, 'illeu': 3, 'rim': 2, 'supsect': 1, 'adat': 2, 'imping': 2, 'mycot': 1, 'multidetector': 9, 'surveil': 5, 'ao': 2, 'tibial': 9, 'favor': 12, 'ersd': 1, 'contigu': 16, 'regurg': 6, 'heb': 1, 'csurg': 1, 'tibiotalar': 1, 'macrovascular': 1, 'cxwc': 4, 'ginger': 1, 'candidaci': 2, 'thrill': 2, 'hsq': 1, 'nerv': 7, 'tyelenol': 1, 'tbili': 3, 'suspician': 2, 'lifestyl': 1, 'nephropathi': 3, 'leni': 8, 'malnutrit': 15, 'immunosuppress': 4, 'fsgn': 1, 'echodens': 1, 'asciti': 4, 'narrow': 18, 'guiaic': 4, 'sfyb': 1, 'plafond': 1, 'dehiss': 1, 'vegit': 2, 'embolu': 12, 'abi': 1, 'emper': 3, 'articular': 1, 'synergi': 1, 'bruit': 5, 'metatars': 1, 'hcv': 6, 'cachect': 3, 'splenomegali': 3, 'mmp': 2, 'trochant': 1, 'flexor': 1, 'amlodipin': 5, 'commod': 4, 'erythema': 7, 'ankl': 10, 'fsg': 3, 'triphas': 1, 'tendernss': 1, 'embol': 19, 'ht': 3, 'nephrocap': 1, 'foreign': 4, 'roughli': 5, 'cardimeg': 1, 'entub': 1, 'urosepsi': 5, 'venti': 1, 'clearifi': 1, 'gelfoam': 1, 'agonol': 1, 'cepetim': 1, 'dietari': 1, 'wegner': 1, 'cerebellar': 4, 'vista': 2, 'prismat': 1, 'coxxyx': 1, 'signifc': 2, 'toleart': 2, 'avblock': 1, 'agb': 2, 'dudoderm': 1, 'hydroxyea': 1, 'cmml': 1, 'stimilu': 1, 'tcl': 1, 'diverticulosi': 4, 'dialzi': 1, 'steadi': 5, 'serum': 19, 'dimin': 2, 'asysol': 1, 'cortic': 7, 'bronchscopi': 1, 'rp': 2, 'wegen': 1, 'diverticul': 4, 'bisacodyl': 8, 'brachiocephal': 17, 'reso': 1, 'pretrach': 5, 'aros': 2, 'perpl': 1, 'parament': 1, 'standbi': 5, 'sauc': 4, 'xx': 1, 'thk': 1, 'thalamu': 1, 'leukemia': 4, 'reinstitut': 2, 'norvsasc': 1, 'lsubclavian': 1, 'hiflo': 2, 'velcro': 1, 'ectat': 1, 'cml': 1, 'nimv': 4, 'coverd': 1, 'continun': 1, 'currentl': 3, 'tamer': 1, 'pluggi': 2, 'perpendicular': 1, 'lucenc': 11, 'catheter': 2, 'blastic': 8, 'glucomet': 2, 'csf': 3, 'skull': 7, 'perisplen': 3, 'pericol': 1, 'vertex': 5, 'cchour': 1, 'remot': 4, 'laparotomi': 1, 'fleck': 1, 'misshapen': 1, 'noi': 1, 'deciscion': 1, 'angiopathi': 1, 'ry': 1, 'hemocult': 1, 'rose': 5, 'exploratori': 1, 'hed': 1, 'fli': 5, 'suspend': 2, 'paravertebr': 2, 'ocmmand': 1, 'chage': 2, 'esp': 11, 'trophic': 2, 'chagn': 1, 'insens': 4, 'nted': 1, 'ttube': 1, 'misc': 1, 'adenoca': 1, 'preliminarili': 3, 'volulm': 1, 'mechaniclli': 1, 'diffficult': 1, 'onthi': 2, 'peopl': 5, 'copoiu': 1, 'beig': 2, '^^rr': 2, \"mod't\": 1, 'fed': 3, 'cholesterol': 2, 'aforement': 2, 'megac': 1, 'abdoment': 1, 'omelett': 1, 'cereal': 1, 'nonsens': 2, 'redirect': 2, 'ace': 9, 'sched': 2, 'nli': 1, 'inhibitor': 5, 'rhytham': 1, 'hydral': 5, 'clonazapam': 1, 'dinner': 5, 'rhochor': 3, 'calori': 16, 'plerual': 3, 'reclin': 1, 'zoysn': 3, 'humid': 2, 'est': 3, 'responc': 2, 'suppos': 6, 'appopri': 1, 'ys': 1, 'dobuta': 2, 'ceftriax': 1, 'boyfriend': 1, 'consentr': 1, 'eccymosi': 2, \"'sst\": 1, 'hotel': 2, 'asympt': 1, 'profilax': 1, 'perifer': 1, 'vese': 2, 'school': 2, 'ventiltori': 1, 'multivessel': 2, 'diaphoresi': 2, 'reqir': 1, 'sydron': 1, 'rouseabl': 1, 'taketsubo': 1, 'church': 1, 'wehen': 1, 'toenail': 2, 'conjuct': 1, 'rnoc': 1, 'isnp': 1, 'thormbu': 1, 'ceftazidim': 4, 'boy': 1, 'perirect': 2, 'prophalact': 1, 'yhesterday': 1, 'flacid': 3, 'kilo': 1, 'ofr': 1, 'requirinf': 1, 'humolog': 1, 'howevet': 1, '^wbc': 1, 'tepid': 2, 'htd': 1, 'dilantin': 4, 'lovenox': 4, 'snx': 5, 'oliguria': 7, 'sluggishli': 6, 'spare': 12, 'rescuscit': 2, 'anascara': 2, 'tma': 1, 'rigor': 1, 'phenytoin': 2, 'classif': 1, 'zoysyn': 1, 'redress': 4, 'insid': 4, 'anasrca': 1, 'decret': 1, 'orallli': 1, 'craniotomi': 2, 'duoden': 4, 'parametr': 1, 'unrealist': 2, 'lpew': 1, 'oygen': 1, 'prioriti': 11, 'forth': 5, 'pinsp': 2, 'flextub': 1, 'esoph': 4, 'vasporessin': 1, 'manoeuv': 1, 'dysynchron': 9, 'intermittint': 1, 'mastic': 2, 'risbi': 3, 'mucin': 1, 'besid': 4, 'azithro': 8, 'calmer': 1, 'unmetabol': 1, 'gfr': 4, 'trazadon': 3, 'hld': 1, 'ctx': 3, 'phlegm': 1, 'epitheli': 11, 'mouthcar': 5, 'fluent': 3, 'email': 6, 'thirsti': 2, 'rhythmic': 1, 'crf': 4, 'rebronch': 1, 'slp': 7, 'outstand': 1, 'disorient': 2, 'unwil': 2, 'inappropri': 6, 'protrus': 1, 'acoust': 6, 'extubat': 2, 'hgb': 21, 'foi': 2, 'labetalol': 2, 'aaa': 3, 'relev': 27, 'threshold': 10, 'share': 7, 'bronchiti': 4, 'fluoroquinolon': 1, 'dentur': 5, 'claim': 15, 'cautious': 1, 'reexpand': 1, 'gestur': 4, 'clonu': 5, 'retri': 4, 'edentul': 2, 'reproduc': 1, 'labatolol': 1, 'viscou': 1, 'labetolol': 2, 'cipso': 1, 'couas': 1, 'attg': 2, 'bisbi': 1, 'conserv': 4, 'parathyroid': 1, 'levothyroxin': 5, 'engag': 3, 'intellig': 1, 'consequ': 7, 'dyston': 2, 'pivx': 1, 'secretin': 1, 'tsp': 4, 'holosyst': 2, 'cpcp': 2, 'buccal': 2, 'bedsight': 1, 'benefif': 1, 'pmn': 15, 'etio': 1, 'lingual': 3, 'seat': 5, 'mmv': 5, 'strict': 7, 'lighten': 11, 'pallait': 1, 'shadow': 8, 'cup': 1, 'establish': 11, 'labial': 2, 'dial': 2, 'facet': 2, 'blous': 6, 'unplan': 3, 'nasaotrach': 1, 'workup': 10, 'py': 1, 'reattempt': 4, 'hypothyroid': 11, 'hemodynamicli': 1, 'ramya': 2, 'binder': 5, 'phosphor': 1, 'doxercalciferol': 1, 'ctab': 7, 'context': 8, 'endobronchi': 4, 'tetracyclin': 2, 'certain': 2, 'propafol': 5, 'underestim': 6, 'furosemid': 18, 'oa': 1, 'arestraint': 1, 'suspiciion': 1, 'rlsb': 1, 'stabli': 3, 'dwindl': 2, 'trand': 1, 'whiteout': 1, 'spill': 1, 'aphonia': 1, 'clonic': 1, 'occurr': 3, 'tob': 2, 'holosystol': 1, 'narc': 2, 'suffici': 9, 'systolicali': 1, 'inspiratori': 19, 'apici': 1, 'motor': 5, 'transaort': 2, 'lumbar': 12, 'proven': 1, 'boop': 4, 'uip': 1, 'reflux': 6, 'microbubbl': 2, 'pfo': 7, 'congenit': 3, 'arthroplasti': 3, 'scleroderma': 1, 'distens': 10, 'collagen': 1, 'usip': 1, 'hyxpoxia': 1, 'reticular': 10, 'bore': 5, 'recon': 10, 'submit': 8, 'transplan': 1, 'cerebrovascular': 2, 'instrument': 2, 'ipf': 12, 'tia': 2, 'dysmotil': 2, 'intramur': 1, 'uid': 1, 'version': 7, 'destruct': 4, 'construct': 2, 'nitrat': 2, 'furthermor': 2, 'sedement': 1, 'pullback': 1, 'claustrophobia': 1, 'debat': 2, 'tapper': 2, 'goodby': 7, 'increasd': 2, 'hallucin': 3, 'curtain': 1, 'rhythym': 1, 'maitain': 2, 'cheeck': 1, 'spastic': 1, 'claustrophob': 1, 'incred': 1, 'polit': 1, 'revisit': 4, 'initiali': 2, 'achill': 1, 'perf': 4, 'chanag': 1, 'heavili': 5, 'tramua': 1, 'ccn': 4, 'setti': 1, 'ioc': 1, \"sx'ng\": 2, 'idiopath': 4, 'firmer': 2, 'oxa': 2, 'degress': 1, 'repost': 1, 'teradyn': 1, 'pf': 3, 'collaber': 1, 'deepli': 2, 'frequ': 2, 'bleb': 2, 'secreiton': 2, 'rap': 1, 'cataract': 5, 'hygen': 2, 'tten': 1, 'rhoncor': 5, 'brn': 2, 'alsdo': 1, 'aova': 2, 'rhonchour': 2, 'big': 8, 'levofloxin': 3, 'pleasa': 1, 'pellucidum': 1, 'pateitn': 1, 'notif': 5, 'hyperkalem': 3, 'unopacifi': 1, 'ppf': 1, 'appov': 1, 'urolog': 4, 'worsend': 2, 'vre': 6, 'withdrew': 3, 'eventaulli': 1, 'absorpt': 5, 'stg': 4, 'resit': 9, 'fic': 1, 'meatu': 5, 'mattess': 1, 'invert': 1, 'beginni': 1, 'curvilinear': 2, 'thalam': 1, 'fasicul': 1, 'osteoarthrit': 1, 'preceed': 1, 'cavum': 1, 'allevi': 5, 'receeiv': 1, 'verga': 1, 'rc': 1, 'allerg': 3, 'eitiolog': 1, 'twave': 2, 'norvasc': 2, 'wih': 1, 'pararen': 2, 'unsuit': 1, 'asbestosi': 1, 'iwth': 1, 'adden': 1, 'irrigatioin': 1, 'un': 3, 'balalnc': 1, 'drng': 3, 'trendelenberg': 2, 'flank': 8, 'beginnng': 1, 'redos': 4, 'lenticulostri': 1, 'cor': 4, 'atalectasi': 2, 'ecchymos': 5, 'assoc': 4, 'rm': 1, 'seroquel': 2, 'hsm': 8, 'unresponsiv': 1, 'romi': 1, 'align': 2, 'cement': 1, 'scopalamin': 4, 'hemiarthroplasti': 1, 'menopaus': 1, 'indetermin': 12, 'lbbb': 2, 'muffl': 1, 'yof': 5, 'orif': 2, 'appendix': 4, 'heterotop': 2, 'varic': 7, 'hemiparesi': 3, 'gb': 5, 'plantar': 1, 'atheroma': 3, 'stair': 3, 'disloc': 4, 'egd': 7, 'doubt': 9, 'detrol': 2, 'usoh': 3, 'hemiparasi': 1, 'sma': 3, 'infxn': 2, 'tsh': 7, 'contractur': 1, 'antimicrobi': 11, 'requier': 2, 'thr': 1, 'gonad': 1, 'nsaid': 2, 'mening': 6, 'lp': 5, 'ingest': 3, 'drew': 1, 'rhinorrhea': 1, 'adnex': 1, 'imi': 1, 'electrocauderi': 1, 'groan': 2, 'unarous': 4, 'downgo': 1, 'qh': 6, 'arrous': 3, 'mmm': 10, 'qt': 3, 'therapeuitc': 1, 'befriend': 1, 'tobra': 5, 'unbal': 1, 'underway': 3, 'guardianship': 2, 'flexacil': 1, 'paraplegia': 1, 'tobromycin': 1, 'vasoppresin': 1, 'thta': 2, 'offici': 7, 'program': 7, 'miltipl': 2, 'uint': 1, 'uit': 1, 'transf': 1, 'pendn': 1, 'uppon': 1, 'monitoirng': 1, 'cotn': 1, 'ovb': 2, 'doputamin': 1, 'comand': 2, 'cllose': 1, 'vaso': 3, 'lvel': 1, 'vasopresin': 2, 'zocyn': 2, 'tobro': 1, 'surrog': 2, 'dssg': 1, 'escol': 1, 'pupl': 2, 'bicar': 1, 'xrt': 7, 'dissect': 6, 'kind': 1, 'tmp': 8, 'rectobulbar': 1, 'bee': 8, 'vtachi': 2, 'fing': 1, 'alkalin': 15, 'icd': 5, 'exfoli': 1, 'fentayl': 3, 'infra': 1, 'holder': 2, 'celexa': 2, 'formula': 9, 'mth': 2, 'migrat': 6, 'retent': 7, 'peteci': 1, 'elderi': 1, 'ignor': 1, 'score': 5, 'conveni': 1, 'sedtat': 2, 'rite': 4, 'annoint': 1, 'magnet': 2, 'sclca': 1, 'digoxin': 9, 'ringworm': 1, 'stepson': 1, 'presumpt': 3, 'droppedfrom': 1, 'bless': 3, 'enorm': 1, 'zocor': 2, 'smx': 7, 'effectivli': 1, 'newest': 1, 'hemodynim': 16, 'protinx': 1, 'love': 4, 'wgt': 17, 'portacath': 4, 'writer': 2, 'gola': 1, 'clarif': 5, 'galactomannan': 7, 'harm': 6, 'rheumatoid': 4, 'arthriti': 6, 'calc': 20, 'allopurinol': 6, 'lipidemia': 1, 'auto': 7, 'gout': 6, 'glucan': 8, 'nab': 5, 'hemorrag': 1, 'levofoxacin': 1, 'oliguricb': 1, 'denial': 2, 'lyphanget': 1, 'interdisciplinari': 14, 'excess': 11, 'petechia': 7, 'sclc': 1, 'plot': 2, \"'abl\": 1, 'hilum': 2, 'transud': 6, 'cracker': 1, 'thoracetesi': 1, 'postsurg': 2, 'lla': 1, 'articl': 2, 'puffer': 1, 'thouhg': 1, 'speciman': 1, 'lefloxin': 1, 'dilut': 4, \"pt'scode\": 1, 'diltizem': 1, 'bend': 2, 'whne': 2, 'lawyer': 2, 'frop': 1, 'mulitsystem': 1, 'trnasport': 1, 'propopfol': 1, 'rewuir': 1, 'cult': 8, 'acuta': 1, 'manner': 4, 'thorocolumbar': 1, 'retrocrur': 1, 'ceftrix': 1, 'hydroneprosi': 1, 'ectasia': 1, 'aneursym': 1, 'eechymot': 1, 'tortous': 1, 'lipoma': 1, 'vd': 1, 'doen': 3, 'zithromax': 1, 'stoic': 1, 'diapragmat': 1, 'diaphragmat': 4, 'predomiantli': 1, 'bifurc': 2, 'fatti': 1, 'cecal': 1, 'vistit': 1, 'network': 1, 'privaci': 2, 'icechip': 1, 'tobramycin': 3, 'ri': 1, 'gaseou': 2, 'succinocholynin': 1, 'provit': 1, 'rsstraint': 1, 'hemobilia': 1, 'retart': 1, 'dilatin': 2, 'plasmapheresi': 1, 'calvarium': 3, 'consolida': 1, 'aystol': 1, 'siezur': 2, 'fifth': 3, 'dgt': 1, 'rpc': 2, 'reconsult': 5, 'gvien': 2, 'widen': 15, 'hematuria': 7, 'ser': 1, 'occai': 1, 'oversed': 1, 'enrout': 2, 'ittp': 1, 'inqueri': 1, 'blod': 2, 'trap': 5, 'mard': 1, 'dialntin': 1, 'blur': 4, 'browni': 1, 'reass': 2, 'verapmil': 1, 'tympan': 3, 'frig': 1, 'therapuet': 1, 'thoracoabdomin': 2, 'pearla': 2, 'urpc': 1, 'plasmaforesi': 1, 'reactiven': 1, 'act': 12, 'procan': 1, 'amniodoron': 1, 'furhter': 3, 'wise': 5, 'zantac': 1, 'remian': 5, 'amniodaron': 2, 'scapula': 3, 'supra': 7, 'eyebrow': 2, 'roll': 5, 'wquickli': 1, 'activitiy': 1, 'nbr': 1, 'midlung': 1, 'cld': 1, 'miantain': 1, 'hemetolog': 1, 'ordor': 1, 'plasma': 2, 'verapimil': 1, 'multilobular': 2, 'derterior': 1, 'benigh': 1, 'inceas': 1, 'fosphenytoin': 1, 'interfac': 1, 'lral': 1, 'amirion': 1, 'tolerta': 1, 'hypernatrium': 1, 'rlower': 1, 'suscept': 3, 'oxygent': 3, 'ttp': 2, 'cat': 6, 'vicari': 2, 'suitabl': 4, 'curent': 2, 'ej': 3, 'tubefe': 5, 'thread': 1, 'schiz': 1, 'fluor': 1, \"'girgl\": 1, 'chol': 3, 'statlock': 2, 'ativna': 1, 'angiographi': 5, 'cotinu': 1, 'qtc': 3, 'dryness': 1, 'spontaneuosli': 1, 'tema': 1, 'scopolimin': 1, 'proovid': 1, 'basicali': 1, 'realtim': 2, 'hardcopi': 1, 'stoke': 3, 'stack': 4, 'fmaili': 3, 'montitor': 3, 'movent': 1, 'supratherapeut': 9, 'yankeaur': 1, 'dissapoint': 1, 'enhans': 1, 'nibp': 7, 'tyre': 1, 'sing': 1, 'smile': 2, 'feud': 1, 'reschedul': 2, 'everyon': 2, 'disciplanari': 1, 'elbow': 9, 'surpriz': 1, 'saliv': 1, 'eight': 3, 'pneumotho': 1, 'dime': 1, 'dequat': 1, 'thorencentesi': 2, 'chardt': 1, 'fusion': 3, 'nysatin': 1, 'pdr': 1, 'conclud': 1, 'ascult': 2, 'fentaynl': 1, 'topler': 1, 'dangl': 2, 'yankuer': 1, 'error': 6, 'underpenetr': 7, 'lght': 1, 'tuesday': 9, 'anzimet': 1, 'yanker': 1, 'hemonc': 1, 'miconazol': 4, 'peaceabl': 1, 'mim': 1, 'pleurex': 1, 'diaph': 1, 'mitrazol': 1, 'reexpans': 2, 'otherw': 1, 'myconazol': 1, 'pleuvex': 1, 'suter': 1, 'mechinc': 1, 'chaqng': 1, 'creme': 2, 'remainpt': 1, 'brochoscopi': 2, 'precept': 2, 'miconizol': 1, 'vomitinig': 1, 'thoracenthesi': 1, 'pipricillin': 1, 'busi': 1, 'thicker': 3, 'bronchoscpi': 1, 'quesstion': 1, 'fentynl': 1, 'mimin': 1, 'anasthesia': 1, 'bipsi': 1, 'rtespiratori': 1, 'cardia': 2, 'thck': 1, 'avg': 3, 'figur': 3, 'periarea': 1, 'supposrt': 1, 'respiratorey': 1, 'microb': 1, 'ecoli': 4, 'nonhemorrhag': 2, 'hypocalor': 5, 'thrombolysi': 1, 'author': 3, 'vivonex': 3, 'thrombos': 2, 'hn': 9, 'evolut': 6, 'massag': 5, 'ablat': 5, '^st': 6, 'ddd': 2, 'hypertroph': 3, 'descript': 7, 'ubw': 1, 'ich': 5, 'atherosclerosi': 4, 'dermatolog': 1, 'gluos': 1, 'pyuria': 3, 'rhythem': 1, 'exhal': 13, 'diabet': 14, 'suberb': 1, 'boluss': 1, 'ggt': 7, 'aa': 5, 'supertherapeut': 1, 'appendag': 3, 'timecours': 1, \"jxn'al\": 1, 'phynelephrin': 1, 'abtout': 1, 'academia': 2, 'multivitamin': 10, 'characterist': 2, 'sg': 1, 'hocm': 1, 'revert': 2, 'nkfa': 4, 'ventricularli': 1, 'proteu': 2, 'meningioma': 2, 'papyracea': 1, 'pepcid': 6, 'glaucoma': 2, 'superven': 6, 'dlrc': 3, 'hemispher': 1, 'rythem': 1, 'aksb': 1, 'thrombo': 1, 'lopresor': 1, 'viscer': 2, '^nd': 8, 'dmfj': 1, 'defecit': 2, 'methgb': 1, 'vasculariz': 1, 'season': 1, 'fossa': 7, 'suppli': 6, 'reconsclip': 1, 'fibersourc': 7, 'restor': 1, 'hypercoagul': 1, 'miner': 10, 'strike': 1, 'hyperventil': 3, 'pendin': 1, 'lamina': 2, 'thrombot': 3, 'cutoff': 1, 'ethanol': 1, 'stasi': 4, 'mellitu': 3, 'thrombi': 3, 'thrombophilia': 1, 'smv': 2, 'hiss': 14, 'warrant': 5, 'metavis': 12, 'research': 2, 'polar': 1, 'subtl': 6, 'visisbilti': 1, 'initailli': 1, 'lordot': 3, 'alzheim': 9, 'throw': 3, 'sundown': 1, 'gown': 1, 'fot': 1, 'appropiatelt': 1, 'vest': 1, 'memeori': 1, 'greatest': 2, 'debil': 2, 'oldest': 1, 'lobul': 2, 'parapelv': 1, 'abcess': 5, 'kyphosi': 3, 'hemiabdomen': 1, 'duplic': 3, 'collasp': 1, 'tree': 11, 'str': 2, 'mesenchym': 1, 'taneous': 1, 'comprehend': 3, 'uret': 3, 'hasten': 1, 'stromal': 1, 'adamantli': 1, 'oi': 2, 'fourth': 2, 'group': 3, 'distanc': 3, 'pleath': 1, 'outer': 3, 'gentl': 16, 'gpt': 1, 'coar': 2, 'prsentli': 1, 'crement': 1, 'lucid': 1, 'ride': 1, 'levetiracetam': 2, 'periost': 1, 'bronchiol': 2, 'calcaneu': 1, 'centrilobular': 3, 'collectio': 1, 'chiba': 1, 'lucent': 3, 'susp': 1, 'stagger': 1, 'azythromycin': 2, 'hyperglycem': 2, 'minimu': 1, 'marker': 7, 'mrcp': 3, 'hypottherm': 1, 'ossif': 2, 'collim': 5, 'desk': 1, 'afb': 6, 'bound': 6, 'uncin': 1, 'disp': 3, 'gluteu': 1, 'mtp': 1, 'fragment': 4, 'incluc': 1, 'eros': 1, 'px': 1, 'osteomyel': 2, 'plactment': 1, 'malleolu': 1, 'pnacreat': 1, 'ultrasonograph': 2, 'cloog': 1, 'recc': 2, 'gastrojejunostomi': 1, 'obl': 1, 'phonecal': 2, 'gait': 4, \"treatments'\": 1, 'lfa': 1, 'aspit': 1, 'hemorrhoid': 1, 'dicuss': 1, 'mash': 1, 'veyr': 1, 'brisckli': 1, 'cs': 1, 'rewarm': 1, 'swalow': 1, 'fibrothorax': 1, 'potato': 1, 'manger': 2, 'drool': 2, 'pleura': 4, 'dexamethason': 3, 'jello': 3, 'regad': 1, 'tact': 2, 'tachyp': 1, 'twelfth': 1, 'ivabx': 1, 'tomm': 1, 'caontact': 1, 'optimist': 1, 'subsegment': 11, 'xfew': 1, 'cisatricurium': 2, 'damag': 4, 'fibrot': 8, 'hodgkin': 3, 'olanzapin': 1, 'attack': 3, 'plavix': 3, 'cisat': 1, 'shr': 1, 'tachard': 1, 'serosangin': 2, 'ever': 3, 'univers': 1, 'seemd': 1, 'rs': 1, 'regain': 4, 'fold': 8, 'contini': 3, 'intermitantli': 1, 'seveer': 1, 'tablet': 4, 'occat': 3, 'lymphpma': 1, 'tachypnia': 1, 'brow': 1, 'disynchron': 3, 'critacar': 1, 'pipercillin': 1, 'synchroni': 3, 'similarli': 1, 'fleet': 4, 'slightest': 1, 'aveolar': 2, 'hodgekin': 1, 'pleuro': 1, 'hypotnes': 1, 'furrow': 1, 'bleomycin': 1, 'formul': 3, 'bleo': 1, 'mmcg': 1, 'wasd': 1, 'pacu': 1, 'isoridl': 1, 'sixth': 2, 'reuslt': 1, 'trnasfer': 1, 'whe': 1, 'correctli': 4, 'inconti': 1, 'perian': 3, 'methylprednisolon': 10, 'critcaid': 1, 'brath': 2, 'reinit': 1, 'mobilazt': 1, 'mophin': 1, 'donat': 3, 'countri': 1, 'hydrocrtison': 1, 'pediatr': 1, 'treatement': 4, 'dowm': 1, 'pronoun': 1, 'stitch': 1, 'perm': 2, 'restlessli': 1, 'nitroglycerin': 1, 'afteran': 1, 'thrash': 3, 'coasr': 1, 'bilaterali': 1, 'aureu': 4, 'anal': 3, 'aspirt': 1, 'assessori': 1, 'nif': 4, 'bij': 1, 'secrect': 3, 'urea': 1, 'tpiec': 1, 'hemmerroid': 1, 'ocassion': 1, 'outcom': 8, 'nucleu': 1, 'shave': 2, 'placemnt': 2, 'dloppler': 1, 'resdiual': 2, 'midazolm': 1, 'predomin': 8, 'glycerin': 1, 'subacut': 4, 'sennakot': 1, 'milrinon': 2, 'index': 6, 'tylenon': 1, 'gastroccult': 3, 'rssi': 2, 'pariet': 3, 'likley': 5, 'scatt': 1, 'compazin': 5, 'ativn': 1, 'pericarid': 1, 'breakthrough': 4, 'pg': 1, 'porli': 1, 'cheynn': 1, 'melanoma': 3, 'tke': 1, 'smal': 2, 'bereav': 2, 'melenoma': 2, 'whatev': 2, 'pericardiocentesi': 1, 'evalul': 1, 'ahead': 3, 'crack': 1, 'imrpvo': 1, 'boul': 1, 'goven': 1, 'disregard': 2, 'bigemin': 1, 'music': 2, 'pnuemonia': 4, 'etoh': 7, 'eaten': 1, 'drank': 2, 'codien': 1, 'legthargi': 1, 'joul': 2, 'eager': 1, 'abt': 3, 'lwst': 1, 'afcter': 1, 'chck': 1, 'clonidin': 1, 'shotti': 1, 'mechanicali': 1, 'flucoazol': 1, 'freqnent': 1, 'clearl': 1, 'caraf': 1, 'inci': 1, 'adenoma': 3, 'reuir': 1, 'willprob': 1, 'extravas': 2, 'sucralf': 1, 'intrathor': 1, 'knick': 1, 'imipenim': 1, 'sson': 1, 'pike': 2, 'bibasilarri': 1, 'pullup': 1, 'clench': 1, 'autodiuresi': 3, 'patednt': 1, 'scalpel': 1, 'fibr': 1, 'feso': 1, 'neget': 1, 'genta': 2, 'noectopi': 1, '^^hr': 1, 'foloow': 1, 'theradyn': 1, 'fd': 1, 'rhoncii': 2, 'cous': 1, 'quaniti': 1, 'lovefloxacin': 1, 'intacat': 1, 'hepatin': 1, 'news': 5, 'esophagogastrostomi': 1, 'transpos': 1, 'hydropneumothorax': 3, 'yanquer': 1, 'pluera': 1, 'amioderon': 5, 'ativanand': 1, 'mechanicli': 1, 'bpsupport': 1, 'cahng': 1, 'soundsa': 1, 'cultu': 1, 'tachynepn': 1, 'tail': 4, 'metab': 2, 'pen': 1, 'systesm': 1, 'hepar': 3, 'endoscopi': 8, 'lgt': 1, 'gym': 1, 'electroyt': 1, 'csl': 1, 'swing': 2, 'patentci': 2, 'monito': 2, 'electrolt': 1, 'esophogram': 1, 'activit': 1, 'sytsem': 1, 'stream': 1, 'north': 1, 'slighti': 2, 'progrerss': 1, 'pullthrough': 2, 'scout': 3, 'pleurovac': 1, 'consutl': 1, 'tag': 1, 'osm': 2, 'soflti': 1, 'autodiures': 5, 'amnio': 1, 'pahco': 1, 'endur': 2, 'select': 4, 'explanatori': 1, 'gastroesophagectomi': 1, \"'boston\": 1, 'overview': 1, 'innomin': 2, 'yellw': 1, 'fluib': 1, 'consistenli': 2, 'unmeasur': 1, 'postprocedur': 1, 'dng': 3, 'underwat': 1, 'transposit': 1, 'plueravac': 1, 'cark': 1, 'incorrect': 2, 'anastomot': 1, 'fistul': 1, 'imtermitt': 1, 'urbc': 1, 'assst': 1, 'diaphort': 1, 'autodiur': 1, 'suff': 1, 'diluadid': 2, 'accident': 2, 'bsp': 1, 'mgsulfat': 2, 'decomens': 1, 'amen': 4, 'pooli': 1, 'membership': 1, 'caglucon': 1, 'btf': 1, 'eposid': 1, 'jtube': 3, 'persit': 1, 'pee': 1, 'egg': 1, 'epogen': 1, 'counsel': 3, 'subpulmonari': 1, 'coun': 1, 'recommn': 1, 'icnreas': 1, 'ugi': 2, 'pulsesd': 1, 'bldi': 4, 'northern': 1, 'esophagogastrectomi': 1, 'sa': 4, 'dt': 3, 'reattach': 1, 'possilb': 1, 'pig': 2, 'imipenum': 1, 'gentamicin': 4, 'vi': 6, 'imipenem': 2, 'scope': 6, 'aspriat': 1, 'drainin': 1, 'prescrib': 5, 'primaxin': 1, 'heparn': 1, 'vecuronium': 5, 'vor': 1, 'withi': 1, 'comnt': 1, 'ectpoy': 1, 'irregularli': 3, 'solubl': 1, 'dilit': 2, 'feoli': 1, 'disregaurd': 1, 'vc': 1, 'hnh': 1, 'blank': 1, 'threadi': 1, 'adenosen': 1, 'ele': 1, 'mgnt': 1, 'cg': 3, 'multidisiciplinari': 1, 'smell': 3, 'discoordiant': 1, 'bllod': 1, 'behaviour': 1, 'sersang': 2, 'wavefrom': 1, 'biat': 1, 'oo': 1, 'hydrox': 1, 'dvr': 1, 'oncom': 1, 'cw': 1, 'slather': 1, 'positv': 2, 'pxcr': 1, 'aluminum': 1, 'subcuta': 1, 'eextrem': 1, 'periodci': 1, 'ant': 12, 'coordin': 7, 'ceftazidin': 1, 'orderd': 3, 'thorascopi': 1, 'nruse': 1, 'waters': 5, 'heater': 1, 'regist': 3, 'lasux': 1, 'creptiu': 1, 'acisosi': 1, 'radal': 1, 'thorcoscopi': 1, 'oxacillin': 2, 'shot': 2, 'cmg': 1, 'insulingtt': 1, 'lotion': 3, 'kink': 4, 'subcut': 1, 'lax': 1, 'fluctutaion': 1, 'sarna': 1, 'exclus': 3, 'bactroban': 1, 'replt': 1, 'liber': 4, 'crepidu': 1, 'sanguini': 1, 'omg': 1, 'givent': 2, 'ceftazadim': 2, 'scoot': 1, 'bactoban': 1, 'airleak': 2, 'fluctut': 1, 'trahc': 1, 'metabil': 1, 'mainta': 3, 'hyperphosphatemia': 1, 'lacter': 1, 'reolv': 1, 'toadi': 1, 'inquiri': 2, 'amphogel': 1, 'fentantyl': 1, 'elastoplast': 1, 'jepard': 1, 'plcmt': 2, 'untoward': 2, 'wtih': 3, 'seed': 2, 'activti': 1, 'inspiss': 1, 'obliqu': 7, 'peripheri': 6, 'acquisit': 4, 'yankour': 1, 'jkpe': 2, 'calendar': 1, 'ahf': 1, 'tailor': 6, 'retrial': 1, '^psv': 1, 'surprisingli': 1, 'duodenojejun': 1, 'unilat': 10, 'anasarc': 4, 'unobtain': 4, 'ausculat': 1, 'anterobas': 1, 'rami': 2, 'brim': 2, 'lumbosacr': 2, 'nonocclus': 3, 'pkt': 2, 'wildli': 1, 'superiorli': 3, 'tension': 3, 'anterosept': 10, 'intussuscipien': 1, 'pneum': 2, 'ileum': 1, 'mvo': 3, 'remainin': 1, 'amoutn': 1, 'softsorb': 3, 'fundopl': 1, 'extern': 6, 'rbreast': 1, 'shin': 2, 'metal': 3, 'doesnot': 1, 'unattain': 1, 'carin': 1, 'lose': 2, 'aubil': 1, 'subseq': 2, 'indent': 2, 'pri': 1, 'randomli': 1, 'pastor': 6, 'nissen': 1, 'sphyncter': 1, 'pancol': 2, 'dart': 1, 'anterobasilar': 1, 'sofsorb': 1, 'tib': 1, 'led': 9, 'vac': 1, 'pnuemo': 1, 'exor': 1, 'com': 2, 'afebrilewbc': 1, 'interspac': 2, 'obsess': 1, 'moniot': 1, 'bronchoalveolar': 1, 'desolv': 1, 'decreat': 1, 'snow': 1, 'slighlti': 2, 'soundli': 2, 'coax': 1, 'silhouet': 2, 'amberish': 1, 'tray': 2, 'anxiolyt': 5, 'rth': 1, 'swabe': 1, 'lasiz': 1, 'gaol': 3, 'coorel': 1, 'rf': 3, 'nutramenren': 1, 'neurlog': 1, 'daptomycin': 1, 'highest': 4, 'susction': 1, 'llp': 1, 'approprietli': 1, 'epigloti': 1, 'cogniz': 1, 'mucousa': 1, 'bother': 2, 'depper': 1, 'diuril': 5, 'soar': 1, 'stylet': 2, 'insuluin': 1, 'essent': 3, 'app': 1, 'andwer': 1, 'extremli': 1, 'loudli': 1, 'diali': 1, 'chlorothiazid': 3, 'nutramen': 1, 'pti': 1, 'afbril': 1, 'semierect': 1, 'perpheri': 2, 'abswer': 1, 'amint': 1, 'basalar': 1, 'detrior': 2, 'ssic': 1, 'larm': 1, 'topic': 6, 'compet': 3, 'breathrough': 1, 'soik': 1, 'directli': 5, 'iniit': 1, 'vsd': 6, 'clincal': 1, 'inutb': 1, 'aabout': 1, 'hypoventil': 3, 'urgenc': 1, 'famotidin': 9, 'triag': 1, \"'sbp\": 1, 'dimninsh': 1, 'extrins': 3, 'periodd': 1, 'axieti': 1, 'biacodyl': 1, 'tlyenol': 1, 'thrive': 3, 'prpogress': 1, 'strictur': 1, 'lund': 1, 'fuo': 6, 'ateri': 1, 'anytim': 1, 'coccycx': 1, 'lverf': 1, 'flair': 5, 'hypoxcemia': 1, 'esophog': 1, 'waffel': 1, 'faliur': 1, 'arrythmmia': 1, 'currenlti': 3, 'drep': 1, 'trumphet': 1, 'ppo': 1, 'stonehedg': 1, 'trazedon': 1, 'swal': 1, 'dimentia': 2, 'specifc': 1, 'cfh': 1, 'laminectomi': 1, 'disicion': 1, 'millisecond': 3, 'diverticula': 3, 'ize': 1, 'movmement': 1, 'troubleshoot': 1, 'blow': 1, 'disimpact': 2, 'prvc': 4, 'blanch': 4, 'postmortem': 1, 'spous': 3, 'rsv': 2, 'sludgi': 1, 'anticoag': 4, 'kayxel': 1, 'flexis': 8, 'ver': 2, 'safey': 1, 'vault': 2, 'lrad': 2, 'stonger': 1, 'transpleur': 2, 'breifli': 1, 'qlc': 1, 'laid': 2, 'bw': 1, 'inntub': 1, 'ru': 2, 'se': 1, 'nurisng': 1, 'mimim': 1, 'trickl': 1, 'ballon': 2, 'transpulmonari': 2, 'criticaid': 3, 'finerstick': 1, 'addenum': 1, 'pseudoaneurysm': 1, 'gluco': 1, 'sett': 1, 'undergon': 5, 'aggiat': 1, 'morhin': 2, 'mount': 1, 'receivd': 1, 'lpicc': 1, 'alkolot': 1, 'antibiod': 3, 'hemolysi': 8, 'worri': 2, 'evalut': 4, 'platueau': 1, 'asymmetri': 3, 'dashboard': 2, 'sesha': 2, 'ghome': 1, 'nursin': 1, 'septat': 3, 'sternoclavicular': 1, 'pxdb': 2, 'microangiopath': 1, 'hyperextens': 2, 'respres': 1, 'preferenti': 2, 'cerebellum': 1, 'predict': 4, 'condol': 2, 'trajectori': 2, 'enterococcu': 4, 'broadli': 7, 'zozyn': 1, 'aournd': 1, 'aglc': 4, 'phoslo': 1, 'sking': 1, 'showel': 1, 'hff': 1, 'nephrolist': 1, 'matalazon': 1, 'dinitr': 1, 'carvedilol': 1, 'xone': 1, 'conest': 1, 'infilter': 1, 'abm': 1, 'neuropathi': 5, 'hypervolem': 2, 'scr': 1, 'hypovolem': 9, 'rlq': 3, 'hf': 4, 'atorvastatin': 8, 'contd': 1, 'neurontin': 3, 'improov': 1, 'nephrotoxin': 4, 'persu': 1, 'nmeb': 1, 'hap': 24, 'mgt': 5, 'bipaa': 1, 'gpr': 4, 'ranitidin': 4, 'nitropast': 1, 'comfortbal': 2, 'acei': 3, 'mosd': 1, 'nephrologist': 2, 'rip': 1, 'enterococci': 2, 'coreg': 1, 'ecal': 1, 'metolazon': 1, 'intract': 1, 'outpt': 5, 'bi': 2, 'vano': 1, 'disucuss': 2, 'isosorbid': 1, 'wheelchair': 3, 'recd': 1, 'uptitr': 7, 'infrahilar': 5, 'calcitriol': 1, 'incapac': 1, 'tca': 1, 'roomm': 1, 'anteced': 2, 'normochrom': 1, 'cardiopulonari': 1, 'fresh': 4, 'extuabt': 2, 'grown': 4, 'decondit': 4, 'settig': 1, 'restat': 1, 'uet': 1, 'continues': 1, 'stun': 1, 'trimethoprim': 2, 'accid': 2, 'neoplast': 1, 'tachypneia': 1, 'tacypnea': 1, 'amiikacin': 1, 'ctl': 1, 'peumonia': 1, 'wel': 1, 'unattend': 1, 'harder': 2, 'flacyl': 1, 'encephaolopathi': 1, 'thinner': 2, 'comf': 1, 'fof': 1, 'medcial': 1, 'mumur': 1, 'coloni': 4, 'spars': 5, 'drown': 1, 'babinski': 3, 'lansoprazol': 9, 'prevacid': 7, 'wap': 1, 'extrapulmonari': 1, 'colonscopi': 1, 'stuartii': 1, 'sulbactam': 2, 'epith': 1, 'disuss': 1, 'nitrofurantoin': 1, 'hysterectomi': 2, 'hypoglycemia': 3, 'furthur': 1, 'medsl': 1, 'appreaci': 1, 'pin': 1, 'donepezil': 2, 'todya': 1, 'uncompl': 6, 'restrat': 1, 'scratch': 1, 'overwhelm': 4, 'offend': 2, 'cloud': 2, 'hoever': 1, 'gmmgsulf': 2, 'iron': 6, 'attract': 2, 'rquir': 1, 'providenciaa': 1, 'suctioin': 1, 'instal': 1, 'escherichia': 1, \"c'd\": 3, 'prokinet': 1, 'namenda': 2, 'compli': 1, 'orophyaryng': 1, 'prov': 1, 'likelihood': 7, 'profil': 2, 'hilu': 2, 'communc': 1, 'chamg': 1, 'venilatori': 1, 'fundament': 1, 'providentia': 1, 'nimenda': 1, 'amikacin': 2, 'neither': 4, 'ivdu': 1, 'stuarti': 1, 'pnemonia': 2, 'impari': 2, 'scar': 5, 'sulfamethoxazol': 1, 'failiur': 1, 'persistenli': 1, 'egfr': 1, 'women': 1, 'antibito': 2, 'mh': 2, 'hypoprofus': 1, 'forego': 1, 'hospitalist': 1, 'mdrd': 2, 'rightward': 6, '|': 2, 'biped': 1, 'hyralazin': 1, 'normocyt': 2, 'cefazolin': 2, 'providencia': 2, 'sensorium': 1, 'lasx': 1, 'wwp': 4, 'chornic': 2, 'lumpectomi': 2, 'cardiopulmomari': 1, 'sputm': 1, 'cefuroxim': 1, 'prodrom': 1, 'opportun': 5, 'yawn': 2, 'neuron': 3, 'normotherm': 4, 'mmd': 1, 'osteoporosi': 8, 'ncat': 5, 'reassum': 1, 'comatos': 2, 'identif': 2, 'constanli': 1, 'reestablish': 1, 'bang': 1, 'intepret': 1, 'iso': 2, 'leision': 1, 'idiolog': 1, 'investig': 4, 'extrewm': 1, 'heploc': 1, 'scab': 1, 'neuronton': 1, 'perineaum': 1, 'pinkish': 3, 'furrther': 1, 'imcomprehens': 1, 'lisw': 1, 'tomonitor': 1, 'thoracolumbar': 3, 'admitt': 1, 'threrfor': 1, 'soound': 2, 'exagger': 8, 'diaper': 1, 'rectrict': 1, 'flexas': 1, 'kerlex': 3, 'rheab': 1, 'sution': 2, 'guidelin': 2, 'plactic': 1, 'notat': 1, 'fist': 1, 'applic': 10, 'obses': 1, 'atori': 1, 'implement': 3, 'dbp': 1, 'dakin': 1, 'plastic': 2, 'evalaut': 2, 'debrid': 2, 'respiraotri': 2, 'prb': 1, 'coop': 1, 'seccess': 1, 'oitment': 1, 'flexi': 5, 'hepatologist': 1, 'equilibr': 1, 'synthet': 3, 'ts': 7, 'trea': 1, 'viru': 3, 'convent': 3, 'keepign': 1, 'tachpnea': 3, 'oseltamivir': 3, 'pubi': 2, 'prime': 3, 'popup': 2, 'ddx': 18, 'napo': 3, 'strain': 13, 'esmolol': 2, 'hypokinetc': 1, 'monrn': 1, 'multicyst': 1, 'hepatolog': 4, 'givenn': 1, 'chlorhex': 7, 'interventricular': 1, 'sequestr': 2, 'hemofilt': 1, 'sptum': 2, 'superinfect': 4, 'vasopress': 5, 'neosynepherin': 1, 'subratherapeut': 1, 'reload': 2, 'cef': 1, 'atroven': 1, 'hypotes': 1, 'scal': 1, 'enumer': 1, 'dog': 1, 'iliostomi': 1, 'reoslut': 1, 'pkd': 1, 'citrar': 1, 'mycolyt': 3, 'influeza': 1, 'conitinu': 2, 'toil': 1, 'hepativ': 1, 'overhydr': 7, 'inaud': 1, 'parasit': 2, 'hepatomegali': 2, 'presoso': 1, 'earliest': 2, 'meoprolol': 1, 'pulmonologist': 3, 'ova': 2, 'dz': 2, 'avfistula': 1, 'unload': 2, 'theray': 1, 'pretest': 1, 'giv': 1, 'lipid': 7, 'thrombcytopenia': 1, 'oxid': 4, 'nonetheless': 2, 'cant': 1, 'metop': 1, 'heartsound': 1, 'antiobiot': 1, 'alveoli': 1, 'special': 4, 'supportuv': 1, 'multiorgan': 4, 'instablil': 1, 'hitt': 2, 'amidodaron': 1, 'smyrnio': 1, 'hemodialyi': 1, 'malfunct': 2, 'itchi': 1, 'imagin': 2, 'mmghg': 1, 'femur': 2, 'priorit': 1, 'trabecul': 3, 'challengin': 1, 'subtherapateut': 1, 'nasopharyng': 4, 'kpo': 1, 'tamiflu': 3, 'webtag': 2, 'imrprov': 1, 'atmospher': 1, 'pasp': 2, 'poycyst': 1, 'circulatori': 2, 'chanigng': 1, 'clx': 3, 'reactant': 1, 'hypokinet': 4, 'ctrl': 1, 'enalapril': 1, 'quinolon': 5, 'polysyst': 1, 'sequest': 1, 'kac': 1, 'dwell': 1, 'bblocker': 2, 'nephrectomi': 1, 'assay': 5, 'setup': 3, 'dfa': 10, 'pot': 1, 'treatjment': 1, 'gdex': 2, 'thromboyctopenia': 1, 'concer': 3, 'nitric': 4, 'divert': 1, 'didnt': 1, 'beneprotein': 5, 'adult': 1, 'naac': 1, 'campylobact': 1, 'dex': 3, 'prognost': 2, 'contractil': 11, 'riins': 1, 'incllud': 1, 'ptroy': 1, 'postpon': 3, 'alp': 1, 'esld': 4, 'preclud': 4, 'haptoglobin': 2, 'tcdb': 1, 'pantop': 1, 'overnighit': 1, 'acetabula': 1, 'reiniti': 3, 'cvhd': 2, 'javascript': 2, 'ngtube': 2, 'cutlur': 1, 'possibilti': 1, 'cvh': 1, 'blockad': 4, 'stretcher': 6, 'rbbb': 5, 'patientcodein': 1, 'zestril': 1, 'walker': 2, 'weekli': 1, 'qam': 1, 'tw': 1, 'egophani': 1, 'dispens': 1, 'remeron': 3, 'aggrenox': 1, 'inprov': 1, 'medex': 3, 'dme': 5, 'mediocr': 1, 'clindamycin': 3, 'steak': 1, 'exelon': 1, 'medicaid': 6, 'niacin': 2, 'medicar': 5, 'sensat': 3, 'cautiou': 2, 'intercurr': 2, 'fosamax': 1, 'purs': 2, 'abat': 1, 'qpm': 1, 'caltrat': 1, 'qualifi': 1, 'mvi': 7, 'latat': 1, 'acsiti': 1, 'projectil': 1, 'litr': 2, 'pauciti': 5, 'emphat': 2, 'enquiri': 1, 'nondiagnost': 2, 'mglopressor': 1, 'surgeon': 2, 'prng': 1, 'soduim': 1, 'tachyarrhythmia': 1, 'feacal': 1, 'semiform': 1, 'outand': 1, 'laculos': 1, 'tappabl': 1, 'callout': 2, 'atvian': 1, 'chew': 2, 'vasotec': 1, 'offf': 1, 'neomycin': 1, 'anf': 1, 'prpofol': 1, 'tt': 1, 'chnage': 3, 'ijv': 1, 'woke': 3, 'levaph': 2, 'milronon': 1, 'docus': 8, 'dizzi': 2, 'trembl': 1, 'guaifenessin': 1, 'shifdt': 1, 'breathlesn': 1, 'cefriaxon': 1, 'discern': 3, 'disempact': 2, 'boardlin': 1, 'tachypen': 2, 'instantli': 1, 'megnesium': 1, 'earili': 1, 'miscommun': 1, 'sleeper': 1, 'girl': 1, 'kaexyl': 1, 'bnon': 1, 'jelli': 3, 'duraton': 1, 'ninv': 1, 'preload': 3, 'guaifenesina': 1, 'harpist': 1, 'overloaad': 1, 'thoughout': 2, 'diffult': 1, 'acidodi': 1, 'prsent': 2, 'hang': 3, 'mainitan': 1, 'pitress': 1, 'vcarevu': 1, 'handicap': 1, 'dmr': 1, 'substanc': 3, 'vagal': 1, 'ringer': 1, 'mutual': 2, 'particul': 1, 'meropemen': 1, \"patient'\": 8, 'sct': 2, 'signifig': 2, 'gj': 3, 'sbna': 1, 'infiltraet': 1, 'becapus': 1, 'posaconasol': 1, 'polymorphonuclear': 1, 'extr': 5, 'tachyn': 1, 'bmx': 1, 'gotten': 1, 'gvdh': 1, 'emesisx': 1, 'preme': 2, 'tacrolimu': 2, 'tens': 3, 'nauseat': 1, 'ongolog': 1, 'bacilli': 1, 'eleven': 1, 'ppeg': 1, 'attepmt': 1, 'cero': 1, 'jlb': 1, 'proh': 1, 'seriel': 2, 'hypercapnea': 4, 'cytopath': 2, 'afraid': 1, 'book': 1, 'serrou': 2, 'bcell': 1, 'deacreas': 1, 'obsruct': 1, 'methlprednisolon': 1, 'director': 3, 'midazolan': 1, 'prochlorperazin': 2, 'anem': 1, 'oxtcodon': 1, 'targer': 1, 'gleevec': 1, 'encas': 1, 'allogen': 1, 'lmw': 1, 'prepared': 1, 'jirvovecii': 1, 'leukocyt': 1, 'emotionalsupport': 1, 'nauseou': 2, 'immunoflouresc': 1, 'firtst': 1, 'wakeup': 3, 'mucormycosi': 1, 'woresen': 1, 'bmp': 1, 'lscta': 3, 'adaquet': 1, 'jrld': 2, 'boardelin': 1, 'stt': 1, 'laden': 1, 'igg': 1, \"sbt'\": 1, 'cocurr': 1, 'fibros': 1, 'aroung': 1, 'laboratori': 2, 'accum': 1, 'vechan': 1, 'shaken': 1, 'easilli': 1, 'rewrot': 1, 'panic': 1, 'hydroxid': 1, 'warrent': 2, 'former': 4, 'capsofungin': 1, 'six': 6, 'dn': 2, 'vl': 5, 'lighthead': 1, 'resusc': 1, 'premedicati': 1, 'tachyapn': 1, 'oversensit': 1, 'pneumopathi': 1, 'poli': 5, 'rational': 1, 'coccidioidomycosi': 1, 'ppd': 2, 'tacro': 1, 'cxray': 7, 'indur': 2, 'djrx': 1, 'treament': 1, 'tfeed': 2, 'shevel': 1, 'merepenem': 1, 'ritalyn': 1, 'mgsulf': 1, 'raglan': 3, 'cranial': 2, 'hyperpig': 1, 'byop': 1, 'iga': 1, 'glevac': 1, 'rhinoviru': 1, 'lvl': 1, 'ivig': 2, 'mdd': 1, 'ventialt': 2, 'conscious': 2, 'allo': 1, 'ritalin': 1, 'cex': 2, 'unsign': 1, \"'central\": 1, 'hypopig': 1, 'advic': 2, 'deciss': 1, 'strictli': 1, 'mistakenli': 2, 'triglycerid': 3, 'tac': 1, 'gaa': 1, 'gleevac': 1, 'apneaic': 1, 'cutan': 2, 'maintainc': 1, 'traught': 1, 'zydi': 2, 'benzodiazepin': 2, 'spfc': 1, 'succes': 1, 'cghd': 1, 'lcpc': 4, 'anisocoria': 2, 'inde': 6, 'jejunostomi': 2, 'rifampin': 1, 'ventimask': 2, 'disconintu': 1, 'galactomannin': 1, 'fast': 5, 'blastomycosi': 1, 'cantons': 1, 'onf': 1, 'lanosprazol': 1, 'torestart': 1, 'streaki': 2, 'indict': 2, 'igm': 1, 'wwa': 1, 'longterm': 2, 'hemodilut': 2, 'chrinic': 1, 'predic': 1, 'al': 1, 'enoxaparin': 1, 'atovaquon': 1, 'disappoint': 1, 'ceas': 3, 'apparatu': 1, 'microorgan': 2, 'tkcb': 1, 'aspergillosi': 1, 'alphabet': 1, 'relationship': 5, 'atelectai': 1, 'jirovecii': 1, 'atalectat': 1, 'antiemet': 1, 'uneventl': 1, 'gl': 2, 'patiient': 1, 'pneumomathi': 1, 'unequivoc': 1, 'imp': 4, 'vori': 2, 'histoplasmosi': 1, 'lorazepan': 1, 'rot': 1, 'apnvol': 2, 'trainsient': 1, 'flucon': 1, 'amx': 1, 'sud': 2, 'intrvascular': 1, 'golyt': 1, 'illiu': 1, 'supportso': 1, 'futher': 2, 'eduat': 1, 'ddecreasd': 1, 'blown': 1, 'scane': 1, 'lim': 1, 'vitmain': 1, 'coff': 1, 'vasculit': 1, 'intergti': 1, 'thiamin': 1, 'alblumin': 1, 'usd': 1, 'restar': 2, 'balnc': 1, 'nutrion': 1, 'hypoalbuminem': 2, 'additon': 3, 'poorfor': 1, 'offlin': 1, 'vascul': 2, 'yestereday': 1, 'follo': 1, 'epilepsi': 1, 'sgar': 1, 'barb': 1, 'phenotin': 1, 'nutrtion': 1, 'pahs': 1, 'optho': 2, 'broach': 1, 'ture': 1, 'rtisk': 1, 'antithyroglobulin': 1, 'riski': 1, 'ltac': 2, 'road': 2, 'pred': 2, 'yesast': 1, \"cx'\": 1, 'frequenti': 1, 'transmit': 5, 'ddrainag': 1, 'osmol': 1, 'apprecait': 1, 'uc': 3, 'montior': 3, 'concner': 1, 'ug': 2, 'alpha': 2, 'vlo': 1, 'enceph': 3, 'experianc': 1, 'distrust': 2, 'vasoact': 1, 'anacarca': 1, 'requiremetn': 1, 'intravasc': 1, 'golytli': 1, 'aacidosi': 1, 'tubul': 1, 'schistocyt': 3, 'peal': 1, 'drench': 2, 'pseudohypha': 2, 'chlorarhiazid': 1, 'sym': 2, 'vpa': 1, 'golytley': 1, 'reauest': 1, 'antobx': 1, \"eo'\": 1, 'neur': 1, 'virul': 1, 'flld': 1, 'benefici': 2, 'nondiarh': 1, 'transamin': 8, 'supervisor': 1, 'ncse': 1, 'groass': 1, 'ishchemia': 1, 'faith': 2, 'cjd': 1, 'pentobabr': 1, 'accumil': 1, 'ngith': 1, 'stagbl': 1, 'danger': 2, 'mach': 1, 'nonconvuls': 1, 'lk': 1, 'encount': 1, 'hypoalbuminemia': 1, 'vgb': 1, 'inf': 2, 'utmost': 1, 'ev': 2, 'neurogen': 2, 'hypervolemia': 2, 'dysfx': 1, 'oropharanyx': 1, 'valproeic': 1, 'acitv': 1, 'venipunctur': 2, 'protien': 1, 'method': 1, 'cruis': 1, 'esstenti': 1, 'apprec': 1, 'abbrevi': 2, 'meaningful': 1, 'caspo': 1, 'doll': 2, 'intensivist': 2, 'skill': 2, 'thermal': 1, 'convuks': 1, 'antbx': 2, 'geiven': 1, 'serious': 2, 'abs': 1, 'heo': 1, 'febun': 1, 'decrea': 2, 'signifi': 1, 'expens': 2, 'meropenam': 3, 'criticad': 2, 'tomoorw': 1, 'epidod': 1, 'platu': 1, 'unewu': 1, 'tuypcial': 1, 'reamin': 2, 'hydro': 5, 'chux': 1, 'junctur': 1, 'exempt': 1, 'cirpo': 1, 'hypoactivet': 1, 'coma': 1, 'norepit': 1, 'multidrug': 2, 'interf': 2, 'slim': 3, 'woiuld': 1, 'cefe': 1, 'addresss': 1, 'intermirtt': 1, 'blasser': 1, 'atni': 1, 'join': 2, 'abnl': 6, 'datbl': 1, 'hashimoto': 1, 'academ': 1, 'epilecticu': 1, 'hasimoto': 1, 'kepra': 1, 'cvlplace': 1, 'irrat': 1, 'microbi': 1, 'trransfer': 1, 'faili': 1, 'miotic': 1, 'epsod': 1, 'nm': 2, 'intrvasc': 1, 'assymetri': 1, 'lytli': 1, 'effusionsgiven': 1, 'gate': 2, 'antipseudomon': 1, 'emoir': 1, 'difficutl': 1, 'satisfi': 1, 'depsit': 1, 'pathogen': 6, 'fololow': 1, 'thryoid': 1, 'divorc': 1, 'dysfunciton': 1, 'pseudom': 1, 'jmuch': 1, 'posisbl': 1, 'blockag': 1, 'delic': 1, 'liaison': 1, 'norepinehrin': 1, 'yesteday': 1, 'intrabdomin': 1, 'grd': 4, 'mhg': 1, 'proptosi': 1, 'intravasularli': 1, 'interactionsd': 1, 'lactualos': 1, 'kpho': 4, 'std': 1, 'consdier': 1, 'anticonvuls': 2, 'pyrexia': 7, 'antiboiot': 1, 'ldiures': 1, 'barbitol': 1, 'pupillari': 4, 'blame': 1, 'hotn': 5, 'eosinophil': 3, 'oncal': 1, 'synd': 1, 'colloid': 1, 'dietarti': 1, 'hotlien': 1, 'aski': 1, 'revalu': 1, 'keppra': 3, 'weill': 1, 'antii': 1, 'coveragw': 1, 'inoput': 1, 'valproat': 1, 'voicemail': 1, 'untreat': 4, 'reachabl': 1, 'disimpactiona': 1, 'depaken': 1, 'pentobarb': 1, 'ite': 1, 'opion': 2, 'sural': 1, 'dedic': 5, 'absorp': 1, 'mintu': 2, 'pplateau': 1, 'unlcear': 1, 'apporx': 1, 'atleast': 1, 'lactoslo': 1, 'miralax': 2, 'bumex': 1, 'recx': 1, 'neuromyopathi': 2, 'norequr': 1, 'encephalopthi': 1, 'anisarc': 2, 'psa': 3, 'epilispi': 1, 'uln': 2, 'myopathi': 6, 'log': 2, 'nutrtit': 1, 'deminer': 2, 'epilecticiu': 1, 'diarrheal': 1, 'coagulopatahi': 1, 'nureo': 1, 'mngt': 2, 'noripnephrin': 1, 'tea': 1, 'disappear': 2, 'reatrt': 1, 'snore': 1, 'psedomona': 1, 'pentobard': 1, 'reqeust': 1, 'anisarca': 1, 'ultrafilt': 1, 'ampho': 1, 'wittnessin': 1, 'contributng': 1, 'interven': 2, 'xpiv': 1, 'addiiton': 1, 'polio': 1, 'seiz': 1, 'areflex': 2, 'leukocystosi': 1, 'psuedomanl': 1, 'coours': 1, 'compart': 3, 'chlorhexadin': 2, 'pento': 1, 'comanow': 1, 'anasrc': 1, 'parapneumon': 3, 'specialist': 3, 'norepinepherin': 1, 'transmin': 1, 'fdp': 5, 'antibacteri': 1, 'qill': 1, 'desmopressin': 2, 'golyetli': 1, 'refelect': 1, 'ophtho': 2, 'anit': 1, 'statrt': 1, 'antix': 1, 'pentobarbitol': 1, 'inid': 1, 'miracl': 1, 'hyperthermia': 7, 'tpo': 1, 'infectoiu': 1, 'anitbx': 1, 'filur': 1, 'ondepaken': 1, 'ferrou': 1, 'masess': 1, 'ctiric': 1, 'antiepilept': 1, 'decompensatuion': 1, 'seizuir': 1, 'mutlipl': 1, 'confid': 3, 'hemodyalysi': 1, '^rd': 3, 'spoutum': 1, 'thyroglobulin': 1, 'scvo': 2, 'midwest': 1, 'beneprotien': 1, 'atatu': 1, 'infectionb': 1, 'hypert': 1, 'assement': 1, 'paln': 1, 'epilepticu': 1, 'plateaud': 1, 'pendinh': 1, 'neurologist': 1, 'imporv': 1, 'thromobocytopenia': 1, 'boarderlin': 1, 'shockslowli': 1, 'undertaken': 1, 'sensitivi': 1, 'procss': 1, 'bibas': 5, 'overhead': 1, 'folic': 2, 'abgiven': 1, 'dissimpact': 1, 'extravascular': 1, 'ddavp': 1, 'hamper': 1, 'pentobarbit': 1, 'psuedom': 1, 'noter': 1, 'dil': 1, 'cyp': 1, 'epilept': 1, 'caspofugin': 1, 'peroxidas': 1, 'urem': 2, 'currenli': 1, 'acitivti': 1, 'leuk': 2, 'bitempor': 1, 'complaict': 1, 'hk': 1, 'supratheraput': 1, 'bac': 2, 'artefact': 1, 'furtehr': 2, 'chuck': 1, 'empoir': 1, 'vascualit': 1, 'convuls': 1, 'antiseizur': 2, 'epillepsi': 1, 'chlorathiazid': 1, 'miniut': 1, 'depakot': 2, 'hotlin': 1, 'bladdder': 1, 'jonh': 1, 'reinfect': 1, 'disabl': 2, 'potneiti': 1, 'trate': 1, 'emoit': 1, 'supor': 1, 'fingerst': 1, 'whhen': 1, 'remnant': 1, 'desynchronis': 1, 'occsaion': 1, 'pntx': 2, 'sabp': 1, 'occasioanlli': 1, 'dvers': 1, 'genral': 2, 'seadtion': 1, 'subsquent': 1, 'femer': 1, 'assymetr': 4, 'discofortx': 1, 'shrug': 1, 'vigilio': 1, 'fenta': 2, 'bronchhiectasi': 1, 'cintinu': 1, 'tod': 1, 'warma': 1, 'recvd': 3, 'recrtal': 1, '^to': 2, 'mlow': 1, 'wuth': 1, 'cardiomediastinum': 1, 'methylprednison': 2, 'appropriatley': 2, 'benoprotein': 1, 'placewd': 1, 'faintli': 2, 'comfortanbl': 1, 'requierd': 1, 'compensatori': 3, 'diamox': 1, 'repet': 2, 'slise': 1, 'tyellow': 2, 'unequel': 1, 'propronol': 1, 'vesicular': 2, 'robust': 1, 'receiev': 2, 'nebh': 1, 'broncho': 2, 'titret': 1, 'tkr': 1, 'hemastat': 1, 'jr': 3, 'soup': 1, 'nonexpand': 1, 'occasionali': 1, 'lsix': 2, 'generaslis': 1, 'propanolol': 1, 'dimnish': 1, 'finali': 1, 'acetylcystein': 2, 'fwb': 1, 'withc': 1, 'discu': 2, 'andi': 1, 'arrhytmia': 1, 'torn': 1, 'cleaniwth': 1, 'differentail': 1, 'effusiion': 1, 'shoulf': 1, 'malnourish': 1, 'yesterdauy': 1, 'dimihs': 1, 'nowel': 1, 'axillay': 1, 'urinb': 1, 'overshoot': 1, 'elixir': 1, 'cogn': 1, 'esphog': 2, 'slighli': 1, 'efect': 1, 'anorexia': 2, 'osteroarthr': 1, 'chanhg': 1, 'leuckocytosi': 1, 'eff': 2, 'smoke': 5, 'repositioniong': 1, 'fluentli': 1, 'nosocomi': 3, 'habit': 1, 'noncontributori': 2, 'spoon': 2, 'rebolus': 2, 'mismatch': 3, 'ecymot': 1, 'diffg': 1, 'isk': 1, 'subglott': 3, 'hyperchloremia': 2, 'cleanser': 4, 'finsh': 1, 'secondli': 1, 'ftt': 1, 'spch': 1, 'gprod': 1, 'hyperdyanam': 1, 'hypophosphetemia': 1, 'migth': 1, 'levothryoxin': 1, 'inhibit': 3, 'depelet': 1, 'cosyn': 1, 'anoint': 1, 'valid': 3, 'uncl': 2, 'tighter': 1, \"tx'ing\": 1, 'om': 2, 'curvej': 1, 'minand': 1, 'csv': 2, 'giver': 1, 'sevelem': 1, 'aka': 1, 'overshadow': 1, 'discusiion': 1, 'repe': 1, 'histor': 1, 'ugib': 4, 'chlorex': 1, 'pst': 1, 'hypomag': 1, 'pollen': 1, 'enteroccu': 2, \"c'\": 1, 'lsb': 2, 'remors': 1, 'transpor': 1, 'agatroban': 1, 'regret': 1, 'assembl': 3, 'varec': 1, 'lusb': 4, 'dysfxn': 2, 'peridex': 4, 'efficaci': 2, 'swithc': 1, 'outlook': 3, 'butnow': 1, 'teach': 2, 'overtir': 1, 'learn': 5, 'biv': 1, 'clholrhexidin': 1, 'mprove': 1, 'channel': 4, 'guilt': 2, 'placem': 2, 'butn': 1, 'secretio': 1, 'omperazol': 1, 'atlern': 1, 'cvc': 1, 'forese': 1, 'cmrn': 1, 'wrestl': 1, 'thrombocytopeni': 2, 'agratroban': 1, 'caridiogen': 1, 'unanim': 3, 'cvvvh': 1, 'bipa': 1, 'benifici': 1, 'amput': 1, 'withsat': 1, 'aggatroban': 2, 'stori': 1, 'straigt': 1, 'impli': 3, 'unnecessari': 1, 'vasculartur': 1, 'turgor': 3, 'defens': 2, 'spuriou': 1, 'nonessenti': 1, 'manor': 1, 'capabl': 1, 'osteodystrophi': 1, 'lef': 1, 'tachycardica': 1, 'pall': 1, 'metavisison': 1, 'andfailur': 1, 'hyperkeratot': 1, 'retriev': 2, 'vallecula': 1, 'iah': 1, 'dtop': 1, 'shd': 1, 'valpor': 1, 'vestibul': 1, 'overwhelmingli': 1, 'heavier': 2, 'risperidon': 1, 'anomia': 1, 'prosodi': 1, 'readili': 5, 'incanthosi': 1, 'deliber': 1, 'pyriform': 1, 'phtn': 5, 'aztreo': 1, 'repli': 1, 'wfl': 2, 'blac': 1, 'bll': 1, 'lgib': 1, 'vibrat': 1, 'subc': 1, 'moda': 1, 'aerob': 4, 'ambulatori': 2, 'venturi': 1, 'hyperammonia': 1, 'rpe': 2, 'velar': 1, 'df': 1, 'subling': 1, 'hemiplegia': 1, 'multipodi': 1, 'dysarthr': 1, 'hcl': 8, 'subglotti': 1, 'bd': 2, 'psychotrop': 1, 'risperd': 2, 'bipolar': 1, 'eob': 1, 'respiridol': 1, 'bvm': 1, 'pft': 3, 'rehabilit': 3, 'tbb': 4, 'diltaziem': 1, 'videofluoroscopi': 1, 'steam': 1, 'disintegr': 2, 'drak': 1, 'meta': 6, 'basex': 1, 'forc': 1, 'unforun': 1, 'noteabl': 1, 'lob': 1, 'closur': 5, 'aztronam': 1, 'hyperkeratosi': 1, 'divalproex': 1, 'ivfbolus': 1, 'viseo': 1, 'mood': 1, 'nivpp': 1, 'ctg': 1, 'propuls': 1, 'dobbhoff': 4, 'flaki': 1, 'knew': 1, 'videofluoroscop': 1, 'resperidol': 1, 'macu': 2, 'risperadol': 1, 'explicit': 1, 'inj': 1, 'downstair': 1, 'risperodol': 1, 'ili': 1, 'lye': 2, 'asd': 10, 'ammonia': 2, 'duoserm': 1, 'cape': 1, 'wot': 1, 'perreport': 1, 'transfererd': 1, 'tcpc': 1, 'monitorign': 1, 'ensym': 1, 'famuli': 1, 'rosari': 1, 'diffucalti': 1, 'detetior': 1, 'mortuari': 1, 'mt': 2, 'movemnet': 1, 'admis': 1, 'miuc': 1, 'masrk': 1, \"'ing\": 1, 'notess': 1, 'oveloar': 1, 'allovesta': 1, 'hemiblock': 1, 'cryptococc': 3, 'nephrosotomi': 1, 'lymphangit': 5, 'flonas': 1, 'influenz': 1, 'hypersensit': 3, 'propion': 1, 'mvt': 1, 'portocath': 1, 'asdir': 3, 'nephrostomi': 2, 'significi': 1, 'accommod': 1, 'meassur': 1, 'dialudid': 1, 'grey': 2, 'interpr': 1, 'pathol': 1, 'serv': 1, 'radiotherapi': 2, 'adenoid': 1, 'debri': 2, 'dxae': 3, 'dyspen': 2, 'nauseau': 2, 'espophag': 1, 'imform': 1, 'rac': 1, 'arrriv': 1, 'reopen': 1, 'beacam': 1, 'soial': 1, 'uncompens': 1, 'dssd': 1, 'apnoea': 1, 'carbodopa': 1, 'cog': 1, 'drssg': 1, 'tachyponea': 1, 'movemt': 1, 'xcept': 1, 'theapi': 1, 'hempdynam': 1, 'vertebroplasti': 2, 'amb': 2, 'resistantci': 1, 'repons': 4, 'rhino': 1, 'tachpneic': 2, 'suciton': 1, 'preadmiss': 1, 'sedateion': 1, 'puffi': 1, 'hygein': 1, 'portext': 1, 'desaturar': 1, 'phlebotomi': 2, 'ambuu': 1, 'neutran': 1, 'apnic': 2, 'stoolx': 1, 'hyporeflex': 1, 'reack': 1, 'wheel': 2, 'hyptertens': 1, 'extem': 2, 'hiatu': 1, 'tachypoen': 1, 'wasnt': 1, 'tonit': 2, 'samll': 1, 'suctuion': 1, \"'re\": 1, 'givenx': 1, 'speed': 1, 'naloxen': 1, 'imapir': 1, 'assymmetr': 1, 'copuiou': 1, 'fw': 1, 'nostril': 2, 'drk': 1, 'midday': 1, 'carevur': 1, \"req'ng\": 1, 'presur': 1, 'appx': 1, 'bariair': 1, 'autodiuris': 1, 'eythromycin': 1, 'genelar': 1, 'amonst': 1, 'vere': 1, 'crepiti': 2, 'dint': 1, 'appro': 1, 'fede': 1, 'aggressivli': 1, 'respos': 1, 'quinci': 1, 'dippig': 1, 'wan': 1, 'npln': 1, 'obv': 2, 'hepatofug': 1, 'effor': 1, 'specfic': 1, 'sof': 1, 'tranfus': 2, 'ommand': 1, 'convey': 2, 'finsih': 1, 'broke': 3, 'crepit': 1, 'ruquir': 1, 'unawar': 2, 'aferil': 1, 'remaisn': 2, 'pltlet': 1, 'brsk': 1, 'drcreas': 1, 'deuoderm': 1, 'regulari': 1, 'afebriel': 1, 'duriesi': 1, 'sideport': 2, 'ampyema': 1, 'failer': 1, 'tweezer': 1, 'mush': 1, 'mutlip': 1, 'unti': 1, 'flac': 1, 'electolyt': 1, 'gastropathi': 1, 'certainti': 2, 'uplt': 1, 'dysynchrononi': 1, 'apepar': 1, 'corner': 1, 'bradypn': 1, 'dy': 1, 'overnigt': 2, 'slug': 1, 'pancytopenia': 5, 'presntli': 1, 'anarsarca': 1, 'flaten': 1, 'ampl': 2, 'stbale': 1, 'abreas': 1, '^ing': 1, 'conor': 1, 'placedback': 1, 'inevit': 2, 'manipualt': 1, 'socail': 2, 'reconven': 2, 'luq': 3, 'abund': 2, 'protoc': 1, 'msse': 1, 'earl': 1, 'dminish': 1, 'entertain': 1, 'dysnchron': 2, 'spotan': 1, 'anmt': 1, 'resed': 1, \"today'\": 3, 'synchnou': 1, 'atriocav': 2, 'bowekl': 1, 'perfrom': 1, 'zeroform': 1, 'eaisli': 1, 'ratat': 1, 'disconjug': 2, 'pneumatocel': 1, 'midodin': 1, 'devepol': 1, 'desync': 1, 'anchor': 1, 'stepfath': 1, 'resur': 1, 'diurs': 1, 'alogrhythm': 1, 'hypercalcemia': 3, 'nightim': 1, 'uncomfoprt': 1, 'murtem': 1, 'breadown': 1, 'gaze': 2, 'counteract': 2, 'crakl': 2, 'wdwing': 1, 'wdw': 1, 'molar': 1, 'xeroform': 2, 'admx': 1, 'diminich': 1, 'presssur': 1, 'fpound': 1, 'griamc': 1, 'asychron': 1, 'protector': 1, 'unalt': 3, 'autorot': 1, 'vewntilatori': 1, 'aound': 1, 'iliu': 1, 'meatou': 1, 'upcom': 1, 'incras': 1, 'panu': 1, 'diminsih': 1, 'mini': 3, 'withdrw': 1, 'clotti': 1, 'locta': 1, 'cephalosporin': 2, 'asper': 1, 'liguid': 1, 'mopder': 1, 'substitut': 2, 'retropuls': 1, 'gbc': 1, 'curl': 2, 'prozim': 1, 'fetal': 1, 'judgment': 1, 'hypercholesterolemia': 4, 'peptic': 1, 'iwa': 1, 'faculti': 1, 'osteopen': 1, 'femora': 2, 'osteophyt': 5, 'macular': 2, 'proteinac': 1, 'negatiev': 1, 'intertrochanter': 2, 'requi': 1, 'hippv': 1, 'againt': 1, 'brth': 1, 'vdg': 1, 'brachytherapi': 2, 'shorterm': 1, 'dbc': 1, 'improvemnt': 1, 'granul': 2, 'oin': 1, 'interview': 1, 'earrl': 1, 'overdiuresi': 1, 'rexpans': 1, 'allyven': 1, 'dostress': 1, 'contacth': 1, 'vasculopath': 1, 'proclaim': 1, 'elcetrolyt': 1, 'necklac': 1, 'contac': 1, 'bracelet': 1, 'roughtli': 1, 'weari': 1, 'famiyl': 1, 'springwel': 1, 'thoracenteci': 1, 'subj': 1, 'lcsw': 3, 'heartbeat': 1, 'cobnvers': 1, 'hat': 1, 'cheat': 1, 'dmii': 1, 'initia': 1, 'judici': 1, 'bar': 1, 'guiafenesin': 1, 'sputa': 1, 'ream': 1, 'solu': 3, 'ecreas': 1, 'metformin': 2, 'sevic': 1, 'doc': 1, 'tessalon': 2, 'metforman': 1, 'muscular': 2, 'benzon': 1, 'chiar': 1, 'msk': 1, 'improvedto': 1, 'fulmin': 1, 'span': 1, 'recommemd': 1, 'tenueou': 1, 'dah': 2, 'patientno': 1, 'medrol': 3, 'breathless': 3, 'robitussin': 1, 'nac': 2, 'robutssin': 1, 'othr': 1, 'tessilon': 1, 'terribl': 1, 'hum': 1, 'sane': 1, 'suspic': 1, 'acetylcysitin': 1, 'ea': 1, 'hfm': 2, 'osa': 2, 'bedtim': 3, 'aswel': 1, 'gastrografin': 2, 'kyg': 2, 'nasopharyn': 1, 'ome': 4, 'pegtub': 1, 'decadron': 2, 'bilatar': 1, 'afebil': 1, 'mandarin': 1, 'facilitor': 1, 'fecul': 1, 'atypo': 1, 'azothioprin': 1, 'detai': 1, 'ove': 1, 'purpura': 2, 'mdr': 1, 'psuedo': 1, 'pneumoni': 1, 'achymosi': 1, 'mirtazapin': 1, 'ino': 2, 'xfere': 1, 'sarcodiosi': 1, 'tomororw': 1, 'palliativ': 1, 'neuropath': 2, 'peepm': 1, 'mandibl': 1, 'sarcoidosi': 1, 'sarcoid': 1, 'azathioprin': 1, 'zoster': 2, 'curremt': 1, 'downtitr': 1, 'erectil': 1, 'shingl': 1, 'remaijhn': 1, \"cx'd\": 1, 'prophi': 1, 'heav': 1, 'opxygen': 1, 'progresssivli': 1, 'friction': 3, 'stoneman': 1, 'nsclca': 2, 'stemi': 2, 'pamidron': 1, 'www': 1, 'radiopac': 2, 'acebutolol': 1, 'possiblil': 1, 'toc': 1, 'insepar': 2, 'deposit': 4, 'costodiaphragmat': 1, 'invad': 2, 'ami': 2, 'lidoderm': 1, 'hypophosphatemia': 1, 'lacta': 1, 'pemetrex': 2, 'hypopho': 1, 'encircl': 1, 'sufggest': 1, 'ragrdu': 1, 'en': 2, 'scopi': 1, 'lithotrypsi': 1, 'ubj': 1, 'pylenonephr': 1, 'loin': 1, 'interpretor': 1, \"adl'\": 1, 'pyelonephr': 2, 'perinephr': 3, 'erinephr': 1, 'pleaural': 1, 'suprahilar': 3, 'uvj': 1, 'carecod': 1, 'hydrouret': 1, 'hydroneph': 1, 'ptc': 1, 'uanbl': 1, 'pyelonephrosi': 1, 'givern': 1, 'moieti': 1, 'septi': 1, 'respo': 1, 'cycstoscopi': 1, 'reusm': 1, 'obstruuct': 1, 'antion': 1, 'jkang': 1, 'pyeloneph': 1, 'scopalomin': 1, 'periren': 1, 'suprath': 1, 'chosen': 1, 'goc': 4, 'cycsto': 1, 'fureth': 1, 'pyelo': 1, 'hrc': 1, 'thougn': 1, 'disucss': 2, 'possibilit': 1, 'norepinephin': 1, 'maee': 1, 'biaxin': 1, 'clincial': 2, 'fluffi': 1, 'horizont': 1, 'progess': 1, 'thia': 1, 'podu': 1, 'airmattress': 1, 'improvementin': 1, 'sonn': 1, 'emphysemat': 3, 'cefapim': 1, 'aleven': 1, 'margina': 1, 'electrod': 2, 'chr': 1, 'endplat': 1, 'disc': 4, 'effuss': 1, 'degener': 2, 'oxza': 1, 'airless': 2, 'colaps': 1, 'corect': 1, 'esophagogastr': 5, 'cholecystokinin': 1, 'duttaroy': 1, 'conflict': 1, 'proport': 5, 'fwma': 1, 'hyperalgesia': 2, 'bockstael': 1, 'overlap': 2, 'regulatori': 1, 'sum': 1, 'modulatori': 1, 'facilitatori': 1, 'viaogt': 1, 'terner': 1, 'importantli': 2, 'mk': 1, 'mu': 1, 'antinocicept': 1, 'cornerston': 1, 'peptid': 1, 'reprint': 1, 'preclin': 1, 'dourish': 1, 'pathophysiolog': 1, 'mrg': 1, 'pharmacodynam': 1, 'acknowleg': 1, 'scienc': 1, 'introduct': 1, 'rins': 1, 'transmiss': 3, 'neurosci': 1, 'coin': 1, 'amplifi': 1, 'polyethylen': 1, 'excit': 2, 'tumour': 2, 'methyl': 1, 'nmda': 1, 'arnp': 1, 'nocicept': 1, 'nur': 1, 'accomplish': 1, 'plataeu': 1, 'hydrocostison': 1, 'gene': 1, 'rvm': 1, 'raehal': 1, 'glycol': 1, 'yoburn': 1, 'pretreat': 1, 'medscap': 1, 'radion': 1, 'explicitli': 2, 'wherebi': 1, 'prefac': 1, 'interindividu': 1, 'nonanalges': 1, 'difuss': 1, 'indicta': 1, 'excent': 1, 'xd': 1, 'religion': 1, 'gardel': 1, 'lotsch': 1, 'dupen': 1, 'naltrexon': 1, 'hinder': 1, 'receptor': 1, 'portenoy': 1, 'wak': 1, 'pathway': 1, 'urg': 1, 'bubbl': 6, 'potenc': 1, 'affer': 1, 'genotyp': 1, 'decoupl': 1, 'terman': 1, 'wider': 2, 'sander': 1, 'pharmaceut': 1, 'recomend': 2, 'subtyp': 1, 'measuresbut': 1, 'gif': 2, 'intracellular': 2, 'glucagon': 1, 'stoutz': 1, 'opioid': 2, 'amelior': 2, 'ferguson': 1, 'brainstem': 1, 'concomit': 3, 'advantag': 1, 'postul': 1, 'chavkin': 1, 'progresson': 1, 'rct': 1, 'asparagin': 1, 'hypothes': 1, 'purport': 1, 'inturrisi': 1, 'intrigu': 1, 'repsiratori': 1, 'antagonist': 1, 'uniform': 1, 'monophosph': 1, 'concurr': 9, 'urinalysi': 3, 'recaptur': 1, 'chindalor': 1, 'practic': 1, 'amioduron': 1, 'human': 1, 'experiment': 1, 'doverti': 1, 'elucid': 1, 'kinas': 1, 'cur': 1, 'schemat': 1, 'hyperalges': 1, 'encod': 1, 'magnitud': 1, 'centuri': 1, 'permiss': 3, 'circumv': 1, 'angst': 1, 'govern': 1, 'albeit': 3, 'mediat': 1, 'torsad': 1, 'occer': 1, 'popul': 1, 'medzihradski': 1, 'ersek': 1, 'spontaneu': 1, 'mulitifoc': 1, 'cck': 1, 'model': 2, 'theoret': 1, 'principl': 1, 'resensit': 1, 'pal': 1, 'releas': 4, 'commonli': 1, 'vigano': 1, 'pronocicept': 1, 'foll': 3, 'radonc': 1, 'perturb': 1, 'choos': 1, 'sponr': 1, 'excitatori': 1, 'phenomenon': 1, 'cyclas': 1, 'proactiv': 1, 'colorect': 1, 'scientif': 1, 'neurotransmitt': 1, 'rostral': 1, 'maintian': 1, 'sedaton': 1, 'overtr': 1, 'sjogren': 1, 'camp': 1, 'aspart': 1, 'elsevi': 1, 'rat': 1, 'celeri': 1, 'tefari': 1, 'proglumid': 1, 'transcript': 2, 'pharmacokinet': 1, 'decad': 1, 'adjuv': 1, 'analges': 1, 'lauretti': 1, 'dynorphin': 1, 'promis': 1, 'periaqueduct': 1, 'unoccupi': 1, 'statist': 1, 'maleat': 1, 'desensit': 1, 'biomark': 1, 'counterpart': 1, 'neural': 1, 'adenylyl': 1, 'nonpain': 1, 'premis': 1, 'bind': 1, 'molecular': 1, 'arrestin': 1, 'yabaluri': 1, 'affin': 1, 'monomorph': 1, 'deceid': 1, 'ivarsson': 1, 'levorphanol': 1, 'hyperesthesia': 1, 'reducedcontinu': 1, 'abstract': 1, 'saeki': 1, 'whistler': 1, 'phd': 1, 'cyclic': 1, 'anitibiot': 1, 'simplest': 1, 'endocytosi': 1, 'allodynia': 1, 'ventromedi': 1, 'genet': 1, 'yaksh': 1, 'mcclean': 1, 'medulla': 1, 'world': 1, 'burden': 5, 'decreasedin': 1, 'compton': 1, 'glutam': 1, 'dextromethorphan': 2, 'mainstay': 1, 'vanderah': 1, 'underscor': 1, 'endogen': 1, 'emptiv': 1, 'amino': 1, 'psycholog': 1, 'kappa': 1, 'deepen': 1, 'perist': 2, 'theori': 1, 'entiti': 2, 'gpcr': 1, 'phenomena': 1, 'unrel': 4, 'mao': 1, 'nondrug': 1, 'estfan': 1, 'price': 1, 'pharmd': 1, 'conceptu': 1, 'agonist': 3, 'methodon': 1, 'ygd': 3, 'enbrel': 1, 'improp': 1, 'mtx': 1, 'wf': 1, 'tributari': 1, 'leukostasi': 1, 'melena': 5, 'endotoxin': 1, 'reas': 1, 'ig': 2, 'aar': 1, 'lysi': 2, 'pralysi': 1, 'sinsc': 1, 'eomi': 6, 'crystalloid': 1, 'uot': 1, 'neuromusc': 2, 'atraumat': 2, 'desper': 1, 'icteru': 4, 'encapsul': 1, 'cul': 2, 'matur': 1, 'malais': 3, 'synthesi': 1, 'patella': 1, 'oxgen': 2, 'coolin': 1, 'crypto': 2, 'leukapheresi': 1, 'glianda': 1, 'blast': 1, 'crise': 1, 'cisatra': 1, 'athi': 1, 'vasodilit': 1, 'inand': 1, 'witjh': 1, 'lymphocyt': 1, 'vasodil': 1, 'pneumosepsi': 1, 'dion': 1, 'pallor': 2, 'drn': 1, 'elvat': 1, 'sterp': 1, 'nearbi': 1, 'protuber': 1, 'xfusion': 2, 'granulocyt': 1, 'tio': 1, 'sacrement': 2, 'anerob': 2, 'rituximab': 1, 'pneumococcu': 1, 'redemonstr': 9, 'interfissur': 1, 'substrat': 1, 'bullou': 2, 'hird': 1, 'cefaclor': 1, 'reliv': 1, 'bronchi': 5, 'photodynam': 1, 'echocardiogram': 2, 'highflow': 1, 'labour': 1, 'evloc': 1, 'onco': 1, 'signfici': 1, 'imped': 1, 'loopi': 1, 'perfect': 1, 'iiia': 1, 'xopenex': 1, 'birthday': 1, 'regen': 1, 'levalbuterol': 1, 'choc': 1, 'dyspnic': 1, 'cuurent': 1, 'perinieum': 1, 'brerath': 1, 'zoloft': 1, 'expl': 1, 'xoponex': 1, 'pheboltomist': 1, 'facili': 1, 'opacit': 2, 'boost': 3, 'purus': 1, 'ffv': 1, 'reconnect': 2, 'patint': 1, 'retrotrach': 1, 'chsnge': 1, 'nsc': 1, 'phlebotomist': 1, 'ffm': 1, 'paitent': 1, 'effexor': 1, 'avial': 1, 'moxifloxicin': 1, 'makes': 1, 'pericolon': 1, 'trv': 1, 'merit': 2, 'pancolon': 1, 'hypocontractil': 2, 'jmgw': 5, 'intracav': 1, 'infraren': 2, 'minu': 2, 'ventriclr': 1, 'thumbprint': 1, 'panproctocolon': 1, 'fece': 1, 'cephalad': 1, 'septick': 1, 'shsf': 3, 'frpm': 1, 'schf': 1, 'imipramin': 1, 'resuscti': 1, 'blat': 1, 'irrecover': 1, 'gn': 2, 'anasarcoid': 1, 'morbid': 1, 'impov': 1, 'maintin': 1, 'lactulous': 1, 'yestserday': 1, 'nmb': 1, 'lamotrigin': 1, 'obstip': 5, 'expuls': 1, 'hydrochlorid': 2, 'simplex': 1, 'stabal': 1, 'evident': 1, 'blowout': 2, 'disten': 1, 'haloperidol': 2, 'vzv': 1, 'eighth': 1, 'vicodin': 1, 'uap': 1, 'bleak': 1, 'hyperoxygen': 1, 'sqi': 2, 'pbw': 1, 'tricycl': 1, 'metoclopramid': 1, 'seventh': 2, 'cisaturcurium': 1, 'fibromyalga': 1, 'opiat': 1, 'flexeril': 1, 'alkalemia': 2, 'lamict': 1, 'pwder': 1, 'hidden': 2, 'esbl': 4, 'vilego': 1, 'para': 1, 'parac': 1, 'ninth': 2, 'bizarr': 1, 'dysynchor': 1, 'dysynchoroni': 1, 'opiod': 1, 'tough': 2, 'thalessemia': 1, 'taught': 1, 'herp': 1, 'lefort': 2, 'dubhoff': 1, 'svv': 4, 'aiway': 1, 'fbr': 2, 'exal': 1, 'unparalyz': 1, 'scrape': 2, 'paracentesi': 3, 'shrunken': 2, 'dyssynchron': 3, 'fwf': 1, 'wocrn': 1, 'pare': 1, 'wallthicken': 1, 'backward': 1, 'donw': 1, 'streamlin': 1, 'taccycardia': 1, 'transvalvular': 2, 'respiratoti': 1, 'psurg': 1, 'ltach': 1, 'sklightli': 1, 'viatmain': 1, 'meropenujm': 1, 'overnig': 1, 'vacno': 1, 'preform': 3, 'isosourc': 1, 'raa': 2, 'midu': 1, 'neosinephrin': 1, 'petechai': 1, 'regress': 3, 'allpurinol': 1, 'eccentr': 4, 'woudl': 1, 'becuaus': 1, 'antbiot': 1, 'empath': 1, 'lvsv': 1, 'overnightl': 1, 'enzymat': 1, 'unmet': 1, 'infectio': 1, 'svi': 1, 'vitk': 1, 'te': 1, 'wbhc': 1, 'domin': 1, 'murmr': 1, 'quiliti': 1, 'ymosi': 1, 'aovti': 1, 'locu': 1, 'overse': 1, 'jet': 4, 'siadh': 2, 'hcfa': 2, 'broadend': 1, 'hemohynam': 1, 'aand': 1, 'dyne': 1, 'aov': 1, 'valvuloplasti': 1, 'wiill': 1, 'alck': 1, 'mepiplex': 1, 'scaral': 1, 'ueni': 1, 'exbut': 2, 'seenbi': 1, 'stood': 1, 'collagenas': 1, 'thermodilut': 1, 'cosign': 1, 'cardic': 1, 'dcub': 1, 'rouhnd': 1, 'vasc': 1, 'ancef': 1, 'angios': 2, 'charg': 1, 'taccypnea': 1, 'collagenes': 1, 'vancoymcin': 1, 'achil': 1, \"pt'\": 1, 'complexion': 1, 'moitor': 1, 'awaitin': 1, 'suctionion': 1, 'tempor': 5, 'anca': 2, 'ecch': 1, 'affili': 1, 'todat': 1, 'bicuspid': 1, 'occult': 3, 'setgment': 1, 'fortun': 1, \"onc'\": 1, 'valvoplsti': 1, 'ducubitu': 1, 'necrotizin': 1, 'serotonin': 1, 'euvolemia': 2, 'adventiti': 1, 'aggatraban': 1, 'vti': 1, 'valvoplasti': 1, 'antibid': 1, 'dcing': 1, 'certifi': 3, 'fals': 1, 'eschar': 1, 'coagulapathi': 1, 'gastrograffin': 1, 'wll': 1, 'valvuloplasi': 1, 'receheck': 1, 'wehich': 1, 'meei': 1, 'qdaili': 1, 'viigileo': 1, 'valvuloplati': 1, 'proced': 1, 'contr': 1, 'guarante': 1, 'jksd': 2, 'honest': 1, 'pallid': 1, 'tilt': 1, 'esr': 1, 'jointli': 1, 'ai': 2, 'remodel': 2, 'orderedl': 1, 'mepilex': 4, 'overdistend': 2, 'yesterrday': 1, 'ttte': 1, 'vo': 1, 'chole': 1, 'multifactorisl': 1, 'unstag': 2, 'heprin': 3, 'galactomanna': 1, 'imit': 1, 'valvulopasti': 1, 'ne': 2, 'hardli': 1, 'inotrop': 1, 'bidirect': 1, 'subq': 1, 'reater': 1, 'offset': 1, 'argu': 2, 'valvulopplasti': 1, 'inasmuch': 1, 'frlow': 1, 'laa': 2, 'failri': 1, 'gradiernt': 1, '^d': 1, 'vigileo': 3, 'acalcul': 1, 'radiu': 1, 'dubiou': 1, 'sort': 2, 'reguir': 1, 'lepirudin': 1, 'sqaur': 1, 'ws': 1, 'valvuplasti': 1, 'cholescyst': 1, 'cdif': 1, 'crp': 1, 'valoplasti': 1, 'pnuemoboot': 1, 'copious': 1, 'bronhial': 1, 'decompen': 1, 'neli': 1, 'requri': 1, 'org': 1, 'strongyloid': 1, 'culter': 1, 'pippracillin': 1, 'ducolax': 1, 'pss': 2, 'exr': 1, 'easleir': 1, 'methypr': 1, 'platea': 1, 'overrid': 1, 'stongi': 1, 'symetr': 1, 'effici': 1, 'dysrhythmia': 1, 'aspergillu': 1, 'hypxoc': 1, 'eosinphil': 1, 'goultur': 1, 'grad': 1, 'dietet': 3, 'ple': 1, 'pulmoari': 1, 'nine': 2, 'crossmatch': 2, 'pmhcad': 1, 'subtherapuet': 1, 'adeno': 1, 'galatomonan': 1, 'vassopress': 1, 'orpharyng': 1, 'vr': 1, 'consensu': 1, 'poa': 2, 'deminsh': 1, 'instanc': 2, 'sosyn': 1, 'tuleremia': 1, 'exterm': 2, 'hypxic': 1, 'agglutin': 1, 'aip': 1, 'malignaci': 1, 'bellow': 1, 'spun': 1, 'fyi': 1, 'jrci': 3, 'whrn': 1, 'eosinophilia': 2, 'histo': 1, 'strongiloid': 1, 'hypocalcemia': 1, 'tn': 1, 'hormon': 1, 'steriod': 3, 'hapto': 1, 'autoimmun': 1, 'diagonisi': 1, 'pii': 1, 'inflamatori': 2, 'contnu': 1, 'gental': 1, 'inetrv': 1, 'ovebreath': 1, 'systoic': 1, 'hyperkalemi': 1, 'diureisi': 1, 'linger': 1, 'sinsu': 1, 'tum': 2, 'kayexalt': 1, 'granular': 2, 'nont': 1, 'skip': 1, 'deactiv': 1, 'tamsulosin': 1, 'tularemia': 1, 'neutrophil': 2, 'crept': 1, 'hypoactic': 2, 'ige': 1, 'sss': 1, 'thoras': 1, 'dysncron': 1, 'spin': 1, 'dysmorph': 1, 'therapeud': 1, 'asperg': 1, 'remiss': 2, 'overdistent': 2, 'tital': 1, 'kangaroo': 1, 'immun': 1, 'histoplasma': 1, 'entranc': 1, 'ischmia': 1, 'biter': 1, 'electroly': 1, 'vw': 1, 'hevili': 1, 'pipracillin': 1, 'overdistens': 1, 'advac': 1, 'nephrolithiasi': 3, 'anecho': 1, 'prostatectomi': 1, 'alongsid': 1, 'impercept': 1, 'warn': 1, 'denis': 1, 'turp': 1, 'glacuoma': 1, 'instrins': 1, 'propoxyphen': 1, 'uncertainti': 1, 'amout': 1, 'espiratori': 1, 'aberrantli': 1, 'aftern': 1, 'liek': 1, 'arthrodesi': 1, 'wiil': 1, 'pper': 1, 'weel': 1, 'appi': 1, 'unpurpos': 1, 'cystoscop': 1, 'darvon': 1, 'cci': 1, 'danazol': 1, 'oxybutynin': 1, 'awiat': 1, 'fewminut': 1, 'neuromuscular': 5, 'hish': 1, 'levoxyl': 1, 'fl': 1, 'dobutaminin': 1, 'segemtn': 1, 'scenario': 1, 'elyt': 1, 'gastro': 1, 'vegileo': 1, 'recew': 1, 'cistacurim': 1, 'thrombopoetin': 1, 'leukopenia': 1, 'xigri': 1, 'hyperplasia': 1, 'keton': 2, 'naficillin': 1, 'asrriv': 1, 'withdrawen': 1, 'protnix': 1, 'influzena': 1, 'rhabdo': 1, 'patietn': 1, 'donutamn': 1, 'tpp': 2, 'esopog': 1, 'initiait': 1, 'pancx': 1, 'ste': 2, 'nafcillin': 1, 'protract': 1, 'bicard': 1, 'recdiev': 1, 'italian': 1, 'tendenc': 1, 'child': 2, 'catastroph': 1, 'leveph': 1, 'octreotid': 3, 'finbrinogen': 1, 'incl': 4, 'hopsit': 1, 'estrang': 1, 'immin': 2, 'reviv': 1, 'vaspressin': 1, 'harsher': 1, 'flor': 1, 'solutiuon': 1, 'ambival': 2, 'summon': 1, 'lavtat': 1, 'peesist': 1, 'varici': 1, 'curretnli': 1, 'bilaterl': 1, '^sed': 1, 'reintroduct': 1, 'denser': 2, 'brbpr': 1, 'morph': 1, 'file': 2, 'queri': 4, 'betweeen': 1, 'mroe': 1, 'dvtpleas': 1, 'fpr': 1, 'mdag': 2, 'unilater': 4, 'mar': 2, 'comparis': 1, 'sfv': 1, 'ovrenight': 1, 'betablock': 2, 'ferritin': 1, 'congreg': 1, 'airflow': 2, 'thyroxin': 1, 'withdrawan': 1, 'microorg': 2, 'compound': 2, 'frail': 2, 'mural': 2, 'denot': 1, 'seemingli': 1, 'tibc': 1, 'twi': 2, 'hemoconcentr': 1, 'lactamas': 1, 'othervis': 2, 'costophr': 1, 'cardiophren': 2, 'tomographi': 2, 'omnipaqu': 4, 'kerley': 2, 'solitari': 1, 'sternum': 2, 'infraclavicular': 1, 'fract': 1, 'millimetr': 1, 'epicardi': 2, 'volumetr': 3, 'mycobacteri': 1, 'unmodifi': 1, 'direction': 1, 'ankylos': 1, 'longitudin': 1, 'hyperthyroid': 1, 'osteosclerot': 1, 'cavit': 3, 'bulla': 2, 'hepatobiliari': 5, 'upj': 1, 'spicul': 1, 'radioopac': 1, 'spondyl': 1, 'mildi': 2, 'syndesmophyt': 1, 'cau': 1, 'hypoechogen': 1, 'ventrcular': 1, 'cbd': 2, 'hemithorac': 5, 'unfold': 1, 'calic': 1, 'cavitari': 3, 'depict': 1, 'ligament': 1, 'sedond': 1, 'pleurodesi': 1, 'department': 2, 'multisequ': 1, 'talc': 1, 'hyperintens': 1, 'brachiocepahl': 1, 'ovarian': 1, 'frontali': 1, 'omentum': 1, 'pneumothorac': 2, 'deriv': 2, 'locula': 1, 'hyperostosi': 1, 'carcinomatosi': 1, 'falx': 1, 'jbre': 1, 'supratentori': 1, 'cerebri': 1, 'sac': 2, 'peron': 5, 'distr': 2, 'hyperecho': 4, 'pvt': 1, 'interav': 1, 'pelviectasi': 1, 'pml': 1, 'retrolisthesi': 1, 'cnsd': 1, 'emg': 1, 'axon': 1, 'hemosiderin': 1, 'fascial': 1, 'calciumacet': 1, 'anterolisthesi': 1, 'hypopnea': 1, 'speci': 1, 'synapt': 1, 'doppleralb': 1, 'prot': 2, 'schatzki': 1, 'myasthen': 1, 'comfor': 1, 'cololostomi': 1, 'nost': 1, 'schisto': 1, 'supratherapeuticleukocytosi': 1, 'erval': 1, 'curbsid': 1, 'hyperlipindemia': 1, 'gpro': 1, 'retroperi': 1, 'careplan': 2, 'tartrat': 3, 'pedicl': 1, 'llg': 1, 'excis': 1, 'arhb': 2, 'corynebacterium': 1, 'moh': 1, 'rssbi': 1, 'midbrain': 1, 'myopath': 1, 'dace': 1, 'cionsult': 1, 'cleanz': 1, 'ay': 1, 'extrathorac': 2, 'spondylolysi': 1, 'oyt': 1, 'cleaner': 3, 'polyneuropathi': 1, 'myoneuropathi': 1, 'anasara': 1, 'cnsc': 1, 'diphteheroid': 1, 'cvicu': 1, 'nag': 1, 'doss': 1, 'spp': 1, 'bill': 1, 'hyperchlorem': 1, 'circ': 1, 'rhochour': 1, 'myelopathi': 1, 'atnf': 1, 'phlegmon': 1, 'denerv': 1, 'ldn': 1, 'sticker': 1, 'axilari': 1, 'student': 2, 'prei': 1, 'usg': 1, 'takeback': 1, 'botul': 1, 'electrophysiolog': 1, 'hoars': 1, 'stump': 3, 'acr': 1, 'klebseilla': 1, 'jxkc': 2, 'hypotn': 1, 'vasculopathi': 1, 'psoa': 1, 'dess': 1, 'extubatd': 1, 'volit': 1, 'gprotein': 1, 'sensorimotor': 1, 'retrospect': 1, 'nj': 1, 'ti': 1, 'omit': 1, 'uncomfor': 1, 'cornebacterium': 1, 'proctectomi': 1, 'beard': 1, 'zolpidem': 1, 'dissynchron': 2, 'normoact': 2, 'cosamin': 1, 'conven': 1, 'ipd': 1, 'platpressur': 1, 'ascertain': 1, 'lmid': 1, 'dysycron': 1, 'excavatum': 1, 'dyschroni': 1, 'born': 1, 'suctionedx': 1, 'dysyncroni': 1, 'sytem': 1, 'ertapenem': 1, 'oversea': 1, 'mucormyst': 1, 'opporun': 1, 'pectu': 1, 'conssit': 1, 'spri': 1, 'benzonat': 1, 'painter': 1, 'avnrt': 2, 'currenltli': 1, 'inactiv': 1, 'nu': 1, 'reble': 1, 'inact': 2, 'desynchron': 3, 'soln': 1, 'msiv': 2, 'dirti': 2, 'desyncron': 1, 'sandblast': 1, 'omeprazol': 1, 'nf': 1, 'wore': 1, 'purplish': 1, 'woren': 1, 'nondil': 1, 'ih': 2, 'oragan': 1, 'obliter': 2, 'thoracostomi': 1, 'pneu': 1, 'ind': 1, 'enya': 2, 'sidehol': 2, 'pjp': 1, 'sarcoma': 1, 'extrapleur': 1, 'hyperextend': 1, 'kaposi': 1, 'pneumothrax': 1, 'jiroveci': 1, 'pneuomedistinum': 1, 'tdecreas': 1, 'buddist': 1, 'lactilub': 1, 'dyssynchroni': 2, 'proprofol': 1, 'crazi': 1, 'nystain': 1, 'dfe': 1, 'aprreci': 1, 'satsin': 1, 'persis': 2, 'bactim': 1, 'moth': 1, 'gancyclovir': 1, 'repron': 1, 'barrotrauma': 2, 'engulf': 1, 'voriconazol': 1, 'infx': 1, 'linazolid': 1, 'ggancyclovir': 1, 'nitrixoxid': 1, 'tve': 1, 'oscil': 1, 'fulfil': 1, 'radiopaqu': 3, 'dehydrogenas': 1, 'ou': 1, 'paralys': 1, 'hyp': 1, 'pnuemothorax': 1, 'ladi': 2, 'pretibi': 1, 'destat': 2, 'opthamolog': 1, 'nitrou': 1, 'intuab': 1, 'consistentlli': 1, 'pnemo': 1, 'xfuse': 1, 'psvlevel': 1, 'likey': 1, 'nitic': 1, 'unchangedand': 1, 'trale': 1, 'chemosi': 1, 'fenatanyl': 1, 'subconjunctiv': 1, 'visciou': 1, 'thrombin': 1, 'standpoint': 3, 'resudu': 1, 'interestingli': 1, 'inflitr': 1, 'cisastacurium': 1, 'succeed': 1, 'trali': 1, 'templ': 1, 'intervascularyli': 1, 'toleratedongo': 1, 'opthalmolog': 1, 'concur': 2, 'tolar': 1, 'treatabl': 1, 'sanquin': 1, 'retin': 1, 'recit': 1, 'reparalyz': 1, 'immunoglobulin': 1, 'conj': 1, 'attributbl': 1, 'plow': 1, 'idea': 1, 'mgc': 1, 'homodynam': 1, 'afrebril': 1, 'ecmo': 1, 'anteromedi': 1, 'valium': 2, 'llast': 1, 'reinflat': 1, 'bubl': 1, 'inchang': 1, 'cisaturcoruim': 1, 'xerofoam': 1, 'troli': 1, 'methados': 1, 'rotapron': 1, 'pie': 1, 'satt': 1, 'exce': 1, 'familiy': 1, 'opthal': 1, 'sildenafil': 1, 'chemiosi': 1, 'anu': 1, 'bileou': 1, 'exogen': 1, 'abscent': 1, 'gastriti': 1, 'serosangiun': 1, 'prome': 1, 'opciti': 1, 'flexicel': 1, 'phigh': 1, 'tfresidu': 1, 'parlyt': 1, 'cistastacurium': 1, 'gvh': 1, 'occaission': 1, 'biphas': 1, 'inspit': 3, 'mycafungin': 1, 'specialti': 1, 'endpoint': 1, 'applli': 1, 'pulmn': 1, 'diazepam': 1, 'deflat': 1, 'lamivudin': 1, 'dieresi': 1, 'cisastracurium': 1, \"c'ing\": 1, 'cheek': 1, 'streptococc': 1, 'bmtx': 1, 'cisatracurim': 1, 'biater': 1, 'cistacurium': 1, 'rota': 1, 'cist': 1, 'plo': 1, 'milli': 1, 'clorid': 1, 'south': 1, 'continuelactilub': 1, 'nimbex': 1, 'cistracurium': 1, 'arvp': 1, 'erythem': 1, 'cisctracurium': 1, 'tradit': 1, 'subjunctiv': 1, 'rotopron': 1, 'metolozon': 1, 'phi': 1, 'prove': 1, 'recom': 1, 'urostomi': 1, 'ileal': 1, 'idenitif': 1, 'ehab': 3, 'hydroureteronephrosi': 1, 'pbishop': 2, 'umbilicu': 1, 'accentu': 1, 'ercp': 3, 'pneumobilia': 2, 'cystectomi': 1, 'divers': 1, 'pbec': 2, 'oment': 1, 'outlet': 2, 'conduit': 1, 'kkgc': 3, 'noteworthi': 1, 'intrapulmonari': 1, 'tasp': 1, 'sniff': 1, 'listeria': 1, 'tardu': 1, 'verg': 1, 'meatal': 1, 'aprenchym': 1, 'enteroccoc': 1, 'parvu': 1, 'intracerebr': 1, 'malpost': 1, 'aji': 3, 'retrograd': 1, 'fasoli': 1, 'dna': 1, 'ureter': 1, 'aspf': 1, 'dtpa': 1, 'radiopharmaceut': 1, 'radlin': 1, 'maa': 1, 'discoveri': 2, 'plum': 1, 'mci': 1, 'internvet': 1, 'cessat': 1, 'intab': 1, 'pneumopericardium': 1, 'huddl': 2, 'inadvert': 1, 'upsiz': 2, 'unconsci': 1, 'baloon': 1, 'shorter': 1, 'caudal': 1, 'fingerbreadth': 1, 'venotomi': 2, 'thyromegali': 1, 'logic': 1, 'stabiol': 1, 'aquir': 1, 'cnii': 1, 'blossom': 1, 'xii': 1, 'scx': 1, 'bode': 1, 'wdwn': 1, \"'lyte\": 1, 'silloutt': 1, 'fouind': 1, 'costal': 2, 'natg': 3, 'intubatedclin': 1, 'diaphgram': 1, 'mjmgb': 3, 'intervertebr': 2, 'radicl': 1, 'chronicli': 1, 'psuedomona': 1, 'effu': 1, 'rarefact': 1, \"trach'd\": 1, 'hemidiaphragmat': 1, 'subpulmon': 1, 'atelectas': 2, 'cholestat': 2, 'technologist': 1, 'faiulr': 1, 'calculi': 1, 'retroaort': 1, 'bileaflet': 1, 'corticomedullari': 1, 'thechang': 1, 'distol': 1, 'habitu': 2, 'lltc': 1, 'gsenapati': 2, 'hemipelvi': 1, 'gmsj': 1, 'mxak': 1, 'recordspercodan': 1, 'enterococc': 1, 'suprastom': 1, 'hffm': 1, 'hp': 1, 'metoprol': 1, 'riesman': 1, 'patientpercodan': 1, 'augmentin': 1, 'hrct': 1, 'benadryl': 2, 'mra': 2, 'invalid': 2, 'embarrass': 1, 'percodan': 1, 'entercocci': 1, 'frapp': 1, 'eater': 1, 'inlaw': 1, 'anger': 1, 'disgust': 1, 'kleb': 1, 'angri': 1, 'metatstat': 1, 'paremet': 1, 'nsip': 2, 'afew': 1, 'itp': 2, 'bbl': 1, 'hypersentit': 1, 'neglect': 1, 'kyphoplasti': 2, 'orthostat': 2, 'ivt': 1, 'undercontrol': 1, 'autonom': 1, 'chocol': 1, 'usag': 1, 'nonvisu': 1, 'klebsiella': 2, 'calmli': 1, 'unasyn': 1, 'breakfast': 1, 'micron': 3, 'afrin': 1, 'oler': 1, 'cour': 1, 'noseble': 1, 'scoop': 1, 'sjorgen': 1, 'phargnx': 1, 'overfeed': 1, 'gentler': 1, 'salt': 1, 'rusb': 1, 'western': 1, 'pansensit': 1, 'uncultur': 1, 'egop': 1, 'cdb': 1, 'pharygx': 1, 'orang': 1, 'oer': 1, 'fuction': 1, 'banana': 1, 'pharygnx': 1, 'echhymosi': 1, 'polypectomi': 1, 'aspiraiton': 1, 'auditori': 1, 'unassist': 2, 'toung': 1, 'videoswallow': 1, 'cetuximab': 2, 'toprol': 2, 'mie': 1, 'safest': 1, 'appox': 1, 'rigth': 1, 'apporpri': 1, 'alevyn': 1, 'adeuqu': 1, 'whish': 1, 'metprolol': 1, 'failu': 1, 'scc': 1, 'alkylosi': 1, 'whitmil': 1, 'incorrectli': 1, 'hypecarb': 1, 'driven': 3, 'factori': 1, 'flut': 1, 'nasotrachi': 1, 'scca': 2, 'xl': 1, 'etco': 1, 'provd': 1, 'wrinkl': 1, 'modestli': 1, 'aorticopulmonari': 1, 'cardiomedistin': 1, 'situationclip': 1, 'fee': 1, 'periprosthesi': 1, 'nasonex': 1, 'patanol': 1, 'amiodoran': 1, 'ophthalm': 1, 'olopatadin': 1, 'hematemesi': 1, 'ec': 1, 'actuat': 1, 'benazepril': 1, 'proteas': 1, 'memantin': 1, 'gastroenter': 1, 'tolterodin': 2, 'capsul': 2, 'minist': 1, 'laryngoscopi': 1, 'hematemsi': 1, 'trazodon': 1, 'ultras': 1, 'chewabl': 1, 'ldl': 1, 'dirbili': 1, 'cisplatin': 1, 'vinorelbin': 1, \"'lcbi\": 1, 'cgi': 1, 'caltco': 1, 'carboplatin': 1, \"'lhbi\": 1, 'rdw': 1, 'baso': 1, 'pituitari': 1, \"'expand\": 1, 'trans': 1, 'totprot': 1, 'ld': 1, \"'lcba\": 1, 'microscop': 2, 'intubat': 1, 'mchc': 1, 'angap': 1, 'cholest': 1, 'gemcitabin': 1, 'erlotinib': 1, 'gender': 1, 'hdl': 1, 'african': 1, 'paclitaxel': 1, 'trig': 1, 'ldlcalc': 1, 'xs': 1, 'docetaxel': 1, 'intercost': 3, 'isoenzym': 1, 'ostelamavir': 1, 'bilirub': 1, 'totbili': 1, 'miscellan': 1, 'secretiion': 1, 'dipstick': 1, 'american': 1, 'ingrowth': 1, 'alkpho': 1, 'mch': 1, 'globuln': 1, 'ctropnt': 1, 'hypercholestolemia': 1, 'triglyc': 1, 'intuba': 1, 'intrepretor': 1, 'renalep': 1, 'hba': 1, 'calhco': 1, 'urean': 1, 'pravastatin': 1, 'mcv': 2, \"'lhbc\": 1, 'uricacd': 1, 'urobiln': 1, 'estgfr': 1, 'rohila': 1, 'magnum': 1, 'adepquatel': 1, 'def': 1, 'uptak': 1, 'callu': 1, 'rsrc': 1, 'calvari': 1, 'skeleton': 1, 'wing': 1, 'humeri': 1, 'adepqu': 1, 'convex': 2, 'myelomat': 1, 'symmetri': 1, 'shaft': 1, 'homogen': 1, 'occipit': 1, 'survey': 1, 'occiput': 1, 'cortex': 2, 'rulobectomi': 1, 'tumesc': 1, 'preoper': 2, 'postop': 2, 'bronchocentr': 1, 'txfr': 1, 'hydropneumothorac': 1, 'noncardiogen': 1, 'inth': 1, 'patter': 1, 'unenhanc': 1, 'preexist': 1, 'intersept': 1, 'lymphangiitc': 1, 'aert': 1, 'inctrabdomin': 1, 'densest': 1, 'artherosclerot': 1, 'cylindr': 1, 'lobular': 1, 'findingsd': 1, 'adynam': 1, 'akinet': 1, 'adenocarcinoma': 1, 'arthrosclerot': 1, 'descrb': 1, 'psuh': 1, 'gwp': 2, 'ifn': 1, 'arrythmogen': 1, 'agion': 1, 'vtac': 1, 'planof': 1, 'penia': 1, 'burgundi': 1, 'mailto': 1, 'scopalimin': 1, 'eith': 1, 'hcc': 2, 'loadind': 1, 'unlad': 1, 'biacrb': 1, 'resond': 1, 'infilitr': 1, 'decras': 1, 'asterixi': 2, 'azithromax': 1, 'threshod': 1, 'followng': 1, 'eco': 1, 'afig': 1, 'contritubt': 1, 'actiuv': 1, 'leart': 1, 'thrombocyto': 1, 'counsult': 1, 'hepato': 2, 'overestim': 1, 'bivent': 1, 'anmd': 1, 'inotrpi': 1, 'pleurisi': 1, 'plced': 1, 'hu': 1, 'dobutmain': 1, 'tachyacria': 1, 'rfa': 1, 'milder': 1, 'uncommon': 1, 'tachicard': 1, 'chirrhosi': 1, 'fkuid': 1, 'intrtstitium': 1, 'adj': 1, 'patellar': 2, 'bicep': 2, 'cardriovers': 1, 'veal': 1, 'cale': 1, 'friabl': 1, 'childbirth': 1, 'debril': 1, 'haematuria': 1, 'conult': 1, 'cub': 1, 'blou': 1, 'heptaolog': 1, 'asmi': 1, 'gwlm': 1, 'perocardium': 1, 'coagulopath': 1, 'hemodyanm': 1, 'ib': 1, 'despiti': 1, 'mantia': 1, 'hpeatolog': 1, 'benedryl': 1, 'intrathec': 1, 'fbca': 2, 'squeak': 1, 'arteriogram': 2, 'comfot': 1, 'myocardium': 1, 'ba': 1, 'reattampt': 1, 'deploy': 1, 'fami': 1, 'cauteri': 1, 'sel': 1, 'palpatori': 2, 'paient': 1, 'angiogram': 1, 'prnbolus': 1, 'requrin': 1, 'argonn': 1, 'embospher': 2, 'hosptil': 1, 'defend': 1, 'blush': 2, 'engin': 1, 'grate': 1, 'vie': 1, 'tragic': 1, 'argon': 1, 'discount': 1, 'couter': 1, 'bandaid': 1, 'laptop': 1, 'fantanyl': 1, 'particl': 2, 'hemopysi': 1, 'shitft': 1, 'intervenet': 1, 'bleeder': 1, 'epidur': 1, 'older': 1, 'wqent': 1, 'cauter': 1, 'metasta': 1, 'lexipro': 1, 'hctthi': 1, 'supersel': 1, 'duculox': 1, 'behe': 1, 'ecopi': 1, 'backup': 1, 'notiif': 1, 'guafenisen': 1, 'viser': 1, 'flux': 1, 'rhonchj': 1, 'ly': 1, 'nest': 1, 'scapolamin': 1, 'reinstutu': 1, 'embo': 2, 'microcathet': 1, 'aortogram': 1, 'cannul': 1, 'cervicocerbr': 1, 'trancathet': 1, 'hemopytsi': 1, 'omniflush': 1, 'hyperexpand': 1, 'apicoposterior': 1, 'stc': 1, 'hyperexpans': 1, 'super': 2, 'mammari': 1, 'renegad': 1, 'gynecomastia': 1, 'semiupright': 1, 'dlp': 2, 'infero': 1, 'collom': 1, 'noncompress': 1, 'sjbj': 1, 'vetil': 1, 'schizoaffect': 1, 'congestiona': 1, 'mgi': 2, 'cirhhosi': 1, 'dophoff': 1, 'apoptot': 1, 'creatnin': 1, 'vicryl': 2, 'arterioven': 1, 'nasointestin': 1, 'pnumothorax': 1, 'exch': 2, 'cirrhot': 1, 'tonsillectomi': 1, 'colonoscopi': 1, 'pneomothorax': 1, 'chgc': 2, 'steatosi': 1, 'emant': 1, 'endarterectomi': 1, 'avm': 3, 'chylothorax': 1, 'anesthet': 2, 'perisept': 1, 'hepatocyt': 1, 'precip': 1, 'pd': 2, 'multiphas': 1, 'eg': 1, 'birth': 2, 'heterozyg': 1, 'sinusoid': 1, 'chylou': 1, 'angiodynam': 2, 'avalu': 1, 'cha': 1, 'antitrypsin': 1, 'text': 1, 'girth': 1, 'periodclip': 1, 'mlkb': 3, 'mononuclear': 1, 'peelaway': 1, 'malform': 1, 'hfe': 1, 'cryo': 1, 'ssuspect': 1, 'vareci': 1, 'octeotrid': 1, 'cryptogen': 1, 'trichrom': 1, 'hemachromatosi': 1, 'mangement': 1, 'sydrom': 1, 'simvastain': 1, 'ergotamin': 1, 'disas': 1, 'lllinfiltr': 1, 'suppliment': 1, 'infction': 1, 'cae': 1, 'rheumat': 1, 'paroxetin': 1, 'mitrial': 1, 'pivot': 1, 'flet': 1, 'sputem': 1, 'coronoari': 1, 'lateri': 1, 'losartan': 1, 'arenon': 1, 'dteremin': 1, 'parapneumonia': 1, 'donepzil': 1, 'paxil': 1, 'prusu': 1, 'conern': 1, 'vasodilatori': 1, 'ureathr': 1, 'maalox': 1, 'centru': 1, 'deduct': 2, 'premier': 1, 'dysarthria': 1, 'mediatin': 1, 'intfiltr': 1, 'meanin': 1, 'oncot': 1, 'calv': 2, 'intersiti': 3, \"lft'\": 1, 'dispar': 1, 'artifactu': 2, 'refrain': 1, 'crestor': 1, 'grandaught': 1, 'tachcardia': 1, 'nicat': 1, 'filament': 1, 'alten': 1, 'lambl': 1, 'ntnd': 2, 'sugget': 1, 'vaco': 1, 'excres': 1, 'financ': 1, 'angina': 1, 'tng': 1, 'medoic': 1, 'humidif': 1, 'biotic': 1, 'depr': 1, 'invok': 1, 'effis': 1, 'hc': 1, 'promiment': 1, 'insent': 1, 'thirst': 1, 'asymmet': 1, 'paint': 1, 'halv': 1, 'recordsno': 1, 'unstaedi': 1, 'nonerythemat': 1, 'medialstin': 1, 'hemi': 2, 'wheezez': 1, 'shore': 1, 'wander': 1, 'succinyulcholin': 1, 'enifit': 1, 'evlaut': 1, 'periaort': 1, 'kump': 1, 'upr': 1, 'pelvocalic': 1, 'hemoperitoneum': 1, 'calculu': 1, 'meastat': 1, 'paramediastin': 1, 'negoti': 1, 'consciou': 1, 'gmpd': 1, 'trak': 1, 'larazepam': 1, 'vancopmycin': 1, 'peristals': 1, 'thoroughli': 1, 'compars': 1, 'mate': 1, 'frog': 1, 'pleae': 1, 'trachestomi': 1, 'cjmt': 1, 'mycetoma': 1, 'trapezoid': 1, 'myocytoma': 1, 'ununit': 1, 'nephrot': 1, 'precedex': 1, 'polydipsia': 1, 'mycobacterium': 1, 'dexmedetomidin': 1, 'acuiti': 1, 'salmon': 1, 'wretch': 1, 'intot': 1, 'calcitonin': 1, 'lightheaded': 1, 'fati': 1, 'satisfact': 1, 'undiagnos': 1, 'undecid': 1, 'welcom': 1, 'nep': 1, 'isusu': 1, 'nifedipin': 1, 'avium': 1, 'besyl': 1, 'mac': 2, 'miacalcin': 1, 'spondylosi': 1, 'pda': 2, 'minimz': 1, 'driver': 1, 'cortosol': 1, 'solmederol': 1, 'bronchopleur': 2, 'fluild': 1, 'amidaron': 1, 'bronchopulmonari': 1, 'disinclin': 1, 'detal': 1, 'stabilil': 1, 'dehis': 1, 'reasaon': 1, 'admidaton': 1, 'coll': 1, 'exel': 1, 'bronchopneumonectomi': 1, 'amiodarin': 1, 'hyperpotassemia': 1, \"leni'\": 1, 'azythro': 1, 'rough': 1, 'pnenmonectomi': 1, 'squameou': 1, 'spectral': 1, 'uni': 1, 'repiatori': 1, 'cea': 2, 'dermat': 1, 'althoug': 1, 'pite': 1, 'uncomfortbal': 1, 'tommorow': 1, \"family'\": 1, 'hypoton': 1, 'solumedtrol': 1, 'secrit': 1, 'pege': 1, 'extract': 2, 'roadtrip': 1, 'hypertent': 1, 'conisd': 1, 'aarom': 1, 'rsvi': 1, 'reclarifi': 1, 'tingu': 1, 'lmn': 1, 'unspeci': 1, 'tremiti': 1, 'prom': 1, 'subglottal': 1, 'ers': 1, 'clinical': 1, 'axtreonam': 1, 'thereof': 1, 'tachynpea': 1, 'intersti': 2, 'ventiat': 1, 'loudest': 1, 'unrespos': 1, 'maintiain': 1, 'midax': 1, 'presenti': 1, 'cxc': 1, 'closelyt': 1, 'tyloenol': 1, 'gtibe': 1, 'sedret': 1, 'arom': 1, 'indefinit': 1, 'neet': 1, 'mmt': 1, 'emphasi': 1, 'ywca': 1, 'exac': 1, 'faclid': 1, 'yoga': 1, 'depenc': 1, 'dhghfhdlhkl': 1, 'lactalos': 1, 'updatefamili': 1, 'respriatori': 1, 'mute': 1, 'vvia': 1, 'mmdri': 1, 'xcray': 1, 'derang': 1, 'anaphylaxi': 1, 'arranag': 1, 'defintit': 1, 'currentt': 1, 'simultaen': 1, 'mimic': 2, 'ascrib': 1, 'desaturateion': 1, 'hemodyanam': 1, 'disintigr': 1, 'memeb': 1, 'locomot': 1, 'acidosisi': 1, 'monitorec': 1, 'resussit': 1, 'reconfirm': 1, 'reticularnodular': 1, 'enitr': 1, 'performac': 1, 'aztreonum': 1, 'atrio': 2, 'tbm': 1, 'juxtahilar': 1, 'fev': 1, 'hemoptisi': 1, 'tropi': 1, 'thallasemia': 1, 'revealedt': 1, 'airborn': 2, 'mutlifoc': 1, 'ctr': 2, 'unrepons': 1, 'donepizil': 1, 'thalassemia': 1, 'alkalos': 1, 'calvaria': 1, 'tuberculosi': 2, 'ileocec': 1, 'nari': 1, 'stom': 1, 'dental': 1, 'crown': 1, 'pector': 2, 'gunshot': 1, 'radio': 1, 'opaqu': 1, 'comtinu': 1, 'myasthenia': 1, 'tendon': 1, 'baslin': 1, 'liekli': 1, 'blancheabl': 1, 'reaccess': 1, 'uppper': 1, 'gangren': 1, \"alzheimer'\": 1, 'grape': 1, 'brachioradiali': 1, 'antacid': 1, 'downtrend': 1, 'iddm': 1, 'zyosyn': 1, 'novolin': 1, 'aspiratin': 1, 'hospis': 1, 'respodn': 1, 'cafeteria': 1, 'pulsat': 1, 'antidot': 1, 'pmb': 1, 'magnesia': 1, 'resorpt': 1, 'thrussh': 1, 'pigment': 1, 'steadal': 1, 'pyridostigmin': 1, 'presistantli': 1, 'dti': 1, 'cart': 1, 'protamin': 1, 'pneumotharax': 1, 'subcutaen': 1, 'peumothorax': 1, 'hyperemia': 1, 'conceiv': 1, 'proc': 1, 'reidentifi': 1, 'pw': 1, 'cervicothorac': 1, 'subseg': 1, 'slice': 1, 'rjab': 1, 'smooth': 1, 'interlobular': 1, 'nmka': 1, 'circular': 1, 'rahni': 1, 'atrioventricular': 1, 'arter': 1, 'targetoid': 1, 'tel': 1, 'suprasellar': 1, 'scalp': 1, 'cryptococcosi': 1, 'perpher': 1, 'cryptococcu': 1, 'likel': 1, 'diag': 1, 'streptococcu': 1, 'tdi': 1, 'subactu': 1, 'arthralgia': 1, 'respirophas': 1, 'nob': 1, 'donor': 2, 'irrhythm': 1, 'sugggest': 1, 'grant': 1, 'pulmnonari': 1, 'mbi': 1, 'twelv': 1, 'arrthym': 1, 'ventilaiton': 1, 'abdomn': 1, 'midazalam': 1, 'andcvc': 1, 'maximin': 1, 'thickedn': 1, 'tomak': 1, 'dissoci': 1, 'muscos': 1, 'friablilti': 1, 'inter': 1, 'friabil': 1, 'afp': 1, 'mtb': 1, 'ndg': 1, 'kitchen': 1, 'critaid': 1, '$': 1, 'sulfameth': 1, 'lover': 1, 'echymos': 1, 'trimetoprim': 1, 'dollar': 1, 'emv': 1, 'leve': 1, 'settign': 1, 'burn': 1, 'prodiv': 1, 'pcr': 1, 'macer': 1, 'corticosteroid': 1, 'transpulmon': 1, 'lowerin': 1, 'scrap': 1, 'chrnic': 1, 'frompt': 1, 'sphincterotomi': 1, 'intrpulmonari': 1, 'hme': 1, 'rhoncrou': 1, 'fibriogen': 1, 'choledocolithiasi': 1, 'bmv': 1, 'splenomeg': 1, 'mivf': 1, 'myelosuppress': 1, 'sah': 1, 'sdh': 1, 'flight': 1, 'wellbutrin': 1, 'aphac': 1, 'usus': 1, 'mwf': 1, 'underwhelm': 1, 'cce': 1, 'dimension': 1, 'llb': 1, 'unclot': 1, 'atheromat': 1, 'npne': 1, 'goutm': 1, 'gadolinium': 1, 'paresi': 1, 'salvag': 1, 'prozac': 1, 'tall': 1, 'arteriographi': 1, 'panc': 1, 'cyberknif': 1, 'fuel': 1, 'worsten': 1, 'pmeumonia': 1, 'hydromorphon': 1, 'umb': 1, 'colicki': 1, 'gemzar': 1, 'macrolid': 1, 'patientpenicillin': 1, 'inn': 1, 'gastroparesi': 1, 'rhonchu': 1, 'dalilah': 1, 'mucinex': 1, 'perspect': 1, 'guaifenisin': 1, 'failuir': 1, 'lypmhangit': 1, 'summar': 1, 'sicua': 1, 'bedisd': 1, 'bedsidepronounc': 1, 'spb': 1, 'im': 1}, 'pneumonia_alive': {'desensit': 3, 'tv': 157, 'edema': 741, 'stabl': 791, 'sinu': 725, 'height': 490, 'cardiomyopathi': 41, 'weight': 528, 'consist': 636, 'pleasant': 204, 'ns': 360, 'tte': 305, 'pmh': 390, 'lt': 128, 'trip': 17, 'around': 300, 'seen': 785, 'use': 521, 'white': 329, 'neg': 494, '(': 1005, 'social': 494, 'base': 779, 'toler': 634, 'new': 697, 'estim': 171, 'cooper': 284, 'abd': 599, 'green': 106, 'current': 625, 'gait': 73, 'year': 906, 'color': 475, 'rr': 626, 'pleas': 669, 'eat': 204, 'ob': 89, 'possibl': 682, 'patient': 869, 'take': 439, 'sampl': 146, 'pericardi': 407, 'amber': 107, 'throughout': 532, 'dilat': 415, 'nutrit': 375, 'structur': 370, 'comparison': 767, 'cv': 669, '&': 759, 'ox': 221, 'juic': 28, 'team': 493, 'appl': 39, 'biaxin': 1, 'chang': 980, 'effus': 838, 'mm': 558, 'today': 664, 'rel': 184, 'haart': 18, 'intak': 235, 'full': 650, 'hr': 808, 'weak': 310, 'sign': 496, 'suspici': 170, 'rf': 23, 'levo': 181, 'futher': 19, 'treat': 397, 'variant': 37, 'drink': 134, 'qualiti': 322, 'n': 409, 'singl': 426, 'liver': 260, 'bracial': 1, 'abnorm': 515, 'thicken': 411, 'le': 183, 'ground': 177, 'discomfort': 230, 'bowel': 570, 'bedsid': 352, 'occasion': 328, 'diff': 222, 'lytic': 133, 'pcp': 148, 'consult': 357, 'extent': 138, 'chf': 330, 'daughter': 231, 'lesion': 363, 'bpm': 529, 'famili': 591, 'fluid': 718, 'kidney': 248, 'bs': 596, 'effect': 461, 'diagnost': 225, 'examin': 921, 'gallbladd': 166, 'access': 497, 'test': 388, 'delay': 162, 'sclerot': 105, 'regurgit': 278, 'urg': 6, 'mitral': 313, 'attenu': 67, 'physiolog': 185, 'endstag': 1, 'tendon': 13, 'earli': 270, 'contraind': 360, 'systol': 480, 'ok': 172, '@': 435, 'interpret': 326, 'regular': 358, 'u': 574, 'asymptomat': 85, 'iv': 811, 'also': 734, 'pvc': 241, 'intact': 442, 'bibasilar': 301, 'tach': 49, 'contact': 358, 'report': 934, 'depress': 232, 'gerd': 83, 'predominantli': 96, 'right': 972, 'pubi': 5, 'lack': 97, 'persist': 524, 'p': 844, 'cont': 719, 'lb': 256, 'studi': 754, 'avoid': 138, 'bilater': 719, 'thick': 542, 'hypertens': 428, 'afebril': 541, 'compar': 793, 'blood': 576, 'clamp': 74, 'alert': 514, 'size': 685, 'exclud': 382, 'ale': 9, 'moder': 648, 'septic': 100, 'normal': 849, 'symphysi': 46, 'opac': 661, 'f': 494, 'patchi': 212, 'lead': 345, 'circumferenti': 23, 'stool': 632, 'night': 460, 'adren': 175, 'typhliti': 3, 'lung': 903, 'pcv': 7, 'leak': 165, 'limit': 539, 'result': 579, 'higher': 117, 'ventricl': 350, 'defin': 95, 'mark': 273, 'larg': 562, ']': 427, 'infarct': 248, 'harrt': 2, 'ambien': 41, 'note': 885, 'evalu': 778, 'small': 773, 'prespar': 2, 'non': 755, 'grade': 205, 'baselin': 432, 'need': 683, 'urin': 669, 'obtain': 651, 'trace': 670, 'sputum': 549, 'bp': 760, 'concern': 483, 'within': 541, 'nausea': 204, 'initi': 447, 'id': 418, 'puls': 532, 'anoth': 175, 'better': 415, 'aortic': 391, 'glass': 179, 'protocol': 188, 'w': 820, 'underli': 290, 'ef': 158, 'flatten': 41, 'pr': 204, 'thrombu': 131, 'appetit': 139, 'vtach': 12, 'remain': 738, 'tr': 245, 'inform': 489, 'echocardiograph': 98, 'breath': 645, '%': 832, 'pelvi': 178, 'interv': 673, 'clear': 782, 'qd': 121, 'collect': 164, 'reason': 873, 'therapi': 300, 'valv': 370, 'cx': 390, 'ab': 79, 'cours': 437, 'global': 176, 'motion': 364, 'amount': 496, 'dose': 572, 'tx': 307, 'amt': 540, 'pass': 292, 'induc': 87, 'mother': 102, 'date': 670, 'mildli': 409, 'axial': 254, 'prior': 824, 'suggest': 582, 'ambul': 163, 'renal': 372, 'integ': 65, 'hemodynam': 487, 'reconstruct': 68, 'one': 486, 'process': 392, 'cardiac': 664, 'port': 348, 'sat': 722, 'gi': 567, 'gu': 460, 'assist': 375, 'precordi': 101, 'previou': 774, 'ct': 617, 'wall': 437, 'caviti': 320, 'sip': 118, 'clip': 821, 'airspac': 127, 'infecti': 232, 'ever': 9, 'adjust': 182, 'abx': 483, 'hypokinesi': 93, 'sound': 587, 'plan': 683, 'cough': 676, 'loos': 232, 'correl': 281, 'statu': 861, 'fals': 14, 'clindamycin': 37, 'transfer': 630, 'secondari': 331, 'probabl': 459, '[': 430, 'soft': 703, 'diagnosi': 851, 'day': 675, 'yr': 153, 'call': 554, 'pic': 84, 'spec': 121, 'sauc': 23, 'ep': 28, 'boost': 29, 'elev': 528, 'area': 552, 'could': 493, 'chair': 325, 'affect': 91, 'perspect': 7, 'absent': 249, 'pressur': 447, 'md': 523, 'sleep': 398, 'mass': 319, 'repres': 405, 'hg': 305, 'outpati': 135, 'pericardium': 257, 'x': 771, 'admit': 928, 'decreas': 604, 'find': 853, 'exam': 513, 'nurs': 527, 'stay': 197, 'thi': 1024, 'adequ': 525, 'ventricular': 491, 'tachycardia': 390, 'foley': 541, 'indic': 849, 'pancrea': 158, 'due': 678, 'focus': 50, 'bladder': 172, 'micu': 575, 'leaflet': 273, 'oob': 352, 'strand': 47, 'unremark': 350, 'leav': 107, 'skin': 664, 'margin': 125, 'dyspnea': 328, 'pedal': 140, 'command': 522, 'mr': 402, 'cathet': 501, 'etiolog': 234, 'requir': 554, 'medic': 956, 'felt': 164, 'nuero': 22, 'per': 617, 'c': 778, 'mdct': 152, 'rare': 188, 'histori': 810, 'follow': 720, 'aid': 96, 'npo': 408, 'crf': 26, 'lab': 577, 'unsteadi': 21, 'pend': 497, 'back': 537, 'pleural': 753, 'pm': 869, 'antibiot': 485, 'otherwis': 429, 'yesterday': 453, 'tachycard': 175, 'l': 763, 'allerg': 27, 'review': 599, 'nontend': 94, 'osseou': 210, 'greater': 256, 'mg': 632, 'doppler': 388, '>': 710, 'ectopi': 402, 'final': 876, 'without': 687, 'crackl': 389, 'st': 515, 'liquid': 342, 'ginger': 8, 'sptum': 2, 'spleen': 186, 'imag': 721, 'overload': 256, 'palpabl': 159, 'hiv': 63, 'picc': 378, ')': 1005, 'bone': 218, 'progress': 612, 'anterior': 345, 'upper': 731, 'minim': 527, 'low': 709, 'myocardi': 168, 'woman': 385, 'view': 511, \"'s\": 711, 'cc': 645, 'onc': 306, 'colon': 169, 'onset': 93, 'balanc': 401, 'ill': 271, 'old': 918, 'artifact': 182, 'cranberri': 4, 'cold': 50, 'ate': 46, 'free': 499, 'atrium': 362, 'abdomen': 553, 'evid': 702, 'cxr': 545, 'patent': 424, 'qr': 107, 'cap': 163, 'tamponad': 47, 'wa': 905, 'multipl': 514, 'r': 770, 'caridomyopathi': 1, 'sent': 561, 'inflammatori': 87, 'hypotens': 319, 'line': 733, 'gland': 145, 'allow': 210, 'anasarca': 74, 'product': 536, 'npn': 284, 'prophylaxi': 349, 'pnd': 98, 'yellow': 491, 'condit': 875, 'voltag': 155, 'diffus': 438, '#': 982, 'technic': 304, 'lasix': 354, 'ra': 381, 'sagitt': 161, 'gener': 547, 'coars': 409, 'deni': 453, 'reaction': 314, 'nsg': 167, 'rest': 457, 'tissu': 284, 'resp': 651, 'overnight': 490, 'sob': 532, 'output': 334, 'pt': 729, 'none': 536, 'sever': 621, 'specif': 362, 'time': 801, 'tricuspid': 262, 'eve': 109, 'side': 609, 'hungri': 35, 'hsv': 16, 'ha': 906, 'start': 572, 'request': 267, 'feel': 316, 'slightli': 559, 'sm': 207, 'cardiomegali': 256, 'pattern': 282, 'mac': 12, 'rv': 258, 'orient': 503, 'atelectasi': 533, 'med': 597, 'left': 971, 'high': 490, 'contrast': 593, 'femal': 269, 'signific': 605, 'law': 35, 'poor': 441, 'pneumonia': 939, 'mild': 707, 'neuro': 569, 'good': 567, 'may': 654, 'window': 181, 'conclus': 290, 'last': 583, 'diminish': 486, 'anzemet': 6, 'coliti': 50, 'frothi': 41, 'presenc': 112, 'continu': 724, 'wors': 177, 'festiv': 1, 'system': 432, 'enlarg': 430, 'temp': 382, 'increas': 822, 'admiss': 437, 'tmax': 459, 'bactrim': 77, 'clinic': 587, 'watch': 107, 'lv': 245, 'abdomin': 444, 'shift': 551, 'ls': 460, 'po': 648, 'coron': 171, 'veri': 539, 'limb': 131, 'although': 384, 'br': 22, 'place': 726, 'administr': 243, 'much': 359, 'ivf': 453, 'failur': 476, 'dri': 352, 'bsa': 236, 'v': 392, 'commod': 94, 'abl': 525, 'sepsi': 230, 'pulmonari': 827, 'event': 483, 'larger': 110, 'secret': 435, 'excurs': 79, 'rt': 262, 'fe': 35, 'site': 295, 'techniqu': 515, 'pa': 418, 'rhythm': 656, 'involv': 293, 'midnight': 156, 'strength': 164, 'antecub': 23, 'unabl': 451, 'impress': 852, 'wave': 411, 'code': 583, 'field': 318, 'comment': 461, 'remov': 471, 'monitor': 688, 'pulmon': 188, 'show': 508, 'major': 144, 'difficulti': 326, 'frequent': 374, 'copiou': 159, 'mid': 569, 'see': 526, 'uo': 226, 'pain': 680, 'state': 377, 'arteri': 625, 'implic': 42, 'pre': 229, 'region': 402, 'extens': 304, 'gradient': 194, 'lvh': 100, 'heart': 738, 'atrial': 417, 'hodgkin': 7, 'cavoatri': 115, 'multifoc': 226, 'lymphoma': 24, 'coexist': 12, 'prematur': 157, 'transesophag': 14, 'preserv': 124, 'level': 604, 'la': 229, 'recommend': 407, 'supraventricular': 24, 'prolaps': 121, 'aorta': 412, 'trivial': 171, 'exist': 128, 'ap': 749, 'contract': 104, 'stabil': 107, 'sinc': 788, 'silhouett': 382, 'chest': 929, 'bioprosthet': 15, 'pad': 83, 'fat': 82, 'mat': 12, 'suprastern': 4, 'echocardiographi': 18, 'borderlin': 221, 'septum': 219, 'prosthesi': 32, 'biventricular': 75, 'appear': 821, 'avr': 21, 'locul': 114, 'tee': 49, 'mvp': 100, 'fever': 470, 'symmetr': 305, 'fibril': 200, 'h': 558, 'pneumothorax': 545, 'radiograph': 592, 'end': 273, 'lvef': 277, 'hypertrophi': 176, 'present': 850, 'similar': 264, 'aha': 44, 'lvot': 159, 'portabl': 784, 'interatri': 211, 'best': 84, 'thre': 2, 'echo': 308, 'annular': 105, 'placement': 561, 'though': 361, 'man': 516, 'inpati': 257, 'space': 191, 'promin': 349, 'diamet': 242, 'cm': 604, 'unchang': 787, 'retrocardiac': 231, 'endocard': 96, 'complet': 524, 'suboptim': 149, 'like': 713, 'junction': 229, 'decis': 169, 'function': 452, 'fascicular': 52, 'block': 184, 'ps': 318, 'chamber': 203, 'ascend': 203, 'calcif': 325, 'ray': 232, 'rate': 660, 'surgeri': 347, 'diseas': 456, 'data': 553, 'regard': 224, 'nif': 20, 'male': 344, 'post': 566, 'know': 138, 'suitabl': 25, 'hemo': 15, 'intervent': 192, 'diminsh': 54, 'light': 178, 'drift': 34, 'tent': 181, 'peep': 262, 'secrect': 17, 'bilat': 330, 'ventil': 296, 'appli': 289, 'respons': 548, 'anti': 92, 'immobl': 14, 'updat': 336, 'past': 361, 'ho': 139, 'spike': 154, 'hemmodynam': 1, 'special': 19, 'dopa': 17, 'aspir': 466, 'gag': 169, 'convers': 130, 'aerat': 206, 'stat': 54, 'venipunctur': 12, 'nutren': 76, 'carevu': 225, 'vari': 55, 'pna': 714, 'mcg': 253, 'word': 126, 'irrig': 34, 'transpar': 20, 'sourc': 255, 'period': 245, 'toller': 20, 'apneic': 38, 'get': 420, 'held': 307, 'brown': 254, 'sedat': 322, 'rm': 24, 'paus': 27, 'ess': 13, 'lowest': 18, 'cvbg': 1, 'granddaught': 11, 'tf': 441, 'asleep': 143, 'perrl': 275, 'rang': 295, 'disscuss': 5, 'spo': 438, 'acidosi': 109, 'blister': 47, 'aggress': 197, 'alarm': 102, 'sl': 147, 'seal': 71, 'th': 93, 'modifi': 18, 'volum': 491, 'vss': 153, 'occlud': 24, 'tan': 230, 'dist': 21, 'wob': 77, 'make': 313, 'becom': 246, 'remark': 57, 'care': 655, 'seet': 1, 'awak': 330, 'spontan': 273, 'deceas': 5, 'mode': 200, 'criteria': 102, 'tracheostomi': 149, 'alreadi': 99, 'speek': 3, 'boot': 212, 'rilutek': 1, 'advanc': 379, 'fusion': 27, 'muscl': 224, 'hct': 498, 'meropenum': 32, 'compress': 255, 'flush': 219, 'neuromuscular': 12, 'eye': 367, 'room': 257, 'sxed': 5, 'medial': 100, 'lidocain': 128, 'doe': 546, 'blb': 27, 'freq': 159, 'meropenem': 64, 'awaken': 49, 'pedi': 38, 'whole': 73, 'teen': 128, 'latest': 305, 'commun': 446, 'superior': 203, 'inhal': 138, 'lami': 3, 'tripl': 94, 'co': 372, 'reach': 116, 'fio': 469, 'less': 470, 'waken': 8, 'reassess': 86, 'well': 813, 'touch': 121, 'let': 61, 'equal': 147, 'medecin': 1, 'distal': 317, 'compens': 62, 'heal': 103, 'normalizes': 1, 'loss': 237, 'success': 213, 'nuten': 2, 'flowsheet': 440, 'vol': 125, 'neruo': 8, 'control': 466, 'carri': 12, 'insomnia': 24, 'peg': 172, 'rehab': 252, 'drain': 586, 'french': 108, 'ten': 15, 'pink': 147, 'fluse': 2, 'q': 552, 'previous': 317, 'maneuv': 43, 'requisit': 6, 'written': 115, 'lift': 104, 'pick': 72, 'close': 327, 'hco': 49, 'pale': 149, 'somnul': 7, 'arous': 232, 'sicu': 119, 'arm': 304, 'howev': 495, 'ativan': 185, 'bronchodil': 74, 'clot': 149, 'drawn': 192, 'nonspecif': 107, 'xylocain': 1, 'emg': 10, 'satisfactori': 104, 'tourniquet': 3, 'onto': 45, 'fluor': 17, 'east': 20, 'ascertain': 8, 'nose': 232, 'intial': 21, 'recent': 559, 'cava': 109, 'ask': 258, 'peripher': 475, 'cvp': 175, 'centr': 2, 'capac': 50, 'obey': 35, 'bed': 499, 'basil': 114, 'await': 347, 'duoderm': 69, 'confirm': 334, 'devic': 416, 'earlier': 322, 'hi': 483, 'got': 141, 'draw': 147, 'move': 380, 'selding': 4, 'va': 72, 'respect': 62, 'sx': 214, 'ring': 35, 'abp': 83, \"'d\": 324, 'guidewir': 81, 'achiev': 70, 'ortho': 18, 'servic': 395, 'unless': 71, 'distend': 389, 'supin': 248, 'ij': 205, 'ir': 109, 'vancomycin': 277, 'labil': 85, 'given': 728, 'sch': 100, 'lavag': 65, 'bolu': 354, 'tingl': 51, 'movement': 416, 'lumen': 246, 'intermitt': 268, 'vent': 279, 'tender': 386, 'altern': 118, 'sulfat': 118, 'portex': 61, 'turn': 341, 'multipodu': 25, 'anxiou': 228, 'certain': 15, 'fashion': 84, 'hypercarbia': 42, 'mainli': 21, 'longterm': 10, 'longer': 184, \"o'clock\": 4, 'remeron': 6, 'mip': 9, 'button': 18, 'careview': 109, 'notifi': 191, 'douderm': 9, 'neck': 249, 'lower': 759, 'trazadon': 33, 'english': 49, 'nbp': 135, 'leg': 228, 'suction': 336, 'goal': 394, 'simv': 24, 'cpt': 219, 'oligur': 19, '<': 316, 'reposit': 226, 'still': 454, 'statlock': 25, 'bolus': 252, 'mmv': 28, 'receiv': 600, 'approxim': 245, 'worsen': 516, 'morn': 372, 'vbg': 50, 'oclock': 1, 'brufen': 1, 'susp': 7, 'respiratori': 647, 'ultrasound': 268, 'point': 265, 'drainag': 198, 'rue': 67, 'usual': 187, '``': 301, 'ani': 515, 'wheez': 400, 'encourag': 329, 'venodyn': 21, 'subclavian': 216, 'vt': 213, 'risk': 270, 'alter': 200, 'tabl': 70, 'asynchron': 4, 'acid': 241, 'dual': 47, 'albuterol': 288, 'nova': 4, 'overlaid': 2, 'rhonchor': 169, 'ph': 146, 'motrin': 30, 'top': 111, 'next': 280, 'tlcl': 34, 'tube': 539, 'proxim': 172, 'refus': 152, 'seem': 264, 'wasreat': 1, 'detail': 278, 'agress': 31, 'exercis': 63, 'transport': 138, 'moment': 19, 'geet': 1, 'water': 234, 'al': 12, 'angiographi': 45, 'made': 523, 'difficult': 376, 'bag': 116, 'cpap': 253, 'repeat': 425, 'semi': 128, 'brief': 121, 'afer': 2, 'rig': 1, 'frustrat': 34, 'complic': 317, 'procedur': 497, 'staff': 148, 'ms': 303, 'abras': 70, 'seveal': 1, 'ltc': 3, 'address': 100, 'vein': 357, 'awok': 37, 'weaker': 16, 'speech': 262, 'problem': 215, 'analysi': 100, 'onli': 469, 'lobe': 666, 'bm': 396, 'scant': 164, 'prolong': 208, 'yo': 382, 'brush': 8, 'includ': 524, 'soon': 100, 'maintain': 450, 'becam': 237, 'descript': 45, 'blue': 29, 'scat': 6, 'central': 380, 'approach': 93, 'resolv': 398, 'flouroscop': 11, 'rhoncher': 45, 'read': 395, 'visit': 322, 'mucu': 59, 'fib': 137, 'realli': 42, 'dopamin': 23, 'hand': 216, 'second': 167, 'monday': 106, 'facil': 120, 'respeat': 1, 'softli': 73, 'long': 255, 'insicion': 1, 'reflex': 92, 'send': 168, 'week': 276, 'siginificantli': 2, 'rul': 166, 'acut': 596, 'voic': 230, 'sbp': 421, \"tf'ing\": 10, 'becaus': 176, 'ac': 212, 'often': 60, 'mani': 102, 'speak': 228, 'chronic': 454, 'withou': 2, 'lip': 114, 'set': 565, 'transient': 137, 'yankour': 4, 'noc': 143, 'two': 358, \"'\": 157, 'posit': 668, 'question': 455, 'sxing': 48, 'respir': 103, 'oral': 456, 'lo': 153, 'novac': 1, 'icu': 479, 'son': 263, 'anatomi': 19, 'universla': 1, 'max': 262, 'lido': 12, 'bell': 21, 'anesthesia': 154, 'residu': 355, 'mostli': 167, 'mandatori': 2, 'nd': 228, 'tenaci': 27, 'deliv': 16, 'extern': 41, 'worn': 9, 'collar': 72, 'tegaderm': 25, 'remaind': 170, 'pillow': 54, 'wnl': 343, 'issu': 279, 'rn': 336, 'bump': 58, 'thk': 21, 'htn': 287, 'warm': 349, 'feet': 117, 'translat': 34, 'guid': 141, 'verifi': 40, 'flang': 10, 'restart': 341, 'length': 142, 'vena': 111, 'toilet': 252, 'pp': 79, 'chines': 10, 'vs': 423, 'employ': 22, 'infiltr': 541, 'short': 436, 'lamonectomi': 1, 'order': 557, 'mod': 258, 'via': 514, 'ibuprofen': 27, 'exp': 195, 'min': 512, 'approp': 26, 'pill': 125, 'afternoon': 351, 'secreion': 2, 'dc': 216, 'thin': 336, 'secr': 11, 'addit': 540, 'static': 20, 'look': 208, 'replct': 85, 'deminish': 20, 'breathsound': 29, 'pmicu': 49, 'recov': 98, 'attempt': 390, 'head': 442, 'posiiton': 1, 'abg': 507, 'quad': 54, 'setret': 1, 'nh': 62, 'chngd': 1, '^': 93, 'cath': 293, 'psv': 227, 'vvg': 1, 'rua': 7, 'puff': 33, 'bb': 113, 'intub': 412, 'exit': 18, 'minut': 338, 'pinkish': 12, 'later': 563, 'undisturb': 7, 'stock': 6, 'scv': 7, 'almost': 92, 'awar': 377, 'cent': 26, 'cdi': 36, 'lg': 141, 'clean': 122, 'round': 273, 'art': 69, 'sc': 207, 'discuss': 451, 'pulm': 351, 'screen': 158, 'abduct': 6, 'secur': 158, 'slept': 219, 'section': 259, 'cines': 1, 'punctur': 74, 'case': 176, 'go': 301, 'clog': 19, 'tip': 500, 'qs': 69, 'trial': 194, 'insert': 216, 'brisk': 102, 'prognosi': 68, 'complaint': 359, 'midodrin': 5, 'respond': 399, 'disharg': 1, 'understand': 138, 'cardovascular': 1, 'accept': 145, 'tri': 262, 'dispo': 203, 'alb': 123, 'laminectomi': 15, 'easili': 236, 'wean': 491, 'occlus': 65, 'extremeti': 49, 'axilla': 41, 'venou': 360, 'caudal': 10, 'red': 186, 'anxieti': 195, 'vanco': 386, 'us': 224, 'oriet': 1, 'even': 400, 'fairli': 113, 'respi': 8, 'posb': 1, 'evaul': 2, 'ambu': 33, 'cl': 78, 'put': 232, 'dim': 162, 'keep': 346, 'found': 314, 'readi': 203, 'tylenol': 257, 'schedul': 169, 'sore': 72, 'yankeur': 27, 'prep': 110, 'pneomoboot': 1, 'hd': 105, 'mso': 43, 'prbc': 109, 'gd': 31, 'trach': 147, 'gap': 37, 'infus': 422, 'guidanc': 148, 'sr': 467, 'apnea': 92, 'work': 288, 'effici': 1, 'pump': 54, 'reciev': 132, 'ted': 4, 'complain': 113, 'repond': 7, 'meet': 188, 'deep': 303, 'j': 68, 'retrograd': 4, 'someth': 44, 'grimac': 67, 'plam': 2, 'ivb': 16, 'dr': 525, 'episod': 346, 'suct': 55, 'colac': 156, 'cervic': 161, 'cmv': 104, 'foot': 70, 'nsr': 348, 'map': 260, 'intravascular': 20, \"pt'\": 13, 'friday': 50, 'whez': 4, 'mechan': 187, 'spont': 102, 'oper': 72, 'integr': 112, 'rsbi': 210, 'comfort': 410, 'avail': 324, 'sheet': 117, 'drop': 382, 'tlc': 95, 'distress': 453, 'increa': 7, 'wait': 111, 'rotat': 113, 'inlin': 11, 'open': 285, \"''\": 265, 'hour': 579, 'develop': 323, 'immedi': 198, 'diagnos': 84, 'svt': 57, 'everi': 102, 'tomorrow': 297, 'three': 173, 'dure': 460, 'spinal': 64, 'discharg': 228, 'titrat': 228, 'elbow': 39, 'tonight': 204, 'measur': 348, 'hydrat': 110, 'determin': 184, 'identifi': 380, 'cuff': 198, 'rash': 251, 'tk': 3, 'effort': 126, 'trend': 289, 'sigh': 6, 'feed': 327, 'briefli': 131, 'transfus': 154, 'support': 581, 'mae': 304, 'needl': 93, 'fill': 190, 'sediment': 109, 'treatment': 356, 'fellow': 92, 'wake': 125, 'befor': 291, 'buffer': 10, 'happi': 27, 'known': 421, 'describ': 182, 'assess': 739, 'extrem': 567, 'nap': 83, 'done': 488, 'troubl': 33, 'placment': 105, 'run': 189, 'doubl': 117, 'dorsal': 6, 'unev': 109, 'dress': 237, 'plct': 92, 'drastic': 3, 'yellowish': 43, 'stenosi': 265, 'supervis': 168, 'incid': 117, 'perrla': 80, 'perl': 74, 'ketoconazol': 2, 'flatu': 97, \"n't\": 160, 'mtg': 27, 'apex': 132, 'cd': 90, 'return': 305, 'splint': 25, 'mdi': 177, 'nt': 257, 'fentanyl': 201, 'mv': 84, 'inflat': 42, 'burst': 25, 'abov': 556, 'forearm': 53, 'secretiona': 1, 'improv': 754, 'check': 469, 'desat': 268, 'perform': 535, 'encount': 5, 'depriv': 6, 'overbreath': 63, 'oxygen': 321, 'accordingli': 58, 'therapist': 52, 'spong': 14, 'spit': 24, 'buzzer': 1, 'track': 126, 'ot': 82, 'ronchi': 43, 'approx': 210, 'paplabl': 2, 'whit': 2, 'letharg': 171, 'b': 448, 'unit': 326, 'rhonchi': 250, 'ulcer': 355, 'cmh': 154, 'avl': 23, 'prefer': 58, 'autocorrect': 2, 'desatur': 160, 'reduc': 183, 'tailor': 55, 'drape': 85, 'thigh': 67, 'manag': 351, 'mouth': 284, 'center': 45, 'excess': 39, 'pmv': 90, 'redden': 99, 'switch': 178, 'air': 485, 'uncomfort': 83, 'morphin': 169, 'except': 435, 'intent': 14, 'tol': 263, 'precaut': 434, 'incont': 34, 'wife': 173, 'ahead': 7, 'asept': 7, 'breakdown': 132, 'notiifi': 1, 'wide': 115, 'poorli': 78, 'object': 247, 'relief': 135, 'apap': 12, 'local': 197, 'patch': 109, 'prn': 458, 'timeout': 88, 'appropri': 416, 'tidal': 131, 'hold': 385, 'impair': 187, 'wear': 111, 'simpl': 337, 'contninu': 4, 'av': 62, 'ecchymot': 31, 'come': 190, 'ceftaz': 29, 'afeb': 72, 'infect': 448, 'diet': 478, 'expans': 216, 'either': 173, 'attribut': 73, 'enough': 84, 'cad': 183, 'replac': 257, 'trachea': 89, 'rx': 172, 'radial': 379, 'hygien': 78, 'refil': 26, 'ting': 174, 'lpm': 85, 'ln': 20, 'curv': 133, 'mist': 61, 'azithro': 69, 'say': 105, 'sit': 184, 'belli': 48, 'termin': 302, 'extend': 226, 'flow': 542, 'wire': 206, 'wheezez': 3, 'obes': 179, 'grossli': 233, 'lock': 45, 'cool': 240, 'pulmocort': 2, 'neb': 418, 'occsion': 1, 'congest': 386, 'costophren': 144, 'nice': 14, 'mask': 348, 'nasal': 376, 'rec': 251, 'distinct': 55, 'symptom': 193, 'midlin': 211, 'somewhat': 270, 'strong': 240, 'atrov': 231, 'tdo': 1, 'cabg': 71, 'floor': 534, 'nc': 470, 'followup': 179, 'perihilar': 140, 'pul': 37, 'junki': 11, 'lat': 244, 'eff': 15, 'stimul': 136, 'pacemak': 71, 'soc': 54, 'rll': 286, 'mll': 2, 'levoph': 87, 'face': 294, 'vi': 40, 'endo': 198, 'fit': 30, 'verbal': 298, 'humidif': 10, 'forward': 51, 'precis': 15, 'despit': 214, 'lib': 7, 'pulmicort': 2, 'deficit': 99, 'capillari': 17, 'activ': 380, 'follw': 17, 'ss': 139, 'diures': 214, 'slight': 322, 'unproduct': 10, 'lyte': 351, 'posterior': 248, 'precept': 9, 'db': 113, 'imposs': 13, 'lnc': 109, 'thirsti': 26, 'project': 211, 'alin': 139, 'k': 519, 'toerat': 2, 'graviti': 72, 'independ': 101, 'regardless': 13, 'seizur': 118, 'heparin': 384, 'pace': 88, 'ladi': 17, 'nippv': 21, 'yet': 183, 'diuresi': 237, 'basal': 162, 'aox': 42, 'ie': 30, 'quantiti': 28, 'mn': 168, 'safeti': 144, 'cover': 265, 'expiratori': 107, 'septal': 160, 'transferd': 2, 'bile': 60, 'diur': 5, 'enc': 66, 'onrt': 2, 'ml': 469, 'insp': 355, 'pnding': 30, 'pnx': 42, 'deliveri': 325, 'thorac': 266, 'swallow': 310, 'therefor': 121, 'ivhl': 1, 'consolid': 531, 'angl': 150, 'degre': 217, 'pupil': 182, 'rail': 41, 'viger': 4, 'riss': 157, 'pmr': 2, 'poc': 121, 'food': 165, 'coverag': 305, 'hypokinet': 13, 'info': 49, 'lopressor': 220, 'ro': 267, 'nvd': 6, 'fact': 28, 'humalog': 68, 'tid': 230, 'littl': 291, 'conjest': 3, 'vomit': 139, 'answer': 189, 'suffici': 24, 'ptscurrent': 1, 'smaller': 102, 'demonstr': 423, 'differ': 294, 'svc': 351, 'ad': 199, 'nonproduct': 87, 'csm': 31, 'breakfast': 51, 'rais': 193, 'awhil': 3, 'piv': 327, 'rogor': 1, 'myelopdysplasia': 1, 'oxycontin': 22, 'bank': 16, 'lay': 28, 'hx': 379, 'sister': 90, 'depend': 237, 'stress': 328, 'supervisor': 5, 'form': 209, 'nebh': 2, 'tact': 14, 'father': 62, 'suppos': 15, 'levoflox': 112, 'ekg': 291, 'osh': 91, 'condom': 15, 'eval': 587, 'brother': 61, 'defer': 107, 'addendum': 341, 'spoke': 198, 'ago': 234, 'explain': 188, 'ed': 321, 'came': 170, 'accord': 90, 'thousand': 1, 'mor': 1, 'tat': 1, 'taken': 195, 'urgent': 12, 'want': 267, 'plt': 321, 'risperidon': 3, 'kcl': 185, 'insist': 16, 'gave': 115, 'meq': 440, 'vano': 3, 'band': 119, 'fax': 22, 'dx': 127, 'transferredback': 1, 'would': 461, 'instead': 52, 'provid': 452, 'therapeut': 114, 'flownot': 18, 'valu': 156, 'ama': 7, 'phonecal': 2, 'direct': 171, 'ua': 147, 'amnt': 23, 'incrreas': 1, 'said': 85, 'lymph': 347, 'dvt': 402, 'decr': 30, 'pn': 11, 'mobil': 121, 'sinl': 1, 'cannula': 330, 'autodiures': 43, 'chip': 82, 'clostroph': 1, 'extremi': 1, 'arteriosu': 4, 'roommat': 3, 'dissect': 40, 'quit': 125, 'reassur': 87, 'anox': 8, 'dipso': 1, 'autodiresi': 1, 'transmitr': 14, 'detect': 94, 'rad': 59, 'ptt': 312, 'acidoi': 1, 'main': 149, 'mediastinum': 145, 'significantli': 214, 'portion': 457, 'hyponatremia': 50, 'rousabl': 10, 'mediastin': 410, 'blunt': 94, 'scatter': 209, 'pituitari': 3, 'bil': 134, 'et': 191, 'gpc': 67, 'deceller': 1, 'ye': 132, 'cut': 51, 'slowli': 187, 'fragil': 25, 'node': 217, 'cta': 310, 'extub': 264, 'fent': 119, 'fld': 33, 'intens': 41, 'subsequ': 181, 'self': 210, 'expir': 33, 'unawar': 11, 'stinul': 1, 'ductu': 4, 'walk': 94, 'venturi': 5, 'escal': 31, 'calmer': 23, 'rebreath': 48, 'gtt': 303, 'forget': 31, 'lsc': 24, 'hospit': 311, 'thereaft': 17, 'subsegment': 80, 'stomach': 251, 'understandingli': 1, 'restless': 124, 'remind': 52, 'immprov': 1, 'fluffi': 5, 'sec': 84, 'wz': 1, 'tract': 80, 'palp': 80, 'tend': 30, 'ionic': 31, 'unilat': 70, 'theraput': 8, 'antivir': 9, 'degrad': 12, 'exert': 110, 'intab': 1, 'lue': 69, 'quickli': 136, 'closer': 32, 'divid': 27, 'discret': 51, 'situat': 80, 'sensit': 102, 'settl': 84, 'reintub': 64, 'write': 49, 'reformat': 135, 'iii': 43, 'becm': 1, 'wash': 66, 'nystatin': 65, 'defect': 156, 'yelow': 5, 'tape': 57, 'foci': 70, 'impend': 16, 'arch': 126, 'thing': 46, 'propofol': 113, 'whitish': 55, 'vers': 166, 'flagyl': 162, 'lie': 127, 'kvo': 81, 'heterogen': 81, 'cystic': 41, 'disori': 49, 'ect': 14, 'rise': 136, 'overal': 348, 'didnt': 3, 'apropri': 7, 'root': 118, 'propafol': 8, \"c'ed\": 65, 'choroid': 1, 'hous': 119, 'maxillari': 41, 'cortic': 39, 'phone': 204, 'sleepi': 59, 'ischem': 112, 'dowm': 1, 'hyperintens': 29, 'apologet': 1, 'begun': 37, 'cyanot': 15, 'liq': 59, 'visual': 394, 'mainten': 50, 'tree': 55, 'cultur': 432, 'catheeer': 1, 'axillari': 199, 'superimpos': 144, 'bath': 86, 'enhanc': 123, 'fair': 143, 'ck': 216, 'talk': 190, 'wrist': 140, 'xray': 102, 'brachiocephal': 70, 'clonazepam': 21, 'cahng': 4, 'sulci': 67, 'half': 68, 'obstruct': 280, 'restraint': 164, 'conitnu': 14, 'think': 109, 'minimum': 16, 'brain': 105, 'carina': 199, 'bear': 34, 'upset': 32, 'arriv': 234, 'nrb': 156, 'ngt': 177, 'relax': 68, 'nrm': 4, 'tocycl': 1, 'pneumomediastinum': 16, 'perivascular': 9, 'mi': 119, 'impos': 2, 'hrr': 2, 'opt': 15, 'coug': 5, 'cerebr': 50, 'deleri': 10, 'visitor': 67, 'mentat': 55, 'pe': 219, 'liter': 278, 'gastric': 83, 'ext': 313, 'hypox': 136, 'paranas': 66, 'contour': 323, 'remin': 3, 'factor': 68, 'troponin': 205, 'nemb': 4, 'recon': 78, 'outflow': 17, 'precipit': 28, 'appreci': 271, 'easi': 38, 'brachial': 136, 'thrush': 42, 'sinus': 126, 'tranfer': 15, 'gold': 16, 'promot': 56, 'bow': 4, 'obscur': 159, 'ogt': 114, 'nervou': 18, 'smear': 58, 'fo': 35, 'roll': 61, 'sop': 2, 'markedli': 117, 'haldol': 106, 'sd': 13, 'compat': 93, 'cn': 95, 'cre': 26, 'went': 156, 'venti': 37, 'intraocular': 1, 'ice': 116, 'contigu': 77, 'fs': 174, 'quiet': 93, 'appar': 222, 'lessen': 16, 'cell': 240, 'extuat': 2, 'endotrach': 252, 'crise': 1, 'thru': 63, 'discourag': 7, 'ng': 452, 'occur': 121, 'metropolol': 4, 'alseep': 1, 'calm': 144, 'endoc': 25, 'phm': 2, 'tachypn': 200, 'laryng': 81, 'sxn': 107, 'alot': 25, 'lsubclavian': 1, 'srr': 26, 'chain': 21, 'person': 185, 'opacif': 310, 'faint': 59, 'pair': 45, 'upright': 327, 'np': 138, 'shortli': 55, 'intercurr': 2, 'auscult': 101, 'optiray': 186, 'super': 10, 'rvfx': 1, 'toll': 4, 'turgor': 5, 'stalk': 1, 'instruct': 67, 'hiflow': 18, 'ivp': 164, 'cup': 38, 'antimicrobi': 35, 'nod': 135, 'decent': 9, 'chart': 118, 'associ': 265, 'interstiti': 236, 'wind': 3, 'bite': 76, 'rpt': 23, 'occ': 206, 'fentynl': 6, 'allergi': 376, 'opacifi': 46, 'fen': 239, 'infarc': 2, 'req': 42, 'mastoid': 77, 'film': 227, 'drip': 165, 'ett': 235, 'partner': 10, 'msicu': 16, 'multiplanar': 124, 'cp': 192, 'globe': 6, 'zone': 161, 'aspect': 134, 'bipap': 126, 'pao': 155, 'bun': 401, 'embolu': 38, 'agit': 275, 'widespread': 62, 'pneumon': 106, 'thruout': 5, 'incr': 44, 'fall': 190, 'cephal': 74, 'amd': 14, 'nonlabor': 20, 'sxted': 8, 'densiti': 197, 'inappropri': 27, 'void': 163, 'restrain': 66, 'peak': 77, 'opportunist': 9, 'electrolyt': 185, 'hypoxia': 337, 'flair': 30, 'flat': 131, 'reg': 122, 'hardcopi': 3, 'dp': 337, 'began': 77, 'antra': 1, 'cortex': 17, 'mech': 47, 'cci': 10, 'coop': 12, 'angio': 42, 'bleed': 276, 'helic': 51, 'begin': 175, 'extubat': 9, 'wheelchair': 20, 'inf': 20, 'consider': 90, 'matter': 78, 'sentenc': 41, 'home': 498, 'sporad': 5, 'branch': 156, 'spastic': 8, 'inferior': 192, 'narcot': 47, 'lisinopril': 86, 'e': 279, 'parenchyma': 88, 'hilar': 256, 'na': 170, 'csf': 28, 'suscept': 22, 'psychosoc': 3, 'embol': 123, 'appeart': 1, 'idea': 14, 'interven': 18, 'acquir': 258, 'wbc': 531, 'pretti': 12, 'gentleman': 37, 'antrum': 22, 'midaz': 37, 'diarrhea': 171, 'sbt': 134, 'vessel': 193, 'confluent': 78, 'pull': 293, 'g': 447, 'gelatin': 4, 'silght': 1, 'afrin': 5, \"patient'\": 54, 'norm': 5, 'jejun': 9, 'newli': 148, 'rij': 75, 'gaseou': 8, 'tini': 97, 'sulcu': 22, 'airat': 3, 'gj': 21, 'pelvic': 96, 'regimen': 268, 'dermat': 17, 'adenopathi': 115, 'board': 59, 'anemia': 216, 'potassium': 341, 'nephew': 19, 'jugular': 200, 'reactiv': 150, 'ssi': 91, 'heme': 205, 'btw': 5, 'stimulu': 24, 'especi': 109, 'bit': 70, 'spare': 35, 'kept': 97, 'alkalosi': 76, 'plug': 120, 'taper': 123, 'gain': 39, 'uop': 225, 'bwn': 3, 'angiograph': 25, 'benadryl': 27, 'birthday': 6, 'pyloru': 15, 'rectum': 96, 'variabl': 51, 'dampen': 46, 'intervasc': 1, 'frequenc': 70, 'extravas': 16, 'unrespons': 94, 'gastromi': 7, 'distens': 45, 'cdiff': 88, 'refer': 202, 'sodium': 338, 'bloodi': 117, 'middl': 208, 'shut': 55, 'criticar': 5, 'purpos': 177, 'massag': 6, 'li': 19, 'pho': 232, 'applic': 43, 'page': 199, 'tonoc': 16, 'four': 102, 'ectop': 24, 'steril': 151, 'util': 60, 'alon': 85, 'multi': 147, 'semin': 16, 'clr': 25, 'ip': 101, 'penia': 1, 'powder': 65, 'coil': 50, 'reglan': 44, 'ear': 232, 'grandson': 12, 'shot': 19, 'insulin': 315, 'bsk': 10, 'sxtn': 20, 'hypercapnea': 9, 'attain': 12, 'spur': 12, 'tachypneia': 2, 'deploy': 16, 'highli': 42, 'away': 115, 'travel': 35, 'enuf': 1, 'email': 18, 'lose': 12, 'basi': 37, 'brachycephal': 3, 'occat': 25, 'flaccid': 14, 'opaqu': 10, 'routin': 118, 'extra': 123, 'scleraedema': 1, 'vigor': 45, 'serial': 105, 'gastr': 1, 'necessari': 115, 'dsg': 114, 'peel': 88, 'excret': 38, 'net': 84, 'hydrocort': 9, 'clinoid': 5, 'twice': 77, 'retro': 4, 'expector': 173, 'confrim': 3, 'mucos': 51, 'fluter': 1, 'degen': 176, 'regim': 63, 'normotens': 59, 'fetanyl': 1, 'vea': 88, 'letter': 9, 'slide': 261, 'met': 153, 'througout': 7, 'drug': 244, 'wtih': 20, 'lc': 13, 'transduc': 18, 'inr': 320, 'swollen': 52, 'duodenum': 51, 'recheck': 171, 'offer': 111, 'tranfus': 8, 'eight': 16, 'radiologist': 137, 'acetaminophen': 84, 'fine': 101, 'lr': 50, 'slow': 202, 'fri': 113, 'affix': 3, 'hemorrhag': 175, 'overli': 149, 'sigmoid': 74, 'ivab': 20, 'amplatz': 16, 'brownish': 23, 'vue': 22, 'periventricular': 51, 'microg': 1, 'fluoroscop': 135, 'anesth': 3, 'steroid': 173, 'youvil': 1, 'mucousi': 6, 'ent': 24, 'paramed': 4, 'massachusett': 1, 'obviou': 93, 'labor': 121, 'exhibit': 33, 'vascular': 500, 'simultan': 5, 'reduct': 72, 'fic': 5, 'vagu': 21, 'apc': 28, 'intern': 286, 'decompress': 38, 'cream': 149, 'fluoroscopi': 45, 'frontal': 168, 'golden': 43, 'noontim': 15, 'perm': 6, 'experi': 29, 'thickish': 4, 'inject': 108, \"sxn'ing\": 14, 'locat': 288, 'actual': 44, 'basic': 40, 'notic': 43, 'fix': 103, 'collaps': 169, 'anyth': 59, 'pleaw': 1, 'consciou': 14, 'qtc': 49, 'stimlat': 1, 'mental': 268, '^^rate': 1, 'redd': 10, 'bllo': 1, 'along': 231, 'metal': 36, 'eventu': 91, 'cancer': 140, 'sput': 53, 'tracheotomi': 19, 'promod': 7, 'papyracea': 6, 'afix': 2, 'character': 90, 'give': 265, 'cadiomediastin': 1, 'til': 22, 'glidewir': 13, 'stimuli': 238, 'cholecyst': 56, 'bodi': 315, 'passiv': 35, 'reveal': 192, 'mpa': 2, 'siusiti': 1, 'subject': 147, 'wakeful': 2, 'believ': 44, 'prostat': 68, 'peelaway': 1, 'vessicl': 2, 'gallston': 46, 'flutter': 68, 'nm': 9, 'cuf': 40, 'conray': 13, 'tachypnea': 195, 'plate': 26, 'sterili': 1, 'stand': 239, 'materi': 108, 'displac': 52, 'inconsistantli': 16, 'edemat': 76, 'preliminari': 76, 'hl': 22, 'plcmt': 15, 'mushroom': 54, 'ge': 31, 'errythem': 1, 'increasingli': 82, 'skull': 21, 'loop': 145, 'cribriform': 6, 'subtl': 66, 'pubic': 45, 'partial': 244, 'oro': 2, 'whether': 120, 'upon': 206, 'tactil': 33, 'pancultur': 15, 'og': 131, 'accuraci': 13, 'peribronchi': 36, 'toward': 124, 'cope': 49, 'iron': 56, 'diaphragm': 143, 'scale': 317, 'expect': 120, 'antibx': 137, 'resutur': 2, 'scan': 258, 'abreast': 8, 'entroclysi': 5, 'noon': 113, 'patholog': 210, 'strip': 18, 'permiss': 3, 'essenti': 156, 'hepat': 125, 'erythromycin': 32, 'tubefe': 15, 'pronounc': 72, 'overview': 2, 'consistantli': 29, 'rom': 76, 'eyelid': 5, 'hypovolem': 35, 'valium': 27, 'ga': 204, 'angiopathi': 2, 'currenti': 1, 'fb': 39, 'inconsist': 70, 'overnoc': 135, 'calcifi': 135, 'itchi': 16, 'rectal': 150, 'tachneic': 1, 'potenti': 158, 'teach': 27, 'purul': 33, 'tbe': 2, 'hypopharynx': 6, 'dtr': 64, 'febril': 154, 'hang': 10, 'whose': 34, 'reform': 89, 'meical': 1, 'member': 96, 'pro': 15, 'prolen': 6, 'fulli': 165, 'yeterday': 2, \"ct'\": 1, 'redress': 15, 'fell': 74, 'orogastr': 26, 'sometim': 66, 'entir': 152, 'tl': 18, 'cs': 15, 'coincident': 1, 'beom': 2, 'vial': 3, 'inner': 70, 'derm': 50, 'gaug': 311, 'qtt': 13, 'tpn': 42, 'tuberos': 6, 'reportedli': 74, 'tannish': 28, 'ceftriaxon': 176, 'shiver': 5, 'respalor': 9, 'consciouti': 2, 'rmain': 2, 'cardiomediastinum': 12, 'antibot': 10, 'uneven': 1, 'prelim': 45, 'pharnyx': 1, 'content': 38, 'sub': 44, 'intraven': 237, 'emot': 160, 'pac': 106, 'mesenteri': 17, 'soundli': 9, 'balloon': 43, 'diaphoret': 119, 'thich': 5, 'reliev': 67, 'log': 7, 'init': 27, 'confort': 11, 'microvascular': 24, 'supdat': 1, 'bronchial': 182, 'cardiomediastin': 249, 'thank': 135, 'perhap': 53, 'mening': 25, 'nure': 2, '^^': 20, 'shoulder': 85, 'intervascularli': 2, 'trigger': 125, 'dimish': 22, 'amen': 19, 'attend': 414, 'buttock': 115, 'parenchym': 224, 'total': 457, 'topic': 39, 'cyst': 126, 'resettl': 1, 'least': 142, 'disposit': 309, 'occassion': 46, 'penil': 8, 'pariet': 23, 'destruct': 40, 'healthi': 66, 'stransfus': 1, 'durng': 1, 'resum': 156, 'adquat': 6, 'consent': 160, 'reccomend': 7, 'redemonstr': 41, 'daili': 384, 'directli': 23, 'percutan': 52, 'jejunum': 28, 'tomarrow': 8, 'fecal': 54, 'fr': 33, 'squeez': 48, 'accessori': 77, 'intracrani': 107, 'udat': 1, 'serosanguin': 30, 'hydrocortison': 18, 'treitz': 13, 'retroperitoneum': 11, 'replet': 384, 'sutur': 80, 'exchang': 94, 'reslt': 4, 'perc': 52, 'lamina': 8, 'plmt': 17, 'highest': 8, 'guaic': 35, 'tfb': 28, 'firm': 63, 'incontin': 89, 'bld': 109, 'beneath': 20, 'migrat': 17, 'normoglycem': 10, 'relat': 343, 'mucomyst': 31, 'hydronephrosi': 90, 'sphenoid': 38, 'ca': 420, 'name': 129, 'apic': 181, 'risb': 12, 'fasten': 11, 'nasogastr': 182, 'stop': 270, 'tone': 280, 'anticip': 116, 'exrem': 3, 'chage': 2, 'ethmoid': 39, 'first': 206, 'inh': 20, 'qlc': 3, 'lactulos': 85, 'simethicon': 13, 'hst': 1, 'particular': 24, 'hemidiaphragm': 140, 'hung': 14, 'true': 29, 'urinari': 149, 'hazi': 106, 'nursi': 1, 'squamou': 20, 'inguin': 64, 'recruit': 18, 'flexitrack': 1, 'clearli': 91, 'canula': 35, 'outpt': 56, 'slighlti': 8, 'stiff': 44, 'ftb': 1, 'diuresis': 15, 'enter': 258, 'vecuronium': 10, 'blink': 17, 'retrocard': 3, 'tachpnia': 1, 'percocet': 59, 'tema': 1, 'hydrocephalu': 33, 'specimen': 74, 'nonrespons': 9, 'incres': 6, 'pulmnari': 1, 'express': 102, 'shiley': 14, 'tvol': 6, 'sheath': 121, 'guaiac': 97, 'connect': 27, 'late': 120, 'ultimatli': 1, 'target': 40, 'desir': 72, 'pej': 13, 'excel': 88, 'far': 163, 'underneath': 6, 'entri': 32, 'cva': 109, 'vasculatur': 114, 'intuabt': 8, 'visibl': 102, 'bl': 58, 'nonion': 25, 'prompt': 20, 'proceedur': 7, 'transaminas': 11, 'consid': 420, 'thu': 120, 'combin': 136, 'gastrojejunostomi': 22, 'isol': 65, 'clav': 2, 'vertex': 12, 'diabet': 147, 'candid': 56, 'conjunctiva': 191, 'hypothyroid': 59, 'moan': 31, 'cake': 2, 'stick': 260, 'aqua': 2, 'wed': 112, 'cel': 1, 'signatur': 266, 'quadrant': 128, 'chlorid': 293, 'vital': 374, 'creatinin': 324, 'debil': 6, 'rope': 2, 'airway': 310, 'cr': 364, 'deplet': 46, 'diffucult': 2, 'finger': 239, 'rml': 86, 'lactulo': 1, 'disord': 77, 'glucos': 370, 'wast': 100, 'lansoprazol': 51, 'ppi': 222, 'particularli': 112, 'anticonvuls': 3, 'dentit': 74, 'versiva': 1, 'jpg': 304, 'metoprolol': 166, 'rhonci': 28, 'rifamixin': 1, 'prevacid': 43, 'radiolog': 352, 'provision': 192, 'demograph': 294, 'streaki': 14, 'throat': 267, 'cyu': 30, 'recogn': 17, 'decubitu': 74, 'kg': 385, 'aplmar': 1, 'dm': 145, 'jewelri': 262, 'musculoskelet': 124, 'glycem': 306, 'titl': 189, 'physic': 348, 'equivoc': 17, 'hn': 32, 'lft': 106, 'presum': 153, 'card': 290, 'chem': 29, 'keppra': 15, 'engorg': 91, 'nash': 5, 'zonisamid': 3, 'attent': 242, 'hematocrit': 297, 'ing': 32, 'cirrhosi': 44, 'score': 23, 'sulbactam': 13, 'jmgw': 16, 'ckmb': 177, 'dl': 353, 'superif': 2, 'encephalopath': 8, 'clonu': 8, 'deveop': 2, 'heel': 73, 'temperatur': 302, 'tropt': 141, 'dysfunct': 132, 'ft': 62, 'meld': 4, 'dz': 35, 'cardiovascular': 251, 'asp': 90, 'ul': 304, 'wallet': 256, '{': 315, 'vap': 318, 'ivc': 98, 'cash': 262, 'confus': 213, 'record': 235, 'prescrib': 22, 'spine': 195, 'dsd': 77, 'wound': 133, 'coccyx': 160, 'pertin': 298, 'contribut': 117, 'membran': 36, 'invas': 330, 'pnuemonia': 19, 'tsh': 45, 'configur': 63, 'list': 90, 'withdrawn': 49, 'reorient': 113, 'topomax': 1, 'money': 264, 'neurolog': 302, 'fa': 51, 'hypernatrem': 22, 'tcurrent': 303, '}': 313, 'ag': 58, 'transplant': 31, 'satur': 330, 'asciti': 7, 'hypernatremia': 67, 'lnp': 36, 'fibersourc': 33, 'exacerb': 140, 'cloth': 277, 'ampicillin': 32, 'lantu': 35, 'levothyroxin': 44, 'distort': 13, \"desat'\": 2, 'stimata': 1, 'lymphat': 112, 'tremor': 39, 'black': 38, 'nad': 164, 'credit': 262, 'vanc': 205, 'qh': 61, 'chief': 310, 'valuabl': 267, 'erythema': 74, 'beat': 158, 'infrahilar': 25, 'stage': 161, 'ammonia': 9, 'unasyn': 15, 'action': 328, 'bnp': 69, 'pfi': 199, 'normocephal': 206, 'asterixi': 9, 'resid': 345, 'mmhg': 353, 'rbbb': 18, 'effac': 13, 'docus': 57, 'firmli': 10, 'bundl': 121, 'contin': 42, 'aspirin': 95, 'apprehens': 5, 'qid': 133, 'dnr': 172, 'ntg': 43, 'lovenox': 23, 'zyprexa': 59, 'benign': 113, 'observ': 157, 'loud': 72, 'dementia': 96, 'age': 141, 'contiu': 10, 'cistern': 23, 'pharyng': 85, 'compazin': 21, 'somnol': 106, 'syst': 18, 'rale': 130, 'adendum': 3, 'uncoop': 22, 'sitter': 36, 'kcld': 3, 'reinforc': 36, 'agre': 321, 'plavix': 29, 'type': 251, 'deviat': 124, 'recoveri': 62, 'redirect': 37, 'craze': 1, 'bisacodyl': 42, 'conges': 1, 'part': 148, 'shout': 7, 'rule': 234, 'digoxin': 49, 'live': 189, 'environ': 61, 'cardiolog': 58, 'diuret': 66, 'nasopharyng': 9, 'atrophi': 41, 'adm': 126, 'influenza': 118, 'ich': 19, 'modest': 49, 'levofloxacin': 227, 'adl': 56, 'wet': 338, 'audibl': 82, 'crit': 33, 'fissur': 66, 'scream': 7, 'fsbg': 34, 'demand': 75, 'comb': 36, 'must': 46, 'sputem': 7, 'isosorbid': 10, 'safe': 80, 'complex': 90, 'ischemia': 164, 'unrestrain': 13, 'axi': 189, \"dc'ed\": 6, 'disorient': 12, 'aerosol': 127, 'supplement': 178, 'pleasantli': 15, 'ew': 85, 'particip': 71, 'posi': 1, 'nstemi': 30, 'behavior': 43, 'enzym': 114, 'climb': 64, 'redistribut': 46, 'agreeabl': 14, 'thight': 3, 'vest': 6, 'reinsert': 28, 'lll': 266, 'rebook': 1, 'droplet': 96, 'guiac': 115, 'mistaken': 3, 'flu': 109, 'primari': 142, 'bedpan': 46, 'nitro': 37, 'repolar': 56, 'slower': 90, 'hs': 117, 'interim': 112, 'pc': 21, 'help': 256, 'cellul': 25, 'reflect': 220, 'ivabx': 10, 'unknown': 197, 'mult': 50, 'bacteria': 42, 'mean': 59, 'ooz': 65, 'platlet': 4, 'thirst': 21, 'cavit': 26, 'compon': 187, 'cll': 10, 'heard': 63, 'autoimmun': 10, 'grew': 43, 'die': 51, 'focal': 416, 'accompani': 75, 'cmx': 11, 'alveolar': 84, 'tacypn': 10, 'xeroform': 3, 'recal': 20, 'shin': 23, 'hyothyroid': 1, 'wrap': 23, 'broad': 131, 'pressor': 135, 'adjac': 145, 'superfici': 108, 'wednesday': 20, 'asymmetr': 83, 'abroad': 1, 'cpnt': 1, 'multilobar': 35, 'readdress': 31, 'amphotericin': 2, 'indistinct': 44, 'declin': 100, 'document': 119, 'dni': 145, 'hilum': 40, 'hemolyt': 6, 'bilatter': 1, 'focu': 106, 'pathogen': 37, 'ahf': 1, 'gelfoam': 3, 'gauz': 34, 'lucenc': 43, 'spectrum': 83, 'bronch': 140, 'smicu': 10, 'tortuou': 60, 'hypoact': 112, 'por': 2, 'kling': 3, 'pmd': 5, \"con't\": 5, 'noth': 51, 'ue': 103, 'nail': 20, 'thought': 143, 'penicillin': 53, 'labetalol': 16, 'sluggish': 31, 'proport': 7, 'withdraw': 127, 'hard': 137, 'saw': 280, 'psychiatr': 89, 'dilantin': 20, 'proxi': 89, 'mono': 173, 'walker': 26, 'amp': 60, 'di': 23, 'wish': 85, 'hosp': 35, 'malign': 139, 'stone': 82, 'constitut': 121, 'levaquin': 126, 'hcp': 128, 'lithium': 4, 'proper': 52, 'cri': 57, 'calcium': 157, 'noxiou': 44, 'glucon': 37, 'copi': 77, 'insipidu': 6, 'horn': 4, 'dextros': 39, 'antihypertens': 62, 'rapid': 189, 'nourish': 150, 'gm': 155, 'complianc': 80, 'caus': 266, 'paranoia': 5, 'uf': 176, 'inch': 222, 'neut': 172, 'conjunctiv': 54, 'lacun': 6, 'withdrew': 9, 'wax': 55, 'health': 113, 'serum': 84, 'admin': 52, 'suspect': 171, 'uremia': 9, 'fatigu': 172, 'sz': 26, 'jvp': 77, 'evolut': 34, 'paramet': 90, 'key': 287, 'session': 21, 'multidisciplinari': 37, 'wane': 36, 'certainli': 36, 'standard': 210, 'sq': 223, 'wretch': 3, 'delirium': 95, 'mwf': 4, 'eo': 175, 'differenti': 275, 'encephalopathi': 56, 'referr': 69, 'kayexel': 6, 'reson': 90, 'dme': 15, 'vision': 59, 'sugar': 164, 'percuss': 117, 'ensu': 2, 'dialyz': 14, 'senior': 9, 'obtund': 16, 'resuscit': 95, 'univers': 12, 'ventriculomegali': 3, 'retch': 2, 'medicaid': 13, 'doubt': 49, 'wgt': 104, 'genitourinari': 94, 'medicar': 10, 'esrd': 48, 'decid': 109, 'zofran': 38, 'thrust': 2, 'hpi': 255, 'epilepticu': 8, 'wit': 61, 'schizophrenia': 15, 'miss': 48, 'spent': 275, 'cardiopulmonari': 39, 'labetolol': 15, 'crisi': 11, 'correct': 99, 'hemoconcentr': 9, 'experienc': 69, 'unclear': 243, 'bring': 88, 'leukoencephalopathi': 3, 'stim': 45, 'life': 27, 'nahco': 9, 'murmur': 212, 'pngt': 7, 'hyperpotassemia': 4, 'blurri': 47, 'hemodialysi': 36, 'meantim': 12, 'yaunker': 11, 'hyperkalemia': 31, 'conserv': 20, 'tox': 19, 'critic': 219, 'neurolept': 3, 'happen': 44, 'infrequ': 22, 'alkalot': 9, 'neuron': 15, 'insur': 32, 'linisipril': 1, 'sh': 200, 'emesi': 89, 'viral': 119, 'deliri': 58, 'consequ': 17, 'bipolar': 20, 'tempor': 27, 'kayexal': 14, 'labatelol': 4, 'interdisciplinari': 89, 'incomprehens': 17, 'lactat': 160, 'caudat': 10, 'fh': 201, 'input': 93, 'dislodg': 13, 'dialys': 6, 'dialysi': 97, 'emerg': 81, 'tongu': 73, 'afib': 203, 'aneurysm': 69, 'coumadin': 139, 'lumbar': 85, 'nodul': 158, 'third': 66, 'arthrit': 12, 'swell': 132, 'ugi': 8, 'bronchovascular': 16, 'oliguria': 18, 'groundglass': 2, 'somewhatdil': 1, 'summari': 84, 'mottl': 12, 'unenhanc': 14, 'align': 34, 'em': 32, 'esophagu': 92, 'lymphadenopathi': 198, 'endobronchi': 24, 'coronari': 209, 'fractur': 177, 'anteriorli': 96, 'irregular': 100, 'prevertebr': 10, 'lesser': 38, 'mb': 36, 'dens': 125, 'pretrach': 18, 'fluidfil': 1, 'salt': 7, 'sublux': 9, 'atroph': 26, 'granuloma': 30, 'trauma': 64, 'vertebr': 85, 'infraren': 23, 'hernia': 91, 'incomplet': 86, 'shingl': 6, 'mail': 5, 'lowermost': 2, 'boni': 83, 'hiatal': 44, 'micua': 2, 'revis': 41, 'cpk': 31, 'prevascular': 35, 'workup': 60, 'stabliz': 8, 'cleans': 49, 'colect': 2, 'shigft': 1, 'sy': 65, 'ketpad': 1, 'push': 63, 'aflutt': 26, 'inferolater': 55, 'broke': 19, 'distent': 79, 'simul': 3, 'might': 119, 'ar': 202, 'prob': 31, 'unlabor': 64, 'rehabilit': 42, 'eti': 1, 'telephon': 117, 'fresh': 4, 'reciv': 15, 'ti': 7, 'novasourc': 16, 'incision': 23, 'perla': 36, 'expel': 7, 'necessit': 13, 'sludg': 28, 'tp': 26, 'spell': 18, 'gel': 27, 'uncontrol': 14, 'houseoffic': 13, 'fibb': 1, 'reacur': 1, 'pericard': 20, 'paco': 17, 'peripheri': 33, 'husband': 73, 'convert': 96, 'balans': 1, 'peroid': 2, \"rec'\": 20, 'hypotenns': 1, 'apneaic': 2, 'comand': 9, 'alerr': 1, 'reat': 1, 'stagei': 1, 'disress': 4, 'appropriat': 2, 'af': 123, 'shake': 72, 'ii': 115, 'typer': 1, 'rrt': 59, 'tic': 1, 'lopresssor': 2, 'keyboard': 1, 'pco': 120, 'raf': 23, 'electr': 8, 'screan': 1, 'qnd': 1, 'mionitor': 1, 'secrtion': 2, 'nkda': 57, 'irreg': 30, 'centimet': 18, 'dic': 21, 'nede': 3, 'pacu': 6, 'arrythmia': 19, 'matress': 6, 'advers': 22, 'produc': 85, 'dietwith': 1, 'whiteish': 2, 'vdg': 3, 'wnr': 9, 'copd': 210, 'becasu': 3, 'administ': 287, 'fibrosi': 58, 'hypothroid': 3, 'kiss': 2, 'remot': 40, 'prostrat': 2, 'bruis': 49, 'sw': 71, 'swab': 100, 'occaision': 12, 'tsicu': 9, 'inc': 134, 'lograd': 1, 'hire': 3, 'urolog': 22, 'nonprod': 11, 'cocci': 45, 'discolor': 12, 'az': 2, 'quietli': 20, 'wiggl': 37, 'gram': 187, 'sux': 19, 'pager': 73, 'repair': 67, 'funer': 2, 'lih': 1, 'memori': 30, 'piec': 20, 'biliou': 48, 'scopolamin': 13, 'creat': 170, 'stronger': 42, 'coag': 90, 'consensu': 5, 'smoke': 57, 'ness': 4, 'rncm': 1, 'sev': 9, 'shock': 128, 'strongli': 29, 'daycar': 3, 'alzheim': 35, 'stood': 21, 'disloc': 30, 'privat': 13, 'lethargi': 54, 'phebotomi': 1, 'springhous': 1, 'psh': 11, 'fx': 58, 'addedum': 2, 'pneumoboot': 69, 'demetia': 4, 'gown': 14, 'hoh': 27, 'etoh': 71, 'glaucoma': 13, 'psoriasi': 6, 'gout': 27, 'tm': 105, 'interact': 110, 'boarder': 6, 'everyth': 24, 'dininish': 1, 'er': 95, 'children': 55, 'step': 81, 'took': 90, 'concentr': 54, 'nqwmi': 3, 'worker': 52, 'abil': 75, 'nondistend': 32, 'sao': 103, 'ny': 3, 'metacarp': 5, 'intermittantli': 13, 'asa': 137, 'ankl': 61, 'big': 16, 'lipitor': 23, 'mhr': 6, 'constip': 130, 'toprol': 11, 'iter': 2, 'carbadopa': 1, 'backrub': 6, 'unbroken': 12, 'physician': 315, 'pneumaonia': 1, 'blanch': 14, 'maalox': 7, 'uncompems': 1, 'succ': 12, 'rrl': 2, 'yof': 24, 'keeppt': 1, 'mur': 8, 'neo': 41, 'ccu': 73, 'yell': 43, 'standbi': 48, 'occa': 91, 'lotion': 44, 'rememb': 23, 'gasi': 1, 'parkinson': 24, 'stting': 1, \"have't\": 1, 'inturb': 1, 'regularli': 27, 'profound': 20, 'fail': 152, 'fu': 13, 'dccv': 3, 'metabol': 122, 'carbidopa': 3, 'pmhx': 63, 'levodopa': 2, 'slt': 5, 'nimv': 6, 'visabl': 4, 'revers': 48, 'phx': 1, 'geriatr': 9, 'stooll': 1, 'eaten': 9, 'nearbi': 10, 'familyinform': 1, 'glu': 17, 'cardiovert': 4, 'sudden': 34, 'xl': 16, 'unsuccess': 81, 'hub': 4, 'pressurea': 1, 'neic': 13, 'combiv': 48, 'serev': 3, 'nebuils': 1, 'hob': 164, 'looser': 5, 'brought': 129, 'easier': 18, 'visist': 4, 'blow': 7, 'enema': 30, 'rhonchu': 10, 'tomorro': 1, 'scoop': 4, 'humidifi': 77, 'exac': 8, 'bid': 89, 'yest': 69, 'previuo': 2, '$': 12, 'stope': 4, 'continiu': 1, 'caregiv': 23, 'niec': 21, 'kepft': 1, 'ex': 46, 'paroxysm': 15, 'thoracentesi': 88, 'retain': 46, 'nebulis': 1, 'fm': 69, 'remian': 28, 'contiun': 2, 'plu': 54, 'contniu': 1, 'fullcod': 2, 'pure': 85, 'stab': 6, 'stroke': 78, 'loosen': 26, 'prevent': 97, 'sp': 88, 'clearer': 37, 'inatact': 2, 'distribut': 99, 'lopress': 5, 'transfuss': 2, 'solumedrol': 70, 'audilb': 1, 'daibet': 1, 'clairifi': 1, 'fleet': 18, 'mainta': 13, 'assesss': 3, 'methylprednisolon': 22, 'prong': 21, 'midnoc': 30, 'inflamm': 58, 'disc': 45, 'pule': 3, 'term': 160, 'add': 219, 'fem': 37, 'tighter': 7, 'scd': 12, 'aim': 43, 'insitu': 11, 'commenc': 20, 'diltiazem': 77, 'glargin': 38, 'statement': 9, 'humid': 13, 'blew': 2, 'partak': 1, 'creami': 19, 'thisd': 1, 'giver': 6, 'hyperoxygen': 3, 'wheezi': 56, 'empir': 119, 'depart': 37, 'holiday': 7, 'nr': 12, 'cult': 21, 'deciph': 2, 'chlorthiazid': 1, 'leukocytosi': 169, 'rg': 3, 'papillari': 44, 'valvl': 1, 'supposedli': 2, 'snx': 13, \"yesterday'\": 4, 'bacteri': 145, 'drsg': 41, 'ampul': 1, 'render': 14, 'among': 4, 'bg': 40, 'transit': 207, 'suctiong': 2, 'cachet': 9, 'reconsult': 28, 'enterococca': 1, 'undetermin': 25, 'transthorac': 33, 'extr': 32, 'flight': 21, 'mirtazapin': 8, 'occai': 2, 'author': 16, 'occup': 90, 'repac': 1, 'qday': 22, 'ssri': 60, 'thiamin': 17, 'compromis': 44, 'delerium': 24, 'lul': 153, 'outcom': 15, 'tuesday': 33, 'mrg': 26, 'rub': 157, 'disturb': 19, 'resit': 20, 'obstacl': 6, 'ophthalm': 5, 'sir': 37, 'vb': 3, 'ddx': 55, 'decondit': 45, 'tracheal': 73, 'deduct': 2, 'therapuet': 6, 'lebsiella': 1, '^th': 23, 'breakthrough': 30, 'vehicl': 4, 'whenev': 17, 'intraventricular': 45, 'cbi': 7, 'ween': 8, 'stain': 111, 'speci': 10, 'grimic': 1, 'tell': 38, 'count': 156, 'vreand': 1, 'djd': 9, 'optho': 1, 'ppm': 23, 'cluster': 40, 'epitheli': 34, 'common': 139, 'bacilli': 3, 'disorgan': 2, 'veget': 57, 'ltac': 15, 'postur': 47, 'autoflow': 47, 'exhaust': 14, 'custom': 2, 'trimethoprim': 25, 'ideal': 127, 'subacut': 15, 'clench': 5, 'throw': 9, 'growth': 91, 'entercocc': 1, 'zocor': 13, 'mouthcar': 12, 'chlorhexidin': 29, 'discontinu': 139, 'photic': 1, 'tc': 64, 'fungu': 9, 'piperacillin': 106, 'correctli': 14, 'ethic': 7, 'physcial': 1, 'rwma': 2, 'perfom': 3, 'chlorhex': 6, 'lawyer': 7, 'mrsa': 152, 'interm': 9, 'prot': 10, 'contain': 102, 'alound': 1, 'hz': 5, 'speciat': 35, 'toelrat': 4, 'ime': 1, 'pneumo': 49, 'shallowli': 2, 'hctz': 16, 'microbiolog': 154, 'vna': 16, 'mucou': 103, 'meur': 1, 'voluntarili': 3, 'organ': 171, 'integumentari': 91, 'op': 105, 'indemn': 1, 'contro': 1, 'educ': 63, 'friend': 73, 'knowledg': 21, 'masshealth': 6, 'file': 14, 'closs': 2, 'truli': 12, 'propot': 2, 'laundri': 1, 'anion': 18, 'decompens': 90, 'synergi': 2, 'dip': 49, 'leukocytpsi': 1, 'inplac': 25, 'salin': 92, 'alt': 179, 'hgb': 88, 'lmw': 9, 'tco': 194, 'buit': 1, 'straight': 25, 'wore': 13, 'benefit': 141, 'iss': 71, 'mycolyt': 2, 'amylas': 71, 'sfa': 8, 'rta': 5, 'folat': 41, 'anxiolyt': 12, 'exhal': 32, 'opthalm': 1, 'nitrat': 11, 'uub': 1, 'vesta': 44, 'bilirubin': 61, 'cor': 14, 'muir': 33, 'goe': 42, 'alo': 55, 'bare': 35, 'klesiella': 1, 'substanti': 145, 'lscta': 16, 'dehydr': 52, 'palli': 31, 'coloni': 11, 'legionella': 129, 'tomm': 10, 'mycobacterium': 4, 'wo': 19, 'interview': 9, 'toeveri': 1, 'medivis': 5, 'relev': 67, 'ioniz': 114, 'shallow': 50, 'finesh': 1, 'apprec': 6, 'csb': 1, 'aerob': 45, 'crust': 9, 'comprehens': 9, 'ldh': 153, 'atc': 54, 'flora': 37, 'caspo': 3, 'stemi': 17, 'garbl': 25, 'weekli': 15, 'passi': 29, 'manufactur': 70, 'rhonchrou': 5, 'skill': 23, 'painm': 2, 'cg': 42, 'winc': 12, 'morpholog': 37, 'caspofungin': 6, 'gasp': 7, 'diurees': 1, 'frame': 34, 'rpe': 40, 'asses': 21, 'weekend': 58, 'cytokin': 1, 'ointment': 41, 'supoprt': 2, 'acheiv': 7, 'kub': 49, 'gip': 1, 'heo': 1, 'vre': 36, 'frusemid': 3, 'olanzapin': 27, 'ucx': 60, 'constantli': 30, 'albumin': 144, 'ant': 31, 'mri': 118, 'thurday': 1, 'coordin': 47, 'oint': 10, 'gen': 138, 'strengthen': 13, 'erect': 65, 'fluoro': 90, 'program': 41, 'etc': 106, 'claim': 69, 'club': 114, 'sqh': 33, 'bradycard': 38, 'olanazipin': 1, 'investig': 20, 'tap': 81, 'attni': 1, 'rout': 93, 'patiet': 2, 'stiumuat': 1, 'front': 18, 'till': 54, 'cyanosi': 130, 'grab': 12, 'mgt': 21, 'bypass': 19, 'narr': 28, 'hoyer': 6, 'ngtd': 82, 'torulopsi': 1, 'barrier': 135, 'zantac': 12, 'obtian': 1, 'bacteremia': 70, 'inservic': 1, 'relaps': 8, 'afb': 29, 'pedn': 3, 'protein': 108, 'bedcloth': 1, 'ionli': 1, 'incident': 44, 'pursu': 51, 'submit': 37, 'destin': 74, 'acei': 26, 'rtc': 22, 'resumpt': 9, 'gnr': 69, 'reluct': 11, 'frm': 2, 'fold': 35, 'succeed': 5, 'intracran': 1, 'svr': 10, 'passey': 16, 'reconnect': 2, 'hypercholesterolemia': 34, 'simvastatin': 44, 'planner': 4, 'hae': 2, 'sequela': 28, 'coccu': 2, 'realist': 4, 'fascil': 1, 'fibrinogen': 35, 'oropharyng': 105, 'quieter': 4, 'vocal': 69, 'intoler': 85, 'spot': 83, 'payer': 3, 'airmov': 3, 'mycobacteria': 3, 'malnutrit': 50, 'layer': 110, 'ass': 26, 'gentl': 74, 'tazo': 24, 'injuri': 96, 'bal': 84, 'occipit': 22, 'ntinu': 2, 'retract': 35, 'antifung': 42, 'bc': 83, 'activit': 3, 'wk': 58, 'oxid': 14, 'apart': 29, 'glenohumer': 13, 'ofr': 3, 'tubular': 12, 'andthat': 1, 'cbc': 52, 'cardiologist': 14, 'ventiatori': 1, 'origin': 143, 'cachect': 21, 'aureu': 22, 'compet': 11, 'sternal': 63, 'hip': 87, 'uncompl': 67, 'pgt': 5, 'loc': 21, 'sharp': 45, 'deliriu': 3, 'klebsiella': 18, 'polici': 7, 'deepli': 10, 'notabl': 165, 'pan': 93, 'frighten': 5, 'mattress': 37, 'durat': 69, 'natur': 56, 'puddl': 1, 'vit': 50, 'merepenem': 8, 'assest': 1, 'liaison': 6, 'diffacult': 1, 'anterioli': 1, 'cmp': 3, 'osm': 20, 'encourgag': 3, 'ard': 145, 'attach': 18, 'enterococcu': 19, 'unassist': 29, 'cloud': 3, 'glabrata': 1, 'outupt': 1, 'aecret': 1, 'mom': 27, 'kinear': 3, 'aero': 1, 'unspecifi': 4, 'diinish': 1, 'redrawn': 8, 'sqi': 15, 'troubleshoot': 2, 'carbon': 23, 'llax': 1, 'peridex': 16, 'grasp': 27, 'grimacc': 1, 'lean': 20, 'ntnd': 33, 'oo': 4, 'gum': 5, 'across': 41, 'emotiion': 1, 'pmn': 48, 'alkalin': 60, 'sate': 74, 'ppx': 115, 'deir': 1, 'rod': 53, 'discusss': 2, 'spous': 15, 'cefepim': 107, 'currrent': 5, 'lipas': 73, 'bmi': 69, 'kcal': 81, 'straighten': 5, 'bottl': 59, 'specieat': 1, 'outlin': 115, 'plateau': 78, '^nd': 36, 'reinflat': 5, 'encephalomalacia': 8, 'heliox': 5, 'pvd': 45, 'nebul': 73, 'never': 49, 'featur': 22, 'postiv': 14, 'vasopressor': 22, \"c'd\": 22, 'dysynchronu': 1, 'fi': 66, 'waveform': 101, 'bicarb': 53, 'stretch': 10, 'dysynchroni': 76, 'conduct': 88, 'learn': 7, 'acknowledg': 22, 'pip': 139, 'nonsens': 12, 'hep': 139, 'improvemt': 1, 'uroin': 1, \"trach'd\": 3, 'ventilatori': 150, 'versu': 138, 'dilig': 2, 'recur': 27, 'linezolid': 33, 'inflict': 1, 'spend': 11, 'equip': 23, 'challeng': 38, 'pleth': 12, 'multifactori': 49, 'annual': 1, 'hello': 2, 'kleb': 9, 'soap': 21, 'carotid': 57, 'alk': 181, 'misinform': 1, 'unfortun': 29, 'plantar': 8, 'handl': 23, 'knee': 81, 'transffer': 8, 'variat': 31, 'phosphoru': 105, 'supra': 11, 'flexion': 23, 'lax': 17, 'calcul': 35, 'mumbl': 17, 'bili': 173, 'press': 94, 'meaning': 4, 'dull': 81, 'interest': 28, 'mic': 41, 'involvemt': 1, 'understood': 12, 'sensori': 37, 'particp': 1, 'surgic': 173, 'suppli': 13, 'reeval': 13, \"'no\": 2, 'infxn': 24, 'futur': 88, 'unimprov': 4, 'tear': 94, 'ami': 11, 'contractur': 15, 'yeast': 83, 'subglott': 16, 'septicemia': 5, 'myopathi': 11, 'ausc': 9, 'qdaili': 5, 'toxic': 54, 'ryhtym': 1, 'approv': 59, 'elig': 3, 'siani': 1, 'errat': 17, 'ontcool': 1, 'jr': 9, 'frog': 2, 'obvious': 17, 'establish': 57, 'mgmt': 24, 'train': 35, 'typic': 42, 'mngt': 4, 'consectut': 1, 'hyperventil': 14, 'galabrata': 1, 'blocker': 131, 'lactic': 220, 'recurr': 162, 'unarous': 4, 'usag': 11, 'clarifi': 54, 'sulfa': 30, 'elexir': 1, 'rrr': 156, 'cancel': 34, 'esbl': 17, 'wihtout': 5, 'protect': 258, 'teeth': 118, 'statin': 75, 'con': 48, 'funal': 1, 'pct': 5, 'uncomprehend': 1, 'figiti': 2, 'jaundic': 83, 'polio': 3, 'prepar': 79, 'diaper': 18, 'commmand': 1, 'way': 86, 'fluctuat': 57, 'variou': 55, 'asse': 1, 'ecchymos': 31, 'reattempt': 12, 'hope': 112, 'carb': 7, 'sulfamethoxazol': 13, 'nchct': 6, 'role': 48, 'unlik': 120, 'hemithorax': 114, 'assoc': 28, 'mmol': 214, 'fast': 47, 'atelectat': 74, 'dicharg': 2, 'staph': 51, 'soil': 5, 'awit': 2, 'saturday': 18, 'chg': 21, 'ast': 167, 'phosphat': 65, 'joint': 115, 'cataract': 35, 'deflat': 36, 'tire': 82, 'bue': 31, 'tightli': 4, 'comfrot': 1, 'vavl': 1, 'icd': 51, 'iu': 151, 'ctab': 39, 'compani': 12, 'epileptiform': 4, 'rsb': 2, 'import': 48, 'resourc': 7, 'anticoag': 12, 'failr': 1, 'background': 33, 'ensur': 85, 'told': 62, 'messag': 19, 'compent': 1, 'senna': 94, 'assur': 17, 'ophtho': 1, 'reattach': 2, 'involut': 8, 'resusit': 11, 'nitric': 7, 'inquir': 10, 'toliet': 13, 'myco': 3, 'inward': 3, 'resist': 87, 'thursday': 27, 'polypharmaci': 4, 'necrosi': 20, '|': 12, 'hospic': 22, 'gentamicin': 17, 'furosemid': 119, 'uti': 106, 'inabl': 89, 'guard': 89, 'ace': 68, 'rpr': 15, 'macu': 28, 'distanc': 53, 'sunday': 23, 'enoxaparin': 7, 'maximum': 26, 'sensitivit': 4, 'reoccur': 5, 'aggit': 48, 'heent': 169, 'cefazolin': 16, 'locomot': 31, 'ocular': 4, 'caco': 4, 'hygein': 17, 'fungemia': 3, 'ranitidin': 23, 'presumpt': 19, 'eeg': 31, 'ceas': 6, 'hypodens': 91, 'scab': 27, 'cognit': 73, 'mellitu': 50, 'stair': 44, 'postpon': 18, 'esp': 45, 'vitb': 1, 'typeii': 1, 'reappli': 33, 'anticoagul': 128, 'resussit': 7, 'ineffect': 48, 'cavern': 16, 'failri': 1, 'financi': 7, 'writer': 8, 'backup': 7, 'anaerob': 19, 'lasic': 4, 'diastol': 173, 'poss': 55, 'arrang': 32, 'confer': 11, 'micropunctur': 66, 'ventilatiori': 1, 'pl': 105, 'zosyn': 185, 'atherosclerot': 97, 'clarif': 49, 'radiu': 10, 'reschedul': 9, 'calc': 62, 'lot': 65, 'bud': 16, 'bradycardia': 104, 'ciprofloxacin': 60, 'synthroid': 24, 'syndrom': 105, 'spuriou': 3, 'ceftazidim': 26, 'magnesium': 150, 'grow': 60, 'cefuroxim': 4, 'dwindl': 5, 'nab': 35, 'resassur': 3, 'toothbrush': 1, 'metavis': 34, 'pay': 11, 'vitamin': 59, 'sick': 35, 'leuk': 15, 'mov': 2, 'repleat': 74, 'fee': 19, 'alittl': 9, 'dig': 40, 'dimer': 18, 'fungal': 82, 'irregularli': 21, 'bac': 9, 'nl': 92, 'omit': 6, 'whi': 61, 'finish': 77, 'month': 144, 'bu': 15, 'myocard': 8, 'feeed': 1, 'qod': 21, 'snd': 28, 'flexor': 5, 'tpa': 22, 'worri': 12, 'permit': 14, 'enterrococcu': 1, 'ongo': 130, 'ncat': 18, 'kinair': 38, 'gic': 1, 'emphas': 104, 'debilit': 5, 'nard': 31, 'identif': 12, 'micro': 101, 'exsuffl': 7, 'inspiratori': 80, 'phonat': 8, 'probe': 29, 'apnvol': 4, 'synchron': 65, 'tobramycin': 20, 'est': 15, 'derecruit': 4, 'overwelm': 1, 'motor': 77, 'paralyz': 81, 'shunt': 33, 'throught': 12, 'hypo': 58, 'chose': 2, 'insuffl': 11, 'intra': 130, 'tracheobronch': 6, 'hypopharyng': 3, 'elixir': 9, 'apsolut': 1, 'nasotrach': 19, 'breat': 5, 'wil': 5, 'strenght': 7, 'splenic': 38, 'lcode': 1, 'facial': 65, 'vpshunt': 1, 'duodem': 1, 'zoloft': 14, 'flumazenil': 2, 'postpylor': 6, 'fdg': 29, 'wedg': 26, 'rim': 16, 'nare': 44, 'perinium': 1, 'introduc': 48, 'stockinett': 1, 'regain': 16, 'stare': 10, 'radiopaqu': 14, 'ascit': 86, 'hourli': 52, 'captropril': 4, 'retroperiton': 74, 'ulnar': 8, 'mcq': 28, 'keflex': 9, 'pancreat': 61, 'weakli': 34, 'pigtail': 36, 'palpat': 107, 'unsuit': 3, 'contanct': 1, 'trim': 17, 'unwil': 4, \"nts'ing\": 3, 'profoundli': 10, 'resolut': 184, 'ligament': 19, 'intrapelv': 8, 'dup': 15, 'punctat': 17, 'levoquin': 71, 'foerarm': 1, 'comf': 11, 'nst': 9, 'fwb': 19, 'mesenter': 70, 'definit': 207, 'hematoma': 87, 'temporarili': 14, 'trough': 91, 'hypernatrimia': 1, 'ped': 2, 'captopril': 56, 'wir': 1, 'protonix': 109, 'reddend': 2, 'perinephr': 15, 'diverticul': 36, 'resudu': 2, 'zero': 13, 'nn': 3, 'cultu': 2, 'appendix': 14, 'ruq': 51, 'secreat': 60, 'groin': 77, 'flexitract': 2, 'multipodi': 11, 'albut': 6, 'retinopathi': 8, 'pit': 80, 'reproduc': 4, 'duct': 70, 'paramedian': 7, 'amelior': 2, 'tracheobronc': 1, 'viscou': 14, 'vasc': 5, 'five': 33, 'hypoglycemia': 29, 'wbcc': 2, 'pearl': 56, 'asymmmetr': 1, 'travers': 16, 'quinin': 2, 'trachealbronch': 1, 'periph': 25, 'swang': 1, 'ful': 5, 'subdur': 21, 'shoot': 9, 'pluggi': 12, 'isodens': 5, 'strenghth': 1, 'recaptur': 2, 'careweb': 13, 'larm': 2, 'pylor': 32, 'sump': 7, 'inconsistanti': 1, 'dssg': 12, 'manipul': 31, 'etomid': 10, 'unifoc': 5, 'gaol': 3, 'inter': 3, 'lasi': 2, 'intrabdomin': 5, 'ostomi': 21, 'vp': 12, 'kump': 10, 'gyral': 1, 'undergo': 33, 'technologist': 2, 'acalc': 3, 'reidual': 1, 'dilut': 41, 'erythemat': 32, 'cohlecyst': 1, 'nephrogram': 4, 'conspicu': 14, 'periton': 25, 'dollar': 3, 'cabl': 2, 'pericholecyst': 22, 'dibilit': 1, 'trumpet': 13, 'iddm': 20, 'territori': 45, 'ganz': 17, 'yerterday': 1, 'fingerstick': 72, 'effct': 3, 'mvt': 5, 'yeasti': 8, 'caudad': 2, 'relay': 12, 'presuur': 1, 'disent': 1, 'optim': 115, 'cephalad': 5, 'lp': 39, 'intraperiton': 31, 'comp': 6, 'artlin': 2, 'stv': 15, 'descend': 76, 'triphas': 5, 'hypoxemia': 159, 'suit': 51, 'cvl': 114, 'rescreen': 6, 'mucoid': 24, 'scar': 85, 'mrsh': 1, 'dyspepsia': 3, 'pharynx': 30, 'ultrac': 8, 'subcutan': 122, 'chole': 6, 'bottom': 28, 'women': 13, 'uncahng': 1, 'rult': 1, 'preexist': 9, 'lcontinu': 1, 'format': 65, 'bottuck': 1, 'occl': 1, 'pcn': 28, 'superstiff': 2, 'couldnt': 1, 'beyond': 58, 'usus': 1, 'pap': 33, 'nph': 44, 'ptx': 112, 'narcan': 14, 'trietz': 1, 'ud': 16, 'convex': 14, 'choic': 32, 'gluocos': 1, 'waffl': 23, 'fundu': 20, 'offset': 5, 'duski': 12, 'swan': 20, 'affirm': 6, 'slate': 2, 'ventriculo': 1, 'ventriculoperiton': 3, 'fsb': 61, 'fluro': 5, 'peri': 67, 'disp': 5, 'coupl': 65, 'motil': 16, 'captoril': 2, 'excori': 46, 'toxin': 25, 'gastroparesi': 8, 'succinycholin': 1, 'anplatz': 1, 'epitaxi': 2, 'cov': 11, 'perk': 1, 'posterolater': 9, 'settign': 3, 'supp': 43, 'cmi': 3, 'signal': 48, 'magnevist': 35, 'linear': 77, 'gage': 2, 'fifth': 10, 'fourth': 15, 'fewer': 11, 'massiv': 38, 'tbb': 25, 'nuclear': 6, 'saliva': 5, 'withrr': 1, 'extensor': 3, 'pneumoni': 4, 'rusti': 12, 'lordot': 5, 'tarsal': 1, 'ble': 57, 'neutral': 16, 'sepi': 3, 'pox': 14, 'moderatli': 1, 'extrasystol': 6, 'pneu': 2, 'airport': 1, 'cuboid': 1, 'disus': 1, 'roughli': 15, 'plain': 29, 'acromi': 1, 'quick': 26, 'attemp': 7, 'labrum': 1, 'dorsum': 2, 'cchr': 8, 'fli': 4, 'rythm': 19, 'diaph': 2, 'lightli': 71, 'urpc': 2, 'pneum': 4, 'uncertain': 38, 'fiber': 82, 'plexopathi': 1, 'tiolet': 4, 'six': 39, 'decub': 67, 'hyperemia': 6, 'feasabl': 1, 'hem': 27, 'occn': 8, 'dimens': 34, 'pd': 14, 'posteriorli': 51, 'diminut': 7, 'phenomenon': 10, 'suspicion': 74, 'stir': 8, 'prof': 1, 'peerla': 6, 'numer': 73, 'strep': 32, 'unsucessful': 1, 'gross': 75, 'medicin': 56, 'substanc': 12, 'gadolinium': 35, 'cuneiform': 1, 'recenli': 1, 'humer': 23, 'subdeltoid': 1, 'tommorrow': 18, 'subscapulari': 2, 'pneumococc': 25, 'aberr': 9, 'ltr': 5, 'dulcolax': 36, 'bright': 26, 'infraspinatu': 2, 'flex': 28, 'beplac': 1, 'unusu': 30, 'abscess': 119, 'diprivan': 1, 'supraspinatu': 2, 'yearold': 1, 'solid': 132, 'mgm': 30, 'pcxr': 12, 'mellow': 1, 'osteomyel': 22, 'moist': 52, 'els': 16, 'articular': 6, 'spontrr': 1, 'marrow': 31, 'metatars': 3, 'tea': 15, 'scratchi': 2, 'eet': 1, 'cardio': 54, 'musculotendin': 1, 'osa': 48, 'deform': 50, 'clavicular': 13, 'necrot': 40, 'navicular': 4, 'arrous': 13, 'nois': 18, 'affebril': 1, 'im': 24, 'intiat': 4, 'subacromi': 1, 'bursa': 3, 'subcort': 24, 'obl': 3, 'nearli': 59, 'diaphret': 1, \"cx'ed\": 1, 'conintu': 4, 'bicep': 6, 'vapor': 1, 'maint': 23, 'doze': 42, 'store': 11, 'ax': 90, 'laser': 5, 'tranport': 2, 'axox': 11, 'hypoecho': 9, 'hemo\\x13rrhoid': 1, 'vaopriz': 1, 'anusol': 2, 'hematuria': 45, 'ctu': 1, 'periureter': 2, 'malfunct': 7, 'pole': 56, 'pertrud': 1, 'dentur': 48, 'contnu': 3, 'echogen': 56, 'nibp': 44, 'exophyt': 13, 'shakey': 2, 'urosepsi': 14, 'personnel': 4, 'flood': 2, 'inct': 2, 'printer': 1, 'atyp': 95, 'klibesella': 1, 'broken': 48, 'jitteri': 4, 'smooth': 16, 'absc': 3, 'uret': 25, 'coopert': 3, 'bay': 2, 'speach': 11, 'radiolgist': 1, 'yeseterday': 1, 'basalar': 1, 'largest': 47, 'multidetector': 54, 'oreint': 5, 'cat': 23, 'crystal': 6, 'bark': 2, 'adedqu': 1, 'otherwsi': 1, 'hygen': 10, 'bronchosast': 1, 'diphoret': 1, 'constant': 62, 'lobar': 45, 'forc': 25, 'explan': 44, 'misk': 1, 'headach': 104, 'irrit': 34, 'hack': 5, 'ach': 22, 'pee': 7, 'reevalu': 45, 'admiit': 2, 'rep': 14, 'exaserb': 2, 'followand': 1, 'fhp': 35, 'shedul': 3, 'react': 39, 'sternotomi': 60, 'lisinipril': 2, 'strengh': 1, 'dangl': 16, 'dischar': 1, 'dt': 18, 'therapeud': 2, 'outli': 1, 'median': 42, 'flash': 44, 'column': 6, 'ced': 58, 'tight': 49, 'cadiac': 3, 'fam': 18, 'fear': 15, 'mth': 4, 'tansfer': 1, 'argantroban': 1, 'althought': 4, 'dermi': 2, 'stagger': 5, 'receievd': 2, 'failer': 1, 'hypotherm': 20, 'sig': 59, 'mgso': 17, 'electoly': 1, 'hose': 2, 'doublegard': 1, 'unbutton': 1, 'historian': 14, 'snack': 9, 'hugger': 20, 'captipril': 2, 'eupneic': 2, 'prec': 21, 'bair': 14, 'argatroban': 3, 'appi': 14, 'remaian': 2, 'unbrocken': 2, 'stoma': 26, 'packet': 21, 'ptmay': 1, 'cleaner': 10, 'receiev': 6, 'lle': 45, 'kilo': 2, 'incourag': 5, 'hhtm': 1, 'satu': 4, 'cxray': 24, 'hit': 35, 'hydrostat': 10, 'stem': 20, 'readjust': 11, 'random': 36, 'wt': 59, 'trazodon': 22, 'inlet': 91, 'decannul': 8, 'miur': 2, 'triazidon': 1, 'aplli': 7, 'psychosoci': 34, 'reserv': 20, 'sympomat': 1, 'hr^': 2, 'metoprolo': 5, 'draig': 1, 'bedtim': 31, 'upto': 20, 'draft': 2, 'cefriaxon': 5, 'loperessor': 1, 'afebriel': 2, 'drplet': 1, 'shovel': 54, 'oxycodon': 90, 'azithromycin': 121, 'twitch': 9, 'atr': 62, 'occas': 27, 'pacer': 63, 'tolert': 7, 'hypokalem': 1, 'nepro': 13, 'recehck': 1, 'inutb': 1, 'vnaco': 1, \"tx'ed\": 6, 'resecur': 2, 'througho': 1, 'nerpo': 1, 'dev': 5, 'wrong': 24, 'outpu': 1, 'beextub': 1, 'disregard': 7, 'perman': 24, 'ut': 5, 'deferves': 1, 'phlegm': 18, 'eri': 2, 'insuln': 2, 'ddd': 10, 'elsewher': 15, 'needi': 2, 'calib': 99, 'choke': 38, 'power': 28, 'woken': 14, 'deposit': 11, 'yankor': 1, 'spiromet': 43, 'cloudi': 71, 'clavicl': 35, 'unreason': 1, 'accur': 40, 'hemodynamci': 5, \"sx'ing\": 13, 'adher': 11, 'acidemia': 11, 'wosen': 2, 'ord': 1, 'reappear': 4, 'andw': 1, 'fgd': 2, 'fsg': 16, 'incent': 70, 'vpace': 9, 'cook': 6, 'leftward': 46, 'coulf': 1, 'qt': 26, 'rl': 13, 'multipod': 6, 'sluggishli': 5, 'florid': 1, 'grand': 14, 'aquacel': 12, 'perfit': 4, 'copiu': 12, 'zyrexa': 2, 'languag': 88, 'toleat': 2, 'openn': 1, 'weep': 31, 'adv': 21, 'enjoy': 11, 'bloood': 2, 'circular': 3, 'hypernatremai': 1, 'miconazol': 35, '^bp': 5, 'additiona': 1, 'takennoff': 1, 'steam': 5, 'weepi': 12, 'bmx': 16, 'agreement': 29, 'psycho': 2, 'univ': 7, 'digit': 12, 'strongh': 2, 'whotish': 1, 'pearla': 1, 'reinstiut': 1, 'temporari': 33, 'rewir': 2, 'midnit': 17, 'mp': 20, 'nonverb': 35, 'cpr': 21, 'tibia': 6, 'puffi': 5, 'reexpans': 17, 'underw': 60, 'wise': 8, '^^frequent': 1, 'hydralazin': 63, 'autodiuresi': 18, 'favor': 43, 'agent': 51, 'ota': 18, 'ansarca': 2, 'ic': 10, 'carin': 11, 'dieuresi': 4, 'ramp': 8, 'cycl': 71, \"today'\": 14, 'opressor': 1, 'twenti': 11, 'sotalol': 3, 'cop': 14, 'probal': 37, 'antiobx': 1, 'zyprexia': 10, 'iurs': 1, 'hiss': 49, 'draingag': 2, 'pose': 4, 'extrim': 19, 'auto': 36, 'nu': 7, 'foe': 7, 'bilatar': 2, 'rational': 10, 'applesauc': 57, 'presept': 6, 'serou': 54, 'epistaxi': 45, 'hook': 6, 'asymetr': 1, 'succinylcholin': 5, 'dilt': 76, 'danger': 9, 'adapt': 21, 'bifurc': 20, 'nailb': 14, 'mon': 124, 'unlabour': 7, 'granul': 14, 'intraabdomin': 26, 'thrombocytopeni': 3, 'interfer': 5, 'cal': 49, 'recordsheparin': 1, 'tracheocutan': 1, 'inadequ': 59, 'bee': 35, 'jrld': 8, 'requr': 6, 'normoact': 16, 'eomi': 56, 'seroquel': 32, 'worrisom': 46, 'guidelin': 14, 'tracheomalacia': 19, 'anithypertens': 2, 'ppf': 7, 'hypocalor': 23, 'sa': 18, 'rd': 48, 'oversed': 17, 'stridor': 27, 'tazobactam': 90, 'supraglott': 2, 'autoset': 12, 'context': 38, 'bronchoscopi': 101, 'machin': 33, 'tracheobronchiomalacia': 1, 'pta': 59, 'hyperlipidemia': 74, 'bronchospasm': 27, 'gotten': 16, 'ric': 1, 'offici': 17, 'treatement': 5, 'bupropion': 4, 'guaifenesin': 23, 'bcx': 81, 'quetiapin': 8, 'bibasilr': 3, 'penetr': 74, 'downward': 39, 'atn': 44, 'proceed': 42, 'neosynephrin': 10, 'prudent': 4, 'arrhythmia': 79, 'nkfa': 15, 'distant': 119, 'postop': 31, 'heamodinam': 2, 'ao': 13, 'mouthwash': 5, 'shape': 28, 'burn': 23, 'scope': 18, 'laryngoscop': 1, 'dcd': 18, 'lamict': 3, 'idos': 1, 'strict': 49, 'alway': 56, 'ipratroprium': 7, 'os': 47, 'robitussin': 14, 'sensat': 60, 'ecg': 124, 'wwp': 25, 'euvolem': 48, 'organomegali': 41, 'lighten': 24, 'closur': 34, 'chanc': 20, 'barium': 84, 'thrombocytosi': 11, 'video': 113, 'slp': 69, 'bactermia': 8, 'mention': 47, 'sertralin': 7, 'hcl': 36, 'thr': 5, 'calori': 62, 'lorazepam': 66, 'tab': 61, 'caution': 18, 'delin': 29, 'pseudomona': 54, 'trop': 71, 'fistula': 48, 'copmlet': 1, 'neither': 19, 'nocturn': 15, 'decadron': 16, 'lunch': 40, 'tbm': 10, 'phenylephrin': 13, 'vicodin': 12, 'wan': 1, 'rigid': 34, 'arf': 112, 'contamin': 63, 'dysphagia': 89, 'hurt': 14, 'nectar': 85, 'mvv': 2, 'pantoprazol': 96, 'ofm': 13, 'cipro': 73, 'gallop': 65, 'intersti': 4, 'seed': 4, 'mmm': 83, 'vicoden': 1, 'chin': 38, 'crush': 68, 'lamotrigin': 4, 'regimin': 14, 'appendag': 17, 'latter': 14, 'probablyl': 1, 'hcfa': 22, 'throughtout': 10, 'raa': 13, 'asthma': 76, 'releas': 32, 'spray': 32, 'basilar': 201, 'certifi': 23, 'bronchopneumonia': 8, 'utd': 2, 'atheroma': 15, 'intcat': 1, 'laa': 16, \"amt'\": 1, 'border': 79, 'dosag': 42, 'pnumonia': 6, 'spacer': 16, 'benzocain': 11, 'flovent': 23, 'orthostat': 6, 'asd': 65, 'woke': 30, 'regul': 26, 'exagger': 13, 'tb': 35, 'great': 102, 'pleurit': 50, 'oedema': 2, 'whilst': 5, 'invers': 48, 'issacc': 1, 'clock': 21, 'fan': 9, 'preacuat': 1, 'opert': 1, 'dizzy': 4, 'housem': 1, 'tenou': 2, 'myo': 1, 'tele': 78, 'systool': 1, 'setteld': 1, 'arrborn': 1, 'halfway': 6, 'noncontrast': 26, 'sweat': 31, 'suptum': 4, 'prouctiav': 1, 'soung': 1, 'culter': 4, 'malais': 29, 'abus': 89, 'former': 26, 'obliqu': 44, 'unoffici': 2, 'airborn': 13, 'endocrin': 100, 'efus': 2, 'reassurr': 3, 'coughin': 2, 'hrli': 23, 'polysubst': 8, 'ivanbx': 2, 'tollert': 5, 'user': 7, 'proce': 6, 'salesman': 2, 'drinkinhg': 1, 'incresa': 9, 'intralumin': 43, 'tachi': 109, 'quadrent': 9, 'therepay': 1, 'difus': 3, 'multidiciplanari': 2, 'xr': 9, 'bloodwork': 2, 'number': 88, 'feasibl': 13, 'percent': 12, 'dinner': 44, 'expor': 2, 'compliant': 28, 'diarrhoea': 2, 'leginella': 1, 'notbal': 1, 'inact': 4, 'thereor': 2, 'tachcardia': 3, 'monitot': 1, 'maitain': 7, 'surround': 117, 'dirrhea': 3, 'hepc': 6, 'aunt': 11, 'sober': 4, 'minor': 63, 'drope': 8, 'clavian': 1, 'tolerta': 4, 'rac': 10, 'entre': 1, 'blastic': 40, 'svo': 30, 'cardia': 11, 'someon': 21, 'labe': 2, 'offic': 36, 'osteolyt': 10, 'stent': 77, 'nss': 10, 'atenolol': 23, 'knew': 18, 'wonder': 9, 'vesicl': 16, 'anomali': 3, 'widen': 54, 'bulla': 9, 'rightward': 32, 'calciif': 1, 'rfa': 2, 'pseudo': 8, 'eosinophil': 23, 'inspir': 53, 'asbesto': 18, 'wrote': 12, 'phasether': 1, 'exposur': 45, 'amiben': 1, 'ablat': 14, 'hypersensit': 15, 'puffer': 1, 'plueral': 7, 'plastic': 16, 'multiphas': 4, 'accentu': 13, 'priior': 1, 'portal': 69, 'hcc': 4, 'emphysemat': 25, 'celiac': 16, 'aprox': 4, 'real': 21, 'paratrach': 55, 'pseudocyst': 4, 'attenutaion': 1, 'cardiomedistin': 2, 'biliari': 93, 'radiofrequ': 2, 'perfus': 108, 'partli': 23, 'chill': 93, 'pancreatit': 6, 'yeaterday': 4, 'hunger': 10, 'emphysema': 117, 'evalut': 20, 'ductal': 46, 'plaqu': 50, 'cryptogen': 7, 'mix': 77, 'smoothli': 3, 'iwht': 1, 'centrilobular': 30, 'psych': 70, 'dome': 12, 'lingula': 51, 'hila': 32, 'commut': 1, 'predomin': 48, 'jelli': 13, 'threat': 6, 'pouch': 7, 'nodular': 89, 'anem': 6, 'sphincter': 10, 'mandarin': 4, 'sizabl': 10, 'flexi': 16, 'aortopulmonari': 5, 'bsc': 6, 'indwel': 83, 'cryptococc': 7, 'ppp': 44, 'flucytosin': 1, 'nuse': 1, 'induct': 11, 'refriger': 3, 'amb': 30, 'difficutli': 8, 'ne': 16, 'azythromycin': 8, 'acit': 6, 'dark': 88, 'beter': 2, 'tue': 103, 'ealier': 2, 'dispos': 3, 'fluconazol': 22, 'montior': 12, 'asap': 25, 'mvmt': 7, 'toe': 64, 'ile': 1, 'azrithomycin': 1, 'beeper': 13, 'door': 8, 'stripe': 3, 'dat': 5, 'inhomogen': 2, 'antigen': 69, 'maew': 14, 'ambison': 2, 'gradual': 81, 'atb': 7, 'cardaic': 9, 'bedbath': 7, 'ampho': 1, 'onm': 1, 'biopsi': 61, 'intralobular': 5, 'chew': 16, 'bt': 16, 'bigm': 1, 'reas': 1, 'cross': 39, 'promari': 1, 'select': 26, 'softner': 4, 'meal': 67, 'solu': 10, 'sighn': 1, 'hypoxem': 63, 'sed': 47, 'trap': 26, 'textur': 18, 'calculi': 22, 'serax': 2, 'traction': 12, 'asymp': 1, 'standpoint': 29, 'decreaz': 1, 'thorax': 53, 'nutrient': 1, \"pvc'\": 2, 'conves': 1, 'ild': 15, 'strain': 28, 'thhat': 1, 'joke': 5, 'bigemini': 18, 'bronchiectasi': 45, 'tail': 21, 'sarcoidosi': 8, 'girlfriend': 9, 'station': 27, 'spokesperson': 35, 'medrol': 12, 'dedic': 30, 'osmo': 2, 'hdsa': 3, 'wth': 10, 'bronchiolectasi': 2, 'conjunct': 77, 'calif': 1, 'aao': 19, 'alveol': 3, 'interlobular': 12, 'nonrebreath': 6, 'leni': 44, 'evolv': 48, 'mx': 5, 'undergon': 14, 'seri': 74, 'vat': 37, 'monit': 11, 'nomogram': 2, 'treament': 3, 'prone': 20, 'intrahepat': 39, 'resect': 60, 'bronchu': 48, 'rib': 92, 'inflow': 40, 'bifront': 5, 'adeq': 31, 'fainf': 1, 'fore': 2, 'wcn': 1, 'jet': 17, 'braeth': 2, 'solomn': 1, 'edg': 53, 'ccheck': 1, 'tronchant': 1, 'pst': 2, 'edt': 2, 'therapaut': 1, 'mush': 3, 'bolou': 4, 'lacunar': 20, 'rhytham': 3, 'hygroma': 2, 'eccentr': 18, 'trnasfus': 1, 'thalamu': 3, 'sarna': 18, 'statg': 1, 'hardwar': 28, 'napho': 1, 'debrid': 14, 'debried': 2, 'dement': 5, 'somul': 19, 'derang': 2, 'neutropho': 8, 'oze': 1, 'rewrit': 1, 'ssc': 4, 'occasionali': 7, 'hypoglycem': 14, 'trochant': 5, 'puntur': 1, 'barier': 1, 'unwind': 1, 'scratch': 11, 'nausou': 1, 'attemtpt': 2, 'fliud': 5, 'coccxi': 3, 'rvr': 52, 'althoug': 1, 'predinson': 2, 'noutrit': 1, 'baslin': 8, 'ecchymosi': 20, 'bsx': 21, 'occaa': 1, 'resportedli': 3, 'intubat': 3, 'periipher': 1, 'additon': 7, 'acess': 6, 'longest': 2, 'vasopressin': 17, 'comfortabl': 1, 'perineum': 29, 'redn': 2, 'extremit': 28, 'properli': 26, 'reticular': 17, 'rtw': 1, 'btwn': 6, 'syrup': 7, 'bradi': 37, 'antianxieti': 9, 'altepas': 2, 'belt': 9, 'sn': 4, 'eith': 3, 'amiodaron': 47, 'stretcher': 32, 'diflucan': 6, 'lrg': 12, 'appro': 4, 'perian': 26, 'cefapim': 14, 'frewq': 1, \"am't\": 3, 'cleanser': 21, 'rr^': 2, 'briskli': 20, 'episd': 1, 'heplock': 18, 'upbeat': 2, 'passymuir': 1, 'spasmod': 1, 'nsb': 8, 'facilit': 54, 'pant': 4, 'confluenc': 22, 'sxd': 14, 'rhonchoru': 14, 'dizzi': 43, 'fleck': 5, 'meditatin': 1, 'hyperthyroid': 4, 'homeopath': 2, 'moderat': 1, 'uninvolv': 2, 'superf': 2, 'grossili': 1, 'bcome': 1, 'viust': 1, 'xanax': 12, 'decrea': 4, 'cefepin': 2, 'epidod': 1, 'podu': 8, 'reang': 1, 'sundrom': 1, 'mildi': 20, 'revert': 11, 'gestur': 33, 'play': 21, 'abit': 6, 'break': 43, 'doppl': 2, 'sacrum': 45, 'suceed': 2, '^inr': 2, \"'tire\": 1, 'incis': 54, 'sb': 107, 'pivot': 41, 'electolyt': 8, 'regurg': 10, 'hyperoxemia': 3, 'miconizol': 6, 'forehead': 7, 'ordere': 3, 'disten': 8, 'complementari': 1, 'breakdow': 1, 'holist': 2, 'naus': 3, 'thyroid': 108, 'yel': 18, 'nka': 4, 'methimazol': 3, 'updatedon': 1, 'montitor': 3, 'hundr': 6, 'powed': 1, 'doctor': 25, 'fpp': 1, 'toilett': 4, 'medium': 40, 'weitht': 1, 'ffp': 28, 'psupp': 8, 'preprocedur': 35, 'comapzin': 1, 'rsp': 11, 'steriod': 27, 'rhinoviru': 1, 'lopresor': 8, 'recev': 4, 'pacemek': 1, 'adventiti': 2, 'tighten': 22, 'litr': 15, 'atril': 2, 'admininst': 2, 'brachi': 1, 'transfert': 1, 'ccn': 6, 'flip': 14, '^activ': 1, 'dicis': 1, 'cefipim': 74, 'bend': 10, 'serequel': 4, 'betweeen': 1, 'duflucan': 1, 'wht': 4, 'recevi': 4, 'wateri': 21, 'gt': 33, \"antibx'siv\": 1, 'occass': 22, 'instil': 32, 'codein': 31, 'maex': 6, 'prednison': 108, 'sacral': 42, 'diureiss': 1, 'protex': 1, 'thicker': 10, 'patenc': 32, 'avvess': 1, 'revertedcardiolog': 1, 'nervous': 1, 'amiod': 2, 'gluteal': 20, 'rednessskin': 1, 'disted': 1, 'breakdownn': 1, 'atropin': 14, 'zip': 2, 'norepinephrin': 23, 'accumul': 18, 'print': 11, 'ativa': 1, 'stert': 1, 'alprazolam': 5, 'xtra': 3, 'pone': 2, 'bldi': 11, 'pulmojnari': 1, 'gtube': 17, 'pat': 12, 'retap': 29, 'save': 9, 'hypoxaemiaand': 1, 'mlc': 4, 'vigir': 1, 'foam': 16, 'sxned': 21, 'lightheaded': 25, 'amio': 23, 'thumb': 8, 'inj': 6, 'airb': 9, 'music': 5, 'planninng': 1, 'pnr': 2, 'contini': 3, 'asynchronu': 1, 'ccq': 3, 'clonazapam': 3, 'clonazipam': 1, 'guafenisen': 1, 'towel': 6, 'activi': 1, 'perirect': 10, 'postion': 16, 'eldest': 2, 'flipp': 1, 'ultim': 33, 'realiz': 11, 'mul': 7, 'codien': 3, \"'rest\": 1, 'levetiracetam': 8, 'cholecystectomi': 39, 'urea': 3, 'platelet': 27, 'sens': 34, 'noninvas': 13, 'urojet': 3, 'hair': 5, 'cast': 13, 'flomax': 7, 'afterward': 26, 'vdvt': 1, 'resuspend': 1, 'subtherapeut': 23, 'rins': 14, 'motiv': 9, 'ctx': 66, 'sem': 22, 'tub': 6, 'yom': 31, 'hap': 93, 'mere': 9, 'phlebiti': 3, 'surgeon': 12, 'granual': 1, 'ug': 2, 'hyperthryoid': 1, 'serratia': 2, 'pth': 4, 'aris': 18, 'load': 65, 'wfl': 40, 'ipratropium': 74, 'absorb': 9, 'greatli': 37, 'flank': 40, 'phenobarbit': 3, 'maxim': 37, 'ttp': 20, 'protract': 4, 'tartrat': 29, 'ncm': 18, 'cabgx': 3, 'cholesterol': 12, 'moda': 13, 'spars': 25, 'maxa': 8, 'abbrevi': 4, 'intensivist': 3, 'nonpit': 1, 'cholecystostomi': 2, 'rlq': 11, 'bsn': 20, 'household': 2, 'famotidin': 58, 'phenytoin': 9, 'reb': 5, 'appoint': 30, 'dead': 12, 'cholangiogram': 1, 'squat': 5, 'heat': 20, 'retri': 9, 'commens': 9, 'dyslipidemia': 15, 'pictur': 57, 'heb': 6, 'monosodium': 1, 'warfarin': 35, 'environment': 1, 'dronederon': 1, 'lipid': 15, 'dye': 29, 'achhiev': 1, 'pharmaci': 42, 'elect': 27, 'kepra': 1, 'yetserday': 1, 'hypovolemia': 51, 'risen': 3, 'shif': 1, 'bar': 6, 'eob': 23, 'near': 151, 'cue': 41, 'appt': 10, 'cholecystosomi': 1, 'warafin': 1, 'ukn': 1, 'endur': 30, 'tacheostomi': 2, 'preced': 43, 'doesnt': 5, 'foami': 2, 'dronedaron': 1, 'hotn': 13, 'diverticulosi': 33, 'bph': 29, 'pafib': 3, 'palcement': 7, 'groom': 2, 'vc': 7, 'trachemask': 1, 'endovascular': 2, 'lob': 15, 'triglycerid': 9, 'granular': 4, 'sustain': 42, 'hypoperfus': 16, 'hemoglobin': 9, 'redo': 10, 'drew': 3, 'strenth': 2, 'bromid': 33, 'suspens': 13, 'mmp': 10, 'femor': 131, 'vm': 11, 'sqt': 1, 'telemetri': 56, 'plof': 7, 'alkolosi': 6, 'seiz': 4, 'dyspneic': 46, 'inaccur': 5, 'compart': 12, 'clearanc': 58, 'hypercalcemia': 10, 'supratherapeut': 25, 'spin': 8, 'intermit': 30, 'choley': 3, 'antibioit': 1, 'beneprotein': 28, 'confid': 6, 'implant': 9, 'entranc': 5, 'unnecessari': 6, 'vd': 13, 'sure': 50, 'glutam': 1, 'readmit': 35, 'pulll': 1, 'graft': 24, 'tunnel': 48, 'violent': 3, 'epilept': 2, 'exud': 22, 'simpli': 17, 'performac': 12, 'btca': 4, 'convuls': 4, 'redos': 12, 'sugic': 1, 'writen': 1, 'struggl': 7, 'vasotec': 7, 'harsh': 13, 'adaptec': 2, 'dobhuff': 1, 'hydralizin': 18, 'arrest': 23, 'bsbl': 1, 'angri': 25, 'mural': 13, 'methylprednison': 11, 'unsucces': 4, 'ni': 6, 'hypothermia': 19, 'oett': 27, 'semiform': 5, 'nightgown': 2, 'aeros': 2, 'worst': 22, 'asystol': 2, 'neutrophil': 10, 'okay': 60, 'othwis': 1, 'discoid': 8, 'enalapril': 9, 'anymor': 14, 'reccur': 3, 'xrt': 41, 'west': 20, 'wrestl': 1, 'paranoid': 10, 'nobodi': 2, 'gs': 21, 'metastat': 65, 'conitinu': 2, 'thoracostomi': 8, 'reprot': 2, 'leather': 3, 'clapm': 1, 'indian': 3, 'setup': 7, 'ridgid': 2, 'importantli': 4, 'oncolog': 34, 'cordi': 10, 'radiat': 80, 'shred': 1, 'stint': 1, 'drowsi': 14, 'desprat': 1, 'remiss': 6, 'flexibl': 5, 'proof': 1, 'lap': 19, 'fom': 4, 'nevertheless': 12, 'empti': 27, 'attack': 20, 'pcw': 2, 'midday': 3, 'mo': 27, 'crew': 2, 'vaccum': 1, 'kill': 8, 'oncologist': 18, 'taht': 2, 'restarin': 1, 'paperwork': 34, 'lla': 8, 'design': 36, 'bronchoscop': 10, 'bandaid': 9, 'oxicontin': 1, 'subclav': 3, 'suddenli': 12, 'moistur': 14, 'neoplast': 14, 'delusioni': 1, 'thrash': 17, 'build': 17, 'decsion': 3, 'armstorng': 1, 'hallucin': 33, 'maintenc': 2, 'advantag': 2, 'dictat': 70, 'beggin': 1, 'imv': 13, 'paralyt': 10, 'hallucinatori': 2, 'sorri': 4, 'peermenat': 1, 'orali': 1, 'diminis': 1, 'harm': 8, 'henc': 8, 'releiv': 4, 'terribl': 4, 'multilpl': 1, 'smoker': 69, 'misc': 5, 'ncp': 1, 'escap': 5, 'propfol': 7, 'abat': 5, \"'m\": 25, 'tachyapen': 1, 'notibl': 1, 'permen': 2, 'currentlli': 1, 'departur': 3, 'crepitu': 27, 'chemo': 44, 'tumor': 44, 'divorc': 6, 'waist': 12, 'proccess': 1, 'unsucess': 2, 'propof': 2, 'medistin': 5, 'kn': 1, 'fhpa': 7, 'ivda': 4, 'perecnt': 1, 'neuropathi': 36, 'dryer': 2, 'azitromycin': 2, 'floey': 1, 'brieflli': 1, 'plum': 1, 'segment': 205, 'consit': 5, 'presep': 18, 'uncoil': 2, 'hcv': 23, 'thoughtout': 2, 'addict': 21, 'vicodan': 1, 'receipt': 2, 'acinetobact': 3, 'amx': 3, 'draing': 12, 'clonipin': 5, 'adendun': 1, 'serosang': 31, 'bsf': 2, 'catch': 7, 'tran': 16, 'immidiatli': 1, 'marker': 31, 'morbid': 15, 'bariair': 3, 'communc': 2, 'pseudonoma': 1, 'tirat': 3, 'clonopin': 6, 'bigboy': 1, 'respiraotri': 3, 'colostomi': 17, 'closet': 2, 'shilli': 1, 'avg': 9, 'mgx': 4, 'aroussbl': 1, 'levof': 3, 'def': 7, 'ts': 41, 'besid': 11, 'somonl': 3, 'hrt': 21, 'clonidin': 14, 'nickel': 3, 'grimaci': 1, 'notat': 3, 'juven': 1, 'agua': 1, 'coaurs': 1, 'meticul': 5, 'vessl': 2, 'epi': 25, 'nitrit': 6, 'linazolid': 3, 'faster': 55, 'presur': 2, 'lad': 83, \"dri'\": 1, 'ture': 5, 'cortisol': 27, 'augment': 97, 'avf': 27, 'hemiparesi': 29, 'suprahilar': 10, 'alleyvn': 1, 'bound': 17, 'dhf': 3, 'htpn': 1, 'tablet': 26, 'anterolater': 39, 'honk': 1, 'tobacco': 77, 'restrict': 89, 'drench': 1, 'valid': 13, 'brbpr': 10, 'pottassium': 1, 'vigil': 4, 'buttack': 1, 'elderli': 34, 'bicarbon': 13, 'nephrotox': 9, 'equival': 14, 'hyperreson': 44, 'omeprazol': 43, 'unerli': 1, 'sttw': 2, 'sion': 1, 'ste': 6, 'neuto': 1, 'anicter': 69, 'acccess': 2, 'disrrhea': 1, 'pack': 74, 'ggt': 9, 'aa': 21, 'vsd': 39, 'nonstag': 1, 'sbo': 27, 'hemipharesi': 1, 'arhb': 9, 'algorithm': 7, 'siadh': 26, 'medntal': 1, 'exch': 18, 'tw': 7, 'multivitamin': 59, 'formula': 30, 'invalid': 5, 'perpher': 18, 'profus': 14, 'blacken': 5, 'fetl': 1, 'hypoaldosteron': 2, 'act': 60, 'multidrug': 2, 'ipratrop': 2, 'rhoncor': 12, 'insid': 13, 'jxxb': 6, 'lcx': 9, 'freeli': 43, 'improp': 1, 'cardic': 1, 'pda': 26, 'porcin': 5, 'neutra': 9, 'rarr': 1, 'pxdb': 7, 'mag': 82, 'reassuringli': 1, 'azygo': 14, 'cerebrovascular': 11, 'hsq': 14, 'haloperidol': 25, 'beta': 99, 'prioriti': 7, 'misplac': 5, 'hadsbp': 1, 'yesterd': 1, 'fulll': 1, 'alcohol': 96, 'roscommon': 1, 'nursig': 1, 'pulmocar': 1, 'ppd': 30, 'retir': 29, 'png': 6, 'bilar': 2, 'metop': 8, 'groan': 12, 'unk': 1, 'peritoneum': 4, 'anteriolater': 1, 'reciproc': 3, 'worthwhil': 1, 'courc': 1, 'broadli': 23, 'italian': 4, 'ferritin': 14, 'mdr': 8, 'rhoncer': 7, 'alkp': 1, 'std': 5, 'intev': 3, 'cytolog': 26, 'damag': 14, 'hyperosmolar': 1, 'syring': 11, 'metoclopramid': 15, 'rigor': 26, 'rather': 82, 'difficil': 31, 'hear': 67, 'muc': 1, 'dng': 16, 'diaphoresi': 41, 'angina': 13, 'isquit': 1, 'synthryoid': 1, 'resrart': 1, 'gr': 32, 'eschar': 8, 'option': 51, 'healthcar': 40, 'inhibitor': 30, 'upslop': 1, 'outsid': 75, \"uti'\": 1, 'twi': 18, 'decel': 4, 'odor': 14, 'palc': 8, 'solut': 24, 'toson': 1, \"ce'\": 3, 'jksd': 18, 'defici': 38, 'miner': 47, 'spfc': 15, 'lit': 34, 'panel': 49, 'illicit': 10, 'sclera': 115, 'catheter': 18, 'allevyn': 21, 'patellar': 3, 'jtube': 7, 'repo': 17, 'dashboard': 7, 'bblocker': 6, 'chlorhexadin': 2, 'rsrc': 14, 'malposit': 24, 'qhr': 8, 'bind': 1, 'curent': 4, 'unstag': 8, 'hemorrhoid': 9, 'chemistri': 51, 'qidach': 2, 'ascorb': 4, 'flexis': 31, 'hf': 19, 'merepenum': 8, 'ratio': 24, 'hyperantremia': 1, 'rca': 9, 'suppl': 81, 'hyperglycemia': 82, 'grayscal': 79, 'crowd': 15, 'normocyt': 10, 'capactiy': 1, '^rd': 13, 'meropenim': 4, 'clostridium': 20, 'pk': 9, 'argu': 18, 'housestaff': 30, 'uncommun': 3, 'unstabl': 30, 'sundown': 15, 'protector': 2, 'gluc': 9, 'tricep': 3, 'resposit': 7, 'account': 43, 'pneumoperitoneum': 19, 'anterospt': 1, 'mca': 17, 'millimet': 2, 'causal': 2, \"'out\": 1, 'sun': 60, 'dif': 8, 'perday': 1, 'atter': 1, 'ftt': 5, 'ezmolol': 1, 'mulitivitamin': 1, 'sight': 8, 'blockad': 15, 'caliciu': 1, 'mvi': 38, 'fed': 22, 'tetracyclin': 12, 'pud': 46, 'maiten': 2, 'attorney': 8, 'repet': 7, 'guardian': 14, 'reclin': 13, 'legal': 36, 'cathey': 1, 'mssa': 21, 'osteo': 10, 'sud': 6, 'homemak': 4, 'si': 17, 'overdistend': 2, 'golyt': 3, \"legionella'\": 1, 'bloat': 4, 'precordium': 17, 'disimpact': 13, 'divis': 43, \"md'\": 3, 'everytim': 2, 'llq': 10, 'onlin': 13, 'angioneurot': 1, 'flew': 1, 'obstip': 8, 'itch': 21, 'uteru': 27, 'arthroplasti': 9, 'bronchiti': 34, 'ultram': 15, 'tramadol': 11, 'overt': 81, 'bronchogram': 64, 'cramp': 18, 'impact': 40, 'mbue': 8, 'discern': 12, 'fibroid': 7, 'disempact': 3, 'tha': 6, 'presepsi': 2, 'osteoarthr': 22, 'atorvastatin': 24, 'retent': 51, 'churg': 3, 'repons': 2, 'catscan': 3, 'centavit': 1, 'streak': 35, 'prod': 66, 'palpit': 78, 'abdomihn': 1, 'abund': 10, 'recordslosartan': 1, 'subcentimet': 30, 'ouput': 13, 'sticki': 7, 'manual': 33, 'seven': 23, 'myalgia': 62, 'polyethylen': 12, 'gastrointestin': 109, 'suppositori': 25, 'angioedema': 8, 'pneumothorac': 31, 'loratadin': 5, 'pullmonari': 2, 'acquisit': 27, 'consecut': 14, 'dchf': 10, 'benzonat': 6, 'instanc': 6, 'noncontributori': 3, 'calcarb': 1, 'klor': 1, 'spiriva': 20, 'senakot': 1, 'soband': 1, 'longstand': 31, 'iin': 4, 'consolod': 2, 'miralax': 16, 'tenac': 2, 'sma': 10, 'fluticason': 25, 'paf': 19, 'arthriti': 30, 'migrain': 10, 'gabapentin': 29, 'numb': 53, 'pseudomana': 1, 'furosemi': 1, 'bra': 2, 'silent': 34, 'annulu': 23, 'purs': 9, 'glycol': 11, 'modestli': 4, 'losartan': 9, 'jekh': 11, 'hypoalbuminemia': 2, 'bathroom': 16, 'advair': 35, 'version': 44, 'sock': 5, 'neurot': 1, 'fev': 9, 'milk': 17, 'thatn': 1, 'coli': 20, 'evenu': 1, 'aforement': 11, 'unbal': 1, 'yankaeur': 5, 'aphas': 10, 'evlauat': 1, 'yield': 24, 'spoken': 41, 'clairfi': 1, 'suciton': 7, 'town': 5, 'od': 7, 'anf': 4, 'ade': 2, 'inflitr': 3, 'ru': 2, 'mici': 1, 'zithromax': 10, 'flouroscopi': 3, 'glucerna': 2, 'emisi': 2, 'apperci': 1, 'recommenc': 3, 'epiglott': 35, 'vicryl': 8, 'boop': 9, 'incl': 29, 'lymphanget': 2, 'conist': 2, 'perti': 1, 'radiologistclip': 1, 'lost': 33, 'oropharynx': 59, 'ultrasonographi': 5, 'deflect': 36, 'vascul': 14, 'collim': 29, 'tunnedl': 1, 'exact': 10, 'correspond': 63, 'passag': 12, 'atelectas': 17, 'shth': 6, 'int': 22, 'spillag': 4, 'centesi': 7, 'absenc': 75, 'broncoscopi': 5, 'biapic': 16, 'neoplasm': 39, 'carcinomatosi': 5, 'oscult': 1, 'pnemonia': 17, 'outpouch': 1, 'ultrasonograph': 15, 'nonlas': 5, 'para': 18, 'intestin': 27, 'cricopharyng': 3, 'sebac': 4, 'anyon': 10, 'aaox': 33, 'oval': 24, 'display': 60, 'hypoattenu': 18, 'aggrav': 2, 'sibl': 9, 'phase': 113, 'ake': 1, 'vault': 4, 'dont': 2, 'cbd': 21, 'ciwa': 22, 'torso': 96, 'serviceclip': 4, 'aspergillosi': 3, 'dopp': 9, 'bibas': 24, 'duplex': 30, 'pel': 15, 'transamin': 26, 'asperigillosi': 1, 'peribronchiolar': 9, 'echotextur': 28, 'niv': 28, 'nonenhanc': 2, 'pancrat': 1, 'vori': 1, 'musc': 1, 'brkd': 1, 'dysphoria': 1, 'coninu': 6, 'adeqaut': 7, 'abt': 5, 'spon': 18, 'tack': 3, 'bang': 9, 'diverticulum': 10, 'loccul': 1, 'rsd': 1, 'epigastr': 21, 'oet': 3, 'outout': 3, 'prosthet': 14, 'aroung': 3, 'tu': 9, 'backflow': 2, 'sxt': 4, 'neccessari': 4, 'presseur': 1, 'bulg': 11, 'dep': 7, 'tyleno': 3, 'intol': 2, 'tie': 13, 'antibioitc': 2, 'mycostatin': 16, 'rust': 8, 'eqaul': 1, 'sideport': 9, 'shown': 36, 'deem': 17, 'midnght': 1, 'eccyhmot': 1, 'nifm': 1, 'sanguin': 10, 'bx': 31, 'sheddi': 1, 'subpulmon': 7, 'cntl': 3, 'sxning': 18, 'overlay': 4, 'entero': 1, 'addtion': 4, 'ther': 8, 'ancef': 1, 'elong': 47, 'patint': 2, 'assit': 10, 'ventilatio': 1, 'fc': 7, 'tudi': 1, 'exclus': 13, 'preclud': 15, 'charg': 6, 'previosu': 1, 'thorcentesi': 1, 'book': 17, 'placem': 10, 'bloodting': 7, 'pati': 1, 'zenker': 3, 'pnaumonia': 1, 'chnage': 5, 'bedrail': 6, 'pharyngoesophag': 1, 'strategi': 13, 'peopl': 33, 'pylori': 11, 'agrre': 1, 'soften': 9, 'epigast': 1, 'greek': 3, 'antibiod': 8, 'scare': 12, \"'ing\": 6, 'siderail': 13, 'trachesotomi': 1, 'reliabl': 18, 'mayb': 34, 'diffult': 1, 'medcial': 1, 'pomot': 1, 'prospect': 2, 'duiresi': 4, 'apneia': 1, 'cholelithiasi': 36, 'nephrectomi': 12, 'overse': 1, 'durages': 5, 'cirrhot': 6, 'esphog': 1, 'uncomprehens': 2, 'hepatoma': 1, 'neutro': 4, 'neurontin': 39, 'aortocav': 4, 'fentanlyl': 1, 'nodal': 18, 'varic': 14, 'nystagmoid': 1, 'collater': 15, 'olni': 1, 'xalatan': 2, 'huge': 13, 'rythmic': 1, 'nonobstruct': 9, 'hyperechogen': 2, 'phosphatas': 8, 'grave': 6, 'thrombosi': 91, 'nonbreath': 1, 'asid': 22, 'decomp': 2, 'pterion': 2, 'sbna': 9, 'levoflaxacin': 2, 'flecainid': 2, 'pfo': 19, 'nsst': 2, 'metronidazol': 54, 'grown': 18, 'pernici': 4, 'frontotempor': 2, 'craniotomi': 7, 'splenoren': 2, 'empyema': 64, 'narrow': 111, 'valvular': 73, 'megacolon': 12, 'steadili': 13, 'architectur': 9, 'bubbl': 24, 'dilaudid': 42, 'pmi': 84, 'abomin': 1, 'celexa': 25, 'subcarin': 48, 'lowish': 2, 'hyperinfl': 31, 'tambocor': 1, 'flecanaid': 1, 'flovastin': 1, 'flecanid': 2, 'pseudomembran': 2, 'stigmata': 3, 'ica': 23, 'heavi': 43, 'unexplain': 8, 'pepcid': 46, 'anur': 17, 'habitu': 52, 'transcort': 1, 'qpm': 9, 'foramen': 18, 'pancytopenia': 9, 'vac': 8, 'withnew': 1, 'sac': 10, 'nwh': 5, 'pneumovax': 3, 'necessarili': 8, 'baricat': 6, 'blossom': 4, 'chgc': 4, 'questran': 1, 'esophag': 75, 'aneursym': 4, 'orific': 5, 'honeycomb': 10, 'seriou': 5, 'dyspahgia': 2, 'enterobact': 7, 'falgyl': 2, 'accordion': 1, 'shadow': 53, 'gmdb': 3, 'ileu': 42, 'mood': 15, 'older': 12, 'pneumatosi': 16, 'qam': 18, 'intracardiac': 17, 'hypoxi': 1, 'eagg': 9, 'rheumat': 6, 'extrahepat': 15, 'tkcb': 4, 'unsur': 40, 'recordspneumovax': 1, 'collapps': 1, 'inclin': 5, 'skincar': 4, 'meningismu': 4, 'pancol': 3, 'contributori': 21, 'splenomegali': 26, 'elicit': 13, 'depakot': 13, 'ampl': 11, 'throughput': 1, 'fifteen': 2, 'nodd': 4, 'startl': 6, 'auditori': 6, 'lwi': 1, 'netrothick': 1, 'bronchi': 54, 'diuesi': 1, 'fxd': 3, 'vallecula': 36, \"decr'\": 1, 'benzo': 46, 'erract': 1, 'tommorow': 9, 'maynot': 1, 'cooler': 2, 'transvers': 41, 'affirmativley': 1, 'tracheobronchi': 20, 'coffe': 23, 'nutrtion': 3, 'muer': 2, 'ducolax': 10, 'riski': 3, 'stau': 8, 'grip': 15, 'intrathorac': 18, 'coomand': 1, 'accid': 8, 'ostiomeat': 5, 'fluroscop': 2, 'cooprer': 1, 'spiral': 2, 'maxillofaci': 11, 'homogen': 34, 'carvu': 15, 'dem': 1, 'valuewith': 1, 'intermitantli': 2, 'ou': 6, 'empath': 2, 'ivx': 7, 'antegrad': 16, 'pneumat': 10, 'stoolx': 5, 'liw': 1, 'infil': 4, 'visul': 1, 'lge': 27, 'gravitli': 1, 'phenegin': 1, 'liezolid': 1, 'rle': 40, 'cam': 3, \"trach'\": 2, 'acidot': 14, 'pleura': 31, 'lenti': 1, 'throghout': 1, 'mequ': 1, 'patien': 4, 'lenght': 3, 'tachypeniec': 2, 'transger': 1, 'transaort': 7, 'demerol': 10, 'withdrawl': 20, 'method': 14, 'clam': 3, 'peptamin': 1, 'heavili': 19, 'aknowledg': 1, 'spillov': 23, 'appropti': 1, 'teh': 7, 'thur': 9, 'bf': 3, 'laboratori': 12, 'dima': 1, 'improvemnt': 2, 'billiou': 3, 'barocat': 3, 'multipurpos': 1, 'anaplast': 2, 'ureteru': 1, 'expens': 3, 'ugib': 8, 'articul': 13, 'panic': 14, 'evsl': 1, 'amyla': 1, 'junctur': 1, 'agiat': 6, 'coud': 7, 'acyclovir': 21, 'pneunomia': 2, 'deescal': 1, 'crea': 10, 'rem': 1, 'gelatan': 1, 'midlung': 8, 'llightli': 1, 'fro': 23, 'anesthesi': 1, 'unilater': 9, 'drgreena': 1, 'darken': 1, 'rhonch': 3, 'intremitt': 1, 'speck': 5, 'fuo': 26, 'pheresi': 1, 'tacycardia': 3, 'mimin': 2, 'extralumin': 7, 'tart': 2, 'mycoplasma': 6, 'distensio': 1, 'peq': 1, 'lavarg': 5, 'purri': 1, 'tyenol': 6, 'practic': 9, 'hypoplast': 3, 'cmpeep': 1, 'gastrostomi': 35, 'fuction': 3, 'appropi': 19, 'tachycardiac': 5, 'larynx': 8, 'pocket': 24, 'ltue': 1, 'oxygent': 7, 'pupos': 3, 'dueoderm': 4, 'silk': 14, 'actviti': 3, 'zestril': 3, 'attemt': 5, 'imepenem': 2, 'groov': 2, 'throuhgout': 4, 'haldolx': 1, 'baracat': 2, 'popscicl': 1, 'droperidol': 1, 'htx': 1, 'hallway': 5, 'repiratori': 5, 'uac': 3, 'chekc': 2, 'darker': 4, 'recultur': 37, 'palpapt': 1, 'viscer': 9, 'com': 4, 'suctioin': 1, 'perlla': 4, 'catnap': 1, 'flucuat': 3, 'gastrographin': 2, 'teari': 10, 'imipemium': 1, 'weather': 5, 'flouro': 3, 'tachpneic': 8, \"sx'ed\": 7, 'fatiqu': 3, 'anticoagualt': 1, 'airmattress': 4, 'quadrupl': 2, 'lanti': 6, 'anatom': 16, 'flexur': 10, 'diaphor': 1, 'fluorscop': 1, 'awi': 3, 'paper': 32, 'dtv': 9, 'bmthi': 1, 'airwari': 1, 'subcm': 2, 'gastrograffin': 4, 'honey': 15, 'spirit': 26, 'oil': 11, 'catheth': 2, 'grimmac': 6, 'pipicilln': 1, 'oz': 4, 'reddish': 2, 'bilou': 5, 'arachnoid': 5, 'sheift': 1, 'qlcl': 2, 'particiapt': 1, 'bgm': 1, 'antiboticx': 1, 'lisinepril': 1, 'armpit': 9, 'linisod': 1, 'frquesnt': 1, 'tonit': 12, 'fallen': 9, 'behind': 14, 'kegal': 1, 'mc': 14, 'exu': 1, 'egg': 9, 'crate': 1, 'recan': 6, 'blanket': 35, 'transluc': 1, 'slough': 6, 'extermit': 3, 'methylen': 3, 'sharpli': 17, 'surfac': 39, 'ocassion': 5, 'straw': 62, 'eripher': 1, 'mash': 4, 'bilex': 1, 'indicaiton': 1, 'unclamp': 3, 'imipenum': 3, 'vhp': 3, 'mandibl': 15, 'midazolam': 75, 'tachypen': 13, 'podiatri': 6, 'anesthet': 26, 'meperidin': 7, 'iatrogen': 7, 'taught': 10, 'peptomen': 3, 'imipenem': 7, 'peptimen': 2, 'wont': 2, 'bout': 15, 'lcl': 1, 'brb': 13, 'regiular': 1, 'palap': 2, 'spirt': 1, 'peripancreat': 3, 'pasi': 2, 'rebolus': 3, 'hydral': 17, 'acalcul': 4, 'llift': 1, 'shook': 7, 'wob^': 1, 'averag': 51, 'integrt': 1, 'sputm': 3, 'ativanx': 1, 'prolin': 1, 'eros': 17, 'yankauer': 28, 'diabetc': 1, 'endoscop': 6, 'hemi': 5, 'drng': 31, 'insuffici': 84, 'thoughout': 17, 'court': 9, 'truncat': 2, 'leakag': 24, 'bulb': 12, 'edno': 2, 'humidifc': 2, 'kind': 9, 'swollow': 9, 'circumscrib': 12, 'flagal': 2, 'flaygl': 5, 'acromioclavicular': 8, 'hypertroph': 5, 'letherg': 1, 'cu': 16, 'orangish': 1, 'maintainc': 3, 'domin': 9, 'pathologist': 19, 'vertebra': 13, 'indetermin': 106, 'duires': 4, 'comforat': 2, 'lac': 14, 'givn': 9, 'hve': 1, 'lacutlos': 1, 'likley': 15, 'irregualr': 1, 'retriev': 10, 'diffculti': 2, 'accesori': 3, 'thryoidectomi': 1, 'suffer': 19, 'sato': 9, 'steadi': 51, 'hymodynam': 1, 'collabor': 26, 'uncommon': 3, 'shaft': 10, 'langu': 1, 'bougi': 3, 'primarili': 44, 'thyroidectomi': 9, 'tt': 12, 'spc': 1, 'biilater': 1, 'shell': 1, 'dorsali': 34, 'pusl': 1, 'breather': 9, 'institut': 9, 'parastern': 13, 'cardizem': 12, 'protecton': 1, 'pleasent': 2, 'subcost': 14, 'implement': 17, \"'even\": 1, 'thrombi': 20, 'chorda': 51, 'gone': 34, 'dinnertim': 2, 'presenlti': 1, 'pep': 3, 'svn': 17, 'npc': 13, 'ccc': 61, 'hypernatermia': 1, 'spread': 24, 'loudest': 6, 'valsartin': 1, 'adn': 11, 'bronchodiltor': 1, 'comm': 39, 'grandchildren': 6, 'callbel': 4, 'desmopressin': 2, 'americar': 1, 'dysuria': 70, 'hypercarb': 44, 'hypoventil': 20, 'coverg': 3, 'diovan': 6, 'sella': 3, 'panhypopit': 1, 'pyelonephr': 8, 'oh': 10, 'atarax': 1, 'adat': 20, 'rusb': 6, 'usb': 3, 'girl': 5, 'microorgan': 27, 'feurea': 10, 'young': 14, 'overweight': 88, 'recordsac': 1, 'givenrsbi': 1, 'mghg': 1, 'appropriatli': 11, 'ddavp': 4, 'fena': 30, 'hypopituitar': 1, 'hypercapn': 9, 'diiures': 1, 'panhypopituitar': 1, 'boy': 5, 'asdir': 10, 'valsartan': 6, 'mandat': 14, 'reorder': 11, 'mcv': 11, 'hypokalemia': 16, 'callout': 9, 'hyperbar': 1, 'eject': 34, 'disabl': 15, 'epidur': 19, 'tarri': 6, 'tortuos': 24, 'saftey': 4, 'decort': 23, 'basilac': 2, 'bilt': 2, 'alph': 2, 'bascil': 1, 'readili': 12, 'drifit': 1, 'comprehend': 6, 'firmer': 2, 'anticub': 3, 'redict': 1, 'iorn': 1, 'nightmar': 1, 'ri': 8, 'inleg': 1, 'lebil': 1, 'acceler': 11, 'radiolabel': 1, 'daughet': 3, 'parasagitt': 5, 'yankuer': 14, 'repeatedli': 25, 'aniticip': 1, 'camera': 2, 'colloid': 4, 'scali': 2, 'sulfur': 1, 'immediatli': 2, 'nauseat': 5, 'complainingof': 1, 'cotinu': 4, 'whil': 1, 'strictli': 7, 'uci': 1, 'tracer': 9, 'reprons': 1, 'autonim': 1, 'malleol': 1, 'endoscopi': 20, 'abraison': 1, 'vacuo': 4, 'hyotens': 3, 'undetect': 6, 'repetit': 8, 'bo': 18, 'fluctuant': 2, 'titir': 3, 'nephrolithiasi': 25, 'severli': 6, 'esophogram': 2, 'lidoderm': 9, 'dysmotil': 2, 'ingest': 16, 'radlin': 10, 'gell': 2, 'contratur': 1, 'transcript': 10, 'unconclus': 1, 'listen': 31, 'autonom': 9, 'periren': 4, 'gamma': 3, 'advis': 32, 'inquiri': 12, 'capabl': 7, 'label': 13, 'babi': 7, 'compleat': 2, 'hemispher': 18, 'radiopharmeceut': 1, 'cerebro': 1, 'atial': 1, 'spectral': 19, 'asymmetri': 18, 'appropraietli': 1, 'porta': 9, 'methadon': 24, 'independantli': 4, 'epicardi': 6, 'qflow': 1, 'ej': 9, 'abut': 24, 'hyperdynam': 66, 'horizont': 5, 'apprx': 2, 'dtpa': 5, 'obstrn': 1, 'mltp': 1, 'plane': 41, 'corvac': 2, 'ritalin': 7, 'bilobar': 1, 'emboli': 34, 'pauciti': 10, 'pneumocyst': 2, 'anterosept': 55, 'chux': 2, 'crohn': 9, 'cmr': 1, 'candi': 1, 'cine': 2, 'myocardium': 7, 'axr': 3, 'fraction': 30, 'ielostomi': 1, 'amplitud': 28, 'ssfp': 1, 'immunosupress': 6, 'qp': 1, 'breifli': 4, 'quantit': 10, 'worsn': 2, 'poplit': 71, 'chrohn': 3, 'mtx': 2, 'wheat': 2, \"'chest\": 1, 'arrhymia': 1, 'gadolin': 4, 'diaphragmat': 20, 'similarli': 13, 'caspofugin': 1, 'immunosuppress': 17, 'echodens': 7, 'index': 28, 'skelet': 9, 'algorythm': 1, 'liquidi': 4, 'obx': 1, 'dimeglumin': 1, 'compl': 3, 'phasic': 13, 'rvef': 1, 'dynspnea': 1, 'customari': 1, 'gadopentet': 1, 'jvd': 47, 'metastasi': 31, 'toung': 4, 'insight': 4, 'pontin': 5, 'lid': 5, 'hsm': 45, 'nsclca': 7, 'fibrin': 4, 'petellar': 1, 'nsclc': 27, 'hyperreflex': 1, 'concer': 2, 'avascular': 6, 'palat': 41, 'nslca': 1, 'ome': 18, 'catarac': 1, 'paroxetin': 7, 'insult': 20, 'droop': 20, 'upgo': 1, 'nonsustain': 2, 'thrombocytopenia': 29, 'lobectomi': 23, 'cord': 52, 'althrough': 1, 'anixeti': 1, 'achil': 3, 'swish': 7, 'nonsmal': 6, 'benzodiazepin': 13, 'duoneb': 7, 'bruit': 15, 'rhinorrhea': 19, 'nscla': 1, 'fatug': 1, 'propanolol': 2, 'mmd': 1, 'dexamethason': 15, 'slur': 17, 'amiodoron': 11, 'hypocalcemia': 6, 'dysfxn': 4, 'upward': 26, 'anywher': 11, 'shave': 8, 'trunk': 34, 'inflam': 9, 'unavail': 35, 'pneumnia': 3, 'secondard': 1, 'tum': 8, 'rhabdomyolysi': 3, 'retard': 8, 'rhabdo': 3, 'csru': 10, 'essentailli': 1, 'raw': 12, 'preoper': 5, 'malfunt': 1, 'subpleur': 19, 'precep': 1, 'interstici': 1, 'volumetr': 13, 'reccommend': 3, 'asbestosi': 5, 'deminer': 20, 'fatti': 29, 'inferiorli': 31, 'interrupt': 11, 'polyp': 15, 'intervertebr': 9, 'dental': 12, 'gutter': 11, 'sho': 1, 'uptak': 12, 'degener': 11, 'metastas': 27, 'deal': 12, 'thoracu': 1, 'fifti': 1, 'nkg': 2, 'deoxygen': 1, 'corin': 1, 'skeleton': 12, 'emobol': 1, 'tspine': 1, 'amalgam': 2, 'obsturct': 1, 'extext': 6, 'adenoid': 3, 'subcorin': 1, 'parotid': 10, 'eg': 17, 'feaml': 1, 'colic': 4, 'penumonia': 8, 'desa': 2, 'carcinoma': 47, 'adnexa': 18, 'viru': 16, 'mexilitin': 1, 'fexofenadin': 6, 'citrat': 11, 'pseudoephedrin': 1, 'paraplegia': 11, 'vacno': 4, 'patul': 4, 'tofu': 1, 'mucinex': 16, 'consern': 1, 'breez': 1, 'fenatyl': 2, 'starter': 2, 'mexiletin': 3, 'radiiograph': 1, 'tg': 6, 'theophyllin': 3, 'cmo': 24, 'ipf': 18, 'hum': 2, 'wrok': 1, 'upep': 2, 'obssess': 1, 'neurogen': 6, 'eosiniophilia': 1, 'triad': 1, 'serolog': 22, 'refeed': 4, 'togeth': 16, 'lollipop': 1, 'cottonse': 1, 'cautious': 6, 'trust': 6, 'parapleg': 6, 'ondansetron': 11, 'addt': 1, 'hallodol': 1, 'zinc': 5, 'anxirti': 2, 'coagul': 15, 'wheel': 8, 'lollypop': 2, 'reguard': 6, 'tib': 6, 'anca': 11, 'montelukast': 6, 'naloxon': 1, 'hive': 31, 'medicat': 2, 'ishial': 1, 'buccal': 23, 'ancillari': 2, 'wellbutrin': 4, 'homecar': 3, 'klonopin': 17, 'premed': 6, 'threw': 3, 'fowel': 2, 'femur': 19, 'opiat': 21, 'abrupt': 9, 'antigbm': 1, 'wasa': 2, 'satt': 3, 'iodin': 24, 'spoon': 14, 'brace': 9, 'coagulopathi': 57, 'parenter': 45, 'tenuou': 40, 'uroqid': 1, 'glucan': 21, 'pussi': 1, 'participc': 1, 'strike': 7, 'rough': 3, 'esr': 10, 'smell': 18, 'alevi': 1, 'synephrin': 2, 'mepilex': 16, 'emuls': 1, 'nutit': 2, 'ige': 3, 'sereou': 1, 'galactommanan': 1, 'cessat': 9, 'solutab': 1, 'bursiti': 2, 'apolog': 1, 'recordsaspirin': 1, 'wc': 7, 'ischial': 3, 'persu': 4, 'preren': 34, 'baclofen': 11, 'stasi': 19, 'mucuh': 1, 'panick': 2, 'spri': 3, 'relationship': 11, 'ppn': 6, 'samter': 1, 'wellbutrim': 2, 'spep': 3, 'halodol': 7, 'glute': 5, 'geripsych': 1, 'amino': 3, 'readm': 3, 'myeliti': 1, 'sampter': 1, 'freak': 1, 'syndro': 2, 'nf': 6, 'gbm': 5, 'prealbumin': 1, 'crp': 8, 'pall': 4, 'adamantli': 3, 'vec': 6, 'bridg': 25, 'cousin': 9, 'pulmonolog': 8, 'willb': 2, 'pastey': 2, 'sse': 10, 'sync': 2, 'dk': 13, 'ball': 6, 'anim': 10, 'prupos': 1, 'possobl': 1, 'share': 47, 'trail': 14, 'acv': 12, 'duccolax': 1, 'slilghtli': 1, 'objecti': 1, 'socail': 10, 'ovebreath': 1, 'wdw': 1, \"o'\": 4, 'golf': 2, 'providencia': 2, 'multilfoc': 1, 'incorrect': 5, 'quiac': 7, 'pca': 21, 'unti': 1, 'glut': 9, 'cleasn': 2, 'god': 4, 'electrolty': 1, 'signif': 18, 'smile': 23, 'sedaton': 1, 'pericar': 5, 'cotn': 4, 'resent': 15, 'undetail': 1, 'prom': 8, 'minist': 2, 'reiniti': 7, 'speaker': 11, 'yelllow': 5, 'pop': 8, 'hh': 8, 'bacitracin': 10, 'gent': 12, 'distrss': 1, 'dophoff': 7, 'stump': 10, 'secreathin': 1, 'mastic': 23, 'ileotomi': 1, 'filter': 39, 'erupt': 4, 'jump': 5, 'strg': 1, 'nacl': 5, 'integrum': 1, 'priviou': 1, 'sang': 22, 'scabi': 1, 'dh': 2, 'subtot': 9, 'sero': 14, 'purlul': 2, 'ileostomi': 9, 'ordredd': 1, 'oxygn': 3, 'drg': 10, 'smal': 3, 'applianc': 8, 'colour': 5, 'splenectomi': 7, \"sx'ng\": 4, 'vallecular': 6, 'duoden': 18, 'cline': 2, 'integu': 6, 'dobhoff': 39, 'vascularight': 1, 'pyloro': 1, 'colectomi': 19, 'coat': 15, 'trnf': 2, 'coar': 6, 'rssi': 11, 'spill': 20, 'iliostomi': 2, 'hemodynm': 6, 'ds': 15, 'telfa': 4, 'grandchild': 1, 'counter': 1, 'xperson': 1, 'freewat': 1, 'varapamil': 1, 'spivira': 1, 'gastic': 1, 'liason': 3, 'inabilti': 2, 'underway': 6, 'isoptin': 1, 'asssess': 3, 'defict': 1, 'peptamen': 6, 'replenish': 9, 'ek': 1, 'temder': 1, 'yanker': 4, 'rid': 3, 'perin': 22, 'dyspnic': 10, 'rosolv': 1, 'ultrason': 2, 'minitrach': 1, \"'ll\": 7, 'ident': 12, 'covers': 1, 'wnc': 1, 'tachypnec': 1, 'facilti': 1, 'singular': 1, 'coved': 1, 'thristi': 2, 'glove': 2, 'hab': 2, 'luck': 1, 'recievi': 2, 'hyperact': 17, 'afterword': 1, 'ringer': 1, 'ducos': 1, 'predormin': 1, 'verapamil': 6, 'cvf': 1, 'inculin': 1, 'productv': 1, 'bbb': 7, 'abrais': 3, 'acapella': 8, 'ssic': 4, 'abruptli': 4, 'acetlycystein': 1, 'lispro': 3, 'mini': 19, 'verapim': 1, 'dyspnoic': 1, 'research': 1, 'cannuala': 1, 'sete': 2, 'humeru': 16, 'suppport': 5, 'developmemt': 1, 'rxd': 5, 'tracheostoma': 1, 'immobil': 15, 'damp': 8, 'ioocc': 1, \"'sm\": 1, 'tonoct': 3, 'requri': 2, 'proph': 4, 'nonrot': 1, 'oxacillin': 11, 'hemodi': 7, 'peristalsi': 5, 'msra': 4, 'advancint': 1, 'reveiw': 6, 'pti': 2, 'freee': 1, 'centemet': 1, 'harder': 7, 'stabk': 1, 'rubor': 2, 'angiocath': 3, 'resepct': 1, 'dced': 5, 'encoura': 1, 'demon': 1, 'caas': 1, 'sta': 9, 'hyper': 15, 'abrad': 2, 'stabe': 4, 'dietari': 19, 'intro': 4, 'folllow': 5, 'suppot': 1, 'slip': 9, 'linin': 2, 'piclin': 1, 'pediatr': 2, 'isordil': 13, 'morbidli': 5, 'soak': 17, 'apt': 7, 'brn': 5, 'sleeper': 3, 'unchg': 6, 'pericolac': 1, 'dept': 8, 'dombero': 1, 'redder': 2, 'domboro': 1, 'tracheostom': 1, 'dht': 6, 'bronchospast': 21, 'indur': 5, 'celluluit': 1, 'ch': 10, 'strate': 1, 'passimuir': 1, 'peditub': 5, 'doboff': 8, 'backsid': 8, 'custard': 23, 'appil': 1, 'ada': 1, 'cked': 1, 'flowbi': 3, 'chees': 7, 'appox': 2, 'tired': 3, 'nonpurpos': 6, 'calf': 65, 'frree': 1, 'macer': 3, 'peramet': 1, 'dombro': 1, 'cto': 1, 'lowgrad': 4, 'creas': 3, 'drier': 2, 'recx': 2, 'farther': 1, 'cellulti': 1, 'tare': 1, 'reatless': 1, 'bibasilari': 3, 'neighbor': 5, 'settinf': 1, 'precuat': 5, 'crack': 23, 'huo': 20, 'specialist': 7, 'uncomfortt': 1, 'sqeez': 2, 'exceed': 5, 'antecubit': 12, 'chec': 1, 'suspend': 4, 'pegtub': 3, 'gase': 23, 'reconfirm': 7, 'passemuir': 4, 'crm': 2, 'quo': 2, 'oxa': 2, 'nj': 2, 'tuck': 20, 'dobhof': 2, 'jello': 17, 'chged': 2, 'ocntact': 1, 'medd': 1, 'repelt': 6, 'sinemet': 11, 'neurro': 1, 'cufflat': 1, 'conscious': 13, 'dfddp': 10, 'aquaphor': 6, 'andresp': 1, 'asucult': 2, 'beginn': 1, 'inexsufl': 1, 'bacterem': 3, 'loudli': 8, 'tolal': 1, 'wiht': 12, 'schizoaffect': 9, 'irish': 1, 'soldier': 1, 'ceftazadin': 2, 'azithomycin': 2, 'sing': 7, 'estrang': 5, 'tune': 4, 'blind': 17, 'contractil': 28, 'autoregul': 8, 'inferosept': 10, 'sympathet': 3, 'sulfonamid': 26, 'recrudesc': 5, 'remnant': 11, 'leucocytosi': 4, 'tamaflu': 2, 'mgr': 3, 'antrov': 1, 'oseltamivir': 13, 'cpod': 1, 'quantifi': 17, 'takatsubo': 1, 'sypathet': 1, 'staphylococc': 1, 'neeed': 2, 'tdi': 28, 'salmeterol': 13, \"adl'\": 1, 'stitch': 14, 'underestim': 27, 'agenc': 2, 'hemiblock': 7, 'pitch': 6, 'insiratori': 1, 'augmentat': 1, 'ion': 8, 'pcwp': 42, 'nativ': 9, 'dicloxacillin': 4, 'tamiflu': 32, 'sequenti': 7, 'akinet': 12, 'superinfect': 16, 'postoffic': 1, 'aicd': 17, 'akinesi': 21, 'tacyhcardia': 1, 'superven': 33, 'incurr': 1, 'acoust': 24, 'overnigt': 2, 'coincid': 6, 'episdo': 1, 'captur': 14, 'melena': 20, 'ativen': 2, 'epogen': 10, 'spirometri': 44, 'diffiuclti': 2, 'sevelam': 11, 'receptor': 3, 'endors': 13, 'dfa': 44, 'cw': 5, 'matern': 2, 'sneez': 2, 'drk': 4, 'ferrou': 18, 'juvenil': 1, 'unwel': 2, 'suicid': 51, 'qmwf': 3, 'spefic': 1, 'recvd': 6, 'antibodi': 14, 'supraclavicular': 103, 'parent': 26, 'paradox': 63, 'rheumatoid': 7, 'hyperliipidemia': 1, 'gastroenter': 5, 'hickman': 8, 'nephrew': 1, 'allopurinol': 15, 'epo': 7, 'nonprodut': 1, 'hematochezia': 11, 'nephropathi': 17, 'doxazosin': 2, 'dorzolamid': 1, 'orthopnea': 58, 'shcedul': 1, 'predison': 4, 'mluitpl': 1, 'cracker': 20, 'bd': 4, 'tapazol': 1, 'sparingli': 6, 'timolol': 4, 'minoxidil': 2, \"ab'\": 3, 'dka': 8, 'rosuvastatin': 4, 'construct': 4, 'calcitriol': 5, 'ggo': 12, 'nephrocap': 10, 'resposnd': 1, 'errythemia': 1, 'nysatin': 1, 'noseble': 2, 'threshold': 48, 'cheek': 12, 'assum': 26, 'oralphagheng': 1, 'traumat': 21, 'nasopharg': 1, 'bad': 22, 'bulk': 8, 'rhonchii': 3, 'teniou': 3, 'dot': 5, 'deliber': 5, 'clinda': 24, 'fight': 15, 'suctiopn': 1, 'satisfactorili': 7, 'throughou': 2, 'grreni': 1, 'essentu': 1, 'exampl': 23, 'unrepons': 1, 'greenish': 20, 'bradycardiac': 2, 'antb': 4, 'bordelin': 1, 'comput': 15, 'latharg': 2, 'respolar': 4, 'neutrapho': 15, 'kpho': 19, 'thread': 9, 'hhn': 15, 'sbop': 1, 'ofd': 1, 'suprapub': 15, 'laid': 11, 'antidepress': 5, 'sclerosi': 23, 'differnt': 1, 'louder': 4, 'oputput': 1, 'uninfect': 1, 'tiotroprium': 1, 'parapneumon': 21, 'ceftriax': 10, 'echocardiogram': 29, 'fibrot': 20, 'levoxyl': 2, 'eas': 20, 'tiotropium': 13, 'biv': 1, 'intrial': 1, 'imdur': 10, 'overmed': 4, 'subq': 21, 'medex': 1, 'fll': 1, 'antihypotens': 1, 'thorocentesi': 5, 'lactos': 3, 'betablock': 7, 'scatt': 5, 'witht': 1, 'tech': 13, 'promininc': 1, 'turgur': 1, 'seraquel': 7, 'lix': 7, 'dobboff': 1, 'acylovir': 2, 'reiter': 6, 'abiltiy': 1, 'drunk': 2, 'neutropen': 18, 'advic': 9, 'grandaught': 5, 'spiroment': 1, 'tyelenol': 5, 'nutritionist': 3, 'acyclivir': 1, 'dbe': 1, 'heamodynam': 1, 'fullstrength': 1, 'posey': 9, 'usg': 12, 'ci': 26, 'anieti': 2, 'hot': 21, 'nml': 10, 'pb': 9, 'repsons': 4, 'toursad': 1, 'nite': 12, 'isorbid': 5, 'torsad': 2, 'jag': 3, 'rla': 6, 'repsond': 2, 'tympan': 6, 'ipmi': 1, 'rpp': 2, 'bppp': 4, 'defibril': 13, 'oxicillin': 3, 'itat': 1, 'defib': 3, 'inotropi': 2, 'deeper': 7, 'sobo': 2, 'diuiresi': 2, 'nesiritid': 1, 'cdb': 52, 'guess': 4, 'amiodron': 1, 'epstudi': 1, 'senekot': 2, 'rsc': 15, 'dynam': 24, 'oxi': 3, 'natrecor': 3, 'dynamap': 1, 'lwr': 3, 'flaggyl': 4, 'core': 8, 'ceftrixon': 5, 'culutr': 5, 'floroscopi': 1, 'ronchoru': 3, 'varifi': 2, 'ambulatori': 11, 'noisi': 3, 'nasoendotrach': 2, 'intrens': 1, 'nystantin': 2, 'plat': 16, 'presser': 5, 'cartoon': 1, 'scrotum': 19, 'bollu': 2, 'yankaur': 17, 'peni': 12, 'love': 8, 'seemingli': 9, 'afraid': 13, 'overrid': 1, 'cosyntropin': 2, 'pseudomoni': 4, 'insuffic': 2, 'nasopharynx': 10, 'repalc': 1, 'propophol': 2, 'toiley': 1, 'sad': 8, 'superivis': 1, 'rplace': 1, 'boyfriend': 9, \"dc'd\": 3, 'vaselin': 5, 'probalac': 2, 'acetamenoph': 1, 'boarderlin': 5, 'hydropneumothorax': 13, 'inqueri': 2, 'afternon': 1, 'efect': 4, 'characterist': 6, 'acetamenophen': 1, 'stuff': 2, 'promo': 1, 'oohr': 1, 'superiorli': 17, 'channel': 12, 'excit': 10, 'piccc': 2, 'psi': 11, 'fir': 2, 'uprbc': 23, 'withp': 1, 'coooper': 1, 'fibr': 2, 'btb': 4, 'secreton': 2, 'mascer': 3, 'bibasalar': 4, 'grren': 2, 'flunk': 1, 'persistantli': 5, 'phelibit': 1, 'negaiv': 1, 'caval': 10, 'pipercillin': 9, 'seek': 19, 'axo': 4, 'spe': 1, 'tritrat': 1, 'nursimg': 1, '^^drng': 1, 'decras': 2, '^^^secret': 1, 'elastoplast': 2, 'pustul': 4, 'sectret': 7, 'steristrip': 6, 'govem': 1, 'chnager': 1, 'cephalid': 1, '^^rr': 6, \"mod't\": 1, 'neeld': 1, 'careplan': 2, 'nto': 2, 'tameflu': 1, 'hidraden': 1, 'hydraden': 1, 'obs': 2, 'metformin': 15, 'oseltamavir': 3, 'rosiglitazon': 2, 'overhydr': 28, 'chronc': 1, 'seat': 74, 'hemodilut': 9, 'nephrotoxin': 21, 'microcyt': 5, 'rebound': 72, 'avandia': 2, 'scx': 3, 'cautiou': 12, 'labia': 7, 'zocyn': 6, 'repost': 7, 'ccrn': 2, 'maleat': 10, 'uri': 14, 'awoken': 9, 'bellegeri': 1, 'pndg': 16, 'belliger': 6, 'giddi': 1, 'initaietd': 1, 'alrm': 2, 'obj': 9, 'transf': 4, 'wheezey': 8, 'ultrum': 1, 'ceft': 3, 'prodcut': 1, 'rhocher': 1, 'apporach': 1, 'belong': 24, 'hemodyn': 10, 'tray': 10, 'stoke': 6, 'anaesthesia': 3, 'naprosyn': 1, 'stethoscop': 2, 'nrsg': 2, 'untoward': 4, 'sponaten': 4, 'fundtion': 1, 'pharmacolog': 4, 'curiou': 2, 'deviationta': 1, 'couplet': 12, 'armboard': 2, 'afebreil': 1, 'workload': 4, 'dobutamin': 7, 'indomethacin': 2, 'ibuprophen': 3, 'photophobia': 4, 'peic': 1, 'aslo': 3, 'nsvt': 16, 'fetal': 3, 'exsist': 1, 'sporat': 2, 'unreliev': 2, 'photophob': 1, 'triplet': 2, 'extraaxi': 6, 'bitempor': 3, 'dime': 9, 'suppo': 5, 'rhand': 1, 'clincal': 1, 'deast': 1, 'peanut': 5, 'woth': 1, 'granola': 1, 'senecot': 2, 'kitchen': 12, 'sulfameth': 6, 'de': 37, 'ilmprov': 1, 'tto': 3, 'fruit': 6, 'butter': 4, 'bore': 16, 'evalaut': 7, 'spar': 1, 'supper': 9, 'duc': 1, 'spurt': 1, 'everyday': 7, 'folow': 6, 'bactrium': 2, 'aoid': 1, 'quicker': 4, 'indecis': 2, 'panorex': 4, 'glycopyrrol': 12, 'torn': 5, 'paravalvular': 1, 'periap': 3, 'preop': 8, 'transvalvular': 9, 'cardioresp': 2, 'flail': 5, 'semiupright': 7, 'intaop': 1, 'interpreter': 1, 'bileaflet': 2, 'blur': 15, 'crown': 2, 'assymetr': 3, 'hocm': 1, 'antisialogogu': 8, 'myomectomi': 1, 'surveil': 32, 'molar': 2, 'bandag': 14, 'intrins': 33, 'dilaud': 3, 'inapprop': 2, 'airleak': 9, 'saphen': 7, 'mvr': 18, 'apac': 3, 'antiphospholipid': 4, 'disappear': 2, 'electrod': 10, 'risbi': 26, 'amitryptilin': 1, 'doc': 1, 'mra': 18, 'amitriptylin': 3, 'checklist': 5, 'magnet': 15, 'bled': 9, 'myconazol': 7, 'scaley': 1, 'alpha': 5, 'ziprasidon': 1, 'oj': 4, 'resapiratori': 1, 'undigest': 13, 'impuls': 9, 'kerlex': 8, 'perpetu': 2, 'news': 3, 'cing': 7, 'angiogram': 17, 'squirm': 4, 'oximetri': 1, 'department': 10, 'distract': 5, 'contd': 17, 'flame': 1, 'mgtid': 1, 'geodan': 1, 'unfocus': 1, 'equla': 1, 'antitrypsin': 1, 'wether': 2, 'dramat': 29, 'distened': 3, 'forth': 7, 'dulc': 5, 'corner': 11, 'pin': 8, 'dissolv': 2, 'multilumen': 9, 'wea': 4, 'spontanoeu': 1, 'residula': 1, 'circul': 18, 'maee': 5, 'specifi': 11, 'reinutab': 1, 'reduce': 1, 'haladol': 1, 'comit': 1, \"'ve\": 4, 'prophylacticlli': 1, 'writh': 3, 'growl': 2, 'lactalos': 4, 'flirt': 1, 'fossa': 27, 'humulog': 7, 'theraft': 1, 'ceftazadim': 7, 'grunt': 6, 'accident': 13, 'reden': 11, 'ivdu': 13, 'cavitari': 19, 'ahd': 4, 'subl': 1, 'snore': 5, 'perscib': 1, 'hift': 2, 'respit': 1, 'broncial': 1, \"c'ing\": 7, 'supris': 1, 'olanzipin': 3, 'cefatzadim': 1, 'rose': 17, 'disconnect': 15, 'bisacoyl': 1, 'lieu': 4, 'trypsin': 1, 'upsid': 2, 'replt': 1, 'lias': 3, 'ngtube': 2, 'antipsycot': 2, 'antialpha': 1, 'aralast': 1, \"d'cd\": 8, 'acl': 13, 'vegat': 1, 'depressor': 1, 'depent': 2, 'gpr': 9, 'extremitit': 3, 'secrat': 2, 'vegiat': 1, 'mdght': 2, 'quadrapleg': 1, 'staabl': 1, 'cmbivent': 1, 'drool': 4, 'difficulr': 1, 'spanish': 16, 'coexsist': 1, 'multidisiciplinari': 2, 'judgement': 4, 'multilocul': 6, 'thoracotomi': 18, 'forti': 2, 'intercost': 12, 'waters': 14, 'hole': 20, 'semierect': 3, 'overnihght': 1, 'lelev': 1, 'decresa': 1, 'lihgt': 1, 'presnt': 3, 'socila': 1, 'rivert': 1, 'cogh': 2, 'lifelin': 2, 'calibr': 8, 'glad': 2, 'flare': 46, 'omr': 61, 'spnal': 1, 'fq': 4, 'debat': 3, 'ambient': 7, 'thorcaic': 1, 'exactli': 7, 'tizanidin': 3, 'financ': 1, 'org': 4, 'paralysi': 24, 'tyesterday': 1, 'overtli': 4, 'vesiculo': 1, 'pect': 1, 'repelet': 2, 'ce': 64, 'acth': 1, 'bact': 8, 'subutan': 10, 'rent': 4, 'clergi': 16, 'rehir': 1, 'licsw': 20, 'broaden': 35, 'inclu': 1, 'hisotri': 1, 'vesicular': 4, 'silhouet': 14, 'dream': 5, 'adhes': 22, 'nortriptylin': 4, \"epi'\": 1, 'intertrochanter': 4, 'cephalosporin': 10, 'ventimask': 11, 'rapidli': 39, 'pnoon': 1, 'fllet': 1, 'flosheet': 1, 'chocol': 5, 'thromu': 1, 'fxn': 30, 'deterior': 43, 'fulfil': 2, 'memantin': 4, 'hemodynim': 12, 'drive': 32, 'facemask': 23, 'tachypneac': 2, 'analgesia': 8, 'lengthi': 13, 'discu': 5, 'immin': 2, 'vasovag': 3, 'rabbi': 8, 'serious': 4, 'scopalamin': 6, 'citalopram': 18, 'genit': 2, 'appropr': 1, 'hotnsiv': 3, 'unrealist': 2, 'giv': 1, 'gib': 35, 'aphasia': 18, 'concur': 4, 'donezipil': 1, 'spite': 10, 'dirti': 16, 'donepezil': 11, 'discont': 3, 'death': 14, 'idioventricular': 3, 'hyalin': 2, 'hj': 1, 'untreat': 8, 'likelihood': 22, 'changedto': 1, 'daugther': 4, 'llsb': 7, 'chng': 3, 'afterload': 21, 'pci': 13, 'neutopho': 1, 'diurisei': 1, 'bye': 1, 'heaprin': 4, 'vulner': 1, 'advoc': 5, 'rythym': 8, 'anger': 6, 'lij': 19, 'nitropast': 9, 'clinician': 43, 'subj': 3, 'equilibrium': 1, 'busi': 8, 'syncop': 16, 'instabl': 39, 'hemodyanm': 2, 'oropharyngela': 1, 'osteoporosi': 26, 'uptitr': 18, 'charact': 5, 'persis': 3, 'creatin': 7, 'awean': 1, 'dra': 12, 'sttol': 1, 'sbg': 1, 'milironon': 1, 'fentanyli': 1, 'booboo': 1, 'cardiopulm': 9, 'rebump': 1, 'mch': 2, 'posibl': 7, 'mentali': 1, 'faintli': 1, 'restrart': 1, 'crepiti': 3, 'retal': 1, 'wel': 3, 'unattend': 2, 'prop': 25, 'diffficult': 1, 'hiccough': 1, 'om': 18, 'imi': 2, 'prebypass': 2, 'tvi': 5, 'billeou': 1, 'pulmari': 1, 'effuss': 7, 'diaphores': 1, 'carvedilol': 14, 'abcess': 22, 'precuaut': 1, 'vr': 10, 'signift': 1, 'restaint': 4, 'thickyellowish': 1, 'enquier': 2, 'sshumulog': 2, 'inadvert': 5, 'reamin': 6, 'demor': 2, 'frang': 1, 'indenpedantli': 1, 'thermodilut': 3, 'greed': 1, 'stble': 1, 'fick': 8, 'ez': 4, 'redicat': 1, 'ballon': 9, 'bradypn': 1, 'dietician': 4, 'swr': 1, 'antiobiot': 12, 'pnu': 1, 'plerur': 1, 'yellowbrown': 1, 'beliger': 3, 'lima': 3, 'cagluc': 2, 'stidor': 1, 'cardiogen': 36, 'consistenli': 4, 'shiever': 1, 'defecit': 6, 'gastroduoden': 3, 'tnsf': 5, 'orderd': 9, 'serousangin': 4, 'capto': 1, 'sov': 1, 'lwsxn': 2, 'wenesday': 2, 'flinch': 2, 'alkalemia': 13, 'demisish': 1, 'nhp': 1, 'ucg': 2, 'resed': 3, 'diag': 10, 'vg': 1, 'antero': 1, 'culprit': 7, 'comtin': 1, 'caglucon': 1, 'biphas': 7, 'corti': 2, 'recognis': 2, 'angioplasti': 12, 'traponin': 1, 'veloc': 33, 'stepdown': 7, 'thorecentesi': 2, 'awir': 1, 'subtheraput': 2, 'postbypass': 1, 'cellsav': 1, 'testic': 1, 'inotrop': 2, 'gon': 1, 'mvo': 3, 'epinephrin': 14, 'pedial': 6, 'progre': 1, 'cco': 4, 'aspriat': 5, 'milr': 2, 'absorbs': 1, 'pplat': 8, 'coreg': 8, 'thermodil': 1, 'raet': 1, 'stit': 1, 'milrinon': 5, 'jp': 12, 'defervesc': 11, 'rewrap': 1, 'bollus': 2, 'effust': 1, 'sunction': 3, 'nippl': 5, 'origen': 2, 'barrium': 1, 'nuerolog': 2, 'fentenyl': 4, 'aucult': 3, 'inth': 7, 'remmind': 1, 'norepi': 6, 'beer': 4, 'wap': 5, 'yankuar': 3, 'pervent': 2, 'mant': 1, \"dt'\": 1, 'noreepi': 1, 'tof': 8, 'purpl': 17, 'bs^': 1, 'receic': 2, 'epsiod': 3, 'ond': 1, 'dilatiazem': 1, 'riesman': 3, 'secondri': 1, 'healthey': 1, 'kerley': 6, 'diltizem': 6, 'addenidum': 1, 'pleuracentesi': 1, 'diltazem': 1, 'pneumomia': 2, 'otc': 3, 'chosen': 13, 'nigth': 3, 'hyperparathyroid': 5, 'doripenem': 2, 'bronchiectesi': 3, 'moh': 1, 'ipatropium': 4, 'fluoroquinolon': 6, 'mucolyt': 2, 'surpris': 9, 'behav': 2, 'spironolacton': 7, 'pulmonologist': 11, 'pertussi': 2, 'dorbipenem': 1, 'pnysic': 1, 'deropenem': 1, 'guafenesi': 1, 'fot': 2, 'psa': 8, 'parox': 1, 'chad': 11, 'ferment': 1, 'nsaid': 13, 'maxilla': 4, 'pertusi': 2, 'qualifi': 7, 'tvr': 1, 'occulud': 1, 'que': 1, 'previo': 3, 'psycosi': 1, 'cooki': 12, 'epulmonari': 1, 'psychosi': 9, 'aeratin': 1, 'sediat': 1, 'eccymosi': 7, 'mitt': 9, 'xopenex': 15, 'nicotin': 18, 'spicul': 9, 'recomend': 7, 'ultsnd': 2, 'aggressiv': 1, 'hest': 1, 'atelactasi': 3, 'multilevel': 42, 'cdc': 2, 'blast': 5, 'emb': 1, 'upperairway': 3, 'vancomyc': 1, 'ecymosi': 1, 'diffuculti': 3, 'drank': 11, 'prescenc': 1, 'whennam': 1, 'yougart': 1, 'inepend': 1, 'slecp': 1, 'pneumococcu': 4, 'chemotherapi': 30, 'laparotomi': 8, 'cocain': 14, 'diazepam': 12, 'esophagogastrostomi': 1, 'brachytherapi': 3, 'gall': 13, 'pneurmonia': 2, 'chemoradi': 6, 'hemoptysi': 33, 'vaccin': 55, 'hypertensioncurr': 1, 'hepatopulmonari': 1, 'span': 13, 'pneumocysti': 18, 'wegen': 6, 'kayexyl': 2, 'valuim': 2, 'paramediastin': 10, 'radiotherapi': 5, 'melanoptosi': 1, 'shuvel': 1, 'rectu': 9, 'abdominu': 2, 'worth': 6, 'esophagectomi': 5, 'bandemia': 29, 'symptomat': 27, 'urol': 1, 'esoph': 6, '`': 13, 'durabl': 4, 'amlodipin': 24, 'hypothyrod': 1, 'failurelik': 1, 'crescent': 2, 'ccr': 4, 'coalesc': 6, 'perf': 9, 'videofluoroscopi': 29, 'teaspoon': 6, \"po'\": 2, 'aw': 1, 'gastrosotmi': 2, 'hurrican': 2, 'nari': 8, 'dfdkq': 10, 'nocardia': 3, 'hypointens': 8, 'sequenc': 20, 'fk': 4, 'manner': 12, 'uni': 8, 'olecranon': 1, 'ceftax': 4, 'sludgi': 2, 'hypercholesteremia': 2, 'nocardiosi': 1, 'tesla': 9, 'sussept': 1, 'substani': 2, 'exquisit': 1, 'ersd': 2, 'ure': 6, 'hyperchol': 2, 'pug': 2, 'corticomedullari': 4, 'procardia': 5, 'inphas': 1, 'repsir': 1, 'hast': 1, 'venipuctur': 1, 'milki': 2, 'vibe': 1, 'imipenuim': 1, 'leftsid': 1, 'lucid': 11, 'expecor': 1, 'lrge': 6, 'coarsen': 10, 'imbal': 4, 'imp': 5, 'effevt': 1, 'sough': 1, 'remenisc': 1, 'chowder': 1, 'brighten': 1, 'efficaci': 6, 'negatiov': 1, 'anyway': 6, 'dayshift': 5, 'wafer': 1, 'amyloid': 4, 'probabali': 1, 'yogurt': 3, 'cereal': 5, 'frig': 1, 'pool': 12, 'bkft': 1, 'energi': 8, 'biscodyl': 5, 'chlorothiazid': 3, 'enoucrag': 1, 'metamucil': 2, 'sxting': 2, 'duiril': 1, 'bowl': 5, 'daytim': 46, 'engag': 20, 'avb': 11, 'chlorothiasid': 1, 'uninterest': 2, 'initait': 1, 'howver': 1, 'bother': 11, 'coumdadin': 1, 'eproxi': 1, 'nitroglycerin': 15, 'car': 13, 'sug': 4, 'propuls': 16, 'sizeabl': 4, 'vestibul': 6, 'detox': 5, 'sacroiliac': 5, 'piriform': 20, 'marcan': 1, 'elbo': 1, 'gentli': 27, 'infilatr': 2, 'highflow': 1, 'tongiht': 3, 'minlabor': 1, 'toiler': 1, 'priest': 3, 'prorgess': 1, 'metolazon': 5, 'cellcept': 4, 'thrill': 9, 'disfunct': 1, 'lyy': 1, 'aciti': 1, 'enag': 1, 'facet': 13, 'flattu': 1, 'fac': 1, 'extrmiti': 1, 'regiman': 3, 'noncompli': 11, 'orbit': 16, 'vii': 4, 'arterioven': 1, 'squeak': 6, 'anastomosi': 9, 'scalp': 6, 'fistulogram': 2, 'percocoet': 1, 'huddl': 21, 'fistulagram': 1, 'inattent': 2, 'stenos': 4, 'renagel': 4, 'hydroxizin': 1, 'enya': 18, 'hemostasi': 13, 'intracellular': 1, 'xii': 14, 'hyperphsophatemia': 1, 'hyperdens': 24, 'rsr': 20, 'alternan': 3, 'translum': 1, 'injector': 1, 'skip': 3, 'ckd': 39, 'pruriti': 2, 'warrant': 32, 'wenckebach': 3, 'urem': 4, 'venogram': 11, 'pulsatil': 2, 'dilit': 10, 'overdu': 1, 'carpal': 6, 'likelihoood': 1, 'tall': 4, 'intraorbit': 1, 'ai': 6, 'unconcern': 2, 'laryngospasm': 1, 'contra': 6, 'jude': 1, 'legionel': 3, 'tendenc': 10, 'immunolog': 44, 'turp': 8, 'wrr': 1, 'pah': 5, 'coler': 2, 'ld': 9, 'hapto': 5, 'transven': 26, 'avelox': 1, 'cefpodoxim': 8, 'error': 29, 'rmg': 1, 'ketaconazol': 1, 'slighlt': 1, 'neurophysiolog': 2, 'popup': 9, 'group': 20, 'fluild': 1, 'hemodyanam': 2, 'yetread': 1, 'ucltx': 1, 'underwhelm': 4, 'downtrend': 11, 'handrail': 1, 'gb': 9, 'remeb': 1, 'cepodoxim': 1, 'rhale': 3, 'breathless': 6, 'diruesi': 6, 'lupron': 5, 'classic': 7, 'atov': 1, 'driven': 3, 'split': 51, 'floridli': 1, 'loperamid': 2, 'svv': 1, 'laugh': 7, 'vigileo': 3, 'webtag': 9, 'persisit': 1, 'lmore': 1, 'bioprosthesi': 5, 'haptoglobin': 8, 'flesh': 2, 'tcdb': 14, 'immunocompromis': 56, 'unread': 2, 'cltx': 1, 'unrev': 25, 'col': 4, 'sclara': 1, 'contriubut': 1, 'hflu': 3, 'contr': 1, 'trand': 1, 'jejuni': 1, 'javascript': 9, 'concomin': 1, 'azithroymcin': 1, 'noro': 1, 'acheiev': 1, 'conjuntiv': 1, 'hemolysi': 25, 'chb': 3, 'sensitivt': 1, 'florrid': 1, 'occult': 22, 'interstitium': 3, 'absolut': 4, 'interpretor': 5, 'assign': 13, 'maintan': 8, 'rxn': 11, 'ceftz': 2, 'tachpnea': 3, 'uppper': 5, 'aaspir': 1, 'degrener': 1, 'contus': 4, 'rune': 1, 'cetaz': 1, 'oa': 10, 'indepemnd': 1, 'vacomycin': 3, 'temo': 1, 'circumst': 11, 'probali': 1, 'movemont': 1, 'brachiel': 1, 'miniscul': 3, 'amalyas': 1, 'petroleum': 1, 'crepit': 2, 'wordk': 1, 'adb': 2, 'kmcd': 2, 'absorpt': 10, 'salmon': 1, 'weap': 7, 'pkt': 9, 'anckl': 1, 'navig': 2, 'sched': 8, 'foll': 2, 'reject': 11, 'blaot': 1, 'vevel': 1, 'sml': 19, 'proteu': 8, 'gastrojejun': 7, 'unclot': 2, 'atro': 20, '^k': 1, 'taler': 2, '^bun': 1, 'idiopath': 10, 'lgt': 1, 'ambian': 2, 'insuff': 4, 'fascia': 3, 'dismotil': 2, 'pararen': 1, 'exal': 1, 'intraservic': 11, 'hemolyz': 10, 'immunosuppres': 6, 'oca': 5, 'diverticuli': 4, '^abd': 1, 'grad': 3, 'creatnin': 6, 'lotrisom': 1, 'studio': 1, 'dyspenia': 1, 'primairli': 1, 'elecv': 1, 'lbm': 11, 'kosher': 3, 'sabath': 1, 'inguni': 1, 'yank': 1, 'aricept': 7, 'scrape': 1, 'bolt': 9, 'lighter': 6, 'hilu': 14, 'epiglotti': 5, 'azyg': 8, 'bulbou': 1, 'kkgc': 17, 'kerlix': 4, 'immeadi': 1, 'redraw': 10, 'noght': 1, 'cage': 9, 'bidh': 1, 'pen': 10, 'sternum': 11, 'arpund': 1, '^from': 1, '^vt': 1, 'aaa': 14, 'surguri': 2, 'eccymot': 18, 'azithromicyn': 1, 'copper': 4, 'afluttt': 1, 'nondiagnost': 10, 'osteophyt': 21, 'angiomyolipoma': 3, 'reloc': 3, 'aml': 14, 'neurosurgeon': 4, 'tolcapon': 1, 'precedex': 7, 'herniat': 11, 'respirartori': 3, 'marri': 21, 'polymorphonuclear': 13, 'ltach': 9, 'tamsar': 1, 'extuabt': 9, 'inhibit': 2, 'pneumona': 5, 'pramipexol': 1, 'fluent': 36, 'protrud': 23, 'runni': 2, 'spt': 9, 'kyphot': 11, 'dysmetria': 1, 'nasotrachi': 6, 'presedex': 2, 'leukocyt': 20, 'acetylcystein': 4, 'rspiratori': 2, 'vasectomi': 1, 'foi': 27, 'precidex': 3, 'formulari': 5, 'protien': 1, 'batteri': 6, 'drown': 3, 'sup': 16, 'kyphosi': 20, 'crestor': 3, 'disk': 7, 'glucagon': 7, 'meningioma': 2, 'cutur': 3, 'laparoscop': 4, 'annuloplasti': 6, 'azithromyin': 3, 'mirapex': 4, 'antianieti': 1, 'intellig': 7, 'tsp': 31, 'lingual': 21, 'albeit': 5, 'rsv': 13, 'ntd': 6, 'disintegr': 11, 'rbbi': 1, 'bronchoalveolar': 9, 'choos': 9, 'answr': 1, 'compensatori': 9, 'mmcosgroveannuloplasti': 1, 'inceas': 3, 'labial': 27, 'mango': 1, 'ettub': 1, 'censu': 2, 'ih': 22, 'desta': 1, 'hoars': 17, 'yesterrday': 1, 'suck': 4, 'flavor': 1, 'anitibiot': 2, 'resdient': 4, 'cane': 9, 'bul': 11, 'neurologist': 5, 'tachypnia': 4, 'ili': 4, 'cfu': 7, 'multilobular': 5, 'soln': 20, 'wb': 4, 'perist': 6, 'beig': 3, 'ctga': 1, 'incisor': 6, 'mough': 1, 'nuetrin': 1, 'consentr': 1, 'emtion': 3, 'smeari': 1, 'restain': 2, 'countour': 1, 'conf': 3, 'mitten': 2, 'scoot': 1, 'vebal': 1, 'incoher': 4, 'skizophrenia': 1, 'slit': 1, 'halway': 1, 'nector': 3, 'dextroscoliosi': 8, 'comdom': 2, 'nponproduct': 1, 'modif': 8, 'distor': 1, 'poe': 16, 'wanst': 1, 'fixat': 15, 'pg': 6, 'rous': 7, 'dischag': 2, 'web': 5, 'conceiv': 5, 'scoliosi': 30, 'extremti': 6, 'consistencei': 1, 'clossur': 1, 'dsoft': 1, 'rotatori': 2, 'thoracolumbar': 18, 'antiseizur': 2, 'killian': 1, 'valpraot': 1, 'palsi': 7, 'bio': 3, 'cisplatin': 3, 'cantones': 7, 'atend': 1, 'synthet': 3, 'subtract': 5, 'beam': 6, 'carboplatin': 4, 'listeria': 2, 'polydipsia': 2, 'ove': 2, 'host': 6, 'plasmapheresi': 1, 'lobul': 8, 'adriamycin': 1, 'purula': 1, 'subdiaphragmat': 67, 'workstat': 4, 'myasthenia': 1, 'jxkc': 6, 'usclip': 5, 'peipher': 1, 'hyposmol': 6, 'icter': 8, 'hemeroid': 1, 'taxol': 3, 'manifest': 17, 'enou': 1, 'meningoenceph': 2, 'paclitaxel': 1, 'bulki': 12, 'neoadjuv': 1, 'xeloda': 1, 'hemmoroid': 1, 'hyperbilirubinemia': 4, 'encompass': 3, 'beeen': 1, 'wsclip': 3, 'osmol': 3, 'anecho': 4, 'adh': 3, 'tensilon': 1, 'tarceva': 1, 'hyponatrem': 10, 'billiari': 2, 'unpasteur': 1, 'suppress': 20, 'thymoma': 2, 'cavo': 7, 'cytoxan': 5, 'topleura': 1, 'plasma': 2, 'diplopia': 2, 'cholestat': 3, 'dairi': 3, 'doxil': 1, 'cardiorespiratori': 3, 'ampillin': 1, 'reisman': 2, 'subcapsular': 3, 'paracentesi': 10, 'rescucit': 4, 'producvt': 1, 'alimta': 1, 'secert': 1, 'thyoma': 1, 'bdline': 2, \"huo'\": 1, 'pseuodomona': 1, 'pplan': 2, 'asmt': 1, 'dwn': 1, 'latex': 9, 'aqit': 1, 'iso': 5, 'voltga': 1, 'snt': 5, 'comfot': 1, 'ydrianiang': 1, 'foul': 21, 'reactss': 1, 'nse': 1, 'secrett': 2, 'ftw': 1, 'especailli': 1, 'cautar': 1, 'pronglon': 1, 'acsecss': 1, 'sestamibi': 1, 'pneumotx': 1, 'blding': 1, 'tia': 20, 'revealedd': 1, 'subsid': 21, 'tyelnol': 4, 'wbc^': 2, 'moniotr': 6, 'thorughout': 2, 'hemodynimc': 1, 'coontrol': 1, 'expand': 33, 'prophylax': 1, 'dyapherit': 1, 'hr^^': 5, 'nec': 3, 'unresolv': 3, 'antbx': 13, 'lf': 6, 'vertebroplasti': 5, 'perfor': 21, 'functioningand': 1, 'hepatomegali': 7, 'intermittenli': 2, 'wkness': 1, 'eca': 5, 'nauseaou': 2, 'oid': 1, 'tachynea': 2, 'sinustach': 1, 'aphon': 4, 'exel': 2, 'ultra': 4, 'constraint': 2, 'eosphil': 1, 'diamox': 20, '^rr': 6, 'ascess': 1, 'occus': 1, 'viist': 1, 'mechaniclli': 3, \"related'\": 1, 'hemodym': 3, 'valsalva': 16, 'mtn': 1, 'folvent': 1, 'tag': 3, 'stoool': 3, 'spasm': 19, 'vevn': 1, 'diminsish': 1, 'abort': 10, 'spcific': 1, 'amout': 7, 'ctscan': 3, 'hematopoet': 1, 'enorm': 2, 'diverticular': 2, 'craer': 1, 'ilestomi': 1, 'bacteroid': 2, 'isc': 1, 'disconect': 1, 'floos': 1, 'respo': 1, 'psx': 2, 'broncho': 6, 'elevati': 1, 'brwn': 8, 'arma': 1, 'py': 4, 'sttled': 1, 'dobbhoff': 31, 'mit': 4, 'brth': 1, 'roxicet': 6, 'precarin': 19, 'tachypin': 1, 'reticul': 6, 'suctionin': 3, 'cca': 9, 'legnth': 2, 'dimin': 6, 'divert': 3, 'drainabl': 9, 'technetium': 1, 'postsurg': 6, 'fidn': 1, 'amoutn': 4, 'apparatu': 3, 'agrress': 2, 'sulf': 3, 'moderatr': 2, 'drian': 4, 'mvment': 1, 'tage': 1, 'billari': 1, 'respon': 4, 'copiuo': 5, 'labul': 1, 'ligh': 2, 'subchondr': 7, 'flowhseet': 1, 'cnii': 3, 'sychron': 1, 'airflow': 4, 'distess': 3, 'colonoscopi': 18, 'diaures': 2, 'safest': 6, 'ceftazidin': 3, 'infx': 2, 'atrioventricular': 2, 'infuenza': 1, 'tami': 1, 'mdag': 15, 'mainstem': 10, 'sesha': 6, 'diverticula': 17, 'stapl': 18, 'zyti': 1, 'rhonchou': 2, 'pseudonorm': 5, 'pulmonal': 4, 'descent': 2, 'sfv': 2, 'odd': 11, 'tem': 2, 'arthropathi': 5, 'slice': 42, 'startedon': 3, 'seech': 2, 'grid': 3, 'percordi': 1, 'egd': 29, 'hysterectomi': 8, 'osteopenia': 18, 'andevid': 1, 'bss': 2, 'concurr': 31, 'cranial': 7, 'videoswallow': 7, 'greatest': 22, 'apec': 2, 'simvastain': 1, 'euvolemia': 7, 'upgrad': 10, 'cfv': 1, 'meta': 15, 'levofloxicin': 9, 'evidenc': 22, 'distinctli': 2, 'adequet': 2, 'zydi': 7, 'tmrw': 5, 'hasnt': 1, 'vacuum': 5, 'situ': 21, 'judici': 7, 'recom': 2, 'subotim': 1, 'pneumotho': 1, 'intracavitari': 1, 'pulmn': 2, 'ward': 2, 'subcutaen': 1, 'prilosec': 14, 'cutoff': 1, 'pullm': 1, 'pector': 11, 'mesh': 6, 'ran': 6, 'intermitenli': 2, 'settng': 2, 'distalmost': 2, 'encouragingli': 3, 'text': 7, 'nissen': 1, 'parasept': 9, 'vw': 10, 'ventral': 11, 'occurr': 2, 'atv': 4, 'sah': 5, 'dysarthria': 5, 'frontopariet': 3, 'bulbar': 1, 'injur': 3, 'subarachnoid': 7, 'sylvian': 4, 'cong': 1, 'fidgeti': 4, 'fentlyl': 1, 'guiaiac': 1, 'perihepat': 13, 'hasmi': 1, 'str': 17, 'bolum': 1, 'separ': 27, 'obay': 1, 'nonfunct': 1, 'htcz': 1, 'lite': 2, 'feegingh': 1, 'purplish': 3, 'mnd': 2, 'miconozol': 2, 'retreat': 1, 'evidens': 1, 'rnd': 1, 'legionalla': 5, 'skew': 1, 'extyra': 1, 'afew': 1, 'attem': 1, 'ivpb': 9, 'abber': 1, 'gmpo': 1, 'edemet': 3, 'presid': 6, 'pivx': 9, 'ssuction': 2, 'strang': 4, 'giggl': 1, 'adr': 3, 'restraind': 2, 'wilth': 1, 'consolit': 1, 'asbout': 1, 'decreasd': 1, 'osteopen': 6, 'overnit': 8, 'yogert': 2, 'etco': 4, 'mpr': 1, 'rpc': 2, 'perirash': 1, 'nonform': 2, 'hadol': 2, 'underarm': 2, 'jumbl': 1, 'pimpl': 1, 'hepati': 2, 'corridor': 1, 'periarea': 4, 'iffus': 1, 'patern': 2, 'azm': 1, 'bilaterali': 7, 'ordr': 4, 'deaf': 7, 'colistin': 5, 'sennokot': 1, 'appopri': 2, 'ruddi': 2, 'jpx': 2, 'parapelv': 6, 'xop': 1, 'adaqu': 3, 'dnrg': 1, 'meatey': 1, 'append': 6, 'flap': 6, 'mutipl': 7, 'screw': 7, 'afeberil': 1, 'tlcc': 1, 'exr': 1, 'respns': 1, 'orietn': 1, 'malleabl': 1, 'albuter': 9, 'mycostantin': 2, 'neur': 2, 'lback': 1, 'yellaw': 1, 'benzodiazepen': 1, 'ccx': 3, 'awaqr': 1, 'sift': 2, 'feburari': 1, 'laxilla': 1, 'specfic': 2, 'fame': 1, 'fnetanyl': 1, 'dehisc': 7, 'etern': 1, 'magneisium': 1, 'refocu': 1, 'pesseri': 1, 'epigastrium': 8, 'magneisum': 1, 'xoponex': 5, 'mustard': 1, 'summer': 5, 'symmetri': 1, 'blackish': 2, 'ivm': 1, 'wtihout': 1, 'lent': 2, 'daay': 1, 'ccof': 1, 'techiniqu': 1, 'eczema': 1, 'incorper': 1, 'reti': 1, 'rmeian': 1, 'evala': 1, 'goos': 1, \"svn'\": 1, 'erethemat': 1, 'bsd': 8, 'tfeed': 7, 'ooa': 1, 'invl': 1, 'tolaer': 1, 'admittedli': 4, 'mdsi': 1, 'movment': 8, \"ue'\": 1, 'peerl': 7, 'parit': 2, \"jp'sx\": 1, 'washout': 8, 'survail': 6, 'earili': 1, 'reasssurr': 1, 'biggest': 2, 'circut': 1, 'addenda': 1, 'medastin': 1, 'partic': 1, 'extremli': 3, 'kayexalt': 1, 'oject': 1, 'mereponuem': 1, 'humor': 6, 'dghtr': 1, 'mulitpl': 10, 'zeroform': 1, 'postit': 4, 'meropeum': 1, 'llu': 1, 'diifus': 1, 'abefril': 1, 'omn': 1, 'prvide': 1, 'fentyn': 8, 'monr': 2, 'totaol': 1, 'insuffi': 3, 'wnd': 3, 'angeogram': 1, 'electrocardiogram': 1, 'anxious': 4, \"mdi'\": 1, 'cappilari': 1, 'colostrin': 1, 'muscular': 15, 'startd': 1, 'costyntropin': 1, 'urgenc': 13, 'clorazepam': 1, 'potentia': 1, 'recommed': 3, 'amm': 1, 'fdsg': 1, 'garrul': 1, 'repostit': 1, 'qi': 2, 'elix': 3, 'hhe': 1, 'gluteu': 2, 'upcom': 4, 'viabl': 2, 'effexor': 3, 'agig': 2, 'tubefeed': 9, 'diminsih': 5, 'convey': 13, 'pinken': 1, 'sixth': 4, 'placen': 1, 'tint': 2, 'awaint': 2, 'dislik': 3, 'en': 9, 'enterectomi': 1, 'aggres': 9, 'suctio': 1, 'devot': 2, 'raspi': 5, 'reoirent': 1, \"'ye\": 2, 'respitori': 5, 'lastnight': 2, 'anitbiot': 5, \"de'sat\": 1, 'rhonchial': 1, 'lain': 1, 'inteq': 1, 'metizol': 1, 'envelop': 3, 'insens': 21, 'foeli': 1, 'rectangular': 1, 'minin': 1, 'aniou': 1, 'costochondr': 2, 'intentd': 1, 'micub': 4, 'guiaic': 16, 'servicv': 1, 'suxn': 4, 'depict': 8, 'faccid': 1, 'solubl': 3, 'roux': 4, 'mainatin': 2, 'wrsit': 1, 'vancxomycin': 1, 'vista': 4, 'levofloxin': 6, 'haerd': 1, 'lizinolid': 1, 'tanish': 5, 'survalli': 1, 'relativli': 1, 'objecet': 1, 'cardin': 1, 'regiem': 3, 'antbiot': 4, 'cathart': 1, 'neglig': 3, 'wamr': 1, 'lungfield': 2, 'gien': 1, 'linzolid': 1, 'enquir': 2, 'frc': 1, 'coas': 2, 'thicket': 2, 'vasoilin': 1, 'explin': 3, 'auscleat': 1, 'sct': 7, 'ceftam': 1, 'adq': 9, 'perineu': 1, 'ser': 1, 'roho': 1, 'preper': 4, \"'star\": 1, 'sonc': 1, 'race': 3, 'progess': 4, 'cushion': 6, 'jmh': 2, 'tfdg': 1, 'orientd': 2, 'immun': 9, 'softsorb': 7, 'vagina': 2, 'sucret': 1, 'ceftadim': 1, 'podi': 2, 'inclus': 4, \"'broke\": 1, 'gyn': 3, 'ceftamin': 1, 'hick': 2, 'intug': 1, 'anal': 13, 'adenosin': 5, 'episdod': 1, 'anaemia': 1, 'azithromax': 6, 'ampogel': 1, 'adenoma': 15, 'throb': 4, 'datail': 1, 'uc': 14, 'renegel': 1, 'summeri': 2, 'soup': 10, 'parathyroid': 1, 'elipt': 1, 'phosporu': 1, 'septa': 2, 'spiromt': 1, 'thorascop': 2, 'ellipt': 3, 'pleurodesi': 7, 'infilpleas': 1, 'bariatr': 3, 'strnum': 1, 'allowa': 1, 'crapetu': 1, 'oout': 1, 'bronchopleur': 4, 'anzimet': 3, 'dizz': 1, 'pneumodiastinum': 1, 'reso': 2, 'cxri': 1, 'micronodul': 2, 'xxl': 1, 'blebectomi': 1, \"a'lin\": 1, 'subcut': 6, 'shaki': 7, 'aprrox': 2, 'sanguni': 1, 'doxycyclin': 7, 'flet': 2, 'oppurtunist': 1, 'difficuti': 2, 'csl': 4, 'retrospect': 8, 'cutan': 5, 'spb': 6, 'miliari': 1, 'oer': 2, 'cervicothorac': 2, 'pneumatocel': 8, 'doxi': 5, 'crepetu': 1, 'infilto': 1, 'repaet': 2, 'micronodular': 3, 'lert': 1, 'ecoli': 7, 'anasarc': 6, 'cowork': 4, 'bien': 1, 'cystostomi': 1, 'tnf': 1, 'catrh': 1, 'whereabout': 1, 'cystotomi': 1, 'exutb': 1, 'intravasculari': 1, 'extravascularli': 2, 'uncompens': 2, 'flaki': 5, 'frown': 1, 'acx': 3, 'cathol': 2, 'pulseless': 7, 'doll': 1, 'sond': 1, 'cardiova': 2, 'aticoagul': 1, 'unobtain': 4, 'recondit': 1, 'sabp': 3, 'sati': 3, 'fist': 3, 'prayer': 3, 'prev': 28, 'afterloud': 1, 'esmolol': 10, 'riker': 1, 'jaw': 24, 'nonreact': 3, 'unsrespons': 1, 'hemorroid': 1, 'smade': 1, 'pon': 11, 'overgrowth': 3, 'liber': 14, 'jelfoam': 1, 'infiiltr': 1, 'decison': 1, 'unfold': 12, 'aztreonam': 18, 'cataton': 1, 'secreet': 1, 'verif': 5, 'intraaxi': 2, 'aspirs': 1, 'purpilish': 1, 'pea': 11, 'erythem': 4, 'revisit': 7, 'bib': 2, 'vagin': 11, 'escar': 2, 'catm': 2, 'corneal': 6, 'whooz': 1, 'comatos': 1, 'mabp': 1, 'psychomimet': 3, 'diaphorect': 2, 'prostatectomi': 4, 'sedement': 5, 'lacer': 13, 'ileal': 6, 'mciu': 1, 'signifc': 5, 'subtherapuet': 1, 'irriagt': 1, 'built': 1, 'adequt': 2, 'radic': 5, 'gaze': 9, 'crawl': 4, 'rum': 1, 'mucosi': 1, 'bug': 7, 'withdarw': 1, 'pulmo': 3, 'resdiual': 1, 'densest': 2, 'aroumd': 1, 'meyloma': 1, 'mucuo': 1, 'dump': 3, 'debri': 16, 'dysconjug': 1, 'venodynn': 1, 'mornign': 2, 'marijuana': 3, 'ppsv': 1, 'propabl': 1, 'placedraing': 1, 'remaint': 1, 'diali': 2, '\\x13': 2, 'attmept': 5, 'norvasc': 13, 'cystectomi': 3, 'mlij': 1, 'neobladd': 1, 'agiti': 3, 'begant': 1, 'myeloma': 5, 'disconjug': 2, 'conduit': 1, 'sutr': 1, 'montor': 4, 'prostetectomi': 1, 'petechia': 3, 'bialter': 3, 'influ': 1, 'meax': 1, 'frequ': 3, 'linen': 9, 'creation': 3, 'parametersthi': 1, 'apper': 6, 'recrut': 1, 'russian': 20, 'lght': 1, 'intubatd': 2, 'reaccumul': 18, 'untx': 1, 'contralater': 9, 'frail': 19, 'paperi': 1, 'dd': 4, 'tko': 4, 'wf': 2, 'shorten': 7, 'pri': 2, 'malg': 1, 'bronchomalagia': 1, 'gastrocult': 2, 'moreov': 3, 'seventh': 12, 'pericardiocentesi': 4, 'wider': 3, 'pericardiac': 2, 'constrict': 13, 'convinc': 15, 'opa': 1, 'lnco': 10, 'prestern': 1, 'extravascular': 1, 'psvt': 4, 'fosamax': 4, 'paraspin': 11, 'prssure': 1, 'underpenetr': 8, 'tracheo': 6, 'pla': 2, 'alvaolar': 1, 'regurgitaton': 1, 'underdevelop': 1, 'epitympan': 1, 'adminst': 3, 'prodctiv': 1, 'npnn': 1, 'elimin': 10, 'delta': 5, 'medulla': 2, 'sect': 1, 'rebreah': 1, 'serousi': 1, 'hfn': 3, 'ine': 3, 'haem': 1, 'fob': 1, 'lingular': 28, 'vemtilatori': 1, '^wbc': 3, 'carrier': 2, 'yankar': 4, 'depth': 6, 'urostomi': 3, 'yellowi': 3, 'optimist': 5, 'dgt': 6, 'eright': 1, 'cheer': 2, 'pulmologist': 1, 'element': 46, 'explor': 6, 'ileoconduit': 1, 'pneumonai': 1, 'preform': 6, 'kaexal': 1, 'apear': 5, 'whch': 1, 'sugereon': 1, 'scapular': 4, 'frome': 1, 'intermediu': 11, 'drainot': 1, 'doson': 1, 'actiivti': 1, 'dramaticali': 1, 'concommit': 1, 'sysol': 1, 'scapula': 13, 'flowheet': 1, 'dirrahea': 1, 'zyperia': 1, 'oatmeal': 6, 'nerv': 15, 'illeoconduit': 1, 'conlosomi': 1, 'ileo': 2, 'forgot': 1, 'paussey': 1, 'slightlti': 1, 'intouch': 1, 'cant': 5, 'nauseau': 3, 'colostolmi': 1, 'prognossi': 1, 'nhl': 5, 'miropenum': 1, 'amul': 1, 'ivg': 1, 'allo': 2, 'friabl': 3, 'puriti': 2, 'potasium': 1, 'crossreact': 2, 'cephalasporin': 1, 'bmt': 10, 'stopper': 1, 'ivig': 11, 'pbec': 6, 'enterococc': 7, 'oxza': 11, 'bead': 3, 'overdos': 14, 'wimper': 1, 'cervicomedullari': 1, '^b': 1, 'intto': 1, 'simplest': 2, 'dbp': 4, 'childlik': 1, '^^dbp': 1, 'tangl': 1, 'width': 11, 'accapela': 1, 'granulomatu': 1, 'child': 3, 'sooner': 5, 'repositon': 3, 'heartedli': 1, 'arouas': 1, 'infra': 5, 'execut': 1, 'medici': 1, 'reass': 5, 'unequ': 6, 'pjc': 2, 'orichectomi': 1, 'duti': 1, 'perp': 4, 'reddn': 1, 'osteomylitit': 1, 'lisinpril': 2, 'ocasion': 1, 'exce': 3, 'reslov': 2, 'grabe': 1, 'thera': 1, 'overextend': 1, 'theravest': 1, 'secretio': 4, 'creatanin': 2, 'sel': 2, 'acepella': 2, 'regiment': 15, 'normoxia': 4, 'pnc': 1, 'dimins': 1, 'yhe': 2, 'prsent': 2, 'dypsnea': 5, 'reqir': 2, 'atempt': 4, 'ofemal': 1, 'caretak': 9, 'es': 2, 'serav': 1, 'ronchioru': 1, 'inconten': 1, 'volecula': 1, 'infultr': 1, 'frank': 41, \"rx'ed\": 1, 'stenot': 6, 'coarctat': 19, 'triscupid': 1, 'zelnorm': 1, 'estblish': 2, 'mangement': 4, 'emt': 7, 'corynebacterium': 2, 'herpain': 1, 'kl': 1, 'tomorow': 2, 'precipitatnt': 1, 'radium': 1, 'formerli': 5, 'pred': 23, 'recordsno': 6, 'nivm': 1, 'linger': 4, 'methylypredison': 1, 'phtn': 11, 'suppelement': 1, 'preset': 2, 'hiflo': 2, 'pasp': 6, 'vq': 5, 'woodi': 2, 'propionibacterium': 1, 'vasoconstrict': 1, 'ddimer': 4, 'il': 4, 'diphtheroid': 1, 'hyperpigment': 4, 'iwth': 4, 'vertigo': 4, 'renov': 2, 'bleeder': 1, 'oedematu': 1, 'aqaucel': 1, 'ivfb': 4, 'aztreoneum': 1, 'llarm': 2, 'bigemni': 2, 'aquir': 13, 'gingerli': 1, 'bodili': 3, 'agon': 3, 'grion': 1, 'formal': 32, 'stoll': 3, 'gantri': 1, 'resplor': 1, 'satisfcatori': 1, 'clammi': 12, 'ontinu': 2, 'maintin': 2, 'foreatrm': 1, 'sata': 3, 'zaroxlyn': 2, 'respelar': 1, 'survel': 3, 'lbo': 1, 'occipt': 2, 'sooth': 2, 'harden': 6, 'feacal': 1, 'dysrhythmia': 10, 'capsul': 18, 'purposeful': 1, 'apperar': 1, 'hyperperfus': 1, 'crrect': 1, 'hydralizn': 1, 'overnightm': 1, 'wcc': 3, 'pericol': 2, 'responc': 8, 'pyret': 1, 'intraparenchym': 9, 'grn': 2, 'kinder': 1, 'loadli': 1, 'palption': 1, 'transud': 13, 'olansapin': 1, 'necess': 5, 'eccomot': 1, 'acuiti': 7, 'perforati': 1, 'sours': 2, 'elevi': 1, 'montioedu': 1, 'aka': 5, 'ldp': 1, 'bein': 1, 'appaer': 1, 'fluconasol': 1, '^p': 3, 'oxycondon': 2, 'ordin': 1, 'bibasilarli': 4, 'nxt': 1, 'mininm': 1, 'crt': 5, 'atheromat': 3, 'infilt': 2, 'mononitr': 5, 'discov': 9, 'fsqid': 1, 'cpc': 1, 'hydralzin': 4, 'committe': 1, 'appropraitley': 1, 'incon': 2, 'montipodi': 1, 'sheepskin': 1, 'prosthes': 3, 'trachmask': 2, 'localis': 1, 'fiscal': 1, 'dinitr': 4, 'fentali': 2, 'sulcal': 6, 'pyrexia': 44, 'zarolyn': 1, 'hue': 2, 'mulitpodu': 1, 'appart': 2, 'mmeq': 1, 'vnetil': 1, 'noncommun': 5, 'pressr': 2, 'ampi': 1, 'hosptial': 4, 'seep': 1, 'inconsitantli': 2, 'mcqx': 1, 'weean': 1, 'aztronam': 1, 'weakish': 1, 'wieght': 1, 'aztroneum': 1, 'vanginosi': 1, 'jg': 2, 'antx': 1, 'vasolin': 4, 'reschdul': 1, 'toadi': 2, 'mew': 2, 'led': 13, 'du': 3, 'tilt': 8, 'sleev': 9, 'cytotox': 2, 'aircel': 1, 'yesturday': 4, 'wheex': 1, 'dwi': 2, 'cerebellar': 10, 'pv': 8, 'zaroxyln': 3, 'heprin': 6, 'coccyxx': 1, 'positv': 1, 'posteri': 1, 'offens': 1, 'hemiarthroplasti': 6, 'ozz': 1, 'mediacl': 1, 'jt': 5, 'defi': 1, 'hydralalzin': 1, 'positon': 2, 'mmgh': 1, 'vaginosi': 2, 'hlthi': 1, 'breakdoown': 1, 'airclean': 1, 'agait': 2, 'ocg': 1, 'paracol': 8, 'shorter': 17, 'specimin': 2, 'contorl': 2, 'contast': 1, 'cocyx': 4, 'collector': 1, 'aggre': 1, 'rectosigmoid': 6, 'gerner': 1, 'givenk': 1, 'respalar': 2, 'trasnfer': 1, 'uncomf': 1, 'metalazon': 1, 'zaroxolyn': 2, 'vicin': 2, 'pullback': 2, 'gwp': 10, 'calculu': 9, 'dependantli': 1, 'septat': 8, 'abandon': 3, 'jkpe': 5, 'nitinol': 7, 'join': 3, 'natg': 4, 'redund': 8, 'anspir': 1, 'ureter': 9, 'flagli': 4, 'serosangi': 2, 'gastrografin': 5, 'tachyn': 3, 'afflutt': 1, 'irragt': 1, 'sincer': 1, 'sweati': 2, 'intraretroperiton': 1, 'rhonchour': 6, 'acetabulum': 8, 'restag': 1, 'sutent': 2, 'periost': 3, 'crest': 2, 'mycobacteri': 3, 'burden': 10, 'iliac': 41, 'toast': 5, 'paraaort': 8, 'subtrochanter': 1, 'rcc': 7, 'metstat': 1, 'grandaugth': 1, 'zolpidem': 7, 'levoflaoxacin': 1, 'ah': 7, 'meanwhil': 4, 'choleycsytectomi': 1, 'ursodiol': 4, 'bedrest': 13, 'wthdrawal': 1, 'escitalopram': 2, 'avm': 5, 'hydrochlorothiazid': 7, 'oxal': 2, 'nadolol': 3, 'vagal': 9, 'pallor': 24, 'reble': 2, 'coax': 1, 'varoc': 1, 'wn': 4, 'wd': 14, 'pedicl': 7, 'ventric': 3, 'tachypenia': 1, 'oppos': 8, 'whereupon': 1, 'imfect': 1, 'gc': 3, 'somehat': 2, 'flr': 2, 'intermmitantli': 1, 'moon': 1, 'intrathec': 3, 'brimonidin': 2, 'colono': 1, 'bullet': 1, 'travatan': 1, 'ulcuer': 1, 'fish': 6, 'poop': 1, 'tegretol': 4, 'carbetolol': 1, 'epilepsi': 3, 'enulos': 1, 'spring': 1, 'parapsilosi': 2, 'kaexyl': 2, 'minatin': 1, 'quadriplegia': 5, 'hyponateremia': 1, 'tbw': 3, 'carbamezapin': 1, 'jxrl': 14, 'magic': 2, 'nystagmu': 3, 'esteras': 3, 'dysflexia': 1, 'automon': 1, 'professor': 1, 'pern': 1, 'semest': 1, 'quadraplegia': 4, 'cardiogram': 1, 'centrum': 6, 'recreat': 4, 'bacolfen': 1, 'tibial': 42, 'ergocalciferol': 1, 'funguria': 1, 'ictal': 3, 'pseudomon': 13, 'pertain': 3, 'engin': 4, 'frankli': 5, 'faci': 1, 'pneumionia': 1, 'lomotrigen': 1, 'opposit': 2, 'alphagan': 1, 'delir': 10, 'subclin': 3, 'pseudamona': 2, 'caucasian': 5, 'wander': 6, 'antizeizur': 1, 'taut': 2, 'aeruginosa': 5, 'maker': 5, 'cxwc': 11, 'twave': 5, 'illus': 1, \"desat'd\": 1, 'unwit': 5, 'dysreflexia': 1, 'strernal': 1, 'omega': 2, 'initiali': 4, 'tonic': 6, 'siezur': 8, 'teacher': 2, 'readdmit': 1, 'transter': 1, 'poisitv': 1, 'sarcast': 1, 'lgr': 7, 'antiepilept': 2, 'glycerin': 1, 'mutlipl': 2, 'seixur': 1, 'deafferent': 1, 'spark': 2, 'clonic': 6, 'kit': 8, 'oxybutynin': 5, 'stri': 1, 'fordeti': 1, 'fectal': 2, 'undersid': 3, 'callu': 5, 'anbx': 21, 'monotor': 2, 'iliacu': 3, 'loculat': 1, 'canal': 21, 'plethora': 4, 'citi': 3, \"sat'\": 5, 'breaktrough': 1, 'transmit': 11, 'vnetilatori': 1, 'dermatolog': 6, 'crepid': 1, 'intraop': 6, 'prductiv': 1, 'toradol': 6, 'steri': 3, 'aat': 2, 'mad': 2, 'stopp': 2, 'malalign': 5, 'loww': 1, 'pdst': 1, 'cusp': 1, 'stylet': 7, 'determi': 1, 'dural': 5, 'hematom': 1, 'oal': 1, 'limet': 1, 'fade': 5, 'dependec': 1, 'execept': 1, 'recit': 2, 'urinalysi': 10, 'stoo': 2, 'tlso': 1, 'vertic': 12, 'thorsic': 1, 'applejuic': 1, 'dislpay': 1, 'coears': 1, 'optimis': 1, 'duloxetin': 6, 'videotap': 1, 'withsmal': 1, 'maiami': 1, 'aam': 2, 'avaiabl': 1, 'hemov': 1, 'revalu': 6, 'ise': 1, 'trendelenburg': 1, 'thoracoabdomin': 3, 'retropharyng': 3, 'ivkcl': 1, 'phlegmon': 2, 'abc': 3, 'cariothorac': 1, 'anterio': 2, 'anu': 4, 'unil': 1, 'extradur': 2, 'hydrouret': 10, 'bactroban': 3, 'instrument': 13, 'ketamin': 1, 'lter': 2, 'crept': 1, 'diuress': 4, 'ninth': 4, 'bizarr': 2, 'ilater': 1, 'schmorl': 4, 'guag': 8, 'withl': 1, 'disciti': 4, 'psoa': 6, 'herp': 15, 'aldacton': 6, 'easlli': 1, 'punc': 1, 'theet': 1, 'cauda': 6, 'hemovac': 4, 'infrahepat': 1, 'nsurg': 3, 'drove': 2, 'endplat': 17, 'equina': 6, 'comofrt': 1, 'piccl': 1, 'pu': 11, 'thecal': 4, 'prepocedur': 1, 'fascilit': 1, 'thirti': 4, 'csft': 1, 'unfett': 1, 'diagnsi': 1, 'kideni': 1, 'propag': 1, 'successful': 1, 'hypospadiu': 1, 'extrins': 5, 'hxof': 2, 'bloodier': 1, \"sxn'ed\": 3, 'analges': 7, 'gemini': 1, 'psychoact': 4, 'goiter': 6, 'preocedur': 1, 'hounsfield': 8, 'clearn': 1, 'lengthli': 2, 'themselv': 2, 'abmul': 1, 'nostril': 12, 'rigth': 3, 'lscl': 1, 'sangun': 1, 'screener': 6, 'anasarcoid': 4, 'throughoutth': 1, 'grimis': 1, 'sangeou': 1, 'dow': 3, 'approxam': 1, 'condtiion': 1, 'cortico': 1, 'seru': 1, 'paracetamol': 1, 'sofsorb': 2, 'hemothorax': 8, 'venographi': 3, 'elestoplast': 1, 'hopeful': 2, 'uosh': 1, 'dfdgf': 1, 'necesit': 2, 'findibg': 1, 'stimualt': 2, 'cogniz': 1, 'errythema': 1, 'precedur': 1, 'inferomedi': 2, 'sarcoma': 1, 'costodiaphragmat': 1, \"mvm't\": 2, 'apa': 2, 'fube': 1, 'consol': 5, 'unblock': 2, 'anasarka': 1, 'rra': 1, 'assciat': 1, 'proc': 4, 'pod': 15, 'upperlob': 2, 'giacc': 1, 'thorocoscopi': 1, 'erthemat': 2, 'comfortabley': 2, 'cone': 2, 'sanguan': 1, 'pvsv': 1, 'pos': 2, 'thorocotomi': 2, 'honor': 1, 'gluconst': 1, 'faecium': 1, 'advnc': 1, 'instal': 5, 'hesit': 10, 'innomin': 6, 'parkison': 1, 'rp': 14, 'femer': 3, 'adress': 2, 'occluss': 1, 'stich': 2, 'peroxid': 3, 'biotic': 1, 'trahc': 3, 'viscera': 7, 'concent': 1, 'aftr': 1, 'cheat': 1, 'souc': 2, 'alquez': 1, 'toss': 4, 'inde': 6, 'ride': 6, 'bloodcx': 1, 'impercept': 1, 'applli': 1, 'linezalid': 1, 'sangin': 1, 'thoras': 6, 'hydrogen': 2, 'intrapleur': 3, 'increment': 6, 'arris': 1, 'moisten': 3, \"parkinsons'\": 1, 'alkaloti': 1, 'thrach': 2, 'surgifoam': 1, 'faulti': 1, 'diurisis': 1, 'granulomat': 9, 'linezilid': 1, 'pleuravac': 2, 'sanguein': 1, 'inrr': 1, 'kaposi': 1, 'caught': 4, 'mbp': 1, 'receivi': 2, 'trrend': 1, 'thrombolyt': 1, 'evacu': 15, 'susequ': 2, 'dimnish': 1, 'corticobas': 1, 'surgicel': 2, 'varicos': 3, 'intox': 7, 'ruptur': 18, 'gastroesophag': 29, 'hyoptn': 1, 'nco': 6, 'acet': 9, 'raloxifen': 1, 'ptsd': 7, 'unsaf': 13, 'sillihett': 1, 'amphetamin': 1, 'reman': 3, 'sublingu': 5, 'adam': 4, 'aton': 1, 'tranferrin': 1, 'introduct': 3, 'barb': 3, 'dlco': 2, 'breast': 38, 'weigh': 7, 'caff': 2, 'cigarett': 11, 'withourt': 1, 'tahbso': 1, 'sulfasalazin': 3, 'treand': 2, 'probnp': 5, 'tah': 5, 'triamcinolon': 3, 'imipress': 1, 'intensitif': 1, 'amphet': 1, 'disku': 6, 'sentanc': 3, 'anorexia': 10, 'fibromyalgia': 3, 'abstienc': 1, 'misoprost': 1, 'costrophren': 1, 'sytem': 3, 'hfa': 3, 'ket': 5, 'spegr': 1, 'perphenazin': 1, 'hemmorhoid': 2, 'fluoxetin': 4, 'lump': 4, 'cytotec': 1, 'poli': 26, 'gastroenterolog': 4, 'tackynp': 1, 'boderlin': 4, 'preferenti': 1, 'ht': 11, 'pft': 21, 'notdon': 4, 'nitr': 6, 'unisyn': 1, 'sink': 1, 'urobil': 3, 'rqeaction': 1, 'acetmnphn': 3, 'compli': 7, 'basex': 6, 'phych': 1, 'bj': 2, 'misoprostol': 1, 'bpd': 1, 'clearish': 1, 'whitmil': 6, 'synopsi': 5, 'bso': 2, 'fioricet': 1, 'gastriti': 17, 'dextroamphetamin': 1, 'antipyret': 6, 'ptch': 6, 'arthralgia': 10, 'hc': 6, 'spirat': 2, 'briefi': 1, 'nervosa': 2, 'evista': 1, 'warn': 3, 'ibw': 10, 'conform': 3, 'cxrshow': 1, 'scaphoid': 3, 'lemonad': 2, 'agap': 9, 'propoxyphen': 4, 'butalbit': 2, 'pulsu': 6, 'pericardia': 2, 'slawwolow': 1, 'pown': 1, 'naproxen': 2, 'ipa': 1, 'acetonid': 1, 'ref': 6, 'proair': 2, 'td': 12, 'tibc': 8, 'handihal': 1, 'lumpectomi': 7, 'leter': 1, 'unalt': 4, 'ctropnt': 2, 'folic': 13, 'ndnt': 6, 'reguir': 2, 'psychiatrist': 10, 'agonist': 3, 'mthdne': 1, 'secundum': 6, 'sniff': 8, 'congenit': 19, 'jbre': 9, 'atrio': 5, 'talu': 3, 'valgu': 1, 'congruent': 4, 'tuberculosi': 7, 'calcan': 1, 'styloid': 1, 'phalang': 3, 'cmc': 2, 'thoracoscopi': 4, 'hallux': 1, 'leftclip': 1, 'phalanx': 4, 'undiagnos': 6, 'underexposur': 1, 'resembl': 2, 'tubercul': 2, 'pleur': 1, 'mtp': 1, 'mortis': 3, 'hre': 1, 'dwell': 5, 'osmolit': 2, 'resuct': 1, 'dicuss': 1, 'bullou': 8, \"lft'\": 5, 'formatio': 1, 'coccidiomycosi': 2, 'sternocleidomastoid': 3, 'regist': 5, 'exub': 6, 'tracheomegali': 1, 'armi': 1, 'roadtrip': 1, 'nct': 1, 'hematolog': 20, 'splenul': 10, 'quicki': 1, 'ation': 1, 'erron': 3, 'ultrsonograph': 1, 'inaffect': 1, 'wheen': 1, 'pleuro': 1, 'pils': 1, 'servi': 1, 'apetit': 11, 'trandfer': 1, 'reamain': 1, 'snooz': 2, 'neub': 2, 'levofloxcin': 3, 'ichi': 1, 'zoooster': 1, 'dilatin': 3, 'vericilla': 1, 'catc': 1, 'sersang': 2, 'zorviax': 1, 'ey': 2, 'pruiti': 1, 'tachynep': 1, 'chet': 1, 'cheang': 1, 'heartrat': 1, 'insu': 1, 'svg': 4, 'dermotolog': 1, 'draian': 2, 'commnad': 4, 'follo': 2, 'everywher': 1, 'ssx': 1, 'adult': 10, 'zesteril': 1, 'extremitli': 1, 'sternaum': 1, 'ansthesia': 1, 'spound': 1, 'lcw': 4, 'reavtiv': 1, 'onleft': 1, 'sbradi': 1, 'wriiten': 1, 'blisteri': 1, 'consistli': 1, 'scrotal': 16, 'ligi': 1, 'zoster': 13, 'nooon': 1, 'sxnd': 4, 'truck': 2, 'amal': 2, 'aloevista': 1, 'raplac': 1, 'randomli': 3, 'wih': 2, 'wcommand': 1, 'pearll': 1, 'bsp': 2, 'immmedi': 1, 'multpl': 3, 'incontinencr': 1, 'epicard': 2, 'dression': 1, 'salvag': 2, 'tenati': 1, 'incison': 1, 'activeti': 1, 'suppoert': 1, 'intermittingli': 2, 'sponteous': 1, 'zooster': 1, 'clotti': 1, 'tensiv': 2, 'serosan': 1, 'euqal': 1, 'asper': 3, 'eccymoisi': 1, 'consistanli': 1, 'overngiht': 4, 'ventolin': 4, 'vip': 3, 'waiv': 1, 'merpanem': 1, 'perepher': 1, 'meripenem': 3, '\\x13transfer': 1, 'optmiz': 1, 'whiel': 1, 'srackl': 1, 'anitcoagul': 1, 'luekemia': 1, 'interig': 1, 'hereconfirm': 1, 'leukemia': 7, 'copazin': 2, 'exaust': 1, 'continuo': 3, 'furthermor': 8, 'wipe': 8, 'peripelv': 1, 'ureteropelv': 1, 'apppli': 2, 'clotrimazol': 6, 'evalua': 3, 'anitbx': 2, 'fenestr': 6, 'soluabl': 1, 'axil': 3, 'hyperecho': 8, 'urothelium': 1, 'scout': 16, 'ccm': 1, 'supersorb': 1, 'clotimazol': 1, 'parapharyng': 1, 'anticubit': 4, 'foreign': 13, 'blooy': 1, 'vad': 2, 'crusti': 4, 'regual': 1, 'tracheoinnomin': 1, 'laryngectomi': 2, 'ucerin': 1, 'amorph': 3, 'pseudoaneurysm': 7, 'adjunct': 3, 'swallo': 2, 'recomm': 2, 'submandibular': 5, 'fire': 8, 'delus': 2, 'prograf': 3, 'noew': 1, 'positivli': 2, 'rap': 10, 'enyzm': 1, 'box': 7, 'eyedrop': 2, 'effu': 6, 'recurrenti': 1, 'tripll': 1, 'gbeen': 1, 'diagnsot': 1, 'flucanazol': 1, 'treponin': 1, \"^'ng\": 1, 'aful': 1, 'nephro': 2, 'jwk': 4, 'neurotin': 1, 'keton': 9, 'diavan': 1, 'mjoriti': 1, 'exbub': 1, 'autoduiresi': 1, 'remaain': 1, 'metaprolol': 4, 'errl': 1, 'minimi': 2, 'psup': 3, 'greeen': 1, 'doorway': 2, 'hpp': 1, 'ntp': 6, 'succes': 4, 'allerigi': 1, 'slightk': 1, 'pregress': 1, 'qaudrant': 1, 'puppet': 1, 'blacj': 1, 'knock': 4, 'swill': 1, 'combivir': 3, 'miseri': 1, 'cepacol': 2, 'dmi': 3, 'tessalon': 9, 'ambein': 1, 'betadin': 3, 'funni': 2, 'monthli': 6, 'lozeng': 3, 'ultrafiltr': 6, 'gurgl': 10, 'labatalol': 2, 'filtrat': 2, 'nown': 1, 'unsupervis': 2, 'materail': 1, 'dializ': 1, 'voluntari': 1, 'interf': 1, 'seconari': 1, 'vl': 18, 'novea': 1, 'nephrologist': 4, 'cyclosporin': 3, 'undertaken': 2, 'prefe': 1, 'comun': 3, 'enviro': 3, 'sinnis': 1, 'inquier': 4, 'quinton': 3, 'overwhelm': 9, 'tilet': 1, 'cefrtiaxon': 1, 'albulterol': 1, 'ampicillan': 1, 'activrti': 1, 'avtiv': 1, 'dispneaic': 1, 'aoox': 7, 'leionella': 1, \"'thumb\": 1, 'alkaloid': 1, 'fbca': 4, 'ngiht': 4, 'microb': 2, 'thromboctopenia': 1, 'recordsbelladonna': 1, 'acd': 6, 'belladonna': 1, 'swoll': 1, 'poh': 1, 'electron': 9, 'mepliex': 1, 'ciproflox': 1, 'nonbroken': 1, 'prohylaxi': 1, 'nonocclus': 9, 'nightli': 5, 'warmth': 7, 'generak': 1, 'gleed': 1, 'siunc': 1, 'app': 5, 'mesalamin': 2, 'valerian': 1, 'ldn': 6, 'brca': 2, 'ivmeropenum': 1, 'ibd': 2, 'bi': 6, 'prophylact': 20, 'infitr': 5, 'tinea': 1, 'nppv': 6, 'recentlli': 1, 'apppear': 3, 'hytrin': 1, 'sole': 6, 'thorocentisi': 1, 'cardiophren': 8, 'extract': 9, 'legioniella': 1, 'bcaus': 1, 'likewis': 1, 'xygri': 2, 'thoracentisi': 2, 'vist': 2, 'spiromoeteri': 1, 'rslt': 1, 'hyperv': 1, 'phi': 4, 'glucaphag': 1, 'niddm': 8, 'bracelet': 6, 'arter': 1, 'meropanem': 1, 'funtion': 3, 'amalys': 1, 'bigemeni': 2, 'labour': 2, 'nasointestin': 9, 'floro': 1, 'presen': 1, 'contrari': 1, '^doe': 1, 'accustom': 1, 'evetu': 1, 'curs': 2, 'interstit': 4, 'nasagmu': 1, 'trens': 1, \"tom'row\": 3, 'delirum': 1, 'canot': 1, 'phlebotomi': 15, 'inconclus': 5, 'upperarm': 1, 'lipomat': 4, 'reintroduc': 4, 'espec': 2, 'physio': 2, 'dubhoff': 6, '^restless': 1, 'paralys': 6, 'repletd': 1, 'mutilobar': 1, 'ststu': 1, 'detemin': 1, 'aurgument': 1, 'lye': 1, 'un': 8, 'brreath': 1, 'umbil': 12, 'intrabd': 2, 'tether': 6, 'pneumostat': 3, 'powerpicc': 4, 'transfix': 2, 'lltc': 12, 'ceph': 2, 'withstood': 1, 'angular': 1, 'stelazin': 1, 'epidisod': 1, 'simethecon': 2, 'psychiatri': 12, 'simethcon': 1, 'cogentin': 2, 'vew': 1, 'unreli': 6, 'consutl': 2, 'ostreomyl': 1, 'foramina': 4, 'veterbr': 1, 'neural': 13, 'erythma': 1, 'tobra': 6, 'obliter': 14, 'cape': 2, 'bister': 1, 'copious': 1, 'lysi': 5, 'diskiti': 3, 'linezoid': 2, 'foramin': 11, 'aveeno': 1, 'tremul': 14, 'mentatl': 1, 'neurosurgeri': 5, 'bounc': 4, 'trumor': 1, 'thrombophleb': 2, 'creast': 1, 'johnson': 1, 'pinpoint': 4, 'intr': 1, 'noncompress': 5, 'cheny': 2, 'aveno': 1, 'erthyma': 1, 'osteomyleti': 1, 'vooid': 1, 'loongterm': 1, 'intrisinc': 1, 'ultrcal': 1, 'coach': 15, 'serous': 1, 'rectovagin': 1, 'mscontin': 1, 'demorol': 1, 'telelphon': 1, 'dryness': 5, 'cha': 2, 'lookup': 1, 'confusedat': 1, 'endocardidti': 1, 'repletet': 1, 'everythingthat': 1, 'drn': 1, 'tylenool': 1, 'vetebr': 1, 'intraabd': 1, 'flakey': 2, 'macular': 12, 'thinner': 7, 'hte': 4, 'discectomi': 1, 'flake': 15, 'debrit': 1, 'rhtym': 3, \"'call\": 1, 'dring': 1, 'bloddi': 1, \"shock'\": 1, \"'infrequ\": 1, 'sugest': 1, 'bdrest': 1, 'yesterdaym': 1, 'parallel': 2, 'ventriclar': 1, 'resuscitaion': 1, 'salvo': 1, 'metaplasia': 2, 'admisson': 1, 'cyberknif': 3, 'adenocarcinoma': 17, 'angioectasia': 2, 'sppleenectomi': 1, 'myeloid': 1, 'myelofibrsi': 1, 'sideroblast': 1, 'pancreatectomi': 1, 'overinfl': 8, 'ctto': 1, 'placmeent': 1, 'analyz': 12, 'pneurmothorax': 1, 'pneumoth': 2, 'knob': 12, 'regress': 12, 'orientedx': 7, 'remaisn': 4, 'refrain': 2, 'infradiaphragmat': 3, 'thoracoscop': 2, 'unchnag': 1, 'cystoscopi': 6, 'ovarian': 6, 'tehn': 1, 'nondepend': 6, 'diastasi': 3, 'ctpa': 7, 'cystocopi': 2, 'uniformli': 4, 'hernial': 1, 'eager': 5, 'conc': 6, 'fontal': 1, 'energet': 1, 'lobd': 1, 'ceftrax': 1, 'popsickl': 1, 'indciat': 1, 'guifensan': 1, 'expectorationg': 1, 'superinmpos': 1, 'mwintain': 1, 'cardiovers': 14, 'plenti': 4, 'poisit': 1, 'rocephin': 2, 'discoordin': 6, 'physican': 1, 'hpa': 2, 'everth': 1, 'inmmobil': 1, 'instrins': 1, 'mersa': 1, 'coher': 7, 'rouseabl': 2, 'disclos': 4, 'hemiplegia': 5, 'vaxcel': 6, 'sath': 1, 'apnic': 6, 'annoy': 2, 'effusio': 5, 'genamycin': 1, 'vv': 2, 'volun': 1, 'float': 2, 'venepunctur': 1, 'unrepair': 1, 'nephrolog': 6, 'lawn': 1, 'miscarriag': 2, 'pentamidin': 3, 'stiffen': 7, 'hemorr': 1, 'mow': 1, 'ptosi': 1, 'pregabalin': 3, 'herpet': 2, 'artifici': 5, 'fistalugram': 1, 'dapson': 4, 'guidenc': 1, 'effsuin': 2, 'silver': 6, 'angiodynam': 2, 'postherpet': 1, 'clottedcan': 1, 'outer': 4, 'unus': 4, 'taco': 1, 'neuralgia': 2, 'basilarli': 1, 'faith': 1, 'allosct': 2, 'sidept': 1, 'allogen': 3, 'gvhd': 2, 'edeman': 2, 'cuffleak': 2, 'cellult': 1, 'medcat': 1, 'yhi': 1, 'circl': 7, 'aca': 4, 'semioval': 3, 'lvia': 3, 'thoracenteci': 1, 'flagi': 2, 'microvessel': 1, 'alz': 1, 'encephalomalac': 2, 'awat': 2, 'painkish': 1, 'givenx': 2, 'unifib': 1, 'muco': 1, 'striatoniagr': 1, 'elecatr': 1, 'pdr': 1, 'veneodyn': 1, 'frq': 1, 'ivbx': 1, 'serosanquin': 1, 'aniticp': 1, 'sut': 1, 'radiodens': 14, 'trah': 2, 'exager': 2, 'coveral': 1, 'profici': 1, 'atropi': 1, 'periodiac': 1, 'abmu': 1, 'hyupernatremia': 1, 'utilis': 1, 'surprisingli': 2, 'reflux': 26, 'readvanc': 3, 'oropharnyx': 1, 'kid': 3, 'reommend': 1, 'mimick': 1, 'grey': 7, 'dsa': 1, 'benepro': 2, 'occason': 2, 'alet': 1, 'mondday': 1, 'dschrg': 1, 'characht': 1, 'cautiosli': 1, 'pvo': 1, 'drainaag': 1, 'eyebrow': 4, 'pulmonaari': 1, 'tooth': 8, 'withbl': 1, 'restatr': 2, 'pvco': 1, 'serviv': 1, 'ectoy': 2, 'claudi': 1, 'respiatori': 1, 'occuls': 1, 'banana': 15, 'ecotpi': 2, 'inchair': 1, 'laxix': 1, 'expres': 2, 'benefib': 2, 'coxxyx': 1, 'respatori': 1, 'lesson': 1, 'striatonigr': 1, 'crackli': 3, 'hedo': 1, 'timefram': 1, 'ncreas': 1, 'audabl': 1, 'vetil': 2, 'bumex': 3, 'trachesostomi': 1, 'pulmacort': 1, 'bilaterlli': 1, 'sechedul': 1, 'mab': 1, 'resorpt': 4, 'auscul': 2, 'optomist': 1, 'hypercapnia': 4, 'dreainag': 1, 'unfib': 1, 'individu': 6, 'greeninsh': 3, 'grandkid': 1, 'nigrostriat': 1, 'undoubtedli': 2, 'infsus': 1, 'facila': 1, 'psuedomona': 6, 'vene': 1, 'configuart': 1, 'augmentin': 8, 'malacia': 4, 'oder': 2, 'porvid': 1, 'suctionr': 1, 'sputumwith': 1, 'diomax': 1, 'beneprotien': 3, 'jerk': 4, 'pulmicourt': 1, 'endotrachael': 1, 'stiffli': 1, 'diruess': 1, 'inreas': 1, 'lowwer': 1, 'pulmonarey': 1, 'graini': 2, 'caridac': 1, 'fibronodular': 2, 'overlap': 7, 'jxn': 3, 'aji': 13, 'hyperexpans': 8, 'thoracocentesi': 15, 'otheriws': 1, 'thsi': 6, 'chase': 3, 'bill': 17, 'prandial': 2, 'vivonex': 5, 'invert': 4, 'possiblu': 1, 'atherosclerosi': 12, 'scotum': 2, 'fibrothorax': 1, 'axaxox': 1, 'instant': 1, 'robot': 1, 'scrotom': 1, 'haemodynam': 4, 'dgtr': 6, 'eggcrat': 1, 'disassoci': 1, 'levaqin': 2, 'breakdownon': 1, 'coper': 3, 'diauresi': 1, 'match': 12, 'possib': 1, 'nkma': 3, 'whiti': 1, 'onflow': 1, 'electroly': 5, 'swob': 1, 'sevar': 1, 'wenkebach': 2, 'rnage': 2, 'creammi': 1, 'dissemin': 6, 'endolumin': 4, 'asplenia': 1, 'phantom': 2, 'azithrommycin': 1, \"tx'ing\": 1, 'insecur': 1, 'sprain': 1, 'shower': 2, '\\x13in': 1, 'fdp': 4, 'uat': 2, 'pneumopericardium': 1, 'esbi': 1, 'swivel': 3, 'lucent': 8, 'bradycadia': 1, 'insuffci': 2, 'sucion': 2, 'meter': 1, 'aputum': 1, 'profil': 5, 'creme': 1, 'amunt': 1, 'resullt': 1, 'brownloos': 1, 'pleasand': 1, 'postict': 1, 'belch': 2, 'coomb': 1, 'dextameth': 1, 'confidenti': 1, 'incresas': 2, 'trigemni': 1, 'incit': 2, 'ventset': 2, 'tacrolimu': 7, 'vancomysin': 2, 'orientata': 2, 'eplac': 1, 'swet': 1, 'bols': 3, 'examib': 1, 'trophic': 2, 'scedul': 1, 'flushe': 1, 'vere': 1, 'behaviuor': 1, 'cancal': 1, 'doploff': 3, 'hymidifi': 1, 'aveolar': 1, 'obsewrv': 2, 'nb': 5, 'dizzli': 1, 'metoclopromid': 2, 'liler': 1, 'sof': 3, 'unable\\x13': 1, 'panctranspl': 1, 'plani': 1, 'buth': 1, 'dispar': 1, 'appera': 2, 'trake': 1, 'bolous': 1, 'cvvh': 9, 'vert': 2, 'sidehol': 9, 'sennakot': 2, 'pepp': 1, 'agitataion': 2, 'arintg': 1, 'doplpoff': 1, 'afternnon': 2, 'jct': 1, 'lertharg': 1, 'hurricain': 5, 'nonfoc': 11, 'sewll': 1, 'pendind': 1, 'tardu': 1, 'unevet': 1, 'valubl': 2, 'commernc': 1, 'focsu': 1, 'requirw': 1, 'pateint': 3, 'amiodar': 1, 'yankaar': 2, 'parenychym': 1, 'troughout': 1, 'diursesi': 3, 'secet': 4, 'inconstit': 1, 'alteplas': 1, 'mucopurul': 1, 'blous': 14, 'kayaxal': 1, 'afibril': 1, 'comfus': 1, 'beacus': 1, 'fentani': 3, 'lw': 13, 'metaclorpromid': 1, 'extubatiohn': 1, 'deleriuo': 1, 'virtual': 2, 'ored': 4, 'suctioend': 1, 'cellphon': 1, 'aggressivf': 1, 'psotion': 1, 'plesa': 2, 'parvu': 1, 'refelx': 1, 'halv': 4, 'hydrazalin': 3, 'sligthli': 1, 'nocal': 1, 'rentent': 1, 'metaclopromid': 2, 'verc': 2, 'mt': 8, 'dopoff': 3, 'cocial': 1, 'initillay': 1, 'coverd': 2, 'easliy': 1, 'alsix': 1, 'ventulat': 1, 'specgr': 2, 'ceftriazon': 6, 'sedentari': 5, 'titropium': 1, 'ccb': 6, 'iga': 5, 'dessert': 1, 'pseudomonax': 1, 'parasthesia': 7, 'oseo': 1, 'corn': 1, 'legionair': 1, 'singulair': 10, 'uric': 6, 'dipstick': 2, 'ptca': 5, 'muffin': 2, 'bbl': 7, 'lifestyl': 3, 'abn': 3, 'hdr': 3, 'desert': 1, 'dog': 4, 'serogroup': 6, 'scrambl': 3, 'methylpr': 8, 'rbc': 43, 'cocnsist': 1, 'soupi': 1, 'thic': 4, 'assistx': 1, 'warmer': 5, 'sg': 6, 'scn': 2, 'msi': 3, 'aztriman': 1, 'plexi': 1, 'kick': 19, 'resperadol': 1, 'mystatin': 1, 'eys': 1, 'nasaotrach': 1, 'discard': 6, 'robituss': 2, 'strept': 5, 'adopt': 1, 'spironmet': 1, 'school': 7, 'bet': 1, 'continuosli': 1, 'bronchodial': 3, 'dulcalox': 1, 'mva': 15, 'rush': 4, 'amantidin': 2, 'cracl': 3, 'cervix': 2, 'doapmin': 1, 'concav': 4, 'esstenti': 1, 'furter': 2, 'edemam': 1, 'infusimg': 1, 'hemangioma': 16, 'condtion': 1, 'ovenroc': 1, 'bwel': 1, 'prolap': 1, 'illeu': 2, 'painfre': 2, 'tng': 2, 'iabp': 5, 'hepatopet': 26, 'dopamamin': 1, 'urbc': 2, 'ith': 2, 'extuba': 3, 'fingertip': 3, 'throughotu': 1, 'monito': 5, 'hydraliazin': 1, 'breathinhg': 1, 'amantadin': 2, 'nitor': 1, 'lorpessor': 2, 'saph': 1, 'posteromedi': 1, 'gasseou': 2, 'quadripl': 1, 'abdomini': 4, 'pbm': 1, 'excis': 8, 'subc': 2, 'platelik': 3, 'curvilinear': 7, 'pneumothoorax': 1, 'pmreassess': 1, 'heimlich': 1, 'colonca': 1, 'sicuss': 1, 'ordrer': 1, 'hydromorphon': 12, 'aresol': 2, 'thermomet': 4, 'row': 7, 'par': 2, 'enterococ': 2, 'lrd': 2, 'sesni': 1, 'stabal': 8, 'negativetri': 1, 'anaphylaxi': 15, 'tacro': 3, 'hyperk': 2, 'trx': 1, 'brittl': 2, 'thrombos': 4, 'tens': 9, 'pleuret': 1, 'tracheobronchomalacia': 9, 'bronc': 3, 'myucomyst': 1, 'dxae': 2, 'ostium': 2, 'ws': 4, 'tropinin': 4, 'carev': 2, 'protoc': 2, 'hjr': 3, 'tendor': 2, 'widow': 3, 'acromiohumer': 1, 'resusciat': 1, 'coracoclavicular': 1, 'aurea': 1, 'glenoid': 7, 'circumflex': 3, 'stbale': 4, 'intubt': 2, 'ovari': 5, 'incompletley': 1, 'dlp': 15, 'paravertebr': 3, 'pbishop': 2, 'direcl': 1, 'mesaur': 1, 'lymphocyt': 9, 'cholecysti': 1, 'plerual': 2, 'mgi': 15, 'adnex': 5, 'venotomi': 7, 'dysynchron': 12, 'shrunken': 4, 'perisplen': 4, 'contrastclip': 3, 'ath': 1, 'secreiton': 1, 'interphalang': 1, 'emphyema': 1, 'coupiou': 2, 'respn': 1, 'clindaycin': 1, 'commnand': 2, 'pneumthorax': 2, 'cga': 9, 'patinet': 4, 'apeci': 2, 'comminut': 8, 'avss': 4, 'sersanguin': 1, 'clind': 1, 'nystain': 1, 'shuffl': 1, 'donw': 1, 'ur': 1, 'adlib': 1, 'tool': 1, 'bedisd': 1, 'accep': 1, 'subseq': 1, 'hcyt': 1, 'periar': 1, 'rpiv': 2, 'brew': 3, 'nauseou': 4, 'dischrg': 1, 'tast': 1, 'cf': 4, 'legibl': 3, 'doubleguard': 5, 'placemnt': 2, 'nonfenestr': 1, 'wriet': 1, 'ontrach': 1, 'thikc': 2, 'mob': 2, 'downsiz': 5, 'synchroni': 3, 'acoupl': 1, 'isolat': 1, 'knownor': 1, 'afebil': 5, 'manuev': 1, 'apin': 3, 'atelectact': 1, 'vaco': 2, 'mediat': 6, 'rpicc': 2, 'hemecult': 1, 'synch': 4, 'lipim': 1, 'antiretrovir': 2, 'backach': 3, 'paitent': 5, 'softwrist': 1, 'island': 7, 'tacycard': 1, 'sppech': 3, 'secrertt': 1, 'comod': 1, 'craet': 1, 'sabl': 1, 'tychypn': 1, 'sutol': 1, 'solat': 1, 'lasx': 1, 'frequentstrong': 1, 'aaaaawait': 1, 'exacerbaion': 1, 'cuffless': 5, 'becaom': 2, 'tepid': 3, 'bottock': 1, 'vx': 4, 'cardial': 1, 'krohn': 1, 'signigic': 1, 'indiscret': 2, 'dysphasia': 4, 'nitrotab': 1, 'expos': 7, 'copn': 1, 'approrpi': 1, 'earlili': 1, 'ceftazdim': 1, 'uprigh': 1, 'mediastinosccopi': 1, 'dysarthr': 3, 'multcn': 1, 'south': 3, 'invent': 1, 'ovoid': 3, 'retrocardi': 2, 'transferrd': 1, 'wich': 2, 'pluggin': 1, 'aebc': 2, 'emphysemia': 1, 'encas': 8, 'costal': 5, 'fragment': 9, 'oxicodon': 2, 'bimalleolar': 1, 'plafond': 1, 'angul': 7, 'neuropath': 4, 'hindfoot': 1, 'disrupt': 4, 'talar': 1, 'adjoin': 1, 'malleolu': 1, 'dilodid': 2, 'callus': 1, 'calcaneu': 1, 'uren': 1, 'fibula': 4, 'charcot': 2, 'varu': 1, 'malleolar': 1, 'trimalleolar': 1, 'fibular': 2, 'wolfram': 2, 'nonhemorrhag': 17, 'requiremnt': 1, 'optic': 1, 'wolfran': 2, 'ulrasound': 1, 'yello': 3, 'vag': 2, 'fishi': 1, 'titat': 1, 'prog': 4, 'lbbb': 10, 'oximet': 2, 'vacular': 2, 'microabras': 1, 'midstern': 5, 'emoli': 1, 'difficultli': 3, 'deped': 2, 'cortison': 2, 'respoit': 1, 'incidnet': 1, 'distned': 1, 'statusa': 1, 'assymptomat': 2, 'stnet': 1, 'seriel': 4, 'coocx': 1, 'becuas': 2, 'sod': 1, 'sxp': 1, 'retim': 1, 'lop': 2, 'maintenac': 1, 'proscar': 1, 'captopr': 2, 'mediastium': 1, 'readmiss': 6, 'mstemi': 1, 'srx': 1, 'silli': 1, 'thankgiv': 1, 'tangenti': 1, '^cri': 1, 'gramstain': 1, 'substern': 7, 'mdnoc': 2, 'unmeasur': 1, 'tmp': 13, 'episodex': 1, 'mrv': 2, 'niifedipin': 1, 'mptb': 6, 'cozaar': 3, 'graph': 2, 'binder': 7, 'crossmatch': 5, 'convent': 9, 'prescribt': 1, 'rbb': 1, 'plz': 3, 'polit': 2, 'vanocmycin': 2, 'amox': 2, 'pruritu': 4, 'sevelamir': 3, 'hematemesi': 5, 'matur': 4, 'hyperthermia': 42, 'contineu': 2, 'crossmathc': 1, 'avgraft': 1, 'smx': 13, 'sarcoid': 8, 'zpak': 2, 'quaic': 1, 'crampo': 1, 'losdartan': 1, 'nifedepin': 1, 'melanot': 5, 'heav': 12, 'nifedipin': 15, 'bracheocephal': 2, 'hydroxysin': 1, 'glomerular': 2, 'clavulan': 2, 'righ': 2, 'bactrimm': 1, 'notif': 9, 'phleb': 1, 'xerofoam': 1, 'reoccurr': 2, 'clump': 1, 'diveriticul': 1, 'diverticulti': 1, 'prepe': 1, 'colonscopi': 2, 'maroon': 7, 'flatuat': 1, 'lfa': 3, 'blown': 1, 'overexpand': 1, 'dribbl': 1, 'azitinem': 1, 'pseudamonsa': 1, 'reuir': 1, 'lumin': 3, 'papsp': 1, 'lforearm': 1, 'peudamona': 1, 'zyvox': 2, 'breathig': 1, 'breathin': 2, 'iliostomybag': 1, 'cahir': 2, 'inncid': 1, 'colitisrequir': 1, 'availabilti': 1, 'remiand': 1, 'ren': 1, 'inpast': 1, 'guiafenesin': 5, 'lquid': 2, 'sution': 2, 'dur': 4, 'extrimitit': 1, 'rrad': 1, 'tiopropium': 1, 'antibioticd': 1, 'blod': 5, 'sulphat': 3, 'porgress': 1, 'adheas': 1, 'serv': 6, 'tipotropium': 1, 'linein': 1, 'rant': 3, 'illoestomi': 1, 'physicv': 1, 'slighti': 3, 'agbg': 1, 'lbrach': 1, 'psuedmona': 1, 'morpin': 4, 'appitit': 9, 'exersic': 1, 'makept': 1, 'pendinf': 1, 'confim': 1, 'milder': 5, 'luq': 8, 'hyperglycem': 13, 'whe': 3, 'oncontact': 1, 'hyperglycamia': 1, 'psuedamonu': 1, 'ocean': 1, 'fortaz': 2, 'conditoin': 1, 'sweater': 2, 'duaderm': 2, 'amikacin': 9, 'aabg': 1, 'leveqiun': 1, 'kexel': 1, 'magmt': 1, 'eventhough': 1, 'pipe': 2, 'deepbreath': 1, 'chset': 1, 'panicki': 2, 'hyperluc': 6, 'tackycard': 1, 'revieew': 1, 'chnged': 1, 'antibioticss': 1, 'prece': 1, 'modal': 3, 'lobectomyand': 1, 'pharm': 8, 'olac': 2, 'unrin': 1, 'throbe': 1, 'klonipin': 3, 'inhail': 2, 'illeostomi': 2, 'norom': 1, 'anticholinerg': 3, 'lidcain': 1, 'tiger': 1, 'intolerac': 1, 'ressect': 1, 'paxil': 9, 'paliat': 1, 'doublecoverag': 1, 'lbp': 5, 'legion': 1, 'hcap': 38, 'hyperkalem': 5, 'cholangio': 2, 'metoprol': 3, 'cholangioca': 1, 'obstain': 1, 'howvev': 1, 'melanoma': 7, 'dysautonomia': 2, 'graduat': 2, 'amoxicillin': 8, 'tbili': 13, 'adenoca': 5, 'finasterid': 2, 'catalogu': 1, 'nutrion': 2, 'unicentr': 1, 'orif': 12, 'amiodipin': 2, 'radiographi': 5, 'wallpap': 1, 'ioversol': 1, 'pelv': 3, 'enterocutan': 2, 'chic': 1, 'primidon': 4, 'ronchor': 16, 'misattach': 2, 'ment': 2, 'ercp': 10, 'receivl': 1, 'castleman': 1, 'refresh': 1, 'laproscop': 1, 'tugor': 2, 'interior': 1, 'piviot': 2, 'excrori': 1, 'azotemia': 9, 'taker': 1, 'hida': 5, 'successu': 1, 'fistul': 3, 'olecranan': 1, 'antiparkinson': 2, 'bliari': 1, 'elast': 2, 'reigmen': 1, 'endpoint': 2, 'fistuologram': 1, \"piv'\": 8, 'dyskinet': 2, 'lexapro': 8, 'choledocholithiasi': 4, 'dex': 4, 'turner': 1, 'laxiti': 3, 'poi': 1, 'transcutan': 3, 'pec': 1, 'csurg': 6, 'optimum': 1, 'respirophas': 1, 'visipaqu': 5, 'wak': 1, 'shield': 1, 'aortobi': 1, 'nv': 3, 'instraspin': 1, 'lunc': 1, 'percept': 1, 'pet': 17, 'spinou': 2, 'encroach': 3, 'paraesophag': 7, 'imping': 9, 'uncovertebr': 3, 'brainstem': 2, 'invad': 7, 'avid': 9, 'cerebellum': 6, 'aspergillu': 11, 'intraoss': 2, 'erod': 5, 'destroy': 3, 'cannul': 5, 'respirtori': 4, 'pneumonectomi': 5, 'bronchorrhea': 1, 'openingli': 1, 'nebsq': 1, 'downt': 2, 'initial': 1, 'hematuirc': 1, 'abssent': 1, 'corsintropin': 1, 'soflti': 4, 'detial': 3, 'afeebril': 1, 'efeect': 1, 'sctlc': 1, 'butt': 5, 'slid': 2, 'scarum': 1, 'vodka': 5, 'operta': 1, 'reviw': 2, 'veceronium': 2, 'lithiumm': 1, 'slighli': 5, 'inpuls': 1, 'hypotent': 7, 'necklac': 2, 'agian': 3, 'unclog': 1, 'therfeor': 1, 'wiothout': 1, 'sedtaion': 1, 'nosocomi': 15, 'clipboard': 4, 'betwwen': 1, 'continuu': 1, 'wavsform': 1, 'papain': 1, 'realt': 2, 'therapistin': 1, 'ywlloe': 1, 'databas': 2, 'agitata': 1, 'sba': 1, 'satisafcatori': 1, 'prozac': 6, 'stack': 2, 'sliip': 1, 'risisng': 1, 'memeori': 1, \"cont'd\": 1, 'dolasetron': 1, 'benedryl': 4, 'uss': 1, 'shifwt': 1, 'lishen': 1, 'discrep': 6, 'hemisper': 1, 'plumonari': 1, 'trede': 3, 'communic': 1, 'succinctli': 1, 'softer': 8, 'lsw': 1, 'phrase': 7, 'portclip': 3, 'gancyclovir': 3, 'prresent': 1, 'diuris': 4, 'spkie': 2, 'gender': 3, 'arteriogram': 3, 'pyrazanamid': 1, 'represn': 1, 'declar': 2, 'usction': 1, 'serosangin': 3, 'trait': 3, 'dermoid': 1, 'srat': 1, 'allevi': 12, 'church': 2, 'emet': 1, 'suppert': 1, 'prcedur': 1, 'regurgat': 1, 'propos': 4, 'meant': 3, 'contit': 1, 'drning': 1, 'physiotherapi': 3, 'reimag': 7, 'uterin': 5, 'improvementtv': 1, 'digest': 2, 'rhonchiou': 2, 'relet': 1, 'guaz': 3, 'perisist': 2, 'ethambutol': 1, 'pltl': 1, 'becan': 1, 'raeb': 1, 'reexpand': 2, 'perrlaa': 1, 'delasetron': 1, 'pleuroparenchym': 4, 'subpoena': 1, 'prr': 1, 'unconsci': 1, 'sleav': 2, 'micxumi': 1, 'decend': 2, 'anzimetx': 1, 'paid': 2, 'opinion': 7, 'agatroban': 1, 'swing': 6, 'daughetr': 1, 'anzement': 1, 'interac': 1, 'alongsid': 10, 'mdo': 1, \"'scvp\": 1, 'ramain': 1, 'apprpriat': 1, 'sectreion': 1, 'sponten': 3, 'tel': 1, 'afrebril': 2, 'weam': 1, 'urs': 1, 'thkish': 2, 'guardianship': 5, 'collectio': 2, 'ladder': 1, 'clsose': 1, 'daptomycin': 2, 'commnec': 1, 'rapport': 7, 'matreess': 1, 'routinc': 1, 'na^^': 1, 'encrust': 1, 'cure': 2, 'rip': 3, 'custodi': 3, 'imepenum': 1, 'cecum': 8, 'ndari': 1, 'circuit': 7, 'vegit': 6, 'watersh': 3, 'treach': 1, 'isoniazid': 2, 'imepenim': 1, 'blank': 2, 'sickl': 1, 'inermit': 1, 'dampn': 1, 'tnick': 1, 'rojm': 1, 'recc': 10, 'vicari': 3, 'rifampin': 6, 'ambisom': 2, 'chalki': 1, 'mcl': 1, 'mtb': 3, 'haematuria': 2, 'espeic': 2, 'echoli': 1, 'lbmx': 2, 'clott': 1, 'scretion': 1, 'erali': 1, 'upprt': 2, 'brighter': 3, 'neostigman': 1, 'allerig': 2, 'imipenam': 1, 'magazin': 3, 'respiartori': 1, 'streptomycin': 1, 'whithin': 1, 'tahypn': 1, 'decreasedin': 1, 'weamn': 1, 'antiemet': 4, 'coagulopath': 3, 'movemnt': 1, 'tolaret': 1, 'myelodysplast': 2, 'abrasionx': 1, 'theori': 3, 'spile': 1, 'anzamet': 1, 'cortistim': 1, 'strptomycin': 1, 'edemed': 1, 'el': 2, 'tylenolx': 1, 'trcheotomi': 1, 'uffp': 2, 'overdiures': 2, 'vomitu': 2, 'erythro': 2, 'diusesi': 1, 'conjuct': 2, 'sag': 1, 'proprofol': 3, 'hypocapnea': 1, 'mojor': 1, 'andtherefor': 1, 'unrais': 1, 'nlargement': 1, 'glden': 1, 'cistatiacurium': 1, 'progr': 3, 'midesophagu': 1, 'dop': 10, 'inhlaer': 1, 'hyperoxia': 2, 'riedel': 1, 'suporrt': 1, 'tign': 1, 'urien': 2, 'deffer': 5, 'demarc': 4, 'audubl': 1, 'nsicu': 1, 'periorbit': 4, 'resond': 3, 'cisatraciriuum': 1, 'betetr': 1, 'redsid': 1, 'expwhe': 1, 'slep': 1, 'bmp': 1, 'refex': 1, 'mang': 3, 'paral': 1, 'superad': 1, 'witn': 1, 'mehtadon': 1, 'cisatracurium': 2, 'malasia': 2, 'bilaer': 1, 'eupport': 1, 'trasfus': 2, 'balacn': 2, 'coma': 4, 'rotorest': 1, 'retun': 1, 'adminis': 1, 'socialwork': 2, 'kink': 7, 'uurs': 1, 'wdi': 6, 'pharmacuet': 1, 'notenurs': 1, 'periorbi': 1, 'throughouth': 1, 'depsit': 2, 'puil': 2, 'unopen': 2, 'pronat': 3, 'tronchoscopi': 1, 'luung': 1, 'unitl': 3, 'venil': 1, 'regland': 1, 'morphein': 1, 'supplemet': 1, 'maitian': 1, 'nursng': 1, 'klonapin': 2, 'concult': 1, 'essent': 2, 'mainatinig': 1, 'humulin': 5, 'solv': 3, 'sluggisli': 2, 'displeas': 1, 'haslimit': 1, 'dopov': 1, 'tomorrrow': 2, 'wi': 4, 'hyoactiv': 1, 'anpea': 1, 'amoount': 2, 'triadyn': 7, 'medciat': 2, 'popit': 2, 'pharmacist': 5, 'iniatilli': 1, 'speciment': 1, 'pentobarbitol': 1, 'getout': 1, 'mosltli': 1, 'acidod': 2, 'emeg': 1, 'peed': 1, 'apen': 4, 'consistentwith': 1, 'blanc': 2, 'cist': 1, 'transderm': 2, 'resov': 2, 'ivl': 2, 'antibiotic': 1, 'multiposu': 1, 'combo': 4, 'hypergycem': 1, 'religi': 1, 'belief': 1, 'attmpt': 3, 'sercet': 1, 'conclud': 5, 'anlkl': 1, 'recess': 5, 'uncov': 3, 'fellto': 1, 'discomfor': 1, 'sadd': 1, 'hypotensv': 1, 'mmove': 1, 'ba': 17, 'evem': 1, 'sart': 2, 'oppinion': 1, 'offabx': 1, 'abdom': 2, '^^hr': 2, 'pancx': 4, 'tcdp': 5, 'musculatur': 6, 'comgeal': 1, 'dioppler': 1, 'fowl': 2, 'ureg': 1, 'lest': 1, 'dnuero': 1, 'grimi': 1, 'pali': 2, 'refferr': 2, 'slightest': 2, 'bot': 2, 'faili': 2, 'z': 4, 'sputim': 1, 'fgiven': 1, 'dtiff': 1, 'pnumo': 1, 'futil': 3, 'frustrarion': 1, 'mind': 10, 'opsit': 2, 'hro': 1, 'fluc': 8, 'ite': 1, 'multiposi': 2, 'incresinng': 1, 'omg': 1, 'lenghti': 1, '^hr': 3, \"ambu'\": 2, 'uncomforatbl': 1, 'repleatd': 1, 'auscultaion': 1, 'contct': 1, '^na': 1, 'linesit': 1, 'intervascular': 1, 'cholang': 7, 'residul': 2, 'devid': 1, 'trueli': 1, 'abf': 1, 'sort': 8, 'clasp': 1, 'braclet': 1, 'plummet': 1, 'awarenss': 1, 'mentaton': 1, 'inadvertantli': 1, 'voucher': 2, 'cab': 4, 'nasaal': 1, 'inadvertenti': 1, 'diminih': 2, 'prescript': 9, 'commsnd': 1, 'boredom': 1, 'otherw': 1, 'vomitig': 1, 'lasisx': 1, 'coough': 1, 'poem': 1, 'enalopril': 2, 'spew': 1, 'wma': 6, 'dispens': 4, 'hdl': 3, 'restat': 1, 'mofetil': 3, 'immunesuppress': 2, 'lactam': 4, 'represent': 2, 'cce': 1, 'cryoptherapi': 1, 'cariac': 1, 'ivpwith': 1, 'pyriform': 9, 'subcot': 1, 'xyphoid': 2, 'bumetanid': 2, 'stanc': 2, 'awail': 1, 'continun': 1, 'srh': 4, 'resovlv': 1, 'goc': 6, 'ldl': 2, 'unintent': 1, 'fluvoxamin': 1, 'requiringhd': 1, 'transpos': 1, 'ketoacidosi': 1, 'velar': 3, 'fumar': 5, 'russia': 1, 'normoglycemia': 1, 'chol': 4, 'df': 13, 'endocrinologist': 2, 'acur': 2, 'click': 2, 'precert': 1, 'edentul': 11, 'fahrenheit': 1, 'inord': 2, 'commit': 5, 'brochospasm': 1, 'intravascularli': 14, 'nitrofurantoin': 6, 'auth': 1, 'levit': 1, 'upstrok': 6, 'angin': 4, 'pravastatin': 7, 'lood': 2, 'intubati': 1, 'da': 5, 'betalactam': 1, 'xplant': 1, 'purposefuli': 1, 'eosinophilia': 12, 'clonzapam': 1, 'fexofenidin': 1, 'ideat': 5, 'dextro': 1, 'tn': 6, 'tacrol': 1, 'osmot': 2, 'ridg': 3, 'prednisom': 1, 'faiulr': 6, 'gut': 10, 'mycophenol': 4, 'vf': 1, 'waev': 2, 'model': 9, 'ulyt': 4, 'unsign': 1, 'leukokcytosi': 1, 'exept': 2, 'gej': 1, 'closley': 2, 'funciton': 1, 'pravastat': 1, 'pmibi': 2, 'ppft': 4, 'unretract': 1, 'viedo': 1, 'girmmac': 1, 'ganglia': 10, 'lengthen': 4, 'haltol': 1, 'decerebr': 1, 'smmhg': 1, 'vfib': 4, 'biomark': 9, 'persantin': 3, 'bronchomalacia': 5, 'immigr': 1, 'uppermost': 3, 'andvanc': 1, 'quot': 2, 'icteru': 29, 'videofluoroscop': 8, 'cyclic': 2, \"i'li\": 1, 'crtx': 1, 'diabetesi': 1, 'vfa': 1, 'dyskinesi': 2, 'vronch': 1, 'camb': 1, 'qmi': 1, 'nightsweat': 3, 'begn': 1, 'toiltet': 3, 'song': 1, 'poetri': 1, 'cadaver': 1, 'seroquil': 4, 'mmf': 4, 'seroqul': 1, 'chd': 1, 'accommod': 2, 'sysotl': 2, 'converstaion': 1, 'rrom': 1, 'lobbi': 2, 'whee': 1, 'whcih': 2, 'delusion': 2, 'escort': 3, 'bourbon': 1, 'advisor': 3, 'behavoir': 2, 'ventricuilar': 1, 'aros': 1, 'comfirm': 2, 'aval': 2, 'albtuerol': 2, 'caythet': 1, 'defiecit': 1, 'diffaculti': 1, 'vioxx': 1, 'gaurd': 4, 'disect': 2, 'suctioningx': 1, 'roof': 3, 'chunk': 2, 'agil': 1, 'manor': 2, 'pleasw': 1, 'aodm': 2, 'accordf': 1, 'coorel': 2, 'baqth': 1, 'ahen': 1, 'occcasion': 1, 'nine': 7, 'probuct': 1, 'perpipher': 2, 'lymphangit': 7, 'nasasl': 1, 'bouls': 1, 'awel': 1, 'biatrial': 3, 'negit': 2, 'diarreah': 1, 'yaunk': 1, 'allen': 1, 'accquir': 1, 'origion': 1, 'memeb': 1, 'furhter': 4, 'pleuric': 1, 'residua': 5, 'maintian': 5, 'cbp': 4, 'aspleen': 1, 'whenn': 1, 'rescussit': 2, 'sistend': 1, \"mov't\": 1, 'foloow': 3, 'wnt': 1, 'appetiet': 1, 'floswsheet': 1, 'park': 6, 'hipoxia': 1, 'arousabel': 1, 'conferm': 1, 'replecmenbt': 1, 'elevet': 2, 'tarnsfr': 1, 'effuis': 1, 'ensym': 1, \"pe'\": 2, 'cavogram': 1, 'fructur': 1, 'interup': 5, 'deseas': 1, 'anwser': 1, 'retin': 1, 'combi': 2, 'nactiv': 1, 'vte': 6, 'psychot': 7, 'tolerat': 1, 'hypertent': 1, 'portacath': 11, 'nfb': 4, 'hcit': 1, 'portocath': 2, 'gingeral': 5, 'penidng': 2, 'atert': 1, 'dateto': 1, 'wqith': 3, 'tylenlol': 1, 'quarter': 8, 'isod': 1, 'perip': 2, 'aoung': 1, 'generalis': 2, 'surrent': 1, 'bolos': 1, 'substitut': 4, 'penicllan': 1, 'wavew': 1, 'auscalt': 1, 'stiil': 1, 'buttuck': 4, 'coaars': 1, 'experenc': 1, 'million': 4, 'ocassioan': 1, 'sex': 1, 'atrest': 1, 'approprait': 1, 'lisw': 4, 'deepen': 1, 'pasti': 4, 'oar': 1, 'backupset': 1, 'cocyyx': 1, 'vet': 2, 'hypervolem': 8, 'lmp': 3, 'softlt': 1, 'thinnet': 1, 'currenltli': 1, 'readminist': 1, 'valastran': 1, 'wg': 2, 'hich': 1, 'sctl': 2, 'hey': 1, '^ing': 1, 'seroussang': 1, 'asbp': 1, 'ral': 1, 'shampoo': 1, 'pne': 1, 'creap': 1, 'streptococc': 1, 'microgram': 1, 'cvc': 9, 'magsulf': 1, 'quaniti': 2, 'bicuspid': 2, 'counsel': 6, 'fludrocortison': 3, 'interferon': 3, 'decomepns': 1, 'hydrocodon': 10, 'mineralocorticoid': 1, 'gg': 7, 'betaglucan': 1, 'ribavarin': 1, 'methyprednison': 3, 'polycythemia': 3, 'galactomannan': 17, 'galactomanan': 4, 'possibiliy': 1, 'ciger': 1, 'suboccipit': 1, 'crave': 1, 'pica': 2, 'mone': 1, 'discribt': 1, 'initilli': 1, 'cortef': 2, 'assertain': 1, 'malform': 2, 'mastoidectomi': 1, 'pupl': 3, 'ogd': 1, 'noodl': 2, \"did't\": 1, 'jejunocutan': 1, 'comfrtabl': 1, 'oesophag': 1, 'opr': 1, 'lfluid': 1, 'bagun': 1, 'diaprosi': 1, 'strictur': 14, 'chicken': 2, 'unaffect': 2, 'subtherapi': 1, 'ygd': 7, 'sobclin': 1, 'rulobectomi': 1, 'multivessel': 7, 'quesiton': 3, 'gassi': 4, 'agb': 1, 'imitrex': 2, 'whith': 2, 'seroid': 1, 'gvn': 1, 'minit': 1, 'initrex': 1, 'vegetarian': 4, 'nectrar': 1, 'lev': 1, 'anxioud': 1, 'trazedon': 3, 'jovial': 1, 'ahv': 2, 'dypneic': 1, 'minmal': 3, 'awaitng': 4, 'mgiv': 2, 'quanit': 1, 'evernt': 1, 'floxacin': 1, 'sulpha': 1, 'grill': 2, 'gand': 1, 'aorticopulmonari': 2, 'lighthead': 4, 'hyperplasia': 1, 'afternooon': 2, 'uninterpret': 6, 'inspit': 4, 'azythromacyn': 1, 'difficalti': 1, 'monitoirng': 1, 'inn': 2, 'icreas': 3, 'shelter': 5, 'tenant': 1, 'homeless': 9, 'simva': 3, 'vasculit': 2, 'limitedli': 1, 'nafcilin': 1, 'lume': 1, 'reinstitut': 3, 'facemast': 1, 'blade': 2, 'rimantidin': 2, 'wbat': 1, 'rw': 8, 'prochlorperazin': 8, 'tka': 1, 'diclox': 1, 'hrc': 3, 'appred': 1, 'dissynchroni': 1, 'supress': 6, 'amlodapin': 1, 'lossess': 1, 'hype': 1, 'cryoglobulin': 3, 'hemmorhag': 5, 'compfort': 1, 'artifactu': 7, 'improov': 4, 'positit': 2, 'sleap': 1, 'acetominophen': 2, 'perocet': 2, 'iprotrop': 1, 'pach': 1, 'achi': 3, 'recevd': 1, 'covera': 1, 'precari': 1, 'dvelop': 1, 'repsiratori': 4, 'adequetli': 1, 'procidex': 1, 'holosyst': 3, 'nafcillin': 6, 'yesteday': 3, 'chiropractor': 1, 'alv': 4, 'bland': 4, 'multicfoc': 1, 'showscrackl': 1, 'extran': 1, 'slighltli': 2, 'agter': 2, 'prednsion': 2, 'endometriosi': 2, 'therex': 10, 'imprrov': 1, 'degrees': 1, 'criticaid': 14, 'desaturadt': 1, 'ingli': 1, 'vitd': 4, 'lcpc': 18, 'wegner': 3, 'dialudid': 3, 'avt': 1, 'search': 5, 'cyanocobalamin': 6, 'lebatalol': 1, 'predic': 1, 'rhonki': 2, 'anticp': 3, 'dah': 11, 'cacarb': 1, 'vut': 1, 'hemmorrhag': 2, 'capillar': 1, 'glucocorticoid': 2, 'concomit': 9, 'corel': 1, 'coocyx': 4, 'pharyg': 1, 'cond': 4, 'intubationl': 1, 'meticulu': 1, 'alevyn': 3, 'coumidin': 1, 'glutteal': 1, 'mexiliten': 1, 'gat': 1, 'avellyn': 1, 'class': 3, 'parang': 1, 'nurisng': 3, 'bivalv': 2, 'nyha': 1, 'nno': 1, 'ivfluid': 1, 'calendar': 2, 'benifit': 1, 'origress': 1, 'mostlli': 1, 'shaunessi': 1, 'orienterd': 1, 'palpatori': 1, 'microwir': 1, 'trancathet': 1, 'trv': 4, 'cobra': 4, 'striat': 1, 'supersel': 1, 'arteriotomi': 1, 'upsiz': 6, 'balkan': 1, 'microcoil': 1, 'intraren': 5, 'hyperenhanc': 3, 'transcend': 1, 'addl': 5, 'renegad': 1, 'pseudoanuerysm': 1, 'slurri': 1, 'visapaqu': 2, 'midport': 1, 'stc': 1, 'embo': 1, 'microcathet': 2, 'progrewss': 1, 'bowwel': 1, 'toleratin': 1, 'diissoriiennt': 1, 'meqkcl': 2, 'abfas': 1, 'hgealth': 1, 'phosphor': 6, 'feedw': 1, 'stqrt': 1, 'obeyi': 1, 'ppt': 2, 'circ': 3, 'restrian': 1, 'encouraag': 2, 'staart': 1, 'turrn': 1, 'expidit': 1, 'commannd': 1, 'blodd': 1, 'yankeuur': 1, 'naseltrachea': 1, 'lomotil': 2, 'promoot': 1, 'pphlegm': 1, 'metroprolol': 6, 'whren': 1, 'weakeer': 1, 'coinsid': 2, 'slugish': 2, 'loperamind': 1, 'pericolon': 1, 'hcd': 1, 'refractori': 10, 'fludarabin': 1, 'malodor': 2, 'igg': 10, 'spectrim': 1, 'antibioc': 1, 'megestrol': 4, 'follicular': 1, 'orthostasi': 3, 'pleuriti': 1, 'chemotherapeut': 2, 'qmonth': 1, 'bendamustin': 1, 'lymphedema': 1, 'chop': 4, 'enrol': 1, 'qweek': 2, 'hyptens': 1, 'sidewal': 3, 'thrive': 4, 'transform': 7, 'war': 3, 'mitoxantron': 1, 'xenopi': 1, 'ppossibl': 1, 'msir': 2, 'infraclavicular': 2, 'pleurisi': 4, 'drinker': 5, 'rituximab': 1, 'proctiti': 3, 'zevalin': 1, 'ctabd': 1, 'enhancemnt': 1, 'multicent': 1, 'pentamadin': 1, 'tattoo': 2, 'penu': 1, 'interposit': 6, 'fibrou': 3, 'anterolisthesi': 12, 'pinu': 1, 'chilaid': 1, 'queri': 11, 'ventr': 1, 'becomc': 1, 'grind': 3, 'mepiplex': 4, 'impli': 3, 'rove': 2, 'peal': 1, 'pnbt': 2, 'omf': 2, 'gnawl': 1, 'prox': 3, 'speciman': 2, 'junct': 1, 'decubetu': 1, 'glucogon': 3, 'holler': 1, 'phenegran': 1, 'lct': 2, 'exxerct': 1, 'wegd': 1, 'suprabas': 3, 'killer': 1, 'odour': 1, 'hyperelev': 1, 'inp': 2, 'tolerart': 1, 'tylonol': 2, 'nut': 2, 'omni': 4, 'hemidiaphragmat': 7, 'lsctab': 3, 'nsc': 1, 'pulonari': 4, 'protrus': 5, 'mgoxid': 1, 'thorencentesi': 1, 'enabl': 9, 'tension': 9, 'twist': 2, 'infilr': 1, 'portibl': 1, 'persent': 1, 'bolusn': 1, 'slind': 1, 'galrgin': 1, 'thyroidoxicosi': 1, 'requiri': 2, 'nioght': 1, 'interogat': 1, 'whisper': 2, 'mnimal': 1, 'voriconazol': 4, 'thyrotoxosi': 1, 'icepack': 1, 'awe': 1, 'porrel': 1, 'qac': 2, 'broach': 3, 'zyprea': 2, 'furtur': 1, 'vioe': 1, 'buttox': 2, 'cring': 1, 'esmolo': 1, 'capoten': 1, 'multiform': 5, 'kayexol': 2, 'bruse': 3, 'muxhroom': 1, 'detriment': 1, 'lime': 2, 'blankli': 1, 'bananna': 3, 'thyrombocytopenia': 1, 'quanitifi': 1, 'bpcuff': 1, 'bll': 6, 'attept': 1, 'zoysn': 5, 'avpac': 1, 'normothermia': 1, 'dantrolen': 1, 'cove': 3, 'wakeup': 9, 'multipli': 2, 'avp': 2, 'mfpvc': 1, 'wsa': 1, 'guardain': 1, 'orientx': 1, 'tylenlo': 1, 'dilerium': 1, 'fixationg': 1, 'foer': 1, 'omli': 1, 'thyroidtoxosi': 1, 'amioderon': 6, 'hic': 1, 'ver': 3, '^amt': 2, 'sponan': 1, 'effectand': 1, 'ril': 1, 'bace': 1, 'lrad': 1, 'bari': 3, 'ventricularli': 2, 'bigemin': 3, 'forev': 1, 'polymorph': 1, 'coccyc': 2, 'hop': 3, 'grim': 2, 'addendun': 1, 'hiccup': 3, 'erceiv': 1, 'nightshift': 1, 'voiec': 1, 'readmt': 1, 'continuy': 1, 'esmollol': 1, 'guaicc': 1, 'incraes': 1, 'dofetilid': 3, \"bolus'\": 1, 'nurten': 1, 'correctiom': 1, 'visualis': 2, 'taperd': 1, 'boggi': 2, 'dialat': 5, 'storm': 1, 'ibupropin': 1, 'dexamethison': 1, 'extremeit': 1, 'offend': 6, 'understatand': 1, 'irat': 1, 'hormon': 3, 'unccop': 1, 'thyroidtoxicosi': 1, 'rforearm': 1, 'outlook': 3, 'reposist': 1, 'baselineand': 1, 'uterol': 1, 'thyroplastym': 1, 'resplet': 1, 'compensart': 1, 'weaken': 6, 'sogt': 1, 'grochong': 1, 'inconisit': 1, 'spotan': 4, 'sbp^': 1, 'prenison': 1, 'rambl': 2, 'disoreint': 1, 'resul': 2, 'dysnchroni': 1, 'thyrotoxicosi': 1, 'aforment': 1, 'monitorfor': 1, 'defitilid': 1, 'glottic': 1, 'mormimg': 1, 'unsynchron': 1, 'chatter': 1, 'bracheal': 1, 'tanninsh': 1, 'positio': 1, 'interog': 2, 'bond': 1, 'reprep': 1, 'hemeodynam': 1, 'sponatan': 1, 'gardianship': 2, 'movt': 9, 'overninght': 1, 'esay': 1, 'extrub': 1, 'oversea': 2, 'disynchronu': 1, 'procudt': 1, 'vacol': 1, 'eveal': 1, 'rashi': 1, 'fuse': 5, 'defilitid': 1, 'quiver': 1, 'defervec': 1, 'psycholog': 2, 'itm': 1, 'psycot': 2, '^respons': 1, 'klitchen': 1, 'incoprehensibel': 1, 'cdif': 7, 'liguid': 4, 'impiar': 1, 'nummer': 1, 'mandril': 1, 'infreq': 3, 'yearl': 1, 'dimenish': 1, 'fluoproscop': 1, 'altho': 1, 'gass': 2, 'ordeer': 1, 'stromg': 1, 'apyrexi': 1, 'steer': 1, 'penectomi': 1, 'sucralaf': 3, 'rochi': 1, 'luceni': 1, 'solumdedrol': 1, 'unmpress': 1, 'unimpress': 7, 'beg': 2, 'sucralf': 10, 'sulcruf': 1, 'increass': 2, 'chemoradiotherapi': 2, 'habit': 11, 'humdifi': 1, 'xopen': 1, 'emprir': 1, 'adeno': 9, 'mem': 1, 'midinsp': 1, 'nyastatin': 2, 'unremarkalb': 1, 'bronchietasi': 2, 'kleenex': 1, 'tachyapn': 1, 'deriv': 8, 'ectat': 6, \"cap'\": 1, 'vancomycina': 1, 'bronchiestasi': 1, 'athosclerot': 1, 'emphasi': 9, 'fsq': 3, 'dmfj': 9, 'abdomni': 1, 'reachabl': 1, 'epsisod': 1, 'sdh': 12, 'coph': 1, 'diltitazem': 1, 'stori': 10, 'methemoglobinem': 2, 'oat': 1, 'tachyarrhythemia': 1, 'significnatli': 1, 'curvatur': 4, 'skinfold': 1, 'levoconcav': 1, 'creram': 1, 'interventin': 1, 'rezero': 1, 'chack': 3, 'taccycardia': 1, 'ewn': 1, 'svl': 1, 'unersid': 1, 'creeatinin': 1, 'rtr': 1, 'saccrum': 1, 'significat': 1, 'impov': 3, 'alkilosi': 1, 'scopalimin': 4, 'asprat': 1, 'bilter': 2, 'tryiong': 1, 'meteprolol': 1, 'envrion': 1, 'nutran': 1, 'coares': 1, 'mond': 2, 'deci': 1, 'sinusitu': 1, 'visciou': 3, 'pthad': 1, 'chiar': 2, 'deuoderm': 1, 'monitior': 4, 'scop': 1, 'diuril': 6, 'orderedsx': 1, 'airay': 1, 'buttck': 1, 'maagnesium': 1, 'aspt': 1, 'nformat': 1, 'scl': 6, 'whixh': 1, 'albuterolq': 1, 'witwh': 1, 'careiew': 1, 'cousr': 1, 'buttiock': 1, 'allvyn': 1, 'path': 13, 'afibb': 1, 'pickat': 1, 'phoc': 1, 'evrs': 1, 'norva': 1, 'isopa': 1, 'wherr': 1, 'cappillari': 1, 'repit': 1, 'froom': 1, 'foolw': 1, 'dne': 1, 'diffcult': 1, 'elav': 4, 'willfrequ': 1, 'pupport': 1, 'specialti': 4, 'recalibr': 3, 'linizolid': 1, 'suctionedd': 1, 'scolapamin': 1, 'addentum': 1, 'ausculat': 1, 'restrait': 1, 'scoplamin': 1, 'actic': 1, 'antihtn': 4, 'aalevyn': 1, 'paion': 1, 'attemtp': 3, '^o': 1, 'remeain': 1, 'rsba': 1, 'vai': 1, 'upperextrim': 1, 'sucit': 1, 'encorag': 1, 'extriem': 1, 'scapolamin': 1, 'abraiooon': 1, 'meuromuscular': 1, 'undgest': 1, 'unchag': 9, 'witg': 1, 'pipracillin': 1, 'passion': 1, 'postcholecystectomi': 1, 'concret': 1, 'effert': 1, 'asphagia': 1, 'plsnned': 1, 'unir': 1, 'satrt': 2, 'feend': 1, 'unablt': 2, 'distr': 3, 'comofort': 1, 'bronchopulmonari': 6, 'flusi': 1, 'interspac': 4, 'tickl': 1, 'deg': 6, 'mainitain': 1, 'movingg': 1, 'difficultyl': 1, 'cefitim': 1, 'outbreak': 1, 'diliazem': 1, 'uppon': 1, 'fiv': 1, 'lorazapam': 6, 'aloevesta': 5, 'mot': 1, 'degress': 3, 'rlp': 1, 'levoquen': 1, 'difiiculti': 1, 'curer': 1, 'recoop': 1, 'stuck': 14, 'aggrev': 1, 'assessori': 1, 'hospial': 1, 'toiletri': 1, 'perscrib': 2, 'dilaudud': 1, 'permacath': 1, 'extrememli': 3, 'hypersomul': 1, 'tononc': 1, 'palpibl': 5, \"'puff\": 1, 'flowshhet': 1, 'perocoet': 1, 'guiack': 1, 'dto': 2, 'quiton': 1, 'withtranspar': 1, 'vitla': 1, 'toleart': 1, 'nea': 1, 'thoraciuc': 1, 'ectopii': 1, 'spiritu': 3, '^emot': 1, 'acidiosi': 1, 'infusu': 1, 'stuf': 4, 'crrt': 7, 'tolet': 1, 'subsequnt': 1, 'assiss': 1, 'thik': 1, 'liqiud': 2, 'tibe': 1, 'sputur': 1, 'minitor': 2, 'banaa': 1, 'placedin': 2, 'sponatn': 2, 'bilaterr': 1, 'maintanc': 3, 'plcaement': 1, 'trrach': 1, 'graviiti': 1, 'opium': 1, 'leisur': 1, 'tinctur': 1, 'perfer': 1, 'dimidnsh': 1, 'brachialend': 1, 'ischeam': 1, 'olanzpin': 1, 'weanec': 1, 'collor': 1, 'refrig': 1, 'llllung': 1, '^tf': 1, 'steristip': 1, 'aslong': 1, 'nillson': 1, 'trsch': 1, 'edemad': 1, 'deficiet': 2, 'reassuanc': 1, 'dialsysi': 1, 'decres': 7, 'occassin': 1, 'passmuir': 1, 'ammount': 4, 'smaill': 1, 'aletern': 1, 'ddto': 1, 'goa': 1, 'perinum': 1, 'petamen': 1, 'staight': 1, 'jejunostomi': 7, 'cvvhdf': 4, 'sucton': 1, 'albimin': 1, 'ovomit': 1, 'mcgkgmin': 1, 'mea': 2, 'inserted': 1, 'sudsid': 1, \"did'nt\": 1, 'mcourtney': 1, 'dialyisi': 1, 'trapez': 1, 'mushi': 1, 'acebutolol': 1, 'diarrh': 1, 'oaao': 1, 'ssci': 1, 'propafenon': 2, 'bless': 1, 'brea': 1, 'axieti': 3, 'increase': 1, '^act': 1, 'straightcath': 1, 'plac': 3, 'cardiothorac': 6, 'trxfer': 1, 'ectpoy': 1, 'haparin': 1, 'normotherm': 6, 'fpr': 5, 'boast': 1, 'decidec': 1, 'tma': 2, 'seg': 4, 'femori': 1, 'nonheal': 2, 'amput': 4, 'globabl': 1, 'sgl': 2, 'pvr': 2, 'tpt': 1, 'kiebasella': 1, 'bk': 3, 'profunda': 1, 'unheal': 1, 'ptfe': 1, 'asst': 2, 'au': 3, 'ukp': 1, 'singlesemi': 1, \"'nd\": 1, 'morhpin': 3, 'thoraci': 2, 'hemodyalysi': 1, 'metab': 1, 'subcutaneu': 1, 'awr': 1, 'npt': 1, 'dge': 1, 'corona': 1, 'hug': 1, 'ascrib': 2, 'nucleu': 3, 'carevur': 1, 'bolusu': 1, 'shine': 1, 'retrocardiacli': 1, 'parafalcin': 1, 'radiata': 1, 'prviou': 1, 'interhemispher': 1, 'restrin': 2, 'road': 2, 'respiron': 1, 'fasi': 1, 'accu': 1, 'mal': 3, 'farsi': 3, 'tampan': 1, 'ea': 6, 'toleratig': 1, 'shockfev': 1, 'cheeck': 1, 'usn': 1, 'phsical': 1, 'fer': 2, 'vare': 2, 'plant': 3, 'progrss': 1, 'alkylosi': 5, 'bloodsugar': 2, 'dieures': 1, 'tug': 4, 'pmin': 2, 'tracheoesophag': 2, 'peristalt': 3, 'preseent': 1, 'infraobliqu': 1, 'esophog': 5, 'tachyracdia': 1, 'retrostern': 2, 'pnumothorax': 2, 'ffrequent': 1, 'antibioyc': 1, 'frer': 1, 'sqllow': 1, 'jibberish': 2, 'humung': 1, 'meropenium': 2, 'tremour': 1, 'prioir': 1, 'iposit': 1, 'ragtim': 1, 'doea': 1, 'yesterda': 2, 'dyphagia': 1, 'dystrophi': 1, 'promptli': 6, 'esophagoesophag': 1, 'myoton': 1, 'levc': 1, 'comaprison': 1, 'pear': 2, 'inflt': 1, 'sandpap': 1, 'samal': 2, 'razor': 2, 'wosren': 1, 'haustral': 1, 'involuntarili': 1, 'oncal': 2, 'haad': 1, 'tirtat': 1, 'shrug': 2, 'inprov': 3, 'inreliev': 1, 'fexis': 2, 'plegia': 1, 'acha': 1, 'oxocodon': 1, 'antilordot': 1, 'halo': 3, 'rat': 1, 'osteomeat': 1, 'breth': 2, 'atrv': 1, 'curlix': 1, 'copnsolid': 1, 'andat': 1, 'oprogrss': 1, 'bedid': 1, 'phenylenphrin': 1, 'rescreend': 1, 'kinaid': 1, 'asess': 5, 'fenantyl': 2, 'bode': 1, 'possibilti': 3, 'stooper': 1, 'reation': 1, 'toth': 1, 'rese': 1, 'mucamyst': 1, 'librium': 1, 'diconnect': 1, 'bronchiol': 14, 'mediastern': 1, 'soical': 1, 'extremitiy': 2, 'braos': 1, 'transbronchoscop': 1, 'orag': 1, 'autodiruesi': 1, 'decreasinbg': 1, 'strroid': 1, 'polic': 3, 'sca': 1, 'subsuuent': 1, 'hyperacut': 1, 'wallsx': 1, 'yestareday': 1, 'proven': 4, 'freew': 1, 'lactualos': 1, 'ctube': 3, 'pntx': 2, 'pneuthorax': 1, 'drainagedecreas': 1, 'sweet': 2, 'leuckocytosi': 2, 'sclca': 2, 'dta': 1, 'focla': 1, 'xday': 1, 'hemoptosi': 1, 'icnreas': 1, 'imrpov': 2, 'oth': 2, 'spescif': 1, 'diaseas': 1, 'scotch': 2, 'patientno': 13, 'intiait': 1, 'tampondad': 1, 'ib': 6, 'xfer': 1, 'inpout': 1, 'nonischem': 2, 'sclc': 5, 'scrrene': 1, 'hiatel': 2, 'eopgen': 1, 'interpolar': 11, 'remaov': 1, 'cholic': 1, 'retinpathi': 1, '^st': 19, 'ritonavir': 5, 'coagulas': 6, 'althou': 1, 'changesd': 1, 'sym': 5, 'mlkb': 9, 'questionn': 1, 'ileocec': 1, 'lifespan': 1, 'bleb': 5, 'maroonish': 1, 'thermal': 1, 'genotyp': 4, 'suprapatellar': 5, 'undect': 1, 'weightbear': 1, 'lipodystrophi': 1, 'cubit': 2, 'indol': 3, 'polypoid': 2, 'gif': 7, 'discogen': 1, 'psuedoaneurysm': 1, 'appaear': 1, 'abnl': 8, 'etcc': 1, 'dystroph': 4, 'mandibular': 2, 'assymetri': 1, 'anmd': 1, 'fianc': 6, 'ling': 1, 'activitu': 1, 'reconsid': 5, 'shouder': 1, 'dbili': 3, 'heroin': 4, 'stavudin': 2, 'retropuls': 8, 'tricyc': 2, 'tricycl': 1, 'someh': 1, 'conu': 6, 'turbul': 1, 'fascit': 1, 'saccular': 1, 'replic': 1, 'preliminarili': 4, 'indinavir': 1, 'tprot': 3, 'diarrheal': 1, 'willl': 5, 'visa': 2, 'circumcis': 2, 'menig': 1, 'gynecomastia': 4, 'fasciiti': 2, 'assay': 11, 'lamivudin': 5, 'pathog': 1, 'strap': 4, 'gordona': 1, 'trigemin': 4, 'diazoxid': 1, 'compound': 9, 'heartburn': 6, 'throu': 1, 'imporv': 5, 'intermedi': 12, 'previousnot': 1, 'spondylot': 2, 'hypopigment': 1, 'entiti': 3, 'cahin': 1, 'forumulari': 1, 'hb': 10, 'scution': 3, 'masl': 1, 'bllede': 1, 'adenoviru': 2, 'equilibr': 2, 'intubaton': 2, 'startedc': 2, 'guerney': 1, 'pplacement': 1, 'nursung': 1, 'sust': 1, 'stg': 6, 'hemarroid': 1, 'methi': 1, 'aplast': 1, 'recommedn': 2, 'tunr': 1, 'corrol': 1, 'closest': 1, 'profofol': 2, \"movm't\": 1, 'rb': 2, 'expiratoy': 1, 'goalrateof': 1, 'tolwel': 1, 'ofobvi': 1, 'mck': 4, 'eletrolyt': 1, 'trachealmalasia': 1, 'ressrp': 1, 'tracehostomi': 1, 'cariopulmonari': 1, 'hctand': 1, 'desitin': 2, 'acq': 1, 'secrtet': 1, 'telephonn': 1, 'conton': 1, 'chafen': 1, 'vulva': 1, \"suxn'\": 1, 'tolerar': 1, 'miracl': 1, 'grandgtr': 1, 'grandgaught': 1, 'granddtr': 1, 'vaso': 5, 'opportun': 2, 'uli': 1, 'eletroly': 1, 'mount': 3, 'buck': 4, 'alkolot': 2, 'nutmeg': 1, 'zozyn': 6, 'caridogen': 1, 'epoetin': 3, 'sirolimu': 1, 'moraxella': 3, 'lassix': 1, 'hazard': 2, 'csv': 2, 'groln': 1, 'rdw': 6, 'hepatopathi': 3, 'alfa': 3, 'admissionon': 1, 'nidu': 4, 'zemplar': 1, 'cateth': 1, 'pmb': 3, 'fibromat': 1, 'fluctat': 1, 'immunocomprimis': 1, 'gttt': 1, 'auotdiures': 1, 'nupren': 2, 'vitasl': 1, 'fav': 1, 'silhouette': 1, 'clx': 9, 'retic': 12, 'interdepend': 2, 'succin': 3, 'nonishcem': 1, 'myositi': 2, 'biplan': 1, 'archiv': 2, 'bidirect': 1, 'daugher': 3, 'qmowefr': 1, 'sirolum': 1, 'nifedipem': 1, 'guven': 1, 'glugocaon': 1, 'exsuffal': 1, 'tacki': 2, 'apli': 2, 'ambung': 1, 'titratd': 1, 'cefedipin': 1, 'pane': 3, 'american': 2, 'popsicl': 2, 'multinodular': 2, 'albeterol': 1, 'sphere': 1, 'stime': 1, 'drawback': 2, 'reload': 2, 'aspiratoin': 1, 'neget': 1, 'smll': 1, 'mg^ed': 1, 'impr': 1, 'dilant': 1, 'mouthdisplay': 1, 'freqenc': 1, 'incred': 1, 'inex': 1, 'dismiss': 1, 'coctail': 1, 'popcycl': 1, 'secretiosn': 2, 'suffol': 1, \"ok'\": 1, 'whezz': 2, 'insul': 3, 'antibio': 2, 'tkvo': 1, 'obt': 3, 'somtim': 1, 'rc': 3, 'fater': 1, 'extremetiew': 1, 'diuresisng': 3, 'solidli': 1, 'axia': 1, 'fluccuat': 1, 'pvl': 2, 'syndom': 2, 'spaud': 1, 'calmli': 2, 'ddvap': 1, 'antib': 3, 'sadden': 1, 'autodiuresis': 1, 'detach': 4, 'diabeti': 2, 'rehydr': 6, 'vale': 1, 'desmopresson': 1, 'insuffal': 1, 'genral': 1, 'wasplac': 1, 'puv': 1, 'pseudoseizur': 2, 'venapunctur': 1, 'abotu': 1, 'destatur': 1, 'cricopharyngeu': 1, 'ecotopi': 1, 'stron': 1, 'passeymu': 1, 'aerosl': 1, 'smart': 1, 'tracheostoni': 2, 'lunchtim': 4, 'ensuffolat': 1, '^e': 1, 'protest': 1, 'giav': 1, 'burp': 3, 'wofran': 1, 'gii': 1, 'thrghoutht': 1, 'stepfath': 1, 'asl': 2, 'percussor': 1, '^ed': 1, 'exsuffol': 1, 'pot': 3, 'inexsuffl': 5, 'inspect': 8, 'insipid': 1, 'suffil': 1, 'cathetr': 2, 'eleva': 3, 'upddat': 1, 'disappoint': 1, 'tfor': 2, 'paln': 2, 'insuffil': 1, 'passmuy': 1, 'extem': 5, 'recievieng': 1, 'suffic': 1, 'conuslt': 1, 'varianc': 2, 'rpotocol': 1, 'acc': 3, 'dangers': 1, 'ivpush': 1, 'incas': 2, 'lnl': 1, 'healh': 1, 'flov': 1, 'olh': 1, 'methicillin': 2, 'encoourag': 1, 'parahilar': 2, 'proplem': 1, 'hotel': 3, 'anwer': 1, 'imagin': 4, 'nonengorg': 1, 'drane': 1, 'soda': 2, 'ethanol': 5, 'clap': 3, 'adequitli': 1, 'steoroid': 2, 'sensor': 1, 'requier': 4, 'everyon': 5, 'lliquid': 2, 'sensic': 1, 'omlet': 1, 'pancreasruq': 1, 'conglomer': 5, 'casu': 2, 'aspiratioin': 1, 'ducclox': 1, 'swithch': 1, 'glargen': 2, 'spech': 1, 'smudg': 3, 'creatinint': 1, 'ptcont': 1, 'increament': 1, 'ltye': 2, 'secreaton': 1, 'otoscop': 1, 'cess': 1, 'prurit': 3, 'tital': 3, 'ambival': 1, 'previoui': 1, 'toknow': 1, 'asist': 1, 'outdat': 4, 'phenasept': 1, 'lenghthi': 1, 'excersis': 2, 'foward': 1, 'oxazepam': 1, 'placeon': 1, 'upperback': 1, 'yankhaur': 1, 'surgey': 1, 'market': 1, 'mechanci': 1, 'bronchiectat': 1, 'hemidiaphram': 2, 'eefect': 1, 'newer': 4, 'earach': 2, 'intermitta': 1, 'lontgstand': 1, 'admissison': 1, 'seation': 3, 'sucstion': 1, 'enew': 1, 'caltco': 1, 'patientciprofloxacin': 1, \"'lhbi\": 1, 'baso': 1, \"'expand\": 1, 'romi': 18, 'falur': 1, 'allergist': 2, \"'lcba\": 1, 'pullmomnari': 1, 'mchc': 1, 'angap': 1, 'polymyx': 2, 'albuteroliprtropium': 1, 'anguin': 1, 'xs': 4, 'neomi': 2, 'cephalexin': 9, 'monteleukast': 2, 'myelo': 4, 'monohydr': 6, \"'lgbc\": 1, 'intuba': 1, 'camphor': 1, 'cortisporin': 2, 'urean': 1, 'insertedl': 1, \"'lhbc\": 1, 'menthol': 1, 'sting': 3, 'noninvasii': 1, 'aado': 1, 'rvsp': 2, 'plcment': 1, 'occasin': 1, 'bilbasilar': 1, 'amberin': 1, 'aptt': 1, 'regurgi': 2, 'irradi': 2, 'nasopharyg': 1, 'elucid': 1, 'mibi': 2, 'legionnella': 1, 'entertain': 1, 'defienc': 1, 'dysphag': 2, 'fluctuanc': 4, 'tetanu': 5, 'hepatosplenomegali': 3, 'tiotropim': 1, 'consiult': 1, 'alsogoign': 1, 'haa': 2, 'prophi': 6, 'barrel': 1, 'vasospasm': 2, 'scleral': 31, 'axithro': 1, 'gravi': 2, 'compromsi': 1, 'incenet': 1, 'bno': 3, 'cptq': 1, 'inappropiatli': 1, 'interc': 1, 'entrain': 2, 'brochomalacia': 1, 'potato': 4, 'seret': 3, 'dependend': 1, 'cefepimin': 1, 'lathrgic': 1, 'pancak': 2, 'demin': 1, 'hemodiaysi': 1, 'willcont': 1, 'unwrap': 1, 'pleasnt': 1, 'shoe': 2, 'cvvhd': 8, 'nebulizor': 1, 'colonographi': 1, 'malignan': 1, 'expcept': 1, 'hearp': 1, 'dialter': 1, 'withn': 1, 'hypercoagul': 2, 'marigin': 1, 'fludrocort': 1, 'reader': 1, 'glugophag': 1, 'faciltiy': 2, 'glucophag': 1, 'forgett': 1, 'oop': 3, 'tochair': 1, 'spurriou': 1, 'antihypertensiveslisinopril': 1, 'goodpastur': 2, 'homicid': 1, 'rheum': 8, 'aep': 2, 'fbg': 1, 'hall': 2, 'dlpicc': 2, 'azetronam': 2, 'proteas': 2, 'chlamydia': 3, 'menstral': 1, 'nsip': 8, 'menstrual': 3, 'percocett': 2, 'streptococcu': 5, 'weeenkd': 1, 'aip': 3, 'ivt': 5, 'oxymetri': 1, 'pancreas': 1, 'crytogen': 1, 'contam': 2, 'wkd': 1, 'firsttwo': 1, 'amilodipin': 1, 'morepenum': 1, 'gester': 2, 'captorpril': 1, 'resuslt': 1, 'fluconozol': 2, 'tot': 4, 'perenium': 1, 'asympt': 1, 'distendedw': 1, 'meripenum': 1, 'caraf': 7, 'ifo': 1, 'dressin': 2, 'kphosphat': 1, 'ta': 2, 'extremley': 1, 'dogoxin': 1, 'dlc': 1, 'blledi': 1, 'unwean': 1, 'tz': 3, 'remaim': 1, 'nitrostat': 1, 'ttube': 1, 'appripri': 1, 'benefici': 9, 'mrsp': 1, 'blkt': 1, 'uncap': 1, 'ultrfiltr': 1, 'pointintg': 1, 'resplar': 1, 'rink': 1, 'vgb': 1, 'dopral': 1, 'fole': 2, 'regur': 1, 'potect': 1, 'hematurea': 1, 'drssg': 2, 'tring': 1, 'bigem': 1, 'goosebump': 1, 'duahgter': 1, 'growin': 2, \"dc'ing\": 2, 'infom': 1, 'feisti': 1, 'thouroughli': 1, 'meclazin': 1, 'zaroxylyn': 1, 'meripeneum': 1, 'oon': 2, 'maxiaml': 1, 'approri': 1, 'inadvertant': 1, 'coarsw': 1, 'knowm': 2, 'compla': 1, 'hypxic': 1, 'allcyn': 1, 'respik': 7, 'heve': 2, 'drawer': 1, 'rect': 1, 'pwdr': 2, 'reepitheal': 1, 'surgergi': 1, 'sucess': 5, 'halidol': 1, 'availibilti': 1, 'laxi': 1, 'draninag': 1, 'nostool': 2, 'chenyn': 1, 'miripenim': 1, 'secrition': 1, '^level': 1, 'resend': 15, 'ist': 2, 'pleueral': 1, 'sevral': 1, 'rtn': 1, 'prostesi': 1, 'famuli': 2, 'tremend': 2, 'coucgh': 1, '^^secret': 1, 'walkman': 1, 'suxtion': 1, 'wll': 3, 'intract': 2, 'nightcloth': 1, 'perviou': 1, 'cathert': 2, 'hemoptasi': 2, 'survelli': 2, \"'avb\": 1, 'suctioni': 1, 'rsing': 1, 'reccurr': 1, 'antivert': 1, 'lisonopril': 1, 'gather': 2, 'natrocor': 1, 'ditropan': 4, 'ocntinu': 1, 'propens': 3, 'antienxitey': 1, 'untifung': 1, 'chift': 1, 'hypoxiaun': 1, 'frequant': 1, 'requird': 1, 'headphon': 1, 'usal': 1, 'bbr': 5, 'ecter': 1, 'recollect': 3, 'mint': 1, 'rith': 2, 'respelor': 1, 'davb': 1, 'opiod': 3, 'stomachach': 1, 'carafatefoley': 1, 'meatu': 3, 'game': 2, 'lookig': 1, 'ponder': 1, \"stool'\": 1, 'deconditon': 1, 'meclizin': 2, 'merpenum': 1, 'pseodomona': 1, 'restlessn': 2, 'addhes': 1, 'subcl': 2, 'hemehct': 1, 'freg': 2, 'uvolem': 2, 'resparol': 1, 'ovb': 1, 'mortal': 5, 'hemorrag': 3, 'weanin': 2, 'odrer': 1, 'suport': 2, 'alklos': 1, 'pnuemo': 2, 'narc': 4, 'diursi': 3, 'chr': 3, 'oneumo': 1, 'afm': 2, 'encephalomalat': 1, 'explanant': 1, 'bcsn': 1, 'cxarevu': 1, 'peridcardi': 1, 'llopressor': 1, 'serousang': 1, 'vivid': 1, 'erffect': 1, 'leas': 1, 'statr': 1, 'cellular': 10, 'unsettl': 2, 'sss': 2, 'cellulit': 1, 'cholan': 1, 'aocd': 1, 'echymosi': 1, 'unifi': 2, 'mismatch': 5, 'mmdri': 1, 'terazosin': 3, 'purpur': 1, 'mlhh': 4, 'fibe': 1, 'proccedur': 1, 'ppain': 1, 'accd': 1, 'disrepair': 1, 'hemptysi': 1, 'trp': 1, 'clumsi': 2, 'atternoy': 1, 'agitaiton': 1, 'cost': 1, 'countri': 2, 'bronchogen': 1, 'pseudolymphoma': 1, \"examination'\": 1, 'cylindr': 2, 'dlrc': 10, 'statist': 2, 'beginng': 1, 'signfic': 8, 'aaax': 1, 'fidgit': 1, 'thoractomi': 3, 'throacotomi': 2, 'fool': 1, 'uncertainti': 1, 'childhood': 6, 'mjmgb': 4, 'cinch': 1, 'muscou': 1, 'atelectesi': 3, 'sned': 1, 'wirst': 1, 'hyperlipedemia': 1, 'ppv': 5, 'mh': 4, 'candidt': 1, 'bread': 1, 'inbetween': 4, 'buspar': 1, 'continueto': 2, 'isosorbitr': 1, 'constel': 6, 'thoracenteisi': 1, 'pitcher': 1, 'hgh': 1, 'applu': 1, 'lipoma': 3, 'curtain': 1, 'eunatrem': 1, 'paraoxysm': 2, 'oupt': 3, 'raaya': 1, 'unplan': 1, 'contributor': 9, 'hypernatreamia': 1, 'risperidol': 2, 'interlobar': 3, 'iiia': 1, 'lbka': 1, 'necessar': 1, 'converas': 1, 'bka': 2, 'managemnt': 1, 'avitan': 1, 'hypona': 2, 'unresect': 2, 'paraumbil': 2, 'spider': 1, 'fulmin': 1, 'hepatocellular': 2, 'brcm': 1, 'opioid': 5, 'ingrowth': 2, 'hepatolog': 10, 'epigatrium': 1, 'esld': 6, 'discoveri': 9, 'angioma': 1, 'rifaximin': 6, 'factori': 3, 'eighth': 3, 'msiv': 1, 'replat': 2, 'jkang': 2, 'perpendicular': 1, 'eoimi': 1, 'lactolos': 3, 'lusb': 5, 'boluss': 2, 'forcibl': 1, 'fracutur': 1, 'myeloprolif': 1, 'pylonephr': 2, 'sown': 2, 'duplic': 6, 'viscos': 1, 'ibratroprium': 1, 'improvemet': 2, 'hyperviscous': 1, 'crystaluria': 1, 'actor': 1, 'enal': 1, 'forthi': 1, 'neh': 1, \"abx'\": 2, 'sedment': 1, 'endarterectomi': 2, 'aidc': 1, 'throughoutshift': 1, 'givensec': 1, 'ressist': 1, 'nivv': 1, 'vascil': 1, 'ecreas': 1, 'purrul': 1, 'sf': 4, 'icecream': 5, 'punct': 1, 'craiotomi': 1, 'rightarm': 1, 'proectiv': 1, 'secretioin': 3, 'chondroid': 1, 'hypercabnia': 1, 'gliburid': 1, 'pivsx': 1, 'epoc': 1, 'badli': 1, 'swear': 3, 'gor': 1, 'pinch': 2, 'caors': 1, 'rh': 7, 'enchondroma': 3, 'sxth': 1, 'plced': 1, 'hydralasin': 1, 'noncalcifi': 2, 'peform': 2, 'intussuscept': 3, 'supraren': 1, 'duodenojejun': 1, 'blackhead': 1, 'born': 2, 'yeloow': 1, 'ipmt': 1, 'diffusley': 1, 'decdreas': 1, 'recordrd': 1, 'cranio': 1, 'nipb': 1, 'interrog': 7, 'multisequ': 8, 'doxcyclin': 1, 'dest': 1, 'rage': 9, 'airbourn': 1, 'phenergan': 3, 'signifig': 1, 'restles': 1, 'peripneumon': 1, 'indwell': 1, 'crepet': 1, 'negativev': 1, 'follwo': 2, 'trash': 1, 'earlli': 1, 'heavier': 1, 'liqid': 1, 'rctest': 1, 'properlli': 1, 'racem': 4, 'micanazol': 1, 'overnth': 1, 'ceffus': 1, 'continy': 1, 'slojw': 1, 'drainiag': 1, 'cocktail': 1, 'colchicin': 3, 'dysnpea': 2, 'cardiovascularno': 1, 'rescusit': 3, 'ivcd': 2, 'globular': 2, 'tricompart': 1, 'hemmorahg': 1, 'avuls': 4, 'creol': 2, 'quadricep': 1, 'patella': 4, 'ganglion': 1, 'enthesophyt': 1, 'hypointes': 1, 'diaphysi': 1, 'nondisplac': 6, 'dti': 1, 'fave': 1, 'sleepfor': 1, 'guaifenesen': 1, 'zithromycin': 1, 'calvarium': 4, 'infiltra': 2, 'vasogen': 2, 'calyc': 1, 'extrapleur': 2, 'postobstruct': 10, 'peridiaphragmat': 1, 'delic': 1, \"mae'\": 1, 'pma': 2, 'insuf': 1, 'carinii': 7, 'ordeal': 1, 'thinnest': 1, 'assessmend': 1, 'hse': 3, 'hypoalbumenia': 1, 'ptesent': 1, 'ganciclovir': 3, 'grandual': 1, 'pantaprazol': 1, 'lact': 4, 'sequal': 2, 'opthamolog': 1, 'bidmcon': 1, 'decread': 1, 'swellin': 1, 'watermelon': 1, 'almond': 1, 'hypoxiaclin': 1, 'aroiund': 1, 'precardiovers': 2, 'rpv': 1, 'denot': 1, 'mhv': 1, 'lpv': 1, 'hepatofug': 2, 'mpv': 1, 'rhv': 1, 'ampulla': 2, 'tonsil': 2, 'streptokinas': 1, 'notepad': 1, 'antireject': 2, 'previu': 1, 'inseretd': 1, 'sultat': 1, 'k^': 1, 'tigh': 1, 'accordac': 1, 'rfoley': 1, 'aspitar': 1, 'irriat': 1, 'sulph': 1, 'contor': 1, 'pocasonazol': 1, 'posaconazol': 2, 'dminish': 1, 'mucor': 1, 'extert': 1, 'nassal': 1, 'dropplet': 1, 'lrrt': 1, 'proconazol': 1, 'valganciclovir': 3, 'curc': 1, 'dmii': 10, 'atg': 1, 'carvadlol': 1, 'quardant': 1, 'replinish': 1, 'fryiabl': 1, 'culur': 1, 'placec': 1, 'sxi': 1, 'skikn': 1, 'leumen': 1, 'mucousa': 1, 'umbilicu': 3, 'auxilliari': 1, 'tacypnea': 4, 'thime': 1, 'possbili': 1, 'glide': 1, 'volatg': 1, \"cx'd\": 2, 'diaphram': 2, 'eso': 3, 'survil': 1, 'rhoncii': 1, 'esopag': 1, 'sytol': 1, 'pencil': 2, 'oxygentaion': 1, 'phianc': 1, 'loke': 1, 'hemocult': 1, 'rifazimin': 1, 'doubbl': 1, 'necc': 1, 'htnsive': 2, 'dn': 1, 'incontact': 1, 'aldoacton': 1, 'cehal': 1, 'brop': 1, 'rif': 1, 'realtim': 2, 'discus': 1, 'formul': 4, 'manouev': 1, 'contrinu': 1, 'triadym': 1, 'neomycin': 1, 'isthmu': 1, 'vassopressin': 3, 'hydrothorax': 3, 'cherri': 1, 'tbc': 1, 'fantanyl': 1, 'osteochondr': 1, 'recriut': 1, 'absprption': 1, 'ofth': 1, 'incompat': 3, 'heparina': 1, 'aggiat': 2, 'tback': 1, 'qolden': 1, 'retart': 2, 'dessican': 1, 'disign': 1, 'subclavien': 2, 'triodyn': 1, 'tricki': 2, 'cahtet': 1, 'afor': 1, 'aft': 2, 'tonu': 1, '^resiudu': 1, 'threadi': 1, 'overdistens': 1, 'wart': 1, 'antiphsopholid': 1, 'oi': 1, 'symm': 1, 'heterosexu': 1, 'nro': 1, 'rhonchronu': 1, 'yankeaur': 1, 'suppliment': 7, 'synd': 1, 'admisison': 3, 'indipendantli': 1, 'devleop': 1, 'antiphospolipid': 1, 'crypto': 5, 'aspergilli': 2, 'zidovudin': 1, 'coranari': 1, 'macro': 5, 'atovaquon': 2, 'sensorium': 2, 'metnal': 2, 'cytarabin': 1, 'interuppt': 1, 'adrenerg': 3, 'atleast': 3, 'jail': 2, 'exterm': 2, 'diarreha': 1, 'ks': 9, 'shoiwng': 1, 'bronchietesi': 1, 'gp': 5, 'tmof': 1, 'toxo': 5, 'idarubicin': 1, 'broncheictasi': 2, 'biapsi': 1, 'preacaut': 1, 'phospholipid': 2, 'cardiomypathi': 1, 'hypervolemia': 5, 'intercours': 1, 'attdg': 1, 'ig': 6, 'setttl': 1, 'amikcain': 1, 'fw': 6, 'doxyclin': 1, 'ardsnet': 12, 'lactulso': 1, 'secreiotn': 1, 'aztreo': 1, 'gcsf': 3, 'proxial': 1, 'meastu': 1, 'pleasur': 3, 'respositiong': 1, 'subset': 2, 'diuures': 1, 'follolw': 1, 'celaxa': 1, 'regualt': 1, 'interestingli': 4, 'coccido': 1, 'azathioprin': 4, 'botharm': 1, 'fungitel': 1, 'gastropathi': 1, 'blasto': 1, 'essentiali': 1, 'azostrenam': 1, 'erythemia': 1, 'neupogen': 5, 'tsay': 1, 'bromnchscopsi': 1, 'breathi': 3, 'histo': 4, 'urethr': 5, 'equabr': 1, 'toxicit': 1, 'doss': 9, 'spp': 4, 'thickenen': 1, 'lumbosacr': 4, 'antibid': 3, 'elyt': 2, 'bunni': 1, 'shldr': 3, 'bia': 6, 'rectovesicular': 1, 'cand': 1, 'diiuresi': 1, 'aztrenonam': 1, 'acetazolamid': 14, 'atid': 1, 'predominantley': 1, 'hematura': 2, 'tularemia': 1, 'lenal': 1, 'withheld': 4, 'rhonic': 1, 'shld': 2, 'hyperna': 3, 'repat': 1, 'bitten': 2, 'additiion': 1, 'blastomycosi': 1, 'edu': 4, 'thash': 2, 'haldo': 3, 'extremeluy': 1, 'laisix': 2, 'hematur': 1, 'leukopenia': 11, 'sightli': 1, 'obrain': 1, 'volit': 5, 'areteri': 1, 'primaquin': 6, 'rifaxamin': 2, 'signficantli': 3, 'cytopenia': 3, 'susc': 1, 'paresthesia': 2, 'gentamycin': 6, 'parvo': 1, 'coccidio': 1, 'episiod': 1, 'suger': 2, 'biba': 3, 'atavan': 1, 'nil': 4, 'lovastatin': 2, 'mevacor': 1, 'lamintectomi': 1, 'vando': 1, 'xblood': 1, 'reced': 2, 'ebl': 1, 'proceduro': 1, 'pilmonari': 2, 'orthoped': 2, 'tpiec': 1, 'onn': 1, 'ckr': 1, 'backpain': 3, 'duir': 2, 'challang': 1, 'nonetheless': 2, 'ceart': 1, 'cear': 1, 'tmep': 1, 'atibiot': 2, 'bacterimia': 2, 'levoflaxin': 1, 'surther': 1, 'reacat': 1, 'appendectomi': 6, 'suppost': 3, 'negati': 1, 'yesterdat': 1, 'anxiuo': 3, 'cefopim': 5, 'costochodr': 1, 'withwbc': 1, 'obv': 4, 'swelll': 1, 'ntsx': 2, 'intergr': 2, 'quadroplegia': 1, 'reenter': 2, 'foey': 1, 'gelaten': 1, 'pharang': 1, 'tcl': 2, 'intracrania': 2, 'expectoart': 1, 'tibiali': 3, 'oxcycodn': 1, 'occupi': 6, 'gluet': 1, 'wtd': 1, 'gdi': 1, 'season': 5, 'decubit': 3, 'endrocrin': 1, 'approprit': 1, 'reportsd': 1, 'vigour': 3, 'atrovnet': 2, 'paracardium': 1, 'resultsar': 1, 'rej': 2, 'sale': 1, 'transitori': 1, 'eom': 8, 'seatbelt': 1, 'moth': 2, 'aelrt': 1, 'rin': 1, 'gatorad': 1, 'dad': 5, 'uncahang': 1, 'brochoscopi': 1, \"mie'\": 1, 'qustion': 1, 'claustraphobia': 1, 'desatsur': 1, 'dimiinsh': 1, 'comiv': 2, 'hyoid': 1, 'deserv': 1, 'genuin': 1, 'itnub': 1, 'sbd': 1, 'sling': 6, 'scvo': 3, 'aerstion': 1, 'altough': 1, 'chemic': 7, 'crampi': 4, 'lousi': 2, 'positiv': 1, 'tortur': 1, 'rhythym': 3, 'liquig': 1, 'cdv': 1, 'mf': 3, 'tropic': 1, 'damper': 1, 'granchildren': 1, 'spect': 3, 'threshhold': 2, 'opein': 1, 'egophani': 4, 'abtibiot': 1, 'dsrg': 1, 'reslult': 1, 'subtherapeurt': 1, \"'cheyn\": 1, 'frquent': 1, 'concolid': 1, 'stringlik': 1, 'grandfath': 2, 'intubatioin': 1, 'extubatiuon': 1, 'zpt': 1, 'colligenas': 1, 'tropl': 1, 'relfex': 1, 'copuld': 1, 'laft': 1, 'perhilar': 1, 'stokea': 1, 'evaluat': 2, 'vido': 1, 'cevic': 1, 'grate': 1, 'listhesi': 2, 'ginen': 1, 'retrolisthesi': 3, 'dope': 1, 'anterolithesi': 1, 'pneumothorx': 1, 'forlab': 1, 'lag': 3, 'nasoenter': 5, 'efffus': 2, 'hydrazlin': 1, 'removen': 1, 'broccoli': 1, 'overflow': 3, 'encapsul': 1, 'acord': 1, 'sveral': 1, 'presenti': 1, 'imipenemen': 1, 'ectoppi': 1, 'imipenim': 1, 'perifissur': 2, 'physcian': 1, 'placer': 1, 'qestion': 1, 'nipedipin': 1, 'ridig': 1, 'administrationg': 1, 'intqact': 1, 'schiziod': 1, 'niphedipin': 2, 'ispok': 1, 'slx': 1, 'warter': 1, 'director': 3, 'psorasi': 1, 'fridg': 2, 'particl': 3, 'nitika': 1, 'impinenum': 1, 'yea': 2, 'rnging': 1, 'phrenic': 3, 'admitt': 3, 'isminim': 1, 'cxt': 1, 'divertucul': 1, 'bathtub': 1, 'desato': 1, 'lactuloc': 1, 'obstracion': 1, 'surig': 1, 'osteoblast': 3, 'klc': 1, 'exers': 1, 'verapmil': 1, 'prelet': 1, 'tharapi': 1, 'albutrol': 1, 'flatulos': 1, 'plebotomi': 1, 'invol': 1, 'ddsg': 1, 'ecymot': 1, 'serquoel': 1, 'atria': 5, 'lee': 1, 'xiphoid': 1, 'echymot': 2, 'ramya': 2, 'ronchuru': 1, 'dabx': 1, 'gfr': 7, 'patientgentamicin': 1, 'hyrdrat': 1, 'usoh': 7, 'empiriacl': 1, 'ditazem': 1, 'sought': 3, 'menier': 1, 'breaht': 1, 'attest': 1, 'sle': 5, 'perilumbar': 1, 'hemipelvi': 4, 'lupsu': 1, 'lupu': 6, 'haze': 8, 'aglc': 5, 'obliteran': 3, 'nonvascular': 4, 'wherea': 4, 'chornic': 2, 'markinga': 1, 'pf': 6, 'dli': 1, 'ventiat': 2, 'elastiplast': 1, 'inub': 1, 'extubatuon': 1, 'antigrav': 1, 'inci': 1, 'ectoyp': 1, 'anasarci': 1, 'serrosanguin': 1, 'drnge': 1, 'thoracotmi': 1, 'bialt': 1, 'respilor': 2, 'sgot': 1, 'reapli': 1, 'caglu': 1, 'entireti': 3, 'reiorient': 1, 'thobe': 1, 'othewis': 1, 'asjac': 1, 'neng': 1, 'ichem': 1, 'meso': 2, 'similari': 1, 'dcm': 3, 'vancoymcin': 2, 'trilept': 3, 'eng': 1, 'oxcarbazepin': 2, 'respilar': 1, 'dposit': 1, 'sectet': 1, 'hith': 1, 'surveli': 1, 'passeymiur': 1, 'acalculu': 2, 'appeaer': 1, 'jean': 1, \"fxn'ing\": 1, 'initailli': 4, 'trila': 1, 'recquir': 1, 'technician': 2, 'diuresesd': 1, 'will^': 1, 'passeymuir': 1, 'dropp': 3, 'awkward': 1, 'nonopacifi': 1, 'ave': 1, 'quentin': 1, 'indium': 1, 'geiven': 1, 'perifer': 2, 'catapril': 1, 'cstm': 2, 'furnish': 1, 'gallium': 1, 'defec': 1, 'malrot': 1, 'sewn': 2, 'changemad': 1, 'trasfer': 4, 'huband': 1, 'preoxygen': 3, 'oobtc': 3, 'airbolu': 1, 'autolog': 2, 'desatt': 2, 'polysinu': 1, 'maxliofaci': 1, 'ticken': 2, 'asymptompat': 1, 'satg': 2, 'nag': 2, 'hydracholathiazid': 1, 'postprocedur': 1, 'desesitizaion': 1, 'tilll': 1, 'tbf': 1, 'galium': 1, 'bilaterl': 1, 'stanbi': 1, 'syn': 2, 'perpheri': 2, 'ventac': 1, 'passezmuir': 1, 'dissappear': 1, 'ovenight': 2, 'methelen': 1, 'pddp': 1, 'juncki': 1, 'anasacar': 1, 'hdp': 2, 'hardli': 1, 'pmeumococc': 1, 'extrememti': 1, 'swna': 1, 'genear': 1, 'solwli': 1, 'bronchospas': 1, 'mml': 1, 'rxed': 2, 'azthromycin': 1, 'subequ': 1, 'sicial': 1, 'trachial': 2, \"'sr\": 1, 'ddrop': 1, 'ndka': 1, 'bovina': 1, 'intermittentlki': 1, 'leakso': 1, 'bivonna': 1, 'diostress': 1, '^sob': 1, 'infusint': 1, 'danglk': 1, 'arraang': 1, 'mylasia': 1, 'arrial': 1, 'bullosa': 2, 'rnow': 1, 'reorinet': 1, 'arousalb': 1, 'dlaryng': 1, 'adjacet': 1, 'interacted': 1, 'cranki': 1, 'extrathorac': 1, 'enteroflex': 1, 'yearli': 1, 'evidnec': 1, 'piecem': 6, 'dchart': 1, 'phlebolith': 2, 'abuss': 1, 'scm': 2, 'wirh': 1, 'ressussit': 1, 'vanoc': 1, 'siphon': 1, 'millisecond': 7, 'freqent': 1, 'synovi': 4, 'presist': 2, 'pericathet': 1, 'subscapular': 2, 'helthcar': 1, 'prolif': 1, 'giant': 2, 'osteoarthrit': 1, 'blcx': 1, 'hypervascular': 1, 'cartilag': 3, 'tendinopathi': 1, 'eit': 1, 'dnystatin': 1, 'vti': 1, 'onoc': 1, 'ffinard': 1, 'communuc': 1, 'boug': 1, 'plade': 1, \"sx'nd\": 1, 'hungeri': 1, 'imrov': 3, 'venbtil': 1, 'decedron': 1, 'subtend': 1, 'atelect': 2, 'enlg': 1, 'arrhytmia': 1, 'diagnosit': 2, 'sheed': 1, 'oldest': 4, 'throght': 1, 'fentnayl': 1, 'nskin': 1, 'motuh': 1, 'calear': 1, 'rft': 1, 'fenatanyl': 2, 'metorpolol': 1, 'stamina': 1, 'aread': 1, 'tubeeffect': 1, 'areound': 1, 'breakdowon': 1, 'dimisah': 1, 'agtiat': 1, 'atttempt': 1, 'sweatinbg': 1, 'fico': 1, 'arn': 1, 'hrwith': 1, 'boulus': 1, 'novosourc': 2, 'occasionl': 1, 'secretionsin': 1, 'visitir': 1, 'barimaxx': 2, 'chunki': 1, 'appropir': 1, 'knod': 1, 'surigfoam': 1, 'tthick': 1, 'lightind': 1, 'bucal': 1, 'dsng': 1, 'minu': 5, 'evev': 2, 'muchroom': 1, 'imnprov': 1, 'slightl': 1, 'enocurag': 1, 'dirues': 4, 'vestra': 1, 'carevi': 1, 'waithout': 1, 'urinein': 1, 'functon': 1, 'cointrol': 1, 'weanm': 1, 'excacerb': 2, 'rewuir': 1, 'polychamb': 1, 'amioderom': 1, 'falsli': 1, 'metropol': 1, 'lenghth': 1, 'percus': 1, 'naesthesia': 1, 'guidwir': 3, 'indigest': 2, 'bibasliar': 1, 'tappabl': 2, 'regualr': 1, 'lidocan': 1, 'tympani': 1, 'echymott': 1, 'quench': 1, 'hbc': 1, 'elctrolyt': 1, 'hbv': 7, 'atim': 1, 'phyusic': 1, 'toxoplasmosi': 3, 'pneumonthorax': 2, 'testa': 1, 'cnt': 3, 'tuberculin': 1, 'methodon': 3, 'notch': 4, 'pitfal': 1, 'beef': 1, 'bsck': 1, 'giveng': 1, 'somethim': 1, 'vedio': 1, 'smaal': 1, 'precat': 1, 'antituss': 2, 'dia': 1, 'hmd': 1, 'unlobor': 1, 'disciplanari': 1, 'fct': 1, 'atelctasi': 2, 'recordsvancomycin': 1, 'atraumat': 19, 'sensi': 8, 'guiafenisen': 2, 'patientvancomycin': 1, 'incarcer': 3, 'pediscop': 1, 'omelett': 1, 'ileum': 6, 'vomt': 3, 'possiblil': 1, \"dp'\": 1, 'ulc': 1, 'difficuli': 1, 'plavi': 1, 'strangul': 2, 'uncuf': 5, 'partn': 1, 'multpil': 1, 'obstuct': 3, 'mcu': 2, 'miuc': 2, 'gurd': 1, 'stolen': 1, 'revel': 2, 'rape': 1, 'isnt': 1, 'sudaf': 1, 'brochial': 3, 'clonipan': 1, 'neutr': 1, 'furth': 1, 'ivrn': 2, 'inapprori': 1, 'aliv': 7, 'alternatey': 1, 'dimininish': 1, 'kidni': 1, 'snxing': 1, 'prepart': 2, 'arrestn': 1, 'emtot': 1, 'sllevyn': 1, 'hydro': 8, 'tachypenea': 2, 'creep': 1, 'emphesema': 1, 'considerabley': 1, 'basebal': 1, 'prefor': 1, 'trick': 1, 'dvd': 3, 'scabe': 1, 'supportof': 1, 'eras': 2, 'labetelol': 1, 'afebrl': 1, 'pittind': 1, 'itnerv': 1, 'intramur': 6, 'nonvisu': 2, 'ascist': 1, 'burger': 1, 'irregur': 1, 'effusionsm': 1, 'probabilti': 1, 'hinder': 1, 'suppor': 2, 'outweigh': 6, 'menstruat': 1, 'promd': 1, 'reasur': 1, 'eitolog': 1, 'papular': 4, 'brachiocepal': 1, 'suppitori': 1, 'troph': 2, 'receheck': 1, 'bronchspast': 1, 'witih': 1, 'recussit': 1, 'todya': 1, 'eposod': 1, 'fmaili': 1, 'ltitrat': 1, 'ceftr': 1, 'astatu': 1, 'releif': 2, 'parnoid': 1, 'vedrs': 1, 'inu': 2, 'wouldnt': 1, 'mar': 2, 'fidgiti': 1, 'inapropri': 1, 'signifiacnt': 1, 'strepto': 1, 'coherr': 1, 'clonepin': 1, 'trnbasfer': 1, 'psch': 1, 'mucosa': 16, 'figeti': 1, 'wheezs': 1, 'orrali': 1, 'mechnic': 1, 'pattent': 1, 'appetiti': 2, 'bben': 1, 'pneumoccoc': 1, 'willfollow': 1, 'microneb': 2, 'lisinopri': 1, 'comfor': 1, 'moprn': 1, 'bacaus': 1, 'soungd': 1, 'ovcer': 1, 'klonidin': 1, 'ood': 1, 'bilatearlli': 1, 'drnr': 1, 'fereq': 1, 'desper': 1, 'tpo': 1, 'opo': 1, 'coorper': 1, 'emolli': 2, 'anisocoria': 1, 'seur': 1, 'informaion': 1, 'witgh': 1, 'supplementari': 2, 'gorssli': 1, 'balc': 1, 'intersitit': 1, 'guafenesin': 1, 'lowsi': 1, 'eosinophila': 3, 'sequala': 1, 'nontheless': 1, 'ak': 1, 'setback': 11, 'moaner': 1, 'telemet': 1, 'postinfecti': 2, 'fulid': 2, 'icm': 1, 'kyg': 6, 'contant': 1, 'possibly': 1, 'hcf': 1, 'uriun': 2, 'intrapericardi': 3, 'isorsorbid': 1, 'ruleout': 1, 'checkup': 1, 'inferolat': 1, 'ctz': 2, 'parenchyema': 1, 'recommen': 1, 'bedchair': 1, 'dial': 2, 'aspiratio': 1, 'anuria': 7, 'ventriculoar': 1, 'resovl': 1, 'curbsid': 4, 'serousnangin': 1, 'antiobot': 1, 'aatmpt': 1, 'upurc': 1, 'presentplan': 1, 'lungsound': 1, 'improiv': 1, 'partiallli': 1, 'prouctiv': 1, 'dobut': 3, 'presnet': 1, 'equat': 1, 'msvo': 1, 'invagin': 2, 'productuv': 1, 'afebrik': 1, 'sheat': 1, 'unload': 2, 'perki': 1, 'fling': 1, 'leov': 1, 'ttttto': 1, 'carbomed': 1, 'augement': 1, 'mebul': 1, 'thoraic': 1, 'mvso': 1, 'waffelr': 1, 'continnu': 1, 'hespan': 1, 'pocoumadin': 1, 'filll': 2, 'protamin': 3, 'draiang': 1, 'beacam': 1, 'iintub': 1, 'endocran': 1, 'unopacifi': 1, 'gluccos': 1, 'farm': 1, 'thrusday': 1, 'lighli': 1, 'biliour': 1, 'deliou': 1, 'cepatim': 1, 'cefapin': 1, 'cortisyn': 1, 'pheregan': 1, 'detal': 1, 'rwhite': 1, 'aboukt': 1, 'wothout': 1, 'diahrrea': 2, 'probrabl': 1, 'mous': 1, 'doxycylin': 2, 'pinsp': 1, 'doxcycyclin': 1, 'steoriod': 1, 'lasr': 1, 'trqansfer': 1, 'steorid': 1, 'intermitten': 1, '|s': 2, 'begkm': 1, 'nrvliiu': 2, 'patientbactrim': 1, '^g': 2, 'aeijk': 1, 'uy': 2, 'thh': 1, 'gqq': 2, 'gsp': 2, 'wlz': 2, 'jv': 2, 'kbo': 2, 'aj': 2, 'yl': 1, 'ribi': 2, 'moraxelia': 1, 'zw': 2, 'mq': 2, 'ffqp': 2, 'sft': 2, 'mu': 3, 'xil': 1, 'tin': 4, 'oyz': 2, 'wdeu': 2, 'ejo': 2, 'jw': 2, 'jigi': 2, 'xdrn': 2, 'cjojqjuv^jaj': 1, 'mnpj': 2, 'yhwv': 2, 'rkd': 2, 'cb': 4, 'lx': 3, 'granulamoti': 1, 'dq': 2, 'antibitot': 1, 'fff': 2, 'rs^': 2, 'zkd': 2, 'fswi': 2, 'bv': 2, '^jajmh': 1, 'lcj': 2, 'ccg': 2, 'ia': 5, \"'t\": 3, 'xppocnot': 2, 'waejg': 2, 'mvz': 2, 'smarttag': 2, 'fp': 2, 'hkt': 2, 'f|l': 2, 'cjojqj^j': 2, 'vdx': 2, 'laf': 2, 'txf': 2, 'eee': 2, 'wiil': 1, 'ui': 2, 'rqb': 2, 'shphct': 2, 'gqt': 2, 'qf': 2, 'ttttttl': 2, 'neuck': 2, 'cuyi': 2, 'zqqqq': 1, 'outstand': 3, '|||': 2, 'ebx': 2, 'bsb': 2, '|x': 2, 'stx': 2, 'dtj': 2, 'dw': 6, 'zza': 2, 'augapha': 2, 'txe': 2, 'nnn': 2, 'cjojqj^jajhr': 1, 'qlcccc': 1, 'yh': 2, '|vi': 2, 'iend': 2, 'fpbrushpbrushpbrush': 2, 's|f': 2, 'zuo': 2, 'receveiv': 1, 'qvu': 2, 'cjojqj^jajmhsh': 2, 'urn': 3, 'fsx': 2, 'odf': 2, 'ftd': 2, 'elh': 2, 'km': 2, 'hhh': 2, 'ztm': 2, 'dfk': 2, 'oy': 3, 'suu': 2, 'cdehijknowxyz^': 1, 'shphgb': 2, 'cpvmh': 2, 'vhi': 2, 'ycu': 2, 'tsc': 2, 'microsoft': 2, 'pz': 1, 'svttttlq': 2, 'adehjk': 1, 'ajh': 2, 'vbjbj': 1, 'gq': 1, 'vhvivrvsv': 1, 'heiy': 2, '^jajh': 2, 'tq': 2, 'durin': 2, 'vh': 2, 'dhuorq': 2, 'jh': 2, 'ei': 2, 'eutttt': 2, 'srgb': 2, 'rybx': 2, 'sidatx^': 2, 'gbi': 2, 'jojpjqj^jnho': 1, 'uyl': 2, 'aub': 2, 'nenl': 2, 'ejk': 2, 'oxcn': 2, 'vfv': 2, 'tsummaryinform': 2, 'zfn': 2, 'cjaj': 2, 'jva': 2, 'f|uf': 2, 'bw^cw': 2, 'zg': 2, '^jajmhsh': 2, 'bdlt': 2, 'ggg': 2, 'ec': 6, 'z|': 2, 'pi': 3, 'granulomatosi': 2, 'hzyh': 2, 'zlkb': 2, 'fkd': 1, 'gkd': 2, 'if^': 2, 'tro': 2, 'ay': 3, '^lze': 2, 'tez': 2, 'lzra': 2, 'jkd': 1, 'kmdv': 2, 'objectpool': 2, 'tktot': 1, 'ryhc': 2, 'qld': 2, '|cl': 1, 'rqujf': 2, 'jj': 2, 'tj': 2, 'buxf': 2, 'svttttt': 2, 'jxut': 2, 'abh': 1, 'ffj': 2, 'hvah': 2, 'fy': 2, 'jl': 2, 'trpw': 1, 'cjojqju^jaj': 2, 'metabolit': 2, 'vpcsp': 2, 'yt': 2, 'ifgd': 2, 'header': 2, 'v^vgvhvrvsv': 1, 'fj': 2, '|yy': 2, 'uh': 2, 'jxfh': 1, 'xoq': 2, 'eb': 2, 'cjojqju^jajh': 2, 'gh': 2, 'lwc': 3, 'lh': 6, 'ko': 2, 'nffhf': 2, '|ff': 2, 'ydf': 2, 'vthf': 2, 'o|': 2, 'hhhnnn': 2, 'mbd': 2, 'ihdr': 2, 'nw': 2, 'mndm': 2, 'psn': 2, 'qefeiq': 2, 'lzpl': 2, 'odi': 1, 'abrsxbhk': 1, 'jy': 2, 'nocdxi': 1, 'dulxo': 2, 'documentsummaryinform': 2, 'xg': 2, 'fpu': 2, 'ocio': 2, 'okpwp': 2, 'b|': 2, 'qxbk': 2, 'eyfp': 2, 'oih': 2, 'zhdk': 2, 'fug': 2, 'ymj': 2, 'khe': 2, 'lkdv': 2, 'mzm': 2, 'abcd': 1, 'mnoz': 1, 'iz': 2, 'jpn|zb': 2, 'oq': 2, 'rkdz': 2, 'ihdrvfw': 2, \"b'\": 2, 'jz': 2, 'ojqj^jh': 2, 'euq': 2, 'xh': 2, 'kzmwc': 2, 'abrxbhk': 1, 'nz': 2, 'eqe': 2, 'ee': 2, 'ff': 4, 'ze': 2, 'fsp': 2, 'ucto': 2, 'iap': 2, 'xcompobj': 1, 'sjpa': 2, '^jaj': 2, 's|': 2, 'postalcod': 2, 'zex': 2, 'itenk': 2, 'a^': 2, \"p'\": 2, 'xx': 5, 'nxrv': 2, 'emr': 2, \"dzz'\": 2, 'b^': 2, 'fghijklm': 1, 'rs': 8, 'smixu': 2, 'ol': 2, 'c^': 2, 'ffv': 2, \"amaa'\": 2, 'ke': 2, 'z^': 2, 'idatx^': 2, '^qj': 2, 'gkdg': 2, 'cj': 3, 'u^kq^': 2, 'zo': 2, 'ttit': 2, 'dfhm': 2, 'cebq': 2, 'iy': 2, '^j': 1, 'qdwu': 2, 'xy': 2, 'wvmyvu': 2, 'ooo': 3, 'mmmhhh': 2, '|c': 2, 'ftth': 2, 'dxfdl': 2, 'qb|': 2, 'ldf': 2, 'zvhk': 2, 'ovk': 2, 'hlvo': 2, 'bfm': 2, 'moroxella': 1, 'vtl': 2, 'qg': 2, 'cjojqj': 2, 'vvvvvvvv': 1, 'cjuajh': 2, 'dj': 2, 'plntl': 2, 'bfiu': 2, 'kpsp': 2, 'lz': 2, 'cjojpjqj^jnho': 2, 'xm': 2, 'syv': 2, 'omkkfk^k': 1, 'gpl': 2, 'dotxppoc': 2, 'vdegg': 2, 'minutey': 1, 'yuim': 2, '^sx': 2, '|u': 2, 'cjajh': 2, 'ppbp': 2, 'acxci': 2, 'nvo': 2, 'cxpq': 2, 'vo': 2, 'numpag': 2, 'gt^': 2, '^|d': 2, 'xp': 2, 'fip': 1, 'wla': 2, 'xf': 2, \"wegener'\": 1, 'gw': 2, 'jjj': 2, 'rdata': 1, 'dcl': 1, 'compobj': 2, 'jx': 3, 'yd': 2, 'ttooe': 2, 'jm': 2, 'onw': 2, '|k^': 2, 'fl': 7, 'qqov': 2, 'ibxg': 2, 'xq': 2, 'abcdefghijklmnopqrstuvwxyz': 2, 'ik': 2, '^jaju': 1, 'schema': 2, 'hw': 2, 'nghch': 2, '|w': 2, 'ae': 5, 'vfx': 2, 'ilji': 2, 'chlorhexdin': 1, 'cee': 2, 'cjojqj^jajh': 2, 'uvvvvv': 1, 'hke': 2, 'hyw': 2, 'vgpi': 2, 'dpx': 1, 'ifl': 2, 'pwow': 2, 'v|': 1, 'aocrf': 2, 'qn': 2, '^i': 2, 'qqq': 2, 'initiati': 1, 'worddocu': 1, 'dob': 4, 'qxq': 2, 'gx': 2, 'uz': 2, 'zxz': 2, 'pj': 2, 'cq': 2, '|bc': 2, 'uvwxyz': 1, 'um': 2, 'se': 8, 'ji': 2, 'tni': 2, '|q': 2, 'qfeqfkq': 2, 'wdl': 2, 'qxi': 2, 'cjajmhnhujh': 2, 'mdfl': 2, 'kd': 2, 'rwsi': 2, 'vmc': 2, 'aeu': 2, 'miig': 2, 'tmtntotzt': 1, 'kkkggg': 2, 'olwl': 2, 'zd': 2, \"w'\": 2, 'yfgga': 2, 'uu': 2, 'adx': 1, 'cjojqj^jaj': 2, 'hyesh': 2, \"'uqg\": 2, 'chema': 1, 'aqo': 2, 'hxjgu': 2, 't|t': 1, 'cjojqjz': 1, 'bre': 1, 'xn': 2, 'ifa': 2, 'shpwbc': 2, 'xvuy': 2, 'hy': 3, 'shpplt': 2, 'xv': 2, 'ein': 1, 'agsa': 2, 'pyl': 1, 'pfq': 2, 'zwc': 2, 'indcat': 1, 'acount': 1, 'wick': 2, 'stade': 1, 'crazi': 2, 'pysch': 1, 'aibp': 1, 'harass': 1, 'hypokensi': 1, 'stmulat': 1, 'conver': 1, 'fingernail': 2, 'bluish': 1, 'singificantli': 1, 'alright': 1, 'somebodi': 1, 'unsignific': 1, 'echolalia': 1, 'occaison': 1, 'doom': 1, 'atchi': 1, 'palpab': 1, 'fake': 1, 'surgi': 1, 'te': 6, 'clenser': 1, 'genic': 1, 'occaasion': 1, 'lepiruden': 1, 'vanilla': 2, 'dexonid': 1, 'ivgtt': 1, 'ele': 1, 'mpb': 2, 'coke': 3, 'guic': 2, 'barriercream': 1, 'diliri': 1, 'amnioderon': 2, 'cefep': 2, 'abdomi': 1, 'agrastat': 1, 'preceed': 3, 'propion': 4, 'mobitz': 3, 'multipodo': 1, 'favorit': 3, 'inceasingli': 1, 'uneffect': 1, \"con'\": 1, 'bivent': 1, 'claw': 1, 'deceras': 2, 'olanzepin': 5, 'therapeaut': 1, 'iapb': 1, 'overgrown': 1, 'treatmetn': 1, 'bouuock': 1, 'depit': 1, 'bioten': 1, 'sheathless': 1, 'compuress': 1, 'schizoid': 1, 'ckeck': 1, 'plaxiv': 1, 'clobetasol': 2, 'pernium': 1, 'selectivley': 1, 'baloon': 2, '^lft': 1, 'generali': 1, 'wrm': 1, 'pw': 2, 'asssit': 1, 'gaurdian': 2, 'arthrosi': 1, 'doscomfort': 1, 'costovertebr': 2, 'haloldol': 1, 'inco': 1, 'liberali': 1, 'intraaort': 1, 'ciprovloxacin': 1, 'prohibit': 3, 'ttake': 1, 'hypob': 1, 'sj': 1, 'fiberopt': 7, 'schitzophrenia': 2, 'appettit': 2, 'efffect': 2, 'petichea': 1, 'televis': 2, 'afbril': 1, 'kinda': 1, 'elvat': 2, 'cardigen': 1, 'lepirudin': 1, 'absoprt': 1, 'chlorothizid': 1, 'lipirudin': 1, 'ux': 2, 'nondil': 3, 'cardimyopathi': 1, 'apici': 1, 'postplac': 1, 'uncomfor': 1, 'neutopenia': 2, 'abou': 1, 'guifenesin': 1, 'cardura': 1, 'actat': 1, 'moral': 1, 'currnet': 1, 'accapulla': 1, 'aand': 1, 'cintinnu': 1, 'coompazin': 1, 'withexert': 1, 'hypoxicwith': 1, 'transiaent': 1, 'desatto': 1, 'indep': 2, 'nauseax': 1, 'cooperatv': 1, 'coomod': 1, 'worseningdyspnea': 1, 'bhad': 1, 'accapella': 1, 'inhous': 2, 'europ': 1, 'celebrex': 4, 'phelgm': 1, 'transhiat': 1, 'bronchopulm': 2, 'plagu': 2, 'pyloroplasti': 1, 'subsquent': 1, 'dysplasia': 3, 'backpack': 1, 'doxepin': 2, 'herniorrohapi': 1, 'sulcraf': 1, 'invok': 4, 'grandpar': 1, 'supplier': 1, 'hiistori': 1, 'toridol': 1, 'hydo': 1, 'pericardiectomi': 2, 'pericardectomi': 2, 'sigific': 1, 'spirocar': 2, 'tarnsfer': 1, 'miniaml': 1, 'presenetd': 1, 'recievd': 2, 'crakl': 2, 'desaturt': 1, 'dropelt': 1, 'aab': 1, 'doent': 1, 'positionsl': 1, 'anasacara': 1, 'approprietli': 1, 'qvar': 5, 'anarcarca': 1, 'sv': 5, 'speciamn': 1, 'sucction': 1, 'benaprotein': 1, 'lotrimin': 2, 'chiari': 2, 'synchronis': 1, 'tonnic': 1, 'agitit': 1, 'broth': 2, 'rradial': 1, 'handhold': 1, 'plase': 1, 'cirrhossi': 1, 'plead': 2, 'coarser': 1, 'laisx': 3, 'intxoci': 1, 'mickael': 1, 'budd': 1, 'lbase': 1, 'prothesi': 1, 'enterocolon': 1, 'pper': 1, 'bpg': 1, 'reddenend': 1, 'polymyxin': 1, 'downstair': 3, 'regrugit': 1, 'nonmobil': 1, 'roomat': 1, 'sycop': 1, 'patellofemor': 5, 'overaggress': 1, 'haemodinamicalyy': 1, 'nighttim': 3, 'merit': 1, 'alopecia': 2, 'hamstr': 2, 'midthigh': 1, 'aneyrysm': 1, 'interventricular': 1, 'ebv': 6, 'accomplish': 3, 'fwd': 3, 'ophth': 3, 'pound': 6, 'nadir': 7, 'retest': 1, 'avanti': 1, 'negoti': 4, 'haemodinam': 6, 'resurfac': 1, 'bcl': 1, 'lymphma': 1, 'hypdens': 2, 'tra': 1, 'unnit': 1, 'methotrex': 4, 'eshap': 1, 'tdt': 1, 'viridan': 4, 'immunoreact': 1, 'lq': 1, 'dissip': 2, 'nodosum': 1, 'typhil': 1, 'neutropenia': 7, 'prednisolon': 3, 'gmpd': 2, 'multistep': 3, 'lentiform': 2, 'hypdenisti': 1, 'surg': 1, 'presyncop': 4, 'teritori': 1, 'metclopromoid': 1, 'medaplex': 1, 'gwlm': 7, 'aftert': 1, 'feldberg': 2, 'dlbcl': 1, 'caridiolog': 1, 'quset': 1, 'sldo': 1, 'var': 1, 'ovar': 1, 'sarosang': 1, 'effeort': 1, 'poen': 1, 'heatlh': 1, 'unemploy': 4, 'welfar': 1, 'commcar': 1, 'limen': 1, 'tiss': 1, 'aras': 1, 'tissur': 2, 'gleut': 1, 'synchronousl': 1, 'biot': 1, 'edma': 1, 'pannu': 4, 'hydram': 2, 'fss': 5, 'menag': 1, 'otn': 1, 'su': 2, 'admittd': 2, 'healthnet': 1, 'vangin': 1, 'doesnot': 2, 'prune': 1, 'oopen': 1, 'employe': 4, 'nbrh': 1, 'bovin': 3, 'protcet': 1, 'bacterema': 1, 'anthypertens': 1, 'couch': 3, 'raglan': 4, 'infact': 3, 'conplet': 2, 'cpa': 3, 'deppest': 1, 'corpor': 1, 'conso': 1, 'dehis': 1, 'periwound': 1, 'job': 3, 'penitr': 1, 'progrress': 1, 'undrer': 1, 'maser': 1, 'viz': 2, 'pressuer': 1, 'abbras': 1, 'eph': 3, 'unitr': 1, 'cgi': 1, 'spokeperson': 1, 'titer': 5, 'trachobronchomalacia': 2, 'resultur': 1, 'phd': 7, 'grant': 2, 'ror': 1, 'amder': 1, 'pickwickian': 1, 'trachh': 1, 'urv': 1, 'valsatran': 1, 'wrinkl': 1, 'tolerac': 1, 'midzon': 1, 'egc': 1, 'backward': 2, 'circumfer': 1, 'critcal': 1, 'levopflox': 1, 'extrav': 2, 'tre': 1, 'intramedullari': 4, 'golytli': 1, 'rnp': 1, 'pseudohypha': 3, 'acutli': 1, 'supervion': 1, 'birthdat': 1, 'ipmn': 1, 'elder': 3, 'ple': 2, 'vernight': 1, 'colonosocpi': 1, 'myopath': 1, 'wxt': 1, 'mushrrom': 2, 'len': 3, 'fial': 1, 'creativ': 1, 'resper': 1, 'blush': 1, 'allianc': 1, 'jrci': 6, 'golytyl': 1, 'ransfus': 1, 'wjm': 4, 'tubat': 1, 'llnezolid': 1, 'priro': 1, 'cftx': 3, 'vasculr': 1, 'intramuscular': 2, 'hid': 2, 'perfrom': 1, 'otomastoid': 1, 'instersti': 1, 'differneti': 1, 'anc': 7, 'liquifi': 1, 'troponinin': 1, 'prominec': 1, 'rheumatolog': 4, 'hematomoa': 1, 'trendin': 1, 'onogo': 1, 'horrifi': 1, 'bicard': 1, 'maltophila': 1, 'scanti': 1, 'stenotrophoma': 1, 'cvicu': 10, 'maltophilia': 1, 'dificult': 1, 'tranfert': 1, 'enterbact': 1, 'offf': 1, 'criticad': 4, 'hyperconcentr': 1, 'cloaca': 2, 'bodyfrom': 1, 'piggi': 1, 'difinit': 1, 'amidoneron': 1, 'enterobacteria': 1, 'dysrhymia': 1, 'stenotrophomana': 1, 'aean': 1, 'transaxi': 3, 'disciplinari': 4, 'neueo': 1, 'pian': 1, 'nicardipin': 2, 'yeasterday': 1, 'edenam': 1, 'xanthomona': 2, 'anytim': 4, 'reuqir': 1, 'cloacea': 1, 'hemofiltr': 1, 'pulmoanri': 1, 'cvvhf': 1, 'multilob': 2, 'appleid': 1, 'tertiari': 2, '^l': 1, 'recuur': 1, 'eurcerin': 1, 'esophg': 1, 'radiologu': 1, 'eccchymot': 1, 'esophagram': 3, 'fugasl': 1, 'pipricillin': 1, 'schatzki': 1, 'plaesent': 1, 'mulipl': 1, 'rpo': 1, 'lig': 2, 'ijv': 4, 'aferbil': 1, 'immunodef': 1, 'driver': 1, 'deteriori': 1, 'lmwh': 5, 'cannulu': 1, 'malnourish': 11, 'abnormalti': 1, 'popul': 1, 'thrombot': 2, 'cachexia': 3, \"she'\": 1, 'effer': 2, 'prejejunostomi': 1, 'trak': 4, 'propohylaxi': 1, 'rerurn': 1, 'preload': 6, 'gastrectomi': 4, 'perll': 1, 'njear': 1, 'osteoperosi': 1, 'parencyhm': 1, 'zetia': 3, 'hemidia': 1, 'donepin': 1, 'hemidiapragmat': 1, 'spondylosi': 9, 'fin': 5, 'phragm': 1, 'pottassiun': 1, 'ariceot': 1, 'temt': 1, 'rhythn': 1, 'collap': 1, 'carecu': 1, 'namenda': 4, 'kci': 1, 'hemeparesi': 2, 'pentopr': 1, 'conv': 1, 'homorrhag': 1, 'aaddit': 1, 'cef': 1, 'quadtant': 1, 'downgo': 5, 'peron': 17, 'galactomannon': 1, 'stt': 2, 'duilut': 2, 'srtrting': 1, 'pisotriquetr': 1, 'beaselin': 1, 'duirng': 1, 'nutrien': 1, 'flaygli': 1, 'syp': 2, 'complexion': 2, 'celecoxib': 1, 'immolilz': 1, 'transfusuion': 1, 'chondrocalcinosi': 1, 'physiptherapi': 1, 'sini': 1, 'currant': 2, 'chondrocalcif': 1, 'ldlcalc': 1, 'desatuturaion': 1, 'diltiezem': 2, 'metopr': 1, 'transfom': 1, 'epidos': 1, 'hemorrhagica': 1, 'yestday': 1, 'trigli': 1, 'dependedt': 1, 'antix': 2, 'pantopr': 1, 'neglect': 4, 'purposel': 1, 'kalexal': 1, 'nephrot': 3, 'pyridoxin': 1, 'latent': 1, 'acna': 1, 'imuran': 2, 'filbril': 1, 'tpmt': 1, 'antigranulocyt': 1, 'gof': 1, 'parvoviru': 1, 'boxer': 2, 'parainfluenza': 7, 'rrv': 3, 'inpt': 3, 'gn': 6, 'fda': 2, 'paraflu': 2, 'tpmp': 1, 'spu': 4, 'settin': 1, 'jirovecii': 5, 'xopenox': 1, 'proteinuria': 4, 'muddi': 2, 'fbr': 8, 'tiw': 2, 'atovoquon': 1, 'parahypotyriod': 1, 'virus': 5, 'granulocyt': 3, 'apreci': 1, 'flut': 10, 'phop': 1, 'normocellular': 1, 'immunoflouresc': 5, 'rpgn': 1, 'rediscuss': 4, 'glipizid': 8, 'hypovelemia': 1, 'aova': 6, 'actu': 3, 'portegues': 1, 'outlet': 3, 'creatitin': 2, 'autoamput': 1, 'pcpap': 1, 'ratedecreas': 1, 'healtyh': 1, 'drese': 1, 'allyven': 1, 'neurotropho': 1, 'increasinli': 2, 'parameter': 1, 'spontaneosli': 1, 'hover': 6, 'trasit': 2, 'alleyn': 1, \"'want\": 1, 'herat': 1, 'henatoma': 1, 'transx': 1, 'bearhugg': 1, 'accompain': 1, 'hypophosphemia': 1, 'deadspac': 2, 'electropyt': 1, 'grma': 1, 'anamia': 1, 'zofram': 1, 'cang': 1, 'grovid': 1, 'novent': 1, 'rto': 3, 'necros': 1, 'venetd': 1, 'anattempt': 1, 'onscarum': 1, 'diurs': 5, '^up': 1, 'accessari': 1, 'overdiuresi': 2, 'feww': 1, 'correspod': 1, 'accet': 1, 'ststolic': 1, 'significamt': 1, 'watrer': 1, 'basck': 1, 'uuper': 1, 'sdedat': 1, 'lisix': 1, 'grap': 1, 'inconsisitanli': 1, 'ocverag': 1, 'prednisoln': 1, 'quinidin': 2, 'blader': 1, '^^bp': 1, 'reddden': 1, 'nephrostomi': 3, 'criticid': 1, 'student': 8, 'respondi': 1, 'noty': 1, 'irig': 1, 'potassim': 1, 'increaas': 1, 'normali': 1, 'petrou': 2, 'elaps': 1, 'stagnant': 1, 'exuber': 1, 'aproach': 1, 'thrombectomi': 3, 'carot': 1, 'thrombolysi': 1, 'cereb': 1, 'voyag': 1, 'hydrophil': 1, 'terumo': 1, 'supraclinoid': 2, 'oc': 2, 'pedion': 1, 'multilink': 1, 'recannul': 1, 'thromboembol': 8, 'celer': 1, 'roadmap': 2, 'coaxial': 1, 'merci': 1, 'arteriographi': 3, 'inset': 2, 'excercis': 3, 'dementiacopd': 1, 'floven': 1, 'djrc': 1, 'micronas': 1, 'cohes': 3, 'ankylosi': 1, 'withhold': 5, 'darcoidosi': 1, 'radi': 1, 'dimension': 2, 'persever': 5, 'acetabulem': 1, 'dlnc': 6, 'paracentr': 2, 'lyrica': 9, 'snbp': 1, 'mania': 1, 'supratherapeuti': 1, 'boniva': 2, 'budesonid': 2, 'charger': 2, 'pregabilin': 1, 'tendin': 2, 'bioavr': 1, 'prodrom': 6, 'prd': 1, 'darvocet': 1, 'blanchabl': 4, 'trigemini': 1, 'epigloti': 1, 'dilitazem': 1, 'rrana': 1, 'mardarin': 1, 'emphasema': 1, 'pt\\x13': 1, 'scene': 2, 'abdomon': 1, 'minivan': 1, 'cerivc': 1, 'polytrauma': 1, 'puesdomona': 1, 'aquecel': 1, 'struck': 3, 'vincent': 1, 'pneumohemothorax': 1, 'intratrach': 2, 'dailli': 2, 'dsgauz': 1, 'starv': 1, 'den': 1, 'parkview': 1, 'occiput': 1, 'diaphys': 1, 'pedestrian': 1, 'freighten': 1, 'headed': 3, 'retrocrur': 3, 'modr': 1, 'reanastomosi': 1, 'extreiti': 2, 'dilaut': 1, 'hemicolectomi': 2, 'hpylori': 1, 'subren': 2, 'regen': 1, 'regener': 1, 'staf': 3, 'hyperexpand': 6, 'areat': 1, 'dbc': 4, 'shfd': 5, 'consum': 1, 'ipra': 2, 'itp': 1, 'abuterol': 1, 'lympadenopathi': 2, 'smallest': 2, 'asplen': 1, 'hemorhag': 1, 'quiescent': 2, 'fhold': 1, 'carpometacarp': 1, 'enker': 1, 'zentker': 1, 'corrobor': 4, 'parieto': 2, 'unemp': 1, 'leukopenica': 1, 'seros': 1, 'complement': 2, 'glucosamin': 1, 'tampanad': 1, 'tamponand': 1, 'tacchi': 1, 'birth': 1, 'amenorrhea': 1, 'flax': 1, 'tacchycardia': 1, 'herbal': 1, 'spleenomegali': 2, 'hemotolgi': 1, 'cardiomeg': 5, 'pancytopen': 3, 'dna': 2, 'erythematosu': 2, 'replacinf': 1, 'candidemia': 1, 'endothorac': 1, 'absess': 1, 'caspfungin': 1, 'queation': 1, 'extans': 1, 'ulser': 1, 'oprer': 1, 'weakn': 1, 'sorb': 2, 'prision': 1, 'squeek': 1, 'genta': 3, 'caspofungen': 1, 'cirrosi': 1, 'sampp': 1, 'exrcis': 1, 'diminh': 1, 'mnoc': 1, 'meropenam': 3, 'allyvyn': 1, 'stonger': 1, 'merepenen': 1, 'ssoft': 1, 'compair': 1, 'nasalpharyng': 1, 'mlsof': 1, 'hrmodynam': 2, 'thio': 1, 'dysnea': 1, 'gol': 1, 'flexas': 2, 'ercent': 1, 'casperfungin': 1, 'drainm': 1, 'akin': 1, 'fungmia': 1, 'jaudic': 1, 'contiunu': 1, 'fenta': 2, 'lug': 1, 'benifib': 1, 'squeev': 1, 'bacteriamia': 1, \"abg'\": 2, 'atriocav': 1, 'peat': 2, 'pleual': 1, 'oos': 1, 'acetalazolamid': 1, 'constrast': 1, 'streph': 1, 'proppofol': 2, \"req'\": 2, 'rhochoru': 1, 'caller': 1, 'canulla': 1, 'positioin': 1, 'movabl': 2, '^^wob': 2, 'benopro': 1, 'swalow': 1, 'emper': 3, 'luquid': 1, 'meropemen': 1, 'carv': 1, 'upperextrem': 1, 'delemia': 1, 'intaubt': 2, 'superimposit': 2, 'cocciin': 1, 'throath': 1, 'shr': 1, 'myulti': 1, 'respnd': 1, 'midli': 4, 'visistor': 1, 'poa': 6, 'nonrebrath': 1, 'mnonitor': 1, 'ield': 1, 'beliv': 2, 'maaintain': 1, 'picclin': 1, 'aersol': 3, 'stil': 3, 'diatstol': 1, 'kayexalaet': 1, 'mole': 1, 'peptic': 5, 'wheterh': 1, 'levofloxaciin': 2, 'claustrophobia': 2, 'orienetd': 1, 'auscultaton': 1, 'iconsolid': 1, 'antiarrythm': 3, 'carbohydr': 5, 'applesuac': 1, 'compes': 1, 'repletiion': 1, 'puttin': 1, 'tachyarrythmia': 1, 'levalbuterol': 2, 'nsrvt': 1, 'toothett': 3, 'procuct': 1, 'txed': 1, 'hypotenion': 1, 'montiro': 1, 'compasin': 1, 'lef': 1, 'cml': 3, 'patientcodein': 2, 'orreg': 2, 'gretar': 1, 'extracrani': 4, 'autoreg': 1, 'pamidron': 4, 'possibel': 2, 'smolder': 1, 'mirtazipin': 1, 'hide': 4, 'neuo': 1, 'caroti': 1, 'clturesd': 1, 'meme': 1, 'att': 2, 'yesterdya': 1, 'disodium': 1, 'empriic': 1, 'falx': 1, 'abnml': 2, 'hypoporfus': 1, 'ectpi': 1, 'longitudin': 4, 'sytolilc': 1, 'colr': 2, 'impaiir': 1, 'functio': 1, 'ptot': 1, 'amopunt': 1, 'coclostomi': 1, 'exhbit': 1, 'fremitu': 3, 'aysmptomat': 1, 'admsion': 1, 'resucuit': 1, 'egophoni': 7, 'mnth': 1, 'eventaulli': 1, 'phenylepherin': 1, 'spprimari': 1, 'penumonectomi': 1, 'robitiussin': 1, 'presusr': 1, 'abal': 1, 'reolv': 1, 'fluorinef': 1, 'flutterto': 1, 'preacher': 1, 'spondylolisthesi': 1, 'penial': 1, 'atelectati': 1, 'seedi': 1, 'statiu': 1, 'scotal': 1, 'humifi': 1, 'lma': 2, 'earil': 1, 'hemodynamioc': 1, 'prepsep': 1, 'please': 1, 'perph': 1, 'fussi': 1, 'linearli': 1, 'thiothixen': 1, 'insignific': 4, 'rgm': 2, 'infilter': 4, 'midst': 2, 'bcoz': 2, 'propofl': 2, 'pgi': 6, 'phychiatr': 1, 'shore': 3, 'clozapin': 3, 'unpredict': 1, 'hifi': 1, 'epap': 2, 'exaccerb': 2, 'leguionella': 1, 'uag': 2, 'schizo': 2, 'classifi': 3, 'detrol': 1, 'thymic': 1, 'propofopl': 1, 'doen': 1, 'ipap': 2, 'ocd': 3, 'appropiatelt': 1, 'ambiem': 1, 'combineb': 1, 'rotari': 1, 'dishcarg': 1, 'hha': 2, 'repositio': 2, 'ranbl': 1, 'tomographi': 6, 'careveiw': 1, 'deverfesc': 1, 'dresss': 1, 'tubs': 1, 'amdinist': 1, 'bronchscopi': 2, 'aggitit': 1, 'mrone': 1, 'comnfort': 1, 'ddri': 1, 'pboot': 2, 'apicolater': 1, 'emtoin': 1, 'thorcotomi': 1, 'undrain': 1, 'lesi': 1, 'regimn': 2, 'anteroposteriorli': 1, 'aprv': 2, 'ctsx': 1, 'thoarcic': 1, 'hsift': 1, 'calicum': 2, 'recuper': 1, 'intermittenlti': 1, 'phigh': 1, 'aparatu': 1, 'tlow': 1, 'plow': 1, 'suppres': 2, 'portoven': 1, 'eahn': 2, 'ehad': 2, 'shsf': 8, 'interfac': 2, 'replar': 1, 'sgnific': 1, 'rapi': 1, 'network': 1, 'scane': 1, 'stringi': 2, 'dischang': 1, 'aqaugel': 1, 'rextub': 1, 'criti': 1, 'balx': 1, 'deformati': 1, 'dopper': 2, 'rheumatiod': 1, 'militari': 2, 'conflict': 7, 'speed': 3, 'zosi': 1, 'neuroendocrin': 3, 'taxel': 1, 'ivss': 1, 'palliat': 3, 'worsend': 1, 'peritransf': 1, 'restar': 2, 'hsopic': 1, 'checmo': 1, 'afibwith': 1, 'proclhorperazin': 1, 'xtr': 1, 'tumour': 3, 'tumeo': 1, 'buri': 2, 'exppiraotri': 1, 'decb': 1, 'arranegemnt': 1, 'diltiazim': 1, 'halloween': 1, 'asymetri': 3, 'anticpagul': 1, 'finsih': 1, 'famiili': 1, 'carbotaxel': 1, 'abdomino': 1, 'feautr': 1, 'extensis': 1, 'hex': 2, 'srranegemnt': 1, 'intrabronchi': 1, 'undifferenti': 1, 'lyphadenopathi': 2, 'unprofession': 1, 'rlung': 1, 'prommin': 1, 'tohold': 1, 'miscel': 2, 'mucocys': 1, 'dures': 2, 'cefepema': 1, 'extuab': 2, 'cremat': 1, 'ocurs': 1, 'ainstem': 1, 'fibrill': 1, 'realtiv': 2, 'contoinu': 1, 'bllod': 3, 'curabl': 1, 'nuetropen': 1, 'paraneoplast': 1, 'suppment': 1, 'leukopen': 2, 'liekli': 4, 'metast': 2, 'asv': 1, 'feasibili': 1, 'checmotherapi': 1, 'futurw': 1, 'iregularli': 1, 'filgastrin': 1, 'bisphosphon': 1, 'applicat': 1, 'referrs': 1, 'treamtnet': 1, 'fna': 1, 'asx': 3, 'patienttetracyclin': 1, 'methyprednisolon': 2, 'thoruhgout': 1, 'shge': 1, 'sast': 3, 'aorto': 1, 'periaort': 2, 'aortoenter': 1, 'aortobifem': 1, 'preasur': 1, 'hyperoximia': 1, 'monitro': 1, 'imorov': 1, 'pacut': 1, 'possbl': 2, 'multichamb': 1, 'ower': 1, 'evar': 1, 'endoleak': 1, 'bec': 1, 'morphon': 2, 'thrughout': 1, 'nauseua': 1, 'junctiion': 1, 'endograft': 1, 'tmin': 1, 'cliber': 1, 'unremak': 1, 'hyperattenu': 2, 'galbladd': 2, 'discussiion': 1, 'pivott': 1, 'abe': 1, 'nnote': 1, 'innappropi': 1, 'occasioanl': 1, 'argument': 5, 'actuallli': 2, 'loressor': 1, 'fowler': 4, 'bedroom': 2, 'andf': 2, 'basellin': 1, 'intregr': 1, 'seadtion': 1, 'inittiali': 1, 'czrevu': 1, 'oreient': 1, 'resposn': 1, 'mre': 1, 'yancher': 1, 'inatct': 1, 'awawk': 1, 'coasr': 1, 'posv': 1, 'retraint': 1, 'thicwhit': 1, 'ned': 1, 'rerestrain': 1, 'demostr': 1, 'humidi': 1, 'azitroamycin': 1, 'indentif': 1, 'beclov': 1, 'glassi': 1, 'ceftraixon': 3, 'pantamidin': 1, 'nidepin': 1, 'nifidipin': 1, 'aztreom': 1, 'intunb': 1, 'keratio': 1, 'desatru': 1, 'lactulous': 2, 'requist': 1, 'exsufl': 2, 'ffm': 1, 'squees': 1, 'inertact': 1, 'diast': 3, 'vascath': 1, 'fremetu': 1, 'withperf': 1, 'concerv': 1, 'duod': 1, 'bpsyst': 1, 'guillan': 2, 'culltur': 3, 'hrrr': 1, 'ogilivi': 1, 'thermoregul': 1, 'vasodil': 8, 'seroneg': 2, 'jewleri': 1, 'denei': 1, 'lvedv': 1, 'cvo': 2, 'regurgitatiaon': 1, 'syphili': 2, 'drymm': 1, 'overcom': 1, 'mci': 6, 'megac': 2, 'meat': 3, 'preventit': 1, 'ymf': 7, 'yankaw': 2, 'coccyg': 4, 'mdp': 3, 'radiopharmaceut': 6, 'gemcitabin': 2, 'obstr': 1, 'bronchosopi': 1, 'whiteout': 7, 'pemetrex': 2, 'djrx': 1, 'jerki': 1, 'jvg': 5, 'unhook': 1, 'warrent': 2, 'pscyh': 1, 'chonic': 2, 'infl': 1, 'osteodystrophi': 2, 'serequil': 2, 'cetriaxon': 4, 'diffucalti': 1, 'coamnd': 1, 'levofloxacillin': 2, 'consisitenetli': 1, 'placc': 1, 'repoet': 1, 'menatl': 1, 'thenpt': 1, 'desptit': 1, 'arthoplasti': 1, 'guiafenisin': 1, 'repitit': 1, 'stubborn': 1, 'antihistamin': 1, 'halsol': 1, 'fortun': 3, 'pertussin': 1, 'prvc': 8, 'disychron': 1, 'concens': 1, 'radiopac': 3, 'radioopac': 1, 'strenal': 1, 'unstimul': 3, 'adit': 1, 'dysynchronon': 1, 'azithrmycin': 1, 'avaial': 1, 'disynchroni': 1, 'trydin': 1, 'adequit': 1, 'atrail': 1, 'ajdunct': 1, 'shfit': 1, 'prehypertens': 1, 'indomethecin': 1, 'item': 6, 'behalf': 5, 'dimisnih': 1, 'conest': 2, 'simplifi': 1, 'agrees': 1, 'primarli': 1, 'aib': 1, 'oncom': 2, \"'and\": 1, \"does'nt\": 2, 'nsclung': 1, 'neutropnia': 1, 'tachpneiuc': 1, 'apar': 1, 'relatuv': 1, 'paprecita': 1, 'inlcud': 1, 'pneumoia': 2, 'pilonid': 2, 'atrient': 1, 'vva': 1, 'nac': 5, 'veru': 1, 'sotolol': 1, 'serevet': 1, 'lso': 1, 'restor': 5, 'drawal': 1, 'accompan': 1, 'admx': 1, 'epmpyema': 1, 'nam': 2, 'ehtic': 1, 'amongst': 2, 'vsicu': 1, 'hemdynam': 2, 'auacel': 1, 'sscp': 2, 'gangrren': 1, 'kinnaer': 1, 'vicu': 1, 'neosyenphrin': 1, 'hame': 1, 'diarhea': 1, 'spftsorb': 1, 'usu': 1, 'toleer': 1, 'dcoper': 1, 'rythem': 2, 'turniong': 1, 'ogtub': 1, 'downslop': 4, 'pericariectomi': 1, 'pal': 2, 'ssinsulin': 1, 'bretah': 1, 'toletr': 1, 'amniodaron': 1, 'givrn': 1, 'metopropolol': 1, 'feelow': 1, 'respones': 1, 'ahpb': 1, 'quid': 1, 'supertherapeut': 3, 'affes': 1, 'overdr': 1, 'startedprednison': 1, 'unlikley': 2, 'folri': 1, 'corticosteroid': 5, 'neurosarcoidosi': 2, 'stablizi': 1, 'wdwn': 2, 'mastectomi': 2, 'neurosarcoid': 2, 'likey': 4, 'possit': 1, 'broader': 4, 'hyst': 1, 'obe': 1, 'urnin': 1, 'wallker': 1, 'odererd': 1, 'didnot': 1, 'withu': 1, 'jeviti': 3, 'pseudamon': 1, 'cfl': 1, 'nonformulari': 1, 'antipsychot': 6, 'punch': 2, 'eccyhmosi': 1, 'showel': 1, 'hyperchlorem': 5, '^tth': 1, 'hypoglyceamia': 1, 'orthoponea': 1, 'cardioprotect': 1, 'lisnopril': 1, 'reanal': 1, 'carbepenem': 1, 'ret': 1, 'uncl': 2, 'albutero': 1, 'risperd': 5, 'pneumnonia': 2, 'sbplow': 1, 'cnsd': 2, 'incorpor': 1, 'exo': 1, 'spl': 1, 'hemodialyz': 1, 'inspitori': 1, 'cntinu': 1, 'jjf': 1, 'diaylsi': 1, 'pansensit': 3, 'mailto': 3, 'esomeprazol': 1, 'portuges': 4, 'ngsf': 2, 'effecti': 1, 'endocrinolog': 1, 'tft': 4, 'judg': 1, 'fondapar': 1, 'pseud': 1, 'susbequ': 1, 'calctbg': 1, 'ditiazem': 2, 'viremia': 1, 'mannag': 2, 'incontinen': 1, 'medivion': 1, 'biacodyl': 1, 'daylight': 1, 'trabnsient': 1, 'noncuf': 1, 'recreas': 1, 'diltiazam': 2, 'fise': 1, 'wp': 1, 'correlatingpt': 1, 'csa': 1, 'tryin': 1, 'guestur': 1, 'justifi': 2, 'antipseudomon': 1, 'hypophosphatemia': 5, 'convertig': 1, 'pseudoma': 1, 'gangcyclovir': 1, 'wrespiratori': 1, 'protugues': 1, 'tidac': 1, 'tunnl': 1, 'hbg': 2, 'hitt': 1, 'pseudocholinesteras': 1, 'clincial': 3, 'pseudomna': 1, 'humullin': 1, 'humalin': 1, 'azb': 2, 'tbg': 1, 'edam': 1, 'diltazam': 1, 'aureginosa': 1, 'cilastatin': 2, 'tachypneak': 1, 'preround': 2, 'ciontinu': 1, 'trendingdong': 1, 'novolog': 2, 'hemodialyiisi': 1, 'quinolon': 6, 'finsulin': 1, 'rechck': 1, 'hyperlipidema': 2, 'stength': 1, 'susbequet': 1, 'hypercholesterol': 1, 'qb': 1, 'epoeitin': 1, 'cog': 1, 'ssment': 1, 'asthama': 1, 'transplat': 1, 'tuptak': 1, 'suctionedfor': 1, 'systoc': 1, 'dysynch': 1, 'overdialyz': 1, 'dound': 1, 'trsat': 1, 'vpice': 1, 'sensitivi': 7, 'transufs': 1, 'priscrib': 1, 'hdfor': 1, 'unph': 1, 'aeurginosa': 1, 'distresss': 1, 'diphenhydramin': 3, 'birder': 1, 'minocyclin': 1, 'fati': 1, 'staphaur': 1, 'twf': 3, 'demonstrate': 1, 'pannicul': 1, 'aureou': 1, 'viscu': 1, 'peach': 1, 'wounc': 1, 'collectino': 1, 'exlap': 2, 'exploratori': 2, 'duo': 2, 'omentum': 3, 'peritin': 1, 'turbid': 3, 'anastomot': 1, 'appendic': 1, 'plactment': 3, 'baium': 1, 'sigmoidectomi': 1, 'mixtur': 2, 'trajectori': 1, 'tbbx': 2, 'worsten': 3, 'hp': 2, 'dermatomyos': 1, 'pregnant': 3, 'biospi': 4, 'macrophag': 1, 'infiltar': 1, 'neumon': 1, 'transpulmon': 1, 'insomia': 1, 'abnom': 2, 'dysonea': 2, 'odl': 1, 'diluadid': 2, 'trasnfger': 1, 'hypereosinophil': 1, 'hme': 2, 'progressov': 1, 'motnh': 1, 'expedit': 2, 'knowd': 1, 'cytometri': 2, 'rodent': 1, 'treponem': 1, 'restricion': 1, 'erlichiosi': 1, 'asterix': 1, 'electrophoresi': 1, 'abdnorm': 1, 'tna': 1, 'leptospira': 1, 'hypoalbuminem': 1, 'monocyt': 1, 'hemolys': 2, 'lymphocyctosi': 1, 'sprue': 1, 'enceph': 7, 'abid': 2, 'ippv': 2, 'leptomening': 7, 'hlh': 1, 'postinflammatori': 1, 'ivsion': 1, 'bcse': 1, 'demyelin': 3, 'lymphocytochoriomening': 1, 'recusit': 1, 'thrirsti': 1, 'entak': 1, 'colorless': 1, 'hanta': 2, 'galactomann': 1, 'vector': 1, 'syphilli': 1, 'cound': 1, 'abnormail': 1, 'pcr': 10, 'contibut': 2, 'behcet': 1, 'vzv': 2, 'pantoprozol': 2, 'lymphomcyt': 1, 'mutat': 2, 'varicella': 3, 'leptospirosi': 1, 'gdextros': 1, 'whichev': 1, 'noncardiogen': 2, 'ehrilichia': 1, 'bilarer': 1, 'hereditari': 1, 'multiorgan': 3, 'asterixisi': 1, 'vdrl': 1, 'pivet': 1, 'thrombotytopenia': 1, 'multisystem': 1, 'lyme': 1, 'priorit': 1, 'ehrlichia': 3, 'elus': 2, 'hav': 2, 'otoxoc': 1, 'noninfecti': 5, 'arboviru': 1, 'hhc': 1, 'gaa': 1, 'sjogren': 1, 'ttg': 1, 'pulsesl': 1, 'effis': 1, 'aliment': 1, 'ascet': 3, 'choriomening': 1, 'lymphocytosi': 2, 'ondansetrol': 1, 'ceruloplasmin': 1, 'tbna': 1, 'boipsi': 1, 'lympanopathi': 1, 'igm': 5, 'hyptotens': 1, 'hhv': 2, 'mice': 1, 'vhhc': 1, 'histoplasma': 3, 'hemochromatosi': 2, 'ration': 2, 'visi': 1, 'spirochet': 1, 'lethospirosi': 1, 'unrel': 6, 'bedsi': 1, 'umbrella': 2, 'cecu': 1, 'ureterovesicular': 1, 'ehospit': 1, 'ogilvi': 3, 'loom': 1, 'cecal': 3, 'unsupport': 5, 'pilot': 1, 'tracheiti': 2, 'doa': 1, 'levadopa': 2, 'imper': 1, 'candidia': 1, 'palabl': 1, 'distraught': 2, 'rtrad': 1, 'fopr': 1, 'withouth': 1, 'thorough': 1, 'predniselon': 1, 'perspir': 1, 'radail': 1, 'dimminish': 1, 'iavb': 1, 'mididrin': 1, 'frequantli': 1, 'percodan': 2, 'rhd': 3, 'tranx': 4, 'nwb': 1, 'pinki': 1, 'receiven': 1, 'asacol': 2, 'ccon': 1, 'furthur': 2, 'effcet': 1, 'withsob': 1, 'coolneb': 1, 'xxx': 4, 'tachicard': 1, 'cought': 2, 'atroven': 2, 'refkect': 1, 'stanidng': 1, 'titrabl': 1, 'elavil': 1, 'ifn': 2, 'bst': 1, 'iiic': 1, 'melenoma': 1, 'hoem': 1, 'amytriptylin': 1, 'ocver': 1, 'glyberid': 1, 'glyburid': 4, 'suboptimalwil': 1, 'onoclogist': 1, 'compel': 3, 'jplace': 1, 'titanium': 1, 'unkink': 1, 'arthroma': 1, 'affabl': 1, 'azipthromycin': 1, 'lvf': 2, 'fn': 8, 'hosoit': 1, 'hypothyr': 1, 'haspain': 1, 'lpuls': 1, 'irrigant': 1, 'fidget': 1, 'aroun': 1, 'percoet': 1, 'irrrig': 1, 'cchang': 1, 'proedur': 1, 'shiftmetabol': 1, 'palit': 1, 'clariti': 1, 'alum': 1, 'amll': 1, 'uper': 1, 'lith': 1, 'coccyn': 1, 'faairli': 1, 'trolard': 1, 'adenomatoid': 1, 'holdup': 1, 'stomat': 1, 'osteomyl': 2, 'impar': 1, 'bactreial': 1, 'vertebrobasilar': 1, 'periradicular': 1, 'pachi': 1, 'adduct': 3, 'acutelyworsen': 1, 'oe': 1, 'appolog': 1, 'knife': 1, 'senc': 2, 'fiduci': 2, 'dissatisfi': 1, 'nslc': 1, 'psox': 1, 'pneuomothorax': 1, 'misdirect': 1, 'osteotomi': 1, 'lockout': 1, 'rescan': 2, 'polymyalgia': 1, 'hypocholesterolemia': 1, 'interpos': 1, 'wate': 1, 'kyphoscoliosi': 4, 'bonchovascular': 1, 'tkr': 7, 'pleurovac': 1, 'glycerid': 1, 'carckl': 1, 'comtinu': 2, 'herapin': 1, 'shatter': 1, 'lone': 2, 'histamin': 2, 'tubef': 1, 'doputamin': 1, 'simmilar': 1, 'thallium': 2, 'poosibl': 1, 'wafe': 1, 'dopaim': 1, 'occassionali': 2, 'bale': 2, 'toom': 1, 'cholecyctilit': 1, 'kayaxol': 1, 'hurri': 1, 'cantanker': 1, 'zyprexin': 1, 'pleaural': 2, 'dopain': 1, 'cholinerg': 1, 'giuac': 1, 'categori': 2, 'dobutamon': 1, 'oink': 1, 'viabil': 2, 'danglig': 1, 'hell': 2, 'mvoe': 1, 'patter': 1, 'strait': 1, 'mrge': 2, 'perhr': 1, 'warfain': 1, 'verab': 1, 'cymbalta': 6, 'pleuural': 1, 'descib': 2, 'duoern': 1, 'deoderm': 1, 'acetabular': 4, 'upgaz': 1, 'urban': 1, 'bifasicular': 1, 'hypexia': 1, 'myoglobinuria': 1, 'ambigu': 1, 'brachioradiali': 1, 'prohress': 1, 'antiplatelet': 3, 'ectasia': 5, 'decrement': 2, 'spat': 1, 'adequatli': 1, 'valproic': 4, 'paresi': 3, 'sagit': 1, 'survey': 1, 'cct': 4, 'eveid': 2, 'exersis': 1, 'asever': 1, 'rightsid': 1, 'restarint': 1, 'iubprofen': 1, 'coopar': 1, 'claustrophob': 3, 'strido': 1, 'reccomedn': 1, 'dariculopahti': 1, 'radiculopahti': 1, 'sttemp': 1, 'submucos': 1, 'scc': 8, 'bpap': 2, 'underlyinig': 1, 'medaistin': 1, 'sttempt': 1, 'radiculopathi': 2, 'bedlin': 1, 'dmultipl': 1, 'omem': 1, 'unmet': 1, 'scca': 2, 'nirs': 1, 'cea': 4, 'ashen': 2, 'industri': 1, 'metopralol': 1, 'chk': 1, 'anastamosi': 2, 'emaci': 2, 'ureteroscopi': 2, 'surger': 1, 'negaitv': 2, 'attg': 6, 'radioluc': 3, 'flag': 1, 'nonradiopaqu': 1, 'premorbid': 1, 'lavo': 1, 'chect': 1, 'azithrimycin': 1, 'clopidogrel': 4, 'qmonday': 1, 'steatohepat': 1, 'alp': 2, 'lsb': 2, 'reportedthat': 1, 'reck': 1, 'indict': 2, 'appropx': 1, 'adminsit': 1, 'altaplas': 1, 'downto': 1, 'infeciton': 1, 'bldg': 1, 'heati': 1, 'pss': 1, 'hydrea': 1, 'mpsc': 1, 'elevaet': 1, 'povh': 1, 'opaciti': 1, 'geriatrician': 1, 'calledto': 1, 'hydroxyurea': 3, 'extubt': 3, 'phoin': 1, 'dssd': 3, 'hydorcortison': 1, 'vietnames': 1, 'prevou': 2, 'mkore': 1, 'erd': 1, 'tridyn': 1, 'mushroon': 2, 'wsd': 1, 'edmat': 1, 'ceftazin': 1, 'astreonam': 1, 'mimim': 1, 'appropropri': 1, 'vocabulari': 1, 'ncslc': 1, 'chantix': 1, 'vareniclin': 1, 'hypomagnisemia': 1, 'fup': 2, 'constent': 1, 'considert': 1, 'dicc': 1, 'viocodin': 1, 'dehydratioin': 1, 'lymp': 1, \"day'\": 1, 'liuqid': 1, 'polymicrobi': 7, 'besyl': 2, 'hk': 5, 'cuad': 1, 'corda': 1, 'verbiag': 1, 'valuium': 1, 'proceur': 1, 'tendini': 1, \"'a\": 1, 'posterioli': 1, 'eustachian': 3, 'subsalicyl': 1, 'aksb': 2, 'totprot': 1, 'tread': 1, 'signfici': 4, 'hrct': 4, 'hemidiaphrapm': 1, 'cholest': 2, 'banalc': 1, 'bismuth': 1, 'meningism': 1, 'kaopect': 1, 'shelik': 1, 'pendi': 1, 'psuedomon': 1, '^d': 1, 'pizza': 1, 'arso': 1, 'midclavicl': 1, 'cepefim': 1, 'insmal': 1, \"cx'\": 2, 'producitv': 1, 'albutreol': 1, 'prgress': 1, 'favour': 1, 'microdata': 2, 'pychiatr': 1, 'twelv': 1, 'effctiv': 1, 'hydralyzin': 1, 'amont': 1, 'legionna': 1, 'condidt': 1, 'qti': 1, 'procudur': 1, 'pase': 1, 'superviss': 1, 'reposons': 1, 'rlc': 1, 'occul': 1, 'scelera': 1, 'verb': 1, 'toil': 1, 'verbalis': 1, 'dyne': 2, 'ont': 1, 'cholecyt': 1, 'hist': 1, 'posiibl': 1, 'wain': 1, 'sequent': 1, 'femerol': 1, 'abnormalitiy': 1, 'adust': 1, 'precauion': 1, 'choleysist': 1, 'prc': 2, 'freuqent': 1, 'ectopt': 1, 'todat': 2, 'ptr': 1, 'laast': 1, 'antcip': 1, 'satisafctori': 1, 'clobestol': 1, 'peeep': 1, 'legionnair': 3, 'availi': 1, 'mting': 1, 'erythremat': 1, 'recv': 1, 'subclavi': 1, 'transpulmonari': 2, 'schizoprenia': 1, 'clobestsol': 1, 'cuvrv': 1, 'betamethason': 2, 'maintaint': 1, 'pfr': 2, 'endocardit': 1, 'lrage': 1, 'surprizingli': 1, 'invest': 1, 'comppens': 1, 'movem': 1, 'liner': 2, 'graphic': 1, 'soudn': 1, 'moniotor': 1, 'interpert': 1, 'assault': 3, 'recept': 2, 'unablet': 1, 'weaend': 1, 'baratr': 1, 'panu': 2, 'nonadher': 1, 'rear': 1, 'depo': 1, 'fuid': 1, 'hypernatrium': 1, 'cryo': 1, 'vigilantli': 2, 'ibandron': 2, 'bonchiti': 1, 'ridden': 1, 'sclqae': 1, 'empric': 2, 'delec': 1, 'orlb': 1, 'incenitv': 1, 'lmidron': 1, 'mie': 3, 'pecocet': 1, 'hypenatremia': 1, 'convalesc': 1, 'riclast': 1, 'colum': 2, 'nocuturn': 1, 'intetmitt': 1, 'clinici': 1, 'andm': 1, 'aspiraiton': 1, 'monomorph': 2, 'shit': 1, 'persev': 3, 'pneuomonia': 2, 'morphic': 1, 'rhochi': 1, 'gentlr': 1, 'legnionella': 1, 'especilli': 1, 'stomcach': 1, 'mulitlobular': 1, 'outwardli': 1, 'famli': 1, 'obatin': 1, 'nmb': 1, \"'snsr\": 1, 'infectin': 1, 'serivc': 1, 'laryhg': 1, 'plugg': 1, 'visitng': 1, 'catopril': 1, 'poulmonari': 1, 'atart': 1, 'nremain': 1, 'cpcp': 2, 'larang': 1, 'suciotn': 1, 'completli': 1, 'cul': 1, 'nusr': 1, 'reconsclip': 2, 'resucit': 2, 'asb': 1, 'hemodynamicli': 2, 'mucomist': 3, 'intiti': 4, 'akinwat': 1, 'retroperitonael': 1, 'intraprocedur': 2, \"tf'\": 2, 'vytorin': 1, 'hopsit': 2, 'fluticasin': 1, 'callou': 1, 'sucraf': 1, 'endometri': 2, 'dipp': 1, 'hyperplast': 3, 'choleycystectomi': 1, 'xri': 1, 'nasonex': 1, 'malabsorpt': 1, 'boil': 1, 'tylenolol': 2, 'grandmoth': 2, 'hydrobromid': 3, 'bailar': 1, 'clarithromycin': 2, 'phenobarb': 3, 'hepaticojejunostomi': 1, 'adj': 3, 'cefepem': 2, 'pellucidum': 2, 'stoneman': 1, 'outburst': 2, 'cwia': 1, 'myocardia': 2, 'pjp': 5, 'readd': 1, 'myelosupress': 1, 'neutrapen': 1, 'condsid': 1, 'orthodrom': 1, 'schf': 3, 'childdren': 1, 'etiomad': 1, 'dexmedetomidin': 3, 'cortstim': 3, 'hazzi': 1, 'vibrio': 1, 'vpa': 2, 'cultru': 1, 'glucont': 1, 'surrog': 1, 'bioavailibilti': 1, 'accordigli': 1, 'hypothryroid': 1, 'fmask': 1, 'coagulapath': 1, 'eminclud': 1, 'angiotensin': 1, 'antagonist': 2, 'intron': 1, 'ish': 2, 'danazol': 1, 'fece': 7, 'bradypnea': 1, 'neuromusc': 2, 'acidoci': 1, 'hydroxylurea': 1, 'jhere': 1, 'pentoxifyllin': 1, 'ohter': 1, 'myelofibrosi': 1, 'yersinia': 1, 'alkelem': 1, 'bbker': 1, 'chaplain': 2, 'string': 1, 'hematologist': 1, 'campylobact': 2, 'euthyroid': 1, 'pentoxyfillin': 1, 'eia': 5, 'dopplear': 1, 'sriel': 1, 'lllpna': 1, 'congeat': 1, 'serel': 1, 'fley': 1, 'draiin': 1, 'regurgittaion': 1, 'diffrenc': 1, 'cmii': 1, 'prethicken': 4, 'ivh': 2, 'bradicard': 1, 'shink': 1, 'pml': 3, 'knuckl': 1, 'precuss': 1, 'hyperreflexia': 1, 'thlenol': 1, 'perimesencephal': 1, 'icp': 2, 'familiar': 3, 'washcloth': 1, 'hmo': 1, 'tting': 1, 'hypoton': 5, 'insynchron': 1, 'pointer': 1, 'unasses': 1, 'leukoencephalopati': 1, 'diulatin': 1, 'reticulocyt': 2, 'retsart': 1, 'bradyca': 1, 'chlorhexedin': 1, 'chlor': 1, 'cepftim': 1, 'entens': 1, 'diari': 2, 'transamitini': 1, 'haartwith': 1, 'purchas': 1, \"gnr'\": 1, 'youngest': 1, 'disproportion': 1, 'dramtic': 1, 'hypereflexia': 1, 'takeoff': 1, 'ototox': 1, 'cryptococcu': 1, 'confront': 2, 'onog': 1, 'popular': 3, 'tracjh': 1, 'unorthodox': 1, 'hyperhydr': 1, 'nacrot': 1, 'assista': 1, 'phlebotom': 1, 'immatur': 2, 'soduim': 1, 'pyrimethamin': 1, 'defend': 3, 'blee': 2, 'microbi': 1, 'vascularpreserv': 1, 'dysregul': 3, 'peac': 3, 'practition': 2, 'seiaur': 1, 'acrocyanosi': 1, 'manomet': 2, 'geograph': 2, 'litter': 1, 'reyetaz': 1, 'leukencephalopathi': 1, 'unsatisfi': 1, 'myoclonu': 4, 'mpression': 2, 'unprompt': 1, 'arv': 2, 'openli': 1, 'surviv': 3, 'apnpr': 1, 'reconstitut': 4, 'gre': 2, 'encephalpathi': 1, 'recieiv': 2, 'aswer': 1, 'certif': 1, 'covner': 1, 'xigri': 1, 'dexemethason': 1, 'botain': 1, 'contempl': 2, 'gerealo': 1, 'uncal': 2, 'affair': 1, 'secrest': 2, 'contribtuion': 1, 'aminoglycosid': 3, 'tynelol': 1, 'reinvolv': 1, 'hpome': 1, 'mannitol': 1, 'recrudes': 1, 'hypercholorem': 1, 'initai': 1, 'vestibular': 2, 'stagnat': 1, 'gangren': 5, 'tor': 1, 'kinet': 4, 'hypernutremia': 2, 'decompos': 1, 'radiocontrast': 1, 'trippl': 3, 'dital': 1, 'microorg': 3, 'barotrauma': 4, 'ogress': 1, 'scew': 1, 'macrocyt': 3, 'tuft': 1, 'fenanyl': 1, 'rdia': 1, 'ong': 1, 'shrink': 3, 'pentobarbit': 2, 'etiol': 1, 'ritonovir': 2, 'colleg': 2, 'consost': 1, 'decin': 1, 'clorhexedin': 1, 'sulfadizin': 1, 'pharmd': 3, 'poison': 2, 'bel': 1, 'opf': 1, 'intim': 4, 'shose': 1, 'pneumococ': 1, 'methylnaltrexon': 2, 'mosaic': 4, 'wing': 1, 'hypov': 1, 'severaql': 1, 'tricor': 2, 'interduc': 1, 'ilopsoa': 1, 'primaquon': 1, 'traansfer': 1, 'various': 1, 'diagon': 1, 'altert': 1, 'orhtostasi': 1, 'infectio': 1, 'murmr': 1, 'prison': 4, 'jiroveci': 6, 'unlikl': 1, 'bruie': 1, 'sevelem': 2, 'clindmycin': 1, 'pansystol': 1, 'pneumoina': 1, 'tordol': 1, 'aneur': 2, 'hydrochlorid': 2, 'simplex': 3, 'bloodpressur': 2, 'weari': 1, 'micafungin': 3, 'resisit': 1, 'ketorolac': 3, 'lanzoprazol': 1, 'interst': 1, 'certainti': 2, 'shellfish': 3, 'mpowel': 1, 'oof': 1, 'hu': 2, 'managemet': 1, 'myocolonu': 1, 'excruci': 1, 'bzd': 2, 'primaqin': 1, 'firsthand': 1, 'housekeep': 2, 'unur': 1, 'whees': 1, 'edit': 2, 'trabecul': 4, 'rarefact': 1, 'microischem': 1, 'myelomat': 1, 'unfamiliar': 1, 'narcotica': 1, 'senstiv': 1, 'guidan': 1, 'naficillin': 1, 'antim': 1, 'primquin': 1, 'tamsulosin': 3, 'voriconozol': 1, 'protuber': 4, 'atax': 1, 'narcopt': 1, 'hiatu': 6, 'progres': 2, 'atalectasi': 5, 'thyromegali': 12, 'trasnlat': 1, 'hyposed': 1, 'stohnman': 1, 'idic': 1, 'microangiopathi': 1, 'refusu': 1, 'velcad': 2, 'metoptolol': 1, 'unmask': 2, 'empiricali': 1, 'calcitonin': 2, 'illiopsoa': 1, 'iliopsoa': 1, 'biater': 9, 'melana': 2, 'finerg': 1, 'vacn': 1, 'consumpt': 5, 'foudn': 1, 'whinc': 1, 'anticoagulatoion': 1, 'hars': 1, 'ptv': 1, 'triangular': 2, 'aspf': 2, 'omnipaqu': 22, 'achondroplasia': 1, 'array': 1, 'feversclin': 1, 'ldic': 1, 'muconazol': 1, 'antifangian': 1, 'extubaton': 1, 'eved': 1, 'hemotoma': 1, 'elevetd': 1, 'toput': 1, 'antifangin': 1, 'sedet': 1, 'palac': 1, 'buttok': 1, 'rknee': 1, 'probem': 1, 'yanuak': 1, 'tolow': 1, 'monitoro': 1, 'hipox': 1, 'imptov': 1, 'anascol': 1, 'elabor': 1, 'calv': 4, 'substrat': 3, 'dopplier': 1, 'revelatori': 1, 'ammmonia': 1, 'triag': 2, 'acidophillu': 1, 'grm': 1, 'caveat': 1, 'mylanta': 1, 'sand': 1, 'erythemet': 1, 'bmsx': 1, 'therectomi': 1, 'endeavor': 1, 'ditress': 2, 'revascular': 2, 'divalproex': 4, 'polychondr': 2, 'bicalutamid': 1, 'voltatg': 1, 'paget': 2, 'edeam': 3, 'infuluenza': 1, 'devat': 1, 'diptheria': 1, 'diphtheria': 1, 'fvc': 4, 'issus': 1, 'ferrousul': 1, 'verstiva': 1, 'ocuvit': 1, 'currenlti': 2, 'sheriff': 1, 'garb': 1, 'intlat': 1, 'comt': 1, 'combivi': 1, 'sodiuma': 1, 'cctime': 1, 'levagquin': 1, 'specifici': 1, 'bicarp': 1, 'billat': 1, 'onb': 1, 'coa': 1, 'wln': 1, 'recumb': 1, 'sectrtion': 2, 'lipomatosi': 1, 'bdz': 1, 'alkalem': 1, 'continui': 1, 'figur': 2, 'burr': 4, 'igh': 1, 'porencephal': 1, 'hunulin': 1, 'respitor': 1, 'harbor': 1, 'normotensiv': 1, 'supratentori': 4, 'magnitud': 1, 'resuiscit': 1, 'villag': 1, 'covg': 1, 'springwel': 1, 'shoudl': 1, 'paranoa': 1, 'permeabl': 1, 'lubric': 1, 'croupi': 1, 'vasalva': 1, 'noncontigu': 1, 'hemachomotosi': 1, 'pelclip': 1, 'nok': 2, 'hemochromotosi': 1, 'winter': 2, 'sttwc': 1, 'sequestr': 1, 'nonradi': 1, 'orign': 2, 'hemachromatosi': 1, 'osteophytosi': 2, 'ym': 2, 'confin': 2, 'superclavicular': 1, 'parameterd': 1, 'initail': 2, 'dcough': 1, 'dsh': 1, 'unprepar': 1, 'cation': 1, 'casopressin': 1, 'offlevoph': 1, 'recimmend': 1, 'neosynepherin': 1, 'latu': 1, 'aeronaut': 1, 'interrogat': 1, 'resuccit': 1, 'moicro': 1, 'famoitidin': 1, 'receivng': 2, 'osteltamavir': 1, 'represnt': 1, 'swithc': 1, 'poetic': 1, 'madanock': 1, '^wob': 5, 'lrx': 1, 'vibrant': 1, 'una': 5, 'revi': 1, 'tsamiflu': 1, 'lacat': 4, 'hostil': 1, 'sureg': 1, 'levofloxaxin': 1, 'hitchcock': 1, 'osteltamivir': 1, 'mimic': 1, 'photo': 1, 'withdrwal': 1, 'copeou': 1, 'compenas': 1, 'withdrawa': 1, 'scarl': 1, 'transferrin': 2, 'tricuspud': 1, 'appropriatr': 1, \"ext'\": 1, 'antitbiot': 1, 'inferiormost': 1, 'obtaijn': 1, 'maskj': 1, 'purlent': 1, 'centropulmonari': 1, 'mucormyst': 3, 'cleat': 1, 'nbr': 1, 'duiresis': 1, 'mipt': 1, 'hypokines': 1, 'und': 2, 'guzzl': 1, 'hyolaryng': 3, 'tnt': 3, 'azityhromycin': 1, 'racotomi': 1, 'pantoea': 1, 'hld': 3, 'tho': 1, 'afternnoon': 1, 'drainaga': 1, 'cardiomyopath': 1, 'deglutit': 3, 'prethickn': 1, 'prb': 1, 'lactamas': 5, \"he'\": 1, 'recnt': 1, 'volar': 2, 'subinsular': 3, 'suboptima': 1, 'herni': 1, 'radiocarp': 1, 'lordosi': 3, 'mraf': 2, 'subcuticular': 4, 'esophagogastr': 3, 'ehab': 8, 'reoper': 2, 'juglar': 1, 'cathter': 2, 'coorespond': 1, 'fingerbreadth': 4, 'cholectomi': 1, 'rosacea': 2, 'dish': 3, 'depolar': 4, 'nterval': 1, 'posteroinferior': 1, 'scanner': 6, 'parkinsonian': 1, 'distinguish': 6, 'suprasellar': 4, 'gadavist': 3, 'gmsj': 4, 'gsenapati': 2, 'bronchoalveloar': 1, 'innumer': 3, 'calcifict': 1, 'initiatio': 1, 'juxtahilar': 1, 'peribronchovascular': 13, 'axcellari': 1, 'tour': 3, 'scopi': 1, 'tthrough': 1, 'oesophg': 1, 'npv': 1, 'positi': 1, 'morther': 1, 'oain': 1, 'vomittr': 1, 'mucho': 1, 'poco': 1, 'maleana': 1, 'witb': 1, 'thalam': 3, 'ueo': 1, 'obli': 1, 'ltec': 1, 'continuum': 1, 'melaena': 1, 'supratherpeut': 1, 'egdv': 1, 'plea': 2, 'zosoyn': 1, 'egu': 1, 'ostomoy': 1, 'semisupin': 1, 'scertion': 1, 'hctcheck': 1, 'thankscarolyn': 1, 'ileiostomi': 1, 'gargl': 1, 'hyperextend': 1, 'basliic': 1, 'penumon': 1, 'unprovok': 1, 'oglivi': 1, 'olveckzi': 1, 'retropreiton': 1, 'mucocel': 1, 'oophorectomi': 2, 'adminit': 1, 'qthur': 1, \"'great\": 1, 'nonsmok': 2, 'zoyn': 1, 'salpingo': 1, 'wine': 4, 'mgu': 1, 'nonimmun': 1, 'recenetli': 1, 'teratoma': 2, 'chelona': 1, 'alendron': 1, 'hypernam': 1, 'asprin': 3, 'microaspir': 1, 'prevail': 1, 'imay': 1, 'ubiquit': 1, 'infiltart': 1, 'pneuomina': 1, 'historectomi': 1, 'ammen': 1, 'macrolid': 3, 'peristals': 1, 'pigment': 1, 'kwnown': 1, 'sequest': 2, 'subclass': 1, 'meatal': 1, 'defuci': 1, 'usiti': 1, 'immunodefici': 6, 'serotonin': 5, 'ethmoidectomi': 1, 'veg': 1, 'subnorm': 1, 'pansinus': 2, 'masp': 1, 'monotherapi': 4, 'hsc': 3, 'spetic': 1, 'sin': 1, 'antrostomi': 1, 'kgm': 1, 'immunoglobulin': 1, 'tbi': 4, 'airless': 3, 'tahcycardia': 1, 'development': 5, 'panc': 1, 'rami': 1, 'ossifi': 1, 'ramu': 2, 'ossif': 5, 'heterotop': 4, 'parost': 1, 'ossifican': 1, 'chondrosarcoma': 1, 'osteosarcoma': 1, 'medullari': 4, 'truama': 1, 'coanda': 1, 'brath': 1, 'kayexak': 1, 'trazamin': 1, 'gerontololgi': 1, 'scheme': 1, 'arth': 1, 'kayexcel': 1, 'apsir': 1, 'resuspens': 1, 'tenosynov': 1, 'stabli': 9, 'hyperphospatemia': 1, 'retina': 1, 'hyoxemia': 1, 'sevalam': 2, 'cib': 2, 'hyperphosphotemia': 1, 'phosph': 1, 'suspcion': 1, 'zileuton': 1, 'timecours': 3, 'rocefin': 1, 'crx': 1, 'supsect': 1, 'rhocnher': 1, 'feverish': 2, 'trhough': 1, 'orthopn': 1, 'inhib': 1, 'leukotrien': 1, 'agma': 2, 'meformin': 1, 'treadmil': 1, 'nongap': 2, 'metiplex': 1, 'miplex': 1, 'softworb': 1, 'duodrem': 1, 'wrape': 1, 'cechet': 1, 'curlex': 1, 'antianxietolyt': 1, 'doribax': 1, 'bilster': 1, 'triplk': 1, 'levop': 1, 'ammonium': 1, 'pleomorph': 1, 'pulmomari': 3, 'hopwev': 1, 'bldcx': 1, 'sorftsorb': 1, 'liumen': 1, 'skeptic': 1, 'negx': 1, 'placeemtn': 1, 'pneumonboot': 1, 'biat': 1, 'dori': 1, 'serosangui': 1, 'coccobaccili': 1, 'darbopenem': 1, 'dbl': 1, 'cechect': 2, 'diffusedli': 1, 'auitopeep': 1, 'tracheomalcia': 1, 'properti': 3, 'peripeg': 1, 'plateu': 1, 'amykacin': 1, 'slideboard': 5, 'gran': 1, 'adpat': 1, 'clonapin': 1, 'vurrent': 1, 'hiold': 1, 'bumper': 1, 'bootsa': 1, 'throrac': 1, 'bronk': 1, 'toerlat': 1, 'peek': 1, 'ream': 1, 'macroadenoma': 1, 'moxifloxacin': 7, 'alzhiem': 1, 'hemithorac': 3, 'alzeim': 1, 'sellar': 1, 'hypochlorem': 1, 'demis': 3, 'remodel': 1, 'diuresd': 1, 'macradenoma': 1, 'arousbl': 1, 'thyoid': 1, 'hypogammaglobulinemia': 3, 'useless': 1, 'epithet': 1, 'inebri': 1, 'crede': 1, 'kneereplac': 1, 'orthopedist': 1, 'gabapenton': 1, 'pleurectomi': 1, 'gammaglobulinemia': 1, 'restricti': 1, 'carinatum': 1, 'collagen': 1, 'gabopentum': 2, 'obsess': 1, 'agiit': 1, 'appris': 1, 'oit': 1, 'dentist': 1, 'nonsept': 1, 'dignosi': 1, 'thorazin': 1, 'pectu': 2, 'hydroxyzin': 4, 'vistaril': 1, 'atelectai': 2, 'kneeleft': 1, 'salicyl': 1, 'osteonecrosi': 1, 'dust': 1, 'slam': 1, 'distruct': 1, 'unimpair': 1, 'hcg': 1, 'arthrocentesi': 2, 'febreil': 1, 'public': 4, 'psychotrop': 2, 'airtrap': 3, 'shirt': 1, 'bournwood': 1, 'phenazopyridin': 1, 'snap': 2, 'senapati': 1, 'ventericular': 1, 'lulobectomi': 1, 'duri': 3, 'repos': 1, 'expecetd': 1, 'septalectomi': 1, 'unexpect': 4, 'precuationsplan': 1, 'antimirobi': 1, 'completley': 1, 'turbinectomi': 1, 'hypercholeserolemia': 1, 'pastpt': 1, 'aceess': 1, 'isometr': 3, 'consistn': 1, 'dyskinesia': 1, 'complan': 1, 'mendehlson': 1, 'leukcytosi': 2, 'trespass': 1, 'disconcert': 1, 'sildenafil': 2, 'navi': 1, 'denser': 5, 'pride': 1, 'rhc': 3, 'renounc': 1, 'welcom': 2, 'cystiti': 4, 'tspn': 4, 'rythum': 1, 'prosatectomi': 1, 'uleg': 1, 'estat': 1, 'entail': 1, 'pericardialcenti': 1, 'beforehand': 1, 'hemetemesi': 1, 'abacavir': 2, 'tenofovir': 2, 'cdifff': 1, 'freeca': 1, 'slump': 1, 'huid': 1, 'pldh': 1, 'cte': 1, 'rrva': 1, 'propanalol': 1, 'schistocyt': 1, 'smv': 3, 'paracentisi': 1, 'inconti': 2, 'rehospit': 3, 'sticker': 4, 'opportunitist': 1, 'uln': 1, 'tbil': 1, 'sofa': 1, 'sldh': 1, 'capaci': 1, 'gastroview': 1, 'cmrepeat': 1, 'radiologymaureen': 1, 'vdrf': 1, 'olt': 3, 'repes': 1, 'disea': 2, 'ptft': 1, 'brachiocepahl': 1, 'gastro': 1, 'surgeru': 1, 'resi': 1, 'consolodi': 1, 'refilm': 1, 'txp': 2, 'dohboff': 1, 'otiti': 1, 'crystalloid': 2, 'media': 1, 'toxoplamosi': 1, 'hemotocrit': 1, 'thalassemia': 1, 'nurseri': 1, 'cefaclor': 1, 'asss': 1, 'nifediipin': 1, 'ceclor': 1, 'predescrib': 1, 'mycin': 2, 'inforc': 1, 'beign': 2, 'aztrenam': 1, 'effusi': 1, 'undo': 1, 'raynoid': 1, 'bicycl': 1, 'intrinis': 1, 'cannabi': 1, 'cannibu': 1, 'ajust': 2, 'admtt': 1, 'eu': 1, 'sizewis': 1, 'bumpi': 1, 'cannabinoid': 1, 'sertalin': 1, 'antidep': 1, \"leni'\": 1, 'valcyt': 3, 'uip': 4, 'valcyclovir': 1, 'incontint': 1, 'incontinac': 1, 'anxou': 1, 'subarachanoid': 1, 'welder': 1, 'macroph': 1, 'ceftraiaxon': 1, 'faecal': 1, 'thump': 1, 'hepe': 1, 'herps': 1, 'aeipf': 1, 'valgancyclovir': 2, 'vangcyclovir': 1, 'valacyclovir': 1, 'bronchoscpi': 1, 'parathesia': 1, 'arachynoid': 1, 'acetylcystin': 2, 'atiavan': 1, 'heppa': 1, 'neagtiv': 1, 'sidedweak': 1, 'uk': 2, 'eospinophilia': 1, 'amitiptyllin': 1, 'abpa': 1, 'pansinusitu': 1, 'librari': 1, 'pck': 1, 'ctdz': 1, 'aneurysn': 1, 'silicosi': 1, 'reop': 1, 'cep': 1, 'diagsnosi': 1, 'invovel': 1, 'precip': 1, 'librarian': 1, 'myxomat': 1, 'suspician': 2, 'wold': 1, 'brocnhoscopi': 1, 'rhiniti': 2, 'reapir': 1, 'condensan': 1, 'prevoid': 1, 'ilii': 1, 'midclavicular': 4, 'osteiti': 1, 'adjacebt': 1, \"morning'ha\": 1, 'nomin': 1, 'sjbj': 5, 'fissu': 1, 'sugesst': 1, 'glan': 1, 'patial': 1, 'shortn': 3, 'hyperton': 2, 'temporali': 1, 'inping': 1, 'calvari': 1, 'trig': 3, 'seas': 1, 'seiszur': 1, 'mediatinum': 1, 'suclavian': 1, 'effsuion': 1, 'dendrit': 1, 'micromass': 1, 'evdeic': 1, 'encephlopath': 1, 'flextur': 2, 'pachymening': 4, 'lm': 2, 'destrucitv': 1, 'heaven': 1, 'mesial': 2, 'rxcg': 1, 'rrc': 1, 'seasion': 1, 'obstrut': 1, 'threaten': 3, 'rveal': 1, 'autism': 1, 'fosphenytoin': 1, 'odynophagia': 4, 'sciatica': 1, 'hyponutremia': 1, 'sunitinib': 1, 'autist': 1, 'scull': 1, 'legfor': 1, 'orthogon': 2, 'medistiastinum': 1, 'upstair': 3, 'aortopulmon': 1, \"perf'\": 1, 'indirect': 3, 'enterographi': 1, 'twelfth': 1, 'tenth': 2, 'sigmoidoscopi': 1, 'microcytosi': 1, 'proctoscopi': 1, 'volvulu': 4, 'hyperem': 1, 'narrowest': 1, 'eleventh': 1, \"grave'\": 1, 'readress': 1, 'radioi': 1, 'atribut': 1, 'erectil': 1, 'radioact': 2, 'predict': 3, 'cholecalciferol': 3, 'magnum': 1, 'tachcyardia': 1, 'unwilling': 1, 'pallidu': 1, 'cth': 2, 'postcontrast': 1, 'thourough': 1, 'melen': 1, 'gyriform': 1, 'signifi': 1, 'lllasp': 1, 'tonsilar': 1, 'microhemorrhag': 2, 'robust': 6, 'modax': 2, 'adc': 4, 'udergo': 1, 'laparatomi': 1, 'enzyem': 1, 'grd': 1, 'oversew': 1, 'ipsilater': 1, 'hypoaesthesia': 1, 'infero': 3, 'refut': 1, 'postcentr': 1, 'sew': 1, 'predispos': 4, 'flak': 1, 'reismann': 1, 'globu': 1, 'hba': 5, 'tonsillar': 1, 'dysfuct': 2, 'arbout': 1, 'gyru': 2, 'gastrotomi': 2, 'reivew': 1, 'laryngoscopi': 2, 'overnigh': 1, 'volu': 1, 'wocrn': 1, 'flatter': 2, 'inatak': 1, 'coursa': 1, 'mulitfoc': 1, 'repsositio': 1, 'axon': 2, 'lactolas': 1, 'ppli': 1, 'polymyoneuropathi': 1, 'necktar': 1, 'gentler': 1, 'hoy': 1, 'restlessli': 1, 'patientnafcillin': 1, 'lecopenia': 1, 'agres': 1, 'deltoid': 2, 'humiditifi': 1, 'abilti': 1, 'recordsnafcillin': 1, 'propofaol': 1, 'delist': 1, 'propranolol': 1, 'intrac': 1, 'crtical': 1, 'hempdynam': 2, 'followl': 1, 'depelt': 1, 'propel': 1, 'eslc': 1, 'perisepsi': 1, 'intracerebr': 2, 'chirossi': 1, 'swall': 1, 'boat': 1, 'inclement': 1, 'compelt': 1, 'polymyopathi': 1, 'thiock': 1, 'mmt': 6, 'polyneuropathi': 3, 'overlaod': 2, 'fascicul': 1, 'valuat': 1, 'pterygoid': 1, 'nephriti': 1, 'heterotopia': 1, 'guac': 1, 'pge': 1, 'bradykinet': 1, 'spesi': 1, 'elsd': 1, 'chirrosi': 1, 'fse': 1, 'varici': 1, 'iadl': 2, 'neosynephin': 1, 'bedridden': 1, 'lactuols': 1, 'weanign': 1, 'nadalol': 1, 'approximatli': 1, 'electrophysiolog': 1, 'stm': 2, 'safer': 1, 'encpehalopath': 1, 'nmed': 3, 'elb': 1, 'leucopenia': 1, 'harvest': 2, 'difficuolt': 1, 'hypovolm': 1, 'devi': 1, 'meropenenem': 1, 'myoclon': 3, 'adequaci': 2, 'withsept': 1, 'initati': 1, 'hitler': 1, 'epicondyl': 2, 'indent': 3, 'intradur': 2, 'dfif': 1, 'mercuri': 1, 'ammoni': 1, 'hydroxyzon': 1, 'intemitt': 1, 'apach': 1, 'citri': 1, 'guanifensin': 1, 'desonid': 1, 'isir': 1, 'prognost': 1, 'sclen': 1, 'patientmercuri': 1, 'lactact': 2, 'geritrician': 1, 'hypoixia': 1, 'orba': 1, 'sweetcorn': 1, 'isdn': 2, \"parkinson'\": 1, 'parksinson': 1, 'strikingli': 1, 'nephrolithotomi': 1, 'processbi': 1, 'hlp': 1, \"romi'\": 1, 'oncomycosi': 1, \"pcp'\": 1, 'irbesartan': 1, 'effius': 1, 'jam': 1, 'concerngin': 1, 'hga': 3, 'avapro': 1, 'xygen': 1, 'fyi': 2, 'promis': 3, 'flower': 2, 'minax': 2, 'hyperalgesia': 2, 'thrombocytopen': 2, 'rss': 1, 'schmerzther': 1, 'roto': 1, 'shd': 3, 'notfallm': 1, 'nmda': 1, 'pron': 1, 'nur': 1, 'portugues': 3, 'unsatgebal': 1, 'anathesiol': 1, 'pneumomedistin': 1, 'tward': 1, 'prcv': 1, 'feedback': 1, 'doxicyclin': 2, 'hantaviru': 1, 'mkm': 1, 'cvm': 1, 'lcm': 1, 'crosstoler': 1, 'limt': 1, 'doee': 1, 'chart^': 1, 'eichinococcu': 1, 'mve': 1, 'mlhr': 1, 'eosionphil': 1, 'cart': 3, 'trendelenberg': 3, 'mgc': 1, 'intrapulmonari': 6, 'elvev': 1, 'pneumonmediastinum': 1, 'anest': 1, 'rotapron': 1, 'mucl': 1, 'critici': 1, 'flashback': 1, 'annum': 1, 'algorhythm': 1, 'maxax': 2, 'respriatori': 7, 'variablil': 1, 'intensivm': 1, 'pvk': 1, 'entamoeba': 1, 'sye': 1, 'ctg': 4, 'modb': 1, 'raidal': 2, 'aemia': 1, 'clin': 2, 'glragin': 1, 'mosit': 1, 'echinococcu': 1, 'wriggl': 1, 'oncol': 1, 'weel': 1, 'hyoglycemia': 1, 'tryadyn': 1, 'patiient': 1, 'anesthesiolog': 1, 'secanodari': 1, 'rotopron': 2, 'mcafungin': 1, 'pylostomi': 1, 'calyx': 1, 'anesthesiologist': 1, 'nephrotomi': 1, 'replc': 1, 'sillhouhett': 1, 'aanterior': 1, 'solitari': 5, 'anteroposterior': 1, 'neoesophagu': 1, 'falciform': 2, 'obstruc': 1, 'dypspnea': 1, 'pneumonvax': 1, 'rheumatologist': 1, 'minimun': 1, 'cvid': 2, 'provoc': 1, 'rattli': 2, 'butun': 1, 'bellow': 1, 'floromethalon': 1, 'ipr': 1, 'subjac': 1, 'remid': 1, 'fliuid': 1, 'dimentia': 1, '^rdl': 1, 'abv': 1, 'sohx': 1, 'whirl': 1, 'guifensien': 1, 'bilroth': 1, 'dir': 2, 'hydroxid': 5, 'actuat': 2, 'bairhugg': 1, 'claclium': 1, 'novolin': 2, 'eventr': 2, 'olsetamivir': 1, 'baker': 1, 'pectic': 1, 'cutlur': 4, 'fahx': 1, 'mgmnt': 1, 'estgfr': 1, 'pseudoobstruct': 1, 'bronchoconstrict': 1, 'chewabl': 3, 'farr': 1, 'sphincterotomi': 1, 'myofasci': 1, 'unremarakbl': 1, 'eelvat': 1, 'piroxicam': 1, 'hypoventili': 1, 'epzicom': 1, 'reyataz': 1, 'narcoti': 1, 'hprn': 1, 'mep': 1, 'atazanavir': 1, 'deleriumt': 1, 'rpaid': 1, 'qual': 1, 'lactuls': 1, 'pint': 1, 'coff': 1, 'emei': 1, 'cig': 2, 'tremen': 2, 'bucket': 1, 'donut': 1, 'deprees': 1, 'whc': 1, 'umen': 1, 'signic': 1, 'pneumonianow': 1, 'hopefuil': 1, 'epilecticu': 1, 'flumenazil': 1, 'cotninu': 2, 'ism': 1, 'clininc': 1, 'mens': 2, 'duie': 1, 'immodium': 3, 'pyeloplasti': 1, 'decorticaiton': 1, 'multicoc': 1, 'nteract': 1, 'tld': 1, 'antidepend': 1, 'improvt': 2, 'grp': 1, 'trilob': 1, 'hyropneumothorax': 1, 'unidentifi': 2, 'dysarththia': 1, 'thallasemia': 1, 'pnanot': 1, 'farmer': 1, 'stumbl': 1, 'gfamili': 1, 'dyarthria': 1, 'vmr': 1, 'cefapem': 1, 'uplift': 1, 'stube': 1, 'curl': 8, 'arisen': 1, 'uniform': 2, 'desipramin': 1, 'afford': 2, 'intertrigo': 1, 'leginonella': 1, 'fllow': 1, 'affor': 1, 'caffien': 1, 'becsu': 1, 'fiorin': 1, 'vasculartur': 1, 'dehyr': 1, 'chroninc': 1, 'tongith': 1, 'consolidatioin': 1, 'signai': 1, 'metforman': 1, 'hepatobiliari': 4, 'underi': 1, 'utter': 2, 'cigar': 1, 'quinadin': 1, 'schwannoma': 2, 'dofetillid': 1, 'gradulli': 1, 'sgift': 1, 'toprolol': 1, 'epistaxsi': 1, 'hssi': 3, 'plale': 1, 'silhoutt': 1, 'crash': 1, 'excor': 1, 'land': 1, 'dysfunt': 1, 'cbg': 3, 'shapr': 1, 'condens': 1, 'enxt': 1, 'kayaxel': 1, 'glomerulonephr': 2, 'stereotact': 1, 'intratubular': 1, 'puplmonari': 1, 'ralesb': 1, 'hyperphosphatemia': 2, 'ducolox': 1, 'toleran': 1, 'inout': 1, 'bdg': 1, 'postvoid': 1, 'mirolax': 1, 'varix': 1, 'spleno': 2, 'splenoport': 1, 'cementoplasti': 1, 'rightr': 1, 'pseudoarthrosi': 1, 'bronchiolar': 3, 'ankylos': 1, 'spondyl': 1, 'opacitii': 1, 'currnetli': 1, 'conceal': 2, 'obtur': 1, 'sorbitol': 1, 'levl': 1, 'fliter': 1, 'pyschosi': 1, 'opteas': 3, 'consitp': 1, 'contsip': 1, 'hemiperisi': 1, 'brim': 1, 'patientprednison': 1, 'leukodytosi': 1, 'gonald': 1, 'monitori': 1, 'intravertebr': 1, 'addomen': 1, \"'better\": 1, 'theresid': 2, 'resiz': 1, 'subarrachnoid': 1, 'overfe': 2, 'hystrectomi': 1, 'hyerkalemia': 1, 'galss': 1, 'hospitalizait': 1, 'liklihood': 1, 'aiha': 1, 'preme': 1, 'histroy': 3, 'pnau': 1, 'onppi': 1, 'zosn': 1, 'pleuridex': 1, 'rituxan': 1, 'aihi': 1, 'inard': 1, 'px': 3, 'hypogammaglobinemia': 1, 'bedamustin': 1, 'acycolovir': 1, 'atelectatsi': 1, 'pansinu': 1, 'lsinoprel': 1, 'duaghter': 1, 'slntg': 2, 'fcn': 1, 'spustum': 1, 'dysf': 1, 'arang': 1, 'stablliz': 1, 'bluid': 2, 'subgal': 2, 'holosystol': 3, 'arl': 1, 'cratinin': 1, 'migratori': 1, 'shilouett': 1, 'evenli': 1, 'exceedingli': 1, 'proportio': 1, 'overestim': 2, 'raynaud': 1, 'isnorm': 1, 'satuat': 1, 'imapir': 1, 'sefl': 1, 'aarom': 1, 'techngu': 1, 'feso': 3, 'naf': 2, 'whiff': 1, 'frigidi': 1, 'extrmeitii': 1, 'surv': 2, 'diuresesi': 1, 'ical': 1, 'catecholami': 1, 'contamini': 1, 'finesterid': 1, 'nafcililn': 1, 'reintubt': 1, 'patientlidocain': 1, 'cefetriazidim': 1, 'mirco': 1, 'comporomis': 1, 'catecholamin': 1, 'extremu': 1, 'vcabg': 1, 'hepb': 1, 'buyt': 1, 'hypophon': 1, 'laq': 2, 'fmssa': 1, 'uee': 1, 'flonas': 2, 'aneurism': 1, 'macaroni': 1, 'spbt': 1, 'resons': 2, 'atlectesi': 1, 'dsitress': 1, 'isorhythm': 1, 'dissoci': 1, 'neoesophag': 1, 'fentanyla': 1, 'bidew': 1, 'morphinel': 1, 'lomictil': 1, 'normo': 3, 'prelmininari': 1, 'antoibiot': 1, 'porch': 1, 'msntal': 1, 'levoflaoxin': 1, 'betaseron': 1, 'borderl': 1, 'millimetr': 2, 'heteregen': 2, 'groshung': 1, 'dextroconvex': 2, 'additino': 1, 'radio': 4, 'opacificaton': 1, 'anchor': 1, 'magna': 2, 'ajnd': 1, 'cisterna': 2, 'cariat': 1, 'alkalsosi': 1, 'ult': 1, 'plana': 1, 'inexpect': 1, 'teanaou': 1, 'mepelex': 1, 'multidisicplinari': 1, 'tapabl': 1, 'bacj': 2, 'mulitdisciplinari': 1, 'nio': 1, 'respiaratori': 1, 'dysnychromi': 1, 'mycocardi': 1, 'deffrer': 1, 'impedi': 2, 'unexpectedli': 1, 'proir': 1, 'dnh': 2, 'descid': 2, 'genesi': 1, 'bpmaintain': 1, 'aceiv': 1, 'negativebal': 1, 'bankart': 1, 'levoxacin': 1, 'egfr': 3, 'resrict': 1, 'cardiazem': 1, 'uterotomi': 1, 'prcocet': 1, 'talli': 1, 'teanm': 1, 'street': 2, 'somewher': 1, 'trazdon': 1, 'increaseili': 1, 'nake': 2, 'beng': 1, 'clilnic': 1, 'thiamain': 1, 'pantri': 1, 'macdonald': 1, 'beverag': 2, 'atlectasi': 3, 'agita': 1, 'percardi': 1, 'pleurx': 3, 'smalll': 1, 'slthough': 1, 'subclaviam': 1, 'condyl': 2, 'torqu': 1, 'seeen': 1, 'choyk': 3, \"cxr'\": 1, 'othervis': 2, 'erlotinib': 1, 'lifetim': 1, 'spinemetastas': 1, 'afsn': 3, 'ismo': 1, 'metorrolol': 1, 'lisinopriltoler': 1, 'dand': 1, 'outputbun': 1, 'triamteren': 2, 'rode': 1, 'successs': 1, 'clime': 1, 'sinia': 1, \"bartter'\": 1, 'abxif': 1, 'msk': 3, 'havewith': 1, 'lenient': 1, 'murmer': 3, 'feeder': 1, 'aortobifemor': 1, 'bronchodi': 1, 'startw': 1, 'hypecapnia': 1, 'hyperaldo': 1, 'tremain': 1, 'ribcag': 1, 'branow': 1, 'amphysema': 1, 'subliguin': 1, 'holder': 2, 'alkali': 1, 'uro': 1, \"bs'\": 3, 'exogen': 1, 'placent': 1, 'posthypercapnia': 1, 'rhaspi': 1, \"copd'er\": 1, 'gitelman': 1, 'comtamin': 1, 'urethra': 2, 'hypok': 1, 'fasoli': 1, 'pepicd': 1, 'pcm': 2, 'notori': 1, 'albulmin': 1, 'mesothelioma': 1, 'urether': 1, 'influenc': 3, 'actiiv': 1, 'procainamid': 1, 'amlitud': 1, 'predisposit': 2, 'projectil': 2, 'electropheresi': 1, 'nasophareng': 1, 'hpothyroid': 1, 'rlsb': 1, 'intfiltr': 1, 'neehdam': 1, 'fagitu': 1, 'toy': 1, 'approximatley': 1, 'endogastr': 2, 'chagn': 3, 'tricupsid': 1, 'suspiscion': 1, 'reasonbl': 1, 'doeswel': 1, 'robotussin': 1, 'mobila': 1, 'dyfunct': 1, 'coumaidn': 1, 'mitrial': 1, 'sihgtli': 1, 'tricusp': 1, 'spiromitri': 1, 'rewiev': 1, 'antimicribi': 2, 'guiafisen': 1, 'nest': 1, 'mobilix': 1, 'guiafisin': 1, 'vactiv': 1, 'inspiritori': 1, 'bleedi': 1, 'intend': 5, 'clodidin': 1, 'lipm': 1, 'rcvd': 1, 'pharyn': 1, 'asix': 1, 'unnessari': 1, 'holo': 1, 'colllaps': 1, 'arimidex': 2, 'catapr': 1, 'unenthusiast': 1, 'collasps': 2, 'bpmed': 1, 'fruther': 1, 'mirilax': 1, 'alzhem': 1, 'alezhiem': 1, 'antihyperglycem': 1, 'clozaril': 2, 'anerob': 1, 'jolt': 1, 'levaph': 1, 'setment': 1, 'ileiti': 1, 'periport': 2, 'painclin': 1, 'diarrheaclin': 1, 'mesent': 1, 'tributari': 2, 'rmlobectomi': 1, 'rllobectomi': 1, 'rmlobe': 1, 'extremtli': 1, 'capaicti': 1, 'asthmaticu': 1, 'harshcough': 1, 'receov': 1, 'epress': 2, 'precaust': 1, 'hypercarbi': 1, 'atop': 1, 'hyperten': 1, 'solumedeol': 1, 'rmatiti': 1, 'rhythmic': 1, 'attribuatlb': 1, 'spina': 1, 'continueud': 1, 'psychogen': 2, 'divers': 2, 'bifida': 1, 'repor': 1, 'wihoutout': 1, 'peristom': 1, 'twin': 1, 'melon': 1, 'crutch': 1, 'tibiotalar': 1, 'peronei': 1, 'metaphysi': 1, 'pulem': 1, 'eyeh': 2, 'hemifraphragm': 1, 'osbuscr': 1, 'tricsupid': 1, 'retens': 3, 'lyphangt': 1, 'threshol': 1, 'vacat': 2, 'elevatin': 1, 'thoracentsi': 1, 'talc': 2, 'crhonic': 1, 'resampl': 1, \"wbc'\": 1, 'cronic': 1, 'ffectiv': 1, 'reticulonodular': 1, 'hypoventialt': 1, 'chylou': 1, 'mgpo': 2, 'triglyc': 1, 'nrbc': 2, 'pleuradesi': 2, 'zanax': 1, 'motnior': 1, 'nppvand': 1, 'accodringli': 1, 'bigger': 3, 'imprvo': 1, 'adjuv': 1, 'chord': 1, 'laryngocel': 1, 'rosenmul': 1, 'regurit': 1, 'venetricular': 1, 'erst': 1, 'mechin': 1, 'paetnci': 1, 'foloey': 1, 'miser': 1, 'andincreas': 1, 'decreasedurin': 1, 'isulin': 1, 'weanto': 1, 'hate': 2, 'disucss': 1, 'remp': 1, 'meropenun': 1, 'monostat': 1, 'postivi': 1, 'merapenum': 1, 'famoticidin': 1, 'unneccessari': 1, 'woudl': 2, 'unsuccessful': 1, 'merrem': 1, 'desynchron': 1, 'tolerainc': 1, 'aslix': 1, 'abio': 1, 'nitrou': 2, 'rhythem': 1, 'abdominopelv': 2, 'amlodopin': 1, 'ino': 2, 'isssu': 1, 'seconday': 1, 'nrrr': 2, 'permavir': 1, 'tachyc': 1, 'cahneg': 1, 'profession': 1, 'risbio': 1, 'nowt': 1, 'furosimid': 1, 'gemfibrozil': 1, 'lash': 1, 'decreaas': 1, 'dy': 4, 'compatibel': 1, 'adjec': 1, 'initit': 1, 'intpret': 1, 'flicker': 1, 'andp': 1, 'murmu': 1, 'peramivir': 1, 'acetazolimid': 1, 'softi': 1, 'famotadin': 2, 'flewxis': 1, 'flitter': 1, 'ibili': 1, 'paramavir': 1, 'chlorehex': 1, 'olanzaoin': 1, 'culturt': 1, 'racepinephrin': 2, 'mistak': 1, 'anticio': 1, 'swiych': 1, 'axiila': 1, 'lastli': 2, 'thoraco': 1, 'evercar': 1, 'rhochor': 3, 'nimbex': 1, 'versedearli': 1, 'hypertriglyceridemia': 2, 'coronaryclip': 1, 'extracharg': 1, 'misregistr': 1, 'morph': 1, 'extracardiac': 1, 'gate': 3, 'corevalv': 1, 'highgat': 1, 'foun': 1, 'spontaneo': 1, 'afffect': 1, 'desquamit': 1, 'intravasc': 2, 'silverden': 1, 'tranmit': 1, 'obstruciton': 1, 'newlli': 1, 'fecul': 1, 'comorbid': 5, 'silvaden': 1, 'unrespos': 1, 'haemolys': 1, 'rrla': 1, 'secretari': 1, 'athrosclerosi': 1, 'lazix': 1, 'sensitiv': 1, 'hxhap': 1, 'uncreas': 1, 'silvidin': 1, 'elctorlyt': 1, 'emograph': 1, 'trachwostomi': 1, 'therfor': 1, 'minimallli': 1, 'lill': 1, 'sklill': 1, 'rectis': 1, 'ilw': 2, 'hyporact': 1, 'veinou': 1, 'inxn': 1, 'desquam': 2, 'pupli': 1, 'possibilit': 2, 'sulfadiazin': 1, 'meetin': 2, 'diatal': 1, 'ftom': 1, 'counteract': 1, 'irrevers': 1, 'hoock': 1, 'maliganaci': 1, 'saag': 1, 'maculopapular': 5, 'intertrigin': 1, 'andtibiot': 1, 'subcu': 1, 'likelyhood': 1, 'psl': 1, 'intertriginu': 1, 'encourab': 1, 'cavitatari': 1, 'urti': 1, 'apathet': 2, 'adept': 1, 'reli': 3, 'setrt': 1, 'allso': 1, 'fhph': 1, 'cidp': 1, 'cipd': 1, 'cavi': 1, 'humolog': 1, 'neumonia': 2, 'deceid': 1, 'fortuit': 1, 'mistreat': 1, 'guaiaic': 2, 'venitil': 2, 'revisu': 1, 'painless': 1, 'conjunctivi': 1, 'freguent': 1, 'rase': 1, 'scrub': 2, 'pathway': 2, 'hibiclen': 2, 'xc': 3, 'pediatrian': 1, 'svi': 1, 'folowup': 1, 'thte': 1, 'tempropariet': 1, 'clearl': 1, 'notari': 1, 'myelomalacia': 1, 'cpao': 1, 'alkpho': 3, 'umcomfort': 1, 'neuroforamin': 1, 'meplix': 1, 'eleimin': 1, 'prnding': 1, 'hemoperitoneum': 1, 'giardia': 1, 'meningocel': 1, 'dtage': 1, 'moonlight': 1, 'dispit': 1, 'shnge': 1, 'tachytachypena': 1, 'rev': 1, 'fund': 1, 'bugl': 1, 'anteroinferior': 1, 'pursuit': 1, 'airbag': 1, 'stae': 1, 'tarlov': 1, 'mvc': 3, 'symtomat': 2, 'frx': 1, 'sourceunlik': 1, 'neurosurg': 5, 'lungsrhocher': 1, 'ppresent': 1, 'notar': 1, 'patc': 1, 'rheumatalog': 1, 'quadreplegia': 1, 'relateddt': 1, 'neurosug': 1, 'historyand': 1, 'psm': 1, 'unecessari': 1, 'bronciectesi': 1, 'alheim': 1, 'ronchuou': 1, 'diaviat': 1, 'vommit': 2, 'antibito': 2, 'singnific': 1, 'lnr': 1, 'multlipl': 1, 'imprssion': 1, 'hbga': 1, 'promient': 1, 'timelin': 1, 'pernin': 1, 'snif': 3, 'gastrointenstin': 1, 'porit': 1, 'admisis': 1, 'appopria': 1, 'depleat': 1, 'bloodshot': 2, 'parenhcyma': 1, 'gurgel': 1, 'successfuli': 1, 'macrocytosi': 1, 'orophar': 2, 'bancemia': 1, 'hyperlimidemia': 1, 'hemidriagphram': 1, 'infilitr': 2, 'downgrad': 1, 'pur': 1, 'rcxr': 1, 'novemeb': 1, 'unkonwn': 1, 'unkown': 2, 'hypetens': 1, 'hydrocortisol': 1, 'pyridium': 1, 'amyloidosi': 1, 'ischmic': 1, 'benc': 1, 'shigella': 1, 'hypocortisol': 1, 'transloc': 2, 'chemotherpay': 1, 'tndr': 1, 'samonella': 1, 'artefact': 3, 'thoracoplasti': 2, 'chnge': 1, 'macroscop': 1, 'poteni': 1, 'contend': 1, 'postradi': 1, 'suffoc': 3, 'fume': 1, 'heaviest': 1, 'periesophag': 1, 'march': 2, 'mwm': 2, 'juxtaren': 1, 'arc': 1, 'academ': 1, 'multidisciplnari': 1, 'breeth': 1, 'desk': 1, 'methemoglobinemia': 1, 'serrat': 1, 'visibil': 1, 'cooximetri': 1, 'numerour': 1, 'methehemoglobinemia': 1, 'ged': 1, 'thyromeg': 2, 'circumor': 1, 'esopheg': 1, 'candidiasi': 3, 'avrt': 1, 'unhelp': 1, 'entrant': 1, 'nortriptyllin': 1, 'rebah': 1, 'concert': 1, 'addison': 1, 'asympomat': 1, 'asnwer': 1, 'avnrt': 3, 'repart': 1, 'svcbrachiocephal': 1, 'mztb': 1, 'congruenc': 1, 'trochlear': 1, 'radiocapitellar': 1, 'differeti': 1, 'osteosclerot': 2, 'rvh': 1, 'vnon': 1, 'parainflu': 1, 'thiazid': 1, 'jild': 1, 'yestderday': 1, 'derlium': 1, 'tuna': 2, 'withsever': 1, 'stneosi': 1, 'hypoglyecem': 1, \"alzhiemer'\": 1, 'hypersensitivit': 1, 'rhf': 1, 'violenc': 1, 'robberi': 1, 'cirrhoit': 1, 'hallucinosi': 1, 'barret': 1, 'gallon': 1, 'neurvascularli': 1, 'sib': 1, 'murder': 1, 'pilori': 1, 'outpatietn': 1, 'atm': 1, 'retroact': 1, 'stratif': 1, 'bail': 1, 'sweatimg': 1, 'bush': 1, 'sacrific': 1, 'concomitt': 1, 'decidedli': 1, 'stonosi': 1, 'benardyl': 1, 'uncharacterist': 1, 'aandox': 1, 'garag': 1, 'apnoea': 1, 'sope': 1, 'dyspnoea': 1, 'bkr': 2, 'enco': 1, 'talonavicular': 1, 'crackel': 3, 'capnocytophagia': 1, 'hypoadren': 1, 'capnocytophaga': 1, 'histoplasmosi': 1, 'placeement': 1, 'hypenatremai': 1, 'hrx': 1, 'nonbloodi': 1, 'elevart': 1, 'nbnb': 1, 'hemondynam': 1, 'sweep': 1, 'klebsiela': 1, 'hyporthyroid': 1, 'friction': 2, 'aduibl': 1, 'tonsilectomi': 1, 'pneumobilia': 3, 'dil': 2, 'pasv': 2, 'privileg': 1, 'fwf': 1, 'clacium': 1, 'requip': 1, 'recult': 1, 'cimetidin': 1, 'hemodynamm': 1, 'tobramcyin': 1, 'tachypnc': 1, 'amakacin': 1, 'tagamet': 1, 'antiparkinsonian': 1, 'carbapenem': 4, 'inal': 1, 'acinobact': 1, 'infetcion': 1, 'anasrca': 1, 'colisitina': 1, 'amikasin': 1, 'collistin': 1, 'perid': 1, 'fondaparinux': 1, 'cholestasi': 4, 'jllw': 1, 'inhaledq': 1, 'hat': 1, 'acineterbact': 1, 'colstin': 1, 'wherebi': 2, 'chane': 2, 'desimpact': 1, 'withfev': 1, 'toxicitiy': 1, 'moliz': 1, 'acteremia': 1, 'durind': 1, 'cinemet': 2, 'gpcocci': 1, 'staphylococci': 2, 'hypotenst': 1, 'autodiureisi': 1, 'baumannii': 1, 'fonduparinox': 1, 'traceostomi': 1, 'owner': 3, 'creatini': 1, 'fondaparinox': 1, 'acenitobact': 1, 'mayi': 1, 'hopspial': 1, 'veggi': 1, 'copnt': 1, 'colisitn': 1, 'tream': 1, 'stressor': 1, 'cnst': 1, \"plateau'd\": 1, 'bisocadyl': 1, 'pseudoman': 1, 'acinitobact': 1, 'fondaparinoux': 1, 'fondaprinux': 1, 'fondaparineux': 1, 'effuion': 1, 'discount': 1, 'fondaparenox': 1, 'wtith': 1, 'ariv': 1, 'rhocnhor': 1, 'syntrhoid': 1, 'panscan': 1, 'eblow': 1, 'compliat': 1, 'patienttagamet': 1, 'nrsa': 1, 'dcing': 1, 'aggess': 1, 'acinetobactor': 1, 'colestin': 1, 'colisitin': 1, 'fondapaurinox': 1, 'intermiitt': 1, 'bovona': 1, 'hypnatremia': 1, 'ropinirol': 1, 'recycl': 1, 'gegtaion': 1, 'bovi': 1, 'aoritc': 1, 'detrusor': 1, 'sill': 1, 'unforunt': 1, 'heidiaph': 1, 'nit': 3, 'tracheosotomi': 1, 'psotiv': 1, 'icub': 1, 'amicacin': 1, \"babinksi'\": 1, 'amikacina': 1, 'carbacephem': 2, 'restaur': 2, 'pvv': 1, 'ropirnol': 1, 'vegetataion': 1, 'aci': 2, 'artain': 1, 'antiboiod': 1, 'pizzaria': 1, 'micor': 1, 'levidopa': 1, 'untll': 1, 'heha': 1, 'infiltrat': 1, 'carita': 2, 'fondoparinaux': 1, 'debulk': 1, 'expansil': 1, 'vast': 1, 'movent': 1, 'chrome': 1, 'atmosair': 1, 'limitng': 1, 'morohin': 1, 'meriplex': 1, 'mutipodu': 1, 'fistu': 1, 'fistual': 1, 'enthesopathi': 1, 'tricompartment': 1, 'fluorodeoxyglucos': 2, 'suvmax': 1, 'ostearthr': 1, 'emiss': 2, 'esophagotrach': 1, 'entesophyt': 1, 'glucomet': 2, 'bronchoesophag': 1, 'salivari': 2, 'precent': 1, 'organz': 1, 'fibros': 2, 'mensenter': 1, 'pave': 1, 'solvent': 1, 'tachycrad': 1, 'unaoutput': 1, 'seroqeil': 1, 'qwk': 1, 'appeal': 2, 'psychic': 1, 'spreadsheet': 1, 'inftrat': 1, 'crti': 1, 'seroqeul': 1, 'ucl': 1, 'tmask': 1, 'trednign': 1, 'respind': 1, 'qweekli': 1, 'mehtoadon': 1, 'attritub': 1, 'autopeep': 3, 'woirsenign': 1, 'siad': 1, 'pmc': 1, 'sedation^': 1, 'minib': 3, 'quietipin': 1, 'malox': 1, 'ptbd': 1, 'wahs': 1, 'darunavir': 1, 'revela': 1, 'miniz': 1, 'teenag': 1, 'quietiapin': 1, 'noectopi': 1, 'ritonivir': 1, 'bolusof': 1, 'cortsintropin': 1, 'restabil': 1, 'faqilur': 1, 'modear': 1, 'groggi': 1, 'hm': 1, 'phynelephrin': 1, 'imped': 3, 'blackberri': 2, 'affer': 2, 'interdispers': 1, 'uninterrupt': 2, 'fastest': 1, 'wihen': 1, 'fior': 1, 'addednum': 1, 'kollef': 1, 'bristl': 1, 'orophargyng': 1, 'throuhg': 1, 'crae': 1, 'pvm': 1, 'duploff': 1, 'phenyephrin': 2, 'freshli': 1, 'lminim': 1, 'linsinopril': 1, 'biplanar': 1, 'dexder': 1, 'thoroughli': 2, 'cholangiopathi': 1, 'adedd': 1, 'mpove': 1, 'osmolar': 2, 'snort': 2, 'surreal': 1, 'breakthough': 1, 'remina': 1, 'hepatotox': 2, 'ballot': 1, 'satisfi': 3, 'serquel': 1, 'hypothesi': 1, 'human': 5, 'incongru': 1, 'brinch': 1, 'mout': 1, 'downmini': 1, 'butopen': 1, 'diaphgragm': 1, 'emtricitabin': 1, 'pedifeed': 1, 'reliv': 1, 'improvo': 1, 'ceil': 1, 'xcr': 1, 'quetapin': 1, 'prefus': 1, 'roadblock': 1, 'prepylor': 1, 'bicrab': 1, 'decruit': 1, 'mildili': 1, 'intertwin': 1, 'clother': 1, 'pharmacokinet': 1, 'siahd': 1, 'thearapi': 1, 'mess': 1, 'liais': 1, 'onboard': 1, 'sreat': 1, 'uosm': 1, 'mirror': 1, 'gungal': 1, 'ethomid': 1, 'cultr': 1, 'ssdi': 1, 'anit': 1, 'qualit': 1, 'maxiallari': 1, 'concerntrt': 1, 'truvada': 1, 'bou': 1, 'propylen': 1, 'alphabet': 2, 'stillrequir': 1, 'mpore': 1, 'transaminti': 1, 'hypxoem': 1, 'brnch': 1, 'folllw': 2, 'predat': 1, 'msm': 1, 'lipemia': 1, 'ucr': 1, 'cumul': 1, 'vavlular': 1, 'tandem': 1, 'darunovir': 1, 'gurgli': 1, 'sedationd': 1, 'monocytosi': 1, '^^sedat': 1, 'choli': 1, 'psychotherapi': 4, 'lcmv': 1, 'seratralin': 1, 'paraly': 1, 'errythemat': 1, 'morp': 1, 'peliv': 1, 'img': 1, 'antimicorbi': 1, 'babesia': 1, 'orgin': 1, 'overf': 1, 'rohila': 2, 'coxiella': 1, 'rhocncher': 2, 'transillumin': 1, 'dv': 1, \"we'll\": 1, 'hydrocortinson': 1, 'aspergil': 1, 'lcsw': 5, 'swtich': 2, 'furrow': 1, 'resight': 1, 'murumur': 1, 'meropenen': 1, 'tranamin': 1, 'imageri': 1, 'mypathi': 1, 'weaningfrom': 1, 'apprecci': 1, 'resolved': 1, 'methylprednisilon': 1, 'propogol': 1, 'stoop': 2, 'scitch': 1, 'cessast': 1, 'parencyhyma': 1, 'swich': 2, 'epeatedli': 1, 'pneumobooot': 1, 'faiilur': 1, 'mulifoc': 1, 'targetd': 1, 'retd': 1, 'iniit': 1, 'yesterdav': 1, 'sap': 1, 'crical': 1, 'medazolam': 1, 'dysyncroni': 1, 'nonerythemat': 1, 'hepain': 1, 'brow': 1, 'nape': 1, 'phtsical': 1, 'hsould': 1, 'yawn': 3, 'frighted': 1, 'gulactomannan': 1, 'lnare': 1, 'anxiion': 1, 'newspap': 1, 'shop': 2, 'outweight': 2, 'expi': 1, 'forhead': 1, 'sweeti': 1, 'pie': 1, 'kneel': 1, 'grandneic': 1, 'tsurg': 2, 'rvat': 1, 'osbstruct': 1, 'miniamlli': 1, 'volvodynia': 1, 'paracardiac': 1, 'tachyarrhythmia': 3, 'prnumonia': 1, 'infilttr': 1, 'contineud': 2, 'pyogen': 1, 'infiltrt': 1, 'infliltr': 1, 'saat': 1, 'ceftiaxon': 2, 'plurit': 1, 'anouth': 1, 'tessolan': 1, 'hypomagnesemia': 2, 'apapc': 1, 'hyperlink': 1, 'aui': 1, 'micolozol': 1, '^jajmhnhu': 1, 'rredden': 1, 'cdefghijklmnopqrstuvwxyz': 1, 'jkdb': 1, 'nect': 1, 'normalcj': 1, 'vn': 1, 'ahsd': 1, 'rebronch': 1, 'vvvvv': 1, 'jf': 1, 'tihr': 1, 'fontvi': 1, 'anbpz': 1, 'cytomegaloviru': 4, 'jk': 2, 'kdc': 1, 'cjojqj^jajc': 1, 'kdm': 1, 'aho': 1, 'abcdefghij': 1, 'paragraph': 1, 'abcdefghijklmnopqr': 1, 'wfrwcw': 1, 'totachypnea': 1, \"hct'\": 1, 'histor': 1, 'versioneditnotestatustemplateidautologout': 1, 'lotrimen': 1, 'djwbkti': 1, 'fkda': 1, 'cepapim': 1, 'noteparentid': 1, 'increasd': 1, 'auvst': 1, 'drt': 1, 'atuhi|': 1, 'pow': 1, 'closemod': 1, 'cjojqjuv^jajh': 1, 'kdi': 1, 'j^': 1, 'subclavain': 1, 'diuriesi': 1, 'posisbl': 1, 'printmod': 1, 'trpnpu': 1, 'bakc': 1, 'vvvv': 1, 'vancomydin': 1, 'bjbj': 1, 'canin': 1, 'ksim': 1, 'ddefault': 1, 'maxillay': 1, 'abdb': 1, 'ajmhsh': 1, 'xdlt': 1, 'imd': 1, 'lpd': 1, 'secrtetit': 1, 'tachypniec': 1, 'epidosd': 1, 'fmicrosoft': 1, 'gqu': 1, 'pcompobj': 1, 'ijpn': 1, 'tuvwxyz': 1, 'ethmod': 1, 'premolar': 1, 'msworddocword': 1, 'crxbcklrv|': 1, 'galactomannin': 1, 'versedt': 1, 'o^o^o': 1, 'clotrimizol': 1, 'je': 1, '^m': 1, 'secretit': 1, 'cjojqj^jajnutren': 1, 'hajmh': 1, 'vtabl': 1, 'adipos': 1, \"'worddocu\": 1, 'cjojqj^jaju': 1, 'abcdelmop': 1, 'cd|b': 1, 'kda': 1, 'omkikmkkdgd': 1, 'modular': 2, 'vasodialtori': 1, 'promethazin': 1, 'vanvo': 2, 'noroviru': 2, 'hemoli': 1, 'sicker': 1, 'virul': 1, 'specturm': 1, 'utox': 2, 'bmv': 1, 'ki': 1, \"kartagener'\": 1, 'inversu': 1, 'dextrocardia': 1, 'kartagen': 1, 'exacerabt': 1, 'commonli': 2, 'levoscoliosi': 1, 'kkaliannan': 1, 'topogram': 1, 'earliest': 2, 'mdcta': 1, 'lumber': 1, 'conmsist': 1, 'bentson': 2, 'glioblastoma': 1, 'bevacizumab': 1, 'posttreat': 1, 'bloom': 1, 'intraves': 1, 'suspic': 1, 'ventriculostomi': 3, 'gliobastoma': 1, 'omniflush': 2, 'arctic': 1, 'hemosiderin': 2, 'panlobular': 1, 'pleuritc': 1, 'commissur': 1, 'uniqu': 1, 'bilari': 1, 'periprocedur': 1, 'nonehmorrhag': 1, 'biloma': 1, 'rani': 1, 'despoit': 1, 'peera': 1, 'civil': 1, 'mutter': 1, 'azitho': 1, 'babbl': 1, 'nonhogdekin': 1, 'disinhibit': 1, 'cholersterol': 1, 'anzythromycin': 1, 'outpit': 1, 'herril': 1, 'opacu': 1, 'legonella': 1, 'femalw': 1, 'varieti': 5, 'fol': 1, 'guifenasin': 1, 'barrir': 1, 'reset': 1, 'exten': 1, 'nurns': 1, 'bacteriruia': 1, 'tarc': 1, 'parethetica': 1, 'tli': 1, 'methyl': 2, 'guanefisin': 1, 'ifp': 1, 'diffenti': 1, 'skirt': 1, 'cogent': 1, 'tussiv': 1, 'bruic': 1, 'critlcal': 1, 'parasthetica': 1, 'subsequen': 1, 'nvalid': 1, 'farsai': 1, 'diverticulsi': 1, 'ngativ': 1, 'qbedtim': 1, 'paresthetica': 1, 'laterdo': 1, 'mucumyst': 1, 'prodict': 1, 'bacturia': 3, 'sputrum': 1, 'afrebil': 1, 'urobiligen': 1, 'avanc': 1, 'anteriro': 1, 'dysnchron': 1, 'concord': 1, 'merlgia': 1, 'discontiu': 1, 'immed': 1, 'urobilin': 1, 'calor': 2, 'ive': 1, 'beep': 2, 'meralgia': 1, 'cefedim': 1, 'transffr': 1, 'guafenassin': 1, 'resort': 1, 'reequilibr': 2, 'cna': 1, 'persian': 1, 'dysmorph': 1, 'microscop': 2, 'oclac': 1, 'abrat': 1, 'boundari': 1, 'spkem': 1, 'exercs': 1, 'saltin': 1, 'mislead': 1, 'bacteriuria': 1, 'timi': 1, 'ciloxan': 1, 'otic': 1, 'rhonor': 1, 'ostial': 2, 'aysmmetri': 1, 'meniscectomi': 1, 'rewarm': 1, 'mucuou': 1, 'cotnineu': 1, 'appx': 1, 'atttemp': 1, 'euvolum': 1, 'arr': 1, 'pericod': 1, 'unlcear': 1, 'supratherapuet': 1, 'metases': 1, 'nother': 1, 'cholangiocarcinoma': 1, 'cmpathi': 1, 'dicontinu': 1, 'arthrosclerot': 1, 'hypervolum': 1, 'quadrigemin': 1, 'insepar': 1, 'faliur': 1, 'pyelo': 2, 'gestat': 1, 'intrauterin': 1, 'pregnanc': 2, 'perigest': 1, 'rump': 1, 'transabdomin': 2, 'transvagin': 1, 'referenc': 1, 'delet': 1, 'gastaut': 1, 'gasteau': 1, 'chromosom': 1, 'sbi': 1, 'subopitm': 1, 'hypopkinesi': 1, 'anteromedi': 2, 'ffnding': 1, 'transposit': 1, 'sucat': 1, 'inturpetur': 1, 'hollow': 1, 'patientpenicillin': 2, 'dipo': 1, 'whichi': 1, 'axe': 2, 'tempsiv': 1, 'plax': 1, 'magnesia': 5, 'uncoopr': 1, 'sax': 1, 'frost': 1, 'speka': 1, 'unintellig': 3, 'arcu': 1, 'crcl': 1, 'respositon': 1, 'cholinesteras': 1, 'lasxi': 1, 'hyrdatoinwith': 1, 'sensitivti': 1, 'hemidi': 1, 'cefalosporin': 1, 'henodynam': 1, 'hctof': 1, 'rspons': 1, 'senili': 1, 'perinueum': 1, 'sacram': 1, 'annunci': 1, 'hypopho': 1, 'contantli': 1, 'incessantli': 1, 'prove': 1, 'infratentori': 1, 'viii': 1, 'isoecho': 1, 'trocar': 1, 'onsit': 1, 'breathhold': 1, 'gun': 1, 'kkaliann': 2, 'vean': 1, 'pblm': 1, 'overfeed': 3, 'sifnific': 1, 'duderm': 1, 'cpnsult': 1, 'chevron': 1, 'diuoderm': 1, 'thoracenthesi': 1, 'pcld': 1, 'currentl': 1, 'pckd': 1, 'ronchii': 1, 'prieiou': 1, 'autosom': 1, 'immens': 1, 'polycyst': 1, 'spongett': 2, 'postfilt': 1, 'likelyt': 1, 'tranplant': 1, 'bipsi': 1, 'prefilt': 1, 'malnutritrion': 1, 'ligthli': 1, 'hliv': 1, 'rescu': 1, 'mero': 1, 'neprologost': 1, 'effusdion': 1, 'dupplex': 1, 'prismas': 1, 'wopman': 1, 'mitodrin': 1, 'periop': 3, 'linezold': 1, 'uncement': 1, 'venopunctur': 2, 'coapt': 1, 'sectionsclip': 1, 'ingrow': 1, 'possil': 1, 'undisplac': 1, 'teamunabel': 1, 'pacement': 1, 'vei': 1, 'demat': 1, 'enucl': 1, 'nucchal': 1, 'explana': 1, 'huumalong': 1, 'calcifion': 1, 'toxicolog': 3, 'diluat': 1, 'astound': 1, 'meningit': 2, 'frequenti': 1, 'cephalomalacia': 1, 'resusci': 1, 'similiar': 1, 'hyperlycemia': 1, 'perplex': 2, 'hemodynaimc': 1, 'menigit': 1, 'checkstool': 1, 'withb': 1, 'cefeim': 1, 'methylnaltraxon': 1, 'crap': 1, 'ketosi': 1, 'dulcolox': 1, 'underfe': 2, 'topimax': 1, 'sprinkl': 1, 'nonspec': 1, 'svce': 2, 'myxedema': 1, 'notabley': 1, 'ouch': 1, 'provigil': 1, 'wakekup': 1, 'respiratoy': 2, 'frap': 1, 'sugeri': 2, 'blueberri': 1, 'starvat': 2, 'valproat': 1, 'appeard': 1, 'manaul': 1, 'uation': 1, 'biweekli': 1, 'hypopotassemia': 1, 'topamax': 2, 'topiram': 2, 'provgigil': 1, 'seqeunc': 1, 'innappri': 1, 'triglyericd': 1, 'alththough': 1, 'uptrend': 1, \"'re\": 1, 'dilitiazem': 1, 'partway': 1, 'chlorosept': 1, 'equilib': 1, 'ato': 1, 'cghc': 1, 'caregroup': 1, 'critial': 1, 'ocnsid': 1, 'subcrit': 1, 'cardioembol': 1, 'addiiton': 1, 'minimz': 1, 'enterocol': 1, 'confound': 1, 'lasixc': 1, 'requilibri': 1, 'dissimilar': 1, 'indistinguish': 1, 'hsl': 1, 'dysambul': 1, 'checkbook': 1, 'dietitian': 1, 'hemorrhoidectomi': 1, 'urologist': 1, 'intiub': 1, 'ventilatit': 1, 'tachyp': 1, 'fuel': 1, 'rrin': 1, 'perrir': 1, 'electrolyet': 1, 'propolol': 1, 'mgbld': 1, 'murki': 1, 'albican': 2, 'trazadonea': 1, 'milkshak': 2, 'pessi': 1, 'ubw': 2, 'cutaen': 1, 'incorrectli': 1, 'mwedic': 1, 'mull': 1, 'vom': 1, 'stoic': 1, 'interspers': 2, 'hint': 1, 'entrap': 1, 'editor': 1, 'vasodialtor': 1, 'haemophilu': 1, 'rind': 1, 'defalt': 1, 'xfuse': 1, 'psychopharm': 1, 'vibrat': 2, 'sprint': 2, \"cib'\": 1, 'ritilan': 1, 'psychopharmocolog': 1, 'irrtiat': 1, 'aurv': 1, 'tedium': 1, 'evaluatw': 1, 'previs': 2, 'mysteri': 1, 'corazepan': 1, 'lasdyt': 1, 'peribronchovasc': 1, 'fovea': 1, 'anxiolysi': 1, 'impir': 1, 'brielli': 1, 'analyst': 1, 'psychologist': 1, 'reigimen': 1, 'plseval': 1, 'hypoallergen': 1, 'treatabl': 2, 'labtap': 1, 'peco': 1, 'blucan': 1, 'colas': 1, 'drrock': 1, 'sliglhtli': 1, 'prosac': 1, 'papul': 2, 'tirtrat': 1, 'thoracentes': 1, 'barorauma': 1, 'pnm': 1, 'txt': 1, 'freelanc': 1, 'eater': 1, 'radiol': 1, 'thoracantesi': 1, 'errand': 1, 'enterococci': 1, 'feedng': 1, 'abraid': 1, 'manometri': 1, 'fbmp': 1, 'peribroncholar': 1, 'nutropho': 1, 'jungian': 1, 'randitin': 1, 'multivit': 2, 'snu': 1, 'cholecystisit': 1, 'thoracensi': 1, 'unbleach': 1, 'eosinophillia': 1, 'slidenafil': 1, 'dor': 1, 'calmin': 1, 'casemgmt': 1, 'reexamin': 2, 'triamcinolin': 1, 'sidenafil': 1, 'throracentesi': 1, 'cacecth': 1, 'geodon': 1, 'ethmoidali': 1, 'precautionari': 1, 'ecanazol': 1, 'tchypnic': 1, 'psychotherapist': 1, 'lenezolid': 1, 'pip^^': 1, 'comfotali': 1, 'dexm': 1, 'afp': 1, 'amountsof': 1, 'estol': 1, 'koh': 1, 'intercos': 1, 'venit': 1, 'remedi': 1, 'iloson': 1, 'uvolemia': 1, 'saquinavir': 1, 'achieiv': 1, 'repositin': 1, 'myelolysi': 1, 'cenral': 1, 'devlop': 1, 'alf': 2, 'cephlic': 1, 'amyotroph': 1, 'kefzol': 1, 'polyval': 2, 'rafib': 1, 'indescret': 1, 'createn': 1, 'cpbt': 1, 'adeuat': 1, 'xct': 1, 'inquiz': 1, 'diert': 1, 'milranon': 1, 'ecasa': 1, 'dexter': 2, 'mindo': 1, 'mepalex': 1, 'task': 2, 'closureat': 1, 'tumb': 1, 'arom': 1, 'dulcoloax': 1, 'upc': 2, 'mue': 2, 'attn': 1, 'girth': 1, '^cre': 1, 'pulmoray': 1, 'tympanit': 1, 'presurg': 1, 'epic': 1, 'orthonpea': 1, 'ilu': 1, 'bradykinesia': 1, 'lsca': 1, 'plf': 1, 'mmg': 1, 'preferr': 1, 'rept': 1, 'angiti': 1, 'coac': 1, 'sevret': 1, 'lasixd': 1, 'imroov': 1, 'prevsiou': 1, 'discontd': 1, 'klonipen': 1, 'aryepiglott': 1, 'fai': 1, 'wmay': 1, 'gentamyin': 1, 'proprol': 1, 'wetter': 1, 'chlortahlidon': 1, 'senit': 1, 'turnaround': 1, 'loer': 1, 'augementin': 1, 'packyear': 1, 'basesabg': 1, 'binocular': 1, 'inexsuffal': 1, 'bur': 1, 'arthir': 1, 'repositionpt': 1, 'hctat': 1, 'oxybutnin': 1, 'systemat': 1, 'minimla': 1, 'hytpertens': 1, 'flouroquinolon': 1, 'qafternoon': 1, 'oxycoceon': 1, 'solument': 1, 'presidex': 1, 'citrobactor': 1, 'nephtotoxin': 1, 'freundii': 1, 'fluroquinolon': 2, 'understan': 1, 'xpeep': 1, 'ketalac': 1, 'levph': 1, 'placemen': 1, 'deinf': 1, 'akskasj': 1, 'chlorthalidon': 1, 'beselin': 1, 'cae': 1, 'insufl': 1, 'unreport': 1, 'masspro': 1, 'porpofol': 1, 'floppi': 1, 'notablw': 1, 'alkalod': 1, 'symptathet': 1, 'unclean': 1, 'schd': 2, 'addntl': 1, 'ntx': 2, 'iam': 1, 'velopharyng': 1, 'collis': 2, 'reistant': 1, 'explant': 1, 'arytenoid': 1, 'uco': 1, 'turbin': 1, 'tittrat': 1, 'chlorthiadon': 1, 'tamilfu': 1, 'parplegia': 1, 'compliact': 1, 'reitub': 1, 'andxiou': 1, 'citrobact': 1, 'agenda': 1, 'autodiurs': 1, 'unobstruct': 1, 'seoncdray': 1, 'hyrdalazin': 1, 'nafficillin': 1, 'vasculopath': 1, 'soputum': 1, 'relart': 1, 'llleffus': 1, 'tympanet': 2, 'delat': 1, 'appeasr': 1, 'hyperfus': 1, 'suctionnig': 1, 'systolicali': 1, 'viusliz': 1, 'cmmaureen': 1, 'conern': 1, 'intrvascular': 1, 'gmmg': 1, 'upop': 1, 'misconcept': 1, 'spontanes': 1, 'monitoir': 1, 'shoift': 1, 'respira': 1, 'albuminemia': 1, 'monitir': 1, 'eucerin': 1, 'uncompromis': 1, 'unalb': 1, 'yedterday': 1, 'descquamatin': 1, 'vential': 1, 'dsay': 1, 'conditon': 1, 'trunkal': 1, 'gmca': 1, 'sett': 2, 'accetp': 1, 'derma': 1, 'aroud': 1, 'cefipm': 1, 'vanomycin': 1, 'probiot': 1, 'mgsulf': 1, 'tansient': 1, 'eysterday': 1, 'howevr': 1, 'hydrocerin': 1, 'msn': 1, 'consisten': 1, 'exfoli': 1, 'contt': 1, 'aesthesia': 1, 'pede': 1, 'eucarin': 1, 'rete': 1, 'sto': 1, 'ocmv': 1, 'moniotir': 1, 'trolyt': 1, 'ertyhemat': 1, 'tors': 1, 'conscent': 1, 'semiloos': 1, 'lactobacillu': 3, 'overdistent': 1, 'infutur': 1, 'mnot': 1, 'contribnut': 1, 'elec': 1, 'hemid': 1, 'fenatnyl': 1, 'specific': 1, 'hower': 1, 'propriat': 1, 'bromchial': 1, 'sherriff': 1, 'malig': 2, 'colc': 1, 'serotyp': 2, 'fluricason': 1, 'sufflat': 1, 'cacet': 1, 'mirtazepin': 2, 'lifelong': 1, 'largevolum': 1, 'grnd': 1, 'wheze': 1, 'methypr': 1, 'movementx': 1, 'enzymat': 1, 'eft': 1, 'npleas': 1, 'apprear': 1, 'kernel': 3, 'exotropia': 1, 'gstain': 1, 'toasess': 1, 'zosym': 1, 'interdigit': 2, 'plau': 1, 'broncu': 1, 'multivitiamin': 1, 'midazalam': 1, 'amand': 1, 'commensur': 2, 'idid': 1, \"ble'\": 2, 'methpr': 1, 'globulin': 1, 'immuno': 1, 'gravitiy': 1, 'envioron': 1, 'abluterol': 1, 'contramin': 1, 'bandermia': 1, 'responsiv': 1, 'anitcoag': 1, 'allyvn': 1, 'hemodiaylsi': 1, 'bias': 1, 'meropenom': 1, 'dermatom': 1, 'recoment': 1, 'multifactoir': 1, 'flexocel': 1, 'trigemineni': 1, 'math': 1, 'nonprogress': 2, 'omin': 1, 'amikican': 1, 'protacol': 1, 'decubi': 2, 'shear': 1, 'renali': 1, 'satellit': 2, 'fxnal': 1, 'ddi': 1, 'obliteraion': 1, 'slack': 1, 'lymphoplasmoct': 1, 'tapin': 1, 'parodoxu': 1, 'hypotn': 2, 'hypercalcem': 1, 'reprogram': 1, 'persuad': 1, 'pleurex': 2, 'terrifi': 1, 'sash': 1, 'clote': 1, 'lymphoid': 1, 'wakler': 1, 'paradoxu': 2, 'malt': 1, 'anioplasti': 1, 'revsion': 1, 'cytogenet': 1, 'lympoma': 1, 'additioanlli': 1, 'vastcular': 1, 'palpitaiton': 1, 'etio': 2, 'dbcd': 1, 'levsin': 1, 'rhoncouru': 1, 'hemiparet': 1, 'anticoaul': 1, 'jplacement': 1, 'incras': 1, 'gk': 1, 'cyclobenzaprin': 1, 'hemangiomata': 1, 'pneuonia': 1, 'flexeril': 1, 'mantain': 2, 'doxylam': 1, 'refin': 3, 'murphi': 1, 'acetaminoph': 1, 'amn': 1, 'signfiic': 1, 'pgr': 1, 'bochdalek': 1, 'brachicephal': 1, 'pulsat': 1, 'sectrion': 1, 'neisseria': 1, 'icc': 1, 'cite': 1, 'ppeg': 1, \"dep't\": 1, 'meningid': 1, 'babinski': 1, 'contimin': 1, 'meningitidi': 1, 'neisseiria': 1, 'palvix': 1, 'phenobard': 1, 'pineal': 2, 'dispers': 1, 'fould': 1, 'poba': 1, 'cmpi': 1, 'consul': 2, 'farenheit': 1, 'mute': 1, 'reactant': 2, 'hepatotoxi': 1, 'normalwithout': 1, 'compos': 1, 'ooob': 1, 'reimburs': 1, 'dialect': 1, 'usa': 2, 'pgtube': 1, 'accru': 1, 'hindi': 1, 'player': 1, 'anaphi': 1, 'prx': 1, 'somnel': 1, 'dizepam': 1, 'instabilti': 1, 'musckl': 1, 'hpyotens': 1, 'stiffman': 1, 'tussilon': 1, 'african': 1, 'tablespoon': 2, 'hemopysi': 1, 'buproprion': 1, 'hempotysi': 1, 'preview': 1, 'hemopneumatocyst': 1, 'magarw': 2, 'pnemothorax': 1, \"it'\": 1, 'chadashvili': 1, 'intraparenchyma': 1, 'concuss': 1, 'txcf': 1, 'peripartum': 1, 'shorntess': 1, 'concomitantli': 1, 'lumpect': 1, 'fnh': 2, 'falcin': 1, 'szm': 1, 'subfalcin': 1, 'rmca': 1, 'ischium': 1, 'lymphomat': 1, 'dminant': 1, 'preoccupi': 1, 'trabecular': 1, 'appearsto': 1, 'masslik': 1, 'lacross': 1, 'persistec': 1, 'familu': 1, 'shiift': 1, 'ablil': 1, 'obta': 1, 'fuconazol': 1, 'celsiu': 1, 'periextub': 1, 'cot': 1, 'simethacon': 1, 'hac': 1, 'triat': 1, 'miconzol': 1, 'nutritin': 1, 'exbuat': 1, 'bronchosocpi': 1, 'miscommun': 1, 'clavic': 1, 'normotensv': 1, 'fulconazol': 1, 'yogart': 1, 'ceftra': 1, 'includec': 1, 'majorli': 1, 'attebnd': 1, 'aformet': 1, 'dorm': 1, 'taccypn': 2, 'periumbil': 2, 'aiway': 1, 'zyprex': 1, 'adjit': 1, 'quikli': 1, 'lpicc': 1, 'dyspnia': 1, 'malai': 1, 'cextriaxon': 1, 'maineten': 1, 'navalbin': 1, 'backgroun': 1, 'hgba': 2, 'bipass': 1, 'patientlipitor': 1, 'nopain': 1, 'immunochromogen': 1, 'pyuria': 3, 'perifoc': 1, 'blend': 1, 'rjab': 2, 'transcrib': 1, 'woren': 1, 'calenadar': 1, 'voluem': 1, 'suv': 2, 'incur': 1, 'explicitli': 2, 'comensur': 1, 'hopitilaz': 1, 'miarlex': 1, 'diffiulti': 1, 'etoposid': 1, 'miralex': 1, 'heparinoid': 1, 'mel': 1, 'philosophi': 1, 'ventliat': 1, 'broaod': 1, 'ataxia': 2, 'pnuemon': 1, 'lethal': 1, 'hfm': 1, 'tonsillectomi': 1, 'excert': 1, 'gingiv': 1, 'gound': 1, 'anesthia': 1, 'withtout': 1, 'rchf': 1, 'sympathi': 1, 'starl': 1, 'losmap': 1, 'ostia': 1, 'intestiti': 1, 'situationclip': 1, 'presacr': 1, 'pnaeumomia': 1, 'ctc': 1, 'tolterodin': 1, 'intracerebellar': 1, 'optison': 3, 'proximmali': 1, 'periampullari': 1, 'oncern': 1, 'downhil': 1, 'udomona': 1, 'asso': 1, 'nere': 1, 'isoton': 1, 'setti': 1, 'omezprazol': 1, 'lethari': 1, 'pse': 1, 'amputaton': 1, \"alzheimer'\": 1, 'inpneumonia': 1, 'delierum': 1, 'earlyy': 1, 'rag': 1, 'misestim': 1, 'carvidolol': 1, 'seropquel': 1, 'grapefruit': 1, 'asm': 1, 'mrcp': 2, 'nausa': 1, 'proteinac': 2, 'repositioningof': 1, 'brodoefel': 1, 'scleroderma': 2, 'pretracha': 1, 'craniocerv': 1, 'iac': 1, 'recol': 1, 'fascial': 1, 'resolu': 1, 'pharaynx': 1, 'drainaig': 1, 'deveat': 1, 'pulmona': 1, 'ctp': 1, 'precentr': 1, 'rkcb': 2, 'mtt': 1, 'highlight': 1, 'gratitud': 1, 'unhappi': 1, 'discouragr': 1, 'diconstinu': 1, 'aftet': 2, 'defeat': 1, 'acidem': 1, 'meplex': 1, 'isosourc': 2, 'acknowledeg': 1, 'combat': 1, 'subglot': 1, 'mbi': 1, 'cefe': 1, 'outreach': 1, 'worsesn': 1, 'aphagia': 1, 'pneumotosi': 1, 'olgilvi': 1, 'supratheraopeut': 1, 'mirabili': 1, 'drag': 1, 'renarrow': 1, 'ronchouru': 1, 'olgivi': 1, 'consenu': 1, 'pericari': 1, 'ramitidin': 1, 'precut': 1, 'oseltamivr': 1, 'hisoto': 1, 'itraconazol': 1, 'opaticit': 1, 'aminsom': 1, 'lansoprosol': 1, 'phelobotomi': 1, 'hyperphophatemia': 1, 'ccv': 1, 'oscil': 1, 'tnd': 1, 'andmoist': 1, 'hypnot': 1, 'unspeci': 1, 'advanbc': 1, 'tachypnoea': 1, 'gerontolog': 2, 'transist': 1, 'difficl': 1, 'encouragec': 1, 'cvhh': 1, 'panlobar': 1, 'canc': 1, 'commnd': 1, 'inaud': 1, 'dff': 1, 'aluminum': 1, 'doff': 1, 'bradycardi': 1, 'cerruloplasmin': 1, 'sensitivitei': 1, 'tunel': 1, 'aloud': 1, 'benterobact': 1, 'olu': 1, 'insilun': 1, 'athough': 1, 'aspirgillu': 1, 'incom': 1, 'swine': 1, 'speicat': 1, 'rhab': 1, 'rneal': 1, 'buckl': 2, 'maxillori': 1, 'circardian': 1, 'patientzosyn': 1, 'dermatotomi': 1, 'prussur': 1, 'cholecystisi': 1, 'mold': 2, 'treshold': 1, 'elat': 1, 'guaifenisen': 1, 'intermediari': 1, 'leukocyto': 1, 'voicemail': 1, 'influenz': 2, 'tosay': 1, 'sevalem': 1, 'sural': 1, 'lansprazol': 1, 'lidaocain': 1, 'keayxal': 1, 'denerv': 1, \"le'\": 1, 'apn': 1, 'abbx': 1, 'cavaatri': 1, 'pleae': 1, 'maibor': 1, 'lidocaint': 1, 'tobro': 1, 'trachestomi': 1, 'hypoterm': 1, 'procedurel': 1, 'mgd': 1, '^sedat': 1, 'wjll': 1, 'aluminium': 1, 'fespiratori': 1, 'hydrox': 1, 'straigh': 1, 'cholecyts': 1, 'muffl': 1, 'consold': 1, 'resolev': 1, 'electromyographi': 1, 'afl': 1, 'lund': 1, 'gauic': 1, 'cammnd': 1, 'cxx': 1, 'signiticantli': 1, 'consolidationi': 1, 'dexreas': 1, 'lovul': 1, 'steepli': 1, 'preval': 1, 'wooden': 1, 'zygoma': 1, 'disshelvel': 1, 'monasteri': 1, 'vagotomi': 1, 'psbo': 1, 'bibsilar': 1, 'contingu': 1, 'oversewn': 1, 'billroth': 1, 'upstream': 1, 'antrectomi': 1, 'goo': 1, 'pelvicalic': 1, 'colorect': 1, 'fisula': 1, 'undistend': 1, 'dieat': 1, 'macrobid': 1, 'meniscu': 1, 'emypema': 1, 'ano': 2, 'gastroenterostomi': 1, 'prostatomegali': 1, 'uncin': 1, 'epiphren': 1, 'oment': 1, 'subconjuctiv': 1, 'iniat': 1, 'nscl': 1, 'abiopsi': 1, 'actinomyc': 1, 'angigoraphi': 1, 'ccontinu': 1, 'bacillu': 2, 'mediastinoscopi': 2, 'rsi': 1, 'wenchbach': 1, 'celtic': 1, 'ransfer': 1, 'nay': 1, 'metolazin': 1, 'porb': 1, 'neosinephrin': 1, 'undecid': 1, 'medisastinoscopi': 1, 'scopolimin': 1, 'testicular': 2, 'lmca': 1, 'drinkl': 1, 'pronosi': 1, 'pallit': 1, 'subconjunctiv': 1, 'insufficieni': 1, 'rxt': 1, 'cin': 1, 'grumpi': 1, 'invovl': 2, 'datasheet': 1, 'commmun': 1, 'paraceliac': 1, 'rteam': 1, 'ccfree': 1, 'rvedp': 1, 'queeni': 1, 'zaroxylin': 1, 'metolamin': 1, 'pneumoectomi': 1, 'ttherapi': 1, 'wsasstent': 1, 'nicknam': 1, 'sessioin': 1, 'coronori': 1, 'monitror': 1, 'microadenoma': 1, 'monophon': 2, 'hypofunct': 1, 'consultatoin': 1, 'sysolt': 1, 'rast': 1, 'awka': 1, 'agr': 1, 'percentag': 1, 'gvh': 1, 'examinedv': 1, 'actinomycosi': 1, 'pneumectomi': 1, 'withot': 1, 'ascul': 1, 'quenn': 1, 'dependen': 1, 'atorva': 1, 'necessri': 1, 'queani': 1, 'musculoskel': 1, 'nsmall': 1, 'queen': 1, 'xanthalesma': 2, 'extubalt': 1, 'beceaus': 1, 'rhilar': 1, 'iimpress': 1, 'singific': 1, 'llnp': 1, 'supplment': 2, 'paciti': 1, 'hypotenisv': 1, 'bhc': 1, 'pathophysiolog': 2, 'tatient': 1, 'adentul': 1, 'absens': 1, 'retail': 2, 'tenabl': 1, 'medco': 1, 'leukem': 1, 'dinitrit': 1, 'nasophargyng': 1, 'interlaminar': 1, 'biphenotyp': 1, 'poorer': 1, 'feder': 1, 'neutrpeni': 1, 'bcb': 1, 'indewpend': 1, 'ppo': 1, 'galleria': 1, 'patho': 1, 'caphosol': 1, 'accredo': 1, 'deficet': 1, 'fequenc': 1, 'reinfors': 1, 'hazzard': 1, 'isodil': 1, 'gerim': 1, 'eicu': 1, 'mrsg': 1, 'vot': 1, 'grandduaght': 1, 'discsuss': 1, 'demonstrat': 1, 'monintor': 1, 'cepifim': 1, 'cefpodox': 1, 'capg': 1, 'echhymosi': 1, 'failurepleas': 1, 'lgi': 1, 'hypercoagu': 1, 'swap': 1, 'vasalin': 1, 'tavchypnea': 1, 'ronchu': 1, 'scren': 1, 'craniocaud': 2, 'oncot': 1, 'asian': 1, 'deseryl': 1, 'inihibit': 1, 'amlopidin': 2, 'hael': 1, 'nosocmi': 1, 'adventit': 1, 'producint': 1, 'keen': 1, 'nutrtit': 1, 'daqi': 1, 'fentayl': 1, 'srcotal': 1, 'countershock': 1, 'haldolo': 1, 'hypernateremia': 1, 'fucntion': 1, 'lgib': 1, 'nonblanch': 1, 'dipyrimadol': 1, 'migran': 1, 'antiphospholid': 1, 'roover': 1, 'follicul': 1, 'antigoagul': 1, 'trendalapril': 1, 'clutter': 1, 'nembut': 1, 'carbamazapin': 1, 'coolig': 1, 'menisc': 1, 'rrrr': 1, 'nned': 1, 'bibpap': 1, 'dipyridimol': 1, 'marriag': 1, 'ctm': 2, 'trando': 1, 'chlrohexidin': 1, 'vitk': 1, 'redman': 1, 'rexray': 1, 'intabut': 1, 'addiion': 1, 'evalyu': 1, 'pnet': 1, 'piic': 1, 'neuroectoderm': 1, 'atx': 1, 'parietooccipit': 1, 'trachael': 1, 'racim': 1, 'tnding': 1, 'audbil': 1, 'neeb': 1, 'foolowup': 1, 'underdistent': 1, 'nonemerg': 1, 'multisept': 1, 'circumfirenti': 1, 'ureterocel': 1, 'benztropin': 1, 'worseniong': 1, 'bronchioalveolar': 2, 'phareng': 1, 'rhnochor': 1, 'risperdon': 1, 'scallop': 1, 'resperidon': 1, 'neuropsych': 1, 'mediasin': 1, 'diffuss': 1, 'intuib': 1, 'tachypnaec': 1, 'lunesta': 1, 'soulmedrol': 1, 'azithromcin': 1, 'maintianedencourag': 1, 'hypovelem': 1, 'weigt': 1, 'orer': 1, 'deyhdrat': 1, 'periprosthet': 1, 'superolater': 1, 'dypena': 1, 'porto': 1, 'macronodular': 1, 'artial': 1, 'periappendic': 1, 'immunocpmpromis': 1, 'mammari': 1, 'atret': 1, 'dydrat': 1, 'lugn': 1, 'pannel': 1, 'edmea': 1, 'discetomi': 1, 'pneoumonia': 1, 'spasma': 1, 'methocarbamol': 1, 'anerusym': 1, 'hasa': 1, 'leukesteras': 1, 'ceasarin': 1, 'dominantli': 1, 'echinococc': 1, 'liquefi': 1, 'mxak': 1, 'ketonazol': 1, 'assumo': 1, 'parot': 2, 'incipi': 1, 'recipt': 2, 'periscrot': 1, 'maggot': 1, 'cashier': 2, 'witdraw': 1, 'acanthosi': 1, 'nigrican': 1, 'alchohol': 1, 'apl': 1, 'nauseu': 1, 'microsheath': 1, 'intracarda': 1, 'sell': 1, 'afebrilex': 1, 'chearlead': 1, 'ertapenem': 2, 'diomox': 1, 'fallot': 1, 'crisper': 1, 'wqean': 1, 'gicven': 1, 'consilid': 1, 'ateletasi': 1, 'anticardiolipin': 1, 'dorsiflex': 1, 'spontatn': 1, 'lej': 1, 'iivi': 1, 'ptpexp': 1, 'tpp': 1, 'tetralog': 1, 'collectioin': 1, 'stiumul': 1, 'rvot': 1, 'swaloow': 1, 'tetrolog': 1, 'ranch': 1, 'anxierti': 1, 'factt': 1, 'hydrocel': 1, 'monophas': 1, 'gliosi': 1, 'gangeren': 1, 'cfa': 2, \"fournier'\": 1, 'fournier': 1, 'epididymi': 1, 'testi': 1, 'ventricukar': 1, 'fuzzi': 1, 'absecess': 1, 'shotti': 1, 'fronm': 1, 'pleasnatli': 1, 'barrocat': 1, 'pendent': 1, 'terrigori': 1, 'beed': 1, 'hospitalist': 1, 'hyperesthesia': 1, 'lhr': 1, 'admssion': 1, 'zoraxolyn': 1, 'osteosrthr': 1, 'nexium': 1, 'claritin': 1, 'rosari': 2, 'gulp': 1, 'mph': 1, 'suspicisi': 1, 'perserv': 1, 'velcro': 1, 'neckles': 1, 'vancomyin': 1, 'anterolatrer': 1, 'script': 1, 'bilirubinemia': 1, 'lingua': 1, 'valvulopathi': 1, 'nonpurul': 1, 'ethylsuccin': 1, 'lim': 2, 'encelopathi': 1, 'mistook': 1, 'sebhorr': 1, 'aifb': 1, 'narcosi': 1, 'aifib': 1, 'respiraotyr': 1, 'macrodantin': 1, 'lyric': 1, 'nasaltrach': 1, 'acetozolamid': 1, 'seborrh': 1, 'hel': 1, 'recordsibandron': 1, 'renin': 1, 'simpathet': 1, 'tinnitu': 1, 'palliatv': 1, 'aldosteron': 1, 'identili': 1, 'pericaridi': 1, 'risedron': 1, 'leukemi': 1, 'tohomethat': 1, 'ptand': 1, 'hemorrhioid': 1, 'unamen': 1, 'miscovascular': 1, 'pseudohyperkalemia': 1, 'andhousestaff': 1, 'paracardiaocentesi': 1, 'vaginoplasti': 1, 'confirmatori': 1, 'actonel': 2, 'ifptmakesit': 1, 'dyssynchroni': 1, 'nonenlarg': 1, 'economist': 1, 'youth': 1, 'ascult': 1, 'overshadow': 1, 'multiinfact': 1, 'escherichia': 1, 'neuropsychiatr': 1, 'coin': 1, 'lacuna': 1, 'emigr': 1, 'republ': 1, 'unfinish': 1, 'german': 1, 'wwii': 1, 'lfurosemid': 1, 'mandabl': 1, 'balit': 1, 'gerentolog': 1, 'reread': 1, 'fromprevi': 1, 'traceabl': 1, 'histolog': 1, 'aor': 1, 'transbronch': 1, 'ppiv': 1, 'retak': 1, 'incldu': 1, 'transbronchi': 1, 'rtigid': 1, 'silica': 1, 'madiastinl': 1, 'epicent': 1, 'fft': 1, 'capitol': 1, 'dexemedetomidin': 1, 'ttransit': 1, 'odonyphagia': 1, 'ebu': 1, 'azirthomycin': 1, 'quadriparesi': 1, 'carbamazepin': 1, 'nuchal': 1, 'percipat': 1, 'mupirocin': 1, 'petit': 1, 'mam': 1, 'auop': 2, 'diganosedmr': 1, 'pneumovaccin': 1, 'contol': 1, 'craclk': 1, 'historyof': 1, 'initr': 1, 'liquidsand': 1, 'significnat': 1, 'increasedto': 1, 'irregluari': 1, 'previosli': 1, 'underfeed': 1, 'dietet': 1, 'depressoin': 1, 'periord': 1, 'hemplegia': 1, 'trasud': 1, 'shor': 1, 'venlafaxin': 2, 'semc': 1, 'inconsistn': 1, 'urinanalysi': 1, 'emal': 1, 'sqqca': 1, 'larnyng': 1, 'hunch': 1, 'atorv': 1, 'helmet': 1, 'casemanag': 1, 'sqcca': 1, 'resusc': 1, \"bp'\": 1, 'radat': 1, 'phenothiazin': 1, \"crohn'\": 1, 'thinf': 1, 'jointli': 1, 'latanoprost': 2, 'synergist': 1, 'zyphoid': 1, 'worriesom': 1, 'pretest': 1, 'ganapentin': 1, 'wetread': 1, 'eassess': 1, 'pancolon': 1, 'tachacardia': 1, 'hepatosteatosi': 1, 'dyspena': 1, 'acromimum': 1, 'hydroureteronephrosi': 1, 'ahaustr': 1, 'tac': 1, 'hypoenhanc': 1, 'adomin': 1, 'juxta': 1, 'spalid': 1, 'maiinstem': 1, 'ofoadm': 1, 'coal': 1, 'resterd': 1, 'procrit': 1, 'otherday': 1, 'satbl': 1, 'toungu': 1, 'collasp': 1, 'dash': 1, 'reinstat': 1, 'aspart': 1, 'mine': 1, 'sitagliptin': 1, 'silicon': 1, 'parainfluenz': 1, 'tracheobronchomalacea': 1, 'ly': 1, 'compartment': 1, 'kavitha': 1, 'receivedo': 1, 'barbitur': 1, 'outright': 1, 'trimethadion': 1, 'triger': 1, 'mysolin': 1, 'llb': 1, 'xanthoma': 2, 'urimet': 1, 'phenacemid': 1, 'procliv': 1, 'hydantoin': 1, 'paramethadion': 1, 'potient': 1, 'antiocoagul': 1, 'asbcess': 1, 'tropn': 1, 'clnical': 1, 'omprov': 1, 'dillit': 1, 'osit': 1, 'superirli': 1, 'exerc': 1, 'cystoscop': 1, 'iliav': 1, 'subcultur': 1, 'follwup': 1, 'pericyst': 1, 'enteroccocu': 1, \"rec'd\": 1, 'cellut': 1, 'thett': 1, 'fusiform': 2, 'oxcodon': 1, 'abrubtli': 1, 'datng': 1, 'ariway': 1, 'conjug': 1, 'gapapentin': 1, 'apspir': 1, 'hyptertens': 1, 'lafb': 1, 'klmn': 1, 'reinfarct': 1, 'estrogen': 1, 'arrea': 1, 'tetrofosmin': 1, 'dieulafoy': 1, 'cauter': 1, 'incostistantli': 1, 'envolv': 1, 'dipyridamol': 2, 'tasp': 1, 'takutsubo': 1, 'ligamentum': 1, 'flavum': 1, 'hayfev': 1, 'quantif': 1, 'sctp': 1, 'supradiaphragmat': 1, 'pautosct': 1, 'sihgnific': 1, 'inspiss': 1, 'dvtt': 1, 'flurazepam': 1, 'thrombyocytopenia': 1, 'wrosen': 1, 'thug': 1, 'steep': 1, 'anthracot': 1, 'omc': 1, 'orthastat': 1, 'hemodyam': 1, 'dalman': 1, 'unrecogn': 2, \"hodgkin'\": 1, 'hashimoto': 1, 'autosct': 1, 'rsvg': 1, 'edisyl': 1, 'poto': 1, 'mantl': 1, 'analogu': 1, 'insular': 1, 'throthi': 1, 'kleibsella': 2, \"cva'\": 1, 'staphylococcu': 1, 'tigecyclin': 2, 'cvd': 1, 'etest': 1, 'enterobacteriacea': 1, 'streptococci': 1, 'carbapenemas': 1, 'sti': 1, 'lobotomi': 1, 'carbapenas': 1, 'rtight': 1, 'intuab': 2, 'thoracoplasi': 1, 'choana': 1, 'subaort': 1, 'cloget': 1, 'ossicl': 1, 'inferoposterolater': 1, 'suggetsin': 1, 'chronicallyt': 1, 'acom': 1, 'annn': 1, 'stenothrophomona': 1, 'blame': 1, 'mde': 1, 'recspleas': 1, 'tmpsmx': 1, 'stenotrophomona': 1, 'hemodyamn': 1, 'aspergilloma': 1, 'nitrogen': 1, 'linguist': 1, 'acetylcystien': 1, 'carnitin': 1, 'parascentesi': 1, 'asciet': 1, 'paracenthesi': 1, 'tatoo': 1, 'lopinavir': 1, 'sodabicarb': 1, 'cytospin': 1, 'metaboli': 1, 'tuirn': 1, 'knw': 1, 'bic': 1, 'thjicken': 1, 'ctapb': 1, 'nevirapin': 1, 'kkxa': 1, 'intraadomin': 1, 'boewl': 1, 'conduc': 1, 'mitochondri': 1, 'drowsey': 1, 'anascarca': 1, 'noteworthi': 2, 'thymu': 1, 'ocp': 1, 'intrafissur': 1, 'hbr': 1, 'hypocontractil': 1, 'cantanes': 1, 'cichect': 1, 'antocoagul': 1, 'cozar': 1, 'dextromethorphan': 2, 'sclear': 1, 'dayquil': 1, 'retenion': 1, 'sunu': 1, 'petrolatum': 1, 'maxilo': 1, 'adjus': 1, 'shft': 1, 'gtt^': 1, 'accucheck': 2, 'heoarin': 1, 'counmadin': 1, 'beief': 1, 'cxed': 1, 'toot': 1, 'exculud': 1, 'pbt': 1, 'contribtori': 1, 'surroundiong': 1, 'forsmal': 1, 'signirficantli': 1, 'lene': 1, 'prostati': 1, 'rhionch': 1, 'likelyb': 1, 'axiallyacquir': 1, 'awaitte': 1, 'underpneumat': 1, 'driop': 1, 'secteion': 1, 'exeryt': 1, 'cheng': 1, 'paremet': 1, 'coumdin': 1, 'throacic': 1, 'sucrulf': 1, 'dentistri': 1, 'roe': 1, 'tge': 1, 'peridontatl': 1, 'whim': 1, 'peridont': 1, 'unconvinc': 1, 'opth': 1, 'recombin': 1, 'meropenenm': 1, 'suspict': 1, 'patl': 1, 'periodont': 1, 'benaprotien': 1, 'sfyb': 1, 'currenli': 1, 'paramt': 1, 'fider': 1, 'fsh': 1, 'predinison': 1, 'coniz': 1, 'fibrmyalgia': 1, 'gasteoperesi': 1, 'levealbutenol': 1, 'ondesetron': 1, 'nunintent': 1, 'lossd': 1, 'prolactin': 1, 'airwi': 1, 'hypochr': 1, 'cement': 1, 'anisoci': 1, 'isoenzym': 1, 'pltclmp': 1, 'methacryl': 1, 'macroci': 1, 'felxis': 1, 'oxytoca': 1, 'opact': 1, 'excoriati': 1, 'gujarati': 1, 'fragili': 1, 'oxgen': 1, 'bebrid': 1, 'intraadbomin': 1, 'exertionsbp': 1, 'lovemox': 1, 'beath': 1, 'mresult': 1, 'likekli': 1, 'ezetimib': 1, 'wbxrt': 1, 'enarterctomi': 1, 'ischiorect': 1, 'afteroon': 1, 'afiib': 1, 'nasuea': 1, 'che': 1, 'avert': 1, 'challebg': 1, 'appoprio': 1, 'hmed': 1, 'castgr': 1, 'tufe': 1, 'strongyloid': 1, 'vasopress': 1, 'eosinphil': 1, 'dopler': 1, 'reanl': 1, 'vassopress': 1, 'aranesp': 1, 'preripher': 1, 'kpo': 1, 'levitiracetam': 1, 'afar': 1, 'paracardi': 1, 'forego': 1, 'counterproduct': 1, 'apg': 1, 'nephrit': 1, 'nerphrot': 1, 'plesaent': 1, 'cretainin': 1, 'thoarcentesi': 1, 'antral': 1, 'cartid': 1, 'catert': 1, 'scarbosa': 1, 'lens': 1, 'seqeuala': 1, 'dyeiodin': 1, 'purpura': 1, 'sensitiviti': 1, 'transan': 1, 'senil': 1, 'cephalexinunknown': 1, 'tand': 1, 'vancomycindiarrhea': 1, 'telphon': 1, 'lipopolysaccharid': 1, 'tygecyclin': 1, 'guiaac': 1, 'adequaut': 1, 'avn': 2, 'flutison': 1, 'inhibitori': 1, 'forarm': 1, 'suggesst': 1, 'neropenum': 1, 'corus': 1, 'insta': 1, 'saber': 1, 'systolo': 1, 'vasoopressor': 1, 'earlob': 1, 'eratosi': 1, 'endotoxin': 1, 'ontiotropium': 1, 'evidenv': 1, 'piccin': 1, 'synthesi': 1, 'swith': 1, 'actin': 2, 'precautionst': 1, 'vasodilit': 1, 'prokaryot': 1, 'upload': 1, 'lampectomi': 1, 'herpez': 1, 'hypothairoid': 1, 'preoccup': 1, 'elevat': 1, \"'overdos\": 1, 'hypothes': 1, 'begain': 1, 'pules': 1, 'neosyneph': 1, 'duoerm': 1, 'honeymoon': 1, 'fentanli': 1, 'cheyennn': 1, 'rqmnt': 1, 'cleanout': 1, 'fibersoourc': 1, 'techinc': 1, 'heroic': 1, 'tbd': 1, 'venitlatori': 1, 'nimenda': 1, 'skeletel': 1, 'recomp': 1, 'scopolomin': 1, 'recompt': 1, 'chron': 2, 'innumber': 1, 'outing': 1, 'slowl': 1, 'symptomatolog': 1, 'demonstart': 1, 'esophagel': 1, 'segmetn': 1, 'carvedi': 1, 'rgurgit': 1, 'pulsati': 1, 'swann': 1, 'neostigmin': 1, 'duresi': 1, 'thearapeut': 1, 'advir': 2, 'beclomethason': 1, 'paient': 1, 'exagerr': 1, 'valvuloplasti': 1, 'ccath': 1, 'contracta': 1, 'claudic': 2, 'marit': 1, 'guaifenasin': 1, 'rumbl': 1, 'carotidendarterectomi': 1, 'dacron': 1, 'recuss': 1, '^pvc': 1, '^pa': 1, 'plasti': 1, 'firefight': 1, 'cuplet': 1, 'detali': 1, 'dipropion': 1, 'thear': 1, 'evh': 1, 'llr': 1, 'oozi': 1, 'thombosi': 1, 'replaced': 1, 'cod': 1, 'polar': 1, 'supracondylar': 1, 'kyphoscoloiosi': 1, 'pdf': 1, 'consitist': 1, 'perfect': 1, 'proton': 1, 'ongong': 1, 'cartridg': 1, 'grascil': 1, 'multiplan': 1, 'hajdu': 1, 'infranod': 1, 'psuedamona': 1, 'ealuat': 1, 'ascept': 1, 'inbteween': 1, 'txfer': 1, 'upj': 1, \"peg'\": 1, 'isp': 1, 'pantoiprazol': 1, 'presentdu': 1, 'neurmuscular': 1, 'levothyrox': 1, 'san': 1, 'roght': 1, 'caleld': 1, 'abhorr': 1, 'pseuomona': 1, 'lk': 1, 'dysfx': 1, 'pylenephr': 1, 'msec': 1, 'tather': 1, 'psueudomona': 1, 'hovermatt': 1, 'nnon': 1, 'gsurg': 1, 'onccur': 1, 'xcc': 1, 'resectionand': 1, 'miltifacori': 1, 'cpqp': 1, 'sreen': 1, 'ebsl': 1, 'hebreb': 2, 'peniciliin': 1, 'pseudoon': 1, 'cogwheel': 1, 'interventionl': 1, 'bradyarrhythmia': 1, 'judgment': 1, 'thck': 1, 'acidifi': 1, 'hemidiaghragm': 1, 'nightim': 1, 'traheotomi': 1, 'eupnic': 1, 'senstit': 1, 'provok': 1, 'prmari': 1, 'attampt': 1, 'nonurg': 2, 'blockshortli': 1, 'airpal': 1, 'aftermn': 1, 'hoverjack': 1, 'moonitor': 1, 'thromboemboli': 1, 'aberrantli': 1, 'calic': 1, 'pyramid': 1, 'nephrosi': 1, 'follect': 1, 'subment': 1, \"still'\": 1, 'attrov': 1, 'montgumeri': 1, 'diaghram': 1, 'trachealbronchomalacia': 1, 'scr': 1, 'mycon': 1, 'bronchiectai': 1, 'venolfax': 1, 'meropemem': 1, 'trifluor': 1, 'atrorv': 1, 'receivingiv': 1, 'slippag': 1, 'azithromcyin': 1, 'guaifensin': 1, 'videostriposcopi': 1, 'vcd': 1, 'stroboscopi': 1, 'omep': 1, 'omeprozol': 1, 'mainstay': 1, 'methacholin': 1, 'glotti': 1, 'aspiri': 1, 'swim': 1, 'eavluat': 1, 'saf': 1, 'depres': 1, 'infet': 1, 'career': 1, 'hypernatremiawith': 1, 'pexi': 1, 'slig': 1, 'unbchang': 1, 'chokehold': 1, 'hypoplasia': 1, 'shx': 1, 'presentw': 1, 'periphr': 1, 'llow': 1, 'palin': 1, 'physicianclip': 1, 'imppress': 1, 'positiona': 1, 'hecerebr': 1, 'catter': 1, 'amtter': 1, 'hydrothrorax': 1, 'slg': 1, 'tenosi': 1, 'femora': 1, 'antur': 1, 'demeylin': 1, 'decreeas': 1, 'failiur': 1, 'evant': 1, 'anco': 1, 'cultprit': 1, 'bronchspasm': 1, 'attd': 1, 'resolvi': 1, 'squirmi': 1, 'dao': 1, 'kayexil': 1, 'keratos': 1, 'handwritten': 1, 'fornic': 1, 'cehst': 1, 'nameda': 1, 'arousib': 1, 'tamoxifen': 1, 'vitreou': 1, 'niacin': 1, 'exacurb': 1, 'nitrglycerin': 1, 'rehba': 1, 'achalsia': 1, 'achalasia': 1, 'produt': 1, 'lunvch': 1, 'botox': 1, 'conrol': 1, 'orpharyng': 1, 'rln': 1, 'acinar': 1, 'agt': 1, 'overlod': 1, 'prespil': 1, 'shelf': 1, 'sublobar': 1, 'mandira': 1, 'aereat': 1, 'embarrass': 1, 'meadiastinoscopi': 1, 'virtu': 1, 'neurologici': 1, 'neurocheck': 1, 'angioedem': 1, 'erythroderm': 1, 'mycosi': 1, 'rxra': 1, 'ctcl': 1, 'fungoid': 1, 'osteoarthtr': 1, 'pneumocephalu': 1, 'angioinvas': 1, 'pcabgx': 1, 'withcvl': 1, 'seroma': 1, 'pulldown': 1, 'superifci': 1, 'perivarcular': 1, 'interlock': 1, 'etz': 1, 'trochanter': 1, 'laparascop': 1, 'enchanc': 1, 'hypercholestremia': 1, 'latherg': 1, 'eed': 1, 'tailur': 1, 'antierior': 1, 'extrus': 1, 'intraperitonea': 1, 'chonz': 1, 'gwilliam': 1, 'sarum': 1, 'cavieti': 1, 'aponeurosi': 1, 'spigelian': 1, 'fiberspourc': 1, 'disarray': 1, 'chornz': 1, 'muli': 1, 'underdistens': 1, 'accomani': 1, 'extubu': 1, 'somonol': 1, 'epidu': 1, 'colpo': 1, 'colposcopi': 1, \"lemiere'\": 1, 'transuc': 1, 'headacn': 1, 'mucro': 1, 'garden': 1, 'anaphlyaxi': 1, 'transduct': 1, 'anarob': 1, 'gad': 1, 'thankyou': 1, 'cofluent': 1, 'mexican': 1, 'substranti': 1, 'reportsh': 1, 'excus': 1, 'osaltamivir': 1, 'immunofluoresc': 1, 'nasti': 1, 'repetet': 1, 'multiofoc': 1, 'flucauat': 1, 'qshift': 1, 'encouagr': 1, 'ronchrou': 1, 'reddent': 1, 'berath': 1, 'discon': 1, 'monitort': 1, 'nasatrach': 1, 'flagylcefipim': 1, 'hmm': 1, 'apperenli': 1, 'pateitn': 1, 'fluctauat': 1, 'infer': 1, 'aphonia': 1, 'couh': 1}}\n"
     ]
    }
   ],
   "source": [
    "print(note_appearance_counter)"
   ]
  },
  {
   "cell_type": "code",
   "execution_count": null,
   "metadata": {},
   "outputs": [],
   "source": []
  },
  {
   "cell_type": "code",
   "execution_count": null,
   "metadata": {},
   "outputs": [],
   "source": []
  },
  {
   "cell_type": "code",
   "execution_count": 39,
   "metadata": {},
   "outputs": [],
   "source": [
    "# # get hyper-paramters n_fold and threshold from user input\n",
    "n_fold = float(3)\n",
    "threshold = float(0.02)\n",
    "\n",
    "frequent_word_lists = {}\n",
    "factor = {}"
   ]
  },
  {
   "cell_type": "code",
   "execution_count": 40,
   "metadata": {},
   "outputs": [
    {
     "name": "stdout",
     "output_type": "stream",
     "text": [
      "pneumonia_dead has 11678 unique words!\n",
      "pneumonia_alive has 22572 unique words!\n",
      "finished making frequent words list for pneumonia_alive\n"
     ]
    }
   ],
   "source": [
    "\"\"\"function description:\n",
    "for each disease in note_appearance_counter\n",
    "    1. checks whether a word in disease file is frequent(frequency standard as defined by factor, n_fold, and threshold)\n",
    "    2. adds to frequent_word_list\n",
    "\"\"\"\n",
    "\n",
    "# def find_frequent_word(note_appearance_counter, frequent_word_lists, number_of_notes, factor, n_fold, threshold):\n",
    "\n",
    "# calculate normalizing factor for each disease\n",
    "note_sum = 0\n",
    "\n",
    "# Count from two labels\n",
    "for disease in number_of_notes:\n",
    "    note_sum += float(number_of_notes[disease])\n",
    "    \n",
    "for disease in number_of_notes:\n",
    "    factor[disease] = number_of_notes[disease] / note_sum\n",
    "\n",
    "# determine frequent word for each disease file\n",
    "for disease in note_appearance_counter:\n",
    "    frequent_word_lists[disease] = []\n",
    "\n",
    "    print(disease + \" has \" + str(len(note_appearance_counter[disease])) + \" unique words!\")\n",
    "\n",
    "    for word in note_appearance_counter[disease]:\n",
    "        \n",
    "        freq_check = True\n",
    "        for check_disease in note_appearance_counter:\n",
    "            \n",
    "            if not disease == check_disease:\n",
    "                if word in note_appearance_counter[check_disease]:\n",
    "                    if not (note_appearance_counter[disease][word] / note_appearance_counter[check_disease][word] / factor[disease] * factor[check_disease] > n_fold \\\n",
    "                        and note_appearance_counter[disease][word] > (number_of_notes[disease] * threshold)):\n",
    "\n",
    "                        freq_check = False\n",
    "                        break\n",
    "\n",
    "                else:\n",
    "                    if not (note_appearance_counter[disease][word] > n_fold and note_appearance_counter[disease][word] > (number_of_notes[disease] * threshold)):\n",
    "                        freq_check = False\n",
    "                        break\n",
    "        if freq_check:\n",
    "            frequent_word_lists[disease].append((word))\n",
    "            # Create a tuple of word and its count\n",
    "#             frequent_word_lists[disease].append((word, note_appearance_counter[disease][word]))\n",
    "\n",
    "        \n",
    "\n",
    "print(\"finished making frequent words list for \" + disease)"
   ]
  },
  {
   "cell_type": "code",
   "execution_count": 41,
   "metadata": {
    "scrolled": true
   },
   "outputs": [
    {
     "name": "stdout",
     "output_type": "stream",
     "text": [
      "1419.0\n",
      "{'pneumonia_dead': 0.17758985200845667, 'pneumonia_alive': 0.8224101479915433}\n"
     ]
    }
   ],
   "source": [
    "print(note_sum)\n",
    "print(factor)\n",
    "\n",
    "# number of notes\n",
    "# 58029.0\n",
    "# {'pneumonia_dead': 0.2049837150390322, 'pneumonia_alive': 0.7950162849609678}"
   ]
  },
  {
   "cell_type": "code",
   "execution_count": 42,
   "metadata": {
    "scrolled": true
   },
   "outputs": [
    {
     "name": "stdout",
     "output_type": "stream",
     "text": [
      "187\n",
      "112\n"
     ]
    }
   ],
   "source": [
    "print(len(frequent_word_lists['pneumonia_dead']))\n",
    "print(len(frequent_word_lists['pneumonia_alive']))"
   ]
  },
  {
   "cell_type": "code",
   "execution_count": 43,
   "metadata": {
    "scrolled": true
   },
   "outputs": [
    {
     "name": "stdout",
     "output_type": "stream",
     "text": [
      "{'pneumonia_dead': ['death', 'refractori', 'expir', 'mottl', 'suffer', 'pcv', 'funer', 'unrespons', 'vasopressin', 'arrest', 'cpr', 'autopeep', 'clergi', 'clinician', 'recruit', 'profound', 'arrang', 'paralyt', 'hypothermia', 'anur', 'hypercapn', 'bicarbon', 'phenylephrin', 'pea', 'azotemia', 'dic', 'norepinephrin', 'sluggish', 'dnr', 'dk', 'gum', 'nonpurpos', 'pinpoint', 'cmo', 'dni', 'wish', 'levoph', 'mso', 'institut', 'pronounc', 'hypotent', 'dead', 'priest', 'option', 'grim', 'prognosi', 'purpl', 'bye', 'acv', 'agreement', 'mortem', 'synch', 'life', 'asystol', 'centimet', 'cathol', 'sync', 'surviv', 'duski', 'peac', 'suppport', 'cvvhdf', 'pfr', 'pulseless', 'rusti', 'deterior', 'vasopressor', 'agon', 'vtach', 'crrt', 'neosynephrin', 'cvvh', 'deliv', 'defibril', 'seriou', 'cvvhd', 'acidot', 'corneal', 'hemothorax', 'levof', 'ffp', 'among', 'pitressin', 'cyanot', 'unequ', 'pray', 'hypotherm', 'elimin', 'ethic', 'brb', 'hugger', 'bair', 'declin', 'mtg', 'lw', 'lc', 'maroon', 'town', 'paco', \"tf'ing\", 'autopsi', 'absorb', 'escal', 'rabbi', 'morgu', 'zero', 'sml', 'nahco', 'discoordin', 'norepi', 'syring', 'neo', 'bairhugg', 'circuit', 'triadyn', 'bank', 'prayer', 'motil', 'mind', 'unstabl', 'hunger', 'dopamin', 'hung', 'polici', 'intiat', 'cantones', 'moan', 'palli', 'readdress', 'gurgl', 'underneath', 'anuria', 'dobutamin', 'platelet', 'platlet', 'oncologist', 'hospic', 'quadrent', 'oligur', 'cardiovert', 'core', 'gut', 'griev', 'cisatracurium', 'twitch', 'plat', 'liw', 'crt', 'sacrament', 'grave', 'heroic', 'occupi', 'struggl', 'opinion', 'icter', 'gentamycin', 'themselv', 'ardsnet', 'fibrinogen', 'tubular', 'meaning', 'pplat', 'vasoconstrict', 'sibl', 'gasp', 'hook', 'tran', 'realist', 'aricept', 'analgesia', 'declar', 'dorsal', 'sluggishli', 'prioriti', 'dysynchron', 'ipf', 'goodby', 'hemodynim', 'harm', 'petechia', 'underpenetr', 'ggt', 'pastor', 'led', 'chlorhex', 'inde', 'abnl'], 'pneumonia_alive': ['pleasant', 'gait', 'ambien', 'ambul', 'chair', 'oob', 'commod', 'rm', 'lift', 'puff', 'supervis', 'splint', 'lpm', 'lat', 'db', 'aox', 'breakfast', 'chip', 'foci', 'hyperintens', 'venti', 'laryng', 'cup', 'qtc', 'plate', 'jejunum', 'signatur', 'jewelri', 'dz', 'wallet', 'cash', 'money', 'cloth', 'zyprexa', 'pharyng', 'redirect', 'behavior', 'hilum', 'align', 'rehabilit', 'lotion', 'mrg', 'muir', 'passi', 'cg', 'rpe', 'olanzapin', 'unassist', 'ntnd', 'bottl', 'deflat', 'macu', 'distanc', 'locomot', 'scab', 'mellitu', 'stair', 'probe', 'motor', 'captopril', 'scar', 'magnevist', 'gadolinium', 'pneumococc', 'osa', 'im', 'forc', 'spiromet', 'incent', 'seroquel', 'postop', 'sensat', 'barium', 'video', 'nectar', 'asthma', 'sweat', 'amb', 'dizzi', 'pivot', 'lightheaded', 'ctx', 'wfl', 'endur', 'bromid', 'readmit', 'angri', 'paperwork', 'omeprazol', 'freeli', 'ppd', 'rigor', 'diaphoresi', 'solut', 'divis', 'pneumothorac', 'gabapentin', 'silent', 'aaox', 'habitu', 'vallecula', 'homogen', 'spirit', 'unavail', 'fatti', 'hive', 'tdi', 'echocardiogram', 'cdb', 'seat', 'videofluoroscopi', 'slice']}\n"
     ]
    }
   ],
   "source": [
    "print(frequent_word_lists)"
   ]
  },
  {
   "cell_type": "markdown",
   "metadata": {},
   "source": [
    "### 2. Co-occurrence generation\n",
    "FP-growth"
   ]
  },
  {
   "cell_type": "code",
   "execution_count": null,
   "metadata": {},
   "outputs": [],
   "source": [
    "FREQUENT_WORD_LIST = frequent_word_lists['pneumonia_dead'] + frequent_word_lists['pneumonia_alive']"
   ]
  },
  {
   "cell_type": "code",
   "execution_count": null,
   "metadata": {
    "scrolled": true
   },
   "outputs": [],
   "source": [
    "\"\"\"function description:\n",
    "generates frequent word set for the disease\n",
    "\"\"\"\n",
    "word_dict = {}\n",
    "word_id = 1\n",
    "stemmer = PorterStemmer()\n",
    "\n",
    "\n",
    "for word in FREQUENT_WORD_LIST:\n",
    "    if not word == \"WORD\":\n",
    "        word_dict[stemmer.stem(word.strip())] = word_id\n",
    "        word_id += 1\n",
    "             \n",
    "print(\"\\nword dictionary created!\\n\")\n",
    "print(word_dict)\n"
   ]
  },
  {
   "cell_type": "markdown",
   "metadata": {},
   "source": [
    "### Implementetion with python for FP_growth"
   ]
  },
  {
   "cell_type": "code",
   "execution_count": null,
   "metadata": {
    "scrolled": true
   },
   "outputs": [],
   "source": [
    "# http://rasbt.github.io/mlxtend/user_guide/frequent_patterns/fpgrowth/\n",
    "import os\n",
    "import operator\n",
    "from pathlib import Path\n",
    "from mlxtend.frequent_patterns import fpgrowth\n",
    "from mlxtend.preprocessing import TransactionEncoder\n",
    "import pandas as pd\n",
    "\n",
    "# ----\n",
    "def fp_growth_input_per_patient_python(disease_name, disease_df, word_dict, min_support, label):\n",
    "    \n",
    "    # For dataframe\n",
    "    patient_id_lst = []\n",
    "    patient_cooc_lst = []\n",
    "    patient_cooc_minsup_lst = []\n",
    "    patient_label_lst = []\n",
    "    patient_note_cnt = []\n",
    "    \n",
    "    # --------------    \n",
    "    patient_id = -1\n",
    "    note_cnt = 0\n",
    "    patient_note_list = []\n",
    "    \n",
    "    # read line in from file (each line is one note)\n",
    "    for index, row in tqdm(disease_df.iterrows(), total=disease_df.shape[0]):\n",
    "        \n",
    "        # only regard certain type of notes\n",
    "        patient_id_check = int(row['SUBJECT_ID_x'])\n",
    "        note = re.sub(r'\\[\\*\\*(.*?)\\*\\*\\]|[_,\\d\\*:~=\\.\\-\\+\\\\/]+', ' ', row['TEXT'])\n",
    "        patient_word_set = set()\n",
    "    \n",
    "#         print(f\"patient_id_check: {patient_id_check}, patient_id: {patient_id}\")\n",
    "        # if patient id has changed, end sequence and start new sequence\n",
    "        if not patient_id == patient_id_check and not patient_id == -1:\n",
    "            te = TransactionEncoder()\n",
    "            te_ary = te.fit(patient_note_list).transform(patient_note_list)\n",
    "            df = pd.DataFrame(te_ary, columns=te.columns_)\n",
    "            df_itemsets = fpgrowth(df, min_support=min_support, use_colnames=True)\n",
    "            \n",
    "            cooc_tmp = []\n",
    "            cooc_minsup_tmp = []\n",
    "            \n",
    "            for index, row in df_itemsets.iterrows():\n",
    "                if len(row['itemsets']) == 2:\n",
    "                    cooc_tmp.append(list(row['itemsets']))\n",
    "                    cooc_minsup_tmp.append(row['support'])\n",
    "                    \n",
    "            \n",
    "            # Update glob lists\n",
    "            patient_id_lst.append(patient_id)\n",
    "            patient_cooc_lst.append(cooc_tmp)\n",
    "            patient_cooc_minsup_lst.append(cooc_minsup_tmp)\n",
    "            patient_label_lst.append(label)\n",
    "            patient_note_cnt.append(note_cnt)\n",
    "            \n",
    "            # Reset local lists\n",
    "            patient_note_list = []\n",
    "            note_cnt = 0\n",
    "                    \n",
    "        # update patient id\n",
    "        patient_id = patient_id_check\n",
    "        tokenized_note = word_tokenize(note)\n",
    "        note_cnt += 1\n",
    "\n",
    "        # loop through each word in note to count word belonging to each disease\n",
    "        for word in tokenized_note:\n",
    "            stemmed_word = stemmer.stem(word.lower())       \n",
    "            if stemmed_word in word_dict:\n",
    "                    patient_word_set.add(stemmed_word)\n",
    "\n",
    "        templst = []\n",
    "        for word in patient_word_set:\n",
    "            templst.append(word)\n",
    "\n",
    "        if templst:\n",
    "            patient_note_list.append(templst)\n",
    "    \n",
    "    # Last patient info\n",
    "    te = TransactionEncoder()\n",
    "    te_ary = te.fit(patient_note_list).transform(patient_note_list)\n",
    "    df = pd.DataFrame(te_ary, columns=te.columns_)\n",
    "    df_itemsets = fpgrowth(df, min_support=min_support, use_colnames=True)\n",
    "            \n",
    "    cooc_tmp = []\n",
    "    cooc_minsup_tmp = []\n",
    "            \n",
    "    for index, row in df_itemsets.iterrows():\n",
    "        if len(row['itemsets']) == 2:\n",
    "            cooc_tmp.append(row['itemsets'])\n",
    "            cooc_minsup_tmp.append(row['support'])\n",
    "                    \n",
    "            \n",
    "    # Update glob lists\n",
    "    patient_id_lst.append(patient_id)\n",
    "    patient_cooc_lst.append(cooc_tmp)\n",
    "    patient_cooc_minsup_lst.append(cooc_minsup_tmp)\n",
    "    patient_label_lst.append(label)\n",
    "    patient_note_cnt.append(note_cnt)\n",
    "    \n",
    "#     print(f\"patient_id_lst: {len(patient_id_lst)} patient_cooc_lst: {len(patient_cooc_lst)} patient_cooc_minsup_lst: {len(patient_cooc_minsup_lst)} patient_label_lst: {len(patient_label_lst)} patient_note_cnt: {len(patient_note_cnt)}\")\n",
    "    print(\"FP growth input for \" + disease_name + \" generated!\")\n",
    "    return pd.DataFrame({\"patient_id\":patient_id_lst, \"patient_cooc\":patient_cooc_lst, \"cooc_minsup\":patient_cooc_minsup_lst, \"label\":patient_label_lst, \"note_cnt\":patient_note_cnt})\n",
    "\n",
    "pneumonia_dead_cooc_df = fp_growth_input_per_patient_python(\"pneumonia_dead\", pneumonia_dead_no_disch, word_dict, 0.4, -1)\n",
    "pneumonia_alive_cooc_df = fp_growth_input_per_patient_python(\"pneumonia_alive\", pneumonia_alive_no_disch, word_dict, 0.4, 1)"
   ]
  },
  {
   "cell_type": "code",
   "execution_count": null,
   "metadata": {
    "scrolled": true
   },
   "outputs": [],
   "source": [
    "pneumonia_dead_cooc_df"
   ]
  },
  {
   "cell_type": "code",
   "execution_count": null,
   "metadata": {},
   "outputs": [],
   "source": [
    "cnt_ = 0\n",
    "for i, (index, row) in enumerate(pneumonia_dead_cooc_df.iterrows()):\n",
    "    if row['patient_cooc']:\n",
    "        cnt_ += 1\n",
    "print(cnt_)\n",
    "# 230 min_sup = 0.1\n",
    "# 74 min_sup = 0.4\n",
    "# 94 min_sup = 0.3"
   ]
  },
  {
   "cell_type": "code",
   "execution_count": null,
   "metadata": {},
   "outputs": [],
   "source": [
    "pneumonia_alive_cooc_df"
   ]
  },
  {
   "cell_type": "code",
   "execution_count": null,
   "metadata": {},
   "outputs": [],
   "source": [
    "cnt_ = 0\n",
    "for i, (index, row) in enumerate(pneumonia_alive_cooc_df.iterrows()):\n",
    "    if row['patient_cooc']:\n",
    "        cnt_ += 1\n",
    "print(cnt_)\n",
    "# 763 min_sup = 0.1\n",
    "# 230 min_sup = 0.4\n",
    "# 381 min_sup = 0.3"
   ]
  },
  {
   "cell_type": "code",
   "execution_count": null,
   "metadata": {},
   "outputs": [],
   "source": []
  },
  {
   "cell_type": "code",
   "execution_count": null,
   "metadata": {},
   "outputs": [],
   "source": []
  },
  {
   "cell_type": "code",
   "execution_count": null,
   "metadata": {},
   "outputs": [],
   "source": []
  },
  {
   "cell_type": "markdown",
   "metadata": {},
   "source": [
    "### Train the model"
   ]
  },
  {
   "cell_type": "code",
   "execution_count": null,
   "metadata": {},
   "outputs": [],
   "source": [
    "import pandas as pd\n",
    "import numpy as np\n",
    "\n",
    "import stellargraph as sg\n",
    "from stellargraph.mapper import PaddedGraphGenerator\n",
    "from stellargraph.layer import GCNSupervisedGraphClassification\n",
    "from stellargraph import StellarGraph\n",
    "\n",
    "from stellargraph import datasets\n",
    "\n",
    "from sklearn import model_selection\n",
    "from IPython.display import display, HTML\n",
    "\n",
    "from tensorflow.keras import Model\n",
    "from tensorflow.keras.optimizers import Adam\n",
    "from tensorflow.keras.layers import Dense\n",
    "from tensorflow.keras.losses import binary_crossentropy\n",
    "from tensorflow.keras.callbacks import EarlyStopping\n",
    "import tensorflow as tf\n",
    "import matplotlib.pyplot as plt"
   ]
  },
  {
   "cell_type": "code",
   "execution_count": null,
   "metadata": {},
   "outputs": [],
   "source": [
    "# https://medium.com/@kegui/how-do-i-know-i-am-running-keras-model-on-gpu-a9cdcc24f986\n",
    "from tensorflow.python.client import device_lib\n",
    "print(device_lib.list_local_devices())"
   ]
  },
  {
   "cell_type": "markdown",
   "metadata": {},
   "source": [
    "### Load the data"
   ]
  },
  {
   "cell_type": "code",
   "execution_count": null,
   "metadata": {},
   "outputs": [],
   "source": [
    "from stellargraph import StellarGraph\n",
    "\n",
    "def create_graph_list(pd_df):\n",
    "    graphs = []\n",
    "    labels = []\n",
    "\n",
    "    for index, row in pd_df.iterrows():\n",
    "        if row['patient_cooc']:\n",
    "            source = []\n",
    "            target = []\n",
    "            for cooc in row['patient_cooc']:\n",
    "                source.append(cooc[0])\n",
    "                target.append(cooc[1])\n",
    "            \n",
    "            square_edges = pd.DataFrame({\"source\": source, \"target\": target})\n",
    "            square = StellarGraph(edges=square_edges)\n",
    "            graphs.append(square)\n",
    "            labels.append(row['label'])\n",
    "    return graphs, labels\n",
    "\n",
    "graphs = []\n",
    "labels = []\n",
    "\n",
    "graph_1, label_1 = create_graph_list(pneumonia_dead_cooc_df)\n",
    "graph_2, label_2= create_graph_list(pneumonia_alive_cooc_df)\n",
    "\n",
    "graphs.extend(graph_1)\n",
    "labels.extend(label_1)\n",
    "print(f\"graphs: {len(graphs)}, labels: {len(graphs)}\")\n",
    "graphs.extend(graph_2)\n",
    "labels.extend(label_2)\n",
    "print(f\"graphs: {len(graphs)}, labels: {len(graphs)}\")"
   ]
  },
  {
   "cell_type": "code",
   "execution_count": null,
   "metadata": {},
   "outputs": [],
   "source": [
    "print(graphs[0].info())"
   ]
  },
  {
   "cell_type": "code",
   "execution_count": null,
   "metadata": {},
   "outputs": [],
   "source": [
    "print(graphs[1].info())"
   ]
  },
  {
   "cell_type": "code",
   "execution_count": null,
   "metadata": {},
   "outputs": [],
   "source": [
    "summary = pd.DataFrame(\n",
    "    [(g.number_of_nodes(), g.number_of_edges()) for g in graphs],\n",
    "    columns=[\"nodes\", \"edges\"],\n",
    ")\n",
    "summary.describe().round(1)"
   ]
  },
  {
   "cell_type": "code",
   "execution_count": null,
   "metadata": {},
   "outputs": [],
   "source": [
    "graph_labels.value_counts().to_frame()"
   ]
  },
  {
   "cell_type": "code",
   "execution_count": null,
   "metadata": {},
   "outputs": [],
   "source": []
  },
  {
   "cell_type": "code",
   "execution_count": null,
   "metadata": {},
   "outputs": [],
   "source": []
  },
  {
   "cell_type": "code",
   "execution_count": null,
   "metadata": {},
   "outputs": [],
   "source": []
  },
  {
   "cell_type": "code",
   "execution_count": null,
   "metadata": {},
   "outputs": [],
   "source": []
  },
  {
   "cell_type": "code",
   "execution_count": null,
   "metadata": {},
   "outputs": [],
   "source": []
  },
  {
   "cell_type": "markdown",
   "metadata": {},
   "source": [
    "### Implementation for spmf java"
   ]
  },
  {
   "cell_type": "code",
   "execution_count": null,
   "metadata": {},
   "outputs": [],
   "source": [
    "import operator\n",
    "\n",
    "\"\"\"function description:\n",
    "generates patient word itemset for each disease\n",
    "\"\"\"\n",
    "# # define stemmer\n",
    "# stemmer = PorterStemmer()\n",
    "\n",
    "def generate_FP_input_per_note(disease_name, disease_df, word_dict):\n",
    "    with open(disease_name, \"w\") as output_fp:\n",
    "\n",
    "        # write the coverted dic for the text\n",
    "        # od = collections.OrderedDict(sorted(word_dict.items()))\n",
    "        od = sorted(word_dict.items(), key = operator.itemgetter(1))\n",
    "        output_fp.write(\"@CONVERTED_FROM_TEXT\")\n",
    "        output_fp.write(\"\\n\")\n",
    "        # for k, v in od.iteritems():\n",
    "        for k,v in od:\n",
    "            output_fp.write(\"@ITEM=\")\n",
    "            output_fp.write(str(v))\n",
    "            output_fp.write(\"=\")\n",
    "            output_fp.write(str(k))\n",
    "            output_fp.write(\"\\n\")\n",
    "\n",
    "        # read line in from file (each line is one note)\n",
    "        for index, row in tqdm(disease_df.iterrows(), total=disease_df.shape[0]):\n",
    "            # if not \"Physician\" in line[4]:\n",
    "            #     continue\n",
    "                    \n",
    "            word_set = set()\n",
    "            note = row['TEXT']\n",
    "\n",
    "            tokenized_note = word_tokenize(note)\n",
    "\n",
    "            # loop through each word in note to count word belonging to each disease\n",
    "            for word in tokenized_note:\n",
    "                stemmed_word = stemmer.stem(word.lower())\n",
    "                if stemmed_word in word_dict:\n",
    "                    word_set.add(stemmed_word)\n",
    "\n",
    "            templst = []\n",
    "            for word in word_set:\n",
    "                templst.append(word_dict[word])\n",
    "\n",
    "            templst.sort()\n",
    "            for x in range(len(templst) - 1):\n",
    "                output_fp.write(str(templst[x]) + \" \")\n",
    "\n",
    "            if templst:\n",
    "                output_fp.write(str(templst[len(templst)-1]))\n",
    "                output_fp.write(\"\\n\")\n",
    "            \n",
    "    print(\"FP growth input for \" + disease_name + \" generated!\")\n",
    "\n",
    "# Given as a parameter\n",
    "generate_FP_input_per_note(\"pneumonia_dead\", pneumonia_dead_no_disch, word_dict)\n",
    "generate_FP_input_per_note(\"pneumonia_alive\", pneumonia_alive_no_disch, word_dict)\n"
   ]
  },
  {
   "cell_type": "code",
   "execution_count": null,
   "metadata": {},
   "outputs": [],
   "source": []
  },
  {
   "cell_type": "code",
   "execution_count": null,
   "metadata": {},
   "outputs": [],
   "source": []
  },
  {
   "cell_type": "code",
   "execution_count": null,
   "metadata": {},
   "outputs": [],
   "source": []
  },
  {
   "cell_type": "code",
   "execution_count": null,
   "metadata": {},
   "outputs": [],
   "source": [
    "import os\n",
    "import operator\n",
    "from pathlib import Path\n",
    "\n",
    "# ----\n",
    "def fp_growth_input_per_patient(disease_name, disease_df, word_dict):\n",
    "    \n",
    "    disease_path = os.path.join(\"./tmp\", disease_name, \"inputs\")\n",
    "    if not os.path.exists(disease_path):\n",
    "        os.makedirs(disease_path)\n",
    "        \n",
    "    patient_id = -1\n",
    "#     patient_word_set = set()\n",
    "    patient_note_list = []\n",
    "    \n",
    "    # read line in from file (each line is one note)\n",
    "    for index, row in tqdm(disease_df.iterrows(), total=disease_df.shape[0]):\n",
    "        # only regard certain type of notes\n",
    "        patient_id_check = int(row['SUBJECT_ID_x'])\n",
    "        note = re.sub(r'\\[\\*\\*(.*?)\\*\\*\\]|[_,\\d\\*:~=\\.\\-\\+\\\\/]+', ' ', row['TEXT'])\n",
    "        patient_word_set = set()\n",
    "    \n",
    "#         print(f\"patient_id_check: {patient_id_check}, patient_id: {patient_id}\")\n",
    "        # if patient id has changed, end sequence and start new sequence\n",
    "        if not patient_id == patient_id_check and not patient_id == -1:\n",
    "        \n",
    "#             disease_path = \"./tmp/\" + disease_name\n",
    "            file_name = str(patient_id) + '_' + disease_name\n",
    "            file_path = os.path.join(disease_path, file_name)\n",
    "            \n",
    "            with open(file_path, \"w\") as output_fp:\n",
    "                # write the coverted dic for the text\n",
    "                # od = collections.OrderedDict(sorted(word_dict.items()))\n",
    "    \n",
    "                od = sorted(word_dict.items(), key = operator.itemgetter(1))\n",
    "                output_fp.write(\"@CONVERTED_FROM_TEXT\")\n",
    "                output_fp.write(\"\\n\")\n",
    "                # for k, v in od.iteritems():\n",
    "                for k,v in od:\n",
    "                    output_fp.write(\"@ITEM=\")\n",
    "                    output_fp.write(str(v))\n",
    "                    output_fp.write(\"=\")\n",
    "                    output_fp.write(str(k))\n",
    "                    output_fp.write(\"\\n\")\n",
    "\n",
    "                for item in patient_note_list:\n",
    "                    for x in range(len(item) - 1):\n",
    "                        output_fp.write(str(item[x]) + \" \")\n",
    "\n",
    "                    if item:\n",
    "                        output_fp.write(str(item[len(item)-1]))\n",
    "                        output_fp.write(\"\\n\")\n",
    "\n",
    "                patient_note_list = []\n",
    "                \n",
    "\n",
    "                    \n",
    "        # update patient id\n",
    "        patient_id = patient_id_check\n",
    "        tokenized_note = word_tokenize(note)\n",
    "\n",
    "        # loop through each word in note to count word belonging to each disease\n",
    "        for word in tokenized_note:\n",
    "            stemmed_word = stemmer.stem(word.lower())       \n",
    "            if stemmed_word in word_dict:\n",
    "                    patient_word_set.add(stemmed_word)\n",
    "\n",
    "        templst = []\n",
    "        for word in patient_word_set:\n",
    "            templst.append(word_dict[word])\n",
    "\n",
    "        templst.sort()\n",
    "        patient_note_list.append(templst)\n",
    "        \n",
    "            \n",
    "    print(\"FP growth input for \" + disease_name + \" generated!\")\n",
    "\n",
    "fp_growth_input_per_patient(\"pneumonia_dead\", pneumonia_dead_no_disch, word_dict)\n",
    "fp_growth_input_per_patient(\"pneumonia_alive\", pneumonia_alive_no_disch, word_dict)\n",
    "\n"
   ]
  },
  {
   "cell_type": "code",
   "execution_count": null,
   "metadata": {},
   "outputs": [],
   "source": [
    "import os, subprocess\n",
    "print(os.getcwd())\n",
    "os.system('ls -l')\n",
    "# process = subprocess.Popen([\"java -jar spmf run FPGrowth_itemsets pneumonia_dead FP_out_test 3%\"])\n",
    "# process.wait()"
   ]
  },
  {
   "cell_type": "code",
   "execution_count": null,
   "metadata": {
    "scrolled": true
   },
   "outputs": [],
   "source": [
    "import os, subprocess\n",
    "from tqdm import tqdm\n",
    "def fp_growth_output_per_pratient(disease_name):\n",
    "#     spmf = ['java', '-jar', 'spmf.jar', 'run', 'FPGrowth_itemsets']\n",
    "    minsup = '70%'\n",
    "    inputdir = os.path.join(\"./tmp\", disease_name, \"inputs\")\n",
    "    \n",
    "    outputdir = os.path.join(\"./tmp\", disease_name, \"outputs\")\n",
    "    if not os.path.exists(outputdir):\n",
    "        os.makedirs(outputdir)\n",
    "        \n",
    "    for patient_file in tqdm(os.listdir(inputdir)):\n",
    "#         print(patient_file)\n",
    "        input_ = os.path.join(inputdir, patient_file)\n",
    "        output_ = os.path.join(outputdir, patient_file)\n",
    "#         print(f\"input_: {input_}\")\n",
    "#         print(f\"output_: {output_}\")\n",
    "        command = ['java', '-jar', 'spmf.jar', 'run', 'FPGrowth_itemsets', input_, output_, minsup]\n",
    "#         print(f\"command: {command}\")\n",
    "        subprocess.call(command)\n",
    "\n",
    "        \n",
    "\n",
    "fp_growth_output_per_pratient(\"pneumonia_dead\")\n",
    "fp_growth_output_per_pratient(\"pneumonia_alive\")\n",
    "    "
   ]
  },
  {
   "cell_type": "code",
   "execution_count": null,
   "metadata": {
    "scrolled": true
   },
   "outputs": [],
   "source": [
    "def findItemSets(fileName, length_OfItemSet):\n",
    "\n",
    "    file_read = fileName\n",
    "    lengthOfItemSet = int(length_OfItemSet)\n",
    "\n",
    "    wordlst = []\n",
    "    with open(file_read, \"r\") as fp:\n",
    "        for line in fp:\n",
    "            line = line.split()\n",
    "            if line:\n",
    "                wordlst.append(line)\n",
    "\n",
    "    coocurrencies = []\n",
    "\n",
    "    for listitem in wordlst:\n",
    "\n",
    "        if len(listitem) == (lengthOfItemSet + 2):\n",
    "            coocurrencies.append(listitem)\n",
    "\n",
    "    output = sorted(coocurrencies, key=lambda x: int(x[-1]))\n",
    "\n",
    "\n",
    "    for x in reversed(output):\n",
    "        if lengthOfItemSet == 2:\n",
    "            print(\"%s %s %s\" % (x[0], x[1], x[3]))\n",
    "        elif lengthOfItemSet == 3:\n",
    "            print(\"%s %s %s %s\" % (x[0], x[1], x[2], x[4]))\n",
    "        elif lengthOfItemSet == 4:\n",
    "            print(\"%s %s %s %s %s\" % (x[0], x[1], x[2], x[3], x[5]))\n",
    "        elif lengthOfItemSet == 5:\n",
    "            print(\"%s %s %s %s %s %s\" % (x[0], x[1], x[2], x[3], x[4], x[6]))\n",
    "            \n",
    "# findItemSets('FP_growth_pneumonia_alive_output.txt', 2)\n",
    "findItemSets('./tmp/111_out.txt', 2)"
   ]
  },
  {
   "cell_type": "code",
   "execution_count": null,
   "metadata": {},
   "outputs": [],
   "source": []
  }
 ],
 "metadata": {
  "kernelspec": {
   "display_name": "Python 3",
   "language": "python",
   "name": "python3"
  },
  "language_info": {
   "codemirror_mode": {
    "name": "ipython",
    "version": 3
   },
   "file_extension": ".py",
   "mimetype": "text/x-python",
   "name": "python",
   "nbconvert_exporter": "python",
   "pygments_lexer": "ipython3",
   "version": "3.7.6"
  }
 },
 "nbformat": 4,
 "nbformat_minor": 4
}
