{
 "cells": [
  {
   "cell_type": "markdown",
   "metadata": {},
   "source": [
    "### Data extraction\n",
    "Extract data from MIMIC-III"
   ]
  },
  {
   "cell_type": "code",
   "execution_count": 1,
   "metadata": {},
   "outputs": [
    {
     "data": {
      "text/html": [
       "        <script type=\"text/javascript\">\n",
       "        window.PlotlyConfig = {MathJaxConfig: 'local'};\n",
       "        if (window.MathJax) {MathJax.Hub.Config({SVG: {font: \"STIX-Web\"}});}\n",
       "        if (typeof require !== 'undefined') {\n",
       "        require.undef(\"plotly\");\n",
       "        requirejs.config({\n",
       "            paths: {\n",
       "                'plotly': ['https://cdn.plot.ly/plotly-latest.min']\n",
       "            }\n",
       "        });\n",
       "        require(['plotly'], function(Plotly) {\n",
       "            window._Plotly = Plotly;\n",
       "        });\n",
       "        }\n",
       "        </script>\n",
       "        "
      ]
     },
     "metadata": {},
     "output_type": "display_data"
    }
   ],
   "source": [
    "import time\n",
    "import numpy as np \n",
    "import pandas as pd\n",
    "import matplotlib.pyplot as plt\n",
    "import seaborn as sns\n",
    "from tqdm import tqdm\n",
    "\n",
    "# import re\n",
    "\n",
    "# import plotly.graph_objs as go\n",
    "# import plotly.plotly as py\n",
    "import cufflinks\n",
    "# from IPython.core.interactiveshell import InteractiveShell\n",
    "# import plotly.figure_factory as ff\n",
    "# InteractiveShell.ast_node_interactivity = 'all'\n",
    "# from plotly.offline import iplot\n",
    "cufflinks.go_offline()\n",
    "cufflinks.set_config_file(world_readable=True, theme='pearl')"
   ]
  },
  {
   "cell_type": "code",
   "execution_count": 2,
   "metadata": {},
   "outputs": [
    {
     "name": "stderr",
     "output_type": "stream",
     "text": [
      "/data/home/evgenii/anaconda3/lib/python3.7/site-packages/IPython/core/interactiveshell.py:3063: DtypeWarning:\n",
      "\n",
      "Columns (4,5) have mixed types.Specify dtype option on import or set low_memory=False.\n",
      "\n"
     ]
    },
    {
     "name": "stdout",
     "output_type": "stream",
     "text": [
      "43.55208730697632\n"
     ]
    }
   ],
   "source": [
    "# Import pandas \n",
    "import pandas as pd \n",
    "\n",
    "start = time.time()\n",
    "# reading csv file \n",
    "admissions_df = pd.read_csv(\"../MIMIC-III/ADMISSIONS.csv\")\n",
    "noteevents_df = pd.read_csv(\"../MIMIC-III/NOTEEVENTS.csv\") \n",
    "end = time.time()\n",
    "print(end - start)\n"
   ]
  },
  {
   "cell_type": "code",
   "execution_count": 3,
   "metadata": {},
   "outputs": [],
   "source": [
    "# diagnosis = df.DIAGNOSIS.unique()\n",
    "# #PNEUMONIA\n",
    "# for i in diagnosis:\n",
    "#     print(f\"[{i}]\")\n",
    "# data = df.copy()\n",
    "# data.info()\n",
    "\n",
    "# pneumonia_df = data.loc[df['DIAGNOSIS'] == 'PNEUMONIA']\n",
    "# pneumonia_df.info()"
   ]
  },
  {
   "cell_type": "code",
   "execution_count": 4,
   "metadata": {
    "scrolled": true
   },
   "outputs": [
    {
     "data": {
      "text/html": [
       "<div>\n",
       "<style scoped>\n",
       "    .dataframe tbody tr th:only-of-type {\n",
       "        vertical-align: middle;\n",
       "    }\n",
       "\n",
       "    .dataframe tbody tr th {\n",
       "        vertical-align: top;\n",
       "    }\n",
       "\n",
       "    .dataframe thead th {\n",
       "        text-align: right;\n",
       "    }\n",
       "</style>\n",
       "<table border=\"1\" class=\"dataframe\">\n",
       "  <thead>\n",
       "    <tr style=\"text-align: right;\">\n",
       "      <th></th>\n",
       "      <th>ROW_ID</th>\n",
       "      <th>SUBJECT_ID</th>\n",
       "      <th>HADM_ID</th>\n",
       "      <th>ADMITTIME</th>\n",
       "      <th>DISCHTIME</th>\n",
       "      <th>DEATHTIME</th>\n",
       "      <th>ADMISSION_TYPE</th>\n",
       "      <th>ADMISSION_LOCATION</th>\n",
       "      <th>DISCHARGE_LOCATION</th>\n",
       "      <th>INSURANCE</th>\n",
       "      <th>LANGUAGE</th>\n",
       "      <th>RELIGION</th>\n",
       "      <th>MARITAL_STATUS</th>\n",
       "      <th>ETHNICITY</th>\n",
       "      <th>EDREGTIME</th>\n",
       "      <th>EDOUTTIME</th>\n",
       "      <th>DIAGNOSIS</th>\n",
       "      <th>HOSPITAL_EXPIRE_FLAG</th>\n",
       "      <th>HAS_CHARTEVENTS_DATA</th>\n",
       "    </tr>\n",
       "  </thead>\n",
       "  <tbody>\n",
       "    <tr>\n",
       "      <th>0</th>\n",
       "      <td>21</td>\n",
       "      <td>22</td>\n",
       "      <td>165315</td>\n",
       "      <td>2196-04-09 12:26:00</td>\n",
       "      <td>2196-04-10 15:54:00</td>\n",
       "      <td>NaN</td>\n",
       "      <td>EMERGENCY</td>\n",
       "      <td>EMERGENCY ROOM ADMIT</td>\n",
       "      <td>DISC-TRAN CANCER/CHLDRN H</td>\n",
       "      <td>Private</td>\n",
       "      <td>NaN</td>\n",
       "      <td>UNOBTAINABLE</td>\n",
       "      <td>MARRIED</td>\n",
       "      <td>WHITE</td>\n",
       "      <td>2196-04-09 10:06:00</td>\n",
       "      <td>2196-04-09 13:24:00</td>\n",
       "      <td>BENZODIAZEPINE OVERDOSE</td>\n",
       "      <td>0</td>\n",
       "      <td>1</td>\n",
       "    </tr>\n",
       "    <tr>\n",
       "      <th>1</th>\n",
       "      <td>22</td>\n",
       "      <td>23</td>\n",
       "      <td>152223</td>\n",
       "      <td>2153-09-03 07:15:00</td>\n",
       "      <td>2153-09-08 19:10:00</td>\n",
       "      <td>NaN</td>\n",
       "      <td>ELECTIVE</td>\n",
       "      <td>PHYS REFERRAL/NORMAL DELI</td>\n",
       "      <td>HOME HEALTH CARE</td>\n",
       "      <td>Medicare</td>\n",
       "      <td>NaN</td>\n",
       "      <td>CATHOLIC</td>\n",
       "      <td>MARRIED</td>\n",
       "      <td>WHITE</td>\n",
       "      <td>NaN</td>\n",
       "      <td>NaN</td>\n",
       "      <td>CORONARY ARTERY DISEASE\\CORONARY ARTERY BYPASS...</td>\n",
       "      <td>0</td>\n",
       "      <td>1</td>\n",
       "    </tr>\n",
       "    <tr>\n",
       "      <th>2</th>\n",
       "      <td>23</td>\n",
       "      <td>23</td>\n",
       "      <td>124321</td>\n",
       "      <td>2157-10-18 19:34:00</td>\n",
       "      <td>2157-10-25 14:00:00</td>\n",
       "      <td>NaN</td>\n",
       "      <td>EMERGENCY</td>\n",
       "      <td>TRANSFER FROM HOSP/EXTRAM</td>\n",
       "      <td>HOME HEALTH CARE</td>\n",
       "      <td>Medicare</td>\n",
       "      <td>ENGL</td>\n",
       "      <td>CATHOLIC</td>\n",
       "      <td>MARRIED</td>\n",
       "      <td>WHITE</td>\n",
       "      <td>NaN</td>\n",
       "      <td>NaN</td>\n",
       "      <td>BRAIN MASS</td>\n",
       "      <td>0</td>\n",
       "      <td>1</td>\n",
       "    </tr>\n",
       "    <tr>\n",
       "      <th>3</th>\n",
       "      <td>24</td>\n",
       "      <td>24</td>\n",
       "      <td>161859</td>\n",
       "      <td>2139-06-06 16:14:00</td>\n",
       "      <td>2139-06-09 12:48:00</td>\n",
       "      <td>NaN</td>\n",
       "      <td>EMERGENCY</td>\n",
       "      <td>TRANSFER FROM HOSP/EXTRAM</td>\n",
       "      <td>HOME</td>\n",
       "      <td>Private</td>\n",
       "      <td>NaN</td>\n",
       "      <td>PROTESTANT QUAKER</td>\n",
       "      <td>SINGLE</td>\n",
       "      <td>WHITE</td>\n",
       "      <td>NaN</td>\n",
       "      <td>NaN</td>\n",
       "      <td>INTERIOR MYOCARDIAL INFARCTION</td>\n",
       "      <td>0</td>\n",
       "      <td>1</td>\n",
       "    </tr>\n",
       "    <tr>\n",
       "      <th>4</th>\n",
       "      <td>25</td>\n",
       "      <td>25</td>\n",
       "      <td>129635</td>\n",
       "      <td>2160-11-02 02:06:00</td>\n",
       "      <td>2160-11-05 14:55:00</td>\n",
       "      <td>NaN</td>\n",
       "      <td>EMERGENCY</td>\n",
       "      <td>EMERGENCY ROOM ADMIT</td>\n",
       "      <td>HOME</td>\n",
       "      <td>Private</td>\n",
       "      <td>NaN</td>\n",
       "      <td>UNOBTAINABLE</td>\n",
       "      <td>MARRIED</td>\n",
       "      <td>WHITE</td>\n",
       "      <td>2160-11-02 01:01:00</td>\n",
       "      <td>2160-11-02 04:27:00</td>\n",
       "      <td>ACUTE CORONARY SYNDROME</td>\n",
       "      <td>0</td>\n",
       "      <td>1</td>\n",
       "    </tr>\n",
       "    <tr>\n",
       "      <th>...</th>\n",
       "      <td>...</td>\n",
       "      <td>...</td>\n",
       "      <td>...</td>\n",
       "      <td>...</td>\n",
       "      <td>...</td>\n",
       "      <td>...</td>\n",
       "      <td>...</td>\n",
       "      <td>...</td>\n",
       "      <td>...</td>\n",
       "      <td>...</td>\n",
       "      <td>...</td>\n",
       "      <td>...</td>\n",
       "      <td>...</td>\n",
       "      <td>...</td>\n",
       "      <td>...</td>\n",
       "      <td>...</td>\n",
       "      <td>...</td>\n",
       "      <td>...</td>\n",
       "      <td>...</td>\n",
       "    </tr>\n",
       "    <tr>\n",
       "      <th>58971</th>\n",
       "      <td>58594</td>\n",
       "      <td>98800</td>\n",
       "      <td>191113</td>\n",
       "      <td>2131-03-30 21:13:00</td>\n",
       "      <td>2131-04-02 15:02:00</td>\n",
       "      <td>NaN</td>\n",
       "      <td>EMERGENCY</td>\n",
       "      <td>CLINIC REFERRAL/PREMATURE</td>\n",
       "      <td>HOME</td>\n",
       "      <td>Private</td>\n",
       "      <td>ENGL</td>\n",
       "      <td>NOT SPECIFIED</td>\n",
       "      <td>SINGLE</td>\n",
       "      <td>WHITE</td>\n",
       "      <td>2131-03-30 19:44:00</td>\n",
       "      <td>2131-03-30 22:41:00</td>\n",
       "      <td>TRAUMA</td>\n",
       "      <td>0</td>\n",
       "      <td>1</td>\n",
       "    </tr>\n",
       "    <tr>\n",
       "      <th>58972</th>\n",
       "      <td>58595</td>\n",
       "      <td>98802</td>\n",
       "      <td>101071</td>\n",
       "      <td>2151-03-05 20:00:00</td>\n",
       "      <td>2151-03-06 09:10:00</td>\n",
       "      <td>2151-03-06 09:10:00</td>\n",
       "      <td>EMERGENCY</td>\n",
       "      <td>CLINIC REFERRAL/PREMATURE</td>\n",
       "      <td>DEAD/EXPIRED</td>\n",
       "      <td>Medicare</td>\n",
       "      <td>ENGL</td>\n",
       "      <td>CATHOLIC</td>\n",
       "      <td>WIDOWED</td>\n",
       "      <td>WHITE</td>\n",
       "      <td>2151-03-05 17:23:00</td>\n",
       "      <td>2151-03-05 21:06:00</td>\n",
       "      <td>SAH</td>\n",
       "      <td>1</td>\n",
       "      <td>1</td>\n",
       "    </tr>\n",
       "    <tr>\n",
       "      <th>58973</th>\n",
       "      <td>58596</td>\n",
       "      <td>98805</td>\n",
       "      <td>122631</td>\n",
       "      <td>2200-09-12 07:15:00</td>\n",
       "      <td>2200-09-20 12:08:00</td>\n",
       "      <td>NaN</td>\n",
       "      <td>ELECTIVE</td>\n",
       "      <td>PHYS REFERRAL/NORMAL DELI</td>\n",
       "      <td>HOME HEALTH CARE</td>\n",
       "      <td>Private</td>\n",
       "      <td>ENGL</td>\n",
       "      <td>NOT SPECIFIED</td>\n",
       "      <td>MARRIED</td>\n",
       "      <td>WHITE</td>\n",
       "      <td>NaN</td>\n",
       "      <td>NaN</td>\n",
       "      <td>RENAL CANCER/SDA</td>\n",
       "      <td>0</td>\n",
       "      <td>1</td>\n",
       "    </tr>\n",
       "    <tr>\n",
       "      <th>58974</th>\n",
       "      <td>58597</td>\n",
       "      <td>98813</td>\n",
       "      <td>170407</td>\n",
       "      <td>2128-11-11 02:29:00</td>\n",
       "      <td>2128-12-22 13:11:00</td>\n",
       "      <td>NaN</td>\n",
       "      <td>EMERGENCY</td>\n",
       "      <td>EMERGENCY ROOM ADMIT</td>\n",
       "      <td>SNF</td>\n",
       "      <td>Private</td>\n",
       "      <td>ENGL</td>\n",
       "      <td>CATHOLIC</td>\n",
       "      <td>MARRIED</td>\n",
       "      <td>WHITE</td>\n",
       "      <td>2128-11-10 23:48:00</td>\n",
       "      <td>2128-11-11 03:16:00</td>\n",
       "      <td>S/P FALL</td>\n",
       "      <td>0</td>\n",
       "      <td>0</td>\n",
       "    </tr>\n",
       "    <tr>\n",
       "      <th>58975</th>\n",
       "      <td>58598</td>\n",
       "      <td>98813</td>\n",
       "      <td>190264</td>\n",
       "      <td>2131-10-25 03:09:00</td>\n",
       "      <td>2131-10-26 17:44:00</td>\n",
       "      <td>NaN</td>\n",
       "      <td>EMERGENCY</td>\n",
       "      <td>CLINIC REFERRAL/PREMATURE</td>\n",
       "      <td>HOME</td>\n",
       "      <td>Private</td>\n",
       "      <td>ENGL</td>\n",
       "      <td>CATHOLIC</td>\n",
       "      <td>MARRIED</td>\n",
       "      <td>WHITE</td>\n",
       "      <td>2131-10-25 00:08:00</td>\n",
       "      <td>2131-10-25 04:35:00</td>\n",
       "      <td>INTRACRANIAL HEMORRHAGE</td>\n",
       "      <td>0</td>\n",
       "      <td>1</td>\n",
       "    </tr>\n",
       "  </tbody>\n",
       "</table>\n",
       "<p>58976 rows × 19 columns</p>\n",
       "</div>"
      ],
      "text/plain": [
       "       ROW_ID  SUBJECT_ID  HADM_ID            ADMITTIME            DISCHTIME  \\\n",
       "0          21          22   165315  2196-04-09 12:26:00  2196-04-10 15:54:00   \n",
       "1          22          23   152223  2153-09-03 07:15:00  2153-09-08 19:10:00   \n",
       "2          23          23   124321  2157-10-18 19:34:00  2157-10-25 14:00:00   \n",
       "3          24          24   161859  2139-06-06 16:14:00  2139-06-09 12:48:00   \n",
       "4          25          25   129635  2160-11-02 02:06:00  2160-11-05 14:55:00   \n",
       "...       ...         ...      ...                  ...                  ...   \n",
       "58971   58594       98800   191113  2131-03-30 21:13:00  2131-04-02 15:02:00   \n",
       "58972   58595       98802   101071  2151-03-05 20:00:00  2151-03-06 09:10:00   \n",
       "58973   58596       98805   122631  2200-09-12 07:15:00  2200-09-20 12:08:00   \n",
       "58974   58597       98813   170407  2128-11-11 02:29:00  2128-12-22 13:11:00   \n",
       "58975   58598       98813   190264  2131-10-25 03:09:00  2131-10-26 17:44:00   \n",
       "\n",
       "                 DEATHTIME ADMISSION_TYPE         ADMISSION_LOCATION  \\\n",
       "0                      NaN      EMERGENCY       EMERGENCY ROOM ADMIT   \n",
       "1                      NaN       ELECTIVE  PHYS REFERRAL/NORMAL DELI   \n",
       "2                      NaN      EMERGENCY  TRANSFER FROM HOSP/EXTRAM   \n",
       "3                      NaN      EMERGENCY  TRANSFER FROM HOSP/EXTRAM   \n",
       "4                      NaN      EMERGENCY       EMERGENCY ROOM ADMIT   \n",
       "...                    ...            ...                        ...   \n",
       "58971                  NaN      EMERGENCY  CLINIC REFERRAL/PREMATURE   \n",
       "58972  2151-03-06 09:10:00      EMERGENCY  CLINIC REFERRAL/PREMATURE   \n",
       "58973                  NaN       ELECTIVE  PHYS REFERRAL/NORMAL DELI   \n",
       "58974                  NaN      EMERGENCY       EMERGENCY ROOM ADMIT   \n",
       "58975                  NaN      EMERGENCY  CLINIC REFERRAL/PREMATURE   \n",
       "\n",
       "              DISCHARGE_LOCATION INSURANCE LANGUAGE           RELIGION  \\\n",
       "0      DISC-TRAN CANCER/CHLDRN H   Private      NaN       UNOBTAINABLE   \n",
       "1               HOME HEALTH CARE  Medicare      NaN           CATHOLIC   \n",
       "2               HOME HEALTH CARE  Medicare     ENGL           CATHOLIC   \n",
       "3                           HOME   Private      NaN  PROTESTANT QUAKER   \n",
       "4                           HOME   Private      NaN       UNOBTAINABLE   \n",
       "...                          ...       ...      ...                ...   \n",
       "58971                       HOME   Private     ENGL      NOT SPECIFIED   \n",
       "58972               DEAD/EXPIRED  Medicare     ENGL           CATHOLIC   \n",
       "58973           HOME HEALTH CARE   Private     ENGL      NOT SPECIFIED   \n",
       "58974                        SNF   Private     ENGL           CATHOLIC   \n",
       "58975                       HOME   Private     ENGL           CATHOLIC   \n",
       "\n",
       "      MARITAL_STATUS ETHNICITY            EDREGTIME            EDOUTTIME  \\\n",
       "0            MARRIED     WHITE  2196-04-09 10:06:00  2196-04-09 13:24:00   \n",
       "1            MARRIED     WHITE                  NaN                  NaN   \n",
       "2            MARRIED     WHITE                  NaN                  NaN   \n",
       "3             SINGLE     WHITE                  NaN                  NaN   \n",
       "4            MARRIED     WHITE  2160-11-02 01:01:00  2160-11-02 04:27:00   \n",
       "...              ...       ...                  ...                  ...   \n",
       "58971         SINGLE     WHITE  2131-03-30 19:44:00  2131-03-30 22:41:00   \n",
       "58972        WIDOWED     WHITE  2151-03-05 17:23:00  2151-03-05 21:06:00   \n",
       "58973        MARRIED     WHITE                  NaN                  NaN   \n",
       "58974        MARRIED     WHITE  2128-11-10 23:48:00  2128-11-11 03:16:00   \n",
       "58975        MARRIED     WHITE  2131-10-25 00:08:00  2131-10-25 04:35:00   \n",
       "\n",
       "                                               DIAGNOSIS  \\\n",
       "0                                BENZODIAZEPINE OVERDOSE   \n",
       "1      CORONARY ARTERY DISEASE\\CORONARY ARTERY BYPASS...   \n",
       "2                                             BRAIN MASS   \n",
       "3                         INTERIOR MYOCARDIAL INFARCTION   \n",
       "4                                ACUTE CORONARY SYNDROME   \n",
       "...                                                  ...   \n",
       "58971                                             TRAUMA   \n",
       "58972                                                SAH   \n",
       "58973                                   RENAL CANCER/SDA   \n",
       "58974                                           S/P FALL   \n",
       "58975                            INTRACRANIAL HEMORRHAGE   \n",
       "\n",
       "       HOSPITAL_EXPIRE_FLAG  HAS_CHARTEVENTS_DATA  \n",
       "0                         0                     1  \n",
       "1                         0                     1  \n",
       "2                         0                     1  \n",
       "3                         0                     1  \n",
       "4                         0                     1  \n",
       "...                     ...                   ...  \n",
       "58971                     0                     1  \n",
       "58972                     1                     1  \n",
       "58973                     0                     1  \n",
       "58974                     0                     0  \n",
       "58975                     0                     1  \n",
       "\n",
       "[58976 rows x 19 columns]"
      ]
     },
     "execution_count": 4,
     "metadata": {},
     "output_type": "execute_result"
    }
   ],
   "source": [
    "admissions_df"
   ]
  },
  {
   "cell_type": "code",
   "execution_count": 5,
   "metadata": {
    "scrolled": true
   },
   "outputs": [
    {
     "name": "stdout",
     "output_type": "stream",
     "text": [
      "<class 'pandas.core.frame.DataFrame'>\n",
      "RangeIndex: 2083180 entries, 0 to 2083179\n",
      "Data columns (total 11 columns):\n",
      " #   Column       Dtype  \n",
      "---  ------       -----  \n",
      " 0   ROW_ID       int64  \n",
      " 1   SUBJECT_ID   int64  \n",
      " 2   HADM_ID      float64\n",
      " 3   CHARTDATE    object \n",
      " 4   CHARTTIME    object \n",
      " 5   STORETIME    object \n",
      " 6   CATEGORY     object \n",
      " 7   DESCRIPTION  object \n",
      " 8   CGID         float64\n",
      " 9   ISERROR      float64\n",
      " 10  TEXT         object \n",
      "dtypes: float64(3), int64(2), object(6)\n",
      "memory usage: 174.8+ MB\n"
     ]
    }
   ],
   "source": [
    "noteevents_df.info()"
   ]
  },
  {
   "cell_type": "code",
   "execution_count": 6,
   "metadata": {},
   "outputs": [
    {
     "name": "stdout",
     "output_type": "stream",
     "text": [
      "<class 'pandas.core.frame.DataFrame'>\n",
      "RangeIndex: 58976 entries, 0 to 58975\n",
      "Data columns (total 19 columns):\n",
      " #   Column                Non-Null Count  Dtype \n",
      "---  ------                --------------  ----- \n",
      " 0   ROW_ID                58976 non-null  int64 \n",
      " 1   SUBJECT_ID            58976 non-null  int64 \n",
      " 2   HADM_ID               58976 non-null  int64 \n",
      " 3   ADMITTIME             58976 non-null  object\n",
      " 4   DISCHTIME             58976 non-null  object\n",
      " 5   DEATHTIME             5854 non-null   object\n",
      " 6   ADMISSION_TYPE        58976 non-null  object\n",
      " 7   ADMISSION_LOCATION    58976 non-null  object\n",
      " 8   DISCHARGE_LOCATION    58976 non-null  object\n",
      " 9   INSURANCE             58976 non-null  object\n",
      " 10  LANGUAGE              33644 non-null  object\n",
      " 11  RELIGION              58518 non-null  object\n",
      " 12  MARITAL_STATUS        48848 non-null  object\n",
      " 13  ETHNICITY             58976 non-null  object\n",
      " 14  EDREGTIME             30877 non-null  object\n",
      " 15  EDOUTTIME             30877 non-null  object\n",
      " 16  DIAGNOSIS             58951 non-null  object\n",
      " 17  HOSPITAL_EXPIRE_FLAG  58976 non-null  int64 \n",
      " 18  HAS_CHARTEVENTS_DATA  58976 non-null  int64 \n",
      "dtypes: int64(5), object(14)\n",
      "memory usage: 8.5+ MB\n"
     ]
    }
   ],
   "source": [
    "admissions_df.info()"
   ]
  },
  {
   "cell_type": "code",
   "execution_count": 7,
   "metadata": {},
   "outputs": [
    {
     "data": {
      "text/plain": [
       "\"\\n>>> left\\n  transaction_id user_id     value\\n0              A   Peter  1.867558\\n1              B    John -0.977278\\n2              C    John  0.950088\\n3              D    Anna -0.151357\\n>>> right\\n  user_id favorite_color\\n0    Paul           blue\\n1    Mary           blue\\n2    John            red\\n3    Anna            NaN\\n\\n---------\\n>>> left.merge(right, on='user_id', how='left', indicator=True)\\n  transaction_id user_id     value favorite_color     _merge\\n0              A   Peter  1.867558            NaN  left_only\\n1              B    John -0.977278            red       both\\n2              C    John  0.950088            red       both\\n3              D    Anna -0.151357            NaN       both\\n\\n---------\\nleft.merge(right.rename({'user_id': 'user_id_r'}, axis=1),\\n               left_on='user_id', right_on='user_id_r', how='left')\\n               \\n  transaction_id user_id     value user_id_r favorite_color\\n0              A   Peter  1.867558       NaN            NaN\\n1              B    John -0.977278      John            red\\n2              C    John  0.950088      John            red\\n3              D    Anna -0.151357      Anna            NaN\\n---------\\nselect\\n    t.transaction_id\\n    , t.user_id\\n    , t.value\\n    , u.user_id as user_id_r\\n    , u.favorite_color\\nfrom\\n    transactions t\\n    left join\\n    users u\\n    on t.user_id = u.user_id\\n;\\n\""
      ]
     },
     "execution_count": 7,
     "metadata": {},
     "output_type": "execute_result"
    }
   ],
   "source": [
    "# https://towardsdatascience.com/left-join-with-pandas-data-frames-in-python-c29c85089ba4\n",
    "# left_join = noteevents_df.join(admissions_df.set_index('HADM_ID'), on='HADM_ID')\n",
    "# left_join = noteevents_df.set_index('HADM_ID').join(admissions_df.set_index('HADM_ID'))\n",
    "\"\"\"\n",
    ">>> left\n",
    "  transaction_id user_id     value\n",
    "0              A   Peter  1.867558\n",
    "1              B    John -0.977278\n",
    "2              C    John  0.950088\n",
    "3              D    Anna -0.151357\n",
    ">>> right\n",
    "  user_id favorite_color\n",
    "0    Paul           blue\n",
    "1    Mary           blue\n",
    "2    John            red\n",
    "3    Anna            NaN\n",
    "\n",
    "---------\n",
    ">>> left.merge(right, on='user_id', how='left', indicator=True)\n",
    "  transaction_id user_id     value favorite_color     _merge\n",
    "0              A   Peter  1.867558            NaN  left_only\n",
    "1              B    John -0.977278            red       both\n",
    "2              C    John  0.950088            red       both\n",
    "3              D    Anna -0.151357            NaN       both\n",
    "\n",
    "---------\n",
    "left.merge(right.rename({'user_id': 'user_id_r'}, axis=1),\n",
    "               left_on='user_id', right_on='user_id_r', how='left')\n",
    "               \n",
    "  transaction_id user_id     value user_id_r favorite_color\n",
    "0              A   Peter  1.867558       NaN            NaN\n",
    "1              B    John -0.977278      John            red\n",
    "2              C    John  0.950088      John            red\n",
    "3              D    Anna -0.151357      Anna            NaN\n",
    "---------\n",
    "select\n",
    "    t.transaction_id\n",
    "    , t.user_id\n",
    "    , t.value\n",
    "    , u.user_id as user_id_r\n",
    "    , u.favorite_color\n",
    "from\n",
    "    transactions t\n",
    "    left join\n",
    "    users u\n",
    "    on t.user_id = u.user_id\n",
    ";\n",
    "\"\"\""
   ]
  },
  {
   "cell_type": "code",
   "execution_count": 8,
   "metadata": {},
   "outputs": [
    {
     "name": "stdout",
     "output_type": "stream",
     "text": [
      "4.729738712310791\n"
     ]
    }
   ],
   "source": [
    "start = time.time()\n",
    "# Left join of two dataframes\n",
    "note_admiss_df_left = noteevents_df.merge(admissions_df, on='HADM_ID', how='left', indicator=True)\n",
    "end = time.time()\n",
    "print(end - start)"
   ]
  },
  {
   "cell_type": "code",
   "execution_count": 9,
   "metadata": {
    "scrolled": false
   },
   "outputs": [
    {
     "name": "stdout",
     "output_type": "stream",
     "text": [
      "<class 'pandas.core.frame.DataFrame'>\n",
      "Int64Index: 2083180 entries, 0 to 2083179\n",
      "Data columns (total 30 columns):\n",
      " #   Column                Dtype   \n",
      "---  ------                -----   \n",
      " 0   ROW_ID_x              int64   \n",
      " 1   SUBJECT_ID_x          int64   \n",
      " 2   HADM_ID               float64 \n",
      " 3   CHARTDATE             object  \n",
      " 4   CHARTTIME             object  \n",
      " 5   STORETIME             object  \n",
      " 6   CATEGORY              object  \n",
      " 7   DESCRIPTION           object  \n",
      " 8   CGID                  float64 \n",
      " 9   ISERROR               float64 \n",
      " 10  TEXT                  object  \n",
      " 11  ROW_ID_y              float64 \n",
      " 12  SUBJECT_ID_y          float64 \n",
      " 13  ADMITTIME             object  \n",
      " 14  DISCHTIME             object  \n",
      " 15  DEATHTIME             object  \n",
      " 16  ADMISSION_TYPE        object  \n",
      " 17  ADMISSION_LOCATION    object  \n",
      " 18  DISCHARGE_LOCATION    object  \n",
      " 19  INSURANCE             object  \n",
      " 20  LANGUAGE              object  \n",
      " 21  RELIGION              object  \n",
      " 22  MARITAL_STATUS        object  \n",
      " 23  ETHNICITY             object  \n",
      " 24  EDREGTIME             object  \n",
      " 25  EDOUTTIME             object  \n",
      " 26  DIAGNOSIS             object  \n",
      " 27  HOSPITAL_EXPIRE_FLAG  float64 \n",
      " 28  HAS_CHARTEVENTS_DATA  float64 \n",
      " 29  _merge                category\n",
      "dtypes: category(1), float64(7), int64(2), object(20)\n",
      "memory usage: 478.8+ MB\n"
     ]
    }
   ],
   "source": [
    "note_admiss_df_left.info()"
   ]
  },
  {
   "cell_type": "code",
   "execution_count": 10,
   "metadata": {},
   "outputs": [
    {
     "data": {
      "text/plain": [
       "(2083180, 30)"
      ]
     },
     "execution_count": 10,
     "metadata": {},
     "output_type": "execute_result"
    }
   ],
   "source": [
    "note_admiss_df_left.shape"
   ]
  },
  {
   "cell_type": "code",
   "execution_count": 11,
   "metadata": {
    "scrolled": false
   },
   "outputs": [
    {
     "data": {
      "text/html": [
       "<div>\n",
       "<style scoped>\n",
       "    .dataframe tbody tr th:only-of-type {\n",
       "        vertical-align: middle;\n",
       "    }\n",
       "\n",
       "    .dataframe tbody tr th {\n",
       "        vertical-align: top;\n",
       "    }\n",
       "\n",
       "    .dataframe thead th {\n",
       "        text-align: right;\n",
       "    }\n",
       "</style>\n",
       "<table border=\"1\" class=\"dataframe\">\n",
       "  <thead>\n",
       "    <tr style=\"text-align: right;\">\n",
       "      <th></th>\n",
       "      <th>DIAGNOSIS</th>\n",
       "      <th>SUBJECT_ID_x</th>\n",
       "      <th>SUBJECT_ID_y</th>\n",
       "      <th>DESCRIPTION</th>\n",
       "      <th>CATEGORY</th>\n",
       "    </tr>\n",
       "  </thead>\n",
       "  <tbody>\n",
       "    <tr>\n",
       "      <th>0</th>\n",
       "      <td>RT LOWER LOBE PNEUMONIA</td>\n",
       "      <td>22532</td>\n",
       "      <td>22532.0</td>\n",
       "      <td>Report</td>\n",
       "      <td>Discharge summary</td>\n",
       "    </tr>\n",
       "    <tr>\n",
       "      <th>1</th>\n",
       "      <td>CHRONIC OBSTRUCTIVE PULMONARY DISEASE</td>\n",
       "      <td>13702</td>\n",
       "      <td>13702.0</td>\n",
       "      <td>Report</td>\n",
       "      <td>Discharge summary</td>\n",
       "    </tr>\n",
       "    <tr>\n",
       "      <th>2</th>\n",
       "      <td>TRACHEALBRONCHEAL MALACEA/SDA</td>\n",
       "      <td>13702</td>\n",
       "      <td>13702.0</td>\n",
       "      <td>Report</td>\n",
       "      <td>Discharge summary</td>\n",
       "    </tr>\n",
       "    <tr>\n",
       "      <th>3</th>\n",
       "      <td>ASTHMA;COPD EXACERBATION</td>\n",
       "      <td>13702</td>\n",
       "      <td>13702.0</td>\n",
       "      <td>Report</td>\n",
       "      <td>Discharge summary</td>\n",
       "    </tr>\n",
       "    <tr>\n",
       "      <th>4</th>\n",
       "      <td>S/P FALL;TELEMETRY</td>\n",
       "      <td>26880</td>\n",
       "      <td>26880.0</td>\n",
       "      <td>Report</td>\n",
       "      <td>Discharge summary</td>\n",
       "    </tr>\n",
       "    <tr>\n",
       "      <th>...</th>\n",
       "      <td>...</td>\n",
       "      <td>...</td>\n",
       "      <td>...</td>\n",
       "      <td>...</td>\n",
       "      <td>...</td>\n",
       "    </tr>\n",
       "    <tr>\n",
       "      <th>2083175</th>\n",
       "      <td>NEWBORN</td>\n",
       "      <td>31097</td>\n",
       "      <td>31097.0</td>\n",
       "      <td>Report</td>\n",
       "      <td>Nursing/other</td>\n",
       "    </tr>\n",
       "    <tr>\n",
       "      <th>2083176</th>\n",
       "      <td>NEWBORN</td>\n",
       "      <td>31097</td>\n",
       "      <td>31097.0</td>\n",
       "      <td>Report</td>\n",
       "      <td>Nursing/other</td>\n",
       "    </tr>\n",
       "    <tr>\n",
       "      <th>2083177</th>\n",
       "      <td>NEWBORN</td>\n",
       "      <td>31097</td>\n",
       "      <td>31097.0</td>\n",
       "      <td>Report</td>\n",
       "      <td>Nursing/other</td>\n",
       "    </tr>\n",
       "    <tr>\n",
       "      <th>2083178</th>\n",
       "      <td>NEWBORN</td>\n",
       "      <td>31097</td>\n",
       "      <td>31097.0</td>\n",
       "      <td>Report</td>\n",
       "      <td>Nursing/other</td>\n",
       "    </tr>\n",
       "    <tr>\n",
       "      <th>2083179</th>\n",
       "      <td>NEWBORN</td>\n",
       "      <td>31097</td>\n",
       "      <td>31097.0</td>\n",
       "      <td>Report</td>\n",
       "      <td>Nursing/other</td>\n",
       "    </tr>\n",
       "  </tbody>\n",
       "</table>\n",
       "<p>2083180 rows × 5 columns</p>\n",
       "</div>"
      ],
      "text/plain": [
       "                                     DIAGNOSIS  SUBJECT_ID_x  SUBJECT_ID_y  \\\n",
       "0                      RT LOWER LOBE PNEUMONIA         22532       22532.0   \n",
       "1        CHRONIC OBSTRUCTIVE PULMONARY DISEASE         13702       13702.0   \n",
       "2                TRACHEALBRONCHEAL MALACEA/SDA         13702       13702.0   \n",
       "3                     ASTHMA;COPD EXACERBATION         13702       13702.0   \n",
       "4                           S/P FALL;TELEMETRY         26880       26880.0   \n",
       "...                                        ...           ...           ...   \n",
       "2083175                                NEWBORN         31097       31097.0   \n",
       "2083176                                NEWBORN         31097       31097.0   \n",
       "2083177                                NEWBORN         31097       31097.0   \n",
       "2083178                                NEWBORN         31097       31097.0   \n",
       "2083179                                NEWBORN         31097       31097.0   \n",
       "\n",
       "        DESCRIPTION           CATEGORY  \n",
       "0            Report  Discharge summary  \n",
       "1            Report  Discharge summary  \n",
       "2            Report  Discharge summary  \n",
       "3            Report  Discharge summary  \n",
       "4            Report  Discharge summary  \n",
       "...             ...                ...  \n",
       "2083175      Report      Nursing/other  \n",
       "2083176      Report      Nursing/other  \n",
       "2083177      Report      Nursing/other  \n",
       "2083178      Report      Nursing/other  \n",
       "2083179      Report      Nursing/other  \n",
       "\n",
       "[2083180 rows x 5 columns]"
      ]
     },
     "execution_count": 11,
     "metadata": {},
     "output_type": "execute_result"
    }
   ],
   "source": [
    "# df1 = df[['a','b']]\n",
    "note_admiss_df_left[['DIAGNOSIS', 'SUBJECT_ID_x', 'SUBJECT_ID_y','DESCRIPTION', 'CATEGORY']]"
   ]
  },
  {
   "cell_type": "code",
   "execution_count": 12,
   "metadata": {
    "scrolled": true
   },
   "outputs": [],
   "source": [
    "pneumonia_df = note_admiss_df_left.loc[note_admiss_df_left[\"DIAGNOSIS\"] == 'PNEUMONIA', ['ROW_ID_x', 'SUBJECT_ID_x', 'HADM_ID', 'CHARTDATE', 'CHARTTIME', 'STORETIME', 'CATEGORY', 'DESCRIPTION', 'CGID', 'ISERROR', 'TEXT', 'ADMITTIME', 'DISCHTIME', 'DEATHTIME', 'ADMISSION_TYPE', 'DIAGNOSIS', 'HAS_CHARTEVENTS_DATA']]"
   ]
  },
  {
   "cell_type": "code",
   "execution_count": null,
   "metadata": {
    "scrolled": false
   },
   "outputs": [],
   "source": []
  },
  {
   "cell_type": "code",
   "execution_count": 13,
   "metadata": {
    "scrolled": true
   },
   "outputs": [
    {
     "data": {
      "text/plain": [
       "(59727, 17)"
      ]
     },
     "execution_count": 13,
     "metadata": {},
     "output_type": "execute_result"
    }
   ],
   "source": [
    "pneumonia_df.shape"
   ]
  },
  {
   "cell_type": "code",
   "execution_count": 14,
   "metadata": {
    "scrolled": false
   },
   "outputs": [
    {
     "data": {
      "application/vnd.plotly.v1+json": {
       "config": {
        "linkText": "Export to plot.ly",
        "plotlyServerURL": "https://plot.ly",
        "showLink": true
       },
       "data": [
        {
         "marker": {
          "color": "rgba(255, 153, 51, 0.6)",
          "line": {
           "color": "rgba(255, 153, 51, 1.0)",
           "width": 1
          }
         },
         "name": "CATEGORY",
         "orientation": "v",
         "text": "",
         "type": "bar",
         "x": [
          "Nursing",
          "Nursing/other",
          "Radiology",
          "Physician ",
          "ECG",
          "Respiratory ",
          "Discharge summary",
          "Echo",
          "General",
          "Nutrition",
          "Rehab Services",
          "Social Work",
          "Case Management ",
          "Pharmacy",
          "Consult"
         ],
         "y": [
          13256,
          12693,
          11723,
          10643,
          4469,
          2454,
          1698,
          949,
          680,
          638,
          231,
          142,
          135,
          15,
          1
         ]
        }
       ],
       "layout": {
        "legend": {
         "bgcolor": "#F5F6F9",
         "font": {
          "color": "#4D5663"
         }
        },
        "paper_bgcolor": "#F5F6F9",
        "plot_bgcolor": "#F5F6F9",
        "template": {
         "data": {
          "bar": [
           {
            "error_x": {
             "color": "#2a3f5f"
            },
            "error_y": {
             "color": "#2a3f5f"
            },
            "marker": {
             "line": {
              "color": "#E5ECF6",
              "width": 0.5
             }
            },
            "type": "bar"
           }
          ],
          "barpolar": [
           {
            "marker": {
             "line": {
              "color": "#E5ECF6",
              "width": 0.5
             }
            },
            "type": "barpolar"
           }
          ],
          "carpet": [
           {
            "aaxis": {
             "endlinecolor": "#2a3f5f",
             "gridcolor": "white",
             "linecolor": "white",
             "minorgridcolor": "white",
             "startlinecolor": "#2a3f5f"
            },
            "baxis": {
             "endlinecolor": "#2a3f5f",
             "gridcolor": "white",
             "linecolor": "white",
             "minorgridcolor": "white",
             "startlinecolor": "#2a3f5f"
            },
            "type": "carpet"
           }
          ],
          "choropleth": [
           {
            "colorbar": {
             "outlinewidth": 0,
             "ticks": ""
            },
            "type": "choropleth"
           }
          ],
          "contour": [
           {
            "colorbar": {
             "outlinewidth": 0,
             "ticks": ""
            },
            "colorscale": [
             [
              0,
              "#0d0887"
             ],
             [
              0.1111111111111111,
              "#46039f"
             ],
             [
              0.2222222222222222,
              "#7201a8"
             ],
             [
              0.3333333333333333,
              "#9c179e"
             ],
             [
              0.4444444444444444,
              "#bd3786"
             ],
             [
              0.5555555555555556,
              "#d8576b"
             ],
             [
              0.6666666666666666,
              "#ed7953"
             ],
             [
              0.7777777777777778,
              "#fb9f3a"
             ],
             [
              0.8888888888888888,
              "#fdca26"
             ],
             [
              1,
              "#f0f921"
             ]
            ],
            "type": "contour"
           }
          ],
          "contourcarpet": [
           {
            "colorbar": {
             "outlinewidth": 0,
             "ticks": ""
            },
            "type": "contourcarpet"
           }
          ],
          "heatmap": [
           {
            "colorbar": {
             "outlinewidth": 0,
             "ticks": ""
            },
            "colorscale": [
             [
              0,
              "#0d0887"
             ],
             [
              0.1111111111111111,
              "#46039f"
             ],
             [
              0.2222222222222222,
              "#7201a8"
             ],
             [
              0.3333333333333333,
              "#9c179e"
             ],
             [
              0.4444444444444444,
              "#bd3786"
             ],
             [
              0.5555555555555556,
              "#d8576b"
             ],
             [
              0.6666666666666666,
              "#ed7953"
             ],
             [
              0.7777777777777778,
              "#fb9f3a"
             ],
             [
              0.8888888888888888,
              "#fdca26"
             ],
             [
              1,
              "#f0f921"
             ]
            ],
            "type": "heatmap"
           }
          ],
          "heatmapgl": [
           {
            "colorbar": {
             "outlinewidth": 0,
             "ticks": ""
            },
            "colorscale": [
             [
              0,
              "#0d0887"
             ],
             [
              0.1111111111111111,
              "#46039f"
             ],
             [
              0.2222222222222222,
              "#7201a8"
             ],
             [
              0.3333333333333333,
              "#9c179e"
             ],
             [
              0.4444444444444444,
              "#bd3786"
             ],
             [
              0.5555555555555556,
              "#d8576b"
             ],
             [
              0.6666666666666666,
              "#ed7953"
             ],
             [
              0.7777777777777778,
              "#fb9f3a"
             ],
             [
              0.8888888888888888,
              "#fdca26"
             ],
             [
              1,
              "#f0f921"
             ]
            ],
            "type": "heatmapgl"
           }
          ],
          "histogram": [
           {
            "marker": {
             "colorbar": {
              "outlinewidth": 0,
              "ticks": ""
             }
            },
            "type": "histogram"
           }
          ],
          "histogram2d": [
           {
            "colorbar": {
             "outlinewidth": 0,
             "ticks": ""
            },
            "colorscale": [
             [
              0,
              "#0d0887"
             ],
             [
              0.1111111111111111,
              "#46039f"
             ],
             [
              0.2222222222222222,
              "#7201a8"
             ],
             [
              0.3333333333333333,
              "#9c179e"
             ],
             [
              0.4444444444444444,
              "#bd3786"
             ],
             [
              0.5555555555555556,
              "#d8576b"
             ],
             [
              0.6666666666666666,
              "#ed7953"
             ],
             [
              0.7777777777777778,
              "#fb9f3a"
             ],
             [
              0.8888888888888888,
              "#fdca26"
             ],
             [
              1,
              "#f0f921"
             ]
            ],
            "type": "histogram2d"
           }
          ],
          "histogram2dcontour": [
           {
            "colorbar": {
             "outlinewidth": 0,
             "ticks": ""
            },
            "colorscale": [
             [
              0,
              "#0d0887"
             ],
             [
              0.1111111111111111,
              "#46039f"
             ],
             [
              0.2222222222222222,
              "#7201a8"
             ],
             [
              0.3333333333333333,
              "#9c179e"
             ],
             [
              0.4444444444444444,
              "#bd3786"
             ],
             [
              0.5555555555555556,
              "#d8576b"
             ],
             [
              0.6666666666666666,
              "#ed7953"
             ],
             [
              0.7777777777777778,
              "#fb9f3a"
             ],
             [
              0.8888888888888888,
              "#fdca26"
             ],
             [
              1,
              "#f0f921"
             ]
            ],
            "type": "histogram2dcontour"
           }
          ],
          "mesh3d": [
           {
            "colorbar": {
             "outlinewidth": 0,
             "ticks": ""
            },
            "type": "mesh3d"
           }
          ],
          "parcoords": [
           {
            "line": {
             "colorbar": {
              "outlinewidth": 0,
              "ticks": ""
             }
            },
            "type": "parcoords"
           }
          ],
          "pie": [
           {
            "automargin": true,
            "type": "pie"
           }
          ],
          "scatter": [
           {
            "marker": {
             "colorbar": {
              "outlinewidth": 0,
              "ticks": ""
             }
            },
            "type": "scatter"
           }
          ],
          "scatter3d": [
           {
            "line": {
             "colorbar": {
              "outlinewidth": 0,
              "ticks": ""
             }
            },
            "marker": {
             "colorbar": {
              "outlinewidth": 0,
              "ticks": ""
             }
            },
            "type": "scatter3d"
           }
          ],
          "scattercarpet": [
           {
            "marker": {
             "colorbar": {
              "outlinewidth": 0,
              "ticks": ""
             }
            },
            "type": "scattercarpet"
           }
          ],
          "scattergeo": [
           {
            "marker": {
             "colorbar": {
              "outlinewidth": 0,
              "ticks": ""
             }
            },
            "type": "scattergeo"
           }
          ],
          "scattergl": [
           {
            "marker": {
             "colorbar": {
              "outlinewidth": 0,
              "ticks": ""
             }
            },
            "type": "scattergl"
           }
          ],
          "scattermapbox": [
           {
            "marker": {
             "colorbar": {
              "outlinewidth": 0,
              "ticks": ""
             }
            },
            "type": "scattermapbox"
           }
          ],
          "scatterpolar": [
           {
            "marker": {
             "colorbar": {
              "outlinewidth": 0,
              "ticks": ""
             }
            },
            "type": "scatterpolar"
           }
          ],
          "scatterpolargl": [
           {
            "marker": {
             "colorbar": {
              "outlinewidth": 0,
              "ticks": ""
             }
            },
            "type": "scatterpolargl"
           }
          ],
          "scatterternary": [
           {
            "marker": {
             "colorbar": {
              "outlinewidth": 0,
              "ticks": ""
             }
            },
            "type": "scatterternary"
           }
          ],
          "surface": [
           {
            "colorbar": {
             "outlinewidth": 0,
             "ticks": ""
            },
            "colorscale": [
             [
              0,
              "#0d0887"
             ],
             [
              0.1111111111111111,
              "#46039f"
             ],
             [
              0.2222222222222222,
              "#7201a8"
             ],
             [
              0.3333333333333333,
              "#9c179e"
             ],
             [
              0.4444444444444444,
              "#bd3786"
             ],
             [
              0.5555555555555556,
              "#d8576b"
             ],
             [
              0.6666666666666666,
              "#ed7953"
             ],
             [
              0.7777777777777778,
              "#fb9f3a"
             ],
             [
              0.8888888888888888,
              "#fdca26"
             ],
             [
              1,
              "#f0f921"
             ]
            ],
            "type": "surface"
           }
          ],
          "table": [
           {
            "cells": {
             "fill": {
              "color": "#EBF0F8"
             },
             "line": {
              "color": "white"
             }
            },
            "header": {
             "fill": {
              "color": "#C8D4E3"
             },
             "line": {
              "color": "white"
             }
            },
            "type": "table"
           }
          ]
         },
         "layout": {
          "annotationdefaults": {
           "arrowcolor": "#2a3f5f",
           "arrowhead": 0,
           "arrowwidth": 1
          },
          "coloraxis": {
           "colorbar": {
            "outlinewidth": 0,
            "ticks": ""
           }
          },
          "colorscale": {
           "diverging": [
            [
             0,
             "#8e0152"
            ],
            [
             0.1,
             "#c51b7d"
            ],
            [
             0.2,
             "#de77ae"
            ],
            [
             0.3,
             "#f1b6da"
            ],
            [
             0.4,
             "#fde0ef"
            ],
            [
             0.5,
             "#f7f7f7"
            ],
            [
             0.6,
             "#e6f5d0"
            ],
            [
             0.7,
             "#b8e186"
            ],
            [
             0.8,
             "#7fbc41"
            ],
            [
             0.9,
             "#4d9221"
            ],
            [
             1,
             "#276419"
            ]
           ],
           "sequential": [
            [
             0,
             "#0d0887"
            ],
            [
             0.1111111111111111,
             "#46039f"
            ],
            [
             0.2222222222222222,
             "#7201a8"
            ],
            [
             0.3333333333333333,
             "#9c179e"
            ],
            [
             0.4444444444444444,
             "#bd3786"
            ],
            [
             0.5555555555555556,
             "#d8576b"
            ],
            [
             0.6666666666666666,
             "#ed7953"
            ],
            [
             0.7777777777777778,
             "#fb9f3a"
            ],
            [
             0.8888888888888888,
             "#fdca26"
            ],
            [
             1,
             "#f0f921"
            ]
           ],
           "sequentialminus": [
            [
             0,
             "#0d0887"
            ],
            [
             0.1111111111111111,
             "#46039f"
            ],
            [
             0.2222222222222222,
             "#7201a8"
            ],
            [
             0.3333333333333333,
             "#9c179e"
            ],
            [
             0.4444444444444444,
             "#bd3786"
            ],
            [
             0.5555555555555556,
             "#d8576b"
            ],
            [
             0.6666666666666666,
             "#ed7953"
            ],
            [
             0.7777777777777778,
             "#fb9f3a"
            ],
            [
             0.8888888888888888,
             "#fdca26"
            ],
            [
             1,
             "#f0f921"
            ]
           ]
          },
          "colorway": [
           "#636efa",
           "#EF553B",
           "#00cc96",
           "#ab63fa",
           "#FFA15A",
           "#19d3f3",
           "#FF6692",
           "#B6E880",
           "#FF97FF",
           "#FECB52"
          ],
          "font": {
           "color": "#2a3f5f"
          },
          "geo": {
           "bgcolor": "white",
           "lakecolor": "white",
           "landcolor": "#E5ECF6",
           "showlakes": true,
           "showland": true,
           "subunitcolor": "white"
          },
          "hoverlabel": {
           "align": "left"
          },
          "hovermode": "closest",
          "mapbox": {
           "style": "light"
          },
          "paper_bgcolor": "white",
          "plot_bgcolor": "#E5ECF6",
          "polar": {
           "angularaxis": {
            "gridcolor": "white",
            "linecolor": "white",
            "ticks": ""
           },
           "bgcolor": "#E5ECF6",
           "radialaxis": {
            "gridcolor": "white",
            "linecolor": "white",
            "ticks": ""
           }
          },
          "scene": {
           "xaxis": {
            "backgroundcolor": "#E5ECF6",
            "gridcolor": "white",
            "gridwidth": 2,
            "linecolor": "white",
            "showbackground": true,
            "ticks": "",
            "zerolinecolor": "white"
           },
           "yaxis": {
            "backgroundcolor": "#E5ECF6",
            "gridcolor": "white",
            "gridwidth": 2,
            "linecolor": "white",
            "showbackground": true,
            "ticks": "",
            "zerolinecolor": "white"
           },
           "zaxis": {
            "backgroundcolor": "#E5ECF6",
            "gridcolor": "white",
            "gridwidth": 2,
            "linecolor": "white",
            "showbackground": true,
            "ticks": "",
            "zerolinecolor": "white"
           }
          },
          "shapedefaults": {
           "line": {
            "color": "#2a3f5f"
           }
          },
          "ternary": {
           "aaxis": {
            "gridcolor": "white",
            "linecolor": "white",
            "ticks": ""
           },
           "baxis": {
            "gridcolor": "white",
            "linecolor": "white",
            "ticks": ""
           },
           "bgcolor": "#E5ECF6",
           "caxis": {
            "gridcolor": "white",
            "linecolor": "white",
            "ticks": ""
           }
          },
          "title": {
           "x": 0.05
          },
          "xaxis": {
           "automargin": true,
           "gridcolor": "white",
           "linecolor": "white",
           "ticks": "",
           "title": {
            "standoff": 15
           },
           "zerolinecolor": "white",
           "zerolinewidth": 2
          },
          "yaxis": {
           "automargin": true,
           "gridcolor": "white",
           "linecolor": "white",
           "ticks": "",
           "title": {
            "standoff": 15
           },
           "zerolinecolor": "white",
           "zerolinewidth": 2
          }
         }
        },
        "title": {
         "font": {
          "color": "#4D5663"
         },
         "text": "Number of category kinds in noteevents"
        },
        "xaxis": {
         "gridcolor": "#E1E5ED",
         "showgrid": true,
         "tickfont": {
          "color": "#4D5663"
         },
         "title": {
          "font": {
           "color": "#4D5663"
          },
          "text": ""
         },
         "zerolinecolor": "#E1E5ED"
        },
        "yaxis": {
         "gridcolor": "#E1E5ED",
         "showgrid": true,
         "tickfont": {
          "color": "#4D5663"
         },
         "title": {
          "font": {
           "color": "#4D5663"
          },
          "text": "Number of notes"
         },
         "zerolinecolor": "#E1E5ED"
        }
       }
      },
      "text/html": [
       "<div>\n",
       "        \n",
       "        \n",
       "            <div id=\"cd32c812-c85f-4599-998d-3af7b86feba0\" class=\"plotly-graph-div\" style=\"height:525px; width:100%;\"></div>\n",
       "            <script type=\"text/javascript\">\n",
       "                require([\"plotly\"], function(Plotly) {\n",
       "                    window.PLOTLYENV=window.PLOTLYENV || {};\n",
       "                    window.PLOTLYENV.BASE_URL='https://plot.ly';\n",
       "                    \n",
       "                if (document.getElementById(\"cd32c812-c85f-4599-998d-3af7b86feba0\")) {\n",
       "                    Plotly.newPlot(\n",
       "                        'cd32c812-c85f-4599-998d-3af7b86feba0',\n",
       "                        [{\"marker\": {\"color\": \"rgba(255, 153, 51, 0.6)\", \"line\": {\"color\": \"rgba(255, 153, 51, 1.0)\", \"width\": 1}}, \"name\": \"CATEGORY\", \"orientation\": \"v\", \"text\": \"\", \"type\": \"bar\", \"x\": [\"Nursing\", \"Nursing/other\", \"Radiology\", \"Physician \", \"ECG\", \"Respiratory \", \"Discharge summary\", \"Echo\", \"General\", \"Nutrition\", \"Rehab Services\", \"Social Work\", \"Case Management \", \"Pharmacy\", \"Consult\"], \"y\": [13256, 12693, 11723, 10643, 4469, 2454, 1698, 949, 680, 638, 231, 142, 135, 15, 1]}],\n",
       "                        {\"legend\": {\"bgcolor\": \"#F5F6F9\", \"font\": {\"color\": \"#4D5663\"}}, \"paper_bgcolor\": \"#F5F6F9\", \"plot_bgcolor\": \"#F5F6F9\", \"template\": {\"data\": {\"bar\": [{\"error_x\": {\"color\": \"#2a3f5f\"}, \"error_y\": {\"color\": \"#2a3f5f\"}, \"marker\": {\"line\": {\"color\": \"#E5ECF6\", \"width\": 0.5}}, \"type\": \"bar\"}], \"barpolar\": [{\"marker\": {\"line\": {\"color\": \"#E5ECF6\", \"width\": 0.5}}, \"type\": \"barpolar\"}], \"carpet\": [{\"aaxis\": {\"endlinecolor\": \"#2a3f5f\", \"gridcolor\": \"white\", \"linecolor\": \"white\", \"minorgridcolor\": \"white\", \"startlinecolor\": \"#2a3f5f\"}, \"baxis\": {\"endlinecolor\": \"#2a3f5f\", \"gridcolor\": \"white\", \"linecolor\": \"white\", \"minorgridcolor\": \"white\", \"startlinecolor\": \"#2a3f5f\"}, \"type\": \"carpet\"}], \"choropleth\": [{\"colorbar\": {\"outlinewidth\": 0, \"ticks\": \"\"}, \"type\": \"choropleth\"}], \"contour\": [{\"colorbar\": {\"outlinewidth\": 0, \"ticks\": \"\"}, \"colorscale\": [[0.0, \"#0d0887\"], [0.1111111111111111, \"#46039f\"], [0.2222222222222222, \"#7201a8\"], [0.3333333333333333, \"#9c179e\"], [0.4444444444444444, \"#bd3786\"], [0.5555555555555556, \"#d8576b\"], [0.6666666666666666, \"#ed7953\"], [0.7777777777777778, \"#fb9f3a\"], [0.8888888888888888, \"#fdca26\"], [1.0, \"#f0f921\"]], \"type\": \"contour\"}], \"contourcarpet\": [{\"colorbar\": {\"outlinewidth\": 0, \"ticks\": \"\"}, \"type\": \"contourcarpet\"}], \"heatmap\": [{\"colorbar\": {\"outlinewidth\": 0, \"ticks\": \"\"}, \"colorscale\": [[0.0, \"#0d0887\"], [0.1111111111111111, \"#46039f\"], [0.2222222222222222, \"#7201a8\"], [0.3333333333333333, \"#9c179e\"], [0.4444444444444444, \"#bd3786\"], [0.5555555555555556, \"#d8576b\"], [0.6666666666666666, \"#ed7953\"], [0.7777777777777778, \"#fb9f3a\"], [0.8888888888888888, \"#fdca26\"], [1.0, \"#f0f921\"]], \"type\": \"heatmap\"}], \"heatmapgl\": [{\"colorbar\": {\"outlinewidth\": 0, \"ticks\": \"\"}, \"colorscale\": [[0.0, \"#0d0887\"], [0.1111111111111111, \"#46039f\"], [0.2222222222222222, \"#7201a8\"], [0.3333333333333333, \"#9c179e\"], [0.4444444444444444, \"#bd3786\"], [0.5555555555555556, \"#d8576b\"], [0.6666666666666666, \"#ed7953\"], [0.7777777777777778, \"#fb9f3a\"], [0.8888888888888888, \"#fdca26\"], [1.0, \"#f0f921\"]], \"type\": \"heatmapgl\"}], \"histogram\": [{\"marker\": {\"colorbar\": {\"outlinewidth\": 0, \"ticks\": \"\"}}, \"type\": \"histogram\"}], \"histogram2d\": [{\"colorbar\": {\"outlinewidth\": 0, \"ticks\": \"\"}, \"colorscale\": [[0.0, \"#0d0887\"], [0.1111111111111111, \"#46039f\"], [0.2222222222222222, \"#7201a8\"], [0.3333333333333333, \"#9c179e\"], [0.4444444444444444, \"#bd3786\"], [0.5555555555555556, \"#d8576b\"], [0.6666666666666666, \"#ed7953\"], [0.7777777777777778, \"#fb9f3a\"], [0.8888888888888888, \"#fdca26\"], [1.0, \"#f0f921\"]], \"type\": \"histogram2d\"}], \"histogram2dcontour\": [{\"colorbar\": {\"outlinewidth\": 0, \"ticks\": \"\"}, \"colorscale\": [[0.0, \"#0d0887\"], [0.1111111111111111, \"#46039f\"], [0.2222222222222222, \"#7201a8\"], [0.3333333333333333, \"#9c179e\"], [0.4444444444444444, \"#bd3786\"], [0.5555555555555556, \"#d8576b\"], [0.6666666666666666, \"#ed7953\"], [0.7777777777777778, \"#fb9f3a\"], [0.8888888888888888, \"#fdca26\"], [1.0, \"#f0f921\"]], \"type\": \"histogram2dcontour\"}], \"mesh3d\": [{\"colorbar\": {\"outlinewidth\": 0, \"ticks\": \"\"}, \"type\": \"mesh3d\"}], \"parcoords\": [{\"line\": {\"colorbar\": {\"outlinewidth\": 0, \"ticks\": \"\"}}, \"type\": \"parcoords\"}], \"pie\": [{\"automargin\": true, \"type\": \"pie\"}], \"scatter\": [{\"marker\": {\"colorbar\": {\"outlinewidth\": 0, \"ticks\": \"\"}}, \"type\": \"scatter\"}], \"scatter3d\": [{\"line\": {\"colorbar\": {\"outlinewidth\": 0, \"ticks\": \"\"}}, \"marker\": {\"colorbar\": {\"outlinewidth\": 0, \"ticks\": \"\"}}, \"type\": \"scatter3d\"}], \"scattercarpet\": [{\"marker\": {\"colorbar\": {\"outlinewidth\": 0, \"ticks\": \"\"}}, \"type\": \"scattercarpet\"}], \"scattergeo\": [{\"marker\": {\"colorbar\": {\"outlinewidth\": 0, \"ticks\": \"\"}}, \"type\": \"scattergeo\"}], \"scattergl\": [{\"marker\": {\"colorbar\": {\"outlinewidth\": 0, \"ticks\": \"\"}}, \"type\": \"scattergl\"}], \"scattermapbox\": [{\"marker\": {\"colorbar\": {\"outlinewidth\": 0, \"ticks\": \"\"}}, \"type\": \"scattermapbox\"}], \"scatterpolar\": [{\"marker\": {\"colorbar\": {\"outlinewidth\": 0, \"ticks\": \"\"}}, \"type\": \"scatterpolar\"}], \"scatterpolargl\": [{\"marker\": {\"colorbar\": {\"outlinewidth\": 0, \"ticks\": \"\"}}, \"type\": \"scatterpolargl\"}], \"scatterternary\": [{\"marker\": {\"colorbar\": {\"outlinewidth\": 0, \"ticks\": \"\"}}, \"type\": \"scatterternary\"}], \"surface\": [{\"colorbar\": {\"outlinewidth\": 0, \"ticks\": \"\"}, \"colorscale\": [[0.0, \"#0d0887\"], [0.1111111111111111, \"#46039f\"], [0.2222222222222222, \"#7201a8\"], [0.3333333333333333, \"#9c179e\"], [0.4444444444444444, \"#bd3786\"], [0.5555555555555556, \"#d8576b\"], [0.6666666666666666, \"#ed7953\"], [0.7777777777777778, \"#fb9f3a\"], [0.8888888888888888, \"#fdca26\"], [1.0, \"#f0f921\"]], \"type\": \"surface\"}], \"table\": [{\"cells\": {\"fill\": {\"color\": \"#EBF0F8\"}, \"line\": {\"color\": \"white\"}}, \"header\": {\"fill\": {\"color\": \"#C8D4E3\"}, \"line\": {\"color\": \"white\"}}, \"type\": \"table\"}]}, \"layout\": {\"annotationdefaults\": {\"arrowcolor\": \"#2a3f5f\", \"arrowhead\": 0, \"arrowwidth\": 1}, \"coloraxis\": {\"colorbar\": {\"outlinewidth\": 0, \"ticks\": \"\"}}, \"colorscale\": {\"diverging\": [[0, \"#8e0152\"], [0.1, \"#c51b7d\"], [0.2, \"#de77ae\"], [0.3, \"#f1b6da\"], [0.4, \"#fde0ef\"], [0.5, \"#f7f7f7\"], [0.6, \"#e6f5d0\"], [0.7, \"#b8e186\"], [0.8, \"#7fbc41\"], [0.9, \"#4d9221\"], [1, \"#276419\"]], \"sequential\": [[0.0, \"#0d0887\"], [0.1111111111111111, \"#46039f\"], [0.2222222222222222, \"#7201a8\"], [0.3333333333333333, \"#9c179e\"], [0.4444444444444444, \"#bd3786\"], [0.5555555555555556, \"#d8576b\"], [0.6666666666666666, \"#ed7953\"], [0.7777777777777778, \"#fb9f3a\"], [0.8888888888888888, \"#fdca26\"], [1.0, \"#f0f921\"]], \"sequentialminus\": [[0.0, \"#0d0887\"], [0.1111111111111111, \"#46039f\"], [0.2222222222222222, \"#7201a8\"], [0.3333333333333333, \"#9c179e\"], [0.4444444444444444, \"#bd3786\"], [0.5555555555555556, \"#d8576b\"], [0.6666666666666666, \"#ed7953\"], [0.7777777777777778, \"#fb9f3a\"], [0.8888888888888888, \"#fdca26\"], [1.0, \"#f0f921\"]]}, \"colorway\": [\"#636efa\", \"#EF553B\", \"#00cc96\", \"#ab63fa\", \"#FFA15A\", \"#19d3f3\", \"#FF6692\", \"#B6E880\", \"#FF97FF\", \"#FECB52\"], \"font\": {\"color\": \"#2a3f5f\"}, \"geo\": {\"bgcolor\": \"white\", \"lakecolor\": \"white\", \"landcolor\": \"#E5ECF6\", \"showlakes\": true, \"showland\": true, \"subunitcolor\": \"white\"}, \"hoverlabel\": {\"align\": \"left\"}, \"hovermode\": \"closest\", \"mapbox\": {\"style\": \"light\"}, \"paper_bgcolor\": \"white\", \"plot_bgcolor\": \"#E5ECF6\", \"polar\": {\"angularaxis\": {\"gridcolor\": \"white\", \"linecolor\": \"white\", \"ticks\": \"\"}, \"bgcolor\": \"#E5ECF6\", \"radialaxis\": {\"gridcolor\": \"white\", \"linecolor\": \"white\", \"ticks\": \"\"}}, \"scene\": {\"xaxis\": {\"backgroundcolor\": \"#E5ECF6\", \"gridcolor\": \"white\", \"gridwidth\": 2, \"linecolor\": \"white\", \"showbackground\": true, \"ticks\": \"\", \"zerolinecolor\": \"white\"}, \"yaxis\": {\"backgroundcolor\": \"#E5ECF6\", \"gridcolor\": \"white\", \"gridwidth\": 2, \"linecolor\": \"white\", \"showbackground\": true, \"ticks\": \"\", \"zerolinecolor\": \"white\"}, \"zaxis\": {\"backgroundcolor\": \"#E5ECF6\", \"gridcolor\": \"white\", \"gridwidth\": 2, \"linecolor\": \"white\", \"showbackground\": true, \"ticks\": \"\", \"zerolinecolor\": \"white\"}}, \"shapedefaults\": {\"line\": {\"color\": \"#2a3f5f\"}}, \"ternary\": {\"aaxis\": {\"gridcolor\": \"white\", \"linecolor\": \"white\", \"ticks\": \"\"}, \"baxis\": {\"gridcolor\": \"white\", \"linecolor\": \"white\", \"ticks\": \"\"}, \"bgcolor\": \"#E5ECF6\", \"caxis\": {\"gridcolor\": \"white\", \"linecolor\": \"white\", \"ticks\": \"\"}}, \"title\": {\"x\": 0.05}, \"xaxis\": {\"automargin\": true, \"gridcolor\": \"white\", \"linecolor\": \"white\", \"ticks\": \"\", \"title\": {\"standoff\": 15}, \"zerolinecolor\": \"white\", \"zerolinewidth\": 2}, \"yaxis\": {\"automargin\": true, \"gridcolor\": \"white\", \"linecolor\": \"white\", \"ticks\": \"\", \"title\": {\"standoff\": 15}, \"zerolinecolor\": \"white\", \"zerolinewidth\": 2}}}, \"title\": {\"font\": {\"color\": \"#4D5663\"}, \"text\": \"Number of category kinds in noteevents\"}, \"xaxis\": {\"gridcolor\": \"#E1E5ED\", \"showgrid\": true, \"tickfont\": {\"color\": \"#4D5663\"}, \"title\": {\"font\": {\"color\": \"#4D5663\"}, \"text\": \"\"}, \"zerolinecolor\": \"#E1E5ED\"}, \"yaxis\": {\"gridcolor\": \"#E1E5ED\", \"showgrid\": true, \"tickfont\": {\"color\": \"#4D5663\"}, \"title\": {\"font\": {\"color\": \"#4D5663\"}, \"text\": \"Number of notes\"}, \"zerolinecolor\": \"#E1E5ED\"}},\n",
       "                        {\"showLink\": true, \"linkText\": \"Export to plot.ly\", \"plotlyServerURL\": \"https://plot.ly\", \"responsive\": true}\n",
       "                    ).then(function(){\n",
       "                            \n",
       "var gd = document.getElementById('cd32c812-c85f-4599-998d-3af7b86feba0');\n",
       "var x = new MutationObserver(function (mutations, observer) {{\n",
       "        var display = window.getComputedStyle(gd).display;\n",
       "        if (!display || display === 'none') {{\n",
       "            console.log([gd, 'removed!']);\n",
       "            Plotly.purge(gd);\n",
       "            observer.disconnect();\n",
       "        }}\n",
       "}});\n",
       "\n",
       "// Listen for the removal of the full notebook cells\n",
       "var notebookContainer = gd.closest('#notebook-container');\n",
       "if (notebookContainer) {{\n",
       "    x.observe(notebookContainer, {childList: true});\n",
       "}}\n",
       "\n",
       "// Listen for the clearing of the current output cell\n",
       "var outputEl = gd.closest('.output');\n",
       "if (outputEl) {{\n",
       "    x.observe(outputEl, {childList: true});\n",
       "}}\n",
       "\n",
       "                        })\n",
       "                };\n",
       "                });\n",
       "            </script>\n",
       "        </div>"
      ]
     },
     "metadata": {},
     "output_type": "display_data"
    }
   ],
   "source": [
    "pneumonia_df['CATEGORY'].value_counts().sort_values(ascending=False).iplot(kind='bar', yTitle='Number of notes', \n",
    "                                                                title='Number of category kinds in noteevents')"
   ]
  },
  {
   "cell_type": "code",
   "execution_count": 15,
   "metadata": {},
   "outputs": [],
   "source": [
    "#pneumonia_no_disch_df = pneumonia_df.loc[pneumonia_df[\"CATEGORY\"] != 'Discharge summary', ['ROW_ID_x', 'SUBJECT_ID_x', 'HADM_ID', 'CHARTDATE', 'CHARTTIME', 'STORETIME', 'CATEGORY', 'DESCRIPTION', 'CGID', 'ISERROR', 'TEXT', 'ADMITTIME', 'DISCHTIME', 'DEATHTIME', 'ADMISSION_TYPE', 'DIAGNOSIS', 'HAS_CHARTEVENTS_DATA']]\n",
    "pneumonia_no_disch_df = pneumonia_df.loc[pneumonia_df[\"CATEGORY\"] != 'Discharge summary', ['ROW_ID_x','SUBJECT_ID_x','CHARTDATE','STORETIME','CATEGORY','DESCRIPTION','TEXT', 'DEATHTIME']]"
   ]
  },
  {
   "cell_type": "code",
   "execution_count": 16,
   "metadata": {
    "scrolled": false
   },
   "outputs": [
    {
     "data": {
      "application/vnd.plotly.v1+json": {
       "config": {
        "linkText": "Export to plot.ly",
        "plotlyServerURL": "https://plot.ly",
        "showLink": true
       },
       "data": [
        {
         "marker": {
          "color": "rgba(255, 153, 51, 0.6)",
          "line": {
           "color": "rgba(255, 153, 51, 1.0)",
           "width": 1
          }
         },
         "name": "CATEGORY",
         "orientation": "v",
         "text": "",
         "type": "bar",
         "x": [
          "Nursing",
          "Nursing/other",
          "Radiology",
          "Physician ",
          "ECG",
          "Respiratory ",
          "Echo",
          "General",
          "Nutrition",
          "Rehab Services",
          "Social Work",
          "Case Management ",
          "Pharmacy",
          "Consult"
         ],
         "y": [
          13256,
          12693,
          11723,
          10643,
          4469,
          2454,
          949,
          680,
          638,
          231,
          142,
          135,
          15,
          1
         ]
        }
       ],
       "layout": {
        "legend": {
         "bgcolor": "#F5F6F9",
         "font": {
          "color": "#4D5663"
         }
        },
        "paper_bgcolor": "#F5F6F9",
        "plot_bgcolor": "#F5F6F9",
        "template": {
         "data": {
          "bar": [
           {
            "error_x": {
             "color": "#2a3f5f"
            },
            "error_y": {
             "color": "#2a3f5f"
            },
            "marker": {
             "line": {
              "color": "#E5ECF6",
              "width": 0.5
             }
            },
            "type": "bar"
           }
          ],
          "barpolar": [
           {
            "marker": {
             "line": {
              "color": "#E5ECF6",
              "width": 0.5
             }
            },
            "type": "barpolar"
           }
          ],
          "carpet": [
           {
            "aaxis": {
             "endlinecolor": "#2a3f5f",
             "gridcolor": "white",
             "linecolor": "white",
             "minorgridcolor": "white",
             "startlinecolor": "#2a3f5f"
            },
            "baxis": {
             "endlinecolor": "#2a3f5f",
             "gridcolor": "white",
             "linecolor": "white",
             "minorgridcolor": "white",
             "startlinecolor": "#2a3f5f"
            },
            "type": "carpet"
           }
          ],
          "choropleth": [
           {
            "colorbar": {
             "outlinewidth": 0,
             "ticks": ""
            },
            "type": "choropleth"
           }
          ],
          "contour": [
           {
            "colorbar": {
             "outlinewidth": 0,
             "ticks": ""
            },
            "colorscale": [
             [
              0,
              "#0d0887"
             ],
             [
              0.1111111111111111,
              "#46039f"
             ],
             [
              0.2222222222222222,
              "#7201a8"
             ],
             [
              0.3333333333333333,
              "#9c179e"
             ],
             [
              0.4444444444444444,
              "#bd3786"
             ],
             [
              0.5555555555555556,
              "#d8576b"
             ],
             [
              0.6666666666666666,
              "#ed7953"
             ],
             [
              0.7777777777777778,
              "#fb9f3a"
             ],
             [
              0.8888888888888888,
              "#fdca26"
             ],
             [
              1,
              "#f0f921"
             ]
            ],
            "type": "contour"
           }
          ],
          "contourcarpet": [
           {
            "colorbar": {
             "outlinewidth": 0,
             "ticks": ""
            },
            "type": "contourcarpet"
           }
          ],
          "heatmap": [
           {
            "colorbar": {
             "outlinewidth": 0,
             "ticks": ""
            },
            "colorscale": [
             [
              0,
              "#0d0887"
             ],
             [
              0.1111111111111111,
              "#46039f"
             ],
             [
              0.2222222222222222,
              "#7201a8"
             ],
             [
              0.3333333333333333,
              "#9c179e"
             ],
             [
              0.4444444444444444,
              "#bd3786"
             ],
             [
              0.5555555555555556,
              "#d8576b"
             ],
             [
              0.6666666666666666,
              "#ed7953"
             ],
             [
              0.7777777777777778,
              "#fb9f3a"
             ],
             [
              0.8888888888888888,
              "#fdca26"
             ],
             [
              1,
              "#f0f921"
             ]
            ],
            "type": "heatmap"
           }
          ],
          "heatmapgl": [
           {
            "colorbar": {
             "outlinewidth": 0,
             "ticks": ""
            },
            "colorscale": [
             [
              0,
              "#0d0887"
             ],
             [
              0.1111111111111111,
              "#46039f"
             ],
             [
              0.2222222222222222,
              "#7201a8"
             ],
             [
              0.3333333333333333,
              "#9c179e"
             ],
             [
              0.4444444444444444,
              "#bd3786"
             ],
             [
              0.5555555555555556,
              "#d8576b"
             ],
             [
              0.6666666666666666,
              "#ed7953"
             ],
             [
              0.7777777777777778,
              "#fb9f3a"
             ],
             [
              0.8888888888888888,
              "#fdca26"
             ],
             [
              1,
              "#f0f921"
             ]
            ],
            "type": "heatmapgl"
           }
          ],
          "histogram": [
           {
            "marker": {
             "colorbar": {
              "outlinewidth": 0,
              "ticks": ""
             }
            },
            "type": "histogram"
           }
          ],
          "histogram2d": [
           {
            "colorbar": {
             "outlinewidth": 0,
             "ticks": ""
            },
            "colorscale": [
             [
              0,
              "#0d0887"
             ],
             [
              0.1111111111111111,
              "#46039f"
             ],
             [
              0.2222222222222222,
              "#7201a8"
             ],
             [
              0.3333333333333333,
              "#9c179e"
             ],
             [
              0.4444444444444444,
              "#bd3786"
             ],
             [
              0.5555555555555556,
              "#d8576b"
             ],
             [
              0.6666666666666666,
              "#ed7953"
             ],
             [
              0.7777777777777778,
              "#fb9f3a"
             ],
             [
              0.8888888888888888,
              "#fdca26"
             ],
             [
              1,
              "#f0f921"
             ]
            ],
            "type": "histogram2d"
           }
          ],
          "histogram2dcontour": [
           {
            "colorbar": {
             "outlinewidth": 0,
             "ticks": ""
            },
            "colorscale": [
             [
              0,
              "#0d0887"
             ],
             [
              0.1111111111111111,
              "#46039f"
             ],
             [
              0.2222222222222222,
              "#7201a8"
             ],
             [
              0.3333333333333333,
              "#9c179e"
             ],
             [
              0.4444444444444444,
              "#bd3786"
             ],
             [
              0.5555555555555556,
              "#d8576b"
             ],
             [
              0.6666666666666666,
              "#ed7953"
             ],
             [
              0.7777777777777778,
              "#fb9f3a"
             ],
             [
              0.8888888888888888,
              "#fdca26"
             ],
             [
              1,
              "#f0f921"
             ]
            ],
            "type": "histogram2dcontour"
           }
          ],
          "mesh3d": [
           {
            "colorbar": {
             "outlinewidth": 0,
             "ticks": ""
            },
            "type": "mesh3d"
           }
          ],
          "parcoords": [
           {
            "line": {
             "colorbar": {
              "outlinewidth": 0,
              "ticks": ""
             }
            },
            "type": "parcoords"
           }
          ],
          "pie": [
           {
            "automargin": true,
            "type": "pie"
           }
          ],
          "scatter": [
           {
            "marker": {
             "colorbar": {
              "outlinewidth": 0,
              "ticks": ""
             }
            },
            "type": "scatter"
           }
          ],
          "scatter3d": [
           {
            "line": {
             "colorbar": {
              "outlinewidth": 0,
              "ticks": ""
             }
            },
            "marker": {
             "colorbar": {
              "outlinewidth": 0,
              "ticks": ""
             }
            },
            "type": "scatter3d"
           }
          ],
          "scattercarpet": [
           {
            "marker": {
             "colorbar": {
              "outlinewidth": 0,
              "ticks": ""
             }
            },
            "type": "scattercarpet"
           }
          ],
          "scattergeo": [
           {
            "marker": {
             "colorbar": {
              "outlinewidth": 0,
              "ticks": ""
             }
            },
            "type": "scattergeo"
           }
          ],
          "scattergl": [
           {
            "marker": {
             "colorbar": {
              "outlinewidth": 0,
              "ticks": ""
             }
            },
            "type": "scattergl"
           }
          ],
          "scattermapbox": [
           {
            "marker": {
             "colorbar": {
              "outlinewidth": 0,
              "ticks": ""
             }
            },
            "type": "scattermapbox"
           }
          ],
          "scatterpolar": [
           {
            "marker": {
             "colorbar": {
              "outlinewidth": 0,
              "ticks": ""
             }
            },
            "type": "scatterpolar"
           }
          ],
          "scatterpolargl": [
           {
            "marker": {
             "colorbar": {
              "outlinewidth": 0,
              "ticks": ""
             }
            },
            "type": "scatterpolargl"
           }
          ],
          "scatterternary": [
           {
            "marker": {
             "colorbar": {
              "outlinewidth": 0,
              "ticks": ""
             }
            },
            "type": "scatterternary"
           }
          ],
          "surface": [
           {
            "colorbar": {
             "outlinewidth": 0,
             "ticks": ""
            },
            "colorscale": [
             [
              0,
              "#0d0887"
             ],
             [
              0.1111111111111111,
              "#46039f"
             ],
             [
              0.2222222222222222,
              "#7201a8"
             ],
             [
              0.3333333333333333,
              "#9c179e"
             ],
             [
              0.4444444444444444,
              "#bd3786"
             ],
             [
              0.5555555555555556,
              "#d8576b"
             ],
             [
              0.6666666666666666,
              "#ed7953"
             ],
             [
              0.7777777777777778,
              "#fb9f3a"
             ],
             [
              0.8888888888888888,
              "#fdca26"
             ],
             [
              1,
              "#f0f921"
             ]
            ],
            "type": "surface"
           }
          ],
          "table": [
           {
            "cells": {
             "fill": {
              "color": "#EBF0F8"
             },
             "line": {
              "color": "white"
             }
            },
            "header": {
             "fill": {
              "color": "#C8D4E3"
             },
             "line": {
              "color": "white"
             }
            },
            "type": "table"
           }
          ]
         },
         "layout": {
          "annotationdefaults": {
           "arrowcolor": "#2a3f5f",
           "arrowhead": 0,
           "arrowwidth": 1
          },
          "coloraxis": {
           "colorbar": {
            "outlinewidth": 0,
            "ticks": ""
           }
          },
          "colorscale": {
           "diverging": [
            [
             0,
             "#8e0152"
            ],
            [
             0.1,
             "#c51b7d"
            ],
            [
             0.2,
             "#de77ae"
            ],
            [
             0.3,
             "#f1b6da"
            ],
            [
             0.4,
             "#fde0ef"
            ],
            [
             0.5,
             "#f7f7f7"
            ],
            [
             0.6,
             "#e6f5d0"
            ],
            [
             0.7,
             "#b8e186"
            ],
            [
             0.8,
             "#7fbc41"
            ],
            [
             0.9,
             "#4d9221"
            ],
            [
             1,
             "#276419"
            ]
           ],
           "sequential": [
            [
             0,
             "#0d0887"
            ],
            [
             0.1111111111111111,
             "#46039f"
            ],
            [
             0.2222222222222222,
             "#7201a8"
            ],
            [
             0.3333333333333333,
             "#9c179e"
            ],
            [
             0.4444444444444444,
             "#bd3786"
            ],
            [
             0.5555555555555556,
             "#d8576b"
            ],
            [
             0.6666666666666666,
             "#ed7953"
            ],
            [
             0.7777777777777778,
             "#fb9f3a"
            ],
            [
             0.8888888888888888,
             "#fdca26"
            ],
            [
             1,
             "#f0f921"
            ]
           ],
           "sequentialminus": [
            [
             0,
             "#0d0887"
            ],
            [
             0.1111111111111111,
             "#46039f"
            ],
            [
             0.2222222222222222,
             "#7201a8"
            ],
            [
             0.3333333333333333,
             "#9c179e"
            ],
            [
             0.4444444444444444,
             "#bd3786"
            ],
            [
             0.5555555555555556,
             "#d8576b"
            ],
            [
             0.6666666666666666,
             "#ed7953"
            ],
            [
             0.7777777777777778,
             "#fb9f3a"
            ],
            [
             0.8888888888888888,
             "#fdca26"
            ],
            [
             1,
             "#f0f921"
            ]
           ]
          },
          "colorway": [
           "#636efa",
           "#EF553B",
           "#00cc96",
           "#ab63fa",
           "#FFA15A",
           "#19d3f3",
           "#FF6692",
           "#B6E880",
           "#FF97FF",
           "#FECB52"
          ],
          "font": {
           "color": "#2a3f5f"
          },
          "geo": {
           "bgcolor": "white",
           "lakecolor": "white",
           "landcolor": "#E5ECF6",
           "showlakes": true,
           "showland": true,
           "subunitcolor": "white"
          },
          "hoverlabel": {
           "align": "left"
          },
          "hovermode": "closest",
          "mapbox": {
           "style": "light"
          },
          "paper_bgcolor": "white",
          "plot_bgcolor": "#E5ECF6",
          "polar": {
           "angularaxis": {
            "gridcolor": "white",
            "linecolor": "white",
            "ticks": ""
           },
           "bgcolor": "#E5ECF6",
           "radialaxis": {
            "gridcolor": "white",
            "linecolor": "white",
            "ticks": ""
           }
          },
          "scene": {
           "xaxis": {
            "backgroundcolor": "#E5ECF6",
            "gridcolor": "white",
            "gridwidth": 2,
            "linecolor": "white",
            "showbackground": true,
            "ticks": "",
            "zerolinecolor": "white"
           },
           "yaxis": {
            "backgroundcolor": "#E5ECF6",
            "gridcolor": "white",
            "gridwidth": 2,
            "linecolor": "white",
            "showbackground": true,
            "ticks": "",
            "zerolinecolor": "white"
           },
           "zaxis": {
            "backgroundcolor": "#E5ECF6",
            "gridcolor": "white",
            "gridwidth": 2,
            "linecolor": "white",
            "showbackground": true,
            "ticks": "",
            "zerolinecolor": "white"
           }
          },
          "shapedefaults": {
           "line": {
            "color": "#2a3f5f"
           }
          },
          "ternary": {
           "aaxis": {
            "gridcolor": "white",
            "linecolor": "white",
            "ticks": ""
           },
           "baxis": {
            "gridcolor": "white",
            "linecolor": "white",
            "ticks": ""
           },
           "bgcolor": "#E5ECF6",
           "caxis": {
            "gridcolor": "white",
            "linecolor": "white",
            "ticks": ""
           }
          },
          "title": {
           "x": 0.05
          },
          "xaxis": {
           "automargin": true,
           "gridcolor": "white",
           "linecolor": "white",
           "ticks": "",
           "title": {
            "standoff": 15
           },
           "zerolinecolor": "white",
           "zerolinewidth": 2
          },
          "yaxis": {
           "automargin": true,
           "gridcolor": "white",
           "linecolor": "white",
           "ticks": "",
           "title": {
            "standoff": 15
           },
           "zerolinecolor": "white",
           "zerolinewidth": 2
          }
         }
        },
        "title": {
         "font": {
          "color": "#4D5663"
         },
         "text": "Number of category kinds in noteevents"
        },
        "xaxis": {
         "gridcolor": "#E1E5ED",
         "showgrid": true,
         "tickfont": {
          "color": "#4D5663"
         },
         "title": {
          "font": {
           "color": "#4D5663"
          },
          "text": ""
         },
         "zerolinecolor": "#E1E5ED"
        },
        "yaxis": {
         "gridcolor": "#E1E5ED",
         "showgrid": true,
         "tickfont": {
          "color": "#4D5663"
         },
         "title": {
          "font": {
           "color": "#4D5663"
          },
          "text": "Number of notes"
         },
         "zerolinecolor": "#E1E5ED"
        }
       }
      },
      "text/html": [
       "<div>\n",
       "        \n",
       "        \n",
       "            <div id=\"5bb8ee89-f6b6-4c01-b76e-6516c2690529\" class=\"plotly-graph-div\" style=\"height:525px; width:100%;\"></div>\n",
       "            <script type=\"text/javascript\">\n",
       "                require([\"plotly\"], function(Plotly) {\n",
       "                    window.PLOTLYENV=window.PLOTLYENV || {};\n",
       "                    window.PLOTLYENV.BASE_URL='https://plot.ly';\n",
       "                    \n",
       "                if (document.getElementById(\"5bb8ee89-f6b6-4c01-b76e-6516c2690529\")) {\n",
       "                    Plotly.newPlot(\n",
       "                        '5bb8ee89-f6b6-4c01-b76e-6516c2690529',\n",
       "                        [{\"marker\": {\"color\": \"rgba(255, 153, 51, 0.6)\", \"line\": {\"color\": \"rgba(255, 153, 51, 1.0)\", \"width\": 1}}, \"name\": \"CATEGORY\", \"orientation\": \"v\", \"text\": \"\", \"type\": \"bar\", \"x\": [\"Nursing\", \"Nursing/other\", \"Radiology\", \"Physician \", \"ECG\", \"Respiratory \", \"Echo\", \"General\", \"Nutrition\", \"Rehab Services\", \"Social Work\", \"Case Management \", \"Pharmacy\", \"Consult\"], \"y\": [13256, 12693, 11723, 10643, 4469, 2454, 949, 680, 638, 231, 142, 135, 15, 1]}],\n",
       "                        {\"legend\": {\"bgcolor\": \"#F5F6F9\", \"font\": {\"color\": \"#4D5663\"}}, \"paper_bgcolor\": \"#F5F6F9\", \"plot_bgcolor\": \"#F5F6F9\", \"template\": {\"data\": {\"bar\": [{\"error_x\": {\"color\": \"#2a3f5f\"}, \"error_y\": {\"color\": \"#2a3f5f\"}, \"marker\": {\"line\": {\"color\": \"#E5ECF6\", \"width\": 0.5}}, \"type\": \"bar\"}], \"barpolar\": [{\"marker\": {\"line\": {\"color\": \"#E5ECF6\", \"width\": 0.5}}, \"type\": \"barpolar\"}], \"carpet\": [{\"aaxis\": {\"endlinecolor\": \"#2a3f5f\", \"gridcolor\": \"white\", \"linecolor\": \"white\", \"minorgridcolor\": \"white\", \"startlinecolor\": \"#2a3f5f\"}, \"baxis\": {\"endlinecolor\": \"#2a3f5f\", \"gridcolor\": \"white\", \"linecolor\": \"white\", \"minorgridcolor\": \"white\", \"startlinecolor\": \"#2a3f5f\"}, \"type\": \"carpet\"}], \"choropleth\": [{\"colorbar\": {\"outlinewidth\": 0, \"ticks\": \"\"}, \"type\": \"choropleth\"}], \"contour\": [{\"colorbar\": {\"outlinewidth\": 0, \"ticks\": \"\"}, \"colorscale\": [[0.0, \"#0d0887\"], [0.1111111111111111, \"#46039f\"], [0.2222222222222222, \"#7201a8\"], [0.3333333333333333, \"#9c179e\"], [0.4444444444444444, \"#bd3786\"], [0.5555555555555556, \"#d8576b\"], [0.6666666666666666, \"#ed7953\"], [0.7777777777777778, \"#fb9f3a\"], [0.8888888888888888, \"#fdca26\"], [1.0, \"#f0f921\"]], \"type\": \"contour\"}], \"contourcarpet\": [{\"colorbar\": {\"outlinewidth\": 0, \"ticks\": \"\"}, \"type\": \"contourcarpet\"}], \"heatmap\": [{\"colorbar\": {\"outlinewidth\": 0, \"ticks\": \"\"}, \"colorscale\": [[0.0, \"#0d0887\"], [0.1111111111111111, \"#46039f\"], [0.2222222222222222, \"#7201a8\"], [0.3333333333333333, \"#9c179e\"], [0.4444444444444444, \"#bd3786\"], [0.5555555555555556, \"#d8576b\"], [0.6666666666666666, \"#ed7953\"], [0.7777777777777778, \"#fb9f3a\"], [0.8888888888888888, \"#fdca26\"], [1.0, \"#f0f921\"]], \"type\": \"heatmap\"}], \"heatmapgl\": [{\"colorbar\": {\"outlinewidth\": 0, \"ticks\": \"\"}, \"colorscale\": [[0.0, \"#0d0887\"], [0.1111111111111111, \"#46039f\"], [0.2222222222222222, \"#7201a8\"], [0.3333333333333333, \"#9c179e\"], [0.4444444444444444, \"#bd3786\"], [0.5555555555555556, \"#d8576b\"], [0.6666666666666666, \"#ed7953\"], [0.7777777777777778, \"#fb9f3a\"], [0.8888888888888888, \"#fdca26\"], [1.0, \"#f0f921\"]], \"type\": \"heatmapgl\"}], \"histogram\": [{\"marker\": {\"colorbar\": {\"outlinewidth\": 0, \"ticks\": \"\"}}, \"type\": \"histogram\"}], \"histogram2d\": [{\"colorbar\": {\"outlinewidth\": 0, \"ticks\": \"\"}, \"colorscale\": [[0.0, \"#0d0887\"], [0.1111111111111111, \"#46039f\"], [0.2222222222222222, \"#7201a8\"], [0.3333333333333333, \"#9c179e\"], [0.4444444444444444, \"#bd3786\"], [0.5555555555555556, \"#d8576b\"], [0.6666666666666666, \"#ed7953\"], [0.7777777777777778, \"#fb9f3a\"], [0.8888888888888888, \"#fdca26\"], [1.0, \"#f0f921\"]], \"type\": \"histogram2d\"}], \"histogram2dcontour\": [{\"colorbar\": {\"outlinewidth\": 0, \"ticks\": \"\"}, \"colorscale\": [[0.0, \"#0d0887\"], [0.1111111111111111, \"#46039f\"], [0.2222222222222222, \"#7201a8\"], [0.3333333333333333, \"#9c179e\"], [0.4444444444444444, \"#bd3786\"], [0.5555555555555556, \"#d8576b\"], [0.6666666666666666, \"#ed7953\"], [0.7777777777777778, \"#fb9f3a\"], [0.8888888888888888, \"#fdca26\"], [1.0, \"#f0f921\"]], \"type\": \"histogram2dcontour\"}], \"mesh3d\": [{\"colorbar\": {\"outlinewidth\": 0, \"ticks\": \"\"}, \"type\": \"mesh3d\"}], \"parcoords\": [{\"line\": {\"colorbar\": {\"outlinewidth\": 0, \"ticks\": \"\"}}, \"type\": \"parcoords\"}], \"pie\": [{\"automargin\": true, \"type\": \"pie\"}], \"scatter\": [{\"marker\": {\"colorbar\": {\"outlinewidth\": 0, \"ticks\": \"\"}}, \"type\": \"scatter\"}], \"scatter3d\": [{\"line\": {\"colorbar\": {\"outlinewidth\": 0, \"ticks\": \"\"}}, \"marker\": {\"colorbar\": {\"outlinewidth\": 0, \"ticks\": \"\"}}, \"type\": \"scatter3d\"}], \"scattercarpet\": [{\"marker\": {\"colorbar\": {\"outlinewidth\": 0, \"ticks\": \"\"}}, \"type\": \"scattercarpet\"}], \"scattergeo\": [{\"marker\": {\"colorbar\": {\"outlinewidth\": 0, \"ticks\": \"\"}}, \"type\": \"scattergeo\"}], \"scattergl\": [{\"marker\": {\"colorbar\": {\"outlinewidth\": 0, \"ticks\": \"\"}}, \"type\": \"scattergl\"}], \"scattermapbox\": [{\"marker\": {\"colorbar\": {\"outlinewidth\": 0, \"ticks\": \"\"}}, \"type\": \"scattermapbox\"}], \"scatterpolar\": [{\"marker\": {\"colorbar\": {\"outlinewidth\": 0, \"ticks\": \"\"}}, \"type\": \"scatterpolar\"}], \"scatterpolargl\": [{\"marker\": {\"colorbar\": {\"outlinewidth\": 0, \"ticks\": \"\"}}, \"type\": \"scatterpolargl\"}], \"scatterternary\": [{\"marker\": {\"colorbar\": {\"outlinewidth\": 0, \"ticks\": \"\"}}, \"type\": \"scatterternary\"}], \"surface\": [{\"colorbar\": {\"outlinewidth\": 0, \"ticks\": \"\"}, \"colorscale\": [[0.0, \"#0d0887\"], [0.1111111111111111, \"#46039f\"], [0.2222222222222222, \"#7201a8\"], [0.3333333333333333, \"#9c179e\"], [0.4444444444444444, \"#bd3786\"], [0.5555555555555556, \"#d8576b\"], [0.6666666666666666, \"#ed7953\"], [0.7777777777777778, \"#fb9f3a\"], [0.8888888888888888, \"#fdca26\"], [1.0, \"#f0f921\"]], \"type\": \"surface\"}], \"table\": [{\"cells\": {\"fill\": {\"color\": \"#EBF0F8\"}, \"line\": {\"color\": \"white\"}}, \"header\": {\"fill\": {\"color\": \"#C8D4E3\"}, \"line\": {\"color\": \"white\"}}, \"type\": \"table\"}]}, \"layout\": {\"annotationdefaults\": {\"arrowcolor\": \"#2a3f5f\", \"arrowhead\": 0, \"arrowwidth\": 1}, \"coloraxis\": {\"colorbar\": {\"outlinewidth\": 0, \"ticks\": \"\"}}, \"colorscale\": {\"diverging\": [[0, \"#8e0152\"], [0.1, \"#c51b7d\"], [0.2, \"#de77ae\"], [0.3, \"#f1b6da\"], [0.4, \"#fde0ef\"], [0.5, \"#f7f7f7\"], [0.6, \"#e6f5d0\"], [0.7, \"#b8e186\"], [0.8, \"#7fbc41\"], [0.9, \"#4d9221\"], [1, \"#276419\"]], \"sequential\": [[0.0, \"#0d0887\"], [0.1111111111111111, \"#46039f\"], [0.2222222222222222, \"#7201a8\"], [0.3333333333333333, \"#9c179e\"], [0.4444444444444444, \"#bd3786\"], [0.5555555555555556, \"#d8576b\"], [0.6666666666666666, \"#ed7953\"], [0.7777777777777778, \"#fb9f3a\"], [0.8888888888888888, \"#fdca26\"], [1.0, \"#f0f921\"]], \"sequentialminus\": [[0.0, \"#0d0887\"], [0.1111111111111111, \"#46039f\"], [0.2222222222222222, \"#7201a8\"], [0.3333333333333333, \"#9c179e\"], [0.4444444444444444, \"#bd3786\"], [0.5555555555555556, \"#d8576b\"], [0.6666666666666666, \"#ed7953\"], [0.7777777777777778, \"#fb9f3a\"], [0.8888888888888888, \"#fdca26\"], [1.0, \"#f0f921\"]]}, \"colorway\": [\"#636efa\", \"#EF553B\", \"#00cc96\", \"#ab63fa\", \"#FFA15A\", \"#19d3f3\", \"#FF6692\", \"#B6E880\", \"#FF97FF\", \"#FECB52\"], \"font\": {\"color\": \"#2a3f5f\"}, \"geo\": {\"bgcolor\": \"white\", \"lakecolor\": \"white\", \"landcolor\": \"#E5ECF6\", \"showlakes\": true, \"showland\": true, \"subunitcolor\": \"white\"}, \"hoverlabel\": {\"align\": \"left\"}, \"hovermode\": \"closest\", \"mapbox\": {\"style\": \"light\"}, \"paper_bgcolor\": \"white\", \"plot_bgcolor\": \"#E5ECF6\", \"polar\": {\"angularaxis\": {\"gridcolor\": \"white\", \"linecolor\": \"white\", \"ticks\": \"\"}, \"bgcolor\": \"#E5ECF6\", \"radialaxis\": {\"gridcolor\": \"white\", \"linecolor\": \"white\", \"ticks\": \"\"}}, \"scene\": {\"xaxis\": {\"backgroundcolor\": \"#E5ECF6\", \"gridcolor\": \"white\", \"gridwidth\": 2, \"linecolor\": \"white\", \"showbackground\": true, \"ticks\": \"\", \"zerolinecolor\": \"white\"}, \"yaxis\": {\"backgroundcolor\": \"#E5ECF6\", \"gridcolor\": \"white\", \"gridwidth\": 2, \"linecolor\": \"white\", \"showbackground\": true, \"ticks\": \"\", \"zerolinecolor\": \"white\"}, \"zaxis\": {\"backgroundcolor\": \"#E5ECF6\", \"gridcolor\": \"white\", \"gridwidth\": 2, \"linecolor\": \"white\", \"showbackground\": true, \"ticks\": \"\", \"zerolinecolor\": \"white\"}}, \"shapedefaults\": {\"line\": {\"color\": \"#2a3f5f\"}}, \"ternary\": {\"aaxis\": {\"gridcolor\": \"white\", \"linecolor\": \"white\", \"ticks\": \"\"}, \"baxis\": {\"gridcolor\": \"white\", \"linecolor\": \"white\", \"ticks\": \"\"}, \"bgcolor\": \"#E5ECF6\", \"caxis\": {\"gridcolor\": \"white\", \"linecolor\": \"white\", \"ticks\": \"\"}}, \"title\": {\"x\": 0.05}, \"xaxis\": {\"automargin\": true, \"gridcolor\": \"white\", \"linecolor\": \"white\", \"ticks\": \"\", \"title\": {\"standoff\": 15}, \"zerolinecolor\": \"white\", \"zerolinewidth\": 2}, \"yaxis\": {\"automargin\": true, \"gridcolor\": \"white\", \"linecolor\": \"white\", \"ticks\": \"\", \"title\": {\"standoff\": 15}, \"zerolinecolor\": \"white\", \"zerolinewidth\": 2}}}, \"title\": {\"font\": {\"color\": \"#4D5663\"}, \"text\": \"Number of category kinds in noteevents\"}, \"xaxis\": {\"gridcolor\": \"#E1E5ED\", \"showgrid\": true, \"tickfont\": {\"color\": \"#4D5663\"}, \"title\": {\"font\": {\"color\": \"#4D5663\"}, \"text\": \"\"}, \"zerolinecolor\": \"#E1E5ED\"}, \"yaxis\": {\"gridcolor\": \"#E1E5ED\", \"showgrid\": true, \"tickfont\": {\"color\": \"#4D5663\"}, \"title\": {\"font\": {\"color\": \"#4D5663\"}, \"text\": \"Number of notes\"}, \"zerolinecolor\": \"#E1E5ED\"}},\n",
       "                        {\"showLink\": true, \"linkText\": \"Export to plot.ly\", \"plotlyServerURL\": \"https://plot.ly\", \"responsive\": true}\n",
       "                    ).then(function(){\n",
       "                            \n",
       "var gd = document.getElementById('5bb8ee89-f6b6-4c01-b76e-6516c2690529');\n",
       "var x = new MutationObserver(function (mutations, observer) {{\n",
       "        var display = window.getComputedStyle(gd).display;\n",
       "        if (!display || display === 'none') {{\n",
       "            console.log([gd, 'removed!']);\n",
       "            Plotly.purge(gd);\n",
       "            observer.disconnect();\n",
       "        }}\n",
       "}});\n",
       "\n",
       "// Listen for the removal of the full notebook cells\n",
       "var notebookContainer = gd.closest('#notebook-container');\n",
       "if (notebookContainer) {{\n",
       "    x.observe(notebookContainer, {childList: true});\n",
       "}}\n",
       "\n",
       "// Listen for the clearing of the current output cell\n",
       "var outputEl = gd.closest('.output');\n",
       "if (outputEl) {{\n",
       "    x.observe(outputEl, {childList: true});\n",
       "}}\n",
       "\n",
       "                        })\n",
       "                };\n",
       "                });\n",
       "            </script>\n",
       "        </div>"
      ]
     },
     "metadata": {},
     "output_type": "display_data"
    }
   ],
   "source": [
    "pneumonia_no_disch_df['CATEGORY'].value_counts().sort_values(ascending=False).iplot(kind='bar', yTitle='Number of notes', \n",
    "                                                                title='Number of category kinds in noteevents')"
   ]
  },
  {
   "cell_type": "code",
   "execution_count": 17,
   "metadata": {},
   "outputs": [
    {
     "name": "stdout",
     "output_type": "stream",
     "text": [
      "<class 'pandas.core.frame.DataFrame'>\n",
      "Int64Index: 58029 entries, 59103 to 2066669\n",
      "Data columns (total 8 columns):\n",
      " #   Column        Non-Null Count  Dtype \n",
      "---  ------        --------------  ----- \n",
      " 0   ROW_ID_x      58029 non-null  int64 \n",
      " 1   SUBJECT_ID_x  58029 non-null  int64 \n",
      " 2   CHARTDATE     58029 non-null  object\n",
      " 3   STORETIME     40888 non-null  object\n",
      " 4   CATEGORY      58029 non-null  object\n",
      " 5   DESCRIPTION   58029 non-null  object\n",
      " 6   TEXT          58029 non-null  object\n",
      " 7   DEATHTIME     11895 non-null  object\n",
      "dtypes: int64(2), object(6)\n",
      "memory usage: 4.0+ MB\n"
     ]
    }
   ],
   "source": [
    "pneumonia_no_disch_df.info()"
   ]
  },
  {
   "cell_type": "code",
   "execution_count": 18,
   "metadata": {},
   "outputs": [
    {
     "data": {
      "text/plain": [
       "(58029, 8)"
      ]
     },
     "execution_count": 18,
     "metadata": {},
     "output_type": "execute_result"
    }
   ],
   "source": [
    "pneumonia_no_disch_df.shape"
   ]
  },
  {
   "cell_type": "code",
   "execution_count": 19,
   "metadata": {},
   "outputs": [],
   "source": [
    "pneumonia_alive_no_disch = pneumonia_no_disch_df[pneumonia_no_disch_df.DEATHTIME.isnull()]\n",
    "pneumonia_dead_no_disch = pneumonia_no_disch_df[pneumonia_no_disch_df.DEATHTIME.notnull()]"
   ]
  },
  {
   "cell_type": "code",
   "execution_count": 20,
   "metadata": {},
   "outputs": [
    {
     "data": {
      "text/plain": [
       "(11895, 8)"
      ]
     },
     "execution_count": 20,
     "metadata": {},
     "output_type": "execute_result"
    }
   ],
   "source": [
    "pneumonia_dead_no_disch.shape"
   ]
  },
  {
   "cell_type": "code",
   "execution_count": 21,
   "metadata": {},
   "outputs": [
    {
     "data": {
      "text/plain": [
       "(46134, 8)"
      ]
     },
     "execution_count": 21,
     "metadata": {},
     "output_type": "execute_result"
    }
   ],
   "source": [
    "pneumonia_alive_no_disch.shape"
   ]
  },
  {
   "cell_type": "code",
   "execution_count": 22,
   "metadata": {},
   "outputs": [],
   "source": [
    "pneumonia_alive_no_disch = pneumonia_alive_no_disch.sort_values(by=['SUBJECT_ID_x','CHARTDATE', 'ROW_ID_x'])\n",
    "pneumonia_dead_no_disch = pneumonia_dead_no_disch.sort_values(by=['SUBJECT_ID_x','CHARTDATE', 'ROW_ID_x'])"
   ]
  },
  {
   "cell_type": "code",
   "execution_count": 23,
   "metadata": {},
   "outputs": [
    {
     "data": {
      "application/vnd.plotly.v1+json": {
       "config": {
        "linkText": "Export to plot.ly",
        "plotlyServerURL": "https://plot.ly",
        "showLink": true
       },
       "data": [
        {
         "marker": {
          "color": "rgba(255, 153, 51, 0.6)",
          "line": {
           "color": "rgba(255, 153, 51, 1.0)",
           "width": 1
          }
         },
         "name": "CATEGORY",
         "orientation": "v",
         "text": "",
         "type": "bar",
         "x": [
          "Nursing",
          "Nursing/other",
          "Radiology",
          "Physician ",
          "ECG",
          "Respiratory ",
          "Echo",
          "Nutrition",
          "General",
          "Rehab Services",
          "Case Management ",
          "Social Work",
          "Pharmacy"
         ],
         "y": [
          10574,
          10043,
          9448,
          8431,
          3623,
          1831,
          782,
          489,
          486,
          207,
          106,
          100,
          14
         ]
        }
       ],
       "layout": {
        "legend": {
         "bgcolor": "#F5F6F9",
         "font": {
          "color": "#4D5663"
         }
        },
        "paper_bgcolor": "#F5F6F9",
        "plot_bgcolor": "#F5F6F9",
        "template": {
         "data": {
          "bar": [
           {
            "error_x": {
             "color": "#2a3f5f"
            },
            "error_y": {
             "color": "#2a3f5f"
            },
            "marker": {
             "line": {
              "color": "#E5ECF6",
              "width": 0.5
             }
            },
            "type": "bar"
           }
          ],
          "barpolar": [
           {
            "marker": {
             "line": {
              "color": "#E5ECF6",
              "width": 0.5
             }
            },
            "type": "barpolar"
           }
          ],
          "carpet": [
           {
            "aaxis": {
             "endlinecolor": "#2a3f5f",
             "gridcolor": "white",
             "linecolor": "white",
             "minorgridcolor": "white",
             "startlinecolor": "#2a3f5f"
            },
            "baxis": {
             "endlinecolor": "#2a3f5f",
             "gridcolor": "white",
             "linecolor": "white",
             "minorgridcolor": "white",
             "startlinecolor": "#2a3f5f"
            },
            "type": "carpet"
           }
          ],
          "choropleth": [
           {
            "colorbar": {
             "outlinewidth": 0,
             "ticks": ""
            },
            "type": "choropleth"
           }
          ],
          "contour": [
           {
            "colorbar": {
             "outlinewidth": 0,
             "ticks": ""
            },
            "colorscale": [
             [
              0,
              "#0d0887"
             ],
             [
              0.1111111111111111,
              "#46039f"
             ],
             [
              0.2222222222222222,
              "#7201a8"
             ],
             [
              0.3333333333333333,
              "#9c179e"
             ],
             [
              0.4444444444444444,
              "#bd3786"
             ],
             [
              0.5555555555555556,
              "#d8576b"
             ],
             [
              0.6666666666666666,
              "#ed7953"
             ],
             [
              0.7777777777777778,
              "#fb9f3a"
             ],
             [
              0.8888888888888888,
              "#fdca26"
             ],
             [
              1,
              "#f0f921"
             ]
            ],
            "type": "contour"
           }
          ],
          "contourcarpet": [
           {
            "colorbar": {
             "outlinewidth": 0,
             "ticks": ""
            },
            "type": "contourcarpet"
           }
          ],
          "heatmap": [
           {
            "colorbar": {
             "outlinewidth": 0,
             "ticks": ""
            },
            "colorscale": [
             [
              0,
              "#0d0887"
             ],
             [
              0.1111111111111111,
              "#46039f"
             ],
             [
              0.2222222222222222,
              "#7201a8"
             ],
             [
              0.3333333333333333,
              "#9c179e"
             ],
             [
              0.4444444444444444,
              "#bd3786"
             ],
             [
              0.5555555555555556,
              "#d8576b"
             ],
             [
              0.6666666666666666,
              "#ed7953"
             ],
             [
              0.7777777777777778,
              "#fb9f3a"
             ],
             [
              0.8888888888888888,
              "#fdca26"
             ],
             [
              1,
              "#f0f921"
             ]
            ],
            "type": "heatmap"
           }
          ],
          "heatmapgl": [
           {
            "colorbar": {
             "outlinewidth": 0,
             "ticks": ""
            },
            "colorscale": [
             [
              0,
              "#0d0887"
             ],
             [
              0.1111111111111111,
              "#46039f"
             ],
             [
              0.2222222222222222,
              "#7201a8"
             ],
             [
              0.3333333333333333,
              "#9c179e"
             ],
             [
              0.4444444444444444,
              "#bd3786"
             ],
             [
              0.5555555555555556,
              "#d8576b"
             ],
             [
              0.6666666666666666,
              "#ed7953"
             ],
             [
              0.7777777777777778,
              "#fb9f3a"
             ],
             [
              0.8888888888888888,
              "#fdca26"
             ],
             [
              1,
              "#f0f921"
             ]
            ],
            "type": "heatmapgl"
           }
          ],
          "histogram": [
           {
            "marker": {
             "colorbar": {
              "outlinewidth": 0,
              "ticks": ""
             }
            },
            "type": "histogram"
           }
          ],
          "histogram2d": [
           {
            "colorbar": {
             "outlinewidth": 0,
             "ticks": ""
            },
            "colorscale": [
             [
              0,
              "#0d0887"
             ],
             [
              0.1111111111111111,
              "#46039f"
             ],
             [
              0.2222222222222222,
              "#7201a8"
             ],
             [
              0.3333333333333333,
              "#9c179e"
             ],
             [
              0.4444444444444444,
              "#bd3786"
             ],
             [
              0.5555555555555556,
              "#d8576b"
             ],
             [
              0.6666666666666666,
              "#ed7953"
             ],
             [
              0.7777777777777778,
              "#fb9f3a"
             ],
             [
              0.8888888888888888,
              "#fdca26"
             ],
             [
              1,
              "#f0f921"
             ]
            ],
            "type": "histogram2d"
           }
          ],
          "histogram2dcontour": [
           {
            "colorbar": {
             "outlinewidth": 0,
             "ticks": ""
            },
            "colorscale": [
             [
              0,
              "#0d0887"
             ],
             [
              0.1111111111111111,
              "#46039f"
             ],
             [
              0.2222222222222222,
              "#7201a8"
             ],
             [
              0.3333333333333333,
              "#9c179e"
             ],
             [
              0.4444444444444444,
              "#bd3786"
             ],
             [
              0.5555555555555556,
              "#d8576b"
             ],
             [
              0.6666666666666666,
              "#ed7953"
             ],
             [
              0.7777777777777778,
              "#fb9f3a"
             ],
             [
              0.8888888888888888,
              "#fdca26"
             ],
             [
              1,
              "#f0f921"
             ]
            ],
            "type": "histogram2dcontour"
           }
          ],
          "mesh3d": [
           {
            "colorbar": {
             "outlinewidth": 0,
             "ticks": ""
            },
            "type": "mesh3d"
           }
          ],
          "parcoords": [
           {
            "line": {
             "colorbar": {
              "outlinewidth": 0,
              "ticks": ""
             }
            },
            "type": "parcoords"
           }
          ],
          "pie": [
           {
            "automargin": true,
            "type": "pie"
           }
          ],
          "scatter": [
           {
            "marker": {
             "colorbar": {
              "outlinewidth": 0,
              "ticks": ""
             }
            },
            "type": "scatter"
           }
          ],
          "scatter3d": [
           {
            "line": {
             "colorbar": {
              "outlinewidth": 0,
              "ticks": ""
             }
            },
            "marker": {
             "colorbar": {
              "outlinewidth": 0,
              "ticks": ""
             }
            },
            "type": "scatter3d"
           }
          ],
          "scattercarpet": [
           {
            "marker": {
             "colorbar": {
              "outlinewidth": 0,
              "ticks": ""
             }
            },
            "type": "scattercarpet"
           }
          ],
          "scattergeo": [
           {
            "marker": {
             "colorbar": {
              "outlinewidth": 0,
              "ticks": ""
             }
            },
            "type": "scattergeo"
           }
          ],
          "scattergl": [
           {
            "marker": {
             "colorbar": {
              "outlinewidth": 0,
              "ticks": ""
             }
            },
            "type": "scattergl"
           }
          ],
          "scattermapbox": [
           {
            "marker": {
             "colorbar": {
              "outlinewidth": 0,
              "ticks": ""
             }
            },
            "type": "scattermapbox"
           }
          ],
          "scatterpolar": [
           {
            "marker": {
             "colorbar": {
              "outlinewidth": 0,
              "ticks": ""
             }
            },
            "type": "scatterpolar"
           }
          ],
          "scatterpolargl": [
           {
            "marker": {
             "colorbar": {
              "outlinewidth": 0,
              "ticks": ""
             }
            },
            "type": "scatterpolargl"
           }
          ],
          "scatterternary": [
           {
            "marker": {
             "colorbar": {
              "outlinewidth": 0,
              "ticks": ""
             }
            },
            "type": "scatterternary"
           }
          ],
          "surface": [
           {
            "colorbar": {
             "outlinewidth": 0,
             "ticks": ""
            },
            "colorscale": [
             [
              0,
              "#0d0887"
             ],
             [
              0.1111111111111111,
              "#46039f"
             ],
             [
              0.2222222222222222,
              "#7201a8"
             ],
             [
              0.3333333333333333,
              "#9c179e"
             ],
             [
              0.4444444444444444,
              "#bd3786"
             ],
             [
              0.5555555555555556,
              "#d8576b"
             ],
             [
              0.6666666666666666,
              "#ed7953"
             ],
             [
              0.7777777777777778,
              "#fb9f3a"
             ],
             [
              0.8888888888888888,
              "#fdca26"
             ],
             [
              1,
              "#f0f921"
             ]
            ],
            "type": "surface"
           }
          ],
          "table": [
           {
            "cells": {
             "fill": {
              "color": "#EBF0F8"
             },
             "line": {
              "color": "white"
             }
            },
            "header": {
             "fill": {
              "color": "#C8D4E3"
             },
             "line": {
              "color": "white"
             }
            },
            "type": "table"
           }
          ]
         },
         "layout": {
          "annotationdefaults": {
           "arrowcolor": "#2a3f5f",
           "arrowhead": 0,
           "arrowwidth": 1
          },
          "coloraxis": {
           "colorbar": {
            "outlinewidth": 0,
            "ticks": ""
           }
          },
          "colorscale": {
           "diverging": [
            [
             0,
             "#8e0152"
            ],
            [
             0.1,
             "#c51b7d"
            ],
            [
             0.2,
             "#de77ae"
            ],
            [
             0.3,
             "#f1b6da"
            ],
            [
             0.4,
             "#fde0ef"
            ],
            [
             0.5,
             "#f7f7f7"
            ],
            [
             0.6,
             "#e6f5d0"
            ],
            [
             0.7,
             "#b8e186"
            ],
            [
             0.8,
             "#7fbc41"
            ],
            [
             0.9,
             "#4d9221"
            ],
            [
             1,
             "#276419"
            ]
           ],
           "sequential": [
            [
             0,
             "#0d0887"
            ],
            [
             0.1111111111111111,
             "#46039f"
            ],
            [
             0.2222222222222222,
             "#7201a8"
            ],
            [
             0.3333333333333333,
             "#9c179e"
            ],
            [
             0.4444444444444444,
             "#bd3786"
            ],
            [
             0.5555555555555556,
             "#d8576b"
            ],
            [
             0.6666666666666666,
             "#ed7953"
            ],
            [
             0.7777777777777778,
             "#fb9f3a"
            ],
            [
             0.8888888888888888,
             "#fdca26"
            ],
            [
             1,
             "#f0f921"
            ]
           ],
           "sequentialminus": [
            [
             0,
             "#0d0887"
            ],
            [
             0.1111111111111111,
             "#46039f"
            ],
            [
             0.2222222222222222,
             "#7201a8"
            ],
            [
             0.3333333333333333,
             "#9c179e"
            ],
            [
             0.4444444444444444,
             "#bd3786"
            ],
            [
             0.5555555555555556,
             "#d8576b"
            ],
            [
             0.6666666666666666,
             "#ed7953"
            ],
            [
             0.7777777777777778,
             "#fb9f3a"
            ],
            [
             0.8888888888888888,
             "#fdca26"
            ],
            [
             1,
             "#f0f921"
            ]
           ]
          },
          "colorway": [
           "#636efa",
           "#EF553B",
           "#00cc96",
           "#ab63fa",
           "#FFA15A",
           "#19d3f3",
           "#FF6692",
           "#B6E880",
           "#FF97FF",
           "#FECB52"
          ],
          "font": {
           "color": "#2a3f5f"
          },
          "geo": {
           "bgcolor": "white",
           "lakecolor": "white",
           "landcolor": "#E5ECF6",
           "showlakes": true,
           "showland": true,
           "subunitcolor": "white"
          },
          "hoverlabel": {
           "align": "left"
          },
          "hovermode": "closest",
          "mapbox": {
           "style": "light"
          },
          "paper_bgcolor": "white",
          "plot_bgcolor": "#E5ECF6",
          "polar": {
           "angularaxis": {
            "gridcolor": "white",
            "linecolor": "white",
            "ticks": ""
           },
           "bgcolor": "#E5ECF6",
           "radialaxis": {
            "gridcolor": "white",
            "linecolor": "white",
            "ticks": ""
           }
          },
          "scene": {
           "xaxis": {
            "backgroundcolor": "#E5ECF6",
            "gridcolor": "white",
            "gridwidth": 2,
            "linecolor": "white",
            "showbackground": true,
            "ticks": "",
            "zerolinecolor": "white"
           },
           "yaxis": {
            "backgroundcolor": "#E5ECF6",
            "gridcolor": "white",
            "gridwidth": 2,
            "linecolor": "white",
            "showbackground": true,
            "ticks": "",
            "zerolinecolor": "white"
           },
           "zaxis": {
            "backgroundcolor": "#E5ECF6",
            "gridcolor": "white",
            "gridwidth": 2,
            "linecolor": "white",
            "showbackground": true,
            "ticks": "",
            "zerolinecolor": "white"
           }
          },
          "shapedefaults": {
           "line": {
            "color": "#2a3f5f"
           }
          },
          "ternary": {
           "aaxis": {
            "gridcolor": "white",
            "linecolor": "white",
            "ticks": ""
           },
           "baxis": {
            "gridcolor": "white",
            "linecolor": "white",
            "ticks": ""
           },
           "bgcolor": "#E5ECF6",
           "caxis": {
            "gridcolor": "white",
            "linecolor": "white",
            "ticks": ""
           }
          },
          "title": {
           "x": 0.05
          },
          "xaxis": {
           "automargin": true,
           "gridcolor": "white",
           "linecolor": "white",
           "ticks": "",
           "title": {
            "standoff": 15
           },
           "zerolinecolor": "white",
           "zerolinewidth": 2
          },
          "yaxis": {
           "automargin": true,
           "gridcolor": "white",
           "linecolor": "white",
           "ticks": "",
           "title": {
            "standoff": 15
           },
           "zerolinecolor": "white",
           "zerolinewidth": 2
          }
         }
        },
        "title": {
         "font": {
          "color": "#4D5663"
         },
         "text": "Number of category kinds in pneumonia alive"
        },
        "xaxis": {
         "gridcolor": "#E1E5ED",
         "showgrid": true,
         "tickfont": {
          "color": "#4D5663"
         },
         "title": {
          "font": {
           "color": "#4D5663"
          },
          "text": ""
         },
         "zerolinecolor": "#E1E5ED"
        },
        "yaxis": {
         "gridcolor": "#E1E5ED",
         "showgrid": true,
         "tickfont": {
          "color": "#4D5663"
         },
         "title": {
          "font": {
           "color": "#4D5663"
          },
          "text": "Number of notes"
         },
         "zerolinecolor": "#E1E5ED"
        }
       }
      },
      "text/html": [
       "<div>\n",
       "        \n",
       "        \n",
       "            <div id=\"ffffed92-f268-4124-ac4a-872758a51786\" class=\"plotly-graph-div\" style=\"height:525px; width:100%;\"></div>\n",
       "            <script type=\"text/javascript\">\n",
       "                require([\"plotly\"], function(Plotly) {\n",
       "                    window.PLOTLYENV=window.PLOTLYENV || {};\n",
       "                    window.PLOTLYENV.BASE_URL='https://plot.ly';\n",
       "                    \n",
       "                if (document.getElementById(\"ffffed92-f268-4124-ac4a-872758a51786\")) {\n",
       "                    Plotly.newPlot(\n",
       "                        'ffffed92-f268-4124-ac4a-872758a51786',\n",
       "                        [{\"marker\": {\"color\": \"rgba(255, 153, 51, 0.6)\", \"line\": {\"color\": \"rgba(255, 153, 51, 1.0)\", \"width\": 1}}, \"name\": \"CATEGORY\", \"orientation\": \"v\", \"text\": \"\", \"type\": \"bar\", \"x\": [\"Nursing\", \"Nursing/other\", \"Radiology\", \"Physician \", \"ECG\", \"Respiratory \", \"Echo\", \"Nutrition\", \"General\", \"Rehab Services\", \"Case Management \", \"Social Work\", \"Pharmacy\"], \"y\": [10574, 10043, 9448, 8431, 3623, 1831, 782, 489, 486, 207, 106, 100, 14]}],\n",
       "                        {\"legend\": {\"bgcolor\": \"#F5F6F9\", \"font\": {\"color\": \"#4D5663\"}}, \"paper_bgcolor\": \"#F5F6F9\", \"plot_bgcolor\": \"#F5F6F9\", \"template\": {\"data\": {\"bar\": [{\"error_x\": {\"color\": \"#2a3f5f\"}, \"error_y\": {\"color\": \"#2a3f5f\"}, \"marker\": {\"line\": {\"color\": \"#E5ECF6\", \"width\": 0.5}}, \"type\": \"bar\"}], \"barpolar\": [{\"marker\": {\"line\": {\"color\": \"#E5ECF6\", \"width\": 0.5}}, \"type\": \"barpolar\"}], \"carpet\": [{\"aaxis\": {\"endlinecolor\": \"#2a3f5f\", \"gridcolor\": \"white\", \"linecolor\": \"white\", \"minorgridcolor\": \"white\", \"startlinecolor\": \"#2a3f5f\"}, \"baxis\": {\"endlinecolor\": \"#2a3f5f\", \"gridcolor\": \"white\", \"linecolor\": \"white\", \"minorgridcolor\": \"white\", \"startlinecolor\": \"#2a3f5f\"}, \"type\": \"carpet\"}], \"choropleth\": [{\"colorbar\": {\"outlinewidth\": 0, \"ticks\": \"\"}, \"type\": \"choropleth\"}], \"contour\": [{\"colorbar\": {\"outlinewidth\": 0, \"ticks\": \"\"}, \"colorscale\": [[0.0, \"#0d0887\"], [0.1111111111111111, \"#46039f\"], [0.2222222222222222, \"#7201a8\"], [0.3333333333333333, \"#9c179e\"], [0.4444444444444444, \"#bd3786\"], [0.5555555555555556, \"#d8576b\"], [0.6666666666666666, \"#ed7953\"], [0.7777777777777778, \"#fb9f3a\"], [0.8888888888888888, \"#fdca26\"], [1.0, \"#f0f921\"]], \"type\": \"contour\"}], \"contourcarpet\": [{\"colorbar\": {\"outlinewidth\": 0, \"ticks\": \"\"}, \"type\": \"contourcarpet\"}], \"heatmap\": [{\"colorbar\": {\"outlinewidth\": 0, \"ticks\": \"\"}, \"colorscale\": [[0.0, \"#0d0887\"], [0.1111111111111111, \"#46039f\"], [0.2222222222222222, \"#7201a8\"], [0.3333333333333333, \"#9c179e\"], [0.4444444444444444, \"#bd3786\"], [0.5555555555555556, \"#d8576b\"], [0.6666666666666666, \"#ed7953\"], [0.7777777777777778, \"#fb9f3a\"], [0.8888888888888888, \"#fdca26\"], [1.0, \"#f0f921\"]], \"type\": \"heatmap\"}], \"heatmapgl\": [{\"colorbar\": {\"outlinewidth\": 0, \"ticks\": \"\"}, \"colorscale\": [[0.0, \"#0d0887\"], [0.1111111111111111, \"#46039f\"], [0.2222222222222222, \"#7201a8\"], [0.3333333333333333, \"#9c179e\"], [0.4444444444444444, \"#bd3786\"], [0.5555555555555556, \"#d8576b\"], [0.6666666666666666, \"#ed7953\"], [0.7777777777777778, \"#fb9f3a\"], [0.8888888888888888, \"#fdca26\"], [1.0, \"#f0f921\"]], \"type\": \"heatmapgl\"}], \"histogram\": [{\"marker\": {\"colorbar\": {\"outlinewidth\": 0, \"ticks\": \"\"}}, \"type\": \"histogram\"}], \"histogram2d\": [{\"colorbar\": {\"outlinewidth\": 0, \"ticks\": \"\"}, \"colorscale\": [[0.0, \"#0d0887\"], [0.1111111111111111, \"#46039f\"], [0.2222222222222222, \"#7201a8\"], [0.3333333333333333, \"#9c179e\"], [0.4444444444444444, \"#bd3786\"], [0.5555555555555556, \"#d8576b\"], [0.6666666666666666, \"#ed7953\"], [0.7777777777777778, \"#fb9f3a\"], [0.8888888888888888, \"#fdca26\"], [1.0, \"#f0f921\"]], \"type\": \"histogram2d\"}], \"histogram2dcontour\": [{\"colorbar\": {\"outlinewidth\": 0, \"ticks\": \"\"}, \"colorscale\": [[0.0, \"#0d0887\"], [0.1111111111111111, \"#46039f\"], [0.2222222222222222, \"#7201a8\"], [0.3333333333333333, \"#9c179e\"], [0.4444444444444444, \"#bd3786\"], [0.5555555555555556, \"#d8576b\"], [0.6666666666666666, \"#ed7953\"], [0.7777777777777778, \"#fb9f3a\"], [0.8888888888888888, \"#fdca26\"], [1.0, \"#f0f921\"]], \"type\": \"histogram2dcontour\"}], \"mesh3d\": [{\"colorbar\": {\"outlinewidth\": 0, \"ticks\": \"\"}, \"type\": \"mesh3d\"}], \"parcoords\": [{\"line\": {\"colorbar\": {\"outlinewidth\": 0, \"ticks\": \"\"}}, \"type\": \"parcoords\"}], \"pie\": [{\"automargin\": true, \"type\": \"pie\"}], \"scatter\": [{\"marker\": {\"colorbar\": {\"outlinewidth\": 0, \"ticks\": \"\"}}, \"type\": \"scatter\"}], \"scatter3d\": [{\"line\": {\"colorbar\": {\"outlinewidth\": 0, \"ticks\": \"\"}}, \"marker\": {\"colorbar\": {\"outlinewidth\": 0, \"ticks\": \"\"}}, \"type\": \"scatter3d\"}], \"scattercarpet\": [{\"marker\": {\"colorbar\": {\"outlinewidth\": 0, \"ticks\": \"\"}}, \"type\": \"scattercarpet\"}], \"scattergeo\": [{\"marker\": {\"colorbar\": {\"outlinewidth\": 0, \"ticks\": \"\"}}, \"type\": \"scattergeo\"}], \"scattergl\": [{\"marker\": {\"colorbar\": {\"outlinewidth\": 0, \"ticks\": \"\"}}, \"type\": \"scattergl\"}], \"scattermapbox\": [{\"marker\": {\"colorbar\": {\"outlinewidth\": 0, \"ticks\": \"\"}}, \"type\": \"scattermapbox\"}], \"scatterpolar\": [{\"marker\": {\"colorbar\": {\"outlinewidth\": 0, \"ticks\": \"\"}}, \"type\": \"scatterpolar\"}], \"scatterpolargl\": [{\"marker\": {\"colorbar\": {\"outlinewidth\": 0, \"ticks\": \"\"}}, \"type\": \"scatterpolargl\"}], \"scatterternary\": [{\"marker\": {\"colorbar\": {\"outlinewidth\": 0, \"ticks\": \"\"}}, \"type\": \"scatterternary\"}], \"surface\": [{\"colorbar\": {\"outlinewidth\": 0, \"ticks\": \"\"}, \"colorscale\": [[0.0, \"#0d0887\"], [0.1111111111111111, \"#46039f\"], [0.2222222222222222, \"#7201a8\"], [0.3333333333333333, \"#9c179e\"], [0.4444444444444444, \"#bd3786\"], [0.5555555555555556, \"#d8576b\"], [0.6666666666666666, \"#ed7953\"], [0.7777777777777778, \"#fb9f3a\"], [0.8888888888888888, \"#fdca26\"], [1.0, \"#f0f921\"]], \"type\": \"surface\"}], \"table\": [{\"cells\": {\"fill\": {\"color\": \"#EBF0F8\"}, \"line\": {\"color\": \"white\"}}, \"header\": {\"fill\": {\"color\": \"#C8D4E3\"}, \"line\": {\"color\": \"white\"}}, \"type\": \"table\"}]}, \"layout\": {\"annotationdefaults\": {\"arrowcolor\": \"#2a3f5f\", \"arrowhead\": 0, \"arrowwidth\": 1}, \"coloraxis\": {\"colorbar\": {\"outlinewidth\": 0, \"ticks\": \"\"}}, \"colorscale\": {\"diverging\": [[0, \"#8e0152\"], [0.1, \"#c51b7d\"], [0.2, \"#de77ae\"], [0.3, \"#f1b6da\"], [0.4, \"#fde0ef\"], [0.5, \"#f7f7f7\"], [0.6, \"#e6f5d0\"], [0.7, \"#b8e186\"], [0.8, \"#7fbc41\"], [0.9, \"#4d9221\"], [1, \"#276419\"]], \"sequential\": [[0.0, \"#0d0887\"], [0.1111111111111111, \"#46039f\"], [0.2222222222222222, \"#7201a8\"], [0.3333333333333333, \"#9c179e\"], [0.4444444444444444, \"#bd3786\"], [0.5555555555555556, \"#d8576b\"], [0.6666666666666666, \"#ed7953\"], [0.7777777777777778, \"#fb9f3a\"], [0.8888888888888888, \"#fdca26\"], [1.0, \"#f0f921\"]], \"sequentialminus\": [[0.0, \"#0d0887\"], [0.1111111111111111, \"#46039f\"], [0.2222222222222222, \"#7201a8\"], [0.3333333333333333, \"#9c179e\"], [0.4444444444444444, \"#bd3786\"], [0.5555555555555556, \"#d8576b\"], [0.6666666666666666, \"#ed7953\"], [0.7777777777777778, \"#fb9f3a\"], [0.8888888888888888, \"#fdca26\"], [1.0, \"#f0f921\"]]}, \"colorway\": [\"#636efa\", \"#EF553B\", \"#00cc96\", \"#ab63fa\", \"#FFA15A\", \"#19d3f3\", \"#FF6692\", \"#B6E880\", \"#FF97FF\", \"#FECB52\"], \"font\": {\"color\": \"#2a3f5f\"}, \"geo\": {\"bgcolor\": \"white\", \"lakecolor\": \"white\", \"landcolor\": \"#E5ECF6\", \"showlakes\": true, \"showland\": true, \"subunitcolor\": \"white\"}, \"hoverlabel\": {\"align\": \"left\"}, \"hovermode\": \"closest\", \"mapbox\": {\"style\": \"light\"}, \"paper_bgcolor\": \"white\", \"plot_bgcolor\": \"#E5ECF6\", \"polar\": {\"angularaxis\": {\"gridcolor\": \"white\", \"linecolor\": \"white\", \"ticks\": \"\"}, \"bgcolor\": \"#E5ECF6\", \"radialaxis\": {\"gridcolor\": \"white\", \"linecolor\": \"white\", \"ticks\": \"\"}}, \"scene\": {\"xaxis\": {\"backgroundcolor\": \"#E5ECF6\", \"gridcolor\": \"white\", \"gridwidth\": 2, \"linecolor\": \"white\", \"showbackground\": true, \"ticks\": \"\", \"zerolinecolor\": \"white\"}, \"yaxis\": {\"backgroundcolor\": \"#E5ECF6\", \"gridcolor\": \"white\", \"gridwidth\": 2, \"linecolor\": \"white\", \"showbackground\": true, \"ticks\": \"\", \"zerolinecolor\": \"white\"}, \"zaxis\": {\"backgroundcolor\": \"#E5ECF6\", \"gridcolor\": \"white\", \"gridwidth\": 2, \"linecolor\": \"white\", \"showbackground\": true, \"ticks\": \"\", \"zerolinecolor\": \"white\"}}, \"shapedefaults\": {\"line\": {\"color\": \"#2a3f5f\"}}, \"ternary\": {\"aaxis\": {\"gridcolor\": \"white\", \"linecolor\": \"white\", \"ticks\": \"\"}, \"baxis\": {\"gridcolor\": \"white\", \"linecolor\": \"white\", \"ticks\": \"\"}, \"bgcolor\": \"#E5ECF6\", \"caxis\": {\"gridcolor\": \"white\", \"linecolor\": \"white\", \"ticks\": \"\"}}, \"title\": {\"x\": 0.05}, \"xaxis\": {\"automargin\": true, \"gridcolor\": \"white\", \"linecolor\": \"white\", \"ticks\": \"\", \"title\": {\"standoff\": 15}, \"zerolinecolor\": \"white\", \"zerolinewidth\": 2}, \"yaxis\": {\"automargin\": true, \"gridcolor\": \"white\", \"linecolor\": \"white\", \"ticks\": \"\", \"title\": {\"standoff\": 15}, \"zerolinecolor\": \"white\", \"zerolinewidth\": 2}}}, \"title\": {\"font\": {\"color\": \"#4D5663\"}, \"text\": \"Number of category kinds in pneumonia alive\"}, \"xaxis\": {\"gridcolor\": \"#E1E5ED\", \"showgrid\": true, \"tickfont\": {\"color\": \"#4D5663\"}, \"title\": {\"font\": {\"color\": \"#4D5663\"}, \"text\": \"\"}, \"zerolinecolor\": \"#E1E5ED\"}, \"yaxis\": {\"gridcolor\": \"#E1E5ED\", \"showgrid\": true, \"tickfont\": {\"color\": \"#4D5663\"}, \"title\": {\"font\": {\"color\": \"#4D5663\"}, \"text\": \"Number of notes\"}, \"zerolinecolor\": \"#E1E5ED\"}},\n",
       "                        {\"showLink\": true, \"linkText\": \"Export to plot.ly\", \"plotlyServerURL\": \"https://plot.ly\", \"responsive\": true}\n",
       "                    ).then(function(){\n",
       "                            \n",
       "var gd = document.getElementById('ffffed92-f268-4124-ac4a-872758a51786');\n",
       "var x = new MutationObserver(function (mutations, observer) {{\n",
       "        var display = window.getComputedStyle(gd).display;\n",
       "        if (!display || display === 'none') {{\n",
       "            console.log([gd, 'removed!']);\n",
       "            Plotly.purge(gd);\n",
       "            observer.disconnect();\n",
       "        }}\n",
       "}});\n",
       "\n",
       "// Listen for the removal of the full notebook cells\n",
       "var notebookContainer = gd.closest('#notebook-container');\n",
       "if (notebookContainer) {{\n",
       "    x.observe(notebookContainer, {childList: true});\n",
       "}}\n",
       "\n",
       "// Listen for the clearing of the current output cell\n",
       "var outputEl = gd.closest('.output');\n",
       "if (outputEl) {{\n",
       "    x.observe(outputEl, {childList: true});\n",
       "}}\n",
       "\n",
       "                        })\n",
       "                };\n",
       "                });\n",
       "            </script>\n",
       "        </div>"
      ]
     },
     "metadata": {},
     "output_type": "display_data"
    }
   ],
   "source": [
    "pneumonia_alive_no_disch['CATEGORY'].value_counts().sort_values(ascending=False).iplot(kind='bar', yTitle='Number of notes', \n",
    "                                                                title='Number of category kinds in pneumonia alive')"
   ]
  },
  {
   "cell_type": "code",
   "execution_count": 24,
   "metadata": {
    "scrolled": false
   },
   "outputs": [
    {
     "data": {
      "application/vnd.plotly.v1+json": {
       "config": {
        "linkText": "Export to plot.ly",
        "plotlyServerURL": "https://plot.ly",
        "showLink": true
       },
       "data": [
        {
         "marker": {
          "color": "rgba(255, 153, 51, 0.6)",
          "line": {
           "color": "rgba(255, 153, 51, 1.0)",
           "width": 1
          }
         },
         "name": "CATEGORY",
         "orientation": "v",
         "text": "",
         "type": "bar",
         "x": [
          "Nursing",
          "Nursing/other",
          "Radiology",
          "Physician ",
          "ECG",
          "Respiratory ",
          "General",
          "Echo",
          "Nutrition",
          "Social Work",
          "Case Management ",
          "Rehab Services",
          "Pharmacy",
          "Consult"
         ],
         "y": [
          2682,
          2650,
          2275,
          2212,
          846,
          623,
          194,
          167,
          149,
          42,
          29,
          24,
          1,
          1
         ]
        }
       ],
       "layout": {
        "legend": {
         "bgcolor": "#F5F6F9",
         "font": {
          "color": "#4D5663"
         }
        },
        "paper_bgcolor": "#F5F6F9",
        "plot_bgcolor": "#F5F6F9",
        "template": {
         "data": {
          "bar": [
           {
            "error_x": {
             "color": "#2a3f5f"
            },
            "error_y": {
             "color": "#2a3f5f"
            },
            "marker": {
             "line": {
              "color": "#E5ECF6",
              "width": 0.5
             }
            },
            "type": "bar"
           }
          ],
          "barpolar": [
           {
            "marker": {
             "line": {
              "color": "#E5ECF6",
              "width": 0.5
             }
            },
            "type": "barpolar"
           }
          ],
          "carpet": [
           {
            "aaxis": {
             "endlinecolor": "#2a3f5f",
             "gridcolor": "white",
             "linecolor": "white",
             "minorgridcolor": "white",
             "startlinecolor": "#2a3f5f"
            },
            "baxis": {
             "endlinecolor": "#2a3f5f",
             "gridcolor": "white",
             "linecolor": "white",
             "minorgridcolor": "white",
             "startlinecolor": "#2a3f5f"
            },
            "type": "carpet"
           }
          ],
          "choropleth": [
           {
            "colorbar": {
             "outlinewidth": 0,
             "ticks": ""
            },
            "type": "choropleth"
           }
          ],
          "contour": [
           {
            "colorbar": {
             "outlinewidth": 0,
             "ticks": ""
            },
            "colorscale": [
             [
              0,
              "#0d0887"
             ],
             [
              0.1111111111111111,
              "#46039f"
             ],
             [
              0.2222222222222222,
              "#7201a8"
             ],
             [
              0.3333333333333333,
              "#9c179e"
             ],
             [
              0.4444444444444444,
              "#bd3786"
             ],
             [
              0.5555555555555556,
              "#d8576b"
             ],
             [
              0.6666666666666666,
              "#ed7953"
             ],
             [
              0.7777777777777778,
              "#fb9f3a"
             ],
             [
              0.8888888888888888,
              "#fdca26"
             ],
             [
              1,
              "#f0f921"
             ]
            ],
            "type": "contour"
           }
          ],
          "contourcarpet": [
           {
            "colorbar": {
             "outlinewidth": 0,
             "ticks": ""
            },
            "type": "contourcarpet"
           }
          ],
          "heatmap": [
           {
            "colorbar": {
             "outlinewidth": 0,
             "ticks": ""
            },
            "colorscale": [
             [
              0,
              "#0d0887"
             ],
             [
              0.1111111111111111,
              "#46039f"
             ],
             [
              0.2222222222222222,
              "#7201a8"
             ],
             [
              0.3333333333333333,
              "#9c179e"
             ],
             [
              0.4444444444444444,
              "#bd3786"
             ],
             [
              0.5555555555555556,
              "#d8576b"
             ],
             [
              0.6666666666666666,
              "#ed7953"
             ],
             [
              0.7777777777777778,
              "#fb9f3a"
             ],
             [
              0.8888888888888888,
              "#fdca26"
             ],
             [
              1,
              "#f0f921"
             ]
            ],
            "type": "heatmap"
           }
          ],
          "heatmapgl": [
           {
            "colorbar": {
             "outlinewidth": 0,
             "ticks": ""
            },
            "colorscale": [
             [
              0,
              "#0d0887"
             ],
             [
              0.1111111111111111,
              "#46039f"
             ],
             [
              0.2222222222222222,
              "#7201a8"
             ],
             [
              0.3333333333333333,
              "#9c179e"
             ],
             [
              0.4444444444444444,
              "#bd3786"
             ],
             [
              0.5555555555555556,
              "#d8576b"
             ],
             [
              0.6666666666666666,
              "#ed7953"
             ],
             [
              0.7777777777777778,
              "#fb9f3a"
             ],
             [
              0.8888888888888888,
              "#fdca26"
             ],
             [
              1,
              "#f0f921"
             ]
            ],
            "type": "heatmapgl"
           }
          ],
          "histogram": [
           {
            "marker": {
             "colorbar": {
              "outlinewidth": 0,
              "ticks": ""
             }
            },
            "type": "histogram"
           }
          ],
          "histogram2d": [
           {
            "colorbar": {
             "outlinewidth": 0,
             "ticks": ""
            },
            "colorscale": [
             [
              0,
              "#0d0887"
             ],
             [
              0.1111111111111111,
              "#46039f"
             ],
             [
              0.2222222222222222,
              "#7201a8"
             ],
             [
              0.3333333333333333,
              "#9c179e"
             ],
             [
              0.4444444444444444,
              "#bd3786"
             ],
             [
              0.5555555555555556,
              "#d8576b"
             ],
             [
              0.6666666666666666,
              "#ed7953"
             ],
             [
              0.7777777777777778,
              "#fb9f3a"
             ],
             [
              0.8888888888888888,
              "#fdca26"
             ],
             [
              1,
              "#f0f921"
             ]
            ],
            "type": "histogram2d"
           }
          ],
          "histogram2dcontour": [
           {
            "colorbar": {
             "outlinewidth": 0,
             "ticks": ""
            },
            "colorscale": [
             [
              0,
              "#0d0887"
             ],
             [
              0.1111111111111111,
              "#46039f"
             ],
             [
              0.2222222222222222,
              "#7201a8"
             ],
             [
              0.3333333333333333,
              "#9c179e"
             ],
             [
              0.4444444444444444,
              "#bd3786"
             ],
             [
              0.5555555555555556,
              "#d8576b"
             ],
             [
              0.6666666666666666,
              "#ed7953"
             ],
             [
              0.7777777777777778,
              "#fb9f3a"
             ],
             [
              0.8888888888888888,
              "#fdca26"
             ],
             [
              1,
              "#f0f921"
             ]
            ],
            "type": "histogram2dcontour"
           }
          ],
          "mesh3d": [
           {
            "colorbar": {
             "outlinewidth": 0,
             "ticks": ""
            },
            "type": "mesh3d"
           }
          ],
          "parcoords": [
           {
            "line": {
             "colorbar": {
              "outlinewidth": 0,
              "ticks": ""
             }
            },
            "type": "parcoords"
           }
          ],
          "pie": [
           {
            "automargin": true,
            "type": "pie"
           }
          ],
          "scatter": [
           {
            "marker": {
             "colorbar": {
              "outlinewidth": 0,
              "ticks": ""
             }
            },
            "type": "scatter"
           }
          ],
          "scatter3d": [
           {
            "line": {
             "colorbar": {
              "outlinewidth": 0,
              "ticks": ""
             }
            },
            "marker": {
             "colorbar": {
              "outlinewidth": 0,
              "ticks": ""
             }
            },
            "type": "scatter3d"
           }
          ],
          "scattercarpet": [
           {
            "marker": {
             "colorbar": {
              "outlinewidth": 0,
              "ticks": ""
             }
            },
            "type": "scattercarpet"
           }
          ],
          "scattergeo": [
           {
            "marker": {
             "colorbar": {
              "outlinewidth": 0,
              "ticks": ""
             }
            },
            "type": "scattergeo"
           }
          ],
          "scattergl": [
           {
            "marker": {
             "colorbar": {
              "outlinewidth": 0,
              "ticks": ""
             }
            },
            "type": "scattergl"
           }
          ],
          "scattermapbox": [
           {
            "marker": {
             "colorbar": {
              "outlinewidth": 0,
              "ticks": ""
             }
            },
            "type": "scattermapbox"
           }
          ],
          "scatterpolar": [
           {
            "marker": {
             "colorbar": {
              "outlinewidth": 0,
              "ticks": ""
             }
            },
            "type": "scatterpolar"
           }
          ],
          "scatterpolargl": [
           {
            "marker": {
             "colorbar": {
              "outlinewidth": 0,
              "ticks": ""
             }
            },
            "type": "scatterpolargl"
           }
          ],
          "scatterternary": [
           {
            "marker": {
             "colorbar": {
              "outlinewidth": 0,
              "ticks": ""
             }
            },
            "type": "scatterternary"
           }
          ],
          "surface": [
           {
            "colorbar": {
             "outlinewidth": 0,
             "ticks": ""
            },
            "colorscale": [
             [
              0,
              "#0d0887"
             ],
             [
              0.1111111111111111,
              "#46039f"
             ],
             [
              0.2222222222222222,
              "#7201a8"
             ],
             [
              0.3333333333333333,
              "#9c179e"
             ],
             [
              0.4444444444444444,
              "#bd3786"
             ],
             [
              0.5555555555555556,
              "#d8576b"
             ],
             [
              0.6666666666666666,
              "#ed7953"
             ],
             [
              0.7777777777777778,
              "#fb9f3a"
             ],
             [
              0.8888888888888888,
              "#fdca26"
             ],
             [
              1,
              "#f0f921"
             ]
            ],
            "type": "surface"
           }
          ],
          "table": [
           {
            "cells": {
             "fill": {
              "color": "#EBF0F8"
             },
             "line": {
              "color": "white"
             }
            },
            "header": {
             "fill": {
              "color": "#C8D4E3"
             },
             "line": {
              "color": "white"
             }
            },
            "type": "table"
           }
          ]
         },
         "layout": {
          "annotationdefaults": {
           "arrowcolor": "#2a3f5f",
           "arrowhead": 0,
           "arrowwidth": 1
          },
          "coloraxis": {
           "colorbar": {
            "outlinewidth": 0,
            "ticks": ""
           }
          },
          "colorscale": {
           "diverging": [
            [
             0,
             "#8e0152"
            ],
            [
             0.1,
             "#c51b7d"
            ],
            [
             0.2,
             "#de77ae"
            ],
            [
             0.3,
             "#f1b6da"
            ],
            [
             0.4,
             "#fde0ef"
            ],
            [
             0.5,
             "#f7f7f7"
            ],
            [
             0.6,
             "#e6f5d0"
            ],
            [
             0.7,
             "#b8e186"
            ],
            [
             0.8,
             "#7fbc41"
            ],
            [
             0.9,
             "#4d9221"
            ],
            [
             1,
             "#276419"
            ]
           ],
           "sequential": [
            [
             0,
             "#0d0887"
            ],
            [
             0.1111111111111111,
             "#46039f"
            ],
            [
             0.2222222222222222,
             "#7201a8"
            ],
            [
             0.3333333333333333,
             "#9c179e"
            ],
            [
             0.4444444444444444,
             "#bd3786"
            ],
            [
             0.5555555555555556,
             "#d8576b"
            ],
            [
             0.6666666666666666,
             "#ed7953"
            ],
            [
             0.7777777777777778,
             "#fb9f3a"
            ],
            [
             0.8888888888888888,
             "#fdca26"
            ],
            [
             1,
             "#f0f921"
            ]
           ],
           "sequentialminus": [
            [
             0,
             "#0d0887"
            ],
            [
             0.1111111111111111,
             "#46039f"
            ],
            [
             0.2222222222222222,
             "#7201a8"
            ],
            [
             0.3333333333333333,
             "#9c179e"
            ],
            [
             0.4444444444444444,
             "#bd3786"
            ],
            [
             0.5555555555555556,
             "#d8576b"
            ],
            [
             0.6666666666666666,
             "#ed7953"
            ],
            [
             0.7777777777777778,
             "#fb9f3a"
            ],
            [
             0.8888888888888888,
             "#fdca26"
            ],
            [
             1,
             "#f0f921"
            ]
           ]
          },
          "colorway": [
           "#636efa",
           "#EF553B",
           "#00cc96",
           "#ab63fa",
           "#FFA15A",
           "#19d3f3",
           "#FF6692",
           "#B6E880",
           "#FF97FF",
           "#FECB52"
          ],
          "font": {
           "color": "#2a3f5f"
          },
          "geo": {
           "bgcolor": "white",
           "lakecolor": "white",
           "landcolor": "#E5ECF6",
           "showlakes": true,
           "showland": true,
           "subunitcolor": "white"
          },
          "hoverlabel": {
           "align": "left"
          },
          "hovermode": "closest",
          "mapbox": {
           "style": "light"
          },
          "paper_bgcolor": "white",
          "plot_bgcolor": "#E5ECF6",
          "polar": {
           "angularaxis": {
            "gridcolor": "white",
            "linecolor": "white",
            "ticks": ""
           },
           "bgcolor": "#E5ECF6",
           "radialaxis": {
            "gridcolor": "white",
            "linecolor": "white",
            "ticks": ""
           }
          },
          "scene": {
           "xaxis": {
            "backgroundcolor": "#E5ECF6",
            "gridcolor": "white",
            "gridwidth": 2,
            "linecolor": "white",
            "showbackground": true,
            "ticks": "",
            "zerolinecolor": "white"
           },
           "yaxis": {
            "backgroundcolor": "#E5ECF6",
            "gridcolor": "white",
            "gridwidth": 2,
            "linecolor": "white",
            "showbackground": true,
            "ticks": "",
            "zerolinecolor": "white"
           },
           "zaxis": {
            "backgroundcolor": "#E5ECF6",
            "gridcolor": "white",
            "gridwidth": 2,
            "linecolor": "white",
            "showbackground": true,
            "ticks": "",
            "zerolinecolor": "white"
           }
          },
          "shapedefaults": {
           "line": {
            "color": "#2a3f5f"
           }
          },
          "ternary": {
           "aaxis": {
            "gridcolor": "white",
            "linecolor": "white",
            "ticks": ""
           },
           "baxis": {
            "gridcolor": "white",
            "linecolor": "white",
            "ticks": ""
           },
           "bgcolor": "#E5ECF6",
           "caxis": {
            "gridcolor": "white",
            "linecolor": "white",
            "ticks": ""
           }
          },
          "title": {
           "x": 0.05
          },
          "xaxis": {
           "automargin": true,
           "gridcolor": "white",
           "linecolor": "white",
           "ticks": "",
           "title": {
            "standoff": 15
           },
           "zerolinecolor": "white",
           "zerolinewidth": 2
          },
          "yaxis": {
           "automargin": true,
           "gridcolor": "white",
           "linecolor": "white",
           "ticks": "",
           "title": {
            "standoff": 15
           },
           "zerolinecolor": "white",
           "zerolinewidth": 2
          }
         }
        },
        "title": {
         "font": {
          "color": "#4D5663"
         },
         "text": "Number of category kinds in pneumonia alive"
        },
        "xaxis": {
         "gridcolor": "#E1E5ED",
         "showgrid": true,
         "tickfont": {
          "color": "#4D5663"
         },
         "title": {
          "font": {
           "color": "#4D5663"
          },
          "text": ""
         },
         "zerolinecolor": "#E1E5ED"
        },
        "yaxis": {
         "gridcolor": "#E1E5ED",
         "showgrid": true,
         "tickfont": {
          "color": "#4D5663"
         },
         "title": {
          "font": {
           "color": "#4D5663"
          },
          "text": "Number of notes"
         },
         "zerolinecolor": "#E1E5ED"
        }
       }
      },
      "text/html": [
       "<div>\n",
       "        \n",
       "        \n",
       "            <div id=\"6e61ad08-772b-438d-8bb0-448d990a1cb5\" class=\"plotly-graph-div\" style=\"height:525px; width:100%;\"></div>\n",
       "            <script type=\"text/javascript\">\n",
       "                require([\"plotly\"], function(Plotly) {\n",
       "                    window.PLOTLYENV=window.PLOTLYENV || {};\n",
       "                    window.PLOTLYENV.BASE_URL='https://plot.ly';\n",
       "                    \n",
       "                if (document.getElementById(\"6e61ad08-772b-438d-8bb0-448d990a1cb5\")) {\n",
       "                    Plotly.newPlot(\n",
       "                        '6e61ad08-772b-438d-8bb0-448d990a1cb5',\n",
       "                        [{\"marker\": {\"color\": \"rgba(255, 153, 51, 0.6)\", \"line\": {\"color\": \"rgba(255, 153, 51, 1.0)\", \"width\": 1}}, \"name\": \"CATEGORY\", \"orientation\": \"v\", \"text\": \"\", \"type\": \"bar\", \"x\": [\"Nursing\", \"Nursing/other\", \"Radiology\", \"Physician \", \"ECG\", \"Respiratory \", \"General\", \"Echo\", \"Nutrition\", \"Social Work\", \"Case Management \", \"Rehab Services\", \"Pharmacy\", \"Consult\"], \"y\": [2682, 2650, 2275, 2212, 846, 623, 194, 167, 149, 42, 29, 24, 1, 1]}],\n",
       "                        {\"legend\": {\"bgcolor\": \"#F5F6F9\", \"font\": {\"color\": \"#4D5663\"}}, \"paper_bgcolor\": \"#F5F6F9\", \"plot_bgcolor\": \"#F5F6F9\", \"template\": {\"data\": {\"bar\": [{\"error_x\": {\"color\": \"#2a3f5f\"}, \"error_y\": {\"color\": \"#2a3f5f\"}, \"marker\": {\"line\": {\"color\": \"#E5ECF6\", \"width\": 0.5}}, \"type\": \"bar\"}], \"barpolar\": [{\"marker\": {\"line\": {\"color\": \"#E5ECF6\", \"width\": 0.5}}, \"type\": \"barpolar\"}], \"carpet\": [{\"aaxis\": {\"endlinecolor\": \"#2a3f5f\", \"gridcolor\": \"white\", \"linecolor\": \"white\", \"minorgridcolor\": \"white\", \"startlinecolor\": \"#2a3f5f\"}, \"baxis\": {\"endlinecolor\": \"#2a3f5f\", \"gridcolor\": \"white\", \"linecolor\": \"white\", \"minorgridcolor\": \"white\", \"startlinecolor\": \"#2a3f5f\"}, \"type\": \"carpet\"}], \"choropleth\": [{\"colorbar\": {\"outlinewidth\": 0, \"ticks\": \"\"}, \"type\": \"choropleth\"}], \"contour\": [{\"colorbar\": {\"outlinewidth\": 0, \"ticks\": \"\"}, \"colorscale\": [[0.0, \"#0d0887\"], [0.1111111111111111, \"#46039f\"], [0.2222222222222222, \"#7201a8\"], [0.3333333333333333, \"#9c179e\"], [0.4444444444444444, \"#bd3786\"], [0.5555555555555556, \"#d8576b\"], [0.6666666666666666, \"#ed7953\"], [0.7777777777777778, \"#fb9f3a\"], [0.8888888888888888, \"#fdca26\"], [1.0, \"#f0f921\"]], \"type\": \"contour\"}], \"contourcarpet\": [{\"colorbar\": {\"outlinewidth\": 0, \"ticks\": \"\"}, \"type\": \"contourcarpet\"}], \"heatmap\": [{\"colorbar\": {\"outlinewidth\": 0, \"ticks\": \"\"}, \"colorscale\": [[0.0, \"#0d0887\"], [0.1111111111111111, \"#46039f\"], [0.2222222222222222, \"#7201a8\"], [0.3333333333333333, \"#9c179e\"], [0.4444444444444444, \"#bd3786\"], [0.5555555555555556, \"#d8576b\"], [0.6666666666666666, \"#ed7953\"], [0.7777777777777778, \"#fb9f3a\"], [0.8888888888888888, \"#fdca26\"], [1.0, \"#f0f921\"]], \"type\": \"heatmap\"}], \"heatmapgl\": [{\"colorbar\": {\"outlinewidth\": 0, \"ticks\": \"\"}, \"colorscale\": [[0.0, \"#0d0887\"], [0.1111111111111111, \"#46039f\"], [0.2222222222222222, \"#7201a8\"], [0.3333333333333333, \"#9c179e\"], [0.4444444444444444, \"#bd3786\"], [0.5555555555555556, \"#d8576b\"], [0.6666666666666666, \"#ed7953\"], [0.7777777777777778, \"#fb9f3a\"], [0.8888888888888888, \"#fdca26\"], [1.0, \"#f0f921\"]], \"type\": \"heatmapgl\"}], \"histogram\": [{\"marker\": {\"colorbar\": {\"outlinewidth\": 0, \"ticks\": \"\"}}, \"type\": \"histogram\"}], \"histogram2d\": [{\"colorbar\": {\"outlinewidth\": 0, \"ticks\": \"\"}, \"colorscale\": [[0.0, \"#0d0887\"], [0.1111111111111111, \"#46039f\"], [0.2222222222222222, \"#7201a8\"], [0.3333333333333333, \"#9c179e\"], [0.4444444444444444, \"#bd3786\"], [0.5555555555555556, \"#d8576b\"], [0.6666666666666666, \"#ed7953\"], [0.7777777777777778, \"#fb9f3a\"], [0.8888888888888888, \"#fdca26\"], [1.0, \"#f0f921\"]], \"type\": \"histogram2d\"}], \"histogram2dcontour\": [{\"colorbar\": {\"outlinewidth\": 0, \"ticks\": \"\"}, \"colorscale\": [[0.0, \"#0d0887\"], [0.1111111111111111, \"#46039f\"], [0.2222222222222222, \"#7201a8\"], [0.3333333333333333, \"#9c179e\"], [0.4444444444444444, \"#bd3786\"], [0.5555555555555556, \"#d8576b\"], [0.6666666666666666, \"#ed7953\"], [0.7777777777777778, \"#fb9f3a\"], [0.8888888888888888, \"#fdca26\"], [1.0, \"#f0f921\"]], \"type\": \"histogram2dcontour\"}], \"mesh3d\": [{\"colorbar\": {\"outlinewidth\": 0, \"ticks\": \"\"}, \"type\": \"mesh3d\"}], \"parcoords\": [{\"line\": {\"colorbar\": {\"outlinewidth\": 0, \"ticks\": \"\"}}, \"type\": \"parcoords\"}], \"pie\": [{\"automargin\": true, \"type\": \"pie\"}], \"scatter\": [{\"marker\": {\"colorbar\": {\"outlinewidth\": 0, \"ticks\": \"\"}}, \"type\": \"scatter\"}], \"scatter3d\": [{\"line\": {\"colorbar\": {\"outlinewidth\": 0, \"ticks\": \"\"}}, \"marker\": {\"colorbar\": {\"outlinewidth\": 0, \"ticks\": \"\"}}, \"type\": \"scatter3d\"}], \"scattercarpet\": [{\"marker\": {\"colorbar\": {\"outlinewidth\": 0, \"ticks\": \"\"}}, \"type\": \"scattercarpet\"}], \"scattergeo\": [{\"marker\": {\"colorbar\": {\"outlinewidth\": 0, \"ticks\": \"\"}}, \"type\": \"scattergeo\"}], \"scattergl\": [{\"marker\": {\"colorbar\": {\"outlinewidth\": 0, \"ticks\": \"\"}}, \"type\": \"scattergl\"}], \"scattermapbox\": [{\"marker\": {\"colorbar\": {\"outlinewidth\": 0, \"ticks\": \"\"}}, \"type\": \"scattermapbox\"}], \"scatterpolar\": [{\"marker\": {\"colorbar\": {\"outlinewidth\": 0, \"ticks\": \"\"}}, \"type\": \"scatterpolar\"}], \"scatterpolargl\": [{\"marker\": {\"colorbar\": {\"outlinewidth\": 0, \"ticks\": \"\"}}, \"type\": \"scatterpolargl\"}], \"scatterternary\": [{\"marker\": {\"colorbar\": {\"outlinewidth\": 0, \"ticks\": \"\"}}, \"type\": \"scatterternary\"}], \"surface\": [{\"colorbar\": {\"outlinewidth\": 0, \"ticks\": \"\"}, \"colorscale\": [[0.0, \"#0d0887\"], [0.1111111111111111, \"#46039f\"], [0.2222222222222222, \"#7201a8\"], [0.3333333333333333, \"#9c179e\"], [0.4444444444444444, \"#bd3786\"], [0.5555555555555556, \"#d8576b\"], [0.6666666666666666, \"#ed7953\"], [0.7777777777777778, \"#fb9f3a\"], [0.8888888888888888, \"#fdca26\"], [1.0, \"#f0f921\"]], \"type\": \"surface\"}], \"table\": [{\"cells\": {\"fill\": {\"color\": \"#EBF0F8\"}, \"line\": {\"color\": \"white\"}}, \"header\": {\"fill\": {\"color\": \"#C8D4E3\"}, \"line\": {\"color\": \"white\"}}, \"type\": \"table\"}]}, \"layout\": {\"annotationdefaults\": {\"arrowcolor\": \"#2a3f5f\", \"arrowhead\": 0, \"arrowwidth\": 1}, \"coloraxis\": {\"colorbar\": {\"outlinewidth\": 0, \"ticks\": \"\"}}, \"colorscale\": {\"diverging\": [[0, \"#8e0152\"], [0.1, \"#c51b7d\"], [0.2, \"#de77ae\"], [0.3, \"#f1b6da\"], [0.4, \"#fde0ef\"], [0.5, \"#f7f7f7\"], [0.6, \"#e6f5d0\"], [0.7, \"#b8e186\"], [0.8, \"#7fbc41\"], [0.9, \"#4d9221\"], [1, \"#276419\"]], \"sequential\": [[0.0, \"#0d0887\"], [0.1111111111111111, \"#46039f\"], [0.2222222222222222, \"#7201a8\"], [0.3333333333333333, \"#9c179e\"], [0.4444444444444444, \"#bd3786\"], [0.5555555555555556, \"#d8576b\"], [0.6666666666666666, \"#ed7953\"], [0.7777777777777778, \"#fb9f3a\"], [0.8888888888888888, \"#fdca26\"], [1.0, \"#f0f921\"]], \"sequentialminus\": [[0.0, \"#0d0887\"], [0.1111111111111111, \"#46039f\"], [0.2222222222222222, \"#7201a8\"], [0.3333333333333333, \"#9c179e\"], [0.4444444444444444, \"#bd3786\"], [0.5555555555555556, \"#d8576b\"], [0.6666666666666666, \"#ed7953\"], [0.7777777777777778, \"#fb9f3a\"], [0.8888888888888888, \"#fdca26\"], [1.0, \"#f0f921\"]]}, \"colorway\": [\"#636efa\", \"#EF553B\", \"#00cc96\", \"#ab63fa\", \"#FFA15A\", \"#19d3f3\", \"#FF6692\", \"#B6E880\", \"#FF97FF\", \"#FECB52\"], \"font\": {\"color\": \"#2a3f5f\"}, \"geo\": {\"bgcolor\": \"white\", \"lakecolor\": \"white\", \"landcolor\": \"#E5ECF6\", \"showlakes\": true, \"showland\": true, \"subunitcolor\": \"white\"}, \"hoverlabel\": {\"align\": \"left\"}, \"hovermode\": \"closest\", \"mapbox\": {\"style\": \"light\"}, \"paper_bgcolor\": \"white\", \"plot_bgcolor\": \"#E5ECF6\", \"polar\": {\"angularaxis\": {\"gridcolor\": \"white\", \"linecolor\": \"white\", \"ticks\": \"\"}, \"bgcolor\": \"#E5ECF6\", \"radialaxis\": {\"gridcolor\": \"white\", \"linecolor\": \"white\", \"ticks\": \"\"}}, \"scene\": {\"xaxis\": {\"backgroundcolor\": \"#E5ECF6\", \"gridcolor\": \"white\", \"gridwidth\": 2, \"linecolor\": \"white\", \"showbackground\": true, \"ticks\": \"\", \"zerolinecolor\": \"white\"}, \"yaxis\": {\"backgroundcolor\": \"#E5ECF6\", \"gridcolor\": \"white\", \"gridwidth\": 2, \"linecolor\": \"white\", \"showbackground\": true, \"ticks\": \"\", \"zerolinecolor\": \"white\"}, \"zaxis\": {\"backgroundcolor\": \"#E5ECF6\", \"gridcolor\": \"white\", \"gridwidth\": 2, \"linecolor\": \"white\", \"showbackground\": true, \"ticks\": \"\", \"zerolinecolor\": \"white\"}}, \"shapedefaults\": {\"line\": {\"color\": \"#2a3f5f\"}}, \"ternary\": {\"aaxis\": {\"gridcolor\": \"white\", \"linecolor\": \"white\", \"ticks\": \"\"}, \"baxis\": {\"gridcolor\": \"white\", \"linecolor\": \"white\", \"ticks\": \"\"}, \"bgcolor\": \"#E5ECF6\", \"caxis\": {\"gridcolor\": \"white\", \"linecolor\": \"white\", \"ticks\": \"\"}}, \"title\": {\"x\": 0.05}, \"xaxis\": {\"automargin\": true, \"gridcolor\": \"white\", \"linecolor\": \"white\", \"ticks\": \"\", \"title\": {\"standoff\": 15}, \"zerolinecolor\": \"white\", \"zerolinewidth\": 2}, \"yaxis\": {\"automargin\": true, \"gridcolor\": \"white\", \"linecolor\": \"white\", \"ticks\": \"\", \"title\": {\"standoff\": 15}, \"zerolinecolor\": \"white\", \"zerolinewidth\": 2}}}, \"title\": {\"font\": {\"color\": \"#4D5663\"}, \"text\": \"Number of category kinds in pneumonia alive\"}, \"xaxis\": {\"gridcolor\": \"#E1E5ED\", \"showgrid\": true, \"tickfont\": {\"color\": \"#4D5663\"}, \"title\": {\"font\": {\"color\": \"#4D5663\"}, \"text\": \"\"}, \"zerolinecolor\": \"#E1E5ED\"}, \"yaxis\": {\"gridcolor\": \"#E1E5ED\", \"showgrid\": true, \"tickfont\": {\"color\": \"#4D5663\"}, \"title\": {\"font\": {\"color\": \"#4D5663\"}, \"text\": \"Number of notes\"}, \"zerolinecolor\": \"#E1E5ED\"}},\n",
       "                        {\"showLink\": true, \"linkText\": \"Export to plot.ly\", \"plotlyServerURL\": \"https://plot.ly\", \"responsive\": true}\n",
       "                    ).then(function(){\n",
       "                            \n",
       "var gd = document.getElementById('6e61ad08-772b-438d-8bb0-448d990a1cb5');\n",
       "var x = new MutationObserver(function (mutations, observer) {{\n",
       "        var display = window.getComputedStyle(gd).display;\n",
       "        if (!display || display === 'none') {{\n",
       "            console.log([gd, 'removed!']);\n",
       "            Plotly.purge(gd);\n",
       "            observer.disconnect();\n",
       "        }}\n",
       "}});\n",
       "\n",
       "// Listen for the removal of the full notebook cells\n",
       "var notebookContainer = gd.closest('#notebook-container');\n",
       "if (notebookContainer) {{\n",
       "    x.observe(notebookContainer, {childList: true});\n",
       "}}\n",
       "\n",
       "// Listen for the clearing of the current output cell\n",
       "var outputEl = gd.closest('.output');\n",
       "if (outputEl) {{\n",
       "    x.observe(outputEl, {childList: true});\n",
       "}}\n",
       "\n",
       "                        })\n",
       "                };\n",
       "                });\n",
       "            </script>\n",
       "        </div>"
      ]
     },
     "metadata": {},
     "output_type": "display_data"
    }
   ],
   "source": [
    "pneumonia_dead_no_disch['CATEGORY'].value_counts().sort_values(ascending=False).iplot(kind='bar', yTitle='Number of notes', \n",
    "                                                                title='Number of category kinds in pneumonia alive')"
   ]
  },
  {
   "cell_type": "code",
   "execution_count": 25,
   "metadata": {},
   "outputs": [
    {
     "data": {
      "text/html": [
       "<div>\n",
       "<style scoped>\n",
       "    .dataframe tbody tr th:only-of-type {\n",
       "        vertical-align: middle;\n",
       "    }\n",
       "\n",
       "    .dataframe tbody tr th {\n",
       "        vertical-align: top;\n",
       "    }\n",
       "\n",
       "    .dataframe thead th {\n",
       "        text-align: right;\n",
       "    }\n",
       "</style>\n",
       "<table border=\"1\" class=\"dataframe\">\n",
       "  <thead>\n",
       "    <tr style=\"text-align: right;\">\n",
       "      <th></th>\n",
       "      <th>ROW_ID_x</th>\n",
       "      <th>SUBJECT_ID_x</th>\n",
       "      <th>CHARTDATE</th>\n",
       "      <th>STORETIME</th>\n",
       "      <th>CATEGORY</th>\n",
       "      <th>DESCRIPTION</th>\n",
       "      <th>TEXT</th>\n",
       "      <th>DEATHTIME</th>\n",
       "    </tr>\n",
       "  </thead>\n",
       "  <tbody>\n",
       "    <tr>\n",
       "      <th>137480</th>\n",
       "      <td>149869</td>\n",
       "      <td>68</td>\n",
       "      <td>2173-12-15</td>\n",
       "      <td>NaN</td>\n",
       "      <td>ECG</td>\n",
       "      <td>Report</td>\n",
       "      <td>Sinus tachycardia. Compared to the previous tr...</td>\n",
       "      <td>NaN</td>\n",
       "    </tr>\n",
       "    <tr>\n",
       "      <th>137481</th>\n",
       "      <td>149870</td>\n",
       "      <td>68</td>\n",
       "      <td>2173-12-15</td>\n",
       "      <td>NaN</td>\n",
       "      <td>ECG</td>\n",
       "      <td>Report</td>\n",
       "      <td>Sinus rhythm. Delayed anterior precordial R wa...</td>\n",
       "      <td>NaN</td>\n",
       "    </tr>\n",
       "    <tr>\n",
       "      <th>1259578</th>\n",
       "      <td>1261173</td>\n",
       "      <td>68</td>\n",
       "      <td>2173-12-16</td>\n",
       "      <td>2173-12-16 05:09:00</td>\n",
       "      <td>Nursing/other</td>\n",
       "      <td>Report</td>\n",
       "      <td>Micu nsg admission note\\n41yo female with AIDS...</td>\n",
       "      <td>NaN</td>\n",
       "    </tr>\n",
       "    <tr>\n",
       "      <th>1259579</th>\n",
       "      <td>1261174</td>\n",
       "      <td>68</td>\n",
       "      <td>2173-12-16</td>\n",
       "      <td>2173-12-16 17:08:00</td>\n",
       "      <td>Nursing/other</td>\n",
       "      <td>Report</td>\n",
       "      <td>NSG 0700-1900\\nEvents: Attempted eating breakf...</td>\n",
       "      <td>NaN</td>\n",
       "    </tr>\n",
       "    <tr>\n",
       "      <th>1258821</th>\n",
       "      <td>1261175</td>\n",
       "      <td>68</td>\n",
       "      <td>2173-12-16</td>\n",
       "      <td>2173-12-16 17:18:00</td>\n",
       "      <td>Nursing/other</td>\n",
       "      <td>Report</td>\n",
       "      <td>Resp Care\\n\\nSputum induction obtained for PCP...</td>\n",
       "      <td>NaN</td>\n",
       "    </tr>\n",
       "    <tr>\n",
       "      <th>...</th>\n",
       "      <td>...</td>\n",
       "      <td>...</td>\n",
       "      <td>...</td>\n",
       "      <td>...</td>\n",
       "      <td>...</td>\n",
       "      <td>...</td>\n",
       "      <td>...</td>\n",
       "      <td>...</td>\n",
       "    </tr>\n",
       "    <tr>\n",
       "      <th>1129253</th>\n",
       "      <td>1138542</td>\n",
       "      <td>99937</td>\n",
       "      <td>2128-05-11</td>\n",
       "      <td>NaN</td>\n",
       "      <td>Radiology</td>\n",
       "      <td>CHEST (PORTABLE AP)</td>\n",
       "      <td>[**2128-5-11**] 11:57 AM\\n CHEST (PORTABLE AP)...</td>\n",
       "      <td>NaN</td>\n",
       "    </tr>\n",
       "    <tr>\n",
       "      <th>1129150</th>\n",
       "      <td>1138569</td>\n",
       "      <td>99937</td>\n",
       "      <td>2128-05-11</td>\n",
       "      <td>NaN</td>\n",
       "      <td>Radiology</td>\n",
       "      <td>CTA CHEST W&amp;W/O C&amp;RECONS, NON-CORONARY</td>\n",
       "      <td>[**2128-5-11**] 1:44 PM\\n CTA CHEST W&amp;W/O C&amp;RE...</td>\n",
       "      <td>NaN</td>\n",
       "    </tr>\n",
       "    <tr>\n",
       "      <th>148040</th>\n",
       "      <td>130595</td>\n",
       "      <td>99937</td>\n",
       "      <td>2128-05-12</td>\n",
       "      <td>NaN</td>\n",
       "      <td>ECG</td>\n",
       "      <td>Report</td>\n",
       "      <td>Normal sinus rhythm. Compared to tracing #1 no...</td>\n",
       "      <td>NaN</td>\n",
       "    </tr>\n",
       "    <tr>\n",
       "      <th>1129514</th>\n",
       "      <td>1138666</td>\n",
       "      <td>99937</td>\n",
       "      <td>2128-05-12</td>\n",
       "      <td>NaN</td>\n",
       "      <td>Radiology</td>\n",
       "      <td>CHEST (PORTABLE AP)</td>\n",
       "      <td>[**2128-5-12**] 7:27 AM\\n CHEST (PORTABLE AP) ...</td>\n",
       "      <td>NaN</td>\n",
       "    </tr>\n",
       "    <tr>\n",
       "      <th>65449</th>\n",
       "      <td>65037</td>\n",
       "      <td>99937</td>\n",
       "      <td>2128-05-13</td>\n",
       "      <td>NaN</td>\n",
       "      <td>Echo</td>\n",
       "      <td>Report</td>\n",
       "      <td>PATIENT/TEST INFORMATION:\\nIndication: Left ve...</td>\n",
       "      <td>NaN</td>\n",
       "    </tr>\n",
       "  </tbody>\n",
       "</table>\n",
       "<p>46134 rows × 8 columns</p>\n",
       "</div>"
      ],
      "text/plain": [
       "         ROW_ID_x  SUBJECT_ID_x   CHARTDATE            STORETIME  \\\n",
       "137480     149869            68  2173-12-15                  NaN   \n",
       "137481     149870            68  2173-12-15                  NaN   \n",
       "1259578   1261173            68  2173-12-16  2173-12-16 05:09:00   \n",
       "1259579   1261174            68  2173-12-16  2173-12-16 17:08:00   \n",
       "1258821   1261175            68  2173-12-16  2173-12-16 17:18:00   \n",
       "...           ...           ...         ...                  ...   \n",
       "1129253   1138542         99937  2128-05-11                  NaN   \n",
       "1129150   1138569         99937  2128-05-11                  NaN   \n",
       "148040     130595         99937  2128-05-12                  NaN   \n",
       "1129514   1138666         99937  2128-05-12                  NaN   \n",
       "65449       65037         99937  2128-05-13                  NaN   \n",
       "\n",
       "              CATEGORY                             DESCRIPTION  \\\n",
       "137480             ECG                                  Report   \n",
       "137481             ECG                                  Report   \n",
       "1259578  Nursing/other                                  Report   \n",
       "1259579  Nursing/other                                  Report   \n",
       "1258821  Nursing/other                                  Report   \n",
       "...                ...                                     ...   \n",
       "1129253      Radiology                     CHEST (PORTABLE AP)   \n",
       "1129150      Radiology  CTA CHEST W&W/O C&RECONS, NON-CORONARY   \n",
       "148040             ECG                                  Report   \n",
       "1129514      Radiology                     CHEST (PORTABLE AP)   \n",
       "65449             Echo                                  Report   \n",
       "\n",
       "                                                      TEXT DEATHTIME  \n",
       "137480   Sinus tachycardia. Compared to the previous tr...       NaN  \n",
       "137481   Sinus rhythm. Delayed anterior precordial R wa...       NaN  \n",
       "1259578  Micu nsg admission note\\n41yo female with AIDS...       NaN  \n",
       "1259579  NSG 0700-1900\\nEvents: Attempted eating breakf...       NaN  \n",
       "1258821  Resp Care\\n\\nSputum induction obtained for PCP...       NaN  \n",
       "...                                                    ...       ...  \n",
       "1129253  [**2128-5-11**] 11:57 AM\\n CHEST (PORTABLE AP)...       NaN  \n",
       "1129150  [**2128-5-11**] 1:44 PM\\n CTA CHEST W&W/O C&RE...       NaN  \n",
       "148040   Normal sinus rhythm. Compared to tracing #1 no...       NaN  \n",
       "1129514  [**2128-5-12**] 7:27 AM\\n CHEST (PORTABLE AP) ...       NaN  \n",
       "65449    PATIENT/TEST INFORMATION:\\nIndication: Left ve...       NaN  \n",
       "\n",
       "[46134 rows x 8 columns]"
      ]
     },
     "execution_count": 25,
     "metadata": {},
     "output_type": "execute_result"
    }
   ],
   "source": [
    "pneumonia_alive_no_disch"
   ]
  },
  {
   "cell_type": "code",
   "execution_count": 26,
   "metadata": {},
   "outputs": [
    {
     "data": {
      "text/plain": [
       "252"
      ]
     },
     "execution_count": 26,
     "metadata": {},
     "output_type": "execute_result"
    }
   ],
   "source": [
    "# Number of patients\n",
    "pneumonia_dead_no_disch['SUBJECT_ID_x'].nunique()"
   ]
  },
  {
   "cell_type": "code",
   "execution_count": 27,
   "metadata": {
    "scrolled": true
   },
   "outputs": [
    {
     "data": {
      "text/plain": [
       "1167"
      ]
     },
     "execution_count": 27,
     "metadata": {},
     "output_type": "execute_result"
    }
   ],
   "source": [
    "# Number of patients\n",
    "pneumonia_alive_no_disch['SUBJECT_ID_x'].nunique()"
   ]
  },
  {
   "cell_type": "code",
   "execution_count": 28,
   "metadata": {},
   "outputs": [],
   "source": [
    "# import text handling tool\n",
    "from nltk.tokenize import word_tokenize\n",
    "from nltk.corpus import stopwords\n",
    "from nltk.stem import PorterStemmer\n",
    "\n",
    "from collections import Counter\n",
    "\n",
    "import sys\n",
    "import re\n",
    "import csv\n",
    "import os.path\n",
    "\n",
    "# define constants\n",
    "# RESULT_HEADER = \"WORD, FREQUENCY\\n\"\n",
    "MIN_SEQ_LEN = 4\n",
    "USE_1_N_SEQ = 2\n",
    "\n",
    "\n",
    "# words that do not have meaning (can be modified later)\n",
    "USELESS_WORDS = [\"a\", \"the\", \"he\", \"she\", \",\", \".\", \"?\", \"!\", \":\", \";\", \"+\", \"*\", \"**\"\\\n",
    "                 \"your\", \"you\"]\n",
    "\n",
    "# count up the frequency of every word in every disease file\n",
    "stemmer = PorterStemmer()\n",
    "# create set of words to ignore in text\n",
    "stop_words = set(stopwords.words('english'))\n",
    "\n",
    "for word in USELESS_WORDS:\n",
    "    stop_words.add(word)"
   ]
  },
  {
   "cell_type": "code",
   "execution_count": null,
   "metadata": {},
   "outputs": [],
   "source": []
  },
  {
   "cell_type": "code",
   "execution_count": 29,
   "metadata": {},
   "outputs": [
    {
     "name": "stderr",
     "output_type": "stream",
     "text": [
      "100%|██████████| 11895/11895 [00:01<00:00, 8748.88it/s]\n",
      "100%|██████████| 46134/46134 [00:05<00:00, 8302.06it/s]\n"
     ]
    }
   ],
   "source": [
    "\n",
    "#----------\n",
    "def count_notes_per_patient(disease_df):\n",
    "    patient_id_to_num_notes = {}\n",
    "    patient_id = -1\n",
    "    note_counter = 0\n",
    "            \n",
    "    for index, row in tqdm(disease_df.iterrows(), total=disease_df.shape[0]):\n",
    "        patient_id_check = int(row['SUBJECT_ID_x'])\n",
    "                \n",
    "        if not patient_id == patient_id_check:\n",
    "            patient_id_to_num_notes[patient_id] = note_counter\n",
    "            note_counter = 1\n",
    "        else:\n",
    "            note_counter += 1\n",
    "                    \n",
    "        patient_id = patient_id_check\n",
    "                \n",
    "    patient_id_to_num_notes[patient_id] = note_counter\n",
    "    del patient_id_to_num_notes[-1]\n",
    "    return patient_id_to_num_notes\n",
    "\n",
    "patient_id_to_num_notes = {}\n",
    "patient_id_to_num_notes['pneumonia_dead'] = count_notes_per_patient(pneumonia_dead_no_disch)\n",
    "patient_id_to_num_notes['pneumonia_alive'] = count_notes_per_patient(pneumonia_alive_no_disch)"
   ]
  },
  {
   "cell_type": "code",
   "execution_count": 30,
   "metadata": {},
   "outputs": [
    {
     "data": {
      "text/plain": [
       "{'pneumonia_dead': {111: 12,\n",
       "  346: 25,\n",
       "  404: 3,\n",
       "  546: 6,\n",
       "  618: 16,\n",
       "  705: 15,\n",
       "  726: 48,\n",
       "  1039: 55,\n",
       "  1556: 37,\n",
       "  1872: 3,\n",
       "  1944: 56,\n",
       "  2286: 69,\n",
       "  2990: 166,\n",
       "  3055: 29,\n",
       "  3099: 13,\n",
       "  3201: 8,\n",
       "  3526: 7,\n",
       "  3773: 6,\n",
       "  3881: 20,\n",
       "  4122: 51,\n",
       "  4754: 101,\n",
       "  4811: 21,\n",
       "  5476: 1,\n",
       "  5494: 22,\n",
       "  5774: 104,\n",
       "  5786: 152,\n",
       "  5913: 1,\n",
       "  6133: 68,\n",
       "  6735: 13,\n",
       "  6745: 13,\n",
       "  6973: 36,\n",
       "  6981: 8,\n",
       "  7277: 66,\n",
       "  7310: 8,\n",
       "  7924: 9,\n",
       "  7977: 9,\n",
       "  9908: 11,\n",
       "  9984: 15,\n",
       "  10302: 100,\n",
       "  10510: 86,\n",
       "  10545: 10,\n",
       "  10642: 10,\n",
       "  11049: 14,\n",
       "  11209: 9,\n",
       "  11395: 41,\n",
       "  12530: 24,\n",
       "  12849: 50,\n",
       "  13098: 46,\n",
       "  13566: 23,\n",
       "  14125: 9,\n",
       "  14514: 96,\n",
       "  14965: 25,\n",
       "  15159: 15,\n",
       "  15251: 11,\n",
       "  15396: 17,\n",
       "  15566: 37,\n",
       "  15853: 45,\n",
       "  16275: 17,\n",
       "  16344: 27,\n",
       "  16622: 51,\n",
       "  16684: 29,\n",
       "  17122: 16,\n",
       "  17354: 5,\n",
       "  17802: 64,\n",
       "  17983: 65,\n",
       "  18094: 23,\n",
       "  18736: 35,\n",
       "  18768: 46,\n",
       "  18848: 205,\n",
       "  18971: 26,\n",
       "  19243: 25,\n",
       "  19323: 6,\n",
       "  19390: 21,\n",
       "  19463: 20,\n",
       "  19535: 59,\n",
       "  19754: 13,\n",
       "  19827: 22,\n",
       "  19833: 58,\n",
       "  19872: 10,\n",
       "  20006: 8,\n",
       "  20023: 9,\n",
       "  20190: 6,\n",
       "  21046: 101,\n",
       "  21094: 36,\n",
       "  21427: 10,\n",
       "  21502: 102,\n",
       "  21580: 52,\n",
       "  21676: 12,\n",
       "  21699: 7,\n",
       "  21979: 11,\n",
       "  22735: 15,\n",
       "  23660: 12,\n",
       "  23795: 78,\n",
       "  24181: 13,\n",
       "  24582: 37,\n",
       "  24725: 57,\n",
       "  24730: 19,\n",
       "  24854: 25,\n",
       "  25003: 182,\n",
       "  25046: 7,\n",
       "  25774: 61,\n",
       "  25975: 9,\n",
       "  26474: 89,\n",
       "  26578: 15,\n",
       "  26716: 41,\n",
       "  26774: 3,\n",
       "  26849: 33,\n",
       "  27005: 5,\n",
       "  27145: 24,\n",
       "  27421: 61,\n",
       "  27431: 5,\n",
       "  27496: 7,\n",
       "  27504: 72,\n",
       "  27639: 221,\n",
       "  28004: 13,\n",
       "  28072: 34,\n",
       "  28178: 202,\n",
       "  28427: 6,\n",
       "  28498: 25,\n",
       "  28726: 34,\n",
       "  28750: 19,\n",
       "  28906: 32,\n",
       "  28907: 13,\n",
       "  28933: 394,\n",
       "  29105: 468,\n",
       "  29588: 72,\n",
       "  29647: 26,\n",
       "  29872: 225,\n",
       "  30476: 174,\n",
       "  30549: 12,\n",
       "  30614: 8,\n",
       "  30699: 14,\n",
       "  30786: 9,\n",
       "  30941: 110,\n",
       "  31030: 168,\n",
       "  31134: 24,\n",
       "  31139: 9,\n",
       "  31451: 48,\n",
       "  31556: 57,\n",
       "  31690: 18,\n",
       "  31692: 35,\n",
       "  32050: 34,\n",
       "  32326: 24,\n",
       "  32618: 42,\n",
       "  41546: 25,\n",
       "  43937: 6,\n",
       "  44851: 274,\n",
       "  45381: 16,\n",
       "  46589: 26,\n",
       "  46763: 6,\n",
       "  47045: 9,\n",
       "  48632: 147,\n",
       "  49079: 20,\n",
       "  49683: 3,\n",
       "  49922: 13,\n",
       "  50093: 8,\n",
       "  50231: 3,\n",
       "  50556: 216,\n",
       "  50859: 537,\n",
       "  51914: 313,\n",
       "  52010: 12,\n",
       "  53105: 115,\n",
       "  53399: 78,\n",
       "  54193: 85,\n",
       "  54401: 14,\n",
       "  54408: 2,\n",
       "  54739: 75,\n",
       "  54946: 7,\n",
       "  55400: 5,\n",
       "  55570: 14,\n",
       "  55887: 37,\n",
       "  55944: 34,\n",
       "  55987: 20,\n",
       "  56390: 19,\n",
       "  56648: 8,\n",
       "  56854: 170,\n",
       "  57091: 88,\n",
       "  57102: 35,\n",
       "  58702: 479,\n",
       "  59260: 11,\n",
       "  59437: 26,\n",
       "  60849: 2,\n",
       "  60868: 6,\n",
       "  61652: 7,\n",
       "  61667: 30,\n",
       "  63039: 8,\n",
       "  65513: 8,\n",
       "  68044: 40,\n",
       "  68095: 23,\n",
       "  68184: 5,\n",
       "  68308: 8,\n",
       "  68860: 14,\n",
       "  69719: 13,\n",
       "  69745: 25,\n",
       "  69776: 17,\n",
       "  70226: 8,\n",
       "  70447: 9,\n",
       "  72930: 11,\n",
       "  73811: 9,\n",
       "  73888: 109,\n",
       "  74316: 2,\n",
       "  74444: 81,\n",
       "  74686: 75,\n",
       "  75824: 10,\n",
       "  76282: 21,\n",
       "  76827: 2,\n",
       "  77382: 10,\n",
       "  78241: 3,\n",
       "  78388: 14,\n",
       "  79008: 27,\n",
       "  79055: 21,\n",
       "  79222: 18,\n",
       "  79877: 156,\n",
       "  80637: 148,\n",
       "  80678: 9,\n",
       "  80737: 46,\n",
       "  80805: 79,\n",
       "  81437: 27,\n",
       "  82393: 5,\n",
       "  82769: 85,\n",
       "  83932: 2,\n",
       "  84474: 34,\n",
       "  85160: 8,\n",
       "  85258: 52,\n",
       "  85404: 11,\n",
       "  85797: 9,\n",
       "  86007: 35,\n",
       "  86394: 4,\n",
       "  86684: 11,\n",
       "  86832: 67,\n",
       "  86863: 8,\n",
       "  86872: 326,\n",
       "  88193: 16,\n",
       "  88660: 11,\n",
       "  90256: 18,\n",
       "  91350: 19,\n",
       "  92074: 28,\n",
       "  92278: 52,\n",
       "  92331: 42,\n",
       "  93422: 7,\n",
       "  94341: 2,\n",
       "  94997: 9,\n",
       "  95280: 23,\n",
       "  95803: 18,\n",
       "  95830: 33,\n",
       "  95933: 56,\n",
       "  96699: 85,\n",
       "  97181: 30,\n",
       "  97795: 60,\n",
       "  98009: 33,\n",
       "  98299: 29,\n",
       "  98597: 2},\n",
       " 'pneumonia_alive': {68: 18,\n",
       "  85: 8,\n",
       "  94: 100,\n",
       "  165: 2,\n",
       "  211: 24,\n",
       "  224: 8,\n",
       "  231: 75,\n",
       "  283: 131,\n",
       "  357: 17,\n",
       "  368: 45,\n",
       "  370: 13,\n",
       "  384: 26,\n",
       "  426: 10,\n",
       "  509: 34,\n",
       "  514: 7,\n",
       "  596: 23,\n",
       "  674: 16,\n",
       "  707: 29,\n",
       "  711: 537,\n",
       "  770: 83,\n",
       "  773: 74,\n",
       "  899: 17,\n",
       "  1096: 17,\n",
       "  1135: 32,\n",
       "  1163: 12,\n",
       "  1174: 42,\n",
       "  1180: 5,\n",
       "  1283: 3,\n",
       "  1332: 66,\n",
       "  1339: 134,\n",
       "  1546: 21,\n",
       "  1568: 22,\n",
       "  1601: 12,\n",
       "  1606: 13,\n",
       "  1642: 4,\n",
       "  1660: 23,\n",
       "  1895: 22,\n",
       "  1923: 23,\n",
       "  2029: 175,\n",
       "  2090: 179,\n",
       "  2098: 26,\n",
       "  2128: 31,\n",
       "  2170: 9,\n",
       "  2187: 30,\n",
       "  2208: 139,\n",
       "  2337: 8,\n",
       "  2378: 57,\n",
       "  2386: 18,\n",
       "  2452: 22,\n",
       "  2508: 22,\n",
       "  2561: 126,\n",
       "  2585: 9,\n",
       "  2589: 92,\n",
       "  2590: 5,\n",
       "  2628: 218,\n",
       "  2658: 16,\n",
       "  2732: 12,\n",
       "  2784: 23,\n",
       "  2823: 21,\n",
       "  3070: 8,\n",
       "  3100: 70,\n",
       "  3154: 22,\n",
       "  3220: 28,\n",
       "  3277: 35,\n",
       "  3347: 15,\n",
       "  3359: 15,\n",
       "  3516: 11,\n",
       "  3602: 18,\n",
       "  3623: 116,\n",
       "  3641: 57,\n",
       "  3676: 49,\n",
       "  3830: 80,\n",
       "  3860: 203,\n",
       "  3862: 22,\n",
       "  3865: 8,\n",
       "  3895: 6,\n",
       "  3935: 44,\n",
       "  3952: 20,\n",
       "  3975: 34,\n",
       "  4109: 9,\n",
       "  4155: 23,\n",
       "  4236: 14,\n",
       "  4275: 45,\n",
       "  4316: 13,\n",
       "  4317: 106,\n",
       "  4328: 23,\n",
       "  4388: 14,\n",
       "  4454: 5,\n",
       "  4467: 12,\n",
       "  4489: 21,\n",
       "  4494: 18,\n",
       "  4584: 39,\n",
       "  4588: 80,\n",
       "  4641: 23,\n",
       "  4694: 19,\n",
       "  4804: 6,\n",
       "  5030: 49,\n",
       "  5145: 9,\n",
       "  5244: 113,\n",
       "  5264: 115,\n",
       "  5360: 19,\n",
       "  5434: 24,\n",
       "  5476: 36,\n",
       "  5516: 31,\n",
       "  5536: 21,\n",
       "  5564: 30,\n",
       "  5579: 14,\n",
       "  5609: 39,\n",
       "  5619: 25,\n",
       "  5631: 9,\n",
       "  5681: 9,\n",
       "  5691: 12,\n",
       "  5727: 41,\n",
       "  5761: 85,\n",
       "  5819: 19,\n",
       "  5904: 16,\n",
       "  5937: 61,\n",
       "  6038: 4,\n",
       "  6143: 15,\n",
       "  6176: 5,\n",
       "  6183: 17,\n",
       "  6206: 7,\n",
       "  6279: 20,\n",
       "  6378: 112,\n",
       "  6398: 11,\n",
       "  6557: 16,\n",
       "  6603: 15,\n",
       "  6884: 43,\n",
       "  6901: 8,\n",
       "  6915: 190,\n",
       "  7107: 230,\n",
       "  7169: 9,\n",
       "  7271: 117,\n",
       "  7356: 12,\n",
       "  7363: 284,\n",
       "  7492: 58,\n",
       "  7569: 32,\n",
       "  7603: 39,\n",
       "  7666: 9,\n",
       "  7700: 68,\n",
       "  7787: 18,\n",
       "  7849: 96,\n",
       "  7936: 3,\n",
       "  8070: 69,\n",
       "  8312: 29,\n",
       "  8337: 22,\n",
       "  8366: 25,\n",
       "  8471: 15,\n",
       "  8512: 16,\n",
       "  8515: 21,\n",
       "  8532: 9,\n",
       "  8556: 71,\n",
       "  8803: 4,\n",
       "  8895: 10,\n",
       "  8900: 11,\n",
       "  9124: 18,\n",
       "  9128: 2,\n",
       "  9253: 76,\n",
       "  9304: 12,\n",
       "  9332: 7,\n",
       "  9457: 6,\n",
       "  9505: 2,\n",
       "  9518: 80,\n",
       "  9544: 228,\n",
       "  9727: 37,\n",
       "  9736: 19,\n",
       "  9859: 12,\n",
       "  9871: 17,\n",
       "  9957: 15,\n",
       "  9973: 59,\n",
       "  10057: 144,\n",
       "  10207: 36,\n",
       "  10299: 167,\n",
       "  10304: 8,\n",
       "  10377: 125,\n",
       "  10502: 9,\n",
       "  10581: 11,\n",
       "  10589: 18,\n",
       "  10626: 72,\n",
       "  10635: 6,\n",
       "  10666: 84,\n",
       "  10675: 13,\n",
       "  10761: 9,\n",
       "  10830: 14,\n",
       "  10848: 16,\n",
       "  10950: 23,\n",
       "  11003: 63,\n",
       "  11018: 24,\n",
       "  11061: 11,\n",
       "  11065: 40,\n",
       "  11197: 14,\n",
       "  11236: 58,\n",
       "  11247: 6,\n",
       "  11275: 26,\n",
       "  11313: 9,\n",
       "  11320: 66,\n",
       "  11421: 37,\n",
       "  11446: 13,\n",
       "  11593: 19,\n",
       "  11616: 64,\n",
       "  11671: 14,\n",
       "  11702: 7,\n",
       "  11708: 44,\n",
       "  11747: 20,\n",
       "  11762: 10,\n",
       "  11829: 25,\n",
       "  11850: 23,\n",
       "  11860: 11,\n",
       "  11932: 18,\n",
       "  11989: 17,\n",
       "  12028: 221,\n",
       "  12140: 36,\n",
       "  12177: 53,\n",
       "  12183: 26,\n",
       "  12274: 9,\n",
       "  12312: 13,\n",
       "  12380: 45,\n",
       "  12508: 136,\n",
       "  12567: 61,\n",
       "  12585: 4,\n",
       "  12629: 43,\n",
       "  12633: 11,\n",
       "  12799: 77,\n",
       "  12803: 21,\n",
       "  12824: 21,\n",
       "  13123: 10,\n",
       "  13329: 22,\n",
       "  13330: 13,\n",
       "  13503: 15,\n",
       "  13546: 20,\n",
       "  13577: 7,\n",
       "  13593: 20,\n",
       "  13615: 10,\n",
       "  13627: 31,\n",
       "  13664: 120,\n",
       "  13728: 13,\n",
       "  13748: 21,\n",
       "  13864: 5,\n",
       "  13881: 2,\n",
       "  14035: 12,\n",
       "  14144: 24,\n",
       "  14172: 9,\n",
       "  14193: 8,\n",
       "  14256: 26,\n",
       "  14269: 21,\n",
       "  14309: 13,\n",
       "  14342: 20,\n",
       "  14385: 14,\n",
       "  14507: 9,\n",
       "  14520: 56,\n",
       "  14705: 17,\n",
       "  14805: 16,\n",
       "  14855: 96,\n",
       "  14975: 23,\n",
       "  15046: 86,\n",
       "  15054: 33,\n",
       "  15301: 5,\n",
       "  15347: 4,\n",
       "  15361: 15,\n",
       "  15472: 13,\n",
       "  15590: 85,\n",
       "  15716: 323,\n",
       "  15852: 15,\n",
       "  15875: 192,\n",
       "  16038: 89,\n",
       "  16053: 17,\n",
       "  16076: 397,\n",
       "  16102: 6,\n",
       "  16129: 22,\n",
       "  16147: 7,\n",
       "  16216: 17,\n",
       "  16275: 90,\n",
       "  16318: 12,\n",
       "  16367: 47,\n",
       "  16384: 48,\n",
       "  16409: 40,\n",
       "  16412: 8,\n",
       "  16438: 28,\n",
       "  16468: 15,\n",
       "  16469: 20,\n",
       "  16479: 7,\n",
       "  16492: 6,\n",
       "  16554: 19,\n",
       "  16560: 8,\n",
       "  16685: 1,\n",
       "  16733: 14,\n",
       "  16755: 24,\n",
       "  16800: 12,\n",
       "  16802: 27,\n",
       "  16850: 14,\n",
       "  16975: 186,\n",
       "  16992: 42,\n",
       "  17107: 6,\n",
       "  17149: 17,\n",
       "  17150: 23,\n",
       "  17250: 28,\n",
       "  17260: 10,\n",
       "  17276: 10,\n",
       "  17539: 24,\n",
       "  17547: 9,\n",
       "  17617: 4,\n",
       "  17631: 19,\n",
       "  17664: 24,\n",
       "  17722: 8,\n",
       "  17764: 3,\n",
       "  17795: 215,\n",
       "  17843: 37,\n",
       "  17882: 6,\n",
       "  17903: 7,\n",
       "  17906: 88,\n",
       "  18082: 22,\n",
       "  18123: 146,\n",
       "  18233: 8,\n",
       "  18250: 2,\n",
       "  18281: 61,\n",
       "  18320: 207,\n",
       "  18353: 16,\n",
       "  18365: 10,\n",
       "  18459: 33,\n",
       "  18637: 35,\n",
       "  18673: 38,\n",
       "  18681: 10,\n",
       "  18737: 7,\n",
       "  18999: 40,\n",
       "  19029: 4,\n",
       "  19036: 12,\n",
       "  19164: 20,\n",
       "  19463: 14,\n",
       "  19569: 4,\n",
       "  19653: 30,\n",
       "  19698: 79,\n",
       "  19793: 37,\n",
       "  19803: 9,\n",
       "  19833: 77,\n",
       "  19851: 83,\n",
       "  19859: 14,\n",
       "  19940: 9,\n",
       "  20061: 7,\n",
       "  20086: 85,\n",
       "  20133: 121,\n",
       "  20181: 204,\n",
       "  20187: 25,\n",
       "  20263: 6,\n",
       "  20265: 7,\n",
       "  20289: 63,\n",
       "  20381: 10,\n",
       "  20425: 103,\n",
       "  20528: 37,\n",
       "  20580: 1,\n",
       "  20598: 31,\n",
       "  20600: 16,\n",
       "  20624: 32,\n",
       "  20643: 20,\n",
       "  20804: 25,\n",
       "  20899: 17,\n",
       "  20951: 8,\n",
       "  20979: 26,\n",
       "  21037: 21,\n",
       "  21056: 9,\n",
       "  21093: 60,\n",
       "  21255: 3,\n",
       "  21269: 279,\n",
       "  21277: 23,\n",
       "  21301: 16,\n",
       "  21350: 18,\n",
       "  21548: 7,\n",
       "  21581: 11,\n",
       "  21737: 7,\n",
       "  21745: 5,\n",
       "  21764: 7,\n",
       "  22019: 2,\n",
       "  22180: 5,\n",
       "  22192: 5,\n",
       "  22287: 10,\n",
       "  22432: 6,\n",
       "  22450: 11,\n",
       "  22520: 63,\n",
       "  22534: 4,\n",
       "  22580: 10,\n",
       "  22624: 43,\n",
       "  22667: 72,\n",
       "  22684: 14,\n",
       "  22706: 8,\n",
       "  22754: 44,\n",
       "  22855: 47,\n",
       "  22921: 2,\n",
       "  23028: 22,\n",
       "  23109: 2,\n",
       "  23131: 49,\n",
       "  23161: 29,\n",
       "  23215: 9,\n",
       "  23318: 15,\n",
       "  23418: 22,\n",
       "  23423: 11,\n",
       "  23451: 26,\n",
       "  23568: 8,\n",
       "  23657: 34,\n",
       "  23734: 15,\n",
       "  23763: 21,\n",
       "  23847: 9,\n",
       "  24099: 2,\n",
       "  24170: 2,\n",
       "  24178: 209,\n",
       "  24276: 82,\n",
       "  24344: 290,\n",
       "  24483: 7,\n",
       "  24535: 23,\n",
       "  24562: 10,\n",
       "  24569: 20,\n",
       "  24622: 1,\n",
       "  24687: 45,\n",
       "  24807: 41,\n",
       "  24847: 12,\n",
       "  24868: 57,\n",
       "  24903: 45,\n",
       "  25001: 25,\n",
       "  25016: 78,\n",
       "  25038: 66,\n",
       "  25097: 42,\n",
       "  25117: 38,\n",
       "  25225: 17,\n",
       "  25256: 30,\n",
       "  25295: 59,\n",
       "  25326: 17,\n",
       "  25373: 158,\n",
       "  25406: 5,\n",
       "  25515: 18,\n",
       "  25526: 86,\n",
       "  25579: 27,\n",
       "  25591: 61,\n",
       "  25671: 11,\n",
       "  25750: 107,\n",
       "  25775: 38,\n",
       "  25844: 22,\n",
       "  25860: 9,\n",
       "  25861: 16,\n",
       "  25889: 20,\n",
       "  25941: 86,\n",
       "  26036: 11,\n",
       "  26040: 79,\n",
       "  26052: 3,\n",
       "  26080: 5,\n",
       "  26097: 65,\n",
       "  26118: 60,\n",
       "  26311: 28,\n",
       "  26391: 64,\n",
       "  26398: 14,\n",
       "  26469: 52,\n",
       "  26542: 55,\n",
       "  26601: 58,\n",
       "  26638: 155,\n",
       "  26727: 10,\n",
       "  26797: 8,\n",
       "  26869: 11,\n",
       "  26884: 5,\n",
       "  26887: 4,\n",
       "  26956: 23,\n",
       "  27003: 18,\n",
       "  27036: 10,\n",
       "  27043: 30,\n",
       "  27047: 41,\n",
       "  27049: 14,\n",
       "  27089: 24,\n",
       "  27121: 89,\n",
       "  27143: 135,\n",
       "  27172: 9,\n",
       "  27179: 118,\n",
       "  27194: 60,\n",
       "  27269: 19,\n",
       "  27367: 84,\n",
       "  27371: 17,\n",
       "  27431: 33,\n",
       "  27486: 2,\n",
       "  27576: 84,\n",
       "  27597: 60,\n",
       "  27600: 28,\n",
       "  27677: 11,\n",
       "  27726: 59,\n",
       "  27729: 70,\n",
       "  27752: 11,\n",
       "  27800: 12,\n",
       "  27809: 18,\n",
       "  27823: 31,\n",
       "  27879: 13,\n",
       "  27886: 30,\n",
       "  27999: 25,\n",
       "  28050: 20,\n",
       "  28055: 4,\n",
       "  28073: 74,\n",
       "  28093: 21,\n",
       "  28103: 16,\n",
       "  28164: 159,\n",
       "  28173: 124,\n",
       "  28230: 23,\n",
       "  28291: 36,\n",
       "  28298: 31,\n",
       "  28356: 10,\n",
       "  28527: 46,\n",
       "  28530: 24,\n",
       "  28642: 2,\n",
       "  28668: 3,\n",
       "  28671: 33,\n",
       "  28689: 5,\n",
       "  28717: 23,\n",
       "  28729: 73,\n",
       "  28742: 7,\n",
       "  28758: 94,\n",
       "  28827: 12,\n",
       "  28843: 1,\n",
       "  28884: 12,\n",
       "  28932: 24,\n",
       "  28935: 4,\n",
       "  28939: 4,\n",
       "  28973: 152,\n",
       "  29007: 9,\n",
       "  29043: 12,\n",
       "  29093: 5,\n",
       "  29096: 21,\n",
       "  29102: 18,\n",
       "  29129: 15,\n",
       "  29137: 8,\n",
       "  29139: 17,\n",
       "  29141: 27,\n",
       "  29219: 19,\n",
       "  29240: 10,\n",
       "  29274: 17,\n",
       "  29350: 18,\n",
       "  29377: 80,\n",
       "  29379: 21,\n",
       "  29456: 22,\n",
       "  29478: 32,\n",
       "  29501: 6,\n",
       "  29503: 11,\n",
       "  29504: 18,\n",
       "  29513: 65,\n",
       "  29528: 5,\n",
       "  29556: 5,\n",
       "  29566: 17,\n",
       "  29619: 18,\n",
       "  29638: 15,\n",
       "  29639: 26,\n",
       "  29660: 9,\n",
       "  29703: 12,\n",
       "  29866: 12,\n",
       "  29872: 14,\n",
       "  29913: 11,\n",
       "  29919: 24,\n",
       "  29927: 63,\n",
       "  29965: 26,\n",
       "  29972: 7,\n",
       "  30010: 7,\n",
       "  30015: 36,\n",
       "  30139: 529,\n",
       "  30208: 18,\n",
       "  30227: 35,\n",
       "  30287: 23,\n",
       "  30299: 1,\n",
       "  30301: 117,\n",
       "  30316: 17,\n",
       "  30365: 47,\n",
       "  30490: 17,\n",
       "  30501: 10,\n",
       "  30505: 33,\n",
       "  30561: 6,\n",
       "  30575: 6,\n",
       "  30599: 24,\n",
       "  30631: 11,\n",
       "  30663: 24,\n",
       "  30696: 54,\n",
       "  30786: 11,\n",
       "  30798: 14,\n",
       "  30860: 28,\n",
       "  31003: 45,\n",
       "  31183: 129,\n",
       "  31216: 80,\n",
       "  31221: 17,\n",
       "  31262: 28,\n",
       "  31298: 13,\n",
       "  31332: 59,\n",
       "  31361: 20,\n",
       "  31442: 32,\n",
       "  31470: 17,\n",
       "  31516: 74,\n",
       "  31528: 60,\n",
       "  31544: 11,\n",
       "  31580: 34,\n",
       "  31585: 39,\n",
       "  31610: 17,\n",
       "  31660: 3,\n",
       "  31664: 45,\n",
       "  31692: 23,\n",
       "  31723: 17,\n",
       "  31813: 234,\n",
       "  31942: 102,\n",
       "  31986: 41,\n",
       "  32018: 145,\n",
       "  32061: 11,\n",
       "  32106: 18,\n",
       "  32135: 12,\n",
       "  32161: 25,\n",
       "  32181: 8,\n",
       "  32183: 27,\n",
       "  32193: 16,\n",
       "  32268: 6,\n",
       "  32286: 117,\n",
       "  32355: 6,\n",
       "  32367: 42,\n",
       "  32394: 6,\n",
       "  32414: 485,\n",
       "  32436: 271,\n",
       "  32583: 5,\n",
       "  32605: 19,\n",
       "  32639: 12,\n",
       "  32740: 48,\n",
       "  32746: 11,\n",
       "  32773: 112,\n",
       "  32790: 103,\n",
       "  40059: 11,\n",
       "  40124: 68,\n",
       "  40246: 20,\n",
       "  40370: 11,\n",
       "  40442: 107,\n",
       "  40456: 43,\n",
       "  40576: 48,\n",
       "  40631: 4,\n",
       "  40911: 35,\n",
       "  41192: 45,\n",
       "  41373: 28,\n",
       "  41434: 10,\n",
       "  41446: 8,\n",
       "  41890: 7,\n",
       "  41958: 5,\n",
       "  41962: 10,\n",
       "  41976: 177,\n",
       "  42009: 30,\n",
       "  42035: 49,\n",
       "  42054: 18,\n",
       "  42194: 1,\n",
       "  42346: 30,\n",
       "  42458: 9,\n",
       "  42515: 38,\n",
       "  42572: 17,\n",
       "  42715: 21,\n",
       "  42794: 6,\n",
       "  42924: 3,\n",
       "  43067: 90,\n",
       "  43074: 18,\n",
       "  43112: 394,\n",
       "  43128: 1,\n",
       "  43147: 150,\n",
       "  43305: 48,\n",
       "  43323: 15,\n",
       "  43937: 4,\n",
       "  43943: 6,\n",
       "  43959: 3,\n",
       "  44146: 16,\n",
       "  44206: 5,\n",
       "  44214: 30,\n",
       "  44326: 8,\n",
       "  44437: 12,\n",
       "  44530: 2,\n",
       "  44534: 37,\n",
       "  44741: 8,\n",
       "  44787: 7,\n",
       "  44829: 55,\n",
       "  44841: 19,\n",
       "  44848: 2,\n",
       "  45193: 11,\n",
       "  45280: 9,\n",
       "  45435: 7,\n",
       "  46011: 61,\n",
       "  46335: 49,\n",
       "  46366: 42,\n",
       "  46415: 53,\n",
       "  46521: 14,\n",
       "  46728: 34,\n",
       "  46926: 1,\n",
       "  46961: 1,\n",
       "  47216: 17,\n",
       "  47219: 67,\n",
       "  47407: 2,\n",
       "  47467: 6,\n",
       "  47670: 7,\n",
       "  47747: 12,\n",
       "  47852: 95,\n",
       "  47930: 5,\n",
       "  48058: 4,\n",
       "  48143: 6,\n",
       "  48297: 11,\n",
       "  48340: 7,\n",
       "  48660: 343,\n",
       "  48687: 15,\n",
       "  48750: 8,\n",
       "  48812: 36,\n",
       "  48837: 14,\n",
       "  48929: 7,\n",
       "  49292: 18,\n",
       "  49510: 31,\n",
       "  49558: 347,\n",
       "  49623: 9,\n",
       "  49747: 7,\n",
       "  49764: 10,\n",
       "  49963: 4,\n",
       "  50007: 4,\n",
       "  50041: 10,\n",
       "  50093: 6,\n",
       "  50257: 11,\n",
       "  50294: 20,\n",
       "  50409: 75,\n",
       "  50762: 8,\n",
       "  50772: 17,\n",
       "  50807: 21,\n",
       "  50828: 126,\n",
       "  50911: 81,\n",
       "  50998: 29,\n",
       "  51195: 29,\n",
       "  51237: 11,\n",
       "  51401: 33,\n",
       "  51418: 68,\n",
       "  51497: 3,\n",
       "  51545: 97,\n",
       "  51601: 5,\n",
       "  51607: 5,\n",
       "  51669: 10,\n",
       "  51933: 5,\n",
       "  52011: 8,\n",
       "  52054: 1,\n",
       "  52172: 13,\n",
       "  52191: 46,\n",
       "  52307: 5,\n",
       "  52452: 5,\n",
       "  52606: 54,\n",
       "  52622: 5,\n",
       "  52898: 6,\n",
       "  52957: 52,\n",
       "  53119: 7,\n",
       "  53160: 13,\n",
       "  53173: 14,\n",
       "  53534: 9,\n",
       "  53650: 15,\n",
       "  53743: 151,\n",
       "  53749: 6,\n",
       "  53847: 14,\n",
       "  54172: 6,\n",
       "  54197: 13,\n",
       "  54305: 8,\n",
       "  54514: 116,\n",
       "  54709: 9,\n",
       "  54741: 5,\n",
       "  54832: 7,\n",
       "  54922: 2,\n",
       "  55059: 17,\n",
       "  55074: 7,\n",
       "  55188: 9,\n",
       "  55571: 212,\n",
       "  55700: 4,\n",
       "  55753: 37,\n",
       "  55841: 14,\n",
       "  55920: 17,\n",
       "  56027: 7,\n",
       "  56229: 31,\n",
       "  56440: 9,\n",
       "  56490: 12,\n",
       "  56621: 11,\n",
       "  56635: 2,\n",
       "  56772: 31,\n",
       "  56798: 4,\n",
       "  56867: 16,\n",
       "  56874: 51,\n",
       "  57050: 205,\n",
       "  57081: 32,\n",
       "  57157: 5,\n",
       "  57277: 19,\n",
       "  57290: 15,\n",
       "  57449: 17,\n",
       "  57788: 36,\n",
       "  57795: 7,\n",
       "  57889: 105,\n",
       "  58105: 49,\n",
       "  58242: 6,\n",
       "  58264: 7,\n",
       "  58286: 20,\n",
       "  58416: 3,\n",
       "  58433: 51,\n",
       "  58522: 9,\n",
       "  58580: 5,\n",
       "  58610: 13,\n",
       "  58631: 15,\n",
       "  58732: 5,\n",
       "  58794: 32,\n",
       "  58810: 10,\n",
       "  58955: 6,\n",
       "  59275: 1,\n",
       "  59278: 17,\n",
       "  59411: 6,\n",
       "  59496: 75,\n",
       "  59765: 300,\n",
       "  59789: 10,\n",
       "  59801: 2,\n",
       "  59822: 14,\n",
       "  59903: 483,\n",
       "  59943: 121,\n",
       "  60003: 9,\n",
       "  60050: 4,\n",
       "  60130: 44,\n",
       "  60674: 10,\n",
       "  60685: 4,\n",
       "  60958: 8,\n",
       "  60977: 9,\n",
       "  61005: 10,\n",
       "  61084: 216,\n",
       "  61195: 9,\n",
       "  61259: 83,\n",
       "  61331: 4,\n",
       "  61630: 19,\n",
       "  61738: 6,\n",
       "  61886: 6,\n",
       "  62231: 4,\n",
       "  62239: 5,\n",
       "  62284: 6,\n",
       "  62402: 56,\n",
       "  62641: 8,\n",
       "  62733: 9,\n",
       "  62858: 120,\n",
       "  63145: 25,\n",
       "  63327: 16,\n",
       "  63351: 10,\n",
       "  63362: 7,\n",
       "  63430: 56,\n",
       "  63499: 32,\n",
       "  63560: 25,\n",
       "  63943: 31,\n",
       "  63968: 10,\n",
       "  64160: 4,\n",
       "  64232: 28,\n",
       "  64249: 7,\n",
       "  64715: 17,\n",
       "  65004: 11,\n",
       "  65027: 1,\n",
       "  65033: 2,\n",
       "  65164: 4,\n",
       "  65361: 20,\n",
       "  65435: 40,\n",
       "  65449: 6,\n",
       "  65515: 5,\n",
       "  65582: 576,\n",
       "  65594: 9,\n",
       "  65692: 25,\n",
       "  65710: 18,\n",
       "  65837: 47,\n",
       "  66002: 636,\n",
       "  66009: 373,\n",
       "  66206: 12,\n",
       "  66412: 5,\n",
       "  66492: 1,\n",
       "  66549: 36,\n",
       "  66556: 20,\n",
       "  66671: 32,\n",
       "  66739: 1,\n",
       "  66753: 8,\n",
       "  66823: 21,\n",
       "  67053: 238,\n",
       "  67111: 16,\n",
       "  67117: 19,\n",
       "  67408: 15,\n",
       "  67446: 8,\n",
       "  67796: 7,\n",
       "  67844: 7,\n",
       "  67887: 13,\n",
       "  68059: 3,\n",
       "  68315: 3,\n",
       "  68591: 7,\n",
       "  68791: 13,\n",
       "  68836: 7,\n",
       "  68839: 21,\n",
       "  68905: 3,\n",
       "  68944: 39,\n",
       "  68962: 1,\n",
       "  69098: 12,\n",
       "  69158: 13,\n",
       "  69250: 4,\n",
       "  69296: 13,\n",
       "  69359: 26,\n",
       "  69380: 265,\n",
       "  69483: 26,\n",
       "  69546: 64,\n",
       "  69556: 11,\n",
       "  69578: 7,\n",
       "  69673: 6,\n",
       "  69776: 53,\n",
       "  69799: 6,\n",
       "  69932: 6,\n",
       "  70285: 2,\n",
       "  70466: 18,\n",
       "  70476: 22,\n",
       "  70492: 10,\n",
       "  70563: 3,\n",
       "  70645: 29,\n",
       "  70682: 48,\n",
       "  70728: 12,\n",
       "  71107: 9,\n",
       "  71108: 220,\n",
       "  71220: 45,\n",
       "  71336: 5,\n",
       "  71377: 39,\n",
       "  71915: 6,\n",
       "  71943: 4,\n",
       "  71983: 3,\n",
       "  72229: 189,\n",
       "  72230: 154,\n",
       "  72233: 2,\n",
       "  72378: 7,\n",
       "  72532: 6,\n",
       "  72714: 4,\n",
       "  72751: 35,\n",
       "  73043: 3,\n",
       "  73107: 479,\n",
       "  73129: 105,\n",
       "  73388: 37,\n",
       "  73389: 87,\n",
       "  73479: 3,\n",
       "  73686: 4,\n",
       "  73713: 458,\n",
       "  73770: 9,\n",
       "  73808: 49,\n",
       "  73899: 2,\n",
       "  73941: 7,\n",
       "  74016: 8,\n",
       "  74253: 388,\n",
       "  74505: 32,\n",
       "  74562: 98,\n",
       "  74640: 7,\n",
       "  74654: 7,\n",
       "  75047: 3,\n",
       "  75107: 124,\n",
       "  75200: 87,\n",
       "  75387: 14,\n",
       "  75446: 34,\n",
       "  75609: 5,\n",
       "  75640: 45,\n",
       "  75741: 8,\n",
       "  75782: 90,\n",
       "  75806: 3,\n",
       "  75983: 9,\n",
       "  76021: 39,\n",
       "  76056: 1,\n",
       "  76074: 31,\n",
       "  76141: 4,\n",
       "  76178: 22,\n",
       "  76437: 5,\n",
       "  76446: 18,\n",
       "  76476: 3,\n",
       "  76797: 6,\n",
       "  76915: 8,\n",
       "  76993: 13,\n",
       "  77019: 8,\n",
       "  77128: 9,\n",
       "  77177: 14,\n",
       "  77237: 198,\n",
       "  77279: 2,\n",
       "  77434: 18,\n",
       "  77453: 2,\n",
       "  77469: 31,\n",
       "  77676: 4,\n",
       "  77690: 19,\n",
       "  77697: 10,\n",
       "  77816: 8,\n",
       "  77947: 11,\n",
       "  78017: 2,\n",
       "  78086: 110,\n",
       "  78565: 78,\n",
       "  78705: 3,\n",
       "  78707: 16,\n",
       "  78859: 5,\n",
       "  78914: 13,\n",
       "  79079: 18,\n",
       "  79090: 16,\n",
       "  79115: 12,\n",
       "  79292: 15,\n",
       "  80045: 6,\n",
       "  80106: 5,\n",
       "  80218: 13,\n",
       "  80430: 10,\n",
       "  80722: 3,\n",
       "  80813: 11,\n",
       "  80825: 3,\n",
       "  81114: 58,\n",
       "  81223: 39,\n",
       "  81233: 22,\n",
       "  81436: 9,\n",
       "  81745: 28,\n",
       "  81840: 25,\n",
       "  81960: 8,\n",
       "  81992: 11,\n",
       "  82100: 74,\n",
       "  82104: 2,\n",
       "  82150: 84,\n",
       "  82202: 28,\n",
       "  82211: 647,\n",
       "  82309: 9,\n",
       "  ...}}"
      ]
     },
     "execution_count": 30,
     "metadata": {},
     "output_type": "execute_result"
    }
   ],
   "source": [
    "patient_id_to_num_notes"
   ]
  },
  {
   "cell_type": "code",
   "execution_count": 31,
   "metadata": {},
   "outputs": [
    {
     "name": "stdout",
     "output_type": "stream",
     "text": [
      "252\n",
      "1167\n"
     ]
    }
   ],
   "source": [
    "print(len(patient_id_to_num_notes['pneumonia_dead']))\n",
    "print(len(patient_id_to_num_notes['pneumonia_alive']))"
   ]
  },
  {
   "cell_type": "code",
   "execution_count": 32,
   "metadata": {
    "scrolled": true
   },
   "outputs": [
    {
     "data": {
      "text/html": [
       "<div>\n",
       "<style scoped>\n",
       "    .dataframe tbody tr th:only-of-type {\n",
       "        vertical-align: middle;\n",
       "    }\n",
       "\n",
       "    .dataframe tbody tr th {\n",
       "        vertical-align: top;\n",
       "    }\n",
       "\n",
       "    .dataframe thead th {\n",
       "        text-align: right;\n",
       "    }\n",
       "</style>\n",
       "<table border=\"1\" class=\"dataframe\">\n",
       "  <thead>\n",
       "    <tr style=\"text-align: right;\">\n",
       "      <th></th>\n",
       "      <th>ROW_ID_x</th>\n",
       "      <th>SUBJECT_ID_x</th>\n",
       "      <th>DESCRIPTION</th>\n",
       "      <th>TEXT</th>\n",
       "      <th>DEATHTIME</th>\n",
       "    </tr>\n",
       "  </thead>\n",
       "  <tbody>\n",
       "    <tr>\n",
       "      <th>70391</th>\n",
       "      <td>70124</td>\n",
       "      <td>111</td>\n",
       "      <td>Report</td>\n",
       "      <td>PATIENT/TEST INFORMATION:\\nIndication: s/p PEA...</td>\n",
       "      <td>2144-07-01 14:55:00</td>\n",
       "    </tr>\n",
       "    <tr>\n",
       "      <th>142529</th>\n",
       "      <td>151749</td>\n",
       "      <td>111</td>\n",
       "      <td>Report</td>\n",
       "      <td>Compared to the previous tracing QRS voltage i...</td>\n",
       "      <td>2144-07-01 14:55:00</td>\n",
       "    </tr>\n",
       "    <tr>\n",
       "      <th>142097</th>\n",
       "      <td>151750</td>\n",
       "      <td>111</td>\n",
       "      <td>Report</td>\n",
       "      <td>Normal sinus rhythm, rate 80.  Biatrial abnorm...</td>\n",
       "      <td>2144-07-01 14:55:00</td>\n",
       "    </tr>\n",
       "    <tr>\n",
       "      <th>142303</th>\n",
       "      <td>151751</td>\n",
       "      <td>111</td>\n",
       "      <td>Report</td>\n",
       "      <td>Normal sinus rhythm.  Q waves in leads V1-V2 c...</td>\n",
       "      <td>2144-07-01 14:55:00</td>\n",
       "    </tr>\n",
       "    <tr>\n",
       "      <th>380576</th>\n",
       "      <td>375732</td>\n",
       "      <td>111</td>\n",
       "      <td>Physician Resident Admission Note</td>\n",
       "      <td>Chief Complaint:  respiratory distress\\n   HPI...</td>\n",
       "      <td>2144-07-01 14:55:00</td>\n",
       "    </tr>\n",
       "    <tr>\n",
       "      <th>380109</th>\n",
       "      <td>375744</td>\n",
       "      <td>111</td>\n",
       "      <td>ICU Event Note</td>\n",
       "      <td>Clinician:  Nurse\\n   Pt admitted from the ED ...</td>\n",
       "      <td>2144-07-01 14:55:00</td>\n",
       "    </tr>\n",
       "    <tr>\n",
       "      <th>379907</th>\n",
       "      <td>375749</td>\n",
       "      <td>111</td>\n",
       "      <td>Physician Resident/Attending Admission Note - ...</td>\n",
       "      <td>Chief Complaint:  respiratory distress\\n   HPI...</td>\n",
       "      <td>2144-07-01 14:55:00</td>\n",
       "    </tr>\n",
       "    <tr>\n",
       "      <th>379806</th>\n",
       "      <td>375753</td>\n",
       "      <td>111</td>\n",
       "      <td>Social Work Admission Note</td>\n",
       "      <td>Social Work Initial Note:\\n   Family Informati...</td>\n",
       "      <td>2144-07-01 14:55:00</td>\n",
       "    </tr>\n",
       "    <tr>\n",
       "      <th>379909</th>\n",
       "      <td>375760</td>\n",
       "      <td>111</td>\n",
       "      <td>ICU Event Note</td>\n",
       "      <td>TITLE:\\n   Clinician:  Resident\\n   Patient ex...</td>\n",
       "      <td>2144-07-01 14:55:00</td>\n",
       "    </tr>\n",
       "    <tr>\n",
       "      <th>1066971</th>\n",
       "      <td>1079317</td>\n",
       "      <td>111</td>\n",
       "      <td>CHEST (PORTABLE AP)</td>\n",
       "      <td>[**2144-7-1**] 2:43 AM\\n CHEST (PORTABLE AP)  ...</td>\n",
       "      <td>2144-07-01 14:55:00</td>\n",
       "    </tr>\n",
       "    <tr>\n",
       "      <th>1065833</th>\n",
       "      <td>1079339</td>\n",
       "      <td>111</td>\n",
       "      <td>CHEST (PORTABLE AP)</td>\n",
       "      <td>[**2144-7-1**] 7:27 AM\\n CHEST (PORTABLE AP); ...</td>\n",
       "      <td>2144-07-01 14:55:00</td>\n",
       "    </tr>\n",
       "    <tr>\n",
       "      <th>1067121</th>\n",
       "      <td>1079351</td>\n",
       "      <td>111</td>\n",
       "      <td>CHEST PORT. LINE PLACEMENT</td>\n",
       "      <td>[**2144-7-1**] 9:01 AM\\n CHEST PORT. LINE PLAC...</td>\n",
       "      <td>2144-07-01 14:55:00</td>\n",
       "    </tr>\n",
       "  </tbody>\n",
       "</table>\n",
       "</div>"
      ],
      "text/plain": [
       "         ROW_ID_x  SUBJECT_ID_x  \\\n",
       "70391       70124           111   \n",
       "142529     151749           111   \n",
       "142097     151750           111   \n",
       "142303     151751           111   \n",
       "380576     375732           111   \n",
       "380109     375744           111   \n",
       "379907     375749           111   \n",
       "379806     375753           111   \n",
       "379909     375760           111   \n",
       "1066971   1079317           111   \n",
       "1065833   1079339           111   \n",
       "1067121   1079351           111   \n",
       "\n",
       "                                               DESCRIPTION  \\\n",
       "70391                                               Report   \n",
       "142529                                              Report   \n",
       "142097                                              Report   \n",
       "142303                                              Report   \n",
       "380576                   Physician Resident Admission Note   \n",
       "380109                                      ICU Event Note   \n",
       "379907   Physician Resident/Attending Admission Note - ...   \n",
       "379806                          Social Work Admission Note   \n",
       "379909                                      ICU Event Note   \n",
       "1066971                                CHEST (PORTABLE AP)   \n",
       "1065833                                CHEST (PORTABLE AP)   \n",
       "1067121                         CHEST PORT. LINE PLACEMENT   \n",
       "\n",
       "                                                      TEXT  \\\n",
       "70391    PATIENT/TEST INFORMATION:\\nIndication: s/p PEA...   \n",
       "142529   Compared to the previous tracing QRS voltage i...   \n",
       "142097   Normal sinus rhythm, rate 80.  Biatrial abnorm...   \n",
       "142303   Normal sinus rhythm.  Q waves in leads V1-V2 c...   \n",
       "380576   Chief Complaint:  respiratory distress\\n   HPI...   \n",
       "380109   Clinician:  Nurse\\n   Pt admitted from the ED ...   \n",
       "379907   Chief Complaint:  respiratory distress\\n   HPI...   \n",
       "379806   Social Work Initial Note:\\n   Family Informati...   \n",
       "379909   TITLE:\\n   Clinician:  Resident\\n   Patient ex...   \n",
       "1066971  [**2144-7-1**] 2:43 AM\\n CHEST (PORTABLE AP)  ...   \n",
       "1065833  [**2144-7-1**] 7:27 AM\\n CHEST (PORTABLE AP); ...   \n",
       "1067121  [**2144-7-1**] 9:01 AM\\n CHEST PORT. LINE PLAC...   \n",
       "\n",
       "                   DEATHTIME  \n",
       "70391    2144-07-01 14:55:00  \n",
       "142529   2144-07-01 14:55:00  \n",
       "142097   2144-07-01 14:55:00  \n",
       "142303   2144-07-01 14:55:00  \n",
       "380576   2144-07-01 14:55:00  \n",
       "380109   2144-07-01 14:55:00  \n",
       "379907   2144-07-01 14:55:00  \n",
       "379806   2144-07-01 14:55:00  \n",
       "379909   2144-07-01 14:55:00  \n",
       "1066971  2144-07-01 14:55:00  \n",
       "1065833  2144-07-01 14:55:00  \n",
       "1067121  2144-07-01 14:55:00  "
      ]
     },
     "execution_count": 32,
     "metadata": {},
     "output_type": "execute_result"
    }
   ],
   "source": [
    "pneumonia_dead_no_disch.loc[pneumonia_dead_no_disch[\"SUBJECT_ID_x\"] == 111, ['ROW_ID_x','SUBJECT_ID_x','DESCRIPTION','TEXT', 'DEATHTIME']]"
   ]
  },
  {
   "cell_type": "code",
   "execution_count": null,
   "metadata": {},
   "outputs": [],
   "source": []
  },
  {
   "cell_type": "code",
   "execution_count": null,
   "metadata": {},
   "outputs": [],
   "source": []
  },
  {
   "cell_type": "code",
   "execution_count": 33,
   "metadata": {},
   "outputs": [
    {
     "name": "stderr",
     "output_type": "stream",
     "text": [
      "100%|██████████| 11895/11895 [00:49<00:00, 241.16it/s]\n",
      "  0%|          | 1/46134 [00:00<1:41:03,  7.61it/s]"
     ]
    },
    {
     "name": "stdout",
     "output_type": "stream",
     "text": [
      "5989 note events\n",
      "finished counting frequent words for patients!\n"
     ]
    },
    {
     "name": "stderr",
     "output_type": "stream",
     "text": [
      "100%|██████████| 46134/46134 [03:28<00:00, 221.38it/s]"
     ]
    },
    {
     "name": "stdout",
     "output_type": "stream",
     "text": [
      "23172 note events\n",
      "finished counting frequent words for patients!\n"
     ]
    },
    {
     "name": "stderr",
     "output_type": "stream",
     "text": [
      "\n"
     ]
    }
   ],
   "source": [
    "def count_words_per_patient(disease_df, patient_id_to_num_notes):\n",
    "    note_appearance_counter = {}\n",
    "    number_of_patients = 0 # number of patients\n",
    "    note_counter = 0\n",
    "\n",
    "# -----------\n",
    "    patient_id = -1\n",
    "    word_set = set()\n",
    "    note_event_counter = 0\n",
    "\n",
    "    # Iterate through each note\n",
    "    for index, row in tqdm(disease_df.iterrows(), total=disease_df.shape[0]):\n",
    "\n",
    "        \n",
    "        patient_id_check = int(row['SUBJECT_ID_x'])\n",
    "    \n",
    "        # if patient id has changed, end sequence and start new sequence\n",
    "        if not patient_id == patient_id_check:\n",
    "            number_of_patients += 1\n",
    "            note_event_counter = 0\n",
    "        \n",
    "            for word in word_set:\n",
    "                if word in note_appearance_counter:\n",
    "                    note_appearance_counter[word] += 1\n",
    "                else:\n",
    "                    note_appearance_counter[word] = 1\n",
    "\n",
    "        \n",
    "            # reset word_set\n",
    "            word_set = set()\n",
    "        \n",
    "        # update patient id\n",
    "        patient_id = patient_id_check\n",
    "\n",
    "            \n",
    "        if patient_id_to_num_notes[patient_id_check] <= MIN_SEQ_LEN:\n",
    "            continue\n",
    "            \n",
    "        if note_event_counter < patient_id_to_num_notes[patient_id] // USE_1_N_SEQ:\n",
    "            note_event_counter += 1\n",
    "            continue\n",
    "                \n",
    "        note_counter += 1\n",
    "        note = re.sub(r'\\[\\*\\*(.*?)\\*\\*\\]|[_,\\d\\*:~=\\.\\-\\+\\\\/]+', ' ', row['TEXT'])\n",
    "        tokenized_note = word_tokenize(note)\n",
    "        \n",
    "        \n",
    "        for word in tokenized_note:\n",
    "            stemmed_word = stemmer.stem(word.lower())\n",
    "            if not stemmed_word in stop_words:\n",
    "                word_set.add(stemmed_word)\n",
    "    \n",
    "    print(str(note_counter) + \" note events\")\n",
    "    print(\"finished counting frequent words for patients!\")\n",
    "#     return note_counter, note_appearance_counter\n",
    "    return number_of_patients, note_appearance_counter\n",
    "\n",
    "# variable dictionaries\n",
    "number_of_notes = {}\n",
    "note_appearance_counter = {}\n",
    "\n",
    "number_of_notes['pneumonia_dead'], note_appearance_counter['pneumonia_dead'] = count_words_per_patient(pneumonia_dead_no_disch, patient_id_to_num_notes['pneumonia_dead'])\n",
    "number_of_notes['pneumonia_alive'], note_appearance_counter['pneumonia_alive'] = count_words_per_patient(pneumonia_alive_no_disch, patient_id_to_num_notes['pneumonia_alive'])"
   ]
  },
  {
   "cell_type": "code",
   "execution_count": 34,
   "metadata": {},
   "outputs": [
    {
     "data": {
      "text/plain": [
       "{'pneumonia_dead': 252, 'pneumonia_alive': 1167}"
      ]
     },
     "execution_count": 34,
     "metadata": {},
     "output_type": "execute_result"
    }
   ],
   "source": [
    "number_of_notes"
   ]
  },
  {
   "cell_type": "code",
   "execution_count": 35,
   "metadata": {},
   "outputs": [
    {
     "name": "stdout",
     "output_type": "stream",
     "text": [
      "{'pneumonia_dead': {'hour': 154, 'methylpr': 5, 'insp': 84, 'verapamil': 2, 'central': 107, 'rhythm': 126, 'mix': 30, 'ga': 70, 'hypercapn': 6, 'addendum': 98, 'cage': 1, 'glycem': 62, 'acid': 56, 'access': 113, 'occup': 18, 'mmol': 49, 'icu': 108, 'r': 178, 'lung': 203, 'keep': 104, 'region': 80, 'anion': 8, 'refractori': 8, 'law': 18, 'pm': 197, 'ed': 61, 'ratio': 7, 'serial': 23, 'cardiac': 156, 'cvp': 66, 'licsw': 11, 'scale': 61, 'resuscit': 44, 'et': 95, 'breath': 162, 'p': 193, 'fix': 29, 'unabl': 130, 'emphas': 19, 'pupil': 73, 'wbc': 131, 'pea': 8, 'concern': 114, 'though': 89, 'monitor': 174, 'ng': 131, '[': 80, 'antibiot': 102, 'attempt': 119, 'gener': 124, 'dl': 70, 'field': 72, 'min': 142, 'physician': 107, 'pna': 151, 'pho': 56, 'sw': 33, 'sbp': 114, 'requir': 145, 'copi': 13, 'bicarbon': 9, 'gallop': 7, 'fluticason': 2, 'section': 56, 'pco': 36, 'product': 99, 'sputum': 132, 'marri': 4, 'calcif': 59, 'bilater': 175, 'signific': 121, 'taken': 60, 'st': 140, 'suffer': 13, 'kg': 111, 'infiltr': 112, 'bp': 181, 'cardiomediastin': 48, 'servic': 92, 'inh': 3, 'meantim': 3, 'protect': 61, 'level': 148, 'hco': 15, 'discuss': 156, 'dvt': 79, '<': 77, 'abg': 143, 'progress': 166, 'tf': 110, 'reason': 199, 'versu': 30, 'meq': 92, 'band': 44, 'intern': 78, 'termin': 88, 'stomach': 93, 'radiolog': 68, 'lymph': 71, 'vital': 80, 'post': 131, 'prophylaxi': 70, 'day': 160, 'abov': 158, 'proxi': 40, 'assess': 176, 'g': 96, 'expir': 58, 'inquir': 4, 'function': 95, 'puls': 133, 'line': 183, 'question': 128, 'abdomen': 119, 'need': 155, 'lead': 83, 'empir': 36, 'without': 143, 'short': 86, 'etho': 2, 'rosc': 1, 'followup': 38, 'autopeep': 6, 'balanc': 85, 'ill': 73, 'tender': 82, 'son': 89, 'iadl': 1, 'repeat': 107, 'atropin': 8, 'gaug': 57, 'artic': 2, 'around': 76, 'hyperlipidemia': 9, 'presep': 6, 'lvef': 38, 'mid': 138, 'could': 111, 'none': 113, 'along': 46, 'normal': 164, 'absent': 62, 'weak': 65, 'mmhg': 71, 'failur': 141, 'unemploy': 1, 'receiv': 151, 'appear': 201, 'global': 31, 'agenc': 1, 'enter': 58, 'lactat': 47, 'lipas': 16, 'slide': 50, 'interim': 26, 'legal': 10, 'bed': 103, 'fissur': 12, 'aspir': 108, 'person': 33, 'assist': 81, 'mosf': 3, 'replet': 84, 'hypercapnia': 4, 'mouth': 82, 'event': 121, 'exceed': 3, 'cmh': 51, 'bandemia': 11, 'h': 136, 'clinician': 41, 'state': 94, 'echo': 58, 'visual': 109, 'offer': 47, 'titl': 38, 'acidem': 4, 'tcurrent': 61, 'key': 61, 'recommend': 82, 'demonstr': 88, 'intact': 103, 'acut': 134, 'park': 4, 'extens': 86, 'pt': 179, 'visit': 106, '(': 229, 'arteri': 119, 'differ': 81, 'lactic': 54, 'two': 87, 'wave': 81, 'k': 116, 'septic': 41, 'densiti': 45, 'critic': 66, 'care': 171, 'bs': 138, 'woman': 83, 'recurr': 33, 'ptt': 80, 'ca': 105, 'infect': 100, 'bipap': 43, 'resp': 163, 'clergi': 16, 'transfus': 52, 'examin': 202, 'use': 112, 'year': 195, 'protocol': 57, 'spontan': 91, 'sodium': 63, 'radiograph': 127, 'ivf': 111, 'sat': 167, 'volum': 119, 'obtain': 159, 'elig': 3, 'non': 170, 'found': 81, 'sever': 172, 'pao': 66, 'think': 20, 'develop': 87, 'report': 205, 'distress': 118, 'inr': 88, 'seen': 157, 'voltag': 35, 'nodular': 15, 'w': 177, 'mass': 65, 'distend': 108, 'situat': 29, 'admiss': 88, 'past': 77, 'veteran': 1, 'arch': 15, 'block': 44, 'ischem': 31, 'limb': 32, 'heent': 34, 'tach': 21, 'f': 111, 'control': 101, 'psychiatr': 14, 'dx': 29, 'loss': 52, 'rml': 18, 'transient': 33, 'hi': 121, 'medic': 217, 'brother': 29, 'nc': 62, 'howev': 131, 'vap': 72, 'norepinephrin': 22, 'aris': 6, 'patient': 205, 'apic': 43, 'wait': 34, 'ph': 61, 'cathet': 130, 'costophren': 30, 'drip': 79, 'mottl': 15, 'sclera': 23, 'ventilatori': 63, 'dilat': 85, 'bradi': 12, 'saw': 64, 'inferior': 37, 'inform': 122, 'tiotropium': 1, 'add': 51, 'spokesperson': 10, 'exchang': 20, 'wa': 210, 'arriv': 82, 'rr': 150, 'ekg': 67, 'undetect': 3, 'sr': 94, 'dic': 20, 'aroudn': 1, 'insulin': 80, 'hemodynam': 111, 'po': 143, 'mono': 43, 'view': 119, 'hl': 5, 'provid': 114, 'albuterol': 58, 'hospit': 75, '#': 211, 'cxr': 136, 'famili': 167, 'new': 160, 'immedi': 45, 'anicter': 12, 'abnorm': 102, 'thorac': 49, 'alk': 47, \"c'ed\": 12, 'emot': 68, 'left': 216, 'portabl': 178, 'flowsheet': 113, 'final': 196, 'long': 58, 'simvastatin': 4, 'cm': 141, 'met': 61, 'adl': 9, 'set': 141, 'placement': 143, 'preren': 12, 'pneumonia': 203, 'diagnosi': 176, 'l': 171, 'tachycardia': 94, 'coars': 117, 'continu': 176, 'comparison': 166, 'anur': 28, 'femal': 61, 'fio': 119, 'tobacco': 15, 'ext': 68, 'nutrit': 85, 'stroke': 14, 'experienc': 17, 'nurs': 141, 'clip': 175, 'form': 38, 'plan': 161, 'tazo': 9, 'acidosi': 70, 'speak': 65, 'infus': 111, 'upper': 162, 'eeg': 7, 'statu': 197, 'copd': 45, 'md': 134, 'commun': 88, 'cv': 136, 'previous': 80, 'electrolyt': 43, 'onli': 153, 'dr': 150, 'exclud': 72, 'ns': 119, 'girlfriend': 2, 'intub': 147, 'well': 180, 'phenylephrin': 16, 'endotrach': 98, 'guard': 18, 'funer': 16, 'studi': 160, 'elev': 122, 'stay': 55, 'micu': 131, 'fall': 42, 'bag': 43, 'fen': 44, 'pre': 73, 'bicarb': 28, 'azotemia': 6, 'niec': 13, 'leukocytosi': 37, 'today': 148, 'head': 114, 'may': 142, 'map': 90, 'sound': 151, 'superimpos': 56, 'recent': 129, 'extrem': 141, 'unrespons': 78, 'depress': 51, 'compar': 163, 'daughter': 84, 'system': 99, 'trop': 16, 'salmeterol': 1, 'consolid': 110, 'hematoma': 20, 'hypovolemia': 12, 'blood': 141, 'infecti': 53, 'er': 19, 'malign': 32, 'chest': 206, 'intervent': 65, 'hazi': 30, 'deni': 66, 'like': 172, 'hilar': 36, 'respiratiori': 1, 'major': 40, 'ipratropium': 6, 'devic': 94, 'fir': 2, 'epinephrin': 9, 'boot': 52, 'rub': 32, '%': 188, 'lifelin': 1, 'sinc': 186, 'neut': 43, 'disposit': 64, 'presum': 40, 'disconnect': 2, 'recruit': 14, 'restrict': 24, 'clinic': 117, 'spent': 65, 'consist': 152, 'b': 106, 'old': 200, 'tidal': 47, 'got': 28, 'consult': 99, 'come': 72, 'tip': 126, 'contact': 91, 'exam': 110, 'neck': 50, 'inflammatori': 22, 'peripher': 97, 'drug': 55, 'mode': 73, 'sign': 110, 'elder': 1, 'flatten': 7, 'alcohol': 15, 'resid': 111, 'spoke': 86, ']': 80, 'sun': 14, 'va': 11, 'plt': 82, 'worsen': 162, 'arrang': 21, 'chang': 222, 'blocker': 33, 'paralyt': 16, 'known': 85, 'friend': 32, 'took': 27, 'cr': 88, 'decid': 61, 'vancomycin': 69, 'design': 10, 'comment': 93, 'social': 138, 'multipl': 128, 'husband': 35, 'seem': 69, 'later': 115, 'statin': 17, 'tmax': 105, 'independ': 19, 'histori': 173, 'one': 117, 'understand': 45, 'interv': 156, 'jpg': 63, 'profound': 13, 'list': 25, 'data': 132, 'anoth': 58, 'morn': 93, 'hypotens': 131, 'mcg': 105, 'improv': 167, 'ro': 63, 'respiratori': 166, 'ij': 79, 'hct': 122, 'bili': 47, 'right': 211, 'impress': 176, 'rate': 165, 'jugular': 68, 'ct': 132, 'opac': 148, 'ha': 212, 'connect': 7, 'went': 50, 'calcium': 55, 'albumin': 49, 'hypothermia': 13, 'feel': 52, 'father': 16, 'emphysema': 28, 'total': 119, 'differenti': 70, 'check': 116, 'warfarin': 5, 'soft': 154, 'eo': 44, 'coagulopathi': 20, 'anterior': 62, 'issu': 84, 'hyperinfl': 5, 'tc': 12, 'includ': 113, 'evalu': 173, 'tube': 161, 'thi': 230, 'chief': 63, 'follow': 159, 'afternoon': 103, 'ul': 64, 'amp': 21, 'ecg': 31, 'cremat': 3, 'last': 148, 'mg': 163, 'prior': 186, 'approxim': 72, 'poor': 134, 'stool': 150, 'repres': 91, 'addit': 117, 'cool': 67, 'enzym': 32, 'gap': 11, 'attend': 94, 'elderli': 5, 'lab': 132, 'drain': 144, 'arf': 34, 'npo': 121, 'propofol': 31, 'aggress': 62, 'full': 124, 'given': 180, 'subsequ': 50, 'condit': 206, 'process': 94, 'manag': 90, 'ceftriaxon': 24, 'unchang': 179, 'live': 42, 'pleural': 176, 'entir': 36, 'x': 185, 'record': 46, 'aortic': 68, 'manual': 14, 'alt': 53, 'start': 154, 'promin': 65, 'hepat': 27, 'meal': 10, 'u': 143, 'pericardi': 61, 'express': 42, 'logist': 2, 'regular': 66, 'fluid': 183, 'present': 189, 'rapid': 61, 'baselin': 86, 'sulcu': 7, 'insert': 61, 'drop': 120, 'know': 27, 'want': 92, 'initi': 132, 'gtt': 134, 'effort': 47, 'pressor': 87, 'small': 184, 'appoint': 7, 'vasopressin': 27, 'amylas': 17, 'glucos': 82, 'cpr': 32, 'second': 40, 'chemistri': 16, 'q': 136, 'simultan': 2, 'hypertens': 82, 'support': 171, 'qday': 4, 'agre': 84, 'complaint': 68, 'bolus': 98, 'time': 188, 'pip': 58, 'point': 75, 'levofloxacin': 40, 'hpi': 58, 'caucasian': 2, 'distant': 27, 'shock': 66, 'place': 196, 'deliveri': 63, 'unsuccess': 37, 'answer': 59, 'etiolog': 57, 'admit': 194, 'atenolol': 4, 'med': 141, 'retrocardiac': 50, 'prevent': 35, 'imag': 136, 'trend': 68, 'ml': 99, 'murmur': 42, 'pedal': 41, 'physic': 72, 'bedsid': 127, 'aspirin': 11, 'angl': 28, 'ptx': 24, 'hcp': 52, 'ye': 42, 'organomegali': 4, 'member': 57, 'venou': 99, 'evid': 141, 'increas': 196, 'dextros': 11, ')': 229, 'note': 199, 'dose': 137, 'still': 115, 'resourc': 3, 'death': 42, 'earli': 73, 'prepar': 21, 'sepsi': 79, 'show': 131, 'rij': 35, 'acl': 4, 'sinu': 139, 'n': 70, 'underli': 79, 'adjust': 59, 'next': 81, 'boni': 11, 'ventil': 129, 'atrial': 90, 'ani': 142, 'current': 158, 'ap': 175, 'cvl': 42, 'appropri': 101, 'amount': 132, 'addict': 8, 'stress': 66, 'phone': 47, 'carina': 78, 'team': 141, 'code': 135, 'might': 41, 'previou': 172, 'yo': 75, 'allergi': 82, 'laundri': 1, 'work': 87, 'htn': 50, 'room': 70, 'despit': 90, 'minut': 91, 'pneumothorax': 118, 'notabl': 38, 'hr': 189, 'upright': 57, 'pmh': 78, 'e': 64, 'degre': 47, 'metabol': 52, 'health': 39, 'hous': 20, 'encourag': 43, 'effus': 183, 'also': 175, 'cough': 125, 'hold': 90, 'privat': 7, 'renal': 107, 'would': 127, 'primari': 43, 'dure': 114, 'growth': 28, 'detail': 69, 'unremark': 66, 'ulcer': 81, 'homemak': 1, 'ast': 48, 'home': 99, 'involv': 85, 'defer': 39, 'heart': 157, 'jvp': 18, 'bpm': 102, 'rel': 59, 'port': 83, 'low': 172, 'stabl': 177, '>': 160, 'portion': 101, 'rebound': 8, 'edema': 182, 'grief': 2, 'wean': 118, 'urin': 165, 'mandat': 6, 'pcv': 14, 'cultur': 100, 'pneumoboot': 25, 'sick': 18, 'review': 135, 'epi': 11, 'c': 177, 'lower': 166, 'lobe': 142, 'employ': 7, 'contour': 68, 'bowel': 151, 'svc': 87, 'peep': 106, 'arrest': 27, 'clear': 163, 'latest': 34, 'hemoglobin': 2, 'react': 10, 'comfort': 153, 'pace': 23, 'rsccvl': 1, 'cc': 156, 'gave': 34, 'pinpoint': 12, 'rn': 94, 'refer': 33, 'lt': 48, 'tongu': 13, 'afebril': 105, 'vss': 32, 'greater': 60, 'dampen': 14, 'drawn': 63, 'suction': 118, 'light': 49, 'shift': 155, 'less': 111, 'inc': 43, 'minimum': 7, 'accomod': 1, 'extub': 74, 'perform': 96, 'back': 136, 'oral': 113, 'whole': 8, 'alo': 24, 'detect': 32, 'breast': 10, 'sluggish': 21, 'observ': 25, 'labil': 29, 'wheez': 83, 'antifung': 13, 'restless': 42, 'sequenti': 2, 'lll': 64, 'le': 32, 'swith': 2, 'ectopi': 98, 'appli': 83, 'adequ': 106, 'oil': 2, 'better': 80, 'nonpurpos': 6, 'prn': 116, 'dk': 11, 'veri': 152, 'purpos': 60, 'v': 104, 'feet': 45, 'sxning': 8, 'intermitt': 72, 'gm': 40, 'tlcl': 13, 'close': 83, 'vt': 87, 'minim': 147, 'sore': 18, 'effect': 131, 'discourag': 4, 'resolv': 86, 'mod': 71, 'mental': 66, 'spite': 5, 'coccxi': 2, 'perrl': 55, 'inplac': 5, 'abx': 116, \"'s\": 184, 'night': 104, 'stimul': 61, 'ineffect': 13, 'secret': 124, 'scant': 72, 'decis': 96, 'iv': 179, 'sent': 125, 'hourli': 26, 'gu': 110, 'contract': 18, 'cream': 38, 'expect': 54, 'ooz': 40, 'warm': 77, 'amber': 39, 'dark': 43, 'tonoc': 2, 'heme': 57, 'cmo': 94, 'sm': 64, 'bacteri': 27, 'bite': 19, 'equal': 41, 'pend': 113, 'impair': 47, 'psv': 59, 'perrla': 25, 'grimac': 39, 'bolu': 108, 'abd': 152, 'radial': 94, 'size': 143, 'hernia': 19, 'vers': 68, 'throughout': 145, 'voic': 72, 'push': 19, 'pvc': 73, 'made': 180, 'morphin': 100, 'sedat': 109, 'heparin': 77, 'wrist': 41, 'unsupport': 1, 'diminish': 103, 'cpap': 63, 'ms': 81, 'done': 111, 'pressur': 128, 'vesta': 15, 'gi': 145, 'yellow': 111, 'foley': 142, 'copiou': 49, 'cont': 170, 'carevu': 68, 'turn': 98, 'episod': 87, 'alin': 53, 'doe': 135, 'piv': 61, 'sicu': 27, 'anemia': 34, 'dress': 52, 'mdi': 53, 'hm': 2, 'tol': 66, 'often': 14, 'nacl': 5, 'squeez': 16, 'drainag': 53, 'obes': 32, 'micro': 24, 'alert': 78, 'wash': 14, 'held': 86, 'npn': 76, 'waveform': 34, 'aeb': 1, 'sx': 69, 'crackl': 86, 'posit': 166, 'gulteal': 1, 'agit': 74, 'threat': 2, 'dim': 36, 'track': 29, \"'d\": 89, 'wheezi': 10, 'bloodi': 50, 'protud': 1, 'atrov': 43, 'dnr': 138, 'otherwis': 100, 'overbreath': 38, 'dni': 104, 'slightli': 131, 'limit': 122, 'residu': 83, 'self': 42, 'ting': 58, 'chng': 1, 'temp': 102, 'move': 96, 'ac': 81, 'treat': 105, 'palpat': 34, 'dri': 78, 'matter': 21, 'nontend': 28, 'eye': 117, 'sampl': 32, 'via': 117, 'vanc': 53, 'neuro': 134, 'exp': 45, 'abl': 122, 'advanc': 92, 'lubric': 3, 'respir': 45, 'respons': 149, 'bloodcultur': 1, 'command': 117, 'moder': 161, 'bm': 86, 'stage': 53, 'riss': 39, 'notic': 16, 'inhal': 21, 'simv': 6, 'throat': 62, 'layer': 27, 'tlcvl': 1, 'administ': 63, 'vpace': 4, 'cmv': 52, 'doppler': 86, 'meet': 105, '@': 110, 'wnl': 82, 'buttock': 26, 'reveal': 64, 'ls': 113, 'duoderm': 30, 'thick': 126, 'foam': 5, 'tylenol': 66, 'awar': 125, 'ii': 20, 'success': 48, 'slough': 5, 'flexion': 3, 'site': 79, 'hand': 62, 'nt': 60, 'gluteal': 4, 'maintain': 122, 'bleed': 77, 'fecal': 16, 'allevyn': 8, 'rsbi': 63, 'expriatori': 1, 'updat': 107, 'hypoact': 70, 'rec': 75, 'touch': 41, 'reassess': 30, 'toler': 128, 'open': 98, 'reciev': 38, 'gum': 6, 'epiderm': 1, 'fs': 45, 'vs': 106, 'virtual': 4, 'due': 169, 'pale': 39, 'skin': 153, 'rest': 85, 'forearm': 8, 'call': 139, 'sxn': 44, 'restraint': 44, 'respond': 111, 'make': 108, 'rsc': 8, 'art': 29, 'occ': 56, 'goal': 116, 'page': 48, 'see': 148, 'frequent': 92, 'pain': 164, 'soap': 7, 'poc': 35, 'movement': 112, 'quadrant': 40, 'clean': 36, 'cmx': 3, 'discomfort': 59, 'order': 129, 'base': 165, 'btwn': 2, 'cefepim': 27, 'patent': 97, 'output': 108, 'reach': 30, 'mae': 51, 'exit': 9, 'flovent': 7, 'fld': 14, 'amt': 126, 'suggest': 133, 'stop': 93, 'occasion': 89, 'approx': 62, 'rang': 76, 'sed': 23, 'remain': 193, 'vent': 103, 'vari': 13, 'sc': 42, 'ps': 81, 'blink': 5, 'rla': 2, 'freq': 42, 'lo': 43, 'reflex': 33, 'arm': 78, 'ogt': 71, 'mm': 122, 'sometim': 16, 'overnoc': 38, 'gag': 45, 'billiou': 1, 'coccyx': 61, 'lot': 16, 'decreas': 161, 'tx': 72, 'good': 119, 'rt': 68, 'urinari': 29, 'drowsi': 4, 'nsr': 75, 'infarct': 60, 'hosp': 10, 'em': 11, 'maintan': 1, \"''\": 67, 'conduct': 21, 'golden': 13, 'dilt': 15, 'forget': 3, 'occa': 24, 'specif': 89, 'diffus': 115, 'diarrhea': 27, 'ago': 44, 'id': 116, 'cap': 24, 'sta': 2, 'floor': 64, 'slept': 28, 'hurt': 1, 'historian': 1, 'mushroom': 13, 'confus': 41, 'essenti': 47, 'margin': 43, 'stand': 42, 'myocardi': 38, 'nap': 13, 'twice': 17, 'ble': 16, 'sip': 20, 'afib': 54, 'longer': 43, 'ra': 68, 'precordi': 18, 'take': 85, 'hostil': 1, 'transit': 44, 'oxycontin': 3, 'grand': 5, 'wk': 9, 'paranoid': 2, 'orient': 78, 'convert': 25, 'cta': 47, 'flagyl': 52, 'hyperact': 5, 'diff': 53, 'anterolater': 3, 'believ': 16, 'away': 28, 'safeti': 33, 'flare': 6, 'yesterday': 99, 'coumadin': 19, 'chronic': 93, 'trace': 131, 'possibl': 165, 'overnight': 110, 'lopressor': 54, '``': 74, 'oder': 3, 'af': 32, 'liquid': 60, 'neg': 110, 'late': 33, 'upstair': 1, 'pass': 86, 'intrins': 7, 'affect': 16, 'foleu': 1, 'unclear': 60, 'vein': 73, 'gallston': 13, 'extra': 24, 'kidney': 58, 'esophagu': 19, 'air': 121, 'hepatopathi': 1, 'ascit': 36, 'mild': 132, 'side': 145, 'measur': 128, 'almost': 18, 'tachypnea': 53, 'secondari': 79, 'contrast': 102, 'cirrhosi': 10, 'overal': 100, 'within': 111, 'scatter': 47, 'routin': 20, 'lethargi': 14, 'date': 125, 'paranas': 18, 'us': 62, 'periventricular': 13, 'white': 79, 'ge': 14, 'nuclei': 1, 'obstruct': 80, 'indic': 183, 'preserv': 24, 'portal': 20, 'vascular': 117, 'allow': 66, 'echotextur': 3, 'slight': 83, 'slow': 50, 'microvascular': 7, 'eval': 127, 'persist': 117, 'axial': 46, 'focal': 69, 'contraind': 61, 'ischemia': 46, 'techniqu': 92, 'float': 4, 'gastric': 38, 'overload': 65, 'proxim': 44, 'common': 31, 'multifoc': 68, 'singl': 108, 'vessel': 34, 'markedli': 26, 'lft': 27, 'atelectasi': 97, 'silhouett': 84, 'supin': 58, 'ventricular': 95, 'structur': 66, 'organ': 59, 'lesion': 61, 'biliari': 21, 'flow': 108, 'mayb': 8, 'tissu': 49, 'malposit': 10, 'identifi': 69, 'segment': 37, 'hydronephrosi': 24, 'intra': 29, 'ball': 3, 'irregular': 25, 'thirteen': 2, 'invers': 16, 'intracrani': 27, 'duct': 13, 'path': 4, 'oxygen': 102, 'nonshadow': 1, 'coil': 16, 'subcort': 3, 'foci': 5, 'osseou': 43, 'attenu': 12, 'diagnost': 41, 'man': 120, 'chf': 75, 'complet': 103, 'cours': 98, 'lacunar': 8, 'liver': 57, 'colon': 41, 'overt': 13, 'cell': 58, 'bile': 20, 'gallbladd': 35, 'pulmonari': 179, 'rotat': 36, 'surround': 29, 'fundu': 9, 'midlin': 54, 'ultrasound': 50, 'hemorrhag': 59, 'locat': 73, 'apex': 37, 'avl': 7, 'antegrad': 2, 'inspir': 7, 'junction': 68, 'ngt': 69, 'associ': 51, 'find': 179, 'lentiform': 1, 'sinus': 23, 'patholog': 27, 'mastoid': 22, 'hypopharynx': 2, 'mark': 67, 'sludg': 5, 'reslut': 1, 'wish': 78, 'grade': 35, 'yankauer': 5, 'febril': 33, 'ho': 53, 'whether': 21, 'mso': 46, 'accept': 44, 'result': 115, 'ax': 33, 'english': 8, '^': 31, 'piec': 6, 'levoph': 68, 'systol': 99, 'ob': 25, 'await': 92, 'onc': 87, 'uncomfort': 40, 'deminish': 10, \"'\": 36, 'gauz': 8, 'request': 90, 'firm': 37, 'brown': 74, 'rll': 66, 'male': 76, 'mgm': 7, 'sy': 20, 'tickl': 1, 'rectal': 51, \"n't\": 38, 'front': 6, 'reposit': 70, 'per': 161, 'risb': 2, 'pnx': 13, 'abdomin': 99, 'vea': 25, 'bring': 13, 'congest': 78, 'local': 32, 'relief': 29, 'ativan': 65, 'chart': 32, 'convers': 34, 'liquidi': 2, 'labor': 45, 'transfer': 91, 'facial': 20, 'pmicu': 20, 'nsg': 54, 'airway': 80, 'tan': 80, 'ett': 98, 'clariti': 3, 'green': 37, 'extend': 60, 'nose': 55, 'institut': 7, 'round': 66, 'ab': 22, 'suport': 3, 'sl': 26, 'nevertheless': 3, 'numer': 20, 'prbc': 51, 'hiatal': 9, 'nod': 42, 'volvulu': 1, 'rd': 14, 'therapi': 87, 'cancer': 41, 'simpl': 70, 'titrat': 106, 'fo': 12, 'calm': 29, 'spasm': 3, 'period': 73, 'max': 69, 'mn': 41, 'object': 62, 'integ': 18, 'fair': 32, 'bue': 12, 'risk': 62, 'diuresi': 42, 'liter': 80, 'unrestrain': 8, 'stim': 13, 'alarm': 28, 'metrondiazol': 1, 'hd': 40, 'perla': 15, 'dc': 63, 'thisk': 1, 'obey': 11, 'rsmall': 1, 'dd': 3, 'palpabl': 33, 'pheripher': 1, 'pl': 28, 'tubefeed': 3, 'givn': 5, 'somewhat': 53, 'uop': 56, 'patchi': 41, 'concentr': 25, 'edemat': 27, 'fail': 55, 'outsid': 15, 'grim': 6, 'respalor': 2, 'red': 55, 'dulcolax': 10, 'bcx': 13, 'awak': 62, 'follw': 7, 'cabg': 17, 'area': 117, 'partial': 53, 'becom': 80, 'thought': 39, 'get': 98, 'mrsa': 35, 'fragil': 7, 'spike': 28, 'nuero': 7, 'rare': 52, 'cathart': 2, 'respirtori': 2, 'fi': 37, 'space': 48, 'far': 40, 'pocket': 6, 'spont': 27, 'lay': 5, 'uprbc': 14, 'kick': 5, 'option': 36, 'letharg': 49, 'middl': 32, 'ah': 3, 'prolong': 38, 'gross': 16, 'metronidazol': 16, 'paraesophag': 2, 'svt': 24, 'cx': 85, 'eve': 35, 'bath': 19, 'siderail': 6, 'feed': 87, 'window': 33, 'heavi': 14, 'sourc': 62, 'extremit': 8, 'pneumon': 20, 'precaut': 63, 'reduc': 42, 'fluctuat': 14, 'whiteish': 1, 'bulki': 2, 'multi': 47, 'respalo': 1, 'inconsist': 15, 'organo': 1, 'hypoattenu': 7, 'bow': 3, 'proceedur': 1, 'sediment': 37, 'suppositori': 4, 'senna': 24, 'pleas': 158, 'lasix': 72, 'amintain': 1, 'verbal': 82, 'leg': 46, 'obviou': 39, 'anasarca': 31, 'bronch': 44, 'board': 19, 'run': 62, 'benefit': 36, 'look': 56, 'alter': 52, 'subclavian': 51, 'stimuli': 104, 'lymphadenopathi': 34, 'housestaff': 8, 'reactiv': 47, 'pleuracentesi': 1, 'necrot': 12, 'mediastin': 83, 'ivb': 9, 'collaps': 55, 'staff': 47, 'noo': 1, 'climb': 16, 'fever': 94, 'cn': 10, 'tko': 2, 'cuff': 52, 'viabl': 3, 'bibasilar': 66, 'probabl': 114, 'restart': 75, 'cardio': 15, 'pronounc': 64, '^^': 11, 'bid': 14, 'toilet': 45, 'half': 17, 'unev': 22, 'ad': 62, 'cpa': 2, 'mostli': 31, 'nd': 51, 'obj': 1, 'focu': 47, 'vanco': 109, 'optiray': 24, 'color': 97, 'colac': 37, 'tripl': 31, 'ionic': 3, 'ask': 75, 'said': 27, 'broncial': 2, 'contain': 19, 'repond': 2, 'pull': 66, 'mv': 28, 'ks': 3, 'shake': 26, 'facil': 12, 'tv': 58, 'grab': 5, 'obstruc': 1, 'uo': 65, 'tire': 18, 'ealier': 1, 'gather': 5, 'gen': 32, 'senekot': 2, 'tri': 79, 'modest': 8, 'noxiou': 28, 'larg': 137, 'spo': 97, 'invas': 69, 'priest': 27, 'careview': 34, 'antb': 5, 'wiggl': 6, 'hemolyz': 1, 'go': 68, 'sheet': 37, 'darker': 2, 'although': 95, 'unit': 90, 'doze': 10, 'purpl': 16, 'came': 51, 'diseas': 118, 'pearl': 11, 'sd': 5, 'hypotent': 6, 'narr': 9, 'respon': 5, 'gd': 10, 'postobstruct': 3, 'togeth': 9, 'integr': 35, 'inconsistantli': 4, 'andswer': 1, 'mechan': 69, 'even': 100, 'stabil': 29, 'neoplasm': 10, 'regard': 83, 'prognosi': 67, 'visibl': 30, 'enlarg': 79, 'kickinga': 1, 'airspac': 43, 'sine': 1, 'complex': 26, 'lg': 38, 'maximum': 7, 'ing': 10, 'overinfl': 3, 'rhonchi': 68, 'thrush': 8, 'bronchodil': 14, 'biopsi': 15, 'respalar': 1, 'remin': 3, 'icreas': 1, 'approp': 5, 'ther': 3, 'pmd': 1, 'cad': 41, 'suct': 18, 'poorli': 33, 'ray': 54, 'restaint': 2, 'tl': 7, 'noc': 36, 'immobl': 3, 'peerla': 4, 'reccomend': 3, 'necrosi': 7, 'inflat': 9, 'pndg': 3, 'motion': 58, 'arous': 60, 'earlier': 100, 'thorax': 16, 'coronari': 34, 'risen': 1, 'toe': 24, 'difficult': 119, 'easili': 44, 'opacif': 92, 'bone': 34, 'high': 133, 'thru': 14, 'hemodyn': 2, 'pulm': 97, 'tachycard': 47, 'pox': 6, 'respolar': 2, 'thu': 32, 'dead': 22, 'loop': 48, 'background': 12, 'sleep': 84, 'put': 55, 'pit': 29, 'vsl': 1, 'degrad': 4, 'suspici': 28, 'littl': 91, 'help': 71, 'begin': 59, 'obscur': 41, 'bronchoscopi': 30, 'opacifi': 12, 'withdraw': 68, 'activ': 71, 'lumen': 74, 'perl': 27, 'doxycyclin': 2, 'plateau': 43, 'avail': 65, 'nasogastr': 79, 'vomit': 30, 'tear': 34, 'saturday': 10, 'fiber': 16, 'desatur': 58, 'paradox': 13, 'interstiti': 59, 'fb': 18, 'borderlin': 49, 'combiv': 13, 'lrge': 1, 'sharp': 13, 'hard': 23, 'vol': 44, 'synch': 8, 'constantli': 11, 'pan': 30, 'decison': 1, 'levoflox': 29, 'three': 35, 'nonspecif': 26, 'let': 19, 'hx': 59, 'strong': 37, 'ensur': 15, 'grandchildren': 2, 'antibx': 39, 'pb': 3, 'becaus': 42, 'bye': 6, 'divid': 10, 'fibrosi': 20, 'kq': 2, 'talk': 52, 'settl': 27, 'mildli': 76, 'accord': 30, 'lpm': 5, 'overli': 45, 'difficulti': 61, 'cre': 7, 'word': 24, 'satisfactori': 23, 'mattress': 13, 'pictur': 20, 'yest': 13, 'mortem': 12, 'definit': 48, 'infil': 1, 'aprv': 4, 'wife': 53, 'mask': 66, 'ild': 5, 'criteria': 18, 'healthi': 5, 'asystol': 33, 'cpt': 34, 'tomorrow': 65, 'calcifi': 33, 'incr': 10, 'wors': 53, 'give': 77, 'acv': 10, 'beyond': 23, 'trach': 40, 'theraput': 2, 'face': 59, 'bo': 5, 'tent': 28, 'contempl': 1, 'hardwar': 6, 'complianc': 30, 'agreement': 26, 'wrote': 7, 'remai': 2, 'functin': 1, 'hypoxia': 104, 'coocyx': 1, 'continnu': 2, 'quickli': 45, 'young': 1, 'reportedli': 16, 'iliac': 10, 'depth': 4, 'lighter': 2, 'desat': 66, 'paramet': 27, 'letter': 4, 'soon': 21, 'dramat': 8, 'respondibng': 1, 'tracheostomi': 33, 'bb': 33, 'lnc': 14, 'way': 32, 'yet': 46, 'comlet': 1, 'extent': 39, 'contist': 1, 'instabl': 24, 'sump': 3, 'treatment': 90, 'swell': 22, 'kcl': 40, 'toliet': 5, 'mad': 4, 'ngtd': 22, 'excel': 15, 'life': 29, 'cl': 19, 'redden': 25, 'plug': 43, 'rebolu': 1, 'haldol': 21, 'problem': 55, 'ectub': 1, 'steadili': 3, 'everyth': 9, 'crest': 1, 'belli': 8, 'dysynchroni': 34, 'zone': 30, 'anesthesia': 29, 'notifi': 87, 'autoflow': 28, 'therapeut': 36, 'teen': 29, 'decidd': 1, 'levo': 67, '&': 126, 'dispo': 43, 'narcot': 13, 'pink': 49, 'grandson': 6, 'centimet': 12, 'rectum': 26, 'evelv': 1, 'tlc': 31, 'quit': 28, 'lavag': 30, 'reevalu': 12, 'movment': 3, 'pap': 18, 'summeri': 1, 'moment': 10, 'nrb': 46, 'na': 39, 'pulmon': 32, 'promot': 19, 'azygo': 4, 'spon': 11, 'becam': 89, 'surgic': 44, 'alveolar': 33, 'bilat': 73, 'comfirm': 1, 'og': 51, 'knob': 3, 'sbt': 31, 'alreadi': 27, 'totol': 1, 'maew': 4, 'befor': 76, 'perihilar': 37, 'breathsound': 5, 'mainli': 12, 'remov': 110, 'term': 43, 'loos': 52, 'shoulder': 19, 'began': 33, 'bun': 98, 'reintub': 19, 'fe': 6, 'tachypn': 56, 'breakdown': 46, 'shortli': 15, 'fib': 47, 'substanti': 44, 'satur': 48, 'ensu': 2, 'interact': 22, 'lightli': 16, 'confort': 4, 'regimin': 4, 'mcq': 15, 'node': 33, 'pattern': 79, 'intens': 5, 'incres': 2, 'pursu': 19, 'center': 17, 'tenuou': 24, 'oj': 1, 'chaplain': 5, 'age': 21, 'occassion': 12, 'babi': 2, 'mgx': 3, 'fine': 24, 'induc': 23, 'potenti': 48, 'incont': 9, 'children': 24, 'hypox': 45, 'compr': 1, 'watch': 16, 'balloon': 14, 'inflam': 4, 'alseep': 1, 'els': 8, 'guardian': 6, 'fungal': 19, 'rail': 3, 'fluconazol': 9, 'diet': 57, 'lorazepam': 16, 'nrbm': 4, 'lunch': 4, 'palp': 15, 'zosyn': 67, 'cathol': 8, 'bacitracin': 1, 'atrium': 66, 'anxieti': 44, 'axitey': 1, 'syrup': 2, 'psi': 6, 'apart': 5, 'antecub': 4, 'lnp': 4, 'endo': 54, 'specimen': 22, 'cannula': 38, 'fx': 10, 'np': 15, 'custard': 3, 'sugar': 32, 'magso': 2, 'occular': 1, 'decr': 6, 'unsaf': 3, 'surviv': 11, 'amnt': 2, 'descis': 1, 'guid': 28, 'plu': 13, 'fsb': 18, 'punctur': 15, 'nr': 5, 'sync': 7, 'send': 38, 'incontin': 19, 'lat': 11, 'obatin': 2, 'spanish': 3, 'cramp': 1, 'tfr': 1, 'especi': 22, 'food': 18, 'noon': 29, 'ice': 10, 'nasal': 59, 'fa': 8, 'dip': 12, 'whi': 15, 'minor': 8, 'vision': 12, 'tolarg': 1, 'softli': 24, 'save': 3, 'exurt': 1, 'disori': 7, 'azithromycin': 22, 'listen': 5, 'peac': 12, 'cdiff': 19, 'wind': 1, 'closer': 4, 'ss': 31, 'fro': 7, 'codein': 8, 'lost': 7, 'procedur': 99, 'weepi': 2, 'sedimen': 2, 'pr': 49, 'water': 54, 'implant': 2, 'mother': 27, 'sob': 79, 'address': 43, 'sister': 43, 'slowli': 52, 'overcom': 2, 'spell': 4, 'assign': 4, 'accessori': 31, 'muscl': 58, 'pnd': 27, 'tommorrow': 9, 'sporad': 2, 'heplock': 6, 'guaifenesin': 3, 'quad': 12, 'welfar': 1, 'fingerstick': 17, 'wear': 10, 'ox': 23, 'anxiou': 53, 'straight': 3, 'qhr': 5, 'juic': 5, 'doubl': 34, 'pcp': 36, 'recov': 26, 'shovel': 10, 'eat': 26, 'kid': 2, 'deteri': 1, 'bedpan': 4, 'aunt': 2, 'free': 97, 'qod': 4, 'mention': 20, 'enc': 5, 'lack': 28, 'mani': 40, 'exert': 9, 'hiflow': 4, 'deficit': 14, 'asleep': 14, 'appetit': 13, 'antigen': 11, 'fruit': 1, 'gluc': 5, 'caus': 63, 'isol': 16, 'fell': 16, 'picc': 59, 'return': 91, 'reorient': 15, 'chip': 5, 'bit': 22, 'financila': 1, 'fm': 15, 'stat': 21, 'fit': 5, 'xray': 28, 'felt': 44, 'moniotr': 4, 'visitor': 13, 'npc': 5, 'retinopathi': 1, 'pn': 6, 'void': 21, 'machin': 13, 'reg': 28, 'bay': 1, 'coverag': 67, 'bigger': 2, 'cover': 72, 'hiv': 5, 'pag': 3, 'gaurdianship': 1, 'draw': 44, 'basil': 12, 'frequenc': 13, 'hyponatremia': 6, 'aaox': 2, 'anywher': 4, 'trigger': 39, 'dopa': 7, 'througout': 5, 'ass': 9, 'ect': 5, 'carinii': 2, 'episdo': 1, 'pu': 2, 'intak': 43, 'humidifi': 12, 'name': 30, 'much': 83, 'replac': 55, 'nonproduct': 10, 'sleev': 3, 'stamp': 1, 'nonprod': 2, 'neb': 70, 'softner': 1, 'shallow': 21, 'pleurit': 4, 'restr': 2, 'poss': 21, 'awaken': 14, 'confirm': 83, 'duski': 10, 'confluent': 23, 'ppn': 4, 'ltr': 1, 'soc': 21, 'dyspneic': 9, 'coliti': 19, 'membran': 10, 'induct': 3, 'mucou': 35, 'thank': 19, 'leav': 26, 'assum': 10, 'hover': 5, 'pneumocysti': 5, 'stick': 48, 'tone': 60, 'five': 3, 'barrier': 38, 'fire': 2, 'tannish': 8, 'secur': 31, 'creation': 1, 'cbc': 21, 'dysfunct': 42, 'quiac': 5, 'cava': 25, '^^wob': 2, 'hep': 31, 'extext': 3, 'soften': 3, 'guidewir': 10, 'cal': 13, 'dced': 3, 'chged': 1, 'quentin': 1, 'ideal': 40, 'branch': 34, 'venopunctur': 2, 'axillari': 42, 'resum': 37, 'hit': 14, 'upon': 57, 'ef': 43, 'blb': 9, 'explain': 46, 'jerki': 1, 'precis': 4, 'spt': 2, 'say': 34, 'contin': 12, 'mexiliten': 1, 'semi': 40, 'pill': 13, 'shown': 12, 'interpret': 59, 'aloevesta': 2, 'valv': 58, 'septal': 28, 'amiodaron': 22, 'clot': 41, 'wire': 36, 'seriou': 7, 'streak': 10, 'focus': 27, 'jeopard': 1, 'tract': 17, 'leaflet': 39, 'mexiletin': 1, 'peel': 16, 'tortuou': 13, 'th': 19, 'damp': 4, 'dual': 14, 'dsg': 34, 'fellow': 39, 'oett': 15, 'predominantli': 25, 'leak': 50, 'afeb': 20, 'height': 77, 'interrog': 1, 'postion': 4, 'cleans': 18, 'reseal': 1, 'mlc': 2, \"'ll\": 1, 'util': 19, 'edg': 6, 'revis': 9, 'hemothorax': 6, 'aquasel': 1, 'tte': 46, 'till': 19, 'restrain': 17, 'regurgit': 42, 'ivp': 56, 'thicken': 66, 'fentanyl': 79, 'drape': 15, 'subcutan': 23, 'citrat': 6, 'seal': 17, 'lb': 38, 'needl': 13, 'pacemak': 15, 'reduct': 13, 'hrli': 2, 'dermabond': 1, 'aerat': 47, 'adequato': 1, 'creat': 70, 'bsa': 32, 'cardiolog': 24, 'usual': 31, 'vena': 25, 'wound': 32, 'kinair': 7, 'hydrocortison': 11, 'multipodu': 8, 'fulli': 38, 'alleyvn': 1, 'either': 36, 'sero': 3, 'radiologist': 17, 'hypokinesi': 25, 'beat': 46, 'wob': 31, 'rx': 36, 'lascer': 1, 'complic': 61, 'consent': 39, 'technic': 50, 'emerg': 28, 'interatri': 30, 'steril': 25, 'pfr': 7, 'prolen': 1, 'xylocain': 1, 'graft': 9, 'sutur': 17, 'hemhroid': 1, 'tape': 21, 'inpati': 43, 'french': 20, 'equivoc': 6, 'crrt': 11, 'lyte': 79, 'rv': 38, 'ventricl': 59, 'guiac': 20, 'daili': 72, 'consumpt': 2, 'load': 27, 'readjust': 6, 'hytap': 1, 'patenc': 9, 'cyu': 6, 'acidot': 23, 'ica': 6, 'coarser': 1, 'rib': 15, 'dialysi': 41, 'bacteremia': 10, 'moistur': 7, 'pla': 1, 'readi': 37, 'vtach': 15, 'inch': 46, 'anticip': 21, 'prep': 20, 'hemodi': 2, 'armboard': 1, 'ip': 27, 'cp': 29, 'corneal': 18, 'suboptim': 28, 'compens': 21, 'attent': 41, 'plaement': 1, 'switch': 47, 'pacer': 12, 'belong': 14, 'insomnia': 4, 'dsd': 18, 'standard': 78, 'anatomi': 5, 'fluoro': 13, 'absorbs': 1, 'anyth': 17, 'ppi': 49, 'jerk': 4, 'wide': 35, 'obvious': 6, 'direct': 38, 'supervis': 12, 'assessment': 1, 'aorta': 65, 'accompani': 24, 'cvvh': 17, 'lv': 38, 'adapt': 13, 'tele': 18, 'everi': 29, 'chge': 1, 'sch': 11, 'micropunctur': 11, 'toxic': 17, 'overnit': 3, 'midnit': 2, 'project': 53, 'heel': 14, 'scrub': 1, 'deterior': 30, 'entri': 9, 'dsging': 1, 'flush': 45, 'wo': 6, 'dup': 4, 'adaptic': 1, 'stuck': 5, 'bundl': 29, 'cvvhd': 14, 'deliv': 12, 'qualiti': 54, 'thin': 69, 'hg': 52, 'syst': 1, 'tap': 21, 'melanot': 1, 'number': 30, 'weep': 16, 'documetn': 1, 'lido': 2, 'angiograph': 9, 'anti': 22, 'transven': 4, 'paper': 6, 'hemodialysi': 16, 'duplex': 10, 'qid': 24, 'guidanc': 19, 'pulseless': 6, 'percutan': 4, 'aquacel': 6, 'lock': 4, 'ccu': 13, 'reject': 1, 'temperatur': 28, 'asymmetr': 24, 'gr': 10, 'femor': 39, 'sux': 5, 'inject': 19, 'greatli': 8, 'cvvhdf': 6, 'mitral': 44, 'pericardium': 39, 'mortum': 4, 'thoracentesi': 21, 'vasopressor': 21, 'fibril': 54, 'supervisig': 1, 'iintub': 1, 'tell': 11, 'fractur': 25, 'configur': 8, 'blade': 2, 'fairli': 21, 'rxed': 1, 'unchg': 1, 'defibril': 10, 'tabl': 14, 'replct': 10, 'bil': 39, 'superior': 42, 'fent': 46, 'weight': 86, 'oh': 1, 'lift': 7, 'decub': 12, 'bigemini': 8, 'mech': 17, 'sput': 14, 'cath': 77, 'told': 18, 'cavoatri': 28, 'knee': 8, 'clearer': 12, 'ar': 28, 'sanguin': 6, 'steroid': 42, 'tid': 31, 'chg': 9, 'poe': 10, 'lump': 2, 'toward': 45, 'wall': 84, 'screen': 24, 'surgigel': 3, 'lidocain': 19, 'rrt': 16, 'lessen': 4, 'septum': 33, 'opsit': 2, 'nite': 2, 'desynchroni': 1, 'pneumo': 13, 'depart': 8, 'gel': 9, 'ir': 24, 'fluoroscop': 18, 'sternal': 18, 'co': 66, 'nutren': 25, 'crit': 15, 'diminsh': 13, 'suppport': 6, 'ecchymot': 9, 'aicd': 3, 'rusti': 9, 'bypass': 7, 'vassopressin': 2, 'agon': 24, 'posterior': 48, 'conclus': 47, 'plct': 10, 'particip': 14, 'moist': 14, 'prednison': 22, 'cardiomegali': 48, 'neosynephrin': 18, 'fashion': 16, 'incis': 9, 'deep': 40, 'chamber': 21, 'tunnel': 8, 'test': 65, 'fem': 19, 'grossli': 46, 'reappli': 3, 'necessari': 40, 'sheath': 21, 'great': 28, 'bagdsd': 1, 'clacium': 1, 'administr': 37, 'brownish': 11, 'sacral': 10, 'vitamin': 14, 'relax': 11, 'schedul': 36, 'spend': 5, 'protonix': 38, 'chanc': 7, 'finger': 44, 'woud': 1, 'jp': 4, 'serou': 26, 'yankaur': 7, 'caludin': 1, 'evel': 2, 'gentli': 7, 'bilou': 3, 'estrem': 1, 'intrus': 1, 'languag': 14, 'scl': 4, 'tmap': 1, 'grayish': 3, 'hesit': 3, 'perfus': 24, 'licw': 2, 'placemen': 1, 'bright': 12, 'rewir': 3, 'glu': 8, 'clamp': 24, 'glucon': 13, 'emesi': 21, 'battl': 1, 'cooler': 4, 'reconcil': 1, 'quintin': 2, 'ctic': 1, 'upc': 1, 'lingular': 3, 'import': 9, 'aggreement': 1, 'best': 29, 'weekend': 21, 'fluc': 2, 'occur': 34, 'purul': 9, 'sacrum': 13, 'coag': 26, 'sad': 5, 'quinton': 3, 'bld': 25, 'exhaust': 4, 'suit': 6, 'mulitpl': 3, 'foul': 5, 'rhonchor': 43, 'shut': 28, 'nearli': 10, 'twenti': 4, 'ethic': 8, 'requirin': 1, 'minior': 2, 'unequ': 6, 'digit': 3, 'miss': 4, 'kvo': 22, 'rlle': 1, 'pac': 35, 'vaselin': 2, 'vigor': 15, 'pitressin': 7, 'patch': 28, 'cpncp': 1, 'appreci': 64, 'mucousi': 2, 'separ': 5, 'scrotum': 6, 'dicat': 1, 'manitain': 2, 'dra': 1, 'die': 31, 'length': 26, 'inciis': 1, 'wherea': 2, 'cloudi': 28, 'brb': 9, 'ear': 60, 'determin': 43, 'msi': 2, 'among': 6, 'tpa': 6, 'areaa': 1, 'gratitud': 3, 'frequet': 1, 'peri': 15, 'blue': 12, 'gib': 11, 'secreat': 24, 'heat': 2, 'sao': 25, 'diaphragm': 51, 'least': 44, 'compromis': 25, 'dtr': 28, 'hope': 41, 'content': 17, 'biliou': 25, 'multisystem': 5, 'ue': 21, 'attitud': 1, 'wed': 28, 'smaller': 23, 'portugues': 1, 'passiv': 3, 'esrd': 14, 'black': 11, 'apnea': 21, 'asp': 27, 'elimin': 7, 'tpn': 27, 'levoquin': 13, 'hugger': 20, 'recheck': 40, 'rise': 50, 'pray': 6, 'pick': 17, 'consid': 99, 'levof': 7, 'fasia': 1, 'preop': 1, 'follwo': 2, 'correct': 33, 'fingertip': 2, 'umbil': 2, 'palm': 1, 'collect': 43, 'nectot': 1, 'fri': 24, 'hungri': 7, 'surgeri': 45, 'heal': 18, 'ion': 3, 'hypotherm': 19, 'scan': 57, 'purluant': 1, 'bodi': 79, 'aid': 21, 'mtg': 27, 'incisin': 1, 'apneic': 12, 'briskli': 7, 'slogh': 1, 'declin': 66, 'assit': 2, 'fear': 8, 'accur': 15, 'br': 3, 'distal': 59, 'qd': 22, 'avpac': 2, 'pleth': 5, 'ultrafiltr': 4, 'dopp': 4, 'mucoid': 3, 'pager': 10, 'cyanot': 14, 'bare': 7, 'incison': 1, 'gromac': 1, 'gastrectomi': 1, 'etc': 32, 'dm': 23, 'stapl': 4, 'scrotal': 4, 'bair': 18, 'nml': 5, 'spiritu': 4, 'gase': 11, 'defib': 2, 'lengthli': 1, 'flagli': 1, 'unless': 12, 'butt': 2, 'realiti': 2, 'friendli': 1, 'neurolog': 63, 'near': 36, 'larger': 30, 'stiff': 11, 'escar': 1, 'rle': 5, 'fight': 3, 'tm': 12, 'tremor': 9, 'bg': 15, 'hypo': 22, 'delin': 4, 'uffp': 4, 'fore': 1, 'forehead': 4, 'adb': 1, 'wt': 7, 'trust': 2, 'step': 21, 'drb': 2, 'draing': 6, 'wonder': 3, 'tonight': 45, 'irrig': 15, 'first': 47, 'briefli': 35, 'plane': 7, 'meticul': 2, 'rue': 13, 'sctotum': 1, 'filter': 13, 'lle': 8, 'cagluc': 4, 'occl': 1, 'comress': 1, 'ioniz': 34, 'bilingu': 1, 'swollen': 14, 'drianag': 1, 'accesori': 2, 'exposur': 8, 'rom': 10, 'kept': 38, 'vnet': 1, 'lue': 18, 'fighter': 2, 'ie': 7, 'end': 90, 'levofloxicin': 1, 'describ': 38, 'refil': 6, 'futur': 27, 'convict': 1, 'lengthi': 5, 'lc': 9, 'bulb': 2, 'gelatin': 2, 'sec': 24, 'translat': 10, 'di': 5, 'towel': 4, 'wd': 3, 'brought': 32, 'linear': 11, 'av': 17, 'desir': 23, 'maroon': 8, 'infrequ': 12, 'mulit': 2, 'ffp': 24, 'lw': 9, 'alot': 7, 'empti': 6, 'depend': 55, 'pseudomona': 11, 'gradual': 21, 'reliev': 17, 'player': 1, 'troubl': 7, 'polymorph': 3, 'bradycard': 16, 'highli': 8, 'appar': 47, 'multipod': 1, 'advers': 12, 'atool': 1, 'bc': 20, 'bedrest': 4, 'symptomat': 6, 'sleepi': 6, 'photo': 1, 'lantu': 4, 'multip': 1, 'endocrin': 21, 'huge': 5, 'stare': 3, 'intercanula': 1, 'stoma': 5, 'coupl': 23, 'nois': 4, 'quiet': 33, 'syring': 8, 'addendeum': 1, 'aprox': 1, 'aggit': 12, 'shop': 1, 'stale': 1, 'spec': 31, 'door': 3, 'rigid': 7, 'glargen': 2, 'peg': 31, 'acidod': 2, 'motil': 13, 'herniat': 2, 'trail': 5, 'hy': 1, 'higher': 41, 'pa': 51, 'reflect': 49, 'neo': 37, 'iii': 13, 'shook': 2, 'pharm': 2, 'unsuccessful': 2, 'infreq': 2, 'slint': 1, 'awok': 3, 'ced': 11, 'sucion': 1, 'tarri': 2, 'nervous': 1, 'greenish': 11, 'stimulu': 13, 'clock': 4, 'unsustain': 2, 'cope': 25, 'glug': 1, 'grip': 5, 'main': 45, 'tirtat': 1, 'oth': 2, 'beinfit': 1, 'circuit': 7, 'shape': 7, 'decubitu': 15, 'rhonchial': 2, 'tachi': 31, 'freg': 2, 'gabapentin': 2, 'upset': 14, 'soda': 1, 'sours': 2, 'resolut': 29, 'asssess': 1, 'lie': 24, 'redraw': 5, 'nbp': 36, 'grin': 1, 'epo': 1, 'dialyz': 6, 'discoordin': 8, \"tf'ing\": 9, 'meanwhil': 1, 'portex': 6, 'granula': 1, 'canula': 6, 'break': 20, 'admin': 13, 'escal': 30, 'ashen': 4, 'gauard': 1, 'target': 10, 'inccreas': 1, 'dializ': 2, 'avoid': 31, 'stau': 5, 'ssi': 30, 'balnac': 1, 'sxtn': 3, 'neutrapho': 5, 'memori': 6, 'rrectal': 1, 'erythromycin': 6, 'woken': 4, 'compress': 52, 'nwith': 1, 'dyspnea': 53, 'rhochi': 1, 'drift': 13, 'excori': 11, 'perineum': 9, 'easi': 5, 'req': 18, 'resent': 4, 'worker': 22, 'bactrim': 18, 'puff': 2, 'sml': 13, 'auscult': 33, 'hypoglycem': 2, 'eas': 11, 'flsd': 1, 'snd': 9, 'finish': 11, 'yl': 1, 'account': 9, 'heard': 21, 'messag': 7, 'corrul': 1, 'reglan': 18, 'except': 94, 'chair': 17, 'challang': 1, 'uf': 35, 'discard': 4, 'dialysis': 2, 'erythro': 3, 'antibodi': 8, 'si': 5, 'unlik': 35, 'atro': 7, 'peak': 28, 'drsg': 11, 'properli': 11, 'superfici': 18, 'roommat': 1, 'hs': 11, 'achi': 1, 'refus': 32, 'saddl': 1, 'facilit': 14, 'valuabl': 21, 'transport': 48, 'sid': 1, 'subsid': 3, 'weaker': 5, 'gtube': 3, 'pp': 24, 'colleg': 1, 'gt': 7, 'skew': 1, 'periph': 4, 'oint': 2, 'valu': 36, 'protein': 30, 'heperin': 2, 'realli': 11, 'acknowledg': 10, 'correl': 59, 'relat': 81, 'quo': 2, '{': 64, 'stem': 11, 'minimali': 2, 'oincreas': 1, 'mf': 2, 'written': 31, 'ssri': 10, 'survail': 1, 'profoundli': 3, 'mobil': 10, 'seizur': 23, 'ambu': 15, 'warmer': 4, 'gentleman': 6, 'tue': 28, 'appropriatli': 7, 'hig': 3, 'kub': 19, 'dvd': 1, 'carevi': 1, 'drink': 10, 'catch': 1, 'accuraci': 3, 'absorb': 8, 'pigtail': 9, 'audibl': 25, 'prone': 6, 'chunki': 2, 'match': 7, 'town': 7, 'dialyisi': 1, 'sq': 44, 'rabbi': 6, 'somul': 4, 'part': 40, 'vioxx': 1, 'yel': 1, 'marroon': 1, 'write': 15, 'eccymoisi': 1, 'disscuss': 1, 'reasobali': 1, 'ok': 37, 'bout': 4, 'paco': 12, 'ach': 2, 'render': 3, 'delay': 32, 'dorsali': 9, 'cipro': 19, 'asynchron': 3, 'chem': 9, 'asymthomat': 1, 'hhad': 1, 'pvd': 14, 'minit': 1, 'resist': 28, 'hydrat': 23, 'mentat': 5, 'pseudamona': 1, 'build': 2, 'parti': 1, 'recal': 3, 'renmain': 1, 'discolor': 4, 'reserv': 12, 'coffe': 12, 'seret': 1, 'distract': 1, 'broncheal': 1, 'tend': 12, 'shoot': 1, 'foot': 17, 'sprint': 1, 'expans': 50, 'reaction': 40, 'mbp': 2, 'flatu': 17, 'clearanc': 7, 'inner': 10, 'nnpn': 1, 'douderm': 4, 'uq': 1, 'pgt': 3, 'perin': 3, 'trachesotomi': 1, 'someth': 8, 'suc': 1, 'tight': 13, 'withdrawn': 20, 'nausea': 28, 'nkda': 11, 'fifteen': 1, 'norepi': 7, 'promod': 5, 'environ': 11, 'absorbt': 2, 'exercis': 10, 'atr': 9, 'hob': 49, 'jitteri': 2, 'pad': 23, 'pul': 11, 'prayer': 8, 'ten': 3, 'strength': 19, 'ked': 1, 'hydrogen': 1, 'rul': 49, 'duederm': 1, 'integumentari': 13, 'sentenc': 7, 'prev': 8, 'sp': 17, 'true': 8, 'card': 42, 'week': 49, 'station': 3, 'emycin': 2, 'increaseda': 1, 'reincert': 1, 'nickel': 1, 'gain': 7, 'blanchabl': 2, 'msicu': 1, 'walk': 9, 'significantli': 58, 'reassur': 23, 'duodersm': 1, 'atc': 11, 'decent': 3, 'enjoy': 4, 'perianl': 1, 'adminsit': 1, 'ope': 2, 'glargin': 5, 'mouht': 1, 'lethgar': 1, 'pic': 16, 'surpris': 2, 'fuild': 1, 'tast': 1, \"'m\": 4, 'diamet': 28, 'derm': 7, 'mvr': 2, 'triadyn': 7, 'prisma': 1, 'hip': 20, 'rhoncher': 9, 'autopsi': 37, 'dilaudid': 9, 'thing': 15, 'titer': 2, 'net': 16, 'afterward': 8, 'begun': 8, 'bairhugg': 6, 'luck': 2, 'ic': 2, 'remav': 1, 'prob': 8, 'oob': 18, 'bank': 15, 'repeatedli': 9, 'never': 14, 'fewer': 4, 'stumul': 1, 'fromn': 2, 'settin': 1, 'torso': 25, 'enough': 24, 'tgd': 1, 'uppr': 1, 'bruis': 18, 'gnd': 2, 'ivpb': 2, 'peroxid': 1, 'pk': 3, 'throught': 3, 'couplet': 3, 'rehab': 39, 'comput': 3, 'lsc': 8, 'ventolin': 2, 'item': 3, 'phenergan': 1, 'clearli': 30, 'mst': 1, 'cooper': 26, 'vbg': 12, 'receic': 1, 'drive': 16, 'compliant': 7, 'mr': 68, 'ayt': 1, 'cd': 17, 'cri': 16, 'rehydr': 2, 'liq': 15, 'session': 3, 'intermit': 9, 'infact': 2, 'coumidin': 1, 'ongo': 30, 'ileu': 21, 'mucomyst': 8, 'taut': 1, 'perk': 2, 'midodrin': 3, 'zero': 14, 'ran': 5, 'dp': 72, 'nepro': 6, 'type': 62, 'freeli': 3, 'nonsustain': 1, 'calibr': 3, 'beir': 1, 'flat': 32, 'vue': 6, 'endoc': 11, 'peroid': 1, 'frame': 4, 'graviti': 16, 'sxing': 15, 'lavarg': 3, 'dialys': 2, 'mean': 18, 'salin': 20, 'pleasur': 2, 'nahco': 6, 'visabl': 1, 'brisk': 35, 'concernsa': 1, 'caregiv': 3, 'perlla': 1, 'blanket': 17, 'asymptomat': 8, 'discharg': 32, 'nss': 5, 'bond': 3, 'happi': 7, 'modul': 1, 'bronc': 2, 'stpo': 1, \"'ve\": 2, 'zofran': 9, 'antidepress': 3, 'anniversari': 1, 'initit': 2, 'label': 1, 'inlin': 1, 'oncpap': 1, 'crx': 2, 'mucu': 22, 'morgu': 17, 'reddish': 1, 'trial': 45, 'abc': 2, 'caution': 3, 'thigh': 10, '}': 64, 'sure': 16, 'li': 9, 'surfac': 7, 'aim': 13, 'bottom': 4, 'primarili': 18, 'fan': 1, 'fianrd': 1, 'chane': 3, 'noiw': 1, 'blding': 1, 'butr': 1, 'hemo': 2, 'poitiv': 1, 'expiratori': 20, 'happen': 9, 'consi': 1, 'loc': 8, 'pleasant': 14, 'disturb': 4, 'hem': 8, 'alb': 25, 'subtherapeut': 4, 'pretti': 4, 'secrtion': 1, 'brief': 27, 'escap': 1, 'waen': 1, 'enhanc': 16, 'diltiazem': 16, 'sulci': 16, 'supress': 2, 'diaphoret': 28, 'oncolog': 15, 'deveolp': 1, 'monday': 21, 'diures': 39, 'spoken': 10, 'ew': 16, 'diagnos': 15, 'irrit': 9, 'sulphat': 1, '^bp': 2, 'nippv': 12, 'tighten': 7, 'nodul': 22, 'exact': 5, 'meant': 1, 'ectop': 6, 'labia': 2, 'unstabl': 30, 'metastas': 10, 'sponten': 1, 'solumedrol': 19, 'nrm': 1, 'preliminari': 16, 'beforehand': 1, 'demand': 21, 'unexplain': 4, 'spread': 12, 'gc': 3, 'taper': 19, 'yr': 34, 'mind': 7, 'rash': 42, 'newli': 32, 'bronchospasm': 6, 'sudden': 11, 'breat': 2, 'basilar': 33, 'carcinoma': 18, 'metastasi': 4, 'edt': 3, 'adm': 23, 'fidgiti': 1, 'nad': 21, 'carotid': 17, 'raf': 4, '^hr': 2, 'nonoper': 1, 'errat': 5, 'brain': 27, 'guifenasin': 1, 'burst': 16, 'rediscuss': 5, '^rr': 4, 'coagul': 5, 'pet': 6, 'prelim': 13, 'rebreath': 14, 'rpt': 6, 'dest': 1, 'nil': 1, 'cistern': 8, 'mlph': 1, 'tot': 1, 'bx': 10, 'indigest': 1, 'tacypn': 4, 'os': 7, 'icecream': 2, 'rythm': 5, 'expector': 17, 'yea': 1, 'faint': 8, 'hunger': 8, 'squamou': 7, 'medicin': 12, 'jaw': 5, 'therefor': 36, 'tsicu': 3, 'squamo': 1, 'bronchospast': 3, 'quick': 4, 'sato': 2, 'niv': 12, 'dnrdni': 1, 'rather': 26, 'chemotherapi': 10, 'suppress': 6, \"'finish\": 1, 'sit': 29, 'commenc': 6, 'onset': 14, 'clr': 10, 'mul': 2, 'pericholecyst': 11, 'rbc': 12, 'decres': 4, 'trachea': 20, 'pmhx': 9, 'groin': 24, 'psoriasi': 1, 'hung': 10, 'extrahepat': 2, 'regim': 14, 'tegretol': 1, 'adren': 41, 'incontincn': 1, 'hemidiaphragm': 19, 'cycl': 14, 'succinylcholin': 1, 'deaf': 2, 'devedlop': 1, 'additin': 1, 'parenchym': 62, 'cholecyst': 22, 'uti': 33, 'frontal': 40, 'cortisol': 10, 'synthroid': 6, 'supplement': 33, 'insuffici': 19, 'constip': 21, 'precipit': 6, 'signif': 2, 'parkinson': 8, 'levaquin': 20, 'insuff': 2, 'curtail': 1, 'conntact': 1, 'bph': 5, 'musculoskelet': 26, 'fact': 12, 'third': 17, 'dementia': 23, 'fluoroscopi': 8, 'brather': 1, 'pneumnia': 1, 'ceftaz': 8, 'stiffneck': 1, 'dopamin': 15, 'neurolept': 1, 'hypothroid': 1, 'djd': 1, 'reinsert': 6, 'mgso': 3, 'mb': 10, 'breah': 1, 'fhp': 12, 'dept': 3, 'cpk': 9, 'ocd': 1, 'intermittenli': 2, 'pancrea': 37, 'anaerob': 11, 'incomprehens': 7, 'rale': 33, 'vit': 14, 'chapl': 1, 'unusu': 12, 'crystal': 2, 'gnr': 17, 'advis': 13, 'ductal': 6, 'rcd': 1, 'etomid': 4, 'flex': 8, 'polici': 6, 'gram': 43, 'vanoc': 1, 'sinimet': 1, 'root': 20, 'situt': 1, 'eventu': 23, 'qr': 27, 'fraction': 9, 'lcl': 1, 'estim': 32, 'tricuspid': 38, 'hyperkalemia': 11, 'axi': 37, 'acceler': 4, 'rais': 40, 'prematur': 30, 'biacarb': 1, 'deviat': 23, 'jaundic': 19, 'eject': 8, 'pressort': 1, 'kayexly': 1, 'four': 16, 'bbb': 3, 'fascicular': 12, 'caviti': 51, 'crea': 2, 'akinesi': 2, 'unavail': 2, 'la': 28, 'pack': 10, 'abp': 34, 'epix': 1, 'physiolog': 38, 'rerrl': 1, 'stenosi': 42, 'trivial': 18, 'bin': 1, 'chorda': 11, 'atn': 23, 'unfortun': 7, 'blind': 3, 'film': 48, 'hypoperfus': 7, 'intiat': 7, 'anfio': 1, 'intit': 2, 'thereaft': 6, 'laryng': 5, 'silverdin': 1, 'multilobar': 7, 'pnding': 8, 'ointment': 13, 'locul': 22, 'pcn': 9, 'blister': 16, 'wrap': 6, 'accurr': 1, 'nondistend': 15, 'discov': 3, 'qtt': 6, 'impend': 7, 'brachycephal': 1, 'hyperkalcemia': 1, 'potassium': 53, 'froom': 1, 'cordi': 4, 'resusit': 4, 'sb': 22, 'fhpa': 2, 'deceas': 3, 'angio': 7, 'lip': 33, 'respect': 20, 'progonisi': 1, 'hygien': 8, 'extrim': 4, 'cantones': 6, 'nutriton': 1, 'fentanul': 1, 'psychosoci': 9, 'heartrat': 1, 'incid': 26, 'agig': 1, 'unreact': 2, 'extremti': 1, 'bloat': 2, 'palli': 34, 'scopolamin': 7, 'daddi': 1, 'mist': 12, 'spontani': 1, 'trough': 24, 'moan': 21, 'knopff': 1, 'signfic': 4, 'anbx': 5, 'mlq': 1, 'dad': 3, 'goodresult': 1, 'signic': 2, 'desicion': 1, 'formal': 9, 'physcian': 2, 'fentnyl': 1, 'mimini': 1, 'mutipl': 4, 'plam': 1, 'educ': 5, 'tacycard': 3, 'progr': 1, 'extrmiti': 1, 'apc': 4, 'stain': 31, 'hub': 1, 'supp': 11, 'supraventricular': 11, 'downt': 2, 'tamponad': 12, 'mag': 13, 'extermit': 2, 'tachypniec': 2, 'eipsod': 1, 'unreliev': 2, 'frustrat': 6, 'contol': 1, 'dehydr': 7, 'gs': 8, 'srr': 7, 'aflutt': 10, 'suspect': 38, 'lacer': 4, 'ot': 8, 'echocardiograph': 16, 'neglig': 2, 'overlay': 3, 'readdress': 21, 'restin': 1, 'extubatin': 1, 'respelor': 1, 'rtc': 4, 'fliud': 5, 'exud': 6, 'acc': 3, 'kling': 1, 'phase': 13, 'strip': 4, 'conver': 1, 'variabl': 17, 'tracheobronch': 2, 'zinc': 1, 'diastol': 37, 'ozz': 3, 'gone': 14, 'ccb': 1, 'calf': 11, 'compon': 47, 'exipr': 1, 'ua': 33, 'tachypneac': 2, '^wob': 2, 'sorder': 1, 'pff': 1, 'mat': 1, 'plea': 2, 'flap': 2, 'eitolog': 1, 'quantifi': 4, 'guag': 2, 'presenc': 27, 'ota': 3, 'prefer': 9, 'eccymot': 7, 'achiv': 1, 'sangaiou': 1, 'extrasystol': 1, 'nebul': 9, 'tegram': 1, 'puulent': 1, 'kneecap': 1, 'extremeti': 19, 'ascend': 28, 'instruct': 10, 'exxtrmiti': 1, 'serosang': 13, 'nonadh': 1, 'exist': 38, 'dysfnc': 1, 'durng': 1, 'repeaet': 1, 'faamili': 1, 'pat': 3, 'artifici': 5, 'tachcard': 1, 'symptom': 31, 'tegaderm': 3, 'steri': 2, 'alon': 14, 'avb': 3, 'broader': 3, 'transpat': 1, 'intraventricular': 13, 'comcomit': 1, 'splint': 1, 'zaroxolyn': 1, 'addtion': 2, 'real': 7, 'crisi': 3, 'midnight': 32, 'clog': 4, 'mordem': 1, 'yankeur': 4, 'indwel': 23, 'dss': 1, 'metoprolol': 28, 'resecur': 1, 'lobar': 12, 'transpar': 6, 'defect': 29, \"o'\": 1, 'odor': 4, 'imv': 5, 'cefepin': 2, 'incontinec': 1, 'oropharynx': 10, 'higest': 1, 'indistinct': 8, 'addedum': 1, 'discontinu': 34, 'undigest': 2, 'swallow': 39, 'lss': 1, 'recalibr': 3, 'captorpil': 1, 'triplet': 2, 'stabliz': 3, 'mumbl': 8, 'smear': 18, 'perivascular': 1, 'comb': 5, 'retain': 11, 'bandag': 4, 'dobut': 2, 'intregr': 1, 'pci': 2, 'trigem': 1, 'slur': 2, 'cordu': 1, 'parenchyma': 23, 'accu': 1, 'pharynx': 6, 'niddm': 1, 'underneath': 6, 'bliater': 1, 'border': 12, 'throughtout': 1, 'nsvt': 4, 'prog': 2, 'ecchymosi': 9, 'ltyellow': 1, 'mi': 24, 'cefempin': 1, 'nph': 9, 'pump': 7, 'dobutamin': 12, 'venodyn': 7, 'recevi': 1, 'regularli': 7, 'contamint': 1, 'speech': 31, 'purlpl': 1, 'dopper': 1, 'introduc': 7, 'intermittantli': 2, 'pleuroparenchym': 1, 'teeth': 38, 'pedi': 11, 'sensit': 26, 'bigem': 1, 'troponin': 55, 'hypozia': 1, 'garbl': 7, 'egt': 1, 'pgi': 3, 'proph': 4, 'cardiogen': 19, 'morpholog': 12, 'airmatress': 1, 'lodg': 1, 'lrg': 5, 'thruought': 1, 'inquier': 1, 'collector': 1, 'staph': 9, 'frothi': 8, 'particularli': 25, 'bt': 5, 'rxn': 6, 'dev': 2, 'bss': 1, 'worseni': 1, 'judgement': 3, 'ultrac': 3, 'uncontrol': 4, 'haze': 3, 'pcxr': 4, 'regimen': 55, 'trigemini': 1, 'scd': 5, 'toss': 1, \"am'\": 1, 'defin': 15, 'expel': 2, 'rhonci': 8, 'rod': 14, 'junki': 6, 'nail': 8, 'inotropi': 1, 'lcyu': 1, 'sulfat': 33, 'enzm': 1, 'stent': 24, 'unlabor': 12, 'captopril': 3, 'benzo': 6, 'contamin': 9, 'bl': 13, 'aurea': 1, 'anuria': 7, 'serax': 1, 'variou': 8, 'bigemeni': 1, 'inferiorli': 9, 'cut': 14, 'senior': 4, 'sustain': 16, 'rh': 3, 'inclus': 3, 'psych': 7, 'xr': 1, 'rule': 40, 'complain': 10, 'cocci': 10, 'thruout': 3, 'reciv': 4, 'verifi': 16, 'hh': 2, 'palab': 1, 'inconsistenli': 1, 'wihtout': 1, 'gurgl': 7, 'tegraderm': 1, 'diuresis': 2, 'recogn': 9, 'nephew': 10, 'posteriorli': 11, 'ck': 51, 'anytmim': 1, 'sitter': 4, 'coras': 2, 'waffl': 7, 'nonverb': 7, 'cortu': 1, 'rca': 4, 'nare': 14, 'ft': 8, 'whisper': 1, 'nstemi': 11, 'reappil': 1, 'somewat': 1, 'avbl': 1, 'occas': 9, 'tha': 3, 'circul': 8, 'bronchial': 39, 'podi': 2, 'combin': 34, 'appil': 1, 'curv': 23, 'diruesi': 2, 'avhb': 1, 'hyrocortison': 1, 'til': 4, 'partner': 5, 'cardiologist': 4, 'oncologist': 12, 'stabilz': 2, 'dcd': 6, 'pe': 48, 'doctor': 12, 'reiter': 3, 'shth': 1, 'ep': 7, 'cavo': 2, 'fr': 13, 'oxycodon': 9, 'platelet': 20, 'trun': 1, 'trip': 4, 'ds': 6, 'dysneic': 1, 'tumor': 18, 'enviro': 1, 'norm': 2, 'instil': 7, 'platlet': 6, 'okay': 12, 'pulsu': 1, 'tenou': 2, 'trim': 2, 'evolv': 18, 'document': 33, 'int': 3, 'travel': 8, 'resposit': 3, 'mainten': 8, 'nonlas': 1, 'axox': 1, 'lul': 43, 'count': 36, 'incident': 10, 'rhonchoru': 7, 'capac': 9, 'amiodoron': 4, 'mx': 1, 'ud': 1, 'serosanq': 1, 'multilumen': 3, \"dc'ed\": 2, 'unprod': 1, 'prophylact': 3, 'penumopericardium': 1, 'unsur': 6, 'tfb': 4, 'solut': 1, 'init': 8, 'teari': 2, 'increasingli': 35, 'cari': 1, 'cot': 2, 'adquat': 2, 'spirit': 1, 'hrt': 4, 'ivab': 6, 'hospic': 24, 'immobil': 2, 'vaxcel': 1, 'adenosin': 4, 'strenght': 1, 'placment': 9, 'bronchu': 15, 'wet': 62, 'cent': 3, 'bronchou': 1, 'pericadi': 1, 'freind': 1, 'sensori': 3, 'workload': 1, 'successful': 2, 'frank': 11, 'pud': 6, 'slower': 14, 'aerosol': 20, 'dobhoff': 6, 'cbi': 4, 'dislodg': 6, \"^'ingli\": 1, 'amplitud': 3, 'nectar': 6, 'anticoagul': 28, 'urethra': 2, 'cardiovascular': 57, 'video': 8, 'beta': 23, 'skinfold': 1, 'doboff': 5, 'wax': 6, 'quadrent': 6, 'granddaught': 6, 'russian': 7, 'discus': 1, 'abort': 4, 'decomp': 1, 'oropharyng': 16, 'discusst': 1, 'mistaken': 1, 'faster': 13, 'medial': 13, 'undergo': 19, 'asa': 32, 'dopoff': 1, 'trauma': 10, 'aspect': 21, 'pure': 10, 'rrespons': 1, 'engorg': 21, \"^'ing\": 1, 'decompens': 27, 'ex': 8, 'dictat': 18, 'honey': 2, 'retract': 11, 'teaspoon': 1, 'pateint': 2, 'decompenst': 1, 'produc': 20, 'prompt': 4, 'inncont': 1, 'telephon': 24, 'conjunct': 11, 'condom': 2, 'refe': 3, 'gut': 7, 'elong': 7, 'distinct': 15, 'formalin': 1, 'equival': 4, 'intraservic': 3, 'psc': 2, 'transcathet': 1, 'peditub': 1, 'acyclovir': 5, 'adjac': 31, 'cellular': 4, 'meropenum': 9, 'behind': 4, 'bloodting': 3, 'abut': 6, 'weeep': 1, 'kerlix': 5, 'grasp': 2, 'preprocedur': 8, 'biggest': 1, 'mult': 17, 'stich': 1, 'everyday': 3, 'recoveri': 21, 'ganciclovir': 1, 'cobra': 2, 'pej': 2, 'oligur': 14, 'deoderm': 1, 'gancylovir': 1, 'pneumococc': 1, 'percocet': 8, 'stride': 1, 'subcentimet': 5, 'pel': 7, 'ucler': 2, 'phersi': 1, 'hyptens': 2, 'nypernatremia': 1, 'store': 2, 'fam': 7, 'unknown': 44, 'ident': 3, 'guidenc': 1, 'obstacl': 1, 'abras': 12, 'hyper': 3, 'retap': 14, 'gvhd': 3, 'tini': 10, 'aml': 2, 'lytic': 19, 'speaker': 4, 'semin': 3, 'achiev': 19, 'encephalopathi': 14, 'scv': 2, 'porta': 4, 'sclerot': 14, 'nl': 22, 'surgifoam': 2, 'cue': 8, 'npp': 1, 'baracat': 2, 'folow': 3, 'stronger': 6, 'uremia': 4, 'rifaximin': 3, 'plasmaphoresi': 1, 'tne': 1, 'marrow': 4, 'flumazin': 1, 'granulomat': 4, 'ni': 1, 'correspond': 9, 'transjug': 1, 'nailb': 8, 'urisodiol': 1, 'rtrad': 2, 'sxt': 2, 'typhliti': 1, 'pelvi': 42, 'transplant': 10, 'mdct': 26, 'actual': 13, 'vesicl': 3, 'mvp': 17, 'ursodiol': 1, 'paus': 5, 'urisodil': 1, 'viremia': 2, 'gradient': 29, 'nard': 4, 'nodal': 4, 'flumazenil': 2, 'pursestr': 1, 'alway': 9, 'intrahepat': 4, 'bsk': 2, 'lactulos': 21, 'meropenem': 25, 'noth': 18, 'ivaband': 1, 'sup': 2, 'regul': 6, 'preced': 11, 'caudat': 2, 'serviceclip': 2, 'humalog': 11, 'whinc': 1, 'info': 17, 'bear': 9, 'hepatoren': 3, 'core': 7, 'downward': 15, 'periport': 1, 'peripancreat': 2, 'intraven': 38, 'dop': 6, 'cecum': 4, 'calib': 18, 'sxned': 8, 'inflamm': 10, 'influenc': 4, 'maneuv': 12, 'rsp': 3, 'remark': 8, 'cavh': 1, 'surgicel': 4, 'ltf': 1, 'lanti': 1, 'presser': 2, 'hepatopet': 8, 'shedul': 1, 'kayexal': 5, 'dens': 31, 'prolaps': 24, 'fusarium': 1, 'lvot': 23, 'calicif': 1, 'griev': 9, 'grow': 16, 'hypoecho': 2, 'ptcont': 1, 'broken': 11, 'natur': 17, 'constrict': 1, 'retroperitoneum': 1, 'sequela': 4, 'cyst': 26, 'evidenc': 6, 'isolat': 1, 'tr': 32, 'careweb': 2, 'ppp': 9, 'rescu': 2, 'easier': 4, 'fsbg': 9, 'hepati': 3, 'nephrolog': 4, 'mold': 1, 'inlet': 22, 'blunt': 17, 'unrsp': 2, 'element': 14, 'proper': 11, 'mainatain': 1, 'hemostasi': 4, 'symphysi': 10, 'basic': 7, 'byt': 2, 'timeout': 10, 'wake': 41, 'gland': 26, 'glidewir': 5, 'cook': 2, 'cellcept': 3, 'upward': 11, 'silk': 6, 'acidosid': 1, 'coud': 1, 'prostat': 15, 'approach': 24, 'fucntion': 1, 'weap': 4, 'cardiovert': 8, 'midnoc': 8, 'toxin': 8, 'nst': 2, 'dfinit': 1, 'ess': 4, '^lft': 1, 'agent': 14, 'ground': 32, 'anyway': 4, 'edamat': 3, 'pharesi': 1, 'sxted': 1, 'multiplanar': 17, 'bilirubin': 20, 'ruq': 12, 'transaminas': 4, 'punctat': 2, 'ursdiol': 1, 'neutropen': 4, 'similar': 58, 'bmt': 3, 'pole': 9, 'transjugular': 2, 'amio': 13, 'soak': 5, 'participatori': 1, 'cholestasi': 2, 'pheresi': 3, 'retroperiton': 14, 'pubic': 8, 'lactolos': 1, 'palpalbl': 1, 'cateth': 1, 'pneumocac': 1, 'acquir': 37, 'bladder': 53, 'amplatz': 2, 'constant': 11, 'analyz': 7, 'overnt': 1, 'sorb': 4, 'lij': 12, 'presept': 2, 'host': 2, 'aass': 1, 'explan': 13, 'reformat': 19, 'spleen': 32, 'flicker': 1, 'minmal': 2, 'psup': 3, 'speciat': 9, 'humulog': 1, 'rvr': 20, 'rrad': 1, 'ivc': 11, 'syndrom': 19, 'infuss': 1, 'oximetri': 3, 'merepenim': 1, 'vitot': 1, 'meropenim': 1, 'softer': 2, 'clavicl': 11, 'ard': 58, 'poplit': 14, 'schdule': 1, 'cirrohosi': 1, 'paralysi': 6, 'chemic': 5, 'chin': 7, 'pose': 3, 'firmli': 2, 'inpiratori': 1, 'lunf': 1, 'cchr': 2, 'bronchogram': 11, 'mvmt': 4, 'vigiou': 1, 'bradycardia': 24, 'thich': 3, 'spurt': 1, 'splenic': 6, 'addend': 1, 'pulmasourc': 2, 'erect': 10, 'wedg': 9, 'stv': 2, 'stretch': 5, 'wer': 1, 'flexur': 5, 'stone': 21, 'skinn': 1, 'lge': 4, 'seri': 12, 'top': 33, 'spnt': 1, 'bolt': 3, 'mucos': 10, 'sigmoid': 17, 'nova': 1, 'clump': 1, 'yeild': 1, 'foramen': 6, 'case': 28, 'neruo': 4, 'subdiaphragmat': 10, 'paracentisi': 1, 'bal': 18, 'glass': 23, 'fentenyl': 3, 'gastroesophag': 16, 'thrombosi': 10, 'ldh': 43, 'fdg': 10, 'hydralasin': 1, 'orali': 1, 'snt': 4, 'dist': 8, 'meripenim': 1, 'veget': 8, 'thrombu': 20, 'teniou': 2, 'fluse': 2, 'pulmasours': 1, 'hydralazin': 13, 'optim': 39, 'pulmonolog': 2, 'twitch': 9, 'basi': 9, 'rust': 3, 'propranalol': 1, 'distribut': 24, 'meripenem': 1, 'bronchspast': 1, 'powder': 8, 'pancreat': 11, 'muster': 1, 'cisatracurium': 6, 'pipo': 1, 'seven': 7, 'hiccup': 3, 'intracardiac': 4, 'pneumoperitoneum': 4, 'obt': 1, 'asid': 5, 'suddenli': 6, 'artifact': 37, 'isuprel': 1, 'merepeum': 1, 'ettub': 3, 'toller': 3, 'wit': 13, 'diregard': 1, 'novasourc': 7, 'erron': 1, 'supprot': 1, 'ibuprofen': 3, 'solid': 17, 'grayscal': 10, 'candidemia': 2, 'satisfactorili': 4, 'conitnu': 4, 'buttuck': 2, 'contiu': 3, 'valsalva': 2, 'hypernatrem': 3, 'unintellig': 2, 'hypernatremia': 11, 'yeast': 20, 'paramedian': 3, 'effert': 2, 'nystatin': 9, 'endocard': 15, 'spc': 1, 'severli': 2, 'cholelithiasi': 14, 'washin': 1, 'malacia': 2, 'latter': 7, 'replenish': 3, 'cop': 6, 'retreiv': 1, 'neutral': 1, 'subcapsular': 1, 'remaind': 29, 'heterogen': 20, 'seedi': 1, 'alkalosi': 20, 'bu': 5, 'midazolam': 39, 'excurs': 8, 'bud': 6, 'mediastinum': 42, 'intrapelv': 1, 'gold': 2, 'recur': 5, 'territori': 13, 'lid': 3, 'mic': 17, 'posterolater': 2, 'pillow': 10, 'inder': 1, 'fc': 5, 'adn': 6, 'tyelnol': 2, 'repsons': 3, 'echogen': 7, 'safe': 16, 'miq': 1, 'augment': 16, 'vebal': 1, 'train': 6, 'widespread': 26, 'esent': 1, 'manipul': 11, 'abscess': 21, 'medium': 8, 'paralyz': 36, 'secriton': 1, 'shaggi': 1, 'descend': 16, 'grimmac': 4, 'pneumomediastenum': 1, 'instead': 9, 'ween': 2, 'rave': 1, 'soooo': 1, 'fungemia': 5, 'tracheobronchi': 3, 'temporari': 7, 'hydrocephalu': 9, 'strongli': 9, 'wether': 4, 'pneumomediastinum': 7, 'qualit': 1, 'paral': 2, 'meripenum': 1, 'east': 5, 'caspofungin': 4, 'cistatricurium': 1, 'prder': 1, 'copiu': 4, 'distent': 28, 'friday': 15, 'spot': 10, 'hyporthermia': 1, 'wane': 3, 'pseudomhypha': 1, 'catheth': 2, 'oval': 6, 'psupp': 1, 'origin': 31, 'receivng': 2, 'merepenum': 2, 'pc': 12, 'fungu': 4, 'extremitiy': 3, 'narrativen': 1, 'bump': 14, 'metastat': 26, 'sphenoid': 6, 'intervet': 1, 'palc': 2, 'manuev': 2, 'beneath': 8, 'confluenc': 4, 'tenaci': 12, 'barotrauma': 3, 'droop': 2, 'motrin': 3, 'worrisom': 5, 'echocardigram': 1, 'nabicarb': 1, 'conintu': 2, 'seee': 1, 'televis': 1, 'sxd': 5, 'addendium': 2, 'consistantli': 6, 'muach': 1, 'shunt': 13, 'aler': 1, 'fentyn': 2, 'bronish': 1, 'compat': 22, 'wrong': 5, 'halidol': 1, 'atb': 4, 'premed': 5, 'diverticulum': 1, 'attribut': 18, 'nephrogram': 3, 'smicu': 2, 'nativ': 4, 'neurtopen': 1, 'fat': 13, 'recultur': 9, 'chemo': 10, 'insul': 1, 'lcw': 3, 'intial': 8, 'liw': 6, 'ave': 1, 'conc': 4, 'ccx': 2, 'cystic': 8, 'confer': 7, 'celiac': 6, 'plat': 12, 'urien': 1, 'polyp': 4, 'notabel': 1, 'hydrocort': 5, 'cardaic': 2, 'dynam': 4, 'chap': 1, 'balm': 1, 'averag': 10, 'diltazem': 2, 'lymphoma': 7, 'fagyl': 1, 'lorazapam': 1, 'irreg': 7, 'nadir': 1, 'jejun': 2, 'ceil': 1, 'megacolon': 6, 'dif': 3, 'sytol': 1, 'reden': 2, 'maintentnc': 1, 'mucosa': 5, 'fluconozol': 1, 'akwa': 1, 'cardiovers': 3, 'reoccur': 3, 'pylor': 9, 'consecut': 3, 'uac': 1, 'prosthesi': 5, 'absenc': 17, 'tactil': 20, 'pancutur': 1, 'telemetri': 17, 'vagina': 1, 'uromet': 1, 'pylori': 2, 'micor': 1, 'aha': 8, 'whitish': 5, 'flaygl': 2, 'ceptim': 1, 'cold': 11, 'tirtrat': 1, 'steristrip': 1, 'fluro': 2, 'foey': 1, 'read': 87, 'axilla': 11, 'ilatori': 1, 'normotens': 12, 'sub': 11, 'ilier': 1, 'crt': 6, 'cefepinm': 1, 'ebv': 2, 'hypodens': 21, 'wth': 2, 'petichia': 2, 'neutrapen': 2, 'intralumin': 9, 'interupt': 2, 'claoric': 1, 'alet': 1, 'character': 17, 'rythmm': 2, 'sphincter': 3, 'separt': 1, 'sight': 1, 'neutropenia': 1, 'nonion': 7, 'uup': 1, 'neutopenia': 1, 'prodcedur': 1, 'metroprolol': 1, 'electr': 5, 'adenopathi': 17, 'individu': 3, 'hydrea': 1, 'cardiomyopathi': 9, 'azt': 1, 'alkalot': 5, 'degen': 23, 'nutropenia': 1, 'alertarous': 1, 'intraabdomin': 4, 'withheld': 2, 'telemeti': 1, 'fluconzol': 1, 'edmat': 1, 'appropi': 5, 'attemp': 3, 'hyperdynam': 22, 'apap': 1, 'bolusof': 1, 'eccyomot': 1, 'materi': 21, 'stalk': 1, 'exampl': 6, 'onto': 6, 'ambisom': 2, 'reliabl': 4, 'impact': 10, 'amriodon': 1, 'clavicular': 7, 'weakli': 8, 'apheres': 1, 'rescan': 3, 'neuropenia': 1, 'anc': 2, 'peticha': 2, 'fentani': 3, 'lingula': 7, 'invol': 1, 'attach': 7, 'strand': 9, 'mp': 4, 'vagin': 2, 'injuri': 19, 'adher': 2, 'remiain': 1, 'uncertain': 14, 'jejunum': 2, 'overwir': 1, 'periton': 5, 'hypertrophi': 32, 'degree': 1, 'ouput': 2, 'dimens': 5, 'flagal': 1, 'ored': 1, 'annular': 18, 'difficil': 12, 'signal': 5, 'mgq': 1, 'symmetr': 59, 'atroph': 7, 'pyloru': 5, 'sunction': 1, 'mc': 4, 'mycostatin': 4, 'amiriodin': 1, 'postpylor': 4, 'vicin': 2, 'endolumin': 1, 'xpeep': 1, 'arrhythmia': 13, 'cerebro': 1, 'serosanguin': 8, 'mesenteri': 2, 'scleral': 7, 'fallen': 1, 'yield': 6, 'winc': 3, 'houseoffic': 6, 'flouro': 2, 'apeci': 1, 'virgou': 1, 'ddimer': 1, 'outflow': 5, 'j': 10, 'cefipim': 15, 'panel': 15, 'sacrament': 10, 'requestiong': 1, 'ilw': 1, 'yell': 8, 'cholecystectomi': 3, 'ampicillin': 6, 'idioventricular': 1, 'decort': 4, 'stenot': 1, 'rememb': 1, 'grave': 19, 'anasarka': 1, 'mail': 4, 'withdrawl': 10, 'postur': 8, 'barocat': 2, 'constel': 1, 'tme': 1, 'disord': 20, 'msof': 2, 'aneorb': 1, 'ultim': 13, 'chb': 4, 'chain': 8, 'bottl': 4, 'nonreact': 3, 'convinc': 2, 'flaccid': 5, 'nonr': 2, 'pair': 12, 'baricat': 2, 'particular': 9, 'amyloid': 1, 'inferolater': 11, 'oppos': 4, 'ampi': 1, 'ontain': 1, 'overid': 1, 'flu': 13, 'bypap': 1, 'atov': 1, 'longstand': 4, 'viral': 17, 'distess': 1, 'accordingli': 12, 'cardizem': 2, 'nitro': 8, 'heroic': 6, 'hypokalemia': 3, 'tachycardiac': 3, 'linen': 4, 'restoril': 1, 'percaut': 1, 'atelectat': 9, 'amoung': 1, 'droplet': 10, 'equip': 3, 'batteri': 1, 'hear': 16, 'ntg': 4, 'exhibit': 9, 'fryabl': 1, 'nsicu': 1, 'mri': 18, 'flownot': 4, 'necessit': 8, 'inv': 1, 'nonobstruct': 5, 'penetr': 6, 'tuck': 3, 'sleepign': 1, 'aphasia': 2, 'cerebr': 10, 'bathroom': 3, 'awhil': 3, 'collabor': 6, 'apetit': 1, 'supper': 1, 'revers': 24, 'gastrostomi': 6, 'cu': 2, 'speciment': 1, 'spirometri': 5, 'intailli': 1, 'cross': 8, 'applesauc': 6, 'perp': 1, 'involut': 3, 'barium': 6, 'phlebolith': 2, 'influenza': 18, 'pharyng': 6, 'breather': 2, 'typic': 9, 'amd': 5, 'interrupt': 2, 'revrs': 1, 'nauseu': 1, 'pneumatosi': 6, 'spillov': 3, 'format': 8, 'featur': 6, 'sz': 5, 'undisturb': 4, 'fax': 1, 'slip': 4, 'accesss': 1, 'suspicion': 17, 'pseudoinfarct': 1, 'applesaus': 1, 'variat': 5, 'prod': 9, 'dysphagia': 9, 'linebut': 1, 'palat': 4, 'lite': 1, 'flip': 2, 'souc': 1, 'nonrebreath': 4, 'requisit': 2, 'perfor': 12, 'intraperiton': 12, 'appl': 6, 'misplac': 2, 'tp': 6, 'aphas': 5, 'goe': 7, 'incent': 4, 'spiromet': 3, 'pathologist': 1, 'cardiopulmonari': 10, 'ate': 4, 'crush': 13, 'occupi': 6, 'pleuravac': 3, 'unsymptomat': 1, 'massiv': 18, 'realiz': 3, 'hemithorax': 32, 'pleurx': 1, 'sterilli': 1, 'pleur': 2, 'unproduct': 5, 'promptli': 2, 'retal': 1, 'aaat': 1, 'flail': 3, 'solidfi': 1, 'bialter': 1, 'pllacement': 1, 'incon': 2, 'anymor': 6, 'adament': 1, 'eventuallt': 1, 'nonlabor': 1, 'somnol': 21, 'tick': 1, 'bennzodiazpin': 1, 'venoboot': 1, 'colorng': 1, 'absolut': 1, 'fatigu': 20, 'indfus': 1, 'kayexil': 1, 'toleav': 1, 'ref': 1, 'papillari': 8, 'myleodysplesia': 1, 'sescret': 1, 'agian': 2, 'trumpet': 6, 'aslo': 2, 'chase': 1, 'noght': 1, 'fill': 36, 'synchron': 31, 'fss': 1, 'car': 2, 'struggl': 6, 'adit': 1, 'kayexel': 3, 'mon': 34, 'ultra': 3, 'leakag': 7, 'weigh': 2, 'reappear': 3, 'propos': 3, 'misfir': 1, 'fractio': 1, 'upto': 3, 'shnge': 1, 'agress': 12, 'occass': 6, 'choic': 6, 'thursday': 9, 'flall': 1, 'esidu': 1, 'param': 1, 'topar': 1, 'month': 23, 'correspong': 1, 'oet': 1, 'tachyarrythmia': 2, 'napho': 1, 'desenex': 1, 'asap': 3, 'familt': 4, 'sooth': 1, 'enema': 9, 'candid': 16, 'reeval': 4, 'desitin': 2, 'ut': 1, 'persistantli': 2, 'overbreathin': 1, 'coaars': 1, 'wateri': 5, 'euvolem': 11, 'stff': 1, 'sedatiooon': 1, 'exyl': 1, 'inflow': 5, 'negtiv': 1, 'offic': 8, 'benign': 18, 'nppv': 3, 'asses': 2, 'tacchycard': 1, 'microbiolog': 35, 'atherosclerot': 21, 'cord': 4, 'narcan': 7, 'dfdkq': 2, 'housekeep': 1, 'atrophi': 11, 'smoker': 5, 'penicillin': 11, 'bacteria': 4, 'asbesto': 5, 'choke': 6, 'clarifi': 19, 'comm': 9, 'iu': 40, 'supraclavicular': 16, 'plaqu': 7, 'palliat': 5, 'deplet': 12, 'wast': 20, 'contribut': 29, 'legionella': 29, 'ronchi': 12, 'outlin': 21, 'hsv': 2, 'cognit': 6, 'penumonia': 1, 'rrr': 32, 'clinda': 5, 'tacchycardia': 1, 'thorazin': 1, 'dull': 22, 'ppx': 27, 'vertebr': 13, 'spetic': 1, 'rituxan': 1, 'gerd': 15, 'hemolyt': 3, 'sir': 9, 'avid': 2, 'sulfonamid': 2, 'conjunctiva': 42, 'sulfa': 4, 'delerium': 2, 'fludarabin': 2, 'noninvas': 8, 'nitrit': 2, 'regardless': 1, 'percuss': 29, 'nsclc': 4, 'vaccin': 7, 'nonsepecif': 1, 'charact': 2, 'sedentari': 2, 'resect': 9, 'pipe': 1, 'factor': 17, 'kansasii': 1, 'hypercarbia': 14, 'delir': 2, 'deleri': 2, 'tacchypn': 1, 'opinion': 6, 'creatinin': 51, 'vat': 4, 'osteopenia': 6, 'normocephal': 46, 'omr': 8, 'cavern': 3, 'ymf': 3, 'lad': 8, 'oxyfast': 1, 'cervic': 25, 'discrep': 1, 'rescusit': 1, 'lymphat': 22, 'underw': 12, 'pantoprazol': 27, 'ia': 2, 'splenectomi': 3, 'retir': 8, 'sclerosi': 8, '`': 3, 'healthcar': 10, 'rad': 18, 'thoroughout': 1, 'gent': 5, 'toradol': 1, 'summari': 13, 'reveiw': 4, 'sstem': 1, 'nadolol': 2, 'icter': 6, 'ppor': 1, 'recomm': 1, 'kr': 1, 'antibot': 3, 'addnedum': 1, 'gentamycin': 7, 'azithomycin': 1, 'illeostomi': 1, 'altern': 25, 'hosptial': 1, 'sedimentari': 1, 'fentanli': 2, 'cousin': 5, 'ileostomi': 3, 'andrl': 1, 'occn': 3, 'neic': 4, 'rl': 4, 'clavian': 1, 'inrincreas': 1, 'criticar': 5, 'bridg': 10, 'slugish': 2, 'semioval': 2, 'encephalomalacia': 1, 'ethmoid': 4, 'mca': 4, 'pian': 1, 'etachi': 1, 'slugglish': 2, 'respoms': 1, 'osh': 19, 'jwk': 1, 'centrum': 3, 'unresponsinv': 1, 'basal': 32, 'leagal': 1, 'trancfer': 1, 'unbrocken': 1, 'tem': 1, 'diltiasem': 1, 'ganglia': 6, 'delta': 2, 'vacuo': 1, 'dwi': 2, 'htc': 1, 'parcial': 1, 'orthoped': 2, 'preiou': 1, 'orbit': 6, 'brace': 1, 'dto': 1, 'worst': 4, 'ortho': 2, 'lap': 2, 'resucit': 3, 'amountsa': 1, 'csm': 4, 'occlut': 1, 'situ': 9, 'tech': 5, 'diltizam': 1, 'platelett': 2, 'aggres': 2, 'paw': 2, 'swan': 6, 'bsd': 2, 'inmobil': 1, 'ordinari': 1, 'aat': 1, 'pcwp': 7, 'creatanin': 1, 'lateer': 1, 'hot': 4, 'bronchcoscopi': 1, 'sugest': 2, 'colectomi': 2, 'combo': 2, 'urgent': 7, 'lacrilub': 2, 'ganz': 5, 'aproppri': 1, 'oxigen': 1, 'flattu': 1, 'drg': 5, 'matress': 2, 'sang': 5, 'approv': 9, 'stridor': 4, 'rep': 3, 'collar': 6, 'mgmt': 8, 'acidemia': 5, 'prounounc': 1, 'applianc': 3, 'imobil': 1, 'ci': 11, 'reccent': 1, 'loosen': 6, 'captur': 7, 'gastrointestin': 17, 'kcal': 21, 'reson': 14, 'avellyn': 1, 'lr': 11, 'cyanosi': 19, 'tubular': 9, 'phosphoru': 28, 'blurri': 8, 'framework': 1, 'transform': 2, 'search': 2, 'cov': 6, 'across': 13, 'hydrostat': 2, 'ckmb': 42, 'folat': 4, 'guaiac': 10, 'headach': 13, 'technician': 1, 'fena': 10, 'numb': 7, 'pmv': 23, 'gpc': 16, 'hyperglycemia': 17, 'feasibl': 7, 'hypoxem': 26, 'proceed': 11, 'afterload': 5, 'hypotensiona': 1, 'pfi': 37, 'sh': 48, 'constitut': 23, 'abruptli': 3, 'cvo': 3, 'pah': 1, 'apprear': 1, 'incomplet': 16, 'ori': 2, 'bad': 6, 'ventricuar': 1, 'dimer': 5, 'empyema': 5, 'epistaxi': 8, 'ckd': 6, 'loud': 17, 'role': 15, 'suicid': 8, 'lipitor': 8, 'anteriorli': 19, 'dimish': 6, 'demograph': 48, 'dchf': 3, 'thrombocytopenia': 16, 'fentand': 1, 'reguard': 4, 'unrev': 5, 'daytim': 8, 'retrach': 1, 'tingl': 7, 'contributor': 3, 'swivel': 1, 'manufactur': 22, 'sqh': 7, 'subject': 30, 'hydocorison': 1, 'flora': 11, 'spectrum': 25, 'transloc': 1, 'fammili': 1, 'presist': 2, 'respoiratori': 1, 'flutter': 15, 'iodin': 5, 'fh': 48, 'wma': 4, 'ce': 15, 'traumat': 6, 'inaccur': 3, 'kit': 4, 'dentit': 12, 'spesi': 1, 'chlorid': 42, 'subclav': 1, 'must': 9, 'mof': 2, 'bayonet': 1, 'lymphocytosi': 1, 'ibw': 3, 'pseudomon': 5, 'provision': 35, 'ag': 17, 'atyp': 22, 'dlnc': 1, 'amongst': 5, 'hive': 2, 'fibrinogen': 23, 'florid': 1, 'una': 2, 'abus': 14, 'chlorhexidin': 6, 'conjunctiv': 10, 'circumst': 5, 'jctn': 1, 'thyroid': 16, 'suppor': 1, 'dimsh': 1, 'thoracotomi': 3, 'tracheotomi': 5, 'action': 62, 'pertin': 41, 'parenter': 8, 'pplat': 9, 'joint': 19, 'gear': 3, 'reconsid': 3, 'lvh': 14, 'brush': 1, 'consider': 22, 'nourish': 24, 'pmi': 16, 'split': 8, 'insult': 11, 'deal': 7, 'aranesp': 1, 'random': 6, 'magnesium': 29, 'shiley': 2, 'gg': 2, 'cll': 3, 'fxn': 8, 'fistula': 11, 'chose': 1, 'sens': 9, 'defici': 4, 'destin': 28, 'immunolog': 7, 'willl': 2, 'tco': 45, 'stenotrophomona': 1, 'intravascularli': 5, 'club': 18, 'fuse': 2, 'connector': 1, 'challeng': 14, 'kayexyl': 1, 'dep': 3, 'orthopnea': 9, 'ronchor': 5, 'kayexl': 1, 'symptiom': 1, 'preoxygen': 3, \"ce'\": 1, 'stock': 1, 'leukem': 1, 'biatrial': 2, 'hyperreson': 6, 'input': 22, 'percept': 1, 'hydorcortison': 1, 'palpit': 7, 'transfomr': 1, 'rout': 34, 'genitourinari': 14, 'intravascular': 7, 'immunocompromis': 8, 'diuret': 6, 'disadvantag': 1, 'iss': 13, 'probal': 5, 'meaning': 7, 'therapist': 10, 'promotil': 1, 'signfiic': 1, 'themselv': 8, 'ogtub': 3, 'deliri': 11, 'multifactori': 18, 'aeruginosa': 2, 'ure': 3, 'pneuomonia': 1, 'ent': 6, 'cuf': 5, 'myalgia': 9, 'tropt': 37, 'hemodynma': 1, 'hematolog': 6, 'smudg': 1, 'overweight': 18, 'broad': 36, 'sooner': 5, 'acd': 3, 'adviso': 1, 'dysuria': 8, 'coomb': 2, 'midaz': 19, 'ardsnet': 10, 'maxim': 16, 'press': 34, 'kayelexal': 1, 'pneumonectomi': 4, 'hypercarb': 19, 'reposist': 1, 'scoliot': 1, 'multidiciplanari': 1, 'rbsi': 1, 'hemodyna': 1, 'stimmuli': 1, 'sig': 15, 'ostomi': 6, 'wheezey': 2, 'percent': 3, 'retard': 3, 'whenev': 2, 'bolou': 1, 'afibril': 1, 'reasur': 1, 'picclin': 2, 'saliva': 1, 'pouch': 2, 'carview': 1, 'oze': 1, 'agiti': 1, 'redd': 1, 'tenti': 1, 'secr': 2, 'undetermin': 12, 'destur': 1, 'caretak': 4, 'dye': 4, 'creatin': 3, 'mainstem': 5, 'functio': 1, 'mitochondri': 1, 'inbetween': 2, 'postiv': 3, 'skelet': 3, 'spinal': 10, 'craem': 1, 'pool': 7, 'drpped': 1, 'spine': 29, 'scortal': 1, 'elav': 1, 'bolusx': 1, 'wednesday': 9, 'cancel': 9, 'development': 2, 'temporarili': 4, 'kyphoscoliosi': 3, 'commqand': 1, 'rhip': 1, 'caregriv': 1, 'anxou': 1, 'monit': 2, 'ment': 1, 'intermittingli': 1, 'repo': 3, 'occlus': 11, 'dimminish': 2, 'crisp': 1, 'resembl': 1, 'dyski': 1, 'plain': 3, 'dampenend': 1, 'fixat': 2, 'deform': 11, 'serosanquen': 1, 'dificult': 1, 'wiht': 3, 'increa': 4, 'respirat': 1, 'intuabt': 2, 'cdi': 4, 'blankli': 1, 'occlud': 6, 'taker': 2, 'scoliosi': 4, 'pusl': 1, 'vasoconstrict': 6, 'sibl': 11, 'cear': 1, 'sectret': 2, 'nh': 14, 'power': 3, 'seek': 5, 'breakdonw': 1, 'illeostmi': 1, 'approc': 1, 'gasp': 10, 'atelectesi': 1, 'booth': 1, 'reluct': 6, 'bibasilair': 1, 'phcp': 1, 'venco': 1, 'daqi': 1, 'rrl': 1, 'helath': 1, 'attorney': 3, 'frighten': 1, 'colostomi': 3, 'qs': 5, 'rocecet': 1, 'bedridden': 1, 'sequenc': 6, 'swab': 16, 'needi': 1, 'recev': 3, 'aox': 3, 'beefi': 1, 'culmin': 1, 'toiltet': 1, 'conspicu': 2, 'carvu': 2, 'elect': 10, 'onward': 1, 'susequ': 1, 'ambien': 2, 'obtund': 6, 'aloc': 1, 'transthorac': 10, 'cytolog': 10, 'hook': 8, 'outpur': 1, 'opt': 3, 'vf': 2, 'vasopessor': 1, 'eu': 2, 'paperwork': 2, 'nipv': 1, 'displac': 6, 'uprb': 1, 'rapidli': 16, 'tox': 5, 'elicit': 4, 'hight': 1, 'sic': 1, 'cannt': 1, 'actu': 1, 'sagitt': 22, 'nrbmfor': 1, 'phenylepherin': 1, 'pyret': 1, 'inutabt': 1, 'enthesopath': 1, 'workier': 1, 'consistanli': 1, 'hack': 1, 'reconstruct': 7, 'hav': 1, 'outgrowth': 1, 'apt': 1, 'hypobowel': 1, 'subcarin': 10, 'succ': 4, 'scali': 1, 'insur': 11, 'cholang': 2, 'vip': 2, 'forward': 15, 'coron': 23, 'anaplast': 1, 'esophag': 25, 'noncontrast': 9, 'mo': 4, 'etonom': 1, 'prevascular': 8, 'smapl': 1, 'respi': 2, 'dig': 6, 'toelrat': 2, 'gall': 3, 'anatom': 7, 'broaden': 13, 'intrathorac': 9, 'svr': 4, 'dat': 1, 'maximun': 2, 'hida': 4, 'fluiid': 1, 'inguin': 9, 'noontim': 3, 'harsh': 1, 'barrium': 1, 'peritrach': 1, 'coexist': 3, 'largest': 7, 'osteophytosi': 1, 'realist': 6, 'careveu': 1, 'retro': 1, 'dosag': 5, 'tran': 11, 'fludrocort': 1, 'revea': 1, 'hypoexemia': 1, 'median': 6, 'sternotomi': 13, 'colour': 5, 'pelvic': 17, 'vestra': 1, 'inotor': 1, 'textur': 5, 'contra': 1, 'sevalam': 1, 'moreov': 3, 'thallium': 1, 'hematocrit': 36, 'diovan': 2, 'creon': 1, 'paf': 3, 'hcap': 9, 'humer': 3, 'cash': 18, 'jxrl': 2, 'llq': 4, 'forgetful': 1, 'ppm': 6, 'onlin': 1, 'presenst': 1, 'cloth': 19, 'humeru': 3, 'jewelri': 18, 'cct': 2, 'nasopharynx': 2, 'signatur': 19, 'ramu': 2, 'aricept': 6, 'delirium': 16, 'divis': 3, 'resless': 1, 'acheiv': 2, 'polycyst': 2, 'asymptommat': 1, 'spiriva': 2, 'wct': 1, 'credit': 19, 'advair': 3, 'wallet': 17, 'discret': 6, 'singulair': 1, 'contributori': 4, 'granuloma': 4, 'jekh': 1, 'demostr': 1, 'sate': 11, 'innumer': 4, 'cardiomedi': 1, 'aortobiiliac': 1, 'exacerb': 18, 'citalopram': 4, 'cigarett': 1, 'asthma': 4, 'money': 18, 'lit': 6, 'tortuos': 2, 'yom': 6, 'comaprison': 1, 'durat': 17, 'avf': 11, 'lisinopril': 8, 'echymot': 2, 'flash': 11, 'intermediu': 3, 'analysi': 19, 'nwb': 1, 'hypoxemia': 38, 'paroxysm': 3, 'headneg': 1, 'sling': 1, 'zyprexa': 4, 'guaic': 7, 'truli': 3, 'adeq': 10, 'con': 8, 'sucess': 2, 'ceftazdim': 1, 'itch': 4, 'variant': 8, 'calcul': 5, 'transduc': 4, 'unreli': 4, 'millivolt': 1, 'adv': 4, 'play': 5, 'overngiht': 1, 'excret': 5, 'straighten': 2, 'de': 8, 'certainli': 19, 'hemostat': 3, 'flolan': 2, 'slate': 1, 'mobilizi': 1, 'milliamp': 1, 'cco': 2, 'vigil': 4, 'lowest': 5, 'gingeral': 1, 'mgiv': 2, 'pharmacolog': 5, 'taler': 1, 'crackel': 1, 'tof': 3, 'anxious': 1, 'imposs': 4, 'brachial': 20, 'floa': 1, 'wbcc': 2, 'svo': 8, 'hemoptysi': 10, 'raw': 3, 'quantiti': 3, 'nanogram': 1, 'tvol': 1, 'cost': 2, 'fick': 3, 'affix': 1, 'erythemat': 5, 'pvr': 4, 'grappel': 1, 'aliv': 5, 'loperamid': 1, 'earlob': 2, 'cisatracuriun': 1, 'nobodi': 1, 'onvernight': 1, 'rsr': 5, 'eet': 1, 'exactli': 1, 'paramont': 1, 'argatroban': 3, 'ramp': 2, 'corti': 2, 'asssist': 2, 'buck': 4, 'assid': 1, 'acetaminophen': 12, 'distennd': 1, 'slh': 1, 'dlpic': 1, 'hemmorrag': 1, 'sclerodactyl': 1, 'remedi': 1, 'expecter': 1, 'swanganz': 2, 'creep': 4, 'alvealor': 1, 'viagra': 1, 'hickman': 2, 'gastrocult': 1, 'diladid': 1, 'prec': 1, 'irrevers': 4, 'nausa': 1, 'optimum': 1, 'lunchtim': 1, 'ulnar': 2, 'univ': 3, 'floflan': 1, 'swann': 1, 'drainig': 2, 'nuse': 1, 'packet': 3, 'sctl': 1, 'yello': 1, 'ressusit': 1, 'capillari': 4, 'lun': 1, 'comprehens': 3, 'stripe': 1, 'nonpapular': 1, 'dissemin': 3, 'settong': 1, 'expand': 13, 'wnr': 2, 'pancultur': 7, 'aztronem': 1, 'becasu': 1, 'pogt': 1, 'aztreonam': 5, 'regiment': 3, 'crepitu': 7, 'reaccumul': 8, 'ccc': 6, 'travers': 6, 'wil': 4, 'leftward': 9, 'antrum': 7, 'accumul': 6, 'neutra': 5, 'lucon': 1, 'pharmaci': 11, 'aztreonem': 1, 'firn': 1, 'chill': 7, 'inforc': 2, 'gyy': 1, 'evacu': 3, 'parallel': 2, 'plaec': 1, 'trunk': 4, 'antecubit': 3, 'aprrox': 1, 'phosphat': 21, 'loger': 1, 'cutur': 1, 'peribronchi': 3, 'straw': 9, 'hte': 1, 'paratrach': 8, 'ovisit': 1, 'sunday': 5, 'aortopulmon': 1, 'derecruit': 5, 'disconect': 1, 'spit': 2, 'maex': 1, 'bsx': 2, 'marjor': 1, 'betw': 1, 'ivx': 1, 'arrythmia': 4, 'huo': 4, 'entrant': 1, 'remind': 8, \"huo'\": 1, 'arhythmia': 1, 'pulmunari': 1, 'hoh': 4, 'psvt': 1, 'vacat': 2, 'orthodrom': 1, 'anyon': 2, 'maint': 10, 'cfm': 1, 'agreeabl': 4, 'ampul': 1, 'admittedto': 1, 'announc': 1, 'duti': 1, 'yset': 1, 'cva': 16, 'tirat': 1, 'plmt': 2, 'recycl': 2, 'probmot': 1, 'attemtp': 3, 'weam': 1, 'volumin': 1, 'attmept': 1, 'smoothli': 1, 'restain': 1, 'repolar': 8, 'paraspin': 2, 'pave': 1, 'hole': 9, 'creami': 6, 'prong': 4, 'nemb': 1, 'assur': 8, 'outpati': 17, 'handl': 4, 'radiat': 14, 'microneb': 1, 'vace': 1, 'lag': 2, 'joke': 1, 'cong': 2, 'duodenum': 9, 'elsewher': 2, 'burnt': 1, 'inabl': 23, 'vocal': 6, 'coat': 3, 'sesatur': 1, 'antral': 2, 'bvmr': 1, 'yankuar': 1, 'vertic': 4, 'rous': 3, 'bronchopulomari': 1, 'nasotrach': 3, 'linezolid': 7, 'nrbfm': 2, 'clearsecret': 1, 'attain': 4, 'perman': 3, 'dulcalox': 1, 'incsec': 1, 'partli': 9, 'cluster': 8, 'coher': 1, 'tracheal': 10, 'indicatedat': 1, 'isordil': 2, 'intestin': 8, 'peni': 3, 'omber': 1, 'oinment': 1, 'nervou': 2, 'oout': 1, 'linezloid': 1, 'passag': 2, 'orogastrc': 1, 'lenght': 1, 'enzim': 1, 'aever': 1, 'yellowish': 5, 'hoff': 1, 'spray': 5, 'gastroduoden': 1, 'pro': 5, 'db': 8, 'snake': 1, 'sligthli': 1, 'dubbhoff': 1, 'epsiod': 3, 'oropharnx': 2, 'bonchodil': 1, 'advoc': 3, 'perc': 6, 'nebx': 1, 'clammi': 5, 'effectof': 1, 'peristalsi': 1, 'redistribut': 7, 'verif': 1, \"pvc'\": 1, 'interactiv': 1, 'flouroscopi': 1, 'npa': 1, 'hematur': 1, 'wetter': 1, 'thinnish': 1, 'substern': 2, 'permit': 3, 'consistac': 1, 'conray': 2, 'ssc': 1, 'anim': 3, 'afebrel': 1, 'respitatori': 1, 'neosenephrin': 1, 'belief': 2, 'solarium': 1, 'conditon': 1, \"rec'\": 6, 'nsw': 1, 'boarder': 1, 'recept': 2, 'anoxia': 2, 'holiday': 4, 'abrupt': 4, 'button': 3, 'asytol': 3, 'religi': 3, 'eyelid': 4, 'indepth': 1, 'pta': 8, 'abn': 1, '^peep': 2, 'earil': 1, 'repsond': 2, 'anox': 3, 'honor': 1, 'orthodox': 2, 'ineffectu': 2, 'ration': 3, 'toungu': 1, 'distraught': 2, 'mere': 2, 'reinforc': 6, 'someon': 4, 'lean': 4, \"sx'ing\": 3, 'dignifi': 1, 'eveninng': 1, 'peerl': 1, 'posey': 2, 'belt': 1, 'autism': 1, 'grunt': 2, 'parent': 4, 'increment': 3, 'sibil': 1, 'orophanyng': 1, 'pulsatil': 2, 'collap': 2, 'experi': 10, 'print': 1, 'obstetr': 1, 'automat': 2, 'op': 8, 'endovagin': 1, 'dob': 1, 'bulg': 1, 'pem': 1, 'endometri': 2, 'aneurysm': 8, 'uteru': 6, 'adnexa': 3, 'nb': 2, 'sugic': 1, 'unresolv': 2, 'endometrium': 1, 'fibroid': 2, 'stab': 1, 'oper': 8, 'taa': 1, 'varri': 1, 'adendum': 2, 'cisatracrium': 1, 'inexplic': 1, 'backsid': 2, 'cista': 1, 'deeper': 2, 'bibap': 1, 'intiti': 1, 'varrifi': 1, 'famil': 4, 'ansesthesia': 1, 'physican': 2, 'dur': 1, 'facemask': 7, 'respitori': 4, 'ditiazem': 1, 'calor': 2, 'cirul': 1, 'occaision': 4, 'glenohumer': 2, 'indweel': 1, 'mom': 5, 'recumb': 2, 'microdata': 1, 'ziprasidon': 1, 'valproic': 2, 'physio': 2, 'sv': 2, 'lha': 1, 'repiratori': 2, 'whose': 5, 'somnul': 3, 'dyspnoic': 1, 'aplli': 2, 'plethora': 2, 'generalis': 2, 'profus': 3, 'adminst': 1, 'abaras': 1, 'obstr': 2, 'prupos': 1, 'myeloma': 4, 'inadequ': 12, 'scater': 1, 'abomin': 1, 'cephal': 9, 'tanish': 3, 'cardiopulm': 2, 'geodon': 1, 'yesterda': 2, 'btw': 3, 'lbr': 1, 'lcan': 1, 'awaitng': 2, 'analgesia': 6, 'imbal': 4, 'avss': 1, 'sucton': 1, 'multidisciplinari': 9, 'repair': 9, 'simplifi': 1, 'incision': 1, 'referr': 14, 'adam': 3, 'declar': 7, 'ciprofloxacin': 13, 'sesi': 1, 'intussuscept': 2, 'dysnchronu': 1, 'dire': 1, 'repleat': 8, 'nephrotox': 1, 'adhes': 5, 'manifest': 6, 'coli': 4, 'dismal': 2, 'resu': 3, 'mgting': 1, 'sole': 2, 'understood': 5, 'obviat': 1, 'wcc': 1, 'extraordinari': 2, 'intoler': 24, 'cast': 7, 'shfit': 1, 'ventral': 1, 'oft': 1, 'feurea': 5, 'carri': 5, 'onu': 1, 'persuad': 1, 'display': 11, 'incarcer': 2, 'muddi': 4, 'sem': 7, 'dorsal': 6, 'neob': 4, 'symptommat': 1, 'ascul': 1, 'rdf': 1, 'neighbor': 2, 'prop': 4, 'sbo': 7, 'flood': 1, 'perihepat': 5, 'valvular': 10, 'hemicolectomi': 2, 'aberr': 2, 'subcost': 1, 'honeycomb': 2, 'interpolar': 3, 'mesenter': 15, 'transvers': 7, 'gutter': 5, 'precarin': 3, 'proctiti': 1, 'transesophag': 3, 'biventricular': 7, 'hyperdens': 8, 'prox': 1, 'prune': 2, 'reticul': 3, 'splenul': 3, 'clostridium': 5, 'txpb': 2, 'sacroiliac': 2, 'multilevel': 6, 'anastomosi': 2, 'echocardiographi': 3, 'subpleur': 6, 'bronchiectasi': 7, 'milk': 3, 'paracol': 4, 'lymphoprolif': 1, 'ileocolon': 1, 'canal': 3, 'traction': 2, 'tachomyopathi': 1, 'intermedi': 4, 'aortopulmonari': 2, 'paraaort': 4, 'implic': 7, 'helic': 8, 'accordion': 1, 'tee': 11, 'mlhh': 1, 'extralumin': 3, 'annulu': 4, 'vna': 7, 'illicit': 3, 'maxillari': 7, 'tranfer': 1, 'god': 1, 'rtn': 1, 'bnp': 9, 'duoguard': 1, 'deflect': 3, 'silent': 2, 'pali': 2, 'gun': 1, 'epiglott': 3, 'witch': 1, 'unbroken': 4, 'hose': 1, 'explor': 3, '\\x13pt': 1, \"piv'\": 1, 'hyperchol': 1, 'strategi': 3, 'laser': 1, 'moisten': 3, 'metopolol': 1, 'pleasantli': 1, 'kill': 3, 'aao': 5, \"'sundown\": 1, 'awil': 1, 'psychiatri': 2, \"po'\": 2, 'od': 5, 'vasculatur': 12, 'slowley': 1, 'subarachnoid': 1, 'statement': 1, 'upt': 2, 'dayshift': 3, 'ambul': 6, 'ronchoru': 1, 'produst': 1, 'explainig': 1, 'hospitil': 1, 'swollow': 1, 'piperacillin': 36, 'slightl': 1, 'tab': 9, 'interest': 13, 'tub': 1, 'skincar': 2, 'strep': 4, 'diflucan': 4, 'notitifi': 1, 'sharpli': 3, 'propfol': 2, 'sete': 1, 'conctact': 1, 'disagre': 1, 'immediatli': 1, 'tachycarid': 1, 'bp^': 1, 'simethicon': 3, 'outcv': 1, 'bibpap': 2, 'integu': 3, 'grew': 6, 'lobectomi': 5, 'orogastr': 13, 'insist': 3, 'thrust': 1, 'requr': 4, 'pngt': 4, 'repsir': 2, 'abil': 16, 'arway': 1, 'drwn': 1, 'biapic': 3, 'eccessori': 1, 'mulleri': 1, 'entireti': 2, 'perhap': 15, 'morin': 1, 'levoflaxacin': 1, 'heliox': 4, 'guaz': 1, 'rhonchou': 2, 'remanin': 1, 'racem': 1, 'scare': 4, 'cocyx': 2, 'resend': 4, 'hila': 4, 'tb': 5, \"cc'sfor\": 1, 'svn': 1, 'relay': 4, 'agigt': 1, 'fetanyl': 2, 'hepatosplenomegali': 1, 'commod': 4, 'musculatur': 2, 'tendernss': 1, 'ucx': 14, 'prosthet': 2, 'heb': 1, 'rim': 2, 'immunosuppress': 4, 'cxwc': 4, 'admisison': 1, 'lesser': 6, 'futil': 4, 'dilauidid': 1, 'osteoblast': 3, 'nephropathi': 3, 'csurg': 1, 'jvd': 10, 'osteolyt': 4, 'tazobactam': 28, 'splenomegali': 3, 'anerysm': 1, 'tyelenol': 1, 'hyperparathyroid': 3, 'erythema': 7, 'tu': 1, 'myositi': 1, 'illeu': 3, 'hyoptens': 1, 'hcv': 6, 'echodens': 1, 'thrill': 2, 'hopsic': 1, 'pve': 1, 'decompress': 7, 'soleu': 1, 'triphas': 1, 'fsgn': 1, 'avr': 6, 'lifestyl': 1, 'embol': 19, 'harrt': 2, 'mssa': 5, 'throb': 1, 'serolog': 2, 'malnutrit': 15, 'tbili': 3, 'adat': 2, 'veg': 2, 'carbon': 8, 'cellul': 2, 'ale': 1, 'cachect': 3, 'qhd': 1, 'circumscrib': 1, 'ersd': 1, 'osteo': 2, 'flexor': 1, 'ao': 2, 'foreign': 4, 'monophas': 1, 'dehiss': 1, 'suspician': 2, 'ln': 3, 'ankl': 10, 'hsq': 1, 'specium': 1, 'synergi': 1, 'kal': 1, 'contigu': 16, 'emper': 3, 'imping': 2, 'nephrocap': 1, 'osteoarthr': 4, 'methadon': 5, 'rock': 1, 'circumferenti': 2, 'mycot': 1, 'surveil': 5, 'reform': 12, 'bioprosthet': 2, 'regurg': 6, 'dorsum': 1, 'sfyb': 1, 'narrow': 18, 'hbv': 1, 'embolu': 12, 'lbp': 1, 'multidetector': 9, 'fsg': 3, 'bruit': 5, 'viridan': 1, 'tibiotalar': 1, 'metatars': 1, 'cinacalcet': 1, 'haart': 4, 'veloc': 7, 'leni': 8, 'quietli': 1, 'supsect': 1, 'ginger': 1, 'tibial': 9, 'bmi': 10, 'vege': 1, 'hydralain': 1, 'articular': 1, 'nerv': 7, 'suppl': 13, 'emboli': 7, 'sevelam': 1, 'vegit': 2, 'candidaci': 2, 'deem': 4, 'favor': 12, 'subchondr': 2, 'ht': 3, 'amlodipin': 5, 'mmp': 2, 'endors': 3, 'trochant': 1, 'dehisc': 3, 'plafond': 1, 'guiaic': 4, 'macrovascular': 1, 'asciti': 4, 'antihypertens': 9, 'ring': 6, 'abi': 1, 'roughli': 5, 'entub': 1, 'cardimeg': 1, 'urosepsi': 5, 'gelfoam': 1, 'clearifi': 1, 'agonol': 1, 'venti': 1, 'skull': 7, 'catheter': 2, 'stimilu': 1, 'signifc': 2, 'standbi': 5, 'continun': 1, 'lucenc': 11, 'bisacodyl': 8, 'vertex': 5, 'velcro': 1, 'glucomet': 2, 'asysol': 1, 'csf': 3, 'perisplen': 3, 'pretrach': 5, 'wegen': 1, 'tcl': 1, 'tamer': 1, 'wegner': 1, 'avblock': 1, 'norvsasc': 1, 'leukemia': 4, 'coxxyx': 1, 'dialzi': 1, 'brachiocephal': 17, 'reso': 1, 'reinstitut': 2, 'serum': 19, 'parament': 1, 'cepetim': 1, 'cml': 1, 'dimin': 2, 'perpendicular': 1, 'lsubclavian': 1, 'pericol': 1, 'dietari': 1, 'bronchscopi': 1, 'aros': 2, 'agb': 2, 'ectat': 1, 'sauc': 4, 'dudoderm': 1, 'thk': 1, 'steadi': 5, 'cmml': 1, 'vista': 2, 'cortic': 7, 'perpl': 1, 'cerebellar': 4, 'rp': 2, 'thalamu': 1, 'coverd': 1, 'currentl': 3, 'prismat': 1, 'xx': 1, 'hydroxyea': 1, 'hiflo': 2, 'toleart': 2, 'pluggi': 2, 'blastic': 8, 'diverticul': 4, 'nimv': 4, 'diverticulosi': 4, 'trophic': 2, 'ry': 1, 'volulm': 1, 'misshapen': 1, 'insens': 4, 'exploratori': 1, 'ttube': 1, 'hemocult': 1, 'remot': 4, 'misc': 1, 'cchour': 1, 'mechaniclli': 1, 'adenoca': 1, 'nted': 1, 'copoiu': 1, 'chage': 2, 'preliminarili': 3, 'fleck': 1, 'noi': 1, 'rose': 5, 'hed': 1, 'laparotomi': 1, 'onthi': 2, '^^rr': 2, 'angiopathi': 1, 'fli': 5, 'peopl': 5, \"mod't\": 1, 'suspend': 2, 'esp': 11, 'deciscion': 1, 'diffficult': 1, 'beig': 2, 'chagn': 1, 'ocmmand': 1, 'paravertebr': 2, 'plerual': 3, 'est': 3, 'clonazapam': 1, 'abdoment': 1, 'hydral': 5, 'megac': 1, 'rhytham': 1, 'inhibitor': 5, 'rhochor': 3, 'aforement': 2, 'redirect': 2, 'reclin': 1, 'cereal': 1, 'omelett': 1, 'nli': 1, 'dinner': 5, 'cholesterol': 2, 'zoysn': 3, 'humid': 2, 'nonsens': 2, 'fed': 3, 'sched': 2, 'ace': 9, 'calori': 16, 'thormbu': 1, 'church': 1, 'yhesterday': 1, 'rnoc': 1, 'humolog': 1, 'prophalact': 1, 'multivessel': 2, 'school': 2, 'ys': 1, 'reqir': 1, 'ofr': 1, 'htd': 1, 'responc': 2, 'taketsubo': 1, 'eccymosi': 2, 'profilax': 1, 'ceftazidim': 4, 'suppos': 6, \"'sst\": 1, 'flacid': 3, 'diaphoresi': 2, 'ceftriax': 1, 'toenail': 2, 'boy': 1, 'howevet': 1, 'asympt': 1, 'dobuta': 2, 'consentr': 1, '^wbc': 1, 'hotel': 2, 'kilo': 1, 'vese': 2, 'perirect': 2, 'perifer': 1, 'boyfriend': 1, 'sydron': 1, 'rouseabl': 1, 'conjuct': 1, 'requirinf': 1, 'ventiltori': 1, 'tepid': 2, 'appopri': 1, 'isnp': 1, 'wehen': 1, 'craniotomi': 2, 'redress': 4, 'parametr': 1, 'rigor': 1, 'phenytoin': 2, 'snx': 5, 'pinsp': 2, 'esoph': 4, 'intermittint': 1, 'insid': 4, 'oygen': 1, 'rescuscit': 2, 'spare': 12, 'vasporessin': 1, 'zoysyn': 1, 'duoden': 4, 'anasrca': 1, 'decret': 1, 'tma': 1, 'oliguria': 7, 'unrealist': 2, 'lovenox': 4, 'manoeuv': 1, 'classif': 1, 'dysynchron': 9, 'anascara': 2, 'orallli': 1, 'prioriti': 11, 'dilantin': 4, 'flextub': 1, 'sluggishli': 6, 'forth': 5, 'lpew': 1, 'pivx': 1, 'certain': 2, 'fluoroquinolon': 1, 'inappropri': 6, 'holosystol': 1, 'motor': 5, 'systolicali': 1, 'dyston': 2, 'furosemid': 18, 'cpcp': 2, 'labatolol': 1, 'cautious': 1, 'tob': 2, 'workup': 10, 'holosyst': 2, 'clonu': 5, 'mucin': 1, 'calmer': 1, 'doxercalciferol': 1, 'arestraint': 1, 'unplan': 3, 'blous': 6, 'cup': 1, 'extubat': 2, 'ctab': 7, 'disorient': 2, 'dentur': 5, 'couas': 1, 'levothyroxin': 5, 'apici': 1, 'thirsti': 2, 'nasaotrach': 1, 'fluent': 3, 'reproduc': 1, 'threshold': 10, 'ramya': 2, 'hemodynamicli': 1, 'narc': 2, 'epitheli': 11, 'suspiciion': 1, 'risbi': 3, 'aphonia': 1, 'phlegm': 1, 'gestur': 4, 'benefif': 1, 'mmv': 5, 'unwil': 2, 'hld': 1, 'tsp': 4, 'hgb': 21, 'py': 1, 'crf': 4, 'trazadon': 3, 'claim': 15, 'suffici': 9, 'foi': 2, 'shadow': 8, 'bedsight': 1, 'gfr': 4, 'bisbi': 1, 'clonic': 1, 'seat': 5, 'unmetabol': 1, 'cipso': 1, 'dwindl': 2, 'relev': 27, 'share': 7, 'etio': 1, 'endobronchi': 4, 'labetolol': 2, 'mastic': 2, 'labetalol': 2, 'slp': 7, 'rebronch': 1, 'context': 8, 'tetracyclin': 2, 'phosphor': 1, 'mouthcar': 5, 'outstand': 1, 'email': 6, 'hypothyroid': 11, 'dial': 2, 'besid': 4, 'establish': 11, 'acoust': 6, 'rhythmic': 1, 'inspiratori': 19, 'lingual': 3, 'binder': 5, 'propafol': 5, 'intellig': 1, 'reexpand': 1, 'viscou': 1, 'attg': 2, 'retri': 4, 'underestim': 6, 'lighten': 11, 'rlsb': 1, 'pmn': 15, 'oa': 1, 'whiteout': 1, 'spill': 1, 'pallait': 1, 'secretin': 1, 'strict': 7, 'engag': 3, 'conserv': 4, 'labial': 2, 'azithro': 8, 'trand': 1, 'stabli': 3, 'consequ': 7, 'protrus': 1, 'facet': 2, 'bronchiti': 4, 'buccal': 2, 'edentul': 2, 'reattempt': 4, 'aaa': 3, 'parathyroid': 1, 'occurr': 3, 'ctx': 3, 'uid': 1, 'boop': 4, 'destruct': 4, 'reticular': 10, 'submit': 8, 'arthroplasti': 3, 'instrument': 2, 'microbubbl': 2, 'reflux': 6, 'tia': 2, 'pfo': 7, 'construct': 2, 'cerebrovascular': 2, 'transplan': 1, 'recon': 10, 'scleroderma': 1, 'congenit': 3, 'dysmotil': 2, 'intramur': 1, 'hyxpoxia': 1, 'distens': 10, 'uip': 1, 'transaort': 2, 'lumbar': 12, 'bore': 5, 'collagen': 1, 'ipf': 12, 'proven': 1, 'usip': 1, 'version': 7, 'sedement': 1, 'maitain': 2, 'cheeck': 1, 'pullback': 1, 'spastic': 1, 'goodby': 7, 'claustrophobia': 1, 'curtain': 1, 'furthermor': 2, 'claustrophob': 1, 'rhythym': 1, 'increasd': 2, 'tapper': 2, 'incred': 1, 'nitrat': 2, 'hallucin': 3, 'debat': 2, 'achill': 1, 'initiali': 2, 'polit': 1, 'perf': 4, 'revisit': 4, 'deepli': 2, 'repost': 1, 'collaber': 1, 'frequ': 2, 'ioc': 1, 'bleb': 2, 'heavili': 5, 'firmer': 2, 'oxa': 2, \"sx'ng\": 2, 'chanag': 1, 'degress': 1, 'tramua': 1, 'idiopath': 4, 'ccn': 4, 'setti': 1, 'teradyn': 1, 'pf': 3, 'cataract': 5, 'rap': 1, 'secreiton': 2, 'brn': 2, 'tten': 1, 'rhoncor': 5, 'rhonchour': 2, 'hygen': 2, 'big': 8, 'alsdo': 1, 'aova': 2, 'resit': 9, 'verga': 1, 'allerg': 3, 'irrigatioin': 1, 'twave': 2, 'receeiv': 1, 'withdrew': 3, 'hyperkalem': 3, 'flank': 8, 'pellucidum': 1, 'un': 3, 'trendelenberg': 2, 'iwth': 1, 'unopacifi': 1, 'beginnng': 1, 'vre': 6, 'preceed': 1, 'norvasc': 2, 'fic': 1, 'asbestosi': 1, 'ppf': 1, 'stg': 4, 'worsend': 2, 'notif': 5, 'osteoarthrit': 1, 'allevi': 5, 'invert': 1, 'urolog': 4, 'redos': 4, 'rc': 1, 'meatu': 5, 'pateitn': 1, 'balalnc': 1, 'eitiolog': 1, 'absorpt': 5, 'drng': 3, 'wih': 1, 'unsuit': 1, 'mattess': 1, 'fasicul': 1, 'pleasa': 1, 'beginni': 1, 'curvilinear': 2, 'pararen': 2, 'thalam': 1, 'levofloxin': 3, 'cavum': 1, 'appov': 1, 'adden': 1, 'eventaulli': 1, 'gb': 5, 'hemiparesi': 3, 'romi': 1, 'qh': 6, 'groan': 2, 'plantar': 1, 'rhinorrhea': 1, 'orif': 2, 'seroquel': 2, 'usoh': 3, 'yof': 5, 'detrol': 2, 'lbbb': 2, 'disloc': 4, 'mmm': 10, 'indetermin': 12, 'adnex': 1, 'hsm': 8, 'hemiparasi': 1, 'ecchymos': 5, 'rm': 1, 'appendix': 4, 'scopalamin': 4, 'nsaid': 2, 'arrous': 3, 'qt': 3, 'ingest': 3, 'gonad': 1, 'tsh': 7, 'unresponsiv': 1, 'antimicrobi': 11, 'stair': 3, 'atheroma': 3, 'infxn': 2, 'sma': 3, 'electrocauderi': 1, 'atalectasi': 2, 'mening': 6, 'lenticulostri': 1, 'lp': 5, 'align': 2, 'hemiarthroplasti': 1, 'heterotop': 2, 'drew': 1, 'varic': 7, 'requier': 2, 'egd': 7, 'thr': 1, 'doubt': 9, 'unarous': 4, 'contractur': 1, 'cor': 4, 'muffl': 1, 'imi': 1, 'assoc': 4, 'menopaus': 1, 'downgo': 1, 'cement': 1, 'tobro': 1, 'tobra': 5, 'offici': 7, 'vaso': 3, 'lvel': 1, 'doputamin': 1, 'transf': 1, 'dssg': 1, 'bicar': 1, 'surrog': 2, 'ovb': 2, 'pendn': 1, 'therapeuitc': 1, 'tobromycin': 1, 'miltipl': 2, 'cotn': 1, 'uppon': 1, 'uit': 1, 'pupl': 2, 'guardianship': 2, 'befriend': 1, 'comand': 2, 'flexacil': 1, 'cllose': 1, 'paraplegia': 1, 'unbal': 1, 'escol': 1, 'zocyn': 2, 'vasoppresin': 1, 'vasopresin': 2, 'underway': 3, 'thta': 2, 'program': 7, 'monitoirng': 1, 'uint': 1, 'portacath': 4, 'xrt': 7, 'fing': 1, 'migrat': 6, 'droppedfrom': 1, 'peteci': 1, 'interdisciplinari': 14, 'exfoli': 1, 'icd': 5, 'lyphanget': 1, 'tmp': 8, 'infra': 1, 'rectobulbar': 1, 'bee': 8, 'hemodynim': 16, 'holder': 2, 'ignor': 1, 'clarif': 5, 'annoint': 1, 'writer': 2, 'galactomannan': 7, 'dissect': 6, 'stepson': 1, 'vtachi': 2, 'gout': 6, 'alkalin': 15, 'petechia': 7, 'newest': 1, 'gola': 1, 'zocor': 2, 'ringworm': 1, 'harm': 6, 'protinx': 1, 'denial': 2, 'rheumatoid': 4, 'arthriti': 6, 'score': 5, 'conveni': 1, 'bless': 3, 'nab': 5, 'love': 4, 'enorm': 1, 'formula': 9, 'celexa': 2, 'oliguricb': 1, 'rite': 4, 'sedtat': 2, 'lipidemia': 1, 'sclc': 1, 'hemorrag': 1, 'sclca': 1, 'fentayl': 3, 'kind': 1, 'glucan': 8, 'digoxin': 9, 'smx': 7, 'elderi': 1, 'effectivli': 1, 'levofoxacin': 1, 'auto': 7, 'mth': 2, 'retent': 7, 'calc': 20, 'allopurinol': 6, 'presumpt': 3, 'magnet': 2, 'excess': 11, 'plot': 2, 'wgt': 17, 'articl': 2, 'hilum': 2, \"'abl\": 1, 'cracker': 1, 'postsurg': 2, 'transud': 6, 'puffer': 1, 'thoracetesi': 1, 'lla': 1, 'diltizem': 1, 'mulitsystem': 1, 'bend': 2, 'dilut': 4, 'rewuir': 1, 'speciman': 1, 'trnasport': 1, 'thouhg': 1, 'frop': 1, 'propopfol': 1, 'lefloxin': 1, 'whne': 2, \"pt'scode\": 1, 'lawyer': 2, 'hydroneprosi': 1, 'lipoma': 1, 'doen': 3, 'tortous': 1, 'fatti': 1, 'aneursym': 1, 'manner': 4, 'eechymot': 1, 'ectasia': 1, 'retrocrur': 1, 'vd': 1, 'ceftrix': 1, 'bifurc': 2, 'zithromax': 1, 'thorocolumbar': 1, 'cult': 8, 'acuta': 1, 'cecal': 1, 'diapragmat': 1, 'predomiantli': 1, 'stoic': 1, 'diaphragmat': 4, 'network': 1, 'tobramycin': 3, 'vistit': 1, 'icechip': 1, 'privaci': 2, 'pearla': 2, 'succinocholynin': 1, 'nbr': 1, 'rlower': 1, 'zantac': 1, 'provit': 1, 'blur': 4, 'furhter': 3, 'gaseou': 2, 'oversed': 1, 'verapmil': 1, 'reconsult': 5, 'vicari': 2, 'scapula': 3, 'hypernatrium': 1, 'plasma': 2, 'act': 12, 'blod': 2, 'browni': 1, 'consolida': 1, 'verapimil': 1, 'fifth': 3, 'reactiven': 1, 'plasmaforesi': 1, 'inceas': 1, 'thoracoabdomin': 2, 'ittp': 1, 'trap': 5, 'tolerta': 1, 'activitiy': 1, 'widen': 15, 'ser': 1, 'eyebrow': 2, 'therapuet': 1, 'tympan': 3, 'inqueri': 1, 'ri': 1, 'cld': 1, 'ordor': 1, 'siezur': 2, 'frig': 1, 'hemobilia': 1, 'reass': 2, 'wise': 5, 'suscept': 3, 'multilobular': 2, 'aystol': 1, 'miantain': 1, 'roll': 5, 'cat': 6, 'occai': 1, 'derterior': 1, 'hemetolog': 1, 'urpc': 1, 'retart': 1, 'benigh': 1, 'wquickli': 1, 'hematuria': 7, 'lral': 1, 'fosphenytoin': 1, 'dialntin': 1, 'amniodoron': 1, 'ttp': 2, 'plasmapheresi': 1, 'enrout': 2, 'dgt': 1, 'supra': 7, 'gvien': 2, 'remian': 5, 'midlung': 1, 'rsstraint': 1, 'interfac': 1, 'oxygent': 3, 'mard': 1, 'calvarium': 3, 'amirion': 1, 'procan': 1, 'dilatin': 2, 'rpc': 2, 'amniodaron': 2, 'ej': 3, 'curent': 2, 'scopolimin': 1, 'tema': 1, 'realtim': 2, 'cotinu': 1, 'hardcopi': 1, 'angiographi': 5, 'chol': 3, 'statlock': 2, 'proovid': 1, 'montitor': 3, 'tubefe': 5, 'stack': 4, 'suitabl': 4, 'ativna': 1, 'fluor': 1, 'qtc': 3, \"'girgl\": 1, 'fmaili': 3, 'thread': 1, 'schiz': 1, 'basicali': 1, 'spontaneuosli': 1, 'dryness': 1, 'stoke': 3, 'reschedul': 2, 'elbow': 9, 'surpriz': 1, 'dissapoint': 1, 'sing': 1, 'nibp': 7, 'tyre': 1, 'supratherapeut': 9, 'yankeaur': 1, 'everyon': 2, 'disciplanari': 1, 'movent': 1, 'enhans': 1, 'smile': 2, 'feud': 1, 'dequat': 1, 'fentynl': 1, 'anzimet': 1, 'tuesday': 9, 'thorencentesi': 2, 'ascult': 2, 'rtespiratori': 1, 'precept': 2, 'busi': 1, 'miconazol': 4, 'topler': 1, 'peaceabl': 1, 'bipsi': 1, 'fusion': 3, 'chardt': 1, 'periarea': 1, 'respiratorey': 1, 'error': 6, 'reexpans': 2, 'eight': 3, 'pleurex': 1, 'saliv': 1, 'dime': 1, 'hemonc': 1, 'brochoscopi': 2, 'yankuer': 1, 'nysatin': 1, 'anasthesia': 1, 'pleuvex': 1, 'thck': 1, 'yanker': 1, 'thicker': 3, 'bronchoscpi': 1, 'miconizol': 1, 'diaph': 1, 'mechinc': 1, 'supposrt': 1, 'dangl': 2, 'figur': 3, 'underpenetr': 7, 'cardia': 2, 'fentaynl': 1, 'mitrazol': 1, 'suter': 1, 'chaqng': 1, 'mimin': 1, 'myconazol': 1, 'vomitinig': 1, 'pipricillin': 1, 'pneumotho': 1, 'pdr': 1, 'quesstion': 1, 'lght': 1, 'conclud': 1, 'thoracenthesi': 1, 'remainpt': 1, 'otherw': 1, 'avg': 3, 'mim': 1, 'creme': 2, 'suberb': 1, 'supertherapeut': 1, 'sg': 1, 'cutoff': 1, 'rythem': 1, 'season': 1, 'ventricularli': 1, 'multivitamin': 10, 'author': 3, 'gluos': 1, 'restor': 1, 'evolut': 6, 'phynelephrin': 1, 'rhythem': 1, 'thrombolysi': 1, 'pendin': 1, 'aa': 5, 'exhal': 13, 'hypocalor': 5, 'lopresor': 1, 'nkfa': 4, 'revert': 2, \"jxn'al\": 1, 'viscer': 2, 'pyuria': 3, 'warrant': 5, 'methgb': 1, 'polar': 1, 'thrombot': 3, 'microb': 1, 'ggt': 7, 'dermatolog': 1, 'diabet': 14, 'hocm': 1, 'hyperventil': 3, 'boluss': 1, 'papyracea': 1, 'reconsclip': 1, 'ethanol': 1, 'mellitu': 3, 'aksb': 1, 'strike': 1, 'vivonex': 3, 'vasculariz': 1, 'characterist': 2, 'meningioma': 2, 'timecours': 1, 'nonhemorrhag': 2, 'suppli': 6, 'fibersourc': 7, 'abtout': 1, 'smv': 2, 'thrombophilia': 1, 'dmfj': 1, 'glaucoma': 2, 'descript': 7, 'miner': 10, '^nd': 8, 'massag': 5, 'ecoli': 4, 'hypertroph': 3, 'thrombi': 3, 'lamina': 2, 'hemispher': 1, 'academia': 2, '^st': 6, 'defecit': 2, 'thrombos': 2, 'ablat': 5, 'hiss': 14, 'superven': 6, 'stasi': 4, 'fossa': 7, 'ubw': 1, 'pepcid': 6, 'hypercoagul': 1, 'research': 2, 'proteu': 2, 'thrombo': 1, 'ich': 5, 'atherosclerosi': 4, 'appendag': 3, 'dlrc': 3, 'hn': 9, 'ddd': 2, 'metavis': 12, 'lordot': 3, 'memeori': 1, 'fot': 1, 'subtl': 6, 'visisbilti': 1, 'gown': 1, 'vest': 1, 'sundown': 1, 'throw': 3, 'initailli': 1, 'alzheim': 9, 'appropiatelt': 1, 'uret': 3, 'stromal': 1, 'hemiabdomen': 1, 'greatest': 2, 'duplic': 3, 'collasp': 1, 'debil': 2, 'str': 2, 'tree': 11, 'hasten': 1, 'lobul': 2, 'mesenchym': 1, 'adamantli': 1, 'oldest': 1, 'kyphosi': 3, 'parapelv': 1, 'comprehend': 3, 'taneous': 1, 'abcess': 5, 'ride': 1, 'gpt': 1, 'lucid': 1, 'crement': 1, 'gentl': 16, 'outer': 3, 'prsentli': 1, 'fourth': 2, 'group': 3, 'coar': 2, 'oi': 2, 'distanc': 3, 'pleath': 1, 'mtp': 1, 'incluc': 1, 'eros': 1, 'susp': 1, 'hypottherm': 1, 'periost': 1, 'gastrojejunostomi': 1, 'fragment': 4, 'collectio': 1, 'chiba': 1, 'uncin': 1, 'hyperglycem': 2, 'azythromycin': 2, 'ultrasonograph': 2, 'pnacreat': 1, 'minimu': 1, 'collim': 5, 'levetiracetam': 2, 'mrcp': 3, 'centrilobular': 3, 'marker': 7, 'calcaneu': 1, 'osteomyel': 2, 'cloog': 1, 'gluteu': 1, 'afb': 6, 'recc': 2, 'bound': 6, 'lucent': 3, 'malleolu': 1, 'plactment': 1, 'ossif': 2, 'obl': 1, 'disp': 3, 'phonecal': 2, 'stagger': 1, 'desk': 1, 'bronchiol': 2, 'px': 1, 'potato': 1, 'dicuss': 1, 'cs': 1, 'manger': 2, 'swalow': 1, 'aspit': 1, 'brisckli': 1, \"treatments'\": 1, 'regad': 1, 'veyr': 1, 'jello': 3, 'mash': 1, 'pleura': 4, 'gait': 4, 'lfa': 1, 'fibrothorax': 1, 'drool': 2, 'dexamethason': 3, 'rewarm': 1, 'hemorrhoid': 1, 'cisat': 1, 'ivabx': 1, 'pacu': 1, 'attack': 3, 'slightest': 1, 'formul': 3, 'damag': 4, 'tachyp': 1, 'subsegment': 11, 'tomm': 1, 'aveolar': 2, 'xfew': 1, 'seemd': 1, 'mmcg': 1, 'tachypnia': 1, 'seveer': 1, 'disynchron': 3, 'pipercillin': 1, 'cisatricurium': 2, 'rs': 1, 'similarli': 1, 'tact': 2, 'shr': 1, 'fibrot': 8, 'caontact': 1, 'brow': 1, 'univers': 1, 'fleet': 4, 'hypotnes': 1, 'fold': 8, 'twelfth': 1, 'contini': 3, 'bleomycin': 1, 'regain': 4, 'wasd': 1, 'furrow': 1, 'serosangin': 2, 'tablet': 4, 'plavix': 3, 'optimist': 1, 'pleuro': 1, 'hodgkin': 3, 'critacar': 1, 'occat': 3, 'ever': 3, 'synchroni': 3, 'lymphpma': 1, 'olanzapin': 1, 'hodgekin': 1, 'intermitantli': 1, 'tachard': 1, 'bleo': 1, 'trnasfer': 1, 'critcaid': 1, 'inconti': 1, 'whe': 1, 'correctli': 4, 'reuslt': 1, 'methylprednisolon': 10, 'perian': 3, 'isoridl': 1, 'sixth': 2, 'mophin': 1, 'coasr': 1, 'treatement': 4, 'thrash': 3, 'nitroglycerin': 1, 'dowm': 1, 'restlessli': 1, 'assessori': 1, 'aspirt': 1, 'afteran': 1, 'brath': 2, 'hydrocrtison': 1, 'bilaterali': 1, 'anal': 3, 'pediatr': 1, 'donat': 3, 'reinit': 1, 'perm': 2, 'pronoun': 1, 'mobilazt': 1, 'aureu': 4, 'stitch': 1, 'countri': 1, 'milrinon': 2, 'urea': 1, 'shave': 2, 'rssi': 2, 'tpiec': 1, 'secrect': 3, 'dloppler': 1, 'midazolm': 1, 'nif': 4, 'nucleu': 1, 'outcom': 8, 'bij': 1, 'index': 6, 'predomin': 8, 'hemmerroid': 1, 'resdiual': 2, 'pariet': 3, 'placemnt': 2, 'glycerin': 1, 'gastroccult': 3, 'ocassion': 1, 'sennakot': 1, 'tylenon': 1, 'subacut': 4, 'cheynn': 1, 'ahead': 3, 'compazin': 5, 'pericardiocentesi': 1, 'ativn': 1, 'whatev': 2, 'smal': 2, 'evalul': 1, 'melanoma': 3, 'porli': 1, 'pg': 1, 'pericarid': 1, 'breakthrough': 4, 'melenoma': 2, 'scatt': 1, 'bereav': 2, 'tke': 1, 'likley': 5, 'imrpvo': 1, 'disregard': 2, 'eaten': 1, 'boul': 1, 'etoh': 7, 'music': 2, 'goven': 1, 'legthargi': 1, 'codien': 1, 'bigemin': 1, 'drank': 2, 'pnuemonia': 4, 'crack': 1, 'stream': 1, 'imipenim': 1, 'ugi': 2, 'comnt': 1, 'bpsupport': 1, 'lwst': 1, 'north': 1, 'pleurovac': 1, 'counsel': 3, 'ectpoy': 1, 'pig': 2, 'urbc': 1, 'esophagogastrostomi': 1, 'electrolt': 1, 'scout': 3, 'pooli': 1, 'autodiuresi': 3, 'dt': 3, 'scalpel': 1, 'cark': 1, 'shotti': 1, 'transpos': 1, \"'boston\": 1, 'hydropneumothorax': 3, 'foloow': 1, 'patentci': 2, 'reattach': 1, 'pen': 1, 'intacat': 1, 'clearl': 1, 'adenoma': 3, 'transposit': 1, 'swing': 2, 'cous': 1, 'pike': 2, 'lgt': 1, 'pulsesd': 1, 'reuir': 1, 'cultu': 1, 'fd': 1, 'pee': 1, 'consutl': 1, 'monito': 2, 'explanatori': 1, 'knick': 1, 'persit': 1, 'btf': 1, 'vi': 6, 'soflti': 1, 'epogen': 1, 'pahco': 1, 'endur': 2, 'prescrib': 5, 'gastroesophagectomi': 1, 'bibasilarri': 1, 'feso': 1, 'ativanand': 1, 'systesm': 1, 'cahng': 1, 'fibr': 1, 'joul': 2, 'coun': 1, 'freqnent': 1, 'vecuronium': 5, 'bsp': 1, 'vor': 1, 'genta': 2, 'clench': 1, 'progrerss': 1, 'metab': 2, 'mgsulfat': 2, 'solubl': 1, 'csl': 1, 'autodiur': 1, 'assst': 1, 'rhoncii': 2, 'sa': 4, 'sucralf': 1, 'sson': 1, 'egg': 1, 'consistenli': 2, '^^hr': 1, 'afcter': 1, 'eposid': 1, 'extravas': 2, 'eager': 1, 'quaniti': 1, 'esophagogastrectomi': 1, 'gym': 1, 'soundsa': 1, 'osm': 2, 'bldi': 4, 'incorrect': 2, 'suff': 1, 'news': 5, 'recommn': 1, 'imipenum': 1, 'electroyt': 1, 'esophogram': 1, 'clonidin': 1, 'plueravac': 1, 'innomin': 2, 'yanquer': 1, 'imtermitt': 1, 'amnio': 1, 'slighti': 2, 'diaphort': 1, 'mechanicali': 1, 'willprob': 1, 'underwat': 1, 'disregaurd': 1, 'diluadid': 2, 'fluib': 1, 'select': 4, 'abt': 3, 'subpulmonari': 1, 'possilb': 1, 'icnreas': 1, 'caglucon': 1, 'decomens': 1, 'patednt': 1, 'northern': 1, 'overview': 1, 'feoli': 1, 'imipenem': 2, 'membership': 1, 'intrathor': 1, 'chck': 1, 'autodiures': 5, 'aspriat': 1, 'mechanicli': 1, 'caraf': 1, 'drainin': 1, 'tag': 1, 'noectopi': 1, 'dilit': 2, 'tail': 4, 'primaxin': 1, 'unmeasur': 1, 'amen': 4, 'hepar': 3, 'inci': 1, 'theradyn': 1, 'flucoazol': 1, 'hepatin': 1, 'gentamicin': 4, 'postprocedur': 1, 'jtube': 3, 'lovefloxacin': 1, 'pullup': 1, 'fistul': 1, 'tachynepn': 1, 'yellw': 1, 'endoscopi': 8, 'pullthrough': 2, 'amioderon': 5, 'heparn': 1, 'withi': 1, 'accident': 2, 'irregularli': 3, 'activit': 1, 'scope': 6, 'dng': 3, 'sytsem': 1, 'neget': 1, 'pluera': 1, 'anastomot': 1, 'hnh': 1, 'adenosen': 1, 'multidisiciplinari': 1, 'blank': 1, 'cg': 3, 'mgnt': 1, 'vc': 1, 'smell': 3, 'threadi': 1, 'discoordiant': 1, 'ele': 1, 'regist': 3, 'sanguini': 1, 'exclus': 3, 'replt': 1, 'hydrox': 1, 'liber': 4, 'waters': 5, 'metabil': 1, 'omg': 1, 'airleak': 2, 'fentantyl': 1, 'insulingtt': 1, 'elastoplast': 1, 'thorascopi': 1, 'crepidu': 1, 'cmg': 1, 'bactroban': 1, 'subcut': 1, 'radal': 1, 'ceftazidin': 1, 'slather': 1, 'reolv': 1, 'shot': 2, 'bllod': 1, 'oncom': 1, 'lasux': 1, 'behaviour': 1, 'mainta': 3, 'ant': 12, 'aluminum': 1, 'creptiu': 1, 'dvr': 1, 'oxacillin': 2, 'eextrem': 1, 'untoward': 2, 'activti': 1, 'scoot': 1, 'lax': 1, 'trahc': 1, 'jepard': 1, 'hyperphosphatemia': 1, 'cw': 1, 'givent': 2, 'amphogel': 1, 'acisosi': 1, 'positv': 2, 'wavefrom': 1, 'fluctut': 1, 'bactoban': 1, 'sarna': 1, 'kink': 4, 'thorcoscopi': 1, 'coordin': 7, 'oo': 1, 'wtih': 3, 'lotion': 3, 'periodci': 1, 'heater': 1, 'inquiri': 2, 'plcmt': 2, 'biat': 1, 'fluctutaion': 1, 'seed': 2, 'pxcr': 1, 'orderd': 3, 'toadi': 1, 'subcuta': 1, 'ceftazadim': 2, 'sersang': 2, 'lacter': 1, 'nruse': 1, 'acquisit': 4, 'ahf': 1, 'jkpe': 2, 'tailor': 6, 'peripheri': 6, 'yankour': 1, 'calendar': 1, 'inspiss': 1, 'obliqu': 7, 'exor': 1, 'rbreast': 1, 'superiorli': 3, 'pkt': 2, 'doesnot': 1, 'nissen': 1, 'rami': 2, 'tension': 3, 'pnuemo': 1, 'extern': 6, 'subseq': 2, 'anterosept': 10, '^psv': 1, 'randomli': 1, 'tib': 1, 'softsorb': 3, 'fundopl': 1, 'nonocclus': 3, 'sphyncter': 1, 'dart': 1, 'mvo': 3, 'shin': 2, 'lumbosacr': 2, 'pri': 1, 'led': 9, 'pneum': 2, 'anterobasilar': 1, 'anterobas': 1, 'surprisingli': 1, 'pastor': 6, 'unobtain': 4, 'vac': 1, 'intussuscipien': 1, 'retrial': 1, 'ileum': 1, 'ausculat': 1, 'pancol': 2, 'lose': 2, 'sofsorb': 1, 'anasarc': 4, 'carin': 1, 'unilat': 10, 'metal': 3, 'wildli': 1, 'indent': 2, 'brim': 2, 'remainin': 1, 'duodenojejun': 1, 'unattain': 1, 'aubil': 1, 'amoutn': 1, 'tray': 2, 'silhouet': 2, 'bronchoalveolar': 1, 'com': 2, 'snow': 1, 'decreat': 1, 'amberish': 1, 'moniot': 1, 'interspac': 2, 'afebrilewbc': 1, 'anxiolyt': 5, 'obsess': 1, 'slighlti': 2, 'coax': 1, 'soundli': 2, 'desolv': 1, 'chlorothiazid': 3, 'lasiz': 1, 'andwer': 1, 'essent': 3, 'semierect': 1, 'basalar': 1, 'ssic': 1, 'epigloti': 1, 'rth': 1, 'compet': 3, 'larm': 1, 'afbril': 1, 'neurlog': 1, 'perpheri': 2, 'extremli': 1, 'nutramenren': 1, 'mucousa': 1, 'pti': 1, 'diali': 1, 'rf': 3, 'app': 1, 'abswer': 1, 'diuril': 5, 'detrior': 2, 'soik': 1, 'nutramen': 1, 'susction': 1, 'swabe': 1, 'approprietli': 1, 'loudli': 1, 'soar': 1, 'depper': 1, 'coorel': 1, 'topic': 6, 'cogniz': 1, 'llp': 1, 'stylet': 2, 'amint': 1, 'highest': 4, 'breathrough': 1, 'insuluin': 1, 'daptomycin': 1, 'gaol': 3, 'bother': 2, 'directli': 5, 'coccycx': 1, 'flair': 5, 'famotidin': 9, 'inutb': 1, 'iniit': 1, 'esophog': 1, 'lverf': 1, 'extrins': 3, 'faliur': 1, 'dimninsh': 1, 'prpogress': 1, 'currenlti': 3, 'hypoventil': 3, 'anytim': 1, 'fuo': 6, \"'sbp\": 1, 'hypoxcemia': 1, 'lund': 1, 'tlyenol': 1, 'ateri': 1, 'drep': 1, 'arrythmmia': 1, 'triag': 1, 'thrive': 3, 'urgenc': 1, 'waffel': 1, 'biacodyl': 1, 'strictur': 1, 'periodd': 1, 'aabout': 1, 'clincal': 1, 'axieti': 1, 'vsd': 6, 'ppo': 1, 'trumphet': 1, 'stonehedg': 1, 'disicion': 1, 'laminectomi': 1, 'dimentia': 2, 'millisecond': 3, 'trazedon': 1, 'diverticula': 3, 'swal': 1, 'specifc': 1, 'cfh': 1, 'safey': 1, 'se': 1, 'mount': 1, 'nurisng': 1, 'receivd': 1, 'inntub': 1, 'lrad': 2, 'hemolysi': 8, 'ver': 2, 'bw': 1, 'flexis': 8, 'criticaid': 3, 'undergon': 5, 'lpicc': 1, 'aggiat': 1, 'finerstick': 1, 'blow': 1, 'stonger': 1, 'trickl': 1, 'movmement': 1, 'rsv': 2, 'breifli': 1, 'transpleur': 2, 'anticoag': 4, 'platueau': 1, 'blanch': 4, 'pseudoaneurysm': 1, 'ize': 1, 'gluco': 1, 'postmortem': 1, 'mimim': 1, 'qlc': 1, 'laid': 2, 'kayxel': 1, 'troubleshoot': 1, 'morhin': 2, 'addenum': 1, 'transpulmonari': 2, 'vault': 2, 'worri': 2, 'prvc': 4, 'disimpact': 2, 'sett': 1, 'alkolot': 1, 'antibiod': 3, 'ru': 2, 'sludgi': 1, 'ballon': 2, 'evalut': 4, 'spous': 3, 'septat': 3, 'microangiopath': 1, 'cerebellum': 1, 'hyperextens': 2, 'sesha': 2, 'respres': 1, 'preferenti': 2, 'sternoclavicular': 1, 'asymmetri': 3, 'pxdb': 2, 'nursin': 1, 'dashboard': 2, 'ghome': 1, 'trajectori': 2, 'predict': 4, 'condol': 2, 'hypervolem': 2, 'dinitr': 1, 'wheelchair': 3, 'outpt': 5, 'disucuss': 2, 'neurontin': 3, 'improov': 1, 'mosd': 1, 'contd': 1, 'recd': 1, 'hypovolem': 9, 'rip': 1, 'matalazon': 1, 'aglc': 4, 'aournd': 1, 'hff': 1, 'enterococci': 2, 'hf': 4, 'rlq': 3, 'metolazon': 1, 'coreg': 1, 'isosorbid': 1, 'intract': 1, 'bi': 2, 'ecal': 1, 'broadli': 7, 'nitropast': 1, 'nephrologist': 2, 'bipaa': 1, 'xone': 1, 'acei': 3, 'atorvastatin': 8, 'showel': 1, 'phoslo': 1, 'comfortbal': 2, 'persu': 1, 'mgt': 5, 'carvedilol': 1, 'calcitriol': 1, 'nephrotoxin': 4, 'abm': 1, 'hap': 24, 'vano': 1, 'enterococcu': 4, 'zozyn': 1, 'uptitr': 7, 'infrahilar': 5, 'nephrolist': 1, 'conest': 1, 'sking': 1, 'infilter': 1, 'gpr': 4, 'scr': 1, 'nmeb': 1, 'neuropathi': 5, 'ranitidin': 4, 'harder': 2, 'ivdu': 1, 'furthur': 1, 'hypoglycemia': 3, 'osteoporosi': 8, 'neuron': 3, 'rightward': 6, 'overwhelm': 4, 'amiikacin': 1, 'normotherm': 4, 'neoplast': 1, 'scratch': 1, 'mmd': 1, 'prodrom': 1, 'fundament': 1, 'hoever': 1, 'epith': 1, 'uet': 1, 'drown': 1, 'providencia': 2, 'gmmgsulf': 2, 'wel': 1, 'lansoprazol': 9, 'continues': 1, 'rquir': 1, 'fresh': 4, 'cardiopulonari': 1, 'peumonia': 1, 'forego': 1, 'ncat': 5, 'medcial': 1, 'spars': 5, 'chamg': 1, 'providenciaa': 1, 'restat': 1, 'thinner': 2, 'amikacin': 2, 'scar': 5, 'hilu': 2, 'prokinet': 1, 'donepezil': 2, 'settig': 1, 'appreaci': 1, 'neither': 4, 'opportun': 5, 'anteced': 2, 'coloni': 4, 'stuartii': 1, 'tachypneia': 1, 'chornic': 2, 'persistenli': 1, 'comf': 1, 'antibito': 2, 'babinski': 3, 'grown': 4, 'instal': 1, 'wap': 1, 'hypoprofus': 1, 'hysterectomi': 2, 'nitrofurantoin': 1, 'cefuroxim': 1, 'sensorium': 1, 'egfr': 1, 'medsl': 1, 'wwp': 4, 'attract': 2, 'todya': 1, 'impari': 2, '|': 2, 'trimethoprim': 2, 'sulbactam': 2, 'orophyaryng': 1, 'extrapulmonari': 1, 'disuss': 1, 'escherichia': 1, 'flacyl': 1, 'cloud': 2, 'uncompl': 6, 'failiur': 1, 'unattend': 1, 'lasx': 1, 'stun': 1, 'normochrom': 1, 'ctl': 1, 'venilatori': 1, 'prevacid': 7, 'sulfamethoxazol': 1, 'encephaolopathi': 1, 'mumur': 1, 'accid': 2, 'sputm': 1, 'identif': 2, 'offend': 2, 'pnemonia': 2, 'profil': 2, 'namenda': 2, 'roomm': 1, 'women': 1, 'mh': 2, 'tacypnea': 1, 'compli': 1, 'normocyt': 2, 'extuabt': 2, 'communc': 1, 'providentia': 1, 'stuarti': 1, 'pin': 1, 'suctioin': 1, 'fof': 1, 'incapac': 1, 'decondit': 4, 'prov': 1, 'likelihood': 7, 'tca': 1, 'yawn': 2, 'cefazolin': 2, 'hyralazin': 1, 'comatos': 2, 'reassum': 1, 'lumpectomi': 2, \"c'd\": 3, 'cardiopulmomari': 1, 'nimenda': 1, 'colonscopi': 1, 'restrat': 1, 'iron': 6, 'mdrd': 2, 'hospitalist': 1, 'biped': 1, 'leision': 1, 'admitt': 1, 'exagger': 8, 'perineaum': 1, 'scab': 1, 'heploc': 1, 'tomonitor': 1, 'investig': 4, 'constanli': 1, 'threrfor': 1, 'soound': 2, 'extrewm': 1, 'imcomprehens': 1, 'intepret': 1, 'pinkish': 3, 'iso': 2, 'bang': 1, 'lisw': 1, 'idiolog': 1, 'neuronton': 1, 'diaper': 1, 'thoracolumbar': 3, 'furrther': 1, 'reestablish': 1, 'evalaut': 2, 'flexi': 5, 'rheab': 1, 'fist': 1, 'rectrict': 1, 'plastic': 2, 'applic': 10, 'respiraotri': 2, 'oitment': 1, 'flexas': 1, 'coop': 1, 'guidelin': 2, 'implement': 3, 'dbp': 1, 'seccess': 1, 'dakin': 1, 'prb': 1, 'notat': 1, 'atori': 1, 'kerlex': 3, 'obses': 1, 'sution': 2, 'debrid': 2, 'plactic': 1, 'concer': 3, 'equilibr': 1, 'treatjment': 1, 'cant': 1, 'heartsound': 1, 'oxid': 4, 'toil': 1, 'malfunct': 2, 'synthet': 3, 'esld': 4, 'hemodialyi': 1, 'atroven': 1, 'naac': 1, 'pot': 1, 'blockad': 4, 'hepativ': 1, 'overnighit': 1, 'challengin': 1, 'pubi': 2, 'presoso': 1, 'pasp': 2, 'sptum': 2, 'kpo': 1, 'amidodaron': 1, 'neosynepherin': 1, 'prime': 3, 'assay': 5, 'special': 4, 'lipid': 7, 'reload': 2, 'parasit': 2, 'imrprov': 1, 'oseltamivir': 3, 'beneprotein': 5, 'hypokinet': 4, 'keepign': 1, 'enalapril': 1, 'pkd': 1, 'givenn': 1, 'cvh': 1, 'smyrnio': 1, 'ts': 7, 'giv': 1, 'reoslut': 1, 'theray': 1, 'riins': 1, 'viru': 3, 'imagin': 2, 'polysyst': 1, 'trea': 1, 'javascript': 2, 'prognost': 2, 'instablil': 1, 'nonetheless': 2, 'antiobiot': 1, 'incllud': 1, 'dog': 1, 'setup': 3, 'mycolyt': 3, 'mmghg': 1, 'haptoglobin': 2, 'cef': 1, 'interventricular': 1, 'alveoli': 1, 'multiorgan': 4, 'scal': 1, 'dwell': 1, 'ctrl': 1, 'hemofilt': 1, 'unload': 2, 'pantop': 1, 'overhydr': 7, 'chanigng': 1, 'strain': 13, 'hypotes': 1, 'gdex': 2, 'avfistula': 1, 'ova': 2, 'ptroy': 1, 'contractil': 11, 'conitinu': 2, 'cutlur': 1, 'subtherapateut': 1, 'ngtube': 2, 'ddx': 18, 'pretest': 1, 'hitt': 2, 'sequest': 1, 'tamiflu': 3, 'postpon': 3, 'quinolon': 5, 'earliest': 2, 'nephrectomi': 1, 'atmospher': 1, 'subratherapeut': 1, 'inaud': 1, 'multicyst': 1, 'campylobact': 1, 'webtag': 2, 'priorit': 1, 'itchi': 1, 'bblocker': 2, 'reactant': 1, 'adult': 1, 'trabecul': 3, 'popup': 2, 'divert': 1, 'esmolol': 2, 'dz': 2, 'hepatolog': 4, 'thrombcytopenia': 1, 'alp': 1, 'femur': 2, 'supportuv': 1, 'enumer': 1, 'meoprolol': 1, 'dfa': 10, 'convent': 3, 'nasopharyng': 4, 'reiniti': 3, 'nitric': 4, 'acetabula': 1, 'cvhd': 2, 'didnt': 1, 'sequestr': 2, 'kac': 1, 'iliostomi': 1, 'circulatori': 2, 'influeza': 1, 'hepatomegali': 2, 'chlorhex': 7, 'metop': 1, 'superinfect': 4, 'poycyst': 1, 'preclud': 4, 'vasopress': 5, 'hypokinetc': 1, 'napo': 3, 'hepatologist': 1, 'tcdb': 1, 'citrar': 1, 'possibilti': 1, 'monrn': 1, 'pulmonologist': 3, 'thromboyctopenia': 1, 'tachpnea': 3, 'dex': 3, 'clx': 3, 'stretcher': 6, 'caltrat': 1, 'rbbb': 5, 'purs': 2, 'weekli': 1, 'sensat': 3, 'niacin': 2, 'mediocr': 1, 'medex': 3, 'dispens': 1, 'zestril': 1, 'fosamax': 1, 'qam': 1, 'medicaid': 6, 'dme': 5, 'cautiou': 2, 'aggrenox': 1, 'steak': 1, 'qpm': 1, 'egophani': 1, 'inprov': 1, 'patientcodein': 1, 'abat': 1, 'remeron': 3, 'exelon': 1, 'mvi': 7, 'qualifi': 1, 'medicar': 5, 'walker': 2, 'tw': 1, 'intercurr': 2, 'clindamycin': 3, 'enquiri': 1, 'soduim': 1, 'acsiti': 1, 'callout': 2, 'laculos': 1, 'tappabl': 1, 'projectil': 1, 'prng': 1, 'semiform': 1, 'litr': 2, 'latat': 1, 'emphat': 2, 'tachyarrhythmia': 1, 'outand': 1, 'atvian': 1, 'feacal': 1, 'mglopressor': 1, 'pauciti': 5, 'nondiagnost': 2, 'surgeon': 2, 'woke': 3, 'ijv': 1, 'chnage': 3, 'levaph': 2, 'vasotec': 1, 'offf': 1, 'tt': 1, 'chew': 2, 'neomycin': 1, 'prpofol': 1, 'anf': 1, 'boardlin': 1, 'dizzi': 2, 'guaifenessin': 1, 'trembl': 1, 'disempact': 2, 'harpist': 1, 'preload': 3, 'discern': 3, 'sleeper': 1, 'instantli': 1, 'diffult': 1, 'bnon': 1, 'earili': 1, 'tachypen': 2, 'thoughout': 2, 'shifdt': 1, 'cefriaxon': 1, 'guaifenesina': 1, 'overloaad': 1, 'megnesium': 1, 'jelli': 3, 'breathlesn': 1, 'milronon': 1, 'duraton': 1, 'ninv': 1, 'girl': 1, 'miscommun': 1, 'docus': 8, 'kaexyl': 1, 'substanc': 3, 'prsent': 2, 'handicap': 1, 'mainitan': 1, 'vcarevu': 1, 'vagal': 1, 'ringer': 1, 'particul': 1, 'pitress': 1, 'hang': 3, 'dmr': 1, 'mutual': 2, 'acidodi': 1, 'preme': 2, 'indict': 2, 'wakeup': 3, 'sct': 2, 'ritalin': 1, 'attepmt': 1, 'unequivoc': 1, 'tachyapn': 1, 'hypopig': 1, 'iga': 1, 'igg': 1, 'chrinic': 1, 'hyperpig': 1, 'treament': 1, 'fibros': 1, 'book': 1, 'lighthead': 1, 'pneumomathi': 1, 'poli': 5, 'anem': 1, 'ongolog': 1, 'pneumopathi': 1, 'igm': 1, 'dn': 2, 'serrou': 2, 'relationship': 5, 'boardelin': 1, 'ppd': 2, 'vori': 2, 'succes': 1, 'imp': 4, 'tkcb': 1, 'immunoflouresc': 1, 'firtst': 1, 'lanosprazol': 1, 'stt': 1, 'wwa': 1, 'jirvovecii': 1, 'jrld': 2, 'methlprednisolon': 1, 'tacrolimu': 2, 'enoxaparin': 1, 'ventimask': 2, 'gl': 2, 'bmx': 1, 'aspergillosi': 1, 'laden': 1, 'cranial': 2, 'gj': 3, 'raglan': 3, 'traught': 1, 'unsign': 1, 'atelectai': 1, 'vechan': 1, 'al': 1, 'director': 3, 'shaken': 1, 'histoplasmosi': 1, 'polymorphonuclear': 1, 'tachyn': 1, 'hypercapnea': 4, 'oxtcodon': 1, 'atalectat': 1, 'warrent': 2, 'lmw': 1, 'allo': 1, 'advic': 2, 'lcpc': 4, 'mgsulf': 1, 'hemodilut': 2, 'woresen': 1, 'streaki': 2, 'lscta': 3, 'accum': 1, 'infiltraet': 1, 'cero': 1, 'encas': 1, 'ppeg': 1, 'shevel': 1, 'posaconasol': 1, 'torestart': 1, 'disappoint': 1, 'bacilli': 1, 'gotten': 1, 'sbna': 1, 'onf': 1, 'cocurr': 1, 'oversensit': 1, 'deciss': 1, 'conscious': 2, 'cantons': 1, 'bcell': 1, 'galactomannin': 1, 'hydroxid': 1, 'vl': 5, 'mistakenli': 2, 'obsruct': 1, 'coccidioidomycosi': 1, 'disconintu': 1, 'tac': 1, 'maintainc': 1, 'anisocoria': 2, 'afraid': 1, 'spfc': 1, 'easilli': 1, 'alphabet': 1, 'fast': 5, 'jejunostomi': 2, 'indur': 2, 'blastomycosi': 1, 'rot': 1, 'gvdh': 1, 'extr': 5, 'apnvol': 2, 'antiemet': 1, 'signifig': 2, \"sbt'\": 1, 'former': 4, 'panic': 1, 'inde': 6, 'jlb': 1, 'tfeed': 2, 'rhinoviru': 1, 'cghd': 1, 'adaquet': 1, 'rifampin': 1, 'longterm': 2, 'benzodiazepin': 2, 'allogen': 1, 'atovaquon': 1, 'ventialt': 2, 'cxray': 7, 'mdd': 1, 'merepenem': 1, \"patient'\": 8, 'rewrot': 1, 'ceas': 3, 'emotionalsupport': 1, 'microorgan': 2, 'aroung': 1, 'gaa': 1, 'uneventl': 1, 'apneaic': 1, 'strictli': 1, 'lvl': 1, 'emesisx': 1, 'nauseat': 1, 'byop': 1, 'ivig': 2, 'targer': 1, 'becapus': 1, 'gleevec': 1, 'rational': 1, 'nauseou': 2, 'meropemen': 1, 'patiient': 1, 'tacro': 1, 'mucormycosi': 1, 'cytopath': 2, \"'central\": 1, 'predic': 1, 'lorazepan': 1, 'deacreas': 1, 'gleevac': 1, 'leukocyt': 1, 'capsofungin': 1, 'tens': 3, 'cutan': 2, 'djrx': 1, 'eleven': 1, 'zydi': 2, 'midazolan': 1, 'glevac': 1, 'laboratori': 2, 'cex': 2, 'jirovecii': 1, 'seriel': 2, 'resusc': 1, 'triglycerid': 3, 'apparatu': 1, 'bmp': 1, 'six': 6, 'ritalyn': 1, 'prepared': 1, 'prochlorperazin': 2, 'premedicati': 1, 'proh': 1, 'ultrafilt': 1, 'trransfer': 1, 'colloid': 1, 'effusionsgiven': 1, 'tuypcial': 1, 'atni': 1, 'currenli': 1, 'antiepilept': 1, 'apporx': 1, 'chlorhexadin': 2, 'valproeic': 1, 'fololow': 1, 'balnc': 1, 'unlcear': 1, 'futher': 2, 'nm': 2, 'artefact': 1, 'antibacteri': 1, 'coagulopatahi': 1, 'coma': 1, 'peal': 1, 'acitv': 1, 'noter': 1, 'microbi': 1, 'supratheraput': 1, 'lactualos': 1, 'follo': 1, 'offlin': 1, 'anasrc': 1, 'protien': 1, 'scane': 1, 'meropenam': 3, 'norequr': 1, 'epilepticu': 1, 'yesast': 1, 'difficutl': 1, 'paln': 1, 'multidrug': 2, 'method': 1, 'woiuld': 1, 'requiremetn': 1, 'blame': 1, 'nutrtit': 1, 'sgar': 1, 'myopathi': 6, 'areflex': 2, 'proptosi': 1, 'extravascular': 1, 'apprec': 1, 'voicemail': 1, 'pred': 2, 'ishchemia': 1, 'addiiton': 1, 'geiven': 1, 'coveragw': 1, 'hamper': 1, 'ddrainag': 1, 'sural': 1, 'overhead': 1, 'tubul': 1, 'illiu': 1, 'epillepsi': 1, 'opion': 2, 'psa': 3, 'log': 2, 'vascul': 2, 'antithyroglobulin': 1, 'ophtho': 2, 'irrat': 1, 'depaken': 1, 'amx': 1, 'atatu': 1, 'reachabl': 1, 'pentobard': 1, 'hypoalbuminem': 2, 'refelect': 1, 'riski': 1, 'disappear': 2, 'tpo': 1, 'antipseudomon': 1, 'blasser': 1, 'enceph': 3, 'contributng': 1, 'psedomona': 1, 'danger': 2, 'vgb': 1, 'esstenti': 1, 'epilepsi': 1, 'disimpactiona': 1, 'coours': 1, 'epidod': 1, 'intergti': 1, 'grd': 4, 'empoir': 1, 'antiseizur': 2, 'ture': 1, 'experianc': 1, 'confid': 3, 'ug': 2, 'pseudohypha': 2, 'pathogen': 6, 'inf': 2, 'folic': 2, 'addresss': 1, 'ev': 2, 'hemodyalysi': 1, 'dissimpact': 1, 'cjd': 1, 'revalu': 1, 'hotn': 5, 'synd': 1, 'plateaud': 1, 'cyp': 1, 'assymetri': 1, 'pseudom': 1, 'hyperthermia': 7, 'seizuir': 1, 'bladdder': 1, 'chux': 1, 'montior': 3, 'antobx': 1, 'intensivist': 2, 'intrabdomin': 1, 'abs': 1, \"eo'\": 1, 'mintu': 2, 'usd': 1, 'serious': 2, 'potneiti': 1, 'jmuch': 1, 'eduat': 1, 'bumex': 1, 'comanow': 1, 'transmin': 1, 'hashimoto': 1, 'golyt': 1, 'hydro': 5, 'pento': 1, 'abbrevi': 2, 'bibas': 5, 'coff': 1, 'delic': 1, 'thermal': 1, 'snore': 1, 'furtehr': 2, 'neurologist': 1, 'uln': 2, 'complaict': 1, 'ite': 1, 'anitbx': 1, 'restar': 2, 'epilecticiu': 1, 'seiz': 1, 'psuedomanl': 1, 'utmost': 1, 'pendinh': 1, 'dietarti': 1, 'anisarc': 2, 'poorfor': 1, 'criticad': 2, 'signifi': 1, 'boarderlin': 1, 'hypervolemia': 2, 'osmol': 1, 'polio': 1, 'golytley': 1, 'miralax': 2, 'ngith': 1, 'oncal': 1, 'weill': 1, 'broach': 1, 'specialist': 3, 'dil': 1, 'gate': 2, 'trainsient': 1, 'qill': 1, 'interven': 2, 'thromobocytopenia': 1, 'antbx': 2, 'vlo': 1, 'hotlin': 1, 'accumil': 1, 'cirpo': 1, 'phenotin': 1, 'neurogen': 2, 'std': 1, 'assement': 1, 'barb': 1, 'reatrt': 1, 'kpho': 4, 'norepit': 1, 'slim': 3, 'cvlplace': 1, 'mhg': 1, 'abgiven': 1, 'skill': 2, 'intrvascular': 1, 'pyrexia': 7, 'ferrou': 1, 'supervisor': 1, 'cefe': 1, 'undertaken': 1, 'febun': 1, 'ncse': 1, 'nutrtion': 1, 'dysfx': 1, 'miniut': 1, 'miotic': 1, 'ldiures': 1, 'consdier': 1, 'untreat': 4, 'wittnessin': 1, 'pentobarbit': 1, 'hotlien': 1, 'procss': 1, 'supportso': 1, 'heo': 1, 'convuks': 1, 'drench': 2, 'compart': 3, 'scvo': 2, 'nureo': 1, 'alblumin': 1, \"cx'\": 1, 'additon': 3, 'bitempor': 1, 'tomoorw': 1, 'chlorarhiazid': 1, 'valproat': 1, 'optho': 2, 'inid': 1, 'ctiric': 1, 'platu': 1, 'norepinehrin': 1, 'antiboiot': 1, 'dysfunciton': 1, 'flld': 1, 'hypoactivet': 1, 'tea': 1, 'nutrion': 1, 'depsit': 1, 'road': 2, 'exempt': 1, 'golytli': 1, 'lk': 1, 'lim': 1, 'vpa': 1, 'ddecreasd': 1, 'aski': 1, 'dedic': 5, 'yestereday': 1, 'frequenti': 1, 'ampho': 1, 'distrust': 2, 'uc': 3, 'mutlipl': 1, 'epilispi': 1, 'intravasularli': 1, 'yesteday': 1, 'faili': 1, 'beneprotien': 1, 'pplateau': 1, 'intrvasc': 1, 'hypert': 1, 'mach': 1, 'norepinepherin': 1, 'liaison': 1, 'acitivti': 1, 'imporv': 1, 'leukocystosi': 1, 'convuls': 1, 'aacidosi': 1, 'caspo': 1, 'emoir': 1, 'sym': 2, 'apprecait': 1, 'neuromyopathi': 2, 'leuk': 2, 'expens': 2, 'fdp': 5, 'lactoslo': 1, 'benefici': 2, 'pentobabr': 1, 'datbl': 1, 'anit': 1, 'vitmain': 1, 'antii': 1, 'flucon': 1, 'antix': 1, 'hypoalbuminemia': 1, 'reinfect': 1, 'peroxidas': 1, 'meaningful': 1, 'lytli': 1, 'blown': 1, 'epilept': 1, 'eosinophil': 3, 'alpha': 2, 'vasoact': 1, 'academ': 1, 'thiamin': 1, 'anticonvuls': 2, 'reamin': 2, 'decrea': 2, 'bac': 2, 'stagbl': 1, 'pentobarbitol': 1, 'chlorathiazid': 1, 'absorp': 1, 'intravasc': 1, 'barbitol': 1, 'recx': 1, 'ltac': 2, 'blockag': 1, 'midwest': 1, 'abnl': 6, 'nonconvuls': 1, 'satisfi': 1, 'chuck': 1, 'virul': 1, 'golyetli': 1, 'transmit': 5, 'miracl': 1, 'infectionb': 1, 'depakot': 2, 'epilecticu': 1, 'anacarca': 1, 'atleast': 1, 'anisarca': 1, 'disabl': 2, 'oropharanyx': 1, 'transamin': 8, '^rd': 3, 'junctur': 1, 'psuedom': 1, 'inoput': 1, 'faith': 2, 'shockslowli': 1, 'unewu': 1, 'nondiarh': 1, 'ddavp': 1, 'sensitivi': 1, 'vasculit': 1, 'neur': 1, 'keppra': 3, 'masess': 1, 'pentobarb': 1, 'statrt': 1, 'reqeust': 1, 'caspofugin': 1, 'posisbl': 1, 'pahs': 1, 'schistocyt': 3, 'mngt': 2, 'rtisk': 1, 'hk': 1, 'venipunctur': 2, 'kepra': 1, 'spoutum': 1, 'urem': 2, 'filur': 1, 'parapneumon': 3, 'deminer': 2, 'pupillari': 4, 'join': 2, 'diarrheal': 1, 'decompensatuion': 1, 'interactionsd': 1, 'doll': 2, 'thyroglobulin': 1, 'hasimoto': 1, 'divorc': 1, 'infectoiu': 1, 'epsod': 1, 'xpiv': 1, 'vascualit': 1, 'encount': 1, 'jonh': 1, 'desmopressin': 2, 'reauest': 1, 'concner': 1, 'groass': 1, 'intermirtt': 1, 'interf': 2, 'encephalopthi': 1, 'ondepaken': 1, 'thryoid': 1, 'sud': 2, 'noripnephrin': 1, 'cruis': 1, 'slise': 1, 'benoprotein': 1, 'tkr': 1, 'requierd': 1, 'bronchhiectasi': 1, 'receiev': 2, 'generaslis': 1, 'assymetr': 4, 'nonexpand': 1, 'fwb': 1, 'tod': 1, 'soup': 1, 'propronol': 1, 'dimnish': 1, 'pntx': 2, 'lsix': 2, 'sabp': 1, 'mlow': 1, 'comfortanbl': 1, 'occasionali': 1, 'cintinu': 1, 'shrug': 1, 'occasioanlli': 1, 'subsquent': 1, 'recvd': 3, 'dvers': 1, 'vesicular': 2, 'discofortx': 1, 'jr': 3, 'whhen': 1, 'tyellow': 2, 'femer': 1, 'trate': 1, 'repet': 2, 'genral': 2, 'desynchronis': 1, 'robust': 1, 'compensatori': 3, 'seadtion': 1, 'remnant': 1, 'broncho': 2, 'placewd': 1, 'nebh': 1, '^to': 2, 'fingerst': 1, 'supor': 1, 'recrtal': 1, 'finali': 1, 'unequel': 1, 'cardiomediastinum': 1, 'titret': 1, 'acetylcystein': 2, 'fenta': 2, 'methylprednison': 2, 'propanolol': 1, 'appropriatley': 2, 'emoit': 1, 'occsaion': 1, 'diamox': 1, 'hemastat': 1, 'faintli': 2, 'vigilio': 1, 'wuth': 1, 'warma': 1, 'osteroarthr': 1, 'cleaniwth': 1, 'chanhg': 1, 'secondli': 1, 'isk': 1, 'spoon': 2, 'nowel': 1, 'malnourish': 1, 'rebolus': 2, 'nosocomi': 3, 'withc': 1, 'hyperdyanam': 1, 'axillay': 1, 'yesterdauy': 1, 'eff': 2, 'andi': 1, 'hyperchloremia': 2, 'efect': 1, 'repositioniong': 1, 'subglott': 3, 'diffg': 1, 'habit': 1, 'overshoot': 1, 'finsh': 1, 'shoulf': 1, 'arrhytmia': 1, 'torn': 1, 'ftt': 1, 'mismatch': 3, 'anorexia': 2, 'effusiion': 1, 'esphog': 2, 'spch': 1, 'fluentli': 1, 'elixir': 1, 'leuckocytosi': 1, 'dimihs': 1, 'cogn': 1, 'smoke': 5, 'gprod': 1, 'ecymot': 1, 'differentail': 1, 'noncontributori': 2, 'discu': 2, 'cleanser': 4, 'urinb': 1, 'slighli': 1, 'tighter': 1, 'nonessenti': 1, 'remors': 1, 'manor': 1, 'hypophosphetemia': 1, 'clholrhexidin': 1, 'uncl': 2, 'transpor': 1, 'assembl': 3, 'csv': 2, 'inhibit': 3, 'lef': 1, 'minand': 1, 'curvej': 1, 'giver': 1, 'peridex': 4, 'sevelem': 1, 'mprove': 1, 'overtir': 1, 'unanim': 3, 'impli': 3, 'butn': 1, 'turgor': 3, 'anoint': 1, 'aggatroban': 2, \"c'\": 1, 'caridiogen': 1, 'teach': 2, 'benifici': 1, 'cvvvh': 1, 'pst': 1, 'varec': 1, 'butnow': 1, 'channel': 4, 'cvc': 1, 'agatroban': 1, 'bipa': 1, 'tachycardica': 1, 'vasculartur': 1, 'chlorex': 1, 'stori': 1, 'overshadow': 1, 'biv': 1, 'cmrn': 1, 'pall': 1, 'levothryoxin': 1, 'unnecessari': 1, 'wrestl': 1, 'hypomag': 1, 'swithc': 1, 'migth': 1, 'thrombocytopeni': 2, 'lsb': 2, 'secretio': 1, 'forese': 1, 'pollen': 1, 'spuriou': 1, 'regret': 1, 'lusb': 4, 'placem': 2, 'omperazol': 1, 'agratroban': 1, 'enteroccu': 2, 'efficaci': 2, 'osteodystrophi': 1, \"tx'ing\": 1, 'repe': 1, 'withsat': 1, 'histor': 1, 'aka': 1, 'guilt': 2, 'cosyn': 1, 'straigt': 1, 'outlook': 3, 'defens': 2, 'amput': 1, 'discusiion': 1, 'om': 2, 'ugib': 4, 'capabl': 1, 'atlern': 1, 'depelet': 1, 'valid': 3, 'learn': 5, 'dysfxn': 2, 'pyriform': 1, 'bvm': 1, 'risperidon': 1, 'propuls': 1, 'diltaziem': 1, 'viseo': 1, 'macu': 2, 'meta': 6, 'incanthosi': 1, 'deliber': 1, 'steam': 1, 'vibrat': 1, 'ammonia': 2, 'multipodi': 1, 'subc': 1, 'readili': 5, 'divalproex': 1, 'forc': 1, 'noteabl': 1, 'dobbhoff': 4, 'overwhelmingli': 1, 'hcl': 8, 'hyperammonia': 1, 'metavisison': 1, 'hyperkeratot': 1, 'risperd': 2, 'hyperkeratosi': 1, 'phtn': 5, 'rpe': 2, 'ctg': 1, 'subling': 1, 'asd': 10, 'lye': 2, 'iah': 1, 'mood': 1, 'repli': 1, 'knew': 1, 'anomia': 1, 'drak': 1, 'dtop': 1, 'downstair': 1, 'risperodol': 1, 'retriev': 2, 'ili': 1, 'prosodi': 1, 'inj': 1, 'lgib': 1, 'resperidol': 1, 'videofluoroscop': 1, 'eob': 1, 'psychotrop': 1, 'flaki': 1, 'dysarthr': 1, 'ivfbolus': 1, 'shd': 1, 'aztronam': 1, 'aerob': 4, 'wfl': 2, 'nivpp': 1, 'bipolar': 1, 'explicit': 1, 'df': 1, 'heavier': 2, 'bd': 2, 'tbb': 4, 'respiridol': 1, 'videofluoroscopi': 1, 'disintegr': 2, 'basex': 1, 'closur': 5, 'hemiplegia': 1, 'velar': 1, 'rehabilit': 3, 'vallecula': 1, 'venturi': 1, 'unforun': 1, 'aztreo': 1, 'moda': 1, 'vestibul': 1, 'pft': 3, 'subglotti': 1, 'ambulatori': 2, 'andfailur': 1, 'blac': 1, 'risperadol': 1, 'bll': 1, 'lob': 1, 'valpor': 1, 'cape': 1, 'wot': 1, 'notess': 1, 'perreport': 1, 'admis': 1, 'detetior': 1, 'tcpc': 1, 'masrk': 1, 'rosari': 1, 'ensym': 1, 'miuc': 1, 'duoserm': 1, 'mortuari': 1, 'monitorign': 1, 'famuli': 1, 'transfererd': 1, 'oveloar': 1, 'movemnet': 1, \"'ing\": 1, 'diffucalti': 1, 'mt': 2, 'hemiblock': 1, 'allovesta': 1, 'significi': 1, 'nephrostomi': 2, 'mvt': 1, 'propion': 1, 'portocath': 1, 'accommod': 1, 'asdir': 3, 'lymphangit': 5, 'cryptococc': 3, 'nephrosotomi': 1, 'hypersensit': 3, 'flonas': 1, 'influenz': 1, 'serv': 1, 'adenoid': 1, 'debri': 2, 'arrriv': 1, 'rac': 1, 'meassur': 1, 'imform': 1, 'radiotherapi': 2, 'dialudid': 1, 'dxae': 3, 'dyspen': 2, 'espophag': 1, 'pathol': 1, 'interpr': 1, 'grey': 2, 'reopen': 1, 'nauseau': 2, 'resistantci': 1, 'xcept': 1, 'vertebroplasti': 2, 'cog': 1, 'stoolx': 1, 'extem': 2, 'hiatu': 1, 'dssd': 1, 'sedateion': 1, 'movemt': 1, 'wasnt': 1, 'theapi': 1, 'tonit': 2, 'wheel': 2, 'desaturar': 1, 'beacam': 1, 'preadmiss': 1, 'carbodopa': 1, \"'re\": 1, 'uncompens': 1, 'puffi': 1, 'apnoea': 1, 'hempdynam': 1, 'amb': 2, 'neutran': 1, 'ambuu': 1, 'tachyponea': 1, 'soial': 1, 'tachypoen': 1, 'suciton': 1, 'hygein': 1, 'phlebotomi': 2, 'drssg': 1, 'repons': 4, 'samll': 1, 'rhino': 1, 'apnic': 2, 'portext': 1, 'hyporeflex': 1, 'tachpneic': 2, 'reack': 1, 'hyptertens': 1, 'suctuion': 1, 'conor': 1, 'abreas': 1, 'anmt': 1, 'pancytopenia': 5, 'flaten': 1, 'unti': 1, 'ampl': 2, 'asychron': 1, 'failer': 1, 'mini': 3, 'deuoderm': 1, 'protector': 1, 'msse': 1, 'diminsih': 1, 'meatou': 1, 'duriesi': 1, 'sof': 1, 'afebriel': 1, 'midday': 1, 'griamc': 1, 'crepit': 1, 'speed': 1, '^ing': 1, 'synchnou': 1, 'vere': 1, 'carevur': 1, 'socail': 2, 'earl': 1, 'bowekl': 1, 'gaze': 2, 'slug': 1, 'obv': 2, 'murtem': 1, 'devepol': 1, 'dippig': 1, 'withdrw': 1, 'nightim': 1, 'fpound': 1, 'manipualt': 1, 'unawar': 2, 'presntli': 1, 'reconven': 2, 'iliu': 1, 'ommand': 1, \"req'ng\": 1, 'wan': 1, 'dy': 1, 'inevit': 2, 'drk': 1, 'effor': 1, 'hepatofug': 1, 'resed': 1, 'wdw': 1, 'imapir': 1, 'mopder': 1, 'dysnchron': 2, 'resur': 1, 'abund': 2, 'eythromycin': 1, 'cephalosporin': 2, 'hypercalcemia': 3, 'dint': 1, 'broke': 3, 'disconjug': 2, 'bariair': 1, 'gastropathi': 1, 'eaisli': 1, 'anarsarca': 1, 'apepar': 1, 'diurs': 1, 'naloxen': 1, 'crepiti': 2, 'stbale': 1, 'sideport': 2, 'incras': 1, 'aound': 1, 'drcreas': 1, \"today'\": 3, 'givenx': 1, 'luq': 3, 'aferil': 1, 'regulari': 1, 'anchor': 1, 'vewntilatori': 1, 'corner': 1, 'breadown': 1, 'diminich': 1, 'liguid': 1, 'placedback': 1, 'mutlip': 1, 'xeroform': 2, 'stepfath': 1, 'quinci': 1, 'entertain': 1, 'autorot': 1, 'locta': 1, 'fw': 1, 'overnigt': 2, 'perfrom': 1, 'desync': 1, 'ruquir': 1, 'npln': 1, 'spotan': 1, 'aggressivli': 1, 'copuiou': 1, 'fede': 1, 'upcom': 1, 'admx': 1, 'finsih': 1, 'alogrhythm': 1, 'bradypn': 1, 'atriocav': 2, 'autodiuris': 1, 'flac': 1, 'asper': 1, 'appx': 1, 'counteract': 2, 'protoc': 1, 'brsk': 1, 'genelar': 1, 'midodin': 1, 'presur': 1, 'pltlet': 1, 'ampyema': 1, 'assymmetr': 1, 'clotti': 1, 'wdwing': 1, 'dminish': 1, 'appro': 1, 'electolyt': 1, 'molar': 1, 'specfic': 1, 'uplt': 1, 'crakl': 2, 'convey': 2, 'nostril': 2, 'pneumatocel': 1, 'panu': 1, 'amonst': 1, 'mush': 1, 'ratat': 1, 'respos': 1, 'uncomfoprt': 1, 'certainti': 2, 'zeroform': 1, 'remaisn': 2, 'tweezer': 1, 'tranfus': 2, 'presssur': 1, 'unalt': 3, 'dysynchrononi': 1, 'peptic': 1, 'judgment': 1, 'prozim': 1, 'hypercholesterolemia': 4, 'gbc': 1, 'negatiev': 1, 'intertrochanter': 2, 'retropuls': 1, 'fetal': 1, 'curl': 2, 'substitut': 2, 'osteophyt': 5, 'faculti': 1, 'iwa': 1, 'proteinac': 1, 'osteopen': 1, 'macular': 2, 'femora': 2, 'brth': 1, 'againt': 1, 'hippv': 1, 'dbc': 1, 'vdg': 1, 'requi': 1, 'shorterm': 1, 'brachytherapi': 2, 'improvemnt': 1, 'famiyl': 1, 'bracelet': 1, 'hat': 1, 'dmii': 1, 'proclaim': 1, 'lcsw': 3, 'initia': 1, 'judici': 1, 'contac': 1, 'necklac': 1, 'overdiuresi': 1, 'thoracenteci': 1, 'heartbeat': 1, 'dostress': 1, 'roughtli': 1, 'oin': 1, 'allyven': 1, 'vasculopath': 1, 'rexpans': 1, 'elcetrolyt': 1, 'cheat': 1, 'granul': 2, 'springwel': 1, 'cobnvers': 1, 'contacth': 1, 'subj': 1, 'earrl': 1, 'bar': 1, 'weari': 1, 'interview': 1, 'improvedto': 1, 'acetylcysitin': 1, 'breathless': 3, 'othr': 1, 'recommemd': 1, 'sane': 1, 'tenueou': 1, 'sputa': 1, 'benzon': 1, 'muscular': 2, 'hum': 1, 'tessilon': 1, 'terribl': 1, 'ea': 1, 'fulmin': 1, 'osa': 2, 'sevic': 1, 'medrol': 3, 'tessalon': 2, 'msk': 1, 'ecreas': 1, 'chiar': 1, 'hfm': 2, 'dah': 2, 'solu': 3, 'nac': 2, 'metformin': 2, 'span': 1, 'bedtim': 3, 'robitussin': 1, 'doc': 1, 'ream': 1, 'suspic': 1, 'robutssin': 1, 'guiafenesin': 1, 'metforman': 1, 'patientno': 1, 'aswel': 1, 'kyg': 2, 'bilatar': 1, 'decadron': 2, 'facilitor': 1, 'gastrografin': 2, 'pegtub': 1, 'afebil': 1, 'nasopharyn': 1, 'fecul': 1, 'ome': 4, 'mandarin': 1, 'ino': 2, 'psuedo': 1, 'sarcoid': 1, 'detai': 1, \"cx'd\": 1, 'pneumoni': 1, 'neuropath': 2, 'azathioprin': 1, 'peepm': 1, 'heav': 1, 'opxygen': 1, 'prophi': 1, 'curremt': 1, 'sarcodiosi': 1, 'xfere': 1, 'achymosi': 1, 'purpura': 2, 'palliativ': 1, 'remaijhn': 1, 'progresssivli': 1, 'ove': 1, 'downtitr': 1, 'mandibl': 1, 'zoster': 2, 'erectil': 1, 'mirtazapin': 1, 'mdr': 1, 'azothioprin': 1, 'friction': 3, 'tomororw': 1, 'sarcoidosi': 1, 'atypo': 1, 'shingl': 1, 'deposit': 4, 'nsclca': 2, 'stoneman': 1, 'encircl': 1, 'hypophosphatemia': 1, 'insepar': 2, 'possiblil': 1, 'lidoderm': 1, 'www': 1, 'acebutolol': 1, 'pamidron': 1, 'radiopac': 2, 'lacta': 1, 'hypopho': 1, 'pemetrex': 2, 'invad': 2, 'costodiaphragmat': 1, 'stemi': 2, 'toc': 1, 'ami': 2, 'thougn': 1, 'loin': 1, 'pyelonephrosi': 1, 'erinephr': 1, 'pleaural': 1, 'uanbl': 1, 'perinephr': 3, 'scopi': 1, 'obstruuct': 1, 'carecod': 1, 'moieti': 1, 'respo': 1, 'ptc': 1, 'interpretor': 1, 'reusm': 1, 'ubj': 1, 'chosen': 1, \"adl'\": 1, 'scopalomin': 1, 'lithotrypsi': 1, 'ragrdu': 1, 'givern': 1, 'pyelonephr': 2, 'periren': 1, 'hydroneph': 1, 'cycstoscopi': 1, 'uvj': 1, 'disucss': 2, 'pyeloneph': 1, 'hrc': 1, 'fureth': 1, 'goc': 4, 'cycsto': 1, 'antion': 1, 'pyelo': 1, 'suprahilar': 3, 'suprath': 1, 'septi': 1, 'pylenonephr': 1, 'sufggest': 1, 'hydrouret': 1, 'en': 2, 'jkang': 1, 'airmattress': 1, 'biaxin': 1, 'maee': 1, 'horizont': 1, 'margina': 1, 'podu': 1, 'aleven': 1, 'fluffi': 1, 'norepinephin': 1, 'possibilit': 1, 'sonn': 1, 'thia': 1, 'emphysemat': 3, 'clincial': 2, 'chr': 1, 'electrod': 2, 'progess': 1, 'cefapim': 1, 'improvementin': 1, 'oxza': 1, 'degener': 2, 'airless': 2, 'endplat': 1, 'effuss': 1, 'disc': 4, 'corect': 1, 'esophagogastr': 5, 'colaps': 1, 'principl': 1, 'radonc': 1, 'raehal': 1, 'advantag': 1, 'indicta': 1, 'stoutz': 1, 'hydrocostison': 1, 'proport': 5, 'tefari': 1, 'theoret': 1, 'unoccupi': 1, 'hyperesthesia': 1, 'adjuv': 1, 'radion': 1, 'asparagin': 1, 'medscap': 1, 'pathway': 1, 'vigano': 1, 'aspart': 1, 'nonanalges': 1, 'genet': 1, 'subtyp': 1, 'mediat': 1, 'religion': 1, 'conceptu': 1, 'burden': 5, 'urinalysi': 3, 'kappa': 1, 'govern': 1, 'reducedcontinu': 1, 'emptiv': 1, 'yaksh': 1, 'gif': 2, 'pharmacokinet': 1, 'rat': 1, 'pretreat': 1, 'terman': 1, 'conflict': 1, 'proactiv': 1, 'decoupl': 1, 'potenc': 1, 'inturrisi': 1, 'human': 1, 'biomark': 1, 'counterpart': 1, 'cyclas': 1, 'underscor': 1, 'antagonist': 1, 'glutam': 1, 'brainstem': 1, 'dourish': 1, 'scientif': 1, 'saeki': 1, 'deepen': 1, 'psycholog': 1, 'kinas': 1, 'phenomenon': 1, 'medzihradski': 1, 'model': 2, 'maleat': 1, 'pharmd': 1, 'ivarsson': 1, 'sedaton': 1, 'excent': 1, 'pronocicept': 1, 'abstract': 1, 'overlap': 2, 'cyclic': 1, 'analges': 1, 'statist': 1, 'lauretti': 1, 'allodynia': 1, 'encod': 1, 'monomorph': 1, 'recomend': 2, 'nonpain': 1, 'progresson': 1, 'transcript': 2, 'cur': 1, 'dextromethorphan': 2, 'portenoy': 1, 'interindividu': 1, 'sponr': 1, 'mainstay': 1, 'sum': 1, 'simplest': 1, 'tumour': 2, 'yoburn': 1, 'xd': 1, 'yabaluri': 1, 'anitibiot': 1, 'intracellular': 2, 'commonli': 1, 'centuri': 1, 'world': 1, 'arnp': 1, 'estfan': 1, 'measuresbut': 1, 'coin': 1, 'terner': 1, 'preclin': 1, 'price': 1, 'nondrug': 1, 'rostral': 1, 'methyl': 1, 'unrel': 4, 'bockstael': 1, 'chavkin': 1, 'rvm': 1, 'amioduron': 1, 'vanderah': 1, 'wak': 1, 'neurotransmitt': 1, 'rct': 1, 'endocytosi': 1, 'neural': 1, 'glucagon': 1, 'albeit': 3, 'mcclean': 1, 'ferguson': 1, 'sjogren': 1, 'molecular': 1, 'phenomena': 1, 'genotyp': 1, 'resensit': 1, 'scienc': 1, 'peptid': 1, 'ersek': 1, 'bubbl': 6, 'camp': 1, 'periaqueduct': 1, 'decreasedin': 1, 'modulatori': 1, 'sander': 1, 'perist': 2, 'amino': 1, 'adenylyl': 1, 'excit': 2, 'pathophysiolog': 1, 'prefac': 1, 'excitatori': 1, 'choos': 1, 'mk': 1, 'angst': 1, 'elsevi': 1, 'entiti': 2, 'promis': 1, 'monophosph': 1, 'regulatori': 1, 'viaogt': 1, 'urg': 1, 'repsiratori': 1, 'neurosci': 1, 'deceid': 1, 'methodon': 1, 'intrigu': 1, 'mulitifoc': 1, 'lotsch': 1, 'purport': 1, 'nocicept': 1, 'antinocicept': 1, 'acknowleg': 1, 'gardel': 1, 'concurr': 9, 'mao': 1, 'gene': 1, 'cholecystokinin': 1, 'maintian': 1, 'postul': 1, 'celeri': 1, 'levorphanol': 1, 'medulla': 1, 'transmiss': 3, 'hinder': 1, 'popul': 1, 'whistler': 1, 'dupen': 1, 'ventromedi': 1, 'compton': 1, 'arrestin': 1, 'importantli': 2, 'elucid': 1, 'endogen': 1, 'agonist': 3, 'torsad': 1, 'premis': 1, 'amplifi': 1, 'hyperalges': 1, 'rins': 1, 'introduct': 1, 'cck': 1, 'desensit': 1, 'fwma': 1, 'perturb': 1, 'schemat': 1, 'occer': 1, 'naltrexon': 1, 'uniform': 1, 'gpcr': 1, 'pharmaceut': 1, 'permiss': 3, 'decad': 1, 'affin': 1, 'colorect': 1, 'mu': 1, 'theori': 1, 'dynorphin': 1, 'foll': 3, 'reprint': 1, 'spontaneu': 1, 'accomplish': 1, 'receptor': 1, 'mrg': 1, 'releas': 4, 'polyethylen': 1, 'plataeu': 1, 'affer': 1, 'glycol': 1, 'hypothes': 1, 'concomit': 3, 'amelior': 2, 'circumv': 1, 'duttaroy': 1, 'cornerston': 1, 'wider': 2, 'wherebi': 1, 'opioid': 2, 'difuss': 1, 'recaptur': 1, 'facilitatori': 1, 'experiment': 1, 'pharmacodynam': 1, 'explicitli': 2, 'phd': 1, 'hyperalgesia': 2, 'overtr': 1, 'magnitud': 1, 'proglumid': 1, 'practic': 1, 'doverti': 1, 'nmda': 1, 'chindalor': 1, 'bind': 1, 'nur': 1, 'pal': 1, 'mtx': 1, 'wf': 1, 'tributari': 1, 'enbrel': 1, 'ygd': 3, 'improp': 1, 'icteru': 4, 'pallor': 2, 'leukapheresi': 1, 'synthesi': 1, 'lymphocyt': 1, 'glianda': 1, 'crystalloid': 1, 'sterp': 1, 'leukostasi': 1, 'xfusion': 2, 'elvat': 1, 'cisatra': 1, 'pneumococcu': 1, 'nearbi': 1, 'pralysi': 1, 'protuber': 1, 'patella': 1, 'drn': 1, 'dion': 1, 'matur': 1, 'malais': 3, 'inand': 1, 'neuromusc': 2, 'crypto': 2, 'atraumat': 2, 'ig': 2, 'anerob': 2, 'vasodilit': 1, 'endotoxin': 1, 'uot': 1, 'encapsul': 1, 'reas': 1, 'cul': 2, 'coolin': 1, 'vasodil': 1, 'sinsc': 1, 'crise': 1, 'pneumosepsi': 1, 'tio': 1, 'aar': 1, 'sacrement': 2, 'granulocyt': 1, 'desper': 1, 'melena': 5, 'eomi': 6, 'rituximab': 1, 'lysi': 2, 'oxgen': 2, 'athi': 1, 'witjh': 1, 'blast': 1, 'bullou': 2, 'interfissur': 1, 'redemonstr': 9, 'substrat': 1, 'hird': 1, 'labour': 1, 'brerath': 1, 'perfect': 1, 'chsnge': 1, 'evloc': 1, 'expl': 1, 'boost': 3, 'cuurent': 1, 'paitent': 1, 'avial': 1, 'regen': 1, 'moxifloxicin': 1, 'perinieum': 1, 'zoloft': 1, 'loopi': 1, 'choc': 1, 'facili': 1, 'highflow': 1, 'photodynam': 1, 'nsc': 1, 'xopenex': 1, 'purus': 1, 'ffv': 1, 'imped': 1, 'signfici': 1, 'reliv': 1, 'bronchi': 5, 'reconnect': 2, 'birthday': 1, 'phlebotomist': 1, 'ffm': 1, 'dyspnic': 1, 'iiia': 1, 'effexor': 1, 'opacit': 2, 'levalbuterol': 1, 'onco': 1, 'patint': 1, 'echocardiogram': 2, 'xoponex': 1, 'cefaclor': 1, 'retrotrach': 1, 'pheboltomist': 1, 'makes': 1, 'pancolon': 1, 'pericolon': 1, 'minu': 2, 'infraren': 2, 'intracav': 1, 'ventriclr': 1, 'hypocontractil': 2, 'merit': 2, 'panproctocolon': 1, 'trv': 1, 'thumbprint': 1, 'fece': 1, 'jmgw': 5, 'septick': 1, 'shsf': 3, 'frpm': 1, 'schf': 1, 'cephalad': 1, 'tricycl': 1, 'unparalyz': 1, 'shrunken': 2, 'metoclopramid': 1, 'lefort': 2, 'simplex': 1, 'bizarr': 1, 'sqi': 2, 'vilego': 1, 'disten': 1, 'lamotrigin': 1, 'gn': 2, 'anasarcoid': 1, 'pbw': 1, 'vicodin': 1, 'parac': 1, 'expuls': 1, 'seventh': 2, 'opiat': 1, 'thalessemia': 1, 'imipramin': 1, 'obstip': 5, 'pwder': 1, 'irrecover': 1, 'opiod': 1, 'stabal': 1, 'lactulous': 1, 'dubhoff': 1, 'aiway': 1, 'hydrochlorid': 2, 'resuscti': 1, 'uap': 1, 'taught': 1, 'hidden': 2, 'yestserday': 1, 'hyperoxygen': 1, 'morbid': 1, 'impov': 1, 'fibromyalga': 1, 'herp': 1, 'eighth': 1, 'maintin': 1, 'bleak': 1, 'fbr': 2, 'vzv': 1, 'alkalemia': 2, 'para': 1, 'dysynchor': 1, 'cisaturcurium': 1, 'paracentesi': 3, 'nmb': 1, 'dysynchoroni': 1, 'blowout': 2, 'tough': 2, 'blat': 1, 'exal': 1, 'scrape': 2, 'esbl': 4, 'lamict': 1, 'haloperidol': 2, 'svv': 4, 'evident': 1, 'flexeril': 1, 'dyssynchron': 3, 'ninth': 2, 'antbiot': 1, 'qdaili': 1, 'preform': 3, 'ws': 1, 'sort': 2, 'unstag': 2, 'meropenujm': 1, 'proced': 1, 'meei': 1, 'achil': 1, 'quiliti': 1, 'petechai': 1, 'vo': 1, 'sklightli': 1, 'cholescyst': 1, 'stood': 1, 'ymosi': 1, 'reater': 1, 'neosinephrin': 1, 'dcub': 1, 'argu': 2, 'viigileo': 1, 'donw': 1, \"pt'\": 1, 'taccycardia': 1, 'valoplasti': 1, 'lepirudin': 1, 'valvulopplasti': 1, 'unmet': 1, 'locu': 1, 'wocrn': 1, 'adventiti': 1, 'eschar': 1, 'hcfa': 2, 'wehich': 1, 'mepilex': 4, 'murmr': 1, 'gastrograffin': 1, 'fals': 1, 'ne': 2, 'cardic': 1, 'siadh': 2, 'seenbi': 1, 'ttte': 1, 'pare': 1, 'hemohynam': 1, 'subq': 1, 'viatmain': 1, 'collagenas': 1, 'aovti': 1, 'receheck': 1, 'jointli': 1, 'overdistend': 2, 'chole': 1, 'reguir': 1, 'wallthicken': 1, 'overse': 1, 'mepiplex': 1, 'jet': 4, 'svi': 1, 'becuaus': 1, 'overnig': 1, 'midu': 1, 'affili': 1, 'ai': 2, 'taccypnea': 1, 'pnuemoboot': 1, 'ducubitu': 1, 'exbut': 2, 'allpurinol': 1, 'cdif': 1, 'bicuspid': 1, 'honest': 1, 'contr': 1, 'alck': 1, 'jksd': 2, 'valvuloplasti': 1, 'vti': 1, 'broadend': 1, 'crp': 1, 'antibid': 1, 'radiu': 1, 'psurg': 1, 'hardli': 1, 'collagenes': 1, 'valvuloplasi': 1, 'moitor': 1, 'euvolemia': 2, 'vasc': 1, 'laa': 2, 'aand': 1, 'aggatraban': 1, 'enzymat': 1, 'imit': 1, 'domin': 1, 'wll': 1, 'serotonin': 1, 'vitk': 1, 'angios': 2, 'valvulopasti': 1, 'bidirect': 1, 'transvalvular': 2, '^d': 1, 'infectio': 1, 'woudl': 1, 'dubiou': 1, 'occult': 3, 'gradiernt': 1, 'wbhc': 1, 'esr': 1, 'orderedl': 1, 'backward': 1, 'awaitin': 1, 'respiratoti': 1, 'thermodilut': 1, 'anca': 2, 'complexion': 1, 'charg': 1, 'vacno': 1, 'inotrop': 1, 'wiill': 1, 'valvuloplati': 1, 'multifactorisl': 1, 'sqaur': 1, 'coagulapathi': 1, 'fortun': 1, 'ecch': 1, 'te': 1, 'vigileo': 3, 'eccentr': 4, 'fwf': 1, 'remodel': 2, 'suctionion': 1, 'regress': 3, 'isosourc': 1, 'yesterrday': 1, 'inasmuch': 1, 'todat': 1, 'acalcul': 1, 'scaral': 1, 'galactomanna': 1, 'valvuplasti': 1, 'certifi': 3, 'ltach': 1, 'dcing': 1, 'empath': 1, 'valvoplasti': 1, 'lvsv': 1, 'failri': 1, 'offset': 1, 'ancef': 1, 'dyne': 1, 'raa': 2, 'frlow': 1, 'valvoplsti': 1, 'tilt': 1, 'setgment': 1, 'rouhnd': 1, 'ueni': 1, 'aov': 1, 'pallid': 1, 'vancoymcin': 1, 'necrotizin': 1, 'guarante': 1, \"onc'\": 1, 'heprin': 3, 'tempor': 5, 'cosign': 1, 'streamlin': 1, 'overnightl': 1, 'hyperkalemi': 1, 'subtherapuet': 1, 'vr': 1, 'symetr': 1, 'easleir': 1, 'diagonisi': 1, 'kayexalt': 1, 'effici': 1, 'dysncron': 1, 'crept': 1, 'pipracillin': 1, 'overdistent': 2, 'asperg': 1, 'goultur': 1, 'hypoactic': 2, 'inetrv': 1, 'remiss': 2, 'steriod': 3, 'autoimmun': 1, 'crossmatch': 2, 'overdistens': 1, 'advac': 1, 'methypr': 1, 'eosinophilia': 2, 'culter': 1, 'tum': 2, 'ducolax': 1, 'tn': 1, 'deactiv': 1, 'org': 1, 'adeno': 1, 'dietet': 3, 'gental': 1, 'consensu': 1, 'tuleremia': 1, 'nine': 2, 'deminsh': 1, 'instanc': 2, 'pmhcad': 1, 'grad': 1, 'vw': 1, 'tularemia': 1, 'ischmia': 1, 'poa': 2, 'stongi': 1, 'exterm': 2, 'entranc': 1, 'dysmorph': 1, 'kangaroo': 1, 'hormon': 1, 'aspergillu': 1, 'exr': 1, 'jrci': 3, 'inflamatori': 2, 'spun': 1, 'sosyn': 1, 'eosinphil': 1, 'pulmoari': 1, 'strongiloid': 1, 'bronhial': 1, 'diureisi': 1, 'sinsu': 1, 'granular': 2, 'hevili': 1, 'pss': 2, 'immun': 1, 'whrn': 1, 'tamsulosin': 1, 'hypxic': 1, 'bellow': 1, 'requri': 1, 'nont': 1, 'hypocalcemia': 1, 'ple': 1, 'neutrophil': 2, 'fyi': 1, 'orpharyng': 1, 'biter': 1, 'histo': 1, 'vassopress': 1, 'strongyloid': 1, 'overrid': 1, 'dysrhythmia': 1, 'galatomonan': 1, 'tital': 1, 'decompen': 1, 'sss': 1, 'platea': 1, 'pii': 1, 'ige': 1, 'copious': 1, 'ovebreath': 1, 'neli': 1, 'malignaci': 1, 'histoplasma': 1, 'hypxoc': 1, 'hapto': 1, 'therapeud': 1, 'electroly': 1, 'pippracillin': 1, 'spin': 1, 'linger': 1, 'aip': 1, 'agglutin': 1, 'skip': 1, 'thoras': 1, 'systoic': 1, 'contnu': 1, 'prostatectomi': 1, 'impercept': 1, 'alongsid': 1, 'anecho': 1, 'nephrolithiasi': 3, 'turp': 1, 'denis': 1, 'warn': 1, 'uncertainti': 1, 'wiil': 1, 'espiratori': 1, 'cystoscop': 1, 'weel': 1, 'glacuoma': 1, 'liek': 1, 'arthrodesi': 1, 'amout': 1, 'unpurpos': 1, 'aberrantli': 1, 'cci': 1, 'danazol': 1, 'pper': 1, 'propoxyphen': 1, 'instrins': 1, 'oxybutynin': 1, 'aftern': 1, 'darvon': 1, 'appi': 1, 'ste': 2, 'hish': 1, 'rhabdo': 1, 'gastro': 1, 'tpp': 2, 'donutamn': 1, 'protnix': 1, 'segemtn': 1, 'naficillin': 1, 'levoxyl': 1, 'recdiev': 1, 'asrriv': 1, 'fl': 1, 'recew': 1, 'hyperplasia': 1, 'leukopenia': 1, 'patietn': 1, 'thrombopoetin': 1, 'fewminut': 1, 'influzena': 1, 'scenario': 1, 'xigri': 1, 'pancx': 1, 'neuromuscular': 5, 'dobutaminin': 1, 'bicard': 1, 'esopog': 1, 'protract': 1, 'nafcillin': 1, 'awiat': 1, 'elyt': 1, 'keton': 2, 'cistacurim': 1, 'initiait': 1, 'withdrawen': 1, 'vegileo': 1, 'brbpr': 1, 'immin': 2, 'reviv': 1, 'flor': 1, 'octreotid': 3, 'tendenc': 1, 'morph': 1, 'file': 2, 'curretnli': 1, 'catastroph': 1, 'peesist': 1, 'finbrinogen': 1, 'italian': 1, 'reintroduct': 1, 'denser': 2, '^sed': 1, 'summon': 1, 'ambival': 2, 'varici': 1, 'lavtat': 1, 'bilaterl': 1, 'child': 2, 'vaspressin': 1, 'solutiuon': 1, 'harsher': 1, 'hopsit': 1, 'estrang': 1, 'leveph': 1, 'incl': 4, 'fpr': 1, 'sfv': 1, 'unilater': 4, 'mar': 2, 'betweeen': 1, 'mroe': 1, 'comparis': 1, 'dvtpleas': 1, 'queri': 4, 'mdag': 2, 'airflow': 2, 'frail': 2, 'lactamas': 1, 'denot': 1, 'microorg': 2, 'thyroxin': 1, 'mural': 2, 'hemoconcentr': 1, 'seemingli': 1, 'withdrawan': 1, 'othervis': 2, 'congreg': 1, 'betablock': 2, 'compound': 2, 'twi': 2, 'tibc': 1, 'ovrenight': 1, 'ferritin': 1, 'cardiophren': 2, 'costophr': 1, 'solitari': 1, 'epicardi': 2, 'kerley': 2, 'sternum': 2, 'omnipaqu': 4, 'infraclavicular': 1, 'volumetr': 3, 'tomographi': 2, 'millimetr': 1, 'fract': 1, 'mycobacteri': 1, 'unmodifi': 1, 'calic': 1, 'hypoechogen': 1, 'ankylos': 1, 'hemithorac': 5, 'direction': 1, 'unfold': 1, 'cbd': 2, 'osteosclerot': 1, 'mildi': 2, 'longitudin': 1, 'cavitari': 3, 'syndesmophyt': 1, 'ligament': 1, 'radioopac': 1, 'ventrcular': 1, 'upj': 1, 'hepatobiliari': 5, 'depict': 1, 'spicul': 1, 'sedond': 1, 'bulla': 2, 'cau': 1, 'cavit': 3, 'spondyl': 1, 'hyperthyroid': 1, 'carcinomatosi': 1, 'pneumothorac': 2, 'brachiocepahl': 1, 'sac': 2, 'department': 2, 'cerebri': 1, 'hyperostosi': 1, 'jbre': 1, 'frontali': 1, 'multisequ': 1, 'omentum': 1, 'ovarian': 1, 'hyperintens': 1, 'peron': 5, 'deriv': 2, 'pleurodesi': 1, 'falx': 1, 'supratentori': 1, 'locula': 1, 'talc': 1, 'hyperecho': 4, 'distr': 2, 'pvt': 1, 'interav': 1, 'pelviectasi': 1, 'cololostomi': 1, 'cleaner': 3, 'hypopnea': 1, 'ldn': 1, 'myoneuropathi': 1, 'cvicu': 1, 'klebseilla': 1, 'comfor': 1, 'rhochour': 1, 'dess': 1, 'gprotein': 1, 'curbsid': 1, 'myasthen': 1, 'bill': 1, 'cnsd': 1, 'hyperchlorem': 1, 'anterolisthesi': 1, 'anasara': 1, 'arhb': 2, 'schatzki': 1, 'tartrat': 3, 'doss': 1, 'llg': 1, 'careplan': 2, 'acr': 1, 'myopath': 1, 'nj': 1, 'retroperi': 1, 'hoars': 1, 'prei': 1, 'moh': 1, 'midbrain': 1, 'usg': 1, 'diphteheroid': 1, 'synapt': 1, 'hemosiderin': 1, 'spp': 1, 'ay': 1, 'prot': 2, 'student': 2, 'erval': 1, 'speci': 1, 'vasculopathi': 1, 'denerv': 1, 'uncomfor': 1, 'spondylolysi': 1, 'fascial': 1, 'dace': 1, 'retrospect': 1, 'corynebacterium': 1, 'proctectomi': 1, 'excis': 1, 'omit': 1, 'botul': 1, 'schisto': 1, 'circ': 1, 'jxkc': 2, 'rssbi': 1, 'nag': 1, 'sticker': 1, 'cnsc': 1, 'myelopathi': 1, 'hypotn': 1, 'calciumacet': 1, 'polyneuropathi': 1, 'cornebacterium': 1, 'oyt': 1, 'volit': 1, 'gpro': 1, 'extubatd': 1, 'cionsult': 1, 'stump': 3, 'doppleralb': 1, 'psoa': 1, 'ti': 1, 'supratherapeuticleukocytosi': 1, 'emg': 1, 'electrophysiolog': 1, 'extrathorac': 2, 'sensorimotor': 1, 'axon': 1, 'hyperlipindemia': 1, 'atnf': 1, 'axilari': 1, 'retrolisthesi': 1, 'pedicl': 1, 'takeback': 1, 'cleanz': 1, 'nost': 1, 'phlegmon': 1, 'pml': 1, 'omeprazol': 1, 'dirti': 2, 'nu': 1, 'oragan': 1, 'msiv': 2, 'beard': 1, 'normoact': 2, 'inactiv': 1, 'sytem': 1, 'oversea': 1, 'dyschroni': 1, 'nf': 1, 'suctionedx': 1, 'dysyncroni': 1, 'ascertain': 1, 'excavatum': 1, 'ih': 2, 'zolpidem': 1, 'desyncron': 1, 'conssit': 1, 'opporun': 1, 'desynchron': 3, 'born': 1, 'woren': 1, 'conven': 1, 'pectu': 1, 'cosamin': 1, 'dissynchron': 2, 'wore': 1, 'spri': 1, 'currenltli': 1, 'lmid': 1, 'sandblast': 1, 'soln': 1, 'avnrt': 2, 'dysycron': 1, 'painter': 1, 'mucormyst': 1, 'nondil': 1, 'ertapenem': 1, 'inact': 2, 'purplish': 1, 'benzonat': 1, 'reble': 1, 'ipd': 1, 'platpressur': 1, 'sarcoma': 1, 'kaposi': 1, 'pjp': 1, 'ind': 1, 'pneu': 1, 'obliter': 2, 'pneumothrax': 1, 'hyperextend': 1, 'sidehol': 2, 'jiroveci': 1, 'pneuomedistinum': 1, 'thoracostomi': 1, 'extrapleur': 1, 'enya': 2, 'lactilub': 1, 'plo': 1, 'gancyclovir': 1, 'rotapron': 1, 'opthamolog': 1, 'cist': 1, 'cisaturcoruim': 1, 'clorid': 1, 'immunoglobulin': 1, 'dfe': 1, \"c'ing\": 1, 'inflitr': 1, 'bactim': 1, 'ggancyclovir': 1, 'destat': 2, 'chemiosi': 1, 'idea': 1, 'prome': 1, 'resudu': 1, 'crazi': 1, 'flexicel': 1, 'intervascularyli': 1, 'cheek': 1, 'biphas': 1, 'anu': 1, 'dyssynchroni': 2, 'tve': 1, 'ou': 1, 'lamivudin': 1, 'conj': 1, 'ladi': 2, 'cistacurium': 1, 'treatabl': 1, 'engulf': 1, 'visciou': 1, 'tradit': 1, 'reparalyz': 1, 'cisastacurium': 1, 'gvh': 1, 'attributbl': 1, 'south': 1, 'milli': 1, 'recit': 1, 'exce': 1, 'phi': 1, 'subconjunctiv': 1, 'methados': 1, 'templ': 1, 'consistentlli': 1, 'continuelactilub': 1, 'linazolid': 1, 'tolar': 1, 'cistracurium': 1, 'oscil': 1, 'nimbex': 1, 'diazepam': 1, 'serosangiun': 1, 'toleratedongo': 1, 'plow': 1, 'bubl': 1, 'valium': 2, 'tdecreas': 1, 'barrotrauma': 2, 'xerofoam': 1, 'deflat': 1, 'proprofol': 1, 'bmtx': 1, 'psvlevel': 1, 'interestingli': 1, 'satt': 1, 'succeed': 1, 'ecmo': 1, 'inspit': 3, 'unchangedand': 1, 'afrebril': 1, 'mycafungin': 1, 'occaission': 1, 'biater': 1, 'tfresidu': 1, 'nitic': 1, 'dieresi': 1, 'paralys': 1, 'chemosi': 1, 'dehydrogenas': 1, 'nystain': 1, 'homodynam': 1, 'likey': 1, 'endpoint': 1, 'pie': 1, 'opthal': 1, 'mgc': 1, 'cisastracurium': 1, 'sanquin': 1, 'repron': 1, 'abscent': 1, 'retin': 1, 'streptococc': 1, 'satsin': 1, 'opthalmolog': 1, 'applli': 1, 'voriconazol': 1, 'intuab': 1, 'pretibi': 1, 'concur': 2, 'arvp': 1, 'radiopaqu': 3, 'standpoint': 3, 'subjunctiv': 1, 'cistastacurium': 1, 'reinflat': 1, 'hyp': 1, 'aprreci': 1, 'troli': 1, 'pnemo': 1, 'trale': 1, 'thrombin': 1, 'cisctracurium': 1, 'parlyt': 1, 'anteromedi': 1, 'llast': 1, 'buddist': 1, 'sildenafil': 1, 'fulfil': 1, 'fenatanyl': 1, 'infx': 1, 'trali': 1, 'persis': 2, 'phigh': 1, 'familiy': 1, 'xfuse': 1, 'pnuemothorax': 1, 'inchang': 1, 'erythem': 1, 'opciti': 1, 'bileou': 1, 'nitrixoxid': 1, 'rota': 1, 'cisatracurim': 1, 'nitrou': 1, 'pulmn': 1, 'metolozon': 1, 'moth': 1, 'rotopron': 1, 'gastriti': 1, 'specialti': 1, 'exogen': 1, 'cystectomi': 1, 'ileal': 1, 'recom': 1, 'divers': 1, 'pneumobilia': 2, 'conduit': 1, 'pbishop': 2, 'oment': 1, 'umbilicu': 1, 'ercp': 3, 'hydroureteronephrosi': 1, 'pbec': 2, 'accentu': 1, 'kkgc': 3, 'outlet': 2, 'ehab': 3, 'urostomi': 1, 'prove': 1, 'idenitif': 1, 'intrapulmonari': 1, 'noteworthi': 1, 'tasp': 1, 'sniff': 1, 'listeria': 1, 'tardu': 1, 'parvu': 1, 'aprenchym': 1, 'meatal': 1, 'retrograd': 1, 'fasoli': 1, 'malpost': 1, 'aji': 3, 'ureter': 1, 'verg': 1, 'enteroccoc': 1, 'intracerebr': 1, 'dna': 1, 'aspf': 1, 'radiopharmaceut': 1, 'dtpa': 1, 'maa': 1, 'discoveri': 2, 'plum': 1, 'radlin': 1, 'mci': 1, 'internvet': 1, 'caudal': 1, 'cessat': 1, 'venotomi': 2, 'fingerbreadth': 1, 'upsiz': 2, 'inadvert': 1, 'pneumopericardium': 1, 'shorter': 1, 'intab': 1, 'huddl': 2, 'unconsci': 1, 'baloon': 1, \"'lyte\": 1, 'stabiol': 1, 'wdwn': 1, 'fouind': 1, 'blossom': 1, 'logic': 1, 'aquir': 1, 'thyromegali': 1, 'xii': 1, 'bode': 1, 'scx': 1, 'cnii': 1, 'silloutt': 1, 'costal': 2, 'natg': 3, 'mjmgb': 3, 'diaphgram': 1, 'intubatedclin': 1, 'chronicli': 1, 'hemidiaphragmat': 1, \"trach'd\": 1, 'subpulmon': 1, 'radicl': 1, 'cholestat': 2, 'rarefact': 1, 'atelectas': 2, 'intervertebr': 2, 'psuedomona': 1, 'effu': 1, 'retroaort': 1, 'corticomedullari': 1, 'thechang': 1, 'distol': 1, 'technologist': 1, 'faiulr': 1, 'bileaflet': 1, 'calculi': 1, 'lltc': 1, 'habitu': 2, 'gsenapati': 2, 'gmsj': 1, 'hemipelvi': 1, 'mxak': 1, 'unasyn': 1, 'neglect': 1, 'recordspercodan': 1, 'eater': 1, 'nsip': 2, 'orthostat': 2, 'entercocci': 1, 'mra': 2, 'chocol': 1, 'calmli': 1, 'hffm': 1, 'bbl': 1, 'suprastom': 1, 'breakfast': 1, 'enterococc': 1, 'riesman': 1, 'metoprol': 1, 'anger': 1, 'frapp': 1, 'undercontrol': 1, 'ivt': 1, 'augmentin': 1, 'afew': 1, 'kyphoplasti': 2, 'hp': 1, 'percodan': 1, 'hrct': 1, 'inlaw': 1, 'paremet': 1, 'itp': 2, 'invalid': 2, 'metatstat': 1, 'autonom': 1, 'hypersentit': 1, 'kleb': 1, 'benadryl': 2, 'embarrass': 1, 'disgust': 1, 'patientpercodan': 1, 'angri': 1, 'usag': 1, 'nonvisu': 1, 'klebsiella': 2, 'micron': 3, 'cdb': 1, 'oler': 1, 'sjorgen': 1, 'rusb': 1, 'pharygnx': 1, 'fuction': 1, 'noseble': 1, 'overfeed': 1, 'uncultur': 1, 'banana': 1, 'polypectomi': 1, 'oer': 1, 'salt': 1, 'western': 1, 'gentler': 1, 'egop': 1, 'cour': 1, 'pharygx': 1, 'orang': 1, 'phargnx': 1, 'pansensit': 1, 'afrin': 1, 'scoop': 1, 'echhymosi': 1, 'whish': 1, 'cetuximab': 2, 'toprol': 2, 'xl': 1, 'wrinkl': 1, 'metprolol': 1, 'alkylosi': 1, 'factori': 1, 'rigth': 1, 'nasotrachi': 1, 'etco': 1, 'videoswallow': 1, 'aspiraiton': 1, 'auditori': 1, 'incorrectli': 1, 'apporpri': 1, 'appox': 1, 'whitmil': 1, 'failu': 1, 'toung': 1, 'driven': 3, 'scc': 1, 'scca': 2, 'alevyn': 1, 'flut': 1, 'mie': 1, 'hypecarb': 1, 'adeuqu': 1, 'safest': 1, 'provd': 1, 'modestli': 1, 'unassist': 2, 'situationclip': 1, 'cardiomedistin': 1, 'fee': 1, 'aorticopulmonari': 1, 'periprosthesi': 1, 'ultras': 1, 'trazodon': 1, 'gastroenter': 1, 'ec': 1, 'proteas': 1, 'actuat': 1, 'laryngoscopi': 1, 'capsul': 2, 'amiodoran': 1, 'hematemesi': 1, 'tolterodin': 2, 'memantin': 1, 'minist': 1, 'hematemsi': 1, 'patanol': 1, 'olopatadin': 1, 'nasonex': 1, 'ophthalm': 1, 'benazepril': 1, 'chewabl': 1, 'rdw': 1, 'calhco': 1, 'hypercholestolemia': 1, 'cgi': 1, 'ld': 1, 'intubat': 1, \"'expand\": 1, 'isoenzym': 1, 'gemcitabin': 1, 'trans': 1, 'carboplatin': 1, 'hba': 1, 'cholest': 1, 'mch': 1, 'alkpho': 1, 'uricacd': 1, 'triglyc': 1, 'ostelamavir': 1, 'erlotinib': 1, 'miscellan': 1, 'vinorelbin': 1, \"'lhbc\": 1, 'secretiion': 1, 'intercost': 3, 'ctropnt': 1, 'paclitaxel': 1, 'xs': 1, 'ldl': 1, 'trig': 1, 'urobiln': 1, 'mcv': 2, 'docetaxel': 1, 'dirbili': 1, 'totprot': 1, 'pituitari': 1, 'hdl': 1, \"'lcba\": 1, 'gender': 1, 'pravastatin': 1, 'baso': 1, 'globuln': 1, 'renalep': 1, 'microscop': 2, 'totbili': 1, 'cisplatin': 1, 'american': 1, 'angap': 1, \"'lcbi\": 1, 'bilirub': 1, 'ingrowth': 1, 'intrepretor': 1, \"'lhbi\": 1, 'dipstick': 1, 'mchc': 1, 'urean': 1, 'caltco': 1, 'african': 1, 'ldlcalc': 1, 'rohila': 1, 'estgfr': 1, 'intuba': 1, 'def': 1, 'rsrc': 1, 'cortex': 2, 'calvari': 1, 'magnum': 1, 'occipit': 1, 'humeri': 1, 'homogen': 1, 'callu': 1, 'skeleton': 1, 'adepqu': 1, 'adepquatel': 1, 'symmetri': 1, 'uptak': 1, 'convex': 2, 'survey': 1, 'wing': 1, 'shaft': 1, 'myelomat': 1, 'occiput': 1, 'postop': 2, 'tumesc': 1, 'rulobectomi': 1, 'noncardiogen': 1, 'hydropneumothorac': 1, 'preoper': 2, 'bronchocentr': 1, 'txfr': 1, 'densest': 1, 'unenhanc': 1, 'adynam': 1, 'inth': 1, 'patter': 1, 'preexist': 1, 'adenocarcinoma': 1, 'inctrabdomin': 1, 'lymphangiitc': 1, 'descrb': 1, 'artherosclerot': 1, 'intersept': 1, 'cylindr': 1, 'aert': 1, 'arthrosclerot': 1, 'findingsd': 1, 'akinet': 1, 'lobular': 1, 'agion': 1, 'asterixi': 2, 'despiti': 1, 'thrombocyto': 1, 'cale': 1, 'penia': 1, 'hu': 1, 'plced': 1, 'ib': 1, 'blou': 1, 'scopalimin': 1, 'leart': 1, 'rfa': 1, 'dobutmain': 1, 'loadind': 1, 'mailto': 1, 'friabl': 1, 'cub': 1, 'planof': 1, 'uncommon': 1, 'gwlm': 1, 'perocardium': 1, 'eith': 1, 'hpeatolog': 1, 'ifn': 1, 'decras': 1, 'afig': 1, 'childbirth': 1, 'pleurisi': 1, 'tachicard': 1, 'followng': 1, 'patellar': 2, 'asmi': 1, 'veal': 1, 'inotrpi': 1, 'milder': 1, 'contritubt': 1, 'resond': 1, 'heptaolog': 1, 'anmd': 1, 'unlad': 1, 'vtac': 1, 'haematuria': 1, 'tachyacria': 1, 'actiuv': 1, 'intrtstitium': 1, 'burgundi': 1, 'bicep': 2, 'mantia': 1, 'infilitr': 1, 'adj': 1, 'overestim': 1, 'threshod': 1, 'counsult': 1, 'conult': 1, 'cardriovers': 1, 'eco': 1, 'azithromax': 1, 'hemodyanm': 1, 'biacrb': 1, 'arrythmogen': 1, 'bivent': 1, 'gwp': 2, 'fkuid': 1, 'coagulopath': 1, 'chirrhosi': 1, 'hepato': 2, 'psuh': 1, 'debril': 1, 'hcc': 2, 'wqent': 1, 'discount': 1, 'laptop': 1, 'cauteri': 1, 'embo': 2, 'duculox': 1, 'backup': 1, 'fami': 1, 'reattampt': 1, 'intrathec': 1, 'ly': 1, 'engin': 1, 'prnbolus': 1, 'older': 1, 'tragic': 1, 'particl': 2, 'epidur': 1, 'ecopi': 1, 'bleeder': 1, 'grate': 1, 'metasta': 1, 'defend': 1, 'notiif': 1, 'lexipro': 1, 'paient': 1, 'fantanyl': 1, 'requrin': 1, 'couter': 1, 'hosptil': 1, 'bandaid': 1, 'vie': 1, 'angiogram': 1, 'guafenisen': 1, 'cauter': 1, 'supersel': 1, 'intervenet': 1, 'reinstutu': 1, 'flux': 1, 'nest': 1, 'behe': 1, 'palpatori': 2, 'viser': 1, 'hctthi': 1, 'argon': 1, 'rhonchj': 1, 'fbca': 2, 'myocardium': 1, 'squeak': 1, 'benedryl': 1, 'blush': 2, 'ba': 1, 'shitft': 1, 'comfot': 1, 'sel': 1, 'microcathet': 1, 'deploy': 1, 'arteriogram': 2, 'hemopysi': 1, 'argonn': 1, 'scapolamin': 1, 'embospher': 2, 'omniflush': 1, 'hyperexpand': 1, 'apicoposterior': 1, 'trancathet': 1, 'cervicocerbr': 1, 'stc': 1, 'hemopytsi': 1, 'cannul': 1, 'renegad': 1, 'aortogram': 1, 'super': 2, 'hyperexpans': 1, 'mammari': 1, 'congestiona': 1, 'gynecomastia': 1, 'noncompress': 1, 'sjbj': 1, 'collom': 1, 'mgi': 2, 'infero': 1, 'dlp': 2, 'schizoaffect': 1, 'vetil': 1, 'semiupright': 1, 'girth': 1, 'eg': 1, 'creatnin': 1, 'anesthet': 2, 'cryptogen': 1, 'avalu': 1, 'endarterectomi': 1, 'colonoscopi': 1, 'sinusoid': 1, 'steatosi': 1, 'dophoff': 1, 'octeotrid': 1, 'chylothorax': 1, 'tonsillectomi': 1, 'hemachromatosi': 1, 'emant': 1, 'ssuspect': 1, 'cirrhot': 1, 'avm': 3, 'trichrom': 1, 'vicryl': 2, 'apoptot': 1, 'hepatocyt': 1, 'cryo': 1, 'vareci': 1, 'angiodynam': 2, 'antitrypsin': 1, 'chylou': 1, 'malform': 1, 'precip': 1, 'arterioven': 1, 'hfe': 1, 'peelaway': 1, 'perisept': 1, 'exch': 2, 'cha': 1, 'cirhhosi': 1, 'nasointestin': 1, 'mononuclear': 1, 'pd': 2, 'birth': 2, 'periodclip': 1, 'multiphas': 1, 'pnumothorax': 1, 'text': 1, 'pneomothorax': 1, 'chgc': 2, 'heterozyg': 1, 'mlkb': 3, 'paxil': 1, 'mitrial': 1, 'suppliment': 1, 'simvastain': 1, 'sputem': 1, 'pivot': 1, 'cae': 1, 'rheumat': 1, 'paroxetin': 1, 'lllinfiltr': 1, 'parapneumonia': 1, 'flet': 1, 'donepzil': 1, 'mangement': 1, 'disas': 1, 'arenon': 1, 'infction': 1, 'coronoari': 1, 'losartan': 1, 'lateri': 1, 'sydrom': 1, 'prusu': 1, 'dteremin': 1, 'ergotamin': 1, 'asymmet': 1, 'artifactu': 2, 'nonerythemat': 1, 'paint': 1, 'angina': 1, 'vaco': 1, 'tachcardia': 1, 'mediatin': 1, 'filament': 1, 'biotic': 1, 'promiment': 1, 'refrain': 1, 'hemi': 2, 'tng': 1, 'effis': 1, 'intfiltr': 1, 'recordsno': 1, 'lambl': 1, 'deduct': 2, 'grandaught': 1, 'dispar': 1, 'intersiti': 3, 'vasodilatori': 1, 'crestor': 1, 'humidif': 1, 'halv': 1, 'medialstin': 1, \"lft'\": 1, 'oncot': 1, 'conern': 1, 'medoic': 1, 'calv': 2, 'dysarthria': 1, 'maalox': 1, 'alten': 1, 'hc': 1, 'ureathr': 1, 'financ': 1, 'meanin': 1, 'insent': 1, 'invok': 1, 'ntnd': 2, 'centru': 1, 'premier': 1, 'unstaedi': 1, 'depr': 1, 'excres': 1, 'thirst': 1, 'nicat': 1, 'sugget': 1, 'wander': 1, 'shore': 1, 'wheezez': 1, 'enifit': 1, 'succinyulcholin': 1, 'frog': 1, 'trak': 1, 'calculu': 1, 'evlaut': 1, 'mate': 1, 'cjmt': 1, 'trachestomi': 1, 'larazepam': 1, 'meastat': 1, 'pelvocalic': 1, 'negoti': 1, 'kump': 1, 'vancopmycin': 1, 'thoroughli': 1, 'compars': 1, 'pleae': 1, 'gmpd': 1, 'periaort': 1, 'upr': 1, 'peristals': 1, 'hemoperitoneum': 1, 'paramediastin': 1, 'consciou': 1, 'trapezoid': 1, 'mycetoma': 1, 'myocytoma': 1, 'ununit': 1, 'avium': 1, 'miacalcin': 1, 'acuiti': 1, 'nifedipin': 1, 'lightheaded': 1, 'wretch': 1, 'mycobacterium': 1, 'intot': 1, 'besyl': 1, 'fati': 1, 'precedex': 1, 'undiagnos': 1, 'welcom': 1, 'nephrot': 1, 'mac': 2, 'satisfact': 1, 'polydipsia': 1, 'calcitonin': 1, 'isusu': 1, 'nep': 1, 'dexmedetomidin': 1, 'undecid': 1, 'salmon': 1, 'spondylosi': 1, 'pda': 2, 'dehis': 1, 'solmederol': 1, 'bronchopneumonectomi': 1, 'rough': 1, 'amidaron': 1, 'azythro': 1, 'stabilil': 1, 'detal': 1, 'squameou': 1, 'coll': 1, 'cortosol': 1, 'reasaon': 1, 'fluild': 1, 'admidaton': 1, 'hyperpotassemia': 1, 'minimz': 1, 'pnenmonectomi': 1, \"leni'\": 1, 'bronchopleur': 2, 'exel': 1, 'disinclin': 1, 'bronchopulmonari': 1, 'amiodarin': 1, 'driver': 1, 'uni': 1, 'repiatori': 1, 'spectral': 1, 'resussit': 1, 'conisd': 1, 'aztreonum': 1, 'pite': 1, 'tremiti': 1, 'intersti': 2, 'anaphylaxi': 1, 'mmt': 1, 'depenc': 1, 'indefinit': 1, 'solumedtrol': 1, 'faclid': 1, 'unspeci': 1, 'sedret': 1, 'uncomfortbal': 1, 'dermat': 1, 'hemodyanam': 1, 'ascrib': 1, 'monitorec': 1, 'axtreonam': 1, 'midax': 1, 'presenti': 1, 'reconfirm': 1, 'extract': 2, 'cxc': 1, 'loudest': 1, 'arranag': 1, 'acidosisi': 1, 'unrespos': 1, 'exac': 1, 'mimic': 2, 'cea': 2, 'emphasi': 1, 'lactalos': 1, 'lmn': 1, 'althoug': 1, 'reclarifi': 1, 'disintigr': 1, \"family'\": 1, 'enitr': 1, 'tommorow': 1, 'dhghfhdlhkl': 1, 'currentt': 1, 'desaturateion': 1, 'hypoton': 1, 'locomot': 1, 'vvia': 1, 'rsvi': 1, 'performac': 1, 'hypertent': 1, 'yoga': 1, 'ventiat': 1, 'subglottal': 1, 'roadtrip': 1, 'tachynpea': 1, 'prom': 1, 'defintit': 1, 'reticularnodular': 1, 'arom': 1, 'ywca': 1, 'pege': 1, 'respriatori': 1, 'tingu': 1, 'clinical': 1, 'derang': 1, 'maintiain': 1, 'updatefamili': 1, 'aarom': 1, 'xcray': 1, 'gtibe': 1, 'thereof': 1, 'neet': 1, 'mmdri': 1, 'tyloenol': 1, 'secrit': 1, 'ers': 1, 'simultaen': 1, 'closelyt': 1, 'mute': 1, 'memeb': 1, 'atrio': 2, 'juxtahilar': 1, 'hemoptisi': 1, 'tbm': 1, 'fev': 1, 'ctr': 2, 'thallasemia': 1, 'tropi': 1, 'donepizil': 1, 'unrepons': 1, 'mutlifoc': 1, 'revealedt': 1, 'thalassemia': 1, 'airborn': 2, 'stom': 1, 'nari': 1, 'calvaria': 1, 'ileocec': 1, 'tuberculosi': 2, 'alkalos': 1, 'dental': 1, 'crown': 1, 'radio': 1, 'opaqu': 1, 'pector': 2, 'gunshot': 1, \"alzheimer'\": 1, 'iddm': 1, 'uppper': 1, 'presistantli': 1, 'novolin': 1, 'myasthenia': 1, 'thrussh': 1, 'pulsat': 1, 'zyosyn': 1, 'cafeteria': 1, 'resorpt': 1, 'antacid': 1, 'blancheabl': 1, 'downtrend': 1, 'gangren': 1, 'protamin': 1, 'baslin': 1, 'tendon': 1, 'hospis': 1, 'grape': 1, 'brachioradiali': 1, 'steadal': 1, 'antidot': 1, 'liekli': 1, 'cart': 1, 'reaccess': 1, 'dti': 1, 'pigment': 1, 'pmb': 1, 'aspiratin': 1, 'magnesia': 1, 'comtinu': 1, 'pyridostigmin': 1, 'respodn': 1, 'proc': 1, 'pneumotharax': 1, 'peumothorax': 1, 'hyperemia': 1, 'subcutaen': 1, 'conceiv': 1, 'reidentifi': 1, 'pw': 1, 'smooth': 1, 'subseg': 1, 'interlobular': 1, 'rjab': 1, 'slice': 1, 'cervicothorac': 1, 'nmka': 1, 'atrioventricular': 1, 'arter': 1, 'targetoid': 1, 'rahni': 1, 'circular': 1, 'suprasellar': 1, 'likel': 1, 'perpher': 1, 'cryptococcu': 1, 'scalp': 1, 'streptococcu': 1, 'diag': 1, 'tel': 1, 'cryptococcosi': 1, 'respirophas': 1, 'tdi': 1, 'arthralgia': 1, 'subactu': 1, 'donor': 2, 'irrhythm': 1, 'nob': 1, 'ventilaiton': 1, 'andcvc': 1, 'tomak': 1, 'maximin': 1, 'arrthym': 1, 'grant': 1, 'dissoci': 1, 'abdomn': 1, 'twelv': 1, 'midazalam': 1, 'sugggest': 1, 'mbi': 1, 'pulmnonari': 1, 'thickedn': 1, 'critaid': 1, 'settign': 1, 'friablilti': 1, 'scrap': 1, '$': 1, 'pcr': 1, 'frompt': 1, 'kitchen': 1, 'rhoncrou': 1, 'emv': 1, 'macer': 1, 'lover': 1, 'mtb': 1, 'friabil': 1, 'splenomeg': 1, 'leve': 1, 'ndg': 1, 'burn': 1, 'trimetoprim': 1, 'afp': 1, 'lowerin': 1, 'hme': 1, 'prodiv': 1, 'transpulmon': 1, 'choledocolithiasi': 1, 'myelosuppress': 1, 'bmv': 1, 'mivf': 1, 'fibriogen': 1, 'chrnic': 1, 'inter': 1, 'dollar': 1, 'sphincterotomi': 1, 'echymos': 1, 'intrpulmonari': 1, 'muscos': 1, 'sulfameth': 1, 'corticosteroid': 1, 'npne': 1, 'sah': 1, 'aphac': 1, 'tall': 1, 'sdh': 1, 'goutm': 1, 'dimension': 1, 'usus': 1, 'arteriographi': 1, 'cce': 1, 'flight': 1, 'mwf': 1, 'salvag': 1, 'underwhelm': 1, 'prozac': 1, 'llb': 1, 'paresi': 1, 'gadolinium': 1, 'atheromat': 1, 'wellbutrin': 1, 'unclot': 1, 'macrolid': 1, 'gemzar': 1, 'worsten': 1, 'hydromorphon': 1, 'umb': 1, 'panc': 1, 'pmeumonia': 1, 'cyberknif': 1, 'fuel': 1, 'colicki': 1, 'gastroparesi': 1, 'inn': 1, 'patientpenicillin': 1, 'lypmhangit': 1, 'failuir': 1, 'dalilah': 1, 'mucinex': 1, 'perspect': 1, 'rhonchu': 1, 'guaifenisin': 1, 'sicua': 1, 'im': 1, 'bedsidepronounc': 1, 'spb': 1, 'bedisd': 1, 'summar': 1}, 'pneumonia_alive': {'ab': 79, 'rhythm': 656, 'administr': 243, 'commod': 94, 'access': 497, 'r': 770, 'infarct': 248, 'lung': 903, 'grade': 205, 'side': 609, 'law': 35, 'pm': 869, 'therapi': 300, 'cardiac': 664, 'fals': 14, 'cc': 645, 'midnight': 156, 'contrast': 593, 'induc': 87, 'breath': 645, 'p': 844, 'unabl': 451, 'endstag': 1, 'concern': 483, 'monitor': 688, 'result': 579, '[': 430, 'integ': 65, 'antibiot': 485, 'gener': 547, 'field': 318, 'lt': 128, 'afebril': 541, 'watch': 107, 'allerg': 27, 'bactrim': 77, 'specif': 362, 'sclerot': 105, 'diffus': 438, 'requir': 554, 'greater': 256, 'onc': 306, 'cap': 163, 'product': 536, 'sputum': 549, 'persist': 524, 'request': 267, 'bilater': 719, 'signific': 605, 'st': 515, 'ef': 158, 'bp': 760, 'shift': 551, 'sagitt': 161, 'techniqu': 515, 'margin': 125, 'variant': 37, 'tamponad': 47, 'myocardi': 168, 'palpabl': 159, 'progress': 612, 'biaxin': 1, 'qr': 107, 'reason': 873, 'back': 537, 'clamp': 74, 'cooper': 284, 'prophylaxi': 349, 'reaction': 314, 'day': 675, 'take': 439, 'futher': 19, 'patchi': 212, 'puls': 532, 'line': 733, 'abdomen': 553, 'need': 683, 'estim': 171, 'lead': 345, 'without': 687, 'interpret': 326, 'excurs': 79, 'atrium': 362, 'valv': 370, 'balanc': 401, 'ill': 271, 'le': 183, 'tricuspid': 262, 'ectopi': 402, 'antecub': 23, 'focus': 50, 'mr': 402, 'area': 552, 'around': 300, 'adequ': 525, 'better': 415, 'leaflet': 273, 'prespar': 2, 'mid': 569, 'chair': 325, 'could': 493, 'outpati': 135, 'none': 536, 'ep': 28, 'ground': 177, 'normal': 849, 'veri': 539, 'absent': 249, 'weak': 310, 'failur': 476, 'global': 176, 'v': 392, 'yesterday': 453, 'predominantli': 96, 'gallbladd': 166, 'leak': 165, 'height': 490, 'trace': 670, 'possibl': 682, 'trip': 17, 'bracial': 1, 'assist': 375, 'nuero': 22, 'rare': 188, 'event': 483, 'mildli': 409, 'reconstruct': 68, 'cardiomyopathi': 41, 'green': 106, 'state': 377, 'tte': 305, 'minim': 527, 'effect': 461, 'regurgit': 278, 'boost': 29, 'thicken': 411, 'nausea': 204, 'intact': 442, 'difficulti': 326, 'abx': 483, 'lb': 256, \"'s\": 711, 'pt': 729, 'night': 460, '(': 1005, 'adren': 175, 'arteri': 625, 'echocardiograph': 98, 'wave': 411, 'secret': 435, 'septic': 100, 'yr': 153, 'bsa': 236, 'cx': 390, 'bs': 596, 'woman': 385, 'eve': 109, 'resp': 651, 'examin': 921, 'use': 521, 'desensit': 3, 'iv': 811, 'year': 906, 'sent': 561, 'protocol': 188, 'cold': 50, 'gu': 460, 'window': 181, 'sat': 722, 'ivf': 453, 'obtain': 651, 'systol': 480, 'non': 755, 'ob': 89, 'sever': 621, 'spec': 121, 'report': 934, 'amber': 107, 'hypokinesi': 93, 'seen': 785, 'axial': 254, 'artifact': 182, 'voltag': 155, 'sm': 207, 'w': 820, 'contraind': 360, 'mass': 319, 'admiss': 437, 'overload': 256, 'typhliti': 3, 'limb': 131, 'pend': 497, 'perspect': 7, 'coron': 171, 'technic': 304, 'rf': 23, 'tach': 49, 'f': 494, 'pelvi': 178, 'medic': 956, 'ra': 381, 'abd': 599, 'pleas': 669, 'precordi': 101, 'lasix': 354, 'patient': 869, 'size': 685, 'structur': 370, 'anasarca': 74, 'cathet': 501, 'wors': 177, 'hsv': 16, 'throughout': 532, 'mdct': 152, 'dilat': 415, 'pvc': 241, 'inform': 489, 'ventricl': 350, 'rv': 258, 'wa': 905, 'rr': 626, 'pr': 204, 'hemodynam': 487, 'po': 648, 'view': 511, 'mother': 102, 'harrt': 2, 'diminish': 486, 'sob': 532, 'higher': 117, 'anzemet': 6, 'attenu': 67, 'pa': 418, 'cours': 437, 'cxr': 545, 'famili': 591, 'new': 697, '#': 982, 'vtach': 12, 'strength': 164, 'pressur': 447, 'tendon': 13, 'abnorm': 515, 'final': 876, 'left': 971, 'crf': 26, 'caridomyopathi': 1, 'gi': 567, 'yellow': 491, 'foley': 541, 'cont': 719, 'copiou': 159, 'pneumonia': 939, 'nsg': 167, 'overnight': 490, 'diagnosi': 851, 'cranberri': 4, 'bibasilar': 301, 'l': 763, 'tachycardia': 390, 'probabl': 459, 'pnd': 98, 'coars': 409, 'continu': 724, 'comparison': 767, 'frothi': 41, 'femal': 269, 'neg': 494, 'ale': 9, 'correl': 281, 'tr': 245, 'nutrit': 375, 'nurs': 527, 'clip': 821, 'plan': 683, 'upper': 731, 'statu': 861, 'ox': 221, 'lv': 245, 'md': 523, 'juic': 28, 'alert': 514, 'cv': 669, 'gerd': 83, 'asymptomat': 85, 'exclud': 382, 'ns': 360, 'crackl': 389, 'pcp': 148, 'gait': 73, 'studi': 754, 'elev': 528, 'stay': 197, 'eat': 204, 'micu': 575, 'color': 475, 'secondari': 331, 'mac': 12, 'today': 664, 'may': 654, 'otherwis': 429, 'collect': 164, 'sound': 587, 'slightli': 559, 'free': 499, 'depress': 232, 'daughter': 231, 'compar': 793, 'defin': 95, 'limit': 539, 'system': 432, 'hungri': 35, 'blood': 576, 'infecti': 232, 'qualiti': 322, 'deni': 453, 'tv': 157, 'caviti': 320, 'lack': 97, 'uo': 226, 'major': 144, 'temp': 382, 'hg': 305, '%': 832, 'treat': 397, 'clinic': 587, 'consist': 636, 'dri': 352, 'old': 918, 'nontend': 94, 'consult': 357, 'aid': 96, 'contact': 358, 'exam': 513, 'extent': 138, 'larg': 562, 'inflammatori': 87, 'atelectasi': 533, 'sign': 496, 'flatten': 41, 'ambien': 41, ']': 427, 'ventricular': 491, 'appetit': 139, 'lesion': 363, 'pubi': 5, 'sampl': 146, 'tissu': 284, 'chang': 980, 'bladder': 172, 'neuro': 569, 'orient': 503, 'comment': 461, 'social': 494, 'abl': 525, 'multipl': 514, 'br': 22, 'abdomin': 444, 'thrombu': 131, 'drink': 134, 'picc': 378, 'although': 384, 'circumferenti': 23, 'tmax': 459, 'one': 486, 'histori': 810, 'interv': 673, 'qd': 121, 'diff': 222, 'anoth': 175, 'sauc': 23, 'hypotens': 319, 'osseou': 210, 'command': 522, 'moder': 648, 'transfer': 630, 'right': 972, 'liver': 260, 'impress': 852, 'urg': 6, 'ct': 617, 'opac': 661, 'ha': 906, 'presenc': 112, 'feel': 316, 'mitral': 313, 'pericardium': 257, 'soft': 703, 'anterior': 345, 'felt': 164, 'sptum': 2, 'evalu': 778, 'thi': 1024, 'follow': 720, 'doppler': 388, 'last': 583, 'mg': 632, 'prior': 824, 'poor': 441, 'stool': 632, 'repres': 405, '@': 435, 'enlarg': 430, 'pic': 84, 'levo': 181, '&': 759, 'lab': 577, 'ls': 460, 'npo': 408, 'find': 853, 'pass': 292, 'thick': 542, 'full': 650, 'process': 392, 'affect': 91, 'condit': 875, 'airspac': 127, 'pleural': 753, 'site': 295, 'ever': 9, 'x': 771, 'larger': 110, 'aortic': 391, 'start': 572, 'hiv': 63, 'u': 574, 'pericardi': 407, 'mild': 707, 'weight': 528, 'regular': 358, 'unsteadi': 21, 'fluid': 718, 'toler': 634, 'baselin': 432, 'initi': 447, 'within': 541, 'haart': 18, 'pancrea': 158, 'small': 773, 'pulmon': 188, 'due': 678, 'date': 670, 'skin': 664, 'appl': 39, 'festiv': 1, 'white': 329, 'rest': 457, 'hypertens': 428, 'call': 554, 'indic': 849, 'time': 801, 'allow': 210, 'ginger': 8, 'id': 418, 'place': 726, 'etiolog': 234, 'admit': 928, 'med': 597, 'ok': 172, 'glass': 179, 'imag': 721, 'pedal': 140, 'bedsid': 352, 'see': 526, 'spleen': 186, 'motion': 364, 'singl': 426, 'wall': 437, 'sip': 118, 'frequent': 374, 'evid': 702, 'pain': 680, 'symphysi': 46, 'intak': 235, 'increas': 822, ')': 1005, 'note': 885, 'dose': 572, 'delay': 162, 'remov': 471, 'earli': 270, 'sepsi': 230, 'show': 508, 'ambul': 163, 'physiolog': 185, 'pleasant': 204, 'base': 779, 'loos': 232, 'discomfort': 230, 'much': 359, 'avoid': 138, 'sinu': 725, 'patent': 424, 'output': 334, 'n': 409, 'underli': 290, 'adjust': 182, 'per': 617, 'fe': 35, 'current': 625, 'lytic': 133, 'bone': 218, 'amount': 496, 'team': 493, 'code': 583, 'previou': 774, 'high': 490, 'amt': 540, 'suggest': 582, 'occasion': 328, 'oob': 352, 'strand': 47, 'remain': 738, 'tachycard': 175, 'diagnost': 225, 'hr': 808, 'chf': 330, 'pmh': 390, 'sleep': 398, 'cough': 676, 'effus': 838, 'also': 734, 'colon': 169, 'renal': 372, 'mm': 558, 'ate': 46, 'conclus': 290, 'gland': 145, 'pulmonari': 827, 'unremark': 350, 'suspici': 170, 'clindamycin': 37, 'involv': 293, 'pattern': 282, 'cardiomegali': 256, 'bpm': 529, 'decreas': 604, 'rel': 184, 'low': 709, 'stabl': 791, 'port': 348, 'tx': 307, '>': 710, 'edema': 741, 'onset': 93, 'coliti': 50, 'liquid': 342, 'urin': 669, 'dyspnea': 328, 'test': 388, 'pcv': 7, 'review': 599, 'leav': 107, 'c': 778, 'kidney': 248, 'good': 567, 'rt': 262, 'bowel': 570, 'npn': 284, 'mark': 273, 'clear': 782, 'aorta': 412, 'locul': 114, 'recommend': 407, 'endocard': 96, 'echocardiographi': 18, 'extens': 304, 'promin': 349, 'transesophag': 14, 'region': 402, 'biventricular': 75, 'present': 850, 'pre': 229, 'diamet': 242, 'hypertrophi': 176, 'decis': 169, 'though': 361, 'cavoatri': 115, 'suprastern': 4, 'radiograph': 592, 'contract': 104, 'surgeri': 347, 'prosthesi': 32, 'chest': 929, 'ascend': 203, 'preserv': 124, 'like': 713, 'ray': 232, 'calcif': 325, 'supraventricular': 24, 'retrocardiac': 231, 'sinc': 788, 'level': 604, 'block': 184, 'multifoc': 226, 'interatri': 211, 'similar': 264, 'borderlin': 221, 'silhouett': 382, 'annular': 105, 'prematur': 157, 'septum': 219, 'mat': 12, 'implic': 42, 'inpati': 257, 'function': 452, 'exist': 128, 'avr': 21, 'atrial': 417, 'ap': 749, 'fat': 82, 'trivial': 171, 'pad': 83, 'coexist': 12, 'diseas': 456, 'prolaps': 121, 'lvef': 277, 'data': 553, 'best': 84, 'ps': 318, 'end': 273, 'pneumothorax': 545, 'man': 516, 'complet': 524, 'lymphoma': 24, 'symmetr': 305, 'appear': 821, 'lvot': 159, 'mvp': 100, 'rate': 660, 'portabl': 784, 'bioprosthet': 15, 'aha': 44, 'cm': 604, 'hodgkin': 7, 'placement': 561, 'fever': 470, 'suboptim': 149, 'la': 229, 'heart': 738, 'lvh': 100, 'gradient': 194, 'stabil': 107, 'regard': 224, 'tee': 49, 'fibril': 200, 'h': 558, 'chamber': 203, 'space': 191, 'echo': 308, 'junction': 229, 'thre': 2, 'fascicular': 52, 'unchang': 787, 'latest': 305, 'vein': 357, 'maneuv': 43, 'hour': 579, 'round': 273, 'ketoconazol': 2, 'remaind': 170, 'sl': 147, 'sxed': 5, 'central': 380, 'center': 45, 'drift': 34, 'fluse': 2, 'caudal': 10, 'acid': 241, 'perl': 74, 'disharg': 1, 'icu': 479, 'comfort': 410, 'lamonectomi': 1, 'schedul': 169, 'keep': 346, 'lip': 114, 'measur': 348, 'east': 20, 'approach': 93, 'prbc': 109, 'avail': 324, 'splint': 25, 'secur': 158, 'al': 12, 'cvp': 175, 'scv': 7, 'simpl': 337, \"''\": 265, 'titrat': 228, 'spit': 24, 'incont': 34, 'rn': 336, 'period': 245, 'monday': 106, 'clog': 19, 'cava': 109, 'certain': 15, 'max': 262, 'attempt': 390, 'english': 49, 'object': 247, '^': 93, 'normalizes': 1, 'min': 512, 'waken': 8, 'vss': 153, 'pna': 714, 'yankeur': 27, 'remark': 57, 'risk': 270, 'sbp': 421, 'guidewir': 81, 'section': 259, 'susp': 7, 'foot': 70, 'drawn': 192, 'suction': 336, 'nh': 62, 'uncomfort': 83, 'rehab': 252, \"'\": 157, 'whit': 2, 'chngd': 1, 'alarm': 102, 'diagnos': 84, 'infiltr': 541, 'light': 178, 'servic': 395, 'puff': 33, 'ess': 13, 'desatur': 160, 'hd': 105, 'dc': 216, 'posiiton': 1, 'less': 470, 'respect': 62, 'blb': 27, 'hco': 49, 'discuss': 451, 'obey': 35, 'abg': 507, '<': 316, 'ortho': 18, 'ahead': 7, 'friday': 50, 'tf': 441, 'transpar': 20, 'perform': 535, 'oral': 456, 'longer': 184, 'brufen': 1, 'whole': 73, 'post': 566, 'abov': 556, 'vbg': 50, 'extern': 41, 'assess': 739, 'troubl': 33, 'semi': 128, 'pill': 125, 'question': 455, 'labil': 85, 'vol': 125, 'wheez': 400, 'short': 436, 'secrect': 17, 'anxieti': 195, 'flatu': 97, 'red': 186, 'abduct': 6, 'clot': 149, 'tender': 386, 'son': 263, 'repeat': 425, 'awak': 330, 'appli': 289, 'except': 435, 'speek': 3, 'cd': 90, 'local': 197, 'drastic': 3, 'depriv': 6, 'ativan': 185, 'douderm': 9, 'becom': 246, 'prn': 458, 'convers': 130, 'three': 173, 'frustrat': 34, 'th': 93, 'receiv': 600, 'nonspecif': 107, 'let': 61, 'deceas': 5, 'siginificantli': 2, 'dual': 47, 'fellow': 92, 'get': 420, 'static': 20, 'feet': 117, 'becaus': 176, 'bed': 499, 'ultrasound': 268, 'wasreat': 1, 'incid': 117, 'aspir': 466, 'intermitt': 268, 'spike': 154, 'tlcl': 34, 'close': 327, 'mouth': 284, 'guid': 141, 'vt': 213, 'cmh': 154, 'retrograd': 4, 'ted': 4, 'punctur': 74, 'someth': 44, 'rhonchor': 169, 'intial': 21, 'sore': 72, 'effici': 1, 'spont': 102, 'universla': 1, 'mandatori': 2, 'insicion': 1, 'fentanyl': 201, 'drape': 85, 'resolv': 398, 'elbow': 39, 'somnul': 7, 'mod': 258, 'emg': 10, 'perrl': 275, 'lowest': 18, 'secr': 11, 'rilutek': 1, 'letharg': 171, 'send': 168, 'prolong': 208, 'stock': 6, 'word': 126, 'acut': 596, 'seal': 71, 'needl': 93, 'midodrin': 5, 'satisfactori': 104, 'visit': 322, 'button': 18, 'ot': 82, 'mmv': 28, 'aerat': 206, 'accordingli': 58, 'two': 358, 'angiographi': 45, 'scant': 164, 'svt': 57, 'care': 655, 'ascertain': 8, 'nif': 20, 'usual': 187, 'transfus': 154, 'us': 224, 'vena': 111, 'laminectomi': 15, 'exercis': 63, 'oclock': 1, 'meropenum': 32, 'spontan': 273, 'rig': 1, 'feed': 327, 'wife': 173, 'volum': 491, 'patch': 109, 'sourc': 255, 'multipodu': 25, 'criteria': 102, 'found': 314, 'develop': 323, 'warm': 349, 'pump': 54, 'fusion': 27, 'venodyn': 21, 'deminish': 20, 'distress': 453, 'precaut': 434, 'refus': 152, 'reduc': 183, 'cpt': 219, 'distend': 389, 'wob': 77, 'brown': 254, 'speech': 262, 'rash': 251, 'past': 361, 'length': 142, 'withou': 2, 'equal': 147, 'tomorrow': 297, 'peg': 172, 'determin': 184, 'complic': 317, 'softli': 73, 'sediment': 109, 'control': 466, 'fill': 190, 'psv': 227, 'impair': 187, 'loss': 237, 'perrla': 80, 'transient': 137, 'hi': 483, 'rm': 24, 'bolu': 354, 'grimac': 67, 'xylocain': 1, 'tingl': 51, 'pedi': 38, 'howev': 495, 'ronchi': 43, 'altern': 118, 'transport': 138, 'buzzer': 1, 'leg': 228, 'blue': 29, 'wait': 111, 'ph': 146, \"n't\": 160, 'french': 108, 'voic': 230, 'pillow': 54, 'trach': 147, 'run': 189, 'made': 523, 'morphin': 169, 'procedur': 497, 'sxing': 48, 'sedat': 322, 'sr': 467, 'read': 395, 'seveal': 1, 'water': 234, 'bump': 58, 'look': 208, 'alter': 200, 'weaker': 16, 'relief': 135, 'intravascular': 20, 'albuterol': 288, 'ten': 15, 'pneomoboot': 1, 'buffer': 10, 'tent': 181, 'subclavian': 216, 'toller': 20, 'address': 100, 'pp': 79, 'cpap': 253, 'done': 488, 'ms': 303, 'spinal': 64, 'immedi': 198, 'readi': 203, 'spong': 14, 'flowsheet': 440, 'selding': 4, 'prep': 110, 'axilla': 41, 'statlock': 25, 'long': 255, 'paus': 27, 'ivb': 16, 'rotat': 113, 'set': 565, 'staff': 148, 'pmicu': 49, 'rul': 166, 'granddaught': 11, 'carevu': 225, 'turn': 341, 'autocorrect': 2, 'episod': 346, 'compens': 62, 'chines': 10, 'muscl': 224, 'secretiona': 1, 'cuff': 198, 'trazadon': 33, '``': 301, 'brisk': 102, 'sicu': 119, 'restart': 341, 'dress': 237, 'switch': 178, 'mdi': 177, 'insomnia': 24, 'anatomi': 19, 'avl': 23, 'fio': 469, 'realli': 42, 'awok': 37, 'ibuprofen': 27, 'medecin': 1, 'tol': 263, 'capac': 50, 'toilet': 252, 'often': 60, 'undisturb': 7, 'pinkish': 12, 'unev': 109, 'supervis': 168, 'wide': 115, 'brush': 8, 'acidosi': 109, 'apnea': 92, 'drainag': 198, 'geet': 1, 'mostli': 167, 'speak': 228, 'quad': 54, 'infus': 422, 'nd': 228, 'wear': 111, 'cardovascular': 1, 'anxiou': 228, 'mip': 9, 'commun': 446, 'previous': 317, 'week': 276, 'onli': 469, 'held': 307, 'everi': 102, 'air': 485, 'dr': 525, 'novac': 1, 'sx': 214, 'well': 813, 'sch': 100, 'vanco': 386, 'pick': 72, 'posit': 668, 'intub': 412, 'discharg': 228, 'doubl': 117, 'agress': 31, 'recov': 98, 'ho': 139, 'dim': 162, 'respi': 8, 'mso': 43, \"'d\": 324, 'desat': 268, 'bag': 116, 'track': 126, 'modifi': 18, 'accept': 145, 'apap': 12, 'written': 115, 'colac': 156, 'tripl': 94, 'pmv': 90, 'head': 442, 'happi': 27, 'map': 260, 'nuten': 2, 'ask': 258, 'bell': 21, 'afer': 2, 'extrem': 567, 'overbreath': 63, 'recent': 559, 'flush': 219, 'tailor': 55, 'seet': 1, 'residu': 355, 'repond': 7, 'suitabl': 25, 'soon': 100, 'mv': 84, 'setret': 1, 'intervent': 192, 'facil': 120, 'deliv': 16, 'therapist': 52, 'ambu': 33, 'burst': 25, 'respeat': 1, 'heal': 103, 'devic': 416, 'thin': 336, 'boot': 212, 'mani': 102, 'slept': 219, 'tracheostomi': 149, 'move': 380, 'medial': 100, 'descript': 45, 'ac': 212, 'meropenem': 64, 'oligur': 19, 'bb': 113, 'b': 448, 'tidal': 131, 'got': 141, 'tri': 262, 'eye': 367, 'rua': 7, 'tip': 500, 'neck': 249, 'peripher': 475, 'fluor': 17, 'onto': 45, 'mode': 200, 'spo': 438, 'dopamin': 23, 'lido': 12, 'anti': 92, 'top': 111, 'mtg': 27, 'apneic': 38, 'supin': 248, 'tenaci': 27, 'asleep': 143, 'va': 72, 'cines': 1, 'blister': 47, 'yellowish': 43, 'careview': 109, 'carri': 12, 'treatment': 356, 'sulfat': 118, 'worsen': 516, 'guidanc': 148, 'go': 301, 'via': 514, 'inlin': 11, 'identifi': 380, 'sheet': 117, 'known': 421, 'vancomycin': 277, 'venipunctur': 12, 'exp': 195, 'motrin': 30, 'advanc': 379, 'seem': 264, 'later': 563, 'mucu': 59, 'unit': 326, 'distal': 317, \"pt'\": 13, 'oxygen': 321, 'understand': 138, 'return': 305, 'neuromuscular': 12, 'morn': 372, 'respons': 548, 'respir': 103, 'approx': 210, 'mcg': 253, 'worn': 9, 'evaul': 2, 'improv': 754, 'bm': 396, 'cl': 78, 'trial': 194, 'respiratori': 647, 'ij': 205, 'hct': 498, 'stat': 54, 'redden': 99, 'inhal': 138, 'gd': 31, 'simv': 24, 'tourniquet': 3, 'remeron': 6, 'problem': 215, 'occlus': 65, 'longterm': 10, 'chronic': 454, 'thk': 21, 'integr': 112, 'check': 469, 'issu': 279, 'nova': 4, 'includ': 524, 'mechan': 187, 'tan': 230, 'requisit': 6, 'tube': 539, 'notifi': 191, 'anesthesia': 154, 'cmv': 104, 'nbp': 135, 'afternoon': 351, 'prefer': 58, 'thigh': 67, 'hypercarbia': 42, 'even': 400, 'approxim': 245, 'teen': 128, 'prognosi': 68, 'meet': 188, 'unless': 71, 'addit': 540, 'wnl': 343, 'gap': 37, 'drain': 586, 'duoderm': 69, 'aggress': 197, 'given': 728, 'tylenol': 257, 'awar': 377, 'success': 213, 'manag': 351, \"tf'ing\": 10, 'scat': 6, 'fairli': 113, 'complain': 113, 'dispo': 203, 'hand': 216, 'nt': 257, 'tk': 3, 'maintain': 450, 'pink': 147, 'tabl': 70, 'lg': 141, 'rsbi': 210, 'nsr': 348, 'sigh': 6, 'case': 176, 'neruo': 8, 'updat': 336, 'replct': 85, 'verifi': 40, 'rhonchi': 250, 'tlc': 95, 'superior': 203, 'touch': 121, 'cvbg': 1, 'bronchodil': 74, 'almost': 92, 'portex': 61, 'lavag': 65, 'reassess': 86, 'placment': 105, 'lift': 104, 'open': 285, 'insert': 216, 'hemmodynam': 1, 'drop': 382, 'draw': 147, 'know': 138, 'effort': 126, 'vs': 423, 'pale': 149, 'basil': 114, 'moment': 19, 'becam': 237, 'cath': 293, 'abp': 83, 'second': 167, 'approp': 26, 'q': 552, 'support': 581, 'forearm': 53, 'dorsal': 6, 'bilat': 330, 'centr': 2, 'bolus': 252, 'extremeti': 49, 'complaint': 359, 'suct': 55, 'poorli': 78, 'point': 265, 'dopa': 17, 'await': 347, 'disscuss': 5, 'j': 68, 'cent': 26, 'make': 313, 'respond': 399, 'noc': 143, 'art': 69, 'encount': 5, 'hemo': 15, 'tonight': 204, 'irrig': 34, 'immobl': 14, 'trend': 289, 'rhoncher': 45, 'goal': 394, 'collar': 72, 'intent': 14, 'briefli': 131, 'proxim': 172, 'alreadi': 99, 'abras': 70, 'nap': 83, 'inflat': 42, 'rue': 67, 'special': 19, 'oper': 72, 'arous': 232, 'befor': 291, 'earlier': 322, 'plam': 2, 'screen': 158, 'vvg': 1, 'venou': 360, 'breathsound': 29, 'male': 344, 'overlaid': 2, 'movement': 416, 'lidocain': 128, 'mainli': 21, 'still': 454, 'clean': 122, 'increa': 7, 'difficult': 376, 'oriet': 1, 'order': 557, 'easili': 236, 'reposit': 226, 'alb': 123, 'reach': 116, 'next': 280, 'lami': 3, 'ventil': 296, 'stenosi': 265, 'ani': 515, 'asynchron': 4, 'mae': 304, 'exit': 18, 'co': 372, 'cervic': 161, 'ir': 109, 'appropri': 416, 'breakdown': 132, \"o'clock\": 4, 'nutren': 76, 'timeout': 88, 'secreion': 2, 'diminsh': 54, 'yo': 382, 'fib': 137, 'yankour': 4, 'rang': 295, 'work': 288, 'htn': 287, 'analysi': 100, 'vent': 279, 'wake': 125, 'vari': 55, 'pulm': 351, 'sc': 207, 'room': 257, 'minut': 338, 'describ': 182, 'freq': 159, 'awaken': 49, 'encourag': 329, 'lo': 153, 'put': 232, 'reflex': 92, 'arm': 304, 'confirm': 334, 'hold': 385, 'qs': 69, 'posb': 1, 'dure': 460, 'cdi': 36, 'whez': 4, 'plct': 92, 'detail': 278, 'excess': 39, 'ltc': 3, 'tegaderm': 25, 'ulcer': 355, 'translat': 34, 'occlud': 24, 'achiev': 70, 'brief': 121, 'paplabl': 2, 'gag': 169, 'hydrat': 110, 'notiifi': 1, 'fashion': 84, 'apex': 132, 'deep': 303, 'compress': 255, 'flouroscop': 11, 'wean': 491, 'asept': 7, 'dist': 21, 'ring': 35, 'flang': 10, 'lower': 759, 'lobe': 666, 'employ': 22, 'lumen': 246, 'reciev': 132, 'nose': 232, 'peep': 262, 'doe': 546, 'insp': 355, 'attribut': 73, 'pace': 88, 'nice': 14, 'pupil': 182, 'occsion': 1, 'vomit': 139, 'diures': 214, 'mn': 168, 'diuresi': 237, 'slight': 322, 'trachea': 89, 'distinct': 55, 'capillari': 17, 'rail': 41, 'diet': 478, 'hygien': 78, 'ivhl': 1, 'expans': 216, 'termin': 302, 'nippv': 21, 'hypokinet': 13, 'precis': 15, 'somewhat': 270, 'say': 105, 'followup': 179, 'septal': 160, 'wire': 206, 'csm': 31, 'follw': 17, 'cabg': 71, 'swallow': 310, 'endo': 198, 'congest': 386, 'safeti': 144, 'precept': 9, 'bile': 60, 'strong': 240, 'afeb': 72, 'aox': 42, 'extend': 226, 'breakfast': 51, 'lpm': 85, 'demonstr': 423, 'lat': 244, 'pacemak': 71, 'stimul': 136, 'differ': 294, 'viger': 4, 'food': 165, 'k': 519, 'infect': 448, 'eff': 15, 'levoph': 87, 'nasal': 376, 'mask': 348, 'either': 173, 'ptscurrent': 1, 'floor': 534, 'imposs': 13, 'rx': 172, 'rll': 286, 'forward': 51, 'rais': 193, 'nc': 470, 'radial': 379, 'verbal': 298, 'costophren': 144, 'lyte': 351, 'ss': 139, 'graviti': 72, 'heparin': 384, 'transferd': 2, 'face': 294, 'mist': 61, 'mll': 2, 'pul': 37, 'nvd': 6, 'thorac': 266, 'lib': 7, 'alin': 139, 'quantiti': 28, 'smaller': 102, 'pnding': 30, 'ad': 199, 'suffici': 24, 'obes': 179, 'fact': 28, 'project': 211, 'atrov': 231, 'consolid': 531, 'enc': 66, 'seizur': 118, 'ting': 174, 'ln': 20, 'junki': 11, 'ceftaz': 29, 'azithro': 69, 'lnc': 109, 'onrt': 2, 'pulmocort': 2, 'yet': 183, 'come': 190, 'deficit': 99, 'flow': 542, 'contninu': 4, 'humalog': 68, 'regardless': 13, 'pnx': 42, 'basal': 162, 'lock': 45, 'independ': 101, 'info': 49, 'conjest': 3, 'ro': 267, 'riss': 157, 'diur': 5, 'fit': 30, 'midlin': 211, 'belli': 48, 'lopressor': 220, 'db': 113, 'cool': 240, 'tdo': 1, 'pulmicort': 2, 'coverag': 305, 'cover': 265, 'rec': 251, 'thirsti': 26, 'wheezez': 3, 'therefor': 121, 'cad': 183, 'deliveri': 325, 'answer': 189, 'tid': 230, 'ml': 469, 'angl': 150, 'pmr': 2, 'perihilar': 140, 'poc': 121, 'expiratori': 107, 'toerat': 2, 'nonproduct': 87, 'replac': 257, 'neb': 418, 'ecchymot': 31, 'ie': 30, 'despit': 214, 'refil': 26, 'degre': 217, 'symptom': 193, 'posterior': 248, 'littl': 291, 'sit': 184, 'humidif': 10, 'ladi': 17, 'soc': 54, 'enough': 84, 'av': 62, 'curv': 133, 'vi': 40, 'unproduct': 10, 'activ': 380, 'grossli': 233, 'svc': 351, 'risperidon': 3, 'addendum': 341, 'transferredback': 1, 'flownot': 18, 'suppos': 15, 'supervisor': 5, 'rogor': 1, 'ed': 321, 'gave': 115, 'want': 267, 'ama': 7, 'vano': 3, 'tat': 1, 'awhil': 3, 'phonecal': 2, 'ago': 234, 'eval': 587, 'taken': 195, 'depend': 237, 'myelopdysplasia': 1, 'osh': 91, 'explain': 188, 'meq': 440, 'dx': 127, 'band': 119, 'brother': 61, 'spoke': 198, 'urgent': 12, 'mor': 1, 'plt': 321, 'nebh': 2, 'oxycontin': 22, 'kcl': 185, 'ekg': 291, 'stress': 328, 'came': 170, 'levoflox': 112, 'provid': 452, 'sister': 90, 'bank': 16, 'hx': 379, 'condom': 15, 'tact': 14, 'would': 461, 'father': 62, 'thousand': 1, 'defer': 107, 'piv': 327, 'therapeut': 114, 'valu': 156, 'accord': 90, 'instead': 52, 'insist': 16, 'fax': 22, 'lay': 28, 'form': 209, 'root': 118, 'arteriosu': 4, 'globe': 6, 'partner': 10, 'fentynl': 6, 'hrr': 2, 'relax': 68, 'deceller': 1, 'easi': 38, 'nod': 135, 'enhanc': 123, 'req': 42, 'heterogen': 81, 'sulci': 67, 'fo': 35, 'et': 191, 'wheelchair': 20, 'alot': 25, 'calm': 144, 'flair': 30, 'intraocular': 1, 'wbc': 531, 'hypox': 136, 'ng': 452, 'film': 227, 'forget': 31, 'tend': 30, 'fair': 143, 'cerebr': 50, 'diarrhea': 171, 'liter': 278, 'lsc': 24, 'maxillari': 41, 'extremi': 1, 'rad': 59, 'branch': 156, 'alseep': 1, 'axillari': 199, 'auscult': 101, 'inappropri': 27, 'cortex': 17, 'dvt': 402, 'interstiti': 236, 'dipso': 1, 'minimum': 16, 'subsegment': 80, 'tranfer': 15, 'rvfx': 1, 'extub': 264, 'defect': 156, 'stomach': 251, 'lymph': 347, 'detect': 94, 'palp': 80, 'antivir': 9, 'g': 447, 'expir': 33, 'dowm': 1, 'pe': 219, 'restless': 124, 'appar': 222, 'nemb': 4, 'tract': 80, 'cannula': 330, 'nonlabor': 20, 'propafol': 8, 'inf': 20, 'occur': 121, 'liq': 59, 'np': 138, 'smear': 58, 'cell': 240, 'perivascular': 9, 'thereaft': 17, 'fragil': 25, 'nrm': 4, 'sleepi': 59, 'divid': 27, 'decr': 30, 'venti': 37, 'person': 185, 'mediastinum': 145, 'autodiresi': 1, 'talk': 190, 'settl': 84, 'amnt': 23, 'understandingli': 1, 'srr': 26, 'immprov': 1, 'sxted': 8, 'whitish': 55, 'ngt': 177, 'multiplanar': 124, 'restrain': 66, 'discourag': 7, 'visual': 394, 'ivp': 164, 'laryng': 81, 'gold': 16, 'cre': 26, 'parenchyma': 88, 'hardcopi': 3, 'peak': 77, 'kvo': 81, 'csf': 28, 'densiti': 197, 'overal': 348, 'dp': 337, 'roommat': 3, 'quiet': 93, 'ice': 116, 'ptt': 312, 'bipap': 126, 'bath': 86, 'spastic': 8, 'obstruct': 280, 'appreci': 271, 'pao': 155, 'mi': 119, 'think': 109, 'pneumon': 106, 'situat': 80, 'bite': 76, 'cystic': 41, 'metropolol': 4, 'arch': 126, 'brachial': 136, 'ischem': 112, 'vessel': 193, 'bow': 4, 'disori': 49, 'flat': 131, 'incr': 44, 'amd': 14, 'dissect': 40, 'sensit': 102, 'vers': 166, 'toll': 4, 'tape': 57, 'endoc': 25, 'wind': 3, 'drip': 165, 'venturi': 5, 'closer': 32, 'troponin': 205, 'brachiocephal': 70, 'inferior': 192, 'theraput': 8, 'arriv': 234, 'calmer': 23, 'embol': 123, 'wrist': 140, 'mainten': 50, 'hospit': 311, 'stinul': 1, 'choroid': 1, 'yelow': 5, 'opt': 15, 'didnt': 3, \"c'ed\": 65, 'recon': 78, 'slowli': 187, 'apropri': 7, 'mediastin': 410, 'precipit': 28, 'cp': 192, 'iii': 43, 'remind': 52, 'idea': 14, 'angio': 42, 'cn': 95, 'ett': 235, 'ductu': 4, 'sentenc': 41, 'extuat': 2, 'hypoxia': 337, 'phm': 2, 'ext': 313, 'sporad': 5, 'sinus': 126, 'half': 68, 'mastoid': 77, 'direct': 171, 'quickli': 136, 'nervou': 18, 'rise': 136, 'coop': 12, 'infarc': 2, 'clostroph': 1, 'wash': 66, 'electrolyt': 185, 'endotrach': 252, 'conitnu': 14, 'agit': 275, 'optiray': 186, 'discret': 51, 'fall': 190, 'cahng': 4, 'fen': 239, 'widespread': 62, 'consider': 90, 'antimicrobi': 35, 'ionic': 31, 'incrreas': 1, 'superimpos': 144, 'said': 85, 'cup': 38, 'stalk': 1, 'brain': 105, 'main': 149, 'anox': 8, 'ua': 147, 'pull': 293, 'self': 210, 'mobil': 121, 'hilar': 256, 'chain': 21, 'lsubclavian': 1, 'msicu': 16, 'suscept': 22, 'gentleman': 37, 'walk': 94, 'significantli': 214, 'fluffi': 5, 'reassur': 87, 'exert': 110, 'clonazepam': 21, 'gpc': 67, 'gastric': 83, 'matter': 78, 'hiflow': 18, 'contigu': 77, 'appeart': 1, 'markedli': 117, 'roll': 61, 'rebreath': 48, 'rpt': 23, 'extubat': 9, 'antrum': 22, 'decent': 9, 'pituitari': 3, 'rousabl': 10, 'tree': 55, 'acquir': 258, 'aspect': 134, 'upset': 32, 'sop': 2, 'crise': 1, 'flagyl': 162, 'chip': 82, 'sd': 13, 'foci': 70, 'bear': 34, 'chart': 118, 'coug': 5, 'cyanot': 15, 'haldol': 106, 'went': 156, 'super': 10, 'cut': 51, 'impos': 2, 'xray': 102, 'zone': 161, 'factor': 68, 'lie': 127, 'psychosoc': 3, 'visitor': 67, 'intab': 1, 'cephal': 74, 'embolu': 38, 'pn': 11, 'unilat': 70, 'deleri': 10, 'void': 163, 'propofol': 113, 'subsequ': 181, 'reg': 122, 'nystatin': 65, 'blunt': 94, 'narcot': 47, 'bleed': 276, 'thruout': 5, 'becm': 1, 'faint': 59, 'sinl': 1, 'outflow': 17, 'bil': 134, 'thrush': 42, 'fent': 119, 'hyperintens': 29, 'cortic': 39, 'quit': 125, 'gtt': 303, 'fs': 174, 'mech': 47, 'na': 170, 'promot': 56, 'nrb': 156, 'remin': 3, 'opportunist': 9, 'scatter': 209, 'paranas': 66, 'catheeer': 1, 'write': 49, 'hyponatremia': 50, 'transmitr': 14, 'cci': 10, 'sxn': 107, 'restraint': 164, 'apologet': 1, 'pair': 45, 'escal': 31, 'acidoi': 1, 'sbt': 134, 'interven': 18, 'ck': 216, 'occ': 206, 'ect': 14, 'reformat': 135, 'instruct': 67, 'thing': 46, 'impend': 16, 'ye': 132, 'lisinopril': 86, 'turgor': 5, 'begun': 37, 'lessen': 16, 'began': 77, 'bun': 401, 'reintub': 64, 'tachypn': 200, 'opacif': 310, 'phone': 204, 'carina': 199, 'autodiures': 43, 'fld': 33, 'shortli': 55, 'thru': 63, 'cta': 310, 'helic': 51, 'allergi': 376, 'lue': 69, 'intercurr': 2, 'wz': 1, 'upright': 327, 'antra': 1, 'e': 279, 'hous': 119, 'pretti': 12, 'ogt': 114, 'compat': 93, 'midaz': 37, 'gelatin': 4, 'sec': 84, 'degrad': 12, 'confluent': 78, 'home': 498, 'node': 217, 'pneumomediastinum': 16, 'mentat': 55, 'intens': 41, 'begin': 175, 'portion': 457, 'obscur': 159, 'cultur': 432, 'associ': 265, 'opacifi': 46, 'contour': 323, 'tocycl': 1, 'unawar': 11, 'alon': 85, 'ga': 204, 'tone': 280, 'cva': 109, 'directli': 23, 'fine': 101, 'apc': 28, 'periventricular': 51, 'ge': 31, 'vascular': 500, 'mushroom': 54, 'confrim': 3, 'upon': 206, 'resum': 156, 'eventu': 91, 'reliev': 67, 'nm': 9, 'highli': 42, 'rmain': 2, 'afix': 2, 'ectop': 24, 'along': 231, 'shot': 19, 'purul': 33, 'excret': 38, 'antibx': 137, 'replet': 384, 'locat': 288, 'util': 60, 'shut': 55, 'fic': 5, 'lr': 50, 'whose': 34, 'overli': 149, 'duodenum': 51, 'extra': 123, 'wakeful': 2, 'antibot': 10, 'incontin': 89, 'hemidiaphragm': 140, 'pac': 106, 'whether': 120, 'simethicon': 13, 'ca': 420, 'penia': 1, 'eyelid': 5, 'mucousi': 6, 'healthi': 66, 'pancultur': 15, 'cholecyst': 56, 'decompress': 38, 'proceedur': 7, 'rectal': 150, 'cdiff': 88, 'thich': 5, 'strip': 18, 'attain': 12, 'hl': 22, 'content': 38, 'spur': 12, 'anticip': 116, 'ip': 101, 'collaps': 169, 'met': 153, 'spare': 35, 'accessori': 77, 'tachpnia': 1, 'anemia': 216, 'late': 120, 'tvol': 6, '^^': 20, 'tachneic': 1, 'passiv': 35, 'stimulu': 24, 'recheck': 171, 'guaiac': 97, 'reportedli': 74, 'cope': 49, 'tubefe': 15, 'regimen': 268, 'entri': 32, 'hydrocort': 9, 'intervasc': 1, 'letter': 9, 'slighlti': 8, 'pej': 13, 'disposit': 309, 'recruit': 18, 'tfb': 28, 'bodi': 315, 'prelim': 45, 'percocet': 59, 'peelaway': 1, 'increasingli': 82, 'fell': 74, 'clinoid': 5, 'perhap': 53, 'lose': 12, 'mucos': 51, 'bl': 58, 'flaccid': 14, 'notic': 43, 'jugular': 200, 'cadiomediastin': 1, 'sigmoid': 74, 'connect': 27, 'wtih': 20, 'birthday': 6, 'expector': 173, 'benadryl': 27, 'acetaminophen': 84, 'log': 7, 'occat': 25, 'reslt': 4, 'ceftriaxon': 176, 'grandson': 12, 'jejun': 9, 'canula': 35, 'golden': 43, 'displac': 52, 'sput': 53, 'dermat': 17, 'frequenc': 70, 'diuresis': 15, 'retro': 4, 'currenti': 1, 'page': 199, 'afrin': 5, 'member': 96, 'target': 40, 'tini': 97, 'sterili': 1, 'rij': 75, 'vial': 3, 'ssi': 91, 'rom': 76, 'exhibit': 33, 'stop': 270, 'criticar': 5, 'treitz': 13, 'vessicl': 2, 'thu': 120, 'labor': 121, 'sxtn': 20, 'semin': 16, 'gj': 21, 'erythromycin': 32, \"sxn'ing\": 14, 'combin': 136, 'consciouti': 2, 'til': 22, 'teach': 27, 'skull': 21, 'abreast': 8, 'febril': 154, 'anesth': 3, 'tannish': 28, 'nasogastr': 182, 'ethmoid': 39, 'scale': 317, 'redress': 15, 'refer': 202, 'basi': 37, 'balloon': 43, 'pho': 232, 'gastromi': 7, 'dampen': 46, 'inh': 20, 'tactil': 33, 'yeterday': 2, 'migrat': 17, 'retrocard': 3, 'uop': 225, 'edemat': 76, 'respalor': 9, 'intracrani': 107, 'dimish': 22, 'reglan': 44, 'microg': 1, 'powder': 65, 'pharnyx': 1, 'offer': 111, 'errythem': 1, 'tema': 1, 'especi': 109, 'taper': 123, 'applic': 43, 'vigor': 45, 'sodium': 338, 'radiologist': 137, 'inr': 320, 'hypercapnea': 9, 'meical': 1, 'multi': 147, 'calcifi': 135, 'newli': 148, 'tuberos': 6, 'give': 265, 'actual': 44, 'daili': 384, 'diaphragm': 143, 'insulin': 315, 'udat': 1, 'reactiv': 150, 'subject': 147, 'hemorrhag': 175, 'four': 102, 'orogastr': 26, 'pronounc': 72, 'squeez': 48, 'relat': 343, 'gallston': 46, 'tpn': 42, 'chage': 2, 'tachypneia': 2, 'bsk': 10, 'valium': 27, 'flutter': 68, 'hazi': 106, 'slow': 202, 'lactulos': 85, 'vecuronium': 10, 'normotens': 59, 'drug': 244, 'angiograph': 25, 'exrem': 3, 'sub': 44, 'opaqu': 10, 'isol': 65, 'excel': 88, 'accuraci': 13, \"ct'\": 1, 'plug': 120, 'reform': 89, 'inconsistantli': 16, 'buttock': 115, 'visibl': 102, 'entir': 152, 'cardiomediastinum': 12, 'pariet': 23, 'plcmt': 15, 'btw': 5, 'perc': 52, 'topic': 39, 'simultan': 5, 'trigger': 125, 'steroid': 173, 'tl': 18, 'intraven': 237, 'peribronchi': 36, 'character': 90, 'shoulder': 85, 'experi': 29, 'enuf': 1, 'potassium': 341, 'coil': 50, 'extravas': 16, 'blink': 17, 'intuabt': 8, 'sometim': 66, 'lc': 13, 'overnoc': 135, 'conray': 13, 'coincident': 1, 'sheath': 121, 'urinari': 149, 'brownish': 23, 'cancer': 140, 'diaphoret': 119, 'nonion': 25, 'alkalosi': 76, 'fluter': 1, 'gaseou': 8, 'cardiomediastin': 249, 'flexitrack': 1, 'adenopathi': 115, 'intern': 286, 'gastr': 1, 'gastrojejunostomi': 22, 'transduc': 18, 'hydronephrosi': 90, 'vagu': 21, 'papyracea': 6, 'inner': 70, 'gaug': 311, 'purpos': 177, 'fr': 33, 'paramed': 4, 'clav': 2, 'enter': 258, 'bld': 109, 'far': 163, 'redd': 10, 'regim': 63, 'noon': 113, 'promod': 7, 'cream': 149, 'hydrocortison': 18, 'fulli': 165, 'shiver': 5, 'degen': 176, 'fasten': 11, 'inconsist': 70, 'prolen': 6, 'tracheotomi': 19, 'frontal': 168, 'obviou': 93, 'resettl': 1, 'exchang': 94, 'variabl': 51, 'vea': 88, 'least': 142, 'travel': 35, 'believ': 44, 'stimuli': 238, 'redemonstr': 41, 'retroperitoneum': 11, 'cyst': 126, 'subtl': 66, 'affix': 3, 'true': 29, 'consid': 420, 'fri': 113, 'materi': 108, 'fluoroscopi': 45, 'gain': 39, 'firm': 63, 'essenti': 156, 'tbe': 2, 'twice': 77, 'qtc': 49, 'percutan': 52, 'beom': 2, 'email': 18, 'adquat': 6, 'shiley': 14, 'distens': 45, 'pro': 15, 'total': 457, 'reveal': 192, 'hypopharynx': 6, 'fecal': 54, 'hepat': 125, 'vasculatur': 114, 'nursi': 1, 'squamou': 20, 'sulcu': 22, 'overview': 2, 'massag': 6, 'derm': 50, \"patient'\": 54, 'microvascular': 24, 'resutur': 2, 'reccomend': 7, 'supdat': 1, 'itchi': 16, 'net': 84, 'brachycephal': 3, 'basic': 40, 'particular': 24, 'normoglycem': 10, 'nonrespons': 9, 'tomarrow': 8, 'durng': 1, 'fluoroscop': 135, 'prompt': 20, 'airat': 3, 'kept': 97, 'loop': 145, 'mpa': 2, 'confort': 11, 'glidewir': 13, 'bronchial': 182, 'hydrocephalu': 33, 'consciou': 14, 'thank': 135, 'jejunum': 28, 'guaic': 35, 'bllo': 1, 'occassion': 46, 'prostat': 68, 'stransfus': 1, 'destruct': 40, 'serial': 105, 'plmt': 17, 'potenti': 158, 'fix': 103, 'lamina': 8, 'routin': 118, 'outpt': 56, 'pleaw': 1, 'hst': 1, 'cs': 15, 'stand': 239, 'clearli': 91, 'fb': 39, 'hypovolem': 35, 'partial': 244, 'specimen': 74, 'peel': 88, 'dsg': 114, 'youvil': 1, 'vertex': 12, 'massachusett': 1, 'preliminari': 76, 'slide': 261, 'pulmnari': 1, 'mucomyst': 31, 'hung': 14, 'mental': 268, 'middl': 208, 'reduct': 72, 'pyloru': 15, 'underneath': 6, 'transaminas': 11, 'amen': 19, 'norm': 5, 'nure': 2, 'cribriform': 6, 'expect': 120, 'parenchym': 224, 'heme': 205, 'tonoc': 16, 'thickish': 4, 'ftb': 1, 'ear': 232, 'consent': 160, 'steril': 151, 'vue': 22, 'sutur': 80, 'apic': 181, 'board': 59, 'scleraedema': 1, 'eight': 16, 'dtr': 64, 'permiss': 3, '^^rate': 1, 'emot': 160, 'sphenoid': 38, 'uneven': 1, 'serosanguin': 30, 'silght': 1, 'anyth': 59, 'pubic': 45, 'mesenteri': 17, 'bwn': 3, 'tachypnea': 195, 'bloodi': 117, 'unrespons': 94, 'qlc': 3, 'entroclysi': 5, 'scan': 258, 'siusiti': 1, 'beneath': 20, 'init': 27, 'mening': 25, 'risb': 12, 'amplatz': 16, 'bit': 70, 'intervascularli': 2, 'stimlat': 1, 'inguin': 64, 'ent': 24, 'noontim': 15, 'deploy': 16, 'inject': 108, 'perm': 6, 'cuf': 40, 'ivab': 20, 'attend': 414, 'hang': 10, 'soundli': 9, 'li': 19, 'angiopathi': 2, 'rectum': 96, 'stiff': 44, 'express': 102, 'metal': 36, 'ultimatli': 1, 'plate': 26, 'qtt': 13, 'consistantli': 29, 'nephew': 19, 'og': 131, 'througout': 7, 'first': 206, 'tranfus': 8, 'toward': 124, 'penil': 8, 'iron': 56, 'name': 129, 'swollen': 52, 'oro': 2, 'highest': 8, 'away': 115, 'pelvic': 96, 'fetanyl': 1, 'incres': 6, 'desir': 72, 'clr': 25, 'patholog': 210, 'necessari': 115, 'ampicillin': 32, 'glycem': 306, 'diffucult': 2, 'unasyn': 15, 'cirrhosi': 44, 'provision': 192, 'dysfunct': 132, 'ag': 58, 'finger': 239, 'dl': 353, 'hematocrit': 297, 'anticonvuls': 3, 'qh': 61, 'aqua': 2, 'sulbactam': 13, 'metoprolol': 166, 'kg': 385, 'dz': 35, 'cel': 1, 'radiolog': 352, 'vital': 374, 'superif': 2, 'encephalopath': 8, 'asterixi': 9, 'bnp': 69, 'demograph': 294, 'lnp': 36, 'cash': 262, 'versiva': 1, 'mmhg': 353, 'disord': 77, 'lantu': 35, 'titl': 189, 'tcurrent': 303, 'cardiovascular': 251, 'withdrawn': 49, 'cloth': 277, 'erythema': 74, 'jewelri': 262, 'wound': 133, 'deplet': 46, 'signatur': 266, 'lactulo': 1, 'fa': 51, 'wast': 100, 'prescrib': 22, 'contribut': 117, 'beat': 158, \"desat'\": 2, 'valuabl': 267, 'clonu': 8, 'rml': 86, 'stimata': 1, 'vap': 318, 'transplant': 31, 'nash': 5, 'fibersourc': 33, 'action': 328, 'equivoc': 17, 'pertin': 298, 'cyu': 30, 'spine': 195, 'wed': 112, 'ckmb': 177, 'attent': 242, 'nad': 164, 'dsd': 77, 'credit': 262, 'ppi': 222, 'particularli': 112, 'black': 38, 'asp': 90, 'wallet': 256, 'debil': 6, 'tsh': 45, 'card': 290, '{': 315, 'keppra': 15, 'musculoskelet': 124, 'moan': 31, 'heel': 73, 'score': 23, 'zonisamid': 3, 'rhonci': 28, 'conjunctiva': 191, 'confus': 213, 'presum': 153, 'decubitu': 74, 'deveop': 2, 'lft': 106, 'hypernatrem': 22, 'resid': 345, 'invas': 330, 'cake': 2, 'vanc': 205, 'cr': 364, 'lansoprazol': 51, 'temperatur': 302, 'streaki': 14, 'engorg': 91, 'jpg': 304, 'exacerb': 140, 'list': 90, 'reorient': 113, 'hypothyroid': 59, 'stage': 161, 'throat': 267, 'pfi': 199, 'dm': 145, 'airway': 310, 'hypernatremia': 67, 'chief': 310, 'ul': 304, '}': 313, 'dentit': 74, 'configur': 63, 'levothyroxin': 44, 'diabet': 147, 'chlorid': 293, 'neurolog': 302, 'ammonia': 9, 'tropt': 141, 'record': 235, 'ing': 32, 'prevacid': 43, 'money': 264, 'hn': 32, 'tremor': 39, 'glucos': 370, 'creatinin': 324, 'candid': 56, 'recogn': 17, 'normocephal': 206, 'meld': 4, 'aplmar': 1, 'rope': 2, 'topomax': 1, 'infrahilar': 25, 'distort': 13, 'physic': 348, 'quadrant': 128, 'ft': 62, 'rifamixin': 1, 'chem': 29, 'satur': 330, 'lymphat': 112, 'pnuemonia': 19, 'coccyx': 160, 'membran': 36, 'ivc': 98, 'asciti': 7, 'jmgw': 16, 'stick': 260, 'age': 141, 'posi': 1, 'loud': 72, 'adendum': 3, 'flu': 109, 'benign': 113, 'scream': 7, 'slower': 90, 'aerosol': 127, 'ew': 85, 'unrestrain': 13, 'behavior': 43, 'ischemia': 164, 'rbbb': 18, 'repolar': 56, 'apprehens': 5, 'compazin': 21, 'contin': 42, 'observ': 157, 'atrophi': 41, 'lll': 266, 'sputem': 7, 'axi': 189, 'somnol': 106, 'bisacodyl': 42, 'comb': 36, 'interim': 112, 'fissur': 66, 'demand': 75, 'firmli': 10, 'influenza': 118, 'environ': 61, 'cardiolog': 58, 'pharyng': 85, 'hs': 117, 'type': 251, 'nasopharyng': 9, 'nitro': 37, 'isosorbid': 10, 'deviat': 124, 'rebook': 1, 'guiac': 115, 'supplement': 178, 'shout': 7, 'adl': 56, 'climb': 64, 'kcld': 3, 'adm': 126, 'pleasantli': 15, 'diuret': 66, 'safe': 80, 'redirect': 37, \"dc'ed\": 6, 'dnr': 172, 'bedpan': 46, 'dementia': 96, 'mistaken': 3, 'bundl': 121, 'recoveri': 62, 'fsbg': 34, 'conges': 1, 'syst': 18, 'contiu': 10, 'modest': 49, 'lovenox': 23, 'ich': 19, 'craze': 1, 'qid': 133, 'disorient': 12, 'vest': 6, 'cistern': 23, 'reinsert': 28, 'plavix': 29, 'audibl': 82, 'droplet': 96, 'enzym': 114, 'rule': 234, 'live': 189, 'complex': 90, 'thight': 3, 'part': 148, 'must': 46, 'wet': 338, 'agre': 321, 'levofloxacin': 227, 'rale': 130, 'digoxin': 49, 'sitter': 36, 'aspirin': 95, 'ntg': 43, 'redistribut': 46, 'nstemi': 30, 'crit': 33, 'docus': 57, 'primari': 142, 'particip': 71, 'zyprexa': 59, 'reinforc': 36, 'uncoop': 22, 'effac': 13, 'agreeabl': 14, 'recal': 20, 'ivabx': 10, 'hyothyroid': 1, 'gelfoam': 3, 'smicu': 10, 'focal': 416, 'heard': 63, 'indistinct': 44, 'tortuou': 60, 'lucenc': 43, 'pathogen': 37, 'bacteria': 42, 'xeroform': 3, 'adjac': 145, 'superfici': 108, 'readdress': 31, 'ooz': 65, 'pc': 21, 'platlet': 4, 'die': 51, 'kling': 3, 'grew': 43, 'bronch': 140, 'document': 119, 'ahf': 1, 'shin': 23, 'por': 2, 'mean': 59, 'reflect': 220, 'multilobar': 35, 'cellul': 25, 'cpnt': 1, 'mult': 50, 'wednesday': 20, 'spectrum': 83, 'accompani': 75, 'focu': 106, 'hemolyt': 6, 'compon': 187, 'dni': 145, 'autoimmun': 10, 'wrap': 23, 'declin': 100, 'asymmetr': 83, 'tacypn': 10, 'cll': 10, 'hypoact': 112, 'hilum': 40, 'pressor': 135, 'unknown': 197, 'pmd': 5, 'abroad': 1, 'alveolar': 84, 'gauz': 34, 'broad': 131, 'cmx': 11, 'thirst': 21, 'amphotericin': 2, 'bilatter': 1, 'cavit': 26, 'help': 256, \"con't\": 5, 'encephalopathi': 56, 'paranoia': 5, 'crisi': 11, 'multidisciplinari': 37, 'resuscit': 95, 'tongu': 73, 'copi': 77, 'stim': 45, 'proport': 7, 'meantim': 12, 'withdrew': 9, 'ventriculomegali': 3, 'labetolol': 15, 'glucon': 37, 'emesi': 89, 'dislodg': 13, 'proxi': 89, 'sluggish': 31, 'interdisciplinari': 89, 'hard': 137, 'referr': 69, 'uremia': 9, 'kayexal': 14, 'penicillin': 53, 'hyperkalemia': 31, 'reson': 90, 'cri': 57, 'thought': 143, 'sugar': 164, 'uf': 176, 'leukoencephalopathi': 3, 'lactat': 160, 'session': 21, 'neuron': 15, 'certainli': 36, 'wane': 36, 'gm': 155, 'linisipril': 1, 'labetalol': 16, 'retch': 2, 'suspect': 171, 'key': 287, 'fatigu': 172, 'insur': 32, 'conjunctiv': 54, 'miss': 48, 'viral': 119, 'critic': 219, 'alkalot': 9, 'medicaid': 13, 'input': 93, 'delirium': 95, 'wretch': 3, 'dme': 15, 'vision': 59, 'blurri': 47, 'emerg': 81, 'psychiatr': 89, 'epilepticu': 8, 'saw': 280, 'mono': 173, 'genitourinari': 94, 'dialysi': 97, 'dialys': 6, 'wit': 61, 'wax': 55, 'inch': 222, 'kayexel': 6, 'ue': 103, 'serum': 84, 'horn': 4, 'levaquin': 126, 'sz': 26, 'complianc': 80, 'nahco': 9, 'standard': 210, 'esrd': 48, 'thrust': 2, 'bipolar': 20, 'experienc': 69, 'univers': 12, 'hosp': 35, 'pngt': 7, 'evolut': 34, 'correct': 99, 'nourish': 150, 'schizophrenia': 15, 'hemoconcentr': 9, 'fh': 201, 'paramet': 90, 'malign': 139, 'conserv': 20, 'zofran': 38, 'noth': 51, 'neut': 172, 'nail': 20, 'spent': 275, 'hyperpotassemia': 4, 'stone': 82, 'deliri': 58, 'noxiou': 44, 'mwf': 4, 'neurolept': 3, 'hemodialysi': 36, 'consequ': 17, 'caudat': 10, 'decid': 109, 'caus': 266, 'percuss': 117, 'life': 27, 'obtund': 16, 'calcium': 157, 'sh': 200, 'senior': 9, 'differenti': 275, 'eo': 175, 'amp': 60, 'dialyz': 14, 'constitut': 121, 'doubt': 49, 'sq': 223, 'lithium': 4, 'wish': 85, 'yaunker': 11, 'rapid': 189, 'incomprehens': 17, 'proper': 52, 'hpi': 255, 'admin': 52, 'murmur': 212, 'hcp': 128, 'labatelol': 4, 'dilantin': 20, 'dextros': 39, 'happen': 44, 'medicar': 10, 'walker': 26, 'tempor': 27, 'bring': 88, 'ensu': 2, 'health': 113, 'cardiopulmonari': 39, 'unclear': 243, 'di': 23, 'jvp': 77, 'insipidu': 6, 'infrequ': 22, 'antihypertens': 62, 'wgt': 104, 'tox': 19, 'withdraw': 127, 'lacun': 6, 'esophagu': 92, 'ugi': 8, 'hiatal': 44, 'endobronchi': 24, 'unenhanc': 14, 'anteriorli': 96, 'mail': 5, 'nodul': 158, 'irregular': 100, 'bronchovascular': 16, 'dens': 125, 'lesser': 38, 'somewhatdil': 1, 'revis': 41, 'infraren': 23, 'atroph': 26, 'workup': 60, 'em': 32, 'pretrach': 18, 'hernia': 91, 'mottl': 12, 'lymphadenopathi': 198, 'coumadin': 139, 'prevascular': 35, 'vertebr': 85, 'aneurysm': 69, 'lowermost': 2, 'salt': 7, 'third': 66, 'sublux': 9, 'granuloma': 30, 'oliguria': 18, 'fluidfil': 1, 'trauma': 64, 'swell': 132, 'micua': 2, 'align': 34, 'arthrit': 12, 'mb': 36, 'fractur': 177, 'cpk': 31, 'lumbar': 85, 'prevertebr': 10, 'afib': 203, 'coronari': 209, 'boni': 83, 'incomplet': 86, 'shingl': 6, 'summari': 84, 'groundglass': 2, 'disress': 4, 'pacu': 6, 'apneaic': 2, 'necessit': 13, 'pco': 120, 'perla': 36, 'distent': 79, 'electr': 8, 'sy': 65, \"rec'\": 20, 'incision': 23, 'reacur': 1, 'alerr': 1, 'ti': 7, 'stabliz': 8, 'cleans': 49, 'aflutt': 26, 'typer': 1, 'nkda': 57, 'eti': 1, 'rehabilit': 42, 'qnd': 1, 'arrythmia': 19, 'hypotenns': 1, 'ketpad': 1, 'peroid': 2, 'push': 63, 'convert': 96, 'dic': 21, 'comand': 9, 'novasourc': 16, 'spell': 18, 'nede': 3, 'pericard': 20, 'tic': 1, 'reat': 1, 'raf': 23, 'sludg': 28, 'uncontrol': 14, 'appropriat': 2, 'broke': 19, 'expel': 7, 'screan': 1, 'shake': 72, 'peripheri': 33, 'lopresssor': 2, 'unlabor': 64, 'husband': 73, 'stagei': 1, 'houseoffic': 13, 'fresh': 4, 'irreg': 30, 'ii': 115, 'colect': 2, 'keyboard': 1, 'matress': 6, 'reciv': 15, 'centimet': 18, 'mionitor': 1, 'ar': 202, 'paco': 17, 'tp': 26, 'rrt': 59, 'fibb': 1, 'inferolater': 55, 'gel': 27, 'might': 119, 'prob': 31, 'telephon': 117, 'secrtion': 2, 'balans': 1, 'af': 123, 'simul': 3, 'shigft': 1, 'copd': 210, 'dietwith': 1, 'wnr': 9, 'whiteish': 2, 'becasu': 3, 'produc': 85, 'vdg': 3, 'advers': 22, 'administ': 287, 'fibrosi': 58, 'discolor': 12, 'ny': 3, 'children': 55, 'swab': 100, 'piec': 20, 'worker': 52, 'sw': 71, 'daycar': 3, 'repair': 67, 'lipitor': 23, 'inc': 134, 'occaision': 12, 'prostrat': 2, 'concentr': 54, 'stronger': 42, 'consensu': 5, 'addedum': 2, 'boarder': 6, 'psoriasi': 6, 'fx': 58, 'springhous': 1, 'coag': 90, 'disloc': 30, 'psh': 11, 'etoh': 71, 'remot': 40, 'creat': 170, 'intermittantli': 13, 'dininish': 1, 'metacarp': 5, 'scopolamin': 13, 'sao': 103, 'rncm': 1, 'gout': 27, 'biliou': 48, 'lograd': 1, 'sev': 9, 'az': 2, 'urolog': 22, 'phebotomi': 1, 'funer': 2, 'abil': 75, 'stood': 21, 'demetia': 4, 'er': 95, 'glaucoma': 13, 'ankl': 61, 'asa': 137, 'gown': 14, 'wiggl': 37, 'nondistend': 32, 'hypothroid': 3, 'took': 90, 'hoh': 27, 'sux': 19, 'pager': 73, 'everyth': 24, 'big': 16, 'cocci': 45, 'tm': 105, 'lethargi': 54, 'quietli': 20, 'tsicu': 9, 'lih': 1, 'hire': 3, 'step': 81, 'shock': 128, 'ness': 4, 'kiss': 2, 'nqwmi': 3, 'nonprod': 11, 'smoke': 57, 'memori': 30, 'gram': 187, 'privat': 13, 'interact': 110, 'strongli': 29, 'alzheim': 35, 'pneumoboot': 69, 'bruis': 49, \"have't\": 1, 'standbi': 48, 'cardiovert': 4, 'physician': 315, 'rememb': 23, 'pmhx': 63, 'toprol': 11, 'revers': 48, 'xl': 16, 'glu': 17, 'uncompems': 1, 'mur': 8, 'fail': 152, 'eaten': 9, 'carbidopa': 3, 'yof': 24, 'unbroken': 12, 'pneumaonia': 1, 'backrub': 6, 'succ': 12, 'keeppt': 1, 'nearbi': 10, 'regularli': 27, 'stting': 1, 'sudden': 34, 'dccv': 3, 'constip': 130, 'blanch': 14, 'parkinson': 24, 'neo': 41, 'geriatr': 9, 'visabl': 4, 'mhr': 6, 'gasi': 1, 'occa': 91, 'fu': 13, 'ccu': 73, 'profound': 20, 'rrl': 2, 'lotion': 44, 'carbadopa': 1, 'iter': 2, 'slt': 5, 'maalox': 7, 'phx': 1, 'unsuccess': 81, 'levodopa': 2, 'familyinform': 1, 'inturb': 1, 'stooll': 1, 'metabol': 122, 'yell': 43, 'nimv': 6, 'thisd': 1, 'stope': 4, 'diltiazem': 77, 'tighter': 7, 'partak': 1, 'contiun': 2, 'hub': 4, 'midnoc': 30, 'blew': 2, 'combiv': 48, '$': 12, 'distribut': 99, 'creami': 19, 'prong': 21, 'kepft': 1, 'solumedrol': 70, 'previuo': 2, 'insitu': 11, 'retain': 46, 'plu': 54, 'blow': 7, 'mainta': 13, 'yest': 69, 'nebuils': 1, 'hob': 164, 'fullcod': 2, 'hyperoxygen': 3, 'contniu': 1, 'add': 219, 'pressurea': 1, 'visist': 4, 'caregiv': 23, 'bid': 89, 'exac': 8, 'stroke': 78, 'disc': 45, 'sp': 88, 'serev': 3, 'tomorro': 1, 'wheezi': 56, 'fleet': 18, 'niec': 21, 'scd': 12, 'audilb': 1, 'lopress': 5, 'easier': 18, 'giver': 6, 'pure': 85, 'assesss': 3, 'daibet': 1, 'fm': 69, 'methylprednisolon': 22, 'thoracentesi': 88, 'glargin': 38, 'rhonchu': 10, 'ex': 46, 'transfuss': 2, 'pule': 3, 'inatact': 2, 'nebulis': 1, 'enema': 30, 'aim': 43, 'neic': 13, 'clearer': 37, 'stab': 6, 'prevent': 97, 'humid': 13, 'statement': 9, 'looser': 5, 'remian': 28, 'humidifi': 77, 'clairifi': 1, 'continiu': 1, 'term': 160, 'scoop': 4, 'paroxysm': 15, 'inflamm': 58, 'commenc': 20, 'brought': 129, 'fem': 37, 'loosen': 26, 'elexir': 1, 'mmol': 214, 'reschedul': 9, 'anion': 18, 'myco': 3, 'resussit': 7, 'unfortun': 29, 'qdaili': 5, 'zantac': 12, 'annual': 1, 'discusss': 2, 'ideal': 127, 'protect': 258, 'phonat': 8, 'muir': 33, 'pl': 105, 'calcul': 35, 'plantar': 8, 'motor': 77, 'op': 105, 'zosyn': 185, 'tomm': 10, 'ard': 145, 'awit': 2, 'antifung': 42, 'bradycard': 38, 'kcal': 81, 'hypercholesterolemia': 34, 'bc': 83, 'ciprofloxacin': 60, 'opthalm': 1, 'furosemid': 119, 'transffer': 8, 'frusemid': 3, 'csb': 1, 'cyanosi': 130, 'inplac': 25, 'ethic': 7, 'mattress': 37, 'tubular': 12, 'enterococca': 1, 'phosphoru': 105, 'ant': 31, 'papillari': 44, 'aggit': 48, 'ionli': 1, 'oxid': 14, 'typic': 42, 'rtc': 22, 'fluctuat': 57, 'palli': 31, 'uti': 106, 'tpa': 22, 'bradycardia': 104, 'gasp': 7, 'confer': 11, 'grasp': 27, 'cognit': 73, 'gic': 1, 'exsuffl': 7, 'hope': 112, 'across': 41, 'acheiv': 7, 'torulopsi': 1, 'alk': 181, 'malnutrit': 50, 'simvastatin': 44, 'strengthen': 13, 'tazo': 24, 'folat': 41, 'erect': 65, 'reattach': 2, 'straight': 25, 'micro': 101, 'cancel': 34, 'author': 16, 'teeth': 118, 'myopathi': 11, 'dysynchronu': 1, 'encephalomalacia': 8, 'commmand': 1, 'micropunctur': 66, 'stretch': 10, 'oropharyng': 105, 'aecret': 1, 'septicemia': 5, 'macu': 28, 'hoyer': 6, 'peridex': 16, 'tire': 82, 'galabrata': 1, 'apprec': 6, 'resumpt': 9, 'tap': 81, 'funal': 1, 'ctab': 39, 'repac': 1, 'blocker': 131, 'transit': 207, 'toliet': 13, 'pay': 11, 'frog': 2, 'ventilatiori': 1, 'bare': 35, 'mgt': 21, 'layer': 110, 'etc': 106, 'reconnect': 2, 'contro': 1, 'sqi': 15, 'interm': 9, 'diinish': 1, 'andthat': 1, 'ophtho': 1, 'sensitivit': 4, 'maximum': 26, 'glabrata': 1, 'alt': 179, 'wihtout': 5, 'exhal': 32, 'gum': 5, 'uub': 1, 'backup': 7, 'qday': 22, 'ncat': 18, 'reeval': 13, 'bal': 84, 'specieat': 1, 'olanazipin': 1, 'obstacl': 6, 'phosphat': 65, 'enoxaparin': 7, 'ioniz': 114, 'prepar': 79, 'organ': 171, 'depart': 37, 'hello': 2, 'goe': 42, 'calc': 62, 'ldh': 153, 'laundri': 1, 'notabl': 165, 'ophthalm': 5, 'intracran': 1, 'consectut': 1, 'caco': 4, 'piperacillin': 106, 'ast': 167, 'fascil': 1, 'sunday': 23, 'dimer': 18, 'resusit': 11, 'bedcloth': 1, 'aureu': 22, 'derecruit': 4, 'veget': 57, 'deepli': 10, 'con': 48, 'vitamin': 59, 'occup': 90, 'reoccur': 5, 'ventiatori': 1, 'cataract': 35, 'resit': 20, 'vna': 16, 'lean': 20, 'role': 48, 'gip': 1, 'stain': 111, 'nl': 92, \"yesterday'\": 4, 'microbiolog': 154, 'atherosclerot': 97, 'epitheli': 34, 'rhonchrou': 5, 'versu': 138, 'comprehens': 9, 'snx': 13, 'cbi': 7, 'snd': 28, 'alo': 55, 'financi': 7, 'finish': 77, 'inquir': 10, 'front': 18, 'vreand': 1, 'whenev': 17, 'messag': 19, 'discontinu': 139, 'ofr': 3, 'weekend': 58, 'handl': 23, 'vre': 36, 'straighten': 5, 'lipas': 73, 'holiday': 7, 'alound': 1, 'disorgan': 2, 'anticoagul': 128, 'fi': 66, 'ppm': 23, 'mycobacteria': 3, 'nr': 12, 'till': 54, 'unspecifi': 4, 'repleat': 74, 'unlik': 120, 'ineffect': 48, 'drsg': 41, 'closs': 2, 'file': 14, 'redrawn': 8, 'rpe': 40, 'scab': 27, 'clarif': 49, 'mycobacterium': 4, 'legionella': 129, 'hgb': 88, 'among': 4, 'ecchymos': 31, 'linezolid': 33, 'outcom': 15, 'sfa': 8, 'outlin': 115, 'lax': 17, 'ventilatori': 150, 'jr': 9, 'deduct': 2, 'manufactur': 70, 'therapuet': 6, 'involvemt': 1, 'comfrot': 1, 'grimacc': 1, 'sqh': 33, 'failr': 1, 'coloni': 11, 'lmw': 9, 'payer': 3, 'oint': 10, 'count': 156, 'medivis': 5, 'nard': 31, 'carbon': 23, 'staph': 51, 'protein': 108, 'acknowledg': 22, 'carotid': 57, 'diastol': 173, 'painm': 2, 'llax': 1, 'obvious': 17, 'claim': 69, 'flora': 37, 'waveform': 101, 'passey': 16, 'anxiolyt': 12, 'bicarb': 53, 'ssri': 60, 'dig': 40, 'wo': 19, 'supposedli': 2, 'tobramycin': 20, 'sulfa': 30, 'synergi': 2, 'delerium': 24, 'gen': 138, 'common': 139, 'way': 86, 'cg': 42, 'knowledg': 21, 'troubleshoot': 2, 'vitb': 1, 'voluntarili': 3, 'kinear': 3, 'kub': 49, 'clench': 5, 'prot': 10, 'month': 144, 'sate': 74, 'djd': 9, 'occai': 2, 'mycolyt': 2, 'lscta': 16, 'oo': 4, 'asse': 1, 'atelectat': 74, 'speci': 10, 'dysynchroni': 76, 'coccu': 2, 'deflat': 36, 'hypodens': 91, 'carb': 7, 'yeast': 83, 'meur': 1, 'polio': 3, 'figiti': 2, 'intraventricular': 45, 'flexion': 23, 'myocard': 8, 'indemn': 1, 'resassur': 3, 'contractur': 15, 'bg': 40, 'told': 62, 'cefuroxim': 4, 'enterococcu': 19, 'pip': 139, 'thurday': 1, 'vit': 50, 'cavern': 16, 'bmi': 69, 'cytokin': 1, 'durat': 69, 'program': 41, 'render': 14, 'pct': 5, 'hyperventil': 14, 'nonsens': 12, 'planner': 4, 'assoc': 28, 'cefepim': 107, 'diffacult': 1, 'wk': 58, 'bacilli': 3, 'diaper': 18, 'usag': 11, 'leukocytpsi': 1, 'succeed': 5, 'substanti': 145, 'frighten': 5, 'presumpt': 19, 'bypass': 19, 'ace': 68, 'poss': 55, 'futur': 88, \"'no\": 2, 'pvd': 45, 'permit': 14, 'rwma': 2, 'resist': 87, 'dwindl': 5, 'klebsiella': 18, 'rsb': 2, 'ime': 1, 'ami': 11, 'sick': 35, '|': 12, 'relev': 67, 'ranitidin': 23, 'flexor': 5, 'skill': 23, 'mri': 118, 'tightli': 4, 'barrier': 135, 'cardiologist': 14, 'typeii': 1, 'cbc': 52, 'trimethoprim': 25, 'interest': 28, 'emphas': 104, 'radiu': 10, 'nchct': 6, 'bue': 31, 'mov': 2, 'compent': 1, 'osm': 20, 'ausc': 9, 'submit': 37, 'saturday': 18, 'reconsult': 28, 'crust': 9, 'bu': 15, 'fungal': 82, 'glenohumer': 13, 'physcial': 1, 'sharp': 45, 'compet': 11, 'omit': 6, 'shallowli': 2, 'constantli': 30, 'fibrinogen': 35, 'pan': 93, 'mom': 27, 'assur': 17, 'hemithorax': 114, 'pgt': 5, 'mellitu': 50, 'photic': 1, 'ensur': 85, 'bud': 16, 'rg': 3, 'locomot': 31, 'exhaust': 14, 'clarifi': 54, 'chlorhexidin': 29, 'grow': 60, 'klesiella': 1, 'undetermin': 25, 'recur': 27, 'vocal': 69, 'alittl': 9, 'deir': 1, 'heo': 1, 'finesh': 1, 'recurr': 162, 'fast': 47, 'elig': 3, 'dip': 49, 'whi': 61, 'bacteri': 145, 'mic': 41, 'suppli': 13, 'deciph': 2, '^th': 23, 'emotiion': 1, 'optho': 1, 'senna': 94, 'extr': 32, 'apnvol': 4, 'gentl': 74, 'synchron': 65, 'understood': 12, 'natur': 56, 'quieter': 4, 'synthroid': 24, 'joint': 115, 'reluct': 11, 'inservic': 1, 'aerob': 45, 'compromis': 44, 'postiv': 14, 'correctli': 14, 'morpholog': 37, 'bacteremia': 70, 'rpr': 15, 'cloud': 3, 'vesta': 44, 'occipit': 22, 'sequela': 28, 'featur': 22, 'lebsiella': 1, 'deliriu': 3, 'integumentari': 91, 'fluoro': 90, 'zocor': 13, 'uncompl': 67, 'cachect': 21, 'misinform': 1, 'enterrococcu': 1, 'probe': 29, 'cult': 21, 'guard': 89, 'train': 35, 'thursday': 27, \"trach'd\": 3, 'ddx': 55, 'sir': 37, 'fold': 35, 'leukocytosi': 169, 'stair': 44, 'errat': 17, 'qod': 21, 'contain': 102, 'toelrat': 4, 'variat': 31, 'infxn': 24, 'ocular': 4, 'grab': 12, 'puddl': 1, 'bottl': 59, 'buit': 1, 'mouthcar': 12, 'atc': 54, 'compani': 12, 'paralyz': 81, 'ngtd': 82, 'breakthrough': 30, 'statin': 75, 'obtian': 1, 'magnesium': 150, 'outupt': 1, 'postpon': 18, 'narr': 28, 'assest': 1, 'spuriou': 3, 'debilit': 5, 'supoprt': 2, 'ntinu': 2, 'decompens': 90, 'tc': 64, 'passi': 29, 'liaison': 6, 'tell': 38, 'improvemt': 1, 'caspo': 3, 'frm': 2, 'retract': 35, 'destin': 74, 'nebul': 73, 'unarous': 4, '^nd': 36, 'uroin': 1, 'realist': 4, 'ween': 8, 'amylas': 71, 'anaerob': 19, 'equip': 23, 'surgic': 173, 'cor': 14, 'perfom': 3, 'inflict': 1, 'leuk': 15, 'merepenem': 8, 'sulfamethoxazol': 13, 'ass': 26, 'hip': 87, 'esp': 45, 'ampul': 1, 'necrosi': 20, 'ceas': 6, 'rta': 5, 'soap': 21, 'fungemia': 3, 'aero': 1, 'distanc': 53, 'tco': 194, 'attach': 18, 'shallow': 50, 'sensori': 37, 'epileptiform': 4, 'lawyer': 7, 'stemi': 17, 'injuri': 96, 'establish': 57, 'club': 114, 'interview': 9, 'never': 49, 'educ': 63, 'stiumuat': 1, 'pursu': 51, 'uncomprehend': 1, 'cachet': 9, 'subacut': 15, 'identif': 12, 'mucou': 103, 'reappli': 33, 'truli': 12, 'challeng': 38, 'plateau': 78, 'spend': 11, 'valvl': 1, 'entercocc': 1, 'caspofungin': 6, 'conduct': 88, 'asses': 21, 'currrent': 5, 'fee': 19, 'hep': 139, 'thiamin': 17, 'ucx': 60, 'vavl': 1, 'tear': 94, 'inspiratori': 80, 'bac': 9, 'suctiong': 2, 'tuesday': 33, 'spot': 83, 'est': 15, 'attni': 1, 'empir': 119, 'apart': 29, 'postur': 47, 'import': 48, 'ltac': 15, 'siani': 1, 'icd': 51, 'weekli': 15, 'mumbl': 17, 'mrsa': 152, 'dehydr': 52, 'patiet': 2, 'involut': 8, 'reinflat': 5, 'encourgag': 3, 'ongo': 130, 'masshealth': 6, 'bilirubin': 61, 'ceftazidim': 26, 'polypharmaci': 4, 'lactic': 220, 'inabl': 89, 'iu': 151, 'relaps': 8, 'origin': 143, 'kinair': 38, 'fungu': 9, 'diurees': 1, 'nitric': 7, 'pedn': 3, 'writer': 8, 'heent': 169, 'anticoag': 12, 'pmn': 48, 'chlorthiazid': 1, 'subglott': 16, 'jaundic': 83, 'investig': 20, 'rrr': 156, 'garbl': 25, 'frame': 34, 'benefit': 141, 'soil': 5, 'rout': 93, 'gentamicin': 17, 'toothbrush': 1, 'alkalin': 60, 'dull': 81, 'cluster': 40, 'lul': 153, 'tracheal': 73, 'ppx': 115, 'salin': 92, 'incident': 44, 'grimic': 1, 'ointment': 41, 'unimprov': 4, 'dicharg': 2, 'eeg': 31, 'failri': 1, 'iss': 71, 'dilig': 2, 'custom': 2, 'toxic': 54, 'flight': 21, 'intoler': 85, 'meaning': 4, 'mrg': 26, 'ntnd': 33, 'particp': 1, 'rod': 53, 'rub': 157, 'acei': 26, 'nab': 35, 'mngt': 4, 'multifactori': 49, 'svr': 10, 'wore': 13, 'airmov': 3, 'hctz': 16, 'afb': 29, 'arrang': 32, 'friend': 73, 'winc': 12, 'inward': 3, 'coordin': 47, 'decondit': 45, 'esbl': 17, 'pleth': 12, 'kleb': 9, 'bili': 173, 'variou': 55, 'heliox': 5, 'albumin': 144, 'mirtazapin': 8, 'hygein': 17, 'autoflow': 47, 'vasopressor': 22, 'hospic': 22, 'chlorhex': 6, 'vehicl': 4, 'worri': 12, 'anterioli': 1, 'feeed': 1, 'irregularli': 21, 'reattempt': 12, 'transthorac': 33, 'learn': 7, 'cefazolin': 16, 'cmp': 3, 'nitrat': 11, 'lasic': 4, 'activit': 3, 'approv': 59, 'ryhtym': 1, 'knee': 81, 'vb': 3, 'olanzapin': 27, 'chg': 21, \"c'd\": 22, 'supra': 11, 'mgmt': 24, 'overwelm': 1, 'toeveri': 1, 'resourc': 7, 'loc': 21, 'metavis': 34, 'pneumo': 49, 'gnr': 69, 'disturb': 19, 'speciat': 35, 'sternal': 63, 'polici': 7, 'background': 33, 'ontcool': 1, 'growth': 91, 'throw': 9, 'propot': 2, 'hz': 5, 'lot': 65, 'hae': 2, 'spous': 15, 'syndrom': 105, 'press': 94, 'unassist': 29, 'couldnt': 1, 'nephrogram': 4, 'comp': 6, 'hypoglycemia': 29, 'apsolut': 1, 'duct': 70, 'subdur': 21, 'suit': 51, 'captoril': 2, 'ventriculoperiton': 3, 'stare': 10, 'ful': 5, 'coupl': 65, 'disent': 1, 'trumpet': 13, 'swan': 20, 'wir': 1, 'dilut': 41, 'triphas': 5, 'artlin': 2, 'peri': 67, 'motil': 16, 'keflex': 9, 'cov': 11, 'breat': 5, 'ventriculo': 1, 'splenic': 38, 'preexist': 9, 'resudu': 2, 'trough': 91, 'acalc': 3, 'wedg': 26, 'stv': 15, 'strenghth': 1, 'anplatz': 1, 'wil': 5, 'undergo': 33, 'palpat': 107, 'flexitract': 2, 'pearl': 56, 'mucoid': 24, 'perinium': 1, 'resolut': 184, 'unsuit': 3, 'retinopathi': 8, 'multipodi': 11, 'cultu': 2, 'strenght': 7, 'intraperiton': 31, 'disp': 5, 'inter': 3, 'elixir': 9, 'ptx': 112, 'occl': 1, 'caudad': 2, 'swang': 1, 'fdg': 29, 'hypoxemia': 159, 'mrsh': 1, 'quinin': 2, 'reproduc': 4, 'diverticul': 36, 'excori': 46, 'five': 33, 'optim': 115, 'pylor': 32, 'scar': 85, 'pericholecyst': 22, 'vpshunt': 1, 'duodem': 1, 'narcan': 14, 'cabl': 2, 'fwb': 19, 'larm': 2, 'dyspepsia': 3, 'pancreat': 61, 'slate': 2, 'isodens': 5, 'unwil': 4, 'hypernatrimia': 1, 'fluro': 5, 'nasotrach': 19, 'intrabdomin': 5, 'rescreen': 6, 'wbcc': 2, 'zoloft': 14, 'chole': 6, 'facial': 65, 'periph': 25, 'flumazenil': 2, 'ud': 16, 'choic': 32, 'profoundli': 10, 'hematoma': 87, 'regain': 16, 'comf': 11, 'affirm': 6, 'technologist': 2, 'gastroparesi': 8, 'pigtail': 36, 'contanct': 1, 'paramedian': 7, 'vp': 12, 'inconsistanti': 1, 'trachealbronch': 1, 'waffl': 23, 'insuffl': 11, 'uncahng': 1, 'relay': 12, 'pluggi': 12, 'cephalad': 5, 'protonix': 109, 'iddm': 20, 'shoot': 9, 'ostomi': 21, 'albut': 6, 'bottuck': 1, 'groin': 77, 'intra': 130, 'mesenter': 70, 'perinephr': 15, 'cohlecyst': 1, 'mvt': 5, 'vasc': 5, 'subcutan': 122, 'intrapelv': 8, \"nts'ing\": 3, 'territori': 45, 'definit': 207, 'hourli': 52, 'kump': 10, 'asymmmetr': 1, 'gyral': 1, 'appendix': 14, 'trim': 17, 'hypopharyng': 3, 'tracheobronch': 6, 'lcontinu': 1, 'tracheobronc': 1, 'fundu': 20, 'conspicu': 14, 'careweb': 13, 'levoquin': 71, 'ultrac': 8, 'unifoc': 5, 'travers': 16, 'pcn': 28, 'manipul': 31, 'descend': 76, 'dibilit': 1, 'convex': 14, 'weakli': 34, 'chose': 2, 'pap': 33, 'rult': 1, 'nare': 44, 'epitaxi': 2, 'etomid': 10, 'ulnar': 8, 'trietz': 1, 'ascit': 86, 'throught': 12, 'periton': 25, 'toxin': 25, 'dssg': 12, 'nst': 9, 'rim': 16, 'radiopaqu': 14, 'women': 13, 'reidual': 1, 'reddend': 2, 'viscou': 14, 'presuur': 1, 'fsb': 61, 'perk': 1, 'zero': 13, 'ruq': 51, 'pharynx': 30, 'punctat': 17, 'nph': 44, 'nn': 3, 'postpylor': 6, 'introduc': 48, 'gluocos': 1, 'secreat': 60, 'beyond': 58, 'foerarm': 1, 'stockinett': 1, 'format': 65, 'usus': 1, 'fingerstick': 72, 'retroperiton': 74, 'yerterday': 1, 'erythemat': 32, 'offset': 5, 'temporarili': 14, 'dup': 15, 'ped': 2, 'ligament': 19, 'sump': 7, 'lp': 39, 'amelior': 2, 'captopril': 56, 'ganz': 17, 'effct': 3, 'recaptur': 2, 'succinycholin': 1, 'bottom': 28, 'hypo': 58, 'dollar': 3, 'shunt': 33, 'superstiff': 2, 'lasi': 2, 'cvl': 114, 'captropril': 4, 'duski': 12, 'pit': 80, 'yeasti': 8, 'mcq': 28, 'gaol': 3, 'lcode': 1, 'stir': 8, 'numer': 73, 'withrr': 1, \"cx'ed\": 1, 'extensor': 3, 'unsucessful': 1, 'lordot': 5, 'navicular': 4, 'aberr': 9, 'supp': 43, 'fiber': 82, 'intiat': 4, 'els': 16, 'dimens': 34, 'strep': 32, 'bright': 26, 'mgm': 30, 'pneumoni': 4, 'cmi': 3, 'yearold': 1, 'signal': 48, 'labrum': 1, 'dulcolax': 36, 'humer': 23, 'saliva': 5, 'phenomenon': 10, 'subdeltoid': 1, 'marrow': 31, 'plexopathi': 1, 'fifth': 10, 'im': 24, 'nearli': 59, 'gross': 75, 'cchr': 8, 'nois': 18, 'subacromi': 1, 'substanc': 12, 'posterolater': 9, 'pneu': 2, 'osa': 48, 'beplac': 1, 'scratchi': 2, 'affebril': 1, 'diminut': 7, 'gage': 2, 'necrot': 40, 'tea': 15, 'arrous': 13, 'tarsal': 1, 'pneum': 4, 'cardio': 54, 'tommorrow': 18, 'solid': 132, 'pcxr': 12, 'suspicion': 74, 'roughli': 15, 'diaph': 2, 'nuclear': 6, 'diaphret': 1, 'attemp': 7, 'fourth': 15, 'acromi': 1, 'subscapulari': 2, 'osteomyel': 22, 'abscess': 119, 'cuboid': 1, 'sepi': 3, 'massiv': 38, 'pneumococc': 25, 'disus': 1, 'eet': 1, 'prof': 1, 'tiolet': 4, 'urpc': 2, 'dorsum': 2, 'rythm': 19, 'tbb': 25, 'hyperemia': 6, 'diprivan': 1, 'conintu': 4, 'clavicular': 13, 'feasabl': 1, 'extrasystol': 6, 'supraspinatu': 2, 'fli': 4, 'medicin': 56, 'decub': 67, 'occn': 8, 'metatars': 3, 'obl': 3, 'bicep': 6, 'infraspinatu': 2, 'pd': 14, 'bursa': 3, 'plain': 29, 'moderatli': 1, 'deform': 50, 'recenli': 1, 'posteriorli': 51, 'gadolinium': 35, 'peerla': 6, 'quick': 26, 'articular': 6, 'ble': 57, 'unusu': 30, 'magnevist': 35, 'settign': 3, 'hem': 27, 'six': 39, 'mellow': 1, 'subcort': 24, 'pox': 14, 'flex': 28, 'rusti': 12, 'spontrr': 1, 'lightli': 71, 'neutral': 16, 'fewer': 11, 'moist': 52, 'musculotendin': 1, 'ltr': 5, 'airport': 1, 'linear': 77, 'cuneiform': 1, 'uncertain': 38, 'vaopriz': 1, 'basalar': 1, 'speach': 11, 'atyp': 95, 'yeseterday': 1, 'uret': 25, 'shakey': 2, 'oreint': 5, 'radiolgist': 1, 'exophyt': 13, 'vapor': 1, 'absc': 3, 'anusol': 2, 'hemo\\x13rrhoid': 1, 'hypoecho': 9, 'broken': 48, 'ax': 90, 'jitteri': 4, 'malfunct': 7, 'personnel': 4, 'pole': 56, 'axox': 11, 'laser': 5, 'periureter': 2, 'nibp': 44, 'echogen': 56, 'klibesella': 1, 'printer': 1, 'inct': 2, 'smooth': 16, 'pertrud': 1, 'cat': 23, 'coopert': 3, 'doze': 42, 'dentur': 48, 'urosepsi': 14, 'hematuria': 45, 'bay': 2, 'multidetector': 54, 'largest': 47, 'store': 11, 'maint': 23, 'tranport': 2, 'crystal': 6, 'ctu': 1, 'contnu': 3, 'flood': 2, 'irrit': 34, 'lobar': 45, 'otherwsi': 1, 'adedqu': 1, 'hack': 5, 'misk': 1, 'bronchosast': 1, 'bark': 2, 'headach': 104, 'hygen': 10, 'constant': 62, 'explan': 44, 'pee': 7, 'ach': 22, 'forc': 25, 'diphoret': 1, 'packet': 21, 'react': 39, 'trazodon': 22, 'doublegard': 1, 'reserv': 20, 'followand': 1, 'hr^': 2, 'cleaner': 10, 'sig': 59, 'hit': 35, 'receiev': 6, 'tansfer': 1, 'shedul': 3, 'unbrocken': 2, 'electoly': 1, 'psychosoci': 34, 'hose': 2, 'tight': 49, 'draig': 1, 'receievd': 2, 'aplli': 7, 'metoprolo': 5, 'failer': 1, 'stoma': 26, 'dt': 18, 'remaian': 2, 'althought': 4, 'historian': 14, 'captipril': 2, 'argantroban': 1, 'exaserb': 2, 'lisinipril': 2, 'readjust': 11, 'therapeud': 2, 'hydrostat': 10, 'decannul': 8, 'satu': 4, 'ptmay': 1, 'ced': 58, 'snack': 9, 'hugger': 20, 'stem': 20, 'kilo': 2, 'dangl': 16, 'hypotherm': 20, 'dischar': 1, 'fear': 15, 'random': 36, 'dermi': 2, 'argatroban': 3, 'mgso': 17, 'inlet': 91, 'bair': 14, 'fhp': 35, 'column': 6, 'unbutton': 1, 'bedtim': 31, 'reevalu': 45, 'fam': 18, 'cxray': 24, 'admiit': 2, 'wt': 59, 'rep': 14, 'stagger': 5, 'strengh': 1, 'triazidon': 1, 'lle': 45, 'median': 42, 'cadiac': 3, 'mth': 4, 'incourag': 5, 'flash': 44, 'sternotomi': 60, 'prec': 21, 'outli': 1, 'eupneic': 2, 'sympomat': 1, 'hhtm': 1, 'appi': 14, 'miur': 2, 'draft': 2, 'upto': 20, 'shovel': 54, 'drplet': 1, 'twitch': 9, 'atr': 62, 'cefriaxon': 5, 'azithromycin': 121, 'loperessor': 1, 'occas': 27, 'oxycodon': 90, 'pacer': 63, 'afebriel': 2, 'deposit': 11, \"sx'ing\": 13, 'wosen': 2, 'needi': 2, 'hypokalem': 1, 'power': 28, 'resecur': 2, 'disregard': 7, 'clavicl': 35, 'inutb': 1, 'ord': 1, 'choke': 38, 'phlegm': 18, 'nerpo': 1, 'fgd': 2, 'unreason': 1, 'elsewher': 15, 'outpu': 1, 'nepro': 13, 'tolert': 7, 'cloudi': 71, 'recehck': 1, 'vnaco': 1, 'perman': 24, 'reappear': 4, 'dev': 5, 'hemodynamci': 5, 'deferves': 1, 'accur': 40, 'vpace': 9, 'eri': 2, 'fsg': 16, 'insuln': 2, 'beextub': 1, 'ddd': 10, 'andw': 1, 'ut': 5, 'acidemia': 11, \"tx'ed\": 6, 'yankor': 1, 'incent': 70, 'spiromet': 43, 'calib': 99, 'wrong': 24, 'adher': 11, 'cook': 6, 'woken': 14, 'througho': 1, 'qt': 26, 'leftward': 46, 'coulf': 1, 'hydralazin': 63, 'pearla': 1, 'nu': 7, 'hypernatremai': 1, 'serou': 54, 'antiobx': 1, 'draingag': 2, 'languag': 88, 'copiu': 12, '^bp': 5, 'rewir': 2, 'extrim': 19, 'toleat': 2, 'grand': 14, 'multipod': 6, 'adv': 21, 'florid': 1, 'agent': 51, 'applesauc': 57, 'psycho': 2, 'rational': 10, 'pose': 4, 'twenti': 11, 'miconazol': 35, 'bilatar': 2, 'takennoff': 1, 'digit': 12, 'asymetr': 1, 'cycl': 71, 'nailb': 14, 'autodiuresi': 18, 'succinylcholin': 5, 'tibia': 6, 'hiss': 49, 'strongh': 2, 'perfit': 4, 'opressor': 1, 'reexpans': 17, 'weepi': 12, 'unlabour': 7, 'mon': 124, 'agreement': 29, 'circular': 3, 'bloood': 2, 'bifurc': 20, '^^frequent': 1, 'adapt': 21, 'puffi': 5, 'midnit': 17, 'openn': 1, 'probal': 37, 'wise': 8, 'weep': 31, 'sotalol': 3, 'additiona': 1, 'enjoy': 11, 'steam': 5, 'aquacel': 12, 'zyprexia': 10, 'iurs': 1, 'ramp': 8, 'carin': 11, 'zyrexa': 2, 'ota': 18, 'dieuresi': 4, 'reinstiut': 1, 'presept': 6, 'cpr': 21, 'dilt': 76, 'foe': 7, 'nonverb': 35, 'whotish': 1, 'rl': 13, 'ansarca': 2, 'auto': 36, 'hook': 6, 'favor': 43, 'ic': 10, 'bmx': 16, 'cop': 14, 'mp': 20, 'danger': 9, 'sluggishli': 5, \"today'\": 14, 'temporari': 33, 'underw': 60, 'univ': 7, 'epistaxi': 45, 'postop': 31, 'tab': 61, 'nkfa': 15, 'offici': 17, 'rd': 48, 'atn': 44, 'hcl': 36, 'chanc': 20, 'penetr': 74, 'cal': 49, 'oversed': 17, 'gallop': 65, 'closur': 34, 'treatement': 5, 'hurt': 14, 'dcd': 18, 'pseudomona': 54, 'normoact': 16, 'lorazepam': 66, 'prudent': 4, 'lunch': 40, 'seroquel': 32, 'bcx': 81, 'nectar': 85, 'hyperlipidemia': 74, 'wan': 1, 'heamodinam': 2, 'sensat': 60, 'tbm': 10, 'nocturn': 15, 'chin': 38, 'tazobactam': 90, 'mmm': 83, 'barium': 84, 'tracheocutan': 1, 'mouthwash': 5, 'neither': 19, 'video': 113, 'decadron': 16, 'bee': 35, 'slp': 69, 'intersti': 4, 'autoset': 12, 'rigid': 34, 'ppf': 7, 'lighten': 24, 'pta': 59, 'bronchospasm': 27, 'thrombocytopeni': 3, 'intraabdomin': 26, 'laryngoscop': 1, 'arrhythmia': 79, 'vicoden': 1, 'tracheomalacia': 19, 'supraglott': 2, 'context': 38, 'guaifenesin': 23, 'requr': 6, 'alway': 56, 'phenylephrin': 13, 'ipratroprium': 7, 'ao': 13, 'strict': 49, 'mention': 47, 'trop': 71, 'inadequ': 59, 'shape': 28, 'interfer': 5, 'bibasilr': 3, 'dysphagia': 89, 'burn': 23, 'guidelin': 14, 'proceed': 42, 'worrisom': 46, 'contamin': 63, 'os': 47, 'caution': 18, 'ecg': 124, 'lamict': 3, 'fistula': 48, 'arf': 112, 'machin': 33, 'thr': 5, 'eomi': 56, 'downward': 39, 'ric': 1, 'ofm': 13, 'sertralin': 7, 'jrld': 8, 'granul': 14, 'robitussin': 14, 'idos': 1, 'bupropion': 4, 'delin': 29, 'sa': 18, 'scope': 18, 'recordsheparin': 1, 'stridor': 27, 'distant': 119, 'mvv': 2, 'organomegali': 41, 'lamotrigin': 4, 'hypocalor': 23, 'seed': 4, 'cipro': 73, 'gotten': 16, 'bactermia': 8, 'quetiapin': 8, 'euvolem': 48, 'wwp': 25, 'anithypertens': 2, 'pantoprazol': 96, 'thrombocytosi': 11, 'neosynephrin': 10, 'calori': 62, 'vicodin': 12, 'bronchoscopi': 101, 'tracheobronchiomalacia': 1, 'crush': 68, 'copmlet': 1, 'utd': 2, 'orthostat': 6, 'exagger': 13, 'woke': 30, 'laa': 16, 'border': 79, 'throughtout': 10, 'asd': 65, \"amt'\": 1, 'certifi': 23, 'basilar': 201, 'intcat': 1, 'atheroma': 15, 'releas': 32, 'raa': 13, 'regul': 26, 'pnumonia': 6, 'benzocain': 11, 'spray': 32, 'appendag': 17, 'bronchopneumonia': 8, 'spacer': 16, 'asthma': 76, 'dosag': 42, 'hcfa': 22, 'probablyl': 1, 'latter': 14, 'flovent': 23, 'regimin': 14, 'great': 102, 'someon': 21, 'whilst': 5, 'therepay': 1, 'multidiciplanari': 2, 'notbal': 1, 'tollert': 5, 'hepc': 6, 'user': 7, 'systool': 1, 'leginella': 1, 'diarrhoea': 2, 'percent': 12, 'preacuat': 1, 'maitain': 7, 'compliant': 28, 'reassurr': 3, 'drope': 8, 'unoffici': 2, 'endocrin': 100, 'abus': 89, 'dizzy': 4, 'hrli': 23, 'soung': 1, 'rac': 10, 'issacc': 1, 'expor': 2, 'minor': 63, 'tolerta': 4, 'coughin': 2, 'housem': 1, 'tenou': 2, 'efus': 2, 'bloodwork': 2, 'drinkinhg': 1, 'noncontrast': 26, 'svo': 30, 'quadrent': 9, 'former': 26, 'halfway': 6, 'malais': 29, 'clock': 21, 'tele': 78, 'proce': 6, 'aunt': 11, 'tachcardia': 3, 'incresa': 9, 'ivanbx': 2, 'number': 88, 'tachi': 109, 'cardia': 11, 'monitot': 1, 'dirrhea': 3, 'feasibl': 13, 'arrborn': 1, 'setteld': 1, 'difus': 3, 'entre': 1, 'labe': 2, 'dinner': 44, 'polysubst': 8, 'surround': 117, 'myo': 1, 'oedema': 2, 'xr': 9, 'intralumin': 43, 'tb': 35, 'fan': 9, 'suptum': 4, 'salesman': 2, 'culter': 4, 'thereor': 2, 'clavian': 1, 'inact': 4, 'invers': 48, 'pleurit': 50, 'opert': 1, 'obliqu': 44, 'sweat': 31, 'blastic': 40, 'airborn': 13, 'prouctiav': 1, 'sober': 4, 'eosinophil': 23, 'offic': 36, 'pseudo': 8, 'real': 21, 'cryptogen': 7, 'perfus': 108, 'asbesto': 18, 'osteolyt': 10, 'rightward': 32, 'anomali': 3, 'plastic': 16, 'ablat': 14, 'cardiomedistin': 2, 'plaqu': 50, 'aprox': 4, 'biliari': 93, 'celiac': 16, 'widen': 54, 'vesicl': 16, 'partli': 23, 'radiofrequ': 2, 'wrote': 12, 'knew': 18, 'calciif': 1, 'plueral': 7, 'nss': 10, 'rfa': 2, 'portal': 69, 'phasether': 1, 'stent': 77, 'amiben': 1, 'pancreatit': 6, 'emphysema': 117, 'emphysemat': 25, 'hypersensit': 15, 'accentu': 13, 'hunger': 10, 'chill': 93, 'pseudocyst': 4, 'yeaterday': 4, 'atenolol': 23, 'wonder': 9, 'multiphas': 4, 'bulla': 9, 'attenutaion': 1, 'exposur': 45, 'priior': 1, 'ductal': 46, 'puffer': 1, 'hcc': 4, 'paratrach': 55, 'evalut': 20, 'inspir': 53, 'mix': 77, 'smoothli': 3, 'flexi': 16, 'dome': 12, 'pouch': 7, 'nodular': 89, 'anem': 6, 'threat': 6, 'predomin': 48, 'centrilobular': 30, 'sizabl': 10, 'commut': 1, 'jelli': 13, 'psych': 70, 'hila': 32, 'lingula': 51, 'iwht': 1, 'mandarin': 4, 'sphincter': 10, 'acit': 6, 'dispos': 3, 'nuse': 1, 'ne': 16, 'indwel': 83, 'gradual': 81, 'fluconazol': 22, 'azrithomycin': 1, 'stripe': 3, 'azythromycin': 8, 'montior': 12, 'dark': 88, 'ambison': 2, 'door': 8, 'mvmt': 7, 'refriger': 3, 'ile': 1, 'beter': 2, 'bedbath': 7, 'ppp': 44, 'cardaic': 9, 'ealier': 2, 'tue': 103, 'cryptococc': 7, 'amb': 30, 'ampho': 1, 'dat': 5, 'bsc': 6, 'antigen': 69, 'asap': 25, 'aortopulmonari': 5, 'beeper': 13, 'inhomogen': 2, 'maew': 14, 'toe': 64, 'atb': 7, 'induct': 11, 'difficutli': 8, 'flucytosin': 1, 'thhat': 1, 'standpoint': 29, 'undergon': 14, 'cross': 39, 'tail': 21, 'strain': 28, 'joke': 5, 'nutrient': 1, 'bronchiolectasi': 2, 'asymp': 1, 'treament': 3, 'ild': 15, 'trap': 26, 'spokesperson': 35, 'evolv': 48, 'rib': 92, 'interlobular': 12, 'intralobular': 5, 'medrol': 12, 'alveol': 3, 'bt': 16, 'mx': 5, 'station': 27, 'girlfriend': 9, 'calif': 1, 'aao': 19, 'intrahepat': 39, 'bronchiectasi': 45, 'select': 26, 'dedic': 30, 'hdsa': 3, 'reas': 1, 'seri': 74, 'chew': 16, 'hypoxem': 63, 'monit': 11, 'osmo': 2, 'serax': 2, 'prone': 20, 'resect': 60, 'nonrebreath': 6, 'solu': 10, 'wth': 10, 'sighn': 1, 'decreaz': 1, 'traction': 12, 'meal': 67, 'bronchu': 48, 'bigemini': 18, 'biopsi': 61, 'leni': 44, 'vat': 37, 'calculi': 22, 'thorax': 53, \"pvc'\": 2, 'sarcoidosi': 8, 'softner': 4, 'sed': 47, 'onm': 1, 'conjunct': 77, 'promari': 1, 'nomogram': 2, 'conves': 1, 'bigm': 1, 'textur': 18, 'therapaut': 1, 'adeq': 31, 'eccentr': 18, 'pst': 2, 'solomn': 1, 'statg': 1, 'unwind': 1, 'hypoglycem': 14, 'bolou': 4, 'hygroma': 2, 'oze': 1, 'edg': 53, 'derang': 2, 'scratch': 11, 'occasionali': 7, 'tronchant': 1, 'bifront': 5, 'rhytham': 3, 'hardwar': 28, 'edt': 2, 'puntur': 1, 'fainf': 1, 'jet': 17, 'mush': 3, 'sarna': 18, 'neutropho': 8, 'braeth': 2, 'napho': 1, 'wcn': 1, 'rewrit': 1, 'trnasfus': 1, 'somul': 19, 'fore': 2, 'dement': 5, 'barier': 1, 'thalamu': 3, 'lacunar': 20, 'debried': 2, 'trochant': 5, 'ccheck': 1, 'inflow': 40, 'ssc': 4, 'debrid': 14, 'print': 11, 'mul': 7, 'homeopath': 2, 'upbeat': 2, 'comfortabl': 1, 'powed': 1, 'syrup': 7, 'atropin': 14, 'play': 21, 'recev': 4, 'clonazapam': 3, 'mlc': 4, 'bend': 10, 'hundr': 6, 'belt': 9, 'pant': 4, 'holist': 2, 'vigir': 1, 'stretcher': 32, 'save': 9, 'preprocedur': 35, 'podu': 8, 'litr': 15, 'attemtpt': 2, 'nervous': 1, 'amiod': 2, 'sundrom': 1, 'contini': 3, 'episd': 1, 'redn': 2, 'frewq': 1, 'steriod': 27, 'flip': 14, 'diureiss': 1, 'break': 43, 'disten': 8, 'ativa': 1, 'retap': 29, 'adventiti': 2, 'lopresor': 8, 'btwn': 6, 'pone': 2, 'nka': 4, 'hyperthyroid': 4, 'epidod': 1, 'perineum': 29, 'revert': 11, 'wht': 4, 'spasmod': 1, 'maex': 6, 'updatedon': 1, 'pacemek': 1, 'tighten': 22, 'resportedli': 3, 'periipher': 1, 'doctor': 25, 'pivot': 41, 'disted': 1, \"am't\": 3, 'sacrum': 45, 'postion': 16, 'lightheaded': 25, 'gestur': 33, 'reang': 1, 'properli': 26, 'abit': 6, 'methimazol': 3, 'music': 5, 'clonazipam': 1, \"'rest\": 1, 'fliud': 5, 'facilit': 54, 'comapzin': 1, 'brachi': 1, 'eith': 3, 'codein': 31, 'ultim': 33, 'eldest': 2, 'baslin': 8, 'revertedcardiolog': 1, 'acess': 6, 'gtube': 17, 'gt': 33, 'lrg': 12, 'pulmojnari': 1, 'rhonchoru': 14, 'heplock': 18, 'thicker': 10, 'longest': 2, 'ordere': 3, 'duflucan': 1, 'zip': 2, 'activi': 1, 'rr^': 2, 'sb': 107, 'rednessskin': 1, 'regurg': 10, 'occaa': 1, 'althoug': 1, 'nsb': 8, 'altepas': 2, 'uninvolv': 2, 'yel': 18, \"'tire\": 1, 'ccn': 6, 'breakdownn': 1, 'forehead': 7, 'asynchronu': 1, 'sxned': 21, 'betweeen': 1, 'cleanser': 21, 'inj': 6, 'prednison': 108, 'complementari': 1, 'rsp': 11, 'reticular': 17, 'bldi': 11, 'dicis': 1, 'planninng': 1, 'bsx': 21, 'doppl': 2, 'dizzi': 43, 'diflucan': 6, 'cefepin': 2, \"antibx'siv\": 1, 'admininst': 2, 'predinson': 2, 'naus': 3, 'coccxi': 3, 'breakdow': 1, 'instil': 32, 'ecchymosi': 20, 'thyroid': 108, 'recevi': 4, 'additon': 7, '^inr': 2, '^activ': 1, 'mildi': 20, 'norepinephrin': 23, 'ccq': 3, 'guafenisen': 1, 'bradi': 37, 'patenc': 32, 'weitht': 1, 'atril': 2, 'meditatin': 1, 'rtw': 1, 'miconizol': 6, 'xtra': 3, 'occass': 22, 'fleck': 5, 'serequel': 4, 'superf': 2, 'perirect': 10, 'accumul': 18, 'rhinoviru': 1, 'briskli': 20, 'suceed': 2, 'medium': 40, 'perian': 26, 'foam': 16, 'gluteal': 20, 'pat': 12, 'towel': 6, 'hypoxaemiaand': 1, 'incis': 54, 'nausou': 1, 'sacral': 42, 'intubat': 3, 'transfert': 1, 'decrea': 4, 'antianxieti': 9, 'amiodaron': 47, 'sn': 4, 'appro': 4, 'airb': 9, 'electolyt': 8, 'psupp': 8, 'extremit': 28, 'fpp': 1, 'amio': 23, 'flipp': 1, 'pnr': 2, 'xanax': 12, 'montitor': 3, 'noutrit': 1, 'confluenc': 22, 'realiz': 11, 'alprazolam': 5, 'toilett': 4, 'codien': 3, 'avvess': 1, 'vasopressin': 17, 'grossili': 1, 'sxd': 14, 'cefapim': 14, 'cefipim': 74, 'hyperoxemia': 3, 'moderat': 1, 'rvr': 52, 'wateri': 21, 'thumb': 8, 'protex': 1, 'bcome': 1, 'passymuir': 1, 'stert': 1, 'ffp': 28, 'viust': 1, 'hemoglobin': 9, 'pafib': 3, 'warafin': 1, 'choley': 3, 'btca': 4, 'rlq': 11, 'nonpit': 1, 'aris': 18, 'maxa': 8, 'bph': 29, 'phenobarbit': 3, 'tartrat': 29, 'supratherapeut': 25, 'dronedaron': 1, 'readmit': 35, 'sem': 22, 'hap': 93, 'flomax': 7, 'spars': 25, 'lipid': 15, 'bar': 6, 'glutam': 1, 'mere': 9, 'plof': 7, 'cholecystosomi': 1, 'beneprotein': 28, 'cue': 41, 'groom': 2, 'heb': 6, 'telemetri': 56, 'confid': 6, 'ug': 2, 'resuspend': 1, 'hotn': 13, 'endur': 30, 'pictur': 57, 'intensivist': 3, 'yetserday': 1, 'elect': 27, 'abbrevi': 4, 'hypercalcemia': 10, 'sqt': 1, 'hypovolemia': 51, 'redo': 10, 'preced': 43, 'entranc': 5, 'seiz': 4, 'alkolosi': 6, 'pulll': 1, 'femor': 131, 'absorb': 9, 'inaccur': 5, 'simpli': 17, 'cholesterol': 12, 'trachemask': 1, 'protract': 4, 'yom': 31, 'dronederon': 1, 'suspens': 13, 'mmp': 10, 'hyperthryoid': 1, 'dyspneic': 46, 'tunnel': 48, 'household': 2, 'tub': 6, 'eob': 23, 'famotidin': 58, 'granular': 4, 'vc': 7, 'unnecessari': 6, 'cabgx': 3, 'clearanc': 58, 'platelet': 27, 'doesnt': 5, 'dyslipidemia': 15, 'compart': 12, 'appt': 10, 'graft': 24, 'bromid': 33, 'vd': 13, 'heat': 20, 'performac': 12, 'implant': 9, 'vdvt': 1, 'wfl': 40, 'foami': 2, 'ipratropium': 74, 'reb': 5, 'phlebiti': 3, 'cholangiogram': 1, 'motiv': 9, 'monosodium': 1, 'sustain': 42, 'violent': 3, 'convuls': 4, 'sens': 34, 'appoint': 30, 'palcement': 7, 'risen': 3, 'afterward': 26, 'shif': 1, 'dead': 12, 'epilept': 2, 'urea': 3, 'ncm': 18, 'cholecystostomi': 2, 'strenth': 2, 'vm': 11, 'hypoperfus': 16, 'flank': 40, 'phenytoin': 9, 'granual': 1, 'commens': 9, 'intermit': 30, 'tacheostomi': 2, 'rins': 14, 'retri': 9, 'exud': 22, 'dye': 29, 'load': 65, 'moda': 13, 'antibioit': 1, 'levetiracetam': 8, 'hair': 5, 'redos': 12, 'bsn': 20, 'cast': 13, 'environment': 1, 'spin': 8, 'noninvas': 13, 'kepra': 1, 'pharmaci': 42, 'greatli': 37, 'warfarin': 35, 'drew': 3, 'sure': 50, 'near': 151, 'ukn': 1, 'urojet': 3, 'ttp': 20, 'serratia': 2, 'triglycerid': 9, 'endovascular': 2, 'lob': 15, 'ctx': 66, 'surgeon': 12, 'subtherapeut': 23, 'achhiev': 1, 'squat': 5, 'pth': 4, 'maxim': 37, 'cholecystectomi': 39, 'diverticulosi': 33, 'worst': 22, 'anymor': 14, 'enalapril': 9, 'adaptec': 2, 'oett': 27, 'ni': 6, 'hydralizin': 18, 'unsucces': 4, 'asystol': 2, 'okay': 60, 'semiform': 5, 'struggl': 7, 'mural': 13, 'vasotec': 7, 'dobhuff': 1, 'neutrophil': 10, 'writen': 1, 'sugic': 1, 'hypothermia': 19, 'harsh': 13, 'othwis': 1, 'bsbl': 1, 'methylprednison': 11, 'discoid': 8, 'nightgown': 2, 'angri': 25, 'aeros': 2, 'arrest': 23, 'proccess': 1, 'nevertheless': 12, 'attack': 20, 'oncologist': 18, 'advantag': 2, 'armstorng': 1, 'flexibl': 5, 'oncolog': 34, 'diminis': 1, 'xrt': 41, 'empti': 27, 'thrash': 17, 'lap': 19, 'departur': 3, 'importantli': 4, 'ncp': 1, 'imv': 13, 'paranoid': 10, 'smoker': 69, 'delusioni': 1, 'chemo': 44, 'propfol': 7, 'radiat': 80, 'tachyapen': 1, 'gs': 21, 'wrestl': 1, 'pcw': 2, 'kn': 1, 'terribl': 4, 'beggin': 1, 'drowsi': 14, 'bandaid': 9, 'tumor': 44, 'decsion': 3, 'neoplast': 14, 'hallucinatori': 2, 'misc': 5, 'suddenli': 12, 'taht': 2, 'fom': 4, 'shred': 1, 'releiv': 4, 'vaccum': 1, 'conitinu': 2, 'sorri': 4, 'henc': 8, 'moistur': 14, 'desprat': 1, 'metastat': 65, 'mo': 27, 'oxicontin': 1, 'ridgid': 2, 'crepitu': 27, 'lla': 8, 'harm': 8, 'kill': 8, 'remiss': 6, 'proof': 1, 'midday': 3, 'west': 20, 'stint': 1, 'nobodi': 2, 'waist': 12, 'crew': 2, 'peermenat': 1, 'paralyt': 10, 'design': 36, 'permen': 2, 'setup': 7, 'paperwork': 34, 'abat': 5, 'multilpl': 1, 'bronchoscop': 10, 'dictat': 70, 'reccur': 3, 'currentlli': 1, 'reprot': 2, 'subclav': 3, 'divorc': 6, \"'m\": 25, 'leather': 3, 'unsucess': 2, 'maintenc': 2, 'restarin': 1, 'medistin': 5, 'thoracostomi': 8, 'notibl': 1, 'orali': 1, 'hallucin': 33, 'clapm': 1, 'indian': 3, 'cordi': 10, 'build': 17, 'escap': 5, 'propof': 2, 'thoughtout': 2, 'presep': 18, 'perecnt': 1, 'uncoil': 2, 'hcv': 23, 'azitromycin': 2, 'consit': 5, 'brieflli': 1, 'ivda': 4, 'dryer': 2, 'segment': 205, 'plum': 1, 'addict': 21, 'fhpa': 7, 'floey': 1, 'neuropathi': 36, 'tirat': 3, 'mgx': 4, 'pseudonoma': 1, 'closet': 2, 'acinetobact': 3, 'immidiatli': 1, 'vicodan': 1, 'respiraotri': 3, 'communc': 2, 'receipt': 2, 'morbid': 15, 'bsf': 2, 'marker': 31, 'catch': 7, 'bariair': 3, 'bigboy': 1, 'aroussbl': 1, 'adendun': 1, 'amx': 3, 'clonopin': 6, 'draing': 12, 'tran': 16, 'serosang': 31, 'shilli': 1, 'colostomi': 17, 'avg': 9, 'clonipin': 5, 'omeprazol': 43, 'ratio': 24, 'png': 6, \"dri'\": 1, 'damag': 14, 'pda': 26, 'mag': 82, 'meropenim': 4, 'chlorhexadin': 2, 'equival': 14, 'unstag': 8, 'act': 60, 'nursig': 1, 'jxxb': 6, 'metoclopramid': 15, 'sion': 1, 'crowd': 15, 'vigil': 4, 'rhoncor': 12, 'syring': 11, 'protector': 2, 'tricep': 3, 'fulll': 1, 'malposit': 24, 'sclera': 115, 'coaurs': 1, 'insid': 13, 'perday': 1, 'anterospt': 1, 'resrart': 1, 'multidrug': 2, 'anicter': 69, 'hyperantremia': 1, 'profus': 14, 'multivitamin': 59, 'tobacco': 77, 'arhb': 9, 'blockad': 15, 'courc': 1, 'ppd': 30, 'decel': 4, 'angina': 13, 'isquit': 1, 'alkp': 1, 'hyperglycemia': 82, 'argu': 18, 'anterolater': 39, 'juven': 1, 'ascorb': 4, 'mdr': 8, 'ipratrop': 2, 'mvi': 38, 'aa': 21, 'dif': 8, 'misplac': 5, 'reciproc': 3, 'avf': 27, 'nonstag': 1, 'rca': 9, 'cytolog': 26, 'ezmolol': 1, 'eschar': 8, 'hemorrhoid': 9, 'lad': 83, 'somonl': 3, 'yesterd': 1, 'blacken': 5, 'rarr': 1, 'curent': 4, 'illicit': 10, 'hemiparesi': 29, 'cardic': 1, 'siadh': 26, 'ture': 5, 'odor': 14, 'account': 43, 'pottassium': 1, 'flexis': 31, 'mulitivitamin': 1, 'vessl': 2, 'perpher': 18, 'pneumoperitoneum': 19, 'synthryoid': 1, 'ts': 41, 'porcin': 5, 'alleyvn': 1, 'linazolid': 3, 'diaphoresi': 41, 'cerebrovascular': 11, 'bilar': 2, 'uncommun': 3, 'hemipharesi': 1, 'housestaff': 30, 'grayscal': 79, 'mca': 17, 'peritoneum': 4, 'faster': 55, 'unk': 1, 'alcohol': 96, 'invalid': 5, 'nitrit': 6, 'pxdb': 7, 'hrt': 21, 'ggt': 9, 'neuto': 1, 'unerli': 1, 'formula': 30, 'elderli': 34, 'pack': 74, 'patellar': 3, 'hear': 67, 'grimaci': 1, 'prioriti': 7, 'std': 5, 'suprahilar': 10, 'improp': 1, 'jksd': 18, 'sbo': 27, 'def': 7, 'sight': 8, 'lcx': 9, 'qidach': 2, 'causal': 2, 'bicarbon': 13, 'roscommon': 1, 'groan': 12, 'outsid': 75, 'buttack': 1, 'muc': 1, 'unstabl': 30, 'clonidin': 14, 'nephrotox': 9, 'spfc': 15, 'drench': 1, 'dhf': 3, 'algorithm': 7, 'millimet': 2, 'capactiy': 1, 'cortisol': 27, 'clostridium': 20, 'htpn': 1, 'reassuringli': 1, 'broadli': 23, 'qhr': 8, 'augment': 97, 'levof': 3, 'agua': 1, 'nickel': 3, 'hypoaldosteron': 2, 'worthwhil': 1, 'toson': 1, 'sttw': 2, 'miner': 47, 'ftt': 5, 'sundown': 15, 'disrrhea': 1, 'rhoncer': 7, 'medntal': 1, 'defici': 38, 'caliciu': 1, 'chemistri': 51, 'lit': 34, 'besid': 11, 'notat': 3, \"'out\": 1, 'twi': 18, 'suppl': 81, 'bblocker': 6, 'tw': 7, 'pulmocar': 1, 'dashboard': 7, 'retir': 29, 'acccess': 2, 'ste': 6, 'rsrc': 14, 'pk': 9, 'catheter': 18, 'brbpr': 10, 'rigor': 26, 'hadsbp': 1, 'difficil': 31, \"uti'\": 1, 'presur': 2, 'hf': 19, 'normocyt': 10, 'fetl': 1, 'option': 51, 'upslop': 1, \"ce'\": 3, 'hyperreson': 44, 'merepenum': 8, 'freeli': 43, 'beta': 99, '^rd': 13, 'anteriolater': 1, 'resposit': 7, 'hyperosmolar': 1, 'jtube': 7, 'italian': 4, 'inhibitor': 30, 'palc': 8, 'restrict': 89, 'hsq': 14, 'solut': 24, 'sun': 60, 'gluc': 9, 'neutra': 9, 'atter': 1, 'tablet': 26, 'gr': 32, 'repo': 17, 'exch': 18, 'metop': 8, 'bound': 17, 'allevyn': 21, 'valid': 13, 'azygo': 14, 'haloperidol': 25, 'intev': 3, 'dng': 16, 'panel': 49, 'meticul': 5, 'rather': 82, 'vsd': 39, 'bind': 1, 'ferritin': 14, 'healthcar': 40, 'epi': 25, 'honk': 1, 'pud': 46, 'guardian': 14, 'legal': 36, 'cathey': 1, 'maiten': 2, 'repet': 7, 'tetracyclin': 12, 'reclin': 13, 'attorney': 8, 'fed': 22, 'centavit': 1, 'migrain': 10, 'pseudomana': 1, 'mbue': 8, 'consecut': 14, 'recordslosartan': 1, 'bra': 2, 'itch': 21, 'gastrointestin': 109, 'bathroom': 16, 'fluticason': 25, 'furosemi': 1, 'arthroplasti': 9, 'ouput': 13, 'abdomihn': 1, 'tenac': 2, 'paf': 19, 'pneumothorac': 31, 'streak': 35, 'silent': 34, 'dchf': 10, 'thatn': 1, 'purs': 9, 'overt': 81, 'llq': 10, 'longstand': 31, 'seven': 23, 'onlin': 13, 'si': 17, 'instanc': 6, \"legionella'\": 1, 'cramp': 18, 'acquisit': 27, 'klor': 1, 'coli': 20, 'bronchogram': 64, 'bloat': 4, 'suppositori': 25, 'obstip': 8, 'disempact': 3, 'palpit': 78, 'angioneurot': 1, 'precordium': 17, 'everytim': 2, 'overdistend': 2, 'divis': 43, 'mssa': 21, 'discern': 12, 'loratadin': 5, 'golyt': 3, 'abund': 10, 'spiriva': 20, 'sock': 5, 'pullmonari': 2, 'consolod': 2, 'angioedema': 8, 'fev': 9, 'advair': 35, 'uteru': 27, 'arthriti': 30, 'numb': 53, 'osteo': 10, 'soband': 1, 'neurot': 1, 'milk': 17, 'prod': 66, 'sma': 10, 'polyethylen': 12, 'jekh': 11, 'atorvastatin': 24, 'glycol': 11, 'churg': 3, 'gabapentin': 29, 'osteoarthr': 22, 'subcentimet': 30, 'bronchiti': 34, 'impact': 40, 'repons': 2, 'calcarb': 1, 'losartan': 9, 'ultram': 15, 'myalgia': 62, 'manual': 33, \"md'\": 3, 'miralax': 16, 'disimpact': 13, 'fibroid': 7, 'tramadol': 11, 'presepsi': 2, 'sticki': 7, 'retent': 51, 'flew': 1, 'senakot': 1, 'benzonat': 6, 'noncontributori': 3, 'modestli': 4, 'hypoalbuminemia': 2, 'tha': 6, 'homemak': 4, 'catscan': 3, 'version': 44, 'sud': 6, 'iin': 4, 'annulu': 23, 'emisi': 2, 'evlauat': 1, 'spoken': 41, 'mici': 1, 'yankaeur': 5, 'apperci': 1, 'evenu': 1, 'inflitr': 3, 'ade': 2, 'aforement': 11, 'zithromax': 10, 'unbal': 1, 'recommenc': 3, 'clairfi': 1, 'yield': 24, 'suciton': 7, 'anf': 4, 'town': 5, 'od': 7, 'aphas': 10, 'glucerna': 2, 'flouroscopi': 3, 'ru': 2, 'boop': 9, 'pnemonia': 17, 'carcinomatosi': 5, 'absenc': 75, 'radiologistclip': 1, 'oropharynx': 59, 'deflect': 36, 'shth': 6, 'exact': 10, 'epiglott': 35, 'correspond': 63, 'ultrasonographi': 5, 'vicryl': 8, 'ultrasonograph': 15, 'tunnedl': 1, 'centesi': 7, 'lost': 33, 'int': 22, 'nonlas': 5, 'perti': 1, 'collim': 29, 'intestin': 27, 'spillag': 4, 'passag': 12, 'biapic': 16, 'lymphanget': 2, 'conist': 2, 'cricopharyng': 3, 'neoplasm': 39, 'vascul': 14, 'broncoscopi': 5, 'outpouch': 1, 'para': 18, 'atelectas': 17, 'incl': 29, 'oscult': 1, 'aggrav': 2, 'dont': 2, 'oval': 24, 'asperigillosi': 1, 'echotextur': 28, 'cbd': 21, 'hypoattenu': 18, 'phase': 113, 'transamin': 26, 'peribronchiolar': 9, 'ake': 1, 'sebac': 4, 'bibas': 24, 'vori': 1, 'duplex': 30, 'serviceclip': 4, 'display': 60, 'dopp': 9, 'pel': 15, 'nonenhanc': 2, 'vault': 4, 'aaox': 33, 'anyon': 10, 'niv': 28, 'pancrat': 1, 'sibl': 9, 'aspergillosi': 3, 'torso': 96, 'ciwa': 22, 'exclus': 13, 'diverticulum': 10, 'tie': 13, 'addtion': 4, 'dep': 7, 'elong': 47, 'nifm': 1, 'intol': 2, 'soften': 9, 'prosthet': 14, 'pati': 1, 'shown': 36, 'cntl': 3, 'entero': 1, 'outout': 3, 'pylori': 11, 'dysphoria': 1, 'sxning': 18, 'trachesotomi': 1, 'eqaul': 1, 'tu': 9, 'overlay': 4, 'chnage': 5, 'loccul': 1, 'siderail': 13, 'neccessari': 4, 'bulg': 11, 'bloodting': 7, 'mycostatin': 16, 'book': 17, 'coninu': 6, 'sxt': 4, 'antibioitc': 2, 'presseur': 1, 'strategi': 13, 'fc': 7, 'diffult': 1, 'previosu': 1, 'musc': 1, 'tyleno': 3, 'midnght': 1, 'rust': 8, 'ancef': 1, 'greek': 3, 'bang': 9, 'bedrail': 6, 'rsd': 1, 'thorcentesi': 1, 'abt': 5, 'mayb': 34, 'subpulmon': 7, 'oet': 3, 'pharyngoesophag': 1, 'assit': 10, 'tack': 3, 'bx': 31, 'reliabl': 18, 'prospect': 2, 'brkd': 1, 'epigast': 1, 'tudi': 1, 'scare': 12, 'pomot': 1, 'preclud': 15, 'peopl': 33, 'charg': 6, 'spon': 18, 'duiresi': 4, 'ventilatio': 1, 'ther': 8, 'apneia': 1, 'sanguin': 10, 'placem': 10, 'sideport': 9, 'medcial': 1, 'antibiod': 8, 'eccyhmot': 1, 'pnaumonia': 1, 'backflow': 2, 'sheddi': 1, 'deem': 17, 'agrre': 1, 'aroung': 3, 'patint': 2, \"'ing\": 6, 'epigastr': 21, 'zenker': 3, 'adeqaut': 7, 'nonobstruct': 9, 'neurontin': 39, 'grave': 6, 'xalatan': 2, 'uncomprehens': 2, 'cirrhot': 6, 'huge': 13, 'olni': 1, 'asid': 22, 'durages': 5, 'nystagmoid': 1, 'overse': 1, 'nodal': 18, 'hyperechogen': 2, 'nonbreath': 1, 'hepatoma': 1, 'fentanlyl': 1, 'neutro': 4, 'nephrectomi': 12, 'collater': 15, 'varic': 14, 'phosphatas': 8, 'esphog': 1, 'cholelithiasi': 36, 'thrombosi': 91, 'rythmic': 1, 'aortocav': 4, 'elicit': 13, 'pancytopenia': 9, 'tambocor': 1, 'nsst': 2, 'aneursym': 4, 'meningismu': 4, 'collapps': 1, 'unexplain': 8, 'metronidazol': 54, 'inclin': 5, 'falgyl': 2, 'esophag': 75, 'qpm': 9, 'tkcb': 4, 'pancol': 3, 'levoflaxacin': 2, 'flecanid': 2, 'steadili': 13, 'foramen': 18, 'megacolon': 12, 'nwh': 5, 'empyema': 64, 'seriou': 5, 'older': 12, 'intracardiac': 17, 'pfo': 19, 'transcort': 1, 'pneumatosi': 16, 'gmdb': 3, 'mood': 15, 'decomp': 2, 'contributori': 21, 'shadow': 53, 'orific': 5, 'habitu': 52, 'stigmata': 3, 'enterobact': 7, 'grown': 18, 'celexa': 25, 'sbna': 9, 'accordion': 1, 'valvular': 73, 'skincar': 4, 'dyspahgia': 2, 'extrahepat': 15, 'rheumat': 6, 'blossom': 4, 'heavi': 43, 'splenoren': 2, 'pseudomembran': 2, 'bubbl': 24, 'ica': 23, 'necessarili': 8, 'flecanaid': 1, 'flecainid': 2, 'pmi': 84, 'vac': 8, 'abomin': 1, 'baricat': 6, 'dilaudid': 42, 'eagg': 9, 'chgc': 4, 'frontotempor': 2, 'pernici': 4, 'craniotomi': 7, 'architectur': 9, 'honeycomb': 10, 'questran': 1, 'sac': 10, 'ileu': 42, 'subcarin': 48, 'splenomegali': 26, 'depakot': 13, 'withnew': 1, 'qam': 18, 'lowish': 2, 'hypoxi': 1, 'anur': 17, 'pepcid': 46, 'unsur': 40, 'flovastin': 1, 'narrow': 111, 'hyperinfl': 31, 'pterion': 2, 'recordspneumovax': 1, 'pneumovax': 3, 'ampl': 11, 'throughput': 1, 'bf': 3, 'bilou': 5, 'peptomen': 3, \"trach'\": 2, 'endoscop': 6, 'rem': 1, 'peq': 1, 'haldolx': 1, 'recultur': 37, 'barocat': 3, 'peptimen': 2, 'acyclovir': 21, 'wob^': 1, 'meperidin': 7, 'repiratori': 5, 'liw': 1, 'linisod': 1, 'yankauer': 28, 'airwari': 1, 'llightli': 1, 'behind': 14, 'hydral': 17, 'teh': 7, 'anaplast': 2, 'darken': 1, 'armpit': 9, 'spillov': 23, 'method': 14, 'leakag': 24, 'oz': 4, 'shook': 7, 'articul': 13, 'anesthesi': 1, 'particiapt': 1, 'pleura': 31, 'grip': 15, 'transger': 1, 'thoughout': 17, 'flexur': 10, 'lwi': 1, 'unilater': 9, 'gelatan': 1, 'multipurpos': 1, 'mandibl': 15, 'bilex': 1, 'coomand': 1, 'lge': 27, 'averag': 51, 'paper': 32, 'teari': 10, 'darker': 4, 'crea': 10, 'liezolid': 1, 'valuewith': 1, 'benzo': 46, 'diuesi': 1, 'llift': 1, 'transaort': 7, 'throghout': 1, 'clam': 3, 'slough': 6, 'honey': 15, 'dueoderm': 4, 'mimin': 2, 'pipicilln': 1, 'amyla': 1, 'hallway': 5, 'palap': 2, 'ducolax': 10, 'riski': 3, 'ou': 6, 'intermitantli': 2, 'stau': 8, 'hemi': 5, 'peptamin': 1, 'ativanx': 1, 'ocassion': 5, 'gastrograffin': 4, 'antegrad': 16, 'tachpneic': 8, 'uac': 3, 'com': 4, 'airmattress': 4, 'distensio': 1, 'speck': 5, 'groov': 2, 'baracat': 2, 'cooler': 2, 'lcl': 1, 'imepenem': 2, 'vhp': 3, 'catnap': 1, 'edno': 2, 'mycoplasma': 6, 'pocket': 24, 'ivx': 7, 'tonit': 12, 'appropti': 1, 'agiat': 6, 'brb': 13, 'attemt': 5, 'kegal': 1, 'quadrupl': 2, 'insuffici': 84, 'viscer': 9, 'carvu': 15, 'improvemnt': 2, 'dima': 1, 'tachypen': 13, 'aknowledg': 1, 'popscicl': 1, 'subcm': 2, 'phenegin': 1, 'anatom': 16, 'intrathorac': 18, 'spirt': 1, 'lisinepril': 1, 'muer': 2, 'demerol': 10, 'fxd': 3, 'spirit': 26, 'exu': 1, 'visul': 1, 'bout': 15, 'peripancreat': 3, 'egg': 9, 'nodd': 4, 'anticoagualt': 1, 'maxillofaci': 11, 'cooprer': 1, 'antiboticx': 1, 'dtv': 9, 'fluroscop': 2, 'fluorscop': 1, 'bulb': 12, 'tart': 2, 'ureteru': 1, 'extralumin': 7, 'anesthet': 26, 'coffe': 23, 'taught': 10, 'patien': 4, 'regiular': 1, 'tommorow': 9, 'lanti': 6, 'awi': 3, 'nutrtion': 3, 'intremitt': 1, 'midazolam': 75, 'integrt': 1, 'imipenum': 3, 'gastrostomi': 35, 'transvers': 41, 'thur': 9, 'htx': 1, 'fuction': 3, 'bgm': 1, 'rebolus': 3, 'imipemium': 1, 'podiatri': 6, 'fifteen': 2, 'cmpeep': 1, 'spiral': 2, 'zestril': 3, 'crate': 1, 'tyenol': 6, 'fatiqu': 3, 'acidot': 14, 'rhonch': 3, 'drgreena': 1, 'flucuat': 3, 'tachycardiac': 5, 'panic': 14, 'appropi': 19, 'transluc': 1, 'cam': 3, 'drng': 31, 'deescal': 1, 'truncat': 2, 'wont': 2, 'frquesnt': 1, 'lenti': 1, 'grimmac': 6, 'bronchi': 54, 'dem': 1, 'imipenem': 7, 'expens': 3, 'purri': 1, 'unclamp': 3, 'ostiomeat': 5, 'gravitli': 1, 'straw': 62, 'oxygent': 7, 'eripher': 1, 'gastrographin': 2, 'tracheobronchi': 20, 'pupos': 3, 'accid': 8, 'sputm': 3, 'silk': 14, 'coud': 7, 'pneumat': 10, \"decr'\": 1, 'eros': 17, 'stoolx': 5, 'diaphor': 1, 'extermit': 3, 'pneunomia': 2, 'bmthi': 1, 'chekc': 2, 'withdrawl': 20, 'sharpli': 17, 'oil': 11, 'affirmativley': 1, 'diabetc': 1, 'actviti': 3, 'heavili': 19, 'larynx': 8, 'startl': 6, 'catheth': 2, 'methylen': 3, 'mc': 14, 'infil': 4, 'droperidol': 1, 'acalcul': 4, 'mequ': 1, 'palpapt': 1, 'tachypeniec': 2, 'fuo': 26, 'erract': 1, 'vallecula': 36, 'fro': 23, 'lavarg': 5, 'iatrogen': 7, 'junctur': 1, 'auditori': 6, 'suctioin': 1, 'empath': 2, 'perlla': 4, 'hypoplast': 3, 'pheresi': 1, 'mash': 4, 'blanket': 35, 'ltue': 1, 'weather': 5, 'maynot': 1, 'tacycardia': 3, 'homogen': 34, 'lenght': 3, 'prolin': 1, 'fallen': 9, 'arachnoid': 5, 'netrothick': 1, 'reddish': 2, 'flouro': 3, 'laboratori': 12, 'ugib': 8, 'indicaiton': 1, \"sx'ed\": 7, 'surfac': 39, 'throuhgout': 4, 'rle': 40, 'practic': 9, 'midlung': 8, 'sheift': 1, 'qlcl': 2, 'evsl': 1, 'court': 9, 'pasi': 2, 'billiou': 3, 'recan': 6, 'flagal': 2, 'cu': 16, 'maintainc': 3, 'domin': 9, 'flaygl': 5, 'orangish': 1, 'circumscrib': 12, 'kind': 9, 'humidifc': 2, 'acromioclavicular': 8, 'hypertroph': 5, 'pathologist': 19, 'swollow': 9, 'letherg': 1, 'givn': 9, 'indetermin': 106, 'hve': 1, 'lacutlos': 1, 'vertebra': 13, 'lac': 14, 'duires': 4, 'comforat': 2, 'collabor': 26, 'suffer': 19, 'uncommon': 3, 'thryoidectomi': 1, 'hymodynam': 1, 'irregualr': 1, 'tt': 12, 'diffculti': 2, 'steadi': 51, 'spc': 1, 'thyroidectomi': 9, 'primarili': 44, 'shaft': 10, 'sato': 9, 'retriev': 10, 'biilater': 1, 'dorsali': 34, 'bougi': 3, 'langu': 1, 'accesori': 3, 'shell': 1, 'likley': 15, 'pusl': 1, 'institut': 9, 'subcost': 14, 'pleasent': 2, 'cardizem': 12, 'breather': 9, 'gone': 34, 'implement': 17, 'protecton': 1, 'presenlti': 1, 'parastern': 13, \"'even\": 1, 'thrombi': 20, 'dinnertim': 2, 'chorda': 51, 'ccc': 61, 'svn': 17, 'pep': 3, 'npc': 13, 'hypercapn': 9, 'hypercarb': 44, 'recordsac': 1, 'americar': 1, 'hyperbar': 1, 'diovan': 6, 'rusb': 6, 'bronchodiltor': 1, 'grandchildren': 6, 'comm': 39, 'mghg': 1, 'callout': 9, 'spread': 24, 'loudest': 6, 'valsartin': 1, 'disabl': 15, 'hypoventil': 20, 'sella': 3, 'boy': 5, 'hypokalemia': 16, 'eject': 34, 'hypernatermia': 1, 'adn': 11, 'givenrsbi': 1, 'reorder': 11, 'asdir': 10, 'adat': 20, 'ddavp': 4, 'young': 14, 'fena': 30, 'mcv': 11, 'pyelonephr': 8, 'callbel': 4, 'appropriatli': 11, 'feurea': 10, 'atarax': 1, 'valsartan': 6, 'coverg': 3, 'hypopituitar': 1, 'panhypopituitar': 1, 'diiures': 1, 'oh': 10, 'overweight': 88, 'desmopressin': 2, 'girl': 5, 'microorgan': 27, 'usb': 3, 'dysuria': 70, 'mandat': 14, 'panhypopit': 1, 'decort': 23, 'basilac': 2, 'firmer': 2, 'epidur': 19, 'saftey': 4, 'anticub': 3, 'redict': 1, 'tarri': 6, 'drifit': 1, 'alph': 2, 'bilt': 2, 'readili': 12, 'tortuos': 24, 'comprehend': 6, 'bascil': 1, 'iorn': 1, 'malleol': 1, 'babi': 7, 'colloid': 4, 'hyotens': 3, 'hemispher': 18, 'strictli': 7, 'radiolabel': 1, 'nauseat': 5, 'lebil': 1, 'uci': 1, 'esophogram': 2, 'tracer': 9, 'immediatli': 2, 'scali': 2, 'cotinu': 4, 'reprons': 1, 'complainingof': 1, 'acceler': 11, 'inleg': 1, 'listen': 31, 'undetect': 6, 'bo': 18, 'aniticip': 1, 'autonim': 1, 'cerebro': 1, 'yankuer': 14, 'ingest': 16, 'ri': 8, 'sulfur': 1, 'compleat': 2, 'transcript': 10, 'whil': 1, 'dysmotil': 2, 'radiopharmeceut': 1, 'abraison': 1, 'periren': 4, 'lidoderm': 9, 'label': 13, 'gell': 2, 'autonom': 9, 'endoscopi': 20, 'repetit': 8, 'radlin': 10, 'daughet': 3, 'capabl': 7, 'camera': 2, 'severli': 6, 'inquiri': 12, 'nightmar': 1, 'unconclus': 1, 'parasagitt': 5, 'titir': 3, 'advis': 32, 'gamma': 3, 'fluctuant': 2, 'repeatedli': 25, 'contratur': 1, 'nephrolithiasi': 25, 'vacuo': 4, 'ej': 9, 'obx': 1, 'qflow': 1, 'porta': 9, 'ritalin': 7, 'atial': 1, 'qp': 1, 'fraction': 30, 'chrohn': 3, 'gadolin': 4, 'immunosuppress': 17, 'cmr': 1, 'myocardium': 7, 'arrhymia': 1, 'pneumocyst': 2, 'amplitud': 28, 'rvef': 1, 'anterosept': 55, 'spectral': 19, 'customari': 1, 'poplit': 71, 'obstrn': 1, 'epicardi': 6, 'horizont': 5, 'chux': 2, 'echodens': 7, 'ielostomi': 1, 'abut': 24, 'mtx': 2, 'breifli': 4, 'independantli': 4, 'quantit': 10, 'candi': 1, 'dynspnea': 1, 'similarli': 13, 'skelet': 9, 'apprx': 2, 'index': 28, 'hyperdynam': 66, 'crohn': 9, 'dimeglumin': 1, 'caspofugin': 1, 'ssfp': 1, 'dtpa': 5, 'appropraietli': 1, 'immunosupress': 6, 'axr': 3, 'bilobar': 1, 'methadon': 24, 'compl': 3, \"'chest\": 1, 'wheat': 2, 'cine': 2, 'phasic': 13, 'mltp': 1, 'gadopentet': 1, 'plane': 41, 'corvac': 2, 'worsn': 2, 'emboli': 34, 'pauciti': 10, 'asymmetri': 18, 'algorythm': 1, 'liquidi': 4, 'diaphragmat': 20, 'hyperreflex': 1, 'nslca': 1, 'concer': 2, 'pontin': 5, 'cord': 52, 'nsclca': 7, 'rhinorrhea': 19, 'duoneb': 7, 'thrombocytopenia': 29, 'jvd': 47, 'althrough': 1, 'achil': 3, 'slur': 17, 'paroxetin': 7, 'avascular': 6, 'hsm': 45, 'lid': 5, 'fatug': 1, 'nonsustain': 2, 'mmd': 1, 'upgo': 1, 'nscla': 1, 'catarac': 1, 'metastasi': 31, 'lobectomi': 23, 'amiodoron': 11, 'toung': 4, 'palat': 41, 'insult': 20, 'nonsmal': 6, 'droop': 20, 'nsclc': 27, 'fibrin': 4, 'dexamethason': 15, 'benzodiazepin': 13, 'bruit': 15, 'propanolol': 2, 'anixeti': 1, 'ome': 18, 'swish': 7, 'insight': 4, 'petellar': 1, 'rhabdo': 3, 'shave': 8, 'inflam': 9, 'csru': 10, 'retard': 8, 'essentailli': 1, 'secondard': 1, 'hypocalcemia': 6, 'pneumnia': 3, 'rhabdomyolysi': 3, 'unavail': 35, 'dysfxn': 4, 'anywher': 11, 'trunk': 34, 'tum': 8, 'upward': 26, 'malfunt': 1, 'interstici': 1, 'fatti': 29, 'asbestosi': 5, 'precep': 1, 'raw': 12, 'subpleur': 19, 'preoper': 5, 'inferiorli': 31, 'deminer': 20, 'reccommend': 3, 'volumetr': 13, 'adenoid': 3, 'eg': 17, 'tspine': 1, 'extext': 6, 'dental': 12, 'desa': 2, 'metastas': 27, 'colic': 4, 'gutter': 11, 'thoracu': 1, 'degener': 11, 'emobol': 1, 'nkg': 2, 'deoxygen': 1, 'interrupt': 11, 'penumonia': 8, 'parotid': 10, 'carcinoma': 47, 'subcorin': 1, 'polyp': 15, 'adnexa': 18, 'sho': 1, 'skeleton': 12, 'obsturct': 1, 'deal': 12, 'corin': 1, 'uptak': 12, 'amalgam': 2, 'feaml': 1, 'intervertebr': 9, 'fifti': 1, 'tenuou': 40, 'wellbutrim': 2, 'homecar': 3, 'fowel': 2, 'cessat': 9, 'antigbm': 1, 'alevi': 1, 'wrok': 1, 'triad': 1, 'cautious': 6, 'tib': 6, 'tofu': 1, 'cmo': 24, 'glute': 5, 'serolog': 22, 'preren': 34, 'relationship': 11, 'nutit': 2, 'coagul': 15, 'smell': 18, 'lollypop': 2, 'patul': 4, 'adamantli': 3, 'anxirti': 2, 'ipf': 18, 'participc': 1, 'cottonse': 1, 'mepilex': 16, 'baclofen': 11, 'synephrin': 2, 'ancillari': 2, 'brace': 9, 'rough': 3, 'upep': 2, 'spoon': 14, 'samter': 1, 'opiat': 21, 'readm': 3, 'emuls': 1, 'abrupt': 9, 'wc': 7, 'citrat': 11, 'consern': 1, 'reguard': 6, 'sampter': 1, 'starter': 2, 'viru': 16, 'breez': 1, 'solutab': 1, 'hallodol': 1, 'montelukast': 6, 'paraplegia': 11, 'fexofenadin': 6, 'tg': 6, 'iodin': 24, 'wasa': 2, 'halodol': 7, 'mexilitin': 1, 'glucan': 21, 'satt': 3, 'freak': 1, 'galactommanan': 1, 'wellbutrin': 4, 'neurogen': 6, 'lollipop': 1, 'crp': 8, 'pall': 4, 'mucuh': 1, 'radiiograph': 1, 'hive': 31, 'nf': 6, 'hum': 2, 'strike': 7, 'syndro': 2, 'parenter': 45, 'fenatyl': 2, 'amino': 3, 'recordsaspirin': 1, 'esr': 10, 'parapleg': 6, 'togeth': 16, 'coagulopathi': 57, 'anca': 11, 'klonopin': 17, 'ishial': 1, 'trust': 6, 'vacno': 4, 'addt': 1, 'prealbumin': 1, 'uroqid': 1, 'ppn': 6, 'gbm': 5, 'ondansetron': 11, 'theophyllin': 3, 'femur': 19, 'mexiletin': 3, 'spep': 3, 'refeed': 4, 'geripsych': 1, 'ige': 3, 'threw': 3, 'wheel': 8, 'medicat': 2, 'mucinex': 16, 'myeliti': 1, 'stasi': 19, 'zinc': 5, 'ischial': 3, 'bursiti': 2, 'pussi': 1, 'eosiniophilia': 1, 'panick': 2, 'apolog': 1, 'spri': 3, 'persu': 4, 'buccal': 23, 'pseudoephedrin': 1, 'naloxon': 1, 'sereou': 1, 'obssess': 1, 'premed': 6, 'share': 47, 'pulmonolog': 8, 'resent': 15, 'quiac': 7, 'pericar': 5, 'incorrect': 5, 'golf': 2, 'unti': 1, \"o'\": 4, 'cleasn': 2, 'electrolty': 1, 'willb': 2, 'god': 4, 'bacitracin': 10, 'duccolax': 1, 'pca': 21, 'dk': 13, 'multilfoc': 1, 'vec': 6, 'sedaton': 1, 'sync': 2, 'glut': 9, 'reiniti': 7, 'slilghtli': 1, 'cotn': 4, 'ovebreath': 1, 'wdw': 1, 'sse': 10, 'acv': 12, 'trail': 14, 'signif': 18, 'objecti': 1, 'pastey': 2, 'prupos': 1, 'distrss': 1, 'minist': 2, 'providencia': 2, 'gent': 12, 'cousin': 9, 'prom': 8, 'socail': 10, 'hh': 8, 'undetail': 1, 'smile': 23, 'yelllow': 5, 'pop': 8, 'ball': 6, 'speaker': 11, 'bridg': 25, 'possobl': 1, 'anim': 10, 'dobhoff': 39, 'ileotomi': 1, 'dophoff': 7, 'rssi': 11, 'mastic': 23, 'ds': 15, 'erupt': 4, 'integrum': 1, 'coat': 15, 'integu': 6, 'sero': 14, 'smal': 3, \"sx'ng\": 4, 'vallecular': 6, 'pyloro': 1, 'subtot': 9, 'oxygn': 3, 'iliostomi': 2, 'duoden': 18, 'nacl': 5, 'spill': 20, 'trnf': 2, 'colectomi': 19, 'vascularight': 1, 'priviou': 1, 'dh': 2, 'ileostomi': 9, 'drg': 10, 'scabi': 1, 'hemodynm': 6, 'sang': 22, 'coar': 6, 'ordredd': 1, 'stump': 10, 'secreathin': 1, 'filter': 39, 'applianc': 8, 'colour': 5, 'cline': 2, 'jump': 5, 'purlul': 2, 'splenectomi': 7, 'strg': 1, 'verapamil': 6, 'afterword': 1, 'ducos': 1, 'inabilti': 2, 'isoptin': 1, 'ssic': 4, 'liason': 3, 'counter': 1, 'freewat': 1, 'minitrach': 1, 'inculin': 1, 'ultrason': 2, 'hyperact': 17, 'singular': 1, 'perin': 22, 'verapim': 1, \"'ll\": 7, 'dyspnoic': 1, 'ek': 1, 'xperson': 1, 'mini': 19, 'acapella': 8, 'lispro': 3, 'recievi': 2, 'peptamen': 6, 'coved': 1, 'varapamil': 1, 'gastic': 1, 'rosolv': 1, 'acetlycystein': 1, 'bbb': 7, 'yanker': 4, 'abrais': 3, 'research': 1, 'ringer': 1, 'thristi': 2, 'temder': 1, 'cannuala': 1, 'facilti': 1, 'wnc': 1, 'asssess': 3, 'grandchild': 1, 'underway': 6, 'dyspnic': 10, 'glove': 2, 'abruptli': 4, 'covers': 1, 'spivira': 1, 'defict': 1, 'ident': 12, 'predormin': 1, 'rid': 3, 'hab': 2, 'cvf': 1, 'productv': 1, 'luck': 1, 'replenish': 9, 'tachypnec': 1, 'telfa': 4, 'harder': 7, 'centemet': 1, 'chged': 2, 'cto': 1, 'ada': 1, 'peditub': 5, 'custard': 23, 'brn': 5, 'flowbi': 3, 'cellulti': 1, 'celluluit': 1, 'doboff': 8, 'dombro': 1, 'macer': 3, 'isordil': 13, 'pegtub': 3, 'tracheostom': 1, 'nonrot': 1, 'reatless': 1, 'dobhof': 2, 'suspend': 4, 'domboro': 1, 'hyper': 15, 'peristalsi': 5, 'tired': 3, 'redder': 2, 'peramet': 1, 'reconfirm': 7, 'nj': 2, 'passimuir': 1, 'tonoct': 3, 'uncomfortt': 1, 'oxacillin': 11, 'ch': 10, 'pti': 2, 'crm': 2, 'sleeper': 3, 'hemodi': 7, 'developmemt': 1, 'sqeez': 2, 'appox': 2, 'quo': 2, 'folllow': 5, 'farther': 1, 'immobil': 15, 'piclin': 1, 'specialist': 7, 'frree': 1, 'suppport': 5, 'morbidli': 5, 'stabk': 1, 'tuck': 20, 'dced': 5, 'abrad': 2, 'nonpurpos': 6, 'humeru': 16, 'huo': 20, 'indur': 5, 'requri': 2, 'linin': 2, 'proph': 4, 'angiocath': 3, 'stabe': 4, 'slip': 9, 'calf': 65, 'dietari': 19, 'creas': 3, 'gase': 23, 'msra': 4, 'dept': 8, 'lowgrad': 4, 'dht': 6, 'unchg': 6, 'rubor': 2, 'suppot': 1, 'passemuir': 4, 'antecubit': 12, 'dombero': 1, 'precuat': 5, 'resepct': 1, 'neighbor': 5, 'freee': 1, 'settinf': 1, 'caas': 1, 'cked': 1, 'demon': 1, 'sta': 9, 'tare': 1, 'recx': 2, 'chees': 7, 'damp': 8, 'intro': 4, 'sete': 2, 'exceed': 5, 'apt': 7, 'backsid': 8, 'pericolac': 1, 'strate': 1, 'oxa': 2, 'drier': 2, 'soak': 17, 'jello': 17, 'advancint': 1, 'pediatr': 2, 'ioocc': 1, \"'sm\": 1, 'rxd': 5, 'bronchospast': 21, 'tracheostoma': 1, 'chec': 1, 'encoura': 1, 'bibasilari': 3, 'reveiw': 6, 'appil': 1, 'crack': 23, 'conscious': 13, 'inexsufl': 1, 'aquaphor': 6, 'ocntact': 1, 'medd': 1, 'asucult': 2, 'cufflat': 1, 'repelt': 6, 'sinemet': 11, 'neurro': 1, 'tolal': 1, 'dfddp': 10, 'loudli': 8, 'beginn': 1, 'andresp': 1, 'wiht': 12, 'bacterem': 3, 'soldier': 1, 'blind': 17, 'tune': 4, 'ceftazadin': 2, 'azithomycin': 2, 'estrang': 5, 'irish': 1, 'sing': 7, 'schizoaffect': 9, 'contractil': 28, 'acoust': 24, 'captur': 14, 'oseltamivir': 13, 'coincid': 6, 'recrudesc': 5, 'incurr': 1, 'tdi': 28, 'pitch': 6, 'nativ': 9, 'hemiblock': 7, 'sequenti': 7, 'tacyhcardia': 1, 'agenc': 2, 'sypathet': 1, 'mgr': 3, 'neeed': 2, 'dicloxacillin': 4, 'takatsubo': 1, 'underestim': 27, 'superven': 33, 'pcwp': 42, 'overnigt': 2, \"adl'\": 1, 'postoffic': 1, 'tamaflu': 2, 'sulfonamid': 26, 'insiratori': 1, 'salmeterol': 13, 'ion': 8, 'inferosept': 10, 'staphylococc': 1, 'remnant': 11, 'quantifi': 17, 'akinesi': 21, 'tamiflu': 32, 'autoregul': 8, 'sympathet': 3, 'superinfect': 16, 'augmentat': 1, 'leucocytosi': 4, 'antrov': 1, 'episdo': 1, 'akinet': 12, 'cpod': 1, 'aicd': 17, 'stitch': 14, 'hyperliipidemia': 1, 'ferrou': 18, 'mluitpl': 1, 'orthopnea': 58, 'ativen': 2, 'suicid': 51, 'epogen': 10, 'gastroenter': 5, 'paradox': 63, 'rosuvastatin': 4, \"ab'\": 3, 'doxazosin': 2, 'spirometri': 44, 'unwel': 2, 'nephropathi': 17, 'antibodi': 14, 'dfa': 44, 'nonprodut': 1, 'drk': 4, 'supraclavicular': 103, 'shcedul': 1, 'construct': 4, 'recvd': 6, 'minoxidil': 2, 'cw': 5, 'tapazol': 1, 'parent': 26, 'dorzolamid': 1, 'timolol': 4, 'rheumatoid': 7, 'diffiuclti': 2, 'receptor': 3, 'predison': 4, 'cracker': 20, 'nephrocap': 10, 'matern': 2, 'sparingli': 6, 'dka': 8, 'juvenil': 1, 'bd': 4, 'epo': 7, 'calcitriol': 5, 'melena': 20, 'spefic': 1, 'hematochezia': 11, 'qmwf': 3, 'hickman': 8, 'sevelam': 11, 'sneez': 2, 'allopurinol': 15, 'endors': 13, 'nephrew': 1, 'ggo': 12, 'teniou': 3, 'bulk': 8, 'resposnd': 1, 'comput': 15, 'bradycardiac': 2, 'rhonchii': 3, 'noseble': 2, 'latharg': 2, 'errythemia': 1, 'clinda': 24, 'unrepons': 1, 'nysatin': 1, 'greenish': 20, 'nasopharg': 1, 'satisfactorili': 7, 'exampl': 23, 'cheek': 12, 'antb': 4, 'deliber': 5, 'suctiopn': 1, 'grreni': 1, 'traumat': 21, 'throughou': 2, 'bordelin': 1, 'dot': 5, 'fight': 15, 'oralphagheng': 1, 'respolar': 4, 'bad': 22, 'assum': 26, 'essentu': 1, 'threshold': 48, 'suprapub': 15, 'hhn': 15, 'oputput': 1, 'differnt': 1, 'ofd': 1, 'laid': 11, 'antidepress': 5, 'louder': 4, 'thread': 9, 'sbop': 1, 'neutrapho': 15, 'kpho': 19, 'sclerosi': 23, 'overmed': 4, 'eas': 20, 'subq': 21, 'uninfect': 1, 'levoxyl': 2, 'antihypotens': 1, 'medex': 1, 'fll': 1, 'ceftriax': 10, 'tiotropium': 13, 'imdur': 10, 'fibrot': 20, 'tiotroprium': 1, 'parapneumon': 21, 'thorocentesi': 5, 'intrial': 1, 'echocardiogram': 29, 'biv': 1, 'dobboff': 1, 'abiltiy': 1, 'turgur': 1, 'acyclivir': 1, 'dbe': 1, 'reiter': 6, 'drunk': 2, 'posey': 9, 'tyelenol': 5, 'tech': 13, 'usg': 12, 'promininc': 1, 'witht': 1, 'neutropen': 18, 'acylovir': 2, 'advic': 9, 'nutritionist': 3, 'grandaught': 5, 'spiroment': 1, 'scatt': 5, 'heamodynam': 1, 'betablock': 7, 'fullstrength': 1, 'lactos': 3, 'seraquel': 7, 'lix': 7, 'diuiresi': 2, 'cdb': 52, 'oxicillin': 3, 'torsad': 2, 'guess': 4, 'pb': 9, 'rpp': 2, 'oxi': 3, 'amiodron': 1, 'deeper': 7, 'natrecor': 3, 'anieti': 2, 'tympan': 6, 'jag': 3, 'hot': 21, 'repsons': 4, 'repsond': 2, 'dynam': 24, 'inotropi': 2, 'senekot': 2, 'bppp': 4, 'dynamap': 1, 'nml': 10, 'defib': 3, 'defibril': 13, 'isorbid': 5, 'nesiritid': 1, 'rsc': 15, 'epstudi': 1, 'nite': 12, 'ipmi': 1, 'lwr': 3, 'ci': 26, 'rla': 6, 'toursad': 1, 'sobo': 2, 'itat': 1, 'cosyntropin': 2, 'yankaur': 17, 'presser': 5, 'afraid': 13, 'flaggyl': 4, 'nasopharynx': 10, 'love': 8, 'scrotum': 19, 'varifi': 2, 'plat': 16, 'intrens': 1, 'peni': 12, 'bollu': 2, 'noisi': 3, 'seemingli': 9, 'ambulatori': 11, 'nystantin': 2, 'insuffic': 2, 'culutr': 5, 'ceftrixon': 5, 'nasoendotrach': 2, 'floroscopi': 1, 'core': 8, 'cartoon': 1, 'overrid': 1, 'ronchoru': 3, 'pseudomoni': 4, 'sectret': 7, 'govem': 1, 'negaiv': 1, 'superiorli': 17, 'probalac': 2, 'elastoplast': 2, 'mascer': 3, 'propophol': 2, 'psi': 11, 'afternon': 1, 'axo': 4, 'phelibit': 1, 'sad': 8, 'acetamenophen': 1, 'seek': 19, 'caval': 10, 'uprbc': 23, 'vaselin': 5, 'neeld': 1, 'characterist': 6, 'steristrip': 6, 'superivis': 1, 'efect': 4, 'channel': 12, 'repalc': 1, 'pipercillin': 9, 'piccc': 2, 'cephalid': 1, 'pustul': 4, 'inqueri': 2, 'chnager': 1, 'btb': 4, 'hydropneumothorax': 13, 'nursimg': 1, '^^drng': 1, 'promo': 1, 'fibr': 2, 'excit': 10, 'decras': 2, 'fir': 2, 'withp': 1, '^^^secret': 1, 'coooper': 1, 'boyfriend': 9, 'grren': 2, 'boarderlin': 5, '^^rr': 6, 'toiley': 1, 'stuff': 2, 'oohr': 1, 'bibasalar': 4, 'secreton': 2, \"mod't\": 1, 'acetamenoph': 1, 'persistantli': 5, \"dc'd\": 3, 'spe': 1, 'rplace': 1, 'tritrat': 1, 'flunk': 1, 'repost': 7, 'rosiglitazon': 2, 'overhydr': 28, 'hidraden': 1, 'labia': 7, 'maleat': 10, 'chronc': 1, 'ccrn': 2, 'tameflu': 1, 'obs': 2, 'cautiou': 12, 'hemodilut': 9, 'zocyn': 6, 'seat': 74, 'nephrotoxin': 21, 'oseltamavir': 3, 'metformin': 15, 'microcyt': 5, 'hydraden': 1, 'uri': 14, 'scx': 3, 'nto': 2, 'avandia': 2, 'careplan': 2, 'rebound': 72, 'tray': 10, 'initaietd': 1, 'transf': 4, 'wheezey': 8, 'alrm': 2, 'giddi': 1, 'anaesthesia': 3, 'belliger': 6, 'ultrum': 1, 'awoken': 9, 'belong': 24, 'obj': 9, 'apporach': 1, 'bellegeri': 1, 'rhocher': 1, 'ceft': 3, 'prodcut': 1, 'naprosyn': 1, 'pndg': 16, 'hemodyn': 10, 'stoke': 6, 'fundtion': 1, 'untoward': 4, 'sponaten': 4, 'stethoscop': 2, 'nrsg': 2, 'couplet': 12, 'pharmacolog': 4, 'dobutamin': 7, 'afebreil': 1, 'armboard': 2, 'deviationta': 1, 'curiou': 2, 'workload': 4, 'peic': 1, 'unreliev': 2, 'triplet': 2, 'photophob': 1, 'indomethacin': 2, 'extraaxi': 6, 'nsvt': 16, 'bitempor': 3, 'aslo': 3, 'fetal': 3, 'ibuprophen': 3, 'photophobia': 4, 'sporat': 2, 'exsist': 1, 'deast': 1, 'indecis': 2, 'evalaut': 7, 'granola': 1, 'supper': 9, 'bactrium': 2, 'spar': 1, 'folow': 6, 'aoid': 1, 'suppo': 5, 'de': 37, 'peanut': 5, 'kitchen': 12, 'senecot': 2, 'spurt': 1, 'quicker': 4, 'duc': 1, 'dime': 9, 'everyday': 7, 'tto': 3, 'ilmprov': 1, 'fruit': 6, 'butter': 4, 'bore': 16, 'woth': 1, 'clincal': 1, 'sulfameth': 6, 'rhand': 1, 'airleak': 9, 'blur': 15, 'glycopyrrol': 12, 'flail': 5, 'crown': 2, 'assymetr': 3, 'interpreter': 1, 'bandag': 14, 'intrins': 33, 'molar': 2, 'antiphospholipid': 4, 'panorex': 4, 'periap': 3, 'transvalvular': 9, 'saphen': 7, 'preop': 8, 'torn': 5, 'intaop': 1, 'surveil': 32, 'paravalvular': 1, 'semiupright': 7, 'inapprop': 2, 'electrod': 10, 'dilaud': 3, 'mvr': 18, 'bileaflet': 2, 'disappear': 2, 'hocm': 1, 'cardioresp': 2, 'apac': 3, 'antisialogogu': 8, 'myomectomi': 1, 'mgtid': 1, 'oj': 4, 'replt': 1, 'reduce': 1, 'oximetri': 1, 'ivdu': 13, 'mra': 18, 'undigest': 13, 'ziprasidon': 1, \"c'ing\": 7, 'dissolv': 2, 'cing': 7, 'amitriptylin': 3, 'bisacoyl': 1, 'perpetu': 2, 'reinutab': 1, 'equla': 1, 'amitryptilin': 1, 'theraft': 1, 'reden': 11, 'circul': 18, 'cefatzadim': 1, 'aralast': 1, 'ahd': 4, 'haladol': 1, 'risbi': 26, 'department': 10, 'lias': 3, 'squirm': 4, 'specifi': 11, 'olanzipin': 3, 'multilumen': 9, 'antitrypsin': 1, 'snore': 5, 'residula': 1, 'dramat': 29, 'disconnect': 15, 'antialpha': 1, 'bled': 9, 'geodan': 1, 'lactalos': 4, 'resapiratori': 1, 'distract': 5, 'flirt': 1, 'corner': 11, 'comit': 1, 'news': 3, 'respit': 1, 'angiogram': 17, 'grunt': 6, 'growl': 2, 'ngtube': 2, 'cavitari': 19, 'broncial': 1, 'doc': 1, 'unfocus': 1, 'wether': 2, 'alpha': 5, 'perscib': 1, 'upsid': 2, 'contd': 17, 'flame': 1, 'wea': 4, 'impuls': 9, 'maee': 5, 'prophylacticlli': 1, 'fossa': 27, 'pin': 8, 'hift': 2, 'subl': 1, \"'ve\": 4, 'rose': 17, 'antipsycot': 2, 'writh': 3, 'supris': 1, 'lieu': 4, 'distened': 3, 'checklist': 5, 'spontanoeu': 1, 'dulc': 5, 'accident': 13, 'scaley': 1, 'myconazol': 7, 'trypsin': 1, 'humulog': 7, 'kerlex': 8, 'ceftazadim': 7, 'magnet': 15, 'forth': 7, 'difficulr': 1, \"d'cd\": 8, 'spanish': 16, 'quadrapleg': 1, 'staabl': 1, 'depressor': 1, 'multidisiciplinari': 2, 'vegiat': 1, 'drool': 4, 'mdght': 2, 'extremitit': 3, 'secrat': 2, 'vegat': 1, 'coexsist': 1, 'depent': 2, 'gpr': 9, 'acl': 13, 'cmbivent': 1, 'judgement': 4, 'waters': 14, 'semierect': 3, 'thoracotomi': 18, 'intercost': 12, 'forti': 2, 'hole': 20, 'multilocul': 6, 'presnt': 3, 'cogh': 2, 'rivert': 1, 'lelev': 1, 'lihgt': 1, 'overnihght': 1, 'decresa': 1, 'socila': 1, 'org': 4, 'licsw': 20, 'subutan': 10, 'inclu': 1, 'silhouet': 14, 'dream': 5, 'spnal': 1, 'financ': 1, 'tyesterday': 1, 'paralysi': 24, 'adhes': 22, 'intertrochanter': 4, 'vesiculo': 1, 'clergi': 16, 'calibr': 8, 'bact': 8, 'ambient': 7, 'vesicular': 4, 'pect': 1, 'rehir': 1, 'cephalosporin': 10, 'overtli': 4, 'tizanidin': 3, 'lifelin': 2, 'ce': 64, 'broaden': 35, 'acth': 1, 'exactli': 7, 'thorcaic': 1, 'rent': 4, 'repelet': 2, 'omr': 61, \"epi'\": 1, 'fq': 4, 'glad': 2, 'nortriptylin': 4, 'flare': 46, 'debat': 3, 'hisotri': 1, 'chocol': 5, 'flosheet': 1, 'fllet': 1, 'pnoon': 1, 'rapidli': 39, 'ventimask': 11, 'aphasia': 18, 'diurisei': 1, 'equilibrium': 1, 'hj': 1, 'osteoporosi': 26, 'clinician': 43, 'neutopho': 1, 'syncop': 16, 'nitropast': 9, 'deterior': 43, 'tachypneac': 2, 'afterload': 21, 'thromu': 1, 'uptitr': 18, 'subj': 3, 'daugther': 4, 'donepezil': 11, 'heaprin': 4, 'giv': 1, 'vulner': 1, 'oropharyngela': 1, 'gib': 35, 'serious': 4, 'genit': 2, 'rythym': 8, 'appropr': 1, 'charact': 5, 'rabbi': 8, 'advoc': 5, 'lengthi': 13, 'idioventricular': 3, 'dirti': 16, 'hotnsiv': 3, 'llsb': 7, 'immin': 2, 'untreat': 8, 'changedto': 1, 'busi': 8, 'discont': 3, 'hemodynim': 12, 'anger': 6, 'scopalamin': 6, 'unrealist': 2, 'fxn': 30, 'citalopram': 18, 'facemask': 23, 'discu': 5, 'concur': 4, 'drive': 32, 'vasovag': 3, 'donezipil': 1, 'bye': 1, 'spite': 10, 'pci': 13, 'hemodyanm': 2, 'fulfil': 2, 'memantin': 4, 'chng': 3, 'instabl': 39, 'likelihood': 22, 'lij': 19, 'hyalin': 2, 'analgesia': 8, 'death': 14, 'nippl': 5, 'vr': 10, 'mentali': 1, 'culprit': 7, 'rewrap': 1, 'cco': 4, 'enquier': 2, 'sov': 1, 'posibl': 7, 'stidor': 1, 'fick': 8, 'beliger': 3, 'booboo': 1, 'signift': 1, 'biphas': 7, 'wel': 3, 'shiever': 1, 'carvedilol': 14, 'greed': 1, 'cardiopulm': 9, 'raet': 1, 'origen': 2, 'orderd': 9, 'abcess': 22, 'stit': 1, 'lwsxn': 2, 'milr': 2, 'bollus': 2, 'testic': 1, 'dietician': 4, 'effust': 1, 'comtin': 1, 'mch': 2, 'subtheraput': 2, 'resed': 3, 'wenesday': 2, 'creatin': 7, 'indenpedantli': 1, 'mvo': 3, 'serousangin': 4, 'effuss': 7, 'restrart': 1, 'antiobiot': 12, 'thorecentesi': 2, 'prebypass': 2, 'thermodil': 1, 'stepdown': 7, 'crepiti': 3, 'veloc': 33, 'diag': 10, 'cagluc': 2, 'consistenli': 4, 'imi': 2, 'stble': 1, 'fentanyli': 1, 'faintli': 1, 'recognis': 2, 'sshumulog': 2, 'traponin': 1, 'capto': 1, 'tvi': 5, 'coreg': 8, 'dra': 12, 'pplat': 8, 'thickyellowish': 1, 'cardiogen': 36, 'vg': 1, 'awir': 1, 'nhp': 1, 'unattend': 2, 'epinephrin': 14, 'demisish': 1, 'sbg': 1, 'thermodilut': 3, 'gastroduoden': 3, 'barrium': 1, 'precuaut': 1, 'tnsf': 5, 'caglucon': 1, 'redicat': 1, 'inotrop': 2, 'alkalemia': 13, 'bradypn': 1, 'flinch': 2, 'pedial': 6, 'plerur': 1, 'frang': 1, 'aspriat': 5, 'postbypass': 1, 'progre': 1, 'prop': 25, 'billeou': 1, 'angioplasti': 12, 'milrinon': 5, 'retal': 1, 'jp': 12, 'reamin': 6, 'hiccough': 1, 'defecit': 6, 'pulmari': 1, 'rebump': 1, 'sunction': 3, 'defervesc': 11, 'lima': 3, 'sttol': 1, 'gon': 1, 'absorbs': 1, 'persis': 3, 'ez': 4, 'milironon': 1, 'inadvert': 5, 'demor': 2, 'cellsav': 1, 'yellowbrown': 1, 'diaphores': 1, 'om': 18, 'awean': 1, 'corti': 2, 'antero': 1, 'ucg': 2, 'restaint': 4, 'swr': 1, 'diffficult': 1, 'pnu': 1, 'ballon': 9, 'aucult': 3, 'pervent': 2, 'nuerolog': 2, 'receic': 2, 'inth': 7, 'bs^': 1, 'norepi': 6, 'yankuar': 3, 'tof': 8, 'ond': 1, 'beer': 4, \"dt'\": 1, 'mant': 1, 'purpl': 17, 'wap': 5, 'epsiod': 3, 'noreepi': 1, 'fentenyl': 4, 'remmind': 1, 'diltizem': 6, 'secondri': 1, 'healthey': 1, 'riesman': 3, 'chosen': 13, 'otc': 3, 'pleuracentesi': 1, 'pneumomia': 2, 'addenidum': 1, 'diltazem': 1, 'dilatiazem': 1, 'kerley': 6, 'nigth': 3, 'chad': 11, 'mucolyt': 2, 'parox': 1, 'pertussi': 2, 'fluoroquinolon': 6, 'guafenesi': 1, 'moh': 1, 'tvr': 1, 'maxilla': 4, 'fot': 2, 'ferment': 1, 'hyperparathyroid': 5, 'pertusi': 2, 'behav': 2, 'nsaid': 13, 'deropenem': 1, 'ipatropium': 4, 'doripenem': 2, 'pnysic': 1, 'psa': 8, 'surpris': 9, 'qualifi': 7, 'spironolacton': 7, 'dorbipenem': 1, 'bronchiectesi': 3, 'pulmonologist': 11, 'epulmonari': 1, 'whennam': 1, 'aeratin': 1, 'ecymosi': 1, 'atelactasi': 3, 'hest': 1, 'yougart': 1, 'previo': 3, 'eccymosi': 7, 'inepend': 1, 'aggressiv': 1, 'psychosi': 9, 'prescenc': 1, 'diffuculti': 3, 'sediat': 1, 'upperairway': 3, 'emb': 1, 'mitt': 9, 'recomend': 7, 'multilevel': 42, 'xopenex': 15, 'que': 1, 'vancomyc': 1, 'spicul': 9, 'psycosi': 1, 'nicotin': 18, 'drank': 11, 'blast': 5, 'ultsnd': 2, 'cooki': 12, 'cdc': 2, 'occulud': 1, 'pneumococcu': 4, 'slecp': 1, 'kayexyl': 2, 'durabl': 4, 'crescent': 2, 'symptomat': 27, 'esoph': 6, 'bandemia': 29, 'cocain': 14, 'esophagogastrostomi': 1, 'hypertensioncurr': 1, 'hepatopulmonari': 1, 'wegen': 6, 'valuim': 2, 'hypothyrod': 1, 'chemoradi': 6, 'diazepam': 12, 'urol': 1, 'hemoptysi': 33, 'brachytherapi': 3, 'radiotherapi': 5, 'abdominu': 2, 'gall': 13, 'rectu': 9, 'laparotomi': 8, 'vaccin': 55, 'pneurmonia': 2, 'melanoptosi': 1, 'failurelik': 1, 'ccr': 4, 'span': 13, 'paramediastin': 10, 'chemotherapi': 30, 'shuvel': 1, 'amlodipin': 24, 'worth': 6, '`': 13, 'esophagectomi': 5, 'pneumocysti': 18, 'dfdkq': 10, 'nari': 8, 'coalesc': 6, 'hurrican': 2, 'aw': 1, \"po'\": 2, 'perf': 9, 'teaspoon': 6, 'gastrosotmi': 2, 'videofluoroscopi': 29, 'sequenc': 20, 'hypercholesteremia': 2, 'sussept': 1, 'nocardiosi': 1, 'exquisit': 1, 'lrge': 6, 'ceftax': 4, 'lucid': 11, 'manner': 12, 'inphas': 1, 'milki': 2, 'nocardia': 3, 'corticomedullari': 4, 'hyperchol': 2, 'olecranon': 1, 'fk': 4, 'vibe': 1, 'ersd': 2, 'hast': 1, 'repsir': 1, 'venipuctur': 1, 'uni': 8, 'imp': 5, 'pug': 2, 'substani': 2, 'effevt': 1, 'expecor': 1, 'sough': 1, 'ure': 6, 'tesla': 9, 'imbal': 4, 'imipenuim': 1, 'hypointens': 8, 'sludgi': 2, 'coarsen': 10, 'procardia': 5, 'leftsid': 1, 'chlorothiazid': 3, 'avb': 11, 'uninterest': 2, 'anyway': 6, 'metamucil': 2, 'daytim': 46, 'sxting': 2, 'brighten': 1, 'remenisc': 1, 'probabali': 1, 'pool': 12, 'bowl': 5, 'chowder': 1, 'frig': 1, 'wafer': 1, 'engag': 20, 'yogurt': 3, 'cereal': 5, 'biscodyl': 5, 'chlorothiasid': 1, 'negatiov': 1, 'dayshift': 5, 'amyloid': 4, 'duiril': 1, 'enoucrag': 1, 'bkft': 1, 'efficaci': 6, 'energi': 8, 'coumdadin': 1, 'nitroglycerin': 15, 'sug': 4, 'initait': 1, 'eproxi': 1, 'car': 13, 'howver': 1, 'bother': 11, 'sizeabl': 4, 'propuls': 16, 'marcan': 1, 'sacroiliac': 5, 'detox': 5, 'vestibul': 6, 'piriform': 20, 'enag': 1, 'disfunct': 1, 'extrmiti': 1, 'prorgess': 1, 'gentli': 27, 'aciti': 1, 'metolazon': 5, 'thrill': 9, 'tongiht': 3, 'minlabor': 1, 'regiman': 3, 'highflow': 1, 'lyy': 1, 'priest': 3, 'infilatr': 2, 'facet': 13, 'flattu': 1, 'elbo': 1, 'toiler': 1, 'fac': 1, 'cellcept': 4, 'ckd': 39, 'orbit': 16, 'dilit': 10, 'stenos': 4, 'squeak': 6, 'carpal': 6, 'hydroxizin': 1, 'tall': 4, 'hyperdens': 24, 'overdu': 1, 'hyperphsophatemia': 1, 'pruriti': 2, 'intraorbit': 1, 'fistulogram': 2, 'injector': 1, 'anastomosi': 9, 'warrant': 32, 'arterioven': 1, 'scalp': 6, 'pulsatil': 2, 'rsr': 20, 'inattent': 2, 'urem': 4, 'xii': 14, 'vii': 4, 'intracellular': 1, 'alternan': 3, 'percocoet': 1, 'translum': 1, 'skip': 3, 'fistulagram': 1, 'hemostasi': 13, 'wenckebach': 3, 'huddl': 21, 'enya': 18, 'noncompli': 11, 'likelihoood': 1, 'venogram': 11, 'renagel': 4, 'contra': 6, 'vigileo': 3, 'rmg': 1, 'jejuni': 1, 'turp': 8, 'ld': 9, 'gb': 9, 'ketaconazol': 1, 'legionel': 3, 'breathless': 6, 'popup': 9, 'rhale': 3, 'atov': 1, 'hemolysi': 25, 'contriubut': 1, 'remeb': 1, 'tendenc': 10, 'concomin': 1, 'floridli': 1, 'cepodoxim': 1, 'neurophysiolog': 2, 'lmore': 1, 'hflu': 3, 'downtrend': 11, 'unrev': 25, 'conjuntiv': 1, 'cefpodoxim': 8, 'avelox': 1, 'unconcern': 2, 'azithroymcin': 1, 'error': 29, 'lupron': 5, 'slighlt': 1, 'immunocompromis': 56, 'hapto': 5, 'coler': 2, 'javascript': 9, 'fluild': 1, 'chb': 3, 'laugh': 7, 'loperamid': 2, 'col': 4, 'classic': 7, 'driven': 3, 'jude': 1, 'unread': 2, 'split': 51, 'trand': 1, 'sensitivt': 1, 'transven': 26, 'ai': 6, 'handrail': 1, 'group': 20, 'underwhelm': 4, 'laryngospasm': 1, 'florrid': 1, 'bioprosthesi': 5, 'haptoglobin': 8, 'cltx': 1, 'webtag': 9, 'noro': 1, 'persisit': 1, 'svv': 1, 'acheiev': 1, 'immunolog': 44, 'hemodyanam': 2, 'wrr': 1, 'tcdb': 14, 'pah': 5, 'contr': 1, 'flesh': 2, 'sclara': 1, 'ucltx': 1, 'diruesi': 6, 'yetread': 1, 'absolut': 4, 'interpretor': 5, 'assign': 13, 'rxn': 11, 'occult': 22, 'maintan': 8, 'interstitium': 3, 'uppper': 5, 'probali': 1, 'circumst': 11, 'ceftz': 2, 'oa': 10, 'vacomycin': 3, 'aaspir': 1, 'cetaz': 1, 'rune': 1, 'degrener': 1, 'temo': 1, 'indepemnd': 1, 'contus': 4, 'movemont': 1, 'tachpnea': 3, 'gastrojejun': 7, 'weap': 7, 'pkt': 9, 'navig': 2, 'sml': 19, '^bun': 1, 'blaot': 1, 'intraservic': 11, 'amalyas': 1, 'brachiel': 1, 'atro': 20, 'vevel': 1, 'oca': 5, 'taler': 2, '^abd': 1, 'diverticuli': 4, '^k': 1, 'miniscul': 3, 'exal': 1, 'foll': 2, 'insuff': 4, 'ambian': 2, 'dismotil': 2, 'absorpt': 10, 'crepit': 2, 'fascia': 3, 'wordk': 1, 'proteu': 8, 'hemolyz': 10, 'immunosuppres': 6, 'reject': 11, 'lgt': 1, 'petroleum': 1, 'kmcd': 2, 'idiopath': 10, 'adb': 2, 'pararen': 1, 'anckl': 1, 'sched': 8, 'salmon': 1, 'unclot': 2, 'studio': 1, 'kosher': 3, 'grad': 3, 'elecv': 1, 'aricept': 7, 'lotrisom': 1, 'scrape': 1, 'lighter': 6, 'creatnin': 6, 'lbm': 11, 'bolt': 9, 'sabath': 1, 'yank': 1, 'primairli': 1, 'dyspenia': 1, 'inguni': 1, 'kkgc': 17, 'epiglotti': 5, 'hilu': 14, 'bulbou': 1, 'azyg': 8, 'kerlix': 4, 'noght': 1, 'immeadi': 1, 'redraw': 10, 'cage': 9, 'pen': 10, '^from': 1, 'arpund': 1, '^vt': 1, 'sternum': 11, 'bidh': 1, 'copper': 4, 'osteophyt': 21, 'surguri': 2, 'angiomyolipoma': 3, 'reloc': 3, 'azithromicyn': 1, 'eccymot': 18, 'afluttt': 1, 'aaa': 14, 'aml': 14, 'nondiagnost': 10, 'censu': 2, 'bronchoalveolar': 9, 'azithromyin': 3, 'pramipexol': 1, 'pneumona': 5, 'spt': 9, 'mirapex': 4, 'tachypnia': 4, 'protien': 1, 'tolcapon': 1, 'herniat': 11, 'inhibit': 2, 'wb': 4, 'ctga': 1, 'precedex': 7, 'desta': 1, 'drown': 3, 'resdient': 4, 'soln': 20, 'vasectomi': 1, 'batteri': 6, 'acetylcystein': 4, 'kyphosi': 20, 'suck': 4, 'beig': 3, 'fluent': 36, 'marri': 21, 'mango': 1, 'hoars': 17, 'polymorphonuclear': 13, 'tsp': 31, 'mmcosgroveannuloplasti': 1, 'rspiratori': 2, 'nasotrachi': 6, 'ettub': 1, 'precidex': 3, 'foi': 27, 'neurologist': 5, 'sup': 16, 'compensatori': 9, 'anitibiot': 2, 'tamsar': 1, 'presedex': 2, 'crestor': 3, 'ili': 4, 'flavor': 1, 'laparoscop': 4, 'glucagon': 7, 'albeit': 5, 'inceas': 3, 'meningioma': 2, 'rsv': 13, 'ntd': 6, 'perist': 6, 'choos': 9, 'rbbi': 1, 'dysmetria': 1, 'respirartori': 3, 'bul': 11, 'cutur': 3, 'disintegr': 11, 'formulari': 5, 'cane': 9, 'lingual': 21, 'neurosurgeon': 4, 'intellig': 7, 'extuabt': 9, 'yesterrday': 1, 'runni': 2, 'ih': 22, 'ltach': 9, 'answr': 1, 'disk': 7, 'annuloplasti': 6, 'leukocyt': 20, 'antianieti': 1, 'labial': 27, 'multilobular': 5, 'cfu': 7, 'kyphot': 11, 'protrud': 23, 'incisor': 6, 'restain': 2, 'slit': 1, 'conf': 3, 'mough': 1, 'scoot': 1, 'incoher': 4, 'consentr': 1, 'vebal': 1, 'smeari': 1, 'nuetrin': 1, 'skizophrenia': 1, 'countour': 1, 'mitten': 2, 'emtion': 3, 'halway': 1, 'comdom': 2, 'distor': 1, 'rotatori': 2, 'dsoft': 1, 'antiseizur': 2, 'modif': 8, 'dischag': 2, 'consistencei': 1, 'killian': 1, 'web': 5, 'extremti': 6, 'rous': 7, 'palsi': 7, 'nector': 3, 'valpraot': 1, 'wanst': 1, 'pg': 6, 'clossur': 1, 'dextroscoliosi': 8, 'fixat': 15, 'poe': 16, 'nponproduct': 1, 'thoracolumbar': 18, 'conceiv': 5, 'scoliosi': 30, 'beam': 6, 'adriamycin': 1, 'icter': 8, 'listeria': 2, 'unpasteur': 1, 'diplopia': 2, 'atend': 1, 'myasthenia': 1, 'paracentesi': 10, 'doxil': 1, 'hyposmol': 6, 'hemeroid': 1, 'hemmoroid': 1, 'beeen': 1, 'carboplatin': 4, 'plasma': 2, 'cantones': 7, 'producvt': 1, 'cavo': 7, 'taxol': 3, 'subtract': 5, 'jxkc': 6, 'manifest': 17, 'bulki': 12, 'meningoenceph': 2, 'synthet': 3, 'dairi': 3, 'secert': 1, 'billiari': 2, 'hyperbilirubinemia': 4, 'rescucit': 4, 'paclitaxel': 1, 'tensilon': 1, 'ove': 2, 'cardiorespiratori': 3, 'wsclip': 3, 'adh': 3, 'thyoma': 1, 'xeloda': 1, 'ampillin': 1, 'enou': 1, 'polydipsia': 2, 'bio': 3, 'usclip': 5, 'lobul': 8, 'osmol': 3, 'cholestat': 3, 'purula': 1, 'encompass': 3, 'cisplatin': 3, 'subdiaphragmat': 67, 'tarceva': 1, 'host': 6, 'plasmapheresi': 1, 'workstat': 4, 'neoadjuv': 1, 'peipher': 1, 'alimta': 1, 'suppress': 20, 'hyponatrem': 10, 'topleura': 1, 'subcapsular': 3, 'thymoma': 2, 'cytoxan': 5, 'reisman': 2, 'anecho': 4, 'psx': 2, 'spasm': 19, 'legnth': 2, 'folvent': 1, 'technetium': 1, 'precarin': 19, 'pseuodomona': 1, 'brth': 1, 'brwn': 8, 'reactss': 1, 'reticul': 6, 'pronglon': 1, 'diminsish': 1, 'mtn': 1, 'sestamibi': 1, 'sttled': 1, 'nse': 1, 'aqit': 1, 'intermittenli': 2, 'exel': 2, 'prophylax': 1, 'snt': 5, 'amoutn': 4, 'agrress': 2, 'dobbhoff': 31, 'ligh': 2, 'vertebroplasti': 5, 'constraint': 2, 'drainabl': 9, 'functioningand': 1, 'revealedd': 1, 'fidn': 1, 'dyapherit': 1, 'mechaniclli': 3, 'py': 4, 'subsid': 21, 'postsurg': 6, 'hemodym': 3, 'hematopoet': 1, 'abort': 10, 'voltga': 1, \"huo'\": 1, 'ascess': 1, 'suctionin': 3, 'pneumotx': 1, 'amout': 7, 'valsalva': 16, 'ctscan': 3, 'roxicet': 6, \"related'\": 1, 'aphon': 4, 'tachynea': 2, 'pplan': 2, 'especailli': 1, 'bacteroid': 2, 'antbx': 13, 'hemodynimc': 1, 'thorughout': 2, 'nauseaou': 2, 'disconect': 1, 'ilestomi': 1, 'drian': 4, 'latex': 9, 'eosphil': 1, 'tia': 20, 'arma': 1, 'expand': 33, 'mit': 4, 'billari': 1, 'sulf': 3, 'occus': 1, 'copiuo': 5, 'moderatr': 2, 'wbc^': 2, 'acsecss': 1, 'tyelnol': 4, 'ultra': 4, 'labul': 1, 'dimin': 6, 'bdline': 2, 'floos': 1, 'broncho': 6, 'asmt': 1, 'diverticular': 2, 'respon': 4, 'enorm': 2, 'hr^^': 5, 'wkness': 1, 'mvment': 1, 'cautar': 1, 'perfor': 21, 'oid': 1, 'ydrianiang': 1, 'dwn': 1, 'diamox': 20, 'tag': 3, 'divert': 3, 'eca': 5, 'isc': 1, 'secrett': 2, 'foul': 21, 'tage': 1, 'vevn': 1, 'sinustach': 1, 'respo': 1, 'viist': 1, 'lf': 6, 'comfot': 1, 'nec': 3, 'cca': 9, 'stoool': 3, 'ftw': 1, 'iso': 5, '^rr': 6, 'spcific': 1, 'tachypin': 1, 'craer': 1, 'unresolv': 3, 'moniotr': 6, 'hepatomegali': 7, 'blding': 1, 'apparatu': 3, 'coontrol': 1, 'elevati': 1, 'mesh': 6, 'pullm': 1, 'diaures': 2, 'cutoff': 1, 'judici': 7, 'meta': 15, 'flowhseet': 1, 'infuenza': 1, 'stapl': 18, 'rhonchou': 2, 'cranial': 7, 'airflow': 4, 'adequet': 2, 'tami': 1, 'andevid': 1, 'slice': 42, 'atv': 4, 'pseudonorm': 5, 'distess': 3, 'vw': 10, 'sesha': 6, 'greatest': 22, 'intermitenli': 2, 'descent': 2, 'distalmost': 2, 'settng': 2, 'ventral': 11, 'distinctli': 2, 'egd': 29, 'hysterectomi': 8, 'parasept': 9, 'osteopenia': 18, 'pector': 11, 'upgrad': 10, 'subchondr': 7, 'tmrw': 5, 'levofloxicin': 9, 'mdag': 15, 'grid': 3, 'simvastain': 1, 'euvolemia': 7, 'situ': 21, 'subotim': 1, 'atrioventricular': 2, 'sfv': 2, 'prilosec': 14, 'mainstem': 10, 'intracavitari': 1, 'evidenc': 22, 'apec': 2, 'startedon': 3, 'diverticula': 17, 'pulmonal': 4, 'concurr': 31, 'cnii': 3, 'text': 7, 'hasnt': 1, 'nissen': 1, 'zyti': 1, 'sychron': 1, 'colonoscopi': 18, 'ceftazidin': 3, 'recom': 2, 'odd': 11, 'arthropathi': 5, 'ran': 6, 'videoswallow': 7, 'infx': 2, 'bss': 2, 'vacuum': 5, 'zydi': 7, 'tem': 2, 'ward': 2, 'seech': 2, 'subcutaen': 1, 'percordi': 1, 'safest': 6, 'encouragingli': 3, 'cfv': 1, 'pulmn': 2, 'pneumotho': 1, 'occurr': 2, 'injur': 3, 'sylvian': 4, 'frontopariet': 3, 'bulbar': 1, 'subarachnoid': 7, 'sah': 5, 'dysarthria': 5, 'cong': 1, 'fentlyl': 1, 'pivx': 9, 'evidens': 1, 'mnd': 2, 'periarea': 4, 'edemet': 3, 'extyra': 1, 'etco': 4, 'yogert': 2, 'str': 17, 'lite': 2, 'wilth': 1, 'miconozol': 2, 'giggl': 1, 'purplish': 3, 'strang': 4, 'rpc': 2, 'perihepat': 13, 'decreasd': 1, 'gmpo': 1, 'nonfunct': 1, 'pimpl': 1, 'skew': 1, 'afew': 1, 'hadol': 2, 'rnd': 1, 'htcz': 1, 'obay': 1, 'corridor': 1, 'separ': 27, 'hasmi': 1, 'legionalla': 5, 'retreat': 1, 'fidgeti': 4, 'nonform': 2, 'hepati': 2, 'consolit': 1, 'underarm': 2, 'mpr': 1, 'abber': 1, 'restraind': 2, 'ivpb': 9, 'feegingh': 1, 'bolum': 1, 'asbout': 1, 'perirash': 1, 'guiaiac': 1, 'presid': 6, 'ssuction': 2, 'overnit': 8, 'jumbl': 1, 'attem': 1, 'osteopen': 6, 'adr': 3, 'deaf': 7, 'ordr': 4, 'iffus': 1, 'azm': 1, 'bilaterali': 7, 'patern': 2, 'magneisium': 1, 'evala': 1, 'reti': 1, 'blackish': 2, 'peerl': 7, 'rmeian': 1, 'invl': 1, 'garrul': 1, 'reasssurr': 1, 'kayexalt': 1, 'mulitpl': 10, 'medastin': 1, 'meropeum': 1, 'abefril': 1, 'benzodiazepen': 1, 'incorper': 1, 'anxious': 4, 'bsd': 8, 'ccx': 3, 'prvide': 1, 'diminsih': 5, 'cappilari': 1, 'biggest': 2, 'tolaer': 1, 'repostit': 1, \"svn'\": 1, 'afeberil': 1, 'ruddi': 2, 'postit': 4, 'flap': 6, 'orietn': 1, 'adaqu': 3, 'etern': 1, 'totaol': 1, 'angeogram': 1, 'malleabl': 1, 'appopri': 2, 'summer': 5, 'elix': 3, 'xoponex': 5, 'electrocardiogram': 1, 'screw': 7, 'epigastrium': 8, 'potentia': 1, 'erethemat': 1, 'amm': 1, 'laxilla': 1, 'parit': 2, 'clorazepam': 1, 'awaqr': 1, 'washout': 8, 'monr': 2, 'survail': 6, 'diifus': 1, 'mdsi': 1, 'gluteu': 2, 'hhe': 1, \"mdi'\": 1, 'costyntropin': 1, 'refocu': 1, 'dnrg': 1, 'wtihout': 1, 'movment': 8, \"jp'sx\": 1, 'humor': 6, 'exr': 1, 'admittedli': 4, 'dehisc': 7, 'ivm': 1, 'llu': 1, 'ccof': 1, 'colistin': 5, 'tubefeed': 9, 'fame': 1, 'mustard': 1, 'meatey': 1, 'fdsg': 1, 'muscular': 15, 'sennokot': 1, 'oject': 1, 'agig': 2, 'eczema': 1, \"ue'\": 1, 'magneisum': 1, 'earili': 1, 'addenda': 1, 'techiniqu': 1, 'tfeed': 7, 'omn': 1, 'upcom': 4, 'xop': 1, 'mutipl': 7, 'qi': 2, 'partic': 1, 'append': 6, 'fnetanyl': 1, 'respns': 1, 'colostrin': 1, 'circut': 1, 'ooa': 1, 'tlcc': 1, 'lback': 1, 'mereponuem': 1, 'extremli': 3, 'sift': 2, 'goos': 1, 'mycostantin': 2, 'wnd': 3, 'insuffi': 3, 'specfic': 2, 'daay': 1, 'jpx': 2, 'dghtr': 1, 'lent': 2, 'viabl': 2, 'neur': 2, 'pesseri': 1, 'startd': 1, 'feburari': 1, 'symmetri': 1, 'yellaw': 1, 'zeroform': 1, 'urgenc': 13, 'albuter': 9, 'fentyn': 8, 'effexor': 3, 'parapelv': 6, 'recommed': 3, 'costochondr': 2, 'raspi': 5, 'foeli': 1, 'aniou': 1, \"'ye\": 2, 'suxn': 4, 'insens': 21, 'metizol': 1, 'dislik': 3, 'anitbiot': 5, 'servicv': 1, 'aggres': 9, 'mainatin': 2, 'convey': 13, 'pinken': 1, 'roux': 4, 'reoirent': 1, 'minin': 1, 'envelop': 3, 'lain': 1, 'faccid': 1, 'awaint': 2, 'placen': 1, 'rhonchial': 1, 'devot': 2, 'solubl': 3, 'rectangular': 1, 'inteq': 1, 'depict': 8, 'tint': 2, 'lastnight': 2, 'suctio': 1, 'sixth': 4, 'micub': 4, 'enterectomi': 1, \"de'sat\": 1, 'intentd': 1, 'respitori': 5, 'en': 9, 'guiaic': 16, 'antbiot': 4, 'lungfield': 2, 'haerd': 1, 'linzolid': 1, 'vasoilin': 1, 'auscleat': 1, 'frc': 1, 'cathart': 1, 'neglig': 3, 'relativli': 1, 'survalli': 1, 'gien': 1, 'thicket': 2, 'enquir': 2, 'explin': 3, 'tanish': 5, 'regiem': 3, 'vista': 4, 'objecet': 1, 'wamr': 1, 'cardin': 1, 'coas': 2, 'levofloxin': 6, 'lizinolid': 1, 'vancxomycin': 1, 'wrsit': 1, 'tfdg': 1, 'sonc': 1, 'episdod': 1, 'sct': 7, 'perineu': 1, 'ceftamin': 1, 'anaemia': 1, 'vagina': 2, 'immun': 9, 'softsorb': 7, 'intug': 1, 'sucret': 1, 'roho': 1, 'preper': 4, 'ser': 1, \"'broke\": 1, 'ceftadim': 1, 'adq': 9, 'anal': 13, \"'star\": 1, 'inclus': 4, 'race': 3, 'adenosin': 5, 'progess': 4, 'hick': 2, 'jmh': 2, 'orientd': 2, 'ceftam': 1, 'gyn': 3, 'cushion': 6, 'podi': 2, 'elipt': 1, 'soup': 10, 'azithromax': 6, 'ampogel': 1, 'throb': 4, 'renegel': 1, 'adenoma': 15, 'phosporu': 1, 'uc': 14, 'summeri': 2, 'datail': 1, 'parathyroid': 1, 'xxl': 1, 'shaki': 7, 'bariatr': 3, 'doxycyclin': 7, 'micronodular': 3, 'anzimet': 3, 'subcut': 6, 'allowa': 1, 'dizz': 1, 'cervicothorac': 2, 'septa': 2, 'sanguni': 1, 'cxri': 1, \"a'lin\": 1, 'flet': 2, 'reso': 2, 'crepetu': 1, 'infilpleas': 1, 'pneumatocel': 8, 'miliari': 1, 'oer': 2, 'oout': 1, 'infilto': 1, 'oppurtunist': 1, 'repaet': 2, 'spb': 6, 'cutan': 5, 'thorascop': 2, 'pneumodiastinum': 1, 'csl': 4, 'bronchopleur': 4, 'doxi': 5, 'difficuti': 2, 'pleurodesi': 7, 'strnum': 1, 'spiromt': 1, 'lert': 1, 'crapetu': 1, 'blebectomi': 1, 'aprrox': 2, 'micronodul': 2, 'retrospect': 8, 'ellipt': 3, 'cystotomi': 1, 'cystostomi': 1, 'tnf': 1, 'extravascularli': 2, 'whereabout': 1, 'catrh': 1, 'bien': 1, 'cowork': 4, 'anasarc': 6, 'ecoli': 7, 'exutb': 1, 'intravasculari': 1, 'liber': 14, 'unsrespons': 1, 'pea': 11, 'secreet': 1, 'cathol': 2, 'flaki': 5, 'revisit': 7, 'esmolol': 10, 'decison': 1, 'cataton': 1, 'riker': 1, 'acx': 3, 'smade': 1, 'afterloud': 1, 'catm': 2, 'fist': 3, 'infiiltr': 1, 'aspirs': 1, 'sabp': 3, 'unfold': 12, 'bib': 2, 'purpilish': 1, 'jelfoam': 1, 'aztreonam': 18, 'prayer': 3, 'hemorroid': 1, 'corneal': 6, 'prev': 28, 'uncompens': 2, 'unobtain': 4, 'nonreact': 3, 'whooz': 1, 'psychomimet': 3, 'sond': 1, 'pulseless': 7, 'overgrowth': 3, 'erythem': 4, 'recondit': 1, 'aticoagul': 1, 'doll': 1, 'escar': 2, 'jaw': 24, 'mabp': 1, 'comatos': 1, 'pon': 11, 'verif': 5, 'vagin': 11, 'frown': 1, 'sati': 3, 'intraaxi': 2, 'cardiova': 2, 'sedement': 5, 'prostatectomi': 4, 'signifc': 5, 'creation': 3, 'sutr': 1, 'densest': 2, 'attmept': 5, 'subtherapuet': 1, 'prostetectomi': 1, '\\x13': 2, 'adequt': 2, 'remaint': 1, 'bialter': 3, 'cystectomi': 3, 'frequ': 3, 'neobladd': 1, 'ileal': 6, 'debri': 16, 'meyloma': 1, 'agiti': 3, 'marijuana': 3, 'norvasc': 13, 'mucosi': 1, 'aroumd': 1, 'lacer': 13, 'venodynn': 1, 'meax': 1, 'dump': 3, 'conduit': 1, 'built': 1, 'diali': 2, 'dysconjug': 1, 'propabl': 1, 'withdarw': 1, 'montor': 4, 'mucuo': 1, 'petechia': 3, 'radic': 5, 'pulmo': 3, 'placedraing': 1, 'begant': 1, 'bug': 7, 'myeloma': 5, 'mciu': 1, 'mlij': 1, 'ppsv': 1, 'linen': 9, 'irriagt': 1, 'disconjug': 2, 'resdiual': 1, 'gaze': 9, 'diaphorect': 2, 'influ': 1, 'mornign': 2, 'rum': 1, 'crawl': 4, 'frail': 19, 'dd': 4, 'wf': 2, 'recrut': 1, 'untx': 1, 'pri': 2, 'parametersthi': 1, 'tko': 4, 'paperi': 1, 'russian': 20, 'reaccumul': 18, 'malg': 1, 'bronchomalagia': 1, 'gastrocult': 2, 'shorten': 7, 'contralater': 9, 'apper': 6, 'lght': 1, 'intubatd': 2, 'pericardiac': 2, 'moreov': 3, 'convinc': 15, 'pericardiocentesi': 4, 'seventh': 12, 'constrict': 13, 'opa': 1, 'wider': 3, 'lnco': 10, 'paraspin': 11, 'fosamax': 4, 'prestern': 1, 'extravascular': 1, 'psvt': 4, 'regurgitaton': 1, 'prssure': 1, 'pla': 2, 'underpenetr': 8, 'tracheo': 6, 'alvaolar': 1, 'prodctiv': 1, 'epitympan': 1, 'sect': 1, 'adminst': 3, 'elimin': 10, 'npnn': 1, 'delta': 5, 'underdevelop': 1, 'medulla': 2, 'lingular': 28, 'haem': 1, '^wbc': 3, 'serousi': 1, 'ine': 3, 'vemtilatori': 1, 'fob': 1, 'hfn': 3, 'rebreah': 1, 'ileo': 2, 'preform': 6, 'flowheet': 1, 'sysol': 1, 'yankar': 4, 'scapula': 13, 'cant': 5, 'zyperia': 1, 'apear': 5, 'dirrahea': 1, 'slightlti': 1, 'yellowi': 3, 'doson': 1, 'explor': 6, 'pulmologist': 1, 'illeoconduit': 1, 'sugereon': 1, 'whch': 1, 'intouch': 1, 'prognossi': 1, 'colostolmi': 1, 'concommit': 1, 'carrier': 2, 'paussey': 1, 'depth': 6, 'dramaticali': 1, 'drainot': 1, 'oatmeal': 6, 'optimist': 5, 'frome': 1, 'forgot': 1, 'kaexal': 1, 'pneumonai': 1, 'element': 46, 'urostomi': 3, 'dgt': 6, 'conlosomi': 1, 'nerv': 15, 'eright': 1, 'cheer': 2, 'intermediu': 11, 'ileoconduit': 1, 'actiivti': 1, 'scapular': 4, 'nauseau': 3, 'potasium': 1, 'puriti': 2, 'ivg': 1, 'stopper': 1, 'bmt': 10, 'miropenum': 1, 'ivig': 11, 'nhl': 5, 'friabl': 3, 'cephalasporin': 1, 'amul': 1, 'crossreact': 2, 'allo': 2, 'enterococc': 7, 'oxza': 11, 'pbec': 6, 'childlik': 1, 'tangl': 1, 'width': 11, 'bead': 3, 'simplest': 2, 'wimper': 1, 'dbp': 4, '^^dbp': 1, 'cervicomedullari': 1, 'overdos': 14, 'intto': 1, '^b': 1, 'medici': 1, 'perp': 4, 'infra': 5, 'exce': 3, 'unequ': 6, 'accapela': 1, 'dimins': 1, 'ocasion': 1, 'lisinpril': 2, 'creatanin': 2, 'regiment': 15, 'duti': 1, 'repositon': 3, 'overextend': 1, 'sel': 2, 'acepella': 2, 'orichectomi': 1, 'osteomylitit': 1, 'reslov': 2, 'secretio': 4, 'reass': 5, 'heartedli': 1, 'arouas': 1, 'child': 3, 'thera': 1, 'granulomatu': 1, 'pnc': 1, 'pjc': 2, 'execut': 1, 'reddn': 1, 'theravest': 1, 'sooner': 5, 'normoxia': 4, 'grabe': 1, 'reqir': 2, 'atempt': 4, 'caretak': 9, 'prsent': 2, 'dypsnea': 5, 'ofemal': 1, 'yhe': 2, 'frank': 41, 'inconten': 1, 'infultr': 1, 'ronchioru': 1, 'serav': 1, 'es': 2, 'volecula': 1, \"rx'ed\": 1, 'coarctat': 19, 'stenot': 6, 'zelnorm': 1, 'triscupid': 1, 'il': 4, 'iwth': 4, 'recordsno': 6, 'nivm': 1, 'vq': 5, 'renov': 2, 'phtn': 11, 'estblish': 2, 'formerli': 5, 'kl': 1, 'mangement': 4, 'bleeder': 1, 'methylypredison': 1, 'vertigo': 4, 'vasoconstrict': 1, 'pred': 23, 'propionibacterium': 1, 'linger': 4, 'pasp': 6, 'herpain': 1, 'ddimer': 4, 'preset': 2, 'suppelement': 1, 'diphtheroid': 1, 'emt': 7, 'tomorow': 2, 'woodi': 2, 'hyperpigment': 4, 'radium': 1, 'hiflo': 2, 'corynebacterium': 2, 'precipitatnt': 1, 'zaroxolyn': 2, 'wieght': 1, 'lbo': 1, 'sata': 3, 'positon': 2, 'incon': 2, 'palption': 1, 'aqaucel': 1, 'grn': 2, 'satisfcatori': 1, 'agait': 2, 'overnightm': 1, 'capsul': 18, 'localis': 1, 'hue': 2, 'du': 3, 'sheepskin': 1, 'vnetil': 1, 'positv': 1, 'hydralzin': 4, 'bigemni': 2, 'aquir': 13, 'defi': 1, 'infilt': 2, 'zaroxyln': 3, 'crrect': 1, 'pressr': 2, 'specimin': 2, 'sours': 2, 'hydralizn': 1, 'ldp': 1, 'sleev': 9, 'hydralalzin': 1, 'posteri': 1, 'respelar': 1, 'mediacl': 1, 'rectosigmoid': 6, 'breakdoown': 1, 'responc': 8, 'mmgh': 1, 'gantri': 1, 'mmeq': 1, 'coccyxx': 1, 'mulitpodu': 1, 'jt': 5, 'trachmask': 2, 'led': 13, 'collector': 1, 'crt': 5, 'formal': 32, 'feacal': 1, 'contorl': 2, 'resplor': 1, 'aircel': 1, 'cocyx': 4, 'yesturday': 4, 'clammi': 12, 'atheromat': 3, 'intraparenchym': 9, 'appropraitley': 1, 'givenk': 1, 'aggre': 1, 'vanginosi': 1, 'bibasilarli': 4, 'ampi': 1, 'dwi': 2, 'pyrexia': 44, 'appart': 2, 'seep': 1, 'ivfb': 4, 'acuiti': 7, 'purposeful': 1, 'bodili': 3, 'ocg': 1, 'noncommun': 5, 'aztronam': 1, 'gerner': 1, 'ozz': 1, 'trasnfer': 1, 'grion': 1, 'paracol': 8, 'fiscal': 1, 'hyperperfus': 1, 'oxycondon': 2, 'foreatrm': 1, 'zarolyn': 1, 'reschdul': 1, 'gingerli': 1, 'maintin': 2, 'occipt': 2, 'sooth': 2, 'discov': 9, 'nxt': 1, 'antx': 1, 'ordin': 1, 'necess': 5, 'montipodi': 1, 'mew': 2, 'loadli': 1, 'dysrhythmia': 10, 'uncomf': 1, 'agon': 3, 'fentali': 2, 'dinitr': 4, 'aka': 5, 'fluconasol': 1, 'pyret': 1, 'prosthes': 3, 'fsqid': 1, 'vaginosi': 2, 'elevi': 1, 'committe': 1, 'mininm': 1, 'zaroxlyn': 2, 'oedematu': 1, 'hlthi': 1, 'sulcal': 6, 'aztreoneum': 1, 'contast': 1, 'metalazon': 1, 'harden': 6, 'hosptial': 4, 'llarm': 2, 'wcc': 3, 'montioedu': 1, 'cpc': 1, 'wheex': 1, 'weean': 1, 'inconsitantli': 2, 'pericol': 2, 'ontinu': 2, 'survel': 3, 'eccomot': 1, 'stoll': 3, 'shorter': 17, 'weakish': 1, 'tilt': 8, 'hemiarthroplasti': 6, 'jg': 2, 'offens': 1, 'apperar': 1, 'mcqx': 1, 'perforati': 1, 'respalar': 2, 'olansapin': 1, 'cerebellar': 10, 'aztroneum': 1, 'cytotox': 2, '^p': 3, 'heprin': 6, 'pv': 8, 'toadi': 2, 'transud': 13, 'mononitr': 5, 'appaer': 1, 'bein': 1, 'kinder': 1, 'vasolin': 4, 'airclean': 1, 'septat': 8, 'anspir': 1, 'calculu': 9, 'abandon': 3, 'natg': 4, 'nitinol': 7, 'redund': 8, 'pullback': 2, 'ureter': 9, 'vicin': 2, 'jkpe': 5, 'gwp': 10, 'dependantli': 1, 'join': 3, 'intraretroperiton': 1, 'sincer': 1, 'tachyn': 3, 'serosangi': 2, 'gastrografin': 5, 'rhonchour': 6, 'irragt': 1, 'afflutt': 1, 'flagli': 4, 'sweati': 2, 'periost': 3, 'subtrochanter': 1, 'mycobacteri': 3, 'sutent': 2, 'metstat': 1, 'toast': 5, 'burden': 10, 'iliac': 41, 'acetabulum': 8, 'crest': 2, 'paraaort': 8, 'rcc': 7, 'restag': 1, 'nadolol': 3, 'pallor': 24, 'hydrochlorothiazid': 7, 'choleycsytectomi': 1, 'oxal': 2, 'levoflaoxacin': 1, 'bedrest': 13, 'ah': 7, 'avm': 5, 'varoc': 1, 'grandaugth': 1, 'zolpidem': 7, 'ursodiol': 4, 'wthdrawal': 1, 'vagal': 9, 'coax': 1, 'meanwhil': 4, 'escitalopram': 2, 'wn': 4, 'reble': 2, 'wd': 14, 'imfect': 1, 'ventric': 3, 'tachypenia': 1, 'whereupon': 1, 'gc': 3, 'intermmitantli': 1, 'pedicl': 7, 'flr': 2, 'somehat': 2, 'oppos': 8, 'strernal': 1, 'twave': 5, 'antizeizur': 1, 'subclin': 3, 'antiepilept': 2, 'transter': 1, 'esteras': 3, 'opposit': 2, 'deafferent': 1, 'sarcast': 1, 'quadriplegia': 5, 'unwit': 5, 'dysreflexia': 1, 'delir': 10, \"desat'd\": 1, 'caucasian': 5, 'automon': 1, 'intrathec': 3, 'epilepsi': 3, 'engin': 4, 'centrum': 6, 'cxwc': 11, 'jxrl': 14, 'illus': 1, 'magic': 2, 'colono': 1, 'moon': 1, 'tegretol': 4, 'carbetolol': 1, 'spring': 1, 'poop': 1, 'semest': 1, 'siezur': 8, 'pneumionia': 1, 'enulos': 1, 'minatin': 1, 'hyponateremia': 1, 'fish': 6, 'clonic': 6, 'kit': 8, 'glycerin': 1, 'ictal': 3, 'omega': 2, 'spark': 2, 'oxybutynin': 5, 'pseudamona': 2, 'pseudomon': 13, 'kaexyl': 2, 'tonic': 6, 'pertain': 3, 'parapsilosi': 2, 'wander': 6, 'nystagmu': 3, 'maker': 5, 'carbamezapin': 1, 'frankli': 5, 'ulcuer': 1, 'alphagan': 1, 'dysflexia': 1, 'quadraplegia': 4, 'mutlipl': 2, 'brimonidin': 2, 'lgr': 7, 'tbw': 3, 'faci': 1, 'funguria': 1, 'teacher': 2, 'travatan': 1, 'professor': 1, 'seixur': 1, 'pern': 1, 'initiali': 4, 'bacolfen': 1, 'ergocalciferol': 1, 'taut': 2, 'readdmit': 1, 'cardiogram': 1, 'recreat': 4, 'aeruginosa': 5, 'lomotrigen': 1, 'poisitv': 1, 'tibial': 42, 'bullet': 1, 'lter': 2, 'stopp': 2, 'instrument': 13, 'bactroban': 3, 'citi': 3, 'theet': 1, \"sat'\": 5, 'crept': 1, 'avaiabl': 1, 'diuress': 4, 'loculat': 1, 'anterio': 2, 'hematom': 1, 'urinalysi': 10, 'callu': 5, 'guag': 8, 'bizarr': 2, 'endplat': 17, 'anu': 4, 'videotap': 1, 'aam': 2, 'fordeti': 1, 'withl': 1, 'pdst': 1, 'intraop': 6, 'maiami': 1, 'hydrouret': 10, 'dislpay': 1, 'hemov': 1, 'stoo': 2, 'recit': 2, 'nsurg': 3, 'ivkcl': 1, 'revalu': 6, 'ise': 1, 'thoracoabdomin': 3, 'vertic': 12, 'dural': 5, 'breaktrough': 1, 'iliacu': 3, 'extradur': 2, 'crepid': 1, 'anbx': 21, 'dermatolog': 6, 'coears': 1, 'cauda': 6, 'schmorl': 4, 'retropharyng': 3, 'trendelenburg': 1, 'optimis': 1, 'piccl': 1, 'thorsic': 1, 'hemovac': 4, 'plethora': 4, 'withsmal': 1, 'tlso': 1, 'loww': 1, 'determi': 1, 'monotor': 2, 'cusp': 1, 'disciti': 4, 'aldacton': 6, 'herp': 15, 'comofrt': 1, 'equina': 6, 'stri': 1, 'punc': 1, 'execept': 1, 'malalign': 5, 'ilater': 1, 'unil': 1, 'duloxetin': 6, 'stylet': 7, 'applejuic': 1, 'infrahepat': 1, 'steri': 3, 'cariothorac': 1, 'drove': 2, 'vnetilatori': 1, 'oal': 1, 'ketamin': 1, 'psoa': 6, 'transmit': 11, 'aat': 2, 'prductiv': 1, 'fade': 5, 'mad': 2, 'easlli': 1, 'abc': 3, 'undersid': 3, 'limet': 1, 'canal': 21, 'thecal': 4, 'pu': 11, 'dependec': 1, 'toradol': 6, 'phlegmon': 2, 'ninth': 4, 'fectal': 2, 'bloodier': 1, 'gemini': 1, 'prepocedur': 1, 'kideni': 1, 'extrins': 5, \"sxn'ed\": 3, 'analges': 7, 'hxof': 2, 'propag': 1, 'unfett': 1, 'fascilit': 1, 'hypospadiu': 1, 'csft': 1, 'diagnsi': 1, 'psychoact': 4, 'thirti': 4, 'successful': 1, 'corticobas': 1, 'precedur': 1, 'aftr': 1, 'hesit': 10, 'anasarka': 1, 'erthemat': 2, 'throughoutth': 1, 'screener': 6, 'uosh': 1, 'trahc': 3, 'dfdgf': 1, 'alkaloti': 1, 'stich': 2, 'abmul': 1, 'concent': 1, 'venographi': 3, 'goiter': 6, 'biotic': 1, 'evacu': 15, 'rp': 14, 'faecium': 1, 'parkison': 1, 'pod': 15, 'anasarcoid': 4, 'ride': 6, 'cone': 2, 'giacc': 1, 'surgifoam': 1, 'elestoplast': 1, 'arris': 1, 'clearn': 1, 'granulomat': 9, 'sangun': 1, 'dimnish': 1, 'rigth': 3, 'seru': 1, 'pleuravac': 2, 'hopeful': 2, 'apa': 2, 'adress': 2, 'moisten': 3, 'increment': 6, 'pos': 2, 'faulti': 1, 'sofsorb': 2, 'instal': 5, 'honor': 1, 'cortico': 1, 'preocedur': 1, 'occluss': 1, 'intrapleur': 3, 'linezalid': 1, 'advnc': 1, 'pvsv': 1, 'inferomedi': 2, 'caught': 4, 'costodiaphragmat': 1, \"parkinsons'\": 1, 'thorocoscopi': 1, 'alquez': 1, 'fube': 1, 'thrombolyt': 1, 'paracetamol': 1, 'surgicel': 2, 'mbp': 1, 'upperlob': 2, 'innomin': 6, 'hounsfield': 8, \"mvm't\": 2, 'impercept': 1, 'thrach': 2, 'femer': 3, 'hydrogen': 2, 'lscl': 1, 'sangin': 1, 'consol': 5, 'toss': 4, 'inde': 6, 'necesit': 2, 'receivi': 2, 'cogniz': 1, 'stimualt': 2, 'rra': 1, 'diurisis': 1, 'linezilid': 1, 'bloodcx': 1, 'condtiion': 1, 'peroxid': 3, 'assciat': 1, 'applli': 1, 'sarcoma': 1, 'findibg': 1, 'inrr': 1, 'sangeou': 1, 'viscera': 7, 'comfortabley': 2, 'hemothorax': 8, 'errythema': 1, 'proc': 4, 'kaposi': 1, 'nostril': 12, 'sanguan': 1, 'susequ': 2, 'dow': 3, 'themselv': 2, 'sanguein': 1, 'souc': 2, 'lengthli': 2, 'cheat': 1, 'unblock': 2, 'trrend': 1, 'thoras': 6, 'thorocotomi': 2, 'gluconst': 1, 'approxam': 1, 'grimis': 1, 'hyoptn': 1, 'gastroesophag': 29, 'ruptur': 18, 'varicos': 3, 'intox': 7, 'acetmnphn': 3, 'gastroenterolog': 4, 'costrophren': 1, 'aton': 1, 'clearish': 1, 'spirat': 2, 'lemonad': 2, 'warn': 3, 'slawwolow': 1, 'poli': 26, 'tahbso': 1, 'ket': 5, 'proair': 2, 'notdon': 4, 'evista': 1, 'sink': 1, 'agap': 9, 'rqeaction': 1, 'scaphoid': 3, 'ndnt': 6, 'preferenti': 1, 'cytotec': 1, 'propoxyphen': 4, 'psychiatrist': 10, 'triamcinolon': 3, 'fibromyalgia': 3, 'bpd': 1, 'raloxifen': 1, 'antipyret': 6, 'tackynp': 1, 'cxrshow': 1, 'adam': 4, 'briefi': 1, 'folic': 13, 'pericardia': 2, 'probnp': 5, 'unisyn': 1, 'ref': 6, 'nco': 6, 'boderlin': 4, 'acetonid': 1, 'mthdne': 1, 'spegr': 1, 'pulsu': 6, 'tranferrin': 1, 'ctropnt': 2, 'reguir': 2, 'sublingu': 5, 'bso': 2, 'disku': 6, 'arthralgia': 10, 'perphenazin': 1, 'leter': 1, 'synopsi': 5, 'cigarett': 11, 'sentanc': 3, 'ibw': 10, 'barb': 3, 'phych': 1, 'amphet': 1, 'bj': 2, 'dlco': 2, 'unsaf': 13, 'nervosa': 2, 'conform': 3, 'butalbit': 2, 'treand': 2, 'weigh': 7, 'reman': 3, 'whitmil': 6, 'td': 12, 'withourt': 1, 'pown': 1, 'lump': 4, 'acet': 9, 'intensitif': 1, 'ht': 11, 'dextroamphetamin': 1, 'hc': 6, 'imipress': 1, 'fluoxetin': 4, 'urobil': 3, 'abstienc': 1, 'basex': 6, 'hfa': 3, 'breast': 38, 'sytem': 3, 'agonist': 3, 'compli': 7, 'introduct': 3, 'sillihett': 1, 'ptsd': 7, 'caff': 2, 'fioricet': 1, 'ptch': 6, 'amphetamin': 1, 'pft': 21, 'hemmorhoid': 2, 'nitr': 6, 'tah': 5, 'anorexia': 10, 'misoprost': 1, 'misoprostol': 1, 'lumpectomi': 7, 'ipa': 1, 'unalt': 4, 'tibc': 8, 'naproxen': 2, 'sulfasalazin': 3, 'gastriti': 17, 'handihal': 1, 'congenit': 19, 'secundum': 6, 'sniff': 8, 'jbre': 9, 'atrio': 5, 'mtp': 1, 'underexposur': 1, 'resembl': 2, 'hallux': 1, 'phalanx': 4, 'cmc': 2, 'valgu': 1, 'calcan': 1, 'congruent': 4, 'leftclip': 1, 'tuberculosi': 7, 'thoracoscopi': 4, 'phalang': 3, 'tubercul': 2, 'mortis': 3, 'styloid': 1, 'pleur': 1, 'talu': 3, 'undiagnos': 6, 'regist': 5, 'dwell': 5, 'armi': 1, 'dicuss': 1, 'formatio': 1, 'nct': 1, 'sternocleidomastoid': 3, \"lft'\": 5, 'bullou': 8, 'resuct': 1, 'wheen': 1, 'ultrsonograph': 1, 'splenul': 10, 'ation': 1, 'erron': 3, 'coccidiomycosi': 2, 'servi': 1, 'pils': 1, 'pleuro': 1, 'roadtrip': 1, 'quicki': 1, 'inaffect': 1, 'hematolog': 20, 'osmolit': 2, 'hre': 1, 'tracheomegali': 1, 'exub': 6, 'levofloxcin': 3, 'ichi': 1, 'reamain': 1, 'apetit': 11, 'snooz': 2, 'trandfer': 1, 'neub': 2, 'asper': 3, 'sbradi': 1, 'sternaum': 1, 'chet': 1, 'ventolin': 4, 'tachynep': 1, 'tenati': 1, 'insu': 1, 'raplac': 1, 'draian': 2, 'immmedi': 1, 'tensiv': 2, 'overngiht': 4, 'heartrat': 1, 'zooster': 1, 'ansthesia': 1, 'multpl': 3, 'lcw': 4, 'clotti': 1, 'suppoert': 1, 'pruiti': 1, 'consistanli': 1, 'randomli': 3, 'spound': 1, 'ssx': 1, 'incontinencr': 1, 'serosan': 1, 'onleft': 1, 'follo': 2, 'catc': 1, 'activeti': 1, 'sponteous': 1, 'wriiten': 1, 'zorviax': 1, 'amal': 2, 'zesteril': 1, 'epicard': 2, 'svg': 4, 'truck': 2, 'zoster': 13, 'sxnd': 4, 'bsp': 2, 'salvag': 2, 'pearll': 1, 'ey': 2, 'intermittingli': 2, 'incison': 1, 'blisteri': 1, 'consistli': 1, 'wih': 2, 'scrotal': 16, 'dression': 1, 'wcommand': 1, 'cheang': 1, 'aloevista': 1, 'dermotolog': 1, 'zoooster': 1, 'eccymoisi': 1, 'nooon': 1, 'euqal': 1, 'reavtiv': 1, 'everywher': 1, 'ligi': 1, 'adult': 10, 'sersang': 2, 'extremitli': 1, 'vericilla': 1, 'commnad': 4, 'dilatin': 3, 'vip': 3, 'waiv': 1, 'merpanem': 1, 'meripenem': 3, '\\x13transfer': 1, 'optmiz': 1, 'perepher': 1, 'whiel': 1, 'exaust': 1, 'copazin': 2, 'hereconfirm': 1, 'interig': 1, 'luekemia': 1, 'leukemia': 7, 'srackl': 1, 'anitcoagul': 1, 'continuo': 3, 'hyperecho': 8, 'urothelium': 1, 'clotimazol': 1, 'apppli': 2, 'scout': 16, 'peripelv': 1, 'ureteropelv': 1, 'furthermor': 8, 'wipe': 8, 'anitbx': 2, 'supersorb': 1, 'fenestr': 6, 'soluabl': 1, 'axil': 3, 'clotrimazol': 6, 'ccm': 1, 'evalua': 3, 'vad': 2, 'recomm': 2, 'tracheoinnomin': 1, 'ucerin': 1, 'adjunct': 3, 'pseudoaneurysm': 7, 'crusti': 4, 'regual': 1, 'foreign': 13, 'anticubit': 4, 'swallo': 2, 'amorph': 3, 'parapharyng': 1, 'laryngectomi': 2, 'blooy': 1, 'submandibular': 5, \"^'ng\": 1, 'fire': 8, 'rap': 10, 'autoduiresi': 1, 'greeen': 1, 'errl': 1, 'delus': 2, 'treponin': 1, 'allerigi': 1, 'enyzm': 1, 'positivli': 2, 'nephro': 2, 'qaudrant': 1, 'box': 7, 'diavan': 1, 'aful': 1, 'minimi': 2, 'exbub': 1, 'puppet': 1, 'remaain': 1, 'succes': 4, 'diagnsot': 1, 'noew': 1, 'hpp': 1, 'mjoriti': 1, 'doorway': 2, 'pregress': 1, 'recurrenti': 1, 'prograf': 3, 'jwk': 4, 'psup': 3, 'gbeen': 1, 'tripll': 1, 'keton': 9, 'slightk': 1, 'neurotin': 1, 'eyedrop': 2, 'effu': 6, 'flucanazol': 1, 'metaprolol': 4, 'ntp': 6, 'miseri': 1, 'combivir': 3, 'blacj': 1, 'swill': 1, 'knock': 4, 'funni': 2, 'dmi': 3, 'tessalon': 9, 'betadin': 3, 'ambein': 1, 'monthli': 6, 'cepacol': 2, 'lozeng': 3, 'comun': 3, 'prefe': 1, 'undertaken': 2, 'vl': 18, 'cyclosporin': 3, 'quinton': 3, 'enviro': 3, 'labatalol': 2, 'nown': 1, 'materail': 1, 'sinnis': 1, 'inquier': 4, 'nephrologist': 4, 'unsupervis': 2, 'ultrafiltr': 6, 'voluntari': 1, 'filtrat': 2, 'gurgl': 10, 'seconari': 1, 'dializ': 1, 'interf': 1, 'novea': 1, 'avtiv': 1, 'overwhelm': 9, 'cefrtiaxon': 1, 'activrti': 1, 'dispneaic': 1, 'albulterol': 1, 'leionella': 1, 'aoox': 7, 'ampicillan': 1, 'tilet': 1, 'ibd': 2, \"'thumb\": 1, 'nppv': 6, 'ciproflox': 1, 'ldn': 6, 'ngiht': 4, 'fbca': 4, 'electron': 9, 'recentlli': 1, 'tinea': 1, 'infitr': 5, 'recordsbelladonna': 1, 'nonocclus': 9, 'prohylaxi': 1, 'app': 5, 'bi': 6, 'warmth': 7, 'belladonna': 1, 'valerian': 1, 'mesalamin': 2, 'ivmeropenum': 1, 'alkaloid': 1, 'siunc': 1, 'prophylact': 20, 'mepliex': 1, 'poh': 1, 'microb': 2, 'nonbroken': 1, 'brca': 2, 'generak': 1, 'gleed': 1, 'acd': 6, 'thromboctopenia': 1, 'nightli': 5, 'swoll': 1, 'apppear': 3, 'sole': 6, 'hytrin': 1, 'cardiophren': 8, 'extract': 9, 'hyperv': 1, 'vist': 2, 'phi': 4, 'thoracentisi': 2, 'xygri': 2, 'likewis': 1, 'legioniella': 1, 'bcaus': 1, 'thorocentisi': 1, 'rslt': 1, 'spiromoeteri': 1, 'bracelet': 6, 'niddm': 8, 'glucaphag': 1, 'arter': 1, 'mutilobar': 1, \"tom'row\": 3, 'labour': 2, 'interstit': 4, 'inconclus': 5, 'reintroduc': 4, 'un': 8, 'delirum': 1, 'contrari': 1, 'physio': 2, 'paralys': 6, 'detemin': 1, '^doe': 1, 'floro': 1, 'curs': 2, 'nasagmu': 1, 'ststu': 1, 'evetu': 1, 'lye': 1, 'canot': 1, 'presen': 1, 'upperarm': 1, 'accustom': 1, 'meropanem': 1, 'trens': 1, 'aurgument': 1, 'bigemeni': 2, 'espec': 2, 'phlebotomi': 15, 'lipomat': 4, 'dubhoff': 6, 'nasointestin': 9, '^restless': 1, 'repletd': 1, 'funtion': 3, 'brreath': 1, 'amalys': 1, 'transfix': 2, 'pneumostat': 3, 'angular': 1, 'withstood': 1, 'tether': 6, 'ceph': 2, 'umbil': 12, 'powerpicc': 4, 'lltc': 12, 'intrabd': 2, 'unreli': 6, 'epidisod': 1, 'cogentin': 2, 'vew': 1, 'simethecon': 2, 'simethcon': 1, 'psychiatri': 12, 'consutl': 2, 'stelazin': 1, 'tobra': 6, 'pinpoint': 4, 'osteomyleti': 1, 'neural': 13, 'aveno': 1, 'tylenool': 1, 'rectovagin': 1, 'ostreomyl': 1, 'cape': 2, 'noncompress': 5, 'everythingthat': 1, 'lookup': 1, 'telelphon': 1, 'copious': 1, 'erthyma': 1, 'linezoid': 2, 'foramina': 4, 'ultrcal': 1, 'aveeno': 1, 'cheny': 2, 'drn': 1, 'obliter': 14, 'thrombophleb': 2, 'neurosurgeri': 5, 'bounc': 4, 'coach': 15, 'bister': 1, 'foramin': 11, 'loongterm': 1, 'erythma': 1, 'vetebr': 1, 'confusedat': 1, 'tremul': 14, 'debrit': 1, 'creast': 1, 'flakey': 2, 'johnson': 1, 'vooid': 1, 'flake': 15, 'demorol': 1, 'cha': 2, 'mentatl': 1, 'trumor': 1, 'diskiti': 3, 'repletet': 1, 'lysi': 5, 'intrisinc': 1, 'endocardidti': 1, 'mscontin': 1, 'dryness': 5, 'macular': 12, 'discectomi': 1, 'serous': 1, 'intraabd': 1, 'thinner': 7, 'veterbr': 1, 'hte': 4, 'intr': 1, 'resuscitaion': 1, 'dring': 1, 'salvo': 1, \"'infrequ\": 1, 'bloddi': 1, 'yesterdaym': 1, 'sugest': 1, 'ventriclar': 1, 'bdrest': 1, 'rhtym': 3, \"'call\": 1, 'parallel': 2, \"shock'\": 1, 'metaplasia': 2, 'myeloid': 1, 'cyberknif': 3, 'myelofibrsi': 1, 'sppleenectomi': 1, 'sideroblast': 1, 'admisson': 1, 'angioectasia': 2, 'adenocarcinoma': 17, 'pancreatectomi': 1, 'ctto': 1, 'regress': 12, 'pneurmothorax': 1, 'pneumoth': 2, 'analyz': 12, 'overinfl': 8, 'knob': 12, 'placmeent': 1, 'thoracoscop': 2, 'remaisn': 4, 'refrain': 2, 'infradiaphragmat': 3, 'orientedx': 7, 'unchnag': 1, 'ctpa': 7, 'uniformli': 4, 'diastasi': 3, 'cystoscopi': 6, 'ovarian': 6, 'nondepend': 6, 'cystocopi': 2, 'hernial': 1, 'tehn': 1, 'cardiovers': 14, 'fontal': 1, 'ceftrax': 1, 'superinmpos': 1, 'conc': 6, 'poisit': 1, 'lobd': 1, 'plenti': 4, 'popsickl': 1, 'mwintain': 1, 'discoordin': 6, 'energet': 1, 'indciat': 1, 'guifensan': 1, 'rocephin': 2, 'expectorationg': 1, 'physican': 1, 'eager': 5, 'venepunctur': 1, 'disclos': 4, 'unrepair': 1, 'hemiplegia': 5, 'hpa': 2, 'annoy': 2, 'everth': 1, 'vv': 2, 'volun': 1, 'coher': 7, 'inmmobil': 1, 'mersa': 1, 'rouseabl': 2, 'vaxcel': 6, 'sath': 1, 'float': 2, 'genamycin': 1, 'apnic': 6, 'instrins': 1, 'effusio': 5, 'clottedcan': 1, 'pentamidin': 3, 'mow': 1, 'miscarriag': 2, 'stiffen': 7, 'ptosi': 1, 'fistalugram': 1, 'hemorr': 1, 'outer': 4, 'postherpet': 1, 'faith': 1, 'angiodynam': 2, 'pregabalin': 3, 'silver': 6, 'herpet': 2, 'unus': 4, 'nephrolog': 6, 'effsuin': 2, 'allogen': 3, 'basilarli': 1, 'sidept': 1, 'allosct': 2, 'dapson': 4, 'guidenc': 1, 'gvhd': 2, 'lawn': 1, 'taco': 1, 'artifici': 5, 'neuralgia': 2, 'edeman': 2, 'cuffleak': 2, 'yhi': 1, 'cellult': 1, 'medcat': 1, 'microvessel': 1, 'flagi': 2, 'lvia': 3, 'thoracenteci': 1, 'awat': 2, 'encephalomalac': 2, 'semioval': 3, 'alz': 1, 'circl': 7, 'aca': 4, 'oropharnyx': 1, 'atropi': 1, 'claudi': 1, 'respiatori': 1, 'nigrostriat': 1, 'vene': 1, 'withbl': 1, 'resorpt': 4, 'inreas': 1, 'pulmicourt': 1, 'hypercapnia': 4, 'occason': 2, 'abmu': 1, 'banana': 15, 'coxxyx': 1, 'pulmonaari': 1, 'stiffli': 1, 'hyupernatremia': 1, 'kid': 3, 'greeninsh': 3, 'benepro': 2, 'pvo': 1, 'infsus': 1, 'caridac': 1, 'painkish': 1, 'inchair': 1, 'sechedul': 1, 'periodiac': 1, 'hedo': 1, 'trah': 2, 'reommend': 1, 'serosanquin': 1, 'pdr': 1, 'serviv': 1, 'expres': 2, 'coveral': 1, 'graini': 2, 'cautiosli': 1, 'unifib': 1, 'ncreas': 1, 'bumex': 3, 'aniticp': 1, 'unfib': 1, 'augmentin': 8, 'oder': 2, 'timefram': 1, 'drainaag': 1, 'striatoniagr': 1, 'mimick': 1, 'auscul': 2, 'alet': 1, 'grandkid': 1, 'malacia': 4, 'lesson': 1, 'elecatr': 1, 'psuedomona': 6, 'givenx': 2, 'tooth': 8, 'restatr': 2, 'trachesostomi': 1, 'individu': 6, 'mab': 1, 'dreainag': 1, 'porvid': 1, 'crackli': 3, 'readvanc': 3, 'pulmonarey': 1, 'diomax': 1, 'ecotpi': 2, 'jerk': 4, 'diruess': 1, 'optomist': 1, 'ivbx': 1, 'ectoy': 2, 'lowwer': 1, 'exager': 2, 'beneprotien': 3, 'mondday': 1, 'sputumwith': 1, 'grey': 7, 'undoubtedli': 2, 'dsa': 1, 'striatonigr': 1, 'laxix': 1, 'veneodyn': 1, 'characht': 1, 'benefib': 2, 'respatori': 1, 'occuls': 1, 'reflux': 26, 'suctionr': 1, 'configuart': 1, 'profici': 1, 'radiodens': 14, 'pulmacort': 1, 'facila': 1, 'utilis': 1, 'eyebrow': 4, 'pvco': 1, 'surprisingli': 2, 'vetil': 2, 'endotrachael': 1, 'frq': 1, 'bilaterlli': 1, 'muco': 1, 'dschrg': 1, 'audabl': 1, 'sut': 1, 'jxn': 3, 'hyperexpans': 8, 'aji': 13, 'overlap': 7, 'fibronodular': 2, 'otheriws': 1, 'thoracocentesi': 15, 'prandial': 2, 'thsi': 6, 'possiblu': 1, 'vivonex': 5, 'axaxox': 1, 'bill': 17, 'chase': 3, 'invert': 4, 'scotum': 2, 'robot': 1, 'scrotom': 1, 'fibrothorax': 1, 'atherosclerosi': 12, 'instant': 1, 'breakdownon': 1, 'wenkebach': 2, 'coper': 3, 'possib': 1, 'dgtr': 6, 'disassoci': 1, 'diauresi': 1, 'nkma': 3, 'creammi': 1, 'sevar': 1, 'electroly': 5, 'onflow': 1, 'haemodynam': 4, 'whiti': 1, 'rnage': 2, 'match': 12, 'swob': 1, 'levaqin': 2, 'eggcrat': 1, \"tx'ing\": 1, 'dissemin': 6, 'asplenia': 1, 'endolumin': 4, 'azithrommycin': 1, 'phantom': 2, 'insecur': 1, 'sprain': 1, 'shower': 2, '\\x13in': 1, 'profil': 5, 'meter': 1, 'bradycadia': 1, 'belch': 2, 'esbi': 1, 'pleasand': 1, 'postict': 1, 'insuffci': 2, 'uat': 2, 'aputum': 1, 'swivel': 3, 'sucion': 2, 'pneumopericardium': 1, 'amunt': 1, 'dextameth': 1, 'lucent': 8, 'fdp': 4, 'coomb': 1, 'resullt': 1, 'creme': 1, 'brownloos': 1, 'verc': 2, 'extubatiohn': 1, 'jct': 1, 'plani': 1, 'commernc': 1, 'beacus': 1, 'scedul': 1, 'metaclopromid': 2, 'secet': 4, 'troughout': 1, 'mucopurul': 1, 'buth': 1, 'sof': 3, 'trigemni': 1, 'blous': 14, 'examib': 1, 'confidenti': 1, 'nb': 5, 'amiodar': 1, 'plesa': 2, 'ventset': 2, 'vere': 1, 'doplpoff': 1, 'tacrolimu': 7, 'coverd': 2, 'deleriuo': 1, 'metaclorpromid': 1, 'trophic': 2, 'swet': 1, 'tardu': 1, 'appera': 2, 'afibril': 1, 'parenychym': 1, 'pendind': 1, 'cancal': 1, 'behaviuor': 1, 'lertharg': 1, 'cellphon': 1, 'unevet': 1, 'obsewrv': 2, 'hurricain': 5, 'metoclopromid': 2, 'suctioend': 1, 'sligthli': 1, 'dispar': 1, 'incit': 2, 'alteplas': 1, 'requirw': 1, 'sewll': 1, 'rentent': 1, 'halv': 4, 'hydrazalin': 3, 'parvu': 1, 'panctranspl': 1, 'aggressivf': 1, 'diursesi': 3, 'vert': 2, 'bolous': 1, 'pepp': 1, 'dizzli': 1, 'agitataion': 2, 'sidehol': 9, 'refelx': 1, 'alsix': 1, 'fentani': 3, 'unable\\x13': 1, 'bols': 3, 'initillay': 1, 'sennakot': 2, 'mt': 8, 'doploff': 3, 'lw': 13, 'easliy': 1, 'ored': 4, 'orientata': 2, 'aveolar': 1, 'incresas': 2, 'valubl': 2, 'cocial': 1, 'psotion': 1, 'hymidifi': 1, 'eplac': 1, 'cvvh': 9, 'dopoff': 3, 'arintg': 1, 'inconstit': 1, 'ventulat': 1, 'pateint': 3, 'virtual': 2, 'flushe': 1, 'comfus': 1, 'liler': 1, 'nonfoc': 11, 'afternnon': 2, 'focsu': 1, 'trake': 1, 'yankaar': 2, 'nocal': 1, 'kayaxal': 1, 'vancomysin': 2, 'methylpr': 8, 'pseudomonax': 1, 'dessert': 1, 'rbc': 43, 'desert': 1, 'legionair': 1, 'bbl': 7, 'ptca': 5, 'oseo': 1, 'iga': 5, 'abn': 3, 'ceftriazon': 6, 'lifestyl': 3, 'ccb': 6, 'hdr': 3, 'corn': 1, 'singulair': 10, 'dog': 4, 'parasthesia': 7, 'sedentari': 5, 'specgr': 2, 'muffin': 2, 'serogroup': 6, 'dipstick': 2, 'scrambl': 3, 'uric': 6, 'titropium': 1, 'assistx': 1, 'sg': 6, 'scn': 2, 'plexi': 1, 'discard': 6, 'kick': 19, 'eys': 1, 'msi': 3, 'cocnsist': 1, 'mystatin': 1, 'warmer': 5, 'resperadol': 1, 'nasaotrach': 1, 'aztriman': 1, 'soupi': 1, 'thic': 4, 'mva': 15, 'school': 7, 'adopt': 1, 'rush': 4, 'bronchodial': 3, 'robituss': 2, 'dulcalox': 1, 'strept': 5, 'spironmet': 1, 'continuosli': 1, 'bet': 1, 'bwel': 1, 'extuba': 3, 'throughotu': 1, 'hydraliazin': 1, 'amantidin': 2, 'hepatopet': 26, 'concav': 4, 'amantadin': 2, 'prolap': 1, 'urbc': 2, 'illeu': 2, 'infusimg': 1, 'edemam': 1, 'furter': 2, 'cracl': 3, 'iabp': 5, 'ovenroc': 1, 'nitor': 1, 'doapmin': 1, 'lorpessor': 2, 'fingertip': 3, 'hemangioma': 16, 'breathinhg': 1, 'cervix': 2, 'condtion': 1, 'monito': 5, 'painfre': 2, 'dopamamin': 1, 'esstenti': 1, 'tng': 2, 'ith': 2, 'quadripl': 1, 'gasseou': 2, 'abdomini': 4, 'posteromedi': 1, 'saph': 1, 'excis': 8, 'heimlich': 1, 'colonca': 1, 'pneumothoorax': 1, 'subc': 2, 'platelik': 3, 'curvilinear': 7, 'pmreassess': 1, 'pbm': 1, 'sicuss': 1, 'aresol': 2, 'thermomet': 4, 'tacro': 3, 'ordrer': 1, 'row': 7, 'anaphylaxi': 15, 'par': 2, 'hydromorphon': 12, 'sesni': 1, 'hyperk': 2, 'stabal': 8, 'trx': 1, 'enterococ': 2, 'lrd': 2, 'negativetri': 1, 'ws': 4, 'brittl': 2, 'pleuret': 1, 'thrombos': 4, 'ostium': 2, 'myucomyst': 1, 'bronc': 3, 'tens': 9, 'dxae': 2, 'tracheobronchomalacia': 9, 'tropinin': 4, 'protoc': 2, 'hjr': 3, 'tendor': 2, 'carev': 2, 'acromiohumer': 1, 'glenoid': 7, 'resusciat': 1, 'coracoclavicular': 1, 'aurea': 1, 'widow': 3, 'plerual': 2, 'lymphocyt': 9, 'shrunken': 4, 'venotomi': 7, 'cholecysti': 1, 'direcl': 1, 'adnex': 5, 'perisplen': 4, 'mesaur': 1, 'incompletley': 1, 'pbishop': 2, 'mgi': 15, 'dlp': 15, 'intubt': 2, 'circumflex': 3, 'dysynchron': 12, 'ovari': 5, 'stbale': 4, 'contrastclip': 3, 'paravertebr': 3, 'ath': 1, 'coupiou': 2, 'comminut': 8, 'secreiton': 1, 'commnand': 2, 'respn': 1, 'patinet': 4, 'emphyema': 1, 'sersanguin': 1, 'clind': 1, 'apeci': 2, 'interphalang': 1, 'pneumthorax': 2, 'cga': 9, 'avss': 4, 'clindaycin': 1, 'mob': 2, 'synch': 4, 'periar': 1, 'atelectact': 1, 'shuffl': 1, 'wriet': 1, 'mediat': 6, 'vaco': 2, 'sabl': 1, 'dischrg': 1, 'downsiz': 5, 'donw': 1, 'aaaaawait': 1, 'placemnt': 2, 'nonfenestr': 1, 'apin': 3, 'hemecult': 1, 'hcyt': 1, 'accep': 1, 'thikc': 2, 'exacerbaion': 1, 'antiretrovir': 2, 'solat': 1, 'brew': 3, 'becaom': 2, 'cf': 4, 'afebil': 5, 'synchroni': 3, 'tepid': 3, 'softwrist': 1, 'rpicc': 2, 'adlib': 1, 'backach': 3, 'acoupl': 1, 'sppech': 3, 'nystain': 1, 'lipim': 1, 'isolat': 1, 'ur': 1, 'lasx': 1, 'bedisd': 1, 'tast': 1, 'craet': 1, 'frequentstrong': 1, 'tychypn': 1, 'doubleguard': 5, 'ontrach': 1, 'secrertt': 1, 'bottock': 1, 'subseq': 1, 'nauseou': 4, 'knownor': 1, 'tool': 1, 'paitent': 5, 'manuev': 1, 'island': 7, 'sutol': 1, 'comod': 1, 'legibl': 3, 'rpiv': 2, 'cuffless': 5, 'tacycard': 1, 'krohn': 1, 'vx': 4, 'nitrotab': 1, 'cardial': 1, 'expos': 7, 'signigic': 1, 'indiscret': 2, 'dysphasia': 4, 'copn': 1, 'approrpi': 1, 'mediastinosccopi': 1, 'ceftazdim': 1, 'south': 3, 'uprigh': 1, 'retrocardi': 2, 'transferrd': 1, 'ovoid': 3, 'dysarthr': 3, 'wich': 2, 'earlili': 1, 'pluggin': 1, 'invent': 1, 'multcn': 1, 'aebc': 2, 'encas': 8, 'costal': 5, 'emphysemia': 1, 'dilodid': 2, 'adjoin': 1, 'charcot': 2, 'malleolu': 1, 'trimalleolar': 1, 'uren': 1, 'callus': 1, 'calcaneu': 1, 'malleolar': 1, 'fibular': 2, 'varu': 1, 'oxicodon': 2, 'angul': 7, 'fragment': 9, 'fibula': 4, 'bimalleolar': 1, 'neuropath': 4, 'talar': 1, 'plafond': 1, 'hindfoot': 1, 'disrupt': 4, 'optic': 1, 'wolfram': 2, 'nonhemorrhag': 17, 'ulrasound': 1, 'requiremnt': 1, 'wolfran': 2, 'yello': 3, 'fishi': 1, 'vag': 2, 'prog': 4, 'oximet': 2, 'titat': 1, 'lbbb': 10, 'captopr': 2, 'coocx': 1, 'retim': 1, 'emoli': 1, 'sod': 1, 'sxp': 1, 'readmiss': 6, 'becuas': 2, 'incidnet': 1, 'statusa': 1, 'lop': 2, 'mediastium': 1, 'difficultli': 3, 'respoit': 1, 'vacular': 2, 'stnet': 1, 'deped': 2, 'proscar': 1, 'microabras': 1, 'maintenac': 1, 'seriel': 4, 'midstern': 5, 'assymptomat': 2, 'distned': 1, 'cortison': 2, 'silli': 1, 'srx': 1, 'gramstain': 1, 'mstemi': 1, 'thankgiv': 1, '^cri': 1, 'tangenti': 1, 'unmeasur': 1, 'mdnoc': 2, 'substern': 7, 'sevelamir': 3, 'cozaar': 3, 'nifedepin': 1, 'righ': 2, 'crossmathc': 1, 'sarcoid': 8, 'mrv': 2, 'binder': 7, 'crampo': 1, 'zpak': 2, 'tmp': 13, 'amox': 2, 'nifedipin': 15, 'mptb': 6, 'heav': 12, 'hyperthermia': 42, 'convent': 9, 'losdartan': 1, 'prescribt': 1, 'contineu': 2, 'vanocmycin': 2, 'bactrimm': 1, 'rbb': 1, 'hematemesi': 5, 'niifedipin': 1, 'graph': 2, 'matur': 4, 'polit': 2, 'melanot': 5, 'avgraft': 1, 'hydroxysin': 1, 'crossmatch': 5, 'clavulan': 2, 'episodex': 1, 'bracheocephal': 2, 'plz': 3, 'smx': 13, 'pruritu': 4, 'glomerular': 2, 'quaic': 1, 'notif': 9, 'phleb': 1, 'xerofoam': 1, 'reoccurr': 2, 'diverticulti': 1, 'diveriticul': 1, 'clump': 1, 'colonscopi': 2, 'prepe': 1, 'maroon': 7, 'antibioticss': 1, 'lforearm': 1, 'anticholinerg': 3, 'magmt': 1, 'remiand': 1, 'hyperglycamia': 1, 'hyperglycem': 13, 'colitisrequir': 1, 'lobectomyand': 1, 'whe': 3, 'appitit': 9, 'hyperluc': 6, 'pharm': 8, 'klonipin': 3, 'confim': 1, 'deepbreath': 1, 'overexpand': 1, 'reuir': 1, 'panicki': 2, 'guiafenesin': 5, 'porgress': 1, 'cahir': 2, 'throbe': 1, 'flatuat': 1, 'amikacin': 9, 'antibioticd': 1, 'psuedmona': 1, 'kexel': 1, 'blod': 5, 'rant': 3, 'aabg': 1, 'chset': 1, 'exersic': 1, 'tiger': 1, 'extrimitit': 1, 'ressect': 1, 'tiopropium': 1, 'lumin': 3, 'olac': 2, 'dribbl': 1, 'agbg': 1, 'sution': 2, 'pendinf': 1, 'luq': 8, 'milder': 5, 'paxil': 9, 'inhail': 2, 'fortaz': 2, 'morpin': 4, 'ocean': 1, 'slighti': 3, 'sweater': 2, 'illeostomi': 2, 'lquid': 2, 'leveqiun': 1, 'tipotropium': 1, 'inpast': 1, 'lfa': 3, 'conditoin': 1, 'revieew': 1, 'papsp': 1, 'psuedamonu': 1, 'illoestomi': 1, 'modal': 3, 'peudamona': 1, 'blown': 1, 'serv': 6, 'makept': 1, 'inncid': 1, 'prece': 1, 'sulphat': 3, 'intolerac': 1, 'azitinem': 1, 'tackycard': 1, 'lbrach': 1, 'duaderm': 2, 'adheas': 1, 'zyvox': 2, 'norom': 1, 'chnged': 1, 'physicv': 1, 'ren': 1, 'eventhough': 1, 'breathin': 2, 'breathig': 1, 'availabilti': 1, 'pipe': 2, 'pseudamonsa': 1, 'oncontact': 1, 'unrin': 1, 'linein': 1, 'iliostomybag': 1, 'dur': 4, 'lidcain': 1, 'rrad': 1, 'graduat': 2, 'hyperkalem': 5, 'hcap': 38, 'howvev': 1, 'catalogu': 1, 'cholangio': 2, 'metoprol': 3, 'paliat': 1, 'adenoca': 5, 'tbili': 13, 'melanoma': 7, 'doublecoverag': 1, 'legion': 1, 'amoxicillin': 8, 'lbp': 5, 'finasterid': 2, 'dysautonomia': 2, 'cholangioca': 1, 'obstain': 1, 'excrori': 1, 'lexapro': 8, 'unicentr': 1, 'primidon': 4, 'receivl': 1, 'ercp': 10, 'reigmen': 1, 'laproscop': 1, 'tugor': 2, 'refresh': 1, 'amiodipin': 2, \"piv'\": 8, 'piviot': 2, 'chic': 1, 'bliari': 1, 'misattach': 2, 'fistuologram': 1, 'enterocutan': 2, 'castleman': 1, 'olecranan': 1, 'pelv': 3, 'endpoint': 2, 'successu': 1, 'nutrion': 2, 'choledocholithiasi': 4, 'azotemia': 9, 'antiparkinson': 2, 'taker': 1, 'ronchor': 16, 'orif': 12, 'elast': 2, 'wallpap': 1, 'fistul': 3, 'ment': 2, 'hida': 5, 'radiographi': 5, 'dyskinet': 2, 'interior': 1, 'ioversol': 1, 'dex': 4, 'respirophas': 1, 'csurg': 6, 'poi': 1, 'laxiti': 3, 'transcutan': 3, 'pec': 1, 'turner': 1, 'optimum': 1, 'aortobi': 1, 'wak': 1, 'visipaqu': 5, 'instraspin': 1, 'shield': 1, 'nv': 3, 'cerebellum': 6, 'destroy': 3, 'paraesophag': 7, 'percept': 1, 'spinou': 2, 'lunc': 1, 'avid': 9, 'encroach': 3, 'pet': 17, 'imping': 9, 'intraoss': 2, 'erod': 5, 'uncovertebr': 3, 'aspergillu': 11, 'invad': 7, 'brainstem': 2, 'pneumonectomi': 5, 'abssent': 1, 'downt': 2, 'nebsq': 1, 'openingli': 1, 'bronchorrhea': 1, 'initial': 1, 'respirtori': 4, 'cannul': 5, 'hematuirc': 1, 'soflti': 4, 'afeebril': 1, 'detial': 3, 'satisafcatori': 1, 'ywlloe': 1, 'memeori': 1, 'inpuls': 1, 'agitata': 1, 'nosocomi': 15, 'clipboard': 4, 'continuu': 1, 'sctlc': 1, 'therapistin': 1, 'agian': 3, 'sliip': 1, 'necklac': 2, 'reviw': 2, 'sedtaion': 1, 'realt': 2, 'lithiumm': 1, 'scarum': 1, 'vodka': 5, 'stack': 2, 'wiothout': 1, 'efeect': 1, 'papain': 1, \"cont'd\": 1, 'wavsform': 1, 'slid': 2, 'hypotent': 7, 'veceronium': 2, 'prozac': 6, 'operta': 1, 'therfeor': 1, 'butt': 5, 'risisng': 1, 'unclog': 1, 'databas': 2, 'sba': 1, 'betwwen': 1, 'corsintropin': 1, 'slighli': 5, 'myelodysplast': 2, 'perisist': 2, 'thkish': 2, 'emet': 1, 'church': 2, 'gancyclovir': 3, 'daughetr': 1, 'softer': 8, 'declar': 2, 'meant': 3, 'anzamet': 1, 'espeic': 2, 'movemnt': 1, 'treach': 1, 'micxumi': 1, 'guardianship': 5, 'improvementtv': 1, 'delasetron': 1, 'clsose': 1, 'allevi': 12, 'cortistim': 1, 'contit': 1, 'trcheotomi': 1, 'upprt': 2, 'ramain': 1, 'imepenim': 1, 'represn': 1, 'paid': 2, 'circuit': 7, 'swing': 6, 'na^^': 1, 'dermoid': 1, 'cure': 2, 'succinctli': 1, 'erali': 1, 'strptomycin': 1, 'tylenolx': 1, 'whithin': 1, 'tel': 1, 'custodi': 3, 'becan': 1, 'usction': 1, 'vegit': 6, 'magazin': 3, 'discrep': 6, 'regurgat': 1, 'allerig': 2, 'mcl': 1, 'lsw': 1, 'communic': 1, 'weam': 1, 'sickl': 1, 'urs': 1, 'inermit': 1, 'decend': 2, 'chalki': 1, 'digest': 2, 'imepenum': 1, 'imipenam': 1, 'tnick': 1, 'rojm': 1, 'hemisper': 1, 'agatroban': 1, 'diuris': 4, 'echoli': 1, 'isoniazid': 2, 'edemed': 1, 'lbmx': 2, 'trede': 3, 'streptomycin': 1, 'sectreion': 1, 'recc': 10, 'commnec': 1, 'reimag': 7, 'tolaret': 1, 'interac': 1, 'cecum': 8, 'ladder': 1, 'daptomycin': 2, 'respiartori': 1, 'afrebril': 2, 'mdo': 1, 'anzement': 1, 'rapport': 7, 'dolasetron': 1, 'rip': 3, 'pltl': 1, 'spkie': 2, 'blank': 2, \"'scvp\": 1, 'antiemet': 4, 'ndari': 1, 'decreasedin': 1, 'haematuria': 2, 'sleav': 2, 'scretion': 1, 'ambisom': 2, 'uterin': 5, 'dampn': 1, 'rifampin': 6, 'ethambutol': 1, 'plumonari': 1, 'gender': 3, 'guaz': 3, 'raeb': 1, 'el': 2, 'phrase': 7, 'relet': 1, 'drning': 1, 'matreess': 1, 'abrasionx': 1, 'prcedur': 1, 'portclip': 3, 'rhonchiou': 2, 'unconsci': 1, 'alongsid': 10, 'uss': 1, 'anzimetx': 1, 'physiotherapi': 3, 'vicari': 3, 'prresent': 1, 'neostigman': 1, 'reexpand': 2, 'collectio': 2, 'benedryl': 4, 'sponten': 3, 'prr': 1, 'suppert': 1, 'pleuroparenchym': 4, 'subpoena': 1, 'watersh': 3, 'tahypn': 1, 'theori': 3, 'pyrazanamid': 1, 'mtb': 3, 'srat': 1, 'trait': 3, 'encrust': 1, 'propos': 4, 'brighter': 3, 'routinc': 1, 'shifwt': 1, 'lishen': 1, 'serosangin': 3, 'coagulopath': 3, 'weamn': 1, 'opinion': 7, 'apprpriat': 1, 'clott': 1, 'arteriogram': 3, 'spile': 1, 'perrlaa': 1, 'overdiures': 2, 'erythro': 2, 'vomitu': 2, 'diusesi': 1, 'conjuct': 2, 'uffp': 2, 'sag': 1, 'solv': 3, 'cist': 1, 'trasfus': 2, 'speciment': 1, 'medciat': 2, 'retun': 1, 'sluggisli': 2, 'regland': 1, 'coma': 4, 'cistatiacurium': 1, 'mosltli': 1, 'glden': 1, 'hyoactiv': 1, 'acidod': 2, 'transderm': 2, 'urien': 2, 'unopen': 2, 'anpea': 1, 'popit': 2, 'periorbi': 1, 'throughouth': 1, 'antibiotic': 1, 'consistentwith': 1, 'displeas': 1, 'rotorest': 1, 'unitl': 3, 'pronat': 3, 'progr': 3, 'adminis': 1, 'balacn': 2, 'wi': 4, 'klonapin': 2, 'inhlaer': 1, 'supplemet': 1, 'getout': 1, 'luung': 1, 'cisatracurium': 2, 'pharmacuet': 1, 'maitian': 1, 'mainatinig': 1, 'proprofol': 3, 'tign': 1, 'midesophagu': 1, 'unrais': 1, 'uurs': 1, 'dop': 10, 'morphein': 1, 'nsicu': 1, 'audubl': 1, 'essent': 2, 'pharmacist': 5, 'demarc': 4, 'apen': 4, 'redsid': 1, 'notenurs': 1, 'riedel': 1, 'resond': 3, 'puil': 2, 'mang': 3, 'blanc': 2, 'deffer': 5, 'dopov': 1, 'depsit': 2, 'hypocapnea': 1, 'venil': 1, 'expwhe': 1, 'tronchoscopi': 1, 'nursng': 1, 'tomorrrow': 2, 'multiposu': 1, 'periorbit': 4, 'triadyn': 7, 'resov': 2, 'eupport': 1, 'witn': 1, 'nlargement': 1, 'paral': 1, 'socialwork': 2, 'bilaer': 1, 'cisatraciriuum': 1, 'humulin': 5, 'malasia': 2, 'mehtadon': 1, 'pentobarbitol': 1, 'peed': 1, 'iniatilli': 1, 'emeg': 1, 'hypergycem': 1, 'mojor': 1, 'haslimit': 1, 'suporrt': 1, 'concult': 1, 'wdi': 6, 'amoount': 2, 'betetr': 1, 'superad': 1, 'andtherefor': 1, 'refex': 1, 'kink': 7, 'combo': 4, 'slep': 1, 'hyperoxia': 2, 'ivl': 2, 'bmp': 1, 'omg': 1, 'sort': 8, 'dioppler': 1, 'ureg': 1, 'refferr': 2, 'pali': 2, 'lenghti': 1, 'mind': 10, 'auscultaion': 1, 'sputim': 1, 'comgeal': 1, 'z': 4, 'dtiff': 1, '^hr': 3, 'recess': 5, 'clasp': 1, 'uncomforatbl': 1, 'discomfor': 1, 'opsit': 2, 'conclud': 5, 'musculatur': 6, 'belief': 1, 'fgiven': 1, 'abdom': 2, 'futil': 3, 'tcdp': 5, 'grimi': 1, 'attmpt': 3, 'ite': 1, 'sadd': 1, 'multiposi': 2, 'oppinion': 1, '^^hr': 2, 'contct': 1, 'braclet': 1, 'slightest': 2, 'offabx': 1, 'hro': 1, 'sercet': 1, 'intervascular': 1, 'fluc': 8, 'cholang': 7, 'anlkl': 1, 'uncov': 3, 'faili': 2, 'bot': 2, 'evem': 1, 'frustrarion': 1, 'pnumo': 1, 'trueli': 1, '^na': 1, 'fellto': 1, 'lest': 1, 'fowl': 2, \"ambu'\": 2, 'mmove': 1, 'residul': 2, 'ba': 17, 'religi': 1, 'hypotensv': 1, 'incresinng': 1, 'devid': 1, 'sart': 2, 'abf': 1, 'pancx': 4, 'repleatd': 1, 'dnuero': 1, 'linesit': 1, 'lasisx': 1, 'vomitig': 1, 'nasaal': 1, 'coough': 1, 'commsnd': 1, 'plummet': 1, 'inadvertantli': 1, 'inadvertenti': 1, 'awarenss': 1, 'cab': 4, 'diminih': 2, 'voucher': 2, 'prescript': 9, 'otherw': 1, 'boredom': 1, 'mentaton': 1, 'icteru': 29, 'gut': 10, 'crtx': 1, 'upstrok': 6, 'song': 1, 'nightsweat': 3, 'pyriform': 9, 'girmmac': 1, 'intubati': 1, 'persantin': 3, 'ideat': 5, 'lengthen': 4, 'prednisom': 1, 'ulyt': 4, 'levit': 1, 'mofetil': 3, 'chol': 4, 'transpos': 1, 'represent': 2, 'cce': 1, 'endocrinologist': 2, 'vf': 1, 'requiringhd': 1, 'normoglycemia': 1, 'acur': 2, 'srh': 4, 'qmi': 1, 'faiulr': 6, 'biomark': 9, 'closley': 2, 'eosinophilia': 12, 'enalopril': 2, 'restat': 1, 'poetri': 1, 'decerebr': 1, 'cadaver': 1, 'unsign': 1, 'tn': 6, 'vfib': 4, 'diabetesi': 1, 'bumetanid': 2, 'subcot': 1, 'xplant': 1, 'model': 9, 'dispens': 4, 'auth': 1, 'mmf': 4, 'pravastat': 1, 'ketoacidosi': 1, 'begn': 1, 'cyclic': 2, 'exept': 2, 'toiltet': 3, 'fumar': 5, 'vronch': 1, 'ldl': 2, 'poem': 1, 'wma': 6, 'mycophenol': 4, 'resovlv': 1, 'clonzapam': 1, 'funciton': 1, 'brochospasm': 1, 'camb': 1, 'fexofenidin': 1, 'nitrofurantoin': 6, 'leukokcytosi': 1, 'awail': 1, 'lood': 2, 'angin': 4, 'videofluoroscop': 8, 'cryoptherapi': 1, 'fluvoxamin': 1, 'dextro': 1, 'cariac': 1, \"i'li\": 1, 'click': 2, 'precert': 1, 'ppft': 4, 'seroqul': 1, 'fahrenheit': 1, 'ridg': 3, 'inord': 2, 'accommod': 2, 'waev': 2, 'seroquil': 4, 'tacrol': 1, 'osmot': 2, 'df': 13, 'lactam': 4, 'viedo': 1, 'commit': 5, 'goc': 6, 'smmhg': 1, 'purposefuli': 1, 'stanc': 2, 'intravascularli': 14, 'immigr': 1, 'haltol': 1, 'gej': 1, 'immunesuppress': 2, 'dyskinesi': 2, 'continun': 1, 'ganglia': 10, 'velar': 3, 'betalactam': 1, 'uppermost': 3, 'sysotl': 2, 'spew': 1, 'chd': 1, 'unintent': 1, 'da': 5, 'unretract': 1, 'andvanc': 1, 'hdl': 3, 'pravastatin': 7, 'russia': 1, 'quot': 2, 'vfa': 1, 'edentul': 11, 'ivpwith': 1, 'bronchomalacia': 5, 'xyphoid': 2, 'pmibi': 2, 'whee': 1, 'delusion': 2, 'rrom': 1, 'behavoir': 2, 'advisor': 3, 'lobbi': 2, 'converstaion': 1, 'whcih': 2, 'escort': 3, 'bourbon': 1, 'ventricuilar': 1, 'aros': 1, 'caythet': 1, 'comfirm': 2, 'albtuerol': 2, 'aval': 2, 'vioxx': 1, 'defiecit': 1, 'disect': 2, 'gaurd': 4, 'diffaculti': 1, 'manor': 2, 'aodm': 2, 'pleasw': 1, 'agil': 1, 'roof': 3, 'suctioningx': 1, 'chunk': 2, 'wnt': 1, 'furhter': 4, 'aspleen': 1, 'accordf': 1, \"mov't\": 1, 'whenn': 1, 'awel': 1, 'nine': 7, 'allen': 1, 'ahen': 1, 'biatrial': 3, 'baqth': 1, 'appetiet': 1, 'perpipher': 2, 'foloow': 3, 'lymphangit': 7, 'floswsheet': 1, 'nasasl': 1, 'origion': 1, 'rescussit': 2, 'bouls': 1, 'probuct': 1, 'residua': 5, 'diarreah': 1, 'negit': 2, 'pleuric': 1, 'coorel': 2, 'yaunk': 1, 'sistend': 1, 'accquir': 1, 'occcasion': 1, 'maintian': 5, 'cbp': 4, 'memeb': 1, 'interup': 5, 'fructur': 1, 'hipoxia': 1, 'effuis': 1, 'replecmenbt': 1, 'tarnsfr': 1, 'arousabel': 1, 'park': 6, 'deseas': 1, \"pe'\": 2, 'conferm': 1, 'elevet': 2, 'ensym': 1, 'anwser': 1, 'cavogram': 1, 'retin': 1, 'portacath': 11, 'tylenlol': 1, 'tolerat': 1, 'nactiv': 1, 'portocath': 2, 'gingeral': 5, 'combi': 2, 'dateto': 1, 'hypertent': 1, 'nfb': 4, 'psychot': 7, 'hcit': 1, 'penidng': 2, 'quarter': 8, 'wqith': 3, 'atert': 1, 'vte': 6, 'approprait': 1, 'deepen': 1, 'pasti': 4, 'atrest': 1, 'surrent': 1, 'million': 4, 'cocyyx': 1, 'stiil': 1, 'perip': 2, 'ocassioan': 1, 'bolos': 1, 'isod': 1, 'substitut': 4, 'generalis': 2, 'backupset': 1, 'auscalt': 1, 'buttuck': 4, 'experenc': 1, 'penicllan': 1, 'lisw': 4, 'wavew': 1, 'sex': 1, 'coaars': 1, 'aoung': 1, 'oar': 1, 'hypervolem': 8, 'sctl': 2, 'hich': 1, 'valastran': 1, 'thinnet': 1, 'wg': 2, 'readminist': 1, 'currenltli': 1, 'softlt': 1, 'vet': 2, 'lmp': 3, 'hey': 1, '^ing': 1, 'seroussang': 1, 'quaniti': 2, 'ral': 1, 'magsulf': 1, 'pne': 1, 'shampoo': 1, 'cvc': 9, 'asbp': 1, 'creap': 1, 'microgram': 1, 'bicuspid': 2, 'streptococc': 1, 'methyprednison': 3, 'ribavarin': 1, 'counsel': 6, 'decomepns': 1, 'galactomannan': 17, 'galactomanan': 4, 'mineralocorticoid': 1, 'hydrocodon': 10, 'possibiliy': 1, 'fludrocortison': 3, 'polycythemia': 3, 'gg': 7, 'interferon': 3, 'betaglucan': 1, 'assertain': 1, 'pica': 2, 'mone': 1, 'pupl': 3, 'discribt': 1, 'cortef': 2, 'initilli': 1, 'ciger': 1, 'mastoidectomi': 1, 'malform': 2, 'suboccipit': 1, 'crave': 1, 'diaprosi': 1, 'comfrtabl': 1, 'bagun': 1, 'oesophag': 1, 'lfluid': 1, \"did't\": 1, 'opr': 1, 'ogd': 1, 'chicken': 2, 'noodl': 2, 'jejunocutan': 1, 'unaffect': 2, 'strictur': 14, 'rulobectomi': 1, 'quesiton': 3, 'multivessel': 7, 'subtherapi': 1, 'ygd': 7, 'sobclin': 1, 'whith': 2, 'agb': 1, 'imitrex': 2, 'gvn': 1, 'seroid': 1, 'initrex': 1, 'minit': 1, 'gassi': 4, 'nectrar': 1, 'lev': 1, 'anxioud': 1, 'vegetarian': 4, 'jovial': 1, 'trazedon': 3, 'dypneic': 1, 'ahv': 2, 'mgiv': 2, 'quanit': 1, 'awaitng': 4, 'minmal': 3, 'evernt': 1, 'sulpha': 1, 'floxacin': 1, 'inspit': 4, 'uninterpret': 6, 'afternooon': 2, 'lighthead': 4, 'grill': 2, 'hyperplasia': 1, 'aorticopulmonari': 2, 'gand': 1, 'homeless': 9, 'difficalti': 1, 'azythromacyn': 1, 'tenant': 1, 'inn': 2, 'icreas': 3, 'monitoirng': 1, 'shelter': 5, 'simva': 3, 'vut': 1, 'hemmorhag': 5, 'lossess': 1, 'artifactu': 7, 'holosyst': 3, 'search': 5, 'wbat': 1, 'perocet': 2, 'degrees': 1, 'extran': 1, 'recevd': 1, 'alv': 4, 'amlodapin': 1, 'diclox': 1, 'capillar': 1, 'nafcillin': 6, 'anticp': 3, 'rhonki': 2, 'chiropractor': 1, 'facemast': 1, 'appred': 1, 'adequetli': 1, 'improov': 4, 'lume': 1, 'pach': 1, 'vitd': 4, 'showscrackl': 1, 'achi': 3, 'endometriosi': 2, 'nafcilin': 1, 'reinstitut': 3, 'lcpc': 18, 'dialudid': 3, 'acetominophen': 2, 'prednsion': 2, 'imprrov': 1, 'compfort': 1, 'positit': 2, 'dissynchroni': 1, 'procidex': 1, 'sleap': 1, 'therex': 10, 'avt': 1, 'ingli': 1, 'limitedli': 1, 'tka': 1, 'yesteday': 3, 'repsiratori': 4, 'iprotrop': 1, 'hemmorrhag': 2, 'hrc': 3, 'blade': 2, 'precari': 1, 'bland': 4, 'cryoglobulin': 3, 'cacarb': 1, 'supress': 6, 'rimantidin': 2, 'multicfoc': 1, 'criticaid': 14, 'desaturadt': 1, 'lebatalol': 1, 'wegner': 3, 'covera': 1, 'predic': 1, 'vasculit': 2, 'dvelop': 1, 'rw': 8, 'slighltli': 2, 'cyanocobalamin': 6, 'concomit': 9, 'dah': 11, 'hype': 1, 'glucocorticoid': 2, 'agter': 2, 'prochlorperazin': 8, 'class': 3, 'parang': 1, 'corel': 1, 'nurisng': 3, 'pharyg': 1, 'mexiliten': 1, 'coumidin': 1, 'avellyn': 1, 'origress': 1, 'bivalv': 2, 'benifit': 1, 'coocyx': 4, 'gat': 1, 'shaunessi': 1, 'cond': 4, 'ivfluid': 1, 'alevyn': 3, 'intubationl': 1, 'nyha': 1, 'orienterd': 1, 'nno': 1, 'meticulu': 1, 'glutteal': 1, 'calendar': 2, 'mostlli': 1, 'striat': 1, 'trancathet': 1, 'slurri': 1, 'visapaqu': 2, 'midport': 1, 'transcend': 1, 'renegad': 1, 'upsiz': 6, 'microcathet': 2, 'supersel': 1, 'stc': 1, 'intraren': 5, 'cobra': 4, 'hyperenhanc': 3, 'microwir': 1, 'arteriotomi': 1, 'pseudoanuerysm': 1, 'microcoil': 1, 'embo': 1, 'trv': 4, 'palpatori': 1, 'addl': 5, 'balkan': 1, 'progrewss': 1, 'metroprolol': 6, 'yankeuur': 1, 'naseltrachea': 1, 'obeyi': 1, 'pphlegm': 1, 'circ': 3, 'encouraag': 2, 'slugish': 2, 'ppt': 2, 'bowwel': 1, 'turrn': 1, 'expidit': 1, 'feedw': 1, 'phosphor': 6, 'whren': 1, 'hgealth': 1, 'promoot': 1, 'diissoriiennt': 1, 'toleratin': 1, 'meqkcl': 2, 'weakeer': 1, 'staart': 1, 'coinsid': 2, 'commannd': 1, 'restrian': 1, 'stqrt': 1, 'lomotil': 2, 'blodd': 1, 'abfas': 1, 'xenopi': 1, 'zevalin': 1, 'refractori': 10, 'qmonth': 1, 'follicular': 1, 'malodor': 2, 'multicent': 1, 'pericolon': 1, 'antibioc': 1, 'proctiti': 3, 'chop': 4, 'igg': 10, 'loperamind': 1, 'pentamadin': 1, 'megestrol': 4, 'mitoxantron': 1, 'msir': 2, 'drinker': 5, 'enhancemnt': 1, 'transform': 7, 'sidewal': 3, 'chemotherapeut': 2, 'lymphedema': 1, 'bendamustin': 1, 'war': 3, 'orthostasi': 3, 'fludarabin': 1, 'ppossibl': 1, 'pleuriti': 1, 'hcd': 1, 'pleurisi': 4, 'spectrim': 1, 'hyptens': 1, 'thrive': 4, 'rituximab': 1, 'infraclavicular': 2, 'enrol': 1, 'qweek': 2, 'ctabd': 1, 'anterolisthesi': 12, 'pinu': 1, 'tattoo': 2, 'interposit': 6, 'queri': 11, 'penu': 1, 'fibrou': 3, 'chilaid': 1, 'ventr': 1, 'pnbt': 2, 'peal': 1, 'prox': 3, 'gnawl': 1, 'becomc': 1, 'mepiplex': 4, 'grind': 3, 'rove': 2, 'omf': 2, 'impli': 3, 'glucogon': 3, 'decubetu': 1, 'speciman': 2, 'junct': 1, 'holler': 1, 'wegd': 1, 'phenegran': 1, 'exxerct': 1, 'lct': 2, 'tolerart': 1, 'hyperelev': 1, 'nut': 2, 'killer': 1, 'hemidiaphragmat': 7, 'nsc': 1, 'inp': 2, 'protrus': 5, 'odour': 1, 'omni': 4, 'suprabas': 3, 'lsctab': 3, 'tylonol': 2, 'pulonari': 4, 'twist': 2, 'mgoxid': 1, 'tension': 9, 'thorencentesi': 1, 'enabl': 9, 'monitorfor': 1, 'wakeup': 9, 'kayexol': 2, 'grochong': 1, 'polymorph': 1, 'ril': 1, 'oversea': 2, 'sogt': 1, 'resul': 2, 'hemeodynam': 1, 'positio': 1, 'procudt': 1, 'dexamethison': 1, 'avp': 2, 'effectand': 1, 'forev': 1, 'ventricularli': 2, 'compensart': 1, 'thyroplastym': 1, 'interog': 2, 'itm': 1, 'wsa': 1, 'bracheal': 1, 'addendun': 1, 'esmollol': 1, 'quiver': 1, \"bolus'\": 1, 'hop': 3, 'resplet': 1, 'cring': 1, 'vioe': 1, 'portibl': 1, 'detriment': 1, 'furtur': 1, 'whisper': 2, 'thyroidtoxosi': 1, 'storm': 1, 'lime': 2, 'baselineand': 1, 'defilitid': 1, 'bananna': 3, 'reposist': 1, 'esay': 1, 'porrel': 1, 'rambl': 2, 'psycholog': 2, 'lrad': 1, 'klitchen': 1, 'rforearm': 1, 'ver': 3, 'grim': 2, 'mfpvc': 1, 'qac': 2, 'erceiv': 1, 'ibupropin': 1, 'incoprehensibel': 1, 'chatter': 1, 'hiccup': 3, 'understatand': 1, 'bace': 1, 'omli': 1, '^amt': 2, 'slind': 1, 'glottic': 1, 'guaicc': 1, 'capoten': 1, 'weaken': 6, 'incraes': 1, 'galrgin': 1, 'normothermia': 1, 'coccyc': 2, 'sbp^': 1, 'impiar': 1, 'continuy': 1, 'psycot': 2, 'zoysn': 5, 'cdif': 7, 'broach': 3, 'hormon': 3, 'gardianship': 2, 'blankli': 1, 'unsynchron': 1, 'bari': 3, 'bpcuff': 1, 'quanitifi': 1, 'muxhroom': 1, 'mnimal': 1, 'unccop': 1, 'liguid': 4, 'boggi': 2, 'dantrolen': 1, 'reprep': 1, 'readmt': 1, 'mormimg': 1, 'icepack': 1, 'thyroidtoxicosi': 1, 'overninght': 1, 'bolusn': 1, 'nightshift': 1, 'nioght': 1, 'dysnchroni': 1, 'spotan': 4, 'awe': 1, 'visualis': 2, 'tylenlo': 1, 'avpac': 1, 'sponan': 1, 'thyrombocytopenia': 1, 'dilerium': 1, 'sponatan': 1, 'bigemin': 3, 'inconisit': 1, 'dialat': 5, 'correctiom': 1, 'voiec': 1, 'fuse': 5, 'infilr': 1, 'offend': 6, 'multipli': 2, 'thyroidoxicosi': 1, 'nurten': 1, 'disoreint': 1, 'persent': 1, 'uterol': 1, 'extremeit': 1, 'voriconazol': 4, 'multiform': 5, 'thyrotoxosi': 1, 'taperd': 1, 'tanninsh': 1, 'outlook': 3, 'movt': 9, 'defervec': 1, 'interogat': 1, 'buttox': 2, 'guardain': 1, 'aforment': 1, 'zyprea': 2, 'vacol': 1, 'requiri': 2, 'hic': 1, 'bond': 1, 'extrub': 1, 'prenison': 1, 'foer': 1, 'esmolo': 1, '^respons': 1, 'thyrotoxicosi': 1, 'rashi': 1, 'amioderon': 6, 'defitilid': 1, 'cove': 3, 'attept': 1, 'disynchronu': 1, 'dofetilid': 3, 'eveal': 1, 'irat': 1, 'bll': 6, 'fixationg': 1, 'orientx': 1, 'bruse': 3, 'stromg': 1, 'nummer': 1, 'ordeer': 1, 'apyrexi': 1, 'gass': 2, 'altho': 1, 'infreq': 3, 'fluoproscop': 1, 'dimenish': 1, 'steer': 1, 'yearl': 1, 'mandril': 1, 'penectomi': 1, 'tachyapn': 1, \"cap'\": 1, 'luceni': 1, 'habit': 11, 'mem': 1, 'chemoradiotherapi': 2, 'athosclerot': 1, 'methemoglobinem': 2, 'ectat': 6, 'epsisod': 1, 'reachabl': 1, 'fsq': 3, 'adeno': 9, 'sucralaf': 3, 'unmpress': 1, 'unremarkalb': 1, 'tachyarrhythemia': 1, 'emphasi': 9, 'bronchiestasi': 1, 'increass': 2, 'nyastatin': 2, 'stori': 10, 'sucralf': 10, 'humdifi': 1, 'solumdedrol': 1, 'coph': 1, 'bronchietasi': 2, 'abdomni': 1, 'sulcruf': 1, 'emprir': 1, 'beg': 2, 'xopen': 1, 'dmfj': 9, 'rochi': 1, 'deriv': 8, 'kleenex': 1, 'diltitazem': 1, 'sdh': 12, 'midinsp': 1, 'vancomycina': 1, 'significnatli': 1, 'oat': 1, 'unimpress': 7, 'creram': 1, 'skinfold': 1, 'curvatur': 4, 'levoconcav': 1, 'scop': 1, 'remeain': 1, 'tryiong': 1, 'cousr': 1, 'cappillari': 1, 'saccrum': 1, 'deuoderm': 1, 'buttck': 1, 'pipracillin': 1, 'aalevyn': 1, 'meuromuscular': 1, 'restrait': 1, 'scopalimin': 4, '^o': 1, 'path': 13, 'mond': 2, 'taccycardia': 1, 'foolw': 1, 'vai': 1, 'paion': 1, 'norva': 1, 'buttiock': 1, 'maagnesium': 1, 'suctionedd': 1, 'visciou': 3, 'bilter': 2, 'attemtp': 3, 'scolapamin': 1, 'unchag': 9, 'orderedsx': 1, 'witg': 1, 'recalibr': 3, 'willfrequ': 1, 'undgest': 1, 'dne': 1, 'allvyn': 1, 'addentum': 1, 'chiar': 2, 'chack': 3, 'creeatinin': 1, 'meteprolol': 1, 'ewn': 1, 'afibb': 1, 'rtr': 1, 'encorag': 1, 'linizolid': 1, 'froom': 1, 'antihtn': 4, 'rezero': 1, 'svl': 1, 'sucit': 1, 'evrs': 1, 'aspt': 1, 'rsba': 1, 'nutran': 1, 'extriem': 1, 'coares': 1, 'passion': 1, 'abraiooon': 1, 'elav': 4, 'impov': 3, 'isopa': 1, 'significat': 1, 'unersid': 1, 'wherr': 1, 'deci': 1, 'actic': 1, 'pickat': 1, 'asprat': 1, 'monitior': 4, 'pupport': 1, 'phoc': 1, 'witwh': 1, 'scl': 6, 'albuterolq': 1, 'nformat': 1, 'interventin': 1, 'repit': 1, 'ausculat': 1, 'diuril': 6, 'careiew': 1, 'sinusitu': 1, 'scoplamin': 1, 'airay': 1, 'whixh': 1, 'diffcult': 1, 'alkilosi': 1, 'upperextrim': 1, 'envrion': 1, 'scapolamin': 1, 'specialti': 4, 'pthad': 1, 'postcholecystectomi': 1, 'deg': 6, 'curer': 1, 'rlp': 1, 'aloevesta': 5, 'concret': 1, 'assessori': 1, 'unablt': 2, 'plsnned': 1, 'mot': 1, 'uppon': 1, 'outbreak': 1, 'fiv': 1, 'aggrev': 1, 'feend': 1, 'mainitain': 1, 'interspac': 4, 'recoop': 1, 'degress': 3, 'distr': 3, 'stuck': 14, 'unir': 1, 'tickl': 1, 'satrt': 2, 'cefitim': 1, 'flusi': 1, 'diliazem': 1, 'lorazapam': 6, 'asphagia': 1, 'effert': 1, 'difficultyl': 1, 'bronchopulmonari': 6, 'comofort': 1, 'movingg': 1, 'levoquen': 1, 'difiiculti': 1, '^tf': 1, 'perinum': 1, 'sudsid': 1, 'decres': 7, 'ectpoy': 1, 'hypersomul': 1, 'mushi': 1, 'normotherm': 6, 'banaa': 1, 'oaao': 1, 'withtranspar': 1, 'inserted': 1, 'subsequnt': 1, 'graviiti': 1, 'thoraciuc': 1, 'thik': 1, 'boast': 1, 'tolet': 1, 'collor': 1, 'nea': 1, '^emot': 1, 'diarrh': 1, 'axieti': 3, 'trrach': 1, 'dialsysi': 1, 'increase': 1, 'mcourtney': 1, 'tononc': 1, 'ddto': 1, 'staight': 1, 'dimidnsh': 1, 'acidiosi': 1, 'steristip': 1, 'weanec': 1, 'ischeam': 1, 'hospial': 1, 'fpr': 5, 'stuf': 4, 'deficiet': 2, 'sponatn': 2, 'bless': 1, 'mcgkgmin': 1, 'olanzpin': 1, 'acebutolol': 1, 'tinctur': 1, 'palpibl': 5, 'dialyisi': 1, 'sputur': 1, 'brea': 1, 'liqiud': 2, 'plcaement': 1, 'trsch': 1, 'refrig': 1, 'perfer': 1, 'mea': 2, 'petamen': 1, 'tibe': 1, 'cardiothorac': 6, 'ssci': 1, 'llllung': 1, 'decidec': 1, 'ovomit': 1, 'extrememli': 3, 'jejunostomi': 7, 'perocoet': 1, 'dilaudud': 1, 'crrt': 7, 'ectopii': 1, \"did'nt\": 1, 'straightcath': 1, 'aletern': 1, 'occassin': 1, 'toiletri': 1, 'quiton': 1, 'propafenon': 2, '^act': 1, 'vitla': 1, 'spiritu': 3, 'maintanc': 3, 'opium': 1, 'trapez': 1, 'assiss': 1, \"'puff\": 1, 'bilaterr': 1, 'sucton': 1, 'smaill': 1, 'permacath': 1, 'passmuir': 1, 'trxfer': 1, 'dto': 2, 'haparin': 1, 'nillson': 1, 'edemad': 1, 'guiack': 1, 'goa': 1, 'aslong': 1, 'minitor': 2, 'plac': 3, 'albimin': 1, 'ammount': 4, 'infusu': 1, 'reassuanc': 1, 'placedin': 2, 'cvvhdf': 4, 'perscrib': 2, 'brachialend': 1, 'toleart': 1, 'flowshhet': 1, 'leisur': 1, 'bk': 3, 'pvr': 2, 'tpt': 1, 'profunda': 1, 'tma': 2, 'kiebasella': 1, 'unheal': 1, 'ptfe': 1, 'nonheal': 2, 'amput': 4, 'sgl': 2, 'femori': 1, 'globabl': 1, 'seg': 4, 'asst': 2, 'au': 3, 'hemodyalysi': 1, 'npt': 1, 'awr': 1, 'dge': 1, 'singlesemi': 1, 'morhpin': 3, 'metab': 1, 'ukp': 1, 'subcutaneu': 1, \"'nd\": 1, 'thoraci': 2, 'parafalcin': 1, 'hug': 1, 'corona': 1, 'nucleu': 3, 'prviou': 1, 'bolusu': 1, 'radiata': 1, 'shine': 1, 'interhemispher': 1, 'carevur': 1, 'retrocardiacli': 1, 'ascrib': 2, 'fasi': 1, 'restrin': 2, 'accu': 1, 'farsi': 3, 'ea': 6, 'respiron': 1, 'road': 2, 'tampan': 1, 'mal': 3, 'toleratig': 1, 'usn': 1, 'cheeck': 1, 'phsical': 1, 'shockfev': 1, 'plant': 3, 'alkylosi': 5, 'dieures': 1, 'vare': 2, 'fer': 2, 'pmin': 2, 'progrss': 1, 'bloodsugar': 2, 'tug': 4, 'esophog': 5, 'preseent': 1, 'infraobliqu': 1, 'tracheoesophag': 2, 'peristalt': 3, 'tachyracdia': 1, 'retrostern': 2, 'pnumothorax': 2, 'iposit': 1, 'antibioyc': 1, 'frer': 1, 'jibberish': 2, 'prioir': 1, 'tremour': 1, 'doea': 1, 'ffrequent': 1, 'meropenium': 2, 'sqllow': 1, 'yesterda': 2, 'ragtim': 1, 'humung': 1, 'promptli': 6, 'esophagoesophag': 1, 'myoton': 1, 'comaprison': 1, 'dystrophi': 1, 'levc': 1, 'pear': 2, 'dyphagia': 1, 'atrv': 1, 'oxocodon': 1, 'acha': 1, 'haad': 1, 'involuntarili': 1, 'plegia': 1, 'samal': 2, 'fexis': 2, 'osteomeat': 1, 'wosren': 1, 'shrug': 2, 'inreliev': 1, 'curlix': 1, 'sandpap': 1, 'antilordot': 1, 'razor': 2, 'halo': 3, 'breth': 2, 'inprov': 3, 'inflt': 1, 'tirtat': 1, 'haustral': 1, 'rat': 1, 'oncal': 2, 'copnsolid': 1, 'rescreend': 1, 'reation': 1, 'kinaid': 1, 'asess': 5, 'andat': 1, 'bedid': 1, 'oprogrss': 1, 'bode': 1, 'stooper': 1, 'fenantyl': 2, 'phenylenphrin': 1, 'possibilti': 3, 'mucamyst': 1, 'librium': 1, 'soical': 1, 'bronchiol': 14, 'rese': 1, 'mediastern': 1, 'diconnect': 1, 'toth': 1, 'lactualos': 1, 'ctube': 3, 'sweet': 2, 'ib': 6, 'strroid': 1, 'sca': 1, 'polic': 3, 'oth': 2, 'orag': 1, 'subsuuent': 1, 'sclc': 5, 'tampondad': 1, 'patientno': 13, 'drainagedecreas': 1, 'braos': 1, 'intiait': 1, 'scotch': 2, 'xfer': 1, 'decreasinbg': 1, 'freew': 1, 'hyperacut': 1, 'dta': 1, 'pneuthorax': 1, 'wallsx': 1, 'icnreas': 1, 'sclca': 2, 'nonischem': 2, 'hemoptosi': 1, 'autodiruesi': 1, 'inpout': 1, 'imrpov': 2, 'xday': 1, 'pntx': 2, 'yestareday': 1, 'extremitiy': 2, 'spescif': 1, 'transbronchoscop': 1, 'focla': 1, 'leuckocytosi': 2, 'proven': 4, 'diaseas': 1, 'tricycl': 1, 'changesd': 1, 'dbili': 3, 'heartburn': 6, 'turbul': 1, 'undect': 1, 'retinpathi': 1, 'cubit': 2, 'retropuls': 8, 'previousnot': 1, 'maroonish': 1, 'indol': 3, 'gif': 7, 'eopgen': 1, 'psuedoaneurysm': 1, 'trigemin': 4, 'visa': 2, 'assay': 11, 'activitu': 1, 'heroin': 4, 'fascit': 1, 'lamivudin': 5, 'gynecomastia': 4, 'weightbear': 1, 'interpolar': 11, 'mandibular': 2, 'throu': 1, 'althou': 1, 'assymetri': 1, 'fasciiti': 2, 'menig': 1, 'etcc': 1, 'hiatel': 2, 'gordona': 1, 'preliminarili': 4, 'ileocec': 1, 'thermal': 1, 'replic': 1, 'appaear': 1, 'discogen': 1, 'questionn': 1, 'bleb': 5, 'cholic': 1, 'lifespan': 1, 'anmd': 1, 'spondylot': 2, 'genotyp': 4, 'stavudin': 2, 'coagulas': 6, 'circumcis': 2, 'ritonavir': 5, 'reconsid': 5, 'entiti': 3, 'cahin': 1, 'suprapatellar': 5, 'someh': 1, 'imporv': 5, 'conu': 6, 'indinavir': 1, 'ling': 1, 'sym': 5, 'intermedi': 12, 'shouder': 1, 'polypoid': 2, 'compound': 9, 'dystroph': 4, 'willl': 5, 'forumulari': 1, 'pathog': 1, 'mlkb': 9, 'diazoxid': 1, 'saccular': 1, 'strap': 4, '^st': 19, 'abnl': 8, 'hypopigment': 1, 'lipodystrophi': 1, 'scrrene': 1, 'fianc': 6, 'tricyc': 2, 'remaov': 1, 'diarrheal': 1, 'tprot': 3, 'hb': 10, 'scution': 3, 'masl': 1, 'bllede': 1, 'adenoviru': 2, 'equilibr': 2, 'intubaton': 2, 'guerney': 1, 'startedc': 2, 'recommedn': 2, 'eletrolyt': 1, 'sust': 1, 'hctand': 1, 'methi': 1, 'granddtr': 1, 'vulva': 1, 'profofol': 2, 'tolwel': 1, 'tracehostomi': 1, 'vaso': 5, 'mck': 4, 'ressrp': 1, 'opportun': 2, \"movm't\": 1, \"suxn'\": 1, 'conton': 1, 'alkolot': 2, 'grandgaught': 1, 'rb': 2, 'aplast': 1, 'stg': 6, 'trachealmalasia': 1, 'closest': 1, 'telephonn': 1, 'cariopulmonari': 1, 'buck': 4, 'corrol': 1, 'uli': 1, 'expiratoy': 1, 'tunr': 1, 'mount': 3, 'goalrateof': 1, 'pplacement': 1, 'acq': 1, 'miracl': 1, 'secrtet': 1, 'tolerar': 1, 'nursung': 1, 'hemarroid': 1, 'chafen': 1, 'grandgtr': 1, 'ofobvi': 1, 'desitin': 2, 'eletroly': 1, 'groln': 1, 'moraxella': 3, 'alfa': 3, 'interdepend': 2, 'archiv': 2, 'csv': 2, 'retic': 12, 'fav': 1, 'sirolimu': 1, 'fibromat': 1, 'hepatopathi': 3, 'nifedipem': 1, 'zemplar': 1, 'biplan': 1, 'auotdiures': 1, 'nupren': 2, 'silhouette': 1, 'bidirect': 1, 'lassix': 1, 'immunocomprimis': 1, 'vitasl': 1, 'zozyn': 6, 'caridogen': 1, 'sirolum': 1, 'rdw': 6, 'fluctat': 1, 'nonishcem': 1, 'admissionon': 1, 'daugher': 3, 'qmowefr': 1, 'myositi': 2, 'succin': 3, 'epoetin': 3, 'gttt': 1, 'nidu': 4, 'hazard': 2, 'nutmeg': 1, 'cateth': 1, 'pmb': 3, 'clx': 9, 'abotu': 1, '^e': 1, 'impr': 1, 'stron': 1, 'insul': 3, 'glugocaon': 1, 'cefedipin': 1, 'vale': 1, 'whezz': 2, 'paln': 2, 'diuresisng': 3, 'insuffil': 1, 'sadden': 1, 'suffol': 1, 'destatur': 1, 'pot': 3, 'dismiss': 1, '^ed': 1, 'freqenc': 1, 'popcycl': 1, 'sphere': 1, 'protest': 1, 'titratd': 1, 'tracheostoni': 2, 'fluccuat': 1, 'venapunctur': 1, 'burp': 3, 'reload': 2, 'thrghoutht': 1, 'smll': 1, 'secretiosn': 2, 'suffic': 1, 'extem': 5, 'recievieng': 1, 'dilant': 1, 'pseudoseizur': 2, 'antibio': 2, 'guven': 1, 'insipid': 1, 'passmuy': 1, 'obt': 3, 'apli': 2, 'autodiuresis': 1, 'suffil': 1, 'tacki': 2, 'diabeti': 2, 'ambung': 1, 'detach': 4, 'pane': 3, 'syndom': 2, 'disappoint': 1, 'ecotopi': 1, 'lunchtim': 4, 'calmli': 2, 'tkvo': 1, 'stepfath': 1, 'somtim': 1, 'mouthdisplay': 1, 'wofran': 1, 'tfor': 2, 'genral': 1, 'ddvap': 1, 'fater': 1, 'inexsuffl': 5, 'gii': 1, 'incred': 1, 'spaud': 1, 'cathetr': 2, 'multinodular': 2, 'inex': 1, 'antib': 3, 'pvl': 2, 'asl': 2, 'insuffal': 1, 'upddat': 1, 'aerosl': 1, 'puv': 1, 'wasplac': 1, 'axia': 1, 'rehydr': 6, 'passeymu': 1, 'inspect': 8, 'percussor': 1, 'eleva': 3, 'popsicl': 2, 'albeterol': 1, 'rc': 3, 'solidli': 1, \"ok'\": 1, 'extremetiew': 1, 'drawback': 2, 'ensuffolat': 1, 'desmopresson': 1, 'smart': 1, 'aspiratoin': 1, 'american': 2, 'exsuffol': 1, 'cricopharyngeu': 1, 'neget': 1, 'giav': 1, 'mg^ed': 1, 'stime': 1, 'coctail': 1, 'exsuffal': 1, 'ivpush': 1, 'varianc': 2, 'acc': 3, 'rpotocol': 1, 'conuslt': 1, 'incas': 2, 'dangers': 1, 'lnl': 1, 'lliquid': 2, 'methicillin': 2, 'ethanol': 5, 'olh': 1, 'sensor': 1, 'drane': 1, 'adequitli': 1, 'healh': 1, 'sensic': 1, 'imagin': 4, 'omlet': 1, 'proplem': 1, 'hotel': 3, 'steoroid': 2, 'everyon': 5, 'encoourag': 1, 'soda': 2, 'conglomer': 5, 'clap': 3, 'requier': 4, 'flov': 1, 'anwer': 1, 'nonengorg': 1, 'parahilar': 2, 'pancreasruq': 1, 'casu': 2, 'spech': 1, 'glargen': 2, 'swithch': 1, 'ducclox': 1, 'aspiratioin': 1, 'lenghthi': 1, 'newer': 4, 'eefect': 1, 'sucstion': 1, 'hemidiaphram': 2, 'foward': 1, 'secreaton': 1, 'prurit': 3, 'toknow': 1, 'phenasept': 1, 'ptcont': 1, 'upperback': 1, 'creatinint': 1, 'placeon': 1, 'otoscop': 1, 'yankhaur': 1, 'earach': 2, 'increament': 1, 'outdat': 4, 'asist': 1, 'excersis': 2, 'mechanci': 1, 'intermitta': 1, 'enew': 1, 'ambival': 1, 'ltye': 2, 'seation': 3, 'smudg': 3, 'admissison': 1, 'surgey': 1, 'bronchiectat': 1, 'lontgstand': 1, 'market': 1, 'oxazepam': 1, 'cess': 1, 'tital': 3, 'previoui': 1, 'pullmomnari': 1, 'cortisporin': 2, \"'expand\": 1, 'sting': 3, 'romi': 18, 'aado': 1, 'myelo': 4, 'monohydr': 6, \"'lhbc\": 1, 'cephalexin': 9, \"'lgbc\": 1, 'falur': 1, 'xs': 4, 'patientciprofloxacin': 1, 'neomi': 2, 'albuteroliprtropium': 1, \"'lcba\": 1, 'monteleukast': 2, 'baso': 1, 'insertedl': 1, 'menthol': 1, 'allergist': 2, 'noninvasii': 1, 'angap': 1, 'camphor': 1, \"'lhbi\": 1, 'mchc': 1, 'urean': 1, 'caltco': 1, 'anguin': 1, 'polymyx': 2, 'rvsp': 2, 'intuba': 1, 'occasin': 1, 'aptt': 1, 'amberin': 1, 'plcment': 1, 'bilbasilar': 1, 'regurgi': 2, 'irradi': 2, 'nasopharyg': 1, 'elucid': 1, 'entertain': 1, 'legionnella': 1, 'mibi': 2, 'defienc': 1, 'hepatosplenomegali': 3, 'tiotropim': 1, 'tetanu': 5, 'alsogoign': 1, 'axithro': 1, 'prophi': 6, 'fluctuanc': 4, 'consiult': 1, 'scleral': 31, 'dysphag': 2, 'vasospasm': 2, 'haa': 2, 'barrel': 1, 'seret': 3, 'potato': 4, 'interc': 1, 'cefepimin': 1, 'entrain': 2, 'inappropiatli': 1, 'incenet': 1, 'brochomalacia': 1, 'cptq': 1, 'dependend': 1, 'bno': 3, 'compromsi': 1, 'pancak': 2, 'lathrgic': 1, 'gravi': 2, 'willcont': 1, 'hemodiaysi': 1, 'cvvhd': 8, 'unwrap': 1, 'shoe': 2, 'demin': 1, 'pleasnt': 1, 'nebulizor': 1, 'hearp': 1, 'malignan': 1, 'hypercoagul': 2, 'colonographi': 1, 'dialter': 1, 'expcept': 1, 'withn': 1, 'reader': 1, 'marigin': 1, 'fludrocort': 1, 'faciltiy': 2, 'glucophag': 1, 'forgett': 1, 'glugophag': 1, 'hall': 2, 'nsip': 8, 'antihypertensiveslisinopril': 1, 'proteas': 2, 'amilodipin': 1, 'chlamydia': 3, 'rheum': 8, 'crytogen': 1, 'wkd': 1, 'menstral': 1, 'ivt': 5, 'dlpicc': 2, 'fbg': 1, 'firsttwo': 1, 'percocett': 2, 'weeenkd': 1, 'tochair': 1, 'aip': 3, 'aep': 2, 'oxymetri': 1, 'homicid': 1, 'streptococcu': 5, 'menstrual': 3, 'pancreas': 1, 'contam': 2, 'azetronam': 2, 'spurriou': 1, 'goodpastur': 2, 'oop': 3, 'uncap': 1, 'chenyn': 1, 'tremend': 2, 'kphosphat': 1, 'ifo': 1, 'survelli': 2, 'mint': 1, 'availibilti': 1, 'unwean': 1, 'sevral': 1, 'hematurea': 1, 'blkt': 1, 'growin': 2, 'goosebump': 1, 'maxiaml': 1, 'asympt': 1, 'secrition': 1, 'ponder': 1, 'stomachach': 1, 'regur': 1, 'perviou': 1, 'gather': 2, 'weanin': 2, 'meclizin': 2, 'freg': 2, 'chift': 1, 'antienxitey': 1, 'laxi': 1, 'chr': 3, 'famuli': 2, 'resend': 15, 'merpenum': 1, 'resuslt': 1, 'vgb': 1, 'odrer': 1, 'fluconozol': 2, 'antivert': 1, 'usal': 1, 'surgergi': 1, 'duahgter': 1, 'ist': 2, 'narc': 4, 'coucgh': 1, 'knowm': 2, 'reepitheal': 1, 'pnuemo': 2, 'rtn': 1, 'dogoxin': 1, 'ovb': 1, 'cathert': 2, 'headphon': 1, 'ttube': 1, 'davb': 1, 'ultrfiltr': 1, 'uvolem': 2, 'oon': 2, \"'avb\": 1, 'tring': 1, 'respelor': 1, 'deconditon': 1, 'pointintg': 1, '^^secret': 1, 'dlc': 1, 'suctioni': 1, 'ecter': 1, 'heve': 2, 'morepenum': 1, 'natrocor': 1, 'suxtion': 1, \"stool'\": 1, 'opiod': 3, 'gester': 2, 'tot': 4, 'perenium': 1, 'subcl': 2, 'potect': 1, 'pseodomona': 1, 'dressin': 2, 'game': 2, 'draninag': 1, 'hemehct': 1, 'sucess': 5, 'recollect': 3, 'propens': 3, 'meripeneum': 1, 'captorpril': 1, 'prostesi': 1, 'lisonopril': 1, 'respik': 7, 'zaroxylyn': 1, 'hypxic': 1, 'wll': 3, 'untifung': 1, 'requird': 1, 'ta': 2, 'mrsp': 1, 'alklos': 1, 'coarsw': 1, 'nitrostat': 1, 'ditropan': 4, 'resplar': 1, 'drawer': 1, 'rsing': 1, 'mortal': 5, 'rith': 2, 'frequant': 1, 'tz': 3, 'hemoptasi': 2, 'remaim': 1, 'thouroughli': 1, 'nightcloth': 1, 'carafatefoley': 1, \"dc'ing\": 2, 'infom': 1, 'diursi': 3, 'pwdr': 2, 'distendedw': 1, 'benefici': 9, 'nostool': 2, 'extremley': 1, 'appripri': 1, 'inadvertant': 1, 'suport': 2, 'caraf': 7, 'meripenum': 1, 'approri': 1, 'pleueral': 1, 'hypoxiaun': 1, 'lookig': 1, 'blledi': 1, 'fole': 2, 'bbr': 5, 'bigem': 1, 'intract': 2, 'restlessn': 2, '^level': 1, 'meatu': 3, 'resparol': 1, 'addhes': 1, 'miripenim': 1, 'feisti': 1, 'compla': 1, 'drssg': 2, 'allcyn': 1, 'rect': 1, 'meclazin': 1, 'hemorrag': 3, 'rink': 1, 'walkman': 1, 'ocntinu': 1, 'halidol': 1, 'reccurr': 1, 'dopral': 1, 'encephalomalat': 1, 'oneumo': 1, 'bcsn': 1, 'explanant': 1, 'afm': 2, 'peridcardi': 1, 'llopressor': 1, 'erffect': 1, 'serousang': 1, 'leas': 1, 'cxarevu': 1, 'statr': 1, 'vivid': 1, 'unsettl': 2, 'cellular': 10, 'unifi': 2, 'terazosin': 3, 'cholan': 1, 'mmdri': 1, 'echymosi': 1, 'mismatch': 5, 'aocd': 1, 'purpur': 1, 'cellulit': 1, 'sss': 2, 'mlhh': 4, 'fibe': 1, 'proccedur': 1, 'trp': 1, 'hemptysi': 1, 'ppain': 1, 'accd': 1, 'disrepair': 1, 'clumsi': 2, 'agitaiton': 1, 'cost': 1, 'atternoy': 1, 'countri': 2, 'statist': 2, 'pseudolymphoma': 1, 'cylindr': 2, 'bronchogen': 1, \"examination'\": 1, 'dlrc': 10, 'fidgit': 1, 'signfic': 8, 'aaax': 1, 'beginng': 1, 'thoractomi': 3, 'fool': 1, 'throacotomi': 2, 'uncertainti': 1, 'mjmgb': 4, 'muscou': 1, 'childhood': 6, 'cinch': 1, 'continueto': 2, 'hgh': 1, 'paraoxysm': 2, 'lipoma': 3, 'sned': 1, 'thoracenteisi': 1, 'mh': 4, 'applu': 1, 'constel': 6, 'buspar': 1, 'atelectesi': 3, 'bread': 1, 'contributor': 9, 'inbetween': 4, 'wirst': 1, 'curtain': 1, 'hypernatreamia': 1, 'unplan': 1, 'eunatrem': 1, 'oupt': 3, 'candidt': 1, 'ppv': 5, 'risperidol': 2, 'isosorbitr': 1, 'raaya': 1, 'pitcher': 1, 'hyperlipedemia': 1, 'converas': 1, 'bka': 2, 'interlobar': 3, 'lbka': 1, 'iiia': 1, 'necessar': 1, 'msiv': 1, 'eoimi': 1, 'hepatolog': 10, 'brcm': 1, 'avitan': 1, 'rifaximin': 6, 'hepatocellular': 2, 'managemnt': 1, 'factori': 3, 'unresect': 2, 'fulmin': 1, 'esld': 6, 'lactolos': 3, 'epigatrium': 1, 'perpendicular': 1, 'eighth': 3, 'opioid': 5, 'hypona': 2, 'angioma': 1, 'ingrowth': 2, 'lusb': 5, 'paraumbil': 2, 'spider': 1, 'discoveri': 9, 'replat': 2, 'jkang': 2, 'crystaluria': 1, 'actor': 1, 'improvemet': 2, 'sown': 2, 'fracutur': 1, 'enal': 1, 'duplic': 6, 'viscos': 1, 'pylonephr': 2, 'myeloprolif': 1, 'hyperviscous': 1, 'boluss': 2, 'forcibl': 1, 'ibratroprium': 1, 'forthi': 1, \"abx'\": 2, 'neh': 1, 'sedment': 1, 'endarterectomi': 2, 'throughoutshift': 1, 'aidc': 1, 'craiotomi': 1, 'chondroid': 1, 'badli': 1, 'enchondroma': 3, 'purrul': 1, 'gliburid': 1, 'plced': 1, 'hypercabnia': 1, 'sf': 4, 'vascil': 1, 'punct': 1, 'ecreas': 1, 'rightarm': 1, 'gor': 1, 'pivsx': 1, 'proectiv': 1, 'epoc': 1, 'icecream': 5, 'ressist': 1, 'rh': 7, 'pinch': 2, 'swear': 3, 'sxth': 1, 'givensec': 1, 'secretioin': 3, 'caors': 1, 'hydralasin': 1, 'nivv': 1, 'cranio': 1, 'noncalcifi': 2, 'intussuscept': 3, 'nipb': 1, 'ipmt': 1, 'diffusley': 1, 'blackhead': 1, 'yeloow': 1, 'born': 2, 'recordrd': 1, 'decdreas': 1, 'supraren': 1, 'duodenojejun': 1, 'peform': 2, 'phenergan': 3, 'interrog': 7, 'multisequ': 8, 'airbourn': 1, 'doxcyclin': 1, 'dest': 1, 'rage': 9, 'earlli': 1, 'rctest': 1, 'micanazol': 1, 'crepet': 1, 'trash': 1, 'negativev': 1, 'indwell': 1, 'continy': 1, 'liqid': 1, 'overnth': 1, 'signifig': 1, 'follwo': 2, 'ceffus': 1, 'restles': 1, 'heavier': 1, 'properlli': 1, 'racem': 4, 'drainiag': 1, 'slojw': 1, 'peripneumon': 1, 'ivcd': 2, 'cocktail': 1, 'cardiovascularno': 1, 'colchicin': 3, 'rescusit': 3, 'dysnpea': 2, 'globular': 2, 'ganglion': 1, 'hypointes': 1, 'enthesophyt': 1, 'nondisplac': 6, 'quadricep': 1, 'hemmorahg': 1, 'patella': 4, 'diaphysi': 1, 'avuls': 4, 'creol': 2, 'dti': 1, 'tricompart': 1, 'fave': 1, 'guaifenesen': 1, 'zithromycin': 1, 'sleepfor': 1, 'vasogen': 2, 'peridiaphragmat': 1, 'infiltra': 2, 'postobstruct': 10, 'extrapleur': 2, 'calyc': 1, 'calvarium': 4, \"mae'\": 1, 'pma': 2, 'opthamolog': 1, 'decread': 1, 'assessmend': 1, 'grandual': 1, 'thinnest': 1, 'insuf': 1, 'lact': 4, 'sequal': 2, 'hypoalbumenia': 1, 'ptesent': 1, 'delic': 1, 'ordeal': 1, 'ganciclovir': 3, 'pantaprazol': 1, 'bidmcon': 1, 'carinii': 7, 'hse': 3, 'watermelon': 1, 'aroiund': 1, 'hypoxiaclin': 1, 'swellin': 1, 'almond': 1, 'mhv': 1, 'hepatofug': 2, 'lpv': 1, 'rpv': 1, 'mpv': 1, 'denot': 1, 'precardiovers': 2, 'rhv': 1, 'ampulla': 2, 'streptokinas': 1, 'tonsil': 2, 'notepad': 1, 'contor': 1, 'previu': 1, 'curc': 1, 'atg': 1, 'rfoley': 1, 'k^': 1, 'lrrt': 1, 'tigh': 1, 'dmii': 10, 'irriat': 1, 'inseretd': 1, 'dminish': 1, 'aspitar': 1, 'carvadlol': 1, 'dropplet': 1, 'proconazol': 1, 'nassal': 1, 'extert': 1, 'sulph': 1, 'pocasonazol': 1, 'antireject': 2, 'accordac': 1, 'posaconazol': 2, 'sultat': 1, 'mucor': 1, 'valganciclovir': 3, 'placec': 1, 'formul': 4, 'absprption': 1, 'afor': 1, 'hemocult': 1, 'mucousa': 1, 'eso': 3, 'triodyn': 1, 'incompat': 3, '^resiudu': 1, 'threadi': 1, 'dn': 1, 'overdistens': 1, 'pencil': 2, 'sxi': 1, 'aldoacton': 1, 'sytol': 1, 'isthmu': 1, 'rifazimin': 1, 'esopag': 1, 'incontact': 1, 'replinish': 1, 'tonu': 1, 'realtim': 2, 'recriut': 1, 'oxygentaion': 1, 'discus': 1, 'cahtet': 1, 'tback': 1, 'qolden': 1, 'neomycin': 1, 'retart': 2, 'rhoncii': 1, 'fryiabl': 1, 'leumen': 1, 'fantanyl': 1, 'diaphram': 2, 'triadym': 1, \"cx'd\": 2, 'phianc': 1, 'loke': 1, 'aggiat': 2, 'heparina': 1, 'quardant': 1, 'glide': 1, 'necc': 1, 'tricki': 2, 'brop': 1, 'thime': 1, 'contrinu': 1, 'survil': 1, 'ofth': 1, 'vassopressin': 3, 'cherri': 1, 'disign': 1, 'auxilliari': 1, 'possbili': 1, 'rif': 1, 'cehal': 1, 'subclavien': 2, 'tacypnea': 4, 'doubbl': 1, 'htnsive': 2, 'aft': 2, 'dessican': 1, 'umbilicu': 3, 'hydrothorax': 3, 'volatg': 1, 'wart': 1, 'skikn': 1, 'tbc': 1, 'manouev': 1, 'culur': 1, 'osteochondr': 1, 'gp': 5, 'macro': 5, 'idarubicin': 1, 'symm': 1, 'phospholipid': 2, 'tmof': 1, 'antiphsopholid': 1, 'aspergilli': 2, 'suppliment': 7, 'admisison': 3, 'biapsi': 1, 'zidovudin': 1, 'preacaut': 1, 'synd': 1, 'shoiwng': 1, 'atleast': 3, 'devleop': 1, 'adrenerg': 3, 'jail': 2, 'crypto': 5, 'exterm': 2, 'ks': 9, 'heterosexu': 1, 'yankeaur': 1, 'cytarabin': 1, 'intercours': 1, 'cardiomypathi': 1, 'nro': 1, 'diarreha': 1, 'bronchietesi': 1, 'hypervolemia': 5, 'indipendantli': 1, 'atovaquon': 2, 'toxo': 5, 'sensorium': 2, 'metnal': 2, 'oi': 1, 'rhonchronu': 1, 'antiphospolipid': 1, 'broncheictasi': 2, 'interuppt': 1, 'coranari': 1, 'additiion': 1, 'botharm': 1, 'obrain': 1, 'fungitel': 1, 'setttl': 1, 'amikcain': 1, 'leukopenia': 11, 'rectovesicular': 1, 'neupogen': 5, 'doss': 9, 'edu': 4, 'extremeluy': 1, 'hematur': 1, 'coccido': 1, 'shld': 2, 'repat': 1, 'blasto': 1, 'bia': 6, 'lenal': 1, 'laisix': 2, 'azathioprin': 4, 'tularemia': 1, 'toxicit': 1, 'spp': 4, 'regualt': 1, 'bromnchscopsi': 1, 'sightli': 1, 'aztrenonam': 1, 'primaquin': 6, 'gastropathi': 1, 'attdg': 1, 'interestingli': 4, 'hyperna': 3, 'hematura': 2, 'cytopenia': 3, 'acetazolamid': 14, 'antibid': 3, 'lactulso': 1, 'doxyclin': 1, 'equabr': 1, 'secreiotn': 1, 'azostrenam': 1, 'bitten': 2, 'predominantley': 1, 'atid': 1, 'coccidio': 1, 'blastomycosi': 1, 'proxial': 1, 'fw': 6, 'lumbosacr': 4, 'withheld': 4, 'susc': 1, 'erythemia': 1, 'ig': 6, 'thash': 2, 'diuures': 1, 'histo': 4, 'volit': 5, 'urethr': 5, 'elyt': 2, 'meastu': 1, 'shldr': 3, 'celaxa': 1, 'subset': 2, 'haldo': 3, 'essentiali': 1, 'parvo': 1, 'gcsf': 3, 'gentamycin': 6, 'thickenen': 1, 'areteri': 1, 'aztreo': 1, 'pleasur': 3, 'bunni': 1, 'tsay': 1, 'breathi': 3, 'respositiong': 1, 'rhonic': 1, 'rifaxamin': 2, 'paresthesia': 2, 'diiuresi': 1, 'cand': 1, 'follolw': 1, 'signficantli': 3, 'ardsnet': 12, 'episiod': 1, 'atavan': 1, 'lamintectomi': 1, 'xblood': 1, 'vando': 1, 'lovastatin': 2, 'biba': 3, 'ebl': 1, 'mevacor': 1, 'nil': 4, 'reced': 2, 'suger': 2, 'orthoped': 2, 'pilmonari': 2, 'proceduro': 1, 'backpain': 3, 'tpiec': 1, 'challang': 1, 'onn': 1, 'nonetheless': 2, 'duir': 2, 'ckr': 1, 'atibiot': 2, 'anxiuo': 3, 'negati': 1, 'cefopim': 5, 'surther': 1, 'ceart': 1, 'yesterdat': 1, 'reacat': 1, 'withwbc': 1, 'levoflaxin': 1, 'appendectomi': 6, 'costochodr': 1, 'bacterimia': 2, 'suppost': 3, 'obv': 4, 'tmep': 1, 'swelll': 1, 'cear': 1, 'occupi': 6, 'ntsx': 2, 'approprit': 1, 'tibiali': 3, 'gluet': 1, 'season': 5, 'tcl': 2, 'foey': 1, 'endrocrin': 1, 'gelaten': 1, 'quadroplegia': 1, 'oxcycodn': 1, 'reportsd': 1, 'intergr': 2, 'pharang': 1, 'wtd': 1, 'intracrania': 2, 'expectoart': 1, 'decubit': 3, 'vigour': 3, 'reenter': 2, 'gdi': 1, 'resultsar': 1, 'paracardium': 1, 'atrovnet': 2, 'transitori': 1, 'rej': 2, 'sale': 1, 'gatorad': 1, \"mie'\": 1, 'brochoscopi': 1, 'seatbelt': 1, 'uncahang': 1, 'qustion': 1, 'desatsur': 1, 'dad': 5, 'claustraphobia': 1, 'rin': 1, 'eom': 8, 'aelrt': 1, 'moth': 2, 'comiv': 2, 'hyoid': 1, 'deserv': 1, 'aerstion': 1, 'scvo': 3, 'sbd': 1, 'altough': 1, 'genuin': 1, 'itnub': 1, 'sling': 6, 'dimiinsh': 1, 'positiv': 1, 'lousi': 2, 'crampi': 4, 'chemic': 7, 'cdv': 1, 'mf': 3, 'liquig': 1, 'rhythym': 3, 'tortur': 1, 'colligenas': 1, 'extubatiuon': 1, \"'cheyn\": 1, 'granchildren': 1, 'frquent': 1, 'reslult': 1, 'subtherapeurt': 1, 'zpt': 1, 'stokea': 1, 'tropl': 1, 'intubatioin': 1, 'concolid': 1, 'damper': 1, 'egophani': 4, 'grandfath': 2, 'relfex': 1, 'opein': 1, 'tropic': 1, 'dsrg': 1, 'stringlik': 1, 'copuld': 1, 'abtibiot': 1, 'threshhold': 2, 'spect': 3, 'perhilar': 1, 'laft': 1, 'imipenim': 1, 'presenti': 1, 'sveral': 1, 'nasoenter': 5, 'administrationg': 1, 'admitt': 3, 'slx': 1, 'imipenemen': 1, 'anterolithesi': 1, 'intqact': 1, 'broccoli': 1, 'schiziod': 1, 'rnging': 1, 'impinenum': 1, 'niphedipin': 2, 'director': 3, 'lag': 3, 'ectoppi': 1, 'particl': 3, 'bathtub': 1, 'removen': 1, 'pneumothorx': 1, 'evaluat': 2, 'perifissur': 2, 'placer': 1, 'divertucul': 1, 'efffus': 2, 'vido': 1, 'cevic': 1, 'encapsul': 1, 'nitika': 1, 'ispok': 1, 'nipedipin': 1, 'ginen': 1, 'hydrazlin': 1, 'qestion': 1, 'cxt': 1, 'isminim': 1, 'yea': 2, 'retrolisthesi': 3, 'acord': 1, 'psorasi': 1, 'ridig': 1, 'grate': 1, 'physcian': 1, 'overflow': 3, 'listhesi': 2, 'warter': 1, 'forlab': 1, 'phrenic': 3, 'dope': 1, 'fridg': 2, 'exers': 1, 'verapmil': 1, 'prelet': 1, 'osteoblast': 3, 'surig': 1, 'lactuloc': 1, 'serquoel': 1, 'desato': 1, 'flatulos': 1, 'tharapi': 1, 'ddsg': 1, 'lee': 1, 'obstracion': 1, 'klc': 1, 'atria': 5, 'xiphoid': 1, 'plebotomi': 1, 'echymot': 2, 'invol': 1, 'albutrol': 1, 'ecymot': 1, 'ramya': 2, 'ditazem': 1, 'empiriacl': 1, 'usoh': 7, 'hyrdrat': 1, 'sought': 3, 'attest': 1, 'dabx': 1, 'ronchuru': 1, 'gfr': 7, 'patientgentamicin': 1, 'menier': 1, 'breaht': 1, 'perilumbar': 1, 'sle': 5, 'hemipelvi': 4, 'lupu': 6, 'haze': 8, 'lupsu': 1, 'aglc': 5, 'nonvascular': 4, 'markinga': 1, 'wherea': 4, 'chornic': 2, 'dli': 1, 'obliteran': 3, 'pf': 6, 'serrosanguin': 1, 'elastiplast': 1, 'antigrav': 1, 'thoracotmi': 1, 'inci': 1, 'respilor': 2, 'caglu': 1, 'extubatuon': 1, 'ventiat': 2, 'reiorient': 1, 'othewis': 1, 'entireti': 3, 'ectoyp': 1, 'thobe': 1, 'anasarci': 1, 'sgot': 1, 'reapli': 1, 'inub': 1, 'bialt': 1, 'drnge': 1, 'dcm': 3, 'similari': 1, 'neng': 1, 'meso': 2, 'ichem': 1, 'trilept': 3, 'oxcarbazepin': 2, 'vancoymcin': 2, 'asjac': 1, 'eng': 1, 'ticken': 2, 'perpheri': 2, \"fxn'ing\": 1, 'ave': 1, 'hydracholathiazid': 1, 'sectet': 1, 'passeymuir': 1, 'acalculu': 2, 'oobtc': 3, 'respilar': 1, 'technician': 2, 'geiven': 1, 'cstm': 2, 'huband': 1, 'gallium': 1, 'maxliofaci': 1, 'recquir': 1, 'tilll': 1, 'quentin': 1, 'swna': 1, 'trila': 1, 'ovenight': 2, 'appeaer': 1, 'methelen': 1, 'desatt': 2, 'dissappear': 1, 'furnish': 1, 'airbolu': 1, 'perifer': 2, 'changemad': 1, 'hdp': 2, 'stanbi': 1, 'juncki': 1, 'tbf': 1, 'malrot': 1, 'sewn': 2, 'catapril': 1, 'passezmuir': 1, 'desesitizaion': 1, 'bronchospas': 1, 'hardli': 1, 'dposit': 1, 'pmeumococc': 1, 'extrememti': 1, 'nag': 2, 'syn': 2, 'diuresesd': 1, 'pddp': 1, 'genear': 1, 'jean': 1, 'anasacar': 1, 'polysinu': 1, 'trasfer': 4, 'preoxygen': 3, 'defec': 1, 'nonopacifi': 1, 'awkward': 1, 'dropp': 3, 'solwli': 1, 'passeymiur': 1, 'postprocedur': 1, 'hith': 1, 'asymptompat': 1, 'surveli': 1, 'indium': 1, 'ventac': 1, 'bilaterl': 1, 'will^': 1, 'autolog': 2, 'galium': 1, 'satg': 2, 'initailli': 4, 'mml': 1, 'azthromycin': 1, 'rxed': 2, 'intermittentlki': 1, 'mylasia': 1, '^sob': 1, 'infusint': 1, 'sicial': 1, 'subequ': 1, 'ddrop': 1, 'ndka': 1, 'arraang': 1, 'bovina': 1, 'leakso': 1, 'bivonna': 1, 'trachial': 2, 'danglk': 1, \"'sr\": 1, 'diostress': 1, 'wirh': 1, 'phlebolith': 2, 'dchart': 1, 'arousalb': 1, 'reorinet': 1, 'arrial': 1, 'abuss': 1, 'piecem': 6, 'dlaryng': 1, 'interacted': 1, 'cranki': 1, 'rnow': 1, 'ressussit': 1, 'adjacet': 1, 'siphon': 1, 'scm': 2, 'bullosa': 2, 'enteroflex': 1, 'millisecond': 7, 'extrathorac': 1, 'yearli': 1, 'vanoc': 1, 'evidnec': 1, 'freqent': 1, 'subscapular': 2, 'cartilag': 3, 'blcx': 1, 'tendinopathi': 1, 'pericathet': 1, 'prolif': 1, 'osteoarthrit': 1, 'giant': 2, 'presist': 2, 'hypervascular': 1, 'synovi': 4, 'helthcar': 1, 'vti': 1, 'dnystatin': 1, 'eit': 1, 'venbtil': 1, 'decedron': 1, 'communuc': 1, 'plade': 1, 'ffinard': 1, \"sx'nd\": 1, 'onoc': 1, 'hungeri': 1, 'boug': 1, 'imrov': 3, 'subtend': 1, 'atelect': 2, 'enlg': 1, 'sweatinbg': 1, 'areound': 1, 'cointrol': 1, 'fico': 1, 'minu': 5, 'visitir': 1, 'barimaxx': 2, 'rft': 1, 'excacerb': 2, 'arn': 1, 'dsng': 1, 'urinein': 1, 'waithout': 1, 'breakdowon': 1, 'enocurag': 1, 'occasionl': 1, 'dimisah': 1, 'stamina': 1, 'rewuir': 1, 'agtiat': 1, 'evev': 2, 'muchroom': 1, 'throght': 1, 'fenatanyl': 2, 'motuh': 1, 'dirues': 4, 'arrhytmia': 1, 'carevi': 1, 'functon': 1, 'imnprov': 1, 'appropir': 1, 'lightind': 1, 'fentnayl': 1, 'chunki': 1, 'diagnosit': 2, 'bucal': 1, 'tubeeffect': 1, 'boulus': 1, 'oldest': 4, 'calear': 1, 'hrwith': 1, 'secretionsin': 1, 'weanm': 1, 'tthick': 1, 'nskin': 1, 'knod': 1, 'metorpolol': 1, 'surigfoam': 1, 'atttempt': 1, 'sheed': 1, 'aread': 1, 'vestra': 1, 'novosourc': 2, 'slightl': 1, 'amioderom': 1, 'lenghth': 1, 'bibasliar': 1, 'lidocan': 1, 'tappabl': 2, 'quench': 1, 'regualr': 1, 'percus': 1, 'polychamb': 1, 'metropol': 1, 'echymott': 1, 'indigest': 2, 'falsli': 1, 'tympani': 1, 'guidwir': 3, 'naesthesia': 1, 'atim': 1, 'pneumonthorax': 2, 'testa': 1, 'cnt': 3, 'phyusic': 1, 'toxoplasmosi': 3, 'elctrolyt': 1, 'methodon': 3, 'tuberculin': 1, 'hbv': 7, 'hbc': 1, 'pitfal': 1, 'notch': 4, 'bsck': 1, 'giveng': 1, 'beef': 1, 'somethim': 1, 'unlobor': 1, 'vedio': 1, 'precat': 1, 'disciplanari': 1, 'smaal': 1, 'fct': 1, 'hmd': 1, 'antituss': 2, 'dia': 1, 'difficuli': 1, 'recordsvancomycin': 1, 'guiafenisen': 2, 'mcu': 2, 'uncuf': 5, 'sensi': 8, 'partn': 1, 'possiblil': 1, 'vomt': 3, 'ulc': 1, 'atraumat': 19, 'pediscop': 1, 'patientvancomycin': 1, 'miuc': 2, 'ileum': 6, 'omelett': 1, 'atelctasi': 2, 'incarcer': 3, 'strangul': 2, 'multpil': 1, 'obstuct': 3, 'plavi': 1, 'gurd': 1, \"dp'\": 1, 'brochial': 3, 'rape': 1, 'clonipan': 1, 'furth': 1, 'stolen': 1, 'isnt': 1, 'neutr': 1, 'sudaf': 1, 'ivrn': 2, 'revel': 2, 'eras': 2, 'emtot': 1, 'alternatey': 1, 'supportof': 1, 'prefor': 1, 'sllevyn': 1, 'basebal': 1, 'dimininish': 1, 'itnerv': 1, 'pittind': 1, 'hydro': 8, 'arrestn': 1, 'trick': 1, 'inapprori': 1, 'aliv': 7, 'scabe': 1, 'prepart': 2, 'intramur': 6, 'dvd': 3, 'tachypenea': 2, 'ascist': 1, 'snxing': 1, 'emphesema': 1, 'creep': 1, 'labetelol': 1, 'kidni': 1, 'considerabley': 1, 'nonvisu': 2, 'afebrl': 1, 'burger': 1, 'irregur': 1, 'effusionsm': 1, 'reasur': 1, 'bronchspast': 1, 'ltitrat': 1, 'suppor': 2, 'receheck': 1, 'troph': 2, 'eitolog': 1, 'brachiocepal': 1, 'witih': 1, 'fmaili': 1, 'menstruat': 1, 'suppitori': 1, 'probabilti': 1, 'recussit': 1, 'papular': 4, 'eposod': 1, 'todya': 1, 'hinder': 1, 'outweigh': 6, 'promd': 1, 'wouldnt': 1, 'bacaus': 1, 'figeti': 1, 'moprn': 1, 'comfor': 1, 'willfollow': 1, 'microneb': 2, 'wheezs': 1, 'mechnic': 1, 'lisinopri': 1, 'mar': 2, 'clonepin': 1, 'inu': 2, 'fidgiti': 1, 'orrali': 1, 'releif': 2, 'ood': 1, 'signifiacnt': 1, 'soungd': 1, 'parnoid': 1, 'appetiti': 2, 'psch': 1, 'inapropri': 1, 'pattent': 1, 'bben': 1, 'vedrs': 1, 'trnbasfer': 1, 'ceftr': 1, 'ovcer': 1, 'astatu': 1, 'pneumoccoc': 1, 'coherr': 1, 'klonidin': 1, 'strepto': 1, 'mucosa': 16, 'opo': 1, 'bilatearlli': 1, 'anisocoria': 1, 'seur': 1, 'witgh': 1, 'emolli': 2, 'drnr': 1, 'fereq': 1, 'desper': 1, 'coorper': 1, 'tpo': 1, 'informaion': 1, 'hcf': 1, 'uriun': 2, 'recommen': 1, 'intrapericardi': 3, 'ctz': 2, 'gorssli': 1, 'moaner': 1, 'guafenesin': 1, 'kyg': 6, 'contant': 1, 'ventriculoar': 1, 'eosinophila': 3, 'curbsid': 4, 'sequala': 1, 'bedchair': 1, 'balc': 1, 'ruleout': 1, 'intersitit': 1, 'inferolat': 1, 'possibly': 1, 'nontheless': 1, 'checkup': 1, 'lowsi': 1, 'supplementari': 2, 'fulid': 2, 'aspiratio': 1, 'anuria': 7, 'telemet': 1, 'postinfecti': 2, 'dial': 2, 'setback': 11, 'parenchyema': 1, 'resovl': 1, 'icm': 1, 'ak': 1, 'isorsorbid': 1, 'waffelr': 1, 'leov': 1, 'lungsound': 1, 'unload': 2, 'afebrik': 1, 'filll': 2, 'dobut': 3, 'equat': 1, 'sheat': 1, 'perki': 1, 'upurc': 1, 'protamin': 3, 'ttttto': 1, 'antiobot': 1, 'fling': 1, 'continnu': 1, 'thoraic': 1, 'presnet': 1, 'prouctiv': 1, 'draiang': 1, 'msvo': 1, 'hespan': 1, 'productuv': 1, 'partiallli': 1, 'serousnangin': 1, 'pocoumadin': 1, 'presentplan': 1, 'augement': 1, 'carbomed': 1, 'improiv': 1, 'invagin': 2, 'aatmpt': 1, 'mvso': 1, 'mebul': 1, 'thrusday': 1, 'doxcycyclin': 1, 'trqansfer': 1, 'cefapin': 1, 'gluccos': 1, 'lasr': 1, 'steoriod': 1, 'unopacifi': 1, 'pinsp': 1, 'deliou': 1, 'cortisyn': 1, 'detal': 1, 'endocran': 1, 'beacam': 1, 'lighli': 1, 'pheregan': 1, 'intermitten': 1, 'wothout': 1, 'probrabl': 1, 'cepatim': 1, 'rwhite': 1, 'aboukt': 1, 'doxycylin': 2, 'iintub': 1, 'mous': 1, 'diahrrea': 2, 'farm': 1, 'biliour': 1, 'steorid': 1, 'ejo': 2, 'z|': 2, 'ojqj^jh': 2, 'qf': 2, '|yy': 2, 'svttttlq': 2, 'waejg': 2, 'dq': 2, 'tktot': 1, 'heiy': 2, 'nnn': 2, 'cjojpjqj^jnho': 2, 'chlorhexdin': 1, 'zo': 2, 'kzmwc': 2, \"b'\": 2, 'dcl': 1, 'abcdefghijklmnopqrstuvwxyz': 2, 'vgpi': 2, 'ebx': 2, 'fug': 2, '^jajmh': 1, 'ilji': 2, 'kkkggg': 2, 'cebq': 2, '^j': 1, 'aub': 2, 'ggg': 2, 'mzm': 2, \"'t\": 3, 'fsx': 2, 'mnpj': 2, 'laf': 2, 'yd': 2, 'mbd': 2, 'xvuy': 2, 'jw': 2, 'hy': 3, 'tq': 2, 'eee': 2, 'cdehijknowxyz^': 1, 'b^': 2, 'abh': 1, 'yhwv': 2, 'adx': 1, '|x': 2, 'microsoft': 2, 'tmtntotzt': 1, 'ffqp': 2, '^i': 2, 'vo': 2, 'qqov': 2, 'aeijk': 1, 'shphct': 2, '|vi': 2, 'eqe': 2, 'qld': 2, 'cjajmhnhujh': 2, 'pi': 3, 'dulxo': 2, 'cjojqjuv^jaj': 1, 'schema': 2, 'gx': 2, 'vfv': 2, 'jjj': 2, 'gbi': 2, 'ihdr': 2, 'eyfp': 2, 'cee': 2, 'jv': 2, 'jpn|zb': 2, 'sft': 2, 'mndm': 2, 'gh': 2, 'if^': 2, 'rwsi': 2, 'nffhf': 2, 'pwow': 2, 'vtl': 2, \"p'\": 2, 'cjojqj^jajh': 2, 'shpplt': 2, 'bw^cw': 2, 'vdx': 2, 'vh': 2, 'cjojqju^jaj': 2, 'ze': 2, \"wegener'\": 1, 'initiati': 1, 'xq': 2, 'olwl': 2, 'uvwxyz': 1, 'ocio': 2, 'nw': 2, 'qn': 2, 'jigi': 2, 'elh': 2, 'tez': 2, 'ui': 2, 'v|': 1, 'jm': 2, 'tsc': 2, 'mvz': 2, 'receveiv': 1, 'idatx^': 2, 'gw': 2, 'cjojqju^jajh': 2, 'ko': 2, 'ibxg': 2, '^jaj': 2, 'zd': 2, 'shpwbc': 2, 'vvvvvvvv': 1, 'ycu': 2, 'fip': 1, 'qlcccc': 1, 'compobj': 2, 'granulomatosi': 2, 'thh': 1, 'rkd': 2, 'cb': 4, 'gkd': 2, 'dw': 6, 'jy': 2, '^lze': 2, 'yl': 1, 'lzra': 2, 'jxut': 2, '^qj': 2, 'tj': 2, 'ee': 2, 'jx': 3, 'jj': 2, 'ffj': 2, 'kbo': 2, 'sidatx^': 2, 'qb|': 2, 'kmdv': 2, 'ribi': 2, 'gsp': 2, 'jkd': 1, 'mmmhhh': 2, 'xppocnot': 2, 'iend': 2, 'syv': 2, 'gpl': 2, 'minutey': 1, 'uyl': 2, 'yfgga': 2, 'durin': 2, 'buxf': 2, 'cjajh': 2, \"amaa'\": 2, 'ae': 5, '^jaju': 1, 'nvo': 2, 'okpwp': 2, 'mq': 2, 'vmc': 2, 'hw': 2, 'ttttttl': 2, '|k^': 2, 'emr': 2, 'ay': 3, 'ccg': 2, 'oq': 2, 'dpx': 1, 'z^': 2, 's|f': 2, 'hlvo': 2, 'aocrf': 2, 'cj': 3, 'dhuorq': 2, 'fswi': 2, \"'uqg\": 2, 'oy': 3, 'ovk': 2, 'ffv': 2, 'rqb': 2, 't|t': 1, 'qvu': 2, 'cjuajh': 2, 'nocdxi': 1, 'ttooe': 2, 'xh': 2, 'khe': 2, 'a^': 2, 'zw': 2, 'wvmyvu': 2, 'hyesh': 2, 'yh': 2, 'dj': 2, 'dfk': 2, 'txe': 2, 'dotxppoc': 2, 'dfhm': 2, 'qxi': 2, 'bfm': 2, 'hxjgu': 2, 'vfx': 2, '^sx': 2, 'fff': 2, 'bdlt': 2, 'xf': 2, 'tro': 2, 'ftd': 2, 'fsp': 2, 'zex': 2, '^|d': 2, 'ein': 1, 'uz': 2, 'ydf': 2, 'rs^': 2, 'zfn': 2, 'gqt': 2, 'ia': 5, 'u^kq^': 2, 'ihdrvfw': 2, 'iy': 2, 'acxci': 2, 'postalcod': 2, 'moroxella': 1, 'zvhk': 2, 'uy': 2, 'suu': 2, 'rybx': 2, 'zkd': 2, 'abcd': 1, 'augapha': 2, 'tin': 4, 'qefeiq': 2, 'ec': 6, 'f|l': 2, 'dob': 4, 'kpsp': 2, 'lwc': 3, 'mdfl': 2, '|cl': 1, 'vbjbj': 1, 'smarttag': 2, 'fpu': 2, 'gqq': 2, 'dtj': 2, 'jojpjqj^jnho': 1, 'shphgb': 2, '|s': 2, 'uh': 2, 'tsummaryinform': 2, 'ifl': 2, 'pfq': 2, 'oxcn': 2, 'ajh': 2, 'srgb': 2, 'iz': 2, 'hzyh': 2, 'yt': 2, 'lx': 3, 'hhh': 2, 'f|uf': 2, 'ftth': 2, 'bv': 2, 'uvvvvv': 1, 'fl': 7, '|w': 2, 'dxfdl': 2, 'hvah': 2, 'nenl': 2, 'aqo': 2, 'qxq': 2, 'qg': 2, 's|': 2, 'miig': 2, 'zlkb': 2, 'vthf': 2, 'zza': 2, 'pj': 2, 'jxfh': 1, 'xg': 2, 'ooo': 3, 'gkdg': 2, 'qxbk': 2, 'xm': 2, 'kd': 2, 'xn': 2, 'stx': 2, 'yuim': 2, 'ik': 2, 'xoq': 2, 'wla': 2, \"w'\": 2, 'xv': 2, 'documentsummaryinform': 2, 'outstand': 3, 'fghijklm': 1, 'ryhc': 2, 'vdegg': 2, 'metabolit': 2, 'oyz': 2, \"dzz'\": 2, '|ff': 2, 'lh': 6, 'nrvliiu': 2, 'lkdv': 2, 'c^': 2, 'zwc': 2, 'ke': 2, 'fy': 2, 'abrsxbhk': 1, 'nghch': 2, 'ifa': 2, 'jh': 2, 'wdeu': 2, 'cq': 2, 'worddocu': 1, 'nxrv': 2, 'rkdz': 2, 'sjpa': 2, 'ji': 2, 'xx': 5, 'zqqqq': 1, 'cjojqj^jajhr': 1, 'omkkfk^k': 1, 'zuo': 2, 'jva': 2, 'pz': 1, 'ei': 2, 'svttttt': 2, 'se': 8, 'zxz': 2, 'fj': 2, 'xdrn': 2, 'tni': 2, 'xy': 2, 'itenk': 2, 'aeu': 2, 'um': 2, 'trpw': 1, 'adehjk': 1, 'v^vgvhvrvsv': 1, 'qdwu': 2, '^g': 2, 'mnoz': 1, '|u': 2, 'numpag': 2, 'abrxbhk': 1, 'cjojqj^j': 2, 'bsb': 2, 'vhvivrvsv': 1, 'jl': 2, 'cpvmh': 2, 'wdl': 2, 'xil': 1, 'plntl': 2, 'xp': 2, 'odi': 1, 'cuyi': 2, 'wiil': 1, 'vhi': 2, 'wlz': 2, 'ymj': 2, 'ldf': 2, 'antibitot': 1, 'neuck': 2, 'uu': 2, 'hkt': 2, 'cjojqj^jaj': 2, 'vpcsp': 2, 'hhhnnn': 2, 'aj': 2, 'odf': 2, 'nz': 2, 'rs': 8, 'ppbp': 2, 'eb': 2, 'onw': 2, 'mu': 3, 'qqq': 2, '|||': 2, 'eutttt': 2, 'cjaj': 2, '^jajh': 2, 'iap': 2, 'rdata': 1, 'oih': 2, 'ejk': 2, 'lz': 2, 'cjojqj': 2, 'urn': 3, 'euq': 2, '|c': 2, 'cxpq': 2, '|q': 2, 'rqujf': 2, 'b|': 2, 'cjojqjz': 1, 'bfiu': 2, 'agsa': 2, 'qfeqfkq': 2, 'lzpl': 2, 'fp': 2, 'moraxelia': 1, 'gt^': 2, 'ttit': 2, 'psn': 2, 'txf': 2, '|bc': 2, 'km': 2, 'jz': 2, 'fkd': 1, 'zhdk': 2, 'xcompobj': 1, 'o|': 2, '^jajmhsh': 2, 'begkm': 1, 'lcj': 2, 'objectpool': 2, 'ifgd': 2, 'ucto': 2, 'cjojqj^jajmhsh': 2, 'zg': 2, 'ztm': 2, 'ff': 4, 'bre': 1, 'hke': 2, 'pyl': 1, 'header': 2, 'chema': 1, 'hyw': 2, 'ol': 2, 'granulamoti': 1, 'smixu': 2, 'patientbactrim': 1, 'gq': 1, 'fpbrushpbrushpbrush': 2, 'pw': 2, 'depit': 1, 'intraaort': 1, 'sheathless': 1, \"con'\": 1, 'afbril': 1, 'prohibit': 3, 'schitzophrenia': 2, 'ttake': 1, 'elvat': 2, 'cardimyopathi': 1, 'favorit': 3, 'genic': 1, 'crazi': 2, 'schizoid': 1, 'dexonid': 1, 'vanilla': 2, 'claw': 1, 'haloldol': 1, 'lepiruden': 1, 'ele': 1, 'apici': 1, 'lepirudin': 1, 'asssit': 1, 'kinda': 1, 'wick': 2, 'guic': 2, 'somebodi': 1, 'surgi': 1, 'harass': 1, 'iapb': 1, 'fiberopt': 7, 'echolalia': 1, 'liberali': 1, 'inceasingli': 1, 'gaurdian': 2, 'aibp': 1, 'doscomfort': 1, 'arthrosi': 1, 'overgrown': 1, 'olanzepin': 5, 'generali': 1, 'chlorothizid': 1, 'plaxiv': 1, 'wrm': 1, 'efffect': 2, 'atchi': 1, 'pysch': 1, 'nondil': 3, 'clobetasol': 2, 'ciprovloxacin': 1, 'multipodo': 1, 'singificantli': 1, 'uneffect': 1, 'clenser': 1, 'amnioderon': 2, 'ivgtt': 1, 'cefep': 2, 'abdomi': 1, 'diliri': 1, 'fingernail': 2, 'mpb': 2, 'pernium': 1, 'indcat': 1, 'therapeaut': 1, 'cardigen': 1, 'fake': 1, 'hypob': 1, 'inco': 1, 'deceras': 2, 'palpab': 1, 'absoprt': 1, 'lipirudin': 1, 'stmulat': 1, 'baloon': 2, 'te': 6, '^lft': 1, 'barriercream': 1, 'occaasion': 1, 'coke': 3, 'preceed': 3, 'bioten': 1, 'propion': 4, 'doom': 1, 'occaison': 1, 'costovertebr': 2, 'stade': 1, 'bouuock': 1, 'agrastat': 1, 'treatmetn': 1, 'conver': 1, 'mobitz': 3, 'appettit': 2, 'unsignific': 1, 'bivent': 1, 'ux': 2, 'ckeck': 1, 'compuress': 1, 'bluish': 1, 'petichea': 1, 'hypokensi': 1, 'televis': 2, 'alright': 1, 'acount': 1, 'selectivley': 1, 'sj': 1, 'postplac': 1, 'uncomfor': 1, 'neutopenia': 2, 'actat': 1, 'abou': 1, 'cardura': 1, 'guifenesin': 1, 'coomod': 1, 'hypoxicwith': 1, 'withexert': 1, 'accapella': 1, 'aand': 1, 'indep': 2, 'currnet': 1, 'nauseax': 1, 'accapulla': 1, 'cintinnu': 1, 'coompazin': 1, 'desatto': 1, 'transiaent': 1, 'worseningdyspnea': 1, 'moral': 1, 'bhad': 1, 'cooperatv': 1, 'phelgm': 1, 'pyloroplasti': 1, 'sulcraf': 1, 'grandpar': 1, 'transhiat': 1, 'plagu': 2, 'backpack': 1, 'subsquent': 1, 'invok': 4, 'dysplasia': 3, 'celebrex': 4, 'bronchopulm': 2, 'supplier': 1, 'inhous': 2, 'doxepin': 2, 'europ': 1, 'herniorrohapi': 1, 'pericardectomi': 2, 'sigific': 1, 'hydo': 1, 'toridol': 1, 'spirocar': 2, 'hiistori': 1, 'pericardiectomi': 2, 'recievd': 2, 'desaturt': 1, 'crakl': 2, 'dropelt': 1, 'presenetd': 1, 'miniaml': 1, 'tarnsfer': 1, 'aab': 1, 'sucction': 1, 'sv': 5, 'anasacara': 1, 'benaprotein': 1, 'lotrimin': 2, 'doent': 1, 'speciamn': 1, 'anarcarca': 1, 'approprietli': 1, 'positionsl': 1, 'qvar': 5, 'chiari': 2, 'budd': 1, 'mickael': 1, 'plead': 2, 'coarser': 1, 'laisx': 3, 'broth': 2, 'tonnic': 1, 'synchronis': 1, 'rradial': 1, 'plase': 1, 'agitit': 1, 'handhold': 1, 'cirrhossi': 1, 'intxoci': 1, 'lbase': 1, 'enterocolon': 1, 'bpg': 1, 'prothesi': 1, 'pper': 1, 'patellofemor': 5, 'reddenend': 1, 'polymyxin': 1, 'sycop': 1, 'downstair': 3, 'nonmobil': 1, 'regrugit': 1, 'roomat': 1, 'prednisolon': 3, 'nodosum': 1, 'nighttim': 3, 'negoti': 4, 'lentiform': 2, 'hamstr': 2, 'dlbcl': 1, 'eshap': 1, 'midthigh': 1, 'surg': 1, 'nadir': 7, 'lymphma': 1, 'caridiolog': 1, 'gwlm': 7, 'hypdenisti': 1, 'presyncop': 4, 'retest': 1, 'tra': 1, 'typhil': 1, 'immunoreact': 1, 'ebv': 6, 'tdt': 1, 'hypdens': 2, 'interventricular': 1, 'neutropenia': 7, 'alopecia': 2, 'overaggress': 1, 'teritori': 1, 'feldberg': 2, 'gmpd': 2, 'merit': 1, 'viridan': 4, 'resurfac': 1, 'haemodinamicalyy': 1, 'dissip': 2, 'avanti': 1, 'bcl': 1, 'methotrex': 4, 'haemodinam': 6, 'aftert': 1, 'multistep': 3, 'pound': 6, 'accomplish': 3, 'ophth': 3, 'aneyrysm': 1, 'lq': 1, 'metclopromoid': 1, 'medaplex': 1, 'unnit': 1, 'fwd': 3, 'resultur': 1, 'wrinkl': 1, 'su': 2, 'menag': 1, 'bovin': 3, 'trachobronchomalacia': 2, 'otn': 1, 'employe': 4, 'deppest': 1, 'couch': 3, 'undrer': 1, 'corpor': 1, 'ovar': 1, 'raglan': 4, 'cgi': 1, 'admittd': 2, 'limen': 1, 'prune': 1, 'periwound': 1, 'tiss': 1, 'welfar': 1, 'amder': 1, 'var': 1, 'synchronousl': 1, 'poen': 1, 'ror': 1, 'doesnot': 2, 'pickwickian': 1, 'bacterema': 1, 'healthnet': 1, 'quset': 1, 'unemploy': 4, 'spokeperson': 1, 'grant': 2, 'effeort': 1, 'gleut': 1, 'sldo': 1, 'conso': 1, 'unitr': 1, 'nbrh': 1, 'oopen': 1, 'conplet': 2, 'protcet': 1, 'job': 3, 'progrress': 1, 'titer': 5, 'vangin': 1, 'dehis': 1, 'maser': 1, 'trachh': 1, 'biot': 1, 'sarosang': 1, 'viz': 2, 'urv': 1, 'infact': 3, 'tolerac': 1, 'fss': 5, 'heatlh': 1, 'edma': 1, 'cpa': 3, 'abbras': 1, 'hydram': 2, 'penitr': 1, 'pannu': 4, 'tissur': 2, 'eph': 3, 'phd': 7, 'pressuer': 1, 'valsatran': 1, 'aras': 1, 'commcar': 1, 'anthypertens': 1, 'midzon': 1, 'acutli': 1, 'horrifi': 1, 'colonosocpi': 1, 'intramedullari': 4, 'liquifi': 1, 'ransfus': 1, 'troponinin': 1, 'supervion': 1, 'golytyl': 1, 'myopath': 1, 'ipmn': 1, 'cftx': 3, 'pseudohypha': 3, 'instersti': 1, 'prominec': 1, 'intramuscular': 2, 'len': 3, 'vasculr': 1, 'elder': 3, 'wxt': 1, 'differneti': 1, 'birthdat': 1, 'creativ': 1, 'tubat': 1, 'jrci': 6, 'priro': 1, 'fial': 1, 'hid': 2, 'rheumatolog': 4, 'egc': 1, 'allianc': 1, 'onogo': 1, 'perfrom': 1, 'golytli': 1, 'ple': 2, 'critcal': 1, 'backward': 2, 'otomastoid': 1, 'rnp': 1, 'tre': 1, 'anc': 7, 'extrav': 2, 'wjm': 4, 'vernight': 1, 'blush': 1, 'trendin': 1, 'mushrrom': 2, 'llnezolid': 1, 'hematomoa': 1, 'resper': 1, 'levopflox': 1, 'bicard': 1, 'circumfer': 1, 'disciplinari': 4, 'cvicu': 10, 'yeasterday': 1, 'cloaca': 2, 'neueo': 1, 'hemofiltr': 1, 'anytim': 4, 'difinit': 1, 'xanthomona': 2, 'enterobacteria': 1, 'bodyfrom': 1, 'reuqir': 1, 'hyperconcentr': 1, 'pian': 1, 'nicardipin': 2, 'stenotrophomana': 1, 'offf': 1, 'enterbact': 1, 'maltophilia': 1, 'criticad': 4, 'cloacea': 1, 'transaxi': 3, 'maltophila': 1, 'piggi': 1, 'scanti': 1, 'dificult': 1, 'cvvhf': 1, 'pulmoanri': 1, 'stenotrophoma': 1, 'dysrhymia': 1, 'aean': 1, 'multilob': 2, 'amidoneron': 1, 'edenam': 1, 'tranfert': 1, 'lig': 2, 'tertiari': 2, 'radiologu': 1, 'appleid': 1, 'plaesent': 1, 'eccchymot': 1, 'esophg': 1, 'ijv': 4, 'schatzki': 1, 'esophagram': 3, 'fugasl': 1, 'recuur': 1, 'eurcerin': 1, 'mulipl': 1, '^l': 1, 'aferbil': 1, 'rpo': 1, 'immunodef': 1, 'pipricillin': 1, 'deteriori': 1, 'propohylaxi': 1, 'trak': 4, 'abnormalti': 1, 'cannulu': 1, 'malnourish': 11, 'perll': 1, 'effer': 2, 'lmwh': 5, 'cachexia': 3, \"she'\": 1, 'preload': 6, 'thrombot': 2, 'gastrectomi': 4, 'parencyhm': 1, 'njear': 1, 'prejejunostomi': 1, 'rerurn': 1, 'driver': 1, 'osteoperosi': 1, 'popul': 1, 'hemidiapragmat': 1, 'zetia': 3, 'phragm': 1, 'spondylosi': 9, 'hemidia': 1, 'fin': 5, 'donepin': 1, 'temt': 1, 'ariceot': 1, 'namenda': 4, 'kci': 1, 'rhythn': 1, 'collap': 1, 'pottassiun': 1, 'carecu': 1, 'epidos': 1, 'homorrhag': 1, 'immolilz': 1, 'galactomannon': 1, 'quadtant': 1, 'chondrocalcinosi': 1, 'flaygli': 1, 'stt': 2, 'pentopr': 1, 'desatuturaion': 1, 'transfom': 1, 'transfusuion': 1, 'downgo': 5, 'neglect': 4, 'duilut': 2, 'physiptherapi': 1, 'metopr': 1, 'duirng': 1, 'aaddit': 1, 'cef': 1, 'trigli': 1, 'conv': 1, 'purposel': 1, 'srtrting': 1, 'chondrocalcif': 1, 'nutrien': 1, 'pisotriquetr': 1, 'pantopr': 1, 'hemorrhagica': 1, 'complexion': 2, 'peron': 17, 'sini': 1, 'diltiezem': 2, 'antix': 2, 'celecoxib': 1, 'yestday': 1, 'beaselin': 1, 'currant': 2, 'syp': 2, 'dependedt': 1, 'hemeparesi': 2, 'ldlcalc': 1, 'fda': 2, 'filbril': 1, 'pyridoxin': 1, 'gof': 1, 'apreci': 1, 'rrv': 3, 'spu': 4, 'proteinuria': 4, 'inpt': 3, 'kalexal': 1, 'antigranulocyt': 1, 'xopenox': 1, 'phop': 1, 'parainfluenza': 7, 'latent': 1, 'tpmp': 1, 'nephrot': 3, 'virus': 5, 'atovoquon': 1, 'tiw': 2, 'rpgn': 1, 'immunoflouresc': 5, 'acna': 1, 'muddi': 2, 'flut': 10, 'granulocyt': 3, 'jirovecii': 5, 'boxer': 2, 'fbr': 8, 'parvoviru': 1, 'gn': 6, 'normocellular': 1, 'imuran': 2, 'paraflu': 2, 'settin': 1, 'tpmt': 1, 'parahypotyriod': 1, 'hypovelemia': 1, 'actu': 3, 'portegues': 1, 'glipizid': 8, 'rediscuss': 4, 'creatitin': 2, 'outlet': 3, 'aova': 6, 'henatoma': 1, 'bearhugg': 1, 'spontaneosli': 1, 'healtyh': 1, 'herat': 1, 'parameter': 1, 'rto': 3, 'neurotropho': 1, 'novent': 1, 'hypophosphemia': 1, 'drese': 1, 'trasit': 2, 'electropyt': 1, 'ratedecreas': 1, 'allyven': 1, 'increasinli': 2, 'necros': 1, 'anamia': 1, 'grovid': 1, 'accompain': 1, 'pcpap': 1, 'alleyn': 1, \"'want\": 1, 'grma': 1, 'venetd': 1, 'cang': 1, 'autoamput': 1, 'transx': 1, 'zofram': 1, 'deadspac': 2, 'hover': 6, 'potassim': 1, 'anattempt': 1, 'increaas': 1, 'quinidin': 2, 'sdedat': 1, 'criticid': 1, 'blader': 1, 'accessari': 1, 'nephrostomi': 3, 'irig': 1, 'basck': 1, 'lisix': 1, 'inconsisitanli': 1, 'noty': 1, 'watrer': 1, 'overdiuresi': 2, 'onscarum': 1, 'ocverag': 1, '^^bp': 1, 'grap': 1, 'feww': 1, 'ststolic': 1, 'reddden': 1, 'significamt': 1, 'prednisoln': 1, 'student': 8, 'respondi': 1, 'uuper': 1, 'correspod': 1, 'diurs': 5, 'accet': 1, 'normali': 1, '^up': 1, 'hydrophil': 1, 'exuber': 1, 'coaxial': 1, 'celer': 1, 'thrombectomi': 3, 'recannul': 1, 'roadmap': 2, 'supraclinoid': 2, 'arteriographi': 3, 'merci': 1, 'petrou': 2, 'cereb': 1, 'multilink': 1, 'oc': 2, 'thrombolysi': 1, 'stagnant': 1, 'elaps': 1, 'carot': 1, 'pedion': 1, 'aproach': 1, 'terumo': 1, 'thromboembol': 8, 'voyag': 1, 'inset': 2, 'excercis': 3, 'floven': 1, 'djrc': 1, 'micronas': 1, 'dementiacopd': 1, 'dlnc': 6, 'acetabulem': 1, 'ankylosi': 1, 'dimension': 2, 'darcoidosi': 1, 'persever': 5, 'radi': 1, 'cohes': 3, 'paracentr': 2, 'lyrica': 9, 'withhold': 5, 'pregabilin': 1, 'mania': 1, 'charger': 2, 'boniva': 2, 'prodrom': 6, 'bioavr': 1, 'prd': 1, 'tendin': 2, 'supratherapeuti': 1, 'budesonid': 2, 'darvocet': 1, 'snbp': 1, 'mardarin': 1, 'epigloti': 1, 'dilitazem': 1, 'emphasema': 1, 'trigemini': 1, 'pt\\x13': 1, 'blanchabl': 4, 'rrana': 1, 'dailli': 2, 'pedestrian': 1, 'pneumohemothorax': 1, 'freighten': 1, 'puesdomona': 1, 'starv': 1, 'scene': 2, 'den': 1, 'dsgauz': 1, 'vincent': 1, 'cerivc': 1, 'aquecel': 1, 'parkview': 1, 'intratrach': 2, 'diaphys': 1, 'struck': 3, 'polytrauma': 1, 'occiput': 1, 'abdomon': 1, 'minivan': 1, 'headed': 3, 'hemicolectomi': 2, 'dilaut': 1, 'retrocrur': 3, 'reanastomosi': 1, 'modr': 1, 'extreiti': 2, 'quiescent': 2, 'areat': 1, 'smallest': 2, 'hemorhag': 1, 'abuterol': 1, 'regen': 1, 'lympadenopathi': 2, 'shfd': 5, 'itp': 1, 'regener': 1, 'consum': 1, 'hyperexpand': 6, 'fhold': 1, 'subren': 2, 'dbc': 4, 'asplen': 1, 'staf': 3, 'hpylori': 1, 'ipra': 2, 'enker': 1, 'corrobor': 4, 'parieto': 2, 'carpometacarp': 1, 'zentker': 1, 'glucosamin': 1, 'tacchi': 1, 'unemp': 1, 'leukopenica': 1, 'tampanad': 1, 'herbal': 1, 'tacchycardia': 1, 'tamponand': 1, 'pancytopen': 3, 'erythematosu': 2, 'spleenomegali': 2, 'flax': 1, 'seros': 1, 'cardiomeg': 5, 'birth': 1, 'hemotolgi': 1, 'amenorrhea': 1, 'complement': 2, 'dna': 2, 'squeek': 1, 'bacteriamia': 1, '^^wob': 2, 'canulla': 1, 'nasalpharyng': 1, 'movabl': 2, 'cirrosi': 1, 'drainm': 1, 'thio': 1, 'luquid': 1, 'queation': 1, 'mlsof': 1, 'meropenam': 3, 'caller': 1, 'caspfungin': 1, 'emper': 3, 'lug': 1, 'contiunu': 1, 'prision': 1, 'peat': 2, 'replacinf': 1, 'compair': 1, 'benopro': 1, 'proppofol': 2, 'streph': 1, 'diminh': 1, 'extans': 1, 'absess': 1, 'squeev': 1, 'swalow': 1, 'dysnea': 1, 'oos': 1, 'candidemia': 1, 'ulser': 1, 'genta': 3, 'sampp': 1, 'pleual': 1, 'fenta': 2, 'benifib': 1, 'caspofungen': 1, 'exrcis': 1, 'mnoc': 1, \"abg'\": 2, 'ercent': 1, \"req'\": 2, 'merepenen': 1, 'constrast': 1, 'hrmodynam': 2, 'atriocav': 1, 'rhochoru': 1, 'allyvyn': 1, 'fungmia': 1, 'stonger': 1, 'akin': 1, 'flexas': 2, 'casperfungin': 1, 'ssoft': 1, 'endothorac': 1, 'gol': 1, 'oprer': 1, 'positioin': 1, 'sorb': 2, 'acetalazolamid': 1, 'weakn': 1, 'jaudic': 1, 'delemia': 1, 'superimposit': 2, 'myulti': 1, 'carv': 1, 'picclin': 1, 'intaubt': 2, 'meropemen': 1, 'throath': 1, 'beliv': 2, 'respnd': 1, 'aersol': 3, 'cocciin': 1, 'mnonitor': 1, 'visistor': 1, 'poa': 6, 'shr': 1, 'nonrebrath': 1, 'maaintain': 1, 'upperextrem': 1, 'ield': 1, 'midli': 4, 'stil': 3, 'peptic': 5, 'diatstol': 1, 'kayexalaet': 1, 'wheterh': 1, 'mole': 1, 'antiarrythm': 3, 'auscultaton': 1, 'iconsolid': 1, 'levofloxaciin': 2, 'claustrophobia': 2, 'compes': 1, 'repletiion': 1, 'applesuac': 1, 'orienetd': 1, 'carbohydr': 5, 'toothett': 3, 'puttin': 1, 'procuct': 1, 'tachyarrythmia': 1, 'nsrvt': 1, 'levalbuterol': 2, 'montiro': 1, 'cml': 3, 'txed': 1, 'hypotenion': 1, 'lef': 1, 'compasin': 1, 'possibel': 2, 'extracrani': 4, 'clturesd': 1, 'caroti': 1, 'hypoporfus': 1, 'autoreg': 1, 'orreg': 2, 'empriic': 1, 'smolder': 1, 'att': 2, 'disodium': 1, 'patientcodein': 2, 'mirtazipin': 1, 'meme': 1, 'yesterdya': 1, 'pamidron': 4, 'falx': 1, 'hide': 4, 'neuo': 1, 'gretar': 1, 'abnml': 2, 'impaiir': 1, 'ectpi': 1, 'colr': 2, 'exhbit': 1, 'functio': 1, 'coclostomi': 1, 'longitudin': 4, 'sytolilc': 1, 'ptot': 1, 'amopunt': 1, 'fremitu': 3, 'resucuit': 1, 'flutterto': 1, 'phenylepherin': 1, 'reolv': 1, 'abal': 1, 'robitiussin': 1, 'penumonectomi': 1, 'mnth': 1, 'fluorinef': 1, 'admsion': 1, 'spprimari': 1, 'egophoni': 7, 'aysmptomat': 1, 'presusr': 1, 'eventaulli': 1, 'preacher': 1, 'spondylolisthesi': 1, 'atelectati': 1, 'prepsep': 1, 'seedi': 1, 'please': 1, 'humifi': 1, 'lma': 2, 'fussi': 1, 'perph': 1, 'earil': 1, 'penial': 1, 'linearli': 1, 'statiu': 1, 'scotal': 1, 'hemodynamioc': 1, 'propofopl': 1, 'ambiem': 1, 'doen': 1, 'midst': 2, 'rotari': 1, 'detrol': 1, 'thymic': 1, 'insignific': 4, 'leguionella': 1, 'ipap': 2, 'propofl': 2, 'pgi': 6, 'bcoz': 2, 'clozapin': 3, 'shore': 3, 'unpredict': 1, 'uag': 2, 'rgm': 2, 'combineb': 1, 'ocd': 3, 'epap': 2, 'thiothixen': 1, 'phychiatr': 1, 'exaccerb': 2, 'hifi': 1, 'infilter': 4, 'classifi': 3, 'schizo': 2, 'appropiatelt': 1, 'hha': 2, 'repositio': 2, 'ranbl': 1, 'dishcarg': 1, 'amdinist': 1, 'aggitit': 1, 'aparatu': 1, 'mrone': 1, 'tubs': 1, 'ddri': 1, 'intermittenlti': 1, 'anteroposteriorli': 1, 'pboot': 2, 'apicolater': 1, 'regimn': 2, 'aprv': 2, 'lesi': 1, 'hsift': 1, 'deverfesc': 1, 'careveiw': 1, 'tomographi': 6, 'undrain': 1, 'recuper': 1, 'ctsx': 1, 'plow': 1, 'phigh': 1, 'dresss': 1, 'emtoin': 1, 'comnfort': 1, 'bronchscopi': 2, 'thorcotomi': 1, 'portoven': 1, 'thoarcic': 1, 'calicum': 2, 'suppres': 2, 'tlow': 1, 'eahn': 2, 'ehad': 2, 'replar': 1, 'shsf': 8, 'interfac': 2, 'sgnific': 1, 'network': 1, 'rapi': 1, 'rheumatiod': 1, 'rextub': 1, 'balx': 1, 'scane': 1, 'dopper': 2, 'stringi': 2, 'criti': 1, 'aqaugel': 1, 'deformati': 1, 'dischang': 1, 'afibwith': 1, 'treamtnet': 1, 'iregularli': 1, 'ainstem': 1, 'carbotaxel': 1, 'hsopic': 1, 'asx': 3, 'peritransf': 1, 'nuetropen': 1, 'suppment': 1, 'filgastrin': 1, 'undifferenti': 1, 'arranegemnt': 1, 'exppiraotri': 1, 'famiili': 1, 'prommin': 1, 'taxel': 1, 'fibrill': 1, 'feautr': 1, 'speed': 3, 'conflict': 7, 'asymetri': 3, 'proclhorperazin': 1, 'referrs': 1, 'dures': 2, 'bllod': 3, 'buri': 2, 'palliat': 3, 'worsend': 1, 'xtr': 1, 'ivss': 1, 'hex': 2, 'restar': 2, 'mucocys': 1, 'tumour': 3, 'applicat': 1, 'militari': 2, 'realtiv': 2, 'patienttetracyclin': 1, 'zosi': 1, 'futurw': 1, 'anticpagul': 1, 'leukopen': 2, 'halloween': 1, 'fna': 1, 'metast': 2, 'checmotherapi': 1, 'rlung': 1, 'liekli': 4, 'diltiazim': 1, 'neuroendocrin': 3, 'miscel': 2, 'finsih': 1, 'srranegemnt': 1, 'decb': 1, 'cefepema': 1, 'extuab': 2, 'paraneoplast': 1, 'unprofession': 1, 'tohold': 1, 'bisphosphon': 1, 'checmo': 1, 'abdomino': 1, 'feasibili': 1, 'curabl': 1, 'intrabronchi': 1, 'contoinu': 1, 'extensis': 1, 'ocurs': 1, 'cremat': 1, 'asv': 1, 'lyphadenopathi': 2, 'tumeo': 1, 'thoruhgout': 1, 'shge': 1, 'methyprednisolon': 2, 'sast': 3, 'ower': 1, 'galbladd': 2, 'multichamb': 1, 'imorov': 1, 'tmin': 1, 'preasur': 1, 'unremak': 1, 'cliber': 1, 'hyperattenu': 2, 'hyperoximia': 1, 'nauseua': 1, 'monitro': 1, 'periaort': 2, 'thrughout': 1, 'pacut': 1, 'junctiion': 1, 'aorto': 1, 'discussiion': 1, 'pivott': 1, 'evar': 1, 'endoleak': 1, 'aortoenter': 1, 'morphon': 2, 'possbl': 2, 'bec': 1, 'endograft': 1, 'aortobifem': 1, 'argument': 5, 'fowler': 4, 'occasioanl': 1, 'abe': 1, 'bedroom': 2, 'innappropi': 1, 'actuallli': 2, 'loressor': 1, 'nnote': 1, 'coasr': 1, 'yancher': 1, 'resposn': 1, 'inatct': 1, 'intregr': 1, 'basellin': 1, 'awawk': 1, 'inittiali': 1, 'mre': 1, 'andf': 2, 'oreient': 1, 'czrevu': 1, 'seadtion': 1, 'posv': 1, 'retraint': 1, 'ned': 1, 'demostr': 1, 'rerestrain': 1, 'thicwhit': 1, 'indentif': 1, 'ceftraixon': 3, 'azitroamycin': 1, 'humidi': 1, 'glassi': 1, 'beclov': 1, 'aztreom': 1, 'nidepin': 1, 'keratio': 1, 'nifidipin': 1, 'pantamidin': 1, 'intunb': 1, 'desatru': 1, 'exsufl': 2, 'requist': 1, 'lactulous': 2, 'ffm': 1, 'squees': 1, 'vascath': 1, 'diast': 3, 'inertact': 1, 'lvedv': 1, 'concerv': 1, 'regurgitatiaon': 1, 'withperf': 1, 'hrrr': 1, 'duod': 1, 'culltur': 3, 'bpsyst': 1, 'fremetu': 1, 'drymm': 1, 'overcom': 1, 'ogilivi': 1, 'seroneg': 2, 'denei': 1, 'vasodil': 8, 'guillan': 2, 'jewleri': 1, 'cvo': 2, 'thermoregul': 1, 'syphili': 2, 'coccyg': 4, 'radiopharmaceut': 6, 'megac': 2, 'meat': 3, 'mci': 6, 'preventit': 1, 'mdp': 3, 'ymf': 7, 'yankaw': 2, 'gemcitabin': 2, 'whiteout': 7, 'obstr': 1, 'djrx': 1, 'bronchosopi': 1, 'pemetrex': 2, 'osteodystrophi': 2, 'unhook': 1, 'jerki': 1, 'infl': 1, 'warrent': 2, 'serequil': 2, 'jvg': 5, 'pscyh': 1, 'chonic': 2, 'levofloxacillin': 2, 'consisitenetli': 1, 'coamnd': 1, 'menatl': 1, 'placc': 1, 'thenpt': 1, 'cetriaxon': 4, 'diffucalti': 1, 'repoet': 1, 'desptit': 1, 'arthoplasti': 1, 'halsol': 1, 'stubborn': 1, 'antihistamin': 1, 'guiafenisin': 1, 'repitit': 1, 'disychron': 1, 'atrail': 1, 'strenal': 1, 'ajdunct': 1, 'adequit': 1, 'adit': 1, 'trydin': 1, 'avaial': 1, 'azithrmycin': 1, 'disynchroni': 1, 'pertussin': 1, 'radioopac': 1, 'radiopac': 3, 'prvc': 8, 'dysynchronon': 1, 'concens': 1, 'fortun': 3, 'unstimul': 3, 'shfit': 1, 'prehypertens': 1, 'indomethecin': 1, 'item': 6, 'simplifi': 1, 'behalf': 5, 'primarli': 1, 'aib': 1, 'dimisnih': 1, 'conest': 2, 'agrees': 1, 'oncom': 2, \"does'nt\": 2, \"'and\": 1, 'pneumoia': 2, 'serevet': 1, 'tachpneiuc': 1, 'nsclung': 1, 'veru': 1, 'paprecita': 1, 'sotolol': 1, 'lso': 1, 'nac': 5, 'vva': 1, 'atrient': 1, 'apar': 1, 'neutropnia': 1, 'inlcud': 1, 'relatuv': 1, 'pilonid': 2, 'restor': 5, 'epmpyema': 1, 'accompan': 1, 'drawal': 1, 'admx': 1, 'nam': 2, 'hame': 1, 'ehtic': 1, 'amongst': 2, 'usu': 1, 'vicu': 1, 'hemdynam': 2, 'neosyenphrin': 1, 'diarhea': 1, 'spftsorb': 1, 'vsicu': 1, 'kinnaer': 1, 'sscp': 2, 'auacel': 1, 'gangrren': 1, 'dcoper': 1, 'toleer': 1, 'turniong': 1, 'feelow': 1, 'ahpb': 1, 'bretah': 1, 'rythem': 2, 'givrn': 1, 'ogtub': 1, 'metopropolol': 1, 'respones': 1, 'toletr': 1, 'pericariectomi': 1, 'downslop': 4, 'ssinsulin': 1, 'pal': 2, 'amniodaron': 1, 'neurosarcoidosi': 2, 'supertherapeut': 3, 'wdwn': 2, 'folri': 1, 'neurosarcoid': 2, 'stablizi': 1, 'quid': 1, 'overdr': 1, 'unlikley': 2, 'mastectomi': 2, 'affes': 1, 'startedprednison': 1, 'corticosteroid': 5, 'broader': 4, 'likey': 4, 'possit': 1, 'hyst': 1, 'urnin': 1, 'wallker': 1, 'odererd': 1, 'didnot': 1, 'obe': 1, 'withu': 1, 'eccyhmosi': 1, 'pseudamon': 1, 'antipsychot': 6, 'punch': 2, 'cfl': 1, 'jeviti': 3, 'nonformulari': 1, '^tth': 1, 'albutero': 1, 'reanal': 1, 'uncl': 2, 'risperd': 5, 'orthoponea': 1, 'ret': 1, 'hypoglyceamia': 1, 'lisnopril': 1, 'hyperchlorem': 5, 'carbepenem': 1, 'showel': 1, 'cardioprotect': 1, 'epoeitin': 1, 'fise': 1, 'suctionedfor': 1, 'jjf': 1, 'humalin': 1, 'tachypneak': 1, 'preround': 2, 'aureginosa': 1, 'trsat': 1, 'cnsd': 2, 'hypophosphatemia': 5, 'pneumnonia': 2, 'judg': 1, 'azb': 2, 'tidac': 1, 'tbg': 1, 'tunnl': 1, 'exo': 1, 'esomeprazol': 1, 'fondapar': 1, 'pseud': 1, 'hbg': 2, 'antipseudomon': 1, 'mailto': 3, 'ssment': 1, 'susbequet': 1, 'hdfor': 1, 'noncuf': 1, 'calctbg': 1, 'dysynch': 1, 'pseudoma': 1, 'cog': 1, 'wp': 1, 'dound': 1, 'diltazam': 1, 'inspitori': 1, 'gangcyclovir': 1, 'hemodialyz': 1, 'trabnsient': 1, 'overdialyz': 1, 'justifi': 2, 'viremia': 1, 'csa': 1, 'effecti': 1, 'susbequ': 1, 'rechck': 1, 'daylight': 1, 'ngsf': 2, 'clincial': 3, 'edam': 1, 'transplat': 1, 'guestur': 1, 'stength': 1, 'hypercholesterol': 1, 'novolog': 2, 'hemodialyiisi': 1, 'hyperlipidema': 2, 'vpice': 1, 'recreas': 1, 'correlatingpt': 1, 'qb': 1, 'distresss': 1, 'hitt': 1, 'diaylsi': 1, 'quinolon': 6, 'pansensit': 3, 'cntinu': 1, 'tryin': 1, 'asthama': 1, 'convertig': 1, 'wrespiratori': 1, 'ditiazem': 2, 'trendingdong': 1, 'medivion': 1, 'endocrinolog': 1, 'finsulin': 1, 'pseudomna': 1, 'sbplow': 1, 'diltiazam': 2, 'pseudocholinesteras': 1, 'incontinen': 1, 'spl': 1, 'sensitivi': 7, 'priscrib': 1, 'systoc': 1, 'unph': 1, 'portuges': 4, 'cilastatin': 2, 'protugues': 1, 'tuptak': 1, 'tft': 4, 'biacodyl': 1, 'aeurginosa': 1, 'incorpor': 1, 'mannag': 2, 'ciontinu': 1, 'transufs': 1, 'humullin': 1, 'staphaur': 1, 'demonstrate': 1, 'pannicul': 1, 'birder': 1, 'fati': 1, 'twf': 3, 'minocyclin': 1, 'diphenhydramin': 3, 'aureou': 1, 'wounc': 1, 'collectino': 1, 'viscu': 1, 'exploratori': 2, 'peach': 1, 'mixtur': 2, 'baium': 1, 'turbid': 3, 'trajectori': 1, 'peritin': 1, 'sigmoidectomi': 1, 'duo': 2, 'omentum': 3, 'plactment': 3, 'exlap': 2, 'anastomot': 1, 'appendic': 1, 'macrophag': 1, 'progressov': 1, 'hypereosinophil': 1, 'worsten': 3, 'abnom': 2, 'infiltar': 1, 'diluadid': 2, 'hp': 2, 'knowd': 1, 'neumon': 1, 'odl': 1, 'insomia': 1, 'pregnant': 3, 'hme': 2, 'transpulmon': 1, 'tbbx': 2, 'biospi': 4, 'motnh': 1, 'trasnfger': 1, 'dysonea': 2, 'dermatomyos': 1, 'expedit': 2, 'leptomening': 7, 'lyme': 1, 'leptospirosi': 1, 'postinflammatori': 1, 'hav': 2, 'ehrilichia': 1, 'visi': 1, 'erlichiosi': 1, 'restricion': 1, 'igm': 5, 'pantoprozol': 2, 'lymphocytochoriomening': 1, 'hyptotens': 1, 'ivsion': 1, 'cound': 1, 'boipsi': 1, 'hhv': 2, 'cytometri': 2, 'hemolys': 2, 'demyelin': 3, 'hypoalbuminem': 1, 'ttg': 1, 'mutat': 2, 'enceph': 7, 'otoxoc': 1, 'abnormail': 1, 'lymphocyctosi': 1, 'effis': 1, 'vhhc': 1, 'rodent': 1, 'entak': 1, 'hhc': 1, 'lymphomcyt': 1, 'vdrl': 1, 'varicella': 3, 'hemochromatosi': 2, 'bilarer': 1, 'ondansetrol': 1, 'pulsesl': 1, 'ehrlichia': 3, 'syphilli': 1, 'lymphocytosi': 2, 'multiorgan': 3, 'ration': 2, 'contibut': 2, 'unrel': 6, 'tna': 1, 'gdextros': 1, 'lethospirosi': 1, 'hereditari': 1, 'spirochet': 1, 'pcr': 10, 'pivet': 1, 'sjogren': 1, 'mice': 1, 'tbna': 1, 'hanta': 2, 'ippv': 2, 'hlh': 1, 'electrophoresi': 1, 'abid': 2, 'multisystem': 1, 'lympanopathi': 1, 'arboviru': 1, 'colorless': 1, 'noncardiogen': 2, 'noninfecti': 5, 'ceruloplasmin': 1, 'monocyt': 1, 'bedsi': 1, 'choriomening': 1, 'vzv': 2, 'abdnorm': 1, 'priorit': 1, 'asterixisi': 1, 'gaa': 1, 'aliment': 1, 'galactomann': 1, 'ascet': 3, 'histoplasma': 3, 'behcet': 1, 'sprue': 1, 'treponem': 1, 'elus': 2, 'thrirsti': 1, 'whichev': 1, 'leptospira': 1, 'recusit': 1, 'thrombotytopenia': 1, 'asterix': 1, 'bcse': 1, 'vector': 1, 'ehospit': 1, 'umbrella': 2, 'cecu': 1, 'ureterovesicular': 1, 'cecal': 3, 'ogilvi': 3, 'loom': 1, 'mididrin': 1, 'fopr': 1, 'radail': 1, 'iavb': 1, 'thorough': 1, 'rtrad': 1, 'palabl': 1, 'unsupport': 5, 'pilot': 1, 'doa': 1, 'predniselon': 1, 'imper': 1, 'dimminish': 1, 'frequantli': 1, 'withouth': 1, 'perspir': 1, 'levadopa': 2, 'candidia': 1, 'tracheiti': 2, 'distraught': 2, 'rhd': 3, 'percodan': 2, 'furthur': 2, 'ccon': 1, 'tranx': 4, 'asacol': 2, 'pinki': 1, 'receiven': 1, 'nwb': 1, 'xxx': 4, 'coolneb': 1, 'withsob': 1, 'effcet': 1, 'atroven': 2, 'tachicard': 1, 'cought': 2, 'refkect': 1, 'compel': 3, 'suboptimalwil': 1, 'elavil': 1, 'onoclogist': 1, 'glyberid': 1, 'jplace': 1, 'glyburid': 4, 'ifn': 2, 'titanium': 1, 'ocver': 1, 'hoem': 1, 'stanidng': 1, 'melenoma': 1, 'iiic': 1, 'titrabl': 1, 'bst': 1, 'amytriptylin': 1, 'arthroma': 1, 'unkink': 1, 'lvf': 2, 'affabl': 1, 'fn': 8, 'azipthromycin': 1, 'hypothyr': 1, 'hosoit': 1, 'cchang': 1, 'lpuls': 1, 'fidget': 1, 'faairli': 1, 'irrigant': 1, 'haspain': 1, 'lith': 1, 'amll': 1, 'irrrig': 1, 'coccyn': 1, 'percoet': 1, 'clariti': 1, 'alum': 1, 'proedur': 1, 'shiftmetabol': 1, 'uper': 1, 'palit': 1, 'aroun': 1, 'trolard': 1, 'adenomatoid': 1, 'holdup': 1, 'osteomyl': 2, 'vertebrobasilar': 1, 'adduct': 3, 'bactreial': 1, 'impar': 1, 'pachi': 1, 'periradicular': 1, 'stomat': 1, 'senc': 2, 'appolog': 1, 'fiduci': 2, 'knife': 1, 'nslc': 1, 'oe': 1, 'acutelyworsen': 1, 'dissatisfi': 1, 'wate': 1, 'tkr': 7, 'pleurovac': 1, 'psox': 1, 'osteotomi': 1, 'interpos': 1, 'misdirect': 1, 'kyphoscoliosi': 4, 'bonchovascular': 1, 'hypocholesterolemia': 1, 'glycerid': 1, 'lockout': 1, 'rescan': 2, 'pneuomothorax': 1, 'polymyalgia': 1, 'dobutamon': 1, 'kayaxol': 1, 'wafe': 1, 'hurri': 1, 'deoderm': 1, 'verab': 1, 'dopaim': 1, 'shatter': 1, 'hell': 2, 'viabil': 2, 'bale': 2, 'thallium': 2, 'herapin': 1, 'mrge': 2, 'dopain': 1, 'occassionali': 2, 'duoern': 1, 'histamin': 2, 'zyprexin': 1, 'tubef': 1, 'poosibl': 1, 'perhr': 1, 'carckl': 1, 'cholinerg': 1, 'giuac': 1, 'warfain': 1, 'mvoe': 1, 'pleuural': 1, 'comtinu': 2, 'doputamin': 1, 'oink': 1, 'patter': 1, 'strait': 1, 'danglig': 1, 'lone': 2, 'cantanker': 1, 'descib': 2, 'categori': 2, 'pleaural': 2, 'cymbalta': 6, 'toom': 1, 'cholecyctilit': 1, 'simmilar': 1, 'decrement': 2, 'bifasicular': 1, 'valproic': 4, 'cct': 4, 'acetabular': 4, 'ectasia': 5, 'myoglobinuria': 1, 'ambigu': 1, 'spat': 1, 'brachioradiali': 1, 'adequatli': 1, 'prohress': 1, 'antiplatelet': 3, 'paresi': 3, 'eveid': 2, 'survey': 1, 'urban': 1, 'upgaz': 1, 'hypexia': 1, 'sagit': 1, 'asever': 1, 'exersis': 1, 'claustrophob': 3, 'rightsid': 1, 'restarint': 1, 'iubprofen': 1, 'coopar': 1, 'bpap': 2, 'dmultipl': 1, 'sttempt': 1, 'reccomedn': 1, 'dariculopahti': 1, 'radiculopathi': 2, 'omem': 1, 'strido': 1, 'scc': 8, 'bedlin': 1, 'scca': 2, 'medaistin': 1, 'sttemp': 1, 'radiculopahti': 1, 'unmet': 1, 'underlyinig': 1, 'submucos': 1, 'nirs': 1, 'radioluc': 3, 'negaitv': 2, 'industri': 1, 'chk': 1, 'attg': 6, 'ureteroscopi': 2, 'anastamosi': 2, 'surger': 1, 'flag': 1, 'premorbid': 1, 'cea': 4, 'emaci': 2, 'nonradiopaqu': 1, 'ashen': 2, 'metopralol': 1, 'chect': 1, 'azithrimycin': 1, 'lavo': 1, 'alp': 2, 'reportedthat': 1, 'qmonday': 1, 'lsb': 2, 'steatohepat': 1, 'clopidogrel': 4, 'indict': 2, 'reck': 1, 'adminsit': 1, 'downto': 1, 'altaplas': 1, 'appropx': 1, 'pss': 1, 'hydrea': 1, 'bldg': 1, 'heati': 1, 'opaciti': 1, 'hydroxyurea': 3, 'mpsc': 1, 'geriatrician': 1, 'elevaet': 1, 'calledto': 1, 'infeciton': 1, 'povh': 1, 'prevou': 2, 'dssd': 3, 'ceftazin': 1, 'hydorcortison': 1, 'extubt': 3, 'mkore': 1, 'edmat': 1, 'wsd': 1, 'vietnames': 1, 'mushroon': 2, 'phoin': 1, 'tridyn': 1, 'erd': 1, 'appropropri': 1, 'mimim': 1, 'astreonam': 1, 'considert': 1, 'viocodin': 1, 'ncslc': 1, 'dehydratioin': 1, \"day'\": 1, 'vareniclin': 1, 'vocabulari': 1, 'chantix': 1, 'constent': 1, 'dicc': 1, 'hypomagnisemia': 1, 'lymp': 1, 'fup': 2, 'liuqid': 1, 'besyl': 2, 'cuad': 1, 'polymicrobi': 7, 'hk': 5, 'tendini': 1, \"'a\": 1, 'verbiag': 1, 'proceur': 1, 'corda': 1, 'posterioli': 1, 'valuium': 1, 'eustachian': 3, 'pendi': 1, 'hemidiaphrapm': 1, 'cholest': 2, 'banalc': 1, 'signfici': 4, 'aksb': 2, 'tread': 1, 'subsalicyl': 1, 'meningism': 1, 'kaopect': 1, 'hrct': 4, 'shelik': 1, 'totprot': 1, 'bismuth': 1, 'arso': 1, '^d': 1, 'midclavicl': 1, 'pizza': 1, 'psuedomon': 1, \"cx'\": 2, 'albutreol': 1, 'cepefim': 1, 'prgress': 1, 'insmal': 1, 'producitv': 1, 'condidt': 1, 'reposons': 1, 'maintaint': 1, 'vigilantli': 2, 'microdata': 2, 'peeep': 1, 'toil': 1, 'verbalis': 1, 'nonadher': 1, 'procudur': 1, 'lrage': 1, 'laast': 1, 'effctiv': 1, 'adust': 1, 'qti': 1, 'unablet': 1, 'ptr': 1, 'rlc': 1, 'ont': 1, 'invest': 1, 'interpert': 1, 'hypernatrium': 1, 'pase': 1, 'recept': 2, 'availi': 1, 'pychiatr': 1, 'surprizingli': 1, 'recv': 1, 'baratr': 1, 'clobestol': 1, 'ectopt': 1, 'cryo': 1, 'betamethason': 2, 'occul': 1, 'erythremat': 1, 'endocardit': 1, 'wain': 1, 'superviss': 1, 'graphic': 1, 'depo': 1, 'choleysist': 1, 'freuqent': 1, 'rear': 1, 'femerol': 1, 'satisafctori': 1, 'pfr': 2, 'legionnair': 3, 'twelv': 1, 'verb': 1, 'cholecyt': 1, 'transpulmonari': 2, 'weaend': 1, 'legionna': 1, 'movem': 1, 'liner': 2, 'moniotor': 1, 'scelera': 1, 'abnormalitiy': 1, 'fuid': 1, 'sequent': 1, 'cuvrv': 1, 'todat': 2, 'clobestsol': 1, 'schizoprenia': 1, 'panu': 2, 'dyne': 2, 'favour': 1, 'mting': 1, 'comppens': 1, 'soudn': 1, 'posiibl': 1, 'antcip': 1, 'prc': 2, 'amont': 1, 'precauion': 1, 'subclavi': 1, 'hist': 1, 'hydralyzin': 1, 'assault': 3, 'delec': 1, 'sclqae': 1, 'hypenatremia': 1, 'incenitv': 1, 'orlb': 1, 'colum': 2, 'ridden': 1, 'ibandron': 2, 'convalesc': 1, 'intetmitt': 1, 'bonchiti': 1, 'empric': 2, 'mie': 3, 'lmidron': 1, 'riclast': 1, 'nocuturn': 1, 'clinici': 1, 'pecocet': 1, 'andm': 1, 'rhochi': 1, 'legnionella': 1, 'morphic': 1, 'persev': 3, 'aspiraiton': 1, 'shit': 1, 'monomorph': 2, 'pneuomonia': 2, 'gentlr': 1, 'atart': 1, 'mulitlobular': 1, 'retroperitonael': 1, 'plugg': 1, 'cpcp': 2, \"'snsr\": 1, 'infectin': 1, 'suciotn': 1, 'especilli': 1, 'laryhg': 1, 'serivc': 1, 'akinwat': 1, 'hemodynamicli': 2, 'resucit': 2, 'larang': 1, 'catopril': 1, 'famli': 1, 'asb': 1, 'intraprocedur': 2, 'nremain': 1, 'reconsclip': 2, 'intiti': 4, 'stomcach': 1, 'outwardli': 1, 'poulmonari': 1, 'completli': 1, 'visitng': 1, 'nmb': 1, 'obatin': 1, 'mucomist': 3, 'cul': 1, \"tf'\": 2, 'nusr': 1, 'fluticasin': 1, 'callou': 1, 'sucraf': 1, 'endometri': 2, 'hopsit': 2, 'vytorin': 1, 'dipp': 1, 'hyperplast': 3, 'choleycystectomi': 1, 'xri': 1, 'phenobarb': 3, 'hydrobromid': 3, 'bailar': 1, 'clarithromycin': 2, 'grandmoth': 2, 'malabsorpt': 1, 'tylenolol': 2, 'nasonex': 1, 'boil': 1, 'adj': 3, 'hepaticojejunostomi': 1, 'pellucidum': 2, 'stoneman': 1, 'myelosupress': 1, 'pjp': 5, 'readd': 1, 'cefepem': 2, 'myocardia': 2, 'cwia': 1, 'outburst': 2, 'condsid': 1, 'neutrapen': 1, 'schf': 3, 'orthodrom': 1, 'childdren': 1, 'euthyroid': 1, 'etiomad': 1, 'hematologist': 1, 'yersinia': 1, 'jhere': 1, 'coagulapath': 1, 'cultru': 1, 'fece': 7, 'antagonist': 2, 'chaplain': 2, 'acidoci': 1, 'eia': 5, 'bioavailibilti': 1, 'eminclud': 1, 'glucont': 1, 'bradypnea': 1, 'cortstim': 3, 'ish': 2, 'fmask': 1, 'myelofibrosi': 1, 'surrog': 1, 'ohter': 1, 'intron': 1, 'neuromusc': 2, 'string': 1, 'vpa': 2, 'dopplear': 1, 'accordigli': 1, 'campylobact': 2, 'angiotensin': 1, 'hazzi': 1, 'hypothryroid': 1, 'vibrio': 1, 'pentoxyfillin': 1, 'hydroxylurea': 1, 'pentoxifyllin': 1, 'bbker': 1, 'dexmedetomidin': 3, 'danazol': 1, 'alkelem': 1, 'congeat': 1, 'fley': 1, 'lllpna': 1, 'serel': 1, 'sriel': 1, 'draiin': 1, 'ivh': 2, 'regurgittaion': 1, 'prethicken': 4, 'diffrenc': 1, 'cmii': 1, 'bradicard': 1, 'ritonovir': 2, 'secrest': 2, 'thlenol': 1, 'unorthodox': 1, 'familiar': 3, 'assista': 1, 'microbi': 1, 'vestibular': 2, 'popular': 3, 'contempl': 2, 'dramtic': 1, 'ogress': 1, 'blee': 2, 'tting': 1, 'leukencephalopathi': 1, 'transamitini': 1, 'cepftim': 1, 'scew': 1, 'chlorhexedin': 1, 'myoclonu': 4, 'litter': 1, 'confront': 2, 'precuss': 1, 'fenanyl': 1, 'etiol': 1, 'diulatin': 1, 'washcloth': 1, 'unasses': 1, 'chlor': 1, 'radiocontrast': 1, 'reconstitut': 4, 'ong': 1, 'affair': 1, 'aswer': 1, 'tuft': 1, 'pharmd': 3, \"gnr'\": 1, 'hyperhydr': 1, 'trippl': 3, 'botain': 1, 'gangren': 5, 'peac': 3, 'macrocyt': 3, 'diari': 2, 'colleg': 2, 'dital': 1, 'contribtuion': 1, 'decin': 1, 'shrink': 3, 'pointer': 1, 'xigri': 1, 'reyetaz': 1, 'recieiv': 2, 'recrudes': 1, 'defend': 3, 'pyrimethamin': 1, 'immatur': 2, 'seiaur': 1, 'hypernutremia': 2, 'unsatisfi': 1, 'sulfadizin': 1, 'soduim': 1, 'vascularpreserv': 1, 'haartwith': 1, 'microorg': 3, 'pentobarbit': 2, 'hypoton': 5, 'reticulocyt': 2, 'perimesencephal': 1, 'covner': 1, 'openli': 1, 'hyperreflexia': 1, 'onog': 1, 'shink': 1, 'gerealo': 1, 'hpome': 1, 'mannitol': 1, 'cryptococcu': 1, 'ototox': 1, 'insynchron': 1, 'arv': 2, 'rdia': 1, 'clorhexedin': 1, 'consost': 1, 'decompos': 1, 'entens': 1, 'gre': 2, 'leukoencephalopati': 1, 'dysregul': 3, 'purchas': 1, 'aminoglycosid': 3, 'practition': 2, 'unprompt': 1, 'mpression': 2, 'apnpr': 1, 'retsart': 1, 'tor': 1, 'stagnat': 1, 'hypercholorem': 1, 'surviv': 3, 'hmo': 1, 'icp': 2, 'initai': 1, 'acrocyanosi': 1, 'bradyca': 1, 'nacrot': 1, 'uncal': 2, 'barotrauma': 4, 'manomet': 2, 'phlebotom': 1, 'tracjh': 1, 'tynelol': 1, 'encephalpathi': 1, 'reinvolv': 1, 'geograph': 2, 'disproportion': 1, 'hypereflexia': 1, 'certif': 1, 'dexemethason': 1, 'kinet': 4, 'knuckl': 1, 'takeoff': 1, 'pml': 3, 'youngest': 1, 'housekeep': 2, 'myocolonu': 1, 'edit': 2, 'hu': 2, 'mosaic': 4, 'ketorolac': 3, 'thyromegali': 12, 'simplex': 3, 'sevelem': 2, 'tordol': 1, 'microangiopathi': 1, 'illiopsoa': 1, 'unfamiliar': 1, 'idic': 1, 'traansfer': 1, 'murmr': 1, 'primquin': 1, 'unur': 1, 'micafungin': 3, 'bruie': 1, 'excruci': 1, 'orhtostasi': 1, 'intim': 4, 'firsthand': 1, 'clindmycin': 1, 'pneumococ': 1, 'melana': 2, 'oof': 1, 'pneumoina': 1, 'ilopsoa': 1, 'methylnaltrexon': 2, 'consumpt': 5, 'lanzoprazol': 1, 'atax': 1, 'tricor': 2, 'whees': 1, 'atalectasi': 5, 'empiricali': 1, 'whinc': 1, 'antim': 1, 'calcitonin': 2, 'mpowel': 1, 'narcotica': 1, 'shose': 1, 'hydrochlorid': 2, 'rarefact': 1, 'wing': 1, 'voriconozol': 1, 'interst': 1, 'refusu': 1, 'velcad': 2, 'senstiv': 1, 'finerg': 1, 'biater': 9, 'managemet': 1, 'primaqin': 1, 'tamsulosin': 3, 'unmask': 2, 'various': 1, 'unlikl': 1, 'hypov': 1, 'infectio': 1, 'bel': 1, 'diagon': 1, 'trasnlat': 1, 'bzd': 2, 'microischem': 1, 'aneur': 2, 'hyposed': 1, 'severaql': 1, 'myelomat': 1, 'pansystol': 1, 'trabecul': 4, 'stohnman': 1, 'hiatu': 6, 'naficillin': 1, 'prison': 4, 'foudn': 1, 'opf': 1, 'bloodpressur': 2, 'protuber': 4, 'narcopt': 1, 'primaquon': 1, 'interduc': 1, 'shellfish': 3, 'iliopsoa': 1, 'certainti': 2, 'anticoagulatoion': 1, 'jiroveci': 6, 'metoptolol': 1, 'progres': 2, 'weari': 1, 'vacn': 1, 'altert': 1, 'guidan': 1, 'poison': 2, 'resisit': 1, 'hars': 1, 'achondroplasia': 1, 'triangular': 2, 'ptv': 1, 'feversclin': 1, 'aspf': 2, 'omnipaqu': 22, 'ldic': 1, 'array': 1, 'probem': 1, 'rknee': 1, 'hipox': 1, 'antifangin': 1, 'elevetd': 1, 'imptov': 1, 'extubaton': 1, 'eved': 1, 'monitoro': 1, 'hemotoma': 1, 'muconazol': 1, 'toput': 1, 'buttok': 1, 'yanuak': 1, 'palac': 1, 'sedet': 1, 'tolow': 1, 'antifangian': 1, 'anascol': 1, 'mylanta': 1, 'elabor': 1, 'bmsx': 1, 'ammmonia': 1, 'revascular': 2, 'dopplier': 1, 'caveat': 1, 'calv': 4, 'ditress': 2, 'revelatori': 1, 'erythemet': 1, 'substrat': 3, 'triag': 2, 'grm': 1, 'endeavor': 1, 'divalproex': 4, 'acidophillu': 1, 'sand': 1, 'therectomi': 1, 'polychondr': 2, 'ferrousul': 1, 'issus': 1, 'currenlti': 2, 'diptheria': 1, 'ocuvit': 1, 'devat': 1, 'fvc': 4, 'infuluenza': 1, 'edeam': 3, 'diphtheria': 1, 'voltatg': 1, 'paget': 2, 'verstiva': 1, 'bicalutamid': 1, 'continui': 1, 'sodiuma': 1, 'comt': 1, 'recumb': 1, 'wln': 1, 'bdz': 1, 'bicarp': 1, 'lipomatosi': 1, 'onb': 1, 'sectrtion': 2, 'levagquin': 1, 'billat': 1, 'cctime': 1, 'figur': 2, 'sheriff': 1, 'alkalem': 1, 'garb': 1, 'specifici': 1, 'combivi': 1, 'coa': 1, 'intlat': 1, 'hunulin': 1, 'respitor': 1, 'harbor': 1, 'porencephal': 1, 'burr': 4, 'supratentori': 4, 'igh': 1, 'normotensiv': 1, 'shoudl': 1, 'covg': 1, 'resuiscit': 1, 'croupi': 1, 'villag': 1, 'lubric': 1, 'permeabl': 1, 'springwel': 1, 'paranoa': 1, 'magnitud': 1, 'hemachromatosi': 1, 'sttwc': 1, 'sequestr': 1, 'pelclip': 1, 'vasalva': 1, 'nok': 2, 'nonradi': 1, 'noncontigu': 1, 'hemochromotosi': 1, 'hemachomotosi': 1, 'winter': 2, 'orign': 2, 'confin': 2, 'osteophytosi': 2, 'ym': 2, 'superclavicular': 1, 'withdrawa': 1, 'madanock': 1, 'recimmend': 1, 'photo': 1, 'cation': 1, '^wob': 5, 'sureg': 1, 'hitchcock': 1, 'casopressin': 1, 'unprepar': 1, 'interrogat': 1, 'neosynepherin': 1, 'dcough': 1, 'vibrant': 1, 'moicro': 1, 'offlevoph': 1, 'tsamiflu': 1, 'revi': 1, 'resuccit': 1, 'mimic': 1, 'levofloxaxin': 1, 'famoitidin': 1, 'poetic': 1, 'dsh': 1, 'represnt': 1, 'hostil': 1, 'una': 5, 'swithc': 1, 'aeronaut': 1, 'lrx': 1, 'osteltamavir': 1, 'lacat': 4, 'latu': 1, 'copeou': 1, 'parameterd': 1, 'compenas': 1, 'receivng': 2, 'scarl': 1, 'withdrwal': 1, 'osteltamivir': 1, 'initail': 2, 'duiresis': 1, 'nbr': 1, \"ext'\": 1, 'appropriatr': 1, 'hypokines': 1, 'und': 2, 'antitbiot': 1, 'cleat': 1, 'inferiormost': 1, 'purlent': 1, 'mipt': 1, 'tricuspud': 1, 'maskj': 1, 'transferrin': 2, 'obtaijn': 1, 'centropulmonari': 1, 'mucormyst': 3, \"he'\": 1, 'lactamas': 5, 'cardiomyopath': 1, 'pantoea': 1, 'guzzl': 1, 'drainaga': 1, 'recnt': 1, 'hld': 3, 'hyolaryng': 3, 'deglutit': 3, 'azityhromycin': 1, 'tho': 1, 'racotomi': 1, 'tnt': 3, 'prb': 1, 'afternnoon': 1, 'prethickn': 1, 'lordosi': 3, 'suboptima': 1, 'radiocarp': 1, 'herni': 1, 'mraf': 2, 'subinsular': 3, 'volar': 2, 'subcuticular': 4, 'fingerbreadth': 4, 'cathter': 2, 'esophagogastr': 3, 'ehab': 8, 'coorespond': 1, 'reoper': 2, 'juglar': 1, 'rosacea': 2, 'cholectomi': 1, 'dish': 3, 'depolar': 4, 'scanner': 6, 'nterval': 1, 'posteroinferior': 1, 'parkinsonian': 1, 'distinguish': 6, 'gmsj': 4, 'suprasellar': 4, 'calcifict': 1, 'initiatio': 1, 'juxtahilar': 1, 'gsenapati': 2, 'innumer': 3, 'gadavist': 3, 'peribronchovascular': 13, 'bronchoalveloar': 1, 'egdv': 1, 'vomittr': 1, 'zosoyn': 1, 'positi': 1, 'axcellari': 1, 'ostomoy': 1, 'oesophg': 1, 'hctcheck': 1, 'tour': 3, 'scopi': 1, 'thankscarolyn': 1, 'tthrough': 1, 'egu': 1, 'morther': 1, 'ueo': 1, 'penumon': 1, 'semisupin': 1, 'thalam': 3, 'obli': 1, 'supratherpeut': 1, 'poco': 1, 'mucho': 1, 'witb': 1, 'plea': 2, 'basliic': 1, 'ileiostomi': 1, 'continuum': 1, 'scertion': 1, 'melaena': 1, 'npv': 1, 'maleana': 1, 'oain': 1, 'gargl': 1, 'ltec': 1, 'hyperextend': 1, 'oglivi': 1, 'unprovok': 1, 'retropreiton': 1, 'olveckzi': 1, 'chelona': 1, 'nonsmok': 2, 'mucocel': 1, \"'great\": 1, 'mgu': 1, 'imay': 1, 'ubiquit': 1, 'hypernam': 1, 'salpingo': 1, 'oophorectomi': 2, 'recenetli': 1, 'adminit': 1, 'microaspir': 1, 'alendron': 1, 'asprin': 3, 'teratoma': 2, 'zoyn': 1, 'wine': 4, 'nonimmun': 1, 'prevail': 1, 'qthur': 1, 'infiltart': 1, 'ammen': 1, 'historectomi': 1, 'macrolid': 3, 'peristals': 1, 'pneuomina': 1, 'pigment': 1, 'kwnown': 1, 'kgm': 1, 'defuci': 1, 'ethmoidectomi': 1, 'meatal': 1, 'immunoglobulin': 1, 'usiti': 1, 'serotonin': 5, 'pansinus': 2, 'masp': 1, 'veg': 1, 'spetic': 1, 'sin': 1, 'subclass': 1, 'subnorm': 1, 'monotherapi': 4, 'hsc': 3, 'sequest': 2, 'immunodefici': 6, 'antrostomi': 1, 'tbi': 4, 'development': 5, 'airless': 3, 'tahcycardia': 1, 'ossifi': 1, 'rami': 1, 'parost': 1, 'chondrosarcoma': 1, 'osteosarcoma': 1, 'ramu': 2, 'ossifican': 1, 'panc': 1, 'heterotop': 4, 'ossif': 5, 'truama': 1, 'medullari': 4, 'coanda': 1, 'sevalam': 2, 'hyperphospatemia': 1, 'kayexcel': 1, 'retina': 1, 'arth': 1, 'brath': 1, 'hyoxemia': 1, 'trazamin': 1, 'stabli': 9, 'tenosynov': 1, 'cib': 2, 'phosph': 1, 'hyperphosphotemia': 1, 'scheme': 1, 'apsir': 1, 'gerontololgi': 1, 'kayexak': 1, 'resuspens': 1, 'rhocnher': 1, 'suspcion': 1, 'trhough': 1, 'nongap': 2, 'timecours': 3, 'rocefin': 1, 'leukotrien': 1, 'feverish': 2, 'crx': 1, 'meformin': 1, 'zileuton': 1, 'supsect': 1, 'inhib': 1, 'agma': 2, 'orthopn': 1, 'treadmil': 1, 'properti': 3, 'bronk': 1, 'liumen': 1, 'clonapin': 1, 'doribax': 1, 'cechet': 1, 'negx': 1, 'serosangui': 1, 'slideboard': 5, 'triplk': 1, 'biat': 1, 'pleomorph': 1, 'pneumonboot': 1, 'skeptic': 1, 'toerlat': 1, 'bilster': 1, 'pulmomari': 3, 'antianxietolyt': 1, 'sorftsorb': 1, 'amykacin': 1, 'coccobaccili': 1, 'gran': 1, 'plateu': 1, 'dori': 1, 'levop': 1, 'darbopenem': 1, 'placeemtn': 1, 'dbl': 1, 'diffusedli': 1, 'bootsa': 1, 'peek': 1, 'hiold': 1, 'throrac': 1, 'metiplex': 1, 'bldcx': 1, 'curlex': 1, 'wrape': 1, 'cechect': 2, 'duodrem': 1, 'miplex': 1, 'softworb': 1, 'ammonium': 1, 'bumper': 1, 'adpat': 1, 'hopwev': 1, 'auitopeep': 1, 'tracheomalcia': 1, 'peripeg': 1, 'vurrent': 1, 'diuresd': 1, 'alzeim': 1, 'hypochlorem': 1, 'ream': 1, 'arousbl': 1, 'sellar': 1, 'demis': 3, 'macradenoma': 1, 'thyoid': 1, 'macroadenoma': 1, 'hemithorac': 3, 'remodel': 1, 'alzhiem': 1, 'moxifloxacin': 7, 'febreil': 1, 'hydroxyzin': 4, 'psychotrop': 2, 'bournwood': 1, 'distruct': 1, 'hcg': 1, 'dignosi': 1, 'slam': 1, 'inebri': 1, 'airtrap': 3, 'vistaril': 1, 'public': 4, 'agiit': 1, 'thorazin': 1, 'oit': 1, 'dust': 1, 'restricti': 1, 'salicyl': 1, 'gabopentum': 2, 'gammaglobulinemia': 1, 'osteonecrosi': 1, 'obsess': 1, 'arthrocentesi': 2, 'carinatum': 1, 'pectu': 2, 'epithet': 1, 'appris': 1, 'nonsept': 1, 'phenazopyridin': 1, 'snap': 2, 'kneeleft': 1, 'orthopedist': 1, 'useless': 1, 'collagen': 1, 'kneereplac': 1, 'shirt': 1, 'dentist': 1, 'unimpair': 1, 'hypogammaglobulinemia': 3, 'gabapenton': 1, 'crede': 1, 'atelectai': 2, 'pleurectomi': 1, 'senapati': 1, 'repos': 1, 'lulobectomi': 1, 'duri': 3, 'ventericular': 1, 'completley': 1, 'antimirobi': 1, 'unexpect': 4, 'precuationsplan': 1, 'expecetd': 1, 'turbinectomi': 1, 'septalectomi': 1, 'aceess': 1, 'consistn': 1, 'isometr': 3, 'prosatectomi': 1, 'trespass': 1, 'pride': 1, 'navi': 1, 'complan': 1, 'estat': 1, 'sildenafil': 2, 'pastpt': 1, 'tspn': 4, 'dyskinesia': 1, 'welcom': 2, 'uleg': 1, 'entail': 1, 'denser': 5, 'renounc': 1, 'cystiti': 4, 'disconcert': 1, 'hypercholeserolemia': 1, 'mendehlson': 1, 'leukcytosi': 2, 'rhc': 3, 'rythum': 1, 'pericardialcenti': 1, 'pldh': 1, 'cdifff': 1, 'beforehand': 1, 'sldh': 1, 'rrva': 1, 'inconti': 2, 'slump': 1, 'hemetemesi': 1, 'sticker': 4, 'tenofovir': 2, 'rehospit': 3, 'smv': 3, 'propanalol': 1, 'schistocyt': 1, 'uln': 1, 'opportunitist': 1, 'freeca': 1, 'huid': 1, 'paracentisi': 1, 'sofa': 1, 'cte': 1, 'tbil': 1, 'abacavir': 2, 'capaci': 1, 'radiologymaureen': 1, 'cmrepeat': 1, 'gastroview': 1, 'gastro': 1, 'repes': 1, 'ptft': 1, 'brachiocepahl': 1, 'resi': 1, 'surgeru': 1, 'vdrf': 1, 'dohboff': 1, 'txp': 2, 'refilm': 1, 'consolodi': 1, 'olt': 3, 'disea': 2, 'media': 1, 'crystalloid': 2, 'toxoplamosi': 1, 'thalassemia': 1, 'hemotocrit': 1, 'otiti': 1, 'mycin': 2, 'nurseri': 1, 'effusi': 1, 'aztrenam': 1, 'ceclor': 1, 'beign': 2, 'inforc': 1, 'predescrib': 1, 'asss': 1, 'raynoid': 1, 'undo': 1, 'cefaclor': 1, 'nifediipin': 1, 'bicycl': 1, 'intrinis': 1, 'sizewis': 1, 'bumpi': 1, 'antidep': 1, 'ajust': 2, 'cannibu': 1, 'eu': 1, \"leni'\": 1, 'admtt': 1, 'cannabinoid': 1, 'cannabi': 1, 'sertalin': 1, 'arachynoid': 1, 'hepe': 1, 'parathesia': 1, 'heppa': 1, 'herps': 1, 'aeipf': 1, 'thump': 1, 'valacyclovir': 1, 'valcyclovir': 1, 'valcyt': 3, 'incontinac': 1, 'welder': 1, 'ceftraiaxon': 1, 'bronchoscpi': 1, 'valgancyclovir': 2, 'acetylcystin': 2, 'anxou': 1, 'faecal': 1, 'neagtiv': 1, 'vangcyclovir': 1, 'uip': 4, 'atiavan': 1, 'macroph': 1, 'incontint': 1, 'subarachanoid': 1, 'sidedweak': 1, 'eospinophilia': 1, 'pck': 1, 'librarian': 1, 'invovel': 1, 'cep': 1, 'amitiptyllin': 1, 'librari': 1, 'brocnhoscopi': 1, 'abpa': 1, 'myxomat': 1, 'aneurysn': 1, 'reapir': 1, 'uk': 2, 'precip': 1, 'suspician': 2, 'pansinusitu': 1, 'ctdz': 1, 'wold': 1, 'silicosi': 1, 'reop': 1, 'diagsnosi': 1, 'rhiniti': 2, 'osteiti': 1, 'adjacebt': 1, 'midclavicular': 4, 'prevoid': 1, 'ilii': 1, 'condensan': 1, 'nomin': 1, \"morning'ha\": 1, 'sjbj': 5, 'fissu': 1, 'shortn': 3, 'patial': 1, 'sugesst': 1, 'glan': 1, 'destrucitv': 1, 'seas': 1, 'heaven': 1, 'rveal': 1, 'trig': 3, 'odynophagia': 4, 'autist': 1, 'scull': 1, 'lm': 2, 'mesial': 2, 'aortopulmon': 1, 'upstair': 3, 'legfor': 1, 'rrc': 1, 'sunitinib': 1, 'calvari': 1, 'rxcg': 1, 'micromass': 1, 'fosphenytoin': 1, 'seiszur': 1, 'flextur': 2, 'mediatinum': 1, 'medistiastinum': 1, 'obstrut': 1, 'temporali': 1, 'suclavian': 1, 'autism': 1, 'effsuion': 1, 'evdeic': 1, 'orthogon': 2, 'threaten': 3, 'encephlopath': 1, 'inping': 1, 'sciatica': 1, 'hyperton': 2, 'seasion': 1, 'pachymening': 4, 'hyponutremia': 1, 'dendrit': 1, 'indirect': 3, \"perf'\": 1, 'enterographi': 1, 'volvulu': 4, 'eleventh': 1, 'hyperem': 1, 'proctoscopi': 1, 'microcytosi': 1, 'twelfth': 1, 'sigmoidoscopi': 1, 'tenth': 2, 'narrowest': 1, 'atribut': 1, 'readress': 1, 'predict': 3, 'radioi': 1, 'cholecalciferol': 3, \"grave'\": 1, 'erectil': 1, 'radioact': 2, 'refut': 1, 'hba': 5, 'modax': 2, 'tachcyardia': 1, 'adc': 4, 'pallidu': 1, 'gyriform': 1, 'overnigh': 1, 'thourough': 1, 'dysfuct': 2, 'grd': 1, 'microhemorrhag': 2, 'laryngoscopi': 2, 'cth': 2, 'flak': 1, 'tonsilar': 1, 'melen': 1, 'laparatomi': 1, 'arbout': 1, 'predispos': 4, 'oversew': 1, 'lllasp': 1, 'postcentr': 1, 'signifi': 1, 'sew': 1, 'gyru': 2, 'reismann': 1, 'unwilling': 1, 'ipsilater': 1, 'hypoaesthesia': 1, 'magnum': 1, 'infero': 3, 'robust': 6, 'enzyem': 1, 'udergo': 1, 'postcontrast': 1, 'globu': 1, 'reivew': 1, 'tonsillar': 1, 'gastrotomi': 2, 'volu': 1, 'bradykinet': 1, 'humiditifi': 1, 'polymyopathi': 1, 'repsositio': 1, 'crtical': 1, 'thiock': 1, 'mmt': 6, 'lactolas': 1, 'elb': 1, 'elsd': 1, 'mulitfoc': 1, 'hoy': 1, 'agres': 1, 'compelt': 1, 'depelt': 1, 'safer': 1, 'abilti': 1, 'wocrn': 1, 'meropenenem': 1, 'difficuolt': 1, 'nephriti': 1, 'approximatli': 1, 'nmed': 3, 'hitler': 1, 'restlessli': 1, 'encpehalopath': 1, 'initati': 1, 'propranolol': 1, 'chirossi': 1, 'necktar': 1, 'valuat': 1, 'lecopenia': 1, 'eslc': 1, 'intrac': 1, 'pge': 1, 'inatak': 1, 'fse': 1, 'harvest': 2, 'myoclon': 3, 'ppli': 1, 'spesi': 1, 'leucopenia': 1, 'intracerebr': 2, 'deltoid': 2, 'bedridden': 1, 'perisepsi': 1, 'inclement': 1, 'polymyoneuropathi': 1, 'iadl': 2, 'propel': 1, 'heterotopia': 1, 'withsept': 1, 'nadalol': 1, 'recordsnafcillin': 1, 'adequaci': 2, 'propofaol': 1, 'polyneuropathi': 3, 'patientnafcillin': 1, 'hempdynam': 2, 'gentler': 1, 'delist': 1, 'stm': 2, 'guac': 1, 'fascicul': 1, 'weanign': 1, 'chirrosi': 1, 'electrophysiolog': 1, 'neosynephin': 1, 'pterygoid': 1, 'hypovolm': 1, 'lactuols': 1, 'coursa': 1, 'axon': 2, 'boat': 1, 'varici': 1, 'devi': 1, 'overlaod': 2, 'followl': 1, 'flatter': 2, 'swall': 1, 'epicondyl': 2, 'indent': 3, 'intradur': 2, 'sclen': 1, 'mercuri': 1, 'dfif': 1, 'intemitt': 1, 'lactact': 2, 'patientmercuri': 1, 'citri': 1, 'isir': 1, 'prognost': 1, 'ammoni': 1, 'geritrician': 1, 'apach': 1, 'guanifensin': 1, 'desonid': 1, 'hydroxyzon': 1, 'hypoixia': 1, 'orba': 1, 'strikingli': 1, 'sweetcorn': 1, 'parksinson': 1, 'isdn': 2, \"parkinson'\": 1, 'nephrolithotomi': 1, \"romi'\": 1, 'hlp': 1, \"pcp'\": 1, 'hga': 3, 'effius': 1, 'avapro': 1, 'jam': 1, 'irbesartan': 1, 'fyi': 2, 'oncomycosi': 1, 'promis': 3, 'xygen': 1, 'flower': 2, 'concerngin': 1, 'processbi': 1, 'rotapron': 1, 'modb': 1, 'clin': 2, 'chart^': 1, 'entamoeba': 1, 'echinococcu': 1, 'weel': 1, 'elvev': 1, 'pvk': 1, 'anesthesiolog': 1, 'lcm': 1, 'aemia': 1, 'intensivm': 1, 'annum': 1, 'mcafungin': 1, 'cvm': 1, 'hyoglycemia': 1, 'eichinococcu': 1, 'eosionphil': 1, 'crosstoler': 1, 'ctg': 4, 'schmerzther': 1, 'mosit': 1, 'portugues': 3, 'roto': 1, 'intrapulmonari': 6, 'mucl': 1, 'rss': 1, 'thrombocytopen': 2, 'mkm': 1, 'limt': 1, 'minax': 2, 'shd': 3, 'critici': 1, 'doxicyclin': 2, 'mlhr': 1, 'flashback': 1, 'pneumomedistin': 1, 'sye': 1, 'mgc': 1, 'maxax': 2, 'algorhythm': 1, 'hantaviru': 1, 'pneumonmediastinum': 1, 'anathesiol': 1, 'trendelenberg': 3, 'secanodari': 1, 'anest': 1, 'respriatori': 7, 'patiient': 1, 'raidal': 2, 'prcv': 1, 'variablil': 1, 'notfallm': 1, 'unsatgebal': 1, 'glragin': 1, 'wriggl': 1, 'cart': 3, 'doee': 1, 'pron': 1, 'hyperalgesia': 2, 'oncol': 1, 'mve': 1, 'feedback': 1, 'tward': 1, 'nmda': 1, 'nur': 1, 'rotopron': 2, 'tryadyn': 1, 'pylostomi': 1, 'nephrotomi': 1, 'calyx': 1, 'replc': 1, 'anesthesiologist': 1, 'sillhouhett': 1, 'aanterior': 1, 'anteroposterior': 1, 'solitari': 5, 'obstruc': 1, 'neoesophagu': 1, 'falciform': 2, 'rattli': 2, 'dypspnea': 1, 'pneumonvax': 1, 'bellow': 1, 'floromethalon': 1, 'cvid': 2, 'ipr': 1, 'minimun': 1, 'butun': 1, 'provoc': 1, 'rheumatologist': 1, 'dir': 2, 'mgmnt': 1, 'novolin': 2, 'pseudoobstruct': 1, 'hydroxid': 5, 'bronchoconstrict': 1, 'bilroth': 1, 'actuat': 2, 'sohx': 1, 'dimentia': 1, 'pectic': 1, 'eventr': 2, 'subjac': 1, 'cutlur': 4, 'guifensien': 1, 'olsetamivir': 1, 'whirl': 1, 'claclium': 1, 'baker': 1, 'abv': 1, 'fliuid': 1, '^rdl': 1, 'remid': 1, 'bairhugg': 1, 'estgfr': 1, 'chewabl': 3, 'fahx': 1, 'farr': 1, 'sphincterotomi': 1, 'unremarakbl': 1, 'hprn': 1, 'eelvat': 1, 'atazanavir': 1, 'reyataz': 1, 'hypoventili': 1, 'narcoti': 1, 'mep': 1, 'epzicom': 1, 'piroxicam': 1, 'myofasci': 1, 'duie': 1, 'cig': 2, 'epilecticu': 1, 'tremen': 2, 'ism': 1, 'cotninu': 2, 'deleriumt': 1, 'umen': 1, 'clininc': 1, 'hopefuil': 1, 'pint': 1, 'coff': 1, 'mens': 2, 'donut': 1, 'signic': 1, 'pneumonianow': 1, 'lactuls': 1, 'emei': 1, 'whc': 1, 'flumenazil': 1, 'rpaid': 1, 'qual': 1, 'bucket': 1, 'deprees': 1, 'multicoc': 1, 'nteract': 1, 'immodium': 3, 'trilob': 1, 'antidepend': 1, 'grp': 1, 'unidentifi': 2, 'decorticaiton': 1, 'hyropneumothorax': 1, 'tld': 1, 'pyeloplasti': 1, 'improvt': 2, 'dyarthria': 1, 'vmr': 1, 'thallasemia': 1, 'dysarththia': 1, 'pnanot': 1, 'farmer': 1, 'cefapem': 1, 'stumbl': 1, 'gfamili': 1, 'stube': 1, 'arisen': 1, 'uniform': 2, 'uplift': 1, 'curl': 8, 'leginonella': 1, 'intertrigo': 1, 'afford': 2, 'dehyr': 1, 'fllow': 1, 'desipramin': 1, 'vasculartur': 1, 'tongith': 1, 'chroninc': 1, 'becsu': 1, 'caffien': 1, 'fiorin': 1, 'affor': 1, 'utter': 2, 'gradulli': 1, 'dysfunt': 1, 'land': 1, 'plale': 1, 'excor': 1, 'signai': 1, 'hepatobiliari': 4, 'underi': 1, 'quinadin': 1, 'hssi': 3, 'toprolol': 1, 'silhoutt': 1, 'schwannoma': 2, 'metforman': 1, 'cigar': 1, 'cbg': 3, 'dofetillid': 1, 'consolidatioin': 1, 'epistaxsi': 1, 'sgift': 1, 'crash': 1, 'ducolox': 1, 'kayaxel': 1, 'toleran': 1, 'condens': 1, 'hyperphosphatemia': 2, 'bdg': 1, 'ralesb': 1, 'puplmonari': 1, 'enxt': 1, 'mirolax': 1, 'intratubular': 1, 'glomerulonephr': 2, 'shapr': 1, 'stereotact': 1, 'inout': 1, 'postvoid': 1, 'varix': 1, 'splenoport': 1, 'spleno': 2, 'bronchiolar': 3, 'pseudoarthrosi': 1, 'cementoplasti': 1, 'rightr': 1, 'ankylos': 1, 'opacitii': 1, 'spondyl': 1, 'currnetli': 1, 'obtur': 1, 'conceal': 2, \"'better\": 1, 'resiz': 1, 'monitori': 1, 'addomen': 1, 'pyschosi': 1, 'patientprednison': 1, 'opteas': 3, 'theresid': 2, 'gonald': 1, 'leukodytosi': 1, 'hemiperisi': 1, 'overfe': 2, 'hystrectomi': 1, 'intravertebr': 1, 'fliter': 1, 'contsip': 1, 'consitp': 1, 'subarrachnoid': 1, 'brim': 1, 'levl': 1, 'sorbitol': 1, 'hyerkalemia': 1, 'preme': 1, 'zosn': 1, 'galss': 1, 'onppi': 1, 'histroy': 3, 'liklihood': 1, 'pleuridex': 1, 'acycolovir': 1, 'rituxan': 1, 'aihi': 1, 'pnau': 1, 'bedamustin': 1, 'aiha': 1, 'hospitalizait': 1, 'inard': 1, 'px': 3, 'hypogammaglobinemia': 1, 'atelectatsi': 1, 'holosystol': 3, 'slntg': 2, 'dysf': 1, 'arang': 1, 'spustum': 1, 'bluid': 2, 'lsinoprel': 1, 'stablliz': 1, 'fcn': 1, 'subgal': 2, 'pansinu': 1, 'duaghter': 1, 'cratinin': 1, 'arl': 1, 'migratori': 1, 'evenli': 1, 'shilouett': 1, 'exceedingli': 1, 'overestim': 2, 'proportio': 1, 'isnorm': 1, 'raynaud': 1, 'buyt': 1, 'ical': 1, 'fmssa': 1, 'macaroni': 1, 'extrmeitii': 1, 'whiff': 1, 'hypophon': 1, 'flonas': 2, 'diuresesi': 1, 'reintubt': 1, 'comporomis': 1, 'imapir': 1, 'feso': 3, 'spbt': 1, 'laq': 2, 'patientlidocain': 1, 'surv': 2, 'frigidi': 1, 'aneurism': 1, 'catecholamin': 1, 'sefl': 1, 'naf': 2, 'finesterid': 1, 'extremu': 1, 'satuat': 1, 'catecholami': 1, 'resons': 2, 'mirco': 1, 'aarom': 1, 'vcabg': 1, 'cefetriazidim': 1, 'contamini': 1, 'nafcililn': 1, 'techngu': 1, 'hepb': 1, 'uee': 1, 'atlectesi': 1, 'dsitress': 1, 'dissoci': 1, 'isorhythm': 1, 'neoesophag': 1, 'bidew': 1, 'porch': 1, 'betaseron': 1, 'levoflaoxin': 1, 'prelmininari': 1, 'fentanyla': 1, 'msntal': 1, 'antoibiot': 1, 'morphinel': 1, 'normo': 3, 'lomictil': 1, 'borderl': 1, 'millimetr': 2, 'anchor': 1, 'opacificaton': 1, 'radio': 4, 'groshung': 1, 'dextroconvex': 2, 'additino': 1, 'heteregen': 2, 'magna': 2, 'ajnd': 1, 'cisterna': 2, 'cariat': 1, 'aceiv': 1, 'teanaou': 1, 'alkalsosi': 1, 'proir': 1, 'impedi': 2, 'plana': 1, 'dnh': 2, 'bpmaintain': 1, 'unexpectedli': 1, 'ult': 1, 'multidisicplinari': 1, 'genesi': 1, 'mepelex': 1, 'descid': 2, 'negativebal': 1, 'deffrer': 1, 'mulitdisciplinari': 1, 'respiaratori': 1, 'dysnychromi': 1, 'inexpect': 1, 'bacj': 2, 'nio': 1, 'mycocardi': 1, 'tapabl': 1, 'resrict': 1, 'talli': 1, 'prcocet': 1, 'cardiazem': 1, 'levoxacin': 1, 'uterotomi': 1, 'bankart': 1, 'egfr': 3, 'beverag': 2, 'increaseili': 1, 'teanm': 1, 'somewher': 1, 'beng': 1, 'pantri': 1, 'macdonald': 1, 'clilnic': 1, 'nake': 2, 'trazdon': 1, 'agita': 1, 'thiamain': 1, 'street': 2, 'atlectasi': 3, 'percardi': 1, 'pleurx': 3, 'smalll': 1, 'slthough': 1, 'subclaviam': 1, 'seeen': 1, 'condyl': 2, 'torqu': 1, 'choyk': 3, 'othervis': 2, \"cxr'\": 1, 'spinemetastas': 1, 'erlotinib': 1, 'afsn': 3, 'lifetim': 1, 'successs': 1, 'ismo': 1, 'outputbun': 1, 'metorrolol': 1, 'lisinopriltoler': 1, 'triamteren': 2, 'rode': 1, 'dand': 1, 'sinia': 1, \"copd'er\": 1, 'comtamin': 1, 'tremain': 1, 'msk': 3, 'aortobifemor': 1, 'branow': 1, 'pepicd': 1, \"bs'\": 3, \"bartter'\": 1, 'pcm': 2, 'posthypercapnia': 1, 'clime': 1, 'hyperaldo': 1, 'placent': 1, 'startw': 1, 'alkali': 1, 'abxif': 1, 'urethra': 2, 'holder': 2, 'gitelman': 1, 'lenient': 1, 'hypok': 1, 'uro': 1, 'subliguin': 1, 'fasoli': 1, 'amphysema': 1, 'murmer': 3, 'havewith': 1, 'rhaspi': 1, 'ribcag': 1, 'bronchodi': 1, 'hypecapnia': 1, 'feeder': 1, 'exogen': 1, 'urether': 1, 'actiiv': 1, 'albulmin': 1, 'procainamid': 1, 'mesothelioma': 1, 'notori': 1, 'influenc': 3, 'amlitud': 1, 'hpothyroid': 1, 'intfiltr': 1, 'electropheresi': 1, 'projectil': 2, 'rlsb': 1, 'neehdam': 1, 'approximatley': 1, 'fagitu': 1, 'toy': 1, 'nasophareng': 1, 'predisposit': 2, 'tricupsid': 1, 'chagn': 3, 'endogastr': 2, 'vactiv': 1, 'mitrial': 1, 'mobila': 1, 'suspiscion': 1, 'mobilix': 1, 'spiromitri': 1, 'coumaidn': 1, 'reasonbl': 1, 'inspiritori': 1, 'guiafisin': 1, 'bleedi': 1, 'doeswel': 1, 'tricusp': 1, 'antimicribi': 2, 'guiafisen': 1, 'sihgtli': 1, 'rewiev': 1, 'nest': 1, 'dyfunct': 1, 'robotussin': 1, 'intend': 5, 'collasps': 2, 'unnessari': 1, 'bpmed': 1, 'fruther': 1, 'clodidin': 1, 'arimidex': 2, 'colllaps': 1, 'catapr': 1, 'holo': 1, 'mirilax': 1, 'unenthusiast': 1, 'asix': 1, 'pharyn': 1, 'lipm': 1, 'rcvd': 1, 'antihyperglycem': 1, 'clozaril': 2, 'levaph': 1, 'jolt': 1, 'anerob': 1, 'alezhiem': 1, 'alzhem': 1, 'setment': 1, 'ileiti': 1, 'tributari': 2, 'mesent': 1, 'diarrheaclin': 1, 'painclin': 1, 'periport': 2, 'extremtli': 1, 'rllobectomi': 1, 'rmlobe': 1, 'rmlobectomi': 1, 'rmatiti': 1, 'bifida': 1, 'rhythmic': 1, 'receov': 1, 'asthmaticu': 1, 'wihoutout': 1, 'hyperten': 1, 'psychogen': 2, 'divers': 2, 'hypercarbi': 1, 'spina': 1, 'epress': 2, 'harshcough': 1, 'solumedeol': 1, 'twin': 1, 'repor': 1, 'precaust': 1, 'peristom': 1, 'capaicti': 1, 'continueud': 1, 'melon': 1, 'attribuatlb': 1, 'atop': 1, 'peronei': 1, 'tibiotalar': 1, 'crutch': 1, 'metaphysi': 1, 'pulem': 1, 'eyeh': 2, 'osbuscr': 1, 'hemifraphragm': 1, 'tricsupid': 1, 'retens': 3, 'nrbc': 2, 'mgpo': 2, 'adjuv': 1, 'nppvand': 1, 'ffectiv': 1, 'triglyc': 1, 'threshol': 1, \"wbc'\": 1, 'reticulonodular': 1, 'thoracentsi': 1, 'elevatin': 1, 'motnior': 1, 'cronic': 1, 'hypoventialt': 1, 'zanax': 1, 'chylou': 1, 'resampl': 1, 'crhonic': 1, 'vacat': 2, 'bigger': 3, 'imprvo': 1, 'pleuradesi': 2, 'accodringli': 1, 'talc': 2, 'lyphangt': 1, 'laryngocel': 1, 'chord': 1, 'rosenmul': 1, 'venetricular': 1, 'regurit': 1, 'hate': 2, 'weanto': 1, 'andincreas': 1, 'decreasedurin': 1, 'isulin': 1, 'miser': 1, 'foloey': 1, 'disucss': 1, 'erst': 1, 'mechin': 1, 'paetnci': 1, 'monostat': 1, 'adjec': 1, 'abio': 1, 'risbio': 1, 'evercar': 1, 'mistak': 1, 'cahneg': 1, 'unsuccessful': 1, 'ibili': 1, 'tachyc': 1, 'softi': 1, 'desynchron': 1, 'hypertriglyceridemia': 2, 'rhythem': 1, 'acetazolimid': 1, 'chlorehex': 1, 'merapenum': 1, 'decreaas': 1, 'lastli': 2, 'andp': 1, 'anticio': 1, 'dy': 4, 'nrrr': 2, 'amlodopin': 1, 'unneccessari': 1, 'nimbex': 1, 'seconday': 1, 'famotadin': 2, 'thoraco': 1, 'intpret': 1, 'famoticidin': 1, 'paramavir': 1, 'murmu': 1, 'olanzaoin': 1, 'furosimid': 1, 'compatibel': 1, 'flitter': 1, 'profession': 1, 'lash': 1, 'aslix': 1, 'peramivir': 1, 'isssu': 1, 'woudl': 2, 'abdominopelv': 2, 'versedearli': 1, 'racepinephrin': 2, 'postivi': 1, 'ino': 2, 'flewxis': 1, 'tolerainc': 1, 'gemfibrozil': 1, 'culturt': 1, 'merrem': 1, 'permavir': 1, 'rhochor': 3, 'remp': 1, 'initit': 1, 'axiila': 1, 'meropenun': 1, 'nowt': 1, 'nitrou': 2, 'flicker': 1, 'swiych': 1, 'morph': 1, 'misregistr': 1, 'coronaryclip': 1, 'corevalv': 1, 'extracharg': 1, 'gate': 3, 'extracardiac': 1, 'haemolys': 1, 'subcu': 1, 'minimallli': 1, 'athrosclerosi': 1, 'inxn': 1, 'uncreas': 1, 'hoock': 1, 'newlli': 1, 'hxhap': 1, 'emograph': 1, 'saag': 1, 'andtibiot': 1, 'afffect': 1, 'secretari': 1, 'obstruciton': 1, 'unrespos': 1, 'meetin': 2, 'intertriginu': 1, 'spontaneo': 1, 'desquam': 2, 'possibilit': 2, 'elctorlyt': 1, 'veinou': 1, 'comorbid': 5, 'irrevers': 1, 'sklill': 1, 'silverden': 1, 'tranmit': 1, 'therfor': 1, 'hyporact': 1, 'pupli': 1, 'silvaden': 1, 'trachwostomi': 1, 'rrla': 1, 'likelyhood': 1, 'maculopapular': 5, 'psl': 1, 'fecul': 1, 'lill': 1, 'rectis': 1, 'counteract': 1, 'intravasc': 2, 'desquamit': 1, 'highgat': 1, 'lazix': 1, 'sensitiv': 1, 'silvidin': 1, 'diatal': 1, 'foun': 1, 'maliganaci': 1, 'sulfadiazin': 1, 'ftom': 1, 'intertrigin': 1, 'ilw': 2, 'reli': 3, 'guaiaic': 2, 'mistreat': 1, 'cavi': 1, 'cipd': 1, 'cidp': 1, 'urti': 1, 'cavitatari': 1, 'revisu': 1, 'humolog': 1, 'fhph': 1, 'setrt': 1, 'adept': 1, 'deceid': 1, 'allso': 1, 'venitil': 2, 'fortuit': 1, 'encourab': 1, 'apathet': 2, 'neumonia': 2, 'freguent': 1, 'conjunctivi': 1, 'rase': 1, 'painless': 1, 'pathway': 2, 'pediatrian': 1, 'xc': 3, 'scrub': 2, 'svi': 1, 'hibiclen': 2, 'folowup': 1, 'thte': 1, 'tempropariet': 1, 'quadreplegia': 1, 'patc': 1, 'pursuit': 1, 'dtage': 1, 'notar': 1, 'mvc': 3, 'clearl': 1, 'prnding': 1, 'meningocel': 1, 'meplix': 1, 'stae': 1, 'relateddt': 1, 'ppresent': 1, 'cpao': 1, 'neurosug': 1, 'tachytachypena': 1, 'hemoperitoneum': 1, 'symtomat': 2, 'myelomalacia': 1, 'bugl': 1, 'eleimin': 1, 'neurosurg': 5, 'rev': 1, 'alkpho': 3, 'airbag': 1, 'unecessari': 1, 'tarlov': 1, 'historyand': 1, 'rheumatalog': 1, 'fund': 1, 'anteroinferior': 1, 'notari': 1, 'frx': 1, 'giardia': 1, 'neuroforamin': 1, 'shnge': 1, 'psm': 1, 'sourceunlik': 1, 'lungsrhocher': 1, 'dispit': 1, 'moonlight': 1, 'umcomfort': 1, 'bronciectesi': 1, 'ronchuou': 1, 'orophar': 2, 'depleat': 1, 'promient': 1, 'timelin': 1, 'admisis': 1, 'successfuli': 1, 'imprssion': 1, 'vommit': 2, 'hbga': 1, 'parenhcyma': 1, 'alheim': 1, 'hyperlimidemia': 1, 'singnific': 1, 'gastrointenstin': 1, 'pernin': 1, 'diaviat': 1, 'snif': 3, 'appopria': 1, 'antibito': 2, 'bancemia': 1, 'lnr': 1, 'bloodshot': 2, 'porit': 1, 'hemidriagphram': 1, 'macrocytosi': 1, 'infilitr': 2, 'multlipl': 1, 'gurgel': 1, 'pur': 1, 'novemeb': 1, 'downgrad': 1, 'rcxr': 1, 'unkonwn': 1, 'unkown': 2, 'hypetens': 1, 'amyloidosi': 1, 'artefact': 3, 'chemotherpay': 1, 'benc': 1, 'hydrocortisol': 1, 'tndr': 1, 'samonella': 1, 'transloc': 2, 'ischmic': 1, 'pyridium': 1, 'shigella': 1, 'hypocortisol': 1, 'thoracoplasti': 2, 'chnge': 1, 'methehemoglobinemia': 1, 'mwm': 2, 'serrat': 1, 'heaviest': 1, 'macroscop': 1, 'periesophag': 1, 'cooximetri': 1, 'circumor': 1, 'contend': 1, 'numerour': 1, 'visibil': 1, 'fume': 1, 'thyromeg': 2, 'suffoc': 3, 'ged': 1, 'arc': 1, 'postradi': 1, 'esopheg': 1, 'academ': 1, 'poteni': 1, 'methemoglobinemia': 1, 'march': 2, 'juxtaren': 1, 'multidisciplnari': 1, 'breeth': 1, 'desk': 1, 'concert': 1, 'rebah': 1, 'asnwer': 1, 'addison': 1, 'unhelp': 1, 'entrant': 1, 'repart': 1, 'avrt': 1, 'asympomat': 1, 'nortriptyllin': 1, 'avnrt': 3, 'candidiasi': 3, 'mztb': 1, 'svcbrachiocephal': 1, 'trochlear': 1, 'radiocapitellar': 1, 'congruenc': 1, 'differeti': 1, 'osteosclerot': 2, 'thiazid': 1, 'rvh': 1, 'vnon': 1, 'parainflu': 1, 'jild': 1, 'stneosi': 1, 'yestderday': 1, 'rhf': 1, 'hypersensitivit': 1, 'derlium': 1, 'hypoglyecem': 1, 'withsever': 1, \"alzhiemer'\": 1, 'tuna': 2, 'atm': 1, 'cirrhoit': 1, 'neurvascularli': 1, 'barret': 1, 'murder': 1, 'bail': 1, 'outpatietn': 1, 'violenc': 1, 'retroact': 1, 'hallucinosi': 1, 'stratif': 1, 'bush': 1, 'sweatimg': 1, 'gallon': 1, 'robberi': 1, 'pilori': 1, 'sacrific': 1, 'sib': 1, 'stonosi': 1, 'concomitt': 1, 'uncharacterist': 1, 'aandox': 1, 'decidedli': 1, 'benardyl': 1, 'garag': 1, 'sope': 1, 'apnoea': 1, 'dyspnoea': 1, 'bkr': 2, 'enco': 1, 'talonavicular': 1, 'capnocytophagia': 1, 'histoplasmosi': 1, 'crackel': 3, 'hypoadren': 1, 'capnocytophaga': 1, 'placeement': 1, 'hypenatremai': 1, 'hrx': 1, 'nonbloodi': 1, 'sweep': 1, 'tonsilectomi': 1, 'klebsiela': 1, 'aduibl': 1, 'pneumobilia': 3, 'nbnb': 1, 'hyporthyroid': 1, 'hemondynam': 1, 'elevart': 1, 'dil': 2, 'friction': 2, 'pasv': 2, 'privileg': 1, 'unforunt': 1, 'withfev': 1, 'heha': 1, 'hypotenst': 1, 'acteremia': 1, 'copnt': 1, 'gegtaion': 1, 'hypnatremia': 1, 'acinobact': 1, 'discount': 1, 'recult': 1, 'fondapaurinox': 1, 'amikasin': 1, 'infetcion': 1, 'carbacephem': 2, 'baumannii': 1, 'anasrca': 1, 'colestin': 1, 'sill': 1, 'tracheosotomi': 1, 'artain': 1, 'antiboiod': 1, 'cnst': 1, 'antiparkinsonian': 1, 'infiltrat': 1, 'psotiv': 1, 'fondaparinoux': 1, 'amakacin': 1, 'wtith': 1, 'ariv': 1, 'vegetataion': 1, 'fondoparinaux': 1, 'inal': 1, 'nrsa': 1, 'gpcocci': 1, 'creatini': 1, 'ropinirol': 1, 'requip': 1, 'veggi': 1, 'fondaparinox': 1, 'recycl': 1, 'hat': 1, 'micor': 1, 'desimpact': 1, 'fondaparinux': 1, 'durind': 1, 'stressor': 1, 'autodiureisi': 1, 'carita': 2, 'aoritc': 1, 'colisitn': 1, 'heidiaph': 1, 'bisocadyl': 1, 'hemodynamm': 1, 'rhocnhor': 1, 'ropirnol': 1, 'toxicitiy': 1, 'colisitina': 1, 'fondaparenox': 1, 'traceostomi': 1, 'bovona': 1, 'colstin': 1, 'clacium': 1, 'aggess': 1, 'acineterbact': 1, 'tachypnc': 1, 'cinemet': 2, 'acinitobact': 1, 'owner': 3, 'amicacin': 1, 'pvv': 1, 'intermiitt': 1, 'colisitin': 1, 'hopspial': 1, 'icub': 1, 'amikacina': 1, 'collistin': 1, 'untll': 1, 'tream': 1, 'moliz': 1, 'tobramcyin': 1, 'fwf': 1, 'pseudoman': 1, 'syntrhoid': 1, 'aci': 2, 'effuion': 1, 'inhaledq': 1, 'jllw': 1, 'fondaprinux': 1, 'perid': 1, 'dcing': 1, 'panscan': 1, 'cholestasi': 4, 'compliat': 1, 'restaur': 2, 'levidopa': 1, 'fondaparineux': 1, 'mayi': 1, 'patienttagamet': 1, 'detrusor': 1, 'nit': 3, 'acinetobactor': 1, 'cimetidin': 1, 'wherebi': 2, 'tagamet': 1, 'acenitobact': 1, \"plateau'd\": 1, 'staphylococci': 2, 'eblow': 1, 'chane': 2, 'fonduparinox': 1, 'pizzaria': 1, 'bovi': 1, \"babinksi'\": 1, 'carbapenem': 4, 'vast': 1, 'expansil': 1, 'debulk': 1, 'atmosair': 1, 'mutipodu': 1, 'chrome': 1, 'meriplex': 1, 'limitng': 1, 'morohin': 1, 'movent': 1, 'fistual': 1, 'ostearthr': 1, 'glucomet': 2, 'fistu': 1, 'esophagotrach': 1, 'enthesopathi': 1, 'bronchoesophag': 1, 'fluorodeoxyglucos': 2, 'salivari': 2, 'suvmax': 1, 'tricompartment': 1, 'entesophyt': 1, 'emiss': 2, 'organz': 1, 'pave': 1, 'fibros': 2, 'precent': 1, 'mensenter': 1, 'emtricitabin': 1, 'malox': 1, 'downmini': 1, 'autopeep': 3, 'surreal': 1, 'vavlular': 1, 'gurgli': 1, 'pvm': 1, 'linsinopril': 1, 'truvada': 1, 'decruit': 1, 'siahd': 1, 'spreadsheet': 1, 'mirror': 1, 'thoroughli': 2, 'thearapi': 1, 'incongru': 1, 'mildili': 1, 'lminim': 1, 'maxiallari': 1, 'pharmacokinet': 1, 'phynelephrin': 1, 'tachycrad': 1, 'imped': 3, 'quietipin': 1, 'qweekli': 1, 'sedation^': 1, 'hepatotox': 2, 'mpore': 1, 'ceil': 1, 'osmolar': 2, 'human': 5, 'concerntrt': 1, 'cultr': 1, 'quetapin': 1, 'mehtoadon': 1, 'mpove': 1, 'seroqeul': 1, 'bristl': 1, 'darunovir': 1, 'uninterrupt': 2, 'cholangiopathi': 1, 'remina': 1, 'breakthough': 1, 'propylen': 1, 'ptbd': 1, 'ssdi': 1, 'intertwin': 1, 'butopen': 1, 'teenag': 1, 'unaoutput': 1, 'crti': 1, 'siad': 1, 'sreat': 1, 'mout': 1, 'clother': 1, 'blackberri': 2, 'freshli': 1, 'revela': 1, 'ucl': 1, 'psychic': 1, 'bicrab': 1, 'transaminti': 1, 'biplanar': 1, 'duploff': 1, 'adedd': 1, 'brnch': 1, 'cumul': 1, 'pmc': 1, 'solvent': 1, 'phenyephrin': 2, 'sedationd': 1, 'seroqeil': 1, 'attritub': 1, 'snort': 2, 'orophargyng': 1, 'modear': 1, 'ritonivir': 1, 'alphabet': 2, 'respind': 1, 'msm': 1, 'cortsintropin': 1, 'miniz': 1, 'uosm': 1, 'serquel': 1, 'minib': 3, 'hm': 1, 'mess': 1, 'bolusof': 1, 'fior': 1, 'brinch': 1, 'appeal': 2, 'onboard': 1, 'quietiapin': 1, 'reliv': 1, 'xcr': 1, 'groggi': 1, 'ucr': 1, 'interdispers': 1, 'woirsenign': 1, 'fastest': 1, 'lipemia': 1, 'anit': 1, 'wahs': 1, 'roadblock': 1, 'faqilur': 1, 'qualit': 1, 'noectopi': 1, 'ethomid': 1, '^^sedat': 1, 'choli': 1, 'satisfi': 3, 'gungal': 1, 'qwk': 1, 'crae': 1, 'folllw': 2, 'addednum': 1, 'tandem': 1, 'throuhg': 1, 'prefus': 1, 'inftrat': 1, 'kollef': 1, 'affer': 2, 'restabil': 1, 'wihen': 1, 'stillrequir': 1, 'prepylor': 1, 'liais': 1, 'trednign': 1, 'pedifeed': 1, 'tmask': 1, 'diaphgragm': 1, 'ballot': 1, 'darunavir': 1, 'hypothesi': 1, 'hypxoem': 1, 'monocytosi': 1, 'dexder': 1, 'bou': 1, 'predat': 1, 'improvo': 1, 'resolved': 1, 'peliv': 1, 'lcsw': 5, 'methylprednisilon': 1, 'yesterdav': 1, 'nonerythemat': 1, 'dysyncroni': 1, 'targetd': 1, 'lcmv': 1, 'rhocncher': 2, 'epeatedli': 1, 'tranamin': 1, 'transillumin': 1, 'img': 1, 'faiilur': 1, 'morp': 1, 'imageri': 1, 'scitch': 1, 'hsould': 1, 'weaningfrom': 1, 'propogol': 1, 'swtich': 2, 'retd': 1, 'lnare': 1, 'anxiion': 1, 'crical': 1, 'coxiella': 1, 'rohila': 2, 'apprecci': 1, 'dv': 1, 'errythemat': 1, 'phtsical': 1, 'hydrocortinson': 1, 'sap': 1, 'paraly': 1, 'hepain': 1, 'mulifoc': 1, 'overf': 1, 'mypathi': 1, 'resight': 1, 'antimicorbi': 1, 'aspergil': 1, 'seratralin': 1, 'psychotherapi': 4, 'frighted': 1, 'iniit': 1, \"we'll\": 1, 'meropenen': 1, 'pneumobooot': 1, 'parencyhyma': 1, 'gulactomannan': 1, 'orgin': 1, 'swich': 2, 'brow': 1, 'stoop': 2, 'furrow': 1, 'medazolam': 1, 'yawn': 3, 'nape': 1, 'cessast': 1, 'murumur': 1, 'babesia': 1, 'expi': 1, 'sweeti': 1, 'grandneic': 1, 'shop': 2, 'pie': 1, 'outweight': 2, 'newspap': 1, 'kneel': 1, 'forhead': 1, 'tsurg': 2, 'rvat': 1, 'miniamlli': 1, 'osbstruct': 1, 'tachyarrhythmia': 3, 'volvodynia': 1, 'paracardiac': 1, 'apapc': 1, 'infliltr': 1, 'infiltrt': 1, 'plurit': 1, 'contineud': 2, 'infilttr': 1, 'pyogen': 1, 'ceftiaxon': 2, 'prnumonia': 1, 'hypomagnesemia': 2, 'saat': 1, 'tessolan': 1, 'anouth': 1, 'o^o^o': 1, 'lotrimen': 1, 'bakc': 1, 'secretit': 1, 'cd|b': 1, 'vvvvv': 1, 'abcdefghijklmnopqr': 1, 'abcdelmop': 1, 'jk': 2, 'ahsd': 1, 'versioneditnotestatustemplateidautologout': 1, 'cytomegaloviru': 4, \"'worddocu\": 1, 'hyperlink': 1, 'jf': 1, 'cdefghijklmnopqrstuvwxyz': 1, '^m': 1, 'rredden': 1, 'totachypnea': 1, 'fkda': 1, 'cjojqjuv^jajh': 1, 'closemod': 1, 'modular': 2, 'pow': 1, 'omkikmkkdgd': 1, 'vn': 1, 'hajmh': 1, 'paragraph': 1, '^jajmhnhu': 1, 'tachypniec': 1, 'adipos': 1, 'fmicrosoft': 1, 'auvst': 1, 'djwbkti': 1, 'ijpn': 1, 'secrtetit': 1, 'premolar': 1, 'canin': 1, 'epidosd': 1, 'gqu': 1, 'kdc': 1, 'kdm': 1, 'noteparentid': 1, 'aui': 1, 'galactomannin': 1, 'cjojqj^jajnutren': 1, 'cjojqj^jajc': 1, 'nect': 1, 'maxillay': 1, 'kda': 1, 'rebronch': 1, 'pcompobj': 1, 'lpd': 1, 'wfrwcw': 1, 'ethmod': 1, 'vancomydin': 1, 'ksim': 1, 'trpnpu': 1, 'bjbj': 1, 'cepapim': 1, 'abdb': 1, 'normalcj': 1, 'vvvv': 1, 'clotrimizol': 1, 'printmod': 1, 'abcdefghij': 1, 'msworddocword': 1, 'cjojqj^jaju': 1, 'histor': 1, 'ajmhsh': 1, 'aho': 1, 'diuriesi': 1, 'atuhi|': 1, 'j^': 1, 'versedt': 1, 'subclavain': 1, \"hct'\": 1, 'tuvwxyz': 1, 'micolozol': 1, 'jkdb': 1, 'vtabl': 1, 'fontvi': 1, 'posisbl': 1, 'imd': 1, 'je': 1, 'crxbcklrv|': 1, 'increasd': 1, 'kdi': 1, 'ddefault': 1, 'anbpz': 1, 'xdlt': 1, 'drt': 1, 'tihr': 1, 'promethazin': 1, 'vasodialtori': 1, 'hemoli': 1, 'sicker': 1, 'virul': 1, 'utox': 2, 'specturm': 1, 'vanvo': 2, 'noroviru': 2, 'bmv': 1, 'ki': 1, 'kartagen': 1, 'inversu': 1, \"kartagener'\": 1, 'dextrocardia': 1, 'exacerabt': 1, 'commonli': 2, 'levoscoliosi': 1, 'kkaliannan': 1, 'topogram': 1, 'earliest': 2, 'conmsist': 1, 'mdcta': 1, 'lumber': 1, 'intraves': 1, 'ventriculostomi': 3, 'bevacizumab': 1, 'arctic': 1, 'bentson': 2, 'gliobastoma': 1, 'omniflush': 2, 'posttreat': 1, 'glioblastoma': 1, 'bloom': 1, 'suspic': 1, 'panlobular': 1, 'pleuritc': 1, 'hemosiderin': 2, 'commissur': 1, 'despoit': 1, 'rani': 1, 'periprocedur': 1, 'nonehmorrhag': 1, 'uniqu': 1, 'bilari': 1, 'biloma': 1, 'azitho': 1, 'mutter': 1, 'opacu': 1, 'disinhibit': 1, 'femalw': 1, 'babbl': 1, 'outpit': 1, 'nonhogdekin': 1, 'civil': 1, 'cholersterol': 1, 'fol': 1, 'varieti': 5, 'peera': 1, 'anzythromycin': 1, 'herril': 1, 'legonella': 1, 'bruic': 1, 'laterdo': 1, 'avanc': 1, 'reequilibr': 2, 'mislead': 1, 'tli': 1, 'tussiv': 1, 'qbedtim': 1, 'exercs': 1, 'merlgia': 1, 'ngativ': 1, 'guanefisin': 1, 'diverticulsi': 1, 'skirt': 1, 'ifp': 1, 'nurns': 1, 'anteriro': 1, 'guafenassin': 1, 'persian': 1, 'bacteriuria': 1, 'bacturia': 3, 'resort': 1, 'sputrum': 1, 'dysnchron': 1, 'boundari': 1, 'dysmorph': 1, 'saltin': 1, 'tarc': 1, 'subsequen': 1, 'parethetica': 1, 'transffr': 1, 'concord': 1, 'immed': 1, 'methyl': 2, 'urobiligen': 1, 'calor': 2, 'spkem': 1, 'mucumyst': 1, 'ive': 1, 'abrat': 1, 'guifenasin': 1, 'cna': 1, 'urobilin': 1, 'diffenti': 1, 'critlcal': 1, 'microscop': 2, 'afrebil': 1, 'farsai': 1, 'parasthetica': 1, 'prodict': 1, 'oclac': 1, 'cogent': 1, 'meralgia': 1, 'barrir': 1, 'bacteriruia': 1, 'cefedim': 1, 'discontiu': 1, 'beep': 2, 'nvalid': 1, 'exten': 1, 'reset': 1, 'paresthetica': 1, 'aysmmetri': 1, 'ostial': 2, 'meniscectomi': 1, 'otic': 1, 'rewarm': 1, 'rhonor': 1, 'ciloxan': 1, 'timi': 1, 'appx': 1, 'unlcear': 1, 'cmpathi': 1, 'euvolum': 1, 'arr': 1, 'nother': 1, 'hypervolum': 1, 'cotnineu': 1, 'mucuou': 1, 'supratherapuet': 1, 'metases': 1, 'atttemp': 1, 'dicontinu': 1, 'pericod': 1, 'arthrosclerot': 1, 'cholangiocarcinoma': 1, 'faliur': 1, 'insepar': 1, 'quadrigemin': 1, 'pyelo': 2, 'intrauterin': 1, 'gestat': 1, 'transabdomin': 2, 'rump': 1, 'perigest': 1, 'pregnanc': 2, 'transvagin': 1, 'referenc': 1, 'chromosom': 1, 'gasteau': 1, 'delet': 1, 'gastaut': 1, 'sbi': 1, 'subopitm': 1, 'hypopkinesi': 1, 'ffnding': 1, 'anteromedi': 2, 'transposit': 1, 'hollow': 1, 'axe': 2, 'sucat': 1, 'frost': 1, 'tempsiv': 1, 'sax': 1, 'inturpetur': 1, 'uncoopr': 1, 'plax': 1, 'whichi': 1, 'dipo': 1, 'magnesia': 5, 'patientpenicillin': 2, 'arcu': 1, 'contantli': 1, 'speka': 1, 'incessantli': 1, 'sensitivti': 1, 'lasxi': 1, 'henodynam': 1, 'senili': 1, 'hyrdatoinwith': 1, 'hemidi': 1, 'crcl': 1, 'annunci': 1, 'cholinesteras': 1, 'cefalosporin': 1, 'unintellig': 3, 'respositon': 1, 'rspons': 1, 'sacram': 1, 'hctof': 1, 'hypopho': 1, 'perinueum': 1, 'gun': 1, 'onsit': 1, 'trocar': 1, 'kkaliann': 2, 'infratentori': 1, 'prove': 1, 'viii': 1, 'isoecho': 1, 'breathhold': 1, 'pblm': 1, 'mitodrin': 1, 'prieiou': 1, 'vean': 1, 'sifnific': 1, 'wopman': 1, 'linezold': 1, 'postfilt': 1, 'periop': 3, 'dupplex': 1, 'cpnsult': 1, 'duderm': 1, 'neprologost': 1, 'likelyt': 1, 'currentl': 1, 'malnutritrion': 1, 'prefilt': 1, 'pcld': 1, 'pckd': 1, 'tranplant': 1, 'hliv': 1, 'mero': 1, 'rescu': 1, 'prismas': 1, 'effusdion': 1, 'thoracenthesi': 1, 'spongett': 2, 'overfeed': 3, 'bipsi': 1, 'chevron': 1, 'polycyst': 1, 'autosom': 1, 'ronchii': 1, 'diuoderm': 1, 'immens': 1, 'ligthli': 1, 'venopunctur': 2, 'pacement': 1, 'undisplac': 1, 'ingrow': 1, 'coapt': 1, 'sectionsclip': 1, 'possil': 1, 'uncement': 1, 'teamunabel': 1, 'vei': 1, 'demat': 1, 'similiar': 1, 'perplex': 2, 'huumalong': 1, 'hyperlycemia': 1, 'menigit': 1, 'withb': 1, 'enucl': 1, 'cephalomalacia': 1, 'meningit': 2, 'explana': 1, 'hemodynaimc': 1, 'calcifion': 1, 'frequenti': 1, 'nucchal': 1, 'resusci': 1, 'toxicolog': 3, 'checkstool': 1, 'astound': 1, 'cefeim': 1, 'diluat': 1, 'triglyericd': 1, 'crap': 1, 'notabley': 1, 'ketosi': 1, 'biweekli': 1, 'methylnaltraxon': 1, 'hypopotassemia': 1, 'sugeri': 2, 'sprinkl': 1, \"'re\": 1, 'starvat': 2, 'frap': 1, 'dulcolox': 1, 'uptrend': 1, 'wakekup': 1, 'topimax': 1, 'blueberri': 1, 'valproat': 1, 'innappri': 1, 'provgigil': 1, 'manaul': 1, 'nonspec': 1, 'alththough': 1, 'topamax': 2, 'ouch': 1, 'svce': 2, 'topiram': 2, 'respiratoy': 2, 'provigil': 1, 'myxedema': 1, 'appeard': 1, 'uation': 1, 'seqeunc': 1, 'underfe': 2, 'cardioembol': 1, 'minimz': 1, 'addiiton': 1, 'caregroup': 1, 'requilibri': 1, 'ocnsid': 1, 'subcrit': 1, 'ato': 1, 'chlorosept': 1, 'equilib': 1, 'enterocol': 1, 'lasixc': 1, 'partway': 1, 'confound': 1, 'critial': 1, 'cghc': 1, 'dilitiazem': 1, 'dissimilar': 1, 'indistinguish': 1, 'hemorrhoidectomi': 1, 'urologist': 1, 'checkbook': 1, 'dietitian': 1, 'hsl': 1, 'dysambul': 1, 'vom': 1, 'multivit': 2, 'triamcinolin': 1, 'enterococci': 1, 'ritilan': 1, 'ecanazol': 1, 'editor': 1, 'brielli': 1, 'incorrectli': 1, 'thoracentes': 1, 'albican': 2, 'peribronchovasc': 1, 'mull': 1, 'impir': 1, 'colas': 1, 'vibrat': 2, 'hint': 1, 'lenezolid': 1, 'fbmp': 1, 'ethmoidali': 1, 'psychotherapist': 1, 'treatabl': 2, 'milkshak': 2, 'thoracensi': 1, 'dexm': 1, 'analyst': 1, 'reigimen': 1, 'tirtrat': 1, 'ventilatit': 1, 'psychopharm': 1, 'radiol': 1, 'nutropho': 1, 'dor': 1, 'fuel': 1, 'slidenafil': 1, 'comfotali': 1, 'tchypnic': 1, 'reexamin': 2, 'unbleach': 1, 'propolol': 1, \"cib'\": 1, 'perrir': 1, 'drrock': 1, 'eosinophillia': 1, 'haemophilu': 1, 'throracentesi': 1, 'sliglhtli': 1, 'barorauma': 1, 'abraid': 1, 'feedng': 1, 'anxiolysi': 1, 'cutaen': 1, 'errand': 1, 'freelanc': 1, 'sprint': 2, 'papul': 2, 'entrap': 1, 'calmin': 1, 'randitin': 1, 'jungian': 1, 'peribroncholar': 1, 'rind': 1, 'vasodialtor': 1, 'evaluatw': 1, 'mysteri': 1, 'txt': 1, 'previs': 2, 'labtap': 1, 'stoic': 1, 'murki': 1, 'prosac': 1, 'rrin': 1, 'cholecystisit': 1, 'pnm': 1, 'peco': 1, 'mwedic': 1, 'lasdyt': 1, 'eater': 1, 'sidenafil': 1, 'tachyp': 1, 'tedium': 1, 'thoracantesi': 1, 'plseval': 1, 'blucan': 1, 'fovea': 1, 'casemgmt': 1, 'manometri': 1, 'aurv': 1, 'ubw': 2, 'precautionari': 1, 'xfuse': 1, 'irrtiat': 1, 'interspers': 2, 'snu': 1, 'defalt': 1, 'psychopharmocolog': 1, 'pessi': 1, 'trazadonea': 1, 'hypoallergen': 1, 'psychologist': 1, 'corazepan': 1, 'geodon': 1, 'cacecth': 1, 'pip^^': 1, 'intiub': 1, 'electrolyet': 1, 'mgbld': 1, 'amountsof': 1, 'intercos': 1, 'iloson': 1, 'achieiv': 1, 'afp': 1, 'remedi': 1, 'koh': 1, 'saquinavir': 1, 'uvolemia': 1, 'venit': 1, 'estol': 1, 'repositin': 1, 'myelolysi': 1, 'cephlic': 1, 'cenral': 1, 'amyotroph': 1, 'devlop': 1, 'alf': 2, 'girth': 1, 'adeuat': 1, 'createn': 1, 'task': 2, 'cpbt': 1, 'diert': 1, '^cre': 1, 'rafib': 1, 'ecasa': 1, 'upc': 2, 'dulcoloax': 1, 'ilu': 1, 'closureat': 1, 'mindo': 1, 'bradykinesia': 1, 'milranon': 1, 'kefzol': 1, 'xct': 1, 'presurg': 1, 'pulmoray': 1, 'polyval': 2, 'mmg': 1, 'tumb': 1, 'mue': 2, 'orthonpea': 1, 'mepalex': 1, 'lsca': 1, 'inquiz': 1, 'indescret': 1, 'attn': 1, 'dexter': 2, 'epic': 1, 'tympanit': 1, 'plf': 1, 'arom': 1, 'klonipen': 1, 'deinf': 1, 'proprol': 1, 'inexsuffal': 1, 'rept': 1, 'placemen': 1, 'binocular': 1, 'alkalod': 1, 'explant': 1, 'chlorthiadon': 1, 'citrobactor': 1, 'understan': 1, 'discontd': 1, 'notablw': 1, 'systemat': 1, 'compliact': 1, 'parplegia': 1, 'schd': 2, 'velopharyng': 1, 'presidex': 1, 'minimla': 1, 'collis': 2, 'hytpertens': 1, 'arytenoid': 1, 'hctat': 1, 'prevsiou': 1, 'unclean': 1, 'nephtotoxin': 1, 'loer': 1, 'repositionpt': 1, 'iam': 1, 'ntx': 2, 'senit': 1, 'tamilfu': 1, 'beselin': 1, 'qafternoon': 1, 'insufl': 1, 'symptathet': 1, 'addntl': 1, 'reistant': 1, 'wetter': 1, 'oxycoceon': 1, 'coac': 1, 'akskasj': 1, 'tittrat': 1, 'preferr': 1, 'chlortahlidon': 1, 'sevret': 1, 'imroov': 1, 'floppi': 1, 'bur': 1, 'levph': 1, 'autodiurs': 1, 'chlorthalidon': 1, 'solument': 1, 'andxiou': 1, 'oxybutnin': 1, 'agenda': 1, 'gentamyin': 1, 'packyear': 1, 'augementin': 1, 'unreport': 1, 'basesabg': 1, 'turnaround': 1, 'wmay': 1, 'ketalac': 1, 'lasixd': 1, 'fai': 1, 'fluroquinolon': 2, 'porpofol': 1, 'reitub': 1, 'aryepiglott': 1, 'cae': 1, 'flouroquinolon': 1, 'xpeep': 1, 'freundii': 1, 'turbin': 1, 'arthir': 1, 'uco': 1, 'masspro': 1, 'angiti': 1, 'citrobact': 1, 'unobstruct': 1, 'viusliz': 1, 'systolicali': 1, 'hyperfus': 1, 'seoncdray': 1, 'delat': 1, 'suctionnig': 1, 'hyrdalazin': 1, 'nafficillin': 1, 'soputum': 1, 'appeasr': 1, 'vasculopath': 1, 'tympanet': 2, 'llleffus': 1, 'relart': 1, 'cmmaureen': 1, 'mnot': 1, 'uncompromis': 1, 'conditon': 1, 'exfoli': 1, 'tors': 1, 'rete': 1, 'sto': 1, 'overdistent': 1, 'spontanes': 1, 'tansient': 1, 'hemid': 1, 'eucerin': 1, 'vanomycin': 1, 'hydrocerin': 1, 'contribnut': 1, 'moniotir': 1, 'vential': 1, 'dsay': 1, 'gmca': 1, 'derma': 1, 'upop': 1, 'albuminemia': 1, 'descquamatin': 1, 'mgsulf': 1, 'shoift': 1, 'contt': 1, 'specific': 1, 'trolyt': 1, 'sett': 2, 'eysterday': 1, 'aroud': 1, 'infutur': 1, 'intrvascular': 1, 'aesthesia': 1, 'trunkal': 1, 'msn': 1, 'semiloos': 1, 'lactobacillu': 3, 'conern': 1, 'conscent': 1, 'ocmv': 1, 'probiot': 1, 'monitoir': 1, 'eucarin': 1, 'cefipm': 1, 'respira': 1, 'misconcept': 1, 'consisten': 1, 'accetp': 1, 'unalb': 1, 'gmmg': 1, 'elec': 1, 'yedterday': 1, 'pede': 1, 'ertyhemat': 1, 'fenatnyl': 1, 'hower': 1, 'howevr': 1, 'monitir': 1, 'propriat': 1, 'sherriff': 1, 'lifelong': 1, 'bromchial': 1, 'sufflat': 1, 'colc': 1, 'mirtazepin': 2, 'serotyp': 2, 'cacet': 1, 'malig': 2, 'fluricason': 1, 'multivitiamin': 1, \"ble'\": 2, 'idid': 1, 'toasess': 1, 'methypr': 1, 'apprear': 1, 'broncu': 1, 'wheze': 1, 'eft': 1, 'commensur': 2, 'gstain': 1, 'npleas': 1, 'zosym': 1, 'methpr': 1, 'largevolum': 1, 'amand': 1, 'enzymat': 1, 'kernel': 3, 'exotropia': 1, 'interdigit': 2, 'grnd': 1, 'movementx': 1, 'midazalam': 1, 'plau': 1, 'globulin': 1, 'immuno': 1, 'bandermia': 1, 'gravitiy': 1, 'envioron': 1, 'shear': 1, 'decubi': 2, 'omin': 1, 'math': 1, 'abluterol': 1, 'nonprogress': 2, 'amikican': 1, 'bias': 1, 'recoment': 1, 'protacol': 1, 'meropenom': 1, 'hemodiaylsi': 1, 'trigemineni': 1, 'anitcoag': 1, 'dermatom': 1, 'allyvn': 1, 'responsiv': 1, 'multifactoir': 1, 'flexocel': 1, 'contramin': 1, 'palpitaiton': 1, 'malt': 1, 'terrifi': 1, 'sash': 1, 'fxnal': 1, 'lymphoplasmoct': 1, 'paradoxu': 2, 'clote': 1, 'obliteraion': 1, 'anioplasti': 1, 'satellit': 2, 'tapin': 1, 'pleurex': 2, 'hypotn': 2, 'reprogram': 1, 'renali': 1, 'persuad': 1, 'additioanlli': 1, 'lymphoid': 1, 'hypercalcem': 1, 'wakler': 1, 'ddi': 1, 'slack': 1, 'revsion': 1, 'vastcular': 1, 'cytogenet': 1, 'parodoxu': 1, 'lympoma': 1, 'etio': 2, 'dbcd': 1, 'rhoncouru': 1, 'levsin': 1, 'hemiparet': 1, 'anticoaul': 1, 'jplacement': 1, 'incras': 1, 'cyclobenzaprin': 1, 'gk': 1, 'murphi': 1, 'doxylam': 1, 'acetaminoph': 1, 'hemangiomata': 1, 'mantain': 2, 'refin': 3, 'signfiic': 1, 'pneuonia': 1, 'flexeril': 1, 'amn': 1, 'brachicephal': 1, 'bochdalek': 1, 'pulsat': 1, 'pgr': 1, 'player': 1, 'fould': 1, 'cite': 1, 'consul': 2, 'poba': 1, 'usa': 2, 'babinski': 1, 'cmpi': 1, 'pgtube': 1, 'palvix': 1, 'hindi': 1, 'ppeg': 1, 'icc': 1, 'reimburs': 1, 'dialect': 1, \"dep't\": 1, 'accru': 1, 'meningitidi': 1, 'reactant': 2, 'dispers': 1, 'ooob': 1, 'hepatotoxi': 1, 'pineal': 2, 'neisseria': 1, 'normalwithout': 1, 'contimin': 1, 'farenheit': 1, 'neisseiria': 1, 'compos': 1, 'phenobard': 1, 'meningid': 1, 'sectrion': 1, 'mute': 1, 'instabilti': 1, 'prx': 1, 'dizepam': 1, 'anaphi': 1, 'hpyotens': 1, 'stiffman': 1, 'somnel': 1, 'musckl': 1, 'tussilon': 1, 'hempotysi': 1, 'tablespoon': 2, 'buproprion': 1, 'hemopysi': 1, 'african': 1, 'concuss': 1, 'chadashvili': 1, 'txcf': 1, 'magarw': 2, 'preview': 1, \"it'\": 1, 'hemopneumatocyst': 1, 'intraparenchyma': 1, 'pnemothorax': 1, 'shorntess': 1, 'peripartum': 1, 'concomitantli': 1, 'lumpect': 1, 'fnh': 2, 'subfalcin': 1, 'rmca': 1, 'szm': 1, 'falcin': 1, 'ischium': 1, 'trabecular': 1, 'dminant': 1, 'appearsto': 1, 'preoccupi': 1, 'lymphomat': 1, 'masslik': 1, 'taccypn': 2, 'persistec': 1, 'normotensv': 1, 'fulconazol': 1, 'ablil': 1, 'celsiu': 1, 'periumbil': 2, 'miconzol': 1, 'clavic': 1, 'hac': 1, 'zyprex': 1, 'obta': 1, 'quikli': 1, 'attebnd': 1, 'majorli': 1, 'nutritin': 1, 'adjit': 1, 'aiway': 1, 'dorm': 1, 'bronchosocpi': 1, 'simethacon': 1, 'lpicc': 1, 'shiift': 1, 'fuconazol': 1, 'exbuat': 1, 'yogart': 1, 'aformet': 1, 'cot': 1, 'triat': 1, 'lacross': 1, 'ceftra': 1, 'miscommun': 1, 'includec': 1, 'periextub': 1, 'familu': 1, 'navalbin': 1, 'maineten': 1, 'cextriaxon': 1, 'dyspnia': 1, 'malai': 1, 'backgroun': 1, 'hgba': 2, 'bipass': 1, 'nopain': 1, 'pyuria': 3, 'immunochromogen': 1, 'patientlipitor': 1, 'blend': 1, 'rjab': 2, 'perifoc': 1, 'woren': 1, 'transcrib': 1, 'suv': 2, 'hfm': 1, 'calenadar': 1, 'etoposid': 1, 'pnuemon': 1, 'gingiv': 1, 'heparinoid': 1, 'gound': 1, 'incur': 1, 'tonsillectomi': 1, 'mel': 1, 'broaod': 1, 'philosophi': 1, 'ventliat': 1, 'anesthia': 1, 'hopitilaz': 1, 'excert': 1, 'comensur': 1, 'diffiulti': 1, 'lethal': 1, 'ataxia': 2, 'miralex': 1, 'explicitli': 2, 'miarlex': 1, 'voluem': 1, 'losmap': 1, 'sympathi': 1, 'rchf': 1, 'withtout': 1, 'starl': 1, 'ostia': 1, 'intestiti': 1, 'presacr': 1, 'situationclip': 1, 'pnaeumomia': 1, 'ctc': 1, 'tolterodin': 1, 'intracerebellar': 1, 'optison': 3, 'proximmali': 1, 'periampullari': 1, 'oncern': 1, 'downhil': 1, 'pse': 1, 'udomona': 1, 'nere': 1, 'omezprazol': 1, 'isoton': 1, 'lethari': 1, 'setti': 1, 'asso': 1, 'misestim': 1, \"alzheimer'\": 1, 'carvidolol': 1, 'amputaton': 1, 'earlyy': 1, 'inpneumonia': 1, 'delierum': 1, 'seropquel': 1, 'rag': 1, 'asm': 1, 'mrcp': 2, 'grapefruit': 1, 'proteinac': 2, 'nausa': 1, 'repositioningof': 1, 'brodoefel': 1, 'pretracha': 1, 'scleroderma': 2, 'craniocerv': 1, 'resolu': 1, 'recol': 1, 'pharaynx': 1, 'deveat': 1, 'fascial': 1, 'iac': 1, 'drainaig': 1, 'pulmona': 1, 'ctp': 1, 'precentr': 1, 'rkcb': 2, 'mtt': 1, 'discouragr': 1, 'gratitud': 1, 'aftet': 2, 'diconstinu': 1, 'unhappi': 1, 'defeat': 1, 'highlight': 1, 'renarrow': 1, 'subglot': 1, 'supratheraopeut': 1, 'meplex': 1, 'mirabili': 1, 'consenu': 1, 'cefe': 1, 'acidem': 1, 'drag': 1, 'olgilvi': 1, 'aphagia': 1, 'worsesn': 1, 'mbi': 1, 'olgivi': 1, 'outreach': 1, 'isosourc': 2, 'pneumotosi': 1, 'acknowledeg': 1, 'combat': 1, 'ronchouru': 1, 'pericari': 1, 'precut': 1, 'opaticit': 1, 'aminsom': 1, 'itraconazol': 1, 'hisoto': 1, 'oseltamivr': 1, 'ramitidin': 1, 'lansoprosol': 1, 'gerontolog': 2, 'consold': 1, 'difficl': 1, 'dermatotomi': 1, 'wjll': 1, 'trachestomi': 1, 'cholecyts': 1, 'sensitivitei': 1, 'straigh': 1, 'voicemail': 1, 'mgd': 1, 'keayxal': 1, 'hyperphophatemia': 1, 'sural': 1, 'bradycardi': 1, 'unspeci': 1, 'muffl': 1, 'patientzosyn': 1, 'hypoterm': 1, 'aloud': 1, 'tachypnoea': 1, 'tobro': 1, '^sedat': 1, 'treshold': 1, 'olu': 1, 'prussur': 1, 'oscil': 1, 'abbx': 1, 'hypnot': 1, 'phelobotomi': 1, 'andmoist': 1, 'cavaatri': 1, 'lidocaint': 1, 'cxx': 1, 'panlobar': 1, 'circardian': 1, 'fespiratori': 1, 'tnd': 1, 'denerv': 1, 'aluminium': 1, 'influenz': 2, 'athough': 1, 'buckl': 2, 'commnd': 1, 'sevalem': 1, 'swine': 1, 'speicat': 1, 'apn': 1, 'aluminum': 1, 'rneal': 1, 'guaifenisen': 1, 'lund': 1, 'advanbc': 1, 'elat': 1, 'pleae': 1, 'resolev': 1, 'ccv': 1, 'maxillori': 1, 'cerruloplasmin': 1, 'mold': 2, 'transist': 1, 'afl': 1, 'inaud': 1, 'cammnd': 1, 'incom': 1, 'intermediari': 1, 'hydrox': 1, 'procedurel': 1, 'gauic': 1, 'signiticantli': 1, 'doff': 1, 'tunel': 1, 'aspirgillu': 1, 'leukocyto': 1, 'lidaocain': 1, 'cvhh': 1, 'rhab': 1, 'benterobact': 1, 'insilun': 1, 'maibor': 1, 'electromyographi': 1, 'encouragec': 1, 'cholecystisi': 1, 'dff': 1, \"le'\": 1, 'tosay': 1, 'canc': 1, 'lansprazol': 1, 'dexreas': 1, 'lovul': 1, 'consolidationi': 1, 'preval': 1, 'steepli': 1, 'zygoma': 1, 'monasteri': 1, 'disshelvel': 1, 'wooden': 1, 'upstream': 1, 'pelvicalic': 1, 'oversewn': 1, 'fisula': 1, 'colorect': 1, 'goo': 1, 'undistend': 1, 'bibsilar': 1, 'billroth': 1, 'contingu': 1, 'vagotomi': 1, 'antrectomi': 1, 'psbo': 1, 'dieat': 1, 'macrobid': 1, 'emypema': 1, 'meniscu': 1, 'uncin': 1, 'gastroenterostomi': 1, 'epiphren': 1, 'oment': 1, 'prostatomegali': 1, 'ano': 2, 'monophon': 2, 'nsmall': 1, 'pneumoectomi': 1, 'drinkl': 1, 'neosinephrin': 1, 'queani': 1, 'sysolt': 1, 'examinedv': 1, 'medisastinoscopi': 1, 'paraceliac': 1, 'datasheet': 1, 'metolamin': 1, 'nscl': 1, 'undecid': 1, 'gvh': 1, 'scopolimin': 1, 'coronori': 1, 'pronosi': 1, 'ccontinu': 1, 'ccfree': 1, 'extubalt': 1, 'subconjunctiv': 1, 'pneumectomi': 1, 'percentag': 1, 'rvedp': 1, 'atorva': 1, 'xanthalesma': 2, 'metolazin': 1, 'queen': 1, 'queeni': 1, 'agr': 1, 'ascul': 1, 'rhilar': 1, 'rast': 1, 'wsasstent': 1, 'ransfer': 1, 'beceaus': 1, 'nay': 1, 'wenchbach': 1, 'consultatoin': 1, 'musculoskel': 1, 'iniat': 1, 'actinomycosi': 1, 'rsi': 1, 'grumpi': 1, 'hypofunct': 1, 'nicknam': 1, 'ttherapi': 1, 'lmca': 1, 'zaroxylin': 1, 'testicular': 2, 'monitror': 1, 'subconjuctiv': 1, 'withot': 1, 'awka': 1, 'porb': 1, 'necessri': 1, 'invovl': 2, 'pallit': 1, 'bacillu': 2, 'angigoraphi': 1, 'celtic': 1, 'actinomyc': 1, 'cin': 1, 'commmun': 1, 'quenn': 1, 'sessioin': 1, 'dependen': 1, 'rteam': 1, 'mediastinoscopi': 2, 'rxt': 1, 'microadenoma': 1, 'insufficieni': 1, 'abiopsi': 1, 'iimpress': 1, 'singific': 1, 'hypotenisv': 1, 'supplment': 2, 'llnp': 1, 'paciti': 1, 'bhc': 1, 'pathophysiolog': 2, 'adentul': 1, 'tatient': 1, 'absens': 1, 'tenabl': 1, 'caphosol': 1, 'interlaminar': 1, 'biphenotyp': 1, 'leukem': 1, 'neutrpeni': 1, 'dinitrit': 1, 'medco': 1, 'accredo': 1, 'feder': 1, 'galleria': 1, 'patho': 1, 'bcb': 1, 'retail': 2, 'ppo': 1, 'nasophargyng': 1, 'poorer': 1, 'indewpend': 1, 'deficet': 1, 'reinfors': 1, 'gerim': 1, 'fequenc': 1, 'isodil': 1, 'hazzard': 1, 'mrsg': 1, 'capg': 1, 'monintor': 1, 'vot': 1, 'grandduaght': 1, 'cefpodox': 1, 'eicu': 1, 'demonstrat': 1, 'cepifim': 1, 'echhymosi': 1, 'discsuss': 1, 'keen': 1, 'hypernateremia': 1, 'nutrtit': 1, 'swap': 1, 'hypercoagu': 1, 'haldolo': 1, 'deseryl': 1, 'scren': 1, 'vasalin': 1, 'srcotal': 1, 'inihibit': 1, 'hael': 1, 'amlopidin': 2, 'daqi': 1, 'tavchypnea': 1, 'fentayl': 1, 'lgi': 1, 'failurepleas': 1, 'oncot': 1, 'ronchu': 1, 'asian': 1, 'adventit': 1, 'fucntion': 1, 'nosocmi': 1, 'countershock': 1, 'producint': 1, 'craniocaud': 2, 'antigoagul': 1, 'roover': 1, 'marriag': 1, 'antiphospholid': 1, 'migran': 1, 'trendalapril': 1, 'coolig': 1, 'clutter': 1, 'follicul': 1, 'bibpap': 1, 'vitk': 1, 'trando': 1, 'chlrohexidin': 1, 'nned': 1, 'dipyrimadol': 1, 'menisc': 1, 'ctm': 2, 'dipyridimol': 1, 'nonblanch': 1, 'carbamazapin': 1, 'nembut': 1, 'redman': 1, 'rrrr': 1, 'lgib': 1, 'evalyu': 1, 'neuroectoderm': 1, 'piic': 1, 'intabut': 1, 'rexray': 1, 'atx': 1, 'pnet': 1, 'addiion': 1, 'parietooccipit': 1, 'trachael': 1, 'neeb': 1, 'tnding': 1, 'foolowup': 1, 'racim': 1, 'audbil': 1, 'ureterocel': 1, 'underdistent': 1, 'nonemerg': 1, 'circumfirenti': 1, 'multisept': 1, 'scallop': 1, 'neuropsych': 1, 'benztropin': 1, 'bronchioalveolar': 2, 'rhnochor': 1, 'risperdon': 1, 'resperidon': 1, 'worseniong': 1, 'phareng': 1, 'mediasin': 1, 'diffuss': 1, 'maintianedencourag': 1, 'lunesta': 1, 'azithromcin': 1, 'soulmedrol': 1, 'orer': 1, 'intuib': 1, 'hypovelem': 1, 'weigt': 1, 'tachypnaec': 1, 'deyhdrat': 1, 'superolater': 1, 'dypena': 1, 'periprosthet': 1, 'macronodular': 1, 'porto': 1, 'artial': 1, 'immunocpmpromis': 1, 'mammari': 1, 'periappendic': 1, 'atret': 1, 'lugn': 1, 'hasa': 1, 'edmea': 1, 'leukesteras': 1, 'pannel': 1, 'methocarbamol': 1, 'pneoumonia': 1, 'spasma': 1, 'dydrat': 1, 'discetomi': 1, 'dominantli': 1, 'ceasarin': 1, 'anerusym': 1, 'mxak': 1, 'echinococc': 1, 'liquefi': 1, 'ketonazol': 1, 'assumo': 1, 'parot': 2, 'witdraw': 1, 'cashier': 2, 'acanthosi': 1, 'recipt': 2, 'incipi': 1, 'periscrot': 1, 'maggot': 1, 'alchohol': 1, 'nigrican': 1, 'rvot': 1, 'dorsiflex': 1, 'collectioin': 1, 'diomox': 1, 'iivi': 1, 'consilid': 1, 'ateletasi': 1, 'anticardiolipin': 1, 'tpp': 1, 'fallot': 1, 'crisper': 1, 'nauseu': 1, 'gicven': 1, 'stiumul': 1, 'anxierti': 1, 'microsheath': 1, 'spontatn': 1, 'ranch': 1, 'ertapenem': 2, 'swaloow': 1, 'wqean': 1, 'intracarda': 1, 'apl': 1, 'factt': 1, 'chearlead': 1, 'ptpexp': 1, 'sell': 1, 'afebrilex': 1, 'tetrolog': 1, 'tetralog': 1, 'lej': 1, \"fournier'\": 1, 'ventricukar': 1, 'gangeren': 1, 'hydrocel': 1, 'monophas': 1, 'testi': 1, 'fournier': 1, 'cfa': 2, 'gliosi': 1, 'epididymi': 1, 'absecess': 1, 'barrocat': 1, 'fuzzi': 1, 'shotti': 1, 'fronm': 1, 'pleasnatli': 1, 'anterolatrer': 1, 'pendent': 1, 'velcro': 1, 'suspicisi': 1, 'hyperesthesia': 1, 'mph': 1, 'claritin': 1, 'zoraxolyn': 1, 'perserv': 1, 'admssion': 1, 'vancomyin': 1, 'rosari': 2, 'lhr': 1, 'osteosrthr': 1, 'neckles': 1, 'gulp': 1, 'beed': 1, 'terrigori': 1, 'hospitalist': 1, 'nexium': 1, 'script': 1, 'bilirubinemia': 1, 'lingua': 1, 'valvulopathi': 1, 'nonpurul': 1, 'acetozolamid': 1, 'ethylsuccin': 1, 'macrodantin': 1, 'seborrh': 1, 'sebhorr': 1, 'mistook': 1, 'aifb': 1, 'aifib': 1, 'lim': 2, 'lyric': 1, 'nasaltrach': 1, 'hel': 1, 'respiraotyr': 1, 'encelopathi': 1, 'narcosi': 1, 'pseudohyperkalemia': 1, 'tinnitu': 1, 'leukemi': 1, 'tohomethat': 1, 'aldosteron': 1, 'vaginoplasti': 1, 'risedron': 1, 'miscovascular': 1, 'palliatv': 1, 'pericaridi': 1, 'ifptmakesit': 1, 'hemorrhioid': 1, 'actonel': 2, 'identili': 1, 'ptand': 1, 'recordsibandron': 1, 'paracardiaocentesi': 1, 'renin': 1, 'confirmatori': 1, 'simpathet': 1, 'andhousestaff': 1, 'unamen': 1, 'dyssynchroni': 1, 'nonenlarg': 1, 'lacuna': 1, 'ascult': 1, 'lfurosemid': 1, 'escherichia': 1, 'gerentolog': 1, 'multiinfact': 1, 'mandabl': 1, 'emigr': 1, 'youth': 1, 'german': 1, 'balit': 1, 'republ': 1, 'neuropsychiatr': 1, 'coin': 1, 'overshadow': 1, 'wwii': 1, 'economist': 1, 'unfinish': 1, 'ttransit': 1, 'fromprevi': 1, 'dexemedetomidin': 1, 'histolog': 1, 'reread': 1, 'aor': 1, 'odonyphagia': 1, 'retak': 1, 'fft': 1, 'ebu': 1, 'transbronchi': 1, 'transbronch': 1, 'traceabl': 1, 'epicent': 1, 'ppiv': 1, 'madiastinl': 1, 'incldu': 1, 'rtigid': 1, 'silica': 1, 'capitol': 1, 'diganosedmr': 1, 'mam': 1, 'quadriparesi': 1, 'petit': 1, 'auop': 2, 'azirthomycin': 1, 'nuchal': 1, 'carbamazepin': 1, 'percipat': 1, 'mupirocin': 1, 'liquidsand': 1, 'contol': 1, 'craclk': 1, 'initr': 1, 'significnat': 1, 'historyof': 1, 'increasedto': 1, 'pneumovaccin': 1, 'irregluari': 1, 'previosli': 1, 'depressoin': 1, 'dietet': 1, 'periord': 1, 'hemplegia': 1, 'trasud': 1, 'underfeed': 1, 'venlafaxin': 2, 'shor': 1, 'semc': 1, 'inconsistn': 1, 'hunch': 1, 'urinanalysi': 1, 'atorv': 1, 'emal': 1, 'larnyng': 1, 'thinf': 1, 'jointli': 1, 'radat': 1, \"crohn'\": 1, 'casemanag': 1, 'sqqca': 1, 'resusc': 1, 'helmet': 1, 'sqcca': 1, \"bp'\": 1, 'phenothiazin': 1, 'synergist': 1, 'zyphoid': 1, 'ganapentin': 1, 'pretest': 1, 'worriesom': 1, 'wetread': 1, 'latanoprost': 2, 'hepatosteatosi': 1, 'pancolon': 1, 'acromimum': 1, 'tac': 1, 'dyspena': 1, 'juxta': 1, 'ahaustr': 1, 'hypoenhanc': 1, 'hydroureteronephrosi': 1, 'eassess': 1, 'adomin': 1, 'tachacardia': 1, 'satbl': 1, 'spalid': 1, 'coal': 1, 'maiinstem': 1, 'aspart': 1, 'tracheobronchomalacea': 1, 'procrit': 1, 'ly': 1, 'reinstat': 1, 'dash': 1, 'silicon': 1, 'collasp': 1, 'parainfluenz': 1, 'toungu': 1, 'otherday': 1, 'resterd': 1, 'sitagliptin': 1, 'ofoadm': 1, 'mine': 1, 'compartment': 1, 'kavitha': 1, 'procliv': 1, 'paramethadion': 1, 'antiocoagul': 1, 'urimet': 1, 'hydantoin': 1, 'triger': 1, 'barbitur': 1, 'xanthoma': 2, 'mysolin': 1, 'llb': 1, 'outright': 1, 'receivedo': 1, 'phenacemid': 1, 'potient': 1, 'trimethadion': 1, 'follwup': 1, 'iliav': 1, 'subcultur': 1, 'superirli': 1, 'dillit': 1, 'clnical': 1, 'osit': 1, 'cystoscop': 1, 'omprov': 1, 'exerc': 1, 'pericyst': 1, 'tropn': 1, 'asbcess': 1, 'enteroccocu': 1, 'datng': 1, 'lafb': 1, \"rec'd\": 1, 'conjug': 1, 'thett': 1, 'apspir': 1, 'abrubtli': 1, 'estrogen': 1, 'reinfarct': 1, 'oxcodon': 1, 'fusiform': 2, 'ariway': 1, 'klmn': 1, 'cellut': 1, 'gapapentin': 1, 'hyptertens': 1, 'dieulafoy': 1, 'arrea': 1, 'envolv': 1, 'incostistantli': 1, 'cauter': 1, 'dipyridamol': 2, 'tetrofosmin': 1, 'tasp': 1, 'takutsubo': 1, 'flavum': 1, 'ligamentum': 1, 'wrosen': 1, 'hayfev': 1, 'steep': 1, 'orthastat': 1, 'rsvg': 1, 'analogu': 1, 'quantif': 1, 'autosct': 1, 'dalman': 1, 'anthracot': 1, 'flurazepam': 1, 'supradiaphragmat': 1, 'hashimoto': 1, 'dvtt': 1, 'omc': 1, 'thug': 1, 'pautosct': 1, 'poto': 1, 'edisyl': 1, 'unrecogn': 2, 'hemodyam': 1, 'thrombyocytopenia': 1, 'sctp': 1, 'sihgnific': 1, 'inspiss': 1, \"hodgkin'\": 1, 'mantl': 1, 'rtight': 1, 'staphylococcu': 1, 'enterobacteriacea': 1, 'intuab': 2, 'etest': 1, 'lobotomi': 1, 'throthi': 1, 'tigecyclin': 2, 'cvd': 1, 'carbapenemas': 1, 'carbapenas': 1, \"cva'\": 1, 'streptococci': 1, 'kleibsella': 2, 'insular': 1, 'sti': 1, 'ossicl': 1, 'cloget': 1, 'subaort': 1, 'inferoposterolater': 1, 'thoracoplasi': 1, 'suggetsin': 1, 'choana': 1, 'acom': 1, 'mde': 1, 'hemodyamn': 1, 'stenothrophomona': 1, 'chronicallyt': 1, 'aspergilloma': 1, 'blame': 1, 'recspleas': 1, 'tmpsmx': 1, 'nitrogen': 1, 'stenotrophomona': 1, 'linguist': 1, 'annn': 1, 'boewl': 1, 'acetylcystien': 1, 'cytospin': 1, 'ctapb': 1, 'metaboli': 1, 'nevirapin': 1, 'lopinavir': 1, 'knw': 1, 'anascarca': 1, 'mitochondri': 1, 'paracenthesi': 1, 'thjicken': 1, 'tatoo': 1, 'carnitin': 1, 'parascentesi': 1, 'kkxa': 1, 'sodabicarb': 1, 'bic': 1, 'drowsey': 1, 'tuirn': 1, 'conduc': 1, 'asciet': 1, 'intraadomin': 1, 'thymu': 1, 'ocp': 1, 'intrafissur': 1, 'noteworthi': 2, 'retenion': 1, 'cichect': 1, 'cantanes': 1, 'hbr': 1, 'sclear': 1, 'dextromethorphan': 2, 'antocoagul': 1, 'hypocontractil': 1, 'cozar': 1, 'dayquil': 1, 'cxed': 1, 'currenli': 1, 'driop': 1, 'fider': 1, 'coumdin': 1, 'roe': 1, 'peridont': 1, 'surroundiong': 1, 'meropenenm': 1, 'heoarin': 1, 'sucrulf': 1, 'beief': 1, 'adjus': 1, 'tge': 1, 'maxilo': 1, 'whim': 1, 'prostati': 1, 'likelyb': 1, 'periodont': 1, 'exculud': 1, 'contribtori': 1, 'lene': 1, 'patl': 1, 'cheng': 1, 'recombin': 1, 'signirficantli': 1, 'benaprotien': 1, 'paramt': 1, 'peridontatl': 1, 'gtt^': 1, 'axiallyacquir': 1, 'unconvinc': 1, 'secteion': 1, 'rhionch': 1, 'toot': 1, 'paremet': 1, 'dentistri': 1, 'throacic': 1, 'forsmal': 1, 'pbt': 1, 'sfyb': 1, 'suspict': 1, 'shft': 1, 'awaitte': 1, 'sunu': 1, 'opth': 1, 'accucheck': 2, 'exeryt': 1, 'underpneumat': 1, 'petrolatum': 1, 'counmadin': 1, 'predinison': 1, 'lossd': 1, 'coniz': 1, 'ondesetron': 1, 'fsh': 1, 'nunintent': 1, 'prolactin': 1, 'levealbutenol': 1, 'fibrmyalgia': 1, 'gasteoperesi': 1, 'gujarati': 1, 'methacryl': 1, 'isoenzym': 1, 'bebrid': 1, 'felxis': 1, 'fragili': 1, 'opact': 1, 'oxgen': 1, 'oxytoca': 1, 'pltclmp': 1, 'intraadbomin': 1, 'airwi': 1, 'excoriati': 1, 'hypochr': 1, 'macroci': 1, 'cement': 1, 'anisoci': 1, 'mresult': 1, 'beath': 1, 'exertionsbp': 1, 'lovemox': 1, 'likekli': 1, 'enarterctomi': 1, 'ezetimib': 1, 'wbxrt': 1, 'ischiorect': 1, 'challebg': 1, 'che': 1, 'nasuea': 1, 'afiib': 1, 'appoprio': 1, 'hmed': 1, 'afteroon': 1, 'castgr': 1, 'avert': 1, 'levitiracetam': 1, 'tufe': 1, 'dopler': 1, 'kpo': 1, 'preripher': 1, 'reanl': 1, 'eosinphil': 1, 'aranesp': 1, 'afar': 1, 'vassopress': 1, 'strongyloid': 1, 'vasopress': 1, 'paracardi': 1, 'counterproduct': 1, 'apg': 1, 'forego': 1, 'antral': 1, 'cretainin': 1, 'nerphrot': 1, 'nephrit': 1, 'scarbosa': 1, 'cartid': 1, 'catert': 1, 'plesaent': 1, 'thoarcentesi': 1, 'lens': 1, 'seqeuala': 1, 'inhibitori': 1, 'forarm': 1, 'cephalexinunknown': 1, 'prokaryot': 1, 'transan': 1, 'avn': 2, 'purpura': 1, 'corus': 1, 'tygecyclin': 1, 'vancomycindiarrhea': 1, 'synthesi': 1, 'piccin': 1, 'swith': 1, 'dyeiodin': 1, 'endotoxin': 1, 'earlob': 1, 'precautionst': 1, 'adequaut': 1, 'tand': 1, 'vasoopressor': 1, 'sensitiviti': 1, 'actin': 2, 'neropenum': 1, 'vasodilit': 1, 'telphon': 1, 'saber': 1, 'lipopolysaccharid': 1, 'eratosi': 1, 'flutison': 1, 'senil': 1, 'systolo': 1, 'guiaac': 1, 'evidenv': 1, 'ontiotropium': 1, 'insta': 1, 'suggesst': 1, 'lampectomi': 1, 'begain': 1, 'preoccup': 1, 'elevat': 1, 'hypothairoid': 1, 'upload': 1, 'herpez': 1, 'hypothes': 1, \"'overdos\": 1, 'techinc': 1, 'neosyneph': 1, 'cheyennn': 1, 'skeletel': 1, 'heroic': 1, 'recomp': 1, 'pules': 1, 'rqmnt': 1, 'venitlatori': 1, 'recompt': 1, 'duoerm': 1, 'fentanli': 1, 'fibersoourc': 1, 'cleanout': 1, 'scopolomin': 1, 'honeymoon': 1, 'nimenda': 1, 'tbd': 1, 'demonstart': 1, 'symptomatolog': 1, 'outing': 1, 'innumber': 1, 'slowl': 1, 'chron': 2, 'esophagel': 1, 'segmetn': 1, 'thear': 1, 'exagerr': 1, 'evh': 1, 'recuss': 1, 'marit': 1, 'cod': 1, '^pvc': 1, 'ccath': 1, 'thombosi': 1, 'dacron': 1, 'oozi': 1, 'polar': 1, 'paient': 1, 'valvuloplasti': 1, 'swann': 1, 'replaced': 1, 'guaifenasin': 1, 'cuplet': 1, 'thearapeut': 1, 'dipropion': 1, 'pulsati': 1, 'firefight': 1, 'plasti': 1, 'contracta': 1, 'llr': 1, 'beclomethason': 1, 'carotidendarterectomi': 1, 'advir': 2, 'detali': 1, 'rumbl': 1, 'rgurgit': 1, 'duresi': 1, 'neostigmin': 1, 'claudic': 2, '^pa': 1, 'carvedi': 1, 'multiplan': 1, 'ongong': 1, 'proton': 1, 'perfect': 1, 'hajdu': 1, 'cartridg': 1, 'pdf': 1, 'kyphoscoloiosi': 1, 'supracondylar': 1, 'grascil': 1, 'consitist': 1, 'ealuat': 1, 'psueudomona': 1, 'presentdu': 1, 'blockshortli': 1, 'nnon': 1, 'abhorr': 1, 'miltifacori': 1, 'neurmuscular': 1, 'caleld': 1, 'upj': 1, 'cogwheel': 1, 'senstit': 1, 'nonurg': 2, 'nightim': 1, 'hebreb': 2, 'judgment': 1, \"peg'\": 1, 'pylenephr': 1, 'txfer': 1, 'pantoiprazol': 1, 'tather': 1, 'eupnic': 1, 'roght': 1, 'thck': 1, 'aftermn': 1, 'inbteween': 1, 'moonitor': 1, 'ebsl': 1, 'pseuomona': 1, 'prmari': 1, 'hoverjack': 1, 'san': 1, 'dysfx': 1, 'levothyrox': 1, 'isp': 1, 'onccur': 1, 'lk': 1, 'acidifi': 1, 'xcc': 1, 'cpqp': 1, 'ascept': 1, 'interventionl': 1, 'psuedamona': 1, 'sreen': 1, 'infranod': 1, 'resectionand': 1, 'pseudoon': 1, 'bradyarrhythmia': 1, 'thromboemboli': 1, 'gsurg': 1, 'attampt': 1, 'airpal': 1, 'hovermatt': 1, 'peniciliin': 1, 'traheotomi': 1, 'hemidiaghragm': 1, 'msec': 1, 'provok': 1, 'aberrantli': 1, 'calic': 1, 'pyramid': 1, 'nephrosi': 1, \"still'\": 1, 'follect': 1, 'subment': 1, 'diaghram': 1, 'slippag': 1, 'bronchiectai': 1, 'mycon': 1, 'receivingiv': 1, 'trifluor': 1, 'montgumeri': 1, 'trachealbronchomalacia': 1, 'attrov': 1, 'meropemem': 1, 'venolfax': 1, 'scr': 1, 'atrorv': 1, 'azithromcyin': 1, 'videostriposcopi': 1, 'glotti': 1, 'guaifensin': 1, 'mainstay': 1, 'omeprozol': 1, 'vcd': 1, 'omep': 1, 'stroboscopi': 1, 'methacholin': 1, 'eavluat': 1, 'hypernatremiawith': 1, 'unbchang': 1, 'slig': 1, 'pexi': 1, 'chokehold': 1, 'aspiri': 1, 'infet': 1, 'saf': 1, 'depres': 1, 'swim': 1, 'career': 1, 'llow': 1, 'hypoplasia': 1, 'periphr': 1, 'presentw': 1, 'shx': 1, 'palin': 1, 'tenosi': 1, 'catter': 1, 'amtter': 1, 'imppress': 1, 'slg': 1, 'positiona': 1, 'physicianclip': 1, 'demeylin': 1, 'antur': 1, 'hecerebr': 1, 'femora': 1, 'hydrothrorax': 1, 'bronchspasm': 1, 'anco': 1, 'dao': 1, 'resolvi': 1, 'squirmi': 1, 'failiur': 1, 'attd': 1, 'decreeas': 1, 'evant': 1, 'cultprit': 1, 'nameda': 1, 'niacin': 1, 'cehst': 1, 'kayexil': 1, 'keratos': 1, 'exacurb': 1, 'vitreou': 1, 'handwritten': 1, 'tamoxifen': 1, 'arousib': 1, 'nitrglycerin': 1, 'fornic': 1, 'achalsia': 1, 'botox': 1, 'conrol': 1, 'lunvch': 1, 'rehba': 1, 'produt': 1, 'achalasia': 1, 'orpharyng': 1, 'shelf': 1, 'rln': 1, 'overlod': 1, 'agt': 1, 'prespil': 1, 'acinar': 1, 'sublobar': 1, 'mandira': 1, 'virtu': 1, 'meadiastinoscopi': 1, 'aereat': 1, 'embarrass': 1, 'erythroderm': 1, 'mycosi': 1, 'rxra': 1, 'fungoid': 1, 'neurologici': 1, 'ctcl': 1, 'angioedem': 1, 'pneumocephalu': 1, 'osteoarthtr': 1, 'neurocheck': 1, 'angioinvas': 1, 'pcabgx': 1, 'withcvl': 1, 'trochanter': 1, 'perivarcular': 1, 'enchanc': 1, 'laparascop': 1, 'superifci': 1, 'etz': 1, 'seroma': 1, 'pulldown': 1, 'interlock': 1, 'muli': 1, 'antierior': 1, 'intraperitonea': 1, 'chonz': 1, 'cavieti': 1, 'disarray': 1, 'gwilliam': 1, 'chornz': 1, 'sarum': 1, 'tailur': 1, 'fiberspourc': 1, 'latherg': 1, 'spigelian': 1, 'extrus': 1, 'underdistens': 1, 'aponeurosi': 1, 'eed': 1, 'hypercholestremia': 1, 'colposcopi': 1, 'accomani': 1, 'somonol': 1, 'garden': 1, 'anaphlyaxi': 1, 'transuc': 1, 'extubu': 1, \"lemiere'\": 1, 'epidu': 1, 'colpo': 1, 'anarob': 1, 'headacn': 1, 'gad': 1, 'transduct': 1, 'mucro': 1, 'thankyou': 1, 'cofluent': 1, 'mexican': 1, 'excus': 1, 'reportsh': 1, 'immunofluoresc': 1, 'osaltamivir': 1, 'substranti': 1, 'encouagr': 1, 'multiofoc': 1, 'apperenli': 1, 'nasti': 1, 'nasatrach': 1, 'aphonia': 1, 'infer': 1, 'qshift': 1, 'discon': 1, 'ronchrou': 1, 'fluctauat': 1, 'reddent': 1, 'repetet': 1, 'hmm': 1, 'monitort': 1, 'pateitn': 1, 'berath': 1, 'flagylcefipim': 1, 'couh': 1, 'flucauat': 1}}\n"
     ]
    }
   ],
   "source": [
    "print(note_appearance_counter)"
   ]
  },
  {
   "cell_type": "code",
   "execution_count": null,
   "metadata": {},
   "outputs": [],
   "source": []
  },
  {
   "cell_type": "code",
   "execution_count": null,
   "metadata": {},
   "outputs": [],
   "source": []
  },
  {
   "cell_type": "code",
   "execution_count": 54,
   "metadata": {},
   "outputs": [],
   "source": [
    "# # get hyper-paramters n_fold and threshold from user input\n",
    "n_fold = float(1)\n",
    "threshold = float(0.01)\n",
    "\n",
    "frequent_word_lists = {}\n",
    "factor = {}"
   ]
  },
  {
   "cell_type": "code",
   "execution_count": 55,
   "metadata": {},
   "outputs": [
    {
     "name": "stdout",
     "output_type": "stream",
     "text": [
      "pneumonia_dead has 11678 unique words!\n",
      "pneumonia_alive has 22572 unique words!\n",
      "finished making frequent words list for pneumonia_alive\n"
     ]
    }
   ],
   "source": [
    "\"\"\"function description:\n",
    "for each disease in note_appearance_counter\n",
    "    1. checks whether a word in disease file is frequent(frequency standard as defined by factor, n_fold, and threshold)\n",
    "    2. adds to frequent_word_list\n",
    "\"\"\"\n",
    "\n",
    "# def find_frequent_word(note_appearance_counter, frequent_word_lists, number_of_notes, factor, n_fold, threshold):\n",
    "\n",
    "# calculate normalizing factor for each disease\n",
    "note_sum = 0\n",
    "\n",
    "# Count from two labels\n",
    "for disease in number_of_notes:\n",
    "    note_sum += float(number_of_notes[disease])\n",
    "    \n",
    "for disease in number_of_notes:\n",
    "    factor[disease] = number_of_notes[disease] / note_sum\n",
    "\n",
    "# determine frequent word for each disease file\n",
    "for disease in note_appearance_counter:\n",
    "    frequent_word_lists[disease] = []\n",
    "\n",
    "    print(disease + \" has \" + str(len(note_appearance_counter[disease])) + \" unique words!\")\n",
    "\n",
    "    for word in note_appearance_counter[disease]:\n",
    "        \n",
    "        freq_check = True\n",
    "        for check_disease in note_appearance_counter:\n",
    "            \n",
    "            if not disease == check_disease:\n",
    "                if word in note_appearance_counter[check_disease]:\n",
    "                    if not (note_appearance_counter[disease][word] / note_appearance_counter[check_disease][word] / factor[disease] * factor[check_disease] > n_fold \\\n",
    "                        and note_appearance_counter[disease][word] > (number_of_notes[disease] * threshold)):\n",
    "\n",
    "                        freq_check = False\n",
    "                        break\n",
    "\n",
    "                else:\n",
    "                    if not (note_appearance_counter[disease][word] > n_fold and note_appearance_counter[disease][word] > (number_of_notes[disease] * threshold)):\n",
    "                        freq_check = False\n",
    "                        break\n",
    "        if freq_check:\n",
    "            frequent_word_lists[disease].append((word))\n",
    "            # Create a tuple of word and its count\n",
    "#             frequent_word_lists[disease].append((word, note_appearance_counter[disease][word]))\n",
    "\n",
    "        \n",
    "\n",
    "print(\"finished making frequent words list for \" + disease)"
   ]
  },
  {
   "cell_type": "code",
   "execution_count": 56,
   "metadata": {
    "scrolled": true
   },
   "outputs": [
    {
     "name": "stdout",
     "output_type": "stream",
     "text": [
      "1419.0\n",
      "{'pneumonia_dead': 0.17758985200845667, 'pneumonia_alive': 0.8224101479915433}\n"
     ]
    }
   ],
   "source": [
    "print(note_sum)\n",
    "print(factor)\n",
    "\n",
    "# number of notes\n",
    "# 58029.0\n",
    "# {'pneumonia_dead': 0.2049837150390322, 'pneumonia_alive': 0.7950162849609678}"
   ]
  },
  {
   "cell_type": "code",
   "execution_count": 57,
   "metadata": {
    "scrolled": true
   },
   "outputs": [
    {
     "name": "stdout",
     "output_type": "stream",
     "text": [
      "3320\n",
      "2196\n"
     ]
    }
   ],
   "source": [
    "print(len(frequent_word_lists['pneumonia_dead']))\n",
    "print(len(frequent_word_lists['pneumonia_alive']))\n",
    "# -------- not usable ---------->\n",
    "# n_fold = float(3) threshold = float(0.01)\n",
    "# 454\n",
    "# 329\n",
    "\n",
    "# n_fold = float(2) threshold = float(0.01)\n",
    "# 914\n",
    "# 600\n",
    "# -------- not usable ----------<\n",
    "# n_fold = float(1) threshold = float(0.01)\n",
    "# 3320\n",
    "# 2196"
   ]
  },
  {
   "cell_type": "code",
   "execution_count": 49,
   "metadata": {
    "scrolled": true
   },
   "outputs": [
    {
     "name": "stdout",
     "output_type": "stream",
     "text": [
      "{'pneumonia_dead': ['methylpr', 'hypercapn', 'anion', 'refractori', 'law', 'licsw', 'resuscit', 'et', 'pea', 'sw', 'bicarbon', 'suffer', 'proxi', 'expir', 'autopeep', 'atropin', 'mosf', 'hypercapnia', 'exceed', 'clinician', 'acidem', 'park', 'clergi', 'elig', 'brother', 'norepinephrin', 'drip', 'mottl', 'undetect', 'dic', 'anur', 'acidosi', 'phenylephrin', 'funer', 'bicarb', 'azotemia', 'niec', 'unrespons', 'epinephrin', 'recruit', 'spoke', 'arrang', 'paralyt', 'friend', 'decid', 'husband', 'profound', 'hypothermia', 'cremat', 'gtt', 'pressor', 'vasopressin', 'cpr', 'shock', 'unsuccess', 'member', 'death', 'rij', 'ventil', 'privat', 'pcv', 'sick', 'epi', 'arrest', 'pinpoint', 'minimum', 'alo', 'sluggish', 'nonpurpos', 'dk', 'sxning', 'discourag', 'spite', 'stimul', 'scant', 'decis', 'hourli', 'expect', 'ooz', 'dark', 'cmo', 'grimac', 'morphin', 'nacl', 'dnr', 'overbreath', 'dni', 'lubric', 'respir', 'vpace', 'cmv', 'meet', 'duoderm', 'slough', 'hypoact', 'gum', 'virtual', 'rsc', 'exit', 'sed', 'ogt', 'oder', 'ge', 'float', 'gastric', 'ball', 'fundu', 'wish', 'mso', 'levoph', 'uncomfort', 'deminish', 'firm', 'clariti', 'institut', 'suport', 'prbc', 'titrat', 'unrestrain', 'dd', 'givn', 'concentr', 'grim', 'fi', 'uprbc', 'option', 'siderail', 'bow', 'stimuli', 'ivb', 'viabl', 'pronounc', '^^', 'focu', 'gather', 'noxiou', 'priest', 'antb', 'purpl', 'hypotent', 'respon', 'togeth', 'prognosi', 'remin', 'peerla', 'dead', 'withdraw', 'plateau', 'nasogastr', 'saturday', 'fb', 'synch', 'bye', 'mortem', 'aprv', 'asystol', 'acv', 'agreement', 'wrote', 'depth', 'letter', 'instabl', 'mad', 'life', 'dysynchroni', 'notifi', 'autoflow', 'grandson', 'centimet', 'lavag', 'pap', 'moment', 'spon', 'mainli', 'mcq', 'tenuou', 'chaplain', 'mgx', 'children', 'inflam', 'els', 'nrbm', 'cathol', 'psi', 'surviv', 'sync', 'peac', 'sister', 'tommorrow', 'qhr', 'gluc', 'moniotr', 'pn', 'pag', 'througout', 'duski', 'ppn', 'hover', 'quiac', 'extext', 'dced', 'amiodaron', 'seriou', 'focus', 'damp', 'oett', 'hemothorax', 'citrat', 'hydrocortison', 'pfr', 'crrt', 'readjust', 'acidot', 'moistur', 'vtach', 'corneal', 'belong', 'jerk', 'cvvh', 'adapt', 'deterior', 'cvvhd', 'deliv', 'weep', 'hemodialysi', 'pulseless', 'aquacel', 'cvvhdf', 'mortum', 'vasopressor', 'defibril', 'bigemini', 'sanguin', 'poe', 'surgigel', 'crit', 'suppport', 'rusti', 'agon', 'neosynephrin', 'fem', 'brownish', 'spend', 'serou', 'bilou', 'scl', 'grayish', 'bright', 'rewir', 'glu', 'cooler', 'sad', 'quinton', 'shut', 'ethic', 'unequ', 'pitressin', 'die', 'brb', 'among', 'gratitud', 'compromis', 'dtr', 'content', 'biliou', 'multisystem', 'elimin', 'tpn', 'hugger', 'pray', 'levof', 'hypotherm', 'mtg', 'declin', 'fear', 'ultrafiltr', 'dopp', 'cyanot', 'bair', 'nml', 'spiritu', 'gase', 'uffp', 'forehead', 'draing', 'irrig', 'cagluc', 'lc', 'towel', 'maroon', 'infrequ', 'ffp', 'lw', 'polymorph', 'advers', 'syring', 'motil', 'neo', 'greenish', 'stimulu', 'cope', 'circuit', 'upset', 'redraw', 'discoordin', \"tf'ing\", 'break', 'escal', 'ashen', 'stau', 'sml', 'eas', 'discard', 'erythro', 'antibodi', 'acknowledg', 'stem', 'ambu', 'warmer', 'appropriatli', 'hig', 'absorb', 'match', 'town', 'rabbi', 'paco', 'asynchron', 'reserv', 'coffe', 'douderm', 'pgt', 'norepi', 'promod', 'prayer', 'triadyn', 'autopsi', 'bairhugg', 'bank', 'item', 'drive', 'ileu', 'midodrin', 'zero', 'ran', 'nepro', 'endoc', 'lavarg', 'nahco', 'blanket', 'nss', 'bond', 'antidepress', 'morgu', 'li', 'chane', 'oncolog', 'nippv', 'exact', 'unstabl', 'unexplain', 'spread', 'gc', 'mind', 'edt', 'burst', 'rediscuss', '^rr', 'hunger', 'pericholecyst', 'decres', 'hung', 'dopamin', 'anaerob', 'polici', 'atn', 'hypoperfus', 'intiat', 'nondistend', 'qtt', 'impend', 'deceas', 'cantones', 'palli', 'scopolamin', 'moan', 'signfic', 'dad', 'mutipl', 'tacycard', 'supraventricular', 'overlay', 'readdress', 'fliud', 'acc', 'ozz', 'artifici', 'broader', 'recalibr', 'mumbl', 'underneath', 'ecchymosi', 'dobutamin', 'pgi', 'proph', 'cardiogen', 'rxn', 'judgement', 'junki', 'anuria', 'senior', 'inclus', 'thruout', 'gurgl', 'recogn', 'nephew', 'rca', 'tha', 'circul', 'partner', 'oncologist', 'doctor', 'reiter', 'platelet', 'platlet', 'rhonchoru', 'hospic', 'adenosin', 'cbi', 'dislodg', 'doboff', 'quadrent', 'granddaught', 'undergo', 'refe', 'gut', 'kerlix', 'oligur', 'pel', 'retap', 'gvhd', 'porta', 'folow', 'uremia', 'rifaximin', 'granulomat', 'nailb', 'hepatoren', 'core', 'dop', 'cecum', 'influenc', 'surgicel', 'griev', 'hepati', 'nephrolog', 'cellcept', 'weap', 'cardiovert', 'anyway', 'edamat', 'amio', 'pheresi', 'analyz', 'sorb', 'lij', 'psup', 'oximetri', 'chemic', 'pose', 'mvmt', 'thich', 'stretch', 'flexur', 'neruo', 'fentenyl', 'gastroesophag', 'snt', 'twitch', 'cisatracurium', 'hiccup', 'suddenli', 'ettub', 'novasourc', 'satisfactorili', 'latter', 'midazolam', 'lid', 'fc', 'adn', 'repsons', 'paralyz', 'grimmac', 'fungemia', 'wether', 'pneumomediastinum', 'caspofungin', 'pc', 'fungu', 'extremitiy', 'tenaci', 'barotrauma', 'atb', 'premed', 'nephrogram', 'nativ', 'lcw', 'liw', 'conc', 'confer', 'plat', 'hydrocort', 'megacolon', 'reoccur', 'tactil', 'crt', 'electr', 'individu', 'alkalot', 'clavicular', 'rescan', 'fentani', 'postpylor', 'houseoffic', 'sacrament', 'grave', 'mail', 'withdrawl', 'chb', 'nonreact', 'oppos', 'heroic', 'tachycardiac', 'linen', 'necessit', 'nonobstruct', 'awhil', 'revers', 'undisturb', 'slip', 'nonrebreath', 'perfor', 'aphas', 'occupi', 'pleuravac', 'massiv', 'unproduct', 'flail', 'trumpet', 'synchron', 'struggl', 'kayexel', 'ultra', 'reappear', 'propos', 'familt', 'nppv', 'narcan', 'palliat', 'hemolyt', 'noninvas', 'opinion', 'reveiw', 'icter', 'gentamycin', 'cousin', 'criticar', 'centrum', 'ganglia', 'resucit', 'urgent', 'drg', 'acidemia', 'captur', 'tubular', 'cov', 'feasibl', 'abruptli', 'cvo', 'thrombocytopenia', 'reguard', 'wma', 'inaccur', 'kit', 'amongst', 'fibrinogen', 'circumst', 'pplat', 'gear', 'reconsid', 'insult', 'deal', 'preoxygen', 'meaning', 'themselv', 'ogtub', 'ure', 'sooner', 'acd', 'midaz', 'ardsnet', 'maxim', 'pneumonectomi', 'undetermin', 'caretak', 'mainstem', 'pool', 'wednesday', 'kyphoscoliosi', 'increa', 'vasoconstrict', 'sibl', 'gasp', 'reluct', 'recev', 'hook', 'anatom', 'intrathorac', 'hida', 'realist', 'tran', 'colour', 'moreov', 'aricept', 'innumer', 'unreli', 'certainli', 'hemostat', 'vigil', 'pharmacolog', 'pvr', 'aliv', 'argatroban', 'buck', 'creep', 'irrevers', 'dissemin', 'pancultur', 'reaccumul', 'wil', 'neutra', 'derecruit', 'maint', 'attemtp', 'hole', 'assur', 'epsiod', 'advoc', 'holiday', 'abrupt', 'asytol', 'religi', 'eyelid', 'ration', 'increment', 'famil', 'respitori', 'myeloma', 'tanish', 'btw', 'analgesia', 'imbal', 'adam', 'declar', 'resu', 'cast', 'feurea', 'muddi', 'dorsal', 'neob', 'gutter', 'reticul', 'paracol', 'paraaort', 'vna', 'explor', 'moisten', 'od', 'dayshift', 'interest', 'diflucan', 'integu', 'orogastr', 'requr', 'pngt', 'heliox', 'futil', 'osteoblast', 'hyperparathyroid', 'illeu', 'emper', 'regurg', 'nerv', 'asciti', 'perisplen', 'leukemia', 'currentl', 'nimv', 'preliminarili', 'fli', 'plerual', 'rhochor', 'zoysn', 'flacid', 'esoph', 'dysynchron', 'prioriti', 'sluggishli', 'forth', 'clonu', 'unplan', 'gfr', 'binder', 'propafol', 'retri', 'lighten', 'occurr', 'boop', 'reticular', 'ipf', 'goodby', 'perf', 'revisit', 'ccn', 'pf', 'big', 'resit', 'hyperkalem', 'stg', 'notif', 'meatu', 'absorpt', 'levofloxin', 'gb', 'scopalamin', 'varic', 'unarous', 'tobra', 'vaso', 'underway', 'tmp', 'hemodynim', 'petechia', 'harm', 'rheumatoid', 'bless', 'love', 'rite', 'fentayl', 'smx', 'transud', 'doen', 'furhter', 'tympan', 'wise', 'supra', 'calvarium', 'chol', 'montitor', 'stack', 'fmaili', 'stoke', 'figur', 'underpenetr', 'pyuria', 'thrombot', 'ggt', 'vivonex', 'suppli', 'massag', 'ecoli', 'hypertroph', 'lordot', 'duplic', 'comprehend', 'outer', 'fragment', 'mrcp', 'disp', 'formul', 'disynchron', 'contini', 'synchroni', 'methylprednisolon', 'treatement', 'donat', 'outcom', 'gastroccult', 'counsel', 'vecuronium', 'news', 'abt', 'hepar', 'amioderon', 'regist', 'kink', 'mvo', 'led', 'pastor', 'unobtain', 'anasarc', 'chlorothiazid', 'essent', 'diuril', 'highest', 'gaol', 'extrins', 'currenlti', 'thrive', 'prvc', 'predict', 'aglc', 'gpr', 'overwhelm', 'normotherm', 'fresh', 'opportun', 'babinski', 'exagger', 'concer', 'synthet', 'esld', 'prime', 'assay', 'lipid', 'mycolyt', 'multiorgan', 'strain', 'quinolon', 'trabecul', 'nasopharyng', 'nitric', 'chlorhex', 'vasopress', 'napo', 'tachpnea', 'dex', 'medex', 'medicaid', 'remeron', 'medicar', 'pauciti', 'chnage', 'preload', 'relationship', 'imp', 'raglan', 'director', 'hypercapnea', 'inde', 'ceas', 'meropenam', 'myopathi', 'grd', 'confid', 'hydro', 'slim', 'untreat', 'fdp', 'abnl', 'transmit', 'schistocyt', 'pupillari', 'assymetr', 'recvd', 'mismatch', 'assembl', 'inhibit', 'unanim', 'impli', 'turgor', 'lusb', 'outlook', 'ugib', 'learn', 'phtn', 'lymphangit', 'dxae', 'repons', 'pancytopenia', 'unalt', 'lcsw', 'breathless', 'friction', 'goc', 'esophagogastr', 'proport', 'burden', 'unrel', 'albeit', 'transmiss', 'agonist', 'permiss', 'foll', 'obstip', 'svv', 'dyssynchron', 'preform', 'vigileo', 'heprin', 'dietet', 'jrci', 'octreotid', 'unilater', 'hemithorac', 'hepatobiliari', 'hyperecho', 'desynchron', 'inspit', 'natg', 'mjmgb', 'micron', 'driven', 'avm', 'intersiti'], 'pneumonia_alive': ['commod', 'fals', 'cooper', 'futher', 'excurs', 'chair', 'reconstruct', 'boost', 'tendon', 'ox', 'asymptomat', 'gait', 'ambien', 'appetit', 'drink', 'circumferenti', 'hiv', 'unsteadi', 'ambul', 'pleasant', 'oob', 'ate', 'clindamycin', 'biventricular', 'mat', 'trivial', 'chamber', 'splint', 'al', 'spit', 'puff', 'pill', 'static', 'ot', 'laminectomi', 'rm', 'spong', 'statlock', 'trazadon', 'awok', 'supervis', 'wear', 'modifi', 'apap', 'bell', 'facil', 'fluor', 'asleep', 'motrin', \"pt'\", 'thk', 'complain', 'portex', 'placment', 'lift', 'basil', 'collar', 'intent', 'qs', 'nice', 'rail', 'hygien', 'aox', 'breakfast', 'lpm', 'lat', 'quantiti', 'enc', 'regardless', 'lock', 'db', 'thirsti', 'fax', 'forget', 'tranfer', 'nonlabor', 'inf', 'sleepi', 'venti', 'amnt', 'whitish', 'laryng', 'csf', 'ice', 'calmer', 'idea', 'cn', 'coop', 'ionic', 'cup', 'mobil', 'msicu', 'walk', 'exert', 'clonazepam', 'roll', 'chip', 'foci', 'hyperintens', 'transmitr', 'lisinopril', 'mentat', 'shot', 'healthi', 'spur', 'passiv', 'guaiac', 'expector', 'benadryl', 'dermat', 'tini', 'treitz', \"sxn'ing\", 'teach', 'ethmoid', 'valium', 'cardiomediastinum', 'peribronchi', 'gastrojejunostomi', 'vagu', 'subtl', 'qtc', 'percutan', 'vasculatur', 'itchi', 'consciou', 'jejunum', 'destruct', 'outpt', 'cs', 'deploy', 'metal', 'plate', 'iron', 'unasyn', 'qh', 'dz', 'cash', 'cloth', 'erythema', 'jewelri', 'signatur', 'valuabl', 'credit', 'wallet', 'temperatur', 'diabet', 'money', 'distort', 'behavior', 'pharyng', 'hs', 'pleasantli', 'diuret', 'redirect', 'bedpan', 'syst', 'plavix', 'droplet', 'ntg', 'zyprexa', 'uncoop', 'effac', 'bacteria', 'shin', 'cellul', 'hilum', 'thirst', 'wane', 'miss', 'bipolar', 'univers', 'schizophrenia', 'walker', 'unenhanc', 'bronchovascular', 'infraren', 'align', 'arthrit', 'incision', 'rehabilit', 'pericard', 'etoh', 'remot', 'stood', 'gown', 'quietli', 'smoke', 'standbi', 'rememb', 'xl', 'fu', 'lotion', '$', 'disc', 'zantac', 'muir', 'motor', 'op', 'grasp', 'cognit', 'simvastatin', 'strengthen', 'folat', 'macu', 'rpe', 'scab', 'clarif', 'lax', 'passey', 'delerium', 'cg', 'knowledg', 'deflat', 'contractur', 'diaper', 'skill', 'trimethoprim', 'osm', 'mellitu', 'locomot', 'vocal', 'fast', '^th', 'aerob', 'rpr', 'occipit', 'uncompl', 'probe', 'stair', 'infxn', 'bottl', 'compani', 'passi', 'sulfamethoxazol', 'distanc', 'sensori', 'educ', 'reappli', 'asses', 'fee', 'thiamin', 'icd', 'weekli', 'flight', 'mrg', 'ntnd', 'wore', 'hctz', 'decondit', 'hygein', 'knee', 'olanzapin', 'unassist', 'hypoglycemia', 'subdur', 'dilut', 'five', 'scar', 'fwb', 'zoloft', 'ud', 'vp', 'iddm', 'dssg', 'women', 'viscou', 'ligament', 'captopril', 'signal', 'im', 'osa', 'tea', 'osteomyel', 'pneumococc', 'plain', 'gadolinium', 'magnevist', 'neutral', 'exophyt', 'smooth', 'dentur', 'ach', 'forc', 'trazodon', 'historian', 'bedtim', 'prec', 'appi', 'oxycodon', 'power', 'phlegm', 'incent', 'spiromet', 'applesauc', 'bifurc', 'bmx', 'postop', 'penetr', 'oversed', 'gallop', 'hurt', 'lunch', 'seroquel', 'nectar', 'sensat', 'nocturn', 'barium', 'video', 'slp', 'autoset', 'tracheomalacia', 'dysphagia', 'burn', 'eomi', 'ofm', 'robitussin', 'organomegali', 'gotten', 'vicodin', 'woke', 'spacer', 'asthma', 'hcfa', 'hrli', 'malais', 'pleurit', 'sweat', 'knew', 'accentu', 'chill', 'dome', 'centrilobular', 'psych', 'amb', 'beeper', 'standpoint', 'interlobular', 'intrahepat', 'calculi', 'sarna', 'pivot', 'lightheaded', 'yel', 'bsx', 'dizzi', 'mildi', 'xanax', 'cefapim', 'tartrat', 'readmit', 'endur', 'simpli', 'suspens', 'eob', 'dyslipidemia', 'bromid', 'vd', 'heat', 'performac', 'wfl', 'ipratropium', 'ncm', 'rins', 'moda', 'bsn', 'ttp', 'lob', 'ctx', 'cholecystectomi', 'hydralizin', 'harsh', 'angri', 'lap', 'smoker', 'neoplast', 'west', 'waist', 'paperwork', 'hallucin', 'morbid', 'omeprazol', 'pda', 'metoclopramid', 'crowd', 'ppd', 'angina', 'anterolater', 'lad', 'hemiparesi', 'siadh', 'perpher', 'diaphoresi', 'clonidin', 'spfc', 'sundown', 'defici', 'rsrc', 'rigor', 'freeli', 'hsq', 'solut', 'haloperidol', 'ferritin', 'reclin', 'fluticason', 'pneumothorac', 'silent', 'onlin', 'cramp', 'palpit', 'precordium', 'divis', 'spiriva', 'advair', 'polyethylen', 'gabapentin', 'ultram', 'deflect', 'epiglott', 'para', 'echotextur', 'cbd', 'aaox', 'ciwa', 'tie', 'book', 'epigastr', 'neurontin', 'nephrectomi', 'collater', 'empyema', 'older', 'mood', 'habitu', 'celexa', 'qam', 'method', 'articul', 'mandibl', 'spirit', 'anesthet', 'panic', 'drng', 'bronchi', 'eros', 'vallecula', 'homogen', 'circumscrib', 'pathologist', 'vertebra', 'lac', 'tt', 'steadi', 'subcost', 'parastern', 'ccc', 'svn', 'adat', 'young', 'microorgan', 'epidur', 'tortuos', 'hemispher', 'yankuer', 'label', 'amplitud', 'spectral', 'similarli', 'phasic', 'cord', 'rhinorrhea', 'palat', 'droop', 'unavail', 'fatti', 'deminer', 'eg', 'dental', 'skeleton', 'uptak', 'serolog', 'opiat', 'hive', 'klonopin', 'femur', 'mucinex', 'buccal', 'pca', 'smile', 'mastic', 'spill', 'colectomi', 'dietari', 'crack', 'tdi', 'sulfonamid', 'salmeterol', 'akinesi', 'tamiflu', 'akinet', 'stitch', 'ferrou', 'cracker', 'ggo', 'cheek', 'suprapub', 'hhn', 'subq', 'tiotropium', 'echocardiogram', 'usg', 'cdb', 'afraid', 'seat', 'uri', 'kitchen', 'glycopyrrol', 'ivdu', 'angiogram', 'contd', 'syncop', 'carvedilol', 'antiobiot', 'dra', 'angioplasti', 'chosen', 'xopenex', 'nicotin', 'cooki', 'cocain', 'diazepam', 'span', 'videofluoroscopi', 'nitroglycerin', 'propuls', 'piriform', 'xii', 'huddl', 'tcdb', 'soln', 'fluent', 'hoars', 'polymorphonuclear', 'foi', 'ih', 'leukocyt', 'labial', 'protrud', 'tia', 'diamox', 'slice', 'greatest', 'prilosec', 'colonoscopi', 'urgenc', 'unfold', 'frail', 'constrict', 'lingular', 'overdos', 'coarctat', 'pred', 'aquir', 'shorter', 'pallor', 'endplat', 'herp', 'pod', 'ruptur', 'td', 'gastriti', 'lltc', 'neural', 'coach', 'tremul', 'flake', 'adenocarcinoma', 'banana', 'radiodens', 'thoracocentesi', 'bill', 'mva', 'hemangioma', 'anaphylaxi', 'hydromorphon', 'nifedipin', 'heav', 'ba', 'df', 'strictur', 'anterolisthesi', 'sdh', 'patientno', 'retic', 'romi', 'acetazolamid', 'atraumat', 'thyromegali', 'peribronchovascular']}\n"
     ]
    }
   ],
   "source": [
    "print(frequent_word_lists)"
   ]
  },
  {
   "cell_type": "markdown",
   "metadata": {},
   "source": [
    "### 2. Co-occurrence generation\n",
    "FP-growth"
   ]
  },
  {
   "cell_type": "code",
   "execution_count": 50,
   "metadata": {},
   "outputs": [],
   "source": [
    "FREQUENT_WORD_LIST = frequent_word_lists['pneumonia_dead'] + frequent_word_lists['pneumonia_alive']"
   ]
  },
  {
   "cell_type": "code",
   "execution_count": 51,
   "metadata": {
    "scrolled": true
   },
   "outputs": [
    {
     "name": "stdout",
     "output_type": "stream",
     "text": [
      "\n",
      "word dictionary created!\n",
      "\n",
      "{'methylpr': 1, 'hypercapn': 2, 'anion': 3, 'refractori': 4, 'law': 5, 'licsw': 6, 'resuscit': 7, 'et': 8, 'pea': 9, 'sw': 10, 'bicarbon': 11, 'suffer': 12, 'proxi': 13, 'expir': 14, 'autopeep': 15, 'atropin': 16, 'mosf': 17, 'hypercapnia': 18, 'exceed': 19, 'clinician': 20, 'acidem': 21, 'park': 22, 'clergi': 23, 'elig': 24, 'brother': 25, 'norepinephrin': 26, 'drip': 27, 'mottl': 28, 'undetect': 29, 'dic': 30, 'anur': 31, 'acidosi': 32, 'phenylephrin': 33, 'funer': 34, 'bicarb': 35, 'azotemia': 36, 'niec': 37, 'unrespon': 38, 'epinephrin': 39, 'recruit': 40, 'spoke': 41, 'arrang': 42, 'paralyt': 43, 'friend': 44, 'decid': 45, 'husband': 46, 'profound': 47, 'hypothermia': 48, 'cremat': 49, 'gtt': 50, 'pressor': 51, 'vasopressin': 52, 'cpr': 53, 'shock': 54, 'unsuccess': 55, 'member': 56, 'death': 57, 'rij': 58, 'ventil': 59, 'privat': 60, 'pcv': 61, 'sick': 62, 'epi': 63, 'arrest': 64, 'pinpoint': 65, 'minimum': 66, 'alo': 67, 'sluggish': 68, 'nonpurpo': 69, 'dk': 70, 'sxning': 71, 'discourag': 72, 'spite': 73, 'stimul': 74, 'scant': 75, 'deci': 76, 'hourli': 77, 'expect': 78, 'ooz': 79, 'dark': 80, 'cmo': 81, 'grimac': 82, 'morphin': 83, 'nacl': 84, 'dnr': 85, 'overbreath': 86, 'dni': 87, 'lubric': 88, 'respir': 89, 'vpace': 90, 'cmv': 91, 'meet': 92, 'duoderm': 93, 'slough': 94, 'hypoact': 95, 'gum': 96, 'virtual': 97, 'rsc': 98, 'exit': 99, 'sed': 100, 'ogt': 101, 'oder': 102, 'ge': 103, 'float': 104, 'gastric': 105, 'ball': 106, 'fundu': 107, 'wish': 108, 'mso': 109, 'levoph': 110, 'uncomfort': 111, 'deminish': 112, 'firm': 113, 'clariti': 114, 'institut': 115, 'suport': 116, 'prbc': 117, 'titrat': 118, 'unrestrain': 119, 'dd': 120, 'givn': 121, 'concentr': 122, 'grim': 123, 'fi': 124, 'uprbc': 125, 'option': 126, 'siderail': 127, 'bow': 128, 'stimuli': 129, 'ivb': 130, 'viabl': 131, 'pronounc': 132, '^^': 133, 'focu': 204, 'gather': 135, 'noxiou': 136, 'priest': 137, 'antb': 138, 'purpl': 139, 'hypot': 140, 'respon': 141, 'togeth': 142, 'prognosi': 143, 'remin': 144, 'peerla': 145, 'dead': 146, 'withdraw': 147, 'plateau': 148, 'nasogastr': 149, 'saturday': 150, 'fb': 151, 'synch': 152, 'bye': 153, 'mortem': 154, 'aprv': 155, 'asystol': 156, 'acv': 157, 'agreement': 158, 'wrote': 159, 'depth': 160, 'letter': 161, 'instabl': 162, 'mad': 163, 'life': 164, 'dysynchroni': 165, 'notifi': 166, 'autoflow': 167, 'grandson': 168, 'centimet': 169, 'lavag': 170, 'pap': 171, 'moment': 172, 'spon': 173, 'mainli': 174, 'mcq': 175, 'tenuou': 176, 'chaplain': 177, 'mgx': 178, 'children': 179, 'inflam': 180, 'el': 181, 'nrbm': 182, 'cathol': 183, 'psi': 184, 'surviv': 185, 'sync': 186, 'peac': 187, 'sister': 188, 'tommorrow': 189, 'qhr': 190, 'gluc': 191, 'moniotr': 192, 'pn': 193, 'pag': 194, 'througout': 195, 'duski': 196, 'ppn': 197, 'hover': 198, 'quiac': 199, 'extext': 200, 'dced': 201, 'amiodaron': 202, 'seriou': 203, 'damp': 205, 'oett': 206, 'hemothorax': 207, 'citrat': 208, 'hydrocortison': 209, 'pfr': 210, 'crrt': 211, 'readjust': 212, 'acidot': 213, 'moistur': 214, 'vtach': 215, 'corneal': 216, 'belong': 217, 'jerk': 218, 'cvvh': 219, 'adapt': 220, 'deterior': 221, 'cvvhd': 222, 'deliv': 223, 'weep': 224, 'hemodialysi': 225, 'pulseless': 226, 'aquacel': 227, 'cvvhdf': 228, 'mortum': 229, 'vasopressor': 230, 'defibril': 231, 'bigemini': 232, 'sanguin': 233, 'poe': 234, 'surgigel': 235, 'crit': 236, 'suppport': 237, 'rusti': 238, 'agon': 239, 'neosynephrin': 240, 'fem': 241, 'brownish': 242, 'spend': 243, 'serou': 244, 'bilou': 245, 'scl': 246, 'grayish': 247, 'bright': 248, 'rewir': 249, 'glu': 250, 'cooler': 251, 'sad': 252, 'quinton': 253, 'shut': 254, 'ethic': 255, 'unequ': 256, 'pitressin': 257, 'die': 258, 'brb': 259, 'among': 260, 'gratitud': 261, 'compromi': 262, 'dtr': 263, 'content': 264, 'biliou': 265, 'multisystem': 266, 'elimin': 267, 'tpn': 268, 'hugger': 269, 'pray': 270, 'levof': 271, 'hypotherm': 272, 'mtg': 273, 'declin': 274, 'fear': 275, 'ultrafiltr': 276, 'dopp': 277, 'cyanot': 278, 'bair': 279, 'nml': 280, 'spiritu': 281, 'gase': 282, 'uffp': 283, 'forehead': 284, 'dra': 1439, 'irrig': 286, 'cagluc': 287, 'lc': 288, 'towel': 289, 'maroon': 290, 'infrequ': 291, 'ffp': 292, 'lw': 293, 'polymorph': 294, 'adver': 295, 'syre': 296, 'motil': 297, 'neo': 298, 'greenish': 299, 'stimulu': 300, 'cope': 301, 'circuit': 302, 'upset': 303, 'redraw': 304, 'discoordin': 305, \"tf'ing\": 306, 'break': 307, 'escal': 308, 'ashen': 309, 'stau': 310, 'sml': 311, 'ea': 312, 'discard': 313, 'erythro': 314, 'antibodi': 315, 'acknowledg': 316, 'stem': 317, 'ambu': 318, 'warmer': 319, 'appropriatli': 320, 'hig': 321, 'absorb': 322, 'match': 323, 'town': 324, 'rabbi': 325, 'paco': 326, 'asynchron': 327, 'reserv': 328, 'coff': 329, 'douderm': 330, 'pgt': 331, 'norepi': 332, 'promod': 333, 'prayer': 334, 'triadyn': 335, 'autopsi': 336, 'bairhugg': 337, 'bank': 338, 'item': 339, 'drive': 340, 'ileu': 341, 'midodrin': 342, 'zero': 343, 'ran': 344, 'nepro': 345, 'endoc': 346, 'lavarg': 347, 'nahco': 348, 'blanket': 349, 'nss': 350, 'bond': 351, 'antidepress': 352, 'morgu': 353, 'li': 354, 'chane': 355, 'oncolog': 356, 'nippv': 357, 'exact': 358, 'unstabl': 359, 'unexplain': 360, 'spread': 361, 'gc': 362, 'mind': 363, 'edt': 364, 'burst': 365, 'rediscuss': 366, '^rr': 367, 'hunger': 368, 'pericholecyst': 369, 'decr': 370, 'hung': 371, 'dopamin': 372, 'anaerob': 373, 'polici': 374, 'atn': 375, 'hypoperfu': 376, 'intiat': 377, 'nondistend': 378, 'qtt': 379, 'impend': 380, 'decea': 381, 'canton': 382, 'palli': 383, 'scopolamin': 384, 'moan': 385, 'signfic': 386, 'dad': 387, 'mutipl': 388, 'tacycard': 389, 'supraventricular': 390, 'overlay': 391, 'readdress': 392, 'fliud': 393, 'acc': 394, 'ozz': 395, 'artifici': 396, 'broader': 397, 'recalibr': 398, 'mumbl': 399, 'underneath': 400, 'ecchymosi': 401, 'dobutamin': 402, 'pgi': 403, 'proph': 404, 'cardiogen': 405, 'rxn': 406, 'judgement': 407, 'junki': 408, 'anuria': 409, 'senior': 410, 'inclu': 411, 'thruout': 412, 'gurgl': 413, 'recogn': 414, 'nephew': 415, 'rca': 416, 'tha': 417, 'circul': 418, 'partner': 419, 'oncologist': 420, 'doctor': 421, 'reiter': 422, 'platelet': 423, 'platlet': 424, 'rhonchoru': 425, 'hospic': 426, 'adenosin': 427, 'cbi': 428, 'dislodg': 429, 'doboff': 430, 'quadrent': 431, 'granddaught': 432, 'undergo': 433, 'refe': 434, 'gut': 435, 'kerlix': 436, 'oligur': 437, 'pel': 438, 'retap': 439, 'gvhd': 440, 'porta': 441, 'folow': 442, 'uremia': 443, 'rifaximin': 444, 'granulomat': 445, 'nailb': 446, 'hepatoren': 447, 'core': 448, 'dop': 449, 'cecum': 450, 'influenc': 451, 'surgicel': 452, 'griev': 453, 'hepati': 454, 'nephrolog': 455, 'cellcept': 456, 'weap': 457, 'cardiovert': 458, 'anyway': 459, 'edamat': 460, 'amio': 461, 'pheresi': 462, 'analyz': 463, 'sorb': 464, 'lij': 465, 'psup': 466, 'oximetri': 467, 'chemic': 468, 'pose': 469, 'mvmt': 470, 'thich': 471, 'stretch': 472, 'flexur': 473, 'neruo': 474, 'fentenyl': 475, 'gastroesophag': 476, 'snt': 477, 'twitch': 478, 'cisatracurium': 479, 'hiccup': 480, 'suddenli': 481, 'ettub': 482, 'novasourc': 483, 'satisfactorili': 484, 'latter': 485, 'midazolam': 486, 'lid': 487, 'fc': 488, 'adn': 489, 'repson': 490, 'paralyz': 491, 'grimmac': 492, 'fungemia': 493, 'wether': 494, 'pneumomediastinum': 495, 'caspofungin': 496, 'pc': 497, 'fungu': 498, 'extremitiy': 499, 'tenaci': 500, 'barotrauma': 501, 'atb': 502, 'preme': 503, 'nephrogram': 504, 'nativ': 505, 'lcw': 506, 'liw': 507, 'conc': 508, 'confer': 509, 'plat': 510, 'hydrocort': 511, 'megacolon': 512, 'reoccur': 513, 'tactil': 514, 'crt': 515, 'electr': 516, 'individu': 517, 'alkalot': 518, 'clavicular': 519, 'rescan': 520, 'fentani': 521, 'postpylor': 522, 'houseoff': 523, 'sacrament': 524, 'grave': 525, 'mail': 526, 'withdrawl': 527, 'chb': 528, 'nonreact': 529, 'oppo': 530, 'heroic': 531, 'tachycardiac': 532, 'linen': 533, 'necessit': 534, 'nonobstruct': 535, 'awhil': 536, 'rever': 537, 'undisturb': 538, 'slip': 539, 'nonrebreath': 540, 'perfor': 541, 'apha': 542, 'occupi': 543, 'pleuravac': 544, 'massiv': 545, 'unproduct': 546, 'flail': 547, 'trumpet': 548, 'synchron': 549, 'struggl': 550, 'kayexel': 551, 'ultra': 552, 'reappear': 553, 'propo': 554, 'familt': 555, 'nppv': 556, 'narcan': 557, 'palliat': 558, 'hemolyt': 559, 'noninva': 560, 'opinion': 561, 'reveiw': 562, 'icter': 563, 'gentamycin': 564, 'cousin': 565, 'criticar': 566, 'centrum': 567, 'ganglia': 568, 'resucit': 569, 'urgent': 570, 'drg': 571, 'acidemia': 572, 'captur': 573, 'tubular': 574, 'cov': 575, 'feasibl': 576, 'abruptli': 577, 'cvo': 578, 'thrombocytopenia': 579, 'reguard': 580, 'wma': 581, 'inaccur': 582, 'kit': 583, 'amongst': 584, 'fibrinogen': 585, 'circumst': 586, 'pplat': 587, 'gear': 588, 'reconsid': 589, 'insult': 590, 'deal': 591, 'preoxygen': 592, 'mean': 593, 'themselv': 594, 'ogtub': 595, 'ure': 596, 'sooner': 597, 'acd': 598, 'midaz': 599, 'ardsnet': 600, 'maxim': 601, 'pneumonectomi': 602, 'undetermin': 603, 'caretak': 604, 'mainstem': 605, 'pool': 606, 'wednesday': 607, 'kyphoscoliosi': 608, 'increa': 609, 'vasoconstrict': 610, 'sibl': 611, 'gasp': 612, 'reluct': 613, 'recev': 614, 'hook': 615, 'anatom': 616, 'intrathorac': 617, 'hida': 618, 'realist': 619, 'tran': 620, 'colour': 621, 'moreov': 622, 'aricept': 623, 'innum': 624, 'unr': 625, 'certainli': 626, 'hemostat': 627, 'vigil': 628, 'pharmacolog': 629, 'pvr': 630, 'aliv': 631, 'argatroban': 632, 'buck': 633, 'creep': 634, 'irrev': 635, 'dissemin': 636, 'pancultur': 637, 'reaccumul': 638, 'wil': 639, 'neutra': 640, 'derecruit': 641, 'maint': 642, 'attemtp': 643, 'hole': 644, 'assur': 645, 'epsiod': 646, 'advoc': 647, 'holiday': 648, 'abrupt': 649, 'asytol': 650, 'religi': 651, 'eyelid': 652, 'ration': 653, 'increment': 654, 'famil': 655, 'respitori': 656, 'myeloma': 657, 'tanish': 658, 'btw': 659, 'analgesia': 660, 'imbal': 661, 'adam': 662, 'declar': 663, 'resu': 664, 'cast': 665, 'feurea': 666, 'muddi': 667, 'dorsal': 668, 'neob': 669, 'gutter': 670, 'reticul': 671, 'paracol': 672, 'paraaort': 673, 'vna': 674, 'explor': 675, 'moisten': 676, 'od': 677, 'dayshift': 678, 'interest': 679, 'diflucan': 680, 'integu': 681, 'orogastr': 682, 'requr': 683, 'pngt': 684, 'heliox': 685, 'futil': 686, 'osteoblast': 687, 'hyperparathyroid': 688, 'illeu': 689, 'emper': 690, 'regurg': 691, 'nerv': 692, 'asciti': 693, 'perisplen': 694, 'leukemia': 695, 'currentl': 696, 'nimv': 697, 'preliminarili': 698, 'fli': 699, 'plerual': 700, 'rhochor': 701, 'zoysn': 702, 'flacid': 703, 'esoph': 704, 'dysynchron': 705, 'prioriti': 706, 'sluggishli': 707, 'forth': 708, 'clonu': 709, 'unplan': 710, 'gfr': 711, 'binder': 712, 'propafol': 713, 'retri': 714, 'lighten': 715, 'occurr': 716, 'boop': 717, 'reticular': 718, 'ipf': 719, 'goodbi': 720, 'perf': 721, 'revisit': 722, 'ccn': 723, 'pf': 724, 'big': 725, 'resit': 726, 'hyperkalem': 727, 'stg': 728, 'notif': 729, 'meatu': 730, 'absorpt': 731, 'levofloxin': 732, 'gb': 733, 'scopalamin': 734, 'varic': 735, 'unar': 736, 'tobra': 737, 'vaso': 738, 'underway': 739, 'tmp': 740, 'hemodynim': 741, 'petechia': 742, 'harm': 743, 'rheumatoid': 744, 'bless': 745, 'love': 746, 'rite': 747, 'fentayl': 748, 'smx': 749, 'transud': 750, 'doen': 751, 'furhter': 752, 'tympan': 753, 'wise': 754, 'supra': 755, 'calvarium': 756, 'chol': 757, 'montitor': 758, 'stack': 759, 'fmaili': 760, 'stoke': 761, 'figur': 762, 'underpenetr': 763, 'pyuria': 764, 'thrombot': 765, 'ggt': 766, 'vivonex': 767, 'suppli': 768, 'massag': 769, 'ecoli': 770, 'hypertroph': 771, 'lordot': 772, 'duplic': 773, 'comprehend': 774, 'outer': 775, 'fragment': 776, 'mrcp': 777, 'disp': 778, 'formul': 779, 'disynchron': 780, 'contini': 781, 'synchroni': 782, 'methylprednisolon': 783, 'treatement': 784, 'donat': 785, 'outcom': 786, 'gastroccult': 787, 'counsel': 788, 'vecuronium': 789, 'news': 790, 'abt': 791, 'hepar': 792, 'amioderon': 793, 'regist': 794, 'kink': 795, 'mvo': 796, 'led': 797, 'pastor': 798, 'unobtain': 799, 'anasarc': 800, 'chlorothiazid': 801, 'essent': 802, 'diuril': 803, 'highest': 804, 'gaol': 805, 'extrin': 806, 'currenlti': 807, 'thrive': 808, 'prvc': 809, 'predict': 810, 'aglc': 811, 'gpr': 812, 'overwhelm': 813, 'normotherm': 814, 'fresh': 815, 'opportun': 816, 'babinski': 817, 'exagg': 818, 'concer': 819, 'synthet': 820, 'esld': 821, 'prime': 822, 'assay': 823, 'lipid': 824, 'mycolyt': 825, 'multiorgan': 826, 'strain': 827, 'quinolon': 828, 'trabecul': 829, 'nasopharyng': 830, 'nitric': 831, 'chlorhex': 832, 'vasopress': 833, 'napo': 834, 'tachpnea': 835, 'dex': 836, 'medex': 837, 'medicaid': 838, 'remeron': 839, 'medicar': 840, 'pauciti': 841, 'chnage': 842, 'preload': 843, 'relationship': 844, 'imp': 845, 'raglan': 846, 'director': 847, 'hypercapnea': 848, 'ind': 849, 'cea': 850, 'meropenam': 851, 'myopathi': 852, 'grd': 853, 'confid': 854, 'hydro': 855, 'slim': 856, 'untreat': 857, 'fdp': 858, 'abnl': 859, 'transmit': 860, 'schistocyt': 861, 'pupillari': 862, 'assymetr': 863, 'recvd': 864, 'mismatch': 865, 'assembl': 866, 'inhibit': 867, 'unanim': 868, 'impli': 869, 'turgor': 870, 'lusb': 871, 'outlook': 872, 'ugib': 873, 'learn': 874, 'phtn': 875, 'lymphangit': 876, 'dxae': 877, 'repon': 878, 'pancytopenia': 879, 'unalt': 880, 'lcsw': 881, 'breathless': 882, 'friction': 883, 'goc': 884, 'esophagogastr': 885, 'proport': 886, 'burden': 887, 'unrel': 888, 'albeit': 889, 'transmiss': 890, 'agonist': 891, 'permiss': 892, 'foll': 893, 'obstip': 894, 'svv': 895, 'dyssynchron': 896, 'preform': 897, 'vigileo': 898, 'heprin': 899, 'dietet': 900, 'jrci': 901, 'octreotid': 902, 'unilat': 903, 'hemithorac': 904, 'hepatobiliari': 905, 'hyperecho': 906, 'desynchron': 907, 'inspit': 908, 'natg': 909, 'mjmgb': 910, 'micron': 911, 'driven': 912, 'avm': 913, 'inters': 914, 'commod': 915, 'fal': 916, 'cooper': 917, 'futher': 918, 'excur': 919, 'chair': 920, 'reconstruct': 921, 'boost': 922, 'tendon': 923, 'ox': 924, 'asymptomat': 925, 'gait': 926, 'ambien': 927, 'appetit': 928, 'drink': 929, 'circumferenti': 930, 'hiv': 931, 'unsteadi': 932, 'ambul': 933, 'pleasant': 934, 'oob': 935, 'ate': 936, 'clindamycin': 937, 'biventricular': 938, 'mat': 939, 'trivial': 940, 'chamber': 941, 'splint': 942, 'al': 943, 'spit': 944, 'puff': 945, 'pill': 946, 'static': 947, 'ot': 948, 'laminectomi': 949, 'rm': 950, 'spong': 951, 'statlock': 952, 'trazadon': 953, 'awok': 954, 'supervi': 955, 'wear': 956, 'modifi': 957, 'apap': 958, 'bell': 959, 'facil': 960, 'fluor': 961, 'asleep': 962, 'motrin': 963, \"pt'\": 964, 'thk': 965, 'complain': 966, 'portex': 967, 'placment': 968, 'lift': 969, 'basil': 970, 'collar': 971, 'intent': 972, 'qs': 973, 'nice': 974, 'rail': 975, 'hygien': 976, 'aox': 977, 'breakfast': 978, 'lpm': 979, 'lat': 980, 'quantiti': 981, 'enc': 982, 'regardless': 983, 'lock': 984, 'db': 985, 'thirsti': 986, 'fax': 987, 'forget': 988, 'tranfer': 989, 'nonlabor': 990, 'inf': 991, 'sleepi': 992, 'venti': 993, 'amnt': 994, 'whitish': 995, 'laryng': 996, 'csf': 997, 'ice': 998, 'calmer': 999, 'idea': 1000, 'cn': 1001, 'coop': 1002, 'ionic': 1003, 'cup': 1004, 'mobil': 1005, 'msicu': 1006, 'walk': 1007, 'exert': 1008, 'clonazepam': 1009, 'roll': 1010, 'chip': 1011, 'foci': 1012, 'hyperinten': 1013, 'transmitr': 1014, 'lisinopril': 1015, 'mentat': 1016, 'shot': 1017, 'healthi': 1018, 'spur': 1019, 'passiv': 1020, 'guaiac': 1021, 'expector': 1022, 'benadryl': 1023, 'dermat': 1024, 'tini': 1025, 'treitz': 1026, \"sxn'ing\": 1027, 'teach': 1028, 'ethmoid': 1029, 'valium': 1030, 'cardiomediastinum': 1031, 'peribronchi': 1032, 'gastrojejunostomi': 1033, 'vagu': 1034, 'subtl': 1035, 'qtc': 1036, 'percutan': 1037, 'vasculatur': 1038, 'itchi': 1039, 'consciou': 1040, 'jejunum': 1041, 'destruct': 1042, 'outpt': 1043, 'cs': 1044, 'deploy': 1045, 'metal': 1046, 'plate': 1047, 'iron': 1048, 'unasyn': 1049, 'qh': 1050, 'dz': 1051, 'cash': 1052, 'cloth': 1053, 'erythema': 1054, 'jewelri': 1055, 'signatur': 1056, 'valuabl': 1057, 'credit': 1058, 'wallet': 1059, 'temperatur': 1060, 'diabet': 1061, 'money': 1062, 'distort': 1063, 'behavior': 1064, 'pharyng': 1065, 'hs': 1066, 'pleasantli': 1067, 'diuret': 1068, 'redirect': 1069, 'bedpan': 1070, 'syst': 1071, 'plavix': 1072, 'droplet': 1073, 'ntg': 1074, 'zyprexa': 1075, 'uncoop': 1076, 'effac': 1077, 'bacteria': 1078, 'shin': 1079, 'cellul': 1080, 'hilum': 1081, 'thirst': 1082, 'wane': 1083, 'miss': 1084, 'bipolar': 1085, 'univ': 1086, 'schizophrenia': 1087, 'walker': 1088, 'unenhanc': 1089, 'bronchovascular': 1090, 'infraren': 1091, 'align': 1092, 'arthrit': 1093, 'incis': 1094, 'rehabilit': 1095, 'pericard': 1096, 'etoh': 1097, 'remot': 1098, 'stood': 1099, 'gown': 1100, 'quietli': 1101, 'smoke': 1102, 'standbi': 1103, 'rememb': 1104, 'xl': 1105, 'fu': 1106, 'lotion': 1107, '$': 1108, 'disc': 1109, 'zantac': 1110, 'muir': 1111, 'motor': 1112, 'op': 1113, 'grasp': 1114, 'cognit': 1115, 'simvastatin': 1116, 'strengthen': 1117, 'folat': 1118, 'macu': 1119, 'rpe': 1120, 'scab': 1121, 'clarif': 1122, 'lax': 1123, 'passey': 1124, 'delerium': 1125, 'cg': 1126, 'knowledg': 1127, 'deflat': 1128, 'contractur': 1129, 'diaper': 1130, 'skill': 1131, 'trimethoprim': 1132, 'osm': 1133, 'mellitu': 1134, 'locomot': 1135, 'vocal': 1136, 'fast': 1137, '^th': 1138, 'aerob': 1139, 'rpr': 1140, 'occipit': 1141, 'uncompl': 1142, 'probe': 1143, 'stair': 1144, 'infxn': 1145, 'bottl': 1146, 'compani': 1147, 'passi': 1148, 'sulfamethoxazol': 1149, 'distanc': 1150, 'sensori': 1151, 'educ': 1152, 'reappli': 1153, 'ass': 1154, 'fee': 1155, 'thiamin': 1156, 'icd': 1157, 'weekli': 1158, 'flight': 1159, 'mrg': 1160, 'ntnd': 1161, 'wore': 1162, 'hctz': 1163, 'decondit': 1164, 'hygein': 1165, 'knee': 1166, 'olanzapin': 1167, 'unassist': 1168, 'hypoglycemia': 1169, 'subdur': 1170, 'dilut': 1171, 'five': 1172, 'scar': 1173, 'fwb': 1174, 'zoloft': 1175, 'ud': 1176, 'vp': 1177, 'iddm': 1178, 'dssg': 1179, 'women': 1180, 'viscou': 1181, 'ligament': 1182, 'captopril': 1183, 'signal': 1184, 'im': 1185, 'osa': 1186, 'tea': 1187, 'osteomyel': 1188, 'pneumococc': 1189, 'plain': 1190, 'gadolinium': 1191, 'magnevist': 1192, 'neutral': 1193, 'exophyt': 1194, 'smooth': 1195, 'dentur': 1196, 'ach': 1197, 'forc': 1198, 'trazodon': 1199, 'historian': 1200, 'bedtim': 1201, 'prec': 1202, 'appi': 1203, 'oxycodon': 1204, 'power': 1205, 'phlegm': 1206, 'incent': 1207, 'spiromet': 1208, 'applesauc': 1209, 'bifurc': 1210, 'bmx': 1211, 'postop': 1212, 'penetr': 1213, 'overs': 1214, 'gallop': 1215, 'hurt': 1216, 'lunch': 1217, 'seroquel': 1218, 'nectar': 1219, 'sensat': 1220, 'nocturn': 1221, 'barium': 1222, 'video': 1223, 'slp': 1224, 'autoset': 1225, 'tracheomalacia': 1226, 'dysphagia': 1227, 'burn': 1228, 'eomi': 1229, 'ofm': 1230, 'robitussin': 1231, 'organomegali': 1232, 'gotten': 1233, 'vicodin': 1234, 'woke': 1235, 'spacer': 1236, 'asthma': 1237, 'hcfa': 1238, 'hrli': 1239, 'malai': 1240, 'pleurit': 1241, 'sweat': 1242, 'knew': 1243, 'accentu': 1244, 'chill': 1245, 'dome': 1246, 'centrilobular': 1247, 'psych': 1248, 'amb': 1249, 'beeper': 1250, 'standpoint': 1251, 'interlobular': 1252, 'intrahepat': 1253, 'calculi': 1254, 'sarna': 1255, 'pivot': 1256, 'lighthead': 1257, 'yel': 1258, 'bsx': 1259, 'dizzi': 1260, 'mildi': 1261, 'xanax': 1262, 'cefapim': 1263, 'tartrat': 1264, 'readmit': 1265, 'endur': 1266, 'simpli': 1267, 'suspen': 1268, 'eob': 1269, 'dyslipidemia': 1270, 'bromid': 1271, 'vd': 1272, 'heat': 1273, 'performac': 1274, 'wfl': 1275, 'ipratropium': 1276, 'ncm': 1277, 'rin': 1278, 'moda': 1279, 'bsn': 1280, 'ttp': 1281, 'lob': 1282, 'ctx': 1283, 'cholecystectomi': 1284, 'hydralizin': 1285, 'harsh': 1286, 'angri': 1287, 'lap': 1288, 'smoker': 1289, 'neoplast': 1290, 'west': 1291, 'waist': 1292, 'paperwork': 1293, 'hallucin': 1294, 'morbid': 1295, 'omeprazol': 1296, 'pda': 1297, 'metoclopramid': 1298, 'crowd': 1299, 'ppd': 1300, 'angina': 1301, 'anterolat': 1302, 'lad': 1303, 'hemiparesi': 1304, 'siadh': 1305, 'perpher': 1306, 'diaphoresi': 1307, 'clonidin': 1308, 'spfc': 1309, 'sundown': 1310, 'defici': 1311, 'rsrc': 1312, 'rigor': 1313, 'freeli': 1314, 'hsq': 1315, 'solut': 1316, 'haloperidol': 1317, 'ferritin': 1318, 'reclin': 1319, 'fluticason': 1320, 'pneumothorac': 1321, 'silent': 1322, 'onlin': 1323, 'cramp': 1324, 'palpit': 1325, 'precordium': 1326, 'divi': 1327, 'spiriva': 1328, 'advair': 1329, 'polyethylen': 1330, 'gabapentin': 1331, 'ultram': 1332, 'deflect': 1333, 'epiglott': 1334, 'para': 1335, 'echotextur': 1336, 'cbd': 1337, 'aaox': 1338, 'ciwa': 1339, 'tie': 1340, 'book': 1341, 'epigastr': 1342, 'neurontin': 1343, 'nephrectomi': 1344, 'collat': 1345, 'empyema': 1346, 'older': 1347, 'mood': 1348, 'habitu': 1349, 'celexa': 1350, 'qam': 1351, 'method': 1352, 'articul': 1353, 'mandibl': 1354, 'spirit': 1355, 'anesthet': 1356, 'panic': 1357, 'drng': 1358, 'bronchi': 1359, 'ero': 1360, 'vallecula': 1361, 'homogen': 1362, 'circumscrib': 1363, 'pathologist': 1364, 'vertebra': 1365, 'lac': 1366, 'tt': 1367, 'steadi': 1368, 'subcost': 1369, 'parastern': 1370, 'ccc': 1371, 'svn': 1372, 'adat': 1373, 'young': 1374, 'microorgan': 1375, 'epidur': 1376, 'tortuo': 1377, 'hemisph': 1378, 'yankuer': 1379, 'label': 1380, 'amplitud': 1381, 'spectral': 1382, 'similarli': 1383, 'phasic': 1384, 'cord': 1385, 'rhinorrhea': 1386, 'palat': 1387, 'droop': 1388, 'unavail': 1389, 'fatti': 1390, 'demin': 1391, 'eg': 1392, 'dental': 1393, 'skeleton': 1394, 'uptak': 1395, 'serolog': 1396, 'opiat': 1397, 'hive': 1398, 'klonopin': 1399, 'femur': 1400, 'mucinex': 1401, 'buccal': 1402, 'pca': 1403, 'smile': 1404, 'mastic': 1405, 'spill': 1406, 'colectomi': 1407, 'dietari': 1408, 'crack': 1409, 'tdi': 1410, 'sulfonamid': 1411, 'salmeterol': 1412, 'akinesi': 1413, 'tamiflu': 1414, 'akinet': 1415, 'stitch': 1416, 'ferrou': 1417, 'cracker': 1418, 'ggo': 1419, 'cheek': 1420, 'suprapub': 1421, 'hhn': 1422, 'subq': 1423, 'tiotropium': 1424, 'echocardiogram': 1425, 'usg': 1426, 'cdb': 1427, 'afraid': 1428, 'seat': 1429, 'uri': 1430, 'kitchen': 1431, 'glycopyrrol': 1432, 'ivdu': 1433, 'angiogram': 1434, 'contd': 1435, 'syncop': 1436, 'carvedilol': 1437, 'antiobiot': 1438, 'angioplasti': 1440, 'chosen': 1441, 'xopenex': 1442, 'nicotin': 1443, 'cooki': 1444, 'cocain': 1445, 'diazepam': 1446, 'span': 1447, 'videofluoroscopi': 1448, 'nitroglycerin': 1449, 'propul': 1450, 'piriform': 1451, 'xii': 1452, 'huddl': 1453, 'tcdb': 1454, 'soln': 1455, 'fluent': 1456, 'hoar': 1457, 'polymorphonuclear': 1458, 'foi': 1459, 'ih': 1460, 'leukocyt': 1461, 'labial': 1462, 'protrud': 1463, 'tia': 1464, 'diamox': 1465, 'slice': 1466, 'greatest': 1467, 'prilosec': 1468, 'colonoscopi': 1469, 'urgenc': 1470, 'unfold': 1471, 'frail': 1472, 'constrict': 1473, 'lingular': 1474, 'overdo': 1475, 'coarctat': 1476, 'pred': 1477, 'aquir': 1478, 'shorter': 1479, 'pallor': 1480, 'endplat': 1481, 'herp': 1482, 'pod': 1483, 'ruptur': 1484, 'td': 1485, 'gastriti': 1486, 'lltc': 1487, 'neural': 1488, 'coach': 1489, 'tremul': 1490, 'flake': 1491, 'adenocarcinoma': 1492, 'banana': 1493, 'radioden': 1494, 'thoracocentesi': 1495, 'bill': 1496, 'mva': 1497, 'hemangioma': 1498, 'anaphylaxi': 1499, 'hydromorphon': 1500, 'nifedipin': 1501, 'heav': 1502, 'ba': 1503, 'df': 1504, 'strictur': 1505, 'anterolisthesi': 1506, 'sdh': 1507, 'patientno': 1508, 'retic': 1509, 'romi': 1510, 'acetazolamid': 1511, 'atraumat': 1512, 'thyromegali': 1513, 'peribronchovascular': 1514}\n"
     ]
    }
   ],
   "source": [
    "\"\"\"function description:\n",
    "generates frequent word set for the disease\n",
    "\"\"\"\n",
    "word_dict = {}\n",
    "word_id = 1\n",
    "stemmer = PorterStemmer()\n",
    "\n",
    "\n",
    "for word in FREQUENT_WORD_LIST:\n",
    "    if not word == \"WORD\":\n",
    "        word_dict[stemmer.stem(word.strip())] = word_id\n",
    "        word_id += 1\n",
    "             \n",
    "print(\"\\nword dictionary created!\\n\")\n",
    "print(word_dict)\n"
   ]
  },
  {
   "cell_type": "markdown",
   "metadata": {},
   "source": [
    "### Implementetion with python for FP_growth"
   ]
  },
  {
   "cell_type": "code",
   "execution_count": 52,
   "metadata": {
    "scrolled": true
   },
   "outputs": [],
   "source": [
    "# http://rasbt.github.io/mlxtend/user_guide/frequent_patterns/fpgrowth/\n",
    "\n",
    "#TODO: Left for automazation\n",
    "# import os\n",
    "# import operator\n",
    "# from pathlib import Path\n",
    "# from mlxtend.frequent_patterns import fpgrowth\n",
    "# from mlxtend.preprocessing import TransactionEncoder\n",
    "# import pandas as pd\n",
    "# import math\n",
    "\n",
    "# # ----\n",
    "# def fp_growth_input_per_note_py(disease_df0, disease_df1, word_dict, min_support):\n",
    "#     def count_cooc(disease_df):\n",
    "#         # For dataframe\n",
    "#         note_list = []\n",
    "\n",
    "#         # read line in from file (each line is one note)\n",
    "#         for index, row in tqdm(disease_df.iterrows(), total=disease_df.shape[0]):\n",
    "        \n",
    "#             # only regard certain type of notes\n",
    "#             word_set = set()\n",
    "#             note = re.sub(r'\\[\\*\\*(.*?)\\*\\*\\]|[_,\\d\\*:~=\\.\\-\\+\\\\/]+', ' ', row['TEXT'])\n",
    "#             tokenized_note = word_tokenize(note)\n",
    "\n",
    "#             # loop through each word in note to count word belonging to each disease\n",
    "#             for word in tokenized_note:\n",
    "#                 stemmed_word = stemmer.stem(word.lower())\n",
    "#                 if stemmed_word in word_dict:\n",
    "#                     word_set.add(stemmed_word)\n",
    "\n",
    "#             templst = []\n",
    "#             for word in word_set:\n",
    "#                 if word in word_dict:\n",
    "#                     templst.append(word)\n",
    "\n",
    "#             # templst.sort()\n",
    "#             if templst:\n",
    "#                 note_list.append(templst)\n",
    "\n",
    "\n",
    "#         te = TransactionEncoder()\n",
    "#         te_ary = te.fit(note_list).transform(note_list)\n",
    "#         df = pd.DataFrame(te_ary, columns=te.columns_)\n",
    "#         df_itemsets = fpgrowth(df, min_support=0.01, use_colnames=True)\n",
    "#         df_itemsets   \n",
    "#         cooc_tmp = []\n",
    "#         cooc_minsup_tmp = []\n",
    "#         node_index = []\n",
    "#         node_minsup = []\n",
    "\n",
    "#         for index, row in df_itemsets.iterrows():\n",
    "#             if len(row['itemsets']) == 1:\n",
    "            \n",
    "#                 node_index.append(row['itemsets'])\n",
    "#                 node_minsup.append(row['support'])\n",
    "# #                 node_minsup.append(len(note_list) * row['support'])\n",
    "                \n",
    "#             elif len(row['itemsets']) == 2:\n",
    "#                 cooc_ = sorted(list(row['itemsets']))\n",
    "#                 cooc_tmp.append(cooc_)\n",
    "#                 cooc_minsup_tmp.append(len(note_list) * row['support'])\n",
    "\n",
    "#         cooc_dict = {}\n",
    "#         for num, i in enumerate(cooc_tmp):\n",
    "#             if tuple(i) not in cooc_dict:\n",
    "#                 cooc_dict[tuple(i)] = cooc_minsup_tmp[num]\n",
    "        \n",
    "#         # dictionary = dict(zip(keys, values))\n",
    "#         node_dict = {}\n",
    "#         for num, i in enumerate(node_index):\n",
    "#             if i not in node_dict:\n",
    "#                 cooc_dict[tuple(i)] = cooc_minsup_tmp[num]\n",
    "        \n",
    "#         return cooc_dict\n",
    "    \n",
    "#     # Dictionary for each coocurrence with their support\n",
    "#     cooc_0 = count_cooc(disease_df0)\n",
    "#     cooc_1 = count_cooc(disease_df1)\n",
    "    \n",
    "#     key_set = set()\n",
    " \n",
    "#     for k,_ in cooc_0.items():\n",
    "#         key_set.add(k)\n",
    "    \n",
    "#     for k,_ in cooc_1.items():\n",
    "#         key_set.add(k)\n",
    "        \n",
    "#     # Get the set of coocurrencies from two groups\n",
    "#     # Count log_odd_score\n",
    "#     cooc_odd_scores = {}\n",
    "#     for set_item in key_set:\n",
    "#         if set_item in cooc_0 and set_item in cooc_1: #TODO: Normalization of the data\n",
    "#             d_prob = cooc_0[set_item]/(cooc_0[set_item] + cooc_1[set_item])\n",
    "#             a_prob = cooc_1[set_item]/(cooc_0[set_item] + cooc_1[set_item])\n",
    "#             log_odd_score = math.log((d_prob + 0.001)/(a_prob+0.001))\n",
    "#             cooc_odd_scores[set_item] = log_odd_score\n",
    "#         elif set_item in cooc_0:\n",
    "#             log_odd_score = math.log((1.001)/(0.001))\n",
    "#             cooc_odd_scores[set_item] = log_odd_score\n",
    "            \n",
    "#         elif set_item in cooc_1:\n",
    "#             log_odd_score = math.log((0.001)/(1.001))\n",
    "#             cooc_odd_scores[set_item] = log_odd_score\n",
    "            \n",
    "#     return cooc_odd_scores\n",
    "        \n",
    "    \n",
    "\n",
    "    \n",
    "# cooc_odd_scores = fp_growth_input_per_note_py(pneumonia_dead_no_disch, pneumonia_alive_no_disch, word_dict, 0.01)"
   ]
  },
  {
   "cell_type": "code",
   "execution_count": null,
   "metadata": {},
   "outputs": [],
   "source": []
  },
  {
   "cell_type": "code",
   "execution_count": null,
   "metadata": {},
   "outputs": [],
   "source": []
  },
  {
   "cell_type": "code",
   "execution_count": null,
   "metadata": {},
   "outputs": [],
   "source": []
  },
  {
   "cell_type": "code",
   "execution_count": null,
   "metadata": {},
   "outputs": [],
   "source": []
  },
  {
   "cell_type": "code",
   "execution_count": 53,
   "metadata": {
    "scrolled": true
   },
   "outputs": [
    {
     "name": "stderr",
     "output_type": "stream",
     "text": [
      " 28%|██▊       | 3361/11895 [00:30<00:36, 230.82it/s]\n",
      "  0%|          | 0/11895 [00:00<?, ?it/s]\u001b[A\n",
      "  0%|          | 7/11895 [00:00<03:16, 60.42it/s]\u001b[A\n",
      "  0%|          | 28/11895 [00:00<02:34, 76.78it/s]\u001b[A\n",
      "  0%|          | 58/11895 [00:00<01:59, 98.85it/s]\u001b[A\n",
      "  1%|          | 90/11895 [00:00<01:35, 123.37it/s]\u001b[A\n",
      "  1%|          | 114/11895 [00:00<01:22, 143.60it/s]\u001b[A\n",
      "  1%|          | 143/11895 [00:00<01:09, 168.93it/s]\u001b[A\n",
      "  1%|▏         | 174/11895 [00:00<00:59, 195.52it/s]\u001b[A\n",
      "  2%|▏         | 200/11895 [00:00<01:01, 189.74it/s]\u001b[A\n",
      "  2%|▏         | 224/11895 [00:00<00:57, 201.67it/s]\u001b[A\n",
      "  2%|▏         | 252/11895 [00:01<00:53, 218.22it/s]\u001b[A\n",
      "  2%|▏         | 277/11895 [00:01<00:53, 219.17it/s]\u001b[A\n",
      "  3%|▎         | 301/11895 [00:01<00:52, 221.90it/s]\u001b[A\n",
      "  3%|▎         | 325/11895 [00:01<00:52, 220.36it/s]\u001b[A\n",
      "  3%|▎         | 354/11895 [00:01<00:48, 237.00it/s]\u001b[A\n",
      "  3%|▎         | 386/11895 [00:01<00:45, 254.98it/s]\u001b[A\n",
      "  3%|▎         | 415/11895 [00:01<00:43, 264.24it/s]\u001b[A\n",
      "  4%|▎         | 443/11895 [00:01<00:47, 239.79it/s]\u001b[A\n",
      "  4%|▍         | 477/11895 [00:01<00:44, 258.93it/s]\u001b[A\n",
      "  4%|▍         | 505/11895 [00:02<00:43, 261.52it/s]\u001b[A\n",
      "  4%|▍         | 533/11895 [00:02<00:43, 262.67it/s]\u001b[A\n",
      "  5%|▍         | 560/11895 [00:02<00:43, 260.28it/s]\u001b[A\n",
      "  5%|▍         | 587/11895 [00:02<00:43, 261.21it/s]\u001b[A\n",
      "  5%|▌         | 615/11895 [00:02<00:42, 263.02it/s]\u001b[A\n",
      "  5%|▌         | 649/11895 [00:02<00:40, 279.66it/s]\u001b[A\n",
      "  6%|▌         | 678/11895 [00:02<00:41, 269.71it/s]\u001b[A\n",
      "  6%|▌         | 706/11895 [00:02<00:41, 269.21it/s]\u001b[A\n",
      "  6%|▌         | 734/11895 [00:02<00:41, 265.95it/s]\u001b[A\n",
      "  6%|▋         | 761/11895 [00:03<00:41, 265.54it/s]\u001b[A\n",
      "  7%|▋         | 788/11895 [00:03<00:44, 252.15it/s]\u001b[A\n",
      "  7%|▋         | 814/11895 [00:03<00:43, 252.92it/s]\u001b[A\n",
      "  7%|▋         | 840/11895 [00:03<00:46, 238.30it/s]\u001b[A\n",
      "  7%|▋         | 865/11895 [00:03<00:51, 214.35it/s]\u001b[A\n",
      "  7%|▋         | 888/11895 [00:03<00:53, 204.58it/s]\u001b[A\n",
      "  8%|▊         | 917/11895 [00:03<00:49, 222.98it/s]\u001b[A\n",
      "  8%|▊         | 944/11895 [00:03<00:46, 234.67it/s]\u001b[A\n",
      "  8%|▊         | 969/11895 [00:03<00:45, 237.97it/s]\u001b[A\n",
      "  8%|▊         | 996/11895 [00:04<00:45, 240.28it/s]\u001b[A\n",
      "  9%|▊         | 1021/11895 [00:04<00:47, 227.65it/s]\u001b[A\n",
      "  9%|▉         | 1049/11895 [00:04<00:45, 237.69it/s]\u001b[A\n",
      "  9%|▉         | 1074/11895 [00:04<00:49, 220.75it/s]\u001b[A\n",
      "  9%|▉         | 1097/11895 [00:04<00:51, 207.69it/s]\u001b[A\n",
      "  9%|▉         | 1119/11895 [00:04<00:53, 201.99it/s]\u001b[A\n",
      " 10%|▉         | 1144/11895 [00:04<00:50, 212.09it/s]\u001b[A\n",
      " 10%|▉         | 1170/11895 [00:04<00:48, 223.32it/s]\u001b[A\n",
      " 10%|█         | 1196/11895 [00:04<00:46, 231.55it/s]\u001b[A\n",
      " 10%|█         | 1223/11895 [00:05<00:44, 241.22it/s]\u001b[A\n",
      " 11%|█         | 1254/11895 [00:05<00:43, 246.59it/s]\u001b[A\n",
      " 11%|█         | 1279/11895 [00:05<00:46, 227.38it/s]\u001b[A\n",
      " 11%|█         | 1303/11895 [00:05<00:47, 224.82it/s]\u001b[A\n",
      " 11%|█         | 1326/11895 [00:05<01:27, 120.53it/s]\u001b[A\n",
      " 11%|█▏        | 1344/11895 [00:06<01:41, 104.10it/s]\u001b[A\n",
      " 11%|█▏        | 1359/11895 [00:06<01:46, 99.23it/s] \u001b[A\n",
      " 12%|█▏        | 1373/11895 [00:06<01:56, 90.30it/s]\u001b[A\n",
      " 12%|█▏        | 1385/11895 [00:06<02:01, 86.85it/s]\u001b[A\n",
      " 12%|█▏        | 1396/11895 [00:06<01:56, 89.79it/s]\u001b[A\n",
      " 12%|█▏        | 1412/11895 [00:06<01:41, 102.82it/s]\u001b[A\n",
      " 12%|█▏        | 1431/11895 [00:06<01:28, 118.38it/s]\u001b[A\n",
      " 12%|█▏        | 1458/11895 [00:06<01:13, 141.45it/s]\u001b[A\n",
      " 13%|█▎        | 1489/11895 [00:07<01:01, 168.22it/s]\u001b[A\n",
      " 13%|█▎        | 1512/11895 [00:07<00:56, 182.29it/s]\u001b[A\n",
      " 13%|█▎        | 1534/11895 [00:07<00:54, 189.64it/s]\u001b[A\n",
      " 13%|█▎        | 1556/11895 [00:07<00:58, 177.00it/s]\u001b[A\n",
      " 13%|█▎        | 1580/11895 [00:07<00:57, 178.47it/s]\u001b[A\n",
      " 13%|█▎        | 1600/11895 [00:07<01:00, 170.44it/s]\u001b[A\n",
      " 14%|█▎        | 1628/11895 [00:07<00:53, 191.18it/s]\u001b[A\n",
      " 14%|█▍        | 1650/11895 [00:07<00:52, 194.23it/s]\u001b[A\n",
      " 14%|█▍        | 1671/11895 [00:08<00:52, 193.34it/s]\u001b[A\n",
      " 14%|█▍        | 1692/11895 [00:08<00:52, 194.92it/s]\u001b[A\n",
      " 15%|█▍        | 1731/11895 [00:08<00:44, 228.25it/s]\u001b[A\n",
      " 15%|█▍        | 1757/11895 [00:08<00:44, 227.91it/s]\u001b[A\n",
      " 15%|█▍        | 1782/11895 [00:08<00:44, 227.18it/s]\u001b[A\n",
      " 15%|█▌        | 1809/11895 [00:08<00:42, 234.75it/s]\u001b[A\n",
      " 15%|█▌        | 1834/11895 [00:08<00:42, 236.72it/s]\u001b[A\n",
      " 16%|█▌        | 1859/11895 [00:08<00:44, 225.88it/s]\u001b[A\n",
      " 16%|█▌        | 1883/11895 [00:08<00:44, 226.80it/s]\u001b[A\n",
      " 16%|█▌        | 1913/11895 [00:08<00:40, 244.32it/s]\u001b[A\n",
      " 16%|█▋        | 1939/11895 [00:09<00:47, 209.57it/s]\u001b[A\n",
      " 16%|█▋        | 1962/11895 [00:09<01:04, 154.42it/s]\u001b[A\n",
      " 17%|█▋        | 1981/11895 [00:09<01:14, 133.81it/s]\u001b[A\n",
      " 17%|█▋        | 2007/11895 [00:09<01:03, 156.52it/s]\u001b[A\n",
      " 17%|█▋        | 2026/11895 [00:09<01:03, 155.07it/s]\u001b[A\n",
      " 17%|█▋        | 2050/11895 [00:09<00:57, 172.64it/s]\u001b[A\n",
      " 17%|█▋        | 2070/11895 [00:10<01:03, 154.19it/s]\u001b[A\n",
      " 18%|█▊        | 2088/11895 [00:10<01:28, 110.98it/s]\u001b[A\n",
      " 18%|█▊        | 2103/11895 [00:10<01:24, 115.67it/s]\u001b[A\n",
      " 18%|█▊        | 2129/11895 [00:10<01:10, 137.55it/s]\u001b[A\n",
      " 18%|█▊        | 2152/11895 [00:10<01:03, 153.90it/s]\u001b[A\n",
      " 18%|█▊        | 2176/11895 [00:10<00:56, 171.88it/s]\u001b[A\n",
      " 18%|█▊        | 2198/11895 [00:10<00:53, 182.46it/s]\u001b[A\n",
      " 19%|█▉        | 2234/11895 [00:10<00:45, 212.33it/s]\u001b[A\n",
      " 19%|█▉        | 2265/11895 [00:11<00:41, 233.13it/s]\u001b[A\n",
      " 19%|█▉        | 2292/11895 [00:11<00:40, 234.36it/s]\u001b[A\n",
      " 19%|█▉        | 2318/11895 [00:11<00:41, 231.56it/s]\u001b[A\n",
      " 20%|█▉        | 2343/11895 [00:11<00:41, 231.07it/s]\u001b[A\n",
      " 20%|█▉        | 2368/11895 [00:11<00:54, 175.88it/s]\u001b[A\n",
      " 20%|██        | 2389/11895 [00:11<01:10, 133.95it/s]\u001b[A\n",
      " 20%|██        | 2406/11895 [00:12<01:17, 122.43it/s]\u001b[A\n",
      " 20%|██        | 2421/11895 [00:12<01:13, 128.11it/s]\u001b[A\n",
      " 20%|██        | 2437/11895 [00:12<01:11, 132.28it/s]\u001b[A\n",
      " 21%|██        | 2452/11895 [00:12<01:09, 136.26it/s]\u001b[A\n",
      " 21%|██        | 2468/11895 [00:12<01:08, 138.22it/s]\u001b[A\n",
      " 21%|██        | 2483/11895 [00:12<01:11, 131.40it/s]\u001b[A\n",
      " 21%|██        | 2497/11895 [00:12<01:19, 117.64it/s]\u001b[A\n",
      " 21%|██        | 2510/11895 [00:12<01:30, 104.14it/s]\u001b[A\n",
      " 21%|██        | 2522/11895 [00:13<01:30, 103.82it/s]\u001b[A\n",
      " 21%|██▏       | 2533/11895 [00:13<01:35, 97.68it/s] \u001b[A\n",
      " 21%|██▏       | 2544/11895 [00:13<01:33, 99.70it/s]\u001b[A\n",
      " 21%|██▏       | 2555/11895 [00:13<01:38, 94.99it/s]\u001b[A\n",
      " 22%|██▏       | 2570/11895 [00:13<01:27, 106.44it/s]\u001b[A\n",
      " 22%|██▏       | 2595/11895 [00:13<01:12, 127.55it/s]\u001b[A\n",
      " 22%|██▏       | 2626/11895 [00:13<01:00, 154.43it/s]\u001b[A\n",
      " 22%|██▏       | 2654/11895 [00:13<00:51, 177.96it/s]\u001b[A\n",
      " 23%|██▎       | 2682/11895 [00:13<00:46, 199.50it/s]\u001b[A\n",
      " 23%|██▎       | 2706/11895 [00:14<00:44, 208.08it/s]\u001b[A\n",
      " 23%|██▎       | 2730/11895 [00:14<00:54, 167.84it/s]\u001b[A\n",
      " 23%|██▎       | 2750/11895 [00:14<00:56, 162.42it/s]\u001b[A\n",
      " 23%|██▎       | 2769/11895 [00:14<01:13, 123.33it/s]\u001b[A\n",
      " 23%|██▎       | 2785/11895 [00:14<01:18, 116.69it/s]\u001b[A\n",
      " 24%|██▎       | 2799/11895 [00:14<01:29, 101.60it/s]\u001b[A\n",
      " 24%|██▎       | 2819/11895 [00:15<01:16, 118.68it/s]\u001b[A\n",
      " 24%|██▍       | 2842/11895 [00:15<01:06, 137.02it/s]\u001b[A\n",
      " 24%|██▍       | 2869/11895 [00:15<00:56, 160.51it/s]\u001b[A\n",
      " 24%|██▍       | 2894/11895 [00:15<00:50, 179.45it/s]\u001b[A\n",
      " 25%|██▍       | 2922/11895 [00:15<00:44, 200.94it/s]\u001b[A\n",
      " 25%|██▍       | 2955/11895 [00:15<00:39, 226.53it/s]\u001b[A\n",
      " 25%|██▌       | 2981/11895 [00:15<00:38, 232.45it/s]\u001b[A\n",
      " 25%|██▌       | 3007/11895 [00:15<00:37, 235.58it/s]\u001b[A\n",
      " 25%|██▌       | 3033/11895 [00:15<00:36, 241.02it/s]\u001b[A\n",
      " 26%|██▌       | 3062/11895 [00:15<00:34, 252.42it/s]\u001b[A\n",
      " 26%|██▌       | 3094/11895 [00:16<00:33, 260.03it/s]\u001b[A\n",
      " 26%|██▌       | 3121/11895 [00:16<00:52, 165.95it/s]\u001b[A\n",
      " 26%|██▋       | 3143/11895 [00:16<00:54, 160.96it/s]\u001b[A\n",
      " 27%|██▋       | 3166/11895 [00:16<00:49, 176.33it/s]\u001b[A\n",
      " 27%|██▋       | 3187/11895 [00:16<00:49, 177.13it/s]\u001b[A\n",
      " 27%|██▋       | 3207/11895 [00:16<00:48, 178.91it/s]\u001b[A\n",
      " 27%|██▋       | 3230/11895 [00:16<00:45, 190.46it/s]\u001b[A\n",
      " 27%|██▋       | 3256/11895 [00:17<00:41, 206.40it/s]\u001b[A\n",
      " 28%|██▊       | 3281/11895 [00:17<00:39, 216.28it/s]\u001b[A\n",
      " 28%|██▊       | 3309/11895 [00:17<00:36, 232.06it/s]\u001b[A\n",
      " 28%|██▊       | 3334/11895 [00:17<00:36, 233.60it/s]\u001b[A\n",
      " 28%|██▊       | 3360/11895 [00:17<00:36, 236.26it/s]\u001b[A\n",
      " 28%|██▊       | 3385/11895 [00:17<00:36, 233.15it/s]\u001b[A\n"
     ]
    },
    {
     "name": "stderr",
     "output_type": "stream",
     "text": [
      " 29%|██▊       | 3410/11895 [00:17<00:36, 231.40it/s]\u001b[A\n",
      " 29%|██▉       | 3435/11895 [00:17<00:36, 233.95it/s]\u001b[A\n",
      " 29%|██▉       | 3459/11895 [00:17<00:38, 221.28it/s]\u001b[A\n",
      " 29%|██▉       | 3486/11895 [00:18<00:36, 232.47it/s]\u001b[A\n",
      " 30%|██▉       | 3510/11895 [00:18<00:37, 224.77it/s]\u001b[A\n",
      " 30%|██▉       | 3533/11895 [00:18<00:37, 224.46it/s]\u001b[A\n",
      " 30%|██▉       | 3556/11895 [00:18<00:37, 224.51it/s]\u001b[A\n",
      " 30%|███       | 3579/11895 [00:18<00:38, 217.55it/s]\u001b[A\n",
      " 30%|███       | 3603/11895 [00:18<00:37, 222.06it/s]\u001b[A\n",
      " 30%|███       | 3626/11895 [00:18<00:37, 221.60it/s]\u001b[A\n",
      " 31%|███       | 3649/11895 [00:18<00:36, 223.59it/s]\u001b[A\n",
      " 31%|███       | 3672/11895 [00:18<00:39, 210.32it/s]\u001b[A\n",
      " 31%|███       | 3694/11895 [00:18<00:38, 212.40it/s]\u001b[A\n",
      " 31%|███       | 3716/11895 [00:19<00:38, 212.69it/s]\u001b[A\n",
      " 31%|███▏      | 3738/11895 [00:19<00:38, 209.38it/s]\u001b[A\n",
      " 32%|███▏      | 3761/11895 [00:19<00:39, 203.62it/s]\u001b[A\n",
      " 32%|███▏      | 3784/11895 [00:19<00:38, 208.83it/s]\u001b[A\n",
      " 32%|███▏      | 3805/11895 [00:19<00:38, 208.77it/s]\u001b[A\n",
      " 32%|███▏      | 3826/11895 [00:19<00:38, 207.40it/s]\u001b[A\n",
      " 32%|███▏      | 3847/11895 [00:19<00:50, 158.03it/s]\u001b[A\n",
      " 33%|███▎      | 3876/11895 [00:19<00:43, 182.78it/s]\u001b[A\n",
      " 33%|███▎      | 3903/11895 [00:20<00:39, 201.57it/s]\u001b[A\n",
      " 33%|███▎      | 3926/11895 [00:20<00:38, 205.30it/s]\u001b[A\n",
      " 33%|███▎      | 3949/11895 [00:20<00:37, 211.35it/s]\u001b[A\n",
      " 33%|███▎      | 3972/11895 [00:20<00:40, 196.80it/s]\u001b[A\n",
      " 34%|███▎      | 3993/11895 [00:20<00:51, 152.93it/s]\u001b[A\n",
      " 34%|███▎      | 4011/11895 [00:20<01:01, 127.73it/s]\u001b[A\n",
      " 34%|███▍      | 4027/11895 [00:20<01:05, 120.35it/s]\u001b[A\n",
      " 34%|███▍      | 4041/11895 [00:21<01:03, 124.15it/s]\u001b[A\n",
      " 34%|███▍      | 4055/11895 [00:21<01:09, 113.21it/s]\u001b[A\n",
      " 34%|███▍      | 4068/11895 [00:21<01:09, 113.19it/s]\u001b[A\n",
      " 34%|███▍      | 4081/11895 [00:21<01:17, 100.53it/s]\u001b[A\n",
      " 34%|███▍      | 4095/11895 [00:21<01:12, 108.06it/s]\u001b[A\n",
      " 35%|███▍      | 4107/11895 [00:21<01:31, 84.70it/s] \u001b[A\n",
      " 35%|███▍      | 4117/11895 [00:21<01:31, 84.83it/s]\u001b[A\n",
      " 35%|███▍      | 4127/11895 [00:22<01:37, 79.28it/s]\u001b[A\n",
      " 35%|███▍      | 4136/11895 [00:22<01:36, 80.01it/s]\u001b[A\n",
      " 35%|███▍      | 4145/11895 [00:22<01:36, 80.56it/s]\u001b[A\n",
      " 35%|███▍      | 4155/11895 [00:22<01:30, 85.11it/s]\u001b[A\n",
      " 35%|███▌      | 4164/11895 [00:22<01:56, 66.35it/s]\u001b[A\n",
      " 35%|███▌      | 4172/11895 [00:22<01:50, 69.60it/s]\u001b[A\n",
      " 35%|███▌      | 4183/11895 [00:22<01:39, 77.39it/s]\u001b[A\n",
      " 35%|███▌      | 4192/11895 [00:22<01:45, 72.96it/s]\u001b[A\n",
      " 35%|███▌      | 4201/11895 [00:23<01:41, 75.75it/s]\u001b[A\n",
      " 35%|███▌      | 4215/11895 [00:23<01:28, 87.10it/s]\u001b[A\n",
      " 36%|███▌      | 4225/11895 [00:23<01:33, 81.68it/s]\u001b[A\n",
      " 36%|███▌      | 4236/11895 [00:23<01:27, 87.80it/s]\u001b[A\n",
      " 36%|███▌      | 4246/11895 [00:23<01:36, 79.59it/s]\u001b[A\n",
      " 36%|███▌      | 4258/11895 [00:23<01:28, 86.35it/s]\u001b[A\n",
      " 36%|███▌      | 4280/11895 [00:23<01:12, 105.40it/s]\u001b[A\n",
      " 36%|███▌      | 4310/11895 [00:23<00:58, 128.73it/s]\u001b[A\n",
      " 36%|███▋      | 4328/11895 [00:24<01:06, 114.62it/s]\u001b[A\n",
      " 37%|███▋      | 4343/11895 [00:24<01:07, 111.64it/s]\u001b[A\n",
      " 37%|███▋      | 4357/11895 [00:24<01:14, 101.70it/s]\u001b[A\n",
      " 37%|███▋      | 4369/11895 [00:24<01:19, 95.00it/s] \u001b[A\n",
      " 37%|███▋      | 4380/11895 [00:24<01:33, 80.20it/s]\u001b[A\n",
      " 37%|███▋      | 4391/11895 [00:24<01:27, 85.90it/s]\u001b[A\n",
      " 37%|███▋      | 4413/11895 [00:24<01:11, 105.05it/s]\u001b[A\n",
      " 37%|███▋      | 4427/11895 [00:25<01:11, 104.54it/s]\u001b[A\n",
      " 37%|███▋      | 4440/11895 [00:25<01:21, 91.98it/s] \u001b[A\n",
      " 37%|███▋      | 4451/11895 [00:25<01:35, 78.25it/s]\u001b[A\n",
      " 38%|███▊      | 4463/11895 [00:25<01:26, 85.44it/s]\u001b[A\n",
      " 38%|███▊      | 4473/11895 [00:25<01:29, 83.29it/s]\u001b[A\n",
      " 38%|███▊      | 4483/11895 [00:25<01:33, 79.69it/s]\u001b[A\n",
      " 38%|███▊      | 4494/11895 [00:25<01:26, 85.34it/s]\u001b[A\n",
      " 38%|███▊      | 4504/11895 [00:26<01:29, 82.30it/s]\u001b[A\n",
      " 38%|███▊      | 4527/11895 [00:26<01:13, 100.53it/s]\u001b[A\n",
      " 38%|███▊      | 4542/11895 [00:26<01:06, 110.56it/s]\u001b[A\n",
      " 38%|███▊      | 4565/11895 [00:26<00:56, 130.78it/s]\u001b[A\n",
      " 39%|███▊      | 4596/11895 [00:26<00:46, 158.01it/s]\u001b[A\n",
      " 39%|███▉      | 4622/11895 [00:26<00:40, 178.17it/s]\u001b[A\n",
      " 39%|███▉      | 4644/11895 [00:26<00:39, 185.03it/s]\u001b[A\n",
      " 39%|███▉      | 4666/11895 [00:26<01:00, 119.15it/s]\u001b[A\n",
      " 39%|███▉      | 4683/11895 [00:27<00:59, 120.24it/s]\u001b[A\n",
      " 40%|███▉      | 4699/11895 [00:27<00:58, 122.70it/s]\u001b[A\n",
      " 40%|███▉      | 4714/11895 [00:27<01:03, 113.72it/s]\u001b[A\n",
      " 40%|███▉      | 4728/11895 [00:27<01:10, 101.68it/s]\u001b[A\n",
      " 40%|███▉      | 4741/11895 [00:27<01:07, 105.74it/s]\u001b[A\n",
      " 40%|███▉      | 4753/11895 [00:27<01:09, 102.69it/s]\u001b[A\n",
      " 40%|████      | 4767/11895 [00:27<01:04, 110.87it/s]\u001b[A\n",
      " 40%|████      | 4785/11895 [00:28<00:57, 124.29it/s]\u001b[A\n",
      " 40%|████      | 4805/11895 [00:28<00:51, 137.27it/s]\u001b[A\n",
      " 41%|████      | 4820/11895 [00:28<01:13, 96.25it/s] \u001b[A\n",
      " 41%|████      | 4833/11895 [00:28<01:21, 86.61it/s]\u001b[A\n",
      " 41%|████      | 4846/11895 [00:28<01:16, 91.80it/s]\u001b[A\n",
      " 41%|████      | 4857/11895 [00:28<01:17, 90.36it/s]\u001b[A\n",
      " 41%|████      | 4871/11895 [00:28<01:11, 98.79it/s]\u001b[A\n",
      " 41%|████      | 4891/11895 [00:29<01:00, 115.79it/s]\u001b[A\n",
      " 41%|████      | 4905/11895 [00:29<01:08, 102.44it/s]\u001b[A\n",
      " 41%|████▏     | 4918/11895 [00:29<01:05, 106.48it/s]\u001b[A\n",
      " 41%|████▏     | 4931/11895 [00:29<01:03, 109.23it/s]\u001b[A\n",
      " 42%|████▏     | 4944/11895 [00:29<01:00, 114.28it/s]\u001b[A\n",
      " 42%|████▏     | 4957/11895 [00:29<01:06, 103.99it/s]\u001b[A\n",
      " 42%|████▏     | 4970/11895 [00:29<01:02, 110.41it/s]\u001b[A\n",
      " 42%|████▏     | 4982/11895 [00:29<01:01, 111.93it/s]\u001b[A\n",
      " 42%|████▏     | 4996/11895 [00:29<00:59, 116.69it/s]\u001b[A\n",
      " 42%|████▏     | 5008/11895 [00:30<00:59, 116.12it/s]\u001b[A\n",
      " 42%|████▏     | 5020/11895 [00:30<01:03, 108.50it/s]\u001b[A\n",
      " 42%|████▏     | 5032/11895 [00:30<01:02, 109.36it/s]\u001b[A\n",
      " 42%|████▏     | 5044/11895 [00:30<01:08, 100.51it/s]\u001b[A\n",
      " 42%|████▏     | 5055/11895 [00:30<01:12, 94.80it/s] \u001b[A\n",
      " 43%|████▎     | 5065/11895 [00:30<01:14, 92.18it/s]\u001b[A\n",
      " 43%|████▎     | 5075/11895 [00:30<01:13, 93.07it/s]\u001b[A\n",
      " 43%|████▎     | 5087/11895 [00:30<01:08, 99.54it/s]\u001b[A\n",
      " 43%|████▎     | 5098/11895 [00:31<01:10, 96.53it/s]\u001b[A\n",
      " 43%|████▎     | 5109/11895 [00:31<01:10, 96.84it/s]\u001b[A\n",
      " 43%|████▎     | 5122/11895 [00:31<01:06, 101.20it/s]\u001b[A\n",
      " 43%|████▎     | 5133/11895 [00:31<01:10, 95.62it/s] \u001b[A\n",
      " 43%|████▎     | 5144/11895 [00:31<01:11, 94.53it/s]\u001b[A\n",
      " 43%|████▎     | 5156/11895 [00:31<01:07, 100.44it/s]\u001b[A\n",
      " 43%|████▎     | 5167/11895 [00:31<01:08, 98.10it/s] \u001b[A\n",
      " 44%|████▎     | 5180/11895 [00:31<01:03, 105.00it/s]\u001b[A\n",
      " 44%|████▎     | 5191/11895 [00:31<01:03, 105.29it/s]\u001b[A\n",
      " 44%|████▍     | 5205/11895 [00:32<00:59, 112.05it/s]\u001b[A\n",
      " 44%|████▍     | 5217/11895 [00:32<01:01, 108.06it/s]\u001b[A\n",
      " 44%|████▍     | 5232/11895 [00:32<00:58, 113.83it/s]\u001b[A\n",
      " 44%|████▍     | 5244/11895 [00:32<01:00, 109.10it/s]\u001b[A\n",
      " 44%|████▍     | 5256/11895 [00:32<01:15, 87.71it/s] \u001b[A\n",
      " 44%|████▍     | 5266/11895 [00:32<01:21, 81.15it/s]\u001b[A\n",
      " 44%|████▍     | 5278/11895 [00:32<01:16, 86.87it/s]\u001b[A\n",
      " 44%|████▍     | 5288/11895 [00:33<01:20, 82.19it/s]\u001b[A\n",
      " 45%|████▍     | 5298/11895 [00:33<01:16, 85.83it/s]\u001b[A\n",
      " 45%|████▍     | 5310/11895 [00:33<01:10, 92.92it/s]\u001b[A\n",
      " 45%|████▍     | 5322/11895 [00:33<01:07, 97.22it/s]\u001b[A\n",
      " 45%|████▍     | 5333/11895 [00:33<01:11, 91.47it/s]\u001b[A\n",
      " 45%|████▍     | 5343/11895 [00:33<01:15, 86.33it/s]\u001b[A\n",
      " 45%|████▌     | 5353/11895 [00:33<01:17, 84.33it/s]\u001b[A\n",
      " 45%|████▌     | 5363/11895 [00:33<01:15, 87.00it/s]\u001b[A\n",
      " 45%|████▌     | 5372/11895 [00:33<01:18, 83.15it/s]\u001b[A\n",
      " 45%|████▌     | 5381/11895 [00:34<01:28, 74.02it/s]\u001b[A\n",
      " 45%|████▌     | 5394/11895 [00:34<01:21, 79.31it/s]\u001b[A\n",
      " 45%|████▌     | 5403/11895 [00:34<01:34, 68.83it/s]\u001b[A\n",
      " 46%|████▌     | 5419/11895 [00:34<01:18, 82.62it/s]\u001b[A\n",
      " 46%|████▌     | 5429/11895 [00:34<01:23, 77.85it/s]\u001b[A\n",
      " 46%|████▌     | 5438/11895 [00:34<01:26, 74.44it/s]\u001b[A\n",
      " 46%|████▌     | 5451/11895 [00:34<01:19, 81.30it/s]\u001b[A\n",
      " 46%|████▌     | 5460/11895 [00:35<01:17, 82.64it/s]\u001b[A\n",
      " 46%|████▌     | 5469/11895 [00:35<01:26, 74.11it/s]\u001b[A\n",
      " 46%|████▌     | 5477/11895 [00:35<01:32, 69.42it/s]\u001b[A\n",
      " 46%|████▌     | 5488/11895 [00:35<01:22, 77.77it/s]\u001b[A\n",
      " 46%|████▋     | 5507/11895 [00:35<01:07, 94.34it/s]\u001b[A\n",
      " 46%|████▋     | 5527/11895 [00:35<00:57, 111.23it/s]\u001b[A\n",
      " 47%|████▋     | 5554/11895 [00:35<00:47, 133.63it/s]\u001b[A\n",
      " 47%|████▋     | 5575/11895 [00:35<00:44, 143.43it/s]\u001b[A\n"
     ]
    },
    {
     "name": "stderr",
     "output_type": "stream",
     "text": [
      " 47%|████▋     | 5593/11895 [00:36<00:56, 111.94it/s]\u001b[A\n",
      " 47%|████▋     | 5608/11895 [00:36<00:59, 105.23it/s]\u001b[A\n",
      " 47%|████▋     | 5621/11895 [00:36<01:14, 83.98it/s] \u001b[A\n",
      " 47%|████▋     | 5633/11895 [00:36<01:10, 89.23it/s]\u001b[A\n",
      " 47%|████▋     | 5644/11895 [00:36<01:08, 90.66it/s]\u001b[A\n",
      " 48%|████▊     | 5655/11895 [00:36<01:17, 80.59it/s]\u001b[A\n",
      " 48%|████▊     | 5665/11895 [00:37<01:18, 79.29it/s]\u001b[A\n",
      " 48%|████▊     | 5675/11895 [00:37<01:16, 81.41it/s]\u001b[A\n",
      " 48%|████▊     | 5684/11895 [00:37<01:31, 67.81it/s]\u001b[A\n",
      " 48%|████▊     | 5692/11895 [00:37<01:32, 66.92it/s]\u001b[A\n",
      " 48%|████▊     | 5700/11895 [00:37<01:39, 61.96it/s]\u001b[A\n",
      " 48%|████▊     | 5707/11895 [00:37<01:43, 60.02it/s]\u001b[A"
     ]
    },
    {
     "ename": "KeyboardInterrupt",
     "evalue": "",
     "output_type": "error",
     "traceback": [
      "\u001b[0;31m---------------------------------------------------------------------------\u001b[0m",
      "\u001b[0;31mKeyboardInterrupt\u001b[0m                         Traceback (most recent call last)",
      "\u001b[0;32m<ipython-input-53-1086a692530b>\u001b[0m in \u001b[0;36m<module>\u001b[0;34m\u001b[0m\n\u001b[1;32m     75\u001b[0m \u001b[0;34m\u001b[0m\u001b[0m\n\u001b[1;32m     76\u001b[0m \u001b[0;31m# Dictionary for each coocurrence with their support\u001b[0m\u001b[0;34m\u001b[0m\u001b[0;34m\u001b[0m\u001b[0;34m\u001b[0m\u001b[0m\n\u001b[0;32m---> 77\u001b[0;31m \u001b[0mnode_0\u001b[0m\u001b[0;34m,\u001b[0m \u001b[0mcooc_0\u001b[0m\u001b[0;34m,\u001b[0m \u001b[0mnote_num_0\u001b[0m \u001b[0;34m=\u001b[0m \u001b[0mcount_cooc\u001b[0m\u001b[0;34m(\u001b[0m\u001b[0mpneumonia_dead_no_disch\u001b[0m\u001b[0;34m,\u001b[0m \u001b[0mword_dict\u001b[0m\u001b[0;34m,\u001b[0m \u001b[0;36m0.1\u001b[0m\u001b[0;34m)\u001b[0m\u001b[0;34m\u001b[0m\u001b[0;34m\u001b[0m\u001b[0m\n\u001b[0m\u001b[1;32m     78\u001b[0m \u001b[0;31m# node_1, cooc_1, note_num_1 = count_cooc(pneumonia_alive_no_disch, word_dict, 0.1)\u001b[0m\u001b[0;34m\u001b[0m\u001b[0;34m\u001b[0m\u001b[0;34m\u001b[0m\u001b[0m\n\u001b[1;32m     79\u001b[0m \u001b[0;34m\u001b[0m\u001b[0m\n",
      "\u001b[0;32m<ipython-input-53-1086a692530b>\u001b[0m in \u001b[0;36mcount_cooc\u001b[0;34m(disease_df, word_dict, min_support)\u001b[0m\n\u001b[1;32m     24\u001b[0m         \u001b[0;32mfor\u001b[0m \u001b[0mword\u001b[0m \u001b[0;32min\u001b[0m \u001b[0mtokenized_note\u001b[0m\u001b[0;34m:\u001b[0m\u001b[0;34m\u001b[0m\u001b[0;34m\u001b[0m\u001b[0m\n\u001b[1;32m     25\u001b[0m             \u001b[0mstemmed_word\u001b[0m \u001b[0;34m=\u001b[0m \u001b[0mstemmer\u001b[0m\u001b[0;34m.\u001b[0m\u001b[0mstem\u001b[0m\u001b[0;34m(\u001b[0m\u001b[0mword\u001b[0m\u001b[0;34m.\u001b[0m\u001b[0mlower\u001b[0m\u001b[0;34m(\u001b[0m\u001b[0;34m)\u001b[0m\u001b[0;34m)\u001b[0m\u001b[0;34m\u001b[0m\u001b[0;34m\u001b[0m\u001b[0m\n\u001b[0;32m---> 26\u001b[0;31m             \u001b[0;32mif\u001b[0m \u001b[0mstemmed_word\u001b[0m \u001b[0;32min\u001b[0m \u001b[0mword_dict\u001b[0m\u001b[0;34m:\u001b[0m\u001b[0;34m\u001b[0m\u001b[0;34m\u001b[0m\u001b[0m\n\u001b[0m\u001b[1;32m     27\u001b[0m                 \u001b[0mword_set\u001b[0m\u001b[0;34m.\u001b[0m\u001b[0madd\u001b[0m\u001b[0;34m(\u001b[0m\u001b[0mstemmed_word\u001b[0m\u001b[0;34m)\u001b[0m\u001b[0;34m\u001b[0m\u001b[0;34m\u001b[0m\u001b[0m\n\u001b[1;32m     28\u001b[0m \u001b[0;34m\u001b[0m\u001b[0m\n",
      "\u001b[0;31mKeyboardInterrupt\u001b[0m: "
     ]
    }
   ],
   "source": [
    "# http://rasbt.github.io/mlxtend/user_guide/frequent_patterns/fpgrowth/\n",
    "import os\n",
    "import operator\n",
    "from pathlib import Path\n",
    "from mlxtend.frequent_patterns import fpgrowth\n",
    "from mlxtend.preprocessing import TransactionEncoder\n",
    "import pandas as pd\n",
    "import math\n",
    "\n",
    "# ----\n",
    "def count_cooc(disease_df, word_dict, min_support):\n",
    "    # For dataframe\n",
    "    note_list = []\n",
    "\n",
    "    # read line in from file (each line is one note)\n",
    "    for index, row in tqdm(disease_df.iterrows(), total=disease_df.shape[0]):\n",
    "        \n",
    "        # only regard certain type of notes\n",
    "        word_set = set()\n",
    "        note = re.sub(r'\\[\\*\\*(.*?)\\*\\*\\]|[_,\\d\\*:~=\\.\\-\\+\\\\/]+', ' ', row['TEXT'])\n",
    "        tokenized_note = word_tokenize(note)\n",
    "\n",
    "        # loop through each word in note to count word belonging to each disease\n",
    "        for word in tokenized_note:\n",
    "            stemmed_word = stemmer.stem(word.lower())\n",
    "            if stemmed_word in word_dict:\n",
    "                word_set.add(stemmed_word)\n",
    "\n",
    "        templst = []\n",
    "        for word in word_set:\n",
    "            if word in word_dict:\n",
    "                templst.append(word)\n",
    "\n",
    "        # templst.sort()\n",
    "        if templst:\n",
    "            note_list.append(templst)\n",
    "\n",
    "\n",
    "    te = TransactionEncoder()\n",
    "    te_ary = te.fit(note_list).transform(note_list)\n",
    "    df = pd.DataFrame(te_ary, columns=te.columns_)\n",
    "    df_itemsets = fpgrowth(df, min_support=min_support, use_colnames=True)\n",
    "    df_itemsets   \n",
    "    cooc_tmp = []\n",
    "    cooc_minsup_tmp = []\n",
    "    node_index = []\n",
    "    node_minsup = []\n",
    "\n",
    "    for index, row in df_itemsets.iterrows():\n",
    "        if len(row['itemsets']) == 1:\n",
    "            min_sup = row['support']\n",
    "            node_index.append(list(row['itemsets'])[0])\n",
    "            node_minsup.append(len(note_list) * row['support'])\n",
    "\n",
    "        if len(row['itemsets']) == 2:\n",
    "            cooc_ = sorted(list(row['itemsets']))\n",
    "            cooc_tmp.append(cooc_)\n",
    "            cooc_minsup_tmp.append(len(note_list) * row['support'])\n",
    "    \n",
    "\n",
    "\n",
    "    cooc_dict = {}\n",
    "\n",
    "    for num, i in enumerate(cooc_tmp):\n",
    "        if tuple(i) not in cooc_dict:\n",
    "            cooc_dict[tuple(i)] = cooc_minsup_tmp[num]\n",
    "\n",
    "    # dictionary = dict(zip(keys, values))\n",
    "    node_dict = {}\n",
    "    for num, i in enumerate(node_index):\n",
    "        if i not in node_dict:\n",
    "            node_dict[i] = node_minsup[num]\n",
    "        \n",
    "    return node_dict, cooc_dict, len(note_list)\n",
    "    \n",
    "# Dictionary for each coocurrence with their support\n",
    "node_0, cooc_0, note_num_0 = count_cooc(pneumonia_dead_no_disch, word_dict, 0.1)\n",
    "# node_1, cooc_1, note_num_1 = count_cooc(pneumonia_alive_no_disch, word_dict, 0.1)\n",
    "    \n",
    "print(f\"node_0: {len(node_0)}, cooc_0: {len(cooc_0)}, note_num_0: {note_num_0}\")\n",
    "# print(f\"node_1: {len(node_1)}, cooc_1: {len(cooc_1)}, note_num_1: {note_num_1}\")\n",
    "\n",
    "# minsup = 0,01\n",
    "# node_0: 82, cooc_0: 73, note_num_0: 7389\n",
    "# node_1: 68, cooc_1: 20, note_num_1: 26610"
   ]
  },
  {
   "cell_type": "code",
   "execution_count": null,
   "metadata": {
    "scrolled": true
   },
   "outputs": [],
   "source": [
    "node_1"
   ]
  },
  {
   "cell_type": "code",
   "execution_count": null,
   "metadata": {},
   "outputs": [],
   "source": []
  },
  {
   "cell_type": "code",
   "execution_count": null,
   "metadata": {},
   "outputs": [],
   "source": [
    "def factor_data(node_dict, cooc_dict, factor):\n",
    "    \n",
    "    for k, v in node_dict.items():\n",
    "        node_dict[k] = v/factor\n",
    "        \n",
    "    for k, v in cooc_dict.items():\n",
    "        cooc_dict[k] = v/factor\n",
    "        \n",
    "    return node_dict, cooc_dict\n",
    "        \n",
    "\n",
    "if note_num_0 > note_num_1:\n",
    "    factor = note_num_0 / note_num_1\n",
    "    node_0, cooc_0 = factor_data(node_0, cooc_0, factor)\n",
    "else:\n",
    "    factor = note_num_1 / note_num_0\n",
    "    node_1, cooc_1 = factor_data(node_1, cooc_1, factor)"
   ]
  },
  {
   "cell_type": "code",
   "execution_count": null,
   "metadata": {},
   "outputs": [],
   "source": [
    "# --------------- co-occurrences --------------->\n",
    "key_set_cooc = set()\n",
    " \n",
    "for k,_ in cooc_0.items():\n",
    "    key_set_cooc.add(k)\n",
    "    \n",
    "for k,_ in cooc_1.items():\n",
    "    key_set_cooc.add(k)\n",
    "        \n",
    "# Get the set of coocurrencies from two groups\n",
    "# Count log_odd_score\n",
    "# For graph all vals should be non-negative or finite so add\n",
    "# add_val = 7\n",
    "\n",
    "cooc_odd_scores = {}\n",
    "for set_item in key_set_cooc:\n",
    "    if set_item in cooc_0 and set_item in cooc_1: \n",
    "        d_prob = cooc_0[set_item]/(cooc_0[set_item] + cooc_1[set_item])\n",
    "        a_prob = cooc_1[set_item]/(cooc_0[set_item] + cooc_1[set_item])\n",
    "        log_odd_score = math.log((d_prob + 0.001)/(a_prob+0.001))\n",
    "        cooc_odd_scores[set_item] = log_odd_score\n",
    "    elif set_item in cooc_0:\n",
    "        log_odd_score = math.log((1.001)/(0.001))\n",
    "        cooc_odd_scores[set_item] = log_odd_score\n",
    "    elif set_item in cooc_1:\n",
    "        log_odd_score = math.log((0.001)/(1.001))\n",
    "        cooc_odd_scores[set_item] = log_odd_score\n",
    "# --------------- co-occurrences ---------------<\n",
    "\n",
    "\n",
    "# --------------- nodes --------------->\n",
    "key_set_node = set()\n",
    " \n",
    "for k,_ in node_0.items():\n",
    "    key_set_node.add(k)\n",
    "    \n",
    "for k,_ in node_1.items():\n",
    "    key_set_node.add(k)\n",
    "\n",
    "node_odd_scores = {}\n",
    "\n",
    "for set_item in key_set_node:\n",
    "    if set_item in node_0 and set_item in node_1:\n",
    "        d_prob = node_0[set_item]/(node_0[set_item] + node_1[set_item])\n",
    "        a_prob = node_1[set_item]/(node_0[set_item] + node_1[set_item])\n",
    "        log_odd_score = math.log((d_prob + 0.001)/(a_prob+0.001))\n",
    "        node_odd_scores[set_item] = log_odd_score\n",
    "    elif set_item in node_0:\n",
    "        log_odd_score = math.log((1.001)/(0.001))\n",
    "        node_odd_scores[set_item] = log_odd_score\n",
    "    elif set_item in node_1:\n",
    "        log_odd_score = math.log((0.001)/(1.001))\n",
    "        node_odd_scores[set_item] = log_odd_score\n",
    "        \n",
    "# --------------- nodes ---------------<"
   ]
  },
  {
   "cell_type": "code",
   "execution_count": null,
   "metadata": {},
   "outputs": [],
   "source": [
    "# # reverse\n",
    "# # --------------- co-occurrences --------------->\n",
    "# key_set_cooc = set()\n",
    " \n",
    "# for k,_ in cooc_0.items():\n",
    "#     key_set_cooc.add(k)\n",
    "    \n",
    "# for k,_ in cooc_1.items():\n",
    "#     key_set_cooc.add(k)\n",
    "        \n",
    "# # Get the set of coocurrencies from two groups\n",
    "# # Count log_odd_score\n",
    "# # For graph all vals should be non-negative or finite so add\n",
    "# # add_val = 7\n",
    "\n",
    "# cooc_odd_scores = {}\n",
    "# for set_item in key_set_cooc:\n",
    "#     if set_item in cooc_0 and set_item in cooc_1: \n",
    "#         d_prob = cooc_0[set_item]/(cooc_0[set_item] + cooc_1[set_item])\n",
    "#         a_prob = cooc_1[set_item]/(cooc_0[set_item] + cooc_1[set_item])\n",
    "#         log_odd_score = math.log((a_prob + 0.001)/(d_prob+0.001))\n",
    "#         cooc_odd_scores[set_item] = log_odd_score\n",
    "#     elif set_item in cooc_0:\n",
    "#         log_odd_score = math.log((0.001)/(1.001))\n",
    "#         cooc_odd_scores[set_item] = log_odd_score\n",
    "#     elif set_item in cooc_1:\n",
    "#         log_odd_score = math.log((1.001)/(0.001))\n",
    "#         cooc_odd_scores[set_item] = log_odd_score\n",
    "# # --------------- co-occurrences ---------------<\n",
    "\n",
    "\n",
    "# # --------------- nodes --------------->\n",
    "# key_set_node = set()\n",
    " \n",
    "# for k,_ in node_0.items():\n",
    "#     key_set_node.add(k)\n",
    "    \n",
    "# for k,_ in node_1.items():\n",
    "#     key_set_node.add(k)\n",
    "\n",
    "# node_odd_scores = {}\n",
    "\n",
    "# for set_item in key_set_node:\n",
    "#     if set_item in node_0 and set_item in node_1:\n",
    "#         d_prob = node_0[set_item]/(node_0[set_item] + node_1[set_item])\n",
    "#         a_prob = node_1[set_item]/(node_0[set_item] + node_1[set_item])\n",
    "#         log_odd_score = math.log((a_prob + 0.001)/(d_prob+0.001))\n",
    "#         node_odd_scores[set_item] = log_odd_score\n",
    "#     elif set_item in node_0:\n",
    "#         log_odd_score = math.log((0.001)/(1.001))\n",
    "#         node_odd_scores[set_item] = log_odd_score\n",
    "#     elif set_item in node_1:\n",
    "#         log_odd_score = math.log((1.001)/(0.001))\n",
    "#         node_odd_scores[set_item] = log_odd_score\n",
    "        \n",
    "# # --------------- nodes ---------------<"
   ]
  },
  {
   "cell_type": "markdown",
   "metadata": {},
   "source": [
    "##### node_1, cooc_1, note_num_1 = count_cooc(pneumonia_alive_no_disch, word_dict, 0.4)\n",
    "##### node_1:<br>\n",
    " {('dizzi',): -4.33079264644291, ('declin',): -3.6529091077505194, ('lpm',): -4.423462788074487, ('chip',): -4.461462378958093, ('ambul',): -3.566104065928452, ('commod',): -4.21489279890363, ('chair',): -2.4543472242307707, ('gait',): -4.313892541987928, ('oob',): -2.340622980523374, ('pleasant',): -3.2429961822606135, ('lat',): -3.327113364024518, ('lift',): -3.862295109772474, ('neo',): -3.549888779449701, ('dopamin',): -3.9294037627019867, ('prognosi',): -4.500927581180734, ('habitu',): -4.280904227007925, ('levoph',): -2.241172484652701, ('db',): -3.834504782130787, ('platelet',): -4.3619321816998955, ('wish',): -3.9457052860269988, ('paralyt',): -3.862295109772474, ('dnr',): -1.8966192450664034, ('pronounc',): -4.537797478317278, ('qtc',): -4.477066229404452, ('ctx',): -3.5959330227125115, ('cloth',): -3.8281953513199753, ('jewelri',): -3.9839551117423353, ('signatur',): -3.988836951247187, ('money',): -3.9986700762422154, ('cash',): -4.006106572907244, ('wallet',): -4.04669477676134, ('dni',): -2.4865557197504664, ('bromid',): -4.580387854328709, ('diaphoresi',): -4.347975609354509, ('zyprexa',): -3.913353796790437, ('mean',): -4.513070364234574, ('dic',): -3.9986700762422154, ('deterior',): -4.242666572687126, ('arrest',): -3.600987401838628, ('bottl',): -4.190818456621447, ('mellitu',): -3.1405035496708233, ('norepinephrin',): -3.6353162780431365, ('unstabl',): -4.3796492376767855, ('fibrinogen',): -2.6264081058358877, ('captopril',): -3.6963716211021547, ('clinician',): -4.533634515833058, ('palli',): -4.099775118146253, ('motor',): -4.358425199701849, ('muir',): -4.248941627491397, ('video',): -4.026201981191956, ('scar',): -3.962266545761157, ('vasopressin',): -4.119016203979198, ('osa',): -3.7112677634014246, ('ppd',): -4.358425199701849, ('ardsnet',): -4.3172503864357035, ('incent',): -4.293972751685429, ('sweat',): -4.334206305049073, ('seroquel',): -3.7056569269905486, ('nectar',): -4.211852561648267, ('phenylephrin',): -4.496911825355134, ('readmit',): -4.097055401635497, ('sensat',): -4.327390300638442, ('asthma',): -2.8804147257612147, ('omeprazol',): -4.031287303554063, ('gabapentin',): -4.457598313604943, ('anur',): -4.2679997460933885, ('hive',): -3.4155399872138723, ('ipf',): -4.300569863172385, ('cvvh',): -4.239543335408183, ('pea',): -4.293972751685429, ('crrt',): -4.320619245240908, ('anuria',): -4.3105456391315276}\n",
    "##### cooc_1:<br>\n",
    " {('chair', 'oob'): 1351.0, ('dnr', 'levoph'): 238.0, ('cloth', 'jewelri'): 401.0, ('cloth', 'signatur'): 405.99999999999994, ('jewelri', 'signatur'): 401.0, ('jewelri', 'money'): 403.0, ('money', 'signatur'): 402.0, ('cloth', 'money'): 400.0, ('cash', 'money'): 395.0, ('cash', 'signatur'): 395.0, ('cash', 'jewelri'): 395.0, ('cash', 'cloth'): 395.0, ('money', 'wallet'): 388.0, ('signatur', 'wallet'): 387.0, ('jewelri', 'wallet'): 385.0, ('cloth', 'wallet'): 385.0, ('cash', 'wallet'): 381.0, ('dni', 'dnr'): 1616.0, ('dic', 'fibrinogen'): 245.00000000000003, ('levoph', 'norepinephrin'): 379.0, ('dnr', 'fibrinogen'): 513.0, ('arrest', 'pea'): 281.0}<br>\n",
    "##### note_num_1: 22888"
   ]
  },
  {
   "cell_type": "markdown",
   "metadata": {},
   "source": [
    "##### node_0, cooc_0, note_num_0 = count_cooc(pneumonia_dead_no_disch, word_dict, 0.4)\n",
    "##### node_0:<br>\n",
    " {('arrest',): -3.3561611519099364, ('pea',): -4.199696993735627, ('norepinephrin',): -2.293638171639175, ('vasopressin',): -2.5253858094165973, ('paralyt',): -3.0365906566757936, ('cpr',): -3.2627395186444086, ('dic',): -3.2929879512427758, ('pcv',): -3.310661834805849, ('phenylephrin',): -3.577451434225452, ('bicarbon',): -4.34453945099169, ('azotemia',): -4.485406290187729, ('levoph',): -1.1554495098253454, ('clinician',): -3.8428490022583963, ('neosynephrin',): -4.04551799298638, ('anur',): -3.6005892329025313, ('recruit',): -4.393552451379459, ('profound',): -4.571287954667523, ('clergi',): -4.119733693851249, ('expir',): -4.286391673741169, ('suffer',): -4.458310726090178, ('priest',): -4.381077855234786, ('sluggish',): -4.199696993735627, ('dnr',): -1.3378228083952002, ('dni',): -1.9068870266293398, ('cmo',): -2.6758614417408477, ('lat',): -4.019003941292965, ('video',): -4.499228062049621, ('wish',): -3.0789476687089894, ('mso',): -3.7995601077633268, ('prognosi',): -2.820218832606338, ('option',): -3.408546846704825, ('purpl',): -4.210142894247106, ('pronounc',): -4.100674481809696, ('dead',): -4.381077855234786, ('ipf',): -3.9762671246199655, ('db',): -4.168979875720033, ('life',): -3.7378108130539798, ('chair',): -3.245827870347851, ('oob',): -3.2929879512427758, ('dopamin',): -3.8066515379794073, ('cvvhd',): -3.3796555096699947, ('corneal',): -4.571287954667523, ('crrt',): -3.3796555096699947, ('cvvh',): -3.033133472856823, ('deterior',): -4.418966594713424, ('vasopressor',): -4.418966594713424, ('ffp',): -3.168918889444561, ('platelet',): -3.394003620819083, ('unstabl',): -3.9035108342681517, ('mtg',): -3.666965096233827, ('ethic',): -4.445027317327342, ('hugger',): -3.77856979284853, ('bair',): -3.951444906038507, ('hypotherm',): -3.9192447201998557, ('declin',): -2.761881425433793, ('neo',): -2.7115663628018414, ('motil',): -3.9433008893777157, ('triadyn',): -3.951444906038507, ('escal',): -3.624245305663157, ('palli',): -2.9468480286861407, ('readdress',): -4.320883837253364, ('dobutamin',): -3.8066515379794073, ('anuria',): -4.406180736632996, ('oncologist',): -4.129396792724384, ('hospic',): -4.04551799298638, ('cardiovert',): -4.001697367879116, ('scar',): -4.010314548525898, ('oligur',): -4.458310726090178, ('ardsnet',): -3.872738742093436, ('cisatracurium',): -3.835508454943827, ('twitch',): -4.297760889073061, ('grave',): -4.541851323851156, ('fibrinogen',): -1.9957845932978937, ('gentamycin',): -4.458310726090178, ('hive',): -4.2206958055725, ('echocardiogram',): -4.320883837253364, ('lotion',): -4.556463579229293, ('dysynchron',): -4.458310726090178}<br>\n",
    "##### cooc_0:<br>\n",
    " {('arrest', 'cpr'): 87.0, ('arrest', 'pea'): 83.0, ('levoph', 'norepinephrin'): 358.0, ('fibrinogen', 'norepinephrin'): 335.0, ('dnr', 'norepinephrin'): 132.0, ('dni', 'norepinephrin'): 69.0, ('norepinephrin', 'vasopressin'): 136.0, ('levoph', 'vasopressin'): 374.0, ('dnr', 'vasopressin'): 103.0, ('fibrinogen', 'vasopressin'): 145.0, ('dnr', 'paralyt'): 92.0, ('levoph', 'paralyt'): 120.0, ('fibrinogen', 'paralyt'): 82.0, ('cpr', 'dnr'): 90.0, ('dic', 'norepinephrin'): 96.0, ('dic', 'levoph'): 118.0, ('dic', 'ffp'): 80.0, ('dic', 'fibrinogen'): 189.0, ('dic', 'dnr'): 76.0, ('neo', 'phenylephrin'): 72.0, ('fibrinogen', 'phenylephrin'): 92.0, ('anur', 'levoph'): 83.0, ('clergi', 'dnr'): 81.0, ('clergi', 'mtg'): 73.0, ('clergi', 'paralyt'): 72.0, ('dnr', 'levoph'): 326.0, ('dni', 'dnr'): 831.0, ('dni', 'levoph'): 173.0, ('cmo', 'dnr'): 165.0, ('cmo', 'dni'): 93.0, ('dnr', 'wish'): 126.0, ('dni', 'wish'): 81.0, ('dnr', 'prognosi'): 113.99999999999999, ('levoph', 'prognosi'): 112.00000000000001, ('declin', 'prognosi'): 87.0, ('norepinephrin', 'prognosi'): 90.0, ('dnr', 'option'): 79.0, ('dnr', 'life'): 90.0, ('life', 'paralyt'): 73.0, ('chair', 'oob'): 191.0, ('dopamin', 'levoph'): 75.0, ('cvvhd', 'levoph'): 128.0, ('crrt', 'levoph'): 134.0, ('crrt', 'vasopressin'): 68.0, ('crrt', 'cvvh'): 89.0, ('crrt', 'norepinephrin'): 90.0, ('crrt', 'fibrinogen'): 110.0, ('cvvh', 'levoph'): 145.0, ('cvvh', 'vasopressin'): 72.0, ('cvvh', 'prognosi'): 69.0, ('cvvh', 'fibrinogen'): 176.0, ('cvvh', 'norepinephrin'): 173.0, ('ffp', 'levoph'): 129.0, ('ffp', 'fibrinogen'): 143.0, ('ffp', 'norepinephrin'): 112.99999999999999, ('levoph', 'platelet'): 121.00000000000001, ('dnr', 'platelet'): 77.0, ('fibrinogen', 'platelet'): 132.0, ('dic', 'platelet'): 95.0, ('dnr', 'mtg'): 94.0, ('mtg', 'paralyt'): 71.0, ('bair', 'hugger'): 99.0, ('bair', 'levoph'): 72.0, ('hypotherm', 'levoph'): 68.0, ('declin', 'levoph'): 96.0, ('declin', 'dnr'): 81.0, ('declin', 'fibrinogen'): 76.0, ('declin', 'norepinephrin'): 73.0, ('levoph', 'neo'): 144.0, ('dnr', 'neo'): 83.0, ('dnr', 'escal'): 88.0, ('dnr', 'palli'): 184.0, ('dni', 'palli'): 151.0, ('levoph', 'palli'): 95.0, ('dobutamin', 'levoph'): 92.0, ('hospic', 'palli'): 70.0, ('dnr', 'hospic'): 68.0, ('cardiovert', 'levoph'): 82.0, ('cisatracurium', 'fibrinogen'): 82.0, ('fibrinogen', 'levoph'): 335.0, ('dnr', 'fibrinogen'): 192.0, ('fibrinogen', 'hive'): 88.0}<br>\n",
    "##### note_num_0: 6607"
   ]
  },
  {
   "cell_type": "code",
   "execution_count": null,
   "metadata": {
    "scrolled": true
   },
   "outputs": [],
   "source": [
    "node_odd_scores"
   ]
  },
  {
   "cell_type": "code",
   "execution_count": null,
   "metadata": {
    "scrolled": true
   },
   "outputs": [],
   "source": [
    "cooc_odd_scores"
   ]
  },
  {
   "cell_type": "code",
   "execution_count": null,
   "metadata": {},
   "outputs": [],
   "source": [
    "# Data normalization\n",
    "import numpy\n",
    "def norm_arr(array):\n",
    "    arr = numpy.array(list(array))\n",
    "    start = 0\n",
    "    end = 1\n",
    "    width = end - start\n",
    "    res = (arr - arr.min())/(arr.max() - arr.min()) * width + start\n",
    "    return res.tolist()"
   ]
  },
  {
   "cell_type": "code",
   "execution_count": null,
   "metadata": {},
   "outputs": [],
   "source": [
    "node_keys, node_values = zip(*node_odd_scores.items())\n",
    "cooc_keys, cooc_values = zip(*cooc_odd_scores.items())\n",
    "\n",
    "new_node_odd_scores = dict(zip(node_keys, norm_arr(node_values)))\n",
    "new_cooc_odd_scores = dict(zip(cooc_keys, norm_arr(cooc_values)))"
   ]
  },
  {
   "cell_type": "code",
   "execution_count": null,
   "metadata": {
    "scrolled": true
   },
   "outputs": [],
   "source": [
    "print(new_node_odd_scores)"
   ]
  },
  {
   "cell_type": "code",
   "execution_count": null,
   "metadata": {},
   "outputs": [],
   "source": []
  },
  {
   "cell_type": "code",
   "execution_count": null,
   "metadata": {},
   "outputs": [],
   "source": []
  },
  {
   "cell_type": "code",
   "execution_count": null,
   "metadata": {},
   "outputs": [],
   "source": [
    "source = []\n",
    "target = []\n",
    "weight = []\n",
    "for k,v in new_cooc_odd_scores.items():\n",
    "    source.append(k[0])\n",
    "    target.append(k[1])\n",
    "    weight.append(v)\n",
    "print(len(source))\n",
    "print(len(target))\n",
    "print(len(weight))\n",
    "\n"
   ]
  },
  {
   "cell_type": "code",
   "execution_count": null,
   "metadata": {},
   "outputs": [],
   "source": [
    "node = []\n",
    "node_weight = []\n",
    "node_subject = []\n",
    "for k,v in node_odd_scores.items():\n",
    "    node.append(k)\n",
    "    node_weight.append(v)\n",
    "    if v == 6.90875477931522:\n",
    "        node_subject.append('dead')\n",
    "    elif v == -6.90875477931522:\n",
    "        node_subject.append('alive')\n",
    "    else:\n",
    "        node_subject.append('both')\n",
    "    \n",
    "print(len(node))\n",
    "print(len(node_weight))\n",
    "print(len(node_subject))\n"
   ]
  },
  {
   "cell_type": "code",
   "execution_count": null,
   "metadata": {},
   "outputs": [],
   "source": [
    "node_weight"
   ]
  },
  {
   "cell_type": "code",
   "execution_count": null,
   "metadata": {
    "scrolled": true
   },
   "outputs": [],
   "source": [
    "print(node)\n",
    "print()\n",
    "print(node_weight)\n",
    "print()\n",
    "print(node_weight[node.index('oob')])"
   ]
  },
  {
   "cell_type": "code",
   "execution_count": null,
   "metadata": {},
   "outputs": [],
   "source": [
    "# intialise data of lists. \n",
    "node_data = {'node':node, 'weight':node_weight, 'subject':node_subject} \n",
    "node_raw_content = pd.DataFrame(node_data)"
   ]
  },
  {
   "cell_type": "code",
   "execution_count": null,
   "metadata": {
    "scrolled": false
   },
   "outputs": [],
   "source": [
    "node_raw_content"
   ]
  },
  {
   "cell_type": "code",
   "execution_count": null,
   "metadata": {},
   "outputs": [],
   "source": [
    "node_raw_content = node_raw_content.set_index(\"node\")\n",
    "node_raw_content"
   ]
  },
  {
   "cell_type": "code",
   "execution_count": null,
   "metadata": {},
   "outputs": [],
   "source": [
    "subjects = node_raw_content[\"subject\"]\n",
    "subjects"
   ]
  },
  {
   "cell_type": "code",
   "execution_count": null,
   "metadata": {
    "scrolled": true
   },
   "outputs": [],
   "source": [
    "# square_node_data = pd.DataFrame({\"feauture\":node_weight}, index=node)\n",
    "square_node_data = pd.DataFrame(index=node)\n",
    "square_node_data"
   ]
  },
  {
   "cell_type": "code",
   "execution_count": null,
   "metadata": {
    "scrolled": true
   },
   "outputs": [],
   "source": [
    "square_edge_data = pd.DataFrame(\n",
    "    {\n",
    "        \"source\": source,\n",
    "        \"target\": target,\n",
    "        \"weight\": weight,\n",
    "#         \"feature\": weight,\n",
    "    }\n",
    ")\n",
    "square_edge_data"
   ]
  },
  {
   "cell_type": "code",
   "execution_count": null,
   "metadata": {},
   "outputs": [],
   "source": [
    "from sklearn.manifold import TSNE\n",
    "from sklearn.model_selection import train_test_split\n",
    "from sklearn.linear_model import LogisticRegressionCV\n",
    "from sklearn.metrics import accuracy_score\n",
    "from sklearn.metrics.pairwise import pairwise_distances\n",
    "from sklearn import preprocessing\n",
    "\n",
    "import numpy as np\n",
    "\n",
    "from stellargraph.data import BiasedRandomWalk\n",
    "from stellargraph import StellarGraph\n",
    "\n",
    "from gensim.models import Word2Vec\n",
    "\n",
    "import warnings\n",
    "import collections\n",
    "from stellargraph import datasets\n",
    "from IPython.display import display, HTML\n",
    "import matplotlib.pyplot as plt\n",
    "\n",
    "%matplotlib inline"
   ]
  },
  {
   "cell_type": "code",
   "execution_count": null,
   "metadata": {},
   "outputs": [],
   "source": [
    "walk_length = 100  # maximum length of a random walk to use throughout this notebook"
   ]
  },
  {
   "cell_type": "code",
   "execution_count": null,
   "metadata": {},
   "outputs": [],
   "source": [
    "G = StellarGraph(\n",
    "    {\"corner\": square_node_data}, {\"line\": square_edge_data}\n",
    ")\n",
    "print(G.info())"
   ]
  },
  {
   "cell_type": "code",
   "execution_count": null,
   "metadata": {},
   "outputs": [],
   "source": [
    "_, weights = G.edges(include_edge_weight=True)\n",
    "\n",
    "wt, cnt = np.unique(weights, return_counts=True)\n",
    "\n",
    "plt.figure(figsize=(10, 8))\n",
    "plt.bar(wt, cnt, width=0.005, color=\"b\")\n",
    "plt.title(\"Edge weights histogram\")\n",
    "plt.ylabel(\"Count\")\n",
    "plt.xlabel(\"edge weights\")\n",
    "plt.xticks(np.linspace(0, 1, 10))\n",
    "\n",
    "plt.show()"
   ]
  },
  {
   "cell_type": "code",
   "execution_count": null,
   "metadata": {},
   "outputs": [],
   "source": [
    "rw = BiasedRandomWalk(G)"
   ]
  },
  {
   "cell_type": "code",
   "execution_count": null,
   "metadata": {},
   "outputs": [],
   "source": [
    "weighted_walks = rw.run(\n",
    "    nodes=G.nodes(),  # root nodes\n",
    "    length=walk_length,  # maximum length of a random walk\n",
    "    n=10,  # number of random walks per root node\n",
    "    p=0.5,  # Defines (unormalised) probability, 1/p, of returning to source node\n",
    "    q=2.0,  # Defines (unormalised) probability, 1/q, for moving away from source node\n",
    "    weighted=True,  # for weighted random walks\n",
    "    seed=42,  # random seed fixed for reproducibility\n",
    ")\n",
    "print(\"Number of random walks: {}\".format(len(weighted_walks)))"
   ]
  },
  {
   "cell_type": "code",
   "execution_count": null,
   "metadata": {},
   "outputs": [],
   "source": [
    "weighted_model = Word2Vec(\n",
    "    weighted_walks, size=128, window=5, min_count=0, sg=1, workers=1, iter=1\n",
    ")"
   ]
  },
  {
   "cell_type": "code",
   "execution_count": null,
   "metadata": {},
   "outputs": [],
   "source": [
    "# The embedding vectors can be retrieved from model.wv using the node ID as key.\n",
    "# E.g., for node id '19231', the embedding vector is retrieved as\n",
    "emb = weighted_model.wv[\"cmo\"]\n",
    "emb.shape"
   ]
  },
  {
   "cell_type": "code",
   "execution_count": null,
   "metadata": {},
   "outputs": [],
   "source": [
    "# Retrieve node embeddings and corresponding subjects\n",
    "node_ids = weighted_model.wv.index2word  # list of node IDs\n",
    "weighted_node_embeddings = (\n",
    "    weighted_model.wv.vectors\n",
    ")  # numpy.ndarray of size number of nodes times embeddings dimensionality\n",
    "# the gensim ordering may not match the StellarGraph one, so rearrange\n",
    "node_targets = subjects.loc[node_ids].astype(\"category\")"
   ]
  },
  {
   "cell_type": "code",
   "execution_count": null,
   "metadata": {},
   "outputs": [],
   "source": [
    "weighted_node_embeddings.shape"
   ]
  },
  {
   "cell_type": "code",
   "execution_count": null,
   "metadata": {},
   "outputs": [],
   "source": [
    "weighted_node_embeddings"
   ]
  },
  {
   "cell_type": "code",
   "execution_count": null,
   "metadata": {},
   "outputs": [],
   "source": [
    "# Apply t-SNE transformation on node embeddings\n",
    "tsne = TSNE(n_components=2, random_state=42)\n",
    "weighted_node_embeddings_2d = tsne.fit_transform(weighted_node_embeddings)"
   ]
  },
  {
   "cell_type": "markdown",
   "metadata": {},
   "source": [
    "### Plot the embeddings generated from weighted random walks"
   ]
  },
  {
   "cell_type": "code",
   "execution_count": null,
   "metadata": {},
   "outputs": [],
   "source": [
    "# draw the points\n",
    "alpha = 0.7\n",
    "\n",
    "plt.figure(figsize=(10, 8))\n",
    "plt.scatter(\n",
    "    weighted_node_embeddings_2d[:, 0],\n",
    "    weighted_node_embeddings_2d[:, 1],\n",
    "    c=node_targets.cat.codes,\n",
    "    cmap=\"jet\",\n",
    "    alpha=0.7,\n",
    ")\n",
    "plt.show()"
   ]
  },
  {
   "cell_type": "code",
   "execution_count": null,
   "metadata": {},
   "outputs": [],
   "source": [
    "# X will hold the 128-dimensional input features\n",
    "X = weighted_node_embeddings\n",
    "# y holds the corresponding target values\n",
    "y = np.array(node_targets)"
   ]
  },
  {
   "cell_type": "markdown",
   "metadata": {},
   "source": [
    "#### Train and Test split"
   ]
  },
  {
   "cell_type": "code",
   "execution_count": null,
   "metadata": {},
   "outputs": [],
   "source": [
    "X_train, X_test, y_train, y_test = train_test_split(\n",
    "    X, y, train_size=0.75, test_size=None, random_state=42\n",
    ")\n",
    "print(\n",
    "    \"Array shapes:\\n X_train = {}\\n y_train = {}\\n X_test = {}\\n y_test = {}\".format(\n",
    "        X_train.shape, y_train.shape, X_test.shape, y_test.shape\n",
    "    )\n",
    ")"
   ]
  },
  {
   "cell_type": "code",
   "execution_count": null,
   "metadata": {},
   "outputs": [],
   "source": [
    "y_test "
   ]
  },
  {
   "cell_type": "markdown",
   "metadata": {},
   "source": [
    "#### Classifier Training"
   ]
  },
  {
   "cell_type": "code",
   "execution_count": null,
   "metadata": {},
   "outputs": [],
   "source": [
    "clf = LogisticRegressionCV(\n",
    "    Cs=10,\n",
    "    cv=10,\n",
    "    tol=0.001,\n",
    "    max_iter=1000,\n",
    "    scoring=\"accuracy\",\n",
    "    verbose=False,\n",
    "    multi_class=\"ovr\",\n",
    "    random_state=5434,\n",
    ")\n",
    "clf.fit(X_train, y_train)"
   ]
  },
  {
   "cell_type": "code",
   "execution_count": null,
   "metadata": {},
   "outputs": [],
   "source": [
    "y_pred = clf.predict(X_test)"
   ]
  },
  {
   "cell_type": "code",
   "execution_count": null,
   "metadata": {},
   "outputs": [],
   "source": [
    "accuracy_score(y_test, y_pred)"
   ]
  },
  {
   "cell_type": "code",
   "execution_count": null,
   "metadata": {},
   "outputs": [],
   "source": []
  },
  {
   "cell_type": "code",
   "execution_count": null,
   "metadata": {},
   "outputs": [],
   "source": [
    "X_test"
   ]
  },
  {
   "cell_type": "code",
   "execution_count": null,
   "metadata": {},
   "outputs": [],
   "source": [
    "y_test"
   ]
  },
  {
   "cell_type": "code",
   "execution_count": null,
   "metadata": {},
   "outputs": [],
   "source": [
    "y_pred"
   ]
  },
  {
   "cell_type": "code",
   "execution_count": null,
   "metadata": {},
   "outputs": [],
   "source": [
    "# target_names = []\n",
    "# for k, _ in labels_dict.items():\n",
    "#     target_names.append(k)\n",
    "target_names = ['dead', 'alive', 'both']\n",
    "target_names = sorted(target_names)\n",
    "\n",
    "from sklearn.metrics import classification_report\n",
    "import numpy as np\n",
    "\n",
    "y_test = np.argmax(y_test, axis=1) # Convert one-hot to index\n",
    "y_pred = clf.predict(X_test)\n",
    "\n",
    "print(classification_report(y_test, y_pred, target_names=target_names))"
   ]
  },
  {
   "cell_type": "markdown",
   "metadata": {},
   "source": [
    "### Evaluation part"
   ]
  },
  {
   "cell_type": "code",
   "execution_count": null,
   "metadata": {},
   "outputs": [],
   "source": []
  },
  {
   "cell_type": "code",
   "execution_count": null,
   "metadata": {},
   "outputs": [],
   "source": []
  },
  {
   "cell_type": "markdown",
   "metadata": {},
   "source": [
    "### Link prediction failed"
   ]
  },
  {
   "cell_type": "code",
   "execution_count": null,
   "metadata": {},
   "outputs": [],
   "source": [
    "import matplotlib.pyplot as plt\n",
    "from math import isclose\n",
    "from sklearn.decomposition import PCA\n",
    "import os\n",
    "import networkx as nx\n",
    "import numpy as np\n",
    "import pandas as pd\n",
    "from stellargraph import StellarGraph, datasets\n",
    "from stellargraph.data import EdgeSplitter\n",
    "from collections import Counter\n",
    "import multiprocessing\n",
    "from IPython.display import display, HTML\n",
    "from sklearn.model_selection import train_test_split\n",
    "\n",
    "%matplotlib inline"
   ]
  },
  {
   "cell_type": "code",
   "execution_count": null,
   "metadata": {},
   "outputs": [],
   "source": [
    "graph = StellarGraph(\n",
    "    {\"corner\": square_node_data}, {\"line\": square_edge_data}\n",
    ")\n",
    "print(graph.info())"
   ]
  },
  {
   "cell_type": "code",
   "execution_count": null,
   "metadata": {},
   "outputs": [],
   "source": [
    "# Define an edge splitter on the original graph:\n",
    "edge_splitter_test = EdgeSplitter(graph)\n",
    "\n",
    "# Randomly sample a fraction p=0.1 of all positive links, and same number of negative links, from graph, and obtain the\n",
    "# reduced graph graph_test with the sampled links removed:\n",
    "graph_test, examples_test, labels_test = edge_splitter_test.train_test_split(\n",
    "    p=0.1, method=\"global\"\n",
    ")\n",
    "\n",
    "print(graph_test.info())"
   ]
  },
  {
   "cell_type": "code",
   "execution_count": null,
   "metadata": {},
   "outputs": [],
   "source": [
    "# Do the same process to compute a training subset from within the test graph\n",
    "edge_splitter_train = EdgeSplitter(graph_test, graph)\n",
    "graph_train, examples, labels = edge_splitter_train.train_test_split(\n",
    "    p=0.1, method=\"global\"\n",
    ")\n",
    "(\n",
    "    examples_train,\n",
    "    examples_model_selection,\n",
    "    labels_train,\n",
    "    labels_model_selection,\n",
    ") = train_test_split(examples, labels, train_size=0.75, test_size=0.25)\n",
    "\n",
    "print(graph_train.info())"
   ]
  },
  {
   "cell_type": "code",
   "execution_count": null,
   "metadata": {},
   "outputs": [],
   "source": [
    "pd.DataFrame(\n",
    "    [\n",
    "        (\n",
    "            \"Training Set\",\n",
    "            len(examples_train),\n",
    "            \"Train Graph\",\n",
    "            \"Test Graph\",\n",
    "            \"Train the Link Classifier\",\n",
    "        ),\n",
    "        (\n",
    "            \"Model Selection\",\n",
    "            len(examples_model_selection),\n",
    "            \"Train Graph\",\n",
    "            \"Test Graph\",\n",
    "            \"Select the best Link Classifier model\",\n",
    "        ),\n",
    "        (\n",
    "            \"Test set\",\n",
    "            len(examples_test),\n",
    "            \"Test Graph\",\n",
    "            \"Full Graph\",\n",
    "            \"Evaluate the best Link Classifier\",\n",
    "        ),\n",
    "    ],\n",
    "    columns=(\"Split\", \"Number of Examples\", \"Hidden from\", \"Picked from\", \"Use\"),\n",
    ").set_index(\"Split\")"
   ]
  },
  {
   "cell_type": "code",
   "execution_count": null,
   "metadata": {},
   "outputs": [],
   "source": [
    "p = 1.0\n",
    "q = 1.0\n",
    "dimensions = 128\n",
    "num_walks = 10\n",
    "walk_length = 80\n",
    "window_size = 10\n",
    "num_iter = 1\n",
    "workers = multiprocessing.cpu_count()"
   ]
  },
  {
   "cell_type": "code",
   "execution_count": null,
   "metadata": {},
   "outputs": [],
   "source": [
    "from stellargraph.data import BiasedRandomWalk\n",
    "from gensim.models import Word2Vec\n",
    "\n",
    "\n",
    "def node2vec_embedding(graph, name):\n",
    "    rw = BiasedRandomWalk(graph)\n",
    "    walks = rw.run(graph.nodes(), n=num_walks, length=walk_length, p=p, q=q)\n",
    "    print(f\"Number of random walks for '{name}': {len(walks)}\")\n",
    "\n",
    "    model = Word2Vec(\n",
    "        walks,\n",
    "        size=dimensions,\n",
    "        window=window_size,\n",
    "        min_count=0,\n",
    "        sg=1,\n",
    "        workers=workers,\n",
    "        iter=num_iter,\n",
    "    )\n",
    "\n",
    "    def get_embedding(u):\n",
    "        return model.wv[u]\n",
    "\n",
    "    return get_embedding"
   ]
  },
  {
   "cell_type": "code",
   "execution_count": null,
   "metadata": {},
   "outputs": [],
   "source": [
    "embedding_train = node2vec_embedding(graph_train, \"Train Graph\")"
   ]
  },
  {
   "cell_type": "code",
   "execution_count": null,
   "metadata": {},
   "outputs": [],
   "source": [
    "from sklearn.pipeline import Pipeline\n",
    "from sklearn.linear_model import LogisticRegressionCV\n",
    "from sklearn.metrics import roc_auc_score\n",
    "from sklearn.preprocessing import StandardScaler\n",
    "\n",
    "\n",
    "# 1. link embeddings\n",
    "def link_examples_to_features(link_examples, transform_node, binary_operator):\n",
    "    return [\n",
    "        binary_operator(transform_node(src), transform_node(dst))\n",
    "        for src, dst in link_examples\n",
    "    ]\n",
    "\n",
    "\n",
    "# 2. training classifier\n",
    "def train_link_prediction_model(\n",
    "    link_examples, link_labels, get_embedding, binary_operator\n",
    "):\n",
    "    clf = link_prediction_classifier()\n",
    "    link_features = link_examples_to_features(\n",
    "        link_examples, get_embedding, binary_operator\n",
    "    )\n",
    "    clf.fit(link_features, link_labels)\n",
    "    return clf\n",
    "\n",
    "\n",
    "def link_prediction_classifier(max_iter=2000):\n",
    "    lr_clf = LogisticRegressionCV(Cs=10, cv=10, scoring=\"roc_auc\", max_iter=max_iter)\n",
    "    return Pipeline(steps=[(\"sc\", StandardScaler()), (\"clf\", lr_clf)])\n",
    "\n",
    "\n",
    "# 3. and 4. evaluate classifier\n",
    "def evaluate_link_prediction_model(\n",
    "    clf, link_examples_test, link_labels_test, get_embedding, binary_operator\n",
    "):\n",
    "    link_features_test = link_examples_to_features(\n",
    "        link_examples_test, get_embedding, binary_operator\n",
    "    )\n",
    "    score = evaluate_roc_auc(clf, link_features_test, link_labels_test)\n",
    "    return score\n",
    "\n",
    "\n",
    "def evaluate_roc_auc(clf, link_features, link_labels):\n",
    "    predicted = clf.predict_proba(link_features)\n",
    "\n",
    "    # check which class corresponds to positive links\n",
    "    positive_column = list(clf.classes_).index(1)\n",
    "    return roc_auc_score(link_labels, predicted[:, positive_column])"
   ]
  },
  {
   "cell_type": "code",
   "execution_count": null,
   "metadata": {},
   "outputs": [],
   "source": [
    "def operator_hadamard(u, v):\n",
    "    return u * v\n",
    "\n",
    "\n",
    "def operator_l1(u, v):\n",
    "    return np.abs(u - v)\n",
    "\n",
    "\n",
    "def operator_l2(u, v):\n",
    "    return (u - v) ** 2\n",
    "\n",
    "\n",
    "def operator_avg(u, v):\n",
    "    return (u + v) / 2.0\n",
    "\n",
    "\n",
    "def run_link_prediction(binary_operator):\n",
    "    clf = train_link_prediction_model(\n",
    "        examples_train, labels_train, embedding_train, binary_operator\n",
    "    )\n",
    "    score = evaluate_link_prediction_model(\n",
    "        clf,\n",
    "        examples_model_selection,\n",
    "        labels_model_selection,\n",
    "        embedding_train,\n",
    "        binary_operator,\n",
    "    )\n",
    "\n",
    "    return {\n",
    "        \"classifier\": clf,\n",
    "        \"binary_operator\": binary_operator,\n",
    "        \"score\": score,\n",
    "    }\n",
    "\n",
    "\n",
    "binary_operators = [operator_hadamard, operator_l1, operator_l2, operator_avg]"
   ]
  },
  {
   "cell_type": "code",
   "execution_count": null,
   "metadata": {},
   "outputs": [],
   "source": [
    "results = [run_link_prediction(op) for op in binary_operators]\n",
    "best_result = max(results, key=lambda result: result[\"score\"])\n",
    "\n",
    "print(f\"Best result from '{best_result['binary_operator'].__name__}'\")\n",
    "\n",
    "pd.DataFrame(\n",
    "    [(result[\"binary_operator\"].__name__, result[\"score\"]) for result in results],\n",
    "    columns=(\"name\", \"ROC AUC score\"),\n",
    ").set_index(\"name\")"
   ]
  },
  {
   "cell_type": "code",
   "execution_count": null,
   "metadata": {},
   "outputs": [],
   "source": []
  },
  {
   "cell_type": "code",
   "execution_count": null,
   "metadata": {},
   "outputs": [],
   "source": []
  },
  {
   "cell_type": "code",
   "execution_count": null,
   "metadata": {},
   "outputs": [],
   "source": []
  },
  {
   "cell_type": "markdown",
   "metadata": {},
   "source": [
    "### Cora dataset"
   ]
  },
  {
   "cell_type": "code",
   "execution_count": null,
   "metadata": {},
   "outputs": [],
   "source": [
    "cora_cites_file"
   ]
  },
  {
   "cell_type": "code",
   "execution_count": null,
   "metadata": {},
   "outputs": [],
   "source": [
    "from stellargraph.datasets import Cora\n",
    "import os\n",
    "\n",
    "cora = Cora()\n",
    "cora.download()\n",
    "\n",
    "# the base_directory property tells us where it was downloaded to:\n",
    "cora_cites_file = os.path.join(cora.base_directory, \"cora.cites\")\n",
    "cora_content_file = os.path.join(cora.base_directory, \"cora.content\")"
   ]
  },
  {
   "cell_type": "code",
   "execution_count": null,
   "metadata": {},
   "outputs": [],
   "source": [
    "cora_cites = pd.read_csv(\n",
    "    cora_cites_file,\n",
    "    sep=\"\\t\",  # tab-separated\n",
    "    header=None,  # no heading row\n",
    "    names=[\"target\", \"source\"],  # set our own names for the columns\n",
    ")\n",
    "cora_cites"
   ]
  },
  {
   "cell_type": "code",
   "execution_count": null,
   "metadata": {
    "scrolled": true
   },
   "outputs": [],
   "source": [
    "cora_feature_names = [f\"w{i}\" for i in range(1433)]\n",
    "\n",
    "cora_raw_content = pd.read_csv(\n",
    "    cora_content_file,\n",
    "    sep=\"\\t\",  # tab-separated\n",
    "    header=None,  # no heading row\n",
    "    names=[\"id\", *cora_feature_names, \"subject\"],  # set our own names for the columns\n",
    ")\n",
    "cora_raw_content"
   ]
  },
  {
   "cell_type": "code",
   "execution_count": null,
   "metadata": {},
   "outputs": [],
   "source": [
    "cora_content_str_subject = cora_raw_content.set_index(\"id\")\n",
    "cora_content_str_subject"
   ]
  },
  {
   "cell_type": "markdown",
   "metadata": {},
   "source": [
    "### 1. Removing columns"
   ]
  },
  {
   "cell_type": "code",
   "execution_count": null,
   "metadata": {},
   "outputs": [],
   "source": [
    "cora_content_no_subject = cora_content_str_subject.drop(columns=\"subject\")\n",
    "cora_content_no_subject"
   ]
  },
  {
   "cell_type": "code",
   "execution_count": null,
   "metadata": {},
   "outputs": [],
   "source": [
    "cora_no_subject = StellarGraph({\"paper\": cora_content_no_subject}, {\"cites\": cora_cites})\n",
    "print(cora_no_subject.info())"
   ]
  },
  {
   "cell_type": "code",
   "execution_count": null,
   "metadata": {},
   "outputs": [],
   "source": [
    "cora_subject = cora_content_str_subject[\"subject\"]\n",
    "cora_subject"
   ]
  }
 ],
 "metadata": {
  "kernelspec": {
   "display_name": "Python 3",
   "language": "python",
   "name": "python3"
  },
  "language_info": {
   "codemirror_mode": {
    "name": "ipython",
    "version": 3
   },
   "file_extension": ".py",
   "mimetype": "text/x-python",
   "name": "python",
   "nbconvert_exporter": "python",
   "pygments_lexer": "ipython3",
   "version": "3.7.6"
  }
 },
 "nbformat": 4,
 "nbformat_minor": 4
}
