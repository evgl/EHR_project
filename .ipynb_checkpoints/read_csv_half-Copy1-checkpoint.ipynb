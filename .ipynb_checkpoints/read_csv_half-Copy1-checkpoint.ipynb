{
 "cells": [
  {
   "cell_type": "markdown",
   "metadata": {},
   "source": [
    "### Data extraction\n",
    "Extract data from MIMIC-III"
   ]
  },
  {
   "cell_type": "code",
   "execution_count": 1,
   "metadata": {},
   "outputs": [
    {
     "data": {
      "text/html": [
       "        <script type=\"text/javascript\">\n",
       "        window.PlotlyConfig = {MathJaxConfig: 'local'};\n",
       "        if (window.MathJax) {MathJax.Hub.Config({SVG: {font: \"STIX-Web\"}});}\n",
       "        if (typeof require !== 'undefined') {\n",
       "        require.undef(\"plotly\");\n",
       "        requirejs.config({\n",
       "            paths: {\n",
       "                'plotly': ['https://cdn.plot.ly/plotly-latest.min']\n",
       "            }\n",
       "        });\n",
       "        require(['plotly'], function(Plotly) {\n",
       "            window._Plotly = Plotly;\n",
       "        });\n",
       "        }\n",
       "        </script>\n",
       "        "
      ]
     },
     "metadata": {},
     "output_type": "display_data"
    }
   ],
   "source": [
    "import time\n",
    "import numpy as np \n",
    "import pandas as pd\n",
    "import matplotlib.pyplot as plt\n",
    "import seaborn as sns\n",
    "from tqdm import tqdm\n",
    "\n",
    "# import re\n",
    "\n",
    "# import plotly.graph_objs as go\n",
    "# import plotly.plotly as py\n",
    "import cufflinks\n",
    "# from IPython.core.interactiveshell import InteractiveShell\n",
    "# import plotly.figure_factory as ff\n",
    "# InteractiveShell.ast_node_interactivity = 'all'\n",
    "# from plotly.offline import iplot\n",
    "cufflinks.go_offline()\n",
    "cufflinks.set_config_file(world_readable=True, theme='pearl')"
   ]
  },
  {
   "cell_type": "code",
   "execution_count": 2,
   "metadata": {},
   "outputs": [
    {
     "name": "stderr",
     "output_type": "stream",
     "text": [
      "/data/home/evgenii/anaconda3/lib/python3.7/site-packages/IPython/core/interactiveshell.py:3063: DtypeWarning:\n",
      "\n",
      "Columns (4,5) have mixed types.Specify dtype option on import or set low_memory=False.\n",
      "\n"
     ]
    },
    {
     "name": "stdout",
     "output_type": "stream",
     "text": [
      "40.919620990753174\n"
     ]
    }
   ],
   "source": [
    "# Import pandas \n",
    "import pandas as pd \n",
    "\n",
    "start = time.time()\n",
    "# reading csv file \n",
    "admissions_df = pd.read_csv(\"../MIMIC-III/ADMISSIONS.csv\")\n",
    "noteevents_df = pd.read_csv(\"../MIMIC-III/NOTEEVENTS.csv\") \n",
    "end = time.time()\n",
    "print(end - start)\n"
   ]
  },
  {
   "cell_type": "code",
   "execution_count": 3,
   "metadata": {},
   "outputs": [],
   "source": [
    "# diagnosis = df.DIAGNOSIS.unique()\n",
    "# #PNEUMONIA\n",
    "# for i in diagnosis:\n",
    "#     print(f\"[{i}]\")\n",
    "# data = df.copy()\n",
    "# data.info()\n",
    "\n",
    "# pneumonia_df = data.loc[df['DIAGNOSIS'] == 'PNEUMONIA']\n",
    "# pneumonia_df.info()"
   ]
  },
  {
   "cell_type": "code",
   "execution_count": 4,
   "metadata": {
    "scrolled": true
   },
   "outputs": [
    {
     "data": {
      "text/html": [
       "<div>\n",
       "<style scoped>\n",
       "    .dataframe tbody tr th:only-of-type {\n",
       "        vertical-align: middle;\n",
       "    }\n",
       "\n",
       "    .dataframe tbody tr th {\n",
       "        vertical-align: top;\n",
       "    }\n",
       "\n",
       "    .dataframe thead th {\n",
       "        text-align: right;\n",
       "    }\n",
       "</style>\n",
       "<table border=\"1\" class=\"dataframe\">\n",
       "  <thead>\n",
       "    <tr style=\"text-align: right;\">\n",
       "      <th></th>\n",
       "      <th>ROW_ID</th>\n",
       "      <th>SUBJECT_ID</th>\n",
       "      <th>HADM_ID</th>\n",
       "      <th>ADMITTIME</th>\n",
       "      <th>DISCHTIME</th>\n",
       "      <th>DEATHTIME</th>\n",
       "      <th>ADMISSION_TYPE</th>\n",
       "      <th>ADMISSION_LOCATION</th>\n",
       "      <th>DISCHARGE_LOCATION</th>\n",
       "      <th>INSURANCE</th>\n",
       "      <th>LANGUAGE</th>\n",
       "      <th>RELIGION</th>\n",
       "      <th>MARITAL_STATUS</th>\n",
       "      <th>ETHNICITY</th>\n",
       "      <th>EDREGTIME</th>\n",
       "      <th>EDOUTTIME</th>\n",
       "      <th>DIAGNOSIS</th>\n",
       "      <th>HOSPITAL_EXPIRE_FLAG</th>\n",
       "      <th>HAS_CHARTEVENTS_DATA</th>\n",
       "    </tr>\n",
       "  </thead>\n",
       "  <tbody>\n",
       "    <tr>\n",
       "      <th>0</th>\n",
       "      <td>21</td>\n",
       "      <td>22</td>\n",
       "      <td>165315</td>\n",
       "      <td>2196-04-09 12:26:00</td>\n",
       "      <td>2196-04-10 15:54:00</td>\n",
       "      <td>NaN</td>\n",
       "      <td>EMERGENCY</td>\n",
       "      <td>EMERGENCY ROOM ADMIT</td>\n",
       "      <td>DISC-TRAN CANCER/CHLDRN H</td>\n",
       "      <td>Private</td>\n",
       "      <td>NaN</td>\n",
       "      <td>UNOBTAINABLE</td>\n",
       "      <td>MARRIED</td>\n",
       "      <td>WHITE</td>\n",
       "      <td>2196-04-09 10:06:00</td>\n",
       "      <td>2196-04-09 13:24:00</td>\n",
       "      <td>BENZODIAZEPINE OVERDOSE</td>\n",
       "      <td>0</td>\n",
       "      <td>1</td>\n",
       "    </tr>\n",
       "    <tr>\n",
       "      <th>1</th>\n",
       "      <td>22</td>\n",
       "      <td>23</td>\n",
       "      <td>152223</td>\n",
       "      <td>2153-09-03 07:15:00</td>\n",
       "      <td>2153-09-08 19:10:00</td>\n",
       "      <td>NaN</td>\n",
       "      <td>ELECTIVE</td>\n",
       "      <td>PHYS REFERRAL/NORMAL DELI</td>\n",
       "      <td>HOME HEALTH CARE</td>\n",
       "      <td>Medicare</td>\n",
       "      <td>NaN</td>\n",
       "      <td>CATHOLIC</td>\n",
       "      <td>MARRIED</td>\n",
       "      <td>WHITE</td>\n",
       "      <td>NaN</td>\n",
       "      <td>NaN</td>\n",
       "      <td>CORONARY ARTERY DISEASE\\CORONARY ARTERY BYPASS...</td>\n",
       "      <td>0</td>\n",
       "      <td>1</td>\n",
       "    </tr>\n",
       "    <tr>\n",
       "      <th>2</th>\n",
       "      <td>23</td>\n",
       "      <td>23</td>\n",
       "      <td>124321</td>\n",
       "      <td>2157-10-18 19:34:00</td>\n",
       "      <td>2157-10-25 14:00:00</td>\n",
       "      <td>NaN</td>\n",
       "      <td>EMERGENCY</td>\n",
       "      <td>TRANSFER FROM HOSP/EXTRAM</td>\n",
       "      <td>HOME HEALTH CARE</td>\n",
       "      <td>Medicare</td>\n",
       "      <td>ENGL</td>\n",
       "      <td>CATHOLIC</td>\n",
       "      <td>MARRIED</td>\n",
       "      <td>WHITE</td>\n",
       "      <td>NaN</td>\n",
       "      <td>NaN</td>\n",
       "      <td>BRAIN MASS</td>\n",
       "      <td>0</td>\n",
       "      <td>1</td>\n",
       "    </tr>\n",
       "    <tr>\n",
       "      <th>3</th>\n",
       "      <td>24</td>\n",
       "      <td>24</td>\n",
       "      <td>161859</td>\n",
       "      <td>2139-06-06 16:14:00</td>\n",
       "      <td>2139-06-09 12:48:00</td>\n",
       "      <td>NaN</td>\n",
       "      <td>EMERGENCY</td>\n",
       "      <td>TRANSFER FROM HOSP/EXTRAM</td>\n",
       "      <td>HOME</td>\n",
       "      <td>Private</td>\n",
       "      <td>NaN</td>\n",
       "      <td>PROTESTANT QUAKER</td>\n",
       "      <td>SINGLE</td>\n",
       "      <td>WHITE</td>\n",
       "      <td>NaN</td>\n",
       "      <td>NaN</td>\n",
       "      <td>INTERIOR MYOCARDIAL INFARCTION</td>\n",
       "      <td>0</td>\n",
       "      <td>1</td>\n",
       "    </tr>\n",
       "    <tr>\n",
       "      <th>4</th>\n",
       "      <td>25</td>\n",
       "      <td>25</td>\n",
       "      <td>129635</td>\n",
       "      <td>2160-11-02 02:06:00</td>\n",
       "      <td>2160-11-05 14:55:00</td>\n",
       "      <td>NaN</td>\n",
       "      <td>EMERGENCY</td>\n",
       "      <td>EMERGENCY ROOM ADMIT</td>\n",
       "      <td>HOME</td>\n",
       "      <td>Private</td>\n",
       "      <td>NaN</td>\n",
       "      <td>UNOBTAINABLE</td>\n",
       "      <td>MARRIED</td>\n",
       "      <td>WHITE</td>\n",
       "      <td>2160-11-02 01:01:00</td>\n",
       "      <td>2160-11-02 04:27:00</td>\n",
       "      <td>ACUTE CORONARY SYNDROME</td>\n",
       "      <td>0</td>\n",
       "      <td>1</td>\n",
       "    </tr>\n",
       "    <tr>\n",
       "      <th>...</th>\n",
       "      <td>...</td>\n",
       "      <td>...</td>\n",
       "      <td>...</td>\n",
       "      <td>...</td>\n",
       "      <td>...</td>\n",
       "      <td>...</td>\n",
       "      <td>...</td>\n",
       "      <td>...</td>\n",
       "      <td>...</td>\n",
       "      <td>...</td>\n",
       "      <td>...</td>\n",
       "      <td>...</td>\n",
       "      <td>...</td>\n",
       "      <td>...</td>\n",
       "      <td>...</td>\n",
       "      <td>...</td>\n",
       "      <td>...</td>\n",
       "      <td>...</td>\n",
       "      <td>...</td>\n",
       "    </tr>\n",
       "    <tr>\n",
       "      <th>58971</th>\n",
       "      <td>58594</td>\n",
       "      <td>98800</td>\n",
       "      <td>191113</td>\n",
       "      <td>2131-03-30 21:13:00</td>\n",
       "      <td>2131-04-02 15:02:00</td>\n",
       "      <td>NaN</td>\n",
       "      <td>EMERGENCY</td>\n",
       "      <td>CLINIC REFERRAL/PREMATURE</td>\n",
       "      <td>HOME</td>\n",
       "      <td>Private</td>\n",
       "      <td>ENGL</td>\n",
       "      <td>NOT SPECIFIED</td>\n",
       "      <td>SINGLE</td>\n",
       "      <td>WHITE</td>\n",
       "      <td>2131-03-30 19:44:00</td>\n",
       "      <td>2131-03-30 22:41:00</td>\n",
       "      <td>TRAUMA</td>\n",
       "      <td>0</td>\n",
       "      <td>1</td>\n",
       "    </tr>\n",
       "    <tr>\n",
       "      <th>58972</th>\n",
       "      <td>58595</td>\n",
       "      <td>98802</td>\n",
       "      <td>101071</td>\n",
       "      <td>2151-03-05 20:00:00</td>\n",
       "      <td>2151-03-06 09:10:00</td>\n",
       "      <td>2151-03-06 09:10:00</td>\n",
       "      <td>EMERGENCY</td>\n",
       "      <td>CLINIC REFERRAL/PREMATURE</td>\n",
       "      <td>DEAD/EXPIRED</td>\n",
       "      <td>Medicare</td>\n",
       "      <td>ENGL</td>\n",
       "      <td>CATHOLIC</td>\n",
       "      <td>WIDOWED</td>\n",
       "      <td>WHITE</td>\n",
       "      <td>2151-03-05 17:23:00</td>\n",
       "      <td>2151-03-05 21:06:00</td>\n",
       "      <td>SAH</td>\n",
       "      <td>1</td>\n",
       "      <td>1</td>\n",
       "    </tr>\n",
       "    <tr>\n",
       "      <th>58973</th>\n",
       "      <td>58596</td>\n",
       "      <td>98805</td>\n",
       "      <td>122631</td>\n",
       "      <td>2200-09-12 07:15:00</td>\n",
       "      <td>2200-09-20 12:08:00</td>\n",
       "      <td>NaN</td>\n",
       "      <td>ELECTIVE</td>\n",
       "      <td>PHYS REFERRAL/NORMAL DELI</td>\n",
       "      <td>HOME HEALTH CARE</td>\n",
       "      <td>Private</td>\n",
       "      <td>ENGL</td>\n",
       "      <td>NOT SPECIFIED</td>\n",
       "      <td>MARRIED</td>\n",
       "      <td>WHITE</td>\n",
       "      <td>NaN</td>\n",
       "      <td>NaN</td>\n",
       "      <td>RENAL CANCER/SDA</td>\n",
       "      <td>0</td>\n",
       "      <td>1</td>\n",
       "    </tr>\n",
       "    <tr>\n",
       "      <th>58974</th>\n",
       "      <td>58597</td>\n",
       "      <td>98813</td>\n",
       "      <td>170407</td>\n",
       "      <td>2128-11-11 02:29:00</td>\n",
       "      <td>2128-12-22 13:11:00</td>\n",
       "      <td>NaN</td>\n",
       "      <td>EMERGENCY</td>\n",
       "      <td>EMERGENCY ROOM ADMIT</td>\n",
       "      <td>SNF</td>\n",
       "      <td>Private</td>\n",
       "      <td>ENGL</td>\n",
       "      <td>CATHOLIC</td>\n",
       "      <td>MARRIED</td>\n",
       "      <td>WHITE</td>\n",
       "      <td>2128-11-10 23:48:00</td>\n",
       "      <td>2128-11-11 03:16:00</td>\n",
       "      <td>S/P FALL</td>\n",
       "      <td>0</td>\n",
       "      <td>0</td>\n",
       "    </tr>\n",
       "    <tr>\n",
       "      <th>58975</th>\n",
       "      <td>58598</td>\n",
       "      <td>98813</td>\n",
       "      <td>190264</td>\n",
       "      <td>2131-10-25 03:09:00</td>\n",
       "      <td>2131-10-26 17:44:00</td>\n",
       "      <td>NaN</td>\n",
       "      <td>EMERGENCY</td>\n",
       "      <td>CLINIC REFERRAL/PREMATURE</td>\n",
       "      <td>HOME</td>\n",
       "      <td>Private</td>\n",
       "      <td>ENGL</td>\n",
       "      <td>CATHOLIC</td>\n",
       "      <td>MARRIED</td>\n",
       "      <td>WHITE</td>\n",
       "      <td>2131-10-25 00:08:00</td>\n",
       "      <td>2131-10-25 04:35:00</td>\n",
       "      <td>INTRACRANIAL HEMORRHAGE</td>\n",
       "      <td>0</td>\n",
       "      <td>1</td>\n",
       "    </tr>\n",
       "  </tbody>\n",
       "</table>\n",
       "<p>58976 rows × 19 columns</p>\n",
       "</div>"
      ],
      "text/plain": [
       "       ROW_ID  SUBJECT_ID  HADM_ID            ADMITTIME            DISCHTIME  \\\n",
       "0          21          22   165315  2196-04-09 12:26:00  2196-04-10 15:54:00   \n",
       "1          22          23   152223  2153-09-03 07:15:00  2153-09-08 19:10:00   \n",
       "2          23          23   124321  2157-10-18 19:34:00  2157-10-25 14:00:00   \n",
       "3          24          24   161859  2139-06-06 16:14:00  2139-06-09 12:48:00   \n",
       "4          25          25   129635  2160-11-02 02:06:00  2160-11-05 14:55:00   \n",
       "...       ...         ...      ...                  ...                  ...   \n",
       "58971   58594       98800   191113  2131-03-30 21:13:00  2131-04-02 15:02:00   \n",
       "58972   58595       98802   101071  2151-03-05 20:00:00  2151-03-06 09:10:00   \n",
       "58973   58596       98805   122631  2200-09-12 07:15:00  2200-09-20 12:08:00   \n",
       "58974   58597       98813   170407  2128-11-11 02:29:00  2128-12-22 13:11:00   \n",
       "58975   58598       98813   190264  2131-10-25 03:09:00  2131-10-26 17:44:00   \n",
       "\n",
       "                 DEATHTIME ADMISSION_TYPE         ADMISSION_LOCATION  \\\n",
       "0                      NaN      EMERGENCY       EMERGENCY ROOM ADMIT   \n",
       "1                      NaN       ELECTIVE  PHYS REFERRAL/NORMAL DELI   \n",
       "2                      NaN      EMERGENCY  TRANSFER FROM HOSP/EXTRAM   \n",
       "3                      NaN      EMERGENCY  TRANSFER FROM HOSP/EXTRAM   \n",
       "4                      NaN      EMERGENCY       EMERGENCY ROOM ADMIT   \n",
       "...                    ...            ...                        ...   \n",
       "58971                  NaN      EMERGENCY  CLINIC REFERRAL/PREMATURE   \n",
       "58972  2151-03-06 09:10:00      EMERGENCY  CLINIC REFERRAL/PREMATURE   \n",
       "58973                  NaN       ELECTIVE  PHYS REFERRAL/NORMAL DELI   \n",
       "58974                  NaN      EMERGENCY       EMERGENCY ROOM ADMIT   \n",
       "58975                  NaN      EMERGENCY  CLINIC REFERRAL/PREMATURE   \n",
       "\n",
       "              DISCHARGE_LOCATION INSURANCE LANGUAGE           RELIGION  \\\n",
       "0      DISC-TRAN CANCER/CHLDRN H   Private      NaN       UNOBTAINABLE   \n",
       "1               HOME HEALTH CARE  Medicare      NaN           CATHOLIC   \n",
       "2               HOME HEALTH CARE  Medicare     ENGL           CATHOLIC   \n",
       "3                           HOME   Private      NaN  PROTESTANT QUAKER   \n",
       "4                           HOME   Private      NaN       UNOBTAINABLE   \n",
       "...                          ...       ...      ...                ...   \n",
       "58971                       HOME   Private     ENGL      NOT SPECIFIED   \n",
       "58972               DEAD/EXPIRED  Medicare     ENGL           CATHOLIC   \n",
       "58973           HOME HEALTH CARE   Private     ENGL      NOT SPECIFIED   \n",
       "58974                        SNF   Private     ENGL           CATHOLIC   \n",
       "58975                       HOME   Private     ENGL           CATHOLIC   \n",
       "\n",
       "      MARITAL_STATUS ETHNICITY            EDREGTIME            EDOUTTIME  \\\n",
       "0            MARRIED     WHITE  2196-04-09 10:06:00  2196-04-09 13:24:00   \n",
       "1            MARRIED     WHITE                  NaN                  NaN   \n",
       "2            MARRIED     WHITE                  NaN                  NaN   \n",
       "3             SINGLE     WHITE                  NaN                  NaN   \n",
       "4            MARRIED     WHITE  2160-11-02 01:01:00  2160-11-02 04:27:00   \n",
       "...              ...       ...                  ...                  ...   \n",
       "58971         SINGLE     WHITE  2131-03-30 19:44:00  2131-03-30 22:41:00   \n",
       "58972        WIDOWED     WHITE  2151-03-05 17:23:00  2151-03-05 21:06:00   \n",
       "58973        MARRIED     WHITE                  NaN                  NaN   \n",
       "58974        MARRIED     WHITE  2128-11-10 23:48:00  2128-11-11 03:16:00   \n",
       "58975        MARRIED     WHITE  2131-10-25 00:08:00  2131-10-25 04:35:00   \n",
       "\n",
       "                                               DIAGNOSIS  \\\n",
       "0                                BENZODIAZEPINE OVERDOSE   \n",
       "1      CORONARY ARTERY DISEASE\\CORONARY ARTERY BYPASS...   \n",
       "2                                             BRAIN MASS   \n",
       "3                         INTERIOR MYOCARDIAL INFARCTION   \n",
       "4                                ACUTE CORONARY SYNDROME   \n",
       "...                                                  ...   \n",
       "58971                                             TRAUMA   \n",
       "58972                                                SAH   \n",
       "58973                                   RENAL CANCER/SDA   \n",
       "58974                                           S/P FALL   \n",
       "58975                            INTRACRANIAL HEMORRHAGE   \n",
       "\n",
       "       HOSPITAL_EXPIRE_FLAG  HAS_CHARTEVENTS_DATA  \n",
       "0                         0                     1  \n",
       "1                         0                     1  \n",
       "2                         0                     1  \n",
       "3                         0                     1  \n",
       "4                         0                     1  \n",
       "...                     ...                   ...  \n",
       "58971                     0                     1  \n",
       "58972                     1                     1  \n",
       "58973                     0                     1  \n",
       "58974                     0                     0  \n",
       "58975                     0                     1  \n",
       "\n",
       "[58976 rows x 19 columns]"
      ]
     },
     "execution_count": 4,
     "metadata": {},
     "output_type": "execute_result"
    }
   ],
   "source": [
    "admissions_df"
   ]
  },
  {
   "cell_type": "code",
   "execution_count": 5,
   "metadata": {
    "scrolled": true
   },
   "outputs": [
    {
     "name": "stdout",
     "output_type": "stream",
     "text": [
      "<class 'pandas.core.frame.DataFrame'>\n",
      "RangeIndex: 2083180 entries, 0 to 2083179\n",
      "Data columns (total 11 columns):\n",
      " #   Column       Dtype  \n",
      "---  ------       -----  \n",
      " 0   ROW_ID       int64  \n",
      " 1   SUBJECT_ID   int64  \n",
      " 2   HADM_ID      float64\n",
      " 3   CHARTDATE    object \n",
      " 4   CHARTTIME    object \n",
      " 5   STORETIME    object \n",
      " 6   CATEGORY     object \n",
      " 7   DESCRIPTION  object \n",
      " 8   CGID         float64\n",
      " 9   ISERROR      float64\n",
      " 10  TEXT         object \n",
      "dtypes: float64(3), int64(2), object(6)\n",
      "memory usage: 174.8+ MB\n"
     ]
    }
   ],
   "source": [
    "noteevents_df.info()"
   ]
  },
  {
   "cell_type": "code",
   "execution_count": 6,
   "metadata": {},
   "outputs": [
    {
     "name": "stdout",
     "output_type": "stream",
     "text": [
      "<class 'pandas.core.frame.DataFrame'>\n",
      "RangeIndex: 58976 entries, 0 to 58975\n",
      "Data columns (total 19 columns):\n",
      " #   Column                Non-Null Count  Dtype \n",
      "---  ------                --------------  ----- \n",
      " 0   ROW_ID                58976 non-null  int64 \n",
      " 1   SUBJECT_ID            58976 non-null  int64 \n",
      " 2   HADM_ID               58976 non-null  int64 \n",
      " 3   ADMITTIME             58976 non-null  object\n",
      " 4   DISCHTIME             58976 non-null  object\n",
      " 5   DEATHTIME             5854 non-null   object\n",
      " 6   ADMISSION_TYPE        58976 non-null  object\n",
      " 7   ADMISSION_LOCATION    58976 non-null  object\n",
      " 8   DISCHARGE_LOCATION    58976 non-null  object\n",
      " 9   INSURANCE             58976 non-null  object\n",
      " 10  LANGUAGE              33644 non-null  object\n",
      " 11  RELIGION              58518 non-null  object\n",
      " 12  MARITAL_STATUS        48848 non-null  object\n",
      " 13  ETHNICITY             58976 non-null  object\n",
      " 14  EDREGTIME             30877 non-null  object\n",
      " 15  EDOUTTIME             30877 non-null  object\n",
      " 16  DIAGNOSIS             58951 non-null  object\n",
      " 17  HOSPITAL_EXPIRE_FLAG  58976 non-null  int64 \n",
      " 18  HAS_CHARTEVENTS_DATA  58976 non-null  int64 \n",
      "dtypes: int64(5), object(14)\n",
      "memory usage: 8.5+ MB\n"
     ]
    }
   ],
   "source": [
    "admissions_df.info()"
   ]
  },
  {
   "cell_type": "code",
   "execution_count": 7,
   "metadata": {},
   "outputs": [
    {
     "data": {
      "text/plain": [
       "\"\\n>>> left\\n  transaction_id user_id     value\\n0              A   Peter  1.867558\\n1              B    John -0.977278\\n2              C    John  0.950088\\n3              D    Anna -0.151357\\n>>> right\\n  user_id favorite_color\\n0    Paul           blue\\n1    Mary           blue\\n2    John            red\\n3    Anna            NaN\\n\\n---------\\n>>> left.merge(right, on='user_id', how='left', indicator=True)\\n  transaction_id user_id     value favorite_color     _merge\\n0              A   Peter  1.867558            NaN  left_only\\n1              B    John -0.977278            red       both\\n2              C    John  0.950088            red       both\\n3              D    Anna -0.151357            NaN       both\\n\\n---------\\nleft.merge(right.rename({'user_id': 'user_id_r'}, axis=1),\\n               left_on='user_id', right_on='user_id_r', how='left')\\n               \\n  transaction_id user_id     value user_id_r favorite_color\\n0              A   Peter  1.867558       NaN            NaN\\n1              B    John -0.977278      John            red\\n2              C    John  0.950088      John            red\\n3              D    Anna -0.151357      Anna            NaN\\n---------\\nselect\\n    t.transaction_id\\n    , t.user_id\\n    , t.value\\n    , u.user_id as user_id_r\\n    , u.favorite_color\\nfrom\\n    transactions t\\n    left join\\n    users u\\n    on t.user_id = u.user_id\\n;\\n\""
      ]
     },
     "execution_count": 7,
     "metadata": {},
     "output_type": "execute_result"
    }
   ],
   "source": [
    "# https://towardsdatascience.com/left-join-with-pandas-data-frames-in-python-c29c85089ba4\n",
    "# left_join = noteevents_df.join(admissions_df.set_index('HADM_ID'), on='HADM_ID')\n",
    "# left_join = noteevents_df.set_index('HADM_ID').join(admissions_df.set_index('HADM_ID'))\n",
    "\"\"\"\n",
    ">>> left\n",
    "  transaction_id user_id     value\n",
    "0              A   Peter  1.867558\n",
    "1              B    John -0.977278\n",
    "2              C    John  0.950088\n",
    "3              D    Anna -0.151357\n",
    ">>> right\n",
    "  user_id favorite_color\n",
    "0    Paul           blue\n",
    "1    Mary           blue\n",
    "2    John            red\n",
    "3    Anna            NaN\n",
    "\n",
    "---------\n",
    ">>> left.merge(right, on='user_id', how='left', indicator=True)\n",
    "  transaction_id user_id     value favorite_color     _merge\n",
    "0              A   Peter  1.867558            NaN  left_only\n",
    "1              B    John -0.977278            red       both\n",
    "2              C    John  0.950088            red       both\n",
    "3              D    Anna -0.151357            NaN       both\n",
    "\n",
    "---------\n",
    "left.merge(right.rename({'user_id': 'user_id_r'}, axis=1),\n",
    "               left_on='user_id', right_on='user_id_r', how='left')\n",
    "               \n",
    "  transaction_id user_id     value user_id_r favorite_color\n",
    "0              A   Peter  1.867558       NaN            NaN\n",
    "1              B    John -0.977278      John            red\n",
    "2              C    John  0.950088      John            red\n",
    "3              D    Anna -0.151357      Anna            NaN\n",
    "---------\n",
    "select\n",
    "    t.transaction_id\n",
    "    , t.user_id\n",
    "    , t.value\n",
    "    , u.user_id as user_id_r\n",
    "    , u.favorite_color\n",
    "from\n",
    "    transactions t\n",
    "    left join\n",
    "    users u\n",
    "    on t.user_id = u.user_id\n",
    ";\n",
    "\"\"\""
   ]
  },
  {
   "cell_type": "code",
   "execution_count": 8,
   "metadata": {},
   "outputs": [
    {
     "name": "stdout",
     "output_type": "stream",
     "text": [
      "5.904202938079834\n"
     ]
    }
   ],
   "source": [
    "start = time.time()\n",
    "# Left join of two dataframes\n",
    "note_admiss_df_left = noteevents_df.merge(admissions_df, on='HADM_ID', how='left', indicator=True)\n",
    "end = time.time()\n",
    "print(end - start)"
   ]
  },
  {
   "cell_type": "code",
   "execution_count": 9,
   "metadata": {
    "scrolled": false
   },
   "outputs": [
    {
     "name": "stdout",
     "output_type": "stream",
     "text": [
      "<class 'pandas.core.frame.DataFrame'>\n",
      "Int64Index: 2083180 entries, 0 to 2083179\n",
      "Data columns (total 30 columns):\n",
      " #   Column                Dtype   \n",
      "---  ------                -----   \n",
      " 0   ROW_ID_x              int64   \n",
      " 1   SUBJECT_ID_x          int64   \n",
      " 2   HADM_ID               float64 \n",
      " 3   CHARTDATE             object  \n",
      " 4   CHARTTIME             object  \n",
      " 5   STORETIME             object  \n",
      " 6   CATEGORY              object  \n",
      " 7   DESCRIPTION           object  \n",
      " 8   CGID                  float64 \n",
      " 9   ISERROR               float64 \n",
      " 10  TEXT                  object  \n",
      " 11  ROW_ID_y              float64 \n",
      " 12  SUBJECT_ID_y          float64 \n",
      " 13  ADMITTIME             object  \n",
      " 14  DISCHTIME             object  \n",
      " 15  DEATHTIME             object  \n",
      " 16  ADMISSION_TYPE        object  \n",
      " 17  ADMISSION_LOCATION    object  \n",
      " 18  DISCHARGE_LOCATION    object  \n",
      " 19  INSURANCE             object  \n",
      " 20  LANGUAGE              object  \n",
      " 21  RELIGION              object  \n",
      " 22  MARITAL_STATUS        object  \n",
      " 23  ETHNICITY             object  \n",
      " 24  EDREGTIME             object  \n",
      " 25  EDOUTTIME             object  \n",
      " 26  DIAGNOSIS             object  \n",
      " 27  HOSPITAL_EXPIRE_FLAG  float64 \n",
      " 28  HAS_CHARTEVENTS_DATA  float64 \n",
      " 29  _merge                category\n",
      "dtypes: category(1), float64(7), int64(2), object(20)\n",
      "memory usage: 478.8+ MB\n"
     ]
    }
   ],
   "source": [
    "note_admiss_df_left.info()"
   ]
  },
  {
   "cell_type": "code",
   "execution_count": 10,
   "metadata": {},
   "outputs": [
    {
     "data": {
      "text/plain": [
       "(2083180, 30)"
      ]
     },
     "execution_count": 10,
     "metadata": {},
     "output_type": "execute_result"
    }
   ],
   "source": [
    "note_admiss_df_left.shape"
   ]
  },
  {
   "cell_type": "code",
   "execution_count": 11,
   "metadata": {
    "scrolled": false
   },
   "outputs": [
    {
     "data": {
      "text/html": [
       "<div>\n",
       "<style scoped>\n",
       "    .dataframe tbody tr th:only-of-type {\n",
       "        vertical-align: middle;\n",
       "    }\n",
       "\n",
       "    .dataframe tbody tr th {\n",
       "        vertical-align: top;\n",
       "    }\n",
       "\n",
       "    .dataframe thead th {\n",
       "        text-align: right;\n",
       "    }\n",
       "</style>\n",
       "<table border=\"1\" class=\"dataframe\">\n",
       "  <thead>\n",
       "    <tr style=\"text-align: right;\">\n",
       "      <th></th>\n",
       "      <th>DIAGNOSIS</th>\n",
       "      <th>SUBJECT_ID_x</th>\n",
       "      <th>SUBJECT_ID_y</th>\n",
       "      <th>DESCRIPTION</th>\n",
       "      <th>CATEGORY</th>\n",
       "    </tr>\n",
       "  </thead>\n",
       "  <tbody>\n",
       "    <tr>\n",
       "      <th>0</th>\n",
       "      <td>RT LOWER LOBE PNEUMONIA</td>\n",
       "      <td>22532</td>\n",
       "      <td>22532.0</td>\n",
       "      <td>Report</td>\n",
       "      <td>Discharge summary</td>\n",
       "    </tr>\n",
       "    <tr>\n",
       "      <th>1</th>\n",
       "      <td>CHRONIC OBSTRUCTIVE PULMONARY DISEASE</td>\n",
       "      <td>13702</td>\n",
       "      <td>13702.0</td>\n",
       "      <td>Report</td>\n",
       "      <td>Discharge summary</td>\n",
       "    </tr>\n",
       "    <tr>\n",
       "      <th>2</th>\n",
       "      <td>TRACHEALBRONCHEAL MALACEA/SDA</td>\n",
       "      <td>13702</td>\n",
       "      <td>13702.0</td>\n",
       "      <td>Report</td>\n",
       "      <td>Discharge summary</td>\n",
       "    </tr>\n",
       "    <tr>\n",
       "      <th>3</th>\n",
       "      <td>ASTHMA;COPD EXACERBATION</td>\n",
       "      <td>13702</td>\n",
       "      <td>13702.0</td>\n",
       "      <td>Report</td>\n",
       "      <td>Discharge summary</td>\n",
       "    </tr>\n",
       "    <tr>\n",
       "      <th>4</th>\n",
       "      <td>S/P FALL;TELEMETRY</td>\n",
       "      <td>26880</td>\n",
       "      <td>26880.0</td>\n",
       "      <td>Report</td>\n",
       "      <td>Discharge summary</td>\n",
       "    </tr>\n",
       "    <tr>\n",
       "      <th>...</th>\n",
       "      <td>...</td>\n",
       "      <td>...</td>\n",
       "      <td>...</td>\n",
       "      <td>...</td>\n",
       "      <td>...</td>\n",
       "    </tr>\n",
       "    <tr>\n",
       "      <th>2083175</th>\n",
       "      <td>NEWBORN</td>\n",
       "      <td>31097</td>\n",
       "      <td>31097.0</td>\n",
       "      <td>Report</td>\n",
       "      <td>Nursing/other</td>\n",
       "    </tr>\n",
       "    <tr>\n",
       "      <th>2083176</th>\n",
       "      <td>NEWBORN</td>\n",
       "      <td>31097</td>\n",
       "      <td>31097.0</td>\n",
       "      <td>Report</td>\n",
       "      <td>Nursing/other</td>\n",
       "    </tr>\n",
       "    <tr>\n",
       "      <th>2083177</th>\n",
       "      <td>NEWBORN</td>\n",
       "      <td>31097</td>\n",
       "      <td>31097.0</td>\n",
       "      <td>Report</td>\n",
       "      <td>Nursing/other</td>\n",
       "    </tr>\n",
       "    <tr>\n",
       "      <th>2083178</th>\n",
       "      <td>NEWBORN</td>\n",
       "      <td>31097</td>\n",
       "      <td>31097.0</td>\n",
       "      <td>Report</td>\n",
       "      <td>Nursing/other</td>\n",
       "    </tr>\n",
       "    <tr>\n",
       "      <th>2083179</th>\n",
       "      <td>NEWBORN</td>\n",
       "      <td>31097</td>\n",
       "      <td>31097.0</td>\n",
       "      <td>Report</td>\n",
       "      <td>Nursing/other</td>\n",
       "    </tr>\n",
       "  </tbody>\n",
       "</table>\n",
       "<p>2083180 rows × 5 columns</p>\n",
       "</div>"
      ],
      "text/plain": [
       "                                     DIAGNOSIS  SUBJECT_ID_x  SUBJECT_ID_y  \\\n",
       "0                      RT LOWER LOBE PNEUMONIA         22532       22532.0   \n",
       "1        CHRONIC OBSTRUCTIVE PULMONARY DISEASE         13702       13702.0   \n",
       "2                TRACHEALBRONCHEAL MALACEA/SDA         13702       13702.0   \n",
       "3                     ASTHMA;COPD EXACERBATION         13702       13702.0   \n",
       "4                           S/P FALL;TELEMETRY         26880       26880.0   \n",
       "...                                        ...           ...           ...   \n",
       "2083175                                NEWBORN         31097       31097.0   \n",
       "2083176                                NEWBORN         31097       31097.0   \n",
       "2083177                                NEWBORN         31097       31097.0   \n",
       "2083178                                NEWBORN         31097       31097.0   \n",
       "2083179                                NEWBORN         31097       31097.0   \n",
       "\n",
       "        DESCRIPTION           CATEGORY  \n",
       "0            Report  Discharge summary  \n",
       "1            Report  Discharge summary  \n",
       "2            Report  Discharge summary  \n",
       "3            Report  Discharge summary  \n",
       "4            Report  Discharge summary  \n",
       "...             ...                ...  \n",
       "2083175      Report      Nursing/other  \n",
       "2083176      Report      Nursing/other  \n",
       "2083177      Report      Nursing/other  \n",
       "2083178      Report      Nursing/other  \n",
       "2083179      Report      Nursing/other  \n",
       "\n",
       "[2083180 rows x 5 columns]"
      ]
     },
     "execution_count": 11,
     "metadata": {},
     "output_type": "execute_result"
    }
   ],
   "source": [
    "# df1 = df[['a','b']]\n",
    "note_admiss_df_left[['DIAGNOSIS', 'SUBJECT_ID_x', 'SUBJECT_ID_y','DESCRIPTION', 'CATEGORY']]"
   ]
  },
  {
   "cell_type": "code",
   "execution_count": 12,
   "metadata": {
    "scrolled": true
   },
   "outputs": [],
   "source": [
    "pneumonia_df = note_admiss_df_left.loc[note_admiss_df_left[\"DIAGNOSIS\"] == 'PNEUMONIA', ['ROW_ID_x', 'SUBJECT_ID_x', 'HADM_ID', 'CHARTDATE', 'CHARTTIME', 'STORETIME', 'CATEGORY', 'DESCRIPTION', 'CGID', 'ISERROR', 'TEXT', 'ADMITTIME', 'DISCHTIME', 'DEATHTIME', 'ADMISSION_TYPE', 'DIAGNOSIS', 'HAS_CHARTEVENTS_DATA']]"
   ]
  },
  {
   "cell_type": "code",
   "execution_count": null,
   "metadata": {
    "scrolled": false
   },
   "outputs": [],
   "source": []
  },
  {
   "cell_type": "code",
   "execution_count": 13,
   "metadata": {
    "scrolled": true
   },
   "outputs": [
    {
     "data": {
      "text/plain": [
       "(59727, 17)"
      ]
     },
     "execution_count": 13,
     "metadata": {},
     "output_type": "execute_result"
    }
   ],
   "source": [
    "pneumonia_df.shape"
   ]
  },
  {
   "cell_type": "code",
   "execution_count": 14,
   "metadata": {
    "scrolled": false
   },
   "outputs": [
    {
     "data": {
      "application/vnd.plotly.v1+json": {
       "config": {
        "linkText": "Export to plot.ly",
        "plotlyServerURL": "https://plot.ly",
        "showLink": true
       },
       "data": [
        {
         "marker": {
          "color": "rgba(255, 153, 51, 0.6)",
          "line": {
           "color": "rgba(255, 153, 51, 1.0)",
           "width": 1
          }
         },
         "name": "CATEGORY",
         "orientation": "v",
         "text": "",
         "type": "bar",
         "x": [
          "Nursing",
          "Nursing/other",
          "Radiology",
          "Physician ",
          "ECG",
          "Respiratory ",
          "Discharge summary",
          "Echo",
          "General",
          "Nutrition",
          "Rehab Services",
          "Social Work",
          "Case Management ",
          "Pharmacy",
          "Consult"
         ],
         "y": [
          13256,
          12693,
          11723,
          10643,
          4469,
          2454,
          1698,
          949,
          680,
          638,
          231,
          142,
          135,
          15,
          1
         ]
        }
       ],
       "layout": {
        "legend": {
         "bgcolor": "#F5F6F9",
         "font": {
          "color": "#4D5663"
         }
        },
        "paper_bgcolor": "#F5F6F9",
        "plot_bgcolor": "#F5F6F9",
        "template": {
         "data": {
          "bar": [
           {
            "error_x": {
             "color": "#2a3f5f"
            },
            "error_y": {
             "color": "#2a3f5f"
            },
            "marker": {
             "line": {
              "color": "#E5ECF6",
              "width": 0.5
             }
            },
            "type": "bar"
           }
          ],
          "barpolar": [
           {
            "marker": {
             "line": {
              "color": "#E5ECF6",
              "width": 0.5
             }
            },
            "type": "barpolar"
           }
          ],
          "carpet": [
           {
            "aaxis": {
             "endlinecolor": "#2a3f5f",
             "gridcolor": "white",
             "linecolor": "white",
             "minorgridcolor": "white",
             "startlinecolor": "#2a3f5f"
            },
            "baxis": {
             "endlinecolor": "#2a3f5f",
             "gridcolor": "white",
             "linecolor": "white",
             "minorgridcolor": "white",
             "startlinecolor": "#2a3f5f"
            },
            "type": "carpet"
           }
          ],
          "choropleth": [
           {
            "colorbar": {
             "outlinewidth": 0,
             "ticks": ""
            },
            "type": "choropleth"
           }
          ],
          "contour": [
           {
            "colorbar": {
             "outlinewidth": 0,
             "ticks": ""
            },
            "colorscale": [
             [
              0,
              "#0d0887"
             ],
             [
              0.1111111111111111,
              "#46039f"
             ],
             [
              0.2222222222222222,
              "#7201a8"
             ],
             [
              0.3333333333333333,
              "#9c179e"
             ],
             [
              0.4444444444444444,
              "#bd3786"
             ],
             [
              0.5555555555555556,
              "#d8576b"
             ],
             [
              0.6666666666666666,
              "#ed7953"
             ],
             [
              0.7777777777777778,
              "#fb9f3a"
             ],
             [
              0.8888888888888888,
              "#fdca26"
             ],
             [
              1,
              "#f0f921"
             ]
            ],
            "type": "contour"
           }
          ],
          "contourcarpet": [
           {
            "colorbar": {
             "outlinewidth": 0,
             "ticks": ""
            },
            "type": "contourcarpet"
           }
          ],
          "heatmap": [
           {
            "colorbar": {
             "outlinewidth": 0,
             "ticks": ""
            },
            "colorscale": [
             [
              0,
              "#0d0887"
             ],
             [
              0.1111111111111111,
              "#46039f"
             ],
             [
              0.2222222222222222,
              "#7201a8"
             ],
             [
              0.3333333333333333,
              "#9c179e"
             ],
             [
              0.4444444444444444,
              "#bd3786"
             ],
             [
              0.5555555555555556,
              "#d8576b"
             ],
             [
              0.6666666666666666,
              "#ed7953"
             ],
             [
              0.7777777777777778,
              "#fb9f3a"
             ],
             [
              0.8888888888888888,
              "#fdca26"
             ],
             [
              1,
              "#f0f921"
             ]
            ],
            "type": "heatmap"
           }
          ],
          "heatmapgl": [
           {
            "colorbar": {
             "outlinewidth": 0,
             "ticks": ""
            },
            "colorscale": [
             [
              0,
              "#0d0887"
             ],
             [
              0.1111111111111111,
              "#46039f"
             ],
             [
              0.2222222222222222,
              "#7201a8"
             ],
             [
              0.3333333333333333,
              "#9c179e"
             ],
             [
              0.4444444444444444,
              "#bd3786"
             ],
             [
              0.5555555555555556,
              "#d8576b"
             ],
             [
              0.6666666666666666,
              "#ed7953"
             ],
             [
              0.7777777777777778,
              "#fb9f3a"
             ],
             [
              0.8888888888888888,
              "#fdca26"
             ],
             [
              1,
              "#f0f921"
             ]
            ],
            "type": "heatmapgl"
           }
          ],
          "histogram": [
           {
            "marker": {
             "colorbar": {
              "outlinewidth": 0,
              "ticks": ""
             }
            },
            "type": "histogram"
           }
          ],
          "histogram2d": [
           {
            "colorbar": {
             "outlinewidth": 0,
             "ticks": ""
            },
            "colorscale": [
             [
              0,
              "#0d0887"
             ],
             [
              0.1111111111111111,
              "#46039f"
             ],
             [
              0.2222222222222222,
              "#7201a8"
             ],
             [
              0.3333333333333333,
              "#9c179e"
             ],
             [
              0.4444444444444444,
              "#bd3786"
             ],
             [
              0.5555555555555556,
              "#d8576b"
             ],
             [
              0.6666666666666666,
              "#ed7953"
             ],
             [
              0.7777777777777778,
              "#fb9f3a"
             ],
             [
              0.8888888888888888,
              "#fdca26"
             ],
             [
              1,
              "#f0f921"
             ]
            ],
            "type": "histogram2d"
           }
          ],
          "histogram2dcontour": [
           {
            "colorbar": {
             "outlinewidth": 0,
             "ticks": ""
            },
            "colorscale": [
             [
              0,
              "#0d0887"
             ],
             [
              0.1111111111111111,
              "#46039f"
             ],
             [
              0.2222222222222222,
              "#7201a8"
             ],
             [
              0.3333333333333333,
              "#9c179e"
             ],
             [
              0.4444444444444444,
              "#bd3786"
             ],
             [
              0.5555555555555556,
              "#d8576b"
             ],
             [
              0.6666666666666666,
              "#ed7953"
             ],
             [
              0.7777777777777778,
              "#fb9f3a"
             ],
             [
              0.8888888888888888,
              "#fdca26"
             ],
             [
              1,
              "#f0f921"
             ]
            ],
            "type": "histogram2dcontour"
           }
          ],
          "mesh3d": [
           {
            "colorbar": {
             "outlinewidth": 0,
             "ticks": ""
            },
            "type": "mesh3d"
           }
          ],
          "parcoords": [
           {
            "line": {
             "colorbar": {
              "outlinewidth": 0,
              "ticks": ""
             }
            },
            "type": "parcoords"
           }
          ],
          "pie": [
           {
            "automargin": true,
            "type": "pie"
           }
          ],
          "scatter": [
           {
            "marker": {
             "colorbar": {
              "outlinewidth": 0,
              "ticks": ""
             }
            },
            "type": "scatter"
           }
          ],
          "scatter3d": [
           {
            "line": {
             "colorbar": {
              "outlinewidth": 0,
              "ticks": ""
             }
            },
            "marker": {
             "colorbar": {
              "outlinewidth": 0,
              "ticks": ""
             }
            },
            "type": "scatter3d"
           }
          ],
          "scattercarpet": [
           {
            "marker": {
             "colorbar": {
              "outlinewidth": 0,
              "ticks": ""
             }
            },
            "type": "scattercarpet"
           }
          ],
          "scattergeo": [
           {
            "marker": {
             "colorbar": {
              "outlinewidth": 0,
              "ticks": ""
             }
            },
            "type": "scattergeo"
           }
          ],
          "scattergl": [
           {
            "marker": {
             "colorbar": {
              "outlinewidth": 0,
              "ticks": ""
             }
            },
            "type": "scattergl"
           }
          ],
          "scattermapbox": [
           {
            "marker": {
             "colorbar": {
              "outlinewidth": 0,
              "ticks": ""
             }
            },
            "type": "scattermapbox"
           }
          ],
          "scatterpolar": [
           {
            "marker": {
             "colorbar": {
              "outlinewidth": 0,
              "ticks": ""
             }
            },
            "type": "scatterpolar"
           }
          ],
          "scatterpolargl": [
           {
            "marker": {
             "colorbar": {
              "outlinewidth": 0,
              "ticks": ""
             }
            },
            "type": "scatterpolargl"
           }
          ],
          "scatterternary": [
           {
            "marker": {
             "colorbar": {
              "outlinewidth": 0,
              "ticks": ""
             }
            },
            "type": "scatterternary"
           }
          ],
          "surface": [
           {
            "colorbar": {
             "outlinewidth": 0,
             "ticks": ""
            },
            "colorscale": [
             [
              0,
              "#0d0887"
             ],
             [
              0.1111111111111111,
              "#46039f"
             ],
             [
              0.2222222222222222,
              "#7201a8"
             ],
             [
              0.3333333333333333,
              "#9c179e"
             ],
             [
              0.4444444444444444,
              "#bd3786"
             ],
             [
              0.5555555555555556,
              "#d8576b"
             ],
             [
              0.6666666666666666,
              "#ed7953"
             ],
             [
              0.7777777777777778,
              "#fb9f3a"
             ],
             [
              0.8888888888888888,
              "#fdca26"
             ],
             [
              1,
              "#f0f921"
             ]
            ],
            "type": "surface"
           }
          ],
          "table": [
           {
            "cells": {
             "fill": {
              "color": "#EBF0F8"
             },
             "line": {
              "color": "white"
             }
            },
            "header": {
             "fill": {
              "color": "#C8D4E3"
             },
             "line": {
              "color": "white"
             }
            },
            "type": "table"
           }
          ]
         },
         "layout": {
          "annotationdefaults": {
           "arrowcolor": "#2a3f5f",
           "arrowhead": 0,
           "arrowwidth": 1
          },
          "coloraxis": {
           "colorbar": {
            "outlinewidth": 0,
            "ticks": ""
           }
          },
          "colorscale": {
           "diverging": [
            [
             0,
             "#8e0152"
            ],
            [
             0.1,
             "#c51b7d"
            ],
            [
             0.2,
             "#de77ae"
            ],
            [
             0.3,
             "#f1b6da"
            ],
            [
             0.4,
             "#fde0ef"
            ],
            [
             0.5,
             "#f7f7f7"
            ],
            [
             0.6,
             "#e6f5d0"
            ],
            [
             0.7,
             "#b8e186"
            ],
            [
             0.8,
             "#7fbc41"
            ],
            [
             0.9,
             "#4d9221"
            ],
            [
             1,
             "#276419"
            ]
           ],
           "sequential": [
            [
             0,
             "#0d0887"
            ],
            [
             0.1111111111111111,
             "#46039f"
            ],
            [
             0.2222222222222222,
             "#7201a8"
            ],
            [
             0.3333333333333333,
             "#9c179e"
            ],
            [
             0.4444444444444444,
             "#bd3786"
            ],
            [
             0.5555555555555556,
             "#d8576b"
            ],
            [
             0.6666666666666666,
             "#ed7953"
            ],
            [
             0.7777777777777778,
             "#fb9f3a"
            ],
            [
             0.8888888888888888,
             "#fdca26"
            ],
            [
             1,
             "#f0f921"
            ]
           ],
           "sequentialminus": [
            [
             0,
             "#0d0887"
            ],
            [
             0.1111111111111111,
             "#46039f"
            ],
            [
             0.2222222222222222,
             "#7201a8"
            ],
            [
             0.3333333333333333,
             "#9c179e"
            ],
            [
             0.4444444444444444,
             "#bd3786"
            ],
            [
             0.5555555555555556,
             "#d8576b"
            ],
            [
             0.6666666666666666,
             "#ed7953"
            ],
            [
             0.7777777777777778,
             "#fb9f3a"
            ],
            [
             0.8888888888888888,
             "#fdca26"
            ],
            [
             1,
             "#f0f921"
            ]
           ]
          },
          "colorway": [
           "#636efa",
           "#EF553B",
           "#00cc96",
           "#ab63fa",
           "#FFA15A",
           "#19d3f3",
           "#FF6692",
           "#B6E880",
           "#FF97FF",
           "#FECB52"
          ],
          "font": {
           "color": "#2a3f5f"
          },
          "geo": {
           "bgcolor": "white",
           "lakecolor": "white",
           "landcolor": "#E5ECF6",
           "showlakes": true,
           "showland": true,
           "subunitcolor": "white"
          },
          "hoverlabel": {
           "align": "left"
          },
          "hovermode": "closest",
          "mapbox": {
           "style": "light"
          },
          "paper_bgcolor": "white",
          "plot_bgcolor": "#E5ECF6",
          "polar": {
           "angularaxis": {
            "gridcolor": "white",
            "linecolor": "white",
            "ticks": ""
           },
           "bgcolor": "#E5ECF6",
           "radialaxis": {
            "gridcolor": "white",
            "linecolor": "white",
            "ticks": ""
           }
          },
          "scene": {
           "xaxis": {
            "backgroundcolor": "#E5ECF6",
            "gridcolor": "white",
            "gridwidth": 2,
            "linecolor": "white",
            "showbackground": true,
            "ticks": "",
            "zerolinecolor": "white"
           },
           "yaxis": {
            "backgroundcolor": "#E5ECF6",
            "gridcolor": "white",
            "gridwidth": 2,
            "linecolor": "white",
            "showbackground": true,
            "ticks": "",
            "zerolinecolor": "white"
           },
           "zaxis": {
            "backgroundcolor": "#E5ECF6",
            "gridcolor": "white",
            "gridwidth": 2,
            "linecolor": "white",
            "showbackground": true,
            "ticks": "",
            "zerolinecolor": "white"
           }
          },
          "shapedefaults": {
           "line": {
            "color": "#2a3f5f"
           }
          },
          "ternary": {
           "aaxis": {
            "gridcolor": "white",
            "linecolor": "white",
            "ticks": ""
           },
           "baxis": {
            "gridcolor": "white",
            "linecolor": "white",
            "ticks": ""
           },
           "bgcolor": "#E5ECF6",
           "caxis": {
            "gridcolor": "white",
            "linecolor": "white",
            "ticks": ""
           }
          },
          "title": {
           "x": 0.05
          },
          "xaxis": {
           "automargin": true,
           "gridcolor": "white",
           "linecolor": "white",
           "ticks": "",
           "title": {
            "standoff": 15
           },
           "zerolinecolor": "white",
           "zerolinewidth": 2
          },
          "yaxis": {
           "automargin": true,
           "gridcolor": "white",
           "linecolor": "white",
           "ticks": "",
           "title": {
            "standoff": 15
           },
           "zerolinecolor": "white",
           "zerolinewidth": 2
          }
         }
        },
        "title": {
         "font": {
          "color": "#4D5663"
         },
         "text": "Number of category kinds in noteevents"
        },
        "xaxis": {
         "gridcolor": "#E1E5ED",
         "showgrid": true,
         "tickfont": {
          "color": "#4D5663"
         },
         "title": {
          "font": {
           "color": "#4D5663"
          },
          "text": ""
         },
         "zerolinecolor": "#E1E5ED"
        },
        "yaxis": {
         "gridcolor": "#E1E5ED",
         "showgrid": true,
         "tickfont": {
          "color": "#4D5663"
         },
         "title": {
          "font": {
           "color": "#4D5663"
          },
          "text": "Number of notes"
         },
         "zerolinecolor": "#E1E5ED"
        }
       }
      },
      "text/html": [
       "<div>\n",
       "        \n",
       "        \n",
       "            <div id=\"6f712516-bc46-425e-b882-19eb68642643\" class=\"plotly-graph-div\" style=\"height:525px; width:100%;\"></div>\n",
       "            <script type=\"text/javascript\">\n",
       "                require([\"plotly\"], function(Plotly) {\n",
       "                    window.PLOTLYENV=window.PLOTLYENV || {};\n",
       "                    window.PLOTLYENV.BASE_URL='https://plot.ly';\n",
       "                    \n",
       "                if (document.getElementById(\"6f712516-bc46-425e-b882-19eb68642643\")) {\n",
       "                    Plotly.newPlot(\n",
       "                        '6f712516-bc46-425e-b882-19eb68642643',\n",
       "                        [{\"marker\": {\"color\": \"rgba(255, 153, 51, 0.6)\", \"line\": {\"color\": \"rgba(255, 153, 51, 1.0)\", \"width\": 1}}, \"name\": \"CATEGORY\", \"orientation\": \"v\", \"text\": \"\", \"type\": \"bar\", \"x\": [\"Nursing\", \"Nursing/other\", \"Radiology\", \"Physician \", \"ECG\", \"Respiratory \", \"Discharge summary\", \"Echo\", \"General\", \"Nutrition\", \"Rehab Services\", \"Social Work\", \"Case Management \", \"Pharmacy\", \"Consult\"], \"y\": [13256, 12693, 11723, 10643, 4469, 2454, 1698, 949, 680, 638, 231, 142, 135, 15, 1]}],\n",
       "                        {\"legend\": {\"bgcolor\": \"#F5F6F9\", \"font\": {\"color\": \"#4D5663\"}}, \"paper_bgcolor\": \"#F5F6F9\", \"plot_bgcolor\": \"#F5F6F9\", \"template\": {\"data\": {\"bar\": [{\"error_x\": {\"color\": \"#2a3f5f\"}, \"error_y\": {\"color\": \"#2a3f5f\"}, \"marker\": {\"line\": {\"color\": \"#E5ECF6\", \"width\": 0.5}}, \"type\": \"bar\"}], \"barpolar\": [{\"marker\": {\"line\": {\"color\": \"#E5ECF6\", \"width\": 0.5}}, \"type\": \"barpolar\"}], \"carpet\": [{\"aaxis\": {\"endlinecolor\": \"#2a3f5f\", \"gridcolor\": \"white\", \"linecolor\": \"white\", \"minorgridcolor\": \"white\", \"startlinecolor\": \"#2a3f5f\"}, \"baxis\": {\"endlinecolor\": \"#2a3f5f\", \"gridcolor\": \"white\", \"linecolor\": \"white\", \"minorgridcolor\": \"white\", \"startlinecolor\": \"#2a3f5f\"}, \"type\": \"carpet\"}], \"choropleth\": [{\"colorbar\": {\"outlinewidth\": 0, \"ticks\": \"\"}, \"type\": \"choropleth\"}], \"contour\": [{\"colorbar\": {\"outlinewidth\": 0, \"ticks\": \"\"}, \"colorscale\": [[0.0, \"#0d0887\"], [0.1111111111111111, \"#46039f\"], [0.2222222222222222, \"#7201a8\"], [0.3333333333333333, \"#9c179e\"], [0.4444444444444444, \"#bd3786\"], [0.5555555555555556, \"#d8576b\"], [0.6666666666666666, \"#ed7953\"], [0.7777777777777778, \"#fb9f3a\"], [0.8888888888888888, \"#fdca26\"], [1.0, \"#f0f921\"]], \"type\": \"contour\"}], \"contourcarpet\": [{\"colorbar\": {\"outlinewidth\": 0, \"ticks\": \"\"}, \"type\": \"contourcarpet\"}], \"heatmap\": [{\"colorbar\": {\"outlinewidth\": 0, \"ticks\": \"\"}, \"colorscale\": [[0.0, \"#0d0887\"], [0.1111111111111111, \"#46039f\"], [0.2222222222222222, \"#7201a8\"], [0.3333333333333333, \"#9c179e\"], [0.4444444444444444, \"#bd3786\"], [0.5555555555555556, \"#d8576b\"], [0.6666666666666666, \"#ed7953\"], [0.7777777777777778, \"#fb9f3a\"], [0.8888888888888888, \"#fdca26\"], [1.0, \"#f0f921\"]], \"type\": \"heatmap\"}], \"heatmapgl\": [{\"colorbar\": {\"outlinewidth\": 0, \"ticks\": \"\"}, \"colorscale\": [[0.0, \"#0d0887\"], [0.1111111111111111, \"#46039f\"], [0.2222222222222222, \"#7201a8\"], [0.3333333333333333, \"#9c179e\"], [0.4444444444444444, \"#bd3786\"], [0.5555555555555556, \"#d8576b\"], [0.6666666666666666, \"#ed7953\"], [0.7777777777777778, \"#fb9f3a\"], [0.8888888888888888, \"#fdca26\"], [1.0, \"#f0f921\"]], \"type\": \"heatmapgl\"}], \"histogram\": [{\"marker\": {\"colorbar\": {\"outlinewidth\": 0, \"ticks\": \"\"}}, \"type\": \"histogram\"}], \"histogram2d\": [{\"colorbar\": {\"outlinewidth\": 0, \"ticks\": \"\"}, \"colorscale\": [[0.0, \"#0d0887\"], [0.1111111111111111, \"#46039f\"], [0.2222222222222222, \"#7201a8\"], [0.3333333333333333, \"#9c179e\"], [0.4444444444444444, \"#bd3786\"], [0.5555555555555556, \"#d8576b\"], [0.6666666666666666, \"#ed7953\"], [0.7777777777777778, \"#fb9f3a\"], [0.8888888888888888, \"#fdca26\"], [1.0, \"#f0f921\"]], \"type\": \"histogram2d\"}], \"histogram2dcontour\": [{\"colorbar\": {\"outlinewidth\": 0, \"ticks\": \"\"}, \"colorscale\": [[0.0, \"#0d0887\"], [0.1111111111111111, \"#46039f\"], [0.2222222222222222, \"#7201a8\"], [0.3333333333333333, \"#9c179e\"], [0.4444444444444444, \"#bd3786\"], [0.5555555555555556, \"#d8576b\"], [0.6666666666666666, \"#ed7953\"], [0.7777777777777778, \"#fb9f3a\"], [0.8888888888888888, \"#fdca26\"], [1.0, \"#f0f921\"]], \"type\": \"histogram2dcontour\"}], \"mesh3d\": [{\"colorbar\": {\"outlinewidth\": 0, \"ticks\": \"\"}, \"type\": \"mesh3d\"}], \"parcoords\": [{\"line\": {\"colorbar\": {\"outlinewidth\": 0, \"ticks\": \"\"}}, \"type\": \"parcoords\"}], \"pie\": [{\"automargin\": true, \"type\": \"pie\"}], \"scatter\": [{\"marker\": {\"colorbar\": {\"outlinewidth\": 0, \"ticks\": \"\"}}, \"type\": \"scatter\"}], \"scatter3d\": [{\"line\": {\"colorbar\": {\"outlinewidth\": 0, \"ticks\": \"\"}}, \"marker\": {\"colorbar\": {\"outlinewidth\": 0, \"ticks\": \"\"}}, \"type\": \"scatter3d\"}], \"scattercarpet\": [{\"marker\": {\"colorbar\": {\"outlinewidth\": 0, \"ticks\": \"\"}}, \"type\": \"scattercarpet\"}], \"scattergeo\": [{\"marker\": {\"colorbar\": {\"outlinewidth\": 0, \"ticks\": \"\"}}, \"type\": \"scattergeo\"}], \"scattergl\": [{\"marker\": {\"colorbar\": {\"outlinewidth\": 0, \"ticks\": \"\"}}, \"type\": \"scattergl\"}], \"scattermapbox\": [{\"marker\": {\"colorbar\": {\"outlinewidth\": 0, \"ticks\": \"\"}}, \"type\": \"scattermapbox\"}], \"scatterpolar\": [{\"marker\": {\"colorbar\": {\"outlinewidth\": 0, \"ticks\": \"\"}}, \"type\": \"scatterpolar\"}], \"scatterpolargl\": [{\"marker\": {\"colorbar\": {\"outlinewidth\": 0, \"ticks\": \"\"}}, \"type\": \"scatterpolargl\"}], \"scatterternary\": [{\"marker\": {\"colorbar\": {\"outlinewidth\": 0, \"ticks\": \"\"}}, \"type\": \"scatterternary\"}], \"surface\": [{\"colorbar\": {\"outlinewidth\": 0, \"ticks\": \"\"}, \"colorscale\": [[0.0, \"#0d0887\"], [0.1111111111111111, \"#46039f\"], [0.2222222222222222, \"#7201a8\"], [0.3333333333333333, \"#9c179e\"], [0.4444444444444444, \"#bd3786\"], [0.5555555555555556, \"#d8576b\"], [0.6666666666666666, \"#ed7953\"], [0.7777777777777778, \"#fb9f3a\"], [0.8888888888888888, \"#fdca26\"], [1.0, \"#f0f921\"]], \"type\": \"surface\"}], \"table\": [{\"cells\": {\"fill\": {\"color\": \"#EBF0F8\"}, \"line\": {\"color\": \"white\"}}, \"header\": {\"fill\": {\"color\": \"#C8D4E3\"}, \"line\": {\"color\": \"white\"}}, \"type\": \"table\"}]}, \"layout\": {\"annotationdefaults\": {\"arrowcolor\": \"#2a3f5f\", \"arrowhead\": 0, \"arrowwidth\": 1}, \"coloraxis\": {\"colorbar\": {\"outlinewidth\": 0, \"ticks\": \"\"}}, \"colorscale\": {\"diverging\": [[0, \"#8e0152\"], [0.1, \"#c51b7d\"], [0.2, \"#de77ae\"], [0.3, \"#f1b6da\"], [0.4, \"#fde0ef\"], [0.5, \"#f7f7f7\"], [0.6, \"#e6f5d0\"], [0.7, \"#b8e186\"], [0.8, \"#7fbc41\"], [0.9, \"#4d9221\"], [1, \"#276419\"]], \"sequential\": [[0.0, \"#0d0887\"], [0.1111111111111111, \"#46039f\"], [0.2222222222222222, \"#7201a8\"], [0.3333333333333333, \"#9c179e\"], [0.4444444444444444, \"#bd3786\"], [0.5555555555555556, \"#d8576b\"], [0.6666666666666666, \"#ed7953\"], [0.7777777777777778, \"#fb9f3a\"], [0.8888888888888888, \"#fdca26\"], [1.0, \"#f0f921\"]], \"sequentialminus\": [[0.0, \"#0d0887\"], [0.1111111111111111, \"#46039f\"], [0.2222222222222222, \"#7201a8\"], [0.3333333333333333, \"#9c179e\"], [0.4444444444444444, \"#bd3786\"], [0.5555555555555556, \"#d8576b\"], [0.6666666666666666, \"#ed7953\"], [0.7777777777777778, \"#fb9f3a\"], [0.8888888888888888, \"#fdca26\"], [1.0, \"#f0f921\"]]}, \"colorway\": [\"#636efa\", \"#EF553B\", \"#00cc96\", \"#ab63fa\", \"#FFA15A\", \"#19d3f3\", \"#FF6692\", \"#B6E880\", \"#FF97FF\", \"#FECB52\"], \"font\": {\"color\": \"#2a3f5f\"}, \"geo\": {\"bgcolor\": \"white\", \"lakecolor\": \"white\", \"landcolor\": \"#E5ECF6\", \"showlakes\": true, \"showland\": true, \"subunitcolor\": \"white\"}, \"hoverlabel\": {\"align\": \"left\"}, \"hovermode\": \"closest\", \"mapbox\": {\"style\": \"light\"}, \"paper_bgcolor\": \"white\", \"plot_bgcolor\": \"#E5ECF6\", \"polar\": {\"angularaxis\": {\"gridcolor\": \"white\", \"linecolor\": \"white\", \"ticks\": \"\"}, \"bgcolor\": \"#E5ECF6\", \"radialaxis\": {\"gridcolor\": \"white\", \"linecolor\": \"white\", \"ticks\": \"\"}}, \"scene\": {\"xaxis\": {\"backgroundcolor\": \"#E5ECF6\", \"gridcolor\": \"white\", \"gridwidth\": 2, \"linecolor\": \"white\", \"showbackground\": true, \"ticks\": \"\", \"zerolinecolor\": \"white\"}, \"yaxis\": {\"backgroundcolor\": \"#E5ECF6\", \"gridcolor\": \"white\", \"gridwidth\": 2, \"linecolor\": \"white\", \"showbackground\": true, \"ticks\": \"\", \"zerolinecolor\": \"white\"}, \"zaxis\": {\"backgroundcolor\": \"#E5ECF6\", \"gridcolor\": \"white\", \"gridwidth\": 2, \"linecolor\": \"white\", \"showbackground\": true, \"ticks\": \"\", \"zerolinecolor\": \"white\"}}, \"shapedefaults\": {\"line\": {\"color\": \"#2a3f5f\"}}, \"ternary\": {\"aaxis\": {\"gridcolor\": \"white\", \"linecolor\": \"white\", \"ticks\": \"\"}, \"baxis\": {\"gridcolor\": \"white\", \"linecolor\": \"white\", \"ticks\": \"\"}, \"bgcolor\": \"#E5ECF6\", \"caxis\": {\"gridcolor\": \"white\", \"linecolor\": \"white\", \"ticks\": \"\"}}, \"title\": {\"x\": 0.05}, \"xaxis\": {\"automargin\": true, \"gridcolor\": \"white\", \"linecolor\": \"white\", \"ticks\": \"\", \"title\": {\"standoff\": 15}, \"zerolinecolor\": \"white\", \"zerolinewidth\": 2}, \"yaxis\": {\"automargin\": true, \"gridcolor\": \"white\", \"linecolor\": \"white\", \"ticks\": \"\", \"title\": {\"standoff\": 15}, \"zerolinecolor\": \"white\", \"zerolinewidth\": 2}}}, \"title\": {\"font\": {\"color\": \"#4D5663\"}, \"text\": \"Number of category kinds in noteevents\"}, \"xaxis\": {\"gridcolor\": \"#E1E5ED\", \"showgrid\": true, \"tickfont\": {\"color\": \"#4D5663\"}, \"title\": {\"font\": {\"color\": \"#4D5663\"}, \"text\": \"\"}, \"zerolinecolor\": \"#E1E5ED\"}, \"yaxis\": {\"gridcolor\": \"#E1E5ED\", \"showgrid\": true, \"tickfont\": {\"color\": \"#4D5663\"}, \"title\": {\"font\": {\"color\": \"#4D5663\"}, \"text\": \"Number of notes\"}, \"zerolinecolor\": \"#E1E5ED\"}},\n",
       "                        {\"showLink\": true, \"linkText\": \"Export to plot.ly\", \"plotlyServerURL\": \"https://plot.ly\", \"responsive\": true}\n",
       "                    ).then(function(){\n",
       "                            \n",
       "var gd = document.getElementById('6f712516-bc46-425e-b882-19eb68642643');\n",
       "var x = new MutationObserver(function (mutations, observer) {{\n",
       "        var display = window.getComputedStyle(gd).display;\n",
       "        if (!display || display === 'none') {{\n",
       "            console.log([gd, 'removed!']);\n",
       "            Plotly.purge(gd);\n",
       "            observer.disconnect();\n",
       "        }}\n",
       "}});\n",
       "\n",
       "// Listen for the removal of the full notebook cells\n",
       "var notebookContainer = gd.closest('#notebook-container');\n",
       "if (notebookContainer) {{\n",
       "    x.observe(notebookContainer, {childList: true});\n",
       "}}\n",
       "\n",
       "// Listen for the clearing of the current output cell\n",
       "var outputEl = gd.closest('.output');\n",
       "if (outputEl) {{\n",
       "    x.observe(outputEl, {childList: true});\n",
       "}}\n",
       "\n",
       "                        })\n",
       "                };\n",
       "                });\n",
       "            </script>\n",
       "        </div>"
      ]
     },
     "metadata": {},
     "output_type": "display_data"
    }
   ],
   "source": [
    "pneumonia_df['CATEGORY'].value_counts().sort_values(ascending=False).iplot(kind='bar', yTitle='Number of notes', \n",
    "                                                                title='Number of category kinds in noteevents')"
   ]
  },
  {
   "cell_type": "code",
   "execution_count": 15,
   "metadata": {},
   "outputs": [],
   "source": [
    "#pneumonia_no_disch_df = pneumonia_df.loc[pneumonia_df[\"CATEGORY\"] != 'Discharge summary', ['ROW_ID_x', 'SUBJECT_ID_x', 'HADM_ID', 'CHARTDATE', 'CHARTTIME', 'STORETIME', 'CATEGORY', 'DESCRIPTION', 'CGID', 'ISERROR', 'TEXT', 'ADMITTIME', 'DISCHTIME', 'DEATHTIME', 'ADMISSION_TYPE', 'DIAGNOSIS', 'HAS_CHARTEVENTS_DATA']]\n",
    "pneumonia_no_disch_df = pneumonia_df.loc[pneumonia_df[\"CATEGORY\"] != 'Discharge summary', ['ROW_ID_x','SUBJECT_ID_x','CHARTDATE','STORETIME','CATEGORY','DESCRIPTION','TEXT', 'DEATHTIME']]"
   ]
  },
  {
   "cell_type": "code",
   "execution_count": 16,
   "metadata": {
    "scrolled": false
   },
   "outputs": [
    {
     "data": {
      "application/vnd.plotly.v1+json": {
       "config": {
        "linkText": "Export to plot.ly",
        "plotlyServerURL": "https://plot.ly",
        "showLink": true
       },
       "data": [
        {
         "marker": {
          "color": "rgba(255, 153, 51, 0.6)",
          "line": {
           "color": "rgba(255, 153, 51, 1.0)",
           "width": 1
          }
         },
         "name": "CATEGORY",
         "orientation": "v",
         "text": "",
         "type": "bar",
         "x": [
          "Nursing",
          "Nursing/other",
          "Radiology",
          "Physician ",
          "ECG",
          "Respiratory ",
          "Echo",
          "General",
          "Nutrition",
          "Rehab Services",
          "Social Work",
          "Case Management ",
          "Pharmacy",
          "Consult"
         ],
         "y": [
          13256,
          12693,
          11723,
          10643,
          4469,
          2454,
          949,
          680,
          638,
          231,
          142,
          135,
          15,
          1
         ]
        }
       ],
       "layout": {
        "legend": {
         "bgcolor": "#F5F6F9",
         "font": {
          "color": "#4D5663"
         }
        },
        "paper_bgcolor": "#F5F6F9",
        "plot_bgcolor": "#F5F6F9",
        "template": {
         "data": {
          "bar": [
           {
            "error_x": {
             "color": "#2a3f5f"
            },
            "error_y": {
             "color": "#2a3f5f"
            },
            "marker": {
             "line": {
              "color": "#E5ECF6",
              "width": 0.5
             }
            },
            "type": "bar"
           }
          ],
          "barpolar": [
           {
            "marker": {
             "line": {
              "color": "#E5ECF6",
              "width": 0.5
             }
            },
            "type": "barpolar"
           }
          ],
          "carpet": [
           {
            "aaxis": {
             "endlinecolor": "#2a3f5f",
             "gridcolor": "white",
             "linecolor": "white",
             "minorgridcolor": "white",
             "startlinecolor": "#2a3f5f"
            },
            "baxis": {
             "endlinecolor": "#2a3f5f",
             "gridcolor": "white",
             "linecolor": "white",
             "minorgridcolor": "white",
             "startlinecolor": "#2a3f5f"
            },
            "type": "carpet"
           }
          ],
          "choropleth": [
           {
            "colorbar": {
             "outlinewidth": 0,
             "ticks": ""
            },
            "type": "choropleth"
           }
          ],
          "contour": [
           {
            "colorbar": {
             "outlinewidth": 0,
             "ticks": ""
            },
            "colorscale": [
             [
              0,
              "#0d0887"
             ],
             [
              0.1111111111111111,
              "#46039f"
             ],
             [
              0.2222222222222222,
              "#7201a8"
             ],
             [
              0.3333333333333333,
              "#9c179e"
             ],
             [
              0.4444444444444444,
              "#bd3786"
             ],
             [
              0.5555555555555556,
              "#d8576b"
             ],
             [
              0.6666666666666666,
              "#ed7953"
             ],
             [
              0.7777777777777778,
              "#fb9f3a"
             ],
             [
              0.8888888888888888,
              "#fdca26"
             ],
             [
              1,
              "#f0f921"
             ]
            ],
            "type": "contour"
           }
          ],
          "contourcarpet": [
           {
            "colorbar": {
             "outlinewidth": 0,
             "ticks": ""
            },
            "type": "contourcarpet"
           }
          ],
          "heatmap": [
           {
            "colorbar": {
             "outlinewidth": 0,
             "ticks": ""
            },
            "colorscale": [
             [
              0,
              "#0d0887"
             ],
             [
              0.1111111111111111,
              "#46039f"
             ],
             [
              0.2222222222222222,
              "#7201a8"
             ],
             [
              0.3333333333333333,
              "#9c179e"
             ],
             [
              0.4444444444444444,
              "#bd3786"
             ],
             [
              0.5555555555555556,
              "#d8576b"
             ],
             [
              0.6666666666666666,
              "#ed7953"
             ],
             [
              0.7777777777777778,
              "#fb9f3a"
             ],
             [
              0.8888888888888888,
              "#fdca26"
             ],
             [
              1,
              "#f0f921"
             ]
            ],
            "type": "heatmap"
           }
          ],
          "heatmapgl": [
           {
            "colorbar": {
             "outlinewidth": 0,
             "ticks": ""
            },
            "colorscale": [
             [
              0,
              "#0d0887"
             ],
             [
              0.1111111111111111,
              "#46039f"
             ],
             [
              0.2222222222222222,
              "#7201a8"
             ],
             [
              0.3333333333333333,
              "#9c179e"
             ],
             [
              0.4444444444444444,
              "#bd3786"
             ],
             [
              0.5555555555555556,
              "#d8576b"
             ],
             [
              0.6666666666666666,
              "#ed7953"
             ],
             [
              0.7777777777777778,
              "#fb9f3a"
             ],
             [
              0.8888888888888888,
              "#fdca26"
             ],
             [
              1,
              "#f0f921"
             ]
            ],
            "type": "heatmapgl"
           }
          ],
          "histogram": [
           {
            "marker": {
             "colorbar": {
              "outlinewidth": 0,
              "ticks": ""
             }
            },
            "type": "histogram"
           }
          ],
          "histogram2d": [
           {
            "colorbar": {
             "outlinewidth": 0,
             "ticks": ""
            },
            "colorscale": [
             [
              0,
              "#0d0887"
             ],
             [
              0.1111111111111111,
              "#46039f"
             ],
             [
              0.2222222222222222,
              "#7201a8"
             ],
             [
              0.3333333333333333,
              "#9c179e"
             ],
             [
              0.4444444444444444,
              "#bd3786"
             ],
             [
              0.5555555555555556,
              "#d8576b"
             ],
             [
              0.6666666666666666,
              "#ed7953"
             ],
             [
              0.7777777777777778,
              "#fb9f3a"
             ],
             [
              0.8888888888888888,
              "#fdca26"
             ],
             [
              1,
              "#f0f921"
             ]
            ],
            "type": "histogram2d"
           }
          ],
          "histogram2dcontour": [
           {
            "colorbar": {
             "outlinewidth": 0,
             "ticks": ""
            },
            "colorscale": [
             [
              0,
              "#0d0887"
             ],
             [
              0.1111111111111111,
              "#46039f"
             ],
             [
              0.2222222222222222,
              "#7201a8"
             ],
             [
              0.3333333333333333,
              "#9c179e"
             ],
             [
              0.4444444444444444,
              "#bd3786"
             ],
             [
              0.5555555555555556,
              "#d8576b"
             ],
             [
              0.6666666666666666,
              "#ed7953"
             ],
             [
              0.7777777777777778,
              "#fb9f3a"
             ],
             [
              0.8888888888888888,
              "#fdca26"
             ],
             [
              1,
              "#f0f921"
             ]
            ],
            "type": "histogram2dcontour"
           }
          ],
          "mesh3d": [
           {
            "colorbar": {
             "outlinewidth": 0,
             "ticks": ""
            },
            "type": "mesh3d"
           }
          ],
          "parcoords": [
           {
            "line": {
             "colorbar": {
              "outlinewidth": 0,
              "ticks": ""
             }
            },
            "type": "parcoords"
           }
          ],
          "pie": [
           {
            "automargin": true,
            "type": "pie"
           }
          ],
          "scatter": [
           {
            "marker": {
             "colorbar": {
              "outlinewidth": 0,
              "ticks": ""
             }
            },
            "type": "scatter"
           }
          ],
          "scatter3d": [
           {
            "line": {
             "colorbar": {
              "outlinewidth": 0,
              "ticks": ""
             }
            },
            "marker": {
             "colorbar": {
              "outlinewidth": 0,
              "ticks": ""
             }
            },
            "type": "scatter3d"
           }
          ],
          "scattercarpet": [
           {
            "marker": {
             "colorbar": {
              "outlinewidth": 0,
              "ticks": ""
             }
            },
            "type": "scattercarpet"
           }
          ],
          "scattergeo": [
           {
            "marker": {
             "colorbar": {
              "outlinewidth": 0,
              "ticks": ""
             }
            },
            "type": "scattergeo"
           }
          ],
          "scattergl": [
           {
            "marker": {
             "colorbar": {
              "outlinewidth": 0,
              "ticks": ""
             }
            },
            "type": "scattergl"
           }
          ],
          "scattermapbox": [
           {
            "marker": {
             "colorbar": {
              "outlinewidth": 0,
              "ticks": ""
             }
            },
            "type": "scattermapbox"
           }
          ],
          "scatterpolar": [
           {
            "marker": {
             "colorbar": {
              "outlinewidth": 0,
              "ticks": ""
             }
            },
            "type": "scatterpolar"
           }
          ],
          "scatterpolargl": [
           {
            "marker": {
             "colorbar": {
              "outlinewidth": 0,
              "ticks": ""
             }
            },
            "type": "scatterpolargl"
           }
          ],
          "scatterternary": [
           {
            "marker": {
             "colorbar": {
              "outlinewidth": 0,
              "ticks": ""
             }
            },
            "type": "scatterternary"
           }
          ],
          "surface": [
           {
            "colorbar": {
             "outlinewidth": 0,
             "ticks": ""
            },
            "colorscale": [
             [
              0,
              "#0d0887"
             ],
             [
              0.1111111111111111,
              "#46039f"
             ],
             [
              0.2222222222222222,
              "#7201a8"
             ],
             [
              0.3333333333333333,
              "#9c179e"
             ],
             [
              0.4444444444444444,
              "#bd3786"
             ],
             [
              0.5555555555555556,
              "#d8576b"
             ],
             [
              0.6666666666666666,
              "#ed7953"
             ],
             [
              0.7777777777777778,
              "#fb9f3a"
             ],
             [
              0.8888888888888888,
              "#fdca26"
             ],
             [
              1,
              "#f0f921"
             ]
            ],
            "type": "surface"
           }
          ],
          "table": [
           {
            "cells": {
             "fill": {
              "color": "#EBF0F8"
             },
             "line": {
              "color": "white"
             }
            },
            "header": {
             "fill": {
              "color": "#C8D4E3"
             },
             "line": {
              "color": "white"
             }
            },
            "type": "table"
           }
          ]
         },
         "layout": {
          "annotationdefaults": {
           "arrowcolor": "#2a3f5f",
           "arrowhead": 0,
           "arrowwidth": 1
          },
          "coloraxis": {
           "colorbar": {
            "outlinewidth": 0,
            "ticks": ""
           }
          },
          "colorscale": {
           "diverging": [
            [
             0,
             "#8e0152"
            ],
            [
             0.1,
             "#c51b7d"
            ],
            [
             0.2,
             "#de77ae"
            ],
            [
             0.3,
             "#f1b6da"
            ],
            [
             0.4,
             "#fde0ef"
            ],
            [
             0.5,
             "#f7f7f7"
            ],
            [
             0.6,
             "#e6f5d0"
            ],
            [
             0.7,
             "#b8e186"
            ],
            [
             0.8,
             "#7fbc41"
            ],
            [
             0.9,
             "#4d9221"
            ],
            [
             1,
             "#276419"
            ]
           ],
           "sequential": [
            [
             0,
             "#0d0887"
            ],
            [
             0.1111111111111111,
             "#46039f"
            ],
            [
             0.2222222222222222,
             "#7201a8"
            ],
            [
             0.3333333333333333,
             "#9c179e"
            ],
            [
             0.4444444444444444,
             "#bd3786"
            ],
            [
             0.5555555555555556,
             "#d8576b"
            ],
            [
             0.6666666666666666,
             "#ed7953"
            ],
            [
             0.7777777777777778,
             "#fb9f3a"
            ],
            [
             0.8888888888888888,
             "#fdca26"
            ],
            [
             1,
             "#f0f921"
            ]
           ],
           "sequentialminus": [
            [
             0,
             "#0d0887"
            ],
            [
             0.1111111111111111,
             "#46039f"
            ],
            [
             0.2222222222222222,
             "#7201a8"
            ],
            [
             0.3333333333333333,
             "#9c179e"
            ],
            [
             0.4444444444444444,
             "#bd3786"
            ],
            [
             0.5555555555555556,
             "#d8576b"
            ],
            [
             0.6666666666666666,
             "#ed7953"
            ],
            [
             0.7777777777777778,
             "#fb9f3a"
            ],
            [
             0.8888888888888888,
             "#fdca26"
            ],
            [
             1,
             "#f0f921"
            ]
           ]
          },
          "colorway": [
           "#636efa",
           "#EF553B",
           "#00cc96",
           "#ab63fa",
           "#FFA15A",
           "#19d3f3",
           "#FF6692",
           "#B6E880",
           "#FF97FF",
           "#FECB52"
          ],
          "font": {
           "color": "#2a3f5f"
          },
          "geo": {
           "bgcolor": "white",
           "lakecolor": "white",
           "landcolor": "#E5ECF6",
           "showlakes": true,
           "showland": true,
           "subunitcolor": "white"
          },
          "hoverlabel": {
           "align": "left"
          },
          "hovermode": "closest",
          "mapbox": {
           "style": "light"
          },
          "paper_bgcolor": "white",
          "plot_bgcolor": "#E5ECF6",
          "polar": {
           "angularaxis": {
            "gridcolor": "white",
            "linecolor": "white",
            "ticks": ""
           },
           "bgcolor": "#E5ECF6",
           "radialaxis": {
            "gridcolor": "white",
            "linecolor": "white",
            "ticks": ""
           }
          },
          "scene": {
           "xaxis": {
            "backgroundcolor": "#E5ECF6",
            "gridcolor": "white",
            "gridwidth": 2,
            "linecolor": "white",
            "showbackground": true,
            "ticks": "",
            "zerolinecolor": "white"
           },
           "yaxis": {
            "backgroundcolor": "#E5ECF6",
            "gridcolor": "white",
            "gridwidth": 2,
            "linecolor": "white",
            "showbackground": true,
            "ticks": "",
            "zerolinecolor": "white"
           },
           "zaxis": {
            "backgroundcolor": "#E5ECF6",
            "gridcolor": "white",
            "gridwidth": 2,
            "linecolor": "white",
            "showbackground": true,
            "ticks": "",
            "zerolinecolor": "white"
           }
          },
          "shapedefaults": {
           "line": {
            "color": "#2a3f5f"
           }
          },
          "ternary": {
           "aaxis": {
            "gridcolor": "white",
            "linecolor": "white",
            "ticks": ""
           },
           "baxis": {
            "gridcolor": "white",
            "linecolor": "white",
            "ticks": ""
           },
           "bgcolor": "#E5ECF6",
           "caxis": {
            "gridcolor": "white",
            "linecolor": "white",
            "ticks": ""
           }
          },
          "title": {
           "x": 0.05
          },
          "xaxis": {
           "automargin": true,
           "gridcolor": "white",
           "linecolor": "white",
           "ticks": "",
           "title": {
            "standoff": 15
           },
           "zerolinecolor": "white",
           "zerolinewidth": 2
          },
          "yaxis": {
           "automargin": true,
           "gridcolor": "white",
           "linecolor": "white",
           "ticks": "",
           "title": {
            "standoff": 15
           },
           "zerolinecolor": "white",
           "zerolinewidth": 2
          }
         }
        },
        "title": {
         "font": {
          "color": "#4D5663"
         },
         "text": "Number of category kinds in noteevents"
        },
        "xaxis": {
         "gridcolor": "#E1E5ED",
         "showgrid": true,
         "tickfont": {
          "color": "#4D5663"
         },
         "title": {
          "font": {
           "color": "#4D5663"
          },
          "text": ""
         },
         "zerolinecolor": "#E1E5ED"
        },
        "yaxis": {
         "gridcolor": "#E1E5ED",
         "showgrid": true,
         "tickfont": {
          "color": "#4D5663"
         },
         "title": {
          "font": {
           "color": "#4D5663"
          },
          "text": "Number of notes"
         },
         "zerolinecolor": "#E1E5ED"
        }
       }
      },
      "text/html": [
       "<div>\n",
       "        \n",
       "        \n",
       "            <div id=\"1e0dcbdb-02ac-40c2-a8d5-d7155edbaf3b\" class=\"plotly-graph-div\" style=\"height:525px; width:100%;\"></div>\n",
       "            <script type=\"text/javascript\">\n",
       "                require([\"plotly\"], function(Plotly) {\n",
       "                    window.PLOTLYENV=window.PLOTLYENV || {};\n",
       "                    window.PLOTLYENV.BASE_URL='https://plot.ly';\n",
       "                    \n",
       "                if (document.getElementById(\"1e0dcbdb-02ac-40c2-a8d5-d7155edbaf3b\")) {\n",
       "                    Plotly.newPlot(\n",
       "                        '1e0dcbdb-02ac-40c2-a8d5-d7155edbaf3b',\n",
       "                        [{\"marker\": {\"color\": \"rgba(255, 153, 51, 0.6)\", \"line\": {\"color\": \"rgba(255, 153, 51, 1.0)\", \"width\": 1}}, \"name\": \"CATEGORY\", \"orientation\": \"v\", \"text\": \"\", \"type\": \"bar\", \"x\": [\"Nursing\", \"Nursing/other\", \"Radiology\", \"Physician \", \"ECG\", \"Respiratory \", \"Echo\", \"General\", \"Nutrition\", \"Rehab Services\", \"Social Work\", \"Case Management \", \"Pharmacy\", \"Consult\"], \"y\": [13256, 12693, 11723, 10643, 4469, 2454, 949, 680, 638, 231, 142, 135, 15, 1]}],\n",
       "                        {\"legend\": {\"bgcolor\": \"#F5F6F9\", \"font\": {\"color\": \"#4D5663\"}}, \"paper_bgcolor\": \"#F5F6F9\", \"plot_bgcolor\": \"#F5F6F9\", \"template\": {\"data\": {\"bar\": [{\"error_x\": {\"color\": \"#2a3f5f\"}, \"error_y\": {\"color\": \"#2a3f5f\"}, \"marker\": {\"line\": {\"color\": \"#E5ECF6\", \"width\": 0.5}}, \"type\": \"bar\"}], \"barpolar\": [{\"marker\": {\"line\": {\"color\": \"#E5ECF6\", \"width\": 0.5}}, \"type\": \"barpolar\"}], \"carpet\": [{\"aaxis\": {\"endlinecolor\": \"#2a3f5f\", \"gridcolor\": \"white\", \"linecolor\": \"white\", \"minorgridcolor\": \"white\", \"startlinecolor\": \"#2a3f5f\"}, \"baxis\": {\"endlinecolor\": \"#2a3f5f\", \"gridcolor\": \"white\", \"linecolor\": \"white\", \"minorgridcolor\": \"white\", \"startlinecolor\": \"#2a3f5f\"}, \"type\": \"carpet\"}], \"choropleth\": [{\"colorbar\": {\"outlinewidth\": 0, \"ticks\": \"\"}, \"type\": \"choropleth\"}], \"contour\": [{\"colorbar\": {\"outlinewidth\": 0, \"ticks\": \"\"}, \"colorscale\": [[0.0, \"#0d0887\"], [0.1111111111111111, \"#46039f\"], [0.2222222222222222, \"#7201a8\"], [0.3333333333333333, \"#9c179e\"], [0.4444444444444444, \"#bd3786\"], [0.5555555555555556, \"#d8576b\"], [0.6666666666666666, \"#ed7953\"], [0.7777777777777778, \"#fb9f3a\"], [0.8888888888888888, \"#fdca26\"], [1.0, \"#f0f921\"]], \"type\": \"contour\"}], \"contourcarpet\": [{\"colorbar\": {\"outlinewidth\": 0, \"ticks\": \"\"}, \"type\": \"contourcarpet\"}], \"heatmap\": [{\"colorbar\": {\"outlinewidth\": 0, \"ticks\": \"\"}, \"colorscale\": [[0.0, \"#0d0887\"], [0.1111111111111111, \"#46039f\"], [0.2222222222222222, \"#7201a8\"], [0.3333333333333333, \"#9c179e\"], [0.4444444444444444, \"#bd3786\"], [0.5555555555555556, \"#d8576b\"], [0.6666666666666666, \"#ed7953\"], [0.7777777777777778, \"#fb9f3a\"], [0.8888888888888888, \"#fdca26\"], [1.0, \"#f0f921\"]], \"type\": \"heatmap\"}], \"heatmapgl\": [{\"colorbar\": {\"outlinewidth\": 0, \"ticks\": \"\"}, \"colorscale\": [[0.0, \"#0d0887\"], [0.1111111111111111, \"#46039f\"], [0.2222222222222222, \"#7201a8\"], [0.3333333333333333, \"#9c179e\"], [0.4444444444444444, \"#bd3786\"], [0.5555555555555556, \"#d8576b\"], [0.6666666666666666, \"#ed7953\"], [0.7777777777777778, \"#fb9f3a\"], [0.8888888888888888, \"#fdca26\"], [1.0, \"#f0f921\"]], \"type\": \"heatmapgl\"}], \"histogram\": [{\"marker\": {\"colorbar\": {\"outlinewidth\": 0, \"ticks\": \"\"}}, \"type\": \"histogram\"}], \"histogram2d\": [{\"colorbar\": {\"outlinewidth\": 0, \"ticks\": \"\"}, \"colorscale\": [[0.0, \"#0d0887\"], [0.1111111111111111, \"#46039f\"], [0.2222222222222222, \"#7201a8\"], [0.3333333333333333, \"#9c179e\"], [0.4444444444444444, \"#bd3786\"], [0.5555555555555556, \"#d8576b\"], [0.6666666666666666, \"#ed7953\"], [0.7777777777777778, \"#fb9f3a\"], [0.8888888888888888, \"#fdca26\"], [1.0, \"#f0f921\"]], \"type\": \"histogram2d\"}], \"histogram2dcontour\": [{\"colorbar\": {\"outlinewidth\": 0, \"ticks\": \"\"}, \"colorscale\": [[0.0, \"#0d0887\"], [0.1111111111111111, \"#46039f\"], [0.2222222222222222, \"#7201a8\"], [0.3333333333333333, \"#9c179e\"], [0.4444444444444444, \"#bd3786\"], [0.5555555555555556, \"#d8576b\"], [0.6666666666666666, \"#ed7953\"], [0.7777777777777778, \"#fb9f3a\"], [0.8888888888888888, \"#fdca26\"], [1.0, \"#f0f921\"]], \"type\": \"histogram2dcontour\"}], \"mesh3d\": [{\"colorbar\": {\"outlinewidth\": 0, \"ticks\": \"\"}, \"type\": \"mesh3d\"}], \"parcoords\": [{\"line\": {\"colorbar\": {\"outlinewidth\": 0, \"ticks\": \"\"}}, \"type\": \"parcoords\"}], \"pie\": [{\"automargin\": true, \"type\": \"pie\"}], \"scatter\": [{\"marker\": {\"colorbar\": {\"outlinewidth\": 0, \"ticks\": \"\"}}, \"type\": \"scatter\"}], \"scatter3d\": [{\"line\": {\"colorbar\": {\"outlinewidth\": 0, \"ticks\": \"\"}}, \"marker\": {\"colorbar\": {\"outlinewidth\": 0, \"ticks\": \"\"}}, \"type\": \"scatter3d\"}], \"scattercarpet\": [{\"marker\": {\"colorbar\": {\"outlinewidth\": 0, \"ticks\": \"\"}}, \"type\": \"scattercarpet\"}], \"scattergeo\": [{\"marker\": {\"colorbar\": {\"outlinewidth\": 0, \"ticks\": \"\"}}, \"type\": \"scattergeo\"}], \"scattergl\": [{\"marker\": {\"colorbar\": {\"outlinewidth\": 0, \"ticks\": \"\"}}, \"type\": \"scattergl\"}], \"scattermapbox\": [{\"marker\": {\"colorbar\": {\"outlinewidth\": 0, \"ticks\": \"\"}}, \"type\": \"scattermapbox\"}], \"scatterpolar\": [{\"marker\": {\"colorbar\": {\"outlinewidth\": 0, \"ticks\": \"\"}}, \"type\": \"scatterpolar\"}], \"scatterpolargl\": [{\"marker\": {\"colorbar\": {\"outlinewidth\": 0, \"ticks\": \"\"}}, \"type\": \"scatterpolargl\"}], \"scatterternary\": [{\"marker\": {\"colorbar\": {\"outlinewidth\": 0, \"ticks\": \"\"}}, \"type\": \"scatterternary\"}], \"surface\": [{\"colorbar\": {\"outlinewidth\": 0, \"ticks\": \"\"}, \"colorscale\": [[0.0, \"#0d0887\"], [0.1111111111111111, \"#46039f\"], [0.2222222222222222, \"#7201a8\"], [0.3333333333333333, \"#9c179e\"], [0.4444444444444444, \"#bd3786\"], [0.5555555555555556, \"#d8576b\"], [0.6666666666666666, \"#ed7953\"], [0.7777777777777778, \"#fb9f3a\"], [0.8888888888888888, \"#fdca26\"], [1.0, \"#f0f921\"]], \"type\": \"surface\"}], \"table\": [{\"cells\": {\"fill\": {\"color\": \"#EBF0F8\"}, \"line\": {\"color\": \"white\"}}, \"header\": {\"fill\": {\"color\": \"#C8D4E3\"}, \"line\": {\"color\": \"white\"}}, \"type\": \"table\"}]}, \"layout\": {\"annotationdefaults\": {\"arrowcolor\": \"#2a3f5f\", \"arrowhead\": 0, \"arrowwidth\": 1}, \"coloraxis\": {\"colorbar\": {\"outlinewidth\": 0, \"ticks\": \"\"}}, \"colorscale\": {\"diverging\": [[0, \"#8e0152\"], [0.1, \"#c51b7d\"], [0.2, \"#de77ae\"], [0.3, \"#f1b6da\"], [0.4, \"#fde0ef\"], [0.5, \"#f7f7f7\"], [0.6, \"#e6f5d0\"], [0.7, \"#b8e186\"], [0.8, \"#7fbc41\"], [0.9, \"#4d9221\"], [1, \"#276419\"]], \"sequential\": [[0.0, \"#0d0887\"], [0.1111111111111111, \"#46039f\"], [0.2222222222222222, \"#7201a8\"], [0.3333333333333333, \"#9c179e\"], [0.4444444444444444, \"#bd3786\"], [0.5555555555555556, \"#d8576b\"], [0.6666666666666666, \"#ed7953\"], [0.7777777777777778, \"#fb9f3a\"], [0.8888888888888888, \"#fdca26\"], [1.0, \"#f0f921\"]], \"sequentialminus\": [[0.0, \"#0d0887\"], [0.1111111111111111, \"#46039f\"], [0.2222222222222222, \"#7201a8\"], [0.3333333333333333, \"#9c179e\"], [0.4444444444444444, \"#bd3786\"], [0.5555555555555556, \"#d8576b\"], [0.6666666666666666, \"#ed7953\"], [0.7777777777777778, \"#fb9f3a\"], [0.8888888888888888, \"#fdca26\"], [1.0, \"#f0f921\"]]}, \"colorway\": [\"#636efa\", \"#EF553B\", \"#00cc96\", \"#ab63fa\", \"#FFA15A\", \"#19d3f3\", \"#FF6692\", \"#B6E880\", \"#FF97FF\", \"#FECB52\"], \"font\": {\"color\": \"#2a3f5f\"}, \"geo\": {\"bgcolor\": \"white\", \"lakecolor\": \"white\", \"landcolor\": \"#E5ECF6\", \"showlakes\": true, \"showland\": true, \"subunitcolor\": \"white\"}, \"hoverlabel\": {\"align\": \"left\"}, \"hovermode\": \"closest\", \"mapbox\": {\"style\": \"light\"}, \"paper_bgcolor\": \"white\", \"plot_bgcolor\": \"#E5ECF6\", \"polar\": {\"angularaxis\": {\"gridcolor\": \"white\", \"linecolor\": \"white\", \"ticks\": \"\"}, \"bgcolor\": \"#E5ECF6\", \"radialaxis\": {\"gridcolor\": \"white\", \"linecolor\": \"white\", \"ticks\": \"\"}}, \"scene\": {\"xaxis\": {\"backgroundcolor\": \"#E5ECF6\", \"gridcolor\": \"white\", \"gridwidth\": 2, \"linecolor\": \"white\", \"showbackground\": true, \"ticks\": \"\", \"zerolinecolor\": \"white\"}, \"yaxis\": {\"backgroundcolor\": \"#E5ECF6\", \"gridcolor\": \"white\", \"gridwidth\": 2, \"linecolor\": \"white\", \"showbackground\": true, \"ticks\": \"\", \"zerolinecolor\": \"white\"}, \"zaxis\": {\"backgroundcolor\": \"#E5ECF6\", \"gridcolor\": \"white\", \"gridwidth\": 2, \"linecolor\": \"white\", \"showbackground\": true, \"ticks\": \"\", \"zerolinecolor\": \"white\"}}, \"shapedefaults\": {\"line\": {\"color\": \"#2a3f5f\"}}, \"ternary\": {\"aaxis\": {\"gridcolor\": \"white\", \"linecolor\": \"white\", \"ticks\": \"\"}, \"baxis\": {\"gridcolor\": \"white\", \"linecolor\": \"white\", \"ticks\": \"\"}, \"bgcolor\": \"#E5ECF6\", \"caxis\": {\"gridcolor\": \"white\", \"linecolor\": \"white\", \"ticks\": \"\"}}, \"title\": {\"x\": 0.05}, \"xaxis\": {\"automargin\": true, \"gridcolor\": \"white\", \"linecolor\": \"white\", \"ticks\": \"\", \"title\": {\"standoff\": 15}, \"zerolinecolor\": \"white\", \"zerolinewidth\": 2}, \"yaxis\": {\"automargin\": true, \"gridcolor\": \"white\", \"linecolor\": \"white\", \"ticks\": \"\", \"title\": {\"standoff\": 15}, \"zerolinecolor\": \"white\", \"zerolinewidth\": 2}}}, \"title\": {\"font\": {\"color\": \"#4D5663\"}, \"text\": \"Number of category kinds in noteevents\"}, \"xaxis\": {\"gridcolor\": \"#E1E5ED\", \"showgrid\": true, \"tickfont\": {\"color\": \"#4D5663\"}, \"title\": {\"font\": {\"color\": \"#4D5663\"}, \"text\": \"\"}, \"zerolinecolor\": \"#E1E5ED\"}, \"yaxis\": {\"gridcolor\": \"#E1E5ED\", \"showgrid\": true, \"tickfont\": {\"color\": \"#4D5663\"}, \"title\": {\"font\": {\"color\": \"#4D5663\"}, \"text\": \"Number of notes\"}, \"zerolinecolor\": \"#E1E5ED\"}},\n",
       "                        {\"showLink\": true, \"linkText\": \"Export to plot.ly\", \"plotlyServerURL\": \"https://plot.ly\", \"responsive\": true}\n",
       "                    ).then(function(){\n",
       "                            \n",
       "var gd = document.getElementById('1e0dcbdb-02ac-40c2-a8d5-d7155edbaf3b');\n",
       "var x = new MutationObserver(function (mutations, observer) {{\n",
       "        var display = window.getComputedStyle(gd).display;\n",
       "        if (!display || display === 'none') {{\n",
       "            console.log([gd, 'removed!']);\n",
       "            Plotly.purge(gd);\n",
       "            observer.disconnect();\n",
       "        }}\n",
       "}});\n",
       "\n",
       "// Listen for the removal of the full notebook cells\n",
       "var notebookContainer = gd.closest('#notebook-container');\n",
       "if (notebookContainer) {{\n",
       "    x.observe(notebookContainer, {childList: true});\n",
       "}}\n",
       "\n",
       "// Listen for the clearing of the current output cell\n",
       "var outputEl = gd.closest('.output');\n",
       "if (outputEl) {{\n",
       "    x.observe(outputEl, {childList: true});\n",
       "}}\n",
       "\n",
       "                        })\n",
       "                };\n",
       "                });\n",
       "            </script>\n",
       "        </div>"
      ]
     },
     "metadata": {},
     "output_type": "display_data"
    }
   ],
   "source": [
    "pneumonia_no_disch_df['CATEGORY'].value_counts().sort_values(ascending=False).iplot(kind='bar', yTitle='Number of notes', \n",
    "                                                                title='Number of category kinds in noteevents')"
   ]
  },
  {
   "cell_type": "code",
   "execution_count": 17,
   "metadata": {},
   "outputs": [
    {
     "name": "stdout",
     "output_type": "stream",
     "text": [
      "<class 'pandas.core.frame.DataFrame'>\n",
      "Int64Index: 58029 entries, 59103 to 2066669\n",
      "Data columns (total 8 columns):\n",
      " #   Column        Non-Null Count  Dtype \n",
      "---  ------        --------------  ----- \n",
      " 0   ROW_ID_x      58029 non-null  int64 \n",
      " 1   SUBJECT_ID_x  58029 non-null  int64 \n",
      " 2   CHARTDATE     58029 non-null  object\n",
      " 3   STORETIME     40888 non-null  object\n",
      " 4   CATEGORY      58029 non-null  object\n",
      " 5   DESCRIPTION   58029 non-null  object\n",
      " 6   TEXT          58029 non-null  object\n",
      " 7   DEATHTIME     11895 non-null  object\n",
      "dtypes: int64(2), object(6)\n",
      "memory usage: 4.0+ MB\n"
     ]
    }
   ],
   "source": [
    "pneumonia_no_disch_df.info()"
   ]
  },
  {
   "cell_type": "code",
   "execution_count": 18,
   "metadata": {},
   "outputs": [
    {
     "data": {
      "text/plain": [
       "(58029, 8)"
      ]
     },
     "execution_count": 18,
     "metadata": {},
     "output_type": "execute_result"
    }
   ],
   "source": [
    "pneumonia_no_disch_df.shape"
   ]
  },
  {
   "cell_type": "code",
   "execution_count": 19,
   "metadata": {},
   "outputs": [],
   "source": [
    "pneumonia_alive_no_disch = pneumonia_no_disch_df[pneumonia_no_disch_df.DEATHTIME.isnull()]\n",
    "pneumonia_dead_no_disch = pneumonia_no_disch_df[pneumonia_no_disch_df.DEATHTIME.notnull()]"
   ]
  },
  {
   "cell_type": "code",
   "execution_count": 20,
   "metadata": {},
   "outputs": [
    {
     "data": {
      "text/plain": [
       "(11895, 8)"
      ]
     },
     "execution_count": 20,
     "metadata": {},
     "output_type": "execute_result"
    }
   ],
   "source": [
    "pneumonia_dead_no_disch.shape"
   ]
  },
  {
   "cell_type": "code",
   "execution_count": 21,
   "metadata": {},
   "outputs": [
    {
     "data": {
      "text/plain": [
       "(46134, 8)"
      ]
     },
     "execution_count": 21,
     "metadata": {},
     "output_type": "execute_result"
    }
   ],
   "source": [
    "pneumonia_alive_no_disch.shape"
   ]
  },
  {
   "cell_type": "code",
   "execution_count": 22,
   "metadata": {},
   "outputs": [],
   "source": [
    "pneumonia_alive_no_disch = pneumonia_alive_no_disch.sort_values(by=['SUBJECT_ID_x','CHARTDATE', 'ROW_ID_x'])\n",
    "pneumonia_dead_no_disch = pneumonia_dead_no_disch.sort_values(by=['SUBJECT_ID_x','CHARTDATE', 'ROW_ID_x'])"
   ]
  },
  {
   "cell_type": "code",
   "execution_count": 23,
   "metadata": {},
   "outputs": [
    {
     "data": {
      "application/vnd.plotly.v1+json": {
       "config": {
        "linkText": "Export to plot.ly",
        "plotlyServerURL": "https://plot.ly",
        "showLink": true
       },
       "data": [
        {
         "marker": {
          "color": "rgba(255, 153, 51, 0.6)",
          "line": {
           "color": "rgba(255, 153, 51, 1.0)",
           "width": 1
          }
         },
         "name": "CATEGORY",
         "orientation": "v",
         "text": "",
         "type": "bar",
         "x": [
          "Nursing",
          "Nursing/other",
          "Radiology",
          "Physician ",
          "ECG",
          "Respiratory ",
          "Echo",
          "Nutrition",
          "General",
          "Rehab Services",
          "Case Management ",
          "Social Work",
          "Pharmacy"
         ],
         "y": [
          10574,
          10043,
          9448,
          8431,
          3623,
          1831,
          782,
          489,
          486,
          207,
          106,
          100,
          14
         ]
        }
       ],
       "layout": {
        "legend": {
         "bgcolor": "#F5F6F9",
         "font": {
          "color": "#4D5663"
         }
        },
        "paper_bgcolor": "#F5F6F9",
        "plot_bgcolor": "#F5F6F9",
        "template": {
         "data": {
          "bar": [
           {
            "error_x": {
             "color": "#2a3f5f"
            },
            "error_y": {
             "color": "#2a3f5f"
            },
            "marker": {
             "line": {
              "color": "#E5ECF6",
              "width": 0.5
             }
            },
            "type": "bar"
           }
          ],
          "barpolar": [
           {
            "marker": {
             "line": {
              "color": "#E5ECF6",
              "width": 0.5
             }
            },
            "type": "barpolar"
           }
          ],
          "carpet": [
           {
            "aaxis": {
             "endlinecolor": "#2a3f5f",
             "gridcolor": "white",
             "linecolor": "white",
             "minorgridcolor": "white",
             "startlinecolor": "#2a3f5f"
            },
            "baxis": {
             "endlinecolor": "#2a3f5f",
             "gridcolor": "white",
             "linecolor": "white",
             "minorgridcolor": "white",
             "startlinecolor": "#2a3f5f"
            },
            "type": "carpet"
           }
          ],
          "choropleth": [
           {
            "colorbar": {
             "outlinewidth": 0,
             "ticks": ""
            },
            "type": "choropleth"
           }
          ],
          "contour": [
           {
            "colorbar": {
             "outlinewidth": 0,
             "ticks": ""
            },
            "colorscale": [
             [
              0,
              "#0d0887"
             ],
             [
              0.1111111111111111,
              "#46039f"
             ],
             [
              0.2222222222222222,
              "#7201a8"
             ],
             [
              0.3333333333333333,
              "#9c179e"
             ],
             [
              0.4444444444444444,
              "#bd3786"
             ],
             [
              0.5555555555555556,
              "#d8576b"
             ],
             [
              0.6666666666666666,
              "#ed7953"
             ],
             [
              0.7777777777777778,
              "#fb9f3a"
             ],
             [
              0.8888888888888888,
              "#fdca26"
             ],
             [
              1,
              "#f0f921"
             ]
            ],
            "type": "contour"
           }
          ],
          "contourcarpet": [
           {
            "colorbar": {
             "outlinewidth": 0,
             "ticks": ""
            },
            "type": "contourcarpet"
           }
          ],
          "heatmap": [
           {
            "colorbar": {
             "outlinewidth": 0,
             "ticks": ""
            },
            "colorscale": [
             [
              0,
              "#0d0887"
             ],
             [
              0.1111111111111111,
              "#46039f"
             ],
             [
              0.2222222222222222,
              "#7201a8"
             ],
             [
              0.3333333333333333,
              "#9c179e"
             ],
             [
              0.4444444444444444,
              "#bd3786"
             ],
             [
              0.5555555555555556,
              "#d8576b"
             ],
             [
              0.6666666666666666,
              "#ed7953"
             ],
             [
              0.7777777777777778,
              "#fb9f3a"
             ],
             [
              0.8888888888888888,
              "#fdca26"
             ],
             [
              1,
              "#f0f921"
             ]
            ],
            "type": "heatmap"
           }
          ],
          "heatmapgl": [
           {
            "colorbar": {
             "outlinewidth": 0,
             "ticks": ""
            },
            "colorscale": [
             [
              0,
              "#0d0887"
             ],
             [
              0.1111111111111111,
              "#46039f"
             ],
             [
              0.2222222222222222,
              "#7201a8"
             ],
             [
              0.3333333333333333,
              "#9c179e"
             ],
             [
              0.4444444444444444,
              "#bd3786"
             ],
             [
              0.5555555555555556,
              "#d8576b"
             ],
             [
              0.6666666666666666,
              "#ed7953"
             ],
             [
              0.7777777777777778,
              "#fb9f3a"
             ],
             [
              0.8888888888888888,
              "#fdca26"
             ],
             [
              1,
              "#f0f921"
             ]
            ],
            "type": "heatmapgl"
           }
          ],
          "histogram": [
           {
            "marker": {
             "colorbar": {
              "outlinewidth": 0,
              "ticks": ""
             }
            },
            "type": "histogram"
           }
          ],
          "histogram2d": [
           {
            "colorbar": {
             "outlinewidth": 0,
             "ticks": ""
            },
            "colorscale": [
             [
              0,
              "#0d0887"
             ],
             [
              0.1111111111111111,
              "#46039f"
             ],
             [
              0.2222222222222222,
              "#7201a8"
             ],
             [
              0.3333333333333333,
              "#9c179e"
             ],
             [
              0.4444444444444444,
              "#bd3786"
             ],
             [
              0.5555555555555556,
              "#d8576b"
             ],
             [
              0.6666666666666666,
              "#ed7953"
             ],
             [
              0.7777777777777778,
              "#fb9f3a"
             ],
             [
              0.8888888888888888,
              "#fdca26"
             ],
             [
              1,
              "#f0f921"
             ]
            ],
            "type": "histogram2d"
           }
          ],
          "histogram2dcontour": [
           {
            "colorbar": {
             "outlinewidth": 0,
             "ticks": ""
            },
            "colorscale": [
             [
              0,
              "#0d0887"
             ],
             [
              0.1111111111111111,
              "#46039f"
             ],
             [
              0.2222222222222222,
              "#7201a8"
             ],
             [
              0.3333333333333333,
              "#9c179e"
             ],
             [
              0.4444444444444444,
              "#bd3786"
             ],
             [
              0.5555555555555556,
              "#d8576b"
             ],
             [
              0.6666666666666666,
              "#ed7953"
             ],
             [
              0.7777777777777778,
              "#fb9f3a"
             ],
             [
              0.8888888888888888,
              "#fdca26"
             ],
             [
              1,
              "#f0f921"
             ]
            ],
            "type": "histogram2dcontour"
           }
          ],
          "mesh3d": [
           {
            "colorbar": {
             "outlinewidth": 0,
             "ticks": ""
            },
            "type": "mesh3d"
           }
          ],
          "parcoords": [
           {
            "line": {
             "colorbar": {
              "outlinewidth": 0,
              "ticks": ""
             }
            },
            "type": "parcoords"
           }
          ],
          "pie": [
           {
            "automargin": true,
            "type": "pie"
           }
          ],
          "scatter": [
           {
            "marker": {
             "colorbar": {
              "outlinewidth": 0,
              "ticks": ""
             }
            },
            "type": "scatter"
           }
          ],
          "scatter3d": [
           {
            "line": {
             "colorbar": {
              "outlinewidth": 0,
              "ticks": ""
             }
            },
            "marker": {
             "colorbar": {
              "outlinewidth": 0,
              "ticks": ""
             }
            },
            "type": "scatter3d"
           }
          ],
          "scattercarpet": [
           {
            "marker": {
             "colorbar": {
              "outlinewidth": 0,
              "ticks": ""
             }
            },
            "type": "scattercarpet"
           }
          ],
          "scattergeo": [
           {
            "marker": {
             "colorbar": {
              "outlinewidth": 0,
              "ticks": ""
             }
            },
            "type": "scattergeo"
           }
          ],
          "scattergl": [
           {
            "marker": {
             "colorbar": {
              "outlinewidth": 0,
              "ticks": ""
             }
            },
            "type": "scattergl"
           }
          ],
          "scattermapbox": [
           {
            "marker": {
             "colorbar": {
              "outlinewidth": 0,
              "ticks": ""
             }
            },
            "type": "scattermapbox"
           }
          ],
          "scatterpolar": [
           {
            "marker": {
             "colorbar": {
              "outlinewidth": 0,
              "ticks": ""
             }
            },
            "type": "scatterpolar"
           }
          ],
          "scatterpolargl": [
           {
            "marker": {
             "colorbar": {
              "outlinewidth": 0,
              "ticks": ""
             }
            },
            "type": "scatterpolargl"
           }
          ],
          "scatterternary": [
           {
            "marker": {
             "colorbar": {
              "outlinewidth": 0,
              "ticks": ""
             }
            },
            "type": "scatterternary"
           }
          ],
          "surface": [
           {
            "colorbar": {
             "outlinewidth": 0,
             "ticks": ""
            },
            "colorscale": [
             [
              0,
              "#0d0887"
             ],
             [
              0.1111111111111111,
              "#46039f"
             ],
             [
              0.2222222222222222,
              "#7201a8"
             ],
             [
              0.3333333333333333,
              "#9c179e"
             ],
             [
              0.4444444444444444,
              "#bd3786"
             ],
             [
              0.5555555555555556,
              "#d8576b"
             ],
             [
              0.6666666666666666,
              "#ed7953"
             ],
             [
              0.7777777777777778,
              "#fb9f3a"
             ],
             [
              0.8888888888888888,
              "#fdca26"
             ],
             [
              1,
              "#f0f921"
             ]
            ],
            "type": "surface"
           }
          ],
          "table": [
           {
            "cells": {
             "fill": {
              "color": "#EBF0F8"
             },
             "line": {
              "color": "white"
             }
            },
            "header": {
             "fill": {
              "color": "#C8D4E3"
             },
             "line": {
              "color": "white"
             }
            },
            "type": "table"
           }
          ]
         },
         "layout": {
          "annotationdefaults": {
           "arrowcolor": "#2a3f5f",
           "arrowhead": 0,
           "arrowwidth": 1
          },
          "coloraxis": {
           "colorbar": {
            "outlinewidth": 0,
            "ticks": ""
           }
          },
          "colorscale": {
           "diverging": [
            [
             0,
             "#8e0152"
            ],
            [
             0.1,
             "#c51b7d"
            ],
            [
             0.2,
             "#de77ae"
            ],
            [
             0.3,
             "#f1b6da"
            ],
            [
             0.4,
             "#fde0ef"
            ],
            [
             0.5,
             "#f7f7f7"
            ],
            [
             0.6,
             "#e6f5d0"
            ],
            [
             0.7,
             "#b8e186"
            ],
            [
             0.8,
             "#7fbc41"
            ],
            [
             0.9,
             "#4d9221"
            ],
            [
             1,
             "#276419"
            ]
           ],
           "sequential": [
            [
             0,
             "#0d0887"
            ],
            [
             0.1111111111111111,
             "#46039f"
            ],
            [
             0.2222222222222222,
             "#7201a8"
            ],
            [
             0.3333333333333333,
             "#9c179e"
            ],
            [
             0.4444444444444444,
             "#bd3786"
            ],
            [
             0.5555555555555556,
             "#d8576b"
            ],
            [
             0.6666666666666666,
             "#ed7953"
            ],
            [
             0.7777777777777778,
             "#fb9f3a"
            ],
            [
             0.8888888888888888,
             "#fdca26"
            ],
            [
             1,
             "#f0f921"
            ]
           ],
           "sequentialminus": [
            [
             0,
             "#0d0887"
            ],
            [
             0.1111111111111111,
             "#46039f"
            ],
            [
             0.2222222222222222,
             "#7201a8"
            ],
            [
             0.3333333333333333,
             "#9c179e"
            ],
            [
             0.4444444444444444,
             "#bd3786"
            ],
            [
             0.5555555555555556,
             "#d8576b"
            ],
            [
             0.6666666666666666,
             "#ed7953"
            ],
            [
             0.7777777777777778,
             "#fb9f3a"
            ],
            [
             0.8888888888888888,
             "#fdca26"
            ],
            [
             1,
             "#f0f921"
            ]
           ]
          },
          "colorway": [
           "#636efa",
           "#EF553B",
           "#00cc96",
           "#ab63fa",
           "#FFA15A",
           "#19d3f3",
           "#FF6692",
           "#B6E880",
           "#FF97FF",
           "#FECB52"
          ],
          "font": {
           "color": "#2a3f5f"
          },
          "geo": {
           "bgcolor": "white",
           "lakecolor": "white",
           "landcolor": "#E5ECF6",
           "showlakes": true,
           "showland": true,
           "subunitcolor": "white"
          },
          "hoverlabel": {
           "align": "left"
          },
          "hovermode": "closest",
          "mapbox": {
           "style": "light"
          },
          "paper_bgcolor": "white",
          "plot_bgcolor": "#E5ECF6",
          "polar": {
           "angularaxis": {
            "gridcolor": "white",
            "linecolor": "white",
            "ticks": ""
           },
           "bgcolor": "#E5ECF6",
           "radialaxis": {
            "gridcolor": "white",
            "linecolor": "white",
            "ticks": ""
           }
          },
          "scene": {
           "xaxis": {
            "backgroundcolor": "#E5ECF6",
            "gridcolor": "white",
            "gridwidth": 2,
            "linecolor": "white",
            "showbackground": true,
            "ticks": "",
            "zerolinecolor": "white"
           },
           "yaxis": {
            "backgroundcolor": "#E5ECF6",
            "gridcolor": "white",
            "gridwidth": 2,
            "linecolor": "white",
            "showbackground": true,
            "ticks": "",
            "zerolinecolor": "white"
           },
           "zaxis": {
            "backgroundcolor": "#E5ECF6",
            "gridcolor": "white",
            "gridwidth": 2,
            "linecolor": "white",
            "showbackground": true,
            "ticks": "",
            "zerolinecolor": "white"
           }
          },
          "shapedefaults": {
           "line": {
            "color": "#2a3f5f"
           }
          },
          "ternary": {
           "aaxis": {
            "gridcolor": "white",
            "linecolor": "white",
            "ticks": ""
           },
           "baxis": {
            "gridcolor": "white",
            "linecolor": "white",
            "ticks": ""
           },
           "bgcolor": "#E5ECF6",
           "caxis": {
            "gridcolor": "white",
            "linecolor": "white",
            "ticks": ""
           }
          },
          "title": {
           "x": 0.05
          },
          "xaxis": {
           "automargin": true,
           "gridcolor": "white",
           "linecolor": "white",
           "ticks": "",
           "title": {
            "standoff": 15
           },
           "zerolinecolor": "white",
           "zerolinewidth": 2
          },
          "yaxis": {
           "automargin": true,
           "gridcolor": "white",
           "linecolor": "white",
           "ticks": "",
           "title": {
            "standoff": 15
           },
           "zerolinecolor": "white",
           "zerolinewidth": 2
          }
         }
        },
        "title": {
         "font": {
          "color": "#4D5663"
         },
         "text": "Number of category kinds in pneumonia alive"
        },
        "xaxis": {
         "gridcolor": "#E1E5ED",
         "showgrid": true,
         "tickfont": {
          "color": "#4D5663"
         },
         "title": {
          "font": {
           "color": "#4D5663"
          },
          "text": ""
         },
         "zerolinecolor": "#E1E5ED"
        },
        "yaxis": {
         "gridcolor": "#E1E5ED",
         "showgrid": true,
         "tickfont": {
          "color": "#4D5663"
         },
         "title": {
          "font": {
           "color": "#4D5663"
          },
          "text": "Number of notes"
         },
         "zerolinecolor": "#E1E5ED"
        }
       }
      },
      "text/html": [
       "<div>\n",
       "        \n",
       "        \n",
       "            <div id=\"6f780671-8752-4227-9c77-5674e7784a6e\" class=\"plotly-graph-div\" style=\"height:525px; width:100%;\"></div>\n",
       "            <script type=\"text/javascript\">\n",
       "                require([\"plotly\"], function(Plotly) {\n",
       "                    window.PLOTLYENV=window.PLOTLYENV || {};\n",
       "                    window.PLOTLYENV.BASE_URL='https://plot.ly';\n",
       "                    \n",
       "                if (document.getElementById(\"6f780671-8752-4227-9c77-5674e7784a6e\")) {\n",
       "                    Plotly.newPlot(\n",
       "                        '6f780671-8752-4227-9c77-5674e7784a6e',\n",
       "                        [{\"marker\": {\"color\": \"rgba(255, 153, 51, 0.6)\", \"line\": {\"color\": \"rgba(255, 153, 51, 1.0)\", \"width\": 1}}, \"name\": \"CATEGORY\", \"orientation\": \"v\", \"text\": \"\", \"type\": \"bar\", \"x\": [\"Nursing\", \"Nursing/other\", \"Radiology\", \"Physician \", \"ECG\", \"Respiratory \", \"Echo\", \"Nutrition\", \"General\", \"Rehab Services\", \"Case Management \", \"Social Work\", \"Pharmacy\"], \"y\": [10574, 10043, 9448, 8431, 3623, 1831, 782, 489, 486, 207, 106, 100, 14]}],\n",
       "                        {\"legend\": {\"bgcolor\": \"#F5F6F9\", \"font\": {\"color\": \"#4D5663\"}}, \"paper_bgcolor\": \"#F5F6F9\", \"plot_bgcolor\": \"#F5F6F9\", \"template\": {\"data\": {\"bar\": [{\"error_x\": {\"color\": \"#2a3f5f\"}, \"error_y\": {\"color\": \"#2a3f5f\"}, \"marker\": {\"line\": {\"color\": \"#E5ECF6\", \"width\": 0.5}}, \"type\": \"bar\"}], \"barpolar\": [{\"marker\": {\"line\": {\"color\": \"#E5ECF6\", \"width\": 0.5}}, \"type\": \"barpolar\"}], \"carpet\": [{\"aaxis\": {\"endlinecolor\": \"#2a3f5f\", \"gridcolor\": \"white\", \"linecolor\": \"white\", \"minorgridcolor\": \"white\", \"startlinecolor\": \"#2a3f5f\"}, \"baxis\": {\"endlinecolor\": \"#2a3f5f\", \"gridcolor\": \"white\", \"linecolor\": \"white\", \"minorgridcolor\": \"white\", \"startlinecolor\": \"#2a3f5f\"}, \"type\": \"carpet\"}], \"choropleth\": [{\"colorbar\": {\"outlinewidth\": 0, \"ticks\": \"\"}, \"type\": \"choropleth\"}], \"contour\": [{\"colorbar\": {\"outlinewidth\": 0, \"ticks\": \"\"}, \"colorscale\": [[0.0, \"#0d0887\"], [0.1111111111111111, \"#46039f\"], [0.2222222222222222, \"#7201a8\"], [0.3333333333333333, \"#9c179e\"], [0.4444444444444444, \"#bd3786\"], [0.5555555555555556, \"#d8576b\"], [0.6666666666666666, \"#ed7953\"], [0.7777777777777778, \"#fb9f3a\"], [0.8888888888888888, \"#fdca26\"], [1.0, \"#f0f921\"]], \"type\": \"contour\"}], \"contourcarpet\": [{\"colorbar\": {\"outlinewidth\": 0, \"ticks\": \"\"}, \"type\": \"contourcarpet\"}], \"heatmap\": [{\"colorbar\": {\"outlinewidth\": 0, \"ticks\": \"\"}, \"colorscale\": [[0.0, \"#0d0887\"], [0.1111111111111111, \"#46039f\"], [0.2222222222222222, \"#7201a8\"], [0.3333333333333333, \"#9c179e\"], [0.4444444444444444, \"#bd3786\"], [0.5555555555555556, \"#d8576b\"], [0.6666666666666666, \"#ed7953\"], [0.7777777777777778, \"#fb9f3a\"], [0.8888888888888888, \"#fdca26\"], [1.0, \"#f0f921\"]], \"type\": \"heatmap\"}], \"heatmapgl\": [{\"colorbar\": {\"outlinewidth\": 0, \"ticks\": \"\"}, \"colorscale\": [[0.0, \"#0d0887\"], [0.1111111111111111, \"#46039f\"], [0.2222222222222222, \"#7201a8\"], [0.3333333333333333, \"#9c179e\"], [0.4444444444444444, \"#bd3786\"], [0.5555555555555556, \"#d8576b\"], [0.6666666666666666, \"#ed7953\"], [0.7777777777777778, \"#fb9f3a\"], [0.8888888888888888, \"#fdca26\"], [1.0, \"#f0f921\"]], \"type\": \"heatmapgl\"}], \"histogram\": [{\"marker\": {\"colorbar\": {\"outlinewidth\": 0, \"ticks\": \"\"}}, \"type\": \"histogram\"}], \"histogram2d\": [{\"colorbar\": {\"outlinewidth\": 0, \"ticks\": \"\"}, \"colorscale\": [[0.0, \"#0d0887\"], [0.1111111111111111, \"#46039f\"], [0.2222222222222222, \"#7201a8\"], [0.3333333333333333, \"#9c179e\"], [0.4444444444444444, \"#bd3786\"], [0.5555555555555556, \"#d8576b\"], [0.6666666666666666, \"#ed7953\"], [0.7777777777777778, \"#fb9f3a\"], [0.8888888888888888, \"#fdca26\"], [1.0, \"#f0f921\"]], \"type\": \"histogram2d\"}], \"histogram2dcontour\": [{\"colorbar\": {\"outlinewidth\": 0, \"ticks\": \"\"}, \"colorscale\": [[0.0, \"#0d0887\"], [0.1111111111111111, \"#46039f\"], [0.2222222222222222, \"#7201a8\"], [0.3333333333333333, \"#9c179e\"], [0.4444444444444444, \"#bd3786\"], [0.5555555555555556, \"#d8576b\"], [0.6666666666666666, \"#ed7953\"], [0.7777777777777778, \"#fb9f3a\"], [0.8888888888888888, \"#fdca26\"], [1.0, \"#f0f921\"]], \"type\": \"histogram2dcontour\"}], \"mesh3d\": [{\"colorbar\": {\"outlinewidth\": 0, \"ticks\": \"\"}, \"type\": \"mesh3d\"}], \"parcoords\": [{\"line\": {\"colorbar\": {\"outlinewidth\": 0, \"ticks\": \"\"}}, \"type\": \"parcoords\"}], \"pie\": [{\"automargin\": true, \"type\": \"pie\"}], \"scatter\": [{\"marker\": {\"colorbar\": {\"outlinewidth\": 0, \"ticks\": \"\"}}, \"type\": \"scatter\"}], \"scatter3d\": [{\"line\": {\"colorbar\": {\"outlinewidth\": 0, \"ticks\": \"\"}}, \"marker\": {\"colorbar\": {\"outlinewidth\": 0, \"ticks\": \"\"}}, \"type\": \"scatter3d\"}], \"scattercarpet\": [{\"marker\": {\"colorbar\": {\"outlinewidth\": 0, \"ticks\": \"\"}}, \"type\": \"scattercarpet\"}], \"scattergeo\": [{\"marker\": {\"colorbar\": {\"outlinewidth\": 0, \"ticks\": \"\"}}, \"type\": \"scattergeo\"}], \"scattergl\": [{\"marker\": {\"colorbar\": {\"outlinewidth\": 0, \"ticks\": \"\"}}, \"type\": \"scattergl\"}], \"scattermapbox\": [{\"marker\": {\"colorbar\": {\"outlinewidth\": 0, \"ticks\": \"\"}}, \"type\": \"scattermapbox\"}], \"scatterpolar\": [{\"marker\": {\"colorbar\": {\"outlinewidth\": 0, \"ticks\": \"\"}}, \"type\": \"scatterpolar\"}], \"scatterpolargl\": [{\"marker\": {\"colorbar\": {\"outlinewidth\": 0, \"ticks\": \"\"}}, \"type\": \"scatterpolargl\"}], \"scatterternary\": [{\"marker\": {\"colorbar\": {\"outlinewidth\": 0, \"ticks\": \"\"}}, \"type\": \"scatterternary\"}], \"surface\": [{\"colorbar\": {\"outlinewidth\": 0, \"ticks\": \"\"}, \"colorscale\": [[0.0, \"#0d0887\"], [0.1111111111111111, \"#46039f\"], [0.2222222222222222, \"#7201a8\"], [0.3333333333333333, \"#9c179e\"], [0.4444444444444444, \"#bd3786\"], [0.5555555555555556, \"#d8576b\"], [0.6666666666666666, \"#ed7953\"], [0.7777777777777778, \"#fb9f3a\"], [0.8888888888888888, \"#fdca26\"], [1.0, \"#f0f921\"]], \"type\": \"surface\"}], \"table\": [{\"cells\": {\"fill\": {\"color\": \"#EBF0F8\"}, \"line\": {\"color\": \"white\"}}, \"header\": {\"fill\": {\"color\": \"#C8D4E3\"}, \"line\": {\"color\": \"white\"}}, \"type\": \"table\"}]}, \"layout\": {\"annotationdefaults\": {\"arrowcolor\": \"#2a3f5f\", \"arrowhead\": 0, \"arrowwidth\": 1}, \"coloraxis\": {\"colorbar\": {\"outlinewidth\": 0, \"ticks\": \"\"}}, \"colorscale\": {\"diverging\": [[0, \"#8e0152\"], [0.1, \"#c51b7d\"], [0.2, \"#de77ae\"], [0.3, \"#f1b6da\"], [0.4, \"#fde0ef\"], [0.5, \"#f7f7f7\"], [0.6, \"#e6f5d0\"], [0.7, \"#b8e186\"], [0.8, \"#7fbc41\"], [0.9, \"#4d9221\"], [1, \"#276419\"]], \"sequential\": [[0.0, \"#0d0887\"], [0.1111111111111111, \"#46039f\"], [0.2222222222222222, \"#7201a8\"], [0.3333333333333333, \"#9c179e\"], [0.4444444444444444, \"#bd3786\"], [0.5555555555555556, \"#d8576b\"], [0.6666666666666666, \"#ed7953\"], [0.7777777777777778, \"#fb9f3a\"], [0.8888888888888888, \"#fdca26\"], [1.0, \"#f0f921\"]], \"sequentialminus\": [[0.0, \"#0d0887\"], [0.1111111111111111, \"#46039f\"], [0.2222222222222222, \"#7201a8\"], [0.3333333333333333, \"#9c179e\"], [0.4444444444444444, \"#bd3786\"], [0.5555555555555556, \"#d8576b\"], [0.6666666666666666, \"#ed7953\"], [0.7777777777777778, \"#fb9f3a\"], [0.8888888888888888, \"#fdca26\"], [1.0, \"#f0f921\"]]}, \"colorway\": [\"#636efa\", \"#EF553B\", \"#00cc96\", \"#ab63fa\", \"#FFA15A\", \"#19d3f3\", \"#FF6692\", \"#B6E880\", \"#FF97FF\", \"#FECB52\"], \"font\": {\"color\": \"#2a3f5f\"}, \"geo\": {\"bgcolor\": \"white\", \"lakecolor\": \"white\", \"landcolor\": \"#E5ECF6\", \"showlakes\": true, \"showland\": true, \"subunitcolor\": \"white\"}, \"hoverlabel\": {\"align\": \"left\"}, \"hovermode\": \"closest\", \"mapbox\": {\"style\": \"light\"}, \"paper_bgcolor\": \"white\", \"plot_bgcolor\": \"#E5ECF6\", \"polar\": {\"angularaxis\": {\"gridcolor\": \"white\", \"linecolor\": \"white\", \"ticks\": \"\"}, \"bgcolor\": \"#E5ECF6\", \"radialaxis\": {\"gridcolor\": \"white\", \"linecolor\": \"white\", \"ticks\": \"\"}}, \"scene\": {\"xaxis\": {\"backgroundcolor\": \"#E5ECF6\", \"gridcolor\": \"white\", \"gridwidth\": 2, \"linecolor\": \"white\", \"showbackground\": true, \"ticks\": \"\", \"zerolinecolor\": \"white\"}, \"yaxis\": {\"backgroundcolor\": \"#E5ECF6\", \"gridcolor\": \"white\", \"gridwidth\": 2, \"linecolor\": \"white\", \"showbackground\": true, \"ticks\": \"\", \"zerolinecolor\": \"white\"}, \"zaxis\": {\"backgroundcolor\": \"#E5ECF6\", \"gridcolor\": \"white\", \"gridwidth\": 2, \"linecolor\": \"white\", \"showbackground\": true, \"ticks\": \"\", \"zerolinecolor\": \"white\"}}, \"shapedefaults\": {\"line\": {\"color\": \"#2a3f5f\"}}, \"ternary\": {\"aaxis\": {\"gridcolor\": \"white\", \"linecolor\": \"white\", \"ticks\": \"\"}, \"baxis\": {\"gridcolor\": \"white\", \"linecolor\": \"white\", \"ticks\": \"\"}, \"bgcolor\": \"#E5ECF6\", \"caxis\": {\"gridcolor\": \"white\", \"linecolor\": \"white\", \"ticks\": \"\"}}, \"title\": {\"x\": 0.05}, \"xaxis\": {\"automargin\": true, \"gridcolor\": \"white\", \"linecolor\": \"white\", \"ticks\": \"\", \"title\": {\"standoff\": 15}, \"zerolinecolor\": \"white\", \"zerolinewidth\": 2}, \"yaxis\": {\"automargin\": true, \"gridcolor\": \"white\", \"linecolor\": \"white\", \"ticks\": \"\", \"title\": {\"standoff\": 15}, \"zerolinecolor\": \"white\", \"zerolinewidth\": 2}}}, \"title\": {\"font\": {\"color\": \"#4D5663\"}, \"text\": \"Number of category kinds in pneumonia alive\"}, \"xaxis\": {\"gridcolor\": \"#E1E5ED\", \"showgrid\": true, \"tickfont\": {\"color\": \"#4D5663\"}, \"title\": {\"font\": {\"color\": \"#4D5663\"}, \"text\": \"\"}, \"zerolinecolor\": \"#E1E5ED\"}, \"yaxis\": {\"gridcolor\": \"#E1E5ED\", \"showgrid\": true, \"tickfont\": {\"color\": \"#4D5663\"}, \"title\": {\"font\": {\"color\": \"#4D5663\"}, \"text\": \"Number of notes\"}, \"zerolinecolor\": \"#E1E5ED\"}},\n",
       "                        {\"showLink\": true, \"linkText\": \"Export to plot.ly\", \"plotlyServerURL\": \"https://plot.ly\", \"responsive\": true}\n",
       "                    ).then(function(){\n",
       "                            \n",
       "var gd = document.getElementById('6f780671-8752-4227-9c77-5674e7784a6e');\n",
       "var x = new MutationObserver(function (mutations, observer) {{\n",
       "        var display = window.getComputedStyle(gd).display;\n",
       "        if (!display || display === 'none') {{\n",
       "            console.log([gd, 'removed!']);\n",
       "            Plotly.purge(gd);\n",
       "            observer.disconnect();\n",
       "        }}\n",
       "}});\n",
       "\n",
       "// Listen for the removal of the full notebook cells\n",
       "var notebookContainer = gd.closest('#notebook-container');\n",
       "if (notebookContainer) {{\n",
       "    x.observe(notebookContainer, {childList: true});\n",
       "}}\n",
       "\n",
       "// Listen for the clearing of the current output cell\n",
       "var outputEl = gd.closest('.output');\n",
       "if (outputEl) {{\n",
       "    x.observe(outputEl, {childList: true});\n",
       "}}\n",
       "\n",
       "                        })\n",
       "                };\n",
       "                });\n",
       "            </script>\n",
       "        </div>"
      ]
     },
     "metadata": {},
     "output_type": "display_data"
    }
   ],
   "source": [
    "pneumonia_alive_no_disch['CATEGORY'].value_counts().sort_values(ascending=False).iplot(kind='bar', yTitle='Number of notes', \n",
    "                                                                title='Number of category kinds in pneumonia alive')"
   ]
  },
  {
   "cell_type": "code",
   "execution_count": 24,
   "metadata": {
    "scrolled": false
   },
   "outputs": [
    {
     "data": {
      "application/vnd.plotly.v1+json": {
       "config": {
        "linkText": "Export to plot.ly",
        "plotlyServerURL": "https://plot.ly",
        "showLink": true
       },
       "data": [
        {
         "marker": {
          "color": "rgba(255, 153, 51, 0.6)",
          "line": {
           "color": "rgba(255, 153, 51, 1.0)",
           "width": 1
          }
         },
         "name": "CATEGORY",
         "orientation": "v",
         "text": "",
         "type": "bar",
         "x": [
          "Nursing",
          "Nursing/other",
          "Radiology",
          "Physician ",
          "ECG",
          "Respiratory ",
          "General",
          "Echo",
          "Nutrition",
          "Social Work",
          "Case Management ",
          "Rehab Services",
          "Consult",
          "Pharmacy"
         ],
         "y": [
          2682,
          2650,
          2275,
          2212,
          846,
          623,
          194,
          167,
          149,
          42,
          29,
          24,
          1,
          1
         ]
        }
       ],
       "layout": {
        "legend": {
         "bgcolor": "#F5F6F9",
         "font": {
          "color": "#4D5663"
         }
        },
        "paper_bgcolor": "#F5F6F9",
        "plot_bgcolor": "#F5F6F9",
        "template": {
         "data": {
          "bar": [
           {
            "error_x": {
             "color": "#2a3f5f"
            },
            "error_y": {
             "color": "#2a3f5f"
            },
            "marker": {
             "line": {
              "color": "#E5ECF6",
              "width": 0.5
             }
            },
            "type": "bar"
           }
          ],
          "barpolar": [
           {
            "marker": {
             "line": {
              "color": "#E5ECF6",
              "width": 0.5
             }
            },
            "type": "barpolar"
           }
          ],
          "carpet": [
           {
            "aaxis": {
             "endlinecolor": "#2a3f5f",
             "gridcolor": "white",
             "linecolor": "white",
             "minorgridcolor": "white",
             "startlinecolor": "#2a3f5f"
            },
            "baxis": {
             "endlinecolor": "#2a3f5f",
             "gridcolor": "white",
             "linecolor": "white",
             "minorgridcolor": "white",
             "startlinecolor": "#2a3f5f"
            },
            "type": "carpet"
           }
          ],
          "choropleth": [
           {
            "colorbar": {
             "outlinewidth": 0,
             "ticks": ""
            },
            "type": "choropleth"
           }
          ],
          "contour": [
           {
            "colorbar": {
             "outlinewidth": 0,
             "ticks": ""
            },
            "colorscale": [
             [
              0,
              "#0d0887"
             ],
             [
              0.1111111111111111,
              "#46039f"
             ],
             [
              0.2222222222222222,
              "#7201a8"
             ],
             [
              0.3333333333333333,
              "#9c179e"
             ],
             [
              0.4444444444444444,
              "#bd3786"
             ],
             [
              0.5555555555555556,
              "#d8576b"
             ],
             [
              0.6666666666666666,
              "#ed7953"
             ],
             [
              0.7777777777777778,
              "#fb9f3a"
             ],
             [
              0.8888888888888888,
              "#fdca26"
             ],
             [
              1,
              "#f0f921"
             ]
            ],
            "type": "contour"
           }
          ],
          "contourcarpet": [
           {
            "colorbar": {
             "outlinewidth": 0,
             "ticks": ""
            },
            "type": "contourcarpet"
           }
          ],
          "heatmap": [
           {
            "colorbar": {
             "outlinewidth": 0,
             "ticks": ""
            },
            "colorscale": [
             [
              0,
              "#0d0887"
             ],
             [
              0.1111111111111111,
              "#46039f"
             ],
             [
              0.2222222222222222,
              "#7201a8"
             ],
             [
              0.3333333333333333,
              "#9c179e"
             ],
             [
              0.4444444444444444,
              "#bd3786"
             ],
             [
              0.5555555555555556,
              "#d8576b"
             ],
             [
              0.6666666666666666,
              "#ed7953"
             ],
             [
              0.7777777777777778,
              "#fb9f3a"
             ],
             [
              0.8888888888888888,
              "#fdca26"
             ],
             [
              1,
              "#f0f921"
             ]
            ],
            "type": "heatmap"
           }
          ],
          "heatmapgl": [
           {
            "colorbar": {
             "outlinewidth": 0,
             "ticks": ""
            },
            "colorscale": [
             [
              0,
              "#0d0887"
             ],
             [
              0.1111111111111111,
              "#46039f"
             ],
             [
              0.2222222222222222,
              "#7201a8"
             ],
             [
              0.3333333333333333,
              "#9c179e"
             ],
             [
              0.4444444444444444,
              "#bd3786"
             ],
             [
              0.5555555555555556,
              "#d8576b"
             ],
             [
              0.6666666666666666,
              "#ed7953"
             ],
             [
              0.7777777777777778,
              "#fb9f3a"
             ],
             [
              0.8888888888888888,
              "#fdca26"
             ],
             [
              1,
              "#f0f921"
             ]
            ],
            "type": "heatmapgl"
           }
          ],
          "histogram": [
           {
            "marker": {
             "colorbar": {
              "outlinewidth": 0,
              "ticks": ""
             }
            },
            "type": "histogram"
           }
          ],
          "histogram2d": [
           {
            "colorbar": {
             "outlinewidth": 0,
             "ticks": ""
            },
            "colorscale": [
             [
              0,
              "#0d0887"
             ],
             [
              0.1111111111111111,
              "#46039f"
             ],
             [
              0.2222222222222222,
              "#7201a8"
             ],
             [
              0.3333333333333333,
              "#9c179e"
             ],
             [
              0.4444444444444444,
              "#bd3786"
             ],
             [
              0.5555555555555556,
              "#d8576b"
             ],
             [
              0.6666666666666666,
              "#ed7953"
             ],
             [
              0.7777777777777778,
              "#fb9f3a"
             ],
             [
              0.8888888888888888,
              "#fdca26"
             ],
             [
              1,
              "#f0f921"
             ]
            ],
            "type": "histogram2d"
           }
          ],
          "histogram2dcontour": [
           {
            "colorbar": {
             "outlinewidth": 0,
             "ticks": ""
            },
            "colorscale": [
             [
              0,
              "#0d0887"
             ],
             [
              0.1111111111111111,
              "#46039f"
             ],
             [
              0.2222222222222222,
              "#7201a8"
             ],
             [
              0.3333333333333333,
              "#9c179e"
             ],
             [
              0.4444444444444444,
              "#bd3786"
             ],
             [
              0.5555555555555556,
              "#d8576b"
             ],
             [
              0.6666666666666666,
              "#ed7953"
             ],
             [
              0.7777777777777778,
              "#fb9f3a"
             ],
             [
              0.8888888888888888,
              "#fdca26"
             ],
             [
              1,
              "#f0f921"
             ]
            ],
            "type": "histogram2dcontour"
           }
          ],
          "mesh3d": [
           {
            "colorbar": {
             "outlinewidth": 0,
             "ticks": ""
            },
            "type": "mesh3d"
           }
          ],
          "parcoords": [
           {
            "line": {
             "colorbar": {
              "outlinewidth": 0,
              "ticks": ""
             }
            },
            "type": "parcoords"
           }
          ],
          "pie": [
           {
            "automargin": true,
            "type": "pie"
           }
          ],
          "scatter": [
           {
            "marker": {
             "colorbar": {
              "outlinewidth": 0,
              "ticks": ""
             }
            },
            "type": "scatter"
           }
          ],
          "scatter3d": [
           {
            "line": {
             "colorbar": {
              "outlinewidth": 0,
              "ticks": ""
             }
            },
            "marker": {
             "colorbar": {
              "outlinewidth": 0,
              "ticks": ""
             }
            },
            "type": "scatter3d"
           }
          ],
          "scattercarpet": [
           {
            "marker": {
             "colorbar": {
              "outlinewidth": 0,
              "ticks": ""
             }
            },
            "type": "scattercarpet"
           }
          ],
          "scattergeo": [
           {
            "marker": {
             "colorbar": {
              "outlinewidth": 0,
              "ticks": ""
             }
            },
            "type": "scattergeo"
           }
          ],
          "scattergl": [
           {
            "marker": {
             "colorbar": {
              "outlinewidth": 0,
              "ticks": ""
             }
            },
            "type": "scattergl"
           }
          ],
          "scattermapbox": [
           {
            "marker": {
             "colorbar": {
              "outlinewidth": 0,
              "ticks": ""
             }
            },
            "type": "scattermapbox"
           }
          ],
          "scatterpolar": [
           {
            "marker": {
             "colorbar": {
              "outlinewidth": 0,
              "ticks": ""
             }
            },
            "type": "scatterpolar"
           }
          ],
          "scatterpolargl": [
           {
            "marker": {
             "colorbar": {
              "outlinewidth": 0,
              "ticks": ""
             }
            },
            "type": "scatterpolargl"
           }
          ],
          "scatterternary": [
           {
            "marker": {
             "colorbar": {
              "outlinewidth": 0,
              "ticks": ""
             }
            },
            "type": "scatterternary"
           }
          ],
          "surface": [
           {
            "colorbar": {
             "outlinewidth": 0,
             "ticks": ""
            },
            "colorscale": [
             [
              0,
              "#0d0887"
             ],
             [
              0.1111111111111111,
              "#46039f"
             ],
             [
              0.2222222222222222,
              "#7201a8"
             ],
             [
              0.3333333333333333,
              "#9c179e"
             ],
             [
              0.4444444444444444,
              "#bd3786"
             ],
             [
              0.5555555555555556,
              "#d8576b"
             ],
             [
              0.6666666666666666,
              "#ed7953"
             ],
             [
              0.7777777777777778,
              "#fb9f3a"
             ],
             [
              0.8888888888888888,
              "#fdca26"
             ],
             [
              1,
              "#f0f921"
             ]
            ],
            "type": "surface"
           }
          ],
          "table": [
           {
            "cells": {
             "fill": {
              "color": "#EBF0F8"
             },
             "line": {
              "color": "white"
             }
            },
            "header": {
             "fill": {
              "color": "#C8D4E3"
             },
             "line": {
              "color": "white"
             }
            },
            "type": "table"
           }
          ]
         },
         "layout": {
          "annotationdefaults": {
           "arrowcolor": "#2a3f5f",
           "arrowhead": 0,
           "arrowwidth": 1
          },
          "coloraxis": {
           "colorbar": {
            "outlinewidth": 0,
            "ticks": ""
           }
          },
          "colorscale": {
           "diverging": [
            [
             0,
             "#8e0152"
            ],
            [
             0.1,
             "#c51b7d"
            ],
            [
             0.2,
             "#de77ae"
            ],
            [
             0.3,
             "#f1b6da"
            ],
            [
             0.4,
             "#fde0ef"
            ],
            [
             0.5,
             "#f7f7f7"
            ],
            [
             0.6,
             "#e6f5d0"
            ],
            [
             0.7,
             "#b8e186"
            ],
            [
             0.8,
             "#7fbc41"
            ],
            [
             0.9,
             "#4d9221"
            ],
            [
             1,
             "#276419"
            ]
           ],
           "sequential": [
            [
             0,
             "#0d0887"
            ],
            [
             0.1111111111111111,
             "#46039f"
            ],
            [
             0.2222222222222222,
             "#7201a8"
            ],
            [
             0.3333333333333333,
             "#9c179e"
            ],
            [
             0.4444444444444444,
             "#bd3786"
            ],
            [
             0.5555555555555556,
             "#d8576b"
            ],
            [
             0.6666666666666666,
             "#ed7953"
            ],
            [
             0.7777777777777778,
             "#fb9f3a"
            ],
            [
             0.8888888888888888,
             "#fdca26"
            ],
            [
             1,
             "#f0f921"
            ]
           ],
           "sequentialminus": [
            [
             0,
             "#0d0887"
            ],
            [
             0.1111111111111111,
             "#46039f"
            ],
            [
             0.2222222222222222,
             "#7201a8"
            ],
            [
             0.3333333333333333,
             "#9c179e"
            ],
            [
             0.4444444444444444,
             "#bd3786"
            ],
            [
             0.5555555555555556,
             "#d8576b"
            ],
            [
             0.6666666666666666,
             "#ed7953"
            ],
            [
             0.7777777777777778,
             "#fb9f3a"
            ],
            [
             0.8888888888888888,
             "#fdca26"
            ],
            [
             1,
             "#f0f921"
            ]
           ]
          },
          "colorway": [
           "#636efa",
           "#EF553B",
           "#00cc96",
           "#ab63fa",
           "#FFA15A",
           "#19d3f3",
           "#FF6692",
           "#B6E880",
           "#FF97FF",
           "#FECB52"
          ],
          "font": {
           "color": "#2a3f5f"
          },
          "geo": {
           "bgcolor": "white",
           "lakecolor": "white",
           "landcolor": "#E5ECF6",
           "showlakes": true,
           "showland": true,
           "subunitcolor": "white"
          },
          "hoverlabel": {
           "align": "left"
          },
          "hovermode": "closest",
          "mapbox": {
           "style": "light"
          },
          "paper_bgcolor": "white",
          "plot_bgcolor": "#E5ECF6",
          "polar": {
           "angularaxis": {
            "gridcolor": "white",
            "linecolor": "white",
            "ticks": ""
           },
           "bgcolor": "#E5ECF6",
           "radialaxis": {
            "gridcolor": "white",
            "linecolor": "white",
            "ticks": ""
           }
          },
          "scene": {
           "xaxis": {
            "backgroundcolor": "#E5ECF6",
            "gridcolor": "white",
            "gridwidth": 2,
            "linecolor": "white",
            "showbackground": true,
            "ticks": "",
            "zerolinecolor": "white"
           },
           "yaxis": {
            "backgroundcolor": "#E5ECF6",
            "gridcolor": "white",
            "gridwidth": 2,
            "linecolor": "white",
            "showbackground": true,
            "ticks": "",
            "zerolinecolor": "white"
           },
           "zaxis": {
            "backgroundcolor": "#E5ECF6",
            "gridcolor": "white",
            "gridwidth": 2,
            "linecolor": "white",
            "showbackground": true,
            "ticks": "",
            "zerolinecolor": "white"
           }
          },
          "shapedefaults": {
           "line": {
            "color": "#2a3f5f"
           }
          },
          "ternary": {
           "aaxis": {
            "gridcolor": "white",
            "linecolor": "white",
            "ticks": ""
           },
           "baxis": {
            "gridcolor": "white",
            "linecolor": "white",
            "ticks": ""
           },
           "bgcolor": "#E5ECF6",
           "caxis": {
            "gridcolor": "white",
            "linecolor": "white",
            "ticks": ""
           }
          },
          "title": {
           "x": 0.05
          },
          "xaxis": {
           "automargin": true,
           "gridcolor": "white",
           "linecolor": "white",
           "ticks": "",
           "title": {
            "standoff": 15
           },
           "zerolinecolor": "white",
           "zerolinewidth": 2
          },
          "yaxis": {
           "automargin": true,
           "gridcolor": "white",
           "linecolor": "white",
           "ticks": "",
           "title": {
            "standoff": 15
           },
           "zerolinecolor": "white",
           "zerolinewidth": 2
          }
         }
        },
        "title": {
         "font": {
          "color": "#4D5663"
         },
         "text": "Number of category kinds in pneumonia alive"
        },
        "xaxis": {
         "gridcolor": "#E1E5ED",
         "showgrid": true,
         "tickfont": {
          "color": "#4D5663"
         },
         "title": {
          "font": {
           "color": "#4D5663"
          },
          "text": ""
         },
         "zerolinecolor": "#E1E5ED"
        },
        "yaxis": {
         "gridcolor": "#E1E5ED",
         "showgrid": true,
         "tickfont": {
          "color": "#4D5663"
         },
         "title": {
          "font": {
           "color": "#4D5663"
          },
          "text": "Number of notes"
         },
         "zerolinecolor": "#E1E5ED"
        }
       }
      },
      "text/html": [
       "<div>\n",
       "        \n",
       "        \n",
       "            <div id=\"2b3dee75-414e-4dbf-8fe4-569d63a4cf48\" class=\"plotly-graph-div\" style=\"height:525px; width:100%;\"></div>\n",
       "            <script type=\"text/javascript\">\n",
       "                require([\"plotly\"], function(Plotly) {\n",
       "                    window.PLOTLYENV=window.PLOTLYENV || {};\n",
       "                    window.PLOTLYENV.BASE_URL='https://plot.ly';\n",
       "                    \n",
       "                if (document.getElementById(\"2b3dee75-414e-4dbf-8fe4-569d63a4cf48\")) {\n",
       "                    Plotly.newPlot(\n",
       "                        '2b3dee75-414e-4dbf-8fe4-569d63a4cf48',\n",
       "                        [{\"marker\": {\"color\": \"rgba(255, 153, 51, 0.6)\", \"line\": {\"color\": \"rgba(255, 153, 51, 1.0)\", \"width\": 1}}, \"name\": \"CATEGORY\", \"orientation\": \"v\", \"text\": \"\", \"type\": \"bar\", \"x\": [\"Nursing\", \"Nursing/other\", \"Radiology\", \"Physician \", \"ECG\", \"Respiratory \", \"General\", \"Echo\", \"Nutrition\", \"Social Work\", \"Case Management \", \"Rehab Services\", \"Consult\", \"Pharmacy\"], \"y\": [2682, 2650, 2275, 2212, 846, 623, 194, 167, 149, 42, 29, 24, 1, 1]}],\n",
       "                        {\"legend\": {\"bgcolor\": \"#F5F6F9\", \"font\": {\"color\": \"#4D5663\"}}, \"paper_bgcolor\": \"#F5F6F9\", \"plot_bgcolor\": \"#F5F6F9\", \"template\": {\"data\": {\"bar\": [{\"error_x\": {\"color\": \"#2a3f5f\"}, \"error_y\": {\"color\": \"#2a3f5f\"}, \"marker\": {\"line\": {\"color\": \"#E5ECF6\", \"width\": 0.5}}, \"type\": \"bar\"}], \"barpolar\": [{\"marker\": {\"line\": {\"color\": \"#E5ECF6\", \"width\": 0.5}}, \"type\": \"barpolar\"}], \"carpet\": [{\"aaxis\": {\"endlinecolor\": \"#2a3f5f\", \"gridcolor\": \"white\", \"linecolor\": \"white\", \"minorgridcolor\": \"white\", \"startlinecolor\": \"#2a3f5f\"}, \"baxis\": {\"endlinecolor\": \"#2a3f5f\", \"gridcolor\": \"white\", \"linecolor\": \"white\", \"minorgridcolor\": \"white\", \"startlinecolor\": \"#2a3f5f\"}, \"type\": \"carpet\"}], \"choropleth\": [{\"colorbar\": {\"outlinewidth\": 0, \"ticks\": \"\"}, \"type\": \"choropleth\"}], \"contour\": [{\"colorbar\": {\"outlinewidth\": 0, \"ticks\": \"\"}, \"colorscale\": [[0.0, \"#0d0887\"], [0.1111111111111111, \"#46039f\"], [0.2222222222222222, \"#7201a8\"], [0.3333333333333333, \"#9c179e\"], [0.4444444444444444, \"#bd3786\"], [0.5555555555555556, \"#d8576b\"], [0.6666666666666666, \"#ed7953\"], [0.7777777777777778, \"#fb9f3a\"], [0.8888888888888888, \"#fdca26\"], [1.0, \"#f0f921\"]], \"type\": \"contour\"}], \"contourcarpet\": [{\"colorbar\": {\"outlinewidth\": 0, \"ticks\": \"\"}, \"type\": \"contourcarpet\"}], \"heatmap\": [{\"colorbar\": {\"outlinewidth\": 0, \"ticks\": \"\"}, \"colorscale\": [[0.0, \"#0d0887\"], [0.1111111111111111, \"#46039f\"], [0.2222222222222222, \"#7201a8\"], [0.3333333333333333, \"#9c179e\"], [0.4444444444444444, \"#bd3786\"], [0.5555555555555556, \"#d8576b\"], [0.6666666666666666, \"#ed7953\"], [0.7777777777777778, \"#fb9f3a\"], [0.8888888888888888, \"#fdca26\"], [1.0, \"#f0f921\"]], \"type\": \"heatmap\"}], \"heatmapgl\": [{\"colorbar\": {\"outlinewidth\": 0, \"ticks\": \"\"}, \"colorscale\": [[0.0, \"#0d0887\"], [0.1111111111111111, \"#46039f\"], [0.2222222222222222, \"#7201a8\"], [0.3333333333333333, \"#9c179e\"], [0.4444444444444444, \"#bd3786\"], [0.5555555555555556, \"#d8576b\"], [0.6666666666666666, \"#ed7953\"], [0.7777777777777778, \"#fb9f3a\"], [0.8888888888888888, \"#fdca26\"], [1.0, \"#f0f921\"]], \"type\": \"heatmapgl\"}], \"histogram\": [{\"marker\": {\"colorbar\": {\"outlinewidth\": 0, \"ticks\": \"\"}}, \"type\": \"histogram\"}], \"histogram2d\": [{\"colorbar\": {\"outlinewidth\": 0, \"ticks\": \"\"}, \"colorscale\": [[0.0, \"#0d0887\"], [0.1111111111111111, \"#46039f\"], [0.2222222222222222, \"#7201a8\"], [0.3333333333333333, \"#9c179e\"], [0.4444444444444444, \"#bd3786\"], [0.5555555555555556, \"#d8576b\"], [0.6666666666666666, \"#ed7953\"], [0.7777777777777778, \"#fb9f3a\"], [0.8888888888888888, \"#fdca26\"], [1.0, \"#f0f921\"]], \"type\": \"histogram2d\"}], \"histogram2dcontour\": [{\"colorbar\": {\"outlinewidth\": 0, \"ticks\": \"\"}, \"colorscale\": [[0.0, \"#0d0887\"], [0.1111111111111111, \"#46039f\"], [0.2222222222222222, \"#7201a8\"], [0.3333333333333333, \"#9c179e\"], [0.4444444444444444, \"#bd3786\"], [0.5555555555555556, \"#d8576b\"], [0.6666666666666666, \"#ed7953\"], [0.7777777777777778, \"#fb9f3a\"], [0.8888888888888888, \"#fdca26\"], [1.0, \"#f0f921\"]], \"type\": \"histogram2dcontour\"}], \"mesh3d\": [{\"colorbar\": {\"outlinewidth\": 0, \"ticks\": \"\"}, \"type\": \"mesh3d\"}], \"parcoords\": [{\"line\": {\"colorbar\": {\"outlinewidth\": 0, \"ticks\": \"\"}}, \"type\": \"parcoords\"}], \"pie\": [{\"automargin\": true, \"type\": \"pie\"}], \"scatter\": [{\"marker\": {\"colorbar\": {\"outlinewidth\": 0, \"ticks\": \"\"}}, \"type\": \"scatter\"}], \"scatter3d\": [{\"line\": {\"colorbar\": {\"outlinewidth\": 0, \"ticks\": \"\"}}, \"marker\": {\"colorbar\": {\"outlinewidth\": 0, \"ticks\": \"\"}}, \"type\": \"scatter3d\"}], \"scattercarpet\": [{\"marker\": {\"colorbar\": {\"outlinewidth\": 0, \"ticks\": \"\"}}, \"type\": \"scattercarpet\"}], \"scattergeo\": [{\"marker\": {\"colorbar\": {\"outlinewidth\": 0, \"ticks\": \"\"}}, \"type\": \"scattergeo\"}], \"scattergl\": [{\"marker\": {\"colorbar\": {\"outlinewidth\": 0, \"ticks\": \"\"}}, \"type\": \"scattergl\"}], \"scattermapbox\": [{\"marker\": {\"colorbar\": {\"outlinewidth\": 0, \"ticks\": \"\"}}, \"type\": \"scattermapbox\"}], \"scatterpolar\": [{\"marker\": {\"colorbar\": {\"outlinewidth\": 0, \"ticks\": \"\"}}, \"type\": \"scatterpolar\"}], \"scatterpolargl\": [{\"marker\": {\"colorbar\": {\"outlinewidth\": 0, \"ticks\": \"\"}}, \"type\": \"scatterpolargl\"}], \"scatterternary\": [{\"marker\": {\"colorbar\": {\"outlinewidth\": 0, \"ticks\": \"\"}}, \"type\": \"scatterternary\"}], \"surface\": [{\"colorbar\": {\"outlinewidth\": 0, \"ticks\": \"\"}, \"colorscale\": [[0.0, \"#0d0887\"], [0.1111111111111111, \"#46039f\"], [0.2222222222222222, \"#7201a8\"], [0.3333333333333333, \"#9c179e\"], [0.4444444444444444, \"#bd3786\"], [0.5555555555555556, \"#d8576b\"], [0.6666666666666666, \"#ed7953\"], [0.7777777777777778, \"#fb9f3a\"], [0.8888888888888888, \"#fdca26\"], [1.0, \"#f0f921\"]], \"type\": \"surface\"}], \"table\": [{\"cells\": {\"fill\": {\"color\": \"#EBF0F8\"}, \"line\": {\"color\": \"white\"}}, \"header\": {\"fill\": {\"color\": \"#C8D4E3\"}, \"line\": {\"color\": \"white\"}}, \"type\": \"table\"}]}, \"layout\": {\"annotationdefaults\": {\"arrowcolor\": \"#2a3f5f\", \"arrowhead\": 0, \"arrowwidth\": 1}, \"coloraxis\": {\"colorbar\": {\"outlinewidth\": 0, \"ticks\": \"\"}}, \"colorscale\": {\"diverging\": [[0, \"#8e0152\"], [0.1, \"#c51b7d\"], [0.2, \"#de77ae\"], [0.3, \"#f1b6da\"], [0.4, \"#fde0ef\"], [0.5, \"#f7f7f7\"], [0.6, \"#e6f5d0\"], [0.7, \"#b8e186\"], [0.8, \"#7fbc41\"], [0.9, \"#4d9221\"], [1, \"#276419\"]], \"sequential\": [[0.0, \"#0d0887\"], [0.1111111111111111, \"#46039f\"], [0.2222222222222222, \"#7201a8\"], [0.3333333333333333, \"#9c179e\"], [0.4444444444444444, \"#bd3786\"], [0.5555555555555556, \"#d8576b\"], [0.6666666666666666, \"#ed7953\"], [0.7777777777777778, \"#fb9f3a\"], [0.8888888888888888, \"#fdca26\"], [1.0, \"#f0f921\"]], \"sequentialminus\": [[0.0, \"#0d0887\"], [0.1111111111111111, \"#46039f\"], [0.2222222222222222, \"#7201a8\"], [0.3333333333333333, \"#9c179e\"], [0.4444444444444444, \"#bd3786\"], [0.5555555555555556, \"#d8576b\"], [0.6666666666666666, \"#ed7953\"], [0.7777777777777778, \"#fb9f3a\"], [0.8888888888888888, \"#fdca26\"], [1.0, \"#f0f921\"]]}, \"colorway\": [\"#636efa\", \"#EF553B\", \"#00cc96\", \"#ab63fa\", \"#FFA15A\", \"#19d3f3\", \"#FF6692\", \"#B6E880\", \"#FF97FF\", \"#FECB52\"], \"font\": {\"color\": \"#2a3f5f\"}, \"geo\": {\"bgcolor\": \"white\", \"lakecolor\": \"white\", \"landcolor\": \"#E5ECF6\", \"showlakes\": true, \"showland\": true, \"subunitcolor\": \"white\"}, \"hoverlabel\": {\"align\": \"left\"}, \"hovermode\": \"closest\", \"mapbox\": {\"style\": \"light\"}, \"paper_bgcolor\": \"white\", \"plot_bgcolor\": \"#E5ECF6\", \"polar\": {\"angularaxis\": {\"gridcolor\": \"white\", \"linecolor\": \"white\", \"ticks\": \"\"}, \"bgcolor\": \"#E5ECF6\", \"radialaxis\": {\"gridcolor\": \"white\", \"linecolor\": \"white\", \"ticks\": \"\"}}, \"scene\": {\"xaxis\": {\"backgroundcolor\": \"#E5ECF6\", \"gridcolor\": \"white\", \"gridwidth\": 2, \"linecolor\": \"white\", \"showbackground\": true, \"ticks\": \"\", \"zerolinecolor\": \"white\"}, \"yaxis\": {\"backgroundcolor\": \"#E5ECF6\", \"gridcolor\": \"white\", \"gridwidth\": 2, \"linecolor\": \"white\", \"showbackground\": true, \"ticks\": \"\", \"zerolinecolor\": \"white\"}, \"zaxis\": {\"backgroundcolor\": \"#E5ECF6\", \"gridcolor\": \"white\", \"gridwidth\": 2, \"linecolor\": \"white\", \"showbackground\": true, \"ticks\": \"\", \"zerolinecolor\": \"white\"}}, \"shapedefaults\": {\"line\": {\"color\": \"#2a3f5f\"}}, \"ternary\": {\"aaxis\": {\"gridcolor\": \"white\", \"linecolor\": \"white\", \"ticks\": \"\"}, \"baxis\": {\"gridcolor\": \"white\", \"linecolor\": \"white\", \"ticks\": \"\"}, \"bgcolor\": \"#E5ECF6\", \"caxis\": {\"gridcolor\": \"white\", \"linecolor\": \"white\", \"ticks\": \"\"}}, \"title\": {\"x\": 0.05}, \"xaxis\": {\"automargin\": true, \"gridcolor\": \"white\", \"linecolor\": \"white\", \"ticks\": \"\", \"title\": {\"standoff\": 15}, \"zerolinecolor\": \"white\", \"zerolinewidth\": 2}, \"yaxis\": {\"automargin\": true, \"gridcolor\": \"white\", \"linecolor\": \"white\", \"ticks\": \"\", \"title\": {\"standoff\": 15}, \"zerolinecolor\": \"white\", \"zerolinewidth\": 2}}}, \"title\": {\"font\": {\"color\": \"#4D5663\"}, \"text\": \"Number of category kinds in pneumonia alive\"}, \"xaxis\": {\"gridcolor\": \"#E1E5ED\", \"showgrid\": true, \"tickfont\": {\"color\": \"#4D5663\"}, \"title\": {\"font\": {\"color\": \"#4D5663\"}, \"text\": \"\"}, \"zerolinecolor\": \"#E1E5ED\"}, \"yaxis\": {\"gridcolor\": \"#E1E5ED\", \"showgrid\": true, \"tickfont\": {\"color\": \"#4D5663\"}, \"title\": {\"font\": {\"color\": \"#4D5663\"}, \"text\": \"Number of notes\"}, \"zerolinecolor\": \"#E1E5ED\"}},\n",
       "                        {\"showLink\": true, \"linkText\": \"Export to plot.ly\", \"plotlyServerURL\": \"https://plot.ly\", \"responsive\": true}\n",
       "                    ).then(function(){\n",
       "                            \n",
       "var gd = document.getElementById('2b3dee75-414e-4dbf-8fe4-569d63a4cf48');\n",
       "var x = new MutationObserver(function (mutations, observer) {{\n",
       "        var display = window.getComputedStyle(gd).display;\n",
       "        if (!display || display === 'none') {{\n",
       "            console.log([gd, 'removed!']);\n",
       "            Plotly.purge(gd);\n",
       "            observer.disconnect();\n",
       "        }}\n",
       "}});\n",
       "\n",
       "// Listen for the removal of the full notebook cells\n",
       "var notebookContainer = gd.closest('#notebook-container');\n",
       "if (notebookContainer) {{\n",
       "    x.observe(notebookContainer, {childList: true});\n",
       "}}\n",
       "\n",
       "// Listen for the clearing of the current output cell\n",
       "var outputEl = gd.closest('.output');\n",
       "if (outputEl) {{\n",
       "    x.observe(outputEl, {childList: true});\n",
       "}}\n",
       "\n",
       "                        })\n",
       "                };\n",
       "                });\n",
       "            </script>\n",
       "        </div>"
      ]
     },
     "metadata": {},
     "output_type": "display_data"
    }
   ],
   "source": [
    "pneumonia_dead_no_disch['CATEGORY'].value_counts().sort_values(ascending=False).iplot(kind='bar', yTitle='Number of notes', \n",
    "                                                                title='Number of category kinds in pneumonia alive')"
   ]
  },
  {
   "cell_type": "code",
   "execution_count": 25,
   "metadata": {},
   "outputs": [
    {
     "data": {
      "text/html": [
       "<div>\n",
       "<style scoped>\n",
       "    .dataframe tbody tr th:only-of-type {\n",
       "        vertical-align: middle;\n",
       "    }\n",
       "\n",
       "    .dataframe tbody tr th {\n",
       "        vertical-align: top;\n",
       "    }\n",
       "\n",
       "    .dataframe thead th {\n",
       "        text-align: right;\n",
       "    }\n",
       "</style>\n",
       "<table border=\"1\" class=\"dataframe\">\n",
       "  <thead>\n",
       "    <tr style=\"text-align: right;\">\n",
       "      <th></th>\n",
       "      <th>ROW_ID_x</th>\n",
       "      <th>SUBJECT_ID_x</th>\n",
       "      <th>CHARTDATE</th>\n",
       "      <th>STORETIME</th>\n",
       "      <th>CATEGORY</th>\n",
       "      <th>DESCRIPTION</th>\n",
       "      <th>TEXT</th>\n",
       "      <th>DEATHTIME</th>\n",
       "    </tr>\n",
       "  </thead>\n",
       "  <tbody>\n",
       "    <tr>\n",
       "      <th>137480</th>\n",
       "      <td>149869</td>\n",
       "      <td>68</td>\n",
       "      <td>2173-12-15</td>\n",
       "      <td>NaN</td>\n",
       "      <td>ECG</td>\n",
       "      <td>Report</td>\n",
       "      <td>Sinus tachycardia. Compared to the previous tr...</td>\n",
       "      <td>NaN</td>\n",
       "    </tr>\n",
       "    <tr>\n",
       "      <th>137481</th>\n",
       "      <td>149870</td>\n",
       "      <td>68</td>\n",
       "      <td>2173-12-15</td>\n",
       "      <td>NaN</td>\n",
       "      <td>ECG</td>\n",
       "      <td>Report</td>\n",
       "      <td>Sinus rhythm. Delayed anterior precordial R wa...</td>\n",
       "      <td>NaN</td>\n",
       "    </tr>\n",
       "    <tr>\n",
       "      <th>1259578</th>\n",
       "      <td>1261173</td>\n",
       "      <td>68</td>\n",
       "      <td>2173-12-16</td>\n",
       "      <td>2173-12-16 05:09:00</td>\n",
       "      <td>Nursing/other</td>\n",
       "      <td>Report</td>\n",
       "      <td>Micu nsg admission note\\n41yo female with AIDS...</td>\n",
       "      <td>NaN</td>\n",
       "    </tr>\n",
       "    <tr>\n",
       "      <th>1259579</th>\n",
       "      <td>1261174</td>\n",
       "      <td>68</td>\n",
       "      <td>2173-12-16</td>\n",
       "      <td>2173-12-16 17:08:00</td>\n",
       "      <td>Nursing/other</td>\n",
       "      <td>Report</td>\n",
       "      <td>NSG 0700-1900\\nEvents: Attempted eating breakf...</td>\n",
       "      <td>NaN</td>\n",
       "    </tr>\n",
       "    <tr>\n",
       "      <th>1258821</th>\n",
       "      <td>1261175</td>\n",
       "      <td>68</td>\n",
       "      <td>2173-12-16</td>\n",
       "      <td>2173-12-16 17:18:00</td>\n",
       "      <td>Nursing/other</td>\n",
       "      <td>Report</td>\n",
       "      <td>Resp Care\\n\\nSputum induction obtained for PCP...</td>\n",
       "      <td>NaN</td>\n",
       "    </tr>\n",
       "    <tr>\n",
       "      <th>...</th>\n",
       "      <td>...</td>\n",
       "      <td>...</td>\n",
       "      <td>...</td>\n",
       "      <td>...</td>\n",
       "      <td>...</td>\n",
       "      <td>...</td>\n",
       "      <td>...</td>\n",
       "      <td>...</td>\n",
       "    </tr>\n",
       "    <tr>\n",
       "      <th>1129253</th>\n",
       "      <td>1138542</td>\n",
       "      <td>99937</td>\n",
       "      <td>2128-05-11</td>\n",
       "      <td>NaN</td>\n",
       "      <td>Radiology</td>\n",
       "      <td>CHEST (PORTABLE AP)</td>\n",
       "      <td>[**2128-5-11**] 11:57 AM\\n CHEST (PORTABLE AP)...</td>\n",
       "      <td>NaN</td>\n",
       "    </tr>\n",
       "    <tr>\n",
       "      <th>1129150</th>\n",
       "      <td>1138569</td>\n",
       "      <td>99937</td>\n",
       "      <td>2128-05-11</td>\n",
       "      <td>NaN</td>\n",
       "      <td>Radiology</td>\n",
       "      <td>CTA CHEST W&amp;W/O C&amp;RECONS, NON-CORONARY</td>\n",
       "      <td>[**2128-5-11**] 1:44 PM\\n CTA CHEST W&amp;W/O C&amp;RE...</td>\n",
       "      <td>NaN</td>\n",
       "    </tr>\n",
       "    <tr>\n",
       "      <th>148040</th>\n",
       "      <td>130595</td>\n",
       "      <td>99937</td>\n",
       "      <td>2128-05-12</td>\n",
       "      <td>NaN</td>\n",
       "      <td>ECG</td>\n",
       "      <td>Report</td>\n",
       "      <td>Normal sinus rhythm. Compared to tracing #1 no...</td>\n",
       "      <td>NaN</td>\n",
       "    </tr>\n",
       "    <tr>\n",
       "      <th>1129514</th>\n",
       "      <td>1138666</td>\n",
       "      <td>99937</td>\n",
       "      <td>2128-05-12</td>\n",
       "      <td>NaN</td>\n",
       "      <td>Radiology</td>\n",
       "      <td>CHEST (PORTABLE AP)</td>\n",
       "      <td>[**2128-5-12**] 7:27 AM\\n CHEST (PORTABLE AP) ...</td>\n",
       "      <td>NaN</td>\n",
       "    </tr>\n",
       "    <tr>\n",
       "      <th>65449</th>\n",
       "      <td>65037</td>\n",
       "      <td>99937</td>\n",
       "      <td>2128-05-13</td>\n",
       "      <td>NaN</td>\n",
       "      <td>Echo</td>\n",
       "      <td>Report</td>\n",
       "      <td>PATIENT/TEST INFORMATION:\\nIndication: Left ve...</td>\n",
       "      <td>NaN</td>\n",
       "    </tr>\n",
       "  </tbody>\n",
       "</table>\n",
       "<p>46134 rows × 8 columns</p>\n",
       "</div>"
      ],
      "text/plain": [
       "         ROW_ID_x  SUBJECT_ID_x   CHARTDATE            STORETIME  \\\n",
       "137480     149869            68  2173-12-15                  NaN   \n",
       "137481     149870            68  2173-12-15                  NaN   \n",
       "1259578   1261173            68  2173-12-16  2173-12-16 05:09:00   \n",
       "1259579   1261174            68  2173-12-16  2173-12-16 17:08:00   \n",
       "1258821   1261175            68  2173-12-16  2173-12-16 17:18:00   \n",
       "...           ...           ...         ...                  ...   \n",
       "1129253   1138542         99937  2128-05-11                  NaN   \n",
       "1129150   1138569         99937  2128-05-11                  NaN   \n",
       "148040     130595         99937  2128-05-12                  NaN   \n",
       "1129514   1138666         99937  2128-05-12                  NaN   \n",
       "65449       65037         99937  2128-05-13                  NaN   \n",
       "\n",
       "              CATEGORY                             DESCRIPTION  \\\n",
       "137480             ECG                                  Report   \n",
       "137481             ECG                                  Report   \n",
       "1259578  Nursing/other                                  Report   \n",
       "1259579  Nursing/other                                  Report   \n",
       "1258821  Nursing/other                                  Report   \n",
       "...                ...                                     ...   \n",
       "1129253      Radiology                     CHEST (PORTABLE AP)   \n",
       "1129150      Radiology  CTA CHEST W&W/O C&RECONS, NON-CORONARY   \n",
       "148040             ECG                                  Report   \n",
       "1129514      Radiology                     CHEST (PORTABLE AP)   \n",
       "65449             Echo                                  Report   \n",
       "\n",
       "                                                      TEXT DEATHTIME  \n",
       "137480   Sinus tachycardia. Compared to the previous tr...       NaN  \n",
       "137481   Sinus rhythm. Delayed anterior precordial R wa...       NaN  \n",
       "1259578  Micu nsg admission note\\n41yo female with AIDS...       NaN  \n",
       "1259579  NSG 0700-1900\\nEvents: Attempted eating breakf...       NaN  \n",
       "1258821  Resp Care\\n\\nSputum induction obtained for PCP...       NaN  \n",
       "...                                                    ...       ...  \n",
       "1129253  [**2128-5-11**] 11:57 AM\\n CHEST (PORTABLE AP)...       NaN  \n",
       "1129150  [**2128-5-11**] 1:44 PM\\n CTA CHEST W&W/O C&RE...       NaN  \n",
       "148040   Normal sinus rhythm. Compared to tracing #1 no...       NaN  \n",
       "1129514  [**2128-5-12**] 7:27 AM\\n CHEST (PORTABLE AP) ...       NaN  \n",
       "65449    PATIENT/TEST INFORMATION:\\nIndication: Left ve...       NaN  \n",
       "\n",
       "[46134 rows x 8 columns]"
      ]
     },
     "execution_count": 25,
     "metadata": {},
     "output_type": "execute_result"
    }
   ],
   "source": [
    "pneumonia_alive_no_disch"
   ]
  },
  {
   "cell_type": "code",
   "execution_count": 26,
   "metadata": {},
   "outputs": [
    {
     "data": {
      "text/plain": [
       "252"
      ]
     },
     "execution_count": 26,
     "metadata": {},
     "output_type": "execute_result"
    }
   ],
   "source": [
    "# Number of patients\n",
    "pneumonia_dead_no_disch['SUBJECT_ID_x'].nunique()"
   ]
  },
  {
   "cell_type": "code",
   "execution_count": 27,
   "metadata": {
    "scrolled": true
   },
   "outputs": [
    {
     "data": {
      "text/plain": [
       "1167"
      ]
     },
     "execution_count": 27,
     "metadata": {},
     "output_type": "execute_result"
    }
   ],
   "source": [
    "# Number of patients\n",
    "pneumonia_alive_no_disch['SUBJECT_ID_x'].nunique()"
   ]
  },
  {
   "cell_type": "code",
   "execution_count": 28,
   "metadata": {},
   "outputs": [],
   "source": [
    "# import text handling tool\n",
    "from nltk.tokenize import word_tokenize\n",
    "from nltk.corpus import stopwords\n",
    "from nltk.stem import PorterStemmer\n",
    "\n",
    "from collections import Counter\n",
    "\n",
    "import sys\n",
    "import re\n",
    "import csv\n",
    "import os.path\n",
    "\n",
    "# define constants\n",
    "# RESULT_HEADER = \"WORD, FREQUENCY\\n\"\n",
    "MIN_SEQ_LEN = 4\n",
    "USE_1_N_SEQ = 2\n",
    "\n",
    "\n",
    "# words that do not have meaning (can be modified later)\n",
    "USELESS_WORDS = [\"a\", \"the\", \"he\", \"she\", \",\", \".\", \"?\", \"!\", \":\", \";\", \"+\", \"*\", \"**\"\\\n",
    "                 \"your\", \"you\"]\n",
    "\n",
    "# count up the frequency of every word in every disease file\n",
    "stemmer = PorterStemmer()\n",
    "# create set of words to ignore in text\n",
    "stop_words = set(stopwords.words('english'))\n",
    "\n",
    "for word in USELESS_WORDS:\n",
    "    stop_words.add(word)"
   ]
  },
  {
   "cell_type": "code",
   "execution_count": null,
   "metadata": {},
   "outputs": [],
   "source": []
  },
  {
   "cell_type": "code",
   "execution_count": 29,
   "metadata": {},
   "outputs": [
    {
     "name": "stderr",
     "output_type": "stream",
     "text": [
      "100%|██████████| 11895/11895 [00:01<00:00, 9002.74it/s]\n",
      "100%|██████████| 46134/46134 [00:05<00:00, 8863.65it/s]\n"
     ]
    }
   ],
   "source": [
    "\n",
    "#----------\n",
    "def count_notes_per_patient(disease_df):\n",
    "    patient_id_to_num_notes = {}\n",
    "    patient_id = -1\n",
    "    note_counter = 0\n",
    "            \n",
    "    for index, row in tqdm(disease_df.iterrows(), total=disease_df.shape[0]):\n",
    "        patient_id_check = int(row['SUBJECT_ID_x'])\n",
    "                \n",
    "        if not patient_id == patient_id_check:\n",
    "            patient_id_to_num_notes[patient_id] = note_counter\n",
    "            note_counter = 1\n",
    "        else:\n",
    "            note_counter += 1\n",
    "                    \n",
    "        patient_id = patient_id_check\n",
    "                \n",
    "    patient_id_to_num_notes[patient_id] = note_counter\n",
    "    del patient_id_to_num_notes[-1]\n",
    "    return patient_id_to_num_notes\n",
    "\n",
    "patient_id_to_num_notes = {}\n",
    "patient_id_to_num_notes['pneumonia_dead'] = count_notes_per_patient(pneumonia_dead_no_disch)\n",
    "patient_id_to_num_notes['pneumonia_alive'] = count_notes_per_patient(pneumonia_alive_no_disch)"
   ]
  },
  {
   "cell_type": "code",
   "execution_count": 30,
   "metadata": {},
   "outputs": [
    {
     "data": {
      "text/plain": [
       "{'pneumonia_dead': {111: 12,\n",
       "  346: 25,\n",
       "  404: 3,\n",
       "  546: 6,\n",
       "  618: 16,\n",
       "  705: 15,\n",
       "  726: 48,\n",
       "  1039: 55,\n",
       "  1556: 37,\n",
       "  1872: 3,\n",
       "  1944: 56,\n",
       "  2286: 69,\n",
       "  2990: 166,\n",
       "  3055: 29,\n",
       "  3099: 13,\n",
       "  3201: 8,\n",
       "  3526: 7,\n",
       "  3773: 6,\n",
       "  3881: 20,\n",
       "  4122: 51,\n",
       "  4754: 101,\n",
       "  4811: 21,\n",
       "  5476: 1,\n",
       "  5494: 22,\n",
       "  5774: 104,\n",
       "  5786: 152,\n",
       "  5913: 1,\n",
       "  6133: 68,\n",
       "  6735: 13,\n",
       "  6745: 13,\n",
       "  6973: 36,\n",
       "  6981: 8,\n",
       "  7277: 66,\n",
       "  7310: 8,\n",
       "  7924: 9,\n",
       "  7977: 9,\n",
       "  9908: 11,\n",
       "  9984: 15,\n",
       "  10302: 100,\n",
       "  10510: 86,\n",
       "  10545: 10,\n",
       "  10642: 10,\n",
       "  11049: 14,\n",
       "  11209: 9,\n",
       "  11395: 41,\n",
       "  12530: 24,\n",
       "  12849: 50,\n",
       "  13098: 46,\n",
       "  13566: 23,\n",
       "  14125: 9,\n",
       "  14514: 96,\n",
       "  14965: 25,\n",
       "  15159: 15,\n",
       "  15251: 11,\n",
       "  15396: 17,\n",
       "  15566: 37,\n",
       "  15853: 45,\n",
       "  16275: 17,\n",
       "  16344: 27,\n",
       "  16622: 51,\n",
       "  16684: 29,\n",
       "  17122: 16,\n",
       "  17354: 5,\n",
       "  17802: 64,\n",
       "  17983: 65,\n",
       "  18094: 23,\n",
       "  18736: 35,\n",
       "  18768: 46,\n",
       "  18848: 205,\n",
       "  18971: 26,\n",
       "  19243: 25,\n",
       "  19323: 6,\n",
       "  19390: 21,\n",
       "  19463: 20,\n",
       "  19535: 59,\n",
       "  19754: 13,\n",
       "  19827: 22,\n",
       "  19833: 58,\n",
       "  19872: 10,\n",
       "  20006: 8,\n",
       "  20023: 9,\n",
       "  20190: 6,\n",
       "  21046: 101,\n",
       "  21094: 36,\n",
       "  21427: 10,\n",
       "  21502: 102,\n",
       "  21580: 52,\n",
       "  21676: 12,\n",
       "  21699: 7,\n",
       "  21979: 11,\n",
       "  22735: 15,\n",
       "  23660: 12,\n",
       "  23795: 78,\n",
       "  24181: 13,\n",
       "  24582: 37,\n",
       "  24725: 57,\n",
       "  24730: 19,\n",
       "  24854: 25,\n",
       "  25003: 182,\n",
       "  25046: 7,\n",
       "  25774: 61,\n",
       "  25975: 9,\n",
       "  26474: 89,\n",
       "  26578: 15,\n",
       "  26716: 41,\n",
       "  26774: 3,\n",
       "  26849: 33,\n",
       "  27005: 5,\n",
       "  27145: 24,\n",
       "  27421: 61,\n",
       "  27431: 5,\n",
       "  27496: 7,\n",
       "  27504: 72,\n",
       "  27639: 221,\n",
       "  28004: 13,\n",
       "  28072: 34,\n",
       "  28178: 202,\n",
       "  28427: 6,\n",
       "  28498: 25,\n",
       "  28726: 34,\n",
       "  28750: 19,\n",
       "  28906: 32,\n",
       "  28907: 13,\n",
       "  28933: 394,\n",
       "  29105: 468,\n",
       "  29588: 72,\n",
       "  29647: 26,\n",
       "  29872: 225,\n",
       "  30476: 174,\n",
       "  30549: 12,\n",
       "  30614: 8,\n",
       "  30699: 14,\n",
       "  30786: 9,\n",
       "  30941: 110,\n",
       "  31030: 168,\n",
       "  31134: 24,\n",
       "  31139: 9,\n",
       "  31451: 48,\n",
       "  31556: 57,\n",
       "  31690: 18,\n",
       "  31692: 35,\n",
       "  32050: 34,\n",
       "  32326: 24,\n",
       "  32618: 42,\n",
       "  41546: 25,\n",
       "  43937: 6,\n",
       "  44851: 274,\n",
       "  45381: 16,\n",
       "  46589: 26,\n",
       "  46763: 6,\n",
       "  47045: 9,\n",
       "  48632: 147,\n",
       "  49079: 20,\n",
       "  49683: 3,\n",
       "  49922: 13,\n",
       "  50093: 8,\n",
       "  50231: 3,\n",
       "  50556: 216,\n",
       "  50859: 537,\n",
       "  51914: 313,\n",
       "  52010: 12,\n",
       "  53105: 115,\n",
       "  53399: 78,\n",
       "  54193: 85,\n",
       "  54401: 14,\n",
       "  54408: 2,\n",
       "  54739: 75,\n",
       "  54946: 7,\n",
       "  55400: 5,\n",
       "  55570: 14,\n",
       "  55887: 37,\n",
       "  55944: 34,\n",
       "  55987: 20,\n",
       "  56390: 19,\n",
       "  56648: 8,\n",
       "  56854: 170,\n",
       "  57091: 88,\n",
       "  57102: 35,\n",
       "  58702: 479,\n",
       "  59260: 11,\n",
       "  59437: 26,\n",
       "  60849: 2,\n",
       "  60868: 6,\n",
       "  61652: 7,\n",
       "  61667: 30,\n",
       "  63039: 8,\n",
       "  65513: 8,\n",
       "  68044: 40,\n",
       "  68095: 23,\n",
       "  68184: 5,\n",
       "  68308: 8,\n",
       "  68860: 14,\n",
       "  69719: 13,\n",
       "  69745: 25,\n",
       "  69776: 17,\n",
       "  70226: 8,\n",
       "  70447: 9,\n",
       "  72930: 11,\n",
       "  73811: 9,\n",
       "  73888: 109,\n",
       "  74316: 2,\n",
       "  74444: 81,\n",
       "  74686: 75,\n",
       "  75824: 10,\n",
       "  76282: 21,\n",
       "  76827: 2,\n",
       "  77382: 10,\n",
       "  78241: 3,\n",
       "  78388: 14,\n",
       "  79008: 27,\n",
       "  79055: 21,\n",
       "  79222: 18,\n",
       "  79877: 156,\n",
       "  80637: 148,\n",
       "  80678: 9,\n",
       "  80737: 46,\n",
       "  80805: 79,\n",
       "  81437: 27,\n",
       "  82393: 5,\n",
       "  82769: 85,\n",
       "  83932: 2,\n",
       "  84474: 34,\n",
       "  85160: 8,\n",
       "  85258: 52,\n",
       "  85404: 11,\n",
       "  85797: 9,\n",
       "  86007: 35,\n",
       "  86394: 4,\n",
       "  86684: 11,\n",
       "  86832: 67,\n",
       "  86863: 8,\n",
       "  86872: 326,\n",
       "  88193: 16,\n",
       "  88660: 11,\n",
       "  90256: 18,\n",
       "  91350: 19,\n",
       "  92074: 28,\n",
       "  92278: 52,\n",
       "  92331: 42,\n",
       "  93422: 7,\n",
       "  94341: 2,\n",
       "  94997: 9,\n",
       "  95280: 23,\n",
       "  95803: 18,\n",
       "  95830: 33,\n",
       "  95933: 56,\n",
       "  96699: 85,\n",
       "  97181: 30,\n",
       "  97795: 60,\n",
       "  98009: 33,\n",
       "  98299: 29,\n",
       "  98597: 2},\n",
       " 'pneumonia_alive': {68: 18,\n",
       "  85: 8,\n",
       "  94: 100,\n",
       "  165: 2,\n",
       "  211: 24,\n",
       "  224: 8,\n",
       "  231: 75,\n",
       "  283: 131,\n",
       "  357: 17,\n",
       "  368: 45,\n",
       "  370: 13,\n",
       "  384: 26,\n",
       "  426: 10,\n",
       "  509: 34,\n",
       "  514: 7,\n",
       "  596: 23,\n",
       "  674: 16,\n",
       "  707: 29,\n",
       "  711: 537,\n",
       "  770: 83,\n",
       "  773: 74,\n",
       "  899: 17,\n",
       "  1096: 17,\n",
       "  1135: 32,\n",
       "  1163: 12,\n",
       "  1174: 42,\n",
       "  1180: 5,\n",
       "  1283: 3,\n",
       "  1332: 66,\n",
       "  1339: 134,\n",
       "  1546: 21,\n",
       "  1568: 22,\n",
       "  1601: 12,\n",
       "  1606: 13,\n",
       "  1642: 4,\n",
       "  1660: 23,\n",
       "  1895: 22,\n",
       "  1923: 23,\n",
       "  2029: 175,\n",
       "  2090: 179,\n",
       "  2098: 26,\n",
       "  2128: 31,\n",
       "  2170: 9,\n",
       "  2187: 30,\n",
       "  2208: 139,\n",
       "  2337: 8,\n",
       "  2378: 57,\n",
       "  2386: 18,\n",
       "  2452: 22,\n",
       "  2508: 22,\n",
       "  2561: 126,\n",
       "  2585: 9,\n",
       "  2589: 92,\n",
       "  2590: 5,\n",
       "  2628: 218,\n",
       "  2658: 16,\n",
       "  2732: 12,\n",
       "  2784: 23,\n",
       "  2823: 21,\n",
       "  3070: 8,\n",
       "  3100: 70,\n",
       "  3154: 22,\n",
       "  3220: 28,\n",
       "  3277: 35,\n",
       "  3347: 15,\n",
       "  3359: 15,\n",
       "  3516: 11,\n",
       "  3602: 18,\n",
       "  3623: 116,\n",
       "  3641: 57,\n",
       "  3676: 49,\n",
       "  3830: 80,\n",
       "  3860: 203,\n",
       "  3862: 22,\n",
       "  3865: 8,\n",
       "  3895: 6,\n",
       "  3935: 44,\n",
       "  3952: 20,\n",
       "  3975: 34,\n",
       "  4109: 9,\n",
       "  4155: 23,\n",
       "  4236: 14,\n",
       "  4275: 45,\n",
       "  4316: 13,\n",
       "  4317: 106,\n",
       "  4328: 23,\n",
       "  4388: 14,\n",
       "  4454: 5,\n",
       "  4467: 12,\n",
       "  4489: 21,\n",
       "  4494: 18,\n",
       "  4584: 39,\n",
       "  4588: 80,\n",
       "  4641: 23,\n",
       "  4694: 19,\n",
       "  4804: 6,\n",
       "  5030: 49,\n",
       "  5145: 9,\n",
       "  5244: 113,\n",
       "  5264: 115,\n",
       "  5360: 19,\n",
       "  5434: 24,\n",
       "  5476: 36,\n",
       "  5516: 31,\n",
       "  5536: 21,\n",
       "  5564: 30,\n",
       "  5579: 14,\n",
       "  5609: 39,\n",
       "  5619: 25,\n",
       "  5631: 9,\n",
       "  5681: 9,\n",
       "  5691: 12,\n",
       "  5727: 41,\n",
       "  5761: 85,\n",
       "  5819: 19,\n",
       "  5904: 16,\n",
       "  5937: 61,\n",
       "  6038: 4,\n",
       "  6143: 15,\n",
       "  6176: 5,\n",
       "  6183: 17,\n",
       "  6206: 7,\n",
       "  6279: 20,\n",
       "  6378: 112,\n",
       "  6398: 11,\n",
       "  6557: 16,\n",
       "  6603: 15,\n",
       "  6884: 43,\n",
       "  6901: 8,\n",
       "  6915: 190,\n",
       "  7107: 230,\n",
       "  7169: 9,\n",
       "  7271: 117,\n",
       "  7356: 12,\n",
       "  7363: 284,\n",
       "  7492: 58,\n",
       "  7569: 32,\n",
       "  7603: 39,\n",
       "  7666: 9,\n",
       "  7700: 68,\n",
       "  7787: 18,\n",
       "  7849: 96,\n",
       "  7936: 3,\n",
       "  8070: 69,\n",
       "  8312: 29,\n",
       "  8337: 22,\n",
       "  8366: 25,\n",
       "  8471: 15,\n",
       "  8512: 16,\n",
       "  8515: 21,\n",
       "  8532: 9,\n",
       "  8556: 71,\n",
       "  8803: 4,\n",
       "  8895: 10,\n",
       "  8900: 11,\n",
       "  9124: 18,\n",
       "  9128: 2,\n",
       "  9253: 76,\n",
       "  9304: 12,\n",
       "  9332: 7,\n",
       "  9457: 6,\n",
       "  9505: 2,\n",
       "  9518: 80,\n",
       "  9544: 228,\n",
       "  9727: 37,\n",
       "  9736: 19,\n",
       "  9859: 12,\n",
       "  9871: 17,\n",
       "  9957: 15,\n",
       "  9973: 59,\n",
       "  10057: 144,\n",
       "  10207: 36,\n",
       "  10299: 167,\n",
       "  10304: 8,\n",
       "  10377: 125,\n",
       "  10502: 9,\n",
       "  10581: 11,\n",
       "  10589: 18,\n",
       "  10626: 72,\n",
       "  10635: 6,\n",
       "  10666: 84,\n",
       "  10675: 13,\n",
       "  10761: 9,\n",
       "  10830: 14,\n",
       "  10848: 16,\n",
       "  10950: 23,\n",
       "  11003: 63,\n",
       "  11018: 24,\n",
       "  11061: 11,\n",
       "  11065: 40,\n",
       "  11197: 14,\n",
       "  11236: 58,\n",
       "  11247: 6,\n",
       "  11275: 26,\n",
       "  11313: 9,\n",
       "  11320: 66,\n",
       "  11421: 37,\n",
       "  11446: 13,\n",
       "  11593: 19,\n",
       "  11616: 64,\n",
       "  11671: 14,\n",
       "  11702: 7,\n",
       "  11708: 44,\n",
       "  11747: 20,\n",
       "  11762: 10,\n",
       "  11829: 25,\n",
       "  11850: 23,\n",
       "  11860: 11,\n",
       "  11932: 18,\n",
       "  11989: 17,\n",
       "  12028: 221,\n",
       "  12140: 36,\n",
       "  12177: 53,\n",
       "  12183: 26,\n",
       "  12274: 9,\n",
       "  12312: 13,\n",
       "  12380: 45,\n",
       "  12508: 136,\n",
       "  12567: 61,\n",
       "  12585: 4,\n",
       "  12629: 43,\n",
       "  12633: 11,\n",
       "  12799: 77,\n",
       "  12803: 21,\n",
       "  12824: 21,\n",
       "  13123: 10,\n",
       "  13329: 22,\n",
       "  13330: 13,\n",
       "  13503: 15,\n",
       "  13546: 20,\n",
       "  13577: 7,\n",
       "  13593: 20,\n",
       "  13615: 10,\n",
       "  13627: 31,\n",
       "  13664: 120,\n",
       "  13728: 13,\n",
       "  13748: 21,\n",
       "  13864: 5,\n",
       "  13881: 2,\n",
       "  14035: 12,\n",
       "  14144: 24,\n",
       "  14172: 9,\n",
       "  14193: 8,\n",
       "  14256: 26,\n",
       "  14269: 21,\n",
       "  14309: 13,\n",
       "  14342: 20,\n",
       "  14385: 14,\n",
       "  14507: 9,\n",
       "  14520: 56,\n",
       "  14705: 17,\n",
       "  14805: 16,\n",
       "  14855: 96,\n",
       "  14975: 23,\n",
       "  15046: 86,\n",
       "  15054: 33,\n",
       "  15301: 5,\n",
       "  15347: 4,\n",
       "  15361: 15,\n",
       "  15472: 13,\n",
       "  15590: 85,\n",
       "  15716: 323,\n",
       "  15852: 15,\n",
       "  15875: 192,\n",
       "  16038: 89,\n",
       "  16053: 17,\n",
       "  16076: 397,\n",
       "  16102: 6,\n",
       "  16129: 22,\n",
       "  16147: 7,\n",
       "  16216: 17,\n",
       "  16275: 90,\n",
       "  16318: 12,\n",
       "  16367: 47,\n",
       "  16384: 48,\n",
       "  16409: 40,\n",
       "  16412: 8,\n",
       "  16438: 28,\n",
       "  16468: 15,\n",
       "  16469: 20,\n",
       "  16479: 7,\n",
       "  16492: 6,\n",
       "  16554: 19,\n",
       "  16560: 8,\n",
       "  16685: 1,\n",
       "  16733: 14,\n",
       "  16755: 24,\n",
       "  16800: 12,\n",
       "  16802: 27,\n",
       "  16850: 14,\n",
       "  16975: 186,\n",
       "  16992: 42,\n",
       "  17107: 6,\n",
       "  17149: 17,\n",
       "  17150: 23,\n",
       "  17250: 28,\n",
       "  17260: 10,\n",
       "  17276: 10,\n",
       "  17539: 24,\n",
       "  17547: 9,\n",
       "  17617: 4,\n",
       "  17631: 19,\n",
       "  17664: 24,\n",
       "  17722: 8,\n",
       "  17764: 3,\n",
       "  17795: 215,\n",
       "  17843: 37,\n",
       "  17882: 6,\n",
       "  17903: 7,\n",
       "  17906: 88,\n",
       "  18082: 22,\n",
       "  18123: 146,\n",
       "  18233: 8,\n",
       "  18250: 2,\n",
       "  18281: 61,\n",
       "  18320: 207,\n",
       "  18353: 16,\n",
       "  18365: 10,\n",
       "  18459: 33,\n",
       "  18637: 35,\n",
       "  18673: 38,\n",
       "  18681: 10,\n",
       "  18737: 7,\n",
       "  18999: 40,\n",
       "  19029: 4,\n",
       "  19036: 12,\n",
       "  19164: 20,\n",
       "  19463: 14,\n",
       "  19569: 4,\n",
       "  19653: 30,\n",
       "  19698: 79,\n",
       "  19793: 37,\n",
       "  19803: 9,\n",
       "  19833: 77,\n",
       "  19851: 83,\n",
       "  19859: 14,\n",
       "  19940: 9,\n",
       "  20061: 7,\n",
       "  20086: 85,\n",
       "  20133: 121,\n",
       "  20181: 204,\n",
       "  20187: 25,\n",
       "  20263: 6,\n",
       "  20265: 7,\n",
       "  20289: 63,\n",
       "  20381: 10,\n",
       "  20425: 103,\n",
       "  20528: 37,\n",
       "  20580: 1,\n",
       "  20598: 31,\n",
       "  20600: 16,\n",
       "  20624: 32,\n",
       "  20643: 20,\n",
       "  20804: 25,\n",
       "  20899: 17,\n",
       "  20951: 8,\n",
       "  20979: 26,\n",
       "  21037: 21,\n",
       "  21056: 9,\n",
       "  21093: 60,\n",
       "  21255: 3,\n",
       "  21269: 279,\n",
       "  21277: 23,\n",
       "  21301: 16,\n",
       "  21350: 18,\n",
       "  21548: 7,\n",
       "  21581: 11,\n",
       "  21737: 7,\n",
       "  21745: 5,\n",
       "  21764: 7,\n",
       "  22019: 2,\n",
       "  22180: 5,\n",
       "  22192: 5,\n",
       "  22287: 10,\n",
       "  22432: 6,\n",
       "  22450: 11,\n",
       "  22520: 63,\n",
       "  22534: 4,\n",
       "  22580: 10,\n",
       "  22624: 43,\n",
       "  22667: 72,\n",
       "  22684: 14,\n",
       "  22706: 8,\n",
       "  22754: 44,\n",
       "  22855: 47,\n",
       "  22921: 2,\n",
       "  23028: 22,\n",
       "  23109: 2,\n",
       "  23131: 49,\n",
       "  23161: 29,\n",
       "  23215: 9,\n",
       "  23318: 15,\n",
       "  23418: 22,\n",
       "  23423: 11,\n",
       "  23451: 26,\n",
       "  23568: 8,\n",
       "  23657: 34,\n",
       "  23734: 15,\n",
       "  23763: 21,\n",
       "  23847: 9,\n",
       "  24099: 2,\n",
       "  24170: 2,\n",
       "  24178: 209,\n",
       "  24276: 82,\n",
       "  24344: 290,\n",
       "  24483: 7,\n",
       "  24535: 23,\n",
       "  24562: 10,\n",
       "  24569: 20,\n",
       "  24622: 1,\n",
       "  24687: 45,\n",
       "  24807: 41,\n",
       "  24847: 12,\n",
       "  24868: 57,\n",
       "  24903: 45,\n",
       "  25001: 25,\n",
       "  25016: 78,\n",
       "  25038: 66,\n",
       "  25097: 42,\n",
       "  25117: 38,\n",
       "  25225: 17,\n",
       "  25256: 30,\n",
       "  25295: 59,\n",
       "  25326: 17,\n",
       "  25373: 158,\n",
       "  25406: 5,\n",
       "  25515: 18,\n",
       "  25526: 86,\n",
       "  25579: 27,\n",
       "  25591: 61,\n",
       "  25671: 11,\n",
       "  25750: 107,\n",
       "  25775: 38,\n",
       "  25844: 22,\n",
       "  25860: 9,\n",
       "  25861: 16,\n",
       "  25889: 20,\n",
       "  25941: 86,\n",
       "  26036: 11,\n",
       "  26040: 79,\n",
       "  26052: 3,\n",
       "  26080: 5,\n",
       "  26097: 65,\n",
       "  26118: 60,\n",
       "  26311: 28,\n",
       "  26391: 64,\n",
       "  26398: 14,\n",
       "  26469: 52,\n",
       "  26542: 55,\n",
       "  26601: 58,\n",
       "  26638: 155,\n",
       "  26727: 10,\n",
       "  26797: 8,\n",
       "  26869: 11,\n",
       "  26884: 5,\n",
       "  26887: 4,\n",
       "  26956: 23,\n",
       "  27003: 18,\n",
       "  27036: 10,\n",
       "  27043: 30,\n",
       "  27047: 41,\n",
       "  27049: 14,\n",
       "  27089: 24,\n",
       "  27121: 89,\n",
       "  27143: 135,\n",
       "  27172: 9,\n",
       "  27179: 118,\n",
       "  27194: 60,\n",
       "  27269: 19,\n",
       "  27367: 84,\n",
       "  27371: 17,\n",
       "  27431: 33,\n",
       "  27486: 2,\n",
       "  27576: 84,\n",
       "  27597: 60,\n",
       "  27600: 28,\n",
       "  27677: 11,\n",
       "  27726: 59,\n",
       "  27729: 70,\n",
       "  27752: 11,\n",
       "  27800: 12,\n",
       "  27809: 18,\n",
       "  27823: 31,\n",
       "  27879: 13,\n",
       "  27886: 30,\n",
       "  27999: 25,\n",
       "  28050: 20,\n",
       "  28055: 4,\n",
       "  28073: 74,\n",
       "  28093: 21,\n",
       "  28103: 16,\n",
       "  28164: 159,\n",
       "  28173: 124,\n",
       "  28230: 23,\n",
       "  28291: 36,\n",
       "  28298: 31,\n",
       "  28356: 10,\n",
       "  28527: 46,\n",
       "  28530: 24,\n",
       "  28642: 2,\n",
       "  28668: 3,\n",
       "  28671: 33,\n",
       "  28689: 5,\n",
       "  28717: 23,\n",
       "  28729: 73,\n",
       "  28742: 7,\n",
       "  28758: 94,\n",
       "  28827: 12,\n",
       "  28843: 1,\n",
       "  28884: 12,\n",
       "  28932: 24,\n",
       "  28935: 4,\n",
       "  28939: 4,\n",
       "  28973: 152,\n",
       "  29007: 9,\n",
       "  29043: 12,\n",
       "  29093: 5,\n",
       "  29096: 21,\n",
       "  29102: 18,\n",
       "  29129: 15,\n",
       "  29137: 8,\n",
       "  29139: 17,\n",
       "  29141: 27,\n",
       "  29219: 19,\n",
       "  29240: 10,\n",
       "  29274: 17,\n",
       "  29350: 18,\n",
       "  29377: 80,\n",
       "  29379: 21,\n",
       "  29456: 22,\n",
       "  29478: 32,\n",
       "  29501: 6,\n",
       "  29503: 11,\n",
       "  29504: 18,\n",
       "  29513: 65,\n",
       "  29528: 5,\n",
       "  29556: 5,\n",
       "  29566: 17,\n",
       "  29619: 18,\n",
       "  29638: 15,\n",
       "  29639: 26,\n",
       "  29660: 9,\n",
       "  29703: 12,\n",
       "  29866: 12,\n",
       "  29872: 14,\n",
       "  29913: 11,\n",
       "  29919: 24,\n",
       "  29927: 63,\n",
       "  29965: 26,\n",
       "  29972: 7,\n",
       "  30010: 7,\n",
       "  30015: 36,\n",
       "  30139: 529,\n",
       "  30208: 18,\n",
       "  30227: 35,\n",
       "  30287: 23,\n",
       "  30299: 1,\n",
       "  30301: 117,\n",
       "  30316: 17,\n",
       "  30365: 47,\n",
       "  30490: 17,\n",
       "  30501: 10,\n",
       "  30505: 33,\n",
       "  30561: 6,\n",
       "  30575: 6,\n",
       "  30599: 24,\n",
       "  30631: 11,\n",
       "  30663: 24,\n",
       "  30696: 54,\n",
       "  30786: 11,\n",
       "  30798: 14,\n",
       "  30860: 28,\n",
       "  31003: 45,\n",
       "  31183: 129,\n",
       "  31216: 80,\n",
       "  31221: 17,\n",
       "  31262: 28,\n",
       "  31298: 13,\n",
       "  31332: 59,\n",
       "  31361: 20,\n",
       "  31442: 32,\n",
       "  31470: 17,\n",
       "  31516: 74,\n",
       "  31528: 60,\n",
       "  31544: 11,\n",
       "  31580: 34,\n",
       "  31585: 39,\n",
       "  31610: 17,\n",
       "  31660: 3,\n",
       "  31664: 45,\n",
       "  31692: 23,\n",
       "  31723: 17,\n",
       "  31813: 234,\n",
       "  31942: 102,\n",
       "  31986: 41,\n",
       "  32018: 145,\n",
       "  32061: 11,\n",
       "  32106: 18,\n",
       "  32135: 12,\n",
       "  32161: 25,\n",
       "  32181: 8,\n",
       "  32183: 27,\n",
       "  32193: 16,\n",
       "  32268: 6,\n",
       "  32286: 117,\n",
       "  32355: 6,\n",
       "  32367: 42,\n",
       "  32394: 6,\n",
       "  32414: 485,\n",
       "  32436: 271,\n",
       "  32583: 5,\n",
       "  32605: 19,\n",
       "  32639: 12,\n",
       "  32740: 48,\n",
       "  32746: 11,\n",
       "  32773: 112,\n",
       "  32790: 103,\n",
       "  40059: 11,\n",
       "  40124: 68,\n",
       "  40246: 20,\n",
       "  40370: 11,\n",
       "  40442: 107,\n",
       "  40456: 43,\n",
       "  40576: 48,\n",
       "  40631: 4,\n",
       "  40911: 35,\n",
       "  41192: 45,\n",
       "  41373: 28,\n",
       "  41434: 10,\n",
       "  41446: 8,\n",
       "  41890: 7,\n",
       "  41958: 5,\n",
       "  41962: 10,\n",
       "  41976: 177,\n",
       "  42009: 30,\n",
       "  42035: 49,\n",
       "  42054: 18,\n",
       "  42194: 1,\n",
       "  42346: 30,\n",
       "  42458: 9,\n",
       "  42515: 38,\n",
       "  42572: 17,\n",
       "  42715: 21,\n",
       "  42794: 6,\n",
       "  42924: 3,\n",
       "  43067: 90,\n",
       "  43074: 18,\n",
       "  43112: 394,\n",
       "  43128: 1,\n",
       "  43147: 150,\n",
       "  43305: 48,\n",
       "  43323: 15,\n",
       "  43937: 4,\n",
       "  43943: 6,\n",
       "  43959: 3,\n",
       "  44146: 16,\n",
       "  44206: 5,\n",
       "  44214: 30,\n",
       "  44326: 8,\n",
       "  44437: 12,\n",
       "  44530: 2,\n",
       "  44534: 37,\n",
       "  44741: 8,\n",
       "  44787: 7,\n",
       "  44829: 55,\n",
       "  44841: 19,\n",
       "  44848: 2,\n",
       "  45193: 11,\n",
       "  45280: 9,\n",
       "  45435: 7,\n",
       "  46011: 61,\n",
       "  46335: 49,\n",
       "  46366: 42,\n",
       "  46415: 53,\n",
       "  46521: 14,\n",
       "  46728: 34,\n",
       "  46926: 1,\n",
       "  46961: 1,\n",
       "  47216: 17,\n",
       "  47219: 67,\n",
       "  47407: 2,\n",
       "  47467: 6,\n",
       "  47670: 7,\n",
       "  47747: 12,\n",
       "  47852: 95,\n",
       "  47930: 5,\n",
       "  48058: 4,\n",
       "  48143: 6,\n",
       "  48297: 11,\n",
       "  48340: 7,\n",
       "  48660: 343,\n",
       "  48687: 15,\n",
       "  48750: 8,\n",
       "  48812: 36,\n",
       "  48837: 14,\n",
       "  48929: 7,\n",
       "  49292: 18,\n",
       "  49510: 31,\n",
       "  49558: 347,\n",
       "  49623: 9,\n",
       "  49747: 7,\n",
       "  49764: 10,\n",
       "  49963: 4,\n",
       "  50007: 4,\n",
       "  50041: 10,\n",
       "  50093: 6,\n",
       "  50257: 11,\n",
       "  50294: 20,\n",
       "  50409: 75,\n",
       "  50762: 8,\n",
       "  50772: 17,\n",
       "  50807: 21,\n",
       "  50828: 126,\n",
       "  50911: 81,\n",
       "  50998: 29,\n",
       "  51195: 29,\n",
       "  51237: 11,\n",
       "  51401: 33,\n",
       "  51418: 68,\n",
       "  51497: 3,\n",
       "  51545: 97,\n",
       "  51601: 5,\n",
       "  51607: 5,\n",
       "  51669: 10,\n",
       "  51933: 5,\n",
       "  52011: 8,\n",
       "  52054: 1,\n",
       "  52172: 13,\n",
       "  52191: 46,\n",
       "  52307: 5,\n",
       "  52452: 5,\n",
       "  52606: 54,\n",
       "  52622: 5,\n",
       "  52898: 6,\n",
       "  52957: 52,\n",
       "  53119: 7,\n",
       "  53160: 13,\n",
       "  53173: 14,\n",
       "  53534: 9,\n",
       "  53650: 15,\n",
       "  53743: 151,\n",
       "  53749: 6,\n",
       "  53847: 14,\n",
       "  54172: 6,\n",
       "  54197: 13,\n",
       "  54305: 8,\n",
       "  54514: 116,\n",
       "  54709: 9,\n",
       "  54741: 5,\n",
       "  54832: 7,\n",
       "  54922: 2,\n",
       "  55059: 17,\n",
       "  55074: 7,\n",
       "  55188: 9,\n",
       "  55571: 212,\n",
       "  55700: 4,\n",
       "  55753: 37,\n",
       "  55841: 14,\n",
       "  55920: 17,\n",
       "  56027: 7,\n",
       "  56229: 31,\n",
       "  56440: 9,\n",
       "  56490: 12,\n",
       "  56621: 11,\n",
       "  56635: 2,\n",
       "  56772: 31,\n",
       "  56798: 4,\n",
       "  56867: 16,\n",
       "  56874: 51,\n",
       "  57050: 205,\n",
       "  57081: 32,\n",
       "  57157: 5,\n",
       "  57277: 19,\n",
       "  57290: 15,\n",
       "  57449: 17,\n",
       "  57788: 36,\n",
       "  57795: 7,\n",
       "  57889: 105,\n",
       "  58105: 49,\n",
       "  58242: 6,\n",
       "  58264: 7,\n",
       "  58286: 20,\n",
       "  58416: 3,\n",
       "  58433: 51,\n",
       "  58522: 9,\n",
       "  58580: 5,\n",
       "  58610: 13,\n",
       "  58631: 15,\n",
       "  58732: 5,\n",
       "  58794: 32,\n",
       "  58810: 10,\n",
       "  58955: 6,\n",
       "  59275: 1,\n",
       "  59278: 17,\n",
       "  59411: 6,\n",
       "  59496: 75,\n",
       "  59765: 300,\n",
       "  59789: 10,\n",
       "  59801: 2,\n",
       "  59822: 14,\n",
       "  59903: 483,\n",
       "  59943: 121,\n",
       "  60003: 9,\n",
       "  60050: 4,\n",
       "  60130: 44,\n",
       "  60674: 10,\n",
       "  60685: 4,\n",
       "  60958: 8,\n",
       "  60977: 9,\n",
       "  61005: 10,\n",
       "  61084: 216,\n",
       "  61195: 9,\n",
       "  61259: 83,\n",
       "  61331: 4,\n",
       "  61630: 19,\n",
       "  61738: 6,\n",
       "  61886: 6,\n",
       "  62231: 4,\n",
       "  62239: 5,\n",
       "  62284: 6,\n",
       "  62402: 56,\n",
       "  62641: 8,\n",
       "  62733: 9,\n",
       "  62858: 120,\n",
       "  63145: 25,\n",
       "  63327: 16,\n",
       "  63351: 10,\n",
       "  63362: 7,\n",
       "  63430: 56,\n",
       "  63499: 32,\n",
       "  63560: 25,\n",
       "  63943: 31,\n",
       "  63968: 10,\n",
       "  64160: 4,\n",
       "  64232: 28,\n",
       "  64249: 7,\n",
       "  64715: 17,\n",
       "  65004: 11,\n",
       "  65027: 1,\n",
       "  65033: 2,\n",
       "  65164: 4,\n",
       "  65361: 20,\n",
       "  65435: 40,\n",
       "  65449: 6,\n",
       "  65515: 5,\n",
       "  65582: 576,\n",
       "  65594: 9,\n",
       "  65692: 25,\n",
       "  65710: 18,\n",
       "  65837: 47,\n",
       "  66002: 636,\n",
       "  66009: 373,\n",
       "  66206: 12,\n",
       "  66412: 5,\n",
       "  66492: 1,\n",
       "  66549: 36,\n",
       "  66556: 20,\n",
       "  66671: 32,\n",
       "  66739: 1,\n",
       "  66753: 8,\n",
       "  66823: 21,\n",
       "  67053: 238,\n",
       "  67111: 16,\n",
       "  67117: 19,\n",
       "  67408: 15,\n",
       "  67446: 8,\n",
       "  67796: 7,\n",
       "  67844: 7,\n",
       "  67887: 13,\n",
       "  68059: 3,\n",
       "  68315: 3,\n",
       "  68591: 7,\n",
       "  68791: 13,\n",
       "  68836: 7,\n",
       "  68839: 21,\n",
       "  68905: 3,\n",
       "  68944: 39,\n",
       "  68962: 1,\n",
       "  69098: 12,\n",
       "  69158: 13,\n",
       "  69250: 4,\n",
       "  69296: 13,\n",
       "  69359: 26,\n",
       "  69380: 265,\n",
       "  69483: 26,\n",
       "  69546: 64,\n",
       "  69556: 11,\n",
       "  69578: 7,\n",
       "  69673: 6,\n",
       "  69776: 53,\n",
       "  69799: 6,\n",
       "  69932: 6,\n",
       "  70285: 2,\n",
       "  70466: 18,\n",
       "  70476: 22,\n",
       "  70492: 10,\n",
       "  70563: 3,\n",
       "  70645: 29,\n",
       "  70682: 48,\n",
       "  70728: 12,\n",
       "  71107: 9,\n",
       "  71108: 220,\n",
       "  71220: 45,\n",
       "  71336: 5,\n",
       "  71377: 39,\n",
       "  71915: 6,\n",
       "  71943: 4,\n",
       "  71983: 3,\n",
       "  72229: 189,\n",
       "  72230: 154,\n",
       "  72233: 2,\n",
       "  72378: 7,\n",
       "  72532: 6,\n",
       "  72714: 4,\n",
       "  72751: 35,\n",
       "  73043: 3,\n",
       "  73107: 479,\n",
       "  73129: 105,\n",
       "  73388: 37,\n",
       "  73389: 87,\n",
       "  73479: 3,\n",
       "  73686: 4,\n",
       "  73713: 458,\n",
       "  73770: 9,\n",
       "  73808: 49,\n",
       "  73899: 2,\n",
       "  73941: 7,\n",
       "  74016: 8,\n",
       "  74253: 388,\n",
       "  74505: 32,\n",
       "  74562: 98,\n",
       "  74640: 7,\n",
       "  74654: 7,\n",
       "  75047: 3,\n",
       "  75107: 124,\n",
       "  75200: 87,\n",
       "  75387: 14,\n",
       "  75446: 34,\n",
       "  75609: 5,\n",
       "  75640: 45,\n",
       "  75741: 8,\n",
       "  75782: 90,\n",
       "  75806: 3,\n",
       "  75983: 9,\n",
       "  76021: 39,\n",
       "  76056: 1,\n",
       "  76074: 31,\n",
       "  76141: 4,\n",
       "  76178: 22,\n",
       "  76437: 5,\n",
       "  76446: 18,\n",
       "  76476: 3,\n",
       "  76797: 6,\n",
       "  76915: 8,\n",
       "  76993: 13,\n",
       "  77019: 8,\n",
       "  77128: 9,\n",
       "  77177: 14,\n",
       "  77237: 198,\n",
       "  77279: 2,\n",
       "  77434: 18,\n",
       "  77453: 2,\n",
       "  77469: 31,\n",
       "  77676: 4,\n",
       "  77690: 19,\n",
       "  77697: 10,\n",
       "  77816: 8,\n",
       "  77947: 11,\n",
       "  78017: 2,\n",
       "  78086: 110,\n",
       "  78565: 78,\n",
       "  78705: 3,\n",
       "  78707: 16,\n",
       "  78859: 5,\n",
       "  78914: 13,\n",
       "  79079: 18,\n",
       "  79090: 16,\n",
       "  79115: 12,\n",
       "  79292: 15,\n",
       "  80045: 6,\n",
       "  80106: 5,\n",
       "  80218: 13,\n",
       "  80430: 10,\n",
       "  80722: 3,\n",
       "  80813: 11,\n",
       "  80825: 3,\n",
       "  81114: 58,\n",
       "  81223: 39,\n",
       "  81233: 22,\n",
       "  81436: 9,\n",
       "  81745: 28,\n",
       "  81840: 25,\n",
       "  81960: 8,\n",
       "  81992: 11,\n",
       "  82100: 74,\n",
       "  82104: 2,\n",
       "  82150: 84,\n",
       "  82202: 28,\n",
       "  82211: 647,\n",
       "  82309: 9,\n",
       "  ...}}"
      ]
     },
     "execution_count": 30,
     "metadata": {},
     "output_type": "execute_result"
    }
   ],
   "source": [
    "patient_id_to_num_notes"
   ]
  },
  {
   "cell_type": "code",
   "execution_count": 31,
   "metadata": {},
   "outputs": [
    {
     "name": "stdout",
     "output_type": "stream",
     "text": [
      "252\n",
      "1167\n"
     ]
    }
   ],
   "source": [
    "print(len(patient_id_to_num_notes['pneumonia_dead']))\n",
    "print(len(patient_id_to_num_notes['pneumonia_alive']))"
   ]
  },
  {
   "cell_type": "code",
   "execution_count": 32,
   "metadata": {
    "scrolled": true
   },
   "outputs": [
    {
     "data": {
      "text/html": [
       "<div>\n",
       "<style scoped>\n",
       "    .dataframe tbody tr th:only-of-type {\n",
       "        vertical-align: middle;\n",
       "    }\n",
       "\n",
       "    .dataframe tbody tr th {\n",
       "        vertical-align: top;\n",
       "    }\n",
       "\n",
       "    .dataframe thead th {\n",
       "        text-align: right;\n",
       "    }\n",
       "</style>\n",
       "<table border=\"1\" class=\"dataframe\">\n",
       "  <thead>\n",
       "    <tr style=\"text-align: right;\">\n",
       "      <th></th>\n",
       "      <th>ROW_ID_x</th>\n",
       "      <th>SUBJECT_ID_x</th>\n",
       "      <th>DESCRIPTION</th>\n",
       "      <th>TEXT</th>\n",
       "      <th>DEATHTIME</th>\n",
       "    </tr>\n",
       "  </thead>\n",
       "  <tbody>\n",
       "    <tr>\n",
       "      <th>70391</th>\n",
       "      <td>70124</td>\n",
       "      <td>111</td>\n",
       "      <td>Report</td>\n",
       "      <td>PATIENT/TEST INFORMATION:\\nIndication: s/p PEA...</td>\n",
       "      <td>2144-07-01 14:55:00</td>\n",
       "    </tr>\n",
       "    <tr>\n",
       "      <th>142529</th>\n",
       "      <td>151749</td>\n",
       "      <td>111</td>\n",
       "      <td>Report</td>\n",
       "      <td>Compared to the previous tracing QRS voltage i...</td>\n",
       "      <td>2144-07-01 14:55:00</td>\n",
       "    </tr>\n",
       "    <tr>\n",
       "      <th>142097</th>\n",
       "      <td>151750</td>\n",
       "      <td>111</td>\n",
       "      <td>Report</td>\n",
       "      <td>Normal sinus rhythm, rate 80.  Biatrial abnorm...</td>\n",
       "      <td>2144-07-01 14:55:00</td>\n",
       "    </tr>\n",
       "    <tr>\n",
       "      <th>142303</th>\n",
       "      <td>151751</td>\n",
       "      <td>111</td>\n",
       "      <td>Report</td>\n",
       "      <td>Normal sinus rhythm.  Q waves in leads V1-V2 c...</td>\n",
       "      <td>2144-07-01 14:55:00</td>\n",
       "    </tr>\n",
       "    <tr>\n",
       "      <th>380576</th>\n",
       "      <td>375732</td>\n",
       "      <td>111</td>\n",
       "      <td>Physician Resident Admission Note</td>\n",
       "      <td>Chief Complaint:  respiratory distress\\n   HPI...</td>\n",
       "      <td>2144-07-01 14:55:00</td>\n",
       "    </tr>\n",
       "    <tr>\n",
       "      <th>380109</th>\n",
       "      <td>375744</td>\n",
       "      <td>111</td>\n",
       "      <td>ICU Event Note</td>\n",
       "      <td>Clinician:  Nurse\\n   Pt admitted from the ED ...</td>\n",
       "      <td>2144-07-01 14:55:00</td>\n",
       "    </tr>\n",
       "    <tr>\n",
       "      <th>379907</th>\n",
       "      <td>375749</td>\n",
       "      <td>111</td>\n",
       "      <td>Physician Resident/Attending Admission Note - ...</td>\n",
       "      <td>Chief Complaint:  respiratory distress\\n   HPI...</td>\n",
       "      <td>2144-07-01 14:55:00</td>\n",
       "    </tr>\n",
       "    <tr>\n",
       "      <th>379806</th>\n",
       "      <td>375753</td>\n",
       "      <td>111</td>\n",
       "      <td>Social Work Admission Note</td>\n",
       "      <td>Social Work Initial Note:\\n   Family Informati...</td>\n",
       "      <td>2144-07-01 14:55:00</td>\n",
       "    </tr>\n",
       "    <tr>\n",
       "      <th>379909</th>\n",
       "      <td>375760</td>\n",
       "      <td>111</td>\n",
       "      <td>ICU Event Note</td>\n",
       "      <td>TITLE:\\n   Clinician:  Resident\\n   Patient ex...</td>\n",
       "      <td>2144-07-01 14:55:00</td>\n",
       "    </tr>\n",
       "    <tr>\n",
       "      <th>1066971</th>\n",
       "      <td>1079317</td>\n",
       "      <td>111</td>\n",
       "      <td>CHEST (PORTABLE AP)</td>\n",
       "      <td>[**2144-7-1**] 2:43 AM\\n CHEST (PORTABLE AP)  ...</td>\n",
       "      <td>2144-07-01 14:55:00</td>\n",
       "    </tr>\n",
       "    <tr>\n",
       "      <th>1065833</th>\n",
       "      <td>1079339</td>\n",
       "      <td>111</td>\n",
       "      <td>CHEST (PORTABLE AP)</td>\n",
       "      <td>[**2144-7-1**] 7:27 AM\\n CHEST (PORTABLE AP); ...</td>\n",
       "      <td>2144-07-01 14:55:00</td>\n",
       "    </tr>\n",
       "    <tr>\n",
       "      <th>1067121</th>\n",
       "      <td>1079351</td>\n",
       "      <td>111</td>\n",
       "      <td>CHEST PORT. LINE PLACEMENT</td>\n",
       "      <td>[**2144-7-1**] 9:01 AM\\n CHEST PORT. LINE PLAC...</td>\n",
       "      <td>2144-07-01 14:55:00</td>\n",
       "    </tr>\n",
       "  </tbody>\n",
       "</table>\n",
       "</div>"
      ],
      "text/plain": [
       "         ROW_ID_x  SUBJECT_ID_x  \\\n",
       "70391       70124           111   \n",
       "142529     151749           111   \n",
       "142097     151750           111   \n",
       "142303     151751           111   \n",
       "380576     375732           111   \n",
       "380109     375744           111   \n",
       "379907     375749           111   \n",
       "379806     375753           111   \n",
       "379909     375760           111   \n",
       "1066971   1079317           111   \n",
       "1065833   1079339           111   \n",
       "1067121   1079351           111   \n",
       "\n",
       "                                               DESCRIPTION  \\\n",
       "70391                                               Report   \n",
       "142529                                              Report   \n",
       "142097                                              Report   \n",
       "142303                                              Report   \n",
       "380576                   Physician Resident Admission Note   \n",
       "380109                                      ICU Event Note   \n",
       "379907   Physician Resident/Attending Admission Note - ...   \n",
       "379806                          Social Work Admission Note   \n",
       "379909                                      ICU Event Note   \n",
       "1066971                                CHEST (PORTABLE AP)   \n",
       "1065833                                CHEST (PORTABLE AP)   \n",
       "1067121                         CHEST PORT. LINE PLACEMENT   \n",
       "\n",
       "                                                      TEXT  \\\n",
       "70391    PATIENT/TEST INFORMATION:\\nIndication: s/p PEA...   \n",
       "142529   Compared to the previous tracing QRS voltage i...   \n",
       "142097   Normal sinus rhythm, rate 80.  Biatrial abnorm...   \n",
       "142303   Normal sinus rhythm.  Q waves in leads V1-V2 c...   \n",
       "380576   Chief Complaint:  respiratory distress\\n   HPI...   \n",
       "380109   Clinician:  Nurse\\n   Pt admitted from the ED ...   \n",
       "379907   Chief Complaint:  respiratory distress\\n   HPI...   \n",
       "379806   Social Work Initial Note:\\n   Family Informati...   \n",
       "379909   TITLE:\\n   Clinician:  Resident\\n   Patient ex...   \n",
       "1066971  [**2144-7-1**] 2:43 AM\\n CHEST (PORTABLE AP)  ...   \n",
       "1065833  [**2144-7-1**] 7:27 AM\\n CHEST (PORTABLE AP); ...   \n",
       "1067121  [**2144-7-1**] 9:01 AM\\n CHEST PORT. LINE PLAC...   \n",
       "\n",
       "                   DEATHTIME  \n",
       "70391    2144-07-01 14:55:00  \n",
       "142529   2144-07-01 14:55:00  \n",
       "142097   2144-07-01 14:55:00  \n",
       "142303   2144-07-01 14:55:00  \n",
       "380576   2144-07-01 14:55:00  \n",
       "380109   2144-07-01 14:55:00  \n",
       "379907   2144-07-01 14:55:00  \n",
       "379806   2144-07-01 14:55:00  \n",
       "379909   2144-07-01 14:55:00  \n",
       "1066971  2144-07-01 14:55:00  \n",
       "1065833  2144-07-01 14:55:00  \n",
       "1067121  2144-07-01 14:55:00  "
      ]
     },
     "execution_count": 32,
     "metadata": {},
     "output_type": "execute_result"
    }
   ],
   "source": [
    "pneumonia_dead_no_disch.loc[pneumonia_dead_no_disch[\"SUBJECT_ID_x\"] == 111, ['ROW_ID_x','SUBJECT_ID_x','DESCRIPTION','TEXT', 'DEATHTIME']]"
   ]
  },
  {
   "cell_type": "code",
   "execution_count": 33,
   "metadata": {
    "scrolled": true
   },
   "outputs": [],
   "source": [
    "# tmp_df = pneumonia_dead_no_disch.loc[pneumonia_dead_no_disch[\"SUBJECT_ID_x\"] == 111, ['DESCRIPTION','TEXT']]\n",
    "# for index, row in tmp_df.iterrows():\n",
    "#     print(row['DESCRIPTION'])\n",
    "#     print(row['TEXT'])\n",
    "#     print('-'*80)"
   ]
  },
  {
   "cell_type": "code",
   "execution_count": null,
   "metadata": {},
   "outputs": [],
   "source": []
  },
  {
   "cell_type": "code",
   "execution_count": 34,
   "metadata": {
    "scrolled": true
   },
   "outputs": [],
   "source": [
    "# row_cnt = 0\n",
    "# note_cnt = 0\n",
    "# for index, row in pneumonia_alive_no_disch.iterrows():\n",
    "#     row_cnt += 1\n",
    "#     note = re.sub(r'\\[\\*\\*(.*?)\\*\\*\\]|[_,\\d\\*:~=\\.\\-\\+\\\\/]+', ' ', row['TEXT'])\n",
    "#     tokenized_note = word_tokenize(note)\n",
    "       \n",
    "#     if 'money' in tokenized_note :\n",
    "#         note_cnt += 1\n",
    "#         print(f\"#{row_cnt}) {note_cnt}) {row['ROW_ID_x']} : {row['SUBJECT_ID_x']} ==> [{row['DESCRIPTION']}]\")\n",
    "    \n",
    "    "
   ]
  },
  {
   "cell_type": "code",
   "execution_count": 35,
   "metadata": {
    "scrolled": true
   },
   "outputs": [],
   "source": [
    "# row_cnt = 0\n",
    "# note_cnt = 0\n",
    "# for index, row in pneumonia_alive_no_disch.iterrows():\n",
    "#     row_cnt += 1\n",
    "#     note = re.sub(r'\\[\\*\\*(.*?)\\*\\*\\]|[_,\\d\\*:~=\\.\\-\\+\\\\/]+', ' ', row['TEXT'])\n",
    "#     tokenized_note = word_tokenize(note)\n",
    "    \n",
    "#     if 'money' in tokenized_note and 'wallet' in tokenized_note:\n",
    "#         note_cnt += 1\n",
    "#         print(f\"#{row_cnt}) {note_cnt}) {row['ROW_ID_x']} : {row['SUBJECT_ID_x']} ==> [{row['DESCRIPTION']}]\")\n",
    "# #         print(row['TEXT'])\n",
    "# #         print('-'*80)"
   ]
  },
  {
   "cell_type": "code",
   "execution_count": null,
   "metadata": {},
   "outputs": [],
   "source": []
  },
  {
   "cell_type": "code",
   "execution_count": null,
   "metadata": {},
   "outputs": [],
   "source": []
  },
  {
   "cell_type": "code",
   "execution_count": null,
   "metadata": {},
   "outputs": [],
   "source": []
  },
  {
   "cell_type": "code",
   "execution_count": null,
   "metadata": {},
   "outputs": [],
   "source": []
  },
  {
   "cell_type": "code",
   "execution_count": 36,
   "metadata": {},
   "outputs": [
    {
     "name": "stderr",
     "output_type": "stream",
     "text": [
      "100%|██████████| 11895/11895 [00:47<00:00, 252.29it/s]\n",
      "  0%|          | 13/46134 [00:00<06:24, 119.82it/s]"
     ]
    },
    {
     "name": "stdout",
     "output_type": "stream",
     "text": [
      "5989 note events\n",
      "finished counting frequent words for patients!\n"
     ]
    },
    {
     "name": "stderr",
     "output_type": "stream",
     "text": [
      "100%|██████████| 46134/46134 [03:01<00:00, 254.19it/s]"
     ]
    },
    {
     "name": "stdout",
     "output_type": "stream",
     "text": [
      "23172 note events\n",
      "finished counting frequent words for patients!\n"
     ]
    },
    {
     "name": "stderr",
     "output_type": "stream",
     "text": [
      "\n"
     ]
    }
   ],
   "source": [
    "def count_words_per_patient(disease_df, patient_id_to_num_notes):\n",
    "    note_appearance_counter = {}\n",
    "    number_of_patients = 0 # number of patients\n",
    "    note_counter = 0\n",
    "\n",
    "# -----------\n",
    "    patient_id = -1\n",
    "    word_set = set()\n",
    "    note_event_counter = 0\n",
    "\n",
    "    # Iterate through each note\n",
    "    for index, row in tqdm(disease_df.iterrows(), total=disease_df.shape[0]):\n",
    "\n",
    "        \n",
    "        patient_id_check = int(row['SUBJECT_ID_x'])\n",
    "    \n",
    "        # if patient id has changed, end sequence and start new sequence\n",
    "        if not patient_id == patient_id_check:\n",
    "            number_of_patients += 1\n",
    "            note_event_counter = 0\n",
    "        \n",
    "            for word in word_set:\n",
    "                if word in note_appearance_counter:\n",
    "                    note_appearance_counter[word] += 1\n",
    "                else:\n",
    "                    note_appearance_counter[word] = 1\n",
    "\n",
    "        \n",
    "            # reset word_set\n",
    "            word_set = set()\n",
    "        \n",
    "        # update patient id\n",
    "        patient_id = patient_id_check\n",
    "\n",
    "            \n",
    "        if patient_id_to_num_notes[patient_id_check] <= MIN_SEQ_LEN:\n",
    "            continue\n",
    "            \n",
    "        if note_event_counter < patient_id_to_num_notes[patient_id] // USE_1_N_SEQ:\n",
    "            note_event_counter += 1\n",
    "            continue\n",
    "                \n",
    "        note_counter += 1\n",
    "        note = re.sub(r'\\[\\*\\*(.*?)\\*\\*\\]|[_,\\d\\*:~=\\.\\-\\+\\\\/]+', ' ', row['TEXT'])\n",
    "        tokenized_note = word_tokenize(note)\n",
    "        \n",
    "        \n",
    "        for word in tokenized_note:\n",
    "            stemmed_word = stemmer.stem(word.lower())\n",
    "            if not stemmed_word in stop_words:\n",
    "                word_set.add(stemmed_word)\n",
    "    \n",
    "    print(str(note_counter) + \" note events\")\n",
    "    print(\"finished counting frequent words for patients!\")\n",
    "#     return note_counter, note_appearance_counter\n",
    "    return number_of_patients, note_appearance_counter\n",
    "\n",
    "# variable dictionaries\n",
    "number_of_notes = {}\n",
    "note_appearance_counter = {}\n",
    "\n",
    "number_of_notes['pneumonia_dead'], note_appearance_counter['pneumonia_dead'] = count_words_per_patient(pneumonia_dead_no_disch, patient_id_to_num_notes['pneumonia_dead'])\n",
    "number_of_notes['pneumonia_alive'], note_appearance_counter['pneumonia_alive'] = count_words_per_patient(pneumonia_alive_no_disch, patient_id_to_num_notes['pneumonia_alive'])"
   ]
  },
  {
   "cell_type": "code",
   "execution_count": 37,
   "metadata": {},
   "outputs": [
    {
     "data": {
      "text/plain": [
       "{'pneumonia_dead': 252, 'pneumonia_alive': 1167}"
      ]
     },
     "execution_count": 37,
     "metadata": {},
     "output_type": "execute_result"
    }
   ],
   "source": [
    "number_of_notes"
   ]
  },
  {
   "cell_type": "code",
   "execution_count": 38,
   "metadata": {},
   "outputs": [
    {
     "name": "stdout",
     "output_type": "stream",
     "text": [
      "{'pneumonia_dead': {'meantim': 3, 'prevent': 35, 'dilat': 85, 'cage': 1, 'acut': 134, 'flatten': 7, 'scale': 61, 'legal': 10, 'girlfriend': 2, 'balanc': 85, 'ed': 61, 'heent': 34, 'total': 119, 'servic': 92, 'histori': 173, 'ye': 42, 'dvt': 79, 'va': 11, 'cardiac': 156, ')': 229, 'boni': 11, 'law': 18, 'dic': 20, 'replet': 84, 'stomach': 93, 'hypotens': 131, 'distend': 108, 'enzym': 32, 'fluid': 183, 'lactic': 54, 'sign': 110, 'manag': 90, 'appropri': 101, 'bag': 43, 'eeg': 7, 'person': 33, 'r': 178, 'enter': 58, 'sever': 172, 'obtain': 159, 'anion': 8, 'mass': 65, 'sr': 94, 'mg': 163, 'speak': 65, 'may': 142, 'alk': 47, 'epi': 11, 'chemistri': 16, 'year': 195, 'cvp': 66, 'cv': 136, 'costophren': 30, 'eo': 44, 'acidosi': 70, 'attend': 94, 'live': 42, 'weak': 65, 'electrolyt': 43, 'intub': 147, 'growth': 28, 'licsw': 11, 'aggress': 62, 'daughter': 84, 'found': 81, 'taken': 60, 'keep': 104, 'still': 115, 'evid': 141, 'peep': 106, 'approxim': 72, 'serial': 23, 'wean': 118, 'assist': 81, 'psychiatr': 14, 'howev': 131, 'infect': 100, 'discuss': 156, 'veteran': 1, 'issu': 84, 'diagnosi': 176, 'elderli': 5, 'coagulopathi': 20, 'portion': 101, 'niec': 13, 'product': 99, 'inform': 122, 'region': 80, 'provid': 114, 'vital': 80, 'nodular': 15, 'profound': 13, 'start': 154, 'stool': 150, 'metabol': 52, 'wave': 81, 'form': 38, 'plan': 161, 'second': 40, 'protect': 61, '[': 80, 'requir': 145, 'signific': 121, 'anur': 28, 'current': 158, 'cardiomediastin': 48, 'infus': 111, 'densiti': 45, 'bili': 47, 'develop': 87, 'versu': 30, 'consult': 99, 'lipas': 16, 'seen': 157, 'bicarbon': 9, 'q': 136, 'clip': 175, 'death': 42, 'view': 119, 'morn': 93, 'tender': 82, 'ij': 79, 'abdomen': 119, 'old': 200, 'azotemia': 6, 'improv': 167, 'termin': 88, 'home': 99, 'abov': 158, 'artic': 2, 'port': 83, 'place': 196, 'albumin': 49, 'recruit': 14, 'apic': 43, 'fall': 42, 'aroudn': 1, 'ast': 48, 'cmh': 51, 'took': 27, 'rapid': 61, 'dr': 150, 'hazi': 30, 'angl': 28, 'cathet': 130, 'propofol': 31, 'placement': 143, 'ul': 64, 'puls': 133, 'dl': 70, 'emot': 68, 'pmh': 78, 'inh': 3, 'murmur': 42, 'process': 94, 'sclera': 23, 'past': 77, 'min': 142, 'ptx': 24, 'refractori': 8, 'urin': 165, 'hpi': 58, '%': 188, 'friend': 32, 'alcohol': 15, 'situat': 29, 'tube': 161, 'pcv': 14, 'complaint': 68, 'examin': 202, 'hco': 15, 'bipap': 43, 'none': 113, 'u': 143, 'pneumothorax': 118, 'insulin': 80, 'empir': 36, 'alt': 53, 'cultur': 100, 'regular': 66, 'plt': 82, 'woman': 83, 'despit': 90, 'nc': 62, 'trend': 68, 'bicarb': 28, 'feel': 52, 'got': 28, 'pedal': 41, 'code': 135, 'boot': 52, 'pco': 36, 'opac': 148, 'radiolog': 68, 'anoth': 58, 'distress': 118, 'rij': 35, 'ro': 63, 'spontan': 91, 'left': 216, 'level': 148, 'around': 76, 'agre': 84, 'seem': 69, 'sat': 167, 'echo': 58, 'pt': 179, 'sepsi': 79, 'known': 85, 'mmhg': 71, 'emphas': 19, 'depress': 51, 'cvl': 42, 'contact': 91, 'blocker': 33, 'inquir': 4, 'promin': 65, \"c'ed\": 12, 'dose': 137, 'physic': 72, 'md': 134, 'respiratori': 166, 'atenolol': 4, 'transfus': 52, 'like': 172, 'e': 64, 'hous': 20, 'lab': 132, 'next': 81, 'major': 40, 'think': 20, 'onli': 153, 'visual': 109, 'epinephrin': 9, 'along': 46, 'abnorm': 102, 'field': 72, 'intervent': 65, 'system': 99, 'arf': 34, 'ga': 70, 'pre': 73, 'vancomycin': 69, 'hold': 90, 'note': 199, 'rr': 150, 'admit': 194, 'check': 116, 'impress': 176, 'bed': 103, 'lymph': 71, 'father': 16, 'pericardi': 61, 'bandemia': 11, 'present': 189, 'multipl': 128, 'failur': 141, 'recent': 129, 'given': 180, 'worsen': 162, 'use': 112, 'evalu': 173, 'grief': 2, 'stress': 66, 'compar': 163, 'cool': 67, 'tiotropium': 1, 'reason': 199, 'fir': 2, 'trop': 16, 'gallop': 7, 'simvastatin': 4, 'resuscit': 44, 'review': 135, 'followup': 38, 'po': 143, 'dx': 29, 'need': 155, 'chest': 206, 'right': 211, 'ill': 73, 'n': 70, 'lead': 83, 'health': 39, 'employ': 7, 'er': 19, 'arrest': 27, 'control': 101, 'park': 4, 'day': 160, 'etiolog': 57, 'hypovolemia': 12, 'new': 160, 'mottl': 15, 'stroke': 14, 'bp': 181, 'rebound': 8, 'superimpos': 56, 'rate': 165, 'ceftriaxon': 24, 'increas': 196, 'ani': 142, 'voltag': 35, 'sinc': 186, 'salmeterol': 1, 'marri': 4, 'thi': 230, 'slide': 50, 'hr': 189, 'rub': 32, 'hypothermia': 13, 'disposit': 64, 'includ': 113, 'autopeep': 6, 'nutrit': 85, 'prior': 186, 'recurr': 33, 'comparison': 166, 'primari': 43, 'jvp': 18, 'would': 127, 'offer': 47, 'wa': 210, 'elig': 3, 'famili': 167, 'mmol': 49, 'mono': 43, 'hi': 121, 'albuterol': 58, 'icu': 108, 'lobe': 142, 'rel': 59, 'key': 61, 'levofloxacin': 40, 'stabl': 177, 'acl': 4, 'ml': 99, 'respiratiori': 1, 'copi': 13, 'hcp': 52, 'though': 89, 'allergi': 82, 'extens': 86, 'differenti': 70, 'infiltr': 112, 'ext': 68, 'hyperinfl': 5, 'neck': 50, 'deliveri': 63, 'x': 185, 'verapamil': 2, 'tobacco': 15, 'warfarin': 5, 'clergi': 16, 'team': 141, 'room': 70, 'mandat': 6, 'pneumonia': 203, 'drip': 79, 'thorac': 49, 'statu': 197, 'spokesperson': 10, 'ecg': 31, 'hypercapnia': 4, 'manual': 14, 'fix': 29, 'map': 90, 'attempt': 119, 'effort': 47, 'atrial': 90, 'methylpr': 5, 'stay': 55, 'cough': 125, 'degre': 47, 'pho': 56, 'fissur': 12, 'jugular': 68, 'renal': 107, 'bs': 138, 'tach': 21, 'dextros': 11, 'ptt': 80, 'earli': 73, 'design': 10, 'ha': 212, 'undetect': 3, 'lvef': 38, 'initi': 132, 'occup': 18, 'gap': 11, 'minut': 91, 'unsuccess': 37, 'tidal': 47, 'recommend': 82, 'mode': 73, 'arriv': 82, 'met': 61, 'bilater': 175, 'homemak': 1, 'head': 114, 'imag': 136, 'mosf': 3, 'k': 116, 'inferior': 37, 'venou': 99, 'deni': 66, 'state': 94, 'critic': 66, 'elder': 1, '#': 211, 'carina': 78, 'rosc': 1, 'one': 117, 'titl': 38, 'subsequ': 50, 'two': 87, 'tip': 126, 'g': 96, 'report': 205, 'jpg': 63, 'ischem': 31, 'ns': 119, 'progress': 166, 'pneumoboot': 25, 'exclud': 72, 'work': 87, 'amylas': 17, 'interim': 26, 'addict': 8, 'pip': 58, 'neut': 43, 'member': 57, 'sputum': 132, 'sw': 33, 'pao': 66, 'long': 58, 'phenylephrin': 16, 'fluticason': 2, 'lung': 203, 'repres': 91, 'presep': 6, 'f': 111, 'portabl': 178, 'privat': 7, 'fio': 119, 'went': 50, 'radiograph': 127, 'wait': 34, 'hour': 154, 'sun': 14, 'admiss': 88, 'logist': 2, 'drug': 55, 'resid': 111, 'contour': 68, 'hypertens': 82, 'calcif': 59, 'intern': 78, 'yo': 75, 'acid': 56, 'etho': 2, 'tf': 110, 'ph': 61, 'line': 183, 'son': 89, 'malign': 32, '<': 77, 'follow': 159, 'post': 131, 'function': 95, 'hl': 5, 'bedsid': 127, 'time': 188, 'hepat': 27, 'notabl': 38, 'independ': 19, 'endotrach': 98, 'husband': 35, 'flowsheet': 113, 'question': 128, 'final': 196, 'medic': 217, 'acidem': 4, 'meq': 92, 'arrang': 21, 'access': 113, 'concern': 114, 'drop': 120, 'aspir': 108, 'central': 107, 'inflammatori': 22, 'could': 111, 'baselin': 86, 'underli': 79, 'immedi': 45, 'intact': 103, 'mid': 138, 'wbc': 131, 'vap': 72, 'gtt': 134, 'glycem': 62, 'sodium': 63, 'hyperlipidemia': 9, 'unemploy': 1, 'also': 175, 'l': 171, 'support': 171, 'sick': 18, 'afternoon': 103, 'last': 148, 'know': 27, '>': 160, 'lower': 166, 'kg': 111, 'previous': 80, 'involv': 85, 'extrem': 141, 'full': 124, 'hemodynam': 111, 'answer': 59, 'femal': 61, 'antibiot': 102, 'sound': 151, 'exceed': 3, 'short': 86, 'band': 44, 'spent': 65, 'statin': 17, 'tmax': 105, 'amount': 132, 'hematoma': 20, 'mix': 30, 'tazo': 9, 'cremat': 3, 'interv': 156, 'physician': 107, 'soft': 154, 'distant': 27, 'unchang': 179, 'disconnect': 2, 'repeat': 107, 'appoint': 7, 'organomegali': 4, 'sbp': 114, 'pupil': 73, 'consist': 152, 'ventilatori': 63, 'record': 46, 'emphysema': 28, 'data': 132, 'blood': 141, 'unabl': 130, 'loss': 52, 'insp': 84, 'sinu': 139, 'demonstr': 88, 'guard': 18, 'agenc': 1, 'limb': 32, 'sulcu': 7, 'well': 180, 'experienc': 17, 'list': 25, ']': 80, 'micu': 131, 'aspirin': 11, 'come': 72, 'expir': 58, 'vasopressin': 27, 'transient': 33, 'without': 143, 'st': 140, 'comment': 93, 'addit': 117, 'cpr': 32, 'upper': 162, 'devic': 94, 'block': 44, 'atropin': 8, 'later': 115, 'chang': 222, 'set': 141, 'studi': 160, 'paralyt': 16, 'copd': 45, 'hospit': 75, 'h': 136, 'ekg': 67, 'anicter': 12, 'rml': 18, 'simultan': 2, 'meal': 10, 'leukocytosi': 37, 'express': 42, 'ratio': 7, 'today': 148, 'monitor': 174, 'normal': 164, 'hct': 122, 'pressor': 87, 'ct': 132, 'show': 131, 'abg': 143, 'clear': 163, 'w': 177, 'non': 170, 'care': 171, 'presum': 40, 'upright': 57, 'anterior': 62, 'pm': 197, 'bradi': 12, 'want': 92, 'c': 177, 'spoke': 86, 'resp': 163, 'ng': 131, 'section': 56, 'chief': 63, 'adjust': 59, 'glucos': 82, 'restrict': 24, 'bowel': 151, 'effus': 183, 'exam': 110, 'infecti': 53, 'clinician': 41, 'arteri': 119, 'coars': 117, 'b': 106, 'small': 184, 'gaug': 57, 'med': 141, 'elev': 122, 'unremark': 66, 'shock': 66, 'proxi': 40, 'ca': 105, 'protocol': 57, 'lifelin': 1, 'decid': 61, 'insert': 61, 'understand': 45, 'pna': 151, 'breath': 162, 'connect': 7, 'cxr': 136, 'nurs': 141, 'et': 95, 'edema': 182, 'pea': 8, 'peripher': 97, 'prepar': 21, 'global': 31, 'aris': 6, 'pleural': 176, 'encourag': 43, 'ap': 175, 'cm': 141, 'mcg': 105, 'inr': 88, 'ulcer': 81, 'hypercapn': 6, 'brother': 29, 'mouth': 82, 'lactat': 47, 'commun': 88, 'cr': 88, 'might': 41, 'absent': 62, 'npo': 121, 'volum': 119, '(': 229, 'amp': 21, 'prophylaxi': 70, 'previou': 172, 'iadl': 1, 'preren': 12, 'detail': 69, 'point': 75, 'poor': 134, 'event': 121, 'arch': 15, 'exchang': 20, 'bolus': 98, 'patient': 205, 'ventil': 129, 'resourc': 3, 'assess': 176, 'appear': 201, 'retrocardiac': 50, 'entir': 36, 'consolid': 110, 'bpm': 102, 'aortic': 68, 'differ': 81, 'receiv': 151, 'hilar': 36, 'phone': 47, 'adl': 9, 'tc': 12, 'laundri': 1, 'dure': 114, 'condit': 206, 'rhythm': 126, 'drain': 144, 'low': 172, 'suffer': 13, 'caucasian': 2, 'ivf': 111, 'norepinephrin': 22, 'unrespons': 78, 'visit': 106, 'clinic': 117, 'add': 51, 'septic': 41, 'ipratropium': 6, 'funer': 16, 'social': 138, 'defer': 39, 'svc': 87, 'gener': 124, 'calcium': 55, 'tachycardia': 94, 'addendum': 98, 'htn': 50, 'continu': 176, 'tcurrent': 61, 'fen': 44, 'heart': 157, 'saw': 64, 'qday': 4, 'p': 193, 'pinpoint': 12, 'unsupport': 1, 'meet': 105, 'anemia': 34, 'tlcvl': 1, 'inhal': 21, 'threat': 2, 'bolu': 108, 'self': 42, 'restraint': 44, 'prn': 116, 'limit': 122, 'shift': 155, 'cc': 156, 'respir': 45, 'spite': 5, 'sed': 23, 'refer': 33, 'afebril': 105, 'accomod': 1, 'reassess': 30, 'poc': 35, 'moder': 161, 'suction': 118, 'done': 111, 'oil': 2, 'agit': 74, 'equal': 41, 'tol': 66, 'cmx': 3, 'site': 79, 'rsccvl': 1, 'nacl': 5, 'sampl': 32, 'ps': 81, 'coccxi': 2, 'nt': 60, 'hand': 62, 'voic': 72, 'antifung': 13, 'gum': 6, 'toler': 128, 'pend': 113, 'gu': 110, 'yellow': 111, 'good': 119, 'vt': 87, 'occasion': 89, 'base': 165, 'exit': 9, 'latest': 34, 'awar': 125, 'maintain': 122, 'art': 29, 'oral': 113, 'mental': 66, 'lot': 16, 'ogt': 71, 'layer': 27, 'tylenol': 66, 'less': 111, 'radial': 94, 'eye': 117, 'patent': 97, 'nontend': 28, 'turn': 98, 'thick': 126, 'stop': 93, 'perform': 96, 'discourag': 4, 'held': 86, 'effect': 131, 'make': 108, 'decis': 96, 'wheezi': 10, 'billiou': 1, 'appli': 83, 'move': 96, 'tx': 72, 'crackl': 86, 'movement': 112, 'discomfort': 59, 'intermitt': 72, 'npn': 76, 'vpace': 4, 'cream': 38, 'made': 180, 'respons': 149, 'size': 143, 'virtual': 4, 'hm': 2, 'lt': 48, 'command': 117, 'alert': 78, 'extub': 74, 'blink': 5, 'forearm': 8, 'reach': 30, 'warm': 77, 'pale': 39, 'close': 83, 'sc': 42, 'buttock': 26, 'open': 98, 'via': 117, 'rsc': 8, 'dnr': 138, 'rest': 85, 'fld': 14, 'btwn': 2, 'waveform': 34, 'stimul': 61, 'doppler': 86, 'sequenti': 2, 'fs': 45, 'pain': 164, 'cmo': 94, 'wnl': 82, 'stage': 53, 'hernia': 19, 'minim': 147, 'sedat': 109, 'ac': 81, 'foley': 142, 'rn': 94, 'arm': 78, 'lubric': 3, 'rla': 2, 'reflex': 33, 'call': 139, 'whole': 8, 'ms': 81, 'sxn': 44, 'morphin': 100, 'doe': 135, 'perrla': 25, 'micro': 24, 'greater': 60, 'labil': 29, 'vent': 103, 'ineffect': 13, 'rsbi': 63, 'hypoact': 70, 'order': 129, 'push': 19, 'cont': 170, 'slough': 5, 'vari': 13, 'scant': 72, 'obes': 32, 'dress': 52, 'contract': 18, 'dark': 43, 'better': 80, 'lo': 43, 'fecal': 16, 'amber': 39, 'comfort': 153, 'breast': 10, 'diminish': 103, 'respond': 111, 'gulteal': 1, 'wash': 14, 'sx': 69, 'atrov': 43, 'pressur': 128, 'wrist': 41, 'psv': 59, 'bacteri': 27, 'updat': 107, 'chng': 1, 'matter': 21, 'flexion': 3, 'allevyn': 8, 'reveal': 64, 'slightli': 131, 'see': 148, 'urinari': 29, 'back': 136, 'feet': 45, 'night': 104, 'bloodi': 50, 'observ': 25, 'occ': 56, 'resolv': 86, 'hemoglobin': 2, 'vanc': 53, 'treat': 105, 'v': 104, 'clean': 36, 'ii': 20, 'ting': 58, 'dim': 36, 'often': 14, 'soap': 7, 'inc': 43, 'heme': 57, 'bleed': 77, 'vs': 106, 'heparin': 77, 'secret': 124, 'perrl': 55, 'coccyx': 61, 'throat': 62, 'notic': 16, 'piv': 61, 'cpap': 63, 'mae': 51, 'sicu': 27, 'drainag': 53, 'veri': 152, 'detect': 32, 'foam': 5, 'suggest': 133, 'posit': 166, 'squeez': 16, 'output': 108, 'mod': 71, 'overnoc': 38, 'nonpurpos': 6, 'due': 169, 'grimac': 39, 'tonoc': 2, 'mdi': 53, 'rang': 76, 'protud': 1, 'copiou': 49, 'abx': 116, 'rec': 75, 'dri': 78, 'drawn': 63, 'vesta': 15, 'touch': 41, 'impair': 47, 'tongu': 13, 'dk': 11, \"'s\": 184, 'minimum': 7, 'frequent': 92, 'sent': 125, 'gag': 45, 'flovent': 7, 'cefepim': 27, 'light': 49, 'administ': 63, 'epiderm': 1, 'episod': 87, 'ooz': 40, 'expriatori': 1, 'dni': 104, 'inplac': 5, 'vers': 68, 'freq': 42, 'temp': 102, 'skin': 153, 'sm': 64, 'gave': 34, 'iv': 179, 'pace': 23, '@': 110, 'gm': 40, 'purpos': 60, 'residu': 83, 'simv': 6, 'cmv': 52, 'sluggish': 21, 'approx': 62, 'aeb': 1, 'sometim': 16, 'advanc': 92, \"'d\": 89, 'abl': 122, 'track': 29, 'carevu': 68, 'reciev': 38, 'palpat': 34, 'bloodcultur': 1, 'remain': 193, 'amt': 126, 'alo': 24, 'adequ': 106, 'sxning': 8, 'pvc': 73, 'expect': 54, 'vss': 32, 'goal': 116, 'duoderm': 30, 'hourli': 26, 'gluteal': 4, 'gi': 145, 'page': 48, 'bm': 86, 'le': 32, 'throughout': 145, 'ectopi': 98, 'rt': 68, 'ls': 113, 'react': 10, 'neuro': 134, 'sore': 18, 'dampen': 14, 'wheez': 83, 'otherwis': 100, 'restless': 42, 'success': 48, 'swith': 2, 'mm': 122, 'exp': 45, 'decreas': 161, 'lll': 64, 'abd': 152, 'riss': 39, 'tlcl': 13, 'alin': 53, 'quadrant': 40, 'overbreath': 38, 'bite': 19, 'conduct': 21, 'em': 11, 'wk': 9, 'yesterday': 99, 'pass': 86, 'trace': 131, 'grand': 5, 'intrins': 7, 'confus': 41, 'historian': 1, 'ago': 44, 'flagyl': 52, 'cap': 24, 'coumadin': 19, 'foleu': 1, 'hurt': 1, 'lopressor': 54, 'precordi': 18, \"''\": 67, 'diff': 53, 'maintan': 1, 'hostil': 1, 'longer': 43, 'ble': 16, 'oxycontin': 3, 'oder': 3, 'occa': 24, 'transit': 44, 'nsr': 75, 'id': 116, 'golden': 13, 'liquid': 60, 'upstair': 1, 'affect': 16, 'cta': 47, 'paranoid': 2, 'sta': 2, 'take': 85, 'neg': 110, '``': 74, 'safeti': 33, 'stand': 42, 'afib': 54, 'overnight': 110, 'nap': 13, 'floor': 64, 'forget': 3, 'margin': 43, 'ra': 68, 'anterolater': 3, 'hyperact': 5, 'away': 28, 'af': 32, 'chronic': 93, 'myocardi': 38, 'slept': 28, 'orient': 78, 'possibl': 165, 'specif': 89, 'late': 33, 'convert': 25, 'dilt': 15, 'hosp': 10, 'flare': 6, 'unclear': 60, 'mushroom': 13, 'twice': 17, 'essenti': 47, 'diffus': 115, 'infarct': 60, 'sip': 20, 'diarrhea': 27, 'drowsi': 4, 'believ': 16, 'gastric': 38, 'avl': 7, 'organ': 59, 'date': 125, 'hepatopathi': 1, 'ultrasound': 50, 'osseou': 43, 'float': 4, 'mastoid': 22, 'supin': 58, 'singl': 108, 'duct': 13, 'obstruct': 80, 'cell': 58, 'hypopharynx': 2, 'tachypnea': 53, 'tissu': 49, 'lft': 27, 'intra': 29, 'focal': 69, 'white': 79, 'intracrani': 27, 'coil': 16, 'antegrad': 2, 'vessel': 34, 'apex': 37, 'side': 145, 'lacunar': 8, 'diagnost': 41, 'hydronephrosi': 24, 'ventricular': 95, 'nuclei': 1, 'overload': 65, 'surround': 29, 'scatter': 47, 'mark': 67, 'microvascular': 7, 'cours': 98, 'gallbladd': 35, 'indic': 183, 'ischemia': 46, 'segment': 37, 'almost': 18, 'axial': 46, 'midlin': 54, 'ball': 3, 'lentiform': 1, 'identifi': 69, 'junction': 68, 'vein': 73, 'chf': 75, 'irregular': 25, 'contrast': 102, 'eval': 127, 'esophagu': 19, 'oxygen': 102, 'thirteen': 2, 'markedli': 26, 'locat': 73, 'ge': 14, 'biliari': 21, 'hemorrhag': 59, 'mayb': 8, 'overal': 100, 'slow': 50, 'associ': 51, 'portal': 20, 'us': 62, 'mild': 132, 'vascular': 117, 'common': 31, 'kidney': 58, 'persist': 117, 'man': 120, 'lesion': 61, 'nonshadow': 1, 'within': 111, 'subcort': 3, 'paranas': 18, 'extra': 24, 'periventricular': 13, 'structur': 66, 'attenu': 12, 'inspir': 7, 'echotextur': 3, 'lethargi': 14, 'complet': 103, 'preserv': 24, 'silhouett': 84, 'slight': 83, 'multifoc': 68, 'sinus': 23, 'foci': 5, 'routin': 20, 'liver': 57, 'fundu': 9, 'rotat': 36, 'gallston': 13, 'overt': 13, 'flow': 108, 'secondari': 79, 'ngt': 69, 'sludg': 5, 'techniqu': 92, 'find': 179, 'patholog': 27, 'invers': 16, 'measur': 128, 'allow': 66, 'pulmonari': 179, 'colon': 41, 'malposit': 10, 'bile': 20, 'contraind': 61, 'cirrhosi': 10, 'atelectasi': 97, 'air': 121, 'ascit': 36, 'proxim': 44, 'path': 4, 'piec': 6, 'green': 37, 'relief': 29, 'labor': 45, 'local': 32, 'nsg': 54, 'request': 90, 'accept': 44, 'uncomfort': 40, 'per': 161, 'risb': 2, 'abdomin': 99, 'ob': 25, 'result': 115, 'ax': 33, 'ho': 53, 'reposit': 70, \"n't\": 38, 'convers': 34, 'wish': 78, 'ativan': 65, 'rectal': 51, 'onc': 87, 'nose': 55, 'rll': 66, 'extend': 60, \"'\": 36, 'mgm': 7, 'deminish': 10, 'brown': 74, 'male': 76, 'vea': 25, 'mso': 46, 'facial': 20, 'chart': 32, '^': 31, 'pmicu': 20, 'transfer': 91, 'gauz': 8, 'firm': 37, 'front': 6, 'tan': 80, 'pnx': 13, 'systol': 99, 'febril': 33, 'sy': 20, 'grade': 35, 'ett': 98, 'whether': 21, 'tickl': 1, 'await': 92, 'reslut': 1, 'airway': 80, 'bring': 13, 'english': 8, 'clariti': 3, 'congest': 78, 'yankauer': 5, 'levoph': 68, 'liquidi': 2, 'wiggl': 6, 'uprbc': 14, 'background': 12, 'littl': 91, 'gd': 10, 'ask': 75, 'feed': 87, 'window': 33, 'modest': 8, 'begin': 59, 'diuresi': 42, 'ad': 62, 'senna': 24, 'fo': 12, 'staff': 47, 'perla': 15, 'fever': 94, 'suppositori': 4, 'cx': 85, 'risen': 1, 'lay': 5, 'rsmall': 1, 'suport': 3, 'darker': 2, 'pleas': 158, 'concentr': 25, 'invas': 69, 'liter': 80, 'mediastin': 83, 'pheripher': 1, 'thorax': 16, 'lasix': 72, 'complex': 26, 'bcx': 13, 'sourc': 62, 'respalo': 1, 'respon': 5, 'hiatal': 9, 'mostli': 31, 'dulcolax': 10, 'bone': 34, 'red': 55, 'titrat': 106, 'outsid': 15, '^^': 11, 'cuff': 52, 'viabl': 3, 'approp': 5, 'verbal': 82, 'loop': 48, 'board': 19, 'tl': 7, 'go': 68, 'fluctuat': 14, 'respalar': 1, 'mrsa': 35, 'obey': 11, 'obviou': 39, 'remin': 3, 'ks': 3, 'therapi': 87, 'withdraw': 68, 'hd': 40, 'dc': 63, 'spasm': 3, 'easili': 44, 'ivb': 9, 'uo': 65, 'option': 36, 'grab': 5, 'ionic': 3, 'degrad': 4, 'cad': 41, 'ray': 54, 'icreas': 1, 'alarm': 28, 'extremit': 8, 'sl': 26, 'letharg': 49, 'palpabl': 33, 'paraesophag': 2, 'somewhat': 53, 'suspici': 28, 'organo': 1, 'amintain': 1, 'mn': 41, 'cathart': 2, 'pulm': 97, 'svt': 24, 'even': 100, 'careview': 34, 'eve': 35, 'thu': 32, 'thru': 14, 'bid': 14, 'max': 69, 'pmd': 1, 'stabil': 29, 'ab': 22, 'spo': 97, 'cancer': 41, 'risk': 62, 'said': 27, 'collaps': 55, 'priest': 27, 'institut': 7, 'heavi': 14, 'toe': 24, 'motion': 58, 'shake': 26, 'calm': 29, 'tv': 58, 'hypotent': 6, 'suct': 18, 'inflat': 9, 'andswer': 1, 'alter': 52, 'togeth': 9, 'biopsi': 15, 'nuero': 7, 'pull': 66, 'obstruc': 1, 'noc': 36, 'gross': 16, 'probabl': 114, 'kick': 5, 'pndg': 3, 'high': 133, 'maximum': 7, 'sine': 1, 'prolong': 38, 'housestaff': 8, 'ing': 10, 'half': 17, 'ther': 3, 'fi': 37, 'senekot': 2, 'patchi': 41, 'airspac': 43, 'narr': 9, 'far': 40, 'tachycard': 47, 'run': 62, 'restart': 75, 'thisk': 1, 'bue': 12, 'fail': 55, 'get': 98, 'came': 51, 'numer': 20, 'mv': 28, 'integ': 18, 'larg': 137, 'although': 95, 'benefit': 36, 'tri': 79, 'metrondiazol': 1, 'pronounc': 64, 'metronidazol': 16, 'obscur': 41, 'rare': 52, 'noo': 1, 'tripl': 31, 'dd': 3, 'spike': 28, 'gather': 5, 'becom': 80, 'unit': 90, 'ealier': 1, 'unrestrain': 8, 'pl': 28, 'restaint': 2, 'earlier': 100, 'subclavian': 51, 'partial': 53, 'object': 62, 'repond': 2, 'rhonchi': 68, 'bronchodil': 14, 'poorli': 33, 'respolar': 2, 'immobl': 3, 'tubefeed': 3, 'precaut': 63, 'area': 117, 'look': 56, 'tire': 18, 'hemolyz': 1, 'siderail': 6, 'lymphadenopathi': 34, 'reduc': 42, 'opacifi': 12, 'pox': 6, 'sediment': 37, 'sd': 5, 'colac': 37, 'opacif': 92, 'peerla': 4, 'pit': 29, 'thrush': 8, 'simpl': 70, 'bow': 3, 'tko': 2, 'awak': 62, 'nd': 51, 'cardio': 15, 'neoplasm': 10, 'lg': 38, 'enlarg': 79, 'cabg': 17, 'prbc': 51, 'integr': 35, 'sleep': 84, 'middl': 32, 'overinfl': 3, 'pneumon': 20, 'leg': 46, 'put': 55, 'pleuracentesi': 1, 'nevertheless': 3, 'optiray': 24, 'noxiou': 28, 'hemodyn': 2, 'givn': 5, 'pearl': 11, 'pocket': 6, 'arous': 60, 'doze': 10, 'bibasilar': 66, 'mechan': 69, 'volvulu': 1, 'vanco': 109, 'color': 97, 'broncial': 2, 'difficult': 119, 'respalor': 2, 'cn': 10, 'stim': 13, 'thought': 39, 'climb': 16, 'inconsist': 15, 'obj': 1, 'diseas': 118, 'reactiv': 47, 'fragil': 7, 'activ': 71, 'necrosi': 7, 'cpa': 2, 'lumen': 74, 'postobstruct': 3, 'nod': 42, 'stimuli': 104, 'sheet': 37, 'whiteish': 1, 'antb': 5, 'kickinga': 1, 'proceedur': 1, 'help': 71, 'toilet': 45, 'visibl': 30, 'regard': 83, 'fair': 32, 'round': 66, 'bronchoscopi': 30, 'gen': 32, 'ah': 3, 'multi': 47, 'rd': 14, 'coronari': 34, 'spont': 27, 'facil': 12, 'necrot': 12, 'anasarca': 31, 'edemat': 27, 'respirtori': 2, 'prognosi': 67, 'purpl': 16, 'uop': 56, 'focu': 47, 'contain': 19, 'unev': 22, 'grim': 6, 'period': 73, 'vsl': 1, 'dead': 22, 'bulki': 2, 'follw': 7, 'bath': 19, 'inconsistantli': 4, 'hypoattenu': 7, 'reccomend': 3, 'bronch': 44, 'space': 48, 'reintub': 19, 'contempl': 1, 'problem': 55, 'breakdown': 46, 'hx': 59, 'incr': 10, 'anesthesia': 29, 'hypoxia': 104, 'sbt': 31, 'pictur': 20, 'complianc': 30, 'term': 43, 'confort': 4, 'aprv': 4, 'overli': 45, 'depth': 4, 'calcifi': 33, 'dramat': 8, 'levo': 67, 'lrge': 1, 'wrote': 7, 'mildli': 76, 'quickli': 45, 'ngtd': 22, 'tear': 34, 'og': 51, 'levoflox': 29, 'satur': 48, 'interact': 22, 'criteria': 18, 'evelv': 1, 'cre': 7, 'bun': 98, 'instabl': 24, 'regimin': 4, 'paramet': 27, 'spon': 11, 'surgic': 44, 'teen': 29, 'nasogastr': 79, 'zone': 30, 'yest': 13, 'mattress': 13, 'fiber': 16, 'talk': 52, 'kq': 2, 'settl': 27, 'lightli': 16, 'incres': 2, 'comlet': 1, 'remai': 2, 'combiv': 13, 'perihilar': 37, 'plug': 43, 'word': 24, 'borderlin': 49, 'mainli': 12, 'therapeut': 36, 'treatment': 90, 'nrb': 46, 'totol': 1, 'pb': 3, 'hard': 23, 'lavag': 30, 'letter': 4, 'hardwar': 6, 'functin': 1, 'crest': 1, 'began': 33, 'pattern': 79, 'mortem': 12, 'befor': 76, 'ensur': 15, 'node': 33, 'vol': 44, 'maew': 4, 'azygo': 4, 'pan': 30, 'shoulder': 19, 'acv': 10, 'pursu': 19, 'contist': 1, 'mad': 4, 'lnc': 14, 'rebolu': 1, '&': 126, 'swell': 22, 'grandson': 6, 'redden': 25, 'cl': 19, 'give': 77, 'bilat': 73, 'face': 59, 'definit': 48, 'tomorrow': 65, 'agreement': 26, 'way': 32, 'sharp': 13, 'strong': 37, 'movment': 3, 'continnu': 2, 'becam': 89, 'na': 39, 'kcl': 40, 'summeri': 1, 'haldol': 21, 'promot': 19, 'lpm': 5, 'tracheostomi': 33, 'ensu': 2, 'alreadi': 27, 'cpt': 34, 'difficulti': 61, 'desat': 66, 'mcq': 15, 'dysynchroni': 34, 'avail': 65, 'mask': 66, 'alveolar': 33, 'beyond': 23, 'ild': 5, 'fibrosi': 20, 'accord': 30, 'bo': 5, 'reportedli': 16, 'excel': 15, 'life': 29, 'rectum': 26, 'paradox': 13, 'let': 19, 'tent': 28, 'yet': 46, 'pap': 18, 'knob': 3, 'constantli': 11, 'centimet': 12, 'everyth': 9, 'antibx': 39, 'decison': 1, 'infil': 1, 'comfirm': 1, 'pink': 49, 'healthi': 5, 'notifi': 87, 'saturday': 10, 'respondibng': 1, 'young': 1, 'divid': 10, 'bye': 6, 'tachypn': 56, 'intens': 5, 'fe': 6, 'bb': 33, 'ectub': 1, 'fb': 18, 'doxycyclin': 2, 'becaus': 42, 'iliac': 10, 'soon': 21, 'vomit': 30, 'trach': 40, 'autoflow': 28, 'narcot': 13, 'interstiti': 59, 'moment': 10, 'satisfactori': 23, 'toliet': 5, 'pulmon': 32, 'wors': 53, 'perl': 27, 'reevalu': 12, 'synch': 8, 'fib': 47, 'coocyx': 1, 'loos': 52, 'substanti': 44, 'decidd': 1, 'quit': 28, 'grandchildren': 2, 'breathsound': 5, 'theraput': 2, 'dispo': 43, 'asystol': 33, 'extent': 39, 'desatur': 58, 'remov': 110, 'three': 35, 'sump': 3, 'nonspecif': 26, 'belli': 8, 'wife': 53, 'shortli': 15, 'steadili': 3, 'lighter': 2, 'plateau': 43, 'tlc': 31, 'aunt': 2, 'xray': 28, 'cdiff': 19, 'muscl': 58, 'lack': 28, 'palp': 15, 'stick': 48, 'deteri': 1, 'reg': 28, 'punctur': 15, 'fruit': 1, 'tolarg': 1, 'watch': 16, 'codein': 8, 'dip': 12, 'quad': 12, 'assum': 10, 'retinopathi': 1, 'fit': 5, 'pu': 2, 'hyponatremia': 6, 'pnd': 27, 'recov': 26, 'frequenc': 13, 'dyspneic': 9, 'els': 8, 'npc': 5, 'bit': 22, 'pneumocysti': 5, 'inflam': 4, 'visitor': 13, 'psi': 6, 'address': 43, 'bacitracin': 1, 'anywher': 4, 'wear': 10, 'trigger': 39, 'reorient': 15, 'lorazepam': 16, 'sob': 79, 'peac': 12, 'sleev': 3, 'spell': 4, 'shallow': 21, 'occassion': 12, 'cannula': 38, 'pag': 3, 'qod': 4, 'accessori': 31, 'wind': 1, 'machin': 13, 'amnt': 2, 'fingerstick': 17, 'lost': 7, 'minor': 8, 'slowli': 52, 'surviv': 11, 'carinii': 2, 'incont': 9, 'humidifi': 12, 'ass': 9, 'unsaf': 3, 'exert': 9, 'hypox': 45, 'incontin': 19, 'chaplain': 5, 'softner': 1, 'oj': 1, 'lat': 11, 'enc': 5, 'children': 24, 'procedur': 99, 'magso': 2, 'name': 30, 'bedpan': 4, 'custard': 3, 'sedimen': 2, 'mgx': 3, 'restr': 2, 'gluc': 5, 'sister': 43, 'axitey': 1, 'nonproduct': 10, 'ss': 31, 'qhr': 5, 'sporad': 2, 'balloon': 14, 'babi': 2, 'spanish': 3, 'whi': 15, 'appetit': 13, 'guid': 28, 'juic': 5, 'leav': 26, 'descis': 1, 'especi': 22, 'deficit': 14, 'occular': 1, 'tenuou': 24, 'picc': 59, 'pcp': 36, 'cover': 72, 'bigger': 2, 'save': 3, 'nrbm': 4, 'overcom': 2, 'doubl': 34, 'ltr': 1, 'moniotr': 4, 'soc': 21, 'exurt': 1, 'send': 38, 'intak': 43, 'mother': 27, 'welfar': 1, 'isol': 16, 'water': 54, 'caus': 63, 'implant': 2, 'antigen': 11, 'anxiou': 53, 'kid': 2, 'financila': 1, 'fa': 8, 'induct': 3, 'ox': 23, 'mucou': 35, 'anxieti': 44, 'membran': 10, 'listen': 5, 'ice': 10, 'assign': 4, 'fro': 7, 'basil': 12, 'eat': 26, 'alseep': 1, 'duski': 10, 'weepi': 2, 'zosyn': 67, 'fungal': 19, 'bay': 1, 'cramp': 1, 'dopa': 7, 'fx': 10, 'diet': 57, 'awaken': 14, 'fine': 24, 'free': 97, 'neb': 70, 'noon': 29, 'poss': 21, 'rail': 3, 'fell': 16, 'draw': 44, 'mani': 40, 'pleurit': 4, 'closer': 4, 'disori': 7, 'obatin': 2, 'felt': 44, 'softli': 24, 'episdo': 1, 'induc': 23, 'cathol': 8, 'sugar': 32, 'througout': 5, 'decr': 6, 'return': 91, 'lnp': 4, 'pn': 6, 'tfr': 1, 'gaurdianship': 1, 'mention': 20, 'antecub': 4, 'azithromycin': 22, 'hover': 5, 'fsb': 18, 'nonprod': 2, 'compr': 1, 'hiflow': 4, 'pr': 49, 'thank': 19, 'asleep': 14, 'much': 83, 'hiv': 5, 'straight': 3, 'stat': 21, 'apart': 5, 'food': 18, 'ppn': 4, 'coverag': 67, 'atrium': 66, 'age': 21, 'tommorrow': 9, 'ect': 5, 'aaox': 2, 'confirm': 83, 'replac': 55, 'specimen': 22, 'stamp': 1, 'fluconazol': 9, 'chip': 5, 'heplock': 6, 'endo': 54, 'confluent': 23, 'nr': 5, 'fm': 15, 'shovel': 10, 'vision': 12, 'void': 21, 'center': 17, 'guaifenesin': 3, 'syrup': 2, 'potenti': 48, 'lunch': 4, 'coliti': 19, 'nasal': 59, 'sync': 7, 'np': 15, 'plu': 13, 'guardian': 6, 'consumpt': 2, 'vtach': 15, 'till': 19, 'graft': 9, 'precis': 4, 'mlc': 2, 'subcutan': 23, 'leaflet': 39, 'anti': 22, 'wall': 84, 'prep': 20, 'fractur': 25, 'transven': 4, 'aloevesta': 2, 'jerk': 4, 'angiograph': 9, 'oett': 15, \"'ll\": 1, 'scrub': 1, 'util': 19, 'cath': 77, 'lyte': 79, 'dsd': 18, 'five': 3, 'soften': 3, 'fairli': 21, 'needl': 13, 'septum': 33, 'project': 53, 'duplex': 10, 'femor': 39, 'sux': 5, 'fluoro': 13, 'plaement': 1, 'bil': 39, 'fulli': 38, 'deterior': 30, 'nutren': 25, 'consent': 39, 'height': 77, 'vena': 25, 'ccu': 13, 'predominantli': 25, 'aerat': 47, 'lidocain': 19, 'dsg': 34, 'patenc': 9, 'xylocain': 1, 'rx': 36, 'sternal': 18, 'dermabond': 1, 'greatli': 8, 'vassopressin': 2, 'anyth': 17, 'conclus': 47, 'quentin': 1, 'hemothorax': 6, 'configur': 8, 'aorta': 65, 'rrt': 16, 'inch': 46, 'pfr': 7, 'coarser': 1, 'switch': 47, 'moistur': 7, 'cvvh': 17, 'qid': 24, 'seriou': 7, 'clot': 41, 'mexiletin': 1, 'spt': 2, 'diminsh': 13, 'ideal': 40, 'toward': 45, 'hemodialysi': 16, 'reappli': 3, 'guidewir': 10, 'ir': 24, 'blade': 2, 'hg': 52, 'everi': 29, 'adapt': 13, 'mexiliten': 1, 'surgigel': 3, 'hemodi': 2, 'interrog': 1, 'number': 30, 'cardiomegali': 48, 'moist': 14, 'fashion': 16, 'percutan': 4, 'ecchymot': 9, 'seal': 17, 'oh': 1, 'opsit': 2, 'thoracentesi': 21, 'sch': 11, 'nite': 2, 'desynchroni': 1, 'barrier': 38, 'necessari': 40, 'incis': 9, 'adaptic': 1, 'sput': 14, 'damp': 4, 'knee': 8, 'th': 19, 'dced': 3, 'interatri': 30, 'cardiolog': 24, 'semi': 40, 'cp': 29, 'multipodu': 8, 'bsa': 32, 'tabl': 14, 'armboard': 1, 'bypass': 7, 'syst': 1, 'tone': 60, 'emerg': 28, 'particip': 14, 'readi': 37, 'cal': 13, 'pericardium': 39, 'alleyvn': 1, 'equivoc': 6, 'pla': 1, 'streak': 10, 'edg': 6, 'flush': 45, 'deliv': 12, 'tannish': 8, 'contin': 12, 'steril': 25, 'pulseless': 6, 'lv': 38, 'compens': 21, 'amiodaron': 22, 'melanot': 1, 'anatomi': 5, 'creation': 1, 'replct': 10, 'crit': 15, 'reseal': 1, 'hypokinesi': 25, '^^wob': 2, 'tortuou': 13, 'temperatur': 28, 'ventricl': 59, 'cava': 25, 'adequato': 1, 'ppi': 49, 'supervis': 12, 'steroid': 42, 'vasopressor': 21, 'wo': 6, 'asymmetr': 24, 'crrt': 11, 'micropunctur': 11, 'resum': 37, 'load': 27, 'kinair': 7, 'hemhroid': 1, 'grossli': 46, 'tell': 11, 'inpati': 43, 'dysfunct': 42, 'blb': 9, 'upon': 57, 'fire': 2, 'either': 36, 'shown': 12, 'belong': 14, 'afeb': 20, 'reduct': 13, 'fibril': 54, 'wide': 35, 'technic': 50, 'prolen': 1, 'supervisig': 1, 'prednison': 22, 'agon': 24, 'lock': 4, 'plct': 10, 'hydrocortison': 11, 'fem': 19, 'creat': 70, 'thicken': 66, 'bacteremia': 10, 'rib': 15, 'ef': 43, 'stuck': 5, 'co': 66, 'dual': 14, 'sheath': 21, 'revis': 9, 'decub': 12, 'chg': 9, 'jerki': 1, 'cleans': 18, 'mitral': 44, 'iintub': 1, 'insomnia': 4, 'peel': 16, 'hrli': 2, 'rxed': 1, 'tele': 18, 'hit': 14, 'documetn': 1, 'thin': 69, 'poe': 10, 'dup': 4, 'cbc': 21, 'fent': 46, 'lascer': 1, 'tunnel': 8, 'weep': 16, 'jeopard': 1, 'inject': 19, 'ar': 28, 'wound': 32, 'pacemak': 15, 'ip': 27, 'pacer': 12, 'chamber': 21, 'complic': 61, 'tape': 21, 'told': 18, 'cvvhd': 14, 'suppport': 6, 'focus': 27, 'lift': 7, 'extext': 3, 'fentanyl': 79, 'leak': 50, 'aquasel': 1, 'superior': 42, 'aicd': 3, 'venopunctur': 2, 'corneal': 18, 'acidot': 23, 'ivp': 56, 'deep': 40, 'screen': 24, 'tte': 46, 'cyu': 6, 'french': 20, 'say': 34, 'secur': 31, 'reject': 1, 'bigemini': 8, 'regurgit': 42, 'usual': 31, 'paper': 6, 'septal': 28, 'guiac': 20, 'lb': 38, 'postion': 4, 'heel': 14, 'tid': 31, 'chge': 1, 'dialysi': 41, 'sero': 3, 'defibril': 10, 'tap': 21, 'sanguin': 6, 'anticip': 21, 'readjust': 6, 'lump': 2, 'midnit': 2, 'gel': 9, 'chged': 1, 'gr': 10, 'fellow': 39, 'guidanc': 19, 'cvvhdf': 6, 'weight': 86, 'suboptim': 28, 'depart': 8, 'rv': 38, 'fluoroscop': 18, 'unchg': 1, 'lido': 2, 'wire': 36, 'bundl': 29, 'citrat': 6, 'wob': 31, 'explain': 46, 'overnit': 3, 'clearer': 12, 'assessment': 1, 'interpret': 59, 'obvious': 6, 'drape': 15, 'quiac': 5, 'dsging': 1, 'hytap': 1, 'sutur': 17, 'toxic': 17, 'rusti': 9, 'valv': 58, 'lessen': 4, 'mortum': 4, 'ica': 6, 'attent': 41, 'pill': 13, 'posterior': 48, 'beat': 46, 'mech': 17, 'direct': 38, 'qualiti': 54, 'radiologist': 17, 'daili': 72, 'branch': 34, 'standard': 78, 'hep': 31, 'neosynephrin': 18, 'restrain': 17, 'entri': 9, 'test': 65, 'absorbs': 1, 'tract': 17, 'accompani': 24, 'axillari': 42, 'aquacel': 6, 'cavoatri': 28, 'pneumo': 13, 'diaphragm': 51, 'passiv': 3, 'distal': 59, 'tpn': 27, 'avpac': 2, 'appreci': 64, 'shut': 28, 'rhonchor': 43, 'spiritu': 4, 'first': 47, 'recheck': 40, 'near': 36, 'umbil': 2, 'drianag': 1, 'requirin': 1, 'lw': 9, 'ion': 3, 'exposur': 8, 'correct': 33, 'drb': 2, 'hypotherm': 19, 'maroon': 8, 'sacrum': 13, 'defib': 2, 'mucousi': 2, 'inciis': 1, 'caludin': 1, 'ear': 60, 'smaller': 23, 'gratitud': 3, 'length': 26, 'rewir': 3, 'palm': 1, 'evel': 2, 'flagli': 1, 'incison': 1, 'vitamin': 14, 'mucoid': 3, 'mulit': 2, 'languag': 14, 'foul': 5, 'digit': 3, 'consid': 99, 'twenti': 4, 'fore': 1, 'bld': 25, 'friendli': 1, 'tpa': 6, 'unequ': 6, 'lingular': 3, 'nectot': 1, 'asp': 27, 'spend': 5, 'purluant': 1, 'msi': 2, 'ue': 21, 'brb': 9, 'cyanot': 14, 'ultrafiltr': 4, 'comress': 1, 'lue': 18, 'bair': 18, 'areaa': 1, 'peri': 15, 'aid': 21, 'woud': 1, 'gelatin': 2, 'ioniz': 34, 'apneic': 12, 'hope': 41, 'coag': 26, 'clacium': 1, 'die': 31, 'lle': 8, 'futur': 27, 'vaselin': 2, 'cpncp': 1, 'vigor': 15, 'step': 21, 'draing': 6, 'placemen': 1, 'elimin': 7, 'battl': 1, 'emesi': 21, 'finger': 44, 'frequet': 1, 'dra': 1, 'stiff': 11, 'surgeri': 45, 'tonight': 45, 'incisin': 1, 'content': 17, 'escar': 1, 'swollen': 14, 'quinton': 3, 'cooler': 4, 'brought': 32, 'dopp': 4, 'gromac': 1, 'rise': 50, 'perfus': 24, 'wd': 3, 'fri': 24, 'hugger': 20, 'exhaust': 4, 'levof': 7, 'nearli': 10, 'sad': 5, 'glucon': 13, 'suit': 6, 'aggreement': 1, 'sacral': 10, 'uffp': 4, 'purul': 9, 'follwo': 2, 'rom': 10, 'quintin': 2, 'nml': 5, 'briefli': 35, 'kvo': 22, 'protonix': 38, 'bodi': 79, 'assit': 2, 'trust': 2, 'scrotum': 6, 'linear': 11, 'lengthi': 5, 'describ': 38, 'manitain': 2, 'briskli': 7, 'secreat': 24, 'fingertip': 2, 'fighter': 2, 'yankaur': 7, 'scrotal': 4, 'forehead': 4, 'estrem': 1, 'levoquin': 13, 'wed': 28, 'accesori': 2, 'butt': 2, 'sec': 24, 'irrig': 15, 'hypo': 22, 'refil': 6, 'mtg': 27, 'gib': 11, 'serou': 26, 'ctic': 1, 'patch': 28, 'fear': 8, 'bare': 7, 'bg': 15, 'cagluc': 4, 'pac': 35, 'schedul': 36, 'pick': 17, 'glu': 8, 'tremor': 9, 'pleth': 5, 'jp': 4, 'di': 5, 'bagdsd': 1, 'etc': 32, 'accur': 15, 'bilou': 3, 'wt': 7, 'meticul': 2, 'cloudi': 28, 'bright': 12, 'separ': 5, 'licw': 2, 'gentli': 7, 'av': 17, 'end': 90, 'fasia': 1, 'minior': 2, 'larger': 30, 'scan': 57, 'mulitpl': 3, 'tmap': 1, 'collect': 43, 'vnet': 1, 'occl': 1, 'blue': 12, 'slogh': 1, 'preop': 1, 'bulb': 2, 'portugues': 1, 'delin': 4, 'br': 3, 'ethic': 8, 'least': 44, 'convict': 1, 'upc': 1, 'black': 11, 'dm': 23, 'among': 6, 'scl': 4, 'best': 29, 'administr': 37, 'import': 9, 'esrd': 14, 'rue': 13, 'plane': 7, 'multisystem': 5, 'hungri': 7, 'grayish': 3, 'filter': 13, 'rle': 5, 'occur': 34, 'lengthli': 1, 'gastrectomi': 1, 'intrus': 1, 'adb': 1, 'miss': 4, 'infrequ': 12, 'hesit': 3, 'ffp': 24, 'bilingu': 1, 'pitressin': 7, 'fluc': 2, 'gase': 11, 'heat': 2, 'determin': 43, 'relax': 11, 'wherea': 2, 'ie': 7, 'translat': 10, 'apnea': 21, 'towel': 4, 'rlle': 1, 'weekend': 21, 'clamp': 24, 'heal': 18, 'tm': 12, 'neurolog': 63, 'declin': 66, 'pray': 6, 'fight': 3, 'kept': 38, 'realiti': 2, 'lc': 9, 'great': 28, 'unless': 12, 'dtr': 28, 'qd': 22, 'sao': 25, 'pager': 10, 'levofloxicin': 1, 'reconcil': 1, 'dicat': 1, 'chanc': 7, 'compromis': 25, 'desir': 23, 'stapl': 4, 'brownish': 11, 'attitud': 1, 'wonder': 3, 'sctotum': 1, 'biliou': 25, 'bactrim': 18, 'resist': 28, 'prev': 8, '}': 64, 'ach': 2, 'fuild': 1, 'polymorph': 3, 'rhochi': 1, 'foot': 17, 'uf': 35, 'portex': 6, 'station': 3, 'antidepress': 3, 'throught': 3, 'ok': 37, 'hs': 11, 'vbg': 12, 'frame': 4, 'broncheal': 1, 'neo': 37, 'gradual': 21, 'mbp': 2, 'alb': 25, 'syring': 8, 'freeli': 3, 'waen': 1, 'calibr': 3, 'coffe': 12, 'fewer': 4, 'reincert': 1, 'stare': 3, 'minit': 1, 'upset': 14, 'depend': 55, 'acidod': 2, 'heperin': 2, 'prone': 6, 'perianl': 1, 'nonsustain': 1, 'pharm': 2, 'delay': 32, 'glargen': 2, 'environ': 11, 'surpris': 2, 'finish': 11, 'aprox': 1, 'diamet': 28, 'cri': 16, 'perin': 3, 'expiratori': 20, 'oob': 18, 'colleg': 1, 'greenish': 11, 'yel': 1, 'tgd': 1, 'renmain': 1, 'rehab': 39, 'drink': 10, 'adminsit': 1, 'absorbt': 2, 'ventolin': 2, 'noiw': 1, 'stale': 1, 'unlik': 35, 'reasobali': 1, 'nervous': 1, 'grip': 5, 'trachesotomi': 1, 'clock': 4, 'someth': 8, 'dialyisi': 1, 'poitiv': 1, 'easi': 5, 'derm': 7, 'valu': 36, 'oincreas': 1, 'ssri': 10, 'gauard': 1, 'profoundli': 3, 'thing': 15, 'enjoy': 4, 'distract': 1, 'expans': 50, 'roommat': 1, 'hip': 20, 'eas': 11, 'gtube': 3, 'ileu': 21, 'hy': 1, 'nnpn': 1, 'nepro': 6, 'morgu': 17, 'hemo': 2, \"tf'ing\": 9, 'periph': 4, 'msicu': 1, 'fromn': 2, 'hydrat': 23, 'label': 1, 'visabl': 1, 'huge': 5, 'drive': 16, 'asymthomat': 1, 'empti': 6, 'spec': 31, 'triadyn': 7, 'resolut': 29, 'parti': 1, 'stau': 5, 'initit': 2, 'concernsa': 1, 'erythro': 3, 'fianrd': 1, 'mf': 2, 'atc': 11, 'week': 49, 'gt': 7, 'mst': 1, 'hypoglycem': 2, 'reliev': 17, 'rigid': 7, 'ked': 1, 'duederm': 1, 'si': 5, 'peak': 28, 'reaction': 40, 'yl': 1, 'admin': 13, 'flat': 32, 'alot': 7, 'afterward': 8, 'stoma': 5, 'epo': 1, 'infact': 2, 'sxtn': 3, 'nahco': 6, 'protein': 30, 'oint': 2, 'repeatedli': 9, 'match': 7, 'slint': 1, 'door': 3, 'phenergan': 1, 'ssi': 30, 'vue': 6, 'tachi': 31, 'ayt': 1, 'prisma': 1, 'cipro': 19, 'chunki': 2, 'fan': 1, 'mean': 18, 'emycin': 2, 'sid': 1, 'reflect': 49, 'rehydr': 2, 'pp': 24, 'rhoncher': 9, 'hig': 3, 'highli': 8, 'nausea': 28, 'snd': 9, 'bout': 4, 'symptomat': 6, 'douderm': 4, 'settin': 1, 'gnd': 2, 'bottom': 4, 'sxing': 15, 'gain': 7, 'multip': 1, 'transport': 48, 'blanket': 17, 'titer': 2, 'achi': 1, 'multipod': 1, 'decubitu': 15, 'seret': 1, 'mucomyst': 8, 'heard': 21, 'reddish': 1, 'somul': 4, 'town': 7, 'pleasant': 14, 'mentat': 5, 'kub': 19, 'caution': 3, 'sours': 2, 'gabapentin': 2, 'messag': 7, 'trail': 5, 'break': 20, 'atro': 7, 'withdrawn': 20, 'tight': 13, 'asynchron': 3, '{': 64, 'happi': 7, 'perineum': 9, 'rhonchial': 2, 'sure': 16, 'stumul': 1, 'carevi': 1, 'recal': 3, 'luck': 2, 'graviti': 16, 'avoid': 31, 'glug': 1, 'clearanc': 7, 'rrectal': 1, 'hhad': 1, 'pigtail': 9, 'tirtat': 1, 'loc': 8, 'granula': 1, 'uppr': 1, 'ashen': 4, 'intermit': 9, 'fifteen': 1, 'survail': 1, 'player': 1, 'prob': 8, 'nbp': 36, 'saddl': 1, 'shop': 1, 'glargin': 5, 'rul': 49, 'disscuss': 1, 'target': 10, 'disturb': 4, 'herniat': 2, 'quiet': 33, 'discharg': 32, 'aggit': 12, 'absorb': 8, 'never': 14, 'cd': 17, 'part': 40, 'nois': 4, 'excori': 11, 'flsd': 1, 'compress': 52, 'dialyz': 6, 'escal': 30, 'bairhugg': 6, 'surfac': 7, 'peg': 31, 'chane': 3, 'minimali': 2, 'properli': 11, 'uq': 1, 'woken': 4, 'dvd': 1, 'true': 8, 'dyspnea': 53, 'pk': 3, 'relat': 81, 'salin': 20, 'erythromycin': 6, 'discoordin': 8, 'jitteri': 2, 'cope': 25, 'weaker': 5, 'item': 3, 'mvr': 2, 'asymptomat': 8, 'perlla': 1, 'prayer': 8, \"'ve\": 2, 'significantli': 58, 'advers': 12, 'mr': 68, 'inccreas': 1, 'anniversari': 1, 'write': 15, 'tend': 12, 'warmer': 4, 'pseudomona': 11, 'butr': 1, 'drift': 13, 'blding': 1, 'pretti': 4, 'decent': 3, 'unsuccessful': 2, 'tast': 1, 'acknowledg': 10, 'mobil': 10, 'seizur': 23, 'inlin': 1, 'bedrest': 4, 'flatu': 17, 'happen': 9, 'asssess': 1, 'skew': 1, 'lavarg': 3, 'bronc': 2, 'quo': 2, 'antibodi': 8, 'appar': 47, 'main': 45, 'discolor': 4, 'consi': 1, 'dorsali': 9, 'refus': 32, 'coupl': 23, 'mouht': 1, 'ced': 11, 'li': 9, 'blanchabl': 2, 'dp': 72, 'iii': 13, 'walk': 9, 'tarri': 2, 'integumentari': 13, 'promod': 5, 'hem': 8, 'canula': 6, 'realli': 11, 'primarili': 18, 'sp': 17, 'clearli': 30, 'pleasur': 2, 'photo': 1, 'brief': 27, 'corrul': 1, 'aim': 13, 'redraw': 5, 'compliant': 7, 'shape': 7, 'req': 18, 'unsustain': 2, 'motil': 13, 'bond': 3, 'endocrin': 21, 'zofran': 9, 'pic': 16, 'atool': 1, 'troubl': 7, 'dilaudid': 9, 'auscult': 33, 'facilit': 14, 'secrtion': 1, 'caregiv': 3, 'norepi': 7, 'peroxid': 1, 'enough': 24, 'net': 16, 'autopsi': 37, 'comput': 3, 'nss': 5, 'remav': 1, 'reassur': 23, 'lethgar': 1, 'hob': 49, 'ten': 3, 'pul': 11, 'paco': 12, 'nkda': 11, 'coumidin': 1, 'cooper': 26, 'written': 31, 'beinfit': 1, 'inner': 10, 'appropriatli': 7, 'lie': 24, 'ambu': 15, 'drsg': 11, 'begun': 8, 'hydrogen': 1, 'stem': 11, 'soda': 1, 'worker': 22, 'suc': 1, 'accuraci': 3, 'stimulu': 13, 'zero': 14, 'crx': 2, 'resent': 4, 'mucu': 22, 'oth': 2, 'awok': 3, 'peroid': 1, 'lsc': 8, 'pad': 23, 'sq': 44, 'challang': 1, 'ope': 2, 'dialysis': 2, 'bruis': 18, 'lantu': 4, 'sucion': 1, 'pa': 51, 'subsid': 3, 'beir': 1, 'valuabl': 21, 'render': 3, 'gentleman': 6, 'stpo': 1, 'perk': 2, 'memori': 6, 'sprint': 1, 'modul': 1, 'card': 42, 'neutrapho': 5, 'couplet': 3, 'session': 3, 'ongo': 30, 'pvd': 14, 'bc': 20, 'liq': 15, 'midodrin': 3, 'except': 94, 'brisk': 35, 'receic': 1, 'subtherapeut': 4, 'reserv': 12, 'chair': 17, 'account': 9, 'audibl': 25, 'nwith': 1, 'discard': 4, 'shook': 2, 'shoot': 1, 'rabbi': 6, 'ivpb': 2, 'sentenc': 7, 'grin': 1, 'meanwhil': 1, 'infreq': 2, 'intercanula': 1, 'escap': 1, 'endoc': 11, 'eccymoisi': 1, 'abc': 2, 'build': 2, 'oncpap': 1, 'taut': 1, 'type': 62, 'dialys': 2, 'catch': 1, 'pgt': 3, 'superfici': 18, 'marroon': 1, 'strength': 19, 'ran': 5, 'increaseda': 1, 'bank': 15, \"'m\": 4, 'atr': 9, 'reglan': 18, 'trial': 45, 'circuit': 7, 'torso': 25, 'balnac': 1, 'tue': 28, 'thigh': 10, 'freg': 2, 'duodersm': 1, 'higher': 41, 'puff': 2, 'pseudamona': 1, 'correl': 59, 'sml': 13, 'vioxx': 1, 'addendeum': 1, 'nickel': 1, 'ic': 2, 'chem': 9, 'exercis': 10, 'sleepi': 6, 'dializ': 2, 'bradycard': 16, 'bx': 10, 'rpt': 6, 'indigest': 1, 'taper': 19, 'bronchospast': 3, 'rebreath': 14, \"'finish\": 1, 'diltiazem': 16, 'hunger': 8, 'faint': 8, 'diures': 39, 'icecream': 2, 'burst': 16, 'spoken': 10, 'sato': 2, 'nippv': 12, 'chemotherapi': 10, 'commenc': 6, 'rediscuss': 5, 'cistern': 8, 'suppress': 6, 'diaphoret': 28, 'coagul': 5, 'errat': 5, 'nonoper': 1, 'carotid': 17, 'jaw': 5, 'tot': 1, 'deveolp': 1, 'sudden': 11, 'spread': 12, 'metastasi': 4, 'adm': 23, 'dest': 1, 'meant': 1, 'therefor': 36, 'quick': 4, 'nad': 21, 'metastas': 10, '^bp': 2, 'expector': 17, 'edt': 3, 'sponten': 1, 'breat': 2, 'tighten': 7, 'clr': 10, 'newli': 32, 'carcinoma': 18, 'enhanc': 16, 'fidgiti': 1, 'unexplain': 4, 'nodul': 22, 'unstabl': 30, 'os': 7, 'bronchospasm': 6, 'medicin': 12, 'beforehand': 1, 'tsicu': 3, 'pet': 6, 'nil': 1, 'supress': 2, 'ew': 16, 'oncolog': 15, 'nrm': 1, 'niv': 12, 'labia': 2, 'monday': 21, '^rr': 4, 'preliminari': 16, 'dnrdni': 1, 'guifenasin': 1, 'squamou': 7, 'solumedrol': 19, 'mlph': 1, '^hr': 2, 'yea': 1, 'ectop': 6, 'diagnos': 15, 'sulci': 16, 'tacypn': 4, 'irrit': 9, 'rythm': 5, 'prelim': 13, 'demand': 21, 'brain': 27, 'rash': 42, 'onset': 14, 'squamo': 1, 'sit': 29, 'gc': 3, 'mind': 7, 'raf': 4, 'yr': 34, 'basilar': 33, 'sulphat': 1, 'rather': 26, 'exact': 5, 'pericholecyst': 11, 'anaerob': 11, 'hung': 10, 'synthroid': 6, 'conntact': 1, 'insuffici': 19, 'dept': 3, 'ductal': 6, 'precipit': 6, 'succinylcholin': 1, 'mgso': 3, 'vit': 14, 'insuff': 2, 'advis': 13, 'unusu': 12, 'decres': 4, 'parkinson': 8, 'psoriasi': 1, 'musculoskelet': 26, 'incomprehens': 7, 'gnr': 17, 'deaf': 2, 'cortisol': 10, 'polici': 6, 'chapl': 1, 'hypothroid': 1, 'flex': 8, 'curtail': 1, 'bph': 5, 'fhp': 12, 'neurolept': 1, 'gram': 43, 'incontincn': 1, 'devedlop': 1, 'mb': 10, 'brather': 1, 'sinimet': 1, 'fluoroscopi': 8, 'etomid': 4, 'adren': 41, 'trachea': 20, 'ocd': 1, 'stiffneck': 1, 'signif': 2, 'third': 17, 'rcd': 1, 'levaquin': 20, 'reinsert': 6, 'fact': 12, 'frontal': 40, 'cpk': 9, 'cholecyst': 22, 'vanoc': 1, 'groin': 24, 'rbc': 12, 'cycl': 14, 'dementia': 23, 'constip': 21, 'tegretol': 1, 'pneumnia': 1, 'crystal': 2, 'dopamin': 15, 'mul': 2, 'extrahepat': 2, 'regim': 14, 'uti': 33, 'hemidiaphragm': 19, 'pmhx': 9, 'breah': 1, 'parenchym': 62, 'supplement': 33, 'rale': 33, 'ceftaz': 8, 'intermittenli': 2, 'pancrea': 37, 'additin': 1, 'djd': 1, 'bbb': 3, 'la': 28, 'biacarb': 1, 'kayexly': 1, 'caviti': 51, 'estim': 32, 'lcl': 1, 'tricuspid': 38, 'acceler': 4, 'bin': 1, 'eject': 8, 'fascicular': 12, 'crea': 2, 'rais': 40, 'trivial': 18, 'deviat': 23, 'qr': 27, 'unavail': 2, 'jaundic': 19, 'abp': 34, 'fraction': 9, 'prematur': 30, 'chorda': 11, 'eventu': 23, 'epix': 1, 'pack': 10, 'pressort': 1, 'akinesi': 2, 'four': 16, 'physiolog': 38, 'situt': 1, 'axi': 37, 'rerrl': 1, 'stenosi': 42, 'root': 20, 'hyperkalemia': 11, 'wrap': 6, 'unfortun': 7, 'intiat': 7, 'multilobar': 7, 'blind': 3, 'impend': 7, 'silverdin': 1, 'film': 48, 'laryng': 5, 'atn': 23, 'qtt': 6, 'potassium': 53, 'ointment': 13, 'intit': 2, 'blister': 16, 'nondistend': 15, 'cordi': 4, 'accurr': 1, 'anfio': 1, 'thereaft': 6, 'brachycephal': 1, 'discov': 3, 'pcn': 9, 'hyperkalcemia': 1, 'froom': 1, 'resusit': 4, 'pnding': 8, 'hypoperfus': 7, 'locul': 22, 'deceas': 3, 'angio': 7, 'fhpa': 2, 'sb': 22, 'daddi': 1, 'incid': 26, 'signic': 2, 'mist': 12, 'nutriton': 1, 'heartrat': 1, 'desicion': 1, 'formal': 9, 'agig': 1, 'unreact': 2, 'moan': 21, 'anbx': 5, 'educ': 5, 'mutipl': 4, 'extremti': 1, 'progonisi': 1, 'extrim': 4, 'physcian': 2, 'goodresult': 1, 'lip': 33, 'cantones': 6, 'bloat': 2, 'psychosoci': 9, 'palli': 34, 'fentanul': 1, 'signfic': 4, 'knopff': 1, 'mlq': 1, 'tacycard': 3, 'dad': 3, 'spontani': 1, 'progr': 1, 'respect': 20, 'trough': 24, 'fentnyl': 1, 'mimini': 1, 'hygien': 8, 'scopolamin': 7, 'plam': 1, 'stain': 31, 'serosang': 13, 'phase': 13, 'diastol': 37, 'extubatin': 1, 'eipsod': 1, 'srr': 7, 'unreliev': 2, 'extrasystol': 1, 'tracheobronch': 2, 'tachypniec': 2, 'presenc': 27, 'extremeti': 19, 'tegram': 1, 'respelor': 1, 'artifici': 5, 'flap': 2, 'extrmiti': 1, 'contol': 1, 'exist': 38, 'faamili': 1, 'puulent': 1, 'supp': 11, 'downt': 2, 'suspect': 38, 'hub': 1, 'ascend': 28, 'lacer': 4, 'prefer': 9, 'strip': 4, 'tegaderm': 3, 'steri': 2, 'ua': 33, 'instruct': 10, 'supraventricular': 11, 'neglig': 2, 'tachcard': 1, 'quantifi': 4, 'tachypneac': 2, 'nonadh': 1, 'overlay': 3, 'extermit': 2, 'apc': 4, 'exipr': 1, 'compon': 47, 'ccb': 1, 'ot': 8, 'achiv': 1, 'fliud': 5, 'conver': 1, 'readdress': 21, 'mat': 1, '^wob': 2, 'ota': 3, 'echocardiograph': 16, 'calf': 11, 'plea': 2, 'dysfnc': 1, 'variabl': 17, 'guag': 2, 'sangaiou': 1, 'durng': 1, 'eitolog': 1, 'sorder': 1, 'kneecap': 1, 'restin': 1, 'acc': 3, 'aflutt': 10, 'pat': 3, 'frustrat': 6, 'mag': 13, 'dehydr': 7, 'symptom': 31, 'gone': 14, 'ozz': 3, 'kling': 1, 'gs': 8, 'tamponad': 12, 'exud': 6, 'nebul': 9, 'repeaet': 1, 'exxtrmiti': 1, 'zinc': 1, 'eccymot': 7, 'pff': 1, 'rtc': 4, 'circul': 8, 'smear': 18, 'nare': 14, 'recogn': 9, 'reappil': 1, 'transpar': 6, 'cordu': 1, 'prog': 2, 'sensit': 26, 'combin': 34, 'bronchial': 39, 'cortu': 1, 'rca': 4, 'inotropi': 1, 'cefempin': 1, 'reciv': 4, 'comcomit': 1, 'inferiorli': 9, 'contamint': 1, 'inclus': 3, 'posteriorli': 11, 'nonverb': 7, 'throughtout': 1, 'bt': 5, 'bss': 1, 'indwel': 23, 'pedi': 11, 'psych': 7, 'venodyn': 7, 'lcyu': 1, 'stabliz': 3, 'staph': 9, 'avhb': 1, 'mumbl': 8, 'sulfat': 33, 'somewat': 1, 'higest': 1, 'undigest': 2, 'yankeur': 4, 'xr': 1, 'gurgl': 7, 'teeth': 38, 'thruought': 1, 'border': 12, 'hypozia': 1, 'pcxr': 4, 'benzo': 6, \"o'\": 1, 'niddm': 1, 'indistinct': 8, 'morpholog': 12, 'nstemi': 11, 'addedum': 1, 'crisi': 3, 'nsvt': 4, 'swallow': 39, 'coras': 2, 'pharynx': 6, 'odor': 4, 'clog': 4, 'lobar': 12, 'cocci': 10, 'regularli': 7, 'accu': 1, 'trigem': 1, 'verifi': 16, 'bliater': 1, 'slur': 2, 'sustain': 16, 'lodg': 1, 'pump': 7, 'podi': 2, 'comb': 5, 'cefepin': 2, 'inquier': 1, 'parenchyma': 23, 'dobut': 2, 'avbl': 1, 'splint': 1, 'complain': 10, 'purlpl': 1, 'dopper': 1, 'speech': 31, 'regimen': 55, 'rule': 40, 'recevi': 1, 'unlabor': 12, 'hh': 2, 'imv': 5, 'airmatress': 1, 'recalibr': 3, 'ck': 51, 'toss': 1, 'defect': 29, 'scd': 5, 'metoprolol': 28, 'particularli': 25, 'addtion': 2, 'incontinec': 1, 'judgement': 3, 'troponin': 55, 'worseni': 1, 'expel': 2, 'diruesi': 2, 'avb': 3, 'enzm': 1, 'cut': 14, 'bigem': 1, 'transpat': 1, 'ltyellow': 1, 'bandag': 4, 'rhonci': 8, 'cardiogen': 19, 'intregr': 1, 'mi': 24, 'haze': 3, 'palab': 1, 'waffl': 7, 'ultrac': 3, 'lrg': 5, 'anytmim': 1, 'proph': 4, 'garbl': 7, 'rxn': 6, 'intraventricular': 13, 'whisper': 1, 'captorpil': 1, 'nephew': 10, 'discontinu': 34, 'intermittantli': 2, 'dss': 1, 'egt': 1, 'bigemeni': 1, 'pgi': 3, 'nail': 8, 'dev': 2, 'aurea': 1, 'anuria': 7, 'bl': 13, 'trigemini': 1, 'frothi': 8, 'ecchymosi': 9, 'introduc': 7, 'zaroxolyn': 1, 'appil': 1, 'underneath': 6, 'variou': 8, 'mordem': 1, 'broader': 3, 'real': 7, 'tegraderm': 1, 'contamin': 9, 'senior': 4, \"am'\": 1, 'wihtout': 1, 'serax': 1, 'occas': 9, 'triplet': 2, 'diuresis': 2, 'retain': 11, 'inconsistenli': 1, 'tha': 3, 'stent': 24, 'dobutamin': 12, 'alon': 14, 'lss': 1, 'oropharynx': 10, 'nph': 9, 'uncontrol': 4, 'captopril': 3, 'thruout': 3, 'resecur': 1, 'collector': 1, 'rh': 3, 'sitter': 4, 'pci': 2, 'junki': 6, 'perivascular': 1, 'pleuroparenchym': 1, 'midnight': 32, 'rod': 14, 'defin': 15, 'ft': 8, 'curv': 23, 'pulsu': 1, 'okay': 12, 'trun': 1, 'bronchou': 1, 'freind': 1, 'incident': 10, 'cot': 2, 'axox': 1, 'bronchu': 15, 'adquat': 2, 'pericadi': 1, 'rhonchoru': 7, 'instil': 7, 'trip': 4, \"dc'ed\": 2, 'ud': 1, 'evolv': 18, 'tumor': 18, 'mainten': 8, 'count': 36, 'penumopericardium': 1, 'wet': 62, 'ds': 6, 'dcd': 6, 'document': 33, 'init': 8, 'pe': 48, 'unsur': 6, 'unprod': 1, 'vaxcel': 1, 'platelet': 20, 'platlet': 6, 'oxycodon': 9, 'mx': 1, 'cent': 3, 'spirit': 1, 'travel': 8, 'placment': 9, 'hrt': 4, 'lul': 43, 'doctor': 12, 'cari': 1, 'sensori': 3, 'oncologist': 12, 'multilumen': 3, 'resposit': 3, 'tenou': 2, 'dysneic': 1, 'reiter': 3, 'stabilz': 2, 'successful': 2, 'solut': 1, 'workload': 1, 'shth': 1, 'strenght': 1, 'cardiologist': 4, 'adenosin': 4, 'ep': 7, 'tfb': 4, 'norm': 2, 'prophylact': 3, 'fr': 13, 'int': 3, 'amiodoron': 4, 'ivab': 6, 'capac': 9, 'teari': 2, 'trim': 2, 'til': 4, 'hyrocortison': 1, 'serosanq': 1, 'immobil': 2, 'partner': 5, 'cavo': 2, 'enviro': 1, 'hospic': 24, 'nonlas': 1, 'increasingli': 35, 'cbi': 4, \"^'ingli\": 1, \"^'ing\": 1, 'skinfold': 1, 'conjunct': 11, 'nectar': 6, 'decompens': 27, 'discus': 1, 'mistaken': 1, 'granddaught': 6, 'dopoff': 1, 'video': 8, 'amplitud': 3, 'urethra': 2, 'pateint': 2, 'dobhoff': 6, 'condom': 2, 'honey': 2, 'asa': 32, 'rrespons': 1, 'doboff': 5, 'undergo': 19, 'trauma': 10, 'prompt': 4, 'oropharyng': 16, 'faster': 13, 'frank': 11, 'produc': 20, 'telephon': 24, 'inncont': 1, 'russian': 7, 'wax': 6, 'pure': 10, 'aerosol': 20, 'retract': 11, 'aspect': 21, 'slower': 14, 'dictat': 18, 'pud': 6, 'dislodg': 6, 'discusst': 1, 'quadrent': 6, 'teaspoon': 1, 'decomp': 1, 'ex': 8, 'cardiovascular': 57, 'engorg': 21, 'anticoagul': 28, 'beta': 23, 'medial': 13, 'decompenst': 1, 'abort': 4, 'hepatoren': 3, 'acidosid': 1, 'ident': 3, 'baracat': 2, 'scv': 2, 'toxin': 8, 'mdct': 26, 'cyst': 26, 'transcathet': 1, 'downward': 15, 'grasp': 2, 'fsbg': 9, '^lft': 1, 'unknown': 44, 'prostat': 15, 'meropenem': 25, 'cateth': 1, 'ppp': 9, 'neutropen': 4, 'influenc': 4, 'sup': 2, 'stride': 1, 'intrahepat': 4, 'explan': 13, 'encephalopathi': 14, 'ltf': 1, 'serviceclip': 2, 'ptcont': 1, 'nst': 2, 'core': 7, 'reformat': 19, 'acyclovir': 5, 'tr': 32, 'humulog': 1, 'gancylovir': 1, 'pheresi': 3, 'pelvi': 42, 'approach': 24, 'grow': 16, 'cobra': 2, 'urisodil': 1, 'periport': 1, 'urisodiol': 1, 'correspond': 9, 'lij': 12, 'actual': 13, 'flicker': 1, 'pursestr': 1, 'aass': 1, 'cue': 8, 'sorb': 4, 'evidenc': 6, 'participatori': 1, 'cellcept': 3, 'deoderm': 1, 'rrad': 1, 'basic': 7, 'regul': 6, 'peripancreat': 2, 'similar': 58, 'ground': 32, 'folow': 3, 'inflamm': 10, 'cecum': 4, 'bear': 9, 'rtrad': 2, 'natur': 17, 'weeep': 1, 'transaminas': 4, 'amplatz': 2, 'flumazenil': 2, 'surgicel': 4, 'achiev': 19, 'sxned': 8, 'soak': 5, 'hyper': 3, 'recoveri': 21, 'glidewir': 5, 'upward': 11, 'flumazin': 1, 'meropenum': 9, 'cook': 2, 'pel': 7, 'overnt': 1, 'ganciclovir': 1, 'surgifoam': 2, 'store': 2, 'behind': 4, 'amio': 13, 'cholestasi': 2, 'transjugular': 2, 'tini': 10, 'gvhd': 3, 'bladder': 53, 'sxt': 2, 'ruq': 12, 'maneuv': 12, 'dop': 6, 'presser': 2, 'calicif': 1, 'semin': 3, 'agent': 14, 'nephrolog': 4, 'wake': 41, 'alway': 9, 'noth': 18, 'careweb': 2, 'plasmaphoresi': 1, 'marrow': 4, 'easier': 4, 'inlet': 22, 'phersi': 1, 'rescu': 2, 'constant': 11, 'lactolos': 1, 'caudat': 2, 'minmal': 2, 'anyway': 4, 'info': 17, 'typhliti': 1, 'refe': 3, 'pneumocac': 1, 'distinct': 15, 'intraservic': 3, 'preprocedur': 8, 'granulomat': 4, 'subcentimet': 5, 'rifaximin': 3, 'acquir': 37, 'mult': 17, 'calib': 18, 'psup': 3, 'obstacl': 1, 'sclerot': 14, 'weap': 4, 'hyptens': 2, 'retroperitoneum': 1, 'fucntion': 1, 'lvot': 23, 'paus': 5, 'lytic': 19, 'symphysi': 10, 'rvr': 20, 'host': 2, 'ni': 1, 'proper': 11, 'formalin': 1, 'edamat': 3, 'cellular': 4, 'pharesi': 1, 'speaker': 4, 'byt': 2, 'broken': 11, 'uremia': 4, 'bsk': 2, 'nailb': 8, 'cavh': 1, 'abut': 6, 'pubic': 8, 'abras': 12, 'spleen': 32, 'sxted': 1, 'hepatopet': 8, 'nypernatremia': 1, 'lanti': 1, 'porta': 4, 'bmt': 3, 'psc': 2, 'ursdiol': 1, 'retap': 14, 'bloodting': 3, 'dfinit': 1, 'equival': 4, 'intraven': 38, 'multiplanar': 17, 'ess': 4, 'whinc': 1, 'gland': 26, 'lactulos': 21, 'adjac': 31, 'pej': 2, 'ucler': 2, 'stronger': 6, 'tne': 1, 'shedul': 1, 'mainatain': 1, 'unrsp': 2, 'aml': 2, 'mvp': 17, 'cardiovert': 8, 'gradient': 29, 'biggest': 1, 'palpalbl': 1, 'pole': 9, 'npp': 1, 'guidenc': 1, 'rsp': 3, 'analyz': 7, 'ursodiol': 1, 'syndrom': 19, 'punctat': 2, 'transplant': 10, 'dens': 31, 'hemostasi': 4, 'nodal': 4, 'isolat': 1, 'stich': 1, 'percocet': 8, 'elong': 7, 'mold': 1, 'viremia': 2, 'constrict': 1, 'kerlix': 5, 'ivaband': 1, 'blunt': 17, 'oligur': 14, 'kayexal': 5, 'fusarium': 1, 'fam': 7, 'sequela': 4, 'nl': 22, 'retroperiton': 14, 'griev': 9, 'pneumococc': 1, 'vesicl': 3, 'coud': 1, 'presept': 2, 'remark': 8, 'silk': 6, 'hypoecho': 2, 'prolaps': 24, 'humalog': 11, 'peditub': 1, 'bilirubin': 20, 'everyday': 3, 'timeout': 10, 'hepati': 3, 'ivc': 11, 'speciat': 9, 'nard': 4, 'midnoc': 8, 'element': 14, 'gut': 7, 'transjug': 1, 'preced': 11, 'bal': 18, 'wrong': 5, 'clavicl': 11, 'prder': 1, 'augment': 16, 'cop': 6, 'motrin': 3, 'mvmt': 4, 'worrisom': 5, 'neruo': 4, 'pipo': 1, 'barotrauma': 3, 'pseudomhypha': 1, 'chin': 7, 'pneumoperitoneum': 4, 'veget': 8, 'narrativen': 1, 'novasourc': 7, 'friday': 15, 'safe': 16, 'retreiv': 1, 'vitot': 1, 'metastat': 26, 'remaind': 29, 'aler': 1, 'asid': 5, 'fungemia': 5, 'merepenim': 1, 'ard': 58, 'stv': 2, 'consistantli': 6, 'ween': 2, 'spc': 1, 'fentyn': 2, 'basi': 9, 'severli': 2, 'fungu': 4, 'hiccup': 3, 'addend': 1, 'lid': 3, 'gold': 2, 'lge': 4, 'powder': 8, 'subdiaphragmat': 10, 'hyporthermia': 1, 'yeild': 1, 'mic': 17, 'psupp': 1, 'supprot': 1, 'replenish': 3, 'widespread': 26, 'valsalva': 2, 'wether': 4, 'chemic': 5, 'washin': 1, 'meropenim': 1, 'territori': 13, 'contiu': 3, 'pc': 12, 'teniou': 2, 'sigmoid': 17, 'instead': 9, 'pillow': 10, 'east': 5, 'shunt': 13, 'midazolam': 39, 'excurs': 8, 'distribut': 24, 'intracardiac': 4, 'oximetri': 3, 'cirrohosi': 1, 'suddenli': 6, 'merepeum': 1, 'premed': 5, 'clump': 1, 'abscess': 21, 'stone': 21, 'secriton': 1, 'meripenim': 1, 'skinn': 1, 'palc': 2, 'erron': 1, 'twitch': 9, 'wane': 3, 'cchr': 2, 'bolt': 3, 'intervet': 1, 'recur': 5, 'esent': 1, 'seedi': 1, 'hydrocephalu': 9, 'echogen': 7, 'conintu': 2, 'solid': 17, 'cistatricurium': 1, 'pulmonolog': 2, 'meripenem': 1, 'yeast': 20, 'medium': 8, 'artifact': 37, 'snt': 4, 'obt': 1, 'bradycardia': 24, 'poplit': 14, 'shaggi': 1, 'paracentisi': 1, 'effert': 2, 'erect': 10, 'wedg': 9, 'pulmasours': 1, 'thich': 3, 'foramen': 6, 'hypernatremia': 11, 'tyelnol': 2, 'repsons': 3, 'addendium': 2, 'qualit': 1, 'ibuprofen': 3, 'vebal': 1, 'paral': 2, 'spurt': 1, 'thrombosi': 10, 'softer': 2, 'manuev': 2, 'hypernatrem': 3, 'endocard': 15, 'distent': 28, 'caspofungin': 4, 'strongli': 9, 'vigiou': 1, 'spot': 10, 'top': 33, 'fdg': 10, 'pneumomediastenum': 1, 'mucos': 10, 'inpiratori': 1, 'pulmasourc': 2, 'fluse': 2, 'origin': 31, 'confluenc': 4, 'satisfactorili': 4, 'beneath': 8, 'gastroesophag': 16, 'cisatracurium': 6, 'hydralazin': 13, 'bump': 14, 'tenaci': 12, 'thrombu': 20, 'paralysi': 6, 'flexur': 5, 'soooo': 1, 'tracheobronchi': 3, 'miq': 1, 'muster': 1, 'buttuck': 2, 'seee': 1, 'paramedian': 3, 'echocardigram': 1, 'inder': 1, 'seven': 7, 'infuss': 1, 'compat': 22, 'descend': 16, 'orali': 1, 'temporari': 7, 'manipul': 11, 'oval': 6, 'candidemia': 2, 'conitnu': 4, 'atb': 4, 'merepenum': 2, 'bu': 5, 'cholelithiasi': 14, 'case': 28, 'splenic': 6, 'pancreat': 11, 'catheth': 2, 'paralyz': 36, 'grayscal': 10, 'firmli': 2, 'propranalol': 1, 'sphenoid': 6, 'train': 6, 'diregard': 1, 'nova': 1, 'hydralasin': 1, 'halidol': 1, 'bronish': 1, 'wer': 1, 'malacia': 2, 'nabicarb': 1, 'isuprel': 1, 'bronchspast': 1, 'spnt': 1, 'posterolater': 2, 'pneumomediastinum': 7, 'sxd': 5, 'ettub': 3, 'alkalosi': 20, 'toller': 3, 'copiu': 4, 'meripenum': 1, 'optim': 39, 'fentenyl': 3, 'intrapelv': 1, 'adn': 6, 'receivng': 2, 'stretch': 5, 'wit': 13, 'neutral': 1, 'ldh': 43, 'seri': 12, 'unintellig': 2, 'mediastinum': 42, 'subcapsular': 1, 'dist': 8, 'glass': 23, 'extremitiy': 3, 'televis': 1, 'pose': 3, 'schdule': 1, 'rust': 3, 'grimmac': 4, 'bud': 6, 'latter': 7, 'nystatin': 9, 'muach': 1, 'rave': 1, 'lunf': 1, 'fc': 5, 'heterogen': 20, 'bronchogram': 11, 'droop': 2, 'mc': 4, 'impact': 10, 'claoric': 1, 'read': 87, 'neurtopen': 1, 'neutrapen': 2, 'cardaic': 2, 'apheres': 1, 'maintentnc': 1, 'nutropenia': 1, 'materi': 21, 'fat': 13, 'hypertrophi': 32, 'ceil': 1, 'attribut': 18, 'ilw': 1, 'attach': 7, 'whitish': 5, 'apap': 1, 'consecut': 3, 'alertarous': 1, 'periton': 5, 'jejun': 2, 'reoccur': 3, 'yield': 6, 'nativ': 4, 'scleral': 7, 'prodcedur': 1, 'mp': 4, 'cold': 11, 'amriodon': 1, 'uup': 1, 'vagin': 2, 'postpylor': 4, 'absenc': 17, 'mesenteri': 2, 'lorazapam': 1, 'prosthesi': 5, 'ebv': 2, 'fentani': 3, 'endolumin': 1, 'ddimer': 1, 'dif': 3, 'injuri': 19, 'houseoffic': 6, 'edmat': 1, 'diltazem': 2, 'jejunum': 2, 'sub': 11, 'cefipim': 15, 'axilla': 11, 'diverticulum': 1, 'degen': 23, 'uac': 1, 'steristrip': 1, 'ave': 1, 'flaygl': 2, 'tirtrat': 1, 'balm': 1, 'sytol': 1, 'nadir': 1, 'ceptim': 1, 'uncertain': 14, 'liw': 6, 'reliabl': 4, 'alet': 1, 'neutopenia': 1, 'attemp': 3, 'cardiovers': 3, 'serosanguin': 8, 'peticha': 2, 'crt': 6, 'cystic': 8, 'adher': 2, 'pyloru': 5, 'individu': 3, 'sacrament': 10, 'strand': 9, 'normotens': 12, 'vicin': 2, 'xpeep': 1, 'ambisom': 2, 'hypodens': 21, 'foey': 1, 'dimens': 5, 'cholecystectomi': 3, 'telemetri': 17, 'mgq': 1, 'aha': 8, 'conc': 4, 'hyperdynam': 22, 'separt': 1, 'insul': 1, 'cardiomyopathi': 9, 'sight': 1, 'recultur': 9, 'yell': 8, 'mucosa': 5, 'ouput': 2, 'withheld': 2, 'fluconozol': 1, 'rescan': 3, 'pylori': 2, 'reden': 2, 'pylor': 9, 'sunction': 1, 'fluconzol': 1, 'ccx': 2, 'plat': 12, 'ored': 1, 'hydrea': 1, 'polyp': 4, 'vagina': 1, 'megacolon': 6, 'amiriodin': 1, 'nonion': 7, 'weakli': 8, 'flagal': 1, 'akwa': 1, 'apeci': 1, 'alkalot': 5, 'azt': 1, 'telemeti': 1, 'lingula': 7, 'rythmm': 2, 'stalk': 1, 'petichia': 2, 'dynam': 4, 'nephrogram': 3, 'appropi': 5, 'symmetr': 59, 'winc': 3, 'cerebro': 1, 'signal': 5, 'lymphoma': 7, 'requestiong': 1, 'eccyomot': 1, 'intraabdomin': 4, 'electr': 5, 'smicu': 2, 'j': 10, 'irreg': 7, 'metroprolol': 1, 'cefepinm': 1, 'pancutur': 1, 'chemo': 10, 'urien': 1, 'ilatori': 1, 'fagyl': 1, 'remiain': 1, 'arrhythmia': 13, 'hydrocort': 5, 'fallen': 1, 'neuropenia': 1, 'onto': 6, 'difficil': 12, 'degree': 1, 'bolusof': 1, 'averag': 10, 'character': 17, 'virgou': 1, 'notabel': 1, 'wth': 2, 'micor': 1, 'chap': 1, 'lcw': 3, 'celiac': 6, 'invol': 1, 'confer': 7, 'interupt': 2, 'uromet': 1, 'ilier': 1, 'outflow': 5, 'intial': 8, 'overwir': 1, 'mycostatin': 4, 'intralumin': 9, 'exampl': 6, 'annular': 18, 'panel': 15, 'fluro': 2, 'adenopathi': 17, 'flouro': 2, 'clavicular': 7, 'anc': 2, 'atroph': 7, 'neutropenia': 1, 'sphincter': 3, 'tactil': 20, 'mail': 4, 'chb': 4, 'idioventricular': 1, 'convinc': 2, 'withdrawl': 10, 'decort': 4, 'stenot': 1, 'bottl': 4, 'particular': 9, 'postur': 8, 'chain': 8, 'pair': 12, 'baricat': 2, 'rememb': 1, 'ultim': 13, 'disord': 20, 'anasarka': 1, 'tme': 1, 'msof': 2, 'aneorb': 1, 'grave': 19, 'flaccid': 5, 'ampi': 1, 'constel': 1, 'inferolater': 11, 'barocat': 2, 'oppos': 4, 'nonreact': 3, 'amyloid': 1, 'nonr': 2, 'ampicillin': 6, 'nsicu': 1, 'tachycardiac': 3, 'cardizem': 2, 'longstand': 4, 'overid': 1, 'droplet': 10, 'linen': 4, 'atov': 1, 'ontain': 1, 'atelectat': 9, 'flu': 13, 'batteri': 1, 'restoril': 1, 'amoung': 1, 'bypap': 1, 'accordingli': 12, 'distess': 1, 'percaut': 1, 'fryabl': 1, 'exhibit': 9, 'hypokalemia': 3, 'hear': 16, 'nitro': 8, 'heroic': 6, 'ntg': 4, 'equip': 3, 'viral': 17, 'cerebr': 10, 'intraperiton': 12, 'featur': 6, 'fax': 1, 'bathroom': 3, 'aphasia': 2, 'pharyng': 6, 'prod': 9, 'nonobstruct': 5, 'pneumatosi': 6, 'applesauc': 6, 'undisturb': 4, 'tp': 6, 'misplac': 2, 'necessit': 8, 'slip': 4, 'souc': 1, 'perfor': 12, 'cross': 8, 'nauseu': 1, 'perp': 1, 'gastrostomi': 6, 'flip': 2, 'tuck': 3, 'goe': 7, 'variat': 5, 'suspicion': 17, 'requisit': 2, 'pseudoinfarct': 1, 'awhil': 3, 'appl': 6, 'revrs': 1, 'nonrebreath': 4, 'cardiopulmonari': 10, 'pathologist': 1, 'apetit': 1, 'mri': 18, 'format': 8, 'collabor': 6, 'incent': 4, 'sleepign': 1, 'spiromet': 3, 'accesss': 1, 'sz': 5, 'ate': 4, 'spillov': 3, 'influenza': 18, 'breather': 2, 'linebut': 1, 'crush': 13, 'palat': 4, 'flownot': 4, 'barium': 6, 'involut': 3, 'inv': 1, 'applesaus': 1, 'phlebolith': 2, 'interrupt': 2, 'typic': 9, 'speciment': 1, 'aphas': 5, 'cu': 2, 'intailli': 1, 'revers': 24, 'dysphagia': 9, 'penetr': 6, 'lite': 1, 'supper': 1, 'spirometri': 5, 'amd': 5, 'realiz': 3, 'unsymptomat': 1, 'hemithorax': 32, 'pleur': 2, 'pleuravac': 3, 'occupi': 6, 'massiv': 18, 'pleurx': 1, 'sterilli': 1, 'unproduct': 5, 'adament': 1, 'indfus': 1, 'familt': 4, 'param': 1, 'persistantli': 2, 'misfir': 1, 'toleav': 1, 'leakag': 7, 'agress': 12, 'agian': 2, 'sedatiooon': 1, 'aslo': 2, 'fractio': 1, 'ultra': 3, 'inflow': 5, 'venoboot': 1, 'aaat': 1, 'candid': 16, 'papillari': 8, 'negtiv': 1, 'ut': 1, 'retal': 1, 'choic': 6, 'reeval': 4, 'exyl': 1, 'incon': 2, 'esidu': 1, 'tick': 1, 'bialter': 1, 'euvolem': 11, 'mon': 34, 'promptli': 2, 'reappear': 3, 'nonlabor': 1, 'eventuallt': 1, 'fss': 1, 'noght': 1, 'shnge': 1, 'propos': 3, 'tachyarrythmia': 2, 'weigh': 2, 'pllacement': 1, 'correspong': 1, 'absolut': 1, 'struggl': 6, 'somnol': 21, 'kayexil': 1, 'synchron': 31, 'desitin': 2, 'solidfi': 1, 'bennzodiazpin': 1, 'anymor': 6, 'upto': 3, 'fill': 36, 'napho': 1, 'coaars': 1, 'adit': 1, 'month': 23, 'oet': 1, 'colorng': 1, 'occass': 6, 'asap': 3, 'flall': 1, 'myleodysplesia': 1, 'stff': 1, 'kayexel': 3, 'wateri': 5, 'sescret': 1, 'sooth': 1, 'flail': 3, 'topar': 1, 'ref': 1, 'thursday': 9, 'enema': 9, 'desenex': 1, 'chase': 1, 'overbreathin': 1, 'car': 2, 'fatigu': 20, 'trumpet': 6, 'pantoprazol': 27, 'clarifi': 19, 'factor': 17, 'nonsepecif': 1, 'penicillin': 11, 'healthcar': 10, 'wast': 20, 'retir': 8, 'iu': 40, 'normocephal': 46, 'rituxan': 1, 'bacteria': 4, 'comm': 9, 'palliat': 5, 'lymphat': 22, 'sir': 9, 'microbiolog': 35, 'offic': 8, 'creatinin': 51, 'sclerosi': 8, 'housekeep': 1, 'atherosclerot': 21, 'cord': 4, 'sulfonamid': 2, 'percuss': 29, 'resect': 9, 'gerd': 15, 'ia': 2, 'oxyfast': 1, 'dfdkq': 2, 'hsv': 2, 'discrep': 1, 'sulfa': 4, 'sedentari': 2, 'delir': 2, 'choke': 6, 'delerium': 2, 'tacchypn': 1, 'legionella': 29, 'vertebr': 13, 'outlin': 21, 'supraclavicular': 16, 'rescusit': 1, 'ppx': 27, 'hypercarbia': 14, 'deplet': 12, 'atrophi': 11, 'ronchi': 12, 'omr': 8, 'vat': 4, 'ymf': 3, 'vaccin': 7, 'rrr': 32, 'penumonia': 1, 'charact': 2, 'nsclc': 4, 'deleri': 2, 'osteopenia': 6, 'tacchycard': 1, 'asbesto': 5, 'dull': 22, 'narcan': 7, 'underw': 12, 'benign': 18, 'kansasii': 1, 'spetic': 1, 'smoker': 5, 'conjunctiva': 42, 'nitrit': 2, 'contribut': 29, 'nppv': 3, 'opinion': 6, 'asses': 2, 'pipe': 1, 'fludarabin': 2, 'regardless': 1, '`': 3, 'cavern': 3, 'plaqu': 7, 'thorazin': 1, 'lad': 8, 'cognit': 6, 'noninvas': 8, 'splenectomi': 3, 'clinda': 5, 'cervic': 25, 'tacchycardia': 1, 'avid': 2, 'hemolyt': 3, 'summari': 13, 'thoroughout': 1, 'rad': 18, 'gent': 5, 'reveiw': 4, 'toradol': 1, 'sstem': 1, 'nadolol': 2, 'fentanli': 2, 'altern': 25, 'inrincreas': 1, 'hosptial': 1, 'ileostomi': 3, 'criticar': 5, 'ppor': 1, 'antibot': 3, 'clavian': 1, 'rl': 4, 'gentamycin': 7, 'bridg': 10, 'andrl': 1, 'icter': 6, 'azithomycin': 1, 'occn': 3, 'neic': 4, 'sedimentari': 1, 'kr': 1, 'cousin': 5, 'addnedum': 1, 'recomm': 1, 'illeostomi': 1, 'respoms': 1, 'unbrocken': 1, 'encephalomalacia': 1, 'ethmoid': 4, 'unresponsinv': 1, 'slugish': 2, 'vacuo': 1, 'jwk': 1, 'semioval': 2, 'osh': 19, 'mca': 4, 'ganglia': 6, 'tem': 1, 'trancfer': 1, 'etachi': 1, 'centrum': 3, 'dwi': 2, 'slugglish': 2, 'leagal': 1, 'delta': 2, 'diltiasem': 1, 'pian': 1, 'basal': 32, 'brace': 1, 'paw': 2, 'urgent': 7, 'mgmt': 8, 'tech': 5, 'rep': 3, 'creatanin': 1, 'htc': 1, 'ortho': 2, 'orthoped': 2, 'collar': 6, 'ganz': 5, 'aggres': 2, 'amountsa': 1, 'dto': 1, 'flattu': 1, 'imobil': 1, 'reccent': 1, 'aproppri': 1, 'lacrilub': 2, 'ci': 11, 'acidemia': 5, 'loosen': 6, 'resucit': 3, 'aat': 1, 'situ': 9, 'preiou': 1, 'oxigen': 1, 'parcial': 1, 'worst': 4, 'platelett': 2, 'bsd': 2, 'bronchcoscopi': 1, 'orbit': 6, 'swan': 6, 'drg': 5, 'applianc': 3, 'lateer': 1, 'hot': 4, 'sang': 5, 'diltizam': 1, 'matress': 2, 'sugest': 2, 'occlut': 1, 'lap': 2, 'colectomi': 2, 'csm': 4, 'pcwp': 7, 'stridor': 4, 'prounounc': 1, 'ordinari': 1, 'approv': 9, 'inmobil': 1, 'combo': 2, 'retrach': 1, 'ventricuar': 1, 'chose': 1, 'technician': 1, 'dchf': 3, 'constitut': 23, 'cuf': 5, 'unrev': 5, 'sens': 9, 'conjunctiv': 10, 'percept': 1, 'manufactur': 22, 'blurri': 8, 'ent': 6, 'amongst': 5, 'spectrum': 25, 'fxn': 8, 'thoracotomi': 3, 'myalgia': 9, 'willl': 2, 'lymphocytosi': 1, 'adviso': 1, 'ori': 2, 'circumst': 5, 'stock': 1, 'transfomr': 1, 'ardsnet': 10, 'ckd': 6, 'reson': 14, 'provision': 35, 'ag': 17, 'hematolog': 6, 'ogtub': 3, 'genitourinari': 14, 'fistula': 11, 'flutter': 15, 'broad': 36, 'search': 2, 'overweight': 18, 'phosphoru': 28, 'thyroid': 16, 'suicid': 8, 'aeruginosa': 2, 'kayexl': 1, 'fuse': 2, 'parenter': 8, 'stenotrophomona': 1, 'pplat': 9, 'pertin': 41, 'dentit': 12, 'consider': 22, 'signfiic': 1, 'abus': 14, 'ibw': 3, 'iodin': 5, 'diuret': 6, 'multifactori': 18, 'cov': 6, 'kayelexal': 1, 'sooner': 5, 'magnesium': 29, 'role': 15, 'loud': 17, 'contributor': 3, 'ckmb': 42, 'bad': 6, 'afterload': 5, 'orthopnea': 9, 'cll': 3, 'chlorhexidin': 6, 'nourish': 24, 'aranesp': 1, 'joint': 19, 'presist': 2, 'brush': 1, 'preoxygen': 3, 'lvh': 14, 'hive': 2, 'proceed': 11, 'jctn': 1, 'tropt': 37, 'sqh': 7, 'dimer': 5, 'gpc': 16, 'una': 2, 'kit': 4, 'tco': 45, 'split': 8, 'apprear': 1, 'ce': 15, 'pmv': 23, 'pfi': 37, 'dep': 3, 'sh': 48, 'bayonet': 1, 'respoiratori': 1, 'biatrial': 2, 'hemodynma': 1, 'ronchor': 5, 'iss': 13, 'intravascularli': 5, 'cyanosi': 19, 'cvo': 3, 'avellyn': 1, 'gg': 2, 'mof': 2, 'destin': 28, 'spesi': 1, \"ce'\": 1, 'empyema': 5, 'pseudomon': 5, 'immunocompromis': 8, 'club': 18, 'thrombocytopenia': 16, 'defici': 4, 'fentand': 1, 'press': 34, 'symptiom': 1, 'intravascular': 7, 'tracheotomi': 5, 'tingl': 7, 'themselv': 8, 'pmi': 16, 'reconsid': 3, 'leukem': 1, 'maxim': 16, 'dysuria': 8, 'disadvantag': 1, 'hyperglycemia': 17, 'input': 22, 'incomplet': 16, 'wma': 4, 'lr': 11, 'meaning': 7, 'midaz': 19, 'transloc': 1, 'challeng': 14, 'tubular': 9, 'palpit': 7, 'hydrostat': 2, 'hypoxem': 26, 'flora': 11, 'fena': 10, 'transform': 2, 'numb': 7, 'coomb': 2, 'guaiac': 10, 'hyperreson': 6, 'pah': 1, 'connector': 1, 'folat': 4, 'dimish': 6, 'daytim': 8, 'fammili': 1, 'fibrinogen': 23, 'dlnc': 1, 'hypotensiona': 1, 'feasibl': 7, 'atyp': 22, 'insult': 11, 'kcal': 21, 'subject': 30, 'shiley': 2, 'dimsh': 1, 'hydorcortison': 1, 'deal': 7, 'demograph': 48, 'suppor': 1, 'therapist': 10, 'anteriorli': 19, 'pneuomonia': 1, 'lipitor': 8, 'probal': 5, 'promotil': 1, 'captur': 7, 'framework': 1, 'hydocorison': 1, 'fh': 48, 'across': 13, 'random': 6, 'deliri': 11, 'ure': 3, 'reguard': 4, 'immunolog': 7, 'inaccur': 3, 'traumat': 6, 'headach': 13, 'smudg': 1, 'subclav': 1, 'rout': 34, 'gastrointestin': 17, 'gear': 3, 'must': 9, 'action': 62, 'kayexyl': 1, 'chlorid': 42, 'epistaxi': 8, 'swivel': 1, 'acd': 3, 'florid': 1, 'abruptli': 3, 'rbsi': 1, 'wednesday': 9, 'secr': 2, 'crisp': 1, 'serosanquen': 1, 'pneumonectomi': 4, 'drpped': 1, 'commqand': 1, 'rhip': 1, 'pool': 7, 'multidiciplanari': 1, 'plain': 3, 'caregriv': 1, 'retard': 3, 'fixat': 2, 'destur': 1, 'anxou': 1, 'inbetween': 2, 'agiti': 1, 'dampenend': 1, 'pouch': 2, 'occlud': 6, 'oze': 1, 'functio': 1, 'kyphoscoliosi': 3, 'dyski': 1, 'blankli': 1, 'temporarili': 4, 'wiht': 3, 'reposist': 1, 'whenev': 2, 'respirat': 1, 'picclin': 2, 'sig': 15, 'undetermin': 12, 'afibril': 1, 'cdi': 4, 'postiv': 3, 'hemodyna': 1, 'skelet': 3, 'deform': 11, 'bolusx': 1, 'bolou': 1, 'scortal': 1, 'dificult': 1, 'intuabt': 2, 'carview': 1, 'hypercarb': 19, 'dye': 4, 'repo': 3, 'resembl': 1, 'monit': 2, 'spinal': 10, 'pusl': 1, 'scoliot': 1, 'taker': 2, 'spine': 29, 'ment': 1, 'increa': 4, 'intermittingli': 1, 'development': 2, 'occlus': 11, 'creatin': 3, 'mitochondri': 1, 'craem': 1, 'dimminish': 2, 'cancel': 9, 'percent': 3, 'tenti': 1, 'wheezey': 2, 'caretak': 4, 'reasur': 1, 'mainstem': 5, 'scoliosi': 4, 'saliva': 1, 'redd': 1, 'elav': 1, 'ostomi': 6, 'stimmuli': 1, 'cear': 1, 'vasoconstrict': 6, 'sibl': 11, 'rrl': 1, 'sectret': 2, 'rocecet': 1, 'helath': 1, 'atelectesi': 1, 'frighten': 1, 'illeostmi': 1, 'colostomi': 3, 'seek': 5, 'daqi': 1, 'nh': 14, 'phcp': 1, 'venco': 1, 'breakdonw': 1, 'bedridden': 1, 'bibasilair': 1, 'reluct': 6, 'gasp': 10, 'booth': 1, 'qs': 5, 'power': 3, 'attorney': 3, 'approc': 1, 'carvu': 2, 'needi': 1, 'transthorac': 10, 'outpur': 1, 'elect': 10, 'swab': 16, 'onward': 1, 'ambien': 2, 'obtund': 6, 'aloc': 1, 'susequ': 1, 'recev': 3, 'conspicu': 2, 'aox': 3, 'toiltet': 1, 'cytolog': 10, 'culmin': 1, 'hook': 8, 'sequenc': 6, 'beefi': 1, 'uprb': 1, 'nipv': 1, 'vf': 2, 'rapidli': 16, 'eu': 2, 'tox': 5, 'vasopessor': 1, 'opt': 3, 'paperwork': 2, 'displac': 6, 'svr': 4, 'phenylepherin': 1, 'subcarin': 10, 'pyret': 1, 'inotor': 1, 'smapl': 1, 'vip': 2, 'dat': 1, 'coron': 23, 'sic': 1, 'realist': 6, 'consistanli': 1, 'anatom': 7, 'mo': 4, 'cholang': 2, 'forward': 15, 'hida': 4, 'retro': 1, 'dig': 6, 'hypoexemia': 1, 'etonom': 1, 'hight': 1, 'hav': 1, 'tran': 11, 'textur': 5, 'insur': 11, 'enthesopath': 1, 'intrathorac': 9, 'sternotomi': 13, 'scali': 1, 'fluiid': 1, 'cannt': 1, 'workier': 1, 'harsh': 1, 'inutabt': 1, 'revea': 1, 'nrbmfor': 1, 'inguin': 9, 'anaplast': 1, 'hypobowel': 1, 'esophag': 25, 'noontim': 3, 'vestra': 1, 'apt': 1, 'reconstruct': 7, 'succ': 4, 'respi': 2, 'largest': 7, 'careveu': 1, 'colour': 5, 'gall': 3, 'actu': 1, 'pelvic': 17, 'fludrocort': 1, 'barrium': 1, 'median': 6, 'toelrat': 2, 'prevascular': 8, 'sagitt': 22, 'osteophytosi': 1, 'elicit': 4, 'dosag': 5, 'outgrowth': 1, 'noncontrast': 9, 'broaden': 13, 'coexist': 3, 'hack': 1, 'peritrach': 1, 'maximun': 2, 'advair': 3, 'sling': 1, 'onlin': 1, 'divis': 3, 'money': 18, 'nwb': 1, 'contributori': 4, 'presenst': 1, 'cloth': 19, 'exacerb': 18, 'llq': 4, 'asymptommat': 1, 'forgetful': 1, 'thallium': 1, 'flash': 11, 'asthma': 4, 'avf': 11, 'paroxysm': 3, 'nasopharynx': 2, 'lit': 6, 'contra': 1, 'polycyst': 2, 'sate': 11, 'discret': 6, 'cardiomedi': 1, 'credit': 19, 'yom': 6, 'aortobiiliac': 1, 'acheiv': 2, 'diovan': 2, 'singulair': 1, 'ramu': 2, 'delirium': 16, 'durat': 17, 'echymot': 2, 'spiriva': 2, 'tortuos': 2, 'analysi': 19, 'resless': 1, 'comaprison': 1, 'intermediu': 3, 'humeru': 3, 'jxrl': 2, 'citalopram': 4, 'signatur': 19, 'hypoxemia': 38, 'sevalam': 1, 'wallet': 17, 'headneg': 1, 'hcap': 9, 'granuloma': 4, 'creon': 1, 'humer': 3, 'jewelri': 18, 'wct': 1, 'paf': 3, 'demostr': 1, 'cigarett': 1, 'jekh': 1, 'innumer': 4, 'cct': 2, 'lisinopril': 8, 'zyprexa': 4, 'hematocrit': 36, 'ppm': 6, 'aricept': 6, 'cash': 18, 'moreov': 3, 'optimum': 1, 'swann': 1, 'floa': 1, 'overngiht': 1, 'dlpic': 1, 'assid': 1, 'nobodi': 1, 'ulnar': 2, 'pharmacolog': 5, 'gingeral': 1, 'milliamp': 1, 'tof': 3, 'paramont': 1, 'earlob': 2, 'remedi': 1, 'hemoptysi': 10, 'mgiv': 2, 'de': 8, 'adv': 4, 'lowest': 5, 'itch': 4, 'corti': 2, 'adeq': 10, 'cisatracuriun': 1, 'asssist': 2, 'transduc': 4, 'erythemat': 5, 'hickman': 2, 'univ': 3, 'pvr': 4, 'acetaminophen': 12, 'expecter': 1, 'onvernight': 1, 'calcul': 5, 'anxious': 1, 'mobilizi': 1, 'play': 5, 'tvol': 1, 'ramp': 2, 'rsr': 5, 'aliv': 5, 'wbcc': 2, 'imposs': 4, 'sucess': 2, 'hemmorrag': 1, 'argatroban': 3, 'nanogram': 1, 'creep': 4, 'hemostat': 3, 'fick': 3, 'truli': 3, 'grappel': 1, 'sclerodactyl': 1, 'eet': 1, 'viagra': 1, 'irrevers': 4, 'loperamid': 1, 'cco': 2, 'cost': 2, 'affix': 1, 'taler': 1, 'prec': 1, 'guaic': 7, 'brachial': 20, 'excret': 5, 'millivolt': 1, 'diladid': 1, 'quantiti': 3, 'slate': 1, 'con': 8, 'variant': 8, 'raw': 3, 'ceftazdim': 1, 'gastrocult': 1, 'swanganz': 2, 'floflan': 1, 'nausa': 1, 'distennd': 1, 'slh': 1, 'lunchtim': 1, 'flolan': 2, 'certainli': 19, 'crackel': 1, 'alvealor': 1, 'straighten': 2, 'svo': 8, 'exactli': 1, 'unreli': 4, 'vigil': 4, 'buck': 4, 'cutur': 1, 'ovisit': 1, 'derecruit': 5, 'aztreonem': 1, 'crepitu': 7, 'aortopulmon': 1, 'aztreonam': 5, 'reaccumul': 8, 'nuse': 1, 'plaec': 1, 'capillari': 4, 'antecubit': 3, 'lun': 1, 'ressusit': 1, 'expand': 13, 'evacu': 3, 'paratrach': 8, 'straw': 9, 'trunk': 4, 'regiment': 3, 'dissemin': 3, 'becasu': 1, 'drainig': 2, 'wnr': 2, 'chill': 7, 'stripe': 1, 'sctl': 1, 'pogt': 1, 'wil': 4, 'lucon': 1, 'disconect': 1, 'ccc': 6, 'firn': 1, 'gyy': 1, 'peribronchi': 3, 'travers': 6, 'settong': 1, 'hte': 1, 'comprehens': 3, 'pharmaci': 11, 'yello': 1, 'parallel': 2, 'inforc': 2, 'leftward': 9, 'sunday': 5, 'nonpapular': 1, 'accumul': 6, 'antrum': 7, 'aprrox': 1, 'aztronem': 1, 'packet': 3, 'loger': 1, 'neutra': 5, 'pancultur': 7, 'phosphat': 21, \"huo'\": 1, 'vacat': 2, 'betw': 1, 'psvt': 1, 'hoh': 4, 'pulmunari': 1, 'spit': 2, 'arrythmia': 4, 'cfm': 1, 'remind': 8, 'maex': 1, 'huo': 4, 'agreeabl': 4, 'marjor': 1, 'ivx': 1, 'arhythmia': 1, 'entrant': 1, 'anyon': 2, 'orthodrom': 1, 'bsx': 2, 'maint': 10, 'ampul': 1, 'admittedto': 1, 'announc': 1, 'duti': 1, 'outpati': 17, 'probmot': 1, 'vocal': 6, 'tirat': 1, 'smoothli': 1, 'recycl': 2, 'enzim': 1, 'incsec': 1, 'coher': 1, 'elsewher': 2, 'tracheal': 10, \"pvc'\": 1, 'effectof': 1, 'attain': 4, 'anim': 3, 'duodenum': 9, 'flouroscopi': 1, 'cong': 2, 'perman': 3, 'oropharnx': 2, 'partli': 9, 'ssc': 1, 'consistac': 1, 'weam': 1, 'radiat': 14, 'burnt': 1, 'clammi': 5, 'vace': 1, 'orogastrc': 1, 'cluster': 8, 'sesatur': 1, 'nasotrach': 3, 'assur': 8, 'clearsecret': 1, 'pave': 1, 'verif': 1, 'volumin': 1, 'lag': 2, 'paraspin': 2, 'cva': 16, 'repolar': 8, 'nebx': 1, 'coat': 3, 'wetter': 1, 'vertic': 4, 'npa': 1, 'thinnish': 1, 'bronchopulomari': 1, 'plmt': 2, 'restain': 1, 'gastroduoden': 1, 'conray': 2, 'rous': 3, 'omber': 1, 'peni': 3, 'redistribut': 7, 'nervou': 2, 'hole': 9, 'hoff': 1, 'epsiod': 3, 'inabl': 23, 'creami': 6, 'bvmr': 1, 'linezolid': 7, 'afebrel': 1, 'hematur': 1, 'dulcalox': 1, 'intestin': 8, 'snake': 1, 'db': 8, 'attemtp': 3, 'microneb': 1, 'oinment': 1, 'yellowish': 5, 'peristalsi': 1, 'bonchodil': 1, 'nemb': 1, 'prong': 4, 'spray': 5, 'sligthli': 1, 'interactiv': 1, 'linezloid': 1, 'indicatedat': 1, 'perc': 6, 'pro': 5, 'passag': 2, 'permit': 3, 'nrbfm': 2, 'attmept': 1, 'dubbhoff': 1, 'lenght': 1, 'antral': 2, 'advoc': 3, 'yankuar': 1, 'yset': 1, 'substern': 2, 'joke': 1, 'handl': 4, 'isordil': 2, 'oout': 1, 'aever': 1, 'holiday': 4, 'solarium': 1, 'ineffectu': 2, 'asytol': 3, 'conditon': 1, 'religi': 3, 'anoxia': 2, 'indepth': 1, 'belief': 2, 'toungu': 1, 'mere': 2, 'pta': 8, 'abn': 1, '^peep': 2, 'earil': 1, \"rec'\": 6, 'abrupt': 4, 'distraught': 2, 'repsond': 2, 'respitatori': 1, 'boarder': 1, 'neosenephrin': 1, 'anox': 3, 'eyelid': 4, 'ration': 3, 'button': 3, 'reinforc': 6, 'nsw': 1, 'orthodox': 2, 'recept': 2, 'honor': 1, 'experi': 10, 'orophanyng': 1, 'posey': 2, 'eveninng': 1, 'parent': 4, 'dignifi': 1, 'sibil': 1, 'increment': 3, 'grunt': 2, 'peerl': 1, \"sx'ing\": 3, 'lean': 4, 'autism': 1, 'collap': 2, 'someon': 4, 'belt': 1, 'pulsatil': 2, 'pem': 1, 'dob': 1, 'endometrium': 1, 'taa': 1, 'endovagin': 1, 'aneurysm': 8, 'uteru': 6, 'unresolv': 2, 'endometri': 2, 'nb': 2, 'fibroid': 2, 'obstetr': 1, 'sugic': 1, 'bulg': 1, 'oper': 8, 'stab': 1, 'op': 8, 'print': 1, 'adnexa': 3, 'automat': 2, 'dur': 1, 'cisatracrium': 1, 'physican': 2, 'ansesthesia': 1, 'deeper': 2, 'varrifi': 1, 'facemask': 7, 'varri': 1, 'respitori': 4, 'bibap': 1, 'inexplic': 1, 'adendum': 2, 'cista': 1, 'famil': 4, 'intiti': 1, 'backsid': 2, 'calor': 2, 'profus': 3, 'mom': 5, 'cephal': 9, 'lbr': 1, 'geodon': 1, 'lcan': 1, 'cirul': 1, 'aplli': 2, 'sv': 2, 'glenohumer': 2, 'inadequ': 12, 'awaitng': 2, 'imbal': 4, 'repiratori': 2, 'adminst': 1, 'btw': 3, 'yesterda': 2, 'abaras': 1, 'lha': 1, 'tanish': 3, 'analgesia': 6, 'ziprasidon': 1, 'ditiazem': 1, 'dyspnoic': 1, 'avss': 1, 'whose': 5, 'obstr': 2, 'recumb': 2, 'myeloma': 4, 'generalis': 2, 'physio': 2, 'indweel': 1, 'microdata': 1, 'abomin': 1, 'somnul': 3, 'cardiopulm': 2, 'valproic': 2, 'occaision': 4, 'prupos': 1, 'scater': 1, 'plethora': 2, 'sucton': 1, 'cast': 7, 'resu': 3, 'sesi': 1, 'flood': 1, 'manifest': 6, 'carri': 5, 'oft': 1, 'ciprofloxacin': 13, 'sbo': 7, 'repleat': 8, 'symptommat': 1, 'persuad': 1, 'ventral': 1, 'feurea': 5, 'declar': 7, 'adam': 3, 'shfit': 1, 'ascul': 1, 'rdf': 1, 'nephrotox': 1, 'repair': 9, 'muddi': 4, 'wcc': 1, 'prop': 4, 'mgting': 1, 'understood': 5, 'multidisciplinari': 9, 'obviat': 1, 'referr': 14, 'adhes': 5, 'display': 11, 'coli': 4, 'dire': 1, 'dismal': 2, 'intoler': 24, 'incision': 1, 'extraordinari': 2, 'neob': 4, 'dysnchronu': 1, 'incarcer': 2, 'onu': 1, 'intussuscept': 2, 'neighbor': 2, 'dorsal': 6, 'sem': 7, 'simplifi': 1, 'sole': 2, 'bronchiectasi': 7, 'helic': 8, 'gutter': 5, 'valvular': 10, 'interpolar': 3, 'reticul': 3, 'paraaort': 4, 'mlhh': 1, 'perihepat': 5, 'txpb': 2, 'tee': 11, 'hyperdens': 8, 'traction': 2, 'biventricular': 7, 'sacroiliac': 2, 'honeycomb': 2, 'canal': 3, 'extralumin': 3, 'implic': 7, 'anastomosi': 2, 'multilevel': 6, 'aortopulmonari': 2, 'ileocolon': 1, 'accordion': 1, 'prune': 2, 'aberr': 2, 'tachomyopathi': 1, 'proctiti': 1, 'annulu': 4, 'lymphoprolif': 1, 'subpleur': 6, 'prox': 1, 'splenul': 3, 'hemicolectomi': 2, 'subcost': 1, 'intermedi': 4, 'transesophag': 3, 'echocardiographi': 3, 'clostridium': 5, 'mesenter': 15, 'precarin': 3, 'transvers': 7, 'milk': 3, 'paracol': 4, 'silent': 2, 'moisten': 3, 'laser': 1, 'strategi': 3, 'kill': 3, 'rtn': 1, 'vasculatur': 12, 'awil': 1, 'pleasantli': 1, 'statement': 1, 'duoguard': 1, 'witch': 1, 'explainig': 1, 'epiglott': 3, 'hose': 1, 'upt': 2, 'deflect': 3, 'illicit': 3, 'unbroken': 4, 'tranfer': 1, '\\x13pt': 1, 'gun': 1, 'god': 1, 'metopolol': 1, 'explor': 3, 'hyperchol': 1, 'psychiatri': 2, 'swollow': 1, 'dayshift': 3, 'piperacillin': 36, 'od': 5, 'ambul': 6, 'bnp': 9, 'produst': 1, 'pali': 2, 'vna': 7, 'hospitil': 1, 'aao': 5, 'ronchoru': 1, \"piv'\": 1, 'slightl': 1, \"'sundown\": 1, 'subarachnoid': 1, 'slowley': 1, \"po'\": 2, 'maxillari': 7, 'notitifi': 1, 'immediatli': 1, 'hila': 4, 'tab': 9, 'rhonchou': 2, 'guaz': 1, 'relay': 4, 'mulleri': 1, 'skincar': 2, 'strep': 4, 'heliox': 4, 'sharpli': 3, 'pngt': 4, 'remanin': 1, 'svn': 1, 'levoflaxacin': 1, 'conctact': 1, 'resend': 4, 'bp^': 1, 'integu': 3, 'grew': 6, 'biapic': 3, 'thrust': 1, 'simethicon': 3, 'disagre': 1, 'agigt': 1, 'entireti': 2, 'drwn': 1, 'perhap': 15, 'propfol': 2, 'orogastr': 13, \"cc'sfor\": 1, 'fetanyl': 2, 'cocyx': 2, 'lobectomi': 5, 'tb': 5, 'racem': 1, 'arway': 1, 'insist': 3, 'morin': 1, 'scare': 4, 'sete': 1, 'requr': 4, 'interest': 13, 'tub': 1, 'repsir': 2, 'tachycarid': 1, 'eccessori': 1, 'bibpap': 2, 'abil': 16, 'diflucan': 4, 'outcv': 1, 'surveil': 5, 'tazobactam': 28, 'emboli': 7, 'regurg': 6, 'sfyb': 1, 'cinacalcet': 1, 'endors': 3, 'kal': 1, 'rock': 1, 'ln': 3, 'ginger': 1, 'tibiotalar': 1, 'circumferenti': 2, 'osteoblast': 3, 'antihypertens': 9, 'cellul': 2, 'rim': 2, 'bioprosthet': 2, 'articular': 1, 'ht': 3, 'lesser': 6, 'carbon': 8, 'fsgn': 1, 'erythema': 7, 'heb': 1, 'embol': 19, 'embolu': 12, 'hbv': 1, 'osteolyt': 4, 'osteo': 2, 'adat': 2, 'reform': 12, 'macrovascular': 1, 'veg': 2, 'mssa': 5, 'mycot': 1, 'futil': 4, 'tbili': 3, 'prosthet': 2, 'veloc': 7, 'ucx': 14, 'vegit': 2, 'qhd': 1, 'pve': 1, 'cxwc': 4, 'echodens': 1, 'tu': 1, 'dilauidid': 1, 'plafond': 1, 'dorsum': 1, 'contigu': 16, 'dehiss': 1, 'hsq': 1, 'osteoarthr': 4, 'tibial': 9, 'asciti': 4, 'vege': 1, 'emper': 3, 'suspician': 2, 'circumscrib': 1, 'fsg': 3, 'supsect': 1, 'anerysm': 1, 'musculatur': 2, 'abi': 1, 'admisison': 1, 'tendernss': 1, 'quietli': 1, 'hyoptens': 1, 'foreign': 4, 'hepatosplenomegali': 1, 'csurg': 1, 'nerv': 7, 'splenomegali': 3, 'illeu': 3, 'sevelam': 1, 'commod': 4, 'malnutrit': 15, 'cachect': 3, 'avr': 6, 'lifestyl': 1, 'haart': 4, 'serolog': 2, 'trochant': 1, 'methadon': 5, 'ao': 2, 'leni': 8, 'ersd': 1, 'immunosuppress': 4, 'narrow': 18, 'metatars': 1, 'nephropathi': 3, 'suppl': 13, 'myositi': 1, 'amlodipin': 5, 'monophas': 1, 'imping': 2, 'hopsic': 1, 'harrt': 2, 'triphas': 1, 'decompress': 7, 'soleu': 1, 'guiaic': 4, 'bruit': 5, 'tyelenol': 1, 'ring': 6, 'jvd': 10, 'ankl': 10, 'bmi': 10, 'nephrocap': 1, 'throb': 1, 'viridan': 1, 'hydralain': 1, 'thrill': 2, 'lbp': 1, 'subchondr': 2, 'deem': 4, 'candidaci': 2, 'multidetector': 9, 'hcv': 6, 'hyperparathyroid': 3, 'favor': 12, 'flexor': 1, 'specium': 1, 'ale': 1, 'synergi': 1, 'dehisc': 3, 'mmp': 2, 'entub': 1, 'cardimeg': 1, 'roughli': 5, 'urosepsi': 5, 'agonol': 1, 'gelfoam': 1, 'venti': 1, 'clearifi': 1, 'coverd': 1, 'cortic': 7, 'dimin': 2, 'dialzi': 1, 'bronchscopi': 1, 'standbi': 5, 'pluggi': 2, 'vista': 2, 'tamer': 1, 'hydroxyea': 1, 'dudoderm': 1, 'nimv': 4, 'lsubclavian': 1, 'serum': 19, 'wegner': 1, 'cmml': 1, 'thk': 1, 'perpendicular': 1, 'dietari': 1, 'xx': 1, 'bisacodyl': 8, 'reinstitut': 2, 'brachiocephal': 17, 'aros': 2, 'glucomet': 2, 'norvsasc': 1, 'stimilu': 1, 'hiflo': 2, 'vertex': 5, 'parament': 1, 'sauc': 4, 'toleart': 2, 'agb': 2, 'avblock': 1, 'prismat': 1, 'diverticul': 4, 'reso': 1, 'catheter': 2, 'cerebellar': 4, 'pericol': 1, 'velcro': 1, 'pretrach': 5, 'coxxyx': 1, 'ectat': 1, 'asysol': 1, 'steadi': 5, 'signifc': 2, 'skull': 7, 'continun': 1, 'wegen': 1, 'diverticulosi': 4, 'leukemia': 4, 'csf': 3, 'blastic': 8, 'cml': 1, 'rp': 2, 'perisplen': 3, 'perpl': 1, 'thalamu': 1, 'cepetim': 1, 'lucenc': 11, 'currentl': 3, 'tcl': 1, 'misc': 1, 'chagn': 1, 'exploratori': 1, 'peopl': 5, 'cchour': 1, 'rose': 5, 'misshapen': 1, 'noi': 1, 'mechaniclli': 1, \"mod't\": 1, 'hed': 1, '^^rr': 2, 'remot': 4, 'ry': 1, 'diffficult': 1, 'hemocult': 1, 'fleck': 1, 'ocmmand': 1, 'ttube': 1, 'chage': 2, 'preliminarili': 3, 'beig': 2, 'adenoca': 1, 'trophic': 2, 'laparotomi': 1, 'esp': 11, 'onthi': 2, 'fli': 5, 'deciscion': 1, 'volulm': 1, 'insens': 4, 'angiopathi': 1, 'nted': 1, 'suspend': 2, 'paravertebr': 2, 'copoiu': 1, 'est': 3, 'reclin': 1, 'zoysn': 3, 'clonazapam': 1, 'aforement': 2, 'ace': 9, 'cereal': 1, 'redirect': 2, 'megac': 1, 'plerual': 3, 'abdoment': 1, 'nli': 1, 'nonsens': 2, 'sched': 2, 'fed': 3, 'rhochor': 3, 'humid': 2, 'hydral': 5, 'omelett': 1, 'rhytham': 1, 'calori': 16, 'inhibitor': 5, 'cholesterol': 2, 'dinner': 5, 'howevet': 1, 'multivessel': 2, 'conjuct': 1, 'vese': 2, 'isnp': 1, 'toenail': 2, 'eccymosi': 2, 'ofr': 1, 'flacid': 3, 'reqir': 1, 'taketsubo': 1, 'perirect': 2, 'church': 1, 'humolog': 1, 'ys': 1, 'yhesterday': 1, 'prophalact': 1, 'requirinf': 1, 'appopri': 1, 'profilax': 1, 'dobuta': 2, 'hotel': 2, 'rnoc': 1, 'rouseabl': 1, 'ventiltori': 1, 'school': 2, '^wbc': 1, 'thormbu': 1, 'perifer': 1, 'wehen': 1, 'asympt': 1, 'htd': 1, 'kilo': 1, 'sydron': 1, 'tepid': 2, \"'sst\": 1, 'boyfriend': 1, 'suppos': 6, 'boy': 1, 'consentr': 1, 'ceftazidim': 4, 'diaphoresi': 2, 'responc': 2, 'ceftriax': 1, 'vasporessin': 1, 'lpew': 1, 'orallli': 1, 'oliguria': 7, 'dilantin': 4, 'lovenox': 4, 'manoeuv': 1, 'tma': 1, 'spare': 12, 'redress': 4, 'unrealist': 2, 'sluggishli': 6, 'prioriti': 11, 'rigor': 1, 'duoden': 4, 'rescuscit': 2, 'insid': 4, 'anascara': 2, 'forth': 5, 'pinsp': 2, 'decret': 1, 'dysynchron': 9, 'parametr': 1, 'esoph': 4, 'zoysyn': 1, 'oygen': 1, 'snx': 5, 'phenytoin': 2, 'craniotomi': 2, 'intermittint': 1, 'anasrca': 1, 'classif': 1, 'flextub': 1, 'spill': 1, 'slp': 7, 'reexpand': 1, 'tob': 2, 'labatolol': 1, 'gfr': 4, 'consequ': 7, 'inspiratori': 19, 'hld': 1, 'labetalol': 2, 'acoust': 6, 'lighten': 11, 'ctx': 3, 'bronchiti': 4, 'shadow': 8, 'intellig': 1, 'doxercalciferol': 1, 'gestur': 4, 'unmetabol': 1, 'thirsti': 2, 'apici': 1, 'edentul': 2, 'phosphor': 1, 'labetolol': 2, 'py': 1, 'propafol': 5, 'email': 6, 'dial': 2, 'claim': 15, 'secretin': 1, 'crf': 4, 'unplan': 3, 'binder': 5, 'hemodynamicli': 1, 'cpcp': 2, 'furosemid': 18, 'inappropri': 6, 'reproduc': 1, 'rhythmic': 1, 'ramya': 2, 'narc': 2, 'occurr': 3, 'levothyroxin': 5, 'aaa': 3, 'ctab': 7, 'endobronchi': 4, 'context': 8, 'unwil': 2, 'facet': 2, 'dwindl': 2, 'hypothyroid': 11, 'systolicali': 1, 'stabli': 3, 'seat': 5, 'holosystol': 1, 'blous': 6, 'oa': 1, 'bisbi': 1, 'etio': 1, 'strict': 7, 'share': 7, 'engag': 3, 'calmer': 1, 'mucin': 1, 'cautious': 1, 'workup': 10, 'benefif': 1, 'certain': 2, 'viscou': 1, 'trazadon': 3, 'suffici': 9, 'threshold': 10, 'fluoroquinolon': 1, 'fluent': 3, 'phlegm': 1, 'pivx': 1, 'outstand': 1, 'pmn': 15, 'clonic': 1, 'conserv': 4, 'lingual': 3, 'arestraint': 1, 'reattempt': 4, 'retri': 4, 'motor': 5, 'mmv': 5, 'trand': 1, 'risbi': 3, 'establish': 11, 'holosyst': 2, 'mastic': 2, 'besid': 4, 'disorient': 2, 'extubat': 2, 'azithro': 8, 'couas': 1, 'buccal': 2, 'aphonia': 1, 'nasaotrach': 1, 'cipso': 1, 'relev': 27, 'tetracyclin': 2, 'mouthcar': 5, 'rlsb': 1, 'labial': 2, 'dyston': 2, 'underestim': 6, 'clonu': 5, 'parathyroid': 1, 'dentur': 5, 'foi': 2, 'cup': 1, 'hgb': 21, 'protrus': 1, 'attg': 2, 'suspiciion': 1, 'rebronch': 1, 'bedsight': 1, 'pallait': 1, 'epitheli': 11, 'whiteout': 1, 'tsp': 4, 'boop': 4, 'instrument': 2, 'cerebrovascular': 2, 'microbubbl': 2, 'tia': 2, 'destruct': 4, 'reticular': 10, 'pfo': 7, 'distens': 10, 'arthroplasti': 3, 'transaort': 2, 'scleroderma': 1, 'collagen': 1, 'lumbar': 12, 'uid': 1, 'ipf': 12, 'recon': 10, 'bore': 5, 'dysmotil': 2, 'intramur': 1, 'reflux': 6, 'congenit': 3, 'version': 7, 'usip': 1, 'submit': 8, 'uip': 1, 'transplan': 1, 'construct': 2, 'proven': 1, 'hyxpoxia': 1, 'pullback': 1, 'rhythym': 1, 'furthermor': 2, 'debat': 2, 'goodby': 7, 'nitrat': 2, 'spastic': 1, 'claustrophob': 1, 'incred': 1, 'sedement': 1, 'claustrophobia': 1, 'curtain': 1, 'hallucin': 3, 'maitain': 2, 'cheeck': 1, 'increasd': 2, 'tapper': 2, 'perf': 4, 'revisit': 4, 'achill': 1, 'initiali': 2, 'polit': 1, 'pf': 3, 'ioc': 1, 'teradyn': 1, 'degress': 1, 'collaber': 1, \"sx'ng\": 2, 'chanag': 1, 'ccn': 4, 'frequ': 2, 'heavili': 5, 'tramua': 1, 'oxa': 2, 'idiopath': 4, 'deepli': 2, 'repost': 1, 'setti': 1, 'bleb': 2, 'firmer': 2, 'rhonchour': 2, 'hygen': 2, 'cataract': 5, 'big': 8, 'tten': 1, 'alsdo': 1, 'secreiton': 2, 'brn': 2, 'aova': 2, 'rap': 1, 'rhoncor': 5, 'allevi': 5, 'fasicul': 1, 'redos': 4, 'hyperkalem': 3, 'ppf': 1, 'verga': 1, 'un': 3, 'worsend': 2, 'norvasc': 2, 'vre': 6, 'osteoarthrit': 1, 'preceed': 1, 'eventaulli': 1, 'appov': 1, 'beginni': 1, 'wih': 1, 'irrigatioin': 1, 'notif': 5, 'unopacifi': 1, 'rc': 1, 'drng': 3, 'withdrew': 3, 'resit': 9, 'balalnc': 1, 'adden': 1, 'asbestosi': 1, 'allerg': 3, 'pararen': 2, 'flank': 8, 'invert': 1, 'trendelenberg': 2, 'receeiv': 1, 'mattess': 1, 'cavum': 1, 'unsuit': 1, 'iwth': 1, 'beginnng': 1, 'twave': 2, 'stg': 4, 'curvilinear': 2, 'meatu': 5, 'levofloxin': 3, 'thalam': 1, 'eitiolog': 1, 'pleasa': 1, 'absorpt': 5, 'fic': 1, 'pateitn': 1, 'urolog': 4, 'pellucidum': 1, 'detrol': 2, 'stair': 3, 'thr': 1, 'doubt': 9, 'ecchymos': 5, 'adnex': 1, 'egd': 7, 'atheroma': 3, 'contractur': 1, 'infxn': 2, 'antimicrobi': 11, 'rm': 1, 'tsh': 7, 'orif': 2, 'align': 2, 'sma': 3, 'atalectasi': 2, 'downgo': 1, 'qt': 3, 'requier': 2, 'gb': 5, 'heterotop': 2, 'lbbb': 2, 'disloc': 4, 'appendix': 4, 'assoc': 4, 'gonad': 1, 'cor': 4, 'mmm': 10, 'qh': 6, 'hsm': 8, 'seroquel': 2, 'electrocauderi': 1, 'yof': 5, 'unarous': 4, 'usoh': 3, 'unresponsiv': 1, 'mening': 6, 'scopalamin': 4, 'drew': 1, 'nsaid': 2, 'ingest': 3, 'imi': 1, 'groan': 2, 'romi': 1, 'rhinorrhea': 1, 'muffl': 1, 'plantar': 1, 'hemiparasi': 1, 'menopaus': 1, 'hemiarthroplasti': 1, 'lenticulostri': 1, 'arrous': 3, 'indetermin': 12, 'cement': 1, 'hemiparesi': 3, 'lp': 5, 'varic': 7, 'doputamin': 1, 'miltipl': 2, 'comand': 2, 'bicar': 1, 'uppon': 1, 'flexacil': 1, 'surrog': 2, 'tobromycin': 1, 'underway': 3, 'vaso': 3, 'unbal': 1, 'guardianship': 2, 'pendn': 1, 'tobro': 1, 'program': 7, 'monitoirng': 1, 'offici': 7, 'thta': 2, 'vasoppresin': 1, 'transf': 1, 'cllose': 1, 'pupl': 2, 'uit': 1, 'tobra': 5, 'cotn': 1, 'paraplegia': 1, 'lvel': 1, 'zocyn': 2, 'befriend': 1, 'dssg': 1, 'uint': 1, 'vasopresin': 2, 'ovb': 2, 'escol': 1, 'therapeuitc': 1, 'sedtat': 2, 'kind': 1, 'retent': 7, 'love': 4, 'oliguricb': 1, 'rheumatoid': 4, 'plot': 2, 'glucan': 8, 'elderi': 1, 'excess': 11, 'fentayl': 3, 'icd': 5, 'stepson': 1, 'rite': 4, 'lyphanget': 1, 'hemorrag': 1, 'fing': 1, 'droppedfrom': 1, 'migrat': 6, 'score': 5, 'enorm': 1, 'rectobulbar': 1, 'sclc': 1, 'conveni': 1, 'bee': 8, 'holder': 2, 'gola': 1, 'digoxin': 9, 'denial': 2, 'ignor': 1, 'mth': 2, 'magnet': 2, 'celexa': 2, 'exfoli': 1, 'lipidemia': 1, 'portacath': 4, 'effectivli': 1, 'bless': 3, 'interdisciplinari': 14, 'arthriti': 6, 'newest': 1, 'hemodynim': 16, 'nab': 5, 'alkalin': 15, 'galactomannan': 7, 'writer': 2, 'ringworm': 1, 'annoint': 1, 'protinx': 1, 'sclca': 1, 'peteci': 1, 'wgt': 17, 'allopurinol': 6, 'petechia': 7, 'dissect': 6, 'presumpt': 3, 'levofoxacin': 1, 'auto': 7, 'formula': 9, 'clarif': 5, 'tmp': 8, 'zocor': 2, 'harm': 6, 'calc': 20, 'smx': 7, 'gout': 6, 'xrt': 7, 'infra': 1, 'vtachi': 2, 'transud': 6, 'hilum': 2, \"'abl\": 1, 'articl': 2, 'postsurg': 2, 'thoracetesi': 1, 'cracker': 1, 'puffer': 1, 'lla': 1, 'lawyer': 2, 'speciman': 1, 'thouhg': 1, 'rewuir': 1, 'dilut': 4, 'trnasport': 1, 'whne': 2, 'diltizem': 1, 'lefloxin': 1, 'propopfol': 1, 'mulitsystem': 1, \"pt'scode\": 1, 'bend': 2, 'frop': 1, 'cecal': 1, 'retrocrur': 1, 'tortous': 1, 'zithromax': 1, 'vd': 1, 'manner': 4, 'ectasia': 1, 'thorocolumbar': 1, 'bifurc': 2, 'fatti': 1, 'acuta': 1, 'stoic': 1, 'ceftrix': 1, 'doen': 3, 'predomiantli': 1, 'lipoma': 1, 'diapragmat': 1, 'aneursym': 1, 'cult': 8, 'diaphragmat': 4, 'hydroneprosi': 1, 'eechymot': 1, 'tobramycin': 3, 'privaci': 2, 'icechip': 1, 'network': 1, 'vistit': 1, 'retart': 1, 'oversed': 1, 'activitiy': 1, 'vicari': 2, 'gvien': 2, 'scapula': 3, 'ttp': 2, 'oxygent': 3, 'browni': 1, 'trap': 5, 'benigh': 1, 'hemetolog': 1, 'dialntin': 1, 'aystol': 1, 'hypernatrium': 1, 'amirion': 1, 'enrout': 2, 'ser': 1, 'widen': 15, 'cat': 6, 'nbr': 1, 'wquickli': 1, 'reconsult': 5, 'frig': 1, 'hematuria': 7, 'hemobilia': 1, 'procan': 1, 'wise': 5, 'amniodaron': 2, 'urpc': 1, 'ri': 1, 'amniodoron': 1, 'cld': 1, 'pearla': 2, 'reass': 2, 'ittp': 1, 'provit': 1, 'remian': 5, 'inceas': 1, 'suscept': 3, 'plasmapheresi': 1, 'rsstraint': 1, 'succinocholynin': 1, 'multilobular': 2, 'derterior': 1, 'fifth': 3, 'reactiven': 1, 'consolida': 1, 'thoracoabdomin': 2, 'roll': 5, 'rpc': 2, 'dgt': 1, 'verapimil': 1, 'calvarium': 3, 'ordor': 1, 'act': 12, 'mard': 1, 'plasmaforesi': 1, 'occai': 1, 'dilatin': 2, 'midlung': 1, 'fosphenytoin': 1, 'therapuet': 1, 'lral': 1, 'siezur': 2, 'furhter': 3, 'supra': 7, 'plasma': 2, 'gaseou': 2, 'tolerta': 1, 'eyebrow': 2, 'verapmil': 1, 'tympan': 3, 'blur': 4, 'miantain': 1, 'rlower': 1, 'interfac': 1, 'blod': 2, 'zantac': 1, 'inqueri': 1, 'statlock': 2, 'curent': 2, 'stoke': 3, 'ativna': 1, 'montitor': 3, 'ej': 3, 'spontaneuosli': 1, 'qtc': 3, 'stack': 4, 'chol': 3, 'fmaili': 3, \"'girgl\": 1, 'thread': 1, 'fluor': 1, 'hardcopi': 1, 'realtim': 2, 'schiz': 1, 'basicali': 1, 'suitabl': 4, 'angiographi': 5, 'tubefe': 5, 'cotinu': 1, 'tema': 1, 'proovid': 1, 'scopolimin': 1, 'dryness': 1, 'enhans': 1, 'smile': 2, 'dissapoint': 1, 'nibp': 7, 'disciplanari': 1, 'elbow': 9, 'supratherapeut': 9, 'reschedul': 2, 'sing': 1, 'movent': 1, 'tyre': 1, 'surpriz': 1, 'feud': 1, 'yankeaur': 1, 'everyon': 2, 'pleurex': 1, 'miconazol': 4, 'pneumotho': 1, 'ascult': 2, 'tuesday': 9, 'quesstion': 1, 'yankuer': 1, 'fentaynl': 1, 'pdr': 1, 'fentynl': 1, 'diaph': 1, 'topler': 1, 'creme': 2, 'nysatin': 1, 'thicker': 3, 'vomitinig': 1, 'cardia': 2, 'anasthesia': 1, 'mitrazol': 1, 'precept': 2, 'chaqng': 1, 'supposrt': 1, 'pleuvex': 1, 'reexpans': 2, 'rtespiratori': 1, 'lght': 1, 'error': 6, 'conclud': 1, 'otherw': 1, 'eight': 3, 'busi': 1, 'respiratorey': 1, 'thck': 1, 'mechinc': 1, 'dime': 1, 'brochoscopi': 2, 'miconizol': 1, 'mim': 1, 'pipricillin': 1, 'periarea': 1, 'hemonc': 1, 'suter': 1, 'figur': 3, 'thoracenthesi': 1, 'peaceabl': 1, 'remainpt': 1, 'bipsi': 1, 'avg': 3, 'myconazol': 1, 'thorencentesi': 2, 'fusion': 3, 'anzimet': 1, 'dequat': 1, 'chardt': 1, 'underpenetr': 7, 'mimin': 1, 'bronchoscpi': 1, 'dangl': 2, 'saliv': 1, 'yanker': 1, \"jxn'al\": 1, 'phynelephrin': 1, 'hiss': 14, 'defecit': 2, 'characterist': 2, 'hn': 9, 'rhythem': 1, 'thrombo': 1, 'author': 3, 'ecoli': 4, 'superven': 6, 'vasculariz': 1, 'academia': 2, 'ggt': 7, 'thrombi': 3, 'thrombophilia': 1, 'dmfj': 1, 'ich': 5, 'warrant': 5, 'boluss': 1, 'ethanol': 1, 'season': 1, 'lopresor': 1, 'evolut': 6, '^st': 6, 'thrombot': 3, 'mellitu': 3, 'supertherapeut': 1, 'hemispher': 1, 'nonhemorrhag': 2, 'nkfa': 4, 'revert': 2, 'hocm': 1, 'restor': 1, 'meningioma': 2, 'suppli': 6, 'gluos': 1, 'reconsclip': 1, 'microb': 1, 'pepcid': 6, 'timecours': 1, 'fossa': 7, 'ddd': 2, 'metavis': 12, 'dermatolog': 1, 'smv': 2, 'miner': 10, 'polar': 1, 'ventricularli': 1, 'exhal': 13, '^nd': 8, 'vivonex': 3, 'massag': 5, 'hyperventil': 3, 'rythem': 1, 'suberb': 1, 'lamina': 2, 'thrombos': 2, 'appendag': 3, 'proteu': 2, 'viscer': 2, 'ubw': 1, 'aa': 5, 'dlrc': 3, 'hypertroph': 3, 'hypocalor': 5, 'ablat': 5, 'glaucoma': 2, 'strike': 1, 'descript': 7, 'methgb': 1, 'hypercoagul': 1, 'fibersourc': 7, 'research': 2, 'papyracea': 1, 'cutoff': 1, 'abtout': 1, 'thrombolysi': 1, 'atherosclerosi': 4, 'sg': 1, 'pyuria': 3, 'aksb': 1, 'multivitamin': 10, 'stasi': 4, 'pendin': 1, 'diabet': 14, 'initailli': 1, 'gown': 1, 'subtl': 6, 'sundown': 1, 'throw': 3, 'fot': 1, 'vest': 1, 'lordot': 3, 'alzheim': 9, 'memeori': 1, 'appropiatelt': 1, 'visisbilti': 1, 'stromal': 1, 'hasten': 1, 'str': 2, 'kyphosi': 3, 'collasp': 1, 'mesenchym': 1, 'hemiabdomen': 1, 'adamantli': 1, 'duplic': 3, 'tree': 11, 'oldest': 1, 'lobul': 2, 'uret': 3, 'debil': 2, 'parapelv': 1, 'greatest': 2, 'comprehend': 3, 'abcess': 5, 'taneous': 1, 'lucid': 1, 'crement': 1, 'pleath': 1, 'gentl': 16, 'coar': 2, 'outer': 3, 'fourth': 2, 'oi': 2, 'distanc': 3, 'group': 3, 'ride': 1, 'gpt': 1, 'prsentli': 1, 'bound': 6, 'calcaneu': 1, 'recc': 2, 'chiba': 1, 'centrilobular': 3, 'disp': 3, 'ultrasonograph': 2, 'hyperglycem': 2, 'periost': 1, 'pnacreat': 1, 'uncin': 1, 'gastrojejunostomi': 1, 'osteomyel': 2, 'fragment': 4, 'desk': 1, 'incluc': 1, 'lucent': 3, 'eros': 1, 'mtp': 1, 'marker': 7, 'hypottherm': 1, 'plactment': 1, 'levetiracetam': 2, 'mrcp': 3, 'minimu': 1, 'stagger': 1, 'malleolu': 1, 'px': 1, 'collectio': 1, 'gluteu': 1, 'bronchiol': 2, 'collim': 5, 'azythromycin': 2, 'phonecal': 2, 'susp': 1, 'ossif': 2, 'afb': 6, 'obl': 1, 'cloog': 1, 'mash': 1, 'pleura': 4, 'dexamethason': 3, 'potato': 1, \"treatments'\": 1, 'regad': 1, 'rewarm': 1, 'veyr': 1, 'dicuss': 1, 'brisckli': 1, 'cs': 1, 'jello': 3, 'swalow': 1, 'drool': 2, 'lfa': 1, 'gait': 4, 'manger': 2, 'fibrothorax': 1, 'hemorrhoid': 1, 'aspit': 1, 'tablet': 4, 'pleuro': 1, 'critacar': 1, 'bleomycin': 1, 'caontact': 1, 'contini': 3, 'mmcg': 1, 'fold': 8, 'regain': 4, 'ivabx': 1, 'tachypnia': 1, 'fleet': 4, 'formul': 3, 'occat': 3, 'hypotnes': 1, 'intermitantli': 1, 'subsegment': 11, 'xfew': 1, 'pipercillin': 1, 'hodgekin': 1, 'hodgkin': 3, 'tachyp': 1, 'slightest': 1, 'aveolar': 2, 'shr': 1, 'attack': 3, 'synchroni': 3, 'similarli': 1, 'disynchron': 3, 'damag': 4, 'tachard': 1, 'seveer': 1, 'optimist': 1, 'cisatricurium': 2, 'lymphpma': 1, 'ever': 3, 'twelfth': 1, 'wasd': 1, 'furrow': 1, 'univers': 1, 'plavix': 3, 'pacu': 1, 'bleo': 1, 'olanzapin': 1, 'serosangin': 2, 'tomm': 1, 'rs': 1, 'brow': 1, 'seemd': 1, 'tact': 2, 'cisat': 1, 'fibrot': 8, 'sixth': 2, 'trnasfer': 1, 'inconti': 1, 'whe': 1, 'reuslt': 1, 'perian': 3, 'critcaid': 1, 'isoridl': 1, 'methylprednisolon': 10, 'correctli': 4, 'mophin': 1, 'stitch': 1, 'brath': 2, 'bilaterali': 1, 'aspirt': 1, 'assessori': 1, 'reinit': 1, 'aureu': 4, 'thrash': 3, 'perm': 2, 'restlessli': 1, 'donat': 3, 'mobilazt': 1, 'dowm': 1, 'countri': 1, 'nitroglycerin': 1, 'anal': 3, 'hydrocrtison': 1, 'treatement': 4, 'pediatr': 1, 'pronoun': 1, 'afteran': 1, 'coasr': 1, 'urea': 1, 'sennakot': 1, 'dloppler': 1, 'tpiec': 1, 'hemmerroid': 1, 'resdiual': 2, 'glycerin': 1, 'placemnt': 2, 'subacut': 4, 'ocassion': 1, 'bij': 1, 'pariet': 3, 'shave': 2, 'index': 6, 'midazolm': 1, 'nif': 4, 'rssi': 2, 'tylenon': 1, 'predomin': 8, 'outcom': 8, 'nucleu': 1, 'milrinon': 2, 'secrect': 3, 'gastroccult': 3, 'pericardiocentesi': 1, 'ativn': 1, 'breakthrough': 4, 'pericarid': 1, 'likley': 5, 'pg': 1, 'melanoma': 3, 'whatev': 2, 'melenoma': 2, 'scatt': 1, 'bereav': 2, 'tke': 1, 'evalul': 1, 'compazin': 5, 'ahead': 3, 'porli': 1, 'smal': 2, 'cheynn': 1, 'legthargi': 1, 'boul': 1, 'drank': 2, 'goven': 1, 'bigemin': 1, 'pnuemonia': 4, 'music': 2, 'disregard': 2, 'codien': 1, 'imrpvo': 1, 'etoh': 7, 'crack': 1, 'eaten': 1, 'heparn': 1, 'stream': 1, \"'boston\": 1, 'north': 1, 'decomens': 1, 'electrolt': 1, 'transpos': 1, 'esophagogastrectomi': 1, 'joul': 2, 'transposit': 1, 'vi': 6, 'subpulmonari': 1, 'amnio': 1, 'pullup': 1, 'reattach': 1, 'autodiur': 1, 'hepatin': 1, 'pen': 1, 'hepar': 3, 'explanatori': 1, 'autodiures': 5, 'soflti': 1, 'dng': 3, 'select': 4, 'coun': 1, 'btf': 1, 'progrerss': 1, 'ugi': 2, 'irregularli': 3, 'pooli': 1, 'bldi': 4, 'intacat': 1, 'ectpoy': 1, 'afcter': 1, 'disregaurd': 1, 'yanquer': 1, 'fd': 1, '^^hr': 1, 'caraf': 1, 'noectopi': 1, 'pleurovac': 1, 'consistenli': 2, 'ativanand': 1, 'patentci': 2, 'persit': 1, 'intrathor': 1, 'underwat': 1, 'inci': 1, 'systesm': 1, 'cultu': 1, 'jtube': 3, 'sa': 4, 'soundsa': 1, 'pee': 1, 'slighti': 2, 'pulsesd': 1, 'mechanicali': 1, 'dilit': 2, 'pluera': 1, 'vor': 1, 'gentamicin': 4, 'icnreas': 1, 'northern': 1, 'accident': 2, 'lgt': 1, 'lovefloxacin': 1, 'shotti': 1, 'vecuronium': 5, 'tachynepn': 1, 'recommn': 1, 'scope': 6, 'solubl': 1, 'withi': 1, 'clearl': 1, 'patednt': 1, 'epogen': 1, 'clonidin': 1, 'adenoma': 3, 'osm': 2, 'imipenim': 1, 'primaxin': 1, 'gym': 1, 'neget': 1, 'feso': 1, 'caglucon': 1, 'innomin': 2, 'plueravac': 1, 'endoscopi': 8, 'scout': 3, 'swing': 2, 'feoli': 1, 'autodiuresi': 3, 'sucralf': 1, 'cahng': 1, 'incorrect': 2, 'postprocedur': 1, 'tail': 4, 'csl': 1, 'chck': 1, 'sytsem': 1, 'assst': 1, 'fluib': 1, 'pig': 2, 'comnt': 1, 'sson': 1, 'flucoazol': 1, 'prescrib': 5, 'membership': 1, 'hydropneumothorax': 3, 'abt': 3, 'esophagogastrostomi': 1, 'quaniti': 1, 'pike': 2, 'anastomot': 1, 'fibr': 1, 'electroyt': 1, 'endur': 2, 'esophogram': 1, 'diluadid': 2, 'unmeasur': 1, 'pullthrough': 2, 'extravas': 2, 'diaphort': 1, 'news': 5, 'yellw': 1, 'reuir': 1, 'mechanicli': 1, 'consutl': 1, 'tag': 1, 'overview': 1, 'counsel': 3, 'willprob': 1, 'knick': 1, 'monito': 2, 'pahco': 1, 'cous': 1, 'suff': 1, 'rhoncii': 2, 'drainin': 1, 'gastroesophagectomi': 1, 'bsp': 1, 'dt': 3, 'activit': 1, 'fistul': 1, 'lwst': 1, 'bpsupport': 1, 'imipenem': 2, 'aspriat': 1, 'imipenum': 1, 'eposid': 1, 'metab': 2, 'mgsulfat': 2, 'imtermitt': 1, 'amen': 4, 'eager': 1, 'foloow': 1, 'egg': 1, 'possilb': 1, 'bibasilarri': 1, 'amioderon': 5, 'clench': 1, 'genta': 2, 'freqnent': 1, 'cark': 1, 'theradyn': 1, 'urbc': 1, 'scalpel': 1, 'smell': 3, 'cg': 3, 'adenosen': 1, 'multidisiciplinari': 1, 'discoordiant': 1, 'blank': 1, 'ele': 1, 'vc': 1, 'threadi': 1, 'hnh': 1, 'mgnt': 1, 'bllod': 1, 'radal': 1, 'wtih': 3, 'oxacillin': 2, 'omg': 1, 'crepidu': 1, 'shot': 2, 'orderd': 3, 'plcmt': 2, 'lax': 1, 'dvr': 1, 'subcut': 1, 'wavefrom': 1, 'pxcr': 1, 'heater': 1, 'ceftazadim': 2, 'scoot': 1, 'lacter': 1, 'lotion': 3, 'jepard': 1, 'sanguini': 1, 'airleak': 2, 'replt': 1, 'thorcoscopi': 1, 'ceftazidin': 1, 'eextrem': 1, 'inquiri': 2, 'acisosi': 1, 'sersang': 2, 'slather': 1, 'activti': 1, 'metabil': 1, 'fluctutaion': 1, 'nruse': 1, 'fluctut': 1, 'oo': 1, 'liber': 4, 'behaviour': 1, 'bactoban': 1, 'periodci': 1, 'mainta': 3, 'fentantyl': 1, 'regist': 3, 'waters': 5, 'subcuta': 1, 'lasux': 1, 'givent': 2, 'aluminum': 1, 'amphogel': 1, 'coordin': 7, 'seed': 2, 'positv': 2, 'thorascopi': 1, 'toadi': 1, 'reolv': 1, 'biat': 1, 'oncom': 1, 'kink': 4, 'insulingtt': 1, 'creptiu': 1, 'cmg': 1, 'trahc': 1, 'elastoplast': 1, 'ant': 12, 'hyperphosphatemia': 1, 'bactroban': 1, 'untoward': 2, 'sarna': 1, 'cw': 1, 'hydrox': 1, 'exclus': 3, 'tailor': 6, 'acquisit': 4, 'yankour': 1, 'ahf': 1, 'calendar': 1, 'jkpe': 2, 'obliqu': 7, 'peripheri': 6, 'inspiss': 1, 'sofsorb': 1, 'anterobasilar': 1, 'tib': 1, 'indent': 2, 'led': 9, 'carin': 1, 'fundopl': 1, 'remainin': 1, 'surprisingli': 1, 'extern': 6, 'subseq': 2, 'unattain': 1, 'sphyncter': 1, 'superiorli': 3, 'nissen': 1, 'rami': 2, 'randomli': 1, 'pastor': 6, 'wildli': 1, 'pnuemo': 1, 'tension': 3, 'ausculat': 1, 'duodenojejun': 1, 'dart': 1, 'anasarc': 4, 'exor': 1, 'ileum': 1, '^psv': 1, 'retrial': 1, 'pkt': 2, 'lose': 2, 'doesnot': 1, 'metal': 3, 'brim': 2, 'pancol': 2, 'aubil': 1, 'pneum': 2, 'nonocclus': 3, 'softsorb': 3, 'rbreast': 1, 'shin': 2, 'lumbosacr': 2, 'intussuscipien': 1, 'anterobas': 1, 'unilat': 10, 'vac': 1, 'pri': 1, 'unobtain': 4, 'anterosept': 10, 'amoutn': 1, 'mvo': 3, 'desolv': 1, 'amberish': 1, 'obsess': 1, 'silhouet': 2, 'slighlti': 2, 'soundli': 2, 'moniot': 1, 'decreat': 1, 'com': 2, 'afebrilewbc': 1, 'tray': 2, 'anxiolyt': 5, 'coax': 1, 'snow': 1, 'bronchoalveolar': 1, 'interspac': 2, 'loudli': 1, 'neurlog': 1, 'abswer': 1, 'compet': 3, 'daptomycin': 1, 'rth': 1, 'ssic': 1, 'perpheri': 2, 'diali': 1, 'nutramenren': 1, 'approprietli': 1, 'rf': 3, 'stylet': 2, 'app': 1, 'bother': 2, 'depper': 1, 'lasiz': 1, 'semierect': 1, 'gaol': 3, 'larm': 1, 'insuluin': 1, 'chlorothiazid': 3, 'pti': 1, 'epigloti': 1, 'basalar': 1, 'detrior': 2, 'susction': 1, 'breathrough': 1, 'nutramen': 1, 'amint': 1, 'andwer': 1, 'swabe': 1, 'soar': 1, 'coorel': 1, 'mucousa': 1, 'essent': 3, 'topic': 6, 'cogniz': 1, 'soik': 1, 'afbril': 1, 'highest': 4, 'diuril': 5, 'extremli': 1, 'llp': 1, 'strictur': 1, 'prpogress': 1, 'esophog': 1, \"'sbp\": 1, 'axieti': 1, 'currenlti': 3, 'aabout': 1, 'ateri': 1, 'flair': 5, 'arrythmmia': 1, 'famotidin': 9, 'vsd': 6, 'dimninsh': 1, 'lverf': 1, 'urgenc': 1, 'lund': 1, 'thrive': 3, 'hypoxcemia': 1, 'iniit': 1, 'inutb': 1, 'triag': 1, 'faliur': 1, 'periodd': 1, 'tlyenol': 1, 'waffel': 1, 'drep': 1, 'hypoventil': 3, 'coccycx': 1, 'anytim': 1, 'clincal': 1, 'biacodyl': 1, 'extrins': 3, 'directli': 5, 'fuo': 6, 'trumphet': 1, 'ppo': 1, 'stonehedg': 1, 'dimentia': 2, 'diverticula': 3, 'specifc': 1, 'trazedon': 1, 'swal': 1, 'millisecond': 3, 'disicion': 1, 'cfh': 1, 'laminectomi': 1, 'aggiat': 1, 'stonger': 1, 'morhin': 2, 'disimpact': 2, 'finerstick': 1, 'breifli': 1, 'hemolysi': 8, 'gluco': 1, 'postmortem': 1, 'lrad': 2, 'se': 1, 'ize': 1, 'ru': 2, 'undergon': 5, 'transpulmonari': 2, 'platueau': 1, 'criticaid': 3, 'rsv': 2, 'evalut': 4, 'blow': 1, 'ballon': 2, 'ver': 2, 'vault': 2, 'movmement': 1, 'inntub': 1, 'antibiod': 3, 'nurisng': 1, 'flexis': 8, 'safey': 1, 'bw': 1, 'laid': 2, 'alkolot': 1, 'transpleur': 2, 'addenum': 1, 'pseudoaneurysm': 1, 'mount': 1, 'worri': 2, 'mimim': 1, 'kayxel': 1, 'sett': 1, 'troubleshoot': 1, 'prvc': 4, 'trickl': 1, 'receivd': 1, 'lpicc': 1, 'blanch': 4, 'sludgi': 1, 'qlc': 1, 'anticoag': 4, 'spous': 3, 'nursin': 1, 'microangiopath': 1, 'dashboard': 2, 'ghome': 1, 'cerebellum': 1, 'respres': 1, 'hyperextens': 2, 'sternoclavicular': 1, 'preferenti': 2, 'asymmetri': 3, 'pxdb': 2, 'sesha': 2, 'septat': 3, 'condol': 2, 'predict': 4, 'trajectori': 2, 'recd': 1, 'wheelchair': 3, 'ecal': 1, 'rip': 1, 'conest': 1, 'mosd': 1, 'aglc': 4, 'contd': 1, 'bi': 2, 'nephrologist': 2, 'hypovolem': 9, 'carvedilol': 1, 'enterococcu': 4, 'metolazon': 1, 'mgt': 5, 'persu': 1, 'abm': 1, 'vano': 1, 'neurontin': 3, 'hap': 24, 'acei': 3, 'showel': 1, 'aournd': 1, 'zozyn': 1, 'phoslo': 1, 'nephrotoxin': 4, 'isosorbid': 1, 'uptitr': 7, 'ranitidin': 4, 'nephrolist': 1, 'calcitriol': 1, 'intract': 1, 'sking': 1, 'hf': 4, 'rlq': 3, 'infilter': 1, 'outpt': 5, 'improov': 1, 'scr': 1, 'disucuss': 2, 'coreg': 1, 'comfortbal': 2, 'nitropast': 1, 'broadli': 7, 'hff': 1, 'bipaa': 1, 'hypervolem': 2, 'atorvastatin': 8, 'matalazon': 1, 'nmeb': 1, 'infrahilar': 5, 'enterococci': 2, 'neuropathi': 5, 'dinitr': 1, 'gpr': 4, 'xone': 1, 'cefuroxim': 1, 'suctioin': 1, 'hypoglycemia': 3, 'epith': 1, 'iron': 6, 'trimethoprim': 2, 'flacyl': 1, 'extuabt': 2, 'restrat': 1, 'drown': 1, 'lasx': 1, 'babinski': 3, 'fresh': 4, 'sputm': 1, 'attract': 2, 'normocyt': 2, 'hoever': 1, 'overwhelm': 4, 'scratch': 1, 'persistenli': 1, 'cloud': 2, 'tachypneia': 1, 'restat': 1, 'hypoprofus': 1, 'prodrom': 1, 'sulfamethoxazol': 1, 'encephaolopathi': 1, 'neuron': 3, 'donepezil': 2, 'lansoprazol': 9, 'osteoporosi': 8, 'extrapulmonari': 1, '|': 2, 'communc': 1, 'grown': 4, 'prevacid': 7, 'sensorium': 1, 'wap': 1, 'failiur': 1, 'rightward': 6, 'normochrom': 1, 'mdrd': 2, 'reassum': 1, 'appreaci': 1, 'harder': 2, 'anteced': 2, 'cefazolin': 2, 'medcial': 1, 'hospitalist': 1, 'prov': 1, 'escherichia': 1, 'namenda': 2, 'hysterectomi': 2, 'women': 1, 'likelihood': 7, 'incapac': 1, 'identif': 2, 'mmd': 1, 'venilatori': 1, 'hyralazin': 1, 'disuss': 1, 'fof': 1, 'egfr': 1, 'antibito': 2, 'furthur': 1, 'instal': 1, 'neoplast': 1, 'providencia': 2, 'pnemonia': 2, 'medsl': 1, 'offend': 2, 'unattend': 1, 'yawn': 2, 'stun': 1, 'profil': 2, 'decondit': 4, 'nitrofurantoin': 1, 'lumpectomi': 2, 'stuarti': 1, 'sulbactam': 2, 'chamg': 1, 'mumur': 1, 'uncompl': 6, 'tacypnea': 1, 'colonscopi': 1, 'ncat': 5, 'todya': 1, 'prokinet': 1, 'ivdu': 1, 'nimenda': 1, 'pin': 1, 'providentia': 1, 'neither': 4, 'biped': 1, 'fundament': 1, 'cardiopulonari': 1, 'amiikacin': 1, 'amikacin': 2, 'forego': 1, 'cardiopulmomari': 1, 'mh': 2, 'opportun': 5, 'comf': 1, 'chornic': 2, 'impari': 2, 'wwp': 4, 'hilu': 2, 'settig': 1, 'comatos': 2, 'orophyaryng': 1, 'wel': 1, 'coloni': 4, 'providenciaa': 1, 'stuartii': 1, 'rquir': 1, \"c'd\": 3, 'tca': 1, 'compli': 1, 'accid': 2, 'spars': 5, 'thinner': 2, 'uet': 1, 'roomm': 1, 'normotherm': 4, 'gmmgsulf': 2, 'continues': 1, 'ctl': 1, 'peumonia': 1, 'scar': 5, 'perineaum': 1, 'intepret': 1, 'imcomprehens': 1, 'iso': 2, 'bang': 1, 'furrther': 1, 'neuronton': 1, 'scab': 1, 'threrfor': 1, 'thoracolumbar': 3, 'leision': 1, 'pinkish': 3, 'diaper': 1, 'heploc': 1, 'soound': 2, 'tomonitor': 1, 'constanli': 1, 'admitt': 1, 'lisw': 1, 'extrewm': 1, 'exagger': 8, 'investig': 4, 'idiolog': 1, 'reestablish': 1, 'coop': 1, 'kerlex': 3, 'dakin': 1, 'guidelin': 2, 'prb': 1, 'implement': 3, 'evalaut': 2, 'obses': 1, 'oitment': 1, 'respiraotri': 2, 'notat': 1, 'flexas': 1, 'plastic': 2, 'sution': 2, 'flexi': 5, 'debrid': 2, 'rectrict': 1, 'rheab': 1, 'dbp': 1, 'applic': 10, 'plactic': 1, 'fist': 1, 'atori': 1, 'seccess': 1, 'imrprov': 1, 'priorit': 1, 'cvh': 1, 'ctrl': 1, 'challengin': 1, 'dfa': 10, 'femur': 2, 'cutlur': 1, 'theray': 1, 'hemodialyi': 1, 'chlorhex': 7, 'dz': 2, 'cvhd': 2, 'pretest': 1, 'multicyst': 1, 'amidodaron': 1, 'hepatologist': 1, 'concer': 3, 'viru': 3, 'atroven': 1, 'dog': 1, 'smyrnio': 1, 'reiniti': 3, 'nasopharyng': 4, 'conitinu': 2, 'trabecul': 3, 'subratherapeut': 1, 'dwell': 1, 'iliostomi': 1, 'scal': 1, 'lipid': 7, 'dex': 3, 'inaud': 1, 'reactant': 1, 'supportuv': 1, 'poycyst': 1, 'kac': 1, 'instablil': 1, 'meoprolol': 1, 'tcdb': 1, 'pot': 1, 'cant': 1, 'malfunct': 2, 'hepatomegali': 2, 'campylobact': 1, 'esld': 4, 'acetabula': 1, 'hemofilt': 1, 'napo': 3, 'gdex': 2, 'hepatolog': 4, 'overnighit': 1, 'circulatori': 2, 'setup': 3, 'strain': 13, 'hypotes': 1, 'itchi': 1, 'metop': 1, 'mmghg': 1, 'possibilti': 1, 'synthet': 3, 'convent': 3, 'oseltamivir': 3, 'monrn': 1, 'multiorgan': 4, 'avfistula': 1, 'mycolyt': 3, 'treatjment': 1, 'keepign': 1, 'beneprotein': 5, 'sptum': 2, 'popup': 2, 'thromboyctopenia': 1, 'neosynepherin': 1, 'subtherapateut': 1, 'reoslut': 1, 'thrombcytopenia': 1, 'blockad': 4, 'prognost': 2, 'pantop': 1, 'ova': 2, 'presoso': 1, 'imagin': 2, 'assay': 5, 'pkd': 1, 'overhydr': 7, 'javascript': 2, 'polysyst': 1, 'tachpnea': 3, 'trea': 1, 'alp': 1, 'heartsound': 1, 'contractil': 11, 'earliest': 2, 'sequest': 1, 'pubi': 2, 'enumer': 1, 'unload': 2, 'hypokinet': 4, 'vasopress': 5, 'adult': 1, 'quinolon': 5, 'ngtube': 2, 'esmolol': 2, 'alveoli': 1, 'giv': 1, 'incllud': 1, 'haptoglobin': 2, 'webtag': 2, 'oxid': 4, 'hitt': 2, 'special': 4, 'naac': 1, 'pulmonologist': 3, 'postpon': 3, 'hepativ': 1, 'citrar': 1, 'prime': 3, 'ptroy': 1, 'didnt': 1, 'atmospher': 1, 'enalapril': 1, 'nonetheless': 2, 'givenn': 1, 'antiobiot': 1, 'parasit': 2, 'influeza': 1, 'hypokinetc': 1, 'kpo': 1, 'clx': 3, 'nitric': 4, 'preclud': 4, 'bblocker': 2, 'cef': 1, 'nephrectomi': 1, 'riins': 1, 'pasp': 2, 'chanigng': 1, 'superinfect': 4, 'interventricular': 1, 'equilibr': 1, 'toil': 1, 'reload': 2, 'ddx': 18, 'ts': 7, 'tamiflu': 3, 'sequestr': 2, 'divert': 1, 'stretcher': 6, 'egophani': 1, 'dispens': 1, 'clindamycin': 3, 'caltrat': 1, 'purs': 2, 'tw': 1, 'patientcodein': 1, 'remeron': 3, 'inprov': 1, 'qualifi': 1, 'qam': 1, 'mvi': 7, 'fosamax': 1, 'weekli': 1, 'zestril': 1, 'mediocr': 1, 'sensat': 3, 'medicaid': 6, 'walker': 2, 'medex': 3, 'exelon': 1, 'dme': 5, 'rbbb': 5, 'intercurr': 2, 'qpm': 1, 'steak': 1, 'cautiou': 2, 'abat': 1, 'medicar': 5, 'aggrenox': 1, 'niacin': 2, 'mglopressor': 1, 'prng': 1, 'tappabl': 1, 'surgeon': 2, 'emphat': 2, 'pauciti': 5, 'acsiti': 1, 'latat': 1, 'atvian': 1, 'callout': 2, 'feacal': 1, 'semiform': 1, 'outand': 1, 'tachyarrhythmia': 1, 'litr': 2, 'soduim': 1, 'enquiri': 1, 'projectil': 1, 'laculos': 1, 'nondiagnost': 2, 'chnage': 3, 'tt': 1, 'offf': 1, 'anf': 1, 'ijv': 1, 'vasotec': 1, 'prpofol': 1, 'levaph': 2, 'neomycin': 1, 'woke': 3, 'chew': 2, 'guaifenessin': 1, 'preload': 3, 'breathlesn': 1, 'overloaad': 1, 'tachypen': 2, 'girl': 1, 'harpist': 1, 'cefriaxon': 1, 'megnesium': 1, 'jelli': 3, 'ninv': 1, 'dizzi': 2, 'thoughout': 2, 'sleeper': 1, 'guaifenesina': 1, 'docus': 8, 'duraton': 1, 'miscommun': 1, 'disempact': 2, 'kaexyl': 1, 'boardlin': 1, 'bnon': 1, 'discern': 3, 'trembl': 1, 'diffult': 1, 'shifdt': 1, 'milronon': 1, 'instantli': 1, 'earili': 1, 'vcarevu': 1, 'mutual': 2, 'pitress': 1, 'prsent': 2, 'substanc': 3, 'hang': 3, 'handicap': 1, 'mainitan': 1, 'ringer': 1, 'vagal': 1, 'dmr': 1, 'particul': 1, 'acidodi': 1, 'encas': 1, 'conscious': 2, 'al': 1, 'attepmt': 1, 'blastomycosi': 1, 'igm': 1, 'inde': 6, 'ventimask': 2, 'cex': 2, 'merepenem': 1, 'jirvovecii': 1, 'indur': 2, 'enoxaparin': 1, 'bacilli': 1, 'tens': 3, 'ivig': 2, 'mdd': 1, 'cocurr': 1, 'fibros': 1, 'bmx': 1, 'jirovecii': 1, 'gotten': 1, 'oversensit': 1, 'lvl': 1, 'uneventl': 1, 'sbna': 1, 'fast': 5, 'iga': 1, 'apnvol': 2, 'panic': 1, 'rhinoviru': 1, 'byop': 1, 'traught': 1, 'vori': 2, 'hemodilut': 2, 'tachyn': 1, 'tachyapn': 1, 'ritalyn': 1, 'lcpc': 4, 'ppd': 2, 'alphabet': 1, 'capsofungin': 1, 'patiient': 1, 'gleevac': 1, 'posaconasol': 1, 'hypercapnea': 4, 'immunoflouresc': 1, 'tacrolimu': 2, 'ventialt': 2, 'nauseat': 1, 'lmw': 1, 'pneumopathi': 1, 'jejunostomi': 2, 'book': 1, 'extr': 5, 'seriel': 2, 'cxray': 7, 'jlb': 1, 'ppeg': 1, 'onf': 1, 'zydi': 2, 'prochlorperazin': 2, 'antiemet': 1, 'maintainc': 1, 'nauseou': 2, 'allogen': 1, 'becapus': 1, 'lighthead': 1, 'polymorphonuclear': 1, 'disconintu': 1, 'firtst': 1, 'leukocyt': 1, 'poli': 5, 'microorgan': 2, 'predic': 1, 'galactomannin': 1, 'deciss': 1, 'mucormycosi': 1, 'signifig': 2, 'imp': 4, 'raglan': 3, 'strictli': 1, 'warrent': 2, 'former': 4, 'mistakenli': 2, 'preme': 2, 'proh': 1, 'cranial': 2, 'streaki': 2, 'wwa': 1, 'rot': 1, 'targer': 1, 'hydroxid': 1, 'laboratori': 2, 'gleevec': 1, \"patient'\": 8, 'apneaic': 1, 'vechan': 1, 'ceas': 3, 'shaken': 1, 'aspergillosi': 1, 'pneumomathi': 1, 'wakeup': 3, 'stt': 1, 'gaa': 1, 'laden': 1, 'relationship': 5, 'deacreas': 1, 'torestart': 1, 'methlprednisolon': 1, 'six': 6, 'igg': 1, 'gj': 3, 'tac': 1, 'bcell': 1, 'indict': 2, 'disappoint': 1, 'emesisx': 1, 'accum': 1, 'lanosprazol': 1, 'longterm': 2, 'ritalin': 1, 'gvdh': 1, 'coccidioidomycosi': 1, 'atovaquon': 1, 'midazolan': 1, 'unsign': 1, 'woresen': 1, 'vl': 5, 'gl': 2, \"'central\": 1, 'jrld': 2, 'chrinic': 1, 'anisocoria': 2, 'meropemen': 1, 'glevac': 1, 'allo': 1, 'histoplasmosi': 1, 'treament': 1, 'serrou': 2, 'rational': 1, \"sbt'\": 1, 'easilli': 1, 'cytopath': 2, 'premedicati': 1, 'tacro': 1, 'rewrot': 1, 'afraid': 1, 'director': 3, 'adaquet': 1, 'ongolog': 1, 'atelectai': 1, 'sct': 2, 'eleven': 1, 'lorazepan': 1, 'spfc': 1, 'dn': 2, 'tfeed': 2, 'bmp': 1, 'cantons': 1, 'cghd': 1, 'mgsulf': 1, 'cero': 1, 'lscta': 3, 'cutan': 2, 'obsruct': 1, 'apparatu': 1, 'advic': 2, 'unequivoc': 1, 'djrx': 1, 'oxtcodon': 1, 'infiltraet': 1, 'atalectat': 1, 'shevel': 1, 'anem': 1, 'boardelin': 1, 'resusc': 1, 'tkcb': 1, 'succes': 1, 'emotionalsupport': 1, 'hyperpig': 1, 'benzodiazepin': 2, 'prepared': 1, 'rifampin': 1, 'aroung': 1, 'hypopig': 1, 'triglycerid': 3, 'chlorarhiazid': 1, 'antobx': 1, 'potneiti': 1, 'scane': 1, 'peroxidas': 1, 'distrust': 2, 'anit': 1, 'folic': 2, 'reauest': 1, 'reamin': 2, 'sgar': 1, 'hotlien': 1, 'venipunctur': 2, 'atleast': 1, 'noripnephrin': 1, 'apporx': 1, 'irrat': 1, 'pentobarb': 1, 'recx': 1, 'blockag': 1, 'cjd': 1, 'hypoalbuminem': 2, 'thyroglobulin': 1, 'valproat': 1, 'revalu': 1, 'flucon': 1, 'sud': 2, 'hamper': 1, 'snore': 1, 'chuck': 1, 'hotlin': 1, 'accumil': 1, 'dissimpact': 1, 'disimpactiona': 1, 'seiz': 1, 'currenli': 1, 'requiremetn': 1, 'dysfx': 1, 'coma': 1, 'thryoid': 1, 'scvo': 2, 'depsit': 1, 'leuk': 2, 'emoir': 1, 'antiseizur': 2, 'anticonvuls': 2, 'hashimoto': 1, 'additon': 3, 'golyt': 1, 'areflex': 2, 'academ': 1, 'alblumin': 1, 'spoutum': 1, 'jonh': 1, 'convuks': 1, 'criticad': 2, 'uln': 2, 'contributng': 1, 'norepinepherin': 1, 'ondepaken': 1, 'anitbx': 1, 'nonconvuls': 1, 'epillepsi': 1, 'phenotin': 1, 'noter': 1, 'usd': 1, 'danger': 2, 'refelect': 1, 'bumex': 1, 'vascul': 2, 'paln': 1, 'bac': 2, 'empoir': 1, 'barb': 1, 'ug': 2, 'absorp': 1, 'antibacteri': 1, 'hk': 1, 'uc': 3, 'cefe': 1, 'ampho': 1, '^rd': 3, 'chlorathiazid': 1, 'boarderlin': 1, 'junctur': 1, 'pendinh': 1, 'follo': 1, 'pseudom': 1, 'pseudohypha': 2, 'pathogen': 6, 'tubul': 1, 'intrvascular': 1, 'intravasc': 1, 'eduat': 1, 'hypert': 1, 'ultrafilt': 1, 'epilept': 1, 'voicemail': 1, 'ev': 2, 'join': 2, 'infectionb': 1, 'grd': 4, 'bitempor': 1, 'aacidosi': 1, 'pentobard': 1, 'thromobocytopenia': 1, 'bladdder': 1, 'aski': 1, 'cyp': 1, 'golytli': 1, 'reachabl': 1, 'lactualos': 1, 'drench': 2, 'opion': 2, 'filur': 1, 'anacarca': 1, 'datbl': 1, 'diarrheal': 1, 'epilepsi': 1, 'acitv': 1, 'encount': 1, 'golytley': 1, 'nm': 2, 'mutlipl': 1, 'transmit': 5, 'assement': 1, 'neuromyopathi': 2, 'pentobabr': 1, 'ngith': 1, 'mngt': 2, 'miotic': 1, 'coff': 1, 'antiboiot': 1, 'miralax': 2, 'beneprotien': 1, 'protien': 1, 'apprec': 1, 'wittnessin': 1, 'valproeic': 1, 'poorfor': 1, 'shockslowli': 1, 'epilepticu': 1, 'desmopressin': 2, 'decompensatuion': 1, 'neur': 1, 'lactoslo': 1, 'epilecticu': 1, 'exempt': 1, 'extravascular': 1, 'pentobarbitol': 1, \"cx'\": 1, 'anisarca': 1, 'apprecait': 1, 'pplateau': 1, 'keppra': 3, 'serious': 2, 'nureo': 1, 'assymetri': 1, 'caspo': 1, 'neurogen': 2, 'reqeust': 1, 'skill': 2, 'unlcear': 1, 'stagbl': 1, 'difficutl': 1, 'barbitol': 1, 'fdp': 5, 'vgb': 1, 'chlorhexadin': 2, 'lim': 1, 'platu': 1, 'overhead': 1, 'liaison': 1, 'interven': 2, 'rtisk': 1, 'dil': 1, 'imporv': 1, 'eosinophil': 3, 'consdier': 1, 'artefact': 1, 'intergti': 1, 'pahs': 1, 'illiu': 1, 'amx': 1, 'interactionsd': 1, 'anisarc': 2, 'abbrevi': 2, 'plateaud': 1, 'specialist': 3, 'norepinehrin': 1, 'intermirtt': 1, 'psuedomanl': 1, 'golyetli': 1, 'frequenti': 1, 'complaict': 1, 'proptosi': 1, 'polio': 1, 'encephalopthi': 1, 'alpha': 2, 'pento': 1, 'woiuld': 1, 'norepit': 1, 'sym': 2, 'dietarti': 1, 'epsod': 1, 'febun': 1, 'reinfect': 1, 'intensivist': 2, 'compart': 3, 'hemodyalysi': 1, 'jmuch': 1, 'ite': 1, 'deminer': 2, 'midwest': 1, 'dysfunciton': 1, 'tea': 1, 'blame': 1, 'infectoiu': 1, 'vasculit': 1, 'coveragw': 1, 'cvlplace': 1, 'bibas': 5, 'intravasularli': 1, 'montior': 3, 'comanow': 1, 'experianc': 1, 'atni': 1, 'antithyroglobulin': 1, 'epidod': 1, 'inid': 1, 'psedomona': 1, 'synd': 1, 'ddrainag': 1, 'addresss': 1, 'optho': 2, 'oncal': 1, 'gate': 2, 'hypervolemia': 2, 'osmol': 1, 'meaningful': 1, 'pentobarbit': 1, 'leukocystosi': 1, 'antipseudomon': 1, 'tuypcial': 1, 'delic': 1, 'hydro': 5, 'qill': 1, 'thermal': 1, 'ldiures': 1, 'peal': 1, 'ddavp': 1, 'addiiton': 1, 'sensitivi': 1, 'posisbl': 1, 'balnc': 1, 'slim': 3, 'lk': 1, 'std': 1, 'convuls': 1, 'faith': 2, 'interf': 2, 'hotn': 5, 'meropenam': 3, 'blasser': 1, 'coours': 1, 'microbi': 1, 'benefici': 2, 'mach': 1, 'colloid': 1, 'multidrug': 2, 'log': 2, 'epilecticiu': 1, 'tpo': 1, 'yesast': 1, 'mhg': 1, 'nutrion': 1, 'restar': 2, 'epilispi': 1, 'masess': 1, 'parapneumon': 3, 'pyrexia': 7, 'antix': 1, 'supportso': 1, 'ture': 1, 'hyperthermia': 7, 'lytli': 1, 'faili': 1, 'flld': 1, 'ctiric': 1, 'intrvasc': 1, 'depaken': 1, 'yesteday': 1, 'chux': 1, 'pred': 2, 'virul': 1, 'groass': 1, 'cirpo': 1, 'pupillari': 4, 'schistocyt': 3, 'abgiven': 1, 'statrt': 1, 'ddecreasd': 1, 'transamin': 8, 'caspofugin': 1, 'vlo': 1, 'offlin': 1, 'acitivti': 1, 'effusionsgiven': 1, 'method': 1, 'seizuir': 1, 'mintu': 2, 'miniut': 1, 'fololow': 1, 'vascualit': 1, 'miracl': 1, 'ishchemia': 1, 'antiepilept': 1, 'untreat': 4, 'sural': 1, 'ltac': 2, 'abs': 1, 'futher': 2, 'yestereday': 1, 'ncse': 1, 'inoput': 1, 'heo': 1, 'myopathi': 6, 'utmost': 1, 'procss': 1, 'signifi': 1, 'nondiarh': 1, 'vasoact': 1, 'geiven': 1, 'trransfer': 1, 'expens': 2, 'cruis': 1, 'hasimoto': 1, 'road': 2, 'urem': 2, 'oropharanyx': 1, 'kepra': 1, 'reatrt': 1, 'disappear': 2, 'norequr': 1, 'psa': 3, 'enceph': 3, 'depakot': 2, 'hypoalbuminemia': 1, 'antbx': 2, 'ferrou': 1, 'undertaken': 1, \"eo'\": 1, 'confid': 3, 'vitmain': 1, 'decrea': 2, 'nutrtion': 1, 'tomoorw': 1, 'riski': 1, 'blown': 1, 'thiamin': 1, 'atatu': 1, 'esstenti': 1, 'disabl': 2, 'broach': 1, 'anasrc': 1, 'coagulopatahi': 1, 'nutrtit': 1, 'doll': 2, 'supervisor': 1, 'neurologist': 1, 'weill': 1, 'satisfi': 1, 'ophtho': 2, 'hypoactivet': 1, 'abnl': 6, 'supratheraput': 1, 'transmin': 1, 'vpa': 1, 'antii': 1, 'psuedom': 1, 'trainsient': 1, 'concner': 1, 'furtehr': 2, 'dedic': 5, 'xpiv': 1, 'unewu': 1, 'intrabdomin': 1, 'inf': 2, 'divorc': 1, 'kpho': 4, 'tod': 1, 'nebh': 1, 'broncho': 2, 'occasionali': 1, 'sabp': 1, 'subsquent': 1, 'recvd': 3, 'vigilio': 1, 'jr': 3, 'vesicular': 2, 'mlow': 1, 'tyellow': 2, 'recrtal': 1, 'diamox': 1, 'unequel': 1, 'tkr': 1, 'dvers': 1, 'methylprednison': 2, 'nonexpand': 1, 'occsaion': 1, 'finali': 1, 'requierd': 1, 'benoprotein': 1, 'warma': 1, 'cardiomediastinum': 1, 'propronol': 1, 'wuth': 1, 'acetylcystein': 2, 'pntx': 2, 'generaslis': 1, 'genral': 2, 'dimnish': 1, 'slise': 1, 'occasioanlli': 1, 'lsix': 2, 'remnant': 1, 'placewd': 1, 'desynchronis': 1, 'bronchhiectasi': 1, 'compensatori': 3, 'fenta': 2, 'comfortanbl': 1, 'hemastat': 1, 'emoit': 1, 'repet': 2, '^to': 2, 'supor': 1, 'assymetr': 4, 'propanolol': 1, 'receiev': 2, 'whhen': 1, 'seadtion': 1, 'fingerst': 1, 'robust': 1, 'cintinu': 1, 'soup': 1, 'titret': 1, 'shrug': 1, 'faintli': 2, 'discofortx': 1, 'appropriatley': 2, 'trate': 1, 'femer': 1, 'fwb': 1, 'hyperchloremia': 2, 'gprod': 1, 'torn': 1, 'eff': 2, 'efect': 1, 'nosocomi': 3, 'esphog': 2, 'withc': 1, 'nowel': 1, 'leuckocytosi': 1, 'finsh': 1, 'rebolus': 2, 'discu': 2, 'mismatch': 3, 'slighli': 1, 'hyperdyanam': 1, 'axillay': 1, 'spoon': 2, 'yesterdauy': 1, 'secondli': 1, 'malnourish': 1, 'noncontributori': 2, 'elixir': 1, 'ecymot': 1, 'fluentli': 1, 'cogn': 1, 'effusiion': 1, 'dimihs': 1, 'anorexia': 2, 'andi': 1, 'repositioniong': 1, 'subglott': 3, 'shoulf': 1, 'isk': 1, 'arrhytmia': 1, 'ftt': 1, 'overshoot': 1, 'osteroarthr': 1, 'diffg': 1, 'smoke': 5, 'urinb': 1, 'spch': 1, 'differentail': 1, 'cleaniwth': 1, 'habit': 1, 'chanhg': 1, 'cleanser': 4, 'channel': 4, 'transpor': 1, 'straigt': 1, \"tx'ing\": 1, 'anoint': 1, 'lsb': 2, 'osteodystrophi': 1, 'minand': 1, 'agatroban': 1, 'pst': 1, 'amput': 1, 'unnecessari': 1, 'lef': 1, 'caridiogen': 1, 'thrombocytopeni': 2, 'placem': 2, 'turgor': 3, 'cvc': 1, 'cvvvh': 1, 'atlern': 1, 'manor': 1, 'sevelem': 1, 'lusb': 4, 'defens': 2, 'varec': 1, 'dysfxn': 2, 'learn': 5, 'giver': 1, 'ugib': 4, 'remors': 1, 'spuriou': 1, 'efficaci': 2, 'tachycardica': 1, 'omperazol': 1, 'teach': 2, 'uncl': 2, 'clholrhexidin': 1, 'om': 2, 'stori': 1, 'inhibit': 3, 'aka': 1, 'bipa': 1, 'hypophosphetemia': 1, 'hypomag': 1, 'butnow': 1, 'migth': 1, 'overtir': 1, 'butn': 1, 'agratroban': 1, 'histor': 1, 'chlorex': 1, 'forese': 1, 'valid': 3, 'depelet': 1, 'tighter': 1, \"c'\": 1, 'aggatroban': 2, 'pall': 1, 'discusiion': 1, 'regret': 1, 'curvej': 1, 'levothryoxin': 1, 'nonessenti': 1, 'mprove': 1, 'swithc': 1, 'impli': 3, 'guilt': 2, 'assembl': 3, 'enteroccu': 2, 'biv': 1, 'peridex': 4, 'csv': 2, 'cosyn': 1, 'repe': 1, 'unanim': 3, 'capabl': 1, 'benifici': 1, 'vasculartur': 1, 'cmrn': 1, 'secretio': 1, 'withsat': 1, 'pollen': 1, 'overshadow': 1, 'wrestl': 1, 'outlook': 3, 'shd': 1, 'diltaziem': 1, 'ammonia': 2, 'disintegr': 2, 'wfl': 2, 'pft': 3, 'aerob': 4, 'inj': 1, 'divalproex': 1, 'ivfbolus': 1, 'incanthosi': 1, 'repli': 1, 'eob': 1, 'lob': 1, 'closur': 5, 'psychotrop': 1, 'videofluoroscop': 1, 'hyperkeratosi': 1, 'viseo': 1, 'asd': 10, 'resperidol': 1, 'unforun': 1, 'meta': 6, 'dtop': 1, 'ctg': 1, 'risperodol': 1, 'bipolar': 1, 'iah': 1, 'rpe': 2, 'nivpp': 1, 'flaki': 1, 'heavier': 2, 'anomia': 1, 'metavisison': 1, 'downstair': 1, 'venturi': 1, 'vallecula': 1, 'ambulatori': 2, 'vibrat': 1, 'basex': 1, 'prosodi': 1, 'pyriform': 1, 'mood': 1, 'macu': 2, 'deliber': 1, 'subglotti': 1, 'overwhelmingli': 1, 'blac': 1, 'velar': 1, 'vestibul': 1, 'dobbhoff': 4, 'bvm': 1, 'risperadol': 1, 'risperidon': 1, 'hemiplegia': 1, 'dysarthr': 1, 'multipodi': 1, 'steam': 1, 'subc': 1, 'retriev': 2, 'aztreo': 1, 'forc': 1, 'propuls': 1, 'phtn': 5, 'valpor': 1, 'explicit': 1, 'tbb': 4, 'moda': 1, 'df': 1, 'bll': 1, 'hyperammonia': 1, 'hcl': 8, 'rehabilit': 3, 'drak': 1, 'andfailur': 1, 'noteabl': 1, 'hyperkeratot': 1, 'ili': 1, 'readili': 5, 'aztronam': 1, 'risperd': 2, 'subling': 1, 'knew': 1, 'respiridol': 1, 'lye': 2, 'lgib': 1, 'bd': 2, 'videofluoroscopi': 1, 'notess': 1, 'wot': 1, 'admis': 1, 'monitorign': 1, 'masrk': 1, 'detetior': 1, 'oveloar': 1, 'perreport': 1, 'mortuari': 1, 'miuc': 1, 'duoserm': 1, 'movemnet': 1, 'cape': 1, \"'ing\": 1, 'famuli': 1, 'tcpc': 1, 'diffucalti': 1, 'ensym': 1, 'rosari': 1, 'mt': 2, 'transfererd': 1, 'allovesta': 1, 'hemiblock': 1, 'significi': 1, 'mvt': 1, 'propion': 1, 'nephrosotomi': 1, 'nephrostomi': 2, 'portocath': 1, 'flonas': 1, 'lymphangit': 5, 'influenz': 1, 'cryptococc': 3, 'hypersensit': 3, 'accommod': 1, 'asdir': 3, 'nauseau': 2, 'dialudid': 1, 'debri': 2, 'adenoid': 1, 'meassur': 1, 'reopen': 1, 'imform': 1, 'arrriv': 1, 'espophag': 1, 'dxae': 3, 'radiotherapi': 2, 'dyspen': 2, 'rac': 1, 'grey': 2, 'pathol': 1, 'serv': 1, 'interpr': 1, 'apnoea': 1, 'vertebroplasti': 2, \"'re\": 1, 'hiatu': 1, 'theapi': 1, 'hygein': 1, 'rhino': 1, 'xcept': 1, 'resistantci': 1, 'desaturar': 1, 'hyporeflex': 1, 'portext': 1, 'amb': 2, 'suctuion': 1, 'uncompens': 1, 'ambuu': 1, 'reack': 1, 'tonit': 2, 'beacam': 1, 'tachypoen': 1, 'sedateion': 1, 'preadmiss': 1, 'carbodopa': 1, 'soial': 1, 'puffi': 1, 'hyptertens': 1, 'apnic': 2, 'wasnt': 1, 'phlebotomi': 2, 'stoolx': 1, 'tachyponea': 1, 'tachpneic': 2, 'wheel': 2, 'suciton': 1, 'samll': 1, 'dssd': 1, 'repons': 4, 'hempdynam': 1, 'movemt': 1, 'drssg': 1, 'extem': 2, 'cog': 1, 'neutran': 1, 'sof': 1, 'tranfus': 2, 'liguid': 1, 'vere': 1, 'hypercalcemia': 3, 'drk': 1, 'effor': 1, 'iliu': 1, 'carevur': 1, 'presntli': 1, 'placedback': 1, 'autorot': 1, 'wan': 1, 'locta': 1, 'asychron': 1, 'dysynchrononi': 1, 'ampyema': 1, 'aound': 1, 'presssur': 1, 'anchor': 1, 'vewntilatori': 1, 'devepol': 1, 'broke': 3, 'luq': 3, 'specfic': 1, 'cephalosporin': 2, 'protoc': 1, 'imapir': 1, 'respos': 1, 'assymmetr': 1, 'corner': 1, 'asper': 1, 'obv': 2, 'fw': 1, 'spotan': 1, 'unawar': 2, 'mopder': 1, 'failer': 1, 'resur': 1, 'pltlet': 1, 'genelar': 1, 'molar': 1, 'speed': 1, 'dint': 1, 'apepar': 1, 'alogrhythm': 1, '^ing': 1, 'diminsih': 1, 'bowekl': 1, 'appx': 1, 'aggressivli': 1, 'abund': 2, 'ommand': 1, 'diminich': 1, 'meatou': 1, 'drcreas': 1, 'socail': 2, 'aferil': 1, 'fede': 1, 'copuiou': 1, 'gaze': 2, 'appro': 1, 'uplt': 1, 'admx': 1, 'pancytopenia': 5, 'entertain': 1, 'synchnou': 1, 'breadown': 1, 'protector': 1, 'eythromycin': 1, 'ruquir': 1, 'crakl': 2, 'panu': 1, 'duriesi': 1, 'diurs': 1, 'anmt': 1, 'upcom': 1, 'autodiuris': 1, 'dysnchron': 2, 'murtem': 1, 'incras': 1, 'givenx': 1, 'mush': 1, 'reconven': 2, 'desync': 1, 'brsk': 1, 'eaisli': 1, 'griamc': 1, 'nostril': 2, 'dippig': 1, 'resed': 1, 'inevit': 2, 'flaten': 1, 'conor': 1, 'dy': 1, 'regulari': 1, 'dminish': 1, 'quinci': 1, 'disconjug': 2, 'mini': 3, 'perfrom': 1, 'deuoderm': 1, 'withdrw': 1, 'uncomfoprt': 1, 'bradypn': 1, 'manipualt': 1, 'unalt': 3, \"req'ng\": 1, 'midday': 1, 'atriocav': 2, 'ratat': 1, 'remaisn': 2, 'wdwing': 1, 'anarsarca': 1, 'convey': 2, 'slug': 1, 'flac': 1, 'amonst': 1, 'unti': 1, 'msse': 1, 'stepfath': 1, 'gastropathi': 1, 'clotti': 1, 'tweezer': 1, 'overnigt': 2, 'zeroform': 1, 'abreas': 1, 'afebriel': 1, 'crepit': 1, 'crepiti': 2, 'midodin': 1, 'electolyt': 1, 'fpound': 1, 'naloxen': 1, 'counteract': 2, \"today'\": 3, 'pneumatocel': 1, 'presur': 1, 'npln': 1, 'ampl': 2, 'stbale': 1, 'sideport': 2, 'wdw': 1, 'xeroform': 2, 'certainti': 2, 'finsih': 1, 'nightim': 1, 'earl': 1, 'mutlip': 1, 'hepatofug': 1, 'bariair': 1, 'iwa': 1, 'negatiev': 1, 'macular': 2, 'peptic': 1, 'prozim': 1, 'intertrochanter': 2, 'substitut': 2, 'fetal': 1, 'osteopen': 1, 'gbc': 1, 'curl': 2, 'hypercholesterolemia': 4, 'femora': 2, 'osteophyt': 5, 'retropuls': 1, 'faculti': 1, 'proteinac': 1, 'judgment': 1, 'requi': 1, 'brachytherapi': 2, 'dbc': 1, 'hippv': 1, 'againt': 1, 'improvemnt': 1, 'vdg': 1, 'shorterm': 1, 'brth': 1, 'bracelet': 1, 'famiyl': 1, 'rexpans': 1, 'roughtli': 1, 'bar': 1, 'overdiuresi': 1, 'contacth': 1, 'proclaim': 1, 'thoracenteci': 1, 'weari': 1, 'springwel': 1, 'interview': 1, 'granul': 2, 'cheat': 1, 'oin': 1, 'dostress': 1, 'heartbeat': 1, 'dmii': 1, 'initia': 1, 'elcetrolyt': 1, 'cobnvers': 1, 'earrl': 1, 'vasculopath': 1, 'subj': 1, 'judici': 1, 'contac': 1, 'lcsw': 3, 'necklac': 1, 'hat': 1, 'allyven': 1, 'dah': 2, 'osa': 2, 'acetylcysitin': 1, 'terribl': 1, 'hum': 1, 'sane': 1, 'suspic': 1, 'tessalon': 2, 'hfm': 2, 'fulmin': 1, 'breathless': 3, 'metforman': 1, 'span': 1, 'othr': 1, 'doc': 1, 'robutssin': 1, 'patientno': 1, 'guiafenesin': 1, 'nac': 2, 'improvedto': 1, 'recommemd': 1, 'metformin': 2, 'solu': 3, 'robitussin': 1, 'tessilon': 1, 'tenueou': 1, 'msk': 1, 'sevic': 1, 'ecreas': 1, 'medrol': 3, 'ea': 1, 'muscular': 2, 'bedtim': 3, 'chiar': 1, 'benzon': 1, 'ream': 1, 'sputa': 1, 'kyg': 2, 'nasopharyn': 1, 'ome': 4, 'fecul': 1, 'mandarin': 1, 'facilitor': 1, 'bilatar': 1, 'decadron': 2, 'gastrografin': 2, 'pegtub': 1, 'aswel': 1, 'afebil': 1, 'ove': 1, 'azathioprin': 1, 'pneumoni': 1, 'sarcoidosi': 1, 'psuedo': 1, 'progresssivli': 1, 'downtitr': 1, 'palliativ': 1, 'remaijhn': 1, 'opxygen': 1, 'tomororw': 1, 'prophi': 1, 'neuropath': 2, 'erectil': 1, 'mdr': 1, \"cx'd\": 1, 'sarcodiosi': 1, 'achymosi': 1, 'heav': 1, 'purpura': 2, 'mandibl': 1, 'xfere': 1, 'mirtazapin': 1, 'sarcoid': 1, 'shingl': 1, 'atypo': 1, 'ino': 2, 'friction': 3, 'curremt': 1, 'azothioprin': 1, 'detai': 1, 'zoster': 2, 'peepm': 1, 'ami': 2, 'pemetrex': 2, 'costodiaphragmat': 1, 'hypopho': 1, 'www': 1, 'invad': 2, 'stemi': 2, 'deposit': 4, 'lidoderm': 1, 'hypophosphatemia': 1, 'nsclca': 2, 'radiopac': 2, 'acebutolol': 1, 'insepar': 2, 'lacta': 1, 'pamidron': 1, 'stoneman': 1, 'encircl': 1, 'possiblil': 1, 'toc': 1, 'jkang': 1, 'ragrdu': 1, 'cycstoscopi': 1, 'hydrouret': 1, 'suprath': 1, 'pleaural': 1, 'erinephr': 1, 'uvj': 1, 'periren': 1, 'pyelo': 1, 'disucss': 2, 'thougn': 1, 'obstruuct': 1, 'carecod': 1, 'interpretor': 1, 'lithotrypsi': 1, 'moieti': 1, 'pyelonephrosi': 1, 'pyelonephr': 2, 'pylenonephr': 1, \"adl'\": 1, 'antion': 1, 'hrc': 1, 'chosen': 1, 'sufggest': 1, 'hydroneph': 1, 'septi': 1, 'scopi': 1, 'ptc': 1, 'fureth': 1, 'ubj': 1, 'perinephr': 3, 'respo': 1, 'uanbl': 1, 'en': 2, 'loin': 1, 'reusm': 1, 'goc': 4, 'givern': 1, 'suprahilar': 3, 'pyeloneph': 1, 'cycsto': 1, 'scopalomin': 1, 'podu': 1, 'sonn': 1, 'margina': 1, 'chr': 1, 'horizont': 1, 'maee': 1, 'norepinephin': 1, 'possibilit': 1, 'fluffi': 1, 'aleven': 1, 'emphysemat': 3, 'progess': 1, 'improvementin': 1, 'airmattress': 1, 'clincial': 2, 'thia': 1, 'cefapim': 1, 'electrod': 2, 'biaxin': 1, 'endplat': 1, 'airless': 2, 'disc': 4, 'degener': 2, 'effuss': 1, 'oxza': 1, 'corect': 1, 'esophagogastr': 5, 'colaps': 1, 'anitibiot': 1, 'accomplish': 1, 'decoupl': 1, 'arrestin': 1, 'nonpain': 1, 'cck': 1, 'potenc': 1, 'camp': 1, 'methodon': 1, 'cur': 1, 'progresson': 1, 'yoburn': 1, 'sponr': 1, 'centuri': 1, 'endocytosi': 1, 'burden': 5, 'amelior': 2, 'monomorph': 1, 'wider': 2, 'introduct': 1, 'reducedcontinu': 1, 'medzihradski': 1, 'subtyp': 1, 'price': 1, 'monophosph': 1, 'indicta': 1, 'dupen': 1, 'hyperalges': 1, 'hyperesthesia': 1, 'glycol': 1, 'conflict': 1, 'peptid': 1, 'glucagon': 1, 'mk': 1, 'ferguson': 1, 'endogen': 1, 'desensit': 1, 'pretreat': 1, 'amioduron': 1, 'perturb': 1, 'antagonist': 1, 'rct': 1, 'dourish': 1, 'excit': 2, 'lauretti': 1, 'emptiv': 1, 'mcclean': 1, 'methyl': 1, 'scientif': 1, 'antinocicept': 1, 'celeri': 1, 'urinalysi': 3, 'compton': 1, 'experiment': 1, 'chindalor': 1, 'amplifi': 1, 'intracellular': 2, 'hypothes': 1, 'cholecystokinin': 1, 'scienc': 1, 'bockstael': 1, 'prefac': 1, 'statist': 1, 'regulatori': 1, 'magnitud': 1, 'hinder': 1, 'modulatori': 1, 'facilitatori': 1, 'decad': 1, 'radonc': 1, 'lotsch': 1, 'abstract': 1, 'terman': 1, 'theoret': 1, 'world': 1, 'levorphanol': 1, 'medulla': 1, 'conceptu': 1, 'decreasedin': 1, 'yabaluri': 1, 'tefari': 1, 'adjuv': 1, 'releas': 4, 'bind': 1, 'genotyp': 1, 'repsiratori': 1, 'excent': 1, 'interindividu': 1, 'sum': 1, 'deepen': 1, 'occer': 1, 'affer': 1, 'plataeu': 1, 'schemat': 1, 'bubbl': 6, 'practic': 1, 'vigano': 1, 'simplest': 1, 'proport': 5, 'agonist': 3, 'rvm': 1, 'torsad': 1, 'unoccupi': 1, 'cornerston': 1, 'cyclic': 1, 'ivarsson': 1, 'pal': 1, 'theori': 1, 'adenylyl': 1, 'recaptur': 1, 'hydrocostison': 1, 'sjogren': 1, 'kappa': 1, 'duttaroy': 1, 'stoutz': 1, 'maleat': 1, 'ventromedi': 1, 'rins': 1, 'preclin': 1, 'inturrisi': 1, 'estfan': 1, 'vanderah': 1, 'phenomena': 1, 'foll': 3, 'pharmacokinet': 1, 'yaksh': 1, 'maintian': 1, 'intrigu': 1, 'xd': 1, 'commonli': 1, 'underscor': 1, 'advantag': 1, 'mainstay': 1, 'naltrexon': 1, 'difuss': 1, 'excitatori': 1, 'nur': 1, 'chavkin': 1, 'hyperalgesia': 2, 'affin': 1, 'pathophysiolog': 1, 'arnp': 1, 'brainstem': 1, 'nonanalges': 1, 'deceid': 1, 'aspart': 1, 'premis': 1, 'concurr': 9, 'mediat': 1, 'psycholog': 1, 'perist': 2, 'kinas': 1, 'portenoy': 1, 'rat': 1, 'whistler': 1, 'elsevi': 1, 'importantli': 2, 'gif': 2, 'radion': 1, 'coin': 1, 'pharmaceut': 1, 'govern': 1, 'pathway': 1, 'explicitli': 2, 'biomark': 1, 'nmda': 1, 'phenomenon': 1, 'model': 2, 'raehal': 1, 'resensit': 1, 'purport': 1, 'glutam': 1, 'permiss': 3, 'concomit': 3, 'urg': 1, 'transcript': 2, 'circumv': 1, 'gardel': 1, 'sedaton': 1, 'saeki': 1, 'popul': 1, 'promis': 1, 'wherebi': 1, 'pharmd': 1, 'mrg': 1, 'mu': 1, 'uniform': 1, 'pronocicept': 1, 'elucid': 1, 'nocicept': 1, 'choos': 1, 'recomend': 2, 'proglumid': 1, 'principl': 1, 'periaqueduct': 1, 'religion': 1, 'gpcr': 1, 'unrel': 4, 'postul': 1, 'amino': 1, 'dynorphin': 1, 'angst': 1, 'allodynia': 1, 'terner': 1, 'gene': 1, 'encod': 1, 'entiti': 2, 'nondrug': 1, 'viaogt': 1, 'albeit': 3, 'tumour': 2, 'cyclas': 1, 'measuresbut': 1, 'doverti': 1, 'mulitifoc': 1, 'polyethylen': 1, 'genet': 1, 'sander': 1, 'neurosci': 1, 'ersek': 1, 'neural': 1, 'molecular': 1, 'spontaneu': 1, 'rostral': 1, 'reprint': 1, 'overtr': 1, 'asparagin': 1, 'wak': 1, 'pharmacodynam': 1, 'phd': 1, 'colorect': 1, 'human': 1, 'analges': 1, 'fwma': 1, 'transmiss': 3, 'proactiv': 1, 'opioid': 2, 'counterpart': 1, 'neurotransmitt': 1, 'receptor': 1, 'overlap': 2, 'acknowleg': 1, 'medscap': 1, 'dextromethorphan': 2, 'mao': 1, 'wf': 1, 'improp': 1, 'tributari': 1, 'ygd': 3, 'mtx': 1, 'enbrel': 1, 'elvat': 1, 'patella': 1, 'crise': 1, 'protuber': 1, 'aar': 1, 'blast': 1, 'matur': 1, 'sterp': 1, 'ig': 2, 'crypto': 2, 'reas': 1, 'lysi': 2, 'encapsul': 1, 'glianda': 1, 'pralysi': 1, 'uot': 1, 'witjh': 1, 'dion': 1, 'endotoxin': 1, 'desper': 1, 'tio': 1, 'rituximab': 1, 'xfusion': 2, 'sinsc': 1, 'neuromusc': 2, 'cisatra': 1, 'pallor': 2, 'vasodilit': 1, 'pneumococcu': 1, 'crystalloid': 1, 'icteru': 4, 'inand': 1, 'oxgen': 2, 'synthesi': 1, 'sacrement': 2, 'malais': 3, 'atraumat': 2, 'drn': 1, 'nearbi': 1, 'leukostasi': 1, 'melena': 5, 'anerob': 2, 'pneumosepsi': 1, 'lymphocyt': 1, 'vasodil': 1, 'eomi': 6, 'coolin': 1, 'cul': 2, 'granulocyt': 1, 'leukapheresi': 1, 'athi': 1, 'bullou': 2, 'redemonstr': 9, 'substrat': 1, 'interfissur': 1, 'hird': 1, 'expl': 1, 'labour': 1, 'cefaclor': 1, 'boost': 3, 'choc': 1, 'avial': 1, 'perfect': 1, 'xopenex': 1, 'zoloft': 1, 'signfici': 1, 'pheboltomist': 1, 'purus': 1, 'ffv': 1, 'opacit': 2, 'moxifloxicin': 1, 'ffm': 1, 'dyspnic': 1, 'cuurent': 1, 'imped': 1, 'perinieum': 1, 'makes': 1, 'echocardiogram': 2, 'onco': 1, 'bronchi': 5, 'retrotrach': 1, 'levalbuterol': 1, 'paitent': 1, 'effexor': 1, 'nsc': 1, 'loopi': 1, 'reliv': 1, 'birthday': 1, 'evloc': 1, 'patint': 1, 'iiia': 1, 'highflow': 1, 'chsnge': 1, 'brerath': 1, 'phlebotomist': 1, 'xoponex': 1, 'regen': 1, 'facili': 1, 'photodynam': 1, 'reconnect': 2, 'jmgw': 5, 'panproctocolon': 1, 'hypocontractil': 2, 'pancolon': 1, 'minu': 2, 'pericolon': 1, 'ventriclr': 1, 'merit': 2, 'intracav': 1, 'infraren': 2, 'thumbprint': 1, 'trv': 1, 'fece': 1, 'frpm': 1, 'shsf': 3, 'schf': 1, 'cephalad': 1, 'septick': 1, 'irrecover': 1, 'scrape': 2, 'eighth': 1, 'opiod': 1, 'anasarcoid': 1, 'taught': 1, 'obstip': 5, 'haloperidol': 2, 'esbl': 4, 'vzv': 1, 'dysynchor': 1, 'unparalyz': 1, 'bleak': 1, 'maintin': 1, 'evident': 1, 'sqi': 2, 'alkalemia': 2, 'lactulous': 1, 'impov': 1, 'fibromyalga': 1, 'lamict': 1, 'exal': 1, 'dyssynchron': 3, 'seventh': 2, 'vicodin': 1, 'hyperoxygen': 1, 'stabal': 1, 'flexeril': 1, 'thalessemia': 1, 'herp': 1, 'gn': 2, 'lamotrigin': 1, 'opiat': 1, 'blowout': 2, 'nmb': 1, 'blat': 1, 'uap': 1, 'cisaturcurium': 1, 'paracentesi': 3, 'imipramin': 1, 'lefort': 2, 'svv': 4, 'yestserday': 1, 'para': 1, 'parac': 1, 'ninth': 2, 'hydrochlorid': 2, 'pbw': 1, 'shrunken': 2, 'bizarr': 1, 'tough': 2, 'expuls': 1, 'metoclopramid': 1, 'morbid': 1, 'simplex': 1, 'pwder': 1, 'disten': 1, 'hidden': 2, 'dubhoff': 1, 'fbr': 2, 'vilego': 1, 'dysynchoroni': 1, 'resuscti': 1, 'aiway': 1, 'tricycl': 1, 'qdaili': 1, 'pare': 1, 'coagulapathi': 1, 'setgment': 1, 'enzymat': 1, 'viigileo': 1, 'failri': 1, 'wehich': 1, 'hcfa': 2, 'valvuloplasi': 1, 'meropenujm': 1, 'vti': 1, 'vancoymcin': 1, 'wbhc': 1, 'ws': 1, 'eccentr': 4, 'cosign': 1, 'mepilex': 4, 'domin': 1, 'orderedl': 1, 'cdif': 1, 'bidirect': 1, 'fwf': 1, 'stood': 1, 'sklightli': 1, 'backward': 1, 'anca': 2, 'jointli': 1, 'regress': 3, 'heprin': 3, 'scaral': 1, 'te': 1, 'gradiernt': 1, 'valvulopplasti': 1, 'jksd': 2, 'certifi': 3, 'pallid': 1, 'rouhnd': 1, 'donw': 1, 'streamlin': 1, 'fals': 1, 'antibid': 1, 'valvuplasti': 1, 'petechai': 1, 'ecch': 1, 'radiu': 1, 'necrotizin': 1, 'frlow': 1, 'honest': 1, 'tilt': 1, 'multifactorisl': 1, 'galactomanna': 1, 'dyne': 1, \"pt'\": 1, 'mepiplex': 1, 'broadend': 1, 'imit': 1, 'serotonin': 1, 'ueni': 1, 'neosinephrin': 1, 'chole': 1, 'vitk': 1, 'seenbi': 1, 'adventiti': 1, 'proced': 1, 'wallthicken': 1, 'sqaur': 1, 'alck': 1, 'valvuloplati': 1, 'suctionion': 1, 'preform': 3, 'charg': 1, 'dcub': 1, \"onc'\": 1, 'wll': 1, 'bicuspid': 1, 'tempor': 5, 'laa': 2, 'aggatraban': 1, 'valvoplsti': 1, 'esr': 1, 'sort': 2, 'viatmain': 1, 'achil': 1, 'psurg': 1, 'overnightl': 1, 'taccycardia': 1, 'infectio': 1, 'midu': 1, 'affili': 1, 'receheck': 1, 'cardic': 1, 'inasmuch': 1, 'subq': 1, 'lvsv': 1, 'overdistend': 2, 'aov': 1, 'offset': 1, 'jet': 4, 'isosourc': 1, 'occult': 3, 'meei': 1, 'ancef': 1, 'antbiot': 1, 'crp': 1, 'thermodilut': 1, 'euvolemia': 2, 'eschar': 1, 'argu': 2, 'remodel': 2, 'vacno': 1, 'vigileo': 3, 'dubiou': 1, 'exbut': 2, 'collagenas': 1, 'locu': 1, 'wocrn': 1, 'vasc': 1, 'murmr': 1, 'woudl': 1, 'wiill': 1, 'angios': 2, 'contr': 1, 'quiliti': 1, 'pnuemoboot': 1, 'guarante': 1, 'respiratoti': 1, 'reguir': 1, 'dcing': 1, 'moitor': 1, 'valvoplasti': 1, 'gastrograffin': 1, 'ducubitu': 1, 'empath': 1, 'vo': 1, 'ymosi': 1, 'raa': 2, 'unstag': 2, 'aand': 1, 'valvulopasti': 1, 'ai': 2, 'hemohynam': 1, 'inotrop': 1, 'ltach': 1, 'acalcul': 1, 'taccypnea': 1, 'unmet': 1, 'ne': 2, 'cholescyst': 1, 'allpurinol': 1, 'aovti': 1, 'fortun': 1, 'svi': 1, 'hardli': 1, 'overse': 1, 'complexion': 1, 'reater': 1, 'awaitin': 1, 'valvuloplasti': 1, 'valoplasti': 1, 'yesterrday': 1, 'lepirudin': 1, 'siadh': 2, 'collagenes': 1, 'becuaus': 1, 'todat': 1, '^d': 1, 'transvalvular': 2, 'ttte': 1, 'overnig': 1, 'entranc': 1, 'hyperkalemi': 1, 'granular': 2, 'electroly': 1, 'hypxic': 1, 'culter': 1, 'overdistent': 2, 'vr': 1, 'systoic': 1, 'vassopress': 1, 'ovebreath': 1, 'subtherapuet': 1, 'overdistens': 1, 'copious': 1, 'symetr': 1, 'tital': 1, 'pipracillin': 1, 'kayexalt': 1, 'sosyn': 1, 'tularemia': 1, 'ple': 1, 'crossmatch': 2, 'tn': 1, 'bronhial': 1, 'instanc': 2, 'crept': 1, 'vw': 1, 'malignaci': 1, 'deactiv': 1, 'hypoactic': 2, 'histoplasma': 1, 'strongiloid': 1, 'pss': 2, 'neli': 1, 'diureisi': 1, 'ischmia': 1, 'nont': 1, 'poa': 2, 'aspergillu': 1, 'eosinophilia': 2, 'immun': 1, 'asperg': 1, 'advac': 1, 'goultur': 1, 'therapeud': 1, 'exterm': 2, 'inetrv': 1, 'orpharyng': 1, 'whrn': 1, 'consensu': 1, 'effici': 1, 'remiss': 2, 'eosinphil': 1, 'thoras': 1, 'pippracillin': 1, 'stongi': 1, 'inflamatori': 2, 'spin': 1, 'exr': 1, 'dietet': 3, 'gental': 1, 'ducolax': 1, 'easleir': 1, 'dysmorph': 1, 'grad': 1, 'aip': 1, 'hapto': 1, 'hormon': 1, 'sss': 1, 'agglutin': 1, 'tuleremia': 1, 'pii': 1, 'bellow': 1, 'dysncron': 1, 'adeno': 1, 'tum': 2, 'neutrophil': 2, 'biter': 1, 'ige': 1, 'strongyloid': 1, 'dysrhythmia': 1, 'hevili': 1, 'tamsulosin': 1, 'skip': 1, 'nine': 2, 'pulmoari': 1, 'contnu': 1, 'jrci': 3, 'hypocalcemia': 1, 'pmhcad': 1, 'histo': 1, 'deminsh': 1, 'spun': 1, 'hypxoc': 1, 'org': 1, 'steriod': 3, 'fyi': 1, 'requri': 1, 'galatomonan': 1, 'platea': 1, 'overrid': 1, 'diagonisi': 1, 'sinsu': 1, 'linger': 1, 'decompen': 1, 'autoimmun': 1, 'kangaroo': 1, 'methypr': 1, 'nephrolithiasi': 3, 'alongsid': 1, 'prostatectomi': 1, 'impercept': 1, 'anecho': 1, 'darvon': 1, 'instrins': 1, 'aftern': 1, 'liek': 1, 'warn': 1, 'weel': 1, 'oxybutynin': 1, 'denis': 1, 'propoxyphen': 1, 'wiil': 1, 'cci': 1, 'pper': 1, 'arthrodesi': 1, 'amout': 1, 'danazol': 1, 'unpurpos': 1, 'aberrantli': 1, 'turp': 1, 'appi': 1, 'uncertainti': 1, 'espiratori': 1, 'cystoscop': 1, 'glacuoma': 1, 'levoxyl': 1, 'thrombopoetin': 1, 'patietn': 1, 'elyt': 1, 'rhabdo': 1, 'asrriv': 1, 'hyperplasia': 1, 'esopog': 1, 'fl': 1, 'withdrawen': 1, 'recdiev': 1, 'leukopenia': 1, 'segemtn': 1, 'naficillin': 1, 'keton': 2, 'tpp': 2, 'influzena': 1, 'protract': 1, 'awiat': 1, 'nafcillin': 1, 'cistacurim': 1, 'dobutaminin': 1, 'scenario': 1, 'donutamn': 1, 'recew': 1, 'bicard': 1, 'neuromuscular': 5, 'hish': 1, 'initiait': 1, 'gastro': 1, 'pancx': 1, 'protnix': 1, 'ste': 2, 'xigri': 1, 'vegileo': 1, 'fewminut': 1, 'italian': 1, 'reintroduct': 1, 'catastroph': 1, 'leveph': 1, 'hopsit': 1, 'immin': 2, 'morph': 1, 'octreotid': 3, 'tendenc': 1, 'finbrinogen': 1, 'reviv': 1, 'flor': 1, 'summon': 1, 'varici': 1, '^sed': 1, 'vaspressin': 1, 'bilaterl': 1, 'incl': 4, 'child': 2, 'curretnli': 1, 'peesist': 1, 'estrang': 1, 'brbpr': 1, 'lavtat': 1, 'ambival': 2, 'solutiuon': 1, 'harsher': 1, 'denser': 2, 'file': 2, 'fpr': 1, 'mroe': 1, 'mdag': 2, 'queri': 4, 'dvtpleas': 1, 'unilater': 4, 'mar': 2, 'betweeen': 1, 'sfv': 1, 'comparis': 1, 'hemoconcentr': 1, 'microorg': 2, 'tibc': 1, 'twi': 2, 'compound': 2, 'denot': 1, 'congreg': 1, 'frail': 2, 'lactamas': 1, 'betablock': 2, 'thyroxin': 1, 'othervis': 2, 'ferritin': 1, 'ovrenight': 1, 'airflow': 2, 'mural': 2, 'seemingli': 1, 'withdrawan': 1, 'costophr': 1, 'cardiophren': 2, 'volumetr': 3, 'tomographi': 2, 'sternum': 2, 'omnipaqu': 4, 'solitari': 1, 'millimetr': 1, 'fract': 1, 'epicardi': 2, 'kerley': 2, 'infraclavicular': 1, 'unmodifi': 1, 'mycobacteri': 1, 'hemithorac': 5, 'sedond': 1, 'mildi': 2, 'spicul': 1, 'radioopac': 1, 'depict': 1, 'cavitari': 3, 'hyperthyroid': 1, 'direction': 1, 'unfold': 1, 'hypoechogen': 1, 'calic': 1, 'cbd': 2, 'osteosclerot': 1, 'cau': 1, 'ligament': 1, 'ankylos': 1, 'bulla': 2, 'upj': 1, 'hepatobiliari': 5, 'cavit': 3, 'syndesmophyt': 1, 'ventrcular': 1, 'spondyl': 1, 'longitudin': 1, 'cerebri': 1, 'peron': 5, 'brachiocepahl': 1, 'sac': 2, 'locula': 1, 'jbre': 1, 'carcinomatosi': 1, 'pneumothorac': 2, 'hyperostosi': 1, 'department': 2, 'talc': 1, 'multisequ': 1, 'frontali': 1, 'pleurodesi': 1, 'supratentori': 1, 'hyperintens': 1, 'falx': 1, 'deriv': 2, 'omentum': 1, 'ovarian': 1, 'pvt': 1, 'distr': 2, 'hyperecho': 4, 'pelviectasi': 1, 'interav': 1, 'cnsd': 1, 'careplan': 2, 'arhb': 2, 'jxkc': 2, 'retrospect': 1, 'nag': 1, 'uncomfor': 1, 'supratherapeuticleukocytosi': 1, 'cleaner': 3, 'cleanz': 1, 'axon': 1, 'emg': 1, 'pedicl': 1, 'bill': 1, 'acr': 1, 'calciumacet': 1, 'hoars': 1, 'diphteheroid': 1, 'denerv': 1, 'speci': 1, 'midbrain': 1, 'anterolisthesi': 1, 'cvicu': 1, 'corynebacterium': 1, 'axilari': 1, 'retroperi': 1, 'myasthen': 1, 'electrophysiolog': 1, 'llg': 1, 'myelopathi': 1, 'phlegmon': 1, 'doppleralb': 1, 'hypopnea': 1, 'prot': 2, 'extubatd': 1, 'tartrat': 3, 'volit': 1, 'anasara': 1, 'erval': 1, 'proctectomi': 1, 'polyneuropathi': 1, 'ay': 1, 'myoneuropathi': 1, 'sticker': 1, 'hypotn': 1, 'synapt': 1, 'doss': 1, 'oyt': 1, 'stump': 3, 'dace': 1, 'omit': 1, 'rssbi': 1, 'vasculopathi': 1, 'dess': 1, 'excis': 1, 'gprotein': 1, 'usg': 1, 'comfor': 1, 'spp': 1, 'curbsid': 1, 'nj': 1, 'moh': 1, 'rhochour': 1, 'cionsult': 1, 'retrolisthesi': 1, 'prei': 1, 'takeback': 1, 'hyperlipindemia': 1, 'klebseilla': 1, 'hyperchlorem': 1, 'pml': 1, 'sensorimotor': 1, 'spondylolysi': 1, 'botul': 1, 'cnsc': 1, 'cololostomi': 1, 'schisto': 1, 'psoa': 1, 'circ': 1, 'schatzki': 1, 'nost': 1, 'extrathorac': 2, 'student': 2, 'atnf': 1, 'hemosiderin': 1, 'ldn': 1, 'cornebacterium': 1, 'ti': 1, 'gpro': 1, 'fascial': 1, 'myopath': 1, 'purplish': 1, 'msiv': 2, 'inactiv': 1, 'desynchron': 3, 'ertapenem': 1, 'cosamin': 1, 'zolpidem': 1, 'dirti': 2, 'ascertain': 1, 'dysycron': 1, 'beard': 1, 'dissynchron': 2, 'currenltli': 1, 'excavatum': 1, 'dysyncroni': 1, 'suctionedx': 1, 'ih': 2, 'nf': 1, 'conssit': 1, 'opporun': 1, 'spri': 1, 'benzonat': 1, 'painter': 1, 'inact': 2, 'nu': 1, 'pectu': 1, 'lmid': 1, 'reble': 1, 'desyncron': 1, 'wore': 1, 'oragan': 1, 'avnrt': 2, 'woren': 1, 'soln': 1, 'oversea': 1, 'normoact': 2, 'ipd': 1, 'platpressur': 1, 'born': 1, 'mucormyst': 1, 'sandblast': 1, 'dyschroni': 1, 'omeprazol': 1, 'nondil': 1, 'sytem': 1, 'conven': 1, 'ind': 1, 'pjp': 1, 'pneuomedistinum': 1, 'sarcoma': 1, 'thoracostomi': 1, 'sidehol': 2, 'kaposi': 1, 'extrapleur': 1, 'pneumothrax': 1, 'pneu': 1, 'obliter': 2, 'enya': 2, 'hyperextend': 1, 'jiroveci': 1, 'opciti': 1, 'xerofoam': 1, 'methados': 1, 'resudu': 1, 'mgc': 1, 'satt': 1, 'gastriti': 1, 'streptococc': 1, 'ggancyclovir': 1, 'subjunctiv': 1, 'linazolid': 1, 'biater': 1, 'abscent': 1, 'toleratedongo': 1, 'pretibi': 1, 'pulmn': 1, 'tradit': 1, 'lactilub': 1, 'afrebril': 1, 'continuelactilub': 1, 'succeed': 1, 'templ': 1, 'opthamolog': 1, 'inchang': 1, 'rotopron': 1, 'standpoint': 3, 'engulf': 1, 'oscil': 1, 'exce': 1, 'valium': 2, 'cistacurium': 1, 'occaission': 1, 'pnuemothorax': 1, 'concur': 2, 'pnemo': 1, \"c'ing\": 1, 'sanquin': 1, 'satsin': 1, 'cist': 1, 'chemosi': 1, 'visciou': 1, 'repron': 1, 'metolozon': 1, 'endpoint': 1, 'chemiosi': 1, 'applli': 1, 'psvlevel': 1, 'treatabl': 1, 'fenatanyl': 1, 'xfuse': 1, 'exogen': 1, 'arvp': 1, 'gancyclovir': 1, 'persis': 2, 'erythem': 1, 'cistracurium': 1, 'cheek': 1, 'nimbex': 1, 'tfresidu': 1, 'opthalmolog': 1, 'plow': 1, 'trale': 1, 'voriconazol': 1, 'immunoglobulin': 1, 'thrombin': 1, 'recit': 1, 'ecmo': 1, 'llast': 1, 'hyp': 1, 'ou': 1, 'anteromedi': 1, 'serosangiun': 1, 'homodynam': 1, 'likey': 1, 'consistentlli': 1, 'dieresi': 1, 'fulfil': 1, 'plo': 1, 'radiopaqu': 3, 'nitrixoxid': 1, 'cisaturcoruim': 1, 'trali': 1, 'infx': 1, 'cisatracurim': 1, 'bmtx': 1, 'destat': 2, 'bactim': 1, 'clorid': 1, 'anu': 1, 'prome': 1, 'pie': 1, 'tve': 1, 'ladi': 2, 'paralys': 1, 'attributbl': 1, 'bileou': 1, 'proprofol': 1, 'sildenafil': 1, 'rota': 1, 'cistastacurium': 1, 'opthal': 1, 'crazi': 1, 'cisastacurium': 1, 'troli': 1, 'inflitr': 1, 'gvh': 1, 'moth': 1, 'conj': 1, 'intervascularyli': 1, 'reinflat': 1, 'milli': 1, 'tdecreas': 1, 'interestingli': 1, 'parlyt': 1, 'dfe': 1, 'nystain': 1, 'diazepam': 1, 'deflat': 1, 'nitrou': 1, 'specialti': 1, 'intuab': 1, 'tolar': 1, 'dehydrogenas': 1, 'biphas': 1, 'phigh': 1, 'idea': 1, 'aprreci': 1, 'nitic': 1, 'phi': 1, 'lamivudin': 1, 'reparalyz': 1, 'rotapron': 1, 'buddist': 1, 'familiy': 1, 'subconjunctiv': 1, 'mycafungin': 1, 'cisastracurium': 1, 'flexicel': 1, 'barrotrauma': 2, 'bubl': 1, 'inspit': 3, 'dyssynchroni': 2, 'cisctracurium': 1, 'retin': 1, 'south': 1, 'unchangedand': 1, 'outlet': 2, 'oment': 1, 'umbilicu': 1, 'conduit': 1, 'ercp': 3, 'pneumobilia': 2, 'ehab': 3, 'hydroureteronephrosi': 1, 'idenitif': 1, 'accentu': 1, 'prove': 1, 'pbishop': 2, 'kkgc': 3, 'recom': 1, 'divers': 1, 'cystectomi': 1, 'ileal': 1, 'pbec': 2, 'urostomi': 1, 'noteworthi': 1, 'intrapulmonari': 1, 'sniff': 1, 'tasp': 1, 'meatal': 1, 'intracerebr': 1, 'parvu': 1, 'fasoli': 1, 'aji': 3, 'enteroccoc': 1, 'malpost': 1, 'verg': 1, 'dna': 1, 'tardu': 1, 'retrograd': 1, 'listeria': 1, 'ureter': 1, 'aprenchym': 1, 'aspf': 1, 'maa': 1, 'mci': 1, 'dtpa': 1, 'radlin': 1, 'discoveri': 2, 'radiopharmaceut': 1, 'plum': 1, 'shorter': 1, 'internvet': 1, 'baloon': 1, 'unconsci': 1, 'fingerbreadth': 1, 'intab': 1, 'cessat': 1, 'caudal': 1, 'upsiz': 2, 'venotomi': 2, 'inadvert': 1, 'huddl': 2, 'pneumopericardium': 1, 'thyromegali': 1, 'scx': 1, \"'lyte\": 1, 'logic': 1, 'aquir': 1, 'stabiol': 1, 'wdwn': 1, 'xii': 1, 'silloutt': 1, 'fouind': 1, 'bode': 1, 'cnii': 1, 'blossom': 1, 'natg': 3, 'costal': 2, 'mjmgb': 3, 'intubatedclin': 1, 'diaphgram': 1, 'hemidiaphragmat': 1, 'intervertebr': 2, 'rarefact': 1, 'radicl': 1, 'atelectas': 2, 'chronicli': 1, 'cholestat': 2, 'effu': 1, 'subpulmon': 1, \"trach'd\": 1, 'psuedomona': 1, 'distol': 1, 'corticomedullari': 1, 'calculi': 1, 'retroaort': 1, 'bileaflet': 1, 'faiulr': 1, 'thechang': 1, 'technologist': 1, 'habitu': 2, 'lltc': 1, 'gsenapati': 2, 'gmsj': 1, 'hemipelvi': 1, 'mxak': 1, 'metoprol': 1, 'klebsiella': 2, 'benadryl': 2, 'kleb': 1, 'kyphoplasti': 2, 'riesman': 1, 'unasyn': 1, 'angri': 1, 'paremet': 1, 'mra': 2, 'bbl': 1, 'patientpercodan': 1, 'embarrass': 1, 'frapp': 1, 'percodan': 1, 'micron': 3, 'eater': 1, 'metatstat': 1, 'hffm': 1, 'orthostat': 2, 'hrct': 1, 'enterococc': 1, 'disgust': 1, 'invalid': 2, 'hypersentit': 1, 'chocol': 1, 'undercontrol': 1, 'anger': 1, 'suprastom': 1, 'ivt': 1, 'autonom': 1, 'inlaw': 1, 'afew': 1, 'neglect': 1, 'nsip': 2, 'breakfast': 1, 'itp': 2, 'calmli': 1, 'augmentin': 1, 'usag': 1, 'entercocci': 1, 'hp': 1, 'recordspercodan': 1, 'nonvisu': 1, 'banana': 1, 'gentler': 1, 'overfeed': 1, 'phargnx': 1, 'pansensit': 1, 'western': 1, 'cour': 1, 'sjorgen': 1, 'cdb': 1, 'afrin': 1, 'oler': 1, 'orang': 1, 'scoop': 1, 'pharygx': 1, 'salt': 1, 'oer': 1, 'pharygnx': 1, 'echhymosi': 1, 'polypectomi': 1, 'fuction': 1, 'egop': 1, 'noseble': 1, 'uncultur': 1, 'rusb': 1, 'rigth': 1, 'whitmil': 1, 'toprol': 2, 'failu': 1, 'nasotrachi': 1, 'metprolol': 1, 'etco': 1, 'cetuximab': 2, 'incorrectli': 1, 'alevyn': 1, 'aspiraiton': 1, 'xl': 1, 'unassist': 2, 'toung': 1, 'mie': 1, 'appox': 1, 'modestli': 1, 'scc': 1, 'apporpri': 1, 'videoswallow': 1, 'adeuqu': 1, 'alkylosi': 1, 'hypecarb': 1, 'driven': 3, 'auditori': 1, 'whish': 1, 'safest': 1, 'scca': 2, 'flut': 1, 'provd': 1, 'wrinkl': 1, 'factori': 1, 'cardiomedistin': 1, 'aorticopulmonari': 1, 'fee': 1, 'situationclip': 1, 'periprosthesi': 1, 'ec': 1, 'proteas': 1, 'hematemsi': 1, 'amiodoran': 1, 'capsul': 2, 'gastroenter': 1, 'hematemesi': 1, 'minist': 1, 'memantin': 1, 'tolterodin': 2, 'patanol': 1, 'actuat': 1, 'ultras': 1, 'olopatadin': 1, 'laryngoscopi': 1, 'ophthalm': 1, 'trazodon': 1, 'benazepril': 1, 'nasonex': 1, 'chewabl': 1, \"'lcbi\": 1, 'intuba': 1, 'gemcitabin': 1, 'ld': 1, 'rdw': 1, 'triglyc': 1, 'american': 1, 'ldlcalc': 1, 'pituitari': 1, 'globuln': 1, 'hba': 1, 'totprot': 1, \"'lhbi\": 1, 'vinorelbin': 1, 'estgfr': 1, 'intubat': 1, 'renalep': 1, 'xs': 1, 'mch': 1, 'ctropnt': 1, 'paclitaxel': 1, \"'lcba\": 1, 'cgi': 1, 'ostelamavir': 1, 'trig': 1, 'ingrowth': 1, 'cisplatin': 1, 'urean': 1, 'hdl': 1, 'caltco': 1, 'baso': 1, 'calhco': 1, 'african': 1, 'totbili': 1, 'gender': 1, 'isoenzym': 1, 'miscellan': 1, 'rohila': 1, 'hypercholestolemia': 1, 'mchc': 1, 'erlotinib': 1, 'alkpho': 1, 'cholest': 1, \"'expand\": 1, 'secretiion': 1, 'intercost': 3, 'urobiln': 1, 'dipstick': 1, 'dirbili': 1, \"'lhbc\": 1, 'trans': 1, 'mcv': 2, 'microscop': 2, 'ldl': 1, 'uricacd': 1, 'intrepretor': 1, 'bilirub': 1, 'docetaxel': 1, 'pravastatin': 1, 'carboplatin': 1, 'angap': 1, 'symmetri': 1, 'adepqu': 1, 'cortex': 2, 'calvari': 1, 'occiput': 1, 'uptak': 1, 'adepquatel': 1, 'callu': 1, 'wing': 1, 'def': 1, 'convex': 2, 'occipit': 1, 'rsrc': 1, 'homogen': 1, 'humeri': 1, 'myelomat': 1, 'shaft': 1, 'skeleton': 1, 'magnum': 1, 'survey': 1, 'tumesc': 1, 'preoper': 2, 'noncardiogen': 1, 'bronchocentr': 1, 'txfr': 1, 'rulobectomi': 1, 'postop': 2, 'hydropneumothorac': 1, 'arthrosclerot': 1, 'aert': 1, 'artherosclerot': 1, 'intersept': 1, 'findingsd': 1, 'adynam': 1, 'lymphangiitc': 1, 'densest': 1, 'inctrabdomin': 1, 'inth': 1, 'unenhanc': 1, 'adenocarcinoma': 1, 'preexist': 1, 'akinet': 1, 'lobular': 1, 'descrb': 1, 'cylindr': 1, 'patter': 1, 'pleurisi': 1, 'penia': 1, 'cub': 1, 'threshod': 1, 'hepato': 2, 'dobutmain': 1, 'cale': 1, 'thrombocyto': 1, 'debril': 1, 'unlad': 1, 'biacrb': 1, 'conult': 1, 'agion': 1, 'burgundi': 1, 'resond': 1, 'loadind': 1, 'hu': 1, 'leart': 1, 'eco': 1, 'childbirth': 1, 'psuh': 1, 'coagulopath': 1, 'azithromax': 1, 'haematuria': 1, 'counsult': 1, 'inotrpi': 1, 'eith': 1, 'overestim': 1, 'hpeatolog': 1, 'bicep': 2, 'scopalimin': 1, 'mailto': 1, 'ib': 1, 'perocardium': 1, 'heptaolog': 1, 'cardriovers': 1, 'tachyacria': 1, 'decras': 1, 'gwp': 2, 'gwlm': 1, 'afig': 1, 'fkuid': 1, 'patellar': 2, 'asterixi': 2, 'actiuv': 1, 'rfa': 1, 'friabl': 1, 'planof': 1, 'ifn': 1, 'arrythmogen': 1, 'vtac': 1, 'bivent': 1, 'uncommon': 1, 'tachicard': 1, 'adj': 1, 'intrtstitium': 1, 'contritubt': 1, 'chirrhosi': 1, 'followng': 1, 'milder': 1, 'hcc': 2, 'blou': 1, 'anmd': 1, 'plced': 1, 'mantia': 1, 'asmi': 1, 'hemodyanm': 1, 'infilitr': 1, 'despiti': 1, 'veal': 1, 'older': 1, 'supersel': 1, 'fami': 1, 'paient': 1, 'reinstutu': 1, 'palpatori': 2, 'intervenet': 1, 'tragic': 1, 'fantanyl': 1, 'backup': 1, 'behe': 1, 'vie': 1, 'notiif': 1, 'arteriogram': 2, 'argonn': 1, 'squeak': 1, 'ba': 1, 'scapolamin': 1, 'discount': 1, 'defend': 1, 'particl': 2, 'grate': 1, 'metasta': 1, 'duculox': 1, 'viser': 1, 'cauteri': 1, 'couter': 1, 'deploy': 1, 'ecopi': 1, 'rhonchj': 1, 'lexipro': 1, 'hctthi': 1, 'bleeder': 1, 'cauter': 1, 'epidur': 1, 'hemopysi': 1, 'embo': 2, 'flux': 1, 'comfot': 1, 'embospher': 2, 'angiogram': 1, 'guafenisen': 1, 'blush': 2, 'myocardium': 1, 'wqent': 1, 'prnbolus': 1, 'nest': 1, 'sel': 1, 'ly': 1, 'argon': 1, 'benedryl': 1, 'laptop': 1, 'reattampt': 1, 'shitft': 1, 'bandaid': 1, 'intrathec': 1, 'microcathet': 1, 'fbca': 2, 'engin': 1, 'hosptil': 1, 'requrin': 1, 'super': 2, 'renegad': 1, 'cervicocerbr': 1, 'hyperexpand': 1, 'mammari': 1, 'omniflush': 1, 'hemopytsi': 1, 'cannul': 1, 'stc': 1, 'aortogram': 1, 'hyperexpans': 1, 'trancathet': 1, 'apicoposterior': 1, 'vetil': 1, 'infero': 1, 'schizoaffect': 1, 'congestiona': 1, 'collom': 1, 'noncompress': 1, 'semiupright': 1, 'sjbj': 1, 'gynecomastia': 1, 'dlp': 2, 'mgi': 2, 'colonoscopi': 1, 'pnumothorax': 1, 'apoptot': 1, 'octeotrid': 1, 'periodclip': 1, 'dophoff': 1, 'nasointestin': 1, 'precip': 1, 'angiodynam': 2, 'cirrhot': 1, 'eg': 1, 'steatosi': 1, 'girth': 1, 'peelaway': 1, 'heterozyg': 1, 'pneomothorax': 1, 'pd': 2, 'mononuclear': 1, 'trichrom': 1, 'vicryl': 2, 'avalu': 1, 'perisept': 1, 'ssuspect': 1, 'mlkb': 3, 'hemachromatosi': 1, 'chylou': 1, 'anesthet': 2, 'antitrypsin': 1, 'avm': 3, 'arterioven': 1, 'exch': 2, 'emant': 1, 'text': 1, 'cryptogen': 1, 'hfe': 1, 'chylothorax': 1, 'sinusoid': 1, 'tonsillectomi': 1, 'creatnin': 1, 'malform': 1, 'cha': 1, 'multiphas': 1, 'vareci': 1, 'birth': 2, 'hepatocyt': 1, 'endarterectomi': 1, 'cirhhosi': 1, 'chgc': 2, 'cryo': 1, 'paxil': 1, 'infction': 1, 'arenon': 1, 'simvastain': 1, 'lllinfiltr': 1, 'pivot': 1, 'mitrial': 1, 'sputem': 1, 'cae': 1, 'prusu': 1, 'flet': 1, 'coronoari': 1, 'parapneumonia': 1, 'ergotamin': 1, 'lateri': 1, 'dteremin': 1, 'suppliment': 1, 'rheumat': 1, 'sydrom': 1, 'disas': 1, 'losartan': 1, 'donepzil': 1, 'mangement': 1, 'paroxetin': 1, 'ureathr': 1, 'insent': 1, 'dysarthria': 1, 'refrain': 1, 'nicat': 1, 'vasodilatori': 1, 'hemi': 2, 'tng': 1, 'vaco': 1, 'dispar': 1, 'promiment': 1, 'unstaedi': 1, 'recordsno': 1, 'invok': 1, 'biotic': 1, 'depr': 1, 'intersiti': 3, 'medoic': 1, 'filament': 1, 'artifactu': 2, 'oncot': 1, 'nonerythemat': 1, 'asymmet': 1, 'conern': 1, 'halv': 1, 'alten': 1, 'hc': 1, 'crestor': 1, 'angina': 1, 'grandaught': 1, 'lambl': 1, 'maalox': 1, 'centru': 1, 'meanin': 1, \"lft'\": 1, 'excres': 1, 'thirst': 1, 'calv': 2, 'deduct': 2, 'humidif': 1, 'financ': 1, 'tachcardia': 1, 'ntnd': 2, 'sugget': 1, 'medialstin': 1, 'mediatin': 1, 'effis': 1, 'paint': 1, 'intfiltr': 1, 'premier': 1, 'shore': 1, 'wheezez': 1, 'wander': 1, 'enifit': 1, 'succinyulcholin': 1, 'trak': 1, 'trachestomi': 1, 'thoroughli': 1, 'peristals': 1, 'pelvocalic': 1, 'calculu': 1, 'mate': 1, 'pleae': 1, 'paramediastin': 1, 'upr': 1, 'vancopmycin': 1, 'kump': 1, 'hemoperitoneum': 1, 'consciou': 1, 'evlaut': 1, 'larazepam': 1, 'compars': 1, 'periaort': 1, 'negoti': 1, 'cjmt': 1, 'gmpd': 1, 'meastat': 1, 'frog': 1, 'trapezoid': 1, 'mycetoma': 1, 'myocytoma': 1, 'ununit': 1, 'nep': 1, 'polydipsia': 1, 'intot': 1, 'isusu': 1, 'besyl': 1, 'nifedipin': 1, 'miacalcin': 1, 'precedex': 1, 'welcom': 1, 'lightheaded': 1, 'undiagnos': 1, 'nephrot': 1, 'satisfact': 1, 'calcitonin': 1, 'avium': 1, 'salmon': 1, 'wretch': 1, 'mac': 2, 'dexmedetomidin': 1, 'acuiti': 1, 'mycobacterium': 1, 'fati': 1, 'undecid': 1, 'pda': 2, 'spondylosi': 1, 'azythro': 1, 'solmederol': 1, 'fluild': 1, 'amidaron': 1, 'dehis': 1, 'admidaton': 1, \"leni'\": 1, 'detal': 1, 'pnenmonectomi': 1, 'reasaon': 1, 'stabilil': 1, 'minimz': 1, 'disinclin': 1, 'rough': 1, 'exel': 1, 'coll': 1, 'squameou': 1, 'bronchopneumonectomi': 1, 'cortosol': 1, 'bronchopleur': 2, 'amiodarin': 1, 'hyperpotassemia': 1, 'driver': 1, 'bronchopulmonari': 1, 'repiatori': 1, 'uni': 1, 'spectral': 1, 'hypertent': 1, 'aztreonum': 1, 'resussit': 1, 'althoug': 1, 'subglottal': 1, 'uncomfortbal': 1, 'hemodyanam': 1, 'mimic': 2, 'extract': 2, 'ventiat': 1, 'reconfirm': 1, 'loudest': 1, 'yoga': 1, 'ywca': 1, 'rsvi': 1, 'secrit': 1, 'desaturateion': 1, 'indefinit': 1, 'exac': 1, 'locomot': 1, 'ascrib': 1, 'pege': 1, 'unspeci': 1, 'defintit': 1, 'faclid': 1, 'lmn': 1, 'prom': 1, 'clinical': 1, 'memeb': 1, 'performac': 1, 'hypoton': 1, 'arom': 1, \"family'\": 1, 'vvia': 1, 'acidosisi': 1, 'lactalos': 1, 'midax': 1, 'currentt': 1, 'cea': 2, 'axtreonam': 1, 'disintigr': 1, 'tremiti': 1, 'roadtrip': 1, 'enitr': 1, 'dermat': 1, 'mmt': 1, 'closelyt': 1, 'gtibe': 1, 'reticularnodular': 1, 'conisd': 1, 'anaphylaxi': 1, 'maintiain': 1, 'sedret': 1, 'ers': 1, 'xcray': 1, 'unrespos': 1, 'aarom': 1, 'tommorow': 1, 'arranag': 1, 'reclarifi': 1, 'simultaen': 1, 'cxc': 1, 'neet': 1, 'pite': 1, 'intersti': 2, 'solumedtrol': 1, 'tingu': 1, 'thereof': 1, 'monitorec': 1, 'depenc': 1, 'presenti': 1, 'tyloenol': 1, 'mmdri': 1, 'emphasi': 1, 'respriatori': 1, 'tachynpea': 1, 'derang': 1, 'dhghfhdlhkl': 1, 'updatefamili': 1, 'mute': 1, 'atrio': 2, 'tbm': 1, 'juxtahilar': 1, 'hemoptisi': 1, 'fev': 1, 'ctr': 2, 'airborn': 2, 'donepizil': 1, 'tropi': 1, 'unrepons': 1, 'thallasemia': 1, 'mutlifoc': 1, 'revealedt': 1, 'thalassemia': 1, 'alkalos': 1, 'tuberculosi': 2, 'calvaria': 1, 'ileocec': 1, 'nari': 1, 'stom': 1, 'opaqu': 1, 'radio': 1, 'dental': 1, 'pector': 2, 'gunshot': 1, 'crown': 1, 'magnesia': 1, 'respodn': 1, 'presistantli': 1, 'downtrend': 1, 'dti': 1, 'tendon': 1, 'resorpt': 1, 'protamin': 1, 'antacid': 1, 'uppper': 1, 'iddm': 1, 'aspiratin': 1, 'cafeteria': 1, 'cart': 1, 'novolin': 1, 'liekli': 1, 'antidot': 1, 'thrussh': 1, 'pulsat': 1, 'grape': 1, 'reaccess': 1, 'brachioradiali': 1, 'comtinu': 1, 'gangren': 1, 'pyridostigmin': 1, 'blancheabl': 1, 'pigment': 1, 'baslin': 1, 'pmb': 1, 'steadal': 1, \"alzheimer'\": 1, 'myasthenia': 1, 'zyosyn': 1, 'hospis': 1, 'pneumotharax': 1, 'conceiv': 1, 'hyperemia': 1, 'proc': 1, 'peumothorax': 1, 'reidentifi': 1, 'subcutaen': 1, 'rjab': 1, 'pw': 1, 'subseg': 1, 'interlobular': 1, 'nmka': 1, 'cervicothorac': 1, 'smooth': 1, 'slice': 1, 'atrioventricular': 1, 'arter': 1, 'rahni': 1, 'circular': 1, 'targetoid': 1, 'suprasellar': 1, 'perpher': 1, 'likel': 1, 'tel': 1, 'scalp': 1, 'cryptococcu': 1, 'diag': 1, 'streptococcu': 1, 'cryptococcosi': 1, 'tdi': 1, 'respirophas': 1, 'subactu': 1, 'arthralgia': 1, 'irrhythm': 1, 'nob': 1, 'donor': 2, 'mbi': 1, 'andcvc': 1, 'dissoci': 1, 'ventilaiton': 1, 'thickedn': 1, 'tomak': 1, 'midazalam': 1, 'maximin': 1, 'arrthym': 1, 'grant': 1, 'pulmnonari': 1, 'sugggest': 1, 'abdomn': 1, 'twelv': 1, 'kitchen': 1, 'scrap': 1, 'splenomeg': 1, 'burn': 1, 'friablilti': 1, 'friabil': 1, 'lover': 1, 'fibriogen': 1, 'mivf': 1, 'transpulmon': 1, 'trimetoprim': 1, 'emv': 1, 'ndg': 1, 'intrpulmonari': 1, 'dollar': 1, '$': 1, 'pcr': 1, 'corticosteroid': 1, 'bmv': 1, 'sulfameth': 1, 'rhoncrou': 1, 'muscos': 1, 'leve': 1, 'chrnic': 1, 'prodiv': 1, 'critaid': 1, 'settign': 1, 'sphincterotomi': 1, 'afp': 1, 'echymos': 1, 'hme': 1, 'choledocolithiasi': 1, 'frompt': 1, 'lowerin': 1, 'macer': 1, 'myelosuppress': 1, 'mtb': 1, 'inter': 1, 'flight': 1, 'atheromat': 1, 'tall': 1, 'cce': 1, 'sah': 1, 'unclot': 1, 'wellbutrin': 1, 'gadolinium': 1, 'dimension': 1, 'underwhelm': 1, 'arteriographi': 1, 'mwf': 1, 'sdh': 1, 'aphac': 1, 'prozac': 1, 'llb': 1, 'usus': 1, 'paresi': 1, 'salvag': 1, 'goutm': 1, 'npne': 1, 'gemzar': 1, 'inn': 1, 'umb': 1, 'patientpenicillin': 1, 'pmeumonia': 1, 'fuel': 1, 'hydromorphon': 1, 'panc': 1, 'gastroparesi': 1, 'cyberknif': 1, 'macrolid': 1, 'worsten': 1, 'colicki': 1, 'dalilah': 1, 'mucinex': 1, 'rhonchu': 1, 'guaifenisin': 1, 'lypmhangit': 1, 'perspect': 1, 'failuir': 1, 'im': 1, 'summar': 1, 'sicua': 1, 'bedsidepronounc': 1, 'spb': 1, 'bedisd': 1}, 'pneumonia_alive': {'vtach': 12, 'bactrim': 77, 'dilat': 415, 'outpati': 135, 'flatten': 41, 'reaction': 314, 'balanc': 401, 'pass': 292, 'histori': 810, 'lack': 97, 'osseou': 210, 'cardiac': 664, ')': 1005, 'limit': 539, 'law': 35, 'leaflet': 273, 'shift': 551, 'hypotens': 319, 'wall': 437, 'window': 181, 'fluid': 718, 'cc': 645, 'sign': 496, 'boost': 29, 'r': 770, 'cap': 163, 'sever': 621, 'request': 267, 'afebril': 541, 'obtain': 651, 'mass': 319, 'moder': 648, 'mg': 632, 'ob': 89, 'watch': 107, 'may': 654, 'year': 906, 'cv': 669, 'weak': 310, 'clindamycin': 37, 'cx': 390, 'site': 295, 'daughter': 231, 'sampl': 146, 'evid': 702, 'presenc': 112, 'pleas': 669, 'ok': 172, 'onc': 306, 'assist': 375, 'id': 418, 'overload': 256, 'diagnosi': 851, 'toler': 634, 'lasix': 354, 'pnd': 98, 'pend': 497, 'gu': 460, 'cooper': 284, 'product': 536, 'inform': 489, 'yellow': 491, 'good': 567, 'indic': 849, 'levo': 181, 'stool': 632, 'start': 572, 'wave': 411, 'plan': 683, 'mildli': 409, '[': 430, 'occasion': 328, 'take': 439, 'signific': 605, 'requir': 554, 'trip': 17, 'bone': 218, 'ginger': 8, 'current': 625, 'base': 779, 'coron': 171, 'circumferenti': 23, 'consult': 357, 'seen': 785, 'excurs': 79, 'height': 490, 'clip': 821, 'view': 511, 'abdomen': 553, 'old': 918, 'patent': 424, 'nontend': 94, 'thick': 542, 'predominantli': 96, 'port': 348, 'place': 726, 'effect': 461, 'endstag': 1, 'kidney': 248, 'sob': 532, 'within': 541, 'orient': 503, 'grade': 205, 'cathet': 501, 'specif': 362, 'tx': 307, 'mdct': 152, 'conclus': 290, 'puls': 532, 'crackl': 389, 'pmh': 390, 'process': 392, 'therapi': 300, 'discomfort': 230, 'npn': 284, 'urin': 669, '%': 832, 'futher': 19, 'size': 685, 'pcv': 7, 'secondari': 331, 'examin': 921, 'caviti': 320, 'none': 536, 'uo': 226, 'bracial': 1, 'u': 574, 'find': 853, 'command': 522, 'lt': 128, 'alert': 514, 'regular': 358, 'woman': 385, 'sclerot': 105, 'feel': 316, 'pedal': 140, 'sip': 118, 'code': 583, 'opac': 661, 'singl': 426, 'anoth': 175, 'unsteadi': 21, 'delay': 162, 'aid': 96, 'left': 971, 'around': 300, 'rest': 457, 'estim': 171, 'palpabl': 159, 'sat': 722, 'pt': 729, 'sepsi': 230, 'depress': 232, 'dyspnea': 328, 'contact': 358, 'tendon': 13, 'suspici': 170, 'doppler': 388, 'dose': 572, 'hg': 305, 'md': 523, 'pain': 680, 'major': 144, 'lab': 577, 'pa': 418, 'gerd': 83, 'abnorm': 515, 'field': 318, 'per': 617, 'system': 432, 'tissu': 284, 'minim': 527, 'cardiomegali': 256, 'note': 885, 'rr': 626, 'admit': 928, 'eve': 109, 'impress': 852, 'hsv': 16, 'tricuspid': 262, 'foley': 541, 'pericardi': 407, 'rf': 23, 'multipl': 514, 'failur': 476, 'use': 521, 'evalu': 778, 'ab': 79, 'call': 554, 'compar': 793, 'reason': 873, 'ambien': 41, 'mark': 273, 'review': 599, 'po': 648, 'need': 683, 'neg': 494, 'right': 972, 'chf': 330, 'nausea': 204, 'greater': 256, 'ill': 271, 'motion': 364, 'festiv': 1, 'n': 409, 'lead': 345, 'overnight': 490, 'asymptomat': 85, 'bsa': 236, 'day': 675, 'pattern': 282, 'appl': 39, 'etiolog': 234, 'lytic': 133, 'new': 697, 'tv': 157, 'bp': 760, 'cont': 719, 'margin': 125, 'increas': 822, 'voltag': 155, 'pericardium': 257, 'systol': 480, 'oob': 352, 'symphysi': 46, 'thi': 1024, 'nuero': 22, 'hr': 808, 'better': 415, 'amber': 107, 'probabl': 459, 'mr': 402, 'nutrit': 375, 'prior': 824, 'diminish': 486, 'comparison': 767, 'structur': 370, 'wa': 905, 'high': 490, 'famili': 591, 'rel': 184, 'lv': 245, 'stabl': 791, 'appetit': 139, 'juic': 28, 'caridomyopathi': 1, 'leav': 107, 'pressur': 447, '&': 759, 'drink': 134, 'x': 771, 'patchi': 212, 'team': 493, 'airspac': 127, 'pneumonia': 939, 'hypokinesi': 93, 'picc': 378, 'diffus': 438, 'infarct': 248, 'statu': 861, 'ventricl': 350, 'pcp': 148, 'adren': 175, 'slightli': 559, 'see': 526, 'tachycard': 175, 'stay': 197, 'cough': 676, 'renal': 372, 'sauc': 23, 'bs': 596, 'tach': 49, 'yesterday': 453, 'earli': 270, 'trace': 670, 'ha': 906, 'desensit': 3, 'back': 537, 'initi': 447, 'night': 460, 'thrombu': 131, 'bilater': 719, 'strand': 47, 'integ': 65, 'allerg': 27, 'chair': 325, 'imag': 721, 'treat': 397, 'v': 392, 'pubi': 5, 'larg': 562, 'although': 384, 'intak': 235, 'deni': 453, 'state': 377, '#': 982, 'one': 486, 'mother': 102, 'abdomin': 444, 'rare': 188, 'report': 934, 'qr': 107, 'diff': 222, 'ns': 360, 'progress': 612, 'exclud': 382, 'tr': 245, 'sputum': 549, 'difficulti': 326, 'commod': 94, 'technic': 304, 'diagnost': 225, 'lung': 903, 'artifact': 182, 'repres': 405, 'f': 494, 'ventricular': 491, 'cold': 50, 'secret': 435, 'pleasant': 204, 'admiss': 437, 'ate': 46, 'bladder': 172, 'hypertens': 428, 'anzemet': 6, 'thicken': 411, 'ef': 158, 'haart': 18, 'echocardiograph': 98, 'ox': 221, 'line': 733, 'follow': 720, 'contrast': 593, 'veri': 539, 'area': 552, 'bedsid': 352, 'time': 801, 'reconstruct': 68, 'transfer': 630, 'suggest': 582, 'ever': 9, 'output': 334, 'final': 876, 'medic': 956, 'pelvi': 178, 'access': 497, 'concern': 483, 'eat': 204, 'mitral': 313, 'due': 678, 'larger': 110, 'ra': 381, 'inflammatori': 87, 'could': 493, 'baselin': 432, 'underli': 290, 'intact': 442, 'mid': 569, 'lesion': 363, 'collect': 164, 'gait': 73, 'myocardi': 168, 'copiou': 159, 'abx': 483, 'ambul': 163, 'l': 763, 'perspect': 7, 'also': 734, 'possibl': 682, 'last': 583, '>': 710, 'attenu': 67, 'dri': 352, 'br': 22, 'free': 499, 'involv': 293, 'ep': 28, 'full': 650, 'hemodynam': 487, 'femal': 269, 'sound': 587, 'antibiot': 485, 'glass': 179, 'enlarg': 430, 'liver': 260, 'amount': 496, 'tmax': 459, 'mac': 12, 'sleep': 398, 'interv': 673, 'soft': 703, 'pulmonari': 827, 'strength': 164, 'consist': 636, 'colon': 169, 'focus': 50, 'blood': 576, 'administr': 243, 'unabl': 451, \"'s\": 711, 'variant': 37, 'sinu': 725, 'frequent': 374, 'sent': 561, 'leak': 165, 'limb': 131, 'spleen': 186, 'bibasilar': 301, ']': 427, 'felt': 164, 'micu': 575, 'date': 670, 'induc': 87, 'green': 106, 'without': 687, 'st': 515, 'hungri': 35, 'comment': 461, 'tte': 305, 'color': 475, 'upper': 731, 'harrt': 2, 'frothi': 41, 'chang': 980, 'studi': 754, 'nsg': 167, 'regurgit': 278, 'temp': 382, 'today': 664, 'antecub': 23, 'monitor': 688, 'normal': 849, 'skin': 664, 'ct': 617, 'precordi': 101, 'show': 508, 'result': 579, 'sagitt': 161, 'sm': 207, 'lb': 256, 'fe': 35, 'clear': 782, 'iv': 811, 'w': 820, 'non': 755, '@': 435, 'anterior': 345, 'white': 329, 'crf': 26, 'pm': 869, 'higher': 117, 'c': 778, 'resp': 651, 'spec': 121, 'adjust': 182, 'side': 609, 'bowel': 570, 'effus': 838, 'exam': 513, 'infecti': 232, 'arteri': 625, 'liquid': 342, 'pr': 204, 'biaxin': 1, 'coars': 409, 'abl': 525, 'small': 773, 'pic': 84, 'affect': 91, 'med': 597, 'elev': 528, 'cours': 437, 'unremark': 350, 'gallbladd': 166, 'remain': 738, 'weight': 528, 'cranberri': 4, 'protocol': 188, 'sptum': 2, 'axial': 254, 'much': 359, 'hiv': 63, 'amt': 540, 'breath': 645, 'correl': 281, 'adequ': 525, 'cxr': 545, 'nurs': 527, 'tamponad': 47, 'rv': 258, 'pulmon': 188, 'wors': 177, 'physiolog': 185, 'avoid': 138, 'edema': 741, 'pvc': 241, 'atrium': 362, 'global': 176, 'pleural': 753, 'loos': 232, 'onset': 93, 'absent': 249, 'clamp': 74, 'interpret': 326, 'anasarca': 74, 'gi': 567, 'npo': 408, 'mild': 707, '(': 1005, 'le': 183, 'previou': 774, 'prophylaxi': 349, 'prespar': 2, 'persist': 524, 'valv': 370, 'fals': 14, 'poor': 441, 'ectopi': 402, 'throughout': 532, 'event': 483, 'rt': 262, 'ls': 460, 'yr': 153, 'patient': 869, 'neuro': 569, 'urg': 6, 'bpm': 529, 'aortic': 391, 'qd': 121, 'ground': 177, 'extent': 138, 'otherwis': 429, 'qualiti': 322, 'pancrea': 158, 'remov': 471, 'mm': 558, 'condit': 875, 'test': 388, 'techniqu': 515, 'rhythm': 656, 'low': 709, 'cardiomyopathi': 41, 'decreas': 604, 'allow': 210, 'ivf': 453, 'gland': 145, 'coliti': 50, 'abd': 599, 'midnight': 156, 'clinic': 587, 'septic': 100, 'typhliti': 3, 'ale': 9, 'social': 494, 'gener': 547, 'contraind': 360, 'defin': 95, 'tachycardia': 390, 'continu': 724, 'atelectasi': 533, 'p': 844, 'atrial': 417, 'level': 604, 'annular': 105, 'echo': 308, 'lvef': 277, 'recommend': 407, 'promin': 349, 'tee': 49, 'la': 229, 'block': 184, 'suprastern': 4, 'borderlin': 221, 'h': 558, 'like': 713, 'inpati': 257, 'pre': 229, 'fever': 470, 'ascend': 203, 'lvot': 159, 'transesophag': 14, 'diseas': 456, 'biventricular': 75, 'present': 850, 'fibril': 200, 'ps': 318, 'surgeri': 347, 'stabil': 107, 'portabl': 784, 'avr': 21, 'echocardiographi': 18, 'radiograph': 592, 'region': 402, 'septum': 219, 'mat': 12, 'calcif': 325, 'chest': 929, 'regard': 224, 'junction': 229, 'suboptim': 149, 'interatri': 211, 'function': 452, 'aha': 44, 'thre': 2, 'hodgkin': 7, 'implic': 42, 'ap': 749, 'diamet': 242, 'cm': 604, 'rate': 660, 'end': 273, 'symmetr': 305, 'bioprosthet': 15, 'mvp': 100, 'sinc': 788, 'lvh': 100, 'fascicular': 52, 'contract': 104, 'man': 516, 'endocard': 96, 'gradient': 194, 'similar': 264, 'decis': 169, 'placement': 561, 'retrocardiac': 231, 'appear': 821, 'complet': 524, 'exist': 128, 'preserv': 124, 'coexist': 12, 'silhouett': 382, 'aorta': 412, 'chamber': 203, 'though': 361, 'multifoc': 226, 'extens': 304, 'prematur': 157, 'supraventricular': 24, 'unchang': 787, 'fat': 82, 'pneumothorax': 545, 'prosthesi': 32, 'lymphoma': 24, 'best': 84, 'data': 553, 'ray': 232, 'prolaps': 121, 'hypertrophi': 176, 'pad': 83, 'trivial': 171, 'locul': 114, 'heart': 738, 'cavoatri': 115, 'space': 191, 'meet': 188, 'acut': 596, 'distal': 317, 'inhal': 138, 'muscl': 224, 'servic': 395, 'pneomoboot': 1, 'ultrasound': 268, 'rul': 166, 'problem': 215, 'axilla': 41, 'bolu': 354, 'breakdown': 132, 'va': 72, 'rhonchor': 169, 'seveal': 1, 'prn': 458, 'gd': 31, 'ask': 258, 'distend': 389, 'feed': 327, 'ibuprofen': 27, 'anti': 92, 'secr': 11, 'respir': 103, 'prep': 110, 'manag': 351, 'appropri': 416, 'anesthesia': 154, 'bag': 116, 'onto': 45, 'transpar': 20, 'reassess': 86, 'ten': 15, 'punctur': 74, 'sr': 467, 'disscuss': 5, 'worn': 9, 'incid': 117, 'speak': 228, 'suction': 336, 'buffer': 10, 'foot': 70, 'read': 395, 'cvp': 175, 'done': 488, 'staff': 148, 'modifi': 18, 'acidosi': 109, 'case': 176, 'quad': 54, 'equal': 147, 'reposit': 226, 'intub': 412, 'pillow': 54, 'tol': 263, 'cath': 293, 'tailor': 55, \"n't\": 160, 'centr': 2, 'aggress': 197, 'carri': 12, 'found': 314, 'portex': 61, 'still': 454, 'keep': 346, 'asept': 7, 'convers': 130, 'peep': 262, 'ativan': 185, 'extremeti': 49, 'approxim': 245, 'al': 12, 'wean': 491, 'nt': 257, 'undisturb': 7, 'howev': 495, 'east': 20, 'vbg': 50, 'fairli': 113, 'hand': 216, 'discuss': 451, 'voic': 230, 'needl': 93, 'venipunctur': 12, 'deceas': 5, 'motrin': 30, 'recov': 98, 'extern': 41, 'encount': 5, 'excess': 39, 'sourc': 255, 'written': 115, 'vt': 213, 'discharg': 228, 'second': 167, 'remeron': 6, 'burst': 25, 'mostli': 167, 'certain': 15, 'vein': 357, 'length': 142, 'statlock': 25, 'mso': 43, 'neruo': 8, 'agress': 31, 'red': 186, 'cd': 90, 'trazadon': 33, 'oxygen': 321, 'titrat': 228, 'siginificantli': 2, 'exit': 18, 'granddaught': 11, 'latest': 305, 'develop': 323, 'address': 100, 'infus': 422, 'cuff': 198, 'awar': 377, 'sxed': 5, 'maintain': 450, 'art': 69, 'oral': 456, 'ambu': 33, 'q': 552, 'nutren': 76, 'scv': 7, 'cvbg': 1, 'wear': 111, 'morn': 372, 'tender': 386, 'tylenol': 257, 'less': 470, 'ij': 205, 'setret': 1, 'criteria': 102, 'approp': 26, 'vena': 111, 'eye': 367, 'improv': 754, 'turn': 341, 'achiev': 70, 'bell': 21, 'therapist': 52, 'autocorrect': 2, 'abov': 556, 'aerat': 206, 'us': 224, 'perform': 535, 'lidocain': 128, 'compress': 255, 'held': 307, 'make': 313, 'go': 301, 'xylocain': 1, 'pedi': 38, 'chronic': 454, 'cmh': 154, 'venodyn': 21, 'slept': 219, 'dr': 525, 'obey': 35, 'appli': 289, 'move': 380, 'son': 263, 'peg': 172, 'movement': 416, 'lami': 3, 'altern': 118, 'cines': 1, 'past': 361, 'min': 512, 'intermitt': 268, 'hd': 105, 'dc': 216, 'evaul': 2, 'easili': 236, 'lowest': 18, 'made': 523, 'respons': 548, 'buzzer': 1, 'ivb': 16, 'tube': 539, 'rm': 24, 'complaint': 359, 'hco': 49, 'nova': 4, 'teen': 128, 'mucu': 59, 'occlud': 24, 'switch': 178, 'chines': 10, 'awok': 37, 'ascertain': 8, 'clot': 149, 'sulfat': 118, 'paplabl': 2, 'trend': 289, 'forearm': 53, 'warm': 349, 'reach': 116, 'got': 141, 'pale': 149, 'alarm': 102, 'close': 327, 'sl': 147, 'sc': 207, 'yankeur': 27, 'whez': 4, 'boot': 212, 'letharg': 171, 'blister': 47, 'open': 285, 'distress': 453, 'yankour': 4, 'via': 514, 'spontan': 273, 'diminsh': 54, 'seem': 264, 'avl': 23, 'incont': 34, 'top': 111, 'waken': 8, 'known': 421, 'ortho': 18, 'apneic': 38, 'guidewir': 81, 'collar': 72, 'relief': 135, 'ir': 109, 'nh': 62, 'descript': 45, 'everi': 102, 'word': 126, 'respiratori': 647, 'transfus': 154, 'pinkish': 12, \"pt'\": 13, 'next': 280, 'mainli': 21, 'onli': 469, 'thk': 21, 'wnl': 343, 'intervent': 192, 'treatment': 356, 'svt': 57, 'pulm': 351, 'even': 400, 'posb': 1, 'vancomycin': 277, 'hold': 385, 'fashion': 84, 'check': 469, 'careview': 109, 'friday': 50, 'sedat': 322, 'requisit': 6, 'bed': 499, 'ac': 212, 'seal': 71, 'longer': 184, 'apap': 12, 'rn': 336, 'arm': 304, 'recent': 559, 'given': 728, 'lavag': 65, 'worsen': 516, 'pp': 79, 'max': 262, 'sch': 100, 'drastic': 3, 'spo': 438, 'meropenem': 64, 'issu': 279, 'reflex': 92, 'tonight': 204, 'whole': 73, 'ms': 303, 'risk': 270, 'rhoncher': 45, 'weaker': 16, 'insicion': 1, 'morphin': 169, 'prefer': 58, '``': 301, 'doe': 546, 'deminish': 20, 'seet': 1, 'intent': 14, 'perrla': 80, 'clog': 19, 'almost': 92, 'procedur': 497, 'identifi': 380, 'fluse': 2, 'paus': 27, 'toller': 20, 'th': 93, 'abduct': 6, 'semi': 128, 'employ': 22, 'withou': 2, 'labil': 85, 'vent': 279, 'control': 466, 'multipodu': 25, 'tabl': 70, 'oclock': 1, 'rsbi': 210, 'befor': 291, 'meropenum': 32, 'suct': 55, 'readi': 203, 'order': 557, 'nap': 83, 'douderm': 9, 'tan': 230, 'inflat': 42, 'verifi': 40, 'ani': 515, 'vari': 55, 'vol': 125, 'scant': 164, 'alter': 200, 'dress': 237, 'tegaderm': 25, 'briefli': 131, 'noc': 143, 'cent': 26, 'lo': 153, 'comfort': 410, 'pump': 54, 'includ': 524, 'flush': 219, 'respond': 399, 'deliv': 16, 'await': 347, 'spit': 24, 'hi': 483, 'albuterol': 288, 'remaind': 170, 'sx': 214, 'icu': 479, 'lobe': 666, 'describ': 182, 'guid': 141, 'compens': 62, 'anatomi': 19, 'rotat': 113, 'rehab': 252, 'prolong': 208, 'english': 49, 'infiltr': 541, 'cdi': 36, 'neck': 249, 'psv': 227, 'replct': 85, 'splint': 25, 'lip': 114, 'bump': 58, 'sxing': 48, 'updat': 336, 'complain': 113, 'tourniquet': 3, 'speek': 3, 'stock': 6, 'room': 257, 'medecin': 1, \"o'clock\": 4, 'elbow': 39, 'hypercarbia': 42, 'intravascular': 20, 'selding': 4, 'drift': 34, 'transport': 138, 'redden': 99, 'wasreat': 1, 'afer': 2, 'ketoconazol': 2, 'tingl': 51, 'speech': 262, 'placment': 105, 'cava': 109, 'cl': 78, 'midodrin': 5, 'scat': 6, 'map': 260, 'supervis': 168, 'run': 189, 'restart': 341, 'proxim': 172, 'attempt': 390, 'effort': 126, 'except': 435, 'bilat': 330, 'universla': 1, 'mip': 9, 'tomorrow': 297, 'rua': 7, 'analysi': 100, 'ronchi': 43, 'tenaci': 27, 'feet': 117, 'get': 420, 'gap': 37, 'minut': 338, 'doubl': 117, 'brisk': 102, 'tidal': 131, 'mode': 200, 'resolv': 398, 'becam': 237, 'supin': 248, 'mv': 84, 'fluor': 17, 'head': 442, 'mandatori': 2, 'oligur': 19, 'tri': 262, 'ot': 82, 'send': 168, 'venou': 360, 'whit': 2, 'inlin': 11, 'clean': 122, 'accept': 145, 'irrig': 34, 'blb': 27, 'mtg': 27, 'two': 358, 'tip': 500, 'cardovascular': 1, 'dim': 162, 'often': 60, 'ho': 139, 'flatu': 97, \"''\": 265, 'notiifi': 1, 'ltc': 3, 'tripl': 94, 'tracheostomi': 149, 'work': 288, 'someth': 44, 'spike': 154, 'alreadi': 99, 'cpt': 219, 'normalizes': 1, 'water': 234, 'becom': 246, 'wide': 115, 'unit': 326, 'apex': 132, 'desat': 268, 'long': 255, 'effici': 1, 'vs': 423, 'earlier': 322, 'fio': 469, 'subclavian': 216, 'repond': 7, 'anxiou': 228, 'emg': 10, 'rhonchi': 250, 'object': 247, 'schedul': 169, 'plct': 92, 'wait': 111, 'hour': 579, 'perrl': 275, 'pick': 72, 'bronchodil': 74, 'poorli': 78, 'cpap': 253, 'avail': 324, 'yo': 382, 'acid': 241, 'mae': 304, 'tf': 441, 'ph': 146, 'co': 372, 'patch': 109, '<': 316, 'post': 566, 'sicu': 119, 'drainag': 198, 'immobl': 14, 'anxieti': 195, 'precaut': 434, 'look': 208, 'dual': 47, '^': 93, 'pmicu': 49, 'flowsheet': 440, 'posit': 668, 'question': 455, 'basil': 114, 'refus': 152, 'respi': 8, 'suitabl': 25, 'mod': 258, 'brush': 8, 'approach': 93, 'drop': 382, 'reduc': 183, 'intial': 21, 'aspir': 466, 'central': 380, 'geet': 1, 'insomnia': 24, 'grimac': 67, 'secretiona': 1, 'dist': 21, 'abp': 83, 'sediment': 109, 'mdi': 177, 'colac': 156, 'immedi': 198, 'maneuv': 43, 'rang': 295, 'spinal': 64, 'thin': 336, 'angiographi': 45, 'blue': 29, 'support': 581, 'dopa': 17, 'afternoon': 351, 'simpl': 337, 'know': 138, 'awak': 330, 'awaken': 49, 'nd': 228, 'lower': 759, 'drawn': 192, 'previous': 317, 'extrem': 567, 'hemmodynam': 1, 'touch': 121, 'lg': 141, 'retrograd': 4, 'short': 436, 'monday': 106, 'let': 61, 'remark': 57, 'complic': 317, 'longterm': 10, 'mmv': 28, 'tent': 181, 'integr': 112, 'prbc': 109, 'qs': 69, 'repeat': 425, 'secreion': 2, 'sbp': 421, 'draw': 147, 'measur': 348, 'impair': 187, 'mani': 102, 'flouroscop': 11, 'fill': 190, 'rig': 1, 'leg': 228, 'put': 232, 'lift': 104, 'respect': 62, 'nuten': 2, 'alb': 123, 'realli': 42, 'air': 485, 'increa': 7, 'loss': 237, 'nif': 20, 'rue': 67, 'lamonectomi': 1, 'vvg': 1, 'arous': 232, 'fentanyl': 201, 'pink': 147, 'frustrat': 34, 'asynchron': 4, 'well': 813, 'notifi': 191, 'abras': 70, 'gag': 169, 'somnul': 7, 'superior': 203, 'softli': 73, 'light': 178, 'mechan': 187, 'deep': 303, 'screen': 158, 'transient': 137, 'hemo': 15, \"tf'ing\": 10, 'episod': 346, 'trial': 194, 'vanco': 386, 'addit': 540, 'brief': 121, 'devic': 416, 'hydrat': 110, 'later': 563, 'difficult': 376, 'local': 197, 'return': 305, 'set': 565, 'happi': 27, 'french': 108, 'secur': 158, 'capac': 50, 'static': 20, 'oper': 72, 'caudal': 10, 'occlus': 65, 'freq': 159, 'uncomfort': 83, 'hct': 498, 'timeout': 88, 'thigh': 67, 'usual': 187, 'fusion': 27, 'yellowish': 43, 'laminectomi': 15, 'novac': 1, 'abg': 507, 'dopamin': 23, 'bb': 113, 'care': 655, 'residu': 355, 'simv': 24, 'ring': 35, 'diagnos': 84, 'cmv': 104, 'becaus': 176, 'susp': 7, 'button': 18, 'section': 259, 'lumen': 246, 'approx': 210, 'soon': 100, 'puff': 33, 'sheet': 117, 'j': 68, 'nose': 232, 'nsr': 348, 'overlaid': 2, 'advanc': 379, 'b': 448, \"'d\": 324, 'trach': 147, 'wake': 125, 'fellow': 92, 'track': 126, 'carevu': 225, 'neuromuscular': 12, 'reciev': 132, 'guidanc': 148, 'respeat': 1, 'moment': 19, \"'\": 157, 'toilet': 252, 'brown': 254, 'ahead': 7, 'ted': 4, 'posiiton': 1, 'asleep': 143, 'determin': 184, 'stat': 54, 'male': 344, 'understand': 138, 'chngd': 1, 'insert': 216, 'pna': 714, 'flang': 10, 'troubl': 33, 'satisfactori': 104, 'round': 273, 'apnea': 92, 'translat': 34, 'sigh': 6, 'perl': 74, 'peripher': 475, 'encourag': 329, 'lido': 12, 'fib': 137, 'rash': 251, 'mcg': 253, 'ulcer': 355, 'wob': 77, 'vss': 153, 'mouth': 284, 'goal': 394, 'commun': 446, 'brufen': 1, 'confirm': 334, 'spont': 102, 'facil': 120, 'duoderm': 69, 'heal': 103, 'volum': 491, 'drape': 85, 'bm': 396, 'accordingli': 58, 'cervic': 161, 'special': 19, 'pmv': 90, 'tk': 3, 'detail': 278, 'point': 265, 'week': 276, 'breathsound': 29, 'prognosi': 68, 'bolus': 252, 'stenosi': 265, 'disharg': 1, 'pill': 125, 'ventil': 296, 'assess': 739, 'unless': 71, 'sore': 72, 'unev': 109, 'wheez': 400, 'receiv': 600, 'depriv': 6, 'dispo': 203, 'spong': 14, 'plam': 2, 'success': 213, 'medial': 100, 'desatur': 160, 'dure': 460, 'three': 173, 'exp': 195, 'period': 245, 'center': 45, 'ess': 13, 'drain': 586, 'dorsal': 6, 'rilutek': 1, 'exercis': 63, 'secrect': 17, 'nonspecif': 107, 'visit': 322, 'wife': 173, 'tlcl': 34, 'oriet': 1, 'htn': 287, 'tlc': 95, 'nbp': 135, 'overbreath': 63, 'precis': 15, 'littl': 291, 'distinct': 55, 'conjest': 3, 'diuresi': 237, 'ad': 199, 'poc': 121, 'pul': 37, 'costophren': 144, 'mist': 61, 'lyte': 351, 'fit': 30, 'infect': 448, 'diures': 214, 'ln': 20, 'extend': 226, 'project': 211, 'midlin': 211, 'smaller': 102, 'diur': 5, 'nippv': 21, 'pmr': 2, 'radial': 379, 'verbal': 298, 'capillari': 17, 'termin': 302, 'suffici': 24, 'rx': 172, 'angl': 150, 'eff': 15, 'nvd': 6, 'forward': 51, 'cad': 183, 'despit': 214, 'nc': 470, 'ro': 267, 'precept': 9, 'attribut': 73, 'somewhat': 270, 'stimul': 136, 'perihilar': 140, 'mn': 168, 'lopressor': 220, 'vi': 40, 'ecchymot': 31, 'lat': 244, 'rll': 286, 'cool': 240, 'swallow': 310, 'followup': 179, 'enc': 66, 'ivhl': 1, 'toerat': 2, 'therefor': 121, 'pnx': 42, 'obes': 179, 'expiratori': 107, 'imposs': 13, 'nonproduct': 87, 'ss': 139, 'atrov': 231, 'ml': 469, 'lnc': 109, 'nice': 14, 'deficit': 99, 'deliveri': 325, 'congest': 386, 'thorac': 266, 'mll': 2, 'cover': 265, 'basal': 162, 'trachea': 89, 'rais': 193, 'transferd': 2, 'face': 294, 'degre': 217, 'lib': 7, 'strong': 240, 'soc': 54, 'k': 519, 'seizur': 118, 'grossli': 233, 'refil': 26, 'ting': 174, 'humidif': 10, 'lpm': 85, 'thirsti': 26, 'either': 173, 'aox': 42, 'hypokinet': 13, 'afeb': 72, 'heparin': 384, 'lock': 45, 'ladi': 17, 'mask': 348, 'independ': 101, 'av': 62, 'fact': 28, 'diet': 478, 'rec': 251, 'neb': 418, 'answer': 189, 'slight': 322, 'pacemak': 71, 'cabg': 71, 'rail': 41, 'yet': 183, 'quantiti': 28, 'pupil': 182, 'csm': 31, 'contninu': 4, 'expans': 216, 'insp': 355, 'humalog': 68, 'demonstr': 423, 'come': 190, 'db': 113, 'symptom': 193, 'wheezez': 3, 'ptscurrent': 1, 'say': 105, 'regardless': 13, 'septal': 160, 'occsion': 1, 'pace': 88, 'azithro': 69, 'tid': 230, 'activ': 380, 'breakfast': 51, 'vomit': 139, 'onrt': 2, 'hygien': 78, 'food': 165, 'ie': 30, 'graviti': 72, 'safeti': 144, 'coverag': 305, 'wire': 206, 'floor': 534, 'sit': 184, 'pnding': 30, 'replac': 257, 'endo': 198, 'consolid': 531, 'differ': 294, 'posterior': 248, 'ceftaz': 29, 'pulmocort': 2, 'flow': 542, 'junki': 11, 'enough': 84, 'viger': 4, 'pulmicort': 2, 'belli': 48, 'riss': 157, 'follw': 17, 'levoph': 87, 'info': 49, 'nasal': 376, 'bile': 60, 'svc': 351, 'alin': 139, 'curv': 133, 'tdo': 1, 'unproduct': 10, 'bank': 16, 'rogor': 1, 'ed': 321, 'condom': 15, 'nebh': 2, 'came': 170, 'kcl': 185, 'hx': 379, 'ago': 234, 'ekg': 291, 'therapeut': 114, 'fax': 22, 'risperidon': 3, 'gave': 115, 'phonecal': 2, 'instead': 52, 'lay': 28, 'want': 267, 'father': 62, 'spoke': 198, 'taken': 195, 'insist': 16, 'oxycontin': 22, 'awhil': 3, 'supervisor': 5, 'stress': 328, 'urgent': 12, 'dx': 127, 'provid': 452, 'form': 209, 'piv': 327, 'osh': 91, 'suppos': 15, 'mor': 1, 'eval': 587, 'levoflox': 112, 'accord': 90, 'valu': 156, 'brother': 61, 'ama': 7, 'meq': 440, 'explain': 188, 'sister': 90, 'tat': 1, 'would': 461, 'flownot': 18, 'depend': 237, 'band': 119, 'tact': 14, 'transferredback': 1, 'thousand': 1, 'vano': 3, 'plt': 321, 'defer': 107, 'myelopdysplasia': 1, 'addendum': 341, 'transmitr': 14, 'gastric': 83, 'peak': 77, 'cerebr': 50, 'xray': 102, 'calmer': 23, 'choroid': 1, 'reintub': 64, 'smear': 58, 'wheelchair': 20, 'rpt': 23, 'appreci': 271, 'bear': 34, 'reassur': 87, 'ye': 132, 'dvt': 402, 'self': 210, 'restraint': 164, 'mastoid': 77, 'coug': 5, 'cortic': 39, 'palp': 80, 'intraocular': 1, 'srr': 26, 'factor': 68, 'incr': 44, 'person': 185, 'coop': 12, 'hypoxia': 337, 'sbt': 134, 'begin': 175, 'reg': 122, 'rebreath': 48, 'sensit': 102, 'flat': 131, 'fo': 35, 'alot': 25, 'crise': 1, 'impend': 16, 'agit': 275, 'precipit': 28, 'electrolyt': 185, 'metropolol': 4, 'faint': 59, 'diarrhea': 171, 'film': 227, 'cahng': 4, 'liter': 278, 'mediastin': 410, 'hyponatremia': 50, 'portion': 457, 'laryng': 81, 'pituitari': 3, 'quiet': 93, 'understandingli': 1, 'nystatin': 65, 'quickli': 136, 'cephal': 74, 'fentynl': 6, 'apropri': 7, 'visitor': 67, 'helic': 51, 'opportunist': 9, 'lie': 127, 'bil': 134, 'densiti': 197, 'cortex': 17, 'sop': 2, 'ogt': 114, 'unawar': 11, 'begun': 37, 'acquir': 258, 'home': 498, 'antimicrobi': 35, 'discourag': 7, 'escal': 31, 'cre': 26, 'fall': 190, 'bun': 401, 'arteriosu': 4, 'embol': 123, 'consider': 90, 'phm': 2, 'propofol': 113, 'inappropri': 27, 'embolu': 38, 'remin': 3, 'stomach': 251, 'lsubclavian': 1, 'upset': 32, 'catheeer': 1, 'cannula': 330, 'situat': 80, 'mainten': 50, 'wind': 3, 'bipap': 126, 'cultur': 432, 'zone': 161, 'ionic': 31, 'degrad': 12, 'amnt': 23, 'extub': 264, 'psychosoc': 3, 'cyanot': 15, 'lsc': 24, 'talk': 190, 'settl': 84, 'lue': 69, 'didnt': 3, 'slowli': 187, 'yelow': 5, 'fld': 33, 'cup': 38, 'gelatin': 4, 'fluffi': 5, 'fs': 174, \"c'ed\": 65, 'obstruct': 280, 'cell': 240, 'e': 279, 'hous': 119, 'visual': 394, 'think': 109, 'whitish': 55, 'nrb': 156, 'exert': 110, 'subsegment': 80, 'pe': 219, 'lymph': 347, 'thru': 63, 'extuat': 2, 'hypox': 136, 'pneumomediastinum': 16, 'extremi': 1, 'flair': 30, 'rad': 59, 'said': 85, 'apologet': 1, 'sxn': 107, 'gentleman': 37, 'contigu': 77, 'impos': 2, 'chain': 21, 'venturi': 5, 'rise': 136, 'began': 77, 'brachiocephal': 70, 'angio': 42, 'chart': 118, 'markedli': 117, 'cp': 192, 'discret': 51, 'calm': 144, 'idea': 14, 'superimpos': 144, 'pair': 45, 'overal': 348, 'significantli': 214, 'node': 217, 'pull': 293, 'kvo': 81, 'autodiresi': 1, 'paranas': 66, 'ua': 147, 'autodiures': 43, 'sporad': 5, 'cystic': 41, 'wash': 66, 'write': 49, 'parenchyma': 88, 'thereaft': 17, 'dowm': 1, 'antrum': 22, 'tend': 30, 'foci': 70, 'allergi': 376, 'instruct': 67, 'tocycl': 1, 'ext': 313, 'wrist': 140, 'half': 68, 'suscept': 22, 'nonlabor': 20, 'matter': 78, 'liq': 59, 'tranfer': 15, 'drip': 165, 'pretti': 12, 'toll': 4, 'decent': 9, 'reformat': 135, 'ck': 216, 'ptt': 312, 'stalk': 1, 'enhanc': 123, 'defect': 156, 'arriv': 234, 'occ': 206, 'wz': 1, 'cci': 10, 'na': 170, 'troponin': 205, 'blunt': 94, 'inferior': 192, 'mobil': 121, 'stinul': 1, 'sec': 84, 'rousabl': 10, 'hardcopi': 3, 'carina': 199, 'roll': 61, 'subsequ': 181, 'obscur': 159, 'recon': 78, 'cut': 51, 'g': 447, 'spastic': 8, 'haldol': 106, 'promot': 56, 'ischem': 112, 'sentenc': 41, 'bleed': 276, 'pao': 155, 'intab': 1, 'tree': 55, 'mi': 119, 'mediastinum': 145, 'remind': 52, 'went': 156, 'contour': 323, 'easi': 38, 'deleri': 10, 'clostroph': 1, 'nervou': 18, 'mentat': 55, 'appar': 222, 'endoc': 25, 'detect': 94, 'main': 149, 'ice': 116, 'hrr': 2, 'endotrach': 252, 'ductu': 4, 'outflow': 17, 'associ': 265, 'opacifi': 46, 'alseep': 1, 'intercurr': 2, 'sd': 13, 'opacif': 310, 'wbc': 531, 'thrush': 42, 'brachial': 136, 'nrm': 4, 'gtt': 303, 'fent': 119, 'bow': 4, 'appeart': 1, 'gold': 16, 'midaz': 37, 'tape': 57, 'propafol': 8, 'dp': 337, 'infarc': 2, 'iii': 43, 'walk': 94, 'ngt': 177, 'thing': 46, 'anox': 8, 'pneumon': 106, 'immprov': 1, 'becm': 1, 'optiray': 186, 'interven': 18, 'closer': 32, 'disori': 49, 'minimum': 16, 'roommat': 3, 'expir': 33, 'ivp': 164, 'hyperintens': 29, 'sxted': 8, 'msicu': 16, 'decr': 30, 'turgor': 5, 'clonazepam': 21, 'occur': 121, 'compat': 93, 'hospit': 311, 'super': 10, 'vers': 166, 'flagyl': 162, 'pn': 11, 'rvfx': 1, 'dissect': 40, 'cn': 95, 'divid': 27, 'tachypn': 200, 'intens': 41, 'req': 42, 'extubat': 9, 'dipso': 1, 'upright': 327, 'sinl': 1, 'aspect': 134, 'antivir': 9, 'hiflow': 18, 'opt': 15, 'ng': 452, 'gpc': 67, 'sulci': 67, 'fragil': 25, 'vessel': 193, 'nod': 135, 'nemb': 4, 'narcot': 47, 'scatter': 209, 'interstiti': 236, 'csf': 28, 'cta': 310, 'fair': 143, 'relax': 68, 'et': 191, 'venti': 37, 'brain': 105, 'unilat': 70, 'widespread': 62, 'deceller': 1, 'auscult': 101, 'ect': 14, 'forget': 31, 'acidoi': 1, 'lisinopril': 86, 'partner': 10, 'chip': 82, 'thruout': 5, 'quit': 125, 'lessen': 16, 'confluent': 78, 'ett': 235, 'arch': 126, 'heterogen': 81, 'theraput': 8, 'globe': 6, 'conitnu': 14, 'hilar': 256, 'mech': 47, 'sinus': 126, 'phone': 204, 'direct': 171, 'restless': 124, 'amd': 14, 'multiplanar': 124, 'void': 163, 'branch': 156, 'restrain': 66, 'perivascular': 9, 'inf': 20, 'sleepi': 59, 'tract': 80, 'maxillari': 41, 'bath': 86, 'shortli': 55, 'root': 118, 'np': 138, 'axillari': 199, 'incrreas': 1, 'antra': 1, 'fen': 239, 'bite': 76, 'diaphragm': 143, 'tpn': 42, 'hung': 14, 'wtih': 20, 'shut': 55, 'penia': 1, 'overli': 149, 'util': 60, 'stimlat': 1, 'shot': 19, 'adquat': 6, 'mucousi': 6, 'ear': 232, 'bit': 70, 'iron': 56, 'hypovolem': 35, 'cuf': 40, 'coincident': 1, 'bllo': 1, 'clav': 2, 'attain': 12, 'tranfus': 8, 'afix': 2, 'spare': 35, 'board': 59, 'stop': 270, 'redress': 15, 'dsg': 114, 'vascular': 500, 'errythem': 1, 'materi': 108, 'cyst': 126, 'emot': 160, 'occassion': 46, 'diaphoret': 119, 'cream': 149, 'reform': 89, 'btw': 5, 'fluter': 1, 'rij': 75, 'peelaway': 1, 'along': 231, 'init': 27, 'ent': 24, 'incontin': 89, 'nursi': 1, 'prostat': 68, 'particular': 24, 'necessari': 115, 'name': 129, 'fri': 113, 'jejun': 9, 'perm': 6, 'purul': 33, 'pleaw': 1, 'fecal': 54, 'cva': 109, 'vertex': 12, 'cadiomediastin': 1, 'gallston': 46, 'cs': 15, 'especi': 109, 'tuberos': 6, 'fix': 103, 'intervascularli': 2, 'pho': 232, 'met': 153, 'apc': 28, 'ftb': 1, 'simethicon': 13, 'consistantli': 29, 'pronounc': 72, 'perhap': 53, 'enuf': 1, 'rectal': 150, 'peribronchi': 36, 'prolen': 6, 'valium': 27, 'partial': 244, 'pac': 106, 'hydrocortison': 18, 'notic': 43, 'mening': 25, 'confrim': 3, 'siusiti': 1, 'derm': 50, 'plmt': 17, 'basi': 37, 'sheath': 121, 'microg': 1, 'tonoc': 16, 'orogastr': 26, 'mesenteri': 17, 'stransfus': 1, 'excel': 88, 'fine': 101, 'frontal': 168, 'rectum': 96, 'ip': 101, 'email': 18, 'flutter': 68, 'preliminari': 76, 'exhibit': 33, 'powder': 65, 'tachypneia': 2, 'sulcu': 22, 'birthday': 6, 'hypercapnea': 9, 'squamou': 20, 'actual': 44, 'simultan': 5, 'express': 102, 'normoglycem': 10, 'resutur': 2, 'ethmoid': 39, 'inconsist': 70, 'underneath': 6, 'reactiv': 150, 'anticip': 116, 'regim': 63, 'gaug': 311, 'gaseou': 8, 'thank': 135, 'basic': 40, 'page': 199, 'sutur': 80, 'lc': 13, 'periventricular': 51, 'jejunum': 28, 'uop': 225, 'entir': 152, 'routin': 118, 'reliev': 67, 'desir': 72, 'entri': 32, 'potenti': 158, 'tbe': 2, 'sub': 44, 'resettl': 1, 'total': 457, 'taper': 123, 'replet': 384, 'refer': 202, 'sigmoid': 74, 'degen': 176, 'transaminas': 11, 'benadryl': 27, 'hst': 1, 'coil': 50, 'bronchial': 182, 'experi': 29, 'amplatz': 16, 'spur': 12, 'sxtn': 20, 'nm': 9, 'plcmt': 15, 'cardiomediastin': 249, '^^': 20, 'duodenum': 51, 'fulli': 165, 'qtt': 13, 'recruit': 18, 'airat': 3, 'potassium': 341, 'whether': 120, 'ssi': 91, 'nasogastr': 182, 'vue': 22, 'migrat': 17, 'believ': 44, 'distens': 45, 'toward': 124, 'flexitrack': 1, 'labor': 121, 'vigor': 45, 'transduc': 18, 'acetaminophen': 84, 'ga': 204, 'qtc': 49, 'itchi': 16, 'cancer': 140, 'clinoid': 5, 'golden': 43, 'swollen': 52, 'sput': 53, 'glidewir': 13, 'gastrojejunostomi': 22, 'highli': 42, 'tachneic': 1, 'oro': 2, 'criticar': 5, 'slide': 261, 'away': 115, 'serosanguin': 30, 'disposit': 309, 'offer': 111, 'bodi': 315, 'teach': 27, 'hydrocephalu': 33, 'fluoroscopi': 45, 'twice': 77, 'gain': 39, 'grandson': 12, 'antibot': 10, 'pyloru': 15, 'afrin': 5, 'brachycephal': 3, 'steroid': 173, 'newli': 148, 'eight': 16, 'chage': 2, 'bwn': 3, 'cardiomediastinum': 12, 'normotens': 59, 'mucomyst': 31, 'isol': 65, 'tini': 97, 'vecuronium': 10, 'overnoc': 135, 'peel': 88, 'scan': 258, 'outpt': 56, 'guaic': 35, 'extra': 123, 'reportedli': 74, 'cholecyst': 56, 'flaccid': 14, 'patholog': 210, 'fetanyl': 1, 'antibx': 137, 'eventu': 91, 'eyelid': 5, 'beom': 2, 'througout': 7, 'semin': 16, 'skull': 21, 'entroclysi': 5, 'til': 22, 'fb': 39, 'tubefe': 15, 'abreast': 8, 'stimuli': 238, 'fasten': 11, 'hemidiaphragm': 140, 'meical': 1, 'diuresis': 15, 'applic': 43, 'silght': 1, 'ge': 31, 'deploy': 16, 'multi': 147, 'inr': 320, 'reslt': 4, 'alon': 85, 'slow': 202, 'tema': 1, 'thich': 5, 'exchang': 94, 'daili': 384, \"patient'\": 54, 'yeterday': 2, 'passiv': 35, 'vial': 3, 'first': 206, 'angiograph': 25, 'combin': 136, 'target': 40, 'serial': 105, 'vea': 88, 'vagu': 21, 'mental': 268, 'hemorrhag': 175, 'destruct': 40, 'tl': 18, 'anyth': 59, 'inh': 20, 'youvil': 1, 'buttock': 115, 'occat': 25, 'true': 29, 'nonion': 25, 'redemonstr': 41, 'plug': 120, 'retroperitoneum': 11, 'opaqu': 10, 'relat': 343, 'erythromycin': 32, 'hypopharynx': 6, 'vasculatur': 114, 'percutan': 52, 'thu': 120, 'dermat': 17, 'cope': 49, 'stiff': 44, 'tomarrow': 8, 'mucos': 51, 'scleraedema': 1, 'collaps': 169, 'gj': 21, 'beneath': 20, 'ceftriaxon': 176, 'gastr': 1, 'paramed': 4, 'vessicl': 2, 'balloon': 43, 'steril': 151, 'consciouti': 2, 'tracheotomi': 19, 'far': 163, 'regimen': 268, 'give': 265, 'clr': 25, 'urinari': 149, 'prompt': 20, 'bloodi': 117, 'resum': 156, 'pariet': 23, 'conray': 13, 'consciou': 14, 'upon': 206, 'lose': 12, 'massag': 6, 'inguin': 64, 'reduct': 72, 'hydronephrosi': 90, \"ct'\": 1, 'intuabt': 8, 'affix': 3, 'hepat': 125, 'lr': 50, 'squeez': 48, 'metal': 36, 'nephew': 19, 'log': 7, 'excret': 38, 'inject': 108, 'durng': 1, 'least': 142, 'noon': 113, 'lamina': 8, 'ultimatli': 1, 'bsk': 10, 'li': 19, 'fell': 74, 'middl': 208, 'promod': 7, 'canula': 35, 'mpa': 2, 'clearli': 91, 'pubic': 45, 'retrocard': 3, 'bl': 58, 'ivab': 20, 'penil': 8, 'guaiac': 97, 'ectop': 24, 'intracrani': 107, 'cribriform': 6, 'sometim': 66, 'proceedur': 7, 'extravas': 16, 'ca': 420, 'prelim': 45, 'connect': 27, 'perc': 52, 'fluoroscop': 135, 'dimish': 22, 'permiss': 3, 'intervasc': 1, 'highest': 8, 'intraven': 237, 'radiologist': 137, \"sxn'ing\": 14, 'redd': 10, 'mushroom': 54, 'qlc': 3, 'net': 84, 'reccomend': 7, 'lactulos': 85, 'anemia': 216, 'scale': 317, 'cdiff': 88, 'overview': 2, 'pej': 13, 'recheck': 171, 'subject': 147, 'enter': 258, 'hydrocort': 9, 'shiley': 14, 'risb': 12, 'confort': 11, 'attend': 414, 'calcifi': 135, 'subtl': 66, 'frequenc': 70, 'inner': 70, 'og': 131, 'consent': 160, 'wakeful': 2, 'thickish': 4, 'trigger': 125, 'shiver': 5, 'loop': 145, 'apic': 181, 'hazi': 106, 'sphenoid': 38, 'obviou': 93, 'accuraci': 13, 'plate': 26, 'consid': 420, 'stimulu': 24, 'bld': 109, 'accessori': 77, 'insulin': 315, 'essenti': 156, 'blink': 17, 'incres': 6, 'uneven': 1, 'retro': 4, 'character': 90, 'treitz': 13, 'massachusett': 1, 'slighlti': 8, 'nure': 2, 'soundli': 9, 'content': 38, 'udat': 1, 'microvascular': 24, 'letter': 9, 'alkalosi': 76, 'currenti': 1, '^^rate': 1, 'strip': 18, 'tone': 280, 'tvol': 6, 'percocet': 59, 'pharnyx': 1, 'pulmnari': 1, 'rom': 76, 'shoulder': 85, 'anesth': 3, 'hang': 10, 'late': 120, 'tannish': 28, 'expector': 173, 'supdat': 1, 'travel': 35, 'reveal': 192, 'jugular': 200, 'papyracea': 6, 'amen': 19, 'tachypnea': 195, 'member': 96, 'heme': 205, 'drug': 244, 'intern': 286, 'rmain': 2, 'whose': 34, 'hl': 22, 'stand': 239, 'locat': 288, 'variabl': 51, 'sodium': 338, 'tfb': 28, 'pelvic': 96, 'exrem': 3, 'norm': 5, 'sterili': 1, 'fr': 33, 'healthi': 66, 'reglan': 44, 'topic': 39, 'nonrespons': 9, 'decompress': 38, 'respalor': 9, 'purpos': 177, 'angiopathi': 2, 'adenopathi': 115, 'four': 102, 'visibl': 102, 'gastromi': 7, 'pro': 15, 'displac': 52, 'tachpnia': 1, 'pancultur': 15, 'parenchym': 224, 'expect': 120, 'firm': 63, 'specimen': 74, 'fic': 5, 'directli': 23, 'febril': 154, 'edemat': 76, 'kept': 97, 'dtr': 64, 'dampen': 46, 'brownish': 23, 'unrespons': 94, 'increasingli': 82, 'inconsistantli': 16, 'tactil': 33, 'noontim': 15, '}': 313, 'aqua': 2, 'rifamixin': 1, 'pfi': 199, 'recogn': 17, 'zonisamid': 3, 'stimata': 1, 'money': 264, 'confus': 213, 'stick': 260, 'lft': 106, 'dsd': 77, 'cloth': 277, 'invas': 330, 'exacerb': 140, 'vital': 374, 'demograph': 294, 'wast': 100, 'normocephal': 206, 'cel': 1, 'satur': 330, \"desat'\": 2, 'pertin': 298, 'dentit': 74, 'reorient': 113, 'unasyn': 15, 'lymphat': 112, 'hypernatrem': 22, 'nash': 5, 'erythema': 74, 'distort': 13, 'clonu': 8, 'jmgw': 16, 'prevacid': 43, 'ul': 304, 'dl': 353, 'ammonia': 9, 'creatinin': 324, 'configur': 63, 'asp': 90, 'moan': 31, 'pnuemonia': 19, 'musculoskelet': 124, 'candid': 56, 'tsh': 45, 'score': 23, 'radiolog': 352, 'asterixi': 9, 'sulbactam': 13, 'mmhg': 353, 'lantu': 35, 'physic': 348, 'transplant': 31, 'stage': 161, 'prescrib': 22, 'finger': 239, 'valuabl': 267, 'deveop': 2, 'asciti': 7, 'credit': 262, 'versiva': 1, 'nad': 164, 'cake': 2, 'equivoc': 17, 'levothyroxin': 44, 'card': 290, 'fibersourc': 33, 'rope': 2, 'dz': 35, 'ckmb': 177, 'ing': 32, 'meld': 4, 'hn': 32, 'deplet': 46, 'temperatur': 302, 'ppi': 222, 'anticonvuls': 3, 'diabet': 147, 'wed': 112, 'qh': 61, 'keppra': 15, 'metoprolol': 166, 'particularli': 112, 'decubitu': 74, 'vanc': 205, 'topomax': 1, 'dysfunct': 132, 'titl': 189, 'jpg': 304, 'provision': 192, 'rhonci': 28, 'ag': 58, 'disord': 77, 'signatur': 266, 'coccyx': 160, 'throat': 267, 'lactulo': 1, 'tremor': 39, 'resid': 345, 'fa': 51, 'encephalopath': 8, 'membran': 36, 'wallet': 256, 'hypothyroid': 59, 'vap': 318, 'glycem': 306, 'aplmar': 1, 'kg': 385, 'wound': 133, 'airway': 310, 'jewelri': 262, 'bnp': 69, 'dm': 145, 'black': 38, 'conjunctiva': 191, 'withdrawn': 49, 'debil': 6, 'contribut': 117, 'spine': 195, 'record': 235, 'diffucult': 2, 'tropt': 141, 'list': 90, '{': 315, 'superif': 2, 'cyu': 30, 'streaki': 14, 'lnp': 36, 'rml': 86, 'presum': 153, 'heel': 73, 'chief': 310, 'glucos': 370, 'ivc': 98, 'action': 328, 'lansoprazol': 51, 'cr': 364, 'chlorid': 293, 'cardiovascular': 251, 'engorg': 91, 'neurolog': 302, 'attent': 242, 'hematocrit': 297, 'infrahilar': 25, 'beat': 158, 'hypernatremia': 67, 'cash': 262, 'chem': 29, 'cirrhosi': 44, 'ft': 62, 'tcurrent': 303, 'quadrant': 128, 'ampicillin': 32, 'enzym': 114, 'modest': 49, 'conges': 1, 'live': 189, 'pharyng': 85, 'ich': 19, 'hs': 117, 'effac': 13, 'complex': 90, 'thight': 3, 'lovenox': 23, 'mistaken': 3, 'part': 148, \"dc'ed\": 6, 'firmli': 10, 'cistern': 23, 'qid': 133, 'wet': 338, 'dnr': 172, 'agre': 321, 'diuret': 66, 'fsbg': 34, 'environ': 61, 'nstemi': 30, 'sputem': 7, 'safe': 80, 'pleasantli': 15, 'bisacodyl': 42, 'vest': 6, 'digoxin': 49, 'recoveri': 62, 'adm': 126, 'droplet': 96, 'cardiolog': 58, 'bedpan': 46, 'syst': 18, 'particip': 71, 'redirect': 37, 'primari': 142, 'isosorbid': 10, 'loud': 72, 'repolar': 56, 'comb': 36, 'contin': 42, 'craze': 1, 'levofloxacin': 227, 'crit': 33, 'flu': 109, 'behavior': 43, 'docus': 57, 'rule': 234, 'atrophi': 41, 'fissur': 66, 'deviat': 124, 'kcld': 3, 'rebook': 1, 'observ': 157, 'audibl': 82, 'uncoop': 22, 'interim': 112, 'unrestrain': 13, 'redistribut': 46, 'ischemia': 164, 'rbbb': 18, 'reinsert': 28, 'influenza': 118, 'ew': 85, 'somnol': 106, 'type': 251, 'agreeabl': 14, 'benign': 113, 'adendum': 3, 'plavix': 29, 'nasopharyng': 9, 'aerosol': 127, 'posi': 1, 'aspirin': 95, 'dementia': 96, 'disorient': 12, 'climb': 64, 'guiac': 115, 'nitro': 37, 'slower': 90, 'compazin': 21, 'reinforc': 36, 'must': 46, 'demand': 75, 'age': 141, 'ntg': 43, 'bundl': 121, 'axi': 189, 'shout': 7, 'zyprexa': 59, 'scream': 7, 'apprehens': 5, 'supplement': 178, 'rale': 130, 'adl': 56, 'sitter': 36, 'contiu': 10, 'lll': 266, 'wrap': 23, 'wednesday': 20, 'multilobar': 35, 'adjac': 145, 'gelfoam': 3, 'cmx': 11, 'gauz': 34, 'cellul': 25, 'bacteria': 42, 'hyothyroid': 1, 'mult': 50, 'bilatter': 1, 'ivabx': 10, 'thirst': 21, 'amphotericin': 2, 'ahf': 1, 'die': 51, 'unknown': 197, 'indistinct': 44, 'mean': 59, 'hilum': 40, 'reflect': 220, 'document': 119, 'abroad': 1, 'pmd': 5, 'spectrum': 83, 'platlet': 4, 'hypoact': 112, 'grew': 43, 'tortuou': 60, 'asymmetr': 83, 'cll': 10, 'compon': 187, 'cpnt': 1, 'heard': 63, 'readdress': 31, 'por': 2, 'alveolar': 84, 'cavit': 26, 'superfici': 108, 'broad': 131, 'ooz': 65, 'dni': 145, 'pressor': 135, 'focal': 416, 'kling': 3, 'shin': 23, 'tacypn': 10, 'smicu': 10, 'help': 256, 'recal': 20, 'pathogen': 37, 'xeroform': 3, 'autoimmun': 10, 'declin': 100, 'focu': 106, \"con't\": 5, 'lucenc': 43, 'pc': 21, 'hemolyt': 6, 'accompani': 75, 'bronch': 140, 'meantim': 12, 'bipolar': 20, 'hemoconcentr': 9, 'lithium': 4, 'labatelol': 4, 'admin': 52, 'sh': 200, 'complianc': 80, 'eo': 175, 'uf': 176, 'penicillin': 53, 'correct': 99, 'psychiatr': 89, 'dilantin': 20, 'doubt': 49, 'nahco': 9, 'lacun': 6, 'constitut': 121, 'consequ': 17, 'antihypertens': 62, 'dialyz': 14, 'rapid': 189, 'murmur': 212, 'withdraw': 127, 'paramet': 90, 'hpi': 255, 'inch': 222, 'labetalol': 16, 'serum': 84, 'conjunctiv': 54, 'pngt': 7, 'ue': 103, 'incomprehens': 17, 'sq': 223, 'paranoia': 5, 'hemodialysi': 36, 'percuss': 117, 'stone': 82, 'suspect': 171, 'blurri': 47, 'hard': 137, 'emesi': 89, 'crisi': 11, 'neurolept': 3, 'resuscit': 95, 'insur': 32, 'mwf': 4, 'health': 113, 'glucon': 37, 'epilepticu': 8, 'alkalot': 9, 'emerg': 81, 'linisipril': 1, 'cri': 57, 'wane': 36, 'fh': 201, 'cardiopulmonari': 39, 'obtund': 16, 'jvp': 77, 'mono': 173, 'session': 21, 'medicaid': 13, 'key': 287, 'copi': 77, 'hcp': 128, 'differenti': 275, 'walker': 26, 'encephalopathi': 56, 'delirium': 95, 'schizophrenia': 15, 'proper': 52, 'withdrew': 9, 'evolut': 34, 'thrust': 2, 'deliri': 58, 'dextros': 39, 'wit': 61, 'retch': 2, 'multidisciplinari': 37, 'nourish': 150, 'reson': 90, 'critic': 219, 'interdisciplinari': 89, 'leukoencephalopathi': 3, 'conserv': 20, 'happen': 44, 'ensu': 2, 'sz': 26, 'neut': 172, 'caus': 266, 'wish': 85, 'kayexal': 14, 'levaquin': 126, 'dme': 15, 'genitourinari': 94, 'di': 23, 'malign': 139, 'input': 93, 'referr': 69, 'ventriculomegali': 3, 'labetolol': 15, 'univers': 12, 'life': 27, 'dialys': 6, 'wretch': 3, 'uremia': 9, 'wax': 55, 'spent': 275, 'wgt': 104, 'noxiou': 44, 'tongu': 73, 'esrd': 48, 'tempor': 27, 'nail': 20, 'experienc': 69, 'tox': 19, 'sugar': 164, 'yaunker': 11, 'stim': 45, 'insipidu': 6, 'thought': 143, 'proport': 7, 'gm': 155, 'dialysi': 97, 'miss': 48, 'infrequ': 22, 'sluggish': 31, 'kayexel': 6, 'horn': 4, 'senior': 9, 'medicar': 10, 'zofran': 38, 'noth': 51, 'proxi': 89, 'dislodg': 13, 'decid': 109, 'neuron': 15, 'certainli': 36, 'lactat': 160, 'amp': 60, 'hyperpotassemia': 4, 'hosp': 35, 'caudat': 10, 'vision': 59, 'bring': 88, 'standard': 210, 'unclear': 243, 'viral': 119, 'calcium': 157, 'fatigu': 172, 'hyperkalemia': 31, 'saw': 280, 'mail': 5, 'summari': 84, 'boni': 83, 'fractur': 177, 'bronchovascular': 16, 'oliguria': 18, 'workup': 60, 'hiatal': 44, 'irregular': 100, 'prevertebr': 10, 'fluidfil': 1, 'anteriorli': 96, 'lesser': 38, 'aneurysm': 69, 'align': 34, 'hernia': 91, 'dens': 125, 'groundglass': 2, 'sublux': 9, 'esophagu': 92, 'mottl': 12, 'mb': 36, 'micua': 2, 'vertebr': 85, 'lumbar': 85, 'swell': 132, 'trauma': 64, 'endobronchi': 24, 'coumadin': 139, 'nodul': 158, 'arthrit': 12, 'third': 66, 'salt': 7, 'ugi': 8, 'incomplet': 86, 'unenhanc': 14, 'pretrach': 18, 'revis': 41, 'lymphadenopathi': 198, 'granuloma': 30, 'infraren': 23, 'cpk': 31, 'em': 32, 'shingl': 6, 'prevascular': 35, 'lowermost': 2, 'afib': 203, 'coronari': 209, 'somewhatdil': 1, 'atroph': 26, 'simul': 3, 'pericard': 20, 'dic': 21, 'comand': 9, 'perla': 36, 'paco': 17, 'nkda': 57, 'tp': 26, 'reciv': 15, 'disress': 4, 'alerr': 1, 'lopresssor': 2, 'necessit': 13, 'balans': 1, 'distent': 79, 'spell': 18, 'tic': 1, 'stabliz': 8, 'rrt': 59, 'stagei': 1, 'reat': 1, 'peroid': 2, 'reacur': 1, 'pco': 120, 'rehabilit': 42, 'ketpad': 1, 'novasourc': 16, 'fresh': 4, 'shake': 72, 'push': 63, 'arrythmia': 19, 'unlabor': 64, 'prob': 31, 'expel': 7, 'ii': 115, \"rec'\": 20, 'telephon': 117, 'screan': 1, 'matress': 6, 'husband': 73, 'keyboard': 1, 'shigft': 1, 'cleans': 49, 'sy': 65, 'convert': 96, 'ar': 202, 'sludg': 28, 'colect': 2, 'pacu': 6, 'centimet': 18, 'aflutt': 26, 'peripheri': 33, 'ti': 7, 'broke': 19, 'qnd': 1, 'appropriat': 2, 'inferolater': 55, 'electr': 8, 'gel': 27, 'irreg': 30, 'incision': 23, 'nede': 3, 'fibb': 1, 'typer': 1, 'eti': 1, 'houseoffic': 13, 'might': 119, 'hypotenns': 1, 'uncontrol': 14, 'af': 123, 'raf': 23, 'secrtion': 2, 'mionitor': 1, 'apneaic': 2, 'administ': 287, 'copd': 210, 'produc': 85, 'whiteish': 2, 'becasu': 3, 'wnr': 9, 'dietwith': 1, 'fibrosi': 58, 'vdg': 3, 'advers': 22, 'ness': 4, 'wiggl': 37, 'stronger': 42, 'gown': 14, 'concentr': 54, 'hire': 3, 'sux': 19, 'interact': 110, 'glaucoma': 13, 'took': 90, 'worker': 52, 'strongli': 29, 'swab': 100, 'psoriasi': 6, 'lipitor': 23, 'demetia': 4, 'piec': 20, 'bruis': 49, 'coag': 90, 'nondistend': 32, 'step': 81, 'hypothroid': 3, 'remot': 40, 'lih': 1, 'kiss': 2, 'asa': 137, 'big': 16, 'addedum': 2, 'repair': 67, 'gram': 187, 'children': 55, 'cocci': 45, 'disloc': 30, 'er': 95, 'hoh': 27, 'memori': 30, 'ny': 3, 'alzheim': 35, 'az': 2, 'lograd': 1, 'springhous': 1, 'quietli': 20, 'consensu': 5, 'pneumoboot': 69, 'inc': 134, 'sw': 71, 'privat': 13, 'stood': 21, 'tsicu': 9, 'creat': 170, 'discolor': 12, 'fx': 58, 'intermittantli': 13, 'boarder': 6, 'sev': 9, 'everyth': 24, 'rncm': 1, 'daycar': 3, 'etoh': 71, 'occaision': 12, 'nqwmi': 3, 'nonprod': 11, 'ankl': 61, 'metacarp': 5, 'shock': 128, 'scopolamin': 13, 'smoke': 57, 'phebotomi': 1, 'psh': 11, 'tm': 105, 'urolog': 22, 'lethargi': 54, 'prostrat': 2, 'sao': 103, 'pager': 73, 'abil': 75, 'gout': 27, 'funer': 2, 'dininish': 1, 'biliou': 48, \"have't\": 1, 'rrl': 2, 'toprol': 11, 'profound': 20, 'metabol': 122, 'neo': 41, 'backrub': 6, 'carbadopa': 1, 'cardiovert': 4, 'ccu': 73, 'nimv': 6, 'fu': 13, 'parkinson': 24, 'lotion': 44, 'xl': 16, 'standbi': 48, 'mur': 8, 'sudden': 34, 'uncompems': 1, 'keeppt': 1, 'regularli': 27, 'unbroken': 12, 'rememb': 23, 'fail': 152, 'unsuccess': 81, 'yof': 24, 'gasi': 1, 'stooll': 1, 'inturb': 1, 'glu': 17, 'familyinform': 1, 'succ': 12, 'iter': 2, 'physician': 315, 'nearbi': 10, 'constip': 130, 'visabl': 4, 'carbidopa': 3, 'revers': 48, 'occa': 91, 'pmhx': 63, 'phx': 1, 'levodopa': 2, 'eaten': 9, 'pneumaonia': 1, 'blanch': 14, 'stting': 1, 'mhr': 6, 'geriatr': 9, 'dccv': 3, 'slt': 5, 'yell': 43, 'maalox': 7, 'prevent': 97, 'serev': 3, 'nebulis': 1, 'glargin': 38, 'exac': 8, 'hob': 164, 'term': 160, 'diltiazem': 77, 'pule': 3, 'disc': 45, 'tomorro': 1, 'niec': 21, 'giver': 6, 'daibet': 1, 'commenc': 20, 'distribut': 99, 'nebuils': 1, 'transfuss': 2, 'wheezi': 56, 'yest': 69, 'paroxysm': 15, 'fleet': 18, 'blow': 7, 'humidifi': 77, 'combiv': 48, 'stope': 4, 'hub': 4, 'statement': 9, 'thoracentesi': 88, 'bid': 89, 'partak': 1, 'brought': 129, 'pressurea': 1, 'stroke': 78, '$': 12, 'continiu': 1, 'loosen': 26, 'tighter': 7, 'remian': 28, 'rhonchu': 10, 'scd': 12, 'scoop': 4, 'mainta': 13, 'fem': 37, 'fullcod': 2, 'kepft': 1, 'creami': 19, 'pure': 85, 'clairifi': 1, 'sp': 88, 'insitu': 11, 'inatact': 2, 'humid': 13, 'solumedrol': 70, 'aim': 43, 'visist': 4, 'neic': 13, 'looser': 5, 'thisd': 1, 'prong': 21, 'stab': 6, 'previuo': 2, 'retain': 46, 'audilb': 1, 'easier': 18, 'ex': 46, 'methylprednisolon': 22, 'clearer': 37, 'enema': 30, 'hyperoxygen': 3, 'assesss': 3, 'midnoc': 30, 'contniu': 1, 'fm': 69, 'caregiv': 23, 'inflamm': 58, 'contiun': 2, 'blew': 2, 'lopress': 5, 'add': 219, 'plu': 54, 'resist': 87, 'cefuroxim': 4, 'bal': 84, 'background': 33, 'stair': 44, 'toothbrush': 1, 'qdaili': 5, 'featur': 22, 'toeveri': 1, 'senna': 94, 'alk': 181, 'ocular': 4, 'discusss': 2, 'pay': 11, 'mom': 27, 'frame': 34, 'pedn': 3, 'protect': 258, 'trimethoprim': 25, 'lax': 17, 'typeii': 1, 'iu': 151, 'repleat': 74, 'contractur': 15, 'ofr': 3, 'elexir': 1, 'sir': 37, 'albumin': 144, 'vitamin': 59, 'fold': 35, 'ointment': 41, 'resussit': 7, 'contro': 1, 'failri': 1, 'inspiratori': 80, 'meur': 1, 'cytokin': 1, 'qod': 21, 'grasp': 27, 'atherosclerot': 97, 'merepenem': 8, 'alt': 179, 'weekli': 15, 'bicarb': 53, 'feeed': 1, 'veget': 57, 'teeth': 118, 'manufactur': 70, 'emphas': 104, 'diffacult': 1, 'reappli': 33, 'goe': 42, 'enoxaparin': 7, 'stemi': 17, 'dig': 40, 'papillari': 44, 'physcial': 1, 'attach': 18, 'whenev': 17, 'planner': 4, 'bacilli': 3, 'calcul': 35, 'acei': 26, 'finish': 77, 'aerob': 45, 'aureu': 22, 'transffer': 8, 'sulfa': 30, 'reattach': 2, 'exhaust': 14, 'diurees': 1, 'crust': 9, 'delerium': 24, 'carb': 7, 'torulopsi': 1, 'bypass': 19, 'frusemid': 3, 'unspecifi': 4, 'succeed': 5, 'chlorhex': 6, 'kinear': 3, 'oo': 4, 'leuk': 15, 'fast': 47, 'klesiella': 1, 'fi': 66, 'cmp': 3, 'fungemia': 3, 'wo': 19, 'unlik': 120, 'apnvol': 4, 'way': 86, 'sharp': 45, 'attni': 1, 'ard': 145, 'lul': 153, 'benefit': 141, 'backup': 7, 'tell': 38, 'emotiion': 1, 'reoccur': 5, 'ween': 8, 'custom': 2, 'currrent': 5, 'lasic': 4, 'vreand': 1, 'transit': 207, \"'no\": 2, 'dysynchroni': 76, 'chlorthiazid': 1, 'mucou': 103, 'notabl': 165, 'alkalin': 60, 'comprehens': 9, 'tire': 82, 'fungu': 9, 'arrang': 32, 'author': 16, 'common': 139, 'myocard': 8, 'csb': 1, 'grow': 60, 'ssri': 60, 'occai': 2, 'irregularli': 21, 'fee': 19, 'rsb': 2, 'relaps': 8, 'ethic': 7, 'statin': 75, 'tazo': 24, 'told': 62, 'among': 4, 'mirtazapin': 8, 'compent': 1, 'cloud': 3, 'hypercholesterolemia': 34, 'involvemt': 1, 'conduct': 88, 'bac': 9, 'hip': 87, 'wk': 58, 'dehydr': 52, 'ophthalm': 5, 'month': 144, 'saturday': 18, 'therapuet': 6, 'deliriu': 3, 'claim': 69, 'mycobacterium': 4, 'toelrat': 4, 'presumpt': 19, 'variou': 55, 'frm': 2, 'lmw': 9, 'phosphoru': 105, 'consectut': 1, 'hemithorax': 114, 'supra': 11, 'vitb': 1, 'necrosi': 20, 'sulfamethoxazol': 13, 'esbl': 17, 'mic': 41, 'polypharmaci': 4, 'particp': 1, 'commmand': 1, 'plantar': 8, 'op': 105, 'injuri': 96, 'investig': 20, 'straight': 25, 'cognit': 73, 'toliet': 13, 'prepar': 79, 'extr': 32, 'nebul': 73, 'tomm': 10, 'interest': 28, 'zocor': 13, 'substanti': 145, 'calc': 62, 'hae': 2, 'atc': 54, 'ppm': 23, \"trach'd\": 3, 'propot': 2, 'muir': 33, 'equip': 23, 'file': 14, 'hep': 139, 'reconnect': 2, 'hctz': 16, 'speci': 10, 'frog': 2, 'hospic': 22, 'handl': 23, 'qday': 22, 'flight': 21, 'radiu': 10, 'unfortun': 29, 'vocal': 69, 'heent': 169, 'ventiatori': 1, 'tobramycin': 20, 'svr': 10, 'stiumuat': 1, 'anion': 18, '|': 12, 'locomot': 31, 'natur': 56, 'incident': 44, 'klebsiella': 18, 'supoprt': 2, 'sqi': 15, 'valvl': 1, 'growth': 91, 'kleb': 9, 'learn': 7, 'cachet': 9, 'antifung': 42, 'ami': 11, 'tracheal': 73, 'furosemid': 119, 'protein': 108, 'rpe': 40, 'ciprofloxacin': 60, 'ngtd': 82, 'fluoro': 90, 'tear': 94, 'vit': 50, 'hygein': 17, 'oint': 10, 'outupt': 1, 'deir': 1, 'quieter': 4, 'uub': 1, 'sensitivit': 4, 'infxn': 24, 'resassur': 3, 'carbon': 23, 'fluctuat': 57, 'mgt': 21, 'voluntarili': 3, 'throw': 9, 'friend': 73, 'supposedli': 2, 'reconsult': 28, 'staph': 51, 'spuriou': 3, 'empir': 119, 'heliox': 5, 'grab': 12, 'mumbl': 17, 'mngt': 4, 'resumpt': 9, 'glabrata': 1, 'scab': 27, 'inquir': 10, 'waveform': 101, 'variat': 31, 'futur': 88, 'multifactori': 49, 'funal': 1, 'apprec': 6, 'sate': 74, \"yesterday'\": 4, 'ventilatiori': 1, 'barrier': 135, 'gentamicin': 17, 'passey': 16, 'magnesium': 150, 'subacut': 15, 'ace': 68, 'cefazolin': 16, 'snd': 28, 'assoc': 28, 'epileptiform': 4, 'acheiv': 7, 'recur': 27, 'nchct': 6, 'recurr': 162, 'role': 48, 'maximum': 26, 'vb': 3, 'mri': 118, 'ranitidin': 23, 'narr': 28, 'ppx': 115, 'ctab': 39, 'interm': 9, 'vasopressor': 22, 'bue': 31, 'ampul': 1, 'andthat': 1, 'chlorhexidin': 29, 'reluct': 11, 'patiet': 2, 'caspo': 3, 'yeast': 83, 'rrr': 156, 'joint': 115, 'skill': 23, 'dwindl': 5, 'bg': 40, 'macu': 28, 'kub': 49, 'coordin': 47, 'chg': 21, 'hypodens': 91, 'messag': 19, 'inabl': 89, 'intraventricular': 45, 'mycobacteria': 3, 'liaison': 6, 'aecret': 1, 'sunday': 23, 'distanc': 53, 'dilig': 2, 'mellitu': 50, 'involut': 8, 'identif': 12, 'mycolyt': 2, 'import': 48, 'submit': 37, 'opthalm': 1, 'sqh': 33, 'osm': 20, 'dimer': 18, 'ant': 31, 'vavl': 1, 'cavern': 16, 'olanzapin': 27, 'bradycardia': 104, 'entercocc': 1, 'uti': 106, 'inward': 3, 'alo': 55, 'failr': 1, 'cult': 21, 'gen': 138, 'erect': 65, 'thursday': 27, 'dysynchronu': 1, 'obvious': 17, 'tco': 194, 'outcom': 15, 'prot': 10, 'loc': 21, 'puddl': 1, 'afb': 29, 'laundri': 1, 'rod': 53, 'anaerob': 19, 'stain': 111, 'synthroid': 24, 'suppli': 13, 'clarifi': 54, 'ceas': 6, 'cbi': 7, 'lawyer': 7, 'gip': 1, 'polio': 3, 'derecruit': 4, 'dip': 49, 'grimacc': 1, 'masshealth': 6, 'tuesday': 33, 'disturb': 19, 'gum': 5, 'ecchymos': 31, 'compet': 11, 'aggit': 48, 'never': 49, 'breakthrough': 30, 'hoyer': 6, 'bili': 173, 'versu': 138, 'coccu': 2, 'mgmt': 24, 'debilit': 5, 'decondit': 45, 'front': 18, 'iss': 71, 'jr': 9, 'llax': 1, 'mrsa': 152, 'caspofungin': 6, 'realist': 4, 'cyanosi': 130, 'aero': 1, 'glenohumer': 13, 'frighten': 5, 'obstacl': 6, 'hz': 5, 'tpa': 22, 'vehicl': 4, 'surgic': 173, 'vre': 36, 'spend': 11, 'mattress': 37, 'spot': 83, 'destin': 74, 'errat': 17, 'blocker': 131, 'hope': 112, 'ime': 1, 'rpr': 15, 'educ': 63, 'salin': 92, 'ass': 26, 'cg': 42, 'myco': 3, 'carotid': 57, 'metavis': 34, 'figiti': 2, 'photic': 1, 'rhonchrou': 5, 'optho': 1, 'postur': 47, 'reeval': 13, 'knee': 81, 'micro': 101, 'origin': 143, 'bradycard': 38, 'undetermin': 25, 'club': 114, 'inflict': 1, 'interview': 9, 'pan': 93, 'legionella': 129, 'rub': 157, 'ryhtym': 1, 'press': 94, 'uncompl': 67, 'bacteri': 145, 'atelectat': 74, 'ionli': 1, 'pmn': 48, 'omit': 6, 'resit': 20, 'exhal': 32, '^nd': 36, 'oropharyng': 105, 'repac': 1, 'occup': 90, 'truli': 12, 'acknowledg': 22, 'nitrat': 11, 'soap': 21, 'amylas': 71, 'pip': 139, 'sfa': 8, 'malnutrit': 50, 'cachect': 21, 'ntinu': 2, 'hyperventil': 14, 'pl': 105, 'palli': 31, 'bare': 35, 'ontcool': 1, 'worri': 12, 'ncat': 18, 'nab': 35, 'bacteremia': 70, 'probe': 29, 'garbl': 25, 'phonat': 8, 'redrawn': 8, 'galabrata': 1, 'reattempt': 12, 'winc': 12, 'piperacillin': 106, 'occipit': 22, 'cardiologist': 14, 'dull': 81, 'zosyn': 185, 'rta': 5, 'fungal': 82, 'passi': 29, 'discontinu': 139, 'synchron': 65, 'meaning': 4, 'sick': 35, 'motor': 77, 'tightli': 4, 'linezolid': 33, 'poss': 55, 'nonsens': 12, 'specieat': 1, 'uroin': 1, 'challeng': 38, 'integumentari': 91, 'tubular': 12, 'ventilatori': 150, 'con': 48, 'guard': 89, 'uncomprehend': 1, 'indemn': 1, 'flora': 37, 'asses': 21, 'establish': 57, 'leukocytosi': 169, 'retract': 35, 'tap': 81, 'exsuffl': 7, 'airmov': 3, 'autoflow': 47, 'bmi': 69, 'wihtout': 5, 'oxid': 14, 'inservic': 1, 'depart': 37, 'permit': 14, 'comfrot': 1, 'ceftazidim': 26, 'folat': 41, 'weekend': 58, 'phosphat': 65, 'compani': 12, 'fibrinogen': 35, 'anticoagul': 128, 'toxic': 54, 'reinflat': 5, 'straighten': 5, 'suctiong': 2, 'nr': 12, 'resourc': 7, 'thurday': 1, 'overwelm': 1, 'tc': 64, 'enterococca': 1, 'enterrococcu': 1, 'anticoag': 12, 'correctli': 14, 'synergi': 2, 'spous': 15, 'djd': 9, 'till': 54, 'holiday': 7, 'unimprov': 4, 'diastol': 173, 'deciph': 2, 'kcal': 81, 'lactic': 220, 'rwma': 2, 'eeg': 31, 'transthorac': 33, 'bu': 15, 'est': 15, 'mrg': 26, 'decompens': 90, 'anterioli': 1, 'relev': 67, 'caco': 4, 'mouthcar': 12, 'paralyz': 81, 'deflat': 36, 'misinform': 1, 'assest': 1, 'icd': 51, 'disorgan': 2, 'strengthen': 13, 'painm': 2, 'finesh': 1, 'postpon': 18, 'lipas': 73, 'lot': 65, 'drsg': 41, 'layer': 110, 'diinish': 1, 'grimic': 1, 'knowledg': 21, 'enterococcu': 19, 'microbiolog': 154, 'ast': 167, 'ausc': 9, 'sternal': 63, 'shallow': 50, 'cataract': 35, 'buit': 1, 'train': 35, 'mov': 2, 'ltac': 15, 'count': 156, 'financi': 7, 'ideal': 127, 'gnr': 69, 'peridex': 16, 'ioniz': 114, 'bottl': 59, 'unassist': 29, 'ucx': 60, 'syndrom': 105, 'polici': 7, 'morpholog': 37, 'leukocytpsi': 1, 'program': 41, 'cluster': 40, 'gentl': 74, 'assur': 17, 'siani': 1, 'heo': 1, 'myopathi': 11, 'render': 14, 'simvastatin': 44, 'activit': 3, 'hgb': 88, 'diaper': 18, 'ineffect': 48, 'payer': 3, 'intracran': 1, 'ensur': 85, 'bedcloth': 1, 'coloni': 11, '^th': 23, 'across': 41, 'outlin': 115, 'annual': 1, 'shallowli': 2, 'elig': 3, 'mmol': 214, 'whi': 61, 'ongo': 130, 'pvd': 45, 'understood': 12, 'bc': 83, 'pursu': 51, 'olanazipin': 1, 'pct': 5, 'cor': 14, 'postiv': 14, 'nitric': 7, 'flexion': 23, 'durat': 69, 'deduct': 2, \"c'd\": 22, 'lean': 20, 'micropunctur': 66, 'stretch': 10, 'septicemia': 5, 'awit': 2, 'kinair': 38, 'lscta': 16, 'reschedul': 9, 'sensori': 37, 'closs': 2, 'confer': 11, 'medivis': 5, 'obtian': 1, 'unarous': 4, 'encephalomalacia': 8, 'ldh': 153, 'gic': 1, 'rg': 3, 'sequela': 28, 'pleth': 12, 'nl': 92, 'etc': 106, 'improvemt': 1, 'gasp': 7, 'ntnd': 33, 'writer': 8, 'wore': 13, 'snx': 13, 'jaundic': 83, 'cbc': 52, 'vesta': 44, 'thiamin': 17, 'pgt': 5, 'dicharg': 2, 'perfom': 3, 'esp': 45, 'alittl': 9, 'anxiolyt': 12, 'constantli': 30, 'troubleshoot': 2, 'subglott': 16, 'bud': 16, 'organ': 171, 'cefepim': 107, 'encourgag': 3, 'bilirubin': 61, 'clench': 5, 'inplac': 25, 'typic': 42, 'rout': 93, 'resusit': 11, 'intoler': 85, 'hello': 2, 'vna': 16, 'clarif': 49, 'fascil': 1, 'cancel': 34, 'ophtho': 1, 'apart': 29, 'epitheli': 34, 'speciat': 35, 'lebsiella': 1, 'ddx': 55, 'approv': 59, 'deepli': 10, 'nard': 31, 'asse': 1, 'usag': 11, 'alound': 1, 'contain': 102, 'compromis': 44, 'flexor': 5, 'zantac': 12, 'soil': 5, 'rtc': 22, 'plateau': 78, 'pneumo': 49, 'chose': 2, 'lcode': 1, 'resudu': 2, 'throught': 12, 'hypoglycemia': 29, 'cabl': 2, 'relay': 12, 'zoloft': 14, 'toxin': 25, 'ud': 16, 'acalc': 3, 'regain': 16, 'stare': 10, 'disp': 5, 'rult': 1, 'reddend': 2, 'caudad': 2, 'trachealbronch': 1, 'amelior': 2, 'lcontinu': 1, 'periton': 25, 'gaol': 3, 'larm': 2, \"nts'ing\": 3, 'secreat': 60, 'hypopharyng': 3, 'nst': 9, 'levoquin': 71, 'contanct': 1, 'duct': 70, 'dibilit': 1, 'stv': 15, 'hypo': 58, 'vp': 12, 'swan': 20, 'pcn': 28, 'hypoxemia': 159, 'travers': 16, 'postpylor': 6, 'pit': 80, 'narcan': 14, 'perinephr': 15, 'dup': 15, 'profoundli': 10, 'trietz': 1, 'periph': 25, 'introduc': 48, 'strenghth': 1, 'resolut': 184, 'dssg': 12, 'territori': 45, 'sump': 7, 'fwb': 19, 'ostomi': 21, 'pericholecyst': 22, 'subcutan': 122, 'intra': 130, 'retinopathi': 8, 'quinin': 2, 'flumazenil': 2, 'artlin': 2, 'shunt': 33, 'cultu': 2, 'ped': 2, 'uncahng': 1, 'reproduc': 4, 'tracheobronc': 1, 'bottuck': 1, 'cvl': 114, 'erythemat': 32, 'cov': 11, 'ventriculoperiton': 3, 'ganz': 17, 'subdur': 21, 'facial': 65, 'asymmmetr': 1, 'captropril': 4, 'reidual': 1, 'iddm': 20, 'kump': 10, 'bottom': 28, 'chole': 6, 'wil': 5, 'undergo': 33, 'etomid': 10, 'diverticul': 36, 'apsolut': 1, 'perinium': 1, 'unwil': 4, 'women': 13, 'mcq': 28, 'ultrac': 8, 'ruq': 51, 'duski': 12, 'occl': 1, 'gastroparesi': 8, 'fundu': 20, 'hematoma': 87, 'slate': 2, 'cohlecyst': 1, 'pearl': 56, 'triphas': 5, 'trim': 17, 'vpshunt': 1, 'careweb': 13, 'nn': 3, 'pigtail': 36, 'wedg': 26, 'couldnt': 1, 'dyspepsia': 3, 'recaptur': 2, 'presuur': 1, 'intraperiton': 31, 'duodem': 1, 'tracheobronch': 6, 'ulnar': 8, 'radiopaqu': 14, 'viscou': 14, 'insuffl': 11, 'excori': 46, 'pylor': 32, 'ptx': 112, 'offset': 5, 'dilut': 41, 'temporarili': 14, 'weakli': 34, 'captoril': 2, 'fdg': 29, 'nasotrach': 19, 'gyral': 1, 'choic': 32, 'pharynx': 30, 'dollar': 3, 'epitaxi': 2, 'appendix': 14, 'suit': 51, 'succinycholin': 1, 'multipodi': 11, 'wbcc': 2, 'wir': 1, 'protonix': 109, 'breat': 5, 'mrsh': 1, 'cephalad': 5, 'format': 65, 'foerarm': 1, 'convex': 14, 'conspicu': 14, 'comp': 6, 'swang': 1, 'nephrogram': 4, 'beyond': 58, 'effct': 3, 'unsuit': 3, 'ful': 5, 'coupl': 65, 'lasi': 2, 'paramedian': 7, 'groin': 77, 'disent': 1, 'trough': 91, 'albut': 6, 'descend': 76, 'vasc': 5, 'yeasti': 8, 'motil': 16, 'manipul': 31, 'mesenter': 70, 'rescreen': 6, 'nph': 44, 'lp': 39, 'trumpet': 13, 'nare': 44, 'hypernatrimia': 1, 'mvt': 5, 'splenic': 38, 'pancreat': 61, 'five': 33, 'gluocos': 1, 'pluggi': 12, 'rim': 16, 'mucoid': 24, 'stockinett': 1, 'flexitract': 2, 'zero': 13, 'fingerstick': 72, 'ascit': 86, 'comf': 11, 'keflex': 9, 'peri': 67, 'punctat': 17, 'affirm': 6, 'perk': 1, 'optim': 115, 'inconsistanti': 1, 'usus': 1, 'intrapelv': 8, 'definit': 207, 'ligament': 19, 'yerterday': 1, 'shoot': 9, 'isodens': 5, 'elixir': 9, 'unifoc': 5, 'waffl': 23, 'retroperiton': 74, 'strenght': 7, 'superstiff': 2, 'pap': 33, 'preexist': 9, 'fsb': 61, 'fluro': 5, 'palpat': 107, 'technologist': 2, 'ventriculo': 1, 'hourli': 52, 'captopril': 56, 'scar': 85, 'anplatz': 1, 'intrabdomin': 5, 'inter': 3, 'intiat': 4, 'navicular': 4, 'osa': 48, 'extrasystol': 6, 'gage': 2, 'nuclear': 6, 'sepi': 3, 'beplac': 1, 'mgm': 30, 'els': 16, 'im': 24, 'plain': 29, 'dulcolax': 36, 'posteriorli': 51, 'unusu': 30, 'nois': 18, \"cx'ed\": 1, 'labrum': 1, 'diaph': 2, 'massiv': 38, 'pneumoni': 4, 'airport': 1, 'articular': 6, 'roughli': 15, 'moderatli': 1, 'fewer': 11, 'tea': 15, 'abscess': 119, 'strep': 32, 'fiber': 82, 'supp': 43, 'lightli': 71, 'urpc': 2, 'feasabl': 1, 'six': 39, 'pd': 14, 'suspicion': 74, 'supraspinatu': 2, 'pcxr': 12, 'uncertain': 38, 'flex': 28, 'gadolinium': 35, 'moist': 52, 'posterolater': 9, 'lordot': 5, 'dorsum': 2, 'prof': 1, 'bicep': 6, 'osteomyel': 22, 'substanc': 12, 'cchr': 8, 'quick': 26, 'attemp': 7, 'gross': 75, 'cmi': 3, 'linear': 77, 'aberr': 9, 'conintu': 4, 'solid': 132, 'deform': 50, 'fifth': 10, 'numer': 73, 'ltr': 5, 'recenli': 1, 'neutral': 16, 'fourth': 15, 'eet': 1, 'medicin': 56, 'ble': 57, 'scratchi': 2, 'hyperemia': 6, 'settign': 3, 'bright': 26, 'decub': 67, 'pneumococc': 25, 'extensor': 3, 'pox': 14, 'diminut': 7, 'subcort': 24, 'peerla': 6, 'bursa': 3, 'humer': 23, 'cardio': 54, 'cuboid': 1, 'pneu': 2, 'metatars': 3, 'subacromi': 1, 'affebril': 1, 'pneum': 4, 'signal': 48, 'tiolet': 4, 'hem': 27, 'fli': 4, 'tbb': 25, 'dimens': 34, 'unsucessful': 1, 'occn': 8, 'yearold': 1, 'infraspinatu': 2, 'stir': 8, 'disus': 1, 'diprivan': 1, 'diaphret': 1, 'nearli': 59, 'rythm': 19, 'spontrr': 1, 'musculotendin': 1, 'plexopathi': 1, 'acromi': 1, 'marrow': 31, 'phenomenon': 10, 'clavicular': 13, 'tommorrow': 18, 'tarsal': 1, 'withrr': 1, 'necrot': 40, 'arrous': 13, 'rusti': 12, 'subscapulari': 2, 'cuneiform': 1, 'magnevist': 35, 'saliva': 5, 'mellow': 1, 'obl': 3, 'subdeltoid': 1, 'flood': 2, 'malfunct': 7, 'axox': 11, 'yeseterday': 1, 'speach': 11, 'contnu': 3, 'hemo\\x13rrhoid': 1, 'coopert': 3, 'ctu': 1, 'laser': 5, 'cat': 23, 'vaopriz': 1, 'pole': 56, 'hematuria': 45, 'dentur': 48, 'anusol': 2, 'jitteri': 4, 'radiolgist': 1, 'nibp': 44, 'shakey': 2, 'personnel': 4, 'echogen': 56, 'klibesella': 1, 'basalar': 1, 'inct': 2, 'absc': 3, 'store': 11, 'printer': 1, 'oreint': 5, 'largest': 47, 'bay': 2, 'exophyt': 13, 'broken': 48, 'uret': 25, 'hypoecho': 9, 'smooth': 16, 'doze': 42, 'tranport': 2, 'crystal': 6, 'ax': 90, 'vapor': 1, 'periureter': 2, 'multidetector': 54, 'urosepsi': 14, 'pertrud': 1, 'maint': 23, 'atyp': 95, 'ach': 22, 'hygen': 10, 'adedqu': 1, 'pee': 7, 'misk': 1, 'lobar': 45, 'explan': 44, 'otherwsi': 1, 'forc': 25, 'headach': 104, 'bronchosast': 1, 'irrit': 34, 'bark': 2, 'constant': 62, 'hack': 5, 'diphoret': 1, 'snack': 9, 'draig': 1, 'followand': 1, 'historian': 14, 'hr^': 2, 'hypotherm': 20, 'stoma': 26, 'mgso': 17, 'shedul': 3, 'unbutton': 1, 'eupneic': 2, 'argantroban': 1, 'stem': 20, 'flash': 44, 'failer': 1, 'aplli': 7, 'column': 6, 'rep': 14, 'bair': 14, 'tansfer': 1, 'strengh': 1, 'sympomat': 1, 'lle': 45, 'dt': 18, 'fhp': 35, 'sig': 59, 'hugger': 20, 'mth': 4, 'hose': 2, 'therapeud': 2, 'sternotomi': 60, 'random': 36, 'remaian': 2, 'argatroban': 3, 'doublegard': 1, 'receievd': 2, 'decannul': 8, 'reserv': 20, 'electoly': 1, 'exaserb': 2, 'cleaner': 10, 'psychosoci': 34, 'unbrocken': 2, 'fear': 15, 'ptmay': 1, 'satu': 4, 'fam': 18, 'lisinipril': 2, 'wt': 59, 'althought': 4, 'captipril': 2, 'prec': 21, 'triazidon': 1, 'hit': 35, 'outli': 1, 'ced': 58, 'stagger': 5, 'bedtim': 31, 'median': 42, 'hydrostat': 10, 'tight': 49, 'trazodon': 22, 'incourag': 5, 'packet': 21, 'kilo': 2, 'readjust': 11, 'dischar': 1, 'receiev': 6, 'appi': 14, 'reevalu': 45, 'cxray': 24, 'inlet': 91, 'cadiac': 3, 'react': 39, 'metoprolo': 5, 'hhtm': 1, 'miur': 2, 'dangl': 16, 'admiit': 2, 'dermi': 2, 'atr': 62, 'azithromycin': 121, 'draft': 2, 'occas': 27, 'loperessor': 1, 'oxycodon': 90, 'twitch': 9, 'drplet': 1, 'afebriel': 2, 'shovel': 54, 'pacer': 63, 'upto': 20, 'cefriaxon': 5, 'needi': 2, 'wrong': 24, 'clavicl': 35, 'yankor': 1, 'deferves': 1, 'vnaco': 1, 'elsewher': 15, 'hypokalem': 1, 'perman': 24, 'tolert': 7, 'calib': 99, 'vpace': 9, 'woken': 14, 'ddd': 10, 'beextub': 1, 'phlegm': 18, 'nerpo': 1, 'ut': 5, 'hemodynamci': 5, 'unreason': 1, 'disregard': 7, 'choke': 38, 'deposit': 11, 'cook': 6, 'acidemia': 11, 'fsg': 16, \"sx'ing\": 13, 'reappear': 4, 'adher': 11, 'ord': 1, 'incent': 70, 'fgd': 2, 'spiromet': 43, \"tx'ed\": 6, 'accur': 40, 'cloudi': 71, 'inutb': 1, 'wosen': 2, 'dev': 5, 'nepro': 13, 'power': 28, 'througho': 1, 'andw': 1, 'eri': 2, 'resecur': 2, 'insuln': 2, 'outpu': 1, 'recehck': 1, 'qt': 26, 'leftward': 46, 'coulf': 1, 'zyprexia': 10, 'grand': 14, 'openn': 1, 'miconazol': 35, '^^frequent': 1, 'toleat': 2, 'carin': 11, 'cop': 14, 'applesauc': 57, 'rational': 10, 'rewir': 2, 'ansarca': 2, 'nonverb': 35, 'languag': 88, 'digit': 12, 'asymetr': 1, 'twenti': 11, 'hiss': 49, 'adv': 21, 'wise': 8, 'probal': 37, 'sluggishli': 5, 'bifurc': 20, 'additiona': 1, 'univ': 7, 'adapt': 21, 'reexpans': 17, 'tibia': 6, 'pearla': 1, 'copiu': 12, 'dieuresi': 4, 'hydralazin': 63, 'ramp': 8, 'extrim': 19, 'bmx': 16, 'reinstiut': 1, '^bp': 5, 'mon': 124, 'steam': 5, 'bilatar': 2, 'nu': 7, 'agreement': 29, 'multipod': 6, 'puffi': 5, 'serou': 54, 'mp': 20, 'draingag': 2, 'rl': 13, 'ota': 18, 'foe': 7, 'circular': 3, 'weepi': 12, \"today'\": 14, 'danger': 9, 'iurs': 1, 'weep': 31, 'underw': 60, 'zyrexa': 2, 'presept': 6, 'strongh': 2, 'enjoy': 11, 'bloood': 2, 'nailb': 14, 'pose': 4, 'opressor': 1, 'cycl': 71, 'cpr': 21, 'agent': 51, 'auto': 36, 'sotalol': 3, 'midnit': 17, 'takennoff': 1, 'hook': 6, 'temporari': 33, 'whotish': 1, 'hypernatremai': 1, 'perfit': 4, 'unlabour': 7, 'epistaxi': 45, 'dilt': 76, 'favor': 43, 'ic': 10, 'autodiuresi': 18, 'florid': 1, 'antiobx': 1, 'aquacel': 12, 'psycho': 2, 'succinylcholin': 5, 'pantoprazol': 96, 'oversed': 17, 'tazobactam': 90, 'ric': 1, 'arrhythmia': 79, 'slp': 69, 'thr': 5, 'nectar': 85, 'tab': 61, 'lamotrigin': 4, 'burn': 23, 'prudent': 4, 'bcx': 81, 'ppf': 7, 'atn': 44, 'hypocalor': 23, 'worrisom': 46, 'sa': 18, 'nocturn': 15, 'video': 113, 'lorazepam': 66, 'guidelin': 14, 'downward': 39, 'inadequ': 59, 'chin': 38, 'machin': 33, 'sertralin': 7, 'bactermia': 8, 'hcl': 36, 'intersti': 4, 'cipro': 73, 'dcd': 18, 'arf': 112, 'lighten': 24, 'wwp': 25, 'bee': 35, 'thrombocytosi': 11, 'trop': 71, 'gallop': 65, 'pta': 59, 'cal': 49, 'offici': 17, 'sensat': 60, 'gotten': 16, 'granul': 14, 'euvolem': 48, 'anithypertens': 2, 'lamict': 3, 'pseudomona': 54, 'mmm': 83, 'mvv': 2, 'ecg': 124, 'robitussin': 14, 'mouthwash': 5, 'context': 38, 'seroquel': 32, 'wan': 1, 'os': 47, 'bronchospasm': 27, 'phenylephrin': 13, 'closur': 34, 'ofm': 13, 'fistula': 48, 'caution': 18, 'scope': 18, 'ao': 13, 'ipratroprium': 7, 'seed': 4, 'proceed': 42, 'crush': 68, 'treatement': 5, 'hyperlipidemia': 74, 'quetiapin': 8, 'delin': 29, 'bibasilr': 3, 'barium': 84, 'laryngoscop': 1, 'thrombocytopeni': 3, 'distant': 119, 'organomegali': 41, 'idos': 1, 'normoact': 16, 'stridor': 27, 'decadron': 16, 'tracheocutan': 1, 'vicoden': 1, 'recordsheparin': 1, 'shape': 28, 'mention': 47, 'bupropion': 4, 'hurt': 14, 'autoset': 12, 'intraabdomin': 26, 'neither': 19, 'nkfa': 15, 'contamin': 63, 'alway': 56, 'tbm': 10, 'dysphagia': 89, 'postop': 31, 'calori': 62, 'bronchoscopi': 101, 'requr': 6, 'vicodin': 12, 'rd': 48, 'penetr': 74, 'eomi': 56, 'interfer': 5, 'tracheomalacia': 19, 'tracheobronchiomalacia': 1, 'supraglott': 2, 'heamodinam': 2, 'jrld': 8, 'chanc': 20, 'copmlet': 1, 'neosynephrin': 10, 'guaifenesin': 23, 'lunch': 40, 'rigid': 34, 'strict': 49, 'utd': 2, \"amt'\": 1, 'atheroma': 15, 'throughtout': 10, 'regimin': 14, 'asthma': 76, 'bronchopneumonia': 8, 'raa': 13, 'hcfa': 22, 'border': 79, 'orthostat': 6, 'releas': 32, 'probablyl': 1, 'intcat': 1, 'woke': 30, 'asd': 65, 'benzocain': 11, 'flovent': 23, 'pnumonia': 6, 'laa': 16, 'latter': 14, 'certifi': 23, 'appendag': 17, 'spray': 32, 'exagger': 13, 'dosag': 42, 'spacer': 16, 'regul': 26, 'basilar': 201, 'aunt': 11, 'user': 7, 'multidiciplanari': 2, 'culter': 4, 'notbal': 1, 'opert': 1, 'difus': 3, 'thereor': 2, 'drinkinhg': 1, 'cardia': 11, 'abus': 89, 'tachi': 109, 'xr': 9, 'minor': 63, 'whilst': 5, 'airborn': 13, 'fan': 9, 'proce': 6, 'number': 88, 'setteld': 1, 'preacuat': 1, 'therepay': 1, 'systool': 1, 'tollert': 5, 'dirrhea': 3, 'expor': 2, 'myo': 1, 'sober': 4, 'drope': 8, 'inact': 4, 'polysubst': 8, 'clavian': 1, 'efus': 2, 'clock': 21, 'prouctiav': 1, 'tenou': 2, 'arrborn': 1, 'rac': 10, 'issacc': 1, 'obliqu': 44, 'incresa': 9, 'sweat': 31, 'tachcardia': 3, 'salesman': 2, 'suptum': 4, 'former': 26, 'malais': 29, 'unoffici': 2, 'hrli': 23, 'tele': 78, 'bloodwork': 2, 'someon': 21, 'intralumin': 43, 'coughin': 2, 'oedema': 2, 'pleurit': 50, 'leginella': 1, 'soung': 1, 'housem': 1, 'compliant': 28, 'hepc': 6, 'halfway': 6, 'tb': 35, 'reassurr': 3, 'maitain': 7, 'entre': 1, 'percent': 12, 'endocrin': 100, 'surround': 117, 'blastic': 40, 'ivanbx': 2, 'tolerta': 4, 'quadrent': 9, 'labe': 2, 'dizzy': 4, 'noncontrast': 26, 'dinner': 44, 'great': 102, 'svo': 30, 'diarrhoea': 2, 'feasibl': 13, 'monitot': 1, 'invers': 48, 'nss': 10, 'plueral': 7, 'ductal': 46, 'hunger': 10, 'exposur': 45, 'wrote': 12, 'ablat': 14, 'widen': 54, 'yeaterday': 4, 'radiofrequ': 2, 'offic': 36, 'inspir': 53, 'osteolyt': 10, 'partli': 23, 'hcc': 4, 'puffer': 1, 'attenutaion': 1, 'anomali': 3, 'evalut': 20, 'cardiomedistin': 2, 'paratrach': 55, 'rightward': 32, 'atenolol': 23, 'emphysemat': 25, 'aprox': 4, 'rfa': 2, 'perfus': 108, 'biliari': 93, 'chill': 93, 'celiac': 16, 'accentu': 13, 'pseudocyst': 4, 'amiben': 1, 'bulla': 9, 'cryptogen': 7, 'calciif': 1, 'asbesto': 18, 'portal': 69, 'vesicl': 16, 'plastic': 16, 'emphysema': 117, 'pancreatit': 6, 'phasether': 1, 'eosinophil': 23, 'multiphas': 4, 'knew': 18, 'real': 21, 'plaqu': 50, 'priior': 1, 'hypersensit': 15, 'stent': 77, 'pseudo': 8, 'wonder': 9, 'threat': 6, 'smoothli': 3, 'hila': 32, 'iwht': 1, 'nodular': 89, 'psych': 70, 'centrilobular': 30, 'pouch': 7, 'jelli': 13, 'commut': 1, 'sizabl': 10, 'mandarin': 4, 'lingula': 51, 'mix': 77, 'anem': 6, 'flexi': 16, 'predomin': 48, 'dome': 12, 'sphincter': 10, 'dat': 5, 'nuse': 1, 'mvmt': 7, 'gradual': 81, 'cardaic': 9, 'flucytosin': 1, 'bedbath': 7, 'indwel': 83, 'door': 8, 'amb': 30, 'dispos': 3, 'montior': 12, 'toe': 64, 'ppp': 44, 'stripe': 3, 'maew': 14, 'dark': 88, 'aortopulmonari': 5, 'ne': 16, 'ealier': 2, 'inhomogen': 2, 'antigen': 69, 'induct': 11, 'bsc': 6, 'beter': 2, 'difficutli': 8, 'ile': 1, 'cryptococc': 7, 'azrithomycin': 1, 'acit': 6, 'ambison': 2, 'azythromycin': 8, 'ampho': 1, 'refriger': 3, 'tue': 103, 'asap': 25, 'beeper': 13, 'fluconazol': 22, 'atb': 7, 'girlfriend': 9, 'treament': 3, 'sed': 47, 'conjunct': 77, 'station': 27, 'bronchu': 48, 'thorax': 53, 'alveol': 3, 'tail': 21, \"pvc'\": 2, 'trap': 26, 'bronchiectasi': 45, 'nutrient': 1, 'bt': 16, 'cross': 39, 'evolv': 48, 'undergon': 14, 'hdsa': 3, 'prone': 20, 'nomogram': 2, 'reas': 1, 'sarcoidosi': 8, 'resect': 60, 'calculi': 22, 'decreaz': 1, 'traction': 12, 'strain': 28, 'softner': 4, 'textur': 18, 'bigm': 1, 'wth': 10, 'nonrebreath': 6, 'biopsi': 61, 'mx': 5, 'intrahepat': 39, 'thhat': 1, 'spokesperson': 35, 'standpoint': 29, 'solu': 10, 'vat': 37, 'select': 26, 'seri': 74, 'intralobular': 5, 'rib': 92, 'ild': 15, 'interlobular': 12, 'asymp': 1, 'monit': 11, 'medrol': 12, 'leni': 44, 'osmo': 2, 'chew': 16, 'calif': 1, 'hypoxem': 63, 'sighn': 1, 'bigemini': 18, 'meal': 67, 'promari': 1, 'conves': 1, 'aao': 19, 'onm': 1, 'serax': 2, 'dedic': 30, 'bronchiolectasi': 2, 'joke': 5, 'solomn': 1, 'occasionali': 7, 'bifront': 5, 'barier': 1, 'fore': 2, 'inflow': 40, 'ssc': 4, 'oze': 1, 'unwind': 1, 'adeq': 31, 'jet': 17, 'therapaut': 1, 'braeth': 2, 'hardwar': 28, 'mush': 3, 'edg': 53, 'eccentr': 18, 'edt': 2, 'pst': 2, 'ccheck': 1, 'bolou': 4, 'puntur': 1, 'rewrit': 1, 'somul': 19, 'lacunar': 20, 'scratch': 11, 'trochant': 5, 'dement': 5, 'wcn': 1, 'napho': 1, 'neutropho': 8, 'derang': 2, 'trnasfus': 1, 'tronchant': 1, 'debrid': 14, 'debried': 2, 'rhytham': 3, 'hygroma': 2, 'statg': 1, 'fainf': 1, 'thalamu': 3, 'sarna': 18, 'hypoglycem': 14, 'altepas': 2, 'regurg': 10, 'attemtpt': 2, 'rhonchoru': 14, 'patenc': 32, 'ccq': 3, 'althoug': 1, 'thicker': 10, 'fpp': 1, 'planninng': 1, 'intubat': 3, 'montitor': 3, \"antibx'siv\": 1, 'btwn': 6, 'spasmod': 1, 'superf': 2, 'occaa': 1, 'incis': 54, 'inj': 6, 'zip': 2, 'fleck': 5, 'betweeen': 1, 'cefepin': 2, 'yel': 18, 'gestur': 33, 'sundrom': 1, 'amiodaron': 47, 'powed': 1, 'additon': 7, 'rhinoviru': 1, 'nervous': 1, 'cefapim': 14, 'maex': 6, 'asynchronu': 1, 'weitht': 1, 'vigir': 1, 'avvess': 1, 'clonazipam': 1, 'nausou': 1, 'bldi': 11, 'protex': 1, 'sb': 107, 'gtube': 17, 'atril': 2, 'occass': 22, 'postion': 16, 'bradi': 37, 'thyroid': 108, 'longest': 2, 'psupp': 8, 'gluteal': 20, 'predinson': 2, 'stretcher': 32, 'gt': 33, 'transfert': 1, 'diflucan': 6, 'syrup': 7, 'airb': 9, 'mlc': 4, 'cefipim': 74, 'complementari': 1, 'podu': 8, 'moderat': 1, 'sacrum': 45, 'hundr': 6, 'mildi': 20, 'eith': 3, 'abit': 6, 'nka': 4, 'sxned': 21, 'naus': 3, 'bcome': 1, 'clonazapam': 3, 'sacral': 42, 'briskli': 20, 'lopresor': 8, 'eldest': 2, 'forehead': 7, 'revertedcardiolog': 1, 'recevi': 4, 'adventiti': 2, 'episd': 1, 'rednessskin': 1, 'amio': 23, 'hyperoxemia': 3, 'medium': 40, 'amiod': 2, '^activ': 1, \"'tire\": 1, 'diureiss': 1, 'noutrit': 1, 'break': 43, 'pat': 12, 'admininst': 2, 'vasopressin': 17, 'sn': 4, 'perineum': 29, 'duflucan': 1, 'appro': 4, 'pacemek': 1, 'meditatin': 1, 'baslin': 8, 'reang': 1, 'revert': 11, 'pnr': 2, 'codein': 31, 'preprocedur': 35, 'breakdow': 1, 'instil': 32, 'disted': 1, 'reticular': 17, 'rr^': 2, 'properli': 26, 'epidod': 1, 'dizzi': 43, 'serequel': 4, 'confluenc': 22, 'comapzin': 1, 'play': 21, 'codien': 3, 'lightheaded': 25, 'redn': 2, 'rvr': 52, 'viust': 1, 'homeopath': 2, 'tighten': 22, 'doctor': 25, 'ccn': 6, 'brachi': 1, 'guafenisen': 1, 'fliud': 5, 'holist': 2, 'prednison': 108, 'methimazol': 3, 'updatedon': 1, \"'rest\": 1, 'pant': 4, 'uninvolv': 2, 'perian': 26, 'atropin': 14, 'ecchymosi': 20, 'wateri': 21, 'ffp': 28, 'bsx': 21, 'print': 11, 'towel': 6, 'periipher': 1, 'ativa': 1, 'retap': 29, 'bend': 10, 'facilit': 54, 'nsb': 8, 'alprazolam': 5, 'cleanser': 21, 'stert': 1, 'pone': 2, 'coccxi': 3, 'xtra': 3, 'breakdownn': 1, 'contini': 3, '^inr': 2, 'resportedli': 3, 'perirect': 10, 'extremit': 28, 'flipp': 1, 'flip': 14, 'rsp': 11, 'pivot': 41, 'realiz': 11, 'hyperthyroid': 4, 'music': 5, 'sxd': 14, 'antianxieti': 9, 'wht': 4, 'ultim': 33, 'save': 9, 'steriod': 27, 'recev': 4, 'decrea': 4, 'disten': 8, 'miconizol': 6, 'ordere': 3, 'xanax': 12, 'lrg': 12, 'electolyt': 8, 'foam': 16, 'hypoxaemiaand': 1, 'rtw': 1, 'belt': 9, 'litr': 15, 'accumul': 18, \"am't\": 3, 'dicis': 1, 'acess': 6, 'grossili': 1, 'activi': 1, 'mul': 7, 'upbeat': 2, 'pulmojnari': 1, 'doppl': 2, 'comfortabl': 1, 'toilett': 4, 'frewq': 1, 'heplock': 18, 'suceed': 2, 'thumb': 8, 'passymuir': 1, 'norepinephrin': 23, 'graft': 24, 'entranc': 5, 'ncm': 18, 'granular': 4, 'near': 151, 'maxa': 8, 'dyspneic': 46, 'bar': 6, 'pulll': 1, 'cabgx': 3, 'hypercalcemia': 10, 'sens': 34, 'btca': 4, 'wfl': 40, 'hap': 93, 'seiz': 4, 'ctx': 66, 'hypovolemia': 51, 'yom': 31, 'sustain': 42, 'nonpit': 1, 'unnecessari': 6, 'load': 65, 'eob': 23, 'vm': 11, 'lob': 15, 'readmit': 35, 'groom': 2, 'pharmaci': 42, 'tunnel': 48, 'dronederon': 1, 'doesnt': 5, 'hyperthryoid': 1, 'ug': 2, 'warafin': 1, 'redo': 10, 'granual': 1, 'lipid': 15, 'cue': 41, 'noninvas': 13, 'epilept': 2, 'cholesterol': 12, 'tub': 6, 'sqt': 1, 'vc': 7, 'sem': 22, 'afterward': 26, 'ttp': 20, 'suspens': 13, 'femor': 131, 'heb': 6, 'appt': 10, 'bph': 29, 'simpli': 17, 'famotidin': 58, 'yetserday': 1, 'hair': 5, 'warfarin': 35, 'choley': 3, 'flank': 40, 'protract': 4, 'performac': 12, 'rlq': 11, 'cholecystosomi': 1, 'reb': 5, 'phenytoin': 9, 'resuspend': 1, 'cholecystectomi': 39, 'telemetri': 56, 'spin': 8, 'motiv': 9, 'sure': 50, 'pth': 4, 'beneprotein': 28, 'heat': 20, 'abbrevi': 4, 'exud': 22, 'clearanc': 58, 'dead': 12, 'intermit': 30, 'tartrat': 29, 'trachemask': 1, 'mmp': 10, 'cast': 13, 'urea': 3, 'risen': 3, 'achhiev': 1, 'pafib': 3, 'rins': 14, 'palcement': 7, 'absorb': 9, 'intensivist': 3, 'compart': 12, 'phenobarbit': 3, 'elect': 27, 'greatli': 37, 'violent': 3, 'platelet': 27, 'supratherapeut': 25, 'hemoglobin': 9, 'convuls': 4, 'bsn': 20, 'hotn': 13, 'implant': 9, 'maxim': 37, 'dye': 29, 'drew': 3, 'shif': 1, 'retri': 9, 'endur': 30, 'phlebiti': 3, 'appoint': 30, 'moda': 13, 'cholangiogram': 1, 'glutam': 1, 'hypoperfus': 16, 'antibioit': 1, 'environment': 1, 'redos': 12, 'pictur': 57, 'plof': 7, 'household': 2, 'vd': 13, 'foami': 2, 'surgeon': 12, 'commens': 9, 'dyslipidemia': 15, 'mere': 9, 'serratia': 2, 'vdvt': 1, 'endovascular': 2, 'alkolosi': 6, 'kepra': 1, 'subtherapeut': 23, 'confid': 6, 'levetiracetam': 8, 'inaccur': 5, 'spars': 25, 'ukn': 1, 'dronedaron': 1, 'strenth': 2, 'bromid': 33, 'urojet': 3, 'squat': 5, 'diverticulosi': 33, 'aris': 18, 'cholecystostomi': 2, 'tacheostomi': 2, 'monosodium': 1, 'flomax': 7, 'preced': 43, 'ipratropium': 74, 'triglycerid': 9, 'okay': 60, 'oett': 27, 'angri': 25, 'enalapril': 9, 'vasotec': 7, 'methylprednison': 11, 'arrest': 23, 'unsucces': 4, 'hypothermia': 19, 'discoid': 8, 'ni': 6, 'harsh': 13, 'adaptec': 2, 'worst': 22, 'writen': 1, 'neutrophil': 10, 'sugic': 1, 'semiform': 5, 'struggl': 7, 'nightgown': 2, 'hydralizin': 18, 'aeros': 2, 'anymor': 14, 'othwis': 1, 'mural': 13, 'bsbl': 1, 'dobhuff': 1, 'asystol': 2, 'misc': 5, 'ridgid': 2, 'flexibl': 5, 'armstorng': 1, 'terribl': 4, 'medistin': 5, 'nobodi': 2, 'propof': 2, 'crepitu': 27, 'releiv': 4, 'hallucinatori': 2, 'indian': 3, 'bronchoscop': 10, 'suddenli': 12, 'notibl': 1, 'mo': 27, 'tumor': 44, 'moistur': 14, 'shred': 1, 'radiat': 80, 'drowsi': 14, 'unsucess': 2, 'kill': 8, 'diminis': 1, 'advantag': 2, 'sorri': 4, 'maintenc': 2, 'setup': 7, 'leather': 3, 'taht': 2, 'reprot': 2, 'paranoid': 10, 'cordi': 10, 'restarin': 1, 'reccur': 3, 'thrash': 17, 'peermenat': 1, 'fom': 4, 'metastat': 65, 'thoracostomi': 8, 'tachyapen': 1, 'decsion': 3, 'vaccum': 1, 'imv': 13, 'attack': 20, 'design': 36, 'pcw': 2, 'kn': 1, 'oncologist': 18, 'beggin': 1, 'bandaid': 9, 'west': 20, 'escap': 5, 'propfol': 7, 'remiss': 6, 'build': 17, 'oncolog': 34, 'importantli': 4, 'waist': 12, 'smoker': 69, 'lap': 19, 'conitinu': 2, 'desprat': 1, 'delusioni': 1, 'nevertheless': 12, 'lla': 8, \"'m\": 25, 'subclav': 3, 'henc': 8, 'paralyt': 10, 'proccess': 1, 'hallucin': 33, 'abat': 5, 'empti': 27, 'orali': 1, 'multilpl': 1, 'proof': 1, 'dictat': 70, 'crew': 2, 'clapm': 1, 'paperwork': 34, 'gs': 21, 'neoplast': 14, 'permen': 2, 'harm': 8, 'departur': 3, 'oxicontin': 1, 'midday': 3, 'ncp': 1, 'wrestl': 1, 'chemo': 44, 'currentlli': 1, 'stint': 1, 'xrt': 41, 'divorc': 6, 'dryer': 2, 'brieflli': 1, 'azitromycin': 2, 'fhpa': 7, 'segment': 205, 'perecnt': 1, 'ivda': 4, 'consit': 5, 'addict': 21, 'presep': 18, 'uncoil': 2, 'hcv': 23, 'thoughtout': 2, 'neuropathi': 36, 'floey': 1, 'plum': 1, 'immidiatli': 1, 'tirat': 3, 'serosang': 31, 'adendun': 1, 'communc': 2, 'bigboy': 1, 'closet': 2, 'receipt': 2, 'vicodan': 1, 'pseudonoma': 1, 'colostomi': 17, 'morbid': 15, 'bsf': 2, 'draing': 12, 'shilli': 1, 'tran': 16, 'mgx': 4, 'respiraotri': 3, 'marker': 31, 'clonopin': 6, 'catch': 7, 'avg': 9, 'amx': 3, 'aroussbl': 1, 'clonipin': 5, 'acinetobact': 3, 'bariair': 3, 'tablet': 26, 'arhb': 9, 'courc': 1, 'epi': 25, 'chemistri': 51, 'augment': 97, 'anterospt': 1, 'retir': 29, 'outsid': 75, 'freeli': 43, 'syring': 11, 'curent': 4, 'anterolater': 39, 'grimaci': 1, 'linazolid': 3, 'option': 51, 'pneumoperitoneum': 19, 'lit': 34, 'prioriti': 7, 'capactiy': 1, 'rigor': 26, 'hsq': 14, 'gluc': 9, 'azygo': 14, 'alkp': 1, 'qhr': 8, 'illicit': 10, 'pxdb': 7, 'tobacco': 77, 'malposit': 24, 'notat': 3, 'normocyt': 10, 'def': 7, 'somonl': 3, 'dng': 16, 'faster': 55, 'hemipharesi': 1, 'damag': 14, 'sun': 60, 'rhoncer': 7, 'repo': 17, 'ppd': 30, 'anteriolater': 1, 'rsrc': 14, 'jxxb': 6, 'agua': 1, 'png': 6, 'jksd': 18, 'ferritin': 14, 'haloperidol': 25, 'isquit': 1, 'dif': 8, '^rd': 13, 'ftt': 5, 'ggt': 9, 'gr': 32, 'lad': 83, 'inhibitor': 30, 'pulmocar': 1, 'meropenim': 4, 'suprahilar': 10, 'roscommon': 1, 'unerli': 1, 'italian': 4, 'drench': 1, 'ezmolol': 1, 'tw': 7, 'sundown': 15, \"uti'\": 1, 'jtube': 7, 'sbo': 27, 'mvi': 38, 'synthryoid': 1, 'sclera': 115, 'porcin': 5, \"dri'\": 1, 'insid': 13, 'improp': 1, 'causal': 2, 'yesterd': 1, 'vessl': 2, 'odor': 14, 'palc': 8, 'levof': 3, 'caliciu': 1, 'worthwhil': 1, 'metop': 8, 'algorithm': 7, 'allevyn': 21, 'blacken': 5, 'invalid': 5, 'hrt': 21, 'acccess': 2, 'bind': 1, 'catheter': 18, 'atter': 1, 'lcx': 9, 'solut': 24, 'act': 60, 'chlorhexadin': 2, 'tricep': 3, 'nitrit': 6, 'clonidin': 14, 'mulitivitamin': 1, 'sion': 1, 'clostridium': 20, 'hypoaldosteron': 2, 'omeprazol': 43, 'ste': 6, 'rather': 82, 'sight': 8, 'blockad': 15, 'qidach': 2, 'cardic': 1, 'protector': 2, 'healthcar': 40, 'bicarbon': 13, 'twi': 18, 'juven': 1, 'ascorb': 4, 'alcohol': 96, 'patellar': 3, 'hyperosmolar': 1, 'pk': 9, \"ce'\": 3, 'nephrotox': 9, 'valid': 13, 'hyperantremia': 1, 'miner': 47, 'defici': 38, 'alleyvn': 1, 'housestaff': 30, 'eschar': 8, 'argu': 18, 'mdr': 8, 'rarr': 1, 'exch': 18, 'bilar': 2, 'std': 5, 'crowd': 15, 'hf': 19, 'reciproc': 3, 'resposit': 7, 'hyperglycemia': 82, 'meticul': 5, 'hadsbp': 1, 'multidrug': 2, 'upslop': 1, 'sttw': 2, 'decel': 4, 'intev': 3, 'suppl': 81, 'toson': 1, 'neuto': 1, 'ture': 5, 'angina': 13, 'besid': 11, 'anicter': 69, 'formula': 30, 'millimet': 2, 'cytolog': 26, 'hyperreson': 44, 'buttack': 1, 'restrict': 89, 'dashboard': 7, 'broadli': 23, 'equival': 14, 'perday': 1, 'nursig': 1, 'merepenum': 8, 'bound': 17, 'fetl': 1, 'reassuringli': 1, 'aa': 21, 'profus': 14, 'uncommun': 3, 'peritoneum': 4, 'rca': 9, 'elderli': 34, 'difficil': 31, 'perpher': 18, 'cerebrovascular': 11, \"'out\": 1, 'misplac': 5, 'grayscal': 79, 'unstag': 8, 'avf': 27, 'metoclopramid': 15, 'htpn': 1, 'cortisol': 27, 'honk': 1, 'unk': 1, 'muc': 1, 'fulll': 1, 'vsd': 39, 'flexis': 31, 'spfc': 15, 'medntal': 1, 'bblocker': 6, 'account': 43, 'pda': 26, 'resrart': 1, 'unstabl': 30, 'groan': 12, 'nonstag': 1, 'presur': 2, 'pottassium': 1, 'mag': 82, 'disrrhea': 1, 'panel': 49, 'ratio': 24, 'dhf': 3, 'brbpr': 10, 'pack': 74, 'hear': 67, 'neutra': 9, 'hemorrhoid': 9, 'mca': 17, 'ts': 41, 'ipratrop': 2, 'siadh': 26, 'multivitamin': 59, 'diaphoresi': 41, 'nickel': 3, 'rhoncor': 12, 'coaurs': 1, 'beta': 99, 'vigil': 4, 'hemiparesi': 29, 'legal': 36, 'tetracyclin': 12, 'reclin': 13, 'cathey': 1, 'fed': 22, 'maiten': 2, 'repet': 7, 'attorney': 8, 'pud': 46, 'guardian': 14, 'si': 17, 'advair': 35, 'onlin': 13, 'retent': 51, 'divis': 43, 'disimpact': 13, 'furosemi': 1, 'impact': 40, 'consolod': 2, 'suppositori': 25, 'bathroom': 16, 'prod': 66, 'silent': 34, 'acquisit': 27, 'dchf': 10, 'ouput': 13, 'purs': 9, 'mbue': 8, 'llq': 10, 'catscan': 3, 'subcentimet': 30, 'overdistend': 2, 'pullmonari': 2, 'osteo': 10, 'overt': 81, 'itch': 21, 'mssa': 21, 'sud': 6, 'klor': 1, 'senakot': 1, 'sma': 10, 'pneumothorac': 31, 'loratadin': 5, 'uteru': 27, 'arthroplasti': 9, 'miralax': 16, 'longstand': 31, 'presepsi': 2, 'everytim': 2, 'centavit': 1, 'consecut': 14, 'myalgia': 62, 'soband': 1, 'osteoarthr': 22, 'bronchiti': 34, 'thatn': 1, 'streak': 35, 'tramadol': 11, 'glycol': 11, 'iin': 4, 'benzonat': 6, 'sock': 5, 'manual': 33, 'spiriva': 20, 'golyt': 3, 'modestli': 4, 'migrain': 10, 'homemak': 4, 'polyethylen': 12, 'hypoalbuminemia': 2, 'bloat': 4, 'fibroid': 7, 'disempact': 3, 'noncontributori': 3, 'flew': 1, 'arthriti': 30, \"md'\": 3, 'abund': 10, 'fluticason': 25, 'recordslosartan': 1, 'annulu': 23, 'precordium': 17, 'tenac': 2, 'gabapentin': 29, 'cramp': 18, 'angioedema': 8, 'discern': 12, 'obstip': 8, 'coli': 20, 'abdomihn': 1, 'paf': 19, 'version': 44, 'ultram': 15, 'palpit': 78, 'seven': 23, 'instanc': 6, 'calcarb': 1, 'gastrointestin': 109, 'numb': 53, 'neurot': 1, 'repons': 2, 'jekh': 11, 'losartan': 9, 'pseudomana': 1, 'tha': 6, 'bra': 2, \"legionella'\": 1, 'atorvastatin': 24, 'milk': 17, 'sticki': 7, 'fev': 9, 'angioneurot': 1, 'churg': 3, 'bronchogram': 64, 'clairfi': 1, 'spoken': 41, 'flouroscopi': 3, 'mici': 1, 'ru': 2, 'unbal': 1, 'zithromax': 10, 'anf': 4, 'aforement': 11, 'apperci': 1, 'recommenc': 3, 'emisi': 2, 'yield': 24, 'town': 5, 'yankaeur': 5, 'od': 7, 'ade': 2, 'suciton': 7, 'aphas': 10, 'inflitr': 3, 'evlauat': 1, 'evenu': 1, 'glucerna': 2, 'boop': 9, 'radiologistclip': 1, 'carcinomatosi': 5, 'lost': 33, 'ultrasonograph': 15, 'tunnedl': 1, 'broncoscopi': 5, 'vicryl': 8, 'epiglott': 35, 'deflect': 36, 'biapic': 16, 'oscult': 1, 'conist': 2, 'outpouch': 1, 'incl': 29, 'atelectas': 17, 'shth': 6, 'spillag': 4, 'lymphanget': 2, 'cricopharyng': 3, 'absenc': 75, 'perti': 1, 'para': 18, 'neoplasm': 39, 'vascul': 14, 'centesi': 7, 'intestin': 27, 'correspond': 63, 'int': 22, 'collim': 29, 'passag': 12, 'ultrasonographi': 5, 'oropharynx': 59, 'exact': 10, 'nonlas': 5, 'pnemonia': 17, 'transamin': 26, 'phase': 113, 'aspergillosi': 3, 'dont': 2, 'sebac': 4, 'duplex': 30, 'echotextur': 28, 'bibas': 24, 'vault': 4, 'dopp': 9, 'cbd': 21, 'pel': 15, 'serviceclip': 4, 'ake': 1, 'nonenhanc': 2, 'asperigillosi': 1, 'vori': 1, 'aggrav': 2, 'peribronchiolar': 9, 'display': 60, 'niv': 28, 'pancrat': 1, 'torso': 96, 'anyon': 10, 'ciwa': 22, 'oval': 24, 'aaox': 33, 'sibl': 9, 'hypoattenu': 18, 'bx': 31, 'chnage': 5, 'neccessari': 4, 'agrre': 1, 'dep': 7, 'peopl': 33, 'entero': 1, 'duiresi': 4, 'diverticulum': 10, 'soften': 9, 'pylori': 11, 'bang': 9, 'bedrail': 6, 'coninu': 6, 'spon': 18, 'tie': 13, 'eqaul': 1, 'presseur': 1, 'musc': 1, 'strategi': 13, 'prosthet': 14, 'tyleno': 3, 'epigastr': 21, 'tu': 9, 'outout': 3, 'adeqaut': 7, 'midnght': 1, 'reliabl': 18, 'antibiod': 8, 'ancef': 1, 'medcial': 1, 'elong': 47, 'pati': 1, 'assit': 10, 'previosu': 1, 'rsd': 1, 'ther': 8, 'preclud': 15, 'abt': 5, 'overlay': 4, 'addtion': 4, 'trachesotomi': 1, 'greek': 3, 'shown': 36, 'cntl': 3, 'charg': 6, 'sxt': 4, \"'ing\": 6, 'thorcentesi': 1, 'siderail': 13, 'loccul': 1, 'mycostatin': 16, 'antibioitc': 2, 'eccyhmot': 1, 'rust': 8, 'placem': 10, 'bulg': 11, 'dysphoria': 1, 'patint': 2, 'tack': 3, 'oet': 3, 'diffult': 1, 'tudi': 1, 'sheddi': 1, 'pomot': 1, 'zenker': 3, 'sanguin': 10, 'sideport': 9, 'brkd': 1, 'prospect': 2, 'scare': 12, 'book': 17, 'sxning': 18, 'mayb': 34, 'deem': 17, 'pharyngoesophag': 1, 'fc': 7, 'bloodting': 7, 'nifm': 1, 'subpulmon': 7, 'intol': 2, 'aroung': 3, 'apneia': 1, 'epigast': 1, 'ventilatio': 1, 'exclus': 13, 'pnaumonia': 1, 'backflow': 2, 'cholelithiasi': 36, 'nonobstruct': 9, 'thrombosi': 91, 'hepatoma': 1, 'cirrhot': 6, 'durages': 5, 'esphog': 1, 'neurontin': 39, 'xalatan': 2, 'nodal': 18, 'fentanlyl': 1, 'rythmic': 1, 'asid': 22, 'nystagmoid': 1, 'nonbreath': 1, 'nephrectomi': 12, 'overse': 1, 'aortocav': 4, 'grave': 6, 'hyperechogen': 2, 'huge': 13, 'phosphatas': 8, 'uncomprehens': 2, 'collater': 15, 'olni': 1, 'varic': 14, 'neutro': 4, 'older': 12, 'contributori': 21, 'eagg': 9, 'valvular': 73, 'seriou': 5, 'gmdb': 3, 'hypoxi': 1, 'honeycomb': 10, 'levoflaxacin': 2, 'pneumovax': 3, 'shadow': 53, 'inclin': 5, 'baricat': 6, 'sbna': 9, 'flecainid': 2, 'pterion': 2, 'qpm': 9, 'ileu': 42, 'extrahepat': 15, 'elicit': 13, 'frontotempor': 2, 'subcarin': 48, 'grown': 18, 'intracardiac': 17, 'splenoren': 2, 'necessarili': 8, 'nwh': 5, 'heavi': 43, 'splenomegali': 26, 'mood': 15, 'nsst': 2, 'esophag': 75, 'transcort': 1, 'tambocor': 1, 'bubbl': 24, 'abomin': 1, 'craniotomi': 7, 'collapps': 1, 'flovastin': 1, 'decomp': 2, 'questran': 1, 'meningismu': 4, 'ica': 23, 'foramen': 18, 'pancytopenia': 9, 'flecanid': 2, 'steadili': 13, 'pernici': 4, 'sac': 10, 'architectur': 9, 'anur': 17, 'pepcid': 46, 'megacolon': 12, 'recordspneumovax': 1, 'empyema': 64, 'celexa': 25, 'accordion': 1, 'metronidazol': 54, 'pmi': 84, 'pancol': 3, 'rheumat': 6, 'flecanaid': 1, 'aneursym': 4, 'pseudomembran': 2, 'lowish': 2, 'blossom': 4, 'dilaudid': 42, 'chgc': 4, 'orific': 5, 'pneumatosi': 16, 'qam': 18, 'skincar': 4, 'pfo': 19, 'habitu': 52, 'unsur': 40, 'hyperinfl': 31, 'dyspahgia': 2, 'unexplain': 8, 'depakot': 13, 'enterobact': 7, 'withnew': 1, 'stigmata': 3, 'narrow': 111, 'tkcb': 4, 'vac': 8, 'falgyl': 2, 'ampl': 11, 'throughput': 1, 'suctioin': 1, 'frquesnt': 1, 'mc': 14, 'demerol': 10, 'flucuat': 3, 'insuffici': 84, \"trach'\": 2, 'peptimen': 2, 'darker': 4, 'withdrawl': 20, 'qlcl': 2, 'arachnoid': 5, 'baracat': 2, 'coffe': 23, 'billiou': 3, 'groov': 2, 'dem': 1, 'bf': 3, 'purri': 1, 'yankauer': 28, 'sharpli': 17, 'imipemium': 1, 'unclamp': 3, 'intermitantli': 2, 'exu': 1, 'extralumin': 7, 'anticoagualt': 1, 'airmattress': 4, 'cmpeep': 1, 'sputm': 3, 'amyla': 1, 'panic': 14, 'mycoplasma': 6, 'grip': 15, 'acyclovir': 21, 'patien': 4, 'anaplast': 2, 'sheift': 1, 'bilou': 5, 'improvemnt': 2, 'pheresi': 1, 'methylen': 3, 'bulb': 12, 'taught': 10, 'lge': 27, 'midlung': 8, \"decr'\": 1, 'pocket': 24, 'transluc': 1, 'pupos': 3, 'deescal': 1, 'junctur': 1, 'barocat': 3, 'mimin': 2, 'maynot': 1, 'stau': 8, 'fluroscop': 2, 'peripancreat': 3, 'ostiomeat': 5, 'hemi': 5, 'eripher': 1, 'carvu': 15, 'cooprer': 1, 'catnap': 1, 'uac': 3, 'midazolam': 75, 'tachycardiac': 5, 'ugib': 8, 'mequ': 1, 'larynx': 8, 'clam': 3, 'subcm': 2, 'lisinepril': 1, 'linisod': 1, 'indicaiton': 1, 'recan': 6, 'thur': 9, 'chekc': 2, 'zestril': 3, 'liw': 1, 'ltue': 1, 'antiboticx': 1, 'pneumat': 10, 'tonit': 12, 'rebolus': 3, 'vallecula': 36, 'thoughout': 17, 'bout': 15, 'netrothick': 1, 'ocassion': 5, 'intrathorac': 18, 'lwi': 1, 'drng': 31, 'popscicl': 1, 'wob^': 1, 'blanket': 35, 'anesthesi': 1, 'hallway': 5, 'crate': 1, 'extermit': 3, 'behind': 14, 'reddish': 2, 'speck': 5, 'spillov': 23, 'heavili': 19, 'startl': 6, 'airwari': 1, 'stoolx': 5, 'homogen': 34, 'endoscop': 6, 'tart': 2, 'armpit': 9, 'kegal': 1, 'nodd': 4, 'pneunomia': 2, 'practic': 9, 'infil': 4, 'auditori': 6, 'fuction': 3, 'particiapt': 1, 'awi': 3, 'fluorscop': 1, 'dueoderm': 4, 'paper': 32, 'court': 9, 'ou': 6, 'gravitli': 1, 'fuo': 26, 'laboratori': 12, 'lenght': 3, 'evsl': 1, 'ducolax': 10, 'vhp': 3, 'hypoplast': 3, 'ureteru': 1, 'fifteen': 2, 'recultur': 37, 'visul': 1, 'mash': 4, 'cam': 3, 'diuesi': 1, 'regiular': 1, 'oxygent': 7, 'leakag': 24, 'articul': 13, 'tachypen': 13, 'surfac': 39, 'anatom': 16, 'gastrographin': 2, 'drgreena': 1, 'spiral': 2, 'transger': 1, 'honey': 15, 'tyenol': 6, 'ativanx': 1, 'coomand': 1, 'palpapt': 1, 'agiat': 6, 'perlla': 4, 'pasi': 2, 'slough': 6, 'com': 4, 'htx': 1, 'crea': 10, 'diabetc': 1, 'eros': 17, 'bmthi': 1, 'dtv': 9, 'throuhgout': 4, 'affirmativley': 1, \"sx'ed\": 7, 'tacycardia': 3, 'phenegin': 1, 'flexur': 10, 'aknowledg': 1, 'oz': 4, 'lavarg': 5, 'rhonch': 3, 'rem': 1, 'tracheobronchi': 20, 'actviti': 3, 'appropi': 19, 'attemt': 5, 'multipurpos': 1, 'integrt': 1, 'throghout': 1, 'iatrogen': 7, 'weather': 5, 'valuewith': 1, 'acidot': 14, 'wont': 2, 'teh': 7, 'lanti': 6, 'erract': 1, 'fxd': 3, 'palap': 2, 'diaphor': 1, 'bgm': 1, 'tommorow': 9, 'bilex': 1, 'podiatri': 6, 'fatiqu': 3, 'viscer': 9, 'peptamin': 1, 'fallen': 9, 'oil': 11, 'method': 14, 'pleura': 31, 'catheth': 2, 'gastrograffin': 4, 'llightli': 1, 'unilater': 9, 'empath': 2, 'repiratori': 5, 'brb': 13, 'averag': 51, 'gastrostomi': 35, 'haldolx': 1, 'lcl': 1, 'benzo': 46, 'straw': 62, 'transaort': 7, 'lenti': 1, 'appropti': 1, 'quadrupl': 2, 'peptomen': 3, 'cooler': 2, 'droperidol': 1, 'muer': 2, 'acalcul': 4, 'dima': 1, 'expens': 3, 'imipenem': 7, 'truncat': 2, 'spirit': 26, 'meperidin': 7, 'anesthet': 26, 'imipenum': 3, 'gelatan': 1, 'edno': 2, 'shook': 7, 'pipicilln': 1, 'liezolid': 1, 'peq': 1, 'nutrtion': 3, 'riski': 3, 'accid': 8, 'bronchi': 54, 'fro': 23, 'mandibl': 15, 'egg': 9, 'coud': 7, 'tachpneic': 8, 'silk': 14, 'ivx': 7, 'grimmac': 6, 'intremitt': 1, 'rle': 40, 'tachypeniec': 2, 'llift': 1, 'hydral': 17, 'teari': 10, 'antegrad': 16, 'spirt': 1, 'maxillofaci': 11, 'imepenem': 2, 'prolin': 1, 'flouro': 3, 'darken': 1, 'transvers': 41, 'distensio': 1, 'kind': 9, 'hypertroph': 5, 'flaygl': 5, 'maintainc': 3, 'letherg': 1, 'flagal': 2, 'circumscrib': 12, 'pathologist': 19, 'domin': 9, 'swollow': 9, 'cu': 16, 'humidifc': 2, 'acromioclavicular': 8, 'orangish': 1, 'lac': 14, 'duires': 4, 'hve': 1, 'lacutlos': 1, 'vertebra': 13, 'givn': 9, 'comforat': 2, 'indetermin': 106, 'pusl': 1, 'thryoidectomi': 1, 'sato': 9, 'tt': 12, 'shell': 1, 'likley': 15, 'thyroidectomi': 9, 'bougi': 3, 'collabor': 26, 'accesori': 3, 'diffculti': 2, 'retriev': 10, 'spc': 1, 'dorsali': 34, 'irregualr': 1, 'steadi': 51, 'primarili': 44, 'shaft': 10, 'biilater': 1, 'uncommon': 3, 'hymodynam': 1, 'langu': 1, 'suffer': 19, 'cardizem': 12, 'implement': 17, 'pleasent': 2, 'institut': 9, 'parastern': 13, 'protecton': 1, 'breather': 9, 'chorda': 51, 'subcost': 14, 'gone': 34, \"'even\": 1, 'dinnertim': 2, 'thrombi': 20, 'presenlti': 1, 'pep': 3, 'svn': 17, 'npc': 13, 'ccc': 61, 'valsartan': 6, 'hypopituitar': 1, 'hyperbar': 1, 'appropriatli': 11, 'comm': 39, 'girl': 5, 'adat': 20, 'feurea': 10, 'coverg': 3, 'oh': 10, 'sella': 3, 'spread': 24, 'eject': 34, 'atarax': 1, 'recordsac': 1, 'desmopressin': 2, 'pyelonephr': 8, 'diovan': 6, 'microorgan': 27, 'mandat': 14, 'givenrsbi': 1, 'adn': 11, 'ddavp': 4, 'mghg': 1, 'hypernatermia': 1, 'panhypopit': 1, 'diiures': 1, 'callout': 9, 'dysuria': 70, 'reorder': 11, 'hypercarb': 44, 'loudest': 6, 'bronchodiltor': 1, 'usb': 3, 'disabl': 15, 'panhypopituitar': 1, 'fena': 30, 'hypokalemia': 16, 'young': 14, 'valsartin': 1, 'americar': 1, 'overweight': 88, 'hypoventil': 20, 'mcv': 11, 'callbel': 4, 'boy': 5, 'hypercapn': 9, 'grandchildren': 6, 'rusb': 6, 'asdir': 10, 'bascil': 1, 'iorn': 1, 'decort': 23, 'saftey': 4, 'epidur': 19, 'alph': 2, 'anticub': 3, 'tortuos': 24, 'bilt': 2, 'redict': 1, 'readili': 12, 'tarri': 6, 'basilac': 2, 'drifit': 1, 'comprehend': 6, 'firmer': 2, 'immediatli': 2, 'yankuer': 14, 'radlin': 10, 'lebil': 1, 'gell': 2, 'advis': 32, 'repeatedli': 25, 'titir': 3, 'radiolabel': 1, 'camera': 2, 'sulfur': 1, 'periren': 4, 'fluctuant': 2, 'repetit': 8, 'aniticip': 1, 'nephrolithiasi': 25, 'ri': 8, 'acceler': 11, 'compleat': 2, 'inquiri': 12, 'nightmar': 1, 'autonim': 1, 'unconclus': 1, 'daughet': 3, 'uci': 1, 'babi': 7, 'scali': 2, 'gamma': 3, 'lidoderm': 9, 'undetect': 6, 'capabl': 7, 'inleg': 1, 'complainingof': 1, 'strictli': 7, 'dysmotil': 2, 'severli': 6, 'listen': 31, 'bo': 18, 'autonom': 9, 'colloid': 4, 'ingest': 16, 'reprons': 1, 'hyotens': 3, 'cerebro': 1, 'parasagitt': 5, 'esophogram': 2, 'abraison': 1, 'hemispher': 18, 'label': 13, 'nauseat': 5, 'vacuo': 4, 'whil': 1, 'malleol': 1, 'radiopharmeceut': 1, 'cotinu': 4, 'endoscopi': 20, 'tracer': 9, 'contratur': 1, 'transcript': 10, 'caspofugin': 1, 'emboli': 34, 'myocardium': 7, 'breifli': 4, 'obx': 1, 'rvef': 1, 'gadolin': 4, 'horizont': 5, 'epicardi': 6, 'amplitud': 28, 'asymmetri': 18, 'corvac': 2, 'phasic': 13, 'arrhymia': 1, 'immunosupress': 6, 'dynspnea': 1, 'ej': 9, 'echodens': 7, 'dtpa': 5, 'bilobar': 1, 'cmr': 1, 'ssfp': 1, 'dimeglumin': 1, 'mtx': 2, 'pauciti': 10, 'crohn': 9, 'atial': 1, 'mltp': 1, 'skelet': 9, 'wheat': 2, 'pneumocyst': 2, 'compl': 3, 'similarli': 13, 'worsn': 2, 'algorythm': 1, 'gadopentet': 1, 'qp': 1, 'cine': 2, 'index': 28, 'methadon': 24, 'customari': 1, 'fraction': 30, 'immunosuppress': 17, 'spectral': 19, \"'chest\": 1, 'appropraietli': 1, 'liquidi': 4, 'ritalin': 7, 'abut': 24, 'apprx': 2, 'plane': 41, 'qflow': 1, 'porta': 9, 'candi': 1, 'ielostomi': 1, 'quantit': 10, 'chux': 2, 'poplit': 71, 'independantli': 4, 'obstrn': 1, 'axr': 3, 'diaphragmat': 20, 'hyperdynam': 66, 'anterosept': 55, 'chrohn': 3, 'nscla': 1, 'nslca': 1, 'dexamethason': 15, 'nonsustain': 2, 'cord': 52, 'toung': 4, 'fibrin': 4, 'ome': 18, 'metastasi': 31, 'thrombocytopenia': 29, 'duoneb': 7, 'pontin': 5, 'slur': 17, 'fatug': 1, 'hsm': 45, 'concer': 2, 'swish': 7, 'hyperreflex': 1, 'nsclca': 7, 'nsclc': 27, 'althrough': 1, 'upgo': 1, 'lid': 5, 'palat': 41, 'mmd': 1, 'rhinorrhea': 19, 'amiodoron': 11, 'lobectomi': 23, 'bruit': 15, 'propanolol': 2, 'jvd': 47, 'avascular': 6, 'benzodiazepin': 13, 'achil': 3, 'petellar': 1, 'insight': 4, 'anixeti': 1, 'paroxetin': 7, 'catarac': 1, 'nonsmal': 6, 'droop': 20, 'insult': 20, 'dysfxn': 4, 'retard': 8, 'inflam': 9, 'anywher': 11, 'rhabdo': 3, 'hypocalcemia': 6, 'trunk': 34, 'upward': 26, 'rhabdomyolysi': 3, 'tum': 8, 'shave': 8, 'unavail': 35, 'secondard': 1, 'csru': 10, 'pneumnia': 3, 'essentailli': 1, 'inferiorli': 31, 'preoper': 5, 'deminer': 20, 'fatti': 29, 'volumetr': 13, 'asbestosi': 5, 'malfunt': 1, 'subpleur': 19, 'raw': 12, 'reccommend': 3, 'precep': 1, 'interstici': 1, 'deal': 12, 'gutter': 11, 'adenoid': 3, 'intervertebr': 9, 'emobol': 1, 'eg': 17, 'uptak': 12, 'polyp': 15, 'parotid': 10, 'nkg': 2, 'subcorin': 1, 'deoxygen': 1, 'tspine': 1, 'dental': 12, 'metastas': 27, 'colic': 4, 'desa': 2, 'carcinoma': 47, 'amalgam': 2, 'penumonia': 8, 'sho': 1, 'fifti': 1, 'corin': 1, 'feaml': 1, 'extext': 6, 'interrupt': 11, 'skeleton': 12, 'degener': 11, 'adnexa': 18, 'obsturct': 1, 'thoracu': 1, 'anxirti': 2, 'halodol': 7, 'tib': 6, 'satt': 3, 'sereou': 1, 'femur': 19, 'persu': 4, 'coagul': 15, 'spep': 3, 'syndro': 2, 'mucuh': 1, 'wellbutrim': 2, 'fexofenadin': 6, 'hallodol': 1, 'klonopin': 17, 'samter': 1, 'spri': 3, 'readm': 3, 'ipf': 18, 'mepilex': 16, 'synephrin': 2, 'viru': 16, 'anca': 11, 'naloxon': 1, 'smell': 18, 'addt': 1, 'breez': 1, 'sampter': 1, 'zinc': 5, 'galactommanan': 1, 'obssess': 1, 'cottonse': 1, 'parenter': 45, 'threw': 3, 'starter': 2, 'parapleg': 6, 'glute': 5, 'premed': 6, 'adamantli': 3, 'iodin': 24, 'wellbutrin': 4, 'alevi': 1, 'montelukast': 6, 'mucinex': 16, 'myeliti': 1, 'nf': 6, 'trust': 6, 'ancillari': 2, 'neurogen': 6, 'abrupt': 9, 'uroqid': 1, 'upep': 2, 'eosiniophilia': 1, 'hive': 31, 'antigbm': 1, 'freak': 1, 'mexilitin': 1, 'esr': 10, 'bursiti': 2, 'emuls': 1, 'cautious': 6, 'hum': 2, 'opiat': 21, 'coagulopathi': 57, 'solutab': 1, 'relationship': 11, 'cmo': 24, 'lollipop': 1, 'togeth': 16, 'spoon': 14, 'crp': 8, 'consern': 1, 'wrok': 1, 'tofu': 1, 'patul': 4, 'wc': 7, 'nutit': 2, 'pall': 4, 'ischial': 3, 'vacno': 4, 'cessat': 9, 'ige': 3, 'serolog': 22, 'fowel': 2, 'geripsych': 1, 'gbm': 5, 'ppn': 6, 'buccal': 23, 'wasa': 2, 'brace': 9, 'ishial': 1, 'refeed': 4, 'glucan': 21, 'participc': 1, 'pussi': 1, 'lollypop': 2, 'strike': 7, 'mexiletin': 3, 'amino': 3, 'radiiograph': 1, 'homecar': 3, 'pseudoephedrin': 1, 'recordsaspirin': 1, 'ondansetron': 11, 'tenuou': 40, 'theophyllin': 3, 'reguard': 6, 'fenatyl': 2, 'rough': 3, 'paraplegia': 11, 'apolog': 1, 'wheel': 8, 'triad': 1, 'prealbumin': 1, 'panick': 2, 'citrat': 11, 'preren': 34, 'medicat': 2, 'baclofen': 11, 'stasi': 19, 'tg': 6, 'golf': 2, 'cleasn': 2, 'incorrect': 5, 'glut': 9, 'ball': 6, 'multilfoc': 1, 'anim': 10, 'bacitracin': 10, 'sse': 10, 'unti': 1, 'smile': 23, 'duccolax': 1, 'resent': 15, 'slilghtli': 1, 'pericar': 5, \"o'\": 4, 'ovebreath': 1, 'electrolty': 1, 'possobl': 1, 'vec': 6, 'gent': 12, 'pastey': 2, 'minist': 2, 'acv': 12, 'god': 4, 'hh': 8, 'pulmonolog': 8, 'prom': 8, 'objecti': 1, 'signif': 18, 'socail': 10, 'bridg': 25, 'speaker': 11, 'cotn': 4, 'trail': 14, 'willb': 2, 'reiniti': 7, 'dk': 13, 'yelllow': 5, 'prupos': 1, 'wdw': 1, 'undetail': 1, 'pca': 21, 'quiac': 7, 'cousin': 9, 'distrss': 1, 'pop': 8, 'providencia': 2, 'share': 47, 'sync': 2, 'sedaton': 1, 'spill': 20, 'nacl': 5, 'dophoff': 7, 'vascularight': 1, 'dobhoff': 39, 'oxygn': 3, 'ileotomi': 1, 'ds': 15, 'purlul': 2, 'duoden': 18, 'coar': 6, 'dh': 2, 'ileostomi': 9, 'ordredd': 1, 'cline': 2, 'vallecular': 6, \"sx'ng\": 4, 'integu': 6, 'stump': 10, 'coat': 15, 'hemodynm': 6, 'trnf': 2, 'priviou': 1, 'drg': 10, 'applianc': 8, 'scabi': 1, 'sang': 22, 'secreathin': 1, 'integrum': 1, 'colour': 5, 'colectomi': 19, 'pyloro': 1, 'iliostomi': 2, 'rssi': 11, 'filter': 39, 'mastic': 23, 'strg': 1, 'jump': 5, 'splenectomi': 7, 'subtot': 9, 'erupt': 4, 'smal': 3, 'sero': 14, 'bbb': 7, 'liason': 3, 'rosolv': 1, 'covers': 1, \"'ll\": 7, 'acapella': 8, 'ducos': 1, 'wnc': 1, 'minitrach': 1, 'ident': 12, 'afterword': 1, 'varapamil': 1, 'underway': 6, 'verapim': 1, 'ssic': 4, 'abrais': 3, 'ultrason': 2, 'coved': 1, 'facilti': 1, 'lispro': 3, 'gastic': 1, 'dyspnic': 10, 'productv': 1, 'freewat': 1, 'recievi': 2, 'predormin': 1, 'perin': 22, 'acetlycystein': 1, 'verapamil': 6, 'research': 1, 'xperson': 1, 'ringer': 1, 'ek': 1, 'spivira': 1, 'asssess': 3, 'dyspnoic': 1, 'defict': 1, 'inculin': 1, 'cannuala': 1, 'hyperact': 17, 'isoptin': 1, 'peptamen': 6, 'tachypnec': 1, 'singular': 1, 'thristi': 2, 'mini': 19, 'grandchild': 1, 'cvf': 1, 'temder': 1, 'luck': 1, 'replenish': 9, 'counter': 1, 'hab': 2, 'telfa': 4, 'inabilti': 2, 'glove': 2, 'rid': 3, 'yanker': 4, 'abruptli': 4, 'suppot': 1, 'dht': 6, 'slip': 9, 'recx': 2, \"'sm\": 1, 'indur': 5, 'stabk': 1, 'drier': 2, 'centemet': 1, 'peramet': 1, 'passimuir': 1, 'reconfirm': 7, 'linin': 2, 'calf': 65, 'nonpurpos': 6, 'huo': 20, 'angiocath': 3, 'creas': 3, 'tracheostom': 1, 'folllow': 5, 'pericolac': 1, 'demon': 1, 'crack': 23, 'sta': 9, 'immobil': 15, 'pegtub': 3, 'msra': 4, 'dept': 8, 'morbidli': 5, 'freee': 1, 'passemuir': 4, 'cked': 1, 'frree': 1, 'settinf': 1, 'rxd': 5, 'soak': 17, 'hyper': 15, 'harder': 7, 'damp': 8, 'sleeper': 3, 'dombero': 1, 'ioocc': 1, 'rubor': 2, 'farther': 1, 'humeru': 16, 'developmemt': 1, 'exceed': 5, 'piclin': 1, 'crm': 2, 'tare': 1, 'appil': 1, 'chged': 2, 'stabe': 4, 'specialist': 7, 'neighbor': 5, 'tracheostoma': 1, 'isordil': 13, 'oxacillin': 11, 'caas': 1, 'tuck': 20, 'hemodi': 7, 'precuat': 5, 'redder': 2, 'ch': 10, 'uncomfortt': 1, 'dombro': 1, 'custard': 23, 'celluluit': 1, 'sqeez': 2, 'encoura': 1, 'pti': 2, 'jello': 17, 'quo': 2, 'proph': 4, 'reatless': 1, 'tonoct': 3, 'brn': 5, 'suppport': 5, 'chec': 1, 'oxa': 2, 'strate': 1, 'backsid': 8, 'dobhof': 2, 'suspend': 4, 'nj': 2, 'tired': 3, 'bibasilari': 3, 'ada': 1, 'lowgrad': 4, 'bronchospast': 21, 'abrad': 2, 'advancint': 1, 'antecubit': 12, 'dietari': 19, 'dced': 5, 'cellulti': 1, 'doboff': 8, 'flowbi': 3, 'chees': 7, 'appox': 2, 'requri': 2, 'apt': 7, 'resepct': 1, 'nonrot': 1, 'domboro': 1, 'pediatr': 2, 'reveiw': 6, 'peditub': 5, 'peristalsi': 5, 'gase': 23, 'sete': 2, 'unchg': 6, 'intro': 4, 'cto': 1, 'macer': 3, 'loudli': 8, 'asucult': 2, 'conscious': 13, 'cufflat': 1, 'wiht': 12, 'tolal': 1, 'beginn': 1, 'dfddp': 10, 'inexsufl': 1, 'medd': 1, 'neurro': 1, 'andresp': 1, 'aquaphor': 6, 'bacterem': 3, 'repelt': 6, 'ocntact': 1, 'sinemet': 11, 'irish': 1, 'blind': 17, 'azithomycin': 2, 'estrang': 5, 'ceftazadin': 2, 'schizoaffect': 9, 'soldier': 1, 'sing': 7, 'tune': 4, 'contractil': 28, 'incurr': 1, 'insiratori': 1, 'stitch': 14, 'pitch': 6, 'ion': 8, 'tdi': 28, 'tacyhcardia': 1, 'underestim': 27, 'takatsubo': 1, 'leucocytosi': 4, 'acoust': 24, 'sulfonamid': 26, 'sequenti': 7, 'captur': 14, 'overnigt': 2, 'salmeterol': 13, 'staphylococc': 1, \"adl'\": 1, 'quantifi': 17, 'autoregul': 8, 'nativ': 9, 'sympathet': 3, 'coincid': 6, 'tamaflu': 2, 'oseltamivir': 13, 'mgr': 3, 'neeed': 2, 'hemiblock': 7, 'postoffic': 1, 'remnant': 11, 'sypathet': 1, 'pcwp': 42, 'superinfect': 16, 'agenc': 2, 'aicd': 17, 'cpod': 1, 'augmentat': 1, 'episdo': 1, 'superven': 33, 'akinet': 12, 'dicloxacillin': 4, 'akinesi': 21, 'inferosept': 10, 'recrudesc': 5, 'tamiflu': 32, 'antrov': 1, 'tapazol': 1, 'unwel': 2, 'nonprodut': 1, 'endors': 13, 'shcedul': 1, 'hematochezia': 11, 'recvd': 6, 'rheumatoid': 7, 'epo': 7, 'minoxidil': 2, 'dfa': 44, 'mluitpl': 1, 'parent': 26, 'nephrew': 1, 'drk': 4, 'rosuvastatin': 4, 'ativen': 2, 'dka': 8, 'hickman': 8, 'gastroenter': 5, 'spefic': 1, 'ggo': 12, 'matern': 2, 'predison': 4, 'supraclavicular': 103, 'orthopnea': 58, 'calcitriol': 5, 'ferrou': 18, 'sevelam': 11, 'diffiuclti': 2, 'juvenil': 1, 'antibodi': 14, 'qmwf': 3, 'sneez': 2, 'cracker': 20, 'paradox': 63, 'epogen': 10, 'nephropathi': 17, 'allopurinol': 15, 'melena': 20, 'doxazosin': 2, 'hyperliipidemia': 1, 'nephrocap': 10, 'suicid': 51, 'receptor': 3, 'timolol': 4, 'dorzolamid': 1, 'bd': 4, 'spirometri': 44, 'sparingli': 6, \"ab'\": 3, 'cw': 5, 'construct': 4, 'teniou': 3, 'assum': 26, 'dot': 5, 'threshold': 48, 'nysatin': 1, 'resposnd': 1, 'satisfactorili': 7, 'bradycardiac': 2, 'greenish': 20, 'cheek': 12, 'bad': 22, 'bulk': 8, 'grreni': 1, 'unrepons': 1, 'errythemia': 1, 'respolar': 4, 'rhonchii': 3, 'traumat': 21, 'throughou': 2, 'deliber': 5, 'oralphagheng': 1, 'exampl': 23, 'latharg': 2, 'bordelin': 1, 'antb': 4, 'noseble': 2, 'essentu': 1, 'clinda': 24, 'nasopharg': 1, 'fight': 15, 'suctiopn': 1, 'comput': 15, 'antidepress': 5, 'suprapub': 15, 'oputput': 1, 'sclerosi': 23, 'louder': 4, 'differnt': 1, 'hhn': 15, 'neutrapho': 15, 'thread': 9, 'laid': 11, 'ofd': 1, 'sbop': 1, 'kpho': 19, 'levoxyl': 2, 'intrial': 1, 'subq': 21, 'biv': 1, 'fll': 1, 'uninfect': 1, 'tiotropium': 13, 'medex': 1, 'thorocentesi': 5, 'echocardiogram': 29, 'antihypotens': 1, 'imdur': 10, 'overmed': 4, 'parapneumon': 21, 'eas': 20, 'tiotroprium': 1, 'ceftriax': 10, 'fibrot': 20, 'acylovir': 2, 'dobboff': 1, 'nutritionist': 3, 'tech': 13, 'posey': 9, 'dbe': 1, 'seraquel': 7, 'promininc': 1, 'abiltiy': 1, 'drunk': 2, 'lactos': 3, 'acyclivir': 1, 'neutropen': 18, 'turgur': 1, 'spiroment': 1, 'betablock': 7, 'lix': 7, 'reiter': 6, 'witht': 1, 'advic': 9, 'scatt': 5, 'fullstrength': 1, 'usg': 12, 'tyelenol': 5, 'grandaught': 5, 'heamodynam': 1, 'natrecor': 3, 'rpp': 2, 'nesiritid': 1, 'defib': 3, 'guess': 4, 'inotropi': 2, 'epstudi': 1, 'deeper': 7, 'bppp': 4, 'sobo': 2, 'rsc': 15, 'pb': 9, 'dynamap': 1, 'rla': 6, 'nite': 12, 'ci': 26, 'nml': 10, 'cdb': 52, 'itat': 1, 'senekot': 2, 'toursad': 1, 'lwr': 3, 'oxi': 3, 'dynam': 24, 'hot': 21, 'repsond': 2, 'defibril': 13, 'diuiresi': 2, 'torsad': 2, 'anieti': 2, 'isorbid': 5, 'oxicillin': 3, 'tympan': 6, 'ipmi': 1, 'amiodron': 1, 'jag': 3, 'repsons': 4, 'love': 8, 'afraid': 13, 'plat': 16, 'nasopharynx': 10, 'cosyntropin': 2, 'ambulatori': 11, 'scrotum': 19, 'noisi': 3, 'culutr': 5, 'yankaur': 17, 'core': 8, 'pseudomoni': 4, 'peni': 12, 'overrid': 1, 'varifi': 2, 'intrens': 1, 'floroscopi': 1, 'nystantin': 2, 'presser': 5, 'insuffic': 2, 'seemingli': 9, 'nasoendotrach': 2, 'bollu': 2, 'ceftrixon': 5, 'ronchoru': 3, 'cartoon': 1, 'flaggyl': 4, 'channel': 12, 'uprbc': 23, 'withp': 1, 'persistantli': 5, 'spe': 1, 'sectret': 7, 'oohr': 1, 'bibasalar': 4, 'rplace': 1, 'steristrip': 6, 'psi': 11, 'caval': 10, '^^^secret': 1, 'repalc': 1, 'stuff': 2, 'superiorli': 17, 'efect': 4, \"mod't\": 1, \"dc'd\": 3, 'seek': 19, '^^rr': 6, 'coooper': 1, 'vaselin': 5, 'propophol': 2, 'promo': 1, 'acetamenophen': 1, 'govem': 1, 'probalac': 2, 'pipercillin': 9, 'btb': 4, 'fir': 2, 'sad': 8, 'mascer': 3, 'characterist': 6, 'grren': 2, 'hydropneumothorax': 13, 'superivis': 1, 'neeld': 1, 'secreton': 2, 'afternon': 1, 'negaiv': 1, 'fibr': 2, 'excit': 10, 'phelibit': 1, 'axo': 4, 'nursimg': 1, 'chnager': 1, 'toiley': 1, 'elastoplast': 2, 'cephalid': 1, 'boarderlin': 5, 'flunk': 1, 'boyfriend': 9, '^^drng': 1, 'pustul': 4, 'tritrat': 1, 'decras': 2, 'piccc': 2, 'acetamenoph': 1, 'inqueri': 2, 'careplan': 2, 'maleat': 10, 'ccrn': 2, 'rosiglitazon': 2, 'scx': 3, 'overhydr': 28, 'avandia': 2, 'rebound': 72, 'nephrotoxin': 21, 'metformin': 15, 'chronc': 1, 'hemodilut': 9, 'tameflu': 1, 'labia': 7, 'hidraden': 1, 'hydraden': 1, 'zocyn': 6, 'nto': 2, 'seat': 74, 'uri': 14, 'cautiou': 12, 'microcyt': 5, 'obs': 2, 'oseltamavir': 3, 'repost': 7, 'alrm': 2, 'prodcut': 1, 'apporach': 1, 'stoke': 6, 'rhocher': 1, 'pndg': 16, 'anaesthesia': 3, 'transf': 4, 'ultrum': 1, 'belong': 24, 'initaietd': 1, 'belliger': 6, 'awoken': 9, 'giddi': 1, 'tray': 10, 'hemodyn': 10, 'naprosyn': 1, 'bellegeri': 1, 'obj': 9, 'ceft': 3, 'wheezey': 8, 'nrsg': 2, 'fundtion': 1, 'untoward': 4, 'sponaten': 4, 'stethoscop': 2, 'pharmacolog': 4, 'deviationta': 1, 'afebreil': 1, 'curiou': 2, 'armboard': 2, 'couplet': 12, 'workload': 4, 'dobutamin': 7, 'unreliev': 2, 'indomethacin': 2, 'extraaxi': 6, 'aslo': 3, 'exsist': 1, 'nsvt': 16, 'photophob': 1, 'fetal': 3, 'photophobia': 4, 'sporat': 2, 'ibuprophen': 3, 'triplet': 2, 'peic': 1, 'bitempor': 3, 'kitchen': 12, 'fruit': 6, 'spurt': 1, 'senecot': 2, 'spar': 1, 'de': 37, 'rhand': 1, 'evalaut': 7, 'butter': 4, 'peanut': 5, 'woth': 1, 'sulfameth': 6, 'granola': 1, 'suppo': 5, 'bore': 16, 'dime': 9, 'duc': 1, 'quicker': 4, 'indecis': 2, 'everyday': 7, 'tto': 3, 'aoid': 1, 'deast': 1, 'clincal': 1, 'ilmprov': 1, 'supper': 9, 'folow': 6, 'bactrium': 2, 'surveil': 32, 'inapprop': 2, 'panorex': 4, 'torn': 5, 'paravalvular': 1, 'cardioresp': 2, 'glycopyrrol': 12, 'intrins': 33, 'airleak': 9, 'molar': 2, 'antiphospholipid': 4, 'bileaflet': 2, 'mvr': 18, 'apac': 3, 'intaop': 1, 'disappear': 2, 'saphen': 7, 'interpreter': 1, 'bandag': 14, 'dilaud': 3, 'antisialogogu': 8, 'electrod': 10, 'myomectomi': 1, 'preop': 8, 'periap': 3, 'assymetr': 3, 'semiupright': 7, 'flail': 5, 'blur': 15, 'transvalvular': 9, 'hocm': 1, 'crown': 2, 'dissolv': 2, 'theraft': 1, 'rose': 17, 'snore': 5, 'comit': 1, 'unfocus': 1, 'amitryptilin': 1, 'mgtid': 1, 'prophylacticlli': 1, 'residula': 1, 'antialpha': 1, 'flirt': 1, 'humulog': 7, 'wea': 4, 'olanzipin': 3, \"c'ing\": 7, 'distract': 5, 'lias': 3, 'broncial': 1, 'perpetu': 2, 'squirm': 4, 'wether': 2, 'haladol': 1, 'upsid': 2, 'corner': 11, 'writh': 3, 'oximetri': 1, 'flame': 1, 'resapiratori': 1, 'oj': 4, 'spontanoeu': 1, 'accident': 13, 'equla': 1, 'aralast': 1, 'amitriptylin': 3, 'myconazol': 7, 'reduce': 1, 'geodan': 1, 'hift': 2, 'lactalos': 4, 'circul': 18, 'contd': 17, 'alpha': 5, 'distened': 3, 'bisacoyl': 1, 'reden': 11, 'maee': 5, 'fossa': 27, 'mra': 18, 'replt': 1, \"'ve\": 4, 'department': 10, 'respit': 1, 'specifi': 11, 'angiogram': 17, 'ziprasidon': 1, 'reinutab': 1, 'ivdu': 13, 'ngtube': 2, 'pin': 8, 'impuls': 9, 'dulc': 5, 'risbi': 26, 'antipsycot': 2, 'supris': 1, 'cing': 7, 'news': 3, 'cefatzadim': 1, 'perscib': 1, 'bled': 9, 'subl': 1, 'dramat': 29, 'kerlex': 8, 'ahd': 4, 'ceftazadim': 7, 'cavitari': 19, 'undigest': 13, 'grunt': 6, 'doc': 1, 'forth': 7, 'growl': 2, 'magnet': 15, 'antitrypsin': 1, 'multilumen': 9, 'checklist': 5, 'scaley': 1, 'disconnect': 15, 'trypsin': 1, 'lieu': 4, 'extremitit': 3, 'cmbivent': 1, 'difficulr': 1, 'secrat': 2, \"d'cd\": 8, 'depressor': 1, 'staabl': 1, 'spanish': 16, 'acl': 13, 'vegat': 1, 'vegiat': 1, 'depent': 2, 'drool': 4, 'multidisiciplinari': 2, 'mdght': 2, 'quadrapleg': 1, 'gpr': 9, 'coexsist': 1, 'multilocul': 6, 'judgement': 4, 'intercost': 12, 'waters': 14, 'thoracotomi': 18, 'hole': 20, 'semierect': 3, 'forti': 2, 'lelev': 1, 'lihgt': 1, 'cogh': 2, 'rivert': 1, 'socila': 1, 'overnihght': 1, 'presnt': 3, 'decresa': 1, 'tyesterday': 1, 'inclu': 1, 'fq': 4, 'thorcaic': 1, 'glad': 2, 'licsw': 20, 'repelet': 2, 'calibr': 8, 'bact': 8, 'vesicular': 4, 'silhouet': 14, 'pect': 1, 'debat': 3, 'hisotri': 1, 'nortriptylin': 4, 'intertrochanter': 4, 'dream': 5, 'flare': 46, 'clergi': 16, 'org': 4, 'omr': 61, 'rehir': 1, 'paralysi': 24, 'financ': 1, 'ambient': 7, 'adhes': 22, 'rent': 4, 'spnal': 1, 'overtli': 4, 'lifelin': 2, 'cephalosporin': 10, 'ce': 64, 'subutan': 10, \"epi'\": 1, 'tizanidin': 3, 'broaden': 35, 'exactli': 7, 'acth': 1, 'vesiculo': 1, 'ventimask': 11, 'pnoon': 1, 'chocol': 5, 'flosheet': 1, 'rapidli': 39, 'fllet': 1, 'genit': 2, 'daugther': 4, 'unrealist': 2, 'fxn': 30, 'discu': 5, 'uptitr': 18, 'syncop': 16, 'gib': 35, 'appropr': 1, 'concur': 4, 'hotnsiv': 3, 'lij': 19, 'drive': 32, 'donepezil': 11, 'equilibrium': 1, 'osteoporosi': 26, 'discont': 3, 'diurisei': 1, 'hyalin': 2, 'immin': 2, 'thromu': 1, 'donezipil': 1, 'lengthi': 13, 'chng': 3, 'afterload': 21, 'serious': 4, 'busi': 8, 'citalopram': 18, 'vulner': 1, 'anger': 6, 'charact': 5, 'llsb': 7, 'likelihood': 22, 'bye': 1, 'fulfil': 2, 'spite': 10, 'idioventricular': 3, 'deterior': 43, 'death': 14, 'dirti': 16, 'instabl': 39, 'hj': 1, 'facemask': 23, 'neutopho': 1, 'memantin': 4, 'hemodynim': 12, 'scopalamin': 6, 'changedto': 1, 'subj': 3, 'nitropast': 9, 'giv': 1, 'oropharyngela': 1, 'clinician': 43, 'aphasia': 18, 'untreat': 8, 'rythym': 8, 'tachypneac': 2, 'analgesia': 8, 'advoc': 5, 'rabbi': 8, 'vasovag': 3, 'hemodyanm': 2, 'heaprin': 4, 'pci': 13, 'angioplasti': 12, 'thickyellowish': 1, 'reamin': 6, 'mentali': 1, 'dietician': 4, 'milironon': 1, 'vr': 10, 'recognis': 2, 'epinephrin': 14, 'defecit': 6, 'retal': 1, 'diffficult': 1, 'beliger': 3, 'plerur': 1, 'posibl': 7, 'capto': 1, 'cardiogen': 36, 'restaint': 4, 'postbypass': 1, 'rebump': 1, 'jp': 12, 'precuaut': 1, 'defervesc': 11, 'prebypass': 2, 'barrium': 1, 'sshumulog': 2, 'traponin': 1, 'creatin': 7, 'faintli': 1, 'consistenli': 4, 'abcess': 22, 'mvo': 3, 'yellowbrown': 1, 'shiever': 1, 'diaphores': 1, 'orderd': 9, 'alkalemia': 13, 'pplat': 8, 'rewrap': 1, 'corti': 2, 'mch': 2, 'persis': 3, 'demor': 2, 'indenpedantli': 1, 'restrart': 1, 'stepdown': 7, 'lwsxn': 2, 'pedial': 6, 'enquier': 2, 'prop': 25, 'wenesday': 2, 'stble': 1, 'stidor': 1, 'om': 18, 'cagluc': 2, 'cco': 4, 'fentanyli': 1, 'coreg': 8, 'cardiopulm': 9, 'caglucon': 1, 'sov': 1, 'swr': 1, 'unattend': 2, 'progre': 1, 'sunction': 3, 'sttol': 1, 'dra': 12, 'origen': 2, 'greed': 1, 'nhp': 1, 'thermodilut': 3, 'demisish': 1, 'antero': 1, 'fick': 8, 'hiccough': 1, 'gastroduoden': 3, 'resed': 3, 'imi': 2, 'lima': 3, 'diag': 10, 'subtheraput': 2, 'ucg': 2, 'awean': 1, 'sbg': 1, 'stit': 1, 'bradypn': 1, 'effust': 1, 'tvi': 5, 'bollus': 2, 'awir': 1, 'raet': 1, 'vg': 1, 'nippl': 5, 'booboo': 1, 'tnsf': 5, 'carvedilol': 14, 'gon': 1, 'ballon': 9, 'veloc': 33, 'pnu': 1, 'culprit': 7, 'comtin': 1, 'antiobiot': 12, 'frang': 1, 'biphas': 7, 'effuss': 7, 'wel': 3, 'flinch': 2, 'inotrop': 2, 'milr': 2, 'ez': 4, 'aspriat': 5, 'serousangin': 4, 'thorecentesi': 2, 'crepiti': 3, 'testic': 1, 'redicat': 1, 'cellsav': 1, 'thermodil': 1, 'billeou': 1, 'inadvert': 5, 'milrinon': 5, 'absorbs': 1, 'pulmari': 1, 'signift': 1, 'tof': 8, 'noreepi': 1, 'bs^': 1, 'wap': 5, 'aucult': 3, 'nuerolog': 2, 'fentenyl': 4, 'receic': 2, \"dt'\": 1, 'inth': 7, 'epsiod': 3, 'pervent': 2, 'beer': 4, 'ond': 1, 'remmind': 1, 'mant': 1, 'purpl': 17, 'yankuar': 3, 'norepi': 6, 'dilatiazem': 1, 'pneumomia': 2, 'riesman': 3, 'healthey': 1, 'otc': 3, 'addenidum': 1, 'chosen': 13, 'nigth': 3, 'kerley': 6, 'pleuracentesi': 1, 'diltizem': 6, 'secondri': 1, 'diltazem': 1, 'doripenem': 2, 'deropenem': 1, 'pulmonologist': 11, 'qualifi': 7, 'fluoroquinolon': 6, 'spironolacton': 7, 'fot': 2, 'pnysic': 1, 'surpris': 9, 'dorbipenem': 1, 'pertussi': 2, 'guafenesi': 1, 'behav': 2, 'psa': 8, 'ferment': 1, 'mucolyt': 2, 'tvr': 1, 'maxilla': 4, 'chad': 11, 'ipatropium': 4, 'nsaid': 13, 'pertusi': 2, 'parox': 1, 'moh': 1, 'hyperparathyroid': 5, 'bronchiectesi': 3, 'previo': 3, 'aggressiv': 1, 'mitt': 9, 'blast': 5, 'xopenex': 15, 'recomend': 7, 'whennam': 1, 'aeratin': 1, 'drank': 11, 'que': 1, 'occulud': 1, 'eccymosi': 7, 'spicul': 9, 'sediat': 1, 'cooki': 12, 'psycosi': 1, 'ecymosi': 1, 'inepend': 1, 'ultsnd': 2, 'yougart': 1, 'prescenc': 1, 'multilevel': 42, 'diffuculti': 3, 'atelactasi': 3, 'cdc': 2, 'psychosi': 9, 'epulmonari': 1, 'upperairway': 3, 'nicotin': 18, 'vancomyc': 1, 'emb': 1, 'hest': 1, 'pneumococcu': 4, 'slecp': 1, 'hypertensioncurr': 1, 'ccr': 4, 'esophagectomi': 5, 'durabl': 4, 'pneumocysti': 18, 'diazepam': 12, 'hepatopulmonari': 1, 'cocain': 14, 'hemoptysi': 33, 'chemotherapi': 30, 'rectu': 9, 'span': 13, 'chemoradi': 6, 'bandemia': 29, 'brachytherapi': 3, 'paramediastin': 10, 'symptomat': 27, 'pneurmonia': 2, 'shuvel': 1, 'esoph': 6, 'hypothyrod': 1, 'esophagogastrostomi': 1, 'radiotherapi': 5, 'vaccin': 55, 'abdominu': 2, 'melanoptosi': 1, 'crescent': 2, 'urol': 1, 'gall': 13, 'laparotomi': 8, 'worth': 6, 'amlodipin': 24, 'failurelik': 1, 'wegen': 6, '`': 13, 'valuim': 2, 'kayexyl': 2, 'dfdkq': 10, 'perf': 9, 'gastrosotmi': 2, 'hurrican': 2, 'aw': 1, 'coalesc': 6, 'nari': 8, 'teaspoon': 6, 'videofluoroscopi': 29, \"po'\": 2, 'inphas': 1, 'lucid': 11, 'lrge': 6, 'sough': 1, 'olecranon': 1, 'imipenuim': 1, 'leftsid': 1, 'corticomedullari': 4, 'exquisit': 1, 'imbal': 4, 'effevt': 1, 'manner': 12, 'fk': 4, 'milki': 2, 'expecor': 1, 'procardia': 5, 'ceftax': 4, 'coarsen': 10, 'uni': 8, 'ure': 6, 'hypercholesteremia': 2, 'imp': 5, 'hyperchol': 2, 'hypointens': 8, 'nocardia': 3, 'ersd': 2, 'pug': 2, 'nocardiosi': 1, 'substani': 2, 'tesla': 9, 'venipuctur': 1, 'repsir': 1, 'sludgi': 2, 'hast': 1, 'sussept': 1, 'vibe': 1, 'sequenc': 20, 'energi': 8, 'pool': 12, 'probabali': 1, 'frig': 1, 'efficaci': 6, 'chlorothiasid': 1, 'sxting': 2, 'bowl': 5, 'enoucrag': 1, 'remenisc': 1, 'cereal': 5, 'bkft': 1, 'wafer': 1, 'negatiov': 1, 'chlorothiazid': 3, 'duiril': 1, 'avb': 11, 'dayshift': 5, 'metamucil': 2, 'chowder': 1, 'yogurt': 3, 'biscodyl': 5, 'daytim': 46, 'uninterest': 2, 'anyway': 6, 'amyloid': 4, 'engag': 20, 'brighten': 1, 'howver': 1, 'bother': 11, 'initait': 1, 'eproxi': 1, 'nitroglycerin': 15, 'coumdadin': 1, 'sug': 4, 'car': 13, 'sacroiliac': 5, 'marcan': 1, 'sizeabl': 4, 'piriform': 20, 'detox': 5, 'propuls': 16, 'vestibul': 6, 'aciti': 1, 'lyy': 1, 'metolazon': 5, 'extrmiti': 1, 'elbo': 1, 'flattu': 1, 'priest': 3, 'minlabor': 1, 'regiman': 3, 'facet': 13, 'enag': 1, 'gentli': 27, 'prorgess': 1, 'toiler': 1, 'highflow': 1, 'tongiht': 3, 'fac': 1, 'infilatr': 2, 'disfunct': 1, 'cellcept': 4, 'thrill': 9, 'fistulogram': 2, 'tall': 4, 'warrant': 32, 'translum': 1, 'hyperphsophatemia': 1, 'stenos': 4, 'intraorbit': 1, 'venogram': 11, 'carpal': 6, 'hyperdens': 24, 'dilit': 10, 'injector': 1, 'overdu': 1, 'hemostasi': 13, 'noncompli': 11, 'rsr': 20, 'anastomosi': 9, 'urem': 4, 'scalp': 6, 'arterioven': 1, 'percocoet': 1, 'ckd': 39, 'orbit': 16, 'renagel': 4, 'alternan': 3, 'xii': 14, 'fistulagram': 1, 'enya': 18, 'inattent': 2, 'squeak': 6, 'vii': 4, 'pulsatil': 2, 'hydroxizin': 1, 'huddl': 21, 'likelihoood': 1, 'wenckebach': 3, 'skip': 3, 'pruriti': 2, 'intracellular': 1, 'tcdb': 14, 'laugh': 7, 'unconcern': 2, 'chb': 3, 'transven': 26, 'coler': 2, 'ld': 9, 'florrid': 1, 'hemolysi': 25, 'legionel': 3, 'unrev': 25, 'downtrend': 11, 'fluild': 1, 'azithroymcin': 1, 'breathless': 6, 'sclara': 1, 'hapto': 5, 'tendenc': 10, 'floridli': 1, 'contra': 6, 'slighlt': 1, 'ucltx': 1, 'bioprosthesi': 5, 'underwhelm': 4, 'gb': 9, 'immunocompromis': 56, 'ai': 6, 'hemodyanam': 2, 'persisit': 1, 'atov': 1, 'javascript': 9, 'hflu': 3, 'error': 29, 'acheiev': 1, 'laryngospasm': 1, 'cefpodoxim': 8, 'avelox': 1, 'remeb': 1, 'conjuntiv': 1, 'handrail': 1, 'diruesi': 6, 'noro': 1, 'cltx': 1, 'jude': 1, 'immunolog': 44, 'vigileo': 3, 'contriubut': 1, 'loperamid': 2, 'cepodoxim': 1, 'yetread': 1, 'concomin': 1, 'unread': 2, 'svv': 1, 'rmg': 1, 'rhale': 3, 'col': 4, 'trand': 1, 'sensitivt': 1, 'driven': 3, 'jejuni': 1, 'neurophysiolog': 2, 'lupron': 5, 'haptoglobin': 8, 'group': 20, 'pah': 5, 'webtag': 9, 'turp': 8, 'popup': 9, 'contr': 1, 'wrr': 1, 'split': 51, 'classic': 7, 'flesh': 2, 'ketaconazol': 1, 'lmore': 1, 'maintan': 8, 'occult': 22, 'interpretor': 5, 'rxn': 11, 'absolut': 4, 'assign': 13, 'interstitium': 3, 'aaspir': 1, 'probali': 1, 'indepemnd': 1, 'uppper': 5, 'tachpnea': 3, 'cetaz': 1, 'circumst': 11, 'contus': 4, 'temo': 1, 'vacomycin': 3, 'ceftz': 2, 'oa': 10, 'degrener': 1, 'rune': 1, 'movemont': 1, 'pararen': 1, '^abd': 1, 'intraservic': 11, 'dismotil': 2, 'fascia': 3, 'insuff': 4, 'foll': 2, 'oca': 5, 'unclot': 2, 'petroleum': 1, 'kmcd': 2, 'weap': 7, 'immunosuppres': 6, 'miniscul': 3, 'ambian': 2, 'navig': 2, 'lgt': 1, 'pkt': 9, 'crepit': 2, '^bun': 1, 'amalyas': 1, 'exal': 1, 'hemolyz': 10, 'taler': 2, 'anckl': 1, 'salmon': 1, '^k': 1, 'atro': 20, 'sched': 8, 'brachiel': 1, 'reject': 11, 'idiopath': 10, 'adb': 2, 'blaot': 1, 'proteu': 8, 'sml': 19, 'diverticuli': 4, 'absorpt': 10, 'vevel': 1, 'wordk': 1, 'gastrojejun': 7, 'lbm': 11, 'scrape': 1, 'grad': 3, 'studio': 1, 'bolt': 9, 'yank': 1, 'kosher': 3, 'inguni': 1, 'primairli': 1, 'lotrisom': 1, 'creatnin': 6, 'elecv': 1, 'sabath': 1, 'aricept': 7, 'dyspenia': 1, 'lighter': 6, 'kkgc': 17, 'hilu': 14, 'epiglotti': 5, 'azyg': 8, 'bulbou': 1, 'immeadi': 1, 'kerlix': 4, 'noght': 1, 'redraw': 10, 'cage': 9, 'bidh': 1, '^from': 1, 'sternum': 11, '^vt': 1, 'pen': 10, 'arpund': 1, 'aml': 14, 'afluttt': 1, 'copper': 4, 'angiomyolipoma': 3, 'aaa': 14, 'surguri': 2, 'nondiagnost': 10, 'osteophyt': 21, 'reloc': 3, 'azithromicyn': 1, 'eccymot': 18, 'anitibiot': 2, 'precidex': 3, 'rbbi': 1, 'dysmetria': 1, 'extuabt': 9, 'drown': 3, 'disintegr': 11, 'precedex': 7, 'tolcapon': 1, 'intellig': 7, 'sup': 16, 'glucagon': 7, 'inceas': 3, 'batteri': 6, 'cfu': 7, 'beig': 3, 'vasectomi': 1, 'compensatori': 9, 'runni': 2, 'hoars': 17, 'bronchoalveolar': 9, 'protrud': 23, 'disk': 7, 'mirapex': 4, 'kyphot': 11, 'polymorphonuclear': 13, 'protien': 1, 'cane': 9, 'ntd': 6, 'bul': 11, 'leukocyt': 20, 'marri': 21, 'multilobular': 5, 'inhibit': 2, 'pneumona': 5, 'ctga': 1, 'meningioma': 2, 'cutur': 3, 'herniat': 11, 'nasotrachi': 6, 'antianieti': 1, 'resdient': 4, 'annuloplasti': 6, 'flavor': 1, 'answr': 1, 'fluent': 36, 'suck': 4, 'ih': 22, 'rspiratori': 2, 'acetylcystein': 4, 'lingual': 21, 'perist': 6, 'pramipexol': 1, 'tamsar': 1, 'crestor': 3, 'mmcosgroveannuloplasti': 1, 'desta': 1, 'azithromyin': 3, 'choos': 9, 'labial': 27, 'kyphosi': 20, 'tachypnia': 4, 'rsv': 13, 'spt': 9, 'foi': 27, 'neurosurgeon': 4, 'ettub': 1, 'ltach': 9, 'mango': 1, 'albeit': 5, 'wb': 4, 'ili': 4, 'presedex': 2, 'soln': 20, 'formulari': 5, 'censu': 2, 'yesterrday': 1, 'neurologist': 5, 'respirartori': 3, 'laparoscop': 4, 'tsp': 31, 'incisor': 6, 'vebal': 1, 'nuetrin': 1, 'scoot': 1, 'emtion': 3, 'incoher': 4, 'mough': 1, 'slit': 1, 'restain': 2, 'smeari': 1, 'countour': 1, 'conf': 3, 'mitten': 2, 'consentr': 1, 'halway': 1, 'skizophrenia': 1, 'nector': 3, 'web': 5, 'rotatori': 2, 'killian': 1, 'dextroscoliosi': 8, 'fixat': 15, 'dischag': 2, 'thoracolumbar': 18, 'palsi': 7, 'pg': 6, 'extremti': 6, 'dsoft': 1, 'consistencei': 1, 'valpraot': 1, 'antiseizur': 2, 'conceiv': 5, 'rous': 7, 'comdom': 2, 'clossur': 1, 'poe': 16, 'wanst': 1, 'nponproduct': 1, 'distor': 1, 'modif': 8, 'scoliosi': 30, 'ove': 2, 'topleura': 1, 'adh': 3, 'producvt': 1, 'manifest': 17, 'tarceva': 1, 'thyoma': 1, 'workstat': 4, 'alimta': 1, 'encompass': 3, 'polydipsia': 2, 'atend': 1, 'subtract': 5, 'secert': 1, 'hyposmol': 6, 'hemeroid': 1, 'suppress': 20, 'ampillin': 1, 'beam': 6, 'meningoenceph': 2, 'doxil': 1, 'paclitaxel': 1, 'jxkc': 6, 'unpasteur': 1, 'cisplatin': 3, 'dairi': 3, 'hyponatrem': 10, 'wsclip': 3, 'osmol': 3, 'diplopia': 2, 'beeen': 1, 'host': 6, 'xeloda': 1, 'tensilon': 1, 'anecho': 4, 'cantones': 7, 'plasmapheresi': 1, 'peipher': 1, 'taxol': 3, 'enou': 1, 'usclip': 5, 'bio': 3, 'rescucit': 4, 'reisman': 2, 'synthet': 3, 'paracentesi': 10, 'subcapsular': 3, 'hyperbilirubinemia': 4, 'billiari': 2, 'lobul': 8, 'neoadjuv': 1, 'cholestat': 3, 'icter': 8, 'subdiaphragmat': 67, 'adriamycin': 1, 'listeria': 2, 'plasma': 2, 'cytoxan': 5, 'hemmoroid': 1, 'purula': 1, 'cardiorespiratori': 3, 'myasthenia': 1, 'cavo': 7, 'thymoma': 2, 'carboplatin': 4, 'bulki': 12, 'labul': 1, 'suctionin': 3, 'diverticular': 2, \"related'\": 1, 'spasm': 19, 'billari': 1, 'lf': 6, 'unresolv': 3, 'hemodynimc': 1, 'arma': 1, 'sulf': 3, 'mvment': 1, 'floos': 1, 'ctscan': 3, 'pneumotx': 1, 'ligh': 2, 'sestamibi': 1, 'tachypin': 1, 'py': 4, 'eosphil': 1, 'legnth': 2, 'valsalva': 16, 'ydrianiang': 1, 'hr^^': 5, 'functioningand': 1, 'mit': 4, 'fidn': 1, 'hepatomegali': 7, 'ftw': 1, 'dyapherit': 1, 'viist': 1, 'pseuodomona': 1, 'foul': 21, 'expand': 33, 'mechaniclli': 3, 'ascess': 1, 'diamox': 20, 'nauseaou': 2, 'voltga': 1, 'technetium': 1, 'coontrol': 1, 'aqit': 1, 'copiuo': 5, 'secrett': 2, 'cca': 9, 'bacteroid': 2, 'folvent': 1, 'snt': 5, 'constraint': 2, 'tage': 1, 'hemodym': 3, 'pplan': 2, 'eca': 5, '^rr': 6, 'nse': 1, 'brth': 1, 'agrress': 2, 'dobbhoff': 31, 'tyelnol': 4, 'hematopoet': 1, 'dwn': 1, \"huo'\": 1, 'wkness': 1, 'broncho': 6, 'respon': 4, 'perfor': 21, 'tia': 20, 'ultra': 4, 'sinustach': 1, 'elevati': 1, 'bdline': 2, 'especailli': 1, 'pronglon': 1, 'ilestomi': 1, 'comfot': 1, 'wbc^': 2, 'blding': 1, 'asmt': 1, 'brwn': 8, 'postsurg': 6, 'exel': 2, 'psx': 2, 'respo': 1, 'roxicet': 6, 'mtn': 1, 'precarin': 19, 'spcific': 1, 'sttled': 1, 'cautar': 1, 'abort': 10, 'tag': 3, 'vertebroplasti': 5, 'dimin': 6, 'diminsish': 1, 'craer': 1, 'iso': 5, 'reticul': 6, 'reactss': 1, 'enorm': 2, 'moderatr': 2, 'drian': 4, 'subsid': 21, 'occus': 1, 'latex': 9, 'aphon': 4, 'disconect': 1, 'vevn': 1, 'tachynea': 2, 'isc': 1, 'moniotr': 6, 'antbx': 13, 'apparatu': 3, 'thorughout': 2, 'prophylax': 1, 'acsecss': 1, 'stoool': 3, 'amout': 7, 'revealedd': 1, 'oid': 1, 'drainabl': 9, 'nec': 3, 'amoutn': 4, 'intermittenli': 2, 'divert': 3, 'colonoscopi': 18, 'adequet': 2, 'cfv': 1, 'mdag': 15, 'pulmn': 2, 'ward': 2, 'infuenza': 1, 'situ': 21, 'pector': 11, 'distalmost': 2, 'grid': 3, 'seech': 2, 'cnii': 3, 'subotim': 1, 'airflow': 4, 'vw': 10, 'evidenc': 22, 'meta': 15, 'parasept': 9, 'odd': 11, 'diaures': 2, 'zydi': 7, 'percordi': 1, 'bss': 2, 'nissen': 1, 'zyti': 1, 'occurr': 2, 'hysterectomi': 8, 'distess': 3, 'osteopenia': 18, 'prilosec': 14, 'cranial': 7, 'levofloxicin': 9, 'slice': 42, 'pneumotho': 1, 'egd': 29, 'encouragingli': 3, 'arthropathi': 5, 'infx': 2, 'ventral': 11, 'sesha': 6, 'vacuum': 5, 'ceftazidin': 3, 'tem': 2, 'atv': 4, 'euvolemia': 7, 'concurr': 31, 'text': 7, 'videoswallow': 7, 'pseudonorm': 5, 'judici': 7, 'atrioventricular': 2, 'subchondr': 7, 'greatest': 22, 'descent': 2, 'mainstem': 10, 'subcutaen': 1, 'intracavitari': 1, 'startedon': 3, 'rhonchou': 2, 'simvastain': 1, 'sfv': 2, 'diverticula': 17, 'tmrw': 5, 'andevid': 1, 'sychron': 1, 'hasnt': 1, 'cutoff': 1, 'apec': 2, 'recom': 2, 'tami': 1, 'pulmonal': 4, 'settng': 2, 'ran': 6, 'safest': 6, 'distinctli': 2, 'intermitenli': 2, 'mesh': 6, 'pullm': 1, 'upgrad': 10, 'stapl': 18, 'flowhseet': 1, 'frontopariet': 3, 'dysarthria': 5, 'sylvian': 4, 'cong': 1, 'sah': 5, 'subarachnoid': 7, 'injur': 3, 'bulbar': 1, 'fentlyl': 1, 'extyra': 1, 'str': 17, 'etco': 4, 'strang': 4, 'decreasd': 1, 'adr': 3, 'perihepat': 13, 'corridor': 1, 'hadol': 2, 'afew': 1, 'htcz': 1, 'legionalla': 5, 'purplish': 3, 'giggl': 1, 'nonfunct': 1, 'gmpo': 1, 'nonform': 2, 'bolum': 1, 'jumbl': 1, 'abber': 1, 'presid': 6, 'mpr': 1, 'rpc': 2, 'yogert': 2, 'lite': 2, 'rnd': 1, 'retreat': 1, 'ssuction': 2, 'obay': 1, 'fidgeti': 4, 'pivx': 9, 'underarm': 2, 'restraind': 2, 'skew': 1, 'periarea': 4, 'consolit': 1, 'edemet': 3, 'wilth': 1, 'evidens': 1, 'attem': 1, 'hasmi': 1, 'asbout': 1, 'feegingh': 1, 'guiaiac': 1, 'pimpl': 1, 'osteopen': 6, 'ivpb': 9, 'miconozol': 2, 'mnd': 2, 'separ': 27, 'perirash': 1, 'hepati': 2, 'overnit': 8, 'bilaterali': 7, 'ordr': 4, 'deaf': 7, 'iffus': 1, 'patern': 2, 'azm': 1, 'pesseri': 1, 'symmetri': 1, 'agig': 2, 'dghtr': 1, 'startd': 1, 'refocu': 1, 'postit': 4, 'mutipl': 7, 'erethemat': 1, 'anxious': 4, 'cappilari': 1, 'kayexalt': 1, 'repostit': 1, 'fentyn': 8, 'mulitpl': 10, 'tlcc': 1, 'mereponuem': 1, 'fnetanyl': 1, \"jp'sx\": 1, 'specfic': 2, \"mdi'\": 1, 'afeberil': 1, 'mustard': 1, 'ccof': 1, 'hhe': 1, 'awaqr': 1, 'ooa': 1, 'medastin': 1, 'epigastrium': 8, 'viabl': 2, 'potentia': 1, 'totaol': 1, 'partic': 1, 'eczema': 1, 'yellaw': 1, 'orietn': 1, 'ruddi': 2, 'diifus': 1, 'tolaer': 1, 'mdsi': 1, 'peerl': 7, 'rmeian': 1, \"svn'\": 1, 'neur': 2, 'dnrg': 1, 'appopri': 2, 'urgenc': 13, 'diminsih': 5, 'blackish': 2, 'malleabl': 1, 'meropeum': 1, 'etern': 1, 'lback': 1, 'wtihout': 1, 'techiniqu': 1, 'tubefeed': 9, 'magneisum': 1, 'effexor': 3, 'muscular': 15, 'fdsg': 1, 'invl': 1, 'respns': 1, 'mycostantin': 2, 'recommed': 3, 'parapelv': 6, 'jpx': 2, 'exr': 1, 'evala': 1, 'angeogram': 1, 'reasssurr': 1, 'washout': 8, 'benzodiazepen': 1, 'earili': 1, 'extremli': 3, 'survail': 6, 'sennokot': 1, \"ue'\": 1, 'ivm': 1, 'magneisium': 1, 'amm': 1, 'append': 6, 'flap': 6, 'ccx': 3, 'screw': 7, 'addenda': 1, 'upcom': 4, 'oject': 1, 'sift': 2, 'parit': 2, 'abefril': 1, 'xop': 1, 'fame': 1, 'circut': 1, 'gluteu': 2, 'reti': 1, 'costyntropin': 1, 'clorazepam': 1, 'qi': 2, 'colistin': 5, 'incorper': 1, 'xoponex': 5, 'prvide': 1, 'electrocardiogram': 1, 'elix': 3, 'feburari': 1, 'meatey': 1, 'biggest': 2, 'llu': 1, 'adaqu': 3, 'summer': 5, 'zeroform': 1, 'tfeed': 7, 'movment': 8, 'bsd': 8, 'albuter': 9, 'garrul': 1, 'omn': 1, 'lent': 2, 'goos': 1, 'laxilla': 1, 'wnd': 3, 'colostrin': 1, 'monr': 2, 'humor': 6, 'admittedli': 4, 'daay': 1, 'insuffi': 3, 'dehisc': 7, 'envelop': 3, 'convey': 13, 'reoirent': 1, 'sixth': 4, 'pinken': 1, 'inteq': 1, 'depict': 8, 'awaint': 2, 'roux': 4, 'servicv': 1, 'aggres': 9, 'micub': 4, 'suxn': 4, 'respitori': 5, 'enterectomi': 1, 'costochondr': 2, 'foeli': 1, 'intentd': 1, \"de'sat\": 1, 'metizol': 1, 'lastnight': 2, \"'ye\": 2, 'mainatin': 2, 'suctio': 1, 'lain': 1, 'rectangular': 1, 'dislik': 3, 'minin': 1, 'solubl': 3, 'raspi': 5, 'aniou': 1, 'faccid': 1, 'en': 9, 'guiaic': 16, 'rhonchial': 1, 'anitbiot': 5, 'insens': 21, 'tint': 2, 'devot': 2, 'placen': 1, 'explin': 3, 'wrsit': 1, 'cardin': 1, 'vista': 4, 'thicket': 2, 'haerd': 1, 'cathart': 1, 'antbiot': 4, 'objecet': 1, 'frc': 1, 'neglig': 3, 'tanish': 5, 'gien': 1, 'wamr': 1, 'linzolid': 1, 'coas': 2, 'auscleat': 1, 'relativli': 1, 'regiem': 3, 'vancxomycin': 1, 'lungfield': 2, 'vasoilin': 1, 'survalli': 1, 'enquir': 2, 'levofloxin': 6, 'lizinolid': 1, 'sucret': 1, \"'broke\": 1, 'inclus': 4, 'ser': 1, 'race': 3, \"'star\": 1, 'ceftamin': 1, 'vagina': 2, 'adq': 9, 'immun': 9, 'intug': 1, 'progess': 4, 'sct': 7, 'orientd': 2, 'podi': 2, 'tfdg': 1, 'gyn': 3, 'preper': 4, 'roho': 1, 'anaemia': 1, 'cushion': 6, 'anal': 13, 'adenosin': 5, 'ceftam': 1, 'ceftadim': 1, 'perineu': 1, 'softsorb': 7, 'jmh': 2, 'hick': 2, 'episdod': 1, 'sonc': 1, 'datail': 1, 'azithromax': 6, 'parathyroid': 1, 'elipt': 1, 'phosporu': 1, 'ampogel': 1, 'summeri': 2, 'renegel': 1, 'adenoma': 15, 'uc': 14, 'throb': 4, 'soup': 10, 'difficuti': 2, 'xxl': 1, 'blebectomi': 1, 'allowa': 1, 'csl': 4, 'crapetu': 1, 'subcut': 6, 'cervicothorac': 2, 'lert': 1, 'micronodul': 2, 'doxi': 5, 'ellipt': 3, 'septa': 2, 'retrospect': 8, 'repaet': 2, 'strnum': 1, 'bariatr': 3, 'sanguni': 1, \"a'lin\": 1, 'dizz': 1, 'spiromt': 1, 'flet': 2, 'oppurtunist': 1, 'cutan': 5, 'reso': 2, 'pleurodesi': 7, 'cxri': 1, 'oer': 2, 'spb': 6, 'pneumatocel': 8, 'aprrox': 2, 'miliari': 1, 'infilpleas': 1, 'anzimet': 3, 'doxycyclin': 7, 'pneumodiastinum': 1, 'infilto': 1, 'bronchopleur': 4, 'crepetu': 1, 'micronodular': 3, 'shaki': 7, 'thorascop': 2, 'oout': 1, 'cystostomi': 1, 'cystotomi': 1, 'intravasculari': 1, 'anasarc': 6, 'catrh': 1, 'cowork': 4, 'tnf': 1, 'whereabout': 1, 'exutb': 1, 'ecoli': 7, 'bien': 1, 'extravascularli': 2, 'prev': 28, 'overgrowth': 3, 'sabp': 3, 'unsrespons': 1, 'aztreonam': 18, 'revisit': 7, 'psychomimet': 3, 'sati': 3, 'jelfoam': 1, 'pon': 11, 'flaki': 5, 'uncompens': 2, 'cardiova': 2, 'frown': 1, 'jaw': 24, 'smade': 1, 'erythem': 4, 'escar': 2, 'aspirs': 1, 'verif': 5, 'comatos': 1, 'prayer': 3, 'unfold': 12, 'infiiltr': 1, 'purpilish': 1, 'pulseless': 7, 'mabp': 1, 'liber': 14, 'recondit': 1, 'catm': 2, 'vagin': 11, 'acx': 3, 'esmolol': 10, 'hemorroid': 1, 'bib': 2, 'decison': 1, 'cataton': 1, 'whooz': 1, 'corneal': 6, 'cathol': 2, 'aticoagul': 1, 'secreet': 1, 'doll': 1, 'afterloud': 1, 'riker': 1, 'sond': 1, 'pea': 11, 'intraaxi': 2, 'unobtain': 4, 'fist': 3, 'nonreact': 3, 'dysconjug': 1, 'prostatectomi': 4, 'meyloma': 1, 'placedraing': 1, 'debri': 16, 'aroumd': 1, 'agiti': 3, 'norvasc': 13, 'built': 1, 'diali': 2, 'conduit': 1, 'rum': 1, 'subtherapuet': 1, 'resdiual': 1, 'adequt': 2, 'radic': 5, 'lacer': 13, 'meax': 1, 'linen': 9, 'propabl': 1, 'densest': 2, 'montor': 4, 'bialter': 3, 'creation': 3, 'withdarw': 1, 'mlij': 1, 'ppsv': 1, 'remaint': 1, 'begant': 1, 'frequ': 3, 'prostetectomi': 1, 'mciu': 1, 'neobladd': 1, 'bug': 7, 'sedement': 5, 'irriagt': 1, 'dump': 3, 'crawl': 4, 'mornign': 2, 'disconjug': 2, 'myeloma': 5, 'mucosi': 1, 'mucuo': 1, 'marijuana': 3, 'cystectomi': 3, 'diaphorect': 2, 'petechia': 3, 'signifc': 5, 'sutr': 1, 'ileal': 6, '\\x13': 2, 'gaze': 9, 'influ': 1, 'venodynn': 1, 'attmept': 5, 'pulmo': 3, 'bronchomalagia': 1, 'malg': 1, 'reaccumul': 18, 'recrut': 1, 'shorten': 7, 'untx': 1, 'frail': 19, 'lght': 1, 'dd': 4, 'parametersthi': 1, 'russian': 20, 'tko': 4, 'contralater': 9, 'paperi': 1, 'intubatd': 2, 'wf': 2, 'gastrocult': 2, 'apper': 6, 'pri': 2, 'opa': 1, 'seventh': 12, 'pericardiocentesi': 4, 'convinc': 15, 'wider': 3, 'pericardiac': 2, 'constrict': 13, 'moreov': 3, 'fosamax': 4, 'psvt': 4, 'prestern': 1, 'paraspin': 11, 'extravascular': 1, 'lnco': 10, 'prssure': 1, 'regurgitaton': 1, 'tracheo': 6, 'pla': 2, 'alvaolar': 1, 'underpenetr': 8, 'prodctiv': 1, 'adminst': 3, 'sect': 1, 'elimin': 10, 'medulla': 2, 'npnn': 1, 'epitympan': 1, 'delta': 5, 'underdevelop': 1, 'hfn': 3, 'fob': 1, 'lingular': 28, 'haem': 1, 'rebreah': 1, 'ine': 3, 'vemtilatori': 1, 'serousi': 1, '^wbc': 3, 'eright': 1, 'scapula': 13, 'cant': 5, 'prognossi': 1, 'depth': 6, 'pulmologist': 1, 'nauseau': 3, 'intouch': 1, 'sugereon': 1, 'conlosomi': 1, 'frome': 1, 'oatmeal': 6, 'scapular': 4, 'forgot': 1, 'paussey': 1, 'illeoconduit': 1, 'kaexal': 1, 'colostolmi': 1, 'ileo': 2, 'nerv': 15, 'intermediu': 11, 'cheer': 2, 'dgt': 6, 'concommit': 1, 'optimist': 5, 'doson': 1, 'preform': 6, 'yankar': 4, 'zyperia': 1, 'apear': 5, 'whch': 1, 'dirrahea': 1, 'yellowi': 3, 'drainot': 1, 'dramaticali': 1, 'pneumonai': 1, 'flowheet': 1, 'element': 46, 'actiivti': 1, 'ileoconduit': 1, 'sysol': 1, 'slightlti': 1, 'urostomi': 3, 'carrier': 2, 'explor': 6, 'potasium': 1, 'allo': 2, 'miropenum': 1, 'crossreact': 2, 'ivig': 11, 'amul': 1, 'bmt': 10, 'puriti': 2, 'nhl': 5, 'cephalasporin': 1, 'friabl': 3, 'ivg': 1, 'stopper': 1, 'enterococc': 7, 'oxza': 11, 'pbec': 6, '^^dbp': 1, 'cervicomedullari': 1, 'intto': 1, 'wimper': 1, 'overdos': 14, 'tangl': 1, 'width': 11, 'bead': 3, 'simplest': 2, 'dbp': 4, 'childlik': 1, '^b': 1, 'ocasion': 1, 'medici': 1, 'normoxia': 4, 'pjc': 2, 'heartedli': 1, 'repositon': 3, 'unequ': 6, 'creatanin': 2, 'perp': 4, 'osteomylitit': 1, 'grabe': 1, 'duti': 1, 'sel': 2, 'regiment': 15, 'sooner': 5, 'dimins': 1, 'reass': 5, 'granulomatu': 1, 'arouas': 1, 'child': 3, 'exce': 3, 'theravest': 1, 'thera': 1, 'execut': 1, 'acepella': 2, 'orichectomi': 1, 'secretio': 4, 'reddn': 1, 'pnc': 1, 'lisinpril': 2, 'accapela': 1, 'reslov': 2, 'overextend': 1, 'infra': 5, 'dypsnea': 5, 'yhe': 2, 'reqir': 2, 'prsent': 2, 'atempt': 4, 'ofemal': 1, 'caretak': 9, 'serav': 1, 'frank': 41, \"rx'ed\": 1, 'es': 2, 'infultr': 1, 'ronchioru': 1, 'volecula': 1, 'inconten': 1, 'zelnorm': 1, 'stenot': 6, 'coarctat': 19, 'triscupid': 1, 'il': 4, 'bleeder': 1, 'propionibacterium': 1, 'nivm': 1, 'corynebacterium': 2, 'precipitatnt': 1, 'radium': 1, 'herpain': 1, 'tomorow': 2, 'hiflo': 2, 'estblish': 2, 'suppelement': 1, 'formerli': 5, 'vertigo': 4, 'vasoconstrict': 1, 'emt': 7, 'kl': 1, 'phtn': 11, 'recordsno': 6, 'pasp': 6, 'iwth': 4, 'vq': 5, 'renov': 2, 'ddimer': 4, 'methylypredison': 1, 'pred': 23, 'linger': 4, 'preset': 2, 'woodi': 2, 'mangement': 4, 'diphtheroid': 1, 'hyperpigment': 4, 'coccyxx': 1, 'led': 13, 'llarm': 2, 'committe': 1, 'givenk': 1, 'weean': 1, 'fsqid': 1, 'survel': 3, 'seep': 1, 'hosptial': 4, 'mmgh': 1, 'hydralizn': 1, 'wcc': 3, 'stoll': 3, 'wheex': 1, 'hue': 2, 'contorl': 2, 'localis': 1, 'defi': 1, 'bigemni': 2, 'aircel': 1, 'aggre': 1, 'feacal': 1, 'cerebellar': 10, 'pericol': 2, 'pv': 8, 'grion': 1, 'yesturday': 4, 'toadi': 2, 'ocg': 1, 'heprin': 6, 'infilt': 2, 'zarolyn': 1, 'appropraitley': 1, 'necess': 5, 'cytotox': 2, 'intraparenchym': 9, 'weakish': 1, 'du': 3, 'mmeq': 1, 'posteri': 1, 'harden': 6, 'maintin': 2, 'sheepskin': 1, 'aztroneum': 1, 'shorter': 17, 'mediacl': 1, 'pyret': 1, 'tilt': 8, 'metalazon': 1, 'offens': 1, 'noncommun': 5, 'pressr': 2, 'sleev': 9, 'crrect': 1, 'wieght': 1, 'ontinu': 2, 'perforati': 1, 'fluconasol': 1, 'incon': 2, 'dwi': 2, 'crt': 5, 'uncomf': 1, 'palption': 1, 'antx': 1, 'agon': 3, 'sours': 2, 'aka': 5, 'ampi': 1, 'cocyx': 4, 'gantri': 1, 'grn': 2, 'bodili': 3, 'responc': 8, 'bibasilarli': 4, 'vanginosi': 1, 'paracol': 8, 'agait': 2, 'mononitr': 5, 'trachmask': 2, 'sulcal': 6, 'atheromat': 3, 'purposeful': 1, 'prosthes': 3, 'vaginosi': 2, 'reschdul': 1, 'gingerli': 1, 'overnightm': 1, 'airclean': 1, 'oedematu': 1, 'zaroxlyn': 2, 'inconsitantli': 2, 'mew': 2, 'clammi': 12, 'sata': 3, 'nxt': 1, 'apperar': 1, 'hlthi': 1, 'trasnfer': 1, 'discov': 9, 'montipodi': 1, 'foreatrm': 1, 'oxycondon': 2, 'zaroxyln': 3, 'rectosigmoid': 6, 'mulitpodu': 1, 'resplor': 1, 'pyrexia': 44, 'aqaucel': 1, 'acuiti': 7, 'dysrhythmia': 10, 'elevi': 1, 'jg': 2, 'jt': 5, 'hyperperfus': 1, 'occipt': 2, 'fentali': 2, 'specimin': 2, 'ordin': 1, 'hydralalzin': 1, 'ivfb': 4, 'satisfcatori': 1, 'formal': 32, 'respalar': 2, 'loadli': 1, 'aquir': 13, 'contast': 1, 'hydralzin': 4, 'capsul': 18, 'transud': 13, 'gerner': 1, 'appaer': 1, 'fiscal': 1, 'vasolin': 4, 'appart': 2, 'respelar': 1, '^p': 3, 'positv': 1, 'bein': 1, 'cpc': 1, 'mininm': 1, 'aztronam': 1, 'kinder': 1, 'zaroxolyn': 2, 'montioedu': 1, 'ozz': 1, 'aztreoneum': 1, 'sooth': 2, 'breakdoown': 1, 'lbo': 1, 'ldp': 1, 'hemiarthroplasti': 6, 'eccomot': 1, 'olansapin': 1, 'collector': 1, 'mcqx': 1, 'dinitr': 4, 'positon': 2, 'vnetil': 1, 'pullback': 2, 'dependantli': 1, 'anspir': 1, 'nitinol': 7, 'septat': 8, 'calculu': 9, 'jkpe': 5, 'vicin': 2, 'abandon': 3, 'redund': 8, 'natg': 4, 'ureter': 9, 'join': 3, 'gwp': 10, 'rhonchour': 6, 'flagli': 4, 'tachyn': 3, 'serosangi': 2, 'sweati': 2, 'afflutt': 1, 'sincer': 1, 'gastrografin': 5, 'irragt': 1, 'intraretroperiton': 1, 'paraaort': 8, 'periost': 3, 'burden': 10, 'subtrochanter': 1, 'sutent': 2, 'crest': 2, 'toast': 5, 'metstat': 1, 'acetabulum': 8, 'restag': 1, 'iliac': 41, 'mycobacteri': 3, 'rcc': 7, 'wn': 4, 'nadolol': 3, 'levoflaoxacin': 1, 'zolpidem': 7, 'oxal': 2, 'wthdrawal': 1, 'ursodiol': 4, 'wd': 14, 'avm': 5, 'bedrest': 13, 'vagal': 9, 'pallor': 24, 'reble': 2, 'meanwhil': 4, 'choleycsytectomi': 1, 'varoc': 1, 'hydrochlorothiazid': 7, 'escitalopram': 2, 'coax': 1, 'grandaugth': 1, 'ah': 7, 'tachypenia': 1, 'ventric': 3, 'whereupon': 1, 'flr': 2, 'intermmitantli': 1, 'pedicl': 7, 'somehat': 2, 'imfect': 1, 'gc': 3, 'oppos': 8, 'deafferent': 1, 'carbetolol': 1, 'cardiogram': 1, 'dysflexia': 1, 'pneumionia': 1, 'frankli': 5, 'poisitv': 1, 'moon': 1, 'bacolfen': 1, 'faci': 1, 'alphagan': 1, 'carbamezapin': 1, 'cxwc': 11, 'tonic': 6, 'glycerin': 1, 'spring': 1, 'brimonidin': 2, \"desat'd\": 1, 'nystagmu': 3, 'aeruginosa': 5, 'dysreflexia': 1, 'travatan': 1, 'poop': 1, 'professor': 1, 'esteras': 3, 'epilepsi': 3, 'ergocalciferol': 1, 'mutlipl': 2, 'initiali': 4, 'lgr': 7, 'hyponateremia': 1, 'oxybutynin': 5, 'semest': 1, 'centrum': 6, 'subclin': 3, 'strernal': 1, 'twave': 5, 'wander': 6, 'kit': 8, 'bullet': 1, 'caucasian': 5, 'opposit': 2, 'magic': 2, 'tbw': 3, 'quadraplegia': 4, 'pertain': 3, 'pseudomon': 13, 'delir': 10, 'readdmit': 1, 'seixur': 1, 'clonic': 6, 'maker': 5, 'automon': 1, 'transter': 1, 'colono': 1, 'parapsilosi': 2, 'minatin': 1, 'fish': 6, 'funguria': 1, 'illus': 1, 'antiepilept': 2, 'recreat': 4, 'quadriplegia': 5, 'spark': 2, 'teacher': 2, 'tibial': 42, 'ulcuer': 1, 'omega': 2, 'lomotrigen': 1, 'unwit': 5, 'ictal': 3, 'jxrl': 14, 'pern': 1, 'intrathec': 3, 'kaexyl': 2, 'antizeizur': 1, 'taut': 2, 'engin': 4, 'enulos': 1, 'siezur': 8, 'tegretol': 4, 'pseudamona': 2, 'sarcast': 1, 'pu': 11, 'anterio': 2, 'avaiabl': 1, 'hematom': 1, 'iliacu': 3, 'revalu': 6, 'anbx': 21, 'diuress': 4, 'canal': 21, 'dural': 5, 'ketamin': 1, 'pdst': 1, 'mad': 2, 'prductiv': 1, 'dislpay': 1, 'lter': 2, 'cauda': 6, 'crept': 1, 'urinalysi': 10, 'intraop': 6, 'ivkcl': 1, 'oal': 1, 'hydrouret': 10, 'transmit': 11, 'fade': 5, 'toradol': 6, 'aldacton': 6, 'stoo': 2, 'vnetilatori': 1, 'callu': 5, 'loww': 1, 'ise': 1, 'hemov': 1, 'tlso': 1, 'withl': 1, 'thorsic': 1, 'undersid': 3, 'phlegmon': 2, 'disciti': 4, 'recit': 2, \"sat'\": 5, 'execept': 1, 'determi': 1, 'ilater': 1, 'bactroban': 3, 'theet': 1, 'stopp': 2, 'infrahepat': 1, 'maiami': 1, 'applejuic': 1, 'herp': 15, 'equina': 6, 'cusp': 1, 'instrument': 13, 'loculat': 1, 'limet': 1, 'extradur': 2, 'endplat': 17, 'crepid': 1, 'dermatolog': 6, 'fectal': 2, 'stri': 1, 'anu': 4, 'duloxetin': 6, 'thoracoabdomin': 3, 'coears': 1, 'aam': 2, 'punc': 1, 'ninth': 4, 'drove': 2, 'bizarr': 2, 'breaktrough': 1, 'withsmal': 1, 'malalign': 5, 'stylet': 7, 'psoa': 6, 'piccl': 1, 'easlli': 1, 'steri': 3, 'aat': 2, 'vertic': 12, 'fordeti': 1, 'trendelenburg': 1, 'dependec': 1, 'videotap': 1, 'unil': 1, 'retropharyng': 3, 'abc': 3, 'schmorl': 4, 'thecal': 4, 'guag': 8, 'citi': 3, 'cariothorac': 1, 'monotor': 2, 'hemovac': 4, 'optimis': 1, 'comofrt': 1, 'plethora': 4, 'nsurg': 3, 'psychoact': 4, 'hypospadiu': 1, 'hxof': 2, 'successful': 1, 'propag': 1, 'csft': 1, 'analges': 7, 'fascilit': 1, 'unfett': 1, 'gemini': 1, 'prepocedur': 1, 'extrins': 5, 'thirti': 4, \"sxn'ed\": 3, 'diagnsi': 1, 'bloodier': 1, 'kideni': 1, 'rigth': 3, 'sangeou': 1, 'mbp': 1, 'inde': 6, 'apa': 2, 'thrach': 2, 'cone': 2, 'susequ': 2, 'caught': 4, 'throughoutth': 1, 'elestoplast': 1, 'anasarcoid': 4, 'faulti': 1, 'sangin': 1, 'corticobas': 1, 'lengthli': 2, 'cogniz': 1, 'ride': 6, 'lscl': 1, 'femer': 3, 'bloodcx': 1, 'applli': 1, 'goiter': 6, 'assciat': 1, 'upperlob': 2, 'viscera': 7, 'trrend': 1, 'surgicel': 2, 'costodiaphragmat': 1, 'errythema': 1, 'advnc': 1, \"parkinsons'\": 1, 'evacu': 15, 'sanguein': 1, 'thrombolyt': 1, 'cheat': 1, 'hounsfield': 8, 'surgifoam': 1, 'thoras': 6, 'clearn': 1, 'venographi': 3, 'biotic': 1, 'instal': 5, 'grimis': 1, 'concent': 1, 'innomin': 6, 'necesit': 2, 'precedur': 1, 'honor': 1, 'arris': 1, 'sofsorb': 2, 'alkaloti': 1, 'cortico': 1, 'parkison': 1, 'moisten': 3, 'granulomat': 9, 'comfortabley': 2, 'abmul': 1, 'hemothorax': 8, 'approxam': 1, 'occluss': 1, 'hopeful': 2, \"mvm't\": 2, 'condtiion': 1, 'thorocotomi': 2, 'themselv': 2, 'kaposi': 1, 'gluconst': 1, 'nostril': 12, 'adress': 2, 'inferomedi': 2, 'anasarka': 1, 'paracetamol': 1, 'receivi': 2, 'proc': 4, 'hesit': 10, 'diurisis': 1, 'stimualt': 2, 'peroxid': 3, 'alquez': 1, 'findibg': 1, 'linezalid': 1, 'sangun': 1, 'impercept': 1, 'seru': 1, 'dfdgf': 1, 'souc': 2, 'hydrogen': 2, 'linezilid': 1, 'thorocoscopi': 1, 'faecium': 1, 'increment': 6, 'screener': 6, 'pod': 15, 'stich': 2, 'sarcoma': 1, 'preocedur': 1, 'pos': 2, 'consol': 5, 'toss': 4, 'aftr': 1, 'pvsv': 1, 'dow': 3, 'intrapleur': 3, 'inrr': 1, 'dimnish': 1, 'unblock': 2, 'sanguan': 1, 'rra': 1, 'trahc': 3, 'uosh': 1, 'pleuravac': 2, 'rp': 14, 'fube': 1, 'erthemat': 2, 'giacc': 1, 'intox': 7, 'hyoptn': 1, 'varicos': 3, 'gastroesophag': 29, 'ruptur': 18, 'triamcinolon': 3, 'tah': 5, 'folic': 13, 'gastriti': 17, 'naproxen': 2, 'pft': 21, 'introduct': 3, 'costrophren': 1, 'spegr': 1, 'disku': 6, 'proair': 2, 'reman': 3, 'gastroenterolog': 4, 'evista': 1, 'slawwolow': 1, 'boderlin': 4, 'weigh': 7, 'barb': 3, 'amphetamin': 1, 'bso': 2, 'cigarett': 11, 'sillihett': 1, 'lump': 4, 'arthralgia': 10, 'lemonad': 2, 'raloxifen': 1, 'cxrshow': 1, 'probnp': 5, 'nitr': 6, 'abstienc': 1, 'tibc': 8, 'unisyn': 1, 'aton': 1, 'ibw': 10, 'spirat': 2, 'acetonid': 1, 'propoxyphen': 4, 'psychiatrist': 10, 'mthdne': 1, 'bj': 2, 'poli': 26, 'synopsi': 5, 'breast': 38, 'basex': 6, 'hemmorhoid': 2, 'butalbit': 2, 'sentanc': 3, 'sulfasalazin': 3, 'ptsd': 7, 'tranferrin': 1, 'agonist': 3, 'acetmnphn': 3, 'leter': 1, 'fioricet': 1, 'notdon': 4, 'imipress': 1, 'preferenti': 1, 'clearish': 1, 'whitmil': 6, 'lumpectomi': 7, 'fluoxetin': 4, 'pown': 1, 'handihal': 1, 'unsaf': 13, 'perphenazin': 1, 'ket': 5, 'ptch': 6, 'anorexia': 10, 'conform': 3, 'tackynp': 1, 'hc': 6, 'rqeaction': 1, 'fibromyalgia': 3, 'intensitif': 1, 'ref': 6, 'unalt': 4, 'cytotec': 1, 'briefi': 1, 'withourt': 1, 'hfa': 3, 'sytem': 3, 'pulsu': 6, 'amphet': 1, 'reguir': 2, 'scaphoid': 3, 'ht': 11, 'bpd': 1, 'caff': 2, 'nervosa': 2, 'dlco': 2, 'warn': 3, 'agap': 9, 'ipa': 1, 'adam': 4, 'ctropnt': 2, 'treand': 2, 'antipyret': 6, 'tahbso': 1, 'compli': 7, 'nco': 6, 'sublingu': 5, 'pericardia': 2, 'phych': 1, 'dextroamphetamin': 1, 'td': 12, 'urobil': 3, 'misoprostol': 1, 'ndnt': 6, 'misoprost': 1, 'acet': 9, 'sink': 1, 'sniff': 8, 'secundum': 6, 'congenit': 19, 'jbre': 9, 'atrio': 5, 'mtp': 1, 'leftclip': 1, 'cmc': 2, 'tubercul': 2, 'underexposur': 1, 'calcan': 1, 'tuberculosi': 7, 'phalanx': 4, 'pleur': 1, 'talu': 3, 'resembl': 2, 'thoracoscopi': 4, 'phalang': 3, 'congruent': 4, 'mortis': 3, 'hallux': 1, 'valgu': 1, 'styloid': 1, 'undiagnos': 6, 'exub': 6, 'pleuro': 1, 'inaffect': 1, 'pils': 1, \"lft'\": 5, 'roadtrip': 1, 'bullou': 8, 'hre': 1, 'wheen': 1, 'quicki': 1, 'erron': 3, 'dicuss': 1, 'resuct': 1, 'tracheomegali': 1, 'coccidiomycosi': 2, 'nct': 1, 'regist': 5, 'hematolog': 20, 'servi': 1, 'splenul': 10, 'dwell': 5, 'armi': 1, 'ultrsonograph': 1, 'sternocleidomastoid': 3, 'osmolit': 2, 'formatio': 1, 'ation': 1, 'neub': 2, 'trandfer': 1, 'levofloxcin': 3, 'reamain': 1, 'ichi': 1, 'snooz': 2, 'apetit': 11, 'reavtiv': 1, 'immmedi': 1, 'extremitli': 1, 'asper': 3, 'overngiht': 4, 'euqal': 1, 'sternaum': 1, 'heartrat': 1, 'draian': 2, 'ansthesia': 1, 'wcommand': 1, 'ey': 2, 'incison': 1, 'consistanli': 1, 'chet': 1, 'multpl': 3, 'svg': 4, 'randomli': 3, 'commnad': 4, 'consistli': 1, 'incontinencr': 1, 'ssx': 1, 'clotti': 1, 'wih': 2, 'bsp': 2, 'sersang': 2, 'pruiti': 1, 'sponteous': 1, 'blisteri': 1, 'zoooster': 1, 'lcw': 4, 'onleft': 1, 'aloevista': 1, 'scrotal': 16, 'serosan': 1, 'ventolin': 4, 'dilatin': 3, 'activeti': 1, 'wriiten': 1, 'raplac': 1, 'epicard': 2, 'suppoert': 1, 'adult': 10, 'eccymoisi': 1, 'ligi': 1, 'catc': 1, 'everywher': 1, 'spound': 1, 'salvag': 2, 'insu': 1, 'zooster': 1, 'cheang': 1, 'tenati': 1, 'intermittingli': 2, 'sxnd': 4, 'dermotolog': 1, 'vericilla': 1, 'dression': 1, 'nooon': 1, 'truck': 2, 'follo': 2, 'tensiv': 2, 'amal': 2, 'zoster': 13, 'tachynep': 1, 'pearll': 1, 'zesteril': 1, 'zorviax': 1, 'sbradi': 1, 'vip': 3, 'waiv': 1, 'perepher': 1, 'merpanem': 1, '\\x13transfer': 1, 'whiel': 1, 'meripenem': 3, 'optmiz': 1, 'anitcoagul': 1, 'continuo': 3, 'exaust': 1, 'interig': 1, 'luekemia': 1, 'hereconfirm': 1, 'leukemia': 7, 'copazin': 2, 'srackl': 1, 'furthermor': 8, 'fenestr': 6, 'apppli': 2, 'axil': 3, 'hyperecho': 8, 'clotrimazol': 6, 'evalua': 3, 'supersorb': 1, 'soluabl': 1, 'wipe': 8, 'clotimazol': 1, 'anitbx': 2, 'ccm': 1, 'ureteropelv': 1, 'peripelv': 1, 'urothelium': 1, 'scout': 16, 'anticubit': 4, 'parapharyng': 1, 'adjunct': 3, 'regual': 1, 'tracheoinnomin': 1, 'submandibular': 5, 'vad': 2, 'swallo': 2, 'blooy': 1, 'foreign': 13, 'ucerin': 1, 'pseudoaneurysm': 7, 'laryngectomi': 2, 'crusti': 4, 'amorph': 3, 'recomm': 2, 'metaprolol': 4, 'errl': 1, 'exbub': 1, 'psup': 3, 'diavan': 1, 'eyedrop': 2, 'neurotin': 1, 'keton': 9, 'pregress': 1, 'enyzm': 1, 'positivli': 2, 'tripll': 1, 'allerigi': 1, 'gbeen': 1, 'fire': 8, 'aful': 1, 'diagnsot': 1, 'hpp': 1, 'autoduiresi': 1, 'prograf': 3, 'treponin': 1, 'doorway': 2, 'slightk': 1, 'puppet': 1, 'remaain': 1, 'nephro': 2, 'effu': 6, 'box': 7, 'succes': 4, 'jwk': 4, 'rap': 10, 'recurrenti': 1, 'flucanazol': 1, 'qaudrant': 1, 'minimi': 2, 'greeen': 1, 'ntp': 6, 'mjoriti': 1, 'delus': 2, \"^'ng\": 1, 'noew': 1, 'knock': 4, 'miseri': 1, 'blacj': 1, 'swill': 1, 'combivir': 3, 'lozeng': 3, 'tessalon': 9, 'cepacol': 2, 'funni': 2, 'dmi': 3, 'betadin': 3, 'monthli': 6, 'ambein': 1, 'novea': 1, 'filtrat': 2, 'voluntari': 1, 'nephrologist': 4, 'seconari': 1, 'comun': 3, 'ultrafiltr': 6, 'gurgl': 10, 'quinton': 3, 'inquier': 4, 'undertaken': 2, 'interf': 1, 'cyclosporin': 3, 'labatalol': 2, 'prefe': 1, 'sinnis': 1, 'unsupervis': 2, 'vl': 18, 'dializ': 1, 'materail': 1, 'nown': 1, 'enviro': 3, 'ampicillan': 1, 'dispneaic': 1, 'albulterol': 1, 'aoox': 7, 'tilet': 1, 'overwhelm': 9, 'cefrtiaxon': 1, 'leionella': 1, 'avtiv': 1, 'activrti': 1, 'bi': 6, 'valerian': 1, 'warmth': 7, 'ivmeropenum': 1, 'prohylaxi': 1, 'microb': 2, 'thromboctopenia': 1, 'ibd': 2, 'mepliex': 1, 'mesalamin': 2, 'app': 5, 'nightli': 5, 'swoll': 1, 'generak': 1, 'infitr': 5, 'brca': 2, 'recentlli': 1, 'alkaloid': 1, 'siunc': 1, 'fbca': 4, 'ldn': 6, 'recordsbelladonna': 1, 'prophylact': 20, 'nppv': 6, 'nonocclus': 9, 'ngiht': 4, 'tinea': 1, 'nonbroken': 1, 'electron': 9, \"'thumb\": 1, 'poh': 1, 'belladonna': 1, 'acd': 6, 'ciproflox': 1, 'gleed': 1, 'apppear': 3, 'hytrin': 1, 'sole': 6, 'spiromoeteri': 1, 'likewis': 1, 'legioniella': 1, 'xygri': 2, 'bcaus': 1, 'thorocentisi': 1, 'extract': 9, 'cardiophren': 8, 'rslt': 1, 'phi': 4, 'vist': 2, 'thoracentisi': 2, 'hyperv': 1, 'arter': 1, 'bracelet': 6, 'niddm': 8, 'glucaphag': 1, 'accustom': 1, 'labour': 2, 'repletd': 1, '^doe': 1, 'nasointestin': 9, 'un': 8, 'brreath': 1, \"tom'row\": 3, 'meropanem': 1, 'lipomat': 4, 'curs': 2, 'funtion': 3, 'nasagmu': 1, 'evetu': 1, 'upperarm': 1, 'espec': 2, 'interstit': 4, 'floro': 1, 'trens': 1, 'contrari': 1, 'paralys': 6, 'phlebotomi': 15, 'aurgument': 1, 'reintroduc': 4, 'ststu': 1, 'bigemeni': 2, 'delirum': 1, 'dubhoff': 6, 'physio': 2, 'detemin': 1, 'amalys': 1, 'canot': 1, 'mutilobar': 1, 'lye': 1, 'presen': 1, 'inconclus': 5, '^restless': 1, 'umbil': 12, 'tether': 6, 'angular': 1, 'pneumostat': 3, 'powerpicc': 4, 'lltc': 12, 'transfix': 2, 'ceph': 2, 'withstood': 1, 'intrabd': 2, 'simethecon': 2, 'simethcon': 1, 'vew': 1, 'stelazin': 1, 'epidisod': 1, 'psychiatri': 12, 'cogentin': 2, 'unreli': 6, 'consutl': 2, 'pinpoint': 4, 'neurosurgeri': 5, 'mscontin': 1, 'johnson': 1, 'macular': 12, 'erthyma': 1, 'aveno': 1, 'discectomi': 1, 'debrit': 1, 'telelphon': 1, 'demorol': 1, 'tylenool': 1, 'foramin': 11, 'veterbr': 1, 'lysi': 5, 'copious': 1, 'intrisinc': 1, 'foramina': 4, 'serous': 1, 'bister': 1, 'intraabd': 1, 'rectovagin': 1, 'flake': 15, 'erythma': 1, 'flakey': 2, 'linezoid': 2, 'repletet': 1, 'trumor': 1, 'cape': 2, 'coach': 15, 'lookup': 1, 'creast': 1, 'bounc': 4, 'neural': 13, 'everythingthat': 1, 'tobra': 6, 'hte': 4, 'confusedat': 1, 'endocardidti': 1, 'thinner': 7, 'ostreomyl': 1, 'vetebr': 1, 'drn': 1, 'diskiti': 3, 'thrombophleb': 2, 'ultrcal': 1, 'obliter': 14, 'intr': 1, 'cha': 2, 'aveeno': 1, 'noncompress': 5, 'tremul': 14, 'cheny': 2, 'loongterm': 1, 'mentatl': 1, 'osteomyleti': 1, 'vooid': 1, 'dryness': 5, \"shock'\": 1, 'bloddi': 1, 'salvo': 1, 'ventriclar': 1, 'yesterdaym': 1, \"'infrequ\": 1, 'rhtym': 3, 'sugest': 1, 'parallel': 2, 'resuscitaion': 1, 'dring': 1, 'bdrest': 1, \"'call\": 1, 'admisson': 1, 'sideroblast': 1, 'metaplasia': 2, 'myeloid': 1, 'pancreatectomi': 1, 'myelofibrsi': 1, 'angioectasia': 2, 'sppleenectomi': 1, 'cyberknif': 3, 'adenocarcinoma': 17, 'pneurmothorax': 1, 'analyz': 12, 'placmeent': 1, 'pneumoth': 2, 'regress': 12, 'knob': 12, 'overinfl': 8, 'ctto': 1, 'remaisn': 4, 'infradiaphragmat': 3, 'orientedx': 7, 'refrain': 2, 'thoracoscop': 2, 'cystoscopi': 6, 'uniformli': 4, 'cystocopi': 2, 'nondepend': 6, 'hernial': 1, 'unchnag': 1, 'ctpa': 7, 'ovarian': 6, 'diastasi': 3, 'tehn': 1, 'superinmpos': 1, 'physican': 1, 'guifensan': 1, 'rocephin': 2, 'discoordin': 6, 'poisit': 1, 'plenti': 4, 'mwintain': 1, 'cardiovers': 14, 'expectorationg': 1, 'indciat': 1, 'eager': 5, 'energet': 1, 'fontal': 1, 'lobd': 1, 'ceftrax': 1, 'conc': 6, 'popsickl': 1, 'float': 2, 'genamycin': 1, 'inmmobil': 1, 'everth': 1, 'instrins': 1, 'coher': 7, 'venepunctur': 1, 'hpa': 2, 'hemiplegia': 5, 'mersa': 1, 'vaxcel': 6, 'vv': 2, 'rouseabl': 2, 'apnic': 6, 'sath': 1, 'disclos': 4, 'effusio': 5, 'annoy': 2, 'unrepair': 1, 'volun': 1, 'pregabalin': 3, 'unus': 4, 'stiffen': 7, 'artifici': 5, 'pentamidin': 3, 'angiodynam': 2, 'miscarriag': 2, 'mow': 1, 'basilarli': 1, 'neuralgia': 2, 'silver': 6, 'guidenc': 1, 'allogen': 3, 'sidept': 1, 'ptosi': 1, 'fistalugram': 1, 'outer': 4, 'effsuin': 2, 'postherpet': 1, 'faith': 1, 'allosct': 2, 'gvhd': 2, 'lawn': 1, 'clottedcan': 1, 'hemorr': 1, 'dapson': 4, 'nephrolog': 6, 'herpet': 2, 'taco': 1, 'medcat': 1, 'cellult': 1, 'yhi': 1, 'edeman': 2, 'cuffleak': 2, 'awat': 2, 'semioval': 3, 'alz': 1, 'thoracenteci': 1, 'flagi': 2, 'microvessel': 1, 'aca': 4, 'circl': 7, 'encephalomalac': 2, 'lvia': 3, 'inchair': 1, 'inreas': 1, 'oder': 2, 'laxix': 1, 'diruess': 1, 'dschrg': 1, 'benepro': 2, 'pvo': 1, 'readvanc': 3, 'pulmicourt': 1, 'vene': 1, 'restatr': 2, 'aniticp': 1, 'occason': 2, 'mab': 1, 'respatori': 1, 'undoubtedli': 2, 'characht': 1, 'grandkid': 1, 'pulmonarey': 1, 'profici': 1, 'serosanquin': 1, 'oropharnyx': 1, 'trachesostomi': 1, 'exager': 2, 'bumex': 3, 'auscul': 2, 'drainaag': 1, 'elecatr': 1, 'ecotpi': 2, 'hedo': 1, 'pvco': 1, 'tooth': 8, 'surprisingli': 2, 'painkish': 1, 'stiffli': 1, 'benefib': 2, 'beneprotien': 3, 'alet': 1, 'serviv': 1, 'withbl': 1, 'utilis': 1, 'individu': 6, 'kid': 3, 'coxxyx': 1, 'timefram': 1, 'grey': 7, 'radiodens': 14, 'eyebrow': 4, 'facila': 1, 'porvid': 1, 'psuedomona': 6, 'striatonigr': 1, 'jerk': 4, 'banana': 15, 'claudi': 1, 'pdr': 1, 'configuart': 1, 'unfib': 1, 'resorpt': 4, 'lesson': 1, 'givenx': 2, 'veneodyn': 1, 'sechedul': 1, 'hypercapnia': 4, 'optomist': 1, 'cautiosli': 1, 'ectoy': 2, 'nigrostriat': 1, 'trah': 2, 'unifib': 1, 'endotrachael': 1, 'graini': 2, 'reflux': 26, 'bilaterlli': 1, 'sut': 1, 'pulmacort': 1, 'coveral': 1, 'audabl': 1, 'mimick': 1, 'striatoniagr': 1, 'augmentin': 8, 'infsus': 1, 'diomax': 1, 'expres': 2, 'ivbx': 1, 'dsa': 1, 'lowwer': 1, 'atropi': 1, 'vetil': 2, 'reommend': 1, 'mondday': 1, 'malacia': 4, 'occuls': 1, 'caridac': 1, 'abmu': 1, 'suctionr': 1, 'periodiac': 1, 'respiatori': 1, 'pulmonaari': 1, 'greeninsh': 3, 'crackli': 3, 'dreainag': 1, 'sputumwith': 1, 'hyupernatremia': 1, 'ncreas': 1, 'muco': 1, 'frq': 1, 'fibronodular': 2, 'jxn': 3, 'aji': 13, 'thoracocentesi': 15, 'otheriws': 1, 'overlap': 7, 'hyperexpans': 8, 'thsi': 6, 'scotum': 2, 'scrotom': 1, 'axaxox': 1, 'vivonex': 5, 'invert': 4, 'prandial': 2, 'bill': 17, 'atherosclerosi': 12, 'instant': 1, 'fibrothorax': 1, 'chase': 3, 'possiblu': 1, 'robot': 1, 'wenkebach': 2, 'breakdownon': 1, 'electroly': 5, 'rnage': 2, 'match': 12, 'sevar': 1, 'haemodynam': 4, 'coper': 3, 'dgtr': 6, 'nkma': 3, 'creammi': 1, 'eggcrat': 1, 'possib': 1, 'levaqin': 2, 'disassoci': 1, 'swob': 1, 'diauresi': 1, 'onflow': 1, 'whiti': 1, \"tx'ing\": 1, 'insecur': 1, 'dissemin': 6, 'asplenia': 1, 'azithrommycin': 1, 'endolumin': 4, 'phantom': 2, 'shower': 2, '\\x13in': 1, 'sprain': 1, 'uat': 2, 'brownloos': 1, 'profil': 5, 'postict': 1, 'pleasand': 1, 'creme': 1, 'meter': 1, 'sucion': 2, 'esbi': 1, 'insuffci': 2, 'bradycadia': 1, 'lucent': 8, 'amunt': 1, 'aputum': 1, 'fdp': 4, 'belch': 2, 'resullt': 1, 'coomb': 1, 'dextameth': 1, 'pneumopericardium': 1, 'swivel': 3, 'pendind': 1, 'sof': 3, 'dopoff': 3, 'vere': 1, 'virtual': 2, 'cvvh': 9, 'pateint': 3, 'initillay': 1, 'troughout': 1, 'valubl': 2, 'trake': 1, 'flushe': 1, 'hymidifi': 1, 'rentent': 1, 'orientata': 2, 'nocal': 1, 'swet': 1, 'focsu': 1, 'yankaar': 2, 'fentani': 3, 'metaclorpromid': 1, 'tacrolimu': 7, 'confidenti': 1, 'deleriuo': 1, 'kayaxal': 1, 'plesa': 2, 'mt': 8, 'buth': 1, 'psotion': 1, 'lw': 13, 'cocial': 1, 'extubatiohn': 1, 'alsix': 1, 'jct': 1, 'diursesi': 3, 'beacus': 1, 'dispar': 1, 'aggressivf': 1, 'pepp': 1, 'parenychym': 1, 'nb': 5, 'suctioend': 1, 'appera': 2, 'trophic': 2, 'tardu': 1, 'metaclopromid': 2, 'blous': 14, 'sligthli': 1, 'verc': 2, 'bolous': 1, 'coverd': 2, 'trigemni': 1, 'ventset': 2, 'cancal': 1, 'sewll': 1, 'doploff': 3, 'mucopurul': 1, 'ored': 4, 'scedul': 1, 'hurricain': 5, 'parvu': 1, 'agitataion': 2, 'cellphon': 1, 'sidehol': 9, 'secet': 4, 'inconstit': 1, 'bols': 3, 'easliy': 1, 'requirw': 1, 'examib': 1, 'lertharg': 1, 'halv': 4, 'liler': 1, 'plani': 1, 'incit': 2, 'amiodar': 1, 'hydrazalin': 3, 'ventulat': 1, 'arintg': 1, 'vancomysin': 2, 'dizzli': 1, 'unevet': 1, 'behaviuor': 1, 'sennakot': 2, 'eplac': 1, 'vert': 2, 'metoclopromid': 2, 'afternnon': 2, 'alteplas': 1, 'commernc': 1, 'unable\\x13': 1, 'afibril': 1, 'refelx': 1, 'incresas': 2, 'aveolar': 1, 'obsewrv': 2, 'doplpoff': 1, 'comfus': 1, 'nonfoc': 11, 'panctranspl': 1, 'ptca': 5, 'hdr': 3, 'parasthesia': 7, 'pseudomonax': 1, 'bbl': 7, 'sedentari': 5, 'uric': 6, 'singulair': 10, 'titropium': 1, 'abn': 3, 'iga': 5, 'methylpr': 8, 'dessert': 1, 'ccb': 6, 'lifestyl': 3, 'muffin': 2, 'ceftriazon': 6, 'dog': 4, 'legionair': 1, 'corn': 1, 'desert': 1, 'oseo': 1, 'specgr': 2, 'rbc': 43, 'serogroup': 6, 'dipstick': 2, 'scrambl': 3, 'cocnsist': 1, 'mystatin': 1, 'msi': 3, 'assistx': 1, 'scn': 2, 'kick': 19, 'warmer': 5, 'thic': 4, 'eys': 1, 'soupi': 1, 'discard': 6, 'plexi': 1, 'sg': 6, 'resperadol': 1, 'aztriman': 1, 'nasaotrach': 1, 'mva': 15, 'spironmet': 1, 'strept': 5, 'school': 7, 'dulcalox': 1, 'bronchodial': 3, 'bet': 1, 'robituss': 2, 'rush': 4, 'continuosli': 1, 'adopt': 1, 'breathinhg': 1, 'monito': 5, 'lorpessor': 2, 'hemangioma': 16, 'ovenroc': 1, 'iabp': 5, 'ith': 2, 'throughotu': 1, 'cervix': 2, 'condtion': 1, 'bwel': 1, 'infusimg': 1, 'concav': 4, 'tng': 2, 'doapmin': 1, 'extuba': 3, 'fingertip': 3, 'furter': 2, 'hydraliazin': 1, 'nitor': 1, 'edemam': 1, 'illeu': 2, 'amantadin': 2, 'amantidin': 2, 'prolap': 1, 'esstenti': 1, 'cracl': 3, 'hepatopet': 26, 'painfre': 2, 'urbc': 2, 'dopamamin': 1, 'abdomini': 4, 'posteromedi': 1, 'quadripl': 1, 'gasseou': 2, 'saph': 1, 'pneumothoorax': 1, 'pbm': 1, 'heimlich': 1, 'pmreassess': 1, 'subc': 2, 'excis': 8, 'colonca': 1, 'platelik': 3, 'curvilinear': 7, 'aresol': 2, 'tacro': 3, 'lrd': 2, 'ordrer': 1, 'par': 2, 'negativetri': 1, 'sicuss': 1, 'hydromorphon': 12, 'sesni': 1, 'anaphylaxi': 15, 'hyperk': 2, 'trx': 1, 'row': 7, 'enterococ': 2, 'stabal': 8, 'thermomet': 4, 'tens': 9, 'ws': 4, 'pleuret': 1, 'dxae': 2, 'brittl': 2, 'bronc': 3, 'tracheobronchomalacia': 9, 'ostium': 2, 'thrombos': 4, 'myucomyst': 1, 'tropinin': 4, 'hjr': 3, 'carev': 2, 'tendor': 2, 'protoc': 2, 'widow': 3, 'resusciat': 1, 'coracoclavicular': 1, 'aurea': 1, 'acromiohumer': 1, 'glenoid': 7, 'ovari': 5, 'adnex': 5, 'circumflex': 3, 'direcl': 1, 'intubt': 2, 'contrastclip': 3, 'mesaur': 1, 'dysynchron': 12, 'plerual': 2, 'pbishop': 2, 'incompletley': 1, 'stbale': 4, 'venotomi': 7, 'lymphocyt': 9, 'perisplen': 4, 'cholecysti': 1, 'dlp': 15, 'shrunken': 4, 'mgi': 15, 'paravertebr': 3, 'ath': 1, 'comminut': 8, 'commnand': 2, 'cga': 9, 'apeci': 2, 'clindaycin': 1, 'avss': 4, 'coupiou': 2, 'secreiton': 1, 'respn': 1, 'pneumthorax': 2, 'interphalang': 1, 'sersanguin': 1, 'emphyema': 1, 'clind': 1, 'patinet': 4, 'tool': 1, 'nonfenestr': 1, 'island': 7, 'softwrist': 1, 'periar': 1, 'wriet': 1, 'lasx': 1, 'knownor': 1, 'comod': 1, 'acoupl': 1, 'downsiz': 5, 'paitent': 5, 'secrertt': 1, 'donw': 1, 'shuffl': 1, 'backach': 3, 'thikc': 2, 'subseq': 1, 'antiretrovir': 2, 'aaaaawait': 1, 'apin': 3, 'nauseou': 4, 'placemnt': 2, 'exacerbaion': 1, 'accep': 1, 'vaco': 2, 'solat': 1, 'sabl': 1, 'atelectact': 1, 'synch': 4, 'becaom': 2, 'tychypn': 1, 'sppech': 3, 'ontrach': 1, 'manuev': 1, 'frequentstrong': 1, 'doubleguard': 5, 'hemecult': 1, 'craet': 1, 'mob': 2, 'cuffless': 5, 'tast': 1, 'rpiv': 2, 'synchroni': 3, 'mediat': 6, 'bedisd': 1, 'tepid': 3, 'afebil': 5, 'brew': 3, 'nystain': 1, 'legibl': 3, 'ur': 1, 'lipim': 1, 'isolat': 1, 'sutol': 1, 'adlib': 1, 'hcyt': 1, 'rpicc': 2, 'tacycard': 1, 'cf': 4, 'bottock': 1, 'dischrg': 1, 'signigic': 1, 'dysphasia': 4, 'nitrotab': 1, 'vx': 4, 'cardial': 1, 'krohn': 1, 'indiscret': 2, 'expos': 7, 'copn': 1, 'approrpi': 1, 'mediastinosccopi': 1, 'pluggin': 1, 'uprigh': 1, 'wich': 2, 'retrocardi': 2, 'transferrd': 1, 'multcn': 1, 'dysarthr': 3, 'ovoid': 3, 'earlili': 1, 'invent': 1, 'ceftazdim': 1, 'south': 3, 'encas': 8, 'emphysemia': 1, 'costal': 5, 'aebc': 2, 'hindfoot': 1, 'calcaneu': 1, 'malleolar': 1, 'angul': 7, 'plafond': 1, 'uren': 1, 'fibula': 4, 'oxicodon': 2, 'trimalleolar': 1, 'callus': 1, 'fibular': 2, 'fragment': 9, 'charcot': 2, 'neuropath': 4, 'talar': 1, 'adjoin': 1, 'varu': 1, 'dilodid': 2, 'malleolu': 1, 'bimalleolar': 1, 'disrupt': 4, 'wolfram': 2, 'optic': 1, 'requiremnt': 1, 'wolfran': 2, 'ulrasound': 1, 'nonhemorrhag': 17, 'vag': 2, 'fishi': 1, 'yello': 3, 'prog': 4, 'oximet': 2, 'titat': 1, 'lbbb': 10, 'incidnet': 1, 'distned': 1, 'lop': 2, 'retim': 1, 'stnet': 1, 'becuas': 2, 'midstern': 5, 'emoli': 1, 'vacular': 2, 'assymptomat': 2, 'sod': 1, 'respoit': 1, 'maintenac': 1, 'mediastium': 1, 'microabras': 1, 'readmiss': 6, 'difficultli': 3, 'cortison': 2, 'proscar': 1, 'deped': 2, 'captopr': 2, 'coocx': 1, 'seriel': 4, 'sxp': 1, 'statusa': 1, 'thankgiv': 1, '^cri': 1, 'mstemi': 1, 'silli': 1, 'gramstain': 1, 'tangenti': 1, 'srx': 1, 'unmeasur': 1, 'mdnoc': 2, 'substern': 7, 'mptb': 6, 'avgraft': 1, 'niifedipin': 1, 'matur': 4, 'hydroxysin': 1, 'sevelamir': 3, 'amox': 2, 'vanocmycin': 2, 'glomerular': 2, 'nifedipin': 15, 'hematemesi': 5, 'crossmathc': 1, 'losdartan': 1, 'bactrimm': 1, 'melanot': 5, 'clavulan': 2, 'mrv': 2, 'convent': 9, 'heav': 12, 'prescribt': 1, 'graph': 2, 'plz': 3, 'crossmatch': 5, 'polit': 2, 'quaic': 1, 'righ': 2, 'zpak': 2, 'rbb': 1, 'hyperthermia': 42, 'sarcoid': 8, 'cozaar': 3, 'bracheocephal': 2, 'contineu': 2, 'tmp': 13, 'pruritu': 4, 'episodex': 1, 'nifedepin': 1, 'binder': 7, 'crampo': 1, 'smx': 13, 'xerofoam': 1, 'phleb': 1, 'notif': 9, 'reoccurr': 2, 'diverticulti': 1, 'maroon': 7, 'clump': 1, 'diveriticul': 1, 'colonscopi': 2, 'prepe': 1, 'paxil': 9, 'fortaz': 2, 'agbg': 1, 'morpin': 4, 'pendinf': 1, 'aabg': 1, 'magmt': 1, 'pharm': 8, 'modal': 3, 'overexpand': 1, 'confim': 1, 'whe': 3, 'lidcain': 1, 'intolerac': 1, 'conditoin': 1, 'lfa': 3, 'inpast': 1, 'sution': 2, 'colitisrequir': 1, 'ren': 1, 'luq': 8, 'inhail': 2, 'azitinem': 1, 'rrad': 1, 'papsp': 1, 'lobectomyand': 1, 'prece': 1, 'blod': 5, 'deepbreath': 1, 'dur': 4, 'inncid': 1, 'availabilti': 1, 'slighti': 3, 'psuedmona': 1, 'hyperglycem': 13, 'dribbl': 1, 'tiopropium': 1, 'zyvox': 2, 'porgress': 1, 'adheas': 1, 'klonipin': 3, 'chnged': 1, 'appitit': 9, 'norom': 1, 'remiand': 1, 'breathig': 1, 'physicv': 1, 'extrimitit': 1, 'hyperglycamia': 1, 'tackycard': 1, 'illoestomi': 1, 'linein': 1, 'rant': 3, 'lumin': 3, 'psuedamonu': 1, 'exersic': 1, 'breathin': 2, 'olac': 2, 'anticholinerg': 3, 'hyperluc': 6, 'guiafenesin': 5, 'tipotropium': 1, 'antibioticss': 1, 'sweater': 2, 'peudamona': 1, 'panicki': 2, 'kexel': 1, 'leveqiun': 1, 'lquid': 2, 'cahir': 2, 'revieew': 1, 'eventhough': 1, 'pipe': 2, 'amikacin': 9, 'sulphat': 3, 'reuir': 1, 'lbrach': 1, 'milder': 5, 'oncontact': 1, 'iliostomybag': 1, 'unrin': 1, 'ressect': 1, 'tiger': 1, 'duaderm': 2, 'ocean': 1, 'pseudamonsa': 1, 'antibioticd': 1, 'flatuat': 1, 'blown': 1, 'chset': 1, 'makept': 1, 'serv': 6, 'throbe': 1, 'illeostomi': 2, 'lforearm': 1, 'metoprol': 3, 'paliat': 1, 'howvev': 1, 'hyperkalem': 5, 'tbili': 13, 'obstain': 1, 'dysautonomia': 2, 'melanoma': 7, 'catalogu': 1, 'adenoca': 5, 'graduat': 2, 'finasterid': 2, 'doublecoverag': 1, 'amoxicillin': 8, 'hcap': 38, 'cholangio': 2, 'legion': 1, 'lbp': 5, 'cholangioca': 1, 'lexapro': 8, 'orif': 12, 'interior': 1, 'successu': 1, 'chic': 1, 'refresh': 1, 'radiographi': 5, 'ioversol': 1, 'enterocutan': 2, 'tugor': 2, 'amiodipin': 2, 'antiparkinson': 2, 'endpoint': 2, 'dex': 4, 'bliari': 1, 'olecranan': 1, 'hida': 5, 'misattach': 2, 'reigmen': 1, 'wallpap': 1, 'pelv': 3, 'receivl': 1, 'ronchor': 16, 'azotemia': 9, 'fistuologram': 1, 'nutrion': 2, 'laproscop': 1, 'excrori': 1, 'taker': 1, 'dyskinet': 2, 'castleman': 1, \"piv'\": 8, 'piviot': 2, 'unicentr': 1, 'ercp': 10, 'elast': 2, 'fistul': 3, 'primidon': 4, 'choledocholithiasi': 4, 'ment': 2, 'optimum': 1, 'poi': 1, 'pec': 1, 'transcutan': 3, 'respirophas': 1, 'csurg': 6, 'laxiti': 3, 'turner': 1, 'shield': 1, 'nv': 3, 'instraspin': 1, 'visipaqu': 5, 'wak': 1, 'aortobi': 1, 'spinou': 2, 'cerebellum': 6, 'erod': 5, 'percept': 1, 'invad': 7, 'paraesophag': 7, 'aspergillu': 11, 'lunc': 1, 'brainstem': 2, 'pet': 17, 'destroy': 3, 'encroach': 3, 'imping': 9, 'uncovertebr': 3, 'intraoss': 2, 'avid': 9, 'pneumonectomi': 5, 'downt': 2, 'hematuirc': 1, 'initial': 1, 'cannul': 5, 'abssent': 1, 'bronchorrhea': 1, 'openingli': 1, 'respirtori': 4, 'nebsq': 1, 'sedtaion': 1, 'ywlloe': 1, 'agian': 3, 'betwwen': 1, 'veceronium': 2, 'sctlc': 1, 'risisng': 1, 'corsintropin': 1, 'papain': 1, 'vodka': 5, 'nosocomi': 15, 'sliip': 1, 'clipboard': 4, 'databas': 2, 'wiothout': 1, 'stack': 2, 'satisafcatori': 1, 'scarum': 1, 'efeect': 1, 'prozac': 6, 'hypotent': 7, 'slighli': 5, 'sba': 1, 'agitata': 1, 'soflti': 4, 'reviw': 2, 'memeori': 1, 'butt': 5, 'realt': 2, 'lithiumm': 1, 'slid': 2, 'unclog': 1, 'afeebril': 1, 'continuu': 1, \"cont'd\": 1, 'operta': 1, 'therfeor': 1, 'inpuls': 1, 'wavsform': 1, 'necklac': 2, 'therapistin': 1, 'detial': 3, 'edemed': 1, 'reexpand': 2, 'guaz': 3, 'sleav': 2, 'neostigman': 1, 'el': 2, 'imepenim': 1, 'contit': 1, 'micxumi': 1, 'daptomycin': 2, 'guardianship': 5, 'phrase': 7, 'uterin': 5, 'church': 2, 'vegit': 6, 'dolasetron': 1, 'strptomycin': 1, 'suppert': 1, 'afrebril': 2, 'treach': 1, 'agatroban': 1, 'trcheotomi': 1, 'subpoena': 1, 'propos': 4, 'sickl': 1, 'diuris': 4, 'interac': 1, 'sectreion': 1, 'improvementtv': 1, 'dermoid': 1, 'arteriogram': 3, 'shifwt': 1, 'na^^': 1, 'whithin': 1, 'prcedur': 1, 'serosangin': 3, 'drning': 1, 'tnick': 1, 'pleuroparenchym': 4, 'urs': 1, 'prr': 1, 'cecum': 8, 'apprpriat': 1, 'allevi': 12, 'coagulopath': 3, 'haematuria': 2, 'antiemet': 4, 'cure': 2, 'digest': 2, 'tolaret': 1, 'encrust': 1, 'inermit': 1, 'myelodysplast': 2, 'gancyclovir': 3, 'imipenam': 1, 'discrep': 6, 'trait': 3, 'daughetr': 1, 'blank': 2, 'streptomycin': 1, 'decreasedin': 1, 'gender': 3, 'custodi': 3, 'ndari': 1, 'ambisom': 2, 'ramain': 1, 'mdo': 1, 'cortistim': 1, 'collectio': 2, 'allerig': 2, 'spile': 1, 'lsw': 1, 'swing': 6, 'delasetron': 1, 'theori': 3, 'lbmx': 2, 'mtb': 3, 'pyrazanamid': 1, 'rip': 3, 'mcl': 1, 'portclip': 3, 'reimag': 7, 'softer': 8, 'weamn': 1, 'recc': 10, 'isoniazid': 2, 'tel': 1, 'becan': 1, 'imepenum': 1, 'brighter': 3, 'declar': 2, 'raeb': 1, 'ladder': 1, 'unconsci': 1, 'perrlaa': 1, 'paid': 2, 'rapport': 7, \"'scvp\": 1, 'sponten': 3, 'clsose': 1, 'ethambutol': 1, 'pltl': 1, 'magazin': 3, 'uss': 1, 'anzimetx': 1, 'respiartori': 1, 'physiotherapi': 3, 'matreess': 1, 'prresent': 1, 'scretion': 1, 'plumonari': 1, 'srat': 1, 'spkie': 2, 'routinc': 1, 'anzement': 1, 'erali': 1, 'movemnt': 1, 'clott': 1, 'communic': 1, 'tylenolx': 1, 'abrasionx': 1, 'rhonchiou': 2, 'vicari': 3, 'usction': 1, 'lishen': 1, 'echoli': 1, 'dampn': 1, 'weam': 1, 'espeic': 2, 'represn': 1, 'trede': 3, 'meant': 3, 'hemisper': 1, 'anzamet': 1, 'chalki': 1, 'benedryl': 4, 'regurgat': 1, 'tahypn': 1, 'rojm': 1, 'succinctli': 1, 'perisist': 2, 'upprt': 2, 'emet': 1, 'watersh': 3, 'relet': 1, 'decend': 2, 'opinion': 7, 'alongsid': 10, 'circuit': 7, 'thkish': 2, 'commnec': 1, 'rifampin': 6, 'conjuct': 2, 'uffp': 2, 'vomitu': 2, 'overdiures': 2, 'diusesi': 1, 'erythro': 2, 'sag': 1, 'balacn': 2, 'cistatiacurium': 1, 'rotorest': 1, 'haslimit': 1, 'glden': 1, 'acidod': 2, 'sluggisli': 2, 'hyoactiv': 1, 'trasfus': 2, 'demarc': 4, 'coma': 4, 'depsit': 2, 'cisatraciriuum': 1, 'tign': 1, 'deffer': 5, 'resond': 3, 'unopen': 2, 'mang': 3, 'midesophagu': 1, 'cist': 1, 'nursng': 1, 'triadyn': 7, 'tomorrrow': 2, 'pronat': 3, 'blanc': 2, 'adminis': 1, 'mojor': 1, 'mehtadon': 1, 'iniatilli': 1, 'periorbit': 4, 'luung': 1, 'refex': 1, 'medciat': 2, 'socialwork': 2, 'concult': 1, 'hypocapnea': 1, 'transderm': 2, 'puil': 2, 'inhlaer': 1, 'pentobarbitol': 1, 'wi': 4, 'humulin': 5, 'hypergycem': 1, 'dop': 10, 'speciment': 1, 'uurs': 1, 'hyperoxia': 2, 'periorbi': 1, 'throughouth': 1, 'tronchoscopi': 1, 'maitian': 1, 'combo': 4, 'getout': 1, 'klonapin': 2, 'paral': 1, 'suporrt': 1, 'supplemet': 1, 'malasia': 2, 'notenurs': 1, 'riedel': 1, 'antibiotic': 1, 'cisatracurium': 2, 'morphein': 1, 'mainatinig': 1, 'dopov': 1, 'expwhe': 1, 'proprofol': 3, 'consistentwith': 1, 'audubl': 1, 'kink': 7, 'pharmacuet': 1, 'betetr': 1, 'peed': 1, 'andtherefor': 1, 'popit': 2, 'unrais': 1, 'pharmacist': 5, 'urien': 2, 'wdi': 6, 'nsicu': 1, 'amoount': 2, 'regland': 1, 'displeas': 1, 'redsid': 1, 'witn': 1, 'ivl': 2, 'nlargement': 1, 'solv': 3, 'bilaer': 1, 'bmp': 1, 'apen': 4, 'anpea': 1, 'emeg': 1, 'retun': 1, 'progr': 3, 'multiposu': 1, 'superad': 1, 'essent': 2, 'mosltli': 1, 'resov': 2, 'venil': 1, 'unitl': 3, 'slep': 1, 'eupport': 1, 'uncov': 3, 'omg': 1, 'clasp': 1, 'uncomforatbl': 1, 'attmpt': 3, 'belief': 1, 'sadd': 1, 'ureg': 1, 'incresinng': 1, 'auscultaion': 1, 'slightest': 2, 'musculatur': 6, 'bot': 2, 'refferr': 2, 'pali': 2, 'trueli': 1, '^^hr': 2, 'fgiven': 1, 'offabx': 1, 'fowl': 2, 'pancx': 4, 'mind': 10, 'ba': 17, 'grimi': 1, 'hro': 1, 'religi': 1, 'pnumo': 1, 'discomfor': 1, 'evem': 1, 'devid': 1, \"ambu'\": 2, 'braclet': 1, 'lest': 1, 'fellto': 1, 'sercet': 1, 'sputim': 1, '^hr': 3, 'sort': 8, 'hypotensv': 1, 'dioppler': 1, 'tcdp': 5, 'mmove': 1, 'dtiff': 1, 'ite': 1, 'comgeal': 1, 'opsit': 2, 'z': 4, '^na': 1, 'linesit': 1, 'frustrarion': 1, 'sart': 2, 'residul': 2, 'faili': 2, 'oppinion': 1, 'lenghti': 1, 'intervascular': 1, 'repleatd': 1, 'anlkl': 1, 'recess': 5, 'multiposi': 2, 'cholang': 7, 'dnuero': 1, 'futil': 3, 'abf': 1, 'conclud': 5, 'abdom': 2, 'fluc': 8, 'contct': 1, 'vomitig': 1, 'diminih': 2, 'coough': 1, 'inadvertantli': 1, 'nasaal': 1, 'voucher': 2, 'inadvertenti': 1, 'cab': 4, 'prescript': 9, 'commsnd': 1, 'plummet': 1, 'boredom': 1, 'mentaton': 1, 'lasisx': 1, 'awarenss': 1, 'otherw': 1, 'dispens': 4, 'smmhg': 1, 'xplant': 1, 'pravastat': 1, 'seroquil': 4, 'transpos': 1, 'normoglycemia': 1, 'decerebr': 1, 'betalactam': 1, 'funciton': 1, 'ganglia': 10, 'andvanc': 1, 'dextro': 1, 'exept': 2, 'nightsweat': 3, 'lengthen': 4, 'edentul': 11, 'bronchomalacia': 5, 'vf': 1, 'tn': 6, 'videofluoroscop': 8, 'upstrok': 6, 'restat': 1, 'russia': 1, 'seroqul': 1, 'fumar': 5, 'vfa': 1, 'spew': 1, 'angin': 4, 'resovlv': 1, 'chd': 1, 'eosinophilia': 12, 'brochospasm': 1, 'levit': 1, 'da': 5, 'cariac': 1, 'auth': 1, 'faiulr': 6, 'pyriform': 9, 'purposefuli': 1, 'cadaver': 1, 'icteru': 29, 'closley': 2, 'mycophenol': 4, 'tacrol': 1, 'endocrinologist': 2, 'fexofenidin': 1, 'ulyt': 4, 'unintent': 1, 'gej': 1, 'ketoacidosi': 1, 'lactam': 4, 'cyclic': 2, 'velar': 3, 'viedo': 1, 'immigr': 1, 'sysotl': 2, 'ppft': 4, 'nitrofurantoin': 6, 'diabetesi': 1, 'intravascularli': 14, 'qmi': 1, 'ivpwith': 1, 'waev': 2, 'camb': 1, 'vronch': 1, 'chol': 4, 'ridg': 3, 'lood': 2, 'intubati': 1, 'precert': 1, 'persantin': 3, 'haltol': 1, 'toiltet': 3, 'wma': 6, 'stanc': 2, 'unsign': 1, 'biomark': 9, 'dyskinesi': 2, 'ldl': 2, 'model': 9, 'begn': 1, 'goc': 6, 'awail': 1, 'requiringhd': 1, \"i'li\": 1, 'inord': 2, 'song': 1, 'df': 13, 'unretract': 1, 'cce': 1, 'poem': 1, 'ideat': 5, 'bumetanid': 2, 'poetri': 1, 'subcot': 1, 'quot': 2, 'clonzapam': 1, 'crtx': 1, 'acur': 2, 'immunesuppress': 2, 'click': 2, 'hdl': 3, 'mofetil': 3, 'fluvoxamin': 1, 'uppermost': 3, 'cryoptherapi': 1, 'osmot': 2, 'fahrenheit': 1, 'prednisom': 1, 'mmf': 4, 'represent': 2, 'continun': 1, 'enalopril': 2, 'commit': 5, 'leukokcytosi': 1, 'accommod': 2, 'vfib': 4, 'xyphoid': 2, 'girmmac': 1, 'pmibi': 2, 'srh': 4, 'gut': 10, 'pravastatin': 7, 'whcih': 2, 'converstaion': 1, 'rrom': 1, 'advisor': 3, 'delusion': 2, 'lobbi': 2, 'behavoir': 2, 'whee': 1, 'bourbon': 1, 'escort': 3, 'ventricuilar': 1, 'aros': 1, 'caythet': 1, 'aval': 2, 'albtuerol': 2, 'comfirm': 2, 'diffaculti': 1, 'disect': 2, 'gaurd': 4, 'defiecit': 1, 'vioxx': 1, 'pleasw': 1, 'roof': 3, 'agil': 1, 'suctioningx': 1, 'aodm': 2, 'chunk': 2, 'manor': 2, 'floswsheet': 1, 'baqth': 1, 'diarreah': 1, 'biatrial': 3, 'maintian': 5, 'appetiet': 1, 'perpipher': 2, 'nasasl': 1, 'accordf': 1, 'memeb': 1, 'pleuric': 1, 'bouls': 1, 'awel': 1, 'residua': 5, 'accquir': 1, 'cbp': 4, 'allen': 1, 'whenn': 1, 'lymphangit': 7, 'probuct': 1, 'occcasion': 1, 'yaunk': 1, 'foloow': 3, \"mov't\": 1, 'coorel': 2, 'wnt': 1, 'origion': 1, 'rescussit': 2, 'ahen': 1, 'furhter': 4, 'negit': 2, 'sistend': 1, 'aspleen': 1, 'nine': 7, \"pe'\": 2, 'deseas': 1, 'interup': 5, 'conferm': 1, 'replecmenbt': 1, 'park': 6, 'arousabel': 1, 'anwser': 1, 'elevet': 2, 'cavogram': 1, 'fructur': 1, 'hipoxia': 1, 'effuis': 1, 'ensym': 1, 'tarnsfr': 1, 'retin': 1, 'hypertent': 1, 'vte': 6, 'hcit': 1, 'gingeral': 5, 'tylenlol': 1, 'portocath': 2, 'nfb': 4, 'penidng': 2, 'tolerat': 1, 'nactiv': 1, 'psychot': 7, 'combi': 2, 'portacath': 11, 'wqith': 3, 'quarter': 8, 'dateto': 1, 'atert': 1, 'cocyyx': 1, 'aoung': 1, 'atrest': 1, 'million': 4, 'oar': 1, 'stiil': 1, 'sex': 1, 'wavew': 1, 'approprait': 1, 'penicllan': 1, 'auscalt': 1, 'ocassioan': 1, 'substitut': 4, 'surrent': 1, 'backupset': 1, 'buttuck': 4, 'deepen': 1, 'isod': 1, 'lisw': 4, 'generalis': 2, 'coaars': 1, 'experenc': 1, 'bolos': 1, 'pasti': 4, 'perip': 2, 'wg': 2, 'lmp': 3, 'currenltli': 1, 'vet': 2, 'valastran': 1, 'sctl': 2, 'softlt': 1, 'hich': 1, 'readminist': 1, 'thinnet': 1, 'hypervolem': 8, 'seroussang': 1, '^ing': 1, 'hey': 1, 'creap': 1, 'shampoo': 1, 'pne': 1, 'streptococc': 1, 'ral': 1, 'microgram': 1, 'quaniti': 2, 'magsulf': 1, 'bicuspid': 2, 'cvc': 9, 'asbp': 1, 'counsel': 6, 'mineralocorticoid': 1, 'gg': 7, 'hydrocodon': 10, 'ribavarin': 1, 'possibiliy': 1, 'polycythemia': 3, 'fludrocortison': 3, 'galactomannan': 17, 'betaglucan': 1, 'interferon': 3, 'galactomanan': 4, 'decomepns': 1, 'methyprednison': 3, 'mone': 1, 'suboccipit': 1, 'cortef': 2, 'initilli': 1, 'assertain': 1, 'pupl': 3, 'malform': 2, 'mastoidectomi': 1, 'ciger': 1, 'pica': 2, 'discribt': 1, 'crave': 1, \"did't\": 1, 'diaprosi': 1, 'strictur': 14, 'chicken': 2, 'unaffect': 2, 'lfluid': 1, 'jejunocutan': 1, 'noodl': 2, 'oesophag': 1, 'ogd': 1, 'bagun': 1, 'comfrtabl': 1, 'opr': 1, 'sobclin': 1, 'multivessel': 7, 'subtherapi': 1, 'quesiton': 3, 'ygd': 7, 'rulobectomi': 1, 'minit': 1, 'gassi': 4, 'imitrex': 2, 'agb': 1, 'initrex': 1, 'gvn': 1, 'whith': 2, 'seroid': 1, 'lev': 1, 'vegetarian': 4, 'nectrar': 1, 'anxioud': 1, 'ahv': 2, 'jovial': 1, 'trazedon': 3, 'dypneic': 1, 'mgiv': 2, 'awaitng': 4, 'quanit': 1, 'minmal': 3, 'floxacin': 1, 'sulpha': 1, 'evernt': 1, 'gand': 1, 'hyperplasia': 1, 'lighthead': 4, 'uninterpret': 6, 'afternooon': 2, 'aorticopulmonari': 2, 'inspit': 4, 'grill': 2, 'inn': 2, 'icreas': 3, 'tenant': 1, 'monitoirng': 1, 'difficalti': 1, 'azythromacyn': 1, 'shelter': 5, 'homeless': 9, 'wbat': 1, 'perocet': 2, 'slighltli': 2, 'diclox': 1, 'limitedli': 1, 'tka': 1, 'cacarb': 1, 'sleap': 1, 'lossess': 1, 'acetominophen': 2, 'procidex': 1, 'prednsion': 2, 'lcpc': 18, 'supress': 6, 'extran': 1, 'agter': 2, 'simva': 3, 'lebatalol': 1, 'adequetli': 1, 'search': 5, 'avt': 1, 'rw': 8, 'therex': 10, 'bland': 4, 'prochlorperazin': 8, 'iprotrop': 1, 'facemast': 1, 'wegner': 3, 'reinstitut': 3, 'chiropractor': 1, 'vitd': 4, 'rhonki': 2, 'predic': 1, 'achi': 3, 'multicfoc': 1, 'nafcillin': 6, 'repsiratori': 4, 'cryoglobulin': 3, 'rimantidin': 2, 'lume': 1, 'desaturadt': 1, 'dialudid': 3, 'showscrackl': 1, 'degrees': 1, 'vasculit': 2, 'criticaid': 14, 'recevd': 1, 'artifactu': 7, 'hrc': 3, 'dissynchroni': 1, 'appred': 1, 'holosyst': 3, 'yesteday': 3, 'concomit': 9, 'ingli': 1, 'dah': 11, 'precari': 1, 'hemmorrhag': 2, 'nafcilin': 1, 'cyanocobalamin': 6, 'hemmorhag': 5, 'blade': 2, 'pach': 1, 'anticp': 3, 'amlodapin': 1, 'imprrov': 1, 'endometriosi': 2, 'capillar': 1, 'glucocorticoid': 2, 'vut': 1, 'improov': 4, 'hype': 1, 'compfort': 1, 'positit': 2, 'covera': 1, 'alv': 4, 'dvelop': 1, 'corel': 1, 'bivalv': 2, 'coumidin': 1, 'avellyn': 1, 'alevyn': 3, 'pharyg': 1, 'mexiliten': 1, 'calendar': 2, 'cond': 4, 'nurisng': 3, 'origress': 1, 'orienterd': 1, 'gat': 1, 'ivfluid': 1, 'class': 3, 'mostlli': 1, 'benifit': 1, 'parang': 1, 'glutteal': 1, 'coocyx': 4, 'intubationl': 1, 'nyha': 1, 'nno': 1, 'meticulu': 1, 'shaunessi': 1, 'addl': 5, 'supersel': 1, 'balkan': 1, 'midport': 1, 'intraren': 5, 'palpatori': 1, 'embo': 1, 'stc': 1, 'transcend': 1, 'microcoil': 1, 'renegad': 1, 'hyperenhanc': 3, 'arteriotomi': 1, 'microcathet': 2, 'cobra': 4, 'slurri': 1, 'microwir': 1, 'upsiz': 6, 'trv': 4, 'visapaqu': 2, 'pseudoanuerysm': 1, 'trancathet': 1, 'striat': 1, 'blodd': 1, 'stqrt': 1, 'obeyi': 1, 'staart': 1, 'coinsid': 2, 'naseltrachea': 1, 'bowwel': 1, 'progrewss': 1, 'expidit': 1, 'whren': 1, 'abfas': 1, 'slugish': 2, 'pphlegm': 1, 'commannd': 1, 'restrian': 1, 'circ': 3, 'meqkcl': 2, 'toleratin': 1, 'phosphor': 6, 'feedw': 1, 'diissoriiennt': 1, 'encouraag': 2, 'weakeer': 1, 'metroprolol': 6, 'hgealth': 1, 'ppt': 2, 'turrn': 1, 'lomotil': 2, 'yankeuur': 1, 'promoot': 1, 'pleurisi': 4, 'war': 3, 'bendamustin': 1, 'enhancemnt': 1, 'multicent': 1, 'refractori': 10, 'zevalin': 1, 'infraclavicular': 2, 'hyptens': 1, 'igg': 10, 'ppossibl': 1, 'loperamind': 1, 'pericolon': 1, 'orthostasi': 3, 'xenopi': 1, 'antibioc': 1, 'msir': 2, 'spectrim': 1, 'qweek': 2, 'drinker': 5, 'rituximab': 1, 'thrive': 4, 'mitoxantron': 1, 'sidewal': 3, 'follicular': 1, 'pentamadin': 1, 'qmonth': 1, 'proctiti': 3, 'megestrol': 4, 'ctabd': 1, 'hcd': 1, 'pleuriti': 1, 'chemotherapeut': 2, 'transform': 7, 'fludarabin': 1, 'malodor': 2, 'enrol': 1, 'chop': 4, 'lymphedema': 1, 'penu': 1, 'anterolisthesi': 12, 'queri': 11, 'pinu': 1, 'tattoo': 2, 'chilaid': 1, 'fibrou': 3, 'interposit': 6, 'ventr': 1, 'pnbt': 2, 'becomc': 1, 'omf': 2, 'mepiplex': 4, 'gnawl': 1, 'peal': 1, 'prox': 3, 'rove': 2, 'grind': 3, 'impli': 3, 'speciman': 2, 'glucogon': 3, 'decubetu': 1, 'junct': 1, 'holler': 1, 'exxerct': 1, 'wegd': 1, 'phenegran': 1, 'lct': 2, 'hemidiaphragmat': 7, 'inp': 2, 'omni': 4, 'tylonol': 2, 'killer': 1, 'protrus': 5, 'lsctab': 3, 'hyperelev': 1, 'nut': 2, 'suprabas': 3, 'odour': 1, 'nsc': 1, 'tolerart': 1, 'pulonari': 4, 'tension': 9, 'thorencentesi': 1, 'enabl': 9, 'mgoxid': 1, 'twist': 2, 'klitchen': 1, 'polymorph': 1, 'dexamethison': 1, 'vacol': 1, 'guardain': 1, 'continuy': 1, 'sponan': 1, 'normothermia': 1, 'interog': 2, 'compensart': 1, 'liguid': 4, 'eveal': 1, 'zoysn': 5, 'avp': 2, 'muxhroom': 1, 'reprep': 1, 'erceiv': 1, 'positio': 1, 'effectand': 1, 'cdif': 7, 'taperd': 1, 'prenison': 1, 'hiccup': 3, 'grochong': 1, 'incraes': 1, 'zyprea': 2, 'capoten': 1, 'nurten': 1, 'bpcuff': 1, 'defervec': 1, 'quanitifi': 1, 'overninght': 1, 'dilerium': 1, 'fuse': 5, 'extrub': 1, 'avpac': 1, 'mnimal': 1, 'wsa': 1, 'esmolo': 1, 'esay': 1, 'spotan': 4, 'psycot': 2, 'fixationg': 1, 'lrad': 1, 'correctiom': 1, 'chatter': 1, 'qac': 2, 'blankli': 1, 'reposist': 1, 'portibl': 1, 'voiec': 1, \"bolus'\": 1, 'defilitid': 1, 'resplet': 1, 'multipli': 2, 'defitilid': 1, 'movt': 9, 'infilr': 1, 'rforearm': 1, 'sponatan': 1, 'buttox': 2, 'requiri': 2, '^respons': 1, 'hic': 1, 'rambl': 2, 'addendun': 1, 'voriconazol': 4, 'oversea': 2, 'persent': 1, 'monitorfor': 1, 'awe': 1, 'quiver': 1, 'unccop': 1, 'mfpvc': 1, 'grim': 2, 'disoreint': 1, 'offend': 6, 'wakeup': 9, 'cove': 3, 'forev': 1, 'orientx': 1, 'storm': 1, 'dialat': 5, 'multiform': 5, 'visualis': 2, 'bigemin': 3, 'porrel': 1, 'sogt': 1, 'hormon': 3, 'unsynchron': 1, 'thyroidtoxosi': 1, 'ver': 3, 'hop': 3, 'ril': 1, 'hemeodynam': 1, 'ventricularli': 2, 'understatand': 1, 'dantrolen': 1, 'nightshift': 1, 'bace': 1, 'glottic': 1, 'psycholog': 2, 'esmollol': 1, 'incoprehensibel': 1, 'guaicc': 1, 'weaken': 6, 'bari': 3, 'foer': 1, 'thyroidtoxicosi': 1, 'bond': 1, 'dysnchroni': 1, 'procudt': 1, 'impiar': 1, 'galrgin': 1, 'bolusn': 1, 'attept': 1, 'disynchronu': 1, 'aforment': 1, 'bll': 6, 'gardianship': 2, 'dofetilid': 3, 'itm': 1, '^amt': 2, 'thyrotoxosi': 1, 'sbp^': 1, 'bananna': 3, 'nioght': 1, 'mormimg': 1, 'coccyc': 2, 'thyrotoxicosi': 1, 'icepack': 1, 'bracheal': 1, 'detriment': 1, 'thyroplastym': 1, 'kayexol': 2, 'baselineand': 1, 'thyrombocytopenia': 1, 'tylenlo': 1, 'thyroidoxicosi': 1, 'extremeit': 1, 'omli': 1, 'tanninsh': 1, 'uterol': 1, 'inconisit': 1, 'irat': 1, 'resul': 2, 'cring': 1, 'vioe': 1, 'whisper': 2, 'interogat': 1, 'lime': 2, 'readmt': 1, 'rashi': 1, 'amioderon': 6, 'broach': 3, 'ibupropin': 1, 'furtur': 1, 'bruse': 3, 'boggi': 2, 'slind': 1, 'outlook': 3, 'gass': 2, 'stromg': 1, 'nummer': 1, 'steer': 1, 'altho': 1, 'dimenish': 1, 'infreq': 3, 'yearl': 1, 'fluoproscop': 1, 'apyrexi': 1, 'ordeer': 1, 'mandril': 1, 'penectomi': 1, 'increass': 2, \"cap'\": 1, 'bronchietasi': 2, 'humdifi': 1, 'tachyapn': 1, 'deriv': 8, 'athosclerot': 1, 'dmfj': 9, 'reachabl': 1, 'significnatli': 1, 'epsisod': 1, 'rochi': 1, 'tachyarrhythemia': 1, 'stori': 10, 'sulcruf': 1, 'chemoradiotherapi': 2, 'beg': 2, 'luceni': 1, 'sucralf': 10, 'kleenex': 1, 'midinsp': 1, 'mem': 1, 'unimpress': 7, 'xopen': 1, 'adeno': 9, 'nyastatin': 2, 'oat': 1, 'ectat': 6, 'unremarkalb': 1, 'abdomni': 1, 'emprir': 1, 'bronchiestasi': 1, 'vancomycina': 1, 'sdh': 12, 'fsq': 3, 'emphasi': 9, 'sucralaf': 3, 'methemoglobinem': 2, 'unmpress': 1, 'coph': 1, 'solumdedrol': 1, 'habit': 11, 'diltitazem': 1, 'skinfold': 1, 'levoconcav': 1, 'creram': 1, 'curvatur': 4, 'orderedsx': 1, 'addentum': 1, 'saccrum': 1, 'witg': 1, 'ausculat': 1, 'abraiooon': 1, 'cappillari': 1, 'vai': 1, 'pipracillin': 1, 'chack': 3, 'willfrequ': 1, 'wherr': 1, 'aspt': 1, 'scl': 6, 'nformat': 1, 'attemtp': 3, 'albuterolq': 1, 'visciou': 3, 'bilter': 2, 'sucit': 1, 'ewn': 1, 'rtr': 1, 'tryiong': 1, 'scapolamin': 1, 'asprat': 1, 'actic': 1, 'pupport': 1, 'path': 13, 'extriem': 1, 'scolapamin': 1, 'impov': 3, 'mond': 2, 'scopalimin': 4, 'creeatinin': 1, 'airay': 1, 'witwh': 1, 'coares': 1, 'scop': 1, 'aalevyn': 1, 'isopa': 1, 'norva': 1, 'taccycardia': 1, 'rsba': 1, 'meuromuscular': 1, 'buttck': 1, 'encorag': 1, 'allvyn': 1, 'upperextrim': 1, 'linizolid': 1, 'diffcult': 1, 'unersid': 1, 'monitior': 4, 'sinusitu': 1, 'unchag': 9, 'alkilosi': 1, 'phoc': 1, 'undgest': 1, 'svl': 1, 'maagnesium': 1, 'foolw': 1, 'restrait': 1, 'meteprolol': 1, 'chiar': 2, 'deuoderm': 1, 'whixh': 1, 'evrs': 1, 'envrion': 1, 'passion': 1, 'deci': 1, 'significat': 1, '^o': 1, 'diuril': 6, 'afibb': 1, 'buttiock': 1, 'pickat': 1, 'scoplamin': 1, 'specialti': 4, 'rezero': 1, 'antihtn': 4, 'remeain': 1, 'cousr': 1, 'recalibr': 3, 'careiew': 1, 'repit': 1, 'froom': 1, 'dne': 1, 'nutran': 1, 'suctionedd': 1, 'paion': 1, 'interventin': 1, 'pthad': 1, 'elav': 4, 'postcholecystectomi': 1, 'diliazem': 1, 'aloevesta': 5, 'cefitim': 1, 'uppon': 1, 'difficultyl': 1, 'difiiculti': 1, 'degress': 3, 'assessori': 1, 'asphagia': 1, 'distr': 3, 'unir': 1, 'levoquen': 1, 'tickl': 1, 'aggrev': 1, 'mainitain': 1, 'rlp': 1, 'fiv': 1, 'satrt': 2, 'stuck': 14, 'outbreak': 1, 'recoop': 1, 'comofort': 1, 'deg': 6, 'feend': 1, 'lorazapam': 6, 'curer': 1, 'concret': 1, 'movingg': 1, 'unablt': 2, 'flusi': 1, 'effert': 1, 'interspac': 4, 'mot': 1, 'plsnned': 1, 'bronchopulmonari': 6, 'banaa': 1, 'spiritu': 3, 'llllung': 1, 'nillson': 1, 'passmuir': 1, 'sputur': 1, \"did'nt\": 1, 'mea': 2, 'perinum': 1, 'collor': 1, 'bilaterr': 1, 'hospial': 1, 'haparin': 1, 'axieti': 3, 'ectopii': 1, 'dialsysi': 1, 'subsequnt': 1, 'goa': 1, 'dialyisi': 1, 'edemad': 1, 'ectpoy': 1, '^emot': 1, 'decidec': 1, 'ammount': 4, 'nea': 1, 'cvvhdf': 4, 'jejunostomi': 7, 'tibe': 1, 'occassin': 1, 'plac': 3, 'placedin': 2, 'perfer': 1, 'mcourtney': 1, 'flowshhet': 1, 'minitor': 2, 'maintanc': 3, 'sudsid': 1, '^act': 1, 'opium': 1, 'permacath': 1, 'ssci': 1, 'propafenon': 2, 'ovomit': 1, 'toiletri': 1, 'dto': 2, 'withtranspar': 1, 'acidiosi': 1, 'diarrh': 1, 'inserted': 1, 'crrt': 7, 'staight': 1, 'toleart': 1, 'bless': 1, 'tononc': 1, 'tolet': 1, 'dimidnsh': 1, 'assiss': 1, 'aslong': 1, 'trrach': 1, 'petamen': 1, 'trsch': 1, 'reassuanc': 1, 'deficiet': 2, 'cardiothorac': 6, 'liqiud': 2, 'oaao': 1, 'sucton': 1, 'mcgkgmin': 1, 'guiack': 1, 'smaill': 1, 'aletern': 1, 'straightcath': 1, 'decres': 7, 'quiton': 1, 'boast': 1, 'albimin': 1, 'thoraciuc': 1, 'weanec': 1, '^tf': 1, 'sponatn': 2, 'brea': 1, 'steristip': 1, 'extrememli': 3, 'dilaudud': 1, 'ischeam': 1, 'olanzpin': 1, 'ddto': 1, 'tinctur': 1, 'palpibl': 5, 'hypersomul': 1, 'stuf': 4, 'vitla': 1, 'plcaement': 1, 'brachialend': 1, 'trapez': 1, 'thik': 1, 'graviiti': 1, 'infusu': 1, 'mushi': 1, 'leisur': 1, 'refrig': 1, 'perscrib': 2, 'trxfer': 1, 'acebutolol': 1, \"'puff\": 1, 'fpr': 5, 'normotherm': 6, 'perocoet': 1, 'increase': 1, 'kiebasella': 1, 'pvr': 2, 'globabl': 1, 'sgl': 2, 'profunda': 1, 'tpt': 1, 'tma': 2, 'femori': 1, 'ptfe': 1, 'unheal': 1, 'bk': 3, 'seg': 4, 'amput': 4, 'nonheal': 2, 'asst': 2, 'au': 3, \"'nd\": 1, 'hemodyalysi': 1, 'morhpin': 3, 'thoraci': 2, 'awr': 1, 'metab': 1, 'subcutaneu': 1, 'dge': 1, 'singlesemi': 1, 'npt': 1, 'ukp': 1, 'ascrib': 2, 'hug': 1, 'corona': 1, 'radiata': 1, 'bolusu': 1, 'parafalcin': 1, 'interhemispher': 1, 'carevur': 1, 'retrocardiacli': 1, 'prviou': 1, 'shine': 1, 'nucleu': 3, 'restrin': 2, 'farsi': 3, 'fasi': 1, 'toleratig': 1, 'accu': 1, 'respiron': 1, 'road': 2, 'ea': 6, 'tampan': 1, 'mal': 3, 'usn': 1, 'shockfev': 1, 'cheeck': 1, 'phsical': 1, 'dieures': 1, 'plant': 3, 'progrss': 1, 'vare': 2, 'alkylosi': 5, 'pmin': 2, 'tug': 4, 'bloodsugar': 2, 'fer': 2, 'esophog': 5, 'tracheoesophag': 2, 'peristalt': 3, 'infraobliqu': 1, 'preseent': 1, 'pnumothorax': 2, 'tachyracdia': 1, 'retrostern': 2, 'sqllow': 1, 'meropenium': 2, 'ffrequent': 1, 'frer': 1, 'tremour': 1, 'yesterda': 2, 'humung': 1, 'prioir': 1, 'doea': 1, 'jibberish': 2, 'ragtim': 1, 'iposit': 1, 'antibioyc': 1, 'esophagoesophag': 1, 'promptli': 6, 'comaprison': 1, 'dystrophi': 1, 'pear': 2, 'levc': 1, 'dyphagia': 1, 'myoton': 1, 'inprov': 3, 'sandpap': 1, 'inreliev': 1, 'halo': 3, 'involuntarili': 1, 'breth': 2, 'oncal': 2, 'osteomeat': 1, 'copnsolid': 1, 'oxocodon': 1, 'fexis': 2, 'antilordot': 1, 'haustral': 1, 'plegia': 1, 'samal': 2, 'wosren': 1, 'curlix': 1, 'rat': 1, 'atrv': 1, 'razor': 2, 'inflt': 1, 'acha': 1, 'shrug': 2, 'haad': 1, 'tirtat': 1, 'fenantyl': 2, 'reation': 1, 'stooper': 1, 'bedid': 1, 'asess': 5, 'rescreend': 1, 'oprogrss': 1, 'possibilti': 3, 'phenylenphrin': 1, 'bode': 1, 'andat': 1, 'kinaid': 1, 'bronchiol': 14, 'mucamyst': 1, 'mediastern': 1, 'toth': 1, 'soical': 1, 'librium': 1, 'diconnect': 1, 'rese': 1, 'ctube': 3, 'inpout': 1, 'hyperacut': 1, 'spescif': 1, 'transbronchoscop': 1, 'focla': 1, 'wallsx': 1, 'patientno': 13, 'nonischem': 2, 'yestareday': 1, 'lactualos': 1, 'sweet': 2, 'strroid': 1, 'braos': 1, 'leuckocytosi': 2, 'icnreas': 1, 'decreasinbg': 1, 'ib': 6, 'sclca': 2, 'drainagedecreas': 1, 'hemoptosi': 1, 'sca': 1, 'pneuthorax': 1, 'sclc': 5, 'dta': 1, 'xday': 1, 'tampondad': 1, 'intiait': 1, 'pntx': 2, 'diaseas': 1, 'polic': 3, 'autodiruesi': 1, 'subsuuent': 1, 'imrpov': 2, 'xfer': 1, 'orag': 1, 'oth': 2, 'extremitiy': 2, 'freew': 1, 'scotch': 2, 'proven': 4, 'menig': 1, 'saccular': 1, 'fascit': 1, 'tricyc': 2, 'diazoxid': 1, 'circumcis': 2, 'willl': 5, 'appaear': 1, 'suprapatellar': 5, 'indinavir': 1, 'mandibular': 2, 'trigemin': 4, 'strap': 4, 'conu': 6, 'discogen': 1, 'heartburn': 6, 'scrrene': 1, 'coagulas': 6, 'tprot': 3, 'previousnot': 1, 'etcc': 1, 'bleb': 5, 'someh': 1, 'diarrheal': 1, 'dystroph': 4, 'heroin': 4, 'compound': 9, 'cahin': 1, 'cubit': 2, 'cholic': 1, 'gordona': 1, 'mlkb': 9, 'maroonish': 1, 'ritonavir': 5, 'indol': 3, 'hypopigment': 1, 'assymetri': 1, 'preliminarili': 4, 'genotyp': 4, '^st': 19, 'replic': 1, 'polypoid': 2, 'throu': 1, 'imporv': 5, 'forumulari': 1, 'hiatel': 2, 'sym': 5, 'eopgen': 1, 'questionn': 1, 'dbili': 3, 'visa': 2, 'assay': 11, 'undect': 1, 'thermal': 1, 'ileocec': 1, 'reconsid': 5, 'gif': 7, 'intermedi': 12, 'fianc': 6, 'stavudin': 2, 'retinpathi': 1, 'fasciiti': 2, 'interpolar': 11, 'anmd': 1, 'remaov': 1, 'lipodystrophi': 1, 'shouder': 1, 'weightbear': 1, 'entiti': 3, 'pathog': 1, 'ling': 1, 'activitu': 1, 'lamivudin': 5, 'lifespan': 1, 'althou': 1, 'spondylot': 2, 'retropuls': 8, 'abnl': 8, 'turbul': 1, 'gynecomastia': 4, 'changesd': 1, 'psuedoaneurysm': 1, 'tricycl': 1, 'hb': 10, 'scution': 3, 'masl': 1, 'adenoviru': 2, 'bllede': 1, 'equilibr': 2, 'startedc': 2, 'guerney': 1, 'intubaton': 2, 'mck': 4, 'tolwel': 1, 'grandgaught': 1, 'alkolot': 2, 'sust': 1, 'pplacement': 1, 'goalrateof': 1, 'eletroly': 1, 'vaso': 5, 'trachealmalasia': 1, 'acq': 1, 'telephonn': 1, 'secrtet': 1, 'tolerar': 1, 'ofobvi': 1, \"suxn'\": 1, \"movm't\": 1, 'uli': 1, 'methi': 1, 'grandgtr': 1, 'tracehostomi': 1, 'tunr': 1, 'expiratoy': 1, 'eletrolyt': 1, 'profofol': 2, 'rb': 2, 'hctand': 1, 'hemarroid': 1, 'aplast': 1, 'buck': 4, 'nursung': 1, 'chafen': 1, 'conton': 1, 'ressrp': 1, 'miracl': 1, 'opportun': 2, 'vulva': 1, 'granddtr': 1, 'mount': 3, 'desitin': 2, 'cariopulmonari': 1, 'closest': 1, 'recommedn': 2, 'corrol': 1, 'stg': 6, 'sirolimu': 1, 'fluctat': 1, 'interdepend': 2, 'fibromat': 1, 'hepatopathi': 3, 'groln': 1, 'cateth': 1, 'nifedipem': 1, 'sirolum': 1, 'qmowefr': 1, 'bidirect': 1, 'silhouette': 1, 'biplan': 1, 'epoetin': 3, 'nutmeg': 1, 'admissionon': 1, 'daugher': 3, 'gttt': 1, 'myositi': 2, 'nonishcem': 1, 'nupren': 2, 'lassix': 1, 'rdw': 6, 'succin': 3, 'zozyn': 6, 'zemplar': 1, 'retic': 12, 'fav': 1, 'caridogen': 1, 'pmb': 3, 'vitasl': 1, 'archiv': 2, 'csv': 2, 'clx': 9, 'auotdiures': 1, 'hazard': 2, 'immunocomprimis': 1, 'nidu': 4, 'alfa': 3, 'moraxella': 3, '^e': 1, 'tfor': 2, 'tracheostoni': 2, 'exsuffal': 1, 'asl': 2, 'apli': 2, 'diabeti': 2, 'smll': 1, 'popcycl': 1, 'impr': 1, 'cefedipin': 1, 'cathetr': 2, 'ddvap': 1, 'inexsuffl': 5, 'insuffal': 1, 'antib': 3, 'tkvo': 1, 'paln': 2, 'vale': 1, 'percussor': 1, 'suffol': 1, 'inspect': 8, 'popsicl': 2, 'gii': 1, 'upddat': 1, '^ed': 1, 'dilant': 1, 'freqenc': 1, 'fluccuat': 1, 'pot': 3, 'recievieng': 1, 'albeterol': 1, 'rehydr': 6, 'aerosl': 1, 'rc': 3, 'giav': 1, 'venapunctur': 1, 'pane': 3, 'fater': 1, 'genral': 1, 'extremetiew': 1, 'sphere': 1, 'cricopharyngeu': 1, 'protest': 1, 'stime': 1, 'autodiuresis': 1, 'detach': 4, 'pseudoseizur': 2, 'obt': 3, 'neget': 1, 'spaud': 1, 'smart': 1, 'puv': 1, 'calmli': 2, 'burp': 3, 'insul': 3, 'diuresisng': 3, 'tacki': 2, 'inex': 1, 'axia': 1, 'solidli': 1, 'syndom': 2, 'eleva': 3, 'stron': 1, 'titratd': 1, 'abotu': 1, 'coctail': 1, 'disappoint': 1, 'passmuy': 1, 'incred': 1, 'whezz': 2, 'ensuffolat': 1, 'mg^ed': 1, \"ok'\": 1, 'insuffil': 1, 'wasplac': 1, 'exsuffol': 1, 'american': 2, 'desmopresson': 1, 'stepfath': 1, 'drawback': 2, 'thrghoutht': 1, 'somtim': 1, 'dismiss': 1, 'ecotopi': 1, 'aspiratoin': 1, 'wofran': 1, 'pvl': 2, 'secretiosn': 2, 'guven': 1, 'glugocaon': 1, 'passeymu': 1, 'insipid': 1, 'suffil': 1, 'antibio': 2, 'mouthdisplay': 1, 'reload': 2, 'suffic': 1, 'sadden': 1, 'lunchtim': 4, 'ambung': 1, 'destatur': 1, 'multinodular': 2, 'extem': 5, 'rpotocol': 1, 'incas': 2, 'ivpush': 1, 'dangers': 1, 'acc': 3, 'varianc': 2, 'conuslt': 1, 'lnl': 1, 'soda': 2, 'healh': 1, 'steoroid': 2, 'sensic': 1, 'conglomer': 5, 'pancreasruq': 1, 'imagin': 4, 'requier': 4, 'ethanol': 5, 'nonengorg': 1, 'methicillin': 2, 'olh': 1, 'encoourag': 1, 'lliquid': 2, 'adequitli': 1, 'omlet': 1, 'flov': 1, 'parahilar': 2, 'hotel': 3, 'proplem': 1, 'drane': 1, 'sensor': 1, 'anwer': 1, 'clap': 3, 'everyon': 5, 'swithch': 1, 'glargen': 2, 'spech': 1, 'aspiratioin': 1, 'casu': 2, 'ducclox': 1, 'cess': 1, 'phenasept': 1, 'secreaton': 1, 'market': 1, 'yankhaur': 1, 'bronchiectat': 1, 'earach': 2, 'prurit': 3, 'tital': 3, 'increament': 1, 'lontgstand': 1, 'creatinint': 1, 'previoui': 1, 'enew': 1, 'placeon': 1, 'mechanci': 1, 'outdat': 4, 'ptcont': 1, 'intermitta': 1, 'sucstion': 1, 'seation': 3, 'excersis': 2, 'hemidiaphram': 2, 'newer': 4, 'foward': 1, 'smudg': 3, 'asist': 1, 'eefect': 1, 'toknow': 1, 'ltye': 2, 'otoscop': 1, 'admissison': 1, 'ambival': 1, 'oxazepam': 1, 'upperback': 1, 'lenghthi': 1, 'surgey': 1, 'intuba': 1, 'cephalexin': 9, 'aado': 1, 'insertedl': 1, 'myelo': 4, 'monohydr': 6, 'anguin': 1, 'polymyx': 2, \"'lhbi\": 1, 'xs': 4, \"'lcba\": 1, 'sting': 3, 'monteleukast': 2, 'urean': 1, 'caltco': 1, 'baso': 1, 'mchc': 1, 'cortisporin': 2, 'patientciprofloxacin': 1, 'menthol': 1, \"'expand\": 1, 'falur': 1, 'noninvasii': 1, 'romi': 18, 'pullmomnari': 1, 'camphor': 1, 'allergist': 2, \"'lhbc\": 1, 'albuteroliprtropium': 1, \"'lgbc\": 1, 'neomi': 2, 'rvsp': 2, 'angap': 1, 'amberin': 1, 'aptt': 1, 'occasin': 1, 'plcment': 1, 'bilbasilar': 1, 'regurgi': 2, 'nasopharyg': 1, 'irradi': 2, 'elucid': 1, 'mibi': 2, 'legionnella': 1, 'defienc': 1, 'entertain': 1, 'dysphag': 2, 'vasospasm': 2, 'barrel': 1, 'fluctuanc': 4, 'prophi': 6, 'axithro': 1, 'hepatosplenomegali': 3, 'haa': 2, 'scleral': 31, 'tetanu': 5, 'alsogoign': 1, 'consiult': 1, 'tiotropim': 1, 'lathrgic': 1, 'inappropiatli': 1, 'potato': 4, 'entrain': 2, 'bno': 3, 'pancak': 2, 'dependend': 1, 'seret': 3, 'gravi': 2, 'brochomalacia': 1, 'compromsi': 1, 'interc': 1, 'cefepimin': 1, 'incenet': 1, 'cptq': 1, 'shoe': 2, 'unwrap': 1, 'demin': 1, 'pleasnt': 1, 'cvvhd': 8, 'willcont': 1, 'hemodiaysi': 1, 'malignan': 1, 'hypercoagul': 2, 'dialter': 1, 'hearp': 1, 'expcept': 1, 'colonographi': 1, 'withn': 1, 'nebulizor': 1, 'reader': 1, 'fludrocort': 1, 'marigin': 1, 'faciltiy': 2, 'glugophag': 1, 'glucophag': 1, 'forgett': 1, 'weeenkd': 1, 'spurriou': 1, 'proteas': 2, 'aip': 3, 'azetronam': 2, 'hall': 2, 'pancreas': 1, 'dlpicc': 2, 'contam': 2, 'rheum': 8, 'oxymetri': 1, 'crytogen': 1, 'wkd': 1, 'goodpastur': 2, 'homicid': 1, 'firsttwo': 1, 'fbg': 1, 'percocett': 2, 'ivt': 5, 'antihypertensiveslisinopril': 1, 'oop': 3, 'streptococcu': 5, 'nsip': 8, 'tochair': 1, 'menstral': 1, 'aep': 2, 'menstrual': 3, 'chlamydia': 3, 'amilodipin': 1, 'reccurr': 1, 'zaroxylyn': 1, 'remaim': 1, 'suport': 2, 'hypxic': 1, 'inadvertant': 1, 'ta': 2, 'usal': 1, 'tring': 1, 'morepenum': 1, 'lisonopril': 1, 'hemorrag': 3, 'rsing': 1, 'frequant': 1, 'pnuemo': 2, 'laxi': 1, 'extremley': 1, 'bbr': 5, 'cathert': 2, 'hemoptasi': 2, 'growin': 2, 'antivert': 1, 'opiod': 3, 'subcl': 2, 'hematurea': 1, 'approri': 1, 'pleueral': 1, '^^secret': 1, 'chift': 1, 'diursi': 3, 'gather': 2, 'meclizin': 2, 'restlessn': 2, 'lookig': 1, 'untifung': 1, 'nitrostat': 1, 'odrer': 1, 'mrsp': 1, 'sevral': 1, 'compla': 1, 'stomachach': 1, 'caraf': 7, 'blkt': 1, 'distendedw': 1, 'secrition': 1, 'captorpril': 1, 'dlc': 1, 'tz': 3, 'fole': 2, 'kphosphat': 1, 'narc': 4, 'tot': 4, 'duahgter': 1, 'resplar': 1, 'resend': 15, 'alklos': 1, 'sucess': 5, 'pseodomona': 1, 'propens': 3, 'prostesi': 1, 'ifo': 1, 'addhes': 1, 'gester': 2, 'chenyn': 1, 'coucgh': 1, 'vgb': 1, \"dc'ing\": 2, 'wll': 3, 'carafatefoley': 1, 'walkman': 1, 'ditropan': 4, 'asympt': 1, 'weanin': 2, 'dopral': 1, 'oon': 2, 'rect': 1, 'rink': 1, 'coarsw': 1, 'blledi': 1, 'suctioni': 1, 'unwean': 1, 'pwdr': 2, '^level': 1, 'fluconozol': 2, 'respelor': 1, 'uncap': 1, 'chr': 3, 'natrocor': 1, 'goosebump': 1, 'hemehct': 1, 'meripeneum': 1, 'requird': 1, 'knowm': 2, 'nightcloth': 1, 'thouroughli': 1, 'tremend': 2, 'regur': 1, 'availibilti': 1, 'ttube': 1, 'respik': 7, \"'avb\": 1, 'benefici': 9, 'drawer': 1, 'dressin': 2, 'heve': 2, 'antienxitey': 1, 'survelli': 2, 'nostool': 2, 'ist': 2, 'potect': 1, 'rith': 2, 'game': 2, 'ecter': 1, 'headphon': 1, 'deconditon': 1, 'appripri': 1, 'recollect': 3, 'davb': 1, 'allcyn': 1, 'ocntinu': 1, 'mortal': 5, 'halidol': 1, 'feisti': 1, 'rtn': 1, 'ultrfiltr': 1, 'ponder': 1, 'maxiaml': 1, 'resuslt': 1, 'meripenum': 1, 'mint': 1, 'infom': 1, 'merpenum': 1, 'perviou': 1, 'draninag': 1, 'intract': 2, 'dogoxin': 1, 'bigem': 1, \"stool'\": 1, 'reepitheal': 1, 'pointintg': 1, 'famuli': 2, 'perenium': 1, 'suxtion': 1, 'freg': 2, 'uvolem': 2, 'meatu': 3, 'resparol': 1, 'drssg': 2, 'ovb': 1, 'miripenim': 1, 'surgergi': 1, 'hypoxiaun': 1, 'meclazin': 1, 'afm': 2, 'encephalomalat': 1, 'bcsn': 1, 'oneumo': 1, 'explanant': 1, 'unsettl': 2, 'peridcardi': 1, 'cxarevu': 1, 'erffect': 1, 'vivid': 1, 'cellular': 10, 'serousang': 1, 'llopressor': 1, 'statr': 1, 'leas': 1, 'cellulit': 1, 'sss': 2, 'echymosi': 1, 'mismatch': 5, 'cholan': 1, 'purpur': 1, 'aocd': 1, 'mmdri': 1, 'terazosin': 3, 'unifi': 2, 'mlhh': 4, 'accd': 1, 'trp': 1, 'hemptysi': 1, 'proccedur': 1, 'fibe': 1, 'disrepair': 1, 'ppain': 1, 'clumsi': 2, 'countri': 2, 'atternoy': 1, 'cost': 1, 'agitaiton': 1, \"examination'\": 1, 'dlrc': 10, 'statist': 2, 'pseudolymphoma': 1, 'cylindr': 2, 'bronchogen': 1, 'fidgit': 1, 'signfic': 8, 'beginng': 1, 'aaax': 1, 'thoractomi': 3, 'fool': 1, 'throacotomi': 2, 'uncertainti': 1, 'muscou': 1, 'childhood': 6, 'mjmgb': 4, 'cinch': 1, 'raaya': 1, 'pitcher': 1, 'mh': 4, 'inbetween': 4, 'paraoxysm': 2, 'atelectesi': 3, 'applu': 1, 'wirst': 1, 'continueto': 2, 'isosorbitr': 1, 'hypernatreamia': 1, 'contributor': 9, 'risperidol': 2, 'bread': 1, 'eunatrem': 1, 'ppv': 5, 'thoracenteisi': 1, 'candidt': 1, 'hyperlipedemia': 1, 'lipoma': 3, 'oupt': 3, 'curtain': 1, 'buspar': 1, 'hgh': 1, 'constel': 6, 'unplan': 1, 'sned': 1, 'bka': 2, 'interlobar': 3, 'necessar': 1, 'iiia': 1, 'lbka': 1, 'converas': 1, 'jkang': 2, 'msiv': 1, 'esld': 6, 'eoimi': 1, 'rifaximin': 6, 'fulmin': 1, 'hepatolog': 10, 'eighth': 3, 'epigatrium': 1, 'perpendicular': 1, 'ingrowth': 2, 'angioma': 1, 'discoveri': 9, 'brcm': 1, 'paraumbil': 2, 'unresect': 2, 'replat': 2, 'managemnt': 1, 'hypona': 2, 'spider': 1, 'opioid': 5, 'avitan': 1, 'hepatocellular': 2, 'lactolos': 3, 'lusb': 5, 'factori': 3, 'viscos': 1, 'pylonephr': 2, 'fracutur': 1, 'hyperviscous': 1, 'boluss': 2, 'improvemet': 2, 'duplic': 6, 'crystaluria': 1, 'actor': 1, 'ibratroprium': 1, 'myeloprolif': 1, 'forcibl': 1, 'enal': 1, 'sown': 2, \"abx'\": 2, 'neh': 1, 'forthi': 1, 'sedment': 1, 'endarterectomi': 2, 'throughoutshift': 1, 'aidc': 1, 'givensec': 1, 'proectiv': 1, 'pinch': 2, 'swear': 3, 'purrul': 1, 'icecream': 5, 'sxth': 1, 'chondroid': 1, 'nivv': 1, 'hydralasin': 1, 'pivsx': 1, 'badli': 1, 'plced': 1, 'enchondroma': 3, 'gliburid': 1, 'rightarm': 1, 'ressist': 1, 'hypercabnia': 1, 'craiotomi': 1, 'vascil': 1, 'sf': 4, 'caors': 1, 'ecreas': 1, 'punct': 1, 'secretioin': 3, 'gor': 1, 'epoc': 1, 'rh': 7, 'decdreas': 1, 'recordrd': 1, 'cranio': 1, 'duodenojejun': 1, 'ipmt': 1, 'diffusley': 1, 'peform': 2, 'yeloow': 1, 'nipb': 1, 'noncalcifi': 2, 'born': 2, 'blackhead': 1, 'supraren': 1, 'intussuscept': 3, 'airbourn': 1, 'phenergan': 3, 'interrog': 7, 'dest': 1, 'multisequ': 8, 'doxcyclin': 1, 'rage': 9, 'crepet': 1, 'liqid': 1, 'drainiag': 1, 'heavier': 1, 'continy': 1, 'ceffus': 1, 'slojw': 1, 'follwo': 2, 'restles': 1, 'signifig': 1, 'overnth': 1, 'trash': 1, 'rctest': 1, 'indwell': 1, 'micanazol': 1, 'earlli': 1, 'racem': 4, 'properlli': 1, 'negativev': 1, 'peripneumon': 1, 'dysnpea': 2, 'ivcd': 2, 'cardiovascularno': 1, 'colchicin': 3, 'rescusit': 3, 'cocktail': 1, 'patella': 4, 'globular': 2, 'hypointes': 1, 'hemmorahg': 1, 'dti': 1, 'enthesophyt': 1, 'ganglion': 1, 'tricompart': 1, 'avuls': 4, 'quadricep': 1, 'creol': 2, 'diaphysi': 1, 'nondisplac': 6, 'fave': 1, 'guaifenesen': 1, 'zithromycin': 1, 'sleepfor': 1, 'vasogen': 2, 'peridiaphragmat': 1, 'infiltra': 2, 'extrapleur': 2, 'calvarium': 4, 'calyc': 1, 'postobstruct': 10, 'assessmend': 1, 'decread': 1, 'ordeal': 1, 'carinii': 7, 'pma': 2, 'grandual': 1, 'hypoalbumenia': 1, 'opthamolog': 1, 'delic': 1, 'thinnest': 1, 'ganciclovir': 3, 'ptesent': 1, 'hse': 3, 'lact': 4, \"mae'\": 1, 'pantaprazol': 1, 'insuf': 1, 'sequal': 2, 'bidmcon': 1, 'aroiund': 1, 'almond': 1, 'hypoxiaclin': 1, 'watermelon': 1, 'swellin': 1, 'mpv': 1, 'rpv': 1, 'lpv': 1, 'hepatofug': 2, 'precardiovers': 2, 'rhv': 1, 'denot': 1, 'mhv': 1, 'streptokinas': 1, 'tonsil': 2, 'ampulla': 2, 'notepad': 1, 'antireject': 2, 'k^': 1, 'sultat': 1, 'posaconazol': 2, 'dropplet': 1, 'rfoley': 1, 'contor': 1, 'atg': 1, 'proconazol': 1, 'sulph': 1, 'carvadlol': 1, 'lrrt': 1, 'pocasonazol': 1, 'previu': 1, 'accordac': 1, 'mucor': 1, 'dmii': 10, 'dminish': 1, 'curc': 1, 'nassal': 1, 'valganciclovir': 3, 'inseretd': 1, 'extert': 1, 'irriat': 1, 'tigh': 1, 'aspitar': 1, 'subclavien': 2, 'brop': 1, 'sxi': 1, '^resiudu': 1, 'aldoacton': 1, 'vassopressin': 3, 'formul': 4, 'triodyn': 1, 'overdistens': 1, 'leumen': 1, 'phianc': 1, 'fryiabl': 1, 'osteochondr': 1, 'triadym': 1, 'fantanyl': 1, 'placec': 1, \"cx'd\": 2, 'loke': 1, 'auxilliari': 1, 'rif': 1, 'manouev': 1, 'thime': 1, 'doubbl': 1, 'contrinu': 1, 'retart': 2, 'discus': 1, 'umbilicu': 3, 'incontact': 1, 'tback': 1, 'isthmu': 1, 'sytol': 1, 'necc': 1, 'cahtet': 1, 'tricki': 2, 'heparina': 1, 'ofth': 1, 'survil': 1, 'realtim': 2, 'culur': 1, 'diaphram': 2, 'aft': 2, 'tbc': 1, 'replinish': 1, 'recriut': 1, 'aggiat': 2, 'hydrothorax': 3, 'disign': 1, 'afor': 1, 'esopag': 1, 'quardant': 1, 'cherri': 1, 'htnsive': 2, 'hemocult': 1, 'tacypnea': 4, 'mucousa': 1, 'possbili': 1, 'tonu': 1, 'wart': 1, 'qolden': 1, 'volatg': 1, 'rhoncii': 1, 'threadi': 1, 'oxygentaion': 1, 'dn': 1, 'absprption': 1, 'glide': 1, 'pencil': 2, 'incompat': 3, 'cehal': 1, 'skikn': 1, 'neomycin': 1, 'rifazimin': 1, 'dessican': 1, 'eso': 3, 'atleast': 3, 'interuppt': 1, 'rhonchronu': 1, 'devleop': 1, 'antiphospolipid': 1, 'ks': 9, 'antiphsopholid': 1, 'sensorium': 2, 'gp': 5, 'crypto': 5, 'intercours': 1, 'preacaut': 1, 'synd': 1, 'broncheictasi': 2, 'hypervolemia': 5, 'zidovudin': 1, 'toxo': 5, 'coranari': 1, 'biapsi': 1, 'exterm': 2, 'phospholipid': 2, 'admisison': 3, 'symm': 1, 'jail': 2, 'cardiomypathi': 1, 'aspergilli': 2, 'oi': 1, 'suppliment': 7, 'macro': 5, 'idarubicin': 1, 'heterosexu': 1, 'adrenerg': 3, 'nro': 1, 'atovaquon': 2, 'diarreha': 1, 'yankeaur': 1, 'metnal': 2, 'shoiwng': 1, 'tmof': 1, 'bronchietesi': 1, 'cytarabin': 1, 'indipendantli': 1, 'rectovesicular': 1, 'blastomycosi': 1, 'urethr': 5, 'atid': 1, 'hematura': 2, 'areteri': 1, 'diuures': 1, 'leukopenia': 11, 'celaxa': 1, 'ardsnet': 12, 'primaquin': 6, 'setttl': 1, 'tularemia': 1, 'meastu': 1, 'acetazolamid': 14, 'parvo': 1, 'essentiali': 1, 'bromnchscopsi': 1, 'hematur': 1, 'bunni': 1, 'fungitel': 1, 'botharm': 1, 'thash': 2, 'blasto': 1, 'antibid': 3, 'lactulso': 1, 'fw': 6, 'toxicit': 1, 'breathi': 3, 'tsay': 1, 'gentamycin': 6, 'coccidio': 1, 'subset': 2, 'doxyclin': 1, 'equabr': 1, 'proxial': 1, 'erythemia': 1, 'volit': 5, 'secreiotn': 1, 'predominantley': 1, 'withheld': 4, 'rifaxamin': 2, 'lenal': 1, 'rhonic': 1, 'respositiong': 1, 'elyt': 2, 'follolw': 1, 'signficantli': 3, 'bitten': 2, 'doss': 9, 'obrain': 1, 'gcsf': 3, 'regualt': 1, 'laisix': 2, 'aztreo': 1, 'edu': 4, 'azostrenam': 1, 'pleasur': 3, 'spp': 4, 'bia': 6, 'additiion': 1, 'interestingli': 4, 'azathioprin': 4, 'aztrenonam': 1, 'thickenen': 1, 'shldr': 3, 'ig': 6, 'gastropathi': 1, 'shld': 2, 'coccido': 1, 'neupogen': 5, 'histo': 4, 'sightli': 1, 'cytopenia': 3, 'hyperna': 3, 'cand': 1, 'diiuresi': 1, 'susc': 1, 'haldo': 3, 'paresthesia': 2, 'repat': 1, 'amikcain': 1, 'lumbosacr': 4, 'attdg': 1, 'extremeluy': 1, 'episiod': 1, 'suger': 2, 'vando': 1, 'biba': 3, 'xblood': 1, 'atavan': 1, 'nil': 4, 'ebl': 1, 'mevacor': 1, 'lovastatin': 2, 'lamintectomi': 1, 'reced': 2, 'proceduro': 1, 'orthoped': 2, 'pilmonari': 2, 'tpiec': 1, 'challang': 1, 'nonetheless': 2, 'ckr': 1, 'duir': 2, 'backpain': 3, 'onn': 1, 'anxiuo': 3, 'swelll': 1, 'atibiot': 2, 'obv': 4, 'surther': 1, 'appendectomi': 6, 'ceart': 1, 'reacat': 1, 'yesterdat': 1, 'cear': 1, 'bacterimia': 2, 'costochodr': 1, 'withwbc': 1, 'levoflaxin': 1, 'suppost': 3, 'negati': 1, 'cefopim': 5, 'tmep': 1, 'wtd': 1, 'approprit': 1, 'ntsx': 2, 'reenter': 2, 'tibiali': 3, 'vigour': 3, 'quadroplegia': 1, 'expectoart': 1, 'intracrania': 2, 'gluet': 1, 'occupi': 6, 'gdi': 1, 'season': 5, 'gelaten': 1, 'oxcycodn': 1, 'pharang': 1, 'foey': 1, 'reportsd': 1, 'endrocrin': 1, 'intergr': 2, 'decubit': 3, 'tcl': 2, 'paracardium': 1, 'transitori': 1, 'sale': 1, 'atrovnet': 2, 'rej': 2, 'resultsar': 1, 'uncahang': 1, 'claustraphobia': 1, \"mie'\": 1, 'qustion': 1, 'gatorad': 1, 'rin': 1, 'seatbelt': 1, 'brochoscopi': 1, 'dad': 5, 'moth': 2, 'desatsur': 1, 'aelrt': 1, 'eom': 8, 'sling': 6, 'hyoid': 1, 'scvo': 3, 'genuin': 1, 'altough': 1, 'deserv': 1, 'dimiinsh': 1, 'sbd': 1, 'comiv': 2, 'itnub': 1, 'aerstion': 1, 'crampi': 4, 'cdv': 1, 'rhythym': 3, 'liquig': 1, 'tortur': 1, 'lousi': 2, 'positiv': 1, 'mf': 3, 'chemic': 7, 'egophani': 4, 'reslult': 1, 'relfex': 1, 'spect': 3, 'stringlik': 1, 'opein': 1, \"'cheyn\": 1, 'extubatiuon': 1, 'granchildren': 1, 'perhilar': 1, 'intubatioin': 1, 'concolid': 1, 'laft': 1, 'tropl': 1, 'stokea': 1, 'dsrg': 1, 'grandfath': 2, 'copuld': 1, 'frquent': 1, 'damper': 1, 'tropic': 1, 'subtherapeurt': 1, 'zpt': 1, 'threshhold': 2, 'abtibiot': 1, 'colligenas': 1, 'intqact': 1, 'fridg': 2, 'psorasi': 1, 'perifissur': 2, 'efffus': 2, 'imipenemen': 1, 'slx': 1, 'director': 3, 'broccoli': 1, 'dope': 1, 'warter': 1, 'removen': 1, 'cevic': 1, 'evaluat': 2, 'impinenum': 1, 'encapsul': 1, 'particl': 3, 'cxt': 1, 'ispok': 1, 'forlab': 1, 'grate': 1, 'qestion': 1, 'sveral': 1, 'lag': 3, 'physcian': 1, 'listhesi': 2, 'overflow': 3, 'acord': 1, 'isminim': 1, 'presenti': 1, 'placer': 1, 'ginen': 1, 'anterolithesi': 1, 'nasoenter': 5, 'admitt': 3, 'ectoppi': 1, 'administrationg': 1, 'ridig': 1, 'niphedipin': 2, 'imipenim': 1, 'phrenic': 3, 'yea': 2, 'rnging': 1, 'nitika': 1, 'divertucul': 1, 'bathtub': 1, 'nipedipin': 1, 'vido': 1, 'hydrazlin': 1, 'retrolisthesi': 3, 'pneumothorx': 1, 'schiziod': 1, 'tharapi': 1, 'osteoblast': 3, 'lactuloc': 1, 'exers': 1, 'albutrol': 1, 'klc': 1, 'echymot': 2, 'ddsg': 1, 'invol': 1, 'ecymot': 1, 'prelet': 1, 'xiphoid': 1, 'atria': 5, 'flatulos': 1, 'obstracion': 1, 'surig': 1, 'lee': 1, 'verapmil': 1, 'plebotomi': 1, 'serquoel': 1, 'desato': 1, 'sought': 3, 'dabx': 1, 'empiriacl': 1, 'ditazem': 1, 'menier': 1, 'gfr': 7, 'ramya': 2, 'patientgentamicin': 1, 'usoh': 7, 'hyrdrat': 1, 'ronchuru': 1, 'attest': 1, 'breaht': 1, 'lupsu': 1, 'perilumbar': 1, 'haze': 8, 'hemipelvi': 4, 'sle': 5, 'lupu': 6, 'dli': 1, 'aglc': 5, 'pf': 6, 'chornic': 2, 'nonvascular': 4, 'obliteran': 3, 'markinga': 1, 'wherea': 4, 'extubatuon': 1, 'inci': 1, 'elastiplast': 1, 'thobe': 1, 'bialt': 1, 'ectoyp': 1, 'othewis': 1, 'sgot': 1, 'drnge': 1, 'inub': 1, 'ventiat': 2, 'entireti': 3, 'reiorient': 1, 'serrosanguin': 1, 'thoracotmi': 1, 'antigrav': 1, 'respilor': 2, 'reapli': 1, 'caglu': 1, 'anasarci': 1, 'ichem': 1, 'trilept': 3, 'vancoymcin': 2, 'similari': 1, 'dcm': 3, 'oxcarbazepin': 2, 'meso': 2, 'asjac': 1, 'neng': 1, 'eng': 1, 'technician': 2, 'hith': 1, 'jean': 1, 'dissappear': 1, 'trila': 1, 'trasfer': 4, 'perpheri': 2, 'passezmuir': 1, 'tilll': 1, 'cstm': 2, 'stanbi': 1, 'hdp': 2, 'syn': 2, 'nag': 2, 'methelen': 1, 'pddp': 1, 'asymptompat': 1, 'ticken': 2, 'dposit': 1, 'maxliofaci': 1, 'gallium': 1, 'ave': 1, 'changemad': 1, 'catapril': 1, 'juncki': 1, 'airbolu': 1, 'respilar': 1, 'awkward': 1, 'autolog': 2, 'defec': 1, 'preoxygen': 3, 'perifer': 2, 'diuresesd': 1, 'initailli': 4, 'postprocedur': 1, 'solwli': 1, 'pmeumococc': 1, 'will^': 1, 'passeymiur': 1, 'recquir': 1, \"fxn'ing\": 1, 'oobtc': 3, 'ventac': 1, 'satg': 2, 'malrot': 1, 'surveli': 1, 'extrememti': 1, 'bronchospas': 1, 'tbf': 1, 'genear': 1, 'passeymuir': 1, 'galium': 1, 'sectet': 1, 'anasacar': 1, 'quentin': 1, 'nonopacifi': 1, 'swna': 1, 'indium': 1, 'ovenight': 2, 'desatt': 2, 'appeaer': 1, 'geiven': 1, 'sewn': 2, 'bilaterl': 1, 'hardli': 1, 'huband': 1, 'acalculu': 2, 'furnish': 1, 'dropp': 3, 'hydracholathiazid': 1, 'desesitizaion': 1, 'polysinu': 1, 'mml': 1, 'rxed': 2, 'azthromycin': 1, \"'sr\": 1, 'sicial': 1, 'ddrop': 1, 'danglk': 1, 'bivonna': 1, 'mylasia': 1, 'subequ': 1, 'diostress': 1, 'ndka': 1, 'arraang': 1, 'intermittentlki': 1, '^sob': 1, 'infusint': 1, 'trachial': 2, 'leakso': 1, 'bovina': 1, 'piecem': 6, 'bullosa': 2, 'yearli': 1, 'millisecond': 7, 'cranki': 1, 'scm': 2, 'enteroflex': 1, 'interacted': 1, 'wirh': 1, 'abuss': 1, 'rnow': 1, 'adjacet': 1, 'dlaryng': 1, 'vanoc': 1, 'phlebolith': 2, 'arrial': 1, 'reorinet': 1, 'dchart': 1, 'arousalb': 1, 'ressussit': 1, 'extrathorac': 1, 'evidnec': 1, 'siphon': 1, 'subscapular': 2, 'pericathet': 1, 'osteoarthrit': 1, 'cartilag': 3, 'tendinopathi': 1, 'synovi': 4, 'prolif': 1, 'helthcar': 1, 'presist': 2, 'freqent': 1, 'hypervascular': 1, 'blcx': 1, 'giant': 2, 'decedron': 1, 'communuc': 1, \"sx'nd\": 1, 'plade': 1, 'hungeri': 1, 'vti': 1, 'ffinard': 1, 'dnystatin': 1, 'eit': 1, 'onoc': 1, 'boug': 1, 'imrov': 3, 'venbtil': 1, 'subtend': 1, 'atelect': 2, 'enlg': 1, 'waithout': 1, 'metorpolol': 1, 'arn': 1, 'atttempt': 1, 'fenatanyl': 2, 'rft': 1, 'nskin': 1, 'sweatinbg': 1, 'lightind': 1, 'throght': 1, 'rewuir': 1, 'cointrol': 1, 'novosourc': 2, 'sheed': 1, 'fico': 1, 'chunki': 1, 'tubeeffect': 1, 'surigfoam': 1, 'breakdowon': 1, 'minu': 5, 'dimisah': 1, 'excacerb': 2, 'areound': 1, 'calear': 1, 'evev': 2, 'functon': 1, 'secretionsin': 1, 'bucal': 1, 'stamina': 1, 'imnprov': 1, 'motuh': 1, 'aread': 1, 'enocurag': 1, 'agtiat': 1, 'occasionl': 1, 'vestra': 1, 'oldest': 4, 'diagnosit': 2, 'dsng': 1, 'knod': 1, 'muchroom': 1, 'tthick': 1, 'fentnayl': 1, 'arrhytmia': 1, 'hrwith': 1, 'carevi': 1, 'visitir': 1, 'urinein': 1, 'weanm': 1, 'slightl': 1, 'barimaxx': 2, 'boulus': 1, 'dirues': 4, 'appropir': 1, 'indigest': 2, 'guidwir': 3, 'quench': 1, 'naesthesia': 1, 'lidocan': 1, 'tappabl': 2, 'echymott': 1, 'percus': 1, 'lenghth': 1, 'metropol': 1, 'falsli': 1, 'tympani': 1, 'amioderom': 1, 'polychamb': 1, 'bibasliar': 1, 'regualr': 1, 'hbv': 7, 'methodon': 3, 'atim': 1, 'testa': 1, 'toxoplasmosi': 3, 'hbc': 1, 'tuberculin': 1, 'cnt': 3, 'phyusic': 1, 'pneumonthorax': 2, 'elctrolyt': 1, 'notch': 4, 'pitfal': 1, 'bsck': 1, 'giveng': 1, 'beef': 1, 'unlobor': 1, 'somethim': 1, 'smaal': 1, 'fct': 1, 'dia': 1, 'disciplanari': 1, 'vedio': 1, 'hmd': 1, 'precat': 1, 'antituss': 2, 'sensi': 8, 'guiafenisen': 2, 'difficuli': 1, 'partn': 1, 'recordsvancomycin': 1, 'uncuf': 5, \"dp'\": 1, 'multpil': 1, 'plavi': 1, 'ileum': 6, 'miuc': 2, 'atelctasi': 2, 'mcu': 2, 'ulc': 1, 'pediscop': 1, 'atraumat': 19, 'gurd': 1, 'strangul': 2, 'omelett': 1, 'vomt': 3, 'incarcer': 3, 'obstuct': 3, 'possiblil': 1, 'patientvancomycin': 1, 'revel': 2, 'brochial': 3, 'sudaf': 1, 'neutr': 1, 'rape': 1, 'isnt': 1, 'clonipan': 1, 'stolen': 1, 'furth': 1, 'ivrn': 2, 'afebrl': 1, 'tachypenea': 2, 'basebal': 1, 'dvd': 3, 'emphesema': 1, 'itnerv': 1, 'ascist': 1, 'inapprori': 1, 'prefor': 1, 'emtot': 1, 'aliv': 7, 'hydro': 8, 'considerabley': 1, 'creep': 1, 'eras': 2, 'intramur': 6, 'labetelol': 1, 'supportof': 1, 'dimininish': 1, 'scabe': 1, 'kidni': 1, 'prepart': 2, 'snxing': 1, 'arrestn': 1, 'pittind': 1, 'trick': 1, 'sllevyn': 1, 'alternatey': 1, 'nonvisu': 2, 'irregur': 1, 'burger': 1, 'receheck': 1, 'promd': 1, 'suppor': 2, 'hinder': 1, 'brachiocepal': 1, 'menstruat': 1, 'bronchspast': 1, 'probabilti': 1, 'fmaili': 1, 'ltitrat': 1, 'recussit': 1, 'effusionsm': 1, 'papular': 4, 'suppitori': 1, 'troph': 2, 'todya': 1, 'eitolog': 1, 'eposod': 1, 'outweigh': 6, 'reasur': 1, 'witih': 1, 'mucosa': 16, 'vedrs': 1, 'mar': 2, 'ceftr': 1, 'psch': 1, 'inapropri': 1, 'mechnic': 1, 'lisinopri': 1, 'ovcer': 1, 'signifiacnt': 1, 'pneumoccoc': 1, 'willfollow': 1, 'orrali': 1, 'bacaus': 1, 'wouldnt': 1, 'astatu': 1, 'trnbasfer': 1, 'fidgiti': 1, 'inu': 2, 'ood': 1, 'coherr': 1, 'strepto': 1, 'appetiti': 2, 'klonidin': 1, 'figeti': 1, 'microneb': 2, 'releif': 2, 'wheezs': 1, 'comfor': 1, 'clonepin': 1, 'pattent': 1, 'bben': 1, 'moprn': 1, 'soungd': 1, 'parnoid': 1, 'opo': 1, 'coorper': 1, 'emolli': 2, 'bilatearlli': 1, 'witgh': 1, 'informaion': 1, 'desper': 1, 'seur': 1, 'tpo': 1, 'fereq': 1, 'drnr': 1, 'anisocoria': 1, 'contant': 1, 'bedchair': 1, 'kyg': 6, 'inferolat': 1, 'supplementari': 2, 'eosinophila': 3, 'guafenesin': 1, 'ventriculoar': 1, 'hcf': 1, 'aspiratio': 1, 'checkup': 1, 'intersitit': 1, 'gorssli': 1, 'postinfecti': 2, 'recommen': 1, 'fulid': 2, 'icm': 1, 'ctz': 2, 'parenchyema': 1, 'possibly': 1, 'setback': 11, 'sequala': 1, 'moaner': 1, 'isorsorbid': 1, 'lowsi': 1, 'ruleout': 1, 'dial': 2, 'anuria': 7, 'nontheless': 1, 'curbsid': 4, 'ak': 1, 'uriun': 2, 'resovl': 1, 'intrapericardi': 3, 'balc': 1, 'telemet': 1, 'sheat': 1, 'msvo': 1, 'fling': 1, 'aatmpt': 1, 'presnet': 1, 'pocoumadin': 1, 'serousnangin': 1, 'hespan': 1, 'partiallli': 1, 'improiv': 1, 'filll': 2, 'perki': 1, 'antiobot': 1, 'equat': 1, 'mebul': 1, 'protamin': 3, 'draiang': 1, 'upurc': 1, 'ttttto': 1, 'dobut': 3, 'continnu': 1, 'unload': 2, 'mvso': 1, 'augement': 1, 'presentplan': 1, 'productuv': 1, 'leov': 1, 'carbomed': 1, 'invagin': 2, 'thoraic': 1, 'prouctiv': 1, 'waffelr': 1, 'lungsound': 1, 'afebrik': 1, 'cortisyn': 1, 'endocran': 1, 'thrusday': 1, 'cepatim': 1, 'steorid': 1, 'lighli': 1, 'doxycylin': 2, 'cefapin': 1, 'gluccos': 1, 'farm': 1, 'wothout': 1, 'intermitten': 1, 'pheregan': 1, 'probrabl': 1, 'rwhite': 1, 'unopacifi': 1, 'pinsp': 1, 'beacam': 1, 'detal': 1, 'aboukt': 1, 'iintub': 1, 'diahrrea': 2, 'doxcycyclin': 1, 'biliour': 1, 'trqansfer': 1, 'mous': 1, 'lasr': 1, 'deliou': 1, 'steoriod': 1, '|w': 2, 'aj': 2, 'zqqqq': 1, 'dob': 4, 'eutttt': 2, 'dxfdl': 2, 'receveiv': 1, 'aqo': 2, 'kpsp': 2, 'tsummaryinform': 2, 'neuck': 2, 'suu': 2, 'ovk': 2, 'chlorhexdin': 1, 'kbo': 2, 'ucto': 2, 'nrvliiu': 2, 'ribi': 2, 'gbi': 2, 'vmc': 2, 'aocrf': 2, 'ldf': 2, 'heiy': 2, 'abrsxbhk': 1, 'nocdxi': 1, 'abcd': 1, 'emr': 2, 'zxz': 2, 'ifl': 2, 'a^': 2, 'tktot': 1, '^qj': 2, 'jv': 2, 'ryhc': 2, 'ia': 5, 'zd': 2, 'nffhf': 2, \"amaa'\": 2, 'nenl': 2, 'cj': 3, 'ke': 2, 'smarttag': 2, 'ztm': 2, 'uyl': 2, 'ihdrvfw': 2, 'xh': 2, 'uz': 2, \"dzz'\": 2, 'hhhnnn': 2, 'sft': 2, 'nnn': 2, 'dulxo': 2, 'adehjk': 1, '|ff': 2, 'kkkggg': 2, 'zlkb': 2, 'yh': 2, 'dtj': 2, 'cjojqj^jajmhsh': 2, 'shpplt': 2, 'tsc': 2, 'bsb': 2, 's|f': 2, 'zex': 2, 'abcdefghijklmnopqrstuvwxyz': 2, 'psn': 2, 'cpvmh': 2, 'plntl': 2, 'durin': 2, 'jojpjqj^jnho': 1, 'tin': 4, 'rdata': 1, 'qxi': 2, 'fkd': 1, 'okpwp': 2, 'xy': 2, 'cjojqjz': 1, 'smixu': 2, '|q': 2, 'shphct': 2, 'kmdv': 2, 'zhdk': 2, 'mnoz': 1, 'fy': 2, 'hxjgu': 2, 'xcompobj': 1, 'hy': 3, 'fug': 2, 'itenk': 2, 'waejg': 2, 'yhwv': 2, 's|': 2, 'tmtntotzt': 1, 'jl': 2, 'jva': 2, 'oy': 3, 'dpx': 1, 'iz': 2, 'km': 2, 'jx': 3, 'onw': 2, 'hyesh': 2, 'fpbrushpbrushpbrush': 2, 'rs': 8, 'tq': 2, 'aub': 2, 'bfm': 2, 'gt^': 2, 'vdegg': 2, 'dfk': 2, 'gsp': 2, 'cjojqju^jaj': 2, 'dfhm': 2, 'pz': 1, 'yl': 1, 'ocio': 2, 'schema': 2, 'b|': 2, 'xm': 2, 'nxrv': 2, 'dcl': 1, 'uh': 2, 'jxfh': 1, 'shphgb': 2, 'ibxg': 2, 'fpu': 2, 'wla': 2, 'cjajmhnhujh': 2, '|||': 2, 'qdwu': 2, 'cdehijknowxyz^': 1, 'ze': 2, 'xvuy': 2, '^jaju': 1, 'gh': 2, 'fl': 7, '^sx': 2, 'buxf': 2, 'urn': 3, 'ffqp': 2, 'fp': 2, 'qfeqfkq': 2, 'xx': 5, 'xq': 2, 'cjojqj': 2, 'cjuajh': 2, 'hzyh': 2, 'b^': 2, 'gqq': 2, 'jj': 2, '^|d': 2, 'cjojqju^jajh': 2, 'ee': 2, '^lze': 2, 'zuo': 2, 'hyw': 2, 'iy': 2, 'granulamoti': 1, 'rs^': 2, 'lz': 2, 'nghch': 2, 'lwc': 3, 'vgpi': 2, 'if^': 2, 'ymj': 2, 'cebq': 2, 'ttttttl': 2, 'cjojqj^jajhr': 1, 'ttooe': 2, 'khe': 2, 'vhvivrvsv': 1, 'nw': 2, 'f|l': 2, 'uvvvvv': 1, 'agsa': 2, 'lx': 3, 'header': 2, 'qvu': 2, 'gqt': 2, 'mzm': 2, 'qqq': 2, '^jajh': 2, 'syv': 2, 'olwl': 2, 'laf': 2, 'xv': 2, 'pi': 3, 'mndm': 2, 'mq': 2, 'eqe': 2, 'ajh': 2, 'ojqj^jh': 2, 'cjojpjqj^jnho': 2, 'zw': 2, 'lzpl': 2, 'ihdr': 2, 'xg': 2, 'wlz': 2, 'txf': 2, \"p'\": 2, 'hvah': 2, 'uu': 2, 'xn': 2, '|yy': 2, 'iap': 2, 'omkkfk^k': 1, 'qlcccc': 1, 'cjojqj^j': 2, 'vvvvvvvv': 1, 'abh': 1, \"'t\": 3, 'initiati': 1, 'mvz': 2, 'zg': 2, 'hw': 2, 'bfiu': 2, 'mdfl': 2, 'augapha': 2, 'oyz': 2, 'xppocnot': 2, 'ppbp': 2, 'cjojqj^jaj': 2, 'xdrn': 2, 'bdlt': 2, 'rqb': 2, 'ttit': 2, 'z^': 2, 'kzmwc': 2, 'ggg': 2, '|s': 2, '^g': 2, \"w'\": 2, 'pj': 2, 'zfn': 2, 'svttttlq': 2, 'vthf': 2, 'ooo': 3, 'chema': 1, 'wdeu': 2, 'vtl': 2, 'vbjbj': 1, 'ifgd': 2, 'xp': 2, 'fip': 1, 'ay': 3, 't|t': 1, 'jpn|zb': 2, 'objectpool': 2, 'wvmyvu': 2, 'dw': 6, '|vi': 2, 'rqujf': 2, 'jkd': 1, 'qefeiq': 2, 'jy': 2, \"b'\": 2, 'zwc': 2, 'yfgga': 2, 'fff': 2, 'tez': 2, 'qxq': 2, 'rwsi': 2, '|x': 2, 'granulomatosi': 2, 'txe': 2, 'c^': 2, 'vh': 2, 'thh': 1, 'wiil': 1, 'yuim': 2, 'outstand': 3, 'qf': 2, 'pfq': 2, 'odi': 1, '^jajmh': 1, 'gx': 2, 'cee': 2, 'jigi': 2, 'lkdv': 2, 'ko': 2, 'vhi': 2, 'miig': 2, 'dq': 2, 'jw': 2, 'cuyi': 2, 'jxut': 2, 'worddocu': 1, \"'uqg\": 2, 'uy': 2, 'vfv': 2, 'vpcsp': 2, 'oxcn': 2, 'jh': 2, 'uvwxyz': 1, 'jz': 2, 'bw^cw': 2, 'o|': 2, 'mnpj': 2, 'xf': 2, 'gkd': 2, 'odf': 2, 'ik': 2, 'um': 2, 'sidatx^': 2, 'ycu': 2, 'u^kq^': 2, 'zvhk': 2, 'ei': 2, 'mmmhhh': 2, 'ftth': 2, 'tro': 2, '^jajmhsh': 2, 'abrxbhk': 1, 'bv': 2, 'elh': 2, 'trpw': 1, 'ebx': 2, 'tj': 2, 'oih': 2, 'iend': 2, 'nz': 2, 'antibitot': 1, 'shpwbc': 2, '|u': 2, 'patientbactrim': 1, 'hke': 2, 'dj': 2, 'ein': 1, 'mbd': 2, 'yt': 2, 'nvo': 2, 'rkd': 2, 'mu': 3, 'ol': 2, 'lzra': 2, 'dotxppoc': 2, 'v|': 1, 'ccg': 2, 'yd': 2, 'ec': 6, 'hlvo': 2, 'cxpq': 2, 'ui': 2, 'wdl': 2, 'se': 8, 'moroxella': 1, 'acxci': 2, 'kd': 2, 'ejo': 2, 'ff': 4, 'vo': 2, 'metabolit': 2, 'ffj': 2, 'begkm': 1, 'cjaj': 2, 'ji': 2, 'ae': 5, '|c': 2, 'eb': 2, 'minutey': 1, 'v^vgvhvrvsv': 1, 'lh': 6, 'lcj': 2, 'rkdz': 2, '^j': 1, 'ffv': 2, 'qg': 2, 'rybx': 2, 'zza': 2, 'ejk': 2, 'srgb': 2, 'stx': 2, 'gpl': 2, 'ftd': 2, 'jjj': 2, 'hkt': 2, 'aeu': 2, 'microsoft': 2, 'cjajh': 2, 'fj': 2, 'bre': 1, 'documentsummaryinform': 2, 'ifa': 2, 'dhuorq': 2, 'gw': 2, '|bc': 2, 'compobj': 2, 'qqov': 2, 'cjojqjuv^jaj': 1, 'moraxelia': 1, 'fghijklm': 1, '|k^': 2, 'vdx': 2, 'eyfp': 2, 'ydf': 2, '^jaj': 2, 'idatx^': 2, 'qxbk': 2, 'xil': 1, 'z|': 2, 'numpag': 2, \"wegener'\": 1, 'oq': 2, 'qn': 2, 'eee': 2, 'fsx': 2, 'gkdg': 2, 'zkd': 2, 'gq': 1, 'euq': 2, 'hhh': 2, 'pwow': 2, 'postalcod': 2, 'qb|': 2, 'jm': 2, 'tni': 2, 'pyl': 1, 'cq': 2, 'fsp': 2, 'zo': 2, 'ilji': 2, 'adx': 1, 'sjpa': 2, 'qld': 2, 'aeijk': 1, 'fswi': 2, 'vfx': 2, '|cl': 1, '^i': 2, 'cjojqj^jajh': 2, 'f|uf': 2, 'xoq': 2, 'svttttt': 2, 'cb': 4, 'fake': 1, 'schizoid': 1, 'occaison': 1, '^lft': 1, 'diliri': 1, 'genic': 1, 'uneffect': 1, 'stade': 1, 'amnioderon': 2, 'hypob': 1, 'indcat': 1, 'efffect': 2, 'favorit': 3, 'barriercream': 1, 'apici': 1, 'hypokensi': 1, 'olanzepin': 5, 'te': 6, 'pw': 2, 'stmulat': 1, 'intraaort': 1, 'abdomi': 1, 'surgi': 1, 'claw': 1, 'clenser': 1, 'kinda': 1, 'ivgtt': 1, 'wrm': 1, 'cardimyopathi': 1, 'appettit': 2, 'alright': 1, 'therapeaut': 1, 'ckeck': 1, 'vanilla': 2, 'mpb': 2, 'palpab': 1, 'bioten': 1, 'sheathless': 1, 'treatmetn': 1, 'doom': 1, 'ele': 1, 'ux': 2, 'unsignific': 1, 'singificantli': 1, 'acount': 1, 'ttake': 1, 'plaxiv': 1, 'bouuock': 1, 'multipodo': 1, \"con'\": 1, 'propion': 4, 'petichea': 1, 'baloon': 2, 'deceras': 2, 'depit': 1, 'overgrown': 1, 'dexonid': 1, 'prohibit': 3, 'fiberopt': 7, 'wick': 2, 'costovertebr': 2, 'coke': 3, 'sj': 1, 'conver': 1, 'liberali': 1, 'guic': 2, 'agrastat': 1, 'mobitz': 3, 'bivent': 1, 'crazi': 2, 'clobetasol': 2, 'bluish': 1, 'haloldol': 1, 'doscomfort': 1, 'afbril': 1, 'nondil': 3, 'elvat': 2, 'generali': 1, 'ciprovloxacin': 1, 'aibp': 1, 'pernium': 1, 'schitzophrenia': 2, 'occaasion': 1, 'inceasingli': 1, 'preceed': 3, 'atchi': 1, 'harass': 1, 'asssit': 1, 'fingernail': 2, 'echolalia': 1, 'lipirudin': 1, 'cardigen': 1, 'compuress': 1, 'gaurdian': 2, 'selectivley': 1, 'somebodi': 1, 'pysch': 1, 'arthrosi': 1, 'televis': 2, 'absoprt': 1, 'cefep': 2, 'iapb': 1, 'lepirudin': 1, 'chlorothizid': 1, 'lepiruden': 1, 'inco': 1, 'uncomfor': 1, 'postplac': 1, 'actat': 1, 'abou': 1, 'neutopenia': 2, 'cardura': 1, 'guifenesin': 1, 'nauseax': 1, 'accapulla': 1, 'cooperatv': 1, 'bhad': 1, 'cintinnu': 1, 'coompazin': 1, 'currnet': 1, 'indep': 2, 'aand': 1, 'withexert': 1, 'desatto': 1, 'coomod': 1, 'accapella': 1, 'moral': 1, 'transiaent': 1, 'hypoxicwith': 1, 'worseningdyspnea': 1, 'subsquent': 1, 'pyloroplasti': 1, 'inhous': 2, 'doxepin': 2, 'dysplasia': 3, 'celebrex': 4, 'sulcraf': 1, 'transhiat': 1, 'backpack': 1, 'grandpar': 1, 'bronchopulm': 2, 'phelgm': 1, 'herniorrohapi': 1, 'supplier': 1, 'invok': 4, 'europ': 1, 'plagu': 2, 'hiistori': 1, 'pericardectomi': 2, 'pericardiectomi': 2, 'sigific': 1, 'spirocar': 2, 'toridol': 1, 'hydo': 1, 'desaturt': 1, 'crakl': 2, 'tarnsfer': 1, 'recievd': 2, 'presenetd': 1, 'miniaml': 1, 'dropelt': 1, 'sv': 5, 'anasacara': 1, 'sucction': 1, 'approprietli': 1, 'qvar': 5, 'aab': 1, 'benaprotein': 1, 'positionsl': 1, 'anarcarca': 1, 'doent': 1, 'speciamn': 1, 'lotrimin': 2, 'synchronis': 1, 'budd': 1, 'agitit': 1, 'broth': 2, 'plase': 1, 'coarser': 1, 'laisx': 3, 'cirrhossi': 1, 'mickael': 1, 'handhold': 1, 'rradial': 1, 'plead': 2, 'tonnic': 1, 'chiari': 2, 'intxoci': 1, 'prothesi': 1, 'enterocolon': 1, 'pper': 1, 'lbase': 1, 'bpg': 1, 'reddenend': 1, 'patellofemor': 5, 'nonmobil': 1, 'downstair': 3, 'regrugit': 1, 'sycop': 1, 'roomat': 1, 'polymyxin': 1, 'accomplish': 3, 'tdt': 1, 'teritori': 1, 'metclopromoid': 1, 'ebv': 6, 'hamstr': 2, 'negoti': 4, 'gmpd': 2, 'dissip': 2, 'lentiform': 2, 'nighttim': 3, 'aftert': 1, 'midthigh': 1, 'multistep': 3, 'haemodinamicalyy': 1, 'dlbcl': 1, 'nadir': 7, 'alopecia': 2, 'unnit': 1, 'bcl': 1, 'feldberg': 2, 'ophth': 3, 'typhil': 1, 'resurfac': 1, 'gwlm': 7, 'immunoreact': 1, 'haemodinam': 6, 'caridiolog': 1, 'presyncop': 4, 'fwd': 3, 'tra': 1, 'methotrex': 4, 'medaplex': 1, 'aneyrysm': 1, 'eshap': 1, 'lq': 1, 'lymphma': 1, 'prednisolon': 3, 'merit': 1, 'avanti': 1, 'hypdenisti': 1, 'interventricular': 1, 'retest': 1, 'surg': 1, 'viridan': 4, 'hypdens': 2, 'nodosum': 1, 'pound': 6, 'neutropenia': 7, 'overaggress': 1, 'var': 1, 'tolerac': 1, 'admittd': 2, 'maser': 1, 'poen': 1, 'nbrh': 1, 'tissur': 2, 'quset': 1, 'unemploy': 4, 'edma': 1, 'eph': 3, 'su': 2, 'bovin': 3, 'conplet': 2, 'undrer': 1, 'trachh': 1, 'pannu': 4, 'infact': 3, 'hydram': 2, 'pressuer': 1, 'tiss': 1, 'periwound': 1, 'sldo': 1, 'prune': 1, 'effeort': 1, 'titer': 5, 'fss': 5, 'raglan': 4, 'amder': 1, 'welfar': 1, 'vangin': 1, 'cpa': 3, 'grant': 2, 'wrinkl': 1, 'healthnet': 1, 'bacterema': 1, 'spokeperson': 1, 'conso': 1, 'progrress': 1, 'oopen': 1, 'heatlh': 1, 'corpor': 1, 'ovar': 1, 'protcet': 1, 'doesnot': 2, 'employe': 4, 'aras': 1, 'biot': 1, 'job': 3, 'sarosang': 1, 'anthypertens': 1, 'commcar': 1, 'trachobronchomalacia': 2, 'otn': 1, 'gleut': 1, 'abbras': 1, 'couch': 3, 'dehis': 1, 'cgi': 1, 'synchronousl': 1, 'pickwickian': 1, 'limen': 1, 'resultur': 1, 'deppest': 1, 'penitr': 1, 'phd': 7, 'valsatran': 1, 'viz': 2, 'urv': 1, 'unitr': 1, 'menag': 1, 'ror': 1, 'midzon': 1, 'horrifi': 1, 'onogo': 1, 'fial': 1, 'wxt': 1, 'rheumatolog': 4, 'troponinin': 1, 'liquifi': 1, 'cftx': 3, 'critcal': 1, 'elder': 3, 'tubat': 1, 'colonosocpi': 1, 'ple': 2, 'backward': 2, 'egc': 1, 'acutli': 1, 'prominec': 1, 'pseudohypha': 3, 'creativ': 1, 'golytli': 1, 'supervion': 1, 'wjm': 4, 'hematomoa': 1, 'intramuscular': 2, 'tre': 1, 'circumfer': 1, 'ipmn': 1, 'instersti': 1, 'allianc': 1, 'otomastoid': 1, 'extrav': 2, 'len': 3, 'vasculr': 1, 'vernight': 1, 'blush': 1, 'ransfus': 1, 'perfrom': 1, 'trendin': 1, 'intramedullari': 4, 'bicard': 1, 'hid': 2, 'golytyl': 1, 'differneti': 1, 'jrci': 6, 'priro': 1, 'levopflox': 1, 'rnp': 1, 'llnezolid': 1, 'mushrrom': 2, 'anc': 7, 'resper': 1, 'myopath': 1, 'birthdat': 1, 'piggi': 1, 'enterbact': 1, 'xanthomona': 2, 'disciplinari': 4, 'stenotrophoma': 1, 'dysrhymia': 1, 'difinit': 1, 'nicardipin': 2, 'edenam': 1, 'tranfert': 1, 'cvicu': 10, 'offf': 1, 'stenotrophomana': 1, 'pulmoanri': 1, 'hemofiltr': 1, 'transaxi': 3, 'cloaca': 2, 'hyperconcentr': 1, 'criticad': 4, 'dificult': 1, 'amidoneron': 1, 'cloacea': 1, 'pian': 1, 'yeasterday': 1, 'scanti': 1, 'aean': 1, 'enterobacteria': 1, 'maltophilia': 1, 'anytim': 4, 'neueo': 1, 'bodyfrom': 1, 'cvvhf': 1, 'maltophila': 1, 'multilob': 2, 'reuqir': 1, 'aferbil': 1, 'mulipl': 1, 'fugasl': 1, 'plaesent': 1, 'immunodef': 1, 'ijv': 4, '^l': 1, 'appleid': 1, 'radiologu': 1, 'schatzki': 1, 'esophg': 1, 'esophagram': 3, 'pipricillin': 1, 'lig': 2, 'recuur': 1, 'eccchymot': 1, 'rpo': 1, 'tertiari': 2, 'eurcerin': 1, 'popul': 1, 'trak': 4, 'preload': 6, 'cachexia': 3, 'effer': 2, 'rerurn': 1, 'propohylaxi': 1, 'perll': 1, 'cannulu': 1, 'malnourish': 11, 'prejejunostomi': 1, 'deteriori': 1, 'lmwh': 5, 'thrombot': 2, 'osteoperosi': 1, 'gastrectomi': 4, 'njear': 1, \"she'\": 1, 'parencyhm': 1, 'abnormalti': 1, 'driver': 1, 'zetia': 3, 'hemidia': 1, 'spondylosi': 9, 'fin': 5, 'phragm': 1, 'donepin': 1, 'hemidiapragmat': 1, 'ariceot': 1, 'temt': 1, 'rhythn': 1, 'namenda': 4, 'kci': 1, 'collap': 1, 'carecu': 1, 'pottassiun': 1, 'dependedt': 1, 'pentopr': 1, 'duilut': 2, 'chondrocalcinosi': 1, 'purposel': 1, 'downgo': 5, 'sini': 1, 'pisotriquetr': 1, 'diltiezem': 2, 'currant': 2, 'hemeparesi': 2, 'syp': 2, 'epidos': 1, 'trigli': 1, 'aaddit': 1, 'ldlcalc': 1, 'nutrien': 1, 'immolilz': 1, 'galactomannon': 1, 'desatuturaion': 1, 'metopr': 1, 'quadtant': 1, 'peron': 17, 'stt': 2, 'flaygli': 1, 'celecoxib': 1, 'srtrting': 1, 'homorrhag': 1, 'beaselin': 1, 'antix': 2, 'physiptherapi': 1, 'pantopr': 1, 'yestday': 1, 'duirng': 1, 'hemorrhagica': 1, 'chondrocalcif': 1, 'transfom': 1, 'cef': 1, 'complexion': 2, 'neglect': 4, 'transfusuion': 1, 'conv': 1, 'gn': 6, 'parahypotyriod': 1, 'proteinuria': 4, 'filbril': 1, 'imuran': 2, 'kalexal': 1, 'xopenox': 1, 'spu': 4, 'muddi': 2, 'settin': 1, 'jirovecii': 5, 'virus': 5, 'boxer': 2, 'fda': 2, 'nephrot': 3, 'phop': 1, 'normocellular': 1, 'parvoviru': 1, 'tiw': 2, 'rrv': 3, 'latent': 1, 'atovoquon': 1, 'pyridoxin': 1, 'fbr': 8, 'tpmt': 1, 'tpmp': 1, 'immunoflouresc': 5, 'rpgn': 1, 'parainfluenza': 7, 'acna': 1, 'flut': 10, 'apreci': 1, 'inpt': 3, 'paraflu': 2, 'gof': 1, 'granulocyt': 3, 'antigranulocyt': 1, 'outlet': 3, 'creatitin': 2, 'rediscuss': 4, 'glipizid': 8, 'hypovelemia': 1, 'actu': 3, 'aova': 6, 'portegues': 1, 'herat': 1, 'deadspac': 2, 'trasit': 2, 'pcpap': 1, 'increasinli': 2, 'accompain': 1, 'rto': 3, 'healtyh': 1, 'drese': 1, 'ratedecreas': 1, 'autoamput': 1, 'hypophosphemia': 1, 'venetd': 1, 'electropyt': 1, 'necros': 1, 'henatoma': 1, 'neurotropho': 1, 'novent': 1, 'bearhugg': 1, 'alleyn': 1, 'grovid': 1, 'hover': 6, 'cang': 1, 'spontaneosli': 1, \"'want\": 1, 'parameter': 1, 'grma': 1, 'anamia': 1, 'zofram': 1, 'transx': 1, 'allyven': 1, 'blader': 1, 'feww': 1, 'lisix': 1, 'reddden': 1, 'nephrostomi': 3, 'overdiuresi': 2, 'grap': 1, 'irig': 1, 'diurs': 5, 'uuper': 1, 'increaas': 1, 'correspod': 1, 'accessari': 1, 'normali': 1, '^up': 1, 'accet': 1, 'inconsisitanli': 1, 'watrer': 1, '^^bp': 1, 'significamt': 1, 'prednisoln': 1, 'student': 8, 'anattempt': 1, 'onscarum': 1, 'basck': 1, 'criticid': 1, 'respondi': 1, 'ocverag': 1, 'sdedat': 1, 'quinidin': 2, 'noty': 1, 'ststolic': 1, 'potassim': 1, 'petrou': 2, 'coaxial': 1, 'oc': 2, 'multilink': 1, 'pedion': 1, 'arteriographi': 3, 'exuber': 1, 'recannul': 1, 'celer': 1, 'merci': 1, 'carot': 1, 'roadmap': 2, 'cereb': 1, 'thrombolysi': 1, 'hydrophil': 1, 'thrombectomi': 3, 'stagnant': 1, 'terumo': 1, 'supraclinoid': 2, 'voyag': 1, 'elaps': 1, 'aproach': 1, 'thromboembol': 8, 'inset': 2, 'excercis': 3, 'floven': 1, 'dementiacopd': 1, 'micronas': 1, 'djrc': 1, 'persever': 5, 'withhold': 5, 'cohes': 3, 'ankylosi': 1, 'dimension': 2, 'paracentr': 2, 'acetabulem': 1, 'darcoidosi': 1, 'lyrica': 9, 'radi': 1, 'dlnc': 6, 'budesonid': 2, 'prd': 1, 'mania': 1, 'supratherapeuti': 1, 'charger': 2, 'snbp': 1, 'bioavr': 1, 'boniva': 2, 'pregabilin': 1, 'tendin': 2, 'darvocet': 1, 'prodrom': 6, 'dilitazem': 1, 'mardarin': 1, 'epigloti': 1, 'rrana': 1, 'pt\\x13': 1, 'blanchabl': 4, 'trigemini': 1, 'emphasema': 1, 'abdomon': 1, 'pedestrian': 1, 'dsgauz': 1, 'minivan': 1, 'scene': 2, 'polytrauma': 1, 'aquecel': 1, 'occiput': 1, 'struck': 3, 'intratrach': 2, 'dailli': 2, 'starv': 1, 'freighten': 1, 'parkview': 1, 'puesdomona': 1, 'den': 1, 'diaphys': 1, 'cerivc': 1, 'pneumohemothorax': 1, 'vincent': 1, 'retrocrur': 3, 'extreiti': 2, 'modr': 1, 'reanastomosi': 1, 'dilaut': 1, 'hemicolectomi': 2, 'headed': 3, 'ipra': 2, 'areat': 1, 'dbc': 4, 'fhold': 1, 'quiescent': 2, 'asplen': 1, 'hyperexpand': 6, 'consum': 1, 'shfd': 5, 'subren': 2, 'lympadenopathi': 2, 'staf': 3, 'hpylori': 1, 'itp': 1, 'regen': 1, 'smallest': 2, 'hemorhag': 1, 'abuterol': 1, 'regener': 1, 'enker': 1, 'corrobor': 4, 'zentker': 1, 'parieto': 2, 'carpometacarp': 1, 'hemotolgi': 1, 'flax': 1, 'cardiomeg': 5, 'leukopenica': 1, 'tacchi': 1, 'pancytopen': 3, 'erythematosu': 2, 'spleenomegali': 2, 'unemp': 1, 'complement': 2, 'amenorrhea': 1, 'dna': 2, 'glucosamin': 1, 'birth': 1, 'tacchycardia': 1, 'tamponand': 1, 'tampanad': 1, 'seros': 1, 'herbal': 1, 'squeek': 1, 'thio': 1, 'squeev': 1, 'hrmodynam': 2, 'positioin': 1, 'acetalazolamid': 1, 'diminh': 1, 'dysnea': 1, 'mlsof': 1, 'nasalpharyng': 1, 'mnoc': 1, 'lug': 1, 'streph': 1, 'fenta': 2, 'merepenen': 1, 'sorb': 2, 'sampp': 1, 'bacteriamia': 1, 'fungmia': 1, 'oprer': 1, 'stonger': 1, 'pleual': 1, 'weakn': 1, 'luquid': 1, 'emper': 3, 'canulla': 1, 'extans': 1, \"req'\": 2, 'allyvyn': 1, '^^wob': 2, 'akin': 1, 'flexas': 2, \"abg'\": 2, 'constrast': 1, 'swalow': 1, 'rhochoru': 1, 'absess': 1, 'contiunu': 1, 'prision': 1, 'drainm': 1, 'benopro': 1, 'replacinf': 1, 'oos': 1, 'peat': 2, 'proppofol': 2, 'meropenam': 3, 'ulser': 1, 'jaudic': 1, 'gol': 1, 'exrcis': 1, 'queation': 1, 'candidemia': 1, 'atriocav': 1, 'benifib': 1, 'caspofungen': 1, 'ssoft': 1, 'movabl': 2, 'caspfungin': 1, 'cirrosi': 1, 'compair': 1, 'caller': 1, 'ercent': 1, 'endothorac': 1, 'genta': 3, 'casperfungin': 1, 'aersol': 3, 'midli': 4, 'cocciin': 1, 'intaubt': 2, 'carv': 1, 'myulti': 1, 'poa': 6, 'ield': 1, 'picclin': 1, 'upperextrem': 1, 'respnd': 1, 'visistor': 1, 'shr': 1, 'beliv': 2, 'stil': 3, 'delemia': 1, 'superimposit': 2, 'mnonitor': 1, 'maaintain': 1, 'throath': 1, 'nonrebrath': 1, 'meropemen': 1, 'peptic': 5, 'kayexalaet': 1, 'mole': 1, 'wheterh': 1, 'diatstol': 1, 'orienetd': 1, 'auscultaton': 1, 'compes': 1, 'antiarrythm': 3, 'iconsolid': 1, 'claustrophobia': 2, 'applesuac': 1, 'repletiion': 1, 'levofloxaciin': 2, 'carbohydr': 5, 'nsrvt': 1, 'toothett': 3, 'tachyarrythmia': 1, 'puttin': 1, 'levalbuterol': 2, 'procuct': 1, 'compasin': 1, 'lef': 1, 'cml': 3, 'hypotenion': 1, 'txed': 1, 'montiro': 1, 'yesterdya': 1, 'disodium': 1, 'patientcodein': 2, 'gretar': 1, 'hide': 4, 'meme': 1, 'smolder': 1, 'caroti': 1, 'extracrani': 4, 'clturesd': 1, 'abnml': 2, 'mirtazipin': 1, 'att': 2, 'autoreg': 1, 'falx': 1, 'possibel': 2, 'hypoporfus': 1, 'pamidron': 4, 'empriic': 1, 'neuo': 1, 'orreg': 2, 'sytolilc': 1, 'ptot': 1, 'functio': 1, 'amopunt': 1, 'colr': 2, 'ectpi': 1, 'coclostomi': 1, 'impaiir': 1, 'exhbit': 1, 'longitudin': 4, 'phenylepherin': 1, 'fremitu': 3, 'flutterto': 1, 'resucuit': 1, 'eventaulli': 1, 'admsion': 1, 'fluorinef': 1, 'abal': 1, 'robitiussin': 1, 'presusr': 1, 'reolv': 1, 'spprimari': 1, 'egophoni': 7, 'penumonectomi': 1, 'mnth': 1, 'aysmptomat': 1, 'preacher': 1, 'spondylolisthesi': 1, 'scotal': 1, 'please': 1, 'perph': 1, 'linearli': 1, 'prepsep': 1, 'seedi': 1, 'earil': 1, 'atelectati': 1, 'lma': 2, 'hemodynamioc': 1, 'fussi': 1, 'penial': 1, 'statiu': 1, 'humifi': 1, 'detrol': 1, 'bcoz': 2, 'thymic': 1, 'rgm': 2, 'combineb': 1, 'ipap': 2, 'ambiem': 1, 'uag': 2, 'leguionella': 1, 'propofopl': 1, 'shore': 3, 'classifi': 3, 'propofl': 2, 'hifi': 1, 'ocd': 3, 'schizo': 2, 'insignific': 4, 'rotari': 1, 'appropiatelt': 1, 'clozapin': 3, 'epap': 2, 'infilter': 4, 'doen': 1, 'pgi': 6, 'phychiatr': 1, 'midst': 2, 'unpredict': 1, 'thiothixen': 1, 'exaccerb': 2, 'ranbl': 1, 'repositio': 2, 'hha': 2, 'dishcarg': 1, 'anteroposteriorli': 1, 'tomographi': 6, 'amdinist': 1, 'aprv': 2, 'ctsx': 1, 'bronchscopi': 2, 'aparatu': 1, 'aggitit': 1, 'ddri': 1, 'tubs': 1, 'deverfesc': 1, 'careveiw': 1, 'lesi': 1, 'emtoin': 1, 'phigh': 1, 'apicolater': 1, 'pboot': 2, 'mrone': 1, 'recuper': 1, 'portoven': 1, 'tlow': 1, 'dresss': 1, 'regimn': 2, 'plow': 1, 'hsift': 1, 'thoarcic': 1, 'calicum': 2, 'undrain': 1, 'suppres': 2, 'comnfort': 1, 'thorcotomi': 1, 'intermittenlti': 1, 'replar': 1, 'eahn': 2, 'shsf': 8, 'ehad': 2, 'interfac': 2, 'rapi': 1, 'sgnific': 1, 'network': 1, 'scane': 1, 'stringi': 2, 'rextub': 1, 'balx': 1, 'aqaugel': 1, 'criti': 1, 'deformati': 1, 'dopper': 2, 'rheumatiod': 1, 'dischang': 1, 'checmotherapi': 1, 'asymetri': 3, 'worsend': 1, 'tohold': 1, 'conflict': 7, 'neuroendocrin': 3, 'extuab': 2, 'liekli': 4, 'contoinu': 1, 'mucocys': 1, 'tumeo': 1, 'abdomino': 1, 'zosi': 1, 'extensis': 1, 'carbotaxel': 1, 'futurw': 1, 'nuetropen': 1, 'undifferenti': 1, 'bllod': 3, 'fibrill': 1, 'lyphadenopathi': 2, 'hsopic': 1, 'militari': 2, 'hex': 2, 'treamtnet': 1, 'leukopen': 2, 'speed': 3, 'iregularli': 1, 'miscel': 2, 'xtr': 1, 'feautr': 1, 'proclhorperazin': 1, 'arranegemnt': 1, 'ivss': 1, 'feasibili': 1, 'asv': 1, 'exppiraotri': 1, 'srranegemnt': 1, 'palliat': 3, 'paraneoplast': 1, 'applicat': 1, 'bisphosphon': 1, 'unprofession': 1, 'intrabronchi': 1, 'fna': 1, 'famiili': 1, 'cefepema': 1, 'referrs': 1, 'realtiv': 2, 'restar': 2, 'curabl': 1, 'prommin': 1, 'asx': 3, 'ocurs': 1, 'afibwith': 1, 'diltiazim': 1, 'suppment': 1, 'ainstem': 1, 'halloween': 1, 'filgastrin': 1, 'tumour': 3, 'patienttetracyclin': 1, 'peritransf': 1, 'cremat': 1, 'metast': 2, 'decb': 1, 'dures': 2, 'taxel': 1, 'buri': 2, 'finsih': 1, 'rlung': 1, 'checmo': 1, 'anticpagul': 1, 'methyprednisolon': 2, 'thoruhgout': 1, 'shge': 1, 'sast': 3, 'monitro': 1, 'hyperoximia': 1, 'cliber': 1, 'tmin': 1, 'thrughout': 1, 'evar': 1, 'nauseua': 1, 'endograft': 1, 'bec': 1, 'aortobifem': 1, 'morphon': 2, 'junctiion': 1, 'preasur': 1, 'hyperattenu': 2, 'multichamb': 1, 'aorto': 1, 'aortoenter': 1, 'unremak': 1, 'ower': 1, 'periaort': 2, 'endoleak': 1, 'discussiion': 1, 'pacut': 1, 'imorov': 1, 'pivott': 1, 'possbl': 2, 'galbladd': 2, 'nnote': 1, 'abe': 1, 'argument': 5, 'innappropi': 1, 'actuallli': 2, 'fowler': 4, 'bedroom': 2, 'loressor': 1, 'occasioanl': 1, 'andf': 2, 'oreient': 1, 'basellin': 1, 'awawk': 1, 'resposn': 1, 'inatct': 1, 'intregr': 1, 'yancher': 1, 'posv': 1, 'inittiali': 1, 'mre': 1, 'seadtion': 1, 'czrevu': 1, 'coasr': 1, 'ned': 1, 'retraint': 1, 'thicwhit': 1, 'rerestrain': 1, 'demostr': 1, 'beclov': 1, 'humidi': 1, 'glassi': 1, 'indentif': 1, 'azitroamycin': 1, 'ceftraixon': 3, 'nifidipin': 1, 'pantamidin': 1, 'intunb': 1, 'keratio': 1, 'aztreom': 1, 'nidepin': 1, 'ffm': 1, 'desatru': 1, 'requist': 1, 'lactulous': 2, 'exsufl': 2, 'squees': 1, 'diast': 3, 'inertact': 1, 'vascath': 1, 'hrrr': 1, 'withperf': 1, 'guillan': 2, 'jewleri': 1, 'thermoregul': 1, 'culltur': 3, 'drymm': 1, 'fremetu': 1, 'seroneg': 2, 'cvo': 2, 'bpsyst': 1, 'overcom': 1, 'duod': 1, 'denei': 1, 'ogilivi': 1, 'syphili': 2, 'regurgitatiaon': 1, 'concerv': 1, 'lvedv': 1, 'vasodil': 8, 'mdp': 3, 'meat': 3, 'mci': 6, 'radiopharmaceut': 6, 'megac': 2, 'coccyg': 4, 'ymf': 7, 'yankaw': 2, 'preventit': 1, 'gemcitabin': 2, 'pemetrex': 2, 'obstr': 1, 'djrx': 1, 'bronchosopi': 1, 'whiteout': 7, 'chonic': 2, 'infl': 1, 'pscyh': 1, 'serequil': 2, 'osteodystrophi': 2, 'unhook': 1, 'jvg': 5, 'warrent': 2, 'jerki': 1, 'consisitenetli': 1, 'menatl': 1, 'cetriaxon': 4, 'repoet': 1, 'levofloxacillin': 2, 'coamnd': 1, 'diffucalti': 1, 'thenpt': 1, 'placc': 1, 'desptit': 1, 'arthoplasti': 1, 'repitit': 1, 'stubborn': 1, 'guiafenisin': 1, 'antihistamin': 1, 'halsol': 1, 'azithrmycin': 1, 'disynchroni': 1, 'radioopac': 1, 'atrail': 1, 'pertussin': 1, 'concens': 1, 'radiopac': 3, 'fortun': 3, 'ajdunct': 1, 'trydin': 1, 'unstimul': 3, 'dysynchronon': 1, 'prvc': 8, 'adit': 1, 'adequit': 1, 'strenal': 1, 'avaial': 1, 'disychron': 1, 'shfit': 1, 'indomethecin': 1, 'prehypertens': 1, 'conest': 2, 'behalf': 5, 'item': 6, 'aib': 1, 'dimisnih': 1, 'primarli': 1, 'agrees': 1, 'simplifi': 1, \"does'nt\": 2, \"'and\": 1, 'oncom': 2, 'pilonid': 2, 'neutropnia': 1, 'relatuv': 1, 'paprecita': 1, 'sotolol': 1, 'vva': 1, 'nac': 5, 'tachpneiuc': 1, 'atrient': 1, 'lso': 1, 'serevet': 1, 'apar': 1, 'veru': 1, 'pneumoia': 2, 'nsclung': 1, 'inlcud': 1, 'restor': 5, 'epmpyema': 1, 'accompan': 1, 'drawal': 1, 'admx': 1, 'nam': 2, 'usu': 1, 'kinnaer': 1, 'vsicu': 1, 'auacel': 1, 'hemdynam': 2, 'amongst': 2, 'sscp': 2, 'diarhea': 1, 'ehtic': 1, 'hame': 1, 'gangrren': 1, 'vicu': 1, 'neosyenphrin': 1, 'spftsorb': 1, 'dcoper': 1, 'toleer': 1, 'ssinsulin': 1, 'respones': 1, 'toletr': 1, 'amniodaron': 1, 'bretah': 1, 'ogtub': 1, 'rythem': 2, 'givrn': 1, 'turniong': 1, 'downslop': 4, 'ahpb': 1, 'pericariectomi': 1, 'pal': 2, 'metopropolol': 1, 'feelow': 1, 'quid': 1, 'startedprednison': 1, 'unlikley': 2, 'overdr': 1, 'stablizi': 1, 'corticosteroid': 5, 'wdwn': 2, 'neurosarcoidosi': 2, 'supertherapeut': 3, 'folri': 1, 'affes': 1, 'neurosarcoid': 2, 'mastectomi': 2, 'hyst': 1, 'possit': 1, 'broader': 4, 'likey': 4, 'odererd': 1, 'withu': 1, 'obe': 1, 'urnin': 1, 'wallker': 1, 'didnot': 1, 'nonformulari': 1, 'cfl': 1, 'jeviti': 3, 'pseudamon': 1, 'antipsychot': 6, 'eccyhmosi': 1, 'punch': 2, 'albutero': 1, 'ret': 1, 'showel': 1, 'cardioprotect': 1, 'uncl': 2, 'hypoglyceamia': 1, 'lisnopril': 1, 'risperd': 5, 'orthoponea': 1, 'reanal': 1, 'carbepenem': 1, '^tth': 1, 'hyperchlorem': 5, 'cnsd': 2, 'mannag': 2, 'hbg': 2, 'incorpor': 1, 'epoeitin': 1, 'dysynch': 1, 'suctionedfor': 1, 'pseud': 1, 'fise': 1, 'overdialyz': 1, 'guestur': 1, 'qb': 1, 'edam': 1, 'cilastatin': 2, 'pseudocholinesteras': 1, 'stength': 1, 'trendingdong': 1, 'recreas': 1, 'priscrib': 1, 'esomeprazol': 1, 'sbplow': 1, 'humalin': 1, 'aureginosa': 1, 'jjf': 1, 'humullin': 1, 'aeurginosa': 1, 'endocrinolog': 1, 'pseudoma': 1, 'spl': 1, 'wrespiratori': 1, 'systoc': 1, 'novolog': 2, 'effecti': 1, 'trsat': 1, 'vpice': 1, 'ngsf': 2, 'judg': 1, 'noncuf': 1, 'cntinu': 1, 'convertig': 1, 'wp': 1, 'ssment': 1, 'tachypneak': 1, 'susbequet': 1, 'ditiazem': 2, 'mailto': 3, 'transufs': 1, 'hdfor': 1, 'tbg': 1, 'cog': 1, 'tuptak': 1, 'hemodialyz': 1, 'transplat': 1, 'daylight': 1, 'csa': 1, 'dound': 1, 'medivion': 1, 'susbequ': 1, 'unph': 1, 'trabnsient': 1, 'correlatingpt': 1, 'hypercholesterol': 1, 'antipseudomon': 1, 'clincial': 3, 'hypophosphatemia': 5, 'sensitivi': 7, 'tidac': 1, 'protugues': 1, 'diaylsi': 1, 'incontinen': 1, 'quinolon': 6, 'pseudomna': 1, 'azb': 2, 'rechck': 1, 'gangcyclovir': 1, 'biacodyl': 1, 'hitt': 1, 'fondapar': 1, 'calctbg': 1, 'distresss': 1, 'justifi': 2, 'diltiazam': 2, 'tunnl': 1, 'hemodialyiisi': 1, 'pansensit': 3, 'exo': 1, 'tft': 4, 'viremia': 1, 'ciontinu': 1, 'tryin': 1, 'asthama': 1, 'diltazam': 1, 'preround': 2, 'inspitori': 1, 'portuges': 4, 'hyperlipidema': 2, 'pneumnonia': 2, 'finsulin': 1, 'twf': 3, 'aureou': 1, 'birder': 1, 'diphenhydramin': 3, 'demonstrate': 1, 'staphaur': 1, 'minocyclin': 1, 'fati': 1, 'pannicul': 1, 'exploratori': 2, 'collectino': 1, 'appendic': 1, 'wounc': 1, 'exlap': 2, 'peritin': 1, 'mixtur': 2, 'baium': 1, 'viscu': 1, 'turbid': 3, 'plactment': 3, 'anastomot': 1, 'sigmoidectomi': 1, 'duo': 2, 'trajectori': 1, 'omentum': 3, 'peach': 1, 'insomia': 1, 'biospi': 4, 'neumon': 1, 'expedit': 2, 'progressov': 1, 'dermatomyos': 1, 'odl': 1, 'transpulmon': 1, 'pregnant': 3, 'macrophag': 1, 'infiltar': 1, 'knowd': 1, 'diluadid': 2, 'motnh': 1, 'hme': 2, 'trasnfger': 1, 'dysonea': 2, 'abnom': 2, 'tbbx': 2, 'hypereosinophil': 1, 'hp': 2, 'worsten': 3, 'priorit': 1, 'ehrilichia': 1, 'syphilli': 1, 'igm': 5, 'hypoalbuminem': 1, 'monocyt': 1, 'elus': 2, 'pulsesl': 1, 'spirochet': 1, 'aliment': 1, 'tbna': 1, 'hemolys': 2, 'lymphocytosi': 2, 'varicella': 3, 'leptospira': 1, 'galactomann': 1, 'ondansetrol': 1, 'hyptotens': 1, 'hanta': 2, 'hlh': 1, 'contibut': 2, 'postinflammatori': 1, 'multisystem': 1, 'lethospirosi': 1, 'vzv': 2, 'pivet': 1, 'lyme': 1, 'histoplasma': 3, 'ehrlichia': 3, 'ttg': 1, 'vhhc': 1, 'behcet': 1, 'arboviru': 1, 'ascet': 3, 'tna': 1, 'leptospirosi': 1, 'recusit': 1, 'abid': 2, 'ceruloplasmin': 1, 'hereditari': 1, 'mutat': 2, 'mice': 1, 'multiorgan': 3, 'lymphocyctosi': 1, 'abnormail': 1, 'electrophoresi': 1, 'thrombotytopenia': 1, 'erlichiosi': 1, 'restricion': 1, 'sjogren': 1, 'gaa': 1, 'boipsi': 1, 'ivsion': 1, 'asterix': 1, 'colorless': 1, 'leptomening': 7, 'gdextros': 1, 'rodent': 1, 'choriomening': 1, 'vector': 1, 'ippv': 2, 'asterixisi': 1, 'bedsi': 1, 'lymphomcyt': 1, 'lymphocytochoriomening': 1, 'hhv': 2, 'unrel': 6, 'noninfecti': 5, 'cound': 1, 'bcse': 1, 'hav': 2, 'entak': 1, 'noncardiogen': 2, 'pcr': 10, 'hhc': 1, 'whichev': 1, 'pantoprozol': 2, 'thrirsti': 1, 'enceph': 7, 'vdrl': 1, 'demyelin': 3, 'sprue': 1, 'cytometri': 2, 'otoxoc': 1, 'ration': 2, 'hemochromatosi': 2, 'effis': 1, 'bilarer': 1, 'treponem': 1, 'visi': 1, 'lympanopathi': 1, 'abdnorm': 1, 'cecal': 3, 'cecu': 1, 'umbrella': 2, 'ehospit': 1, 'ogilvi': 3, 'loom': 1, 'ureterovesicular': 1, 'unsupport': 5, 'rtrad': 1, 'predniselon': 1, 'mididrin': 1, 'palabl': 1, 'fopr': 1, 'candidia': 1, 'tracheiti': 2, 'thorough': 1, 'levadopa': 2, 'pilot': 1, 'imper': 1, 'distraught': 2, 'radail': 1, 'doa': 1, 'dimminish': 1, 'perspir': 1, 'frequantli': 1, 'withouth': 1, 'iavb': 1, 'rhd': 3, 'percodan': 2, 'tranx': 4, 'nwb': 1, 'receiven': 1, 'pinki': 1, 'asacol': 2, 'ccon': 1, 'furthur': 2, 'xxx': 4, 'withsob': 1, 'coolneb': 1, 'atroven': 2, 'tachicard': 1, 'cought': 2, 'effcet': 1, 'refkect': 1, 'ocver': 1, 'glyberid': 1, 'suboptimalwil': 1, 'stanidng': 1, 'jplace': 1, 'ifn': 2, 'elavil': 1, 'iiic': 1, 'titrabl': 1, 'melenoma': 1, 'hoem': 1, 'titanium': 1, 'amytriptylin': 1, 'compel': 3, 'bst': 1, 'onoclogist': 1, 'glyburid': 4, 'unkink': 1, 'arthroma': 1, 'fn': 8, 'affabl': 1, 'hosoit': 1, 'azipthromycin': 1, 'lvf': 2, 'hypothyr': 1, 'lith': 1, 'haspain': 1, 'amll': 1, 'alum': 1, 'percoet': 1, 'shiftmetabol': 1, 'palit': 1, 'clariti': 1, 'faairli': 1, 'cchang': 1, 'coccyn': 1, 'lpuls': 1, 'fidget': 1, 'aroun': 1, 'irrrig': 1, 'irrigant': 1, 'uper': 1, 'proedur': 1, 'holdup': 1, 'adenomatoid': 1, 'trolard': 1, 'osteomyl': 2, 'bactreial': 1, 'periradicular': 1, 'pachi': 1, 'adduct': 3, 'stomat': 1, 'vertebrobasilar': 1, 'impar': 1, 'acutelyworsen': 1, 'senc': 2, 'dissatisfi': 1, 'oe': 1, 'appolog': 1, 'knife': 1, 'fiduci': 2, 'nslc': 1, 'bonchovascular': 1, 'hypocholesterolemia': 1, 'rescan': 2, 'osteotomi': 1, 'kyphoscoliosi': 4, 'psox': 1, 'tkr': 7, 'pneuomothorax': 1, 'glycerid': 1, 'lockout': 1, 'interpos': 1, 'misdirect': 1, 'pleurovac': 1, 'wate': 1, 'polymyalgia': 1, 'dobutamon': 1, 'bale': 2, 'cymbalta': 6, 'shatter': 1, 'herapin': 1, 'tubef': 1, 'wafe': 1, 'deoderm': 1, 'patter': 1, 'oink': 1, 'zyprexin': 1, 'thallium': 2, 'perhr': 1, 'dopain': 1, 'carckl': 1, 'cantanker': 1, 'giuac': 1, 'strait': 1, 'lone': 2, 'occassionali': 2, 'poosibl': 1, 'categori': 2, 'warfain': 1, 'kayaxol': 1, 'cholinerg': 1, 'mvoe': 1, 'comtinu': 2, 'dopaim': 1, 'verab': 1, 'hurri': 1, 'hell': 2, 'doputamin': 1, 'pleaural': 2, 'descib': 2, 'toom': 1, 'mrge': 2, 'pleuural': 1, 'danglig': 1, 'cholecyctilit': 1, 'viabil': 2, 'duoern': 1, 'simmilar': 1, 'histamin': 2, 'antiplatelet': 3, 'urban': 1, 'ectasia': 5, 'adequatli': 1, 'sagit': 1, 'bifasicular': 1, 'ambigu': 1, 'spat': 1, 'myoglobinuria': 1, 'paresi': 3, 'brachioradiali': 1, 'decrement': 2, 'eveid': 2, 'acetabular': 4, 'valproic': 4, 'hypexia': 1, 'upgaz': 1, 'prohress': 1, 'cct': 4, 'survey': 1, 'iubprofen': 1, 'restarint': 1, 'rightsid': 1, 'claustrophob': 3, 'coopar': 1, 'asever': 1, 'exersis': 1, 'dariculopahti': 1, 'submucos': 1, 'dmultipl': 1, 'bpap': 2, 'sttemp': 1, 'radiculopahti': 1, 'underlyinig': 1, 'strido': 1, 'omem': 1, 'sttempt': 1, 'unmet': 1, 'scc': 8, 'medaistin': 1, 'scca': 2, 'reccomedn': 1, 'radiculopathi': 2, 'bedlin': 1, 'nirs': 1, 'radioluc': 3, 'surger': 1, 'anastamosi': 2, 'cea': 4, 'industri': 1, 'chk': 1, 'metopralol': 1, 'ureteroscopi': 2, 'flag': 1, 'premorbid': 1, 'attg': 6, 'negaitv': 2, 'emaci': 2, 'nonradiopaqu': 1, 'ashen': 2, 'chect': 1, 'lavo': 1, 'azithrimycin': 1, 'reportedthat': 1, 'lsb': 2, 'alp': 2, 'steatohepat': 1, 'qmonday': 1, 'clopidogrel': 4, 'adminsit': 1, 'reck': 1, 'indict': 2, 'downto': 1, 'appropx': 1, 'altaplas': 1, 'opaciti': 1, 'hydroxyurea': 3, 'mpsc': 1, 'pss': 1, 'hydrea': 1, 'heati': 1, 'elevaet': 1, 'geriatrician': 1, 'bldg': 1, 'povh': 1, 'calledto': 1, 'infeciton': 1, 'hydorcortison': 1, 'phoin': 1, 'vietnames': 1, 'ceftazin': 1, 'mkore': 1, 'prevou': 2, 'dssd': 3, 'tridyn': 1, 'wsd': 1, 'extubt': 3, 'edmat': 1, 'erd': 1, 'mushroon': 2, 'appropropri': 1, 'astreonam': 1, 'mimim': 1, 'ncslc': 1, 'chantix': 1, 'vareniclin': 1, 'viocodin': 1, 'hypomagnisemia': 1, 'fup': 2, 'constent': 1, 'lymp': 1, 'dicc': 1, 'vocabulari': 1, 'considert': 1, 'dehydratioin': 1, \"day'\": 1, 'polymicrobi': 7, 'liuqid': 1, 'besyl': 2, 'hk': 5, 'cuad': 1, 'proceur': 1, 'corda': 1, 'posterioli': 1, 'tendini': 1, 'eustachian': 3, \"'a\": 1, 'verbiag': 1, 'valuium': 1, 'hemidiaphrapm': 1, 'shelik': 1, 'signfici': 4, 'totprot': 1, 'meningism': 1, 'tread': 1, 'hrct': 4, 'banalc': 1, 'pendi': 1, 'cholest': 2, 'subsalicyl': 1, 'bismuth': 1, 'kaopect': 1, 'aksb': 2, 'arso': 1, 'midclavicl': 1, 'psuedomon': 1, '^d': 1, 'pizza': 1, 'producitv': 1, 'prgress': 1, \"cx'\": 2, 'insmal': 1, 'cepefim': 1, 'albutreol': 1, 'hydralyzin': 1, 'hist': 1, 'pychiatr': 1, 'femerol': 1, 'legionna': 1, 'procudur': 1, 'recv': 1, 'interpert': 1, 'movem': 1, 'microdata': 2, 'scelera': 1, 'weaend': 1, 'cryo': 1, 'recept': 2, 'invest': 1, 'hypernatrium': 1, 'favour': 1, 'choleysist': 1, 'erythremat': 1, 'antcip': 1, 'dyne': 2, 'adust': 1, 'rear': 1, 'unablet': 1, 'moniotor': 1, 'endocardit': 1, 'ptr': 1, 'betamethason': 2, 'reposons': 1, 'depo': 1, 'graphic': 1, 'verbalis': 1, 'effctiv': 1, 'cholecyt': 1, 'qti': 1, 'surprizingli': 1, 'freuqent': 1, 'assault': 3, 'panu': 2, 'subclavi': 1, 'precauion': 1, 'peeep': 1, 'lrage': 1, 'occul': 1, 'clobestol': 1, 'vigilantli': 2, 'satisafctori': 1, 'rlc': 1, 'ectopt': 1, 'amont': 1, 'clobestsol': 1, 'soudn': 1, 'sequent': 1, 'twelv': 1, 'transpulmonari': 2, 'baratr': 1, 'condidt': 1, 'availi': 1, 'liner': 2, 'pfr': 2, 'schizoprenia': 1, 'fuid': 1, 'ont': 1, 'posiibl': 1, 'superviss': 1, 'cuvrv': 1, 'mting': 1, 'nonadher': 1, 'maintaint': 1, 'wain': 1, 'prc': 2, 'verb': 1, 'toil': 1, 'legionnair': 3, 'laast': 1, 'comppens': 1, 'abnormalitiy': 1, 'todat': 2, 'pase': 1, 'colum': 2, 'pecocet': 1, 'andm': 1, 'ridden': 1, 'sclqae': 1, 'mie': 3, 'incenitv': 1, 'riclast': 1, 'ibandron': 2, 'lmidron': 1, 'clinici': 1, 'bonchiti': 1, 'hypenatremia': 1, 'convalesc': 1, 'orlb': 1, 'delec': 1, 'nocuturn': 1, 'intetmitt': 1, 'empric': 2, 'legnionella': 1, 'rhochi': 1, 'pneuomonia': 2, 'aspiraiton': 1, 'gentlr': 1, 'monomorph': 2, 'shit': 1, 'persev': 3, 'morphic': 1, \"tf'\": 2, 'especilli': 1, 'suciotn': 1, 'hemodynamicli': 2, 'catopril': 1, 'cul': 1, 'cpcp': 2, 'asb': 1, 'poulmonari': 1, 'mulitlobular': 1, 'resucit': 2, 'famli': 1, 'outwardli': 1, 'completli': 1, 'nusr': 1, 'visitng': 1, 'larang': 1, 'reconsclip': 2, \"'snsr\": 1, 'nmb': 1, 'plugg': 1, 'retroperitonael': 1, 'serivc': 1, 'atart': 1, 'infectin': 1, 'laryhg': 1, 'nremain': 1, 'stomcach': 1, 'akinwat': 1, 'intraprocedur': 2, 'mucomist': 3, 'obatin': 1, 'intiti': 4, 'sucraf': 1, 'vytorin': 1, 'hopsit': 2, 'fluticasin': 1, 'endometri': 2, 'callou': 1, 'dipp': 1, 'hyperplast': 3, 'xri': 1, 'choleycystectomi': 1, 'hydrobromid': 3, 'tylenolol': 2, 'phenobarb': 3, 'clarithromycin': 2, 'grandmoth': 2, 'bailar': 1, 'malabsorpt': 1, 'nasonex': 1, 'boil': 1, 'adj': 3, 'hepaticojejunostomi': 1, 'cwia': 1, 'pjp': 5, 'neutrapen': 1, 'outburst': 2, 'readd': 1, 'myelosupress': 1, 'myocardia': 2, 'cefepem': 2, 'stoneman': 1, 'condsid': 1, 'pellucidum': 2, 'orthodrom': 1, 'schf': 3, 'childdren': 1, 'coagulapath': 1, 'yersinia': 1, 'string': 1, 'eia': 5, 'accordigli': 1, 'vibrio': 1, 'alkelem': 1, 'pentoxifyllin': 1, 'cultru': 1, 'euthyroid': 1, 'antagonist': 2, 'campylobact': 2, 'surrog': 1, 'chaplain': 2, 'dopplear': 1, 'etiomad': 1, 'hypothryroid': 1, 'hematologist': 1, 'neuromusc': 2, 'angiotensin': 1, 'ohter': 1, 'pentoxyfillin': 1, 'acidoci': 1, 'jhere': 1, 'bbker': 1, 'eminclud': 1, 'danazol': 1, 'bradypnea': 1, 'myelofibrosi': 1, 'cortstim': 3, 'hydroxylurea': 1, 'intron': 1, 'hazzi': 1, 'bioavailibilti': 1, 'ish': 2, 'fmask': 1, 'dexmedetomidin': 3, 'vpa': 2, 'glucont': 1, 'fece': 7, 'sriel': 1, 'draiin': 1, 'lllpna': 1, 'serel': 1, 'congeat': 1, 'fley': 1, 'prethicken': 4, 'regurgittaion': 1, 'cmii': 1, 'ivh': 2, 'diffrenc': 1, 'bradicard': 1, 'hypercholorem': 1, 'retsart': 1, 'decin': 1, 'barotrauma': 4, 'cepftim': 1, 'nacrot': 1, 'shink': 1, 'mpression': 2, 'dexemethason': 1, 'phlebotom': 1, 'transamitini': 1, 'leukoencephalopati': 1, 'ritonovir': 2, 'shrink': 3, 'kinet': 4, 'colleg': 2, 'chlorhexedin': 1, 'unorthodox': 1, 'fenanyl': 1, 'unprompt': 1, 'icp': 2, 'decompos': 1, 'encephalpathi': 1, 'entens': 1, 'etiol': 1, 'hmo': 1, 'hpome': 1, 'consost': 1, 'washcloth': 1, 'reconstitut': 4, 'chlor': 1, 'dital': 1, 'knuckl': 1, 'takeoff': 1, 'certif': 1, 'geograph': 2, 'popular': 3, 'pyrimethamin': 1, 'bradyca': 1, 'tracjh': 1, \"gnr'\": 1, 'defend': 3, 'tor': 1, 'arv': 2, 'diulatin': 1, 'initai': 1, 'dysregul': 3, 'radiocontrast': 1, 'cryptococcu': 1, 'unasses': 1, 'secrest': 2, 'vascularpreserv': 1, 'hypoton': 5, 'soduim': 1, 'sulfadizin': 1, 'seiaur': 1, 'leukencephalopathi': 1, 'mannitol': 1, 'affair': 1, 'precuss': 1, 'hyperhydr': 1, 'youngest': 1, 'familiar': 3, 'hypernutremia': 2, 'contempl': 2, 'recieiv': 2, 'ong': 1, 'clorhexedin': 1, 'confront': 2, 'aswer': 1, 'hypereflexia': 1, 'thlenol': 1, 'peac': 3, 'surviv': 3, 'stagnat': 1, 'acrocyanosi': 1, 'reyetaz': 1, 'reinvolv': 1, 'disproportion': 1, 'pentobarbit': 2, 'ototox': 1, 'onog': 1, 'manomet': 2, 'gre': 2, 'haartwith': 1, 'tting': 1, 'microbi': 1, 'apnpr': 1, 'hyperreflexia': 1, 'scew': 1, 'reticulocyt': 2, 'immatur': 2, 'unsatisfi': 1, 'perimesencephal': 1, 'recrudes': 1, 'pml': 3, 'microorg': 3, 'practition': 2, 'pharmd': 3, 'diari': 2, 'insynchron': 1, 'assista': 1, 'contribtuion': 1, 'aminoglycosid': 3, 'purchas': 1, 'tuft': 1, 'vestibular': 2, 'dramtic': 1, 'covner': 1, 'myoclonu': 4, 'macrocyt': 3, 'ogress': 1, 'litter': 1, 'rdia': 1, 'blee': 2, 'gerealo': 1, 'uncal': 2, 'pointer': 1, 'gangren': 5, 'tynelol': 1, 'openli': 1, 'xigri': 1, 'botain': 1, 'trippl': 3, 'voriconozol': 1, 'tordol': 1, 'hiatu': 6, 'bzd': 2, 'hypov': 1, 'various': 1, 'ilopsoa': 1, 'stohnman': 1, 'primquin': 1, 'bruie': 1, 'tricor': 2, 'biater': 9, 'idic': 1, 'trasnlat': 1, 'firsthand': 1, 'senstiv': 1, 'myocolonu': 1, 'atax': 1, 'whees': 1, 'diagon': 1, 'altert': 1, 'hu': 2, 'illiopsoa': 1, 'bel': 1, 'trabecul': 4, 'primaqin': 1, 'microangiopathi': 1, 'sevelem': 2, 'unfamiliar': 1, 'metoptolol': 1, 'refusu': 1, 'poison': 2, 'rarefact': 1, 'narcotica': 1, 'aneur': 2, 'primaquon': 1, 'naficillin': 1, 'pneumoina': 1, 'hyposed': 1, 'lanzoprazol': 1, 'methylnaltrexon': 2, 'melana': 2, 'guidan': 1, 'shose': 1, 'unlikl': 1, 'infectio': 1, 'unmask': 2, 'severaql': 1, 'thyromegali': 12, 'microischem': 1, 'mosaic': 4, 'traansfer': 1, 'atalectasi': 5, 'weari': 1, 'unur': 1, 'oof': 1, 'finerg': 1, 'pneumococ': 1, 'wing': 1, 'interduc': 1, 'orhtostasi': 1, 'interst': 1, 'prison': 4, 'myelomat': 1, 'murmr': 1, 'hydrochlorid': 2, 'clindmycin': 1, 'pansystol': 1, 'tamsulosin': 3, 'whinc': 1, 'jiroveci': 6, 'consumpt': 5, 'intim': 4, 'protuber': 4, 'foudn': 1, 'ketorolac': 3, 'resisit': 1, 'micafungin': 3, 'housekeep': 2, 'simplex': 3, 'narcopt': 1, 'mpowel': 1, 'anticoagulatoion': 1, 'progres': 2, 'excruci': 1, 'empiricali': 1, 'shellfish': 3, 'calcitonin': 2, 'opf': 1, 'velcad': 2, 'iliopsoa': 1, 'antim': 1, 'vacn': 1, 'edit': 2, 'bloodpressur': 2, 'certainti': 2, 'managemet': 1, 'hars': 1, 'ldic': 1, 'aspf': 2, 'achondroplasia': 1, 'omnipaqu': 22, 'array': 1, 'ptv': 1, 'triangular': 2, 'feversclin': 1, 'muconazol': 1, 'probem': 1, 'palac': 1, 'hemotoma': 1, 'buttok': 1, 'imptov': 1, 'antifangian': 1, 'hipox': 1, 'yanuak': 1, 'sedet': 1, 'rknee': 1, 'antifangin': 1, 'extubaton': 1, 'toput': 1, 'eved': 1, 'monitoro': 1, 'tolow': 1, 'elevetd': 1, 'dopplier': 1, 'anascol': 1, 'therectomi': 1, 'calv': 4, 'erythemet': 1, 'ammmonia': 1, 'divalproex': 4, 'revelatori': 1, 'ditress': 2, 'endeavor': 1, 'revascular': 2, 'mylanta': 1, 'elabor': 1, 'substrat': 3, 'acidophillu': 1, 'triag': 2, 'grm': 1, 'caveat': 1, 'bmsx': 1, 'sand': 1, 'ocuvit': 1, 'edeam': 3, 'bicalutamid': 1, 'verstiva': 1, 'currenlti': 2, 'diptheria': 1, 'ferrousul': 1, 'diphtheria': 1, 'infuluenza': 1, 'issus': 1, 'voltatg': 1, 'fvc': 4, 'polychondr': 2, 'devat': 1, 'paget': 2, 'combivi': 1, 'specifici': 1, 'coa': 1, 'levagquin': 1, 'bdz': 1, 'sheriff': 1, 'alkalem': 1, 'billat': 1, 'cctime': 1, 'comt': 1, 'intlat': 1, 'lipomatosi': 1, 'figur': 2, 'bicarp': 1, 'sectrtion': 2, 'recumb': 1, 'continui': 1, 'onb': 1, 'sodiuma': 1, 'wln': 1, 'garb': 1, 'porencephal': 1, 'hunulin': 1, 'harbor': 1, 'igh': 1, 'normotensiv': 1, 'burr': 4, 'supratentori': 4, 'respitor': 1, 'magnitud': 1, 'croupi': 1, 'lubric': 1, 'springwel': 1, 'covg': 1, 'permeabl': 1, 'resuiscit': 1, 'shoudl': 1, 'paranoa': 1, 'villag': 1, 'sttwc': 1, 'vasalva': 1, 'pelclip': 1, 'nok': 2, 'orign': 2, 'hemachomotosi': 1, 'hemachromatosi': 1, 'winter': 2, 'nonradi': 1, 'hemochromotosi': 1, 'noncontigu': 1, 'sequestr': 1, 'confin': 2, 'osteophytosi': 2, 'ym': 2, 'superclavicular': 1, 'mimic': 1, 'cation': 1, '^wob': 5, 'tsamiflu': 1, 'levofloxaxin': 1, 'latu': 1, 'recimmend': 1, 'vibrant': 1, 'lrx': 1, 'parameterd': 1, 'compenas': 1, 'unprepar': 1, 'famoitidin': 1, 'una': 5, 'neosynepherin': 1, 'interrogat': 1, 'revi': 1, 'copeou': 1, 'madanock': 1, 'hostil': 1, 'moicro': 1, 'initail': 2, 'withdrwal': 1, 'photo': 1, 'aeronaut': 1, 'withdrawa': 1, 'swithc': 1, 'offlevoph': 1, 'osteltamivir': 1, 'osteltamavir': 1, 'dcough': 1, 'dsh': 1, 'resuccit': 1, 'casopressin': 1, 'scarl': 1, 'lacat': 4, 'receivng': 2, 'represnt': 1, 'poetic': 1, 'sureg': 1, 'hitchcock': 1, 'hypokines': 1, 'obtaijn': 1, 'und': 2, 'duiresis': 1, 'nbr': 1, 'transferrin': 2, 'antitbiot': 1, 'appropriatr': 1, 'mipt': 1, \"ext'\": 1, 'centropulmonari': 1, 'purlent': 1, 'maskj': 1, 'tricuspud': 1, 'mucormyst': 3, 'inferiormost': 1, 'cleat': 1, 'hyolaryng': 3, 'deglutit': 3, 'azityhromycin': 1, 'racotomi': 1, 'tnt': 3, 'drainaga': 1, 'hld': 3, 'prb': 1, 'prethickn': 1, 'guzzl': 1, 'lactamas': 5, 'pantoea': 1, 'cardiomyopath': 1, 'recnt': 1, 'tho': 1, 'afternnoon': 1, \"he'\": 1, 'lordosi': 3, 'volar': 2, 'herni': 1, 'mraf': 2, 'subinsular': 3, 'suboptima': 1, 'radiocarp': 1, 'reoper': 2, 'subcuticular': 4, 'cathter': 2, 'ehab': 8, 'fingerbreadth': 4, 'juglar': 1, 'esophagogastr': 3, 'coorespond': 1, 'dish': 3, 'cholectomi': 1, 'rosacea': 2, 'depolar': 4, 'nterval': 1, 'posteroinferior': 1, 'scanner': 6, 'parkinsonian': 1, 'gsenapati': 2, 'suprasellar': 4, 'gmsj': 4, 'calcifict': 1, 'bronchoalveloar': 1, 'distinguish': 6, 'initiatio': 1, 'innumer': 3, 'juxtahilar': 1, 'gadavist': 3, 'peribronchovascular': 13, 'scopi': 1, 'tthrough': 1, 'plea': 2, 'hctcheck': 1, 'semisupin': 1, 'axcellari': 1, 'ueo': 1, 'oesophg': 1, 'obli': 1, 'melaena': 1, 'hyperextend': 1, 'ileiostomi': 1, 'egu': 1, 'basliic': 1, 'morther': 1, 'supratherpeut': 1, 'npv': 1, 'scertion': 1, 'vomittr': 1, 'gargl': 1, 'oain': 1, 'witb': 1, 'thalam': 3, 'tour': 3, 'continuum': 1, 'egdv': 1, 'thankscarolyn': 1, 'zosoyn': 1, 'mucho': 1, 'penumon': 1, 'positi': 1, 'ltec': 1, 'maleana': 1, 'poco': 1, 'ostomoy': 1, 'oglivi': 1, 'olveckzi': 1, 'unprovok': 1, 'retropreiton': 1, 'mgu': 1, 'prevail': 1, 'qthur': 1, \"'great\": 1, 'wine': 4, 'salpingo': 1, 'microaspir': 1, 'chelona': 1, 'nonsmok': 2, 'nonimmun': 1, 'oophorectomi': 2, 'alendron': 1, 'ubiquit': 1, 'recenetli': 1, 'zoyn': 1, 'mucocel': 1, 'asprin': 3, 'adminit': 1, 'imay': 1, 'hypernam': 1, 'teratoma': 2, 'infiltart': 1, 'historectomi': 1, 'pneuomina': 1, 'peristals': 1, 'ammen': 1, 'macrolid': 3, 'pigment': 1, 'kwnown': 1, 'meatal': 1, 'veg': 1, 'pansinus': 2, 'defuci': 1, 'kgm': 1, 'usiti': 1, 'antrostomi': 1, 'serotonin': 5, 'hsc': 3, 'immunodefici': 6, 'masp': 1, 'sequest': 2, 'subclass': 1, 'spetic': 1, 'immunoglobulin': 1, 'subnorm': 1, 'sin': 1, 'ethmoidectomi': 1, 'monotherapi': 4, 'tahcycardia': 1, 'tbi': 4, 'development': 5, 'airless': 3, 'ossifican': 1, 'truama': 1, 'rami': 1, 'heterotop': 4, 'parost': 1, 'medullari': 4, 'ramu': 2, 'ossifi': 1, 'panc': 1, 'chondrosarcoma': 1, 'osteosarcoma': 1, 'ossif': 5, 'coanda': 1, 'hyperphosphotemia': 1, 'brath': 1, 'hyperphospatemia': 1, 'hyoxemia': 1, 'retina': 1, 'resuspens': 1, 'kayexcel': 1, 'trazamin': 1, 'phosph': 1, 'sevalam': 2, 'cib': 2, 'kayexak': 1, 'stabli': 9, 'arth': 1, 'apsir': 1, 'tenosynov': 1, 'gerontololgi': 1, 'scheme': 1, 'rocefin': 1, 'leukotrien': 1, 'timecours': 3, 'crx': 1, 'agma': 2, 'nongap': 2, 'supsect': 1, 'feverish': 2, 'orthopn': 1, 'zileuton': 1, 'treadmil': 1, 'rhocnher': 1, 'inhib': 1, 'meformin': 1, 'suspcion': 1, 'trhough': 1, 'duodrem': 1, 'dbl': 1, 'adpat': 1, 'hopwev': 1, 'gran': 1, 'toerlat': 1, 'ammonium': 1, 'sorftsorb': 1, 'tracheomalcia': 1, 'auitopeep': 1, 'softworb': 1, 'vurrent': 1, 'liumen': 1, 'plateu': 1, 'slideboard': 5, 'cechect': 2, 'serosangui': 1, 'skeptic': 1, 'amykacin': 1, 'darbopenem': 1, 'pleomorph': 1, 'wrape': 1, 'dori': 1, 'pneumonboot': 1, 'triplk': 1, 'levop': 1, 'bootsa': 1, 'properti': 3, 'hiold': 1, 'placeemtn': 1, 'bldcx': 1, 'peripeg': 1, 'throrac': 1, 'bumper': 1, 'metiplex': 1, 'cechet': 1, 'doribax': 1, 'curlex': 1, 'coccobaccili': 1, 'diffusedli': 1, 'negx': 1, 'clonapin': 1, 'pulmomari': 3, 'peek': 1, 'biat': 1, 'miplex': 1, 'bronk': 1, 'antianxietolyt': 1, 'bilster': 1, 'hemithorac': 3, 'arousbl': 1, 'thyoid': 1, 'macradenoma': 1, 'moxifloxacin': 7, 'demis': 3, 'macroadenoma': 1, 'alzhiem': 1, 'ream': 1, 'sellar': 1, 'hypochlorem': 1, 'remodel': 1, 'alzeim': 1, 'diuresd': 1, 'hydroxyzin': 4, 'restricti': 1, 'pleurectomi': 1, 'airtrap': 3, 'kneereplac': 1, 'phenazopyridin': 1, 'obsess': 1, 'osteonecrosi': 1, 'nonsept': 1, 'public': 4, 'hcg': 1, 'slam': 1, 'shirt': 1, 'atelectai': 2, 'dentist': 1, 'collagen': 1, 'arthrocentesi': 2, 'pectu': 2, 'unimpair': 1, 'kneeleft': 1, 'crede': 1, 'dignosi': 1, 'distruct': 1, 'hypogammaglobulinemia': 3, 'febreil': 1, 'psychotrop': 2, 'useless': 1, 'carinatum': 1, 'vistaril': 1, 'agiit': 1, 'inebri': 1, 'snap': 2, 'gammaglobulinemia': 1, 'thorazin': 1, 'appris': 1, 'gabapenton': 1, 'salicyl': 1, 'gabopentum': 2, 'bournwood': 1, 'orthopedist': 1, 'epithet': 1, 'dust': 1, 'oit': 1, 'duri': 3, 'ventericular': 1, 'lulobectomi': 1, 'senapati': 1, 'repos': 1, 'turbinectomi': 1, 'completley': 1, 'precuationsplan': 1, 'antimirobi': 1, 'septalectomi': 1, 'unexpect': 4, 'expecetd': 1, 'trespass': 1, 'complan': 1, 'consistn': 1, 'estat': 1, 'aceess': 1, 'uleg': 1, 'prosatectomi': 1, 'mendehlson': 1, 'welcom': 2, 'isometr': 3, 'pride': 1, 'disconcert': 1, 'rythum': 1, 'pastpt': 1, 'tspn': 4, 'cystiti': 4, 'sildenafil': 2, 'navi': 1, 'rhc': 3, 'leukcytosi': 2, 'entail': 1, 'hypercholeserolemia': 1, 'renounc': 1, 'denser': 5, 'dyskinesia': 1, 'pericardialcenti': 1, 'huid': 1, 'opportunitist': 1, 'cdifff': 1, 'sticker': 4, 'propanalol': 1, 'smv': 3, 'rrva': 1, 'freeca': 1, 'inconti': 2, 'sldh': 1, 'slump': 1, 'rehospit': 3, 'cte': 1, 'uln': 1, 'beforehand': 1, 'abacavir': 2, 'pldh': 1, 'tenofovir': 2, 'hemetemesi': 1, 'paracentisi': 1, 'schistocyt': 1, 'tbil': 1, 'sofa': 1, 'capaci': 1, 'gastroview': 1, 'cmrepeat': 1, 'radiologymaureen': 1, 'brachiocepahl': 1, 'repes': 1, 'dohboff': 1, 'disea': 2, 'ptft': 1, 'refilm': 1, 'olt': 3, 'consolodi': 1, 'vdrf': 1, 'resi': 1, 'surgeru': 1, 'txp': 2, 'gastro': 1, 'media': 1, 'hemotocrit': 1, 'crystalloid': 2, 'otiti': 1, 'toxoplamosi': 1, 'thalassemia': 1, 'cefaclor': 1, 'ceclor': 1, 'raynoid': 1, 'nurseri': 1, 'mycin': 2, 'asss': 1, 'effusi': 1, 'inforc': 1, 'aztrenam': 1, 'nifediipin': 1, 'beign': 2, 'undo': 1, 'predescrib': 1, 'bicycl': 1, 'intrinis': 1, 'cannabi': 1, 'sertalin': 1, 'cannibu': 1, 'antidep': 1, \"leni'\": 1, 'admtt': 1, 'sizewis': 1, 'eu': 1, 'cannabinoid': 1, 'ajust': 2, 'bumpi': 1, 'ceftraiaxon': 1, 'anxou': 1, 'hepe': 1, 'aeipf': 1, 'welder': 1, 'neagtiv': 1, 'valgancyclovir': 2, 'valcyt': 3, 'incontint': 1, 'incontinac': 1, 'acetylcystin': 2, 'atiavan': 1, 'vangcyclovir': 1, 'parathesia': 1, 'macroph': 1, 'valcyclovir': 1, 'thump': 1, 'valacyclovir': 1, 'herps': 1, 'faecal': 1, 'subarachanoid': 1, 'uip': 4, 'heppa': 1, 'bronchoscpi': 1, 'arachynoid': 1, 'cep': 1, 'aneurysn': 1, 'precip': 1, 'wold': 1, 'eospinophilia': 1, 'sidedweak': 1, 'diagsnosi': 1, 'abpa': 1, 'reop': 1, 'uk': 2, 'suspician': 2, 'myxomat': 1, 'pck': 1, 'librari': 1, 'librarian': 1, 'amitiptyllin': 1, 'invovel': 1, 'rhiniti': 2, 'ctdz': 1, 'reapir': 1, 'silicosi': 1, 'pansinusitu': 1, 'brocnhoscopi': 1, 'osteiti': 1, 'midclavicular': 4, 'ilii': 1, 'prevoid': 1, 'condensan': 1, 'adjacebt': 1, 'nomin': 1, \"morning'ha\": 1, 'sjbj': 5, 'fissu': 1, 'glan': 1, 'shortn': 3, 'patial': 1, 'sugesst': 1, 'inping': 1, 'suclavian': 1, 'mediatinum': 1, 'seiszur': 1, 'mesial': 2, 'autist': 1, 'orthogon': 2, 'pachymening': 4, 'destrucitv': 1, 'aortopulmon': 1, 'sunitinib': 1, 'rrc': 1, 'micromass': 1, 'hyponutremia': 1, 'seas': 1, 'dendrit': 1, 'hyperton': 2, 'seasion': 1, 'trig': 3, 'sciatica': 1, 'effsuion': 1, 'rveal': 1, 'autism': 1, 'temporali': 1, 'evdeic': 1, 'encephlopath': 1, 'threaten': 3, 'scull': 1, 'odynophagia': 4, 'calvari': 1, 'legfor': 1, 'medistiastinum': 1, 'lm': 2, 'rxcg': 1, 'upstair': 3, 'fosphenytoin': 1, 'heaven': 1, 'flextur': 2, 'obstrut': 1, 'indirect': 3, \"perf'\": 1, 'enterographi': 1, 'microcytosi': 1, 'narrowest': 1, 'hyperem': 1, 'tenth': 2, 'sigmoidoscopi': 1, 'twelfth': 1, 'eleventh': 1, 'volvulu': 4, 'proctoscopi': 1, 'cholecalciferol': 3, \"grave'\": 1, 'radioact': 2, 'erectil': 1, 'radioi': 1, 'readress': 1, 'atribut': 1, 'predict': 3, 'gyru': 2, 'postcontrast': 1, 'microhemorrhag': 2, 'thourough': 1, 'tonsilar': 1, 'tonsillar': 1, 'gastrotomi': 2, 'tachcyardia': 1, 'flak': 1, 'refut': 1, 'robust': 6, 'grd': 1, 'modax': 2, 'unwilling': 1, 'udergo': 1, 'gyriform': 1, 'arbout': 1, 'lllasp': 1, 'melen': 1, 'magnum': 1, 'sew': 1, 'reivew': 1, 'pallidu': 1, 'ipsilater': 1, 'laparatomi': 1, 'postcentr': 1, 'oversew': 1, 'enzyem': 1, 'hba': 5, 'reismann': 1, 'dysfuct': 2, 'signifi': 1, 'infero': 3, 'hypoaesthesia': 1, 'globu': 1, 'overnigh': 1, 'laryngoscopi': 2, 'predispos': 4, 'cth': 2, 'adc': 4, 'volu': 1, 'propofaol': 1, 'gentler': 1, 'deltoid': 2, 'bedridden': 1, 'inatak': 1, 'delist': 1, 'fascicul': 1, 'axon': 2, 'nephriti': 1, 'polymyopathi': 1, 'agres': 1, 'swall': 1, 'guac': 1, 'adequaci': 2, 'repsositio': 1, 'recordsnafcillin': 1, 'fse': 1, 'thiock': 1, 'flatter': 2, 'mulitfoc': 1, 'restlessli': 1, 'hoy': 1, 'leucopenia': 1, 'electrophysiolog': 1, 'inclement': 1, 'chirrosi': 1, 'humiditifi': 1, 'pterygoid': 1, 'coursa': 1, 'harvest': 2, 'patientnafcillin': 1, 'crtical': 1, 'followl': 1, 'encpehalopath': 1, 'boat': 1, 'approximatli': 1, 'compelt': 1, 'meropenenem': 1, 'polyneuropathi': 3, 'withsept': 1, 'intrac': 1, 'spesi': 1, 'difficuolt': 1, 'varici': 1, 'elb': 1, 'nmed': 3, 'mmt': 6, 'pge': 1, 'lactuols': 1, 'heterotopia': 1, 'safer': 1, 'wocrn': 1, 'propranolol': 1, 'valuat': 1, 'polymyoneuropathi': 1, 'bradykinet': 1, 'weanign': 1, 'hitler': 1, 'propel': 1, 'lecopenia': 1, 'necktar': 1, 'intracerebr': 2, 'initati': 1, 'abilti': 1, 'perisepsi': 1, 'elsd': 1, 'nadalol': 1, 'ppli': 1, 'devi': 1, 'stm': 2, 'neosynephin': 1, 'lactolas': 1, 'overlaod': 2, 'chirossi': 1, 'eslc': 1, 'hempdynam': 2, 'myoclon': 3, 'depelt': 1, 'iadl': 2, 'hypovolm': 1, 'indent': 3, 'intradur': 2, 'epicondyl': 2, 'sclen': 1, 'intemitt': 1, 'lactact': 2, 'geritrician': 1, 'prognost': 1, 'apach': 1, 'isir': 1, 'dfif': 1, 'hydroxyzon': 1, 'guanifensin': 1, 'desonid': 1, 'ammoni': 1, 'mercuri': 1, 'citri': 1, 'patientmercuri': 1, 'hypoixia': 1, 'orba': 1, 'strikingli': 1, 'nephrolithotomi': 1, 'parksinson': 1, 'sweetcorn': 1, 'isdn': 2, \"parkinson'\": 1, 'processbi': 1, 'promis': 3, 'jam': 1, 'avapro': 1, 'xygen': 1, 'irbesartan': 1, 'effius': 1, 'fyi': 2, \"pcp'\": 1, 'hga': 3, 'concerngin': 1, 'oncomycosi': 1, 'hlp': 1, 'flower': 2, \"romi'\": 1, 'mgc': 1, 'shd': 3, 'mosit': 1, 'pron': 1, 'rotopron': 2, 'cart': 3, 'patiient': 1, 'portugues': 3, 'aemia': 1, 'elvev': 1, 'crosstoler': 1, 'mkm': 1, 'ctg': 4, 'sye': 1, 'eichinococcu': 1, 'oncol': 1, 'modb': 1, 'rss': 1, 'mucl': 1, 'maxax': 2, 'secanodari': 1, 'mcafungin': 1, 'lcm': 1, 'roto': 1, 'trendelenberg': 3, 'raidal': 2, 'pvk': 1, 'variablil': 1, 'glragin': 1, 'feedback': 1, 'hyoglycemia': 1, 'doee': 1, 'critici': 1, 'minax': 2, 'limt': 1, 'weel': 1, 'entamoeba': 1, 'nur': 1, 'clin': 2, 'hyperalgesia': 2, 'anathesiol': 1, 'schmerzther': 1, 'intensivm': 1, 'tward': 1, 'anest': 1, 'wriggl': 1, 'mve': 1, 'prcv': 1, 'pneumomedistin': 1, 'nmda': 1, 'eosionphil': 1, 'doxicyclin': 2, 'annum': 1, 'notfallm': 1, 'anesthesiolog': 1, 'flashback': 1, 'pneumonmediastinum': 1, 'algorhythm': 1, 'respriatori': 7, 'rotapron': 1, 'tryadyn': 1, 'cvm': 1, 'chart^': 1, 'hantaviru': 1, 'unsatgebal': 1, 'intrapulmonari': 6, 'thrombocytopen': 2, 'echinococcu': 1, 'mlhr': 1, 'nephrotomi': 1, 'pylostomi': 1, 'anesthesiologist': 1, 'replc': 1, 'calyx': 1, 'sillhouhett': 1, 'aanterior': 1, 'anteroposterior': 1, 'solitari': 5, 'falciform': 2, 'obstruc': 1, 'neoesophagu': 1, 'dypspnea': 1, 'rheumatologist': 1, 'ipr': 1, 'floromethalon': 1, 'minimun': 1, 'bellow': 1, 'butun': 1, 'cvid': 2, 'rattli': 2, 'provoc': 1, 'pneumonvax': 1, 'sohx': 1, 'claclium': 1, 'dimentia': 1, 'bairhugg': 1, 'baker': 1, 'estgfr': 1, 'cutlur': 4, 'subjac': 1, 'fahx': 1, 'pseudoobstruct': 1, 'bronchoconstrict': 1, 'dir': 2, 'mgmnt': 1, 'novolin': 2, 'abv': 1, 'actuat': 2, 'olsetamivir': 1, 'pectic': 1, 'eventr': 2, 'guifensien': 1, 'fliuid': 1, '^rdl': 1, 'hydroxid': 5, 'remid': 1, 'bilroth': 1, 'whirl': 1, 'chewabl': 3, 'farr': 1, 'sphincterotomi': 1, 'epzicom': 1, 'atazanavir': 1, 'eelvat': 1, 'unremarakbl': 1, 'narcoti': 1, 'piroxicam': 1, 'hprn': 1, 'mep': 1, 'myofasci': 1, 'hypoventili': 1, 'reyataz': 1, 'emei': 1, 'pint': 1, 'cig': 2, 'ism': 1, 'donut': 1, 'lactuls': 1, 'signic': 1, 'duie': 1, 'hopefuil': 1, 'tremen': 2, 'coff': 1, 'qual': 1, 'clininc': 1, 'epilecticu': 1, 'rpaid': 1, 'bucket': 1, 'pneumonianow': 1, 'cotninu': 2, 'deleriumt': 1, 'flumenazil': 1, 'deprees': 1, 'mens': 2, 'whc': 1, 'umen': 1, 'unidentifi': 2, 'trilob': 1, 'pyeloplasti': 1, 'immodium': 3, 'nteract': 1, 'tld': 1, 'hyropneumothorax': 1, 'antidepend': 1, 'grp': 1, 'multicoc': 1, 'improvt': 2, 'decorticaiton': 1, 'stumbl': 1, 'farmer': 1, 'pnanot': 1, 'vmr': 1, 'dyarthria': 1, 'thallasemia': 1, 'cefapem': 1, 'gfamili': 1, 'dysarththia': 1, 'uniform': 2, 'arisen': 1, 'uplift': 1, 'curl': 8, 'stube': 1, 'fllow': 1, 'affor': 1, 'becsu': 1, 'fiorin': 1, 'caffien': 1, 'chroninc': 1, 'intertrigo': 1, 'leginonella': 1, 'dehyr': 1, 'desipramin': 1, 'afford': 2, 'tongith': 1, 'vasculartur': 1, 'dysfunt': 1, 'quinadin': 1, 'plale': 1, 'schwannoma': 2, 'excor': 1, 'cbg': 3, 'hssi': 3, 'silhoutt': 1, 'utter': 2, 'dofetillid': 1, 'land': 1, 'cigar': 1, 'hepatobiliari': 4, 'gradulli': 1, 'epistaxsi': 1, 'consolidatioin': 1, 'sgift': 1, 'metforman': 1, 'crash': 1, 'toprolol': 1, 'underi': 1, 'signai': 1, 'puplmonari': 1, 'toleran': 1, 'stereotact': 1, 'intratubular': 1, 'enxt': 1, 'inout': 1, 'ralesb': 1, 'mirolax': 1, 'postvoid': 1, 'bdg': 1, 'shapr': 1, 'ducolox': 1, 'kayaxel': 1, 'hyperphosphatemia': 2, 'condens': 1, 'glomerulonephr': 2, 'splenoport': 1, 'spleno': 2, 'varix': 1, 'pseudoarthrosi': 1, 'bronchiolar': 3, 'cementoplasti': 1, 'rightr': 1, 'ankylos': 1, 'opacitii': 1, 'spondyl': 1, 'currnetli': 1, 'obtur': 1, 'conceal': 2, 'contsip': 1, 'opteas': 3, 'theresid': 2, 'overfe': 2, 'sorbitol': 1, 'monitori': 1, 'intravertebr': 1, 'pyschosi': 1, 'hystrectomi': 1, 'addomen': 1, 'gonald': 1, 'fliter': 1, 'subarrachnoid': 1, 'resiz': 1, 'consitp': 1, 'hemiperisi': 1, 'levl': 1, 'brim': 1, \"'better\": 1, 'leukodytosi': 1, 'patientprednison': 1, 'hyerkalemia': 1, 'pleuridex': 1, 'rituxan': 1, 'pnau': 1, 'aiha': 1, 'aihi': 1, 'acycolovir': 1, 'histroy': 3, 'liklihood': 1, 'inard': 1, 'hypogammaglobinemia': 1, 'hospitalizait': 1, 'preme': 1, 'px': 3, 'zosn': 1, 'onppi': 1, 'bedamustin': 1, 'galss': 1, 'atelectatsi': 1, 'arang': 1, 'lsinoprel': 1, 'pansinu': 1, 'dysf': 1, 'duaghter': 1, 'bluid': 2, 'fcn': 1, 'holosystol': 3, 'slntg': 2, 'spustum': 1, 'stablliz': 1, 'subgal': 2, 'cratinin': 1, 'arl': 1, 'migratori': 1, 'shilouett': 1, 'evenli': 1, 'exceedingli': 1, 'raynaud': 1, 'isnorm': 1, 'overestim': 2, 'proportio': 1, 'catecholamin': 1, 'nafcililn': 1, 'reintubt': 1, 'extremu': 1, 'surv': 2, 'flonas': 2, 'ical': 1, 'imapir': 1, 'frigidi': 1, 'comporomis': 1, 'cefetriazidim': 1, 'catecholami': 1, 'hepb': 1, 'feso': 3, 'satuat': 1, 'techngu': 1, 'extrmeitii': 1, 'hypophon': 1, 'whiff': 1, 'macaroni': 1, 'sefl': 1, 'diuresesi': 1, 'contamini': 1, 'spbt': 1, 'uee': 1, 'vcabg': 1, 'naf': 2, 'aarom': 1, 'resons': 2, 'aneurism': 1, 'buyt': 1, 'patientlidocain': 1, 'finesterid': 1, 'mirco': 1, 'fmssa': 1, 'laq': 2, 'atlectesi': 1, 'dsitress': 1, 'dissoci': 1, 'isorhythm': 1, 'neoesophag': 1, 'porch': 1, 'normo': 3, 'betaseron': 1, 'fentanyla': 1, 'prelmininari': 1, 'morphinel': 1, 'lomictil': 1, 'msntal': 1, 'antoibiot': 1, 'bidew': 1, 'levoflaoxin': 1, 'millimetr': 2, 'borderl': 1, 'heteregen': 2, 'radio': 4, 'additino': 1, 'groshung': 1, 'dextroconvex': 2, 'anchor': 1, 'opacificaton': 1, 'magna': 2, 'cariat': 1, 'ajnd': 1, 'cisterna': 2, 'unexpectedli': 1, 'alkalsosi': 1, 'mycocardi': 1, 'plana': 1, 'teanaou': 1, 'ult': 1, 'deffrer': 1, 'inexpect': 1, 'dysnychromi': 1, 'descid': 2, 'mepelex': 1, 'negativebal': 1, 'bpmaintain': 1, 'tapabl': 1, 'mulitdisciplinari': 1, 'aceiv': 1, 'respiaratori': 1, 'multidisicplinari': 1, 'genesi': 1, 'proir': 1, 'impedi': 2, 'nio': 1, 'dnh': 2, 'bacj': 2, 'uterotomi': 1, 'levoxacin': 1, 'cardiazem': 1, 'resrict': 1, 'prcocet': 1, 'talli': 1, 'egfr': 3, 'bankart': 1, 'street': 2, 'pantri': 1, 'nake': 2, 'teanm': 1, 'beng': 1, 'macdonald': 1, 'agita': 1, 'beverag': 2, 'somewher': 1, 'increaseili': 1, 'trazdon': 1, 'atlectasi': 3, 'thiamain': 1, 'clilnic': 1, 'pleurx': 3, 'smalll': 1, 'percardi': 1, 'slthough': 1, 'condyl': 2, 'choyk': 3, 'subclaviam': 1, \"cxr'\": 1, 'othervis': 2, 'torqu': 1, 'seeen': 1, 'spinemetastas': 1, 'afsn': 3, 'erlotinib': 1, 'lifetim': 1, 'ismo': 1, 'lisinopriltoler': 1, 'metorrolol': 1, 'dand': 1, 'rode': 1, 'outputbun': 1, 'successs': 1, 'triamteren': 2, \"copd'er\": 1, 'rhaspi': 1, 'placent': 1, 'murmer': 3, 'lenient': 1, 'exogen': 1, 'fasoli': 1, \"bs'\": 3, 'startw': 1, 'branow': 1, \"bartter'\": 1, 'clime': 1, 'aortobifemor': 1, 'hypecapnia': 1, 'pcm': 2, 'subliguin': 1, 'alkali': 1, 'urethra': 2, 'havewith': 1, 'feeder': 1, 'abxif': 1, 'comtamin': 1, 'gitelman': 1, 'bronchodi': 1, 'tremain': 1, 'sinia': 1, 'hypok': 1, 'ribcag': 1, 'holder': 2, 'pepicd': 1, 'msk': 3, 'posthypercapnia': 1, 'amphysema': 1, 'hyperaldo': 1, 'uro': 1, 'actiiv': 1, 'urether': 1, 'influenc': 3, 'notori': 1, 'albulmin': 1, 'mesothelioma': 1, 'procainamid': 1, 'amlitud': 1, 'rlsb': 1, 'electropheresi': 1, 'neehdam': 1, 'predisposit': 2, 'nasophareng': 1, 'fagitu': 1, 'approximatley': 1, 'projectil': 2, 'toy': 1, 'hpothyroid': 1, 'intfiltr': 1, 'chagn': 3, 'tricupsid': 1, 'endogastr': 2, 'dyfunct': 1, 'antimicribi': 2, 'inspiritori': 1, 'nest': 1, 'mitrial': 1, 'coumaidn': 1, 'tricusp': 1, 'guiafisen': 1, 'sihgtli': 1, 'reasonbl': 1, 'rewiev': 1, 'robotussin': 1, 'mobilix': 1, 'spiromitri': 1, 'mobila': 1, 'vactiv': 1, 'guiafisin': 1, 'suspiscion': 1, 'doeswel': 1, 'bleedi': 1, 'intend': 5, 'mirilax': 1, 'clodidin': 1, 'arimidex': 2, 'unnessari': 1, 'holo': 1, 'bpmed': 1, 'colllaps': 1, 'pharyn': 1, 'asix': 1, 'fruther': 1, 'unenthusiast': 1, 'catapr': 1, 'lipm': 1, 'collasps': 2, 'rcvd': 1, 'jolt': 1, 'alzhem': 1, 'antihyperglycem': 1, 'alezhiem': 1, 'levaph': 1, 'anerob': 1, 'clozaril': 2, 'setment': 1, 'mesent': 1, 'diarrheaclin': 1, 'painclin': 1, 'tributari': 2, 'ileiti': 1, 'periport': 2, 'rmlobectomi': 1, 'extremtli': 1, 'rmlobe': 1, 'rllobectomi': 1, 'atop': 1, 'spina': 1, 'twin': 1, 'precaust': 1, 'hypercarbi': 1, 'psychogen': 2, 'rhythmic': 1, 'rmatiti': 1, 'attribuatlb': 1, 'harshcough': 1, 'peristom': 1, 'asthmaticu': 1, 'solumedeol': 1, 'divers': 2, 'repor': 1, 'bifida': 1, 'melon': 1, 'capaicti': 1, 'epress': 2, 'receov': 1, 'hyperten': 1, 'continueud': 1, 'wihoutout': 1, 'peronei': 1, 'metaphysi': 1, 'tibiotalar': 1, 'crutch': 1, 'pulem': 1, 'eyeh': 2, 'hemifraphragm': 1, 'osbuscr': 1, 'tricsupid': 1, 'lyphangt': 1, 'pleuradesi': 2, 'triglyc': 1, 'vacat': 2, 'zanax': 1, 'hypoventialt': 1, 'reticulonodular': 1, \"wbc'\": 1, 'nppvand': 1, 'chylou': 1, 'elevatin': 1, 'mgpo': 2, 'talc': 2, 'bigger': 3, 'adjuv': 1, 'imprvo': 1, 'motnior': 1, 'accodringli': 1, 'ffectiv': 1, 'cronic': 1, 'thoracentsi': 1, 'nrbc': 2, 'crhonic': 1, 'resampl': 1, 'threshol': 1, 'retens': 3, 'chord': 1, 'rosenmul': 1, 'laryngocel': 1, 'venetricular': 1, 'regurit': 1, 'foloey': 1, 'miser': 1, 'disucss': 1, 'weanto': 1, 'isulin': 1, 'mechin': 1, 'decreasedurin': 1, 'paetnci': 1, 'andincreas': 1, 'erst': 1, 'hate': 2, 'meropenun': 1, 'culturt': 1, 'evercar': 1, 'hypertriglyceridemia': 2, 'ibili': 1, 'murmu': 1, 'racepinephrin': 2, 'versedearli': 1, 'thoraco': 1, 'famotadin': 2, 'decreaas': 1, 'rhythem': 1, 'profession': 1, 'swiych': 1, 'ino': 2, 'flicker': 1, 'risbio': 1, 'initit': 1, 'softi': 1, 'monostat': 1, 'intpret': 1, 'abio': 1, 'axiila': 1, 'cahneg': 1, 'unneccessari': 1, 'adjec': 1, 'gemfibrozil': 1, 'postivi': 1, 'lash': 1, 'nimbex': 1, 'nowt': 1, 'amlodopin': 1, 'aslix': 1, 'rhochor': 3, 'olanzaoin': 1, 'tolerainc': 1, 'mistak': 1, 'paramavir': 1, 'compatibel': 1, 'abdominopelv': 2, 'unsuccessful': 1, 'tachyc': 1, 'furosimid': 1, 'dy': 4, 'flewxis': 1, 'woudl': 2, 'andp': 1, 'merrem': 1, 'desynchron': 1, 'nitrou': 2, 'peramivir': 1, 'chlorehex': 1, 'acetazolimid': 1, 'flitter': 1, 'merapenum': 1, 'anticio': 1, 'permavir': 1, 'seconday': 1, 'isssu': 1, 'famoticidin': 1, 'remp': 1, 'lastli': 2, 'nrrr': 2, 'coronaryclip': 1, 'morph': 1, 'gate': 3, 'corevalv': 1, 'extracardiac': 1, 'extracharg': 1, 'misregistr': 1, 'athrosclerosi': 1, 'possibilit': 2, 'comorbid': 5, 'ilw': 2, 'rrla': 1, 'veinou': 1, 'tranmit': 1, 'maliganaci': 1, 'hyporact': 1, 'silvaden': 1, 'secretari': 1, 'therfor': 1, 'silverden': 1, 'hxhap': 1, 'maculopapular': 5, 'intravasc': 2, 'lazix': 1, 'uncreas': 1, 'diatal': 1, 'saag': 1, 'inxn': 1, 'minimallli': 1, 'sklill': 1, 'psl': 1, 'sulfadiazin': 1, 'emograph': 1, 'subcu': 1, 'meetin': 2, 'trachwostomi': 1, 'likelyhood': 1, 'intertriginu': 1, 'highgat': 1, 'foun': 1, 'andtibiot': 1, 'rectis': 1, 'intertrigin': 1, 'spontaneo': 1, 'silvidin': 1, 'lill': 1, 'unrespos': 1, 'afffect': 1, 'desquam': 2, 'hoock': 1, 'sensitiv': 1, 'ftom': 1, 'haemolys': 1, 'fecul': 1, 'pupli': 1, 'irrevers': 1, 'counteract': 1, 'elctorlyt': 1, 'desquamit': 1, 'obstruciton': 1, 'newlli': 1, 'venitil': 2, 'guaiaic': 2, 'neumonia': 2, 'allso': 1, 'cavi': 1, 'fhph': 1, 'cavitatari': 1, 'urti': 1, 'setrt': 1, 'cipd': 1, 'fortuit': 1, 'cidp': 1, 'encourab': 1, 'humolog': 1, 'deceid': 1, 'reli': 3, 'mistreat': 1, 'adept': 1, 'revisu': 1, 'apathet': 2, 'conjunctivi': 1, 'rase': 1, 'painless': 1, 'freguent': 1, 'scrub': 2, 'pediatrian': 1, 'folowup': 1, 'svi': 1, 'hibiclen': 2, 'pathway': 2, 'xc': 3, 'tempropariet': 1, 'thte': 1, 'bugl': 1, 'tarlov': 1, 'anteroinferior': 1, 'neuroforamin': 1, 'notar': 1, 'relateddt': 1, 'sourceunlik': 1, 'psm': 1, 'neurosurg': 5, 'lungsrhocher': 1, 'eleimin': 1, 'tachytachypena': 1, 'pursuit': 1, 'prnding': 1, 'rev': 1, 'patc': 1, 'meningocel': 1, 'frx': 1, 'mvc': 3, 'meplix': 1, 'alkpho': 3, 'dtage': 1, 'clearl': 1, 'giardia': 1, 'unecessari': 1, 'stae': 1, 'shnge': 1, 'fund': 1, 'historyand': 1, 'umcomfort': 1, 'ppresent': 1, 'symtomat': 2, 'notari': 1, 'quadreplegia': 1, 'myelomalacia': 1, 'hemoperitoneum': 1, 'airbag': 1, 'neurosug': 1, 'dispit': 1, 'cpao': 1, 'moonlight': 1, 'rheumatalog': 1, 'bronciectesi': 1, 'successfuli': 1, 'pernin': 1, 'hbga': 1, 'singnific': 1, 'porit': 1, 'imprssion': 1, 'snif': 3, 'promient': 1, 'ronchuou': 1, 'hyperlimidemia': 1, 'vommit': 2, 'gurgel': 1, 'admisis': 1, 'depleat': 1, 'parenhcyma': 1, 'bloodshot': 2, 'gastrointenstin': 1, 'lnr': 1, 'antibito': 2, 'infilitr': 2, 'macrocytosi': 1, 'multlipl': 1, 'bancemia': 1, 'alheim': 1, 'diaviat': 1, 'orophar': 2, 'hemidriagphram': 1, 'timelin': 1, 'appopria': 1, 'pur': 1, 'downgrad': 1, 'novemeb': 1, 'rcxr': 1, 'unkonwn': 1, 'unkown': 2, 'hypetens': 1, 'tndr': 1, 'samonella': 1, 'pyridium': 1, 'amyloidosi': 1, 'chemotherpay': 1, 'ischmic': 1, 'shigella': 1, 'benc': 1, 'hypocortisol': 1, 'transloc': 2, 'hydrocortisol': 1, 'artefact': 3, 'thoracoplasti': 2, 'chnge': 1, 'macroscop': 1, 'thyromeg': 2, 'poteni': 1, 'academ': 1, 'suffoc': 3, 'contend': 1, 'serrat': 1, 'heaviest': 1, 'esopheg': 1, 'march': 2, 'juxtaren': 1, 'postradi': 1, 'multidisciplnari': 1, 'methehemoglobinemia': 1, 'arc': 1, 'desk': 1, 'breeth': 1, 'numerour': 1, 'visibil': 1, 'methemoglobinemia': 1, 'cooximetri': 1, 'mwm': 2, 'periesophag': 1, 'circumor': 1, 'ged': 1, 'fume': 1, 'asnwer': 1, 'nortriptyllin': 1, 'candidiasi': 3, 'asympomat': 1, 'rebah': 1, 'addison': 1, 'unhelp': 1, 'avnrt': 3, 'entrant': 1, 'avrt': 1, 'concert': 1, 'repart': 1, 'svcbrachiocephal': 1, 'mztb': 1, 'congruenc': 1, 'trochlear': 1, 'radiocapitellar': 1, 'osteosclerot': 2, 'differeti': 1, 'thiazid': 1, 'rvh': 1, 'jild': 1, 'parainflu': 1, 'vnon': 1, 'hypersensitivit': 1, 'tuna': 2, 'hypoglyecem': 1, \"alzhiemer'\": 1, 'yestderday': 1, 'derlium': 1, 'withsever': 1, 'stneosi': 1, 'rhf': 1, 'bail': 1, 'cirrhoit': 1, 'sacrific': 1, 'gallon': 1, 'hallucinosi': 1, 'pilori': 1, 'outpatietn': 1, 'sib': 1, 'neurvascularli': 1, 'stratif': 1, 'atm': 1, 'barret': 1, 'robberi': 1, 'retroact': 1, 'murder': 1, 'violenc': 1, 'bush': 1, 'sweatimg': 1, 'aandox': 1, 'uncharacterist': 1, 'decidedli': 1, 'concomitt': 1, 'benardyl': 1, 'stonosi': 1, 'garag': 1, 'apnoea': 1, 'dyspnoea': 1, 'sope': 1, 'enco': 1, 'talonavicular': 1, 'bkr': 2, 'histoplasmosi': 1, 'capnocytophaga': 1, 'capnocytophagia': 1, 'hypoadren': 1, 'crackel': 3, 'hypenatremai': 1, 'placeement': 1, 'hrx': 1, 'nonbloodi': 1, 'hemondynam': 1, 'pneumobilia': 3, 'pasv': 2, 'hyporthyroid': 1, 'aduibl': 1, 'elevart': 1, 'sweep': 1, 'nbnb': 1, 'klebsiela': 1, 'tonsilectomi': 1, 'dil': 2, 'friction': 2, 'privileg': 1, 'recycl': 1, 'syntrhoid': 1, 'colestin': 1, 'untll': 1, 'requip': 1, 'desimpact': 1, 'amicacin': 1, 'amikasin': 1, 'tracheosotomi': 1, 'ropinirol': 1, 'panscan': 1, 'fondaparinoux': 1, 'fwf': 1, 'hemodynamm': 1, 'gpcocci': 1, 'psotiv': 1, 'rhocnhor': 1, 'bovi': 1, 'moliz': 1, 'aci': 2, 'anasrca': 1, 'fondaparenox': 1, 'stressor': 1, 'hat': 1, 'aoritc': 1, 'fondaparinux': 1, 'hopspial': 1, 'amakacin': 1, 'fondaparineux': 1, 'discount': 1, 'effuion': 1, 'sill': 1, 'artain': 1, 'infetcion': 1, 'staphylococci': 2, 'vegetataion': 1, 'tobramcyin': 1, 'colisitn': 1, 'recult': 1, 'autodiureisi': 1, 'cholestasi': 4, 'durind': 1, 'detrusor': 1, 'acinobact': 1, 'creatini': 1, 'carbacephem': 2, 'nit': 3, 'aggess': 1, 'hypnatremia': 1, 'acinitobact': 1, 'eblow': 1, 'pvv': 1, 'colstin': 1, 'tachypnc': 1, 'acteremia': 1, \"plateau'd\": 1, 'chane': 2, 'ropirnol': 1, 'tagamet': 1, 'acinetobactor': 1, 'ariv': 1, 'withfev': 1, 'colisitin': 1, 'colisitina': 1, 'cimetidin': 1, 'hypotenst': 1, 'tream': 1, 'nrsa': 1, 'intermiitt': 1, 'infiltrat': 1, 'collistin': 1, 'compliat': 1, 'fondoparinaux': 1, 'carita': 2, 'heidiaph': 1, 'bovona': 1, 'mayi': 1, 'jllw': 1, 'veggi': 1, 'wherebi': 2, 'toxicitiy': 1, 'dcing': 1, 'traceostomi': 1, 'copnt': 1, 'antiboiod': 1, 'inal': 1, 'wtith': 1, 'pizzaria': 1, 'restaur': 2, 'patienttagamet': 1, 'fonduparinox': 1, 'clacium': 1, 'carbapenem': 4, 'owner': 3, 'micor': 1, 'bisocadyl': 1, 'baumannii': 1, 'levidopa': 1, 'cinemet': 2, 'heha': 1, 'acenitobact': 1, 'gegtaion': 1, 'fondaprinux': 1, \"babinksi'\": 1, 'inhaledq': 1, 'fondaparinox': 1, 'perid': 1, 'icub': 1, 'amikacina': 1, 'fondapaurinox': 1, 'pseudoman': 1, 'cnst': 1, 'antiparkinsonian': 1, 'unforunt': 1, 'acineterbact': 1, 'debulk': 1, 'vast': 1, 'expansil': 1, 'atmosair': 1, 'mutipodu': 1, 'chrome': 1, 'movent': 1, 'morohin': 1, 'meriplex': 1, 'limitng': 1, 'salivari': 2, 'fistu': 1, 'glucomet': 2, 'entesophyt': 1, 'fluorodeoxyglucos': 2, 'fistual': 1, 'esophagotrach': 1, 'enthesopathi': 1, 'ostearthr': 1, 'emiss': 2, 'tricompartment': 1, 'suvmax': 1, 'bronchoesophag': 1, 'precent': 1, 'pave': 1, 'fibros': 2, 'mensenter': 1, 'organz': 1, 'cholangiopathi': 1, 'propylen': 1, 'bicrab': 1, 'anit': 1, 'spreadsheet': 1, 'stillrequir': 1, 'liais': 1, 'phynelephrin': 1, 'emtricitabin': 1, 'ceil': 1, 'xcr': 1, 'sedation^': 1, 'concerntrt': 1, 'darunavir': 1, 'malox': 1, 'wihen': 1, 'hepatotox': 2, 'siahd': 1, 'alphabet': 2, 'fastest': 1, 'tandem': 1, 'mess': 1, 'mildili': 1, 'duploff': 1, 'lminim': 1, 'attritub': 1, 'brinch': 1, 'noectopi': 1, 'remina': 1, 'adedd': 1, 'modear': 1, 'transaminti': 1, 'qwk': 1, 'linsinopril': 1, 'snort': 2, 'groggi': 1, 'hypxoem': 1, 'thearapi': 1, 'quietiapin': 1, 'miniz': 1, 'monocytosi': 1, 'downmini': 1, 'trednign': 1, 'biplanar': 1, 'faqilur': 1, 'ucr': 1, 'mout': 1, 'wahs': 1, 'cultr': 1, 'mpore': 1, 'psychic': 1, 'affer': 2, 'siad': 1, 'reliv': 1, 'truvada': 1, 'orophargyng': 1, 'prepylor': 1, 'brnch': 1, 'tachycrad': 1, 'crti': 1, 'fior': 1, 'prefus': 1, 'freshli': 1, 'sreat': 1, 'ballot': 1, 'minib': 3, 'incongru': 1, 'solvent': 1, 'butopen': 1, 'maxiallari': 1, 'qualit': 1, 'kollef': 1, 'roadblock': 1, 'onboard': 1, 'intertwin': 1, 'serquel': 1, 'bristl': 1, 'pharmacokinet': 1, 'sedationd': 1, 'unaoutput': 1, 'darunovir': 1, 'quietipin': 1, 'surreal': 1, 'seroqeul': 1, 'addednum': 1, 'woirsenign': 1, '^^sedat': 1, 'msm': 1, 'autopeep': 3, 'phenyephrin': 2, 'folllw': 2, 'mehtoadon': 1, 'lipemia': 1, 'choli': 1, 'uninterrupt': 2, 'crae': 1, 'cumul': 1, 'mpove': 1, 'decruit': 1, 'respind': 1, 'pmc': 1, 'inftrat': 1, 'throuhg': 1, 'predat': 1, 'blackberri': 2, 'ssdi': 1, 'hypothesi': 1, 'ptbd': 1, 'osmolar': 2, 'ritonivir': 1, 'thoroughli': 2, 'bolusof': 1, 'hm': 1, 'quetapin': 1, 'gungal': 1, 'appeal': 2, 'uosm': 1, 'ethomid': 1, 'imped': 3, 'qweekli': 1, 'pedifeed': 1, 'pvm': 1, 'ucl': 1, 'diaphgragm': 1, 'teenag': 1, 'cortsintropin': 1, 'seroqeil': 1, 'dexder': 1, 'human': 5, 'clother': 1, 'restabil': 1, 'gurgli': 1, 'tmask': 1, 'mirror': 1, 'satisfi': 3, 'interdispers': 1, 'breakthough': 1, 'revela': 1, 'vavlular': 1, 'improvo': 1, 'bou': 1, 'hydrocortinson': 1, 'aspergil': 1, 'murumur': 1, 'dysyncroni': 1, 'rhocncher': 2, 'paraly': 1, 'babesia': 1, 'rohila': 2, 'weaningfrom': 1, 'nape': 1, 'crical': 1, 'mypathi': 1, 'brow': 1, 'dv': 1, 'imageri': 1, 'hepain': 1, 'gulactomannan': 1, 'psychotherapi': 4, 'pneumobooot': 1, 'lnare': 1, 'parencyhyma': 1, 'tranamin': 1, 'retd': 1, 'stoop': 2, 'swtich': 2, 'meropenen': 1, 'furrow': 1, \"we'll\": 1, 'targetd': 1, 'errythemat': 1, 'faiilur': 1, 'peliv': 1, 'epeatedli': 1, 'resolved': 1, 'frighted': 1, 'yawn': 3, 'seratralin': 1, 'resight': 1, 'transillumin': 1, 'cessast': 1, 'coxiella': 1, 'nonerythemat': 1, 'anxiion': 1, 'medazolam': 1, 'phtsical': 1, 'yesterdav': 1, 'morp': 1, 'lcmv': 1, 'propogol': 1, 'apprecci': 1, 'sap': 1, 'swich': 2, 'img': 1, 'hsould': 1, 'iniit': 1, 'orgin': 1, 'mulifoc': 1, 'lcsw': 5, 'overf': 1, 'scitch': 1, 'antimicorbi': 1, 'methylprednisilon': 1, 'shop': 2, 'newspap': 1, 'sweeti': 1, 'forhead': 1, 'pie': 1, 'expi': 1, 'grandneic': 1, 'outweight': 2, 'kneel': 1, 'rvat': 1, 'tsurg': 2, 'volvodynia': 1, 'miniamlli': 1, 'tachyarrhythmia': 3, 'paracardiac': 1, 'osbstruct': 1, 'infliltr': 1, 'ceftiaxon': 2, 'contineud': 2, 'saat': 1, 'tessolan': 1, 'hypomagnesemia': 2, 'plurit': 1, 'apapc': 1, 'infilttr': 1, 'prnumonia': 1, 'infiltrt': 1, 'pyogen': 1, 'anouth': 1, 'lotrimen': 1, 'tachypniec': 1, 'diuriesi': 1, 'cytomegaloviru': 4, 'ksim': 1, 'abdb': 1, 'j^': 1, 'kdc': 1, 'kdm': 1, 'cjojqjuv^jajh': 1, 'omkikmkkdgd': 1, 'auvst': 1, 'ethmod': 1, 'o^o^o': 1, 'nect': 1, 'secretit': 1, 'cdefghijklmnopqrstuvwxyz': 1, 'bakc': 1, 'closemod': 1, 'abcdelmop': 1, 'vvvvv': 1, 'canin': 1, 'fkda': 1, 'vtabl': 1, 'fontvi': 1, 'ahsd': 1, 'galactomannin': 1, 'epidosd': 1, 'cjojqj^jajnutren': 1, 'versioneditnotestatustemplateidautologout': 1, 'totachypnea': 1, 'ijpn': 1, 'maxillay': 1, 'printmod': 1, 'vancomydin': 1, 'imd': 1, 'increasd': 1, 'msworddocword': 1, 'gqu': 1, \"hct'\": 1, 'crxbcklrv|': 1, 'abcdefghijklmnopqr': 1, 'abcdefghij': 1, 'cjojqj^jaju': 1, 'jkdb': 1, 'ajmhsh': 1, 'histor': 1, 'drt': 1, 'tihr': 1, 'normalcj': 1, 'lpd': 1, 'atuhi|': 1, 'noteparentid': 1, 'cjojqj^jajc': 1, 'aho': 1, 'xdlt': 1, 'jk': 2, 'fmicrosoft': 1, 'clotrimizol': 1, 'pcompobj': 1, 'vn': 1, 'posisbl': 1, 'cepapim': 1, 'modular': 2, 'paragraph': 1, 'bjbj': 1, 'jf': 1, 'hyperlink': 1, 'anbpz': 1, 'cd|b': 1, '^jajmhnhu': 1, 'secrtetit': 1, 'hajmh': 1, 'trpnpu': 1, 'rredden': 1, 'aui': 1, 'djwbkti': 1, 'vvvv': 1, 'ddefault': 1, \"'worddocu\": 1, 'premolar': 1, 'je': 1, 'micolozol': 1, 'pow': 1, 'tuvwxyz': 1, 'subclavain': 1, 'kda': 1, '^m': 1, 'rebronch': 1, 'versedt': 1, 'adipos': 1, 'wfrwcw': 1, 'kdi': 1, 'promethazin': 1, 'vasodialtori': 1, 'noroviru': 2, 'vanvo': 2, 'specturm': 1, 'bmv': 1, 'sicker': 1, 'virul': 1, 'hemoli': 1, 'utox': 2, 'ki': 1, \"kartagener'\": 1, 'kartagen': 1, 'inversu': 1, 'dextrocardia': 1, 'commonli': 2, 'exacerabt': 1, 'levoscoliosi': 1, 'kkaliannan': 1, 'earliest': 2, 'topogram': 1, 'lumber': 1, 'mdcta': 1, 'conmsist': 1, 'intraves': 1, 'bevacizumab': 1, 'glioblastoma': 1, 'omniflush': 2, 'arctic': 1, 'suspic': 1, 'posttreat': 1, 'gliobastoma': 1, 'bloom': 1, 'bentson': 2, 'ventriculostomi': 3, 'pleuritc': 1, 'panlobular': 1, 'commissur': 1, 'hemosiderin': 2, 'despoit': 1, 'nonehmorrhag': 1, 'rani': 1, 'bilari': 1, 'biloma': 1, 'periprocedur': 1, 'uniqu': 1, 'opacu': 1, 'nonhogdekin': 1, 'cholersterol': 1, 'fol': 1, 'outpit': 1, 'disinhibit': 1, 'civil': 1, 'mutter': 1, 'herril': 1, 'azitho': 1, 'femalw': 1, 'legonella': 1, 'peera': 1, 'varieti': 5, 'anzythromycin': 1, 'babbl': 1, 'paresthetica': 1, 'skirt': 1, 'barrir': 1, 'spkem': 1, 'avanc': 1, 'meralgia': 1, 'merlgia': 1, 'concord': 1, 'tli': 1, 'prodict': 1, 'reset': 1, 'parasthetica': 1, 'subsequen': 1, 'ngativ': 1, 'bacteriruia': 1, 'farsai': 1, 'methyl': 2, 'guifenasin': 1, 'urobilin': 1, 'boundari': 1, 'laterdo': 1, 'guanefisin': 1, 'beep': 2, 'ifp': 1, 'bacturia': 3, 'qbedtim': 1, 'diffenti': 1, 'parethetica': 1, 'critlcal': 1, 'oclac': 1, 'diverticulsi': 1, 'saltin': 1, 'mislead': 1, 'bacteriuria': 1, 'mucumyst': 1, 'bruic': 1, 'calor': 2, 'cna': 1, 'abrat': 1, 'transffr': 1, 'dysmorph': 1, 'dysnchron': 1, 'guafenassin': 1, 'resort': 1, 'ive': 1, 'discontiu': 1, 'tarc': 1, 'microscop': 2, 'reequilibr': 2, 'cogent': 1, 'cefedim': 1, 'sputrum': 1, 'exercs': 1, 'nurns': 1, 'persian': 1, 'urobiligen': 1, 'exten': 1, 'tussiv': 1, 'immed': 1, 'afrebil': 1, 'anteriro': 1, 'nvalid': 1, 'ostial': 2, 'aysmmetri': 1, 'ciloxan': 1, 'rewarm': 1, 'meniscectomi': 1, 'timi': 1, 'rhonor': 1, 'otic': 1, 'arthrosclerot': 1, 'pericod': 1, 'arr': 1, 'atttemp': 1, 'cholangiocarcinoma': 1, 'dicontinu': 1, 'supratherapuet': 1, 'appx': 1, 'mucuou': 1, 'unlcear': 1, 'nother': 1, 'euvolum': 1, 'cotnineu': 1, 'metases': 1, 'hypervolum': 1, 'cmpathi': 1, 'pyelo': 2, 'quadrigemin': 1, 'insepar': 1, 'faliur': 1, 'perigest': 1, 'intrauterin': 1, 'rump': 1, 'gestat': 1, 'pregnanc': 2, 'transabdomin': 2, 'transvagin': 1, 'referenc': 1, 'delet': 1, 'gastaut': 1, 'gasteau': 1, 'chromosom': 1, 'sbi': 1, 'subopitm': 1, 'hypopkinesi': 1, 'transposit': 1, 'ffnding': 1, 'anteromedi': 2, 'magnesia': 5, 'sax': 1, 'hollow': 1, 'uncoopr': 1, 'patientpenicillin': 2, 'inturpetur': 1, 'whichi': 1, 'frost': 1, 'tempsiv': 1, 'plax': 1, 'axe': 2, 'dipo': 1, 'sucat': 1, 'hctof': 1, 'hyrdatoinwith': 1, 'henodynam': 1, 'hypopho': 1, 'lasxi': 1, 'hemidi': 1, 'crcl': 1, 'perinueum': 1, 'cefalosporin': 1, 'unintellig': 3, 'arcu': 1, 'cholinesteras': 1, 'sensitivti': 1, 'contantli': 1, 'speka': 1, 'sacram': 1, 'rspons': 1, 'incessantli': 1, 'senili': 1, 'respositon': 1, 'annunci': 1, 'breathhold': 1, 'kkaliann': 2, 'trocar': 1, 'gun': 1, 'isoecho': 1, 'prove': 1, 'viii': 1, 'infratentori': 1, 'onsit': 1, 'overfeed': 3, 'diuoderm': 1, 'periop': 3, 'cpnsult': 1, 'postfilt': 1, 'effusdion': 1, 'thoracenthesi': 1, 'immens': 1, 'tranplant': 1, 'neprologost': 1, 'malnutritrion': 1, 'mero': 1, 'chevron': 1, 'vean': 1, 'pcld': 1, 'autosom': 1, 'wopman': 1, 'rescu': 1, 'spongett': 2, 'ligthli': 1, 'sifnific': 1, 'ronchii': 1, 'dupplex': 1, 'mitodrin': 1, 'linezold': 1, 'likelyt': 1, 'hliv': 1, 'polycyst': 1, 'pckd': 1, 'prismas': 1, 'prieiou': 1, 'bipsi': 1, 'pblm': 1, 'currentl': 1, 'prefilt': 1, 'duderm': 1, 'ingrow': 1, 'sectionsclip': 1, 'uncement': 1, 'pacement': 1, 'undisplac': 1, 'possil': 1, 'venopunctur': 2, 'coapt': 1, 'teamunabel': 1, 'demat': 1, 'vei': 1, 'meningit': 2, 'frequenti': 1, 'explana': 1, 'nucchal': 1, 'diluat': 1, 'toxicolog': 3, 'hemodynaimc': 1, 'similiar': 1, 'cephalomalacia': 1, 'cefeim': 1, 'checkstool': 1, 'resusci': 1, 'enucl': 1, 'hyperlycemia': 1, 'menigit': 1, 'astound': 1, 'perplex': 2, 'calcifion': 1, 'huumalong': 1, 'withb': 1, 'ouch': 1, 'valproat': 1, 'seqeunc': 1, 'myxedema': 1, 'dulcolox': 1, 'provgigil': 1, 'alththough': 1, \"'re\": 1, 'svce': 2, 'sugeri': 2, 'triglyericd': 1, 'appeard': 1, 'respiratoy': 2, 'manaul': 1, 'hypopotassemia': 1, 'underfe': 2, 'frap': 1, 'topamax': 2, 'ketosi': 1, 'provigil': 1, 'nonspec': 1, 'topiram': 2, 'methylnaltraxon': 1, 'sprinkl': 1, 'topimax': 1, 'notabley': 1, 'blueberri': 1, 'starvat': 2, 'uation': 1, 'crap': 1, 'uptrend': 1, 'innappri': 1, 'wakekup': 1, 'biweekli': 1, 'chlorosept': 1, 'lasixc': 1, 'requilibri': 1, 'cghc': 1, 'enterocol': 1, 'subcrit': 1, 'ato': 1, 'addiiton': 1, 'equilib': 1, 'dilitiazem': 1, 'partway': 1, 'cardioembol': 1, 'confound': 1, 'ocnsid': 1, 'critial': 1, 'caregroup': 1, 'minimz': 1, 'dissimilar': 1, 'indistinguish': 1, 'dietitian': 1, 'urologist': 1, 'checkbook': 1, 'hemorrhoidectomi': 1, 'dysambul': 1, 'hsl': 1, 'thoracensi': 1, 'albican': 2, 'interspers': 2, 'triamcinolin': 1, 'mull': 1, 'corazepan': 1, 'snu': 1, 'analyst': 1, 'pip^^': 1, 'eosinophillia': 1, 'entrap': 1, 'reigimen': 1, 'rrin': 1, 'trazadonea': 1, 'throracentesi': 1, 'blucan': 1, 'unbleach': 1, 'txt': 1, 'pnm': 1, 'mwedic': 1, 'perrir': 1, 'mgbld': 1, 'barorauma': 1, 'randitin': 1, 'psychotherapist': 1, 'psychopharm': 1, 'labtap': 1, 'haemophilu': 1, 'papul': 2, 'fbmp': 1, 'propolol': 1, 'cholecystisit': 1, 'casemgmt': 1, 'lenezolid': 1, 'aurv': 1, 'fovea': 1, 'freelanc': 1, 'treatabl': 2, 'thoracentes': 1, 'peribroncholar': 1, \"cib'\": 1, 'xfuse': 1, 'tirtrat': 1, 'colas': 1, 'slidenafil': 1, 'abraid': 1, 'tachyp': 1, 'vibrat': 2, 'drrock': 1, 'mysteri': 1, 'vasodialtor': 1, 'ventilatit': 1, 'lasdyt': 1, 'peco': 1, 'nutropho': 1, 'brielli': 1, 'ritilan': 1, 'ecanazol': 1, 'jungian': 1, 'irrtiat': 1, 'sliglhtli': 1, 'cacecth': 1, 'hypoallergen': 1, 'radiol': 1, 'cutaen': 1, 'tchypnic': 1, 'calmin': 1, 'fuel': 1, 'murki': 1, 'peribronchovasc': 1, 'multivit': 2, 'evaluatw': 1, 'comfotali': 1, 'hint': 1, 'psychopharmocolog': 1, 'ubw': 2, 'anxiolysi': 1, 'rind': 1, 'ethmoidali': 1, 'geodon': 1, 'feedng': 1, 'editor': 1, 'incorrectli': 1, 'reexamin': 2, 'errand': 1, 'previs': 2, 'milkshak': 2, 'sprint': 2, 'eater': 1, 'impir': 1, 'stoic': 1, 'dexm': 1, 'intiub': 1, 'electrolyet': 1, 'manometri': 1, 'plseval': 1, 'sidenafil': 1, 'psychologist': 1, 'thoracantesi': 1, 'defalt': 1, 'dor': 1, 'precautionari': 1, 'vom': 1, 'enterococci': 1, 'pessi': 1, 'prosac': 1, 'tedium': 1, 'remedi': 1, 'achieiv': 1, 'koh': 1, 'intercos': 1, 'uvolemia': 1, 'iloson': 1, 'venit': 1, 'afp': 1, 'estol': 1, 'saquinavir': 1, 'amountsof': 1, 'cephlic': 1, 'myelolysi': 1, 'devlop': 1, 'alf': 2, 'cenral': 1, 'repositin': 1, 'amyotroph': 1, 'presurg': 1, 'rafib': 1, 'ilu': 1, 'girth': 1, 'orthonpea': 1, 'kefzol': 1, 'adeuat': 1, 'plf': 1, 'task': 2, 'mmg': 1, 'mepalex': 1, 'bradykinesia': 1, 'ecasa': 1, 'tumb': 1, 'attn': 1, 'lsca': 1, 'dulcoloax': 1, 'tympanit': 1, '^cre': 1, 'polyval': 2, 'mindo': 1, 'upc': 2, 'milranon': 1, 'dexter': 2, 'closureat': 1, 'indescret': 1, 'arom': 1, 'pulmoray': 1, 'inquiz': 1, 'mue': 2, 'cpbt': 1, 'diert': 1, 'epic': 1, 'createn': 1, 'xct': 1, 'autodiurs': 1, 'solument': 1, 'sevret': 1, 'imroov': 1, 'minimla': 1, 'rept': 1, 'notablw': 1, 'oxycoceon': 1, 'citrobact': 1, 'placemen': 1, 'symptathet': 1, 'cae': 1, 'tamilfu': 1, 'aryepiglott': 1, 'iam': 1, 'basesabg': 1, 'nephtotoxin': 1, 'uco': 1, 'fai': 1, 'discontd': 1, 'akskasj': 1, 'ketalac': 1, 'parplegia': 1, 'reistant': 1, 'chlortahlidon': 1, 'deinf': 1, 'inexsuffal': 1, 'velopharyng': 1, 'fluroquinolon': 2, 'chlorthiadon': 1, 'coac': 1, 'insufl': 1, 'wetter': 1, 'wmay': 1, 'presidex': 1, 'xpeep': 1, 'oxybutnin': 1, 'addntl': 1, 'alkalod': 1, 'beselin': 1, 'loer': 1, 'qafternoon': 1, 'binocular': 1, 'porpofol': 1, 'chlorthalidon': 1, 'citrobactor': 1, 'preferr': 1, 'schd': 2, 'repositionpt': 1, 'proprol': 1, 'angiti': 1, 'agenda': 1, 'reitub': 1, 'turbin': 1, 'levph': 1, 'bur': 1, 'andxiou': 1, 'packyear': 1, 'flouroquinolon': 1, 'compliact': 1, 'gentamyin': 1, 'unreport': 1, 'unclean': 1, 'turnaround': 1, 'understan': 1, 'tittrat': 1, 'senit': 1, 'ntx': 2, 'explant': 1, 'augementin': 1, 'hctat': 1, 'arthir': 1, 'prevsiou': 1, 'systemat': 1, 'freundii': 1, 'lasixd': 1, 'klonipen': 1, 'arytenoid': 1, 'floppi': 1, 'collis': 2, 'hytpertens': 1, 'masspro': 1, 'unobstruct': 1, 'relart': 1, 'appeasr': 1, 'seoncdray': 1, 'viusliz': 1, 'nafficillin': 1, 'llleffus': 1, 'hyrdalazin': 1, 'delat': 1, 'tympanet': 2, 'vasculopath': 1, 'systolicali': 1, 'soputum': 1, 'suctionnig': 1, 'hyperfus': 1, 'cmmaureen': 1, 'semiloos': 1, 'aesthesia': 1, 'uncompromis': 1, 'overdistent': 1, 'monitoir': 1, 'specific': 1, 'howevr': 1, 'msn': 1, 'exfoli': 1, 'dsay': 1, 'aroud': 1, 'eucerin': 1, 'fenatnyl': 1, 'cefipm': 1, 'hemid': 1, 'intrvascular': 1, 'shoift': 1, 'gmmg': 1, 'albuminemia': 1, 'infutur': 1, 'conditon': 1, 'vential': 1, 'spontanes': 1, 'trolyt': 1, 'sto': 1, 'probiot': 1, 'descquamatin': 1, 'upop': 1, 'contt': 1, 'elec': 1, 'hower': 1, 'conern': 1, 'misconcept': 1, 'pede': 1, 'tansient': 1, 'lactobacillu': 3, 'ertyhemat': 1, 'gmca': 1, 'respira': 1, 'eysterday': 1, 'mnot': 1, 'moniotir': 1, 'conscent': 1, 'monitir': 1, 'rete': 1, 'yedterday': 1, 'unalb': 1, 'trunkal': 1, 'accetp': 1, 'hydrocerin': 1, 'mgsulf': 1, 'consisten': 1, 'derma': 1, 'sett': 2, 'ocmv': 1, 'tors': 1, 'eucarin': 1, 'contribnut': 1, 'vanomycin': 1, 'malig': 2, 'cacet': 1, 'fluricason': 1, 'sufflat': 1, 'serotyp': 2, 'bromchial': 1, 'mirtazepin': 2, 'sherriff': 1, 'colc': 1, 'lifelong': 1, 'propriat': 1, 'enzymat': 1, 'idid': 1, 'interdigit': 2, 'gstain': 1, 'eft': 1, 'wheze': 1, 'plau': 1, 'broncu': 1, 'toasess': 1, 'largevolum': 1, 'apprear': 1, 'methpr': 1, \"ble'\": 2, 'exotropia': 1, 'grnd': 1, 'npleas': 1, 'multivitiamin': 1, 'midazalam': 1, 'zosym': 1, 'kernel': 3, 'commensur': 2, 'amand': 1, 'methypr': 1, 'movementx': 1, 'immuno': 1, 'globulin': 1, 'math': 1, 'multifactoir': 1, 'trigemineni': 1, 'meropenom': 1, 'bias': 1, 'abluterol': 1, 'envioron': 1, 'nonprogress': 2, 'recoment': 1, 'allyvn': 1, 'responsiv': 1, 'decubi': 2, 'shear': 1, 'bandermia': 1, 'omin': 1, 'amikican': 1, 'contramin': 1, 'anitcoag': 1, 'hemodiaylsi': 1, 'flexocel': 1, 'dermatom': 1, 'gravitiy': 1, 'protacol': 1, 'renali': 1, 'pleurex': 2, 'palpitaiton': 1, 'satellit': 2, 'terrifi': 1, 'persuad': 1, 'lymphoplasmoct': 1, 'vastcular': 1, 'additioanlli': 1, 'hypercalcem': 1, 'malt': 1, 'reprogram': 1, 'parodoxu': 1, 'hypotn': 2, 'revsion': 1, 'wakler': 1, 'paradoxu': 2, 'clote': 1, 'tapin': 1, 'fxnal': 1, 'cytogenet': 1, 'slack': 1, 'ddi': 1, 'lympoma': 1, 'anioplasti': 1, 'lymphoid': 1, 'sash': 1, 'obliteraion': 1, 'dbcd': 1, 'etio': 2, 'rhoncouru': 1, 'hemiparet': 1, 'anticoaul': 1, 'levsin': 1, 'incras': 1, 'jplacement': 1, 'mantain': 2, 'pneuonia': 1, 'signfiic': 1, 'gk': 1, 'cyclobenzaprin': 1, 'acetaminoph': 1, 'refin': 3, 'doxylam': 1, 'murphi': 1, 'amn': 1, 'hemangiomata': 1, 'flexeril': 1, 'pulsat': 1, 'bochdalek': 1, 'pgr': 1, 'brachicephal': 1, 'consul': 2, 'pgtube': 1, 'cite': 1, 'babinski': 1, 'reimburs': 1, 'meningitidi': 1, 'farenheit': 1, 'reactant': 2, 'ppeg': 1, 'normalwithout': 1, 'cmpi': 1, 'contimin': 1, 'compos': 1, 'dialect': 1, 'hepatotoxi': 1, 'dispers': 1, 'neisseria': 1, 'poba': 1, 'player': 1, 'palvix': 1, 'pineal': 2, 'hindi': 1, 'icc': 1, 'phenobard': 1, 'neisseiria': 1, 'ooob': 1, 'accru': 1, 'fould': 1, \"dep't\": 1, 'meningid': 1, 'sectrion': 1, 'usa': 2, 'mute': 1, 'somnel': 1, 'prx': 1, 'anaphi': 1, 'stiffman': 1, 'instabilti': 1, 'dizepam': 1, 'musckl': 1, 'hpyotens': 1, 'tablespoon': 2, 'hempotysi': 1, 'buproprion': 1, 'hemopysi': 1, 'tussilon': 1, 'african': 1, 'pnemothorax': 1, 'chadashvili': 1, 'magarw': 2, 'concuss': 1, 'hemopneumatocyst': 1, 'preview': 1, 'txcf': 1, \"it'\": 1, 'intraparenchyma': 1, 'shorntess': 1, 'peripartum': 1, 'concomitantli': 1, 'lumpect': 1, 'fnh': 2, 'falcin': 1, 'szm': 1, 'rmca': 1, 'subfalcin': 1, 'ischium': 1, 'lymphomat': 1, 'appearsto': 1, 'trabecular': 1, 'dminant': 1, 'preoccupi': 1, 'masslik': 1, 'quikli': 1, 'fuconazol': 1, 'aformet': 1, 'lacross': 1, 'ceftra': 1, 'miconzol': 1, 'majorli': 1, 'obta': 1, 'familu': 1, 'miscommun': 1, 'periumbil': 2, 'exbuat': 1, 'bronchosocpi': 1, 'lpicc': 1, 'attebnd': 1, 'clavic': 1, 'dorm': 1, 'nutritin': 1, 'triat': 1, 'fulconazol': 1, 'celsiu': 1, 'hac': 1, 'shiift': 1, 'cot': 1, 'zyprex': 1, 'periextub': 1, 'adjit': 1, 'ablil': 1, 'persistec': 1, 'yogart': 1, 'simethacon': 1, 'includec': 1, 'normotensv': 1, 'taccypn': 2, 'aiway': 1, 'cextriaxon': 1, 'backgroun': 1, 'malai': 1, 'dyspnia': 1, 'navalbin': 1, 'maineten': 1, 'bipass': 1, 'immunochromogen': 1, 'nopain': 1, 'patientlipitor': 1, 'hgba': 2, 'pyuria': 3, 'perifoc': 1, 'blend': 1, 'transcrib': 1, 'woren': 1, 'rjab': 2, 'excert': 1, 'lethal': 1, 'incur': 1, 'tonsillectomi': 1, 'etoposid': 1, 'anesthia': 1, 'hfm': 1, 'calenadar': 1, 'gound': 1, 'ataxia': 2, 'miralex': 1, 'heparinoid': 1, 'diffiulti': 1, 'gingiv': 1, 'hopitilaz': 1, 'pnuemon': 1, 'explicitli': 2, 'ventliat': 1, 'voluem': 1, 'miarlex': 1, 'broaod': 1, 'mel': 1, 'philosophi': 1, 'suv': 2, 'comensur': 1, 'withtout': 1, 'starl': 1, 'losmap': 1, 'sympathi': 1, 'rchf': 1, 'situationclip': 1, 'presacr': 1, 'intestiti': 1, 'ostia': 1, 'pnaeumomia': 1, 'ctc': 1, 'tolterodin': 1, 'intracerebellar': 1, 'optison': 3, 'proximmali': 1, 'periampullari': 1, 'oncern': 1, 'omezprazol': 1, 'nere': 1, 'isoton': 1, 'pse': 1, 'udomona': 1, 'lethari': 1, 'downhil': 1, 'asso': 1, 'setti': 1, 'seropquel': 1, 'delierum': 1, 'amputaton': 1, 'inpneumonia': 1, 'misestim': 1, 'rag': 1, 'carvidolol': 1, 'earlyy': 1, \"alzheimer'\": 1, 'asm': 1, 'mrcp': 2, 'grapefruit': 1, 'nausa': 1, 'proteinac': 2, 'repositioningof': 1, 'brodoefel': 1, 'scleroderma': 2, 'pretracha': 1, 'craniocerv': 1, 'drainaig': 1, 'deveat': 1, 'iac': 1, 'resolu': 1, 'pharaynx': 1, 'recol': 1, 'fascial': 1, 'pulmona': 1, 'mtt': 1, 'rkcb': 2, 'precentr': 1, 'ctp': 1, 'gratitud': 1, 'aftet': 2, 'discouragr': 1, 'diconstinu': 1, 'unhappi': 1, 'defeat': 1, 'highlight': 1, 'pneumotosi': 1, 'subglot': 1, 'cefe': 1, 'worsesn': 1, 'ronchouru': 1, 'acknowledeg': 1, 'combat': 1, 'isosourc': 2, 'consenu': 1, 'olgivi': 1, 'meplex': 1, 'drag': 1, 'supratheraopeut': 1, 'acidem': 1, 'outreach': 1, 'mbi': 1, 'olgilvi': 1, 'aphagia': 1, 'renarrow': 1, 'mirabili': 1, 'oseltamivr': 1, 'pericari': 1, 'precut': 1, 'hisoto': 1, 'opaticit': 1, 'aminsom': 1, 'ramitidin': 1, 'itraconazol': 1, 'resolev': 1, 'mgd': 1, 'swine': 1, 'insilun': 1, 'aspirgillu': 1, 'circardian': 1, 'dermatotomi': 1, 'commnd': 1, 'cavaatri': 1, 'straigh': 1, 'leukocyto': 1, 'lansprazol': 1, 'lund': 1, 'electromyographi': 1, 'aluminium': 1, 'oscil': 1, 'aluminum': 1, 'ccv': 1, 'cerruloplasmin': 1, 'influenz': 2, 'hypoterm': 1, 'treshold': 1, 'cholecyts': 1, 'lansoprosol': 1, 'muffl': 1, 'hypnot': 1, 'inaud': 1, 'voicemail': 1, 'denerv': 1, 'intermediari': 1, 'lidocaint': 1, 'canc': 1, 'speicat': 1, 'unspeci': 1, 'keayxal': 1, 'athough': 1, 'hyperphophatemia': 1, 'cvhh': 1, 'pleae': 1, 'sensitivitei': 1, 'bradycardi': 1, 'buckl': 2, 'andmoist': 1, 'guaifenisen': 1, 'benterobact': 1, 'transist': 1, 'difficl': 1, 'consold': 1, 'cammnd': 1, 'tachypnoea': 1, '^sedat': 1, 'phelobotomi': 1, 'aloud': 1, 'gerontolog': 2, 'doff': 1, 'signiticantli': 1, 'tobro': 1, 'cholecystisi': 1, 'cxx': 1, 'encouragec': 1, 'maxillori': 1, 'dff': 1, 'panlobar': 1, 'apn': 1, 'advanbc': 1, 'sevalem': 1, 'incom': 1, 'olu': 1, 'rhab': 1, 'elat': 1, 'trachestomi': 1, 'lidaocain': 1, 'gauic': 1, 'afl': 1, 'sural': 1, 'tunel': 1, \"le'\": 1, 'abbx': 1, 'wjll': 1, 'tosay': 1, 'patientzosyn': 1, 'tnd': 1, 'mold': 2, 'procedurel': 1, 'fespiratori': 1, 'prussur': 1, 'rneal': 1, 'maibor': 1, 'hydrox': 1, 'consolidationi': 1, 'dexreas': 1, 'lovul': 1, 'preval': 1, 'steepli': 1, 'zygoma': 1, 'monasteri': 1, 'disshelvel': 1, 'wooden': 1, 'contingu': 1, 'billroth': 1, 'antrectomi': 1, 'undistend': 1, 'psbo': 1, 'bibsilar': 1, 'vagotomi': 1, 'colorect': 1, 'upstream': 1, 'oversewn': 1, 'fisula': 1, 'goo': 1, 'pelvicalic': 1, 'macrobid': 1, 'dieat': 1, 'meniscu': 1, 'emypema': 1, 'oment': 1, 'prostatomegali': 1, 'gastroenterostomi': 1, 'uncin': 1, 'ano': 2, 'epiphren': 1, 'wenchbach': 1, 'examinedv': 1, 'hypofunct': 1, 'pneumectomi': 1, 'sessioin': 1, 'pronosi': 1, 'microadenoma': 1, 'extubalt': 1, 'wsasstent': 1, 'bacillu': 2, 'metolamin': 1, 'celtic': 1, 'agr': 1, 'nicknam': 1, 'medisastinoscopi': 1, 'rvedp': 1, 'lmca': 1, 'queani': 1, 'pneumoectomi': 1, 'musculoskel': 1, 'insufficieni': 1, 'beceaus': 1, 'coronori': 1, 'pallit': 1, 'percentag': 1, 'xanthalesma': 2, 'ascul': 1, 'neosinephrin': 1, 'ccfree': 1, 'paraceliac': 1, 'sysolt': 1, 'metolazin': 1, 'dependen': 1, 'monitror': 1, 'zaroxylin': 1, 'queen': 1, 'testicular': 2, 'nscl': 1, 'nay': 1, 'withot': 1, 'datasheet': 1, 'necessri': 1, 'commmun': 1, 'nsmall': 1, 'quenn': 1, 'actinomycosi': 1, 'atorva': 1, 'rsi': 1, 'rxt': 1, 'abiopsi': 1, 'gvh': 1, 'actinomyc': 1, 'undecid': 1, 'monophon': 2, 'invovl': 2, 'rast': 1, 'ccontinu': 1, 'porb': 1, 'drinkl': 1, 'subconjuctiv': 1, 'grumpi': 1, 'queeni': 1, 'rhilar': 1, 'mediastinoscopi': 2, 'ttherapi': 1, 'iniat': 1, 'angigoraphi': 1, 'subconjunctiv': 1, 'consultatoin': 1, 'ransfer': 1, 'rteam': 1, 'cin': 1, 'scopolimin': 1, 'awka': 1, 'iimpress': 1, 'supplment': 2, 'hypotenisv': 1, 'paciti': 1, 'singific': 1, 'llnp': 1, 'bhc': 1, 'tatient': 1, 'pathophysiolog': 2, 'adentul': 1, 'absens': 1, 'interlaminar': 1, 'feder': 1, 'dinitrit': 1, 'accredo': 1, 'medco': 1, 'tenabl': 1, 'patho': 1, 'galleria': 1, 'leukem': 1, 'ppo': 1, 'neutrpeni': 1, 'caphosol': 1, 'retail': 2, 'poorer': 1, 'nasophargyng': 1, 'bcb': 1, 'indewpend': 1, 'biphenotyp': 1, 'gerim': 1, 'hazzard': 1, 'deficet': 1, 'reinfors': 1, 'fequenc': 1, 'isodil': 1, 'monintor': 1, 'eicu': 1, 'demonstrat': 1, 'mrsg': 1, 'cepifim': 1, 'capg': 1, 'cefpodox': 1, 'vot': 1, 'echhymosi': 1, 'discsuss': 1, 'grandduaght': 1, 'ronchu': 1, 'hael': 1, 'vasalin': 1, 'tavchypnea': 1, 'countershock': 1, 'adventit': 1, 'lgi': 1, 'hypercoagu': 1, 'nosocmi': 1, 'asian': 1, 'swap': 1, 'fentayl': 1, 'amlopidin': 2, 'deseryl': 1, 'inihibit': 1, 'hypernateremia': 1, 'oncot': 1, 'fucntion': 1, 'craniocaud': 2, 'scren': 1, 'keen': 1, 'failurepleas': 1, 'haldolo': 1, 'daqi': 1, 'producint': 1, 'srcotal': 1, 'nutrtit': 1, 'nonblanch': 1, 'marriag': 1, 'coolig': 1, 'migran': 1, 'antiphospholid': 1, 'roover': 1, 'antigoagul': 1, 'menisc': 1, 'nned': 1, 'dipyridimol': 1, 'follicul': 1, 'rrrr': 1, 'vitk': 1, 'nembut': 1, 'trendalapril': 1, 'trando': 1, 'redman': 1, 'ctm': 2, 'chlrohexidin': 1, 'lgib': 1, 'carbamazapin': 1, 'clutter': 1, 'dipyrimadol': 1, 'bibpap': 1, 'piic': 1, 'parietooccipit': 1, 'intabut': 1, 'neuroectoderm': 1, 'addiion': 1, 'pnet': 1, 'evalyu': 1, 'rexray': 1, 'atx': 1, 'neeb': 1, 'tnding': 1, 'audbil': 1, 'foolowup': 1, 'trachael': 1, 'racim': 1, 'nonemerg': 1, 'underdistent': 1, 'ureterocel': 1, 'multisept': 1, 'circumfirenti': 1, 'resperidon': 1, 'benztropin': 1, 'worseniong': 1, 'neuropsych': 1, 'scallop': 1, 'bronchioalveolar': 2, 'rhnochor': 1, 'risperdon': 1, 'phareng': 1, 'mediasin': 1, 'diffuss': 1, 'intuib': 1, 'weigt': 1, 'deyhdrat': 1, 'orer': 1, 'soulmedrol': 1, 'hypovelem': 1, 'lunesta': 1, 'azithromcin': 1, 'maintianedencourag': 1, 'tachypnaec': 1, 'dypena': 1, 'superolater': 1, 'periprosthet': 1, 'macronodular': 1, 'porto': 1, 'artial': 1, 'mammari': 1, 'immunocpmpromis': 1, 'atret': 1, 'periappendic': 1, 'leukesteras': 1, 'dominantli': 1, 'ceasarin': 1, 'pneoumonia': 1, 'hasa': 1, 'methocarbamol': 1, 'dydrat': 1, 'lugn': 1, 'anerusym': 1, 'discetomi': 1, 'edmea': 1, 'pannel': 1, 'spasma': 1, 'liquefi': 1, 'echinococc': 1, 'mxak': 1, 'ketonazol': 1, 'assumo': 1, 'parot': 2, 'witdraw': 1, 'periscrot': 1, 'cashier': 2, 'recipt': 2, 'acanthosi': 1, 'alchohol': 1, 'incipi': 1, 'nigrican': 1, 'maggot': 1, 'ateletasi': 1, 'consilid': 1, 'crisper': 1, 'ranch': 1, 'swaloow': 1, 'fallot': 1, 'microsheath': 1, 'nauseu': 1, 'lej': 1, 'intracarda': 1, 'rvot': 1, 'diomox': 1, 'spontatn': 1, 'collectioin': 1, 'anticardiolipin': 1, 'gicven': 1, 'apl': 1, 'afebrilex': 1, 'factt': 1, 'wqean': 1, 'tpp': 1, 'tetralog': 1, 'dorsiflex': 1, 'stiumul': 1, 'chearlead': 1, 'iivi': 1, 'anxierti': 1, 'ertapenem': 2, 'ptpexp': 1, 'tetrolog': 1, 'sell': 1, 'gangeren': 1, 'hydrocel': 1, 'testi': 1, \"fournier'\": 1, 'ventricukar': 1, 'monophas': 1, 'gliosi': 1, 'fournier': 1, 'cfa': 2, 'epididymi': 1, 'pleasnatli': 1, 'absecess': 1, 'fronm': 1, 'shotti': 1, 'fuzzi': 1, 'barrocat': 1, 'pendent': 1, 'anterolatrer': 1, 'osteosrthr': 1, 'zoraxolyn': 1, 'terrigori': 1, 'gulp': 1, 'mph': 1, 'vancomyin': 1, 'hyperesthesia': 1, 'hospitalist': 1, 'suspicisi': 1, 'beed': 1, 'nexium': 1, 'velcro': 1, 'admssion': 1, 'neckles': 1, 'lhr': 1, 'perserv': 1, 'rosari': 2, 'claritin': 1, 'bilirubinemia': 1, 'script': 1, 'lingua': 1, 'valvulopathi': 1, 'nonpurul': 1, 'respiraotyr': 1, 'narcosi': 1, 'seborrh': 1, 'lyric': 1, 'hel': 1, 'nasaltrach': 1, 'ethylsuccin': 1, 'mistook': 1, 'aifib': 1, 'sebhorr': 1, 'lim': 2, 'macrodantin': 1, 'aifb': 1, 'acetozolamid': 1, 'encelopathi': 1, 'risedron': 1, 'andhousestaff': 1, 'palliatv': 1, 'leukemi': 1, 'hemorrhioid': 1, 'actonel': 2, 'miscovascular': 1, 'simpathet': 1, 'pericaridi': 1, 'identili': 1, 'confirmatori': 1, 'tinnitu': 1, 'ifptmakesit': 1, 'vaginoplasti': 1, 'aldosteron': 1, 'recordsibandron': 1, 'pseudohyperkalemia': 1, 'paracardiaocentesi': 1, 'tohomethat': 1, 'unamen': 1, 'renin': 1, 'ptand': 1, 'nonenlarg': 1, 'dyssynchroni': 1, 'wwii': 1, 'ascult': 1, 'youth': 1, 'republ': 1, 'neuropsychiatr': 1, 'lfurosemid': 1, 'lacuna': 1, 'mandabl': 1, 'german': 1, 'escherichia': 1, 'gerentolog': 1, 'economist': 1, 'balit': 1, 'coin': 1, 'multiinfact': 1, 'emigr': 1, 'overshadow': 1, 'unfinish': 1, 'retak': 1, 'fft': 1, 'odonyphagia': 1, 'rtigid': 1, 'madiastinl': 1, 'histolog': 1, 'aor': 1, 'silica': 1, 'transbronchi': 1, 'dexemedetomidin': 1, 'traceabl': 1, 'transbronch': 1, 'capitol': 1, 'ebu': 1, 'incldu': 1, 'ttransit': 1, 'fromprevi': 1, 'epicent': 1, 'reread': 1, 'ppiv': 1, 'auop': 2, 'percipat': 1, 'diganosedmr': 1, 'quadriparesi': 1, 'carbamazepin': 1, 'nuchal': 1, 'mupirocin': 1, 'petit': 1, 'mam': 1, 'azirthomycin': 1, 'liquidsand': 1, 'contol': 1, 'pneumovaccin': 1, 'craclk': 1, 'irregluari': 1, 'historyof': 1, 'significnat': 1, 'increasedto': 1, 'initr': 1, 'previosli': 1, 'trasud': 1, 'depressoin': 1, 'underfeed': 1, 'venlafaxin': 2, 'shor': 1, 'hemplegia': 1, 'dietet': 1, 'periord': 1, 'semc': 1, 'inconsistn': 1, 'phenothiazin': 1, 'larnyng': 1, 'radat': 1, 'helmet': 1, \"crohn'\": 1, 'sqcca': 1, 'atorv': 1, 'sqqca': 1, 'thinf': 1, 'jointli': 1, 'hunch': 1, 'urinanalysi': 1, 'resusc': 1, \"bp'\": 1, 'casemanag': 1, 'emal': 1, 'wetread': 1, 'worriesom': 1, 'latanoprost': 2, 'pretest': 1, 'ganapentin': 1, 'zyphoid': 1, 'synergist': 1, 'hypoenhanc': 1, 'juxta': 1, 'pancolon': 1, 'dyspena': 1, 'acromimum': 1, 'tac': 1, 'hydroureteronephrosi': 1, 'tachacardia': 1, 'eassess': 1, 'adomin': 1, 'ahaustr': 1, 'hepatosteatosi': 1, 'toungu': 1, 'maiinstem': 1, 'sitagliptin': 1, 'reinstat': 1, 'spalid': 1, 'collasp': 1, 'ofoadm': 1, 'satbl': 1, 'procrit': 1, 'otherday': 1, 'mine': 1, 'aspart': 1, 'resterd': 1, 'ly': 1, 'tracheobronchomalacea': 1, 'coal': 1, 'silicon': 1, 'parainfluenz': 1, 'dash': 1, 'kavitha': 1, 'compartment': 1, 'triger': 1, 'receivedo': 1, 'outright': 1, 'paramethadion': 1, 'llb': 1, 'urimet': 1, 'mysolin': 1, 'trimethadion': 1, 'antiocoagul': 1, 'hydantoin': 1, 'xanthoma': 2, 'barbitur': 1, 'potient': 1, 'procliv': 1, 'phenacemid': 1, 'superirli': 1, 'exerc': 1, 'omprov': 1, 'clnical': 1, 'tropn': 1, 'enteroccocu': 1, 'osit': 1, 'pericyst': 1, 'iliav': 1, 'subcultur': 1, 'dillit': 1, 'asbcess': 1, 'cystoscop': 1, 'follwup': 1, \"rec'd\": 1, 'abrubtli': 1, 'ariway': 1, 'apspir': 1, 'oxcodon': 1, 'estrogen': 1, 'gapapentin': 1, 'thett': 1, 'cellut': 1, 'lafb': 1, 'conjug': 1, 'reinfarct': 1, 'hyptertens': 1, 'fusiform': 2, 'klmn': 1, 'datng': 1, 'dieulafoy': 1, 'cauter': 1, 'incostistantli': 1, 'envolv': 1, 'dipyridamol': 2, 'tetrofosmin': 1, 'arrea': 1, 'tasp': 1, 'ligamentum': 1, 'flavum': 1, 'takutsubo': 1, 'sihgnific': 1, 'supradiaphragmat': 1, 'unrecogn': 2, 'dalman': 1, 'hemodyam': 1, 'thug': 1, \"hodgkin'\": 1, 'anthracot': 1, 'thrombyocytopenia': 1, 'autosct': 1, 'wrosen': 1, 'rsvg': 1, 'edisyl': 1, 'orthastat': 1, 'hashimoto': 1, 'omc': 1, 'analogu': 1, 'pautosct': 1, 'quantif': 1, 'steep': 1, 'hayfev': 1, 'inspiss': 1, 'sctp': 1, 'mantl': 1, 'flurazepam': 1, 'dvtt': 1, 'poto': 1, 'cvd': 1, 'streptococci': 1, 'enterobacteriacea': 1, 'intuab': 2, 'insular': 1, 'staphylococcu': 1, 'lobotomi': 1, 'rtight': 1, 'carbapenemas': 1, 'throthi': 1, 'etest': 1, 'kleibsella': 2, 'tigecyclin': 2, 'carbapenas': 1, 'sti': 1, \"cva'\": 1, 'thoracoplasi': 1, 'suggetsin': 1, 'choana': 1, 'subaort': 1, 'ossicl': 1, 'cloget': 1, 'inferoposterolater': 1, 'linguist': 1, 'stenotrophomona': 1, 'tmpsmx': 1, 'blame': 1, 'recspleas': 1, 'chronicallyt': 1, 'stenothrophomona': 1, 'aspergilloma': 1, 'hemodyamn': 1, 'mde': 1, 'acom': 1, 'nitrogen': 1, 'annn': 1, 'boewl': 1, 'intraadomin': 1, 'nevirapin': 1, 'cytospin': 1, 'paracenthesi': 1, 'kkxa': 1, 'sodabicarb': 1, 'anascarca': 1, 'asciet': 1, 'knw': 1, 'conduc': 1, 'parascentesi': 1, 'carnitin': 1, 'lopinavir': 1, 'tatoo': 1, 'metaboli': 1, 'acetylcystien': 1, 'ctapb': 1, 'drowsey': 1, 'mitochondri': 1, 'thjicken': 1, 'bic': 1, 'tuirn': 1, 'thymu': 1, 'noteworthi': 2, 'intrafissur': 1, 'ocp': 1, 'dayquil': 1, 'hypocontractil': 1, 'cantanes': 1, 'hbr': 1, 'cozar': 1, 'antocoagul': 1, 'cichect': 1, 'sclear': 1, 'retenion': 1, 'dextromethorphan': 2, 'sucrulf': 1, 'sfyb': 1, 'driop': 1, 'roe': 1, 'currenli': 1, 'heoarin': 1, 'whim': 1, 'exeryt': 1, 'forsmal': 1, 'exculud': 1, 'unconvinc': 1, 'counmadin': 1, 'peridontatl': 1, 'toot': 1, 'gtt^': 1, 'petrolatum': 1, 'awaitte': 1, 'recombin': 1, 'suspict': 1, 'beief': 1, 'axiallyacquir': 1, 'coumdin': 1, 'signirficantli': 1, 'paremet': 1, 'benaprotien': 1, 'likelyb': 1, 'periodont': 1, 'paramt': 1, 'maxilo': 1, 'fider': 1, 'underpneumat': 1, 'adjus': 1, 'tge': 1, 'rhionch': 1, 'cxed': 1, 'patl': 1, 'opth': 1, 'peridont': 1, 'prostati': 1, 'throacic': 1, 'contribtori': 1, 'secteion': 1, 'shft': 1, 'dentistri': 1, 'pbt': 1, 'cheng': 1, 'lene': 1, 'surroundiong': 1, 'sunu': 1, 'meropenenm': 1, 'accucheck': 2, 'nunintent': 1, 'predinison': 1, 'gasteoperesi': 1, 'lossd': 1, 'fsh': 1, 'ondesetron': 1, 'coniz': 1, 'fibrmyalgia': 1, 'levealbutenol': 1, 'prolactin': 1, 'intraadbomin': 1, 'bebrid': 1, 'oxytoca': 1, 'opact': 1, 'fragili': 1, 'excoriati': 1, 'isoenzym': 1, 'methacryl': 1, 'gujarati': 1, 'oxgen': 1, 'hypochr': 1, 'airwi': 1, 'cement': 1, 'felxis': 1, 'pltclmp': 1, 'macroci': 1, 'anisoci': 1, 'exertionsbp': 1, 'lovemox': 1, 'beath': 1, 'mresult': 1, 'likekli': 1, 'enarterctomi': 1, 'ezetimib': 1, 'wbxrt': 1, 'ischiorect': 1, 'castgr': 1, 'challebg': 1, 'avert': 1, 'afiib': 1, 'appoprio': 1, 'afteroon': 1, 'hmed': 1, 'nasuea': 1, 'che': 1, 'vassopress': 1, 'preripher': 1, 'dopler': 1, 'aranesp': 1, 'eosinphil': 1, 'vasopress': 1, 'tufe': 1, 'strongyloid': 1, 'reanl': 1, 'levitiracetam': 1, 'kpo': 1, 'afar': 1, 'paracardi': 1, 'forego': 1, 'apg': 1, 'counterproduct': 1, 'thoarcentesi': 1, 'cartid': 1, 'cretainin': 1, 'scarbosa': 1, 'plesaent': 1, 'catert': 1, 'nephrit': 1, 'antral': 1, 'nerphrot': 1, 'lens': 1, 'seqeuala': 1, 'neropenum': 1, 'tygecyclin': 1, 'eratosi': 1, 'prokaryot': 1, 'synthesi': 1, 'dyeiodin': 1, 'actin': 2, 'saber': 1, 'swith': 1, 'telphon': 1, 'lipopolysaccharid': 1, 'endotoxin': 1, 'cephalexinunknown': 1, 'vasoopressor': 1, 'guiaac': 1, 'vasodilit': 1, 'senil': 1, 'earlob': 1, 'suggesst': 1, 'sensitiviti': 1, 'insta': 1, 'flutison': 1, 'evidenv': 1, 'precautionst': 1, 'tand': 1, 'inhibitori': 1, 'transan': 1, 'corus': 1, 'piccin': 1, 'vancomycindiarrhea': 1, 'ontiotropium': 1, 'forarm': 1, 'purpura': 1, 'adequaut': 1, 'avn': 2, 'systolo': 1, 'hypothes': 1, 'preoccup': 1, 'hypothairoid': 1, 'upload': 1, 'herpez': 1, 'begain': 1, 'lampectomi': 1, 'elevat': 1, \"'overdos\": 1, 'fentanli': 1, 'venitlatori': 1, 'cleanout': 1, 'skeletel': 1, 'rqmnt': 1, 'neosyneph': 1, 'scopolomin': 1, 'techinc': 1, 'tbd': 1, 'fibersoourc': 1, 'honeymoon': 1, 'nimenda': 1, 'recomp': 1, 'pules': 1, 'recompt': 1, 'duoerm': 1, 'heroic': 1, 'cheyennn': 1, 'outing': 1, 'esophagel': 1, 'chron': 2, 'slowl': 1, 'demonstart': 1, 'symptomatolog': 1, 'innumber': 1, 'segmetn': 1, 'duresi': 1, 'carvedi': 1, 'rumbl': 1, 'paient': 1, 'firefight': 1, 'rgurgit': 1, 'thearapeut': 1, 'marit': 1, 'contracta': 1, 'exagerr': 1, 'evh': 1, 'neostigmin': 1, 'plasti': 1, 'dipropion': 1, 'thombosi': 1, 'recuss': 1, 'detali': 1, 'carotidendarterectomi': 1, 'claudic': 2, 'pulsati': 1, 'beclomethason': 1, 'polar': 1, 'ccath': 1, 'cod': 1, 'advir': 2, 'dacron': 1, '^pa': 1, '^pvc': 1, 'guaifenasin': 1, 'swann': 1, 'oozi': 1, 'thear': 1, 'llr': 1, 'cuplet': 1, 'valvuloplasti': 1, 'replaced': 1, 'supracondylar': 1, 'perfect': 1, 'grascil': 1, 'multiplan': 1, 'kyphoscoloiosi': 1, 'pdf': 1, 'consitist': 1, 'hajdu': 1, 'cartridg': 1, 'ongong': 1, 'proton': 1, 'hemidiaghragm': 1, 'tather': 1, 'eupnic': 1, 'sreen': 1, 'dysfx': 1, 'msec': 1, 'infranod': 1, 'upj': 1, 'senstit': 1, 'abhorr': 1, 'aftermn': 1, 'hoverjack': 1, 'peniciliin': 1, 'onccur': 1, 'pylenephr': 1, 'hovermatt': 1, 'thromboemboli': 1, 'interventionl': 1, 'levothyrox': 1, 'cogwheel': 1, 'cpqp': 1, 'prmari': 1, 'neurmuscular': 1, 'roght': 1, 'hebreb': 2, 'nonurg': 2, 'ebsl': 1, 'ealuat': 1, 'resectionand': 1, 'moonitor': 1, 'judgment': 1, 'inbteween': 1, 'txfer': 1, 'miltifacori': 1, 'pseudoon': 1, 'san': 1, 'gsurg': 1, 'lk': 1, 'pantoiprazol': 1, 'bradyarrhythmia': 1, 'xcc': 1, 'acidifi': 1, 'nnon': 1, 'caleld': 1, 'isp': 1, 'psueudomona': 1, \"peg'\": 1, 'psuedamona': 1, 'traheotomi': 1, 'attampt': 1, 'presentdu': 1, 'provok': 1, 'airpal': 1, 'pseuomona': 1, 'thck': 1, 'ascept': 1, 'nightim': 1, 'blockshortli': 1, 'aberrantli': 1, 'pyramid': 1, 'nephrosi': 1, 'calic': 1, 'follect': 1, \"still'\": 1, 'subment': 1, 'slippag': 1, 'attrov': 1, 'diaghram': 1, 'venolfax': 1, 'montgumeri': 1, 'mycon': 1, 'receivingiv': 1, 'trachealbronchomalacia': 1, 'scr': 1, 'trifluor': 1, 'atrorv': 1, 'bronchiectai': 1, 'meropemem': 1, 'videostriposcopi': 1, 'mainstay': 1, 'guaifensin': 1, 'glotti': 1, 'azithromcyin': 1, 'stroboscopi': 1, 'omeprozol': 1, 'vcd': 1, 'methacholin': 1, 'omep': 1, 'swim': 1, 'infet': 1, 'unbchang': 1, 'eavluat': 1, 'depres': 1, 'career': 1, 'chokehold': 1, 'hypernatremiawith': 1, 'saf': 1, 'aspiri': 1, 'pexi': 1, 'slig': 1, 'llow': 1, 'shx': 1, 'hypoplasia': 1, 'presentw': 1, 'periphr': 1, 'palin': 1, 'amtter': 1, 'slg': 1, 'hecerebr': 1, 'imppress': 1, 'hydrothrorax': 1, 'antur': 1, 'catter': 1, 'positiona': 1, 'tenosi': 1, 'femora': 1, 'physicianclip': 1, 'demeylin': 1, 'dao': 1, 'decreeas': 1, 'resolvi': 1, 'squirmi': 1, 'failiur': 1, 'anco': 1, 'evant': 1, 'bronchspasm': 1, 'cultprit': 1, 'attd': 1, 'cehst': 1, 'exacurb': 1, 'keratos': 1, 'handwritten': 1, 'vitreou': 1, 'arousib': 1, 'nameda': 1, 'kayexil': 1, 'fornic': 1, 'tamoxifen': 1, 'nitrglycerin': 1, 'niacin': 1, 'achalasia': 1, 'rehba': 1, 'conrol': 1, 'produt': 1, 'lunvch': 1, 'botox': 1, 'achalsia': 1, 'orpharyng': 1, 'shelf': 1, 'acinar': 1, 'agt': 1, 'overlod': 1, 'prespil': 1, 'rln': 1, 'sublobar': 1, 'mandira': 1, 'embarrass': 1, 'aereat': 1, 'meadiastinoscopi': 1, 'virtu': 1, 'rxra': 1, 'erythroderm': 1, 'fungoid': 1, 'neurocheck': 1, 'neurologici': 1, 'mycosi': 1, 'ctcl': 1, 'osteoarthtr': 1, 'angioedem': 1, 'pneumocephalu': 1, 'angioinvas': 1, 'pcabgx': 1, 'withcvl': 1, 'laparascop': 1, 'perivarcular': 1, 'enchanc': 1, 'pulldown': 1, 'trochanter': 1, 'seroma': 1, 'etz': 1, 'superifci': 1, 'interlock': 1, 'hypercholestremia': 1, 'underdistens': 1, 'eed': 1, 'chonz': 1, 'intraperitonea': 1, 'aponeurosi': 1, 'disarray': 1, 'latherg': 1, 'extrus': 1, 'spigelian': 1, 'sarum': 1, 'antierior': 1, 'gwilliam': 1, 'fiberspourc': 1, 'chornz': 1, 'tailur': 1, 'cavieti': 1, 'muli': 1, \"lemiere'\": 1, 'transduct': 1, 'colpo': 1, 'somonol': 1, 'accomani': 1, 'mucro': 1, 'anaphlyaxi': 1, 'headacn': 1, 'anarob': 1, 'extubu': 1, 'epidu': 1, 'garden': 1, 'transuc': 1, 'gad': 1, 'colposcopi': 1, 'thankyou': 1, 'cofluent': 1, 'immunofluoresc': 1, 'osaltamivir': 1, 'excus': 1, 'substranti': 1, 'mexican': 1, 'reportsh': 1, 'infer': 1, 'ronchrou': 1, 'reddent': 1, 'repetet': 1, 'discon': 1, 'nasti': 1, 'fluctauat': 1, 'hmm': 1, 'berath': 1, 'encouagr': 1, 'couh': 1, 'apperenli': 1, 'flucauat': 1, 'monitort': 1, 'multiofoc': 1, 'aphonia': 1, 'flagylcefipim': 1, 'nasatrach': 1, 'qshift': 1, 'pateitn': 1}}\n"
     ]
    }
   ],
   "source": [
    "print(note_appearance_counter)"
   ]
  },
  {
   "cell_type": "code",
   "execution_count": null,
   "metadata": {},
   "outputs": [],
   "source": []
  },
  {
   "cell_type": "code",
   "execution_count": null,
   "metadata": {},
   "outputs": [],
   "source": []
  },
  {
   "cell_type": "code",
   "execution_count": 39,
   "metadata": {},
   "outputs": [],
   "source": [
    "# # get hyper-paramters n_fold and threshold from user input\n",
    "n_fold = float(3)\n",
    "threshold = float(0.01)\n",
    "\n",
    "frequent_word_lists = {}\n",
    "factor = {}"
   ]
  },
  {
   "cell_type": "code",
   "execution_count": 40,
   "metadata": {},
   "outputs": [
    {
     "name": "stdout",
     "output_type": "stream",
     "text": [
      "pneumonia_dead has 11678 unique words!\n",
      "pneumonia_alive has 22572 unique words!\n",
      "finished making frequent words list for pneumonia_alive\n"
     ]
    }
   ],
   "source": [
    "\"\"\"function description:\n",
    "for each disease in note_appearance_counter\n",
    "    1. checks whether a word in disease file is frequent(frequency standard as defined by factor, n_fold, and threshold)\n",
    "    2. adds to frequent_word_list\n",
    "\"\"\"\n",
    "\n",
    "# def find_frequent_word(note_appearance_counter, frequent_word_lists, number_of_notes, factor, n_fold, threshold):\n",
    "\n",
    "# calculate normalizing factor for each disease\n",
    "note_sum = 0\n",
    "\n",
    "# Count from two labels\n",
    "for disease in number_of_notes:\n",
    "    note_sum += float(number_of_notes[disease])\n",
    "    \n",
    "for disease in number_of_notes:\n",
    "    factor[disease] = number_of_notes[disease] / note_sum\n",
    "\n",
    "# determine frequent word for each disease file\n",
    "for disease in note_appearance_counter:\n",
    "    frequent_word_lists[disease] = []\n",
    "\n",
    "    print(disease + \" has \" + str(len(note_appearance_counter[disease])) + \" unique words!\")\n",
    "\n",
    "    for word in note_appearance_counter[disease]:\n",
    "        \n",
    "        freq_check = True\n",
    "        for check_disease in note_appearance_counter:\n",
    "            \n",
    "            if not disease == check_disease:\n",
    "                if word in note_appearance_counter[check_disease]:\n",
    "                    if not (note_appearance_counter[disease][word] / note_appearance_counter[check_disease][word] / factor[disease] * factor[check_disease] > n_fold \\\n",
    "                        and note_appearance_counter[disease][word] > (number_of_notes[disease] * threshold)):\n",
    "\n",
    "                        freq_check = False\n",
    "                        break\n",
    "\n",
    "                else:\n",
    "                    if not (note_appearance_counter[disease][word] > n_fold and note_appearance_counter[disease][word] > (number_of_notes[disease] * threshold)):\n",
    "                        freq_check = False\n",
    "                        break\n",
    "        if freq_check:\n",
    "            frequent_word_lists[disease].append((word))\n",
    "            # Create a tuple of word and its count\n",
    "#             frequent_word_lists[disease].append((word, note_appearance_counter[disease][word]))\n",
    "\n",
    "        \n",
    "\n",
    "print(\"finished making frequent words list for \" + disease)"
   ]
  },
  {
   "cell_type": "code",
   "execution_count": 41,
   "metadata": {
    "scrolled": true
   },
   "outputs": [
    {
     "name": "stdout",
     "output_type": "stream",
     "text": [
      "1419.0\n",
      "{'pneumonia_dead': 0.17758985200845667, 'pneumonia_alive': 0.8224101479915433}\n"
     ]
    }
   ],
   "source": [
    "print(note_sum)\n",
    "print(factor)\n",
    "\n",
    "# number of notes\n",
    "# 58029.0\n",
    "# {'pneumonia_dead': 0.2049837150390322, 'pneumonia_alive': 0.7950162849609678}"
   ]
  },
  {
   "cell_type": "code",
   "execution_count": 42,
   "metadata": {
    "scrolled": true
   },
   "outputs": [
    {
     "name": "stdout",
     "output_type": "stream",
     "text": [
      "187\n",
      "112\n"
     ]
    }
   ],
   "source": [
    "print(len(frequent_word_lists['pneumonia_dead']))\n",
    "print(len(frequent_word_lists['pneumonia_alive']))"
   ]
  },
  {
   "cell_type": "code",
   "execution_count": 43,
   "metadata": {
    "scrolled": true
   },
   "outputs": [
    {
     "name": "stdout",
     "output_type": "stream",
     "text": [
      "{'pneumonia_dead': ['dic', 'profound', 'anur', 'bicarbon', 'death', 'azotemia', 'recruit', 'refractori', 'pcv', 'arrest', 'mottl', 'hypothermia', 'autopeep', 'clergi', 'phenylephrin', 'arrang', 'expir', 'vasopressin', 'cpr', 'paralyt', 'clinician', 'pea', 'hypercapn', 'suffer', 'norepinephrin', 'unrespons', 'funer', 'pinpoint', 'gum', 'dnr', 'cmo', 'nonpurpos', 'dk', 'dni', 'sluggish', 'wish', 'mso', 'levoph', 'option', 'priest', 'institut', 'hypotent', 'pronounc', 'prognosi', 'purpl', 'grim', 'dead', 'mortem', 'acv', 'agreement', 'life', 'centimet', 'bye', 'synch', 'asystol', 'peac', 'surviv', 'duski', 'cathol', 'sync', 'vtach', 'deterior', 'hemothorax', 'pfr', 'cvvh', 'seriou', 'deliv', 'pulseless', 'vasopressor', 'crrt', 'agon', 'cvvhd', 'suppport', 'corneal', 'acidot', 'defibril', 'cvvhdf', 'rusti', 'neosynephrin', 'lw', 'hypotherm', 'maroon', 'unequ', 'brb', 'cyanot', 'bair', 'elimin', 'hugger', 'levof', 'mtg', 'ethic', 'among', 'ffp', 'pitressin', 'declin', 'pray', 'lc', 'neo', 'syring', 'morgu', \"tf'ing\", 'triadyn', 'nahco', 'town', 'absorb', 'escal', 'bairhugg', 'discoordin', 'prayer', 'motil', 'norepi', 'autopsi', 'paco', 'zero', 'rabbi', 'bank', 'circuit', 'sml', 'hunger', 'unstabl', 'mind', 'hung', 'polici', 'dopamin', 'intiat', 'moan', 'cantones', 'palli', 'readdress', 'gurgl', 'anuria', 'underneath', 'dobutamin', 'platelet', 'platlet', 'oncologist', 'hospic', 'quadrent', 'core', 'cardiovert', 'oligur', 'griev', 'gut', 'twitch', 'cisatracurium', 'liw', 'crt', 'sacrament', 'plat', 'grave', 'heroic', 'occupi', 'struggl', 'opinion', 'gentamycin', 'icter', 'ardsnet', 'pplat', 'themselv', 'meaning', 'tubular', 'fibrinogen', 'vasoconstrict', 'sibl', 'gasp', 'hook', 'realist', 'tran', 'aricept', 'analgesia', 'declar', 'dorsal', 'sluggishli', 'prioriti', 'dysynchron', 'ipf', 'goodby', 'hemodynim', 'petechia', 'harm', 'underpenetr', 'ggt', 'led', 'pastor', 'chlorhex', 'inde', 'abnl'], 'pneumonia_alive': ['ambien', 'oob', 'chair', 'commod', 'pleasant', 'gait', 'ambul', 'rm', 'splint', 'supervis', 'lift', 'puff', 'lat', 'lpm', 'aox', 'db', 'breakfast', 'laryng', 'cup', 'foci', 'hyperintens', 'venti', 'chip', 'jejunum', 'qtc', 'plate', 'money', 'cloth', 'dz', 'signatur', 'wallet', 'jewelri', 'cash', 'pharyng', 'redirect', 'behavior', 'zyprexa', 'hilum', 'align', 'rehabilit', 'lotion', 'stair', 'muir', 'locomot', 'rpe', 'scab', 'macu', 'distanc', 'mellitu', 'olanzapin', 'cg', 'probe', 'passi', 'motor', 'mrg', 'deflat', 'bottl', 'unassist', 'ntnd', 'captopril', 'scar', 'osa', 'im', 'gadolinium', 'pneumococc', 'magnevist', 'forc', 'incent', 'spiromet', 'nectar', 'video', 'sensat', 'seroquel', 'barium', 'postop', 'asthma', 'sweat', 'amb', 'dizzi', 'lightheaded', 'pivot', 'wfl', 'ctx', 'readmit', 'endur', 'bromid', 'angri', 'paperwork', 'freeli', 'rigor', 'ppd', 'solut', 'omeprazol', 'diaphoresi', 'divis', 'silent', 'pneumothorac', 'gabapentin', 'aaox', 'habitu', 'vallecula', 'homogen', 'spirit', 'unavail', 'fatti', 'hive', 'tdi', 'echocardiogram', 'cdb', 'seat', 'videofluoroscopi', 'slice']}\n"
     ]
    }
   ],
   "source": [
    "print(frequent_word_lists)"
   ]
  },
  {
   "cell_type": "markdown",
   "metadata": {},
   "source": [
    "### 2. Co-occurrence generation\n",
    "FP-growth"
   ]
  },
  {
   "cell_type": "code",
   "execution_count": 44,
   "metadata": {},
   "outputs": [],
   "source": [
    "FREQUENT_WORD_LIST = frequent_word_lists['pneumonia_dead'] + frequent_word_lists['pneumonia_alive']"
   ]
  },
  {
   "cell_type": "code",
   "execution_count": 45,
   "metadata": {
    "scrolled": true
   },
   "outputs": [
    {
     "name": "stdout",
     "output_type": "stream",
     "text": [
      "\n",
      "word dictionary created!\n",
      "\n",
      "{'dic': 1, 'profound': 2, 'anur': 3, 'bicarbon': 4, 'death': 5, 'azotemia': 6, 'recruit': 7, 'refractori': 8, 'pcv': 9, 'arrest': 10, 'mottl': 11, 'hypothermia': 12, 'autopeep': 13, 'clergi': 14, 'phenylephrin': 15, 'arrang': 16, 'expir': 17, 'vasopressin': 18, 'cpr': 19, 'paralyt': 20, 'clinician': 21, 'pea': 22, 'hypercapn': 23, 'suffer': 24, 'norepinephrin': 25, 'unrespon': 26, 'funer': 27, 'pinpoint': 28, 'gum': 29, 'dnr': 30, 'cmo': 31, 'nonpurpo': 32, 'dk': 33, 'dni': 34, 'sluggish': 35, 'wish': 36, 'mso': 37, 'levoph': 38, 'option': 39, 'priest': 40, 'institut': 41, 'hypot': 42, 'pronounc': 43, 'prognosi': 44, 'purpl': 45, 'grim': 46, 'dead': 47, 'mortem': 48, 'acv': 49, 'agreement': 50, 'life': 51, 'centimet': 52, 'bye': 53, 'synch': 54, 'asystol': 55, 'peac': 56, 'surviv': 57, 'duski': 58, 'cathol': 59, 'sync': 60, 'vtach': 61, 'deterior': 62, 'hemothorax': 63, 'pfr': 64, 'cvvh': 65, 'seriou': 66, 'deliv': 67, 'pulseless': 68, 'vasopressor': 69, 'crrt': 70, 'agon': 71, 'cvvhd': 72, 'suppport': 73, 'corneal': 74, 'acidot': 75, 'defibril': 76, 'cvvhdf': 77, 'rusti': 78, 'neosynephrin': 79, 'lw': 80, 'hypotherm': 81, 'maroon': 82, 'unequ': 83, 'brb': 84, 'cyanot': 85, 'bair': 86, 'elimin': 87, 'hugger': 88, 'levof': 89, 'mtg': 90, 'ethic': 91, 'among': 92, 'ffp': 93, 'pitressin': 94, 'declin': 95, 'pray': 96, 'lc': 97, 'neo': 98, 'syre': 99, 'morgu': 100, \"tf'ing\": 101, 'triadyn': 102, 'nahco': 103, 'town': 104, 'absorb': 105, 'escal': 106, 'bairhugg': 107, 'discoordin': 108, 'prayer': 109, 'motil': 110, 'norepi': 111, 'autopsi': 112, 'paco': 113, 'zero': 114, 'rabbi': 115, 'bank': 116, 'circuit': 117, 'sml': 118, 'hunger': 119, 'unstabl': 120, 'mind': 121, 'hung': 122, 'polici': 123, 'dopamin': 124, 'intiat': 125, 'moan': 126, 'canton': 127, 'palli': 128, 'readdress': 129, 'gurgl': 130, 'anuria': 131, 'underneath': 132, 'dobutamin': 133, 'platelet': 134, 'platlet': 135, 'oncologist': 136, 'hospic': 137, 'quadrent': 138, 'core': 139, 'cardiovert': 140, 'oligur': 141, 'griev': 142, 'gut': 143, 'twitch': 144, 'cisatracurium': 145, 'liw': 146, 'crt': 147, 'sacrament': 148, 'plat': 149, 'grave': 150, 'heroic': 151, 'occupi': 152, 'struggl': 153, 'opinion': 154, 'gentamycin': 155, 'icter': 156, 'ardsnet': 157, 'pplat': 158, 'themselv': 159, 'mean': 160, 'tubular': 161, 'fibrinogen': 162, 'vasoconstrict': 163, 'sibl': 164, 'gasp': 165, 'hook': 166, 'realist': 167, 'tran': 168, 'aricept': 169, 'analgesia': 170, 'declar': 171, 'dorsal': 172, 'sluggishli': 173, 'prioriti': 174, 'dysynchron': 175, 'ipf': 176, 'goodbi': 177, 'hemodynim': 178, 'petechia': 179, 'harm': 180, 'underpenetr': 181, 'ggt': 182, 'led': 183, 'pastor': 184, 'chlorhex': 185, 'ind': 186, 'abnl': 187, 'ambien': 188, 'oob': 189, 'chair': 190, 'commod': 191, 'pleasant': 192, 'gait': 193, 'ambul': 194, 'rm': 195, 'splint': 196, 'supervi': 197, 'lift': 198, 'puff': 199, 'lat': 200, 'lpm': 201, 'aox': 202, 'db': 203, 'breakfast': 204, 'laryng': 205, 'cup': 206, 'foci': 207, 'hyperinten': 208, 'venti': 209, 'chip': 210, 'jejunum': 211, 'qtc': 212, 'plate': 213, 'money': 214, 'cloth': 215, 'dz': 216, 'signatur': 217, 'wallet': 218, 'jewelri': 219, 'cash': 220, 'pharyng': 221, 'redirect': 222, 'behavior': 223, 'zyprexa': 224, 'hilum': 225, 'align': 226, 'rehabilit': 227, 'lotion': 228, 'stair': 229, 'muir': 230, 'locomot': 231, 'rpe': 232, 'scab': 233, 'macu': 234, 'distanc': 235, 'mellitu': 236, 'olanzapin': 237, 'cg': 238, 'probe': 239, 'passi': 240, 'motor': 241, 'mrg': 242, 'deflat': 243, 'bottl': 244, 'unassist': 245, 'ntnd': 246, 'captopril': 247, 'scar': 248, 'osa': 249, 'im': 250, 'gadolinium': 251, 'pneumococc': 252, 'magnevist': 253, 'forc': 254, 'incent': 255, 'spiromet': 256, 'nectar': 257, 'video': 258, 'sensat': 259, 'seroquel': 260, 'barium': 261, 'postop': 262, 'asthma': 263, 'sweat': 264, 'amb': 265, 'dizzi': 266, 'lighthead': 267, 'pivot': 268, 'wfl': 269, 'ctx': 270, 'readmit': 271, 'endur': 272, 'bromid': 273, 'angri': 274, 'paperwork': 275, 'freeli': 276, 'rigor': 277, 'ppd': 278, 'solut': 279, 'omeprazol': 280, 'diaphoresi': 281, 'divi': 282, 'silent': 283, 'pneumothorac': 284, 'gabapentin': 285, 'aaox': 286, 'habitu': 287, 'vallecula': 288, 'homogen': 289, 'spirit': 290, 'unavail': 291, 'fatti': 292, 'hive': 293, 'tdi': 294, 'echocardiogram': 295, 'cdb': 296, 'seat': 297, 'videofluoroscopi': 298, 'slice': 299}\n"
     ]
    }
   ],
   "source": [
    "\"\"\"function description:\n",
    "generates frequent word set for the disease\n",
    "\"\"\"\n",
    "word_dict = {}\n",
    "word_id = 1\n",
    "stemmer = PorterStemmer()\n",
    "\n",
    "\n",
    "for word in FREQUENT_WORD_LIST:\n",
    "    if not word == \"WORD\":\n",
    "        word_dict[stemmer.stem(word.strip())] = word_id\n",
    "        word_id += 1\n",
    "             \n",
    "print(\"\\nword dictionary created!\\n\")\n",
    "print(word_dict)\n"
   ]
  },
  {
   "cell_type": "markdown",
   "metadata": {},
   "source": [
    "### Implementetion with python for FP_growth"
   ]
  },
  {
   "cell_type": "code",
   "execution_count": 46,
   "metadata": {
    "scrolled": true
   },
   "outputs": [
    {
     "name": "stderr",
     "output_type": "stream",
     "text": [
      "100%|██████████| 11895/11895 [01:33<00:00, 127.86it/s]\n",
      "  0%|          | 4/46134 [00:00<20:28, 37.55it/s]"
     ]
    },
    {
     "name": "stdout",
     "output_type": "stream",
     "text": [
      "FP growth input for pneumonia_dead generated!\n"
     ]
    },
    {
     "name": "stderr",
     "output_type": "stream",
     "text": [
      "100%|██████████| 46134/46134 [05:51<00:00, 131.27it/s]"
     ]
    },
    {
     "name": "stdout",
     "output_type": "stream",
     "text": [
      "FP growth input for pneumonia_alive generated!\n"
     ]
    },
    {
     "name": "stderr",
     "output_type": "stream",
     "text": [
      "\n"
     ]
    }
   ],
   "source": [
    "# http://rasbt.github.io/mlxtend/user_guide/frequent_patterns/fpgrowth/\n",
    "import os\n",
    "import operator\n",
    "from pathlib import Path\n",
    "from mlxtend.frequent_patterns import fpgrowth\n",
    "from mlxtend.preprocessing import TransactionEncoder\n",
    "import pandas as pd\n",
    "\n",
    "# ----\n",
    "def fp_growth_input_per_patient_python(disease_name, disease_df, word_dict, min_support, label):\n",
    "    \n",
    "    # For dataframe\n",
    "    patient_id_lst = []\n",
    "    patient_cooc_lst = []\n",
    "    patient_cooc_minsup_lst = []\n",
    "    patient_label_lst = []\n",
    "    patient_note_cnt = []\n",
    "    patient_feature_lst = []\n",
    "    patient_feature_idx_lst = []\n",
    "    \n",
    "    # --------------    \n",
    "    patient_id = -1\n",
    "    note_cnt = 0\n",
    "    patient_note_list = []\n",
    "    \n",
    "    # read line in from file (each line is one note)\n",
    "    for index, row in tqdm(disease_df.iterrows(), total=disease_df.shape[0]):\n",
    "        \n",
    "        # only regard certain type of notes\n",
    "        patient_id_check = int(row['SUBJECT_ID_x'])\n",
    "        note = re.sub(r'\\[\\*\\*(.*?)\\*\\*\\]|[_,\\d\\*:~=\\.\\-\\+\\\\/]+', ' ', row['TEXT'])\n",
    "        patient_word_set = set()\n",
    "    \n",
    "#         print(f\"patient_id_check: {patient_id_check}, patient_id: {patient_id}\")\n",
    "        # if patient id has changed, end sequence and start new sequence\n",
    "        if not patient_id == patient_id_check and not patient_id == -1:\n",
    "            te = TransactionEncoder()\n",
    "            te_ary = te.fit(patient_note_list).transform(patient_note_list)\n",
    "            df = pd.DataFrame(te_ary, columns=te.columns_)\n",
    "            df_itemsets = fpgrowth(df, min_support=min_support, use_colnames=True)\n",
    "            \n",
    "            cooc_tmp = []\n",
    "            cooc_minsup_tmp = []\n",
    "            cooc_feature_tmp = []\n",
    "            cooc_feature_idx_tmp = []\n",
    "            \n",
    "            for index, row in df_itemsets.iterrows():\n",
    "                if len(row['itemsets']) == 1:\n",
    "                    word = list(row['itemsets'])[0]\n",
    "                    min_sup = row['support']\n",
    "                    cooc_feature_tmp.append(min_sup)\n",
    "                    cooc_feature_idx_tmp.append(word)\n",
    "                    \n",
    "                if len(row['itemsets']) == 2:\n",
    "                    cooc_ = list(row['itemsets'])\n",
    "                    cooc_tmp.append(cooc_)\n",
    "                    cooc_minsup_tmp.append(row['support'])\n",
    "            \n",
    "#             for index, row in df_itemsets.iterrows():\n",
    "#                 if len(row['itemsets']) == 1:\n",
    "#                     word = list(row['itemsets'])[0]\n",
    "#                     min_sup = row['support']\n",
    "#                     if word not in word_dict_df:\n",
    "#                         word_dict_df[word] = min_sup\n",
    "                    \n",
    "#                 if len(row['itemsets']) == 2:\n",
    "#                     cooc_ = list(row['itemsets'])\n",
    "#                     cooc_tmp.append([[cooc_[0], word_dict_df[cooc_[0]]], [cooc_[1], word_dict_df[cooc_[1]]]])\n",
    "#                     cooc_minsup_tmp.append(row['support'])\n",
    "                    \n",
    "          \n",
    "            # Update glob lists\n",
    "            patient_id_lst.append(patient_id)\n",
    "            patient_cooc_lst.append(cooc_tmp)\n",
    "            patient_cooc_minsup_lst.append(cooc_minsup_tmp)\n",
    "            patient_label_lst.append(label)\n",
    "            patient_note_cnt.append(note_cnt)\n",
    "            \n",
    "            patient_feature_lst.append(cooc_feature_tmp)\n",
    "            patient_feature_idx_lst.append(cooc_feature_idx_tmp)\n",
    "            \n",
    "            # Reset local lists\n",
    "            patient_note_list = []\n",
    "            note_cnt = 0\n",
    "                    \n",
    "        # update patient id\n",
    "        patient_id = patient_id_check\n",
    "        tokenized_note = word_tokenize(note)\n",
    "        note_cnt += 1\n",
    "\n",
    "        # loop through each word in note to count word belonging to each disease\n",
    "        for word in tokenized_note:\n",
    "            stemmed_word = stemmer.stem(word.lower())       \n",
    "            if stemmed_word in word_dict:\n",
    "                    patient_word_set.add(stemmed_word)\n",
    "\n",
    "        templst = []\n",
    "        for word in patient_word_set:\n",
    "            templst.append(word)\n",
    "\n",
    "        if templst:\n",
    "            patient_note_list.append(templst)\n",
    "    \n",
    "    # Last patient info\n",
    "    te = TransactionEncoder()\n",
    "    te_ary = te.fit(patient_note_list).transform(patient_note_list)\n",
    "    df = pd.DataFrame(te_ary, columns=te.columns_)\n",
    "    df_itemsets = fpgrowth(df, min_support=min_support, use_colnames=True)\n",
    "            \n",
    "    cooc_tmp = []\n",
    "    cooc_minsup_tmp = []\n",
    "    \n",
    "    #-----\n",
    "    cooc_feature_tmp = []\n",
    "    cooc_feature_idx_tmp = []\n",
    "            \n",
    "    for index, row in df_itemsets.iterrows():\n",
    "        if len(row['itemsets']) == 1:\n",
    "            word = list(row['itemsets'])[0]\n",
    "            min_sup = row['support']\n",
    "            cooc_feature_tmp.append(min_sup)\n",
    "            cooc_feature_idx_tmp.append(word)\n",
    "    #-----\n",
    "            \n",
    "    for index, row in df_itemsets.iterrows():\n",
    "        if len(row['itemsets']) == 2:\n",
    "            cooc_tmp.append(row['itemsets'])\n",
    "            cooc_minsup_tmp.append(row['support'])\n",
    "                    \n",
    "            \n",
    "    # Update glob lists\n",
    "    patient_id_lst.append(patient_id)\n",
    "    patient_cooc_lst.append(cooc_tmp)\n",
    "    patient_cooc_minsup_lst.append(cooc_minsup_tmp)\n",
    "    patient_label_lst.append(label)\n",
    "    patient_note_cnt.append(note_cnt)\n",
    "    \n",
    "    patient_feature_lst.append(cooc_feature_tmp)\n",
    "    patient_feature_idx_lst.append(cooc_feature_idx_tmp)\n",
    "    \n",
    "#     print(f\"patient_id_lst: {len(patient_id_lst)} patient_cooc_lst: {len(patient_cooc_lst)} patient_cooc_minsup_lst: {len(patient_cooc_minsup_lst)} patient_label_lst: {len(patient_label_lst)} patient_note_cnt: {len(patient_note_cnt)}\")\n",
    "    print(\"FP growth input for \" + disease_name + \" generated!\")\n",
    "    return pd.DataFrame({\"patient_id\":patient_id_lst, \"patient_cooc\":patient_cooc_lst, \"cooc_minsup\":patient_cooc_minsup_lst, \"cooc_feature\":patient_feature_lst, \"cooc_feature_idx\":patient_feature_idx_lst ,\"label\":patient_label_lst, \"note_cnt\":patient_note_cnt})\n",
    "\n",
    "pneumonia_dead_cooc_df = fp_growth_input_per_patient_python(\"pneumonia_dead\", pneumonia_dead_no_disch, word_dict, 0.01, -1)\n",
    "pneumonia_alive_cooc_df = fp_growth_input_per_patient_python(\"pneumonia_alive\", pneumonia_alive_no_disch, word_dict, 0.01, 1)"
   ]
  },
  {
   "cell_type": "code",
   "execution_count": 47,
   "metadata": {
    "scrolled": true
   },
   "outputs": [
    {
     "data": {
      "text/html": [
       "<div>\n",
       "<style scoped>\n",
       "    .dataframe tbody tr th:only-of-type {\n",
       "        vertical-align: middle;\n",
       "    }\n",
       "\n",
       "    .dataframe tbody tr th {\n",
       "        vertical-align: top;\n",
       "    }\n",
       "\n",
       "    .dataframe thead th {\n",
       "        text-align: right;\n",
       "    }\n",
       "</style>\n",
       "<table border=\"1\" class=\"dataframe\">\n",
       "  <thead>\n",
       "    <tr style=\"text-align: right;\">\n",
       "      <th></th>\n",
       "      <th>patient_id</th>\n",
       "      <th>patient_cooc</th>\n",
       "      <th>cooc_minsup</th>\n",
       "      <th>cooc_feature</th>\n",
       "      <th>cooc_feature_idx</th>\n",
       "      <th>label</th>\n",
       "      <th>note_cnt</th>\n",
       "    </tr>\n",
       "  </thead>\n",
       "  <tbody>\n",
       "    <tr>\n",
       "      <th>0</th>\n",
       "      <td>111</td>\n",
       "      <td>[[pea, arrest], [vasopressin, pea], [vasopress...</td>\n",
       "      <td>[0.8333333333333334, 0.6666666666666666, 0.666...</td>\n",
       "      <td>[1.0, 0.8333333333333334, 0.6666666666666666, ...</td>\n",
       "      <td>[arrest, pea, vasopressin, cpr, death]</td>\n",
       "      <td>-1</td>\n",
       "      <td>12</td>\n",
       "    </tr>\n",
       "    <tr>\n",
       "      <th>1</th>\n",
       "      <td>346</td>\n",
       "      <td>[]</td>\n",
       "      <td>[]</td>\n",
       "      <td>[0.42857142857142855]</td>\n",
       "      <td>[sluggish]</td>\n",
       "      <td>-1</td>\n",
       "      <td>25</td>\n",
       "    </tr>\n",
       "    <tr>\n",
       "      <th>2</th>\n",
       "      <td>404</td>\n",
       "      <td>[[paco, death]]</td>\n",
       "      <td>[1.0]</td>\n",
       "      <td>[1.0, 1.0]</td>\n",
       "      <td>[paco, death]</td>\n",
       "      <td>-1</td>\n",
       "      <td>3</td>\n",
       "    </tr>\n",
       "    <tr>\n",
       "      <th>3</th>\n",
       "      <td>546</td>\n",
       "      <td>[]</td>\n",
       "      <td>[]</td>\n",
       "      <td>[]</td>\n",
       "      <td>[]</td>\n",
       "      <td>-1</td>\n",
       "      <td>6</td>\n",
       "    </tr>\n",
       "    <tr>\n",
       "      <th>4</th>\n",
       "      <td>618</td>\n",
       "      <td>[]</td>\n",
       "      <td>[]</td>\n",
       "      <td>[]</td>\n",
       "      <td>[]</td>\n",
       "      <td>-1</td>\n",
       "      <td>16</td>\n",
       "    </tr>\n",
       "    <tr>\n",
       "      <th>...</th>\n",
       "      <td>...</td>\n",
       "      <td>...</td>\n",
       "      <td>...</td>\n",
       "      <td>...</td>\n",
       "      <td>...</td>\n",
       "      <td>...</td>\n",
       "      <td>...</td>\n",
       "    </tr>\n",
       "    <tr>\n",
       "      <th>247</th>\n",
       "      <td>97181</td>\n",
       "      <td>[[dni, dnr]]</td>\n",
       "      <td>[0.625]</td>\n",
       "      <td>[0.625, 0.625]</td>\n",
       "      <td>[dnr, dni]</td>\n",
       "      <td>-1</td>\n",
       "      <td>30</td>\n",
       "    </tr>\n",
       "    <tr>\n",
       "      <th>248</th>\n",
       "      <td>97795</td>\n",
       "      <td>[]</td>\n",
       "      <td>[]</td>\n",
       "      <td>[0.5952380952380952]</td>\n",
       "      <td>[levoph]</td>\n",
       "      <td>-1</td>\n",
       "      <td>60</td>\n",
       "    </tr>\n",
       "    <tr>\n",
       "      <th>249</th>\n",
       "      <td>98009</td>\n",
       "      <td>[[dni, dnr]]</td>\n",
       "      <td>[0.46153846153846156]</td>\n",
       "      <td>[0.46153846153846156, 0.46153846153846156, 0.5...</td>\n",
       "      <td>[dnr, dni, palli]</td>\n",
       "      <td>-1</td>\n",
       "      <td>33</td>\n",
       "    </tr>\n",
       "    <tr>\n",
       "      <th>250</th>\n",
       "      <td>98299</td>\n",
       "      <td>[]</td>\n",
       "      <td>[]</td>\n",
       "      <td>[0.4666666666666667]</td>\n",
       "      <td>[cmo]</td>\n",
       "      <td>-1</td>\n",
       "      <td>29</td>\n",
       "    </tr>\n",
       "    <tr>\n",
       "      <th>251</th>\n",
       "      <td>98597</td>\n",
       "      <td>[]</td>\n",
       "      <td>[]</td>\n",
       "      <td>[1.0]</td>\n",
       "      <td>[underpenetr]</td>\n",
       "      <td>-1</td>\n",
       "      <td>2</td>\n",
       "    </tr>\n",
       "  </tbody>\n",
       "</table>\n",
       "<p>252 rows × 7 columns</p>\n",
       "</div>"
      ],
      "text/plain": [
       "     patient_id                                       patient_cooc  \\\n",
       "0           111  [[pea, arrest], [vasopressin, pea], [vasopress...   \n",
       "1           346                                                 []   \n",
       "2           404                                    [[paco, death]]   \n",
       "3           546                                                 []   \n",
       "4           618                                                 []   \n",
       "..          ...                                                ...   \n",
       "247       97181                                       [[dni, dnr]]   \n",
       "248       97795                                                 []   \n",
       "249       98009                                       [[dni, dnr]]   \n",
       "250       98299                                                 []   \n",
       "251       98597                                                 []   \n",
       "\n",
       "                                           cooc_minsup  \\\n",
       "0    [0.8333333333333334, 0.6666666666666666, 0.666...   \n",
       "1                                                   []   \n",
       "2                                                [1.0]   \n",
       "3                                                   []   \n",
       "4                                                   []   \n",
       "..                                                 ...   \n",
       "247                                            [0.625]   \n",
       "248                                                 []   \n",
       "249                              [0.46153846153846156]   \n",
       "250                                                 []   \n",
       "251                                                 []   \n",
       "\n",
       "                                          cooc_feature  \\\n",
       "0    [1.0, 0.8333333333333334, 0.6666666666666666, ...   \n",
       "1                                [0.42857142857142855]   \n",
       "2                                           [1.0, 1.0]   \n",
       "3                                                   []   \n",
       "4                                                   []   \n",
       "..                                                 ...   \n",
       "247                                     [0.625, 0.625]   \n",
       "248                               [0.5952380952380952]   \n",
       "249  [0.46153846153846156, 0.46153846153846156, 0.5...   \n",
       "250                               [0.4666666666666667]   \n",
       "251                                              [1.0]   \n",
       "\n",
       "                           cooc_feature_idx  label  note_cnt  \n",
       "0    [arrest, pea, vasopressin, cpr, death]     -1        12  \n",
       "1                                [sluggish]     -1        25  \n",
       "2                             [paco, death]     -1         3  \n",
       "3                                        []     -1         6  \n",
       "4                                        []     -1        16  \n",
       "..                                      ...    ...       ...  \n",
       "247                              [dnr, dni]     -1        30  \n",
       "248                                [levoph]     -1        60  \n",
       "249                       [dnr, dni, palli]     -1        33  \n",
       "250                                   [cmo]     -1        29  \n",
       "251                           [underpenetr]     -1         2  \n",
       "\n",
       "[252 rows x 7 columns]"
      ]
     },
     "execution_count": 47,
     "metadata": {},
     "output_type": "execute_result"
    }
   ],
   "source": [
    "pneumonia_dead_cooc_df"
   ]
  },
  {
   "cell_type": "code",
   "execution_count": 48,
   "metadata": {},
   "outputs": [
    {
     "name": "stdout",
     "output_type": "stream",
     "text": [
      "74\n"
     ]
    }
   ],
   "source": [
    "cnt_ = 0\n",
    "for i, (index, row) in enumerate(pneumonia_dead_cooc_df.iterrows()):\n",
    "    if row['patient_cooc']:\n",
    "        cnt_ += 1\n",
    "print(cnt_)\n",
    "# 230 min_sup = 0.1\n",
    "# 74 min_sup = 0.4\n",
    "# 94 min_sup = 0.3"
   ]
  },
  {
   "cell_type": "code",
   "execution_count": 49,
   "metadata": {},
   "outputs": [
    {
     "data": {
      "text/html": [
       "<div>\n",
       "<style scoped>\n",
       "    .dataframe tbody tr th:only-of-type {\n",
       "        vertical-align: middle;\n",
       "    }\n",
       "\n",
       "    .dataframe tbody tr th {\n",
       "        vertical-align: top;\n",
       "    }\n",
       "\n",
       "    .dataframe thead th {\n",
       "        text-align: right;\n",
       "    }\n",
       "</style>\n",
       "<table border=\"1\" class=\"dataframe\">\n",
       "  <thead>\n",
       "    <tr style=\"text-align: right;\">\n",
       "      <th></th>\n",
       "      <th>patient_id</th>\n",
       "      <th>patient_cooc</th>\n",
       "      <th>cooc_minsup</th>\n",
       "      <th>cooc_feature</th>\n",
       "      <th>cooc_feature_idx</th>\n",
       "      <th>label</th>\n",
       "      <th>note_cnt</th>\n",
       "    </tr>\n",
       "  </thead>\n",
       "  <tbody>\n",
       "    <tr>\n",
       "      <th>0</th>\n",
       "      <td>68</td>\n",
       "      <td>[]</td>\n",
       "      <td>[]</td>\n",
       "      <td>[0.5, 0.5]</td>\n",
       "      <td>[commod, ambul]</td>\n",
       "      <td>1</td>\n",
       "      <td>18</td>\n",
       "    </tr>\n",
       "    <tr>\n",
       "      <th>1</th>\n",
       "      <td>85</td>\n",
       "      <td>[]</td>\n",
       "      <td>[]</td>\n",
       "      <td>[1.0]</td>\n",
       "      <td>[lat]</td>\n",
       "      <td>1</td>\n",
       "      <td>8</td>\n",
       "    </tr>\n",
       "    <tr>\n",
       "      <th>2</th>\n",
       "      <td>94</td>\n",
       "      <td>[]</td>\n",
       "      <td>[]</td>\n",
       "      <td>[]</td>\n",
       "      <td>[]</td>\n",
       "      <td>1</td>\n",
       "      <td>100</td>\n",
       "    </tr>\n",
       "    <tr>\n",
       "      <th>3</th>\n",
       "      <td>165</td>\n",
       "      <td>[]</td>\n",
       "      <td>[]</td>\n",
       "      <td>[1.0]</td>\n",
       "      <td>[habitu]</td>\n",
       "      <td>1</td>\n",
       "      <td>2</td>\n",
       "    </tr>\n",
       "    <tr>\n",
       "      <th>4</th>\n",
       "      <td>211</td>\n",
       "      <td>[]</td>\n",
       "      <td>[]</td>\n",
       "      <td>[]</td>\n",
       "      <td>[]</td>\n",
       "      <td>1</td>\n",
       "      <td>24</td>\n",
       "    </tr>\n",
       "    <tr>\n",
       "      <th>...</th>\n",
       "      <td>...</td>\n",
       "      <td>...</td>\n",
       "      <td>...</td>\n",
       "      <td>...</td>\n",
       "      <td>...</td>\n",
       "      <td>...</td>\n",
       "      <td>...</td>\n",
       "    </tr>\n",
       "    <tr>\n",
       "      <th>1162</th>\n",
       "      <td>99560</td>\n",
       "      <td>[]</td>\n",
       "      <td>[]</td>\n",
       "      <td>[0.5, 0.5]</td>\n",
       "      <td>[lat, among]</td>\n",
       "      <td>1</td>\n",
       "      <td>12</td>\n",
       "    </tr>\n",
       "    <tr>\n",
       "      <th>1163</th>\n",
       "      <td>99647</td>\n",
       "      <td>[]</td>\n",
       "      <td>[]</td>\n",
       "      <td>[]</td>\n",
       "      <td>[]</td>\n",
       "      <td>1</td>\n",
       "      <td>58</td>\n",
       "    </tr>\n",
       "    <tr>\n",
       "      <th>1164</th>\n",
       "      <td>99781</td>\n",
       "      <td>[[barium, video], [barium, motor], [barium, la...</td>\n",
       "      <td>[0.5, 0.5, 0.5, 0.5, 0.5, 0.5]</td>\n",
       "      <td>[1.0, 0.5, 0.5, 0.5]</td>\n",
       "      <td>[barium, video, motor, laryng]</td>\n",
       "      <td>1</td>\n",
       "      <td>8</td>\n",
       "    </tr>\n",
       "    <tr>\n",
       "      <th>1165</th>\n",
       "      <td>99912</td>\n",
       "      <td>[[dni, dnr]]</td>\n",
       "      <td>[0.6555555555555556]</td>\n",
       "      <td>[0.7722222222222223, 0.6555555555555556]</td>\n",
       "      <td>[dnr, dni]</td>\n",
       "      <td>1</td>\n",
       "      <td>226</td>\n",
       "    </tr>\n",
       "    <tr>\n",
       "      <th>1166</th>\n",
       "      <td>99937</td>\n",
       "      <td>[]</td>\n",
       "      <td>[]</td>\n",
       "      <td>[1.0]</td>\n",
       "      <td>[habitu]</td>\n",
       "      <td>1</td>\n",
       "      <td>6</td>\n",
       "    </tr>\n",
       "  </tbody>\n",
       "</table>\n",
       "<p>1167 rows × 7 columns</p>\n",
       "</div>"
      ],
      "text/plain": [
       "      patient_id                                       patient_cooc  \\\n",
       "0             68                                                 []   \n",
       "1             85                                                 []   \n",
       "2             94                                                 []   \n",
       "3            165                                                 []   \n",
       "4            211                                                 []   \n",
       "...          ...                                                ...   \n",
       "1162       99560                                                 []   \n",
       "1163       99647                                                 []   \n",
       "1164       99781  [[barium, video], [barium, motor], [barium, la...   \n",
       "1165       99912                                       [[dni, dnr]]   \n",
       "1166       99937                                                 []   \n",
       "\n",
       "                         cooc_minsup  \\\n",
       "0                                 []   \n",
       "1                                 []   \n",
       "2                                 []   \n",
       "3                                 []   \n",
       "4                                 []   \n",
       "...                              ...   \n",
       "1162                              []   \n",
       "1163                              []   \n",
       "1164  [0.5, 0.5, 0.5, 0.5, 0.5, 0.5]   \n",
       "1165            [0.6555555555555556]   \n",
       "1166                              []   \n",
       "\n",
       "                                  cooc_feature  \\\n",
       "0                                   [0.5, 0.5]   \n",
       "1                                        [1.0]   \n",
       "2                                           []   \n",
       "3                                        [1.0]   \n",
       "4                                           []   \n",
       "...                                        ...   \n",
       "1162                                [0.5, 0.5]   \n",
       "1163                                        []   \n",
       "1164                      [1.0, 0.5, 0.5, 0.5]   \n",
       "1165  [0.7722222222222223, 0.6555555555555556]   \n",
       "1166                                     [1.0]   \n",
       "\n",
       "                    cooc_feature_idx  label  note_cnt  \n",
       "0                    [commod, ambul]      1        18  \n",
       "1                              [lat]      1         8  \n",
       "2                                 []      1       100  \n",
       "3                           [habitu]      1         2  \n",
       "4                                 []      1        24  \n",
       "...                              ...    ...       ...  \n",
       "1162                    [lat, among]      1        12  \n",
       "1163                              []      1        58  \n",
       "1164  [barium, video, motor, laryng]      1         8  \n",
       "1165                      [dnr, dni]      1       226  \n",
       "1166                        [habitu]      1         6  \n",
       "\n",
       "[1167 rows x 7 columns]"
      ]
     },
     "execution_count": 49,
     "metadata": {},
     "output_type": "execute_result"
    }
   ],
   "source": [
    "pneumonia_alive_cooc_df"
   ]
  },
  {
   "cell_type": "code",
   "execution_count": 50,
   "metadata": {},
   "outputs": [
    {
     "name": "stdout",
     "output_type": "stream",
     "text": [
      "230\n"
     ]
    }
   ],
   "source": [
    "cnt_ = 0\n",
    "for i, (index, row) in enumerate(pneumonia_alive_cooc_df.iterrows()):\n",
    "    if row['patient_cooc']:\n",
    "        cnt_ += 1\n",
    "print(cnt_)\n",
    "# 763 min_sup = 0.1\n",
    "# 230 min_sup = 0.4\n",
    "# 381 min_sup = 0.3"
   ]
  },
  {
   "cell_type": "code",
   "execution_count": null,
   "metadata": {},
   "outputs": [],
   "source": []
  },
  {
   "cell_type": "code",
   "execution_count": null,
   "metadata": {},
   "outputs": [],
   "source": []
  },
  {
   "cell_type": "code",
   "execution_count": null,
   "metadata": {},
   "outputs": [],
   "source": []
  },
  {
   "cell_type": "markdown",
   "metadata": {},
   "source": [
    "### Train the model"
   ]
  },
  {
   "cell_type": "code",
   "execution_count": 51,
   "metadata": {},
   "outputs": [],
   "source": [
    "import pandas as pd\n",
    "import numpy as np\n",
    "\n",
    "import stellargraph as sg\n",
    "from stellargraph.mapper import PaddedGraphGenerator\n",
    "from stellargraph.layer import GCNSupervisedGraphClassification\n",
    "from stellargraph import StellarGraph\n",
    "\n",
    "from stellargraph import datasets\n",
    "\n",
    "from sklearn import model_selection\n",
    "from IPython.display import display, HTML\n",
    "\n",
    "from tensorflow.keras import Model\n",
    "from tensorflow.keras.optimizers import Adam\n",
    "from tensorflow.keras.layers import Dense\n",
    "from tensorflow.keras.losses import binary_crossentropy\n",
    "from tensorflow.keras.callbacks import EarlyStopping\n",
    "import tensorflow as tf\n",
    "import matplotlib.pyplot as plt"
   ]
  },
  {
   "cell_type": "code",
   "execution_count": 52,
   "metadata": {},
   "outputs": [
    {
     "name": "stdout",
     "output_type": "stream",
     "text": [
      "[name: \"/device:CPU:0\"\n",
      "device_type: \"CPU\"\n",
      "memory_limit: 268435456\n",
      "locality {\n",
      "}\n",
      "incarnation: 14226599147238764689\n",
      ", name: \"/device:XLA_CPU:0\"\n",
      "device_type: \"XLA_CPU\"\n",
      "memory_limit: 17179869184\n",
      "locality {\n",
      "}\n",
      "incarnation: 4247975376802464989\n",
      "physical_device_desc: \"device: XLA_CPU device\"\n",
      "]\n"
     ]
    }
   ],
   "source": [
    "# https://medium.com/@kegui/how-do-i-know-i-am-running-keras-model-on-gpu-a9cdcc24f986\n",
    "from tensorflow.python.client import device_lib\n",
    "print(device_lib.list_local_devices())"
   ]
  },
  {
   "cell_type": "code",
   "execution_count": 53,
   "metadata": {},
   "outputs": [
    {
     "name": "stdout",
     "output_type": "stream",
     "text": [
      "Num GPUs Available:  0\n"
     ]
    }
   ],
   "source": [
    "import tensorflow as tf\n",
    "print(\"Num GPUs Available: \", len(tf.config.experimental.list_physical_devices('GPU')))\n",
    "\n",
    "gpus = tf.config.experimental.list_physical_devices('GPU')\n",
    "if gpus:\n",
    "  # Restrict TensorFlow to only use the first GPU\n",
    "  try:\n",
    "    tf.config.experimental.set_visible_devices(gpus[0], 'GPU')\n",
    "    logical_gpus = tf.config.experimental.list_logical_devices('GPU')\n",
    "    print(len(gpus), \"Physical GPUs,\", len(logical_gpus), \"Logical GPU\")\n",
    "  except RuntimeError as e:\n",
    "    # Visible devices must be set before GPUs have been initialized\n",
    "    print(e)"
   ]
  },
  {
   "cell_type": "markdown",
   "metadata": {},
   "source": [
    "### Load the data"
   ]
  },
  {
   "cell_type": "code",
   "execution_count": 54,
   "metadata": {
    "scrolled": true
   },
   "outputs": [
    {
     "name": "stdout",
     "output_type": "stream",
     "text": [
      "graphs: 74, labels: 74\n",
      "graphs: 304, labels: 304\n"
     ]
    }
   ],
   "source": [
    "from stellargraph import StellarGraph\n",
    "\n",
    "def create_graph_list(pd_df):\n",
    "    graphs = []\n",
    "    labels = []\n",
    "\n",
    "    for index, row in pd_df.iterrows():\n",
    "        if row['patient_cooc']:\n",
    "            source = []\n",
    "            target = []\n",
    "            edge_feature = []\n",
    "            \n",
    "            feature_node = []\n",
    "            feature_idx = []\n",
    "            \n",
    "            for cooc in row['patient_cooc']:\n",
    "                source.append(cooc[0])\n",
    "                target.append(cooc[1])\n",
    "                \n",
    "            for feature in row['cooc_minsup']:\n",
    "                edge_feature.append(feature)\n",
    "            \n",
    "            # Node feature and index\n",
    "            for node_feature in row['cooc_feature']:\n",
    "                feature_node.append(node_feature)\n",
    "                \n",
    "            for node_idx in row['cooc_feature_idx']:\n",
    "                feature_idx.append(node_idx)\n",
    "                \n",
    "#             print(\"source:\", source)\n",
    "#             print(\"target:\", target)\n",
    "#             print(\"edge_feature\", edge_feature)\n",
    "            \n",
    "#             square_edges = pd.DataFrame({\"source\": source, \"target\": target, \"edge_feature\":edge_feature})\n",
    "            square_node_data = pd.DataFrame({\"feature_src\":feature_node}, index=feature_idx)\n",
    "            square_edges = pd.DataFrame({\"source\": source, \"target\": target})\n",
    "          \n",
    "            square = StellarGraph(square_node_data, square_edges)\n",
    "            graphs.append(square)\n",
    "            labels.append(row['label'])\n",
    "#             break\n",
    "            \n",
    "            \n",
    "    return graphs, labels\n",
    "\n",
    "graphs = []\n",
    "labels = []\n",
    "features = []\n",
    "\n",
    "graph_1, label_1 = create_graph_list(pneumonia_dead_cooc_df)\n",
    "graph_2, label_2 = create_graph_list(pneumonia_alive_cooc_df)\n",
    "\n",
    "graphs.extend(graph_1)\n",
    "labels.extend(label_1)\n",
    "print(f\"graphs: {len(graphs)}, labels: {len(labels)}\")\n",
    "graphs.extend(graph_2)\n",
    "labels.extend(label_2)\n",
    "print(f\"graphs: {len(graphs)}, labels: {len(labels)}\")"
   ]
  },
  {
   "cell_type": "code",
   "execution_count": 55,
   "metadata": {},
   "outputs": [
    {
     "name": "stdout",
     "output_type": "stream",
     "text": [
      "StellarGraph: Undirected multigraph\n",
      " Nodes: 5, Edges: 7\n",
      "\n",
      " Node types:\n",
      "  default: [5]\n",
      "    Features: float32 vector, length 1\n",
      "    Edge types: default-default->default\n",
      "\n",
      " Edge types:\n",
      "    default-default->default: [7]\n",
      "        Weights: all 1 (default)\n",
      "        Features: none\n"
     ]
    }
   ],
   "source": [
    "print(graphs[0].info())"
   ]
  },
  {
   "cell_type": "code",
   "execution_count": null,
   "metadata": {},
   "outputs": [],
   "source": [
    "print(graphs[1].info())"
   ]
  },
  {
   "cell_type": "code",
   "execution_count": null,
   "metadata": {},
   "outputs": [],
   "source": [
    "summary = pd.DataFrame(\n",
    "    [(g.number_of_nodes(), g.number_of_edges()) for g in graphs],\n",
    "    columns=[\"nodes\", \"edges\"],\n",
    ")\n",
    "summary.describe().round(1)"
   ]
  },
  {
   "cell_type": "code",
   "execution_count": null,
   "metadata": {},
   "outputs": [],
   "source": [
    "graph_labels = pd.Series(labels)"
   ]
  },
  {
   "cell_type": "code",
   "execution_count": null,
   "metadata": {},
   "outputs": [],
   "source": [
    "print(graph_labels)"
   ]
  },
  {
   "cell_type": "code",
   "execution_count": null,
   "metadata": {},
   "outputs": [],
   "source": [
    "graph_labels.value_counts().to_frame()"
   ]
  },
  {
   "cell_type": "code",
   "execution_count": null,
   "metadata": {},
   "outputs": [],
   "source": [
    "graph_labels = pd.get_dummies(graph_labels, drop_first=True)"
   ]
  },
  {
   "cell_type": "code",
   "execution_count": null,
   "metadata": {},
   "outputs": [],
   "source": [
    "print(type(graph_labels))"
   ]
  },
  {
   "cell_type": "code",
   "execution_count": null,
   "metadata": {},
   "outputs": [],
   "source": [
    "graph_labels"
   ]
  },
  {
   "cell_type": "code",
   "execution_count": null,
   "metadata": {},
   "outputs": [],
   "source": [
    "generator = PaddedGraphGenerator(graphs=graphs)"
   ]
  },
  {
   "cell_type": "code",
   "execution_count": null,
   "metadata": {},
   "outputs": [],
   "source": [
    "def create_graph_classification_model(generator):\n",
    "    gc_model = GCNSupervisedGraphClassification(\n",
    "        layer_sizes=[64, 64],\n",
    "        activations=[\"relu\", \"relu\"],\n",
    "        generator=generator,\n",
    "        dropout=0.5,\n",
    "    )\n",
    "    x_inp, x_out = gc_model.in_out_tensors()\n",
    "    predictions = Dense(units=32, activation=\"relu\")(x_out)\n",
    "    predictions = Dense(units=16, activation=\"relu\")(predictions)\n",
    "    predictions = Dense(units=1, activation=\"sigmoid\")(predictions)\n",
    "\n",
    "    # Let's create the Keras model and prepare it for training\n",
    "    model = Model(inputs=x_inp, outputs=predictions)\n",
    "    model.compile(optimizer=Adam(0.005), loss=binary_crossentropy, metrics=[\"acc\"])\n",
    "\n",
    "    return model"
   ]
  },
  {
   "cell_type": "markdown",
   "metadata": {},
   "source": [
    "### Train the model\n",
    "\n",
    "We can now train the model using the model's `fit` method. First, we specify some important training parameters such as the number of training epochs, number of fold for cross validation and the number of time to repeat cross validation."
   ]
  },
  {
   "cell_type": "code",
   "execution_count": null,
   "metadata": {},
   "outputs": [],
   "source": [
    "epochs = 200  # maximum number of training epochs\n",
    "folds = 10  # the number of folds for k-fold cross validation\n",
    "n_repeats = 5  # the number of repeats for repeated k-fold cross validation"
   ]
  },
  {
   "cell_type": "code",
   "execution_count": null,
   "metadata": {},
   "outputs": [],
   "source": [
    "es = EarlyStopping(\n",
    "    monitor=\"val_loss\", min_delta=0, patience=25, restore_best_weights=True\n",
    ")"
   ]
  },
  {
   "cell_type": "code",
   "execution_count": null,
   "metadata": {},
   "outputs": [],
   "source": [
    "def train_fold(model, train_gen, test_gen, es, epochs):\n",
    "    history = model.fit(\n",
    "        train_gen, epochs=epochs, validation_data=test_gen, verbose=0, callbacks=[es],\n",
    "    )\n",
    "    # calculate performance on the test data and return along with history\n",
    "    test_metrics = model.evaluate(test_gen, verbose=0)\n",
    "    test_acc = test_metrics[model.metrics_names.index(\"acc\")]\n",
    "\n",
    "    return history, test_acc"
   ]
  },
  {
   "cell_type": "code",
   "execution_count": null,
   "metadata": {},
   "outputs": [],
   "source": [
    "def get_generators(train_index, test_index, graph_labels, batch_size):\n",
    "    train_gen = generator.flow(\n",
    "        train_index, targets=graph_labels.iloc[train_index].values, batch_size=batch_size\n",
    "    )\n",
    "    test_gen = generator.flow(\n",
    "        test_index, targets=graph_labels.iloc[test_index].values, batch_size=batch_size\n",
    "    )\n",
    "\n",
    "    return train_gen, test_gen"
   ]
  },
  {
   "cell_type": "code",
   "execution_count": null,
   "metadata": {
    "scrolled": true
   },
   "outputs": [],
   "source": [
    "test_accs = []\n",
    "\n",
    "stratified_folds = model_selection.RepeatedStratifiedKFold(\n",
    "    n_splits=folds, n_repeats=n_repeats\n",
    ").split(graph_labels, graph_labels)\n",
    "\n",
    "for i, (train_index, test_index) in enumerate(stratified_folds):\n",
    "    print(f\"Training and evaluating on fold {i+1} out of {folds * n_repeats}...\")\n",
    "    train_gen, test_gen = get_generators(\n",
    "        train_index, test_index, graph_labels, batch_size=30\n",
    "    )\n",
    "\n",
    "    model = create_graph_classification_model(generator)\n",
    "\n",
    "    history, acc = train_fold(model, train_gen, test_gen, es, epochs)\n",
    "\n",
    "    test_accs.append(acc)"
   ]
  },
  {
   "cell_type": "code",
   "execution_count": null,
   "metadata": {},
   "outputs": [],
   "source": [
    "print(f\"Accuracy over all folds mean: {np.mean(test_accs)*100:.3}% and std: {np.std(test_accs)*100:.2}%\")"
   ]
  },
  {
   "cell_type": "code",
   "execution_count": null,
   "metadata": {},
   "outputs": [],
   "source": [
    "plt.figure(figsize=(8, 6))\n",
    "plt.hist(test_accs)\n",
    "plt.xlabel(\"Accuracy\")\n",
    "plt.ylabel(\"Count\")"
   ]
  },
  {
   "cell_type": "code",
   "execution_count": null,
   "metadata": {},
   "outputs": [],
   "source": []
  },
  {
   "cell_type": "code",
   "execution_count": null,
   "metadata": {},
   "outputs": [],
   "source": []
  },
  {
   "cell_type": "code",
   "execution_count": null,
   "metadata": {},
   "outputs": [],
   "source": []
  },
  {
   "cell_type": "code",
   "execution_count": null,
   "metadata": {},
   "outputs": [],
   "source": []
  },
  {
   "cell_type": "code",
   "execution_count": null,
   "metadata": {},
   "outputs": [],
   "source": []
  },
  {
   "cell_type": "code",
   "execution_count": null,
   "metadata": {},
   "outputs": [],
   "source": []
  },
  {
   "cell_type": "code",
   "execution_count": null,
   "metadata": {},
   "outputs": [],
   "source": []
  },
  {
   "cell_type": "markdown",
   "metadata": {},
   "source": [
    "### Implementation for spmf java"
   ]
  },
  {
   "cell_type": "code",
   "execution_count": null,
   "metadata": {},
   "outputs": [],
   "source": [
    "import operator\n",
    "\n",
    "\"\"\"function description:\n",
    "generates patient word itemset for each disease\n",
    "\"\"\"\n",
    "# # define stemmer\n",
    "# stemmer = PorterStemmer()\n",
    "\n",
    "def generate_FP_input_per_note(disease_name, disease_df, word_dict):\n",
    "    with open(disease_name, \"w\") as output_fp:\n",
    "\n",
    "        # write the coverted dic for the text\n",
    "        # od = collections.OrderedDict(sorted(word_dict.items()))\n",
    "        od = sorted(word_dict.items(), key = operator.itemgetter(1))\n",
    "        output_fp.write(\"@CONVERTED_FROM_TEXT\")\n",
    "        output_fp.write(\"\\n\")\n",
    "        # for k, v in od.iteritems():\n",
    "        for k,v in od:\n",
    "            output_fp.write(\"@ITEM=\")\n",
    "            output_fp.write(str(v))\n",
    "            output_fp.write(\"=\")\n",
    "            output_fp.write(str(k))\n",
    "            output_fp.write(\"\\n\")\n",
    "\n",
    "        # read line in from file (each line is one note)\n",
    "        for index, row in tqdm(disease_df.iterrows(), total=disease_df.shape[0]):\n",
    "            # if not \"Physician\" in line[4]:\n",
    "            #     continue\n",
    "                    \n",
    "            word_set = set()\n",
    "            note = row['TEXT']\n",
    "\n",
    "            tokenized_note = word_tokenize(note)\n",
    "\n",
    "            # loop through each word in note to count word belonging to each disease\n",
    "            for word in tokenized_note:\n",
    "                stemmed_word = stemmer.stem(word.lower())\n",
    "                if stemmed_word in word_dict:\n",
    "                    word_set.add(stemmed_word)\n",
    "\n",
    "            templst = []\n",
    "            for word in word_set:\n",
    "                templst.append(word_dict[word])\n",
    "\n",
    "            templst.sort()\n",
    "            for x in range(len(templst) - 1):\n",
    "                output_fp.write(str(templst[x]) + \" \")\n",
    "\n",
    "            if templst:\n",
    "                output_fp.write(str(templst[len(templst)-1]))\n",
    "                output_fp.write(\"\\n\")\n",
    "            \n",
    "    print(\"FP growth input for \" + disease_name + \" generated!\")\n",
    "\n",
    "# Given as a parameter\n",
    "generate_FP_input_per_note(\"pneumonia_dead\", pneumonia_dead_no_disch, word_dict)\n",
    "generate_FP_input_per_note(\"pneumonia_alive\", pneumonia_alive_no_disch, word_dict)\n"
   ]
  },
  {
   "cell_type": "code",
   "execution_count": null,
   "metadata": {},
   "outputs": [],
   "source": []
  },
  {
   "cell_type": "code",
   "execution_count": null,
   "metadata": {},
   "outputs": [],
   "source": []
  },
  {
   "cell_type": "code",
   "execution_count": null,
   "metadata": {},
   "outputs": [],
   "source": []
  },
  {
   "cell_type": "code",
   "execution_count": null,
   "metadata": {},
   "outputs": [],
   "source": [
    "import os\n",
    "import operator\n",
    "from pathlib import Path\n",
    "\n",
    "# ----\n",
    "def fp_growth_input_per_patient(disease_name, disease_df, word_dict):\n",
    "    \n",
    "    disease_path = os.path.join(\"./tmp\", disease_name, \"inputs\")\n",
    "    if not os.path.exists(disease_path):\n",
    "        os.makedirs(disease_path)\n",
    "        \n",
    "    patient_id = -1\n",
    "#     patient_word_set = set()\n",
    "    patient_note_list = []\n",
    "    \n",
    "    # read line in from file (each line is one note)\n",
    "    for index, row in tqdm(disease_df.iterrows(), total=disease_df.shape[0]):\n",
    "        # only regard certain type of notes\n",
    "        patient_id_check = int(row['SUBJECT_ID_x'])\n",
    "        note = re.sub(r'\\[\\*\\*(.*?)\\*\\*\\]|[_,\\d\\*:~=\\.\\-\\+\\\\/]+', ' ', row['TEXT'])\n",
    "        patient_word_set = set()\n",
    "    \n",
    "#         print(f\"patient_id_check: {patient_id_check}, patient_id: {patient_id}\")\n",
    "        # if patient id has changed, end sequence and start new sequence\n",
    "        if not patient_id == patient_id_check and not patient_id == -1:\n",
    "        \n",
    "#             disease_path = \"./tmp/\" + disease_name\n",
    "            file_name = str(patient_id) + '_' + disease_name\n",
    "            file_path = os.path.join(disease_path, file_name)\n",
    "            \n",
    "            with open(file_path, \"w\") as output_fp:\n",
    "                # write the coverted dic for the text\n",
    "                # od = collections.OrderedDict(sorted(word_dict.items()))\n",
    "    \n",
    "                od = sorted(word_dict.items(), key = operator.itemgetter(1))\n",
    "                output_fp.write(\"@CONVERTED_FROM_TEXT\")\n",
    "                output_fp.write(\"\\n\")\n",
    "                # for k, v in od.iteritems():\n",
    "                for k,v in od:\n",
    "                    output_fp.write(\"@ITEM=\")\n",
    "                    output_fp.write(str(v))\n",
    "                    output_fp.write(\"=\")\n",
    "                    output_fp.write(str(k))\n",
    "                    output_fp.write(\"\\n\")\n",
    "\n",
    "                for item in patient_note_list:\n",
    "                    for x in range(len(item) - 1):\n",
    "                        output_fp.write(str(item[x]) + \" \")\n",
    "\n",
    "                    if item:\n",
    "                        output_fp.write(str(item[len(item)-1]))\n",
    "                        output_fp.write(\"\\n\")\n",
    "\n",
    "                patient_note_list = []\n",
    "                \n",
    "\n",
    "                    \n",
    "        # update patient id\n",
    "        patient_id = patient_id_check\n",
    "        tokenized_note = word_tokenize(note)\n",
    "\n",
    "        # loop through each word in note to count word belonging to each disease\n",
    "        for word in tokenized_note:\n",
    "            stemmed_word = stemmer.stem(word.lower())       \n",
    "            if stemmed_word in word_dict:\n",
    "                    patient_word_set.add(stemmed_word)\n",
    "\n",
    "        templst = []\n",
    "        for word in patient_word_set:\n",
    "            templst.append(word_dict[word])\n",
    "\n",
    "        templst.sort()\n",
    "        patient_note_list.append(templst)\n",
    "        \n",
    "            \n",
    "    print(\"FP growth input for \" + disease_name + \" generated!\")\n",
    "\n",
    "fp_growth_input_per_patient(\"pneumonia_dead\", pneumonia_dead_no_disch, word_dict)\n",
    "fp_growth_input_per_patient(\"pneumonia_alive\", pneumonia_alive_no_disch, word_dict)\n",
    "\n"
   ]
  },
  {
   "cell_type": "code",
   "execution_count": null,
   "metadata": {},
   "outputs": [],
   "source": [
    "import os, subprocess\n",
    "print(os.getcwd())\n",
    "os.system('ls -l')\n",
    "# process = subprocess.Popen([\"java -jar spmf run FPGrowth_itemsets pneumonia_dead FP_out_test 3%\"])\n",
    "# process.wait()"
   ]
  },
  {
   "cell_type": "code",
   "execution_count": null,
   "metadata": {
    "scrolled": true
   },
   "outputs": [],
   "source": [
    "import os, subprocess\n",
    "from tqdm import tqdm\n",
    "def fp_growth_output_per_pratient(disease_name):\n",
    "#     spmf = ['java', '-jar', 'spmf.jar', 'run', 'FPGrowth_itemsets']\n",
    "    minsup = '70%'\n",
    "    inputdir = os.path.join(\"./tmp\", disease_name, \"inputs\")\n",
    "    \n",
    "    outputdir = os.path.join(\"./tmp\", disease_name, \"outputs\")\n",
    "    if not os.path.exists(outputdir):\n",
    "        os.makedirs(outputdir)\n",
    "        \n",
    "    for patient_file in tqdm(os.listdir(inputdir)):\n",
    "#         print(patient_file)\n",
    "        input_ = os.path.join(inputdir, patient_file)\n",
    "        output_ = os.path.join(outputdir, patient_file)\n",
    "#         print(f\"input_: {input_}\")\n",
    "#         print(f\"output_: {output_}\")\n",
    "        command = ['java', '-jar', 'spmf.jar', 'run', 'FPGrowth_itemsets', input_, output_, minsup]\n",
    "#         print(f\"command: {command}\")\n",
    "        subprocess.call(command)\n",
    "\n",
    "        \n",
    "\n",
    "fp_growth_output_per_pratient(\"pneumonia_dead\")\n",
    "fp_growth_output_per_pratient(\"pneumonia_alive\")\n",
    "    "
   ]
  },
  {
   "cell_type": "code",
   "execution_count": null,
   "metadata": {
    "scrolled": true
   },
   "outputs": [],
   "source": [
    "def findItemSets(fileName, length_OfItemSet):\n",
    "\n",
    "    file_read = fileName\n",
    "    lengthOfItemSet = int(length_OfItemSet)\n",
    "\n",
    "    wordlst = []\n",
    "    with open(file_read, \"r\") as fp:\n",
    "        for line in fp:\n",
    "            line = line.split()\n",
    "            if line:\n",
    "                wordlst.append(line)\n",
    "\n",
    "    coocurrencies = []\n",
    "\n",
    "    for listitem in wordlst:\n",
    "\n",
    "        if len(listitem) == (lengthOfItemSet + 2):\n",
    "            coocurrencies.append(listitem)\n",
    "\n",
    "    output = sorted(coocurrencies, key=lambda x: int(x[-1]))\n",
    "\n",
    "\n",
    "    for x in reversed(output):\n",
    "        if lengthOfItemSet == 2:\n",
    "            print(\"%s %s %s\" % (x[0], x[1], x[3]))\n",
    "        elif lengthOfItemSet == 3:\n",
    "            print(\"%s %s %s %s\" % (x[0], x[1], x[2], x[4]))\n",
    "        elif lengthOfItemSet == 4:\n",
    "            print(\"%s %s %s %s %s\" % (x[0], x[1], x[2], x[3], x[5]))\n",
    "        elif lengthOfItemSet == 5:\n",
    "            print(\"%s %s %s %s %s %s\" % (x[0], x[1], x[2], x[3], x[4], x[6]))\n",
    "            \n",
    "# findItemSets('FP_growth_pneumonia_alive_output.txt', 2)\n",
    "findItemSets('./tmp/111_out.txt', 2)"
   ]
  },
  {
   "cell_type": "code",
   "execution_count": null,
   "metadata": {},
   "outputs": [],
   "source": []
  }
 ],
 "metadata": {
  "kernelspec": {
   "display_name": "Python 3",
   "language": "python",
   "name": "python3"
  },
  "language_info": {
   "codemirror_mode": {
    "name": "ipython",
    "version": 3
   },
   "file_extension": ".py",
   "mimetype": "text/x-python",
   "name": "python",
   "nbconvert_exporter": "python",
   "pygments_lexer": "ipython3",
   "version": "3.7.6"
  }
 },
 "nbformat": 4,
 "nbformat_minor": 4
}
