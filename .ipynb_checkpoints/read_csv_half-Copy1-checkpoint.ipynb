{
 "cells": [
  {
   "cell_type": "markdown",
   "metadata": {},
   "source": [
    "### Data extraction\n",
    "Extract data from MIMIC-III"
   ]
  },
  {
   "cell_type": "code",
   "execution_count": 1,
   "metadata": {},
   "outputs": [
    {
     "data": {
      "text/html": [
       "        <script type=\"text/javascript\">\n",
       "        window.PlotlyConfig = {MathJaxConfig: 'local'};\n",
       "        if (window.MathJax) {MathJax.Hub.Config({SVG: {font: \"STIX-Web\"}});}\n",
       "        if (typeof require !== 'undefined') {\n",
       "        require.undef(\"plotly\");\n",
       "        requirejs.config({\n",
       "            paths: {\n",
       "                'plotly': ['https://cdn.plot.ly/plotly-latest.min']\n",
       "            }\n",
       "        });\n",
       "        require(['plotly'], function(Plotly) {\n",
       "            window._Plotly = Plotly;\n",
       "        });\n",
       "        }\n",
       "        </script>\n",
       "        "
      ]
     },
     "metadata": {},
     "output_type": "display_data"
    }
   ],
   "source": [
    "import time\n",
    "import numpy as np \n",
    "import pandas as pd\n",
    "import matplotlib.pyplot as plt\n",
    "import seaborn as sns\n",
    "from tqdm import tqdm\n",
    "\n",
    "# import re\n",
    "\n",
    "# import plotly.graph_objs as go\n",
    "# import plotly.plotly as py\n",
    "import cufflinks\n",
    "# from IPython.core.interactiveshell import InteractiveShell\n",
    "# import plotly.figure_factory as ff\n",
    "# InteractiveShell.ast_node_interactivity = 'all'\n",
    "# from plotly.offline import iplot\n",
    "cufflinks.go_offline()\n",
    "cufflinks.set_config_file(world_readable=True, theme='pearl')"
   ]
  },
  {
   "cell_type": "code",
   "execution_count": 2,
   "metadata": {},
   "outputs": [
    {
     "name": "stderr",
     "output_type": "stream",
     "text": [
      "/data/home/evgenii/anaconda3/lib/python3.7/site-packages/IPython/core/interactiveshell.py:3063: DtypeWarning:\n",
      "\n",
      "Columns (4,5) have mixed types.Specify dtype option on import or set low_memory=False.\n",
      "\n"
     ]
    },
    {
     "name": "stdout",
     "output_type": "stream",
     "text": [
      "41.36587381362915\n"
     ]
    }
   ],
   "source": [
    "# Import pandas \n",
    "import pandas as pd \n",
    "\n",
    "start = time.time()\n",
    "# reading csv file \n",
    "admissions_df = pd.read_csv(\"../MIMIC-III/ADMISSIONS.csv\")\n",
    "noteevents_df = pd.read_csv(\"../MIMIC-III/NOTEEVENTS.csv\") \n",
    "end = time.time()\n",
    "print(end - start)\n"
   ]
  },
  {
   "cell_type": "code",
   "execution_count": 3,
   "metadata": {},
   "outputs": [],
   "source": [
    "# diagnosis = df.DIAGNOSIS.unique()\n",
    "# #PNEUMONIA\n",
    "# for i in diagnosis:\n",
    "#     print(f\"[{i}]\")\n",
    "# data = df.copy()\n",
    "# data.info()\n",
    "\n",
    "# pneumonia_df = data.loc[df['DIAGNOSIS'] == 'PNEUMONIA']\n",
    "# pneumonia_df.info()"
   ]
  },
  {
   "cell_type": "code",
   "execution_count": 4,
   "metadata": {
    "scrolled": true
   },
   "outputs": [
    {
     "data": {
      "text/html": [
       "<div>\n",
       "<style scoped>\n",
       "    .dataframe tbody tr th:only-of-type {\n",
       "        vertical-align: middle;\n",
       "    }\n",
       "\n",
       "    .dataframe tbody tr th {\n",
       "        vertical-align: top;\n",
       "    }\n",
       "\n",
       "    .dataframe thead th {\n",
       "        text-align: right;\n",
       "    }\n",
       "</style>\n",
       "<table border=\"1\" class=\"dataframe\">\n",
       "  <thead>\n",
       "    <tr style=\"text-align: right;\">\n",
       "      <th></th>\n",
       "      <th>ROW_ID</th>\n",
       "      <th>SUBJECT_ID</th>\n",
       "      <th>HADM_ID</th>\n",
       "      <th>ADMITTIME</th>\n",
       "      <th>DISCHTIME</th>\n",
       "      <th>DEATHTIME</th>\n",
       "      <th>ADMISSION_TYPE</th>\n",
       "      <th>ADMISSION_LOCATION</th>\n",
       "      <th>DISCHARGE_LOCATION</th>\n",
       "      <th>INSURANCE</th>\n",
       "      <th>LANGUAGE</th>\n",
       "      <th>RELIGION</th>\n",
       "      <th>MARITAL_STATUS</th>\n",
       "      <th>ETHNICITY</th>\n",
       "      <th>EDREGTIME</th>\n",
       "      <th>EDOUTTIME</th>\n",
       "      <th>DIAGNOSIS</th>\n",
       "      <th>HOSPITAL_EXPIRE_FLAG</th>\n",
       "      <th>HAS_CHARTEVENTS_DATA</th>\n",
       "    </tr>\n",
       "  </thead>\n",
       "  <tbody>\n",
       "    <tr>\n",
       "      <th>0</th>\n",
       "      <td>21</td>\n",
       "      <td>22</td>\n",
       "      <td>165315</td>\n",
       "      <td>2196-04-09 12:26:00</td>\n",
       "      <td>2196-04-10 15:54:00</td>\n",
       "      <td>NaN</td>\n",
       "      <td>EMERGENCY</td>\n",
       "      <td>EMERGENCY ROOM ADMIT</td>\n",
       "      <td>DISC-TRAN CANCER/CHLDRN H</td>\n",
       "      <td>Private</td>\n",
       "      <td>NaN</td>\n",
       "      <td>UNOBTAINABLE</td>\n",
       "      <td>MARRIED</td>\n",
       "      <td>WHITE</td>\n",
       "      <td>2196-04-09 10:06:00</td>\n",
       "      <td>2196-04-09 13:24:00</td>\n",
       "      <td>BENZODIAZEPINE OVERDOSE</td>\n",
       "      <td>0</td>\n",
       "      <td>1</td>\n",
       "    </tr>\n",
       "    <tr>\n",
       "      <th>1</th>\n",
       "      <td>22</td>\n",
       "      <td>23</td>\n",
       "      <td>152223</td>\n",
       "      <td>2153-09-03 07:15:00</td>\n",
       "      <td>2153-09-08 19:10:00</td>\n",
       "      <td>NaN</td>\n",
       "      <td>ELECTIVE</td>\n",
       "      <td>PHYS REFERRAL/NORMAL DELI</td>\n",
       "      <td>HOME HEALTH CARE</td>\n",
       "      <td>Medicare</td>\n",
       "      <td>NaN</td>\n",
       "      <td>CATHOLIC</td>\n",
       "      <td>MARRIED</td>\n",
       "      <td>WHITE</td>\n",
       "      <td>NaN</td>\n",
       "      <td>NaN</td>\n",
       "      <td>CORONARY ARTERY DISEASE\\CORONARY ARTERY BYPASS...</td>\n",
       "      <td>0</td>\n",
       "      <td>1</td>\n",
       "    </tr>\n",
       "    <tr>\n",
       "      <th>2</th>\n",
       "      <td>23</td>\n",
       "      <td>23</td>\n",
       "      <td>124321</td>\n",
       "      <td>2157-10-18 19:34:00</td>\n",
       "      <td>2157-10-25 14:00:00</td>\n",
       "      <td>NaN</td>\n",
       "      <td>EMERGENCY</td>\n",
       "      <td>TRANSFER FROM HOSP/EXTRAM</td>\n",
       "      <td>HOME HEALTH CARE</td>\n",
       "      <td>Medicare</td>\n",
       "      <td>ENGL</td>\n",
       "      <td>CATHOLIC</td>\n",
       "      <td>MARRIED</td>\n",
       "      <td>WHITE</td>\n",
       "      <td>NaN</td>\n",
       "      <td>NaN</td>\n",
       "      <td>BRAIN MASS</td>\n",
       "      <td>0</td>\n",
       "      <td>1</td>\n",
       "    </tr>\n",
       "    <tr>\n",
       "      <th>3</th>\n",
       "      <td>24</td>\n",
       "      <td>24</td>\n",
       "      <td>161859</td>\n",
       "      <td>2139-06-06 16:14:00</td>\n",
       "      <td>2139-06-09 12:48:00</td>\n",
       "      <td>NaN</td>\n",
       "      <td>EMERGENCY</td>\n",
       "      <td>TRANSFER FROM HOSP/EXTRAM</td>\n",
       "      <td>HOME</td>\n",
       "      <td>Private</td>\n",
       "      <td>NaN</td>\n",
       "      <td>PROTESTANT QUAKER</td>\n",
       "      <td>SINGLE</td>\n",
       "      <td>WHITE</td>\n",
       "      <td>NaN</td>\n",
       "      <td>NaN</td>\n",
       "      <td>INTERIOR MYOCARDIAL INFARCTION</td>\n",
       "      <td>0</td>\n",
       "      <td>1</td>\n",
       "    </tr>\n",
       "    <tr>\n",
       "      <th>4</th>\n",
       "      <td>25</td>\n",
       "      <td>25</td>\n",
       "      <td>129635</td>\n",
       "      <td>2160-11-02 02:06:00</td>\n",
       "      <td>2160-11-05 14:55:00</td>\n",
       "      <td>NaN</td>\n",
       "      <td>EMERGENCY</td>\n",
       "      <td>EMERGENCY ROOM ADMIT</td>\n",
       "      <td>HOME</td>\n",
       "      <td>Private</td>\n",
       "      <td>NaN</td>\n",
       "      <td>UNOBTAINABLE</td>\n",
       "      <td>MARRIED</td>\n",
       "      <td>WHITE</td>\n",
       "      <td>2160-11-02 01:01:00</td>\n",
       "      <td>2160-11-02 04:27:00</td>\n",
       "      <td>ACUTE CORONARY SYNDROME</td>\n",
       "      <td>0</td>\n",
       "      <td>1</td>\n",
       "    </tr>\n",
       "    <tr>\n",
       "      <th>...</th>\n",
       "      <td>...</td>\n",
       "      <td>...</td>\n",
       "      <td>...</td>\n",
       "      <td>...</td>\n",
       "      <td>...</td>\n",
       "      <td>...</td>\n",
       "      <td>...</td>\n",
       "      <td>...</td>\n",
       "      <td>...</td>\n",
       "      <td>...</td>\n",
       "      <td>...</td>\n",
       "      <td>...</td>\n",
       "      <td>...</td>\n",
       "      <td>...</td>\n",
       "      <td>...</td>\n",
       "      <td>...</td>\n",
       "      <td>...</td>\n",
       "      <td>...</td>\n",
       "      <td>...</td>\n",
       "    </tr>\n",
       "    <tr>\n",
       "      <th>58971</th>\n",
       "      <td>58594</td>\n",
       "      <td>98800</td>\n",
       "      <td>191113</td>\n",
       "      <td>2131-03-30 21:13:00</td>\n",
       "      <td>2131-04-02 15:02:00</td>\n",
       "      <td>NaN</td>\n",
       "      <td>EMERGENCY</td>\n",
       "      <td>CLINIC REFERRAL/PREMATURE</td>\n",
       "      <td>HOME</td>\n",
       "      <td>Private</td>\n",
       "      <td>ENGL</td>\n",
       "      <td>NOT SPECIFIED</td>\n",
       "      <td>SINGLE</td>\n",
       "      <td>WHITE</td>\n",
       "      <td>2131-03-30 19:44:00</td>\n",
       "      <td>2131-03-30 22:41:00</td>\n",
       "      <td>TRAUMA</td>\n",
       "      <td>0</td>\n",
       "      <td>1</td>\n",
       "    </tr>\n",
       "    <tr>\n",
       "      <th>58972</th>\n",
       "      <td>58595</td>\n",
       "      <td>98802</td>\n",
       "      <td>101071</td>\n",
       "      <td>2151-03-05 20:00:00</td>\n",
       "      <td>2151-03-06 09:10:00</td>\n",
       "      <td>2151-03-06 09:10:00</td>\n",
       "      <td>EMERGENCY</td>\n",
       "      <td>CLINIC REFERRAL/PREMATURE</td>\n",
       "      <td>DEAD/EXPIRED</td>\n",
       "      <td>Medicare</td>\n",
       "      <td>ENGL</td>\n",
       "      <td>CATHOLIC</td>\n",
       "      <td>WIDOWED</td>\n",
       "      <td>WHITE</td>\n",
       "      <td>2151-03-05 17:23:00</td>\n",
       "      <td>2151-03-05 21:06:00</td>\n",
       "      <td>SAH</td>\n",
       "      <td>1</td>\n",
       "      <td>1</td>\n",
       "    </tr>\n",
       "    <tr>\n",
       "      <th>58973</th>\n",
       "      <td>58596</td>\n",
       "      <td>98805</td>\n",
       "      <td>122631</td>\n",
       "      <td>2200-09-12 07:15:00</td>\n",
       "      <td>2200-09-20 12:08:00</td>\n",
       "      <td>NaN</td>\n",
       "      <td>ELECTIVE</td>\n",
       "      <td>PHYS REFERRAL/NORMAL DELI</td>\n",
       "      <td>HOME HEALTH CARE</td>\n",
       "      <td>Private</td>\n",
       "      <td>ENGL</td>\n",
       "      <td>NOT SPECIFIED</td>\n",
       "      <td>MARRIED</td>\n",
       "      <td>WHITE</td>\n",
       "      <td>NaN</td>\n",
       "      <td>NaN</td>\n",
       "      <td>RENAL CANCER/SDA</td>\n",
       "      <td>0</td>\n",
       "      <td>1</td>\n",
       "    </tr>\n",
       "    <tr>\n",
       "      <th>58974</th>\n",
       "      <td>58597</td>\n",
       "      <td>98813</td>\n",
       "      <td>170407</td>\n",
       "      <td>2128-11-11 02:29:00</td>\n",
       "      <td>2128-12-22 13:11:00</td>\n",
       "      <td>NaN</td>\n",
       "      <td>EMERGENCY</td>\n",
       "      <td>EMERGENCY ROOM ADMIT</td>\n",
       "      <td>SNF</td>\n",
       "      <td>Private</td>\n",
       "      <td>ENGL</td>\n",
       "      <td>CATHOLIC</td>\n",
       "      <td>MARRIED</td>\n",
       "      <td>WHITE</td>\n",
       "      <td>2128-11-10 23:48:00</td>\n",
       "      <td>2128-11-11 03:16:00</td>\n",
       "      <td>S/P FALL</td>\n",
       "      <td>0</td>\n",
       "      <td>0</td>\n",
       "    </tr>\n",
       "    <tr>\n",
       "      <th>58975</th>\n",
       "      <td>58598</td>\n",
       "      <td>98813</td>\n",
       "      <td>190264</td>\n",
       "      <td>2131-10-25 03:09:00</td>\n",
       "      <td>2131-10-26 17:44:00</td>\n",
       "      <td>NaN</td>\n",
       "      <td>EMERGENCY</td>\n",
       "      <td>CLINIC REFERRAL/PREMATURE</td>\n",
       "      <td>HOME</td>\n",
       "      <td>Private</td>\n",
       "      <td>ENGL</td>\n",
       "      <td>CATHOLIC</td>\n",
       "      <td>MARRIED</td>\n",
       "      <td>WHITE</td>\n",
       "      <td>2131-10-25 00:08:00</td>\n",
       "      <td>2131-10-25 04:35:00</td>\n",
       "      <td>INTRACRANIAL HEMORRHAGE</td>\n",
       "      <td>0</td>\n",
       "      <td>1</td>\n",
       "    </tr>\n",
       "  </tbody>\n",
       "</table>\n",
       "<p>58976 rows × 19 columns</p>\n",
       "</div>"
      ],
      "text/plain": [
       "       ROW_ID  SUBJECT_ID  HADM_ID            ADMITTIME            DISCHTIME  \\\n",
       "0          21          22   165315  2196-04-09 12:26:00  2196-04-10 15:54:00   \n",
       "1          22          23   152223  2153-09-03 07:15:00  2153-09-08 19:10:00   \n",
       "2          23          23   124321  2157-10-18 19:34:00  2157-10-25 14:00:00   \n",
       "3          24          24   161859  2139-06-06 16:14:00  2139-06-09 12:48:00   \n",
       "4          25          25   129635  2160-11-02 02:06:00  2160-11-05 14:55:00   \n",
       "...       ...         ...      ...                  ...                  ...   \n",
       "58971   58594       98800   191113  2131-03-30 21:13:00  2131-04-02 15:02:00   \n",
       "58972   58595       98802   101071  2151-03-05 20:00:00  2151-03-06 09:10:00   \n",
       "58973   58596       98805   122631  2200-09-12 07:15:00  2200-09-20 12:08:00   \n",
       "58974   58597       98813   170407  2128-11-11 02:29:00  2128-12-22 13:11:00   \n",
       "58975   58598       98813   190264  2131-10-25 03:09:00  2131-10-26 17:44:00   \n",
       "\n",
       "                 DEATHTIME ADMISSION_TYPE         ADMISSION_LOCATION  \\\n",
       "0                      NaN      EMERGENCY       EMERGENCY ROOM ADMIT   \n",
       "1                      NaN       ELECTIVE  PHYS REFERRAL/NORMAL DELI   \n",
       "2                      NaN      EMERGENCY  TRANSFER FROM HOSP/EXTRAM   \n",
       "3                      NaN      EMERGENCY  TRANSFER FROM HOSP/EXTRAM   \n",
       "4                      NaN      EMERGENCY       EMERGENCY ROOM ADMIT   \n",
       "...                    ...            ...                        ...   \n",
       "58971                  NaN      EMERGENCY  CLINIC REFERRAL/PREMATURE   \n",
       "58972  2151-03-06 09:10:00      EMERGENCY  CLINIC REFERRAL/PREMATURE   \n",
       "58973                  NaN       ELECTIVE  PHYS REFERRAL/NORMAL DELI   \n",
       "58974                  NaN      EMERGENCY       EMERGENCY ROOM ADMIT   \n",
       "58975                  NaN      EMERGENCY  CLINIC REFERRAL/PREMATURE   \n",
       "\n",
       "              DISCHARGE_LOCATION INSURANCE LANGUAGE           RELIGION  \\\n",
       "0      DISC-TRAN CANCER/CHLDRN H   Private      NaN       UNOBTAINABLE   \n",
       "1               HOME HEALTH CARE  Medicare      NaN           CATHOLIC   \n",
       "2               HOME HEALTH CARE  Medicare     ENGL           CATHOLIC   \n",
       "3                           HOME   Private      NaN  PROTESTANT QUAKER   \n",
       "4                           HOME   Private      NaN       UNOBTAINABLE   \n",
       "...                          ...       ...      ...                ...   \n",
       "58971                       HOME   Private     ENGL      NOT SPECIFIED   \n",
       "58972               DEAD/EXPIRED  Medicare     ENGL           CATHOLIC   \n",
       "58973           HOME HEALTH CARE   Private     ENGL      NOT SPECIFIED   \n",
       "58974                        SNF   Private     ENGL           CATHOLIC   \n",
       "58975                       HOME   Private     ENGL           CATHOLIC   \n",
       "\n",
       "      MARITAL_STATUS ETHNICITY            EDREGTIME            EDOUTTIME  \\\n",
       "0            MARRIED     WHITE  2196-04-09 10:06:00  2196-04-09 13:24:00   \n",
       "1            MARRIED     WHITE                  NaN                  NaN   \n",
       "2            MARRIED     WHITE                  NaN                  NaN   \n",
       "3             SINGLE     WHITE                  NaN                  NaN   \n",
       "4            MARRIED     WHITE  2160-11-02 01:01:00  2160-11-02 04:27:00   \n",
       "...              ...       ...                  ...                  ...   \n",
       "58971         SINGLE     WHITE  2131-03-30 19:44:00  2131-03-30 22:41:00   \n",
       "58972        WIDOWED     WHITE  2151-03-05 17:23:00  2151-03-05 21:06:00   \n",
       "58973        MARRIED     WHITE                  NaN                  NaN   \n",
       "58974        MARRIED     WHITE  2128-11-10 23:48:00  2128-11-11 03:16:00   \n",
       "58975        MARRIED     WHITE  2131-10-25 00:08:00  2131-10-25 04:35:00   \n",
       "\n",
       "                                               DIAGNOSIS  \\\n",
       "0                                BENZODIAZEPINE OVERDOSE   \n",
       "1      CORONARY ARTERY DISEASE\\CORONARY ARTERY BYPASS...   \n",
       "2                                             BRAIN MASS   \n",
       "3                         INTERIOR MYOCARDIAL INFARCTION   \n",
       "4                                ACUTE CORONARY SYNDROME   \n",
       "...                                                  ...   \n",
       "58971                                             TRAUMA   \n",
       "58972                                                SAH   \n",
       "58973                                   RENAL CANCER/SDA   \n",
       "58974                                           S/P FALL   \n",
       "58975                            INTRACRANIAL HEMORRHAGE   \n",
       "\n",
       "       HOSPITAL_EXPIRE_FLAG  HAS_CHARTEVENTS_DATA  \n",
       "0                         0                     1  \n",
       "1                         0                     1  \n",
       "2                         0                     1  \n",
       "3                         0                     1  \n",
       "4                         0                     1  \n",
       "...                     ...                   ...  \n",
       "58971                     0                     1  \n",
       "58972                     1                     1  \n",
       "58973                     0                     1  \n",
       "58974                     0                     0  \n",
       "58975                     0                     1  \n",
       "\n",
       "[58976 rows x 19 columns]"
      ]
     },
     "execution_count": 4,
     "metadata": {},
     "output_type": "execute_result"
    }
   ],
   "source": [
    "admissions_df"
   ]
  },
  {
   "cell_type": "code",
   "execution_count": 5,
   "metadata": {
    "scrolled": true
   },
   "outputs": [
    {
     "name": "stdout",
     "output_type": "stream",
     "text": [
      "<class 'pandas.core.frame.DataFrame'>\n",
      "RangeIndex: 2083180 entries, 0 to 2083179\n",
      "Data columns (total 11 columns):\n",
      " #   Column       Dtype  \n",
      "---  ------       -----  \n",
      " 0   ROW_ID       int64  \n",
      " 1   SUBJECT_ID   int64  \n",
      " 2   HADM_ID      float64\n",
      " 3   CHARTDATE    object \n",
      " 4   CHARTTIME    object \n",
      " 5   STORETIME    object \n",
      " 6   CATEGORY     object \n",
      " 7   DESCRIPTION  object \n",
      " 8   CGID         float64\n",
      " 9   ISERROR      float64\n",
      " 10  TEXT         object \n",
      "dtypes: float64(3), int64(2), object(6)\n",
      "memory usage: 174.8+ MB\n"
     ]
    }
   ],
   "source": [
    "noteevents_df.info()"
   ]
  },
  {
   "cell_type": "code",
   "execution_count": 6,
   "metadata": {},
   "outputs": [
    {
     "name": "stdout",
     "output_type": "stream",
     "text": [
      "<class 'pandas.core.frame.DataFrame'>\n",
      "RangeIndex: 58976 entries, 0 to 58975\n",
      "Data columns (total 19 columns):\n",
      " #   Column                Non-Null Count  Dtype \n",
      "---  ------                --------------  ----- \n",
      " 0   ROW_ID                58976 non-null  int64 \n",
      " 1   SUBJECT_ID            58976 non-null  int64 \n",
      " 2   HADM_ID               58976 non-null  int64 \n",
      " 3   ADMITTIME             58976 non-null  object\n",
      " 4   DISCHTIME             58976 non-null  object\n",
      " 5   DEATHTIME             5854 non-null   object\n",
      " 6   ADMISSION_TYPE        58976 non-null  object\n",
      " 7   ADMISSION_LOCATION    58976 non-null  object\n",
      " 8   DISCHARGE_LOCATION    58976 non-null  object\n",
      " 9   INSURANCE             58976 non-null  object\n",
      " 10  LANGUAGE              33644 non-null  object\n",
      " 11  RELIGION              58518 non-null  object\n",
      " 12  MARITAL_STATUS        48848 non-null  object\n",
      " 13  ETHNICITY             58976 non-null  object\n",
      " 14  EDREGTIME             30877 non-null  object\n",
      " 15  EDOUTTIME             30877 non-null  object\n",
      " 16  DIAGNOSIS             58951 non-null  object\n",
      " 17  HOSPITAL_EXPIRE_FLAG  58976 non-null  int64 \n",
      " 18  HAS_CHARTEVENTS_DATA  58976 non-null  int64 \n",
      "dtypes: int64(5), object(14)\n",
      "memory usage: 8.5+ MB\n"
     ]
    }
   ],
   "source": [
    "admissions_df.info()"
   ]
  },
  {
   "cell_type": "code",
   "execution_count": 7,
   "metadata": {},
   "outputs": [
    {
     "data": {
      "text/plain": [
       "\"\\n>>> left\\n  transaction_id user_id     value\\n0              A   Peter  1.867558\\n1              B    John -0.977278\\n2              C    John  0.950088\\n3              D    Anna -0.151357\\n>>> right\\n  user_id favorite_color\\n0    Paul           blue\\n1    Mary           blue\\n2    John            red\\n3    Anna            NaN\\n\\n---------\\n>>> left.merge(right, on='user_id', how='left', indicator=True)\\n  transaction_id user_id     value favorite_color     _merge\\n0              A   Peter  1.867558            NaN  left_only\\n1              B    John -0.977278            red       both\\n2              C    John  0.950088            red       both\\n3              D    Anna -0.151357            NaN       both\\n\\n---------\\nleft.merge(right.rename({'user_id': 'user_id_r'}, axis=1),\\n               left_on='user_id', right_on='user_id_r', how='left')\\n               \\n  transaction_id user_id     value user_id_r favorite_color\\n0              A   Peter  1.867558       NaN            NaN\\n1              B    John -0.977278      John            red\\n2              C    John  0.950088      John            red\\n3              D    Anna -0.151357      Anna            NaN\\n---------\\nselect\\n    t.transaction_id\\n    , t.user_id\\n    , t.value\\n    , u.user_id as user_id_r\\n    , u.favorite_color\\nfrom\\n    transactions t\\n    left join\\n    users u\\n    on t.user_id = u.user_id\\n;\\n\""
      ]
     },
     "execution_count": 7,
     "metadata": {},
     "output_type": "execute_result"
    }
   ],
   "source": [
    "# https://towardsdatascience.com/left-join-with-pandas-data-frames-in-python-c29c85089ba4\n",
    "# left_join = noteevents_df.join(admissions_df.set_index('HADM_ID'), on='HADM_ID')\n",
    "# left_join = noteevents_df.set_index('HADM_ID').join(admissions_df.set_index('HADM_ID'))\n",
    "\"\"\"\n",
    ">>> left\n",
    "  transaction_id user_id     value\n",
    "0              A   Peter  1.867558\n",
    "1              B    John -0.977278\n",
    "2              C    John  0.950088\n",
    "3              D    Anna -0.151357\n",
    ">>> right\n",
    "  user_id favorite_color\n",
    "0    Paul           blue\n",
    "1    Mary           blue\n",
    "2    John            red\n",
    "3    Anna            NaN\n",
    "\n",
    "---------\n",
    ">>> left.merge(right, on='user_id', how='left', indicator=True)\n",
    "  transaction_id user_id     value favorite_color     _merge\n",
    "0              A   Peter  1.867558            NaN  left_only\n",
    "1              B    John -0.977278            red       both\n",
    "2              C    John  0.950088            red       both\n",
    "3              D    Anna -0.151357            NaN       both\n",
    "\n",
    "---------\n",
    "left.merge(right.rename({'user_id': 'user_id_r'}, axis=1),\n",
    "               left_on='user_id', right_on='user_id_r', how='left')\n",
    "               \n",
    "  transaction_id user_id     value user_id_r favorite_color\n",
    "0              A   Peter  1.867558       NaN            NaN\n",
    "1              B    John -0.977278      John            red\n",
    "2              C    John  0.950088      John            red\n",
    "3              D    Anna -0.151357      Anna            NaN\n",
    "---------\n",
    "select\n",
    "    t.transaction_id\n",
    "    , t.user_id\n",
    "    , t.value\n",
    "    , u.user_id as user_id_r\n",
    "    , u.favorite_color\n",
    "from\n",
    "    transactions t\n",
    "    left join\n",
    "    users u\n",
    "    on t.user_id = u.user_id\n",
    ";\n",
    "\"\"\""
   ]
  },
  {
   "cell_type": "code",
   "execution_count": 8,
   "metadata": {},
   "outputs": [
    {
     "name": "stdout",
     "output_type": "stream",
     "text": [
      "27.757601499557495\n"
     ]
    }
   ],
   "source": [
    "start = time.time()\n",
    "# Left join of two dataframes\n",
    "note_admiss_df_left = noteevents_df.merge(admissions_df, on='HADM_ID', how='left', indicator=True)\n",
    "end = time.time()\n",
    "print(end - start)"
   ]
  },
  {
   "cell_type": "code",
   "execution_count": 9,
   "metadata": {
    "scrolled": false
   },
   "outputs": [
    {
     "name": "stdout",
     "output_type": "stream",
     "text": [
      "<class 'pandas.core.frame.DataFrame'>\n",
      "Int64Index: 2083180 entries, 0 to 2083179\n",
      "Data columns (total 30 columns):\n",
      " #   Column                Dtype   \n",
      "---  ------                -----   \n",
      " 0   ROW_ID_x              int64   \n",
      " 1   SUBJECT_ID_x          int64   \n",
      " 2   HADM_ID               float64 \n",
      " 3   CHARTDATE             object  \n",
      " 4   CHARTTIME             object  \n",
      " 5   STORETIME             object  \n",
      " 6   CATEGORY              object  \n",
      " 7   DESCRIPTION           object  \n",
      " 8   CGID                  float64 \n",
      " 9   ISERROR               float64 \n",
      " 10  TEXT                  object  \n",
      " 11  ROW_ID_y              float64 \n",
      " 12  SUBJECT_ID_y          float64 \n",
      " 13  ADMITTIME             object  \n",
      " 14  DISCHTIME             object  \n",
      " 15  DEATHTIME             object  \n",
      " 16  ADMISSION_TYPE        object  \n",
      " 17  ADMISSION_LOCATION    object  \n",
      " 18  DISCHARGE_LOCATION    object  \n",
      " 19  INSURANCE             object  \n",
      " 20  LANGUAGE              object  \n",
      " 21  RELIGION              object  \n",
      " 22  MARITAL_STATUS        object  \n",
      " 23  ETHNICITY             object  \n",
      " 24  EDREGTIME             object  \n",
      " 25  EDOUTTIME             object  \n",
      " 26  DIAGNOSIS             object  \n",
      " 27  HOSPITAL_EXPIRE_FLAG  float64 \n",
      " 28  HAS_CHARTEVENTS_DATA  float64 \n",
      " 29  _merge                category\n",
      "dtypes: category(1), float64(7), int64(2), object(20)\n",
      "memory usage: 478.8+ MB\n"
     ]
    }
   ],
   "source": [
    "note_admiss_df_left.info()"
   ]
  },
  {
   "cell_type": "code",
   "execution_count": 10,
   "metadata": {},
   "outputs": [
    {
     "data": {
      "text/plain": [
       "(2083180, 30)"
      ]
     },
     "execution_count": 10,
     "metadata": {},
     "output_type": "execute_result"
    }
   ],
   "source": [
    "note_admiss_df_left.shape"
   ]
  },
  {
   "cell_type": "code",
   "execution_count": 11,
   "metadata": {
    "scrolled": false
   },
   "outputs": [
    {
     "data": {
      "text/html": [
       "<div>\n",
       "<style scoped>\n",
       "    .dataframe tbody tr th:only-of-type {\n",
       "        vertical-align: middle;\n",
       "    }\n",
       "\n",
       "    .dataframe tbody tr th {\n",
       "        vertical-align: top;\n",
       "    }\n",
       "\n",
       "    .dataframe thead th {\n",
       "        text-align: right;\n",
       "    }\n",
       "</style>\n",
       "<table border=\"1\" class=\"dataframe\">\n",
       "  <thead>\n",
       "    <tr style=\"text-align: right;\">\n",
       "      <th></th>\n",
       "      <th>DIAGNOSIS</th>\n",
       "      <th>SUBJECT_ID_x</th>\n",
       "      <th>SUBJECT_ID_y</th>\n",
       "      <th>DESCRIPTION</th>\n",
       "      <th>CATEGORY</th>\n",
       "    </tr>\n",
       "  </thead>\n",
       "  <tbody>\n",
       "    <tr>\n",
       "      <th>0</th>\n",
       "      <td>RT LOWER LOBE PNEUMONIA</td>\n",
       "      <td>22532</td>\n",
       "      <td>22532.0</td>\n",
       "      <td>Report</td>\n",
       "      <td>Discharge summary</td>\n",
       "    </tr>\n",
       "    <tr>\n",
       "      <th>1</th>\n",
       "      <td>CHRONIC OBSTRUCTIVE PULMONARY DISEASE</td>\n",
       "      <td>13702</td>\n",
       "      <td>13702.0</td>\n",
       "      <td>Report</td>\n",
       "      <td>Discharge summary</td>\n",
       "    </tr>\n",
       "    <tr>\n",
       "      <th>2</th>\n",
       "      <td>TRACHEALBRONCHEAL MALACEA/SDA</td>\n",
       "      <td>13702</td>\n",
       "      <td>13702.0</td>\n",
       "      <td>Report</td>\n",
       "      <td>Discharge summary</td>\n",
       "    </tr>\n",
       "    <tr>\n",
       "      <th>3</th>\n",
       "      <td>ASTHMA;COPD EXACERBATION</td>\n",
       "      <td>13702</td>\n",
       "      <td>13702.0</td>\n",
       "      <td>Report</td>\n",
       "      <td>Discharge summary</td>\n",
       "    </tr>\n",
       "    <tr>\n",
       "      <th>4</th>\n",
       "      <td>S/P FALL;TELEMETRY</td>\n",
       "      <td>26880</td>\n",
       "      <td>26880.0</td>\n",
       "      <td>Report</td>\n",
       "      <td>Discharge summary</td>\n",
       "    </tr>\n",
       "    <tr>\n",
       "      <th>...</th>\n",
       "      <td>...</td>\n",
       "      <td>...</td>\n",
       "      <td>...</td>\n",
       "      <td>...</td>\n",
       "      <td>...</td>\n",
       "    </tr>\n",
       "    <tr>\n",
       "      <th>2083175</th>\n",
       "      <td>NEWBORN</td>\n",
       "      <td>31097</td>\n",
       "      <td>31097.0</td>\n",
       "      <td>Report</td>\n",
       "      <td>Nursing/other</td>\n",
       "    </tr>\n",
       "    <tr>\n",
       "      <th>2083176</th>\n",
       "      <td>NEWBORN</td>\n",
       "      <td>31097</td>\n",
       "      <td>31097.0</td>\n",
       "      <td>Report</td>\n",
       "      <td>Nursing/other</td>\n",
       "    </tr>\n",
       "    <tr>\n",
       "      <th>2083177</th>\n",
       "      <td>NEWBORN</td>\n",
       "      <td>31097</td>\n",
       "      <td>31097.0</td>\n",
       "      <td>Report</td>\n",
       "      <td>Nursing/other</td>\n",
       "    </tr>\n",
       "    <tr>\n",
       "      <th>2083178</th>\n",
       "      <td>NEWBORN</td>\n",
       "      <td>31097</td>\n",
       "      <td>31097.0</td>\n",
       "      <td>Report</td>\n",
       "      <td>Nursing/other</td>\n",
       "    </tr>\n",
       "    <tr>\n",
       "      <th>2083179</th>\n",
       "      <td>NEWBORN</td>\n",
       "      <td>31097</td>\n",
       "      <td>31097.0</td>\n",
       "      <td>Report</td>\n",
       "      <td>Nursing/other</td>\n",
       "    </tr>\n",
       "  </tbody>\n",
       "</table>\n",
       "<p>2083180 rows × 5 columns</p>\n",
       "</div>"
      ],
      "text/plain": [
       "                                     DIAGNOSIS  SUBJECT_ID_x  SUBJECT_ID_y  \\\n",
       "0                      RT LOWER LOBE PNEUMONIA         22532       22532.0   \n",
       "1        CHRONIC OBSTRUCTIVE PULMONARY DISEASE         13702       13702.0   \n",
       "2                TRACHEALBRONCHEAL MALACEA/SDA         13702       13702.0   \n",
       "3                     ASTHMA;COPD EXACERBATION         13702       13702.0   \n",
       "4                           S/P FALL;TELEMETRY         26880       26880.0   \n",
       "...                                        ...           ...           ...   \n",
       "2083175                                NEWBORN         31097       31097.0   \n",
       "2083176                                NEWBORN         31097       31097.0   \n",
       "2083177                                NEWBORN         31097       31097.0   \n",
       "2083178                                NEWBORN         31097       31097.0   \n",
       "2083179                                NEWBORN         31097       31097.0   \n",
       "\n",
       "        DESCRIPTION           CATEGORY  \n",
       "0            Report  Discharge summary  \n",
       "1            Report  Discharge summary  \n",
       "2            Report  Discharge summary  \n",
       "3            Report  Discharge summary  \n",
       "4            Report  Discharge summary  \n",
       "...             ...                ...  \n",
       "2083175      Report      Nursing/other  \n",
       "2083176      Report      Nursing/other  \n",
       "2083177      Report      Nursing/other  \n",
       "2083178      Report      Nursing/other  \n",
       "2083179      Report      Nursing/other  \n",
       "\n",
       "[2083180 rows x 5 columns]"
      ]
     },
     "execution_count": 11,
     "metadata": {},
     "output_type": "execute_result"
    }
   ],
   "source": [
    "# df1 = df[['a','b']]\n",
    "note_admiss_df_left[['DIAGNOSIS', 'SUBJECT_ID_x', 'SUBJECT_ID_y','DESCRIPTION', 'CATEGORY']]"
   ]
  },
  {
   "cell_type": "code",
   "execution_count": 12,
   "metadata": {
    "scrolled": true
   },
   "outputs": [],
   "source": [
    "pneumonia_df = note_admiss_df_left.loc[note_admiss_df_left[\"DIAGNOSIS\"] == 'PNEUMONIA', ['ROW_ID_x', 'SUBJECT_ID_x', 'HADM_ID', 'CHARTDATE', 'CHARTTIME', 'STORETIME', 'CATEGORY', 'DESCRIPTION', 'CGID', 'ISERROR', 'TEXT', 'ADMITTIME', 'DISCHTIME', 'DEATHTIME', 'ADMISSION_TYPE', 'DIAGNOSIS', 'HAS_CHARTEVENTS_DATA']]"
   ]
  },
  {
   "cell_type": "code",
   "execution_count": null,
   "metadata": {
    "scrolled": false
   },
   "outputs": [],
   "source": []
  },
  {
   "cell_type": "code",
   "execution_count": 13,
   "metadata": {
    "scrolled": true
   },
   "outputs": [
    {
     "data": {
      "text/plain": [
       "(59727, 17)"
      ]
     },
     "execution_count": 13,
     "metadata": {},
     "output_type": "execute_result"
    }
   ],
   "source": [
    "pneumonia_df.shape"
   ]
  },
  {
   "cell_type": "code",
   "execution_count": 14,
   "metadata": {
    "scrolled": false
   },
   "outputs": [
    {
     "data": {
      "application/vnd.plotly.v1+json": {
       "config": {
        "linkText": "Export to plot.ly",
        "plotlyServerURL": "https://plot.ly",
        "showLink": true
       },
       "data": [
        {
         "marker": {
          "color": "rgba(255, 153, 51, 0.6)",
          "line": {
           "color": "rgba(255, 153, 51, 1.0)",
           "width": 1
          }
         },
         "name": "CATEGORY",
         "orientation": "v",
         "text": "",
         "type": "bar",
         "x": [
          "Nursing",
          "Nursing/other",
          "Radiology",
          "Physician ",
          "ECG",
          "Respiratory ",
          "Discharge summary",
          "Echo",
          "General",
          "Nutrition",
          "Rehab Services",
          "Social Work",
          "Case Management ",
          "Pharmacy",
          "Consult"
         ],
         "y": [
          13256,
          12693,
          11723,
          10643,
          4469,
          2454,
          1698,
          949,
          680,
          638,
          231,
          142,
          135,
          15,
          1
         ]
        }
       ],
       "layout": {
        "legend": {
         "bgcolor": "#F5F6F9",
         "font": {
          "color": "#4D5663"
         }
        },
        "paper_bgcolor": "#F5F6F9",
        "plot_bgcolor": "#F5F6F9",
        "template": {
         "data": {
          "bar": [
           {
            "error_x": {
             "color": "#2a3f5f"
            },
            "error_y": {
             "color": "#2a3f5f"
            },
            "marker": {
             "line": {
              "color": "#E5ECF6",
              "width": 0.5
             }
            },
            "type": "bar"
           }
          ],
          "barpolar": [
           {
            "marker": {
             "line": {
              "color": "#E5ECF6",
              "width": 0.5
             }
            },
            "type": "barpolar"
           }
          ],
          "carpet": [
           {
            "aaxis": {
             "endlinecolor": "#2a3f5f",
             "gridcolor": "white",
             "linecolor": "white",
             "minorgridcolor": "white",
             "startlinecolor": "#2a3f5f"
            },
            "baxis": {
             "endlinecolor": "#2a3f5f",
             "gridcolor": "white",
             "linecolor": "white",
             "minorgridcolor": "white",
             "startlinecolor": "#2a3f5f"
            },
            "type": "carpet"
           }
          ],
          "choropleth": [
           {
            "colorbar": {
             "outlinewidth": 0,
             "ticks": ""
            },
            "type": "choropleth"
           }
          ],
          "contour": [
           {
            "colorbar": {
             "outlinewidth": 0,
             "ticks": ""
            },
            "colorscale": [
             [
              0,
              "#0d0887"
             ],
             [
              0.1111111111111111,
              "#46039f"
             ],
             [
              0.2222222222222222,
              "#7201a8"
             ],
             [
              0.3333333333333333,
              "#9c179e"
             ],
             [
              0.4444444444444444,
              "#bd3786"
             ],
             [
              0.5555555555555556,
              "#d8576b"
             ],
             [
              0.6666666666666666,
              "#ed7953"
             ],
             [
              0.7777777777777778,
              "#fb9f3a"
             ],
             [
              0.8888888888888888,
              "#fdca26"
             ],
             [
              1,
              "#f0f921"
             ]
            ],
            "type": "contour"
           }
          ],
          "contourcarpet": [
           {
            "colorbar": {
             "outlinewidth": 0,
             "ticks": ""
            },
            "type": "contourcarpet"
           }
          ],
          "heatmap": [
           {
            "colorbar": {
             "outlinewidth": 0,
             "ticks": ""
            },
            "colorscale": [
             [
              0,
              "#0d0887"
             ],
             [
              0.1111111111111111,
              "#46039f"
             ],
             [
              0.2222222222222222,
              "#7201a8"
             ],
             [
              0.3333333333333333,
              "#9c179e"
             ],
             [
              0.4444444444444444,
              "#bd3786"
             ],
             [
              0.5555555555555556,
              "#d8576b"
             ],
             [
              0.6666666666666666,
              "#ed7953"
             ],
             [
              0.7777777777777778,
              "#fb9f3a"
             ],
             [
              0.8888888888888888,
              "#fdca26"
             ],
             [
              1,
              "#f0f921"
             ]
            ],
            "type": "heatmap"
           }
          ],
          "heatmapgl": [
           {
            "colorbar": {
             "outlinewidth": 0,
             "ticks": ""
            },
            "colorscale": [
             [
              0,
              "#0d0887"
             ],
             [
              0.1111111111111111,
              "#46039f"
             ],
             [
              0.2222222222222222,
              "#7201a8"
             ],
             [
              0.3333333333333333,
              "#9c179e"
             ],
             [
              0.4444444444444444,
              "#bd3786"
             ],
             [
              0.5555555555555556,
              "#d8576b"
             ],
             [
              0.6666666666666666,
              "#ed7953"
             ],
             [
              0.7777777777777778,
              "#fb9f3a"
             ],
             [
              0.8888888888888888,
              "#fdca26"
             ],
             [
              1,
              "#f0f921"
             ]
            ],
            "type": "heatmapgl"
           }
          ],
          "histogram": [
           {
            "marker": {
             "colorbar": {
              "outlinewidth": 0,
              "ticks": ""
             }
            },
            "type": "histogram"
           }
          ],
          "histogram2d": [
           {
            "colorbar": {
             "outlinewidth": 0,
             "ticks": ""
            },
            "colorscale": [
             [
              0,
              "#0d0887"
             ],
             [
              0.1111111111111111,
              "#46039f"
             ],
             [
              0.2222222222222222,
              "#7201a8"
             ],
             [
              0.3333333333333333,
              "#9c179e"
             ],
             [
              0.4444444444444444,
              "#bd3786"
             ],
             [
              0.5555555555555556,
              "#d8576b"
             ],
             [
              0.6666666666666666,
              "#ed7953"
             ],
             [
              0.7777777777777778,
              "#fb9f3a"
             ],
             [
              0.8888888888888888,
              "#fdca26"
             ],
             [
              1,
              "#f0f921"
             ]
            ],
            "type": "histogram2d"
           }
          ],
          "histogram2dcontour": [
           {
            "colorbar": {
             "outlinewidth": 0,
             "ticks": ""
            },
            "colorscale": [
             [
              0,
              "#0d0887"
             ],
             [
              0.1111111111111111,
              "#46039f"
             ],
             [
              0.2222222222222222,
              "#7201a8"
             ],
             [
              0.3333333333333333,
              "#9c179e"
             ],
             [
              0.4444444444444444,
              "#bd3786"
             ],
             [
              0.5555555555555556,
              "#d8576b"
             ],
             [
              0.6666666666666666,
              "#ed7953"
             ],
             [
              0.7777777777777778,
              "#fb9f3a"
             ],
             [
              0.8888888888888888,
              "#fdca26"
             ],
             [
              1,
              "#f0f921"
             ]
            ],
            "type": "histogram2dcontour"
           }
          ],
          "mesh3d": [
           {
            "colorbar": {
             "outlinewidth": 0,
             "ticks": ""
            },
            "type": "mesh3d"
           }
          ],
          "parcoords": [
           {
            "line": {
             "colorbar": {
              "outlinewidth": 0,
              "ticks": ""
             }
            },
            "type": "parcoords"
           }
          ],
          "pie": [
           {
            "automargin": true,
            "type": "pie"
           }
          ],
          "scatter": [
           {
            "marker": {
             "colorbar": {
              "outlinewidth": 0,
              "ticks": ""
             }
            },
            "type": "scatter"
           }
          ],
          "scatter3d": [
           {
            "line": {
             "colorbar": {
              "outlinewidth": 0,
              "ticks": ""
             }
            },
            "marker": {
             "colorbar": {
              "outlinewidth": 0,
              "ticks": ""
             }
            },
            "type": "scatter3d"
           }
          ],
          "scattercarpet": [
           {
            "marker": {
             "colorbar": {
              "outlinewidth": 0,
              "ticks": ""
             }
            },
            "type": "scattercarpet"
           }
          ],
          "scattergeo": [
           {
            "marker": {
             "colorbar": {
              "outlinewidth": 0,
              "ticks": ""
             }
            },
            "type": "scattergeo"
           }
          ],
          "scattergl": [
           {
            "marker": {
             "colorbar": {
              "outlinewidth": 0,
              "ticks": ""
             }
            },
            "type": "scattergl"
           }
          ],
          "scattermapbox": [
           {
            "marker": {
             "colorbar": {
              "outlinewidth": 0,
              "ticks": ""
             }
            },
            "type": "scattermapbox"
           }
          ],
          "scatterpolar": [
           {
            "marker": {
             "colorbar": {
              "outlinewidth": 0,
              "ticks": ""
             }
            },
            "type": "scatterpolar"
           }
          ],
          "scatterpolargl": [
           {
            "marker": {
             "colorbar": {
              "outlinewidth": 0,
              "ticks": ""
             }
            },
            "type": "scatterpolargl"
           }
          ],
          "scatterternary": [
           {
            "marker": {
             "colorbar": {
              "outlinewidth": 0,
              "ticks": ""
             }
            },
            "type": "scatterternary"
           }
          ],
          "surface": [
           {
            "colorbar": {
             "outlinewidth": 0,
             "ticks": ""
            },
            "colorscale": [
             [
              0,
              "#0d0887"
             ],
             [
              0.1111111111111111,
              "#46039f"
             ],
             [
              0.2222222222222222,
              "#7201a8"
             ],
             [
              0.3333333333333333,
              "#9c179e"
             ],
             [
              0.4444444444444444,
              "#bd3786"
             ],
             [
              0.5555555555555556,
              "#d8576b"
             ],
             [
              0.6666666666666666,
              "#ed7953"
             ],
             [
              0.7777777777777778,
              "#fb9f3a"
             ],
             [
              0.8888888888888888,
              "#fdca26"
             ],
             [
              1,
              "#f0f921"
             ]
            ],
            "type": "surface"
           }
          ],
          "table": [
           {
            "cells": {
             "fill": {
              "color": "#EBF0F8"
             },
             "line": {
              "color": "white"
             }
            },
            "header": {
             "fill": {
              "color": "#C8D4E3"
             },
             "line": {
              "color": "white"
             }
            },
            "type": "table"
           }
          ]
         },
         "layout": {
          "annotationdefaults": {
           "arrowcolor": "#2a3f5f",
           "arrowhead": 0,
           "arrowwidth": 1
          },
          "coloraxis": {
           "colorbar": {
            "outlinewidth": 0,
            "ticks": ""
           }
          },
          "colorscale": {
           "diverging": [
            [
             0,
             "#8e0152"
            ],
            [
             0.1,
             "#c51b7d"
            ],
            [
             0.2,
             "#de77ae"
            ],
            [
             0.3,
             "#f1b6da"
            ],
            [
             0.4,
             "#fde0ef"
            ],
            [
             0.5,
             "#f7f7f7"
            ],
            [
             0.6,
             "#e6f5d0"
            ],
            [
             0.7,
             "#b8e186"
            ],
            [
             0.8,
             "#7fbc41"
            ],
            [
             0.9,
             "#4d9221"
            ],
            [
             1,
             "#276419"
            ]
           ],
           "sequential": [
            [
             0,
             "#0d0887"
            ],
            [
             0.1111111111111111,
             "#46039f"
            ],
            [
             0.2222222222222222,
             "#7201a8"
            ],
            [
             0.3333333333333333,
             "#9c179e"
            ],
            [
             0.4444444444444444,
             "#bd3786"
            ],
            [
             0.5555555555555556,
             "#d8576b"
            ],
            [
             0.6666666666666666,
             "#ed7953"
            ],
            [
             0.7777777777777778,
             "#fb9f3a"
            ],
            [
             0.8888888888888888,
             "#fdca26"
            ],
            [
             1,
             "#f0f921"
            ]
           ],
           "sequentialminus": [
            [
             0,
             "#0d0887"
            ],
            [
             0.1111111111111111,
             "#46039f"
            ],
            [
             0.2222222222222222,
             "#7201a8"
            ],
            [
             0.3333333333333333,
             "#9c179e"
            ],
            [
             0.4444444444444444,
             "#bd3786"
            ],
            [
             0.5555555555555556,
             "#d8576b"
            ],
            [
             0.6666666666666666,
             "#ed7953"
            ],
            [
             0.7777777777777778,
             "#fb9f3a"
            ],
            [
             0.8888888888888888,
             "#fdca26"
            ],
            [
             1,
             "#f0f921"
            ]
           ]
          },
          "colorway": [
           "#636efa",
           "#EF553B",
           "#00cc96",
           "#ab63fa",
           "#FFA15A",
           "#19d3f3",
           "#FF6692",
           "#B6E880",
           "#FF97FF",
           "#FECB52"
          ],
          "font": {
           "color": "#2a3f5f"
          },
          "geo": {
           "bgcolor": "white",
           "lakecolor": "white",
           "landcolor": "#E5ECF6",
           "showlakes": true,
           "showland": true,
           "subunitcolor": "white"
          },
          "hoverlabel": {
           "align": "left"
          },
          "hovermode": "closest",
          "mapbox": {
           "style": "light"
          },
          "paper_bgcolor": "white",
          "plot_bgcolor": "#E5ECF6",
          "polar": {
           "angularaxis": {
            "gridcolor": "white",
            "linecolor": "white",
            "ticks": ""
           },
           "bgcolor": "#E5ECF6",
           "radialaxis": {
            "gridcolor": "white",
            "linecolor": "white",
            "ticks": ""
           }
          },
          "scene": {
           "xaxis": {
            "backgroundcolor": "#E5ECF6",
            "gridcolor": "white",
            "gridwidth": 2,
            "linecolor": "white",
            "showbackground": true,
            "ticks": "",
            "zerolinecolor": "white"
           },
           "yaxis": {
            "backgroundcolor": "#E5ECF6",
            "gridcolor": "white",
            "gridwidth": 2,
            "linecolor": "white",
            "showbackground": true,
            "ticks": "",
            "zerolinecolor": "white"
           },
           "zaxis": {
            "backgroundcolor": "#E5ECF6",
            "gridcolor": "white",
            "gridwidth": 2,
            "linecolor": "white",
            "showbackground": true,
            "ticks": "",
            "zerolinecolor": "white"
           }
          },
          "shapedefaults": {
           "line": {
            "color": "#2a3f5f"
           }
          },
          "ternary": {
           "aaxis": {
            "gridcolor": "white",
            "linecolor": "white",
            "ticks": ""
           },
           "baxis": {
            "gridcolor": "white",
            "linecolor": "white",
            "ticks": ""
           },
           "bgcolor": "#E5ECF6",
           "caxis": {
            "gridcolor": "white",
            "linecolor": "white",
            "ticks": ""
           }
          },
          "title": {
           "x": 0.05
          },
          "xaxis": {
           "automargin": true,
           "gridcolor": "white",
           "linecolor": "white",
           "ticks": "",
           "title": {
            "standoff": 15
           },
           "zerolinecolor": "white",
           "zerolinewidth": 2
          },
          "yaxis": {
           "automargin": true,
           "gridcolor": "white",
           "linecolor": "white",
           "ticks": "",
           "title": {
            "standoff": 15
           },
           "zerolinecolor": "white",
           "zerolinewidth": 2
          }
         }
        },
        "title": {
         "font": {
          "color": "#4D5663"
         },
         "text": "Number of category kinds in noteevents"
        },
        "xaxis": {
         "gridcolor": "#E1E5ED",
         "showgrid": true,
         "tickfont": {
          "color": "#4D5663"
         },
         "title": {
          "font": {
           "color": "#4D5663"
          },
          "text": ""
         },
         "zerolinecolor": "#E1E5ED"
        },
        "yaxis": {
         "gridcolor": "#E1E5ED",
         "showgrid": true,
         "tickfont": {
          "color": "#4D5663"
         },
         "title": {
          "font": {
           "color": "#4D5663"
          },
          "text": "Number of notes"
         },
         "zerolinecolor": "#E1E5ED"
        }
       }
      },
      "text/html": [
       "<div>\n",
       "        \n",
       "        \n",
       "            <div id=\"9cb99e55-d1c5-40da-bbdf-a29f3de95f2d\" class=\"plotly-graph-div\" style=\"height:525px; width:100%;\"></div>\n",
       "            <script type=\"text/javascript\">\n",
       "                require([\"plotly\"], function(Plotly) {\n",
       "                    window.PLOTLYENV=window.PLOTLYENV || {};\n",
       "                    window.PLOTLYENV.BASE_URL='https://plot.ly';\n",
       "                    \n",
       "                if (document.getElementById(\"9cb99e55-d1c5-40da-bbdf-a29f3de95f2d\")) {\n",
       "                    Plotly.newPlot(\n",
       "                        '9cb99e55-d1c5-40da-bbdf-a29f3de95f2d',\n",
       "                        [{\"marker\": {\"color\": \"rgba(255, 153, 51, 0.6)\", \"line\": {\"color\": \"rgba(255, 153, 51, 1.0)\", \"width\": 1}}, \"name\": \"CATEGORY\", \"orientation\": \"v\", \"text\": \"\", \"type\": \"bar\", \"x\": [\"Nursing\", \"Nursing/other\", \"Radiology\", \"Physician \", \"ECG\", \"Respiratory \", \"Discharge summary\", \"Echo\", \"General\", \"Nutrition\", \"Rehab Services\", \"Social Work\", \"Case Management \", \"Pharmacy\", \"Consult\"], \"y\": [13256, 12693, 11723, 10643, 4469, 2454, 1698, 949, 680, 638, 231, 142, 135, 15, 1]}],\n",
       "                        {\"legend\": {\"bgcolor\": \"#F5F6F9\", \"font\": {\"color\": \"#4D5663\"}}, \"paper_bgcolor\": \"#F5F6F9\", \"plot_bgcolor\": \"#F5F6F9\", \"template\": {\"data\": {\"bar\": [{\"error_x\": {\"color\": \"#2a3f5f\"}, \"error_y\": {\"color\": \"#2a3f5f\"}, \"marker\": {\"line\": {\"color\": \"#E5ECF6\", \"width\": 0.5}}, \"type\": \"bar\"}], \"barpolar\": [{\"marker\": {\"line\": {\"color\": \"#E5ECF6\", \"width\": 0.5}}, \"type\": \"barpolar\"}], \"carpet\": [{\"aaxis\": {\"endlinecolor\": \"#2a3f5f\", \"gridcolor\": \"white\", \"linecolor\": \"white\", \"minorgridcolor\": \"white\", \"startlinecolor\": \"#2a3f5f\"}, \"baxis\": {\"endlinecolor\": \"#2a3f5f\", \"gridcolor\": \"white\", \"linecolor\": \"white\", \"minorgridcolor\": \"white\", \"startlinecolor\": \"#2a3f5f\"}, \"type\": \"carpet\"}], \"choropleth\": [{\"colorbar\": {\"outlinewidth\": 0, \"ticks\": \"\"}, \"type\": \"choropleth\"}], \"contour\": [{\"colorbar\": {\"outlinewidth\": 0, \"ticks\": \"\"}, \"colorscale\": [[0.0, \"#0d0887\"], [0.1111111111111111, \"#46039f\"], [0.2222222222222222, \"#7201a8\"], [0.3333333333333333, \"#9c179e\"], [0.4444444444444444, \"#bd3786\"], [0.5555555555555556, \"#d8576b\"], [0.6666666666666666, \"#ed7953\"], [0.7777777777777778, \"#fb9f3a\"], [0.8888888888888888, \"#fdca26\"], [1.0, \"#f0f921\"]], \"type\": \"contour\"}], \"contourcarpet\": [{\"colorbar\": {\"outlinewidth\": 0, \"ticks\": \"\"}, \"type\": \"contourcarpet\"}], \"heatmap\": [{\"colorbar\": {\"outlinewidth\": 0, \"ticks\": \"\"}, \"colorscale\": [[0.0, \"#0d0887\"], [0.1111111111111111, \"#46039f\"], [0.2222222222222222, \"#7201a8\"], [0.3333333333333333, \"#9c179e\"], [0.4444444444444444, \"#bd3786\"], [0.5555555555555556, \"#d8576b\"], [0.6666666666666666, \"#ed7953\"], [0.7777777777777778, \"#fb9f3a\"], [0.8888888888888888, \"#fdca26\"], [1.0, \"#f0f921\"]], \"type\": \"heatmap\"}], \"heatmapgl\": [{\"colorbar\": {\"outlinewidth\": 0, \"ticks\": \"\"}, \"colorscale\": [[0.0, \"#0d0887\"], [0.1111111111111111, \"#46039f\"], [0.2222222222222222, \"#7201a8\"], [0.3333333333333333, \"#9c179e\"], [0.4444444444444444, \"#bd3786\"], [0.5555555555555556, \"#d8576b\"], [0.6666666666666666, \"#ed7953\"], [0.7777777777777778, \"#fb9f3a\"], [0.8888888888888888, \"#fdca26\"], [1.0, \"#f0f921\"]], \"type\": \"heatmapgl\"}], \"histogram\": [{\"marker\": {\"colorbar\": {\"outlinewidth\": 0, \"ticks\": \"\"}}, \"type\": \"histogram\"}], \"histogram2d\": [{\"colorbar\": {\"outlinewidth\": 0, \"ticks\": \"\"}, \"colorscale\": [[0.0, \"#0d0887\"], [0.1111111111111111, \"#46039f\"], [0.2222222222222222, \"#7201a8\"], [0.3333333333333333, \"#9c179e\"], [0.4444444444444444, \"#bd3786\"], [0.5555555555555556, \"#d8576b\"], [0.6666666666666666, \"#ed7953\"], [0.7777777777777778, \"#fb9f3a\"], [0.8888888888888888, \"#fdca26\"], [1.0, \"#f0f921\"]], \"type\": \"histogram2d\"}], \"histogram2dcontour\": [{\"colorbar\": {\"outlinewidth\": 0, \"ticks\": \"\"}, \"colorscale\": [[0.0, \"#0d0887\"], [0.1111111111111111, \"#46039f\"], [0.2222222222222222, \"#7201a8\"], [0.3333333333333333, \"#9c179e\"], [0.4444444444444444, \"#bd3786\"], [0.5555555555555556, \"#d8576b\"], [0.6666666666666666, \"#ed7953\"], [0.7777777777777778, \"#fb9f3a\"], [0.8888888888888888, \"#fdca26\"], [1.0, \"#f0f921\"]], \"type\": \"histogram2dcontour\"}], \"mesh3d\": [{\"colorbar\": {\"outlinewidth\": 0, \"ticks\": \"\"}, \"type\": \"mesh3d\"}], \"parcoords\": [{\"line\": {\"colorbar\": {\"outlinewidth\": 0, \"ticks\": \"\"}}, \"type\": \"parcoords\"}], \"pie\": [{\"automargin\": true, \"type\": \"pie\"}], \"scatter\": [{\"marker\": {\"colorbar\": {\"outlinewidth\": 0, \"ticks\": \"\"}}, \"type\": \"scatter\"}], \"scatter3d\": [{\"line\": {\"colorbar\": {\"outlinewidth\": 0, \"ticks\": \"\"}}, \"marker\": {\"colorbar\": {\"outlinewidth\": 0, \"ticks\": \"\"}}, \"type\": \"scatter3d\"}], \"scattercarpet\": [{\"marker\": {\"colorbar\": {\"outlinewidth\": 0, \"ticks\": \"\"}}, \"type\": \"scattercarpet\"}], \"scattergeo\": [{\"marker\": {\"colorbar\": {\"outlinewidth\": 0, \"ticks\": \"\"}}, \"type\": \"scattergeo\"}], \"scattergl\": [{\"marker\": {\"colorbar\": {\"outlinewidth\": 0, \"ticks\": \"\"}}, \"type\": \"scattergl\"}], \"scattermapbox\": [{\"marker\": {\"colorbar\": {\"outlinewidth\": 0, \"ticks\": \"\"}}, \"type\": \"scattermapbox\"}], \"scatterpolar\": [{\"marker\": {\"colorbar\": {\"outlinewidth\": 0, \"ticks\": \"\"}}, \"type\": \"scatterpolar\"}], \"scatterpolargl\": [{\"marker\": {\"colorbar\": {\"outlinewidth\": 0, \"ticks\": \"\"}}, \"type\": \"scatterpolargl\"}], \"scatterternary\": [{\"marker\": {\"colorbar\": {\"outlinewidth\": 0, \"ticks\": \"\"}}, \"type\": \"scatterternary\"}], \"surface\": [{\"colorbar\": {\"outlinewidth\": 0, \"ticks\": \"\"}, \"colorscale\": [[0.0, \"#0d0887\"], [0.1111111111111111, \"#46039f\"], [0.2222222222222222, \"#7201a8\"], [0.3333333333333333, \"#9c179e\"], [0.4444444444444444, \"#bd3786\"], [0.5555555555555556, \"#d8576b\"], [0.6666666666666666, \"#ed7953\"], [0.7777777777777778, \"#fb9f3a\"], [0.8888888888888888, \"#fdca26\"], [1.0, \"#f0f921\"]], \"type\": \"surface\"}], \"table\": [{\"cells\": {\"fill\": {\"color\": \"#EBF0F8\"}, \"line\": {\"color\": \"white\"}}, \"header\": {\"fill\": {\"color\": \"#C8D4E3\"}, \"line\": {\"color\": \"white\"}}, \"type\": \"table\"}]}, \"layout\": {\"annotationdefaults\": {\"arrowcolor\": \"#2a3f5f\", \"arrowhead\": 0, \"arrowwidth\": 1}, \"coloraxis\": {\"colorbar\": {\"outlinewidth\": 0, \"ticks\": \"\"}}, \"colorscale\": {\"diverging\": [[0, \"#8e0152\"], [0.1, \"#c51b7d\"], [0.2, \"#de77ae\"], [0.3, \"#f1b6da\"], [0.4, \"#fde0ef\"], [0.5, \"#f7f7f7\"], [0.6, \"#e6f5d0\"], [0.7, \"#b8e186\"], [0.8, \"#7fbc41\"], [0.9, \"#4d9221\"], [1, \"#276419\"]], \"sequential\": [[0.0, \"#0d0887\"], [0.1111111111111111, \"#46039f\"], [0.2222222222222222, \"#7201a8\"], [0.3333333333333333, \"#9c179e\"], [0.4444444444444444, \"#bd3786\"], [0.5555555555555556, \"#d8576b\"], [0.6666666666666666, \"#ed7953\"], [0.7777777777777778, \"#fb9f3a\"], [0.8888888888888888, \"#fdca26\"], [1.0, \"#f0f921\"]], \"sequentialminus\": [[0.0, \"#0d0887\"], [0.1111111111111111, \"#46039f\"], [0.2222222222222222, \"#7201a8\"], [0.3333333333333333, \"#9c179e\"], [0.4444444444444444, \"#bd3786\"], [0.5555555555555556, \"#d8576b\"], [0.6666666666666666, \"#ed7953\"], [0.7777777777777778, \"#fb9f3a\"], [0.8888888888888888, \"#fdca26\"], [1.0, \"#f0f921\"]]}, \"colorway\": [\"#636efa\", \"#EF553B\", \"#00cc96\", \"#ab63fa\", \"#FFA15A\", \"#19d3f3\", \"#FF6692\", \"#B6E880\", \"#FF97FF\", \"#FECB52\"], \"font\": {\"color\": \"#2a3f5f\"}, \"geo\": {\"bgcolor\": \"white\", \"lakecolor\": \"white\", \"landcolor\": \"#E5ECF6\", \"showlakes\": true, \"showland\": true, \"subunitcolor\": \"white\"}, \"hoverlabel\": {\"align\": \"left\"}, \"hovermode\": \"closest\", \"mapbox\": {\"style\": \"light\"}, \"paper_bgcolor\": \"white\", \"plot_bgcolor\": \"#E5ECF6\", \"polar\": {\"angularaxis\": {\"gridcolor\": \"white\", \"linecolor\": \"white\", \"ticks\": \"\"}, \"bgcolor\": \"#E5ECF6\", \"radialaxis\": {\"gridcolor\": \"white\", \"linecolor\": \"white\", \"ticks\": \"\"}}, \"scene\": {\"xaxis\": {\"backgroundcolor\": \"#E5ECF6\", \"gridcolor\": \"white\", \"gridwidth\": 2, \"linecolor\": \"white\", \"showbackground\": true, \"ticks\": \"\", \"zerolinecolor\": \"white\"}, \"yaxis\": {\"backgroundcolor\": \"#E5ECF6\", \"gridcolor\": \"white\", \"gridwidth\": 2, \"linecolor\": \"white\", \"showbackground\": true, \"ticks\": \"\", \"zerolinecolor\": \"white\"}, \"zaxis\": {\"backgroundcolor\": \"#E5ECF6\", \"gridcolor\": \"white\", \"gridwidth\": 2, \"linecolor\": \"white\", \"showbackground\": true, \"ticks\": \"\", \"zerolinecolor\": \"white\"}}, \"shapedefaults\": {\"line\": {\"color\": \"#2a3f5f\"}}, \"ternary\": {\"aaxis\": {\"gridcolor\": \"white\", \"linecolor\": \"white\", \"ticks\": \"\"}, \"baxis\": {\"gridcolor\": \"white\", \"linecolor\": \"white\", \"ticks\": \"\"}, \"bgcolor\": \"#E5ECF6\", \"caxis\": {\"gridcolor\": \"white\", \"linecolor\": \"white\", \"ticks\": \"\"}}, \"title\": {\"x\": 0.05}, \"xaxis\": {\"automargin\": true, \"gridcolor\": \"white\", \"linecolor\": \"white\", \"ticks\": \"\", \"title\": {\"standoff\": 15}, \"zerolinecolor\": \"white\", \"zerolinewidth\": 2}, \"yaxis\": {\"automargin\": true, \"gridcolor\": \"white\", \"linecolor\": \"white\", \"ticks\": \"\", \"title\": {\"standoff\": 15}, \"zerolinecolor\": \"white\", \"zerolinewidth\": 2}}}, \"title\": {\"font\": {\"color\": \"#4D5663\"}, \"text\": \"Number of category kinds in noteevents\"}, \"xaxis\": {\"gridcolor\": \"#E1E5ED\", \"showgrid\": true, \"tickfont\": {\"color\": \"#4D5663\"}, \"title\": {\"font\": {\"color\": \"#4D5663\"}, \"text\": \"\"}, \"zerolinecolor\": \"#E1E5ED\"}, \"yaxis\": {\"gridcolor\": \"#E1E5ED\", \"showgrid\": true, \"tickfont\": {\"color\": \"#4D5663\"}, \"title\": {\"font\": {\"color\": \"#4D5663\"}, \"text\": \"Number of notes\"}, \"zerolinecolor\": \"#E1E5ED\"}},\n",
       "                        {\"showLink\": true, \"linkText\": \"Export to plot.ly\", \"plotlyServerURL\": \"https://plot.ly\", \"responsive\": true}\n",
       "                    ).then(function(){\n",
       "                            \n",
       "var gd = document.getElementById('9cb99e55-d1c5-40da-bbdf-a29f3de95f2d');\n",
       "var x = new MutationObserver(function (mutations, observer) {{\n",
       "        var display = window.getComputedStyle(gd).display;\n",
       "        if (!display || display === 'none') {{\n",
       "            console.log([gd, 'removed!']);\n",
       "            Plotly.purge(gd);\n",
       "            observer.disconnect();\n",
       "        }}\n",
       "}});\n",
       "\n",
       "// Listen for the removal of the full notebook cells\n",
       "var notebookContainer = gd.closest('#notebook-container');\n",
       "if (notebookContainer) {{\n",
       "    x.observe(notebookContainer, {childList: true});\n",
       "}}\n",
       "\n",
       "// Listen for the clearing of the current output cell\n",
       "var outputEl = gd.closest('.output');\n",
       "if (outputEl) {{\n",
       "    x.observe(outputEl, {childList: true});\n",
       "}}\n",
       "\n",
       "                        })\n",
       "                };\n",
       "                });\n",
       "            </script>\n",
       "        </div>"
      ]
     },
     "metadata": {},
     "output_type": "display_data"
    }
   ],
   "source": [
    "pneumonia_df['CATEGORY'].value_counts().sort_values(ascending=False).iplot(kind='bar', yTitle='Number of notes', \n",
    "                                                                title='Number of category kinds in noteevents')"
   ]
  },
  {
   "cell_type": "code",
   "execution_count": 15,
   "metadata": {},
   "outputs": [],
   "source": [
    "#pneumonia_no_disch_df = pneumonia_df.loc[pneumonia_df[\"CATEGORY\"] != 'Discharge summary', ['ROW_ID_x', 'SUBJECT_ID_x', 'HADM_ID', 'CHARTDATE', 'CHARTTIME', 'STORETIME', 'CATEGORY', 'DESCRIPTION', 'CGID', 'ISERROR', 'TEXT', 'ADMITTIME', 'DISCHTIME', 'DEATHTIME', 'ADMISSION_TYPE', 'DIAGNOSIS', 'HAS_CHARTEVENTS_DATA']]\n",
    "pneumonia_no_disch_df = pneumonia_df.loc[pneumonia_df[\"CATEGORY\"] != 'Discharge summary', ['ROW_ID_x','SUBJECT_ID_x','CHARTDATE','STORETIME','CATEGORY','DESCRIPTION','TEXT', 'DEATHTIME']]"
   ]
  },
  {
   "cell_type": "code",
   "execution_count": 16,
   "metadata": {
    "scrolled": false
   },
   "outputs": [
    {
     "data": {
      "application/vnd.plotly.v1+json": {
       "config": {
        "linkText": "Export to plot.ly",
        "plotlyServerURL": "https://plot.ly",
        "showLink": true
       },
       "data": [
        {
         "marker": {
          "color": "rgba(255, 153, 51, 0.6)",
          "line": {
           "color": "rgba(255, 153, 51, 1.0)",
           "width": 1
          }
         },
         "name": "CATEGORY",
         "orientation": "v",
         "text": "",
         "type": "bar",
         "x": [
          "Nursing",
          "Nursing/other",
          "Radiology",
          "Physician ",
          "ECG",
          "Respiratory ",
          "Echo",
          "General",
          "Nutrition",
          "Rehab Services",
          "Social Work",
          "Case Management ",
          "Pharmacy",
          "Consult"
         ],
         "y": [
          13256,
          12693,
          11723,
          10643,
          4469,
          2454,
          949,
          680,
          638,
          231,
          142,
          135,
          15,
          1
         ]
        }
       ],
       "layout": {
        "legend": {
         "bgcolor": "#F5F6F9",
         "font": {
          "color": "#4D5663"
         }
        },
        "paper_bgcolor": "#F5F6F9",
        "plot_bgcolor": "#F5F6F9",
        "template": {
         "data": {
          "bar": [
           {
            "error_x": {
             "color": "#2a3f5f"
            },
            "error_y": {
             "color": "#2a3f5f"
            },
            "marker": {
             "line": {
              "color": "#E5ECF6",
              "width": 0.5
             }
            },
            "type": "bar"
           }
          ],
          "barpolar": [
           {
            "marker": {
             "line": {
              "color": "#E5ECF6",
              "width": 0.5
             }
            },
            "type": "barpolar"
           }
          ],
          "carpet": [
           {
            "aaxis": {
             "endlinecolor": "#2a3f5f",
             "gridcolor": "white",
             "linecolor": "white",
             "minorgridcolor": "white",
             "startlinecolor": "#2a3f5f"
            },
            "baxis": {
             "endlinecolor": "#2a3f5f",
             "gridcolor": "white",
             "linecolor": "white",
             "minorgridcolor": "white",
             "startlinecolor": "#2a3f5f"
            },
            "type": "carpet"
           }
          ],
          "choropleth": [
           {
            "colorbar": {
             "outlinewidth": 0,
             "ticks": ""
            },
            "type": "choropleth"
           }
          ],
          "contour": [
           {
            "colorbar": {
             "outlinewidth": 0,
             "ticks": ""
            },
            "colorscale": [
             [
              0,
              "#0d0887"
             ],
             [
              0.1111111111111111,
              "#46039f"
             ],
             [
              0.2222222222222222,
              "#7201a8"
             ],
             [
              0.3333333333333333,
              "#9c179e"
             ],
             [
              0.4444444444444444,
              "#bd3786"
             ],
             [
              0.5555555555555556,
              "#d8576b"
             ],
             [
              0.6666666666666666,
              "#ed7953"
             ],
             [
              0.7777777777777778,
              "#fb9f3a"
             ],
             [
              0.8888888888888888,
              "#fdca26"
             ],
             [
              1,
              "#f0f921"
             ]
            ],
            "type": "contour"
           }
          ],
          "contourcarpet": [
           {
            "colorbar": {
             "outlinewidth": 0,
             "ticks": ""
            },
            "type": "contourcarpet"
           }
          ],
          "heatmap": [
           {
            "colorbar": {
             "outlinewidth": 0,
             "ticks": ""
            },
            "colorscale": [
             [
              0,
              "#0d0887"
             ],
             [
              0.1111111111111111,
              "#46039f"
             ],
             [
              0.2222222222222222,
              "#7201a8"
             ],
             [
              0.3333333333333333,
              "#9c179e"
             ],
             [
              0.4444444444444444,
              "#bd3786"
             ],
             [
              0.5555555555555556,
              "#d8576b"
             ],
             [
              0.6666666666666666,
              "#ed7953"
             ],
             [
              0.7777777777777778,
              "#fb9f3a"
             ],
             [
              0.8888888888888888,
              "#fdca26"
             ],
             [
              1,
              "#f0f921"
             ]
            ],
            "type": "heatmap"
           }
          ],
          "heatmapgl": [
           {
            "colorbar": {
             "outlinewidth": 0,
             "ticks": ""
            },
            "colorscale": [
             [
              0,
              "#0d0887"
             ],
             [
              0.1111111111111111,
              "#46039f"
             ],
             [
              0.2222222222222222,
              "#7201a8"
             ],
             [
              0.3333333333333333,
              "#9c179e"
             ],
             [
              0.4444444444444444,
              "#bd3786"
             ],
             [
              0.5555555555555556,
              "#d8576b"
             ],
             [
              0.6666666666666666,
              "#ed7953"
             ],
             [
              0.7777777777777778,
              "#fb9f3a"
             ],
             [
              0.8888888888888888,
              "#fdca26"
             ],
             [
              1,
              "#f0f921"
             ]
            ],
            "type": "heatmapgl"
           }
          ],
          "histogram": [
           {
            "marker": {
             "colorbar": {
              "outlinewidth": 0,
              "ticks": ""
             }
            },
            "type": "histogram"
           }
          ],
          "histogram2d": [
           {
            "colorbar": {
             "outlinewidth": 0,
             "ticks": ""
            },
            "colorscale": [
             [
              0,
              "#0d0887"
             ],
             [
              0.1111111111111111,
              "#46039f"
             ],
             [
              0.2222222222222222,
              "#7201a8"
             ],
             [
              0.3333333333333333,
              "#9c179e"
             ],
             [
              0.4444444444444444,
              "#bd3786"
             ],
             [
              0.5555555555555556,
              "#d8576b"
             ],
             [
              0.6666666666666666,
              "#ed7953"
             ],
             [
              0.7777777777777778,
              "#fb9f3a"
             ],
             [
              0.8888888888888888,
              "#fdca26"
             ],
             [
              1,
              "#f0f921"
             ]
            ],
            "type": "histogram2d"
           }
          ],
          "histogram2dcontour": [
           {
            "colorbar": {
             "outlinewidth": 0,
             "ticks": ""
            },
            "colorscale": [
             [
              0,
              "#0d0887"
             ],
             [
              0.1111111111111111,
              "#46039f"
             ],
             [
              0.2222222222222222,
              "#7201a8"
             ],
             [
              0.3333333333333333,
              "#9c179e"
             ],
             [
              0.4444444444444444,
              "#bd3786"
             ],
             [
              0.5555555555555556,
              "#d8576b"
             ],
             [
              0.6666666666666666,
              "#ed7953"
             ],
             [
              0.7777777777777778,
              "#fb9f3a"
             ],
             [
              0.8888888888888888,
              "#fdca26"
             ],
             [
              1,
              "#f0f921"
             ]
            ],
            "type": "histogram2dcontour"
           }
          ],
          "mesh3d": [
           {
            "colorbar": {
             "outlinewidth": 0,
             "ticks": ""
            },
            "type": "mesh3d"
           }
          ],
          "parcoords": [
           {
            "line": {
             "colorbar": {
              "outlinewidth": 0,
              "ticks": ""
             }
            },
            "type": "parcoords"
           }
          ],
          "pie": [
           {
            "automargin": true,
            "type": "pie"
           }
          ],
          "scatter": [
           {
            "marker": {
             "colorbar": {
              "outlinewidth": 0,
              "ticks": ""
             }
            },
            "type": "scatter"
           }
          ],
          "scatter3d": [
           {
            "line": {
             "colorbar": {
              "outlinewidth": 0,
              "ticks": ""
             }
            },
            "marker": {
             "colorbar": {
              "outlinewidth": 0,
              "ticks": ""
             }
            },
            "type": "scatter3d"
           }
          ],
          "scattercarpet": [
           {
            "marker": {
             "colorbar": {
              "outlinewidth": 0,
              "ticks": ""
             }
            },
            "type": "scattercarpet"
           }
          ],
          "scattergeo": [
           {
            "marker": {
             "colorbar": {
              "outlinewidth": 0,
              "ticks": ""
             }
            },
            "type": "scattergeo"
           }
          ],
          "scattergl": [
           {
            "marker": {
             "colorbar": {
              "outlinewidth": 0,
              "ticks": ""
             }
            },
            "type": "scattergl"
           }
          ],
          "scattermapbox": [
           {
            "marker": {
             "colorbar": {
              "outlinewidth": 0,
              "ticks": ""
             }
            },
            "type": "scattermapbox"
           }
          ],
          "scatterpolar": [
           {
            "marker": {
             "colorbar": {
              "outlinewidth": 0,
              "ticks": ""
             }
            },
            "type": "scatterpolar"
           }
          ],
          "scatterpolargl": [
           {
            "marker": {
             "colorbar": {
              "outlinewidth": 0,
              "ticks": ""
             }
            },
            "type": "scatterpolargl"
           }
          ],
          "scatterternary": [
           {
            "marker": {
             "colorbar": {
              "outlinewidth": 0,
              "ticks": ""
             }
            },
            "type": "scatterternary"
           }
          ],
          "surface": [
           {
            "colorbar": {
             "outlinewidth": 0,
             "ticks": ""
            },
            "colorscale": [
             [
              0,
              "#0d0887"
             ],
             [
              0.1111111111111111,
              "#46039f"
             ],
             [
              0.2222222222222222,
              "#7201a8"
             ],
             [
              0.3333333333333333,
              "#9c179e"
             ],
             [
              0.4444444444444444,
              "#bd3786"
             ],
             [
              0.5555555555555556,
              "#d8576b"
             ],
             [
              0.6666666666666666,
              "#ed7953"
             ],
             [
              0.7777777777777778,
              "#fb9f3a"
             ],
             [
              0.8888888888888888,
              "#fdca26"
             ],
             [
              1,
              "#f0f921"
             ]
            ],
            "type": "surface"
           }
          ],
          "table": [
           {
            "cells": {
             "fill": {
              "color": "#EBF0F8"
             },
             "line": {
              "color": "white"
             }
            },
            "header": {
             "fill": {
              "color": "#C8D4E3"
             },
             "line": {
              "color": "white"
             }
            },
            "type": "table"
           }
          ]
         },
         "layout": {
          "annotationdefaults": {
           "arrowcolor": "#2a3f5f",
           "arrowhead": 0,
           "arrowwidth": 1
          },
          "coloraxis": {
           "colorbar": {
            "outlinewidth": 0,
            "ticks": ""
           }
          },
          "colorscale": {
           "diverging": [
            [
             0,
             "#8e0152"
            ],
            [
             0.1,
             "#c51b7d"
            ],
            [
             0.2,
             "#de77ae"
            ],
            [
             0.3,
             "#f1b6da"
            ],
            [
             0.4,
             "#fde0ef"
            ],
            [
             0.5,
             "#f7f7f7"
            ],
            [
             0.6,
             "#e6f5d0"
            ],
            [
             0.7,
             "#b8e186"
            ],
            [
             0.8,
             "#7fbc41"
            ],
            [
             0.9,
             "#4d9221"
            ],
            [
             1,
             "#276419"
            ]
           ],
           "sequential": [
            [
             0,
             "#0d0887"
            ],
            [
             0.1111111111111111,
             "#46039f"
            ],
            [
             0.2222222222222222,
             "#7201a8"
            ],
            [
             0.3333333333333333,
             "#9c179e"
            ],
            [
             0.4444444444444444,
             "#bd3786"
            ],
            [
             0.5555555555555556,
             "#d8576b"
            ],
            [
             0.6666666666666666,
             "#ed7953"
            ],
            [
             0.7777777777777778,
             "#fb9f3a"
            ],
            [
             0.8888888888888888,
             "#fdca26"
            ],
            [
             1,
             "#f0f921"
            ]
           ],
           "sequentialminus": [
            [
             0,
             "#0d0887"
            ],
            [
             0.1111111111111111,
             "#46039f"
            ],
            [
             0.2222222222222222,
             "#7201a8"
            ],
            [
             0.3333333333333333,
             "#9c179e"
            ],
            [
             0.4444444444444444,
             "#bd3786"
            ],
            [
             0.5555555555555556,
             "#d8576b"
            ],
            [
             0.6666666666666666,
             "#ed7953"
            ],
            [
             0.7777777777777778,
             "#fb9f3a"
            ],
            [
             0.8888888888888888,
             "#fdca26"
            ],
            [
             1,
             "#f0f921"
            ]
           ]
          },
          "colorway": [
           "#636efa",
           "#EF553B",
           "#00cc96",
           "#ab63fa",
           "#FFA15A",
           "#19d3f3",
           "#FF6692",
           "#B6E880",
           "#FF97FF",
           "#FECB52"
          ],
          "font": {
           "color": "#2a3f5f"
          },
          "geo": {
           "bgcolor": "white",
           "lakecolor": "white",
           "landcolor": "#E5ECF6",
           "showlakes": true,
           "showland": true,
           "subunitcolor": "white"
          },
          "hoverlabel": {
           "align": "left"
          },
          "hovermode": "closest",
          "mapbox": {
           "style": "light"
          },
          "paper_bgcolor": "white",
          "plot_bgcolor": "#E5ECF6",
          "polar": {
           "angularaxis": {
            "gridcolor": "white",
            "linecolor": "white",
            "ticks": ""
           },
           "bgcolor": "#E5ECF6",
           "radialaxis": {
            "gridcolor": "white",
            "linecolor": "white",
            "ticks": ""
           }
          },
          "scene": {
           "xaxis": {
            "backgroundcolor": "#E5ECF6",
            "gridcolor": "white",
            "gridwidth": 2,
            "linecolor": "white",
            "showbackground": true,
            "ticks": "",
            "zerolinecolor": "white"
           },
           "yaxis": {
            "backgroundcolor": "#E5ECF6",
            "gridcolor": "white",
            "gridwidth": 2,
            "linecolor": "white",
            "showbackground": true,
            "ticks": "",
            "zerolinecolor": "white"
           },
           "zaxis": {
            "backgroundcolor": "#E5ECF6",
            "gridcolor": "white",
            "gridwidth": 2,
            "linecolor": "white",
            "showbackground": true,
            "ticks": "",
            "zerolinecolor": "white"
           }
          },
          "shapedefaults": {
           "line": {
            "color": "#2a3f5f"
           }
          },
          "ternary": {
           "aaxis": {
            "gridcolor": "white",
            "linecolor": "white",
            "ticks": ""
           },
           "baxis": {
            "gridcolor": "white",
            "linecolor": "white",
            "ticks": ""
           },
           "bgcolor": "#E5ECF6",
           "caxis": {
            "gridcolor": "white",
            "linecolor": "white",
            "ticks": ""
           }
          },
          "title": {
           "x": 0.05
          },
          "xaxis": {
           "automargin": true,
           "gridcolor": "white",
           "linecolor": "white",
           "ticks": "",
           "title": {
            "standoff": 15
           },
           "zerolinecolor": "white",
           "zerolinewidth": 2
          },
          "yaxis": {
           "automargin": true,
           "gridcolor": "white",
           "linecolor": "white",
           "ticks": "",
           "title": {
            "standoff": 15
           },
           "zerolinecolor": "white",
           "zerolinewidth": 2
          }
         }
        },
        "title": {
         "font": {
          "color": "#4D5663"
         },
         "text": "Number of category kinds in noteevents"
        },
        "xaxis": {
         "gridcolor": "#E1E5ED",
         "showgrid": true,
         "tickfont": {
          "color": "#4D5663"
         },
         "title": {
          "font": {
           "color": "#4D5663"
          },
          "text": ""
         },
         "zerolinecolor": "#E1E5ED"
        },
        "yaxis": {
         "gridcolor": "#E1E5ED",
         "showgrid": true,
         "tickfont": {
          "color": "#4D5663"
         },
         "title": {
          "font": {
           "color": "#4D5663"
          },
          "text": "Number of notes"
         },
         "zerolinecolor": "#E1E5ED"
        }
       }
      },
      "text/html": [
       "<div>\n",
       "        \n",
       "        \n",
       "            <div id=\"d6d34dbd-d0f7-4b13-b608-f17ecdc55c14\" class=\"plotly-graph-div\" style=\"height:525px; width:100%;\"></div>\n",
       "            <script type=\"text/javascript\">\n",
       "                require([\"plotly\"], function(Plotly) {\n",
       "                    window.PLOTLYENV=window.PLOTLYENV || {};\n",
       "                    window.PLOTLYENV.BASE_URL='https://plot.ly';\n",
       "                    \n",
       "                if (document.getElementById(\"d6d34dbd-d0f7-4b13-b608-f17ecdc55c14\")) {\n",
       "                    Plotly.newPlot(\n",
       "                        'd6d34dbd-d0f7-4b13-b608-f17ecdc55c14',\n",
       "                        [{\"marker\": {\"color\": \"rgba(255, 153, 51, 0.6)\", \"line\": {\"color\": \"rgba(255, 153, 51, 1.0)\", \"width\": 1}}, \"name\": \"CATEGORY\", \"orientation\": \"v\", \"text\": \"\", \"type\": \"bar\", \"x\": [\"Nursing\", \"Nursing/other\", \"Radiology\", \"Physician \", \"ECG\", \"Respiratory \", \"Echo\", \"General\", \"Nutrition\", \"Rehab Services\", \"Social Work\", \"Case Management \", \"Pharmacy\", \"Consult\"], \"y\": [13256, 12693, 11723, 10643, 4469, 2454, 949, 680, 638, 231, 142, 135, 15, 1]}],\n",
       "                        {\"legend\": {\"bgcolor\": \"#F5F6F9\", \"font\": {\"color\": \"#4D5663\"}}, \"paper_bgcolor\": \"#F5F6F9\", \"plot_bgcolor\": \"#F5F6F9\", \"template\": {\"data\": {\"bar\": [{\"error_x\": {\"color\": \"#2a3f5f\"}, \"error_y\": {\"color\": \"#2a3f5f\"}, \"marker\": {\"line\": {\"color\": \"#E5ECF6\", \"width\": 0.5}}, \"type\": \"bar\"}], \"barpolar\": [{\"marker\": {\"line\": {\"color\": \"#E5ECF6\", \"width\": 0.5}}, \"type\": \"barpolar\"}], \"carpet\": [{\"aaxis\": {\"endlinecolor\": \"#2a3f5f\", \"gridcolor\": \"white\", \"linecolor\": \"white\", \"minorgridcolor\": \"white\", \"startlinecolor\": \"#2a3f5f\"}, \"baxis\": {\"endlinecolor\": \"#2a3f5f\", \"gridcolor\": \"white\", \"linecolor\": \"white\", \"minorgridcolor\": \"white\", \"startlinecolor\": \"#2a3f5f\"}, \"type\": \"carpet\"}], \"choropleth\": [{\"colorbar\": {\"outlinewidth\": 0, \"ticks\": \"\"}, \"type\": \"choropleth\"}], \"contour\": [{\"colorbar\": {\"outlinewidth\": 0, \"ticks\": \"\"}, \"colorscale\": [[0.0, \"#0d0887\"], [0.1111111111111111, \"#46039f\"], [0.2222222222222222, \"#7201a8\"], [0.3333333333333333, \"#9c179e\"], [0.4444444444444444, \"#bd3786\"], [0.5555555555555556, \"#d8576b\"], [0.6666666666666666, \"#ed7953\"], [0.7777777777777778, \"#fb9f3a\"], [0.8888888888888888, \"#fdca26\"], [1.0, \"#f0f921\"]], \"type\": \"contour\"}], \"contourcarpet\": [{\"colorbar\": {\"outlinewidth\": 0, \"ticks\": \"\"}, \"type\": \"contourcarpet\"}], \"heatmap\": [{\"colorbar\": {\"outlinewidth\": 0, \"ticks\": \"\"}, \"colorscale\": [[0.0, \"#0d0887\"], [0.1111111111111111, \"#46039f\"], [0.2222222222222222, \"#7201a8\"], [0.3333333333333333, \"#9c179e\"], [0.4444444444444444, \"#bd3786\"], [0.5555555555555556, \"#d8576b\"], [0.6666666666666666, \"#ed7953\"], [0.7777777777777778, \"#fb9f3a\"], [0.8888888888888888, \"#fdca26\"], [1.0, \"#f0f921\"]], \"type\": \"heatmap\"}], \"heatmapgl\": [{\"colorbar\": {\"outlinewidth\": 0, \"ticks\": \"\"}, \"colorscale\": [[0.0, \"#0d0887\"], [0.1111111111111111, \"#46039f\"], [0.2222222222222222, \"#7201a8\"], [0.3333333333333333, \"#9c179e\"], [0.4444444444444444, \"#bd3786\"], [0.5555555555555556, \"#d8576b\"], [0.6666666666666666, \"#ed7953\"], [0.7777777777777778, \"#fb9f3a\"], [0.8888888888888888, \"#fdca26\"], [1.0, \"#f0f921\"]], \"type\": \"heatmapgl\"}], \"histogram\": [{\"marker\": {\"colorbar\": {\"outlinewidth\": 0, \"ticks\": \"\"}}, \"type\": \"histogram\"}], \"histogram2d\": [{\"colorbar\": {\"outlinewidth\": 0, \"ticks\": \"\"}, \"colorscale\": [[0.0, \"#0d0887\"], [0.1111111111111111, \"#46039f\"], [0.2222222222222222, \"#7201a8\"], [0.3333333333333333, \"#9c179e\"], [0.4444444444444444, \"#bd3786\"], [0.5555555555555556, \"#d8576b\"], [0.6666666666666666, \"#ed7953\"], [0.7777777777777778, \"#fb9f3a\"], [0.8888888888888888, \"#fdca26\"], [1.0, \"#f0f921\"]], \"type\": \"histogram2d\"}], \"histogram2dcontour\": [{\"colorbar\": {\"outlinewidth\": 0, \"ticks\": \"\"}, \"colorscale\": [[0.0, \"#0d0887\"], [0.1111111111111111, \"#46039f\"], [0.2222222222222222, \"#7201a8\"], [0.3333333333333333, \"#9c179e\"], [0.4444444444444444, \"#bd3786\"], [0.5555555555555556, \"#d8576b\"], [0.6666666666666666, \"#ed7953\"], [0.7777777777777778, \"#fb9f3a\"], [0.8888888888888888, \"#fdca26\"], [1.0, \"#f0f921\"]], \"type\": \"histogram2dcontour\"}], \"mesh3d\": [{\"colorbar\": {\"outlinewidth\": 0, \"ticks\": \"\"}, \"type\": \"mesh3d\"}], \"parcoords\": [{\"line\": {\"colorbar\": {\"outlinewidth\": 0, \"ticks\": \"\"}}, \"type\": \"parcoords\"}], \"pie\": [{\"automargin\": true, \"type\": \"pie\"}], \"scatter\": [{\"marker\": {\"colorbar\": {\"outlinewidth\": 0, \"ticks\": \"\"}}, \"type\": \"scatter\"}], \"scatter3d\": [{\"line\": {\"colorbar\": {\"outlinewidth\": 0, \"ticks\": \"\"}}, \"marker\": {\"colorbar\": {\"outlinewidth\": 0, \"ticks\": \"\"}}, \"type\": \"scatter3d\"}], \"scattercarpet\": [{\"marker\": {\"colorbar\": {\"outlinewidth\": 0, \"ticks\": \"\"}}, \"type\": \"scattercarpet\"}], \"scattergeo\": [{\"marker\": {\"colorbar\": {\"outlinewidth\": 0, \"ticks\": \"\"}}, \"type\": \"scattergeo\"}], \"scattergl\": [{\"marker\": {\"colorbar\": {\"outlinewidth\": 0, \"ticks\": \"\"}}, \"type\": \"scattergl\"}], \"scattermapbox\": [{\"marker\": {\"colorbar\": {\"outlinewidth\": 0, \"ticks\": \"\"}}, \"type\": \"scattermapbox\"}], \"scatterpolar\": [{\"marker\": {\"colorbar\": {\"outlinewidth\": 0, \"ticks\": \"\"}}, \"type\": \"scatterpolar\"}], \"scatterpolargl\": [{\"marker\": {\"colorbar\": {\"outlinewidth\": 0, \"ticks\": \"\"}}, \"type\": \"scatterpolargl\"}], \"scatterternary\": [{\"marker\": {\"colorbar\": {\"outlinewidth\": 0, \"ticks\": \"\"}}, \"type\": \"scatterternary\"}], \"surface\": [{\"colorbar\": {\"outlinewidth\": 0, \"ticks\": \"\"}, \"colorscale\": [[0.0, \"#0d0887\"], [0.1111111111111111, \"#46039f\"], [0.2222222222222222, \"#7201a8\"], [0.3333333333333333, \"#9c179e\"], [0.4444444444444444, \"#bd3786\"], [0.5555555555555556, \"#d8576b\"], [0.6666666666666666, \"#ed7953\"], [0.7777777777777778, \"#fb9f3a\"], [0.8888888888888888, \"#fdca26\"], [1.0, \"#f0f921\"]], \"type\": \"surface\"}], \"table\": [{\"cells\": {\"fill\": {\"color\": \"#EBF0F8\"}, \"line\": {\"color\": \"white\"}}, \"header\": {\"fill\": {\"color\": \"#C8D4E3\"}, \"line\": {\"color\": \"white\"}}, \"type\": \"table\"}]}, \"layout\": {\"annotationdefaults\": {\"arrowcolor\": \"#2a3f5f\", \"arrowhead\": 0, \"arrowwidth\": 1}, \"coloraxis\": {\"colorbar\": {\"outlinewidth\": 0, \"ticks\": \"\"}}, \"colorscale\": {\"diverging\": [[0, \"#8e0152\"], [0.1, \"#c51b7d\"], [0.2, \"#de77ae\"], [0.3, \"#f1b6da\"], [0.4, \"#fde0ef\"], [0.5, \"#f7f7f7\"], [0.6, \"#e6f5d0\"], [0.7, \"#b8e186\"], [0.8, \"#7fbc41\"], [0.9, \"#4d9221\"], [1, \"#276419\"]], \"sequential\": [[0.0, \"#0d0887\"], [0.1111111111111111, \"#46039f\"], [0.2222222222222222, \"#7201a8\"], [0.3333333333333333, \"#9c179e\"], [0.4444444444444444, \"#bd3786\"], [0.5555555555555556, \"#d8576b\"], [0.6666666666666666, \"#ed7953\"], [0.7777777777777778, \"#fb9f3a\"], [0.8888888888888888, \"#fdca26\"], [1.0, \"#f0f921\"]], \"sequentialminus\": [[0.0, \"#0d0887\"], [0.1111111111111111, \"#46039f\"], [0.2222222222222222, \"#7201a8\"], [0.3333333333333333, \"#9c179e\"], [0.4444444444444444, \"#bd3786\"], [0.5555555555555556, \"#d8576b\"], [0.6666666666666666, \"#ed7953\"], [0.7777777777777778, \"#fb9f3a\"], [0.8888888888888888, \"#fdca26\"], [1.0, \"#f0f921\"]]}, \"colorway\": [\"#636efa\", \"#EF553B\", \"#00cc96\", \"#ab63fa\", \"#FFA15A\", \"#19d3f3\", \"#FF6692\", \"#B6E880\", \"#FF97FF\", \"#FECB52\"], \"font\": {\"color\": \"#2a3f5f\"}, \"geo\": {\"bgcolor\": \"white\", \"lakecolor\": \"white\", \"landcolor\": \"#E5ECF6\", \"showlakes\": true, \"showland\": true, \"subunitcolor\": \"white\"}, \"hoverlabel\": {\"align\": \"left\"}, \"hovermode\": \"closest\", \"mapbox\": {\"style\": \"light\"}, \"paper_bgcolor\": \"white\", \"plot_bgcolor\": \"#E5ECF6\", \"polar\": {\"angularaxis\": {\"gridcolor\": \"white\", \"linecolor\": \"white\", \"ticks\": \"\"}, \"bgcolor\": \"#E5ECF6\", \"radialaxis\": {\"gridcolor\": \"white\", \"linecolor\": \"white\", \"ticks\": \"\"}}, \"scene\": {\"xaxis\": {\"backgroundcolor\": \"#E5ECF6\", \"gridcolor\": \"white\", \"gridwidth\": 2, \"linecolor\": \"white\", \"showbackground\": true, \"ticks\": \"\", \"zerolinecolor\": \"white\"}, \"yaxis\": {\"backgroundcolor\": \"#E5ECF6\", \"gridcolor\": \"white\", \"gridwidth\": 2, \"linecolor\": \"white\", \"showbackground\": true, \"ticks\": \"\", \"zerolinecolor\": \"white\"}, \"zaxis\": {\"backgroundcolor\": \"#E5ECF6\", \"gridcolor\": \"white\", \"gridwidth\": 2, \"linecolor\": \"white\", \"showbackground\": true, \"ticks\": \"\", \"zerolinecolor\": \"white\"}}, \"shapedefaults\": {\"line\": {\"color\": \"#2a3f5f\"}}, \"ternary\": {\"aaxis\": {\"gridcolor\": \"white\", \"linecolor\": \"white\", \"ticks\": \"\"}, \"baxis\": {\"gridcolor\": \"white\", \"linecolor\": \"white\", \"ticks\": \"\"}, \"bgcolor\": \"#E5ECF6\", \"caxis\": {\"gridcolor\": \"white\", \"linecolor\": \"white\", \"ticks\": \"\"}}, \"title\": {\"x\": 0.05}, \"xaxis\": {\"automargin\": true, \"gridcolor\": \"white\", \"linecolor\": \"white\", \"ticks\": \"\", \"title\": {\"standoff\": 15}, \"zerolinecolor\": \"white\", \"zerolinewidth\": 2}, \"yaxis\": {\"automargin\": true, \"gridcolor\": \"white\", \"linecolor\": \"white\", \"ticks\": \"\", \"title\": {\"standoff\": 15}, \"zerolinecolor\": \"white\", \"zerolinewidth\": 2}}}, \"title\": {\"font\": {\"color\": \"#4D5663\"}, \"text\": \"Number of category kinds in noteevents\"}, \"xaxis\": {\"gridcolor\": \"#E1E5ED\", \"showgrid\": true, \"tickfont\": {\"color\": \"#4D5663\"}, \"title\": {\"font\": {\"color\": \"#4D5663\"}, \"text\": \"\"}, \"zerolinecolor\": \"#E1E5ED\"}, \"yaxis\": {\"gridcolor\": \"#E1E5ED\", \"showgrid\": true, \"tickfont\": {\"color\": \"#4D5663\"}, \"title\": {\"font\": {\"color\": \"#4D5663\"}, \"text\": \"Number of notes\"}, \"zerolinecolor\": \"#E1E5ED\"}},\n",
       "                        {\"showLink\": true, \"linkText\": \"Export to plot.ly\", \"plotlyServerURL\": \"https://plot.ly\", \"responsive\": true}\n",
       "                    ).then(function(){\n",
       "                            \n",
       "var gd = document.getElementById('d6d34dbd-d0f7-4b13-b608-f17ecdc55c14');\n",
       "var x = new MutationObserver(function (mutations, observer) {{\n",
       "        var display = window.getComputedStyle(gd).display;\n",
       "        if (!display || display === 'none') {{\n",
       "            console.log([gd, 'removed!']);\n",
       "            Plotly.purge(gd);\n",
       "            observer.disconnect();\n",
       "        }}\n",
       "}});\n",
       "\n",
       "// Listen for the removal of the full notebook cells\n",
       "var notebookContainer = gd.closest('#notebook-container');\n",
       "if (notebookContainer) {{\n",
       "    x.observe(notebookContainer, {childList: true});\n",
       "}}\n",
       "\n",
       "// Listen for the clearing of the current output cell\n",
       "var outputEl = gd.closest('.output');\n",
       "if (outputEl) {{\n",
       "    x.observe(outputEl, {childList: true});\n",
       "}}\n",
       "\n",
       "                        })\n",
       "                };\n",
       "                });\n",
       "            </script>\n",
       "        </div>"
      ]
     },
     "metadata": {},
     "output_type": "display_data"
    }
   ],
   "source": [
    "pneumonia_no_disch_df['CATEGORY'].value_counts().sort_values(ascending=False).iplot(kind='bar', yTitle='Number of notes', \n",
    "                                                                title='Number of category kinds in noteevents')"
   ]
  },
  {
   "cell_type": "code",
   "execution_count": 17,
   "metadata": {},
   "outputs": [
    {
     "name": "stdout",
     "output_type": "stream",
     "text": [
      "<class 'pandas.core.frame.DataFrame'>\n",
      "Int64Index: 58029 entries, 59103 to 2066669\n",
      "Data columns (total 8 columns):\n",
      " #   Column        Non-Null Count  Dtype \n",
      "---  ------        --------------  ----- \n",
      " 0   ROW_ID_x      58029 non-null  int64 \n",
      " 1   SUBJECT_ID_x  58029 non-null  int64 \n",
      " 2   CHARTDATE     58029 non-null  object\n",
      " 3   STORETIME     40888 non-null  object\n",
      " 4   CATEGORY      58029 non-null  object\n",
      " 5   DESCRIPTION   58029 non-null  object\n",
      " 6   TEXT          58029 non-null  object\n",
      " 7   DEATHTIME     11895 non-null  object\n",
      "dtypes: int64(2), object(6)\n",
      "memory usage: 4.0+ MB\n"
     ]
    }
   ],
   "source": [
    "pneumonia_no_disch_df.info()"
   ]
  },
  {
   "cell_type": "code",
   "execution_count": 18,
   "metadata": {},
   "outputs": [
    {
     "data": {
      "text/plain": [
       "(58029, 8)"
      ]
     },
     "execution_count": 18,
     "metadata": {},
     "output_type": "execute_result"
    }
   ],
   "source": [
    "pneumonia_no_disch_df.shape"
   ]
  },
  {
   "cell_type": "code",
   "execution_count": 19,
   "metadata": {},
   "outputs": [],
   "source": [
    "pneumonia_alive_no_disch = pneumonia_no_disch_df[pneumonia_no_disch_df.DEATHTIME.isnull()]\n",
    "pneumonia_dead_no_disch = pneumonia_no_disch_df[pneumonia_no_disch_df.DEATHTIME.notnull()]"
   ]
  },
  {
   "cell_type": "code",
   "execution_count": 20,
   "metadata": {},
   "outputs": [
    {
     "data": {
      "text/plain": [
       "(11895, 8)"
      ]
     },
     "execution_count": 20,
     "metadata": {},
     "output_type": "execute_result"
    }
   ],
   "source": [
    "pneumonia_dead_no_disch.shape"
   ]
  },
  {
   "cell_type": "code",
   "execution_count": 21,
   "metadata": {},
   "outputs": [
    {
     "data": {
      "text/plain": [
       "(46134, 8)"
      ]
     },
     "execution_count": 21,
     "metadata": {},
     "output_type": "execute_result"
    }
   ],
   "source": [
    "pneumonia_alive_no_disch.shape"
   ]
  },
  {
   "cell_type": "code",
   "execution_count": 22,
   "metadata": {},
   "outputs": [],
   "source": [
    "pneumonia_alive_no_disch = pneumonia_alive_no_disch.sort_values(by=['SUBJECT_ID_x','CHARTDATE', 'ROW_ID_x'])\n",
    "pneumonia_dead_no_disch = pneumonia_dead_no_disch.sort_values(by=['SUBJECT_ID_x','CHARTDATE', 'ROW_ID_x'])"
   ]
  },
  {
   "cell_type": "code",
   "execution_count": 23,
   "metadata": {},
   "outputs": [
    {
     "data": {
      "application/vnd.plotly.v1+json": {
       "config": {
        "linkText": "Export to plot.ly",
        "plotlyServerURL": "https://plot.ly",
        "showLink": true
       },
       "data": [
        {
         "marker": {
          "color": "rgba(255, 153, 51, 0.6)",
          "line": {
           "color": "rgba(255, 153, 51, 1.0)",
           "width": 1
          }
         },
         "name": "CATEGORY",
         "orientation": "v",
         "text": "",
         "type": "bar",
         "x": [
          "Nursing",
          "Nursing/other",
          "Radiology",
          "Physician ",
          "ECG",
          "Respiratory ",
          "Echo",
          "Nutrition",
          "General",
          "Rehab Services",
          "Case Management ",
          "Social Work",
          "Pharmacy"
         ],
         "y": [
          10574,
          10043,
          9448,
          8431,
          3623,
          1831,
          782,
          489,
          486,
          207,
          106,
          100,
          14
         ]
        }
       ],
       "layout": {
        "legend": {
         "bgcolor": "#F5F6F9",
         "font": {
          "color": "#4D5663"
         }
        },
        "paper_bgcolor": "#F5F6F9",
        "plot_bgcolor": "#F5F6F9",
        "template": {
         "data": {
          "bar": [
           {
            "error_x": {
             "color": "#2a3f5f"
            },
            "error_y": {
             "color": "#2a3f5f"
            },
            "marker": {
             "line": {
              "color": "#E5ECF6",
              "width": 0.5
             }
            },
            "type": "bar"
           }
          ],
          "barpolar": [
           {
            "marker": {
             "line": {
              "color": "#E5ECF6",
              "width": 0.5
             }
            },
            "type": "barpolar"
           }
          ],
          "carpet": [
           {
            "aaxis": {
             "endlinecolor": "#2a3f5f",
             "gridcolor": "white",
             "linecolor": "white",
             "minorgridcolor": "white",
             "startlinecolor": "#2a3f5f"
            },
            "baxis": {
             "endlinecolor": "#2a3f5f",
             "gridcolor": "white",
             "linecolor": "white",
             "minorgridcolor": "white",
             "startlinecolor": "#2a3f5f"
            },
            "type": "carpet"
           }
          ],
          "choropleth": [
           {
            "colorbar": {
             "outlinewidth": 0,
             "ticks": ""
            },
            "type": "choropleth"
           }
          ],
          "contour": [
           {
            "colorbar": {
             "outlinewidth": 0,
             "ticks": ""
            },
            "colorscale": [
             [
              0,
              "#0d0887"
             ],
             [
              0.1111111111111111,
              "#46039f"
             ],
             [
              0.2222222222222222,
              "#7201a8"
             ],
             [
              0.3333333333333333,
              "#9c179e"
             ],
             [
              0.4444444444444444,
              "#bd3786"
             ],
             [
              0.5555555555555556,
              "#d8576b"
             ],
             [
              0.6666666666666666,
              "#ed7953"
             ],
             [
              0.7777777777777778,
              "#fb9f3a"
             ],
             [
              0.8888888888888888,
              "#fdca26"
             ],
             [
              1,
              "#f0f921"
             ]
            ],
            "type": "contour"
           }
          ],
          "contourcarpet": [
           {
            "colorbar": {
             "outlinewidth": 0,
             "ticks": ""
            },
            "type": "contourcarpet"
           }
          ],
          "heatmap": [
           {
            "colorbar": {
             "outlinewidth": 0,
             "ticks": ""
            },
            "colorscale": [
             [
              0,
              "#0d0887"
             ],
             [
              0.1111111111111111,
              "#46039f"
             ],
             [
              0.2222222222222222,
              "#7201a8"
             ],
             [
              0.3333333333333333,
              "#9c179e"
             ],
             [
              0.4444444444444444,
              "#bd3786"
             ],
             [
              0.5555555555555556,
              "#d8576b"
             ],
             [
              0.6666666666666666,
              "#ed7953"
             ],
             [
              0.7777777777777778,
              "#fb9f3a"
             ],
             [
              0.8888888888888888,
              "#fdca26"
             ],
             [
              1,
              "#f0f921"
             ]
            ],
            "type": "heatmap"
           }
          ],
          "heatmapgl": [
           {
            "colorbar": {
             "outlinewidth": 0,
             "ticks": ""
            },
            "colorscale": [
             [
              0,
              "#0d0887"
             ],
             [
              0.1111111111111111,
              "#46039f"
             ],
             [
              0.2222222222222222,
              "#7201a8"
             ],
             [
              0.3333333333333333,
              "#9c179e"
             ],
             [
              0.4444444444444444,
              "#bd3786"
             ],
             [
              0.5555555555555556,
              "#d8576b"
             ],
             [
              0.6666666666666666,
              "#ed7953"
             ],
             [
              0.7777777777777778,
              "#fb9f3a"
             ],
             [
              0.8888888888888888,
              "#fdca26"
             ],
             [
              1,
              "#f0f921"
             ]
            ],
            "type": "heatmapgl"
           }
          ],
          "histogram": [
           {
            "marker": {
             "colorbar": {
              "outlinewidth": 0,
              "ticks": ""
             }
            },
            "type": "histogram"
           }
          ],
          "histogram2d": [
           {
            "colorbar": {
             "outlinewidth": 0,
             "ticks": ""
            },
            "colorscale": [
             [
              0,
              "#0d0887"
             ],
             [
              0.1111111111111111,
              "#46039f"
             ],
             [
              0.2222222222222222,
              "#7201a8"
             ],
             [
              0.3333333333333333,
              "#9c179e"
             ],
             [
              0.4444444444444444,
              "#bd3786"
             ],
             [
              0.5555555555555556,
              "#d8576b"
             ],
             [
              0.6666666666666666,
              "#ed7953"
             ],
             [
              0.7777777777777778,
              "#fb9f3a"
             ],
             [
              0.8888888888888888,
              "#fdca26"
             ],
             [
              1,
              "#f0f921"
             ]
            ],
            "type": "histogram2d"
           }
          ],
          "histogram2dcontour": [
           {
            "colorbar": {
             "outlinewidth": 0,
             "ticks": ""
            },
            "colorscale": [
             [
              0,
              "#0d0887"
             ],
             [
              0.1111111111111111,
              "#46039f"
             ],
             [
              0.2222222222222222,
              "#7201a8"
             ],
             [
              0.3333333333333333,
              "#9c179e"
             ],
             [
              0.4444444444444444,
              "#bd3786"
             ],
             [
              0.5555555555555556,
              "#d8576b"
             ],
             [
              0.6666666666666666,
              "#ed7953"
             ],
             [
              0.7777777777777778,
              "#fb9f3a"
             ],
             [
              0.8888888888888888,
              "#fdca26"
             ],
             [
              1,
              "#f0f921"
             ]
            ],
            "type": "histogram2dcontour"
           }
          ],
          "mesh3d": [
           {
            "colorbar": {
             "outlinewidth": 0,
             "ticks": ""
            },
            "type": "mesh3d"
           }
          ],
          "parcoords": [
           {
            "line": {
             "colorbar": {
              "outlinewidth": 0,
              "ticks": ""
             }
            },
            "type": "parcoords"
           }
          ],
          "pie": [
           {
            "automargin": true,
            "type": "pie"
           }
          ],
          "scatter": [
           {
            "marker": {
             "colorbar": {
              "outlinewidth": 0,
              "ticks": ""
             }
            },
            "type": "scatter"
           }
          ],
          "scatter3d": [
           {
            "line": {
             "colorbar": {
              "outlinewidth": 0,
              "ticks": ""
             }
            },
            "marker": {
             "colorbar": {
              "outlinewidth": 0,
              "ticks": ""
             }
            },
            "type": "scatter3d"
           }
          ],
          "scattercarpet": [
           {
            "marker": {
             "colorbar": {
              "outlinewidth": 0,
              "ticks": ""
             }
            },
            "type": "scattercarpet"
           }
          ],
          "scattergeo": [
           {
            "marker": {
             "colorbar": {
              "outlinewidth": 0,
              "ticks": ""
             }
            },
            "type": "scattergeo"
           }
          ],
          "scattergl": [
           {
            "marker": {
             "colorbar": {
              "outlinewidth": 0,
              "ticks": ""
             }
            },
            "type": "scattergl"
           }
          ],
          "scattermapbox": [
           {
            "marker": {
             "colorbar": {
              "outlinewidth": 0,
              "ticks": ""
             }
            },
            "type": "scattermapbox"
           }
          ],
          "scatterpolar": [
           {
            "marker": {
             "colorbar": {
              "outlinewidth": 0,
              "ticks": ""
             }
            },
            "type": "scatterpolar"
           }
          ],
          "scatterpolargl": [
           {
            "marker": {
             "colorbar": {
              "outlinewidth": 0,
              "ticks": ""
             }
            },
            "type": "scatterpolargl"
           }
          ],
          "scatterternary": [
           {
            "marker": {
             "colorbar": {
              "outlinewidth": 0,
              "ticks": ""
             }
            },
            "type": "scatterternary"
           }
          ],
          "surface": [
           {
            "colorbar": {
             "outlinewidth": 0,
             "ticks": ""
            },
            "colorscale": [
             [
              0,
              "#0d0887"
             ],
             [
              0.1111111111111111,
              "#46039f"
             ],
             [
              0.2222222222222222,
              "#7201a8"
             ],
             [
              0.3333333333333333,
              "#9c179e"
             ],
             [
              0.4444444444444444,
              "#bd3786"
             ],
             [
              0.5555555555555556,
              "#d8576b"
             ],
             [
              0.6666666666666666,
              "#ed7953"
             ],
             [
              0.7777777777777778,
              "#fb9f3a"
             ],
             [
              0.8888888888888888,
              "#fdca26"
             ],
             [
              1,
              "#f0f921"
             ]
            ],
            "type": "surface"
           }
          ],
          "table": [
           {
            "cells": {
             "fill": {
              "color": "#EBF0F8"
             },
             "line": {
              "color": "white"
             }
            },
            "header": {
             "fill": {
              "color": "#C8D4E3"
             },
             "line": {
              "color": "white"
             }
            },
            "type": "table"
           }
          ]
         },
         "layout": {
          "annotationdefaults": {
           "arrowcolor": "#2a3f5f",
           "arrowhead": 0,
           "arrowwidth": 1
          },
          "coloraxis": {
           "colorbar": {
            "outlinewidth": 0,
            "ticks": ""
           }
          },
          "colorscale": {
           "diverging": [
            [
             0,
             "#8e0152"
            ],
            [
             0.1,
             "#c51b7d"
            ],
            [
             0.2,
             "#de77ae"
            ],
            [
             0.3,
             "#f1b6da"
            ],
            [
             0.4,
             "#fde0ef"
            ],
            [
             0.5,
             "#f7f7f7"
            ],
            [
             0.6,
             "#e6f5d0"
            ],
            [
             0.7,
             "#b8e186"
            ],
            [
             0.8,
             "#7fbc41"
            ],
            [
             0.9,
             "#4d9221"
            ],
            [
             1,
             "#276419"
            ]
           ],
           "sequential": [
            [
             0,
             "#0d0887"
            ],
            [
             0.1111111111111111,
             "#46039f"
            ],
            [
             0.2222222222222222,
             "#7201a8"
            ],
            [
             0.3333333333333333,
             "#9c179e"
            ],
            [
             0.4444444444444444,
             "#bd3786"
            ],
            [
             0.5555555555555556,
             "#d8576b"
            ],
            [
             0.6666666666666666,
             "#ed7953"
            ],
            [
             0.7777777777777778,
             "#fb9f3a"
            ],
            [
             0.8888888888888888,
             "#fdca26"
            ],
            [
             1,
             "#f0f921"
            ]
           ],
           "sequentialminus": [
            [
             0,
             "#0d0887"
            ],
            [
             0.1111111111111111,
             "#46039f"
            ],
            [
             0.2222222222222222,
             "#7201a8"
            ],
            [
             0.3333333333333333,
             "#9c179e"
            ],
            [
             0.4444444444444444,
             "#bd3786"
            ],
            [
             0.5555555555555556,
             "#d8576b"
            ],
            [
             0.6666666666666666,
             "#ed7953"
            ],
            [
             0.7777777777777778,
             "#fb9f3a"
            ],
            [
             0.8888888888888888,
             "#fdca26"
            ],
            [
             1,
             "#f0f921"
            ]
           ]
          },
          "colorway": [
           "#636efa",
           "#EF553B",
           "#00cc96",
           "#ab63fa",
           "#FFA15A",
           "#19d3f3",
           "#FF6692",
           "#B6E880",
           "#FF97FF",
           "#FECB52"
          ],
          "font": {
           "color": "#2a3f5f"
          },
          "geo": {
           "bgcolor": "white",
           "lakecolor": "white",
           "landcolor": "#E5ECF6",
           "showlakes": true,
           "showland": true,
           "subunitcolor": "white"
          },
          "hoverlabel": {
           "align": "left"
          },
          "hovermode": "closest",
          "mapbox": {
           "style": "light"
          },
          "paper_bgcolor": "white",
          "plot_bgcolor": "#E5ECF6",
          "polar": {
           "angularaxis": {
            "gridcolor": "white",
            "linecolor": "white",
            "ticks": ""
           },
           "bgcolor": "#E5ECF6",
           "radialaxis": {
            "gridcolor": "white",
            "linecolor": "white",
            "ticks": ""
           }
          },
          "scene": {
           "xaxis": {
            "backgroundcolor": "#E5ECF6",
            "gridcolor": "white",
            "gridwidth": 2,
            "linecolor": "white",
            "showbackground": true,
            "ticks": "",
            "zerolinecolor": "white"
           },
           "yaxis": {
            "backgroundcolor": "#E5ECF6",
            "gridcolor": "white",
            "gridwidth": 2,
            "linecolor": "white",
            "showbackground": true,
            "ticks": "",
            "zerolinecolor": "white"
           },
           "zaxis": {
            "backgroundcolor": "#E5ECF6",
            "gridcolor": "white",
            "gridwidth": 2,
            "linecolor": "white",
            "showbackground": true,
            "ticks": "",
            "zerolinecolor": "white"
           }
          },
          "shapedefaults": {
           "line": {
            "color": "#2a3f5f"
           }
          },
          "ternary": {
           "aaxis": {
            "gridcolor": "white",
            "linecolor": "white",
            "ticks": ""
           },
           "baxis": {
            "gridcolor": "white",
            "linecolor": "white",
            "ticks": ""
           },
           "bgcolor": "#E5ECF6",
           "caxis": {
            "gridcolor": "white",
            "linecolor": "white",
            "ticks": ""
           }
          },
          "title": {
           "x": 0.05
          },
          "xaxis": {
           "automargin": true,
           "gridcolor": "white",
           "linecolor": "white",
           "ticks": "",
           "title": {
            "standoff": 15
           },
           "zerolinecolor": "white",
           "zerolinewidth": 2
          },
          "yaxis": {
           "automargin": true,
           "gridcolor": "white",
           "linecolor": "white",
           "ticks": "",
           "title": {
            "standoff": 15
           },
           "zerolinecolor": "white",
           "zerolinewidth": 2
          }
         }
        },
        "title": {
         "font": {
          "color": "#4D5663"
         },
         "text": "Number of category kinds in pneumonia alive"
        },
        "xaxis": {
         "gridcolor": "#E1E5ED",
         "showgrid": true,
         "tickfont": {
          "color": "#4D5663"
         },
         "title": {
          "font": {
           "color": "#4D5663"
          },
          "text": ""
         },
         "zerolinecolor": "#E1E5ED"
        },
        "yaxis": {
         "gridcolor": "#E1E5ED",
         "showgrid": true,
         "tickfont": {
          "color": "#4D5663"
         },
         "title": {
          "font": {
           "color": "#4D5663"
          },
          "text": "Number of notes"
         },
         "zerolinecolor": "#E1E5ED"
        }
       }
      },
      "text/html": [
       "<div>\n",
       "        \n",
       "        \n",
       "            <div id=\"f72b2375-8df9-482d-a850-e91bb64629a4\" class=\"plotly-graph-div\" style=\"height:525px; width:100%;\"></div>\n",
       "            <script type=\"text/javascript\">\n",
       "                require([\"plotly\"], function(Plotly) {\n",
       "                    window.PLOTLYENV=window.PLOTLYENV || {};\n",
       "                    window.PLOTLYENV.BASE_URL='https://plot.ly';\n",
       "                    \n",
       "                if (document.getElementById(\"f72b2375-8df9-482d-a850-e91bb64629a4\")) {\n",
       "                    Plotly.newPlot(\n",
       "                        'f72b2375-8df9-482d-a850-e91bb64629a4',\n",
       "                        [{\"marker\": {\"color\": \"rgba(255, 153, 51, 0.6)\", \"line\": {\"color\": \"rgba(255, 153, 51, 1.0)\", \"width\": 1}}, \"name\": \"CATEGORY\", \"orientation\": \"v\", \"text\": \"\", \"type\": \"bar\", \"x\": [\"Nursing\", \"Nursing/other\", \"Radiology\", \"Physician \", \"ECG\", \"Respiratory \", \"Echo\", \"Nutrition\", \"General\", \"Rehab Services\", \"Case Management \", \"Social Work\", \"Pharmacy\"], \"y\": [10574, 10043, 9448, 8431, 3623, 1831, 782, 489, 486, 207, 106, 100, 14]}],\n",
       "                        {\"legend\": {\"bgcolor\": \"#F5F6F9\", \"font\": {\"color\": \"#4D5663\"}}, \"paper_bgcolor\": \"#F5F6F9\", \"plot_bgcolor\": \"#F5F6F9\", \"template\": {\"data\": {\"bar\": [{\"error_x\": {\"color\": \"#2a3f5f\"}, \"error_y\": {\"color\": \"#2a3f5f\"}, \"marker\": {\"line\": {\"color\": \"#E5ECF6\", \"width\": 0.5}}, \"type\": \"bar\"}], \"barpolar\": [{\"marker\": {\"line\": {\"color\": \"#E5ECF6\", \"width\": 0.5}}, \"type\": \"barpolar\"}], \"carpet\": [{\"aaxis\": {\"endlinecolor\": \"#2a3f5f\", \"gridcolor\": \"white\", \"linecolor\": \"white\", \"minorgridcolor\": \"white\", \"startlinecolor\": \"#2a3f5f\"}, \"baxis\": {\"endlinecolor\": \"#2a3f5f\", \"gridcolor\": \"white\", \"linecolor\": \"white\", \"minorgridcolor\": \"white\", \"startlinecolor\": \"#2a3f5f\"}, \"type\": \"carpet\"}], \"choropleth\": [{\"colorbar\": {\"outlinewidth\": 0, \"ticks\": \"\"}, \"type\": \"choropleth\"}], \"contour\": [{\"colorbar\": {\"outlinewidth\": 0, \"ticks\": \"\"}, \"colorscale\": [[0.0, \"#0d0887\"], [0.1111111111111111, \"#46039f\"], [0.2222222222222222, \"#7201a8\"], [0.3333333333333333, \"#9c179e\"], [0.4444444444444444, \"#bd3786\"], [0.5555555555555556, \"#d8576b\"], [0.6666666666666666, \"#ed7953\"], [0.7777777777777778, \"#fb9f3a\"], [0.8888888888888888, \"#fdca26\"], [1.0, \"#f0f921\"]], \"type\": \"contour\"}], \"contourcarpet\": [{\"colorbar\": {\"outlinewidth\": 0, \"ticks\": \"\"}, \"type\": \"contourcarpet\"}], \"heatmap\": [{\"colorbar\": {\"outlinewidth\": 0, \"ticks\": \"\"}, \"colorscale\": [[0.0, \"#0d0887\"], [0.1111111111111111, \"#46039f\"], [0.2222222222222222, \"#7201a8\"], [0.3333333333333333, \"#9c179e\"], [0.4444444444444444, \"#bd3786\"], [0.5555555555555556, \"#d8576b\"], [0.6666666666666666, \"#ed7953\"], [0.7777777777777778, \"#fb9f3a\"], [0.8888888888888888, \"#fdca26\"], [1.0, \"#f0f921\"]], \"type\": \"heatmap\"}], \"heatmapgl\": [{\"colorbar\": {\"outlinewidth\": 0, \"ticks\": \"\"}, \"colorscale\": [[0.0, \"#0d0887\"], [0.1111111111111111, \"#46039f\"], [0.2222222222222222, \"#7201a8\"], [0.3333333333333333, \"#9c179e\"], [0.4444444444444444, \"#bd3786\"], [0.5555555555555556, \"#d8576b\"], [0.6666666666666666, \"#ed7953\"], [0.7777777777777778, \"#fb9f3a\"], [0.8888888888888888, \"#fdca26\"], [1.0, \"#f0f921\"]], \"type\": \"heatmapgl\"}], \"histogram\": [{\"marker\": {\"colorbar\": {\"outlinewidth\": 0, \"ticks\": \"\"}}, \"type\": \"histogram\"}], \"histogram2d\": [{\"colorbar\": {\"outlinewidth\": 0, \"ticks\": \"\"}, \"colorscale\": [[0.0, \"#0d0887\"], [0.1111111111111111, \"#46039f\"], [0.2222222222222222, \"#7201a8\"], [0.3333333333333333, \"#9c179e\"], [0.4444444444444444, \"#bd3786\"], [0.5555555555555556, \"#d8576b\"], [0.6666666666666666, \"#ed7953\"], [0.7777777777777778, \"#fb9f3a\"], [0.8888888888888888, \"#fdca26\"], [1.0, \"#f0f921\"]], \"type\": \"histogram2d\"}], \"histogram2dcontour\": [{\"colorbar\": {\"outlinewidth\": 0, \"ticks\": \"\"}, \"colorscale\": [[0.0, \"#0d0887\"], [0.1111111111111111, \"#46039f\"], [0.2222222222222222, \"#7201a8\"], [0.3333333333333333, \"#9c179e\"], [0.4444444444444444, \"#bd3786\"], [0.5555555555555556, \"#d8576b\"], [0.6666666666666666, \"#ed7953\"], [0.7777777777777778, \"#fb9f3a\"], [0.8888888888888888, \"#fdca26\"], [1.0, \"#f0f921\"]], \"type\": \"histogram2dcontour\"}], \"mesh3d\": [{\"colorbar\": {\"outlinewidth\": 0, \"ticks\": \"\"}, \"type\": \"mesh3d\"}], \"parcoords\": [{\"line\": {\"colorbar\": {\"outlinewidth\": 0, \"ticks\": \"\"}}, \"type\": \"parcoords\"}], \"pie\": [{\"automargin\": true, \"type\": \"pie\"}], \"scatter\": [{\"marker\": {\"colorbar\": {\"outlinewidth\": 0, \"ticks\": \"\"}}, \"type\": \"scatter\"}], \"scatter3d\": [{\"line\": {\"colorbar\": {\"outlinewidth\": 0, \"ticks\": \"\"}}, \"marker\": {\"colorbar\": {\"outlinewidth\": 0, \"ticks\": \"\"}}, \"type\": \"scatter3d\"}], \"scattercarpet\": [{\"marker\": {\"colorbar\": {\"outlinewidth\": 0, \"ticks\": \"\"}}, \"type\": \"scattercarpet\"}], \"scattergeo\": [{\"marker\": {\"colorbar\": {\"outlinewidth\": 0, \"ticks\": \"\"}}, \"type\": \"scattergeo\"}], \"scattergl\": [{\"marker\": {\"colorbar\": {\"outlinewidth\": 0, \"ticks\": \"\"}}, \"type\": \"scattergl\"}], \"scattermapbox\": [{\"marker\": {\"colorbar\": {\"outlinewidth\": 0, \"ticks\": \"\"}}, \"type\": \"scattermapbox\"}], \"scatterpolar\": [{\"marker\": {\"colorbar\": {\"outlinewidth\": 0, \"ticks\": \"\"}}, \"type\": \"scatterpolar\"}], \"scatterpolargl\": [{\"marker\": {\"colorbar\": {\"outlinewidth\": 0, \"ticks\": \"\"}}, \"type\": \"scatterpolargl\"}], \"scatterternary\": [{\"marker\": {\"colorbar\": {\"outlinewidth\": 0, \"ticks\": \"\"}}, \"type\": \"scatterternary\"}], \"surface\": [{\"colorbar\": {\"outlinewidth\": 0, \"ticks\": \"\"}, \"colorscale\": [[0.0, \"#0d0887\"], [0.1111111111111111, \"#46039f\"], [0.2222222222222222, \"#7201a8\"], [0.3333333333333333, \"#9c179e\"], [0.4444444444444444, \"#bd3786\"], [0.5555555555555556, \"#d8576b\"], [0.6666666666666666, \"#ed7953\"], [0.7777777777777778, \"#fb9f3a\"], [0.8888888888888888, \"#fdca26\"], [1.0, \"#f0f921\"]], \"type\": \"surface\"}], \"table\": [{\"cells\": {\"fill\": {\"color\": \"#EBF0F8\"}, \"line\": {\"color\": \"white\"}}, \"header\": {\"fill\": {\"color\": \"#C8D4E3\"}, \"line\": {\"color\": \"white\"}}, \"type\": \"table\"}]}, \"layout\": {\"annotationdefaults\": {\"arrowcolor\": \"#2a3f5f\", \"arrowhead\": 0, \"arrowwidth\": 1}, \"coloraxis\": {\"colorbar\": {\"outlinewidth\": 0, \"ticks\": \"\"}}, \"colorscale\": {\"diverging\": [[0, \"#8e0152\"], [0.1, \"#c51b7d\"], [0.2, \"#de77ae\"], [0.3, \"#f1b6da\"], [0.4, \"#fde0ef\"], [0.5, \"#f7f7f7\"], [0.6, \"#e6f5d0\"], [0.7, \"#b8e186\"], [0.8, \"#7fbc41\"], [0.9, \"#4d9221\"], [1, \"#276419\"]], \"sequential\": [[0.0, \"#0d0887\"], [0.1111111111111111, \"#46039f\"], [0.2222222222222222, \"#7201a8\"], [0.3333333333333333, \"#9c179e\"], [0.4444444444444444, \"#bd3786\"], [0.5555555555555556, \"#d8576b\"], [0.6666666666666666, \"#ed7953\"], [0.7777777777777778, \"#fb9f3a\"], [0.8888888888888888, \"#fdca26\"], [1.0, \"#f0f921\"]], \"sequentialminus\": [[0.0, \"#0d0887\"], [0.1111111111111111, \"#46039f\"], [0.2222222222222222, \"#7201a8\"], [0.3333333333333333, \"#9c179e\"], [0.4444444444444444, \"#bd3786\"], [0.5555555555555556, \"#d8576b\"], [0.6666666666666666, \"#ed7953\"], [0.7777777777777778, \"#fb9f3a\"], [0.8888888888888888, \"#fdca26\"], [1.0, \"#f0f921\"]]}, \"colorway\": [\"#636efa\", \"#EF553B\", \"#00cc96\", \"#ab63fa\", \"#FFA15A\", \"#19d3f3\", \"#FF6692\", \"#B6E880\", \"#FF97FF\", \"#FECB52\"], \"font\": {\"color\": \"#2a3f5f\"}, \"geo\": {\"bgcolor\": \"white\", \"lakecolor\": \"white\", \"landcolor\": \"#E5ECF6\", \"showlakes\": true, \"showland\": true, \"subunitcolor\": \"white\"}, \"hoverlabel\": {\"align\": \"left\"}, \"hovermode\": \"closest\", \"mapbox\": {\"style\": \"light\"}, \"paper_bgcolor\": \"white\", \"plot_bgcolor\": \"#E5ECF6\", \"polar\": {\"angularaxis\": {\"gridcolor\": \"white\", \"linecolor\": \"white\", \"ticks\": \"\"}, \"bgcolor\": \"#E5ECF6\", \"radialaxis\": {\"gridcolor\": \"white\", \"linecolor\": \"white\", \"ticks\": \"\"}}, \"scene\": {\"xaxis\": {\"backgroundcolor\": \"#E5ECF6\", \"gridcolor\": \"white\", \"gridwidth\": 2, \"linecolor\": \"white\", \"showbackground\": true, \"ticks\": \"\", \"zerolinecolor\": \"white\"}, \"yaxis\": {\"backgroundcolor\": \"#E5ECF6\", \"gridcolor\": \"white\", \"gridwidth\": 2, \"linecolor\": \"white\", \"showbackground\": true, \"ticks\": \"\", \"zerolinecolor\": \"white\"}, \"zaxis\": {\"backgroundcolor\": \"#E5ECF6\", \"gridcolor\": \"white\", \"gridwidth\": 2, \"linecolor\": \"white\", \"showbackground\": true, \"ticks\": \"\", \"zerolinecolor\": \"white\"}}, \"shapedefaults\": {\"line\": {\"color\": \"#2a3f5f\"}}, \"ternary\": {\"aaxis\": {\"gridcolor\": \"white\", \"linecolor\": \"white\", \"ticks\": \"\"}, \"baxis\": {\"gridcolor\": \"white\", \"linecolor\": \"white\", \"ticks\": \"\"}, \"bgcolor\": \"#E5ECF6\", \"caxis\": {\"gridcolor\": \"white\", \"linecolor\": \"white\", \"ticks\": \"\"}}, \"title\": {\"x\": 0.05}, \"xaxis\": {\"automargin\": true, \"gridcolor\": \"white\", \"linecolor\": \"white\", \"ticks\": \"\", \"title\": {\"standoff\": 15}, \"zerolinecolor\": \"white\", \"zerolinewidth\": 2}, \"yaxis\": {\"automargin\": true, \"gridcolor\": \"white\", \"linecolor\": \"white\", \"ticks\": \"\", \"title\": {\"standoff\": 15}, \"zerolinecolor\": \"white\", \"zerolinewidth\": 2}}}, \"title\": {\"font\": {\"color\": \"#4D5663\"}, \"text\": \"Number of category kinds in pneumonia alive\"}, \"xaxis\": {\"gridcolor\": \"#E1E5ED\", \"showgrid\": true, \"tickfont\": {\"color\": \"#4D5663\"}, \"title\": {\"font\": {\"color\": \"#4D5663\"}, \"text\": \"\"}, \"zerolinecolor\": \"#E1E5ED\"}, \"yaxis\": {\"gridcolor\": \"#E1E5ED\", \"showgrid\": true, \"tickfont\": {\"color\": \"#4D5663\"}, \"title\": {\"font\": {\"color\": \"#4D5663\"}, \"text\": \"Number of notes\"}, \"zerolinecolor\": \"#E1E5ED\"}},\n",
       "                        {\"showLink\": true, \"linkText\": \"Export to plot.ly\", \"plotlyServerURL\": \"https://plot.ly\", \"responsive\": true}\n",
       "                    ).then(function(){\n",
       "                            \n",
       "var gd = document.getElementById('f72b2375-8df9-482d-a850-e91bb64629a4');\n",
       "var x = new MutationObserver(function (mutations, observer) {{\n",
       "        var display = window.getComputedStyle(gd).display;\n",
       "        if (!display || display === 'none') {{\n",
       "            console.log([gd, 'removed!']);\n",
       "            Plotly.purge(gd);\n",
       "            observer.disconnect();\n",
       "        }}\n",
       "}});\n",
       "\n",
       "// Listen for the removal of the full notebook cells\n",
       "var notebookContainer = gd.closest('#notebook-container');\n",
       "if (notebookContainer) {{\n",
       "    x.observe(notebookContainer, {childList: true});\n",
       "}}\n",
       "\n",
       "// Listen for the clearing of the current output cell\n",
       "var outputEl = gd.closest('.output');\n",
       "if (outputEl) {{\n",
       "    x.observe(outputEl, {childList: true});\n",
       "}}\n",
       "\n",
       "                        })\n",
       "                };\n",
       "                });\n",
       "            </script>\n",
       "        </div>"
      ]
     },
     "metadata": {},
     "output_type": "display_data"
    }
   ],
   "source": [
    "pneumonia_alive_no_disch['CATEGORY'].value_counts().sort_values(ascending=False).iplot(kind='bar', yTitle='Number of notes', \n",
    "                                                                title='Number of category kinds in pneumonia alive')"
   ]
  },
  {
   "cell_type": "code",
   "execution_count": 24,
   "metadata": {
    "scrolled": false
   },
   "outputs": [
    {
     "data": {
      "application/vnd.plotly.v1+json": {
       "config": {
        "linkText": "Export to plot.ly",
        "plotlyServerURL": "https://plot.ly",
        "showLink": true
       },
       "data": [
        {
         "marker": {
          "color": "rgba(255, 153, 51, 0.6)",
          "line": {
           "color": "rgba(255, 153, 51, 1.0)",
           "width": 1
          }
         },
         "name": "CATEGORY",
         "orientation": "v",
         "text": "",
         "type": "bar",
         "x": [
          "Nursing",
          "Nursing/other",
          "Radiology",
          "Physician ",
          "ECG",
          "Respiratory ",
          "General",
          "Echo",
          "Nutrition",
          "Social Work",
          "Case Management ",
          "Rehab Services",
          "Consult",
          "Pharmacy"
         ],
         "y": [
          2682,
          2650,
          2275,
          2212,
          846,
          623,
          194,
          167,
          149,
          42,
          29,
          24,
          1,
          1
         ]
        }
       ],
       "layout": {
        "legend": {
         "bgcolor": "#F5F6F9",
         "font": {
          "color": "#4D5663"
         }
        },
        "paper_bgcolor": "#F5F6F9",
        "plot_bgcolor": "#F5F6F9",
        "template": {
         "data": {
          "bar": [
           {
            "error_x": {
             "color": "#2a3f5f"
            },
            "error_y": {
             "color": "#2a3f5f"
            },
            "marker": {
             "line": {
              "color": "#E5ECF6",
              "width": 0.5
             }
            },
            "type": "bar"
           }
          ],
          "barpolar": [
           {
            "marker": {
             "line": {
              "color": "#E5ECF6",
              "width": 0.5
             }
            },
            "type": "barpolar"
           }
          ],
          "carpet": [
           {
            "aaxis": {
             "endlinecolor": "#2a3f5f",
             "gridcolor": "white",
             "linecolor": "white",
             "minorgridcolor": "white",
             "startlinecolor": "#2a3f5f"
            },
            "baxis": {
             "endlinecolor": "#2a3f5f",
             "gridcolor": "white",
             "linecolor": "white",
             "minorgridcolor": "white",
             "startlinecolor": "#2a3f5f"
            },
            "type": "carpet"
           }
          ],
          "choropleth": [
           {
            "colorbar": {
             "outlinewidth": 0,
             "ticks": ""
            },
            "type": "choropleth"
           }
          ],
          "contour": [
           {
            "colorbar": {
             "outlinewidth": 0,
             "ticks": ""
            },
            "colorscale": [
             [
              0,
              "#0d0887"
             ],
             [
              0.1111111111111111,
              "#46039f"
             ],
             [
              0.2222222222222222,
              "#7201a8"
             ],
             [
              0.3333333333333333,
              "#9c179e"
             ],
             [
              0.4444444444444444,
              "#bd3786"
             ],
             [
              0.5555555555555556,
              "#d8576b"
             ],
             [
              0.6666666666666666,
              "#ed7953"
             ],
             [
              0.7777777777777778,
              "#fb9f3a"
             ],
             [
              0.8888888888888888,
              "#fdca26"
             ],
             [
              1,
              "#f0f921"
             ]
            ],
            "type": "contour"
           }
          ],
          "contourcarpet": [
           {
            "colorbar": {
             "outlinewidth": 0,
             "ticks": ""
            },
            "type": "contourcarpet"
           }
          ],
          "heatmap": [
           {
            "colorbar": {
             "outlinewidth": 0,
             "ticks": ""
            },
            "colorscale": [
             [
              0,
              "#0d0887"
             ],
             [
              0.1111111111111111,
              "#46039f"
             ],
             [
              0.2222222222222222,
              "#7201a8"
             ],
             [
              0.3333333333333333,
              "#9c179e"
             ],
             [
              0.4444444444444444,
              "#bd3786"
             ],
             [
              0.5555555555555556,
              "#d8576b"
             ],
             [
              0.6666666666666666,
              "#ed7953"
             ],
             [
              0.7777777777777778,
              "#fb9f3a"
             ],
             [
              0.8888888888888888,
              "#fdca26"
             ],
             [
              1,
              "#f0f921"
             ]
            ],
            "type": "heatmap"
           }
          ],
          "heatmapgl": [
           {
            "colorbar": {
             "outlinewidth": 0,
             "ticks": ""
            },
            "colorscale": [
             [
              0,
              "#0d0887"
             ],
             [
              0.1111111111111111,
              "#46039f"
             ],
             [
              0.2222222222222222,
              "#7201a8"
             ],
             [
              0.3333333333333333,
              "#9c179e"
             ],
             [
              0.4444444444444444,
              "#bd3786"
             ],
             [
              0.5555555555555556,
              "#d8576b"
             ],
             [
              0.6666666666666666,
              "#ed7953"
             ],
             [
              0.7777777777777778,
              "#fb9f3a"
             ],
             [
              0.8888888888888888,
              "#fdca26"
             ],
             [
              1,
              "#f0f921"
             ]
            ],
            "type": "heatmapgl"
           }
          ],
          "histogram": [
           {
            "marker": {
             "colorbar": {
              "outlinewidth": 0,
              "ticks": ""
             }
            },
            "type": "histogram"
           }
          ],
          "histogram2d": [
           {
            "colorbar": {
             "outlinewidth": 0,
             "ticks": ""
            },
            "colorscale": [
             [
              0,
              "#0d0887"
             ],
             [
              0.1111111111111111,
              "#46039f"
             ],
             [
              0.2222222222222222,
              "#7201a8"
             ],
             [
              0.3333333333333333,
              "#9c179e"
             ],
             [
              0.4444444444444444,
              "#bd3786"
             ],
             [
              0.5555555555555556,
              "#d8576b"
             ],
             [
              0.6666666666666666,
              "#ed7953"
             ],
             [
              0.7777777777777778,
              "#fb9f3a"
             ],
             [
              0.8888888888888888,
              "#fdca26"
             ],
             [
              1,
              "#f0f921"
             ]
            ],
            "type": "histogram2d"
           }
          ],
          "histogram2dcontour": [
           {
            "colorbar": {
             "outlinewidth": 0,
             "ticks": ""
            },
            "colorscale": [
             [
              0,
              "#0d0887"
             ],
             [
              0.1111111111111111,
              "#46039f"
             ],
             [
              0.2222222222222222,
              "#7201a8"
             ],
             [
              0.3333333333333333,
              "#9c179e"
             ],
             [
              0.4444444444444444,
              "#bd3786"
             ],
             [
              0.5555555555555556,
              "#d8576b"
             ],
             [
              0.6666666666666666,
              "#ed7953"
             ],
             [
              0.7777777777777778,
              "#fb9f3a"
             ],
             [
              0.8888888888888888,
              "#fdca26"
             ],
             [
              1,
              "#f0f921"
             ]
            ],
            "type": "histogram2dcontour"
           }
          ],
          "mesh3d": [
           {
            "colorbar": {
             "outlinewidth": 0,
             "ticks": ""
            },
            "type": "mesh3d"
           }
          ],
          "parcoords": [
           {
            "line": {
             "colorbar": {
              "outlinewidth": 0,
              "ticks": ""
             }
            },
            "type": "parcoords"
           }
          ],
          "pie": [
           {
            "automargin": true,
            "type": "pie"
           }
          ],
          "scatter": [
           {
            "marker": {
             "colorbar": {
              "outlinewidth": 0,
              "ticks": ""
             }
            },
            "type": "scatter"
           }
          ],
          "scatter3d": [
           {
            "line": {
             "colorbar": {
              "outlinewidth": 0,
              "ticks": ""
             }
            },
            "marker": {
             "colorbar": {
              "outlinewidth": 0,
              "ticks": ""
             }
            },
            "type": "scatter3d"
           }
          ],
          "scattercarpet": [
           {
            "marker": {
             "colorbar": {
              "outlinewidth": 0,
              "ticks": ""
             }
            },
            "type": "scattercarpet"
           }
          ],
          "scattergeo": [
           {
            "marker": {
             "colorbar": {
              "outlinewidth": 0,
              "ticks": ""
             }
            },
            "type": "scattergeo"
           }
          ],
          "scattergl": [
           {
            "marker": {
             "colorbar": {
              "outlinewidth": 0,
              "ticks": ""
             }
            },
            "type": "scattergl"
           }
          ],
          "scattermapbox": [
           {
            "marker": {
             "colorbar": {
              "outlinewidth": 0,
              "ticks": ""
             }
            },
            "type": "scattermapbox"
           }
          ],
          "scatterpolar": [
           {
            "marker": {
             "colorbar": {
              "outlinewidth": 0,
              "ticks": ""
             }
            },
            "type": "scatterpolar"
           }
          ],
          "scatterpolargl": [
           {
            "marker": {
             "colorbar": {
              "outlinewidth": 0,
              "ticks": ""
             }
            },
            "type": "scatterpolargl"
           }
          ],
          "scatterternary": [
           {
            "marker": {
             "colorbar": {
              "outlinewidth": 0,
              "ticks": ""
             }
            },
            "type": "scatterternary"
           }
          ],
          "surface": [
           {
            "colorbar": {
             "outlinewidth": 0,
             "ticks": ""
            },
            "colorscale": [
             [
              0,
              "#0d0887"
             ],
             [
              0.1111111111111111,
              "#46039f"
             ],
             [
              0.2222222222222222,
              "#7201a8"
             ],
             [
              0.3333333333333333,
              "#9c179e"
             ],
             [
              0.4444444444444444,
              "#bd3786"
             ],
             [
              0.5555555555555556,
              "#d8576b"
             ],
             [
              0.6666666666666666,
              "#ed7953"
             ],
             [
              0.7777777777777778,
              "#fb9f3a"
             ],
             [
              0.8888888888888888,
              "#fdca26"
             ],
             [
              1,
              "#f0f921"
             ]
            ],
            "type": "surface"
           }
          ],
          "table": [
           {
            "cells": {
             "fill": {
              "color": "#EBF0F8"
             },
             "line": {
              "color": "white"
             }
            },
            "header": {
             "fill": {
              "color": "#C8D4E3"
             },
             "line": {
              "color": "white"
             }
            },
            "type": "table"
           }
          ]
         },
         "layout": {
          "annotationdefaults": {
           "arrowcolor": "#2a3f5f",
           "arrowhead": 0,
           "arrowwidth": 1
          },
          "coloraxis": {
           "colorbar": {
            "outlinewidth": 0,
            "ticks": ""
           }
          },
          "colorscale": {
           "diverging": [
            [
             0,
             "#8e0152"
            ],
            [
             0.1,
             "#c51b7d"
            ],
            [
             0.2,
             "#de77ae"
            ],
            [
             0.3,
             "#f1b6da"
            ],
            [
             0.4,
             "#fde0ef"
            ],
            [
             0.5,
             "#f7f7f7"
            ],
            [
             0.6,
             "#e6f5d0"
            ],
            [
             0.7,
             "#b8e186"
            ],
            [
             0.8,
             "#7fbc41"
            ],
            [
             0.9,
             "#4d9221"
            ],
            [
             1,
             "#276419"
            ]
           ],
           "sequential": [
            [
             0,
             "#0d0887"
            ],
            [
             0.1111111111111111,
             "#46039f"
            ],
            [
             0.2222222222222222,
             "#7201a8"
            ],
            [
             0.3333333333333333,
             "#9c179e"
            ],
            [
             0.4444444444444444,
             "#bd3786"
            ],
            [
             0.5555555555555556,
             "#d8576b"
            ],
            [
             0.6666666666666666,
             "#ed7953"
            ],
            [
             0.7777777777777778,
             "#fb9f3a"
            ],
            [
             0.8888888888888888,
             "#fdca26"
            ],
            [
             1,
             "#f0f921"
            ]
           ],
           "sequentialminus": [
            [
             0,
             "#0d0887"
            ],
            [
             0.1111111111111111,
             "#46039f"
            ],
            [
             0.2222222222222222,
             "#7201a8"
            ],
            [
             0.3333333333333333,
             "#9c179e"
            ],
            [
             0.4444444444444444,
             "#bd3786"
            ],
            [
             0.5555555555555556,
             "#d8576b"
            ],
            [
             0.6666666666666666,
             "#ed7953"
            ],
            [
             0.7777777777777778,
             "#fb9f3a"
            ],
            [
             0.8888888888888888,
             "#fdca26"
            ],
            [
             1,
             "#f0f921"
            ]
           ]
          },
          "colorway": [
           "#636efa",
           "#EF553B",
           "#00cc96",
           "#ab63fa",
           "#FFA15A",
           "#19d3f3",
           "#FF6692",
           "#B6E880",
           "#FF97FF",
           "#FECB52"
          ],
          "font": {
           "color": "#2a3f5f"
          },
          "geo": {
           "bgcolor": "white",
           "lakecolor": "white",
           "landcolor": "#E5ECF6",
           "showlakes": true,
           "showland": true,
           "subunitcolor": "white"
          },
          "hoverlabel": {
           "align": "left"
          },
          "hovermode": "closest",
          "mapbox": {
           "style": "light"
          },
          "paper_bgcolor": "white",
          "plot_bgcolor": "#E5ECF6",
          "polar": {
           "angularaxis": {
            "gridcolor": "white",
            "linecolor": "white",
            "ticks": ""
           },
           "bgcolor": "#E5ECF6",
           "radialaxis": {
            "gridcolor": "white",
            "linecolor": "white",
            "ticks": ""
           }
          },
          "scene": {
           "xaxis": {
            "backgroundcolor": "#E5ECF6",
            "gridcolor": "white",
            "gridwidth": 2,
            "linecolor": "white",
            "showbackground": true,
            "ticks": "",
            "zerolinecolor": "white"
           },
           "yaxis": {
            "backgroundcolor": "#E5ECF6",
            "gridcolor": "white",
            "gridwidth": 2,
            "linecolor": "white",
            "showbackground": true,
            "ticks": "",
            "zerolinecolor": "white"
           },
           "zaxis": {
            "backgroundcolor": "#E5ECF6",
            "gridcolor": "white",
            "gridwidth": 2,
            "linecolor": "white",
            "showbackground": true,
            "ticks": "",
            "zerolinecolor": "white"
           }
          },
          "shapedefaults": {
           "line": {
            "color": "#2a3f5f"
           }
          },
          "ternary": {
           "aaxis": {
            "gridcolor": "white",
            "linecolor": "white",
            "ticks": ""
           },
           "baxis": {
            "gridcolor": "white",
            "linecolor": "white",
            "ticks": ""
           },
           "bgcolor": "#E5ECF6",
           "caxis": {
            "gridcolor": "white",
            "linecolor": "white",
            "ticks": ""
           }
          },
          "title": {
           "x": 0.05
          },
          "xaxis": {
           "automargin": true,
           "gridcolor": "white",
           "linecolor": "white",
           "ticks": "",
           "title": {
            "standoff": 15
           },
           "zerolinecolor": "white",
           "zerolinewidth": 2
          },
          "yaxis": {
           "automargin": true,
           "gridcolor": "white",
           "linecolor": "white",
           "ticks": "",
           "title": {
            "standoff": 15
           },
           "zerolinecolor": "white",
           "zerolinewidth": 2
          }
         }
        },
        "title": {
         "font": {
          "color": "#4D5663"
         },
         "text": "Number of category kinds in pneumonia alive"
        },
        "xaxis": {
         "gridcolor": "#E1E5ED",
         "showgrid": true,
         "tickfont": {
          "color": "#4D5663"
         },
         "title": {
          "font": {
           "color": "#4D5663"
          },
          "text": ""
         },
         "zerolinecolor": "#E1E5ED"
        },
        "yaxis": {
         "gridcolor": "#E1E5ED",
         "showgrid": true,
         "tickfont": {
          "color": "#4D5663"
         },
         "title": {
          "font": {
           "color": "#4D5663"
          },
          "text": "Number of notes"
         },
         "zerolinecolor": "#E1E5ED"
        }
       }
      },
      "text/html": [
       "<div>\n",
       "        \n",
       "        \n",
       "            <div id=\"96648f42-f571-4920-89a3-0f03d5b94a24\" class=\"plotly-graph-div\" style=\"height:525px; width:100%;\"></div>\n",
       "            <script type=\"text/javascript\">\n",
       "                require([\"plotly\"], function(Plotly) {\n",
       "                    window.PLOTLYENV=window.PLOTLYENV || {};\n",
       "                    window.PLOTLYENV.BASE_URL='https://plot.ly';\n",
       "                    \n",
       "                if (document.getElementById(\"96648f42-f571-4920-89a3-0f03d5b94a24\")) {\n",
       "                    Plotly.newPlot(\n",
       "                        '96648f42-f571-4920-89a3-0f03d5b94a24',\n",
       "                        [{\"marker\": {\"color\": \"rgba(255, 153, 51, 0.6)\", \"line\": {\"color\": \"rgba(255, 153, 51, 1.0)\", \"width\": 1}}, \"name\": \"CATEGORY\", \"orientation\": \"v\", \"text\": \"\", \"type\": \"bar\", \"x\": [\"Nursing\", \"Nursing/other\", \"Radiology\", \"Physician \", \"ECG\", \"Respiratory \", \"General\", \"Echo\", \"Nutrition\", \"Social Work\", \"Case Management \", \"Rehab Services\", \"Consult\", \"Pharmacy\"], \"y\": [2682, 2650, 2275, 2212, 846, 623, 194, 167, 149, 42, 29, 24, 1, 1]}],\n",
       "                        {\"legend\": {\"bgcolor\": \"#F5F6F9\", \"font\": {\"color\": \"#4D5663\"}}, \"paper_bgcolor\": \"#F5F6F9\", \"plot_bgcolor\": \"#F5F6F9\", \"template\": {\"data\": {\"bar\": [{\"error_x\": {\"color\": \"#2a3f5f\"}, \"error_y\": {\"color\": \"#2a3f5f\"}, \"marker\": {\"line\": {\"color\": \"#E5ECF6\", \"width\": 0.5}}, \"type\": \"bar\"}], \"barpolar\": [{\"marker\": {\"line\": {\"color\": \"#E5ECF6\", \"width\": 0.5}}, \"type\": \"barpolar\"}], \"carpet\": [{\"aaxis\": {\"endlinecolor\": \"#2a3f5f\", \"gridcolor\": \"white\", \"linecolor\": \"white\", \"minorgridcolor\": \"white\", \"startlinecolor\": \"#2a3f5f\"}, \"baxis\": {\"endlinecolor\": \"#2a3f5f\", \"gridcolor\": \"white\", \"linecolor\": \"white\", \"minorgridcolor\": \"white\", \"startlinecolor\": \"#2a3f5f\"}, \"type\": \"carpet\"}], \"choropleth\": [{\"colorbar\": {\"outlinewidth\": 0, \"ticks\": \"\"}, \"type\": \"choropleth\"}], \"contour\": [{\"colorbar\": {\"outlinewidth\": 0, \"ticks\": \"\"}, \"colorscale\": [[0.0, \"#0d0887\"], [0.1111111111111111, \"#46039f\"], [0.2222222222222222, \"#7201a8\"], [0.3333333333333333, \"#9c179e\"], [0.4444444444444444, \"#bd3786\"], [0.5555555555555556, \"#d8576b\"], [0.6666666666666666, \"#ed7953\"], [0.7777777777777778, \"#fb9f3a\"], [0.8888888888888888, \"#fdca26\"], [1.0, \"#f0f921\"]], \"type\": \"contour\"}], \"contourcarpet\": [{\"colorbar\": {\"outlinewidth\": 0, \"ticks\": \"\"}, \"type\": \"contourcarpet\"}], \"heatmap\": [{\"colorbar\": {\"outlinewidth\": 0, \"ticks\": \"\"}, \"colorscale\": [[0.0, \"#0d0887\"], [0.1111111111111111, \"#46039f\"], [0.2222222222222222, \"#7201a8\"], [0.3333333333333333, \"#9c179e\"], [0.4444444444444444, \"#bd3786\"], [0.5555555555555556, \"#d8576b\"], [0.6666666666666666, \"#ed7953\"], [0.7777777777777778, \"#fb9f3a\"], [0.8888888888888888, \"#fdca26\"], [1.0, \"#f0f921\"]], \"type\": \"heatmap\"}], \"heatmapgl\": [{\"colorbar\": {\"outlinewidth\": 0, \"ticks\": \"\"}, \"colorscale\": [[0.0, \"#0d0887\"], [0.1111111111111111, \"#46039f\"], [0.2222222222222222, \"#7201a8\"], [0.3333333333333333, \"#9c179e\"], [0.4444444444444444, \"#bd3786\"], [0.5555555555555556, \"#d8576b\"], [0.6666666666666666, \"#ed7953\"], [0.7777777777777778, \"#fb9f3a\"], [0.8888888888888888, \"#fdca26\"], [1.0, \"#f0f921\"]], \"type\": \"heatmapgl\"}], \"histogram\": [{\"marker\": {\"colorbar\": {\"outlinewidth\": 0, \"ticks\": \"\"}}, \"type\": \"histogram\"}], \"histogram2d\": [{\"colorbar\": {\"outlinewidth\": 0, \"ticks\": \"\"}, \"colorscale\": [[0.0, \"#0d0887\"], [0.1111111111111111, \"#46039f\"], [0.2222222222222222, \"#7201a8\"], [0.3333333333333333, \"#9c179e\"], [0.4444444444444444, \"#bd3786\"], [0.5555555555555556, \"#d8576b\"], [0.6666666666666666, \"#ed7953\"], [0.7777777777777778, \"#fb9f3a\"], [0.8888888888888888, \"#fdca26\"], [1.0, \"#f0f921\"]], \"type\": \"histogram2d\"}], \"histogram2dcontour\": [{\"colorbar\": {\"outlinewidth\": 0, \"ticks\": \"\"}, \"colorscale\": [[0.0, \"#0d0887\"], [0.1111111111111111, \"#46039f\"], [0.2222222222222222, \"#7201a8\"], [0.3333333333333333, \"#9c179e\"], [0.4444444444444444, \"#bd3786\"], [0.5555555555555556, \"#d8576b\"], [0.6666666666666666, \"#ed7953\"], [0.7777777777777778, \"#fb9f3a\"], [0.8888888888888888, \"#fdca26\"], [1.0, \"#f0f921\"]], \"type\": \"histogram2dcontour\"}], \"mesh3d\": [{\"colorbar\": {\"outlinewidth\": 0, \"ticks\": \"\"}, \"type\": \"mesh3d\"}], \"parcoords\": [{\"line\": {\"colorbar\": {\"outlinewidth\": 0, \"ticks\": \"\"}}, \"type\": \"parcoords\"}], \"pie\": [{\"automargin\": true, \"type\": \"pie\"}], \"scatter\": [{\"marker\": {\"colorbar\": {\"outlinewidth\": 0, \"ticks\": \"\"}}, \"type\": \"scatter\"}], \"scatter3d\": [{\"line\": {\"colorbar\": {\"outlinewidth\": 0, \"ticks\": \"\"}}, \"marker\": {\"colorbar\": {\"outlinewidth\": 0, \"ticks\": \"\"}}, \"type\": \"scatter3d\"}], \"scattercarpet\": [{\"marker\": {\"colorbar\": {\"outlinewidth\": 0, \"ticks\": \"\"}}, \"type\": \"scattercarpet\"}], \"scattergeo\": [{\"marker\": {\"colorbar\": {\"outlinewidth\": 0, \"ticks\": \"\"}}, \"type\": \"scattergeo\"}], \"scattergl\": [{\"marker\": {\"colorbar\": {\"outlinewidth\": 0, \"ticks\": \"\"}}, \"type\": \"scattergl\"}], \"scattermapbox\": [{\"marker\": {\"colorbar\": {\"outlinewidth\": 0, \"ticks\": \"\"}}, \"type\": \"scattermapbox\"}], \"scatterpolar\": [{\"marker\": {\"colorbar\": {\"outlinewidth\": 0, \"ticks\": \"\"}}, \"type\": \"scatterpolar\"}], \"scatterpolargl\": [{\"marker\": {\"colorbar\": {\"outlinewidth\": 0, \"ticks\": \"\"}}, \"type\": \"scatterpolargl\"}], \"scatterternary\": [{\"marker\": {\"colorbar\": {\"outlinewidth\": 0, \"ticks\": \"\"}}, \"type\": \"scatterternary\"}], \"surface\": [{\"colorbar\": {\"outlinewidth\": 0, \"ticks\": \"\"}, \"colorscale\": [[0.0, \"#0d0887\"], [0.1111111111111111, \"#46039f\"], [0.2222222222222222, \"#7201a8\"], [0.3333333333333333, \"#9c179e\"], [0.4444444444444444, \"#bd3786\"], [0.5555555555555556, \"#d8576b\"], [0.6666666666666666, \"#ed7953\"], [0.7777777777777778, \"#fb9f3a\"], [0.8888888888888888, \"#fdca26\"], [1.0, \"#f0f921\"]], \"type\": \"surface\"}], \"table\": [{\"cells\": {\"fill\": {\"color\": \"#EBF0F8\"}, \"line\": {\"color\": \"white\"}}, \"header\": {\"fill\": {\"color\": \"#C8D4E3\"}, \"line\": {\"color\": \"white\"}}, \"type\": \"table\"}]}, \"layout\": {\"annotationdefaults\": {\"arrowcolor\": \"#2a3f5f\", \"arrowhead\": 0, \"arrowwidth\": 1}, \"coloraxis\": {\"colorbar\": {\"outlinewidth\": 0, \"ticks\": \"\"}}, \"colorscale\": {\"diverging\": [[0, \"#8e0152\"], [0.1, \"#c51b7d\"], [0.2, \"#de77ae\"], [0.3, \"#f1b6da\"], [0.4, \"#fde0ef\"], [0.5, \"#f7f7f7\"], [0.6, \"#e6f5d0\"], [0.7, \"#b8e186\"], [0.8, \"#7fbc41\"], [0.9, \"#4d9221\"], [1, \"#276419\"]], \"sequential\": [[0.0, \"#0d0887\"], [0.1111111111111111, \"#46039f\"], [0.2222222222222222, \"#7201a8\"], [0.3333333333333333, \"#9c179e\"], [0.4444444444444444, \"#bd3786\"], [0.5555555555555556, \"#d8576b\"], [0.6666666666666666, \"#ed7953\"], [0.7777777777777778, \"#fb9f3a\"], [0.8888888888888888, \"#fdca26\"], [1.0, \"#f0f921\"]], \"sequentialminus\": [[0.0, \"#0d0887\"], [0.1111111111111111, \"#46039f\"], [0.2222222222222222, \"#7201a8\"], [0.3333333333333333, \"#9c179e\"], [0.4444444444444444, \"#bd3786\"], [0.5555555555555556, \"#d8576b\"], [0.6666666666666666, \"#ed7953\"], [0.7777777777777778, \"#fb9f3a\"], [0.8888888888888888, \"#fdca26\"], [1.0, \"#f0f921\"]]}, \"colorway\": [\"#636efa\", \"#EF553B\", \"#00cc96\", \"#ab63fa\", \"#FFA15A\", \"#19d3f3\", \"#FF6692\", \"#B6E880\", \"#FF97FF\", \"#FECB52\"], \"font\": {\"color\": \"#2a3f5f\"}, \"geo\": {\"bgcolor\": \"white\", \"lakecolor\": \"white\", \"landcolor\": \"#E5ECF6\", \"showlakes\": true, \"showland\": true, \"subunitcolor\": \"white\"}, \"hoverlabel\": {\"align\": \"left\"}, \"hovermode\": \"closest\", \"mapbox\": {\"style\": \"light\"}, \"paper_bgcolor\": \"white\", \"plot_bgcolor\": \"#E5ECF6\", \"polar\": {\"angularaxis\": {\"gridcolor\": \"white\", \"linecolor\": \"white\", \"ticks\": \"\"}, \"bgcolor\": \"#E5ECF6\", \"radialaxis\": {\"gridcolor\": \"white\", \"linecolor\": \"white\", \"ticks\": \"\"}}, \"scene\": {\"xaxis\": {\"backgroundcolor\": \"#E5ECF6\", \"gridcolor\": \"white\", \"gridwidth\": 2, \"linecolor\": \"white\", \"showbackground\": true, \"ticks\": \"\", \"zerolinecolor\": \"white\"}, \"yaxis\": {\"backgroundcolor\": \"#E5ECF6\", \"gridcolor\": \"white\", \"gridwidth\": 2, \"linecolor\": \"white\", \"showbackground\": true, \"ticks\": \"\", \"zerolinecolor\": \"white\"}, \"zaxis\": {\"backgroundcolor\": \"#E5ECF6\", \"gridcolor\": \"white\", \"gridwidth\": 2, \"linecolor\": \"white\", \"showbackground\": true, \"ticks\": \"\", \"zerolinecolor\": \"white\"}}, \"shapedefaults\": {\"line\": {\"color\": \"#2a3f5f\"}}, \"ternary\": {\"aaxis\": {\"gridcolor\": \"white\", \"linecolor\": \"white\", \"ticks\": \"\"}, \"baxis\": {\"gridcolor\": \"white\", \"linecolor\": \"white\", \"ticks\": \"\"}, \"bgcolor\": \"#E5ECF6\", \"caxis\": {\"gridcolor\": \"white\", \"linecolor\": \"white\", \"ticks\": \"\"}}, \"title\": {\"x\": 0.05}, \"xaxis\": {\"automargin\": true, \"gridcolor\": \"white\", \"linecolor\": \"white\", \"ticks\": \"\", \"title\": {\"standoff\": 15}, \"zerolinecolor\": \"white\", \"zerolinewidth\": 2}, \"yaxis\": {\"automargin\": true, \"gridcolor\": \"white\", \"linecolor\": \"white\", \"ticks\": \"\", \"title\": {\"standoff\": 15}, \"zerolinecolor\": \"white\", \"zerolinewidth\": 2}}}, \"title\": {\"font\": {\"color\": \"#4D5663\"}, \"text\": \"Number of category kinds in pneumonia alive\"}, \"xaxis\": {\"gridcolor\": \"#E1E5ED\", \"showgrid\": true, \"tickfont\": {\"color\": \"#4D5663\"}, \"title\": {\"font\": {\"color\": \"#4D5663\"}, \"text\": \"\"}, \"zerolinecolor\": \"#E1E5ED\"}, \"yaxis\": {\"gridcolor\": \"#E1E5ED\", \"showgrid\": true, \"tickfont\": {\"color\": \"#4D5663\"}, \"title\": {\"font\": {\"color\": \"#4D5663\"}, \"text\": \"Number of notes\"}, \"zerolinecolor\": \"#E1E5ED\"}},\n",
       "                        {\"showLink\": true, \"linkText\": \"Export to plot.ly\", \"plotlyServerURL\": \"https://plot.ly\", \"responsive\": true}\n",
       "                    ).then(function(){\n",
       "                            \n",
       "var gd = document.getElementById('96648f42-f571-4920-89a3-0f03d5b94a24');\n",
       "var x = new MutationObserver(function (mutations, observer) {{\n",
       "        var display = window.getComputedStyle(gd).display;\n",
       "        if (!display || display === 'none') {{\n",
       "            console.log([gd, 'removed!']);\n",
       "            Plotly.purge(gd);\n",
       "            observer.disconnect();\n",
       "        }}\n",
       "}});\n",
       "\n",
       "// Listen for the removal of the full notebook cells\n",
       "var notebookContainer = gd.closest('#notebook-container');\n",
       "if (notebookContainer) {{\n",
       "    x.observe(notebookContainer, {childList: true});\n",
       "}}\n",
       "\n",
       "// Listen for the clearing of the current output cell\n",
       "var outputEl = gd.closest('.output');\n",
       "if (outputEl) {{\n",
       "    x.observe(outputEl, {childList: true});\n",
       "}}\n",
       "\n",
       "                        })\n",
       "                };\n",
       "                });\n",
       "            </script>\n",
       "        </div>"
      ]
     },
     "metadata": {},
     "output_type": "display_data"
    }
   ],
   "source": [
    "pneumonia_dead_no_disch['CATEGORY'].value_counts().sort_values(ascending=False).iplot(kind='bar', yTitle='Number of notes', \n",
    "                                                                title='Number of category kinds in pneumonia alive')"
   ]
  },
  {
   "cell_type": "code",
   "execution_count": 25,
   "metadata": {},
   "outputs": [
    {
     "data": {
      "text/html": [
       "<div>\n",
       "<style scoped>\n",
       "    .dataframe tbody tr th:only-of-type {\n",
       "        vertical-align: middle;\n",
       "    }\n",
       "\n",
       "    .dataframe tbody tr th {\n",
       "        vertical-align: top;\n",
       "    }\n",
       "\n",
       "    .dataframe thead th {\n",
       "        text-align: right;\n",
       "    }\n",
       "</style>\n",
       "<table border=\"1\" class=\"dataframe\">\n",
       "  <thead>\n",
       "    <tr style=\"text-align: right;\">\n",
       "      <th></th>\n",
       "      <th>ROW_ID_x</th>\n",
       "      <th>SUBJECT_ID_x</th>\n",
       "      <th>CHARTDATE</th>\n",
       "      <th>STORETIME</th>\n",
       "      <th>CATEGORY</th>\n",
       "      <th>DESCRIPTION</th>\n",
       "      <th>TEXT</th>\n",
       "      <th>DEATHTIME</th>\n",
       "    </tr>\n",
       "  </thead>\n",
       "  <tbody>\n",
       "    <tr>\n",
       "      <th>137480</th>\n",
       "      <td>149869</td>\n",
       "      <td>68</td>\n",
       "      <td>2173-12-15</td>\n",
       "      <td>NaN</td>\n",
       "      <td>ECG</td>\n",
       "      <td>Report</td>\n",
       "      <td>Sinus tachycardia. Compared to the previous tr...</td>\n",
       "      <td>NaN</td>\n",
       "    </tr>\n",
       "    <tr>\n",
       "      <th>137481</th>\n",
       "      <td>149870</td>\n",
       "      <td>68</td>\n",
       "      <td>2173-12-15</td>\n",
       "      <td>NaN</td>\n",
       "      <td>ECG</td>\n",
       "      <td>Report</td>\n",
       "      <td>Sinus rhythm. Delayed anterior precordial R wa...</td>\n",
       "      <td>NaN</td>\n",
       "    </tr>\n",
       "    <tr>\n",
       "      <th>1259578</th>\n",
       "      <td>1261173</td>\n",
       "      <td>68</td>\n",
       "      <td>2173-12-16</td>\n",
       "      <td>2173-12-16 05:09:00</td>\n",
       "      <td>Nursing/other</td>\n",
       "      <td>Report</td>\n",
       "      <td>Micu nsg admission note\\n41yo female with AIDS...</td>\n",
       "      <td>NaN</td>\n",
       "    </tr>\n",
       "    <tr>\n",
       "      <th>1259579</th>\n",
       "      <td>1261174</td>\n",
       "      <td>68</td>\n",
       "      <td>2173-12-16</td>\n",
       "      <td>2173-12-16 17:08:00</td>\n",
       "      <td>Nursing/other</td>\n",
       "      <td>Report</td>\n",
       "      <td>NSG 0700-1900\\nEvents: Attempted eating breakf...</td>\n",
       "      <td>NaN</td>\n",
       "    </tr>\n",
       "    <tr>\n",
       "      <th>1258821</th>\n",
       "      <td>1261175</td>\n",
       "      <td>68</td>\n",
       "      <td>2173-12-16</td>\n",
       "      <td>2173-12-16 17:18:00</td>\n",
       "      <td>Nursing/other</td>\n",
       "      <td>Report</td>\n",
       "      <td>Resp Care\\n\\nSputum induction obtained for PCP...</td>\n",
       "      <td>NaN</td>\n",
       "    </tr>\n",
       "    <tr>\n",
       "      <th>...</th>\n",
       "      <td>...</td>\n",
       "      <td>...</td>\n",
       "      <td>...</td>\n",
       "      <td>...</td>\n",
       "      <td>...</td>\n",
       "      <td>...</td>\n",
       "      <td>...</td>\n",
       "      <td>...</td>\n",
       "    </tr>\n",
       "    <tr>\n",
       "      <th>1129253</th>\n",
       "      <td>1138542</td>\n",
       "      <td>99937</td>\n",
       "      <td>2128-05-11</td>\n",
       "      <td>NaN</td>\n",
       "      <td>Radiology</td>\n",
       "      <td>CHEST (PORTABLE AP)</td>\n",
       "      <td>[**2128-5-11**] 11:57 AM\\n CHEST (PORTABLE AP)...</td>\n",
       "      <td>NaN</td>\n",
       "    </tr>\n",
       "    <tr>\n",
       "      <th>1129150</th>\n",
       "      <td>1138569</td>\n",
       "      <td>99937</td>\n",
       "      <td>2128-05-11</td>\n",
       "      <td>NaN</td>\n",
       "      <td>Radiology</td>\n",
       "      <td>CTA CHEST W&amp;W/O C&amp;RECONS, NON-CORONARY</td>\n",
       "      <td>[**2128-5-11**] 1:44 PM\\n CTA CHEST W&amp;W/O C&amp;RE...</td>\n",
       "      <td>NaN</td>\n",
       "    </tr>\n",
       "    <tr>\n",
       "      <th>148040</th>\n",
       "      <td>130595</td>\n",
       "      <td>99937</td>\n",
       "      <td>2128-05-12</td>\n",
       "      <td>NaN</td>\n",
       "      <td>ECG</td>\n",
       "      <td>Report</td>\n",
       "      <td>Normal sinus rhythm. Compared to tracing #1 no...</td>\n",
       "      <td>NaN</td>\n",
       "    </tr>\n",
       "    <tr>\n",
       "      <th>1129514</th>\n",
       "      <td>1138666</td>\n",
       "      <td>99937</td>\n",
       "      <td>2128-05-12</td>\n",
       "      <td>NaN</td>\n",
       "      <td>Radiology</td>\n",
       "      <td>CHEST (PORTABLE AP)</td>\n",
       "      <td>[**2128-5-12**] 7:27 AM\\n CHEST (PORTABLE AP) ...</td>\n",
       "      <td>NaN</td>\n",
       "    </tr>\n",
       "    <tr>\n",
       "      <th>65449</th>\n",
       "      <td>65037</td>\n",
       "      <td>99937</td>\n",
       "      <td>2128-05-13</td>\n",
       "      <td>NaN</td>\n",
       "      <td>Echo</td>\n",
       "      <td>Report</td>\n",
       "      <td>PATIENT/TEST INFORMATION:\\nIndication: Left ve...</td>\n",
       "      <td>NaN</td>\n",
       "    </tr>\n",
       "  </tbody>\n",
       "</table>\n",
       "<p>46134 rows × 8 columns</p>\n",
       "</div>"
      ],
      "text/plain": [
       "         ROW_ID_x  SUBJECT_ID_x   CHARTDATE            STORETIME  \\\n",
       "137480     149869            68  2173-12-15                  NaN   \n",
       "137481     149870            68  2173-12-15                  NaN   \n",
       "1259578   1261173            68  2173-12-16  2173-12-16 05:09:00   \n",
       "1259579   1261174            68  2173-12-16  2173-12-16 17:08:00   \n",
       "1258821   1261175            68  2173-12-16  2173-12-16 17:18:00   \n",
       "...           ...           ...         ...                  ...   \n",
       "1129253   1138542         99937  2128-05-11                  NaN   \n",
       "1129150   1138569         99937  2128-05-11                  NaN   \n",
       "148040     130595         99937  2128-05-12                  NaN   \n",
       "1129514   1138666         99937  2128-05-12                  NaN   \n",
       "65449       65037         99937  2128-05-13                  NaN   \n",
       "\n",
       "              CATEGORY                             DESCRIPTION  \\\n",
       "137480             ECG                                  Report   \n",
       "137481             ECG                                  Report   \n",
       "1259578  Nursing/other                                  Report   \n",
       "1259579  Nursing/other                                  Report   \n",
       "1258821  Nursing/other                                  Report   \n",
       "...                ...                                     ...   \n",
       "1129253      Radiology                     CHEST (PORTABLE AP)   \n",
       "1129150      Radiology  CTA CHEST W&W/O C&RECONS, NON-CORONARY   \n",
       "148040             ECG                                  Report   \n",
       "1129514      Radiology                     CHEST (PORTABLE AP)   \n",
       "65449             Echo                                  Report   \n",
       "\n",
       "                                                      TEXT DEATHTIME  \n",
       "137480   Sinus tachycardia. Compared to the previous tr...       NaN  \n",
       "137481   Sinus rhythm. Delayed anterior precordial R wa...       NaN  \n",
       "1259578  Micu nsg admission note\\n41yo female with AIDS...       NaN  \n",
       "1259579  NSG 0700-1900\\nEvents: Attempted eating breakf...       NaN  \n",
       "1258821  Resp Care\\n\\nSputum induction obtained for PCP...       NaN  \n",
       "...                                                    ...       ...  \n",
       "1129253  [**2128-5-11**] 11:57 AM\\n CHEST (PORTABLE AP)...       NaN  \n",
       "1129150  [**2128-5-11**] 1:44 PM\\n CTA CHEST W&W/O C&RE...       NaN  \n",
       "148040   Normal sinus rhythm. Compared to tracing #1 no...       NaN  \n",
       "1129514  [**2128-5-12**] 7:27 AM\\n CHEST (PORTABLE AP) ...       NaN  \n",
       "65449    PATIENT/TEST INFORMATION:\\nIndication: Left ve...       NaN  \n",
       "\n",
       "[46134 rows x 8 columns]"
      ]
     },
     "execution_count": 25,
     "metadata": {},
     "output_type": "execute_result"
    }
   ],
   "source": [
    "pneumonia_alive_no_disch"
   ]
  },
  {
   "cell_type": "code",
   "execution_count": 26,
   "metadata": {},
   "outputs": [
    {
     "data": {
      "text/plain": [
       "252"
      ]
     },
     "execution_count": 26,
     "metadata": {},
     "output_type": "execute_result"
    }
   ],
   "source": [
    "# Number of patients\n",
    "pneumonia_dead_no_disch['SUBJECT_ID_x'].nunique()"
   ]
  },
  {
   "cell_type": "code",
   "execution_count": 27,
   "metadata": {
    "scrolled": true
   },
   "outputs": [
    {
     "data": {
      "text/plain": [
       "1167"
      ]
     },
     "execution_count": 27,
     "metadata": {},
     "output_type": "execute_result"
    }
   ],
   "source": [
    "# Number of patients\n",
    "pneumonia_alive_no_disch['SUBJECT_ID_x'].nunique()"
   ]
  },
  {
   "cell_type": "code",
   "execution_count": 28,
   "metadata": {},
   "outputs": [],
   "source": [
    "# import text handling tool\n",
    "from nltk.tokenize import word_tokenize\n",
    "from nltk.corpus import stopwords\n",
    "from nltk.stem import PorterStemmer\n",
    "\n",
    "from collections import Counter\n",
    "\n",
    "import sys\n",
    "import re\n",
    "import csv\n",
    "import os.path\n",
    "\n",
    "# define constants\n",
    "# RESULT_HEADER = \"WORD, FREQUENCY\\n\"\n",
    "MIN_SEQ_LEN = 4\n",
    "USE_1_N_SEQ = 2\n",
    "\n",
    "\n",
    "# words that do not have meaning (can be modified later)\n",
    "USELESS_WORDS = [\"a\", \"the\", \"he\", \"she\", \",\", \".\", \"?\", \"!\", \":\", \";\", \"+\", \"*\", \"**\"\\\n",
    "                 \"your\", \"you\"]\n",
    "\n",
    "# count up the frequency of every word in every disease file\n",
    "stemmer = PorterStemmer()\n",
    "# create set of words to ignore in text\n",
    "stop_words = set(stopwords.words('english'))\n",
    "\n",
    "for word in USELESS_WORDS:\n",
    "    stop_words.add(word)"
   ]
  },
  {
   "cell_type": "code",
   "execution_count": null,
   "metadata": {},
   "outputs": [],
   "source": []
  },
  {
   "cell_type": "code",
   "execution_count": 29,
   "metadata": {},
   "outputs": [
    {
     "name": "stderr",
     "output_type": "stream",
     "text": [
      "100%|██████████| 11895/11895 [00:01<00:00, 8558.42it/s]\n",
      "100%|██████████| 46134/46134 [00:05<00:00, 8560.81it/s]\n"
     ]
    }
   ],
   "source": [
    "\n",
    "#----------\n",
    "def count_notes_per_patient(disease_df):\n",
    "    patient_id_to_num_notes = {}\n",
    "    patient_id = -1\n",
    "    note_counter = 0\n",
    "            \n",
    "    for index, row in tqdm(disease_df.iterrows(), total=disease_df.shape[0]):\n",
    "        patient_id_check = int(row['SUBJECT_ID_x'])\n",
    "                \n",
    "        if not patient_id == patient_id_check:\n",
    "            patient_id_to_num_notes[patient_id] = note_counter\n",
    "            note_counter = 1\n",
    "        else:\n",
    "            note_counter += 1\n",
    "                    \n",
    "        patient_id = patient_id_check\n",
    "                \n",
    "    patient_id_to_num_notes[patient_id] = note_counter\n",
    "    del patient_id_to_num_notes[-1]\n",
    "    return patient_id_to_num_notes\n",
    "\n",
    "patient_id_to_num_notes = {}\n",
    "patient_id_to_num_notes['pneumonia_dead'] = count_notes_per_patient(pneumonia_dead_no_disch)\n",
    "patient_id_to_num_notes['pneumonia_alive'] = count_notes_per_patient(pneumonia_alive_no_disch)"
   ]
  },
  {
   "cell_type": "code",
   "execution_count": 30,
   "metadata": {},
   "outputs": [
    {
     "data": {
      "text/plain": [
       "{'pneumonia_dead': {111: 12,\n",
       "  346: 25,\n",
       "  404: 3,\n",
       "  546: 6,\n",
       "  618: 16,\n",
       "  705: 15,\n",
       "  726: 48,\n",
       "  1039: 55,\n",
       "  1556: 37,\n",
       "  1872: 3,\n",
       "  1944: 56,\n",
       "  2286: 69,\n",
       "  2990: 166,\n",
       "  3055: 29,\n",
       "  3099: 13,\n",
       "  3201: 8,\n",
       "  3526: 7,\n",
       "  3773: 6,\n",
       "  3881: 20,\n",
       "  4122: 51,\n",
       "  4754: 101,\n",
       "  4811: 21,\n",
       "  5476: 1,\n",
       "  5494: 22,\n",
       "  5774: 104,\n",
       "  5786: 152,\n",
       "  5913: 1,\n",
       "  6133: 68,\n",
       "  6735: 13,\n",
       "  6745: 13,\n",
       "  6973: 36,\n",
       "  6981: 8,\n",
       "  7277: 66,\n",
       "  7310: 8,\n",
       "  7924: 9,\n",
       "  7977: 9,\n",
       "  9908: 11,\n",
       "  9984: 15,\n",
       "  10302: 100,\n",
       "  10510: 86,\n",
       "  10545: 10,\n",
       "  10642: 10,\n",
       "  11049: 14,\n",
       "  11209: 9,\n",
       "  11395: 41,\n",
       "  12530: 24,\n",
       "  12849: 50,\n",
       "  13098: 46,\n",
       "  13566: 23,\n",
       "  14125: 9,\n",
       "  14514: 96,\n",
       "  14965: 25,\n",
       "  15159: 15,\n",
       "  15251: 11,\n",
       "  15396: 17,\n",
       "  15566: 37,\n",
       "  15853: 45,\n",
       "  16275: 17,\n",
       "  16344: 27,\n",
       "  16622: 51,\n",
       "  16684: 29,\n",
       "  17122: 16,\n",
       "  17354: 5,\n",
       "  17802: 64,\n",
       "  17983: 65,\n",
       "  18094: 23,\n",
       "  18736: 35,\n",
       "  18768: 46,\n",
       "  18848: 205,\n",
       "  18971: 26,\n",
       "  19243: 25,\n",
       "  19323: 6,\n",
       "  19390: 21,\n",
       "  19463: 20,\n",
       "  19535: 59,\n",
       "  19754: 13,\n",
       "  19827: 22,\n",
       "  19833: 58,\n",
       "  19872: 10,\n",
       "  20006: 8,\n",
       "  20023: 9,\n",
       "  20190: 6,\n",
       "  21046: 101,\n",
       "  21094: 36,\n",
       "  21427: 10,\n",
       "  21502: 102,\n",
       "  21580: 52,\n",
       "  21676: 12,\n",
       "  21699: 7,\n",
       "  21979: 11,\n",
       "  22735: 15,\n",
       "  23660: 12,\n",
       "  23795: 78,\n",
       "  24181: 13,\n",
       "  24582: 37,\n",
       "  24725: 57,\n",
       "  24730: 19,\n",
       "  24854: 25,\n",
       "  25003: 182,\n",
       "  25046: 7,\n",
       "  25774: 61,\n",
       "  25975: 9,\n",
       "  26474: 89,\n",
       "  26578: 15,\n",
       "  26716: 41,\n",
       "  26774: 3,\n",
       "  26849: 33,\n",
       "  27005: 5,\n",
       "  27145: 24,\n",
       "  27421: 61,\n",
       "  27431: 5,\n",
       "  27496: 7,\n",
       "  27504: 72,\n",
       "  27639: 221,\n",
       "  28004: 13,\n",
       "  28072: 34,\n",
       "  28178: 202,\n",
       "  28427: 6,\n",
       "  28498: 25,\n",
       "  28726: 34,\n",
       "  28750: 19,\n",
       "  28906: 32,\n",
       "  28907: 13,\n",
       "  28933: 394,\n",
       "  29105: 468,\n",
       "  29588: 72,\n",
       "  29647: 26,\n",
       "  29872: 225,\n",
       "  30476: 174,\n",
       "  30549: 12,\n",
       "  30614: 8,\n",
       "  30699: 14,\n",
       "  30786: 9,\n",
       "  30941: 110,\n",
       "  31030: 168,\n",
       "  31134: 24,\n",
       "  31139: 9,\n",
       "  31451: 48,\n",
       "  31556: 57,\n",
       "  31690: 18,\n",
       "  31692: 35,\n",
       "  32050: 34,\n",
       "  32326: 24,\n",
       "  32618: 42,\n",
       "  41546: 25,\n",
       "  43937: 6,\n",
       "  44851: 274,\n",
       "  45381: 16,\n",
       "  46589: 26,\n",
       "  46763: 6,\n",
       "  47045: 9,\n",
       "  48632: 147,\n",
       "  49079: 20,\n",
       "  49683: 3,\n",
       "  49922: 13,\n",
       "  50093: 8,\n",
       "  50231: 3,\n",
       "  50556: 216,\n",
       "  50859: 537,\n",
       "  51914: 313,\n",
       "  52010: 12,\n",
       "  53105: 115,\n",
       "  53399: 78,\n",
       "  54193: 85,\n",
       "  54401: 14,\n",
       "  54408: 2,\n",
       "  54739: 75,\n",
       "  54946: 7,\n",
       "  55400: 5,\n",
       "  55570: 14,\n",
       "  55887: 37,\n",
       "  55944: 34,\n",
       "  55987: 20,\n",
       "  56390: 19,\n",
       "  56648: 8,\n",
       "  56854: 170,\n",
       "  57091: 88,\n",
       "  57102: 35,\n",
       "  58702: 479,\n",
       "  59260: 11,\n",
       "  59437: 26,\n",
       "  60849: 2,\n",
       "  60868: 6,\n",
       "  61652: 7,\n",
       "  61667: 30,\n",
       "  63039: 8,\n",
       "  65513: 8,\n",
       "  68044: 40,\n",
       "  68095: 23,\n",
       "  68184: 5,\n",
       "  68308: 8,\n",
       "  68860: 14,\n",
       "  69719: 13,\n",
       "  69745: 25,\n",
       "  69776: 17,\n",
       "  70226: 8,\n",
       "  70447: 9,\n",
       "  72930: 11,\n",
       "  73811: 9,\n",
       "  73888: 109,\n",
       "  74316: 2,\n",
       "  74444: 81,\n",
       "  74686: 75,\n",
       "  75824: 10,\n",
       "  76282: 21,\n",
       "  76827: 2,\n",
       "  77382: 10,\n",
       "  78241: 3,\n",
       "  78388: 14,\n",
       "  79008: 27,\n",
       "  79055: 21,\n",
       "  79222: 18,\n",
       "  79877: 156,\n",
       "  80637: 148,\n",
       "  80678: 9,\n",
       "  80737: 46,\n",
       "  80805: 79,\n",
       "  81437: 27,\n",
       "  82393: 5,\n",
       "  82769: 85,\n",
       "  83932: 2,\n",
       "  84474: 34,\n",
       "  85160: 8,\n",
       "  85258: 52,\n",
       "  85404: 11,\n",
       "  85797: 9,\n",
       "  86007: 35,\n",
       "  86394: 4,\n",
       "  86684: 11,\n",
       "  86832: 67,\n",
       "  86863: 8,\n",
       "  86872: 326,\n",
       "  88193: 16,\n",
       "  88660: 11,\n",
       "  90256: 18,\n",
       "  91350: 19,\n",
       "  92074: 28,\n",
       "  92278: 52,\n",
       "  92331: 42,\n",
       "  93422: 7,\n",
       "  94341: 2,\n",
       "  94997: 9,\n",
       "  95280: 23,\n",
       "  95803: 18,\n",
       "  95830: 33,\n",
       "  95933: 56,\n",
       "  96699: 85,\n",
       "  97181: 30,\n",
       "  97795: 60,\n",
       "  98009: 33,\n",
       "  98299: 29,\n",
       "  98597: 2},\n",
       " 'pneumonia_alive': {68: 18,\n",
       "  85: 8,\n",
       "  94: 100,\n",
       "  165: 2,\n",
       "  211: 24,\n",
       "  224: 8,\n",
       "  231: 75,\n",
       "  283: 131,\n",
       "  357: 17,\n",
       "  368: 45,\n",
       "  370: 13,\n",
       "  384: 26,\n",
       "  426: 10,\n",
       "  509: 34,\n",
       "  514: 7,\n",
       "  596: 23,\n",
       "  674: 16,\n",
       "  707: 29,\n",
       "  711: 537,\n",
       "  770: 83,\n",
       "  773: 74,\n",
       "  899: 17,\n",
       "  1096: 17,\n",
       "  1135: 32,\n",
       "  1163: 12,\n",
       "  1174: 42,\n",
       "  1180: 5,\n",
       "  1283: 3,\n",
       "  1332: 66,\n",
       "  1339: 134,\n",
       "  1546: 21,\n",
       "  1568: 22,\n",
       "  1601: 12,\n",
       "  1606: 13,\n",
       "  1642: 4,\n",
       "  1660: 23,\n",
       "  1895: 22,\n",
       "  1923: 23,\n",
       "  2029: 175,\n",
       "  2090: 179,\n",
       "  2098: 26,\n",
       "  2128: 31,\n",
       "  2170: 9,\n",
       "  2187: 30,\n",
       "  2208: 139,\n",
       "  2337: 8,\n",
       "  2378: 57,\n",
       "  2386: 18,\n",
       "  2452: 22,\n",
       "  2508: 22,\n",
       "  2561: 126,\n",
       "  2585: 9,\n",
       "  2589: 92,\n",
       "  2590: 5,\n",
       "  2628: 218,\n",
       "  2658: 16,\n",
       "  2732: 12,\n",
       "  2784: 23,\n",
       "  2823: 21,\n",
       "  3070: 8,\n",
       "  3100: 70,\n",
       "  3154: 22,\n",
       "  3220: 28,\n",
       "  3277: 35,\n",
       "  3347: 15,\n",
       "  3359: 15,\n",
       "  3516: 11,\n",
       "  3602: 18,\n",
       "  3623: 116,\n",
       "  3641: 57,\n",
       "  3676: 49,\n",
       "  3830: 80,\n",
       "  3860: 203,\n",
       "  3862: 22,\n",
       "  3865: 8,\n",
       "  3895: 6,\n",
       "  3935: 44,\n",
       "  3952: 20,\n",
       "  3975: 34,\n",
       "  4109: 9,\n",
       "  4155: 23,\n",
       "  4236: 14,\n",
       "  4275: 45,\n",
       "  4316: 13,\n",
       "  4317: 106,\n",
       "  4328: 23,\n",
       "  4388: 14,\n",
       "  4454: 5,\n",
       "  4467: 12,\n",
       "  4489: 21,\n",
       "  4494: 18,\n",
       "  4584: 39,\n",
       "  4588: 80,\n",
       "  4641: 23,\n",
       "  4694: 19,\n",
       "  4804: 6,\n",
       "  5030: 49,\n",
       "  5145: 9,\n",
       "  5244: 113,\n",
       "  5264: 115,\n",
       "  5360: 19,\n",
       "  5434: 24,\n",
       "  5476: 36,\n",
       "  5516: 31,\n",
       "  5536: 21,\n",
       "  5564: 30,\n",
       "  5579: 14,\n",
       "  5609: 39,\n",
       "  5619: 25,\n",
       "  5631: 9,\n",
       "  5681: 9,\n",
       "  5691: 12,\n",
       "  5727: 41,\n",
       "  5761: 85,\n",
       "  5819: 19,\n",
       "  5904: 16,\n",
       "  5937: 61,\n",
       "  6038: 4,\n",
       "  6143: 15,\n",
       "  6176: 5,\n",
       "  6183: 17,\n",
       "  6206: 7,\n",
       "  6279: 20,\n",
       "  6378: 112,\n",
       "  6398: 11,\n",
       "  6557: 16,\n",
       "  6603: 15,\n",
       "  6884: 43,\n",
       "  6901: 8,\n",
       "  6915: 190,\n",
       "  7107: 230,\n",
       "  7169: 9,\n",
       "  7271: 117,\n",
       "  7356: 12,\n",
       "  7363: 284,\n",
       "  7492: 58,\n",
       "  7569: 32,\n",
       "  7603: 39,\n",
       "  7666: 9,\n",
       "  7700: 68,\n",
       "  7787: 18,\n",
       "  7849: 96,\n",
       "  7936: 3,\n",
       "  8070: 69,\n",
       "  8312: 29,\n",
       "  8337: 22,\n",
       "  8366: 25,\n",
       "  8471: 15,\n",
       "  8512: 16,\n",
       "  8515: 21,\n",
       "  8532: 9,\n",
       "  8556: 71,\n",
       "  8803: 4,\n",
       "  8895: 10,\n",
       "  8900: 11,\n",
       "  9124: 18,\n",
       "  9128: 2,\n",
       "  9253: 76,\n",
       "  9304: 12,\n",
       "  9332: 7,\n",
       "  9457: 6,\n",
       "  9505: 2,\n",
       "  9518: 80,\n",
       "  9544: 228,\n",
       "  9727: 37,\n",
       "  9736: 19,\n",
       "  9859: 12,\n",
       "  9871: 17,\n",
       "  9957: 15,\n",
       "  9973: 59,\n",
       "  10057: 144,\n",
       "  10207: 36,\n",
       "  10299: 167,\n",
       "  10304: 8,\n",
       "  10377: 125,\n",
       "  10502: 9,\n",
       "  10581: 11,\n",
       "  10589: 18,\n",
       "  10626: 72,\n",
       "  10635: 6,\n",
       "  10666: 84,\n",
       "  10675: 13,\n",
       "  10761: 9,\n",
       "  10830: 14,\n",
       "  10848: 16,\n",
       "  10950: 23,\n",
       "  11003: 63,\n",
       "  11018: 24,\n",
       "  11061: 11,\n",
       "  11065: 40,\n",
       "  11197: 14,\n",
       "  11236: 58,\n",
       "  11247: 6,\n",
       "  11275: 26,\n",
       "  11313: 9,\n",
       "  11320: 66,\n",
       "  11421: 37,\n",
       "  11446: 13,\n",
       "  11593: 19,\n",
       "  11616: 64,\n",
       "  11671: 14,\n",
       "  11702: 7,\n",
       "  11708: 44,\n",
       "  11747: 20,\n",
       "  11762: 10,\n",
       "  11829: 25,\n",
       "  11850: 23,\n",
       "  11860: 11,\n",
       "  11932: 18,\n",
       "  11989: 17,\n",
       "  12028: 221,\n",
       "  12140: 36,\n",
       "  12177: 53,\n",
       "  12183: 26,\n",
       "  12274: 9,\n",
       "  12312: 13,\n",
       "  12380: 45,\n",
       "  12508: 136,\n",
       "  12567: 61,\n",
       "  12585: 4,\n",
       "  12629: 43,\n",
       "  12633: 11,\n",
       "  12799: 77,\n",
       "  12803: 21,\n",
       "  12824: 21,\n",
       "  13123: 10,\n",
       "  13329: 22,\n",
       "  13330: 13,\n",
       "  13503: 15,\n",
       "  13546: 20,\n",
       "  13577: 7,\n",
       "  13593: 20,\n",
       "  13615: 10,\n",
       "  13627: 31,\n",
       "  13664: 120,\n",
       "  13728: 13,\n",
       "  13748: 21,\n",
       "  13864: 5,\n",
       "  13881: 2,\n",
       "  14035: 12,\n",
       "  14144: 24,\n",
       "  14172: 9,\n",
       "  14193: 8,\n",
       "  14256: 26,\n",
       "  14269: 21,\n",
       "  14309: 13,\n",
       "  14342: 20,\n",
       "  14385: 14,\n",
       "  14507: 9,\n",
       "  14520: 56,\n",
       "  14705: 17,\n",
       "  14805: 16,\n",
       "  14855: 96,\n",
       "  14975: 23,\n",
       "  15046: 86,\n",
       "  15054: 33,\n",
       "  15301: 5,\n",
       "  15347: 4,\n",
       "  15361: 15,\n",
       "  15472: 13,\n",
       "  15590: 85,\n",
       "  15716: 323,\n",
       "  15852: 15,\n",
       "  15875: 192,\n",
       "  16038: 89,\n",
       "  16053: 17,\n",
       "  16076: 397,\n",
       "  16102: 6,\n",
       "  16129: 22,\n",
       "  16147: 7,\n",
       "  16216: 17,\n",
       "  16275: 90,\n",
       "  16318: 12,\n",
       "  16367: 47,\n",
       "  16384: 48,\n",
       "  16409: 40,\n",
       "  16412: 8,\n",
       "  16438: 28,\n",
       "  16468: 15,\n",
       "  16469: 20,\n",
       "  16479: 7,\n",
       "  16492: 6,\n",
       "  16554: 19,\n",
       "  16560: 8,\n",
       "  16685: 1,\n",
       "  16733: 14,\n",
       "  16755: 24,\n",
       "  16800: 12,\n",
       "  16802: 27,\n",
       "  16850: 14,\n",
       "  16975: 186,\n",
       "  16992: 42,\n",
       "  17107: 6,\n",
       "  17149: 17,\n",
       "  17150: 23,\n",
       "  17250: 28,\n",
       "  17260: 10,\n",
       "  17276: 10,\n",
       "  17539: 24,\n",
       "  17547: 9,\n",
       "  17617: 4,\n",
       "  17631: 19,\n",
       "  17664: 24,\n",
       "  17722: 8,\n",
       "  17764: 3,\n",
       "  17795: 215,\n",
       "  17843: 37,\n",
       "  17882: 6,\n",
       "  17903: 7,\n",
       "  17906: 88,\n",
       "  18082: 22,\n",
       "  18123: 146,\n",
       "  18233: 8,\n",
       "  18250: 2,\n",
       "  18281: 61,\n",
       "  18320: 207,\n",
       "  18353: 16,\n",
       "  18365: 10,\n",
       "  18459: 33,\n",
       "  18637: 35,\n",
       "  18673: 38,\n",
       "  18681: 10,\n",
       "  18737: 7,\n",
       "  18999: 40,\n",
       "  19029: 4,\n",
       "  19036: 12,\n",
       "  19164: 20,\n",
       "  19463: 14,\n",
       "  19569: 4,\n",
       "  19653: 30,\n",
       "  19698: 79,\n",
       "  19793: 37,\n",
       "  19803: 9,\n",
       "  19833: 77,\n",
       "  19851: 83,\n",
       "  19859: 14,\n",
       "  19940: 9,\n",
       "  20061: 7,\n",
       "  20086: 85,\n",
       "  20133: 121,\n",
       "  20181: 204,\n",
       "  20187: 25,\n",
       "  20263: 6,\n",
       "  20265: 7,\n",
       "  20289: 63,\n",
       "  20381: 10,\n",
       "  20425: 103,\n",
       "  20528: 37,\n",
       "  20580: 1,\n",
       "  20598: 31,\n",
       "  20600: 16,\n",
       "  20624: 32,\n",
       "  20643: 20,\n",
       "  20804: 25,\n",
       "  20899: 17,\n",
       "  20951: 8,\n",
       "  20979: 26,\n",
       "  21037: 21,\n",
       "  21056: 9,\n",
       "  21093: 60,\n",
       "  21255: 3,\n",
       "  21269: 279,\n",
       "  21277: 23,\n",
       "  21301: 16,\n",
       "  21350: 18,\n",
       "  21548: 7,\n",
       "  21581: 11,\n",
       "  21737: 7,\n",
       "  21745: 5,\n",
       "  21764: 7,\n",
       "  22019: 2,\n",
       "  22180: 5,\n",
       "  22192: 5,\n",
       "  22287: 10,\n",
       "  22432: 6,\n",
       "  22450: 11,\n",
       "  22520: 63,\n",
       "  22534: 4,\n",
       "  22580: 10,\n",
       "  22624: 43,\n",
       "  22667: 72,\n",
       "  22684: 14,\n",
       "  22706: 8,\n",
       "  22754: 44,\n",
       "  22855: 47,\n",
       "  22921: 2,\n",
       "  23028: 22,\n",
       "  23109: 2,\n",
       "  23131: 49,\n",
       "  23161: 29,\n",
       "  23215: 9,\n",
       "  23318: 15,\n",
       "  23418: 22,\n",
       "  23423: 11,\n",
       "  23451: 26,\n",
       "  23568: 8,\n",
       "  23657: 34,\n",
       "  23734: 15,\n",
       "  23763: 21,\n",
       "  23847: 9,\n",
       "  24099: 2,\n",
       "  24170: 2,\n",
       "  24178: 209,\n",
       "  24276: 82,\n",
       "  24344: 290,\n",
       "  24483: 7,\n",
       "  24535: 23,\n",
       "  24562: 10,\n",
       "  24569: 20,\n",
       "  24622: 1,\n",
       "  24687: 45,\n",
       "  24807: 41,\n",
       "  24847: 12,\n",
       "  24868: 57,\n",
       "  24903: 45,\n",
       "  25001: 25,\n",
       "  25016: 78,\n",
       "  25038: 66,\n",
       "  25097: 42,\n",
       "  25117: 38,\n",
       "  25225: 17,\n",
       "  25256: 30,\n",
       "  25295: 59,\n",
       "  25326: 17,\n",
       "  25373: 158,\n",
       "  25406: 5,\n",
       "  25515: 18,\n",
       "  25526: 86,\n",
       "  25579: 27,\n",
       "  25591: 61,\n",
       "  25671: 11,\n",
       "  25750: 107,\n",
       "  25775: 38,\n",
       "  25844: 22,\n",
       "  25860: 9,\n",
       "  25861: 16,\n",
       "  25889: 20,\n",
       "  25941: 86,\n",
       "  26036: 11,\n",
       "  26040: 79,\n",
       "  26052: 3,\n",
       "  26080: 5,\n",
       "  26097: 65,\n",
       "  26118: 60,\n",
       "  26311: 28,\n",
       "  26391: 64,\n",
       "  26398: 14,\n",
       "  26469: 52,\n",
       "  26542: 55,\n",
       "  26601: 58,\n",
       "  26638: 155,\n",
       "  26727: 10,\n",
       "  26797: 8,\n",
       "  26869: 11,\n",
       "  26884: 5,\n",
       "  26887: 4,\n",
       "  26956: 23,\n",
       "  27003: 18,\n",
       "  27036: 10,\n",
       "  27043: 30,\n",
       "  27047: 41,\n",
       "  27049: 14,\n",
       "  27089: 24,\n",
       "  27121: 89,\n",
       "  27143: 135,\n",
       "  27172: 9,\n",
       "  27179: 118,\n",
       "  27194: 60,\n",
       "  27269: 19,\n",
       "  27367: 84,\n",
       "  27371: 17,\n",
       "  27431: 33,\n",
       "  27486: 2,\n",
       "  27576: 84,\n",
       "  27597: 60,\n",
       "  27600: 28,\n",
       "  27677: 11,\n",
       "  27726: 59,\n",
       "  27729: 70,\n",
       "  27752: 11,\n",
       "  27800: 12,\n",
       "  27809: 18,\n",
       "  27823: 31,\n",
       "  27879: 13,\n",
       "  27886: 30,\n",
       "  27999: 25,\n",
       "  28050: 20,\n",
       "  28055: 4,\n",
       "  28073: 74,\n",
       "  28093: 21,\n",
       "  28103: 16,\n",
       "  28164: 159,\n",
       "  28173: 124,\n",
       "  28230: 23,\n",
       "  28291: 36,\n",
       "  28298: 31,\n",
       "  28356: 10,\n",
       "  28527: 46,\n",
       "  28530: 24,\n",
       "  28642: 2,\n",
       "  28668: 3,\n",
       "  28671: 33,\n",
       "  28689: 5,\n",
       "  28717: 23,\n",
       "  28729: 73,\n",
       "  28742: 7,\n",
       "  28758: 94,\n",
       "  28827: 12,\n",
       "  28843: 1,\n",
       "  28884: 12,\n",
       "  28932: 24,\n",
       "  28935: 4,\n",
       "  28939: 4,\n",
       "  28973: 152,\n",
       "  29007: 9,\n",
       "  29043: 12,\n",
       "  29093: 5,\n",
       "  29096: 21,\n",
       "  29102: 18,\n",
       "  29129: 15,\n",
       "  29137: 8,\n",
       "  29139: 17,\n",
       "  29141: 27,\n",
       "  29219: 19,\n",
       "  29240: 10,\n",
       "  29274: 17,\n",
       "  29350: 18,\n",
       "  29377: 80,\n",
       "  29379: 21,\n",
       "  29456: 22,\n",
       "  29478: 32,\n",
       "  29501: 6,\n",
       "  29503: 11,\n",
       "  29504: 18,\n",
       "  29513: 65,\n",
       "  29528: 5,\n",
       "  29556: 5,\n",
       "  29566: 17,\n",
       "  29619: 18,\n",
       "  29638: 15,\n",
       "  29639: 26,\n",
       "  29660: 9,\n",
       "  29703: 12,\n",
       "  29866: 12,\n",
       "  29872: 14,\n",
       "  29913: 11,\n",
       "  29919: 24,\n",
       "  29927: 63,\n",
       "  29965: 26,\n",
       "  29972: 7,\n",
       "  30010: 7,\n",
       "  30015: 36,\n",
       "  30139: 529,\n",
       "  30208: 18,\n",
       "  30227: 35,\n",
       "  30287: 23,\n",
       "  30299: 1,\n",
       "  30301: 117,\n",
       "  30316: 17,\n",
       "  30365: 47,\n",
       "  30490: 17,\n",
       "  30501: 10,\n",
       "  30505: 33,\n",
       "  30561: 6,\n",
       "  30575: 6,\n",
       "  30599: 24,\n",
       "  30631: 11,\n",
       "  30663: 24,\n",
       "  30696: 54,\n",
       "  30786: 11,\n",
       "  30798: 14,\n",
       "  30860: 28,\n",
       "  31003: 45,\n",
       "  31183: 129,\n",
       "  31216: 80,\n",
       "  31221: 17,\n",
       "  31262: 28,\n",
       "  31298: 13,\n",
       "  31332: 59,\n",
       "  31361: 20,\n",
       "  31442: 32,\n",
       "  31470: 17,\n",
       "  31516: 74,\n",
       "  31528: 60,\n",
       "  31544: 11,\n",
       "  31580: 34,\n",
       "  31585: 39,\n",
       "  31610: 17,\n",
       "  31660: 3,\n",
       "  31664: 45,\n",
       "  31692: 23,\n",
       "  31723: 17,\n",
       "  31813: 234,\n",
       "  31942: 102,\n",
       "  31986: 41,\n",
       "  32018: 145,\n",
       "  32061: 11,\n",
       "  32106: 18,\n",
       "  32135: 12,\n",
       "  32161: 25,\n",
       "  32181: 8,\n",
       "  32183: 27,\n",
       "  32193: 16,\n",
       "  32268: 6,\n",
       "  32286: 117,\n",
       "  32355: 6,\n",
       "  32367: 42,\n",
       "  32394: 6,\n",
       "  32414: 485,\n",
       "  32436: 271,\n",
       "  32583: 5,\n",
       "  32605: 19,\n",
       "  32639: 12,\n",
       "  32740: 48,\n",
       "  32746: 11,\n",
       "  32773: 112,\n",
       "  32790: 103,\n",
       "  40059: 11,\n",
       "  40124: 68,\n",
       "  40246: 20,\n",
       "  40370: 11,\n",
       "  40442: 107,\n",
       "  40456: 43,\n",
       "  40576: 48,\n",
       "  40631: 4,\n",
       "  40911: 35,\n",
       "  41192: 45,\n",
       "  41373: 28,\n",
       "  41434: 10,\n",
       "  41446: 8,\n",
       "  41890: 7,\n",
       "  41958: 5,\n",
       "  41962: 10,\n",
       "  41976: 177,\n",
       "  42009: 30,\n",
       "  42035: 49,\n",
       "  42054: 18,\n",
       "  42194: 1,\n",
       "  42346: 30,\n",
       "  42458: 9,\n",
       "  42515: 38,\n",
       "  42572: 17,\n",
       "  42715: 21,\n",
       "  42794: 6,\n",
       "  42924: 3,\n",
       "  43067: 90,\n",
       "  43074: 18,\n",
       "  43112: 394,\n",
       "  43128: 1,\n",
       "  43147: 150,\n",
       "  43305: 48,\n",
       "  43323: 15,\n",
       "  43937: 4,\n",
       "  43943: 6,\n",
       "  43959: 3,\n",
       "  44146: 16,\n",
       "  44206: 5,\n",
       "  44214: 30,\n",
       "  44326: 8,\n",
       "  44437: 12,\n",
       "  44530: 2,\n",
       "  44534: 37,\n",
       "  44741: 8,\n",
       "  44787: 7,\n",
       "  44829: 55,\n",
       "  44841: 19,\n",
       "  44848: 2,\n",
       "  45193: 11,\n",
       "  45280: 9,\n",
       "  45435: 7,\n",
       "  46011: 61,\n",
       "  46335: 49,\n",
       "  46366: 42,\n",
       "  46415: 53,\n",
       "  46521: 14,\n",
       "  46728: 34,\n",
       "  46926: 1,\n",
       "  46961: 1,\n",
       "  47216: 17,\n",
       "  47219: 67,\n",
       "  47407: 2,\n",
       "  47467: 6,\n",
       "  47670: 7,\n",
       "  47747: 12,\n",
       "  47852: 95,\n",
       "  47930: 5,\n",
       "  48058: 4,\n",
       "  48143: 6,\n",
       "  48297: 11,\n",
       "  48340: 7,\n",
       "  48660: 343,\n",
       "  48687: 15,\n",
       "  48750: 8,\n",
       "  48812: 36,\n",
       "  48837: 14,\n",
       "  48929: 7,\n",
       "  49292: 18,\n",
       "  49510: 31,\n",
       "  49558: 347,\n",
       "  49623: 9,\n",
       "  49747: 7,\n",
       "  49764: 10,\n",
       "  49963: 4,\n",
       "  50007: 4,\n",
       "  50041: 10,\n",
       "  50093: 6,\n",
       "  50257: 11,\n",
       "  50294: 20,\n",
       "  50409: 75,\n",
       "  50762: 8,\n",
       "  50772: 17,\n",
       "  50807: 21,\n",
       "  50828: 126,\n",
       "  50911: 81,\n",
       "  50998: 29,\n",
       "  51195: 29,\n",
       "  51237: 11,\n",
       "  51401: 33,\n",
       "  51418: 68,\n",
       "  51497: 3,\n",
       "  51545: 97,\n",
       "  51601: 5,\n",
       "  51607: 5,\n",
       "  51669: 10,\n",
       "  51933: 5,\n",
       "  52011: 8,\n",
       "  52054: 1,\n",
       "  52172: 13,\n",
       "  52191: 46,\n",
       "  52307: 5,\n",
       "  52452: 5,\n",
       "  52606: 54,\n",
       "  52622: 5,\n",
       "  52898: 6,\n",
       "  52957: 52,\n",
       "  53119: 7,\n",
       "  53160: 13,\n",
       "  53173: 14,\n",
       "  53534: 9,\n",
       "  53650: 15,\n",
       "  53743: 151,\n",
       "  53749: 6,\n",
       "  53847: 14,\n",
       "  54172: 6,\n",
       "  54197: 13,\n",
       "  54305: 8,\n",
       "  54514: 116,\n",
       "  54709: 9,\n",
       "  54741: 5,\n",
       "  54832: 7,\n",
       "  54922: 2,\n",
       "  55059: 17,\n",
       "  55074: 7,\n",
       "  55188: 9,\n",
       "  55571: 212,\n",
       "  55700: 4,\n",
       "  55753: 37,\n",
       "  55841: 14,\n",
       "  55920: 17,\n",
       "  56027: 7,\n",
       "  56229: 31,\n",
       "  56440: 9,\n",
       "  56490: 12,\n",
       "  56621: 11,\n",
       "  56635: 2,\n",
       "  56772: 31,\n",
       "  56798: 4,\n",
       "  56867: 16,\n",
       "  56874: 51,\n",
       "  57050: 205,\n",
       "  57081: 32,\n",
       "  57157: 5,\n",
       "  57277: 19,\n",
       "  57290: 15,\n",
       "  57449: 17,\n",
       "  57788: 36,\n",
       "  57795: 7,\n",
       "  57889: 105,\n",
       "  58105: 49,\n",
       "  58242: 6,\n",
       "  58264: 7,\n",
       "  58286: 20,\n",
       "  58416: 3,\n",
       "  58433: 51,\n",
       "  58522: 9,\n",
       "  58580: 5,\n",
       "  58610: 13,\n",
       "  58631: 15,\n",
       "  58732: 5,\n",
       "  58794: 32,\n",
       "  58810: 10,\n",
       "  58955: 6,\n",
       "  59275: 1,\n",
       "  59278: 17,\n",
       "  59411: 6,\n",
       "  59496: 75,\n",
       "  59765: 300,\n",
       "  59789: 10,\n",
       "  59801: 2,\n",
       "  59822: 14,\n",
       "  59903: 483,\n",
       "  59943: 121,\n",
       "  60003: 9,\n",
       "  60050: 4,\n",
       "  60130: 44,\n",
       "  60674: 10,\n",
       "  60685: 4,\n",
       "  60958: 8,\n",
       "  60977: 9,\n",
       "  61005: 10,\n",
       "  61084: 216,\n",
       "  61195: 9,\n",
       "  61259: 83,\n",
       "  61331: 4,\n",
       "  61630: 19,\n",
       "  61738: 6,\n",
       "  61886: 6,\n",
       "  62231: 4,\n",
       "  62239: 5,\n",
       "  62284: 6,\n",
       "  62402: 56,\n",
       "  62641: 8,\n",
       "  62733: 9,\n",
       "  62858: 120,\n",
       "  63145: 25,\n",
       "  63327: 16,\n",
       "  63351: 10,\n",
       "  63362: 7,\n",
       "  63430: 56,\n",
       "  63499: 32,\n",
       "  63560: 25,\n",
       "  63943: 31,\n",
       "  63968: 10,\n",
       "  64160: 4,\n",
       "  64232: 28,\n",
       "  64249: 7,\n",
       "  64715: 17,\n",
       "  65004: 11,\n",
       "  65027: 1,\n",
       "  65033: 2,\n",
       "  65164: 4,\n",
       "  65361: 20,\n",
       "  65435: 40,\n",
       "  65449: 6,\n",
       "  65515: 5,\n",
       "  65582: 576,\n",
       "  65594: 9,\n",
       "  65692: 25,\n",
       "  65710: 18,\n",
       "  65837: 47,\n",
       "  66002: 636,\n",
       "  66009: 373,\n",
       "  66206: 12,\n",
       "  66412: 5,\n",
       "  66492: 1,\n",
       "  66549: 36,\n",
       "  66556: 20,\n",
       "  66671: 32,\n",
       "  66739: 1,\n",
       "  66753: 8,\n",
       "  66823: 21,\n",
       "  67053: 238,\n",
       "  67111: 16,\n",
       "  67117: 19,\n",
       "  67408: 15,\n",
       "  67446: 8,\n",
       "  67796: 7,\n",
       "  67844: 7,\n",
       "  67887: 13,\n",
       "  68059: 3,\n",
       "  68315: 3,\n",
       "  68591: 7,\n",
       "  68791: 13,\n",
       "  68836: 7,\n",
       "  68839: 21,\n",
       "  68905: 3,\n",
       "  68944: 39,\n",
       "  68962: 1,\n",
       "  69098: 12,\n",
       "  69158: 13,\n",
       "  69250: 4,\n",
       "  69296: 13,\n",
       "  69359: 26,\n",
       "  69380: 265,\n",
       "  69483: 26,\n",
       "  69546: 64,\n",
       "  69556: 11,\n",
       "  69578: 7,\n",
       "  69673: 6,\n",
       "  69776: 53,\n",
       "  69799: 6,\n",
       "  69932: 6,\n",
       "  70285: 2,\n",
       "  70466: 18,\n",
       "  70476: 22,\n",
       "  70492: 10,\n",
       "  70563: 3,\n",
       "  70645: 29,\n",
       "  70682: 48,\n",
       "  70728: 12,\n",
       "  71107: 9,\n",
       "  71108: 220,\n",
       "  71220: 45,\n",
       "  71336: 5,\n",
       "  71377: 39,\n",
       "  71915: 6,\n",
       "  71943: 4,\n",
       "  71983: 3,\n",
       "  72229: 189,\n",
       "  72230: 154,\n",
       "  72233: 2,\n",
       "  72378: 7,\n",
       "  72532: 6,\n",
       "  72714: 4,\n",
       "  72751: 35,\n",
       "  73043: 3,\n",
       "  73107: 479,\n",
       "  73129: 105,\n",
       "  73388: 37,\n",
       "  73389: 87,\n",
       "  73479: 3,\n",
       "  73686: 4,\n",
       "  73713: 458,\n",
       "  73770: 9,\n",
       "  73808: 49,\n",
       "  73899: 2,\n",
       "  73941: 7,\n",
       "  74016: 8,\n",
       "  74253: 388,\n",
       "  74505: 32,\n",
       "  74562: 98,\n",
       "  74640: 7,\n",
       "  74654: 7,\n",
       "  75047: 3,\n",
       "  75107: 124,\n",
       "  75200: 87,\n",
       "  75387: 14,\n",
       "  75446: 34,\n",
       "  75609: 5,\n",
       "  75640: 45,\n",
       "  75741: 8,\n",
       "  75782: 90,\n",
       "  75806: 3,\n",
       "  75983: 9,\n",
       "  76021: 39,\n",
       "  76056: 1,\n",
       "  76074: 31,\n",
       "  76141: 4,\n",
       "  76178: 22,\n",
       "  76437: 5,\n",
       "  76446: 18,\n",
       "  76476: 3,\n",
       "  76797: 6,\n",
       "  76915: 8,\n",
       "  76993: 13,\n",
       "  77019: 8,\n",
       "  77128: 9,\n",
       "  77177: 14,\n",
       "  77237: 198,\n",
       "  77279: 2,\n",
       "  77434: 18,\n",
       "  77453: 2,\n",
       "  77469: 31,\n",
       "  77676: 4,\n",
       "  77690: 19,\n",
       "  77697: 10,\n",
       "  77816: 8,\n",
       "  77947: 11,\n",
       "  78017: 2,\n",
       "  78086: 110,\n",
       "  78565: 78,\n",
       "  78705: 3,\n",
       "  78707: 16,\n",
       "  78859: 5,\n",
       "  78914: 13,\n",
       "  79079: 18,\n",
       "  79090: 16,\n",
       "  79115: 12,\n",
       "  79292: 15,\n",
       "  80045: 6,\n",
       "  80106: 5,\n",
       "  80218: 13,\n",
       "  80430: 10,\n",
       "  80722: 3,\n",
       "  80813: 11,\n",
       "  80825: 3,\n",
       "  81114: 58,\n",
       "  81223: 39,\n",
       "  81233: 22,\n",
       "  81436: 9,\n",
       "  81745: 28,\n",
       "  81840: 25,\n",
       "  81960: 8,\n",
       "  81992: 11,\n",
       "  82100: 74,\n",
       "  82104: 2,\n",
       "  82150: 84,\n",
       "  82202: 28,\n",
       "  82211: 647,\n",
       "  82309: 9,\n",
       "  ...}}"
      ]
     },
     "execution_count": 30,
     "metadata": {},
     "output_type": "execute_result"
    }
   ],
   "source": [
    "patient_id_to_num_notes"
   ]
  },
  {
   "cell_type": "code",
   "execution_count": 31,
   "metadata": {},
   "outputs": [
    {
     "name": "stdout",
     "output_type": "stream",
     "text": [
      "252\n",
      "1167\n"
     ]
    }
   ],
   "source": [
    "print(len(patient_id_to_num_notes['pneumonia_dead']))\n",
    "print(len(patient_id_to_num_notes['pneumonia_alive']))"
   ]
  },
  {
   "cell_type": "code",
   "execution_count": 32,
   "metadata": {
    "scrolled": true
   },
   "outputs": [
    {
     "data": {
      "text/html": [
       "<div>\n",
       "<style scoped>\n",
       "    .dataframe tbody tr th:only-of-type {\n",
       "        vertical-align: middle;\n",
       "    }\n",
       "\n",
       "    .dataframe tbody tr th {\n",
       "        vertical-align: top;\n",
       "    }\n",
       "\n",
       "    .dataframe thead th {\n",
       "        text-align: right;\n",
       "    }\n",
       "</style>\n",
       "<table border=\"1\" class=\"dataframe\">\n",
       "  <thead>\n",
       "    <tr style=\"text-align: right;\">\n",
       "      <th></th>\n",
       "      <th>ROW_ID_x</th>\n",
       "      <th>SUBJECT_ID_x</th>\n",
       "      <th>DESCRIPTION</th>\n",
       "      <th>TEXT</th>\n",
       "      <th>DEATHTIME</th>\n",
       "    </tr>\n",
       "  </thead>\n",
       "  <tbody>\n",
       "    <tr>\n",
       "      <th>70391</th>\n",
       "      <td>70124</td>\n",
       "      <td>111</td>\n",
       "      <td>Report</td>\n",
       "      <td>PATIENT/TEST INFORMATION:\\nIndication: s/p PEA...</td>\n",
       "      <td>2144-07-01 14:55:00</td>\n",
       "    </tr>\n",
       "    <tr>\n",
       "      <th>142529</th>\n",
       "      <td>151749</td>\n",
       "      <td>111</td>\n",
       "      <td>Report</td>\n",
       "      <td>Compared to the previous tracing QRS voltage i...</td>\n",
       "      <td>2144-07-01 14:55:00</td>\n",
       "    </tr>\n",
       "    <tr>\n",
       "      <th>142097</th>\n",
       "      <td>151750</td>\n",
       "      <td>111</td>\n",
       "      <td>Report</td>\n",
       "      <td>Normal sinus rhythm, rate 80.  Biatrial abnorm...</td>\n",
       "      <td>2144-07-01 14:55:00</td>\n",
       "    </tr>\n",
       "    <tr>\n",
       "      <th>142303</th>\n",
       "      <td>151751</td>\n",
       "      <td>111</td>\n",
       "      <td>Report</td>\n",
       "      <td>Normal sinus rhythm.  Q waves in leads V1-V2 c...</td>\n",
       "      <td>2144-07-01 14:55:00</td>\n",
       "    </tr>\n",
       "    <tr>\n",
       "      <th>380576</th>\n",
       "      <td>375732</td>\n",
       "      <td>111</td>\n",
       "      <td>Physician Resident Admission Note</td>\n",
       "      <td>Chief Complaint:  respiratory distress\\n   HPI...</td>\n",
       "      <td>2144-07-01 14:55:00</td>\n",
       "    </tr>\n",
       "    <tr>\n",
       "      <th>380109</th>\n",
       "      <td>375744</td>\n",
       "      <td>111</td>\n",
       "      <td>ICU Event Note</td>\n",
       "      <td>Clinician:  Nurse\\n   Pt admitted from the ED ...</td>\n",
       "      <td>2144-07-01 14:55:00</td>\n",
       "    </tr>\n",
       "    <tr>\n",
       "      <th>379907</th>\n",
       "      <td>375749</td>\n",
       "      <td>111</td>\n",
       "      <td>Physician Resident/Attending Admission Note - ...</td>\n",
       "      <td>Chief Complaint:  respiratory distress\\n   HPI...</td>\n",
       "      <td>2144-07-01 14:55:00</td>\n",
       "    </tr>\n",
       "    <tr>\n",
       "      <th>379806</th>\n",
       "      <td>375753</td>\n",
       "      <td>111</td>\n",
       "      <td>Social Work Admission Note</td>\n",
       "      <td>Social Work Initial Note:\\n   Family Informati...</td>\n",
       "      <td>2144-07-01 14:55:00</td>\n",
       "    </tr>\n",
       "    <tr>\n",
       "      <th>379909</th>\n",
       "      <td>375760</td>\n",
       "      <td>111</td>\n",
       "      <td>ICU Event Note</td>\n",
       "      <td>TITLE:\\n   Clinician:  Resident\\n   Patient ex...</td>\n",
       "      <td>2144-07-01 14:55:00</td>\n",
       "    </tr>\n",
       "    <tr>\n",
       "      <th>1066971</th>\n",
       "      <td>1079317</td>\n",
       "      <td>111</td>\n",
       "      <td>CHEST (PORTABLE AP)</td>\n",
       "      <td>[**2144-7-1**] 2:43 AM\\n CHEST (PORTABLE AP)  ...</td>\n",
       "      <td>2144-07-01 14:55:00</td>\n",
       "    </tr>\n",
       "    <tr>\n",
       "      <th>1065833</th>\n",
       "      <td>1079339</td>\n",
       "      <td>111</td>\n",
       "      <td>CHEST (PORTABLE AP)</td>\n",
       "      <td>[**2144-7-1**] 7:27 AM\\n CHEST (PORTABLE AP); ...</td>\n",
       "      <td>2144-07-01 14:55:00</td>\n",
       "    </tr>\n",
       "    <tr>\n",
       "      <th>1067121</th>\n",
       "      <td>1079351</td>\n",
       "      <td>111</td>\n",
       "      <td>CHEST PORT. LINE PLACEMENT</td>\n",
       "      <td>[**2144-7-1**] 9:01 AM\\n CHEST PORT. LINE PLAC...</td>\n",
       "      <td>2144-07-01 14:55:00</td>\n",
       "    </tr>\n",
       "  </tbody>\n",
       "</table>\n",
       "</div>"
      ],
      "text/plain": [
       "         ROW_ID_x  SUBJECT_ID_x  \\\n",
       "70391       70124           111   \n",
       "142529     151749           111   \n",
       "142097     151750           111   \n",
       "142303     151751           111   \n",
       "380576     375732           111   \n",
       "380109     375744           111   \n",
       "379907     375749           111   \n",
       "379806     375753           111   \n",
       "379909     375760           111   \n",
       "1066971   1079317           111   \n",
       "1065833   1079339           111   \n",
       "1067121   1079351           111   \n",
       "\n",
       "                                               DESCRIPTION  \\\n",
       "70391                                               Report   \n",
       "142529                                              Report   \n",
       "142097                                              Report   \n",
       "142303                                              Report   \n",
       "380576                   Physician Resident Admission Note   \n",
       "380109                                      ICU Event Note   \n",
       "379907   Physician Resident/Attending Admission Note - ...   \n",
       "379806                          Social Work Admission Note   \n",
       "379909                                      ICU Event Note   \n",
       "1066971                                CHEST (PORTABLE AP)   \n",
       "1065833                                CHEST (PORTABLE AP)   \n",
       "1067121                         CHEST PORT. LINE PLACEMENT   \n",
       "\n",
       "                                                      TEXT  \\\n",
       "70391    PATIENT/TEST INFORMATION:\\nIndication: s/p PEA...   \n",
       "142529   Compared to the previous tracing QRS voltage i...   \n",
       "142097   Normal sinus rhythm, rate 80.  Biatrial abnorm...   \n",
       "142303   Normal sinus rhythm.  Q waves in leads V1-V2 c...   \n",
       "380576   Chief Complaint:  respiratory distress\\n   HPI...   \n",
       "380109   Clinician:  Nurse\\n   Pt admitted from the ED ...   \n",
       "379907   Chief Complaint:  respiratory distress\\n   HPI...   \n",
       "379806   Social Work Initial Note:\\n   Family Informati...   \n",
       "379909   TITLE:\\n   Clinician:  Resident\\n   Patient ex...   \n",
       "1066971  [**2144-7-1**] 2:43 AM\\n CHEST (PORTABLE AP)  ...   \n",
       "1065833  [**2144-7-1**] 7:27 AM\\n CHEST (PORTABLE AP); ...   \n",
       "1067121  [**2144-7-1**] 9:01 AM\\n CHEST PORT. LINE PLAC...   \n",
       "\n",
       "                   DEATHTIME  \n",
       "70391    2144-07-01 14:55:00  \n",
       "142529   2144-07-01 14:55:00  \n",
       "142097   2144-07-01 14:55:00  \n",
       "142303   2144-07-01 14:55:00  \n",
       "380576   2144-07-01 14:55:00  \n",
       "380109   2144-07-01 14:55:00  \n",
       "379907   2144-07-01 14:55:00  \n",
       "379806   2144-07-01 14:55:00  \n",
       "379909   2144-07-01 14:55:00  \n",
       "1066971  2144-07-01 14:55:00  \n",
       "1065833  2144-07-01 14:55:00  \n",
       "1067121  2144-07-01 14:55:00  "
      ]
     },
     "execution_count": 32,
     "metadata": {},
     "output_type": "execute_result"
    }
   ],
   "source": [
    "pneumonia_dead_no_disch.loc[pneumonia_dead_no_disch[\"SUBJECT_ID_x\"] == 111, ['ROW_ID_x','SUBJECT_ID_x','DESCRIPTION','TEXT', 'DEATHTIME']]"
   ]
  },
  {
   "cell_type": "code",
   "execution_count": 33,
   "metadata": {
    "scrolled": true
   },
   "outputs": [],
   "source": [
    "# tmp_df = pneumonia_dead_no_disch.loc[pneumonia_dead_no_disch[\"SUBJECT_ID_x\"] == 111, ['DESCRIPTION','TEXT']]\n",
    "# for index, row in tmp_df.iterrows():\n",
    "#     print(row['DESCRIPTION'])\n",
    "#     print(row['TEXT'])\n",
    "#     print('-'*80)"
   ]
  },
  {
   "cell_type": "code",
   "execution_count": null,
   "metadata": {},
   "outputs": [],
   "source": []
  },
  {
   "cell_type": "code",
   "execution_count": 34,
   "metadata": {
    "scrolled": true
   },
   "outputs": [],
   "source": [
    "# row_cnt = 0\n",
    "# note_cnt = 0\n",
    "# for index, row in pneumonia_alive_no_disch.iterrows():\n",
    "#     row_cnt += 1\n",
    "#     note = re.sub(r'\\[\\*\\*(.*?)\\*\\*\\]|[_,\\d\\*:~=\\.\\-\\+\\\\/]+', ' ', row['TEXT'])\n",
    "#     tokenized_note = word_tokenize(note)\n",
    "       \n",
    "#     if 'money' in tokenized_note :\n",
    "#         note_cnt += 1\n",
    "#         print(f\"#{row_cnt}) {note_cnt}) {row['ROW_ID_x']} : {row['SUBJECT_ID_x']} ==> [{row['DESCRIPTION']}]\")\n",
    "    \n",
    "    "
   ]
  },
  {
   "cell_type": "code",
   "execution_count": 35,
   "metadata": {
    "scrolled": true
   },
   "outputs": [],
   "source": [
    "# row_cnt = 0\n",
    "# note_cnt = 0\n",
    "# for index, row in pneumonia_alive_no_disch.iterrows():\n",
    "#     row_cnt += 1\n",
    "#     note = re.sub(r'\\[\\*\\*(.*?)\\*\\*\\]|[_,\\d\\*:~=\\.\\-\\+\\\\/]+', ' ', row['TEXT'])\n",
    "#     tokenized_note = word_tokenize(note)\n",
    "    \n",
    "#     if 'money' in tokenized_note and 'wallet' in tokenized_note:\n",
    "#         note_cnt += 1\n",
    "#         print(f\"#{row_cnt}) {note_cnt}) {row['ROW_ID_x']} : {row['SUBJECT_ID_x']} ==> [{row['DESCRIPTION']}]\")\n",
    "# #         print(row['TEXT'])\n",
    "# #         print('-'*80)"
   ]
  },
  {
   "cell_type": "code",
   "execution_count": null,
   "metadata": {},
   "outputs": [],
   "source": []
  },
  {
   "cell_type": "code",
   "execution_count": null,
   "metadata": {},
   "outputs": [],
   "source": []
  },
  {
   "cell_type": "code",
   "execution_count": null,
   "metadata": {},
   "outputs": [],
   "source": []
  },
  {
   "cell_type": "code",
   "execution_count": null,
   "metadata": {},
   "outputs": [],
   "source": []
  },
  {
   "cell_type": "code",
   "execution_count": 36,
   "metadata": {},
   "outputs": [
    {
     "name": "stderr",
     "output_type": "stream",
     "text": [
      "100%|██████████| 11895/11895 [00:47<00:00, 248.65it/s]\n",
      "  0%|          | 1/46134 [00:00<1:16:56,  9.99it/s]"
     ]
    },
    {
     "name": "stdout",
     "output_type": "stream",
     "text": [
      "5989 note events\n",
      "finished counting frequent words for patients!\n"
     ]
    },
    {
     "name": "stderr",
     "output_type": "stream",
     "text": [
      "100%|██████████| 46134/46134 [02:59<00:00, 257.25it/s]"
     ]
    },
    {
     "name": "stdout",
     "output_type": "stream",
     "text": [
      "23172 note events\n",
      "finished counting frequent words for patients!\n"
     ]
    },
    {
     "name": "stderr",
     "output_type": "stream",
     "text": [
      "\n"
     ]
    }
   ],
   "source": [
    "def count_words_per_patient(disease_df, patient_id_to_num_notes):\n",
    "    note_appearance_counter = {}\n",
    "    number_of_patients = 0 # number of patients\n",
    "    note_counter = 0\n",
    "\n",
    "# -----------\n",
    "    patient_id = -1\n",
    "    word_set = set()\n",
    "    note_event_counter = 0\n",
    "\n",
    "    # Iterate through each note\n",
    "    for index, row in tqdm(disease_df.iterrows(), total=disease_df.shape[0]):\n",
    "\n",
    "        \n",
    "        patient_id_check = int(row['SUBJECT_ID_x'])\n",
    "    \n",
    "        # if patient id has changed, end sequence and start new sequence\n",
    "        if not patient_id == patient_id_check:\n",
    "            number_of_patients += 1\n",
    "            note_event_counter = 0\n",
    "        \n",
    "            for word in word_set:\n",
    "                if word in note_appearance_counter:\n",
    "                    note_appearance_counter[word] += 1\n",
    "                else:\n",
    "                    note_appearance_counter[word] = 1\n",
    "\n",
    "        \n",
    "            # reset word_set\n",
    "            word_set = set()\n",
    "        \n",
    "        # update patient id\n",
    "        patient_id = patient_id_check\n",
    "\n",
    "            \n",
    "        if patient_id_to_num_notes[patient_id_check] <= MIN_SEQ_LEN:\n",
    "            continue\n",
    "            \n",
    "        if note_event_counter < patient_id_to_num_notes[patient_id] // USE_1_N_SEQ:\n",
    "            note_event_counter += 1\n",
    "            continue\n",
    "                \n",
    "        note_counter += 1\n",
    "        note = re.sub(r'\\[\\*\\*(.*?)\\*\\*\\]|[_,\\d\\*:~=\\.\\-\\+\\\\/]+', ' ', row['TEXT'])\n",
    "        tokenized_note = word_tokenize(note)\n",
    "        \n",
    "        \n",
    "        for word in tokenized_note:\n",
    "            stemmed_word = stemmer.stem(word.lower())\n",
    "            if not stemmed_word in stop_words:\n",
    "                word_set.add(stemmed_word)\n",
    "    \n",
    "    print(str(note_counter) + \" note events\")\n",
    "    print(\"finished counting frequent words for patients!\")\n",
    "#     return note_counter, note_appearance_counter\n",
    "    return number_of_patients, note_appearance_counter\n",
    "\n",
    "# variable dictionaries\n",
    "number_of_notes = {}\n",
    "note_appearance_counter = {}\n",
    "\n",
    "number_of_notes['pneumonia_dead'], note_appearance_counter['pneumonia_dead'] = count_words_per_patient(pneumonia_dead_no_disch, patient_id_to_num_notes['pneumonia_dead'])\n",
    "number_of_notes['pneumonia_alive'], note_appearance_counter['pneumonia_alive'] = count_words_per_patient(pneumonia_alive_no_disch, patient_id_to_num_notes['pneumonia_alive'])"
   ]
  },
  {
   "cell_type": "code",
   "execution_count": 37,
   "metadata": {},
   "outputs": [
    {
     "data": {
      "text/plain": [
       "{'pneumonia_dead': 252, 'pneumonia_alive': 1167}"
      ]
     },
     "execution_count": 37,
     "metadata": {},
     "output_type": "execute_result"
    }
   ],
   "source": [
    "number_of_notes"
   ]
  },
  {
   "cell_type": "code",
   "execution_count": 38,
   "metadata": {},
   "outputs": [
    {
     "name": "stdout",
     "output_type": "stream",
     "text": [
      "{'pneumonia_dead': {'inr': 88, 'global': 31, 'renal': 107, 'anicter': 12, 'arteri': 119, 'tip': 126, 'etho': 2, 'ca': 105, '>': 160, 'distend': 108, 'map': 90, 'p': 193, 'resourc': 3, 'intern': 78, 'c': 177, 'histori': 173, 'imag': 136, 'shock': 66, '[': 80, 'spontan': 91, 'tmax': 105, 'septic': 41, 'sound': 151, 'st': 140, 'micu': 131, 'occup': 18, 'puls': 133, 'pressor': 87, 'hazi': 30, 'hcp': 52, 'met': 61, 'arch': 15, 'bandemia': 11, 'hypothermia': 13, 'atrial': 90, 'stool': 150, 'manag': 90, 'methylpr': 5, 'infiltr': 112, 'tazo': 9, 'caucasian': 2, 'brother': 29, 'also': 175, 'monitor': 174, 'stabl': 177, 'atenolol': 4, 'demonstr': 88, 'second': 40, 'infecti': 53, 'ratio': 7, 'superimpos': 56, 'calcium': 55, 'scale': 61, 'cxr': 136, 'boot': 52, 'assess': 176, 'discuss': 156, 'autopeep': 6, 'meal': 10, 'without': 143, 'old': 200, 'comparison': 166, 'acidosi': 70, 'exclud': 72, 'anoth': 58, 'attend': 94, '(': 229, 'anion': 8, 'keep': 104, 'trop': 16, 'ct': 132, 'malign': 32, 'understand': 45, 'cv': 136, 'past': 77, 'presum': 40, 'pneumothorax': 118, 'pna': 151, 'lactat': 47, 'progress': 166, 'fio': 119, 'detail': 69, 'deliveri': 63, 'includ': 113, 'anterior': 62, 'around': 76, 'agre': 84, 'ventilatori': 63, 'still': 115, 'diagnosi': 176, 'infus': 111, 'gaug': 57, 'aris': 6, 'flowsheet': 113, 'qday': 4, 'veteran': 1, 'hct': 122, 'think': 20, 'level': 148, 'statu': 197, 'total': 119, 'boni': 11, 'laundri': 1, 'event': 121, 'stay': 55, 'know': 27, 'bp': 181, 'seem': 69, 'decid': 61, 'daughter': 84, 'clinician': 41, 'refractori': 8, 'suffer': 13, 'reason': 199, 'servic': 92, 'et': 95, 'interim': 26, 'rel': 59, 'check': 116, 'port': 83, 'intervent': 65, 'member': 57, 'breath': 162, 'verapamil': 2, 'aroudn': 1, 'ext': 68, 'soft': 154, 'list': 25, 'cr': 88, 'primari': 43, 'last': 148, 'tender': 82, 'pco': 36, 'disposit': 64, 'set': 141, 'bpm': 102, 'abnorm': 102, 'transfus': 52, 'fen': 44, 'propofol': 31, 'may': 142, 'health': 39, 'insulin': 80, 'home': 99, 'got': 28, 'degre': 47, 'icu': 108, 'w': 177, 'place': 196, 'leukocytosi': 37, 'balanc': 85, 'pneumoboot': 25, 'follow': 159, 'question': 128, 'lower': 166, 'father': 16, 'tiotropium': 1, 'acid': 56, 'care': 171, '<': 77, 'tc': 12, 'process': 94, 'code': 135, 'sbp': 114, 'jugular': 68, 'costophren': 30, 'tcurrent': 61, 'initi': 132, 'unchang': 179, 'cpr': 32, 'densiti': 45, 'show': 131, 'sinc': 186, 'one': 117, 'manual': 14, 'slide': 50, 'protocol': 57, 'ij': 79, 'ill': 73, 'lymph': 71, 'thi': 230, 'form': 38, 'son': 89, 'ha': 212, 'short': 86, 'ph': 61, 'compar': 163, 'emphysema': 28, 'independ': 19, 'homemak': 1, 'ml': 99, 'alcohol': 15, 'entir': 36, 'wave': 81, 'b': 106, 'today': 148, 'mcg': 105, 'repeat': 107, 'woman': 83, 'cage': 1, 'svc': 87, 'start': 154, 'opac': 148, 'warfarin': 5, 'npo': 121, 'tobacco': 15, 'next': 81, 'improv': 167, 'signific': 121, 'growth': 28, 'year': 195, 'cmh': 51, 'iadl': 1, 'contact': 91, 'ivf': 111, 'subsequ': 50, 'law': 18, 'hematoma': 20, 'appoint': 7, 'ventil': 129, 'final': 196, 'amylas': 17, 'mono': 43, 'drug': 55, 'despit': 90, 'murmur': 42, 'howev': 131, 'mmol': 49, 'weak': 65, 'work': 87, 'rosc': 1, 'contour': 68, 'earli': 73, 'yo': 75, 'central': 107, 'albuterol': 58, 'portion': 101, 'ani': 142, 'taken': 60, 'rij': 35, 'feel': 52, 'bicarb': 28, 'pre': 73, 'tf': 110, 'extrem': 141, 'mid': 138, 'cardiomediastin': 48, 'simvastatin': 4, 'lab': 132, 'spoke': 86, 'recommend': 82, 'femal': 61, 'limb': 32, 'pmh': 78, 'known': 85, 'wa': 210, 'r': 178, 'jpg': 63, 'allergi': 82, 'peep': 106, 'obtain': 159, 'artic': 2, 'ns': 119, 'salmeterol': 1, 'consist': 152, 'hypovolemia': 12, 'marri': 4, 'abov': 158, 'appropri': 101, 'serial': 23, 'flatten': 7, 'alk': 47, 'chemistri': 16, 'day': 160, 'state': 94, 'fix': 29, 'recruit': 14, 'g': 96, 'went': 50, 'arriv': 82, 'inquir': 4, 'provid': 114, 'condit': 206, 'note': 199, 'upper': 162, 'acl': 4, 'use': 112, 'pip': 58, 'failur': 141, 'volum': 119, 'morn': 93, 'mass': 65, 'hpi': 58, 'bed': 103, 'followup': 38, 'sign': 110, 'fluid': 183, 'unremark': 66, 'cvp': 66, 'sever': 172, 'heent': 34, 'ecg': 31, 'preren': 12, 'sputum': 132, 'absent': 62, 'lung': 203, 'cathet': 130, 'seen': 157, 'team': 141, 'cool': 67, 'meq': 92, 'phone': 47, 'dl': 70, 'region': 80, 'pupil': 73, 'psychiatr': 14, 'line': 183, 'u': 143, 'impress': 176, 'acidem': 4, 'fissur': 12, 'gallop': 7, 'husband': 35, 'might': 41, 'termin': 88, 'med': 141, 'mosf': 3, 'extens': 86, 'elderli': 5, 'disconnect': 2, 'angl': 28, 'chest': 206, 'given': 180, 'clergi': 16, 'er': 19, 'presep': 6, 'inh': 3, 'spokesperson': 10, 'dure': 114, '%': 188, 'issu': 84, 'differ': 81, 'aortic': 68, 'bili': 47, 'aspirin': 11, 'carina': 78, 'design': 10, 'hyperinfl': 5, 'drop': 120, 'va': 11, 'wbc': 131, 'need': 155, 'h': 136, 'along': 46, 'placement': 143, 'md': 134, 'hypertens': 82, 'emot': 68, 'alt': 53, 'mottl': 15, 'clip': 175, 'gener': 124, 'paralyt': 16, 'nc': 62, 'f': 111, 'profound': 13, 'titl': 38, 'resp': 163, 'rml': 18, 'new': 160, 'pt': 179, 'chang': 222, 'later': 115, 'unsuccess': 37, 'complaint': 68, 'eo': 44, 'addit': 117, 'encourag': 43, 'hypercapnia': 4, 'room': 70, 'norepinephrin': 22, 'arrang': 21, 'abg': 143, 'endotrach': 98, 'lipas': 16, 'answer': 59, 'tube': 161, 'intub': 147, ']': 80, 'repres': 91, 'distant': 27, 'elig': 3, 'bipap': 43, 'rebound': 8, 'wait': 34, 'funer': 16, 'point': 75, 'transient': 33, 'ng': 131, 'portabl': 178, 'bicarbon': 9, 'previou': 172, 'pedal': 41, 'coagulopathi': 20, 'sinu': 139, 'peripher': 97, 'vancomycin': 69, 'min': 142, 'approxim': 72, 'urin': 165, 'hilar': 36, 'epinephrin': 9, 'loss': 52, 'apic': 43, 'trend': 68, 'concern': 114, 'employ': 7, 'epi': 11, 'metabol': 52, 'enzym': 32, 'underli': 79, 'hold': 90, 'dextros': 11, 'receiv': 151, 'drain': 144, 'regular': 66, 'respiratiori': 1, 'stroke': 14, 'develop': 87, 'enter': 58, 'notabl': 38, 'like': 172, 'function': 95, 'multipl': 128, 'dose': 137, 'resuscit': 44, 'unemploy': 1, 'prevent': 35, 'rr': 150, 'edema': 182, 'found': 81, 'ga': 70, 'levofloxacin': 40, 'vasopressin': 27, 'meantim': 3, 'support': 171, 'insert': 61, 'ceftriaxon': 24, 'cm': 141, 'echo': 58, 'tach': 21, 'po': 143, 'guard': 18, 'deni': 66, 'ul': 64, 'ye': 42, 'present': 189, 'want': 92, 'prior': 186, 'prophylaxi': 70, 'htn': 50, 'plt': 82, 'bolus': 98, 'pneumonia': 203, '#': 211, 'empir': 36, 'coars': 117, 'ischem': 31, 'upright': 57, 'effus': 183, 'lactic': 54, 'report': 205, 'nodular': 15, 'fluticason': 2, 'rapid': 61, 'dr': 150, 'come': 72, 'could': 111, 'intact': 103, 'elder': 1, 'mix': 30, 'eeg': 7, 'sun': 14, 'sepsi': 79, 'pm': 197, 'bs': 138, 'rate': 165, 'small': 184, 'ast': 48, 'evid': 141, 'increas': 196, 'distress': 118, 'key': 61, 'versu': 30, 'emphas': 19, ')': 229, 'sodium': 63, 'patient': 205, 'addendum': 98, 'comment': 93, 'amount': 132, 'pleural': 176, 'took': 27, 'though': 89, 'expir': 58, 'physician': 107, 'devic': 94, 'full': 124, 'clinic': 117, 'long': 58, 'death': 42, 'depress': 51, 'restrict': 24, 'clear': 163, 'sick': 18, 'vital': 80, 'hl': 5, 'major': 40, 'copd': 45, 'undetect': 3, 'baselin': 86, 'plan': 161, 'system': 99, 'cremat': 3, 'situat': 29, 'neck': 50, 'bowel': 151, 'pericardi': 61, 'afternoon': 103, 'niec': 13, 'normal': 164, 'admit': 194, 'record': 46, 'mg': 163, 'fall': 42, 'evalu': 173, 'respiratori': 166, 'etiolog': 57, 'nurs': 141, 'lead': 83, 'visit': 106, 'infect': 100, 'minut': 91, 'friend': 32, 'differenti': 70, \"c'ed\": 12, 'product': 99, 'exceed': 3, 'sr': 94, 'pea': 8, 'l': 171, 'bedsid': 127, 'appear': 201, 'admiss': 88, 'access': 113, 'poor': 134, 'current': 158, 'unrespons': 78, 'two': 87, 'hypercapn': 6, 'elev': 122, 'replet': 84, 'onli': 153, 'mmhg': 71, 'blood': 141, 'spent': 65, 'continu': 176, 'post': 131, 'exam': 110, 'lifelin': 1, 'bradi': 12, 'copi': 13, 'mode': 73, 'previous': 80, 'add': 51, 'protect': 61, 'proxi': 40, 'head': 114, 'tachycardia': 94, 'inferior': 37, 'gtt': 134, 'calcif': 59, 'recurr': 33, 'control': 101, 'hemodynam': 111, 'unabl': 130, 'dvt': 79, 'rub': 32, 'mouth': 82, 'examin': 202, 'physic': 72, 'pho': 56, 'addict': 8, 'well': 180, 'cultur': 100, 'vap': 72, 'dilat': 85, 'rhythm': 126, 'grief': 2, 'fir': 2, 'person': 33, 'hepat': 27, 'express': 42, 'licsw': 11, 'hyperlipidemia': 9, 'sat': 167, 'dic': 20, 'social': 138, 'bilater': 175, 'defer': 39, 'nutrit': 85, 'connect': 7, 'review': 135, 'inform': 122, 'chief': 63, 'radiograph': 127, 'adl': 9, 'pcv': 14, 'would': 127, 'hous': 20, 'ap': 175, 'e': 64, 'acut': 134, 'kg': 111, 'prepar': 21, 'insp': 84, 'jvp': 18, 'agenc': 1, 'none': 113, 'immedi': 45, 'hospit': 75, 'critic': 66, 'albumin': 49, 'lobe': 142, 'block': 44, 'azotemia': 6, 'wean': 118, 'cardiac': 156, 'requir': 145, 'ptt': 80, 'anur': 28, 'cough': 125, 'retrocardiac': 50, 'section': 56, 'n': 70, 'commun': 88, 'live': 42, 'offer': 47, 'hypotens': 131, 'adjust': 59, 'recent': 129, 'studi': 160, 'saw': 64, 'radiolog': 68, 'sulcu': 7, 'assist': 81, 'low': 172, 'sclera': 23, 'ulcer': 81, 'stress': 66, 'hco': 15, 'interv': 156, 'statin': 17, 'field': 72, 'park': 4, 'electrolyt': 43, 'lvef': 38, 'non': 170, 'legal': 10, 'bag': 43, 'time': 188, 'organomegali': 4, 'antibiot': 102, 'thorac': 49, 'data': 132, 'heart': 157, 'tidal': 47, 'consolid': 110, 'privat': 7, 'hour': 154, 'atropin': 8, 'ed': 61, 'aggress': 62, 'simultan': 2, 'ipratropium': 6, 'phenylephrin': 16, 'exchang': 20, 'venou': 99, 'glucos': 82, 'glycem': 62, 'ekg': 67, 'arrest': 27, 'involv': 85, 'worsen': 162, 'k': 116, 'band': 44, 'dx': 29, 'sw': 33, 'attempt': 119, 'visual': 109, 'speak': 65, 'cvl': 42, 'arf': 34, 'drip': 79, 'q': 136, 'ro': 63, 'medic': 217, 'girlfriend': 2, 'view': 119, 'abdomen': 119, 'promin': 65, 'right': 211, 'gap': 11, 'hr': 189, 'voltag': 35, 'experienc': 17, 'ptx': 24, 'stomach': 93, 'effort': 47, 'inflammatori': 22, 'aspir': 108, 'left': 216, 'resid': 111, 'neut': 43, 'x': 185, 'consult': 99, 'hi': 121, 'amp': 21, 'mandat': 6, 'famili': 167, 'blocker': 33, 'logist': 2, 'pao': 66, 'meet': 105, 'sedat': 109, 'art': 29, 'wnl': 82, 'gag': 45, 'swith': 2, 'vpace': 4, 'wrist': 41, 'virtual': 4, 'cmv': 52, 'coccxi': 2, 'light': 49, 'exit': 9, 'wash': 14, 'foley': 142, 'react': 10, 'piv': 61, 'urinari': 29, 'vesta': 15, 'vent': 103, 'good': 119, 'equal': 41, 'sore': 18, 'gluteal': 4, 'patent': 97, 'effect': 131, 'restraint': 44, 'adequ': 106, 'turn': 98, 'limit': 122, 'neuro': 134, 'respond': 111, 'alert': 78, 'sicu': 27, 'self': 42, 'buttock': 26, 'lo': 43, 'sxn': 44, 'remain': 193, 'tongu': 13, 'perrl': 55, 'pinpoint': 12, 'rec': 75, 'moder': 161, 'cream': 38, 'respons': 149, 'vari': 13, 'output': 108, 'mae': 51, 'waveform': 34, 'labil': 29, 'ls': 113, 'atrov': 43, 'arm': 78, 'often': 14, 'le': 32, 'abd': 152, 'mm': 122, 'unsupport': 1, 'discourag': 4, 'spite': 5, 'awar': 125, 'episod': 87, 'vss': 32, 'pain': 164, 'held': 86, 'gulteal': 1, 'approx': 62, 'sampl': 32, 'expriatori': 1, 'ogt': 71, 'reveal': 64, 'base': 165, 'back': 136, 'vanc': 53, 'bloodi': 50, 'bm': 86, 'mdi': 53, 'gum': 6, 'page': 48, 'refer': 33, 'gave': 34, 'restless': 42, 'touch': 41, 'aeb': 1, 'allevyn': 8, 'simv': 6, 'dim': 36, 'command': 117, 'mental': 66, 'warm': 77, 'flexion': 3, 'intermitt': 72, 'rest': 85, 'voic': 72, 'frequent': 92, 'ac': 81, 'tlcl': 13, \"'d\": 89, 'minimum': 7, 'ineffect': 13, 'suction': 118, 'vers': 68, 'maintain': 122, 'amber': 39, 'movement': 112, 'ooz': 40, 'tol': 66, 'chng': 1, 'duoderm': 30, 'lot': 16, 'suggest': 133, 'radial': 94, 'soap': 7, 'sluggish': 21, 'diminish': 103, 'done': 111, 'nacl': 5, 'lubric': 3, 'close': 83, 'heparin': 77, 'alin': 53, 'bacteri': 27, 'reach': 30, 'perrla': 25, 'squeez': 16, 'pace': 23, 'hm': 2, 'lt': 48, 'crackl': 86, 'rsbi': 63, 'goal': 116, 'sometim': 16, 'mod': 71, 'cpap': 63, 'purpos': 60, 'contract': 18, 'residu': 83, 'respir': 45, 'greater': 60, 'doe': 135, 'vt': 87, 'nonpurpos': 6, 'breast': 10, 'palpat': 34, 'expect': 54, 'micro': 24, 'resolv': 86, 'ectopi': 98, 'temp': 102, 'protud': 1, 'secret': 124, 'inplac': 5, 'rsc': 8, 'dampen': 14, 'grimac': 39, 'sent': 125, 'nontend': 28, 'decis': 96, 'push': 19, 'fld': 14, 'pale': 39, 'stage': 53, 'move': 96, 'vs': 106, 'due': 169, 'overnoc': 38, 'drainag': 53, 'alo': 24, 'amt': 126, 'notic': 16, 'scant': 72, 'track': 29, 'oil': 2, 'site': 79, \"'s\": 184, 'make': 108, 'appli': 83, 'pvc': 73, 'stimul': 61, 'poc': 35, 'drawn': 63, 'flovent': 7, 'v': 104, 'hand': 62, 'anemia': 34, 'prn': 116, 'administ': 63, 'shift': 155, 'comfort': 153, 'obes': 32, 'see': 148, 'toler': 128, 'stop': 93, 'accomod': 1, 'sequenti': 2, 'occasion': 89, 'call': 139, 'rsccvl': 1, 'impair': 47, 'riss': 39, 'sed': 23, 'yellow': 111, 'dark': 43, 'antifung': 13, 'minim': 147, 'carevu': 68, 'rang': 76, 'success': 48, 'gm': 40, 'agit': 74, 'tylenol': 66, 'throughout': 145, 'ting': 58, 'matter': 21, 'btwn': 2, 'inhal': 21, 'rn': 94, 'wheez': 83, 'dnr': 138, 'forearm': 8, 'tlcvl': 1, 'fecal': 16, 'sc': 42, 'blink': 5, 'ms': 81, 'sxning': 8, 'cefepim': 27, 'doppler': 86, 'skin': 153, 'observ': 25, 'bite': 19, 'dk': 11, 'afebril': 105, 'slightli': 131, 'morphin': 100, 'sx': 69, 'bleed': 77, 'bloodcultur': 1, 'coccyx': 61, 'inc': 43, 'otherwis': 100, 'pressur': 128, 'cc': 156, 'open': 98, 'advanc': 92, 'quadrant': 40, 'overbreath': 38, 'made': 180, 'dress': 52, 'gu': 110, 'fs': 45, 'npn': 76, 'thick': 126, 'clean': 36, 'posit': 166, 'billiou': 1, 'feet': 45, 'exp': 45, 'layer': 27, 'hypoact': 70, 'psv': 59, 'ii': 20, 'reflex': 33, 'iv': 179, 'heme': 57, 'reassess': 30, 'foam': 5, 'occ': 56, 'less': 111, 'perform': 96, 'hemoglobin': 2, 'size': 143, 'decreas': 161, 'cmx': 3, 'epiderm': 1, 'better': 80, 'hourli': 26, 'detect': 32, 'wheezi': 10, '@': 110, 'nt': 60, 'veri': 152, 'abx': 116, 'reciev': 38, 'eye': 117, 'extub': 74, 'updat': 107, 'latest': 34, 'whole': 8, 'freq': 42, 'threat': 2, 'treat': 105, 'throat': 62, 'order': 129, 'abl': 122, 'rla': 2, 'dni': 104, 'hernia': 19, 'discomfort': 59, 'night': 104, 'tonoc': 2, 'oral': 113, 'slough': 5, 'rt': 68, 'gi': 145, 'cont': 170, 'copiou': 49, 'cmo': 94, 'bolu': 108, 'via': 117, 'ps': 81, 'sm': 64, 'tx': 72, 'pend': 113, 'lll': 64, 'dri': 78, 'conduct': 21, 'oxycontin': 3, 'maintan': 1, 'wk': 9, '``': 74, 'precordi': 18, 'floor': 64, 'cap': 24, 'intrins': 7, 'dilt': 15, 'sip': 20, 'coumadin': 19, 'anterolater': 3, 'oder': 3, 'affect': 16, 'convert': 25, 'lopressor': 54, 'longer': 43, 'late': 33, 'yesterday': 99, 'specif': 89, 'unclear': 60, 'cta': 47, 'sta': 2, 'em': 11, 'historian': 1, 'transit': 44, 'liquid': 60, 'flare': 6, 'ago': 44, 'paranoid': 2, 'grand': 5, 'golden': 13, 'drowsi': 4, 'hostil': 1, 'occa': 24, 'foleu': 1, 'away': 28, 'diarrhea': 27, 'neg': 110, 'twice': 17, 'chronic': 93, 'afib': 54, 'forget': 3, 'slept': 28, 'myocardi': 38, 'ra': 68, 'overnight': 110, 'pass': 86, 'id': 116, 'mushroom': 13, 'af': 32, 'hosp': 10, 'essenti': 47, 'orient': 78, 'take': 85, 'ble': 16, 'hyperact': 5, 'nap': 13, 'possibl': 165, \"''\": 67, 'stand': 42, 'flagyl': 52, 'margin': 43, 'infarct': 60, 'diffus': 115, 'safeti': 33, 'hurt': 1, 'nsr': 75, 'believ': 16, 'trace': 131, 'confus': 41, 'diff': 53, 'upstair': 1, 'date': 125, 'lentiform': 1, 'gastric': 38, 'intracrani': 27, 'complet': 103, 'nuclei': 1, 'osseou': 43, 'bile': 20, 'gallbladd': 35, 'proxim': 44, 'lft': 27, 'persist': 117, 'attenu': 12, 'routin': 20, 'vessel': 34, 'find': 179, 'contraind': 61, 'mayb': 8, 'fundu': 9, 'identifi': 69, 'diagnost': 41, 'paranas': 18, 'rotat': 36, 'malposit': 10, 'vein': 73, 'chf': 75, 'foci': 5, 'hemorrhag': 59, 'ge': 14, 'duct': 13, 'cell': 58, 'biliari': 21, 'slight': 83, 'markedli': 26, 'colon': 41, 'obstruct': 80, 'invers': 16, 'almost': 18, 'mild': 132, 'pulmonari': 179, 'ngt': 69, 'man': 120, 'air': 121, 'lesion': 61, 'midlin': 54, 'gallston': 13, 'supin': 58, 'structur': 66, 'overal': 100, 'sludg': 5, 'subcort': 3, 'indic': 183, 'white': 79, 'focal': 69, 'ischemia': 46, 'eval': 127, 'junction': 68, 'ball': 3, 'mark': 67, 'lacunar': 8, 'common': 31, 'us': 62, 'within': 111, 'axial': 46, 'sinus': 23, 'preserv': 24, 'echotextur': 3, 'vascular': 117, 'organ': 59, 'liver': 57, 'cirrhosi': 10, 'esophagu': 19, 'locat': 73, 'flow': 108, 'tachypnea': 53, 'ventricular': 95, 'side': 145, 'extra': 24, 'mastoid': 22, 'atelectasi': 97, 'irregular': 25, 'oxygen': 102, 'portal': 20, 'cours': 98, 'techniqu': 92, 'hypopharynx': 2, 'intra': 29, 'inspir': 7, 'secondari': 79, 'allow': 66, 'silhouett': 84, 'overt': 13, 'contrast': 102, 'lethargi': 14, 'patholog': 27, 'path': 4, 'kidney': 58, 'measur': 128, 'multifoc': 68, 'associ': 51, 'nonshadow': 1, 'ascit': 36, 'apex': 37, 'ultrasound': 50, 'hydronephrosi': 24, 'float': 4, 'segment': 37, 'overload': 65, 'antegrad': 2, 'avl': 7, 'hepatopathi': 1, 'tissu': 49, 'coil': 16, 'scatter': 47, 'microvascular': 7, 'thirteen': 2, 'periventricular': 13, 'slow': 50, 'surround': 29, 'singl': 108, 'clariti': 3, 'mgm': 7, 'onc': 87, 'firm': 37, 'green': 37, 'reslut': 1, 'levoph': 68, 'ho': 53, 'await': 92, 'risb': 2, 'rectal': 51, 'yankauer': 5, '^': 31, 'result': 115, 'vea': 25, 'sy': 20, 'front': 6, 'chart': 32, 'per': 161, 'nsg': 54, 'extend': 60, 'tickl': 1, 'rll': 66, 'grade': 35, 'request': 90, 'relief': 29, 'febril': 33, 'uncomfort': 40, 'congest': 78, 'ett': 98, 'systol': 99, 'tan': 80, 'convers': 34, 'local': 32, 'facial': 20, 'accept': 44, 'mso': 46, 'transfer': 91, 'abdomin': 99, 'male': 76, 'piec': 6, 'labor': 45, 'wish': 78, 'airway': 80, 'bring': 13, 'ativan': 65, 'whether': 21, 'brown': 74, 'english': 8, 'liquidi': 2, 'gauz': 8, 'reposit': 70, 'pmicu': 20, \"'\": 36, 'ax': 33, 'ob': 25, 'pnx': 13, 'deminish': 10, \"n't\": 38, 'nose': 55, 'bronchodil': 14, 'lymphadenopathi': 34, 'poorli': 33, 'ks': 3, 'color': 97, 'siderail': 6, 'suport': 3, 'approp': 5, 'fair': 32, 'obscur': 41, 'suct': 18, 'overinfl': 3, 'shake': 26, 'pl': 28, 'alarm': 28, 'tl': 7, 'pleas': 158, 'narr': 9, 'fragil': 7, 'pmd': 1, 'doze': 10, 'hd': 40, 'visibl': 30, 'paraesophag': 2, 'hypotent': 6, 'help': 71, 'neoplasm': 10, 'tv': 58, 'sleep': 84, 'fo': 12, 'mv': 28, 'respalar': 1, 'letharg': 49, 'mediastin': 83, 'restart': 75, 'fail': 55, 'staff': 47, 'bue': 12, 'climb': 16, 'benefit': 36, 'middl': 32, 'enlarg': 79, 'careview': 34, 'fi': 37, 'get': 98, 'cabg': 17, 'object': 62, 'came': 51, 'tubefeed': 3, 'spike': 28, 'degrad': 4, 'stimuli': 104, 'heavi': 14, 'respon': 5, 'ther': 3, 'verbal': 82, 'invas': 69, 'inconsist': 15, 'go': 68, 'pull': 66, 'gross': 16, 'uo': 65, 'reactiv': 47, 'facil': 12, 'cancer': 41, 'viabl': 3, 'eve': 35, 'hiatal': 9, 'ivb': 9, 'thru': 14, 'uop': 56, 'ealier': 1, 'difficult': 119, 'subclavian': 51, 'toilet': 45, 'arous': 60, 'airspac': 43, 'dd': 3, 'collaps': 55, 'reccomend': 3, 'suppositori': 4, 'thorax': 16, 'fever': 94, 'contain': 19, 'concentr': 25, 'titrat': 106, 'mrsa': 35, 'volvulu': 1, 'whiteish': 1, 'noo': 1, 'bronch': 44, 'bibasilar': 66, 'pheripher': 1, 'larg': 137, 'sl': 26, 'hypoattenu': 7, 'alter': 52, 'prolong': 38, 'respalor': 2, 'gd': 10, 'wiggl': 6, 'antb': 5, 'motion': 58, 'spont': 27, 'lasix': 72, 'pulm': 97, 'bcx': 13, 'period': 73, 'senekot': 2, 'grab': 5, 'risen': 1, 'obstruc': 1, 'modest': 8, 'opacif': 92, 'grim': 6, 'thu': 32, 'amintain': 1, 'gather': 5, 'biopsi': 15, 'extremit': 8, 'simpl': 70, 'sediment': 37, 'institut': 7, 'respalo': 1, 'pneumon': 20, 'option': 36, 'housestaff': 8, 'sine': 1, 'broncial': 2, 'earlier': 100, 'gen': 32, 'lumen': 74, 'said': 27, 'rhonchi': 68, 'rd': 14, 'tko': 2, 'high': 133, 'complex': 26, 'sd': 5, 'nuero': 7, 'hemolyz': 1, 'half': 17, 'ask': 75, 'togeth': 9, 'thought': 39, 'bath': 19, 'ing': 10, 'inflat': 9, 'integ': 18, 'cpa': 2, 'bow': 3, 'precaut': 63, 'activ': 71, 'unrestrain': 8, 'senna': 24, 'immobl': 3, 'patchi': 41, 'area': 117, 'littl': 91, 'proceedur': 1, 'metrondiazol': 1, 'cad': 41, 'max': 69, 'metronidazol': 16, 'numer': 20, 'thisk': 1, 'becom': 80, 'far': 40, 'postobstruct': 3, 'lay': 5, 'probabl': 114, 'cuff': 52, 'colac': 37, 'background': 12, 'obviou': 39, 'unit': 90, 'stim': 13, 'maximum': 7, 'obj': 1, 'pearl': 11, 'kickinga': 1, 'dulcolax': 10, 'follw': 7, 'lg': 38, 'dc': 63, 'cx': 85, 'pleuracentesi': 1, 'respirtori': 2, 'look': 56, 'mostli': 31, 'leg': 46, 'nod': 42, 'calm': 29, 'red': 55, 'easili': 44, 'although': 95, 'palpabl': 33, 'cardio': 15, 'purpl': 16, 'ad': 62, '^^': 11, 'pox': 6, 'tri': 79, 'even': 100, 'risk': 62, 'stabil': 29, 'vsl': 1, 'unev': 22, 'partial': 53, 'coronari': 34, 'cn': 10, 'sheet': 37, 'noxiou': 28, 'edemat': 27, 'diuresi': 42, 'awak': 62, 'board': 19, 'tachycard': 47, 'andswer': 1, 'space': 48, 'pocket': 6, 'liter': 80, 'rare': 52, 'bulki': 2, 'bone': 34, 'necrosi': 7, 'necrot': 12, 'inconsistantli': 4, 'noc': 36, 'icreas': 1, 'put': 55, 'somewhat': 53, 'dead': 22, 'nevertheless': 3, 'svt': 24, 'organo': 1, 'tripl': 31, 'cathart': 2, 'pndg': 3, 'therapi': 87, 'pronounc': 64, 'round': 66, 'fluctuat': 14, 'nd': 51, 'bid': 14, 'pit': 29, 'respolar': 2, 'toe': 24, 'peerla': 4, 'tire': 18, 'repond': 2, 'prognosi': 67, 'kick': 5, 'feed': 87, 'opacifi': 12, 'regard': 83, 'ionic': 3, 'prbc': 51, 'hemodyn': 2, 'window': 33, 'multi': 47, 'diseas': 118, 'spo': 97, 'restaint': 2, 'bronchoscopi': 30, 'optiray': 24, 'obey': 11, 'begin': 59, 'thrush': 8, 'rsmall': 1, 'perla': 15, 'reduc': 42, 'darker': 2, 'ray': 54, 'run': 62, 'spasm': 3, 'withdraw': 68, 'remin': 3, 'ab': 22, 'mn': 41, 'focu': 47, 'ah': 3, 'suspici': 28, 'vanco': 109, 'loop': 48, 'sourc': 62, 'integr': 35, 'uprbc': 14, 'mechan': 69, 'givn': 5, 'outsid': 15, 'anasarca': 31, 'priest': 27, 'healthi': 5, 'breakdown': 46, 'quit': 28, 'criteria': 18, 'overli': 45, 'contist': 1, 'fiber': 16, 'excel': 15, 'therapeut': 36, 'fib': 47, 'let': 19, 'spon': 11, 'movment': 3, 'mildli': 76, 'tracheostomi': 33, 'calcifi': 33, 'satisfactori': 23, 'tlc': 31, 'decidd': 1, 'ectub': 1, 'autoflow': 28, 'grandchildren': 2, 'centimet': 12, 'constantli': 11, 'word': 24, 'yest': 13, 'mattress': 13, 'pulmon': 32, 'continnu': 2, 'desat': 66, 'wors': 53, 'combiv': 13, 'beyond': 23, 'definit': 48, 'lighter': 2, 'face': 59, 'interstiti': 59, 'moment': 10, 'functin': 1, 'becam': 89, 'toliet': 5, 'give': 77, 'antibx': 39, 'saturday': 10, 'pink': 49, 'azygo': 4, 'teen': 29, 'surgic': 44, 'loos': 52, 'redden': 25, 'fb': 18, 'theraput': 2, 'borderlin': 49, 'pictur': 20, 'haldol': 21, 'anesthesia': 29, 'remai': 2, 'way': 32, 'tent': 28, 'hx': 59, 'infil': 1, 'difficulti': 61, 'lrge': 1, 'rectum': 26, 'yet': 46, 'substanti': 44, 'regimin': 4, 'mad': 4, 'problem': 55, 'soon': 21, 'coocyx': 1, 'divid': 10, 'shoulder': 19, 'mcq': 15, 'extent': 39, 'tomorrow': 65, 'comlet': 1, 'satur': 48, 'sbt': 31, 'evelv': 1, 'agreement': 26, 'settl': 27, 'interact': 22, 'vol': 44, 'talk': 52, 'wrote': 7, 'befor': 76, 'ensu': 2, 'lnc': 14, 'node': 33, 'quickli': 45, 'pursu': 19, 'fibrosi': 20, 'respondibng': 1, 'crest': 1, 'bun': 98, 'levo': 67, 'na': 39, 'everyth': 9, 'nrb': 46, 'comfirm': 1, 'kcl': 40, 'levoflox': 29, 'bb': 33, 'trach': 40, 'nasogastr': 79, 'becaus': 42, 'mainli': 12, 'incres': 2, 'og': 51, 'nonspecif': 26, 'pattern': 79, 'cl': 19, 'breathsound': 5, 'lavag': 30, 'letter': 4, 'pap': 18, 'bo': 5, 'tachypn': 56, 'treatment': 90, 'maew': 4, 'grandson': 6, 'incr': 10, 'paradox': 13, 'term': 43, 'young': 1, 'depth': 4, 'tear': 34, 'rebolu': 1, 'lightli': 16, 'three': 35, 'fe': 6, 'plug': 43, 'bye': 6, 'wife': 53, 'perihilar': 37, 'asystol': 33, 'contempl': 1, 'iliac': 10, 'strong': 37, 'avail': 65, 'hard': 23, 'alreadi': 27, 'shortli': 15, 'notifi': 87, 'promot': 19, 'mortem': 12, 'remov': 110, 'reintub': 19, 'hardwar': 6, 'accord': 30, 'sump': 3, 'summeri': 1, 'desatur': 58, 'dramat': 8, 'began': 33, 'cre': 7, 'cpt': 34, 'ild': 5, 'ensur': 15, 'reevalu': 12, 'acv': 10, 'ngtd': 22, 'complianc': 30, 'dysynchroni': 34, 'instabl': 24, 'steadili': 3, 'plateau': 43, 'dispo': 43, 'vomit': 30, 'life': 29, 'narcot': 13, 'paramet': 27, 'belli': 8, 'kq': 2, 'aprv': 4, 'totol': 1, 'confort': 4, 'alveolar': 33, 'knob': 3, 'synch': 8, 'bilat': 73, 'sharp': 13, 'swell': 22, 'pb': 3, 'hypoxia': 104, 'perl': 27, 'pan': 30, 'zone': 30, 'doxycyclin': 2, 'lpm': 5, 'decison': 1, 'mask': 66, 'reportedli': 16, '&': 126, 'intens': 5, 'chaplain': 5, 'stamp': 1, 'lack': 28, 'sob': 79, 'guid': 28, 'occular': 1, 'mgx': 3, 'anywher': 4, 'age': 21, 'punctur': 15, 'softner': 1, 'cathol': 8, 'magso': 2, 'coliti': 19, 'recov': 26, 'neb': 70, 'nr': 5, 'spell': 4, 'fro': 7, 'dopa': 7, 'hypox': 45, 'mother': 27, 'retinopathi': 1, 'tolarg': 1, 'inflam': 4, 'xray': 28, 'poss': 21, 'unsaf': 3, 'name': 30, 'bigger': 2, 'descis': 1, 'caus': 63, 'enc': 5, 'listen': 5, 'trigger': 39, 'codein': 8, 'reorient': 15, 'gaurdianship': 1, 'vision': 12, 'accessori': 31, 'lost': 7, 'pr': 49, 'exert': 9, 'duski': 10, 'replac': 55, 'episdo': 1, 'pn': 6, 'wear': 10, 'water': 54, 'cdiff': 19, 'closer': 4, 'mani': 40, 'doubl': 34, 'aunt': 2, 'plu': 13, 'thank': 19, 'ect': 5, 'lunch': 4, 'lnp': 4, 'fluconazol': 9, 'oj': 1, 'sedimen': 2, 'palp': 15, 'npc': 5, 'disori': 7, 'humidifi': 12, 'azithromycin': 22, 'slowli': 52, 'balloon': 14, 'address': 43, 'fm': 15, 'exurt': 1, 'amnt': 2, 'qhr': 5, 'confluent': 23, 'fell': 16, 'appetit': 13, 'implant': 2, 'lorazepam': 16, 'overcom': 2, 'coverag': 67, 'send': 38, 'intak': 43, 'cannula': 38, 'aaox': 2, 'wind': 1, 'hover': 5, 'pneumocysti': 5, 'nrbm': 4, 'tenuou': 24, 'hiflow': 4, 'apart': 5, 'babi': 2, 'fruit': 1, 'membran': 10, 'qod': 4, 'weepi': 2, 'basil': 12, 'fine': 24, 'cramp': 1, 'restr': 2, 'soc': 21, 'watch': 16, 'alseep': 1, 'bit': 22, 'assign': 4, 'spanish': 3, 'children': 24, 'deficit': 14, 'pleurit': 4, 'asleep': 14, 'ppn': 4, 'peac': 12, 'nasal': 59, 'decr': 6, 'anxiou': 53, 'fa': 8, 'leav': 26, 'hyponatremia': 6, 'lat': 11, 'sister': 43, 'procedur': 99, 'noon': 29, 'center': 17, 'pnd': 27, 'fsb': 18, 'free': 97, 'ltr': 1, 'especi': 22, 'welfar': 1, 'pu': 2, 'eat': 26, 'atrium': 66, 'psi': 6, 'food': 18, 'dip': 12, 'obatin': 2, 'pcp': 36, 'diet': 57, 'compr': 1, 'ice': 10, 'frequenc': 13, 'induc': 23, 'cover': 72, 'fingerstick': 17, 'np': 15, 'stick': 48, 'zosyn': 67, 'juic': 5, 'incont': 9, 'draw': 44, 'return': 91, 'softli': 24, 'minor': 8, 'muscl': 58, 'sync': 7, 'deteri': 1, 'occassion': 12, 'machin': 13, 'ss': 31, 'fx': 10, 'througout': 5, 'isol': 16, 'bacitracin': 1, 'gluc': 5, 'guardian': 6, 'shovel': 10, 'financila': 1, 'surviv': 11, 'stat': 21, 'reg': 28, 'ass': 9, 'void': 21, 'sleev': 3, 'picc': 59, 'rail': 3, 'pag': 3, 'nonproduct': 10, 'quad': 12, 'potenti': 48, 'tfr': 1, 'bedpan': 4, 'tommorrow': 9, 'whi': 15, 'much': 83, 'dyspneic': 9, 'els': 8, 'chip': 5, 'hiv': 5, 'specimen': 22, 'save': 3, 'felt': 44, 'shallow': 21, 'sporad': 2, 'induct': 3, 'moniotr': 4, 'fungal': 19, 'nonprod': 2, 'ox': 23, 'carinii': 2, 'mucou': 35, 'visitor': 13, 'axitey': 1, 'antigen': 11, 'guaifenesin': 3, 'straight': 3, 'sugar': 32, 'kid': 2, 'syrup': 2, 'heplock': 6, 'anxieti': 44, 'awaken': 14, 'incontin': 19, 'endo': 54, 'assum': 10, 'antecub': 4, 'custard': 3, 'bay': 1, 'confirm': 83, 'fit': 5, 'mention': 20, 'asymmetr': 24, 'sux': 5, 'dced': 3, 'focus': 27, 'dsg': 34, 'fellow': 39, 'cvvhd': 14, 'tabl': 14, 'screen': 24, 'greatli': 8, 'mlc': 2, 'daili': 72, 'tape': 21, 'quiac': 5, 'radiologist': 17, 'kinair': 7, 'iintub': 1, 'ar': 28, 'cava': 25, 'compens': 21, 'weep': 16, 'lessen': 4, 'mexiliten': 1, 'absorbs': 1, 'crrt': 11, 'pneumo': 13, 'unchg': 1, 'leak': 50, 'angiograph': 9, 'readjust': 6, 'ip': 27, 'dialysi': 41, 'configur': 8, 'consent': 39, 'bacteremia': 10, 'rib': 15, 'suppport': 6, 'aorta': 65, 'bypass': 7, 'inject': 19, 'ir': 24, 'jeopard': 1, 'fibril': 54, 'bigemini': 8, 'wire': 36, 'diminsh': 13, 'cardiomegali': 48, 'pacemak': 15, 'pacer': 12, 'crit': 15, 'jerki': 1, 'aquasel': 1, 'consumpt': 2, 'interpret': 59, 'creat': 70, 'cbc': 21, 'hytap': 1, 'armboard': 1, 'prep': 20, 'duplex': 10, 'dsging': 1, 'predominantli': 25, 'tell': 11, 'hg': 52, 'stuck': 5, 'hep': 31, 'pill': 13, 'sput': 14, 'midnit': 2, 'util': 19, 'fluoro': 13, 'revis': 9, 'chamber': 21, 'direct': 38, 'fem': 19, 'lv': 38, 'hemhroid': 1, 'chge': 1, 'dual': 14, 'toward': 45, 'needl': 13, 'bsa': 32, 'pfr': 7, 'dup': 4, 'hydrocortison': 11, 'citrat': 6, 'wide': 35, 'gr': 10, 'grossli': 46, 'aicd': 3, 'spt': 2, 'fentanyl': 79, 'amiodaron': 22, 'creation': 1, 'precis': 4, 'guidanc': 19, 'edg': 6, 'belong': 14, 'thoracentesi': 21, 'interrog': 1, 'deliv': 12, 'tannish': 8, 'cleans': 18, 'lido': 2, 'five': 3, 'tte': 46, 'emerg': 28, 'graft': 9, 'mexiletin': 1, 'fluoroscop': 18, 'decub': 12, 'septal': 28, 'poe': 10, 'hemodi': 2, 'rrt': 16, 'lidocain': 19, 'incis': 9, 'seriou': 7, 'bundl': 29, 'upon': 57, 'regurgit': 42, 'adapt': 13, 'anatomi': 5, \"'ll\": 1, 'quentin': 1, 'lock': 4, 'axillari': 42, 'told': 18, 'usual': 31, 'sero': 3, 'complic': 61, 'tele': 18, 'entri': 9, 'reduct': 13, 'reseal': 1, 'ideal': 40, 'vassopressin': 2, 'rxed': 1, 'reject': 1, 'plct': 10, 'obvious': 6, 'anti': 22, 'peel': 16, 'agon': 24, 'branch': 34, 'hypokinesi': 25, 'aquacel': 6, 'pulseless': 6, 'vasopressor': 21, 'depart': 8, 'sch': 11, 'sanguin': 6, 'load': 27, 'steril': 25, 'toxic': 17, 'jerk': 4, 'septum': 33, 'hemothorax': 6, 'fent': 46, 'sheath': 21, 'nite': 2, 'insomnia': 4, 'documetn': 1, 'ef': 43, 'oett': 15, 'mech': 17, 'lyte': 79, 'cvvhdf': 6, 'necessari': 40, 'rx': 36, 'multipodu': 8, 'anyth': 17, 'interatri': 30, 'deep': 40, 'inch': 46, 'suboptim': 28, 'ventricl': 59, 'attent': 41, 'posterior': 48, 'semi': 40, 'blb': 9, 'acidot': 23, 'dermabond': 1, 'thicken': 66, 'opsit': 2, 'explain': 46, 'overnit': 3, 'ica': 6, 'mortum': 4, 'fire': 2, 'standard': 78, 'fashion': 16, 'co': 66, 'say': 34, 'chged': 1, 'xylocain': 1, 'flush': 45, '^^wob': 2, 'accompani': 24, 'extext': 3, 'qid': 24, 'qualiti': 54, 'moist': 14, 'dysfunct': 42, 'aloevesta': 2, 'micropunctur': 11, 'cavoatri': 28, 'oh': 1, 'hemodialysi': 16, 'desynchroni': 1, 'knee': 8, 'adaptic': 1, 'postion': 4, 'rusti': 9, 'plaement': 1, 'blade': 2, 'seal': 17, 'corneal': 18, 'cvvh': 17, 'wall': 84, 'tortuou': 13, 'beat': 46, 'tunnel': 8, 'mitral': 44, 'tract': 17, 'conclus': 47, 'cp': 29, 'shown': 12, 'patenc': 9, 'soften': 3, 'particip': 14, 'number': 30, 'surgigel': 3, 'either': 36, 'project': 53, 'lb': 38, 'pericardium': 39, 'aerat': 47, 'anticip': 21, 'inpati': 43, 'adequato': 1, 'test': 65, 'nutren': 25, 'leaflet': 39, 'supervis': 12, 'cyu': 6, 'equivoc': 6, 'drape': 15, 'contin': 12, 'tap': 21, 'sutur': 17, 'clot': 41, 'melanot': 1, 'temperatur': 28, 'reappli': 3, 'height': 77, 'neosynephrin': 18, 'hit': 14, 'bil': 39, 'replct': 10, 'guiac': 20, 'vtach': 15, 'supervisig': 1, 'wo': 6, 'steroid': 42, 'lift': 7, 'superior': 42, 'coarser': 1, 'pla': 1, 'secur': 31, 'barrier': 38, 'ppi': 49, 'ccu': 13, 'rv': 38, 'cath': 77, 'guidewir': 10, 'till': 19, 'wound': 32, 'lascer': 1, 'chg': 9, 'resum': 37, 'french': 20, 'technic': 50, 'restrain': 17, 'everi': 29, 'damp': 4, 'thin': 69, 'prednison': 22, 'streak': 10, 'ivp': 56, 'vena': 25, 'paper': 6, 'percutan': 4, 'tone': 60, 'lump': 2, 'gel': 9, 'syst': 1, 'cardiolog': 24, 'afeb': 20, 'defibril': 10, 'assessment': 1, 'fairli': 21, 'deterior': 30, 'cal': 13, 'transven': 4, 'tid': 31, 'prolen': 1, 'scrub': 1, 'fulli': 38, 'moistur': 7, 'wob': 31, 'weight': 86, 'subcutan': 23, 'ecchymot': 9, 'venopunctur': 2, 'readi': 37, 'hrli': 2, 'heel': 14, 'dsd': 18, 'sternal': 18, 'alleyvn': 1, 'femor': 39, 'th': 19, 'fractur': 25, 'valv': 58, 'switch': 47, 'clearer': 12, 'levof': 7, 'secreat': 24, 'ion': 3, 'ffp': 24, 'ie': 7, 'umbil': 2, 'distal': 59, 'digit': 3, 'br': 3, 'serou': 26, 'swollen': 14, 'administr': 37, 'best': 29, 'glucon': 13, 'spend': 5, 'nml': 5, 'levoquin': 13, 'scl': 4, 'rle': 5, 'cpncp': 1, 'vaselin': 2, 'bare': 7, 'languag': 14, 'caludin': 1, 'relax': 11, 'areaa': 1, 'bright': 12, 'fear': 8, 'wt': 7, 'ethic': 8, 'passiv': 3, 'length': 26, 'briskli': 7, 'accesori': 2, 'jp': 4, 'heal': 18, 'vigor': 15, 'brb': 9, 'consid': 99, 'lc': 9, 'tm': 12, 'di': 5, 'dicat': 1, 'twenti': 4, 'exposur': 8, 'preop': 1, 'coag': 26, 'realiti': 2, 'pitressin': 7, 'mucousi': 2, 'nectot': 1, 'maroon': 8, 'gase': 11, 'neurolog': 63, 'fingertip': 2, 'flagli': 1, 'smaller': 23, 'schedul': 36, 'dm': 23, 'protonix': 38, 'determin': 43, 'scrotal': 4, 'incisin': 1, 'bilou': 3, 'hypo': 22, 'great': 28, 'tonight': 45, 'cloudi': 28, 'minior': 2, 'perfus': 24, 'fight': 3, 'bulb': 2, 'tmap': 1, 'compromis': 25, 'hungri': 7, 'step': 21, 'bilingu': 1, 'patch': 28, 'near': 36, 'escar': 1, 'asp': 27, 'esrd': 14, 'occl': 1, 'manitain': 2, 'desir': 23, 'mulit': 2, 'stapl': 4, 'apnea': 21, 'spiritu': 4, 'ctic': 1, 'infrequ': 12, 'gelatin': 2, 'apneic': 12, 'quinton': 3, 'wed': 28, 'fighter': 2, 'surgeri': 45, 'fore': 1, 'levofloxicin': 1, 'recheck': 40, 'towel': 4, 'miss': 4, 'yankaur': 7, 'finger': 44, 'lue': 18, 'mucoid': 3, 'translat': 10, 'grayish': 3, 'tremor': 9, 'cyanot': 14, 'ultrafiltr': 4, 'ear': 60, 'mulitpl': 3, 'futur': 27, 'emesi': 21, 'collect': 43, 'content': 17, 'accur': 15, 'drianag': 1, 'briefli': 35, 'aggreement': 1, 'declin': 66, 'requirin': 1, 'bodi': 79, 'hypotherm': 19, 'pleth': 5, 'lw': 9, 'kept': 38, 'upc': 1, 'aid': 21, 'evel': 2, 'dra': 1, 'pager': 10, 'bld': 25, 'pac': 35, 'incison': 1, 'peri': 15, 'tpa': 6, 'scan': 57, 'import': 9, 'nearli': 10, 'rlle': 1, 'wherea': 2, 'adb': 1, 'placemen': 1, 'bagdsd': 1, 'etc': 32, 'convict': 1, 'avpac': 2, 'fasia': 1, 'reconcil': 1, 'defib': 2, 'black': 11, 'hugger': 20, 'msi': 2, 'sacral': 10, 'lengthi': 5, 'delin': 4, 'wonder': 3, 'irrig': 15, 'brought': 32, 'unless': 12, 'pray': 6, 'occur': 34, 'foul': 5, 'uffp': 4, 'elimin': 7, 'end': 90, 'tpn': 27, 'wd': 3, 'meticul': 2, 'licw': 2, 'clacium': 1, 'estrem': 1, 'refil': 6, 'suit': 6, 'av': 17, 'sacrum': 13, 'linear': 11, 'palm': 1, 'hesit': 3, 'lle': 8, 'rue': 13, 'dopp': 4, 'drb': 2, 'intrus': 1, 'shut': 28, 'quintin': 2, 'woud': 1, 'purul': 9, 'rewir': 3, 'clamp': 24, 'gastrectomi': 1, 'forehead': 4, 'butt': 2, 'gib': 11, 'vitamin': 14, 'plane': 7, 'gromac': 1, 'heat': 2, 'describ': 38, 'sao': 25, 'biliou': 25, 'assit': 2, 'least': 44, 'qd': 22, 'battl': 1, 'among': 6, 'weekend': 21, 'blue': 12, 'bair': 18, 'glu': 8, 'kvo': 22, 'diaphragm': 51, 'first': 47, 'vnet': 1, 'stiff': 11, 'cooler': 4, 'lengthli': 1, 'friendli': 1, 'inciis': 1, 'cagluc': 4, 'gratitud': 3, 'rom': 10, 'follwo': 2, 'sctotum': 1, 'unequ': 6, 'ioniz': 34, 'sec': 24, 'sad': 5, 'correct': 33, 'rise': 50, 'mtg': 27, 'multisystem': 5, 'fri': 24, 'appreci': 64, 'slogh': 1, 'bg': 15, 'chanc': 7, 'frequet': 1, 'rhonchor': 43, 'filter': 13, 'draing': 6, 'pick': 17, 'fluc': 2, 'ue': 21, 'trust': 2, 'die': 31, 'exhaust': 4, 'attitud': 1, 'hope': 41, 'portugues': 1, 'dtr': 28, 'gentli': 7, 'separ': 5, 'scrotum': 6, 'lingular': 3, 'larger': 30, 'brownish': 11, 'purluant': 1, 'comress': 1, 'written': 31, 'ced': 11, 'roommat': 1, 'atr': 9, 'motil': 13, 'nahco': 6, 'atc': 11, 'expans': 50, 'grin': 1, 'net': 16, 'bronc': 2, 'happi': 7, 'tue': 28, 'multip': 1, 'spec': 31, 'unsustain': 2, 'liq': 15, 'eccymoisi': 1, 'player': 1, 'compliant': 7, 'portex': 6, 'oincreas': 1, 'blanket': 17, 'discard': 4, 'douderm': 4, 'antidepress': 3, 'bond': 3, 'remav': 1, 'walk': 9, 'nwith': 1, 'symptomat': 6, 'prob': 8, 'kub': 19, 'alb': 25, 'infreq': 2, 'stau': 5, 'clearanc': 7, 'audibl': 25, 'sprint': 1, 'periph': 4, 'reasobali': 1, 'target': 10, 'expiratori': 20, 'gain': 7, 'ic': 2, 'mouht': 1, 'freeli': 3, 'accuraci': 3, 'protein': 30, 'caregiv': 3, 'receic': 1, 'trail': 5, 'mst': 1, 'asymthomat': 1, 'bout': 4, 'torso': 25, 'hydrat': 23, 'secrtion': 1, 'eas': 11, 'polymorph': 3, 'reflect': 49, 'peg': 31, 'clock': 4, 'write': 15, 'huge': 5, 'phenergan': 1, 'dvd': 1, 'dialyisi': 1, 'recal': 3, 'valu': 36, 'mean': 18, 'shoot': 1, 'begun': 8, 'sucion': 1, 'granula': 1, 'prev': 8, 'facilit': 14, 'reddish': 1, 'lsc': 8, 'cooper': 26, 'throught': 3, 'dializ': 2, 'drive': 16, 'mbp': 2, 'appropriatli': 7, \"'m\": 4, 'couplet': 3, 'mentat': 5, 'nonsustain': 1, 'titer': 2, 'type': 62, 'advers': 12, 'visabl': 1, 'bottom': 4, 'troubl': 7, 'hy': 1, 'shop': 1, 'balnac': 1, 'nois': 4, 'catch': 1, 'slint': 1, 'perianl': 1, 'stimulu': 13, 'exercis': 10, 'nkda': 11, 'afterward': 8, 'refus': 32, 'pk': 3, 'sleepi': 6, 'ach': 2, 'greenish': 11, 'account': 9, 'neo': 37, 'memori': 6, 'disturb': 4, 'tast': 1, 'dialysis': 2, 'discharg': 32, 'meanwhil': 1, 'somul': 4, 'hemo': 2, 'calibr': 3, 'mvr': 2, 'zero': 14, 'morgu': 17, 'yl': 1, 'triadyn': 7, 'redraw': 5, 'pvd': 14, 'card': 42, 'lie': 24, 'week': 49, 'tgd': 1, 'si': 5, 'pgt': 3, 'glargen': 2, 'inccreas': 1, 'pleasant': 14, 'stoma': 5, 'bedrest': 4, 'gradual': 21, 'asssess': 1, 'rehab': 39, 'minimali': 2, 'challang': 1, 'ssri': 10, 'bradycard': 16, 'beinfit': 1, 'part': 40, 'dialyz': 6, 'rigid': 7, 'stare': 3, 'fewer': 4, 'sure': 16, 'profoundli': 3, 'town': 7, 'vioxx': 1, 'fifteen': 1, 'frame': 4, 'pharm': 2, 'ivpb': 2, 'coumidin': 1, 'infact': 2, 'tarri': 2, 'rhonchial': 2, 'dyspnea': 53, 'uq': 1, 'reincert': 1, 'integumentari': 13, 'withdrawn': 20, 'colleg': 1, 'sxing': 15, 'bairhugg': 6, 'poitiv': 1, 'aggit': 12, 'fan': 1, 'fianrd': 1, 'happen': 9, 'grip': 5, 'mf': 2, 'sp': 17, 'enough': 24, 'sxtn': 3, 'dp': 72, 'distract': 1, 'acidod': 2, 'peroxid': 1, 'build': 2, 'gtube': 3, 'soda': 1, 'discoordin': 8, 'circuit': 7, 'surfac': 7, 'aprox': 1, 'ayt': 1, 'butr': 1, 'pretti': 4, 'dialys': 2, 'stem': 11, 'primarili': 18, 'hs': 11, 'dorsali': 9, 'admin': 13, 'pleasur': 2, 'syring': 8, 'nnpn': 1, 'sid': 1, 'nausea': 28, 'derm': 7, 'worker': 22, 'heperin': 2, 'loc': 8, 'paco': 12, 'bank': 15, 'resist': 28, 'modul': 1, 'absorbt': 2, 'ok': 37, 'alot': 7, 'correl': 59, 'sq': 44, 'oob': 18, 'compress': 52, 'tight': 13, 'seret': 1, 'pseudamona': 1, 'highli': 8, 'reliev': 17, 'item': 3, 'decubitu': 15, 'ashen': 4, 'initit': 2, 'renmain': 1, 'heard': 21, 'ten': 3, 'warmer': 4, 'gnd': 2, 'never': 14, 'ked': 1, 'chair': 17, 'survail': 1, 'cri': 16, 'ambu': 15, 'woken': 4, 'coupl': 23, 'quo': 2, 'hydrogen': 1, 'endoc': 11, 'pp': 24, 'hypoglycem': 2, 'thing': 15, 'escap': 1, 'sours': 2, 'main': 45, 'beir': 1, 'neutrapho': 5, 'atro': 7, 'pa': 51, 'drink': 10, 'relat': 81, 'yel': 1, 'significantli': 58, 'rhochi': 1, 'tachi': 31, 'asymptomat': 8, 'ileu': 21, \"'ve\": 2, 'perlla': 1, '{': 64, 'station': 3, 'hem': 8, 'unlik': 35, '}': 64, 'midodrin': 3, 'perin': 3, 'hig': 3, 'uppr': 1, 'oth': 2, 'salin': 20, 'brisk': 35, 'gauard': 1, 'blanchabl': 2, 'empti': 6, 'snd': 9, 'uf': 35, 'broncheal': 1, 'bactrim': 18, 'acknowledg': 10, 'inner': 10, 'easi': 5, 'nervous': 1, 'photo': 1, 'enjoy': 4, 'coffe': 12, 'caution': 3, 'fuild': 1, 'discolor': 4, 'awok': 3, 'clearli': 30, 'door': 3, 'luck': 2, 'decent': 3, 'render': 3, 'rrectal': 1, 'cipro': 19, 'mr': 68, 'disscuss': 1, 'skew': 1, 'rabbi': 6, 'label': 1, 'duodersm': 1, 'flatu': 17, 'corrul': 1, 'antibodi': 8, 'stumul': 1, 'ongo': 30, 'absorb': 8, 'li': 9, 'intermit': 9, 'prayer': 8, 'drsg': 11, 'jitteri': 2, 'reglan': 18, 'lethgar': 1, 'oncpap': 1, 'cd': 17, 'pad': 23, 'ventolin': 2, 'intercanula': 1, 'zofran': 9, 'trachesotomi': 1, 'herniat': 2, 'except': 94, 'messag': 7, 'puff': 2, 'concernsa': 1, 'vue': 6, 'break': 20, 'prisma': 1, 'taut': 1, 'escal': 30, 'stale': 1, 'depend': 55, 'parti': 1, 'req': 18, 'gt': 7, 'prone': 6, 'blding': 1, 'reaction': 40, 'vbg': 12, 'glargin': 5, 'delay': 32, 'reassur': 23, 'auscult': 33, 'subsid': 3, 'surpris': 2, 'lavarg': 3, 'resolut': 29, 'achi': 1, 'erythromycin': 6, 'autopsi': 37, 'ope': 2, 'mucu': 22, 'appar': 47, 'superfici': 18, 'glug': 1, 'nbp': 36, 'ran': 5, 'hob': 49, 'stpo': 1, 'minit': 1, 'crx': 2, 'addendeum': 1, 'someth': 8, 'excori': 11, 'nss': 5, 'lantu': 4, 'sentenc': 7, 'pic': 16, 'chane': 3, 'bruis': 18, 'duederm': 1, 'suc': 1, 'nickel': 1, 'msicu': 1, 'shook': 2, 'aim': 13, 'strength': 19, 'match': 7, 'cope': 25, 'subtherapeut': 4, \"tf'ing\": 9, 'settin': 1, 'pigtail': 9, 'flat': 32, 'graviti': 16, 'rehydr': 2, 'canula': 6, 'shape': 7, 'gentleman': 6, 'chunki': 2, 'pseudomona': 11, 'sml': 13, 'hhad': 1, 'marroon': 1, 'rul': 49, 'unsuccessful': 2, 'saddl': 1, 'session': 3, 'oint': 2, 'ssi': 30, 'tirtat': 1, 'anniversari': 1, 'drift': 13, 'mobil': 10, 'trial': 45, 'thigh': 10, 'endocrin': 21, 'inlin': 1, 'diamet': 28, 'foot': 17, 'mucomyst': 8, 'epo': 1, 'peroid': 1, 'waen': 1, 'rhoncher': 9, 'freg': 2, 'higher': 41, 'bc': 20, 'reserv': 12, 'gabapentin': 2, 'perk': 2, 'avoid': 31, 'realli': 11, 'fromn': 2, 'adminsit': 1, 'finish': 11, 'nepro': 6, 'dilaudid': 9, 'hip': 20, 'transport': 48, 'flsd': 1, 'peak': 28, 'upset': 14, 'comput': 3, 'iii': 13, 'increaseda': 1, 'abc': 2, 'seizur': 23, 'quiet': 33, 'erythro': 3, 'repeatedli': 9, 'true': 8, 'valuabl': 21, 'emycin': 2, 'noiw': 1, 'asynchron': 3, 'brief': 27, 'resent': 4, 'promod': 5, 'properli': 11, 'norepi': 7, 'tend': 12, 'environ': 11, 'carevi': 1, 'consi': 1, 'weaker': 5, 'chem': 9, 'multipod': 1, 'pul': 11, 'atool': 1, 'perineum': 9, '^hr': 2, 'nrm': 1, 'ectop': 6, 'guifenasin': 1, 'yea': 1, 'commenc': 6, 'prelim': 13, 'burst': 16, 'faint': 8, 'deveolp': 1, 'diaphoret': 28, 'yr': 34, 'niv': 12, 'spread': 12, 'sulphat': 1, 'ew': 16, 'coagul': 5, 'hunger': 8, 'suppress': 6, 'sponten': 1, 'chemotherapi': 10, 'mlph': 1, 'taper': 19, 'squamou': 7, 'fidgiti': 1, 'onset': 14, 'meant': 1, 'nad': 21, 'nonoper': 1, '^bp': 2, 'beforehand': 1, 'metastasi': 4, 'raf': 4, 'basilar': 33, 'adm': 23, 'exact': 5, 'expector': 17, 'supress': 2, 'irrit': 9, 'rather': 26, 'sit': 29, 'rediscuss': 5, 'jaw': 5, 'diltiazem': 16, 'enhanc': 16, 'carcinoma': 18, 'clr': 10, 'diagnos': 15, 'bronchospasm': 6, 'spoken': 10, 'unstabl': 30, 'nippv': 12, 'nodul': 22, 'tsicu': 3, 'carotid': 17, 'breat': 2, 'errat': 5, '^rr': 4, 'sudden': 11, 'edt': 3, 'tighten': 7, 'therefor': 36, 'bronchospast': 3, \"'finish\": 1, 'brain': 27, 'unexplain': 4, 'rpt': 6, 'os': 7, 'quick': 4, 'labia': 2, 'newli': 32, 'solumedrol': 19, 'dnrdni': 1, 'demand': 21, 'icecream': 2, 'bx': 10, 'tacypn': 4, 'cistern': 8, 'gc': 3, 'medicin': 12, 'nil': 1, 'tot': 1, 'monday': 21, 'sato': 2, 'metastas': 10, 'dest': 1, 'rythm': 5, 'rash': 42, 'pet': 6, 'mind': 7, 'preliminari': 16, 'diures': 39, 'oncolog': 15, 'indigest': 1, 'rebreath': 14, 'squamo': 1, 'sulci': 16, 'cortisol': 10, 'flex': 8, 'pmhx': 9, 'decres': 4, 'chapl': 1, 'pericholecyst': 11, 'breah': 1, 'brather': 1, 'fhp': 12, 'regim': 14, 'advis': 13, 'hung': 10, 'precipit': 6, 'fact': 12, 'supplement': 33, 'unusu': 12, 'extrahepat': 2, 'dopamin': 15, 'third': 17, 'dept': 3, 'incomprehens': 7, 'mb': 10, 'signif': 2, 'dementia': 23, 'incontincn': 1, 'frontal': 40, 'curtail': 1, 'fluoroscopi': 8, 'deaf': 2, 'adren': 41, 'musculoskelet': 26, 'neurolept': 1, 'cholecyst': 22, 'ceftaz': 8, 'rbc': 12, 'insuffici': 19, 'ductal': 6, 'intermittenli': 2, 'bph': 5, 'parenchym': 62, 'rcd': 1, 'devedlop': 1, 'parkinson': 8, 'pancrea': 37, 'succinylcholin': 1, 'crystal': 2, 'synthroid': 6, 'gnr': 17, 'ocd': 1, 'vanoc': 1, 'djd': 1, 'polici': 6, 'cpk': 9, 'insuff': 2, 'rale': 33, 'gram': 43, 'conntact': 1, 'mgso': 3, 'levaquin': 20, 'vit': 14, 'tegretol': 1, 'hemidiaphragm': 19, 'etomid': 4, 'pneumnia': 1, 'groin': 24, 'uti': 33, 'mul': 2, 'constip': 21, 'reinsert': 6, 'trachea': 20, 'cycl': 14, 'psoriasi': 1, 'additin': 1, 'anaerob': 11, 'sinimet': 1, 'hypothroid': 1, 'stiffneck': 1, 'eject': 8, 'axi': 37, 'caviti': 51, 'eventu': 23, 'crea': 2, 'prematur': 30, 'kayexly': 1, 'akinesi': 2, 'pack': 10, 'la': 28, 'unavail': 2, 'four': 16, 'fascicular': 12, 'rais': 40, 'pressort': 1, 'trivial': 18, 'situt': 1, 'tricuspid': 38, 'stenosi': 42, 'rerrl': 1, 'epix': 1, 'bbb': 3, 'hyperkalemia': 11, 'jaundic': 19, 'qr': 27, 'acceler': 4, 'lcl': 1, 'chorda': 11, 'deviat': 23, 'physiolog': 38, 'abp': 34, 'root': 20, 'estim': 32, 'fraction': 9, 'bin': 1, 'biacarb': 1, 'pnding': 8, 'intiat': 7, 'intit': 2, 'anfio': 1, 'multilobar': 7, 'ointment': 13, 'pcn': 9, 'brachycephal': 1, 'potassium': 53, 'locul': 22, 'froom': 1, 'impend': 7, 'film': 48, 'accurr': 1, 'resusit': 4, 'thereaft': 6, 'silverdin': 1, 'laryng': 5, 'blister': 16, 'hypoperfus': 7, 'discov': 3, 'unfortun': 7, 'cordi': 4, 'blind': 3, 'qtt': 6, 'hyperkalcemia': 1, 'nondistend': 15, 'wrap': 6, 'atn': 23, 'angio': 7, 'sb': 22, 'deceas': 3, 'fhpa': 2, 'lip': 33, 'scopolamin': 7, 'extremti': 1, 'physcian': 2, 'signic': 2, 'respect': 20, 'psychosoci': 9, 'knopff': 1, 'mlq': 1, 'anbx': 5, 'tacycard': 3, 'trough': 24, 'formal': 9, 'spontani': 1, 'unreact': 2, 'plam': 1, 'incid': 26, 'signfic': 4, 'agig': 1, 'mutipl': 4, 'fentnyl': 1, 'mist': 12, 'hygien': 8, 'nutriton': 1, 'heartrat': 1, 'palli': 34, 'progonisi': 1, 'daddi': 1, 'fentanul': 1, 'educ': 5, 'progr': 1, 'moan': 21, 'dad': 3, 'mimini': 1, 'goodresult': 1, 'desicion': 1, 'cantones': 6, 'bloat': 2, 'extrim': 4, 'kling': 1, 'dysfnc': 1, 'ota': 3, 'sorder': 1, 'achiv': 1, 'suspect': 38, 'instruct': 10, 'echocardiograph': 16, 'symptom': 31, 'rtc': 4, 'guag': 2, 'prefer': 9, 'phase': 13, 'fliud': 5, 'nebul': 9, 'exxtrmiti': 1, 'supraventricular': 11, 'sangaiou': 1, 'tamponad': 12, 'lacer': 4, 'faamili': 1, 'readdress': 21, 'ozz': 3, 'tachypneac': 2, 'frustrat': 6, 'plea': 2, 'compon': 47, 'acc': 3, 'hub': 1, 'apc': 4, 'downt': 2, 'tracheobronch': 2, 'overlay': 3, 'zinc': 1, 'eccymot': 7, 'aflutt': 10, 'pat': 3, '^wob': 2, 'artifici': 5, 'tegram': 1, 'dehydr': 7, 'exist': 38, 'stain': 31, 'restin': 1, 'eipsod': 1, 'variabl': 17, 'extubatin': 1, 'nonadh': 1, 'tachcard': 1, 'extrmiti': 1, 'kneecap': 1, 'mat': 1, 'gs': 8, 'repeaet': 1, 'serosang': 13, 'ascend': 28, 'gone': 14, 'calf': 11, 'mag': 13, 'diastol': 37, 'respelor': 1, 'ot': 8, 'ccb': 1, 'tegaderm': 3, 'srr': 7, 'extremeti': 19, 'extrasystol': 1, 'pff': 1, 'supp': 11, 'neglig': 2, 'contol': 1, 'unreliev': 2, 'puulent': 1, 'exipr': 1, 'presenc': 27, 'eitolog': 1, 'quantifi': 4, 'ua': 33, 'conver': 1, 'strip': 4, 'durng': 1, 'exud': 6, 'flap': 2, 'steri': 2, 'extermit': 2, 'tachypniec': 2, 'serax': 1, 'diruesi': 2, 'wihtout': 1, 'alon': 14, 'combin': 34, 'rh': 3, 'transpar': 6, 'broader': 3, 'rca': 4, 'appil': 1, 'splint': 1, 'dopper': 1, 'tha': 3, 'bliater': 1, 'indwel': 23, 'purlpl': 1, 'cordu': 1, 'psych': 7, 'anuria': 7, 'ft': 8, 'rod': 14, 'incontinec': 1, 'sulfat': 33, 'comb': 5, 'nonverb': 7, 'border': 12, 'unlabor': 12, 'frothi': 8, 'judgement': 3, 'tegraderm': 1, 'trigemini': 1, 'rhonci': 8, 'inotropi': 1, 'metoprolol': 28, 'contamint': 1, 'undigest': 2, 'pcxr': 4, 'inclus': 3, 'proph': 4, \"am'\": 1, 'pedi': 11, 'scd': 5, 'venodyn': 7, 'junki': 6, 'variou': 8, 'podi': 2, 'collector': 1, 'inconsistenli': 1, 'bandag': 4, \"o'\": 1, 'defin': 15, 'slur': 2, 'triplet': 2, 'nare': 14, 'mumbl': 8, 'verifi': 16, 'morpholog': 12, 'throughtout': 1, 'swallow': 39, 'curv': 23, 'airmatress': 1, 'higest': 1, 'reciv': 4, 'enzm': 1, 'captorpil': 1, 'ck': 51, 'lcyu': 1, 'transpat': 1, 'avbl': 1, 'cefepin': 2, 'senior': 4, 'bl': 13, 'garbl': 7, 'palab': 1, 'uncontrol': 4, 'xr': 1, 'smear': 18, 'pump': 7, 'stabliz': 3, 'teeth': 38, 'nail': 8, 'avhb': 1, 'dss': 1, 'inferiorli': 9, 'cut': 14, 'zaroxolyn': 1, 'recogn': 9, 'whisper': 1, 'oropharynx': 10, 'dobutamin': 12, 'nstemi': 11, 'occas': 9, 'lrg': 5, 'intraventricular': 13, 'imv': 5, 'rule': 40, 'egt': 1, 'haze': 3, 'discontinu': 34, 'lodg': 1, 'coras': 2, 'indistinct': 8, 'cefempin': 1, 'cardiogen': 19, 'hh': 2, 'yankeur': 4, 'thruout': 3, 'intregr': 1, 'nsvt': 4, 'circul': 8, 'reappil': 1, 'retain': 11, 'regimen': 55, 'bronchial': 39, 'complain': 10, 'odor': 4, 'introduc': 7, 'pgi': 3, 'perivascular': 1, 'comcomit': 1, 'dobut': 2, 'cortu': 1, 'lss': 1, 'addtion': 2, 'pharynx': 6, 'waffl': 7, 'recalibr': 3, 'ltyellow': 1, 'intermittantli': 2, 'cocci': 10, 'toss': 1, 'aurea': 1, 'avb': 3, 'addedum': 1, 'resecur': 1, 'mordem': 1, 'pleuroparenchym': 1, 'contamin': 9, 'sensit': 26, 'midnight': 32, 'parenchyma': 23, 'ultrac': 3, 'bigem': 1, 'staph': 9, 'worseni': 1, 'defect': 29, 'trigem': 1, 'inquier': 1, 'stent': 24, 'sustain': 16, 'mi': 24, 'somewat': 1, 'real': 7, 'regularli': 7, 'clog': 4, 'expel': 2, 'ecchymosi': 9, 'pci': 2, 'anytmim': 1, 'speech': 31, 'sitter': 4, 'benzo': 6, 'bss': 1, 'nph': 9, 'lobar': 12, 'posteriorli': 11, 'underneath': 6, 'prog': 2, 'thruought': 1, 'captopril': 3, 'hypozia': 1, 'accu': 1, 'gurgl': 7, 'crisi': 3, 'nephew': 10, 'dev': 2, 'niddm': 1, 'diuresis': 2, 'bt': 5, 'bigemeni': 1, 'troponin': 55, 'recevi': 1, 'rxn': 6, 'particularli': 25, 'init': 8, 'placment': 9, 'mx': 1, 'doctor': 12, 'axox': 1, 'tumor': 18, 'ud': 1, 'vaxcel': 1, 'rhonchoru': 7, 'enviro': 1, 'count': 36, 'resposit': 3, 'tfb': 4, 'solut': 1, 'okay': 12, 'teari': 2, 'dcd': 6, 'cent': 3, 'bronchu': 15, 'tenou': 2, 'fr': 13, 'incident': 10, 'partner': 5, 'mainten': 8, \"dc'ed\": 2, 'prophylact': 3, 'travel': 8, 'trip': 4, 'lul': 43, 'instil': 7, 'pe': 48, 'ds': 6, 'ep': 7, 'stabilz': 2, 'reiter': 3, 'cavo': 2, 'norm': 2, 'capac': 9, 'hospic': 24, 'amiodoron': 4, 'spirit': 1, 'freind': 1, 'pericadi': 1, 'immobil': 2, 'cari': 1, 'int': 3, 'oncologist': 12, 'wet': 62, 'multilumen': 3, 'trim': 2, 'hyrocortison': 1, 'ivab': 6, 'serosanq': 1, 'pulsu': 1, 'successful': 2, 'cot': 2, 'trun': 1, 'nonlas': 1, 'adenosin': 4, 'adquat': 2, 'bronchou': 1, 'shth': 1, 'unprod': 1, 'til': 4, 'strenght': 1, 'workload': 1, 'oxycodon': 9, 'sensori': 3, 'hrt': 4, 'increasingli': 35, 'platlet': 6, 'cardiologist': 4, 'unsur': 6, 'penumopericardium': 1, 'dysneic': 1, 'document': 33, 'platelet': 20, 'evolv': 18, 'pud': 6, 'ex': 8, 'dictat': 18, 'wax': 6, 'discus': 1, 'quadrent': 6, 'rrespons': 1, 'produc': 20, \"^'ing\": 1, 'conjunct': 11, 'cardiovascular': 57, 'discusst': 1, 'pure': 10, 'aerosol': 20, 'undergo': 19, 'granddaught': 6, 'faster': 13, 'telephon': 24, 'pateint': 2, 'condom': 2, 'dobhoff': 6, 'prompt': 4, 'video': 8, 'honey': 2, 'trauma': 10, 'decomp': 1, 'aspect': 21, 'medial': 13, 'dislodg': 6, 'asa': 32, 'cbi': 4, 'retract': 11, 'dopoff': 1, 'skinfold': 1, \"^'ingli\": 1, 'abort': 4, 'decompenst': 1, 'urethra': 2, 'decompens': 27, 'engorg': 21, 'nectar': 6, 'russian': 7, 'inncont': 1, 'amplitud': 3, 'beta': 23, 'mistaken': 1, 'teaspoon': 1, 'oropharyng': 16, 'frank': 11, 'doboff': 5, 'anticoagul': 28, 'slower': 14, 'pharesi': 1, 'toxin': 8, 'reformat': 19, 'ucler': 2, 'lytic': 19, 'vesicl': 3, 'isolat': 1, 'fusarium': 1, 'subcentimet': 5, 'alway': 9, 'cateth': 1, 'gancylovir': 1, 'host': 2, 'downward': 15, 'cyst': 26, 'inlet': 22, 'approach': 24, 'upward': 11, 'cellcept': 3, 'bladder': 53, 'rtrad': 2, 'folow': 3, 'hepatoren': 3, 'ganciclovir': 1, 'gut': 7, 'core': 7, 'caudat': 2, 'viremia': 2, 'equival': 4, 'careweb': 2, 'weeep': 1, 'distinct': 15, 'presser': 2, 'spleen': 32, 'mold': 1, 'npp': 1, 'element': 14, 'mvp': 17, 'actual': 13, 'pelvi': 42, 'guidenc': 1, 'neutropen': 4, 'semin': 3, 'unknown': 44, 'nl': 22, 'bsk': 2, 'gvhd': 3, 'multiplanar': 17, 'flicker': 1, 'midnoc': 8, 'speaker': 4, 'ptcont': 1, 'stronger': 6, 'lanti': 1, 'pole': 9, 'kayexal': 5, 'punctat': 2, 'ppp': 9, 'hypoecho': 2, 'refe': 3, 'participatori': 1, 'stride': 1, 'overnt': 1, 'tr': 32, 'blunt': 17, 'easier': 4, 'abras': 12, 'calib': 18, 'timeout': 10, 'meropenum': 9, 'hemostasi': 4, 'transplant': 10, 'edamat': 3, 'pel': 7, 'obstacl': 1, 'preprocedur': 8, 'hepati': 3, 'tne': 1, 'pheresi': 3, 'ursdiol': 1, 'sclerot': 14, 'stich': 1, 'rrad': 1, 'surgicel': 4, 'constrict': 1, 'oligur': 14, 'symphysi': 10, 'nst': 2, 'kerlix': 5, 'psup': 3, 'everyday': 3, 'whinc': 1, 'nard': 4, 'transcathet': 1, 'acidosid': 1, 'pej': 2, 'uremia': 4, 'mult': 17, 'ivc': 11, 'pneumococc': 1, 'ess': 4, 'ursodiol': 1, 'paus': 5, 'urisodil': 1, 'phersi': 1, 'mainatain': 1, 'retap': 14, 'amio': 13, 'surgifoam': 2, 'retroperiton': 14, 'formalin': 1, 'gland': 26, 'recoveri': 21, 'cholestasi': 2, 'regul': 6, 'ground': 32, 'sequela': 4, 'ident': 3, 'ltf': 1, 'weap': 4, 'bear': 9, 'pubic': 8, 'behind': 4, 'basic': 7, 'noth': 18, 'pneumocac': 1, 'lactulos': 21, 'peripancreat': 2, 'nypernatremia': 1, 'scv': 2, 'shedul': 1, 'periport': 1, 'maneuv': 12, 'hyptens': 2, 'flumazin': 1, 'byt': 2, 'achiev': 19, 'sup': 2, 'rifaximin': 3, 'prolaps': 24, 'peditub': 1, 'nailb': 8, 'calicif': 1, 'meropenem': 25, 'wake': 41, 'mdct': 26, 'presept': 2, 'rsp': 3, 'griev': 9, 'rescu': 2, 'hepatopet': 8, 'psc': 2, 'aass': 1, 'soak': 5, 'remark': 8, 'fsbg': 9, 'fam': 7, 'sorb': 4, 'pursestr': 1, 'rvr': 20, 'bmt': 3, 'amplatz': 2, 'transaminas': 4, 'intrahepat': 4, 'lactolos': 1, 'syndrom': 19, 'aml': 2, 'cecum': 4, 'nodal': 4, 'explan': 13, 'store': 2, 'biggest': 1, 'adjac': 31, 'ni': 1, 'granulomat': 4, 'evidenc': 6, 'intraven': 38, 'cavh': 1, 'dfinit': 1, 'prostat': 15, 'anyway': 4, 'transjugular': 2, 'unrsp': 2, 'sxt': 2, 'baracat': 2, 'porta': 4, 'percocet': 8, 'info': 17, 'cue': 8, 'hyper': 3, 'elong': 7, 'abut': 6, 'typhliti': 1, 'plasmaphoresi': 1, 'dop': 6, 'speciat': 9, 'coud': 1, 'intraservic': 3, 'bilirubin': 20, 'gradient': 29, 'grasp': 2, 'broken': 11, 'cardiovert': 8, 'natur': 17, 'preced': 11, 'lvot': 23, 'influenc': 4, 'acquir': 37, 'tini': 10, 'agent': 14, 'silk': 6, 'correspond': 9, 'urisodiol': 1, 'similar': 58, 'analyz': 7, 'fucntion': 1, 'palpalbl': 1, 'lij': 12, 'glidewir': 5, 'serviceclip': 2, 'constant': 11, 'flumazenil': 2, 'sxned': 8, 'ivaband': 1, 'cobra': 2, 'cook': 2, 'ruq': 12, 'minmal': 2, 'acyclovir': 5, 'cellular': 4, 'transjug': 1, 'dens': 31, 'encephalopathi': 14, 'grow': 16, 'nephrolog': 4, 'proper': 11, '^lft': 1, 'inflamm': 10, 'bloodting': 3, 'humulog': 1, 'deoderm': 1, 'humalog': 11, 'marrow': 4, 'sxted': 1, 'retroperitoneum': 1, 'lge': 4, 'pneumomediastenum': 1, 'gold': 2, 'meripenem': 1, 'fentenyl': 3, 'clump': 1, 'mucos': 10, 'wether': 4, 'medium': 8, 'fdg': 10, 'powder': 8, 'safe': 16, 'compat': 22, 'wane': 3, 'qualit': 1, 'pose': 3, 'pulmasours': 1, 'rust': 3, 'friday': 15, 'worrisom': 5, 'vebal': 1, 'chemic': 5, 'suddenli': 6, 'secriton': 1, 'territori': 13, 'cistatricurium': 1, 'intervet': 1, 'midazolam': 39, 'strongli': 9, 'splenic': 6, 'bradycardia': 24, 'descend': 16, 'origin': 31, 'thich': 3, 'train': 6, 'conitnu': 4, 'poplit': 14, 'repsons': 3, 'glass': 23, 'meropenim': 1, 'tyelnol': 2, 'case': 28, 'caspofungin': 4, 'stretch': 5, 'bump': 14, 'hyporthermia': 1, 'softer': 2, 'narrativen': 1, 'satisfactorili': 4, 'posterolater': 2, 'esent': 1, 'hydrocephalu': 9, 'orali': 1, 'pulmasourc': 2, 'temporari': 7, 'pulmonolog': 2, 'extremitiy': 3, 'spot': 10, 'wrong': 5, 'ween': 2, 'manipul': 11, 'yeast': 20, 'alkalosi': 20, 'paracentisi': 1, 'lid': 3, 'bud': 6, 'endocard': 15, 'rave': 1, 'tenaci': 12, 'washin': 1, 'mic': 17, 'cholelithiasi': 14, 'tracheobronchi': 3, 'cisatracurium': 6, 'grimmac': 4, 'isuprel': 1, 'sxd': 5, 'confluenc': 4, 'snt': 4, 'latter': 7, 'ibuprofen': 3, 'erect': 10, 'infuss': 1, 'catheth': 2, 'excurs': 8, 'replenish': 3, 'paralysi': 6, 'mvmt': 4, 'erron': 1, 'grayscal': 10, 'thrombosi': 10, 'inpiratori': 1, 'barotrauma': 3, 'pc': 12, 'cchr': 2, 'addendium': 2, 'instead': 9, 'aler': 1, 'asid': 5, 'stone': 21, 'sphenoid': 6, 'bronish': 1, 'addend': 1, 'valsalva': 2, 'receivng': 2, 'psupp': 1, 'cop': 6, 'manuev': 2, 'adn': 6, 'soooo': 1, 'merepenim': 1, 'abscess': 21, 'vigiou': 1, 'ettub': 3, 'intracardiac': 4, 'twitch': 9, 'fentyn': 2, 'effert': 2, 'yeild': 1, 'augment': 16, 'seee': 1, 'schdule': 1, 'optim': 39, 'shaggi': 1, 'stv': 2, 'recur': 5, 'hypernatrem': 3, 'meripenum': 1, 'novasourc': 7, 'candidemia': 2, 'pneumoperitoneum': 4, 'nabicarb': 1, 'heterogen': 20, 'ldh': 43, 'toller': 3, 'seedi': 1, 'muster': 1, 'muach': 1, 'malacia': 2, 'wer': 1, 'halidol': 1, 'thrombu': 20, 'oval': 6, 'east': 5, 'distribut': 24, 'fungemia': 5, 'solid': 17, 'nystatin': 9, 'pneumomediastinum': 7, 'inder': 1, 'wedg': 9, 'skinn': 1, 'meripenim': 1, 'atb': 4, 'merepenum': 2, 'mediastinum': 42, 'nova': 1, 'merepeum': 1, 'contiu': 3, 'obt': 1, 'motrin': 3, 'spurt': 1, 'hydralasin': 1, 'echogen': 7, 'lunf': 1, 'shunt': 13, 'unintellig': 2, 'paralyz': 36, 'bolt': 3, 'severli': 2, 'veget': 8, 'vitot': 1, 'buttuck': 2, 'premed': 5, 'widespread': 26, 'clavicl': 11, 'seri': 12, 'copiu': 4, 'pipo': 1, 'echocardigram': 1, 'consistantli': 6, 'neutral': 1, 'neruo': 4, 'wit': 13, 'bronchogram': 11, 'metastat': 26, 'hydralazin': 13, 'bu': 5, 'distent': 28, 'paramedian': 3, 'artifact': 37, 'gastroesophag': 16, 'paral': 2, 'televis': 1, 'palc': 2, 'spnt': 1, 'fungu': 4, 'spc': 1, 'retreiv': 1, 'remaind': 29, 'hiccup': 3, 'cirrohosi': 1, 'top': 33, 'ard': 58, 'droop': 2, 'prder': 1, 'supprot': 1, 'diregard': 1, 'oximetri': 3, 'miq': 1, 'pseudomhypha': 1, 'dist': 8, 'bal': 18, 'intrapelv': 1, 'conintu': 2, 'pillow': 10, 'bronchspast': 1, 'pancreat': 11, 'teniou': 2, 'propranalol': 1, 'fc': 5, 'firmli': 2, 'foramen': 6, 'hypernatremia': 11, 'basi': 9, 'fluse': 2, 'seven': 7, 'flexur': 5, 'subdiaphragmat': 10, 'subcapsular': 1, 'sigmoid': 17, 'chin': 7, 'beneath': 8, 'attemp': 3, 'fluconozol': 1, 'nadir': 1, 'lymphoma': 7, 'arrhythmia': 13, 'appropi': 5, 'fat': 13, 'flouro': 2, 'panel': 15, 'difficil': 12, 'consecut': 3, 'fluconzol': 1, 'yell': 8, 'individu': 3, 'dynam': 4, 'reden': 2, 'plat': 12, 'edmat': 1, 'overwir': 1, 'foey': 1, 'prodcedur': 1, 'character': 17, 'ddimer': 1, 'houseoffic': 6, 'urien': 1, 'cold': 11, 'eccyomot': 1, 'impact': 10, 'megacolon': 6, 'polyp': 4, 'postpylor': 4, 'apheres': 1, 'mucosa': 5, 'weakli': 8, 'fallen': 1, 'diltazem': 2, 'winc': 3, 'averag': 10, 'uncertain': 14, 'insul': 1, 'maintentnc': 1, 'azt': 1, 'adher': 2, 'cystic': 8, 'attribut': 18, 'nonion': 7, 'sight': 1, 'ilatori': 1, 'alertarous': 1, 'telemeti': 1, 'micor': 1, 'alkalot': 5, 'ored': 1, 'pyloru': 5, 'uac': 1, 'annular': 18, 'adenopathi': 17, 'hypertrophi': 32, 'ceil': 1, 'remiain': 1, 'signal': 5, 'onto': 6, 'hydrea': 1, 'virgou': 1, 'reoccur': 3, 'electr': 5, 'mgq': 1, 'read': 87, 'materi': 21, 'smicu': 2, 'mp': 4, 'ilw': 1, 'intraabdomin': 4, 'serosanguin': 8, 'akwa': 1, 'hypodens': 21, 'cefipim': 15, 'pancutur': 1, 'nephrogram': 3, 'chemo': 10, 'intial': 8, 'separt': 1, 'dif': 3, 'vagin': 2, 'conc': 4, 'balm': 1, 'jejunum': 2, 'crt': 6, 'amiriodin': 1, 'injuri': 19, 'normotens': 12, 'degen': 23, 'neutrapen': 2, 'ouput': 2, 'j': 10, 'intralumin': 9, 'tactil': 20, 'vicin': 2, 'recultur': 9, 'invol': 1, 'dimens': 5, 'jejun': 2, 'mc': 4, 'cardiovers': 3, 'degree': 1, 'sytol': 1, 'yield': 6, 'hydrocort': 5, 'nativ': 4, 'neuropenia': 1, 'bolusof': 1, 'atroph': 7, 'nutropenia': 1, 'ccx': 2, 'ambisom': 2, 'sunction': 1, 'liw': 6, 'absenc': 17, 'lorazapam': 1, 'alet': 1, 'petichia': 2, 'uromet': 1, 'lingula': 7, 'xpeep': 1, 'exampl': 6, 'anc': 2, 'apap': 1, 'symmetr': 59, 'pylor': 9, 'cholecystectomi': 3, 'axilla': 11, 'prosthesi': 5, 'metroprolol': 1, 'uup': 1, 'sacrament': 10, 'interupt': 2, 'fagyl': 1, 'sphincter': 3, 'ilier': 1, 'steristrip': 1, 'lcw': 3, 'celiac': 6, 'sub': 11, 'aha': 8, 'tirtrat': 1, 'fluro': 2, 'notabel': 1, 'cardiomyopathi': 9, 'claoric': 1, 'periton': 5, 'ceptim': 1, 'confer': 7, 'attach': 7, 'requestiong': 1, 'neutropenia': 1, 'neurtopen': 1, 'ebv': 2, 'mesenteri': 2, 'vagina': 1, 'endolumin': 1, 'diverticulum': 1, 'cerebro': 1, 'clavicular': 7, 'hyperdynam': 22, 'amriodon': 1, 'rythmm': 2, 'apeci': 1, 'rescan': 3, 'flaygl': 2, 'pylori': 2, 'chap': 1, 'outflow': 5, 'fentani': 3, 'mycostatin': 4, 'flagal': 1, 'reliabl': 4, 'stalk': 1, 'neutopenia': 1, 'whitish': 5, 'irreg': 7, 'scleral': 7, 'ave': 1, 'peticha': 2, 'wth': 2, 'cefepinm': 1, 'telemetri': 17, 'withheld': 2, 'strand': 9, 'cardaic': 2, 'chb': 4, 'amyloid': 1, 'disord': 20, 'mail': 4, 'chain': 8, 'rememb': 1, 'nonreact': 3, 'ultim': 13, 'ampi': 1, 'stenot': 1, 'particular': 9, 'decort': 4, 'withdrawl': 10, 'aneorb': 1, 'pair': 12, 'tme': 1, 'flaccid': 5, 'convinc': 2, 'msof': 2, 'inferolater': 11, 'oppos': 4, 'barocat': 2, 'idioventricular': 1, 'ampicillin': 6, 'grave': 19, 'nonr': 2, 'baricat': 2, 'postur': 8, 'constel': 1, 'anasarka': 1, 'bottl': 4, 'viral': 17, 'nitro': 8, 'atelectat': 9, 'ntg': 4, 'exhibit': 9, 'amoung': 1, 'accordingli': 12, 'hypokalemia': 3, 'batteri': 1, 'droplet': 10, 'atov': 1, 'fryabl': 1, 'nsicu': 1, 'heroic': 6, 'flu': 13, 'linen': 4, 'longstand': 4, 'equip': 3, 'percaut': 1, 'cardizem': 2, 'tachycardiac': 3, 'restoril': 1, 'distess': 1, 'ontain': 1, 'bypap': 1, 'hear': 16, 'overid': 1, 'pneumatosi': 6, 'sz': 5, 'barium': 6, 'inv': 1, 'breather': 2, 'appl': 6, 'intraperiton': 12, 'revers': 24, 'amd': 5, 'cerebr': 10, 'dysphagia': 9, 'aphas': 5, 'gastrostomi': 6, 'accesss': 1, 'lite': 1, 'typic': 9, 'awhil': 3, 'penetr': 6, 'intailli': 1, 'format': 8, 'applesauc': 6, 'linebut': 1, 'spillov': 3, 'aphasia': 2, 'slip': 4, 'perp': 1, 'tuck': 3, 'pseudoinfarct': 1, 'nonobstruct': 5, 'prod': 9, 'tp': 6, 'cross': 8, 'undisturb': 4, 'fax': 1, 'goe': 7, 'pharyng': 6, 'interrupt': 2, 'pathologist': 1, 'phlebolith': 2, 'souc': 1, 'nonrebreath': 4, 'applesaus': 1, 'flip': 2, 'flownot': 4, 'mri': 18, 'involut': 3, 'spiromet': 3, 'suspicion': 17, 'spirometri': 5, 'perfor': 12, 'cardiopulmonari': 10, 'palat': 4, 'revrs': 1, 'featur': 6, 'cu': 2, 'sleepign': 1, 'crush': 13, 'apetit': 1, 'incent': 4, 'necessit': 8, 'supper': 1, 'nauseu': 1, 'influenza': 18, 'variat': 5, 'ate': 4, 'bathroom': 3, 'collabor': 6, 'requisit': 2, 'misplac': 2, 'speciment': 1, 'hemithorax': 32, 'pleuravac': 3, 'massiv': 18, 'sterilli': 1, 'unproduct': 5, 'occupi': 6, 'realiz': 3, 'pleurx': 1, 'unsymptomat': 1, 'pleur': 2, 'negtiv': 1, 'upto': 3, 'adit': 1, 'candid': 16, 'car': 2, 'chase': 1, 'oet': 1, 'sooth': 1, 'toleav': 1, 'flall': 1, 'exyl': 1, 'reeval': 4, 'mon': 34, 'ref': 1, 'absolut': 1, 'fractio': 1, 'misfir': 1, 'flail': 3, 'ut': 1, 'fill': 36, 'indfus': 1, 'adament': 1, 'wateri': 5, 'sescret': 1, 'persistantli': 2, 'esidu': 1, 'retal': 1, 'sedatiooon': 1, 'noght': 1, 'euvolem': 11, 'desenex': 1, 'ultra': 3, 'choic': 6, 'month': 23, 'tick': 1, 'coaars': 1, 'kayexil': 1, 'familt': 4, 'enema': 9, 'promptli': 2, 'aslo': 2, 'aaat': 1, 'thursday': 9, 'pllacement': 1, 'topar': 1, 'agress': 12, 'leakag': 7, 'agian': 2, 'solidfi': 1, 'asap': 3, 'shnge': 1, 'anymor': 6, 'fss': 1, 'fatigu': 20, 'myleodysplesia': 1, 'venoboot': 1, 'trumpet': 6, 'bennzodiazpin': 1, 'bialter': 1, 'correspong': 1, 'incon': 2, 'napho': 1, 'eventuallt': 1, 'propos': 3, 'overbreathin': 1, 'weigh': 2, 'inflow': 5, 'papillari': 8, 'somnol': 21, 'nonlabor': 1, 'param': 1, 'struggl': 6, 'synchron': 31, 'reappear': 3, 'desitin': 2, 'tachyarrythmia': 2, 'stff': 1, 'kayexel': 3, 'occass': 6, 'colorng': 1, 'opinion': 6, 'delir': 2, 'tacchycardia': 1, 'sir': 9, 'underw': 12, 'ymf': 3, 'clinda': 5, 'dfdkq': 2, 'offic': 8, 'tacchypn': 1, 'microbiolog': 35, 'deplet': 12, 'regardless': 1, '`': 3, 'atrophi': 11, 'iu': 40, 'sedentari': 2, 'thorazin': 1, 'rescusit': 1, 'pipe': 1, 'lymphat': 22, 'factor': 17, 'legionella': 29, 'asses': 2, 'hsv': 2, 'delerium': 2, 'rrr': 32, 'creatinin': 51, 'tacchycard': 1, 'omr': 8, 'benign': 18, 'deleri': 2, 'fludarabin': 2, 'cord': 4, 'plaqu': 7, 'outlin': 21, 'contribut': 29, 'nitrit': 2, 'resect': 9, 'pantoprazol': 27, 'ronchi': 12, 'avid': 2, 'splenectomi': 3, 'palliat': 5, 'sulfa': 4, 'charact': 2, 'spetic': 1, 'asbesto': 5, 'vaccin': 7, 'clarifi': 19, 'wast': 20, 'vertebr': 13, 'sulfonamid': 2, 'penicillin': 11, 'osteopenia': 6, 'cavern': 3, 'nppv': 3, 'ppx': 27, 'normocephal': 46, 'choke': 6, 'retir': 8, 'noninvas': 8, 'healthcar': 10, 'gerd': 15, 'percuss': 29, 'rituxan': 1, 'dull': 22, 'cognit': 6, 'ia': 2, 'penumonia': 1, 'smoker': 5, 'nonsepecif': 1, 'atherosclerot': 21, 'hemolyt': 3, 'housekeep': 1, 'kansasii': 1, 'sclerosi': 8, 'oxyfast': 1, 'vat': 4, 'lad': 8, 'supraclavicular': 16, 'comm': 9, 'hypercarbia': 14, 'cervic': 25, 'narcan': 7, 'discrep': 1, 'conjunctiva': 42, 'nsclc': 4, 'bacteria': 4, 'sstem': 1, 'rad': 18, 'summari': 13, 'gent': 5, 'toradol': 1, 'reveiw': 4, 'thoroughout': 1, 'illeostomi': 1, 'cousin': 5, 'icter': 6, 'andrl': 1, 'inrincreas': 1, 'azithomycin': 1, 'criticar': 5, 'recomm': 1, 'ppor': 1, 'addnedum': 1, 'sedimentari': 1, 'occn': 3, 'fentanli': 2, 'altern': 25, 'kr': 1, 'ileostomi': 3, 'antibot': 3, 'gentamycin': 7, 'clavian': 1, 'bridg': 10, 'nadolol': 2, 'rl': 4, 'neic': 4, 'hosptial': 1, 'leagal': 1, 'semioval': 2, 'tem': 1, 'centrum': 3, 'pian': 1, 'slugglish': 2, 'etachi': 1, 'unresponsinv': 1, 'ethmoid': 4, 'jwk': 1, 'trancfer': 1, 'mca': 4, 'unbrocken': 1, 'diltiasem': 1, 'slugish': 2, 'respoms': 1, 'osh': 19, 'encephalomalacia': 1, 'basal': 32, 'ganglia': 6, 'vacuo': 1, 'dwi': 2, 'delta': 2, 'csm': 4, 'resucit': 3, 'creatanin': 1, 'orbit': 6, 'ganz': 5, 'ordinari': 1, 'imobil': 1, 'preiou': 1, 'platelett': 2, 'loosen': 6, 'stridor': 4, 'lateer': 1, 'htc': 1, 'amountsa': 1, 'applianc': 3, 'mgmt': 8, 'rep': 3, 'bsd': 2, 'inmobil': 1, 'drg': 5, 'aggres': 2, 'collar': 6, 'diltizam': 1, 'aat': 1, 'situ': 9, 'sang': 5, 'matress': 2, 'lap': 2, 'acidemia': 5, 'colectomi': 2, 'reccent': 1, 'bronchcoscopi': 1, 'hot': 4, 'ortho': 2, 'tech': 5, 'approv': 9, 'flattu': 1, 'oxigen': 1, 'urgent': 7, 'aproppri': 1, 'brace': 1, 'orthoped': 2, 'occlut': 1, 'worst': 4, 'ci': 11, 'swan': 6, 'dto': 1, 'pcwp': 7, 'combo': 2, 'paw': 2, 'lacrilub': 2, 'sugest': 2, 'parcial': 1, 'prounounc': 1, 'iss': 13, 'themselv': 8, 'chose': 1, 'signfiic': 1, 'input': 22, 'tco': 45, 'suppor': 1, 'fxn': 8, 'symptiom': 1, 'pfi': 37, 'avellyn': 1, 'reson': 14, 'stenotrophomona': 1, 'conjunctiv': 10, 'kayexl': 1, 'framework': 1, 'jctn': 1, 'cvo': 3, 'dimsh': 1, 'sqh': 7, 'cuf': 5, 'atyp': 22, 'immunocompromis': 8, 'club': 18, 'leukem': 1, 'pertin': 41, 'palpit': 7, 'fena': 10, 'orthopnea': 9, 'action': 62, 'probal': 5, 'cov': 6, 'afterload': 5, 'dysuria': 8, 'fh': 48, 'biatrial': 2, 'subclav': 1, 'gpc': 16, 'magnesium': 29, 'aeruginosa': 2, 'ibw': 3, 'pah': 1, 'fibrinogen': 23, 'anteriorli': 19, 'destin': 28, 'proceed': 11, 'therapist': 10, 'loud': 17, 'feasibl': 7, 'pseudomon': 5, 'lymphocytosi': 1, 'ure': 3, 'reguard': 4, 'ag': 17, 'dimer': 5, 'intravascularli': 5, 'headach': 13, \"ce'\": 1, 'respoiratori': 1, 'spesi': 1, 'reconsid': 3, 'abus': 14, 'press': 34, 'search': 2, 'insult': 11, 'ori': 2, 'challeng': 14, 'ckd': 6, 'kit': 4, 'aranesp': 1, 'hematolog': 6, 'chlorhexidin': 6, 'shiley': 2, 'kayexyl': 1, 'dep': 3, 'manufactur': 22, 'diuret': 6, 'subject': 30, 'ent': 6, 'mof': 2, 'demograph': 48, 'hypoxem': 26, 'numb': 7, 'amongst': 5, 'gastrointestin': 17, 'midaz': 19, 'tubular': 9, 'fammili': 1, 'flora': 11, 'coomb': 2, 'retrach': 1, 'fentand': 1, 'genitourinari': 14, 'bad': 6, 'fuse': 2, 'deal': 7, 'tropt': 37, 'cll': 3, 'intravascular': 7, 'random': 6, 'wma': 4, 'ce': 15, 'incomplet': 16, 'abruptli': 3, 'across': 13, 'immunolog': 7, 'pmi': 16, 'connector': 1, 'acd': 3, 'epistaxi': 8, 'maxim': 16, 'stock': 1, 'overweight': 18, 'thyroid': 16, 'tingl': 7, 'folat': 4, 'deliri': 11, 'willl': 2, 'pmv': 23, 'split': 8, 'ventricuar': 1, 'pplat': 9, 'hypotensiona': 1, 'lr': 11, 'hydrostat': 2, 'daytim': 8, 'hydorcortison': 1, 'spectrum': 25, 'tracheotomi': 5, 'lvh': 14, 'fistula': 11, 'hemodynma': 1, 'brush': 1, 'myalgia': 9, 'presist': 2, 'dimish': 6, 'consider': 22, 'ronchor': 5, 'smudg': 1, 'iodin': 5, 'dentit': 12, 'role': 15, 'nourish': 24, 'defici': 4, 'transloc': 1, 'lipitor': 8, 'multifactori': 18, 'must': 9, 'thoracotomi': 3, 'sooner': 5, 'broad': 36, 'pneuomonia': 1, 'ogtub': 3, 'swivel': 1, 'apprear': 1, 'bayonet': 1, 'sh': 48, 'flutter': 15, 'percept': 1, 'inaccur': 3, 'hyperreson': 6, 'hydocorison': 1, 'captur': 7, 'blurri': 8, 'traumat': 6, 'provision': 35, 'disadvantag': 1, 'gg': 2, 'technician': 1, 'adviso': 1, 'sens': 9, 'dchf': 3, 'gear': 3, 'parenter': 8, 'promotil': 1, 'empyema': 5, 'transform': 2, 'joint': 19, 'unrev': 5, 'circumst': 5, 'florid': 1, 'una': 2, 'cyanosi': 19, 'constitut': 23, 'meaning': 7, 'dlnc': 1, 'suicid': 8, 'chlorid': 42, 'hive': 2, 'thrombocytopenia': 16, 'transfomr': 1, 'preoxygen': 3, 'guaiac': 10, 'contributor': 3, 'hyperglycemia': 17, 'kayelexal': 1, 'kcal': 21, 'phosphoru': 28, 'rout': 34, 'ardsnet': 10, 'ckmb': 42, 'bolou': 1, 'retard': 3, 'caregriv': 1, 'temporarili': 4, 'scoliot': 1, 'wiht': 3, 'functio': 1, 'rhip': 1, 'hemodyna': 1, 'anxou': 1, 'commqand': 1, 'cdi': 4, 'scoliosi': 4, 'increa': 4, 'occlud': 6, 'occlus': 11, 'respirat': 1, 'wheezey': 2, 'secr': 2, 'taker': 2, 'carview': 1, 'dampenend': 1, 'dye': 4, 'intuabt': 2, 'undetermin': 12, 'creatin': 3, 'spine': 29, 'hypercarb': 19, 'craem': 1, 'multidiciplanari': 1, 'sig': 15, 'stimmuli': 1, 'development': 2, 'monit': 2, 'rbsi': 1, 'resembl': 1, 'mitochondri': 1, 'whenev': 2, 'oze': 1, 'caretak': 4, 'dificult': 1, 'drpped': 1, 'serosanquen': 1, 'dyski': 1, 'pouch': 2, 'postiv': 3, 'plain': 3, 'destur': 1, 'reposist': 1, 'blankli': 1, 'wednesday': 9, 'elav': 1, 'spinal': 10, 'repo': 3, 'cancel': 9, 'pneumonectomi': 4, 'kyphoscoliosi': 3, 'percent': 3, 'tenti': 1, 'dimminish': 2, 'scortal': 1, 'bolusx': 1, 'ostomi': 6, 'intermittingli': 1, 'agiti': 1, 'ment': 1, 'afibril': 1, 'mainstem': 5, 'pusl': 1, 'saliva': 1, 'reasur': 1, 'picclin': 2, 'pool': 7, 'skelet': 3, 'crisp': 1, 'redd': 1, 'inbetween': 2, 'fixat': 2, 'deform': 11, 'sibl': 11, 'vasoconstrict': 6, 'cear': 1, 'reluct': 6, 'helath': 1, 'rrl': 1, 'power': 3, 'seek': 5, 'approc': 1, 'nh': 14, 'colostomi': 3, 'atelectesi': 1, 'qs': 5, 'venco': 1, 'illeostmi': 1, 'rocecet': 1, 'attorney': 3, 'frighten': 1, 'sectret': 2, 'gasp': 10, 'bibasilair': 1, 'breakdonw': 1, 'bedridden': 1, 'phcp': 1, 'booth': 1, 'daqi': 1, 'ambien': 2, 'transthorac': 10, 'toiltet': 1, 'outpur': 1, 'obtund': 6, 'conspicu': 2, 'sequenc': 6, 'recev': 3, 'susequ': 1, 'cytolog': 10, 'needi': 1, 'aloc': 1, 'carvu': 2, 'hook': 8, 'aox': 3, 'onward': 1, 'swab': 16, 'beefi': 1, 'elect': 10, 'culmin': 1, 'vasopessor': 1, 'nipv': 1, 'paperwork': 2, 'vf': 2, 'eu': 2, 'opt': 3, 'tox': 5, 'rapidli': 16, 'uprb': 1, 'displac': 6, 'inguin': 9, 'intrathorac': 9, 'broaden': 13, 'fluiid': 1, 'pelvic': 17, 'dosag': 5, 'noncontrast': 9, 'apt': 1, 'maximun': 2, 'workier': 1, 'tran': 11, 'outgrowth': 1, 'textur': 5, 'median': 6, 'consistanli': 1, 'realist': 6, 'inutabt': 1, 'cholang': 2, 'enthesopath': 1, 'colour': 5, 'vestra': 1, 'coexist': 3, 'anatom': 7, 'dat': 1, 'hight': 1, 'cannt': 1, 'sternotomi': 13, 'smapl': 1, 'revea': 1, 'prevascular': 8, 'hypoexemia': 1, 'hypobowel': 1, 'toelrat': 2, 'hav': 1, 'osteophytosi': 1, 'subcarin': 10, 'vip': 2, 'careveu': 1, 'gall': 3, 'forward': 15, 'largest': 7, 'phenylepherin': 1, 'hida': 4, 'hack': 1, 'scali': 1, 'peritrach': 1, 'barrium': 1, 'noontim': 3, 'esophag': 25, 'respi': 2, 'sagitt': 22, 'reconstruct': 7, 'insur': 11, 'coron': 23, 'etonom': 1, 'succ': 4, 'nrbmfor': 1, 'dig': 6, 'elicit': 4, 'actu': 1, 'svr': 4, 'fludrocort': 1, 'inotor': 1, 'harsh': 1, 'sic': 1, 'pyret': 1, 'retro': 1, 'anaplast': 1, 'mo': 4, 'aricept': 6, 'advair': 3, 'intermediu': 3, 'lit': 6, 'humeru': 3, 'jewelri': 18, 'aortobiiliac': 1, 'delirium': 16, 'sling': 1, 'ramu': 2, 'ppm': 6, 'cloth': 19, 'diovan': 2, 'tortuos': 2, 'demostr': 1, 'acheiv': 2, 'wct': 1, 'sevalam': 1, 'paroxysm': 3, 'nwb': 1, 'onlin': 1, 'cct': 2, 'asymptommat': 1, 'lisinopril': 8, 'creon': 1, 'sate': 11, 'cash': 18, 'singulair': 1, 'forgetful': 1, 'durat': 17, 'granuloma': 4, 'cigarett': 1, 'moreov': 3, 'contributori': 4, 'hcap': 9, 'divis': 3, 'exacerb': 18, 'polycyst': 2, 'zyprexa': 4, 'resless': 1, 'citalopram': 4, 'money': 18, 'analysi': 19, 'wallet': 17, 'hypoxemia': 38, 'jxrl': 2, 'humer': 3, 'signatur': 19, 'echymot': 2, 'jekh': 1, 'nasopharynx': 2, 'headneg': 1, 'llq': 4, 'credit': 19, 'comaprison': 1, 'discret': 6, 'presenst': 1, 'spiriva': 2, 'hematocrit': 36, 'avf': 11, 'paf': 3, 'asthma': 4, 'flash': 11, 'yom': 6, 'innumer': 4, 'cardiomedi': 1, 'contra': 1, 'thallium': 1, 'variant': 8, 'remedi': 1, 'pharmacolog': 5, 'itch': 4, 'cisatracuriun': 1, 'hemmorrag': 1, 'certainli': 19, 'slh': 1, 'millivolt': 1, 'hickman': 2, 'nobodi': 1, 'straighten': 2, 'truli': 3, 'imposs': 4, 'cco': 2, 'floflan': 1, 'creep': 4, 'slate': 1, 'sclerodactyl': 1, 'corti': 2, 'wbcc': 2, 'prec': 1, 'exactli': 1, 'distennd': 1, 'taler': 1, 'nanogram': 1, 'mgiv': 2, 'paramont': 1, 'ceftazdim': 1, 'tvol': 1, 'unreli': 4, 'ulnar': 2, 'grappel': 1, 'sucess': 2, 'swanganz': 2, 'hemostat': 3, 'affix': 1, 'fick': 3, 'eet': 1, 'optimum': 1, 'gingeral': 1, 'transduc': 4, 'aliv': 5, 'adeq': 10, 'loperamid': 1, 'guaic': 7, 'crackel': 1, 'adv': 4, 'milliamp': 1, 'quantiti': 3, 'con': 8, 'lunchtim': 1, 'anxious': 1, 'ramp': 2, 'dlpic': 1, 'floa': 1, 'play': 5, 'rsr': 5, 'mobilizi': 1, 'gastrocult': 1, 'pvr': 4, 'excret': 5, 'expecter': 1, 'calcul': 5, 'raw': 3, 'univ': 3, 'tof': 3, 'erythemat': 5, 'acetaminophen': 12, 'alvealor': 1, 'onvernight': 1, 'earlob': 2, 'argatroban': 3, 'viagra': 1, 'nausa': 1, 'overngiht': 1, 'lowest': 5, 'assid': 1, 'buck': 4, 'de': 8, 'asssist': 2, 'brachial': 20, 'svo': 8, 'cost': 2, 'swann': 1, 'vigil': 4, 'flolan': 2, 'hemoptysi': 10, 'irrevers': 4, 'diladid': 1, 'lun': 1, 'sctl': 1, 'trunk': 4, 'loger': 1, 'crepitu': 7, 'paratrach': 8, 'antecubit': 3, 'hte': 1, 'drainig': 2, 'gyy': 1, 'nuse': 1, 'ovisit': 1, 'disconect': 1, 'settong': 1, 'ccc': 6, 'pancultur': 7, 'capillari': 4, 'nonpapular': 1, 'wnr': 2, 'reaccumul': 8, 'pharmaci': 11, 'regiment': 3, 'aortopulmon': 1, 'aprrox': 1, 'dissemin': 3, 'wil': 4, 'becasu': 1, 'lucon': 1, 'evacu': 3, 'chill': 7, 'straw': 9, 'ressusit': 1, 'accumul': 6, 'leftward': 9, 'yello': 1, 'stripe': 1, 'parallel': 2, 'packet': 3, 'cutur': 1, 'aztronem': 1, 'aztreonam': 5, 'neutra': 5, 'aztreonem': 1, 'firn': 1, 'derecruit': 5, 'peribronchi': 3, 'travers': 6, 'phosphat': 21, 'plaec': 1, 'inforc': 2, 'pogt': 1, 'comprehens': 3, 'antrum': 7, 'sunday': 5, 'expand': 13, 'huo': 4, 'hoh': 4, 'pulmunari': 1, 'betw': 1, 'spit': 2, 'orthodrom': 1, 'cfm': 1, 'entrant': 1, 'vacat': 2, 'ivx': 1, 'maint': 10, 'bsx': 2, 'agreeabl': 4, 'arrythmia': 4, \"huo'\": 1, 'arhythmia': 1, 'psvt': 1, 'marjor': 1, 'maex': 1, 'anyon': 2, 'remind': 8, 'announc': 1, 'admittedto': 1, 'ampul': 1, 'duti': 1, 'partli': 9, 'ssc': 1, 'nervou': 2, 'paraspin': 2, 'bvmr': 1, 'linezloid': 1, 'lenght': 1, 'orogastrc': 1, 'weam': 1, 'npa': 1, 'antral': 2, 'smoothli': 1, 'consistac': 1, 'oropharnx': 2, 'microneb': 1, 'dubbhoff': 1, 'anim': 3, 'omber': 1, 'peristalsi': 1, 'elsewher': 2, 'handl': 4, 'sesatur': 1, 'clearsecret': 1, 'oout': 1, 'pro': 5, 'creami': 6, 'repolar': 8, 'recycl': 2, 'yellowish': 5, 'tracheal': 10, 'radiat': 14, 'rous': 3, 'assur': 8, 'bonchodil': 1, 'snake': 1, 'attmept': 1, 'linezolid': 7, 'vertic': 4, 'vocal': 6, 'tirat': 1, 'redistribut': 7, 'passag': 2, 'interactiv': 1, 'hematur': 1, 'burnt': 1, 'perman': 3, 'db': 8, 'coher': 1, 'wetter': 1, 'hole': 9, 'peni': 3, 'inabl': 23, 'intestin': 8, \"pvc'\": 1, 'yset': 1, 'substern': 2, 'indicatedat': 1, 'pave': 1, 'oinment': 1, 'prong': 4, 'effectof': 1, 'probmot': 1, 'epsiod': 3, 'spray': 5, 'duodenum': 9, 'outpati': 17, 'vace': 1, 'nemb': 1, 'nebx': 1, 'clammi': 5, 'lag': 2, 'incsec': 1, 'hoff': 1, 'plmt': 2, 'isordil': 2, 'cva': 16, 'yankuar': 1, 'permit': 3, 'cluster': 8, 'joke': 1, 'coat': 3, 'perc': 6, 'volumin': 1, 'nasotrach': 3, 'restain': 1, 'advoc': 3, 'gastroduoden': 1, 'sligthli': 1, 'attain': 4, 'verif': 1, 'thinnish': 1, 'attemtp': 3, 'nrbfm': 2, 'dulcalox': 1, 'enzim': 1, 'conray': 2, 'cong': 2, 'bronchopulomari': 1, 'flouroscopi': 1, 'afebrel': 1, 'aever': 1, 'pta': 8, 'anox': 3, \"rec'\": 6, 'indepth': 1, 'abn': 1, 'repsond': 2, 'conditon': 1, 'ration': 3, 'reinforc': 6, 'neosenephrin': 1, '^peep': 2, 'abrupt': 4, 'eyelid': 4, 'nsw': 1, 'toungu': 1, 'ineffectu': 2, 'asytol': 3, 'distraught': 2, 'mere': 2, 'honor': 1, 'button': 3, 'orthodox': 2, 'earil': 1, 'respitatori': 1, 'solarium': 1, 'boarder': 1, 'recept': 2, 'anoxia': 2, 'belief': 2, 'religi': 3, 'holiday': 4, 'pulsatil': 2, 'peerl': 1, \"sx'ing\": 3, 'someon': 4, 'sibil': 1, 'collap': 2, 'increment': 3, 'orophanyng': 1, 'posey': 2, 'parent': 4, 'experi': 10, 'dignifi': 1, 'autism': 1, 'belt': 1, 'lean': 4, 'eveninng': 1, 'grunt': 2, 'automat': 2, 'fibroid': 2, 'obstetr': 1, 'endovagin': 1, 'aneurysm': 8, 'print': 1, 'sugic': 1, 'nb': 2, 'oper': 8, 'op': 8, 'unresolv': 2, 'taa': 1, 'stab': 1, 'pem': 1, 'bulg': 1, 'dob': 1, 'adnexa': 3, 'endometri': 2, 'endometrium': 1, 'uteru': 6, 'dur': 1, 'intiti': 1, 'bibap': 1, 'cisatracrium': 1, 'facemask': 7, 'varri': 1, 'physican': 2, 'cista': 1, 'varrifi': 1, 'respitori': 4, 'adendum': 2, 'ansesthesia': 1, 'inexplic': 1, 'deeper': 2, 'backsid': 2, 'famil': 4, 'obstr': 2, 'abomin': 1, 'tanish': 3, 'myeloma': 4, 'calor': 2, 'indweel': 1, 'sucton': 1, 'valproic': 2, 'ditiazem': 1, 'cirul': 1, 'prupos': 1, 'whose': 5, 'imbal': 4, 'recumb': 2, 'adminst': 1, 'profus': 3, 'physio': 2, 'glenohumer': 2, 'inadequ': 12, 'lcan': 1, 'dyspnoic': 1, 'scater': 1, 'cardiopulm': 2, 'abaras': 1, 'ziprasidon': 1, 'somnul': 3, 'geodon': 1, 'mom': 5, 'lha': 1, 'cephal': 9, 'sv': 2, 'microdata': 1, 'btw': 3, 'aplli': 2, 'lbr': 1, 'yesterda': 2, 'avss': 1, 'plethora': 2, 'occaision': 4, 'generalis': 2, 'analgesia': 6, 'repiratori': 2, 'awaitng': 2, 'dire': 1, 'mgting': 1, 'flood': 1, 'manifest': 6, 'display': 11, 'prop': 4, 'ventral': 1, 'wcc': 1, 'adam': 3, 'simplifi': 1, 'sole': 2, 'intussuscept': 2, 'ciprofloxacin': 13, 'repleat': 8, 'adhes': 5, 'coli': 4, 'sem': 7, 'muddi': 4, 'shfit': 1, 'carri': 5, 'oft': 1, 'referr': 14, 'neighbor': 2, 'feurea': 5, 'repair': 9, 'symptommat': 1, 'dysnchronu': 1, 'sbo': 7, 'dorsal': 6, 'persuad': 1, 'multidisciplinari': 9, 'understood': 5, 'declar': 7, 'neob': 4, 'onu': 1, 'ascul': 1, 'intoler': 24, 'rdf': 1, 'nephrotox': 1, 'resu': 3, 'incision': 1, 'incarcer': 2, 'extraordinari': 2, 'sesi': 1, 'obviat': 1, 'cast': 7, 'dismal': 2, 'extralumin': 3, 'anastomosi': 2, 'subcost': 1, 'gutter': 5, 'hemicolectomi': 2, 'aortopulmonari': 2, 'biventricular': 7, 'transesophag': 3, 'reticul': 3, 'mlhh': 1, 'ileocolon': 1, 'precarin': 3, 'honeycomb': 2, 'transvers': 7, 'lymphoprolif': 1, 'mesenter': 15, 'traction': 2, 'milk': 3, 'prox': 1, 'implic': 7, 'annulu': 4, 'txpb': 2, 'tee': 11, 'echocardiographi': 3, 'bronchiectasi': 7, 'interpolar': 3, 'subpleur': 6, 'prune': 2, 'multilevel': 6, 'aberr': 2, 'splenul': 3, 'canal': 3, 'valvular': 10, 'accordion': 1, 'hyperdens': 8, 'tachomyopathi': 1, 'proctiti': 1, 'perihepat': 5, 'helic': 8, 'paracol': 4, 'intermedi': 4, 'sacroiliac': 2, 'paraaort': 4, 'clostridium': 5, 'deflect': 3, 'god': 1, 'ronchoru': 1, 'pleasantli': 1, 'pali': 2, 'upt': 2, 'slowley': 1, 'silent': 2, 'gun': 1, 'vna': 7, 'od': 5, 'hose': 1, 'hyperchol': 1, 'produst': 1, 'hospitil': 1, 'epiglott': 3, 'strategi': 3, 'moisten': 3, 'rtn': 1, \"piv'\": 1, 'explainig': 1, 'piperacillin': 36, 'psychiatri': 2, \"'sundown\": 1, 'swollow': 1, 'vasculatur': 12, 'laser': 1, 'dayshift': 3, 'ambul': 6, 'metopolol': 1, 'kill': 3, 'bnp': 9, 'statement': 1, 'maxillari': 7, 'awil': 1, 'witch': 1, 'tranfer': 1, 'subarachnoid': 1, 'explor': 3, \"po'\": 2, 'aao': 5, 'illicit': 3, 'slightl': 1, 'unbroken': 4, '\\x13pt': 1, 'duoguard': 1, 'cocyx': 2, 'tab': 9, 'scare': 4, 'bp^': 1, 'immediatli': 1, 'perhap': 15, 'orogastr': 13, 'pngt': 4, 'levoflaxacin': 1, 'eccessori': 1, 'propfol': 2, 'disagre': 1, 'thrust': 1, 'requr': 4, 'simethicon': 3, \"cc'sfor\": 1, 'bibpap': 2, 'racem': 1, 'biapic': 3, 'outcv': 1, 'tachycarid': 1, 'tub': 1, 'repsir': 2, 'grew': 6, 'remanin': 1, 'resend': 4, 'arway': 1, 'hila': 4, 'strep': 4, 'rhonchou': 2, 'svn': 1, 'agigt': 1, 'relay': 4, 'skincar': 2, 'heliox': 4, 'lobectomi': 5, 'notitifi': 1, 'morin': 1, 'abil': 16, 'sete': 1, 'sharpli': 3, 'mulleri': 1, 'interest': 13, 'conctact': 1, 'fetanyl': 2, 'integu': 3, 'tb': 5, 'entireti': 2, 'insist': 3, 'drwn': 1, 'diflucan': 4, 'guaz': 1, 'harrt': 2, 'bioprosthet': 2, 'ersd': 1, 'ht': 3, 'dehisc': 3, 'embolu': 12, 'multidetector': 9, 'bmi': 10, 'mssa': 5, 'musculatur': 2, 'adat': 2, 'contigu': 16, 'splenomegali': 3, 'kal': 1, 'trochant': 1, 'quietli': 1, 'osteolyt': 4, 'thrill': 2, 'endors': 3, 'decompress': 7, 'cinacalcet': 1, 'commod': 4, 'circumferenti': 2, 'veloc': 7, 'qhd': 1, 'emper': 3, 'ln': 3, 'flexor': 1, 'narrow': 18, 'nephrocap': 1, 'favor': 12, 'dehiss': 1, 'subchondr': 2, 'csurg': 1, 'nerv': 7, 'ring': 6, 'admisison': 1, 'hbv': 1, 'dorsum': 1, 'avr': 6, 'foreign': 4, 'osteoarthr': 4, 'monophas': 1, 'tazobactam': 28, 'imping': 2, 'supsect': 1, 'fsgn': 1, 'cellul': 2, 'bruit': 5, 'macrovascular': 1, 'cxwc': 4, 'ale': 1, 'reform': 12, 'malnutrit': 15, 'hsq': 1, 'circumscrib': 1, 'surveil': 5, 'candidaci': 2, 'haart': 4, 'specium': 1, 'ginger': 1, 'throb': 1, 'regurg': 6, 'guiaic': 4, 'heb': 1, 'hyperparathyroid': 3, 'sfyb': 1, 'articular': 1, 'abi': 1, 'nephropathi': 3, 'synergi': 1, 'asciti': 4, 'rock': 1, 'ankl': 10, 'illeu': 3, 'amlodipin': 5, 'embol': 19, 'leni': 8, 'plafond': 1, 'veg': 2, 'pve': 1, 'myositi': 1, 'osteo': 2, 'hopsic': 1, 'mmp': 2, 'hcv': 6, 'hydralain': 1, 'immunosuppress': 4, 'tibiotalar': 1, 'lbp': 1, 'mycot': 1, 'serolog': 2, 'rim': 2, 'deem': 4, 'methadon': 5, 'fsg': 3, 'dilauidid': 1, 'lifestyl': 1, 'tyelenol': 1, 'erythema': 7, 'viridan': 1, 'suppl': 13, 'cachect': 3, 'tibial': 9, 'osteoblast': 3, 'metatars': 1, 'prosthet': 2, 'emboli': 7, 'futil': 4, 'sevelam': 1, 'carbon': 8, 'ao': 2, 'hepatosplenomegali': 1, 'lesser': 6, 'antihypertens': 9, 'suspician': 2, 'vege': 1, 'vegit': 2, 'triphas': 1, 'anerysm': 1, 'ucx': 14, 'tbili': 3, 'tu': 1, 'tendernss': 1, 'soleu': 1, 'echodens': 1, 'jvd': 10, 'hyoptens': 1, 'urosepsi': 5, 'cardimeg': 1, 'entub': 1, 'roughli': 5, 'gelfoam': 1, 'clearifi': 1, 'agonol': 1, 'venti': 1, 'ectat': 1, 'vertex': 5, 'toleart': 2, 'pretrach': 5, 'xx': 1, 'velcro': 1, 'cml': 1, 'glucomet': 2, 'reso': 1, 'steadi': 5, 'skull': 7, 'asysol': 1, 'bisacodyl': 8, 'cmml': 1, 'stimilu': 1, 'diverticulosi': 4, 'dietari': 1, 'norvsasc': 1, 'thalamu': 1, 'pericol': 1, 'tamer': 1, 'coxxyx': 1, 'wegner': 1, 'dudoderm': 1, 'hydroxyea': 1, 'continun': 1, 'pluggi': 2, 'hiflo': 2, 'lsubclavian': 1, 'brachiocephal': 17, 'nimv': 4, 'standbi': 5, 'catheter': 2, 'serum': 19, 'dimin': 2, 'signifc': 2, 'wegen': 1, 'diverticul': 4, 'csf': 3, 'cepetim': 1, 'agb': 2, 'coverd': 1, 'perisplen': 3, 'sauc': 4, 'leukemia': 4, 'reinstitut': 2, 'parament': 1, 'lucenc': 11, 'perpl': 1, 'bronchscopi': 1, 'prismat': 1, 'vista': 2, 'currentl': 3, 'aros': 2, 'perpendicular': 1, 'blastic': 8, 'thk': 1, 'cortic': 7, 'cerebellar': 4, 'tcl': 1, 'rp': 2, 'dialzi': 1, 'avblock': 1, 'deciscion': 1, 'preliminarili': 3, 'fli': 5, 'hed': 1, 'onthi': 2, 'laparotomi': 1, 'misshapen': 1, 'ocmmand': 1, 'exploratori': 1, 'fleck': 1, 'angiopathi': 1, 'chagn': 1, 'suspend': 2, 'rose': 5, 'ry': 1, 'chage': 2, 'hemocult': 1, 'paravertebr': 2, '^^rr': 2, 'copoiu': 1, 'beig': 2, 'insens': 4, 'nted': 1, 'peopl': 5, 'diffficult': 1, \"mod't\": 1, 'remot': 4, 'adenoca': 1, 'volulm': 1, 'misc': 1, 'esp': 11, 'mechaniclli': 1, 'cchour': 1, 'trophic': 2, 'noi': 1, 'ttube': 1, 'plerual': 3, 'aforement': 2, 'nonsens': 2, 'abdoment': 1, 'zoysn': 3, 'est': 3, 'ace': 9, 'clonazapam': 1, 'cereal': 1, 'sched': 2, 'reclin': 1, 'humid': 2, 'calori': 16, 'rhochor': 3, 'inhibitor': 5, 'megac': 1, 'fed': 3, 'redirect': 2, 'dinner': 5, 'omelett': 1, 'nli': 1, 'cholesterol': 2, 'rhytham': 1, 'hydral': 5, 'ceftriax': 1, 'dobuta': 2, 'sydron': 1, 'responc': 2, 'kilo': 1, 'school': 2, 'boyfriend': 1, 'perifer': 1, 'toenail': 2, 'ys': 1, 'humolog': 1, 'flacid': 3, 'diaphoresi': 2, 'htd': 1, 'conjuct': 1, 'rnoc': 1, 'prophalact': 1, 'multivessel': 2, \"'sst\": 1, 'suppos': 6, 'ofr': 1, 'hotel': 2, 'asympt': 1, 'isnp': 1, 'reqir': 1, 'boy': 1, 'rouseabl': 1, 'appopri': 1, 'perirect': 2, 'ventiltori': 1, 'thormbu': 1, 'consentr': 1, 'church': 1, 'profilax': 1, 'requirinf': 1, 'howevet': 1, 'eccymosi': 2, 'ceftazidim': 4, 'yhesterday': 1, 'vese': 2, 'tepid': 2, '^wbc': 1, 'taketsubo': 1, 'wehen': 1, 'esoph': 4, 'decret': 1, 'duoden': 4, 'prioriti': 11, 'anasrca': 1, 'dysynchron': 9, 'oygen': 1, 'orallli': 1, 'spare': 12, 'classif': 1, 'insid': 4, 'sluggishli': 6, 'lovenox': 4, 'vasporessin': 1, 'forth': 5, 'tma': 1, 'rescuscit': 2, 'redress': 4, 'parametr': 1, 'oliguria': 7, 'lpew': 1, 'snx': 5, 'manoeuv': 1, 'craniotomi': 2, 'phenytoin': 2, 'pinsp': 2, 'flextub': 1, 'unrealist': 2, 'zoysyn': 1, 'rigor': 1, 'intermittint': 1, 'anascara': 2, 'dilantin': 4, 'suspiciion': 1, 'share': 7, 'buccal': 2, 'oa': 1, 'hypothyroid': 11, 'labatolol': 1, 'spill': 1, 'pivx': 1, 'levothyroxin': 5, 'stabli': 3, 'seat': 5, 'protrus': 1, 'etio': 1, 'establish': 11, 'propafol': 5, 'nasaotrach': 1, 'fluent': 3, 'phlegm': 1, 'benefif': 1, 'narc': 2, 'dial': 2, 'strict': 7, 'holosystol': 1, 'reproduc': 1, 'facet': 2, 'phosphor': 1, 'viscou': 1, 'retri': 4, 'gfr': 4, 'unwil': 2, 'rebronch': 1, 'inspiratori': 19, 'bisbi': 1, 'cup': 1, 'unplan': 3, 'hemodynamicli': 1, 'consequ': 7, 'edentul': 2, 'email': 6, 'pallait': 1, 'cautious': 1, 'aphonia': 1, 'cipso': 1, 'acoust': 6, 'endobronchi': 4, 'trand': 1, 'aaa': 3, 'apici': 1, 'crf': 4, 'conserv': 4, 'occurr': 3, 'tsp': 4, 'hgb': 21, 'fluoroquinolon': 1, 'shadow': 8, 'clonic': 1, 'context': 8, 'py': 1, 'besid': 4, 'rlsb': 1, 'blous': 6, 'lingual': 3, 'certain': 2, 'labial': 2, 'gestur': 4, 'underestim': 6, 'mouthcar': 5, 'slp': 7, 'risbi': 3, 'arestraint': 1, 'ctab': 7, 'threshold': 10, 'claim': 15, 'pmn': 15, 'engag': 3, 'furosemid': 18, 'motor': 5, 'bedsight': 1, 'doxercalciferol': 1, 'tob': 2, 'foi': 2, 'epitheli': 11, 'cpcp': 2, 'azithro': 8, 'dyston': 2, 'unmetabol': 1, 'couas': 1, 'secretin': 1, 'mucin': 1, 'holosyst': 2, 'dwindl': 2, 'labetalol': 2, 'systolicali': 1, 'mmv': 5, 'outstand': 1, 'suffici': 9, 'trazadon': 3, 'disorient': 2, 'reexpand': 1, 'mastic': 2, 'workup': 10, 'intellig': 1, 'attg': 2, 'binder': 5, 'calmer': 1, 'thirsti': 2, 'relev': 27, 'extubat': 2, 'bronchiti': 4, 'tetracyclin': 2, 'hld': 1, 'lighten': 11, 'inappropri': 6, 'parathyroid': 1, 'clonu': 5, 'rhythmic': 1, 'ctx': 3, 'labetolol': 2, 'dentur': 5, 'reattempt': 4, 'whiteout': 1, 'ramya': 2, 'congenit': 3, 'ipf': 12, 'reflux': 6, 'version': 7, 'transaort': 2, 'transplan': 1, 'intramur': 1, 'uip': 1, 'lumbar': 12, 'collagen': 1, 'scleroderma': 1, 'distens': 10, 'destruct': 4, 'pfo': 7, 'reticular': 10, 'submit': 8, 'proven': 1, 'microbubbl': 2, 'arthroplasti': 3, 'tia': 2, 'instrument': 2, 'recon': 10, 'construct': 2, 'dysmotil': 2, 'hyxpoxia': 1, 'bore': 5, 'uid': 1, 'boop': 4, 'usip': 1, 'cerebrovascular': 2, 'sedement': 1, 'debat': 2, 'claustrophob': 1, 'pullback': 1, 'claustrophobia': 1, 'maitain': 2, 'rhythym': 1, 'nitrat': 2, 'goodby': 7, 'cheeck': 1, 'furthermor': 2, 'curtain': 1, 'increasd': 2, 'spastic': 1, 'hallucin': 3, 'incred': 1, 'tapper': 2, 'perf': 4, 'revisit': 4, 'initiali': 2, 'achill': 1, 'polit': 1, 'repost': 1, \"sx'ng\": 2, 'ccn': 4, 'idiopath': 4, 'oxa': 2, 'deepli': 2, 'bleb': 2, 'pf': 3, 'tramua': 1, 'collaber': 1, 'degress': 1, 'firmer': 2, 'teradyn': 1, 'heavili': 5, 'chanag': 1, 'ioc': 1, 'frequ': 2, 'setti': 1, 'secreiton': 2, 'hygen': 2, 'rhoncor': 5, 'rhonchour': 2, 'tten': 1, 'brn': 2, 'aova': 2, 'alsdo': 1, 'big': 8, 'cataract': 5, 'rap': 1, 'norvasc': 2, 'worsend': 2, 'pleasa': 1, 'eitiolog': 1, 'iwth': 1, 'levofloxin': 3, 'hyperkalem': 3, 'drng': 3, 'un': 3, 'vre': 6, 'balalnc': 1, 'preceed': 1, 'osteoarthrit': 1, 'curvilinear': 2, 'flank': 8, 'trendelenberg': 2, 'cavum': 1, 'fic': 1, 'pateitn': 1, 'asbestosi': 1, 'receeiv': 1, 'wih': 1, 'withdrew': 3, 'absorpt': 5, 'verga': 1, 'allerg': 3, 'redos': 4, 'invert': 1, 'appov': 1, 'irrigatioin': 1, 'pellucidum': 1, 'stg': 4, 'resit': 9, 'eventaulli': 1, 'rc': 1, 'ppf': 1, 'allevi': 5, 'meatu': 5, 'unsuit': 1, 'notif': 5, 'beginnng': 1, 'unopacifi': 1, 'twave': 2, 'urolog': 4, 'adden': 1, 'pararen': 2, 'mattess': 1, 'beginni': 1, 'fasicul': 1, 'thalam': 1, 'downgo': 1, 'hsm': 8, 'unarous': 4, 'disloc': 4, 'electrocauderi': 1, 'seroquel': 2, 'appendix': 4, 'varic': 7, 'menopaus': 1, 'ecchymos': 5, 'scopalamin': 4, 'atalectasi': 2, 'rhinorrhea': 1, 'ingest': 3, 'nsaid': 2, 'rm': 1, 'drew': 1, 'align': 2, 'qh': 6, 'unresponsiv': 1, 'assoc': 4, 'egd': 7, 'orif': 2, 'heterotop': 2, 'mening': 6, 'requier': 2, 'mmm': 10, 'gonad': 1, 'lp': 5, 'romi': 1, 'usoh': 3, 'doubt': 9, 'plantar': 1, 'lbbb': 2, 'muffl': 1, 'atheroma': 3, 'stair': 3, 'detrol': 2, 'infxn': 2, 'tsh': 7, 'hemiparesi': 3, 'cor': 4, 'qt': 3, 'cement': 1, 'sma': 3, 'hemiarthroplasti': 1, 'indetermin': 12, 'lenticulostri': 1, 'thr': 1, 'contractur': 1, 'antimicrobi': 11, 'groan': 2, 'gb': 5, 'adnex': 1, 'yof': 5, 'arrous': 3, 'hemiparasi': 1, 'imi': 1, 'program': 7, 'dssg': 1, 'flexacil': 1, 'therapeuitc': 1, 'thta': 2, 'lvel': 1, 'ovb': 2, 'vasoppresin': 1, 'guardianship': 2, 'escol': 1, 'bicar': 1, 'offici': 7, 'pendn': 1, 'surrog': 2, 'tobra': 5, 'uppon': 1, 'cotn': 1, 'underway': 3, 'vasopresin': 2, 'vaso': 3, 'tobromycin': 1, 'tobro': 1, 'unbal': 1, 'cllose': 1, 'miltipl': 2, 'doputamin': 1, 'befriend': 1, 'zocyn': 2, 'pupl': 2, 'monitoirng': 1, 'paraplegia': 1, 'comand': 2, 'uint': 1, 'uit': 1, 'transf': 1, 'stepson': 1, 'conveni': 1, 'xrt': 7, 'denial': 2, 'allopurinol': 6, 'gout': 6, 'digoxin': 9, 'alkalin': 15, 'ignor': 1, 'sedtat': 2, 'nab': 5, 'interdisciplinari': 14, 'bless': 3, 'love': 4, 'effectivli': 1, 'migrat': 6, 'retent': 7, 'vtachi': 2, 'celexa': 2, 'galactomannan': 7, 'glucan': 8, 'smx': 7, 'clarif': 5, 'magnet': 2, 'sclc': 1, 'rheumatoid': 4, 'dissect': 6, 'formula': 9, 'droppedfrom': 1, 'auto': 7, 'wgt': 17, 'harm': 6, 'tmp': 8, 'kind': 1, 'lyphanget': 1, 'plot': 2, 'protinx': 1, 'lipidemia': 1, 'annoint': 1, 'petechia': 7, 'bee': 8, 'calc': 20, 'icd': 5, 'zocor': 2, 'newest': 1, 'peteci': 1, 'excess': 11, 'gola': 1, 'mth': 2, 'arthriti': 6, 'writer': 2, 'oliguricb': 1, 'exfoli': 1, 'portacath': 4, 'levofoxacin': 1, 'score': 5, 'elderi': 1, 'hemodynim': 16, 'infra': 1, 'holder': 2, 'presumpt': 3, 'fentayl': 3, 'hemorrag': 1, 'sclca': 1, 'ringworm': 1, 'fing': 1, 'rectobulbar': 1, 'enorm': 1, 'rite': 4, 'thoracetesi': 1, 'puffer': 1, 'articl': 2, 'transud': 6, 'hilum': 2, 'cracker': 1, 'lla': 1, \"'abl\": 1, 'postsurg': 2, 'lawyer': 2, 'propopfol': 1, 'trnasport': 1, 'frop': 1, 'mulitsystem': 1, 'rewuir': 1, 'diltizem': 1, 'thouhg': 1, \"pt'scode\": 1, 'speciman': 1, 'lefloxin': 1, 'bend': 2, 'dilut': 4, 'whne': 2, 'cecal': 1, 'predomiantli': 1, 'stoic': 1, 'lipoma': 1, 'tortous': 1, 'zithromax': 1, 'doen': 3, 'retrocrur': 1, 'fatti': 1, 'acuta': 1, 'hydroneprosi': 1, 'bifurc': 2, 'manner': 4, 'thorocolumbar': 1, 'ceftrix': 1, 'cult': 8, 'aneursym': 1, 'eechymot': 1, 'vd': 1, 'diaphragmat': 4, 'diapragmat': 1, 'ectasia': 1, 'icechip': 1, 'network': 1, 'vistit': 1, 'tobramycin': 3, 'privaci': 2, 'hemobilia': 1, 'hypernatrium': 1, 'cat': 6, 'wquickli': 1, 'inqueri': 1, 'dialntin': 1, 'oversed': 1, 'aystol': 1, 'verapimil': 1, 'cld': 1, 'dilatin': 2, 'widen': 15, 'plasmapheresi': 1, 'ordor': 1, 'amniodoron': 1, 'multilobular': 2, 'zantac': 1, 'miantain': 1, 'activitiy': 1, 'furhter': 3, 'therapuet': 1, 'provit': 1, 'tolerta': 1, 'gaseou': 2, 'lral': 1, 'hematuria': 7, 'fifth': 3, 'fosphenytoin': 1, 'mard': 1, 'suscept': 3, 'retart': 1, 'nbr': 1, 'succinocholynin': 1, 'verapmil': 1, 'wise': 5, 'amirion': 1, 'reconsult': 5, 'occai': 1, 'thoracoabdomin': 2, 'frig': 1, 'calvarium': 3, 'ittp': 1, 'ri': 1, 'trap': 5, 'pearla': 2, 'ser': 1, 'oxygent': 3, 'plasma': 2, 'tympan': 3, 'consolida': 1, 'inceas': 1, 'ttp': 2, 'plasmaforesi': 1, 'browni': 1, 'siezur': 2, 'amniodaron': 2, 'midlung': 1, 'rlower': 1, 'blod': 2, 'reass': 2, 'urpc': 1, 'procan': 1, 'rsstraint': 1, 'hemetolog': 1, 'benigh': 1, 'vicari': 2, 'blur': 4, 'dgt': 1, 'reactiven': 1, 'scapula': 3, 'remian': 5, 'act': 12, 'roll': 5, 'derterior': 1, 'eyebrow': 2, 'gvien': 2, 'interfac': 1, 'enrout': 2, 'rpc': 2, 'supra': 7, 'stack': 4, 'ativna': 1, 'scopolimin': 1, 'qtc': 3, 'proovid': 1, 'angiographi': 5, 'tema': 1, \"'girgl\": 1, 'statlock': 2, 'spontaneuosli': 1, 'stoke': 3, 'cotinu': 1, 'hardcopi': 1, 'montitor': 3, 'suitabl': 4, 'ej': 3, 'realtim': 2, 'chol': 3, 'fmaili': 3, 'fluor': 1, 'schiz': 1, 'tubefe': 5, 'thread': 1, 'dryness': 1, 'curent': 2, 'basicali': 1, 'dissapoint': 1, 'feud': 1, 'surpriz': 1, 'movent': 1, 'nibp': 7, 'tyre': 1, 'reschedul': 2, 'yankeaur': 1, 'smile': 2, 'everyon': 2, 'sing': 1, 'elbow': 9, 'supratherapeut': 9, 'enhans': 1, 'disciplanari': 1, 'peaceabl': 1, 'pleurex': 1, 'anasthesia': 1, 'tuesday': 9, 'thck': 1, 'cardia': 2, 'dangl': 2, 'bronchoscpi': 1, 'bipsi': 1, 'conclud': 1, 'eight': 3, 'underpenetr': 7, 'mimin': 1, 'mim': 1, 'anzimet': 1, 'reexpans': 2, 'dequat': 1, 'dime': 1, 'lght': 1, 'fentynl': 1, 'thicker': 3, 'remainpt': 1, 'yankuer': 1, 'mechinc': 1, 'vomitinig': 1, 'rtespiratori': 1, 'figur': 3, 'topler': 1, 'brochoscopi': 2, 'pdr': 1, 'creme': 2, 'suter': 1, 'thorencentesi': 2, 'pneumotho': 1, 'respiratorey': 1, 'nysatin': 1, 'supposrt': 1, 'fusion': 3, 'pipricillin': 1, 'otherw': 1, 'chaqng': 1, 'diaph': 1, 'miconizol': 1, 'miconazol': 4, 'chardt': 1, 'pleuvex': 1, 'mitrazol': 1, 'ascult': 2, 'periarea': 1, 'hemonc': 1, 'myconazol': 1, 'yanker': 1, 'busi': 1, 'thoracenthesi': 1, 'avg': 3, 'quesstion': 1, 'fentaynl': 1, 'error': 6, 'precept': 2, 'saliv': 1, 'author': 3, 'hyperventil': 3, 'supertherapeut': 1, 'glaucoma': 2, 'hypercoagul': 1, 'hypertroph': 3, 'vasculariz': 1, 'evolut': 6, 'warrant': 5, 'pendin': 1, 'hn': 9, 'rhythem': 1, 'polar': 1, 'stasi': 4, 'aa': 5, 'fossa': 7, '^st': 6, 'metavis': 12, 'thrombi': 3, 'reconsclip': 1, 'suberb': 1, 'smv': 2, 'academia': 2, 'meningioma': 2, 'sg': 1, 'cutoff': 1, 'pepcid': 6, 'defecit': 2, 'boluss': 1, 'thrombot': 3, 'hemispher': 1, 'miner': 10, 'diabet': 14, 'thrombo': 1, 'thrombos': 2, 'aksb': 1, 'ethanol': 1, 'proteu': 2, '^nd': 8, 'massag': 5, 'revert': 2, 'ecoli': 4, 'viscer': 2, 'mellitu': 3, 'fibersourc': 7, 'rythem': 1, 'atherosclerosi': 4, 'restor': 1, 'papyracea': 1, 'ablat': 5, 'exhal': 13, 'descript': 7, 'ddd': 2, \"jxn'al\": 1, 'dlrc': 3, 'hocm': 1, 'dmfj': 1, 'season': 1, 'vivonex': 3, 'nkfa': 4, 'hiss': 14, 'lamina': 2, 'superven': 6, 'thrombophilia': 1, 'timecours': 1, 'strike': 1, 'microb': 1, 'research': 2, 'methgb': 1, 'ich': 5, 'ubw': 1, 'pyuria': 3, 'ggt': 7, 'suppli': 6, 'thrombolysi': 1, 'multivitamin': 10, 'appendag': 3, 'dermatolog': 1, 'characterist': 2, 'gluos': 1, 'nonhemorrhag': 2, 'hypocalor': 5, 'phynelephrin': 1, 'ventricularli': 1, 'lopresor': 1, 'abtout': 1, 'visisbilti': 1, 'lordot': 3, 'subtl': 6, 'throw': 3, 'vest': 1, 'gown': 1, 'memeori': 1, 'fot': 1, 'appropiatelt': 1, 'sundown': 1, 'initailli': 1, 'alzheim': 9, 'str': 2, 'adamantli': 1, 'collasp': 1, 'stromal': 1, 'tree': 11, 'debil': 2, 'greatest': 2, 'hasten': 1, 'oldest': 1, 'abcess': 5, 'lobul': 2, 'uret': 3, 'duplic': 3, 'parapelv': 1, 'comprehend': 3, 'mesenchym': 1, 'taneous': 1, 'hemiabdomen': 1, 'kyphosi': 3, 'pleath': 1, 'fourth': 2, 'crement': 1, 'distanc': 3, 'group': 3, 'lucid': 1, 'outer': 3, 'oi': 2, 'prsentli': 1, 'gpt': 1, 'gentl': 16, 'coar': 2, 'ride': 1, 'cloog': 1, 'bound': 6, 'pnacreat': 1, 'fragment': 4, 'hyperglycem': 2, 'desk': 1, 'lucent': 3, 'hypottherm': 1, 'periost': 1, 'susp': 1, 'stagger': 1, 'calcaneu': 1, 'marker': 7, 'afb': 6, 'minimu': 1, 'ultrasonograph': 2, 'disp': 3, 'gluteu': 1, 'levetiracetam': 2, 'chiba': 1, 'mtp': 1, 'ossif': 2, 'malleolu': 1, 'px': 1, 'collim': 5, 'uncin': 1, 'eros': 1, 'obl': 1, 'osteomyel': 2, 'phonecal': 2, 'incluc': 1, 'centrilobular': 3, 'plactment': 1, 'azythromycin': 2, 'collectio': 1, 'recc': 2, 'gastrojejunostomi': 1, 'bronchiol': 2, 'mrcp': 3, 'gait': 4, 'lfa': 1, 'hemorrhoid': 1, 'mash': 1, 'jello': 3, 'fibrothorax': 1, 'dexamethason': 3, 'swalow': 1, 'manger': 2, 'drool': 2, 'aspit': 1, 'potato': 1, 'pleura': 4, 'brisckli': 1, \"treatments'\": 1, 'dicuss': 1, 'veyr': 1, 'cs': 1, 'regad': 1, 'rewarm': 1, 'critacar': 1, 'rs': 1, 'tact': 2, 'ever': 3, 'regain': 4, 'xfew': 1, 'cisat': 1, 'contini': 3, 'furrow': 1, 'similarli': 1, 'shr': 1, 'pacu': 1, 'serosangin': 2, 'hypotnes': 1, 'lymphpma': 1, 'brow': 1, 'tablet': 4, 'pleuro': 1, 'subsegment': 11, 'formul': 3, 'seemd': 1, 'damag': 4, 'bleomycin': 1, 'tachyp': 1, 'occat': 3, 'disynchron': 3, 'tachard': 1, 'univers': 1, 'attack': 3, 'tachypnia': 1, 'tomm': 1, 'fold': 8, 'synchroni': 3, 'olanzapin': 1, 'cisatricurium': 2, 'mmcg': 1, 'twelfth': 1, 'intermitantli': 1, 'hodgkin': 3, 'optimist': 1, 'aveolar': 2, 'caontact': 1, 'pipercillin': 1, 'wasd': 1, 'bleo': 1, 'ivabx': 1, 'plavix': 3, 'fibrot': 8, 'slightest': 1, 'seveer': 1, 'fleet': 4, 'hodgekin': 1, 'reuslt': 1, 'correctli': 4, 'inconti': 1, 'sixth': 2, 'isoridl': 1, 'methylprednisolon': 10, 'perian': 3, 'trnasfer': 1, 'whe': 1, 'critcaid': 1, 'perm': 2, 'coasr': 1, 'stitch': 1, 'donat': 3, 'countri': 1, 'restlessli': 1, 'pediatr': 1, 'afteran': 1, 'mobilazt': 1, 'treatement': 4, 'pronoun': 1, 'bilaterali': 1, 'hydrocrtison': 1, 'dowm': 1, 'brath': 2, 'nitroglycerin': 1, 'aspirt': 1, 'reinit': 1, 'aureu': 4, 'assessori': 1, 'mophin': 1, 'anal': 3, 'thrash': 3, 'hemmerroid': 1, 'nif': 4, 'tpiec': 1, 'secrect': 3, 'sennakot': 1, 'nucleu': 1, 'subacut': 4, 'urea': 1, 'midazolm': 1, 'ocassion': 1, 'gastroccult': 3, 'index': 6, 'tylenon': 1, 'outcom': 8, 'placemnt': 2, 'glycerin': 1, 'resdiual': 2, 'dloppler': 1, 'shave': 2, 'bij': 1, 'pariet': 3, 'predomin': 8, 'rssi': 2, 'milrinon': 2, 'melenoma': 2, 'evalul': 1, 'smal': 2, 'pericardiocentesi': 1, 'breakthrough': 4, 'pericarid': 1, 'likley': 5, 'melanoma': 3, 'scatt': 1, 'bereav': 2, 'pg': 1, 'tke': 1, 'cheynn': 1, 'ativn': 1, 'whatev': 2, 'porli': 1, 'ahead': 3, 'compazin': 5, 'music': 2, 'codien': 1, 'eaten': 1, 'goven': 1, 'crack': 1, 'imrpvo': 1, 'bigemin': 1, 'boul': 1, 'etoh': 7, 'pnuemonia': 4, 'disregard': 2, 'legthargi': 1, 'drank': 2, 'explanatori': 1, '^^hr': 1, 'tail': 4, 'vi': 6, 'ativanand': 1, 'activit': 1, 'tachynepn': 1, 'electrolt': 1, 'bsp': 1, 'csl': 1, 'pullup': 1, 'consistenli': 2, 'sa': 4, 'diaphort': 1, 'amnio': 1, 'hepatin': 1, 'hepar': 3, 'genta': 2, 'esophagogastrectomi': 1, 'slighti': 2, 'unmeasur': 1, 'overview': 1, 'accident': 2, 'pleurovac': 1, 'scout': 3, 'electroyt': 1, 'heparn': 1, 'transposit': 1, 'willprob': 1, 'innomin': 2, 'clench': 1, 'vor': 1, 'knick': 1, 'aspriat': 1, 'swing': 2, 'gentamicin': 4, 'tag': 1, 'eposid': 1, 'fibr': 1, 'inci': 1, 'persit': 1, 'adenoma': 3, 'irregularli': 3, 'primaxin': 1, 'imipenum': 1, 'lwst': 1, 'intacat': 1, 'cahng': 1, 'select': 4, 'reuir': 1, 'ugi': 2, 'pee': 1, 'mechanicali': 1, 'possilb': 1, 'monito': 2, 'freqnent': 1, 'caraf': 1, 'progrerss': 1, 'epogen': 1, 'noectopi': 1, 'underwat': 1, 'gastroesophagectomi': 1, 'recommn': 1, 'hydropneumothorax': 3, 'vecuronium': 5, 'metab': 2, 'sytsem': 1, 'theradyn': 1, 'consutl': 1, 'subpulmonari': 1, 'fd': 1, 'drainin': 1, 'clonidin': 1, 'news': 5, 'caglucon': 1, 'incorrect': 2, 'endur': 2, 'dng': 3, 'fistul': 1, 'postprocedur': 1, 'suff': 1, 'mgsulfat': 2, 'pahco': 1, 'esophagogastrostomi': 1, 'amioderon': 5, 'patednt': 1, 'chck': 1, 'amen': 4, 'imipenem': 2, 'bldi': 4, 'fluib': 1, 'scalpel': 1, 'comnt': 1, 'gym': 1, 'esophogram': 1, 'pullthrough': 2, 'dt': 3, 'counsel': 3, 'transpos': 1, 'assst': 1, 'diluadid': 2, 'coun': 1, 'dilit': 2, 'icnreas': 1, 'systesm': 1, 'patentci': 2, 'feso': 1, 'reattach': 1, 'abt': 3, 'cark': 1, 'jtube': 3, 'bpsupport': 1, 'intrathor': 1, 'imipenim': 1, 'joul': 2, 'northern': 1, 'sson': 1, 'flucoazol': 1, 'decomens': 1, 'ectpoy': 1, 'quaniti': 1, 'autodiures': 5, 'foloow': 1, 'extravas': 2, 'lgt': 1, 'cultu': 1, 'north': 1, 'disregaurd': 1, 'pulsesd': 1, 'soflti': 1, 'pooli': 1, 'feoli': 1, 'cous': 1, 'plueravac': 1, 'soundsa': 1, 'lovefloxacin': 1, \"'boston\": 1, 'mechanicli': 1, 'pluera': 1, 'yanquer': 1, 'autodiur': 1, 'pen': 1, 'shotti': 1, 'anastomot': 1, 'yellw': 1, 'btf': 1, 'eager': 1, 'endoscopi': 8, 'membership': 1, 'neget': 1, 'osm': 2, 'withi': 1, 'scope': 6, 'autodiuresi': 3, 'clearl': 1, 'egg': 1, 'sucralf': 1, 'rhoncii': 2, 'prescrib': 5, 'imtermitt': 1, 'urbc': 1, 'pig': 2, 'stream': 1, 'solubl': 1, 'bibasilarri': 1, 'afcter': 1, 'pike': 2, 'vc': 1, 'mgnt': 1, 'threadi': 1, 'blank': 1, 'cg': 3, 'ele': 1, 'multidisiciplinari': 1, 'discoordiant': 1, 'smell': 3, 'hnh': 1, 'adenosen': 1, 'bactroban': 1, 'reolv': 1, 'oxacillin': 2, 'wavefrom': 1, 'regist': 3, 'positv': 2, 'hydrox': 1, 'coordin': 7, 'givent': 2, 'scoot': 1, 'lax': 1, 'radal': 1, 'nruse': 1, 'creptiu': 1, 'liber': 4, 'jepard': 1, 'fluctut': 1, 'orderd': 3, 'subcut': 1, 'bllod': 1, 'lacter': 1, 'fentantyl': 1, 'pxcr': 1, 'sanguini': 1, 'lasux': 1, 'untoward': 2, 'activti': 1, 'insulingtt': 1, 'eextrem': 1, 'airleak': 2, 'periodci': 1, 'inquiri': 2, 'omg': 1, 'trahc': 1, 'shot': 2, 'oncom': 1, 'cmg': 1, 'mainta': 3, 'seed': 2, 'bactoban': 1, 'exclus': 3, 'oo': 1, 'metabil': 1, 'acisosi': 1, 'toadi': 1, 'aluminum': 1, 'heater': 1, 'ceftazadim': 2, 'thorcoscopi': 1, 'thorascopi': 1, 'elastoplast': 1, 'crepidu': 1, 'waters': 5, 'behaviour': 1, 'ceftazidin': 1, 'sarna': 1, 'fluctutaion': 1, 'lotion': 3, 'amphogel': 1, 'sersang': 2, 'kink': 4, 'cw': 1, 'ant': 12, 'dvr': 1, 'slather': 1, 'biat': 1, 'wtih': 3, 'plcmt': 2, 'subcuta': 1, 'replt': 1, 'hyperphosphatemia': 1, 'tailor': 6, 'ahf': 1, 'obliqu': 7, 'peripheri': 6, 'jkpe': 2, 'calendar': 1, 'acquisit': 4, 'inspiss': 1, 'yankour': 1, 'softsorb': 3, 'pancol': 2, 'nonocclus': 3, 'wildli': 1, 'sphyncter': 1, 'pkt': 2, 'indent': 2, 'shin': 2, 'lose': 2, 'metal': 3, 'exor': 1, 'led': 9, 'anasarc': 4, 'subseq': 2, 'pastor': 6, 'tension': 3, 'anterosept': 10, 'rbreast': 1, '^psv': 1, 'randomli': 1, 'vac': 1, 'remainin': 1, 'pneum': 2, 'unilat': 10, 'superiorli': 3, 'dart': 1, 'brim': 2, 'tib': 1, 'pri': 1, 'retrial': 1, 'doesnot': 1, 'unattain': 1, 'nissen': 1, 'sofsorb': 1, 'intussuscipien': 1, 'aubil': 1, 'ausculat': 1, 'amoutn': 1, 'anterobasilar': 1, 'lumbosacr': 2, 'surprisingli': 1, 'pnuemo': 1, 'mvo': 3, 'duodenojejun': 1, 'ileum': 1, 'carin': 1, 'fundopl': 1, 'unobtain': 4, 'rami': 2, 'anterobas': 1, 'extern': 6, 'anxiolyt': 5, 'afebrilewbc': 1, 'tray': 2, 'obsess': 1, 'snow': 1, 'interspac': 2, 'moniot': 1, 'coax': 1, 'bronchoalveolar': 1, 'slighlti': 2, 'amberish': 1, 'soundli': 2, 'com': 2, 'desolv': 1, 'silhouet': 2, 'decreat': 1, 'insuluin': 1, 'extremli': 1, 'pti': 1, 'swabe': 1, 'depper': 1, 'approprietli': 1, 'chlorothiazid': 3, 'stylet': 2, 'perpheri': 2, 'cogniz': 1, 'essent': 3, 'coorel': 1, 'rf': 3, 'gaol': 3, 'afbril': 1, 'highest': 4, 'andwer': 1, 'nutramen': 1, 'neurlog': 1, 'compet': 3, 'loudli': 1, 'abswer': 1, 'ssic': 1, 'breathrough': 1, 'detrior': 2, 'epigloti': 1, 'susction': 1, 'app': 1, 'diali': 1, 'semierect': 1, 'mucousa': 1, 'daptomycin': 1, 'soik': 1, 'amint': 1, 'topic': 6, 'llp': 1, 'rth': 1, 'soar': 1, 'basalar': 1, 'bother': 2, 'lasiz': 1, 'larm': 1, 'nutramenren': 1, 'diuril': 5, 'lverf': 1, 'coccycx': 1, 'axieti': 1, 'directli': 5, 'hypoventil': 3, 'dimninsh': 1, 'fuo': 6, 'prpogress': 1, 'famotidin': 9, 'waffel': 1, 'lund': 1, 'arrythmmia': 1, 'triag': 1, 'hypoxcemia': 1, 'drep': 1, 'flair': 5, 'aabout': 1, 'periodd': 1, 'urgenc': 1, \"'sbp\": 1, 'iniit': 1, 'clincal': 1, 'biacodyl': 1, 'vsd': 6, 'tlyenol': 1, 'extrins': 3, 'inutb': 1, 'strictur': 1, 'faliur': 1, 'ateri': 1, 'thrive': 3, 'esophog': 1, 'currenlti': 3, 'anytim': 1, 'trumphet': 1, 'stonehedg': 1, 'ppo': 1, 'disicion': 1, 'swal': 1, 'diverticula': 3, 'laminectomi': 1, 'cfh': 1, 'millisecond': 3, 'specifc': 1, 'dimentia': 2, 'trazedon': 1, 'mimim': 1, 'evalut': 4, 'lpicc': 1, 'disimpact': 2, 'flexis': 8, 'troubleshoot': 1, 'ize': 1, 'sett': 1, 'trickl': 1, 'qlc': 1, 'movmement': 1, 'ballon': 2, 'inntub': 1, 'receivd': 1, 'stonger': 1, 'aggiat': 1, 'lrad': 2, 'addenum': 1, 'platueau': 1, 'antibiod': 3, 'morhin': 2, 'anticoag': 4, 'worri': 2, 'alkolot': 1, 'kayxel': 1, 'hemolysi': 8, 'postmortem': 1, 'ru': 2, 'rsv': 2, 'sludgi': 1, 'safey': 1, 'se': 1, 'ver': 2, 'prvc': 4, 'transpleur': 2, 'blow': 1, 'transpulmonari': 2, 'pseudoaneurysm': 1, 'mount': 1, 'finerstick': 1, 'nurisng': 1, 'criticaid': 3, 'laid': 2, 'undergon': 5, 'spous': 3, 'bw': 1, 'gluco': 1, 'vault': 2, 'blanch': 4, 'breifli': 1, 'hyperextens': 2, 'dashboard': 2, 'preferenti': 2, 'asymmetri': 3, 'nursin': 1, 'microangiopath': 1, 'cerebellum': 1, 'ghome': 1, 'pxdb': 2, 'sternoclavicular': 1, 'septat': 3, 'respres': 1, 'sesha': 2, 'predict': 4, 'condol': 2, 'trajectori': 2, 'wheelchair': 3, 'abm': 1, 'bi': 2, 'matalazon': 1, 'outpt': 5, 'persu': 1, 'ranitidin': 4, 'hypovolem': 9, 'xone': 1, 'mosd': 1, 'enterococcu': 4, 'bipaa': 1, 'nephrologist': 2, 'comfortbal': 2, 'hap': 24, 'mgt': 5, 'nephrolist': 1, 'rlq': 3, 'coreg': 1, 'atorvastatin': 8, 'showel': 1, 'metolazon': 1, 'aournd': 1, 'nephrotoxin': 4, 'infrahilar': 5, 'vano': 1, 'rip': 1, 'hypervolem': 2, 'carvedilol': 1, 'phoslo': 1, 'dinitr': 1, 'recd': 1, 'neuropathi': 5, 'aglc': 4, 'broadli': 7, 'scr': 1, 'acei': 3, 'uptitr': 7, 'sking': 1, 'calcitriol': 1, 'disucuss': 2, 'nmeb': 1, 'gpr': 4, 'hff': 1, 'hf': 4, 'infilter': 1, 'isosorbid': 1, 'improov': 1, 'ecal': 1, 'contd': 1, 'neurontin': 3, 'zozyn': 1, 'intract': 1, 'nitropast': 1, 'conest': 1, 'enterococci': 2, 'pnemonia': 2, 'neuron': 3, 'escherichia': 1, 'gmmgsulf': 2, 'opportun': 5, 'normochrom': 1, 'providenciaa': 1, 'cardiopulmomari': 1, 'yawn': 2, 'compli': 1, 'women': 1, 'mh': 2, 'harder': 2, 'ctl': 1, 'incapac': 1, 'providentia': 1, 'namenda': 2, 'grown': 4, 'medsl': 1, 'appreaci': 1, 'extuabt': 2, 'failiur': 1, 'suctioin': 1, 'cloud': 2, 'venilatori': 1, 'roomm': 1, 'decondit': 4, 'restrat': 1, 'todya': 1, 'coloni': 4, '|': 2, 'stun': 1, 'chornic': 2, 'fundament': 1, 'nitrofurantoin': 1, 'instal': 1, 'rquir': 1, 'scratch': 1, 'extrapulmonari': 1, 'wel': 1, 'comf': 1, 'stuartii': 1, 'babinski': 3, 'sulbactam': 2, 'hilu': 2, 'reassum': 1, 'amikacin': 2, 'colonscopi': 1, 'profil': 2, 'epith': 1, 'normocyt': 2, 'likelihood': 7, 'cefuroxim': 1, 'mdrd': 2, 'accid': 2, 'uet': 1, 'lasx': 1, 'tacypnea': 1, 'overwhelm': 4, 'ivdu': 1, 'fof': 1, 'cardiopulonari': 1, 'hypoprofus': 1, 'tca': 1, 'ncat': 5, 'neoplast': 1, 'trimethoprim': 2, 'wap': 1, 'continues': 1, 'biped': 1, 'medcial': 1, 'stuarti': 1, 'spars': 5, 'wwp': 4, 'communc': 1, 'iron': 6, 'thinner': 2, 'nimenda': 1, 'flacyl': 1, 'attract': 2, 'anteced': 2, 'mmd': 1, 'lansoprazol': 9, 'peumonia': 1, 'prodrom': 1, 'hoever': 1, 'neither': 4, 'mumur': 1, 'hypoglycemia': 3, 'forego': 1, 'sputm': 1, 'prov': 1, 'hyralazin': 1, 'sulfamethoxazol': 1, 'persistenli': 1, 'providencia': 2, 'offend': 2, 'settig': 1, 'rightward': 6, 'antibito': 2, 'drown': 1, 'restat': 1, 'uncompl': 6, 'normotherm': 4, 'impari': 2, 'sensorium': 1, 'donepezil': 2, 'lumpectomi': 2, 'unattend': 1, 'disuss': 1, 'scar': 5, 'pin': 1, 'orophyaryng': 1, 'hysterectomi': 2, 'egfr': 1, 'tachypneia': 1, 'identif': 2, 'furthur': 1, 'hospitalist': 1, 'amiikacin': 1, 'comatos': 2, 'osteoporosi': 8, 'chamg': 1, 'prokinet': 1, 'encephaolopathi': 1, 'cefazolin': 2, \"c'd\": 3, 'prevacid': 7, 'fresh': 4, 'lisw': 1, 'neuronton': 1, 'investig': 4, 'scab': 1, 'soound': 2, 'extrewm': 1, 'thoracolumbar': 3, 'diaper': 1, 'bang': 1, 'threrfor': 1, 'pinkish': 3, 'reestablish': 1, 'iso': 2, 'idiolog': 1, 'exagger': 8, 'perineaum': 1, 'admitt': 1, 'leision': 1, 'heploc': 1, 'intepret': 1, 'imcomprehens': 1, 'furrther': 1, 'constanli': 1, 'tomonitor': 1, 'rectrict': 1, 'flexas': 1, 'notat': 1, 'evalaut': 2, 'seccess': 1, 'kerlex': 3, 'applic': 10, 'sution': 2, 'coop': 1, 'implement': 3, 'atori': 1, 'rheab': 1, 'plastic': 2, 'respiraotri': 2, 'guidelin': 2, 'oitment': 1, 'fist': 1, 'prb': 1, 'debrid': 2, 'dbp': 1, 'dakin': 1, 'obses': 1, 'plactic': 1, 'flexi': 5, 'monrn': 1, 'thromboyctopenia': 1, 'challengin': 1, 'cant': 1, 'tcdb': 1, 'mycolyt': 3, 'hemodialyi': 1, 'scal': 1, 'iliostomi': 1, 'acetabula': 1, 'avfistula': 1, 'nonetheless': 2, 'sptum': 2, 'popup': 2, 'bblocker': 2, 'gdex': 2, 'givenn': 1, 'subtherapateut': 1, 'trea': 1, 'hepatolog': 4, 'assay': 5, 'kpo': 1, 'influeza': 1, 'itchi': 1, 'cvh': 1, 'citrar': 1, 'concer': 3, 'giv': 1, 'earliest': 2, 'meoprolol': 1, 'reactant': 1, 'equilibr': 1, 'convent': 3, 'webtag': 2, 'dex': 3, 'sequest': 1, 'blockad': 4, 'kac': 1, 'reiniti': 3, 'subratherapeut': 1, 'contractil': 11, 'postpon': 3, 'supportuv': 1, 'malfunct': 2, 'nasopharyng': 4, 'pot': 1, 'keepign': 1, 'dfa': 10, 'ova': 2, 'ptroy': 1, 'cef': 1, 'trabecul': 3, 'imrprov': 1, 'hemofilt': 1, 'naac': 1, 'lipid': 7, 'prime': 3, 'presoso': 1, 'cvhd': 2, 'pubi': 2, 'alp': 1, 'hepativ': 1, 'esld': 4, 'instablil': 1, 'cutlur': 1, 'chlorhex': 7, 'hypotes': 1, 'oxid': 4, 'pasp': 2, 'reload': 2, 'prognost': 2, 'clx': 3, 'ctrl': 1, 'hepatologist': 1, 'theray': 1, 'adult': 1, 'nitric': 4, 'circulatori': 2, 'conitinu': 2, 'quinolon': 5, 'synthet': 3, 'tamiflu': 3, 'multicyst': 1, 'pantop': 1, 'beneprotein': 5, 'atmospher': 1, 'unload': 2, 'poycyst': 1, 'neosynepherin': 1, 'setup': 3, 'dog': 1, 'toil': 1, 'haptoglobin': 2, 'dwell': 1, 'smyrnio': 1, 'imagin': 2, 'pretest': 1, 'esmolol': 2, 'alveoli': 1, 'incllud': 1, 'viru': 3, 'heartsound': 1, 'tachpnea': 3, 'strain': 13, 'special': 4, 'priorit': 1, 'inaud': 1, 'possibilti': 1, 'dz': 2, 'chanigng': 1, 'riins': 1, 'amidodaron': 1, 'enumer': 1, 'pulmonologist': 3, 'parasit': 2, 'ngtube': 2, 'thrombcytopenia': 1, 'femur': 2, 'napo': 3, 'hypokinetc': 1, 'didnt': 1, 'superinfect': 4, 'treatjment': 1, 'multiorgan': 4, 'mmghg': 1, 'nephrectomi': 1, 'hypokinet': 4, 'javascript': 2, 'reoslut': 1, 'preclud': 4, 'antiobiot': 1, 'overnighit': 1, 'ddx': 18, 'oseltamivir': 3, 'metop': 1, 'atroven': 1, 'hitt': 2, 'sequestr': 2, 'vasopress': 5, 'enalapril': 1, 'overhydr': 7, 'pkd': 1, 'campylobact': 1, 'polysyst': 1, 'divert': 1, 'interventricular': 1, 'ts': 7, 'hepatomegali': 2, 'stretcher': 6, 'abat': 1, 'dme': 5, 'rbbb': 5, 'egophani': 1, 'intercurr': 2, 'remeron': 3, 'medex': 3, 'aggrenox': 1, 'niacin': 2, 'weekli': 1, 'qpm': 1, 'zestril': 1, 'walker': 2, 'steak': 1, 'mediocr': 1, 'caltrat': 1, 'cautiou': 2, 'medicar': 5, 'dispens': 1, 'purs': 2, 'mvi': 7, 'qualifi': 1, 'qam': 1, 'fosamax': 1, 'patientcodein': 1, 'sensat': 3, 'clindamycin': 3, 'tw': 1, 'inprov': 1, 'medicaid': 6, 'exelon': 1, 'laculos': 1, 'tappabl': 1, 'prng': 1, 'semiform': 1, 'surgeon': 2, 'nondiagnost': 2, 'enquiri': 1, 'atvian': 1, 'feacal': 1, 'soduim': 1, 'pauciti': 5, 'callout': 2, 'emphat': 2, 'tachyarrhythmia': 1, 'litr': 2, 'latat': 1, 'mglopressor': 1, 'acsiti': 1, 'outand': 1, 'projectil': 1, 'vasotec': 1, 'tt': 1, 'neomycin': 1, 'levaph': 2, 'anf': 1, 'ijv': 1, 'chnage': 3, 'prpofol': 1, 'chew': 2, 'woke': 3, 'offf': 1, 'earili': 1, 'jelli': 3, 'duraton': 1, 'docus': 8, 'discern': 3, 'kaexyl': 1, 'dizzi': 2, 'cefriaxon': 1, 'instantli': 1, 'tachypen': 2, 'guaifenessin': 1, 'overloaad': 1, 'thoughout': 2, 'girl': 1, 'harpist': 1, 'breathlesn': 1, 'shifdt': 1, 'disempact': 2, 'preload': 3, 'milronon': 1, 'sleeper': 1, 'miscommun': 1, 'guaifenesina': 1, 'trembl': 1, 'bnon': 1, 'megnesium': 1, 'ninv': 1, 'diffult': 1, 'boardlin': 1, 'particul': 1, 'hang': 3, 'acidodi': 1, 'pitress': 1, 'vagal': 1, 'substanc': 3, 'prsent': 2, 'handicap': 1, 'ringer': 1, 'dmr': 1, 'vcarevu': 1, 'mainitan': 1, 'mutual': 2, 'gvdh': 1, 'rot': 1, 'firtst': 1, 'poli': 5, 'ivig': 2, 'lmw': 1, 'polymorphonuclear': 1, 'cantons': 1, 'immunoflouresc': 1, 'ventimask': 2, 'cex': 2, 'gj': 3, 'unsign': 1, 'jejunostomi': 2, 'capsofungin': 1, \"'central\": 1, 'laboratori': 2, 'infiltraet': 1, 'shevel': 1, 'rational': 1, 'jirovecii': 1, 'ritalyn': 1, 'seriel': 2, 'advic': 2, 'director': 3, 'wakeup': 3, 'accum': 1, 'former': 4, 'cocurr': 1, 'posaconasol': 1, 'tkcb': 1, 'rewrot': 1, 'byop': 1, 'preme': 2, 'alphabet': 1, 'traught': 1, 'hyperpig': 1, 'hydroxid': 1, 'indict': 2, 'fibros': 1, 'six': 6, 'igm': 1, 'proh': 1, 'hemodilut': 2, 'succes': 1, 'lanosprazol': 1, 'enoxaparin': 1, 'laden': 1, 'emesisx': 1, 'resusc': 1, 'blastomycosi': 1, 'tens': 3, 'hypopig': 1, 'premedicati': 1, 'mistakenli': 2, 'gotten': 1, 'woresen': 1, 'prochlorperazin': 2, 'cytopath': 2, 'leukocyt': 1, 'atelectai': 1, 'midazolan': 1, 'treament': 1, 'cxray': 7, 'attepmt': 1, 'cghd': 1, 'nauseat': 1, 'imp': 4, 'pneumopathi': 1, 'gleevec': 1, 'apneaic': 1, 'gleevac': 1, 'eleven': 1, 'triglycerid': 3, 'tfeed': 2, 'fast': 5, 'easilli': 1, 'conscious': 2, 'tac': 1, 'jirvovecii': 1, 'anem': 1, 'bacilli': 1, 'streaki': 2, 'gaa': 1, 'igg': 1, 'vl': 5, 'glevac': 1, 'bmp': 1, 'disconintu': 1, 'lorazepan': 1, 'antiemet': 1, 'serrou': 2, \"sbt'\": 1, 'cutan': 2, 'relationship': 5, 'merepenem': 1, 'adaquet': 1, 'deacreas': 1, 'rifampin': 1, 'aspergillosi': 1, 'uneventl': 1, 'al': 1, 'microorgan': 2, 'deciss': 1, 'indur': 2, 'tacrolimu': 2, 'emotionalsupport': 1, 'histoplasmosi': 1, 'tachyn': 1, 'allo': 1, 'cranial': 2, 'wwa': 1, 'methlprednisolon': 1, 'onf': 1, 'cero': 1, 'sct': 2, 'bcell': 1, 'book': 1, 'oxtcodon': 1, 'ppeg': 1, 'afraid': 1, 'inde': 6, 'unequivoc': 1, 'warrent': 2, 'apnvol': 2, 'disappoint': 1, 'vechan': 1, 'mucormycosi': 1, 'oversensit': 1, 'spfc': 1, 'nauseou': 2, 'bmx': 1, 'prepared': 1, 'benzodiazepin': 2, 'ritalin': 1, 'hypercapnea': 4, 'atovaquon': 1, 'encas': 1, 'ongolog': 1, 'lvl': 1, 'ppd': 2, 'obsruct': 1, 'longterm': 2, 'torestart': 1, 'lscta': 3, 'coccidioidomycosi': 1, 'vori': 2, 'patiient': 1, 'stt': 1, 'galactomannin': 1, 'djrx': 1, 'aroung': 1, 'predic': 1, 'mdd': 1, 'iga': 1, 'zydi': 2, 'targer': 1, 'ventialt': 2, 'allogen': 1, 'strictli': 1, 'maintainc': 1, 'pneumomathi': 1, 'gl': 2, 'signifig': 2, \"patient'\": 8, 'jrld': 2, 'raglan': 3, 'anisocoria': 2, 'becapus': 1, 'mgsulf': 1, 'rhinoviru': 1, 'panic': 1, 'chrinic': 1, 'sbna': 1, 'extr': 5, 'tacro': 1, 'apparatu': 1, 'jlb': 1, 'atalectat': 1, 'ceas': 3, 'meropemen': 1, 'lcpc': 4, 'tachyapn': 1, 'lighthead': 1, 'shaken': 1, 'boardelin': 1, 'dn': 2, 'atleast': 1, 'ngith': 1, 'absorp': 1, 'pendinh': 1, 'boarderlin': 1, 'riski': 1, 'refelect': 1, 'colloid': 1, 'hypoalbuminem': 2, 'alpha': 2, 'shockslowli': 1, 'anisarc': 2, 'utmost': 1, 'woiuld': 1, 'golyt': 1, 'nutrtion': 1, 'vasculit': 1, 'balnc': 1, 'ultrafilt': 1, 'microbi': 1, 'procss': 1, 'apprecait': 1, 'futher': 2, 'jonh': 1, 'eduat': 1, 'plateaud': 1, 'std': 1, 'alblumin': 1, 'hypoactivet': 1, 'norepit': 1, 'schistocyt': 3, 'log': 2, 'bladdder': 1, 'nondiarh': 1, 'disimpactiona': 1, 'abnl': 6, 'ishchemia': 1, 'disappear': 2, 'yestereday': 1, 'tpo': 1, 'meaningful': 1, 'convuls': 1, 'chuck': 1, 'miracl': 1, 'serious': 2, 'trainsient': 1, 'epilecticu': 1, 'neurogen': 2, 'seiz': 1, 'antiseizur': 2, 'abs': 1, 'yesteday': 1, 'supportso': 1, 'platu': 1, 'jmuch': 1, 'intravasularli': 1, 'dedic': 5, 'skill': 2, 'hypoalbuminemia': 1, 'antithyroglobulin': 1, 'vitmain': 1, 'reamin': 2, 'cyp': 1, 'interactionsd': 1, 'antbx': 2, 'hemodyalysi': 1, 'addiiton': 1, 'valproat': 1, 'opion': 2, 'liaison': 1, 'atni': 1, 'follo': 1, 'assymetri': 1, 'junctur': 1, 'intergti': 1, 'drench': 2, 'pentobarb': 1, 'posisbl': 1, 'caspo': 1, 'lytli': 1, 'join': 2, 'noter': 1, 'supratheraput': 1, 'norepinehrin': 1, 'mutlipl': 1, 'neurologist': 1, 'vpa': 1, 'golytli': 1, 'academ': 1, 'febun': 1, 'trransfer': 1, 'blown': 1, 'specialist': 3, 'unewu': 1, 'apporx': 1, 'stagbl': 1, 'antii': 1, 'pseudom': 1, 'illiu': 1, 'empoir': 1, 'apprec': 1, 'lactoslo': 1, 'method': 1, 'lk': 1, 'blockag': 1, \"cx'\": 1, 'ondepaken': 1, 'golyetli': 1, 'consdier': 1, 'addresss': 1, 'tubul': 1, 'danger': 2, 'pupillari': 4, 'thyroglobulin': 1, 'vgb': 1, 'complaict': 1, 'vasoact': 1, 'pentobarbitol': 1, 'lactualos': 1, 'antobx': 1, 'antix': 1, 'anisarca': 1, 'potneiti': 1, 'pento': 1, 'epilispi': 1, 'requiremetn': 1, 'acitivti': 1, 'pentobard': 1, 'expens': 2, 'epilecticiu': 1, 'hotlin': 1, 'extravascular': 1, 'abgiven': 1, 'dysfx': 1, 'delic': 1, 'multidrug': 2, 'flld': 1, 'esstenti': 1, 'encephalopthi': 1, 'qill': 1, 'beneprotien': 1, 'broach': 1, 'coma': 1, 'furtehr': 2, 'ug': 2, 'ture': 1, 'neuromyopathi': 2, 'benefici': 2, '^rd': 3, 'masess': 1, 'decompensatuion': 1, 'fololow': 1, 'mintu': 2, 'proptosi': 1, 'convuks': 1, 'myopathi': 6, 'intrvascular': 1, 'antipseudomon': 1, 'reachabl': 1, 'nm': 2, 'reauest': 1, 'groass': 1, 'phenotin': 1, 'hypert': 1, 'blasser': 1, 'untreat': 4, 'flucon': 1, 'lim': 1, 'offlin': 1, 'intensivist': 2, 'eosinophil': 3, 'antibacteri': 1, 'enceph': 3, 'encount': 1, 'signifi': 1, 'undertaken': 1, 'road': 2, 'oncal': 1, 'diarrheal': 1, 'satisfi': 1, 'chlorhexadin': 2, 'transamin': 8, 'yesast': 1, 'peroxidas': 1, 'keppra': 3, 'effusionsgiven': 1, 'mngt': 2, 'atatu': 1, 'leukocystosi': 1, 'artefact': 1, 'gate': 2, 'vlo': 1, 'abbrevi': 2, 'inoput': 1, 'experianc': 1, 'miralax': 2, 'protien': 1, 'tuypcial': 1, 'midwest': 1, 'ophtho': 2, 'golytley': 1, 'hyperthermia': 7, 'coff': 1, 'filur': 1, 'areflex': 2, 'folic': 2, 'doll': 2, 'chlorarhiazid': 1, 'chlorathiazid': 1, 'hydro': 5, 'revalu': 1, 'overhead': 1, 'uc': 3, 'vascul': 2, 'uln': 2, 'aacidosi': 1, 'ampho': 1, 'pathogen': 6, 'restar': 2, 'scane': 1, 'noripnephrin': 1, 'faili': 1, 'kpho': 4, 'tea': 1, 'heo': 1, 'pahs': 1, 'cirpo': 1, 'nutrtit': 1, 'irrat': 1, 'miniut': 1, 'thermal': 1, 'hasimoto': 1, 'cjd': 1, 'chux': 1, 'osmol': 1, 'depakot': 2, 'urem': 2, 'dissimpact': 1, 'contributng': 1, 'virul': 1, 'poorfor': 1, 'usd': 1, 'kepra': 1, 'voicemail': 1, 'comanow': 1, 'caspofugin': 1, 'geiven': 1, 'nureo': 1, 'dil': 1, 'polio': 1, 'additon': 3, 'leuk': 2, 'bitempor': 1, 'ctiric': 1, 'ddavp': 1, 'vascualit': 1, 'epilepsi': 1, 'meropenam': 3, 'imporv': 1, \"eo'\": 1, 'blame': 1, 'deminer': 2, 'sural': 1, 'acitv': 1, 'interven': 2, 'anticonvuls': 2, 'neur': 1, 'grd': 4, 'datbl': 1, 'hamper': 1, 'ddecreasd': 1, 'ldiures': 1, 'bumex': 1, 'synd': 1, 'emoir': 1, 'dysfunciton': 1, 'barb': 1, 'bibas': 5, 'interf': 2, 'sgar': 1, 'currenli': 1, 'norepinepherin': 1, 'thiamin': 1, 'snore': 1, 'dietarti': 1, 'reatrt': 1, 'infectionb': 1, 'wittnessin': 1, 'pentobarbit': 1, 'ncse': 1, 'sym': 2, 'anit': 1, 'psuedom': 1, 'reqeust': 1, 'optho': 2, 'aski': 1, 'epilepticu': 1, 'cruis': 1, 'psedomona': 1, 'hk': 1, 'nutrion': 1, 'seizuir': 1, 'statrt': 1, 'pplateau': 1, 'epilept': 1, 'recx': 1, 'accumil': 1, 'thryoid': 1, 'slim': 3, 'distrust': 2, 'coveragw': 1, 'pseudohypha': 2, 'infectoiu': 1, 'tomoorw': 1, 'intrvasc': 1, 'psuedomanl': 1, 'anitbx': 1, 'ev': 2, 'thromobocytopenia': 1, 'ferrou': 1, 'reinfect': 1, 'epidod': 1, 'faith': 2, 'miotic': 1, 'decrea': 2, 'spoutum': 1, 'hashimoto': 1, 'exempt': 1, 'criticad': 2, 'parapneumon': 3, 'psa': 3, 'depaken': 1, 'disabl': 2, 'hotlien': 1, 'coours': 1, 'mhg': 1, 'inid': 1, 'transmit': 5, 'ddrainag': 1, 'assement': 1, 'divorc': 1, 'epillepsi': 1, 'intermirtt': 1, 'pred': 2, 'oropharanyx': 1, 'hotn': 5, 'depsit': 1, 'supervisor': 1, 'peal': 1, 'montior': 3, 'amx': 1, 'venipunctur': 2, 'nonconvuls': 1, 'sensitivi': 1, 'fdp': 5, 'difficutl': 1, 'weill': 1, 'rtisk': 1, 'scvo': 2, 'antiepilept': 1, 'xpiv': 1, 'frequenti': 1, 'confid': 3, 'pyrexia': 7, 'valproeic': 1, 'intravasc': 1, 'transmin': 1, 'intrabdomin': 1, 'norequr': 1, 'cvlplace': 1, 'barbitol': 1, 'concner': 1, 'bac': 2, 'compart': 3, 'ite': 1, 'hypervolemia': 2, 'anasrc': 1, 'antiboiot': 1, 'coagulopatahi': 1, 'desmopressin': 2, 'paln': 1, 'mach': 1, 'unlcear': 1, 'inf': 2, 'sud': 2, 'pentobabr': 1, 'ltac': 2, 'epsod': 1, 'cefe': 1, 'anacarca': 1, 'desynchronis': 1, 'nebh': 1, 'emoit': 1, 'recvd': 3, 'discofortx': 1, 'fenta': 2, 'occsaion': 1, 'placewd': 1, 'benoprotein': 1, 'tyellow': 2, 'faintli': 2, 'recrtal': 1, 'assymetr': 4, 'fwb': 1, 'vesicular': 2, 'robust': 1, 'soup': 1, 'genral': 2, 'dimnish': 1, 'shrug': 1, 'acetylcystein': 2, 'cintinu': 1, 'dvers': 1, 'mlow': 1, 'jr': 3, 'subsquent': 1, 'titret': 1, 'comfortanbl': 1, 'compensatori': 3, 'unequel': 1, 'appropriatley': 2, 'diamox': 1, 'tod': 1, 'receiev': 2, 'slise': 1, 'remnant': 1, 'vigilio': 1, '^to': 2, 'supor': 1, 'occasionali': 1, 'femer': 1, 'hemastat': 1, 'finali': 1, 'nonexpand': 1, 'pntx': 2, 'trate': 1, 'propanolol': 1, 'fingerst': 1, 'repet': 2, 'warma': 1, 'occasioanlli': 1, 'broncho': 2, 'requierd': 1, 'tkr': 1, 'generaslis': 1, 'bronchhiectasi': 1, 'whhen': 1, 'sabp': 1, 'seadtion': 1, 'propronol': 1, 'lsix': 2, 'wuth': 1, 'methylprednison': 2, 'cardiomediastinum': 1, 'hyperchloremia': 2, 'nowel': 1, 'gprod': 1, 'torn': 1, 'yesterdauy': 1, 'andi': 1, 'withc': 1, 'spch': 1, 'smoke': 5, 'eff': 2, 'cleaniwth': 1, 'diffg': 1, 'differentail': 1, 'osteroarthr': 1, 'nosocomi': 3, 'rebolus': 2, 'chanhg': 1, 'mismatch': 3, 'urinb': 1, 'secondli': 1, 'overshoot': 1, 'discu': 2, 'isk': 1, 'spoon': 2, 'slighli': 1, 'cleanser': 4, 'fluentli': 1, 'arrhytmia': 1, 'effusiion': 1, 'elixir': 1, 'cogn': 1, 'esphog': 2, 'malnourish': 1, 'anorexia': 2, 'axillay': 1, 'ecymot': 1, 'noncontributori': 2, 'dimihs': 1, 'ftt': 1, 'leuckocytosi': 1, 'habit': 1, 'repositioniong': 1, 'hyperdyanam': 1, 'subglott': 3, 'finsh': 1, 'efect': 1, 'shoulf': 1, 'mprove': 1, 'assembl': 3, 'bipa': 1, 'transpor': 1, 'stori': 1, 'chlorex': 1, 'pollen': 1, 'lsb': 2, 'regret': 1, 'wrestl': 1, 'spuriou': 1, 'biv': 1, 'discusiion': 1, 'om': 2, 'pst': 1, 'valid': 3, 'hypophosphetemia': 1, 'varec': 1, 'minand': 1, 'giver': 1, 'hypomag': 1, 'aggatroban': 2, 'thrombocytopeni': 2, 'defens': 2, 'migth': 1, 'teach': 2, 'histor': 1, 'omperazol': 1, 'butnow': 1, 'curvej': 1, 'agratroban': 1, 'impli': 3, 'depelet': 1, 'caridiogen': 1, 'lef': 1, 'withsat': 1, 'overshadow': 1, 'csv': 2, 'uncl': 2, 'unnecessari': 1, 'unanim': 3, 'capabl': 1, 'nonessenti': 1, 'cvvvh': 1, 'atlern': 1, 'vasculartur': 1, 'cvc': 1, 'remors': 1, 'benifici': 1, 'tachycardica': 1, 'aka': 1, 'agatroban': 1, 'osteodystrophi': 1, 'turgor': 3, 'tighter': 1, 'overtir': 1, 'secretio': 1, 'levothryoxin': 1, 'guilt': 2, 'butn': 1, 'repe': 1, 'dysfxn': 2, 'channel': 4, 'anoint': 1, 'manor': 1, 'peridex': 4, 'amput': 1, 'learn': 5, 'straigt': 1, 'efficaci': 2, 'clholrhexidin': 1, 'forese': 1, 'outlook': 3, 'pall': 1, 'sevelem': 1, \"tx'ing\": 1, \"c'\": 1, 'cosyn': 1, 'ugib': 4, 'swithc': 1, 'cmrn': 1, 'lusb': 4, 'inhibit': 3, 'enteroccu': 2, 'placem': 2, 'tbb': 4, 'meta': 6, 'drak': 1, 'wfl': 2, 'respiridol': 1, 'hemiplegia': 1, 'venturi': 1, 'macu': 2, 'pyriform': 1, 'valpor': 1, 'diltaziem': 1, 'subglotti': 1, 'dtop': 1, 'velar': 1, 'shd': 1, 'aerob': 4, 'deliber': 1, 'moda': 1, 'hyperkeratosi': 1, 'risperidon': 1, 'aztronam': 1, 'psychotrop': 1, 'basex': 1, 'knew': 1, 'ambulatori': 2, 'resperidol': 1, 'ivfbolus': 1, 'retriev': 2, 'ammonia': 2, 'aztreo': 1, 'iah': 1, 'noteabl': 1, 'closur': 5, 'ctg': 1, 'subling': 1, 'rpe': 2, 'multipodi': 1, 'lgib': 1, 'viseo': 1, 'flaki': 1, 'explicit': 1, 'dysarthr': 1, 'risperd': 2, 'lye': 2, 'disintegr': 2, 'heavier': 2, 'videofluoroscopi': 1, 'mood': 1, 'subc': 1, 'metavisison': 1, 'hyperammonia': 1, 'dobbhoff': 4, 'bd': 2, 'nivpp': 1, 'vibrat': 1, 'bvm': 1, 'overwhelmingli': 1, 'inj': 1, 'pft': 3, 'vestibul': 1, 'bipolar': 1, 'rehabilit': 3, 'bll': 1, 'lob': 1, 'hcl': 8, 'hyperkeratot': 1, 'phtn': 5, 'downstair': 1, 'steam': 1, 'divalproex': 1, 'risperodol': 1, 'vallecula': 1, 'forc': 1, 'ili': 1, 'df': 1, 'andfailur': 1, 'risperadol': 1, 'eob': 1, 'repli': 1, 'incanthosi': 1, 'unforun': 1, 'anomia': 1, 'blac': 1, 'prosodi': 1, 'propuls': 1, 'asd': 10, 'readili': 5, 'videofluoroscop': 1, 'mt': 2, 'oveloar': 1, 'rosari': 1, 'ensym': 1, 'detetior': 1, 'masrk': 1, 'tcpc': 1, 'wot': 1, 'movemnet': 1, \"'ing\": 1, 'perreport': 1, 'duoserm': 1, 'admis': 1, 'notess': 1, 'transfererd': 1, 'famuli': 1, 'cape': 1, 'monitorign': 1, 'miuc': 1, 'mortuari': 1, 'diffucalti': 1, 'hemiblock': 1, 'allovesta': 1, 'lymphangit': 5, 'cryptococc': 3, 'accommod': 1, 'nephrosotomi': 1, 'nephrostomi': 2, 'hypersensit': 3, 'influenz': 1, 'mvt': 1, 'asdir': 3, 'flonas': 1, 'propion': 1, 'portocath': 1, 'significi': 1, 'radiotherapi': 2, 'debri': 2, 'meassur': 1, 'pathol': 1, 'reopen': 1, 'arrriv': 1, 'dyspen': 2, 'dxae': 3, 'serv': 1, 'imform': 1, 'interpr': 1, 'rac': 1, 'espophag': 1, 'dialudid': 1, 'nauseau': 2, 'adenoid': 1, 'grey': 2, 'tachpneic': 2, 'uncompens': 1, 'wheel': 2, 'desaturar': 1, 'rhino': 1, 'drssg': 1, 'portext': 1, 'hyporeflex': 1, 'puffi': 1, 'apnic': 2, 'repons': 4, 'stoolx': 1, 'theapi': 1, 'beacam': 1, 'wasnt': 1, 'apnoea': 1, 'hiatu': 1, 'phlebotomi': 2, 'sedateion': 1, 'reack': 1, 'suciton': 1, 'soial': 1, 'resistantci': 1, 'ambuu': 1, 'tachyponea': 1, 'neutran': 1, 'samll': 1, 'tonit': 2, 'hyptertens': 1, 'vertebroplasti': 2, 'suctuion': 1, 'hygein': 1, 'movemt': 1, 'hempdynam': 1, 'extem': 2, 'carbodopa': 1, 'dssd': 1, 'amb': 2, 'cog': 1, 'tachypoen': 1, 'xcept': 1, \"'re\": 1, 'preadmiss': 1, 'uncomfoprt': 1, 'aound': 1, 'drcreas': 1, 'meatou': 1, 'synchnou': 1, 'dippig': 1, 'vewntilatori': 1, 'convey': 2, 'quinci': 1, 'duriesi': 1, 'givenx': 1, 'locta': 1, 'inevit': 2, 'msse': 1, 'dysnchron': 2, 'dysynchrononi': 1, 'clotti': 1, \"today'\": 3, 'entertain': 1, 'resed': 1, 'molar': 1, 'socail': 2, 'remaisn': 2, 'devepol': 1, 'abund': 2, 'effor': 1, 'wdwing': 1, 'npln': 1, 'aggressivli': 1, 'ruquir': 1, 'reconven': 2, 'carevur': 1, 'breadown': 1, 'pancytopenia': 5, 'gastropathi': 1, 'presur': 1, 'upcom': 1, 'wan': 1, 'afebriel': 1, 'corner': 1, 'anarsarca': 1, 'assymmetr': 1, 'amonst': 1, 'bariair': 1, 'desync': 1, 'diurs': 1, 'crepiti': 2, 'perfrom': 1, 'apepar': 1, 'bradypn': 1, 'alogrhythm': 1, 'cephalosporin': 2, 'ampl': 2, 'gaze': 2, 'deuoderm': 1, 'crakl': 2, 'manipualt': 1, 'slug': 1, 'protector': 1, 'fede': 1, 'spotan': 1, 'hepatofug': 1, 'pneumatocel': 1, 'copuiou': 1, 'genelar': 1, 'counteract': 2, 'eaisli': 1, 'unti': 1, 'obv': 2, '^ing': 1, 'tranfus': 2, 'brsk': 1, 'autodiuris': 1, 'placedback': 1, 'appro': 1, 'fpound': 1, 'flaten': 1, 'broke': 3, 'fw': 1, 'certainti': 2, 'ampyema': 1, 'abreas': 1, 'unawar': 2, 'ratat': 1, 'speed': 1, 'dy': 1, 'dint': 1, 'asychron': 1, 'dminish': 1, 'imapir': 1, 'respos': 1, 'resur': 1, 'bowekl': 1, 'protoc': 1, 'luq': 3, 'anchor': 1, 'midodin': 1, 'stepfath': 1, 'vere': 1, 'panu': 1, 'mini': 3, 'finsih': 1, 'nostril': 2, 'mopder': 1, 'conor': 1, 'diminich': 1, 'uplt': 1, 'earl': 1, 'iliu': 1, 'electolyt': 1, 'sideport': 2, 'naloxen': 1, 'asper': 1, 'wdw': 1, 'incras': 1, 'griamc': 1, 'drk': 1, 'presntli': 1, 'zeroform': 1, 'nightim': 1, 'failer': 1, \"req'ng\": 1, 'tweezer': 1, 'liguid': 1, 'ommand': 1, 'regulari': 1, 'murtem': 1, 'xeroform': 2, 'flac': 1, 'anmt': 1, 'stbale': 1, 'admx': 1, 'disconjug': 2, 'hypercalcemia': 3, 'mutlip': 1, 'unalt': 3, 'pltlet': 1, 'sof': 1, 'diminsih': 1, 'specfic': 1, 'overnigt': 2, 'withdrw': 1, 'midday': 1, 'mush': 1, 'crepit': 1, 'presssur': 1, 'appx': 1, 'autorot': 1, 'aferil': 1, 'atriocav': 2, 'eythromycin': 1, 'peptic': 1, 'retropuls': 1, 'prozim': 1, 'substitut': 2, 'curl': 2, 'osteopen': 1, 'osteophyt': 5, 'femora': 2, 'negatiev': 1, 'faculti': 1, 'gbc': 1, 'hypercholesterolemia': 4, 'iwa': 1, 'macular': 2, 'proteinac': 1, 'fetal': 1, 'intertrochanter': 2, 'judgment': 1, 'dbc': 1, 'brachytherapi': 2, 'vdg': 1, 'requi': 1, 'improvemnt': 1, 'shorterm': 1, 'againt': 1, 'brth': 1, 'hippv': 1, 'heartbeat': 1, 'cheat': 1, 'rexpans': 1, 'famiyl': 1, 'earrl': 1, 'hat': 1, 'judici': 1, 'springwel': 1, 'contac': 1, 'necklac': 1, 'bracelet': 1, 'allyven': 1, 'elcetrolyt': 1, 'thoracenteci': 1, 'contacth': 1, 'bar': 1, 'proclaim': 1, 'lcsw': 3, 'initia': 1, 'weari': 1, 'interview': 1, 'cobnvers': 1, 'oin': 1, 'dostress': 1, 'subj': 1, 'vasculopath': 1, 'roughtli': 1, 'granul': 2, 'overdiuresi': 1, 'dmii': 1, 'patientno': 1, 'msk': 1, 'medrol': 3, 'span': 1, 'improvedto': 1, 'fulmin': 1, 'metforman': 1, 'sevic': 1, 'bedtim': 3, 'acetylcysitin': 1, 'nac': 2, 'robitussin': 1, 'terribl': 1, 'robutssin': 1, 'solu': 3, 'muscular': 2, 'guiafenesin': 1, 'metformin': 2, 'ream': 1, 'ecreas': 1, 'chiar': 1, 'hfm': 2, 'hum': 1, 'othr': 1, 'tessalon': 2, 'suspic': 1, 'breathless': 3, 'osa': 2, 'sane': 1, 'tenueou': 1, 'benzon': 1, 'ea': 1, 'recommemd': 1, 'dah': 2, 'sputa': 1, 'tessilon': 1, 'doc': 1, 'pegtub': 1, 'decadron': 2, 'facilitor': 1, 'gastrografin': 2, 'aswel': 1, 'bilatar': 1, 'nasopharyn': 1, 'ome': 4, 'fecul': 1, 'kyg': 2, 'mandarin': 1, 'afebil': 1, 'sarcoidosi': 1, 'atypo': 1, 'sarcoid': 1, 'ove': 1, 'shingl': 1, 'curremt': 1, 'mandibl': 1, 'detai': 1, 'mirtazapin': 1, 'heav': 1, 'progresssivli': 1, 'mdr': 1, 'friction': 3, 'palliativ': 1, 'peepm': 1, 'sarcodiosi': 1, 'pneumoni': 1, 'azothioprin': 1, 'xfere': 1, 'zoster': 2, 'achymosi': 1, 'downtitr': 1, 'prophi': 1, 'azathioprin': 1, 'psuedo': 1, 'purpura': 2, 'opxygen': 1, 'erectil': 1, \"cx'd\": 1, 'neuropath': 2, 'tomororw': 1, 'remaijhn': 1, 'ino': 2, 'lacta': 1, 'www': 1, 'encircl': 1, 'deposit': 4, 'stoneman': 1, 'acebutolol': 1, 'radiopac': 2, 'invad': 2, 'hypopho': 1, 'possiblil': 1, 'stemi': 2, 'lidoderm': 1, 'pamidron': 1, 'costodiaphragmat': 1, 'ami': 2, 'insepar': 2, 'toc': 1, 'pemetrex': 2, 'hypophosphatemia': 1, 'nsclca': 2, 'obstruuct': 1, 'reusm': 1, 'uanbl': 1, 'suprahilar': 3, 'goc': 4, 'loin': 1, 'givern': 1, 'cycsto': 1, 'scopalomin': 1, 'suprath': 1, 'hydroneph': 1, 'pleaural': 1, 'en': 2, \"adl'\": 1, 'interpretor': 1, 'pyeloneph': 1, 'lithotrypsi': 1, 'scopi': 1, 'pyelo': 1, 'respo': 1, 'antion': 1, 'pyelonephr': 2, 'perinephr': 3, 'disucss': 2, 'ubj': 1, 'pylenonephr': 1, 'hydrouret': 1, 'carecod': 1, 'periren': 1, 'septi': 1, 'ragrdu': 1, 'pyelonephrosi': 1, 'ptc': 1, 'hrc': 1, 'moieti': 1, 'cycstoscopi': 1, 'chosen': 1, 'fureth': 1, 'uvj': 1, 'thougn': 1, 'jkang': 1, 'erinephr': 1, 'sufggest': 1, 'maee': 1, 'emphysemat': 3, 'cefapim': 1, 'aleven': 1, 'airmattress': 1, 'progess': 1, 'clincial': 2, 'fluffi': 1, 'electrod': 2, 'margina': 1, 'possibilit': 1, 'biaxin': 1, 'sonn': 1, 'norepinephin': 1, 'thia': 1, 'horizont': 1, 'podu': 1, 'improvementin': 1, 'chr': 1, 'oxza': 1, 'disc': 4, 'degener': 2, 'effuss': 1, 'airless': 2, 'endplat': 1, 'corect': 1, 'esophagogastr': 5, 'colaps': 1, 'overlap': 2, 'lauretti': 1, 'hyperesthesia': 1, 'human': 1, 'pharmacodynam': 1, 'accomplish': 1, 'endogen': 1, 'biomark': 1, 'kinas': 1, 'excitatori': 1, 'raehal': 1, 'albeit': 3, 'monophosph': 1, 'intrigu': 1, 'amplifi': 1, 'rat': 1, 'camp': 1, 'reprint': 1, 'conflict': 1, 'terner': 1, 'methyl': 1, 'agonist': 3, 'amelior': 2, 'chindalor': 1, 'perist': 2, 'practic': 1, 'brainstem': 1, 'fwma': 1, 'repsiratori': 1, 'statist': 1, 'elsevi': 1, 'ivarsson': 1, 'hyperalges': 1, 'saeki': 1, 'plataeu': 1, 'duttaroy': 1, 'price': 1, 'recomend': 2, 'underscor': 1, 'proport': 5, 'molecular': 1, 'experiment': 1, 'adjuv': 1, 'periaqueduct': 1, 'excit': 2, 'glycol': 1, 'stoutz': 1, 'kappa': 1, 'phenomenon': 1, 'purport': 1, 'wherebi': 1, 'monomorph': 1, 'sander': 1, 'nmda': 1, 'centuri': 1, 'advantag': 1, 'cyclas': 1, 'glucagon': 1, 'amino': 1, 'theori': 1, 'affin': 1, 'amioduron': 1, 'ersek': 1, 'resensit': 1, 'vigano': 1, 'measuresbut': 1, 'dynorphin': 1, 'uniform': 1, 'commonli': 1, 'tefari': 1, 'deceid': 1, 'lotsch': 1, 'gene': 1, 'gif': 2, 'potenc': 1, 'schemat': 1, 'chavkin': 1, 'overtr': 1, 'pathway': 1, 'difuss': 1, 'religion': 1, 'urg': 1, 'torsad': 1, 'dourish': 1, 'cyclic': 1, 'nur': 1, 'aspart': 1, 'nonpain': 1, 'cck': 1, 'colorect': 1, 'introduct': 1, 'coin': 1, 'reducedcontinu': 1, 'mu': 1, 'unrel': 4, 'hydrocostison': 1, 'prefac': 1, 'explicitli': 2, 'facilitatori': 1, 'affer': 1, 'releas': 4, 'decad': 1, 'indicta': 1, 'maleat': 1, 'polyethylen': 1, 'principl': 1, 'psycholog': 1, 'terman': 1, 'dupen': 1, 'phd': 1, 'tumour': 2, 'rct': 1, 'elucid': 1, 'foll': 3, 'doverti': 1, 'proactiv': 1, 'levorphanol': 1, 'occer': 1, 'wider': 2, 'portenoy': 1, 'nonanalges': 1, 'arnp': 1, 'decreasedin': 1, 'circumv': 1, 'bockstael': 1, 'bubbl': 6, 'conceptu': 1, 'counterpart': 1, 'genet': 1, 'estfan': 1, 'encod': 1, 'medscap': 1, 'sjogren': 1, 'magnitud': 1, 'hinder': 1, 'rins': 1, 'antagonist': 1, 'neural': 1, 'emptiv': 1, 'concomit': 3, 'vanderah': 1, 'scienc': 1, 'deepen': 1, 'opioid': 2, 'bind': 1, 'cornerston': 1, 'endocytosi': 1, 'postul': 1, 'pal': 1, 'mulitifoc': 1, 'xd': 1, 'transcript': 2, 'adenylyl': 1, 'wak': 1, 'antinocicept': 1, 'ferguson': 1, 'naltrexon': 1, 'yoburn': 1, 'medulla': 1, 'cholecystokinin': 1, 'mediat': 1, 'pharmd': 1, 'modulatori': 1, 'simplest': 1, 'excent': 1, 'allodynia': 1, 'pharmaceut': 1, 'rostral': 1, 'maintian': 1, 'proglumid': 1, 'nondrug': 1, 'interindividu': 1, 'analges': 1, 'popul': 1, 'concurr': 9, 'acknowleg': 1, 'burden': 5, 'peptid': 1, 'yabaluri': 1, 'neurotransmitt': 1, 'nocicept': 1, 'hyperalgesia': 2, 'decoupl': 1, 'intracellular': 2, 'inturrisi': 1, 'permiss': 3, 'scientif': 1, 'asparagin': 1, 'mrg': 1, 'arrestin': 1, 'transmiss': 3, 'desensit': 1, 'urinalysi': 3, 'ventromedi': 1, 'premis': 1, 'recaptur': 1, 'govern': 1, 'pronocicept': 1, 'mao': 1, 'perturb': 1, 'subtyp': 1, 'sponr': 1, 'mk': 1, 'regulatori': 1, 'choos': 1, 'progresson': 1, 'gardel': 1, 'dextromethorphan': 2, 'promis': 1, 'model': 2, 'pathophysiolog': 1, 'compton': 1, 'unoccupi': 1, 'entiti': 2, 'cur': 1, 'anitibiot': 1, 'radion': 1, 'yaksh': 1, 'sum': 1, 'medzihradski': 1, 'hypothes': 1, 'glutam': 1, 'genotyp': 1, 'world': 1, 'phenomena': 1, 'pharmacokinet': 1, 'rvm': 1, 'whistler': 1, 'mainstay': 1, 'theoret': 1, 'pretreat': 1, 'mcclean': 1, 'viaogt': 1, 'preclin': 1, 'sedaton': 1, 'abstract': 1, 'celeri': 1, 'gpcr': 1, 'radonc': 1, 'spontaneu': 1, 'methodon': 1, 'neurosci': 1, 'importantli': 2, 'receptor': 1, 'angst': 1, 'tributari': 1, 'enbrel': 1, 'improp': 1, 'mtx': 1, 'wf': 1, 'ygd': 3, 'reas': 1, 'pralysi': 1, 'crypto': 2, 'vasodilit': 1, 'lysi': 2, 'coolin': 1, 'sacrement': 2, 'leukapheresi': 1, 'leukostasi': 1, 'xfusion': 2, 'athi': 1, 'pallor': 2, 'synthesi': 1, 'atraumat': 2, 'nearbi': 1, 'icteru': 4, 'oxgen': 2, 'tio': 1, 'witjh': 1, 'patella': 1, 'blast': 1, 'endotoxin': 1, 'drn': 1, 'pneumosepsi': 1, 'neuromusc': 2, 'uot': 1, 'matur': 1, 'rituximab': 1, 'crise': 1, 'malais': 3, 'crystalloid': 1, 'cul': 2, 'sterp': 1, 'cisatra': 1, 'granulocyt': 1, 'inand': 1, 'protuber': 1, 'lymphocyt': 1, 'aar': 1, 'encapsul': 1, 'dion': 1, 'sinsc': 1, 'pneumococcu': 1, 'elvat': 1, 'eomi': 6, 'anerob': 2, 'vasodil': 1, 'desper': 1, 'melena': 5, 'glianda': 1, 'ig': 2, 'redemonstr': 9, 'bullou': 2, 'interfissur': 1, 'substrat': 1, 'hird': 1, 'retrotrach': 1, 'perfect': 1, 'dyspnic': 1, 'levalbuterol': 1, 'cuurent': 1, 'bronchi': 5, 'brerath': 1, 'pheboltomist': 1, 'cefaclor': 1, 'echocardiogram': 2, 'xoponex': 1, 'xopenex': 1, 'reliv': 1, 'paitent': 1, 'choc': 1, 'makes': 1, 'onco': 1, 'signfici': 1, 'labour': 1, 'facili': 1, 'patint': 1, 'avial': 1, 'zoloft': 1, 'perinieum': 1, 'photodynam': 1, 'evloc': 1, 'birthday': 1, 'loopi': 1, 'chsnge': 1, 'opacit': 2, 'boost': 3, 'purus': 1, 'moxifloxicin': 1, 'ffm': 1, 'nsc': 1, 'regen': 1, 'ffv': 1, 'expl': 1, 'highflow': 1, 'effexor': 1, 'iiia': 1, 'phlebotomist': 1, 'reconnect': 2, 'imped': 1, 'intracav': 1, 'thumbprint': 1, 'minu': 2, 'panproctocolon': 1, 'jmgw': 5, 'merit': 2, 'pericolon': 1, 'hypocontractil': 2, 'ventriclr': 1, 'fece': 1, 'pancolon': 1, 'infraren': 2, 'trv': 1, 'schf': 1, 'cephalad': 1, 'septick': 1, 'shsf': 3, 'frpm': 1, 'morbid': 1, 'stabal': 1, 'impov': 1, 'taught': 1, 'lamotrigin': 1, 'tricycl': 1, 'lamict': 1, 'flexeril': 1, 'seventh': 2, 'exal': 1, 'blowout': 2, 'eighth': 1, 'thalessemia': 1, 'dysynchor': 1, 'dyssynchron': 3, 'ninth': 2, 'resuscti': 1, 'anasarcoid': 1, 'sqi': 2, 'haloperidol': 2, 'opiod': 1, 'hydrochlorid': 2, 'dubhoff': 1, 'hidden': 2, 'expuls': 1, 'evident': 1, 'fibromyalga': 1, 'vilego': 1, 'alkalemia': 2, 'esbl': 4, 'gn': 2, 'unparalyz': 1, 'uap': 1, 'tough': 2, 'opiat': 1, 'yestserday': 1, 'nmb': 1, 'pwder': 1, 'paracentesi': 3, 'lefort': 2, 'svv': 4, 'parac': 1, 'irrecover': 1, 'fbr': 2, 'maintin': 1, 'bleak': 1, 'simplex': 1, 'shrunken': 2, 'aiway': 1, 'metoclopramid': 1, 'blat': 1, 'herp': 1, 'dysynchoroni': 1, 'vzv': 1, 'para': 1, 'bizarr': 1, 'cisaturcurium': 1, 'scrape': 2, 'disten': 1, 'vicodin': 1, 'imipramin': 1, 'lactulous': 1, 'obstip': 5, 'pbw': 1, 'hyperoxygen': 1, 'wallthicken': 1, \"onc'\": 1, 'sklightli': 1, 'overdistend': 2, 'dubiou': 1, 'locu': 1, 'frlow': 1, 'siadh': 2, 'moitor': 1, 'guarante': 1, 'midu': 1, 'meropenujm': 1, 'broadend': 1, 'qdaili': 1, 'eschar': 1, 'charg': 1, 'angios': 2, 'aggatraban': 1, 'raa': 2, 'bicuspid': 1, 'ancef': 1, 'ecch': 1, 'valoplasti': 1, '^d': 1, 'valvulopplasti': 1, 'bidirect': 1, 'valvuloplati': 1, 'todat': 1, 'contr': 1, 'lepirudin': 1, 'honest': 1, 'offset': 1, 'sort': 2, 'meei': 1, 'pnuemoboot': 1, 'receheck': 1, 'wehich': 1, 'galactomanna': 1, 'dcing': 1, 'valvulopasti': 1, 'gastrograffin': 1, 'exbut': 2, 'eccentr': 4, 'alck': 1, 'domin': 1, 'ueni': 1, 'infectio': 1, 'jksd': 2, 'hardli': 1, 'respiratoti': 1, 'wbhc': 1, 'mepilex': 4, 'collagenas': 1, 'valvuplasti': 1, 'viatmain': 1, 'esr': 1, 'complexion': 1, 'serotonin': 1, 'quiliti': 1, 'sqaur': 1, 'rouhnd': 1, 'ttte': 1, 'overnig': 1, 'cardic': 1, 'multifactorisl': 1, 'preform': 3, 'donw': 1, 'achil': 1, 'failri': 1, 'reguir': 1, 'taccycardia': 1, 'pallid': 1, 'crp': 1, 'pare': 1, 'vo': 1, 'jointli': 1, 'ymosi': 1, 'dcub': 1, 'allpurinol': 1, 'cdif': 1, 'orderedl': 1, 'proced': 1, 'vacno': 1, 'inotrop': 1, 'collagenes': 1, 'petechai': 1, 'tilt': 1, 'viigileo': 1, 'scaral': 1, 'ltach': 1, 'svi': 1, 'taccypnea': 1, 'overnightl': 1, 'subq': 1, 'isosourc': 1, 'seenbi': 1, 'vigileo': 3, 'tempor': 5, 'laa': 2, 'regress': 3, 'argu': 2, 'valvoplasti': 1, 'wll': 1, 'adventiti': 1, 'transvalvular': 2, 'vancoymcin': 1, 'anca': 2, 'te': 1, 'unstag': 2, 'aovti': 1, 'vitk': 1, 'streamlin': 1, 'heprin': 3, 'backward': 1, 'ws': 1, 'overse': 1, 'wocrn': 1, 'awaitin': 1, 'vti': 1, 'gradiernt': 1, 'valvuloplasi': 1, 'hemohynam': 1, 'valvuloplasti': 1, 'euvolemia': 2, 'mepiplex': 1, 'jet': 4, 'coagulapathi': 1, 'necrotizin': 1, \"pt'\": 1, 'vasc': 1, 'yesterrday': 1, 'woudl': 1, 'acalcul': 1, 'dyne': 1, 'enzymat': 1, 'inasmuch': 1, 'becuaus': 1, 'reater': 1, 'occult': 3, 'lvsv': 1, 'ai': 2, 'neosinephrin': 1, 'hcfa': 2, 'radiu': 1, 'aand': 1, 'cholescyst': 1, 'fals': 1, 'cosign': 1, 'thermodilut': 1, 'empath': 1, 'antibid': 1, 'fwf': 1, 'imit': 1, 'aov': 1, 'fortun': 1, 'chole': 1, 'valvoplsti': 1, 'psurg': 1, 'unmet': 1, 'suctionion': 1, 'ne': 2, 'remodel': 2, 'certifi': 3, 'antbiot': 1, 'murmr': 1, 'stood': 1, 'wiill': 1, 'ducubitu': 1, 'setgment': 1, 'affili': 1, 'tularemia': 1, 'goultur': 1, 'systoic': 1, 'hypxoc': 1, 'diagonisi': 1, 'crept': 1, 'bellow': 1, 'dysmorph': 1, 'thoras': 1, 'entranc': 1, 'ischmia': 1, 'spin': 1, 'tn': 1, 'asperg': 1, 'sinsu': 1, 'remiss': 2, 'biter': 1, 'overrid': 1, 'pippracillin': 1, 'requri': 1, 'nine': 2, 'contnu': 1, 'neli': 1, 'electroly': 1, 'tuleremia': 1, 'malignaci': 1, 'grad': 1, 'hyperkalemi': 1, 'pulmoari': 1, 'decompen': 1, 'pii': 1, 'sss': 1, 'deactiv': 1, 'tum': 2, 'ple': 1, 'strongyloid': 1, 'poa': 2, 'vassopress': 1, 'org': 1, 'copious': 1, 'symetr': 1, 'ovebreath': 1, 'inflamatori': 2, 'diureisi': 1, 'spun': 1, 'steriod': 3, 'advac': 1, 'platea': 1, 'consensu': 1, 'gental': 1, 'therapeud': 1, 'hypxic': 1, 'galatomonan': 1, 'orpharyng': 1, 'pss': 2, 'methypr': 1, 'adeno': 1, 'pipracillin': 1, 'stongi': 1, 'jrci': 3, 'eosinphil': 1, 'histo': 1, 'tamsulosin': 1, 'instanc': 2, 'granular': 2, 'nont': 1, 'exr': 1, 'kangaroo': 1, 'skip': 1, 'fyi': 1, 'ducolax': 1, 'vw': 1, 'whrn': 1, 'kayexalt': 1, 'histoplasma': 1, 'culter': 1, 'pmhcad': 1, 'hevili': 1, 'strongiloid': 1, 'ige': 1, 'inetrv': 1, 'effici': 1, 'exterm': 2, 'dysrhythmia': 1, 'vr': 1, 'autoimmun': 1, 'bronhial': 1, 'crossmatch': 2, 'dietet': 3, 'hypoactic': 2, 'dysncron': 1, 'hapto': 1, 'deminsh': 1, 'tital': 1, 'neutrophil': 2, 'immun': 1, 'sosyn': 1, 'overdistent': 2, 'hormon': 1, 'overdistens': 1, 'hypocalcemia': 1, 'agglutin': 1, 'eosinophilia': 2, 'aspergillu': 1, 'linger': 1, 'aip': 1, 'subtherapuet': 1, 'easleir': 1, 'prostatectomi': 1, 'nephrolithiasi': 3, 'impercept': 1, 'anecho': 1, 'alongsid': 1, 'arthrodesi': 1, 'aftern': 1, 'cystoscop': 1, 'turp': 1, 'propoxyphen': 1, 'liek': 1, 'weel': 1, 'espiratori': 1, 'danazol': 1, 'wiil': 1, 'unpurpos': 1, 'uncertainti': 1, 'appi': 1, 'aberrantli': 1, 'pper': 1, 'denis': 1, 'cci': 1, 'instrins': 1, 'oxybutynin': 1, 'darvon': 1, 'amout': 1, 'warn': 1, 'glacuoma': 1, 'hish': 1, 'hyperplasia': 1, 'protract': 1, 'thrombopoetin': 1, 'fewminut': 1, 'patietn': 1, 'ste': 2, 'naficillin': 1, 'elyt': 1, 'nafcillin': 1, 'gastro': 1, 'xigri': 1, 'bicard': 1, 'pancx': 1, 'dobutaminin': 1, 'asrriv': 1, 'levoxyl': 1, 'tpp': 2, 'recdiev': 1, 'influzena': 1, 'neuromuscular': 5, 'awiat': 1, 'segemtn': 1, 'keton': 2, 'donutamn': 1, 'cistacurim': 1, 'initiait': 1, 'recew': 1, 'vegileo': 1, 'protnix': 1, 'leukopenia': 1, 'withdrawen': 1, 'scenario': 1, 'rhabdo': 1, 'esopog': 1, 'fl': 1, 'tendenc': 1, '^sed': 1, 'peesist': 1, 'estrang': 1, 'morph': 1, 'file': 2, 'reintroduct': 1, 'summon': 1, 'italian': 1, 'solutiuon': 1, 'incl': 4, 'ambival': 2, 'immin': 2, 'brbpr': 1, 'child': 2, 'finbrinogen': 1, 'reviv': 1, 'hopsit': 1, 'flor': 1, 'curretnli': 1, 'leveph': 1, 'vaspressin': 1, 'catastroph': 1, 'harsher': 1, 'lavtat': 1, 'varici': 1, 'octreotid': 3, 'denser': 2, 'bilaterl': 1, 'betweeen': 1, 'mdag': 2, 'fpr': 1, 'unilater': 4, 'comparis': 1, 'sfv': 1, 'mar': 2, 'queri': 4, 'mroe': 1, 'dvtpleas': 1, 'congreg': 1, 'withdrawan': 1, 'seemingli': 1, 'microorg': 2, 'tibc': 1, 'ferritin': 1, 'thyroxin': 1, 'compound': 2, 'airflow': 2, 'frail': 2, 'lactamas': 1, 'twi': 2, 'mural': 2, 'othervis': 2, 'denot': 1, 'ovrenight': 1, 'betablock': 2, 'hemoconcentr': 1, 'cardiophren': 2, 'costophr': 1, 'epicardi': 2, 'fract': 1, 'volumetr': 3, 'sternum': 2, 'tomographi': 2, 'kerley': 2, 'millimetr': 1, 'solitari': 1, 'omnipaqu': 4, 'infraclavicular': 1, 'mycobacteri': 1, 'unmodifi': 1, 'cavit': 3, 'longitudin': 1, 'unfold': 1, 'ventrcular': 1, 'cau': 1, 'cbd': 2, 'hyperthyroid': 1, 'spicul': 1, 'spondyl': 1, 'direction': 1, 'cavitari': 3, 'mildi': 2, 'hepatobiliari': 5, 'upj': 1, 'depict': 1, 'radioopac': 1, 'hemithorac': 5, 'syndesmophyt': 1, 'bulla': 2, 'sedond': 1, 'calic': 1, 'hypoechogen': 1, 'osteosclerot': 1, 'ankylos': 1, 'ligament': 1, 'locula': 1, 'ovarian': 1, 'omentum': 1, 'pleurodesi': 1, 'hyperostosi': 1, 'deriv': 2, 'sac': 2, 'department': 2, 'multisequ': 1, 'pneumothorac': 2, 'hyperintens': 1, 'talc': 1, 'brachiocepahl': 1, 'peron': 5, 'frontali': 1, 'jbre': 1, 'falx': 1, 'cerebri': 1, 'carcinomatosi': 1, 'supratentori': 1, 'pvt': 1, 'hyperecho': 4, 'distr': 2, 'pelviectasi': 1, 'interav': 1, 'anasara': 1, 'hyperlipindemia': 1, 'retrospect': 1, 'careplan': 2, 'cionsult': 1, 'cnsc': 1, 'myoneuropathi': 1, 'phlegmon': 1, 'prei': 1, 'erval': 1, 'comfor': 1, 'fascial': 1, 'ti': 1, 'nag': 1, 'tartrat': 3, 'jxkc': 2, 'spondylolysi': 1, 'myelopathi': 1, 'corynebacterium': 1, 'synapt': 1, 'excis': 1, 'moh': 1, 'proctectomi': 1, 'midbrain': 1, 'pedicl': 1, 'emg': 1, 'stump': 3, 'sensorimotor': 1, 'electrophysiolog': 1, 'doppleralb': 1, 'bill': 1, 'curbsid': 1, 'nj': 1, 'rssbi': 1, 'hypopnea': 1, 'klebseilla': 1, 'cleaner': 3, 'acr': 1, 'axon': 1, 'botul': 1, 'schatzki': 1, 'uncomfor': 1, 'supratherapeuticleukocytosi': 1, 'rhochour': 1, 'takeback': 1, 'retroperi': 1, 'hypotn': 1, 'oyt': 1, 'sticker': 1, 'pml': 1, 'atnf': 1, 'usg': 1, 'doss': 1, 'dess': 1, 'psoa': 1, 'extrathorac': 2, 'diphteheroid': 1, 'speci': 1, 'cnsd': 1, 'omit': 1, 'anterolisthesi': 1, 'hoars': 1, 'circ': 1, 'myopath': 1, 'schisto': 1, 'hemosiderin': 1, 'dace': 1, 'gpro': 1, 'vasculopathi': 1, 'llg': 1, 'arhb': 2, 'calciumacet': 1, 'nost': 1, 'myasthen': 1, 'cleanz': 1, 'prot': 2, 'volit': 1, 'gprotein': 1, 'ay': 1, 'axilari': 1, 'cololostomi': 1, 'cornebacterium': 1, 'retrolisthesi': 1, 'spp': 1, 'ldn': 1, 'extubatd': 1, 'student': 2, 'cvicu': 1, 'polyneuropathi': 1, 'hyperchlorem': 1, 'denerv': 1, 'conven': 1, 'pectu': 1, 'benzonat': 1, 'oversea': 1, 'opporun': 1, 'currenltli': 1, 'oragan': 1, 'suctionedx': 1, 'inactiv': 1, 'dirti': 2, 'zolpidem': 1, 'avnrt': 2, 'nondil': 1, 'nf': 1, 'desynchron': 3, 'ih': 2, 'soln': 1, 'wore': 1, 'purplish': 1, 'cosamin': 1, 'normoact': 2, 'sytem': 1, 'desyncron': 1, 'msiv': 2, 'ipd': 1, 'mucormyst': 1, 'ascertain': 1, 'omeprazol': 1, 'beard': 1, 'platpressur': 1, 'born': 1, 'painter': 1, 'dyschroni': 1, 'dysycron': 1, 'sandblast': 1, 'lmid': 1, 'excavatum': 1, 'spri': 1, 'reble': 1, 'ertapenem': 1, 'dysyncroni': 1, 'inact': 2, 'nu': 1, 'woren': 1, 'dissynchron': 2, 'conssit': 1, 'hyperextend': 1, 'extrapleur': 1, 'jiroveci': 1, 'pneuomedistinum': 1, 'obliter': 2, 'thoracostomi': 1, 'enya': 2, 'sidehol': 2, 'ind': 1, 'pneumothrax': 1, 'kaposi': 1, 'sarcoma': 1, 'pneu': 1, 'pjp': 1, 'barrotrauma': 2, 'immunoglobulin': 1, 'destat': 2, 'opciti': 1, 'cheek': 1, 'nystain': 1, 'retin': 1, 'fulfil': 1, 'subconjunctiv': 1, 'visciou': 1, 'parlyt': 1, 'oscil': 1, 'cisastacurium': 1, 'clorid': 1, 'dieresi': 1, 'biphas': 1, 'llast': 1, 'cist': 1, 'crazi': 1, 'homodynam': 1, 'chemosi': 1, 'familiy': 1, 'pnemo': 1, 'biater': 1, 'nimbex': 1, 'exce': 1, 'ecmo': 1, 'intuab': 1, 'buddist': 1, 'hyp': 1, 'paralys': 1, 'diazepam': 1, 'succeed': 1, 'inspit': 3, 'cisatracurim': 1, 'tradit': 1, 'inchang': 1, 'linazolid': 1, 'lactilub': 1, 'reinflat': 1, 'dfe': 1, 'nitrixoxid': 1, 'mgc': 1, 'opthalmolog': 1, 'standpoint': 3, 'tolar': 1, 'gvh': 1, 'valium': 2, 'anu': 1, 'opthamolog': 1, 'ladi': 2, 'nitrou': 1, 'chemiosi': 1, 'mycafungin': 1, 'cistastacurium': 1, 'consistentlli': 1, 'concur': 2, 'rotopron': 1, 'applli': 1, 'infx': 1, 'streptococc': 1, 'tfresidu': 1, 'xerofoam': 1, 'tve': 1, 'pie': 1, 'repron': 1, 'phi': 1, 'moth': 1, 'satt': 1, 'inflitr': 1, 'phigh': 1, 'subjunctiv': 1, 'thrombin': 1, 'serosangiun': 1, 'idea': 1, 'cistracurium': 1, 'templ': 1, 'reparalyz': 1, 'prome': 1, 'radiopaqu': 3, 'bactim': 1, 'fenatanyl': 1, 'likey': 1, 'rotapron': 1, 'bubl': 1, 'cisastracurium': 1, 'sanquin': 1, 'persis': 2, 'tdecreas': 1, 'flexicel': 1, 'south': 1, 'attributbl': 1, 'cistacurium': 1, 'erythem': 1, 'unchangedand': 1, 'opthal': 1, 'xfuse': 1, 'satsin': 1, 'conj': 1, 'gastriti': 1, 'plo': 1, 'bmtx': 1, 'rota': 1, 'dehydrogenas': 1, 'nitic': 1, 'treatabl': 1, 'troli': 1, 'aprreci': 1, 'anteromedi': 1, 'abscent': 1, 'exogen': 1, 'recit': 1, 'endpoint': 1, 'pretibi': 1, 'proprofol': 1, 'dyssynchroni': 2, 'bileou': 1, 'engulf': 1, 'continuelactilub': 1, 'deflat': 1, 'arvp': 1, 'pulmn': 1, 'ggancyclovir': 1, 'trale': 1, 'interestingli': 1, 'lamivudin': 1, 'milli': 1, 'psvlevel': 1, 'cisctracurium': 1, 'methados': 1, \"c'ing\": 1, 'cisaturcoruim': 1, 'voriconazol': 1, 'gancyclovir': 1, 'resudu': 1, 'occaission': 1, 'afrebril': 1, 'metolozon': 1, 'sildenafil': 1, 'pnuemothorax': 1, 'ou': 1, 'intervascularyli': 1, 'toleratedongo': 1, 'trali': 1, 'specialti': 1, 'plow': 1, 'outlet': 2, 'cystectomi': 1, 'pbec': 2, 'recom': 1, 'prove': 1, 'oment': 1, 'pbishop': 2, 'umbilicu': 1, 'kkgc': 3, 'pneumobilia': 2, 'idenitif': 1, 'divers': 1, 'ehab': 3, 'ercp': 3, 'urostomi': 1, 'conduit': 1, 'ileal': 1, 'accentu': 1, 'hydroureteronephrosi': 1, 'intrapulmonari': 1, 'noteworthi': 1, 'tasp': 1, 'sniff': 1, 'parvu': 1, 'aprenchym': 1, 'aji': 3, 'fasoli': 1, 'listeria': 1, 'ureter': 1, 'tardu': 1, 'retrograd': 1, 'malpost': 1, 'intracerebr': 1, 'meatal': 1, 'enteroccoc': 1, 'verg': 1, 'dna': 1, 'aspf': 1, 'discoveri': 2, 'plum': 1, 'mci': 1, 'maa': 1, 'radlin': 1, 'dtpa': 1, 'radiopharmaceut': 1, 'cessat': 1, 'baloon': 1, 'upsiz': 2, 'huddl': 2, 'internvet': 1, 'fingerbreadth': 1, 'venotomi': 2, 'pneumopericardium': 1, 'shorter': 1, 'unconsci': 1, 'caudal': 1, 'inadvert': 1, 'intab': 1, 'cnii': 1, 'xii': 1, 'stabiol': 1, 'aquir': 1, \"'lyte\": 1, 'silloutt': 1, 'scx': 1, 'blossom': 1, 'fouind': 1, 'wdwn': 1, 'thyromegali': 1, 'bode': 1, 'logic': 1, 'natg': 3, 'costal': 2, 'mjmgb': 3, 'diaphgram': 1, 'intubatedclin': 1, 'subpulmon': 1, 'chronicli': 1, 'effu': 1, 'rarefact': 1, 'atelectas': 2, 'radicl': 1, 'psuedomona': 1, 'intervertebr': 2, 'hemidiaphragmat': 1, \"trach'd\": 1, 'cholestat': 2, 'retroaort': 1, 'calculi': 1, 'distol': 1, 'bileaflet': 1, 'technologist': 1, 'thechang': 1, 'corticomedullari': 1, 'faiulr': 1, 'lltc': 1, 'habitu': 2, 'hemipelvi': 1, 'gmsj': 1, 'gsenapati': 2, 'mxak': 1, 'inlaw': 1, 'recordspercodan': 1, 'orthostat': 2, 'kleb': 1, 'klebsiella': 2, 'embarrass': 1, 'ivt': 1, 'bbl': 1, 'breakfast': 1, 'undercontrol': 1, 'nonvisu': 1, 'hypersentit': 1, 'metatstat': 1, 'benadryl': 2, 'eater': 1, 'autonom': 1, 'enterococc': 1, 'disgust': 1, 'chocol': 1, 'itp': 2, 'hp': 1, 'unasyn': 1, 'patientpercodan': 1, 'suprastom': 1, 'percodan': 1, 'hffm': 1, 'augmentin': 1, 'anger': 1, 'angri': 1, 'nsip': 2, 'mra': 2, 'hrct': 1, 'paremet': 1, 'riesman': 1, 'frapp': 1, 'calmli': 1, 'invalid': 2, 'usag': 1, 'entercocci': 1, 'kyphoplasti': 2, 'afew': 1, 'metoprol': 1, 'micron': 3, 'neglect': 1, 'rusb': 1, 'sjorgen': 1, 'salt': 1, 'pharygnx': 1, 'afrin': 1, 'pharygx': 1, 'gentler': 1, 'uncultur': 1, 'echhymosi': 1, 'oler': 1, 'banana': 1, 'cdb': 1, 'fuction': 1, 'scoop': 1, 'oer': 1, 'egop': 1, 'pansensit': 1, 'cour': 1, 'overfeed': 1, 'polypectomi': 1, 'western': 1, 'phargnx': 1, 'noseble': 1, 'orang': 1, 'toung': 1, 'safest': 1, 'wrinkl': 1, 'failu': 1, 'whish': 1, 'nasotrachi': 1, 'scca': 2, 'hypecarb': 1, 'adeuqu': 1, 'mie': 1, 'metprolol': 1, 'aspiraiton': 1, 'apporpri': 1, 'alkylosi': 1, 'rigth': 1, 'provd': 1, 'auditori': 1, 'incorrectli': 1, 'whitmil': 1, 'cetuximab': 2, 'toprol': 2, 'appox': 1, 'videoswallow': 1, 'flut': 1, 'alevyn': 1, 'xl': 1, 'driven': 3, 'scc': 1, 'unassist': 2, 'modestli': 1, 'etco': 1, 'factori': 1, 'cardiomedistin': 1, 'fee': 1, 'aorticopulmonari': 1, 'situationclip': 1, 'periprosthesi': 1, 'benazepril': 1, 'proteas': 1, 'actuat': 1, 'ec': 1, 'gastroenter': 1, 'laryngoscopi': 1, 'amiodoran': 1, 'trazodon': 1, 'capsul': 2, 'nasonex': 1, 'hematemesi': 1, 'hematemsi': 1, 'memantin': 1, 'chewabl': 1, 'minist': 1, 'olopatadin': 1, 'tolterodin': 2, 'ultras': 1, 'patanol': 1, 'ophthalm': 1, 'american': 1, \"'lcba\": 1, 'intuba': 1, 'rdw': 1, 'uricacd': 1, \"'lcbi\": 1, 'totbili': 1, 'erlotinib': 1, 'vinorelbin': 1, 'baso': 1, \"'lhbc\": 1, 'calhco': 1, 'ctropnt': 1, 'hypercholestolemia': 1, 'ostelamavir': 1, 'ingrowth': 1, 'pravastatin': 1, 'triglyc': 1, 'miscellan': 1, \"'lhbi\": 1, 'gender': 1, 'hdl': 1, \"'expand\": 1, 'intrepretor': 1, 'microscop': 2, 'gemcitabin': 1, 'alkpho': 1, 'renalep': 1, 'dipstick': 1, 'ld': 1, 'dirbili': 1, 'trig': 1, 'mch': 1, 'caltco': 1, 'mcv': 2, 'secretiion': 1, 'intercost': 3, 'totprot': 1, 'pituitari': 1, 'urean': 1, 'trans': 1, 'urobiln': 1, 'docetaxel': 1, 'isoenzym': 1, 'hba': 1, 'carboplatin': 1, 'intubat': 1, 'xs': 1, 'mchc': 1, 'cgi': 1, 'rohila': 1, 'cholest': 1, 'african': 1, 'ldlcalc': 1, 'cisplatin': 1, 'estgfr': 1, 'paclitaxel': 1, 'ldl': 1, 'angap': 1, 'globuln': 1, 'bilirub': 1, 'shaft': 1, 'symmetri': 1, 'adepqu': 1, 'callu': 1, 'convex': 2, 'uptak': 1, 'def': 1, 'magnum': 1, 'cortex': 2, 'skeleton': 1, 'calvari': 1, 'humeri': 1, 'myelomat': 1, 'survey': 1, 'rsrc': 1, 'adepquatel': 1, 'homogen': 1, 'occiput': 1, 'wing': 1, 'occipit': 1, 'postop': 2, 'preoper': 2, 'tumesc': 1, 'rulobectomi': 1, 'hydropneumothorac': 1, 'txfr': 1, 'noncardiogen': 1, 'bronchocentr': 1, 'akinet': 1, 'adynam': 1, 'patter': 1, 'intersept': 1, 'adenocarcinoma': 1, 'preexist': 1, 'lobular': 1, 'unenhanc': 1, 'densest': 1, 'artherosclerot': 1, 'findingsd': 1, 'descrb': 1, 'inctrabdomin': 1, 'lymphangiitc': 1, 'cylindr': 1, 'arthrosclerot': 1, 'aert': 1, 'inth': 1, 'blou': 1, 'biacrb': 1, 'infilitr': 1, 'fkuid': 1, 'penia': 1, 'hemodyanm': 1, 'ib': 1, 'adj': 1, 'uncommon': 1, 'eith': 1, 'azithromax': 1, 'unlad': 1, 'asmi': 1, 'arrythmogen': 1, 'conult': 1, 'contritubt': 1, 'coagulopath': 1, 'counsult': 1, 'vtac': 1, 'gwp': 2, 'decras': 1, 'mantia': 1, 'asterixi': 2, 'threshod': 1, 'eco': 1, 'scopalimin': 1, 'thrombocyto': 1, 'overestim': 1, 'cub': 1, 'loadind': 1, 'tachyacria': 1, 'burgundi': 1, 'actiuv': 1, 'heptaolog': 1, 'psuh': 1, 'milder': 1, 'friabl': 1, 'debril': 1, 'hpeatolog': 1, 'dobutmain': 1, 'bivent': 1, 'hcc': 2, 'inotrpi': 1, 'agion': 1, 'haematuria': 1, 'anmd': 1, 'cale': 1, 'patellar': 2, 'gwlm': 1, 'tachicard': 1, 'resond': 1, 'bicep': 2, 'despiti': 1, 'perocardium': 1, 'chirrhosi': 1, 'hu': 1, 'veal': 1, 'leart': 1, 'plced': 1, 'pleurisi': 1, 'afig': 1, 'intrtstitium': 1, 'rfa': 1, 'ifn': 1, 'childbirth': 1, 'followng': 1, 'mailto': 1, 'hepato': 2, 'planof': 1, 'cardriovers': 1, 'epidur': 1, 'flux': 1, 'particl': 2, 'laptop': 1, 'fantanyl': 1, 'lexipro': 1, 'intervenet': 1, 'reattampt': 1, 'vie': 1, 'benedryl': 1, 'behe': 1, 'palpatori': 2, 'engin': 1, 'shitft': 1, 'supersel': 1, 'argon': 1, 'defend': 1, 'wqent': 1, 'metasta': 1, 'ecopi': 1, 'notiif': 1, 'hemopysi': 1, 'requrin': 1, 'discount': 1, 'rhonchj': 1, 'guafenisen': 1, 'ba': 1, 'paient': 1, 'tragic': 1, 'blush': 2, 'bleeder': 1, 'grate': 1, 'squeak': 1, 'older': 1, 'argonn': 1, 'reinstutu': 1, 'deploy': 1, 'fbca': 2, 'embospher': 2, 'fami': 1, 'ly': 1, 'nest': 1, 'embo': 2, 'hosptil': 1, 'microcathet': 1, 'cauter': 1, 'bandaid': 1, 'cauteri': 1, 'scapolamin': 1, 'sel': 1, 'viser': 1, 'comfot': 1, 'intrathec': 1, 'couter': 1, 'backup': 1, 'hctthi': 1, 'angiogram': 1, 'duculox': 1, 'arteriogram': 2, 'prnbolus': 1, 'myocardium': 1, 'mammari': 1, 'omniflush': 1, 'aortogram': 1, 'hyperexpand': 1, 'renegad': 1, 'hemopytsi': 1, 'super': 2, 'trancathet': 1, 'stc': 1, 'cannul': 1, 'cervicocerbr': 1, 'apicoposterior': 1, 'hyperexpans': 1, 'congestiona': 1, 'sjbj': 1, 'schizoaffect': 1, 'semiupright': 1, 'dlp': 2, 'infero': 1, 'collom': 1, 'gynecomastia': 1, 'mgi': 2, 'vetil': 1, 'noncompress': 1, 'tonsillectomi': 1, 'trichrom': 1, 'vareci': 1, 'antitrypsin': 1, 'chylou': 1, 'cryo': 1, 'dophoff': 1, 'hemachromatosi': 1, 'text': 1, 'multiphas': 1, 'vicryl': 2, 'nasointestin': 1, 'birth': 2, 'mononuclear': 1, 'girth': 1, 'sinusoid': 1, 'ssuspect': 1, 'hepatocyt': 1, 'perisept': 1, 'emant': 1, 'colonoscopi': 1, 'pnumothorax': 1, 'pneomothorax': 1, 'avm': 3, 'octeotrid': 1, 'chylothorax': 1, 'heterozyg': 1, 'endarterectomi': 1, 'eg': 1, 'cirhhosi': 1, 'anesthet': 2, 'chgc': 2, 'hfe': 1, 'avalu': 1, 'cirrhot': 1, 'cryptogen': 1, 'periodclip': 1, 'cha': 1, 'arterioven': 1, 'pd': 2, 'peelaway': 1, 'apoptot': 1, 'precip': 1, 'malform': 1, 'steatosi': 1, 'mlkb': 3, 'exch': 2, 'angiodynam': 2, 'creatnin': 1, 'mitrial': 1, 'pivot': 1, 'sputem': 1, 'ergotamin': 1, 'arenon': 1, 'parapneumonia': 1, 'losartan': 1, 'cae': 1, 'flet': 1, 'donepzil': 1, 'rheumat': 1, 'lateri': 1, 'mangement': 1, 'coronoari': 1, 'suppliment': 1, 'paxil': 1, 'dteremin': 1, 'sydrom': 1, 'simvastain': 1, 'infction': 1, 'prusu': 1, 'lllinfiltr': 1, 'paroxetin': 1, 'disas': 1, \"lft'\": 1, 'premier': 1, 'asymmet': 1, 'hemi': 2, 'depr': 1, 'alten': 1, 'humidif': 1, 'vaco': 1, 'biotic': 1, 'intfiltr': 1, 'unstaedi': 1, 'calv': 2, 'refrain': 1, 'medoic': 1, 'excres': 1, 'medialstin': 1, 'oncot': 1, 'ureathr': 1, 'recordsno': 1, 'invok': 1, 'sugget': 1, 'thirst': 1, 'mediatin': 1, 'nicat': 1, 'halv': 1, 'crestor': 1, 'effis': 1, 'hc': 1, 'vasodilatori': 1, 'insent': 1, 'tachcardia': 1, 'financ': 1, 'artifactu': 2, 'filament': 1, 'grandaught': 1, 'meanin': 1, 'paint': 1, 'ntnd': 2, 'dispar': 1, 'intersiti': 3, 'centru': 1, 'deduct': 2, 'maalox': 1, 'dysarthria': 1, 'conern': 1, 'tng': 1, 'promiment': 1, 'nonerythemat': 1, 'lambl': 1, 'angina': 1, 'wander': 1, 'succinyulcholin': 1, 'wheezez': 1, 'shore': 1, 'enifit': 1, 'trachestomi': 1, 'larazepam': 1, 'negoti': 1, 'periaort': 1, 'mate': 1, 'frog': 1, 'pelvocalic': 1, 'thoroughli': 1, 'evlaut': 1, 'upr': 1, 'trak': 1, 'hemoperitoneum': 1, 'calculu': 1, 'cjmt': 1, 'vancopmycin': 1, 'meastat': 1, 'paramediastin': 1, 'gmpd': 1, 'kump': 1, 'compars': 1, 'pleae': 1, 'peristals': 1, 'consciou': 1, 'myocytoma': 1, 'trapezoid': 1, 'mycetoma': 1, 'ununit': 1, 'mac': 2, 'undiagnos': 1, 'mycobacterium': 1, 'wretch': 1, 'isusu': 1, 'miacalcin': 1, 'acuiti': 1, 'intot': 1, 'nep': 1, 'polydipsia': 1, 'undecid': 1, 'lightheaded': 1, 'avium': 1, 'salmon': 1, 'nephrot': 1, 'satisfact': 1, 'welcom': 1, 'precedex': 1, 'fati': 1, 'besyl': 1, 'dexmedetomidin': 1, 'nifedipin': 1, 'calcitonin': 1, 'pda': 2, 'spondylosi': 1, 'bronchopleur': 2, 'solmederol': 1, 'disinclin': 1, 'dehis': 1, 'bronchopneumonectomi': 1, 'cortosol': 1, 'exel': 1, 'fluild': 1, 'amidaron': 1, 'reasaon': 1, 'rough': 1, 'admidaton': 1, 'azythro': 1, \"leni'\": 1, 'detal': 1, 'driver': 1, 'stabilil': 1, 'pnenmonectomi': 1, 'bronchopulmonari': 1, 'squameou': 1, 'hyperpotassemia': 1, 'coll': 1, 'minimz': 1, 'amiodarin': 1, 'uni': 1, 'spectral': 1, 'repiatori': 1, 'arom': 1, 'mmt': 1, 'thereof': 1, 'yoga': 1, 'subglottal': 1, 'depenc': 1, 'maintiain': 1, 'dermat': 1, 'pege': 1, 'reclarifi': 1, 'dhghfhdlhkl': 1, 'loudest': 1, 'gtibe': 1, 'ascrib': 1, 'vvia': 1, 'closelyt': 1, 'ers': 1, 'axtreonam': 1, 'memeb': 1, 'ywca': 1, 'clinical': 1, 'emphasi': 1, 'resussit': 1, 'acidosisi': 1, 'derang': 1, 'locomot': 1, 'faclid': 1, 'tingu': 1, 'althoug': 1, 'uncomfortbal': 1, 'roadtrip': 1, 'secrit': 1, 'intersti': 2, 'solumedtrol': 1, 'updatefamili': 1, 'reticularnodular': 1, 'hemodyanam': 1, 'rsvi': 1, 'aztreonum': 1, 'currentt': 1, 'cea': 2, 'presenti': 1, 'lmn': 1, 'indefinit': 1, \"family'\": 1, 'conisd': 1, 'pite': 1, 'aarom': 1, 'xcray': 1, 'ventiat': 1, 'hypertent': 1, 'desaturateion': 1, 'respriatori': 1, 'defintit': 1, 'arranag': 1, 'unspeci': 1, 'mimic': 2, 'tommorow': 1, 'neet': 1, 'exac': 1, 'reconfirm': 1, 'cxc': 1, 'simultaen': 1, 'monitorec': 1, 'sedret': 1, 'mmdri': 1, 'performac': 1, 'mute': 1, 'midax': 1, 'tachynpea': 1, 'tyloenol': 1, 'extract': 2, 'enitr': 1, 'lactalos': 1, 'prom': 1, 'anaphylaxi': 1, 'tremiti': 1, 'unrespos': 1, 'hypoton': 1, 'disintigr': 1, 'atrio': 2, 'hemoptisi': 1, 'tbm': 1, 'fev': 1, 'juxtahilar': 1, 'revealedt': 1, 'thalassemia': 1, 'tropi': 1, 'mutlifoc': 1, 'donepizil': 1, 'airborn': 2, 'thallasemia': 1, 'ctr': 2, 'unrepons': 1, 'calvaria': 1, 'ileocec': 1, 'alkalos': 1, 'tuberculosi': 2, 'nari': 1, 'stom': 1, 'dental': 1, 'pector': 2, 'radio': 1, 'gunshot': 1, 'crown': 1, 'opaqu': 1, 'thrussh': 1, 'antidot': 1, 'tendon': 1, 'liekli': 1, 'downtrend': 1, 'resorpt': 1, 'cafeteria': 1, 'hospis': 1, 'pmb': 1, 'brachioradiali': 1, 'steadal': 1, 'magnesia': 1, 'aspiratin': 1, 'uppper': 1, 'antacid': 1, 'pigment': 1, 'dti': 1, 'grape': 1, 'iddm': 1, 'protamin': 1, 'baslin': 1, 'reaccess': 1, 'cart': 1, 'pyridostigmin': 1, 'pulsat': 1, \"alzheimer'\": 1, 'myasthenia': 1, 'novolin': 1, 'comtinu': 1, 'zyosyn': 1, 'respodn': 1, 'blancheabl': 1, 'gangren': 1, 'presistantli': 1, 'peumothorax': 1, 'pneumotharax': 1, 'subcutaen': 1, 'hyperemia': 1, 'reidentifi': 1, 'conceiv': 1, 'proc': 1, 'pw': 1, 'slice': 1, 'nmka': 1, 'rjab': 1, 'interlobular': 1, 'smooth': 1, 'subseg': 1, 'cervicothorac': 1, 'circular': 1, 'arter': 1, 'targetoid': 1, 'rahni': 1, 'atrioventricular': 1, 'diag': 1, 'scalp': 1, 'perpher': 1, 'likel': 1, 'cryptococcosi': 1, 'cryptococcu': 1, 'streptococcu': 1, 'tel': 1, 'suprasellar': 1, 'respirophas': 1, 'tdi': 1, 'arthralgia': 1, 'subactu': 1, 'nob': 1, 'irrhythm': 1, 'donor': 2, 'dissoci': 1, 'mbi': 1, 'midazalam': 1, 'grant': 1, 'pulmnonari': 1, 'arrthym': 1, 'tomak': 1, 'sugggest': 1, 'twelv': 1, 'andcvc': 1, 'maximin': 1, 'abdomn': 1, 'thickedn': 1, 'ventilaiton': 1, 'fibriogen': 1, 'emv': 1, 'dollar': 1, 'ndg': 1, 'corticosteroid': 1, 'choledocolithiasi': 1, 'inter': 1, 'leve': 1, 'chrnic': 1, 'friabil': 1, 'frompt': 1, 'kitchen': 1, 'mivf': 1, 'sphincterotomi': 1, 'friablilti': 1, '$': 1, 'scrap': 1, 'afp': 1, 'settign': 1, 'bmv': 1, 'prodiv': 1, 'mtb': 1, 'echymos': 1, 'rhoncrou': 1, 'myelosuppress': 1, 'macer': 1, 'muscos': 1, 'critaid': 1, 'lover': 1, 'transpulmon': 1, 'trimetoprim': 1, 'intrpulmonari': 1, 'burn': 1, 'splenomeg': 1, 'pcr': 1, 'hme': 1, 'sulfameth': 1, 'lowerin': 1, 'goutm': 1, 'arteriographi': 1, 'underwhelm': 1, 'gadolinium': 1, 'aphac': 1, 'sdh': 1, 'tall': 1, 'prozac': 1, 'salvag': 1, 'atheromat': 1, 'usus': 1, 'cce': 1, 'npne': 1, 'dimension': 1, 'paresi': 1, 'llb': 1, 'mwf': 1, 'unclot': 1, 'wellbutrin': 1, 'sah': 1, 'flight': 1, 'hydromorphon': 1, 'panc': 1, 'fuel': 1, 'gastroparesi': 1, 'pmeumonia': 1, 'umb': 1, 'colicki': 1, 'patientpenicillin': 1, 'worsten': 1, 'gemzar': 1, 'macrolid': 1, 'cyberknif': 1, 'inn': 1, 'failuir': 1, 'dalilah': 1, 'rhonchu': 1, 'lypmhangit': 1, 'perspect': 1, 'guaifenisin': 1, 'mucinex': 1, 'bedsidepronounc': 1, 'im': 1, 'bedisd': 1, 'summar': 1, 'sicua': 1, 'spb': 1}, 'pneumonia_alive': {'global': 176, 'renal': 372, 'harrt': 2, 'arteri': 625, 'oob': 352, 'variant': 37, 'ambien': 41, 'onc': 306, 'mac': 12, 'lack': 97, 'sob': 532, 'focus': 50, '>': 710, 'osseou': 210, 'p': 844, 'c': 778, 'histori': 810, 'imag': 721, 'color': 475, '[': 430, 'gait': 73, 'tmax': 459, 'septic': 100, 'attenu': 67, 'sound': 587, 'st': 515, 'micu': 575, 'puls': 532, 'festiv': 1, 'desensit': 3, 'br': 22, 'foley': 541, 'nsg': 167, 'coliti': 50, 'stool': 632, 'administr': 243, 'also': 734, 'monitor': 688, 'stabl': 791, 'mildli': 409, 'pleas': 669, 'infecti': 232, 'echocardiograph': 98, 'request': 267, 'cxr': 545, 'sclerot': 105, 'lytic': 133, 'mother': 102, 'good': 567, 'without': 687, 'old': 918, 'leak': 165, 'reaction': 314, 'comparison': 767, 'cardiomyopathi': 41, 'liquid': 342, 'patent': 424, 'effect': 461, 'exclud': 382, 'anoth': 175, 'adequ': 525, '(': 1005, 'delay': 162, 'limit': 539, 'neuro': 569, 'ct': 617, 'structur': 370, 'alert': 514, 'appl': 39, 'cv': 669, 'white': 329, 'progress': 612, 'chair': 325, 'remain': 738, 'anterior': 345, 'moder': 648, 'around': 300, 'transfer': 630, 'cardiomegali': 256, 'diagnosi': 851, 'tv': 157, 'neg': 494, 'output': 334, 'sleep': 398, 'spec': 121, 'pr': 204, 'ls': 460, 'interpret': 326, 'symphysi': 46, 'statu': 861, 'yr': 153, 'caviti': 320, 'frothi': 41, 'ever': 9, 'myocardi': 168, 'event': 483, 'stay': 197, 'le': 183, 'bp': 760, 'typhliti': 3, 'liver': 260, 'overnight': 490, 'daughter': 231, 'abd': 599, 'pass': 292, 'pulmon': 188, 'reason': 873, 'predominantli': 96, 'mm': 558, 'side': 609, 'rel': 184, 'port': 348, 'hg': 305, 'wors': 177, 'breath': 645, 'prespar': 2, 'cours': 437, 'techniqu': 515, 'enlarg': 430, 'soft': 703, 'tamponad': 47, 'mdct': 152, 'last': 583, 'allow': 210, 'bpm': 529, 'abnorm': 515, 'kidney': 248, 'may': 654, 'caridomyopathi': 1, 'hsv': 16, 'lv': 245, 'w': 820, 'place': 726, 'follow': 720, 'balanc': 401, 'possibl': 682, 'pain': 680, 'process': 392, 'code': 583, 'sampl': 146, 'initi': 447, 'bsa': 236, 'show': 508, 'base': 779, 'back': 537, 'one': 486, 'ill': 271, 'protocol': 188, 'tendon': 13, 'commod': 94, 'circumferenti': 23, 'thi': 1024, 'uo': 226, 'ha': 906, 'singl': 426, 'bladder': 172, 'compar': 793, 'defin': 95, 'wave': 411, 'today': 664, 'eve': 109, 'woman': 385, 'date': 670, 'hungri': 35, 'start': 572, 'opac': 661, 'loos': 232, 'npo': 408, 'adren': 175, 'artifact': 182, 'airspac': 127, 'signific': 605, 'year': 906, 'command': 522, 'contraind': 360, 'contact': 358, 'ivf': 453, 'law': 35, 'tte': 305, 'final': 876, 'futher': 19, 'rest': 457, 'pa': 418, 'frequent': 374, 'drink': 134, 'weak': 310, 'amber': 107, 'earli': 270, 'onset': 93, 'appetit': 139, 'pleasant': 204, 'feel': 316, 'suggest': 582, 'mid': 569, 'regurgit': 278, 'lab': 577, 'pulmonari': 827, 'femal': 269, 'diminish': 486, 'yesterday': 453, 'urg': 6, 'pmh': 390, 'wa': 905, 'limb': 131, 'difficulti': 326, 'r': 770, 'bibasilar': 301, 'rf': 23, 'fals': 14, 'trip': 17, 'larg': 562, 'asymptomat': 85, 'obtain': 651, 'ns': 360, 'consist': 636, 'intak': 235, 'lt': 128, 'crackl': 389, 'flatten': 41, 'motion': 364, 'lasix': 354, 'day': 675, 'state': 377, 'pic': 84, 'condit': 875, 'note': 885, 'upper': 731, 'use': 521, 'failur': 476, 'mass': 319, 'fluid': 718, 'sign': 496, 'unremark': 350, 'sever': 621, 'thrombu': 131, 'extent': 138, 'sputum': 549, 'greater': 256, 'ale': 9, 'absent': 249, 'lung': 903, 'cathet': 501, 'seen': 785, 'team': 493, 'excurs': 79, 'ep': 28, 'ectopi': 402, 'hypokinesi': 93, 'temp': 382, 'strength': 164, 'secret': 435, 'line': 733, 'u': 574, 'impress': 852, 'take': 439, 'tricuspid': 262, 'contrast': 593, 'collect': 164, 'sent': 561, 'nontend': 94, 'med': 597, 'watch': 107, 'margin': 125, 'infarct': 248, 'ef': 158, 'due': 678, 'spleen': 186, 'ob': 89, '%': 832, 'haart': 18, 'amt': 540, 'aortic': 391, 'site': 295, \"'s\": 711, 'anzemet': 6, 'trace': 670, 'need': 683, 'pvc': 241, 'levo': 181, 'md': 523, 'hypertens': 428, 'aid': 96, 'clip': 821, 'ginger': 8, 'gener': 547, 'high': 490, 'f': 494, 'ventricl': 350, 'nuero': 22, 'leav': 107, 'v': 392, 'bactrim': 77, 'resp': 651, 'new': 697, 'chang': 980, 'pt': 729, 'thicken': 411, 'precordi': 101, 'shift': 551, 'persist': 524, 'cap': 163, 'pelvi': 178, 'allerg': 27, ']': 427, 'repres': 405, 'diagnost': 225, 'sip': 118, 'toler': 634, 'integ': 65, 'see': 526, 'chf': 330, 'pnd': 98, 'pancrea': 158, 'occasion': 328, 'previou': 774, 'crf': 26, 'grade': 205, 'free': 499, 'qualiti': 322, 'affect': 91, 'pedal': 140, 'call': 554, 'sinu': 725, 'dyspnea': 328, 'pattern': 282, 'patchi': 212, 'area': 552, 'urin': 669, 'mild': 707, 'gland': 145, 'sptum': 2, 'eat': 204, 'specif': 362, 'atrium': 362, 'concern': 483, 'yellow': 491, 'ambul': 163, 'underli': 290, 'regular': 358, 'minim': 527, 'pcp': 148, 'throughout': 532, 'dose': 572, 'multipl': 514, 'indic': 849, 'rr': 626, 'edema': 741, 'probabl': 459, 'glass': 179, 'tach': 49, 'po': 648, 'deni': 453, 'cold': 50, 'mark': 273, 'induc': 87, 'abdomin': 444, 'wall': 437, 'prior': 824, 'ground': 177, 'within': 541, 'axial': 254, 'prophylaxi': 349, '#': 982, 'pneumonia': 939, 'mitral': 313, 'coars': 409, 'effus': 838, 'report': 934, 'conclus': 290, 'fe': 35, 'could': 493, 'intact': 442, 'id': 418, 'qr': 107, 'sepsi': 230, 'bs': 596, 'pm': 869, 'mr': 402, 'doppler': 388, 'cranberri': 4, 'juic': 28, 'small': 773, 'skin': 664, 'evid': 702, 'increas': 822, 'cx': 390, 'secondari': 331, 'bracial': 1, 'orient': 503, 'outpati': 135, ')': 1005, 'amount': 496, 'patient': 869, 'comment': 461, 'gerd': 83, 'afebril': 541, 'pleural': 753, 'higher': 117, 'although': 384, 'sauc': 23, 'full': 650, 'clinic': 587, 'biaxin': 1, 'palpabl': 159, 'slightli': 559, 'depress': 232, 'boost': 29, 'clear': 782, 'lb': 256, 'pericardium': 257, 'major': 144, 'diffus': 438, 'otherwis': 429, 'sagitt': 161, 'baselin': 432, 'plan': 683, 'system': 432, 'perspect': 7, 'pressur': 447, 'cc': 645, 'bowel': 570, 'pericardi': 407, 'normal': 849, 'admit': 928, 'mg': 632, 'evalu': 778, 'test': 388, 'etiolog': 234, 'clamp': 74, 'avoid': 138, 'reconstruct': 68, 'leaflet': 273, 'remov': 471, 'nurs': 527, 'lead': 345, 'coron': 171, 'product': 536, 'diff': 222, 'midnight': 156, 'l': 763, 'bedsid': 352, 'gu': 460, 'access': 497, 'admiss': 437, 'poor': 441, 'current': 625, 'green': 106, 'npn': 284, 'elev': 528, 'blood': 576, 'thick': 542, 'height': 490, 'gallbladd': 166, 'continu': 724, 'exam': 513, 'tachycard': 175, 'vtach': 12, 'result': 579, 'find': 853, 'rare': 188, 'qd': 121, 'bone': 218, 'tachycardia': 390, 'cooper': 284, 'hemodynam': 487, 'clindamycin': 37, 'per': 617, 'unabl': 451, 'examin': 921, 'tr': 245, 'iv': 811, 'picc': 378, 'colon': 169, 'pubi': 5, 'physiolog': 185, 'dilat': 415, 'rhythm': 656, 'unsteadi': 21, 'sat': 722, 'size': 685, 'social': 494, 'bilater': 719, 'rv': 258, 'decreas': 604, 'nutrit': 375, 'review': 599, 'lesion': 363, 'systol': 480, 'therapi': 300, 'inform': 489, 'better': 415, 'pcv': 7, 'much': 359, 'estim': 171, 'technic': 304, 'none': 536, '@': 435, 'hiv': 63, 'veri': 539, 'abx': 483, 'cardiac': 664, 'requir': 554, 'cough': 676, 'presenc': 112, 'n': 409, 'felt': 164, 'hypotens': 319, 'adjust': 182, 'studi': 754, 'treat': 397, 'assist': 375, 'low': 709, 'ra': 381, 'interv': 673, 'window': 181, 'abl': 525, 'field': 318, 'ventricular': 491, 'non': 755, 'time': 801, 'endstag': 1, 'ox': 221, 'atelectasi': 533, 'antibiot': 485, 'discomfort': 230, 'strand': 47, 'night': 460, 'ate': 46, 'nausea': 204, 'involv': 293, 'rt': 262, 'gi': 567, 'weight': 528, 'cont': 719, 'copiou': 159, 'medic': 956, 'overload': 256, 'ab': 79, 'view': 511, 'antecub': 23, 'abdomen': 553, 'tissu': 284, 'right': 972, 'hr': 808, 'voltag': 155, 'suspici': 170, 'inflammatori': 87, 'left': 971, 'ok': 172, 'x': 771, 'larger': 110, 'consult': 357, 'sm': 207, 'correl': 281, 'tx': 307, 'famili': 591, 'anasarca': 74, '&': 759, 'valv': 370, 'pend': 497, 'dri': 352, 'appear': 821, 'suboptim': 149, 'bioprosthet': 15, 'gradient': 194, 'mvp': 100, 'complet': 524, 'similar': 264, 'suprastern': 4, 'la': 229, 'locul': 114, 'aha': 44, 'space': 191, 'implic': 42, 'fever': 470, 'borderlin': 221, 'calcif': 325, 'coexist': 12, 'atrial': 417, 'lymphoma': 24, 'portabl': 784, 'best': 84, 'pre': 229, 'cavoatri': 115, 'avr': 21, 'tee': 49, 'recommend': 407, 'man': 516, 'radiograph': 592, 'mat': 12, 'ap': 749, 'aorta': 412, 'prolaps': 121, 'echocardiographi': 18, 'pneumothorax': 545, 'function': 452, 'like': 713, 'fibril': 200, 'surgeri': 347, 'block': 184, 'thre': 2, 'ascend': 203, 'fat': 82, 'cm': 604, 'fascicular': 52, 'retrocardiac': 231, 'echo': 308, 'junction': 229, 'present': 850, 'diamet': 242, 'level': 604, 'lvh': 100, 'preserv': 124, 'lvot': 159, 'regard': 224, 'contract': 104, 'end': 273, 'pad': 83, 'supraventricular': 24, 'lvef': 277, 'diseas': 456, 'data': 553, 'heart': 738, 'rate': 660, 'region': 402, 'trivial': 171, 'silhouett': 382, 'chamber': 203, 'annular': 105, 'septum': 219, 'though': 361, 'decis': 169, 'extens': 304, 'multifoc': 226, 'hypertrophi': 176, 'ray': 232, 'chest': 929, 'prematur': 157, 'hodgkin': 7, 'unchang': 787, 'symmetr': 305, 'inpati': 257, 'sinc': 788, 'promin': 349, 'biventricular': 75, 'exist': 128, 'transesophag': 14, 'stabil': 107, 'ps': 318, 'prosthesi': 32, 'endocard': 96, 'h': 558, 'placement': 561, 'interatri': 211, 'breakdown': 132, 'meet': 188, 'written': 115, 'scat': 6, 'tip': 500, 'art': 69, 'sedat': 322, 'guid': 141, 'distend': 389, 'compress': 255, 'wnl': 343, 'bronchodil': 74, 'gag': 169, 'map': 260, 'poorli': 78, 'maneuv': 43, 'criteria': 102, 'await': 347, 'whez': 4, 'spontan': 273, 'placment': 105, 'fellow': 92, 'punctur': 74, 'exercis': 63, 'cmv': 104, 'tabl': 70, 'screen': 158, 'lip': 114, 'approp': 26, 'light': 178, 'emg': 10, 'novac': 1, 'seet': 1, 'distal': 317, 'exit': 18, 'fib': 137, 'suct': 55, 'transpar': 20, 'stock': 6, 'manag': 351, 'let': 61, 'achiev': 70, 'infiltr': 541, 'alarm': 102, 'refus': 152, 'mip': 9, 'cava': 109, 'recov': 98, 'compens': 62, 'second': 167, 'j': 68, 'al': 12, 'vent': 279, 'dopa': 17, 'neruo': 8, 'boot': 212, 'almost': 92, 'longer': 184, 'assess': 739, 'discuss': 451, 'tracheostomi': 149, 'splint': 25, 'equal': 147, 'sore': 72, 'withou': 2, 'effici': 1, 'vbg': 50, 'satisfactori': 104, 'acidosi': 109, 'ten': 15, 'prefer': 58, 'autocorrect': 2, 'tlc': 95, 'hd': 105, 'paplabl': 2, 'keep': 346, 'turn': 341, 'mmv': 28, 'respond': 399, 'sicu': 119, 'understand': 138, 'past': 361, 'ir': 109, 'pna': 714, 'rua': 7, 'lo': 153, 'happi': 27, 'fio': 469, 'word': 126, 'tailor': 55, 'detail': 278, 'includ': 524, 'burst': 25, 'perrl': 275, 'diminsh': 54, 'intent': 14, 'spong': 14, 'still': 454, 'respons': 548, 'infus': 422, 'vari': 55, 'flowsheet': 440, 'mae': 304, 'drastic': 3, 'length': 142, 'sulfat': 118, 'mv': 84, 'hct': 498, 'labil': 85, 'oligur': 19, 'arm': 304, 'heal': 103, 'meropenem': 64, 'letharg': 171, 'brufen': 1, 'often': 60, 'angiographi': 45, 'seem': 264, 'ambu': 33, 'prep': 110, 'know': 138, 'wear': 111, 'restart': 341, 'chines': 10, 'staff': 148, 'servic': 395, 'discharg': 228, 'water': 234, 'check': 469, 'nif': 20, 'intervent': 192, 'cdi': 36, 'desat': 268, 'hemo': 15, 'pill': 125, 'remeron': 6, 'respect': 62, 'worn': 9, 'trazadon': 33, 'wake': 125, 'tender': 386, 'brown': 254, 'careview': 109, 'mani': 102, 'schedul': 169, 'set': 565, 'get': 420, 'doubl': 117, 'transfus': 154, 'determin': 184, 'object': 247, 'awar': 377, 'centr': 2, 'susp': 7, 'got': 141, 'tingl': 51, 'icu': 479, 'nap': 83, 'toller': 20, 'episod': 346, 'question': 455, 'spike': 154, 'increa': 7, 'lower': 759, 'vss': 153, 'held': 307, 'dopamin': 23, 'acid': 241, 'care': 655, '<': 316, 'pmicu': 49, 'approx': 210, 'dual': 47, 'tonight': 204, 'mucu': 59, 'pp': 79, 'rm': 24, 'sbp': 421, 'pedi': 38, \"'\": 157, 'venodyn': 21, 'approach': 93, 'avl': 23, 'needl': 93, 'modifi': 18, 'portex': 61, 'occlud': 24, 'moment': 19, 'deminish': 20, 'becam': 237, 'ij': 205, 'secrect': 17, 'go': 301, 'bm': 396, 'cent': 26, 'wide': 115, 'laminectomi': 15, 'son': 263, 'short': 436, 'ph': 146, 'facil': 120, 'dist': 21, 'posb': 1, 'mdi': 177, 'universla': 1, 'b': 448, 'pink': 147, 'teen': 128, 'nbp': 135, 'repeat': 425, 'mcg': 253, 'ivb': 16, 'occlus': 65, 'onto': 45, 'tenaci': 27, 'fentanyl': 201, 'verifi': 40, 'difficult': 376, 'subclavian': 216, 'pmv': 90, 'guidanc': 148, 'statlock': 25, 'fill': 190, 'redden': 99, 'address': 100, 'secr': 11, 'touch': 121, 'toilet': 252, 'setret': 1, 'next': 280, 'proxim': 172, 'sigh': 6, 'improv': 754, 'arous': 232, 'simv': 24, 'patch': 109, 'dim': 162, 'deliv': 16, 'spit': 24, 'accordingli': 58, 'lido': 12, 'cmh': 154, 'frustrat': 34, 'warm': 349, 'douderm': 9, 'granddaught': 11, 'identifi': 380, 'week': 276, 'ventil': 296, 'intermitt': 268, 'rotat': 113, 'voic': 230, 'howev': 495, 'ac': 212, 'nh': 62, 'tlcl': 34, \"'d\": 324, 'bell': 21, 'central': 380, 'work': 288, 'suction': 336, 'maintain': 450, 'yo': 382, 'someth': 44, 'buffer': 10, 'movement': 416, 'albuterol': 288, 'titrat': 228, 'ani': 515, 'anesthesia': 154, 'lidocain': 128, 'tol': 263, 'ring': 35, 'duoderm': 69, 'apnea': 92, 'uncomfort': 83, 'relief': 135, 'tent': 181, 'tf': 441, 'extrem': 567, 'known': 421, 'done': 488, 'anatomi': 19, 'yellowish': 43, 'peep': 262, 'apneic': 38, 'collar': 72, 'close': 327, 'alb': 123, 'sl': 147, 'ronchi': 43, 'ketoconazol': 2, 'rehab': 252, 'tan': 230, 'plam': 2, 'problem': 215, 'alter': 200, 'prolong': 208, 'send': 168, 'perrla': 80, 'reach': 116, 'gd': 31, 'usual': 187, 'supin': 248, 'abov': 556, 'oriet': 1, 'complic': 317, 'appropri': 416, 'soon': 100, 'rsbi': 210, 'goal': 394, 'cines': 1, 'mod': 258, 'spont': 102, 'cpap': 253, 'remark': 57, 'pulm': 351, 'notiifi': 1, 'friday': 50, 'carri': 12, 'static': 20, 'period': 245, 'ibuprofen': 27, 'us': 224, 'chronic': 454, 'volum': 491, 'morn': 372, 'bed': 499, 'pump': 54, 'flouroscop': 11, 'qs': 69, 'cvp': 175, 'undisturb': 7, 'plct': 92, 'residu': 355, 'anti': 92, 'ascertain': 8, 'respir': 103, 'vt': 213, 'doe': 546, 'tomorrow': 297, 'neuromuscular': 12, 'incid': 117, 'translat': 34, 'east': 20, 'ess': 13, 'resolv': 398, 'secretiona': 1, 'sediment': 109, 'simpl': 337, 'insicion': 1, 'read': 395, 'midodrin': 5, 'oxygen': 321, 'ativan': 185, 'oclock': 1, 'sch': 100, 'lamonectomi': 1, 'basil': 114, 'capac': 50, 'stenosi': 265, 'paus': 27, 'descript': 45, 'grimac': 67, 'vol': 125, 'pale': 149, 'befor': 291, 'insomnia': 24, 'briefli': 131, \"tf'ing\": 10, 'deceas': 5, 'vs': 423, 'given': 728, 'move': 380, 'earlier': 322, 'lumen': 246, 'sxed': 5, 'rhonchi': 250, 'brisk': 102, 'dure': 460, 'altern': 118, 'drainag': 198, 'rilutek': 1, 'issu': 279, 'scant': 164, 'track': 126, 'remaind': 170, 'drop': 382, 'make': 313, 'chngd': 1, 'pinkish': 12, 'appli': 289, 'asleep': 143, 'va': 72, 'overlaid': 2, 'multipodu': 25, 'hemmodynam': 1, 'medial': 100, 'drawn': 192, 'anxiou': 228, 'deep': 303, 'afer': 2, 'semi': 128, 'pneomoboot': 1, 'rig': 1, 'agress': 31, 'blb': 27, 'later': 563, 'hand': 216, 'top': 111, 'complaint': 359, 'prn': 458, 'procedur': 497, 'addit': 540, 'ask': 258, 'brush': 8, 'encourag': 329, 'room': 257, 'bb': 113, 'trach': 147, 'abg': 507, 'becaus': 176, 'rul': 166, 'tube': 539, 'comfort': 410, 'intub': 412, 'fashion': 84, 'co': 372, 'inflat': 42, 'mainli': 21, \"o'clock\": 4, 'xylocain': 1, 'point': 265, 'flush': 219, 'transient': 137, 'yankeur': 27, 'wait': 111, 'precaut': 434, 'center': 45, 'somnul': 7, 'diagnos': 84, 'suitabl': 25, 'nova': 4, 'cvbg': 1, 'nonspecif': 107, 'peripher': 475, 'vancomycin': 277, 'immobl': 14, 'min': 512, 'selding': 4, 'approxim': 245, 'impair': 187, 'loss': 237, 'cl': 78, 'asept': 7, 'ortho': 18, 'trend': 289, 'breathsound': 29, 'lavag': 65, 'retrograd': 4, 'employ': 22, 'disharg': 1, 'depriv': 6, 'venipunctur': 12, 'nuten': 2, 'analysi': 100, 'hydrat': 110, 'hold': 385, 'drain': 586, 'receiv': 600, 'drift': 34, 'carevu': 225, 'treatment': 356, 'max': 262, 'rang': 295, 'oper': 72, 'success': 213, 'develop': 323, 'fusion': 27, 'tylenol': 257, 'accept': 145, 'trial': 194, 'blister': 47, 'complain': 113, 'dorsal': 6, 'becom': 246, 'button': 18, 'found': 314, 'awok': 37, 'irrig': 34, 'seal': 71, 'tk': 3, 'thigh': 67, 'inhal': 138, 'inlin': 11, 'cuff': 198, 'support': 581, 'insert': 216, 'unless': 71, 'rn': 336, 'colac': 156, 'wheez': 400, 'forearm': 53, 'unit': 326, 'foot': 70, 'sxing': 48, 'sc': 207, 'htn': 287, 'bolus': 252, 'slept': 219, 'siginificantli': 2, 'motrin': 30, 'ms': 303, 'dr': 525, 'lg': 141, 'three': 173, 'dc': 216, 'case': 176, 'peg': 172, 'disscuss': 5, 'rhoncher': 45, 'wife': 173, 'ted': 4, 'rue': 67, 'incont': 34, 'distress': 453, 'wasreat': 1, 'speek': 3, 'look': 208, 'mostli': 167, 'whit': 2, 'english': 49, 'leg': 228, 'draw': 147, 'excess': 39, 'red': 186, 'respi': 8, 'easili': 236, 'return': 305, 'devic': 416, 'long': 255, 'morphin': 169, 'sx': 214, 'softli': 73, 'apap': 12, 'apex': 132, 'avail': 324, 'muscl': 224, 'alreadi': 99, 'neck': 249, 'afternoon': 351, 'aerat': 206, 'tri': 262, 'notifi': 191, 'cardovascular': 1, 'intial': 21, 'open': 285, 'fluor': 17, 'respiratori': 647, 'even': 400, 'flatu': 97, 'nsr': 348, 'risk': 270, 'advanc': 379, 'nutren': 76, 'supervis': 168, 'realli': 42, 'visit': 322, 'normalizes': 1, 'overbreath': 63, 'axilla': 41, 'unev': 109, 'minut': 338, 'respeat': 1, 'made': 523, 'drape': 85, 'dress': 237, 'sr': 467, 'spinal': 64, 'lami': 3, 'nose': 232, 'ot': 82, 'clot': 149, 'bump': 58, 'sheet': 117, 'two': 358, 'tegaderm': 25, 'onli': 469, 'describ': 182, '``': 301, 'pillow': 54, 'ho': 139, 'clean': 122, 'post': 566, 'replct': 85, 'awak': 330, 'abduct': 6, 'special': 19, 'posit': 668, 'transport': 138, '^': 93, 'mode': 200, 'lift': 104, 'extremeti': 49, 'previous': 317, 'superior': 203, 'buzzer': 1, 'head': 442, 'desatur': 160, 'feet': 117, 'caudal': 10, 'stat': 54, 'blue': 29, 'exp': 195, 'vein': 357, 'control': 466, 'psv': 227, 'mouth': 284, 'secur': 158, 'reflex': 92, 'ahead': 7, 'noc': 143, 'well': 813, 'reassess': 86, 'put': 232, 'cpt': 219, 'intravascular': 20, 'abp': 83, 'quad': 54, 'less': 470, 'perform': 535, 'clog': 19, 'flang': 10, 'cath': 293, 'svt': 57, 'mandatori': 2, 'air': 485, 'guidewir': 81, 'tripl': 94, 'convers': 130, 'french': 108, 'evaul': 2, 'speech': 262, 'local': 197, 'dispo': 203, 'round': 273, 'monday': 106, 'nd': 228, 'acut': 596, 'everi': 102, 'thin': 336, 'immedi': 198, 'lowest': 18, 'nt': 257, 'vena': 111, 'reciev': 132, 'lobe': 666, 'eye': 367, 'mso': 43, 'repond': 7, 'wean': 491, 'updat': 336, 'latest': 305, 'elbow': 39, 'prognosi': 68, 'asynchron': 4, 'brief': 121, 'mtg': 27, 'section': 259, 'whole': 73, 'commun': 446, 'seveal': 1, 'encount': 5, 'male': 344, 'recent': 559, 'feed': 327, 'cd': 90, 'freq': 159, 'geet': 1, \"pt'\": 13, 'thk': 21, 'fairli': 113, 'order': 557, 'prbc': 109, 'ulcer': 355, 'hco': 49, 'abras': 70, 'waken': 8, 'medecin': 1, 'rhonchor': 169, 'fluse': 2, 'yankour': 4, 'bilat': 330, 'bag': 116, 'pick': 72, 'spo': 438, 'vvg': 1, 'tidal': 131, 'hour': 579, 'aggress': 197, 'hypercarbia': 42, 'therapist': 52, 'venou': 360, 'rash': 251, 'troubl': 33, 'cervic': 161, 'timeout': 88, 'oral': 456, 'perl': 74, 'obey': 35, 'measur': 348, 'certain': 15, 'reduc': 183, 'worsen': 516, 'wob': 77, 'reposit': 226, 'weaker': 16, 'attempt': 390, 'speak': 228, \"''\": 265, 'requisit': 6, 'ultrasound': 268, 'anxieti': 195, 'q': 552, 'awaken': 49, 'meropenum': 32, 'readi': 203, 'except': 435, 'posiiton': 1, 'run': 189, 'extern': 41, 'puff': 33, 'secreion': 2, 'scv': 7, 'bolu': 354, 'gap': 37, 'longterm': 10, 'vanco': 386, 'effort': 126, 'aspir': 466, 'sourc': 255, 'integr': 112, 'via': 514, 'tourniquet': 3, 'th': 93, 'mechan': 187, 'hi': 483, \"n't\": 160, 'confirm': 334, 'ltc': 3, 'switch': 178, 'csm': 31, 'contninu': 4, 'ie': 30, 'pnding': 30, 'extend': 226, 'rll': 286, 'demonstr': 423, 'neb': 418, 'symptom': 193, 'vi': 40, 'onrt': 2, 'regardless': 13, 'expans': 216, 'info': 49, 'enc': 66, 'wire': 206, 'deliveri': 325, 'rec': 251, 'pacemak': 71, 'atrov': 231, 'replac': 257, 'flow': 542, 'suffici': 24, 'fact': 28, 'ladi': 17, 'smaller': 102, 'cabg': 71, 'degre': 217, 'breakfast': 51, 'costophren': 144, 'imposs': 13, 'junki': 11, 'face': 294, 'verbal': 298, 'pulmocort': 2, 'grossli': 233, 'independ': 101, 'ml': 469, 'svc': 351, 'precis': 15, 'ln': 20, 'swallow': 310, 'curv': 133, 'eff': 15, 'diur': 5, 'despit': 214, 'ptscurrent': 1, 'slight': 322, 'radial': 379, 'coverag': 305, 'ceftaz': 29, 'lock': 45, 'toerat': 2, 'yet': 183, 'heparin': 384, 'alin': 139, 'pace': 88, 'occsion': 1, 'followup': 179, 'distinct': 55, 'rais': 193, 'capillari': 17, 'cool': 240, 'basal': 162, 'tdo': 1, 'pupil': 182, 'unproduct': 10, 'sit': 184, 'hypokinet': 13, 'termin': 302, 'mist': 61, 'forward': 51, 'soc': 54, 'lnc': 109, 'ivhl': 1, 'angl': 150, 'expiratori': 107, 'lyte': 351, 'safeti': 144, 'deficit': 99, 'differ': 294, 'lib': 7, 'graviti': 72, 'rx': 172, 'hygien': 78, 'nasal': 376, 'stimul': 136, 'poc': 121, 'nc': 470, 'wheezez': 3, 'lat': 244, 'posterior': 248, 'bile': 60, 'db': 113, 'answer': 189, 'obes': 179, 'say': 105, 'activ': 380, 'thirsti': 26, 'littl': 291, 'riss': 157, 'nippv': 21, 'conjest': 3, 'midlin': 211, 'cad': 183, 'food': 165, 'ting': 174, 'diet': 478, 'cover': 265, 'pmr': 2, 'follw': 17, 'therefor': 121, 'come': 190, 'refil': 26, 'av': 62, 'quantiti': 28, 'aox': 42, 'perihilar': 140, 'either': 173, 'project': 211, 'strong': 240, 'ad': 199, 'infect': 448, 'ss': 139, 'transferd': 2, 'enough': 84, 'azithro': 69, 'levoph': 87, 'diuresi': 237, 'nice': 14, 'floor': 534, 'humidif': 10, 'rail': 41, 'seizur': 118, 'viger': 4, 'nonproduct': 87, 'somewhat': 270, 'lopressor': 220, 'congest': 386, 'vomit': 139, 'insp': 355, 'belli': 48, 'afeb': 72, 'nvd': 6, 'tid': 230, 'trachea': 89, 'thorac': 266, 'consolid': 531, 'attribut': 73, 'k': 519, 'pulmicort': 2, 'ecchymot': 31, 'ro': 267, 'humalog': 68, 'pul': 37, 'endo': 198, 'precept': 9, 'diures': 214, 'mn': 168, 'pnx': 42, 'lpm': 85, 'mask': 348, 'fit': 30, 'mll': 2, 'septal': 160, 'gave': 115, 'oxycontin': 22, 'sister': 90, 'nebh': 2, 'accord': 90, 'valu': 156, 'depend': 237, 'kcl': 185, 'explain': 188, 'levoflox': 112, 'mor': 1, 'supervisor': 5, 'therapeut': 114, 'piv': 327, 'brother': 61, 'taken': 195, 'hx': 379, 'ama': 7, 'spoke': 198, 'defer': 107, 'myelopdysplasia': 1, 'ago': 234, 'would': 461, 'suppos': 15, 'eval': 587, 'condom': 15, 'lay': 28, 'flownot': 18, 'tat': 1, 'provid': 452, 'want': 267, 'tact': 14, 'urgent': 12, 'plt': 321, 'instead': 52, 'stress': 328, 'fax': 22, 'rogor': 1, 'meq': 440, 'ed': 321, 'risperidon': 3, 'thousand': 1, 'addendum': 341, 'vano': 3, 'ekg': 291, 'came': 170, 'band': 119, 'dx': 127, 'father': 62, 'phonecal': 2, 'insist': 16, 'bank': 16, 'transferredback': 1, 'awhil': 3, 'form': 209, 'osh': 91, 'wheelchair': 20, 'nrm': 4, 'quit': 125, 'reformat': 135, 'wrist': 140, 'nervou': 18, 'coug': 5, 'arch': 126, 'fair': 143, 'obscur': 159, 'cahng': 4, 'req': 42, 'roommat': 3, 'wash': 66, 'tape': 57, 'instruct': 67, 'lessen': 16, 'superimpos': 144, 'sleepi': 59, 'psychosoc': 3, 'hypox': 136, 'embolu': 38, 'anox': 8, 'fragil': 25, 'xray': 102, 'ett': 235, 'restraint': 164, 'gold': 16, 'autodiresi': 1, 'cup': 38, 'tocycl': 1, 'toll': 4, 'chain': 21, 'self': 210, 'relax': 68, 'reassur': 87, 'super': 10, 'sxn': 107, 'faint': 59, 'amd': 14, 'becm': 1, 'auscult': 101, 'contigu': 77, 'fo': 35, 'forget': 31, 'think': 109, 'exert': 110, 'cerebr': 50, 'liq': 59, 'mediastin': 410, 'pn': 11, 'et': 191, 'mastoid': 77, 'discourag': 7, 'didnt': 3, 'intercurr': 2, 'precipit': 28, 'heterogen': 81, 'factor': 68, 'closer': 32, 'ext': 313, 'choroid': 1, 'fen': 239, 'propofol': 113, 'wz': 1, 'direct': 171, 'home': 498, 'associ': 265, 'endoc': 25, 'ect': 14, 'tree': 55, 'degrad': 12, 'ogt': 114, 'densiti': 197, 'interstiti': 236, 'unawar': 11, 'pull': 293, 'appar': 222, 'lymph': 347, 'palp': 80, 'thing': 46, 'disori': 49, 'slowli': 187, 'deleri': 10, 'thru': 63, 'gastric': 83, 'restless': 124, 'compat': 93, 'main': 149, 'sop': 2, 'subsequ': 181, 'lie': 127, 'paranas': 66, 'walk': 94, 'coop': 12, 'theraput': 8, 'partner': 10, 'yelow': 5, 'dissect': 40, 'haldol': 106, 'foci': 70, 'minimum': 16, 'amnt': 23, 'vers': 166, 'contour': 323, 'confluent': 78, 'cell': 240, 'portion': 457, 'mainten': 50, 'obstruct': 280, 'understandingli': 1, 'ck': 216, 'ngt': 177, 'significantli': 214, 'sentenc': 41, 'gelatin': 4, 'allergi': 376, 'fentynl': 6, 'venturi': 5, 'impend': 16, 'film': 227, 'axillari': 199, 'transmitr': 14, 'cannula': 330, 'lisinopril': 86, 'opt': 15, 'suscept': 22, 'wind': 3, 'divid': 27, 'g': 447, 'went': 156, 'arriv': 234, 'diarrhea': 171, 'smear': 58, 'opacif': 310, 'lue': 69, 'hiflow': 18, 'hardcopi': 3, 'metropolol': 4, 'pe': 219, 'cortex': 17, 'msicu': 16, 'crise': 1, 'sbt': 134, 'branch': 156, 'unilat': 70, 'cyanot': 15, 'flair': 30, 'phone': 204, 'venti': 37, 'acquir': 258, 'phm': 2, 'settl': 84, 'pneumon': 106, 'pair': 45, 'cut': 51, 'talk': 190, 'nystatin': 65, 'pneumomediastinum': 16, 'fld': 33, 'fent': 119, 'node': 217, 'alseep': 1, 'quickli': 136, 'mech': 47, 'intraocular': 1, 'said': 85, 'flat': 131, 'aspect': 134, 'enhanc': 123, 'carina': 199, 'wbc': 531, 'bun': 401, 'subsegment': 80, 'lsubclavian': 1, 'decr': 30, 'thereaft': 17, 'na': 170, 'sd': 13, 'hyponatremia': 50, 'nrb': 156, 'extremi': 1, 'impos': 2, 'gentleman': 37, 'half': 68, 'dowm': 1, 'hyperintens': 29, 'easi': 38, 'bath': 86, 'endotrach': 252, 'laryng': 81, 'globe': 6, 'calmer': 23, 'bipap': 126, 'brachiocephal': 70, 'bow': 4, 'ng': 452, 'thruout': 5, 'mediastinum': 145, 'markedli': 117, 'opportunist': 9, 'clostroph': 1, 'fluffi': 5, 'hilar': 256, 'outflow': 17, 'consider': 90, 'angio': 42, 'extubat': 9, 'rad': 59, 'midaz': 37, 'turgor': 5, 'conitnu': 14, 'tachypn': 200, 'agit': 275, 'mobil': 121, 'embol': 123, 'clonazepam': 21, 'pituitari': 3, 'apropri': 7, 'incr': 44, 'matter': 78, 'deceller': 1, 'ice': 116, 'ye': 132, 'occur': 121, 'propafol': 8, 'perivascular': 9, 'decent': 9, 'upright': 327, 'ischem': 112, 'tract': 80, 'np': 138, 'cephal': 74, 'cp': 192, 'multiplanar': 124, 'brain': 105, 'csf': 28, 'bite': 76, 'nemb': 4, 'cci': 10, 'nod': 135, 'inappropri': 27, 'write': 49, 'calm': 144, 'rpt': 23, 'ductu': 4, 'maxillari': 41, 'expir': 33, 'appeart': 1, 'arteriosu': 4, 'bleed': 276, 'flagyl': 162, 'shortli': 55, 'bear': 34, 'situat': 80, 'rvfx': 1, 'fall': 190, 'tranfer': 15, 'immprov': 1, 'promot': 56, 'reintub': 64, 'infarc': 2, 'dipso': 1, 'sensit': 102, 'gpc': 67, \"c'ed\": 65, 'cn': 95, 'discret': 51, 'parenchyma': 88, 'interven': 18, 'spastic': 8, 'fs': 174, 'begun': 37, 'srr': 26, 'recon': 78, 'defect': 156, 'bil': 134, 'dp': 337, 'peak': 77, 'vessel': 193, 'liter': 278, 'stalk': 1, 'upset': 32, 'lsc': 24, 'incrreas': 1, 'whitish': 55, 'gtt': 303, 'inferior': 192, 'reg': 122, 'began': 77, 'iii': 43, 'chart': 118, 'autodiures': 43, 'void': 163, 'dvt': 402, 'kvo': 81, 'cre': 26, 'cultur': 432, 'mi': 119, 'quiet': 93, 'sinl': 1, 'occ': 206, 'person': 185, 'root': 118, 'cta': 310, 'pao': 155, 'nonlabor': 20, 'escal': 31, 'stinul': 1, 'pretti': 12, 'detect': 94, 'hous': 119, 'hrr': 2, 'e': 279, 'mentat': 55, 'sec': 84, 'restrain': 66, 'overal': 348, 'idea': 14, 'blunt': 94, 'chip': 82, 'ivp': 164, 'hospit': 311, 'narcot': 47, 'extub': 264, 'rise': 136, 'helic': 51, 'widespread': 62, 'ptt': 312, 'extuat': 2, 'intab': 1, 'brachial': 136, 'sporad': 5, 'sinus': 126, 'cortic': 39, 'appreci': 271, 'opacifi': 46, 'ionic': 31, 'acidoi': 1, 'electrolyt': 185, 'ua': 147, 'inf': 20, 'cystic': 41, 'visitor': 67, 'apologet': 1, 'roll': 61, 'tend': 30, 'hypoxia': 337, 'optiray': 186, 'begin': 175, 'antimicrobi': 35, 'antivir': 9, 'thrush': 42, 'zone': 161, 'visual': 394, 'antra': 1, 'drip': 165, 'remin': 3, 'troponin': 205, 'scatter': 209, 'sxted': 8, 'antrum': 22, 'rebreath': 48, 'remind': 52, 'stomach': 251, 'alot': 25, 'sulci': 67, 'rousabl': 10, 'intens': 41, 'catheeer': 1, 'ca': 420, 'vertex': 12, 'hazi': 106, 'combin': 136, 'redemonstr': 41, 'radiologist': 137, 'gastr': 1, 'outpt': 56, 'attend': 414, 'net': 84, 'trigger': 125, 'cream': 149, 'labor': 121, 'total': 457, 'migrat': 17, 'applic': 43, 'mucos': 51, 'cyst': 126, 'stimuli': 238, 'tema': 1, 'gaseou': 8, 'firm': 63, 'powder': 65, 'fluoroscopi': 45, 'eight': 16, 'collaps': 169, 'mental': 268, 'particular': 24, 'fb': 39, 'gj': 21, 'clav': 2, 'chage': 2, 'confrim': 3, 'overview': 2, 'highest': 8, 'shot': 19, 'pancultur': 15, 'siusiti': 1, 'thu': 120, 'log': 7, 'purpos': 177, 'peel': 88, 'consciouti': 2, 'reform': 89, 'mushroom': 54, 'spur': 12, 'target': 40, 'dermat': 17, 'gain': 39, 'cuf': 40, 'notic': 43, 'character': 90, 'along': 231, 'penia': 1, 'emot': 160, 'anyth': 59, 'accuraci': 13, 'actual': 44, 'flaccid': 14, 'beom': 2, 'silght': 1, 'occat': 25, 'clr': 25, 'og': 131, 'scan': 258, 'thich': 5, 'febril': 154, 'transduc': 18, 'antibot': 10, 'regimen': 268, 'enter': 258, 'stimlat': 1, 'semin': 16, 'obviou': 93, 'bsk': 10, 'cadiomediastin': 1, 'ivab': 20, 'treitz': 13, 'stand': 239, 'anticip': 116, 'cva': 109, 'occassion': 46, 'pulmnari': 1, 'partial': 244, 'tubefe': 15, 'unrespons': 94, 'steroid': 173, 'least': 142, 'heme': 205, 'abreast': 8, 'hepat': 125, 'til': 22, 'fetanyl': 1, 'itchi': 16, 'tomarrow': 8, 'topic': 39, 'yeterday': 2, 'tone': 280, 'offer': 111, 'increasingli': 82, 'underneath': 6, 'locat': 288, 'attain': 12, 'strip': 18, 'diuresis': 15, 'hydrocephalu': 33, 'preliminari': 76, 'plcmt': 15, 'reportedli': 74, 'nonion': 25, 'oro': 2, 'inguin': 64, 'stimulu': 24, 'rectal': 150, 'met': 153, 'excel': 88, 'daili': 384, 'pelvic': 96, 'mpa': 2, 'scale': 317, 'teach': 27, 'youvil': 1, 'ip': 101, 'retrocard': 3, 'inject': 108, 'visibl': 102, 'valium': 27, 'qlc': 3, 'away': 115, 'regim': 63, 'passiv': 35, 'diaphoret': 119, 'tachneic': 1, 'pyloru': 15, 'hung': 14, 'alkalosi': 76, 'mucousi': 6, 'lose': 12, 'middl': 208, 'sput': 53, 'util': 60, 'adenopathi': 115, \"sxn'ing\": 14, 'reveal': 192, 'hydrocortison': 18, 'brachycephal': 3, 'angiopathi': 2, 'email': 18, 'taper': 123, 'uop': 225, 'potassium': 341, 'whose': 34, 'tannish': 28, 'pro': 15, 'spare': 35, 'tbe': 2, 'pej': 13, 'fell': 74, 'udat': 1, 'travel': 35, 'cardiomediastin': 249, 'upon': 206, 'respalor': 9, 'apc': 28, 'entri': 32, 'tuberos': 6, 'reduct': 72, 'shoulder': 85, 'ultimatli': 1, 'distens': 45, 'afix': 2, 'vial': 3, 'fasten': 11, 'expect': 120, 'whether': 120, 'fine': 101, 'redress': 15, 'parenchym': 224, 'sheath': 121, 'shiley': 14, 'hydronephrosi': 90, 'materi': 108, 'overnoc': 135, 'necessari': 115, 'believ': 44, 'vecuronium': 10, 'rmain': 2, 'vasculatur': 114, 'intracrani': 107, 'subject': 147, 'ent': 24, 'bld': 109, 'noon': 113, 'scleraedema': 1, 'pleaw': 1, 'apic': 181, 'supdat': 1, 'birthday': 6, 'letter': 9, 'serosanguin': 30, 'grandson': 12, 'far': 163, 'frequenc': 70, 'fecal': 54, 'tpn': 42, 'plug': 120, 'ftb': 1, 'resettl': 1, 'sodium': 338, 'nm': 9, 'purul': 33, 'hl': 22, 'plmt': 17, 'pubic': 45, 'sphenoid': 38, 'intervasc': 1, 'sxtn': 20, 'replet': 384, 'resutur': 2, 'basic': 40, 'board': 59, 'jejunum': 28, 'first': 206, 'stiff': 44, 'perc': 52, 'connect': 27, 'pronounc': 72, 'rom': 76, 'hst': 1, 'resum': 156, 'golden': 43, 'gastrojejunostomi': 22, 'lactulos': 85, 'qtt': 13, 'displac': 52, 'fluter': 1, 'fri': 113, 'sulcu': 22, 'multi': 147, 'massag': 6, 'cs': 15, 'durng': 1, 'fulli': 165, 'exrem': 3, 'vagu': 21, 'derm': 50, 'normotens': 59, 'degen': 176, 'redd': 10, 'retro': 4, 'tranfus': 8, 'brownish': 23, 'metal': 36, 'healthi': 66, 'inr': 320, 'dsg': 114, 'perm': 6, 'highli': 42, 'reliev': 67, 'ge': 31, 'urinari': 149, 'tactil': 33, 'late': 120, 'ethmoid': 39, 'name': 129, 'amen': 19, 'enuf': 1, 'buttock': 115, 'nure': 2, 'gaug': 311, 'orogastr': 26, 'hypovolem': 35, 'vigor': 45, 'hang': 10, 'jejun': 9, 'tachypnea': 195, 'cribriform': 6, 'member': 96, 'pharnyx': 1, 'uneven': 1, 'decompress': 38, 'slide': 261, 'periventricular': 51, 'give': 265, 'cancer': 140, 'page': 199, 'fr': 33, 'benadryl': 27, 'reccomend': 7, '^^rate': 1, 'drug': 244, 'fluoroscop': 135, 'desir': 72, 'bronchial': 182, 'hydrocort': 9, 'plate': 26, 'relat': 343, 'rij': 75, 'lr': 50, 'four': 102, 'thickish': 4, 'squeez': 48, 'serial': 105, 'soundli': 9, 'sometim': 66, 'iron': 56, 'tracheotomi': 19, 'eyelid': 5, 'deploy': 16, 'tvol': 6, 'intuabt': 8, 'papyracea': 6, 'ear': 232, 'mening': 25, 'hypopharynx': 6, 'dampen': 46, 'entroclysi': 5, 'affix': 3, 'amplatz': 16, 'inner': 70, 'transaminas': 11, 'vea': 88, 'stop': 270, 'microg': 1, 'especi': 109, 'dimish': 22, 'guaic': 35, 'clearli': 91, 'blink': 17, 'duodenum': 51, 'noontim': 15, 'shut': 55, 'tachpnia': 1, 'stransfus': 1, 'excret': 38, 'newli': 148, 'experi': 29, 'througout': 7, 'currenti': 1, 'isol': 65, 'sutur': 80, 'acetaminophen': 84, 'sterili': 1, 'hypercapnea': 9, 'li': 19, 'btw': 5, 'peelaway': 1, 'adquat': 6, 'hemorrhag': 175, 'pho': 232, 'lamina': 8, 'hemidiaphragm': 140, 'potenti': 158, 'reglan': 44, 'specimen': 74, 'extravas': 16, 'intraven': 237, 'meical': 1, 'simultan': 5, 'tonoc': 16, 'prostat': 68, 'conray': 13, 'penil': 8, 'permiss': 3, 'nephew': 19, 'shiver': 5, 'incontin': 89, 'wtih': 20, 'clinoid': 5, 'vue': 22, 'coincident': 1, 'consciou': 14, 'flutter': 68, 'intern': 286, 'sub': 44, 'init': 27, 'alon': 85, 'consistantli': 29, 'overli': 149, 'routin': 118, 'ectop': 24, 'qtc': 49, 'percocet': 59, 'swollen': 52, 'tl': 18, 'directli': 23, 'calcifi': 135, 'angiograph': 25, 'consent': 160, 'prelim': 45, 'accessori': 77, 'perhap': 53, 'skull': 21, 'afrin': 5, 'consid': 420, 'lc': 13, 'cdiff': 88, 'disposit': 309, 'eventu': 91, 'vessicl': 2, 'tfb': 28, 'thank': 135, 'insulin': 315, 'erythromycin': 32, \"ct'\": 1, 'jugular': 200, 'toward': 124, 'criticar': 5, 'inconsist': 70, 'bloodi': 117, 'reactiv': 150, 'entir': 152, 'antibx': 137, 'frontal': 168, 'simethicon': 13, 'refer': 202, 'balloon': 43, 'squamou': 20, 'exhibit': 33, 'paramed': 4, 'risb': 12, 'errythem': 1, 'mesenteri': 17, 'slighlti': 8, 'subtl': 66, 'cholecyst': 56, 'rectum': 96, 'bl': 58, 'fix': 103, 'recruit': 18, 'flexitrack': 1, 'recheck': 171, 'fic': 5, 'nonrespons': 9, 'expector': 173, 'prompt': 20, 'norm': 5, 'cope': 49, 'patholog': 210, 'tini': 97, 'steril': 151, 'content': 38, 'bit': 70, 'inh': 20, 'bodi': 315, 'intervascularli': 2, 'kept': 97, 'canula': 35, 'variabl': 51, 'anemia': 216, 'bwn': 3, 'pac': 106, 'nasogastr': 182, 'destruct': 40, \"patient'\": 54, 'incres': 6, 'normoglycem': 10, 'proceedur': 7, 'ssi': 91, 'gallston': 46, 'massachusett': 1, 'ga': 204, 'glidewir': 13, 'ceftriaxon': 176, 'reslt': 4, 'anesth': 3, 'mucomyst': 31, '^^': 20, 'guaiac': 97, 'microvascular': 24, 'tachypneia': 2, 'slow': 202, 'nursi': 1, 'gastromi': 7, 'edemat': 76, 'inconsistantli': 16, 'diaphragm': 143, 'pariet': 23, 'express': 102, 'opaqu': 10, 'true': 29, 'percutan': 52, 'twice': 77, 'basi': 37, 'confort': 11, 'vascular': 500, 'prolen': 6, 'extra': 123, 'promod': 7, 'essenti': 156, 'exchang': 94, 'peribronchi': 36, 'dtr': 64, 'bllo': 1, 'sigmoid': 74, 'coil': 50, 'airat': 3, 'loop': 145, 'retroperitoneum': 11, 'beneath': 20, 'wakeful': 2, 'cardiomediastinum': 12, 'cel': 1, 'ag': 58, \"desat'\": 2, 'lft': 106, 'encephalopath': 8, 'hypernatrem': 22, 'candid': 56, 'decubitu': 74, 'deplet': 46, 'configur': 63, 'rope': 2, 'jewelri': 262, 'provision': 192, 'disord': 77, 'presum': 153, 'stimata': 1, 'ft': 62, 'reorient': 113, 'topomax': 1, 'cloth': 277, 'airway': 310, 'rhonci': 28, 'lactulo': 1, 'metoprolol': 166, 'lymphat': 112, 'list': 90, 'neurolog': 302, 'cr': 364, 'dm': 145, 'cardiovascular': 251, 'jmgw': 16, 'hypothyroid': 59, 'tcurrent': 303, 'debil': 6, 'lnp': 36, 'creatinin': 324, 'vanc': 205, 'invas': 330, 'confus': 213, 'fibersourc': 33, 'card': 290, 'qh': 61, 'musculoskelet': 124, 'contribut': 117, 'asp': 90, 'pfi': 199, 'sulbactam': 13, 'lantu': 35, 'diabet': 147, 'jpg': 304, 'nad': 164, 'wed': 112, 'rifamixin': 1, '{': 315, 'superif': 2, 'ivc': 98, 'finger': 239, 'cash': 262, 'membran': 36, 'cirrhosi': 44, 'satur': 330, 'tremor': 39, '}': 313, 'dl': 353, 'infrahilar': 25, 'spine': 195, 'hn': 32, 'recogn': 17, 'lansoprazol': 51, 'stage': 161, 'wast': 100, 'unasyn': 15, 'exacerb': 140, 'zonisamid': 3, 'diffucult': 2, 'ammonia': 9, 'fa': 51, 'levothyroxin': 44, 'titl': 189, 'attent': 242, 'aqua': 2, 'rml': 86, 'ing': 32, 'demograph': 294, 'dysfunct': 132, 'asciti': 7, 'chlorid': 293, 'asterixi': 9, 'pertin': 298, 'money': 264, 'black': 38, 'wallet': 256, 'withdrawn': 49, 'nash': 5, 'normocephal': 206, 'ul': 304, 'action': 328, 'beat': 158, 'meld': 4, 'stick': 260, 'cake': 2, 'signatur': 266, 'bnp': 69, 'tsh': 45, 'dentit': 74, 'ampicillin': 32, 'coccyx': 160, 'vital': 374, 'prescrib': 22, 'clonu': 8, 'credit': 262, 'record': 235, 'streaki': 14, 'engorg': 91, 'cyu': 30, 'quadrant': 128, 'pnuemonia': 19, 'equivoc': 17, 'anticonvuls': 3, 'temperatur': 302, 'mmhg': 353, 'hematocrit': 297, 'deveop': 2, 'erythema': 74, 'tropt': 141, 'moan': 31, 'physic': 348, 'vap': 318, 'score': 23, 'ppi': 222, 'wound': 133, 'chief': 310, 'hypernatremia': 67, 'kg': 385, 'valuabl': 267, 'versiva': 1, 'throat': 267, 'radiolog': 352, 'dz': 35, 'aplmar': 1, 'glucos': 370, 'glycem': 306, 'chem': 29, 'prevacid': 43, 'heel': 73, 'dsd': 77, 'transplant': 31, 'conjunctiva': 191, 'keppra': 15, 'resid': 345, 'ckmb': 177, 'particularli': 112, 'distort': 13, 'ich': 19, 'age': 141, 'digoxin': 49, 'uncoop': 22, 'rbbb': 18, 'docus': 57, 'nitro': 37, 'pleasantli': 15, 'atrophi': 41, 'axi': 189, 'agre': 321, 'crit': 33, 'comb': 36, 'sputem': 7, 'interim': 112, 'climb': 64, 'primari': 142, 'bisacodyl': 42, 'supplement': 178, 'shout': 7, 'disorient': 12, 'aerosol': 127, 'ntg': 43, 'ew': 85, 'dementia': 96, 'benign': 113, 'safe': 80, 'reinforc': 36, 'kcld': 3, \"dc'ed\": 6, 'repolar': 56, 'bundl': 121, 'droplet': 96, 'modest': 49, 'lovenox': 23, 'part': 148, 'adm': 126, 'audibl': 82, 'fsbg': 34, 'pharyng': 85, 'fissur': 66, 'vest': 6, 'nstemi': 30, 'nasopharyng': 9, 'redistribut': 46, 'aspirin': 95, 'rule': 234, 'thight': 3, 'zyprexa': 59, 'complex': 90, 'effac': 13, 'diuret': 66, 'flu': 109, 'wet': 338, 'unrestrain': 13, 'qid': 133, 'contiu': 10, 'recoveri': 62, 'enzym': 114, 'adendum': 3, 'conges': 1, 'rebook': 1, 'levofloxacin': 227, 'dnr': 172, 'agreeabl': 14, 'observ': 157, 'particip': 71, 'rale': 130, 'posi': 1, 'contin': 42, 'demand': 75, 'guiac': 115, 'mistaken': 3, 'redirect': 37, 'deviat': 124, 'somnol': 106, 'craze': 1, 'must': 46, 'cistern': 23, 'isosorbid': 10, 'scream': 7, 'apprehens': 5, 'firmli': 10, 'bedpan': 46, 'adl': 56, 'sitter': 36, 'hs': 117, 'ischemia': 164, 'live': 189, 'cardiolog': 58, 'syst': 18, 'reinsert': 28, 'type': 251, 'influenza': 118, 'loud': 72, 'environ': 61, 'plavix': 29, 'behavior': 43, 'compazin': 21, 'slower': 90, 'lll': 266, 'amphotericin': 2, 'asymmetr': 83, 'kling': 3, 'pressor': 135, 'cavit': 26, 'pmd': 5, 'heard': 63, 'bilatter': 1, 'help': 256, 'shin': 23, 'multilobar': 35, 'autoimmun': 10, 'xeroform': 3, 'readdress': 31, 'superfici': 108, 'ahf': 1, 'pathogen': 37, 'gelfoam': 3, 'compon': 187, 'ooz': 65, 'mult': 50, 'bronch': 140, 'hyothyroid': 1, 'cellul': 25, 'spectrum': 83, 'grew': 43, 'abroad': 1, 'declin': 100, 'indistinct': 44, 'smicu': 10, 'accompani': 75, 'pc': 21, 'unknown': 197, 'tortuou': 60, 'hilum': 40, 'reflect': 220, 'wednesday': 20, 'recal': 20, 'adjac': 145, 'cpnt': 1, 'mean': 59, 'thirst': 21, 'lucenc': 43, 'tacypn': 10, 'hypoact': 112, 'hemolyt': 6, 'cll': 10, 'broad': 131, 'cmx': 11, 'focal': 416, \"con't\": 5, 'alveolar': 84, 'platlet': 4, 'dni': 145, 'wrap': 23, 'die': 51, 'ivabx': 10, 'gauz': 34, 'bacteria': 42, 'por': 2, 'focu': 106, 'document': 119, 'yaunker': 11, 'sz': 26, 'wax': 55, 'neuron': 15, 'viral': 119, 'hcp': 128, 'dme': 15, 'suspect': 171, 'blurri': 47, 'glucon': 37, 'calcium': 157, 'nahco': 9, 'certainli': 36, 'dialysi': 97, 'wit': 61, 'caus': 266, 'malign': 139, 'interdisciplinari': 89, 'alkalot': 9, 'lactat': 160, 'delirium': 95, 'schizophrenia': 15, 'tongu': 73, 'vision': 59, 'pngt': 7, 'cri': 57, 'decid': 109, 'obtund': 16, 'di': 23, 'input': 93, 'consequ': 17, 'health': 113, 'evolut': 34, 'incomprehens': 17, 'thrust': 2, 'deliri': 58, 'wretch': 3, 'caudat': 10, 'emerg': 81, 'esrd': 48, 'mono': 173, 'uremia': 9, 'murmur': 212, 'wane': 36, 'neurolept': 3, 'sluggish': 31, 'unclear': 243, 'senior': 9, 'infrequ': 22, 'wgt': 104, 'reson': 90, 'horn': 4, 'tempor': 27, 'conjunctiv': 54, 'tox': 19, 'miss': 48, 'hpi': 255, 'walker': 26, 'nail': 20, 'dialyz': 14, 'lacun': 6, 'hosp': 35, 'psychiatr': 89, 'emesi': 89, 'withdrew': 9, 'ensu': 2, 'referr': 69, 'labatelol': 4, 'paranoia': 5, 'uf': 176, 'penicillin': 53, 'constitut': 121, 'inch': 222, 'dislodg': 13, 'lithium': 4, 'eo': 175, 'thought': 143, 'standard': 210, 'doubt': 49, 'session': 21, 'hyperkalemia': 31, 'hemodialysi': 36, 'conserv': 20, 'dextros': 39, 'gm': 155, 'resuscit': 95, 'serum': 84, 'univers': 12, 'meantim': 12, 'medicar': 10, 'linisipril': 1, 'stim': 45, 'fatigu': 172, 'rapid': 189, 'proport': 7, 'multidisciplinari': 37, 'key': 287, 'fh': 201, 'happen': 44, 'mwf': 4, 'cardiopulmonari': 39, 'hard': 137, 'percuss': 117, 'stone': 82, 'levaquin': 126, 'insur': 32, 'differenti': 275, 'kayexal': 14, 'genitourinari': 94, 'noxiou': 44, 'nourish': 150, 'spent': 275, 'copi': 77, 'hyperpotassemia': 4, 'proxi': 89, 'insipidu': 6, 'retch': 2, 'noth': 51, 'encephalopathi': 56, 'complianc': 80, 'hemoconcentr': 9, 'leukoencephalopathi': 3, 'dialys': 6, 'life': 27, 'jvp': 77, 'bipolar': 20, 'critic': 219, 'admin': 52, 'correct': 99, 'paramet': 90, 'labetolol': 15, 'antihypertens': 62, 'saw': 280, 'proper': 52, 'wish': 85, 'ue': 103, 'bring': 88, 'zofran': 38, 'sugar': 164, 'ventriculomegali': 3, 'crisi': 11, 'kayexel': 6, 'withdraw': 127, 'medicaid': 13, 'experienc': 69, 'sh': 200, 'neut': 172, 'labetalol': 16, 'amp': 60, 'sq': 223, 'epilepticu': 8, 'dilantin': 20, 'lymphadenopathi': 198, 'pretrach': 18, 'fluidfil': 1, 'coumadin': 139, 'shingl': 6, 'mail': 5, 'salt': 7, 'boni': 83, 'irregular': 100, 'ugi': 8, 'revis': 41, 'third': 66, 'bronchovascular': 16, 'mb': 36, 'hiatal': 44, 'align': 34, 'lumbar': 85, 'workup': 60, 'micua': 2, 'aneurysm': 69, 'arthrit': 12, 'summari': 84, 'prevascular': 35, 'unenhanc': 14, 'atroph': 26, 'sublux': 9, 'esophagu': 92, 'granuloma': 30, 'vertebr': 85, 'trauma': 64, 'oliguria': 18, 'endobronchi': 24, 'mottl': 12, 'somewhatdil': 1, 'nodul': 158, 'afib': 203, 'prevertebr': 10, 'cpk': 31, 'coronari': 209, 'dens': 125, 'em': 32, 'incomplet': 86, 'lowermost': 2, 'lesser': 38, 'anteriorli': 96, 'groundglass': 2, 'hernia': 91, 'swell': 132, 'infraren': 23, 'fractur': 177, 'nkda': 57, 'shake': 72, 'ar': 202, 'spell': 18, \"rec'\": 20, 'novasourc': 16, 'centimet': 18, 'alerr': 1, 'fibb': 1, 'unlabor': 64, 'broke': 19, 'distent': 79, 'pco': 120, 'appropriat': 2, 'nede': 3, 'pericard': 20, 'disress': 4, 'cleans': 49, 'sy': 65, 'reacur': 1, 'reciv': 15, 'rrt': 59, 'prob': 31, 'telephon': 117, 'convert': 96, 'lopresssor': 2, 'uncontrol': 14, 'peripheri': 33, 'tp': 26, 'raf': 23, 'stabliz': 8, 'pacu': 6, 'ti': 7, 'aflutt': 26, 'electr': 8, 'af': 123, 'matress': 6, 'might': 119, 'husband': 73, 'push': 63, 'ketpad': 1, 'balans': 1, 'eti': 1, 'hypotenns': 1, 'typer': 1, 'houseoffic': 13, 'screan': 1, 'apneaic': 2, 'inferolater': 55, 'mionitor': 1, 'sludg': 28, 'qnd': 1, 'secrtion': 2, 'arrythmia': 19, 'keyboard': 1, 'peroid': 2, 'colect': 2, 'ii': 115, 'irreg': 30, 'expel': 7, 'dic': 21, 'incision': 23, 'necessit': 13, 'gel': 27, 'shigft': 1, 'reat': 1, 'stagei': 1, 'comand': 9, 'tic': 1, 'rehabilit': 42, 'perla': 36, 'simul': 3, 'paco': 17, 'fresh': 4, 'administ': 287, 'whiteish': 2, 'vdg': 3, 'becasu': 3, 'produc': 85, 'wnr': 9, 'advers': 22, 'dietwith': 1, 'copd': 210, 'fibrosi': 58, 'sux': 19, 'shock': 128, 'disloc': 30, 'gout': 27, 'metacarp': 5, 'scopolamin': 13, 'psh': 11, 'hoh': 27, 'glaucoma': 13, 'piec': 20, 'memori': 30, 'rncm': 1, 'creat': 170, 'tm': 105, 'coag': 90, 'quietli': 20, 'pneumoboot': 69, 'hire': 3, 'kiss': 2, 'phebotomi': 1, 'step': 81, 'daycar': 3, 'concentr': 54, 'smoke': 57, 'springhous': 1, 'lih': 1, 'prostrat': 2, 'wiggl': 37, 'bruis': 49, 'interact': 110, 'er': 95, 'children': 55, 'nqwmi': 3, 'everyth': 24, 'strongli': 29, 'pager': 73, 'repair': 67, 'gown': 14, 'funer': 2, 'ankl': 61, 'tsicu': 9, 'discolor': 12, 'abil': 75, 'asa': 137, 'intermittantli': 13, 'cocci': 45, 'demetia': 4, 'took': 90, 'remot': 40, 'gram': 187, 'etoh': 71, 'addedum': 2, 'big': 16, 'boarder': 6, 'inc': 134, 'stronger': 42, 'fx': 58, 'swab': 100, 'sao': 103, 'biliou': 48, 'lipitor': 23, 'ny': 3, 'lograd': 1, 'az': 2, 'urolog': 22, 'stood': 21, 'sev': 9, 'occaision': 12, 'consensu': 5, 'nonprod': 11, 'ness': 4, 'nondistend': 32, 'psoriasi': 6, 'privat': 13, 'lethargi': 54, 'dininish': 1, 'sw': 71, 'worker': 52, 'hypothroid': 3, 'alzheim': 35, 'pneumaonia': 1, 'pmhx': 63, 'familyinform': 1, 'rrl': 2, 'eaten': 9, 'neo': 41, 'occa': 91, 'revers': 48, 'rememb': 23, 'stooll': 1, 'fail': 152, 'nearbi': 10, 'stting': 1, 'iter': 2, 'dccv': 3, 'yell': 43, 'cardiovert': 4, 'fu': 13, \"have't\": 1, 'phx': 1, 'gasi': 1, 'carbidopa': 3, 'profound': 20, 'parkinson': 24, 'unsuccess': 81, 'geriatr': 9, 'toprol': 11, 'nimv': 6, 'standbi': 48, 'mur': 8, 'metabol': 122, 'slt': 5, 'sudden': 34, 'maalox': 7, 'physician': 315, 'backrub': 6, 'xl': 16, 'lotion': 44, 'levodopa': 2, 'carbadopa': 1, 'glu': 17, 'inturb': 1, 'regularli': 27, 'ccu': 73, 'succ': 12, 'keeppt': 1, 'uncompems': 1, 'constip': 130, 'unbroken': 12, 'visabl': 4, 'mhr': 6, 'blanch': 14, 'yof': 24, 'ex': 46, 'nebuils': 1, 'clairifi': 1, 'fullcod': 2, 'lopress': 5, 'transfuss': 2, 'contniu': 1, 'insitu': 11, 'glargin': 38, 'commenc': 20, 'statement': 9, 'yest': 69, 'pressurea': 1, 'blew': 2, 'combiv': 48, 'loosen': 26, 'continiu': 1, 'plu': 54, 'fem': 37, 'inatact': 2, 'scd': 12, 'pure': 85, 'humidifi': 77, 'thoracentesi': 88, 'hob': 164, 'fm': 69, 'paroxysm': 15, 'creami': 19, 'contiun': 2, '$': 12, 'hub': 4, 'kepft': 1, 'aim': 43, 'mainta': 13, 'distribut': 99, 'scoop': 4, 'enema': 30, 'diltiazem': 77, 'stope': 4, 'assesss': 3, 'humid': 13, 'tomorro': 1, 'rhonchu': 10, 'caregiv': 23, 'serev': 3, 'retain': 46, 'previuo': 2, 'stroke': 78, 'prong': 21, 'tighter': 7, 'prevent': 97, 'brought': 129, 'term': 160, 'visist': 4, 'daibet': 1, 'methylprednisolon': 22, 'partak': 1, 'looser': 5, 'midnoc': 30, 'blow': 7, 'audilb': 1, 'stab': 6, 'niec': 21, 'solumedrol': 70, 'sp': 88, 'pule': 3, 'giver': 6, 'add': 219, 'disc': 45, 'wheezi': 56, 'bid': 89, 'easier': 18, 'thisd': 1, 'exac': 8, 'inflamm': 58, 'neic': 13, 'remian': 28, 'hyperoxygen': 3, 'nebulis': 1, 'fleet': 18, 'clearer': 37, 'wihtout': 5, 'iss': 71, 'anxiolyt': 12, 'sir': 37, 'reluct': 11, 'program': 41, 'author': 16, 'pl': 105, 'kinair': 38, 'tazo': 24, 'kleb': 9, 'alkalin': 60, 'nr': 12, 'lebsiella': 1, 'hyperventil': 14, 'spend': 11, 'atc': 54, 'activit': 3, 'bare': 35, 'nebul': 73, 'indemn': 1, 'iu': 151, 'toothbrush': 1, 'atelectat': 74, 'laundri': 1, 'ventiatori': 1, 'figiti': 2, 'klebsiella': 18, 'ointment': 41, 'fluoro': 90, 'ciprofloxacin': 60, 'tco': 194, 'lmw': 9, 'nchct': 6, 'tc': 64, 'rrr': 156, 'variou': 55, 'mgmt': 24, 'typic': 42, 'toliet': 13, 'bedcloth': 1, 'comfrot': 1, 'ontcool': 1, 'afb': 29, 'hello': 2, 'mmol': 214, 'subacut': 15, 'est': 15, 'kub': 49, 'mycolyt': 2, 'macu': 28, 'told': 62, 'assur': 17, 'inquir': 10, 'grab': 12, 'sate': 74, 'glenohumer': 13, 'relaps': 8, 'qod': 21, 'undetermin': 25, 'micro': 101, 'passey': 16, 'perfom': 3, 'durat': 69, 'qdaili': 5, 'sqh': 33, 'resusit': 11, 'piperacillin': 106, 'enterrococcu': 1, 'cmp': 3, 'pursu': 51, 'bili': 173, 'alt': 179, 'thurday': 1, 'protein': 108, 'spuriou': 3, 'airmov': 3, 'arrang': 32, 'grimic': 1, 'lipas': 73, 'bradycardia': 104, 'feeed': 1, 'club': 114, 'origin': 143, 'leukocytpsi': 1, 'clench': 5, 'train': 35, 'medivis': 5, 'dip': 49, 'carotid': 57, 'stair': 44, 'notabl': 165, 'opthalm': 1, 'tobramycin': 20, 'uncomprehend': 1, 'mom': 27, 'ofr': 3, 'synthroid': 24, 'nl': 92, 'establish': 57, 'gentamicin': 17, 'tomm': 10, 'op': 105, 'metavis': 34, 'empir': 119, 'cbi': 7, 'skill': 23, 'sfa': 8, 'understood': 12, 'caspofungin': 6, 'ast': 167, 'infxn': 24, 'coccu': 2, 'planner': 4, 'stretch': 10, 'hz': 5, 'alound': 1, 'cor': 14, 'myocard': 8, 'vitamin': 59, 'aureu': 22, 'tap': 81, 'aerob': 45, 'conduct': 88, 'magnesium': 150, 'winc': 12, 'hygein': 17, 'mov': 2, 'vit': 50, 'liaison': 6, 'deliriu': 3, 'elexir': 1, 'postur': 47, 'among': 4, 'cloud': 3, 'layer': 110, 'photic': 1, 'ime': 1, 'ventilatiori': 1, 'cachect': 21, 'succeed': 5, 'interest': 28, 'knowledg': 21, 'decondit': 45, 'ngtd': 82, 'dysynchroni': 76, 'till': 54, 'meur': 1, 'coloni': 11, '|': 12, 'hemithorax': 114, 'whi': 61, 'ant': 31, 'carb': 7, 'prepar': 79, 'sqi': 15, 'tire': 82, 'fibrinogen': 35, 'caspo': 3, 'presumpt': 19, 'destin': 74, 'bottl': 59, 'statin': 75, 'valvl': 1, 'gip': 1, 'contractur': 15, 'irregularli': 21, 'straight': 25, 'pan': 93, 'flight': 21, 'tightli': 4, 'aero': 1, 'phosphat': 65, 'comprehens': 9, 'sternal': 63, 'reconnect': 2, 'occipit': 22, 'sunday': 23, 'reinflat': 5, 'blocker': 131, 'supra': 11, 'quieter': 4, 'obstacl': 6, 'dilig': 2, 'failr': 1, 'transthorac': 33, 'probe': 29, 'consectut': 1, 'contro': 1, 'dimer': 18, 'spot': 83, 'pneumo': 49, 'microbiolog': 154, 'bmi': 69, 'inspiratori': 80, 'mycobacterium': 4, 'bacteremia': 70, 'autoflow': 47, 'constantli': 30, 'ween': 8, 'disorgan': 2, 'rod': 53, 'muir': 33, 'glabrata': 1, 'apprec': 6, 'qday': 22, 'disturb': 19, 'resussit': 7, 'organ': 171, 'enoxaparin': 7, 'yeast': 83, 'tell': 38, 'hep': 139, 'aecret': 1, 'legionella': 129, 'fi': 66, 'frog': 2, 'hctz': 16, 'debilit': 5, 'repleat': 74, 'enterococcu': 19, 'nard': 31, 'pvd': 45, 'bud': 16, 'shallowli': 2, 'wore': 13, 'saturday': 18, 'compromis': 44, 'mumbl': 17, 'uroin': 1, 'mic': 41, 'mgt': 21, 'resassur': 3, 'locomot': 31, 'outlin': 115, 'flexion': 23, 'amylas': 71, 'pgt': 5, 'rpr': 15, 'ineffect': 48, 'press': 94, 'lot': 65, 'assoc': 28, 'throw': 9, 'soap': 21, 'deepli': 10, 'substanti': 145, 'reoccur': 5, 'esbl': 17, 'postpon': 18, 'diaper': 18, 'linezolid': 33, 'unimprov': 4, 'challeng': 38, 'ssri': 60, 'bradycard': 38, 'lul': 153, 'heent': 169, 'erect': 65, 'teeth': 118, 'obvious': 17, 'vasopressor': 22, 'depart': 37, 'septicemia': 5, 'attni': 1, 'chlorhexidin': 29, 'hospic': 22, 'clarifi': 54, 'vavl': 1, 'occai': 2, 'stemi': 17, 'oo': 4, 'alo': 55, 'thursday': 27, 'ionli': 1, 'pleth': 12, 'frame': 34, 'crust': 9, 'rhonchrou': 5, 'manufactur': 70, 'deciph': 2, 'outcom': 15, 'kinear': 3, 'frighten': 5, 'inabl': 89, 'import': 48, 'patiet': 2, 'synergi': 2, 'micropunctur': 66, 'plantar': 8, 'repac': 1, 'acei': 26, 'palli': 31, 'cytokin': 1, 'knee': 81, 'antifung': 42, 'myopathi': 11, 'icd': 51, 'integumentari': 91, 'tubular': 12, 'snx': 13, \"yesterday'\": 4, 'guard': 89, 'hypodens': 91, 'passi': 29, 'fast': 47, 'mri': 118, 'hgb': 88, 'sequela': 28, 'cefuroxim': 4, 'tear': 94, 'flora': 37, 'aggit': 48, 'zosyn': 185, 'cefepim': 107, 'retract': 35, 'inflict': 1, 'failri': 1, 'diastol': 173, 'bacilli': 3, 'closs': 2, 'fascil': 1, 'educ': 63, 'intoler': 85, 'klesiella': 1, 'interm': 9, 'featur': 22, 'cachet': 9, 'cluster': 40, 'ausc': 9, 'overwelm': 1, 'wo': 19, 'custom': 2, 'ami': 11, 'cataract': 35, 'rub': 157, 'barrier': 135, 'ensur': 85, 'transit': 207, 'entercocc': 1, 'synchron': 65, 'ioniz': 114, 'fluctuat': 57, 'oropharyng': 105, 'spous': 15, 'albumin': 144, 'holiday': 7, 'shallow': 50, 'across': 41, 'rpe': 40, '^nd': 36, 'dig': 40, 'bg': 40, 'subglott': 16, 'unassist': 29, 'variat': 31, 'funal': 1, 'epileptiform': 4, 'injuri': 96, 'derecruit': 4, 'hope': 112, 'merepenem': 8, 'loc': 21, 'asse': 1, 'ncat': 18, 'chlorhex': 6, 'resist': 87, 'torulopsi': 1, 'mngt': 4, 'ophthalm': 5, 'toeveri': 1, 'oxid': 14, 'rg': 3, 'unarous': 4, 'buit': 1, 'recur': 27, 'emotiion': 1, 'lasic': 4, 'trimethoprim': 25, 'vesta': 44, 'narr': 28, 'poss': 55, 'ophtho': 1, 'never': 49, 'common': 139, 'ppm': 23, 'ranitidin': 23, 'tuesday': 33, 'ecchymos': 31, 'zantac': 12, 'misinform': 1, 'awit': 2, 'caco': 4, 'ldh': 153, 'fee': 19, 'nitric': 7, 'vre': 36, 'hae': 2, 'folat': 41, 'breakthrough': 30, 'soil': 5, 'scab': 27, 'mellitu': 50, 'mouthcar': 12, 'handl': 23, 'flexor': 5, 'clarif': 49, 'reschedul': 9, 'anticoag': 12, 'contain': 102, 'incident': 44, 'supoprt': 2, 'suctiong': 2, 'ace': 68, 'mrsa': 152, 'bicarb': 53, 'heo': 1, 'simvastatin': 44, 'bacteri': 145, 'olanazipin': 1, 'distanc': 53, 'alk': 181, 'vreand': 1, 'ctab': 39, 'polypharmaci': 4, 'sulfa': 30, 'cg': 42, 'ampul': 1, 'unlik': 120, 'month': 144, 'exhal': 32, 'fungemia': 3, 'claim': 69, 'redrawn': 8, 'toxic': 54, 'reattach': 2, 'gen': 138, 'reconsult': 28, 'salin': 92, 'pmn': 48, 'dehydr': 52, 'siani': 1, 'payer': 3, 'nitrat': 11, 'snd': 28, 'exsuffl': 7, 'vb': 3, 'acknowledg': 22, 'cavern': 16, 'polio': 3, 'ntinu': 2, 'particp': 1, 'leuk': 15, 'calc': 62, 'furosemid': 119, 'andthat': 1, 'motor': 77, 'dicharg': 2, 'assest': 1, 'maximum': 26, 'background': 33, 'apnvol': 4, 'gnr': 69, 'submit': 37, 'syndrom': 105, 'jaundic': 83, 'unspecifi': 4, 'render': 14, 'djd': 9, 'gasp': 7, 'eeg': 31, 'zocor': 13, 'speci': 10, 'con': 48, 'versu': 138, 'postiv': 14, 'emphas': 104, 'frm': 2, 'mycobacteria': 3, 'epitheli': 34, 'role': 48, 'calcul': 35, 'friend': 73, 'omit': 6, 'outupt': 1, 'cognit': 73, 'staph': 51, 'ongo': 130, 'uub': 1, 'unfortun': 29, \"trach'd\": 3, 'paralyz': 81, 'grimacc': 1, 'cult': 21, 'weekend': 58, 'recurr': 162, 'multifactori': 49, 'gic': 1, 'veget': 57, 'esp': 45, 'drsg': 41, 'typeii': 1, 'painm': 2, 'enterococca': 1, 'sensori': 37, 'annual': 1, 'carbon': 23, 'thiamin': 17, 'uti': 106, 'diurees': 1, 'fungal': 82, 'usag': 11, 'intracran': 1, 'svr': 10, 'puddl': 1, 'ucx': 60, 'anaerob': 19, 'masshealth': 6, 'exhaust': 14, 'sulfamethoxazol': 13, 'dwindl': 5, 'messag': 19, 'peridex': 16, 'deir': 1, 'optho': 1, 'mrg': 26, 'lscta': 16, 'resourc': 7, 'occup': 90, 'lawyer': 7, 'vitb': 1, 'improvemt': 1, 'deflat': 36, 'rtc': 22, 'propot': 2, 'troubleshoot': 2, 'chlorthiazid': 1, 'rsb': 2, 'anion': 18, 'bypass': 19, 'vehicl': 4, 'nab': 35, 'coordin': 47, 'lax': 17, 'learn': 7, 'file': 14, 'ventilatori': 150, 'ethic': 7, 'mattress': 37, 'waveform': 101, 'cbc': 52, 'count': 156, 'reeval': 13, 'anterioli': 1, 'investig': 20, 'bue': 31, 'compani': 12, 'benefit': 141, 'confer': 11, 'bu': 15, 'straighten': 5, 'speciat': 35, 'asses': 21, 'prot': 10, 'realist': 4, 'inward': 3, 'therapuet': 6, 'attach': 18, 'nonsens': 12, 'leukocytosi': 169, 'delerium': 24, 'specieat': 1, 'truli': 12, 'acheiv': 7, 'vna': 16, 'mirtazapin': 8, 'ryhtym': 1, 'bilirubin': 61, 'gum': 5, 'surgic': 173, 'grasp': 27, 'morpholog': 37, 'growth': 91, 'resumpt': 9, 'supposedli': 2, 'diffacult': 1, 'worri': 12, 'uncompl': 67, 'way': 86, 'radiu': 10, 'natur': 56, 'correctli': 14, 'llax': 1, 'tracheal': 73, 'frusemid': 3, 'finesh': 1, 'garbl': 25, \"'no\": 2, 'weekli': 15, 'pedn': 3, 'financi': 7, 'suppli': 13, 'physcial': 1, 'pip': 139, 'ideal': 127, 'apart': 29, 'toelrat': 4, 'joint': 115, 'goe': 42, 'encephalomalacia': 8, 'malnutrit': 50, 'inplac': 25, 'fungu': 9, 'futur': 88, 'jr': 9, '^th': 23, 'transffer': 8, 'vocal': 69, 'cyanosi': 130, 'osm': 20, 'intraventricular': 45, 'stain': 111, 'meaning': 4, 'wk': 58, 'involvemt': 1, 'discontinu': 139, 'pay': 11, 'pct': 5, 'diinish': 1, 'front': 18, 'elig': 3, 'ard': 145, 'voluntarili': 3, 'tpa': 22, 'senna': 94, 'strengthen': 13, 'etc': 106, 'ppx': 115, 'oint': 10, 'compet': 11, 'relev': 67, 'ntnd': 33, 'heliox': 5, 'discusss': 2, 'sensitivit': 4, 'whenev': 17, 'approv': 59, 'errat': 17, 'equip': 23, 'backup': 7, 'hypercholesterolemia': 34, 'deduct': 2, 'lactic': 220, 'commmand': 1, 'fold': 35, 'ddx': 55, 'involut': 8, 'olanzapin': 27, 'gentl': 74, 'extr': 32, 'polici': 7, 'sick': 35, 'bc': 83, 'decompens': 90, 'resit': 20, 'identif': 12, 'bal': 84, 'rwma': 2, 'dull': 81, 'permit': 14, 'cancel': 34, 'bac': 9, 'writer': 8, 'finish': 77, 'ocular': 4, 'reappli': 33, 'interview': 9, 'hip': 87, 'protect': 258, 'papillari': 44, 'necrosi': 20, 'ceas': 6, 'ass': 26, 'atherosclerot': 97, 'kcal': 81, 'encourgag': 3, 'currrent': 5, 'csb': 1, 'hoyer': 6, 'stiumuat': 1, 'inservic': 1, 'chg': 21, 'plateau': 78, 'lean': 20, 'grow': 60, 'alittl': 9, 'phosphoru': 105, 'dysynchronu': 1, 'rout': 93, 'ceftazidim': 26, 'cardiologist': 14, 'sharp': 45, 'cefazolin': 16, 'galabrata': 1, 'mucou': 103, 'ltac': 15, 'myco': 3, 'anticoagul': 128, \"c'd\": 22, 'compent': 1, 'reattempt': 12, 'obtian': 1, 'rta': 5, 'phonat': 8, 'toxin': 25, 'fundu': 20, 'cohlecyst': 1, 'motil': 16, 'succinycholin': 1, 'temporarili': 14, 'chose': 2, 'levoquin': 71, 'lcontinu': 1, 'duski': 12, 'cabl': 2, 'technologist': 2, 'foerarm': 1, 'inter': 3, 'beyond': 58, 'conspicu': 14, 'fdg': 29, 'fwb': 19, 'ful': 5, 'wbcc': 2, 'careweb': 13, 'uncahng': 1, 'amelior': 2, 'rescreen': 6, 'disp': 5, 'lcode': 1, 'women': 13, 'periph': 25, 'ascit': 86, 'territori': 45, 'splenic': 38, 'comp': 6, 'descend': 76, 'peri': 67, 'duct': 70, 'relay': 12, 'trim': 17, 'iddm': 20, 'unifoc': 5, 'pearl': 56, 'cov': 11, 'mvt': 5, 'suit': 51, 'keflex': 9, 'postpylor': 6, 'subdur': 21, 'weakli': 34, 'punctat': 17, 'asymmmetr': 1, 'shoot': 9, 'hypopharyng': 3, 'throught': 12, 'dilut': 41, 'reproduc': 4, 'unsuit': 3, 'acalc': 3, 'etomid': 10, 'offset': 5, 'pit': 80, 'nph': 44, 'viscou': 14, 'captopril': 56, 'bottom': 28, 'larm': 2, 'unwil': 4, 'vp': 12, 'dyspepsia': 3, 'retinopathi': 8, 'ganz': 17, 'hypernatrimia': 1, 'manipul': 31, 'nst': 9, 'zero': 13, 'definit': 207, 'hypo': 58, 'comf': 11, 'trough': 91, 'stockinett': 1, 'occl': 1, 'apsolut': 1, 'gastroparesi': 8, 'mesenter': 70, 'mcq': 28, 'ulnar': 8, 'mucoid': 24, 'palpat': 107, 'trietz': 1, 'stare': 10, 'profoundli': 10, 'isodens': 5, 'bottuck': 1, 'duodem': 1, 'wir': 1, 'lasi': 2, 'retroperiton': 74, 'epitaxi': 2, 'reddend': 2, 'introduc': 48, 'fingerstick': 72, 'nephrogram': 4, 'cephalad': 5, 'sump': 7, 'presuur': 1, 'affirm': 6, 'ventriculoperiton': 3, 'mrsh': 1, 'insuffl': 11, 'kump': 10, 'hourli': 52, 'facial': 65, 'groin': 77, 'nasotrach': 19, 'multipodi': 11, 'couldnt': 1, 'radiopaqu': 14, 'optim': 115, 'caudad': 2, 'stv': 15, 'trachealbronch': 1, 'pericholecyst': 22, 'intraperiton': 31, 'tracheobronc': 1, 'coupl': 65, 'intra': 130, 'protonix': 109, 'pcn': 28, 'regain': 16, 'perinium': 1, 'format': 65, 'gluocos': 1, 'slate': 2, 'five': 33, 'hematoma': 87, 'gaol': 3, 'superstiff': 2, 'ped': 2, 'wedg': 26, 'zoloft': 14, 'anplatz': 1, 'usus': 1, 'captoril': 2, 'yeasti': 8, 'ventriculo': 1, 'fsb': 61, 'wil': 5, 'perinephr': 15, 'breat': 5, 'hypoxemia': 159, 'trumpet': 13, 'pharynx': 30, 'diverticul': 36, 'disent': 1, 'reidual': 1, 'pylor': 32, 'albut': 6, 'contanct': 1, 'ultrac': 8, 'shunt': 33, 'erythemat': 32, 'hypoglycemia': 29, 'swan': 20, \"nts'ing\": 3, 'effct': 3, 'vasc': 5, 'strenghth': 1, 'cultu': 2, 'narcan': 14, 'travers': 16, 'cvl': 114, 'subcutan': 122, 'ligament': 19, 'ptx': 112, 'rult': 1, 'secreat': 60, 'dssg': 12, 'quinin': 2, 'fluro': 5, 'dollar': 3, 'appendix': 14, 'ud': 16, 'recaptur': 2, 'periton': 25, 'paramedian': 7, 'resolut': 184, 'dup': 15, 'nare': 44, 'undergo': 33, 'preexist': 9, 'flexitract': 2, 'convex': 14, 'inconsistanti': 1, 'excori': 46, 'captropril': 4, 'tracheobronch': 6, 'swang': 1, 'choic': 32, 'pluggi': 12, 'pigtail': 36, 'lp': 39, 'chole': 6, 'artlin': 2, 'resudu': 2, 'pap': 33, 'elixir': 9, 'scar': 85, 'flumazenil': 2, 'waffl': 23, 'ruq': 51, 'dibilit': 1, 'rim': 16, 'vpshunt': 1, 'perk': 1, 'intrabdomin': 5, 'intrapelv': 8, 'pancreat': 61, 'yerterday': 1, 'strenght': 7, 'ostomi': 21, 'gyral': 1, 'triphas': 5, 'nn': 3, 'moderatli': 1, 'attemp': 7, 'flex': 28, 'disus': 1, 'tarsal': 1, 'fiber': 82, 'dorsum': 2, 'intiat': 4, 'neutral': 16, 'fli': 4, 'subacromi': 1, 'tbb': 25, 'im': 24, 'subcort': 24, 'bright': 26, 'recenli': 1, 'subscapulari': 2, 'dimens': 34, 'gadolinium': 35, 'pcxr': 12, 'unusu': 30, 'cmi': 3, 'fourth': 15, 'gross': 75, 'signal': 48, 'extensor': 3, 'diaphret': 1, 'infraspinatu': 2, 'fifth': 10, 'decub': 67, 'lordot': 5, 'tea': 15, 'occn': 8, 'withrr': 1, 'bicep': 6, 'mellow': 1, 'unsucessful': 1, 'hem': 27, 'sepi': 3, 'pneumococc': 25, 'pneum': 4, 'clavicular': 13, 'fewer': 11, 'solid': 132, 'magnevist': 35, 'settign': 3, 'navicular': 4, 'substanc': 12, 'pneumoni': 4, 'stir': 8, 'mgm': 30, 'plexopathi': 1, 'strep': 32, 'eet': 1, 'scratchi': 2, 'articular': 6, 'nearli': 59, 'hyperemia': 6, 'ltr': 5, 'moist': 52, 'diprivan': 1, 'cchr': 8, 'nuclear': 6, 'beplac': 1, 'numer': 73, 'rusti': 12, 'tiolet': 4, 'diminut': 7, 'diaph': 2, 'dulcolax': 36, 'lightli': 71, 'linear': 77, 'humer': 23, 'prof': 1, 'suspicion': 74, 'supraspinatu': 2, 'roughli': 15, 'ble': 57, 'plain': 29, 'obl': 3, 'osteomyel': 22, 'cardio': 54, 'quick': 26, 'cuboid': 1, 'pox': 14, 'subdeltoid': 1, 'spontrr': 1, \"cx'ed\": 1, 'aberr': 9, 'cuneiform': 1, 'conintu': 4, 'musculotendin': 1, 'pd': 14, 'labrum': 1, 'uncertain': 38, 'extrasystol': 6, 'feasabl': 1, 'necrot': 40, 'supp': 43, 'pneu': 2, 'phenomenon': 10, 'urpc': 2, 'osa': 48, 'metatars': 3, 'medicin': 56, 'tommorrow': 18, 'els': 16, 'bursa': 3, 'peerla': 6, 'abscess': 119, 'massiv': 38, 'posteriorli': 51, 'gage': 2, 'saliva': 5, 'rythm': 19, 'posterolater': 9, 'acromi': 1, 'affebril': 1, 'airport': 1, 'marrow': 31, 'nois': 18, 'arrous': 13, 'yearold': 1, 'six': 39, 'deform': 50, 'cat': 23, 'anusol': 2, 'flood': 2, 'contnu': 3, 'absc': 3, 'axox': 11, 'multidetector': 54, 'doze': 42, 'hemo\\x13rrhoid': 1, 'oreint': 5, 'nibp': 44, 'pertrud': 1, 'shakey': 2, 'hematuria': 45, 'yeseterday': 1, 'broken': 48, 'speach': 11, 'periureter': 2, 'personnel': 4, 'printer': 1, 'malfunct': 7, 'radiolgist': 1, 'ax': 90, 'largest': 47, 'vapor': 1, 'laser': 5, 'atyp': 95, 'maint': 23, 'urosepsi': 14, 'crystal': 6, 'uret': 25, 'vaopriz': 1, 'smooth': 16, 'store': 11, 'echogen': 56, 'pole': 56, 'exophyt': 13, 'hypoecho': 9, 'ctu': 1, 'jitteri': 4, 'coopert': 3, 'tranport': 2, 'basalar': 1, 'klibesella': 1, 'dentur': 48, 'bay': 2, 'inct': 2, 'misk': 1, 'bark': 2, 'hygen': 10, 'ach': 22, 'diphoret': 1, 'adedqu': 1, 'headach': 104, 'pee': 7, 'forc': 25, 'irrit': 34, 'hack': 5, 'otherwsi': 1, 'constant': 62, 'explan': 44, 'bronchosast': 1, 'lobar': 45, 'tight': 49, 'ced': 58, 'satu': 4, 'react': 39, 'failer': 1, 'kilo': 2, 'readjust': 11, 'eupneic': 2, 'hhtm': 1, 'fear': 15, 'fhp': 35, 'wt': 59, 'remaian': 2, 'dischar': 1, 'median': 42, 'sympomat': 1, 'althought': 4, 'psychosoci': 34, 'stagger': 5, 'dermi': 2, 'inlet': 91, 'dangl': 16, 'unbutton': 1, 'decannul': 8, 'dt': 18, 'hose': 2, 'rep': 14, 'followand': 1, 'hydrostat': 10, 'doublegard': 1, 'stoma': 26, 'cleaner': 10, 'historian': 14, 'prec': 21, 'sternotomi': 60, 'cxray': 24, 'column': 6, 'unbrocken': 2, 'appi': 14, 'bedtim': 31, 'fam': 18, 'trazodon': 22, 'hypotherm': 20, 'sig': 59, 'metoprolo': 5, 'outli': 1, 'snack': 9, 'electoly': 1, 'receiev': 6, 'exaserb': 2, 'argantroban': 1, 'hugger': 20, 'incourag': 5, 'lle': 45, 'lisinipril': 2, 'mth': 4, 'mgso': 17, 'captipril': 2, 'reserv': 20, 'strengh': 1, 'hit': 35, 'packet': 21, 'bair': 14, 'hr^': 2, 'miur': 2, 'reevalu': 45, 'flash': 44, 'random': 36, 'argatroban': 3, 'receievd': 2, 'aplli': 7, 'ptmay': 1, 'draig': 1, 'stem': 20, 'tansfer': 1, 'admiit': 2, 'cadiac': 3, 'triazidon': 1, 'therapeud': 2, 'shedul': 3, 'azithromycin': 121, 'upto': 20, 'shovel': 54, 'atr': 62, 'cefriaxon': 5, 'afebriel': 2, 'oxycodon': 90, 'pacer': 63, 'draft': 2, 'twitch': 9, 'drplet': 1, 'occas': 27, 'loperessor': 1, 'vpace': 9, 'hemodynamci': 5, 'wrong': 24, 'deferves': 1, 'power': 28, 'deposit': 11, 'woken': 14, 'recehck': 1, 'cloudi': 71, 'elsewher': 15, \"sx'ing\": 13, 'ut': 5, 'wosen': 2, 'yankor': 1, 'nerpo': 1, 'outpu': 1, 'accur': 40, 'ddd': 10, 'acidemia': 11, \"tx'ed\": 6, 'perman': 24, 'andw': 1, 'needi': 2, 'choke': 38, 'tolert': 7, 'spiromet': 43, 'cook': 6, 'beextub': 1, 'inutb': 1, 'ord': 1, 'resecur': 2, 'phlegm': 18, 'fsg': 16, 'nepro': 13, 'reappear': 4, 'incent': 70, 'adher': 11, 'eri': 2, 'unreason': 1, 'disregard': 7, 'clavicl': 35, 'calib': 99, 'hypokalem': 1, 'fgd': 2, 'dev': 5, 'vnaco': 1, 'insuln': 2, 'througho': 1, 'coulf': 1, 'qt': 26, 'leftward': 46, 'temporari': 33, 'epistaxi': 45, 'iurs': 1, 'underw': 60, 'circular': 3, 'draingag': 2, 'digit': 12, 'serou': 54, 'ota': 18, 'weep': 31, 'languag': 88, 'steam': 5, 'unlabour': 7, 'additiona': 1, 'nailb': 14, 'nonverb': 35, 'hydralazin': 63, 'twenti': 11, 'mon': 124, 'midnit': 17, 'danger': 9, 'presept': 6, 'cpr': 21, 'puffi': 5, 'applesauc': 57, 'favor': 43, 'takennoff': 1, 'dilt': 76, 'reexpans': 17, 'pose': 4, 'auto': 36, 'zyrexa': 2, 'adapt': 21, 'sotalol': 3, 'foe': 7, '^bp': 5, 'toleat': 2, 'sluggishli': 5, 'psycho': 2, 'weepi': 12, 'aquacel': 12, 'agreement': 29, 'wise': 8, 'florid': 1, 'agent': 51, 'whotish': 1, 'ic': 10, 'rational': 10, \"today'\": 14, 'autodiuresi': 18, 'opressor': 1, 'mp': 20, 'enjoy': 11, 'bifurc': 20, 'perfit': 4, 'antiobx': 1, 'pearla': 1, 'grand': 14, 'tibia': 6, 'succinylcholin': 5, 'bilatar': 2, 'ansarca': 2, 'bloood': 2, 'probal': 37, 'hook': 6, 'adv': 21, 'zyprexia': 10, 'miconazol': 35, 'ramp': 8, 'hypernatremai': 1, 'hiss': 49, 'bmx': 16, 'rewir': 2, 'univ': 7, 'openn': 1, 'asymetr': 1, 'cop': 14, 'reinstiut': 1, 'carin': 11, 'nu': 7, 'strongh': 2, 'rl': 13, 'cycl': 71, 'copiu': 12, '^^frequent': 1, 'multipod': 6, 'extrim': 19, 'dieuresi': 4, 'hcl': 36, 'copmlet': 1, 'barium': 84, 'pta': 59, 'tracheomalacia': 19, 'oversed': 17, 'tab': 61, 'postop': 31, 'laryngoscop': 1, 'wan': 1, 'arrhythmia': 79, 'mouthwash': 5, 'seroquel': 32, 'neosynephrin': 10, 'trop': 71, 'alway': 56, 'downward': 39, 'bupropion': 4, 'ric': 1, 'dysphagia': 89, 'tracheocutan': 1, 'idos': 1, 'recordsheparin': 1, 'decadron': 16, 'stridor': 27, 'lunch': 40, 'sa': 18, 'interfer': 5, 'dcd': 18, 'requr': 6, 'penetr': 74, 'tracheobronchiomalacia': 1, 'gotten': 16, 'quetiapin': 8, 'wwp': 25, 'treatement': 5, 'slp': 69, 'normoact': 16, 'lorazepam': 66, 'lamotrigin': 4, 'tazobactam': 90, 'pantoprazol': 96, 'euvolem': 48, 'lamict': 3, 'offici': 17, 'bcx': 81, 'worrisom': 46, 'ecg': 124, 'ofm': 13, 'inadequ': 59, 'fistula': 48, 'rigid': 34, 'seed': 4, 'video': 113, 'gallop': 65, 'mvv': 2, 'nocturn': 15, 'mmm': 83, 'rd': 48, 'robitussin': 14, 'scope': 18, 'intersti': 4, 'shape': 28, 'pseudomona': 54, 'distant': 119, 'thrombocytosi': 11, 'calori': 62, 'bronchospasm': 27, 'caution': 18, 'jrld': 8, 'bee': 35, 'intraabdomin': 26, 'ipratroprium': 7, 'supraglott': 2, 'guidelin': 14, 'vicodin': 12, 'closur': 34, 'bactermia': 8, 'delin': 29, 'anithypertens': 2, 'sensat': 60, 'cipro': 73, 'lighten': 24, 'os': 47, 'nkfa': 15, 'bibasilr': 3, 'neither': 19, 'machin': 33, 'nectar': 85, 'contamin': 63, 'ppf': 7, 'vicoden': 1, 'eomi': 56, 'strict': 49, 'crush': 68, 'context': 38, 'hypocalor': 23, 'hyperlipidemia': 74, 'sertralin': 7, 'autoset': 12, 'heamodinam': 2, 'prudent': 4, 'burn': 23, 'granul': 14, 'tbm': 10, 'ao': 13, 'thrombocytopeni': 3, 'chanc': 20, 'cal': 49, 'organomegali': 41, 'thr': 5, 'proceed': 42, 'guaifenesin': 23, 'phenylephrin': 13, 'bronchoscopi': 101, 'arf': 112, 'atn': 44, 'hurt': 14, 'chin': 38, 'mention': 47, 'orthostat': 6, 'dosag': 42, \"amt'\": 1, 'border': 79, 'hcfa': 22, 'throughtout': 10, 'spacer': 16, 'probablyl': 1, 'regimin': 14, 'pnumonia': 6, 'laa': 16, 'latter': 14, 'basilar': 201, 'flovent': 23, 'releas': 32, 'raa': 13, 'appendag': 17, 'atheroma': 15, 'benzocain': 11, 'regul': 26, 'spray': 32, 'exagger': 13, 'utd': 2, 'certifi': 23, 'intcat': 1, 'asthma': 76, 'bronchopneumonia': 8, 'woke': 30, 'asd': 65, 'proce': 6, 'dizzy': 4, 'diarrhoea': 2, 'opert': 1, 'quadrent': 9, 'noncontrast': 26, 'intralumin': 43, 'drinkinhg': 1, 'entre': 1, 'drope': 8, 'halfway': 6, 'efus': 2, 'suptum': 4, 'leginella': 1, 'cardia': 11, 'aunt': 11, 'expor': 2, 'great': 102, 'compliant': 28, 'therepay': 1, 'whilst': 5, 'hepc': 6, 'tolerta': 4, 'thereor': 2, 'issacc': 1, 'tenou': 2, 'abus': 89, 'coughin': 2, 'maitain': 7, 'setteld': 1, 'someon': 21, 'tachi': 109, 'obliqu': 44, 'sober': 4, 'tele': 78, 'xr': 9, 'polysubst': 8, 'preacuat': 1, 'dirrhea': 3, 'incresa': 9, 'difus': 3, 'multidiciplanari': 2, 'malais': 29, 'user': 7, 'oedema': 2, 'pleurit': 50, 'salesman': 2, 'unoffici': 2, 'endocrin': 100, 'rac': 10, 'ivanbx': 2, 'notbal': 1, 'soung': 1, 'former': 26, 'clock': 21, 'fan': 9, 'bloodwork': 2, 'number': 88, 'minor': 63, 'clavian': 1, 'arrborn': 1, 'airborn': 13, 'sweat': 31, 'prouctiav': 1, 'housem': 1, 'tollert': 5, 'percent': 12, 'labe': 2, 'tachcardia': 3, 'invers': 48, 'inact': 4, 'systool': 1, 'dinner': 44, 'myo': 1, 'blastic': 40, 'tb': 35, 'svo': 30, 'reassurr': 3, 'monitot': 1, 'culter': 4, 'feasibl': 13, 'hrli': 23, 'surround': 117, 'partli': 23, 'emphysemat': 25, 'evalut': 20, 'atenolol': 23, 'amiben': 1, 'vesicl': 16, 'offic': 36, 'widen': 54, 'knew': 18, 'yeaterday': 4, 'priior': 1, 'paratrach': 55, 'exposur': 45, 'attenutaion': 1, 'osteolyt': 10, 'multiphas': 4, 'rightward': 32, 'phasether': 1, 'pseudocyst': 4, 'perfus': 108, 'hunger': 10, 'emphysema': 117, 'pancreatit': 6, 'cardiomedistin': 2, 'plaqu': 50, 'biliari': 93, 'nss': 10, 'pseudo': 8, 'ductal': 46, 'radiofrequ': 2, 'ablat': 14, 'inspir': 53, 'hypersensit': 15, 'asbesto': 18, 'wrote': 12, 'plueral': 7, 'plastic': 16, 'puffer': 1, 'wonder': 9, 'anomali': 3, 'chill': 93, 'portal': 69, 'cryptogen': 7, 'stent': 77, 'rfa': 2, 'bulla': 9, 'real': 21, 'aprox': 4, 'eosinophil': 23, 'hcc': 4, 'accentu': 13, 'celiac': 16, 'calciif': 1, 'jelli': 13, 'psych': 70, 'smoothli': 3, 'sizabl': 10, 'hila': 32, 'dome': 12, 'lingula': 51, 'nodular': 89, 'mix': 77, 'pouch': 7, 'anem': 6, 'iwht': 1, 'commut': 1, 'centrilobular': 30, 'sphincter': 10, 'predomin': 48, 'threat': 6, 'mandarin': 4, 'flexi': 16, 'azrithomycin': 1, 'bedbath': 7, 'indwel': 83, 'tue': 103, 'aortopulmonari': 5, 'refriger': 3, 'fluconazol': 22, 'cryptococc': 7, 'ampho': 1, 'ealier': 2, 'beter': 2, 'bsc': 6, 'nuse': 1, 'dat': 5, 'ile': 1, 'gradual': 81, 'dispos': 3, 'flucytosin': 1, 'mvmt': 7, 'atb': 7, 'montior': 12, 'asap': 25, 'dark': 88, 'difficutli': 8, 'maew': 14, 'acit': 6, 'door': 8, 'ambison': 2, 'ne': 16, 'beeper': 13, 'ppp': 44, 'stripe': 3, 'azythromycin': 8, 'amb': 30, 'toe': 64, 'induct': 11, 'antigen': 69, 'cardaic': 9, 'inhomogen': 2, 'serax': 2, 'calculi': 22, 'reas': 1, 'softner': 4, 'sarcoidosi': 8, 'mx': 5, 'alveol': 3, 'intralobular': 5, 'standpoint': 29, 'tail': 21, 'select': 26, 'meal': 67, 'prone': 20, 'thhat': 1, 'rib': 92, 'bigemini': 18, 'textur': 18, 'conjunct': 77, 'bigm': 1, 'bronchu': 48, 'asymp': 1, 'thorax': 53, 'decreaz': 1, 'resect': 60, 'sighn': 1, 'bronchiolectasi': 2, 'medrol': 12, 'station': 27, 'treament': 3, 'cross': 39, 'biopsi': 61, 'conves': 1, 'osmo': 2, 'traction': 12, 'spokesperson': 35, 'promari': 1, 'solu': 10, 'monit': 11, 'intrahepat': 39, 'hypoxem': 63, 'nonrebreath': 6, \"pvc'\": 2, 'trap': 26, 'sed': 47, 'bronchiectasi': 45, 'leni': 44, 'nutrient': 1, 'dedic': 30, 'interlobular': 12, 'hdsa': 3, 'joke': 5, 'strain': 28, 'chew': 16, 'ild': 15, 'aao': 19, 'wth': 10, 'undergon': 14, 'calif': 1, 'vat': 37, 'seri': 74, 'nomogram': 2, 'bt': 16, 'girlfriend': 9, 'onm': 1, 'evolv': 48, 'puntur': 1, 'ssc': 4, 'bolou': 4, 'eccentr': 18, 'scratch': 11, 'tronchant': 1, 'dement': 5, 'somul': 19, 'trochant': 5, 'barier': 1, 'bifront': 5, 'hypoglycem': 14, 'edg': 53, 'thalamu': 3, 'derang': 2, 'fore': 2, 'fainf': 1, 'solomn': 1, 'neutropho': 8, 'hygroma': 2, 'adeq': 31, 'pst': 2, 'oze': 1, 'edt': 2, 'lacunar': 20, 'occasionali': 7, 'mush': 3, 'sarna': 18, 'napho': 1, 'ccheck': 1, 'debrid': 14, 'hardwar': 28, 'inflow': 40, 'debried': 2, 'rewrit': 1, 'jet': 17, 'braeth': 2, 'therapaut': 1, 'statg': 1, 'trnasfus': 1, 'unwind': 1, 'wcn': 1, 'rhytham': 3, 'music': 5, 'pivot': 41, 'codien': 3, 'gluteal': 20, 'codein': 31, 'sundrom': 1, 'xtra': 3, 'medium': 40, 'superf': 2, 'contini': 3, \"'tire\": 1, 'thicker': 10, 'reang': 1, 'viust': 1, 'uninvolv': 2, 'bcome': 1, 'instil': 32, 'holist': 2, \"antibx'siv\": 1, 'ativa': 1, 'eldest': 2, 'montitor': 3, 'regurg': 10, 'serequel': 4, 'comapzin': 1, 'norepinephrin': 23, 'mildi': 20, 'cleanser': 21, 'activi': 1, 'bsx': 21, 'vasopressin': 17, 'lightheaded': 25, 'tighten': 22, 'sacrum': 45, 'episd': 1, 'altepas': 2, 'forehead': 7, 'litr': 15, 'facilit': 54, 'eith': 3, 'vigir': 1, 'rtw': 1, 'maex': 6, 'mul': 7, 'disted': 1, 'nausou': 1, 'diflucan': 6, 'preprocedur': 35, 'upbeat': 2, 'cefapim': 14, 'hyperoxemia': 3, 'ccn': 6, 'powed': 1, 'fleck': 5, 'passymuir': 1, 'antianxieti': 9, '^inr': 2, 'wateri': 21, 'sxd': 14, 'confluenc': 22, 'meditatin': 1, 'recev': 4, 'pat': 12, 'althoug': 1, 'suceed': 2, 'asynchronu': 1, 'realiz': 11, \"am't\": 3, 'lrg': 12, 'noutrit': 1, 'retap': 29, 'amio': 23, 'flip': 14, 'reticular': 17, 'pacemek': 1, 'baslin': 8, 'stretcher': 32, 'cefipim': 74, '^activ': 1, 'rr^': 2, 'toilett': 4, 'perian': 26, 'perirect': 10, 'wht': 4, 'guafenisen': 1, 'bradi': 37, 'ccq': 3, 'psupp': 8, 'gtube': 17, 'zip': 2, 'steriod': 27, 'podu': 8, 'revert': 11, 'syrup': 7, 'complementari': 1, 'appro': 4, 'rednessskin': 1, 'mlc': 4, 'dicis': 1, 'protex': 1, 'doctor': 25, 'hundr': 6, 'fliud': 5, 'bldi': 11, 'rhonchoru': 14, 'occaa': 1, 'breakdow': 1, 'gestur': 33, 'thyroid': 108, 'ultim': 33, 'hypoxaemiaand': 1, 'rsp': 11, 'comfortabl': 1, 'stert': 1, 'attemtpt': 2, 'acess': 6, 'yel': 18, 'incis': 54, 'amiod': 2, 'cefepin': 2, 'revertedcardiolog': 1, 'print': 11, 'thumb': 8, 'moderat': 1, 'towel': 6, 'hyperthyroid': 4, 'clonazapam': 3, 'methimazol': 3, 'rvr': 52, \"'rest\": 1, 'adventiti': 2, 'betweeen': 1, 'nervous': 1, 'additon': 7, 'breakdownn': 1, 'miconizol': 6, 'patenc': 32, 'fpp': 1, 'periipher': 1, 'admininst': 2, 'grossili': 1, 'predinson': 2, 'atril': 2, 'intubat': 3, 'electolyt': 8, 'inj': 6, 'ecchymosi': 20, 'belt': 9, 'save': 9, 'flipp': 1, 'atropin': 14, 'nsb': 8, 'weitht': 1, 'planninng': 1, 'alprazolam': 5, 'diureiss': 1, 'break': 43, 'abit': 6, 'ffp': 28, 'updatedon': 1, 'coccxi': 3, 'pnr': 2, 'clonazipam': 1, 'gt': 33, 'duflucan': 1, 'briskli': 20, 'sn': 4, 'sb': 107, 'spasmod': 1, 'dizzi': 43, 'amiodaron': 47, 'epidod': 1, 'decrea': 4, 'frewq': 1, 'pulmojnari': 1, 'resportedli': 3, 'airb': 9, 'avvess': 1, 'extremit': 28, 'pone': 2, 'naus': 3, 'pant': 4, 'disten': 8, 'transfert': 1, 'sacral': 42, 'postion': 16, 'xanax': 12, 'btwn': 6, 'rhinoviru': 1, 'sxned': 21, 'ordere': 3, 'nka': 4, 'brachi': 1, 'accumul': 18, 'play': 21, 'bend': 10, 'doppl': 2, 'longest': 2, 'foam': 16, 'homeopath': 2, 'prednison': 108, 'lopresor': 8, 'properli': 26, 'heplock': 18, 'redn': 2, 'occass': 22, 'perineum': 29, 'recevi': 4, 'urojet': 3, 'ukn': 1, 'granual': 1, 'aris': 18, 'tacheostomi': 2, 'drew': 3, 'warfarin': 35, 'wfl': 40, 'appoint': 30, 'pth': 4, 'entranc': 5, 'pictur': 57, 'implant': 9, 'flank': 40, 'tub': 6, 'hypovolemia': 51, 'spin': 8, 'clearanc': 58, 'yetserday': 1, 'squat': 5, 'tartrat': 29, 'convuls': 4, 'heb': 6, 'dronedaron': 1, 'cholecystostomi': 2, 'pulll': 1, 'seiz': 4, 'phlebiti': 3, 'tunnel': 48, 'phenytoin': 9, 'ttp': 20, 'monosodium': 1, 'dyslipidemia': 15, 'sustain': 42, 'moda': 13, 'palcement': 7, 'exud': 22, 'retri': 9, 'femor': 131, 'nonpit': 1, 'afterward': 26, 'diverticulosi': 33, 'flomax': 7, 'choley': 3, 'near': 151, 'surgeon': 12, 'rlq': 11, 'strenth': 2, 'readmit': 35, 'phenobarbit': 3, 'dye': 29, 'btca': 4, 'sure': 50, 'cabgx': 3, 'levetiracetam': 8, 'ug': 2, 'bsn': 20, 'triglycerid': 9, 'hair': 5, 'hypoperfus': 16, 'endur': 30, 'lipid': 15, 'dead': 12, 'dronederon': 1, 'vd': 13, 'intensivist': 3, 'supratherapeut': 25, 'unnecessari': 6, 'cast': 13, 'maxim': 37, 'abbrevi': 4, 'greatli': 37, 'endovascular': 2, 'alkolosi': 6, 'rins': 14, 'famotidin': 58, 'achhiev': 1, 'spars': 25, 'hap': 93, 'graft': 24, 'beneprotein': 28, 'risen': 3, 'plof': 7, 'serratia': 2, 'granular': 4, 'groom': 2, 'pharmaci': 42, 'kepra': 1, 'bromid': 33, 'mere': 9, 'bar': 6, 'simpli': 17, 'noninvas': 13, 'cholecystectomi': 39, 'absorb': 9, 'appt': 10, 'intermit': 30, 'resuspend': 1, 'hemoglobin': 9, 'dyspneic': 46, 'maxa': 8, 'sqt': 1, 'ipratropium': 74, 'antibioit': 1, 'lob': 15, 'trachemask': 1, 'doesnt': 5, 'redo': 10, 'inaccur': 5, 'protract': 4, 'epilept': 2, 'cue': 41, 'sens': 34, 'reb': 5, 'pafib': 3, 'cholecystosomi': 1, 'performac': 12, 'urea': 3, 'sem': 22, 'preced': 43, 'bph': 29, 'hypercalcemia': 10, 'load': 65, 'eob': 23, 'subtherapeut': 23, 'commens': 9, 'foami': 2, 'cholangiogram': 1, 'violent': 3, 'hotn': 13, 'redos': 12, 'glutam': 1, 'mmp': 10, 'confid': 6, 'ncm': 18, 'shif': 1, 'vdvt': 1, 'vc': 7, 'compart': 12, 'heat': 20, 'motiv': 9, 'vm': 11, 'household': 2, 'suspens': 13, 'ctx': 66, 'elect': 27, 'hyperthryoid': 1, 'telemetri': 56, 'yom': 31, 'warafin': 1, 'cholesterol': 12, 'environment': 1, 'platelet': 27, 'dobhuff': 1, 'vasotec': 7, 'hypothermia': 19, 'okay': 60, 'semiform': 5, 'unsucces': 4, 'discoid': 8, 'sugic': 1, 'oett': 27, 'anymor': 14, 'neutrophil': 10, 'aeros': 2, 'mural': 13, 'asystol': 2, 'writen': 1, 'angri': 25, 'ni': 6, 'hydralizin': 18, 'worst': 22, 'enalapril': 9, 'bsbl': 1, 'struggl': 7, 'othwis': 1, 'adaptec': 2, 'harsh': 13, 'arrest': 23, 'nightgown': 2, 'methylprednison': 11, 'xrt': 41, 'dictat': 70, 'pcw': 2, 'waist': 12, 'abat': 5, 'vaccum': 1, 'tumor': 44, 'decsion': 3, 'west': 20, 'crepitu': 27, 'metastat': 65, 'reprot': 2, 'nobodi': 2, 'proccess': 1, 'departur': 3, 'propfol': 7, 'stint': 1, 'conitinu': 2, 'bandaid': 9, 'hallucinatori': 2, 'armstorng': 1, 'currentlli': 1, 'escap': 5, 'shred': 1, 'paperwork': 34, 'taht': 2, 'permen': 2, 'ncp': 1, 'radiat': 80, 'tachyapen': 1, 'restarin': 1, 'peermenat': 1, 'setup': 7, 'ridgid': 2, 'suddenli': 12, 'harm': 8, 'notibl': 1, 'divorc': 6, 'lap': 19, 'unsucess': 2, 'thoracostomi': 8, 'releiv': 4, 'empti': 27, 'design': 36, 'terribl': 4, 'imv': 13, 'paralyt': 10, 'wrestl': 1, 'reccur': 3, 'oncologist': 18, 'diminis': 1, 'crew': 2, 'proof': 1, 'beggin': 1, 'gs': 21, 'midday': 3, 'delusioni': 1, 'maintenc': 2, 'attack': 20, 'desprat': 1, 'indian': 3, 'kill': 8, 'chemo': 44, 'subclav': 3, 'remiss': 6, 'kn': 1, 'leather': 3, 'smoker': 69, 'misc': 5, 'build': 17, 'bronchoscop': 10, 'nevertheless': 12, 'sorri': 4, 'flexibl': 5, \"'m\": 25, 'paranoid': 10, 'cordi': 10, 'hallucin': 33, 'drowsi': 14, 'clapm': 1, 'propof': 2, 'importantli': 4, 'lla': 8, 'multilpl': 1, 'oxicontin': 1, 'thrash': 17, 'moistur': 14, 'advantag': 2, 'orali': 1, 'henc': 8, 'oncolog': 34, 'neoplast': 14, 'medistin': 5, 'fom': 4, 'mo': 27, 'plum': 1, 'ivda': 4, 'brieflli': 1, 'segment': 205, 'presep': 18, 'uncoil': 2, 'neuropathi': 36, 'perecnt': 1, 'hcv': 23, 'thoughtout': 2, 'dryer': 2, 'consit': 5, 'azitromycin': 2, 'floey': 1, 'addict': 21, 'fhpa': 7, 'mgx': 4, 'morbid': 15, 'immidiatli': 1, 'tran': 16, 'aroussbl': 1, 'marker': 31, 'clonopin': 6, 'bariair': 3, 'communc': 2, 'colostomi': 17, 'bigboy': 1, 'clonipin': 5, 'tirat': 3, 'respiraotri': 3, 'bsf': 2, 'acinetobact': 3, 'amx': 3, 'serosang': 31, 'vicodan': 1, 'receipt': 2, 'adendun': 1, 'shilli': 1, 'closet': 2, 'draing': 12, 'avg': 9, 'pseudonoma': 1, 'catch': 7, 'vessl': 2, 'lit': 34, 'decel': 4, 'suprahilar': 10, 'capactiy': 1, 'mca': 17, 'panel': 49, 'siadh': 26, 'resposit': 7, 'porcin': 5, 'tricep': 3, 'difficil': 31, 'acccess': 2, 'italian': 4, 'courc': 1, 'htpn': 1, 'ferritin': 14, 'nitrit': 6, 'qhr': 8, 'profus': 14, 'equival': 14, 'hadsbp': 1, 'grimaci': 1, 'ascorb': 4, 'std': 5, 'brbpr': 10, 'rather': 82, 'hsq': 14, 'option': 51, 'hyperantremia': 1, 'eschar': 8, 'elderli': 34, 'cytolog': 26, 'freeli': 43, 'atter': 1, 'aa': 21, 'catheter': 18, 'bblocker': 6, 'inhibitor': 30, 'meropenim': 4, 'valid': 13, 'algorithm': 7, 'medntal': 1, 'anteriolater': 1, 'hemiparesi': 29, 'restrict': 89, 'hemipharesi': 1, 'sttw': 2, 'dashboard': 7, 'hyperosmolar': 1, 'avf': 27, 'nephrotox': 9, 'hf': 19, 'drench': 1, 'illicit': 10, 'perday': 1, 'invalid': 5, 'hrt': 21, 'haloperidol': 25, 'linazolid': 3, 'presur': 2, 'pottassium': 1, 'alleyvn': 1, 'cortisol': 27, 'sight': 8, 'ezmolol': 1, 'caliciu': 1, 'rca': 9, 'pk': 9, 'prioriti': 7, 'flexis': 31, 'rhoncor': 12, 'pda': 26, 'hemorrhoid': 9, 'account': 43, 'jksd': 18, 'yesterd': 1, \"ce'\": 3, 'nonstag': 1, 'alcohol': 96, 'somonl': 3, 'reassuringli': 1, 'blockad': 15, 'faster': 55, 'miner': 47, 'mdr': 8, 'def': 7, 'resrart': 1, 'multidrug': 2, 'hypoaldosteron': 2, 'rarr': 1, 'housestaff': 30, 'blacken': 5, 'ture': 5, 'grayscal': 79, '^rd': 13, 'normocyt': 10, 'anterolater': 39, 'broadli': 23, 'cardic': 1, 'crowd': 15, 'synthryoid': 1, 'clonidin': 14, \"dri'\": 1, 'fetl': 1, 'dng': 16, 'alkp': 1, 'protector': 2, 'dif': 8, 'upslop': 1, 'beta': 99, 'anterospt': 1, 'besid': 11, 'ipratrop': 2, 'syring': 11, 'neutra': 9, 'rigor': 26, 'sclera': 115, 'vigil': 4, 'chlorhexadin': 2, 'augment': 97, 'hear': 67, \"uti'\": 1, 'outsid': 75, 'anicter': 69, 'levof': 3, 'notat': 3, 'ste': 6, 'bilar': 2, 'pneumoperitoneum': 19, 'lcx': 9, 'pxdb': 7, 'buttack': 1, 'dhf': 3, 'solut': 24, 'nursig': 1, 'gr': 32, 'diaphoresi': 41, 'azygo': 14, 'pack': 74, 'png': 6, 'malposit': 24, 'pulmocar': 1, 'bind': 1, 'insid': 13, 'argu': 18, 'mulitivitamin': 1, 'tablet': 26, 'uncommun': 3, 'damag': 14, 'merepenum': 8, 'unstag': 8, 'jtube': 7, 'millimet': 2, 'metoclopramid': 15, 'epi': 25, 'sbo': 27, 'fulll': 1, 'odor': 14, 'worthwhil': 1, 'mag': 82, 'sun': 60, 'mvi': 38, 'healthcar': 40, 'disrrhea': 1, 'spfc': 15, 'coaurs': 1, 'toson': 1, 'gluc': 9, 'defici': 38, 'sundown': 15, 'juven': 1, 'ftt': 5, 'reciproc': 3, 'lad': 83, 'act': 60, 'honk': 1, 'exch': 18, 'ppd': 30, 'groan': 12, 'cerebrovascular': 11, 'clostridium': 20, 'sion': 1, 'hyperreson': 44, 'bound': 17, 'ratio': 24, 'qidach': 2, 'arhb': 9, 'improp': 1, 'agua': 1, 'perpher': 18, 'patellar': 3, 'intev': 3, 'tobacco': 77, 'allevyn': 21, 'ggt': 9, 'formula': 30, 'chemistri': 51, 'palc': 8, \"'out\": 1, 'nickel': 3, 'omeprazol': 43, 'muc': 1, 'peritoneum': 4, 'rhoncer': 7, 'bicarbon': 13, 'jxxb': 6, 'multivitamin': 59, 'unstabl': 30, 'isquit': 1, 'vsd': 39, 'twi': 18, 'retir': 29, 'meticul': 5, 'metop': 8, 'rsrc': 14, 'hyperglycemia': 82, 'repo': 17, 'suppl': 81, 'tw': 7, 'causal': 2, 'unk': 1, 'roscommon': 1, 'curent': 4, 'unerli': 1, 'neuto': 1, 'misplac': 5, 'angina': 13, 'ts': 41, 'maiten': 2, 'pud': 46, 'reclin': 13, 'attorney': 8, 'tetracyclin': 12, 'guardian': 14, 'fed': 22, 'repet': 7, 'cathey': 1, 'legal': 36, 'consolod': 2, 'ouput': 13, \"legionella'\": 1, 'itch': 21, 'advair': 35, 'fibroid': 7, 'miralax': 16, 'disimpact': 13, 'benzonat': 6, 'mssa': 21, 'tha': 6, 'presepsi': 2, 'subcentimet': 30, 'version': 44, 'overdistend': 2, 'bronchogram': 64, 'thatn': 1, 'discern': 12, 'silent': 34, 'retent': 51, 'losartan': 9, 'ultram': 15, 'calcarb': 1, 'pullmonari': 2, 'manual': 33, 'golyt': 3, 'dchf': 10, 'repons': 2, 'homemak': 4, 'consecut': 14, 'loratadin': 5, 'suppositori': 25, 'si': 17, 'coli': 20, 'furosemi': 1, 'atorvastatin': 24, 'osteoarthr': 22, 'onlin': 13, 'sticki': 7, 'centavit': 1, 'prod': 66, 'fev': 9, \"md'\": 3, 'overt': 81, 'cramp': 18, 'instanc': 6, 'soband': 1, 'klor': 1, 'catscan': 3, 'neurot': 1, 'divis': 43, 'milk': 17, 'pneumothorac': 31, 'myalgia': 62, 'longstand': 31, 'annulu': 23, 'numb': 53, 'disempact': 3, 'gastrointestin': 109, 'palpit': 78, 'bronchiti': 34, 'osteo': 10, 'flew': 1, 'polyethylen': 12, 'tramadol': 11, 'purs': 9, 'migrain': 10, 'fluticason': 25, 'impact': 40, 'hypoalbuminemia': 2, 'abund': 10, 'arthroplasti': 9, 'mbue': 8, 'jekh': 11, 'pseudomana': 1, 'llq': 10, 'arthriti': 30, 'recordslosartan': 1, 'gabapentin': 29, 'acquisit': 27, 'abdomihn': 1, 'glycol': 11, 'sock': 5, 'everytim': 2, 'spiriva': 20, 'angioneurot': 1, 'noncontributori': 3, 'paf': 19, 'bra': 2, 'sma': 10, 'streak': 35, 'precordium': 17, 'obstip': 8, 'sud': 6, 'modestli': 4, 'seven': 23, 'tenac': 2, 'churg': 3, 'bathroom': 16, 'uteru': 27, 'senakot': 1, 'angioedema': 8, 'bloat': 4, 'iin': 4, 'evlauat': 1, 'ade': 2, 'aforement': 11, 'aphas': 10, 'zithromax': 10, 'clairfi': 1, 'od': 7, 'recommenc': 3, 'yield': 24, 'anf': 4, 'town': 5, 'ru': 2, 'suciton': 7, 'spoken': 41, 'mici': 1, 'inflitr': 3, 'unbal': 1, 'glucerna': 2, 'yankaeur': 5, 'apperci': 1, 'evenu': 1, 'emisi': 2, 'flouroscopi': 3, 'pnemonia': 17, 'deflect': 36, 'para': 18, 'neoplasm': 39, 'lost': 33, 'broncoscopi': 5, 'atelectas': 17, 'vicryl': 8, 'lymphanget': 2, 'vascul': 14, 'incl': 29, 'conist': 2, 'biapic': 16, 'epiglott': 35, 'ultrasonograph': 15, 'ultrasonographi': 5, 'exact': 10, 'tunnedl': 1, 'oropharynx': 59, 'cricopharyng': 3, 'correspond': 63, 'passag': 12, 'int': 22, 'outpouch': 1, 'perti': 1, 'absenc': 75, 'intestin': 27, 'collim': 29, 'radiologistclip': 1, 'oscult': 1, 'nonlas': 5, 'spillag': 4, 'shth': 6, 'centesi': 7, 'boop': 9, 'carcinomatosi': 5, 'pel': 15, 'aspergillosi': 3, 'display': 60, 'vori': 1, 'sibl': 9, 'phase': 113, 'asperigillosi': 1, 'duplex': 30, 'niv': 28, 'ciwa': 22, 'hypoattenu': 18, 'aaox': 33, 'cbd': 21, 'oval': 24, 'sebac': 4, 'torso': 96, 'serviceclip': 4, 'echotextur': 28, 'peribronchiolar': 9, 'dopp': 9, 'nonenhanc': 2, 'bibas': 24, 'dont': 2, 'ake': 1, 'vault': 4, 'aggrav': 2, 'pancrat': 1, 'transamin': 26, 'anyon': 10, 'brkd': 1, 'sxt': 4, 'siderail': 13, 'subpulmon': 7, 'greek': 3, 'spon': 18, 'rsd': 1, 'scare': 12, 'pomot': 1, 'oet': 3, 'medcial': 1, 'eccyhmot': 1, 'elong': 47, 'intol': 2, 'epigast': 1, 'nifm': 1, 'sheddi': 1, 'ther': 8, 'duiresi': 4, 'previosu': 1, 'antibiod': 8, 'aroung': 3, 'tyleno': 3, 'entero': 1, 'apneia': 1, 'tack': 3, 'diverticulum': 10, 'rust': 8, 'strategi': 13, 'overlay': 4, 'bang': 9, 'midnght': 1, 'sanguin': 10, 'dysphoria': 1, 'coninu': 6, 'patint': 2, 'exclus': 13, 'charg': 6, 'book': 17, 'pharyngoesophag': 1, 'preclud': 15, 'abt': 5, 'mayb': 34, 'pylori': 11, 'eqaul': 1, 'ancef': 1, 'chnage': 5, 'dep': 7, 'pnaumonia': 1, 'peopl': 33, \"'ing\": 6, 'mycostatin': 16, 'thorcentesi': 1, 'presseur': 1, 'sxning': 18, 'addtion': 4, 'ventilatio': 1, 'shown': 36, 'soften': 9, 'neccessari': 4, 'tie': 13, 'tudi': 1, 'reliabl': 18, 'deem': 17, 'assit': 10, 'loccul': 1, 'cntl': 3, 'outout': 3, 'agrre': 1, 'musc': 1, 'bx': 31, 'prospect': 2, 'sideport': 9, 'bulg': 11, 'fc': 7, 'bedrail': 6, 'prosthet': 14, 'adeqaut': 7, 'pati': 1, 'epigastr': 21, 'backflow': 2, 'diffult': 1, 'bloodting': 7, 'tu': 9, 'trachesotomi': 1, 'placem': 10, 'zenker': 3, 'antibioitc': 2, 'hepatoma': 1, 'olni': 1, 'aortocav': 4, 'collater': 15, 'varic': 14, 'neutro': 4, 'rythmic': 1, 'nystagmoid': 1, 'fentanlyl': 1, 'cholelithiasi': 36, 'nonobstruct': 9, 'nephrectomi': 12, 'nonbreath': 1, 'hyperechogen': 2, 'xalatan': 2, 'thrombosi': 91, 'esphog': 1, 'nodal': 18, 'overse': 1, 'cirrhot': 6, 'huge': 13, 'asid': 22, 'grave': 6, 'neurontin': 39, 'uncomprehens': 2, 'durages': 5, 'phosphatas': 8, 'nsst': 2, 'dyspahgia': 2, 'splenomegali': 26, 'levoflaxacin': 2, 'pterion': 2, 'narrow': 111, 'questran': 1, 'rheumat': 6, 'vac': 8, 'stigmata': 3, 'lowish': 2, 'ica': 23, 'grown': 18, 'metronidazol': 54, 'pernici': 4, 'megacolon': 12, 'tkcb': 4, 'orific': 5, 'accordion': 1, 'inclin': 5, 'falgyl': 2, 'pancytopenia': 9, 'pneumatosi': 16, 'abomin': 1, 'tambocor': 1, 'transcort': 1, 'necessarili': 8, 'pepcid': 46, 'extrahepat': 15, 'seriou': 5, 'qpm': 9, 'subcarin': 48, 'contributori': 21, 'hyperinfl': 31, 'flovastin': 1, 'skincar': 4, 'craniotomi': 7, 'chgc': 4, 'meningismu': 4, 'shadow': 53, 'pneumovax': 3, 'anur': 17, 'architectur': 9, 'intracardiac': 17, 'flecainid': 2, 'unsur': 40, 'withnew': 1, 'enterobact': 7, 'eagg': 9, 'pmi': 84, 'bubbl': 24, 'nwh': 5, 'habitu': 52, 'honeycomb': 10, 'mood': 15, 'ileu': 42, 'older': 12, 'depakot': 13, 'decomp': 2, 'collapps': 1, 'recordspneumovax': 1, 'frontotempor': 2, 'pfo': 19, 'valvular': 73, 'aneursym': 4, 'flecanaid': 1, 'pancol': 3, 'pseudomembran': 2, 'celexa': 25, 'heavi': 43, 'steadili': 13, 'empyema': 64, 'sac': 10, 'blossom': 4, 'flecanid': 2, 'hypoxi': 1, 'gmdb': 3, 'sbna': 9, 'unexplain': 8, 'esophag': 75, 'qam': 18, 'dilaudid': 42, 'baricat': 6, 'splenoren': 2, 'foramen': 18, 'elicit': 13, 'ampl': 11, 'throughput': 1, 'lge': 27, 'intrathorac': 18, 'spirt': 1, 'prolin': 1, 'riski': 3, 'fro': 23, 'appropi': 19, 'imepenem': 2, 'edno': 2, 'mash': 4, 'flouro': 3, 'clam': 3, 'bronchi': 54, 'fatiqu': 3, 'drng': 31, 'cooprer': 1, 'endoscop': 6, 'exu': 1, 'teari': 10, 'gelatan': 1, 'nutrtion': 3, 'podiatri': 6, 'pneumat': 10, 'visul': 1, 'taught': 10, 'recan': 6, 'peq': 1, 'spillov': 23, 'blanket': 35, 'diabetc': 1, 'netrothick': 1, 'weather': 5, 'airmattress': 4, 'insuffici': 84, 'sheift': 1, 'speck': 5, 'stau': 8, 'erract': 1, 'laboratori': 12, 'attemt': 5, 'htx': 1, 'rebolus': 3, 'multipurpos': 1, 'honey': 15, \"decr'\": 1, 'practic': 9, 'hallway': 5, 'ivx': 7, 'midazolam': 75, 'acidot': 14, 'hemi': 5, 'leakag': 24, 'bout': 15, 'truncat': 2, 'articul': 13, 'oxygent': 7, 'bf': 3, 'tart': 2, 'sharpli': 17, 'unclamp': 3, 'bgm': 1, 'transluc': 1, 'tonit': 12, 'suctioin': 1, 'lanti': 6, \"sx'ed\": 7, 'darken': 1, 'fallen': 9, 'tacycardia': 3, 'averag': 51, 'reddish': 2, 'junctur': 1, 'particiapt': 1, 'distensio': 1, 'oz': 4, 'indicaiton': 1, 'darker': 4, 'crate': 1, 'repiratori': 5, 'imipenum': 3, 'gastrograffin': 4, 'bmthi': 1, 'fluroscop': 2, 'tachpneic': 8, 'teh': 7, 'meperidin': 7, 'qlcl': 2, 'pheresi': 1, 'patien': 4, 'purri': 1, 'startl': 6, 'vhp': 3, 'mequ': 1, 'integrt': 1, 'method': 14, 'brb': 13, 'uac': 3, 'flucuat': 3, 'crea': 10, 'amyla': 1, 'stoolx': 5, 'mimin': 2, 'tracheobronchi': 20, 'grimmac': 6, 'diaphor': 1, 'diuesi': 1, 'expens': 3, 'tachypen': 13, 'droperidol': 1, 'zestril': 3, 'catheth': 2, 'spiral': 2, 'spirit': 26, 'thoughout': 17, 'fifteen': 2, 'bilex': 1, 'arachnoid': 5, 'deescal': 1, 'tyenol': 6, 'gastrographin': 2, 'appropti': 1, 'anesthet': 26, 'maxillofaci': 11, 'pneunomia': 2, 'grip': 15, 'accid': 8, 'eripher': 1, 'kegal': 1, 'behind': 14, 'evsl': 1, 'pipicilln': 1, 'surfac': 39, 'phenegin': 1, 'regiular': 1, 'actviti': 3, 'mycoplasma': 6, 'dima': 1, 'peripancreat': 3, 'anaplast': 2, 'extralumin': 7, 'methylen': 3, \"trach'\": 2, 'viscer': 9, 'transaort': 7, 'recultur': 37, 'imipenem': 7, 'lenght': 3, 'mc': 14, 'tachypeniec': 2, 'palap': 2, 'gastrostomi': 35, 'cmpeep': 1, 'transger': 1, 'armpit': 9, 'coomand': 1, 'bulb': 12, 'chekc': 2, 'dem': 1, 'aknowledg': 1, 'anticoagualt': 1, 'quadrupl': 2, 'subcm': 2, 'intremitt': 1, 'dueoderm': 4, 'transvers': 41, 'rhonch': 3, 'unilater': 9, 'perlla': 4, 'thur': 9, 'cam': 3, 'fuction': 3, 'court': 9, 'auditori': 6, 'lwi': 1, 'liw': 1, 'wob^': 1, 'coffe': 23, 'throghout': 1, 'eros': 17, 'barocat': 3, 'ltue': 1, 'valuewith': 1, 'straw': 62, 'ducolax': 10, 'gravitli': 1, 'tommorow': 9, 'antegrad': 16, 'llightli': 1, 'midlung': 8, 'yankauer': 28, 'pocket': 24, 'hypoplast': 3, 'fxd': 3, 'muer': 2, 'cooler': 2, 'tachycardiac': 5, 'sputm': 3, 'benzo': 46, 'heavili': 19, 'paper': 32, 'lenti': 1, 'wont': 2, 'liezolid': 1, 'agiat': 6, 'extermit': 3, 'catnap': 1, 'linisod': 1, 'acalcul': 4, 'airwari': 1, 'baracat': 2, 'palpapt': 1, 'ativanx': 1, 'lisinepril': 1, 'maynot': 1, 'imipemium': 1, 'rem': 1, 'rle': 40, 'anesthesi': 1, 'fuo': 26, 'larynx': 8, 'lavarg': 5, 'antiboticx': 1, 'affirmativley': 1, 'haldolx': 1, 'pasi': 2, 'bilou': 5, 'mandibl': 15, 'vallecula': 36, 'coud': 7, 'peptomen': 3, 'peptimen': 2, 'awi': 3, 'iatrogen': 7, 'anatom': 16, 'infil': 4, 'withdrawl': 20, 'improvemnt': 2, 'ocassion': 5, 'com': 4, 'shook': 7, 'fluorscop': 1, 'throuhgout': 4, 'pupos': 3, 'drgreena': 1, 'empath': 2, 'silk': 14, 'llift': 1, 'oil': 11, 'nodd': 4, 'groov': 2, 'peptamin': 1, 'egg': 9, 'pleura': 31, 'carvu': 15, 'panic': 14, 'ou': 6, 'popscicl': 1, 'intermitantli': 2, 'lcl': 1, 'acyclovir': 21, 'ugib': 8, 'billiou': 3, 'frquesnt': 1, 'ostiomeat': 5, 'dtv': 9, 'ureteru': 1, 'homogen': 34, 'flexur': 10, 'demerol': 10, 'slough': 6, 'hydral': 17, 'domin': 9, 'letherg': 1, 'hypertroph': 5, 'orangish': 1, 'circumscrib': 12, 'kind': 9, 'pathologist': 19, 'maintainc': 3, 'swollow': 9, 'flaygl': 5, 'humidifc': 2, 'flagal': 2, 'cu': 16, 'acromioclavicular': 8, 'vertebra': 13, 'lac': 14, 'duires': 4, 'lacutlos': 1, 'comforat': 2, 'hve': 1, 'indetermin': 106, 'givn': 9, 'steadi': 51, 'shaft': 10, 'accesori': 3, 'suffer': 19, 'thryoidectomi': 1, 'tt': 12, 'shell': 1, 'bougi': 3, 'likley': 15, 'spc': 1, 'irregualr': 1, 'retriev': 10, 'langu': 1, 'diffculti': 2, 'hymodynam': 1, 'biilater': 1, 'uncommon': 3, 'primarili': 44, 'dorsali': 34, 'sato': 9, 'pusl': 1, 'collabor': 26, 'thyroidectomi': 9, 'pleasent': 2, 'subcost': 14, 'breather': 9, 'implement': 17, 'institut': 9, \"'even\": 1, 'dinnertim': 2, 'gone': 34, 'parastern': 13, 'thrombi': 20, 'cardizem': 12, 'chorda': 51, 'protecton': 1, 'presenlti': 1, 'svn': 17, 'pep': 3, 'ccc': 61, 'npc': 13, 'recordsac': 1, 'eject': 34, 'valsartan': 6, 'hypernatermia': 1, 'overweight': 88, 'hypoventil': 20, 'microorgan': 27, 'grandchildren': 6, 'rusb': 6, 'adat': 20, 'panhypopituitar': 1, 'callbel': 4, 'diovan': 6, 'spread': 24, 'diiures': 1, 'hypokalemia': 16, 'disabl': 15, 'coverg': 3, 'reorder': 11, 'americar': 1, 'givenrsbi': 1, 'hypercarb': 44, 'callout': 9, 'girl': 5, 'feurea': 10, 'mghg': 1, 'valsartin': 1, 'atarax': 1, 'pyelonephr': 8, 'mcv': 11, 'oh': 10, 'ddavp': 4, 'fena': 30, 'young': 14, 'hyperbar': 1, 'boy': 5, 'asdir': 10, 'dysuria': 70, 'loudest': 6, 'hypercapn': 9, 'appropriatli': 11, 'adn': 11, 'desmopressin': 2, 'hypopituitar': 1, 'comm': 39, 'sella': 3, 'usb': 3, 'panhypopit': 1, 'bronchodiltor': 1, 'mandat': 14, 'bascil': 1, 'epidur': 19, 'tortuos': 24, 'redict': 1, 'bilt': 2, 'decort': 23, 'alph': 2, 'anticub': 3, 'tarri': 6, 'basilac': 2, 'comprehend': 6, 'saftey': 4, 'firmer': 2, 'readili': 12, 'iorn': 1, 'drifit': 1, 'tracer': 9, 'daughet': 3, 'colloid': 4, 'nightmar': 1, 'immediatli': 2, 'abraison': 1, 'listen': 31, 'whil': 1, 'gamma': 3, 'advis': 32, 'reprons': 1, 'autonim': 1, 'compleat': 2, 'esophogram': 2, 'ingest': 16, 'gell': 2, 'titir': 3, 'repetit': 8, 'autonom': 9, 'hemispher': 18, 'inquiri': 12, 'cotinu': 4, 'camera': 2, 'cerebro': 1, 'babi': 7, 'yankuer': 14, 'radiolabel': 1, 'endoscopi': 20, 'sulfur': 1, 'transcript': 10, 'radiopharmeceut': 1, 'vacuo': 4, 'strictli': 7, 'nauseat': 5, 'uci': 1, 'ri': 8, 'scali': 2, 'complainingof': 1, 'inleg': 1, 'bo': 18, 'lidoderm': 9, 'hyotens': 3, 'acceler': 11, 'malleol': 1, 'contratur': 1, 'label': 13, 'aniticip': 1, 'undetect': 6, 'periren': 4, 'nephrolithiasi': 25, 'severli': 6, 'parasagitt': 5, 'fluctuant': 2, 'dysmotil': 2, 'repeatedli': 25, 'radlin': 10, 'lebil': 1, 'capabl': 7, 'unconclus': 1, 'candi': 1, 'algorythm': 1, 'porta': 9, 'epicardi': 6, 'qflow': 1, 'cine': 2, 'abut': 24, 'dynspnea': 1, 'appropraietli': 1, 'quantit': 10, 'liquidi': 4, \"'chest\": 1, 'cmr': 1, 'immunosupress': 6, 'mltp': 1, 'qp': 1, 'customari': 1, 'worsn': 2, 'spectral': 19, 'wheat': 2, 'breifli': 4, 'axr': 3, 'similarli': 13, 'ssfp': 1, 'anterosept': 55, 'mtx': 2, 'dtpa': 5, 'independantli': 4, 'dimeglumin': 1, 'chux': 2, 'atial': 1, 'index': 28, 'hyperdynam': 66, 'gadopentet': 1, 'pauciti': 10, 'gadolin': 4, 'crohn': 9, 'caspofugin': 1, 'ej': 9, 'rvef': 1, 'arrhymia': 1, 'poplit': 71, 'ielostomi': 1, 'immunosuppress': 17, 'bilobar': 1, 'methadon': 24, 'plane': 41, 'corvac': 2, 'obstrn': 1, 'amplitud': 28, 'ritalin': 7, 'compl': 3, 'chrohn': 3, 'pneumocyst': 2, 'asymmetri': 18, 'emboli': 34, 'phasic': 13, 'obx': 1, 'fraction': 30, 'horizont': 5, 'myocardium': 7, 'diaphragmat': 20, 'apprx': 2, 'skelet': 9, 'echodens': 7, 'hsm': 45, 'duoneb': 7, 'toung': 4, 'petellar': 1, 'nonsmal': 6, 'rhinorrhea': 19, 'lid': 5, 'hyperreflex': 1, 'slur': 17, 'cord': 52, 'dexamethason': 15, 'bruit': 15, 'insult': 20, 'metastasi': 31, 'insight': 4, 'mmd': 1, 'fatug': 1, 'droop': 20, 'amiodoron': 11, 'thrombocytopenia': 29, 'lobectomi': 23, 'althrough': 1, 'achil': 3, 'palat': 41, 'nslca': 1, 'swish': 7, 'anixeti': 1, 'catarac': 1, 'benzodiazepin': 13, 'ome': 18, 'pontin': 5, 'propanolol': 2, 'avascular': 6, 'nonsustain': 2, 'concer': 2, 'paroxetin': 7, 'upgo': 1, 'fibrin': 4, 'nsclc': 27, 'jvd': 47, 'nscla': 1, 'nsclca': 7, 'anywher': 11, 'retard': 8, 'inflam': 9, 'trunk': 34, 'upward': 26, 'unavail': 35, 'csru': 10, 'tum': 8, 'essentailli': 1, 'secondard': 1, 'shave': 8, 'hypocalcemia': 6, 'rhabdo': 3, 'pneumnia': 3, 'dysfxn': 4, 'rhabdomyolysi': 3, 'malfunt': 1, 'fatti': 29, 'preoper': 5, 'asbestosi': 5, 'inferiorli': 31, 'subpleur': 19, 'deminer': 20, 'raw': 12, 'reccommend': 3, 'volumetr': 13, 'interstici': 1, 'precep': 1, 'gutter': 11, 'obsturct': 1, 'colic': 4, 'deoxygen': 1, 'dental': 12, 'degener': 11, 'thoracu': 1, 'sho': 1, 'subcorin': 1, 'intervertebr': 9, 'uptak': 12, 'desa': 2, 'feaml': 1, 'interrupt': 11, 'skeleton': 12, 'emobol': 1, 'carcinoma': 47, 'extext': 6, 'eg': 17, 'fifti': 1, 'polyp': 15, 'penumonia': 8, 'deal': 12, 'parotid': 10, 'adnexa': 18, 'nkg': 2, 'metastas': 27, 'corin': 1, 'adenoid': 3, 'tspine': 1, 'amalgam': 2, 'glute': 5, 'addt': 1, 'wheel': 8, 'adamantli': 3, 'buccal': 23, 'samter': 1, 'coagul': 15, 'radiiograph': 1, 'cessat': 9, 'rough': 3, 'abrupt': 9, 'zinc': 5, 'nutit': 2, 'readm': 3, 'stasi': 19, 'neurogen': 6, 'halodol': 7, 'antigbm': 1, 'wasa': 2, 'brace': 9, 'ishial': 1, 'wc': 7, 'paraplegia': 11, 'mucuh': 1, 'trust': 6, 'amino': 3, 'recordsaspirin': 1, 'reguard': 6, 'ipf': 18, 'theophyllin': 3, 'threw': 3, 'freak': 1, 'nf': 6, 'uroqid': 1, 'glucan': 21, 'mepilex': 16, 'tofu': 1, 'cautious': 6, 'preren': 34, 'prealbumin': 1, 'baclofen': 11, 'esr': 10, 'ancillari': 2, 'fowel': 2, 'triad': 1, 'ppn': 6, 'patul': 4, 'tib': 6, 'coagulopathi': 57, 'wrok': 1, 'opiat': 21, 'satt': 3, 'eosiniophilia': 1, 'wellbutrin': 4, 'spri': 3, 'crp': 8, 'pseudoephedrin': 1, 'lollypop': 2, 'participc': 1, 'relationship': 11, 'klonopin': 17, 'pussi': 1, 'vacno': 4, 'apolog': 1, 'gbm': 5, 'hallodol': 1, 'starter': 2, 'citrat': 11, 'upep': 2, 'bursiti': 2, 'ischial': 3, 'montelukast': 6, 'mexiletin': 3, 'fenatyl': 2, 'sereou': 1, 'tenuou': 40, 'sampter': 1, 'galactommanan': 1, 'anca': 11, 'spoon': 14, 'iodin': 24, 'panick': 2, 'viru': 16, 'fexofenadin': 6, 'hum': 2, 'synephrin': 2, 'premed': 6, 'lollipop': 1, 'strike': 7, 'ondansetron': 11, 'cottonse': 1, 'smell': 18, 'ige': 3, 'mexilitin': 1, 'wellbutrim': 2, 'femur': 19, 'persu': 4, 'homecar': 3, 'consern': 1, 'parenter': 45, 'emuls': 1, 'tg': 6, 'myeliti': 1, 'togeth': 16, 'hive': 31, 'refeed': 4, 'naloxon': 1, 'pall': 4, 'medicat': 2, 'alevi': 1, 'breez': 1, 'serolog': 22, 'parapleg': 6, 'obssess': 1, 'anxirti': 2, 'spep': 3, 'cmo': 24, 'geripsych': 1, 'mucinex': 16, 'solutab': 1, 'syndro': 2, 'pulmonolog': 8, 'pca': 21, 'quiac': 7, 'cousin': 9, 'god': 4, 'share': 47, 'providencia': 2, 'anim': 10, 'signif': 18, \"o'\": 4, 'prupos': 1, 'slilghtli': 1, 'reiniti': 7, 'golf': 2, 'objecti': 1, 'smile': 23, 'glut': 9, 'sse': 10, 'undetail': 1, 'cotn': 4, 'pericar': 5, 'hh': 8, 'trail': 14, 'electrolty': 1, 'socail': 10, 'gent': 12, 'possobl': 1, 'yelllow': 5, 'ovebreath': 1, 'pastey': 2, 'speaker': 11, 'dk': 13, 'incorrect': 5, 'prom': 8, 'minist': 2, 'sync': 2, 'bacitracin': 10, 'bridg': 25, 'willb': 2, 'acv': 12, 'sedaton': 1, 'wdw': 1, 'ball': 6, 'resent': 15, 'multilfoc': 1, 'pop': 8, 'vec': 6, 'unti': 1, 'cleasn': 2, 'distrss': 1, 'duccolax': 1, 'stump': 10, 'duoden': 18, 'smal': 3, \"sx'ng\": 4, 'vascularight': 1, 'oxygn': 3, 'subtot': 9, 'dophoff': 7, 'scabi': 1, 'applianc': 8, 'vallecular': 6, 'ordredd': 1, 'colour': 5, 'erupt': 4, 'drg': 10, 'mastic': 23, 'nacl': 5, 'purlul': 2, 'hemodynm': 6, 'splenectomi': 7, 'sero': 14, 'cline': 2, 'trnf': 2, 'dobhoff': 39, 'ds': 15, 'spill': 20, 'iliostomi': 2, 'sang': 22, 'colectomi': 19, 'dh': 2, 'strg': 1, 'secreathin': 1, 'pyloro': 1, 'ileostomi': 9, 'jump': 5, 'ileotomi': 1, 'coat': 15, 'integu': 6, 'priviou': 1, 'filter': 39, 'rssi': 11, 'coar': 6, 'integrum': 1, 'singular': 1, 'abrais': 3, 'rosolv': 1, 'liason': 3, 'wnc': 1, 'dyspnic': 10, 'inabilti': 2, 'minitrach': 1, 'verapamil': 6, 'ek': 1, 'thristi': 2, 'xperson': 1, 'rid': 3, 'covers': 1, \"'ll\": 7, 'tachypnec': 1, 'asssess': 3, 'peptamen': 6, 'telfa': 4, 'replenish': 9, 'defict': 1, 'perin': 22, 'cvf': 1, 'dyspnoic': 1, 'gastic': 1, 'underway': 6, 'bbb': 7, 'spivira': 1, 'mini': 19, 'glove': 2, 'isoptin': 1, 'temder': 1, 'acetlycystein': 1, 'luck': 1, 'afterword': 1, 'ringer': 1, 'ssic': 4, 'facilti': 1, 'ident': 12, 'verapim': 1, 'grandchild': 1, 'lispro': 3, 'varapamil': 1, 'coved': 1, 'freewat': 1, 'yanker': 4, 'inculin': 1, 'abruptli': 4, 'counter': 1, 'hab': 2, 'ultrason': 2, 'ducos': 1, 'recievi': 2, 'acapella': 8, 'hyperact': 17, 'research': 1, 'cannuala': 1, 'productv': 1, 'predormin': 1, 'dced': 5, 'drier': 2, 'stabe': 4, 'redder': 2, 'dobhof': 2, 'suppot': 1, 'antecubit': 12, 'bibasilari': 3, 'crm': 2, 'tired': 3, 'slip': 9, 'tare': 1, 'hemodi': 7, 'oxa': 2, 'ch': 10, 'linin': 2, 'harder': 7, 'creas': 3, 'pericolac': 1, 'angiocath': 3, 'sete': 2, 'macer': 3, 'passimuir': 1, 'abrad': 2, 'requri': 2, 'reveiw': 6, 'huo': 20, 'morbidli': 5, 'pti': 2, 'domboro': 1, 'specialist': 7, 'strate': 1, 'suppport': 5, 'peramet': 1, 'jello': 17, 'advancint': 1, 'dept': 8, 'flowbi': 3, 'centemet': 1, 'nj': 2, 'suspend': 4, 'sqeez': 2, 'tuck': 20, 'sta': 9, 'chged': 2, 'rubor': 2, 'msra': 4, 'calf': 65, 'bronchospast': 21, 'nonrot': 1, 'sleeper': 3, 'isordil': 13, 'frree': 1, 'cellulti': 1, 'dht': 6, 'tracheostom': 1, 'doboff': 8, 'precuat': 5, 'ioocc': 1, 'tracheostoma': 1, 'custard': 23, 'rxd': 5, 'unchg': 6, 'apt': 7, 'pegtub': 3, 'peditub': 5, 'dombero': 1, 'indur': 5, 'gase': 23, 'quo': 2, 'proph': 4, 'pediatr': 2, 'peristalsi': 5, 'dietari': 19, 'soak': 17, 'nonpurpos': 6, 'piclin': 1, 'immobil': 15, \"'sm\": 1, 'dombro': 1, 'appox': 2, 'caas': 1, 'cto': 1, 'exceed': 5, 'freee': 1, 'intro': 4, 'backsid': 8, 'settinf': 1, 'reconfirm': 7, 'demon': 1, 'cked': 1, 'oxacillin': 11, 'appil': 1, 'humeru': 16, 'recx': 2, 'hyper': 15, 'chees': 7, 'farther': 1, 'resepct': 1, 'celluluit': 1, 'tonoct': 3, 'crack': 23, 'brn': 5, 'neighbor': 5, 'passemuir': 4, 'chec': 1, 'uncomfortt': 1, 'stabk': 1, 'encoura': 1, 'ada': 1, 'developmemt': 1, 'lowgrad': 4, 'reatless': 1, 'folllow': 5, 'damp': 8, 'wiht': 12, 'ocntact': 1, 'asucult': 2, 'beginn': 1, 'bacterem': 3, 'andresp': 1, 'inexsufl': 1, 'medd': 1, 'sinemet': 11, 'repelt': 6, 'neurro': 1, 'aquaphor': 6, 'loudli': 8, 'conscious': 13, 'dfddp': 10, 'cufflat': 1, 'tolal': 1, 'schizoaffect': 9, 'blind': 17, 'estrang': 5, 'azithomycin': 2, 'tune': 4, 'irish': 1, 'sing': 7, 'soldier': 1, 'ceftazadin': 2, 'contractil': 28, 'ion': 8, 'akinet': 12, 'cpod': 1, 'captur': 14, 'insiratori': 1, 'stitch': 14, 'sympathet': 3, 'coincid': 6, 'neeed': 2, 'episdo': 1, 'underestim': 27, 'superinfect': 16, 'akinesi': 21, 'tacyhcardia': 1, 'tamiflu': 32, 'aicd': 17, 'inferosept': 10, 'nativ': 9, 'recrudesc': 5, \"adl'\": 1, 'salmeterol': 13, 'staphylococc': 1, 'postoffic': 1, 'augmentat': 1, 'acoust': 24, 'sulfonamid': 26, 'tdi': 28, 'overnigt': 2, 'autoregul': 8, 'takatsubo': 1, 'sequenti': 7, 'tamaflu': 2, 'dicloxacillin': 4, 'pitch': 6, 'mgr': 3, 'remnant': 11, 'oseltamivir': 13, 'hemiblock': 7, 'pcwp': 42, 'agenc': 2, 'superven': 33, 'antrov': 1, 'quantifi': 17, 'incurr': 1, 'leucocytosi': 4, 'sypathet': 1, 'nephrew': 1, 'allopurinol': 15, 'hematochezia': 11, 'diffiuclti': 2, 'rosuvastatin': 4, 'recvd': 6, 'sparingli': 6, 'hickman': 8, 'tapazol': 1, 'ativen': 2, 'juvenil': 1, 'hyperliipidemia': 1, 'endors': 13, 'mluitpl': 1, 'ferrou': 18, 'gastroenter': 5, 'qmwf': 3, 'nephrocap': 10, 'rheumatoid': 7, 'epogen': 10, 'unwel': 2, 'predison': 4, 'suicid': 51, 'dfa': 44, 'nephropathi': 17, 'doxazosin': 2, \"ab'\": 3, 'spefic': 1, 'bd': 4, 'matern': 2, 'minoxidil': 2, 'timolol': 4, 'orthopnea': 58, 'paradox': 63, 'ggo': 12, 'epo': 7, 'calcitriol': 5, 'cracker': 20, 'nonprodut': 1, 'spirometri': 44, 'dka': 8, 'parent': 26, 'antibodi': 14, 'construct': 4, 'cw': 5, 'sneez': 2, 'sevelam': 11, 'melena': 20, 'supraclavicular': 103, 'receptor': 3, 'shcedul': 1, 'drk': 4, 'dorzolamid': 1, 'clinda': 24, 'traumat': 21, 'greenish': 20, 'cheek': 12, 'dot': 5, 'fight': 15, 'bordelin': 1, 'bradycardiac': 2, 'errythemia': 1, 'antb': 4, 'essentu': 1, 'threshold': 48, 'oralphagheng': 1, 'nysatin': 1, 'nasopharg': 1, 'exampl': 23, 'resposnd': 1, 'latharg': 2, 'throughou': 2, 'bad': 22, 'comput': 15, 'deliber': 5, 'teniou': 3, 'suctiopn': 1, 'respolar': 4, 'satisfactorili': 7, 'grreni': 1, 'unrepons': 1, 'bulk': 8, 'noseble': 2, 'assum': 26, 'rhonchii': 3, 'differnt': 1, 'louder': 4, 'sbop': 1, 'ofd': 1, 'neutrapho': 15, 'antidepress': 5, 'kpho': 19, 'suprapub': 15, 'hhn': 15, 'oputput': 1, 'thread': 9, 'sclerosi': 23, 'laid': 11, 'ceftriax': 10, 'medex': 1, 'tiotropium': 13, 'intrial': 1, 'echocardiogram': 29, 'subq': 21, 'levoxyl': 2, 'antihypotens': 1, 'parapneumon': 21, 'fll': 1, 'thorocentesi': 5, 'biv': 1, 'uninfect': 1, 'eas': 20, 'tiotroprium': 1, 'imdur': 10, 'overmed': 4, 'fibrot': 20, 'nutritionist': 3, 'seraquel': 7, 'spiroment': 1, 'dobboff': 1, 'fullstrength': 1, 'usg': 12, 'lactos': 3, 'grandaught': 5, 'reiter': 6, 'acylovir': 2, 'scatt': 5, 'advic': 9, 'lix': 7, 'promininc': 1, 'posey': 9, 'tech': 13, 'drunk': 2, 'neutropen': 18, 'dbe': 1, 'abiltiy': 1, 'witht': 1, 'tyelenol': 5, 'betablock': 7, 'turgur': 1, 'acyclivir': 1, 'heamodynam': 1, 'guess': 4, 'ipmi': 1, 'isorbid': 5, 'nml': 10, 'epstudi': 1, 'repsond': 2, 'inotropi': 2, 'rpp': 2, 'bppp': 4, 'natrecor': 3, 'oxi': 3, 'torsad': 2, 'nesiritid': 1, 'dynam': 24, 'cdb': 52, 'senekot': 2, 'rsc': 15, 'nite': 12, 'itat': 1, 'lwr': 3, 'diuiresi': 2, 'dynamap': 1, 'hot': 21, 'defib': 3, 'repsons': 4, 'jag': 3, 'tympan': 6, 'oxicillin': 3, 'amiodron': 1, 'deeper': 7, 'anieti': 2, 'ci': 26, 'toursad': 1, 'sobo': 2, 'defibril': 13, 'rla': 6, 'pb': 9, 'bollu': 2, 'intrens': 1, 'nystantin': 2, 'ronchoru': 3, 'seemingli': 9, 'love': 8, 'flaggyl': 4, 'ambulatori': 11, 'insuffic': 2, 'core': 8, 'ceftrixon': 5, 'noisi': 3, 'plat': 16, 'yankaur': 17, 'presser': 5, 'cartoon': 1, 'afraid': 13, 'peni': 12, 'varifi': 2, 'culutr': 5, 'nasopharynx': 10, 'cosyntropin': 2, 'nasoendotrach': 2, 'overrid': 1, 'floroscopi': 1, 'pseudomoni': 4, 'scrotum': 19, 'oohr': 1, \"dc'd\": 3, 'inqueri': 2, 'grren': 2, 'boarderlin': 5, 'acetamenophen': 1, 'vaselin': 5, 'boyfriend': 9, 'chnager': 1, 'cephalid': 1, 'pustul': 4, '^^drng': 1, 'seek': 19, 'phelibit': 1, 'superivis': 1, 'persistantli': 5, 'decras': 2, 'superiorli': 17, '^^rr': 6, 'govem': 1, 'mascer': 3, 'toiley': 1, 'hydropneumothorax': 13, 'promo': 1, 'repalc': 1, 'tritrat': 1, 'psi': 11, 'acetamenoph': 1, 'sectret': 7, 'spe': 1, 'withp': 1, 'secreton': 2, 'elastoplast': 2, 'propophol': 2, \"mod't\": 1, '^^^secret': 1, 'rplace': 1, 'characterist': 6, 'excit': 10, 'fibr': 2, 'coooper': 1, 'afternon': 1, 'nursimg': 1, 'axo': 4, 'fir': 2, 'sad': 8, 'neeld': 1, 'channel': 12, 'steristrip': 6, 'probalac': 2, 'pipercillin': 9, 'caval': 10, 'btb': 4, 'negaiv': 1, 'bibasalar': 4, 'efect': 4, 'piccc': 2, 'flunk': 1, 'stuff': 2, 'uprbc': 23, 'avandia': 2, 'microcyt': 5, 'repost': 7, 'hemodilut': 9, 'careplan': 2, 'scx': 3, 'oseltamavir': 3, 'nephrotoxin': 21, 'chronc': 1, 'tameflu': 1, 'seat': 74, 'rebound': 72, 'ccrn': 2, 'uri': 14, 'rosiglitazon': 2, 'cautiou': 12, 'maleat': 10, 'metformin': 15, 'hydraden': 1, 'labia': 7, 'nto': 2, 'zocyn': 6, 'overhydr': 28, 'obs': 2, 'hidraden': 1, 'bellegeri': 1, 'prodcut': 1, 'ceft': 3, 'rhocher': 1, 'tray': 10, 'wheezey': 8, 'belong': 24, 'stoke': 6, 'belliger': 6, 'apporach': 1, 'alrm': 2, 'ultrum': 1, 'initaietd': 1, 'obj': 9, 'awoken': 9, 'pndg': 16, 'giddi': 1, 'hemodyn': 10, 'anaesthesia': 3, 'naprosyn': 1, 'transf': 4, 'untoward': 4, 'stethoscop': 2, 'sponaten': 4, 'fundtion': 1, 'nrsg': 2, 'pharmacolog': 4, 'armboard': 2, 'dobutamin': 7, 'afebreil': 1, 'curiou': 2, 'couplet': 12, 'workload': 4, 'deviationta': 1, 'triplet': 2, 'photophobia': 4, 'photophob': 1, 'aslo': 3, 'indomethacin': 2, 'sporat': 2, 'nsvt': 16, 'bitempor': 3, 'peic': 1, 'fetal': 3, 'extraaxi': 6, 'exsist': 1, 'unreliev': 2, 'ibuprophen': 3, 'aoid': 1, 'evalaut': 7, 'suppo': 5, 'everyday': 7, 'kitchen': 12, 'folow': 6, 'indecis': 2, 'senecot': 2, 'dime': 9, 'spar': 1, 'fruit': 6, 'duc': 1, 'peanut': 5, 'clincal': 1, 'spurt': 1, 'woth': 1, 'bactrium': 2, 'ilmprov': 1, 'deast': 1, 'tto': 3, 'quicker': 4, 'butter': 4, 'rhand': 1, 'supper': 9, 'de': 37, 'bore': 16, 'sulfameth': 6, 'granola': 1, 'saphen': 7, 'torn': 5, 'bileaflet': 2, 'preop': 8, 'mvr': 18, 'antisialogogu': 8, 'flail': 5, 'bandag': 14, 'assymetr': 3, 'airleak': 9, 'crown': 2, 'semiupright': 7, 'apac': 3, 'periap': 3, 'intaop': 1, 'disappear': 2, 'surveil': 32, 'inapprop': 2, 'transvalvular': 9, 'glycopyrrol': 12, 'panorex': 4, 'myomectomi': 1, 'molar': 2, 'electrod': 10, 'hocm': 1, 'cardioresp': 2, 'intrins': 33, 'interpreter': 1, 'blur': 15, 'paravalvular': 1, 'antiphospholipid': 4, 'dilaud': 3, 'mgtid': 1, 'supris': 1, 'alpha': 5, 'kerlex': 8, 'undigest': 13, 'wether': 2, 'residula': 1, 'reden': 11, 'accident': 13, 'broncial': 1, 'bled': 9, 'fossa': 27, 'lieu': 4, 'subl': 1, 'ahd': 4, 'dulc': 5, 'dramat': 29, 'writh': 3, 'flame': 1, 'corner': 11, 'antitrypsin': 1, 'spontanoeu': 1, 'trypsin': 1, 'perscib': 1, 'lias': 3, 'olanzipin': 3, 'cing': 7, 'news': 3, 'specifi': 11, 'scaley': 1, 'antipsycot': 2, 'distract': 5, 'antialpha': 1, 'contd': 17, 'checklist': 5, 'ivdu': 13, 'wea': 4, 'maee': 5, 'equla': 1, 'respit': 1, 'oj': 4, 'aralast': 1, 'unfocus': 1, 'amitryptilin': 1, 'risbi': 26, \"'ve\": 4, 'forth': 7, 'growl': 2, 'cavitari': 19, 'ceftazadim': 7, 'upsid': 2, 'dissolv': 2, 'reduce': 1, 'circul': 18, 'multilumen': 9, 'comit': 1, 'mra': 18, 'theraft': 1, 'reinutab': 1, 'snore': 5, 'distened': 3, 'doc': 1, 'hift': 2, 'prophylacticlli': 1, 'ngtube': 2, 'geodan': 1, 'magnet': 15, 'rose': 17, 'resapiratori': 1, 'impuls': 9, 'department': 10, 'disconnect': 15, \"c'ing\": 7, 'bisacoyl': 1, 'cefatzadim': 1, 'flirt': 1, 'ziprasidon': 1, 'amitriptylin': 3, 'pin': 8, 'oximetri': 1, 'angiogram': 17, 'lactalos': 4, 'myconazol': 7, 'squirm': 4, 'humulog': 7, 'perpetu': 2, 'haladol': 1, 'grunt': 6, 'replt': 1, \"d'cd\": 8, 'vegiat': 1, 'multidisiciplinari': 2, 'drool': 4, 'acl': 13, 'spanish': 16, 'depent': 2, 'cmbivent': 1, 'staabl': 1, 'secrat': 2, 'mdght': 2, 'extremitit': 3, 'gpr': 9, 'vegat': 1, 'depressor': 1, 'difficulr': 1, 'quadrapleg': 1, 'coexsist': 1, 'semierect': 3, 'multilocul': 6, 'hole': 20, 'intercost': 12, 'thoracotomi': 18, 'forti': 2, 'judgement': 4, 'waters': 14, 'lelev': 1, 'socila': 1, 'rivert': 1, 'decresa': 1, 'lihgt': 1, 'cogh': 2, 'presnt': 3, 'overnihght': 1, 'spnal': 1, 'broaden': 35, 'repelet': 2, 'debat': 3, 'calibr': 8, 'vesiculo': 1, 'omr': 61, 'vesicular': 4, 'adhes': 22, 'ambient': 7, 'subutan': 10, 'nortriptylin': 4, 'acth': 1, 'exactli': 7, \"epi'\": 1, 'paralysi': 24, 'inclu': 1, 'pect': 1, 'clergi': 16, 'bact': 8, 'overtli': 4, 'cephalosporin': 10, 'tyesterday': 1, 'fq': 4, 'org': 4, 'flare': 46, 'silhouet': 14, 'dream': 5, 'glad': 2, 'rehir': 1, 'tizanidin': 3, 'intertrochanter': 4, 'lifelin': 2, 'rent': 4, 'licsw': 20, 'ce': 64, 'financ': 1, 'hisotri': 1, 'thorcaic': 1, 'ventimask': 11, 'chocol': 5, 'pnoon': 1, 'rapidli': 39, 'fllet': 1, 'flosheet': 1, 'vulner': 1, 'neutopho': 1, 'clinician': 43, 'fulfil': 2, 'spite': 10, 'dirti': 16, 'hj': 1, 'fxn': 30, 'changedto': 1, 'tachypneac': 2, 'aphasia': 18, 'immin': 2, 'oropharyngela': 1, 'donezipil': 1, 'discu': 5, 'serious': 4, 'hemodyanm': 2, 'uptitr': 18, 'idioventricular': 3, 'afterload': 21, 'discont': 3, 'bye': 1, 'drive': 32, 'hyalin': 2, 'giv': 1, 'facemask': 23, 'llsb': 7, 'thromu': 1, 'daugther': 4, 'concur': 4, 'rythym': 8, 'citalopram': 18, 'likelihood': 22, 'lengthi': 13, 'death': 14, 'deterior': 43, 'unrealist': 2, 'untreat': 8, 'equilibrium': 1, 'pci': 13, 'instabl': 39, 'busi': 8, 'analgesia': 8, 'scopalamin': 6, 'chng': 3, 'diurisei': 1, 'appropr': 1, 'memantin': 4, 'rabbi': 8, 'subj': 3, 'advoc': 5, 'nitropast': 9, 'vasovag': 3, 'charact': 5, 'syncop': 16, 'donepezil': 11, 'lij': 19, 'anger': 6, 'heaprin': 4, 'gib': 35, 'hemodynim': 12, 'osteoporosi': 26, 'hotnsiv': 3, 'genit': 2, 'vg': 1, 'prop': 25, 'ballon': 9, 'consistenli': 4, 'orderd': 9, 'faintli': 1, 'sshumulog': 2, 'lwsxn': 2, 'cellsav': 1, 'biphas': 7, 'creatin': 7, 'tnsf': 5, 'carvedilol': 14, 'mch': 2, 'fick': 8, 'resed': 3, 'angioplasti': 12, 'om': 18, 'aspriat': 5, 'raet': 1, 'reamin': 6, 'culprit': 7, 'shiever': 1, 'dietician': 4, 'mvo': 3, 'thorecentesi': 2, 'sbg': 1, 'imi': 2, 'booboo': 1, 'wenesday': 2, 'rebump': 1, 'diag': 10, 'defecit': 6, 'wel': 3, 'stit': 1, 'alkalemia': 13, 'progre': 1, 'stepdown': 7, 'demisish': 1, 'corti': 2, 'fentanyli': 1, 'beliger': 3, 'crepiti': 3, 'defervesc': 11, 'bradypn': 1, 'stble': 1, 'greed': 1, 'swr': 1, 'dra': 12, 'hiccough': 1, 'sov': 1, 'serousangin': 4, 'caglucon': 1, 'billeou': 1, 'effuss': 7, 'restaint': 4, 'demor': 2, 'prebypass': 2, 'rewrap': 1, 'pnu': 1, 'absorbs': 1, 'thermodil': 1, 'restrart': 1, 'persis': 3, 'testic': 1, 'plerur': 1, 'inotrop': 2, 'veloc': 33, 'bollus': 2, 'pplat': 8, 'coreg': 8, 'capto': 1, 'precuaut': 1, 'awir': 1, 'sunction': 3, 'cardiogen': 36, 'ez': 4, 'epinephrin': 14, 'postbypass': 1, 'traponin': 1, 'flinch': 2, 'diaphores': 1, 'subtheraput': 2, 'lima': 3, 'cagluc': 2, 'milironon': 1, 'ucg': 2, 'gastroduoden': 3, 'antero': 1, 'pulmari': 1, 'redicat': 1, 'pedial': 6, 'vr': 10, 'effust': 1, 'jp': 12, 'cco': 4, 'nhp': 1, 'retal': 1, 'signift': 1, 'indenpedantli': 1, 'frang': 1, 'awean': 1, 'thermodilut': 3, 'origen': 2, 'recognis': 2, 'stidor': 1, 'cardiopulm': 9, 'yellowbrown': 1, 'antiobiot': 12, 'enquier': 2, 'abcess': 22, 'sttol': 1, 'unattend': 2, 'posibl': 7, 'milr': 2, 'diffficult': 1, 'barrium': 1, 'nippl': 5, 'comtin': 1, 'inadvert': 5, 'thickyellowish': 1, 'tvi': 5, 'milrinon': 5, 'mentali': 1, 'gon': 1, 'wap': 5, 'nuerolog': 2, 'fentenyl': 4, 'noreepi': 1, 'pervent': 2, 'receic': 2, \"dt'\": 1, 'beer': 4, 'epsiod': 3, 'remmind': 1, 'purpl': 17, 'yankuar': 3, 'mant': 1, 'tof': 8, 'aucult': 3, 'bs^': 1, 'ond': 1, 'norepi': 6, 'inth': 7, 'otc': 3, 'secondri': 1, 'kerley': 6, 'addenidum': 1, 'pneumomia': 2, 'healthey': 1, 'diltizem': 6, 'pleuracentesi': 1, 'diltazem': 1, 'dilatiazem': 1, 'riesman': 3, 'nigth': 3, 'chosen': 13, 'pertusi': 2, 'pertussi': 2, 'surpris': 9, 'nsaid': 13, 'deropenem': 1, 'bronchiectesi': 3, 'mucolyt': 2, 'chad': 11, 'doripenem': 2, 'spironolacton': 7, 'psa': 8, 'dorbipenem': 1, 'parox': 1, 'hyperparathyroid': 5, 'maxilla': 4, 'fot': 2, 'fluoroquinolon': 6, 'qualifi': 7, 'behav': 2, 'ipatropium': 4, 'ferment': 1, 'moh': 1, 'tvr': 1, 'pnysic': 1, 'guafenesi': 1, 'pulmonologist': 11, 'nicotin': 18, 'inepend': 1, 'upperairway': 3, 'whennam': 1, 'hest': 1, 'que': 1, 'occulud': 1, 'aggressiv': 1, 'xopenex': 15, 'sediat': 1, 'blast': 5, 'prescenc': 1, 'aeratin': 1, 'ecymosi': 1, 'spicul': 9, 'psychosi': 9, 'recomend': 7, 'emb': 1, 'diffuculti': 3, 'vancomyc': 1, 'multilevel': 42, 'mitt': 9, 'ultsnd': 2, 'cooki': 12, 'yougart': 1, 'psycosi': 1, 'atelactasi': 3, 'eccymosi': 7, 'previo': 3, 'cdc': 2, 'epulmonari': 1, 'drank': 11, 'slecp': 1, 'pneumococcu': 4, 'esoph': 6, 'bandemia': 29, 'radiotherapi': 5, 'ccr': 4, 'urol': 1, 'melanoptosi': 1, '`': 13, 'shuvel': 1, 'cocain': 14, 'laparotomi': 8, 'chemotherapi': 30, 'failurelik': 1, 'pneurmonia': 2, 'symptomat': 27, 'span': 13, 'pneumocysti': 18, 'rectu': 9, 'gall': 13, 'vaccin': 55, 'kayexyl': 2, 'crescent': 2, 'hepatopulmonari': 1, 'amlodipin': 24, 'chemoradi': 6, 'wegen': 6, 'durabl': 4, 'hypothyrod': 1, 'diazepam': 12, 'abdominu': 2, 'brachytherapi': 3, 'paramediastin': 10, 'hypertensioncurr': 1, 'worth': 6, 'valuim': 2, 'esophagectomi': 5, 'hemoptysi': 33, 'esophagogastrostomi': 1, 'dfdkq': 10, 'perf': 9, 'aw': 1, 'videofluoroscopi': 29, 'hurrican': 2, 'gastrosotmi': 2, 'nari': 8, 'coalesc': 6, 'teaspoon': 6, \"po'\": 2, 'ersd': 2, 'sough': 1, 'leftsid': 1, 'hyperchol': 2, 'hypercholesteremia': 2, 'imbal': 4, 'venipuctur': 1, 'hypointens': 8, 'sequenc': 20, 'lrge': 6, 'milki': 2, 'repsir': 1, 'lucid': 11, 'imipenuim': 1, 'coarsen': 10, 'sludgi': 2, 'olecranon': 1, 'substani': 2, 'imp': 5, 'uni': 8, 'exquisit': 1, 'pug': 2, 'ceftax': 4, 'expecor': 1, 'nocardia': 3, 'manner': 12, 'effevt': 1, 'tesla': 9, 'hast': 1, 'corticomedullari': 4, 'vibe': 1, 'sussept': 1, 'procardia': 5, 'inphas': 1, 'nocardiosi': 1, 'fk': 4, 'ure': 6, 'bowl': 5, 'chowder': 1, 'amyloid': 4, 'chlorothiazid': 3, 'brighten': 1, 'sxting': 2, 'efficaci': 6, 'remenisc': 1, 'probabali': 1, 'negatiov': 1, 'daytim': 46, 'duiril': 1, 'metamucil': 2, 'yogurt': 3, 'cereal': 5, 'engag': 20, 'uninterest': 2, 'frig': 1, 'dayshift': 5, 'bkft': 1, 'wafer': 1, 'energi': 8, 'enoucrag': 1, 'avb': 11, 'biscodyl': 5, 'chlorothiasid': 1, 'pool': 12, 'anyway': 6, 'car': 13, 'coumdadin': 1, 'sug': 4, 'eproxi': 1, 'initait': 1, 'nitroglycerin': 15, 'howver': 1, 'bother': 11, 'propuls': 16, 'detox': 5, 'vestibul': 6, 'marcan': 1, 'piriform': 20, 'sacroiliac': 5, 'sizeabl': 4, 'disfunct': 1, 'enag': 1, 'thrill': 9, 'elbo': 1, 'cellcept': 4, 'regiman': 3, 'prorgess': 1, 'metolazon': 5, 'tongiht': 3, 'aciti': 1, 'lyy': 1, 'extrmiti': 1, 'flattu': 1, 'minlabor': 1, 'toiler': 1, 'facet': 13, 'fac': 1, 'highflow': 1, 'gentli': 27, 'infilatr': 2, 'priest': 3, 'fistulogram': 2, 'anastomosi': 9, 'xii': 14, 'noncompli': 11, 'orbit': 16, 'scalp': 6, 'pulsatil': 2, 'squeak': 6, 'warrant': 32, 'tall': 4, 'hyperphsophatemia': 1, 'vii': 4, 'likelihoood': 1, 'dilit': 10, 'alternan': 3, 'venogram': 11, 'renagel': 4, 'ckd': 39, 'fistulagram': 1, 'huddl': 21, 'urem': 4, 'wenckebach': 3, 'stenos': 4, 'enya': 18, 'carpal': 6, 'skip': 3, 'rsr': 20, 'overdu': 1, 'intraorbit': 1, 'arterioven': 1, 'hydroxizin': 1, 'percocoet': 1, 'inattent': 2, 'injector': 1, 'pruriti': 2, 'hyperdens': 24, 'translum': 1, 'intracellular': 1, 'hemostasi': 13, 'diruesi': 6, 'chb': 3, 'remeb': 1, 'tendenc': 10, 'ketaconazol': 1, 'turp': 8, 'underwhelm': 4, 'flesh': 2, 'acheiev': 1, 'col': 4, 'concomin': 1, 'slighlt': 1, 'ai': 6, 'webtag': 9, 'sensitivt': 1, 'fluild': 1, 'jejuni': 1, 'lmore': 1, 'rmg': 1, 'split': 51, 'downtrend': 11, 'vigileo': 3, 'tcdb': 14, 'neurophysiolog': 2, 'group': 20, 'atov': 1, 'hemolysi': 25, 'unrev': 25, 'laryngospasm': 1, 'yetread': 1, 'ld': 9, 'coler': 2, 'javascript': 9, 'hapto': 5, 'haptoglobin': 8, 'cepodoxim': 1, 'conjuntiv': 1, 'cefpodoxim': 8, 'classic': 7, 'trand': 1, 'immunocompromis': 56, 'cltx': 1, 'handrail': 1, 'lupron': 5, 'avelox': 1, 'popup': 9, 'bioprosthesi': 5, 'loperamid': 2, 'hemodyanam': 2, 'florrid': 1, 'sclara': 1, 'wrr': 1, 'azithroymcin': 1, 'floridli': 1, 'contriubut': 1, 'noro': 1, 'contr': 1, 'legionel': 3, 'jude': 1, 'driven': 3, 'laugh': 7, 'breathless': 6, 'ucltx': 1, 'pah': 5, 'svv': 1, 'immunolog': 44, 'transven': 26, 'hflu': 3, 'unconcern': 2, 'gb': 9, 'rhale': 3, 'error': 29, 'contra': 6, 'persisit': 1, 'unread': 2, 'maintan': 8, 'occult': 22, 'absolut': 4, 'interpretor': 5, 'assign': 13, 'interstitium': 3, 'rxn': 11, 'contus': 4, 'oa': 10, 'probali': 1, 'movemont': 1, 'degrener': 1, 'circumst': 11, 'indepemnd': 1, 'uppper': 5, 'rune': 1, 'tachpnea': 3, 'temo': 1, 'aaspir': 1, 'ceftz': 2, 'cetaz': 1, 'vacomycin': 3, 'amalyas': 1, 'gastrojejun': 7, 'oca': 5, 'idiopath': 10, 'ambian': 2, 'pkt': 9, 'brachiel': 1, 'navig': 2, '^k': 1, 'anckl': 1, 'intraservic': 11, 'atro': 20, '^abd': 1, 'taler': 2, 'fascia': 3, 'reject': 11, 'kmcd': 2, 'absorpt': 10, 'diverticuli': 4, 'sched': 8, 'wordk': 1, 'immunosuppres': 6, 'hemolyz': 10, 'sml': 19, 'dismotil': 2, 'exal': 1, 'adb': 2, 'petroleum': 1, 'salmon': 1, 'crepit': 2, 'insuff': 4, 'weap': 7, 'unclot': 2, 'foll': 2, 'proteu': 8, 'vevel': 1, 'blaot': 1, 'lgt': 1, 'pararen': 1, 'miniscul': 3, '^bun': 1, 'aricept': 7, 'primairli': 1, 'grad': 3, 'lighter': 6, 'elecv': 1, 'dyspenia': 1, 'yank': 1, 'lbm': 11, 'scrape': 1, 'sabath': 1, 'studio': 1, 'bolt': 9, 'lotrisom': 1, 'kosher': 3, 'inguni': 1, 'creatnin': 6, 'bulbou': 1, 'azyg': 8, 'hilu': 14, 'kkgc': 17, 'epiglotti': 5, 'kerlix': 4, 'redraw': 10, 'noght': 1, 'immeadi': 1, 'cage': 9, 'bidh': 1, 'pen': 10, '^from': 1, '^vt': 1, 'arpund': 1, 'sternum': 11, 'copper': 4, 'angiomyolipoma': 3, 'azithromicyn': 1, 'osteophyt': 21, 'nondiagnost': 10, 'eccymot': 18, 'aaa': 14, 'afluttt': 1, 'aml': 14, 'surguri': 2, 'reloc': 3, 'dysmetria': 1, 'tolcapon': 1, 'answr': 1, 'precidex': 3, 'wb': 4, 'albeit': 5, 'polymorphonuclear': 13, 'marri': 21, 'bul': 11, 'perist': 6, 'flavor': 1, 'beig': 3, 'extuabt': 9, 'antianieti': 1, 'fluent': 36, 'inceas': 3, 'cutur': 3, 'meningioma': 2, 'azithromyin': 3, 'glucagon': 7, 'neurologist': 5, 'kyphot': 11, 'mmcosgroveannuloplasti': 1, 'spt': 9, 'bronchoalveolar': 9, 'batteri': 6, 'rbbi': 1, 'leukocyt': 20, 'tamsar': 1, 'tsp': 31, 'ctga': 1, 'mango': 1, 'lingual': 21, 'ettub': 1, 'kyphosi': 20, 'labial': 27, 'crestor': 3, 'sup': 16, 'protien': 1, 'respirartori': 3, 'multilobular': 5, 'ih': 22, 'ltach': 9, 'disintegr': 11, 'suck': 4, 'censu': 2, 'rsv': 13, 'vasectomi': 1, 'ntd': 6, 'tachypnia': 4, 'foi': 27, 'resdient': 4, 'pneumona': 5, 'hoars': 17, 'cane': 9, 'pramipexol': 1, 'yesterrday': 1, 'herniat': 11, 'rspiratori': 2, 'cfu': 7, 'formulari': 5, 'nasotrachi': 6, 'soln': 20, 'ili': 4, 'drown': 3, 'choos': 9, 'intellig': 7, 'acetylcystein': 4, 'presedex': 2, 'mirapex': 4, 'neurosurgeon': 4, 'runni': 2, 'anitibiot': 2, 'compensatori': 9, 'disk': 7, 'annuloplasti': 6, 'laparoscop': 4, 'protrud': 23, 'precedex': 7, 'desta': 1, 'inhibit': 2, 'incisor': 6, 'incoher': 4, 'scoot': 1, 'conf': 3, 'mitten': 2, 'vebal': 1, 'slit': 1, 'smeari': 1, 'countour': 1, 'emtion': 3, 'halway': 1, 'skizophrenia': 1, 'consentr': 1, 'restain': 2, 'nuetrin': 1, 'mough': 1, 'palsi': 7, 'extremti': 6, 'clossur': 1, 'dsoft': 1, 'scoliosi': 30, 'poe': 16, 'dischag': 2, 'nector': 3, 'rous': 7, 'thoracolumbar': 18, 'killian': 1, 'modif': 8, 'dextroscoliosi': 8, 'nponproduct': 1, 'pg': 6, 'valpraot': 1, 'antiseizur': 2, 'web': 5, 'wanst': 1, 'conceiv': 5, 'distor': 1, 'consistencei': 1, 'rotatori': 2, 'comdom': 2, 'fixat': 15, 'reisman': 2, 'manifest': 17, 'neoadjuv': 1, 'ove': 2, 'unpasteur': 1, 'icter': 8, 'tarceva': 1, 'plasmapheresi': 1, 'host': 6, 'hyponatrem': 10, 'synthet': 3, 'adh': 3, 'enou': 1, 'suppress': 20, 'producvt': 1, 'hyposmol': 6, 'workstat': 4, 'tensilon': 1, 'thyoma': 1, 'beam': 6, 'listeria': 2, 'rescucit': 4, 'osmol': 3, 'hemeroid': 1, 'cavo': 7, 'jxkc': 6, 'taxol': 3, 'usclip': 5, 'polydipsia': 2, 'dairi': 3, 'cardiorespiratori': 3, 'peipher': 1, 'beeen': 1, 'purula': 1, 'cytoxan': 5, 'billiari': 2, 'secert': 1, 'lobul': 8, 'plasma': 2, 'xeloda': 1, 'wsclip': 3, 'topleura': 1, 'anecho': 4, 'hyperbilirubinemia': 4, 'doxil': 1, 'atend': 1, 'paracentesi': 10, 'myasthenia': 1, 'carboplatin': 4, 'bulki': 12, 'cholestat': 3, 'bio': 3, 'ampillin': 1, 'adriamycin': 1, 'diplopia': 2, 'encompass': 3, 'cisplatin': 3, 'cantones': 7, 'alimta': 1, 'paclitaxel': 1, 'subtract': 5, 'subdiaphragmat': 67, 'subcapsular': 3, 'thymoma': 2, 'meningoenceph': 2, 'hemmoroid': 1, 'reactss': 1, 'drian': 4, 'isc': 1, 'brth': 1, 'prophylax': 1, 'disconect': 1, 'asmt': 1, 'pronglon': 1, 'hematopoet': 1, 'respo': 1, 'folvent': 1, 'psx': 2, 'foul': 21, 'tyelnol': 4, 'nse': 1, 'constraint': 2, 'tag': 3, 'antbx': 13, 'cca': 9, 'mtn': 1, 'pseuodomona': 1, 'moniotr': 6, 'suctionin': 3, 'expand': 33, 'legnth': 2, 'ascess': 1, 'coontrol': 1, 'nauseaou': 2, 'agrress': 2, 'copiuo': 5, 'respon': 4, 'roxicet': 6, 'pplan': 2, 'reticul': 6, 'ligh': 2, 'bdline': 2, 'dyapherit': 1, 'diverticular': 2, 'snt': 5, 'labul': 1, 'elevati': 1, 'bacteroid': 2, 'hr^^': 5, 'floos': 1, 'ctscan': 3, 'perfor': 21, 'vertebroplasti': 5, 'eosphil': 1, 'valsalva': 16, 'mechaniclli': 3, 'broncho': 6, 'py': 4, 'tage': 1, 'dwn': 1, 'spasm': 19, 'enorm': 2, 'brwn': 8, 'voltga': 1, 'sinustach': 1, 'sestamibi': 1, 'precarin': 19, 'cautar': 1, 'oid': 1, 'hemodynimc': 1, 'aqit': 1, 'dobbhoff': 31, 'ilestomi': 1, 'technetium': 1, 'iso': 5, 'wkness': 1, 'secrett': 2, 'drainabl': 9, 'tia': 20, 'nec': 3, 'amoutn': 4, 'tachynea': 2, 'mvment': 1, 'arma': 1, 'fidn': 1, 'ftw': 1, 'amout': 7, 'postsurg': 6, 'sulf': 3, 'viist': 1, 'aphon': 4, 'blding': 1, 'subsid': 21, 'acsecss': 1, 'exel': 2, 'eca': 5, 'pneumotx': 1, 'lf': 6, 'ultra': 4, 'intermittenli': 2, \"related'\": 1, 'craer': 1, 'comfot': 1, 'diminsish': 1, 'hemodym': 3, 'diamox': 20, 'ydrianiang': 1, 'vevn': 1, 'occus': 1, 'billari': 1, 'wbc^': 2, '^rr': 6, 'moderatr': 2, 'dimin': 6, 'unresolv': 3, 'functioningand': 1, \"huo'\": 1, 'abort': 10, 'apparatu': 3, 'latex': 9, 'sttled': 1, 'mit': 4, 'stoool': 3, 'tachypin': 1, 'divert': 3, 'revealedd': 1, 'thorughout': 2, 'hepatomegali': 7, 'spcific': 1, 'especailli': 1, 'cnii': 3, 'infuenza': 1, 'hasnt': 1, 'settng': 2, 'flowhseet': 1, 'meta': 15, 'atv': 4, 'atrioventricular': 2, 'levofloxicin': 9, 'colonoscopi': 18, 'subcutaen': 1, 'rhonchou': 2, 'adequet': 2, 'sychron': 1, 'pseudonorm': 5, 'pullm': 1, 'mdag': 15, 'descent': 2, 'vacuum': 5, 'distinctli': 2, 'ward': 2, 'cutoff': 1, 'grid': 3, 'diverticula': 17, 'encouragingli': 3, 'apec': 2, 'judici': 7, 'intermitenli': 2, 'mesh': 6, 'subchondr': 7, 'infx': 2, 'distalmost': 2, 'intracavitari': 1, 'startedon': 3, 'occurr': 2, 'sfv': 2, 'videoswallow': 7, 'zyti': 1, 'diaures': 2, 'simvastain': 1, 'bss': 2, 'tami': 1, 'andevid': 1, 'upgrad': 10, 'ventral': 11, 'safest': 6, 'pulmonal': 4, 'pector': 11, 'slice': 42, 'stapl': 18, 'cranial': 7, 'egd': 29, 'tmrw': 5, 'airflow': 4, 'tem': 2, 'prilosec': 14, 'nissen': 1, 'ceftazidin': 3, 'vw': 10, 'odd': 11, 'concurr': 31, 'euvolemia': 7, 'cfv': 1, 'distess': 3, 'evidenc': 22, 'mainstem': 10, 'subotim': 1, 'pulmn': 2, 'recom': 2, 'text': 7, 'ran': 6, 'greatest': 22, 'situ': 21, 'zydi': 7, 'osteopenia': 18, 'pneumotho': 1, 'arthropathi': 5, 'hysterectomi': 8, 'percordi': 1, 'seech': 2, 'parasept': 9, 'sesha': 6, 'sah': 5, 'frontopariet': 3, 'bulbar': 1, 'injur': 3, 'sylvian': 4, 'cong': 1, 'subarachnoid': 7, 'dysarthria': 5, 'jumbl': 1, 'extyra': 1, 'adr': 3, 'purplish': 3, 'legionalla': 5, 'pivx': 9, 'edemet': 3, 'pimpl': 1, 'retreat': 1, 'strang': 4, 'fidgeti': 4, 'corridor': 1, 'etco': 4, 'afew': 1, 'underarm': 2, 'hepati': 2, 'str': 17, 'bolum': 1, 'nonform': 2, 'ssuction': 2, 'fentlyl': 1, 'restraind': 2, 'rnd': 1, 'ivpb': 9, 'obay': 1, 'mnd': 2, 'evidens': 1, 'perirash': 1, 'perihepat': 13, 'decreasd': 1, 'asbout': 1, 'giggl': 1, 'feegingh': 1, 'lite': 2, 'htcz': 1, 'abber': 1, 'osteopen': 6, 'miconozol': 2, 'presid': 6, 'consolit': 1, 'attem': 1, 'wilth': 1, 'skew': 1, 'mpr': 1, 'periarea': 4, 'rpc': 2, 'guiaiac': 1, 'gmpo': 1, 'hadol': 2, 'overnit': 8, 'hasmi': 1, 'nonfunct': 1, 'yogert': 2, 'separ': 27, 'azm': 1, 'deaf': 7, 'bilaterali': 7, 'patern': 2, 'iffus': 1, 'ordr': 4, 'garrul': 1, 'earili': 1, 'tolaer': 1, 'electrocardiogram': 1, 'ooa': 1, 'benzodiazepen': 1, 'prvide': 1, 'peerl': 7, 'cappilari': 1, 'colostrin': 1, 'xoponex': 5, 'meropeum': 1, 'blackish': 2, 'clorazepam': 1, 'humor': 6, 'magneisum': 1, 'techiniqu': 1, 'albuter': 9, 'afeberil': 1, 'partic': 1, 'urgenc': 13, 'eczema': 1, 'laxilla': 1, 'append': 6, 'anxious': 4, 'washout': 8, 'malleabl': 1, 'evala': 1, 'reti': 1, \"ue'\": 1, 'mycostantin': 2, 'upcom': 4, 'angeogram': 1, 'incorper': 1, 'extremli': 3, 'potentia': 1, 'ruddi': 2, 'repostit': 1, 'invl': 1, 'mereponuem': 1, 'wtihout': 1, 'costyntropin': 1, 'mulitpl': 10, 'lback': 1, 'etern': 1, 'llu': 1, 'diifus': 1, 'ccof': 1, 'tfeed': 7, 'yellaw': 1, 'erethemat': 1, 'omn': 1, 'sennokot': 1, \"jp'sx\": 1, 'jpx': 2, 'oject': 1, 'insuffi': 3, 'lent': 2, 'effexor': 3, 'recommed': 3, 'flap': 6, 'fentyn': 8, 'totaol': 1, 'mdsi': 1, 'epigastrium': 8, 'survail': 6, \"svn'\": 1, 'colistin': 5, 'circut': 1, 'tubefeed': 9, 'viabl': 2, 'hhe': 1, 'addenda': 1, 'adaqu': 3, 'admittedli': 4, 'parit': 2, 'ccx': 3, 'agig': 2, 'postit': 4, 'startd': 1, 'respns': 1, 'abefril': 1, 'orietn': 1, 'fame': 1, 'muscular': 15, 'exr': 1, 'rmeian': 1, 'refocu': 1, 'pesseri': 1, 'parapelv': 6, 'biggest': 2, 'monr': 2, 'neur': 2, 'mustard': 1, 'kayexalt': 1, 'dghtr': 1, 'meatey': 1, 'fnetanyl': 1, 'zeroform': 1, 'movment': 8, 'dehisc': 7, 'screw': 7, 'feburari': 1, 'daay': 1, 'symmetri': 1, 'reasssurr': 1, 'bsd': 8, 'summer': 5, 'gluteu': 2, 'mutipl': 7, 'diminsih': 5, 'amm': 1, 'goos': 1, 'specfic': 2, 'magneisium': 1, 'fdsg': 1, 'dnrg': 1, 'awaqr': 1, 'appopri': 2, 'xop': 1, 'elix': 3, 'qi': 2, 'wnd': 3, 'medastin': 1, 'tlcc': 1, 'ivm': 1, 'sift': 2, \"mdi'\": 1, 'rectangular': 1, 'aniou': 1, 'suxn': 4, 'reoirent': 1, 'devot': 2, 'dislik': 3, 'convey': 13, \"'ye\": 2, 'costochondr': 2, 'placen': 1, 'minin': 1, 'suctio': 1, 'aggres': 9, 'en': 9, 'anitbiot': 5, 'lastnight': 2, 'tint': 2, 'pinken': 1, 'raspi': 5, 'guiaic': 16, 'roux': 4, 'servicv': 1, 'rhonchial': 1, \"de'sat\": 1, 'sixth': 4, 'micub': 4, 'envelop': 3, 'respitori': 5, 'insens': 21, 'lain': 1, 'inteq': 1, 'enterectomi': 1, 'depict': 8, 'awaint': 2, 'metizol': 1, 'solubl': 3, 'faccid': 1, 'mainatin': 2, 'foeli': 1, 'intentd': 1, 'gien': 1, 'tanish': 5, 'coas': 2, 'thicket': 2, 'auscleat': 1, 'explin': 3, 'haerd': 1, 'levofloxin': 6, 'linzolid': 1, 'regiem': 3, 'wrsit': 1, 'frc': 1, 'relativli': 1, 'survalli': 1, 'enquir': 2, 'vancxomycin': 1, 'vasoilin': 1, 'lungfield': 2, 'antbiot': 4, 'objecet': 1, 'neglig': 3, 'cardin': 1, 'cathart': 1, 'vista': 4, 'wamr': 1, 'lizinolid': 1, 'ceftadim': 1, 'softsorb': 7, 'inclus': 4, 'podi': 2, 'episdod': 1, 'preper': 4, 'adq': 9, 'sucret': 1, 'ceftam': 1, 'anaemia': 1, 'vagina': 2, 'progess': 4, 'sct': 7, \"'star\": 1, 'hick': 2, 'ceftamin': 1, 'ser': 1, 'race': 3, 'perineu': 1, 'immun': 9, 'cushion': 6, 'roho': 1, 'adenosin': 5, 'jmh': 2, 'intug': 1, 'sonc': 1, 'anal': 13, 'tfdg': 1, 'orientd': 2, 'gyn': 3, \"'broke\": 1, 'uc': 14, 'soup': 10, 'throb': 4, 'parathyroid': 1, 'renegel': 1, 'summeri': 2, 'azithromax': 6, 'ampogel': 1, 'elipt': 1, 'adenoma': 15, 'datail': 1, 'phosporu': 1, 'septa': 2, 'bronchopleur': 4, 'retrospect': 8, 'reso': 2, 'shaki': 7, 'pleurodesi': 7, 'csl': 4, 'thorascop': 2, 'infilpleas': 1, 'subcut': 6, 'ellipt': 3, 'oout': 1, 'allowa': 1, 'anzimet': 3, 'flet': 2, 'difficuti': 2, 'infilto': 1, 'strnum': 1, 'micronodular': 3, 'lert': 1, 'oer': 2, 'miliari': 1, 'xxl': 1, 'aprrox': 2, 'micronodul': 2, 'cxri': 1, 'repaet': 2, 'crapetu': 1, 'pneumodiastinum': 1, 'blebectomi': 1, 'doxi': 5, 'crepetu': 1, 'bariatr': 3, 'pneumatocel': 8, 'oppurtunist': 1, 'sanguni': 1, \"a'lin\": 1, 'spb': 6, 'cutan': 5, 'spiromt': 1, 'doxycyclin': 7, 'dizz': 1, 'cervicothorac': 2, 'bien': 1, 'anasarc': 6, 'exutb': 1, 'intravasculari': 1, 'catrh': 1, 'tnf': 1, 'cystotomi': 1, 'cystostomi': 1, 'cowork': 4, 'extravascularli': 2, 'ecoli': 7, 'whereabout': 1, 'mabp': 1, 'overgrowth': 3, 'cathol': 2, 'purpilish': 1, 'psychomimet': 3, 'aspirs': 1, 'uncompens': 2, 'flaki': 5, 'intraaxi': 2, 'doll': 1, 'liber': 14, 'nonreact': 3, 'unfold': 12, 'secreet': 1, 'whooz': 1, 'erythem': 4, 'unsrespons': 1, 'escar': 2, 'catm': 2, 'revisit': 7, 'riker': 1, 'pulseless': 7, 'sond': 1, 'smade': 1, 'jaw': 24, 'infiiltr': 1, 'afterloud': 1, 'hemorroid': 1, 'corneal': 6, 'pon': 11, 'cataton': 1, 'esmolol': 10, 'fist': 3, 'acx': 3, 'bib': 2, 'frown': 1, 'pea': 11, 'vagin': 11, 'prev': 28, 'jelfoam': 1, 'cardiova': 2, 'prayer': 3, 'recondit': 1, 'comatos': 1, 'aztreonam': 18, 'unobtain': 4, 'aticoagul': 1, 'verif': 5, 'sati': 3, 'sabp': 3, 'decison': 1, 'mornign': 2, 'norvasc': 13, 'myeloma': 5, 'dump': 3, 'debri': 16, 'crawl': 4, 'remaint': 1, 'sedement': 5, 'influ': 1, 'begant': 1, 'cystectomi': 3, 'montor': 4, 'mucosi': 1, 'lacer': 13, 'meax': 1, 'placedraing': 1, 'adequt': 2, 'creation': 3, 'prostatectomi': 4, 'prostetectomi': 1, 'attmept': 5, 'propabl': 1, 'disconjug': 2, 'meyloma': 1, 'sutr': 1, 'densest': 2, 'aroumd': 1, 'linen': 9, 'petechia': 3, 'mlij': 1, 'withdarw': 1, 'gaze': 9, 'diaphorect': 2, 'resdiual': 1, 'signifc': 5, 'irriagt': 1, 'built': 1, '\\x13': 2, 'bialter': 3, 'ppsv': 1, 'pulmo': 3, 'diali': 2, 'venodynn': 1, 'neobladd': 1, 'rum': 1, 'dysconjug': 1, 'agiti': 3, 'conduit': 1, 'radic': 5, 'mucuo': 1, 'ileal': 6, 'subtherapuet': 1, 'mciu': 1, 'bug': 7, 'frequ': 3, 'marijuana': 3, 'contralater': 9, 'shorten': 7, 'parametersthi': 1, 'dd': 4, 'lght': 1, 'malg': 1, 'frail': 19, 'bronchomalagia': 1, 'untx': 1, 'reaccumul': 18, 'paperi': 1, 'tko': 4, 'intubatd': 2, 'pri': 2, 'recrut': 1, 'apper': 6, 'gastrocult': 2, 'russian': 20, 'wf': 2, 'convinc': 15, 'pericardiac': 2, 'pericardiocentesi': 4, 'opa': 1, 'constrict': 13, 'seventh': 12, 'wider': 3, 'moreov': 3, 'paraspin': 11, 'extravascular': 1, 'lnco': 10, 'fosamax': 4, 'prestern': 1, 'psvt': 4, 'underpenetr': 8, 'regurgitaton': 1, 'alvaolar': 1, 'prssure': 1, 'tracheo': 6, 'pla': 2, 'epitympan': 1, 'adminst': 3, 'sect': 1, 'underdevelop': 1, 'npnn': 1, 'elimin': 10, 'medulla': 2, 'prodctiv': 1, 'delta': 5, 'vemtilatori': 1, 'haem': 1, 'rebreah': 1, 'fob': 1, 'ine': 3, 'hfn': 3, 'serousi': 1, '^wbc': 3, 'lingular': 28, 'illeoconduit': 1, 'prognossi': 1, 'intermediu': 11, 'sysol': 1, 'carrier': 2, 'yellowi': 3, 'intouch': 1, 'flowheet': 1, 'frome': 1, 'doson': 1, 'forgot': 1, 'drainot': 1, 'cant': 5, 'slightlti': 1, 'yankar': 4, 'nerv': 15, 'paussey': 1, 'dramaticali': 1, 'actiivti': 1, 'colostolmi': 1, 'pneumonai': 1, 'eright': 1, 'concommit': 1, 'zyperia': 1, 'element': 46, 'ileoconduit': 1, 'kaexal': 1, 'apear': 5, 'preform': 6, 'depth': 6, 'whch': 1, 'optimist': 5, 'explor': 6, 'urostomi': 3, 'ileo': 2, 'nauseau': 3, 'dirrahea': 1, 'oatmeal': 6, 'dgt': 6, 'cheer': 2, 'scapula': 13, 'conlosomi': 1, 'sugereon': 1, 'pulmologist': 1, 'scapular': 4, 'crossreact': 2, 'miropenum': 1, 'nhl': 5, 'ivg': 1, 'stopper': 1, 'friabl': 3, 'potasium': 1, 'puriti': 2, 'ivig': 11, 'cephalasporin': 1, 'bmt': 10, 'allo': 2, 'amul': 1, 'oxza': 11, 'enterococc': 7, 'pbec': 6, 'intto': 1, 'width': 11, 'overdos': 14, 'cervicomedullari': 1, 'childlik': 1, '^^dbp': 1, 'wimper': 1, 'tangl': 1, 'dbp': 4, 'simplest': 2, '^b': 1, 'bead': 3, 'normoxia': 4, 'creatanin': 2, 'pnc': 1, 'granulomatu': 1, 'thera': 1, 'theravest': 1, 'overextend': 1, 'arouas': 1, 'orichectomi': 1, 'reddn': 1, 'pjc': 2, 'dimins': 1, 'perp': 4, 'medici': 1, 'repositon': 3, 'sel': 2, 'child': 3, 'ocasion': 1, 'grabe': 1, 'regiment': 15, 'lisinpril': 2, 'exce': 3, 'secretio': 4, 'execut': 1, 'acepella': 2, 'reass': 5, 'sooner': 5, 'unequ': 6, 'accapela': 1, 'infra': 5, 'osteomylitit': 1, 'duti': 1, 'reslov': 2, 'heartedli': 1, 'ofemal': 1, 'dypsnea': 5, 'atempt': 4, 'caretak': 9, 'prsent': 2, 'yhe': 2, 'reqir': 2, 'serav': 1, 'inconten': 1, 'es': 2, 'frank': 41, \"rx'ed\": 1, 'volecula': 1, 'infultr': 1, 'ronchioru': 1, 'zelnorm': 1, 'coarctat': 19, 'triscupid': 1, 'stenot': 6, 'pasp': 6, 'precipitatnt': 1, 'phtn': 11, 'bleeder': 1, 'iwth': 4, 'il': 4, 'renov': 2, 'kl': 1, 'vq': 5, 'emt': 7, 'methylypredison': 1, 'suppelement': 1, 'nivm': 1, 'tomorow': 2, 'mangement': 4, 'pred': 23, 'hiflo': 2, 'ddimer': 4, 'vertigo': 4, 'vasoconstrict': 1, 'formerli': 5, 'recordsno': 6, 'hyperpigment': 4, 'corynebacterium': 2, 'propionibacterium': 1, 'woodi': 2, 'estblish': 2, 'diphtheroid': 1, 'herpain': 1, 'linger': 4, 'preset': 2, 'radium': 1, 'hydralizn': 1, 'contorl': 2, 'zarolyn': 1, 'inconsitantli': 2, 'wcc': 3, 'seep': 1, 'appropraitley': 1, 'wieght': 1, 'givenk': 1, 'respalar': 2, 'perforati': 1, 'weakish': 1, 'ampi': 1, 'collector': 1, 'pericol': 2, 'montipodi': 1, 'formal': 32, 'hlthi': 1, 'aztroneum': 1, 'gerner': 1, 'airclean': 1, '^p': 3, 'hue': 2, 'zaroxlyn': 2, 'gingerli': 1, 'grion': 1, 'satisfcatori': 1, 'yesturday': 4, 'hyperperfus': 1, 'ordin': 1, 'stoll': 3, 'discov': 9, 'shorter': 17, 'kinder': 1, 'overnightm': 1, 'hydralalzin': 1, 'transud': 13, 'bodili': 3, 'noncommun': 5, 'crrect': 1, 'cpc': 1, 'mininm': 1, 'elevi': 1, 'breakdoown': 1, 'aztronam': 1, 'mulitpodu': 1, 'specimin': 2, 'trachmask': 2, 'ontinu': 2, 'oedematu': 1, 'du': 3, 'fsqid': 1, 'jg': 2, 'posteri': 1, 'ozz': 1, 'harden': 6, 'aqaucel': 1, 'uncomf': 1, 'toadi': 2, 'infilt': 2, 'dinitr': 4, 'survel': 3, 'rectosigmoid': 6, 'cytotox': 2, 'coccyxx': 1, 'localis': 1, 'intraparenchym': 9, 'mmeq': 1, 'sleev': 9, 'crt': 5, 'sata': 3, 'cerebellar': 10, 'antx': 1, 'pyret': 1, 'palption': 1, 'cocyx': 4, 'positon': 2, 'respelar': 1, 'jt': 5, 'bibasilarli': 4, 'positv': 1, 'maintin': 2, 'lbo': 1, 'foreatrm': 1, 'apperar': 1, 'hydralzin': 4, 'tilt': 8, 'vaginosi': 2, 'defi': 1, 'sours': 2, 'ldp': 1, 'appaer': 1, 'acuiti': 7, 'purposeful': 1, 'agon': 3, 'ivfb': 4, 'atheromat': 3, 'aka': 5, 'vnetil': 1, 'bein': 1, 'zaroxolyn': 2, 'offens': 1, 'committe': 1, 'fluconasol': 1, 'aggre': 1, 'aircel': 1, 'vasolin': 4, 'pv': 8, 'oxycondon': 2, 'gantri': 1, 'heprin': 6, 'sheepskin': 1, 'fentali': 2, 'incon': 2, 'mew': 2, 'clammi': 12, 'dwi': 2, 'mcqx': 1, 'appart': 2, 'prosthes': 3, 'pressr': 2, 'hemiarthroplasti': 6, 'fiscal': 1, 'occipt': 2, 'mmgh': 1, 'hosptial': 4, 'llarm': 2, 'vanginosi': 1, 'reschdul': 1, 'responc': 8, 'nxt': 1, 'dysrhythmia': 10, 'aquir': 13, 'sooth': 2, 'olansapin': 1, 'resplor': 1, 'necess': 5, 'led': 13, 'trasnfer': 1, 'mononitr': 5, 'loadli': 1, 'ocg': 1, 'montioedu': 1, 'feacal': 1, 'capsul': 18, 'mediacl': 1, 'agait': 2, 'pyrexia': 44, 'bigemni': 2, 'wheex': 1, 'zaroxyln': 3, 'weean': 1, 'aztreoneum': 1, 'paracol': 8, 'eccomot': 1, 'grn': 2, 'sulcal': 6, 'contast': 1, 'metalazon': 1, 'abandon': 3, 'vicin': 2, 'septat': 8, 'pullback': 2, 'dependantli': 1, 'gwp': 10, 'jkpe': 5, 'calculu': 9, 'ureter': 9, 'nitinol': 7, 'anspir': 1, 'natg': 4, 'join': 3, 'redund': 8, 'sincer': 1, 'rhonchour': 6, 'flagli': 4, 'intraretroperiton': 1, 'sweati': 2, 'tachyn': 3, 'gastrografin': 5, 'irragt': 1, 'afflutt': 1, 'serosangi': 2, 'restag': 1, 'acetabulum': 8, 'periost': 3, 'mycobacteri': 3, 'crest': 2, 'metstat': 1, 'toast': 5, 'iliac': 41, 'sutent': 2, 'burden': 10, 'rcc': 7, 'subtrochanter': 1, 'paraaort': 8, 'meanwhil': 4, 'choleycsytectomi': 1, 'pallor': 24, 'zolpidem': 7, 'coax': 1, 'wn': 4, 'varoc': 1, 'bedrest': 13, 'vagal': 9, 'avm': 5, 'ursodiol': 4, 'escitalopram': 2, 'grandaugth': 1, 'levoflaoxacin': 1, 'wd': 14, 'wthdrawal': 1, 'nadolol': 3, 'reble': 2, 'oxal': 2, 'ah': 7, 'hydrochlorothiazid': 7, 'imfect': 1, 'intermmitantli': 1, 'ventric': 3, 'whereupon': 1, 'tachypenia': 1, 'oppos': 8, 'somehat': 2, 'gc': 3, 'pedicl': 7, 'flr': 2, 'delir': 10, 'wander': 6, 'bullet': 1, \"desat'd\": 1, 'kaexyl': 2, 'sarcast': 1, 'quadriplegia': 5, 'ergocalciferol': 1, 'bacolfen': 1, 'cxwc': 11, 'tbw': 3, 'automon': 1, 'faci': 1, 'ulcuer': 1, 'jxrl': 14, 'readdmit': 1, 'engin': 4, 'lgr': 7, 'siezur': 8, 'aeruginosa': 5, 'subclin': 3, 'twave': 5, 'pseudomon': 13, 'mutlipl': 2, 'brimonidin': 2, 'pertain': 3, 'moon': 1, 'funguria': 1, 'initiali': 4, 'minatin': 1, 'parapsilosi': 2, 'kit': 8, 'recreat': 4, 'carbetolol': 1, 'alphagan': 1, 'nystagmu': 3, 'maker': 5, 'dysreflexia': 1, 'antizeizur': 1, 'tegretol': 4, 'clonic': 6, 'carbamezapin': 1, 'lomotrigen': 1, 'illus': 1, 'quadraplegia': 4, 'pseudamona': 2, 'transter': 1, 'semest': 1, 'unwit': 5, 'deafferent': 1, 'fish': 6, 'magic': 2, 'cardiogram': 1, 'spring': 1, 'poop': 1, 'glycerin': 1, 'epilepsi': 3, 'tonic': 6, 'enulos': 1, 'centrum': 6, 'frankli': 5, 'esteras': 3, 'omega': 2, 'spark': 2, 'colono': 1, 'taut': 2, 'caucasian': 5, 'poisitv': 1, 'pneumionia': 1, 'pern': 1, 'teacher': 2, 'travatan': 1, 'professor': 1, 'intrathec': 3, 'hyponateremia': 1, 'antiepilept': 2, 'strernal': 1, 'seixur': 1, 'tibial': 42, 'ictal': 3, 'oxybutynin': 5, 'dysflexia': 1, 'opposit': 2, 'bactroban': 3, 'cauda': 6, 'guag': 8, 'monotor': 2, 'coears': 1, \"sat'\": 5, 'phlegmon': 2, 'crept': 1, 'iliacu': 3, 'hemov': 1, 'fectal': 2, 'easlli': 1, 'equina': 6, 'ivkcl': 1, 'execept': 1, 'punc': 1, 'ise': 1, 'pu': 11, 'avaiabl': 1, 'withl': 1, 'ketamin': 1, 'toradol': 6, 'instrument': 13, 'breaktrough': 1, 'prductiv': 1, 'malalign': 5, 'ninth': 4, 'piccl': 1, 'aldacton': 6, 'pdst': 1, 'videotap': 1, 'infrahepat': 1, 'fade': 5, 'anterio': 2, 'duloxetin': 6, 'vnetilatori': 1, 'anu': 4, 'tlso': 1, 'anbx': 21, 'stri': 1, 'disciti': 4, 'drove': 2, 'vertic': 12, 'ilater': 1, 'hydrouret': 10, 'canal': 21, 'trendelenburg': 1, 'stopp': 2, 'limet': 1, 'schmorl': 4, 'aam': 2, 'thorsic': 1, 'loculat': 1, 'maiami': 1, 'stylet': 7, 'revalu': 6, 'extradur': 2, 'loww': 1, 'comofrt': 1, 'mad': 2, 'cariothorac': 1, 'aat': 2, 'thoracoabdomin': 3, 'optimis': 1, 'psoa': 6, 'undersid': 3, 'thecal': 4, 'hematom': 1, 'retropharyng': 3, 'endplat': 17, 'intraop': 6, 'herp': 15, 'cusp': 1, 'recit': 2, 'steri': 3, 'hemovac': 4, 'dural': 5, 'determi': 1, 'urinalysi': 10, 'theet': 1, 'nsurg': 3, 'bizarr': 2, 'citi': 3, 'callu': 5, 'withsmal': 1, 'oal': 1, 'dislpay': 1, 'stoo': 2, 'transmit': 11, 'crepid': 1, 'dermatolog': 6, 'applejuic': 1, 'lter': 2, 'unil': 1, 'abc': 3, 'plethora': 4, 'dependec': 1, 'diuress': 4, 'fordeti': 1, \"sxn'ed\": 3, 'thirti': 4, 'prepocedur': 1, 'unfett': 1, 'diagnsi': 1, 'psychoact': 4, 'kideni': 1, 'extrins': 5, 'propag': 1, 'successful': 1, 'hypospadiu': 1, 'analges': 7, 'hxof': 2, 'fascilit': 1, 'gemini': 1, 'csft': 1, 'bloodier': 1, 'themselv': 2, 'trrend': 1, 'throughoutth': 1, 'thoras': 6, 'advnc': 1, 'seru': 1, 'fube': 1, 'bloodcx': 1, 'dimnish': 1, \"mvm't\": 2, 'increment': 6, 'paracetamol': 1, 'souc': 2, 'innomin': 6, 'honor': 1, 'upperlob': 2, 'occluss': 1, 'preocedur': 1, 'cortico': 1, 'anasarcoid': 4, 'mbp': 1, 'impercept': 1, 'apa': 2, 'abmul': 1, 'parkison': 1, 'screener': 6, 'condtiion': 1, 'linezilid': 1, 'rp': 14, 'biotic': 1, 'ride': 6, 'sangun': 1, 'gluconst': 1, 'instal': 5, 'stich': 2, 'surgicel': 2, 'inferomedi': 2, 'thorocoscopi': 1, 'necesit': 2, 'aftr': 1, 'dow': 3, 'rra': 1, 'applli': 1, 'sangeou': 1, 'concent': 1, \"parkinsons'\": 1, 'hemothorax': 8, 'thrombolyt': 1, 'arris': 1, 'surgifoam': 1, 'unblock': 2, 'sofsorb': 2, 'adress': 2, 'diurisis': 1, 'peroxid': 3, 'hopeful': 2, 'pos': 2, 'pod': 15, 'pvsv': 1, 'giacc': 1, 'cheat': 1, 'receivi': 2, 'findibg': 1, 'uosh': 1, 'dfdgf': 1, 'hydrogen': 2, 'sanguein': 1, 'comfortabley': 2, 'cogniz': 1, 'trahc': 3, 'pleuravac': 2, 'lscl': 1, 'inrr': 1, 'rigth': 3, 'stimualt': 2, 'linezalid': 1, 'inde': 6, 'nostril': 12, 'clearn': 1, 'hesit': 10, 'corticobas': 1, 'toss': 4, 'grimis': 1, 'goiter': 6, 'consol': 5, 'lengthli': 2, 'granulomat': 9, 'viscera': 7, 'hounsfield': 8, 'sangin': 1, 'venographi': 3, 'proc': 4, 'erthemat': 2, 'faecium': 1, 'intrapleur': 3, 'errythema': 1, 'thorocotomi': 2, 'moisten': 3, 'susequ': 2, 'precedur': 1, 'elestoplast': 1, 'sanguan': 1, 'approxam': 1, 'evacu': 15, 'femer': 3, 'cone': 2, 'caught': 4, 'faulti': 1, 'kaposi': 1, 'costodiaphragmat': 1, 'assciat': 1, 'sarcoma': 1, 'thrach': 2, 'anasarka': 1, 'alkaloti': 1, 'alquez': 1, 'gastroesophag': 29, 'varicos': 3, 'hyoptn': 1, 'intox': 7, 'ruptur': 18, 'preferenti': 1, 'lemonad': 2, 'leter': 1, 'poli': 26, 'hemmorhoid': 2, 'agonist': 3, 'raloxifen': 1, 'compli': 7, 'unisyn': 1, 'cytotec': 1, 'proair': 2, 'ndnt': 6, 'withourt': 1, 'perphenazin': 1, 'urobil': 3, 'sublingu': 5, 'fibromyalgia': 3, 'fluoxetin': 4, 'pericardia': 2, 'amphetamin': 1, 'bj': 2, 'weigh': 7, 'treand': 2, 'ibw': 10, 'nervosa': 2, 'conform': 3, 'acetonid': 1, 'notdon': 4, 'sentanc': 3, 'ht': 11, 'fioricet': 1, 'unsaf': 13, 'basex': 6, 'imipress': 1, 'propoxyphen': 4, 'clearish': 1, 'sillihett': 1, 'nco': 6, 'aton': 1, 'mthdne': 1, 'tah': 5, 'cigarett': 11, 'introduct': 3, 'agap': 9, 'bpd': 1, 'anorexia': 10, 'bso': 2, 'td': 12, 'reguir': 2, 'whitmil': 6, 'ptsd': 7, 'handihal': 1, 'disku': 6, 'dextroamphetamin': 1, 'butalbit': 2, 'tackynp': 1, 'warn': 3, 'dlco': 2, 'ipa': 1, 'hfa': 3, 'evista': 1, 'sink': 1, 'misoprost': 1, 'acetmnphn': 3, 'phych': 1, 'adam': 4, 'folic': 13, 'synopsi': 5, 'hc': 6, 'ptch': 6, 'slawwolow': 1, 'sytem': 3, 'misoprostol': 1, 'gastriti': 17, 'antipyret': 6, 'boderlin': 4, 'cxrshow': 1, 'scaphoid': 3, 'gastroenterolog': 4, 'costrophren': 1, 'nitr': 6, 'spirat': 2, 'probnp': 5, 'barb': 3, 'triamcinolon': 3, 'pft': 21, 'lump': 4, 'ket': 5, 'briefi': 1, 'pown': 1, 'spegr': 1, 'ctropnt': 2, 'tibc': 8, 'ref': 6, 'amphet': 1, 'sulfasalazin': 3, 'rqeaction': 1, 'tranferrin': 1, 'caff': 2, 'breast': 38, 'intensitif': 1, 'naproxen': 2, 'unalt': 4, 'abstienc': 1, 'acet': 9, 'lumpectomi': 7, 'pulsu': 6, 'arthralgia': 10, 'reman': 3, 'psychiatrist': 10, 'tahbso': 1, 'congenit': 19, 'sniff': 8, 'secundum': 6, 'jbre': 9, 'atrio': 5, 'cmc': 2, 'congruent': 4, 'undiagnos': 6, 'resembl': 2, 'tuberculosi': 7, 'thoracoscopi': 4, 'underexposur': 1, 'hallux': 1, 'styloid': 1, 'calcan': 1, 'talu': 3, 'tubercul': 2, 'phalang': 3, 'pleur': 1, 'leftclip': 1, 'mtp': 1, 'mortis': 3, 'valgu': 1, 'phalanx': 4, 'regist': 5, 'exub': 6, 'wheen': 1, \"lft'\": 5, 'nct': 1, 'quicki': 1, 'hematolog': 20, 'roadtrip': 1, 'erron': 3, 'pleuro': 1, 'ultrsonograph': 1, 'dwell': 5, 'pils': 1, 'inaffect': 1, 'hre': 1, 'coccidiomycosi': 2, 'splenul': 10, 'dicuss': 1, 'sternocleidomastoid': 3, 'resuct': 1, 'servi': 1, 'tracheomegali': 1, 'armi': 1, 'formatio': 1, 'bullou': 8, 'osmolit': 2, 'ation': 1, 'apetit': 11, 'neub': 2, 'trandfer': 1, 'snooz': 2, 'ichi': 1, 'reamain': 1, 'levofloxcin': 3, 'aloevista': 1, 'suppoert': 1, 'wcommand': 1, 'epicard': 2, 'blisteri': 1, 'pearll': 1, 'dression': 1, 'sbradi': 1, 'dilatin': 3, 'zesteril': 1, 'svg': 4, 'tenati': 1, 'eccymoisi': 1, 'bsp': 2, 'consistanli': 1, 'adult': 10, 'scrotal': 16, 'truck': 2, 'chet': 1, 'vericilla': 1, 'extremitli': 1, 'spound': 1, 'activeti': 1, 'insu': 1, 'zooster': 1, 'tachynep': 1, 'reavtiv': 1, 'salvag': 2, 'randomli': 3, 'multpl': 3, 'clotti': 1, 'raplac': 1, 'wih': 2, 'nooon': 1, 'onleft': 1, 'sxnd': 4, 'zoster': 13, 'incison': 1, 'heartrat': 1, 'wriiten': 1, 'immmedi': 1, 'ligi': 1, 'sponteous': 1, 'consistli': 1, 'ssx': 1, 'ey': 2, 'ansthesia': 1, 'zorviax': 1, 'sersang': 2, 'follo': 2, 'amal': 2, 'everywher': 1, 'asper': 3, 'sternaum': 1, 'draian': 2, 'overngiht': 4, 'serosan': 1, 'intermittingli': 2, 'ventolin': 4, 'lcw': 4, 'cheang': 1, 'euqal': 1, 'tensiv': 2, 'zoooster': 1, 'incontinencr': 1, 'commnad': 4, 'pruiti': 1, 'catc': 1, 'dermotolog': 1, 'vip': 3, 'waiv': 1, 'perepher': 1, 'meripenem': 3, 'merpanem': 1, 'whiel': 1, '\\x13transfer': 1, 'optmiz': 1, 'copazin': 2, 'interig': 1, 'anitcoagul': 1, 'hereconfirm': 1, 'continuo': 3, 'exaust': 1, 'luekemia': 1, 'leukemia': 7, 'srackl': 1, 'urothelium': 1, 'axil': 3, 'wipe': 8, 'peripelv': 1, 'anitbx': 2, 'supersorb': 1, 'scout': 16, 'evalua': 3, 'hyperecho': 8, 'ccm': 1, 'soluabl': 1, 'furthermor': 8, 'apppli': 2, 'clotrimazol': 6, 'clotimazol': 1, 'ureteropelv': 1, 'fenestr': 6, 'pseudoaneurysm': 7, 'amorph': 3, 'parapharyng': 1, 'recomm': 2, 'ucerin': 1, 'foreign': 13, 'anticubit': 4, 'laryngectomi': 2, 'tracheoinnomin': 1, 'blooy': 1, 'regual': 1, 'crusti': 4, 'swallo': 2, 'submandibular': 5, 'adjunct': 3, 'vad': 2, 'qaudrant': 1, 'effu': 6, 'recurrenti': 1, 'gbeen': 1, 'succes': 4, 'jwk': 4, 'neurotin': 1, \"^'ng\": 1, 'mjoriti': 1, 'flucanazol': 1, 'psup': 3, 'delus': 2, 'diagnsot': 1, 'diavan': 1, 'ntp': 6, 'treponin': 1, 'doorway': 2, 'puppet': 1, 'positivli': 2, 'aful': 1, 'errl': 1, 'minimi': 2, 'slightk': 1, 'autoduiresi': 1, 'allerigi': 1, 'greeen': 1, 'fire': 8, 'nephro': 2, 'pregress': 1, 'keton': 9, 'exbub': 1, 'remaain': 1, 'noew': 1, 'hpp': 1, 'eyedrop': 2, 'metaprolol': 4, 'box': 7, 'rap': 10, 'enyzm': 1, 'prograf': 3, 'tripll': 1, 'swill': 1, 'blacj': 1, 'combivir': 3, 'miseri': 1, 'knock': 4, 'funni': 2, 'ambein': 1, 'cepacol': 2, 'monthli': 6, 'betadin': 3, 'dmi': 3, 'tessalon': 9, 'lozeng': 3, 'materail': 1, 'sinnis': 1, 'enviro': 3, 'comun': 3, 'labatalol': 2, 'nephrologist': 4, 'voluntari': 1, 'nown': 1, 'quinton': 3, 'ultrafiltr': 6, 'cyclosporin': 3, 'prefe': 1, 'novea': 1, 'inquier': 4, 'vl': 18, 'dializ': 1, 'interf': 1, 'filtrat': 2, 'unsupervis': 2, 'undertaken': 2, 'seconari': 1, 'gurgl': 10, 'albulterol': 1, 'tilet': 1, 'activrti': 1, 'leionella': 1, 'cefrtiaxon': 1, 'dispneaic': 1, 'overwhelm': 9, 'avtiv': 1, 'ampicillan': 1, 'aoox': 7, 'acd': 6, 'bi': 6, 'poh': 1, 'nonocclus': 9, 'siunc': 1, 'thromboctopenia': 1, 'ivmeropenum': 1, 'swoll': 1, 'generak': 1, 'prohylaxi': 1, 'brca': 2, 'prophylact': 20, 'ngiht': 4, 'fbca': 4, 'ciproflox': 1, 'nightli': 5, 'valerian': 1, 'mepliex': 1, 'infitr': 5, 'warmth': 7, 'ibd': 2, 'belladonna': 1, 'nppv': 6, 'electron': 9, \"'thumb\": 1, 'ldn': 6, 'alkaloid': 1, 'app': 5, 'gleed': 1, 'nonbroken': 1, 'tinea': 1, 'microb': 2, 'recordsbelladonna': 1, 'mesalamin': 2, 'recentlli': 1, 'sole': 6, 'apppear': 3, 'hytrin': 1, 'thoracentisi': 2, 'legioniella': 1, 'vist': 2, 'cardiophren': 8, 'rslt': 1, 'spiromoeteri': 1, 'xygri': 2, 'phi': 4, 'extract': 9, 'likewis': 1, 'hyperv': 1, 'bcaus': 1, 'thorocentisi': 1, 'bracelet': 6, 'arter': 1, 'glucaphag': 1, 'niddm': 8, 'delirum': 1, 'canot': 1, '^doe': 1, 'un': 8, 'repletd': 1, 'evetu': 1, 'meropanem': 1, 'nasointestin': 9, 'trens': 1, 'amalys': 1, 'lye': 1, 'presen': 1, 'physio': 2, \"tom'row\": 3, 'upperarm': 1, '^restless': 1, 'reintroduc': 4, 'lipomat': 4, 'labour': 2, 'phlebotomi': 15, 'detemin': 1, 'mutilobar': 1, 'contrari': 1, 'curs': 2, 'ststu': 1, 'nasagmu': 1, 'brreath': 1, 'espec': 2, 'floro': 1, 'paralys': 6, 'aurgument': 1, 'accustom': 1, 'funtion': 3, 'interstit': 4, 'inconclus': 5, 'bigemeni': 2, 'dubhoff': 6, 'lltc': 12, 'umbil': 12, 'powerpicc': 4, 'angular': 1, 'tether': 6, 'ceph': 2, 'transfix': 2, 'withstood': 1, 'intrabd': 2, 'pneumostat': 3, 'simethcon': 1, 'unreli': 6, 'simethecon': 2, 'epidisod': 1, 'psychiatri': 12, 'consutl': 2, 'stelazin': 1, 'cogentin': 2, 'vew': 1, 'debrit': 1, 'flakey': 2, 'diskiti': 3, 'linezoid': 2, 'lysi': 5, 'everythingthat': 1, 'vetebr': 1, 'pinpoint': 4, 'aveeno': 1, 'confusedat': 1, 'intr': 1, 'mentatl': 1, 'neural': 13, 'ultrcal': 1, 'lookup': 1, 'coach': 15, 'hte': 4, 'neurosurgeri': 5, 'discectomi': 1, 'drn': 1, 'thinner': 7, 'erthyma': 1, 'obliter': 14, 'trumor': 1, 'tobra': 6, 'thrombophleb': 2, 'aveno': 1, 'tylenool': 1, 'demorol': 1, 'intrisinc': 1, 'serous': 1, 'veterbr': 1, 'repletet': 1, 'copious': 1, 'rectovagin': 1, 'foramin': 11, 'bounc': 4, 'macular': 12, 'cha': 2, 'loongterm': 1, 'tremul': 14, 'foramina': 4, 'telelphon': 1, 'intraabd': 1, 'johnson': 1, 'cheny': 2, 'mscontin': 1, 'osteomyleti': 1, 'dryness': 5, 'cape': 2, 'creast': 1, 'flake': 15, 'erythma': 1, 'ostreomyl': 1, 'vooid': 1, 'endocardidti': 1, 'bister': 1, 'noncompress': 5, \"'call\": 1, 'resuscitaion': 1, 'rhtym': 3, 'dring': 1, \"shock'\": 1, \"'infrequ\": 1, 'yesterdaym': 1, 'ventriclar': 1, 'bdrest': 1, 'parallel': 2, 'salvo': 1, 'sugest': 1, 'bloddi': 1, 'pancreatectomi': 1, 'cyberknif': 3, 'sppleenectomi': 1, 'sideroblast': 1, 'angioectasia': 2, 'myeloid': 1, 'myelofibrsi': 1, 'metaplasia': 2, 'admisson': 1, 'adenocarcinoma': 17, 'overinfl': 8, 'pneumoth': 2, 'pneurmothorax': 1, 'ctto': 1, 'regress': 12, 'placmeent': 1, 'analyz': 12, 'knob': 12, 'infradiaphragmat': 3, 'refrain': 2, 'remaisn': 4, 'orientedx': 7, 'thoracoscop': 2, 'tehn': 1, 'ovarian': 6, 'unchnag': 1, 'hernial': 1, 'diastasi': 3, 'uniformli': 4, 'nondepend': 6, 'cystocopi': 2, 'ctpa': 7, 'cystoscopi': 6, 'mwintain': 1, 'energet': 1, 'expectorationg': 1, 'plenti': 4, 'cardiovers': 14, 'rocephin': 2, 'physican': 1, 'fontal': 1, 'indciat': 1, 'superinmpos': 1, 'lobd': 1, 'eager': 5, 'popsickl': 1, 'poisit': 1, 'ceftrax': 1, 'conc': 6, 'discoordin': 6, 'guifensan': 1, 'sath': 1, 'effusio': 5, 'vaxcel': 6, 'vv': 2, 'apnic': 6, 'unrepair': 1, 'hemiplegia': 5, 'genamycin': 1, 'mersa': 1, 'disclos': 4, 'volun': 1, 'everth': 1, 'float': 2, 'coher': 7, 'rouseabl': 2, 'annoy': 2, 'inmmobil': 1, 'instrins': 1, 'hpa': 2, 'venepunctur': 1, 'unus': 4, 'lawn': 1, 'taco': 1, 'postherpet': 1, 'faith': 1, 'basilarli': 1, 'clottedcan': 1, 'allosct': 2, 'allogen': 3, 'artifici': 5, 'outer': 4, 'pentamidin': 3, 'ptosi': 1, 'effsuin': 2, 'guidenc': 1, 'silver': 6, 'gvhd': 2, 'hemorr': 1, 'neuralgia': 2, 'mow': 1, 'sidept': 1, 'miscarriag': 2, 'stiffen': 7, 'fistalugram': 1, 'nephrolog': 6, 'pregabalin': 3, 'angiodynam': 2, 'dapson': 4, 'herpet': 2, 'edeman': 2, 'cuffleak': 2, 'yhi': 1, 'medcat': 1, 'cellult': 1, 'semioval': 3, 'microvessel': 1, 'aca': 4, 'thoracenteci': 1, 'encephalomalac': 2, 'flagi': 2, 'circl': 7, 'alz': 1, 'lvia': 3, 'awat': 2, 'ecotpi': 2, 'trah': 2, 'optomist': 1, 'pvo': 1, 'sputumwith': 1, 'unifib': 1, 'sechedul': 1, 'withbl': 1, 'audabl': 1, 'givenx': 2, 'oder': 2, 'banana': 15, 'individu': 6, 'striatoniagr': 1, 'coxxyx': 1, 'resorpt': 4, 'jerk': 4, 'auscul': 2, 'hypercapnia': 4, 'aniticp': 1, 'infsus': 1, 'inreas': 1, 'configuart': 1, 'restatr': 2, 'respiatori': 1, 'pulmacort': 1, 'surprisingli': 2, 'ncreas': 1, 'greeninsh': 3, 'inchair': 1, 'porvid': 1, 'reflux': 26, 'bilaterlli': 1, 'pulmicourt': 1, 'frq': 1, 'periodiac': 1, 'elecatr': 1, 'beneprotien': 3, 'reommend': 1, 'cautiosli': 1, 'unfib': 1, 'serviv': 1, 'pulmonarey': 1, 'caridac': 1, 'utilis': 1, 'diruess': 1, 'undoubtedli': 2, 'exager': 2, 'stiffli': 1, 'crackli': 3, 'abmu': 1, 'kid': 3, 'readvanc': 3, 'eyebrow': 4, 'facila': 1, 'occuls': 1, 'malacia': 4, 'dschrg': 1, 'hyupernatremia': 1, 'pdr': 1, 'coveral': 1, 'lesson': 1, 'striatonigr': 1, 'alet': 1, 'dreainag': 1, 'pulmonaari': 1, 'vene': 1, 'sut': 1, 'benefib': 2, 'benepro': 2, 'grandkid': 1, 'bumex': 3, 'veneodyn': 1, 'painkish': 1, 'tooth': 8, 'respatori': 1, 'serosanquin': 1, 'muco': 1, 'vetil': 2, 'occason': 2, 'endotrachael': 1, 'ivbx': 1, 'drainaag': 1, 'mab': 1, 'suctionr': 1, 'oropharnyx': 1, 'psuedomona': 6, 'diomax': 1, 'lowwer': 1, 'ectoy': 2, 'nigrostriat': 1, 'radiodens': 14, 'claudi': 1, 'pvco': 1, 'augmentin': 8, 'timefram': 1, 'atropi': 1, 'mondday': 1, 'hedo': 1, 'characht': 1, 'mimick': 1, 'trachesostomi': 1, 'laxix': 1, 'graini': 2, 'profici': 1, 'expres': 2, 'dsa': 1, 'grey': 7, 'overlap': 7, 'fibronodular': 2, 'aji': 13, 'thoracocentesi': 15, 'otheriws': 1, 'jxn': 3, 'hyperexpans': 8, 'chase': 3, 'possiblu': 1, 'bill': 17, 'fibrothorax': 1, 'atherosclerosi': 12, 'scrotom': 1, 'robot': 1, 'prandial': 2, 'invert': 4, 'instant': 1, 'scotum': 2, 'vivonex': 5, 'axaxox': 1, 'thsi': 6, 'levaqin': 2, 'disassoci': 1, 'electroly': 5, 'whiti': 1, 'breakdownon': 1, 'sevar': 1, 'nkma': 3, 'possib': 1, 'eggcrat': 1, 'swob': 1, 'onflow': 1, 'match': 12, 'coper': 3, 'wenkebach': 2, 'diauresi': 1, 'dgtr': 6, 'rnage': 2, 'creammi': 1, 'haemodynam': 4, 'azithrommycin': 1, 'endolumin': 4, 'asplenia': 1, 'dissemin': 6, 'phantom': 2, \"tx'ing\": 1, 'insecur': 1, 'sprain': 1, '\\x13in': 1, 'shower': 2, 'bradycadia': 1, 'lucent': 8, 'pleasand': 1, 'brownloos': 1, 'creme': 1, 'aputum': 1, 'profil': 5, 'postict': 1, 'meter': 1, 'fdp': 4, 'dextameth': 1, 'coomb': 1, 'esbi': 1, 'uat': 2, 'pneumopericardium': 1, 'sucion': 2, 'belch': 2, 'resullt': 1, 'amunt': 1, 'swivel': 3, 'insuffci': 2, 'virtual': 2, 'pendind': 1, 'deleriuo': 1, 'cellphon': 1, 'verc': 2, 'beacus': 1, 'appera': 2, 'incit': 2, 'comfus': 1, 'bols': 3, 'nocal': 1, 'kayaxal': 1, 'liler': 1, 'eplac': 1, 'refelx': 1, 'cvvh': 9, 'coverd': 2, 'alsix': 1, 'focsu': 1, 'unable\\x13': 1, 'hymidifi': 1, 'afibril': 1, 'obsewrv': 2, 'parvu': 1, 'ored': 4, 'hydrazalin': 3, 'alteplas': 1, 'pepp': 1, 'agitataion': 2, 'buth': 1, 'hurricain': 5, 'dizzli': 1, 'lw': 13, 'vert': 2, 'rentent': 1, 'tardu': 1, 'requirw': 1, 'swet': 1, 'vancomysin': 2, 'dopoff': 3, 'jct': 1, 'sewll': 1, 'nonfoc': 11, 'easliy': 1, 'blous': 14, 'halv': 4, 'mt': 8, 'behaviuor': 1, 'cocial': 1, 'doplpoff': 1, 'mucopurul': 1, 'tacrolimu': 7, 'troughout': 1, 'flushe': 1, 'sennakot': 2, 'lertharg': 1, 'metaclorpromid': 1, 'vere': 1, 'amiodar': 1, 'plani': 1, 'initillay': 1, 'sidehol': 9, 'unevet': 1, 'valubl': 2, 'suctioend': 1, 'incresas': 2, 'ventulat': 1, 'arintg': 1, 'commernc': 1, 'aveolar': 1, 'extubatiohn': 1, 'panctranspl': 1, 'parenychym': 1, 'ventset': 2, 'metaclopromid': 2, 'bolous': 1, 'afternnon': 2, 'psotion': 1, 'examib': 1, 'metoclopromid': 2, 'pateint': 3, 'yankaar': 2, 'secet': 4, 'inconstit': 1, 'aggressivf': 1, 'sof': 3, 'trake': 1, 'doploff': 3, 'nb': 5, 'cancal': 1, 'dispar': 1, 'confidenti': 1, 'fentani': 3, 'diursesi': 3, 'scedul': 1, 'plesa': 2, 'orientata': 2, 'sligthli': 1, 'trophic': 2, 'trigemni': 1, 'titropium': 1, 'methylpr': 8, 'dessert': 1, 'ceftriazon': 6, 'abn': 3, 'sedentari': 5, 'hdr': 3, 'bbl': 7, 'oseo': 1, 'parasthesia': 7, 'rbc': 43, 'iga': 5, 'singulair': 10, 'dipstick': 2, 'dog': 4, 'specgr': 2, 'desert': 1, 'corn': 1, 'muffin': 2, 'uric': 6, 'legionair': 1, 'ptca': 5, 'serogroup': 6, 'ccb': 6, 'lifestyl': 3, 'pseudomonax': 1, 'scrambl': 3, 'warmer': 5, 'soupi': 1, 'mystatin': 1, 'discard': 6, 'eys': 1, 'plexi': 1, 'cocnsist': 1, 'resperadol': 1, 'assistx': 1, 'msi': 3, 'nasaotrach': 1, 'aztriman': 1, 'scn': 2, 'kick': 19, 'sg': 6, 'thic': 4, 'rush': 4, 'strept': 5, 'school': 7, 'bronchodial': 3, 'mva': 15, 'continuosli': 1, 'bet': 1, 'adopt': 1, 'robituss': 2, 'spironmet': 1, 'dulcalox': 1, 'hydraliazin': 1, 'amantadin': 2, 'extuba': 3, 'breathinhg': 1, 'condtion': 1, 'fingertip': 3, 'ovenroc': 1, 'ith': 2, 'monito': 5, 'hepatopet': 26, 'painfre': 2, 'esstenti': 1, 'lorpessor': 2, 'iabp': 5, 'infusimg': 1, 'cervix': 2, 'doapmin': 1, 'illeu': 2, 'throughotu': 1, 'nitor': 1, 'urbc': 2, 'tng': 2, 'dopamamin': 1, 'bwel': 1, 'cracl': 3, 'amantidin': 2, 'prolap': 1, 'furter': 2, 'hemangioma': 16, 'edemam': 1, 'concav': 4, 'saph': 1, 'abdomini': 4, 'gasseou': 2, 'quadripl': 1, 'posteromedi': 1, 'pmreassess': 1, 'heimlich': 1, 'colonca': 1, 'curvilinear': 7, 'pbm': 1, 'subc': 2, 'excis': 8, 'pneumothoorax': 1, 'platelik': 3, 'trx': 1, 'negativetri': 1, 'thermomet': 4, 'stabal': 8, 'hydromorphon': 12, 'lrd': 2, 'sesni': 1, 'par': 2, 'ordrer': 1, 'row': 7, 'enterococ': 2, 'sicuss': 1, 'hyperk': 2, 'tacro': 3, 'anaphylaxi': 15, 'aresol': 2, 'bronc': 3, 'tens': 9, 'myucomyst': 1, 'ostium': 2, 'thrombos': 4, 'dxae': 2, 'tracheobronchomalacia': 9, 'ws': 4, 'brittl': 2, 'pleuret': 1, 'tropinin': 4, 'carev': 2, 'protoc': 2, 'hjr': 3, 'tendor': 2, 'acromiohumer': 1, 'widow': 3, 'resusciat': 1, 'coracoclavicular': 1, 'aurea': 1, 'glenoid': 7, 'mesaur': 1, 'plerual': 2, 'dysynchron': 12, 'direcl': 1, 'pbishop': 2, 'stbale': 4, 'incompletley': 1, 'contrastclip': 3, 'paravertebr': 3, 'cholecysti': 1, 'shrunken': 4, 'dlp': 15, 'ovari': 5, 'circumflex': 3, 'perisplen': 4, 'venotomi': 7, 'lymphocyt': 9, 'mgi': 15, 'adnex': 5, 'intubt': 2, 'ath': 1, 'interphalang': 1, 'secreiton': 1, 'coupiou': 2, 'commnand': 2, 'comminut': 8, 'apeci': 2, 'clind': 1, 'respn': 1, 'sersanguin': 1, 'emphyema': 1, 'clindaycin': 1, 'cga': 9, 'pneumthorax': 2, 'avss': 4, 'patinet': 4, 'antiretrovir': 2, 'hcyt': 1, 'isolat': 1, 'tychypn': 1, 'nystain': 1, 'becaom': 2, 'knownor': 1, 'island': 7, 'tacycard': 1, 'adlib': 1, 'paitent': 5, 'subseq': 1, 'tool': 1, 'thikc': 2, 'secrertt': 1, 'lipim': 1, 'softwrist': 1, 'tepid': 3, 'vaco': 2, 'afebil': 5, 'nonfenestr': 1, 'tast': 1, 'downsiz': 5, 'bedisd': 1, 'rpicc': 2, 'synchroni': 3, 'comod': 1, 'donw': 1, 'lasx': 1, 'manuev': 1, 'cuffless': 5, 'frequentstrong': 1, 'apin': 3, 'shuffl': 1, 'ontrach': 1, 'atelectact': 1, 'mob': 2, 'aaaaawait': 1, 'wriet': 1, 'acoupl': 1, 'placemnt': 2, 'ur': 1, 'mediat': 6, 'nauseou': 4, 'doubleguard': 5, 'craet': 1, 'synch': 4, 'legibl': 3, 'solat': 1, 'hemecult': 1, 'accep': 1, 'sppech': 3, 'backach': 3, 'bottock': 1, 'dischrg': 1, 'brew': 3, 'exacerbaion': 1, 'sabl': 1, 'periar': 1, 'cf': 4, 'rpiv': 2, 'sutol': 1, 'signigic': 1, 'nitrotab': 1, 'expos': 7, 'indiscret': 2, 'krohn': 1, 'cardial': 1, 'vx': 4, 'dysphasia': 4, 'copn': 1, 'approrpi': 1, 'uprigh': 1, 'earlili': 1, 'south': 3, 'dysarthr': 3, 'ovoid': 3, 'ceftazdim': 1, 'invent': 1, 'multcn': 1, 'wich': 2, 'pluggin': 1, 'mediastinosccopi': 1, 'retrocardi': 2, 'transferrd': 1, 'emphysemia': 1, 'costal': 5, 'aebc': 2, 'encas': 8, 'dilodid': 2, 'fibula': 4, 'oxicodon': 2, 'uren': 1, 'angul': 7, 'fragment': 9, 'malleolu': 1, 'fibular': 2, 'trimalleolar': 1, 'varu': 1, 'plafond': 1, 'neuropath': 4, 'malleolar': 1, 'adjoin': 1, 'bimalleolar': 1, 'talar': 1, 'charcot': 2, 'disrupt': 4, 'calcaneu': 1, 'callus': 1, 'hindfoot': 1, 'wolfran': 2, 'ulrasound': 1, 'optic': 1, 'wolfram': 2, 'nonhemorrhag': 17, 'requiremnt': 1, 'vag': 2, 'yello': 3, 'fishi': 1, 'lbbb': 10, 'prog': 4, 'titat': 1, 'oximet': 2, 'deped': 2, 'statusa': 1, 'distned': 1, 'cortison': 2, 'incidnet': 1, 'emoli': 1, 'retim': 1, 'difficultli': 3, 'readmiss': 6, 'maintenac': 1, 'mediastium': 1, 'respoit': 1, 'seriel': 4, 'captopr': 2, 'sxp': 1, 'midstern': 5, 'proscar': 1, 'becuas': 2, 'sod': 1, 'vacular': 2, 'stnet': 1, 'microabras': 1, 'lop': 2, 'coocx': 1, 'assymptomat': 2, 'tangenti': 1, '^cri': 1, 'thankgiv': 1, 'mstemi': 1, 'srx': 1, 'silli': 1, 'gramstain': 1, 'substern': 7, 'unmeasur': 1, 'mdnoc': 2, 'losdartan': 1, 'sarcoid': 8, 'avgraft': 1, 'hyperthermia': 42, 'crossmathc': 1, 'convent': 9, 'crossmatch': 5, 'plz': 3, 'clavulan': 2, 'nifedepin': 1, 'smx': 13, 'hydroxysin': 1, 'heav': 12, 'mptb': 6, 'quaic': 1, 'sevelamir': 3, 'matur': 4, 'bracheocephal': 2, 'zpak': 2, 'rbb': 1, 'tmp': 13, 'righ': 2, 'polit': 2, 'amox': 2, 'mrv': 2, 'binder': 7, 'crampo': 1, 'bactrimm': 1, 'glomerular': 2, 'hematemesi': 5, 'prescribt': 1, 'graph': 2, 'pruritu': 4, 'vanocmycin': 2, 'melanot': 5, 'niifedipin': 1, 'nifedipin': 15, 'episodex': 1, 'cozaar': 3, 'contineu': 2, 'xerofoam': 1, 'reoccurr': 2, 'notif': 9, 'phleb': 1, 'diverticulti': 1, 'maroon': 7, 'clump': 1, 'diveriticul': 1, 'prepe': 1, 'colonscopi': 2, 'flatuat': 1, 'ressect': 1, 'pipe': 2, 'sulphat': 3, 'availabilti': 1, 'kexel': 1, 'slighti': 3, 'dribbl': 1, 'conditoin': 1, 'chset': 1, 'zyvox': 2, 'tipotropium': 1, 'prece': 1, 'papsp': 1, 'throbe': 1, 'illeostomi': 2, 'blown': 1, 'morpin': 4, 'reuir': 1, 'appitit': 9, 'rrad': 1, 'klonipin': 3, 'lidcain': 1, 'extrimitit': 1, 'antibioticss': 1, 'amikacin': 9, 'exersic': 1, 'pharm': 8, 'duaderm': 2, 'inhail': 2, 'oncontact': 1, 'inpast': 1, 'remiand': 1, 'revieew': 1, 'pendinf': 1, 'anticholinerg': 3, 'adheas': 1, 'breathin': 2, 'magmt': 1, 'pseudamonsa': 1, 'confim': 1, 'lobectomyand': 1, 'iliostomybag': 1, 'lfa': 3, 'dur': 4, 'psuedmona': 1, 'hyperluc': 6, 'azitinem': 1, 'sution': 2, 'psuedamonu': 1, 'fortaz': 2, 'tackycard': 1, 'luq': 8, 'linein': 1, 'serv': 6, 'panicki': 2, 'cahir': 2, 'hyperglycamia': 1, 'chnged': 1, 'eventhough': 1, 'deepbreath': 1, 'guiafenesin': 5, 'milder': 5, 'colitisrequir': 1, 'aabg': 1, 'overexpand': 1, 'modal': 3, 'lumin': 3, 'ocean': 1, 'sweater': 2, 'whe': 3, 'unrin': 1, 'lforearm': 1, 'ren': 1, 'tiopropium': 1, 'hyperglycem': 13, 'rant': 3, 'peudamona': 1, 'olac': 2, 'tiger': 1, 'agbg': 1, 'antibioticd': 1, 'illoestomi': 1, 'lquid': 2, 'norom': 1, 'leveqiun': 1, 'paxil': 9, 'breathig': 1, 'inncid': 1, 'porgress': 1, 'lbrach': 1, 'intolerac': 1, 'blod': 5, 'physicv': 1, 'makept': 1, 'dysautonomia': 2, 'paliat': 1, 'amoxicillin': 8, 'hyperkalem': 5, 'finasterid': 2, 'obstain': 1, 'howvev': 1, 'graduat': 2, 'catalogu': 1, 'melanoma': 7, 'hcap': 38, 'cholangioca': 1, 'legion': 1, 'lbp': 5, 'adenoca': 5, 'doublecoverag': 1, 'tbili': 13, 'metoprol': 3, 'cholangio': 2, 'amiodipin': 2, 'choledocholithiasi': 4, 'orif': 12, 'enterocutan': 2, \"piv'\": 8, 'hida': 5, 'excrori': 1, 'elast': 2, 'tugor': 2, 'lexapro': 8, 'azotemia': 9, 'olecranan': 1, 'fistuologram': 1, 'interior': 1, 'castleman': 1, 'bliari': 1, 'radiographi': 5, 'dex': 4, 'taker': 1, 'misattach': 2, 'receivl': 1, 'primidon': 4, 'chic': 1, 'unicentr': 1, 'pelv': 3, 'fistul': 3, 'laproscop': 1, 'antiparkinson': 2, 'wallpap': 1, 'ioversol': 1, 'ronchor': 16, 'endpoint': 2, 'ment': 2, 'successu': 1, 'nutrion': 2, 'dyskinet': 2, 'reigmen': 1, 'refresh': 1, 'ercp': 10, 'piviot': 2, 'laxiti': 3, 'turner': 1, 'respirophas': 1, 'poi': 1, 'csurg': 6, 'transcutan': 3, 'optimum': 1, 'pec': 1, 'aortobi': 1, 'nv': 3, 'shield': 1, 'instraspin': 1, 'wak': 1, 'visipaqu': 5, 'percept': 1, 'lunc': 1, 'paraesophag': 7, 'invad': 7, 'imping': 9, 'avid': 9, 'encroach': 3, 'brainstem': 2, 'erod': 5, 'intraoss': 2, 'spinou': 2, 'uncovertebr': 3, 'destroy': 3, 'aspergillu': 11, 'cerebellum': 6, 'pet': 17, 'hematuirc': 1, 'downt': 2, 'bronchorrhea': 1, 'openingli': 1, 'respirtori': 4, 'pneumonectomi': 5, 'nebsq': 1, 'abssent': 1, 'cannul': 5, 'initial': 1, 'efeect': 1, 'stack': 2, 'afeebril': 1, 'papain': 1, \"cont'd\": 1, 'slid': 2, 'sba': 1, 'realt': 2, 'hypotent': 7, 'ywlloe': 1, 'wiothout': 1, 'detial': 3, 'vodka': 5, 'databas': 2, 'prozac': 6, 'corsintropin': 1, 'veceronium': 2, 'therfeor': 1, 'betwwen': 1, 'nosocomi': 15, 'necklac': 2, 'sliip': 1, 'operta': 1, 'reviw': 2, 'slighli': 5, 'agian': 3, 'memeori': 1, 'clipboard': 4, 'sctlc': 1, 'butt': 5, 'risisng': 1, 'wavsform': 1, 'satisafcatori': 1, 'lithiumm': 1, 'agitata': 1, 'inpuls': 1, 'scarum': 1, 'therapistin': 1, 'unclog': 1, 'continuu': 1, 'sedtaion': 1, 'soflti': 4, 'matreess': 1, 'weam': 1, 'digest': 2, 'micxumi': 1, 'gender': 3, 'magazin': 3, 'brighter': 3, 'rip': 3, 'uss': 1, 'relet': 1, 'trcheotomi': 1, 'lbmx': 2, 'spkie': 2, 'sleav': 2, 'dampn': 1, 'swing': 6, 'hemisper': 1, 'benedryl': 4, 'uterin': 5, 'softer': 8, 'unconsci': 1, 'abrasionx': 1, 'clsose': 1, 'daptomycin': 2, 'recc': 10, 'blank': 2, 'clott': 1, 'tel': 1, 'discrep': 6, 'theori': 3, 'rojm': 1, 'movemnt': 1, 'weamn': 1, 'coagulopath': 3, 'usction': 1, 'suppert': 1, 'chalki': 1, 'ladder': 1, 'guardianship': 5, 'sponten': 3, 'mcl': 1, 'isoniazid': 2, 'cortistim': 1, 'ethambutol': 1, 'phrase': 7, 'meant': 3, 'erali': 1, 'serosangin': 3, 'portclip': 3, 'imipenam': 1, 'inermit': 1, 'mtb': 3, 'tnick': 1, 'rapport': 7, 'prr': 1, 'perrlaa': 1, 'pleuroparenchym': 4, 'upprt': 2, 'circuit': 7, 'represn': 1, 'plumonari': 1, 'antiemet': 4, 'shifwt': 1, 'streptomycin': 1, 'trede': 3, 'urs': 1, 'respiartori': 1, 'el': 2, 'rifampin': 6, 'srat': 1, 'decreasedin': 1, 'espeic': 2, 'communic': 1, 'contit': 1, 'spile': 1, 'lsw': 1, 'dolasetron': 1, \"'scvp\": 1, 'emet': 1, 'interac': 1, 'cure': 2, 'allerig': 2, 'sickl': 1, 'whithin': 1, 'decend': 2, 'custodi': 3, 'ramain': 1, 'ambisom': 2, 'anzimetx': 1, 'drning': 1, 'agatroban': 1, 'encrust': 1, 'diuris': 4, 'mdo': 1, 'commnec': 1, 'delasetron': 1, 'tylenolx': 1, 'cecum': 8, 'reimag': 7, 'propos': 4, 'prcedur': 1, 'scretion': 1, 'allevi': 12, 'collectio': 2, 'vicari': 3, 'apprpriat': 1, 'guaz': 3, 'subpoena': 1, 'rhonchiou': 2, 'opinion': 7, 'watersh': 3, 'haematuria': 2, 'imepenim': 1, 'imepenum': 1, 'anzamet': 1, 'na^^': 1, 'regurgat': 1, 'paid': 2, 'pyrazanamid': 1, 'pltl': 1, 'becan': 1, 'lishen': 1, 'perisist': 2, 'daughetr': 1, 'reexpand': 2, 'raeb': 1, 'dermoid': 1, 'echoli': 1, 'improvementtv': 1, 'treach': 1, 'physiotherapi': 3, 'sectreion': 1, 'strptomycin': 1, 'succinctli': 1, 'trait': 3, 'tolaret': 1, 'gancyclovir': 3, 'prresent': 1, 'afrebril': 2, 'ndari': 1, 'declar': 2, 'myelodysplast': 2, 'alongsid': 10, 'anzement': 1, 'routinc': 1, 'tahypn': 1, 'thkish': 2, 'church': 2, 'arteriogram': 3, 'vegit': 6, 'edemed': 1, 'neostigman': 1, 'overdiures': 2, 'diusesi': 1, 'conjuct': 2, 'vomitu': 2, 'uffp': 2, 'sag': 1, 'erythro': 2, 'haslimit': 1, 'multiposu': 1, 'slep': 1, 'rotorest': 1, 'betetr': 1, 'essent': 2, 'hyoactiv': 1, 'cist': 1, 'nsicu': 1, 'periorbi': 1, 'urien': 2, 'ivl': 2, 'supplemet': 1, 'unitl': 3, 'andtherefor': 1, 'popit': 2, 'medciat': 2, 'blanc': 2, 'resov': 2, 'cistatiacurium': 1, 'hyperoxia': 2, 'humulin': 5, 'anpea': 1, 'triadyn': 7, 'nursng': 1, 'pentobarbitol': 1, 'consistentwith': 1, 'cisatracurium': 2, 'coma': 4, 'pharmacist': 5, 'balacn': 2, 'pharmacuet': 1, 'deffer': 5, 'sluggisli': 2, 'morphein': 1, 'superad': 1, 'witn': 1, 'socialwork': 2, 'uurs': 1, 'mainatinig': 1, 'acidod': 2, 'bmp': 1, 'apen': 4, 'regland': 1, 'pronat': 3, 'mojor': 1, 'cisatraciriuum': 1, 'antibiotic': 1, 'throughouth': 1, 'bilaer': 1, 'transderm': 2, 'dopov': 1, 'wi': 4, 'glden': 1, 'periorbit': 4, 'expwhe': 1, 'mehtadon': 1, 'mosltli': 1, 'riedel': 1, 'luung': 1, 'getout': 1, 'puil': 2, 'hypocapnea': 1, 'trasfus': 2, 'refex': 1, 'proprofol': 3, 'venil': 1, 'tomorrrow': 2, 'speciment': 1, 'klonapin': 2, 'peed': 1, 'demarc': 4, 'adminis': 1, 'maitian': 1, 'tign': 1, 'dop': 10, 'wdi': 6, 'inhlaer': 1, 'paral': 1, 'audubl': 1, 'resond': 3, 'displeas': 1, 'nlargement': 1, 'redsid': 1, 'concult': 1, 'notenurs': 1, 'iniatilli': 1, 'retun': 1, 'unopen': 2, 'depsit': 2, 'unrais': 1, 'midesophagu': 1, 'eupport': 1, 'tronchoscopi': 1, 'hypergycem': 1, 'emeg': 1, 'progr': 3, 'kink': 7, 'solv': 3, 'combo': 4, 'malasia': 2, 'mang': 3, 'suporrt': 1, 'amoount': 2, '^^hr': 2, 'musculatur': 6, 'frustrarion': 1, 'sputim': 1, 'abf': 1, 'pancx': 4, 'contct': 1, 'sart': 2, 'grimi': 1, 'fellto': 1, 'multiposi': 2, 'dioppler': 1, 'intervascular': 1, \"ambu'\": 2, 'lest': 1, 'lenghti': 1, 'religi': 1, 'sort': 8, 'fluc': 8, 'ureg': 1, 'repleatd': 1, 'refferr': 2, 'auscultaion': 1, 'offabx': 1, 'hypotensv': 1, 'uncomforatbl': 1, 'incresinng': 1, 'oppinion': 1, 'ba': 17, 'trueli': 1, 'futil': 3, 'mind': 10, 'devid': 1, 'pali': 2, 'faili': 2, 'omg': 1, 'comgeal': 1, '^na': 1, 'clasp': 1, 'tcdp': 5, 'anlkl': 1, 'uncov': 3, 'slightest': 2, 'dtiff': 1, '^hr': 3, 'evem': 1, 'discomfor': 1, 'dnuero': 1, 'residul': 2, 'attmpt': 3, 'sadd': 1, 'braclet': 1, 'cholang': 7, 'conclud': 5, 'abdom': 2, 'recess': 5, 'mmove': 1, 'opsit': 2, 'sercet': 1, 'pnumo': 1, 'fowl': 2, 'z': 4, 'hro': 1, 'fgiven': 1, 'ite': 1, 'belief': 1, 'bot': 2, 'linesit': 1, 'nasaal': 1, 'cab': 4, 'lasisx': 1, 'prescript': 9, 'plummet': 1, 'otherw': 1, 'mentaton': 1, 'awarenss': 1, 'vomitig': 1, 'commsnd': 1, 'boredom': 1, 'inadvertenti': 1, 'diminih': 2, 'voucher': 2, 'inadvertantli': 1, 'coough': 1, 'smmhg': 1, 'toiltet': 3, 'fluvoxamin': 1, 'bronchomalacia': 5, 'awail': 1, 'enalopril': 2, 'vronch': 1, 'goc': 6, 'biomark': 9, 'osmot': 2, 'ketoacidosi': 1, 'decerebr': 1, 'levit': 1, 'gut': 10, 'accommod': 2, 'inord': 2, 'uppermost': 3, 'vf': 1, 'andvanc': 1, 'unsign': 1, 'click': 2, 'pyriform': 9, 'pmibi': 2, 'subcot': 1, 'lood': 2, 'spew': 1, 'cce': 1, 'bumetanid': 2, 'exept': 2, 'tn': 6, \"i'li\": 1, 'velar': 3, 'closley': 2, 'resovlv': 1, 'lactam': 4, 'ldl': 2, 'nitrofurantoin': 6, 'angin': 4, 'fahrenheit': 1, 'intravascularli': 14, 'pravastatin': 7, 'russia': 1, 'unretract': 1, 'edentul': 11, 'hdl': 3, 'acur': 2, 'xyphoid': 2, 'ivpwith': 1, 'upstrok': 6, 'cyclic': 2, 'waev': 2, 'poem': 1, 'seroqul': 1, 'brochospasm': 1, 'xplant': 1, 'funciton': 1, 'diabetesi': 1, 'ulyt': 4, 'unintent': 1, 'ideat': 5, 'faiulr': 6, 'lengthen': 4, 'wma': 6, 'endocrinologist': 2, 'requiringhd': 1, 'vfib': 4, 'qmi': 1, 'stanc': 2, 'cryoptherapi': 1, 'tacrol': 1, 'immunesuppress': 2, 'prednisom': 1, 'srh': 4, 'transpos': 1, 'normoglycemia': 1, 'ganglia': 10, 'dextro': 1, 'gej': 1, 'ppft': 4, 'persantin': 3, 'mycophenol': 4, 'immigr': 1, 'dispens': 4, 'purposefuli': 1, 'viedo': 1, 'ridg': 3, 'dyskinesi': 2, 'sysotl': 2, 'pravastat': 1, 'song': 1, 'vfa': 1, 'cariac': 1, 'betalactam': 1, 'represent': 2, 'haltol': 1, 'da': 5, 'mmf': 4, 'mofetil': 3, 'cadaver': 1, 'icteru': 29, 'quot': 2, 'poetri': 1, 'restat': 1, 'df': 13, 'intubati': 1, 'continun': 1, 'begn': 1, 'model': 9, 'precert': 1, 'commit': 5, 'clonzapam': 1, 'chol': 4, 'nightsweat': 3, 'auth': 1, 'girmmac': 1, 'crtx': 1, 'seroquil': 4, 'camb': 1, 'eosinophilia': 12, 'fumar': 5, 'leukokcytosi': 1, 'fexofenidin': 1, 'chd': 1, 'videofluoroscop': 8, 'whee': 1, 'advisor': 3, 'converstaion': 1, 'whcih': 2, 'bourbon': 1, 'delusion': 2, 'lobbi': 2, 'behavoir': 2, 'rrom': 1, 'escort': 3, 'ventricuilar': 1, 'comfirm': 2, 'aval': 2, 'aros': 1, 'albtuerol': 2, 'caythet': 1, 'defiecit': 1, 'diffaculti': 1, 'gaurd': 4, 'vioxx': 1, 'disect': 2, 'aodm': 2, 'suctioningx': 1, 'chunk': 2, 'agil': 1, 'pleasw': 1, 'roof': 3, 'manor': 2, 'memeb': 1, 'yaunk': 1, 'lymphangit': 7, 'bouls': 1, 'whenn': 1, 'furhter': 4, 'occcasion': 1, 'origion': 1, 'negit': 2, 'coorel': 2, 'nasasl': 1, 'pleuric': 1, 'wnt': 1, 'appetiet': 1, 'accquir': 1, 'residua': 5, 'awel': 1, 'cbp': 4, 'floswsheet': 1, 'accordf': 1, 'rescussit': 2, 'biatrial': 3, 'maintian': 5, \"mov't\": 1, 'ahen': 1, 'aspleen': 1, 'foloow': 3, 'diarreah': 1, 'allen': 1, 'perpipher': 2, 'baqth': 1, 'nine': 7, 'sistend': 1, 'probuct': 1, 'conferm': 1, 'effuis': 1, 'retin': 1, 'cavogram': 1, 'interup': 5, 'fructur': 1, 'ensym': 1, 'replecmenbt': 1, 'elevet': 2, 'hipoxia': 1, 'tarnsfr': 1, 'arousabel': 1, 'deseas': 1, \"pe'\": 2, 'park': 6, 'anwser': 1, 'penidng': 2, 'wqith': 3, 'tolerat': 1, 'vte': 6, 'atert': 1, 'hcit': 1, 'hypertent': 1, 'dateto': 1, 'nfb': 4, 'psychot': 7, 'gingeral': 5, 'combi': 2, 'quarter': 8, 'nactiv': 1, 'portacath': 11, 'tylenlol': 1, 'portocath': 2, 'approprait': 1, 'surrent': 1, 'million': 4, 'isod': 1, 'lisw': 4, 'substitut': 4, 'pasti': 4, 'perip': 2, 'auscalt': 1, 'aoung': 1, 'deepen': 1, 'stiil': 1, 'penicllan': 1, 'coaars': 1, 'sex': 1, 'backupset': 1, 'wavew': 1, 'ocassioan': 1, 'oar': 1, 'cocyyx': 1, 'bolos': 1, 'buttuck': 4, 'atrest': 1, 'generalis': 2, 'experenc': 1, 'sctl': 2, 'currenltli': 1, 'valastran': 1, 'hypervolem': 8, 'wg': 2, 'readminist': 1, 'hich': 1, 'thinnet': 1, 'softlt': 1, 'lmp': 3, 'vet': 2, 'seroussang': 1, '^ing': 1, 'hey': 1, 'magsulf': 1, 'asbp': 1, 'cvc': 9, 'ral': 1, 'pne': 1, 'streptococc': 1, 'shampoo': 1, 'microgram': 1, 'bicuspid': 2, 'quaniti': 2, 'creap': 1, 'hydrocodon': 10, 'fludrocortison': 3, 'galactomanan': 4, 'mineralocorticoid': 1, 'gg': 7, 'decomepns': 1, 'galactomannan': 17, 'counsel': 6, 'interferon': 3, 'possibiliy': 1, 'polycythemia': 3, 'methyprednison': 3, 'ribavarin': 1, 'betaglucan': 1, 'initilli': 1, 'mastoidectomi': 1, 'cortef': 2, 'mone': 1, 'assertain': 1, 'ciger': 1, 'discribt': 1, 'crave': 1, 'pica': 2, 'suboccipit': 1, 'pupl': 3, 'malform': 2, 'noodl': 2, 'oesophag': 1, 'ogd': 1, 'opr': 1, 'comfrtabl': 1, 'diaprosi': 1, 'strictur': 14, \"did't\": 1, 'jejunocutan': 1, 'chicken': 2, 'bagun': 1, 'unaffect': 2, 'lfluid': 1, 'subtherapi': 1, 'rulobectomi': 1, 'quesiton': 3, 'sobclin': 1, 'ygd': 7, 'multivessel': 7, 'gassi': 4, 'minit': 1, 'seroid': 1, 'initrex': 1, 'gvn': 1, 'agb': 1, 'whith': 2, 'imitrex': 2, 'vegetarian': 4, 'nectrar': 1, 'anxioud': 1, 'lev': 1, 'ahv': 2, 'trazedon': 3, 'dypneic': 1, 'jovial': 1, 'mgiv': 2, 'quanit': 1, 'minmal': 3, 'awaitng': 4, 'floxacin': 1, 'evernt': 1, 'sulpha': 1, 'hyperplasia': 1, 'afternooon': 2, 'uninterpret': 6, 'grill': 2, 'gand': 1, 'inspit': 4, 'lighthead': 4, 'aorticopulmonari': 2, 'difficalti': 1, 'azythromacyn': 1, 'homeless': 9, 'icreas': 3, 'shelter': 5, 'inn': 2, 'monitoirng': 1, 'tenant': 1, 'slighltli': 2, 'hemmorrhag': 2, 'limitedli': 1, 'perocet': 2, 'diclox': 1, 'lossess': 1, 'iprotrop': 1, 'vasculit': 2, 'rhonki': 2, 'ingli': 1, 'supress': 6, 'alv': 4, 'rimantidin': 2, 'repsiratori': 4, 'yesteday': 3, 'blade': 2, 'desaturadt': 1, 'criticaid': 14, 'hrc': 3, 'vut': 1, 'showscrackl': 1, 'amlodapin': 1, 'prochlorperazin': 8, 'rw': 8, 'extran': 1, 'search': 5, 'cyanocobalamin': 6, 'lebatalol': 1, 'adequetli': 1, 'imprrov': 1, 'therex': 10, 'dialudid': 3, 'acetominophen': 2, 'improov': 4, 'endometriosi': 2, 'wbat': 1, 'lume': 1, 'concomit': 9, 'recevd': 1, 'positit': 2, 'wegner': 3, 'capillar': 1, 'anticp': 3, 'multicfoc': 1, 'cryoglobulin': 3, 'reinstitut': 3, 'bland': 4, 'agter': 2, 'holosyst': 3, 'dah': 11, 'covera': 1, 'artifactu': 7, 'dissynchroni': 1, 'chiropractor': 1, 'nafcillin': 6, 'nafcilin': 1, 'achi': 3, 'sleap': 1, 'prednsion': 2, 'cacarb': 1, 'degrees': 1, 'hemmorhag': 5, 'predic': 1, 'procidex': 1, 'vitd': 4, 'pach': 1, 'dvelop': 1, 'avt': 1, 'glucocorticoid': 2, 'simva': 3, 'compfort': 1, 'facemast': 1, 'hype': 1, 'appred': 1, 'tka': 1, 'precari': 1, 'lcpc': 18, 'mexiliten': 1, 'pharyg': 1, 'mostlli': 1, 'intubationl': 1, 'bivalv': 2, 'glutteal': 1, 'avellyn': 1, 'gat': 1, 'benifit': 1, 'coocyx': 4, 'shaunessi': 1, 'origress': 1, 'calendar': 2, 'coumidin': 1, 'orienterd': 1, 'corel': 1, 'alevyn': 3, 'cond': 4, 'nno': 1, 'nurisng': 3, 'nyha': 1, 'parang': 1, 'class': 3, 'meticulu': 1, 'ivfluid': 1, 'stc': 1, 'microcathet': 2, 'microcoil': 1, 'addl': 5, 'upsiz': 6, 'transcend': 1, 'midport': 1, 'renegad': 1, 'intraren': 5, 'arteriotomi': 1, 'cobra': 4, 'microwir': 1, 'visapaqu': 2, 'palpatori': 1, 'embo': 1, 'slurri': 1, 'hyperenhanc': 3, 'supersel': 1, 'trancathet': 1, 'trv': 4, 'striat': 1, 'balkan': 1, 'pseudoanuerysm': 1, 'toleratin': 1, 'lomotil': 2, 'abfas': 1, 'meqkcl': 2, 'slugish': 2, 'commannd': 1, 'diissoriiennt': 1, 'staart': 1, 'coinsid': 2, 'promoot': 1, 'encouraag': 2, 'yankeuur': 1, 'blodd': 1, 'ppt': 2, 'obeyi': 1, 'weakeer': 1, 'metroprolol': 6, 'progrewss': 1, 'naseltrachea': 1, 'feedw': 1, 'hgealth': 1, 'bowwel': 1, 'phosphor': 6, 'pphlegm': 1, 'whren': 1, 'turrn': 1, 'circ': 3, 'stqrt': 1, 'expidit': 1, 'restrian': 1, 'hyptens': 1, 'loperamind': 1, 'mitoxantron': 1, 'orthostasi': 3, 'zevalin': 1, 'refractori': 10, 'qweek': 2, 'enhancemnt': 1, 'xenopi': 1, 'chop': 4, 'chemotherapeut': 2, 'war': 3, 'multicent': 1, 'fludarabin': 1, 'lymphedema': 1, 'transform': 7, 'pericolon': 1, 'enrol': 1, 'rituximab': 1, 'pentamadin': 1, 'sidewal': 3, 'msir': 2, 'antibioc': 1, 'malodor': 2, 'spectrim': 1, 'pleuriti': 1, 'hcd': 1, 'ctabd': 1, 'megestrol': 4, 'ppossibl': 1, 'qmonth': 1, 'pleurisi': 4, 'igg': 10, 'bendamustin': 1, 'proctiti': 3, 'thrive': 4, 'follicular': 1, 'infraclavicular': 2, 'drinker': 5, 'interposit': 6, 'fibrou': 3, 'penu': 1, 'tattoo': 2, 'chilaid': 1, 'pinu': 1, 'anterolisthesi': 12, 'queri': 11, 'ventr': 1, 'rove': 2, 'grind': 3, 'pnbt': 2, 'gnawl': 1, 'becomc': 1, 'omf': 2, 'impli': 3, 'prox': 3, 'peal': 1, 'mepiplex': 4, 'holler': 1, 'decubetu': 1, 'glucogon': 3, 'junct': 1, 'speciman': 2, 'wegd': 1, 'lct': 2, 'exxerct': 1, 'phenegran': 1, 'hyperelev': 1, 'pulonari': 4, 'inp': 2, 'hemidiaphragmat': 7, 'suprabas': 3, 'tolerart': 1, 'killer': 1, 'protrus': 5, 'omni': 4, 'odour': 1, 'tylonol': 2, 'nsc': 1, 'lsctab': 3, 'nut': 2, 'thorencentesi': 1, 'mgoxid': 1, 'tension': 9, 'enabl': 9, 'twist': 2, 'defilitid': 1, 'psycot': 2, 'bananna': 3, 'glottic': 1, 'itm': 1, 'lrad': 1, 'irat': 1, 'slind': 1, 'bond': 1, 'vioe': 1, 'avp': 2, 'extremeit': 1, 'bigemin': 3, 'hic': 1, 'fixationg': 1, 'esay': 1, 'ibupropin': 1, 'muxhroom': 1, 'quanitifi': 1, 'interog': 2, 'icepack': 1, 'weaken': 6, 'understatand': 1, 'portibl': 1, 'wakeup': 9, 'ver': 3, 'dysnchroni': 1, 'porrel': 1, 'polymorph': 1, 'thyroplastym': 1, 'blankli': 1, 'sponan': 1, 'tanninsh': 1, 'dofetilid': 3, 'eveal': 1, 'persent': 1, 'procudt': 1, 'resplet': 1, 'unsynchron': 1, 'forev': 1, 'aforment': 1, 'addendun': 1, 'prenison': 1, 'zoysn': 5, 'awe': 1, 'thyroidtoxosi': 1, 'visualis': 2, 'grim': 2, 'defitilid': 1, 'dialat': 5, 'mormimg': 1, 'broach': 3, 'disynchronu': 1, 'resul': 2, 'infilr': 1, 'galrgin': 1, 'nightshift': 1, 'dexamethison': 1, 'avpac': 1, 'thyroidoxicosi': 1, 'positio': 1, 'bracheal': 1, 'psycholog': 2, 'grochong': 1, 'reposist': 1, 'incraes': 1, 'extrub': 1, 'reprep': 1, 'spotan': 4, 'lime': 2, 'fuse': 5, 'wsa': 1, 'monitorfor': 1, 'normothermia': 1, 'unccop': 1, 'zyprea': 2, 'sogt': 1, 'bruse': 3, 'cdif': 7, 'qac': 2, 'amioderon': 6, 'omli': 1, 'ril': 1, 'defervec': 1, 'whisper': 2, 'mfpvc': 1, '^respons': 1, 'thyrotoxosi': 1, 'capoten': 1, 'klitchen': 1, 'bace': 1, 'uterol': 1, 'hop': 3, 'detriment': 1, 'disoreint': 1, 'buttox': 2, 'furtur': 1, 'incoprehensibel': 1, 'tylenlo': 1, 'dantrolen': 1, 'sponatan': 1, 'esmolo': 1, 'interogat': 1, 'movt': 9, 'bari': 3, 'bolusn': 1, 'boggi': 2, 'voiec': 1, 'taperd': 1, 'rambl': 2, 'thyrombocytopenia': 1, 'dilerium': 1, 'bpcuff': 1, 'mnimal': 1, 'guardain': 1, 'nurten': 1, 'erceiv': 1, 'effectand': 1, 'orientx': 1, 'bll': 6, 'thyrotoxicosi': 1, 'hemeodynam': 1, 'multiform': 5, 'inconisit': 1, 'oversea': 2, 'liguid': 4, 'continuy': 1, 'requiri': 2, 'impiar': 1, 'offend': 6, 'correctiom': 1, \"bolus'\": 1, 'kayexol': 2, '^amt': 2, 'quiver': 1, 'overninght': 1, 'rashi': 1, 'chatter': 1, 'cring': 1, 'attept': 1, 'thyroidtoxicosi': 1, 'guaicc': 1, 'readmt': 1, 'hiccup': 3, 'voriconazol': 4, 'foer': 1, 'vacol': 1, 'baselineand': 1, 'outlook': 3, 'compensart': 1, 'nioght': 1, 'esmollol': 1, 'cove': 3, 'hormon': 3, 'multipli': 2, 'gardianship': 2, 'coccyc': 2, 'storm': 1, 'ventricularli': 2, 'rforearm': 1, 'sbp^': 1, 'nummer': 1, 'yearl': 1, 'dimenish': 1, 'fluoproscop': 1, 'mandril': 1, 'infreq': 3, 'stromg': 1, 'altho': 1, 'gass': 2, 'ordeer': 1, 'steer': 1, 'apyrexi': 1, 'penectomi': 1, 'luceni': 1, 'stori': 10, 'unimpress': 7, 'mem': 1, 'humdifi': 1, 'xopen': 1, 'athosclerot': 1, 'habit': 11, 'emphasi': 9, 'diltitazem': 1, 'coph': 1, 'reachabl': 1, 'epsisod': 1, 'nyastatin': 2, 'sulcruf': 1, 'unmpress': 1, 'adeno': 9, 'unremarkalb': 1, 'tachyarrhythemia': 1, 'rochi': 1, 'deriv': 8, 'bronchietasi': 2, 'fsq': 3, 'abdomni': 1, 'increass': 2, 'dmfj': 9, 'chemoradiotherapi': 2, 'bronchiestasi': 1, 'beg': 2, 'oat': 1, 'ectat': 6, 'emprir': 1, 'sdh': 12, \"cap'\": 1, 'solumdedrol': 1, 'sucralaf': 3, 'vancomycina': 1, 'methemoglobinem': 2, 'kleenex': 1, 'sucralf': 10, 'midinsp': 1, 'tachyapn': 1, 'significnatli': 1, 'curvatur': 4, 'creram': 1, 'skinfold': 1, 'levoconcav': 1, 'significat': 1, 'deci': 1, 'impov': 3, 'cappillari': 1, 'visciou': 3, 'rtr': 1, 'sucit': 1, 'path': 13, 'abraiooon': 1, 'vai': 1, 'diffcult': 1, 'albuterolq': 1, 'restrait': 1, 'addentum': 1, 'creeatinin': 1, 'recalibr': 3, 'dne': 1, 'rezero': 1, 'ausculat': 1, 'buttck': 1, 'undgest': 1, 'orderedsx': 1, 'unchag': 9, 'chack': 3, 'pickat': 1, 'ewn': 1, 'diuril': 6, 'suctionedd': 1, 'airay': 1, 'extriem': 1, 'aspt': 1, 'asprat': 1, 'nformat': 1, '^o': 1, 'sinusitu': 1, 'scolapamin': 1, 'repit': 1, 'norva': 1, 'deuoderm': 1, 'pthad': 1, 'meuromuscular': 1, 'chiar': 2, 'scoplamin': 1, 'taccycardia': 1, 'afibb': 1, 'antihtn': 4, 'willfrequ': 1, 'interventin': 1, 'alkilosi': 1, 'scop': 1, 'unersid': 1, 'phoc': 1, 'scopalimin': 4, 'envrion': 1, 'pipracillin': 1, 'tryiong': 1, 'bilter': 2, 'monitior': 4, 'remeain': 1, 'cousr': 1, 'witg': 1, 'nutran': 1, 'meteprolol': 1, 'aalevyn': 1, 'allvyn': 1, 'evrs': 1, 'scl': 6, 'linizolid': 1, 'foolw': 1, 'pupport': 1, 'passion': 1, 'careiew': 1, 'paion': 1, 'svl': 1, 'isopa': 1, 'froom': 1, 'scapolamin': 1, 'maagnesium': 1, 'actic': 1, 'rsba': 1, 'coares': 1, 'upperextrim': 1, 'witwh': 1, 'saccrum': 1, 'elav': 4, 'whixh': 1, 'buttiock': 1, 'encorag': 1, 'wherr': 1, 'attemtp': 3, 'mond': 2, 'specialti': 4, 'postcholecystectomi': 1, 'difiiculti': 1, 'movingg': 1, 'difficultyl': 1, 'stuck': 14, 'interspac': 4, 'plsnned': 1, 'cefitim': 1, 'comofort': 1, 'levoquen': 1, 'unablt': 2, 'deg': 6, 'satrt': 2, 'asphagia': 1, 'unir': 1, 'mot': 1, 'outbreak': 1, 'uppon': 1, 'feend': 1, 'lorazapam': 6, 'aloevesta': 5, 'bronchopulmonari': 6, 'diliazem': 1, 'concret': 1, 'aggrev': 1, 'rlp': 1, 'fiv': 1, 'assessori': 1, 'degress': 3, 'mainitain': 1, 'tickl': 1, 'flusi': 1, 'recoop': 1, 'distr': 3, 'effert': 1, 'curer': 1, 'sudsid': 1, 'withtranspar': 1, 'trsch': 1, 'flowshhet': 1, 'acebutolol': 1, 'mushi': 1, 'perocoet': 1, 'jejunostomi': 7, 'steristip': 1, 'mcgkgmin': 1, 'weanec': 1, 'reassuanc': 1, 'oaao': 1, 'fpr': 5, 'tolet': 1, 'leisur': 1, 'palpibl': 5, 'dialyisi': 1, 'perfer': 1, 'nillson': 1, 'plac': 3, 'tinctur': 1, 'inserted': 1, 'smaill': 1, 'decres': 7, 'infusu': 1, '^tf': 1, 'hypersomul': 1, 'aletern': 1, 'bless': 1, 'permacath': 1, 'straightcath': 1, 'trxfer': 1, 'trapez': 1, 'ovomit': 1, \"did'nt\": 1, 'brea': 1, 'passmuir': 1, 'toiletri': 1, 'staight': 1, 'plcaement': 1, 'acidiosi': 1, 'goa': 1, 'mcourtney': 1, 'opium': 1, 'placedin': 2, 'nea': 1, 'cardiothorac': 6, 'assiss': 1, 'guiack': 1, 'maintanc': 3, 'ssci': 1, '^emot': 1, 'propafenon': 2, 'tononc': 1, 'olanzpin': 1, 'tibe': 1, 'axieti': 3, 'collor': 1, 'ectopii': 1, 'sucton': 1, 'deficiet': 2, 'aslong': 1, 'vitla': 1, 'liqiud': 2, 'subsequnt': 1, 'perinum': 1, 'edemad': 1, 'refrig': 1, 'mea': 2, 'minitor': 2, 'sputur': 1, 'ectpoy': 1, 'bilaterr': 1, 'graviiti': 1, 'dialsysi': 1, \"'puff\": 1, 'dimidnsh': 1, 'diarrh': 1, 'dilaudud': 1, 'trrach': 1, 'toleart': 1, 'stuf': 4, 'crrt': 7, 'sponatn': 2, 'banaa': 1, 'petamen': 1, 'ammount': 4, 'thik': 1, 'spiritu': 3, 'hospial': 1, 'normotherm': 6, 'albimin': 1, 'ddto': 1, 'quiton': 1, 'cvvhdf': 4, 'ischeam': 1, 'perscrib': 2, 'decidec': 1, 'brachialend': 1, '^act': 1, 'llllung': 1, 'occassin': 1, 'dto': 2, 'extrememli': 3, 'boast': 1, 'thoraciuc': 1, 'increase': 1, 'haparin': 1, 'bk': 3, 'kiebasella': 1, 'ptfe': 1, 'femori': 1, 'unheal': 1, 'tpt': 1, 'globabl': 1, 'sgl': 2, 'profunda': 1, 'amput': 4, 'seg': 4, 'tma': 2, 'nonheal': 2, 'pvr': 2, 'asst': 2, 'au': 3, 'singlesemi': 1, 'subcutaneu': 1, 'dge': 1, \"'nd\": 1, 'npt': 1, 'thoraci': 2, 'awr': 1, 'metab': 1, 'ukp': 1, 'hemodyalysi': 1, 'morhpin': 3, 'shine': 1, 'nucleu': 3, 'parafalcin': 1, 'prviou': 1, 'interhemispher': 1, 'bolusu': 1, 'radiata': 1, 'corona': 1, 'ascrib': 2, 'carevur': 1, 'retrocardiacli': 1, 'hug': 1, 'farsi': 3, 'tampan': 1, 'fasi': 1, 'respiron': 1, 'restrin': 2, 'mal': 3, 'road': 2, 'ea': 6, 'toleratig': 1, 'accu': 1, 'shockfev': 1, 'usn': 1, 'phsical': 1, 'cheeck': 1, 'bloodsugar': 2, 'vare': 2, 'dieures': 1, 'plant': 3, 'pmin': 2, 'alkylosi': 5, 'progrss': 1, 'fer': 2, 'tug': 4, 'infraobliqu': 1, 'peristalt': 3, 'esophog': 5, 'preseent': 1, 'tracheoesophag': 2, 'retrostern': 2, 'pnumothorax': 2, 'tachyracdia': 1, 'frer': 1, 'humung': 1, 'ffrequent': 1, 'iposit': 1, 'tremour': 1, 'doea': 1, 'ragtim': 1, 'sqllow': 1, 'prioir': 1, 'jibberish': 2, 'meropenium': 2, 'antibioyc': 1, 'yesterda': 2, 'myoton': 1, 'promptli': 6, 'dystrophi': 1, 'pear': 2, 'esophagoesophag': 1, 'dyphagia': 1, 'comaprison': 1, 'levc': 1, 'involuntarili': 1, 'breth': 2, 'oxocodon': 1, 'fexis': 2, 'rat': 1, 'haustral': 1, 'inreliev': 1, 'shrug': 2, 'sandpap': 1, 'plegia': 1, 'haad': 1, 'tirtat': 1, 'acha': 1, 'razor': 2, 'inflt': 1, 'osteomeat': 1, 'halo': 3, 'samal': 2, 'wosren': 1, 'atrv': 1, 'oncal': 2, 'antilordot': 1, 'copnsolid': 1, 'inprov': 3, 'curlix': 1, 'phenylenphrin': 1, 'kinaid': 1, 'asess': 5, 'stooper': 1, 'andat': 1, 'bode': 1, 'oprogrss': 1, 'reation': 1, 'bedid': 1, 'fenantyl': 2, 'possibilti': 3, 'rescreend': 1, 'diconnect': 1, 'toth': 1, 'mucamyst': 1, 'mediastern': 1, 'soical': 1, 'bronchiol': 14, 'rese': 1, 'librium': 1, 'xday': 1, 'wallsx': 1, 'nonischem': 2, 'ib': 6, 'proven': 4, 'pntx': 2, 'leuckocytosi': 2, 'extremitiy': 2, 'yestareday': 1, 'lactualos': 1, 'sclc': 5, 'drainagedecreas': 1, 'decreasinbg': 1, 'xfer': 1, 'sweet': 2, 'spescif': 1, 'transbronchoscop': 1, 'orag': 1, 'diaseas': 1, 'dta': 1, 'tampondad': 1, 'icnreas': 1, 'sca': 1, 'oth': 2, 'polic': 3, 'hemoptosi': 1, 'intiait': 1, 'focla': 1, 'strroid': 1, 'sclca': 2, 'inpout': 1, 'patientno': 13, 'autodiruesi': 1, 'subsuuent': 1, 'braos': 1, 'ctube': 3, 'scotch': 2, 'freew': 1, 'pneuthorax': 1, 'hyperacut': 1, 'imrpov': 2, 'hypopigment': 1, 'circumcis': 2, 'coagulas': 6, 'remaov': 1, 'tricycl': 1, 'previousnot': 1, 'abnl': 8, 'strap': 4, 'tricyc': 2, 'gynecomastia': 4, 'eopgen': 1, 'pathog': 1, '^st': 19, 'diazoxid': 1, 'visa': 2, 'assay': 11, 'cholic': 1, 'assymetri': 1, 'spondylot': 2, 'scrrene': 1, 'tprot': 3, 'gordona': 1, 'polypoid': 2, 'preliminarili': 4, 'indol': 3, 'gif': 7, 'lipodystrophi': 1, 'reconsid': 5, 'bleb': 5, 'suprapatellar': 5, 'someh': 1, 'psuedoaneurysm': 1, 'heroin': 4, 'diarrheal': 1, 'ritonavir': 5, 'retropuls': 8, 'throu': 1, 'dbili': 3, 'appaear': 1, 'fascit': 1, 'willl': 5, 'ileocec': 1, 'menig': 1, 'conu': 6, 'mandibular': 2, 'shouder': 1, 'thermal': 1, 'ling': 1, 'trigemin': 4, 'undect': 1, 'maroonish': 1, 'dystroph': 4, 'imporv': 5, 'forumulari': 1, 'saccular': 1, 'etcc': 1, 'heartburn': 6, 'turbul': 1, 'fasciiti': 2, 'sym': 5, 'retinpathi': 1, 'anmd': 1, 'stavudin': 2, 'cahin': 1, 'althou': 1, 'cubit': 2, 'changesd': 1, 'compound': 9, 'lamivudin': 5, 'entiti': 3, 'genotyp': 4, 'interpolar': 11, 'weightbear': 1, 'hiatel': 2, 'replic': 1, 'fianc': 6, 'activitu': 1, 'lifespan': 1, 'intermedi': 12, 'mlkb': 9, 'discogen': 1, 'indinavir': 1, 'questionn': 1, 'hb': 10, 'scution': 3, 'masl': 1, 'adenoviru': 2, 'bllede': 1, 'startedc': 2, 'guerney': 1, 'equilibr': 2, 'intubaton': 2, 'opportun': 2, 'telephonn': 1, \"movm't\": 1, 'profofol': 2, 'trachealmalasia': 1, 'miracl': 1, 'recommedn': 2, 'tracehostomi': 1, 'tunr': 1, 'pplacement': 1, 'mount': 3, 'desitin': 2, 'cariopulmonari': 1, 'mck': 4, 'ressrp': 1, 'tolwel': 1, 'uli': 1, \"suxn'\": 1, 'ofobvi': 1, 'goalrateof': 1, 'tolerar': 1, 'vulva': 1, 'grandgtr': 1, 'grandgaught': 1, 'eletroly': 1, 'acq': 1, 'sust': 1, 'hctand': 1, 'vaso': 5, 'stg': 6, 'nursung': 1, 'granddtr': 1, 'methi': 1, 'chafen': 1, 'closest': 1, 'conton': 1, 'alkolot': 2, 'corrol': 1, 'hemarroid': 1, 'expiratoy': 1, 'rb': 2, 'eletrolyt': 1, 'aplast': 1, 'buck': 4, 'secrtet': 1, 'cateth': 1, 'alfa': 3, 'daugher': 3, 'gttt': 1, 'biplan': 1, 'hazard': 2, 'auotdiures': 1, 'zemplar': 1, 'bidirect': 1, 'caridogen': 1, 'moraxella': 3, 'fav': 1, 'nidu': 4, 'qmowefr': 1, 'epoetin': 3, 'nupren': 2, 'nifedipem': 1, 'pmb': 3, 'archiv': 2, 'vitasl': 1, 'hepatopathi': 3, 'csv': 2, 'rdw': 6, 'clx': 9, 'succin': 3, 'silhouette': 1, 'lassix': 1, 'nonishcem': 1, 'myositi': 2, 'fluctat': 1, 'sirolimu': 1, 'fibromat': 1, 'sirolum': 1, 'retic': 12, 'immunocomprimis': 1, 'admissionon': 1, 'nutmeg': 1, 'groln': 1, 'interdepend': 2, 'zozyn': 6, 'american': 2, 'pvl': 2, 'secretiosn': 2, 'diabeti': 2, 'aspiratoin': 1, 'freqenc': 1, 'insuffal': 1, 'spaud': 1, 'genral': 1, 'apli': 2, 'albeterol': 1, 'asl': 2, 'syndom': 2, 'stron': 1, 'tacki': 2, 'burp': 3, 'insuffil': 1, 'inex': 1, 'cathetr': 2, 'rc': 3, 'calmli': 2, 'insul': 3, 'dilant': 1, 'wofran': 1, 'dismiss': 1, 'vale': 1, 'passmuy': 1, 'tkvo': 1, 'antibio': 2, 'exsuffal': 1, 'diuresisng': 3, 'exsuffol': 1, 'suffol': 1, 'venapunctur': 1, 'pot': 3, \"ok'\": 1, 'somtim': 1, 'solidli': 1, 'smll': 1, 'inexsuffl': 5, 'abotu': 1, 'recievieng': 1, 'ambung': 1, 'coctail': 1, 'reload': 2, 'eleva': 3, 'guven': 1, 'gii': 1, 'sphere': 1, 'suffil': 1, 'giav': 1, 'destatur': 1, 'tfor': 2, 'ensuffolat': 1, 'suffic': 1, 'pseudoseizur': 2, 'multinodular': 2, 'stepfath': 1, 'popsicl': 2, 'ddvap': 1, 'inspect': 8, 'pane': 3, 'axia': 1, 'wasplac': 1, 'obt': 3, 'desmopresson': 1, 'disappoint': 1, 'lunchtim': 4, 'tracheostoni': 2, 'percussor': 1, 'stime': 1, 'sadden': 1, 'mouthdisplay': 1, 'cefedipin': 1, 'puv': 1, 'drawback': 2, 'detach': 4, '^ed': 1, '^e': 1, 'upddat': 1, 'insipid': 1, 'smart': 1, 'extremetiew': 1, 'whezz': 2, 'fluccuat': 1, 'protest': 1, 'neget': 1, 'passeymu': 1, 'rehydr': 6, 'glugocaon': 1, 'mg^ed': 1, 'cricopharyngeu': 1, 'titratd': 1, 'thrghoutht': 1, 'antib': 3, 'extem': 5, 'aerosl': 1, 'paln': 2, 'incred': 1, 'ecotopi': 1, 'fater': 1, 'impr': 1, 'popcycl': 1, 'autodiuresis': 1, 'conuslt': 1, 'ivpush': 1, 'acc': 3, 'varianc': 2, 'rpotocol': 1, 'incas': 2, 'dangers': 1, 'lnl': 1, 'clap': 3, 'conglomer': 5, 'adequitli': 1, 'encoourag': 1, 'lliquid': 2, 'sensic': 1, 'nonengorg': 1, 'parahilar': 2, 'requier': 4, 'everyon': 5, 'methicillin': 2, 'imagin': 4, 'proplem': 1, 'hotel': 3, 'ethanol': 5, 'anwer': 1, 'drane': 1, 'olh': 1, 'pancreasruq': 1, 'steoroid': 2, 'omlet': 1, 'soda': 2, 'healh': 1, 'sensor': 1, 'flov': 1, 'aspiratioin': 1, 'swithch': 1, 'glargen': 2, 'casu': 2, 'ducclox': 1, 'spech': 1, 'excersis': 2, 'seation': 3, 'creatinint': 1, 'earach': 2, 'prurit': 3, 'lontgstand': 1, 'oxazepam': 1, 'placeon': 1, 'outdat': 4, 'hemidiaphram': 2, 'eefect': 1, 'sucstion': 1, 'yankhaur': 1, 'ambival': 1, 'increament': 1, 'asist': 1, 'admissison': 1, 'market': 1, 'phenasept': 1, 'enew': 1, 'mechanci': 1, 'smudg': 3, 'tital': 3, 'lenghthi': 1, 'cess': 1, 'ltye': 2, 'ptcont': 1, 'toknow': 1, 'previoui': 1, 'otoscop': 1, 'foward': 1, 'upperback': 1, 'surgey': 1, 'bronchiectat': 1, 'secreaton': 1, 'intermitta': 1, 'newer': 4, \"'lcba\": 1, 'cortisporin': 2, 'sting': 3, 'intuba': 1, 'insertedl': 1, 'cephalexin': 9, 'baso': 1, \"'lhbc\": 1, 'camphor': 1, 'neomi': 2, \"'lhbi\": 1, \"'expand\": 1, 'menthol': 1, 'noninvasii': 1, 'monteleukast': 2, 'polymyx': 2, 'aado': 1, \"'lgbc\": 1, 'romi': 18, 'caltco': 1, 'myelo': 4, 'urean': 1, 'falur': 1, 'monohydr': 6, 'patientciprofloxacin': 1, 'xs': 4, 'mchc': 1, 'pullmomnari': 1, 'albuteroliprtropium': 1, 'rvsp': 2, 'anguin': 1, 'angap': 1, 'allergist': 2, 'occasin': 1, 'aptt': 1, 'plcment': 1, 'amberin': 1, 'bilbasilar': 1, 'regurgi': 2, 'irradi': 2, 'nasopharyg': 1, 'mibi': 2, 'defienc': 1, 'entertain': 1, 'legionnella': 1, 'elucid': 1, 'consiult': 1, 'vasospasm': 2, 'alsogoign': 1, 'axithro': 1, 'tetanu': 5, 'fluctuanc': 4, 'tiotropim': 1, 'dysphag': 2, 'prophi': 6, 'haa': 2, 'scleral': 31, 'hepatosplenomegali': 3, 'barrel': 1, 'entrain': 2, 'seret': 3, 'dependend': 1, 'pancak': 2, 'inappropiatli': 1, 'compromsi': 1, 'cptq': 1, 'interc': 1, 'potato': 4, 'gravi': 2, 'cefepimin': 1, 'bno': 3, 'brochomalacia': 1, 'lathrgic': 1, 'incenet': 1, 'cvvhd': 8, 'demin': 1, 'willcont': 1, 'unwrap': 1, 'pleasnt': 1, 'hemodiaysi': 1, 'shoe': 2, 'hypercoagul': 2, 'hearp': 1, 'withn': 1, 'malignan': 1, 'nebulizor': 1, 'colonographi': 1, 'expcept': 1, 'dialter': 1, 'reader': 1, 'marigin': 1, 'fludrocort': 1, 'glugophag': 1, 'faciltiy': 2, 'glucophag': 1, 'forgett': 1, 'contam': 2, 'proteas': 2, 'menstrual': 3, 'chlamydia': 3, 'tochair': 1, 'amilodipin': 1, 'antihypertensiveslisinopril': 1, 'pancreas': 1, 'homicid': 1, 'crytogen': 1, 'azetronam': 2, 'oop': 3, 'dlpicc': 2, 'goodpastur': 2, 'rheum': 8, 'ivt': 5, 'oxymetri': 1, 'nsip': 8, 'wkd': 1, 'streptococcu': 5, 'aip': 3, 'firsttwo': 1, 'fbg': 1, 'percocett': 2, 'menstral': 1, 'weeenkd': 1, 'spurriou': 1, 'hall': 2, 'aep': 2, 'diursi': 3, 'fluconozol': 2, 'suport': 2, 'hemoptasi': 2, 'ifo': 1, 'reccurr': 1, 'drssg': 2, 'mrsp': 1, 'tring': 1, 'resparol': 1, 'ist': 2, 'heve': 2, 'restlessn': 2, 'meclazin': 1, 'tz': 3, 'recollect': 3, 'nightcloth': 1, 'kphosphat': 1, 'lisonopril': 1, 'narc': 4, 'rith': 2, 'opiod': 3, 'blkt': 1, 'frequant': 1, 'chift': 1, 'growin': 2, 'natrocor': 1, 'laxi': 1, 'propens': 3, 'stomachach': 1, 'fole': 2, 'ecter': 1, 'vgb': 1, '^level': 1, 'distendedw': 1, 'ta': 2, 'approri': 1, 'caraf': 7, 'dogoxin': 1, 'game': 2, 'regur': 1, 'sucess': 5, 'potect': 1, 'benefici': 9, 'untifung': 1, 'duahgter': 1, 'weanin': 2, 'antienxitey': 1, 'coarsw': 1, 'usal': 1, 'suctioni': 1, 'oon': 2, 'davb': 1, 'thouroughli': 1, 'feisti': 1, 'secrition': 1, 'walkman': 1, 'pwdr': 2, \"stool'\": 1, 'hemorrag': 3, '^^secret': 1, 'resplar': 1, \"dc'ing\": 2, 'hypxic': 1, 'meripenum': 1, 'chenyn': 1, 'allcyn': 1, 'lookig': 1, 'morepenum': 1, 'suxtion': 1, 'uvolem': 2, 'tremend': 2, 'halidol': 1, 'merpenum': 1, 'rink': 1, 'bbr': 5, 'rtn': 1, 'captorpril': 1, 'wll': 3, 'reepitheal': 1, 'resend': 15, 'deconditon': 1, 'ditropan': 4, 'gester': 2, 'inadvertant': 1, 'meclizin': 2, 'perenium': 1, 'extremley': 1, 'pseodomona': 1, 'dopral': 1, 'nostool': 2, 'perviou': 1, 'asympt': 1, 'pointintg': 1, 'dressin': 2, 'carafatefoley': 1, \"'avb\": 1, 'respelor': 1, 'bigem': 1, 'dlc': 1, 'pnuemo': 2, 'meripeneum': 1, 'tot': 4, 'requird': 1, 'availibilti': 1, 'blledi': 1, 'intract': 2, 'chr': 3, 'infom': 1, 'rect': 1, 'hematurea': 1, 'resuslt': 1, 'ponder': 1, 'subcl': 2, 'unwean': 1, 'maxiaml': 1, 'ovb': 1, 'rsing': 1, 'drawer': 1, 'hemehct': 1, 'ocntinu': 1, 'pleueral': 1, 'survelli': 2, 'gather': 2, 'compla': 1, 'uncap': 1, 'respik': 7, 'addhes': 1, 'miripenim': 1, 'nitrostat': 1, 'cathert': 2, 'odrer': 1, 'alklos': 1, 'hypoxiaun': 1, 'zaroxylyn': 1, 'goosebump': 1, 'freg': 2, 'mortal': 5, 'appripri': 1, 'headphon': 1, 'prostesi': 1, 'meatu': 3, 'famuli': 2, 'ultrfiltr': 1, 'knowm': 2, 'antivert': 1, 'mint': 1, 'remaim': 1, 'coucgh': 1, 'draninag': 1, 'surgergi': 1, 'sevral': 1, 'ttube': 1, 'oneumo': 1, 'encephalomalat': 1, 'bcsn': 1, 'explanant': 1, 'afm': 2, 'llopressor': 1, 'statr': 1, 'cellular': 10, 'serousang': 1, 'unsettl': 2, 'cxarevu': 1, 'peridcardi': 1, 'erffect': 1, 'leas': 1, 'vivid': 1, 'cholan': 1, 'mmdri': 1, 'sss': 2, 'mismatch': 5, 'cellulit': 1, 'unifi': 2, 'aocd': 1, 'purpur': 1, 'echymosi': 1, 'terazosin': 3, 'mlhh': 4, 'fibe': 1, 'proccedur': 1, 'trp': 1, 'accd': 1, 'disrepair': 1, 'ppain': 1, 'hemptysi': 1, 'clumsi': 2, 'agitaiton': 1, 'countri': 2, 'cost': 1, 'atternoy': 1, \"examination'\": 1, 'dlrc': 10, 'statist': 2, 'cylindr': 2, 'pseudolymphoma': 1, 'bronchogen': 1, 'aaax': 1, 'fidgit': 1, 'signfic': 8, 'beginng': 1, 'fool': 1, 'thoractomi': 3, 'throacotomi': 2, 'uncertainti': 1, 'muscou': 1, 'mjmgb': 4, 'childhood': 6, 'cinch': 1, 'buspar': 1, 'eunatrem': 1, 'unplan': 1, 'hyperlipedemia': 1, 'lipoma': 3, 'bread': 1, 'oupt': 3, 'continueto': 2, 'sned': 1, 'atelectesi': 3, 'hypernatreamia': 1, 'risperidol': 2, 'mh': 4, 'hgh': 1, 'applu': 1, 'candidt': 1, 'thoracenteisi': 1, 'wirst': 1, 'pitcher': 1, 'raaya': 1, 'contributor': 9, 'curtain': 1, 'constel': 6, 'ppv': 5, 'isosorbitr': 1, 'paraoxysm': 2, 'inbetween': 4, 'necessar': 1, 'lbka': 1, 'converas': 1, 'bka': 2, 'iiia': 1, 'interlobar': 3, 'discoveri': 9, 'replat': 2, 'rifaximin': 6, 'ingrowth': 2, 'angioma': 1, 'epigatrium': 1, 'eoimi': 1, 'opioid': 5, 'fulmin': 1, 'msiv': 1, 'avitan': 1, 'brcm': 1, 'paraumbil': 2, 'unresect': 2, 'lactolos': 3, 'eighth': 3, 'hepatolog': 10, 'hypona': 2, 'hepatocellular': 2, 'spider': 1, 'lusb': 5, 'esld': 6, 'perpendicular': 1, 'jkang': 2, 'managemnt': 1, 'factori': 3, 'hyperviscous': 1, 'enal': 1, 'boluss': 2, 'actor': 1, 'ibratroprium': 1, 'fracutur': 1, 'myeloprolif': 1, 'pylonephr': 2, 'forcibl': 1, 'crystaluria': 1, 'duplic': 6, 'viscos': 1, 'sown': 2, 'improvemet': 2, 'neh': 1, 'forthi': 1, \"abx'\": 2, 'endarterectomi': 2, 'aidc': 1, 'sedment': 1, 'throughoutshift': 1, 'purrul': 1, 'rh': 7, 'rightarm': 1, 'gor': 1, 'craiotomi': 1, 'sf': 4, 'hypercabnia': 1, 'badli': 1, 'pivsx': 1, 'vascil': 1, 'nivv': 1, 'chondroid': 1, 'givensec': 1, 'epoc': 1, 'plced': 1, 'caors': 1, 'enchondroma': 3, 'hydralasin': 1, 'gliburid': 1, 'ecreas': 1, 'icecream': 5, 'punct': 1, 'secretioin': 3, 'swear': 3, 'ressist': 1, 'proectiv': 1, 'sxth': 1, 'pinch': 2, 'supraren': 1, 'peform': 2, 'intussuscept': 3, 'diffusley': 1, 'born': 2, 'ipmt': 1, 'noncalcifi': 2, 'blackhead': 1, 'duodenojejun': 1, 'cranio': 1, 'recordrd': 1, 'yeloow': 1, 'decdreas': 1, 'nipb': 1, 'interrog': 7, 'airbourn': 1, 'multisequ': 8, 'doxcyclin': 1, 'phenergan': 3, 'rage': 9, 'dest': 1, 'ceffus': 1, 'crepet': 1, 'negativev': 1, 'rctest': 1, 'micanazol': 1, 'drainiag': 1, 'trash': 1, 'racem': 4, 'heavier': 1, 'earlli': 1, 'restles': 1, 'continy': 1, 'signifig': 1, 'overnth': 1, 'peripneumon': 1, 'properlli': 1, 'liqid': 1, 'slojw': 1, 'indwell': 1, 'follwo': 2, 'dysnpea': 2, 'ivcd': 2, 'rescusit': 3, 'cocktail': 1, 'cardiovascularno': 1, 'colchicin': 3, 'enthesophyt': 1, 'avuls': 4, 'tricompart': 1, 'patella': 4, 'hemmorahg': 1, 'ganglion': 1, 'nondisplac': 6, 'dti': 1, 'creol': 2, 'quadricep': 1, 'diaphysi': 1, 'globular': 2, 'hypointes': 1, 'fave': 1, 'sleepfor': 1, 'zithromycin': 1, 'guaifenesen': 1, 'extrapleur': 2, 'vasogen': 2, 'peridiaphragmat': 1, 'calvarium': 4, 'postobstruct': 10, 'infiltra': 2, 'calyc': 1, 'pantaprazol': 1, 'decread': 1, 'opthamolog': 1, 'insuf': 1, 'bidmcon': 1, 'hse': 3, 'assessmend': 1, 'pma': 2, 'ganciclovir': 3, \"mae'\": 1, 'sequal': 2, 'delic': 1, 'ordeal': 1, 'thinnest': 1, 'hypoalbumenia': 1, 'ptesent': 1, 'grandual': 1, 'lact': 4, 'carinii': 7, 'hypoxiaclin': 1, 'almond': 1, 'swellin': 1, 'aroiund': 1, 'watermelon': 1, 'rpv': 1, 'mhv': 1, 'hepatofug': 2, 'precardiovers': 2, 'mpv': 1, 'lpv': 1, 'rhv': 1, 'denot': 1, 'tonsil': 2, 'notepad': 1, 'streptokinas': 1, 'ampulla': 2, 'dropplet': 1, 'nassal': 1, 'curc': 1, 'inseretd': 1, 'mucor': 1, 'proconazol': 1, 'dminish': 1, 'rfoley': 1, 'pocasonazol': 1, 'carvadlol': 1, 'aspitar': 1, 'sulph': 1, 'antireject': 2, 'sultat': 1, 'valganciclovir': 3, 'posaconazol': 2, 'previu': 1, 'k^': 1, 'lrrt': 1, 'tigh': 1, 'atg': 1, 'accordac': 1, 'dmii': 10, 'extert': 1, 'irriat': 1, 'contor': 1, 'culur': 1, 'afor': 1, 'survil': 1, 'cahtet': 1, 'fantanyl': 1, 'threadi': 1, 'tbc': 1, 'vassopressin': 3, 'cherri': 1, 'triodyn': 1, 'brop': 1, 'realtim': 2, 'volatg': 1, 'rif': 1, 'esopag': 1, 'loke': 1, 'necc': 1, 'quardant': 1, '^resiudu': 1, 'incontact': 1, 'qolden': 1, 'discus': 1, 'recriut': 1, 'aggiat': 2, 'skikn': 1, 'umbilicu': 3, 'wart': 1, 'phianc': 1, 'incompat': 3, 'tacypnea': 4, 'replinish': 1, \"cx'd\": 2, 'rifazimin': 1, 'possbili': 1, 'osteochondr': 1, 'aft': 2, 'sytol': 1, 'neomycin': 1, 'formul': 4, 'diaphram': 2, 'sxi': 1, 'thime': 1, 'absprption': 1, 'hydrothorax': 3, 'tback': 1, 'leumen': 1, 'tonu': 1, 'aldoacton': 1, 'mucousa': 1, 'glide': 1, 'dessican': 1, 'fryiabl': 1, 'disign': 1, 'subclavien': 2, 'triadym': 1, 'pencil': 2, 'eso': 3, 'auxilliari': 1, 'cehal': 1, 'isthmu': 1, 'heparina': 1, 'hemocult': 1, 'retart': 2, 'placec': 1, 'manouev': 1, 'rhoncii': 1, 'overdistens': 1, 'ofth': 1, 'contrinu': 1, 'htnsive': 2, 'oxygentaion': 1, 'doubbl': 1, 'tricki': 2, 'dn': 1, 'gp': 5, 'atleast': 3, 'ks': 9, 'crypto': 5, 'adrenerg': 3, 'interuppt': 1, 'exterm': 2, 'biapsi': 1, 'macro': 5, 'indipendantli': 1, 'symm': 1, 'aspergilli': 2, 'idarubicin': 1, 'jail': 2, 'antiphsopholid': 1, 'admisison': 3, 'bronchietesi': 1, 'yankeaur': 1, 'diarreha': 1, 'phospholipid': 2, 'devleop': 1, 'rhonchronu': 1, 'sensorium': 2, 'oi': 1, 'cytarabin': 1, 'suppliment': 7, 'coranari': 1, 'metnal': 2, 'nro': 1, 'shoiwng': 1, 'heterosexu': 1, 'antiphospolipid': 1, 'tmof': 1, 'synd': 1, 'hypervolemia': 5, 'atovaquon': 2, 'preacaut': 1, 'cardiomypathi': 1, 'intercours': 1, 'toxo': 5, 'broncheictasi': 2, 'zidovudin': 1, 'hyperna': 3, 'shld': 2, 'setttl': 1, 'tularemia': 1, 'shldr': 3, 'lenal': 1, 'thickenen': 1, 'cand': 1, 'gcsf': 3, 'diuures': 1, 'repat': 1, 'rhonic': 1, 'rifaxamin': 2, 'lactulso': 1, 'neupogen': 5, 'tsay': 1, 'azostrenam': 1, 'leukopenia': 11, 'bitten': 2, 'susc': 1, 'areteri': 1, 'fungitel': 1, 'gastropathi': 1, 'ig': 6, 'predominantley': 1, 'hematura': 2, 'thash': 2, 'follolw': 1, 'blastomycosi': 1, 'sightli': 1, 'blasto': 1, 'attdg': 1, 'cytopenia': 3, 'aztreo': 1, 'parvo': 1, 'proxial': 1, 'erythemia': 1, 'gentamycin': 6, 'haldo': 3, 'bromnchscopsi': 1, 'pleasur': 3, 'regualt': 1, 'respositiong': 1, 'extremeluy': 1, 'coccido': 1, 'celaxa': 1, 'atid': 1, 'elyt': 2, 'fw': 6, 'amikcain': 1, 'bunni': 1, 'histo': 4, 'laisix': 2, 'doss': 9, 'rectovesicular': 1, 'hematur': 1, 'subset': 2, 'doxyclin': 1, 'toxicit': 1, 'botharm': 1, 'edu': 4, 'meastu': 1, 'breathi': 3, 'primaquin': 6, 'volit': 5, 'signficantli': 3, 'interestingli': 4, 'secreiotn': 1, 'obrain': 1, 'bia': 6, 'antibid': 3, 'spp': 4, 'additiion': 1, 'acetazolamid': 14, 'paresthesia': 2, 'diiuresi': 1, 'urethr': 5, 'essentiali': 1, 'equabr': 1, 'azathioprin': 4, 'lumbosacr': 4, 'coccidio': 1, 'withheld': 4, 'ardsnet': 12, 'aztrenonam': 1, 'episiod': 1, 'biba': 3, 'atavan': 1, 'suger': 2, 'lamintectomi': 1, 'vando': 1, 'xblood': 1, 'lovastatin': 2, 'ebl': 1, 'reced': 2, 'nil': 4, 'mevacor': 1, 'proceduro': 1, 'pilmonari': 2, 'orthoped': 2, 'ckr': 1, 'tpiec': 1, 'challang': 1, 'backpain': 3, 'nonetheless': 2, 'onn': 1, 'duir': 2, 'suppost': 3, 'withwbc': 1, 'bacterimia': 2, 'appendectomi': 6, 'tmep': 1, 'anxiuo': 3, 'swelll': 1, 'cear': 1, 'levoflaxin': 1, 'cefopim': 5, 'yesterdat': 1, 'ceart': 1, 'negati': 1, 'atibiot': 2, 'reacat': 1, 'costochodr': 1, 'obv': 4, 'surther': 1, 'gdi': 1, 'endrocrin': 1, 'reenter': 2, 'oxcycodn': 1, 'quadroplegia': 1, 'wtd': 1, 'foey': 1, 'tibiali': 3, 'occupi': 6, 'reportsd': 1, 'intergr': 2, 'expectoart': 1, 'decubit': 3, 'pharang': 1, 'season': 5, 'intracrania': 2, 'gluet': 1, 'ntsx': 2, 'vigour': 3, 'gelaten': 1, 'tcl': 2, 'approprit': 1, 'transitori': 1, 'sale': 1, 'paracardium': 1, 'rej': 2, 'atrovnet': 2, 'resultsar': 1, 'eom': 8, 'claustraphobia': 1, 'aelrt': 1, 'rin': 1, 'brochoscopi': 1, 'desatsur': 1, 'qustion': 1, 'moth': 2, \"mie'\": 1, 'uncahang': 1, 'dad': 5, 'gatorad': 1, 'seatbelt': 1, 'altough': 1, 'deserv': 1, 'sling': 6, 'sbd': 1, 'dimiinsh': 1, 'itnub': 1, 'scvo': 3, 'genuin': 1, 'aerstion': 1, 'comiv': 2, 'hyoid': 1, 'cdv': 1, 'tortur': 1, 'rhythym': 3, 'chemic': 7, 'liquig': 1, 'crampi': 4, 'positiv': 1, 'mf': 3, 'lousi': 2, 'grandfath': 2, 'abtibiot': 1, 'intubatioin': 1, 'egophani': 4, 'relfex': 1, 'zpt': 1, 'granchildren': 1, 'concolid': 1, 'laft': 1, 'spect': 3, 'opein': 1, 'reslult': 1, 'perhilar': 1, 'tropl': 1, 'stringlik': 1, 'colligenas': 1, 'subtherapeurt': 1, \"'cheyn\": 1, 'copuld': 1, 'stokea': 1, 'tropic': 1, 'dsrg': 1, 'threshhold': 2, 'extubatiuon': 1, 'frquent': 1, 'damper': 1, 'efffus': 2, 'niphedipin': 2, 'physcian': 1, 'yea': 2, 'psorasi': 1, 'grate': 1, 'particl': 3, 'isminim': 1, 'anterolithesi': 1, 'placer': 1, 'nipedipin': 1, 'ispok': 1, 'intqact': 1, 'vido': 1, 'impinenum': 1, 'schiziod': 1, 'nitika': 1, 'slx': 1, 'phrenic': 3, 'retrolisthesi': 3, 'divertucul': 1, 'acord': 1, 'director': 3, 'administrationg': 1, 'cevic': 1, 'broccoli': 1, 'fridg': 2, 'ectoppi': 1, 'bathtub': 1, 'ridig': 1, 'admitt': 3, 'imipenim': 1, 'lag': 3, 'forlab': 1, 'evaluat': 2, 'presenti': 1, 'encapsul': 1, 'cxt': 1, 'qestion': 1, 'listhesi': 2, 'hydrazlin': 1, 'rnging': 1, 'imipenemen': 1, 'perifissur': 2, 'removen': 1, 'sveral': 1, 'overflow': 3, 'dope': 1, 'warter': 1, 'ginen': 1, 'pneumothorx': 1, 'nasoenter': 5, 'atria': 5, 'tharapi': 1, 'albutrol': 1, 'invol': 1, 'prelet': 1, 'lactuloc': 1, 'verapmil': 1, 'klc': 1, 'flatulos': 1, 'exers': 1, 'xiphoid': 1, 'echymot': 2, 'ecymot': 1, 'plebotomi': 1, 'lee': 1, 'ddsg': 1, 'osteoblast': 3, 'surig': 1, 'serquoel': 1, 'desato': 1, 'obstracion': 1, 'breaht': 1, 'menier': 1, 'ditazem': 1, 'usoh': 7, 'attest': 1, 'sought': 3, 'patientgentamicin': 1, 'dabx': 1, 'empiriacl': 1, 'ronchuru': 1, 'hyrdrat': 1, 'gfr': 7, 'ramya': 2, 'lupsu': 1, 'sle': 5, 'lupu': 6, 'perilumbar': 1, 'haze': 8, 'hemipelvi': 4, 'obliteran': 3, 'nonvascular': 4, 'markinga': 1, 'pf': 6, 'aglc': 5, 'wherea': 4, 'dli': 1, 'chornic': 2, 'bialt': 1, 'reapli': 1, 'othewis': 1, 'ectoyp': 1, 'extubatuon': 1, 'ventiat': 2, 'inub': 1, 'caglu': 1, 'elastiplast': 1, 'thoracotmi': 1, 'drnge': 1, 'reiorient': 1, 'antigrav': 1, 'respilor': 2, 'inci': 1, 'entireti': 3, 'thobe': 1, 'serrosanguin': 1, 'anasarci': 1, 'sgot': 1, 'meso': 2, 'similari': 1, 'neng': 1, 'eng': 1, 'dcm': 3, 'trilept': 3, 'oxcarbazepin': 2, 'ichem': 1, 'asjac': 1, 'vancoymcin': 2, 'asymptompat': 1, 'passezmuir': 1, 'hdp': 2, 'perifer': 2, 'stanbi': 1, 'bronchospas': 1, 'cstm': 2, 'sewn': 2, 'syn': 2, 'hydracholathiazid': 1, 'nag': 2, 'genear': 1, 'recquir': 1, 'will^': 1, 'tilll': 1, 'changemad': 1, 'ticken': 2, 'defec': 1, 'oobtc': 3, 'satg': 2, 'passeymuir': 1, 'ovenight': 2, 'extrememti': 1, 'hardli': 1, 'perpheri': 2, 'pmeumococc': 1, 'nonopacifi': 1, 'polysinu': 1, 'anasacar': 1, 'jean': 1, 'indium': 1, 'methelen': 1, 'passeymiur': 1, 'solwli': 1, 'dissappear': 1, 'furnish': 1, 'huband': 1, 'appeaer': 1, 'pddp': 1, 'surveli': 1, 'postprocedur': 1, 'sectet': 1, 'dropp': 3, 'bilaterl': 1, 'awkward': 1, 'acalculu': 2, 'autolog': 2, 'gallium': 1, 'geiven': 1, 'hith': 1, 'maxliofaci': 1, 'desatt': 2, 'tbf': 1, 'juncki': 1, 'malrot': 1, 'initailli': 4, 'airbolu': 1, 'respilar': 1, 'diuresesd': 1, 'dposit': 1, 'technician': 2, 'ventac': 1, 'catapril': 1, 'trila': 1, 'quentin': 1, 'swna': 1, 'galium': 1, 'preoxygen': 3, \"fxn'ing\": 1, 'ave': 1, 'trasfer': 4, 'desesitizaion': 1, 'azthromycin': 1, 'mml': 1, 'rxed': 2, 'sicial': 1, 'trachial': 2, 'leakso': 1, 'subequ': 1, 'arraang': 1, \"'sr\": 1, 'mylasia': 1, 'intermittentlki': 1, 'ndka': 1, '^sob': 1, 'infusint': 1, 'bivonna': 1, 'diostress': 1, 'ddrop': 1, 'danglk': 1, 'bovina': 1, 'enteroflex': 1, 'arrial': 1, 'evidnec': 1, 'dchart': 1, 'bullosa': 2, 'piecem': 6, 'scm': 2, 'abuss': 1, 'ressussit': 1, 'arousalb': 1, 'dlaryng': 1, 'phlebolith': 2, 'extrathorac': 1, 'reorinet': 1, 'yearli': 1, 'adjacet': 1, 'cranki': 1, 'wirh': 1, 'rnow': 1, 'millisecond': 7, 'vanoc': 1, 'interacted': 1, 'siphon': 1, 'hypervascular': 1, 'helthcar': 1, 'subscapular': 2, 'osteoarthrit': 1, 'tendinopathi': 1, 'giant': 2, 'synovi': 4, 'presist': 2, 'freqent': 1, 'prolif': 1, 'cartilag': 3, 'blcx': 1, 'pericathet': 1, 'eit': 1, 'imrov': 3, 'boug': 1, 'communuc': 1, \"sx'nd\": 1, 'ffinard': 1, 'dnystatin': 1, 'decedron': 1, 'vti': 1, 'onoc': 1, 'hungeri': 1, 'plade': 1, 'venbtil': 1, 'enlg': 1, 'atelect': 2, 'subtend': 1, 'knod': 1, 'tthick': 1, 'motuh': 1, 'throght': 1, 'evev': 2, 'fenatanyl': 2, 'weanm': 1, 'aread': 1, 'fico': 1, 'sheed': 1, 'minu': 5, 'sweatinbg': 1, 'agtiat': 1, 'waithout': 1, 'surigfoam': 1, 'cointrol': 1, 'vestra': 1, 'diagnosit': 2, 'dsng': 1, 'bucal': 1, 'rewuir': 1, 'novosourc': 2, 'fentnayl': 1, 'rft': 1, 'secretionsin': 1, 'metorpolol': 1, 'arn': 1, 'imnprov': 1, 'excacerb': 2, 'functon': 1, 'stamina': 1, 'oldest': 4, 'appropir': 1, 'chunki': 1, 'visitir': 1, 'lightind': 1, 'arrhytmia': 1, 'urinein': 1, 'nskin': 1, 'dimisah': 1, 'dirues': 4, 'calear': 1, 'hrwith': 1, 'tubeeffect': 1, 'atttempt': 1, 'boulus': 1, 'barimaxx': 2, 'areound': 1, 'muchroom': 1, 'slightl': 1, 'occasionl': 1, 'enocurag': 1, 'carevi': 1, 'breakdowon': 1, 'naesthesia': 1, 'tympani': 1, 'echymott': 1, 'bibasliar': 1, 'tappabl': 2, 'percus': 1, 'lenghth': 1, 'polychamb': 1, 'lidocan': 1, 'amioderom': 1, 'quench': 1, 'falsli': 1, 'metropol': 1, 'regualr': 1, 'guidwir': 3, 'indigest': 2, 'cnt': 3, 'pneumonthorax': 2, 'hbv': 7, 'hbc': 1, 'elctrolyt': 1, 'tuberculin': 1, 'atim': 1, 'testa': 1, 'phyusic': 1, 'toxoplasmosi': 3, 'methodon': 3, 'pitfal': 1, 'notch': 4, 'bsck': 1, 'giveng': 1, 'beef': 1, 'somethim': 1, 'precat': 1, 'hmd': 1, 'dia': 1, 'vedio': 1, 'unlobor': 1, 'fct': 1, 'antituss': 2, 'smaal': 1, 'disciplanari': 1, 'multpil': 1, 'mcu': 2, 'ulc': 1, 'atraumat': 19, 'partn': 1, 'plavi': 1, 'patientvancomycin': 1, 'possiblil': 1, 'uncuf': 5, 'vomt': 3, 'obstuct': 3, 'strangul': 2, 'difficuli': 1, \"dp'\": 1, 'sensi': 8, 'atelctasi': 2, 'ileum': 6, 'incarcer': 3, 'recordsvancomycin': 1, 'omelett': 1, 'pediscop': 1, 'guiafenisen': 2, 'miuc': 2, 'gurd': 1, 'sudaf': 1, 'stolen': 1, 'neutr': 1, 'isnt': 1, 'ivrn': 2, 'furth': 1, 'rape': 1, 'revel': 2, 'clonipan': 1, 'brochial': 3, 'scabe': 1, 'intramur': 6, 'hydro': 8, 'pittind': 1, 'considerabley': 1, 'emphesema': 1, 'tachypenea': 2, 'nonvisu': 2, 'creep': 1, 'inapprori': 1, 'prefor': 1, 'trick': 1, 'emtot': 1, 'kidni': 1, 'alternatey': 1, 'labetelol': 1, 'prepart': 2, 'arrestn': 1, 'aliv': 7, 'supportof': 1, 'sllevyn': 1, 'ascist': 1, 'dimininish': 1, 'afebrl': 1, 'snxing': 1, 'itnerv': 1, 'dvd': 3, 'eras': 2, 'basebal': 1, 'irregur': 1, 'burger': 1, 'hinder': 1, 'suppitori': 1, 'suppor': 2, 'brachiocepal': 1, 'recussit': 1, 'witih': 1, 'probabilti': 1, 'fmaili': 1, 'eposod': 1, 'bronchspast': 1, 'outweigh': 6, 'ltitrat': 1, 'todya': 1, 'papular': 4, 'eitolog': 1, 'effusionsm': 1, 'promd': 1, 'reasur': 1, 'receheck': 1, 'troph': 2, 'menstruat': 1, 'bben': 1, 'signifiacnt': 1, 'klonidin': 1, 'wheezs': 1, 'figeti': 1, 'appetiti': 2, 'strepto': 1, 'soungd': 1, 'ovcer': 1, 'mechnic': 1, 'releif': 2, 'microneb': 2, 'vedrs': 1, 'mar': 2, 'astatu': 1, 'comfor': 1, 'fidgiti': 1, 'pneumoccoc': 1, 'ceftr': 1, 'trnbasfer': 1, 'psch': 1, 'clonepin': 1, 'parnoid': 1, 'moprn': 1, 'ood': 1, 'bacaus': 1, 'coherr': 1, 'lisinopri': 1, 'mucosa': 16, 'willfollow': 1, 'inu': 2, 'wouldnt': 1, 'pattent': 1, 'inapropri': 1, 'orrali': 1, 'coorper': 1, 'opo': 1, 'tpo': 1, 'seur': 1, 'fereq': 1, 'anisocoria': 1, 'informaion': 1, 'drnr': 1, 'desper': 1, 'emolli': 2, 'witgh': 1, 'bilatearlli': 1, 'gorssli': 1, 'recommen': 1, 'ventriculoar': 1, 'icm': 1, 'anuria': 7, 'guafenesin': 1, 'aspiratio': 1, 'uriun': 2, 'ctz': 2, 'curbsid': 4, 'resovl': 1, 'intersitit': 1, 'possibly': 1, 'ak': 1, 'telemet': 1, 'hcf': 1, 'parenchyema': 1, 'ruleout': 1, 'contant': 1, 'inferolat': 1, 'bedchair': 1, 'fulid': 2, 'isorsorbid': 1, 'nontheless': 1, 'eosinophila': 3, 'postinfecti': 2, 'lowsi': 1, 'supplementari': 2, 'checkup': 1, 'dial': 2, 'intrapericardi': 3, 'sequala': 1, 'setback': 11, 'balc': 1, 'kyg': 6, 'moaner': 1, 'presnet': 1, 'waffelr': 1, 'productuv': 1, 'equat': 1, 'sheat': 1, 'afebrik': 1, 'continnu': 1, 'aatmpt': 1, 'mvso': 1, 'upurc': 1, 'invagin': 2, 'draiang': 1, 'carbomed': 1, 'filll': 2, 'lungsound': 1, 'unload': 2, 'pocoumadin': 1, 'fling': 1, 'partiallli': 1, 'antiobot': 1, 'leov': 1, 'serousnangin': 1, 'protamin': 3, 'dobut': 3, 'improiv': 1, 'ttttto': 1, 'prouctiv': 1, 'augement': 1, 'hespan': 1, 'thoraic': 1, 'presentplan': 1, 'msvo': 1, 'perki': 1, 'mebul': 1, 'iintub': 1, 'pheregan': 1, 'intermitten': 1, 'aboukt': 1, 'cepatim': 1, 'probrabl': 1, 'rwhite': 1, 'steorid': 1, 'thrusday': 1, 'beacam': 1, 'wothout': 1, 'gluccos': 1, 'farm': 1, 'detal': 1, 'endocran': 1, 'biliour': 1, 'doxcycyclin': 1, 'steoriod': 1, 'pinsp': 1, 'trqansfer': 1, 'mous': 1, 'lighli': 1, 'cortisyn': 1, 'unopacifi': 1, 'doxycylin': 2, 'lasr': 1, 'deliou': 1, 'diahrrea': 2, 'cefapin': 1, 'zxz': 2, '|yy': 2, 'tez': 2, 'ei': 2, 'shpplt': 2, 'nghch': 2, 'header': 2, 'kzmwc': 2, 'ifl': 2, 'fj': 2, 'ifgd': 2, 'vgpi': 2, 'ihdr': 2, 'bdlt': 2, 'ftth': 2, 'hyw': 2, 'qf': 2, 'ooo': 3, 'xy': 2, 'xq': 2, 'hyesh': 2, 'sidatx^': 2, 'uz': 2, 'qqov': 2, 'mnoz': 1, 'ydf': 2, 'vh': 2, 'kbo': 2, 'dhuorq': 2, 'rs^': 2, 'cxpq': 2, 'jigi': 2, 'wiil': 1, 'xil': 1, 'syv': 2, 'tktot': 1, 'nocdxi': 1, 'fswi': 2, 'ffqp': 2, '^g': 2, 'jl': 2, 'moraxelia': 1, 'ojqj^jh': 2, 'jv': 2, 'z|': 2, 'jxfh': 1, 'zuo': 2, 'plntl': 2, 'lz': 2, 'yd': 2, 'iy': 2, 'gkdg': 2, 'microsoft': 2, 'minutey': 1, 'cjajh': 2, 'dfhm': 2, 'hw': 2, 'mq': 2, 'eutttt': 2, 'se': 8, 'u^kq^': 2, \"w'\": 2, 'worddocu': 1, 'odi': 1, 'ifa': 2, 'f|l': 2, 'vvvvvvvv': 1, '^|d': 2, 'uvvvvv': 1, 'qn': 2, 'tq': 2, 'cdehijknowxyz^': 1, 'v|': 1, 'odf': 2, 'ccg': 2, 'qb|': 2, 'dulxo': 2, 'nw': 2, 'tni': 2, 'dob': 4, 'ucto': 2, 'granulamoti': 1, 'nffhf': 2, 'emr': 2, 'aeu': 2, 'ol': 2, 'rqb': 2, '^jaj': 2, 'sjpa': 2, 'fsp': 2, 't|t': 1, 'cee': 2, 'ke': 2, 'xm': 2, 'hy': 3, 'nz': 2, 'aub': 2, 'fl': 7, 'ppbp': 2, '|u': 2, 'ejk': 2, 'jx': 3, 'ttit': 2, 'b^': 2, 'nvo': 2, 'jj': 2, 'yfgga': 2, 'vhvivrvsv': 1, 'durin': 2, 'sft': 2, 'xx': 5, 'lwc': 3, 'rs': 8, 'zkd': 2, 'xppocnot': 2, 'uvwxyz': 1, '^jajmhsh': 2, 'oyz': 2, 'yhwv': 2, '^lze': 2, 'jkd': 1, 'hxjgu': 2, 'zfn': 2, 'srgb': 2, 'yl': 1, 'vbjbj': 1, 'iap': 2, 'dotxppoc': 2, 'oih': 2, 'cjojqj^j': 2, 'qld': 2, 'nrvliiu': 2, 'qg': 2, 'uyl': 2, \"wegener'\": 1, 'fy': 2, 'tmtntotzt': 1, 'cjojqj': 2, 'cjojpjqj^jnho': 2, 'lx': 3, 'xdrn': 2, '^jajh': 2, 'receveiv': 1, '^j': 1, 'yt': 2, 'metabolit': 2, 'xp': 2, 'abh': 1, 'numpag': 2, 'b|': 2, 'yuim': 2, 'jw': 2, 'xcompobj': 1, 'cebq': 2, 'mndm': 2, 'if^': 2, 'xoq': 2, 'mnpj': 2, 'cjojqjuv^jaj': 1, 'mu': 3, 'oxcn': 2, 'txe': 2, 'agsa': 2, 'oq': 2, 'onw': 2, 'vdegg': 2, 'abrsxbhk': 1, 'miig': 2, '|s': 2, 'kd': 2, 'ebx': 2, 'zqqqq': 1, 'lkdv': 2, 'chlorhexdin': 1, '^jajmh': 1, 'uy': 2, 'eee': 2, 'jjj': 2, 'ymj': 2, 'svttttlq': 2, 'v^vgvhvrvsv': 1, 'rkdz': 2, 'km': 2, '|x': 2, 'rqujf': 2, 'dw': 6, 'iz': 2, 'ftd': 2, 'shphgb': 2, 'ia': 5, 'ae': 5, 'fkd': 1, '^qj': 2, 'mzm': 2, 'gpl': 2, 'cjojqj^jajhr': 1, 'vo': 2, '|vi': 2, 'tin': 4, 'gqt': 2, 'nnn': 2, 'euq': 2, 'rybx': 2, 'ein': 1, 'ibxg': 2, 'adx': 1, 'ko': 2, '^jaju': 1, '^i': 2, 'xf': 2, 'abcdefghijklmnopqrstuvwxyz': 2, 'mmmhhh': 2, 'tro': 2, 'lzra': 2, 's|': 2, 'zvhk': 2, 'xg': 2, 'dfk': 2, 'z^': 2, 'fug': 2, 'jm': 2, 'okpwp': 2, 'ribi': 2, 'zwc': 2, 'cpvmh': 2, 'uu': 2, 'eb': 2, 'waejg': 2, 'qxq': 2, 'ff': 4, 'xn': 2, 'cjojqju^jajh': 2, 'vfx': 2, 'trpw': 1, 'qefeiq': 2, 'hke': 2, 'dcl': 1, 'idatx^': 2, 'olwl': 2, 'eyfp': 2, 'ttooe': 2, 'itenk': 2, 'fpbrushpbrushpbrush': 2, 'fp': 2, 'objectpool': 2, 'ldf': 2, 'ovk': 2, '|c': 2, 'pwow': 2, 'dtj': 2, 'wlz': 2, 'jy': 2, 'ik': 2, 'initiati': 1, 'kmdv': 2, 'qvu': 2, \"'t\": 3, 'fpu': 2, 'granulomatosi': 2, 'hzyh': 2, '|k^': 2, 'ji': 2, 'vmc': 2, 'shphct': 2, 'ryhc': 2, 'qqq': 2, 's|f': 2, 'zza': 2, 'um': 2, 'zd': 2, 'zg': 2, 'ui': 2, 'tsc': 2, 'ycu': 2, 'aj': 2, 'dxfdl': 2, 'vpcsp': 2, 'adehjk': 1, 'abrxbhk': 1, 'kkkggg': 2, 'gq': 1, 'heiy': 2, 'lcj': 2, '|cl': 1, 'shpwbc': 2, 'txf': 2, 'ze': 2, '|q': 2, 'ggg': 2, 'zw': 2, 'vtl': 2, 'tsummaryinform': 2, 'aocrf': 2, \"dzz'\": 2, 'zlkb': 2, '|||': 2, 'gsp': 2, 'bsb': 2, 'ejo': 2, 'fsx': 2, 'mbd': 2, 'cb': 4, 'hhh': 2, 'hlvo': 2, 'ilji': 2, 'acxci': 2, 'pi': 3, 'yh': 2, 'eqe': 2, 'cjojqju^jaj': 2, 'nxrv': 2, 'dq': 2, 'c^': 2, 'lh': 6, 'xvuy': 2, 'patientbactrim': 1, 'tj': 2, 'suu': 2, 'wvmyvu': 2, 'jojpjqj^jnho': 1, \"'uqg\": 2, 'cq': 2, 'pfq': 2, 'gx': 2, 'dpx': 1, 'zex': 2, 'omkkfk^k': 1, 'compobj': 2, 'augapha': 2, 'vdx': 2, 'moroxella': 1, 'ocio': 2, 'pz': 1, 'qxi': 2, 'outstand': 3, 'ee': 2, 'vhi': 2, 'ec': 6, 'qdwu': 2, 'ffj': 2, 'smixu': 2, 'gw': 2, 'bfm': 2, 'wdl': 2, 'cj': 3, 'wla': 2, 'o|': 2, '|bc': 2, 'kpsp': 2, 'aeijk': 1, 'hhhnnn': 2, 'begkm': 1, 'ajh': 2, 'xv': 2, 'pj': 2, 'gkd': 2, 'wdeu': 2, 'smarttag': 2, 'psn': 2, 'qfeqfkq': 2, 'zhdk': 2, 'svttttt': 2, 'gbi': 2, 'zo': 2, '|ff': 2, 'bfiu': 2, 'dj': 2, 'jz': 2, 'mvz': 2, 'cuyi': 2, 'ttttttl': 2, 'jpn|zb': 2, 'cjajmhnhujh': 2, 'ay': 3, 'jxut': 2, 'cjojqj^jajh': 2, 'aqo': 2, 'laf': 2, 'ztm': 2, 'hkt': 2, 'elh': 2, '|w': 2, 'thh': 1, 'khe': 2, 'fghijklm': 1, 'qxbk': 2, 'rkd': 2, 'f|uf': 2, \"b'\": 2, 'fip': 1, 'vfv': 2, 'chema': 1, \"p'\": 2, 'gh': 2, 'hvah': 2, 'vthf': 2, 'cjaj': 2, 'antibitot': 1, 'qlcccc': 1, 'gt^': 2, 'pyl': 1, 'buxf': 2, 'urn': 3, 'ihdrvfw': 2, 'schema': 2, 'stx': 2, 'bre': 1, 'documentsummaryinform': 2, 'rwsi': 2, 'abcd': 1, 'rdata': 1, 'xh': 2, 'lzpl': 2, 'cjojqj^jajmhsh': 2, 'nenl': 2, 'jh': 2, 'cjuajh': 2, 'a^': 2, 'ffv': 2, \"amaa'\": 2, 'cjojqjz': 1, 'mdfl': 2, 'oy': 3, 'bw^cw': 2, 'jva': 2, 'neuck': 2, 'cjojqj^jaj': 2, 'bv': 2, 'postalcod': 2, 'uh': 2, 'fff': 2, 'gqq': 2, '^sx': 2, 'iend': 2, 'appettit': 2, 'unsignific': 1, 'wrm': 1, 'efffect': 2, 'preceed': 3, 'hypokensi': 1, 'somebodi': 1, 'crazi': 2, 'singificantli': 1, 'schizoid': 1, 'bluish': 1, 'costovertebr': 2, 'propion': 4, 'indcat': 1, 'elvat': 2, 'lepirudin': 1, \"con'\": 1, 'ux': 2, 'dexonid': 1, 'lipirudin': 1, 'inceasingli': 1, 'chlorothizid': 1, 'atchi': 1, 'surgi': 1, 'doscomfort': 1, 'liberali': 1, 'clobetasol': 2, 'prohibit': 3, 'clenser': 1, 'overgrown': 1, 'fake': 1, 'schitzophrenia': 2, 'uneffect': 1, 'diliri': 1, 'amnioderon': 2, 'apici': 1, 'kinda': 1, 'genic': 1, 'therapeaut': 1, 'hypob': 1, 'sj': 1, 'selectivley': 1, 'bouuock': 1, 'conver': 1, 'lepiruden': 1, 'acount': 1, 'stmulat': 1, 'ckeck': 1, 'generali': 1, 'arthrosi': 1, 'bioten': 1, 'treatmetn': 1, 'occaasion': 1, 'mpb': 2, 'nondil': 3, 'barriercream': 1, 'echolalia': 1, 'alright': 1, 'afbril': 1, 'ttake': 1, 'cefep': 2, 'stade': 1, 'gaurdian': 2, 'te': 6, 'cardigen': 1, 'aibp': 1, 'deceras': 2, 'cardimyopathi': 1, 'guic': 2, 'haloldol': 1, 'mobitz': 3, 'absoprt': 1, 'olanzepin': 5, 'inco': 1, 'bivent': 1, 'fingernail': 2, 'depit': 1, 'doom': 1, 'pw': 2, 'ciprovloxacin': 1, 'pysch': 1, 'asssit': 1, 'iapb': 1, 'wick': 2, 'plaxiv': 1, 'compuress': 1, 'televis': 2, 'multipodo': 1, 'sheathless': 1, 'baloon': 2, 'abdomi': 1, 'palpab': 1, 'occaison': 1, 'coke': 3, 'intraaort': 1, 'pernium': 1, 'ivgtt': 1, 'vanilla': 2, 'fiberopt': 7, 'ele': 1, 'claw': 1, 'agrastat': 1, 'petichea': 1, '^lft': 1, 'harass': 1, 'favorit': 3, 'postplac': 1, 'uncomfor': 1, 'abou': 1, 'cardura': 1, 'actat': 1, 'guifenesin': 1, 'neutopenia': 2, 'transiaent': 1, 'withexert': 1, 'currnet': 1, 'aand': 1, 'worseningdyspnea': 1, 'moral': 1, 'bhad': 1, 'coomod': 1, 'nauseax': 1, 'coompazin': 1, 'desatto': 1, 'indep': 2, 'cooperatv': 1, 'hypoxicwith': 1, 'cintinnu': 1, 'accapella': 1, 'accapulla': 1, 'europ': 1, 'phelgm': 1, 'transhiat': 1, 'plagu': 2, 'inhous': 2, 'celebrex': 4, 'doxepin': 2, 'subsquent': 1, 'bronchopulm': 2, 'backpack': 1, 'invok': 4, 'pyloroplasti': 1, 'dysplasia': 3, 'herniorrohapi': 1, 'supplier': 1, 'sulcraf': 1, 'grandpar': 1, 'hiistori': 1, 'pericardiectomi': 2, 'pericardectomi': 2, 'spirocar': 2, 'sigific': 1, 'toridol': 1, 'hydo': 1, 'recievd': 2, 'dropelt': 1, 'desaturt': 1, 'tarnsfer': 1, 'miniaml': 1, 'presenetd': 1, 'crakl': 2, 'benaprotein': 1, 'approprietli': 1, 'sucction': 1, 'doent': 1, 'anarcarca': 1, 'speciamn': 1, 'anasacara': 1, 'positionsl': 1, 'sv': 5, 'qvar': 5, 'lotrimin': 2, 'aab': 1, 'handhold': 1, 'mickael': 1, 'intxoci': 1, 'rradial': 1, 'plase': 1, 'agitit': 1, 'broth': 2, 'laisx': 3, 'budd': 1, 'plead': 2, 'coarser': 1, 'synchronis': 1, 'chiari': 2, 'cirrhossi': 1, 'tonnic': 1, 'prothesi': 1, 'lbase': 1, 'pper': 1, 'bpg': 1, 'enterocolon': 1, 'downstair': 3, 'regrugit': 1, 'nonmobil': 1, 'reddenend': 1, 'roomat': 1, 'sycop': 1, 'polymyxin': 1, 'patellofemor': 5, 'lentiform': 2, 'lymphma': 1, 'nadir': 7, 'accomplish': 3, 'aneyrysm': 1, 'dissip': 2, 'lq': 1, 'metclopromoid': 1, 'hypdens': 2, 'nodosum': 1, 'methotrex': 4, 'multistep': 3, 'viridan': 4, 'gmpd': 2, 'hamstr': 2, 'haemodinam': 6, 'overaggress': 1, 'medaplex': 1, 'teritori': 1, 'nighttim': 3, 'alopecia': 2, 'tdt': 1, 'unnit': 1, 'avanti': 1, 'dlbcl': 1, 'resurfac': 1, 'aftert': 1, 'eshap': 1, 'surg': 1, 'hypdenisti': 1, 'ophth': 3, 'prednisolon': 3, 'retest': 1, 'haemodinamicalyy': 1, 'negoti': 4, 'feldberg': 2, 'neutropenia': 7, 'ebv': 6, 'gwlm': 7, 'midthigh': 1, 'merit': 1, 'fwd': 3, 'tra': 1, 'presyncop': 4, 'bcl': 1, 'immunoreact': 1, 'caridiolog': 1, 'pound': 6, 'interventricular': 1, 'typhil': 1, 'ovar': 1, 'wrinkl': 1, 'trachobronchomalacia': 2, 'undrer': 1, 'gleut': 1, 'grant': 2, 'amder': 1, 'tissur': 2, 'anthypertens': 1, 'resultur': 1, 'protcet': 1, 'limen': 1, 'conplet': 2, 'unitr': 1, 'titer': 5, 'deppest': 1, 'urv': 1, 'heatlh': 1, 'dehis': 1, 'employe': 4, 'pickwickian': 1, 'abbras': 1, 'conso': 1, 'penitr': 1, 'corpor': 1, 'infact': 3, 'cpa': 3, 'welfar': 1, 'job': 3, 'unemploy': 4, 'oopen': 1, 'pressuer': 1, 'valsatran': 1, 'prune': 1, 'phd': 7, 'cgi': 1, 'viz': 2, 'tiss': 1, 'vangin': 1, 'otn': 1, 'bovin': 3, 'eph': 3, 'nbrh': 1, 'quset': 1, 'sldo': 1, 'tolerac': 1, 'couch': 3, 'progrress': 1, 'maser': 1, 'edma': 1, 'doesnot': 2, 'sarosang': 1, 'spokeperson': 1, 'admittd': 2, 'effeort': 1, 'commcar': 1, 'biot': 1, 'bacterema': 1, 'su': 2, 'healthnet': 1, 'hydram': 2, 'var': 1, 'raglan': 4, 'fss': 5, 'poen': 1, 'menag': 1, 'aras': 1, 'synchronousl': 1, 'ror': 1, 'periwound': 1, 'trachh': 1, 'pannu': 4, 'midzon': 1, 'levopflox': 1, 'golytyl': 1, 'bicard': 1, 'otomastoid': 1, 'critcal': 1, 'mushrrom': 2, 'len': 3, 'onogo': 1, 'elder': 3, 'cftx': 3, 'birthdat': 1, 'wjm': 4, 'hematomoa': 1, 'fial': 1, 'trendin': 1, 'golytli': 1, 'egc': 1, 'extrav': 2, 'prominec': 1, 'creativ': 1, 'perfrom': 1, 'ple': 2, 'priro': 1, 'instersti': 1, 'intramuscular': 2, 'supervion': 1, 'troponinin': 1, 'blush': 1, 'vernight': 1, 'allianc': 1, 'jrci': 6, 'wxt': 1, 'intramedullari': 4, 'rnp': 1, 'llnezolid': 1, 'ransfus': 1, 'resper': 1, 'backward': 2, 'liquifi': 1, 'anc': 7, 'tre': 1, 'horrifi': 1, 'myopath': 1, 'circumfer': 1, 'hid': 2, 'pseudohypha': 3, 'acutli': 1, 'colonosocpi': 1, 'tubat': 1, 'ipmn': 1, 'rheumatolog': 4, 'vasculr': 1, 'differneti': 1, 'stenotrophoma': 1, 'xanthomona': 2, 'aean': 1, 'scanti': 1, 'stenotrophomana': 1, 'edenam': 1, 'maltophilia': 1, 'cloacea': 1, 'transaxi': 3, 'criticad': 4, 'pulmoanri': 1, 'cvvhf': 1, 'enterbact': 1, 'hemofiltr': 1, 'maltophila': 1, 'reuqir': 1, 'nicardipin': 2, 'bodyfrom': 1, 'neueo': 1, 'pian': 1, 'tranfert': 1, 'multilob': 2, 'hyperconcentr': 1, 'dificult': 1, 'cloaca': 2, 'amidoneron': 1, 'yeasterday': 1, 'enterobacteria': 1, 'disciplinari': 4, 'cvicu': 10, 'dysrhymia': 1, 'difinit': 1, 'piggi': 1, 'offf': 1, 'anytim': 4, '^l': 1, 'esophagram': 3, 'lig': 2, 'tertiari': 2, 'fugasl': 1, 'radiologu': 1, 'rpo': 1, 'esophg': 1, 'plaesent': 1, 'ijv': 4, 'immunodef': 1, 'eurcerin': 1, 'appleid': 1, 'pipricillin': 1, 'recuur': 1, 'schatzki': 1, 'eccchymot': 1, 'aferbil': 1, 'mulipl': 1, 'prejejunostomi': 1, \"she'\": 1, 'cannulu': 1, 'thrombot': 2, 'osteoperosi': 1, 'trak': 4, 'abnormalti': 1, 'njear': 1, 'rerurn': 1, 'preload': 6, 'malnourish': 11, 'parencyhm': 1, 'gastrectomi': 4, 'propohylaxi': 1, 'popul': 1, 'cachexia': 3, 'effer': 2, 'lmwh': 5, 'perll': 1, 'deteriori': 1, 'driver': 1, 'fin': 5, 'hemidia': 1, 'zetia': 3, 'spondylosi': 9, 'donepin': 1, 'phragm': 1, 'hemidiapragmat': 1, 'rhythn': 1, 'collap': 1, 'kci': 1, 'namenda': 4, 'carecu': 1, 'ariceot': 1, 'temt': 1, 'pottassiun': 1, 'immolilz': 1, 'physiptherapi': 1, 'quadtant': 1, 'trigli': 1, 'dependedt': 1, 'beaselin': 1, 'ldlcalc': 1, 'celecoxib': 1, 'metopr': 1, 'antix': 2, 'hemeparesi': 2, 'complexion': 2, 'hemorrhagica': 1, 'cef': 1, 'chondrocalcinosi': 1, 'conv': 1, 'pisotriquetr': 1, 'diltiezem': 2, 'homorrhag': 1, 'duilut': 2, 'chondrocalcif': 1, 'srtrting': 1, 'peron': 17, 'currant': 2, 'galactomannon': 1, 'neglect': 4, 'downgo': 5, 'pentopr': 1, 'transfom': 1, 'stt': 2, 'syp': 2, 'flaygli': 1, 'desatuturaion': 1, 'transfusuion': 1, 'yestday': 1, 'purposel': 1, 'pantopr': 1, 'sini': 1, 'nutrien': 1, 'duirng': 1, 'aaddit': 1, 'epidos': 1, 'tpmp': 1, 'acna': 1, 'fbr': 8, 'parvoviru': 1, 'phop': 1, 'normocellular': 1, 'immunoflouresc': 5, 'parainfluenza': 7, 'xopenox': 1, 'atovoquon': 1, 'pyridoxin': 1, 'muddi': 2, 'latent': 1, 'proteinuria': 4, 'filbril': 1, 'gn': 6, 'parahypotyriod': 1, 'antigranulocyt': 1, 'gof': 1, 'settin': 1, 'tiw': 2, 'tpmt': 1, 'jirovecii': 5, 'kalexal': 1, 'imuran': 2, 'granulocyt': 3, 'rpgn': 1, 'nephrot': 3, 'inpt': 3, 'flut': 10, 'virus': 5, 'rrv': 3, 'boxer': 2, 'paraflu': 2, 'fda': 2, 'apreci': 1, 'spu': 4, 'outlet': 3, 'creatitin': 2, 'glipizid': 8, 'aova': 6, 'rediscuss': 4, 'hypovelemia': 1, 'portegues': 1, 'actu': 3, 'accompain': 1, 'hypophosphemia': 1, 'zofram': 1, 'parameter': 1, 'trasit': 2, 'herat': 1, 'grma': 1, 'novent': 1, 'cang': 1, 'alleyn': 1, 'hover': 6, 'rto': 3, 'venetd': 1, 'necros': 1, 'ratedecreas': 1, 'allyven': 1, 'neurotropho': 1, 'drese': 1, 'deadspac': 2, 'healtyh': 1, 'anamia': 1, \"'want\": 1, 'electropyt': 1, 'bearhugg': 1, 'spontaneosli': 1, 'henatoma': 1, 'grovid': 1, 'transx': 1, 'increasinli': 2, 'autoamput': 1, 'pcpap': 1, 'reddden': 1, 'lisix': 1, 'sdedat': 1, 'potassim': 1, 'basck': 1, 'ocverag': 1, 'feww': 1, 'respondi': 1, '^^bp': 1, 'inconsisitanli': 1, 'significamt': 1, 'uuper': 1, 'ststolic': 1, 'diurs': 5, 'nephrostomi': 3, 'accet': 1, 'quinidin': 2, 'criticid': 1, 'accessari': 1, '^up': 1, 'watrer': 1, 'onscarum': 1, 'irig': 1, 'increaas': 1, 'prednisoln': 1, 'grap': 1, 'student': 8, 'normali': 1, 'blader': 1, 'overdiuresi': 2, 'noty': 1, 'correspod': 1, 'anattempt': 1, 'elaps': 1, 'stagnant': 1, 'coaxial': 1, 'arteriographi': 3, 'petrou': 2, 'cereb': 1, 'pedion': 1, 'aproach': 1, 'celer': 1, 'recannul': 1, 'thrombolysi': 1, 'merci': 1, 'supraclinoid': 2, 'terumo': 1, 'roadmap': 2, 'multilink': 1, 'voyag': 1, 'exuber': 1, 'hydrophil': 1, 'thrombectomi': 3, 'thromboembol': 8, 'carot': 1, 'oc': 2, 'inset': 2, 'excercis': 3, 'djrc': 1, 'floven': 1, 'micronas': 1, 'dementiacopd': 1, 'withhold': 5, 'acetabulem': 1, 'persever': 5, 'radi': 1, 'paracentr': 2, 'dlnc': 6, 'dimension': 2, 'ankylosi': 1, 'cohes': 3, 'lyrica': 9, 'darcoidosi': 1, 'budesonid': 2, 'tendin': 2, 'boniva': 2, 'supratherapeuti': 1, 'bioavr': 1, 'darvocet': 1, 'prodrom': 6, 'charger': 2, 'mania': 1, 'pregabilin': 1, 'snbp': 1, 'prd': 1, 'trigemini': 1, 'dilitazem': 1, 'mardarin': 1, 'pt\\x13': 1, 'blanchabl': 4, 'epigloti': 1, 'emphasema': 1, 'rrana': 1, 'abdomon': 1, 'puesdomona': 1, 'pneumohemothorax': 1, 'diaphys': 1, 'pedestrian': 1, 'cerivc': 1, 'scene': 2, 'aquecel': 1, 'vincent': 1, 'polytrauma': 1, 'intratrach': 2, 'dsgauz': 1, 'den': 1, 'minivan': 1, 'freighten': 1, 'starv': 1, 'parkview': 1, 'struck': 3, 'occiput': 1, 'dailli': 2, 'hemicolectomi': 2, 'retrocrur': 3, 'reanastomosi': 1, 'dilaut': 1, 'extreiti': 2, 'headed': 3, 'modr': 1, 'asplen': 1, 'staf': 3, 'fhold': 1, 'subren': 2, 'lympadenopathi': 2, 'shfd': 5, 'ipra': 2, 'itp': 1, 'areat': 1, 'consum': 1, 'smallest': 2, 'hpylori': 1, 'dbc': 4, 'hyperexpand': 6, 'quiescent': 2, 'regener': 1, 'regen': 1, 'hemorhag': 1, 'abuterol': 1, 'zentker': 1, 'enker': 1, 'carpometacarp': 1, 'parieto': 2, 'corrobor': 4, 'tacchycardia': 1, 'tacchi': 1, 'pancytopen': 3, 'erythematosu': 2, 'birth': 1, 'flax': 1, 'herbal': 1, 'seros': 1, 'leukopenica': 1, 'cardiomeg': 5, 'glucosamin': 1, 'unemp': 1, 'amenorrhea': 1, 'spleenomegali': 2, 'tampanad': 1, 'dna': 2, 'hemotolgi': 1, 'complement': 2, 'tamponand': 1, 'hrmodynam': 2, 'queation': 1, 'casperfungin': 1, 'nasalpharyng': 1, 'emper': 3, 'genta': 3, 'allyvyn': 1, 'ercent': 1, 'diminh': 1, 'caspfungin': 1, 'caspofungen': 1, 'drainm': 1, 'akin': 1, 'merepenen': 1, 'benopro': 1, 'pleual': 1, 'endothorac': 1, 'extans': 1, 'positioin': 1, 'ulser': 1, 'flexas': 2, 'absess': 1, 'squeev': 1, 'caller': 1, \"req'\": 2, 'mlsof': 1, 'proppofol': 2, '^^wob': 2, \"abg'\": 2, 'acetalazolamid': 1, 'lug': 1, 'ssoft': 1, 'fenta': 2, 'movabl': 2, 'candidemia': 1, 'fungmia': 1, 'rhochoru': 1, 'stonger': 1, 'exrcis': 1, 'prision': 1, 'luquid': 1, 'squeek': 1, 'mnoc': 1, 'sorb': 2, 'streph': 1, 'canulla': 1, 'meropenam': 3, 'oprer': 1, 'sampp': 1, 'contiunu': 1, 'replacinf': 1, 'compair': 1, 'weakn': 1, 'benifib': 1, 'constrast': 1, 'gol': 1, 'thio': 1, 'swalow': 1, 'peat': 2, 'oos': 1, 'bacteriamia': 1, 'dysnea': 1, 'cirrosi': 1, 'atriocav': 1, 'jaudic': 1, 'beliv': 2, 'aersol': 3, 'ield': 1, 'delemia': 1, 'shr': 1, 'poa': 6, 'cocciin': 1, 'nonrebrath': 1, 'visistor': 1, 'upperextrem': 1, 'stil': 3, 'throath': 1, 'maaintain': 1, 'mnonitor': 1, 'meropemen': 1, 'myulti': 1, 'midli': 4, 'intaubt': 2, 'superimposit': 2, 'picclin': 1, 'carv': 1, 'respnd': 1, 'peptic': 5, 'diatstol': 1, 'wheterh': 1, 'kayexalaet': 1, 'mole': 1, 'compes': 1, 'repletiion': 1, 'applesuac': 1, 'claustrophobia': 2, 'antiarrythm': 3, 'iconsolid': 1, 'auscultaton': 1, 'orienetd': 1, 'carbohydr': 5, 'levofloxaciin': 2, 'levalbuterol': 2, 'puttin': 1, 'nsrvt': 1, 'procuct': 1, 'tachyarrythmia': 1, 'toothett': 3, 'lef': 1, 'compasin': 1, 'cml': 3, 'txed': 1, 'montiro': 1, 'hypotenion': 1, 'extracrani': 4, 'disodium': 1, 'empriic': 1, 'mirtazipin': 1, 'autoreg': 1, 'att': 2, 'gretar': 1, 'hide': 4, 'hypoporfus': 1, 'possibel': 2, 'clturesd': 1, 'pamidron': 4, 'neuo': 1, 'patientcodein': 2, 'orreg': 2, 'caroti': 1, 'falx': 1, 'smolder': 1, 'yesterdya': 1, 'abnml': 2, 'meme': 1, 'impaiir': 1, 'functio': 1, 'longitudin': 4, 'coclostomi': 1, 'ectpi': 1, 'colr': 2, 'ptot': 1, 'amopunt': 1, 'sytolilc': 1, 'exhbit': 1, 'penumonectomi': 1, 'abal': 1, 'reolv': 1, 'flutterto': 1, 'presusr': 1, 'admsion': 1, 'robitiussin': 1, 'phenylepherin': 1, 'spprimari': 1, 'aysmptomat': 1, 'fluorinef': 1, 'eventaulli': 1, 'resucuit': 1, 'fremitu': 3, 'egophoni': 7, 'mnth': 1, 'preacher': 1, 'spondylolisthesi': 1, 'lma': 2, 'statiu': 1, 'penial': 1, 'prepsep': 1, 'perph': 1, 'fussi': 1, 'seedi': 1, 'linearli': 1, 'humifi': 1, 'please': 1, 'scotal': 1, 'earil': 1, 'atelectati': 1, 'hemodynamioc': 1, 'propofl': 2, 'epap': 2, 'rgm': 2, 'thiothixen': 1, 'clozapin': 3, 'leguionella': 1, 'midst': 2, 'doen': 1, 'phychiatr': 1, 'insignific': 4, 'combineb': 1, 'classifi': 3, 'rotari': 1, 'unpredict': 1, 'ambiem': 1, 'uag': 2, 'detrol': 1, 'pgi': 6, 'ocd': 3, 'appropiatelt': 1, 'schizo': 2, 'ipap': 2, 'propofopl': 1, 'infilter': 4, 'thymic': 1, 'shore': 3, 'bcoz': 2, 'hifi': 1, 'exaccerb': 2, 'repositio': 2, 'dishcarg': 1, 'ranbl': 1, 'hha': 2, 'pboot': 2, 'emtoin': 1, 'tlow': 1, 'ctsx': 1, 'comnfort': 1, 'aparatu': 1, 'tubs': 1, 'deverfesc': 1, 'hsift': 1, 'ddri': 1, 'intermittenlti': 1, 'recuper': 1, 'thoarcic': 1, 'undrain': 1, 'tomographi': 6, 'calicum': 2, 'careveiw': 1, 'aggitit': 1, 'suppres': 2, 'thorcotomi': 1, 'phigh': 1, 'apicolater': 1, 'bronchscopi': 2, 'lesi': 1, 'dresss': 1, 'aprv': 2, 'amdinist': 1, 'regimn': 2, 'mrone': 1, 'anteroposteriorli': 1, 'portoven': 1, 'plow': 1, 'eahn': 2, 'ehad': 2, 'replar': 1, 'shsf': 8, 'interfac': 2, 'sgnific': 1, 'network': 1, 'rapi': 1, 'dopper': 2, 'deformati': 1, 'scane': 1, 'criti': 1, 'rextub': 1, 'balx': 1, 'dischang': 1, 'aqaugel': 1, 'stringi': 2, 'rheumatiod': 1, 'curabl': 1, 'abdomino': 1, 'miscel': 2, 'suppment': 1, 'mucocys': 1, 'bllod': 3, 'tohold': 1, 'asv': 1, 'conflict': 7, 'treamtnet': 1, 'palliat': 3, 'diltiazim': 1, 'undifferenti': 1, 'cremat': 1, 'cefepema': 1, 'extensis': 1, 'decb': 1, 'peritransf': 1, 'ivss': 1, 'leukopen': 2, 'xtr': 1, 'exppiraotri': 1, 'dures': 2, 'neuroendocrin': 3, 'iregularli': 1, 'prommin': 1, 'hsopic': 1, 'afibwith': 1, 'arranegemnt': 1, 'checmotherapi': 1, 'zosi': 1, 'tumeo': 1, 'tumour': 3, 'nuetropen': 1, 'realtiv': 2, 'buri': 2, 'feautr': 1, 'anticpagul': 1, 'srranegemnt': 1, 'worsend': 1, 'paraneoplast': 1, 'metast': 2, 'liekli': 4, 'speed': 3, 'restar': 2, 'intrabronchi': 1, 'applicat': 1, 'contoinu': 1, 'finsih': 1, 'checmo': 1, 'bisphosphon': 1, 'fna': 1, 'extuab': 2, 'referrs': 1, 'famiili': 1, 'patienttetracyclin': 1, 'lyphadenopathi': 2, 'ainstem': 1, 'carbotaxel': 1, 'proclhorperazin': 1, 'feasibili': 1, 'fibrill': 1, 'ocurs': 1, 'rlung': 1, 'hex': 2, 'taxel': 1, 'halloween': 1, 'militari': 2, 'futurw': 1, 'unprofession': 1, 'asx': 3, 'asymetri': 3, 'filgastrin': 1, 'methyprednisolon': 2, 'thoruhgout': 1, 'shge': 1, 'sast': 3, 'preasur': 1, 'evar': 1, 'periaort': 2, 'ower': 1, 'junctiion': 1, 'multichamb': 1, 'tmin': 1, 'endograft': 1, 'cliber': 1, 'unremak': 1, 'thrughout': 1, 'morphon': 2, 'hyperoximia': 1, 'endoleak': 1, 'monitro': 1, 'bec': 1, 'pacut': 1, 'nauseua': 1, 'imorov': 1, 'aortoenter': 1, 'pivott': 1, 'aorto': 1, 'hyperattenu': 2, 'discussiion': 1, 'galbladd': 2, 'possbl': 2, 'aortobifem': 1, 'fowler': 4, 'loressor': 1, 'bedroom': 2, 'actuallli': 2, 'nnote': 1, 'innappropi': 1, 'argument': 5, 'abe': 1, 'occasioanl': 1, 'coasr': 1, 'basellin': 1, 'awawk': 1, 'inatct': 1, 'andf': 2, 'inittiali': 1, 'czrevu': 1, 'oreient': 1, 'mre': 1, 'intregr': 1, 'yancher': 1, 'resposn': 1, 'seadtion': 1, 'posv': 1, 'rerestrain': 1, 'demostr': 1, 'ned': 1, 'thicwhit': 1, 'retraint': 1, 'glassi': 1, 'ceftraixon': 3, 'beclov': 1, 'humidi': 1, 'azitroamycin': 1, 'indentif': 1, 'aztreom': 1, 'nidepin': 1, 'pantamidin': 1, 'nifidipin': 1, 'intunb': 1, 'keratio': 1, 'lactulous': 2, 'requist': 1, 'ffm': 1, 'desatru': 1, 'exsufl': 2, 'squees': 1, 'diast': 3, 'vascath': 1, 'inertact': 1, 'withperf': 1, 'denei': 1, 'culltur': 3, 'regurgitatiaon': 1, 'duod': 1, 'overcom': 1, 'hrrr': 1, 'jewleri': 1, 'cvo': 2, 'lvedv': 1, 'bpsyst': 1, 'ogilivi': 1, 'thermoregul': 1, 'vasodil': 8, 'guillan': 2, 'syphili': 2, 'fremetu': 1, 'seroneg': 2, 'drymm': 1, 'concerv': 1, 'ymf': 7, 'coccyg': 4, 'yankaw': 2, 'meat': 3, 'preventit': 1, 'megac': 2, 'mdp': 3, 'mci': 6, 'radiopharmaceut': 6, 'obstr': 1, 'djrx': 1, 'gemcitabin': 2, 'bronchosopi': 1, 'pemetrex': 2, 'whiteout': 7, 'infl': 1, 'jerki': 1, 'chonic': 2, 'pscyh': 1, 'unhook': 1, 'jvg': 5, 'osteodystrophi': 2, 'warrent': 2, 'serequil': 2, 'consisitenetli': 1, 'coamnd': 1, 'cetriaxon': 4, 'repoet': 1, 'placc': 1, 'thenpt': 1, 'levofloxacillin': 2, 'menatl': 1, 'diffucalti': 1, 'desptit': 1, 'stubborn': 1, 'guiafenisin': 1, 'antihistamin': 1, 'halsol': 1, 'repitit': 1, 'arthoplasti': 1, 'adit': 1, 'atrail': 1, 'disychron': 1, 'ajdunct': 1, 'strenal': 1, 'avaial': 1, 'radiopac': 3, 'adequit': 1, 'pertussin': 1, 'concens': 1, 'fortun': 3, 'prvc': 8, 'disynchroni': 1, 'azithrmycin': 1, 'radioopac': 1, 'dysynchronon': 1, 'trydin': 1, 'unstimul': 3, 'shfit': 1, 'indomethecin': 1, 'prehypertens': 1, 'aib': 1, 'item': 6, 'simplifi': 1, 'agrees': 1, 'dimisnih': 1, 'primarli': 1, 'behalf': 5, 'conest': 2, \"'and\": 1, 'oncom': 2, \"does'nt\": 2, 'neutropnia': 1, 'inlcud': 1, 'lso': 1, 'sotolol': 1, 'relatuv': 1, 'vva': 1, 'nsclung': 1, 'atrient': 1, 'tachpneiuc': 1, 'nac': 5, 'veru': 1, 'serevet': 1, 'pilonid': 2, 'pneumoia': 2, 'paprecita': 1, 'apar': 1, 'restor': 5, 'admx': 1, 'epmpyema': 1, 'accompan': 1, 'drawal': 1, 'nam': 2, 'sscp': 2, 'hame': 1, 'ehtic': 1, 'gangrren': 1, 'vicu': 1, 'vsicu': 1, 'spftsorb': 1, 'hemdynam': 2, 'neosyenphrin': 1, 'kinnaer': 1, 'amongst': 2, 'diarhea': 1, 'auacel': 1, 'usu': 1, 'toleer': 1, 'dcoper': 1, 'downslop': 4, 'toletr': 1, 'pericariectomi': 1, 'ssinsulin': 1, 'metopropolol': 1, 'rythem': 2, 'feelow': 1, 'ahpb': 1, 'pal': 2, 'givrn': 1, 'respones': 1, 'turniong': 1, 'bretah': 1, 'amniodaron': 1, 'ogtub': 1, 'supertherapeut': 3, 'corticosteroid': 5, 'stablizi': 1, 'quid': 1, 'affes': 1, 'mastectomi': 2, 'folri': 1, 'overdr': 1, 'wdwn': 2, 'unlikley': 2, 'neurosarcoid': 2, 'neurosarcoidosi': 2, 'startedprednison': 1, 'hyst': 1, 'broader': 4, 'likey': 4, 'possit': 1, 'wallker': 1, 'urnin': 1, 'obe': 1, 'withu': 1, 'odererd': 1, 'didnot': 1, 'punch': 2, 'nonformulari': 1, 'pseudamon': 1, 'eccyhmosi': 1, 'jeviti': 3, 'cfl': 1, 'antipsychot': 6, '^tth': 1, 'risperd': 5, 'showel': 1, 'ret': 1, 'lisnopril': 1, 'carbepenem': 1, 'reanal': 1, 'albutero': 1, 'hypoglyceamia': 1, 'uncl': 2, 'hyperchlorem': 5, 'cardioprotect': 1, 'orthoponea': 1, 'pseudoma': 1, 'gangcyclovir': 1, 'aeurginosa': 1, 'hbg': 2, 'tidac': 1, 'novolog': 2, 'cilastatin': 2, 'viremia': 1, 'spl': 1, 'preround': 2, 'diltiazam': 2, 'medivion': 1, 'stength': 1, 'clincial': 3, 'edam': 1, 'azb': 2, 'biacodyl': 1, 'ssment': 1, 'susbequ': 1, 'exo': 1, 'dound': 1, 'cntinu': 1, 'asthama': 1, 'cog': 1, 'diaylsi': 1, 'trendingdong': 1, 'pseud': 1, 'csa': 1, 'qb': 1, 'convertig': 1, 'transplat': 1, 'diltazam': 1, 'incontinen': 1, 'aureginosa': 1, 'recreas': 1, 'esomeprazol': 1, 'incorpor': 1, 'hemodialyiisi': 1, 'hdfor': 1, 'pansensit': 3, 'tbg': 1, 'suctionedfor': 1, 'antipseudomon': 1, 'protugues': 1, 'rechck': 1, 'ngsf': 2, 'distresss': 1, 'judg': 1, 'wrespiratori': 1, 'wp': 1, 'tuptak': 1, 'quinolon': 6, 'calctbg': 1, 'humalin': 1, 'correlatingpt': 1, 'portuges': 4, 'vpice': 1, 'pneumnonia': 2, 'pseudomna': 1, 'tryin': 1, 'tachypneak': 1, 'jjf': 1, 'dysynch': 1, 'mannag': 2, 'ciontinu': 1, 'cnsd': 2, 'trabnsient': 1, 'guestur': 1, 'tunnl': 1, 'noncuf': 1, 'fise': 1, 'overdialyz': 1, 'inspitori': 1, 'pseudocholinesteras': 1, 'humullin': 1, 'daylight': 1, 'hypophosphatemia': 5, 'hypercholesterol': 1, 'endocrinolog': 1, 'trsat': 1, 'sbplow': 1, 'unph': 1, 'hyperlipidema': 2, 'tft': 4, 'ditiazem': 2, 'effecti': 1, 'systoc': 1, 'transufs': 1, 'justifi': 2, 'epoeitin': 1, 'hemodialyz': 1, 'finsulin': 1, 'sensitivi': 7, 'priscrib': 1, 'hitt': 1, 'susbequet': 1, 'fondapar': 1, 'mailto': 3, 'birder': 1, 'aureou': 1, 'twf': 3, 'minocyclin': 1, 'staphaur': 1, 'pannicul': 1, 'fati': 1, 'diphenhydramin': 3, 'demonstrate': 1, 'sigmoidectomi': 1, 'exlap': 2, 'turbid': 3, 'baium': 1, 'omentum': 3, 'collectino': 1, 'exploratori': 2, 'trajectori': 1, 'duo': 2, 'anastomot': 1, 'wounc': 1, 'peritin': 1, 'appendic': 1, 'mixtur': 2, 'viscu': 1, 'plactment': 3, 'peach': 1, 'trasnfger': 1, 'macrophag': 1, 'motnh': 1, 'diluadid': 2, 'expedit': 2, 'pregnant': 3, 'biospi': 4, 'neumon': 1, 'hypereosinophil': 1, 'progressov': 1, 'hp': 2, 'dysonea': 2, 'tbbx': 2, 'knowd': 1, 'infiltar': 1, 'worsten': 3, 'abnom': 2, 'transpulmon': 1, 'dermatomyos': 1, 'insomia': 1, 'odl': 1, 'hme': 2, 'boipsi': 1, 'recusit': 1, 'vector': 1, 'hhv': 2, 'hypoalbuminem': 1, 'abdnorm': 1, 'hereditari': 1, 'otoxoc': 1, 'mutat': 2, 'leptospirosi': 1, 'pantoprozol': 2, 'vdrl': 1, 'erlichiosi': 1, 'syphilli': 1, 'pulsesl': 1, 'pivet': 1, 'lymphocyctosi': 1, 'thrombotytopenia': 1, 'multisystem': 1, 'lyme': 1, 'electrophoresi': 1, 'ondansetrol': 1, 'demyelin': 3, 'lymphocytosi': 2, 'igm': 5, 'hemolys': 2, 'gdextros': 1, 'ttg': 1, 'aliment': 1, 'ration': 2, 'ceruloplasmin': 1, 'whichev': 1, 'lymphomcyt': 1, 'hemochromatosi': 2, 'hyptotens': 1, 'unrel': 6, 'hhc': 1, 'ehrlichia': 3, 'bcse': 1, 'cytometri': 2, 'gaa': 1, 'noncardiogen': 2, 'leptospira': 1, 'enceph': 7, 'pcr': 10, 'rodent': 1, 'mice': 1, 'effis': 1, 'elus': 2, 'sjogren': 1, 'contibut': 2, 'ippv': 2, 'sprue': 1, 'thrirsti': 1, 'lympanopathi': 1, 'visi': 1, 'hav': 2, 'lymphocytochoriomening': 1, 'choriomening': 1, 'ehrilichia': 1, 'spirochet': 1, 'hanta': 2, 'tna': 1, 'galactomann': 1, 'asterix': 1, 'vzv': 2, 'priorit': 1, 'histoplasma': 3, 'bilarer': 1, 'ascet': 3, 'lethospirosi': 1, 'abid': 2, 'abnormail': 1, 'leptomening': 7, 'vhhc': 1, 'behcet': 1, 'varicella': 3, 'monocyt': 1, 'ivsion': 1, 'multiorgan': 3, 'tbna': 1, 'bedsi': 1, 'arboviru': 1, 'restricion': 1, 'entak': 1, 'cound': 1, 'hlh': 1, 'noninfecti': 5, 'asterixisi': 1, 'postinflammatori': 1, 'colorless': 1, 'treponem': 1, 'umbrella': 2, 'cecal': 3, 'ureterovesicular': 1, 'cecu': 1, 'loom': 1, 'ogilvi': 3, 'ehospit': 1, 'palabl': 1, 'tracheiti': 2, 'unsupport': 5, 'radail': 1, 'mididrin': 1, 'withouth': 1, 'levadopa': 2, 'rtrad': 1, 'doa': 1, 'thorough': 1, 'imper': 1, 'pilot': 1, 'predniselon': 1, 'candidia': 1, 'distraught': 2, 'frequantli': 1, 'fopr': 1, 'iavb': 1, 'perspir': 1, 'dimminish': 1, 'rhd': 3, 'percodan': 2, 'asacol': 2, 'nwb': 1, 'ccon': 1, 'tranx': 4, 'furthur': 2, 'receiven': 1, 'pinki': 1, 'withsob': 1, 'cought': 2, 'tachicard': 1, 'coolneb': 1, 'effcet': 1, 'atroven': 2, 'xxx': 4, 'refkect': 1, 'melenoma': 1, 'elavil': 1, 'amytriptylin': 1, 'glyberid': 1, 'glyburid': 4, 'titrabl': 1, 'bst': 1, 'onoclogist': 1, 'hoem': 1, 'ocver': 1, 'iiic': 1, 'stanidng': 1, 'compel': 3, 'jplace': 1, 'ifn': 2, 'suboptimalwil': 1, 'titanium': 1, 'unkink': 1, 'arthroma': 1, 'fn': 8, 'affabl': 1, 'azipthromycin': 1, 'hypothyr': 1, 'lvf': 2, 'hosoit': 1, 'lpuls': 1, 'cchang': 1, 'aroun': 1, 'coccyn': 1, 'shiftmetabol': 1, 'faairli': 1, 'lith': 1, 'alum': 1, 'haspain': 1, 'clariti': 1, 'irrigant': 1, 'palit': 1, 'proedur': 1, 'amll': 1, 'percoet': 1, 'fidget': 1, 'uper': 1, 'irrrig': 1, 'trolard': 1, 'holdup': 1, 'adenomatoid': 1, 'stomat': 1, 'pachi': 1, 'bactreial': 1, 'periradicular': 1, 'vertebrobasilar': 1, 'adduct': 3, 'impar': 1, 'osteomyl': 2, 'oe': 1, 'nslc': 1, 'knife': 1, 'senc': 2, 'appolog': 1, 'acutelyworsen': 1, 'dissatisfi': 1, 'fiduci': 2, 'pneuomothorax': 1, 'hypocholesterolemia': 1, 'bonchovascular': 1, 'misdirect': 1, 'interpos': 1, 'lockout': 1, 'pleurovac': 1, 'psox': 1, 'rescan': 2, 'polymyalgia': 1, 'wate': 1, 'kyphoscoliosi': 4, 'glycerid': 1, 'tkr': 7, 'osteotomi': 1, 'hell': 2, 'cymbalta': 6, 'categori': 2, 'pleaural': 2, 'shatter': 1, 'carckl': 1, 'bale': 2, 'hurri': 1, 'toom': 1, 'cholecyctilit': 1, 'perhr': 1, 'mrge': 2, 'tubef': 1, 'descib': 2, 'strait': 1, 'dopain': 1, 'duoern': 1, 'warfain': 1, 'viabil': 2, 'wafe': 1, 'mvoe': 1, 'poosibl': 1, 'cantanker': 1, 'danglig': 1, 'dopaim': 1, 'giuac': 1, 'pleuural': 1, 'kayaxol': 1, 'occassionali': 2, 'lone': 2, 'dobutamon': 1, 'thallium': 2, 'zyprexin': 1, 'patter': 1, 'cholinerg': 1, 'oink': 1, 'herapin': 1, 'doputamin': 1, 'comtinu': 2, 'simmilar': 1, 'deoderm': 1, 'histamin': 2, 'verab': 1, 'sagit': 1, 'bifasicular': 1, 'urban': 1, 'eveid': 2, 'spat': 1, 'valproic': 4, 'prohress': 1, 'acetabular': 4, 'ambigu': 1, 'cct': 4, 'hypexia': 1, 'brachioradiali': 1, 'adequatli': 1, 'antiplatelet': 3, 'paresi': 3, 'survey': 1, 'upgaz': 1, 'decrement': 2, 'myoglobinuria': 1, 'ectasia': 5, 'restarint': 1, 'claustrophob': 3, 'rightsid': 1, 'coopar': 1, 'asever': 1, 'iubprofen': 1, 'exersis': 1, 'medaistin': 1, 'radiculopathi': 2, 'sttempt': 1, 'scca': 2, 'submucos': 1, 'underlyinig': 1, 'dariculopahti': 1, 'dmultipl': 1, 'sttemp': 1, 'bedlin': 1, 'unmet': 1, 'reccomedn': 1, 'bpap': 2, 'omem': 1, 'strido': 1, 'scc': 8, 'radiculopahti': 1, 'nirs': 1, 'ashen': 2, 'negaitv': 2, 'industri': 1, 'flag': 1, 'metopralol': 1, 'radioluc': 3, 'attg': 6, 'emaci': 2, 'nonradiopaqu': 1, 'cea': 4, 'chk': 1, 'premorbid': 1, 'ureteroscopi': 2, 'surger': 1, 'anastamosi': 2, 'azithrimycin': 1, 'chect': 1, 'lavo': 1, 'steatohepat': 1, 'lsb': 2, 'reportedthat': 1, 'qmonday': 1, 'clopidogrel': 4, 'alp': 2, 'appropx': 1, 'reck': 1, 'downto': 1, 'altaplas': 1, 'adminsit': 1, 'indict': 2, 'pss': 1, 'heati': 1, 'elevaet': 1, 'hydrea': 1, 'hydroxyurea': 3, 'opaciti': 1, 'geriatrician': 1, 'calledto': 1, 'infeciton': 1, 'mpsc': 1, 'bldg': 1, 'povh': 1, 'tridyn': 1, 'vietnames': 1, 'hydorcortison': 1, 'edmat': 1, 'mushroon': 2, 'ceftazin': 1, 'prevou': 2, 'wsd': 1, 'dssd': 3, 'mkore': 1, 'phoin': 1, 'erd': 1, 'extubt': 3, 'mimim': 1, 'appropropri': 1, 'astreonam': 1, \"day'\": 1, 'hypomagnisemia': 1, 'fup': 2, 'vareniclin': 1, 'constent': 1, 'viocodin': 1, 'lymp': 1, 'ncslc': 1, 'dicc': 1, 'dehydratioin': 1, 'chantix': 1, 'vocabulari': 1, 'considert': 1, 'hk': 5, 'cuad': 1, 'liuqid': 1, 'besyl': 2, 'polymicrobi': 7, 'eustachian': 3, 'proceur': 1, 'corda': 1, 'posterioli': 1, 'tendini': 1, 'verbiag': 1, 'valuium': 1, \"'a\": 1, 'hemidiaphrapm': 1, 'aksb': 2, 'shelik': 1, 'signfici': 4, 'kaopect': 1, 'subsalicyl': 1, 'totprot': 1, 'meningism': 1, 'hrct': 4, 'banalc': 1, 'cholest': 2, 'tread': 1, 'pendi': 1, 'bismuth': 1, 'midclavicl': 1, 'pizza': 1, 'psuedomon': 1, '^d': 1, 'arso': 1, \"cx'\": 2, 'albutreol': 1, 'prgress': 1, 'cepefim': 1, 'insmal': 1, 'producitv': 1, 'hypernatrium': 1, 'unablet': 1, 'fuid': 1, 'invest': 1, 'superviss': 1, 'satisafctori': 1, 'hydralyzin': 1, 'posiibl': 1, 'amont': 1, 'scelera': 1, 'adust': 1, 'vigilantli': 2, 'microdata': 2, 'transpulmonari': 2, 'todat': 2, 'rear': 1, 'procudur': 1, 'cuvrv': 1, 'graphic': 1, 'weaend': 1, 'verbalis': 1, 'freuqent': 1, 'cholecyt': 1, 'prc': 2, 'nonadher': 1, 'subclavi': 1, 'favour': 1, 'qti': 1, 'laast': 1, 'soudn': 1, 'ont': 1, 'legionnair': 3, 'endocardit': 1, 'pase': 1, 'verb': 1, 'legionna': 1, 'recept': 2, 'mting': 1, 'ectopt': 1, 'lrage': 1, 'cryo': 1, 'hist': 1, 'moniotor': 1, 'interpert': 1, 'rlc': 1, 'clobestol': 1, 'condidt': 1, 'toil': 1, 'recv': 1, 'occul': 1, 'schizoprenia': 1, 'panu': 2, 'ptr': 1, 'depo': 1, 'twelv': 1, 'assault': 3, 'sequent': 1, 'availi': 1, 'baratr': 1, 'precauion': 1, 'betamethason': 2, 'dyne': 2, 'pychiatr': 1, 'antcip': 1, 'clobestsol': 1, 'pfr': 2, 'femerol': 1, 'peeep': 1, 'maintaint': 1, 'choleysist': 1, 'movem': 1, 'reposons': 1, 'erythremat': 1, 'effctiv': 1, 'comppens': 1, 'wain': 1, 'surprizingli': 1, 'abnormalitiy': 1, 'liner': 2, 'riclast': 1, 'ibandron': 2, 'empric': 2, 'bonchiti': 1, 'ridden': 1, 'mie': 3, 'lmidron': 1, 'convalesc': 1, 'colum': 2, 'clinici': 1, 'nocuturn': 1, 'intetmitt': 1, 'orlb': 1, 'andm': 1, 'incenitv': 1, 'delec': 1, 'hypenatremia': 1, 'pecocet': 1, 'sclqae': 1, 'persev': 3, 'gentlr': 1, 'legnionella': 1, 'rhochi': 1, 'aspiraiton': 1, 'shit': 1, 'morphic': 1, 'pneuomonia': 2, 'monomorph': 2, 'laryhg': 1, 'larang': 1, 'visitng': 1, \"'snsr\": 1, 'stomcach': 1, 'serivc': 1, 'atart': 1, 'reconsclip': 2, 'especilli': 1, 'nusr': 1, 'plugg': 1, 'resucit': 2, 'intiti': 4, 'suciotn': 1, 'hemodynamicli': 2, 'mucomist': 3, 'poulmonari': 1, 'cul': 1, 'asb': 1, 'nmb': 1, 'mulitlobular': 1, 'retroperitonael': 1, 'catopril': 1, 'nremain': 1, 'intraprocedur': 2, 'infectin': 1, 'obatin': 1, 'akinwat': 1, 'cpcp': 2, 'outwardli': 1, \"tf'\": 2, 'completli': 1, 'famli': 1, 'sucraf': 1, 'dipp': 1, 'callou': 1, 'fluticasin': 1, 'hopsit': 2, 'vytorin': 1, 'endometri': 2, 'hyperplast': 3, 'choleycystectomi': 1, 'xri': 1, 'boil': 1, 'hydrobromid': 3, 'malabsorpt': 1, 'grandmoth': 2, 'bailar': 1, 'clarithromycin': 2, 'tylenolol': 2, 'nasonex': 1, 'phenobarb': 3, 'adj': 3, 'hepaticojejunostomi': 1, 'cwia': 1, 'condsid': 1, 'cefepem': 2, 'stoneman': 1, 'readd': 1, 'myelosupress': 1, 'pellucidum': 2, 'outburst': 2, 'myocardia': 2, 'pjp': 5, 'neutrapen': 1, 'schf': 3, 'orthodrom': 1, 'childdren': 1, 'cortstim': 3, 'dexmedetomidin': 3, 'fece': 7, 'string': 1, 'jhere': 1, 'vpa': 2, 'etiomad': 1, 'accordigli': 1, 'eia': 5, 'acidoci': 1, 'hazzi': 1, 'angiotensin': 1, 'bradypnea': 1, 'pentoxifyllin': 1, 'chaplain': 2, 'bbker': 1, 'ohter': 1, 'antagonist': 2, 'myelofibrosi': 1, 'danazol': 1, 'fmask': 1, 'surrog': 1, 'dopplear': 1, 'intron': 1, 'hypothryroid': 1, 'eminclud': 1, 'vibrio': 1, 'cultru': 1, 'hydroxylurea': 1, 'pentoxyfillin': 1, 'glucont': 1, 'coagulapath': 1, 'alkelem': 1, 'ish': 2, 'yersinia': 1, 'neuromusc': 2, 'bioavailibilti': 1, 'campylobact': 2, 'euthyroid': 1, 'hematologist': 1, 'congeat': 1, 'lllpna': 1, 'sriel': 1, 'draiin': 1, 'fley': 1, 'serel': 1, 'regurgittaion': 1, 'prethicken': 4, 'diffrenc': 1, 'cmii': 1, 'ivh': 2, 'bradicard': 1, 'ong': 1, 'pyrimethamin': 1, 'hmo': 1, 'precuss': 1, 'radiocontrast': 1, 'mpression': 2, 'ritonovir': 2, 'popular': 3, 'apnpr': 1, 'microbi': 1, 'scew': 1, 'reyetaz': 1, 'assista': 1, 'phlebotom': 1, 'unprompt': 1, 'diari': 2, 'entens': 1, 'dexemethason': 1, 'unsatisfi': 1, 'tynelol': 1, 'contempl': 2, 'macrocyt': 3, 'stagnat': 1, 'surviv': 3, 'trippl': 3, 'unasses': 1, 'reconstitut': 4, 'decompos': 1, 'chlor': 1, 'consost': 1, 'washcloth': 1, 'botain': 1, 'defend': 3, 'manomet': 2, 'gre': 2, 'purchas': 1, 'microorg': 3, 'xigri': 1, 'acrocyanosi': 1, 'rdia': 1, 'shink': 1, 'vestibular': 2, 'perimesencephal': 1, 'dysregul': 3, 'cryptococcu': 1, 'tting': 1, 'aswer': 1, 'bradyca': 1, 'peac': 3, 'transamitini': 1, 'uncal': 2, 'barotrauma': 4, 'tracjh': 1, 'dramtic': 1, 'colleg': 2, 'youngest': 1, 'hypereflexia': 1, 'initai': 1, 'chlorhexedin': 1, 'diulatin': 1, 'certif': 1, 'clorhexedin': 1, 'decin': 1, 'recrudes': 1, 'thlenol': 1, 'blee': 2, 'unorthodox': 1, 'dital': 1, 'pml': 3, \"gnr'\": 1, 'openli': 1, 'shrink': 3, 'ogress': 1, 'familiar': 3, 'soduim': 1, 'litter': 1, 'myoclonu': 4, 'knuckl': 1, 'hypercholorem': 1, 'practition': 2, 'encephalpathi': 1, 'secrest': 2, 'geograph': 2, 'pharmd': 3, 'confront': 2, 'icp': 2, 'insynchron': 1, 'ototox': 1, 'leukoencephalopati': 1, 'leukencephalopathi': 1, 'pentobarbit': 2, 'tor': 1, 'etiol': 1, 'gerealo': 1, 'reinvolv': 1, 'affair': 1, 'hyperreflexia': 1, 'seiaur': 1, 'pointer': 1, 'hpome': 1, 'immatur': 2, 'vascularpreserv': 1, 'kinet': 4, 'cepftim': 1, 'takeoff': 1, 'disproportion': 1, 'nacrot': 1, 'retsart': 1, 'hypernutremia': 2, 'fenanyl': 1, 'arv': 2, 'covner': 1, 'onog': 1, 'contribtuion': 1, 'mannitol': 1, 'tuft': 1, 'sulfadizin': 1, 'hyperhydr': 1, 'recieiv': 2, 'haartwith': 1, 'hypoton': 5, 'gangren': 5, 'aminoglycosid': 3, 'reticulocyt': 2, 'unmask': 2, 'antim': 1, 'firsthand': 1, 'traansfer': 1, 'refusu': 1, 'consumpt': 5, 'severaql': 1, 'mpowel': 1, 'pneumococ': 1, 'aneur': 2, 'hiatu': 6, 'illiopsoa': 1, 'biater': 9, 'pneumoina': 1, 'protuber': 4, 'edit': 2, 'weari': 1, 'shose': 1, 'foudn': 1, 'hypov': 1, 'hydrochlorid': 2, 'shellfish': 3, 'calcitonin': 2, 'resisit': 1, 'infectio': 1, 'jiroveci': 6, 'whinc': 1, 'altert': 1, 'stohnman': 1, 'melana': 2, 'microischem': 1, 'pansystol': 1, 'unlikl': 1, 'myelomat': 1, 'trabecul': 4, 'thyromegali': 12, 'idic': 1, 'tricor': 2, 'ketorolac': 3, 'poison': 2, 'bruie': 1, 'myocolonu': 1, 'interduc': 1, 'wing': 1, 'methylnaltrexon': 2, 'primaquon': 1, 'velcad': 2, 'microangiopathi': 1, 'empiricali': 1, 'naficillin': 1, 'clindmycin': 1, 'metoptolol': 1, 'rarefact': 1, 'atalectasi': 5, 'certainti': 2, 'simplex': 3, 'progres': 2, 'interst': 1, 'finerg': 1, 'tamsulosin': 3, 'unur': 1, 'senstiv': 1, 'voriconozol': 1, 'oof': 1, 'tordol': 1, 'narcopt': 1, 'iliopsoa': 1, 'bzd': 2, 'housekeep': 2, 'intim': 4, 'primquin': 1, 'trasnlat': 1, 'prison': 4, 'hyposed': 1, 'bel': 1, 'mosaic': 4, 'micafungin': 3, 'primaqin': 1, 'diagon': 1, 'vacn': 1, 'anticoagulatoion': 1, 'narcotica': 1, 'whees': 1, 'bloodpressur': 2, 'lanzoprazol': 1, 'hu': 2, 'guidan': 1, 'sevelem': 2, 'unfamiliar': 1, 'ilopsoa': 1, 'atax': 1, 'orhtostasi': 1, 'various': 1, 'murmr': 1, 'managemet': 1, 'opf': 1, 'excruci': 1, 'hars': 1, 'aspf': 2, 'feversclin': 1, 'achondroplasia': 1, 'ptv': 1, 'triangular': 2, 'omnipaqu': 22, 'ldic': 1, 'array': 1, 'monitoro': 1, 'yanuak': 1, 'rknee': 1, 'probem': 1, 'antifangin': 1, 'sedet': 1, 'elevetd': 1, 'imptov': 1, 'palac': 1, 'tolow': 1, 'eved': 1, 'hipox': 1, 'toput': 1, 'buttok': 1, 'muconazol': 1, 'extubaton': 1, 'hemotoma': 1, 'antifangian': 1, 'bmsx': 1, 'calv': 4, 'divalproex': 4, 'grm': 1, 'erythemet': 1, 'acidophillu': 1, 'triag': 2, 'sand': 1, 'caveat': 1, 'ditress': 2, 'anascol': 1, 'substrat': 3, 'therectomi': 1, 'elabor': 1, 'mylanta': 1, 'revascular': 2, 'revelatori': 1, 'endeavor': 1, 'dopplier': 1, 'ammmonia': 1, 'devat': 1, 'issus': 1, 'diptheria': 1, 'verstiva': 1, 'ocuvit': 1, 'edeam': 3, 'voltatg': 1, 'polychondr': 2, 'infuluenza': 1, 'fvc': 4, 'paget': 2, 'ferrousul': 1, 'currenlti': 2, 'diphtheria': 1, 'bicalutamid': 1, 'continui': 1, 'sheriff': 1, 'comt': 1, 'cctime': 1, 'recumb': 1, 'intlat': 1, 'sectrtion': 2, 'levagquin': 1, 'onb': 1, 'figur': 2, 'wln': 1, 'specifici': 1, 'billat': 1, 'coa': 1, 'sodiuma': 1, 'garb': 1, 'lipomatosi': 1, 'alkalem': 1, 'bicarp': 1, 'bdz': 1, 'combivi': 1, 'harbor': 1, 'burr': 4, 'normotensiv': 1, 'porencephal': 1, 'igh': 1, 'respitor': 1, 'hunulin': 1, 'supratentori': 4, 'resuiscit': 1, 'magnitud': 1, 'permeabl': 1, 'lubric': 1, 'springwel': 1, 'paranoa': 1, 'covg': 1, 'shoudl': 1, 'croupi': 1, 'villag': 1, 'winter': 2, 'noncontigu': 1, 'nok': 2, 'sttwc': 1, 'hemochromotosi': 1, 'hemachromatosi': 1, 'pelclip': 1, 'sequestr': 1, 'nonradi': 1, 'hemachomotosi': 1, 'vasalva': 1, 'orign': 2, 'superclavicular': 1, 'ym': 2, 'osteophytosi': 2, 'confin': 2, 'poetic': 1, 'osteltamivir': 1, 'withdrwal': 1, 'osteltamavir': 1, 'represnt': 1, 'compenas': 1, 'latu': 1, '^wob': 5, 'interrogat': 1, 'vibrant': 1, 'hitchcock': 1, 'lrx': 1, 'receivng': 2, 'aeronaut': 1, 'hostil': 1, 'levofloxaxin': 1, 'madanock': 1, 'sureg': 1, 'tsamiflu': 1, 'moicro': 1, 'resuccit': 1, 'scarl': 1, 'neosynepherin': 1, 'cation': 1, 'photo': 1, 'copeou': 1, 'mimic': 1, 'initail': 2, 'offlevoph': 1, 'withdrawa': 1, 'revi': 1, 'unprepar': 1, 'recimmend': 1, 'lacat': 4, 'parameterd': 1, 'dsh': 1, 'famoitidin': 1, 'casopressin': 1, 'una': 5, 'dcough': 1, 'swithc': 1, 'inferiormost': 1, 'duiresis': 1, 'mipt': 1, 'maskj': 1, 'nbr': 1, 'mucormyst': 3, 'antitbiot': 1, 'tricuspud': 1, 'transferrin': 2, \"ext'\": 1, 'cleat': 1, 'purlent': 1, 'obtaijn': 1, 'centropulmonari': 1, 'hypokines': 1, 'appropriatr': 1, 'und': 2, 'hyolaryng': 3, 'tho': 1, 'recnt': 1, 'azityhromycin': 1, 'afternnoon': 1, 'racotomi': 1, 'deglutit': 3, 'lactamas': 5, 'hld': 3, \"he'\": 1, 'prb': 1, 'cardiomyopath': 1, 'prethickn': 1, 'pantoea': 1, 'guzzl': 1, 'drainaga': 1, 'tnt': 3, 'volar': 2, 'suboptima': 1, 'herni': 1, 'subinsular': 3, 'mraf': 2, 'lordosi': 3, 'radiocarp': 1, 'juglar': 1, 'cathter': 2, 'subcuticular': 4, 'esophagogastr': 3, 'ehab': 8, 'fingerbreadth': 4, 'coorespond': 1, 'reoper': 2, 'rosacea': 2, 'dish': 3, 'cholectomi': 1, 'depolar': 4, 'posteroinferior': 1, 'nterval': 1, 'scanner': 6, 'parkinsonian': 1, 'peribronchovascular': 13, 'calcifict': 1, 'gadavist': 3, 'bronchoalveloar': 1, 'gsenapati': 2, 'juxtahilar': 1, 'initiatio': 1, 'gmsj': 4, 'distinguish': 6, 'innumer': 3, 'suprasellar': 4, 'npv': 1, 'ltec': 1, 'tthrough': 1, 'plea': 2, 'oesophg': 1, 'gargl': 1, 'semisupin': 1, 'ileiostomi': 1, 'egu': 1, 'zosoyn': 1, 'egdv': 1, 'melaena': 1, 'tour': 3, 'basliic': 1, 'mucho': 1, 'morther': 1, 'positi': 1, 'ueo': 1, 'supratherpeut': 1, 'penumon': 1, 'obli': 1, 'hctcheck': 1, 'continuum': 1, 'hyperextend': 1, 'vomittr': 1, 'maleana': 1, 'witb': 1, 'scopi': 1, 'ostomoy': 1, 'axcellari': 1, 'oain': 1, 'scertion': 1, 'poco': 1, 'thankscarolyn': 1, 'thalam': 3, 'unprovok': 1, 'oglivi': 1, 'olveckzi': 1, 'retropreiton': 1, 'oophorectomi': 2, 'alendron': 1, 'adminit': 1, 'nonimmun': 1, \"'great\": 1, 'hypernam': 1, 'microaspir': 1, 'nonsmok': 2, 'chelona': 1, 'mucocel': 1, 'prevail': 1, 'salpingo': 1, 'wine': 4, 'mgu': 1, 'recenetli': 1, 'imay': 1, 'ubiquit': 1, 'teratoma': 2, 'asprin': 3, 'qthur': 1, 'zoyn': 1, 'infiltart': 1, 'pneuomina': 1, 'pigment': 1, 'historectomi': 1, 'ammen': 1, 'macrolid': 3, 'peristals': 1, 'kwnown': 1, 'immunoglobulin': 1, 'defuci': 1, 'usiti': 1, 'sequest': 2, 'spetic': 1, 'antrostomi': 1, 'serotonin': 5, 'kgm': 1, 'sin': 1, 'hsc': 3, 'masp': 1, 'monotherapi': 4, 'subclass': 1, 'immunodefici': 6, 'veg': 1, 'meatal': 1, 'ethmoidectomi': 1, 'pansinus': 2, 'subnorm': 1, 'development': 5, 'tahcycardia': 1, 'airless': 3, 'tbi': 4, 'ossifi': 1, 'ramu': 2, 'parost': 1, 'panc': 1, 'ossifican': 1, 'chondrosarcoma': 1, 'heterotop': 4, 'medullari': 4, 'ossif': 5, 'osteosarcoma': 1, 'truama': 1, 'rami': 1, 'coanda': 1, 'arth': 1, 'cib': 2, 'sevalam': 2, 'kayexcel': 1, 'trazamin': 1, 'hyperphosphotemia': 1, 'hyoxemia': 1, 'stabli': 9, 'hyperphospatemia': 1, 'brath': 1, 'apsir': 1, 'resuspens': 1, 'kayexak': 1, 'gerontololgi': 1, 'phosph': 1, 'tenosynov': 1, 'scheme': 1, 'retina': 1, 'rhocnher': 1, 'meformin': 1, 'zileuton': 1, 'inhib': 1, 'agma': 2, 'crx': 1, 'orthopn': 1, 'supsect': 1, 'feverish': 2, 'nongap': 2, 'rocefin': 1, 'leukotrien': 1, 'trhough': 1, 'timecours': 3, 'suspcion': 1, 'treadmil': 1, 'serosangui': 1, 'triplk': 1, 'bronk': 1, 'peek': 1, 'antianxietolyt': 1, 'negx': 1, 'dori': 1, 'auitopeep': 1, 'diffusedli': 1, 'adpat': 1, 'coccobaccili': 1, 'darbopenem': 1, 'levop': 1, 'cechect': 2, 'clonapin': 1, 'throrac': 1, 'hopwev': 1, 'bumper': 1, 'bldcx': 1, 'miplex': 1, 'plateu': 1, 'peripeg': 1, 'ammonium': 1, 'curlex': 1, 'bootsa': 1, 'slideboard': 5, 'toerlat': 1, 'amykacin': 1, 'liumen': 1, 'properti': 3, 'hiold': 1, 'cechet': 1, 'softworb': 1, 'vurrent': 1, 'dbl': 1, 'gran': 1, 'doribax': 1, 'pleomorph': 1, 'placeemtn': 1, 'pneumonboot': 1, 'sorftsorb': 1, 'pulmomari': 3, 'wrape': 1, 'metiplex': 1, 'duodrem': 1, 'tracheomalcia': 1, 'skeptic': 1, 'bilster': 1, 'biat': 1, 'macradenoma': 1, 'alzhiem': 1, 'diuresd': 1, 'hypochlorem': 1, 'arousbl': 1, 'thyoid': 1, 'hemithorac': 3, 'alzeim': 1, 'sellar': 1, 'demis': 3, 'macroadenoma': 1, 'remodel': 1, 'moxifloxacin': 7, 'ream': 1, 'pleurectomi': 1, 'public': 4, 'psychotrop': 2, 'pectu': 2, 'hydroxyzin': 4, 'snap': 2, 'airtrap': 3, 'restricti': 1, 'shirt': 1, 'obsess': 1, 'slam': 1, 'thorazin': 1, 'salicyl': 1, 'collagen': 1, 'gabopentum': 2, 'dentist': 1, 'atelectai': 2, 'gabapenton': 1, 'useless': 1, 'febreil': 1, 'inebri': 1, 'hypogammaglobulinemia': 3, 'unimpair': 1, 'distruct': 1, 'bournwood': 1, 'appris': 1, 'dignosi': 1, 'gammaglobulinemia': 1, 'osteonecrosi': 1, 'dust': 1, 'oit': 1, 'crede': 1, 'epithet': 1, 'hcg': 1, 'agiit': 1, 'phenazopyridin': 1, 'kneeleft': 1, 'arthrocentesi': 2, 'nonsept': 1, 'carinatum': 1, 'kneereplac': 1, 'orthopedist': 1, 'vistaril': 1, 'ventericular': 1, 'repos': 1, 'duri': 3, 'lulobectomi': 1, 'senapati': 1, 'septalectomi': 1, 'precuationsplan': 1, 'completley': 1, 'turbinectomi': 1, 'unexpect': 4, 'antimirobi': 1, 'expecetd': 1, 'pride': 1, 'pastpt': 1, 'rhc': 3, 'isometr': 3, 'mendehlson': 1, 'leukcytosi': 2, 'consistn': 1, 'renounc': 1, 'disconcert': 1, 'estat': 1, 'aceess': 1, 'complan': 1, 'cystiti': 4, 'dyskinesia': 1, 'hypercholeserolemia': 1, 'trespass': 1, 'tspn': 4, 'sildenafil': 2, 'navi': 1, 'welcom': 2, 'rythum': 1, 'uleg': 1, 'entail': 1, 'prosatectomi': 1, 'denser': 5, 'pericardialcenti': 1, 'propanalol': 1, 'rrva': 1, 'uln': 1, 'sticker': 4, 'pldh': 1, 'beforehand': 1, 'schistocyt': 1, 'inconti': 2, 'opportunitist': 1, 'rehospit': 3, 'cdifff': 1, 'slump': 1, 'huid': 1, 'tbil': 1, 'sldh': 1, 'freeca': 1, 'sofa': 1, 'smv': 3, 'abacavir': 2, 'hemetemesi': 1, 'paracentisi': 1, 'cte': 1, 'tenofovir': 2, 'capaci': 1, 'gastroview': 1, 'radiologymaureen': 1, 'cmrepeat': 1, 'gastro': 1, 'surgeru': 1, 'olt': 3, 'refilm': 1, 'resi': 1, 'brachiocepahl': 1, 'consolodi': 1, 'ptft': 1, 'vdrf': 1, 'disea': 2, 'dohboff': 1, 'repes': 1, 'txp': 2, 'thalassemia': 1, 'crystalloid': 2, 'otiti': 1, 'hemotocrit': 1, 'media': 1, 'toxoplamosi': 1, 'nurseri': 1, 'ceclor': 1, 'predescrib': 1, 'cefaclor': 1, 'asss': 1, 'nifediipin': 1, 'mycin': 2, 'beign': 2, 'undo': 1, 'raynoid': 1, 'effusi': 1, 'aztrenam': 1, 'inforc': 1, 'intrinis': 1, 'bicycl': 1, 'cannabinoid': 1, 'ajust': 2, 'cannibu': 1, 'cannabi': 1, 'eu': 1, \"leni'\": 1, 'sizewis': 1, 'antidep': 1, 'admtt': 1, 'sertalin': 1, 'bumpi': 1, 'anxou': 1, 'valcyclovir': 1, 'arachynoid': 1, 'uip': 4, 'aeipf': 1, 'bronchoscpi': 1, 'valcyt': 3, 'thump': 1, 'neagtiv': 1, 'atiavan': 1, 'hepe': 1, 'vangcyclovir': 1, 'faecal': 1, 'herps': 1, 'macroph': 1, 'valacyclovir': 1, 'acetylcystin': 2, 'heppa': 1, 'valgancyclovir': 2, 'subarachanoid': 1, 'welder': 1, 'incontinac': 1, 'incontint': 1, 'ceftraiaxon': 1, 'parathesia': 1, 'silicosi': 1, 'sidedweak': 1, 'brocnhoscopi': 1, 'pansinusitu': 1, 'librarian': 1, 'uk': 2, 'rhiniti': 2, 'reapir': 1, 'eospinophilia': 1, 'wold': 1, 'cep': 1, 'reop': 1, 'amitiptyllin': 1, 'ctdz': 1, 'librari': 1, 'myxomat': 1, 'aneurysn': 1, 'precip': 1, 'diagsnosi': 1, 'suspician': 2, 'abpa': 1, 'invovel': 1, 'pck': 1, 'condensan': 1, 'adjacebt': 1, 'midclavicular': 4, 'osteiti': 1, 'nomin': 1, 'ilii': 1, 'prevoid': 1, \"morning'ha\": 1, 'sjbj': 5, 'fissu': 1, 'shortn': 3, 'glan': 1, 'sugesst': 1, 'patial': 1, 'encephlopath': 1, 'hyperton': 2, 'flextur': 2, 'rrc': 1, 'upstair': 3, 'seasion': 1, 'sciatica': 1, 'obstrut': 1, 'scull': 1, 'medistiastinum': 1, 'pachymening': 4, 'mesial': 2, 'threaten': 3, 'aortopulmon': 1, 'micromass': 1, 'orthogon': 2, 'mediatinum': 1, 'temporali': 1, 'inping': 1, 'rveal': 1, 'autist': 1, 'seas': 1, 'legfor': 1, 'dendrit': 1, 'calvari': 1, 'rxcg': 1, 'hyponutremia': 1, 'evdeic': 1, 'heaven': 1, 'effsuion': 1, 'suclavian': 1, 'lm': 2, 'odynophagia': 4, 'fosphenytoin': 1, 'sunitinib': 1, 'destrucitv': 1, 'seiszur': 1, 'trig': 3, 'autism': 1, 'indirect': 3, 'enterographi': 1, \"perf'\": 1, 'narrowest': 1, 'volvulu': 4, 'tenth': 2, 'eleventh': 1, 'sigmoidoscopi': 1, 'microcytosi': 1, 'proctoscopi': 1, 'twelfth': 1, 'hyperem': 1, 'atribut': 1, 'readress': 1, \"grave'\": 1, 'radioi': 1, 'erectil': 1, 'predict': 3, 'cholecalciferol': 3, 'radioact': 2, 'overnigh': 1, 'gyriform': 1, 'infero': 3, 'microhemorrhag': 2, 'refut': 1, 'flak': 1, 'reismann': 1, 'melen': 1, 'laparatomi': 1, 'cth': 2, 'hypoaesthesia': 1, 'magnum': 1, 'reivew': 1, 'postcentr': 1, 'oversew': 1, 'enzyem': 1, 'pallidu': 1, 'gastrotomi': 2, 'adc': 4, 'lllasp': 1, 'signifi': 1, 'predispos': 4, 'postcontrast': 1, 'tonsillar': 1, 'tonsilar': 1, 'ipsilater': 1, 'modax': 2, 'globu': 1, 'sew': 1, 'hba': 5, 'grd': 1, 'tachcyardia': 1, 'thourough': 1, 'arbout': 1, 'unwilling': 1, 'robust': 6, 'laryngoscopi': 2, 'dysfuct': 2, 'udergo': 1, 'gyru': 2, 'volu': 1, 'neosynephin': 1, 'compelt': 1, 'mmt': 6, 'flatter': 2, 'restlessli': 1, 'crtical': 1, 'lactolas': 1, 'leucopenia': 1, 'nadalol': 1, 'safer': 1, 'harvest': 2, 'mulitfoc': 1, 'agres': 1, 'polymyopathi': 1, 'pge': 1, 'polymyoneuropathi': 1, 'coursa': 1, 'chirrosi': 1, 'weanign': 1, 'hoy': 1, 'devi': 1, 'difficuolt': 1, 'necktar': 1, 'heterotopia': 1, 'guac': 1, 'electrophysiolog': 1, 'spesi': 1, 'propel': 1, 'axon': 2, 'ppli': 1, 'intracerebr': 2, 'pterygoid': 1, 'patientnafcillin': 1, 'nephriti': 1, 'thiock': 1, 'encpehalopath': 1, 'bedridden': 1, 'overlaod': 2, 'elb': 1, 'propofaol': 1, 'inclement': 1, 'boat': 1, 'intrac': 1, 'stm': 2, 'chirossi': 1, 'repsositio': 1, 'meropenenem': 1, 'initati': 1, 'delist': 1, 'humiditifi': 1, 'deltoid': 2, 'bradykinet': 1, 'adequaci': 2, 'wocrn': 1, 'fse': 1, 'elsd': 1, 'inatak': 1, 'hempdynam': 2, 'varici': 1, 'myoclon': 3, 'gentler': 1, 'fascicul': 1, 'abilti': 1, 'iadl': 2, 'withsept': 1, 'eslc': 1, 'propranolol': 1, 'perisepsi': 1, 'hitler': 1, 'recordsnafcillin': 1, 'approximatli': 1, 'depelt': 1, 'hypovolm': 1, 'valuat': 1, 'polyneuropathi': 3, 'nmed': 3, 'lecopenia': 1, 'lactuols': 1, 'swall': 1, 'followl': 1, 'epicondyl': 2, 'indent': 3, 'intradur': 2, 'guanifensin': 1, 'prognost': 1, 'ammoni': 1, 'apach': 1, 'isir': 1, 'dfif': 1, 'desonid': 1, 'geritrician': 1, 'patientmercuri': 1, 'intemitt': 1, 'hydroxyzon': 1, 'mercuri': 1, 'citri': 1, 'sclen': 1, 'lactact': 2, 'hypoixia': 1, 'orba': 1, 'sweetcorn': 1, \"parkinson'\": 1, 'parksinson': 1, 'strikingli': 1, 'isdn': 2, 'nephrolithotomi': 1, 'concerngin': 1, 'irbesartan': 1, \"romi'\": 1, 'jam': 1, 'xygen': 1, 'promis': 3, 'processbi': 1, 'effius': 1, 'hga': 3, 'flower': 2, 'fyi': 2, \"pcp'\": 1, 'oncomycosi': 1, 'hlp': 1, 'avapro': 1, 'intensivm': 1, 'schmerzther': 1, 'pvk': 1, 'tryadyn': 1, 'shd': 3, 'prcv': 1, 'limt': 1, 'nmda': 1, 'mgc': 1, 'sye': 1, 'notfallm': 1, 'entamoeba': 1, 'weel': 1, 'clin': 2, 'rotopron': 2, 'lcm': 1, 'algorhythm': 1, 'nur': 1, 'crosstoler': 1, 'hantaviru': 1, 'wriggl': 1, 'anathesiol': 1, 'cart': 3, 'ctg': 4, 'echinococcu': 1, 'mucl': 1, 'flashback': 1, 'oncol': 1, 'pneumomedistin': 1, 'pneumonmediastinum': 1, 'cvm': 1, 'mlhr': 1, 'rotapron': 1, 'pron': 1, 'modb': 1, 'secanodari': 1, 'doee': 1, 'intrapulmonari': 6, 'respriatori': 7, 'raidal': 2, 'critici': 1, 'eichinococcu': 1, 'doxicyclin': 2, 'mcafungin': 1, 'elvev': 1, 'thrombocytopen': 2, 'glragin': 1, 'minax': 2, 'mve': 1, 'hyperalgesia': 2, 'maxax': 2, 'eosionphil': 1, 'portugues': 3, 'anesthesiolog': 1, 'feedback': 1, 'patiient': 1, 'mkm': 1, 'chart^': 1, 'unsatgebal': 1, 'rss': 1, 'trendelenberg': 3, 'anest': 1, 'annum': 1, 'aemia': 1, 'tward': 1, 'roto': 1, 'variablil': 1, 'mosit': 1, 'hyoglycemia': 1, 'pylostomi': 1, 'nephrotomi': 1, 'anesthesiologist': 1, 'calyx': 1, 'replc': 1, 'sillhouhett': 1, 'aanterior': 1, 'solitari': 5, 'anteroposterior': 1, 'neoesophagu': 1, 'falciform': 2, 'obstruc': 1, 'floromethalon': 1, 'bellow': 1, 'pneumonvax': 1, 'dypspnea': 1, 'minimun': 1, 'rattli': 2, 'provoc': 1, 'ipr': 1, 'rheumatologist': 1, 'cvid': 2, 'butun': 1, 'whirl': 1, 'actuat': 2, 'sohx': 1, 'subjac': 1, 'remid': 1, 'fahx': 1, 'olsetamivir': 1, 'pseudoobstruct': 1, 'eventr': 2, 'bronchoconstrict': 1, 'dir': 2, '^rdl': 1, 'guifensien': 1, 'bairhugg': 1, 'pectic': 1, 'baker': 1, 'chewabl': 3, 'claclium': 1, 'bilroth': 1, 'dimentia': 1, 'novolin': 2, 'estgfr': 1, 'cutlur': 4, 'hydroxid': 5, 'abv': 1, 'mgmnt': 1, 'fliuid': 1, 'sphincterotomi': 1, 'farr': 1, 'mep': 1, 'reyataz': 1, 'unremarakbl': 1, 'narcoti': 1, 'hypoventili': 1, 'piroxicam': 1, 'epzicom': 1, 'myofasci': 1, 'atazanavir': 1, 'eelvat': 1, 'hprn': 1, 'cotninu': 2, 'deleriumt': 1, 'coff': 1, 'rpaid': 1, 'signic': 1, 'qual': 1, 'bucket': 1, 'donut': 1, 'tremen': 2, 'ism': 1, 'deprees': 1, 'duie': 1, 'cig': 2, 'pneumonianow': 1, 'epilecticu': 1, 'whc': 1, 'umen': 1, 'pint': 1, 'clininc': 1, 'mens': 2, 'flumenazil': 1, 'lactuls': 1, 'emei': 1, 'hopefuil': 1, 'hyropneumothorax': 1, 'immodium': 3, 'antidepend': 1, 'nteract': 1, 'trilob': 1, 'unidentifi': 2, 'tld': 1, 'decorticaiton': 1, 'improvt': 2, 'pyeloplasti': 1, 'multicoc': 1, 'grp': 1, 'dysarththia': 1, 'stumbl': 1, 'vmr': 1, 'pnanot': 1, 'cefapem': 1, 'dyarthria': 1, 'gfamili': 1, 'thallasemia': 1, 'farmer': 1, 'uniform': 2, 'curl': 8, 'arisen': 1, 'stube': 1, 'uplift': 1, 'vasculartur': 1, 'dehyr': 1, 'afford': 2, 'fllow': 1, 'desipramin': 1, 'becsu': 1, 'fiorin': 1, 'chroninc': 1, 'intertrigo': 1, 'leginonella': 1, 'tongith': 1, 'affor': 1, 'caffien': 1, 'toprolol': 1, 'metforman': 1, 'hepatobiliari': 4, 'signai': 1, 'excor': 1, 'plale': 1, 'quinadin': 1, 'gradulli': 1, 'underi': 1, 'cigar': 1, 'utter': 2, 'schwannoma': 2, 'land': 1, 'hssi': 3, 'sgift': 1, 'silhoutt': 1, 'consolidatioin': 1, 'dysfunt': 1, 'cbg': 3, 'crash': 1, 'epistaxsi': 1, 'dofetillid': 1, 'condens': 1, 'glomerulonephr': 2, 'intratubular': 1, 'postvoid': 1, 'kayaxel': 1, 'ralesb': 1, 'shapr': 1, 'enxt': 1, 'ducolox': 1, 'toleran': 1, 'bdg': 1, 'mirolax': 1, 'puplmonari': 1, 'inout': 1, 'stereotact': 1, 'hyperphosphatemia': 2, 'spleno': 2, 'varix': 1, 'splenoport': 1, 'cementoplasti': 1, 'pseudoarthrosi': 1, 'rightr': 1, 'bronchiolar': 3, 'spondyl': 1, 'ankylos': 1, 'opacitii': 1, 'currnetli': 1, 'conceal': 2, 'obtur': 1, \"'better\": 1, 'gonald': 1, 'subarrachnoid': 1, 'levl': 1, 'intravertebr': 1, 'brim': 1, 'patientprednison': 1, 'addomen': 1, 'hystrectomi': 1, 'leukodytosi': 1, 'pyschosi': 1, 'theresid': 2, 'opteas': 3, 'hemiperisi': 1, 'overfe': 2, 'monitori': 1, 'contsip': 1, 'sorbitol': 1, 'consitp': 1, 'fliter': 1, 'resiz': 1, 'hyerkalemia': 1, 'liklihood': 1, 'pleuridex': 1, 'zosn': 1, 'bedamustin': 1, 'hypogammaglobinemia': 1, 'aihi': 1, 'galss': 1, 'px': 3, 'inard': 1, 'rituxan': 1, 'hospitalizait': 1, 'onppi': 1, 'aiha': 1, 'preme': 1, 'histroy': 3, 'pnau': 1, 'acycolovir': 1, 'atelectatsi': 1, 'duaghter': 1, 'fcn': 1, 'subgal': 2, 'stablliz': 1, 'dysf': 1, 'arang': 1, 'bluid': 2, 'pansinu': 1, 'spustum': 1, 'holosystol': 3, 'lsinoprel': 1, 'slntg': 2, 'cratinin': 1, 'arl': 1, 'migratori': 1, 'evenli': 1, 'shilouett': 1, 'exceedingli': 1, 'isnorm': 1, 'overestim': 2, 'raynaud': 1, 'proportio': 1, 'comporomis': 1, 'patientlidocain': 1, 'hypophon': 1, 'finesterid': 1, 'mirco': 1, 'catecholamin': 1, 'laq': 2, 'sefl': 1, 'aneurism': 1, 'ical': 1, 'whiff': 1, 'vcabg': 1, 'catecholami': 1, 'frigidi': 1, 'macaroni': 1, 'contamini': 1, 'diuresesi': 1, 'extrmeitii': 1, 'naf': 2, 'aarom': 1, 'reintubt': 1, 'fmssa': 1, 'techngu': 1, 'imapir': 1, 'spbt': 1, 'buyt': 1, 'surv': 2, 'feso': 3, 'cefetriazidim': 1, 'resons': 2, 'nafcililn': 1, 'extremu': 1, 'hepb': 1, 'flonas': 2, 'uee': 1, 'satuat': 1, 'atlectesi': 1, 'dsitress': 1, 'dissoci': 1, 'isorhythm': 1, 'neoesophag': 1, 'antoibiot': 1, 'bidew': 1, 'prelmininari': 1, 'lomictil': 1, 'betaseron': 1, 'msntal': 1, 'porch': 1, 'levoflaoxin': 1, 'fentanyla': 1, 'morphinel': 1, 'normo': 3, 'millimetr': 2, 'borderl': 1, 'opacificaton': 1, 'additino': 1, 'radio': 4, 'anchor': 1, 'dextroconvex': 2, 'groshung': 1, 'heteregen': 2, 'cisterna': 2, 'ajnd': 1, 'cariat': 1, 'magna': 2, 'aceiv': 1, 'genesi': 1, 'deffrer': 1, 'dnh': 2, 'bacj': 2, 'alkalsosi': 1, 'teanaou': 1, 'ult': 1, 'bpmaintain': 1, 'unexpectedli': 1, 'respiaratori': 1, 'inexpect': 1, 'mulitdisciplinari': 1, 'mepelex': 1, 'descid': 2, 'impedi': 2, 'dysnychromi': 1, 'negativebal': 1, 'proir': 1, 'mycocardi': 1, 'plana': 1, 'nio': 1, 'tapabl': 1, 'multidisicplinari': 1, 'talli': 1, 'levoxacin': 1, 'cardiazem': 1, 'bankart': 1, 'uterotomi': 1, 'egfr': 3, 'prcocet': 1, 'resrict': 1, 'beng': 1, 'street': 2, 'nake': 2, 'somewher': 1, 'teanm': 1, 'atlectasi': 3, 'macdonald': 1, 'pantri': 1, 'agita': 1, 'trazdon': 1, 'beverag': 2, 'increaseili': 1, 'clilnic': 1, 'thiamain': 1, 'smalll': 1, 'percardi': 1, 'pleurx': 3, 'slthough': 1, 'seeen': 1, 'torqu': 1, \"cxr'\": 1, 'subclaviam': 1, 'condyl': 2, 'othervis': 2, 'choyk': 3, 'afsn': 3, 'erlotinib': 1, 'lifetim': 1, 'spinemetastas': 1, 'rode': 1, 'lisinopriltoler': 1, 'successs': 1, 'metorrolol': 1, 'outputbun': 1, 'ismo': 1, 'triamteren': 2, 'dand': 1, 'branow': 1, 'msk': 3, 'startw': 1, 'pcm': 2, \"bartter'\": 1, 'havewith': 1, \"copd'er\": 1, 'posthypercapnia': 1, 'alkali': 1, 'holder': 2, 'hypecapnia': 1, 'murmer': 3, 'aortobifemor': 1, 'fasoli': 1, \"bs'\": 3, 'tremain': 1, 'feeder': 1, 'amphysema': 1, 'subliguin': 1, 'sinia': 1, 'pepicd': 1, 'ribcag': 1, 'urethra': 2, 'exogen': 1, 'clime': 1, 'abxif': 1, 'lenient': 1, 'uro': 1, 'hypok': 1, 'hyperaldo': 1, 'placent': 1, 'comtamin': 1, 'bronchodi': 1, 'rhaspi': 1, 'gitelman': 1, 'notori': 1, 'mesothelioma': 1, 'influenc': 3, 'albulmin': 1, 'urether': 1, 'procainamid': 1, 'actiiv': 1, 'amlitud': 1, 'approximatley': 1, 'intfiltr': 1, 'toy': 1, 'neehdam': 1, 'fagitu': 1, 'electropheresi': 1, 'predisposit': 2, 'rlsb': 1, 'hpothyroid': 1, 'nasophareng': 1, 'projectil': 2, 'chagn': 3, 'tricupsid': 1, 'endogastr': 2, 'mitrial': 1, 'reasonbl': 1, 'vactiv': 1, 'robotussin': 1, 'mobilix': 1, 'tricusp': 1, 'bleedi': 1, 'doeswel': 1, 'antimicribi': 2, 'inspiritori': 1, 'mobila': 1, 'guiafisen': 1, 'guiafisin': 1, 'nest': 1, 'dyfunct': 1, 'rewiev': 1, 'coumaidn': 1, 'sihgtli': 1, 'spiromitri': 1, 'suspiscion': 1, 'intend': 5, 'unnessari': 1, 'colllaps': 1, 'clodidin': 1, 'collasps': 2, 'catapr': 1, 'asix': 1, 'arimidex': 2, 'holo': 1, 'fruther': 1, 'lipm': 1, 'pharyn': 1, 'rcvd': 1, 'unenthusiast': 1, 'bpmed': 1, 'mirilax': 1, 'jolt': 1, 'levaph': 1, 'alzhem': 1, 'alezhiem': 1, 'clozaril': 2, 'anerob': 1, 'antihyperglycem': 1, 'setment': 1, 'periport': 2, 'tributari': 2, 'diarrheaclin': 1, 'painclin': 1, 'ileiti': 1, 'mesent': 1, 'rllobectomi': 1, 'rmlobectomi': 1, 'rmlobe': 1, 'extremtli': 1, 'rmatiti': 1, 'harshcough': 1, 'receov': 1, 'peristom': 1, 'asthmaticu': 1, 'psychogen': 2, 'spina': 1, 'hypercarbi': 1, 'capaicti': 1, 'wihoutout': 1, 'hyperten': 1, 'attribuatlb': 1, 'melon': 1, 'bifida': 1, 'continueud': 1, 'divers': 2, 'precaust': 1, 'epress': 2, 'rhythmic': 1, 'repor': 1, 'twin': 1, 'solumedeol': 1, 'atop': 1, 'metaphysi': 1, 'peronei': 1, 'crutch': 1, 'tibiotalar': 1, 'pulem': 1, 'eyeh': 2, 'osbuscr': 1, 'hemifraphragm': 1, 'tricsupid': 1, 'threshol': 1, 'elevatin': 1, 'accodringli': 1, 'bigger': 3, 'motnior': 1, 'reticulonodular': 1, 'chylou': 1, 'lyphangt': 1, 'triglyc': 1, 'cronic': 1, 'hypoventialt': 1, 'thoracentsi': 1, 'nrbc': 2, 'nppvand': 1, 'retens': 3, 'mgpo': 2, 'vacat': 2, 'zanax': 1, 'talc': 2, 'resampl': 1, 'adjuv': 1, \"wbc'\": 1, 'ffectiv': 1, 'pleuradesi': 2, 'crhonic': 1, 'imprvo': 1, 'rosenmul': 1, 'chord': 1, 'laryngocel': 1, 'venetricular': 1, 'regurit': 1, 'andincreas': 1, 'foloey': 1, 'decreasedurin': 1, 'paetnci': 1, 'isulin': 1, 'mechin': 1, 'hate': 2, 'disucss': 1, 'miser': 1, 'erst': 1, 'weanto': 1, 'murmu': 1, 'peramivir': 1, 'merapenum': 1, 'meropenun': 1, 'rhythem': 1, 'tachyc': 1, 'profession': 1, 'famotadin': 2, 'seconday': 1, 'flicker': 1, 'nimbex': 1, 'culturt': 1, 'softi': 1, 'permavir': 1, 'nowt': 1, 'versedearli': 1, 'decreaas': 1, 'nitrou': 2, 'ibili': 1, 'desynchron': 1, 'compatibel': 1, 'olanzaoin': 1, 'thoraco': 1, 'monostat': 1, 'axiila': 1, 'gemfibrozil': 1, 'nrrr': 2, 'andp': 1, 'abio': 1, 'remp': 1, 'intpret': 1, 'racepinephrin': 2, 'mistak': 1, 'acetazolimid': 1, 'initit': 1, 'famoticidin': 1, 'hypertriglyceridemia': 2, 'adjec': 1, 'tolerainc': 1, 'dy': 4, 'lash': 1, 'merrem': 1, 'chlorehex': 1, 'lastli': 2, 'flitter': 1, 'flewxis': 1, 'furosimid': 1, 'aslix': 1, 'paramavir': 1, 'woudl': 2, 'ino': 2, 'risbio': 1, 'swiych': 1, 'cahneg': 1, 'unneccessari': 1, 'evercar': 1, 'postivi': 1, 'unsuccessful': 1, 'anticio': 1, 'rhochor': 3, 'abdominopelv': 2, 'amlodopin': 1, 'isssu': 1, 'gate': 3, 'morph': 1, 'extracharg': 1, 'misregistr': 1, 'extracardiac': 1, 'coronaryclip': 1, 'corevalv': 1, 'comorbid': 5, 'foun': 1, 'desquam': 2, 'maculopapular': 5, 'rrla': 1, 'elctorlyt': 1, 'possibilit': 2, 'rectis': 1, 'sensitiv': 1, 'newlli': 1, 'sklill': 1, 'secretari': 1, 'uncreas': 1, 'inxn': 1, 'ftom': 1, 'hyporact': 1, 'tranmit': 1, 'subcu': 1, 'ilw': 2, 'diatal': 1, 'desquamit': 1, 'likelyhood': 1, 'afffect': 1, 'emograph': 1, 'counteract': 1, 'lill': 1, 'obstruciton': 1, 'irrevers': 1, 'silverden': 1, 'spontaneo': 1, 'lazix': 1, 'andtibiot': 1, 'intertrigin': 1, 'therfor': 1, 'hoock': 1, 'fecul': 1, 'sulfadiazin': 1, 'intertriginu': 1, 'saag': 1, 'minimallli': 1, 'pupli': 1, 'athrosclerosi': 1, 'highgat': 1, 'meetin': 2, 'psl': 1, 'maliganaci': 1, 'veinou': 1, 'intravasc': 2, 'hxhap': 1, 'haemolys': 1, 'unrespos': 1, 'silvidin': 1, 'silvaden': 1, 'trachwostomi': 1, 'setrt': 1, 'cavitatari': 1, 'urti': 1, 'fortuit': 1, 'fhph': 1, 'deceid': 1, 'revisu': 1, 'cidp': 1, 'reli': 3, 'cavi': 1, 'encourab': 1, 'apathet': 2, 'humolog': 1, 'allso': 1, 'guaiaic': 2, 'adept': 1, 'mistreat': 1, 'neumonia': 2, 'venitil': 2, 'cipd': 1, 'rase': 1, 'freguent': 1, 'conjunctivi': 1, 'painless': 1, 'folowup': 1, 'pathway': 2, 'svi': 1, 'xc': 3, 'hibiclen': 2, 'pediatrian': 1, 'scrub': 2, 'thte': 1, 'tempropariet': 1, 'lungsrhocher': 1, 'notari': 1, 'umcomfort': 1, 'relateddt': 1, 'patc': 1, 'dispit': 1, 'tarlov': 1, 'bugl': 1, 'prnding': 1, 'neurosug': 1, 'moonlight': 1, 'eleimin': 1, 'sourceunlik': 1, 'fund': 1, 'hemoperitoneum': 1, 'rheumatalog': 1, 'cpao': 1, 'tachytachypena': 1, 'pursuit': 1, 'neurosurg': 5, 'symtomat': 2, 'neuroforamin': 1, 'unecessari': 1, 'rev': 1, 'myelomalacia': 1, 'notar': 1, 'shnge': 1, 'historyand': 1, 'ppresent': 1, 'dtage': 1, 'quadreplegia': 1, 'meningocel': 1, 'psm': 1, 'stae': 1, 'meplix': 1, 'alkpho': 3, 'frx': 1, 'airbag': 1, 'clearl': 1, 'giardia': 1, 'mvc': 3, 'anteroinferior': 1, 'bronciectesi': 1, 'vommit': 2, 'appopria': 1, 'porit': 1, 'hbga': 1, 'alheim': 1, 'lnr': 1, 'hyperlimidemia': 1, 'diaviat': 1, 'antibito': 2, 'depleat': 1, 'multlipl': 1, 'infilitr': 2, 'orophar': 2, 'timelin': 1, 'pernin': 1, 'successfuli': 1, 'gurgel': 1, 'parenhcyma': 1, 'singnific': 1, 'imprssion': 1, 'bloodshot': 2, 'promient': 1, 'macrocytosi': 1, 'snif': 3, 'ronchuou': 1, 'admisis': 1, 'hemidriagphram': 1, 'bancemia': 1, 'gastrointenstin': 1, 'unkonwn': 1, 'rcxr': 1, 'downgrad': 1, 'pur': 1, 'novemeb': 1, 'unkown': 2, 'hypetens': 1, 'artefact': 3, 'hydrocortisol': 1, 'pyridium': 1, 'chemotherpay': 1, 'tndr': 1, 'samonella': 1, 'benc': 1, 'shigella': 1, 'transloc': 2, 'hypocortisol': 1, 'ischmic': 1, 'amyloidosi': 1, 'thoracoplasti': 2, 'chnge': 1, 'macroscop': 1, 'serrat': 1, 'thyromeg': 2, 'numerour': 1, 'ged': 1, 'postradi': 1, 'academ': 1, 'march': 2, 'breeth': 1, 'contend': 1, 'juxtaren': 1, 'heaviest': 1, 'arc': 1, 'desk': 1, 'cooximetri': 1, 'mwm': 2, 'suffoc': 3, 'circumor': 1, 'esopheg': 1, 'multidisciplnari': 1, 'visibil': 1, 'fume': 1, 'poteni': 1, 'periesophag': 1, 'methehemoglobinemia': 1, 'methemoglobinemia': 1, 'rebah': 1, 'asnwer': 1, 'concert': 1, 'avnrt': 3, 'nortriptyllin': 1, 'addison': 1, 'entrant': 1, 'asympomat': 1, 'unhelp': 1, 'repart': 1, 'avrt': 1, 'candidiasi': 3, 'svcbrachiocephal': 1, 'mztb': 1, 'radiocapitellar': 1, 'congruenc': 1, 'trochlear': 1, 'osteosclerot': 2, 'differeti': 1, 'thiazid': 1, 'parainflu': 1, 'vnon': 1, 'rvh': 1, 'jild': 1, 'hypersensitivit': 1, 'yestderday': 1, \"alzhiemer'\": 1, 'stneosi': 1, 'rhf': 1, 'withsever': 1, 'tuna': 2, 'derlium': 1, 'hypoglyecem': 1, 'pilori': 1, 'sacrific': 1, 'stratif': 1, 'atm': 1, 'sweatimg': 1, 'retroact': 1, 'gallon': 1, 'outpatietn': 1, 'barret': 1, 'cirrhoit': 1, 'murder': 1, 'neurvascularli': 1, 'sib': 1, 'bail': 1, 'bush': 1, 'robberi': 1, 'hallucinosi': 1, 'violenc': 1, 'concomitt': 1, 'aandox': 1, 'uncharacterist': 1, 'benardyl': 1, 'stonosi': 1, 'decidedli': 1, 'garag': 1, 'dyspnoea': 1, 'sope': 1, 'apnoea': 1, 'enco': 1, 'bkr': 2, 'talonavicular': 1, 'capnocytophaga': 1, 'histoplasmosi': 1, 'hypoadren': 1, 'capnocytophagia': 1, 'crackel': 3, 'hypenatremai': 1, 'placeement': 1, 'hrx': 1, 'tonsilectomi': 1, 'pasv': 2, 'hemondynam': 1, 'nbnb': 1, 'sweep': 1, 'hyporthyroid': 1, 'friction': 2, 'pneumobilia': 3, 'dil': 2, 'elevart': 1, 'klebsiela': 1, 'aduibl': 1, 'nonbloodi': 1, 'privileg': 1, 'withfev': 1, 'heha': 1, 'cnst': 1, 'panscan': 1, 'perid': 1, 'staphylococci': 2, 'tachypnc': 1, 'acineterbact': 1, 'tracheosotomi': 1, 'ariv': 1, 'psotiv': 1, 'nrsa': 1, 'bovi': 1, 'tobramcyin': 1, 'fondaparenox': 1, 'artain': 1, 'acinitobact': 1, 'infiltrat': 1, 'cinemet': 2, 'acinobact': 1, 'fondaprinux': 1, 'clacium': 1, 'durind': 1, 'carbapenem': 4, 'colisitn': 1, 'pvv': 1, 'carita': 2, 'desimpact': 1, \"babinksi'\": 1, 'restaur': 2, 'patienttagamet': 1, 'wherebi': 2, 'requip': 1, 'tream': 1, 'dcing': 1, 'infetcion': 1, 'pizzaria': 1, 'antiparkinsonian': 1, 'fondoparinaux': 1, 'micor': 1, 'anasrca': 1, 'mayi': 1, 'colestin': 1, 'acenitobact': 1, 'syntrhoid': 1, 'colisitina': 1, 'vegetataion': 1, 'sill': 1, 'heidiaph': 1, 'hypnatremia': 1, 'recycl': 1, 'untll': 1, 'antiboiod': 1, 'levidopa': 1, 'aci': 2, 'discount': 1, 'copnt': 1, 'ropirnol': 1, 'acteremia': 1, 'bisocadyl': 1, 'cholestasi': 4, 'toxicitiy': 1, 'amicacin': 1, 'stressor': 1, 'owner': 3, 'recult': 1, 'moliz': 1, 'ropinirol': 1, 'jllw': 1, 'traceostomi': 1, 'hopspial': 1, 'fondaparinoux': 1, 'effuion': 1, 'bovona': 1, 'inhaledq': 1, 'eblow': 1, 'hat': 1, 'fonduparinox': 1, 'intermiitt': 1, 'colisitin': 1, 'hypotenst': 1, 'amikasin': 1, 'veggi': 1, 'amakacin': 1, 'cimetidin': 1, 'baumannii': 1, 'gegtaion': 1, 'compliat': 1, 'aggess': 1, 'detrusor': 1, 'wtith': 1, 'amikacina': 1, 'aoritc': 1, 'rhocnhor': 1, \"plateau'd\": 1, 'autodiureisi': 1, 'fondaparineux': 1, 'colstin': 1, 'acinetobactor': 1, 'chane': 2, 'inal': 1, 'fwf': 1, 'fondapaurinox': 1, 'fondaparinox': 1, 'collistin': 1, 'carbacephem': 2, 'fondaparinux': 1, 'gpcocci': 1, 'tagamet': 1, 'icub': 1, 'nit': 3, 'creatini': 1, 'hemodynamm': 1, 'unforunt': 1, 'pseudoman': 1, 'vast': 1, 'expansil': 1, 'debulk': 1, 'morohin': 1, 'movent': 1, 'chrome': 1, 'mutipodu': 1, 'limitng': 1, 'atmosair': 1, 'meriplex': 1, 'tricompartment': 1, 'glucomet': 2, 'esophagotrach': 1, 'fistual': 1, 'fistu': 1, 'bronchoesophag': 1, 'suvmax': 1, 'emiss': 2, 'fluorodeoxyglucos': 2, 'enthesopathi': 1, 'salivari': 2, 'ostearthr': 1, 'entesophyt': 1, 'organz': 1, 'precent': 1, 'mensenter': 1, 'pave': 1, 'fibros': 2, 'human': 5, 'autopeep': 3, 'mout': 1, 'wihen': 1, 'ucr': 1, 'restabil': 1, 'mpove': 1, 'ballot': 1, 'siad': 1, 'prepylor': 1, 'qualit': 1, 'faqilur': 1, 'xcr': 1, 'fastest': 1, 'biplanar': 1, 'dexder': 1, 'choli': 1, 'seroqeul': 1, 'interdispers': 1, 'blackberri': 2, 'ucl': 1, 'cumul': 1, 'brinch': 1, 'cultr': 1, 'transaminti': 1, 'crae': 1, 'alphabet': 2, 'revela': 1, 'malox': 1, 'addednum': 1, 'improvo': 1, 'serquel': 1, 'breakthough': 1, 'mildili': 1, 'woirsenign': 1, 'lipemia': 1, 'ceil': 1, 'msm': 1, 'modear': 1, 'sedationd': 1, 'prefus': 1, 'respind': 1, 'ptbd': 1, 'noectopi': 1, 'hm': 1, 'qweekli': 1, 'propylen': 1, 'trednign': 1, 'miniz': 1, 'monocytosi': 1, 'affer': 2, 'hypothesi': 1, 'tandem': 1, 'groggi': 1, 'siahd': 1, 'spreadsheet': 1, 'ssdi': 1, 'gurgli': 1, 'adedd': 1, 'tachycrad': 1, 'teenag': 1, 'darunavir': 1, 'unaoutput': 1, 'duploff': 1, 'incongru': 1, 'surreal': 1, 'satisfi': 3, 'mpore': 1, 'psychic': 1, 'uninterrupt': 2, 'seroqeil': 1, 'phenyephrin': 2, 'liais': 1, 'qwk': 1, 'sreat': 1, 'reliv': 1, 'bolusof': 1, 'linsinopril': 1, 'mehtoadon': 1, 'diaphgragm': 1, 'stillrequir': 1, 'quietiapin': 1, 'quetapin': 1, 'bristl': 1, 'folllw': 2, 'vavlular': 1, 'throuhg': 1, 'pmc': 1, 'snort': 2, 'bicrab': 1, 'darunovir': 1, 'tmask': 1, 'quietipin': 1, 'cholangiopathi': 1, 'solvent': 1, 'osmolar': 2, 'anit': 1, 'decruit': 1, 'freshli': 1, 'imped': 3, 'mirror': 1, 'mess': 1, 'sedation^': 1, 'appeal': 2, 'downmini': 1, 'maxiallari': 1, 'hepatotox': 2, '^^sedat': 1, 'concerntrt': 1, 'thoroughli': 2, 'kollef': 1, 'uosm': 1, 'onboard': 1, 'remina': 1, 'clother': 1, 'butopen': 1, 'fior': 1, 'emtricitabin': 1, 'predat': 1, 'bou': 1, 'hypxoem': 1, 'brnch': 1, 'orophargyng': 1, 'pharmacokinet': 1, 'cortsintropin': 1, 'inftrat': 1, 'gungal': 1, 'wahs': 1, 'thearapi': 1, 'intertwin': 1, 'attritub': 1, 'pvm': 1, 'minib': 3, 'truvada': 1, 'ethomid': 1, 'ritonivir': 1, 'phynelephrin': 1, 'pedifeed': 1, 'roadblock': 1, 'lminim': 1, 'crti': 1, 'apprecci': 1, 'lcmv': 1, 'hsould': 1, 'rhocncher': 2, 'yawn': 3, 'phtsical': 1, 'hepain': 1, 'imageri': 1, 'retd': 1, 'nape': 1, 'iniit': 1, 'overf': 1, 'coxiella': 1, 'transillumin': 1, 'anxiion': 1, 'swich': 2, 'yesterdav': 1, 'pneumobooot': 1, \"we'll\": 1, 'epeatedli': 1, 'resight': 1, 'psychotherapi': 4, 'cessast': 1, 'medazolam': 1, 'lcsw': 5, 'crical': 1, 'stoop': 2, 'antimicorbi': 1, 'dysyncroni': 1, 'rohila': 2, 'img': 1, 'parencyhyma': 1, 'seratralin': 1, 'peliv': 1, 'frighted': 1, 'orgin': 1, 'babesia': 1, 'sap': 1, 'furrow': 1, 'propogol': 1, 'brow': 1, 'methylprednisilon': 1, 'paraly': 1, 'lnare': 1, 'errythemat': 1, 'swtich': 2, 'resolved': 1, 'mulifoc': 1, 'aspergil': 1, 'meropenen': 1, 'morp': 1, 'hydrocortinson': 1, 'targetd': 1, 'mypathi': 1, 'faiilur': 1, 'gulactomannan': 1, 'murumur': 1, 'scitch': 1, 'nonerythemat': 1, 'dv': 1, 'tranamin': 1, 'weaningfrom': 1, 'forhead': 1, 'pie': 1, 'newspap': 1, 'outweight': 2, 'grandneic': 1, 'sweeti': 1, 'kneel': 1, 'shop': 2, 'expi': 1, 'tsurg': 2, 'rvat': 1, 'osbstruct': 1, 'paracardiac': 1, 'miniamlli': 1, 'volvodynia': 1, 'tachyarrhythmia': 3, 'saat': 1, 'plurit': 1, 'tessolan': 1, 'infiltrt': 1, 'anouth': 1, 'contineud': 2, 'hypomagnesemia': 2, 'prnumonia': 1, 'infliltr': 1, 'apapc': 1, 'pyogen': 1, 'ceftiaxon': 2, 'infilttr': 1, 'versioneditnotestatustemplateidautologout': 1, 'totachypnea': 1, 'fkda': 1, 'cdefghijklmnopqrstuvwxyz': 1, 'cytomegaloviru': 4, 'anbpz': 1, 'printmod': 1, 'diuriesi': 1, 'cjojqj^jaju': 1, 'kda': 1, 'gqu': 1, 'bjbj': 1, 'trpnpu': 1, 'rredden': 1, 'o^o^o': 1, 'micolozol': 1, 'ddefault': 1, 'secrtetit': 1, 'posisbl': 1, 'vvvvv': 1, 'pcompobj': 1, 'rebronch': 1, 'histor': 1, 'lotrimen': 1, 'paragraph': 1, 'closemod': 1, 'auvst': 1, 'msworddocword': 1, 'cjojqjuv^jajh': 1, 'canin': 1, 'hyperlink': 1, 'subclavain': 1, 'je': 1, 'epidosd': 1, 'cjojqj^jajnutren': 1, 'nect': 1, 'modular': 2, 'pow': 1, 'tihr': 1, 'xdlt': 1, 'abcdelmop': 1, 'omkikmkkdgd': 1, 'imd': 1, 'djwbkti': 1, 'versedt': 1, 'ijpn': 1, 'jk': 2, 'cepapim': 1, 'noteparentid': 1, 'ksim': 1, 'vn': 1, 'kdc': 1, 'vancomydin': 1, 'abcdefghij': 1, 'normalcj': 1, 'j^': 1, '^jajmhnhu': 1, \"'worddocu\": 1, 'kdm': 1, 'kdi': 1, 'jkdb': 1, 'atuhi|': 1, 'crxbcklrv|': 1, 'adipos': 1, 'clotrimizol': 1, 'hajmh': 1, 'secretit': 1, 'cjojqj^jajc': 1, 'abdb': 1, 'vtabl': 1, 'drt': 1, 'cd|b': 1, 'fmicrosoft': 1, 'ajmhsh': 1, 'jf': 1, 'aho': 1, 'galactomannin': 1, 'aui': 1, '^m': 1, 'abcdefghijklmnopqr': 1, 'fontvi': 1, 'wfrwcw': 1, 'ethmod': 1, 'vvvv': 1, \"hct'\": 1, 'tuvwxyz': 1, 'bakc': 1, 'increasd': 1, 'ahsd': 1, 'maxillay': 1, 'premolar': 1, 'tachypniec': 1, 'lpd': 1, 'promethazin': 1, 'vasodialtori': 1, 'utox': 2, 'sicker': 1, 'noroviru': 2, 'specturm': 1, 'bmv': 1, 'virul': 1, 'hemoli': 1, 'vanvo': 2, 'ki': 1, \"kartagener'\": 1, 'inversu': 1, 'dextrocardia': 1, 'kartagen': 1, 'exacerabt': 1, 'commonli': 2, 'levoscoliosi': 1, 'kkaliannan': 1, 'earliest': 2, 'topogram': 1, 'lumber': 1, 'conmsist': 1, 'mdcta': 1, 'bloom': 1, 'ventriculostomi': 3, 'arctic': 1, 'glioblastoma': 1, 'bentson': 2, 'omniflush': 2, 'posttreat': 1, 'intraves': 1, 'bevacizumab': 1, 'suspic': 1, 'gliobastoma': 1, 'hemosiderin': 2, 'pleuritc': 1, 'panlobular': 1, 'commissur': 1, 'uniqu': 1, 'rani': 1, 'bilari': 1, 'periprocedur': 1, 'despoit': 1, 'nonehmorrhag': 1, 'biloma': 1, 'cholersterol': 1, 'legonella': 1, 'peera': 1, 'outpit': 1, 'herril': 1, 'nonhogdekin': 1, 'mutter': 1, 'civil': 1, 'femalw': 1, 'varieti': 5, 'anzythromycin': 1, 'disinhibit': 1, 'opacu': 1, 'fol': 1, 'azitho': 1, 'babbl': 1, 'diffenti': 1, 'nurns': 1, 'dysmorph': 1, 'microscop': 2, 'methyl': 2, 'sputrum': 1, 'persian': 1, 'dysnchron': 1, 'laterdo': 1, 'urobiligen': 1, 'cogent': 1, 'barrir': 1, 'beep': 2, 'subsequen': 1, 'guanefisin': 1, 'mislead': 1, 'transffr': 1, 'merlgia': 1, 'exercs': 1, 'paresthetica': 1, 'anteriro': 1, 'resort': 1, 'qbedtim': 1, 'tarc': 1, 'diverticulsi': 1, 'urobilin': 1, 'avanc': 1, 'guifenasin': 1, 'parethetica': 1, 'critlcal': 1, 'bacteriruia': 1, 'boundari': 1, 'ive': 1, 'exten': 1, 'nvalid': 1, 'parasthetica': 1, 'meralgia': 1, 'afrebil': 1, 'ngativ': 1, 'spkem': 1, 'bruic': 1, 'saltin': 1, 'mucumyst': 1, 'prodict': 1, 'ifp': 1, 'cefedim': 1, 'immed': 1, 'tussiv': 1, 'farsai': 1, 'reequilibr': 2, 'cna': 1, 'calor': 2, 'tli': 1, 'guafenassin': 1, 'concord': 1, 'discontiu': 1, 'skirt': 1, 'bacteriuria': 1, 'reset': 1, 'bacturia': 3, 'abrat': 1, 'oclac': 1, 'rhonor': 1, 'otic': 1, 'ostial': 2, 'meniscectomi': 1, 'aysmmetri': 1, 'ciloxan': 1, 'timi': 1, 'rewarm': 1, 'nother': 1, 'cholangiocarcinoma': 1, 'hypervolum': 1, 'arr': 1, 'mucuou': 1, 'cotnineu': 1, 'supratherapuet': 1, 'dicontinu': 1, 'euvolum': 1, 'atttemp': 1, 'cmpathi': 1, 'pericod': 1, 'appx': 1, 'unlcear': 1, 'arthrosclerot': 1, 'metases': 1, 'quadrigemin': 1, 'pyelo': 2, 'faliur': 1, 'insepar': 1, 'intrauterin': 1, 'pregnanc': 2, 'perigest': 1, 'transvagin': 1, 'gestat': 1, 'rump': 1, 'transabdomin': 2, 'referenc': 1, 'delet': 1, 'chromosom': 1, 'gastaut': 1, 'gasteau': 1, 'sbi': 1, 'hypopkinesi': 1, 'subopitm': 1, 'transposit': 1, 'ffnding': 1, 'anteromedi': 2, 'dipo': 1, 'hollow': 1, 'inturpetur': 1, 'sax': 1, 'tempsiv': 1, 'frost': 1, 'magnesia': 5, 'sucat': 1, 'whichi': 1, 'uncoopr': 1, 'patientpenicillin': 2, 'plax': 1, 'axe': 2, 'arcu': 1, 'contantli': 1, 'annunci': 1, 'hypopho': 1, 'cefalosporin': 1, 'speka': 1, 'sensitivti': 1, 'respositon': 1, 'perinueum': 1, 'sacram': 1, 'rspons': 1, 'incessantli': 1, 'senili': 1, 'unintellig': 3, 'hctof': 1, 'henodynam': 1, 'crcl': 1, 'lasxi': 1, 'cholinesteras': 1, 'hyrdatoinwith': 1, 'hemidi': 1, 'trocar': 1, 'viii': 1, 'gun': 1, 'kkaliann': 2, 'prove': 1, 'infratentori': 1, 'onsit': 1, 'breathhold': 1, 'isoecho': 1, 'malnutritrion': 1, 'mero': 1, 'duderm': 1, 'polycyst': 1, 'overfeed': 3, 'pckd': 1, 'neprologost': 1, 'cpnsult': 1, 'autosom': 1, 'bipsi': 1, 'wopman': 1, 'postfilt': 1, 'pblm': 1, 'effusdion': 1, 'pcld': 1, 'prismas': 1, 'rescu': 1, 'vean': 1, 'tranplant': 1, 'prieiou': 1, 'prefilt': 1, 'hliv': 1, 'currentl': 1, 'periop': 3, 'immens': 1, 'linezold': 1, 'spongett': 2, 'diuoderm': 1, 'chevron': 1, 'dupplex': 1, 'ronchii': 1, 'sifnific': 1, 'likelyt': 1, 'ligthli': 1, 'mitodrin': 1, 'thoracenthesi': 1, 'uncement': 1, 'possil': 1, 'ingrow': 1, 'pacement': 1, 'teamunabel': 1, 'sectionsclip': 1, 'undisplac': 1, 'coapt': 1, 'venopunctur': 2, 'vei': 1, 'demat': 1, 'hyperlycemia': 1, 'hemodynaimc': 1, 'meningit': 2, 'enucl': 1, 'toxicolog': 3, 'diluat': 1, 'menigit': 1, 'resusci': 1, 'frequenti': 1, 'checkstool': 1, 'nucchal': 1, 'perplex': 2, 'cefeim': 1, 'explana': 1, 'withb': 1, 'calcifion': 1, 'cephalomalacia': 1, 'similiar': 1, 'astound': 1, 'huumalong': 1, 'innappri': 1, 'provigil': 1, 'biweekli': 1, 'notabley': 1, 'hypopotassemia': 1, 'wakekup': 1, 'sprinkl': 1, 'uptrend': 1, 'valproat': 1, 'myxedema': 1, 'svce': 2, 'blueberri': 1, 'topamax': 2, 'ketosi': 1, 'appeard': 1, 'dulcolox': 1, 'topimax': 1, 'triglyericd': 1, 'underfe': 2, 'crap': 1, 'uation': 1, 'starvat': 2, 'alththough': 1, 'provgigil': 1, 'manaul': 1, 'nonspec': 1, 'seqeunc': 1, 'topiram': 2, 'methylnaltraxon': 1, 'frap': 1, 'sugeri': 2, 'respiratoy': 2, 'ouch': 1, \"'re\": 1, 'caregroup': 1, 'addiiton': 1, 'partway': 1, 'subcrit': 1, 'requilibri': 1, 'lasixc': 1, 'enterocol': 1, 'confound': 1, 'equilib': 1, 'cghc': 1, 'critial': 1, 'cardioembol': 1, 'chlorosept': 1, 'ocnsid': 1, 'ato': 1, 'dilitiazem': 1, 'minimz': 1, 'dissimilar': 1, 'indistinguish': 1, 'checkbook': 1, 'dietitian': 1, 'urologist': 1, 'hsl': 1, 'dysambul': 1, 'hemorrhoidectomi': 1, 'dexm': 1, 'tchypnic': 1, 'lenezolid': 1, 'cacecth': 1, 'mwedic': 1, 'vasodialtor': 1, 'brielli': 1, 'corazepan': 1, 'peco': 1, 'slidenafil': 1, 'mull': 1, 'analyst': 1, 'cutaen': 1, 'snu': 1, 'sprint': 2, 'incorrectli': 1, 'albican': 2, 'calmin': 1, 'drrock': 1, 'colas': 1, 'ecanazol': 1, 'tedium': 1, 'abraid': 1, 'psychologist': 1, 'mgbld': 1, 'cholecystisit': 1, 'pip^^': 1, 'throracentesi': 1, 'murki': 1, 'sliglhtli': 1, 'reigimen': 1, 'trazadonea': 1, 'unbleach': 1, 'blucan': 1, 'precautionari': 1, 'propolol': 1, 'mysteri': 1, 'intiub': 1, 'aurv': 1, 'thoracantesi': 1, 'dor': 1, 'interspers': 2, 'anxiolysi': 1, 'plseval': 1, 'perrir': 1, 'editor': 1, 'impir': 1, 'previs': 2, 'manometri': 1, 'comfotali': 1, 'pessi': 1, 'electrolyet': 1, 'errand': 1, 'evaluatw': 1, 'thoracentes': 1, 'peribroncholar': 1, 'casemgmt': 1, 'prosac': 1, 'triamcinolin': 1, 'xfuse': 1, 'pnm': 1, 'sidenafil': 1, 'vom': 1, 'ethmoidali': 1, 'reexamin': 2, 'nutropho': 1, 'psychotherapist': 1, 'milkshak': 2, 'rrin': 1, 'treatabl': 2, 'freelanc': 1, 'vibrat': 2, 'radiol': 1, 'peribronchovasc': 1, 'ventilatit': 1, 'labtap': 1, 'ritilan': 1, 'jungian': 1, 'ubw': 2, 'tirtrat': 1, 'psychopharmocolog': 1, 'stoic': 1, 'barorauma': 1, 'rind': 1, 'thoracensi': 1, 'fuel': 1, 'eater': 1, 'papul': 2, 'eosinophillia': 1, 'defalt': 1, 'feedng': 1, \"cib'\": 1, 'hypoallergen': 1, 'fbmp': 1, 'psychopharm': 1, 'irrtiat': 1, 'tachyp': 1, 'lasdyt': 1, 'geodon': 1, 'txt': 1, 'multivit': 2, 'haemophilu': 1, 'entrap': 1, 'randitin': 1, 'hint': 1, 'fovea': 1, 'enterococci': 1, 'remedi': 1, 'koh': 1, 'achieiv': 1, 'amountsof': 1, 'uvolemia': 1, 'afp': 1, 'estol': 1, 'iloson': 1, 'saquinavir': 1, 'intercos': 1, 'venit': 1, 'amyotroph': 1, 'cephlic': 1, 'cenral': 1, 'devlop': 1, 'repositin': 1, 'alf': 2, 'myelolysi': 1, 'arom': 1, 'mue': 2, 'kefzol': 1, 'inquiz': 1, 'milranon': 1, 'attn': 1, 'mindo': 1, 'mepalex': 1, 'girth': 1, 'xct': 1, 'lsca': 1, 'epic': 1, 'dexter': 2, 'polyval': 2, 'upc': 2, 'task': 2, 'tympanit': 1, 'adeuat': 1, 'bradykinesia': 1, 'closureat': 1, 'ilu': 1, '^cre': 1, 'rafib': 1, 'orthonpea': 1, 'dulcoloax': 1, 'pulmoray': 1, 'indescret': 1, 'ecasa': 1, 'presurg': 1, 'tumb': 1, 'mmg': 1, 'diert': 1, 'plf': 1, 'cpbt': 1, 'createn': 1, 'explant': 1, 'understan': 1, 'chlorthiadon': 1, 'aryepiglott': 1, 'cae': 1, 'oxybutnin': 1, 'repositionpt': 1, 'agenda': 1, 'solument': 1, 'proprol': 1, 'citrobactor': 1, 'wetter': 1, 'turbin': 1, 'chlortahlidon': 1, 'systemat': 1, 'senit': 1, 'imroov': 1, 'collis': 2, 'freundii': 1, 'iam': 1, 'reistant': 1, 'augementin': 1, 'porpofol': 1, 'minimla': 1, 'arytenoid': 1, 'preferr': 1, 'coac': 1, 'rept': 1, 'fai': 1, 'parplegia': 1, 'angiti': 1, 'gentamyin': 1, 'uco': 1, 'compliact': 1, 'lasixd': 1, 'arthir': 1, 'unreport': 1, 'citrobact': 1, 'chlorthalidon': 1, 'discontd': 1, 'levph': 1, 'inexsuffal': 1, 'oxycoceon': 1, 'flouroquinolon': 1, 'loer': 1, 'prevsiou': 1, 'unclean': 1, 'schd': 2, 'ketalac': 1, 'wmay': 1, 'nephtotoxin': 1, 'deinf': 1, 'insufl': 1, 'placemen': 1, 'presidex': 1, 'andxiou': 1, 'xpeep': 1, 'bur': 1, 'binocular': 1, 'klonipen': 1, 'hctat': 1, 'addntl': 1, 'ntx': 2, 'masspro': 1, 'velopharyng': 1, 'tamilfu': 1, 'alkalod': 1, 'packyear': 1, 'beselin': 1, 'autodiurs': 1, 'floppi': 1, 'symptathet': 1, 'qafternoon': 1, 'sevret': 1, 'basesabg': 1, 'hytpertens': 1, 'akskasj': 1, 'tittrat': 1, 'turnaround': 1, 'notablw': 1, 'fluroquinolon': 2, 'reitub': 1, 'unobstruct': 1, 'llleffus': 1, 'systolicali': 1, 'suctionnig': 1, 'appeasr': 1, 'relart': 1, 'delat': 1, 'hyrdalazin': 1, 'seoncdray': 1, 'soputum': 1, 'hyperfus': 1, 'viusliz': 1, 'nafficillin': 1, 'vasculopath': 1, 'tympanet': 2, 'cmmaureen': 1, 'dsay': 1, 'descquamatin': 1, 'semiloos': 1, 'contribnut': 1, 'unalb': 1, 'pede': 1, 'accetp': 1, 'contt': 1, 'trolyt': 1, 'consisten': 1, 'eucarin': 1, 'monitoir': 1, 'exfoli': 1, 'ocmv': 1, 'respira': 1, 'eucerin': 1, 'derma': 1, 'gmmg': 1, 'hydrocerin': 1, 'conditon': 1, 'probiot': 1, 'vanomycin': 1, 'hower': 1, 'trunkal': 1, 'gmca': 1, 'intrvascular': 1, 'hemid': 1, 'aroud': 1, 'sett': 2, 'msn': 1, 'conscent': 1, 'aesthesia': 1, 'rete': 1, 'ertyhemat': 1, 'tansient': 1, 'albuminemia': 1, 'moniotir': 1, 'uncompromis': 1, 'eysterday': 1, 'infutur': 1, 'specific': 1, 'yedterday': 1, 'elec': 1, 'upop': 1, 'cefipm': 1, 'misconcept': 1, 'sto': 1, 'vential': 1, 'fenatnyl': 1, 'spontanes': 1, 'mgsulf': 1, 'tors': 1, 'lactobacillu': 3, 'howevr': 1, 'overdistent': 1, 'conern': 1, 'monitir': 1, 'mnot': 1, 'shoift': 1, 'propriat': 1, 'mirtazepin': 2, 'cacet': 1, 'fluricason': 1, 'sherriff': 1, 'lifelong': 1, 'malig': 2, 'sufflat': 1, 'colc': 1, 'serotyp': 2, 'bromchial': 1, 'eft': 1, 'exotropia': 1, 'methpr': 1, 'gstain': 1, 'grnd': 1, 'zosym': 1, 'interdigit': 2, 'largevolum': 1, 'toasess': 1, 'commensur': 2, 'amand': 1, 'idid': 1, 'methypr': 1, 'midazalam': 1, 'plau': 1, 'apprear': 1, 'npleas': 1, 'enzymat': 1, 'movementx': 1, 'multivitiamin': 1, 'broncu': 1, \"ble'\": 2, 'wheze': 1, 'kernel': 3, 'immuno': 1, 'globulin': 1, 'contramin': 1, 'decubi': 2, 'recoment': 1, 'omin': 1, 'allyvn': 1, 'flexocel': 1, 'anitcoag': 1, 'gravitiy': 1, 'meropenom': 1, 'envioron': 1, 'protacol': 1, 'math': 1, 'trigemineni': 1, 'responsiv': 1, 'multifactoir': 1, 'abluterol': 1, 'amikican': 1, 'bandermia': 1, 'shear': 1, 'nonprogress': 2, 'bias': 1, 'hemodiaylsi': 1, 'dermatom': 1, 'lymphoplasmoct': 1, 'lymphoid': 1, 'hypercalcem': 1, 'terrifi': 1, 'pleurex': 2, 'satellit': 2, 'cytogenet': 1, 'anioplasti': 1, 'paradoxu': 2, 'lympoma': 1, 'hypotn': 2, 'obliteraion': 1, 'parodoxu': 1, 'revsion': 1, 'clote': 1, 'palpitaiton': 1, 'fxnal': 1, 'persuad': 1, 'additioanlli': 1, 'slack': 1, 'renali': 1, 'tapin': 1, 'vastcular': 1, 'ddi': 1, 'sash': 1, 'reprogram': 1, 'wakler': 1, 'malt': 1, 'etio': 2, 'dbcd': 1, 'anticoaul': 1, 'levsin': 1, 'hemiparet': 1, 'rhoncouru': 1, 'incras': 1, 'jplacement': 1, 'doxylam': 1, 'signfiic': 1, 'murphi': 1, 'flexeril': 1, 'amn': 1, 'cyclobenzaprin': 1, 'hemangiomata': 1, 'refin': 3, 'mantain': 2, 'pneuonia': 1, 'gk': 1, 'acetaminoph': 1, 'bochdalek': 1, 'brachicephal': 1, 'pgr': 1, 'pulsat': 1, 'cmpi': 1, 'neisseria': 1, 'player': 1, 'poba': 1, 'neisseiria': 1, 'palvix': 1, 'sectrion': 1, 'normalwithout': 1, 'pineal': 2, 'reimburs': 1, 'dispers': 1, 'cite': 1, 'reactant': 2, \"dep't\": 1, 'babinski': 1, 'icc': 1, 'farenheit': 1, 'fould': 1, 'phenobard': 1, 'ooob': 1, 'compos': 1, 'consul': 2, 'dialect': 1, 'hindi': 1, 'ppeg': 1, 'pgtube': 1, 'usa': 2, 'contimin': 1, 'accru': 1, 'meningitidi': 1, 'meningid': 1, 'mute': 1, 'hepatotoxi': 1, 'dizepam': 1, 'prx': 1, 'stiffman': 1, 'hpyotens': 1, 'somnel': 1, 'musckl': 1, 'anaphi': 1, 'instabilti': 1, 'buproprion': 1, 'tablespoon': 2, 'tussilon': 1, 'hemopysi': 1, 'hempotysi': 1, 'african': 1, 'magarw': 2, 'pnemothorax': 1, 'intraparenchyma': 1, 'hemopneumatocyst': 1, 'concuss': 1, 'preview': 1, \"it'\": 1, 'txcf': 1, 'chadashvili': 1, 'peripartum': 1, 'shorntess': 1, 'concomitantli': 1, 'fnh': 2, 'lumpect': 1, 'falcin': 1, 'szm': 1, 'rmca': 1, 'subfalcin': 1, 'preoccupi': 1, 'trabecular': 1, 'dminant': 1, 'appearsto': 1, 'lymphomat': 1, 'ischium': 1, 'masslik': 1, 'zyprex': 1, 'lpicc': 1, 'exbuat': 1, 'periextub': 1, 'miconzol': 1, 'triat': 1, 'cot': 1, 'yogart': 1, 'dorm': 1, 'clavic': 1, 'nutritin': 1, 'taccypn': 2, 'hac': 1, 'periumbil': 2, 'adjit': 1, 'simethacon': 1, 'attebnd': 1, 'fuconazol': 1, 'lacross': 1, 'quikli': 1, 'fulconazol': 1, 'familu': 1, 'includec': 1, 'shiift': 1, 'normotensv': 1, 'obta': 1, 'bronchosocpi': 1, 'aiway': 1, 'majorli': 1, 'ablil': 1, 'celsiu': 1, 'persistec': 1, 'ceftra': 1, 'miscommun': 1, 'aformet': 1, 'maineten': 1, 'dyspnia': 1, 'backgroun': 1, 'malai': 1, 'navalbin': 1, 'cextriaxon': 1, 'pyuria': 3, 'patientlipitor': 1, 'nopain': 1, 'immunochromogen': 1, 'bipass': 1, 'hgba': 2, 'perifoc': 1, 'rjab': 2, 'transcrib': 1, 'blend': 1, 'woren': 1, 'incur': 1, 'diffiulti': 1, 'broaod': 1, 'gound': 1, 'calenadar': 1, 'mel': 1, 'hopitilaz': 1, 'explicitli': 2, 'philosophi': 1, 'ventliat': 1, 'excert': 1, 'pnuemon': 1, 'tonsillectomi': 1, 'heparinoid': 1, 'miarlex': 1, 'voluem': 1, 'gingiv': 1, 'etoposid': 1, 'ataxia': 2, 'miralex': 1, 'comensur': 1, 'suv': 2, 'anesthia': 1, 'hfm': 1, 'lethal': 1, 'losmap': 1, 'starl': 1, 'rchf': 1, 'sympathi': 1, 'withtout': 1, 'presacr': 1, 'situationclip': 1, 'intestiti': 1, 'ostia': 1, 'pnaeumomia': 1, 'ctc': 1, 'tolterodin': 1, 'intracerebellar': 1, 'optison': 3, 'periampullari': 1, 'proximmali': 1, 'oncern': 1, 'pse': 1, 'isoton': 1, 'lethari': 1, 'downhil': 1, 'udomona': 1, 'omezprazol': 1, 'asso': 1, 'nere': 1, 'setti': 1, 'seropquel': 1, 'inpneumonia': 1, 'amputaton': 1, 'carvidolol': 1, 'earlyy': 1, 'rag': 1, 'delierum': 1, \"alzheimer'\": 1, 'misestim': 1, 'grapefruit': 1, 'asm': 1, 'proteinac': 2, 'nausa': 1, 'mrcp': 2, 'repositioningof': 1, 'craniocerv': 1, 'scleroderma': 2, 'pretracha': 1, 'brodoefel': 1, 'recol': 1, 'pharaynx': 1, 'iac': 1, 'fascial': 1, 'resolu': 1, 'deveat': 1, 'drainaig': 1, 'pulmona': 1, 'ctp': 1, 'rkcb': 2, 'mtt': 1, 'precentr': 1, 'unhappi': 1, 'diconstinu': 1, 'discouragr': 1, 'aftet': 2, 'highlight': 1, 'gratitud': 1, 'defeat': 1, 'renarrow': 1, 'olgilvi': 1, 'outreach': 1, 'drag': 1, 'mbi': 1, 'consenu': 1, 'mirabili': 1, 'olgivi': 1, 'subglot': 1, 'isosourc': 2, 'meplex': 1, 'acknowledeg': 1, 'ronchouru': 1, 'pneumotosi': 1, 'aphagia': 1, 'acidem': 1, 'supratheraopeut': 1, 'combat': 1, 'worsesn': 1, 'cefe': 1, 'hisoto': 1, 'aminsom': 1, 'pericari': 1, 'itraconazol': 1, 'precut': 1, 'ramitidin': 1, 'oseltamivr': 1, 'opaticit': 1, 'commnd': 1, 'trachestomi': 1, 'elat': 1, 'rhab': 1, 'lansoprosol': 1, 'athough': 1, 'maibor': 1, 'lund': 1, 'oscil': 1, 'ccv': 1, 'difficl': 1, 'olu': 1, 'benterobact': 1, 'phelobotomi': 1, 'mold': 2, 'hypnot': 1, 'wjll': 1, 'apn': 1, 'lidaocain': 1, 'cammnd': 1, 'gauic': 1, 'incom': 1, 'keayxal': 1, 'cholecystisi': 1, 'maxillori': 1, 'aluminium': 1, 'rneal': 1, 'tunel': 1, 'circardian': 1, 'hyperphophatemia': 1, 'hypoterm': 1, 'gerontolog': 2, 'cxx': 1, 'muffl': 1, 'lidocaint': 1, 'aloud': 1, 'electromyographi': 1, 'tachypnoea': 1, 'hydrox': 1, 'patientzosyn': 1, 'consold': 1, 'cerruloplasmin': 1, 'advanbc': 1, 'encouragec': 1, 'fespiratori': 1, 'intermediari': 1, 'cholecyts': 1, 'aspirgillu': 1, 'cvhh': 1, 'resolev': 1, 'procedurel': 1, 'voicemail': 1, 'aluminum': 1, 'unspeci': 1, 'leukocyto': 1, 'speicat': 1, 'transist': 1, 'sural': 1, 'straigh': 1, 'prussur': 1, 'andmoist': 1, 'inaud': 1, 'afl': 1, 'tnd': 1, 'cavaatri': 1, 'guaifenisen': 1, 'mgd': 1, 'doff': 1, 'dermatotomi': 1, 'signiticantli': 1, 'sevalem': 1, 'insilun': 1, 'treshold': 1, 'abbx': 1, 'swine': 1, '^sedat': 1, 'influenz': 2, 'buckl': 2, 'panlobar': 1, 'bradycardi': 1, 'sensitivitei': 1, 'lansprazol': 1, 'tobro': 1, 'canc': 1, \"le'\": 1, 'denerv': 1, 'pleae': 1, 'tosay': 1, 'dff': 1, 'dexreas': 1, 'lovul': 1, 'consolidationi': 1, 'steepli': 1, 'preval': 1, 'disshelvel': 1, 'zygoma': 1, 'monasteri': 1, 'wooden': 1, 'psbo': 1, 'oversewn': 1, 'contingu': 1, 'vagotomi': 1, 'undistend': 1, 'antrectomi': 1, 'upstream': 1, 'colorect': 1, 'pelvicalic': 1, 'billroth': 1, 'bibsilar': 1, 'goo': 1, 'fisula': 1, 'dieat': 1, 'macrobid': 1, 'meniscu': 1, 'emypema': 1, 'gastroenterostomi': 1, 'oment': 1, 'prostatomegali': 1, 'uncin': 1, 'ano': 2, 'epiphren': 1, 'subconjunctiv': 1, 'ransfer': 1, 'nay': 1, 'rhilar': 1, 'nscl': 1, 'actinomyc': 1, 'pallit': 1, 'invovl': 2, 'mediastinoscopi': 2, 'pneumectomi': 1, 'metolazin': 1, 'hypofunct': 1, 'metolamin': 1, 'gvh': 1, 'ccontinu': 1, 'percentag': 1, 'queani': 1, 'paraceliac': 1, 'sessioin': 1, 'atorva': 1, 'drinkl': 1, 'cin': 1, 'celtic': 1, 'ccfree': 1, 'rxt': 1, 'rsi': 1, 'musculoskel': 1, 'ttherapi': 1, 'microadenoma': 1, 'rteam': 1, 'consultatoin': 1, 'datasheet': 1, 'monitror': 1, 'rvedp': 1, 'necessri': 1, 'agr': 1, 'bacillu': 2, 'scopolimin': 1, 'insufficieni': 1, 'angigoraphi': 1, 'queeni': 1, 'abiopsi': 1, 'awka': 1, 'monophon': 2, 'coronori': 1, 'rast': 1, 'medisastinoscopi': 1, 'iniat': 1, 'quenn': 1, 'wsasstent': 1, 'wenchbach': 1, 'dependen': 1, 'extubalt': 1, 'commmun': 1, 'testicular': 2, 'queen': 1, 'beceaus': 1, 'nsmall': 1, 'neosinephrin': 1, 'withot': 1, 'zaroxylin': 1, 'actinomycosi': 1, 'xanthalesma': 2, 'undecid': 1, 'porb': 1, 'pronosi': 1, 'ascul': 1, 'examinedv': 1, 'lmca': 1, 'nicknam': 1, 'sysolt': 1, 'pneumoectomi': 1, 'grumpi': 1, 'subconjuctiv': 1, 'iimpress': 1, 'hypotenisv': 1, 'supplment': 2, 'paciti': 1, 'llnp': 1, 'singific': 1, 'bhc': 1, 'pathophysiolog': 2, 'adentul': 1, 'tatient': 1, 'absens': 1, 'accredo': 1, 'nasophargyng': 1, 'neutrpeni': 1, 'biphenotyp': 1, 'ppo': 1, 'indewpend': 1, 'interlaminar': 1, 'caphosol': 1, 'feder': 1, 'medco': 1, 'tenabl': 1, 'poorer': 1, 'leukem': 1, 'dinitrit': 1, 'retail': 2, 'patho': 1, 'bcb': 1, 'galleria': 1, 'isodil': 1, 'fequenc': 1, 'reinfors': 1, 'gerim': 1, 'hazzard': 1, 'deficet': 1, 'vot': 1, 'echhymosi': 1, 'discsuss': 1, 'mrsg': 1, 'cefpodox': 1, 'capg': 1, 'cepifim': 1, 'grandduaght': 1, 'eicu': 1, 'demonstrat': 1, 'monintor': 1, 'vasalin': 1, 'adventit': 1, 'srcotal': 1, 'scren': 1, 'countershock': 1, 'oncot': 1, 'tavchypnea': 1, 'inihibit': 1, 'producint': 1, 'hael': 1, 'craniocaud': 2, 'nutrtit': 1, 'hypernateremia': 1, 'swap': 1, 'keen': 1, 'deseryl': 1, 'fentayl': 1, 'hypercoagu': 1, 'lgi': 1, 'ronchu': 1, 'amlopidin': 2, 'asian': 1, 'failurepleas': 1, 'fucntion': 1, 'haldolo': 1, 'nosocmi': 1, 'daqi': 1, 'nned': 1, 'rrrr': 1, 'ctm': 2, 'trendalapril': 1, 'redman': 1, 'bibpap': 1, 'roover': 1, 'dipyridimol': 1, 'follicul': 1, 'clutter': 1, 'nembut': 1, 'menisc': 1, 'dipyrimadol': 1, 'chlrohexidin': 1, 'vitk': 1, 'nonblanch': 1, 'antiphospholid': 1, 'trando': 1, 'coolig': 1, 'marriag': 1, 'carbamazapin': 1, 'antigoagul': 1, 'migran': 1, 'lgib': 1, 'pnet': 1, 'intabut': 1, 'parietooccipit': 1, 'evalyu': 1, 'piic': 1, 'rexray': 1, 'atx': 1, 'addiion': 1, 'neuroectoderm': 1, 'neeb': 1, 'audbil': 1, 'foolowup': 1, 'trachael': 1, 'racim': 1, 'tnding': 1, 'circumfirenti': 1, 'nonemerg': 1, 'ureterocel': 1, 'underdistent': 1, 'multisept': 1, 'phareng': 1, 'resperidon': 1, 'rhnochor': 1, 'worseniong': 1, 'benztropin': 1, 'bronchioalveolar': 2, 'scallop': 1, 'risperdon': 1, 'neuropsych': 1, 'diffuss': 1, 'mediasin': 1, 'orer': 1, 'weigt': 1, 'intuib': 1, 'tachypnaec': 1, 'soulmedrol': 1, 'azithromcin': 1, 'hypovelem': 1, 'deyhdrat': 1, 'lunesta': 1, 'maintianedencourag': 1, 'superolater': 1, 'periprosthet': 1, 'dypena': 1, 'macronodular': 1, 'porto': 1, 'artial': 1, 'mammari': 1, 'atret': 1, 'immunocpmpromis': 1, 'periappendic': 1, 'hasa': 1, 'edmea': 1, 'pneoumonia': 1, 'spasma': 1, 'dydrat': 1, 'discetomi': 1, 'lugn': 1, 'ceasarin': 1, 'leukesteras': 1, 'pannel': 1, 'anerusym': 1, 'methocarbamol': 1, 'dominantli': 1, 'liquefi': 1, 'echinococc': 1, 'mxak': 1, 'parot': 2, 'ketonazol': 1, 'assumo': 1, 'cashier': 2, 'periscrot': 1, 'acanthosi': 1, 'nigrican': 1, 'alchohol': 1, 'witdraw': 1, 'maggot': 1, 'incipi': 1, 'recipt': 2, 'ateletasi': 1, 'rvot': 1, 'factt': 1, 'ranch': 1, 'chearlead': 1, 'anxierti': 1, 'collectioin': 1, 'wqean': 1, 'lej': 1, 'ertapenem': 2, 'nauseu': 1, 'consilid': 1, 'afebrilex': 1, 'intracarda': 1, 'iivi': 1, 'tpp': 1, 'anticardiolipin': 1, 'stiumul': 1, 'microsheath': 1, 'dorsiflex': 1, 'sell': 1, 'diomox': 1, 'fallot': 1, 'tetrolog': 1, 'tetralog': 1, 'apl': 1, 'crisper': 1, 'swaloow': 1, 'ptpexp': 1, 'spontatn': 1, 'gicven': 1, 'gangeren': 1, 'ventricukar': 1, 'testi': 1, 'epididymi': 1, \"fournier'\": 1, 'monophas': 1, 'fournier': 1, 'cfa': 2, 'hydrocel': 1, 'gliosi': 1, 'barrocat': 1, 'fronm': 1, 'shotti': 1, 'pleasnatli': 1, 'fuzzi': 1, 'absecess': 1, 'hyperesthesia': 1, 'rosari': 2, 'velcro': 1, 'neckles': 1, 'claritin': 1, 'pendent': 1, 'admssion': 1, 'perserv': 1, 'vancomyin': 1, 'anterolatrer': 1, 'gulp': 1, 'suspicisi': 1, 'terrigori': 1, 'zoraxolyn': 1, 'lhr': 1, 'osteosrthr': 1, 'hospitalist': 1, 'beed': 1, 'mph': 1, 'nexium': 1, 'script': 1, 'bilirubinemia': 1, 'valvulopathi': 1, 'lingua': 1, 'nonpurul': 1, 'aifb': 1, 'aifib': 1, 'acetozolamid': 1, 'narcosi': 1, 'seborrh': 1, 'hel': 1, 'ethylsuccin': 1, 'macrodantin': 1, 'mistook': 1, 'sebhorr': 1, 'respiraotyr': 1, 'nasaltrach': 1, 'lim': 2, 'encelopathi': 1, 'lyric': 1, 'ifptmakesit': 1, 'hemorrhioid': 1, 'actonel': 2, 'confirmatori': 1, 'simpathet': 1, 'identili': 1, 'paracardiaocentesi': 1, 'recordsibandron': 1, 'miscovascular': 1, 'pseudohyperkalemia': 1, 'vaginoplasti': 1, 'palliatv': 1, 'tohomethat': 1, 'andhousestaff': 1, 'aldosteron': 1, 'pericaridi': 1, 'leukemi': 1, 'tinnitu': 1, 'unamen': 1, 'ptand': 1, 'renin': 1, 'risedron': 1, 'nonenlarg': 1, 'dyssynchroni': 1, 'escherichia': 1, 'balit': 1, 'emigr': 1, 'lacuna': 1, 'mandabl': 1, 'lfurosemid': 1, 'neuropsychiatr': 1, 'german': 1, 'coin': 1, 'multiinfact': 1, 'overshadow': 1, 'gerentolog': 1, 'unfinish': 1, 'ascult': 1, 'economist': 1, 'wwii': 1, 'youth': 1, 'republ': 1, 'rtigid': 1, 'capitol': 1, 'fromprevi': 1, 'traceabl': 1, 'fft': 1, 'transbronch': 1, 'ttransit': 1, 'epicent': 1, 'ppiv': 1, 'silica': 1, 'aor': 1, 'ebu': 1, 'incldu': 1, 'transbronchi': 1, 'reread': 1, 'madiastinl': 1, 'odonyphagia': 1, 'retak': 1, 'histolog': 1, 'dexemedetomidin': 1, 'petit': 1, 'quadriparesi': 1, 'azirthomycin': 1, 'carbamazepin': 1, 'mam': 1, 'auop': 2, 'nuchal': 1, 'percipat': 1, 'diganosedmr': 1, 'mupirocin': 1, 'craclk': 1, 'pneumovaccin': 1, 'initr': 1, 'increasedto': 1, 'significnat': 1, 'historyof': 1, 'irregluari': 1, 'contol': 1, 'liquidsand': 1, 'previosli': 1, 'periord': 1, 'dietet': 1, 'trasud': 1, 'shor': 1, 'underfeed': 1, 'venlafaxin': 2, 'depressoin': 1, 'hemplegia': 1, 'semc': 1, 'inconsistn': 1, 'urinanalysi': 1, 'thinf': 1, 'resusc': 1, 'casemanag': 1, 'helmet': 1, 'sqcca': 1, 'radat': 1, 'sqqca': 1, 'larnyng': 1, \"bp'\": 1, 'jointli': 1, 'emal': 1, 'hunch': 1, \"crohn'\": 1, 'atorv': 1, 'phenothiazin': 1, 'wetread': 1, 'ganapentin': 1, 'synergist': 1, 'pretest': 1, 'zyphoid': 1, 'worriesom': 1, 'latanoprost': 2, 'adomin': 1, 'dyspena': 1, 'tachacardia': 1, 'juxta': 1, 'tac': 1, 'hepatosteatosi': 1, 'hypoenhanc': 1, 'pancolon': 1, 'eassess': 1, 'acromimum': 1, 'ahaustr': 1, 'hydroureteronephrosi': 1, 'toungu': 1, 'coal': 1, 'mine': 1, 'spalid': 1, 'aspart': 1, 'otherday': 1, 'parainfluenz': 1, 'resterd': 1, 'reinstat': 1, 'satbl': 1, 'ly': 1, 'tracheobronchomalacea': 1, 'ofoadm': 1, 'collasp': 1, 'maiinstem': 1, 'procrit': 1, 'silicon': 1, 'sitagliptin': 1, 'dash': 1, 'compartment': 1, 'kavitha': 1, 'potient': 1, 'paramethadion': 1, 'procliv': 1, 'urimet': 1, 'xanthoma': 2, 'antiocoagul': 1, 'receivedo': 1, 'llb': 1, 'triger': 1, 'trimethadion': 1, 'barbitur': 1, 'hydantoin': 1, 'outright': 1, 'mysolin': 1, 'phenacemid': 1, 'cystoscop': 1, 'superirli': 1, 'tropn': 1, 'enteroccocu': 1, 'follwup': 1, 'pericyst': 1, 'iliav': 1, 'omprov': 1, 'dillit': 1, 'exerc': 1, 'osit': 1, 'asbcess': 1, 'subcultur': 1, 'clnical': 1, 'ariway': 1, 'fusiform': 2, 'thett': 1, 'oxcodon': 1, 'conjug': 1, \"rec'd\": 1, 'cellut': 1, 'reinfarct': 1, 'lafb': 1, 'datng': 1, 'hyptertens': 1, 'klmn': 1, 'abrubtli': 1, 'estrogen': 1, 'gapapentin': 1, 'apspir': 1, 'cauter': 1, 'incostistantli': 1, 'dipyridamol': 2, 'arrea': 1, 'envolv': 1, 'tetrofosmin': 1, 'dieulafoy': 1, 'takutsubo': 1, 'ligamentum': 1, 'tasp': 1, 'flavum': 1, 'autosct': 1, 'poto': 1, 'flurazepam': 1, 'steep': 1, 'quantif': 1, 'wrosen': 1, 'orthastat': 1, 'anthracot': 1, 'hashimoto': 1, 'mantl': 1, 'sihgnific': 1, 'dvtt': 1, 'pautosct': 1, 'sctp': 1, 'edisyl': 1, 'thug': 1, 'analogu': 1, 'supradiaphragmat': 1, 'hayfev': 1, 'dalman': 1, \"hodgkin'\": 1, 'inspiss': 1, 'unrecogn': 2, 'rsvg': 1, 'hemodyam': 1, 'omc': 1, 'thrombyocytopenia': 1, 'streptococci': 1, 'tigecyclin': 2, 'etest': 1, 'insular': 1, 'kleibsella': 2, 'cvd': 1, 'staphylococcu': 1, 'rtight': 1, 'intuab': 2, 'lobotomi': 1, 'sti': 1, 'carbapenas': 1, \"cva'\": 1, 'carbapenemas': 1, 'throthi': 1, 'enterobacteriacea': 1, 'subaort': 1, 'choana': 1, 'cloget': 1, 'thoracoplasi': 1, 'ossicl': 1, 'inferoposterolater': 1, 'suggetsin': 1, 'acom': 1, 'annn': 1, 'nitrogen': 1, 'aspergilloma': 1, 'linguist': 1, 'chronicallyt': 1, 'stenotrophomona': 1, 'mde': 1, 'blame': 1, 'stenothrophomona': 1, 'recspleas': 1, 'hemodyamn': 1, 'tmpsmx': 1, 'acetylcystien': 1, 'thjicken': 1, 'lopinavir': 1, 'anascarca': 1, 'tuirn': 1, 'knw': 1, 'cytospin': 1, 'bic': 1, 'tatoo': 1, 'mitochondri': 1, 'paracenthesi': 1, 'drowsey': 1, 'conduc': 1, 'parascentesi': 1, 'intraadomin': 1, 'asciet': 1, 'carnitin': 1, 'metaboli': 1, 'kkxa': 1, 'ctapb': 1, 'nevirapin': 1, 'sodabicarb': 1, 'boewl': 1, 'intrafissur': 1, 'thymu': 1, 'ocp': 1, 'noteworthi': 2, 'dayquil': 1, 'sclear': 1, 'cichect': 1, 'hbr': 1, 'antocoagul': 1, 'retenion': 1, 'cantanes': 1, 'dextromethorphan': 2, 'hypocontractil': 1, 'cozar': 1, 'dentistri': 1, 'opth': 1, 'exeryt': 1, 'prostati': 1, 'underpneumat': 1, 'forsmal': 1, 'contribtori': 1, 'maxilo': 1, 'signirficantli': 1, 'meropenenm': 1, 'paramt': 1, 'axiallyacquir': 1, 'likelyb': 1, 'tge': 1, 'lene': 1, 'cheng': 1, 'beief': 1, 'benaprotien': 1, 'heoarin': 1, 'peridont': 1, 'suspict': 1, 'rhionch': 1, 'whim': 1, 'cxed': 1, 'patl': 1, 'driop': 1, 'peridontatl': 1, 'fider': 1, 'paremet': 1, 'currenli': 1, 'sucrulf': 1, 'petrolatum': 1, 'toot': 1, 'exculud': 1, 'pbt': 1, 'adjus': 1, 'accucheck': 2, 'recombin': 1, 'counmadin': 1, 'secteion': 1, 'periodont': 1, 'surroundiong': 1, 'throacic': 1, 'sfyb': 1, 'roe': 1, 'sunu': 1, 'shft': 1, 'coumdin': 1, 'awaitte': 1, 'gtt^': 1, 'unconvinc': 1, 'fibrmyalgia': 1, 'fsh': 1, 'ondesetron': 1, 'prolactin': 1, 'gasteoperesi': 1, 'levealbutenol': 1, 'coniz': 1, 'nunintent': 1, 'predinison': 1, 'lossd': 1, 'excoriati': 1, 'bebrid': 1, 'intraadbomin': 1, 'oxytoca': 1, 'opact': 1, 'felxis': 1, 'gujarati': 1, 'fragili': 1, 'isoenzym': 1, 'anisoci': 1, 'cement': 1, 'macroci': 1, 'oxgen': 1, 'methacryl': 1, 'hypochr': 1, 'airwi': 1, 'pltclmp': 1, 'exertionsbp': 1, 'beath': 1, 'lovemox': 1, 'mresult': 1, 'likekli': 1, 'ezetimib': 1, 'wbxrt': 1, 'enarterctomi': 1, 'ischiorect': 1, 'afiib': 1, 'nasuea': 1, 'appoprio': 1, 'hmed': 1, 'avert': 1, 'afteroon': 1, 'challebg': 1, 'che': 1, 'castgr': 1, 'afar': 1, 'tufe': 1, 'kpo': 1, 'aranesp': 1, 'strongyloid': 1, 'vassopress': 1, 'eosinphil': 1, 'levitiracetam': 1, 'dopler': 1, 'vasopress': 1, 'reanl': 1, 'preripher': 1, 'paracardi': 1, 'counterproduct': 1, 'forego': 1, 'apg': 1, 'thoarcentesi': 1, 'antral': 1, 'plesaent': 1, 'nerphrot': 1, 'cartid': 1, 'catert': 1, 'scarbosa': 1, 'nephrit': 1, 'cretainin': 1, 'seqeuala': 1, 'lens': 1, 'swith': 1, 'vasodilit': 1, 'tand': 1, 'transan': 1, 'piccin': 1, 'guiaac': 1, 'endotoxin': 1, 'prokaryot': 1, 'tygecyclin': 1, 'inhibitori': 1, 'dyeiodin': 1, 'precautionst': 1, 'eratosi': 1, 'adequaut': 1, 'neropenum': 1, 'avn': 2, 'telphon': 1, 'cephalexinunknown': 1, 'vasoopressor': 1, 'actin': 2, 'systolo': 1, 'synthesi': 1, 'insta': 1, 'forarm': 1, 'suggesst': 1, 'sensitiviti': 1, 'saber': 1, 'purpura': 1, 'earlob': 1, 'corus': 1, 'vancomycindiarrhea': 1, 'senil': 1, 'flutison': 1, 'evidenv': 1, 'ontiotropium': 1, 'lipopolysaccharid': 1, 'upload': 1, 'elevat': 1, 'lampectomi': 1, 'hypothairoid': 1, 'preoccup': 1, 'hypothes': 1, 'begain': 1, 'herpez': 1, \"'overdos\": 1, 'duoerm': 1, 'skeletel': 1, 'rqmnt': 1, 'cleanout': 1, 'recompt': 1, 'neosyneph': 1, 'recomp': 1, 'scopolomin': 1, 'fibersoourc': 1, 'nimenda': 1, 'cheyennn': 1, 'honeymoon': 1, 'heroic': 1, 'fentanli': 1, 'venitlatori': 1, 'tbd': 1, 'techinc': 1, 'pules': 1, 'slowl': 1, 'demonstart': 1, 'symptomatolog': 1, 'innumber': 1, 'outing': 1, 'esophagel': 1, 'chron': 2, 'segmetn': 1, 'contracta': 1, 'beclomethason': 1, 'ccath': 1, 'polar': 1, 'guaifenasin': 1, 'oozi': 1, 'thombosi': 1, 'neostigmin': 1, 'advir': 2, '^pa': 1, 'rgurgit': 1, 'marit': 1, 'carotidendarterectomi': 1, 'llr': 1, 'paient': 1, '^pvc': 1, 'plasti': 1, 'cuplet': 1, 'cod': 1, 'rumbl': 1, 'replaced': 1, 'carvedi': 1, 'thearapeut': 1, 'pulsati': 1, 'valvuloplasti': 1, 'exagerr': 1, 'dipropion': 1, 'duresi': 1, 'claudic': 2, 'thear': 1, 'firefight': 1, 'detali': 1, 'evh': 1, 'swann': 1, 'dacron': 1, 'recuss': 1, 'perfect': 1, 'hajdu': 1, 'pdf': 1, 'supracondylar': 1, 'ongong': 1, 'consitist': 1, 'proton': 1, 'kyphoscoloiosi': 1, 'multiplan': 1, 'cartridg': 1, 'grascil': 1, 'tather': 1, 'resectionand': 1, 'nnon': 1, 'prmari': 1, 'pantoiprazol': 1, 'peniciliin': 1, 'psueudomona': 1, 'msec': 1, 'presentdu': 1, 'upj': 1, 'provok': 1, 'xcc': 1, 'acidifi': 1, 'neurmuscular': 1, 'senstit': 1, 'traheotomi': 1, 'isp': 1, 'lk': 1, 'abhorr': 1, 'dysfx': 1, 'attampt': 1, 'gsurg': 1, 'san': 1, 'txfer': 1, \"peg'\": 1, 'blockshortli': 1, 'interventionl': 1, 'hebreb': 2, 'eupnic': 1, 'hoverjack': 1, 'ealuat': 1, 'hovermatt': 1, 'ascept': 1, 'psuedamona': 1, 'airpal': 1, 'pseuomona': 1, 'onccur': 1, 'pylenephr': 1, 'sreen': 1, 'ebsl': 1, 'levothyrox': 1, 'inbteween': 1, 'cpqp': 1, 'roght': 1, 'bradyarrhythmia': 1, 'nightim': 1, 'thck': 1, 'thromboemboli': 1, 'nonurg': 2, 'cogwheel': 1, 'hemidiaghragm': 1, 'moonitor': 1, 'caleld': 1, 'infranod': 1, 'miltifacori': 1, 'pseudoon': 1, 'aftermn': 1, 'judgment': 1, 'aberrantli': 1, 'nephrosi': 1, 'pyramid': 1, 'calic': 1, 'follect': 1, 'subment': 1, \"still'\": 1, 'atrorv': 1, 'slippag': 1, 'receivingiv': 1, 'meropemem': 1, 'mycon': 1, 'venolfax': 1, 'bronchiectai': 1, 'attrov': 1, 'trifluor': 1, 'scr': 1, 'diaghram': 1, 'trachealbronchomalacia': 1, 'montgumeri': 1, 'omep': 1, 'azithromcyin': 1, 'omeprozol': 1, 'vcd': 1, 'methacholin': 1, 'glotti': 1, 'videostriposcopi': 1, 'mainstay': 1, 'stroboscopi': 1, 'guaifensin': 1, 'swim': 1, 'hypernatremiawith': 1, 'pexi': 1, 'aspiri': 1, 'eavluat': 1, 'slig': 1, 'chokehold': 1, 'depres': 1, 'career': 1, 'infet': 1, 'saf': 1, 'unbchang': 1, 'shx': 1, 'hypoplasia': 1, 'llow': 1, 'presentw': 1, 'periphr': 1, 'antur': 1, 'palin': 1, 'catter': 1, 'physicianclip': 1, 'imppress': 1, 'femora': 1, 'tenosi': 1, 'hecerebr': 1, 'positiona': 1, 'slg': 1, 'hydrothrorax': 1, 'demeylin': 1, 'amtter': 1, 'resolvi': 1, 'decreeas': 1, 'bronchspasm': 1, 'cultprit': 1, 'dao': 1, 'attd': 1, 'squirmi': 1, 'anco': 1, 'failiur': 1, 'evant': 1, 'exacurb': 1, 'nameda': 1, 'niacin': 1, 'vitreou': 1, 'kayexil': 1, 'fornic': 1, 'arousib': 1, 'tamoxifen': 1, 'cehst': 1, 'handwritten': 1, 'keratos': 1, 'nitrglycerin': 1, 'conrol': 1, 'rehba': 1, 'achalasia': 1, 'achalsia': 1, 'produt': 1, 'lunvch': 1, 'botox': 1, 'orpharyng': 1, 'agt': 1, 'acinar': 1, 'rln': 1, 'overlod': 1, 'shelf': 1, 'prespil': 1, 'sublobar': 1, 'embarrass': 1, 'virtu': 1, 'meadiastinoscopi': 1, 'aereat': 1, 'mandira': 1, 'erythroderm': 1, 'fungoid': 1, 'pneumocephalu': 1, 'osteoarthtr': 1, 'mycosi': 1, 'rxra': 1, 'neurocheck': 1, 'ctcl': 1, 'neurologici': 1, 'angioedem': 1, 'angioinvas': 1, 'pcabgx': 1, 'withcvl': 1, 'seroma': 1, 'enchanc': 1, 'pulldown': 1, 'trochanter': 1, 'interlock': 1, 'superifci': 1, 'laparascop': 1, 'etz': 1, 'perivarcular': 1, 'aponeurosi': 1, 'tailur': 1, 'cavieti': 1, 'intraperitonea': 1, 'antierior': 1, 'eed': 1, 'latherg': 1, 'hypercholestremia': 1, 'muli': 1, 'chonz': 1, 'sarum': 1, 'underdistens': 1, 'extrus': 1, 'fiberspourc': 1, 'gwilliam': 1, 'disarray': 1, 'spigelian': 1, 'chornz': 1, \"lemiere'\": 1, 'colpo': 1, 'mucro': 1, 'somonol': 1, 'epidu': 1, 'extubu': 1, 'transduct': 1, 'garden': 1, 'gad': 1, 'accomani': 1, 'anarob': 1, 'transuc': 1, 'headacn': 1, 'anaphlyaxi': 1, 'colposcopi': 1, 'thankyou': 1, 'cofluent': 1, 'immunofluoresc': 1, 'osaltamivir': 1, 'mexican': 1, 'reportsh': 1, 'excus': 1, 'substranti': 1, 'discon': 1, 'monitort': 1, 'infer': 1, 'pateitn': 1, 'encouagr': 1, 'apperenli': 1, 'nasti': 1, 'aphonia': 1, 'reddent': 1, 'nasatrach': 1, 'multiofoc': 1, 'hmm': 1, 'repetet': 1, 'flagylcefipim': 1, 'berath': 1, 'flucauat': 1, 'couh': 1, 'qshift': 1, 'ronchrou': 1, 'fluctauat': 1}}\n"
     ]
    }
   ],
   "source": [
    "print(note_appearance_counter)"
   ]
  },
  {
   "cell_type": "code",
   "execution_count": null,
   "metadata": {},
   "outputs": [],
   "source": []
  },
  {
   "cell_type": "code",
   "execution_count": null,
   "metadata": {},
   "outputs": [],
   "source": []
  },
  {
   "cell_type": "code",
   "execution_count": 39,
   "metadata": {},
   "outputs": [],
   "source": [
    "# # get hyper-paramters n_fold and threshold from user input\n",
    "n_fold = float(3)\n",
    "threshold = float(0.02)\n",
    "\n",
    "frequent_word_lists = {}\n",
    "factor = {}"
   ]
  },
  {
   "cell_type": "code",
   "execution_count": 40,
   "metadata": {},
   "outputs": [
    {
     "name": "stdout",
     "output_type": "stream",
     "text": [
      "pneumonia_dead has 11678 unique words!\n",
      "pneumonia_alive has 22572 unique words!\n",
      "finished making frequent words list for pneumonia_alive\n"
     ]
    }
   ],
   "source": [
    "\"\"\"function description:\n",
    "for each disease in note_appearance_counter\n",
    "    1. checks whether a word in disease file is frequent(frequency standard as defined by factor, n_fold, and threshold)\n",
    "    2. adds to frequent_word_list\n",
    "\"\"\"\n",
    "\n",
    "# def find_frequent_word(note_appearance_counter, frequent_word_lists, number_of_notes, factor, n_fold, threshold):\n",
    "\n",
    "# calculate normalizing factor for each disease\n",
    "note_sum = 0\n",
    "\n",
    "# Count from two labels\n",
    "for disease in number_of_notes:\n",
    "    note_sum += float(number_of_notes[disease])\n",
    "    \n",
    "for disease in number_of_notes:\n",
    "    factor[disease] = number_of_notes[disease] / note_sum\n",
    "\n",
    "# determine frequent word for each disease file\n",
    "for disease in note_appearance_counter:\n",
    "    frequent_word_lists[disease] = []\n",
    "\n",
    "    print(disease + \" has \" + str(len(note_appearance_counter[disease])) + \" unique words!\")\n",
    "\n",
    "    for word in note_appearance_counter[disease]:\n",
    "        \n",
    "        freq_check = True\n",
    "        for check_disease in note_appearance_counter:\n",
    "            \n",
    "            if not disease == check_disease:\n",
    "                if word in note_appearance_counter[check_disease]:\n",
    "                    if not (note_appearance_counter[disease][word] / note_appearance_counter[check_disease][word] / factor[disease] * factor[check_disease] > n_fold \\\n",
    "                        and note_appearance_counter[disease][word] > (number_of_notes[disease] * threshold)):\n",
    "\n",
    "                        freq_check = False\n",
    "                        break\n",
    "\n",
    "                else:\n",
    "                    if not (note_appearance_counter[disease][word] > n_fold and note_appearance_counter[disease][word] > (number_of_notes[disease] * threshold)):\n",
    "                        freq_check = False\n",
    "                        break\n",
    "        if freq_check:\n",
    "            frequent_word_lists[disease].append((word))\n",
    "            # Create a tuple of word and its count\n",
    "#             frequent_word_lists[disease].append((word, note_appearance_counter[disease][word]))\n",
    "\n",
    "        \n",
    "\n",
    "print(\"finished making frequent words list for \" + disease)"
   ]
  },
  {
   "cell_type": "code",
   "execution_count": 41,
   "metadata": {
    "scrolled": true
   },
   "outputs": [
    {
     "name": "stdout",
     "output_type": "stream",
     "text": [
      "1419.0\n",
      "{'pneumonia_dead': 0.17758985200845667, 'pneumonia_alive': 0.8224101479915433}\n"
     ]
    }
   ],
   "source": [
    "print(note_sum)\n",
    "print(factor)\n",
    "\n",
    "# number of notes\n",
    "# 58029.0\n",
    "# {'pneumonia_dead': 0.2049837150390322, 'pneumonia_alive': 0.7950162849609678}"
   ]
  },
  {
   "cell_type": "code",
   "execution_count": 42,
   "metadata": {
    "scrolled": true
   },
   "outputs": [
    {
     "name": "stdout",
     "output_type": "stream",
     "text": [
      "187\n",
      "112\n"
     ]
    }
   ],
   "source": [
    "print(len(frequent_word_lists['pneumonia_dead']))\n",
    "print(len(frequent_word_lists['pneumonia_alive']))"
   ]
  },
  {
   "cell_type": "code",
   "execution_count": 43,
   "metadata": {
    "scrolled": true
   },
   "outputs": [
    {
     "name": "stdout",
     "output_type": "stream",
     "text": [
      "{'pneumonia_dead': ['hypothermia', 'autopeep', 'clinician', 'refractori', 'suffer', 'cpr', 'recruit', 'clergi', 'mottl', 'paralyt', 'profound', 'norepinephrin', 'arrang', 'funer', 'bicarbon', 'vasopressin', 'expir', 'death', 'pea', 'unrespons', 'hypercapn', 'dic', 'pcv', 'azotemia', 'anur', 'phenylephrin', 'arrest', 'pinpoint', 'gum', 'sluggish', 'nonpurpos', 'dnr', 'dk', 'dni', 'cmo', 'levoph', 'mso', 'wish', 'hypotent', 'grim', 'institut', 'option', 'purpl', 'dead', 'pronounc', 'prognosi', 'priest', 'centimet', 'agreement', 'bye', 'asystol', 'mortem', 'acv', 'life', 'synch', 'cathol', 'duski', 'peac', 'sync', 'surviv', 'cvvhd', 'crrt', 'suppport', 'pfr', 'deliv', 'seriou', 'agon', 'pulseless', 'vasopressor', 'hemothorax', 'cvvhdf', 'acidot', 'rusti', 'corneal', 'cvvh', 'neosynephrin', 'vtach', 'defibril', 'deterior', 'levof', 'ffp', 'ethic', 'brb', 'lc', 'pitressin', 'maroon', 'cyanot', 'declin', 'hypotherm', 'lw', 'hugger', 'pray', 'elimin', 'among', 'bair', 'unequ', 'mtg', 'motil', 'nahco', 'neo', 'zero', 'morgu', 'triadyn', 'town', 'bairhugg', 'discoordin', 'circuit', 'syring', 'paco', 'bank', 'rabbi', 'absorb', 'prayer', 'escal', 'autopsi', \"tf'ing\", 'sml', 'norepi', 'hunger', 'unstabl', 'mind', 'hung', 'dopamin', 'polici', 'intiat', 'palli', 'moan', 'cantones', 'readdress', 'anuria', 'dobutamin', 'underneath', 'gurgl', 'hospic', 'oncologist', 'platlet', 'platelet', 'quadrent', 'gut', 'core', 'oligur', 'griev', 'cardiovert', 'cisatracurium', 'twitch', 'plat', 'crt', 'liw', 'sacrament', 'grave', 'heroic', 'occupi', 'struggl', 'opinion', 'icter', 'gentamycin', 'themselv', 'fibrinogen', 'tubular', 'pplat', 'meaning', 'ardsnet', 'sibl', 'vasoconstrict', 'gasp', 'hook', 'tran', 'realist', 'aricept', 'analgesia', 'dorsal', 'declar', 'prioriti', 'dysynchron', 'sluggishli', 'ipf', 'goodby', 'harm', 'petechia', 'hemodynim', 'underpenetr', 'ggt', 'led', 'pastor', 'chlorhex', 'inde', 'abnl'], 'pneumonia_alive': ['oob', 'ambien', 'gait', 'chair', 'commod', 'pleasant', 'ambul', 'splint', 'rm', 'supervis', 'lift', 'puff', 'breakfast', 'lat', 'db', 'aox', 'lpm', 'cup', 'foci', 'venti', 'hyperintens', 'laryng', 'chip', 'jejunum', 'plate', 'qtc', 'jewelri', 'cloth', 'cash', 'money', 'wallet', 'signatur', 'dz', 'pharyng', 'zyprexa', 'redirect', 'behavior', 'hilum', 'align', 'rehabilit', 'lotion', 'macu', 'stair', 'bottl', 'probe', 'muir', 'locomot', 'passi', 'rpe', 'unassist', 'scab', 'mellitu', 'distanc', 'cg', 'motor', 'mrg', 'deflat', 'ntnd', 'olanzapin', 'captopril', 'scar', 'im', 'gadolinium', 'pneumococc', 'magnevist', 'osa', 'forc', 'spiromet', 'incent', 'barium', 'postop', 'seroquel', 'video', 'sensat', 'nectar', 'asthma', 'sweat', 'amb', 'pivot', 'lightheaded', 'dizzi', 'wfl', 'readmit', 'endur', 'bromid', 'ctx', 'angri', 'paperwork', 'freeli', 'rigor', 'solut', 'diaphoresi', 'ppd', 'omeprazol', 'silent', 'divis', 'pneumothorac', 'gabapentin', 'aaox', 'habitu', 'spirit', 'vallecula', 'homogen', 'unavail', 'fatti', 'hive', 'tdi', 'echocardiogram', 'cdb', 'seat', 'videofluoroscopi', 'slice']}\n"
     ]
    }
   ],
   "source": [
    "print(frequent_word_lists)"
   ]
  },
  {
   "cell_type": "markdown",
   "metadata": {},
   "source": [
    "### 2. Co-occurrence generation\n",
    "FP-growth"
   ]
  },
  {
   "cell_type": "code",
   "execution_count": 44,
   "metadata": {},
   "outputs": [],
   "source": [
    "FREQUENT_WORD_LIST = frequent_word_lists['pneumonia_dead'] + frequent_word_lists['pneumonia_alive']"
   ]
  },
  {
   "cell_type": "code",
   "execution_count": 45,
   "metadata": {
    "scrolled": true
   },
   "outputs": [
    {
     "name": "stdout",
     "output_type": "stream",
     "text": [
      "\n",
      "word dictionary created!\n",
      "\n",
      "{'hypothermia': 1, 'autopeep': 2, 'clinician': 3, 'refractori': 4, 'suffer': 5, 'cpr': 6, 'recruit': 7, 'clergi': 8, 'mottl': 9, 'paralyt': 10, 'profound': 11, 'norepinephrin': 12, 'arrang': 13, 'funer': 14, 'bicarbon': 15, 'vasopressin': 16, 'expir': 17, 'death': 18, 'pea': 19, 'unrespon': 20, 'hypercapn': 21, 'dic': 22, 'pcv': 23, 'azotemia': 24, 'anur': 25, 'phenylephrin': 26, 'arrest': 27, 'pinpoint': 28, 'gum': 29, 'sluggish': 30, 'nonpurpo': 31, 'dnr': 32, 'dk': 33, 'dni': 34, 'cmo': 35, 'levoph': 36, 'mso': 37, 'wish': 38, 'hypot': 39, 'grim': 40, 'institut': 41, 'option': 42, 'purpl': 43, 'dead': 44, 'pronounc': 45, 'prognosi': 46, 'priest': 47, 'centimet': 48, 'agreement': 49, 'bye': 50, 'asystol': 51, 'mortem': 52, 'acv': 53, 'life': 54, 'synch': 55, 'cathol': 56, 'duski': 57, 'peac': 58, 'sync': 59, 'surviv': 60, 'cvvhd': 61, 'crrt': 62, 'suppport': 63, 'pfr': 64, 'deliv': 65, 'seriou': 66, 'agon': 67, 'pulseless': 68, 'vasopressor': 69, 'hemothorax': 70, 'cvvhdf': 71, 'acidot': 72, 'rusti': 73, 'corneal': 74, 'cvvh': 75, 'neosynephrin': 76, 'vtach': 77, 'defibril': 78, 'deterior': 79, 'levof': 80, 'ffp': 81, 'ethic': 82, 'brb': 83, 'lc': 84, 'pitressin': 85, 'maroon': 86, 'cyanot': 87, 'declin': 88, 'hypotherm': 89, 'lw': 90, 'hugger': 91, 'pray': 92, 'elimin': 93, 'among': 94, 'bair': 95, 'unequ': 96, 'mtg': 97, 'motil': 98, 'nahco': 99, 'neo': 100, 'zero': 101, 'morgu': 102, 'triadyn': 103, 'town': 104, 'bairhugg': 105, 'discoordin': 106, 'circuit': 107, 'syre': 108, 'paco': 109, 'bank': 110, 'rabbi': 111, 'absorb': 112, 'prayer': 113, 'escal': 114, 'autopsi': 115, \"tf'ing\": 116, 'sml': 117, 'norepi': 118, 'hunger': 119, 'unstabl': 120, 'mind': 121, 'hung': 122, 'dopamin': 123, 'polici': 124, 'intiat': 125, 'palli': 126, 'moan': 127, 'canton': 128, 'readdress': 129, 'anuria': 130, 'dobutamin': 131, 'underneath': 132, 'gurgl': 133, 'hospic': 134, 'oncologist': 135, 'platlet': 136, 'platelet': 137, 'quadrent': 138, 'gut': 139, 'core': 140, 'oligur': 141, 'griev': 142, 'cardiovert': 143, 'cisatracurium': 144, 'twitch': 145, 'plat': 146, 'crt': 147, 'liw': 148, 'sacrament': 149, 'grave': 150, 'heroic': 151, 'occupi': 152, 'struggl': 153, 'opinion': 154, 'icter': 155, 'gentamycin': 156, 'themselv': 157, 'fibrinogen': 158, 'tubular': 159, 'pplat': 160, 'mean': 161, 'ardsnet': 162, 'sibl': 163, 'vasoconstrict': 164, 'gasp': 165, 'hook': 166, 'tran': 167, 'realist': 168, 'aricept': 169, 'analgesia': 170, 'dorsal': 171, 'declar': 172, 'prioriti': 173, 'dysynchron': 174, 'sluggishli': 175, 'ipf': 176, 'goodbi': 177, 'harm': 178, 'petechia': 179, 'hemodynim': 180, 'underpenetr': 181, 'ggt': 182, 'led': 183, 'pastor': 184, 'chlorhex': 185, 'ind': 186, 'abnl': 187, 'oob': 188, 'ambien': 189, 'gait': 190, 'chair': 191, 'commod': 192, 'pleasant': 193, 'ambul': 194, 'splint': 195, 'rm': 196, 'supervi': 197, 'lift': 198, 'puff': 199, 'breakfast': 200, 'lat': 201, 'db': 202, 'aox': 203, 'lpm': 204, 'cup': 205, 'foci': 206, 'venti': 207, 'hyperinten': 208, 'laryng': 209, 'chip': 210, 'jejunum': 211, 'plate': 212, 'qtc': 213, 'jewelri': 214, 'cloth': 215, 'cash': 216, 'money': 217, 'wallet': 218, 'signatur': 219, 'dz': 220, 'pharyng': 221, 'zyprexa': 222, 'redirect': 223, 'behavior': 224, 'hilum': 225, 'align': 226, 'rehabilit': 227, 'lotion': 228, 'macu': 229, 'stair': 230, 'bottl': 231, 'probe': 232, 'muir': 233, 'locomot': 234, 'passi': 235, 'rpe': 236, 'unassist': 237, 'scab': 238, 'mellitu': 239, 'distanc': 240, 'cg': 241, 'motor': 242, 'mrg': 243, 'deflat': 244, 'ntnd': 245, 'olanzapin': 246, 'captopril': 247, 'scar': 248, 'im': 249, 'gadolinium': 250, 'pneumococc': 251, 'magnevist': 252, 'osa': 253, 'forc': 254, 'spiromet': 255, 'incent': 256, 'barium': 257, 'postop': 258, 'seroquel': 259, 'video': 260, 'sensat': 261, 'nectar': 262, 'asthma': 263, 'sweat': 264, 'amb': 265, 'pivot': 266, 'lighthead': 267, 'dizzi': 268, 'wfl': 269, 'readmit': 270, 'endur': 271, 'bromid': 272, 'ctx': 273, 'angri': 274, 'paperwork': 275, 'freeli': 276, 'rigor': 277, 'solut': 278, 'diaphoresi': 279, 'ppd': 280, 'omeprazol': 281, 'silent': 282, 'divi': 283, 'pneumothorac': 284, 'gabapentin': 285, 'aaox': 286, 'habitu': 287, 'spirit': 288, 'vallecula': 289, 'homogen': 290, 'unavail': 291, 'fatti': 292, 'hive': 293, 'tdi': 294, 'echocardiogram': 295, 'cdb': 296, 'seat': 297, 'videofluoroscopi': 298, 'slice': 299}\n"
     ]
    }
   ],
   "source": [
    "\"\"\"function description:\n",
    "generates frequent word set for the disease\n",
    "\"\"\"\n",
    "word_dict = {}\n",
    "word_id = 1\n",
    "stemmer = PorterStemmer()\n",
    "\n",
    "\n",
    "for word in FREQUENT_WORD_LIST:\n",
    "    if not word == \"WORD\":\n",
    "        word_dict[stemmer.stem(word.strip())] = word_id\n",
    "        word_id += 1\n",
    "             \n",
    "print(\"\\nword dictionary created!\\n\")\n",
    "print(word_dict)\n"
   ]
  },
  {
   "cell_type": "markdown",
   "metadata": {},
   "source": [
    "### Implementetion with python for FP_growth"
   ]
  },
  {
   "cell_type": "code",
   "execution_count": null,
   "metadata": {
    "scrolled": true
   },
   "outputs": [
    {
     "name": "stderr",
     "output_type": "stream",
     "text": [
      "100%|██████████| 11895/11895 [01:32<00:00, 128.64it/s]\n",
      "  0%|          | 12/46134 [00:00<06:33, 117.19it/s]"
     ]
    },
    {
     "name": "stdout",
     "output_type": "stream",
     "text": [
      "FP growth input for pneumonia_dead generated!\n"
     ]
    },
    {
     "name": "stderr",
     "output_type": "stream",
     "text": [
      "  3%|▎         | 1609/46134 [00:10<07:06, 104.41it/s]"
     ]
    }
   ],
   "source": [
    "# http://rasbt.github.io/mlxtend/user_guide/frequent_patterns/fpgrowth/\n",
    "import os\n",
    "import operator\n",
    "from pathlib import Path\n",
    "from mlxtend.frequent_patterns import fpgrowth\n",
    "from mlxtend.preprocessing import TransactionEncoder\n",
    "import pandas as pd\n",
    "\n",
    "# ----\n",
    "def fp_growth_input_per_patient_python(disease_name, disease_df, word_dict, min_support, label):\n",
    "    \n",
    "    # For dataframe\n",
    "    patient_id_lst = []\n",
    "    patient_cooc_lst = []\n",
    "    patient_cooc_minsup_lst = []\n",
    "    patient_label_lst = []\n",
    "    patient_note_cnt = []\n",
    "    \n",
    "    # --------------    \n",
    "    patient_id = -1\n",
    "    note_cnt = 0\n",
    "    patient_note_list = []\n",
    "    \n",
    "    # read line in from file (each line is one note)\n",
    "    for index, row in tqdm(disease_df.iterrows(), total=disease_df.shape[0]):\n",
    "        \n",
    "        # only regard certain type of notes\n",
    "        patient_id_check = int(row['SUBJECT_ID_x'])\n",
    "        note = re.sub(r'\\[\\*\\*(.*?)\\*\\*\\]|[_,\\d\\*:~=\\.\\-\\+\\\\/]+', ' ', row['TEXT'])\n",
    "        patient_word_set = set()\n",
    "    \n",
    "#         print(f\"patient_id_check: {patient_id_check}, patient_id: {patient_id}\")\n",
    "        # if patient id has changed, end sequence and start new sequence\n",
    "        if not patient_id == patient_id_check and not patient_id == -1:\n",
    "            te = TransactionEncoder()\n",
    "            te_ary = te.fit(patient_note_list).transform(patient_note_list)\n",
    "            df = pd.DataFrame(te_ary, columns=te.columns_)\n",
    "            df_itemsets = fpgrowth(df, min_support=min_support, use_colnames=True)\n",
    "            \n",
    "            cooc_tmp = []\n",
    "            cooc_minsup_tmp = []\n",
    "            \n",
    "            for index, row in df_itemsets.iterrows():\n",
    "                if len(row['itemsets']) == 2:\n",
    "                    cooc_tmp.append(list(row['itemsets']))\n",
    "                    cooc_minsup_tmp.append(row['support'])\n",
    "                    \n",
    "            \n",
    "            # Update glob lists\n",
    "            patient_id_lst.append(patient_id)\n",
    "            patient_cooc_lst.append(cooc_tmp)\n",
    "            patient_cooc_minsup_lst.append(cooc_minsup_tmp)\n",
    "            patient_label_lst.append(label)\n",
    "            patient_note_cnt.append(note_cnt)\n",
    "            \n",
    "            # Reset local lists\n",
    "            patient_note_list = []\n",
    "            note_cnt = 0\n",
    "                    \n",
    "        # update patient id\n",
    "        patient_id = patient_id_check\n",
    "        tokenized_note = word_tokenize(note)\n",
    "        note_cnt += 1\n",
    "\n",
    "        # loop through each word in note to count word belonging to each disease\n",
    "        for word in tokenized_note:\n",
    "            stemmed_word = stemmer.stem(word.lower())       \n",
    "            if stemmed_word in word_dict:\n",
    "                    patient_word_set.add(stemmed_word)\n",
    "\n",
    "        templst = []\n",
    "        for word in patient_word_set:\n",
    "            templst.append(word)\n",
    "\n",
    "        if templst:\n",
    "            patient_note_list.append(templst)\n",
    "    \n",
    "    # Last patient info\n",
    "    te = TransactionEncoder()\n",
    "    te_ary = te.fit(patient_note_list).transform(patient_note_list)\n",
    "    df = pd.DataFrame(te_ary, columns=te.columns_)\n",
    "    df_itemsets = fpgrowth(df, min_support=min_support, use_colnames=True)\n",
    "            \n",
    "    cooc_tmp = []\n",
    "    cooc_minsup_tmp = []\n",
    "            \n",
    "    for index, row in df_itemsets.iterrows():\n",
    "        if len(row['itemsets']) == 2:\n",
    "            cooc_tmp.append(row['itemsets'])\n",
    "            cooc_minsup_tmp.append(row['support'])\n",
    "                    \n",
    "            \n",
    "    # Update glob lists\n",
    "    patient_id_lst.append(patient_id)\n",
    "    patient_cooc_lst.append(cooc_tmp)\n",
    "    patient_cooc_minsup_lst.append(cooc_minsup_tmp)\n",
    "    patient_label_lst.append(label)\n",
    "    patient_note_cnt.append(note_cnt)\n",
    "    \n",
    "#     print(f\"patient_id_lst: {len(patient_id_lst)} patient_cooc_lst: {len(patient_cooc_lst)} patient_cooc_minsup_lst: {len(patient_cooc_minsup_lst)} patient_label_lst: {len(patient_label_lst)} patient_note_cnt: {len(patient_note_cnt)}\")\n",
    "    print(\"FP growth input for \" + disease_name + \" generated!\")\n",
    "    return pd.DataFrame({\"patient_id\":patient_id_lst, \"patient_cooc\":patient_cooc_lst, \"cooc_minsup\":patient_cooc_minsup_lst, \"label\":patient_label_lst, \"note_cnt\":patient_note_cnt})\n",
    "\n",
    "pneumonia_dead_cooc_df = fp_growth_input_per_patient_python(\"pneumonia_dead\", pneumonia_dead_no_disch, word_dict, 0.4, -1)\n",
    "pneumonia_alive_cooc_df = fp_growth_input_per_patient_python(\"pneumonia_alive\", pneumonia_alive_no_disch, word_dict, 0.4, 1)"
   ]
  },
  {
   "cell_type": "code",
   "execution_count": null,
   "metadata": {
    "scrolled": true
   },
   "outputs": [],
   "source": [
    "pneumonia_dead_cooc_df"
   ]
  },
  {
   "cell_type": "code",
   "execution_count": null,
   "metadata": {},
   "outputs": [],
   "source": [
    "cnt_ = 0\n",
    "for i, (index, row) in enumerate(pneumonia_dead_cooc_df.iterrows()):\n",
    "    if row['patient_cooc']:\n",
    "        cnt_ += 1\n",
    "print(cnt_)\n",
    "# 230 min_sup = 0.1\n",
    "# 74 min_sup = 0.4\n",
    "# 94 min_sup = 0.3"
   ]
  },
  {
   "cell_type": "code",
   "execution_count": null,
   "metadata": {},
   "outputs": [],
   "source": [
    "pneumonia_alive_cooc_df"
   ]
  },
  {
   "cell_type": "code",
   "execution_count": null,
   "metadata": {},
   "outputs": [],
   "source": [
    "cnt_ = 0\n",
    "for i, (index, row) in enumerate(pneumonia_alive_cooc_df.iterrows()):\n",
    "    if row['patient_cooc']:\n",
    "        cnt_ += 1\n",
    "print(cnt_)\n",
    "# 763 min_sup = 0.1\n",
    "# 230 min_sup = 0.4\n",
    "# 381 min_sup = 0.3"
   ]
  },
  {
   "cell_type": "code",
   "execution_count": null,
   "metadata": {},
   "outputs": [],
   "source": []
  },
  {
   "cell_type": "code",
   "execution_count": null,
   "metadata": {},
   "outputs": [],
   "source": []
  },
  {
   "cell_type": "code",
   "execution_count": null,
   "metadata": {},
   "outputs": [],
   "source": []
  },
  {
   "cell_type": "markdown",
   "metadata": {},
   "source": [
    "### Train the model"
   ]
  },
  {
   "cell_type": "code",
   "execution_count": null,
   "metadata": {},
   "outputs": [],
   "source": [
    "import pandas as pd\n",
    "import numpy as np\n",
    "\n",
    "import stellargraph as sg\n",
    "from stellargraph.mapper import PaddedGraphGenerator\n",
    "from stellargraph.layer import GCNSupervisedGraphClassification\n",
    "from stellargraph import StellarGraph\n",
    "\n",
    "from stellargraph import datasets\n",
    "\n",
    "from sklearn import model_selection\n",
    "from IPython.display import display, HTML\n",
    "\n",
    "from tensorflow.keras import Model\n",
    "from tensorflow.keras.optimizers import Adam\n",
    "from tensorflow.keras.layers import Dense\n",
    "from tensorflow.keras.losses import binary_crossentropy\n",
    "from tensorflow.keras.callbacks import EarlyStopping\n",
    "import tensorflow as tf\n",
    "import matplotlib.pyplot as plt"
   ]
  },
  {
   "cell_type": "code",
   "execution_count": null,
   "metadata": {},
   "outputs": [],
   "source": [
    "# https://medium.com/@kegui/how-do-i-know-i-am-running-keras-model-on-gpu-a9cdcc24f986\n",
    "from tensorflow.python.client import device_lib\n",
    "print(device_lib.list_local_devices())"
   ]
  },
  {
   "cell_type": "markdown",
   "metadata": {},
   "source": [
    "### Load the data"
   ]
  },
  {
   "cell_type": "code",
   "execution_count": null,
   "metadata": {},
   "outputs": [],
   "source": [
    "from stellargraph import StellarGraph\n",
    "\n",
    "def create_graph_list(pd_df):\n",
    "    graphs = []\n",
    "    labels = []\n",
    "\n",
    "    for index, row in pd_df.iterrows():\n",
    "        if row['patient_cooc']:\n",
    "            source = []\n",
    "            target = []\n",
    "            for cooc in row['patient_cooc']:\n",
    "                source.append(cooc[0])\n",
    "                target.append(cooc[1])\n",
    "            \n",
    "            square_edges = pd.DataFrame({\"source\": source, \"target\": target})\n",
    "            square = StellarGraph(edges=square_edges)\n",
    "            graphs.append(square)\n",
    "            labels.append(row['label'])\n",
    "    return graphs, labels\n",
    "\n",
    "graphs = []\n",
    "labels = []\n",
    "\n",
    "graph_1, label_1 = create_graph_list(pneumonia_dead_cooc_df)\n",
    "graph_2, label_2= create_graph_list(pneumonia_alive_cooc_df)\n",
    "\n",
    "graphs.extend(graph_1)\n",
    "labels.extend(label_1)\n",
    "print(f\"graphs: {len(graphs)}, labels: {len(graphs)}\")\n",
    "graphs.extend(graph_2)\n",
    "labels.extend(label_2)\n",
    "print(f\"graphs: {len(graphs)}, labels: {len(graphs)}\")"
   ]
  },
  {
   "cell_type": "code",
   "execution_count": null,
   "metadata": {},
   "outputs": [],
   "source": [
    "print(graphs[0].info())"
   ]
  },
  {
   "cell_type": "code",
   "execution_count": null,
   "metadata": {},
   "outputs": [],
   "source": [
    "print(graphs[1].info())"
   ]
  },
  {
   "cell_type": "code",
   "execution_count": null,
   "metadata": {},
   "outputs": [],
   "source": [
    "summary = pd.DataFrame(\n",
    "    [(g.number_of_nodes(), g.number_of_edges()) for g in graphs],\n",
    "    columns=[\"nodes\", \"edges\"],\n",
    ")\n",
    "summary.describe().round(1)"
   ]
  },
  {
   "cell_type": "code",
   "execution_count": null,
   "metadata": {},
   "outputs": [],
   "source": [
    "graph_labels.value_counts().to_frame()"
   ]
  },
  {
   "cell_type": "code",
   "execution_count": null,
   "metadata": {},
   "outputs": [],
   "source": []
  },
  {
   "cell_type": "code",
   "execution_count": null,
   "metadata": {},
   "outputs": [],
   "source": []
  },
  {
   "cell_type": "code",
   "execution_count": null,
   "metadata": {},
   "outputs": [],
   "source": []
  },
  {
   "cell_type": "code",
   "execution_count": null,
   "metadata": {},
   "outputs": [],
   "source": []
  },
  {
   "cell_type": "code",
   "execution_count": null,
   "metadata": {},
   "outputs": [],
   "source": []
  },
  {
   "cell_type": "markdown",
   "metadata": {},
   "source": [
    "### Implementation for spmf java"
   ]
  },
  {
   "cell_type": "code",
   "execution_count": null,
   "metadata": {},
   "outputs": [],
   "source": [
    "import operator\n",
    "\n",
    "\"\"\"function description:\n",
    "generates patient word itemset for each disease\n",
    "\"\"\"\n",
    "# # define stemmer\n",
    "# stemmer = PorterStemmer()\n",
    "\n",
    "def generate_FP_input_per_note(disease_name, disease_df, word_dict):\n",
    "    with open(disease_name, \"w\") as output_fp:\n",
    "\n",
    "        # write the coverted dic for the text\n",
    "        # od = collections.OrderedDict(sorted(word_dict.items()))\n",
    "        od = sorted(word_dict.items(), key = operator.itemgetter(1))\n",
    "        output_fp.write(\"@CONVERTED_FROM_TEXT\")\n",
    "        output_fp.write(\"\\n\")\n",
    "        # for k, v in od.iteritems():\n",
    "        for k,v in od:\n",
    "            output_fp.write(\"@ITEM=\")\n",
    "            output_fp.write(str(v))\n",
    "            output_fp.write(\"=\")\n",
    "            output_fp.write(str(k))\n",
    "            output_fp.write(\"\\n\")\n",
    "\n",
    "        # read line in from file (each line is one note)\n",
    "        for index, row in tqdm(disease_df.iterrows(), total=disease_df.shape[0]):\n",
    "            # if not \"Physician\" in line[4]:\n",
    "            #     continue\n",
    "                    \n",
    "            word_set = set()\n",
    "            note = row['TEXT']\n",
    "\n",
    "            tokenized_note = word_tokenize(note)\n",
    "\n",
    "            # loop through each word in note to count word belonging to each disease\n",
    "            for word in tokenized_note:\n",
    "                stemmed_word = stemmer.stem(word.lower())\n",
    "                if stemmed_word in word_dict:\n",
    "                    word_set.add(stemmed_word)\n",
    "\n",
    "            templst = []\n",
    "            for word in word_set:\n",
    "                templst.append(word_dict[word])\n",
    "\n",
    "            templst.sort()\n",
    "            for x in range(len(templst) - 1):\n",
    "                output_fp.write(str(templst[x]) + \" \")\n",
    "\n",
    "            if templst:\n",
    "                output_fp.write(str(templst[len(templst)-1]))\n",
    "                output_fp.write(\"\\n\")\n",
    "            \n",
    "    print(\"FP growth input for \" + disease_name + \" generated!\")\n",
    "\n",
    "# Given as a parameter\n",
    "generate_FP_input_per_note(\"pneumonia_dead\", pneumonia_dead_no_disch, word_dict)\n",
    "generate_FP_input_per_note(\"pneumonia_alive\", pneumonia_alive_no_disch, word_dict)\n"
   ]
  },
  {
   "cell_type": "code",
   "execution_count": null,
   "metadata": {},
   "outputs": [],
   "source": []
  },
  {
   "cell_type": "code",
   "execution_count": null,
   "metadata": {},
   "outputs": [],
   "source": []
  },
  {
   "cell_type": "code",
   "execution_count": null,
   "metadata": {},
   "outputs": [],
   "source": []
  },
  {
   "cell_type": "code",
   "execution_count": null,
   "metadata": {},
   "outputs": [],
   "source": [
    "import os\n",
    "import operator\n",
    "from pathlib import Path\n",
    "\n",
    "# ----\n",
    "def fp_growth_input_per_patient(disease_name, disease_df, word_dict):\n",
    "    \n",
    "    disease_path = os.path.join(\"./tmp\", disease_name, \"inputs\")\n",
    "    if not os.path.exists(disease_path):\n",
    "        os.makedirs(disease_path)\n",
    "        \n",
    "    patient_id = -1\n",
    "#     patient_word_set = set()\n",
    "    patient_note_list = []\n",
    "    \n",
    "    # read line in from file (each line is one note)\n",
    "    for index, row in tqdm(disease_df.iterrows(), total=disease_df.shape[0]):\n",
    "        # only regard certain type of notes\n",
    "        patient_id_check = int(row['SUBJECT_ID_x'])\n",
    "        note = re.sub(r'\\[\\*\\*(.*?)\\*\\*\\]|[_,\\d\\*:~=\\.\\-\\+\\\\/]+', ' ', row['TEXT'])\n",
    "        patient_word_set = set()\n",
    "    \n",
    "#         print(f\"patient_id_check: {patient_id_check}, patient_id: {patient_id}\")\n",
    "        # if patient id has changed, end sequence and start new sequence\n",
    "        if not patient_id == patient_id_check and not patient_id == -1:\n",
    "        \n",
    "#             disease_path = \"./tmp/\" + disease_name\n",
    "            file_name = str(patient_id) + '_' + disease_name\n",
    "            file_path = os.path.join(disease_path, file_name)\n",
    "            \n",
    "            with open(file_path, \"w\") as output_fp:\n",
    "                # write the coverted dic for the text\n",
    "                # od = collections.OrderedDict(sorted(word_dict.items()))\n",
    "    \n",
    "                od = sorted(word_dict.items(), key = operator.itemgetter(1))\n",
    "                output_fp.write(\"@CONVERTED_FROM_TEXT\")\n",
    "                output_fp.write(\"\\n\")\n",
    "                # for k, v in od.iteritems():\n",
    "                for k,v in od:\n",
    "                    output_fp.write(\"@ITEM=\")\n",
    "                    output_fp.write(str(v))\n",
    "                    output_fp.write(\"=\")\n",
    "                    output_fp.write(str(k))\n",
    "                    output_fp.write(\"\\n\")\n",
    "\n",
    "                for item in patient_note_list:\n",
    "                    for x in range(len(item) - 1):\n",
    "                        output_fp.write(str(item[x]) + \" \")\n",
    "\n",
    "                    if item:\n",
    "                        output_fp.write(str(item[len(item)-1]))\n",
    "                        output_fp.write(\"\\n\")\n",
    "\n",
    "                patient_note_list = []\n",
    "                \n",
    "\n",
    "                    \n",
    "        # update patient id\n",
    "        patient_id = patient_id_check\n",
    "        tokenized_note = word_tokenize(note)\n",
    "\n",
    "        # loop through each word in note to count word belonging to each disease\n",
    "        for word in tokenized_note:\n",
    "            stemmed_word = stemmer.stem(word.lower())       \n",
    "            if stemmed_word in word_dict:\n",
    "                    patient_word_set.add(stemmed_word)\n",
    "\n",
    "        templst = []\n",
    "        for word in patient_word_set:\n",
    "            templst.append(word_dict[word])\n",
    "\n",
    "        templst.sort()\n",
    "        patient_note_list.append(templst)\n",
    "        \n",
    "            \n",
    "    print(\"FP growth input for \" + disease_name + \" generated!\")\n",
    "\n",
    "fp_growth_input_per_patient(\"pneumonia_dead\", pneumonia_dead_no_disch, word_dict)\n",
    "fp_growth_input_per_patient(\"pneumonia_alive\", pneumonia_alive_no_disch, word_dict)\n",
    "\n"
   ]
  },
  {
   "cell_type": "code",
   "execution_count": null,
   "metadata": {},
   "outputs": [],
   "source": [
    "import os, subprocess\n",
    "print(os.getcwd())\n",
    "os.system('ls -l')\n",
    "# process = subprocess.Popen([\"java -jar spmf run FPGrowth_itemsets pneumonia_dead FP_out_test 3%\"])\n",
    "# process.wait()"
   ]
  },
  {
   "cell_type": "code",
   "execution_count": null,
   "metadata": {
    "scrolled": true
   },
   "outputs": [],
   "source": [
    "import os, subprocess\n",
    "from tqdm import tqdm\n",
    "def fp_growth_output_per_pratient(disease_name):\n",
    "#     spmf = ['java', '-jar', 'spmf.jar', 'run', 'FPGrowth_itemsets']\n",
    "    minsup = '70%'\n",
    "    inputdir = os.path.join(\"./tmp\", disease_name, \"inputs\")\n",
    "    \n",
    "    outputdir = os.path.join(\"./tmp\", disease_name, \"outputs\")\n",
    "    if not os.path.exists(outputdir):\n",
    "        os.makedirs(outputdir)\n",
    "        \n",
    "    for patient_file in tqdm(os.listdir(inputdir)):\n",
    "#         print(patient_file)\n",
    "        input_ = os.path.join(inputdir, patient_file)\n",
    "        output_ = os.path.join(outputdir, patient_file)\n",
    "#         print(f\"input_: {input_}\")\n",
    "#         print(f\"output_: {output_}\")\n",
    "        command = ['java', '-jar', 'spmf.jar', 'run', 'FPGrowth_itemsets', input_, output_, minsup]\n",
    "#         print(f\"command: {command}\")\n",
    "        subprocess.call(command)\n",
    "\n",
    "        \n",
    "\n",
    "fp_growth_output_per_pratient(\"pneumonia_dead\")\n",
    "fp_growth_output_per_pratient(\"pneumonia_alive\")\n",
    "    "
   ]
  },
  {
   "cell_type": "code",
   "execution_count": null,
   "metadata": {
    "scrolled": true
   },
   "outputs": [],
   "source": [
    "def findItemSets(fileName, length_OfItemSet):\n",
    "\n",
    "    file_read = fileName\n",
    "    lengthOfItemSet = int(length_OfItemSet)\n",
    "\n",
    "    wordlst = []\n",
    "    with open(file_read, \"r\") as fp:\n",
    "        for line in fp:\n",
    "            line = line.split()\n",
    "            if line:\n",
    "                wordlst.append(line)\n",
    "\n",
    "    coocurrencies = []\n",
    "\n",
    "    for listitem in wordlst:\n",
    "\n",
    "        if len(listitem) == (lengthOfItemSet + 2):\n",
    "            coocurrencies.append(listitem)\n",
    "\n",
    "    output = sorted(coocurrencies, key=lambda x: int(x[-1]))\n",
    "\n",
    "\n",
    "    for x in reversed(output):\n",
    "        if lengthOfItemSet == 2:\n",
    "            print(\"%s %s %s\" % (x[0], x[1], x[3]))\n",
    "        elif lengthOfItemSet == 3:\n",
    "            print(\"%s %s %s %s\" % (x[0], x[1], x[2], x[4]))\n",
    "        elif lengthOfItemSet == 4:\n",
    "            print(\"%s %s %s %s %s\" % (x[0], x[1], x[2], x[3], x[5]))\n",
    "        elif lengthOfItemSet == 5:\n",
    "            print(\"%s %s %s %s %s %s\" % (x[0], x[1], x[2], x[3], x[4], x[6]))\n",
    "            \n",
    "# findItemSets('FP_growth_pneumonia_alive_output.txt', 2)\n",
    "findItemSets('./tmp/111_out.txt', 2)"
   ]
  },
  {
   "cell_type": "code",
   "execution_count": null,
   "metadata": {},
   "outputs": [],
   "source": []
  }
 ],
 "metadata": {
  "kernelspec": {
   "display_name": "Python 3",
   "language": "python",
   "name": "python3"
  },
  "language_info": {
   "codemirror_mode": {
    "name": "ipython",
    "version": 3
   },
   "file_extension": ".py",
   "mimetype": "text/x-python",
   "name": "python",
   "nbconvert_exporter": "python",
   "pygments_lexer": "ipython3",
   "version": "3.7.6"
  }
 },
 "nbformat": 4,
 "nbformat_minor": 4
}
